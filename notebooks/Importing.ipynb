{
 "cells": [
  {
   "cell_type": "markdown",
   "metadata": {
    "button": false,
    "new_sheet": false,
    "run_control": {
     "read_only": false
    }
   },
   "source": [
    "# Using Debuggingbook Code in your own Programs\n",
    "\n",
    "This notebook has instructions on how to use the debuggingbook code in your own programs."
   ]
  },
  {
   "cell_type": "markdown",
   "metadata": {},
   "source": [
    "## Can I import the code for my own Python projects?\n",
    "\n",
    "Yes, you can!  (If you like Python, that is.)  We provide a `debuggingbook` Python package that you can install using the `pip` package manager:\n",
    "\n",
    "```shell\n",
    "$ pip install debuggingbook\n",
    "```\n",
    "\n",
    "Once this is installed, you can import individual classes, constants, or functions from each notebook using\n",
    "\n",
    "```python\n",
    ">>> from debuggingbook.<notebook> import <identifier>\n",
    "```\n",
    "\n",
    "where `<identifier>` is the name of the class, constant, or function to use, and `<notebook>` is the name of the respective notebook.  (If you read this at debuggingbook.org, then the notebook name is the identifier preceding `\".html\"` in the URL).\n",
    "\n",
    "Here is an example importing `Debugger` from [the chapter on debuggers](Debugger.ipynb), whose notebook name is `Debugger`:\n",
    "\n",
    "```python\n",
    ">>> from debuggingbook.Debugger import Debugger\n",
    ">>> with Debugger():\n",
    "    function_to_be_observed()\n",
    "```\n",
    "\n",
    "The \"Synopsis\" section at the beginning of a chapter gives a short survey on useful code features you can use."
   ]
  },
  {
   "cell_type": "markdown",
   "metadata": {},
   "source": [
    "## Can I use the code from within a Jupyter notebook?\n",
    "\n",
    "Yes, you can!  Once the book is out of beta, you would first install the `debuggingbook` package (as above); you can then access all code right from your notebook.\n",
    "\n",
    "Another way to use the code is to _import the notebooks directly_.  Download the notebooks from the menu.  Then, add your own notebooks into the same folder.  After importing `bookutils`, you can then simply import the code from other notebooks, just as our own notebooks do.\n",
    "\n",
    "Here is again the above example, importing `Debugger` from [the chapter on debuggers](Debugger.ipynb) – but now from a notebook:"
   ]
  },
  {
   "cell_type": "code",
   "execution_count": null,
   "metadata": {},
   "outputs": [],
   "source": [
    "import bookutils"
   ]
  },
  {
   "cell_type": "code",
   "execution_count": null,
   "metadata": {},
   "outputs": [],
   "source": [
    "from Debugger import Debugger"
   ]
  },
  {
   "cell_type": "code",
   "execution_count": null,
   "metadata": {},
   "outputs": [],
   "source": [
    "with Debugger():\n",
    "    x = 1 + 1"
   ]
  },
  {
   "cell_type": "markdown",
   "metadata": {},
   "source": [
    "If you'd like to share your notebook, let us know; we can integrate it in the repository or even in the book."
   ]
  },
  {
   "cell_type": "markdown",
   "metadata": {},
   "source": [
    "## Can I check out the code from git and get the latest and greatest?\n",
    "\n",
    "Yes, you can! We have a few continuous integration (CI) workflows running which do exactly that. After cloning the repository from [the project page](https://github.com/uds-se/debuggingbook/) and installing the additional packages (see below), you can `cd` into `notebooks` and start `jupyter` right away!\n",
    "\n",
    "There also is a `Makefile` provided with literally hundreds of targets; most important are the ones we also use in continuous integration:\n",
    "\n",
    "* `make check-imports` checks whether your code is free of syntax errors\n",
    "* `make check-style` checks whether your code is free of type errors\n",
    "* `make check-code` runs all derived code, testing it\n",
    "* `make check-notebooks` runs all notebooks, testing them\n",
    "\n",
    "If you want to contribute to the project, ensure that the above tests run through.\n",
    "\n",
    "The `Makefile` has many more, often experimental, targets. `make markdown` creates a `.md` variant in `markdown/`, and there's also `make word` and `make epub`, which are set to create Word and EPUB variants (with mixed results). Try `make help` for commonly used targets."
   ]
  },
  {
   "cell_type": "markdown",
   "metadata": {},
   "source": [
    "## Can I just run the Python code?  I mean, without notebooks?\n",
    "\n",
    "Yes, you can!  (Although we'd always recommend executing the notebooks instead – they have all the text, and far richer inputs and outputs.)  You can download the code as Python programs; simply select \"Resources → Download Code\" for one chapter or \"Resources → All Code\" for all chapters.  These code files can be executed, yielding (hopefully) the same results as the notebooks.\n",
    "\n",
    "The code files can also be edited if you wish, but (a) they are very obviously generated from notebooks, (b) therefore not much fun to work with, and (c) if you fix any errors, you'll have to back-propagate them to the notebook before you can make a pull request.  Use code files only under severely constrained circumstances."
   ]
  },
  {
   "cell_type": "markdown",
   "metadata": {},
   "source": [
    "## Which other packages do I need to use the Python modules?\n",
    "\n",
    "We have attempted to limit the dependencies to a minimum (sometimes using ugly hacks).  Generally speaking, if you encounter that a module `X` is not found, just do `pip install X`.  Most notebooks only need modules that are part of the standard Python library.\n",
    "\n",
    "For a full list of dependencies, see two sources:\n",
    "\n",
    "* the [`requirements.txt` file within the project root folder](https://github.com/uds-se/debuggingbook/tree/master/); this lists all Python packages required.\n",
    "* the [`apt.txt` file in the `binder/` folder](https://github.com/uds-se/debuggingbook/tree/master/binder); this lists all Linux packages required."
   ]
  },
  {
   "cell_type": "markdown",
   "source": [
    "## Installing the Debuggingbook in an isolated environment\n",
    "\n",
    "If you wish to install the debuggingbook in an environment that is isolated from your system interpreter,\n",
    "we recommend using [Pipenv](https://pipenv.pypa.io/), which can automatically create a so called *virtual environment* hosting all required packages.\n",
    "\n",
    "To accomplish this, please follow these steps:\n",
    "1. Optionally install `pyenv` following the [official instructions](https://github.com/pyenv/pyenv#installation) if you are on a Unix operating system.\n",
    "If you are on Windows, consider using [pyenv-win](https://github.com/pyenv-win/pyenv-win) instead.\n",
    "This will allow you to seamlessly install any version of Python.\n",
    "1. Install Pipenv following the official [installation instructions](https://pipenv.pypa.io/en/latest/install/#installing-pipenv).\n",
    "If you have `pyenv` installed, Pipenv can automatically download and install the appropriate version of the Python distribution.\n",
    "Otherwise, Pipenv will use your system interpreter, which may or may not be the right version.\n",
    "1. Run `pipenv install -r requirements.txt` in the debuggingbook root directory.\n",
    "1. Enter the environment with `pipenv shell`, where you can now execute `make -k check-code` to run the tests.\n"
   ],
   "metadata": {
    "collapsed": false
   }
  }
 ],
 "metadata": {
  "ipub": {
   "bibliography": "fuzzingbook.bib",
   "toc": true
  },
  "kernelspec": {
   "display_name": "Python 3",
   "language": "python",
   "name": "python3"
  },
  "language_info": {
   "codemirror_mode": {
    "name": "ipython",
    "version": 3
   },
   "file_extension": ".py",
   "mimetype": "text/x-python",
   "name": "python",
   "nbconvert_exporter": "python",
   "pygments_lexer": "ipython3",
   "version": "3.6.10"
  },
  "toc": {
   "base_numbering": 1,
   "nav_menu": {},
   "number_sections": true,
   "sideBar": true,
   "skip_h1_title": true,
   "title_cell": "",
   "title_sidebar": "Contents",
   "toc_cell": false,
   "toc_position": {},
   "toc_section_display": true,
   "toc_window_display": true
  },
  "toc-autonumbering": false
 },
 "nbformat": 4,
 "nbformat_minor": 4
}