{
 "cells": [
  {
   "cell_type": "markdown",
   "metadata": {
    "heading_collapsed": true
   },
   "source": [
    "# Second Project"
   ]
  },
  {
   "cell_type": "markdown",
   "metadata": {
    "hidden": true
   },
   "source": [
    "In this project, you will implement a debugging reducer able to reduce a Python program containing a specific property down to a syntactically correct Python program that *only* contains said property.\n",
    "To do this, you will be given several Python parsers checking for specific properties as well as Python programs containing these properties.\n",
    "\n",
    "The time frame for this project is **2 weeks**, and the Deadline is **January 15th 23:59**."
   ]
  },
  {
   "cell_type": "code",
   "execution_count": 2,
   "metadata": {
    "collapsed": false,
    "jupyter": {
     "outputs_hidden": false
    },
    "pycharm": {
     "name": "#%%\n"
    }
   },
   "outputs": [],
   "source": [
    "import bookutils"
   ]
  },
  {
   "cell_type": "code",
   "execution_count": 3,
   "metadata": {
    "hidden": true,
    "pycharm": {
     "name": "#%%\n"
    }
   },
   "outputs": [],
   "source": [
    "import inspect\n",
    "import ast\n",
    "import random\n",
    "import astor\n",
    "import copy\n",
    "from showast import show_ast"
   ]
  },
  {
   "cell_type": "code",
   "execution_count": 4,
   "metadata": {
    "collapsed": false,
    "jupyter": {
     "outputs_hidden": false
    },
    "pycharm": {
     "name": "#%%\n"
    }
   },
   "outputs": [],
   "source": [
    "from ExpectError import ExpectError"
   ]
  },
  {
   "cell_type": "markdown",
   "metadata": {
    "hidden": true,
    "pycharm": {
     "name": "#%% md\n"
    }
   },
   "source": [
    "## Description\n",
    "\n",
    "Imagine, we want to create a new compiler for Python programs which transforms the code into a binary executable.\n",
    "To this end, at first we need to implement a parser that parses a given program into a set of individual statements which can then be converted to the bytecode."
   ]
  },
  {
   "cell_type": "markdown",
   "metadata": {
    "hidden": true,
    "pycharm": {
     "name": "#%% md\n"
    }
   },
   "source": [
    "### Parsing Python  \n",
    "\n",
    "If we want to parse a programming language like Python, it makes sense to parse the code into an abstract syntax tree (AST) and work with the AST from this point onward.\n",
    "The reason we might want to do this, is to preserve the syntactic integrity of our program.\n",
    "Let's start with parsing a simple Python function (`foo`) into an AST using `ast.parse()` and printing it."
   ]
  },
  {
   "cell_type": "code",
   "execution_count": 5,
   "metadata": {},
   "outputs": [],
   "source": [
    "def foo(a, b):\n",
    "    \"\"\"\n",
    "    Checks whether a and b are true\n",
    "    \"\"\"\n",
    "    if a and b:\n",
    "        return 1\n",
    "    return 0"
   ]
  },
  {
   "cell_type": "markdown",
   "metadata": {
    "pycharm": {
     "name": "#%% md\n"
    }
   },
   "source": [
    "We take a string representation of `foo()`..."
   ]
  },
  {
   "cell_type": "code",
   "execution_count": 6,
   "metadata": {},
   "outputs": [],
   "source": [
    "source = inspect.getsource(foo)"
   ]
  },
  {
   "cell_type": "code",
   "execution_count": 7,
   "metadata": {
    "pycharm": {
     "name": "#%%\n"
    }
   },
   "outputs": [
    {
     "name": "stdout",
     "output_type": "stream",
     "text": [
      "def foo(a, b):\n",
      "    \"\"\"\n",
      "    Checks whether a and b are true\n",
      "    \"\"\"\n",
      "    if a and b:\n",
      "        return 1\n",
      "    return 0\n",
      "\n"
     ]
    }
   ],
   "source": [
    "print(source)"
   ]
  },
  {
   "cell_type": "markdown",
   "metadata": {
    "pycharm": {
     "name": "#%% md\n"
    }
   },
   "source": [
    "...and convert it to the AST:"
   ]
  },
  {
   "cell_type": "code",
   "execution_count": 8,
   "metadata": {
    "collapsed": false,
    "jupyter": {
     "outputs_hidden": false
    },
    "pycharm": {
     "name": "#%%\n"
    }
   },
   "outputs": [
    {
     "data": {
      "image/svg+xml": [
       "<svg height=\"332pt\" viewBox=\"0.00 0.00 494.00 332.00\" width=\"494pt\" xmlns=\"http://www.w3.org/2000/svg\" xmlns:xlink=\"http://www.w3.org/1999/xlink\">\n",
       "<g class=\"graph\" id=\"graph0\" transform=\"scale(1 1) rotate(0) translate(4 328)\">\n",
       "<title>%3</title>\n",
       "<polygon fill=\"#ffffff\" points=\"-4,4 -4,-328 490,-328 490,4 -4,4\" stroke=\"transparent\"/>\n",
       "<!-- 0 -->\n",
       "<g class=\"node\" id=\"node1\">\n",
       "<title>0</title>\n",
       "<text fill=\"#004080\" font-family=\"Courier,monospace\" font-size=\"14.00\" font-weight=\"bold\" text-anchor=\"start\" x=\"163.5\" y=\"-303.3\">FunctionDef</text>\n",
       "</g>\n",
       "<!-- 1 -->\n",
       "<g class=\"node\" id=\"node2\">\n",
       "<title>1</title>\n",
       "<text fill=\"#008040\" font-family=\"Courier,monospace\" font-size=\"14.00\" text-anchor=\"middle\" x=\"44\" y=\"-230.3\">&quot;foo&quot;</text>\n",
       "</g>\n",
       "<!-- 0&#45;&#45;1 -->\n",
       "<g class=\"edge\" id=\"edge1\">\n",
       "<title>0--1</title>\n",
       "<path d=\"M208,-288C208,-288 137.1804,-272.1719 83,-252 79.925,-250.8552 76.755,-249.5721 73.6134,-248.2322\" fill=\"none\" stroke=\"#000000\"/>\n",
       "</g>\n",
       "<!-- 2 -->\n",
       "<g class=\"node\" id=\"node3\">\n",
       "<title>2</title>\n",
       "<text fill=\"#004080\" font-family=\"Courier,monospace\" font-size=\"14.00\" font-weight=\"bold\" text-anchor=\"start\" x=\"100\" y=\"-231.3\">arguments</text>\n",
       "</g>\n",
       "<!-- 0&#45;&#45;2 -->\n",
       "<g class=\"edge\" id=\"edge2\">\n",
       "<title>0--2</title>\n",
       "<path d=\"M208,-288C208,-288 182.0063,-267.9478 161.6988,-252.2819\" fill=\"none\" stroke=\"#000000\"/>\n",
       "</g>\n",
       "<!-- 7 -->\n",
       "<g class=\"node\" id=\"node8\">\n",
       "<title>7</title>\n",
       "<text fill=\"#004080\" font-family=\"Courier,monospace\" font-size=\"14.00\" font-weight=\"bold\" text-anchor=\"start\" x=\"234.5\" y=\"-231.3\">If</text>\n",
       "</g>\n",
       "<!-- 0&#45;&#45;7 -->\n",
       "<g class=\"edge\" id=\"edge7\">\n",
       "<title>0--7</title>\n",
       "<path d=\"M208,-288C208,-288 220.9968,-267.9478 231.1506,-252.2819\" fill=\"none\" stroke=\"#000000\"/>\n",
       "</g>\n",
       "<!-- 19 -->\n",
       "<g class=\"node\" id=\"node20\">\n",
       "<title>19</title>\n",
       "<text fill=\"#004080\" font-family=\"Courier,monospace\" font-size=\"14.00\" font-weight=\"bold\" text-anchor=\"start\" x=\"358.5\" y=\"-231.3\">Return</text>\n",
       "</g>\n",
       "<!-- 0&#45;&#45;19 -->\n",
       "<g class=\"edge\" id=\"edge19\">\n",
       "<title>0--19</title>\n",
       "<path d=\"M208,-288C208,-288 299.4167,-259.9517 350.4815,-244.2841\" fill=\"none\" stroke=\"#000000\"/>\n",
       "</g>\n",
       "<!-- 3 -->\n",
       "<g class=\"node\" id=\"node4\">\n",
       "<title>3</title>\n",
       "<text fill=\"#004080\" font-family=\"Courier,monospace\" font-size=\"14.00\" font-weight=\"bold\" text-anchor=\"start\" x=\"27\" y=\"-159.3\">arg</text>\n",
       "</g>\n",
       "<!-- 2&#45;&#45;3 -->\n",
       "<g class=\"edge\" id=\"edge3\">\n",
       "<title>2--3</title>\n",
       "<path d=\"M124,-216C124,-216 91.5964,-195.1691 67.0405,-179.3832\" fill=\"none\" stroke=\"#000000\"/>\n",
       "</g>\n",
       "<!-- 5 -->\n",
       "<g class=\"node\" id=\"node6\">\n",
       "<title>5</title>\n",
       "<text fill=\"#004080\" font-family=\"Courier,monospace\" font-size=\"14.00\" font-weight=\"bold\" text-anchor=\"start\" x=\"99\" y=\"-159.3\">arg</text>\n",
       "</g>\n",
       "<!-- 2&#45;&#45;5 -->\n",
       "<g class=\"edge\" id=\"edge5\">\n",
       "<title>2--5</title>\n",
       "<path d=\"M124,-216C124,-216 119.5439,-195.9478 116.0627,-180.2819\" fill=\"none\" stroke=\"#000000\"/>\n",
       "</g>\n",
       "<!-- 4 -->\n",
       "<g class=\"node\" id=\"node5\">\n",
       "<title>4</title>\n",
       "<text fill=\"#008040\" font-family=\"Courier,monospace\" font-size=\"14.00\" text-anchor=\"middle\" x=\"27\" y=\"-86.3\">&quot;a&quot;</text>\n",
       "</g>\n",
       "<!-- 3&#45;&#45;4 -->\n",
       "<g class=\"edge\" id=\"edge4\">\n",
       "<title>3--4</title>\n",
       "<path d=\"M36.7196,-143.8314C34.7639,-133 32.288,-119.2876 30.3246,-108.4133\" fill=\"none\" stroke=\"#000000\"/>\n",
       "</g>\n",
       "<!-- 6 -->\n",
       "<g class=\"node\" id=\"node7\">\n",
       "<title>6</title>\n",
       "<text fill=\"#008040\" font-family=\"Courier,monospace\" font-size=\"14.00\" text-anchor=\"middle\" x=\"99\" y=\"-86.3\">&quot;b&quot;</text>\n",
       "</g>\n",
       "<!-- 5&#45;&#45;6 -->\n",
       "<g class=\"edge\" id=\"edge6\">\n",
       "<title>5--6</title>\n",
       "<path d=\"M108.7196,-143.8314C106.7639,-133 104.288,-119.2876 102.3246,-108.4133\" fill=\"none\" stroke=\"#000000\"/>\n",
       "</g>\n",
       "<!-- 8 -->\n",
       "<g class=\"node\" id=\"node9\">\n",
       "<title>8</title>\n",
       "<text fill=\"#004080\" font-family=\"Courier,monospace\" font-size=\"14.00\" font-weight=\"bold\" text-anchor=\"start\" x=\"217.5\" y=\"-159.3\">BoolOp</text>\n",
       "</g>\n",
       "<!-- 7&#45;&#45;8 -->\n",
       "<g class=\"edge\" id=\"edge8\">\n",
       "<title>7--8</title>\n",
       "<path d=\"M253,-216C253,-216 249.2866,-195.9478 246.3855,-180.2819\" fill=\"none\" stroke=\"#000000\"/>\n",
       "</g>\n",
       "<!-- 16 -->\n",
       "<g class=\"node\" id=\"node17\">\n",
       "<title>16</title>\n",
       "<text fill=\"#004080\" font-family=\"Courier,monospace\" font-size=\"14.00\" font-weight=\"bold\" text-anchor=\"start\" x=\"328.5\" y=\"-159.3\">Return</text>\n",
       "</g>\n",
       "<!-- 7&#45;&#45;16 -->\n",
       "<g class=\"edge\" id=\"edge16\">\n",
       "<title>7--16</title>\n",
       "<path d=\"M253,-216C253,-216 290.9875,-195.6898 320.3685,-179.9812\" fill=\"none\" stroke=\"#000000\"/>\n",
       "</g>\n",
       "<!-- 9 -->\n",
       "<g class=\"node\" id=\"node10\">\n",
       "<title>9</title>\n",
       "<text fill=\"#008040\" font-family=\"Courier,monospace\" font-size=\"14.00\" text-anchor=\"middle\" x=\"171\" y=\"-86.3\">And</text>\n",
       "</g>\n",
       "<!-- 8&#45;&#45;9 -->\n",
       "<g class=\"edge\" id=\"edge9\">\n",
       "<title>8--9</title>\n",
       "<path d=\"M243,-144C243,-144 216.2637,-123.9478 195.3759,-108.2819\" fill=\"none\" stroke=\"#000000\"/>\n",
       "</g>\n",
       "<!-- 10 -->\n",
       "<g class=\"node\" id=\"node11\">\n",
       "<title>10</title>\n",
       "<text fill=\"#004080\" font-family=\"Courier,monospace\" font-size=\"14.00\" font-weight=\"bold\" text-anchor=\"start\" x=\"226\" y=\"-87.3\">Name</text>\n",
       "</g>\n",
       "<!-- 8&#45;&#45;10 -->\n",
       "<g class=\"edge\" id=\"edge10\">\n",
       "<title>8--10</title>\n",
       "<path d=\"M243,-144C243,-144 243,-123.9478 243,-108.2819\" fill=\"none\" stroke=\"#000000\"/>\n",
       "</g>\n",
       "<!-- 13 -->\n",
       "<g class=\"node\" id=\"node14\">\n",
       "<title>13</title>\n",
       "<text fill=\"#004080\" font-family=\"Courier,monospace\" font-size=\"14.00\" font-weight=\"bold\" text-anchor=\"start\" x=\"298\" y=\"-87.3\">Name</text>\n",
       "</g>\n",
       "<!-- 8&#45;&#45;13 -->\n",
       "<g class=\"edge\" id=\"edge13\">\n",
       "<title>8--13</title>\n",
       "<path d=\"M243,-144C243,-144 269.7363,-123.9478 290.6241,-108.2819\" fill=\"none\" stroke=\"#000000\"/>\n",
       "</g>\n",
       "<!-- 11 -->\n",
       "<g class=\"node\" id=\"node12\">\n",
       "<title>11</title>\n",
       "<text fill=\"#008040\" font-family=\"Courier,monospace\" font-size=\"14.00\" text-anchor=\"middle\" x=\"171\" y=\"-14.3\">&quot;a&quot;</text>\n",
       "</g>\n",
       "<!-- 10&#45;&#45;11 -->\n",
       "<g class=\"edge\" id=\"edge11\">\n",
       "<title>10--11</title>\n",
       "<path d=\"M235,-72C235,-72 211.2344,-51.9478 192.6675,-36.2819\" fill=\"none\" stroke=\"#000000\"/>\n",
       "</g>\n",
       "<!-- 12 -->\n",
       "<g class=\"node\" id=\"node13\">\n",
       "<title>12</title>\n",
       "<text fill=\"#008040\" font-family=\"Courier,monospace\" font-size=\"14.00\" text-anchor=\"middle\" x=\"243\" y=\"-14.3\">Load</text>\n",
       "</g>\n",
       "<!-- 10&#45;&#45;12 -->\n",
       "<g class=\"edge\" id=\"edge12\">\n",
       "<title>10--12</title>\n",
       "<path d=\"M235,-72C235,-72 237.9707,-51.9478 240.2916,-36.2819\" fill=\"none\" stroke=\"#000000\"/>\n",
       "</g>\n",
       "<!-- 14 -->\n",
       "<g class=\"node\" id=\"node15\">\n",
       "<title>14</title>\n",
       "<text fill=\"#008040\" font-family=\"Courier,monospace\" font-size=\"14.00\" text-anchor=\"middle\" x=\"315\" y=\"-14.3\">&quot;b&quot;</text>\n",
       "</g>\n",
       "<!-- 13&#45;&#45;14 -->\n",
       "<g class=\"edge\" id=\"edge14\">\n",
       "<title>13--14</title>\n",
       "<path d=\"M323,-72C323,-72 320.0293,-51.9478 317.7084,-36.2819\" fill=\"none\" stroke=\"#000000\"/>\n",
       "</g>\n",
       "<!-- 15 -->\n",
       "<g class=\"node\" id=\"node16\">\n",
       "<title>15</title>\n",
       "<text fill=\"#008040\" font-family=\"Courier,monospace\" font-size=\"14.00\" text-anchor=\"middle\" x=\"387\" y=\"-14.3\">Load</text>\n",
       "</g>\n",
       "<!-- 13&#45;&#45;15 -->\n",
       "<g class=\"edge\" id=\"edge15\">\n",
       "<title>13--15</title>\n",
       "<path d=\"M323,-72C323,-72 346.7656,-51.9478 365.3325,-36.2819\" fill=\"none\" stroke=\"#000000\"/>\n",
       "</g>\n",
       "<!-- 17 -->\n",
       "<g class=\"node\" id=\"node18\">\n",
       "<title>17</title>\n",
       "<text fill=\"#004080\" font-family=\"Courier,monospace\" font-size=\"14.00\" font-weight=\"bold\" text-anchor=\"start\" x=\"374\" y=\"-87.3\">Num</text>\n",
       "</g>\n",
       "<!-- 16&#45;&#45;17 -->\n",
       "<g class=\"edge\" id=\"edge17\">\n",
       "<title>16--17</title>\n",
       "<path d=\"M362.3273,-143.8314C367.2917,-133 373.5765,-119.2876 378.5606,-108.4133\" fill=\"none\" stroke=\"#000000\"/>\n",
       "</g>\n",
       "<!-- 18 -->\n",
       "<g class=\"node\" id=\"node19\">\n",
       "<title>18</title>\n",
       "<text fill=\"#008040\" font-family=\"Courier,monospace\" font-size=\"14.00\" text-anchor=\"middle\" x=\"459\" y=\"-14.3\">1</text>\n",
       "</g>\n",
       "<!-- 17&#45;&#45;18 -->\n",
       "<g class=\"edge\" id=\"edge18\">\n",
       "<title>17--18</title>\n",
       "<path d=\"M405.1686,-71.8314C416,-61 429.7124,-47.2876 440.5867,-36.4133\" fill=\"none\" stroke=\"#000000\"/>\n",
       "</g>\n",
       "<!-- 20 -->\n",
       "<g class=\"node\" id=\"node21\">\n",
       "<title>20</title>\n",
       "<text fill=\"#004080\" font-family=\"Courier,monospace\" font-size=\"14.00\" font-weight=\"bold\" text-anchor=\"start\" x=\"433\" y=\"-159.3\">Num</text>\n",
       "</g>\n",
       "<!-- 19&#45;&#45;20 -->\n",
       "<g class=\"edge\" id=\"edge20\">\n",
       "<title>19--20</title>\n",
       "<path d=\"M399.6452,-215.8314C408.9722,-205 420.7801,-191.2876 430.1441,-180.4133\" fill=\"none\" stroke=\"#000000\"/>\n",
       "</g>\n",
       "<!-- 21 -->\n",
       "<g class=\"node\" id=\"node22\">\n",
       "<title>21</title>\n",
       "<text fill=\"#008040\" font-family=\"Courier,monospace\" font-size=\"14.00\" text-anchor=\"middle\" x=\"459\" y=\"-86.3\">0</text>\n",
       "</g>\n",
       "<!-- 20&#45;&#45;21 -->\n",
       "<g class=\"edge\" id=\"edge21\">\n",
       "<title>20--21</title>\n",
       "<path d=\"M449.2804,-143.8314C451.2361,-133 453.712,-119.2876 455.6754,-108.4133\" fill=\"none\" stroke=\"#000000\"/>\n",
       "</g>\n",
       "</g>\n",
       "</svg>"
      ],
      "text/plain": [
       "<IPython.core.display.SVG object>"
      ]
     },
     "metadata": {},
     "output_type": "display_data"
    }
   ],
   "source": [
    "source_ast = ast.parse(source)\n",
    "show_ast(source_ast)"
   ]
  },
  {
   "cell_type": "markdown",
   "metadata": {
    "pycharm": {
     "name": "#%% md\n"
    }
   },
   "source": [
    "We can see how the code is structured by inspecting the AST shown above."
   ]
  },
  {
   "cell_type": "markdown",
   "metadata": {},
   "source": [
    "To learn the structure of an AST, have a look at the [official Python `ast` reference](http://docs.python.org/3/library/ast) for a list of AST nodes and their attributes.\n",
    "This reference is complete, but a bit terse; the [\"Green Tree Snakes missing Python AST docs\"](https://greentreesnakes.readthedocs.io/en/latest/manipulating.html) provide a good manual on how to modify the tree."
   ]
  },
  {
   "cell_type": "markdown",
   "metadata": {
    "pycharm": {
     "name": "#%% md\n"
    }
   },
   "source": [
    "If we want to inspect certain elements of the source code, we can now use the `ast.NodeVisitor` to visit every node in the AST.\n",
    "This can be done by extending this class and implementing *visit-methods* for each type of node in the tree we want to inspect.  \n",
    "So, let's implement a parser that first parses the source code into an AST and then visits each node one after another."
   ]
  },
  {
   "cell_type": "code",
   "execution_count": 9,
   "metadata": {
    "hidden": true,
    "pycharm": {
     "name": "#%%\n"
    }
   },
   "outputs": [],
   "source": [
    "class SimpleParser(ast.NodeVisitor):\n",
    "    \"\"\"\n",
    "    A simple parser printing all nodes in order\n",
    "    \"\"\"\n",
    "\n",
    "    def parse(self, file):\n",
    "        \"\"\"\n",
    "        When the parse function is called, we parse the source code\n",
    "        into a tree and then start visiting all nodes.\n",
    "        \"\"\"\n",
    "        tree = ast.parse(source=file)\n",
    "        self.visit(tree)\n",
    "\n",
    "    def visit_FunctionDef(self, node):\n",
    "        print(node)\n",
    "        self.generic_visit(node)\n",
    "\n",
    "    def visit_arguments(self, node):\n",
    "        print(node)\n",
    "        self.generic_visit(node)\n",
    "\n",
    "    def visit_If(self, node):\n",
    "        print(node)\n",
    "        self.generic_visit(node)\n",
    "\n",
    "    def visit_Return(self, node):\n",
    "        print(node)\n",
    "        self.generic_visit(node)\n",
    "\n",
    "    def visit_arg(self, node):\n",
    "        print(node)\n",
    "        self.generic_visit(node)\n",
    "\n",
    "    def visit_Num(self, node):\n",
    "        print(node)\n",
    "        self.generic_visit(node)\n",
    "\n",
    "    def visit_Name(self, node):\n",
    "        print(node)\n",
    "        self.generic_visit(node)\n",
    "\n",
    "    def visit_BoolOp(self, node):\n",
    "        print(node)\n",
    "        self.generic_visit(node)"
   ]
  },
  {
   "cell_type": "markdown",
   "metadata": {
    "pycharm": {
     "name": "#%% md\n"
    }
   },
   "source": [
    "Using this `SimpleParser`, we can visit each node and print the node object itself."
   ]
  },
  {
   "cell_type": "code",
   "execution_count": 10,
   "metadata": {
    "pycharm": {
     "name": "#%%\n"
    }
   },
   "outputs": [
    {
     "name": "stdout",
     "output_type": "stream",
     "text": [
      "<_ast.FunctionDef object at 0x7fe448df6780>\n",
      "<_ast.arguments object at 0x7fe448df67f0>\n",
      "<_ast.arg object at 0x7fe448df67b8>\n",
      "<_ast.arg object at 0x7fe448df6828>\n",
      "<_ast.If object at 0x7fe448df6898>\n",
      "<_ast.BoolOp object at 0x7fe448df68d0>\n",
      "<_ast.Name object at 0x7fe448df66a0>\n",
      "<_ast.Name object at 0x7fe448df66d8>\n",
      "<_ast.Return object at 0x7fe448df6710>\n",
      "<_ast.Num object at 0x7fe448df6940>\n",
      "<_ast.Return object at 0x7fe448df6a20>\n",
      "<_ast.Num object at 0x7fe448df6a58>\n"
     ]
    }
   ],
   "source": [
    "SimpleParser().parse(source)"
   ]
  },
  {
   "cell_type": "markdown",
   "metadata": {
    "pycharm": {
     "name": "#%% md\n"
    }
   },
   "source": [
    "Now imagine, instead of just parsing the input and printing each node, we start to process the information present in each node.\n",
    "To notify the user if anything breaks, we introduce a `ParserException` that is thrown when we encounter a parsing error."
   ]
  },
  {
   "cell_type": "code",
   "execution_count": 11,
   "metadata": {
    "pycharm": {
     "name": "#%%\n"
    }
   },
   "outputs": [],
   "source": [
    "class ParserException(Exception):\n",
    "    pass"
   ]
  },
  {
   "cell_type": "markdown",
   "metadata": {
    "pycharm": {
     "name": "#%% md\n"
    }
   },
   "source": [
    "For instance, let's consider our parser has troubles processing boolean operators.\n",
    "We simulate this behavior by extending our parser to throw an exception whenever it encounters a `BoolOp` node.\n"
   ]
  },
  {
   "cell_type": "code",
   "execution_count": 12,
   "metadata": {
    "pycharm": {
     "name": "#%%\n"
    }
   },
   "outputs": [],
   "source": [
    "class SimpleParserPlus(SimpleParser):\n",
    "    \"\"\"\n",
    "    A simple parser printing all nodes in order until it reaches a BoolOp\n",
    "    \"\"\"\n",
    "\n",
    "    def visit_BoolOp(self, node):\n",
    "        \"\"\"\n",
    "        If a BoolOp is encountered, we throw an exception\n",
    "        \"\"\"\n",
    "        raise ParserException(\"Something went wrong\")"
   ]
  },
  {
   "cell_type": "code",
   "execution_count": 13,
   "metadata": {
    "pycharm": {
     "name": "#%%\n"
    }
   },
   "outputs": [
    {
     "name": "stdout",
     "output_type": "stream",
     "text": [
      "<_ast.FunctionDef object at 0x7fe448d4c3c8>\n",
      "<_ast.arguments object at 0x7fe448d4c208>\n",
      "<_ast.arg object at 0x7fe448d4c198>\n",
      "<_ast.arg object at 0x7fe448d4c710>\n",
      "<_ast.If object at 0x7fe448e040b8>\n"
     ]
    },
    {
     "name": "stderr",
     "output_type": "stream",
     "text": [
      "Traceback (most recent call last):\n",
      "  File \"<ipython-input-13-2281579d96da>\", line 2, in <module>\n",
      "    SimpleParserPlus().parse(source)\n",
      "  File \"<ipython-input-9-83d969da96d7>\", line 11, in parse\n",
      "    self.visit(tree)\n",
      "  File \"/Users/zeller/anaconda3/lib/python3.6/ast.py\", line 253, in visit\n",
      "    return visitor(node)\n",
      "  File \"/Users/zeller/anaconda3/lib/python3.6/ast.py\", line 261, in generic_visit\n",
      "    self.visit(item)\n",
      "  File \"/Users/zeller/anaconda3/lib/python3.6/ast.py\", line 253, in visit\n",
      "    return visitor(node)\n",
      "  File \"<ipython-input-9-83d969da96d7>\", line 15, in visit_FunctionDef\n",
      "    self.generic_visit(node)\n",
      "  File \"/Users/zeller/anaconda3/lib/python3.6/ast.py\", line 261, in generic_visit\n",
      "    self.visit(item)\n",
      "  File \"/Users/zeller/anaconda3/lib/python3.6/ast.py\", line 253, in visit\n",
      "    return visitor(node)\n",
      "  File \"<ipython-input-9-83d969da96d7>\", line 23, in visit_If\n",
      "    self.generic_visit(node)\n",
      "  File \"/Users/zeller/anaconda3/lib/python3.6/ast.py\", line 263, in generic_visit\n",
      "    self.visit(value)\n",
      "  File \"/Users/zeller/anaconda3/lib/python3.6/ast.py\", line 253, in visit\n",
      "    return visitor(node)\n",
      "  File \"<ipython-input-12-336a87e01254>\", line 10, in visit_BoolOp\n",
      "    raise ParserException(\"Something went wrong\")\n",
      "ParserException: Something went wrong (expected)\n"
     ]
    }
   ],
   "source": [
    "with ExpectError():\n",
    "    SimpleParserPlus().parse(source)\n"
   ]
  },
  {
   "cell_type": "markdown",
   "metadata": {},
   "source": [
    "As we can see here, as soon as we encounter a boolean operation, an exception is thrown."
   ]
  },
  {
   "cell_type": "markdown",
   "metadata": {
    "pycharm": {
     "name": "#%% md\n"
    }
   },
   "source": [
    "### Reducing Python\n",
    "\n",
    "Let's get back to our `SimpleParserPlus` example. This parser parses Python code into an AST and then iterates over all nodes. When it reaches a boolean operation, it encounters an error and crashes.  \n",
    "Of course our example is a very small and artificial one. Furthermore, the input triggering our bug is rather small as well.\n",
    "However, in reality a similar situation might present itself to you but with a far less obvious error and a far larger input that causes it.\n",
    "In this case, instead of using the entire input, one might want to reduce the input down to only those parts actually causing the error.  \n",
    "But how do we do that?  \n",
    "We could, for instance, randomly remove some parts of the program.\n",
    "However, this would likely produce syntactically invalid Python code and hence prevent the parser from reaching the desired code location.\n",
    "So instead of just removing random parts of the code itself, we will manipulate the AST to preserve the correct syntax.\n",
    "\n",
    "How do we manipulate an AST produced by `ast.parse`? We can make use of the `ast.NodeTransformer`:"
   ]
  },
  {
   "cell_type": "code",
   "execution_count": 14,
   "metadata": {
    "pycharm": {
     "name": "#%%\n"
    }
   },
   "outputs": [],
   "source": [
    "class NodeReducer(ast.NodeTransformer):\n",
    "\n",
    "    def visit_If(self, node):\n",
    "        \"\"\"\n",
    "        Instead of the `if` node return just its condition\n",
    "        \"\"\"\n",
    "        # Apply other transformations to the children first\n",
    "        super().generic_visit(node)\n",
    "\n",
    "        # We create an expression around the node test\n",
    "        new_node = ast.Expr(node.test)\n",
    "        return new_node"
   ]
  },
  {
   "cell_type": "markdown",
   "metadata": {
    "pycharm": {
     "name": "#%% md\n"
    }
   },
   "source": [
    "The `ast.NodeTransformer` again uses the visitor pattern to walk over all nodes.\n",
    "This time, however, we change the resulting AST. In our case, if we encounter an *if-statement* we only return the condition.   \n",
    "\n",
    "(Keep in mind, `NodeReducer` changes the ast in place, so if you want to preserve the original tree, you need to copy it with `copy.deepcopy(tree)`)"
   ]
  },
  {
   "cell_type": "code",
   "execution_count": 15,
   "metadata": {
    "pycharm": {
     "name": "#%%\n"
    }
   },
   "outputs": [
    {
     "data": {
      "image/svg+xml": [
       "<svg height=\"332pt\" viewBox=\"0.00 0.00 441.50 332.00\" width=\"442pt\" xmlns=\"http://www.w3.org/2000/svg\" xmlns:xlink=\"http://www.w3.org/1999/xlink\">\n",
       "<g class=\"graph\" id=\"graph0\" transform=\"scale(1 1) rotate(0) translate(4 328)\">\n",
       "<title>%3</title>\n",
       "<polygon fill=\"#ffffff\" points=\"-4,4 -4,-328 437.5,-328 437.5,4 -4,4\" stroke=\"transparent\"/>\n",
       "<!-- 0 -->\n",
       "<g class=\"node\" id=\"node1\">\n",
       "<title>0</title>\n",
       "<text fill=\"#004080\" font-family=\"Courier,monospace\" font-size=\"14.00\" font-weight=\"bold\" text-anchor=\"start\" x=\"135\" y=\"-303.3\">FunctionDef</text>\n",
       "</g>\n",
       "<!-- 1 -->\n",
       "<g class=\"node\" id=\"node2\">\n",
       "<title>1</title>\n",
       "<text fill=\"#008040\" font-family=\"Courier,monospace\" font-size=\"14.00\" text-anchor=\"middle\" x=\"29.5\" y=\"-230.3\">&quot;foo&quot;</text>\n",
       "</g>\n",
       "<!-- 0&#45;&#45;1 -->\n",
       "<g class=\"edge\" id=\"edge1\">\n",
       "<title>0--1</title>\n",
       "<path d=\"M181.5,-288C181.5,-288 117.6345,-271.0808 68.5,-252 65.4414,-250.8122 62.282,-249.501 59.147,-248.1439\" fill=\"none\" stroke=\"#000000\"/>\n",
       "</g>\n",
       "<!-- 2 -->\n",
       "<g class=\"node\" id=\"node3\">\n",
       "<title>2</title>\n",
       "<text fill=\"#004080\" font-family=\"Courier,monospace\" font-size=\"14.00\" font-weight=\"bold\" text-anchor=\"start\" x=\"85.5\" y=\"-231.3\">arguments</text>\n",
       "</g>\n",
       "<!-- 0&#45;&#45;2 -->\n",
       "<g class=\"edge\" id=\"edge2\">\n",
       "<title>0--2</title>\n",
       "<path d=\"M181.5,-288C181.5,-288 159.9624,-267.9478 143.1362,-252.2819\" fill=\"none\" stroke=\"#000000\"/>\n",
       "</g>\n",
       "<!-- 7 -->\n",
       "<g class=\"node\" id=\"node8\">\n",
       "<title>7</title>\n",
       "<text fill=\"#004080\" font-family=\"Courier,monospace\" font-size=\"14.00\" font-weight=\"bold\" text-anchor=\"start\" x=\"223.5\" y=\"-231.3\">Expr</text>\n",
       "</g>\n",
       "<!-- 0&#45;&#45;7 -->\n",
       "<g class=\"edge\" id=\"edge7\">\n",
       "<title>0--7</title>\n",
       "<path d=\"M181.5,-288C181.5,-288 203.4089,-267.9478 220.5253,-252.2819\" fill=\"none\" stroke=\"#000000\"/>\n",
       "</g>\n",
       "<!-- 16 -->\n",
       "<g class=\"node\" id=\"node17\">\n",
       "<title>16</title>\n",
       "<text fill=\"#004080\" font-family=\"Courier,monospace\" font-size=\"14.00\" font-weight=\"bold\" text-anchor=\"start\" x=\"307\" y=\"-231.3\">Return</text>\n",
       "</g>\n",
       "<!-- 0&#45;&#45;16 -->\n",
       "<g class=\"edge\" id=\"edge16\">\n",
       "<title>0--16</title>\n",
       "<path d=\"M181.5,-288C181.5,-288 254.5024,-261.8932 298.9882,-245.9844\" fill=\"none\" stroke=\"#000000\"/>\n",
       "</g>\n",
       "<!-- 3 -->\n",
       "<g class=\"node\" id=\"node4\">\n",
       "<title>3</title>\n",
       "<text fill=\"#004080\" font-family=\"Courier,monospace\" font-size=\"14.00\" font-weight=\"bold\" text-anchor=\"start\" x=\"35.5\" y=\"-159.3\">arg</text>\n",
       "</g>\n",
       "<!-- 2&#45;&#45;3 -->\n",
       "<g class=\"edge\" id=\"edge3\">\n",
       "<title>2--3</title>\n",
       "<path d=\"M115.5,-216C115.5,-216 90.6204,-195.9478 71.1831,-180.2819\" fill=\"none\" stroke=\"#000000\"/>\n",
       "</g>\n",
       "<!-- 5 -->\n",
       "<g class=\"node\" id=\"node6\">\n",
       "<title>5</title>\n",
       "<text fill=\"#004080\" font-family=\"Courier,monospace\" font-size=\"14.00\" font-weight=\"bold\" text-anchor=\"start\" x=\"107.5\" y=\"-159.3\">arg</text>\n",
       "</g>\n",
       "<!-- 2&#45;&#45;5 -->\n",
       "<g class=\"edge\" id=\"edge5\">\n",
       "<title>2--5</title>\n",
       "<path d=\"M115.5,-216C115.5,-216 117.3567,-195.9478 118.8072,-180.2819\" fill=\"none\" stroke=\"#000000\"/>\n",
       "</g>\n",
       "<!-- 4 -->\n",
       "<g class=\"node\" id=\"node5\">\n",
       "<title>4</title>\n",
       "<text fill=\"#008040\" font-family=\"Courier,monospace\" font-size=\"14.00\" text-anchor=\"middle\" x=\"46.5\" y=\"-86.3\">&quot;a&quot;</text>\n",
       "</g>\n",
       "<!-- 3&#45;&#45;4 -->\n",
       "<g class=\"edge\" id=\"edge4\">\n",
       "<title>3--4</title>\n",
       "<path d=\"M47.9953,-143.8314C47.6944,-133 47.3135,-119.2876 47.0115,-108.4133\" fill=\"none\" stroke=\"#000000\"/>\n",
       "</g>\n",
       "<!-- 6 -->\n",
       "<g class=\"node\" id=\"node7\">\n",
       "<title>6</title>\n",
       "<text fill=\"#008040\" font-family=\"Courier,monospace\" font-size=\"14.00\" text-anchor=\"middle\" x=\"118.5\" y=\"-86.3\">&quot;b&quot;</text>\n",
       "</g>\n",
       "<!-- 5&#45;&#45;6 -->\n",
       "<g class=\"edge\" id=\"edge6\">\n",
       "<title>5--6</title>\n",
       "<path d=\"M119.9953,-143.8314C119.6944,-133 119.3135,-119.2876 119.0115,-108.4133\" fill=\"none\" stroke=\"#000000\"/>\n",
       "</g>\n",
       "<!-- 8 -->\n",
       "<g class=\"node\" id=\"node9\">\n",
       "<title>8</title>\n",
       "<text fill=\"#004080\" font-family=\"Courier,monospace\" font-size=\"14.00\" font-weight=\"bold\" text-anchor=\"start\" x=\"235\" y=\"-159.3\">BoolOp</text>\n",
       "</g>\n",
       "<!-- 7&#45;&#45;8 -->\n",
       "<g class=\"edge\" id=\"edge8\">\n",
       "<title>7--8</title>\n",
       "<path d=\"M245.5468,-215.8314C248.5555,-205 252.3646,-191.2876 255.3852,-180.4133\" fill=\"none\" stroke=\"#000000\"/>\n",
       "</g>\n",
       "<!-- 9 -->\n",
       "<g class=\"node\" id=\"node10\">\n",
       "<title>9</title>\n",
       "<text fill=\"#008040\" font-family=\"Courier,monospace\" font-size=\"14.00\" text-anchor=\"middle\" x=\"190.5\" y=\"-86.3\">And</text>\n",
       "</g>\n",
       "<!-- 8&#45;&#45;9 -->\n",
       "<g class=\"edge\" id=\"edge9\">\n",
       "<title>8--9</title>\n",
       "<path d=\"M260.5,-144C260.5,-144 234.5063,-123.9478 214.1988,-108.2819\" fill=\"none\" stroke=\"#000000\"/>\n",
       "</g>\n",
       "<!-- 10 -->\n",
       "<g class=\"node\" id=\"node11\">\n",
       "<title>10</title>\n",
       "<text fill=\"#004080\" font-family=\"Courier,monospace\" font-size=\"14.00\" font-weight=\"bold\" text-anchor=\"start\" x=\"245.5\" y=\"-87.3\">Name</text>\n",
       "</g>\n",
       "<!-- 8&#45;&#45;10 -->\n",
       "<g class=\"edge\" id=\"edge10\">\n",
       "<title>8--10</title>\n",
       "<path d=\"M260.5,-144C260.5,-144 261.2427,-123.9478 261.8229,-108.2819\" fill=\"none\" stroke=\"#000000\"/>\n",
       "</g>\n",
       "<!-- 13 -->\n",
       "<g class=\"node\" id=\"node14\">\n",
       "<title>13</title>\n",
       "<text fill=\"#004080\" font-family=\"Courier,monospace\" font-size=\"14.00\" font-weight=\"bold\" text-anchor=\"start\" x=\"317.5\" y=\"-87.3\">Name</text>\n",
       "</g>\n",
       "<!-- 8&#45;&#45;13 -->\n",
       "<g class=\"edge\" id=\"edge13\">\n",
       "<title>8--13</title>\n",
       "<path d=\"M260.5,-144C260.5,-144 287.979,-123.9478 309.447,-108.2819\" fill=\"none\" stroke=\"#000000\"/>\n",
       "</g>\n",
       "<!-- 11 -->\n",
       "<g class=\"node\" id=\"node12\">\n",
       "<title>11</title>\n",
       "<text fill=\"#008040\" font-family=\"Courier,monospace\" font-size=\"14.00\" text-anchor=\"middle\" x=\"190.5\" y=\"-14.3\">&quot;a&quot;</text>\n",
       "</g>\n",
       "<!-- 10&#45;&#45;11 -->\n",
       "<g class=\"edge\" id=\"edge11\">\n",
       "<title>10--11</title>\n",
       "<path d=\"M254.5,-72C254.5,-72 230.7344,-51.9478 212.1675,-36.2819\" fill=\"none\" stroke=\"#000000\"/>\n",
       "</g>\n",
       "<!-- 12 -->\n",
       "<g class=\"node\" id=\"node13\">\n",
       "<title>12</title>\n",
       "<text fill=\"#008040\" font-family=\"Courier,monospace\" font-size=\"14.00\" text-anchor=\"middle\" x=\"262.5\" y=\"-14.3\">Load</text>\n",
       "</g>\n",
       "<!-- 10&#45;&#45;12 -->\n",
       "<g class=\"edge\" id=\"edge12\">\n",
       "<title>10--12</title>\n",
       "<path d=\"M254.5,-72C254.5,-72 257.4707,-51.9478 259.7916,-36.2819\" fill=\"none\" stroke=\"#000000\"/>\n",
       "</g>\n",
       "<!-- 14 -->\n",
       "<g class=\"node\" id=\"node15\">\n",
       "<title>14</title>\n",
       "<text fill=\"#008040\" font-family=\"Courier,monospace\" font-size=\"14.00\" text-anchor=\"middle\" x=\"334.5\" y=\"-14.3\">&quot;b&quot;</text>\n",
       "</g>\n",
       "<!-- 13&#45;&#45;14 -->\n",
       "<g class=\"edge\" id=\"edge14\">\n",
       "<title>13--14</title>\n",
       "<path d=\"M342.5,-72C342.5,-72 339.5293,-51.9478 337.2084,-36.2819\" fill=\"none\" stroke=\"#000000\"/>\n",
       "</g>\n",
       "<!-- 15 -->\n",
       "<g class=\"node\" id=\"node16\">\n",
       "<title>15</title>\n",
       "<text fill=\"#008040\" font-family=\"Courier,monospace\" font-size=\"14.00\" text-anchor=\"middle\" x=\"406.5\" y=\"-14.3\">Load</text>\n",
       "</g>\n",
       "<!-- 13&#45;&#45;15 -->\n",
       "<g class=\"edge\" id=\"edge15\">\n",
       "<title>13--15</title>\n",
       "<path d=\"M342.5,-72C342.5,-72 366.2656,-51.9478 384.8325,-36.2819\" fill=\"none\" stroke=\"#000000\"/>\n",
       "</g>\n",
       "<!-- 17 -->\n",
       "<g class=\"node\" id=\"node18\">\n",
       "<title>17</title>\n",
       "<text fill=\"#004080\" font-family=\"Courier,monospace\" font-size=\"14.00\" font-weight=\"bold\" text-anchor=\"start\" x=\"326.5\" y=\"-159.3\">Num</text>\n",
       "</g>\n",
       "<!-- 16&#45;&#45;17 -->\n",
       "<g class=\"edge\" id=\"edge17\">\n",
       "<title>16--17</title>\n",
       "<path d=\"M334.2664,-215.8314C335.3194,-205 336.6526,-191.2876 337.7098,-180.4133\" fill=\"none\" stroke=\"#000000\"/>\n",
       "</g>\n",
       "<!-- 18 -->\n",
       "<g class=\"node\" id=\"node19\">\n",
       "<title>18</title>\n",
       "<text fill=\"#008040\" font-family=\"Courier,monospace\" font-size=\"14.00\" text-anchor=\"middle\" x=\"406.5\" y=\"-86.3\">0</text>\n",
       "</g>\n",
       "<!-- 17&#45;&#45;18 -->\n",
       "<g class=\"edge\" id=\"edge18\">\n",
       "<title>17--18</title>\n",
       "<path d=\"M356.4069,-143.8314C366.4861,-133 379.2463,-119.2876 389.3654,-108.4133\" fill=\"none\" stroke=\"#000000\"/>\n",
       "</g>\n",
       "</g>\n",
       "</svg>"
      ],
      "text/plain": [
       "<IPython.core.display.SVG object>"
      ]
     },
     "metadata": {},
     "output_type": "display_data"
    }
   ],
   "source": [
    "NodeReducer().visit(source_ast)\n",
    "show_ast(source_ast)"
   ]
  },
  {
   "cell_type": "markdown",
   "metadata": {
    "pycharm": {
     "name": "#%% md\n"
    }
   },
   "source": [
    "As you can see, after running the `NodeReducer` there is no longer an *if-statement*, but only its condition.\n",
    "A more sophisticated NodeReducer is presented in the [Reducing Failure-Inducing Inputs chapter](https://www.debuggingbook.org/beta/html/DeltaDebugger.html) in the debugging book."
   ]
  },
  {
   "cell_type": "markdown",
   "metadata": {
    "pycharm": {
     "name": "#%% md\n"
    }
   },
   "source": [
    "To learn the structure of an AST, have a look at the [official Python `ast` reference](http://docs.python.org/3/library/ast) for a list of AST nodes and their attributes. This reference is complete, but a bit terse; the [\"Green Tree Snakes missing Python AST docs\"](https://greentreesnakes.readthedocs.io/en/latest/manipulating.html) provide a good manual on how to modify the tree."
   ]
  },
  {
   "cell_type": "markdown",
   "metadata": {},
   "source": [
    "**Pro tip**: You can learn the expected structure of any Python fragment by invoking `ast.dump()` on any (parsed) AST."
   ]
  },
  {
   "cell_type": "code",
   "execution_count": 16,
   "metadata": {
    "pycharm": {
     "name": "#%%\n"
    }
   },
   "outputs": [],
   "source": [
    "demo_ast = ast.parse('''\n",
    "if a == b:\n",
    "    c = d\n",
    "''')"
   ]
  },
  {
   "cell_type": "code",
   "execution_count": 17,
   "metadata": {},
   "outputs": [
    {
     "data": {
      "text/plain": [
       "\"Module(body=[If(test=Compare(left=Name(id='a', ctx=Load()), ops=[Eq()], comparators=[Name(id='b', ctx=Load())]), body=[Assign(targets=[Name(id='c', ctx=Store())], value=Name(id='d', ctx=Load()))], orelse=[])])\""
      ]
     },
     "execution_count": 17,
     "metadata": {},
     "output_type": "execute_result"
    }
   ],
   "source": [
    "ast.dump(demo_ast)"
   ]
  },
  {
   "cell_type": "markdown",
   "metadata": {},
   "source": [
    "The nice thing is that this not only reveals the AST structure, it also tells you how to construct it. If you take the very structure as produced by `ast.dump()` and evaluate it, you obtain the same syntax tree."
   ]
  },
  {
   "cell_type": "code",
   "execution_count": 18,
   "metadata": {},
   "outputs": [],
   "source": [
    "from ast import Module, If, Compare, Load, Eq, Assign, Name, Store"
   ]
  },
  {
   "cell_type": "code",
   "execution_count": 19,
   "metadata": {
    "pycharm": {
     "name": "#%%\n"
    }
   },
   "outputs": [],
   "source": [
    "ast_from_scratch = Module(body=[If(test=Compare(left=Name(id='a', ctx=Load()), ops=[Eq()], comparators=[Name(id='b', ctx=Load())]), body=[Assign(targets=[Name(id='c', ctx=Store())], value=Name(id='d', ctx=Load()))], orelse=[])])"
   ]
  },
  {
   "cell_type": "code",
   "execution_count": 20,
   "metadata": {
    "pycharm": {
     "name": "#%%\n"
    }
   },
   "outputs": [
    {
     "name": "stdout",
     "output_type": "stream",
     "text": [
      "if a == b:\n",
      "    c = d\n",
      "\n"
     ]
    }
   ],
   "source": [
    "print(astor.to_source(ast_from_scratch))"
   ]
  },
  {
   "cell_type": "markdown",
   "metadata": {
    "pycharm": {
     "name": "#%% md\n"
    }
   },
   "source": [
    "Hence, if you do not know what kind of AST fragment to produce, just parse its text with ``ast.parse()`` and study the expression produced by `ast.dump()`."
   ]
  },
  {
   "cell_type": "markdown",
   "metadata": {
    "pycharm": {
     "name": "#%% md\n"
    }
   },
   "source": [
    "### Implementing a Debugging Reducer\n",
    "\n",
    "Having seen how one can access and transform AST structures using a `NodeReducer` in Python, we can now use that knowledge to implement a `DebuggingReducer`\n",
    "capable of reducing the failure inducing Python code down to only that parts of the code that actually triggers the failure."
   ]
  },
  {
   "cell_type": "code",
   "execution_count": 21,
   "metadata": {
    "pycharm": {
     "name": "#%%\n"
    }
   },
   "outputs": [],
   "source": [
    "class ReducingDebugger:\n",
    "\n",
    "    def __init__(self, parser):\n",
    "        \"\"\"\n",
    "        We initialize the DebuggingReducer with a parser, as this is needed to verify whether the failure is still triggered after the code transformation\n",
    "        \"\"\"\n",
    "        self.parser = parser\n",
    "        self.node_reducer = NodeReducer()\n",
    "\n",
    "    def minimize(self, code):\n",
    "        \"\"\"\n",
    "        This function takes some Python code as string, reduces it using the NodeReducer defined earlier and returns the reduced program.\n",
    "        \"\"\"\n",
    "        # Parse the code to a tree\n",
    "        code_ast = ast.parse(source=code)\n",
    "\n",
    "        # Use the visit-method of the NodeReducer to reduce if nodes down to their condition\n",
    "        new_code_ast = self.node_reducer.visit(code_ast)\n",
    "\n",
    "        # After we've updated nodes, we need to fix the tree\n",
    "        ast.fix_missing_locations(new_code_ast)\n",
    "\n",
    "        # Generate code from the reduced tree\n",
    "        new_code = astor.to_source(new_code_ast)\n",
    "\n",
    "        # Test, whether the error is still triggered by the reduced code\n",
    "        try:\n",
    "            self.parser.parse(new_code)\n",
    "            # No exception is thrown. This means the new_code does not \n",
    "            # trigger an error anymore. Therefore, we failed in\n",
    "            # reduction and return the initial code.\n",
    "            return code\n",
    "        except ParserException:\n",
    "            # The error is still triggered. Return the reduced code\n",
    "            return new_code"
   ]
  },
  {
   "cell_type": "markdown",
   "metadata": {
    "pycharm": {
     "name": "#%% md\n"
    }
   },
   "source": [
    "The `ReducingDebugger` implemented above takes some Python code as an input and replaces all if-statements with their conditions.\n",
    "Then, it checks whether the newly generated code still triggers the error. If not, it returns the initial code. If the exception is still triggered, it returns the reduced code.\n",
    "Let's apply it to the source code of our `foo` function:"
   ]
  },
  {
   "cell_type": "code",
   "execution_count": 22,
   "metadata": {},
   "outputs": [
    {
     "name": "stdout",
     "output_type": "stream",
     "text": [
      "<_ast.FunctionDef object at 0x7fe448e5b898>\n",
      "<_ast.arguments object at 0x7fe448e5bbe0>\n",
      "<_ast.arg object at 0x7fe448e5b9e8>\n",
      "<_ast.arg object at 0x7fe448e5bb00>\n"
     ]
    }
   ],
   "source": [
    "reducing_debugger = ReducingDebugger(SimpleParserPlus())\n",
    "new_source = reducing_debugger.minimize(source)"
   ]
  },
  {
   "cell_type": "code",
   "execution_count": 23,
   "metadata": {
    "pycharm": {
     "name": "#%%\n"
    }
   },
   "outputs": [
    {
     "name": "stdout",
     "output_type": "stream",
     "text": [
      "def foo(a, b):\n",
      "    \"\"\"\n",
      "    Checks whether a and b are true\n",
      "    \"\"\"\n",
      "    a and b\n",
      "    return 0\n",
      "\n"
     ]
    }
   ],
   "source": [
    "print(new_source)"
   ]
  },
  {
   "cell_type": "code",
   "execution_count": 24,
   "metadata": {
    "pycharm": {
     "name": "#%%\n"
    }
   },
   "outputs": [
    {
     "name": "stdout",
     "output_type": "stream",
     "text": [
      "<_ast.FunctionDef object at 0x7fe448e5d048>\n",
      "<_ast.arguments object at 0x7fe448e5d080>\n",
      "<_ast.arg object at 0x7fe448e5d0b8>\n",
      "<_ast.arg object at 0x7fe448e5d0f0>\n"
     ]
    },
    {
     "name": "stderr",
     "output_type": "stream",
     "text": [
      "Traceback (most recent call last):\n",
      "  File \"<ipython-input-24-48c47316858f>\", line 2, in <module>\n",
      "    SimpleParserPlus().parse(new_source)\n",
      "  File \"<ipython-input-9-83d969da96d7>\", line 11, in parse\n",
      "    self.visit(tree)\n",
      "  File \"/Users/zeller/anaconda3/lib/python3.6/ast.py\", line 253, in visit\n",
      "    return visitor(node)\n",
      "  File \"/Users/zeller/anaconda3/lib/python3.6/ast.py\", line 261, in generic_visit\n",
      "    self.visit(item)\n",
      "  File \"/Users/zeller/anaconda3/lib/python3.6/ast.py\", line 253, in visit\n",
      "    return visitor(node)\n",
      "  File \"<ipython-input-9-83d969da96d7>\", line 15, in visit_FunctionDef\n",
      "    self.generic_visit(node)\n",
      "  File \"/Users/zeller/anaconda3/lib/python3.6/ast.py\", line 261, in generic_visit\n",
      "    self.visit(item)\n",
      "  File \"/Users/zeller/anaconda3/lib/python3.6/ast.py\", line 253, in visit\n",
      "    return visitor(node)\n",
      "  File \"/Users/zeller/anaconda3/lib/python3.6/ast.py\", line 263, in generic_visit\n",
      "    self.visit(value)\n",
      "  File \"/Users/zeller/anaconda3/lib/python3.6/ast.py\", line 253, in visit\n",
      "    return visitor(node)\n",
      "  File \"<ipython-input-12-336a87e01254>\", line 10, in visit_BoolOp\n",
      "    raise ParserException(\"Something went wrong\")\n",
      "ParserException: Something went wrong (expected)\n"
     ]
    }
   ],
   "source": [
    "with ExpectError():\n",
    "    SimpleParserPlus().parse(new_source)"
   ]
  },
  {
   "cell_type": "markdown",
   "metadata": {
    "pycharm": {
     "name": "#%% md\n"
    }
   },
   "source": [
    "As we can see, our `DebuggingReducer` reduces the original function to a smaller input, while still preserving the property of the code that triggers the same error as before.\n",
    "However, this reducer is very simple: it applies only one transformation to all `if` nodes at once.\n",
    "Instead, one can consider various transformations of the same node as well as transformations of various node types and apply them one by one (or in batches) to gradually reduce the code.\n",
    "\n",
    "\n",
    "Keep in mind, that the changes should be made in a way that the code is still accepted by a regular Python interpreter.\n",
    "Besides, the goal is to obtain a minimal program that still triggers the error.\n",
    "So, your debugging reducer should not simply reduce all possible nodes, but also regularly check whether the reduced code still triggers the failure.\n",
    "\n",
    "Therefore, you are required to implement certain modifications that can be done to the AST. In general, these transformations can be one of the following:   \n",
    "\n",
    "1. Delete a node,\n",
    "2. Substitute a node with the new node (e.g., _pass_ node),\n",
    "3. Substitute a node with all of its children,\n",
    "4. Substitute a node with one of its children.\n",
    "\n",
    "More detailed, one can consider, for instance:\n",
    "\n",
    "1. Replacing a `BoolOp` node by `True`.\n",
    "2. Replacing a `BoolOp` node by `False`.\n",
    "3. Replacing a `BoolOp` node by its left operand.\n",
    "4. Replacing a `BoolOp` node by its right operand.\n",
    "5. Replacing an `If` node by its \"then\" body.\n",
    "6. Replacing an `If` node by its condition.\n",
    "7. Replacing an `If` node by its \"else\" body.\n",
    "8. Replacing all instances of a variable by a constant.\n",
    "9. Replacing expressions by a constant.\n",
    "10. etc.\n",
    "\n",
    "Please, refer to the [official Python `ast` reference](http://docs.python.org/3/library/ast) for a full list of node types."
   ]
  },
  {
   "cell_type": "markdown",
   "metadata": {
    "hidden": true,
    "pycharm": {
     "name": "#%% md\n"
    }
   },
   "source": [
    "## Implementation\n",
    "\n",
    "To succeed in this project, you need to complete the `MyReducer` class."
   ]
  },
  {
   "cell_type": "code",
   "execution_count": 25,
   "metadata": {
    "hidden": true,
    "pycharm": {
     "name": "#%%\n"
    }
   },
   "outputs": [],
   "source": [
    "class MyReducer(ReducingDebugger):\n",
    "\n",
    "    def minimize(self, code):\n",
    "        # TODO: implement this!\n",
    "        return code"
   ]
  },
  {
   "cell_type": "markdown",
   "metadata": {
    "hidden": true,
    "pycharm": {
     "name": "#%% md\n"
    }
   },
   "source": [
    "To this end, you will need to extend the `NodeReducer` with additional transformations and implement a reducer strategy\n",
    "which collects all possible transformations and applies them to the AST until it is exhaustively minimized.\n",
    "Feel free to make your own implementation or extend the `DeltaDebugger` from the [Reducing Failure-Inducing Inputs chapter](https://www.debuggingbook.org/beta/html/DeltaDebugger.html) with\n",
    "the proper strategy.\n",
    "\n",
    "## Evaluation\n",
    "\n",
    "We evaluate your project based on public as well as secret tests. In this section, we present **five** different Python parsers as well as **five** Python input programs, which should be minified.\n",
    "These parsers check for a specific property in the code and fail the execution if the property exists. The input programs and parsers in this section make up the public test cases.\n",
    "If you pass all of those tests **without hardcoding the modifications** you are guaranteed to score 15 points in this project. You can get more points for passing secret tests.\n",
    "\n",
    "### Parsers"
   ]
  },
  {
   "cell_type": "code",
   "execution_count": 26,
   "metadata": {
    "hidden": true,
    "pycharm": {
     "name": "#%%\n"
    }
   },
   "outputs": [],
   "source": [
    "class Parser(ast.NodeVisitor):\n",
    "    \"\"\"The base class for a parser\"\"\"\n",
    "    def parse_tree(self, tree):\n",
    "        self.visit(tree)\n",
    "\n",
    "    def parse(self, source):\n",
    "        tree = ast.parse(source=source)\n",
    "        self.parse_tree(tree)\n",
    "        return \"The input was successfully parsed.\""
   ]
  },
  {
   "cell_type": "markdown",
   "metadata": {
    "pycharm": {
     "name": "#%% md\n"
    }
   },
   "source": [
    "`Parser` is the base class for a parser from which all other parsers are derived. It works the same way as the `SimpleParser` introduced earlier."
   ]
  },
  {
   "cell_type": "markdown",
   "metadata": {
    "pycharm": {
     "name": "#%% md\n"
    }
   },
   "source": [
    "Let's define a couple of parsers which model a failure during processing of a certain code feature."
   ]
  },
  {
   "cell_type": "code",
   "execution_count": 27,
   "metadata": {
    "hidden": true,
    "pycharm": {
     "name": "#%%\n"
    }
   },
   "outputs": [],
   "source": [
    "class Parser1(Parser):\n",
    "    \"\"\"\n",
    "    Contains boolean operation\n",
    "    \"\"\"    \n",
    "    def visit_BoolOp(self, node):\n",
    "        raise ParserException(f\"Something went wrong\")"
   ]
  },
  {
   "cell_type": "markdown",
   "metadata": {},
   "source": [
    "If we feed this parser with an input program which contains a boolean operation, it fails:"
   ]
  },
  {
   "cell_type": "code",
   "execution_count": 28,
   "metadata": {
    "collapsed": false,
    "jupyter": {
     "outputs_hidden": false
    },
    "pycharm": {
     "name": "#%%\n"
    }
   },
   "outputs": [
    {
     "name": "stderr",
     "output_type": "stream",
     "text": [
      "Traceback (most recent call last):\n",
      "  File \"<ipython-input-28-4c9889da423c>\", line 5, in <module>\n",
      "    parser1.parse(input_program)\n",
      "  File \"<ipython-input-26-299b605fbaca>\", line 8, in parse\n",
      "    self.parse_tree(tree)\n",
      "  File \"<ipython-input-26-299b605fbaca>\", line 4, in parse_tree\n",
      "    self.visit(tree)\n",
      "  File \"/Users/zeller/anaconda3/lib/python3.6/ast.py\", line 253, in visit\n",
      "    return visitor(node)\n",
      "  File \"/Users/zeller/anaconda3/lib/python3.6/ast.py\", line 261, in generic_visit\n",
      "    self.visit(item)\n",
      "  File \"/Users/zeller/anaconda3/lib/python3.6/ast.py\", line 253, in visit\n",
      "    return visitor(node)\n",
      "  File \"/Users/zeller/anaconda3/lib/python3.6/ast.py\", line 263, in generic_visit\n",
      "    self.visit(value)\n",
      "  File \"/Users/zeller/anaconda3/lib/python3.6/ast.py\", line 253, in visit\n",
      "    return visitor(node)\n",
      "  File \"<ipython-input-27-f3923c2a5b4f>\", line 6, in visit_BoolOp\n",
      "    raise ParserException(f\"Something went wrong\")\n",
      "ParserException: Something went wrong (expected)\n"
     ]
    }
   ],
   "source": [
    "parser1 = Parser1()\n",
    "input_program = '''\n",
    "a = True and False'''\n",
    "with ExpectError():\n",
    "    parser1.parse(input_program)"
   ]
  },
  {
   "cell_type": "markdown",
   "metadata": {
    "pycharm": {
     "name": "#%% md\n"
    }
   },
   "source": [
    "In contrast to the above, an input program _without_ a boolean operation is parsed correctly."
   ]
  },
  {
   "cell_type": "code",
   "execution_count": 29,
   "metadata": {
    "collapsed": false,
    "jupyter": {
     "outputs_hidden": false
    },
    "pycharm": {
     "name": "#%%\n"
    }
   },
   "outputs": [
    {
     "data": {
      "text/plain": [
       "'The input was successfully parsed.'"
      ]
     },
     "execution_count": 29,
     "metadata": {},
     "output_type": "execute_result"
    }
   ],
   "source": [
    "parser1 = Parser1()\n",
    "input_program = '''\n",
    "a = 1\n",
    "b = True\n",
    "'''\n",
    "\n",
    "parser1.parse(input_program)"
   ]
  },
  {
   "cell_type": "markdown",
   "metadata": {
    "pycharm": {
     "name": "#%% md\n"
    }
   },
   "source": [
    "The other parsers are"
   ]
  },
  {
   "cell_type": "code",
   "execution_count": 30,
   "metadata": {
    "hidden": true,
    "pycharm": {
     "name": "#%%\n"
    }
   },
   "outputs": [],
   "source": [
    "class Parser2(Parser):\n",
    "    \"\"\"\n",
    "    Fails if an input program contains `if` statement\n",
    "    \"\"\"\n",
    "    def visit_If(self, node):\n",
    "        raise ParserException(f\"Something went wrong\")"
   ]
  },
  {
   "cell_type": "code",
   "execution_count": 31,
   "metadata": {
    "collapsed": false,
    "jupyter": {
     "outputs_hidden": false
    },
    "pycharm": {
     "name": "#%%\n"
    }
   },
   "outputs": [
    {
     "name": "stderr",
     "output_type": "stream",
     "text": [
      "Traceback (most recent call last):\n",
      "  File \"<ipython-input-31-20b0846060a6>\", line 9, in <module>\n",
      "    parser2.parse(input_program)\n",
      "  File \"<ipython-input-26-299b605fbaca>\", line 8, in parse\n",
      "    self.parse_tree(tree)\n",
      "  File \"<ipython-input-26-299b605fbaca>\", line 4, in parse_tree\n",
      "    self.visit(tree)\n",
      "  File \"/Users/zeller/anaconda3/lib/python3.6/ast.py\", line 253, in visit\n",
      "    return visitor(node)\n",
      "  File \"/Users/zeller/anaconda3/lib/python3.6/ast.py\", line 261, in generic_visit\n",
      "    self.visit(item)\n",
      "  File \"/Users/zeller/anaconda3/lib/python3.6/ast.py\", line 253, in visit\n",
      "    return visitor(node)\n",
      "  File \"<ipython-input-30-376a81aa884c>\", line 6, in visit_If\n",
      "    raise ParserException(f\"Something went wrong\")\n",
      "ParserException: Something went wrong (expected)\n"
     ]
    }
   ],
   "source": [
    "parser2 = Parser2()\n",
    "input_program = '''\n",
    "if a:\n",
    "    b = 1\n",
    "else:\n",
    "    b = 2\n",
    "'''\n",
    "with ExpectError():\n",
    "    parser2.parse(input_program)"
   ]
  },
  {
   "cell_type": "code",
   "execution_count": 32,
   "metadata": {
    "hidden": true,
    "pycharm": {
     "name": "#%%\n"
    }
   },
   "outputs": [],
   "source": [
    "class Parser3(Parser):\n",
    "    \"\"\"\n",
    "    Fails if an input program contains a special unicode character\n",
    "    \"\"\"\n",
    "    def __init__(self) -> None:\n",
    "        self.assignment = False\n",
    "        self.steps = 0\n",
    "\n",
    "    def check_unicode(self, string):\n",
    "        return string == u'\\u0426'\n",
    "\n",
    "    def generic_visit(self, node):\n",
    "        self.steps += 1\n",
    "        super().generic_visit(node)\n",
    "\n",
    "    def visit_Assign(self, node):\n",
    "        self.assignment = True\n",
    "        self.steps = 0\n",
    "        self.generic_visit(node)\n",
    "\n",
    "    def visit_Str(self, node):\n",
    "        if self.assignment and self.steps == 3:\n",
    "            if self.check_unicode(node.s):\n",
    "                raise ParserException(f\"Something went wrong\")"
   ]
  },
  {
   "cell_type": "code",
   "execution_count": 33,
   "metadata": {
    "collapsed": false,
    "jupyter": {
     "outputs_hidden": false
    },
    "pycharm": {
     "name": "#%%\n"
    }
   },
   "outputs": [
    {
     "name": "stderr",
     "output_type": "stream",
     "text": [
      "Traceback (most recent call last):\n",
      "  File \"<ipython-input-33-7bf29c4eeeba>\", line 6, in <module>\n",
      "    parser3.parse(input_program)\n",
      "  File \"<ipython-input-26-299b605fbaca>\", line 8, in parse\n",
      "    self.parse_tree(tree)\n",
      "  File \"<ipython-input-26-299b605fbaca>\", line 4, in parse_tree\n",
      "    self.visit(tree)\n",
      "  File \"/Users/zeller/anaconda3/lib/python3.6/ast.py\", line 253, in visit\n",
      "    return visitor(node)\n",
      "  File \"<ipython-input-32-2b79c1020a9c>\", line 14, in generic_visit\n",
      "    super().generic_visit(node)\n",
      "  File \"/Users/zeller/anaconda3/lib/python3.6/ast.py\", line 261, in generic_visit\n",
      "    self.visit(item)\n",
      "  File \"/Users/zeller/anaconda3/lib/python3.6/ast.py\", line 253, in visit\n",
      "    return visitor(node)\n",
      "  File \"<ipython-input-32-2b79c1020a9c>\", line 19, in visit_Assign\n",
      "    self.generic_visit(node)\n",
      "  File \"<ipython-input-32-2b79c1020a9c>\", line 14, in generic_visit\n",
      "    super().generic_visit(node)\n",
      "  File \"/Users/zeller/anaconda3/lib/python3.6/ast.py\", line 263, in generic_visit\n",
      "    self.visit(value)\n",
      "  File \"/Users/zeller/anaconda3/lib/python3.6/ast.py\", line 253, in visit\n",
      "    return visitor(node)\n",
      "  File \"<ipython-input-32-2b79c1020a9c>\", line 24, in visit_Str\n",
      "    raise ParserException(f\"Something went wrong\")\n",
      "ParserException: Something went wrong (expected)\n"
     ]
    }
   ],
   "source": [
    "parser3 = Parser3()\n",
    "input_program = '''\n",
    "a = u'\\u0426'\n",
    "'''\n",
    "with ExpectError():\n",
    "    parser3.parse(input_program)"
   ]
  },
  {
   "cell_type": "code",
   "execution_count": 34,
   "metadata": {
    "hidden": true
   },
   "outputs": [],
   "source": [
    "class Parser4(Parser):\n",
    "    \"\"\"\n",
    "    Fails if an input program contains a variable which is not defined\n",
    "    \"\"\"\n",
    "    def __init__(self) -> None:\n",
    "        self.assignment = False\n",
    "        self.steps = 0\n",
    "        self.variables = set()\n",
    "\n",
    "    def generic_visit(self, node):\n",
    "        self.steps += 1\n",
    "        super().generic_visit(node)\n",
    "\n",
    "    def visit_Name(self, node):\n",
    "        if self.assignment and self.steps == 1:\n",
    "            self.variables.add(node.id)\n",
    "            self.assignment = False\n",
    "            self.generic_visit(node)\n",
    "        elif node.id in self.variables:\n",
    "            self.generic_visit(node)\n",
    "        else:\n",
    "            raise ParserException(f\"Something went wrong\")\n",
    "\n",
    "    def visit_Assign(self, node):\n",
    "        self.assignment = True\n",
    "        self.steps = 0\n",
    "        self.generic_visit(node)"
   ]
  },
  {
   "cell_type": "code",
   "execution_count": 35,
   "metadata": {
    "collapsed": false,
    "jupyter": {
     "outputs_hidden": false
    },
    "pycharm": {
     "name": "#%%\n"
    }
   },
   "outputs": [
    {
     "name": "stderr",
     "output_type": "stream",
     "text": [
      "Traceback (most recent call last):\n",
      "  File \"<ipython-input-35-26a8dfd040e2>\", line 7, in <module>\n",
      "    parser4.parse(input_program)\n",
      "  File \"<ipython-input-26-299b605fbaca>\", line 8, in parse\n",
      "    self.parse_tree(tree)\n",
      "  File \"<ipython-input-26-299b605fbaca>\", line 4, in parse_tree\n",
      "    self.visit(tree)\n",
      "  File \"/Users/zeller/anaconda3/lib/python3.6/ast.py\", line 253, in visit\n",
      "    return visitor(node)\n",
      "  File \"<ipython-input-34-a05ed93107e5>\", line 12, in generic_visit\n",
      "    super().generic_visit(node)\n",
      "  File \"/Users/zeller/anaconda3/lib/python3.6/ast.py\", line 261, in generic_visit\n",
      "    self.visit(item)\n",
      "  File \"/Users/zeller/anaconda3/lib/python3.6/ast.py\", line 253, in visit\n",
      "    return visitor(node)\n",
      "  File \"<ipython-input-34-a05ed93107e5>\", line 27, in visit_Assign\n",
      "    self.generic_visit(node)\n",
      "  File \"<ipython-input-34-a05ed93107e5>\", line 12, in generic_visit\n",
      "    super().generic_visit(node)\n",
      "  File \"/Users/zeller/anaconda3/lib/python3.6/ast.py\", line 263, in generic_visit\n",
      "    self.visit(value)\n",
      "  File \"/Users/zeller/anaconda3/lib/python3.6/ast.py\", line 253, in visit\n",
      "    return visitor(node)\n",
      "  File \"<ipython-input-34-a05ed93107e5>\", line 22, in visit_Name\n",
      "    raise ParserException(f\"Something went wrong\")\n",
      "ParserException: Something went wrong (expected)\n"
     ]
    }
   ],
   "source": [
    "parser4 = Parser4()\n",
    "input_program = '''\n",
    "a = 1\n",
    "b = c\n",
    "'''\n",
    "with ExpectError():\n",
    "    parser4.parse(input_program)"
   ]
  },
  {
   "cell_type": "code",
   "execution_count": 36,
   "metadata": {
    "hidden": true,
    "pycharm": {
     "name": "#%%\n"
    }
   },
   "outputs": [],
   "source": [
    "class Parser5(Parser):\n",
    "    \"\"\"\n",
    "    Fails if an input program contains a list\n",
    "    \"\"\"\n",
    "\n",
    "    def visit_List(self, node):\n",
    "        raise ParserException(f\"Something went wrong\")\n",
    "        "
   ]
  },
  {
   "cell_type": "code",
   "execution_count": 37,
   "metadata": {
    "collapsed": false,
    "jupyter": {
     "outputs_hidden": false
    },
    "pycharm": {
     "name": "#%%\n"
    }
   },
   "outputs": [
    {
     "name": "stderr",
     "output_type": "stream",
     "text": [
      "Traceback (most recent call last):\n",
      "  File \"<ipython-input-37-9260c0f30b93>\", line 6, in <module>\n",
      "    parser5.parse(input_program)\n",
      "  File \"<ipython-input-26-299b605fbaca>\", line 8, in parse\n",
      "    self.parse_tree(tree)\n",
      "  File \"<ipython-input-26-299b605fbaca>\", line 4, in parse_tree\n",
      "    self.visit(tree)\n",
      "  File \"/Users/zeller/anaconda3/lib/python3.6/ast.py\", line 253, in visit\n",
      "    return visitor(node)\n",
      "  File \"/Users/zeller/anaconda3/lib/python3.6/ast.py\", line 261, in generic_visit\n",
      "    self.visit(item)\n",
      "  File \"/Users/zeller/anaconda3/lib/python3.6/ast.py\", line 253, in visit\n",
      "    return visitor(node)\n",
      "  File \"/Users/zeller/anaconda3/lib/python3.6/ast.py\", line 263, in generic_visit\n",
      "    self.visit(value)\n",
      "  File \"/Users/zeller/anaconda3/lib/python3.6/ast.py\", line 253, in visit\n",
      "    return visitor(node)\n",
      "  File \"/Users/zeller/anaconda3/lib/python3.6/ast.py\", line 261, in generic_visit\n",
      "    self.visit(item)\n",
      "  File \"/Users/zeller/anaconda3/lib/python3.6/ast.py\", line 253, in visit\n",
      "    return visitor(node)\n",
      "  File \"/Users/zeller/anaconda3/lib/python3.6/ast.py\", line 263, in generic_visit\n",
      "    self.visit(value)\n",
      "  File \"/Users/zeller/anaconda3/lib/python3.6/ast.py\", line 253, in visit\n",
      "    return visitor(node)\n",
      "  File \"/Users/zeller/anaconda3/lib/python3.6/ast.py\", line 261, in generic_visit\n",
      "    self.visit(item)\n",
      "  File \"/Users/zeller/anaconda3/lib/python3.6/ast.py\", line 253, in visit\n",
      "    return visitor(node)\n",
      "  File \"<ipython-input-36-8b0d859d976a>\", line 7, in visit_List\n",
      "    raise ParserException(f\"Something went wrong\")\n",
      "ParserException: Something went wrong (expected)\n"
     ]
    }
   ],
   "source": [
    "parser5 = Parser5()\n",
    "input_program = '''\n",
    "a = {x * 2 for x in map(int, ['1', '2', '3'])}\n",
    "'''\n",
    "with ExpectError():\n",
    "    parser5.parse(input_program)"
   ]
  },
  {
   "cell_type": "markdown",
   "metadata": {},
   "source": [
    "For secret tests we may use other parsers crafted in the same way."
   ]
  },
  {
   "cell_type": "markdown",
   "metadata": {
    "pycharm": {
     "name": "#%% md\n"
    }
   },
   "source": [
    "### Input Programs"
   ]
  },
  {
   "cell_type": "markdown",
   "metadata": {},
   "source": [
    "Now we present five public tests.\n",
    "Each test case implements a `get_original()` method that returns an input program which your reducer should minify.\n",
    "It also has a `parser` field which stores a parser used for a respective input program.\n",
    "Besides, `get_minimized()` method provides a reference solution."
   ]
  },
  {
   "cell_type": "code",
   "execution_count": 38,
   "metadata": {
    "collapsed": false,
    "jupyter": {
     "outputs_hidden": false
    },
    "pycharm": {
     "name": "#%%\n"
    }
   },
   "outputs": [],
   "source": [
    "class Test1:\n",
    "    parser = Parser1()\n",
    "\n",
    "    def get_original(self):\n",
    "        return '''\n",
    "def original():\n",
    "    a = True\n",
    "    b = not False\n",
    "    c = 30\n",
    "    for i in range(c):\n",
    "        if i == 15:\n",
    "            if a and b:\n",
    "                return 1\n",
    "    return 0\n",
    "'''\n",
    "\n",
    "    def get_minimized(self):\n",
    "        return '''\n",
    "True and True'''"
   ]
  },
  {
   "cell_type": "code",
   "execution_count": 38,
   "metadata": {
    "collapsed": false,
    "jupyter": {
     "outputs_hidden": false
    },
    "pycharm": {
     "name": "#%%\n"
    }
   },
   "outputs": [],
   "source": [
    "class Test2:\n",
    "    parser = Parser2()\n",
    "    def get_original(self):\n",
    "        return '''\n",
    "def original():\n",
    "    a = True\n",
    "    b = not False\n",
    "    c = 30\n",
    "    for i in range(c):\n",
    "        if i == 15:\n",
    "            if a and b:\n",
    "                return 1\n",
    "    return 0\n",
    "    '''\n",
    "\n",
    "    def get_minimized(self):\n",
    "        return '''\n",
    "if True:\n",
    "    return\n",
    "'''"
   ]
  },
  {
   "cell_type": "code",
   "execution_count": 38,
   "metadata": {
    "collapsed": false,
    "jupyter": {
     "outputs_hidden": false
    },
    "pycharm": {
     "name": "#%%\n"
    }
   },
   "outputs": [],
   "source": [
    "class Test3:\n",
    "    parser = Parser3()\n",
    "    def get_original(self):\n",
    "        return '''\n",
    "def original():\n",
    "    a = 1\n",
    "    b = a\n",
    "    c = a - b\n",
    "    if c < a:\n",
    "        d = ''\n",
    "        while a == b:\n",
    "            d = u'\\u0426'\n",
    "            a += 1\n",
    "        return d\n",
    "    return ''\n",
    "'''\n",
    "\n",
    "    def get_minimized(self):\n",
    "        return '''\n",
    "d = u'\\u0426'\n",
    "'''"
   ]
  },
  {
   "cell_type": "code",
   "execution_count": 38,
   "metadata": {
    "collapsed": false,
    "jupyter": {
     "outputs_hidden": false
    },
    "pycharm": {
     "name": "#%%\n"
    }
   },
   "outputs": [],
   "source": [
    "class Test4:\n",
    "    parser = Parser4()\n",
    "    def get_original(self):\n",
    "        return '''\n",
    "def original():\n",
    "    a = 1\n",
    "    b = a\n",
    "    c = a - b\n",
    "    if c < a:\n",
    "        while a == b:\n",
    "            a += 1\n",
    "        return d\n",
    "    return ''\n",
    "'''\n",
    "\n",
    "    def get_minimized(self):\n",
    "        return '''\n",
    "return d\n",
    "'''"
   ]
  },
  {
   "cell_type": "code",
   "execution_count": 38,
   "metadata": {
    "collapsed": false,
    "jupyter": {
     "outputs_hidden": false
    },
    "pycharm": {
     "name": "#%%\n"
    }
   },
   "outputs": [],
   "source": [
    "class Test5:\n",
    "    parser = Parser5()\n",
    "\n",
    "    def get_original(self):\n",
    "        return '''\n",
    "def original():\n",
    "    a = 1\n",
    "    b = 0\n",
    "    while True:\n",
    "        if a < b:\n",
    "            return [1, 2, 3]\n",
    "        else:\n",
    "            return []\n",
    "'''\n",
    "\n",
    "    def get_minimized(self):\n",
    "        return '''\n",
    "[]\n",
    "'''"
   ]
  },
  {
   "cell_type": "markdown",
   "metadata": {
    "pycharm": {
     "name": "#%% md\n"
    }
   },
   "source": [
    "For instance, let's take the input program of `Test1`:"
   ]
  },
  {
   "cell_type": "code",
   "execution_count": 47,
   "metadata": {
    "collapsed": false,
    "jupyter": {
     "outputs_hidden": false
    },
    "pycharm": {
     "name": "#%%\n"
    }
   },
   "outputs": [
    {
     "name": "stdout",
     "output_type": "stream",
     "text": [
      "\n",
      "def original():\n",
      "    a = True\n",
      "    b = not False\n",
      "    c = 30\n",
      "    for i in range(c):\n",
      "        if i == 15:\n",
      "            if a and b:\n",
      "                return 1\n",
      "    return 0\n",
      "\n"
     ]
    }
   ],
   "source": [
    "test = Test1()\n",
    "source = test.get_original()\n",
    "print(source)"
   ]
  },
  {
   "cell_type": "markdown",
   "metadata": {},
   "source": [
    "And parse it with the provided parser:"
   ]
  },
  {
   "cell_type": "code",
   "execution_count": 48,
   "metadata": {
    "collapsed": false,
    "jupyter": {
     "outputs_hidden": false
    },
    "pycharm": {
     "name": "#%%\n"
    }
   },
   "outputs": [
    {
     "name": "stderr",
     "output_type": "stream",
     "text": [
      "Traceback (most recent call last):\n",
      "  File \"<ipython-input-48-460bfcdf8fdd>\", line 2, in <module>\n",
      "    test.parser.parse(source)\n",
      "  File \"<ipython-input-26-299b605fbaca>\", line 8, in parse\n",
      "    self.parse_tree(tree)\n",
      "  File \"<ipython-input-26-299b605fbaca>\", line 4, in parse_tree\n",
      "    self.visit(tree)\n",
      "  File \"/Users/zeller/anaconda3/lib/python3.6/ast.py\", line 253, in visit\n",
      "    return visitor(node)\n",
      "  File \"/Users/zeller/anaconda3/lib/python3.6/ast.py\", line 261, in generic_visit\n",
      "    self.visit(item)\n",
      "  File \"/Users/zeller/anaconda3/lib/python3.6/ast.py\", line 253, in visit\n",
      "    return visitor(node)\n",
      "  File \"/Users/zeller/anaconda3/lib/python3.6/ast.py\", line 261, in generic_visit\n",
      "    self.visit(item)\n",
      "  File \"/Users/zeller/anaconda3/lib/python3.6/ast.py\", line 253, in visit\n",
      "    return visitor(node)\n",
      "  File \"/Users/zeller/anaconda3/lib/python3.6/ast.py\", line 261, in generic_visit\n",
      "    self.visit(item)\n",
      "  File \"/Users/zeller/anaconda3/lib/python3.6/ast.py\", line 253, in visit\n",
      "    return visitor(node)\n",
      "  File \"/Users/zeller/anaconda3/lib/python3.6/ast.py\", line 261, in generic_visit\n",
      "    self.visit(item)\n",
      "  File \"/Users/zeller/anaconda3/lib/python3.6/ast.py\", line 253, in visit\n",
      "    return visitor(node)\n",
      "  File \"/Users/zeller/anaconda3/lib/python3.6/ast.py\", line 263, in generic_visit\n",
      "    self.visit(value)\n",
      "  File \"/Users/zeller/anaconda3/lib/python3.6/ast.py\", line 253, in visit\n",
      "    return visitor(node)\n",
      "  File \"<ipython-input-27-f3923c2a5b4f>\", line 6, in visit_BoolOp\n",
      "    raise ParserException(f\"Something went wrong\")\n",
      "ParserException: Something went wrong (expected)\n"
     ]
    }
   ],
   "source": [
    "with ExpectError():\n",
    "    test.parser.parse(source)"
   ]
  },
  {
   "cell_type": "markdown",
   "metadata": {},
   "source": [
    "The parser failed."
   ]
  },
  {
   "cell_type": "markdown",
   "source": [
    "### Testing Infrastructure\n",
    "\n",
    "The following section introduces the testing infrastructure, which is used to assess your performance in the project. Passing all tests will be enough to complete the project successfully."
   ],
   "metadata": {
    "collapsed": false
   }
  },
  {
   "cell_type": "markdown",
   "metadata": {
    "hidden": true,
    "pycharm": {
     "name": "#%% md\n"
    }
   },
   "source": [
    "We are not going to directly compare a minimized program with the reference solution (as two strings). Instead, we again transform the code into AST and count the number of nodes in both trees.\n",
    "If the difference between them is lower than a `THRESHOLD` (and a parser still produces an error), the test is passed.\n",
    "To count the number of nodes in the AST, we need a helper class `NodeCounter`."
   ]
  },
  {
   "cell_type": "code",
   "execution_count": 41,
   "metadata": {
    "hidden": true,
    "pycharm": {
     "name": "#%%\n"
    }
   },
   "outputs": [],
   "source": [
    "class NodeCounter(ast.NodeVisitor):\n",
    "    \"\"\"\n",
    "    This node counter is used to assess the amount of reductions performed by your reducer. It counts the number of nodes in the AST\n",
    "    \"\"\"\n",
    "\n",
    "    def __init__(self) -> None:\n",
    "        self.num_nodes = 0\n",
    "\n",
    "    def visit(self, node):\n",
    "        self.num_nodes += 1\n",
    "        self.generic_visit(node)\n",
    "\n",
    "    def count(self, source):\n",
    "        tree = ast.parse(source=source)\n",
    "        self.visit(tree)\n",
    "        return self.num_nodes\n"
   ]
  },
  {
   "cell_type": "markdown",
   "metadata": {
    "pycharm": {
     "name": "#%% md\n"
    }
   },
   "source": [
    "The AST of the input program is as follows:"
   ]
  },
  {
   "cell_type": "code",
   "execution_count": 42,
   "metadata": {
    "collapsed": false,
    "jupyter": {
     "outputs_hidden": false
    },
    "pycharm": {
     "name": "#%%\n"
    }
   },
   "outputs": [
    {
     "data": {
      "image/svg+xml": [
       "<svg height=\"476pt\" viewBox=\"0.00 0.00 1633.00 476.00\" width=\"1633pt\" xmlns=\"http://www.w3.org/2000/svg\" xmlns:xlink=\"http://www.w3.org/1999/xlink\">\n",
       "<g class=\"graph\" id=\"graph0\" transform=\"scale(1 1) rotate(0) translate(4 472)\">\n",
       "<title>%3</title>\n",
       "<polygon fill=\"#ffffff\" points=\"-4,4 -4,-472 1629,-472 1629,4 -4,4\" stroke=\"transparent\"/>\n",
       "<!-- 0 -->\n",
       "<g class=\"node\" id=\"node1\">\n",
       "<title>0</title>\n",
       "<text fill=\"#004080\" font-family=\"Courier,monospace\" font-size=\"14.00\" font-weight=\"bold\" text-anchor=\"start\" x=\"408.5\" y=\"-447.3\">FunctionDef</text>\n",
       "</g>\n",
       "<!-- 1 -->\n",
       "<g class=\"node\" id=\"node2\">\n",
       "<title>1</title>\n",
       "<text fill=\"#008040\" font-family=\"Courier,monospace\" font-size=\"14.00\" text-anchor=\"middle\" x=\"157\" y=\"-374.3\">&quot;original&quot;</text>\n",
       "</g>\n",
       "<!-- 0&#45;&#45;1 -->\n",
       "<g class=\"edge\" id=\"edge1\">\n",
       "<title>0--1</title>\n",
       "<path d=\"M457,-432C457,-432 322.2562,-419.5565 217,-396 213.9223,-395.3112 210.7719,-394.5475 207.6048,-393.7346\" fill=\"none\" stroke=\"#000000\"/>\n",
       "</g>\n",
       "<!-- 2 -->\n",
       "<g class=\"node\" id=\"node3\">\n",
       "<title>2</title>\n",
       "<text fill=\"#008040\" font-family=\"Courier,monospace\" font-size=\"14.00\" text-anchor=\"middle\" x=\"272\" y=\"-374.3\">arguments</text>\n",
       "</g>\n",
       "<!-- 0&#45;&#45;2 -->\n",
       "<g class=\"edge\" id=\"edge2\">\n",
       "<title>0--2</title>\n",
       "<path d=\"M457,-432C457,-432 384.3934,-413.3284 327,-396 324.1146,-395.1288 321.1501,-394.2146 318.1647,-393.2795\" fill=\"none\" stroke=\"#000000\"/>\n",
       "</g>\n",
       "<!-- 3 -->\n",
       "<g class=\"node\" id=\"node4\">\n",
       "<title>3</title>\n",
       "<text fill=\"#004080\" font-family=\"Courier,monospace\" font-size=\"14.00\" font-weight=\"bold\" text-anchor=\"start\" x=\"344.5\" y=\"-375.3\">Assign</text>\n",
       "</g>\n",
       "<!-- 0&#45;&#45;3 -->\n",
       "<g class=\"edge\" id=\"edge3\">\n",
       "<title>0--3</title>\n",
       "<path d=\"M457,-432C457,-432 424.6936,-411.9478 399.4542,-396.2819\" fill=\"none\" stroke=\"#000000\"/>\n",
       "</g>\n",
       "<!-- 9 -->\n",
       "<g class=\"node\" id=\"node10\">\n",
       "<title>9</title>\n",
       "<text fill=\"#004080\" font-family=\"Courier,monospace\" font-size=\"14.00\" font-weight=\"bold\" text-anchor=\"start\" x=\"429.5\" y=\"-375.3\">Assign</text>\n",
       "</g>\n",
       "<!-- 0&#45;&#45;9 -->\n",
       "<g class=\"edge\" id=\"edge9\">\n",
       "<title>0--9</title>\n",
       "<path d=\"M457,-432C457,-432 456.2573,-411.9478 455.6771,-396.2819\" fill=\"none\" stroke=\"#000000\"/>\n",
       "</g>\n",
       "<!-- 17 -->\n",
       "<g class=\"node\" id=\"node18\">\n",
       "<title>17</title>\n",
       "<text fill=\"#004080\" font-family=\"Courier,monospace\" font-size=\"14.00\" font-weight=\"bold\" text-anchor=\"start\" x=\"600.5\" y=\"-375.3\">Assign</text>\n",
       "</g>\n",
       "<!-- 0&#45;&#45;17 -->\n",
       "<g class=\"edge\" id=\"edge17\">\n",
       "<title>0--17</title>\n",
       "<path d=\"M457,-432C457,-432 542.888,-404.5565 592.2065,-388.7979\" fill=\"none\" stroke=\"#000000\"/>\n",
       "</g>\n",
       "<!-- 23 -->\n",
       "<g class=\"node\" id=\"node24\">\n",
       "<title>23</title>\n",
       "<text fill=\"#004080\" font-family=\"Courier,monospace\" font-size=\"14.00\" font-weight=\"bold\" text-anchor=\"start\" x=\"928\" y=\"-375.3\">For</text>\n",
       "</g>\n",
       "<!-- 0&#45;&#45;23 -->\n",
       "<g class=\"edge\" id=\"edge23\">\n",
       "<title>0--23</title>\n",
       "<path d=\"M457,-432C457,-432 812.0133,-392.3911 913.941,-381.019\" fill=\"none\" stroke=\"#000000\"/>\n",
       "</g>\n",
       "<!-- 54 -->\n",
       "<g class=\"node\" id=\"node55\">\n",
       "<title>54</title>\n",
       "<text fill=\"#004080\" font-family=\"Courier,monospace\" font-size=\"14.00\" font-weight=\"bold\" text-anchor=\"start\" x=\"1173.5\" y=\"-375.3\">Return</text>\n",
       "</g>\n",
       "<!-- 0&#45;&#45;54 -->\n",
       "<g class=\"edge\" id=\"edge54\">\n",
       "<title>0--54</title>\n",
       "<path d=\"M457,-432C457,-432 745.9872,-413.3614 977,-396 1043.7078,-390.9867 1121.6389,-384.5289 1165.1601,-380.8685\" fill=\"none\" stroke=\"#000000\"/>\n",
       "</g>\n",
       "<!-- 4 -->\n",
       "<g class=\"node\" id=\"node5\">\n",
       "<title>4</title>\n",
       "<text fill=\"#004080\" font-family=\"Courier,monospace\" font-size=\"14.00\" font-weight=\"bold\" text-anchor=\"start\" x=\"85\" y=\"-303.3\">Name</text>\n",
       "</g>\n",
       "<!-- 3&#45;&#45;4 -->\n",
       "<g class=\"edge\" id=\"edge4\">\n",
       "<title>3--4</title>\n",
       "<path d=\"M336,-366C336,-366 331.4434,-361.835 327,-360 250.7872,-328.526 223.8735,-348.0412 145,-324 139.8907,-322.4427 134.5578,-320.4919 129.4562,-318.4541\" fill=\"none\" stroke=\"#000000\"/>\n",
       "</g>\n",
       "<!-- 7 -->\n",
       "<g class=\"node\" id=\"node8\">\n",
       "<title>7</title>\n",
       "<text fill=\"#004080\" font-family=\"Courier,monospace\" font-size=\"14.00\" font-weight=\"bold\" text-anchor=\"start\" x=\"162.5\" y=\"-303.3\">NameConstant</text>\n",
       "</g>\n",
       "<!-- 3&#45;&#45;7 -->\n",
       "<g class=\"edge\" id=\"edge7\">\n",
       "<title>3--7</title>\n",
       "<path d=\"M336,-366C336,-366 331.1834,-362.3686 327,-360 303.7502,-346.8362 276.7696,-333.9551 254.8945,-324.0769\" fill=\"none\" stroke=\"#000000\"/>\n",
       "</g>\n",
       "<!-- 5 -->\n",
       "<g class=\"node\" id=\"node6\">\n",
       "<title>5</title>\n",
       "<text fill=\"#008040\" font-family=\"Courier,monospace\" font-size=\"14.00\" text-anchor=\"middle\" x=\"27\" y=\"-230.3\">&quot;a&quot;</text>\n",
       "</g>\n",
       "<!-- 4&#45;&#45;5 -->\n",
       "<g class=\"edge\" id=\"edge5\">\n",
       "<title>4--5</title>\n",
       "<path d=\"M94,-288C94,-288 69.1204,-267.9478 49.6831,-252.2819\" fill=\"none\" stroke=\"#000000\"/>\n",
       "</g>\n",
       "<!-- 6 -->\n",
       "<g class=\"node\" id=\"node7\">\n",
       "<title>6</title>\n",
       "<text fill=\"#008040\" font-family=\"Courier,monospace\" font-size=\"14.00\" text-anchor=\"middle\" x=\"102\" y=\"-230.3\">Store</text>\n",
       "</g>\n",
       "<!-- 4&#45;&#45;6 -->\n",
       "<g class=\"edge\" id=\"edge6\">\n",
       "<title>4--6</title>\n",
       "<path d=\"M94,-288C94,-288 96.9707,-267.9478 99.2916,-252.2819\" fill=\"none\" stroke=\"#000000\"/>\n",
       "</g>\n",
       "<!-- 8 -->\n",
       "<g class=\"node\" id=\"node9\">\n",
       "<title>8</title>\n",
       "<text fill=\"#008040\" font-family=\"Courier,monospace\" font-size=\"14.00\" text-anchor=\"middle\" x=\"177\" y=\"-230.3\">True</text>\n",
       "</g>\n",
       "<!-- 7&#45;&#45;8 -->\n",
       "<g class=\"edge\" id=\"edge8\">\n",
       "<title>7--8</title>\n",
       "<path d=\"M203.9157,-287.8314C198.5,-277 191.6438,-263.2876 186.2066,-252.4133\" fill=\"none\" stroke=\"#000000\"/>\n",
       "</g>\n",
       "<!-- 10 -->\n",
       "<g class=\"node\" id=\"node11\">\n",
       "<title>10</title>\n",
       "<text fill=\"#004080\" font-family=\"Courier,monospace\" font-size=\"14.00\" font-weight=\"bold\" text-anchor=\"start\" x=\"307\" y=\"-303.3\">Name</text>\n",
       "</g>\n",
       "<!-- 9&#45;&#45;10 -->\n",
       "<g class=\"edge\" id=\"edge10\">\n",
       "<title>9--10</title>\n",
       "<path d=\"M444,-360C444,-360 386.6349,-334.1857 351.2299,-318.2534\" fill=\"none\" stroke=\"#000000\"/>\n",
       "</g>\n",
       "<!-- 13 -->\n",
       "<g class=\"node\" id=\"node14\">\n",
       "<title>13</title>\n",
       "<text fill=\"#004080\" font-family=\"Courier,monospace\" font-size=\"14.00\" font-weight=\"bold\" text-anchor=\"start\" x=\"425.5\" y=\"-303.3\">UnaryOp</text>\n",
       "</g>\n",
       "<!-- 9&#45;&#45;13 -->\n",
       "<g class=\"edge\" id=\"edge13\">\n",
       "<title>9--13</title>\n",
       "<path d=\"M444,-360C444,-360 448.0847,-339.9478 451.2759,-324.2819\" fill=\"none\" stroke=\"#000000\"/>\n",
       "</g>\n",
       "<!-- 11 -->\n",
       "<g class=\"node\" id=\"node12\">\n",
       "<title>11</title>\n",
       "<text fill=\"#008040\" font-family=\"Courier,monospace\" font-size=\"14.00\" text-anchor=\"middle\" x=\"249\" y=\"-230.3\">&quot;b&quot;</text>\n",
       "</g>\n",
       "<!-- 10&#45;&#45;11 -->\n",
       "<g class=\"edge\" id=\"edge11\">\n",
       "<title>10--11</title>\n",
       "<path d=\"M316,-288C316,-288 291.1204,-267.9478 271.6831,-252.2819\" fill=\"none\" stroke=\"#000000\"/>\n",
       "</g>\n",
       "<!-- 12 -->\n",
       "<g class=\"node\" id=\"node13\">\n",
       "<title>12</title>\n",
       "<text fill=\"#008040\" font-family=\"Courier,monospace\" font-size=\"14.00\" text-anchor=\"middle\" x=\"324\" y=\"-230.3\">Store</text>\n",
       "</g>\n",
       "<!-- 10&#45;&#45;12 -->\n",
       "<g class=\"edge\" id=\"edge12\">\n",
       "<title>10--12</title>\n",
       "<path d=\"M316,-288C316,-288 318.9707,-267.9478 321.2916,-252.2819\" fill=\"none\" stroke=\"#000000\"/>\n",
       "</g>\n",
       "<!-- 14 -->\n",
       "<g class=\"node\" id=\"node15\">\n",
       "<title>14</title>\n",
       "<text fill=\"#008040\" font-family=\"Courier,monospace\" font-size=\"14.00\" text-anchor=\"middle\" x=\"399\" y=\"-230.3\">Not</text>\n",
       "</g>\n",
       "<!-- 13&#45;&#45;14 -->\n",
       "<g class=\"edge\" id=\"edge14\">\n",
       "<title>13--14</title>\n",
       "<path d=\"M454,-288C454,-288 433.5764,-267.9478 417.6205,-252.2819\" fill=\"none\" stroke=\"#000000\"/>\n",
       "</g>\n",
       "<!-- 15 -->\n",
       "<g class=\"node\" id=\"node16\">\n",
       "<title>15</title>\n",
       "<text fill=\"#004080\" font-family=\"Courier,monospace\" font-size=\"14.00\" font-weight=\"bold\" text-anchor=\"start\" x=\"452.5\" y=\"-231.3\">NameConstant</text>\n",
       "</g>\n",
       "<!-- 13&#45;&#45;15 -->\n",
       "<g class=\"edge\" id=\"edge15\">\n",
       "<title>13--15</title>\n",
       "<path d=\"M454,-288C454,-288 472.1956,-267.9478 486.4108,-252.2819\" fill=\"none\" stroke=\"#000000\"/>\n",
       "</g>\n",
       "<!-- 16 -->\n",
       "<g class=\"node\" id=\"node17\">\n",
       "<title>16</title>\n",
       "<text fill=\"#008040\" font-family=\"Courier,monospace\" font-size=\"14.00\" text-anchor=\"middle\" x=\"503\" y=\"-158.3\">False</text>\n",
       "</g>\n",
       "<!-- 15&#45;&#45;16 -->\n",
       "<g class=\"edge\" id=\"edge16\">\n",
       "<title>15--16</title>\n",
       "<path d=\"M503,-215.8314C503,-205 503,-191.2876 503,-180.4133\" fill=\"none\" stroke=\"#000000\"/>\n",
       "</g>\n",
       "<!-- 18 -->\n",
       "<g class=\"node\" id=\"node19\">\n",
       "<title>18</title>\n",
       "<text fill=\"#004080\" font-family=\"Courier,monospace\" font-size=\"14.00\" font-weight=\"bold\" text-anchor=\"start\" x=\"609\" y=\"-303.3\">Name</text>\n",
       "</g>\n",
       "<!-- 17&#45;&#45;18 -->\n",
       "<g class=\"edge\" id=\"edge18\">\n",
       "<title>17--18</title>\n",
       "<path d=\"M635,-360C635,-360 631.658,-339.9478 629.047,-324.2819\" fill=\"none\" stroke=\"#000000\"/>\n",
       "</g>\n",
       "<!-- 21 -->\n",
       "<g class=\"node\" id=\"node22\">\n",
       "<title>21</title>\n",
       "<text fill=\"#004080\" font-family=\"Courier,monospace\" font-size=\"14.00\" font-weight=\"bold\" text-anchor=\"start\" x=\"705\" y=\"-303.3\">Num</text>\n",
       "</g>\n",
       "<!-- 17&#45;&#45;21 -->\n",
       "<g class=\"edge\" id=\"edge21\">\n",
       "<title>17--21</title>\n",
       "<path d=\"M635,-360C635,-360 666.6164,-339.4303 690.8227,-323.6816\" fill=\"none\" stroke=\"#000000\"/>\n",
       "</g>\n",
       "<!-- 19 -->\n",
       "<g class=\"node\" id=\"node20\">\n",
       "<title>19</title>\n",
       "<text fill=\"#008040\" font-family=\"Courier,monospace\" font-size=\"14.00\" text-anchor=\"middle\" x=\"607\" y=\"-230.3\">&quot;c&quot;</text>\n",
       "</g>\n",
       "<!-- 18&#45;&#45;19 -->\n",
       "<g class=\"edge\" id=\"edge19\">\n",
       "<title>18--19</title>\n",
       "<path d=\"M630,-288C630,-288 621.4592,-267.9478 614.7868,-252.2819\" fill=\"none\" stroke=\"#000000\"/>\n",
       "</g>\n",
       "<!-- 20 -->\n",
       "<g class=\"node\" id=\"node21\">\n",
       "<title>20</title>\n",
       "<text fill=\"#008040\" font-family=\"Courier,monospace\" font-size=\"14.00\" text-anchor=\"middle\" x=\"682\" y=\"-230.3\">Store</text>\n",
       "</g>\n",
       "<!-- 18&#45;&#45;20 -->\n",
       "<g class=\"edge\" id=\"edge20\">\n",
       "<title>18--20</title>\n",
       "<path d=\"M630,-288C630,-288 649.3096,-267.9478 664.3952,-252.2819\" fill=\"none\" stroke=\"#000000\"/>\n",
       "</g>\n",
       "<!-- 22 -->\n",
       "<g class=\"node\" id=\"node23\">\n",
       "<title>22</title>\n",
       "<text fill=\"#008040\" font-family=\"Courier,monospace\" font-size=\"14.00\" text-anchor=\"middle\" x=\"757\" y=\"-230.3\">30</text>\n",
       "</g>\n",
       "<!-- 21&#45;&#45;22 -->\n",
       "<g class=\"edge\" id=\"edge22\">\n",
       "<title>21--22</title>\n",
       "<path d=\"M727.8413,-287.8314C733.7083,-277 741.1359,-263.2876 747.0261,-252.4133\" fill=\"none\" stroke=\"#000000\"/>\n",
       "</g>\n",
       "<!-- 24 -->\n",
       "<g class=\"node\" id=\"node25\">\n",
       "<title>24</title>\n",
       "<text fill=\"#004080\" font-family=\"Courier,monospace\" font-size=\"14.00\" font-weight=\"bold\" text-anchor=\"start\" x=\"887\" y=\"-303.3\">Name</text>\n",
       "</g>\n",
       "<!-- 23&#45;&#45;24 -->\n",
       "<g class=\"edge\" id=\"edge24\">\n",
       "<title>23--24</title>\n",
       "<path d=\"M950,-360C950,-360 932.9185,-339.9478 919.5735,-324.2819\" fill=\"none\" stroke=\"#000000\"/>\n",
       "</g>\n",
       "<!-- 27 -->\n",
       "<g class=\"node\" id=\"node28\">\n",
       "<title>27</title>\n",
       "<text fill=\"#004080\" font-family=\"Courier,monospace\" font-size=\"14.00\" font-weight=\"bold\" text-anchor=\"start\" x=\"962\" y=\"-303.3\">Call</text>\n",
       "</g>\n",
       "<!-- 23&#45;&#45;27 -->\n",
       "<g class=\"edge\" id=\"edge27\">\n",
       "<title>23--27</title>\n",
       "<path d=\"M950,-360C950,-360 960.7688,-339.9478 969.1819,-324.2819\" fill=\"none\" stroke=\"#000000\"/>\n",
       "</g>\n",
       "<!-- 34 -->\n",
       "<g class=\"node\" id=\"node35\">\n",
       "<title>34</title>\n",
       "<text fill=\"#004080\" font-family=\"Courier,monospace\" font-size=\"14.00\" font-weight=\"bold\" text-anchor=\"start\" x=\"1222.5\" y=\"-303.3\">If</text>\n",
       "</g>\n",
       "<!-- 23&#45;&#45;34 -->\n",
       "<g class=\"edge\" id=\"edge34\">\n",
       "<title>23--34</title>\n",
       "<path d=\"M950,-360C950,-360 1133.281,-324.7787 1203.8012,-311.2268\" fill=\"none\" stroke=\"#000000\"/>\n",
       "</g>\n",
       "<!-- 25 -->\n",
       "<g class=\"node\" id=\"node26\">\n",
       "<title>25</title>\n",
       "<text fill=\"#008040\" font-family=\"Courier,monospace\" font-size=\"14.00\" text-anchor=\"middle\" x=\"829\" y=\"-230.3\">&quot;i&quot;</text>\n",
       "</g>\n",
       "<!-- 24&#45;&#45;25 -->\n",
       "<g class=\"edge\" id=\"edge25\">\n",
       "<title>24--25</title>\n",
       "<path d=\"M896,-288C896,-288 871.1204,-267.9478 851.6831,-252.2819\" fill=\"none\" stroke=\"#000000\"/>\n",
       "</g>\n",
       "<!-- 26 -->\n",
       "<g class=\"node\" id=\"node27\">\n",
       "<title>26</title>\n",
       "<text fill=\"#008040\" font-family=\"Courier,monospace\" font-size=\"14.00\" text-anchor=\"middle\" x=\"904\" y=\"-230.3\">Store</text>\n",
       "</g>\n",
       "<!-- 24&#45;&#45;26 -->\n",
       "<g class=\"edge\" id=\"edge26\">\n",
       "<title>24--26</title>\n",
       "<path d=\"M896,-288C896,-288 898.9707,-267.9478 901.2916,-252.2819\" fill=\"none\" stroke=\"#000000\"/>\n",
       "</g>\n",
       "<!-- 28 -->\n",
       "<g class=\"node\" id=\"node29\">\n",
       "<title>28</title>\n",
       "<text fill=\"#004080\" font-family=\"Courier,monospace\" font-size=\"14.00\" font-weight=\"bold\" text-anchor=\"start\" x=\"962\" y=\"-231.3\">Name</text>\n",
       "</g>\n",
       "<!-- 27&#45;&#45;28 -->\n",
       "<g class=\"edge\" id=\"edge28\">\n",
       "<title>27--28</title>\n",
       "<path d=\"M987,-288C987,-288 984.0293,-267.9478 981.7084,-252.2819\" fill=\"none\" stroke=\"#000000\"/>\n",
       "</g>\n",
       "<!-- 31 -->\n",
       "<g class=\"node\" id=\"node32\">\n",
       "<title>31</title>\n",
       "<text fill=\"#004080\" font-family=\"Courier,monospace\" font-size=\"14.00\" font-weight=\"bold\" text-anchor=\"start\" x=\"1034\" y=\"-231.3\">Name</text>\n",
       "</g>\n",
       "<!-- 27&#45;&#45;31 -->\n",
       "<g class=\"edge\" id=\"edge31\">\n",
       "<title>27--31</title>\n",
       "<path d=\"M987,-288C987,-288 1010.7656,-267.9478 1029.3325,-252.2819\" fill=\"none\" stroke=\"#000000\"/>\n",
       "</g>\n",
       "<!-- 29 -->\n",
       "<g class=\"node\" id=\"node30\">\n",
       "<title>29</title>\n",
       "<text fill=\"#008040\" font-family=\"Courier,monospace\" font-size=\"14.00\" text-anchor=\"middle\" x=\"860\" y=\"-158.3\">&quot;range&quot;</text>\n",
       "</g>\n",
       "<!-- 28&#45;&#45;29 -->\n",
       "<g class=\"edge\" id=\"edge29\">\n",
       "<title>28--29</title>\n",
       "<path d=\"M962,-216C962,-216 923.8803,-195.819 894.2483,-180.1314\" fill=\"none\" stroke=\"#000000\"/>\n",
       "</g>\n",
       "<!-- 30 -->\n",
       "<g class=\"node\" id=\"node31\">\n",
       "<title>30</title>\n",
       "<text fill=\"#008040\" font-family=\"Courier,monospace\" font-size=\"14.00\" text-anchor=\"middle\" x=\"943\" y=\"-158.3\">Load</text>\n",
       "</g>\n",
       "<!-- 28&#45;&#45;30 -->\n",
       "<g class=\"edge\" id=\"edge30\">\n",
       "<title>28--30</title>\n",
       "<path d=\"M962,-216C962,-216 954.9446,-195.9478 949.4325,-180.2819\" fill=\"none\" stroke=\"#000000\"/>\n",
       "</g>\n",
       "<!-- 32 -->\n",
       "<g class=\"node\" id=\"node33\">\n",
       "<title>32</title>\n",
       "<text fill=\"#008040\" font-family=\"Courier,monospace\" font-size=\"14.00\" text-anchor=\"middle\" x=\"1015\" y=\"-158.3\">&quot;c&quot;</text>\n",
       "</g>\n",
       "<!-- 31&#45;&#45;32 -->\n",
       "<g class=\"edge\" id=\"edge32\">\n",
       "<title>31--32</title>\n",
       "<path d=\"M1051,-216C1051,-216 1037.6318,-195.9478 1027.188,-180.2819\" fill=\"none\" stroke=\"#000000\"/>\n",
       "</g>\n",
       "<!-- 33 -->\n",
       "<g class=\"node\" id=\"node34\">\n",
       "<title>33</title>\n",
       "<text fill=\"#008040\" font-family=\"Courier,monospace\" font-size=\"14.00\" text-anchor=\"middle\" x=\"1087\" y=\"-158.3\">Load</text>\n",
       "</g>\n",
       "<!-- 31&#45;&#45;33 -->\n",
       "<g class=\"edge\" id=\"edge33\">\n",
       "<title>31--33</title>\n",
       "<path d=\"M1051,-216C1051,-216 1064.3682,-195.9478 1074.812,-180.2819\" fill=\"none\" stroke=\"#000000\"/>\n",
       "</g>\n",
       "<!-- 35 -->\n",
       "<g class=\"node\" id=\"node36\">\n",
       "<title>35</title>\n",
       "<text fill=\"#004080\" font-family=\"Courier,monospace\" font-size=\"14.00\" font-weight=\"bold\" text-anchor=\"start\" x=\"1201.5\" y=\"-231.3\">Compare</text>\n",
       "</g>\n",
       "<!-- 34&#45;&#45;35 -->\n",
       "<g class=\"edge\" id=\"edge35\">\n",
       "<title>34--35</title>\n",
       "<path d=\"M1241,-288C1241,-288 1237.2866,-267.9478 1234.3855,-252.2819\" fill=\"none\" stroke=\"#000000\"/>\n",
       "</g>\n",
       "<!-- 42 -->\n",
       "<g class=\"node\" id=\"node43\">\n",
       "<title>42</title>\n",
       "<text fill=\"#004080\" font-family=\"Courier,monospace\" font-size=\"14.00\" font-weight=\"bold\" text-anchor=\"start\" x=\"1339.5\" y=\"-231.3\">If</text>\n",
       "</g>\n",
       "<!-- 34&#45;&#45;42 -->\n",
       "<g class=\"edge\" id=\"edge42\">\n",
       "<title>34--42</title>\n",
       "<path d=\"M1241,-288C1241,-288 1289.3015,-263.6235 1320.9994,-247.6265\" fill=\"none\" stroke=\"#000000\"/>\n",
       "</g>\n",
       "<!-- 36 -->\n",
       "<g class=\"node\" id=\"node37\">\n",
       "<title>36</title>\n",
       "<text fill=\"#004080\" font-family=\"Courier,monospace\" font-size=\"14.00\" font-weight=\"bold\" text-anchor=\"start\" x=\"1142\" y=\"-159.3\">Name</text>\n",
       "</g>\n",
       "<!-- 35&#45;&#45;36 -->\n",
       "<g class=\"edge\" id=\"edge36\">\n",
       "<title>35--36</title>\n",
       "<path d=\"M1231,-216C1231,-216 1204.2637,-195.9478 1183.3759,-180.2819\" fill=\"none\" stroke=\"#000000\"/>\n",
       "</g>\n",
       "<!-- 39 -->\n",
       "<g class=\"node\" id=\"node40\">\n",
       "<title>39</title>\n",
       "<text fill=\"#008040\" font-family=\"Courier,monospace\" font-size=\"14.00\" text-anchor=\"middle\" x=\"1231\" y=\"-158.3\">Eq</text>\n",
       "</g>\n",
       "<!-- 35&#45;&#45;39 -->\n",
       "<g class=\"edge\" id=\"edge39\">\n",
       "<title>35--39</title>\n",
       "<path d=\"M1231,-216C1231,-216 1231,-195.9478 1231,-180.2819\" fill=\"none\" stroke=\"#000000\"/>\n",
       "</g>\n",
       "<!-- 40 -->\n",
       "<g class=\"node\" id=\"node41\">\n",
       "<title>40</title>\n",
       "<text fill=\"#004080\" font-family=\"Courier,monospace\" font-size=\"14.00\" font-weight=\"bold\" text-anchor=\"start\" x=\"1290\" y=\"-159.3\">Num</text>\n",
       "</g>\n",
       "<!-- 35&#45;&#45;40 -->\n",
       "<g class=\"edge\" id=\"edge40\">\n",
       "<title>35--40</title>\n",
       "<path d=\"M1231,-216C1231,-216 1257.7363,-195.9478 1278.6241,-180.2819\" fill=\"none\" stroke=\"#000000\"/>\n",
       "</g>\n",
       "<!-- 37 -->\n",
       "<g class=\"node\" id=\"node38\">\n",
       "<title>37</title>\n",
       "<text fill=\"#008040\" font-family=\"Courier,monospace\" font-size=\"14.00\" text-anchor=\"middle\" x=\"1090\" y=\"-86.3\">&quot;i&quot;</text>\n",
       "</g>\n",
       "<!-- 36&#45;&#45;37 -->\n",
       "<g class=\"edge\" id=\"edge37\">\n",
       "<title>36--37</title>\n",
       "<path d=\"M1152,-144C1152,-144 1128.9771,-123.9478 1110.9904,-108.2819\" fill=\"none\" stroke=\"#000000\"/>\n",
       "</g>\n",
       "<!-- 38 -->\n",
       "<g class=\"node\" id=\"node39\">\n",
       "<title>38</title>\n",
       "<text fill=\"#008040\" font-family=\"Courier,monospace\" font-size=\"14.00\" text-anchor=\"middle\" x=\"1162\" y=\"-86.3\">Load</text>\n",
       "</g>\n",
       "<!-- 36&#45;&#45;38 -->\n",
       "<g class=\"edge\" id=\"edge38\">\n",
       "<title>36--38</title>\n",
       "<path d=\"M1152,-144C1152,-144 1155.7134,-123.9478 1158.6145,-108.2819\" fill=\"none\" stroke=\"#000000\"/>\n",
       "</g>\n",
       "<!-- 41 -->\n",
       "<g class=\"node\" id=\"node42\">\n",
       "<title>41</title>\n",
       "<text fill=\"#008040\" font-family=\"Courier,monospace\" font-size=\"14.00\" text-anchor=\"middle\" x=\"1238\" y=\"-86.3\">15</text>\n",
       "</g>\n",
       "<!-- 40&#45;&#45;41 -->\n",
       "<g class=\"edge\" id=\"edge41\">\n",
       "<title>40--41</title>\n",
       "<path d=\"M1286.5978,-143.8314C1276.8195,-133 1264.4402,-119.2876 1254.6231,-108.4133\" fill=\"none\" stroke=\"#000000\"/>\n",
       "</g>\n",
       "<!-- 43 -->\n",
       "<g class=\"node\" id=\"node44\">\n",
       "<title>43</title>\n",
       "<text fill=\"#004080\" font-family=\"Courier,monospace\" font-size=\"14.00\" font-weight=\"bold\" text-anchor=\"start\" x=\"1356.5\" y=\"-159.3\">BoolOp</text>\n",
       "</g>\n",
       "<!-- 42&#45;&#45;43 -->\n",
       "<g class=\"edge\" id=\"edge43\">\n",
       "<title>42--43</title>\n",
       "<path d=\"M1367,-216C1367,-216 1372.5701,-195.9478 1376.9217,-180.2819\" fill=\"none\" stroke=\"#000000\"/>\n",
       "</g>\n",
       "<!-- 51 -->\n",
       "<g class=\"node\" id=\"node52\">\n",
       "<title>51</title>\n",
       "<text fill=\"#004080\" font-family=\"Courier,monospace\" font-size=\"14.00\" font-weight=\"bold\" text-anchor=\"start\" x=\"1489.5\" y=\"-159.3\">Return</text>\n",
       "</g>\n",
       "<!-- 42&#45;&#45;51 -->\n",
       "<g class=\"edge\" id=\"edge51\">\n",
       "<title>42--51</title>\n",
       "<path d=\"M1367,-216C1367,-216 1437.7503,-190.1857 1481.4165,-174.2534\" fill=\"none\" stroke=\"#000000\"/>\n",
       "</g>\n",
       "<!-- 44 -->\n",
       "<g class=\"node\" id=\"node45\">\n",
       "<title>44</title>\n",
       "<text fill=\"#008040\" font-family=\"Courier,monospace\" font-size=\"14.00\" text-anchor=\"middle\" x=\"1310\" y=\"-86.3\">And</text>\n",
       "</g>\n",
       "<!-- 43&#45;&#45;44 -->\n",
       "<g class=\"edge\" id=\"edge44\">\n",
       "<title>43--44</title>\n",
       "<path d=\"M1382,-144C1382,-144 1355.2637,-123.9478 1334.3759,-108.2819\" fill=\"none\" stroke=\"#000000\"/>\n",
       "</g>\n",
       "<!-- 45 -->\n",
       "<g class=\"node\" id=\"node46\">\n",
       "<title>45</title>\n",
       "<text fill=\"#004080\" font-family=\"Courier,monospace\" font-size=\"14.00\" font-weight=\"bold\" text-anchor=\"start\" x=\"1365\" y=\"-87.3\">Name</text>\n",
       "</g>\n",
       "<!-- 43&#45;&#45;45 -->\n",
       "<g class=\"edge\" id=\"edge45\">\n",
       "<title>43--45</title>\n",
       "<path d=\"M1382,-144C1382,-144 1382,-123.9478 1382,-108.2819\" fill=\"none\" stroke=\"#000000\"/>\n",
       "</g>\n",
       "<!-- 48 -->\n",
       "<g class=\"node\" id=\"node49\">\n",
       "<title>48</title>\n",
       "<text fill=\"#004080\" font-family=\"Courier,monospace\" font-size=\"14.00\" font-weight=\"bold\" text-anchor=\"start\" x=\"1437\" y=\"-87.3\">Name</text>\n",
       "</g>\n",
       "<!-- 43&#45;&#45;48 -->\n",
       "<g class=\"edge\" id=\"edge48\">\n",
       "<title>43--48</title>\n",
       "<path d=\"M1382,-144C1382,-144 1408.7363,-123.9478 1429.6241,-108.2819\" fill=\"none\" stroke=\"#000000\"/>\n",
       "</g>\n",
       "<!-- 46 -->\n",
       "<g class=\"node\" id=\"node47\">\n",
       "<title>46</title>\n",
       "<text fill=\"#008040\" font-family=\"Courier,monospace\" font-size=\"14.00\" text-anchor=\"middle\" x=\"1310\" y=\"-14.3\">&quot;a&quot;</text>\n",
       "</g>\n",
       "<!-- 45&#45;&#45;46 -->\n",
       "<g class=\"edge\" id=\"edge46\">\n",
       "<title>45--46</title>\n",
       "<path d=\"M1374,-72C1374,-72 1350.2344,-51.9478 1331.6675,-36.2819\" fill=\"none\" stroke=\"#000000\"/>\n",
       "</g>\n",
       "<!-- 47 -->\n",
       "<g class=\"node\" id=\"node48\">\n",
       "<title>47</title>\n",
       "<text fill=\"#008040\" font-family=\"Courier,monospace\" font-size=\"14.00\" text-anchor=\"middle\" x=\"1382\" y=\"-14.3\">Load</text>\n",
       "</g>\n",
       "<!-- 45&#45;&#45;47 -->\n",
       "<g class=\"edge\" id=\"edge47\">\n",
       "<title>45--47</title>\n",
       "<path d=\"M1374,-72C1374,-72 1376.9707,-51.9478 1379.2916,-36.2819\" fill=\"none\" stroke=\"#000000\"/>\n",
       "</g>\n",
       "<!-- 49 -->\n",
       "<g class=\"node\" id=\"node50\">\n",
       "<title>49</title>\n",
       "<text fill=\"#008040\" font-family=\"Courier,monospace\" font-size=\"14.00\" text-anchor=\"middle\" x=\"1454\" y=\"-14.3\">&quot;b&quot;</text>\n",
       "</g>\n",
       "<!-- 48&#45;&#45;49 -->\n",
       "<g class=\"edge\" id=\"edge49\">\n",
       "<title>48--49</title>\n",
       "<path d=\"M1462,-72C1462,-72 1459.0293,-51.9478 1456.7084,-36.2819\" fill=\"none\" stroke=\"#000000\"/>\n",
       "</g>\n",
       "<!-- 50 -->\n",
       "<g class=\"node\" id=\"node51\">\n",
       "<title>50</title>\n",
       "<text fill=\"#008040\" font-family=\"Courier,monospace\" font-size=\"14.00\" text-anchor=\"middle\" x=\"1526\" y=\"-14.3\">Load</text>\n",
       "</g>\n",
       "<!-- 48&#45;&#45;50 -->\n",
       "<g class=\"edge\" id=\"edge50\">\n",
       "<title>48--50</title>\n",
       "<path d=\"M1462,-72C1462,-72 1485.7656,-51.9478 1504.3325,-36.2819\" fill=\"none\" stroke=\"#000000\"/>\n",
       "</g>\n",
       "<!-- 52 -->\n",
       "<g class=\"node\" id=\"node53\">\n",
       "<title>52</title>\n",
       "<text fill=\"#004080\" font-family=\"Courier,monospace\" font-size=\"14.00\" font-weight=\"bold\" text-anchor=\"start\" x=\"1549\" y=\"-87.3\">Num</text>\n",
       "</g>\n",
       "<!-- 51&#45;&#45;52 -->\n",
       "<g class=\"edge\" id=\"edge52\">\n",
       "<title>51--52</title>\n",
       "<path d=\"M1526.8601,-143.8314C1533.9305,-133 1542.8817,-119.2876 1549.9802,-108.4133\" fill=\"none\" stroke=\"#000000\"/>\n",
       "</g>\n",
       "<!-- 53 -->\n",
       "<g class=\"node\" id=\"node54\">\n",
       "<title>53</title>\n",
       "<text fill=\"#008040\" font-family=\"Courier,monospace\" font-size=\"14.00\" text-anchor=\"middle\" x=\"1598\" y=\"-14.3\">1</text>\n",
       "</g>\n",
       "<!-- 52&#45;&#45;53 -->\n",
       "<g class=\"edge\" id=\"edge53\">\n",
       "<title>52--53</title>\n",
       "<path d=\"M1571.0843,-71.8314C1576.5,-61 1583.3562,-47.2876 1588.7934,-36.4133\" fill=\"none\" stroke=\"#000000\"/>\n",
       "</g>\n",
       "<!-- 55 -->\n",
       "<g class=\"node\" id=\"node56\">\n",
       "<title>55</title>\n",
       "<text fill=\"#004080\" font-family=\"Courier,monospace\" font-size=\"14.00\" font-weight=\"bold\" text-anchor=\"start\" x=\"1365\" y=\"-303.3\">Num</text>\n",
       "</g>\n",
       "<!-- 54&#45;&#45;55 -->\n",
       "<g class=\"edge\" id=\"edge55\">\n",
       "<title>54--55</title>\n",
       "<path d=\"M1232.6685,-364.4574C1266.8989,-350.6887 1319.2709,-329.6229 1350.914,-316.8949\" fill=\"none\" stroke=\"#000000\"/>\n",
       "</g>\n",
       "<!-- 56 -->\n",
       "<g class=\"node\" id=\"node57\">\n",
       "<title>56</title>\n",
       "<text fill=\"#008040\" font-family=\"Courier,monospace\" font-size=\"14.00\" text-anchor=\"middle\" x=\"1420\" y=\"-230.3\">0</text>\n",
       "</g>\n",
       "<!-- 55&#45;&#45;56 -->\n",
       "<g class=\"edge\" id=\"edge56\">\n",
       "<title>55--56</title>\n",
       "<path d=\"M1388.5984,-287.8314C1394.9167,-277 1402.9156,-263.2876 1409.2589,-252.4133\" fill=\"none\" stroke=\"#000000\"/>\n",
       "</g>\n",
       "</g>\n",
       "</svg>"
      ],
      "text/plain": [
       "<IPython.core.display.SVG object>"
      ]
     },
     "metadata": {},
     "output_type": "display_data"
    },
    {
     "name": "stdout",
     "output_type": "stream",
     "text": [
      "The number of nodes is 42\n"
     ]
    }
   ],
   "source": [
    "show_ast(ast.parse(source))\n",
    "print(f\"The number of nodes is {NodeCounter().count(source)}\")"
   ]
  },
  {
   "cell_type": "markdown",
   "metadata": {},
   "source": [
    "As you can see, the input program of `Test1` has 42 nodes."
   ]
  },
  {
   "cell_type": "markdown",
   "metadata": {},
   "source": [
    "The testing framework takes a reducer and allows to execute a single test or all tests at once."
   ]
  },
  {
   "cell_type": "code",
   "execution_count": 43,
   "metadata": {
    "hidden": true,
    "pycharm": {
     "name": "#%%\n"
    }
   },
   "outputs": [],
   "source": [
    "class TestingFramework:\n",
    "    THRESHOLD = 3\n",
    "    test_cases = {\n",
    "        'test1': Test1(),\n",
    "        'test2': Test2(),\n",
    "        'test3': Test3(),\n",
    "        'test4': Test4(),\n",
    "        'test5': Test5()\n",
    "    }\n",
    "    def __init__(self, reducer):\n",
    "        self.reducer = reducer\n",
    "\n",
    "    def count_nodes(self, source):\n",
    "        if source is None:\n",
    "            return 100000\n",
    "        return NodeCounter().count(source)\n",
    "\n",
    "    def run_test(self, test):\n",
    "        \"\"\"\n",
    "        run a single test\n",
    "        \"\"\"\n",
    "        print(f'Running test {test.__class__.__name__}')\n",
    "        reducer = self.reducer(test.parser)\n",
    "        reduced_code = reducer.minimize(test.get_original())\n",
    "        return self.has_property(reduced_code, test.parser) and self.is_minimized(reduced_code, test.get_minimized())\n",
    "\n",
    "    def run_tests(self):\n",
    "        \"\"\"\n",
    "        run all public tests\n",
    "        \"\"\"\n",
    "        passed_tests = 0\n",
    "        for test in self.test_cases.values():\n",
    "            success = self.run_test(test)\n",
    "            if success:\n",
    "               passed_tests += 1\n",
    "        print(f\"In total {passed_tests} tests passed\")\n",
    "\n",
    "    def has_property(self, source, parser):\n",
    "        \"\"\"returns True if the parser fails to parse the source\"\"\"\n",
    "        try:\n",
    "            parser.parse(source)\n",
    "            print(f'HAS PROPERTY: FAIL')\n",
    "            return False\n",
    "        except ParserException:\n",
    "            print(f'HAS PROPERTY: OK')\n",
    "            return True\n",
    "        except Exception as e:\n",
    "            print(f'HAS PROPERTY: FAIL {e}')\n",
    "            return False\n",
    "    \n",
    "    def is_minimized(self, reduced, reference):\n",
    "        \"\"\"returns True if the AST of the reduced code contains no more then the number of nodes in the reference + a THRESHOLD\"\"\"\n",
    "        count_minimized = self.count_nodes(reduced)\n",
    "        count_reference = self.count_nodes(reference)\n",
    "        if count_minimized <= count_reference + self.THRESHOLD:\n",
    "            print(f'IS MINIMIZED: OK')\n",
    "            return True\n",
    "        else:\n",
    "            print(f'IS MINIMIZED: FAIL')\n",
    "            return False"
   ]
  },
  {
   "cell_type": "markdown",
   "metadata": {
    "pycharm": {
     "name": "#%% md\n"
    }
   },
   "source": [
    "Let's test our `ReducingDebugger` with the following test:"
   ]
  },
  {
   "cell_type": "code",
   "execution_count": 44,
   "metadata": {
    "collapsed": false,
    "jupyter": {
     "outputs_hidden": false
    },
    "pycharm": {
     "name": "#%%\n"
    }
   },
   "outputs": [],
   "source": [
    "class Test0:\n",
    "    parser = Parser1()\n",
    "\n",
    "    def get_original(self):\n",
    "        return '''\n",
    "if a and b:\n",
    "    c = 1\n",
    "else:\n",
    "    c = 2\n",
    "'''\n",
    "\n",
    "    def get_minimized(self):\n",
    "        return '''\n",
    "a and b'''"
   ]
  },
  {
   "cell_type": "code",
   "execution_count": 45,
   "metadata": {
    "collapsed": false,
    "jupyter": {
     "outputs_hidden": false
    },
    "pycharm": {
     "name": "#%%\n"
    }
   },
   "outputs": [
    {
     "name": "stdout",
     "output_type": "stream",
     "text": [
      "Running test Test0\n",
      "HAS PROPERTY: OK\n",
      "IS MINIMIZED: OK\n",
      "Success!\n"
     ]
    }
   ],
   "source": [
    "tf = TestingFramework(ReducingDebugger)\n",
    "if tf.run_test(Test0()):\n",
    "    print(\"Success!\")"
   ]
  },
  {
   "cell_type": "markdown",
   "metadata": {},
   "source": [
    "The input program was successfully minimized."
   ]
  },
  {
   "cell_type": "markdown",
   "metadata": {
    "pycharm": {
     "name": "#%% md\n"
    }
   },
   "source": [
    "What if we run all public tests?"
   ]
  },
  {
   "cell_type": "code",
   "execution_count": 46,
   "metadata": {
    "hidden": true,
    "pycharm": {
     "name": "#%%\n"
    }
   },
   "outputs": [
    {
     "name": "stdout",
     "output_type": "stream",
     "text": [
      "Running test Test1\n",
      "HAS PROPERTY: OK\n",
      "IS MINIMIZED: FAIL\n",
      "Running test Test2\n",
      "HAS PROPERTY: OK\n",
      "IS MINIMIZED: FAIL\n",
      "Running test Test3\n",
      "HAS PROPERTY: OK\n",
      "IS MINIMIZED: FAIL\n",
      "Running test Test4\n",
      "HAS PROPERTY: OK\n",
      "IS MINIMIZED: FAIL\n",
      "Running test Test5\n",
      "HAS PROPERTY: OK\n",
      "IS MINIMIZED: FAIL\n",
      "In total 0 tests passed\n"
     ]
    }
   ],
   "source": [
    "tf.run_tests()"
   ]
  },
  {
   "cell_type": "markdown",
   "metadata": {},
   "source": [
    "Unfortunately, our parser failed to minimize all input programs from the public test suite."
   ]
  },
  {
   "cell_type": "markdown",
   "metadata": {},
   "source": [
    "## Grading"
   ]
  },
  {
   "cell_type": "markdown",
   "metadata": {},
   "source": [
    "For this project, you can get a total of 30 Points:\n",
    "\n",
    "* 15 Points will be awarded for passing the public test (**without hardcoding the minimized solution or the sequence of transformations**) presented in this notebook.\n",
    "These 15 points mean that you successfully implemented the must-have implementation.\n",
    "* 5 Points will be awarded for passing secret tests.\n",
    "* 10 Points will be awarded for efficient implementation (see may-have implementation)."
   ]
  },
  {
   "cell_type": "markdown",
   "metadata": {},
   "source": [
    "### Must-have Features\n",
    "\n",
    "Implement a reducer which minifies a given program so that its parser still produces an error.\n",
    "To this end, collect all possible transformations over the nodes of an AST tree and then apply one change at a time.\n",
    "These modifications should be repeated until no further updates can be made without triggering a parser exception.\n",
    "If your reducer passes secret test you are awarded additional 5 points.\n",
    "\n",
    "*Note: Implementing the given modifications should be sufficient to successfully complete this project.*"
   ]
  },
  {
   "cell_type": "markdown",
   "metadata": {
    "pycharm": {
     "name": "#%% md\n"
    }
   },
   "source": [
    "### May-have Features\n",
    "\n",
    "An implementation only of the must-have features aims for correctness but can be inefficient (if transformations are applied one at a time). So, it can be optimized, for instance, with help of the Delta Debugging approach.\n",
    "\n",
    "Implement an AST Delta Debugger which efficiently prunes the nodes.\n",
    "If your reducer can beat the runtime of our reference implementation (which simply collects all possible transformations and applies them randomly one at a time) you can get up to 10 points (depending on the margin).\n",
    "\n",
    "Hint: The [Reducing Failure-Inducing Inputs chapter](https://www.debuggingbook.org/beta/html/DeltaDebugger.html) already tries to optimize the reduction of the AST with help of Delta Debugging.  \n",
    "Hint: For instance, you can find useful _Hierarchical Delta Debugging_ paper from the Background section of **Reducing Failure-Inducing Inputs** Chapter."
   ]
  }
 ],
 "metadata": {
  "kernelspec": {
   "display_name": "Python 3",
   "language": "python",
   "name": "python3"
  },
  "language_info": {
   "codemirror_mode": {
    "name": "ipython",
    "version": 3
   },
   "file_extension": ".py",
   "mimetype": "text/x-python",
   "name": "python",
   "nbconvert_exporter": "python",
   "pygments_lexer": "ipython3",
   "version": "3.6.10"
  }
 },
 "nbformat": 4,
 "nbformat_minor": 4
}