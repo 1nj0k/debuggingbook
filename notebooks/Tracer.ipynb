{
 "cells": [
  {
   "cell_type": "markdown",
   "metadata": {
    "button": false,
    "new_sheet": false,
    "run_control": {
     "read_only": false
    }
   },
   "source": [
    "# Tracing Executions\n",
    "\n",
    "In this chapter, we show how to observe program state during an execution – a prerequisite for logging and interactive debugging. Thanks to the power of Python, we can do this in a few lines of code."
   ]
  },
  {
   "cell_type": "markdown",
   "metadata": {
    "button": false,
    "new_sheet": false,
    "run_control": {
     "read_only": false
    }
   },
   "source": [
    "**Prerequisites**\n",
    "\n",
    "* You should have read the [Introduction to Debugging](Intro_Debugging.ipynb).\n",
    "* Knowing a bit of _Python_ is helpful for understanding the code examples in the book."
   ]
  },
  {
   "cell_type": "code",
   "execution_count": 351,
   "metadata": {
    "button": false,
    "new_sheet": false,
    "run_control": {
     "read_only": false
    },
    "slideshow": {
     "slide_type": "skip"
    }
   },
   "outputs": [],
   "source": [
    "import bookutils"
   ]
  },
  {
   "cell_type": "markdown",
   "metadata": {
    "button": false,
    "new_sheet": false,
    "run_control": {
     "read_only": false
    }
   },
   "source": [
    "## Tracing Python Programs\n",
    "\n",
    "How do debugging tools access the state of a program during execution? For _interpreted_ languages such as Python, this is a fairly simple task. If a language is interpreted, it is typically fairly easy to control execution and to inspect state – since this is what the interpreter is doing already anyway. Debuggers are then implemented in top of _hooks_ that allow to interrupt execution and access program state."
   ]
  },
  {
   "cell_type": "markdown",
   "metadata": {
    "button": false,
    "new_sheet": false,
    "run_control": {
     "read_only": false
    }
   },
   "source": [
    "Python makes such a hook available in the function `sys.settrace()`. You invoke it with a *tracing function* that will be called at every line executed, as in\n",
    "\n",
    "```python\n",
    "sys.settrace(traceit)\n",
    "```\n",
    "\n",
    "Such a tracing function is convenient, as it simply traces _everything_. In contrast to an interactive debugger, where you have to select which aspect of the execution you're interested in, you can just print out a long trace into an *execution log*, to examine it later.\n",
    "\n",
    "This tracing function takes the format"
   ]
  },
  {
   "cell_type": "code",
   "execution_count": 352,
   "metadata": {},
   "outputs": [],
   "source": [
    "def traceit(frame, event, arg):\n",
    "    ..."
   ]
  },
  {
   "cell_type": "markdown",
   "metadata": {},
   "source": [
    "Here, `event` is a string telling what has happened in the program – for instance,\n",
    "\n",
    "* `'line'` – a new line is executed\n",
    "* `'call'` – a function just has been called\n",
    "* `'return'` – a fucntion returns"
   ]
  },
  {
   "cell_type": "markdown",
   "metadata": {},
   "source": [
    "The `frame` argument holds the current execution frame – that is, the function and its local variables:\n",
    "\n",
    "* `frame.f_lineno` – the current line\n",
    "* `frame.f_locals` – the current variables (as a Python dictionary)\n",
    "* `frame.f_code` – the current code (as a Code object), with attributes such as\n",
    "    * `frame.f_code.co_name` – the name of the current function"
   ]
  },
  {
   "cell_type": "markdown",
   "metadata": {},
   "source": [
    "We can thus get a *trace* of the program by simply printing out these values:"
   ]
  },
  {
   "cell_type": "code",
   "execution_count": 353,
   "metadata": {},
   "outputs": [],
   "source": [
    "def traceit(frame, event, arg):\n",
    "    print(event, frame.f_lineno, frame.f_code.co_name, frame.f_locals)"
   ]
  },
  {
   "cell_type": "markdown",
   "metadata": {},
   "source": [
    "The return value of the trace function is the function to be executed at the next event – typically, this is the function itself:"
   ]
  },
  {
   "cell_type": "code",
   "execution_count": 354,
   "metadata": {},
   "outputs": [],
   "source": [
    "def traceit(frame, event, arg):\n",
    "    print(event, frame.f_lineno, frame.f_code.co_name, frame.f_locals)\n",
    "    return traceit"
   ]
  },
  {
   "cell_type": "markdown",
   "metadata": {},
   "source": [
    "Let us try this out on the `remove_html_markup()` function introduced in the [Introduction to Debugging](Intro_Debugging.ipynb):"
   ]
  },
  {
   "cell_type": "code",
   "execution_count": 355,
   "metadata": {},
   "outputs": [],
   "source": [
    "from Intro_Debugging import remove_html_markup"
   ]
  },
  {
   "cell_type": "code",
   "execution_count": 356,
   "metadata": {},
   "outputs": [],
   "source": [
    "import inspect\n",
    "from bookutils import print_content"
   ]
  },
  {
   "cell_type": "code",
   "execution_count": 357,
   "metadata": {},
   "outputs": [
    {
     "name": "stdout",
     "output_type": "stream",
     "text": [
      "\u001b[34mdef\u001b[39;49;00m \u001b[32mremove_html_markup\u001b[39;49;00m(s):\n",
      "    tag   = \u001b[36mFalse\u001b[39;49;00m\n",
      "    quote = \u001b[36mFalse\u001b[39;49;00m\n",
      "    out   = \u001b[33m\"\u001b[39;49;00m\u001b[33m\"\u001b[39;49;00m\n",
      "\n",
      "    \u001b[34mfor\u001b[39;49;00m c \u001b[35min\u001b[39;49;00m s:\n",
      "        \u001b[34massert\u001b[39;49;00m tag \u001b[35mor\u001b[39;49;00m \u001b[35mnot\u001b[39;49;00m quote\n",
      "        \n",
      "        \u001b[34mif\u001b[39;49;00m c == \u001b[33m'\u001b[39;49;00m\u001b[33m<\u001b[39;49;00m\u001b[33m'\u001b[39;49;00m \u001b[35mand\u001b[39;49;00m \u001b[35mnot\u001b[39;49;00m quote:\n",
      "            tag = \u001b[36mTrue\u001b[39;49;00m\n",
      "        \u001b[34melif\u001b[39;49;00m c == \u001b[33m'\u001b[39;49;00m\u001b[33m>\u001b[39;49;00m\u001b[33m'\u001b[39;49;00m \u001b[35mand\u001b[39;49;00m \u001b[35mnot\u001b[39;49;00m quote:\n",
      "            tag = \u001b[36mFalse\u001b[39;49;00m\n",
      "        \u001b[34melif\u001b[39;49;00m (c == \u001b[33m'\u001b[39;49;00m\u001b[33m\"\u001b[39;49;00m\u001b[33m'\u001b[39;49;00m \u001b[35mor\u001b[39;49;00m c == \u001b[33m\"\u001b[39;49;00m\u001b[33m'\u001b[39;49;00m\u001b[33m\"\u001b[39;49;00m) \u001b[35mand\u001b[39;49;00m tag:\n",
      "            quote = \u001b[35mnot\u001b[39;49;00m quote\n",
      "        \u001b[34melif\u001b[39;49;00m \u001b[35mnot\u001b[39;49;00m tag:\n",
      "            out = out + c\n",
      "    \n",
      "    \u001b[34mreturn\u001b[39;49;00m out\n"
     ]
    }
   ],
   "source": [
    "print_content(content=inspect.getsource(remove_html_markup), filename='.py')"
   ]
  },
  {
   "cell_type": "markdown",
   "metadata": {},
   "source": [
    "We define a variant `remove_html_markup_traced()` which turns on tracing, invokes `remove_html_markup()`, and turns tracing off again."
   ]
  },
  {
   "cell_type": "code",
   "execution_count": 358,
   "metadata": {},
   "outputs": [],
   "source": [
    "import sys"
   ]
  },
  {
   "cell_type": "code",
   "execution_count": 359,
   "metadata": {},
   "outputs": [],
   "source": [
    "def remove_html_markup_traced(s):\n",
    "    sys.settrace(traceit)\n",
    "    ret = remove_html_markup(s)\n",
    "    sys.settrace(None)\n",
    "    return ret"
   ]
  },
  {
   "cell_type": "code",
   "execution_count": 360,
   "metadata": {},
   "outputs": [
    {
     "name": "stdout",
     "output_type": "stream",
     "text": [
      "call 222 remove_html_markup {'s': 'xyz'}\n",
      "line 223 remove_html_markup {'s': 'xyz'}\n",
      "line 224 remove_html_markup {'s': 'xyz', 'tag': False}\n",
      "line 225 remove_html_markup {'s': 'xyz', 'tag': False, 'quote': False}\n",
      "line 227 remove_html_markup {'s': 'xyz', 'tag': False, 'quote': False, 'out': ''}\n",
      "line 228 remove_html_markup {'s': 'xyz', 'tag': False, 'quote': False, 'out': '', 'c': 'x'}\n",
      "line 230 remove_html_markup {'s': 'xyz', 'tag': False, 'quote': False, 'out': '', 'c': 'x'}\n",
      "line 232 remove_html_markup {'s': 'xyz', 'tag': False, 'quote': False, 'out': '', 'c': 'x'}\n",
      "line 234 remove_html_markup {'s': 'xyz', 'tag': False, 'quote': False, 'out': '', 'c': 'x'}\n",
      "line 236 remove_html_markup {'s': 'xyz', 'tag': False, 'quote': False, 'out': '', 'c': 'x'}\n",
      "line 237 remove_html_markup {'s': 'xyz', 'tag': False, 'quote': False, 'out': '', 'c': 'x'}\n",
      "line 227 remove_html_markup {'s': 'xyz', 'tag': False, 'quote': False, 'out': 'x', 'c': 'x'}\n",
      "line 228 remove_html_markup {'s': 'xyz', 'tag': False, 'quote': False, 'out': 'x', 'c': 'y'}\n",
      "line 230 remove_html_markup {'s': 'xyz', 'tag': False, 'quote': False, 'out': 'x', 'c': 'y'}\n",
      "line 232 remove_html_markup {'s': 'xyz', 'tag': False, 'quote': False, 'out': 'x', 'c': 'y'}\n",
      "line 234 remove_html_markup {'s': 'xyz', 'tag': False, 'quote': False, 'out': 'x', 'c': 'y'}\n",
      "line 236 remove_html_markup {'s': 'xyz', 'tag': False, 'quote': False, 'out': 'x', 'c': 'y'}\n",
      "line 237 remove_html_markup {'s': 'xyz', 'tag': False, 'quote': False, 'out': 'x', 'c': 'y'}\n",
      "line 227 remove_html_markup {'s': 'xyz', 'tag': False, 'quote': False, 'out': 'xy', 'c': 'y'}\n",
      "line 228 remove_html_markup {'s': 'xyz', 'tag': False, 'quote': False, 'out': 'xy', 'c': 'z'}\n",
      "line 230 remove_html_markup {'s': 'xyz', 'tag': False, 'quote': False, 'out': 'xy', 'c': 'z'}\n",
      "line 232 remove_html_markup {'s': 'xyz', 'tag': False, 'quote': False, 'out': 'xy', 'c': 'z'}\n",
      "line 234 remove_html_markup {'s': 'xyz', 'tag': False, 'quote': False, 'out': 'xy', 'c': 'z'}\n",
      "line 236 remove_html_markup {'s': 'xyz', 'tag': False, 'quote': False, 'out': 'xy', 'c': 'z'}\n",
      "line 237 remove_html_markup {'s': 'xyz', 'tag': False, 'quote': False, 'out': 'xy', 'c': 'z'}\n",
      "line 227 remove_html_markup {'s': 'xyz', 'tag': False, 'quote': False, 'out': 'xyz', 'c': 'z'}\n",
      "line 239 remove_html_markup {'s': 'xyz', 'tag': False, 'quote': False, 'out': 'xyz', 'c': 'z'}\n",
      "return 239 remove_html_markup {'s': 'xyz', 'tag': False, 'quote': False, 'out': 'xyz', 'c': 'z'}\n"
     ]
    },
    {
     "data": {
      "text/plain": [
       "'xyz'"
      ]
     },
     "execution_count": 360,
     "metadata": {},
     "output_type": "execute_result"
    }
   ],
   "source": [
    "remove_html_markup_traced('xyz')"
   ]
  },
  {
   "cell_type": "markdown",
   "metadata": {},
   "source": [
    "In this very raw format, we can see how the execution progresses through the function. The variable `c` takes one character of the input string at a time; the `out` variable accumulates them. The argument `s` and the `tag` and `quote` flags stay unchanged throughout the execution."
   ]
  },
  {
   "cell_type": "markdown",
   "metadata": {},
   "source": [
    "## A Tracer Class"
   ]
  },
  {
   "cell_type": "markdown",
   "metadata": {},
   "source": [
    "Let us refine our tracing function a bit. First, it would be nice if one could actually _customize_ tracing just as needed. To this end, we introduce a `Tracer` class that does all the formatting with us, and which can be _subclassed_ to allow for different output formats."
   ]
  },
  {
   "cell_type": "markdown",
   "metadata": {},
   "source": [
    "The `traceit()` method is the same as above, and again is added set up via `sys.settrace()`. Its typical usage, however, is as follows:\n",
    "\n",
    "```python\n",
    "with Tracer():\n",
    "    # Code to be traced\n",
    "    ...\n",
    "\n",
    "# Code no longer traced\n",
    "...\n",
    "```\n",
    "\n",
    "When the `with` statement is encountered, the `__enter__()` method is called, which starts tracing. When the `with` block ends, the `__exit__()` method is called, and tracing is turned off. We take special care that the internal `__exit__()` method is not part of the trace, and that any other tracing function that was active before is being restored."
   ]
  },
  {
   "cell_type": "code",
   "execution_count": 361,
   "metadata": {},
   "outputs": [],
   "source": [
    "class Tracer(object):\n",
    "    def __init__(self):\n",
    "        self.original_trace_function = None\n",
    "        pass\n",
    "\n",
    "    def traceit(self, frame, event, arg):\n",
    "        print(event, frame.f_lineno, frame.f_code.co_name, frame.f_locals)\n",
    "\n",
    "    def _traceit(self, frame, event, arg):\n",
    "        if frame.f_code.co_name == '__exit__':\n",
    "            # Do not trace our own __exit__() method\n",
    "            pass\n",
    "        else:\n",
    "            self.traceit(frame, event, arg)\n",
    "        return self._traceit\n",
    "\n",
    "    def __enter__(self):  # Begin of \"with\" block\n",
    "        self.original_trace_function = sys.gettrace()\n",
    "        sys.settrace(self._traceit)\n",
    "\n",
    "    def __exit__(self, tp, value, traceback):   # End of \"with\" block\n",
    "        sys.settrace(self.original_trace_function)"
   ]
  },
  {
   "cell_type": "markdown",
   "metadata": {},
   "source": [
    "Here's how we use the `Tracer` class. You see that everything works as before, except that it is nicer to use:"
   ]
  },
  {
   "cell_type": "code",
   "execution_count": 362,
   "metadata": {},
   "outputs": [],
   "source": [
    "def remove_html_markup_traced(s):\n",
    "    with Tracer():\n",
    "        ret = remove_html_markup(s)\n",
    "    return ret"
   ]
  },
  {
   "cell_type": "code",
   "execution_count": 363,
   "metadata": {},
   "outputs": [
    {
     "name": "stdout",
     "output_type": "stream",
     "text": [
      "call 222 remove_html_markup {'s': 'abc'}\n",
      "line 223 remove_html_markup {'s': 'abc'}\n",
      "line 224 remove_html_markup {'s': 'abc', 'tag': False}\n",
      "line 225 remove_html_markup {'s': 'abc', 'tag': False, 'quote': False}\n",
      "line 227 remove_html_markup {'s': 'abc', 'tag': False, 'quote': False, 'out': ''}\n",
      "line 228 remove_html_markup {'s': 'abc', 'tag': False, 'quote': False, 'out': '', 'c': 'a'}\n",
      "line 230 remove_html_markup {'s': 'abc', 'tag': False, 'quote': False, 'out': '', 'c': 'a'}\n",
      "line 232 remove_html_markup {'s': 'abc', 'tag': False, 'quote': False, 'out': '', 'c': 'a'}\n",
      "line 234 remove_html_markup {'s': 'abc', 'tag': False, 'quote': False, 'out': '', 'c': 'a'}\n",
      "line 236 remove_html_markup {'s': 'abc', 'tag': False, 'quote': False, 'out': '', 'c': 'a'}\n",
      "line 237 remove_html_markup {'s': 'abc', 'tag': False, 'quote': False, 'out': '', 'c': 'a'}\n",
      "line 227 remove_html_markup {'s': 'abc', 'tag': False, 'quote': False, 'out': 'a', 'c': 'a'}\n",
      "line 228 remove_html_markup {'s': 'abc', 'tag': False, 'quote': False, 'out': 'a', 'c': 'b'}\n",
      "line 230 remove_html_markup {'s': 'abc', 'tag': False, 'quote': False, 'out': 'a', 'c': 'b'}\n",
      "line 232 remove_html_markup {'s': 'abc', 'tag': False, 'quote': False, 'out': 'a', 'c': 'b'}\n",
      "line 234 remove_html_markup {'s': 'abc', 'tag': False, 'quote': False, 'out': 'a', 'c': 'b'}\n",
      "line 236 remove_html_markup {'s': 'abc', 'tag': False, 'quote': False, 'out': 'a', 'c': 'b'}\n",
      "line 237 remove_html_markup {'s': 'abc', 'tag': False, 'quote': False, 'out': 'a', 'c': 'b'}\n",
      "line 227 remove_html_markup {'s': 'abc', 'tag': False, 'quote': False, 'out': 'ab', 'c': 'b'}\n",
      "line 228 remove_html_markup {'s': 'abc', 'tag': False, 'quote': False, 'out': 'ab', 'c': 'c'}\n",
      "line 230 remove_html_markup {'s': 'abc', 'tag': False, 'quote': False, 'out': 'ab', 'c': 'c'}\n",
      "line 232 remove_html_markup {'s': 'abc', 'tag': False, 'quote': False, 'out': 'ab', 'c': 'c'}\n",
      "line 234 remove_html_markup {'s': 'abc', 'tag': False, 'quote': False, 'out': 'ab', 'c': 'c'}\n",
      "line 236 remove_html_markup {'s': 'abc', 'tag': False, 'quote': False, 'out': 'ab', 'c': 'c'}\n",
      "line 237 remove_html_markup {'s': 'abc', 'tag': False, 'quote': False, 'out': 'ab', 'c': 'c'}\n",
      "line 227 remove_html_markup {'s': 'abc', 'tag': False, 'quote': False, 'out': 'abc', 'c': 'c'}\n",
      "line 239 remove_html_markup {'s': 'abc', 'tag': False, 'quote': False, 'out': 'abc', 'c': 'c'}\n",
      "return 239 remove_html_markup {'s': 'abc', 'tag': False, 'quote': False, 'out': 'abc', 'c': 'c'}\n"
     ]
    },
    {
     "data": {
      "text/plain": [
       "'abc'"
      ]
     },
     "execution_count": 363,
     "metadata": {},
     "output_type": "execute_result"
    }
   ],
   "source": [
    "remove_html_markup_traced(\"abc\")"
   ]
  },
  {
   "cell_type": "markdown",
   "metadata": {},
   "source": [
    "## Accessing Source Code\n",
    "\n",
    "We cam now go and _extend_ the class with additional features. It would be nice if it could actually display the source code of the function being tracked, such that we know where we are. In Python, the function `inspect.getsource()` returns the source code of a function or module. Looking up\n",
    "\n",
    "```python\n",
    "module = inspect.getmodule(frame.f_code)\n",
    "```\n",
    "\n",
    "gives us the current module, and\n",
    "\n",
    "```python\n",
    "inspect.getsource(module)\n",
    "```\n",
    "\n",
    "gives us its source code. All we then have to do is to retrieve the current line."
   ]
  },
  {
   "cell_type": "markdown",
   "metadata": {},
   "source": [
    "To implement our extended `traceit()` method, we use a bit of a hack. The Python language requires us to define an entire class with all methods as a single, continuous unit; however, we would like to introduce one method after another.  To avoid this problem, we use a special hack: Whenever we want to introduce a new method to some class `C`, we use the construct\n",
    "\n",
    "```python\n",
    "class C(C):\n",
    "    def new_method(self, args):\n",
    "        pass\n",
    "```\n",
    "\n",
    "This seems to define `C` as a subclass of itself, which would make no sense – but actually, it introduces a new `C` class as a subclass of the _old_ `C` class, and then shadowing the old `C` definition.  What this gets us is a `C` class with `new_method()` as a method, which is just what we want.  (`C` objects defined earlier will retain the earlier `C` definition, though, and thus must be rebuilt.)"
   ]
  },
  {
   "cell_type": "markdown",
   "metadata": {},
   "source": [
    "Using this hack, we can now redefine the `traceit()` method. Our new tracer shows the current line as it is executed."
   ]
  },
  {
   "cell_type": "code",
   "execution_count": 364,
   "metadata": {},
   "outputs": [],
   "source": [
    "import inspect"
   ]
  },
  {
   "cell_type": "code",
   "execution_count": 365,
   "metadata": {},
   "outputs": [],
   "source": [
    "class Tracer(Tracer):\n",
    "    def traceit(self, frame, event, arg):\n",
    "        if event == 'line':\n",
    "            module = inspect.getmodule(frame.f_code)\n",
    "            source = inspect.getsource(module)\n",
    "            current_line = source.split('\\n')[frame.f_lineno - 2]\n",
    "            print(frame.f_lineno, current_line)\n",
    "\n",
    "        return traceit"
   ]
  },
  {
   "cell_type": "code",
   "execution_count": 366,
   "metadata": {},
   "outputs": [
    {
     "name": "stdout",
     "output_type": "stream",
     "text": [
      "223     tag   = False\n",
      "224     quote = False\n",
      "225     out   = \"\"\n",
      "227     for c in s:\n",
      "228         assert tag or not quote\n",
      "230         if c == '<' and not quote:\n",
      "232         elif c == '>' and not quote:\n",
      "234         elif (c == '\"' or c == \"'\") and tag:\n",
      "236         elif not tag:\n",
      "237             out = out + c\n",
      "227     for c in s:\n",
      "228         assert tag or not quote\n",
      "230         if c == '<' and not quote:\n",
      "232         elif c == '>' and not quote:\n",
      "234         elif (c == '\"' or c == \"'\") and tag:\n",
      "236         elif not tag:\n",
      "237             out = out + c\n",
      "227     for c in s:\n",
      "228         assert tag or not quote\n",
      "230         if c == '<' and not quote:\n",
      "232         elif c == '>' and not quote:\n",
      "234         elif (c == '\"' or c == \"'\") and tag:\n",
      "236         elif not tag:\n",
      "237             out = out + c\n",
      "227     for c in s:\n",
      "239     return out\n"
     ]
    },
    {
     "data": {
      "text/plain": [
       "'abc'"
      ]
     },
     "execution_count": 366,
     "metadata": {},
     "output_type": "execute_result"
    }
   ],
   "source": [
    "remove_html_markup_traced(\"abc\")"
   ]
  },
  {
   "cell_type": "markdown",
   "metadata": {},
   "source": [
    "## Tracing Calls and Returns\n",
    "\n",
    "Next, we'd like to report calling and returning from functions. For the `return` event, `arg` holds the value being returned."
   ]
  },
  {
   "cell_type": "code",
   "execution_count": 367,
   "metadata": {},
   "outputs": [],
   "source": [
    "class Tracer(Tracer):\n",
    "    def traceit(self, frame, event, arg):\n",
    "        if event == 'call':\n",
    "            print(f\"Calling {frame.f_code.co_name}()\")\n",
    "\n",
    "        if event == 'line':\n",
    "            module = inspect.getmodule(frame.f_code)\n",
    "            source = inspect.getsource(module)\n",
    "            current_line = source.split('\\n')[frame.f_lineno - 2]\n",
    "            print(frame.f_lineno, current_line)\n",
    "\n",
    "        if event == 'return':\n",
    "            print(f\"{frame.f_code.co_name}() returns {repr(arg)}\")\n",
    "\n",
    "        return traceit"
   ]
  },
  {
   "cell_type": "code",
   "execution_count": 368,
   "metadata": {},
   "outputs": [
    {
     "name": "stdout",
     "output_type": "stream",
     "text": [
      "Calling remove_html_markup()\n",
      "223     tag   = False\n",
      "224     quote = False\n",
      "225     out   = \"\"\n",
      "227     for c in s:\n",
      "228         assert tag or not quote\n",
      "230         if c == '<' and not quote:\n",
      "232         elif c == '>' and not quote:\n",
      "234         elif (c == '\"' or c == \"'\") and tag:\n",
      "236         elif not tag:\n",
      "237             out = out + c\n",
      "227     for c in s:\n",
      "228         assert tag or not quote\n",
      "230         if c == '<' and not quote:\n",
      "232         elif c == '>' and not quote:\n",
      "234         elif (c == '\"' or c == \"'\") and tag:\n",
      "236         elif not tag:\n",
      "237             out = out + c\n",
      "227     for c in s:\n",
      "228         assert tag or not quote\n",
      "230         if c == '<' and not quote:\n",
      "232         elif c == '>' and not quote:\n",
      "234         elif (c == '\"' or c == \"'\") and tag:\n",
      "236         elif not tag:\n",
      "237             out = out + c\n",
      "227     for c in s:\n",
      "239     return out\n",
      "remove_html_markup() returns 'abc'\n"
     ]
    },
    {
     "data": {
      "text/plain": [
       "'abc'"
      ]
     },
     "execution_count": 368,
     "metadata": {},
     "output_type": "execute_result"
    }
   ],
   "source": [
    "remove_html_markup_traced(\"abc\")"
   ]
  },
  {
   "cell_type": "markdown",
   "metadata": {},
   "source": [
    "## Tracing Variables\n",
    "\n",
    "Finally, we'd again like to report variables – but only those that have changed. To this end, we save a copy of the last reported variables in the class, reporting only the changed values."
   ]
  },
  {
   "cell_type": "code",
   "execution_count": 369,
   "metadata": {},
   "outputs": [],
   "source": [
    "class Tracer(Tracer):\n",
    "    def __init__(self):\n",
    "        self.last_vars = {}\n",
    "\n",
    "    def changed_vars(self, new_vars):\n",
    "        changed = {}\n",
    "        for var_name in new_vars:\n",
    "            if var_name not in self.last_vars or self.last_vars[var_name] != new_vars[var_name]:\n",
    "                changed[var_name] = new_vars[var_name]\n",
    "        self.last_vars = new_vars.copy()\n",
    "        return changed"
   ]
  },
  {
   "cell_type": "markdown",
   "metadata": {},
   "source": [
    "Here's how this works: If variable `a` is set to 10 (and we didn't have it so far), it is marked as changed:"
   ]
  },
  {
   "cell_type": "code",
   "execution_count": 370,
   "metadata": {},
   "outputs": [],
   "source": [
    "t = Tracer()"
   ]
  },
  {
   "cell_type": "code",
   "execution_count": 371,
   "metadata": {},
   "outputs": [
    {
     "data": {
      "text/plain": [
       "{'a': 10}"
      ]
     },
     "execution_count": 371,
     "metadata": {},
     "output_type": "execute_result"
    }
   ],
   "source": [
    "t.changed_vars({'a': 10})"
   ]
  },
  {
   "cell_type": "markdown",
   "metadata": {},
   "source": [
    "If another variable `b` is added, and only `b` is changed, then only `b` is marked as changed:"
   ]
  },
  {
   "cell_type": "code",
   "execution_count": 372,
   "metadata": {},
   "outputs": [
    {
     "data": {
      "text/plain": [
       "{'b': 25}"
      ]
     },
     "execution_count": 372,
     "metadata": {},
     "output_type": "execute_result"
    }
   ],
   "source": [
    "t.changed_vars({'a': 10, 'b': 25})"
   ]
  },
  {
   "cell_type": "markdown",
   "metadata": {},
   "source": [
    "If both variables keep their values, nothing changes:"
   ]
  },
  {
   "cell_type": "code",
   "execution_count": 373,
   "metadata": {},
   "outputs": [
    {
     "data": {
      "text/plain": [
       "{}"
      ]
     },
     "execution_count": 373,
     "metadata": {},
     "output_type": "execute_result"
    }
   ],
   "source": [
    "t.changed_vars({'a': 10, 'b': 25})"
   ]
  },
  {
   "cell_type": "markdown",
   "metadata": {},
   "source": [
    "But if new variables come along, they are listed again."
   ]
  },
  {
   "cell_type": "code",
   "execution_count": 374,
   "metadata": {},
   "outputs": [
    {
     "data": {
      "text/plain": [
       "{'c': 10, 'd': 25}"
      ]
     },
     "execution_count": 374,
     "metadata": {},
     "output_type": "execute_result"
    }
   ],
   "source": [
    "changes = t.changed_vars({'c': 10, 'd': 25})\n",
    "changes"
   ]
  },
  {
   "cell_type": "markdown",
   "metadata": {},
   "source": [
    "The following expression creates a comma-separated list of variables and values:"
   ]
  },
  {
   "cell_type": "code",
   "execution_count": 375,
   "metadata": {},
   "outputs": [
    {
     "data": {
      "text/plain": [
       "'c = 10, d = 25'"
      ]
     },
     "execution_count": 375,
     "metadata": {},
     "output_type": "execute_result"
    }
   ],
   "source": [
    "\", \".join([var + \" = \" + repr(changes[var]) for var in changes])"
   ]
  },
  {
   "cell_type": "markdown",
   "metadata": {},
   "source": [
    "We can now put all of this together in our tracing function, reporting any variable changes as we see them. Note how we exploit the fact that in a call, all variables have a \"new\" value; and when we return from a function, we explicitly delete the \"last\" variables."
   ]
  },
  {
   "cell_type": "code",
   "execution_count": 376,
   "metadata": {},
   "outputs": [],
   "source": [
    "class Tracer(Tracer):\n",
    "    def print_debugger_status(self, frame, event, arg):\n",
    "        changes = self.changed_vars(frame.f_locals)\n",
    "        changes_s = \", \".join([var + \" = \" + repr(changes[var]) for var in changes])\n",
    "\n",
    "        if event == 'call':\n",
    "            print(\"Calling \" + frame.f_code.co_name + '(' + changes_s + ')')\n",
    "        elif changes:\n",
    "            print(' ' * 40, '#', changes_s)\n",
    "\n",
    "        if event == 'line':\n",
    "            module = inspect.getmodule(frame.f_code)\n",
    "            source = inspect.getsource(module)\n",
    "            current_line = source.split('\\n')[frame.f_lineno - 2]\n",
    "            print(repr(frame.f_lineno) + ' ' + current_line)\n",
    "\n",
    "        if event == 'return':\n",
    "            print(frame.f_code.co_name + '()' + \" returns \" + repr(arg))\n",
    "            self.last_vars = {}  # Delete 'last' variables\n",
    "\n",
    "    def traceit(self, frame, event, arg):\n",
    "        self.print_debugger_status(frame, event, arg)"
   ]
  },
  {
   "cell_type": "markdown",
   "metadata": {},
   "source": [
    "Here's the resulting trace of `remove_html_markup()` for a more complex input. You can see that the tracing output allows us to see which lines are executed as well as the variables whose value changes."
   ]
  },
  {
   "cell_type": "code",
   "execution_count": 377,
   "metadata": {},
   "outputs": [
    {
     "name": "stdout",
     "output_type": "stream",
     "text": [
      "Calling remove_html_markup(s = '<b>x</b>')\n",
      "223     tag   = False\n",
      "                                         # tag = False\n",
      "224     quote = False\n",
      "                                         # quote = False\n",
      "225     out   = \"\"\n",
      "                                         # out = ''\n",
      "227     for c in s:\n",
      "                                         # c = '<'\n",
      "228         assert tag or not quote\n",
      "230         if c == '<' and not quote:\n",
      "231             tag = True\n",
      "                                         # tag = True\n",
      "227     for c in s:\n",
      "                                         # c = 'b'\n",
      "228         assert tag or not quote\n",
      "230         if c == '<' and not quote:\n",
      "232         elif c == '>' and not quote:\n",
      "234         elif (c == '\"' or c == \"'\") and tag:\n",
      "236         elif not tag:\n",
      "227     for c in s:\n",
      "                                         # c = '>'\n",
      "228         assert tag or not quote\n",
      "230         if c == '<' and not quote:\n",
      "232         elif c == '>' and not quote:\n",
      "233             tag = False\n",
      "                                         # tag = False\n",
      "227     for c in s:\n",
      "                                         # c = 'x'\n",
      "228         assert tag or not quote\n",
      "230         if c == '<' and not quote:\n",
      "232         elif c == '>' and not quote:\n",
      "234         elif (c == '\"' or c == \"'\") and tag:\n",
      "236         elif not tag:\n",
      "237             out = out + c\n",
      "                                         # out = 'x'\n",
      "227     for c in s:\n",
      "                                         # c = '<'\n",
      "228         assert tag or not quote\n",
      "230         if c == '<' and not quote:\n",
      "231             tag = True\n",
      "                                         # tag = True\n",
      "227     for c in s:\n",
      "                                         # c = '/'\n",
      "228         assert tag or not quote\n",
      "230         if c == '<' and not quote:\n",
      "232         elif c == '>' and not quote:\n",
      "234         elif (c == '\"' or c == \"'\") and tag:\n",
      "236         elif not tag:\n",
      "227     for c in s:\n",
      "                                         # c = 'b'\n",
      "228         assert tag or not quote\n",
      "230         if c == '<' and not quote:\n",
      "232         elif c == '>' and not quote:\n",
      "234         elif (c == '\"' or c == \"'\") and tag:\n",
      "236         elif not tag:\n",
      "227     for c in s:\n",
      "                                         # c = '>'\n",
      "228         assert tag or not quote\n",
      "230         if c == '<' and not quote:\n",
      "232         elif c == '>' and not quote:\n",
      "233             tag = False\n",
      "                                         # tag = False\n",
      "227     for c in s:\n",
      "239     return out\n",
      "remove_html_markup() returns 'x'\n"
     ]
    },
    {
     "data": {
      "text/plain": [
       "'x'"
      ]
     },
     "execution_count": 377,
     "metadata": {},
     "output_type": "execute_result"
    }
   ],
   "source": [
    "remove_html_markup_traced('<b>x</b>')"
   ]
  },
  {
   "cell_type": "markdown",
   "metadata": {},
   "source": [
    "As you see, even a simple function can create a long execution log. Hence, we will now explore how to focus tracing on particular _events_."
   ]
  },
  {
   "cell_type": "markdown",
   "metadata": {},
   "source": [
    "## Conditional Tracing\n",
    "\n",
    "A log such as the above can very quickly become very messy – notably if executions take a long time, or if data structures become very complex. If one of our local variables were a list with 1,000 entries for instance, and were changed with each line, we'd be printing out the entire list with 1,000 entries for each step. \n",
    "\n",
    "We could still load the log into, say, a text editor or a database and then search for specific values, but this is still cumbersome. A better alternative, however, is to have our tracer only log while specific _conditions_ hold."
   ]
  },
  {
   "cell_type": "markdown",
   "metadata": {},
   "source": [
    "To this end, we introduce a class `ConditionalTracer`, which gets a list of expressions to be checked during executions. Only if these expressions hold do we list the current status. With\n",
    "\n",
    "```python\n",
    "with ConditionalTracer('c == \"z\"'):\n",
    "    remove_html_markup(...)\n",
    "```\n",
    "\n",
    "we would obtain only the lines executed while `c` gets a value of `'z'`, and with\n",
    "\n",
    "```python\n",
    "with ConditionalTracer('quote'):\n",
    "    remove_html_markup(...)\n",
    "```\n",
    "\n",
    "we would obtain only the lines executed while `quote` is True. If we have multiple conditions, we can combine them into one using `and`, `or`, or `not`."
   ]
  },
  {
   "cell_type": "markdown",
   "metadata": {},
   "source": [
    "Our `ConditionalTracer` class stores the condition in its `condition` attribute:"
   ]
  },
  {
   "cell_type": "code",
   "execution_count": 378,
   "metadata": {},
   "outputs": [],
   "source": [
    "class ConditionalTracer(Tracer):\n",
    "    def __init__(self, condition=None):\n",
    "        if condition is None:\n",
    "            condition = \"False\"\n",
    "        self.condition = condition\n",
    "        self.last_report = None\n",
    "        super().__init__()"
   ]
  },
  {
   "cell_type": "markdown",
   "metadata": {},
   "source": [
    "Its `traceit()` function _evaluates_ `condition` and reports the current line only if it holds. To this end, it uses the Python `eval()` function which evaluates the condition using the local variables of the program under test. If the condition gets set, we print out three dots to indicate the elapsed time."
   ]
  },
  {
   "cell_type": "code",
   "execution_count": 379,
   "metadata": {},
   "outputs": [],
   "source": [
    "class ConditionalTracer(ConditionalTracer):\n",
    "    def eval_in_context(self, expr, frame):\n",
    "        try:\n",
    "            cond = eval(expr, None, frame.f_locals)\n",
    "        except:  # Errors evaluate to `None`\n",
    "            cond = None\n",
    "        return cond\n",
    "    \n",
    "    def do_report(self, frame, event, arg):\n",
    "        return self.eval_in_context(self.condition, frame)\n",
    "\n",
    "    def traceit(self, frame, event, arg):\n",
    "        report = self.do_report(frame, event, arg)\n",
    "        if report != self.last_report:\n",
    "            if report:\n",
    "                print(\"...\")\n",
    "            self.last_report = report\n",
    "\n",
    "        if report:\n",
    "            self.print_debugger_status(frame, event, arg)"
   ]
  },
  {
   "cell_type": "markdown",
   "metadata": {},
   "source": [
    "Here's an example. We see that `quote` is set only while the three characters `b`, `a`, and `r` are processed (as should be)."
   ]
  },
  {
   "cell_type": "code",
   "execution_count": 380,
   "metadata": {},
   "outputs": [
    {
     "name": "stdout",
     "output_type": "stream",
     "text": [
      "...\n",
      "                                         # s = '<b title=\"bar\">\"foo\"</b>', tag = True, quote = True, out = '', c = '\"'\n",
      "227     for c in s:\n",
      "                                         # c = 'b'\n",
      "228         assert tag or not quote\n",
      "230         if c == '<' and not quote:\n",
      "232         elif c == '>' and not quote:\n",
      "234         elif (c == '\"' or c == \"'\") and tag:\n",
      "236         elif not tag:\n",
      "227     for c in s:\n",
      "                                         # c = 'a'\n",
      "228         assert tag or not quote\n",
      "230         if c == '<' and not quote:\n",
      "232         elif c == '>' and not quote:\n",
      "234         elif (c == '\"' or c == \"'\") and tag:\n",
      "236         elif not tag:\n",
      "227     for c in s:\n",
      "                                         # c = 'r'\n",
      "228         assert tag or not quote\n",
      "230         if c == '<' and not quote:\n",
      "232         elif c == '>' and not quote:\n",
      "234         elif (c == '\"' or c == \"'\") and tag:\n",
      "236         elif not tag:\n",
      "227     for c in s:\n",
      "                                         # c = '\"'\n",
      "228         assert tag or not quote\n",
      "230         if c == '<' and not quote:\n",
      "232         elif c == '>' and not quote:\n",
      "234         elif (c == '\"' or c == \"'\") and tag:\n",
      "235             quote = not quote\n"
     ]
    }
   ],
   "source": [
    "with ConditionalTracer(condition='quote'):\n",
    "    remove_html_markup('<b title=\"bar\">\"foo\"</b>')"
   ]
  },
  {
   "cell_type": "markdown",
   "metadata": {},
   "source": [
    "We can also have the log focus on particular code locations only. To this end, we add the variables `function` and `line` to our evaluation context, which can be used within our condition to refer to the current function name or line. Then, we invoke the original `eval_cond()` as above."
   ]
  },
  {
   "cell_type": "code",
   "execution_count": 381,
   "metadata": {},
   "outputs": [],
   "source": [
    "class ConditionalTracer(ConditionalTracer):\n",
    "    def eval_in_context(self, expr, frame):\n",
    "        frame.f_locals['function'] = frame.f_code.co_name\n",
    "        frame.f_locals['line'] = frame.f_lineno\n",
    "                    \n",
    "        return super().eval_in_context(expr, frame)"
   ]
  },
  {
   "cell_type": "markdown",
   "metadata": {},
   "source": [
    "Again, here is an example. We focus on the parts of the function where the `out` variable is being set:"
   ]
  },
  {
   "cell_type": "code",
   "execution_count": 382,
   "metadata": {},
   "outputs": [
    {
     "name": "stdout",
     "output_type": "stream",
     "text": [
      "...\n",
      "                                         # s = 'xyz', function = 'remove_html_markup', line = 237, tag = False, quote = False, out = '', c = 'x'\n",
      "237             out = out + c\n",
      "...\n",
      "                                         # out = 'x', c = 'y'\n",
      "237             out = out + c\n",
      "...\n",
      "                                         # out = 'xy', c = 'z'\n",
      "237             out = out + c\n",
      "...\n",
      "                                         # line = 239, out = 'xyz'\n",
      "239     return out\n",
      "remove_html_markup() returns 'xyz'\n"
     ]
    }
   ],
   "source": [
    "with ConditionalTracer(\"function == 'remove_html_markup' and line >= 237\"):\n",
    "    remove_html_markup('xyz')"
   ]
  },
  {
   "cell_type": "markdown",
   "metadata": {},
   "source": [
    "Using `line` and `function` in conditions is equivalent to conventional _breakpoints_ in interactive debuggers. We will reencounter them in the next chapter."
   ]
  },
  {
   "cell_type": "markdown",
   "metadata": {},
   "source": [
    "## Watching Events\n",
    "\n",
    "As an alternative to conditional logging, we may also be interested to exactly trace when a variable not only _has_ a particular value, but also when it _changes_ its value.\n",
    "\n",
    "To this end, we set up an `EventTracer` class that _watches_ when some event takes place. It takes a list of expressions (\"events\") and evaluates them for each line; if any event changes its value, we log the status."
   ]
  },
  {
   "cell_type": "markdown",
   "metadata": {},
   "source": [
    "With\n",
    "\n",
    "```python\n",
    "with EventTracer(events=['tag', 'quote']):\n",
    "    remove_html_markup(...)\n",
    "```\n",
    "\n",
    "for instance, we would get a listing of all lines where `tag` or `quote` change their value; and with\n",
    "\n",
    "```python\n",
    "with EventTracer(events=['function']):\n",
    "    remove_html_markup(...)\n",
    "```\n",
    "\n",
    "we would obtain a listing of all lines where the current function changes."
   ]
  },
  {
   "cell_type": "markdown",
   "metadata": {},
   "source": [
    "Our `EventTracer` class stores the list of events in its `events` attribute:"
   ]
  },
  {
   "cell_type": "code",
   "execution_count": 383,
   "metadata": {},
   "outputs": [],
   "source": [
    "class EventTracer(ConditionalTracer):\n",
    "    def __init__(self, condition=None, events=[]):\n",
    "        self.events = events\n",
    "        self.last_event_values = {}\n",
    "        super().__init__(condition=condition)"
   ]
  },
  {
   "cell_type": "markdown",
   "metadata": {},
   "source": [
    "Its `traceit()` function _evaluates_ the individual events and checks if they change."
   ]
  },
  {
   "cell_type": "code",
   "execution_count": 384,
   "metadata": {},
   "outputs": [],
   "source": [
    "class EventTracer(EventTracer):\n",
    "    def events_changed(self, events, frame):\n",
    "        change = False\n",
    "        for event in events:\n",
    "            value = self.eval_in_context(event, frame)\n",
    "\n",
    "            if (event not in self.last_event_values or \n",
    "                value != self.last_event_values[event]):\n",
    "                self.last_event_values[event] = value\n",
    "                change = True\n",
    "                # print(f\"New value for {event}: {repr(value)}\")\n",
    "\n",
    "        return change"
   ]
  },
  {
   "cell_type": "code",
   "execution_count": 385,
   "metadata": {},
   "outputs": [],
   "source": [
    "class EventTracer(EventTracer):\n",
    "    def do_report(self, frame, event, arg):\n",
    "        return (self.eval_in_context(self.condition, frame) or\n",
    "                self.events_changed(self.events, frame))"
   ]
  },
  {
   "cell_type": "code",
   "execution_count": 386,
   "metadata": {},
   "outputs": [
    {
     "name": "stdout",
     "output_type": "stream",
     "text": [
      "...\n",
      "Calling remove_html_markup(s = '<b title=\"bar\">\"foo\"</b>', function = 'remove_html_markup', line = 222)\n",
      "...\n",
      "                                         # line = 224, tag = False\n",
      "224     quote = False\n",
      "...\n",
      "                                         # line = 227, tag = True, quote = False, out = '', c = '<'\n",
      "227     for c in s:\n",
      "...\n",
      "                                         # tag = False, c = '>'\n",
      "227     for c in s:\n",
      "...\n",
      "                                         # tag = True, out = '\"foo\"', c = '<'\n",
      "227     for c in s:\n",
      "...\n",
      "                                         # tag = False, c = '>'\n",
      "227     for c in s:\n"
     ]
    }
   ],
   "source": [
    "with EventTracer(events=['tag']):\n",
    "    remove_html_markup('<b title=\"bar\">\"foo\"</b>')"
   ]
  },
  {
   "cell_type": "markdown",
   "metadata": {},
   "source": [
    "With this, we have all we need for observing what happens during execution: We can explore the entire state, and we can evaluate conditions and events we are interested in. In the next chapter, we will see how to turn these capabilities into an interactive debugger, where we can query all these things interactively."
   ]
  },
  {
   "cell_type": "markdown",
   "metadata": {},
   "source": [
    "## Efficient Tracing"
   ]
  },
  {
   "cell_type": "markdown",
   "metadata": {},
   "source": [
    "## Synopsis"
   ]
  },
  {
   "cell_type": "markdown",
   "metadata": {},
   "source": [
    "_For those only interested in using the code in this chapter (without wanting to know how it works), give an example.  This will be copied to the beginning of the chapter (before the first section) as text with rendered input and output._"
   ]
  },
  {
   "cell_type": "markdown",
   "metadata": {},
   "source": [
    "You can use `int_fuzzer()` as:"
   ]
  },
  {
   "cell_type": "code",
   "execution_count": 390,
   "metadata": {},
   "outputs": [
    {
     "name": "stdout",
     "output_type": "stream",
     "text": [
      "76.5\n"
     ]
    }
   ],
   "source": [
    "print(int_fuzzer())"
   ]
  },
  {
   "cell_type": "markdown",
   "metadata": {
    "button": false,
    "new_sheet": true,
    "run_control": {
     "read_only": false
    }
   },
   "source": [
    "## Lessons Learned\n",
    "\n",
    "* _Lesson one_\n",
    "* _Lesson two_\n",
    "* _Lesson three_"
   ]
  },
  {
   "cell_type": "markdown",
   "metadata": {
    "button": false,
    "new_sheet": false,
    "run_control": {
     "read_only": false
    }
   },
   "source": [
    "## Next Steps\n",
    "\n",
    "_Link to subsequent chapters (notebooks) here, as in:_\n",
    "\n",
    "* [use _mutations_ on existing inputs to get more valid inputs](MutationFuzzer.ipynb)\n",
    "* [use _grammars_ (i.e., a specification of the input format) to get even more valid inputs](Grammars.ipynb)\n",
    "* [reduce _failing inputs_ for efficient debugging](Reducer.ipynb)\n"
   ]
  },
  {
   "cell_type": "markdown",
   "metadata": {},
   "source": [
    "## Background\n",
    "\n",
    "_Cite relevant works in the literature and put them into context, as in:_\n",
    "\n",
    "The idea of ensuring that each expansion in the grammar is used at least once goes back to Burkhardt \\cite{Burkhardt1967}, to be later rediscovered by Paul Purdom \\cite{Purdom1972}."
   ]
  },
  {
   "cell_type": "markdown",
   "metadata": {
    "button": false,
    "new_sheet": true,
    "run_control": {
     "read_only": false
    }
   },
   "source": [
    "## Exercises\n",
    "\n",
    "_Close the chapter with a few exercises such that people have things to do.  To make the solutions hidden (to be revealed by the user), have them start with_\n",
    "\n",
    "```\n",
    "**Solution.**\n",
    "```\n",
    "\n",
    "_Your solution can then extend up to the next title (i.e., any markdown cell starting with `#`)._\n",
    "\n",
    "_Running `make metadata` will automatically add metadata to the cells such that the cells will be hidden by default, and can be uncovered by the user.  The button will be introduced above the solution._"
   ]
  },
  {
   "cell_type": "markdown",
   "metadata": {
    "button": false,
    "new_sheet": false,
    "run_control": {
     "read_only": false
    }
   },
   "source": [
    "### Exercise 1: _Title_\n",
    "\n",
    "_Text of the exercise_"
   ]
  },
  {
   "cell_type": "code",
   "execution_count": 391,
   "metadata": {
    "cell_style": "center"
   },
   "outputs": [],
   "source": [
    "# Some code that is part of the exercise\n",
    "pass"
   ]
  },
  {
   "cell_type": "markdown",
   "metadata": {
    "solution2": "hidden",
    "solution2_first": true
   },
   "source": [
    "_Some more text for the exercise_"
   ]
  },
  {
   "cell_type": "markdown",
   "metadata": {
    "slideshow": {
     "slide_type": "skip"
    },
    "solution2": "hidden"
   },
   "source": [
    "**Solution.** _Some text for the solution_"
   ]
  },
  {
   "cell_type": "code",
   "execution_count": 392,
   "metadata": {
    "cell_style": "split",
    "slideshow": {
     "slide_type": "skip"
    },
    "solution2": "hidden"
   },
   "outputs": [
    {
     "data": {
      "text/plain": [
       "4"
      ]
     },
     "execution_count": 392,
     "metadata": {},
     "output_type": "execute_result"
    }
   ],
   "source": [
    "# Some code for the solution\n",
    "2 + 2"
   ]
  },
  {
   "cell_type": "markdown",
   "metadata": {
    "slideshow": {
     "slide_type": "skip"
    },
    "solution2": "hidden"
   },
   "source": [
    "_Some more text for the solution_"
   ]
  },
  {
   "cell_type": "markdown",
   "metadata": {
    "button": false,
    "new_sheet": false,
    "run_control": {
     "read_only": false
    },
    "solution": "hidden",
    "solution2": "hidden",
    "solution2_first": true,
    "solution_first": true
   },
   "source": [
    "### Exercise 2: _Title_\n",
    "\n",
    "_Text of the exercise_"
   ]
  },
  {
   "cell_type": "markdown",
   "metadata": {
    "button": false,
    "new_sheet": false,
    "run_control": {
     "read_only": false
    },
    "slideshow": {
     "slide_type": "skip"
    },
    "solution": "hidden",
    "solution2": "hidden"
   },
   "source": [
    "**Solution.** _Solution for the exercise_"
   ]
  },
  {
   "cell_type": "code",
   "execution_count": null,
   "metadata": {},
   "outputs": [],
   "source": []
  },
  {
   "cell_type": "code",
   "execution_count": null,
   "metadata": {},
   "outputs": [],
   "source": []
  },
  {
   "cell_type": "code",
   "execution_count": null,
   "metadata": {},
   "outputs": [],
   "source": []
  },
  {
   "cell_type": "code",
   "execution_count": null,
   "metadata": {},
   "outputs": [],
   "source": []
  }
 ],
 "metadata": {
  "ipub": {
   "bibliography": "fuzzingbook.bib",
   "toc": true
  },
  "kernelspec": {
   "display_name": "Python 3",
   "language": "python",
   "name": "python3"
  },
  "language_info": {
   "codemirror_mode": {
    "name": "ipython",
    "version": 3
   },
   "file_extension": ".py",
   "mimetype": "text/x-python",
   "name": "python",
   "nbconvert_exporter": "python",
   "pygments_lexer": "ipython3",
   "version": "3.6.8"
  },
  "toc": {
   "base_numbering": 1,
   "nav_menu": {},
   "number_sections": true,
   "sideBar": true,
   "skip_h1_title": true,
   "title_cell": "",
   "title_sidebar": "Contents",
   "toc_cell": false,
   "toc_position": {},
   "toc_section_display": true,
   "toc_window_display": true
  },
  "toc-autonumbering": false
 },
 "nbformat": 4,
 "nbformat_minor": 2
}
