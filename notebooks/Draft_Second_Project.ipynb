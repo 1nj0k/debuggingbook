{
 "cells": [
  {
   "cell_type": "markdown",
   "metadata": {},
   "source": [
    "# Second Project"
   ]
  },
  {
   "cell_type": "markdown",
   "metadata": {},
   "source": [
    "In this project, you will implement a tool that given a Python program and a Python parser, reduces this program to the minimum program that still produces the same parsing error.  \n",
    "To do this, you tool should make use of the Delta Debugging approach by Zeller et. al. However, instead of just deleting parts of the input, your tool should insure the validity of the produced Python code e.g. it should still be able to run in a non-faulty interpreter.  \n",
    "This is done by manipulating the AST of the Python code.  \n",
    "\n",
    "The time frame for this project is **2 weeks** and the Deadline is **January 15th 23:59**."
   ]
  },
  {
   "cell_type": "markdown",
   "metadata": {},
   "source": [
    "## Intelligent Reductions\n",
    "\n",
    "The changes should be made in a way that the code is still executable within a standart Python interpreter. Therefore, you are required to implement certain modifications that can be done to the code. In general these transformations can be one of the following:\n",
    "* delete a node  \n",
    "* substitute a node with the _pass_ node  \n",
    "* substitute a node with all of its children  \n",
    "* substitute a node with one of its children  \n",
    "\n",
    "For instance:\n",
    "* Replace a `BoolOp` node by `True`.\n",
    "* Replace a `BoolOp` node by `False`.\n",
    "* Replace a `BoolOp` node by its left operand.\n",
    "* Replace a `BoolOp` node by its right operand.\n",
    "* Replace an `If` node by its \"then\" body.\n",
    "* Replace an `If` node by its condition.\n",
    "* Replace an `If` node by its \"else\" body.\n",
    "* Replace all instances of a variable by a constant.\n",
    "* Replace expressions by a constant.\n",
    "\n",
    "[official Python `ast` reference](http://docs.python.org/3/library/ast) for a list of nodes"
   ]
  },
  {
   "cell_type": "markdown",
   "metadata": {},
   "source": [
    "### Must-have implementation\n",
    "Implement a reducer which minifies a given program so that its parser still produces an error.\n",
    "To this end, collect all possible transformations over the nodes of an AST tree and then apply one change at a time. These modifications should be repeated until no further updates can be made without triggering a parser exception. \n",
    "\n",
    "*Note: Implementing the given modifications should be sufficient to succesfully complete this project.*"
   ]
  },
  {
   "cell_type": "markdown",
   "metadata": {},
   "source": [
    "### May-have implementation\n",
    "The must-have implementation aims for correctness but is very inefficient. Though, it can be optimised, for instance, with help of the delta-debugging approach. Implement an AST delta-debugger which efficiently prunes the nodes. \n",
    "\n",
    "Hint: Check _Hierarchical Delta Debugging_ paper from the Background section of **Reducing Failure-Inducing Inputs** Chapter."
   ]
  },
  {
   "cell_type": "markdown",
   "metadata": {},
   "source": [
    "## Evaluation\n",
    "\n",
    "We evaluate your project based on public as well as secret tests. In this section, we **five** different Python parsers as well as **five** Python programms, which should be minified. These parsers check for a specific property in the code and fail the execution if the property exists. The programs and parsers in this section make up the public test cases. If you pass all of those tests **without hardcoding the modifications** you are guaranteed to score at least 15 points in this project."
   ]
  },
  {
   "cell_type": "code",
   "execution_count": 1,
   "metadata": {},
   "outputs": [],
   "source": [
    "import inspect\n",
    "import ast\n",
    "import sys\n",
    "import astor\n",
    "import abc"
   ]
  },
  {
   "cell_type": "code",
   "execution_count": 2,
   "metadata": {},
   "outputs": [],
   "source": [
    "class ParserException(Exception):\n",
    "    pass\n",
    "\n",
    "class Parser(ast.NodeVisitor, metaclass=abc.ABCMeta):\n",
    "\n",
    "    def parse(self, file):\n",
    "        tree = ast.parse(source=file)\n",
    "        self.visit(tree)\n",
    "    \n",
    "    @abc.abstractmethod\n",
    "    def original(): \n",
    "        pass\n",
    "    @abc.abstractmethod\n",
    "    def minimized(): \n",
    "        pass\n",
    "    \n",
    "    def get_source(self, source):\n",
    "        first_line = source[0]\n",
    "        indentation = len(first_line) - len(first_line.lstrip())\n",
    "        return ''.join([line[indentation:] for line in source])\n",
    "\n",
    "    def get_original(self):\n",
    "        source = inspect.getsourcelines(self.original)[0][1:]\n",
    "        return self.get_source(source)\n",
    "\n",
    "    def get_minimized(self):\n",
    "        source = inspect.getsourcelines(self.minimized)[0][2:]\n",
    "        return self.get_source(source)\n"
   ]
  },
  {
   "cell_type": "code",
   "execution_count": 3,
   "metadata": {},
   "outputs": [],
   "source": [
    "class Parser1(Parser):\n",
    "    \"\"\"\n",
    "    Contains boolean operation\n",
    "    \"\"\"    \n",
    "    def visit_BoolOp(self, node):\n",
    "        raise ParserException\n",
    "        \n",
    "    @staticmethod\n",
    "    def original():\n",
    "        a = True\n",
    "        b = not False\n",
    "        c = 30\n",
    "        for i in range(c):\n",
    "            if i == 15:\n",
    "                if a and b:\n",
    "                    return 1\n",
    "        return 0\n",
    "    @staticmethod    \n",
    "    def minimized():\n",
    "        True and True"
   ]
  },
  {
   "cell_type": "code",
   "execution_count": 4,
   "metadata": {},
   "outputs": [],
   "source": [
    "class Parser2(Parser):\n",
    "    \"\"\"\n",
    "    Contains if statement\n",
    "    \"\"\"\n",
    "    def visit_If(self, node):\n",
    "        raise ParserException\n",
    "\n",
    "    @staticmethod        \n",
    "    def original():\n",
    "        a = True\n",
    "        b = not False\n",
    "        c = 30\n",
    "        for i in range(c):\n",
    "            if i == 15:\n",
    "                if a and b:\n",
    "                    return 1\n",
    "        return 0\n",
    "    @staticmethod\n",
    "    def minimized():\n",
    "        if True:\n",
    "            return    "
   ]
  },
  {
   "cell_type": "code",
   "execution_count": 5,
   "metadata": {},
   "outputs": [],
   "source": [
    "class Parser3(Parser):\n",
    "    \"\"\"\n",
    "    Contains special unicode character\n",
    "    \"\"\"\n",
    "    def __init__(self) -> None:\n",
    "        self.assignment = False\n",
    "        self.steps = 0\n",
    "\n",
    "    def check_unicode(self, string):\n",
    "        return string == u'\\u0426'\n",
    "\n",
    "    def generic_visit(self, node):\n",
    "        self.steps += 1\n",
    "        ast.NodeVisitor.generic_visit(self, node)\n",
    "\n",
    "    def visit_Assign(self, node):\n",
    "        self.assignment = True\n",
    "        self.steps = 0\n",
    "        self.generic_visit(node)\n",
    "\n",
    "    def visit_Str(self, node):\n",
    "        if self.assignment and self.steps == 3:\n",
    "            if self.check_unicode(node.s):\n",
    "                raise ParserException\n",
    "    @staticmethod\n",
    "    def original():\n",
    "        a = 1 \n",
    "        b = a\n",
    "        c = a - b\n",
    "        if c < a:\n",
    "            d = ''\n",
    "            while a == b:\n",
    "                d = u'\\u0426'\n",
    "                a += 1\n",
    "            return d\n",
    "        return ''\n",
    "    @staticmethod\n",
    "    def minimized():\n",
    "        d = u'\\u0426'"
   ]
  },
  {
   "cell_type": "code",
   "execution_count": 6,
   "metadata": {},
   "outputs": [],
   "source": [
    "class Parser4(Parser):\n",
    "    \"\"\"\n",
    "    Variable not defined\n",
    "    \"\"\"\n",
    "    def __init__(self) -> None:\n",
    "        self.assignment = False\n",
    "        self.steps = 0\n",
    "        self.variables = set()\n",
    "\n",
    "    def generic_visit(self, node):\n",
    "        self.steps += 1\n",
    "        ast.NodeVisitor.generic_visit(self, node)\n",
    "\n",
    "    def visit_Name(self, node):\n",
    "        if self.assignment and self.steps == 1:\n",
    "            self.variables.add(node.id)\n",
    "            self.assignment = False\n",
    "            self.generic_visit(node)\n",
    "        elif node.id in self.variables:\n",
    "            self.generic_visit(node)\n",
    "        else:\n",
    "            raise ParserException\n",
    "\n",
    "    def visit_Assign(self, node):\n",
    "        self.assignment = True\n",
    "        self.steps = 0\n",
    "        self.generic_visit(node)\n",
    "    @staticmethod\n",
    "    def original():\n",
    "        a = 1 \n",
    "        b = a\n",
    "        c = a - b\n",
    "        if c < a:\n",
    "            while a == b:\n",
    "                a += 1\n",
    "            return d\n",
    "        return ''\n",
    "    @staticmethod\n",
    "    def minimized():\n",
    "        return d"
   ]
  },
  {
   "cell_type": "code",
   "execution_count": 7,
   "metadata": {},
   "outputs": [],
   "source": [
    "class Parser5(Parser):\n",
    "    \"\"\"\n",
    "    Should contain a list\n",
    "    \"\"\"\n",
    "\n",
    "    def visit_List(self, node):\n",
    "        raise ParserException\n",
    "        \n",
    "    @staticmethod        \n",
    "    def original():\n",
    "        a = 1\n",
    "        b = 0\n",
    "        while True:\n",
    "            if a < b:\n",
    "                return [1, 2, 3]\n",
    "            else:\n",
    "                return []\n",
    "            \n",
    "    @staticmethod\n",
    "    def minimized():\n",
    "        []"
   ]
  },
  {
   "cell_type": "markdown",
   "metadata": {},
   "source": [
    "Let's look at the example:"
   ]
  },
  {
   "cell_type": "code",
   "execution_count": 8,
   "metadata": {},
   "outputs": [],
   "source": [
    "class Parser0(Parser):\n",
    "    \"\"\"\n",
    "    Contains boolean operation\n",
    "    \"\"\"    \n",
    "    def visit_BoolOp(self, node):\n",
    "        raise ParserException(\"Parsing error\")\n",
    "        \n",
    "    @staticmethod\n",
    "    def original():\n",
    "        a = 1\n",
    "        b = 2\n",
    "        if a and b:\n",
    "            return 0\n",
    "        return 1\n",
    "    \n",
    "    @staticmethod    \n",
    "    def minimized():\n",
    "        True and True\n"
   ]
  },
  {
   "cell_type": "code",
   "execution_count": 9,
   "metadata": {},
   "outputs": [],
   "source": [
    "sys.path.append(\"../debuggingbook/notebooks/\")\n",
    "sys.path.append(\"../debuggingbook/docs/beta/code/\")\n",
    "import bookutils"
   ]
  },
  {
   "cell_type": "code",
   "execution_count": 10,
   "metadata": {},
   "outputs": [],
   "source": [
    "from DeltaDebugger import NodeCollector, DeltaDebugger, ExpectError, copy_and_reduce\n",
    "from showast import show_ast"
   ]
  },
  {
   "cell_type": "code",
   "execution_count": 11,
   "metadata": {},
   "outputs": [],
   "source": [
    "class Reducer():\n",
    "    def __init__(self, parser):\n",
    "        self.parser = parser\n",
    "        self.minimized_tree = None\n",
    "        self.minimized_code = None\n",
    "    def minimize(self):\n",
    "        \"\"\"\n",
    "        Reduces the program\n",
    "        Overwrite this\n",
    "        \"\"\"\n",
    "        self.minimized_code = parser.get_minimized()\n",
    "        return self.minimized_code"
   ]
  },
  {
   "cell_type": "markdown",
   "metadata": {},
   "source": [
    "Let's try out the delta debugger implemented in **Reducing Failure-Inducing Inputs** chapter."
   ]
  },
  {
   "cell_type": "code",
   "execution_count": 12,
   "metadata": {},
   "outputs": [],
   "source": [
    "class DeltaDebuggerReducer(Reducer):\n",
    "\n",
    "    def minimize(self):\n",
    "        def compile_and_test_ast(tree, keep_list, parser):\n",
    "            new_tree = copy_and_reduce(tree, keep_list)\n",
    "            code = astor.to_source(new_tree)\n",
    "            if not code:\n",
    "                raise SyntaxError(\"Empty code\")\n",
    "            try:\n",
    "                code_object = compile(new_tree, '<string>', 'exec')\n",
    "            except Exception:\n",
    "                raise SyntaxError(\"Cannot compile\")\n",
    "            parser.parse(code)\n",
    "        source = self.parser.get_original()\n",
    "        fun_tree = ast.parse(source)\n",
    "        fun_nodes = NodeCollector().collect(fun_tree)\n",
    "        with DeltaDebugger() as dd:\n",
    "            compile_and_test_ast(fun_tree, fun_nodes, self.parser)\n",
    "        reduced_nodes = dd.min_args()['keep_list']\n",
    "        reduced_fun_tree = copy_and_reduce(fun_tree, reduced_nodes)\n",
    "        self.minimized_tree = reduced_fun_tree\n",
    "        self.minimized_code = astor.to_source(reduced_fun_tree)\n",
    "        return self.minimized_code"
   ]
  },
  {
   "cell_type": "code",
   "execution_count": 13,
   "metadata": {},
   "outputs": [],
   "source": [
    "parser = Parser0()\n",
    "ddr = DeltaDebuggerReducer(parser)"
   ]
  },
  {
   "cell_type": "code",
   "execution_count": 14,
   "metadata": {},
   "outputs": [],
   "source": [
    "minimized = ddr.minimize()"
   ]
  },
  {
   "cell_type": "code",
   "execution_count": 15,
   "metadata": {},
   "outputs": [
    {
     "name": "stdout",
     "output_type": "stream",
     "text": [
      "Original code:\n",
      " def original():\n",
      "    a = 1\n",
      "    b = 2\n",
      "    if a and b:\n",
      "        return 0\n",
      "    return 1\n",
      "\n",
      "Minimized code:\n",
      " def original():\n",
      "    pass\n",
      "    pass\n",
      "    if a and b:\n",
      "        return 0\n",
      "\n"
     ]
    }
   ],
   "source": [
    "print(\"Original code:\\n\", ddr.parser.get_original())\n",
    "print(\"Minimized code:\\n\", minimized)"
   ]
  },
  {
   "cell_type": "markdown",
   "metadata": {},
   "source": [
    "## Implemetation"
   ]
  },
  {
   "cell_type": "code",
   "execution_count": 16,
   "metadata": {},
   "outputs": [],
   "source": [
    "class MyReducer(Reducer):\n",
    "\n",
    "    def minimize(self):\n",
    "        # TODO: implement this!\n",
    "        return self.parser.get_original()"
   ]
  },
  {
   "cell_type": "markdown",
   "metadata": {},
   "source": [
    "## Tests\n",
    "\n",
    "The following section introduces public test cases, which are used to assess your performance in the project. Passing each test, will be enough to complete the project sucessfully.\n"
   ]
  },
  {
   "cell_type": "code",
   "execution_count": 17,
   "metadata": {},
   "outputs": [],
   "source": [
    "import unittest"
   ]
  },
  {
   "cell_type": "code",
   "execution_count": 18,
   "metadata": {},
   "outputs": [],
   "source": [
    "THRESHOLD = 6"
   ]
  },
  {
   "cell_type": "code",
   "execution_count": 19,
   "metadata": {},
   "outputs": [],
   "source": [
    "'''\n",
    "This node counter is used to assess the amount of reductions perfomed by your reducer.\n",
    "'''\n",
    "class NodeCounter(ast.NodeVisitor):\n",
    "\n",
    "    def __init__(self) -> None:\n",
    "        self.num_nodes = 0\n",
    "\n",
    "    def visit(self, node):\n",
    "        self.num_nodes += 1\n",
    "        self.generic_visit(node)\n",
    "\n",
    "    def count(self, source):\n",
    "        tree = ast.parse(source=source)\n",
    "        self.visit(tree)\n",
    "        return self.num_nodes"
   ]
  },
  {
   "cell_type": "code",
   "execution_count": 20,
   "metadata": {},
   "outputs": [],
   "source": [
    "class PublicTests(unittest.TestCase):\n",
    "\n",
    "    def __init__(self, parser, reducer):\n",
    "        self.parser = parser()\n",
    "        self.reducer = reducer(self.parser)\n",
    "        \n",
    "    def count_nodes(self, source):\n",
    "        if source is None:\n",
    "            return 10000\n",
    "        return NodeCounter().count(source)\n",
    "\n",
    "    def run_tests(self):\n",
    "        print(f'Running tests for {self.parser}:')\n",
    "        # TODO: run their minimizer/delta debugger with a timeout\n",
    "        reduced = self.reducer.minimize()\n",
    "        self.has_property(reduced)\n",
    "        self.is_minimized(reduced)\n",
    "\n",
    "    def has_property(self, reduced):\n",
    "        try:\n",
    "            self.assertRaises(ParserException, lambda: self.parser.parse(reduced))\n",
    "            print(f'HAS PROPERTY: OK')    \n",
    "        except Exception as e:\n",
    "            print(f'HAS PROPERTY: FAIL {e}')\n",
    "    \n",
    "    def is_minimized(self, reduced):\n",
    "        count_minimized = self.count_nodes(reduced)\n",
    "        count_template = self.count_nodes(self.parser.get_minimized())\n",
    "        try:\n",
    "            assert(count_minimized <= count_template + THRESHOLD)\n",
    "            print(f'IS MINIMIZED: OK')    \n",
    "        except Exception as e:\n",
    "            print(f'IS MINIMIZED: FAIL {e}')"
   ]
  },
  {
   "cell_type": "markdown",
   "metadata": {},
   "source": [
    "### Tests for parser 1"
   ]
  },
  {
   "cell_type": "code",
   "execution_count": 21,
   "metadata": {},
   "outputs": [
    {
     "name": "stdout",
     "output_type": "stream",
     "text": [
      "Running tests for <__main__.Parser1 object at 0x10fa07fd0>:\n",
      "HAS PROPERTY: OK\n",
      "IS MINIMIZED: FAIL \n"
     ]
    }
   ],
   "source": [
    "test1 = PublicTests(Parser1, MyReducer)\n",
    "test1.run_tests()"
   ]
  },
  {
   "cell_type": "markdown",
   "metadata": {},
   "source": [
    "### Tests for parser 2"
   ]
  },
  {
   "cell_type": "code",
   "execution_count": 22,
   "metadata": {},
   "outputs": [
    {
     "name": "stdout",
     "output_type": "stream",
     "text": [
      "Running tests for <__main__.Parser2 object at 0x10f989490>:\n",
      "HAS PROPERTY: OK\n",
      "IS MINIMIZED: FAIL \n"
     ]
    }
   ],
   "source": [
    "test2 = PublicTests(Parser2, MyReducer)\n",
    "test2.run_tests()"
   ]
  },
  {
   "cell_type": "markdown",
   "metadata": {},
   "source": [
    "### Tests for parser 3"
   ]
  },
  {
   "cell_type": "code",
   "execution_count": 23,
   "metadata": {},
   "outputs": [
    {
     "name": "stdout",
     "output_type": "stream",
     "text": [
      "Running tests for <__main__.Parser3 object at 0x10f928c10>:\n",
      "HAS PROPERTY: OK\n",
      "IS MINIMIZED: FAIL \n"
     ]
    }
   ],
   "source": [
    "test3 = PublicTests(Parser3, MyReducer)\n",
    "test3.run_tests()"
   ]
  },
  {
   "cell_type": "markdown",
   "metadata": {},
   "source": [
    "### Tests for parser 4"
   ]
  },
  {
   "cell_type": "code",
   "execution_count": 24,
   "metadata": {},
   "outputs": [
    {
     "name": "stdout",
     "output_type": "stream",
     "text": [
      "Running tests for <__main__.Parser4 object at 0x10df2d9d0>:\n",
      "HAS PROPERTY: OK\n",
      "IS MINIMIZED: FAIL \n"
     ]
    }
   ],
   "source": [
    "test4 = PublicTests(Parser4, MyReducer)\n",
    "test4.run_tests()"
   ]
  },
  {
   "cell_type": "markdown",
   "metadata": {},
   "source": [
    "### Tests for parser 5"
   ]
  },
  {
   "cell_type": "code",
   "execution_count": 25,
   "metadata": {},
   "outputs": [
    {
     "name": "stdout",
     "output_type": "stream",
     "text": [
      "Running tests for <__main__.Parser5 object at 0x10fa07ad0>:\n",
      "HAS PROPERTY: OK\n",
      "IS MINIMIZED: FAIL \n"
     ]
    }
   ],
   "source": [
    "test5 = PublicTests(Parser5, MyReducer)\n",
    "test5.run_tests()"
   ]
  },
  {
   "cell_type": "code",
   "execution_count": 26,
   "metadata": {},
   "outputs": [
    {
     "name": "stdout",
     "output_type": "stream",
     "text": [
      "Running tests for <__main__.Parser0 object at 0x10f9ba490>:\n",
      "HAS PROPERTY: OK\n",
      "IS MINIMIZED: FAIL \n"
     ]
    }
   ],
   "source": [
    "test1 = PublicTests(Parser0, DeltaDebuggerReducer)\n",
    "test1.run_tests()"
   ]
  },
  {
   "cell_type": "code",
   "execution_count": null,
   "metadata": {},
   "outputs": [],
   "source": []
  }
 ],
 "metadata": {
  "kernelspec": {
   "display_name": "Python 3",
   "language": "python",
   "name": "python3"
  },
  "language_info": {
   "codemirror_mode": {
    "name": "ipython",
    "version": 3
   },
   "file_extension": ".py",
   "mimetype": "text/x-python",
   "name": "python",
   "nbconvert_exporter": "python",
   "pygments_lexer": "ipython3",
   "version": "3.7.6"
  }
 },
 "nbformat": 4,
 "nbformat_minor": 2
}
