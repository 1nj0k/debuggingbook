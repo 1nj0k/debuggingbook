{
 "cells": [
  {
   "cell_type": "markdown",
   "metadata": {
    "button": false,
    "new_sheet": false,
    "run_control": {
     "read_only": false
    }
   },
   "source": [
    "# Reducing Failure-Inducing Inputs\n",
    "\n",
    "By construction, fuzzers create inputs that may be hard to read.  This causes issues during _debugging_, when a human has to analyze the exact cause of the failure.  In this chapter, we present techniques that _automatically reduce and simplify failure-inducing inputs to a minimum_ in order to ease debugging."
   ]
  },
  {
   "cell_type": "markdown",
   "metadata": {
    "button": false,
    "new_sheet": false,
    "run_control": {
     "read_only": false
    }
   },
   "source": [
    "**Prerequisites**\n",
    "\n",
    "* Using the \"delta debugging\" technique for reduction has no specific prerequisites.\n",
    "* To understand the `DeltaDebugger` implementation, reading [the chapter on tracing](Tracer.ipynb) is recommended."
   ]
  },
  {
   "cell_type": "markdown",
   "metadata": {
    "button": false,
    "new_sheet": false,
    "run_control": {
     "read_only": false
    }
   },
   "source": [
    "This chapter is adapted from [a similar chapter in \"The Fuzzing Book\"](https://www.fuzzingbook.org/html/Reducer.html). The material has been adapted to be independent from the `fuzzingbook` infrastructure and to provide a simpler invocation interface."
   ]
  },
  {
   "cell_type": "markdown",
   "metadata": {
    "slideshow": {
     "slide_type": "skip"
    }
   },
   "source": [
    "## Synopsis\n",
    "<!-- Automatically generated. Do not edit. -->\n",
    "\n",
    "To [use the code provided in this chapter](Importing.ipynb), write\n",
    "\n",
    "```python\n",
    ">>> from debuggingbook.DeltaDebugger import <identifier>\n",
    "```\n",
    "\n",
    "and then make use of the following features.\n",
    "\n",
    "\n",
    "A _reducer_ takes a failure-inducing input and reduces it to the minimum that still reproduces the failure.  This chapter provides a `DeltaDebugger` class that implements such a reducer.\n",
    "\n",
    "Here is a simple example: An arithmetic expression causes an error in the Python interpreter:\n",
    "\n",
    "```python\n",
    ">>> def myeval(inp):\n",
    ">>>     return eval(inp)\n",
    ">>> with ExpectError():\n",
    ">>>     myeval('1 + 2 * 3 / 0')\n",
    "Traceback (most recent call last):\n",
    "  File \"<ipython-input-100-deae668eac94>\", line 2, in <module>\n",
    "    myeval('1 + 2 * 3 / 0')\n",
    "  File \"<ipython-input-99-e6018665ac61>\", line 2, in myeval\n",
    "    return eval(inp)\n",
    "  File \"<string>\", line 1, in <module>\n",
    "ZeroDivisionError: division by zero (expected)\n",
    "```\n",
    "Can we reduce this input to a minimum? _Delta Debugging_ is a simple and robust reduction algorithm. We provide a `DeltaDebugger` class that is used in conjunction with a (failing) function call:\n",
    "\n",
    "```python\n",
    "with DeltaDebugger() as dd:\n",
    "    fun(args...)\n",
    "dd\n",
    "```\n",
    "\n",
    "The class automatically determines minimal arguments that cause the function to fail with the same exception as the original. Printing out the class object reveals the minimized call.\n",
    "\n",
    "```python\n",
    ">>> with DeltaDebugger() as dd:\n",
    ">>>     myeval('1 + 2 * 3 / 0')\n",
    ">>> dd\n",
    "myeval(inp='2/0')\n",
    "```\n",
    "The input is reduced to the maximum: We get the essence of the division by zero.\n",
    "\n",
    "There also is an interface to access the reduced input(s) programmatically. The method `reduced_args()` returns a dictionary in which all function arguments are minimized:\n",
    "\n",
    "```python\n",
    ">>> dd.reduced_args()\n",
    "{'inp': '2/0'}\n",
    "```\n",
    "And you can also access the function itself, as well as its original arguments.\n",
    "\n",
    "```python\n",
    ">>> dd.function().__name__, dd.args()\n",
    "('myeval', {'inp': '1 + 2 * 3 / 0'})\n",
    "```\n",
    "`DelteDebugger` minimizes all arguments that support a `len()` operation and that can be indexed – notably _strings_ and _lists_. If a function has multiple arguments, all arguments that can be minimized will be minimized.\n",
    "\n"
   ]
  },
  {
   "cell_type": "markdown",
   "metadata": {
    "button": false,
    "new_sheet": true,
    "run_control": {
     "read_only": false
    }
   },
   "source": [
    "## Why Reducing?\n",
    "\n",
    "A common problem in debugging is that given an input, only a _small part of that input may be responsible for the failure_. A central part of debugging is to _identify_ these parts – and to simplify (or _reduce_) the input to a minimal form that reproduces the failure – but does and contains as little else as possible."
   ]
  },
  {
   "cell_type": "markdown",
   "metadata": {
    "button": false,
    "new_sheet": true,
    "run_control": {
     "read_only": false
    }
   },
   "source": [
    "Here's an example of such a situation.  We have a `mystery()` method that – given its code – can occasionally fail.  But under which circumstances does this actually happen?  We have deliberately obscured the exact condition in order to make this non-obvious."
   ]
  },
  {
   "cell_type": "code",
   "execution_count": null,
   "metadata": {
    "button": false,
    "new_sheet": false,
    "run_control": {
     "read_only": false
    },
    "slideshow": {
     "slide_type": "skip"
    }
   },
   "outputs": [],
   "source": [
    "import bookutils"
   ]
  },
  {
   "cell_type": "code",
   "execution_count": null,
   "metadata": {},
   "outputs": [],
   "source": [
    "import Tracer  # minor dependency"
   ]
  },
  {
   "cell_type": "code",
   "execution_count": null,
   "metadata": {},
   "outputs": [],
   "source": [
    "from bookutils import quiz"
   ]
  },
  {
   "cell_type": "code",
   "execution_count": null,
   "metadata": {},
   "outputs": [],
   "source": [
    "def mystery(inp):\n",
    "    x = inp.find(chr(0o17 + 0o31))\n",
    "    y = inp.find(chr(0o27 + 0o22))\n",
    "    if x >= 0 and y >= 0 and x < y:\n",
    "        raise ValueError(\"Invalid input\")\n",
    "    else:\n",
    "        pass"
   ]
  },
  {
   "cell_type": "markdown",
   "metadata": {},
   "source": [
    "To find an input that causes the function to fail, let us _fuzz_ it – that is, feed it with random inputs – until we find a failing input. There's [entire books about fuzzing](https://fuzzingbook.org); but here, a very simple `fuzz()` function for this purpose will already suffice."
   ]
  },
  {
   "cell_type": "markdown",
   "metadata": {},
   "source": [
    "To build a fuzzer, we need random inputs – and thus a source for randomness. The function `random.randrange(a, b)` returns a random number in the range (a, b)."
   ]
  },
  {
   "cell_type": "code",
   "execution_count": null,
   "metadata": {},
   "outputs": [],
   "source": [
    "import random"
   ]
  },
  {
   "cell_type": "code",
   "execution_count": null,
   "metadata": {},
   "outputs": [],
   "source": [
    "random.randrange(32, 128)"
   ]
  },
  {
   "cell_type": "markdown",
   "metadata": {},
   "source": [
    "We can use `random.randrange()` to compose random (printable) characters:"
   ]
  },
  {
   "cell_type": "code",
   "execution_count": null,
   "metadata": {},
   "outputs": [],
   "source": [
    "def fuzz():\n",
    "    length = random.randrange(10, 70)\n",
    "    fuzz = \"\"\n",
    "    for i in range(length):\n",
    "        fuzz += chr(random.randrange(32, 127))\n",
    "    return fuzz"
   ]
  },
  {
   "cell_type": "markdown",
   "metadata": {},
   "source": [
    "Here are some random strings produced by our `fuzz()` function:"
   ]
  },
  {
   "cell_type": "code",
   "execution_count": null,
   "metadata": {},
   "outputs": [],
   "source": [
    "for i in range(6):\n",
    "    print(repr(fuzz()))"
   ]
  },
  {
   "cell_type": "markdown",
   "metadata": {},
   "source": [
    "Let us now use `fuzz()` to find an input where `mistery()` fails:"
   ]
  },
  {
   "cell_type": "code",
   "execution_count": null,
   "metadata": {},
   "outputs": [],
   "source": [
    "while True:\n",
    "    inp = fuzz()\n",
    "    try:\n",
    "        mystery(inp)\n",
    "    except ValueError:\n",
    "        break"
   ]
  },
  {
   "cell_type": "markdown",
   "metadata": {},
   "source": [
    "This is an input that causes `mystery()` to fail:"
   ]
  },
  {
   "cell_type": "code",
   "execution_count": null,
   "metadata": {},
   "outputs": [],
   "source": [
    "failing_input = inp\n",
    "failing_input"
   ]
  },
  {
   "cell_type": "code",
   "execution_count": null,
   "metadata": {},
   "outputs": [],
   "source": [
    "from ExpectError import ExpectError"
   ]
  },
  {
   "cell_type": "code",
   "execution_count": null,
   "metadata": {},
   "outputs": [],
   "source": [
    "with ExpectError():\n",
    "    mystery(failing_input)"
   ]
  },
  {
   "cell_type": "markdown",
   "metadata": {},
   "source": [
    "Something in this input causes `mystery()` to fail.  But what is it?"
   ]
  },
  {
   "cell_type": "markdown",
   "metadata": {
    "button": false,
    "new_sheet": true,
    "run_control": {
     "read_only": false
    }
   },
   "source": [
    "## Manual Input Reduction\n",
    "\n",
    "One important step in the debugging process is _reduction_ – that is, to identify those circumstances of a failure that are relevant for the failure to occur, and to _omit_ (if possible) those parts that are not.  As Kernighan and Pike \\cite{Kernighan1999} put it:\n",
    "\n",
    "> For every circumstance of the problem, check whether it is relevant for the problem to occur.  If it is not, remove it from the problem report or the test case in question."
   ]
  },
  {
   "cell_type": "markdown",
   "metadata": {},
   "source": [
    "Specifically for inputs, they suggest a _divide and conquer_ process:\n",
    "\n",
    "> Proceed by binary search.  Throw away half the input and see if the output is still wrong; if not, go back to the previous state and discard the other half of the input.\n",
    "\n",
    "This is something we can easily try out, using our last generated input:"
   ]
  },
  {
   "cell_type": "code",
   "execution_count": null,
   "metadata": {},
   "outputs": [],
   "source": [
    "failing_input"
   ]
  },
  {
   "cell_type": "markdown",
   "metadata": {},
   "source": [
    "For instance, we can see whether the error still occurs if we only feed in the first half:"
   ]
  },
  {
   "cell_type": "code",
   "execution_count": null,
   "metadata": {},
   "outputs": [],
   "source": [
    "half_length = len(failing_input) // 2   # // is integer division\n",
    "first_half = failing_input[:half_length]\n",
    "first_half"
   ]
  },
  {
   "cell_type": "code",
   "execution_count": null,
   "metadata": {},
   "outputs": [],
   "source": [
    "with ExpectError():\n",
    "    mystery(first_half)"
   ]
  },
  {
   "cell_type": "markdown",
   "metadata": {},
   "source": [
    "Nope – the first half alone does not suffice.  Maybe the second half?"
   ]
  },
  {
   "cell_type": "code",
   "execution_count": null,
   "metadata": {},
   "outputs": [],
   "source": [
    "second_half = failing_input[half_length:]\n",
    "assert first_half + second_half == failing_input\n",
    "second_half"
   ]
  },
  {
   "cell_type": "code",
   "execution_count": null,
   "metadata": {},
   "outputs": [],
   "source": [
    "with ExpectError():\n",
    "    mystery(second_half)"
   ]
  },
  {
   "cell_type": "markdown",
   "metadata": {},
   "source": [
    "This did not go so well either.  We may still proceed by cutting away _smaller chunks_ – say, one character after another.  If our test is deterministic and easily repeated, it is clear that this process eventually will yield a reduced input.  But still, it is a rather inefficient process, especially for long inputs.  What we need is a _strategy_ that effectively minimizes a failure-inducing input – a strategy that can be automated."
   ]
  },
  {
   "cell_type": "markdown",
   "metadata": {},
   "source": [
    "## Delta Debugging"
   ]
  },
  {
   "cell_type": "markdown",
   "metadata": {},
   "source": [
    "One strategy to effectively reduce failure-inducing inputs is _delta debugging_ \\cite{Zeller2002}.  Delta Debugging implements the \"binary search\" strategy, as listed above, but with a twist: If neither half fails (also as above), it keeps on cutting away smaller and smaller chunks from the input, until it eliminates individual characters.  Thus, after cutting away the first half, we cut away\n",
    "the first quarter, the second quarter, and so on."
   ]
  },
  {
   "cell_type": "markdown",
   "metadata": {},
   "source": [
    "Let us illustrate this on our example, and see what happens if we cut away the first quarter."
   ]
  },
  {
   "cell_type": "code",
   "execution_count": null,
   "metadata": {},
   "outputs": [],
   "source": [
    "quarter_length = len(failing_input) // 4\n",
    "input_without_first_quarter = failing_input[quarter_length:]\n",
    "input_without_first_quarter"
   ]
  },
  {
   "cell_type": "code",
   "execution_count": null,
   "metadata": {},
   "outputs": [],
   "source": [
    "with ExpectError():\n",
    "    mystery(input_without_first_quarter)"
   ]
  },
  {
   "cell_type": "markdown",
   "metadata": {},
   "source": [
    "Ah! This has failed, and reduced our failing input by 25%.  Let's remove another quarter."
   ]
  },
  {
   "cell_type": "code",
   "execution_count": null,
   "metadata": {},
   "outputs": [],
   "source": [
    "input_without_first_and_second_quarter = failing_input[quarter_length * 2:]\n",
    "input_without_first_and_second_quarter"
   ]
  },
  {
   "cell_type": "code",
   "execution_count": null,
   "metadata": {},
   "outputs": [],
   "source": [
    "with ExpectError():\n",
    "    mystery(input_without_first_and_second_quarter)"
   ]
  },
  {
   "cell_type": "markdown",
   "metadata": {},
   "source": [
    "This is not too surprising, as we had that one before:"
   ]
  },
  {
   "cell_type": "code",
   "execution_count": null,
   "metadata": {},
   "outputs": [],
   "source": [
    "second_half"
   ]
  },
  {
   "cell_type": "code",
   "execution_count": null,
   "metadata": {},
   "outputs": [],
   "source": [
    "input_without_first_and_second_quarter"
   ]
  },
  {
   "cell_type": "markdown",
   "metadata": {},
   "source": [
    "How about removing the third quarter, then?"
   ]
  },
  {
   "cell_type": "code",
   "execution_count": null,
   "metadata": {},
   "outputs": [],
   "source": [
    "input_without_first_and_third_quarter = failing_input[quarter_length:\n",
    "                                                      quarter_length * 2] + failing_input[quarter_length * 3:]\n",
    "input_without_first_and_third_quarter"
   ]
  },
  {
   "cell_type": "code",
   "execution_count": null,
   "metadata": {},
   "outputs": [],
   "source": [
    "with ExpectError():\n",
    "    mystery(input_without_first_and_third_quarter)"
   ]
  },
  {
   "cell_type": "markdown",
   "metadata": {},
   "source": [
    "Yes!  This has succeeded.  Our input is now 50% smaller."
   ]
  },
  {
   "cell_type": "markdown",
   "metadata": {},
   "source": [
    "We have now tried to remove pieces that make up $\\frac{1}{2}$ and $\\frac{1}{4}$ of the original failing string.  In the next iteration, we would go and remove even smaller pieces – $\\frac{1}{8}$, $\\frac{1}{16}$ and so on.  We continue until we are down to $\\frac{1}{26}$ – that is, individual characters."
   ]
  },
  {
   "cell_type": "markdown",
   "metadata": {},
   "source": [
    "However, this is something we happily let a computer do for us – and this is what the _Delta Debugging_ algorithm does.  Delta Debugging implements the strategy sketched above: It first removes larger chunks of size $\\frac{1}{2}$; if this does not fail, then we proceed to chunks of size $\\frac{1}{4}$, then $\\frac{1}{8}$ and so on."
   ]
  },
  {
   "cell_type": "markdown",
   "metadata": {},
   "source": [
    "Our `ddmin()` implementation uses almost the same Python code as Zeller in \\cite{Zeller2002}; the only difference is that it has been adapted to work on Python 3.  The variable `n` (initially 2) indicates the granularity – in each step, chunks of size $\\frac{1}{n}$ are cut away.  If none of the test fails (`some_complement_is_failing` is False), then `n` is doubled – until it reaches the length of the input."
   ]
  },
  {
   "cell_type": "code",
   "execution_count": null,
   "metadata": {},
   "outputs": [],
   "source": [
    "PASS = 'PASS'\n",
    "FAIL = 'FAIL'\n",
    "UNRESOLVED = 'UNRESOLVED'"
   ]
  },
  {
   "cell_type": "code",
   "execution_count": null,
   "metadata": {},
   "outputs": [],
   "source": [
    "def ddmin(test, inp, *test_args):\n",
    "    \"\"\"Reduce the input inp, using the outcome of test(fun, inp).\"\"\"\n",
    "    assert test(inp, *test_args) != PASS\n",
    "\n",
    "    n = 2     # Initial granularity\n",
    "    while len(inp) >= 2:\n",
    "        start = 0\n",
    "        subset_length = len(inp) / n\n",
    "        some_complement_is_failing = False\n",
    "\n",
    "        while start < len(inp):\n",
    "            complement = inp[:int(start)] + \\\n",
    "                inp[int(start + subset_length):]\n",
    "\n",
    "            if test(complement, *test_args) == FAIL:\n",
    "                inp = complement\n",
    "                n = max(n - 1, 2)\n",
    "                some_complement_is_failing = True\n",
    "                break\n",
    "\n",
    "            start += subset_length\n",
    "\n",
    "        if not some_complement_is_failing:\n",
    "            if n == len(inp):\n",
    "                break\n",
    "            n = min(n * 2, len(inp))\n",
    "\n",
    "    return inp"
   ]
  },
  {
   "cell_type": "markdown",
   "metadata": {},
   "source": [
    "To see how `ddmin()` works, let us run it on our failing input. We need to define a `test` function that returns PASS or FAIL, depending on the test outcome. This `generic_test()` assumes that the function fails if it raises an exception (such as an `AssertException`), and passes otherwise. The optional argument `expected_exc` specifies the name of exception to be checked for; this ensures we reduce only for the kind of error raised in the original failure."
   ]
  },
  {
   "cell_type": "code",
   "execution_count": null,
   "metadata": {},
   "outputs": [],
   "source": [
    "def generic_test(inp, fun, expected_exc=None):\n",
    "    result = None\n",
    "    detail = \"\"\n",
    "    try:\n",
    "        result = fun(inp)\n",
    "        outcome = PASS\n",
    "    except Exception as exc:\n",
    "        detail = f\" ({type(exc).__name__}: {str(exc)})\"\n",
    "        if expected_exc is None:\n",
    "            outcome = FAIL\n",
    "        elif type(exc) == type(expected_exc) and str(exc) == str(expected_exc):\n",
    "            outcome = FAIL\n",
    "        else:\n",
    "            outcome = UNRESOLVED\n",
    "\n",
    "    print(f\"{fun.__name__}({repr(inp)}): {outcome}{detail}\")\n",
    "    return outcome"
   ]
  },
  {
   "cell_type": "markdown",
   "metadata": {},
   "source": [
    "We can now invoke `ddmin()` in our setting. With each step, we see how the remaining input gets smaller and smaller, until only two characters remain:"
   ]
  },
  {
   "cell_type": "code",
   "execution_count": null,
   "metadata": {},
   "outputs": [],
   "source": [
    "ddmin(generic_test, failing_input, mystery, ValueError('Invalid input'))"
   ]
  },
  {
   "cell_type": "markdown",
   "metadata": {},
   "source": [
    "Now we know why `mystery()` fails – it suffices that the input contains two matching parentheses.  Delta Debugging determines this in 25 steps.  Its result is _1-minimal_, meaning that every character contained is required to produce the error; removing any (as seen in the last two tests, above) no longer makes the test fail.  This property is guaranteed by the delta debugging algorithm, which in its last stage always tries to delete characters one by one."
   ]
  },
  {
   "cell_type": "markdown",
   "metadata": {
    "button": false,
    "new_sheet": true,
    "run_control": {
     "read_only": false
    }
   },
   "source": [
    "A reduced test case such as the one above has many advantages:\n",
    "\n",
    "* A reduced test case __reduces the _cognitive load_ of the programmer__.  The test case is shorter and focused, and thus does not burden the programmer with irrelevant details.  A reduced input typically leads to shorter executions and smaller program states, both of which reduce the search space as it comes to understanding the bug.  In our case, we have eliminated lots of irrelevant input – only the two characters the reduced input contains are relevant.\n",
    "\n",
    "* A reduced test case __is easier to communicate__.  All one needs here is the summary: `mystery() fails on \"()\"`, which is much better than `mystery() fails on a 4100-character input (attached)`.\n",
    "\n",
    "* A reduced test case helps in __identifying duplicates__.  If similar bugs have been reported already, and all of them have been reduced to the same cause (namely that the input contains matching parentheses), then it becomes obvious that all these bugs are different symptoms of the same underlying cause – and would all be resolved at once with one code fix."
   ]
  },
  {
   "cell_type": "markdown",
   "metadata": {},
   "source": [
    "How effective is delta debugging?  In the best case (when the left half or the right half fails), the number of tests is logarithmic proportional to the length $n$ of an input (i.e., $O(\\log_2 n)$); this is the same complexity as binary search.  In the worst case, though, delta debugging can require a number of tests proportional to $n^2$  (i.e., $O(n^2)$) – this happens in the case when we are down to character granularity, and we have to repeatedly tried to delete all characters, only to find that deleting the last character results in a failure \\cite{Zeller2002}.  (This is a pretty pathological situation, though.)"
   ]
  },
  {
   "cell_type": "markdown",
   "metadata": {},
   "source": [
    "In general, delta debugging is a robust algorithm that is easy to implement, easy to deploy, and easy to use – provided that the underlying test case is deterministic and runs quickly enough to warrant a number of experiments. In general, any debugging task should start with simplifying the test case as much as possible – and this is where delta debugging can help."
   ]
  },
  {
   "cell_type": "markdown",
   "metadata": {},
   "source": [
    "## A Simple DeltaDebugger Interface\n",
    "\n",
    "As defined above, using `ddmin()` still requires the developer to set up a special testing function – and writing or using even a generic tester (like `generic_test()`) takes some effort.  We want to simplify the setup such that only a single line of Python is required.\n",
    "\n",
    "Our aim is to have a `DeltaDebugger` class that we can use in conjunction with a failing (i.e., exception raising) function call:\n",
    "\n",
    "```python\n",
    "with DeltaDebugger() as dd:\n",
    "    mystery(failing_input)\n",
    "```\n",
    "Here, at the end of the `with` statement, printing out `dd` shows us the minimal input that causes the failure."
   ]
  },
  {
   "cell_type": "markdown",
   "metadata": {},
   "source": [
    "### Excursion: Implementing DeltaDebugger"
   ]
  },
  {
   "cell_type": "markdown",
   "metadata": {},
   "source": [
    "Our interface consist of three building blocks:\n",
    "\n",
    "* First, we collect the name and args of the first call in the `with` body, as well as the exception it raises.\n",
    "* Second, we set up an infrastructure such that we can repeat calls with different arguments.\n",
    "* Third, we create a `DeltaDebugger` class that implements the `ddmin()` algorithm."
   ]
  },
  {
   "cell_type": "markdown",
   "metadata": {},
   "source": [
    "#### Collecting a Call\n",
    "\n",
    "We start by creating an infrastructure that collects a call. The `CallCollector` class saves the first call observed in `_function`, `_args`, and `_exception` attributes, respectively; it then turns tracing off."
   ]
  },
  {
   "cell_type": "code",
   "execution_count": null,
   "metadata": {},
   "outputs": [],
   "source": [
    "import sys"
   ]
  },
  {
   "cell_type": "code",
   "execution_count": null,
   "metadata": {},
   "outputs": [],
   "source": [
    "from types import FunctionType"
   ]
  },
  {
   "cell_type": "code",
   "execution_count": null,
   "metadata": {},
   "outputs": [],
   "source": [
    "class CallCollector(object):\n",
    "    \"\"\"Collect an exception-raising function call f().\n",
    "    Use as `with CallCollector(): f()`\"\"\"\n",
    "\n",
    "    def __init__(self):\n",
    "        \"\"\"Initialize collector\"\"\"\n",
    "        self._function = None\n",
    "        self._args = None\n",
    "        self._exception = None\n",
    "\n",
    "    def traceit(self, frame, event, arg):\n",
    "        \"\"\"Tracing function. Collect first call, then turn tracing off.\"\"\"\n",
    "        if event == 'call':\n",
    "            name = frame.f_code.co_name\n",
    "            if name.startswith('__'):\n",
    "                # Internal function\n",
    "                return\n",
    "\n",
    "            self._function = FunctionType(frame.f_code,\n",
    "                                          globals=globals(),\n",
    "                                          name=name)\n",
    "            self._args = frame.f_locals\n",
    "\n",
    "            # Turn tracing off\n",
    "            sys.settrace(self.original_trace_function)\n",
    "\n",
    "    def diagnosis(self):\n",
    "        \"\"\"Produce a diagnosis. To be defined in subclasses.\"\"\"\n",
    "        pass\n",
    "\n",
    "    def args(self):\n",
    "        \"\"\"Return the dictionary of collected arguments.\"\"\"\n",
    "        return self._args\n",
    "\n",
    "    def function(self):\n",
    "        \"\"\"Return the function called.\"\"\"\n",
    "        return self._function\n",
    "\n",
    "    def __enter__(self):\n",
    "        \"\"\"Called at begin of `with` block. Turn tracing on.\"\"\"\n",
    "        self.original_trace_function = sys.gettrace()\n",
    "        sys.settrace(self.traceit)\n",
    "        return self\n",
    "\n",
    "    def __exit__(self, exc_type, exc_value, traceback):\n",
    "        \"\"\"Called at end of `with` block. Turn tracing off.\"\"\"\n",
    "        sys.settrace(self.original_trace_function)\n",
    "        if self._function is None:\n",
    "            return False  # Re-raise exception, if any\n",
    "\n",
    "        self._exception = exc_value\n",
    "        self.diagnosis()\n",
    "        return True  # Ignore exception"
   ]
  },
  {
   "cell_type": "markdown",
   "metadata": {},
   "source": [
    "Here are the attributes as collected by `CallCollector` for our `mystery()` function:"
   ]
  },
  {
   "cell_type": "code",
   "execution_count": null,
   "metadata": {},
   "outputs": [],
   "source": [
    "with CallCollector() as call_collector:\n",
    "    mystery(failing_input)"
   ]
  },
  {
   "cell_type": "code",
   "execution_count": null,
   "metadata": {},
   "outputs": [],
   "source": [
    "call_collector._function"
   ]
  },
  {
   "cell_type": "code",
   "execution_count": null,
   "metadata": {},
   "outputs": [],
   "source": [
    "call_collector._args"
   ]
  },
  {
   "cell_type": "code",
   "execution_count": null,
   "metadata": {},
   "outputs": [],
   "source": [
    "call_collector._exception"
   ]
  },
  {
   "cell_type": "markdown",
   "metadata": {},
   "source": [
    "If an error occurs _before_ the first function call takes place, the exception is simply re-raised."
   ]
  },
  {
   "cell_type": "code",
   "execution_count": null,
   "metadata": {},
   "outputs": [],
   "source": [
    "with ExpectError():\n",
    "    with CallCollector() as c:\n",
    "        some_error()"
   ]
  },
  {
   "cell_type": "markdown",
   "metadata": {},
   "source": [
    "#### Repeating a Call\n",
    "\n",
    "Our second step is an infrastructure such that we can call the function collected earlier with alternate arguments. We can call the function directly via the collected `_function` attribute:"
   ]
  },
  {
   "cell_type": "code",
   "execution_count": null,
   "metadata": {},
   "outputs": [],
   "source": [
    "with ExpectError():\n",
    "    call_collector._function(\"foo\")"
   ]
  },
  {
   "cell_type": "code",
   "execution_count": null,
   "metadata": {},
   "outputs": [],
   "source": [
    "with ExpectError():\n",
    "    call_collector._function(failing_input)"
   ]
  },
  {
   "cell_type": "markdown",
   "metadata": {},
   "source": [
    "We can also provide the arguments collected during the call:"
   ]
  },
  {
   "cell_type": "code",
   "execution_count": null,
   "metadata": {},
   "outputs": [],
   "source": [
    "with ExpectError():\n",
    "    call_collector._function(**call_collector._args)"
   ]
  },
  {
   "cell_type": "markdown",
   "metadata": {},
   "source": [
    "Our `call()` method calls the collected function using this construct. It also allows to _change_ individual arguments by providing a `new_args` dictionary of variable names to new values."
   ]
  },
  {
   "cell_type": "code",
   "execution_count": null,
   "metadata": {},
   "outputs": [],
   "source": [
    "class CallCollector(CallCollector):\n",
    "    def call(self, new_args={}):\n",
    "        \"\"\"Call collected function. If new_args is given,\n",
    "        override arguments from its {var: value} entries.\"\"\"\n",
    "        args = {}  # Create local copy\n",
    "        for var in self._args:\n",
    "            args[var] = self._args[var]\n",
    "        for var in new_args:\n",
    "            args[var] = new_args[var]\n",
    "\n",
    "        return self._function(**new_args)"
   ]
  },
  {
   "cell_type": "markdown",
   "metadata": {},
   "source": [
    "Using simply `call()` without arguments reproduces the failure:"
   ]
  },
  {
   "cell_type": "code",
   "execution_count": null,
   "metadata": {},
   "outputs": [],
   "source": [
    "with CallCollector() as call_collector:\n",
    "    mystery(failing_input)\n",
    "with ExpectError():\n",
    "    call_collector.call()"
   ]
  },
  {
   "cell_type": "markdown",
   "metadata": {},
   "source": [
    "We can also supply alternate arguments (and get alternate outcomes):"
   ]
  },
  {
   "cell_type": "code",
   "execution_count": null,
   "metadata": {},
   "outputs": [],
   "source": [
    "with ExpectError():\n",
    "    call_collector.call({'inp': 'foo'})"
   ]
  },
  {
   "cell_type": "markdown",
   "metadata": {},
   "source": [
    "#### Testing, Logging, and Caching\n",
    "\n",
    "Our next to last step is an infrastructure that implements delta debugging for the collected call."
   ]
  },
  {
   "cell_type": "markdown",
   "metadata": {},
   "source": [
    "We first introduce a `CallReducer` class as an abstract superclass for all kinds of reducers.\n",
    "Its `run()` method tests the function and returns PASS, FAIL, or UNRESOLVED. As with `generic_test()`, above, we check for exception type and exact error message."
   ]
  },
  {
   "cell_type": "code",
   "execution_count": null,
   "metadata": {},
   "outputs": [],
   "source": [
    "class CallReducer(CallCollector):\n",
    "    def __init__(self, log=False):\n",
    "        \"\"\"Initialize. If log is True, enable logging.\"\"\"\n",
    "        super().__init__()\n",
    "        self.log = log\n",
    "        self.reset()\n",
    "\n",
    "    def reset(self):\n",
    "        \"\"\"Reset the number of tests.\"\"\"\n",
    "        self.tests = 0\n",
    "\n",
    "    def run(self, args):\n",
    "        \"\"\"Run collected function with args. Return\n",
    "        * PASS if no exception occurred\n",
    "        * FAIL if the collected exception occurred\n",
    "        * UNRESOLVED if some other exception occurred.\n",
    "        Not to be used directly; can be overloaded in subclasses.\n",
    "        \"\"\"\n",
    "        try:\n",
    "            result = self.call(args)\n",
    "        except Exception as exc:\n",
    "            self.last_exception = exc\n",
    "            if type(exc) == type(self._exception) and str(exc) == str(self._exception):\n",
    "                return FAIL\n",
    "            else:\n",
    "                return UNRESOLVED  # Some other failure\n",
    "\n",
    "        self.last_result = result\n",
    "        return PASS"
   ]
  },
  {
   "cell_type": "markdown",
   "metadata": {},
   "source": [
    "The `test()` method runs a single test (with logging, if wanted); the `reduce_arg()` method will eventually reduce an input to the minimum."
   ]
  },
  {
   "cell_type": "code",
   "execution_count": null,
   "metadata": {},
   "outputs": [],
   "source": [
    "class CallReducer(CallReducer):\n",
    "    def format_call(self, args=None):\n",
    "        \"\"\"Return a string representing a call of the function with given args.\"\"\"\n",
    "        if args is None:\n",
    "            args = self._args\n",
    "        return self._function.__name__ + \"(\" + \\\n",
    "            \", \".join(f\"{arg}={repr(args[arg])}\" for arg in args) + \")\"\n",
    "\n",
    "    def format_exception(self, exc):\n",
    "        \"\"\"Return a string representing the given exception.\"\"\"\n",
    "        s = type(exc).__name__\n",
    "        if str(exc):\n",
    "            s += \": \" + str(exc)\n",
    "        return s\n",
    "\n",
    "    def test(self, args):\n",
    "        \"\"\"Like run(), but also log detail and keep statistics.\"\"\"\n",
    "        outcome = self.run(args)\n",
    "        if outcome == PASS:\n",
    "            detail = \"\"\n",
    "        else:\n",
    "            detail = f\" ({self.format_exception(self.last_exception)})\"\n",
    "\n",
    "        self.tests += 1\n",
    "        if self.log:\n",
    "            print(f\"Test #{self.tests} {self.format_call(args)}: {outcome}{detail}\")\n",
    "\n",
    "        return outcome\n",
    "    \n",
    "    def reduce_arg(self, var_to_be_reduced, args):\n",
    "        \"\"\"Determine and return a minimal value for var_to_be_reduced.\n",
    "        To be overloaded in subclasses.\"\"\"\n",
    "        return args[var_to_be_reduced]"
   ]
  },
  {
   "cell_type": "markdown",
   "metadata": {},
   "source": [
    "Here's some logging output from the `test()` function:"
   ]
  },
  {
   "cell_type": "code",
   "execution_count": null,
   "metadata": {},
   "outputs": [],
   "source": [
    "with CallReducer(log=True) as reducer:\n",
    "    mystery(failing_input)\n",
    "\n",
    "reducer.test({'inp': failing_input})\n",
    "reducer.test({'inp': '123'})\n",
    "reducer.test({'inp': '123'})"
   ]
  },
  {
   "cell_type": "markdown",
   "metadata": {},
   "source": [
    "The `CachingCallReducer` variant saves test results, such that we don't have to run the same tests again and again:"
   ]
  },
  {
   "cell_type": "code",
   "execution_count": null,
   "metadata": {},
   "outputs": [],
   "source": [
    "class CachingCallReducer(CallReducer):\n",
    "    \"\"\"Like CallReducer, but cache test outcomes.\"\"\"\n",
    "    def reset(self):\n",
    "        super().reset()\n",
    "        self._cache = {}\n",
    "\n",
    "    def test(self, args):\n",
    "        # Create a hashable index\n",
    "        try:\n",
    "            index = frozenset((k, v) for k, v in args.items())\n",
    "        except TypeError:\n",
    "            # Non-hashable value – do not use cache\n",
    "            return super().test(args)\n",
    "\n",
    "        if index in self._cache:\n",
    "            return self._cache[index]\n",
    "\n",
    "        outcome = super().test(args)\n",
    "        self._cache[index] = outcome\n",
    "\n",
    "        return outcome"
   ]
  },
  {
   "cell_type": "markdown",
   "metadata": {},
   "source": [
    "If we now repeat a test with the same argument, its outcome can be found in the cache:"
   ]
  },
  {
   "cell_type": "code",
   "execution_count": null,
   "metadata": {},
   "outputs": [],
   "source": [
    "with CachingCallReducer(log=True) as reducer:\n",
    "    mystery(failing_input)\n",
    "\n",
    "reducer.test({'inp': failing_input})\n",
    "reducer.test({'inp': '123'})\n",
    "reducer.test({'inp': '123'})"
   ]
  },
  {
   "cell_type": "markdown",
   "metadata": {},
   "source": [
    "#### Reducing Arguments\n",
    "\n",
    "The `DeltaDebugger` class finally implements the `ddmin` algorithm on the arguments of our collected call. Its `reduce_arg()` method is the same as `ddmin()`, above, except that it is applied on one of multiple function arguments."
   ]
  },
  {
   "cell_type": "code",
   "execution_count": null,
   "metadata": {},
   "outputs": [],
   "source": [
    "class DeltaDebugger(CachingCallReducer):\n",
    "    def __init__(self, **args):\n",
    "        super().__init__(**args)\n",
    "        self._reduced_args = None\n",
    "\n",
    "    def reduce_arg(self, var_to_be_reduced, args):\n",
    "        self.reset()\n",
    "        assert self.test(args) != PASS, f\"{self.format_call(args)} did not pass\"\n",
    "        inp = args[var_to_be_reduced]\n",
    "\n",
    "        n = 2     # Initial granularity\n",
    "        while len(inp) >= 2:\n",
    "            start = 0\n",
    "            subset_length = len(inp) / n\n",
    "            some_complement_is_failing = False\n",
    "\n",
    "            while start < len(inp):\n",
    "                complement = inp[:int(start)] + \\\n",
    "                    inp[int(start + subset_length):]\n",
    "\n",
    "                new_args = {}  # Create copy\n",
    "                for var in args:\n",
    "                    new_args[var] = args[var]\n",
    "                new_args[var_to_be_reduced] = complement\n",
    "                if self.test(new_args) == FAIL:\n",
    "                    inp = complement\n",
    "                    n = max(n - 1, 2)\n",
    "                    some_complement_is_failing = True\n",
    "                    break\n",
    "\n",
    "                start += subset_length\n",
    "\n",
    "            if not some_complement_is_failing:\n",
    "                if n == len(inp):\n",
    "                    break\n",
    "                n = min(n * 2, len(inp))\n",
    "\n",
    "        return inp"
   ]
  },
  {
   "cell_type": "markdown",
   "metadata": {},
   "source": [
    "What happens if a function has multiple arguments? First, we check if they are _reducible_ – that is, they provide a `len()` length function and a way to access indexed elements. This holds for all strings and all lists, as well as other ordered collections."
   ]
  },
  {
   "cell_type": "code",
   "execution_count": null,
   "metadata": {},
   "outputs": [],
   "source": [
    "class DeltaDebugger(DeltaDebugger):\n",
    "    def reducible(self, arg):\n",
    "        \"\"\"Return true if arg supports len() and indexing.\"\"\"\n",
    "        try:\n",
    "            x = len(arg)\n",
    "        except TypeError:\n",
    "            return False\n",
    "\n",
    "        try:\n",
    "            x = arg[0]\n",
    "        except TypeError:\n",
    "            return False\n",
    "        except IndexError:\n",
    "            return False\n",
    "\n",
    "        return True"
   ]
  },
  {
   "cell_type": "markdown",
   "metadata": {},
   "source": [
    "Our method `reduce_args()` reduces recorded call arguments, one after the one, until all are reduced to a 1-minimum. Reducing them individually (rather than, say, all at once) allows to maintain a stable _context_ during reduction."
   ]
  },
  {
   "cell_type": "code",
   "execution_count": null,
   "metadata": {},
   "outputs": [],
   "source": [
    "class DeltaDebugger(DeltaDebugger):\n",
    "    def reduce_args(self):\n",
    "        \"\"\"Reduce all reducible arguments, using reduce_arg(). Can be ioverloaded in subclasses\"\"\"\n",
    "        args = {}  # Local copy\n",
    "        for var in self._args:\n",
    "            args[var] = self._args[var]\n",
    "        vars_to_be_reduced = set(args.keys())\n",
    "\n",
    "        # We take turns in reducing variables until all are processed\n",
    "        while len(vars_to_be_reduced) > 0:\n",
    "            for var in vars_to_be_reduced:\n",
    "                value = args[var]\n",
    "                if not self.reducible(value):\n",
    "                    vars_to_be_reduced.remove(var)\n",
    "                    break\n",
    "\n",
    "                if self.log:\n",
    "                    print(f\"Reducing {var}...\")\n",
    "\n",
    "                reduced_value = self.reduce_arg(var, args)\n",
    "                if len(reduced_value) < len(value):\n",
    "                    args[var] = reduced_value\n",
    "                    if self.log:\n",
    "                        print(f\"Reduced {var} to {repr(reduced_value)}\")\n",
    "                    vars_to_be_reduced = set(args.keys())\n",
    "\n",
    "                vars_to_be_reduced.remove(var)\n",
    "                break\n",
    "\n",
    "        assert self.test(args) == FAIL, f\"{self.format_call(args)} does not fail\"\n",
    "        if self.log:\n",
    "            print(f\"Reduced call to {self.format_call(args)}\")\n",
    "\n",
    "        self._reduced_args = args"
   ]
  },
  {
   "cell_type": "markdown",
   "metadata": {},
   "source": [
    "We define the `diagnosis()` method that will be invoked at the end of the `with` block. It checks for a number of preconditions and then invokes the reducer."
   ]
  },
  {
   "cell_type": "code",
   "execution_count": null,
   "metadata": {},
   "outputs": [],
   "source": [
    "class DeltaDebugger(DeltaDebugger):\n",
    "    def diagnosis(self):\n",
    "        if self._function is None:\n",
    "            raise ValueError(\"No function call observed\")\n",
    "        if self._exception is None:\n",
    "            raise ValueError(f\"{self.format_call()} did not raise an exception\")\n",
    "\n",
    "        if self.log:\n",
    "            print(f\"Checking for {self.format_exception(self._exception)}\")\n",
    "            \n",
    "        self.reduce_args()"
   ]
  },
  {
   "cell_type": "markdown",
   "metadata": {},
   "source": [
    "We finish the implementation with two methods that allow users to access the diagnostics. `reduced_args()` returns the dictionary of reduced arguments.\n",
    "The `__repr__()` method returns a string representation of the reduced call."
   ]
  },
  {
   "cell_type": "code",
   "execution_count": null,
   "metadata": {},
   "outputs": [],
   "source": [
    "class DeltaDebugger(DeltaDebugger):\n",
    "    def reduced_args(self):\n",
    "        \"\"\"Return the dictionary {var: value} of reduced arguments.\"\"\"\n",
    "        return self._reduced_args\n",
    "\n",
    "    def __repr__(self):\n",
    "        return self.format_call(self.reduced_args())"
   ]
  },
  {
   "cell_type": "markdown",
   "metadata": {},
   "source": [
    "### End of Excursion"
   ]
  },
  {
   "cell_type": "markdown",
   "metadata": {},
   "source": [
    "To see how the `DeltaDebugger` works, let us run it on our failing input. The expected usage is as introduced earlier – we wrap the failing function in a `with` block, and then print out the debugger to see the reduced arguments. We see that `DeltaDebugger` easily reduces the arguments to the minimal failure-inducing input:"
   ]
  },
  {
   "cell_type": "code",
   "execution_count": null,
   "metadata": {},
   "outputs": [],
   "source": [
    "with DeltaDebugger() as dd:\n",
    "    mystery(failing_input)\n",
    "dd"
   ]
  },
  {
   "cell_type": "markdown",
   "metadata": {},
   "source": [
    "We can turn on logging for `DeltaDebugger` to see how it proceeds. With each step, we see how the remaining input gets smaller and smaller, until only two characters remain:"
   ]
  },
  {
   "cell_type": "code",
   "execution_count": null,
   "metadata": {},
   "outputs": [],
   "source": [
    "with DeltaDebugger(log=True) as dd:\n",
    "    mystery(failing_input)\n",
    "dd"
   ]
  },
  {
   "cell_type": "markdown",
   "metadata": {},
   "source": [
    "It is also possible to access the debugger programmatically:"
   ]
  },
  {
   "cell_type": "code",
   "execution_count": null,
   "metadata": {},
   "outputs": [],
   "source": [
    "with DeltaDebugger() as dd:\n",
    "    mystery(failing_input)"
   ]
  },
  {
   "cell_type": "code",
   "execution_count": null,
   "metadata": {},
   "outputs": [],
   "source": [
    "dd.args()"
   ]
  },
  {
   "cell_type": "code",
   "execution_count": null,
   "metadata": {},
   "outputs": [],
   "source": [
    "dd.reduced_args()"
   ]
  },
  {
   "cell_type": "markdown",
   "metadata": {},
   "source": [
    "## Usage Examples\n",
    "\n",
    "Let us apply `DeltaDebugger` on a number of examples. "
   ]
  },
  {
   "cell_type": "markdown",
   "metadata": {},
   "source": [
    "### Reducing remove_html_markup()\n",
    "\n",
    "For our ongoing `remove_html_markup()` example, we can reduce the failure-inducing input to a minimum, too:"
   ]
  },
  {
   "cell_type": "code",
   "execution_count": null,
   "metadata": {},
   "outputs": [],
   "source": [
    "from Assertions import remove_html_markup"
   ]
  },
  {
   "cell_type": "code",
   "execution_count": null,
   "metadata": {},
   "outputs": [],
   "source": [
    "with DeltaDebugger(log=True):\n",
    "    remove_html_markup('\"x > y\"')"
   ]
  },
  {
   "cell_type": "markdown",
   "metadata": {},
   "source": [
    "### Reducing Multiple Arguments\n",
    "\n",
    "If a function has multiple reducible variables, they get reduced in turns. This `string_error()` function fails whenever `s1` is a substring of `s2`:"
   ]
  },
  {
   "cell_type": "code",
   "execution_count": null,
   "metadata": {},
   "outputs": [],
   "source": [
    "def string_error(s1, s2):\n",
    "    assert s1 not in s2, \"no substrings\""
   ]
  },
  {
   "cell_type": "code",
   "execution_count": null,
   "metadata": {},
   "outputs": [],
   "source": [
    "with DeltaDebugger(log=True) as dd:\n",
    "    string_error(\"foo\", \"foobar\")"
   ]
  },
  {
   "cell_type": "markdown",
   "metadata": {},
   "source": [
    "We see that the failure also occurs if both variables contain only one (same) character:"
   ]
  },
  {
   "cell_type": "code",
   "execution_count": null,
   "metadata": {},
   "outputs": [],
   "source": [
    "args = dd.reduced_args()\n",
    "args"
   ]
  },
  {
   "cell_type": "code",
   "execution_count": null,
   "metadata": {},
   "outputs": [],
   "source": [
    "with ExpectError():\n",
    "    string_error(args['s1'], args['s2'])"
   ]
  },
  {
   "cell_type": "markdown",
   "metadata": {},
   "source": [
    "Python provides a simple way to turn dictionaries into function calls. The construct\n",
    "\n",
    "```python\n",
    "fun(**args)\n",
    "```\n",
    "\n",
    "invokes the function `fun`, with all parameters assigned from the respective values in the dictionary.\n",
    "You can use this shortcut to invoke an [interactive debugger](Debugger) on the minimized input:"
   ]
  },
  {
   "cell_type": "code",
   "execution_count": null,
   "metadata": {},
   "outputs": [],
   "source": [
    "from Debugger import Debugger"
   ]
  },
  {
   "cell_type": "code",
   "execution_count": null,
   "metadata": {},
   "outputs": [],
   "source": [
    "from bookutils import next_inputs"
   ]
  },
  {
   "cell_type": "code",
   "execution_count": null,
   "metadata": {},
   "outputs": [],
   "source": [
    "# ignore\n",
    "next_inputs(['print', 'quit'])"
   ]
  },
  {
   "cell_type": "code",
   "execution_count": null,
   "metadata": {},
   "outputs": [],
   "source": [
    "with ExpectError():\n",
    "    with Debugger():\n",
    "        string_error(**args)"
   ]
  },
  {
   "cell_type": "markdown",
   "metadata": {},
   "source": [
    "### Reducing other Collections\n",
    "\n",
    "Our `DeltaDebugger` is not limited to strings. It can reduce any argument `x` for which a `len(x)` operation and an indexing operation `x[i]` is defined – notably lists. Here is how to apply `DeltaDebugger` on a list:"
   ]
  },
  {
   "cell_type": "code",
   "execution_count": null,
   "metadata": {},
   "outputs": [],
   "source": [
    "def list_error(l1, l2, maxlen):\n",
    "    assert len(l1) < len(l2) < maxlen, \"invalid string length\""
   ]
  },
  {
   "cell_type": "code",
   "execution_count": null,
   "metadata": {},
   "outputs": [],
   "source": [
    "with DeltaDebugger() as dd:\n",
    "    list_error(l1=[1, 2, 3, 4, 5, 6, 7, 8, 9, 10], l2=[1, 2, 3], maxlen=5)\n",
    "dd"
   ]
  },
  {
   "cell_type": "markdown",
   "metadata": {},
   "source": [
    "## Reducing Program Code\n",
    "\n",
    "One particularly fun application of reducers is on _program code_. Technically speaking, program code is just another input to a computation; and we can actually automatically determine which minimum of program code is required to produce a failure, using Delta Debugging."
   ]
  },
  {
   "cell_type": "markdown",
   "metadata": {},
   "source": [
    "As an example, let us apply Delta Debugging on the code from [the chapter on assertions](Assertions.html). You do not need to have read the chapter; the important part is that this chapter provides an implementation of `remove_html_markup()` that we want to use."
   ]
  },
  {
   "cell_type": "code",
   "execution_count": null,
   "metadata": {},
   "outputs": [],
   "source": [
    "# ignore\n",
    "try:\n",
    "    del remove_html_markup\n",
    "except NameError:\n",
    "    pass"
   ]
  },
  {
   "cell_type": "code",
   "execution_count": null,
   "metadata": {},
   "outputs": [],
   "source": [
    "import Assertions"
   ]
  },
  {
   "cell_type": "markdown",
   "metadata": {},
   "source": [
    "Here is the source code of all the chapter; this is several hundred lines long."
   ]
  },
  {
   "cell_type": "code",
   "execution_count": null,
   "metadata": {},
   "outputs": [],
   "source": [
    "import inspect"
   ]
  },
  {
   "cell_type": "code",
   "execution_count": null,
   "metadata": {},
   "outputs": [],
   "source": [
    "assertions_source_lines, _ = inspect.getsourcelines(Assertions)\n",
    "# print_content(\"\".join(assertions_source_lines), \".py\")\n",
    "assertions_source_lines[:10]"
   ]
  },
  {
   "cell_type": "code",
   "execution_count": null,
   "metadata": {},
   "outputs": [],
   "source": [
    "len(assertions_source_lines)"
   ]
  },
  {
   "cell_type": "markdown",
   "metadata": {},
   "source": [
    "We can take this code and execute it. Nothing particular should happen here, as our imports only import definitions of functions, classes, and global variables."
   ]
  },
  {
   "cell_type": "code",
   "execution_count": null,
   "metadata": {},
   "outputs": [],
   "source": [
    "def compile_and_run(lines):\n",
    "    exec(\"\".join(lines), {}, {})"
   ]
  },
  {
   "cell_type": "code",
   "execution_count": null,
   "metadata": {},
   "outputs": [],
   "source": [
    "compile_and_run(assertions_source_lines)"
   ]
  },
  {
   "cell_type": "markdown",
   "metadata": {},
   "source": [
    "Let us add some code to it – a \"My Test\" assertion that tests that `remove_html_markup()`, applied on a string with double quotes, should keep these in place:"
   ]
  },
  {
   "cell_type": "code",
   "execution_count": null,
   "metadata": {},
   "outputs": [],
   "source": [
    "def compile_and_test_html_markup(lines):\n",
    "    compile_and_run(lines + \n",
    "                    ['''\\nassert remove_html_markup('\"foo\"') == '\"foo\"', \"My Test\"\\n'''])"
   ]
  },
  {
   "cell_type": "markdown",
   "metadata": {},
   "source": [
    "This assertion fails. (As always, `remove_html_markup()` is buggy.)"
   ]
  },
  {
   "cell_type": "code",
   "execution_count": null,
   "metadata": {},
   "outputs": [],
   "source": [
    "with ExpectError():\n",
    "    compile_and_test_html_markup(assertions_source_lines)"
   ]
  },
  {
   "cell_type": "markdown",
   "metadata": {},
   "source": [
    "The question we want to address in this section is: Given this assertion, can we automatically determine which part of the `Assertions` code lines in `assertions_source_lines` is relevant for producing the failure?"
   ]
  },
  {
   "cell_type": "markdown",
   "metadata": {},
   "source": [
    "### Reducing Code Lines\n",
    "\n",
    "Since our `Assertions` source code comes as a list of lines, we can apply our `DeltaDebugger` on it. The result will be the list of source lines that is necessary to make the assertion fail."
   ]
  },
  {
   "cell_type": "code",
   "execution_count": null,
   "metadata": {},
   "outputs": [],
   "source": [
    "quiz(\"What will the reduced set of lines contain?\",\n",
    "     [\n",
    "         \"All of the source code in the assertions chapter.\",\n",
    "         \"Only the source code of <samp>remove_html_markup()</samp>\",\n",
    "         \"Only a subset of <samp>remove_html_markup()</samp>\",\n",
    "         \"No lines at all.\"\n",
    "     ], [x for x in range((1 + 1) ** (1 + 1)) if x % (1 + 1) == 1][1])"
   ]
  },
  {
   "cell_type": "markdown",
   "metadata": {},
   "source": [
    "Let us see what the `DeltaDebugger` produces."
   ]
  },
  {
   "cell_type": "code",
   "execution_count": null,
   "metadata": {},
   "outputs": [],
   "source": [
    "with DeltaDebugger(log=False) as dd:\n",
    "    compile_and_test_html_markup(assertions_source_lines)"
   ]
  },
  {
   "cell_type": "markdown",
   "metadata": {},
   "source": [
    "We get exactly _two_ lines of code:"
   ]
  },
  {
   "cell_type": "code",
   "execution_count": null,
   "metadata": {},
   "outputs": [],
   "source": [
    "reduced_lines = dd.reduced_args()['lines']\n",
    "len(reduced_lines)"
   ]
  },
  {
   "cell_type": "markdown",
   "metadata": {},
   "source": [
    "And these are:"
   ]
  },
  {
   "cell_type": "code",
   "execution_count": null,
   "metadata": {},
   "outputs": [],
   "source": [
    "from bookutils import print_content"
   ]
  },
  {
   "cell_type": "code",
   "execution_count": null,
   "metadata": {},
   "outputs": [],
   "source": [
    "print_content(\"\".join(reduced_lines), \".py\")"
   ]
  },
  {
   "cell_type": "markdown",
   "metadata": {},
   "source": [
    "This may come as a surprise – `remove_html_markup()` is reduced to a function which does nothing – not even return a value. However, this is how it causes our \"My Test\" assertion to fail: In Python, a function without an explicit `return` statement returns `None`. This value is definitely not the string the \"My Test\" assertion expects, so it fails."
   ]
  },
  {
   "cell_type": "markdown",
   "metadata": {},
   "source": [
    "To ensure we do not remove code that actually would be necessary for normal behavior, let us add another check – one that checks for the _normal_ functionality of `remove_html_markup()`. If this one fails (say, after the code has been tampered with too much), it raises an exception – but a _different_ one from the original failure:"
   ]
  },
  {
   "cell_type": "code",
   "execution_count": null,
   "metadata": {},
   "outputs": [],
   "source": [
    "def compile_and_test_html_markup(lines):\n",
    "    compile_and_run(lines +\n",
    "        [\n",
    "            '''if remove_html_markup('<foo>bar</foo>') != 'bar':\\n''',\n",
    "            '''    raise RuntimeError(\"Missing functionality\")\\n''',\n",
    "            '''assert remove_html_markup('\"foo\"') == '\"foo\"', \"My Test\"\\n'''\n",
    "        ])"
   ]
  },
  {
   "cell_type": "markdown",
   "metadata": {},
   "source": [
    "On our \"reduced\" code, we now obtain a `RuntimeError` – a different exception."
   ]
  },
  {
   "cell_type": "code",
   "execution_count": null,
   "metadata": {},
   "outputs": [],
   "source": [
    "with ExpectError():\n",
    "    compile_and_test_html_markup(dd.reduced_args()['lines'])"
   ]
  },
  {
   "cell_type": "markdown",
   "metadata": {},
   "source": [
    "Such an outcome that is different from the original failure causes our `DeltaDebugger` not treating this as a failure, but rather as a `UNRESOLVED` outcome, indicating that the test cannot determine whether it passed or failed. The `ddmin` algorithm treats such unresolved outcomes as if they were passing; hence, the algorithm treats its minimization attempt as unsuccessful."
   ]
  },
  {
   "cell_type": "markdown",
   "metadata": {},
   "source": [
    "How does this change things? When we reduce the `Assertions` source code with the extended assertions, we now get a different result:"
   ]
  },
  {
   "cell_type": "code",
   "execution_count": null,
   "metadata": {},
   "outputs": [],
   "source": [
    "with DeltaDebugger(log=False) as dd:\n",
    "    compile_and_test_html_markup(assertions_source_lines)\n",
    "reduced_assertions_source_lines = dd.reduced_args()['lines']"
   ]
  },
  {
   "cell_type": "markdown",
   "metadata": {},
   "source": [
    "Our result actually is the source code of `remove_html_markup()` – and _only_ the source code. This is a success, as Delta Debugging has eliminated all the other parts of the `Assertions` source code; these neither contribute to the correct functioning of `remove_html_markup()`, nor to the failure at hand."
   ]
  },
  {
   "cell_type": "code",
   "execution_count": null,
   "metadata": {},
   "outputs": [],
   "source": [
    "print_content(\"\".join(reduced_assertions_source_lines), \".py\")"
   ]
  },
  {
   "cell_type": "markdown",
   "metadata": {},
   "source": [
    "All in all, we have reduced the number of relevant lines in `Assertions` to about 3% of the original source code."
   ]
  },
  {
   "cell_type": "code",
   "execution_count": null,
   "metadata": {},
   "outputs": [],
   "source": [
    "len(reduced_assertions_source_lines) / len(assertions_source_lines)"
   ]
  },
  {
   "cell_type": "markdown",
   "metadata": {},
   "source": [
    "The astute reader may notice that `remove_html_markup()`, as shown above, is slightly different from the original version in the [chapter on assertions](Assertions.ipynb). Here's the original version for comparison:"
   ]
  },
  {
   "cell_type": "code",
   "execution_count": null,
   "metadata": {},
   "outputs": [],
   "source": [
    "remove_html_markup_source_lines, _ = inspect.getsourcelines(Assertions.remove_html_markup)\n",
    "print_content(\"\".join(remove_html_markup_source_lines), \".py\")"
   ]
  },
  {
   "cell_type": "code",
   "execution_count": null,
   "metadata": {},
   "outputs": [],
   "source": [
    "quiz(\"In the reduced version, what has changed?\",\n",
    "    [\n",
    "        \"Comments are deleted\",\n",
    "        \"Blank lines are deleted\",\n",
    "        \"Initializations are deleted\",\n",
    "        \"The assertion is deleted\",\n",
    "    ], [(1 ** 0 - -1 ** 0) ** n for n in range(0, 3)]\n",
    "    )"
   ]
  },
  {
   "cell_type": "markdown",
   "metadata": {},
   "source": [
    "Indeed, Delta Debugging has determined all these as being irrelevant for reproducing the failure – and consequently, has deleted them."
   ]
  },
  {
   "cell_type": "markdown",
   "metadata": {},
   "source": [
    "### Reducing Code Characters"
   ]
  },
  {
   "cell_type": "markdown",
   "metadata": {},
   "source": [
    "We can reduce the code further by removing individual _characters_ rather than lines. To this end, we convert our (already reduced) `remove_html_markup()` code into a list of characters."
   ]
  },
  {
   "cell_type": "code",
   "execution_count": null,
   "metadata": {},
   "outputs": [],
   "source": [
    "reduced_assertions_source_characters = list(\"\".join(reduced_assertions_source_lines))\n",
    "print(reduced_assertions_source_characters[:30])"
   ]
  },
  {
   "cell_type": "markdown",
   "metadata": {},
   "source": [
    "Our `compile_and_ttest_html_markup()` works (and fails) as before: It still joins the given strings into one and executes them. (Remember that in Python, \"characters\" are simply strings of length one.)"
   ]
  },
  {
   "cell_type": "code",
   "execution_count": null,
   "metadata": {},
   "outputs": [],
   "source": [
    "with ExpectError():\n",
    "    compile_and_test_html_markup(reduced_assertions_source_characters)"
   ]
  },
  {
   "cell_type": "markdown",
   "metadata": {},
   "source": [
    "Let's see what Delta Debugging makes of that – and also, how long it takes. The `Timer` class gives us a simple means to measure time."
   ]
  },
  {
   "cell_type": "code",
   "execution_count": null,
   "metadata": {},
   "outputs": [],
   "source": [
    "from Timer import Timer"
   ]
  },
  {
   "cell_type": "code",
   "execution_count": null,
   "metadata": {},
   "outputs": [],
   "source": [
    "with Timer() as t:\n",
    "    with DeltaDebugger(log=False) as dd:\n",
    "        compile_and_test_html_markup(reduced_assertions_source_characters)"
   ]
  },
  {
   "cell_type": "markdown",
   "metadata": {},
   "source": [
    "Here's the reduced result:"
   ]
  },
  {
   "cell_type": "code",
   "execution_count": null,
   "metadata": {},
   "outputs": [],
   "source": [
    "further_reduced_assertions_source_characters = dd.reduced_args()['lines']\n",
    "print_content(\"\".join(further_reduced_assertions_source_characters), \".py\")"
   ]
  },
  {
   "cell_type": "markdown",
   "metadata": {},
   "source": [
    "There's a number of observations we can make about this code.\n",
    "\n",
    "* All superfluous blanks and even newlines have been removed.\n",
    "* As a curiosity, the initialization of `tag` and `quote` to `False` is now merged into a single (semantics-preserving) statement.\n",
    "* The semantics and effect of `<` and `>` characters is preserved, as mandated by our `RuntimeError` check.\n",
    "* The condition `c==\"\" and t` references a non-existing variable `t`, but this is never evaluated as `c` always holds one character.\n",
    "* Double quotes still have the effect of not being included in the returned value: the remaining `not quote` has no effect.\n",
    "\n",
    "Semantics-wise, this reduced variant still yields the \"original\" failure; the biggest semantic differences, though, are in the condition and code associated with double quotes – which actually also is the location of the defect to be fixed. This is how reducing code can also point to not only necessary, but also defective locations."
   ]
  },
  {
   "cell_type": "markdown",
   "metadata": {},
   "source": [
    "Mind you that reducing code is not cheap, and especially not if you remove by characters. It has taken `DeltaDebugger` several thousand tests to obtain the result above:"
   ]
  },
  {
   "cell_type": "code",
   "execution_count": null,
   "metadata": {},
   "outputs": [],
   "source": [
    "dd.tests"
   ]
  },
  {
   "cell_type": "markdown",
   "metadata": {},
   "source": [
    "And to do so, it required almost _one second_. This may be little for a human, but from a CPU standpoint, this is an enormous effort."
   ]
  },
  {
   "cell_type": "code",
   "execution_count": null,
   "metadata": {},
   "outputs": [],
   "source": [
    "t.elapsed_time()"
   ]
  },
  {
   "cell_type": "markdown",
   "metadata": {},
   "source": [
    "In the exercises, we will discuss more efficient means to reduce code – notably by reducing at a _syntactic_ rather than a _textual_ level. Stay tuned!"
   ]
  },
  {
   "cell_type": "markdown",
   "metadata": {},
   "source": [
    "## Synopsis\n",
    "\n",
    "A _reducer_ takes a failure-inducing input and reduces it to the minimum that still reproduces the failure.  This chapter provides a `DeltaDebugger` class that implements such a reducer."
   ]
  },
  {
   "cell_type": "markdown",
   "metadata": {},
   "source": [
    "Here is a simple example: An arithmetic expression causes an error in the Python interpreter:"
   ]
  },
  {
   "cell_type": "code",
   "execution_count": null,
   "metadata": {},
   "outputs": [],
   "source": [
    "def myeval(inp):\n",
    "    return eval(inp)"
   ]
  },
  {
   "cell_type": "code",
   "execution_count": null,
   "metadata": {},
   "outputs": [],
   "source": [
    "with ExpectError():\n",
    "    myeval('1 + 2 * 3 / 0')"
   ]
  },
  {
   "cell_type": "markdown",
   "metadata": {},
   "source": [
    "Can we reduce this input to a minimum? _Delta Debugging_ is a simple and robust reduction algorithm. We provide a `DeltaDebugger` class that is used in conjunction with a (failing) function call:\n",
    "\n",
    "```python\n",
    "with DeltaDebugger() as dd:\n",
    "    fun(args...)\n",
    "dd\n",
    "```\n",
    "\n",
    "The class automatically determines minimal arguments that cause the function to fail with the same exception as the original. Printing out the class object reveals the minimized call."
   ]
  },
  {
   "cell_type": "code",
   "execution_count": null,
   "metadata": {},
   "outputs": [],
   "source": [
    "with DeltaDebugger() as dd:\n",
    "    myeval('1 + 2 * 3 / 0')\n",
    "dd"
   ]
  },
  {
   "cell_type": "markdown",
   "metadata": {},
   "source": [
    "The input is reduced to the maximum: We get the essence of the division by zero."
   ]
  },
  {
   "cell_type": "markdown",
   "metadata": {},
   "source": [
    "There also is an interface to access the reduced input(s) programmatically. The method `reduced_args()` returns a dictionary in which all function arguments are minimized:"
   ]
  },
  {
   "cell_type": "code",
   "execution_count": null,
   "metadata": {},
   "outputs": [],
   "source": [
    "dd.reduced_args()"
   ]
  },
  {
   "cell_type": "markdown",
   "metadata": {},
   "source": [
    "And you can also access the function itself, as well as its original arguments."
   ]
  },
  {
   "cell_type": "code",
   "execution_count": null,
   "metadata": {},
   "outputs": [],
   "source": [
    "dd.function().__name__, dd.args()"
   ]
  },
  {
   "cell_type": "markdown",
   "metadata": {},
   "source": [
    "`DelteDebugger` minimizes all arguments that support a `len()` operation and that can be indexed – notably _strings_ and _lists_. If a function has multiple arguments, all arguments that can be minimized will be minimized."
   ]
  },
  {
   "cell_type": "markdown",
   "metadata": {
    "button": false,
    "new_sheet": true,
    "run_control": {
     "read_only": false
    }
   },
   "source": [
    "## Lessons Learned\n",
    "\n",
    "* Reducing failure-inducing inputs to a minimum is helpful for testing and debugging.\n",
    "* _Delta debugging_ is a simple and robust algorithm to easily reduce inputs of test cases, as well as their code.\n",
    "* Precisely specifying failure conditions helps avoiding false diagnoses."
   ]
  },
  {
   "cell_type": "markdown",
   "metadata": {
    "button": false,
    "new_sheet": false,
    "run_control": {
     "read_only": false
    }
   },
   "source": [
    "## Next Steps\n",
    "\n",
    "Our next chapter focuses on finding _failure-inducing code changes_, again involving delta debugging."
   ]
  },
  {
   "cell_type": "markdown",
   "metadata": {},
   "source": [
    "## Background\n",
    "\n",
    "The \"lexical\" delta debugging algorithm discussed here stems from \\cite{Zeller2002}; actually, this is the exact Python implementation as used by Zeller in 2002.  The idea of systematically reducing inputs has been discovered a number of times, although not as  automatic and generic as delta debugging. \\cite{Slutz1998}, for instance, discusses systematic reduction of SQL statements for SQL databases; the general process as manual work is well described by \\cite{Kernighan1999}."
   ]
  },
  {
   "cell_type": "markdown",
   "metadata": {},
   "source": [
    "The deficits of delta debugging as it comes to syntactically complex inputs were first discussed in *compiler testing*, and _reducing tree inputs_ rather than string inputs was quickly discovered as an alternative.  *Hierarchical Delta Debugging* (*HDD*) \\cite{Misherghi2006} applies delta debugging on subtrees of a parse tree, systematically reducing a parse tree to a minimum.  _Generalized Tree Reduction_ \\cite{Herfert2017} generalizes this idea to apply arbitrary _patterns_ such as replacing a term by a compatible term in a subtree.  Using _grammars_ to reduce inputs was first implemented in the _Perses_ tool \\cite{Sun2018}."
   ]
  },
  {
   "cell_type": "markdown",
   "metadata": {},
   "source": [
    "While applying delta debugging to code lines does a decent job, _syntactic_ and especially _language-specific_ approaches can do a much better job for the programming language at hand.  *C-Reduce* \\cite{Regehr2012} is a reducer specifically targeting the reduction of programming languages.  Besides reductions in the style of delta debugging or tree transformations, C-Reduce comes with more than 30 source-to-source transformations that replace aggregates by scalars, remove function parameters at a definition and all call sites, change functions to return `void` and deleting all `return` statements, and many more.  While specifically instantiated for the C language (and used for testing C compilers), these principles extend to arbitrary programming languages following an ALGOL-like syntax.  When testing a compiler, C-Reduce is the tool to go for."
   ]
  },
  {
   "cell_type": "markdown",
   "metadata": {},
   "source": [
    "This [blog post](https://www.drmaciver.com/2019/01/notes-on-test-case-reduction/) by David McIver contains lots of insights on how to apply reduction in practice, in particular multiple runs with different abstraction levels."
   ]
  },
  {
   "cell_type": "markdown",
   "metadata": {
    "button": false,
    "new_sheet": true,
    "run_control": {
     "read_only": false
    }
   },
   "source": [
    "## Exercises\n",
    "\n",
    "How to best reduce inputs is still an underdeveloped field of research, with lots of opportunities."
   ]
  },
  {
   "cell_type": "markdown",
   "metadata": {
    "button": false,
    "new_sheet": false,
    "run_control": {
     "read_only": false
    },
    "solution": "hidden",
    "solution2": "hidden",
    "solution2_first": true,
    "solution_first": true
   },
   "source": [
    "### Exercise 1: Syntactic Code Reduction\n",
    "\n",
    "When reducing program code, using a _syntactic_ approach is a much better alternative to the _line-by-line_ approach discussed above."
   ]
  }
 ],
 "metadata": {
  "ipub": {
   "bibliography": "fuzzingbook.bib",
   "toc": true
  },
  "kernelspec": {
   "display_name": "Python 3",
   "language": "python",
   "name": "python3"
  },
  "language_info": {
   "codemirror_mode": {
    "name": "ipython",
    "version": 3
   },
   "file_extension": ".py",
   "mimetype": "text/x-python",
   "name": "python",
   "nbconvert_exporter": "python",
   "pygments_lexer": "ipython3",
   "version": "3.6.10"
  },
  "toc": {
   "base_numbering": 1,
   "nav_menu": {},
   "number_sections": true,
   "sideBar": true,
   "skip_h1_title": true,
   "title_cell": "",
   "title_sidebar": "Contents",
   "toc_cell": false,
   "toc_position": {},
   "toc_section_display": true,
   "toc_window_display": true
  },
  "toc-autonumbering": false,
  "varInspector": {
   "cols": {
    "lenName": 16,
    "lenType": 16,
    "lenVar": 40
   },
   "kernels_config": {
    "python": {
     "delete_cmd_postfix": "",
     "delete_cmd_prefix": "del ",
     "library": "var_list.py",
     "varRefreshCmd": "print(var_dic_list())"
    },
    "r": {
     "delete_cmd_postfix": ") ",
     "delete_cmd_prefix": "rm(",
     "library": "var_list.r",
     "varRefreshCmd": "cat(var_dic_list()) "
    }
   },
   "types_to_exclude": [
    "module",
    "function",
    "builtin_function_or_method",
    "instance",
    "_Feature"
   ],
   "window_display": false
  }
 },
 "nbformat": 4,
 "nbformat_minor": 4
}
