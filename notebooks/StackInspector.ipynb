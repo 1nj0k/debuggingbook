{
 "cells": [
  {
   "cell_type": "markdown",
   "metadata": {
    "button": false,
    "new_sheet": false,
    "run_control": {
     "read_only": false
    }
   },
   "source": [
    "# Inspecting Call Stacks\n",
    "\n",
    "This appendix introduces a class for inspecting the call stack at runtime."
   ]
  },
  {
   "cell_type": "markdown",
   "metadata": {
    "button": false,
    "new_sheet": false,
    "run_control": {
     "read_only": false
    }
   },
   "source": [
    "**Prerequisites**\n",
    "\n",
    "* This is an internal helper class."
   ]
  },
  {
   "cell_type": "markdown",
   "metadata": {},
   "source": [
    "## Synopsis"
   ]
  },
  {
   "cell_type": "markdown",
   "metadata": {},
   "source": [
    "In this book, for many purposes, we need to lookup a function's location, source code, or simply definition. The class `StackInspector` provides a number of convenience methods for this purpose."
   ]
  },
  {
   "cell_type": "markdown",
   "metadata": {},
   "source": [
    "When we access or execute functions, we do so in the  caller's environment, not ours. The `caller_globals()` method acts as replacement for `globals()`."
   ]
  },
  {
   "cell_type": "markdown",
   "metadata": {},
   "source": [
    "The method `caller_frame()` walks up the current call stack and returns the topmost frame invoking a method or function from the current class. "
   ]
  },
  {
   "cell_type": "code",
   "execution_count": null,
   "metadata": {
    "button": false,
    "new_sheet": false,
    "run_control": {
     "read_only": false
    },
    "slideshow": {
     "slide_type": "skip"
    }
   },
   "outputs": [],
   "source": [
    "import bookutils"
   ]
  },
  {
   "cell_type": "code",
   "execution_count": null,
   "metadata": {},
   "outputs": [],
   "source": [
    "import inspect\n",
    "import warnings"
   ]
  },
  {
   "cell_type": "code",
   "execution_count": null,
   "metadata": {},
   "outputs": [],
   "source": [
    "from types import FunctionType, FrameType\n",
    "from typing import cast, Dict, Any, Tuple, Callable, Optional"
   ]
  },
  {
   "cell_type": "code",
   "execution_count": null,
   "metadata": {},
   "outputs": [],
   "source": [
    "class StackInspector:\n",
    "    \"\"\"Provide functions to inspect the stack\"\"\"\n",
    "\n",
    "    def caller_frame(self) -> FrameType:\n",
    "        \"\"\"Return the frame of the caller.\"\"\"\n",
    "\n",
    "        # Walk up the call tree until we leave the current class\n",
    "        frame = cast(FrameType, inspect.currentframe())\n",
    "\n",
    "        while ('self' in frame.f_locals and\n",
    "               isinstance(frame.f_locals['self'], self.__class__)):\n",
    "            frame = cast(FrameType, frame.f_back)\n",
    "\n",
    "        return frame\n",
    "\n",
    "    def caller_globals(self) -> Dict[str, Any]:\n",
    "        \"\"\"Return the globals() environment of the caller.\"\"\"\n",
    "        return self.caller_frame().f_globals\n",
    "\n",
    "    def caller_locals(self) -> Dict[str, Any]:\n",
    "        \"\"\"Return the locals() environment of the caller.\"\"\"\n",
    "        return self.caller_frame().f_locals"
   ]
  },
  {
   "cell_type": "markdown",
   "metadata": {},
   "source": [
    "`caller_location()` returns the caller's function and its location. It does a fair bit of magic to retrieve nested functions, by looking through global and local variables until a match is found. This may be simplified in the future."
   ]
  },
  {
   "cell_type": "code",
   "execution_count": null,
   "metadata": {},
   "outputs": [],
   "source": [
    "Location = Tuple[Callable, int]"
   ]
  },
  {
   "cell_type": "code",
   "execution_count": null,
   "metadata": {},
   "outputs": [],
   "source": [
    "class StackInspector(StackInspector):\n",
    "    def caller_location(self) -> Location:\n",
    "        \"\"\"Return the location (func, lineno) of the caller.\"\"\"\n",
    "        return self.caller_function(), self.caller_frame().f_lineno\n",
    "\n",
    "    def search_frame(self, name: str, frame: Optional[FrameType] = None) -> \\\n",
    "        Tuple[Optional[FrameType], Optional[Callable]]:\n",
    "        \"\"\"\n",
    "        Return a pair (`frame`, `item`) \n",
    "        in which the function `name` is defined as `item`.\n",
    "        \"\"\"\n",
    "        if frame is None:\n",
    "            frame = self.caller_frame()\n",
    "\n",
    "        while frame:\n",
    "            item = None\n",
    "            if name in frame.f_globals:\n",
    "                item = frame.f_globals[name]\n",
    "            if name in frame.f_locals:\n",
    "                item = frame.f_locals[name]\n",
    "            if item and callable(item):\n",
    "                return frame, item\n",
    "\n",
    "            frame = cast(FrameType, frame.f_back)\n",
    "\n",
    "        return None, None\n",
    "\n",
    "    def search_func(self, name: str, frame: Optional[FrameType] = None) -> \\\n",
    "        Optional[Callable]:\n",
    "        \"\"\"Search in callers for a definition of the function `name`\"\"\"\n",
    "        frame, func = self.search_frame(name, frame)\n",
    "        return func\n",
    "\n",
    "    # Avoid generating functions more than once\n",
    "    _generated_function_cache: Dict[Tuple[str, int], Callable] = {}\n",
    "\n",
    "    def create_function(self, frame: FrameType) -> Callable:\n",
    "        \"\"\"Create function for given frame\"\"\"\n",
    "        name = frame.f_code.co_name\n",
    "        cache_key = (name, frame.f_lineno)\n",
    "        if cache_key in self._generated_function_cache:\n",
    "            return self._generated_function_cache[cache_key]\n",
    "\n",
    "        try:\n",
    "            # Create new function from given code\n",
    "            generated_function = cast(Callable,\n",
    "                                      FunctionType(frame.f_code,\n",
    "                                                   globals=frame.f_globals,\n",
    "                                                   name=name))\n",
    "        except TypeError:\n",
    "            # Unsuitable code for creating a function\n",
    "            # Last resort: Return some function\n",
    "            generated_function = self.unknown\n",
    "\n",
    "        except Exception as exc:\n",
    "            # Any other exception\n",
    "            warnings.warn(f\"Couldn't create function for {name} \"\n",
    "                          f\" ({type(exc).__name__}: {exc})\")\n",
    "            generated_function = self.unknown\n",
    "\n",
    "        self._generated_function_cache[cache_key] = generated_function\n",
    "        return generated_function\n",
    "\n",
    "    def caller_function(self) -> Callable:\n",
    "        \"\"\"Return the calling function\"\"\"\n",
    "        frame = self.caller_frame()\n",
    "        name = frame.f_code.co_name\n",
    "        func = self.search_func(name)\n",
    "        if func:\n",
    "            return func\n",
    "\n",
    "        if not name.startswith('<'):\n",
    "            warnings.warn(f\"Couldn't find {name} in caller\")\n",
    "\n",
    "        return self.create_function(frame)\n",
    "\n",
    "    def unknown(self) -> None:  # Placeholder for unknown functions\n",
    "        pass"
   ]
  },
  {
   "cell_type": "markdown",
   "metadata": {},
   "source": [
    "## Synopsis"
   ]
  },
  {
   "cell_type": "markdown",
   "metadata": {},
   "source": [
    "`StackInspector` is typically used as superclass, providing its functionality to subclasses:"
   ]
  },
  {
   "cell_type": "code",
   "execution_count": null,
   "metadata": {},
   "outputs": [],
   "source": [
    "class StackInspectorDemo(StackInspector):\n",
    "    def callee(self) -> Tuple[Location, Dict[str, Any]]:\n",
    "        return self.caller_location(), self.caller_locals()\n",
    "\n",
    "    def caller(self) -> Tuple[Location, Dict[str, Any]]:\n",
    "        return self.callee()"
   ]
  },
  {
   "cell_type": "markdown",
   "metadata": {},
   "source": [
    "The function `test()` should return a pair consisting of the location of the caller (`test()`) and a dictionary of local variables in this caller."
   ]
  },
  {
   "cell_type": "code",
   "execution_count": null,
   "metadata": {},
   "outputs": [],
   "source": [
    "def test() -> Tuple[Location, Dict[str, Any]]:\n",
    "    demo = StackInspectorDemo()\n",
    "    return demo.caller()"
   ]
  },
  {
   "cell_type": "code",
   "execution_count": null,
   "metadata": {},
   "outputs": [],
   "source": [
    "test()"
   ]
  },
  {
   "cell_type": "markdown",
   "metadata": {},
   "source": [
    "Here are all methods defined in this appendix:"
   ]
  },
  {
   "cell_type": "code",
   "execution_count": null,
   "metadata": {},
   "outputs": [],
   "source": [
    "# ignore\n",
    "from ClassDiagram import display_class_hierarchy, class_tree"
   ]
  },
  {
   "cell_type": "code",
   "execution_count": null,
   "metadata": {},
   "outputs": [],
   "source": [
    "# ignore\n",
    "display_class_hierarchy([StackInspector],\n",
    "                        abstract_classes=[\n",
    "                            StackInspector,\n",
    "                        ],\n",
    "                        public_methods=[\n",
    "                            StackInspector.caller_frame,\n",
    "                            StackInspector.caller_function,\n",
    "                            StackInspector.caller_globals,\n",
    "                            StackInspector.caller_locals,\n",
    "                            StackInspector.caller_location,\n",
    "                            StackInspector.search_frame,\n",
    "                            StackInspector.search_func,\n",
    "                        ],\n",
    "                        project='debuggingbook')"
   ]
  },
  {
   "cell_type": "markdown",
   "metadata": {
    "button": false,
    "new_sheet": true,
    "run_control": {
     "read_only": false
    }
   },
   "source": [
    "## Lessons Learned\n",
    "\n",
    "* In Python, inspecting objects at runtime is easy."
   ]
  }
 ],
 "metadata": {
  "ipub": {
   "bibliography": "fuzzingbook.bib",
   "toc": true
  },
  "kernelspec": {
   "display_name": "Python 3",
   "language": "python",
   "name": "python3"
  },
  "language_info": {
   "codemirror_mode": {
    "name": "ipython",
    "version": 3
   },
   "file_extension": ".py",
   "mimetype": "text/x-python",
   "name": "python",
   "nbconvert_exporter": "python",
   "pygments_lexer": "ipython3",
   "version": "3.6.10"
  },
  "toc": {
   "base_numbering": 1,
   "nav_menu": {},
   "number_sections": true,
   "sideBar": true,
   "skip_h1_title": true,
   "title_cell": "",
   "title_sidebar": "Contents",
   "toc_cell": false,
   "toc_position": {},
   "toc_section_display": true,
   "toc_window_display": true
  },
  "toc-autonumbering": false
 },
 "nbformat": 4,
 "nbformat_minor": 4
}
