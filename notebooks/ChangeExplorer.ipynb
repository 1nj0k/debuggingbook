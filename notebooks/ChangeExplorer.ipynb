{
 "cells": [
  {
   "cell_type": "markdown",
   "metadata": {
    "button": false,
    "new_sheet": false,
    "run_control": {
     "read_only": false
    }
   },
   "source": [
    "# Where the Bugs are\n",
    "\n",
    "_Brief abstract/introduction/motivation.  State what the chapter is about in 1-2 paragraphs._\n",
    "_Then, have an introduction video:_"
   ]
  },
  {
   "cell_type": "code",
   "execution_count": null,
   "metadata": {},
   "outputs": [],
   "source": [
    "from bookutils import YouTubeVideo\n",
    "# YouTubeVideo(\"w4u5gCgPlmg\")"
   ]
  },
  {
   "cell_type": "markdown",
   "metadata": {
    "button": false,
    "new_sheet": false,
    "run_control": {
     "read_only": false
    }
   },
   "source": [
    "**Prerequisites**\n",
    "\n",
    "* _Refer to earlier chapters as notebooks here, as here:_ [Earlier Chapter](Debugger.ipynb)."
   ]
  },
  {
   "cell_type": "code",
   "execution_count": null,
   "metadata": {
    "button": false,
    "new_sheet": false,
    "run_control": {
     "read_only": false
    },
    "slideshow": {
     "slide_type": "skip"
    }
   },
   "outputs": [],
   "source": [
    "import bookutils"
   ]
  },
  {
   "cell_type": "code",
   "execution_count": null,
   "metadata": {},
   "outputs": [],
   "source": [
    "import Tracking"
   ]
  },
  {
   "cell_type": "markdown",
   "metadata": {
    "slideshow": {
     "slide_type": "skip"
    }
   },
   "source": [
    "## Synopsis\n",
    "<!-- Automatically generated. Do not edit. -->\n",
    "\n",
    "To [use the code provided in this chapter](Importing.ipynb), write\n",
    "\n",
    "```python\n",
    ">>> from debuggingbook.ChangeExplorer import <identifier>\n",
    "```\n",
    "\n",
    "and then make use of the following features.\n",
    "\n",
    "\n",
    "_For those only interested in using the code in this chapter (without wanting to know how it works), give an example.  This will be copied to the beginning of the chapter (before the first section) as text with rendered input and output._\n",
    "\n",
    "\n",
    "![](PICS/ChangeExplorer-synopsis-1.svg)\n",
    "\n"
   ]
  },
  {
   "cell_type": "markdown",
   "metadata": {
    "button": false,
    "new_sheet": false,
    "run_control": {
     "read_only": false
    }
   },
   "source": [
    "## Mining Change Histories\n",
    "\n",
    "We can mine past changes. We use PyDriller: https://pydriller.readthedocs.io/"
   ]
  },
  {
   "cell_type": "code",
   "execution_count": null,
   "metadata": {},
   "outputs": [],
   "source": [
    "from pydriller import RepositoryMining  # https://pydriller.readthedocs.io/"
   ]
  },
  {
   "cell_type": "code",
   "execution_count": null,
   "metadata": {},
   "outputs": [],
   "source": [
    "import pickle"
   ]
  },
  {
   "cell_type": "code",
   "execution_count": null,
   "metadata": {},
   "outputs": [],
   "source": [
    "class ChangeCounter:\n",
    "    def __init__(self, repo, filter=None, log=False, **kwargs):\n",
    "        self.repo = repo\n",
    "        self.log = log\n",
    "\n",
    "        if filter is None:\n",
    "            filter = lambda m: True\n",
    "        self.filter = filter\n",
    "\n",
    "        self.changes = {}\n",
    "        self.messages = {}\n",
    "        self.sizes = {}\n",
    "        self.hashes = set()\n",
    "\n",
    "        self.mine(**kwargs)"
   ]
  },
  {
   "cell_type": "code",
   "execution_count": null,
   "metadata": {},
   "outputs": [],
   "source": [
    "class ChangeCounter(ChangeCounter):\n",
    "    def mine(self, **kwargs):\n",
    "        miner = RepositoryMining(self.repo, **kwargs)\n",
    "\n",
    "        for commit in miner.traverse_commits():\n",
    "            for m in commit.modifications:\n",
    "                m.hash = commit.hash\n",
    "                m.committer = commit.committer\n",
    "                m.committer_date = commit.committer_date\n",
    "                m.msg = commit.msg\n",
    "\n",
    "                if self.include(m):\n",
    "                    self.update_stats(m)\n",
    "\n",
    "    def include(self, m):\n",
    "        return self.filter(m)"
   ]
  },
  {
   "cell_type": "code",
   "execution_count": null,
   "metadata": {},
   "outputs": [],
   "source": [
    "class ChangeCounter(ChangeCounter):\n",
    "    def update_stats(self, m):\n",
    "        if not m.new_path:\n",
    "            return\n",
    "\n",
    "        node = tuple(m.new_path.split('/'))\n",
    "\n",
    "        if m.hash not in self.hashes:\n",
    "            self.hashes.add(m.hash)\n",
    "            self.update_size(node, len(m.source_code) if m.source_code else 0)\n",
    "            self.update_changes(node, m.msg)\n",
    "\n",
    "        self.update_elems(node, m)\n",
    "\n",
    "    def update_size(self, node, size):\n",
    "        self.sizes[node] = size\n",
    "\n",
    "    def update_changes(self, node, msg):\n",
    "        self.changes.setdefault(node, 0)\n",
    "        self.messages.setdefault(node, [])\n",
    "        self.changes[node] += 1\n",
    "        self.messages[node].append(msg)\n",
    "\n",
    "    def update_elems(self, node, m):\n",
    "        pass"
   ]
  },
  {
   "cell_type": "code",
   "execution_count": null,
   "metadata": {},
   "outputs": [],
   "source": [
    "import os"
   ]
  },
  {
   "cell_type": "code",
   "execution_count": null,
   "metadata": {},
   "outputs": [],
   "source": [
    "def current_repo():\n",
    "    path = os.getcwd()\n",
    "    while True:\n",
    "        if os.path.exists(os.path.join(path, '.git')):\n",
    "            return os.path.normpath(path)\n",
    "        \n",
    "        # Go one level up\n",
    "        new_path = os.path.normpath(os.path.join(path, '..'))\n",
    "        if new_path != path:\n",
    "            path = new_path\n",
    "        else:\n",
    "            return None\n",
    "    \n",
    "    return None     "
   ]
  },
  {
   "cell_type": "code",
   "execution_count": null,
   "metadata": {},
   "outputs": [],
   "source": [
    "CURRENT_REPO = current_repo()\n",
    "if CURRENT_REPO:\n",
    "    DEBUGGINGBOOK_REPO = CURRENT_REPO\n",
    "else:\n",
    "    DEBUGGINGBOOK_REPO = 'https://github.com/uds-se/debuggingbook.git'"
   ]
  },
  {
   "cell_type": "code",
   "execution_count": null,
   "metadata": {},
   "outputs": [],
   "source": [
    "DEBUGGINGBOOK_REPO"
   ]
  },
  {
   "cell_type": "markdown",
   "metadata": {},
   "source": [
    "In principle, the following works with any git repo. But if we already "
   ]
  },
  {
   "cell_type": "code",
   "execution_count": null,
   "metadata": {},
   "outputs": [],
   "source": [
    "def debuggingbook_change_counter(cls):\n",
    "    def filter(m):\n",
    "        return m.new_path and not m.new_path.startswith('docs/')\n",
    "\n",
    "    return cls(DEBUGGINGBOOK_REPO, filter=filter)"
   ]
  },
  {
   "cell_type": "code",
   "execution_count": null,
   "metadata": {},
   "outputs": [],
   "source": [
    "from Timer import Timer"
   ]
  },
  {
   "cell_type": "code",
   "execution_count": null,
   "metadata": {},
   "outputs": [],
   "source": [
    "with Timer() as t:\n",
    "    change_counter = debuggingbook_change_counter(ChangeCounter)\n",
    "\n",
    "t.elapsed_time()"
   ]
  },
  {
   "cell_type": "code",
   "execution_count": null,
   "metadata": {},
   "outputs": [],
   "source": [
    "list(change_counter.changes.keys())[:10]"
   ]
  },
  {
   "cell_type": "code",
   "execution_count": null,
   "metadata": {
    "tags": [
     "outputPrepend"
    ]
   },
   "outputs": [],
   "source": [
    "change_counter.changes[('Chapters.makefile',)]"
   ]
  },
  {
   "cell_type": "code",
   "execution_count": null,
   "metadata": {
    "tags": [
     "outputPrepend"
    ]
   },
   "outputs": [],
   "source": [
    "change_counter.messages[('Chapters.makefile',)]"
   ]
  },
  {
   "cell_type": "code",
   "execution_count": null,
   "metadata": {
    "tags": [
     "outputPrepend"
    ]
   },
   "outputs": [],
   "source": [
    "change_counter.sizes[('Chapters.makefile',)]"
   ]
  },
  {
   "cell_type": "markdown",
   "metadata": {},
   "source": [
    "## Past Changes"
   ]
  },
  {
   "cell_type": "markdown",
   "metadata": {},
   "source": [
    "Now, visualize treemap (notebooks/) and give it \n",
    "\n",
    "* a size, depending on the number of lines;\n",
    "* a color, depending on the total number of changes."
   ]
  },
  {
   "cell_type": "markdown",
   "metadata": {},
   "source": [
    "https://github.com/mwouts/easyplotly"
   ]
  },
  {
   "cell_type": "code",
   "execution_count": null,
   "metadata": {},
   "outputs": [],
   "source": [
    "import easyplotly as ep\n",
    "import plotly.graph_objects as go"
   ]
  },
  {
   "cell_type": "code",
   "execution_count": null,
   "metadata": {},
   "outputs": [],
   "source": [
    "import math"
   ]
  },
  {
   "cell_type": "code",
   "execution_count": null,
   "metadata": {},
   "outputs": [],
   "source": [
    "class ChangeCounter(ChangeCounter):\n",
    "    def map_node_sizes(self):\n",
    "        # Default: use log scale\n",
    "        return {node: math.log(self.sizes[node]) if self.sizes[node] else 0\n",
    "             for node in self.sizes}\n",
    "\n",
    "        # Alternative: use sqrt size\n",
    "        return {node: math.sqrt(self.sizes[node]) for node in self.sizes}\n",
    "\n",
    "        # Alternative: use absolute size\n",
    "        return self.sizes\n",
    "\n",
    "    def map_node_color(self, node):\n",
    "        if node and node in self.changes:\n",
    "            return self.changes[node]\n",
    "        return None\n",
    "\n",
    "    def map_node_text(self, node):\n",
    "        if node and node in self.changes:\n",
    "            return self.changes[node]\n",
    "        return None\n",
    "\n",
    "    def map_hoverinfo(self):\n",
    "        return 'label+text'\n",
    "\n",
    "    def map_colorscale(self):\n",
    "        return 'YlOrRd'\n",
    "\n",
    "    def map(self):\n",
    "        treemap = ep.Treemap(\n",
    "                     self.map_node_sizes(),\n",
    "                     text=self.map_node_text,\n",
    "                     hoverinfo=self.map_hoverinfo(),\n",
    "                     marker_colors=self.map_node_color,\n",
    "                     marker_colorscale=self.map_colorscale(),\n",
    "                     root_label=self.repo,\n",
    "                     branchvalues='total'\n",
    "                    )\n",
    "\n",
    "        fig = go.Figure(treemap)\n",
    "        fig.update_layout(margin=dict(l=0, r=0, t=30, b=0))\n",
    "\n",
    "        return fig"
   ]
  },
  {
   "cell_type": "code",
   "execution_count": null,
   "metadata": {},
   "outputs": [],
   "source": [
    "change_counter = debuggingbook_change_counter(ChangeCounter)"
   ]
  },
  {
   "cell_type": "code",
   "execution_count": null,
   "metadata": {},
   "outputs": [],
   "source": [
    "change_counter.map()"
   ]
  },
  {
   "cell_type": "markdown",
   "metadata": {},
   "source": [
    "## Past Fixes"
   ]
  },
  {
   "cell_type": "code",
   "execution_count": null,
   "metadata": {},
   "outputs": [],
   "source": [
    "class FixCounter(ChangeCounter):\n",
    "    def include(self, m):\n",
    "        return super().include(m) and m and m.msg.startswith(\"Fix:\")"
   ]
  },
  {
   "cell_type": "code",
   "execution_count": null,
   "metadata": {},
   "outputs": [],
   "source": [
    "class FixCounter(FixCounter):\n",
    "    def map_node_text(self, node):\n",
    "        if node and node in self.messages:\n",
    "            return \"<br>\".join(self.messages[node])\n",
    "        return \"\"\n",
    "\n",
    "    def map_hoverinfo(self):\n",
    "        return 'label'"
   ]
  },
  {
   "cell_type": "code",
   "execution_count": null,
   "metadata": {},
   "outputs": [],
   "source": [
    "fix_counter = debuggingbook_change_counter(FixCounter)"
   ]
  },
  {
   "cell_type": "code",
   "execution_count": null,
   "metadata": {},
   "outputs": [],
   "source": [
    "fix_counter.map()"
   ]
  },
  {
   "cell_type": "markdown",
   "metadata": {},
   "source": [
    "## Fine-Grained Changes"
   ]
  },
  {
   "cell_type": "markdown",
   "metadata": {},
   "source": [
    "Our aim: get tuples that are go beyond just files.\n",
    "\n",
    "* For each file, get a listing of which elements are in which lines.\n",
    "* Then, for each diff, find out which elems are affected."
   ]
  },
  {
   "cell_type": "markdown",
   "metadata": {},
   "source": [
    "### Mapping Elements to Locations"
   ]
  },
  {
   "cell_type": "code",
   "execution_count": null,
   "metadata": {},
   "outputs": [],
   "source": [
    "import re"
   ]
  },
  {
   "cell_type": "code",
   "execution_count": null,
   "metadata": {},
   "outputs": [],
   "source": [
    "import magic  # https://github.com/ahupp/python-magic"
   ]
  },
  {
   "cell_type": "code",
   "execution_count": null,
   "metadata": {},
   "outputs": [],
   "source": [
    "magic.from_buffer('''\n",
    "#include <stdio.h>\n",
    "\n",
    "int main(int argc, char *argv[]) {\n",
    "    printf(\"Hello, world!\\n\")\n",
    "}\n",
    "''')"
   ]
  },
  {
   "cell_type": "markdown",
   "metadata": {},
   "source": [
    " Also see http://rigaux.org/language-study/syntax-across-languages.html"
   ]
  },
  {
   "cell_type": "code",
   "execution_count": null,
   "metadata": {},
   "outputs": [],
   "source": [
    "DELIMITERS = [\n",
    "    (\n",
    "        # Python\n",
    "        re.compile(r'^python.*'),\n",
    "\n",
    "        # Beginning of element\n",
    "        re.compile(r'^(async\\s+)?(def|class)\\s+(?P<name>\\w+)\\W.*'),\n",
    "\n",
    "        # End of element\n",
    "        re.compile(r'^[^#\\s]')\n",
    "    ),\n",
    "    (\n",
    "        # Jupyter Notebooks\n",
    "        re.compile(r'^(json|exported sgml|jupyter).*'),\n",
    "        re.compile(r'^\\s+\"(async\\s+)?(def|class)\\s+(?P<name>\\w+)\\W'),\n",
    "        re.compile(r'^(\\s+\"[^#\\s\\\\]|\\s+\\])')\n",
    "    ),\n",
    "    (\n",
    "        # C source code (actually, any { }-delimited language)\n",
    "        re.compile(r'^(c |c\\+\\+|c#|java|perl|php).*'),\n",
    "        re.compile(r'^[^\\s].*\\s+(?P<name>\\w+)\\s*[({].*'),\n",
    "        re.compile(r'^[}]')\n",
    "    )\n",
    "]"
   ]
  },
  {
   "cell_type": "code",
   "execution_count": null,
   "metadata": {},
   "outputs": [],
   "source": [
    "def rxdelim(s):\n",
    "    tp = magic.from_buffer(s).lower()\n",
    "    for rxtp, rxbegin, rxend in DELIMITERS:\n",
    "        if rxtp.match(tp):\n",
    "            return rxbegin, rxend\n",
    "\n",
    "    return None, None"
   ]
  },
  {
   "cell_type": "code",
   "execution_count": null,
   "metadata": {},
   "outputs": [],
   "source": [
    "def elem_mapping(s, log=False):\n",
    "    rxbegin, rxend = rxdelim(s)\n",
    "    if rxbegin is None:\n",
    "        return []\n",
    "\n",
    "    mapping = [None]\n",
    "    current_elem = None\n",
    "    lineno = 0\n",
    "\n",
    "    for line in s.split('\\n'):\n",
    "        lineno += 1\n",
    "\n",
    "        match = rxbegin.match(line)\n",
    "        if match:\n",
    "            current_elem = match.group('name')\n",
    "        elif rxend.match(line):\n",
    "            current_elem = None\n",
    "\n",
    "        mapping.append(current_elem)\n",
    "\n",
    "        if log:\n",
    "            print(f\"{lineno:3} {current_elem}\\t{line}\")\n",
    "\n",
    "    return mapping"
   ]
  },
  {
   "cell_type": "code",
   "execution_count": null,
   "metadata": {},
   "outputs": [],
   "source": [
    "some_c_source = \"\"\"\n",
    "#include <stdio.h>\n",
    "\n",
    "int foo(int x) {\n",
    "    return x;\n",
    "}\n",
    "\n",
    "struct bar {\n",
    "    int x, y;\n",
    "}\n",
    "\n",
    "int main(int argc, char *argv[]) {\n",
    "    return foo(argc);\n",
    "}\n",
    "\n",
    "\"\"\"\n",
    "some_c_mapping = elem_mapping(some_c_source, log=True)"
   ]
  },
  {
   "cell_type": "code",
   "execution_count": null,
   "metadata": {},
   "outputs": [],
   "source": [
    "some_python_source = \"\"\"\n",
    "def foo(x):\n",
    "    return x\n",
    "\n",
    "class bar(blue):\n",
    "    x = 25\n",
    "    def f(x):\n",
    "        return 26\n",
    "\n",
    "def main(argc):\n",
    "    return foo(argc)\n",
    "\n",
    "\"\"\"\n",
    "some_python_mapping = elem_mapping(some_python_source, log=True)"
   ]
  },
  {
   "cell_type": "code",
   "execution_count": null,
   "metadata": {},
   "outputs": [],
   "source": [
    "# some_jupyter_source = open(\"Slicer.ipynb\").read()\n",
    "# some_jupyter_mapping = elem_mapping(some_jupyter_source, log=False)"
   ]
  },
  {
   "cell_type": "markdown",
   "metadata": {},
   "source": [
    "### Determining Changed Elements"
   ]
  },
  {
   "cell_type": "code",
   "execution_count": null,
   "metadata": {},
   "outputs": [],
   "source": [
    "from ChangeDebugger import diff  # minor dependency"
   ]
  },
  {
   "cell_type": "code",
   "execution_count": null,
   "metadata": {},
   "outputs": [],
   "source": [
    "from diff_match_patch import diff_match_patch"
   ]
  },
  {
   "cell_type": "code",
   "execution_count": null,
   "metadata": {},
   "outputs": [],
   "source": [
    "class FineChangeCounter(ChangeCounter):\n",
    "    def changed_elems(self, mapping, start, length=0):\n",
    "        elems = set()\n",
    "        for line in range(start, start + length + 1):\n",
    "            if line < len(mapping) and mapping[line]:\n",
    "                elems.add(mapping[line])\n",
    "\n",
    "        return elems\n",
    "\n",
    "    def elem_size(self, elem, mapping, source):\n",
    "        source_lines = [''] + source.split('\\n')\n",
    "        size = 0\n",
    "\n",
    "        for line_no in range(len(mapping)):\n",
    "            if mapping[line_no] == elem:\n",
    "                size += len(source_lines[line_no])\n",
    "\n",
    "        return size"
   ]
  },
  {
   "cell_type": "code",
   "execution_count": null,
   "metadata": {},
   "outputs": [],
   "source": [
    "fine_change_counter = debuggingbook_change_counter(FineChangeCounter)"
   ]
  },
  {
   "cell_type": "code",
   "execution_count": null,
   "metadata": {},
   "outputs": [],
   "source": [
    "assert fine_change_counter.changed_elems(some_python_mapping, 4) == {'foo'}"
   ]
  },
  {
   "cell_type": "code",
   "execution_count": null,
   "metadata": {},
   "outputs": [],
   "source": [
    "assert fine_change_counter.changed_elems(some_python_mapping, 4, 1) == {'foo', 'bar'}"
   ]
  },
  {
   "cell_type": "code",
   "execution_count": null,
   "metadata": {},
   "outputs": [],
   "source": [
    "assert fine_change_counter.changed_elems(some_python_mapping, 10, 2) == {'main'}"
   ]
  },
  {
   "cell_type": "code",
   "execution_count": null,
   "metadata": {},
   "outputs": [],
   "source": [
    "class FineChangeCounter(FineChangeCounter):\n",
    "    def update_elems(self, node, m):\n",
    "        old_source = m.source_code_before if m.source_code_before else \"\"\n",
    "        new_source = m.source_code if m.source_code else \"\"\n",
    "        patches = diff(old_source, new_source)\n",
    "\n",
    "        old_mapping = elem_mapping(old_source)\n",
    "        new_mapping = elem_mapping(new_source)\n",
    "\n",
    "        elems = set()\n",
    "\n",
    "        for patch in patches:\n",
    "            old_start_line = patch.start1 + 1\n",
    "            new_start_line = patch.start2 + 1\n",
    "\n",
    "            for (op, data) in patch.diffs:\n",
    "                data_length = data.count('\\n')\n",
    "\n",
    "                if op == diff_match_patch.DIFF_INSERT:\n",
    "                    elems |= self.changed_elems(old_mapping, old_start_line)\n",
    "                    elems |= self.changed_elems(new_mapping, new_start_line,\n",
    "                                                 data_length)\n",
    "                elif op == diff_match_patch.DIFF_DELETE:\n",
    "                    elems |= self.changed_elems(old_mapping, old_start_line, \n",
    "                                                 data_length)\n",
    "                    elems |= self.changed_elems(new_mapping, new_start_line)\n",
    "\n",
    "                old_start_line += data_length\n",
    "                new_start_line += data_length\n",
    "\n",
    "        for elem in elems:\n",
    "            elem_node = node + (elem,)\n",
    "\n",
    "            self.update_size(elem_node,\n",
    "                             self.elem_size(elem, new_mapping, new_source))\n",
    "            self.update_changes(elem_node, m.msg)"
   ]
  },
  {
   "cell_type": "code",
   "execution_count": null,
   "metadata": {},
   "outputs": [],
   "source": [
    "with Timer() as t:\n",
    "    fine_change_counter = debuggingbook_change_counter(FineChangeCounter)\n",
    "\n",
    "t.elapsed_time()"
   ]
  },
  {
   "cell_type": "code",
   "execution_count": null,
   "metadata": {},
   "outputs": [],
   "source": [
    "fine_change_counter.map()"
   ]
  },
  {
   "cell_type": "markdown",
   "metadata": {},
   "source": [
    "## Synopsis"
   ]
  },
  {
   "cell_type": "markdown",
   "metadata": {},
   "source": [
    "_For those only interested in using the code in this chapter (without wanting to know how it works), give an example.  This will be copied to the beginning of the chapter (before the first section) as text with rendered input and output._"
   ]
  },
  {
   "cell_type": "code",
   "execution_count": null,
   "metadata": {},
   "outputs": [],
   "source": [
    "# ignore\n",
    "from ClassDiagram import display_class_hierarchy"
   ]
  },
  {
   "cell_type": "code",
   "execution_count": null,
   "metadata": {},
   "outputs": [],
   "source": [
    "# ignore\n",
    "display_class_hierarchy([FineChangeCounter, FixCounter],\n",
    "                        central_methods=[\n",
    "                            ChangeCounter.__init__,\n",
    "                            ChangeCounter.map,\n",
    "                            ChangeCounter.include,\n",
    "                            ChangeCounter.map_hoverinfo,\n",
    "                            ChangeCounter.map_colorscale,\n",
    "                            ChangeCounter.map_node_sizes,\n",
    "                            ChangeCounter.map_node_text,\n",
    "                            ChangeCounter.update_elems,\n",
    "                            ChangeCounter.update_size,\n",
    "                            ChangeCounter.update_changes,\n",
    "                            FineChangeCounter.include,\n",
    "                            FixCounter.include\n",
    "                        ],\n",
    "                        project='debuggingbook')"
   ]
  },
  {
   "cell_type": "markdown",
   "metadata": {
    "button": false,
    "new_sheet": true,
    "run_control": {
     "read_only": false
    }
   },
   "source": [
    "## Lessons Learned\n",
    "\n",
    "* _Lesson one_\n",
    "* _Lesson two_\n",
    "* _Lesson three_"
   ]
  },
  {
   "cell_type": "markdown",
   "metadata": {
    "button": false,
    "new_sheet": false,
    "run_control": {
     "read_only": false
    }
   },
   "source": [
    "## Next Steps\n",
    "\n",
    "_Link to subsequent chapters (notebooks) here, as in:_"
   ]
  },
  {
   "cell_type": "markdown",
   "metadata": {},
   "source": [
    "## Background\n",
    "\n",
    "_Cite relevant works in the literature and put them into context, as in:_\n",
    "\n",
    "The idea of ensuring that each expansion in the grammar is used at least once goes back to Burkhardt \\cite{Burkhardt1967}, to be later rediscovered by Paul Purdom \\cite{Purdom1972}."
   ]
  },
  {
   "cell_type": "markdown",
   "metadata": {
    "button": false,
    "new_sheet": true,
    "run_control": {
     "read_only": false
    }
   },
   "source": [
    "## Exercises\n",
    "\n",
    "_Close the chapter with a few exercises such that people have things to do.  To make the solutions hidden (to be revealed by the user), have them start with_\n",
    "\n",
    "```\n",
    "**Solution.**\n",
    "```\n",
    "\n",
    "_Your solution can then extend up to the next title (i.e., any markdown cell starting with `#`)._\n",
    "\n",
    "_Running `make metadata` will automatically add metadata to the cells such that the cells will be hidden by default, and can be uncovered by the user.  The button will be introduced above the solution._"
   ]
  },
  {
   "cell_type": "markdown",
   "metadata": {
    "button": false,
    "new_sheet": false,
    "run_control": {
     "read_only": false
    }
   },
   "source": [
    "### Exercise 1: _Title_\n",
    "\n",
    "_Text of the exercise_"
   ]
  },
  {
   "cell_type": "code",
   "execution_count": null,
   "metadata": {
    "cell_style": "center"
   },
   "outputs": [],
   "source": [
    "# Some code that is part of the exercise\n",
    "pass"
   ]
  },
  {
   "cell_type": "markdown",
   "metadata": {
    "solution2": "hidden",
    "solution2_first": true
   },
   "source": [
    "_Some more text for the exercise_"
   ]
  },
  {
   "cell_type": "markdown",
   "metadata": {
    "slideshow": {
     "slide_type": "skip"
    },
    "solution2": "hidden"
   },
   "source": [
    "**Solution.** _Some text for the solution_"
   ]
  },
  {
   "cell_type": "code",
   "execution_count": null,
   "metadata": {
    "cell_style": "split",
    "slideshow": {
     "slide_type": "skip"
    },
    "solution2": "hidden"
   },
   "outputs": [],
   "source": [
    "# Some code for the solution\n",
    "2 + 2"
   ]
  },
  {
   "cell_type": "markdown",
   "metadata": {
    "slideshow": {
     "slide_type": "skip"
    },
    "solution2": "hidden"
   },
   "source": [
    "_Some more text for the solution_"
   ]
  },
  {
   "cell_type": "markdown",
   "metadata": {
    "button": false,
    "new_sheet": false,
    "run_control": {
     "read_only": false
    },
    "solution": "hidden",
    "solution2": "hidden",
    "solution2_first": true,
    "solution_first": true
   },
   "source": [
    "### Exercise 2: _Title_\n",
    "\n",
    "_Text of the exercise_"
   ]
  },
  {
   "cell_type": "markdown",
   "metadata": {
    "button": false,
    "new_sheet": false,
    "run_control": {
     "read_only": false
    },
    "slideshow": {
     "slide_type": "skip"
    },
    "solution": "hidden",
    "solution2": "hidden"
   },
   "source": [
    "**Solution.** _Solution for the exercise_"
   ]
  }
 ],
 "metadata": {
  "ipub": {
   "bibliography": "fuzzingbook.bib",
   "toc": true
  },
  "kernelspec": {
   "display_name": "Python 3",
   "language": "python",
   "name": "python3"
  },
  "language_info": {
   "codemirror_mode": {
    "name": "ipython",
    "version": 3
   },
   "file_extension": ".py",
   "mimetype": "text/x-python",
   "name": "python",
   "nbconvert_exporter": "python",
   "pygments_lexer": "ipython3",
   "version": "3.6.10"
  },
  "toc": {
   "base_numbering": 1,
   "nav_menu": {},
   "number_sections": true,
   "sideBar": true,
   "skip_h1_title": true,
   "title_cell": "",
   "title_sidebar": "Contents",
   "toc_cell": false,
   "toc_position": {},
   "toc_section_display": true,
   "toc_window_display": true
  },
  "toc-autonumbering": false
 },
 "nbformat": 4,
 "nbformat_minor": 4
}
