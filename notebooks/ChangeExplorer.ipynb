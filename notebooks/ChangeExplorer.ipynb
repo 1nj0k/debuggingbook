{
 "cells": [
  {
   "cell_type": "markdown",
   "metadata": {
    "button": false,
    "new_sheet": false,
    "run_control": {
     "read_only": false
    }
   },
   "source": [
    "# Where the Bugs are\n",
    "\n",
    "Every time a bug is fixed, developers leave a trace – in the _version database_ when they commit the fix, or in the _bug database_ when they close the bug. In this chapter, we learn how to _mine these repositories_ for past changes and bugs, and how to _map_ them to individual modules and functions, highlighting those project components that have seen most changes and fixes over time."
   ]
  },
  {
   "cell_type": "code",
   "execution_count": null,
   "metadata": {},
   "outputs": [],
   "source": [
    "from bookutils import YouTubeVideo\n",
    "# YouTubeVideo(\"w4u5gCgPlmg\")"
   ]
  },
  {
   "cell_type": "markdown",
   "metadata": {
    "button": false,
    "new_sheet": false,
    "run_control": {
     "read_only": false
    }
   },
   "source": [
    "**Prerequisites**\n",
    "\n",
    "* You should have read [the chapter on tracking bugs](Tracking.ipynb)."
   ]
  },
  {
   "cell_type": "code",
   "execution_count": null,
   "metadata": {
    "button": false,
    "new_sheet": false,
    "run_control": {
     "read_only": false
    },
    "slideshow": {
     "slide_type": "skip"
    }
   },
   "outputs": [],
   "source": [
    "import bookutils"
   ]
  },
  {
   "cell_type": "code",
   "execution_count": null,
   "metadata": {},
   "outputs": [],
   "source": [
    "import Tracking"
   ]
  },
  {
   "cell_type": "markdown",
   "metadata": {
    "slideshow": {
     "slide_type": "skip"
    }
   },
   "source": [
    "## Synopsis\n",
    "<!-- Automatically generated. Do not edit. -->\n",
    "\n",
    "To [use the code provided in this chapter](Importing.ipynb), write\n",
    "\n",
    "```python\n",
    ">>> from debuggingbook.ChangeExplorer import <identifier>\n",
    "```\n",
    "\n",
    "and then make use of the following features.\n",
    "\n",
    "\n",
    "_For those only interested in using the code in this chapter (without wanting to know how it works), give an example.  This will be copied to the beginning of the chapter (before the first section) as text with rendered input and output._\n",
    "\n",
    "\n",
    "![](PICS/ChangeExplorer-synopsis-1.svg)\n",
    "\n"
   ]
  },
  {
   "cell_type": "markdown",
   "metadata": {
    "button": false,
    "new_sheet": false,
    "run_control": {
     "read_only": false
    }
   },
   "source": [
    "## Mining Change Histories\n",
    "\n",
    "The history of any software project is a history of change. Any nontrivial project thus comes with a _version database_ to organize and track changes; and possibly also with an [issue database](Tracking.ipynb) to organize and track issues.\n",
    "\n",
    "Over time, these databases hold plenty of information about the project: _Who changed what, when, and why?_ This information can be _mined_ from existing databases and _analyzed_ to answer questions such as\n",
    "\n",
    "* Which parts in my project were most frequently or recently changed?\n",
    "* How many files does the average change touch?\n",
    "* Where in my project were the most bugs fixed?"
   ]
  },
  {
   "cell_type": "markdown",
   "metadata": {},
   "source": [
    "To answer such questions, we can _mine_ change and bug histories for past changes and fixes. This involves digging through version databases such as `git` and [issue trackers such as RedMine or Bugzilla](Tracking.ipynb) and extracting all their information. Fortunately for us, there is ready-made infrastructure for some of this. "
   ]
  },
  {
   "cell_type": "markdown",
   "metadata": {},
   "source": [
    "## Mining with PyDriller"
   ]
  },
  {
   "cell_type": "markdown",
   "metadata": {},
   "source": [
    "[PyDriller](https://pydriller.readthedocs.io/) is a Python package for mining change histories. Its `RepositoryMining` class takes a `git` version repository and allows to access all the individual changes (\"modifications\"), together with committers, affected files, commit messages, and more."
   ]
  },
  {
   "cell_type": "code",
   "execution_count": null,
   "metadata": {},
   "outputs": [],
   "source": [
    "from pydriller import RepositoryMining  # https://pydriller.readthedocs.io/"
   ]
  },
  {
   "cell_type": "markdown",
   "metadata": {},
   "source": [
    "To use `RepositoryMining`, we need to pass it \n",
    "* the URL of a `git` repository; or\n",
    "* the directory name where a cloned `git` repository can be found.\n",
    "\n",
    "In general, cloning a `git` repository locally (with `git clone URL`) and then analyzing it locally will be faster and require less network resources."
   ]
  },
  {
   "cell_type": "markdown",
   "metadata": {},
   "source": [
    "Let us apply `RepositoryMining` on the repository of this book. The function `current_repo()` returns the directory in which a `.git` subdirectory is stored – that is, the root of a cloned `git` repository."
   ]
  },
  {
   "cell_type": "code",
   "execution_count": null,
   "metadata": {},
   "outputs": [],
   "source": [
    "import os"
   ]
  },
  {
   "cell_type": "code",
   "execution_count": null,
   "metadata": {},
   "outputs": [],
   "source": [
    "def current_repo():\n",
    "    path = os.getcwd()\n",
    "    while True:\n",
    "        if os.path.exists(os.path.join(path, '.git')):\n",
    "            return os.path.normpath(path)\n",
    "        \n",
    "        # Go one level up\n",
    "        new_path = os.path.normpath(os.path.join(path, '..'))\n",
    "        if new_path != path:\n",
    "            path = new_path\n",
    "        else:\n",
    "            return None\n",
    "    \n",
    "    return None     "
   ]
  },
  {
   "cell_type": "code",
   "execution_count": null,
   "metadata": {},
   "outputs": [],
   "source": [
    "current_repo()"
   ]
  },
  {
   "cell_type": "markdown",
   "metadata": {},
   "source": [
    "This gives us a repository miner for the book:"
   ]
  },
  {
   "cell_type": "code",
   "execution_count": null,
   "metadata": {},
   "outputs": [],
   "source": [
    "book_miner = RepositoryMining(current_repo())"
   ]
  },
  {
   "cell_type": "markdown",
   "metadata": {},
   "source": [
    "`traverse_commits()` is a generator that returns one commit after another. Let us fetch the very first commit made to the book:"
   ]
  },
  {
   "cell_type": "code",
   "execution_count": null,
   "metadata": {},
   "outputs": [],
   "source": [
    "book_commits = book_miner.traverse_commits()\n",
    "book_first_commit = next(book_commits)"
   ]
  },
  {
   "cell_type": "markdown",
   "metadata": {},
   "source": [
    "Each commit has a number of attributes telling us more about the commit."
   ]
  },
  {
   "cell_type": "code",
   "execution_count": null,
   "metadata": {},
   "outputs": [],
   "source": [
    "[attr for attr in dir(book_first_commit) if not attr.startswith('_')]"
   ]
  },
  {
   "cell_type": "markdown",
   "metadata": {},
   "source": [
    "For instance, the `msg` attribute lets us know about the commit message:"
   ]
  },
  {
   "cell_type": "code",
   "execution_count": null,
   "metadata": {},
   "outputs": [],
   "source": [
    "book_first_commit.msg"
   ]
  },
  {
   "cell_type": "markdown",
   "metadata": {},
   "source": [
    "whereas the `author` attribute gets us the name and email of the person who made the commit:"
   ]
  },
  {
   "cell_type": "code",
   "execution_count": null,
   "metadata": {},
   "outputs": [],
   "source": [
    "[attr for attr in dir(book_first_commit.author) if not attr.startswith('_')]"
   ]
  },
  {
   "cell_type": "code",
   "execution_count": null,
   "metadata": {},
   "outputs": [],
   "source": [
    "book_first_commit.author.name, book_first_commit.author.email"
   ]
  },
  {
   "cell_type": "markdown",
   "metadata": {},
   "source": [
    "A commit consists of multiple _modifications_ to possibly multiple files. The commit `modifications` attribute returns a list of modifications."
   ]
  },
  {
   "cell_type": "code",
   "execution_count": null,
   "metadata": {},
   "outputs": [],
   "source": [
    "book_first_commit.modifications"
   ]
  },
  {
   "cell_type": "markdown",
   "metadata": {},
   "source": [
    "For each modification, we can retrieve the files involved as well as several statistics:"
   ]
  },
  {
   "cell_type": "code",
   "execution_count": null,
   "metadata": {},
   "outputs": [],
   "source": [
    "[attr for attr in dir(book_first_commit.modifications[0]) if not attr.startswith('_')]"
   ]
  },
  {
   "cell_type": "markdown",
   "metadata": {},
   "source": [
    "Let us see which file was created with this modification:"
   ]
  },
  {
   "cell_type": "code",
   "execution_count": null,
   "metadata": {},
   "outputs": [],
   "source": [
    "book_first_commit.modifications[0].new_path"
   ]
  },
  {
   "cell_type": "markdown",
   "metadata": {},
   "source": [
    "The `source_code` attribute holds the entire file contents after the modification."
   ]
  },
  {
   "cell_type": "code",
   "execution_count": null,
   "metadata": {},
   "outputs": [],
   "source": [
    "print(book_first_commit.modifications[0].source_code)"
   ]
  },
  {
   "cell_type": "markdown",
   "metadata": {},
   "source": [
    "We see that the `debuggingbook` project started with a very simple commit, namely the addition of an (almost empty) `README.md` file."
   ]
  },
  {
   "cell_type": "markdown",
   "metadata": {},
   "source": [
    "The attribute `source_code_before` holds the previous source code. We see that it is `None` – the file was just created."
   ]
  },
  {
   "cell_type": "code",
   "execution_count": null,
   "metadata": {},
   "outputs": [],
   "source": [
    "print(book_first_commit.modifications[0].source_code_before)"
   ]
  },
  {
   "cell_type": "markdown",
   "metadata": {},
   "source": [
    "Let us have a look at the _second_ commit. We see that it is much more substantial already."
   ]
  },
  {
   "cell_type": "code",
   "execution_count": null,
   "metadata": {},
   "outputs": [],
   "source": [
    "book_second_commit = next(book_commits)"
   ]
  },
  {
   "cell_type": "code",
   "execution_count": null,
   "metadata": {},
   "outputs": [],
   "source": [
    "[m.new_path for m in book_second_commit.modifications]"
   ]
  },
  {
   "cell_type": "markdown",
   "metadata": {},
   "source": [
    "We fetch the modification for the `README.md` file:"
   ]
  },
  {
   "cell_type": "code",
   "execution_count": null,
   "metadata": {},
   "outputs": [],
   "source": [
    "readme_modification = [m for m in book_second_commit.modifications if m.new_path == 'README.md'][0]"
   ]
  },
  {
   "cell_type": "markdown",
   "metadata": {},
   "source": [
    "The `source_code_before` attribute holds the previous version (which we already have seen):"
   ]
  },
  {
   "cell_type": "code",
   "execution_count": null,
   "metadata": {},
   "outputs": [],
   "source": [
    "print(readme_modification.source_code_before)"
   ]
  },
  {
   "cell_type": "markdown",
   "metadata": {},
   "source": [
    "The `source_code` attribute holds the new version – now a complete \"README\" file. (Compare this first version to the [current README text](index.ipynb).)"
   ]
  },
  {
   "cell_type": "code",
   "execution_count": null,
   "metadata": {},
   "outputs": [],
   "source": [
    "print(readme_modification.source_code[:400])"
   ]
  },
  {
   "cell_type": "markdown",
   "metadata": {},
   "source": [
    "The `diff` attribute holds the differences between the old and the new version."
   ]
  },
  {
   "cell_type": "code",
   "execution_count": null,
   "metadata": {},
   "outputs": [],
   "source": [
    "print(readme_modification.diff[:100])"
   ]
  },
  {
   "cell_type": "markdown",
   "metadata": {},
   "source": [
    "The `diff_parsed` attribute even lists added and deleted lines:"
   ]
  },
  {
   "cell_type": "code",
   "execution_count": null,
   "metadata": {},
   "outputs": [],
   "source": [
    "readme_modification.diff_parsed['added'][:10]"
   ]
  },
  {
   "cell_type": "markdown",
   "metadata": {},
   "source": [
    "With all this information, we can track all commits and modifications and establish statistics over which files were changed (and possibly even fixed) most. This is what we will do in the next section."
   ]
  },
  {
   "cell_type": "markdown",
   "metadata": {},
   "source": [
    "## Counting Changes\n",
    "\n",
    "We start with a simple `ChangeCounter` class that, given a repository, counts for each file how frequently it was changed."
   ]
  },
  {
   "cell_type": "markdown",
   "metadata": {},
   "source": [
    "The constructor takes the repository to be analyzed and sets the internal counters:"
   ]
  },
  {
   "cell_type": "code",
   "execution_count": null,
   "metadata": {},
   "outputs": [],
   "source": [
    "class ChangeCounter:\n",
    "    \"\"\"Count the number of changes for a repository.\"\"\"\n",
    "    \n",
    "    def __init__(self, repo, filter=None, log=False, **kwargs):\n",
    "        \"\"\"Constructor. `repo` is a git repository (as URL or directory).\n",
    "`filter` is a predicate that takes a modification and returns True \n",
    "  if it should be considered (default: consider all).\n",
    "`log` turns on logging if set.\n",
    "`kwargs` are passed to the `RepositoryMining()` constructor.\"\"\"\n",
    "        self.repo = repo\n",
    "        self.log = log\n",
    "\n",
    "        if filter is None:\n",
    "            filter = lambda m: True\n",
    "        self.filter = filter\n",
    "\n",
    "        # A node is an tuple (f_1, f_2, f_3, ..., f_n) denoting\n",
    "        # a folder f_1 holding a folder f_2 ... holding a file f_n\n",
    "        self.changes = {}    # Mapping node -> #of changes\n",
    "        self.messages = {}   # Mapping node -> list of commit messages\n",
    "        self.sizes = {}      # Mapping node -> last size seen\n",
    "        self.hashes = set()  # All hashes already considered\n",
    "\n",
    "        self.mine(**kwargs)"
   ]
  },
  {
   "cell_type": "markdown",
   "metadata": {},
   "source": [
    "The method `mine()` does all the heavy lifting of mining. It retrieves all commits and all modifications from the repository, passing the modifications through the `update_stats()` method."
   ]
  },
  {
   "cell_type": "code",
   "execution_count": null,
   "metadata": {},
   "outputs": [],
   "source": [
    "class ChangeCounter(ChangeCounter):\n",
    "    def mine(self, **kwargs):\n",
    "        \"\"\"Gather data from repository. To be extended in subclasses.\"\"\"\n",
    "        miner = RepositoryMining(self.repo, **kwargs)\n",
    "\n",
    "        for commit in miner.traverse_commits():\n",
    "            for m in commit.modifications:\n",
    "                m.hash = commit.hash\n",
    "                m.committer = commit.committer\n",
    "                m.committer_date = commit.committer_date\n",
    "                m.msg = commit.msg\n",
    "\n",
    "                if self.include(m):\n",
    "                    self.update_stats(m)"
   ]
  },
  {
   "cell_type": "markdown",
   "metadata": {},
   "source": [
    "The `include()` method allows to filter modifications. For simplicity, we copy the most relevant attributes of the commit over to the modification, such that the filter can access them, too."
   ]
  },
  {
   "cell_type": "code",
   "execution_count": null,
   "metadata": {},
   "outputs": [],
   "source": [
    "class ChangeCounter(ChangeCounter):\n",
    "    def include(self, m):\n",
    "        \"\"\"Return True if the modification `m` should be included\n",
    "(default: the `filter` predicate given to the constructor).\n",
    "To be overloaded in subclasses.\"\"\"\n",
    "        return self.filter(m)"
   ]
  },
  {
   "cell_type": "markdown",
   "metadata": {},
   "source": [
    "The `update_stats()` method is the method that does the counting. It takes a modification converts the file name into a _node_ – a tuple $(f_1, f_2, ..., f_n)$ that denotes a _hierarchy_: Each $f_i$ is a directory holding $f_{i+1}$, with $f_n$ being the actual file. Here is what this notebook looks as a node:"
   ]
  },
  {
   "cell_type": "code",
   "execution_count": null,
   "metadata": {},
   "outputs": [],
   "source": [
    "tuple('debuggingbook/notebooks/ChangeExplorer.ipynb'.split('/'))"
   ]
  },
  {
   "cell_type": "markdown",
   "metadata": {},
   "source": [
    "For each such node, `update_stats()` then invokes `update_size()`, `update_changes()`, and `update_elems()`."
   ]
  },
  {
   "cell_type": "code",
   "execution_count": null,
   "metadata": {},
   "outputs": [],
   "source": [
    "class ChangeCounter(ChangeCounter):\n",
    "    def update_stats(self, m):\n",
    "        \"\"\"Update counters with modification `m`. Can be extended in subclasses.\"\"\"\n",
    "        if not m.new_path:\n",
    "            return\n",
    "\n",
    "        node = tuple(m.new_path.split('/'))\n",
    "\n",
    "        if m.hash not in self.hashes:\n",
    "            self.hashes.add(m.hash)\n",
    "            self.update_size(node, len(m.source_code) if m.source_code else 0)\n",
    "            self.update_changes(node, m.msg)\n",
    "\n",
    "        self.update_elems(node, m)"
   ]
  },
  {
   "cell_type": "markdown",
   "metadata": {},
   "source": [
    "`update_size()` simply saves the last size of the item being modified. Since we progress from first to last commit, this reflects the size of the newest version."
   ]
  },
  {
   "cell_type": "code",
   "execution_count": null,
   "metadata": {},
   "outputs": [],
   "source": [
    "class ChangeCounter(ChangeCounter):\n",
    "    def update_size(self, node, size):\n",
    "        \"\"\"Update counters for `node` with `size`. Can be extended in subclasses.\"\"\"\n",
    "        self.sizes[node] = size"
   ]
  },
  {
   "cell_type": "markdown",
   "metadata": {},
   "source": [
    "`update_changes()` increases the counter `changes` for the given node `node`, and adds the current commit message `commit_msg` to its list. This makes\n",
    "\n",
    "* `size` a mapping of nodes to their size\n",
    "* `changes` a mapping of nodes to the number of changes they have seen\n",
    "* `commit_msg` a mapping of nodes to the list of commit messages that have affected them."
   ]
  },
  {
   "cell_type": "code",
   "execution_count": null,
   "metadata": {},
   "outputs": [],
   "source": [
    "class ChangeCounter(ChangeCounter):\n",
    "    def update_changes(self, node, commit_msg):\n",
    "        \"\"\"Update stats for `node` changed with `commit_msg`.\n",
    "Can be extended in subclasses.\"\"\"\n",
    "        self.changes.setdefault(node, 0)\n",
    "        self.changes[node] += 1\n",
    "\n",
    "        self.messages.setdefault(node, [])\n",
    "        self.messages[node].append(commit_msg)"
   ]
  },
  {
   "cell_type": "markdown",
   "metadata": {},
   "source": [
    "The `update_elems()` method is reserved for later use, when we go and count fine-grained changes."
   ]
  },
  {
   "cell_type": "code",
   "execution_count": null,
   "metadata": {},
   "outputs": [],
   "source": [
    "class ChangeCounter(ChangeCounter):\n",
    "    def update_elems(self, node, m):\n",
    "        \"\"\"Update counters for subelements of `node` with modification `m`.\n",
    "To be defined in subclasses.\"\"\"\n",
    "        pass"
   ]
  },
  {
   "cell_type": "markdown",
   "metadata": {},
   "source": [
    "Let us put `ChangeCounter` to action – on the current (debuggingbook) repository."
   ]
  },
  {
   "cell_type": "code",
   "execution_count": null,
   "metadata": {},
   "outputs": [],
   "source": [
    "DEBUGGINGBOOK_REPO = current_repo()"
   ]
  },
  {
   "cell_type": "code",
   "execution_count": null,
   "metadata": {},
   "outputs": [],
   "source": [
    "DEBUGGINGBOOK_REPO"
   ]
  },
  {
   "cell_type": "markdown",
   "metadata": {},
   "source": [
    "You can also specify a URL instead, but this will access the repository via the network and generally be much slower."
   ]
  },
  {
   "cell_type": "code",
   "execution_count": null,
   "metadata": {},
   "outputs": [],
   "source": [
    "# DEBUGGINGBOOK_REPO = 'https://github.com/uds-se/debuggingbook.git'"
   ]
  },
  {
   "cell_type": "markdown",
   "metadata": {},
   "source": [
    "The function `debuggingbook_change_counter` instantiates a `ChangeCounter` class (or any subclass) with the debuggingbook repository, mining all the counters as listed above."
   ]
  },
  {
   "cell_type": "code",
   "execution_count": null,
   "metadata": {},
   "outputs": [],
   "source": [
    "def debuggingbook_change_counter(cls):\n",
    "    \"\"\"Instantiate a ChangeCounter (sub)class `cls` with the debuggingbook repo\"\"\"\n",
    "    \n",
    "    def filter(m):\n",
    "        \"\"\"Do not include the `docs/` directory; it only holds Web pages\"\"\"\n",
    "        return m.new_path and not m.new_path.startswith('docs/')\n",
    "\n",
    "    return cls(DEBUGGINGBOOK_REPO, filter=filter)"
   ]
  },
  {
   "cell_type": "markdown",
   "metadata": {},
   "source": [
    "Let us set `change_counter` to this `ChangeCounter` instance. This can take a few minutes."
   ]
  },
  {
   "cell_type": "code",
   "execution_count": null,
   "metadata": {},
   "outputs": [],
   "source": [
    "from Timer import Timer"
   ]
  },
  {
   "cell_type": "code",
   "execution_count": null,
   "metadata": {},
   "outputs": [],
   "source": [
    "with Timer() as t:\n",
    "    change_counter = debuggingbook_change_counter(ChangeCounter)\n",
    "\n",
    "t.elapsed_time()"
   ]
  },
  {
   "cell_type": "markdown",
   "metadata": {},
   "source": [
    "The attribute `changes` of our `ChangeCounter` now is a mapping of nodes to the respective number of changes. Here are the first 10 entries:"
   ]
  },
  {
   "cell_type": "code",
   "execution_count": null,
   "metadata": {},
   "outputs": [],
   "source": [
    "list(change_counter.changes.keys())[:10]"
   ]
  },
  {
   "cell_type": "markdown",
   "metadata": {},
   "source": [
    "This is the number of changes to the `Chapters.makefile` file which lists the book chapters:"
   ]
  },
  {
   "cell_type": "code",
   "execution_count": null,
   "metadata": {
    "tags": [
     "outputPrepend"
    ]
   },
   "outputs": [],
   "source": [
    "change_counter.changes[('Chapters.makefile',)]"
   ]
  },
  {
   "cell_type": "markdown",
   "metadata": {},
   "source": [
    "The `messages` attribute holds all the messages:"
   ]
  },
  {
   "cell_type": "code",
   "execution_count": null,
   "metadata": {
    "tags": [
     "outputPrepend"
    ]
   },
   "outputs": [],
   "source": [
    "change_counter.messages[('Chapters.makefile',)]"
   ]
  },
  {
   "cell_type": "code",
   "execution_count": null,
   "metadata": {},
   "outputs": [],
   "source": [
    "for node in change_counter.changes:\n",
    "    assert len(change_counter.messages[node]) == change_counter.changes[node]"
   ]
  },
  {
   "cell_type": "markdown",
   "metadata": {},
   "source": [
    "The `sizes` attribute holds the final size:"
   ]
  },
  {
   "cell_type": "code",
   "execution_count": null,
   "metadata": {
    "tags": [
     "outputPrepend"
    ]
   },
   "outputs": [],
   "source": [
    "change_counter.sizes[('Chapters.makefile',)]"
   ]
  },
  {
   "cell_type": "markdown",
   "metadata": {},
   "source": [
    "## Visualizing Past Changes"
   ]
  },
  {
   "cell_type": "markdown",
   "metadata": {},
   "source": [
    "To explore the number of changes across all project files, we visualize them as a _tree map_. A tree map visualizes hierarchical data using nested rectangles. In our visualization, each directory is shown as a rectangle containing smaller rectangles. The _size_ of a rectangle is relative to its size (in bytes); and the _color_ of a rectangle is relative to the number of changes it has seen."
   ]
  },
  {
   "cell_type": "markdown",
   "metadata": {},
   "source": [
    "We use the [easyplotly](https://github.com/mwouts/easyplotly) package to easily create a treemap."
   ]
  },
  {
   "cell_type": "code",
   "execution_count": null,
   "metadata": {},
   "outputs": [],
   "source": [
    "import easyplotly as ep\n",
    "import plotly.graph_objects as go"
   ]
  },
  {
   "cell_type": "code",
   "execution_count": null,
   "metadata": {},
   "outputs": [],
   "source": [
    "import math"
   ]
  },
  {
   "cell_type": "markdown",
   "metadata": {},
   "source": [
    "The method `map_node_sizes()` returns a size for the node – any number will do. By default, we use a logarithmic scale, such that smaller files are not totally visually eclipsed by larger files."
   ]
  },
  {
   "cell_type": "code",
   "execution_count": null,
   "metadata": {},
   "outputs": [],
   "source": [
    "class ChangeCounter(ChangeCounter):\n",
    "    def map_node_sizes(self):\n",
    "        \"\"\"Return a mapping of nodes to sizes. Can be overloaded in subclasses.\"\"\"\n",
    "        # Default: use log scale\n",
    "        return {node: math.log(self.sizes[node]) if self.sizes[node] else 0\n",
    "             for node in self.sizes}\n",
    "\n",
    "        # Alternative: use sqrt size\n",
    "        return {node: math.sqrt(self.sizes[node]) for node in self.sizes}\n",
    "\n",
    "        # Alternative: use absolute size\n",
    "        return self.sizes"
   ]
  },
  {
   "cell_type": "markdown",
   "metadata": {},
   "source": [
    "The method `map_node_color()` returns a color for the node – again, as a number. The smallest and largest numbers returned indicate beginning and end in the given color scale, respectively."
   ]
  },
  {
   "cell_type": "code",
   "execution_count": null,
   "metadata": {},
   "outputs": [],
   "source": [
    "class ChangeCounter(ChangeCounter):\n",
    "    def map_node_color(self, node):\n",
    "        \"\"\"Return a color of the node, as a number. Can be overloaded in subclasses.\"\"\"\n",
    "        if node and node in self.changes:\n",
    "            return self.changes[node]\n",
    "        return None"
   ]
  },
  {
   "cell_type": "markdown",
   "metadata": {},
   "source": [
    "The method `map_node_text()` shows a text to be displayed in the rectangle; we set this to the number of changes."
   ]
  },
  {
   "cell_type": "code",
   "execution_count": null,
   "metadata": {},
   "outputs": [],
   "source": [
    "class ChangeCounter(ChangeCounter):\n",
    "    def map_node_text(self, node):\n",
    "        \"\"\"Return the text to be shown for the node (default: #changes). \n",
    "Can be overloaded in subclasses.\"\"\"\n",
    "        if node and node in self.changes:\n",
    "            return self.changes[node]\n",
    "        return None"
   ]
  },
  {
   "cell_type": "markdown",
   "metadata": {},
   "source": [
    "The methods `map_hoverinfo()` and `map_colorscale()` set additional map parameters. For details, see the [easyplotly](https://github.com/mwouts/easyplotly) documentation."
   ]
  },
  {
   "cell_type": "code",
   "execution_count": null,
   "metadata": {},
   "outputs": [],
   "source": [
    "class ChangeCounter(ChangeCounter):\n",
    "    def map_hoverinfo(self):\n",
    "        \"\"\"Return the text to be shown when hovering over a node.\"\"\"\n",
    "        return 'label+text'\n",
    "\n",
    "    def map_colorscale(self):\n",
    "        \"\"\"Return the colorscale for the map.\"\"\"\n",
    "        return 'YlOrRd'"
   ]
  },
  {
   "cell_type": "markdown",
   "metadata": {},
   "source": [
    "With all this, the `map()` function creates a tree map of the repository, using the  [easyplotly](https://github.com/mwouts/easyplotly) `Treemap` constructor."
   ]
  },
  {
   "cell_type": "code",
   "execution_count": null,
   "metadata": {},
   "outputs": [],
   "source": [
    "class ChangeCounter(ChangeCounter):\n",
    "    def map(self):\n",
    "        \"\"\"Produce an interactive tree map of the repository.\"\"\"\n",
    "        treemap = ep.Treemap(\n",
    "                     self.map_node_sizes(),\n",
    "                     text=self.map_node_text,\n",
    "                     hoverinfo=self.map_hoverinfo(),\n",
    "                     marker_colors=self.map_node_color,\n",
    "                     marker_colorscale=self.map_colorscale(),\n",
    "                     root_label=self.repo,\n",
    "                     branchvalues='total'\n",
    "                    )\n",
    "\n",
    "        fig = go.Figure(treemap)\n",
    "        fig.update_layout(margin=dict(l=0, r=0, t=30, b=0))\n",
    "\n",
    "        return fig"
   ]
  },
  {
   "cell_type": "markdown",
   "metadata": {},
   "source": [
    "This is what the tree map for `debuggingbook` looks like. \n",
    "\n",
    "* Click on any rectangle to enlarge it.\n",
    "* Click outside of the rectangle to return to a wider view.\n",
    "* Hover over a rectangle to get further information."
   ]
  },
  {
   "cell_type": "code",
   "execution_count": null,
   "metadata": {},
   "outputs": [],
   "source": [
    "change_counter = debuggingbook_change_counter(ChangeCounter)"
   ]
  },
  {
   "cell_type": "code",
   "execution_count": null,
   "metadata": {},
   "outputs": [],
   "source": [
    "change_counter.map()"
   ]
  },
  {
   "cell_type": "markdown",
   "metadata": {},
   "source": [
    "We can easily identify the most frequently changed files:"
   ]
  },
  {
   "cell_type": "code",
   "execution_count": null,
   "metadata": {},
   "outputs": [],
   "source": [
    "all_nodes = list(change_counter.changes.keys())\n",
    "all_nodes.sort(key=lambda node: change_counter.changes[node], reverse=True)\n",
    "[(node, change_counter.changes[node]) for node in all_nodes[:4]]"
   ]
  },
  {
   "cell_type": "code",
   "execution_count": null,
   "metadata": {},
   "outputs": [],
   "source": [
    "# ignore\n",
    "all_notebooks = [node for node in change_counter.changes.keys()\n",
    "                 if len(node) == 2 and node[1].endswith('.ipynb')]\n",
    "all_notebooks.sort(key=lambda node: change_counter.changes[node], reverse=True)"
   ]
  },
  {
   "cell_type": "code",
   "execution_count": null,
   "metadata": {},
   "outputs": [],
   "source": [
    "from bookutils import quiz"
   ]
  },
  {
   "cell_type": "code",
   "execution_count": null,
   "metadata": {},
   "outputs": [],
   "source": [
    "quiz(\"Which two notebooks have seen the most changes over time?\",\n",
    "    [\n",
    "        f\"`{all_notebooks[3][1].split('.')[0]}`\",\n",
    "        f\"`{all_notebooks[1][1].split('.')[0]}`\",\n",
    "        f\"`{all_notebooks[2][1].split('.')[0]}`\",\n",
    "        f\"`{all_notebooks[0][1].split('.')[0]}`\",\n",
    "    ], [1234 % 3, 3702 / 1234])"
   ]
  },
  {
   "cell_type": "markdown",
   "metadata": {},
   "source": [
    "Indeed, these two are the two most frequently changed notebooks:"
   ]
  },
  {
   "cell_type": "code",
   "execution_count": null,
   "metadata": {},
   "outputs": [],
   "source": [
    "all_notebooks[0][1].split('.')[0], all_notebooks[1][1].split('.')[0]"
   ]
  },
  {
   "cell_type": "markdown",
   "metadata": {},
   "source": [
    "## Past Fixes\n",
    "\n",
    "Knowing which files have been changed most is useful in debugging, because any change increases the chance to introduce a new bug. Even more important, however, is the question of how frequently a file was _fixed_ in the past, as this is an important indicator for its bug-proneness."
   ]
  },
  {
   "cell_type": "markdown",
   "metadata": {},
   "source": [
    "(One may think that fixing several bugs _reduces_ the number of bugs, but unfortunately, a file which has seen several fixes in the past is likely to see fixes in the future, too. This is because the bug-proneness of a software component very much depends on the requirements it has to fulfill, and if these requirements are unclear, complex, or frequently change, this translates into many fixes.)"
   ]
  },
  {
   "cell_type": "markdown",
   "metadata": {},
   "source": [
    "How can we tell _changes_ from _fixes_? \n",
    "\n",
    "* One indicator is _commit messages_:\n",
    "  If they refer to \"bugs\" or \"fixes\", then the change is a fix.\n",
    "* Another indicator is _bug numbers_:\n",
    "  If a commit message contains an issue number from an associated issue database, then we can make use of the issue referred to.\n",
    "    * The issue database may provide us with additional information about the bug, such as its severity, how many people it was assigned to, how long it took to fix it, and more.\n",
    "* A final indicator is _time_:\n",
    "  If a developer first committed a change and in the same time frame marked an issue as \"resolved\", then it is likely that the two refer to each other.\n",
    "\n",
    "The way these two are linked very much depends on the project – and the discipline of developers as it comes to change messages. _Branches_ and _merges_ bring additional challenges."
   ]
  },
  {
   "cell_type": "markdown",
   "metadata": {},
   "source": [
    "For the `debuggingbook` project, identifying fixes is easy. The discipline is that if a change fixes a bug, it is prefixed with `Fix:`. We can use this to introduce a `FixCounter` class specific to our `debuggingbook` project."
   ]
  },
  {
   "cell_type": "code",
   "execution_count": null,
   "metadata": {},
   "outputs": [],
   "source": [
    "class FixCounter(ChangeCounter):\n",
    "    def include(self, m):\n",
    "        \"\"\"Include all modifications whose commit messages start with 'Fix:'\"\"\"\n",
    "        return super().include(m) and m and m.msg.startswith(\"Fix:\")"
   ]
  },
  {
   "cell_type": "markdown",
   "metadata": {},
   "source": [
    "As a twist to our default `ChangeCounter` class, we include the \"fix\" messages in the tree map rectangles."
   ]
  },
  {
   "cell_type": "code",
   "execution_count": null,
   "metadata": {},
   "outputs": [],
   "source": [
    "class FixCounter(FixCounter):\n",
    "    def map_node_text(self, node):\n",
    "        if node and node in self.messages:\n",
    "            return \"<br>\".join(self.messages[node])\n",
    "        return \"\"\n",
    "\n",
    "    def map_hoverinfo(self):\n",
    "        return 'label'"
   ]
  },
  {
   "cell_type": "markdown",
   "metadata": {},
   "source": [
    "This is the tree map showing fixes. We see that \n",
    "* only those components that actually have seen a fix are shown; and\n",
    "* the fix distribution differs from the change distribution."
   ]
  },
  {
   "cell_type": "code",
   "execution_count": null,
   "metadata": {},
   "outputs": [],
   "source": [
    "fix_counter = debuggingbook_change_counter(FixCounter)"
   ]
  },
  {
   "cell_type": "code",
   "execution_count": null,
   "metadata": {},
   "outputs": [],
   "source": [
    "fix_counter.map()"
   ]
  },
  {
   "cell_type": "markdown",
   "metadata": {},
   "source": [
    "## Fine-Grained Changes"
   ]
  },
  {
   "cell_type": "markdown",
   "metadata": {},
   "source": [
    "Our aim: get tuples that are go beyond just files.\n",
    "\n",
    "* For each file, get a listing of which elements are in which lines.\n",
    "* Then, for each diff, find out which elems are affected."
   ]
  },
  {
   "cell_type": "markdown",
   "metadata": {},
   "source": [
    "### Mapping Elements to Locations"
   ]
  },
  {
   "cell_type": "code",
   "execution_count": null,
   "metadata": {},
   "outputs": [],
   "source": [
    "import re"
   ]
  },
  {
   "cell_type": "code",
   "execution_count": null,
   "metadata": {},
   "outputs": [],
   "source": [
    "import magic  # https://github.com/ahupp/python-magic"
   ]
  },
  {
   "cell_type": "code",
   "execution_count": null,
   "metadata": {},
   "outputs": [],
   "source": [
    "magic.from_buffer('''\n",
    "#include <stdio.h>\n",
    "\n",
    "int main(int argc, char *argv[]) {\n",
    "    printf(\"Hello, world!\\n\")\n",
    "}\n",
    "''')"
   ]
  },
  {
   "cell_type": "markdown",
   "metadata": {},
   "source": [
    " Also see http://rigaux.org/language-study/syntax-across-languages.html"
   ]
  },
  {
   "cell_type": "code",
   "execution_count": null,
   "metadata": {},
   "outputs": [],
   "source": [
    "DELIMITERS = [\n",
    "    (\n",
    "        # Python\n",
    "        re.compile(r'^python.*'),\n",
    "\n",
    "        # Beginning of element\n",
    "        re.compile(r'^(async\\s+)?(def|class)\\s+(?P<name>\\w+)\\W.*'),\n",
    "\n",
    "        # End of element\n",
    "        re.compile(r'^[^#\\s]')\n",
    "    ),\n",
    "    (\n",
    "        # Jupyter Notebooks\n",
    "        re.compile(r'^(json|exported sgml|jupyter).*'),\n",
    "        re.compile(r'^\\s+\"(async\\s+)?(def|class)\\s+(?P<name>\\w+)\\W'),\n",
    "        re.compile(r'^(\\s+\"[^#\\s\\\\]|\\s+\\])')\n",
    "    ),\n",
    "    (\n",
    "        # C source code (actually, any { }-delimited language)\n",
    "        re.compile(r'^(c |c\\+\\+|c#|java|perl|php).*'),\n",
    "        re.compile(r'^[^\\s].*\\s+(?P<name>\\w+)\\s*[({].*'),\n",
    "        re.compile(r'^[}]')\n",
    "    )\n",
    "]"
   ]
  },
  {
   "cell_type": "code",
   "execution_count": null,
   "metadata": {},
   "outputs": [],
   "source": [
    "def rxdelim(s):\n",
    "    tp = magic.from_buffer(s).lower()\n",
    "    for rxtp, rxbegin, rxend in DELIMITERS:\n",
    "        if rxtp.match(tp):\n",
    "            return rxbegin, rxend\n",
    "\n",
    "    return None, None"
   ]
  },
  {
   "cell_type": "code",
   "execution_count": null,
   "metadata": {},
   "outputs": [],
   "source": [
    "def elem_mapping(s, log=False):\n",
    "    rxbegin, rxend = rxdelim(s)\n",
    "    if rxbegin is None:\n",
    "        return []\n",
    "\n",
    "    mapping = [None]\n",
    "    current_elem = None\n",
    "    lineno = 0\n",
    "\n",
    "    for line in s.split('\\n'):\n",
    "        lineno += 1\n",
    "\n",
    "        match = rxbegin.match(line)\n",
    "        if match:\n",
    "            current_elem = match.group('name')\n",
    "        elif rxend.match(line):\n",
    "            current_elem = None\n",
    "\n",
    "        mapping.append(current_elem)\n",
    "\n",
    "        if log:\n",
    "            print(f\"{lineno:3} {current_elem}\\t{line}\")\n",
    "\n",
    "    return mapping"
   ]
  },
  {
   "cell_type": "code",
   "execution_count": null,
   "metadata": {},
   "outputs": [],
   "source": [
    "some_c_source = \"\"\"\n",
    "#include <stdio.h>\n",
    "\n",
    "int foo(int x) {\n",
    "    return x;\n",
    "}\n",
    "\n",
    "struct bar {\n",
    "    int x, y;\n",
    "}\n",
    "\n",
    "int main(int argc, char *argv[]) {\n",
    "    return foo(argc);\n",
    "}\n",
    "\n",
    "\"\"\"\n",
    "some_c_mapping = elem_mapping(some_c_source, log=True)"
   ]
  },
  {
   "cell_type": "code",
   "execution_count": null,
   "metadata": {},
   "outputs": [],
   "source": [
    "some_python_source = \"\"\"\n",
    "def foo(x):\n",
    "    return x\n",
    "\n",
    "class bar(blue):\n",
    "    x = 25\n",
    "    def f(x):\n",
    "        return 26\n",
    "\n",
    "def main(argc):\n",
    "    return foo(argc)\n",
    "\n",
    "\"\"\"\n",
    "some_python_mapping = elem_mapping(some_python_source, log=True)"
   ]
  },
  {
   "cell_type": "code",
   "execution_count": null,
   "metadata": {},
   "outputs": [],
   "source": [
    "# some_jupyter_source = open(\"Slicer.ipynb\").read()\n",
    "# some_jupyter_mapping = elem_mapping(some_jupyter_source, log=False)"
   ]
  },
  {
   "cell_type": "markdown",
   "metadata": {},
   "source": [
    "### Determining Changed Elements"
   ]
  },
  {
   "cell_type": "code",
   "execution_count": null,
   "metadata": {},
   "outputs": [],
   "source": [
    "from ChangeDebugger import diff  # minor dependency"
   ]
  },
  {
   "cell_type": "code",
   "execution_count": null,
   "metadata": {},
   "outputs": [],
   "source": [
    "from diff_match_patch import diff_match_patch"
   ]
  },
  {
   "cell_type": "code",
   "execution_count": null,
   "metadata": {},
   "outputs": [],
   "source": [
    "class FineChangeCounter(ChangeCounter):\n",
    "    def changed_elems(self, mapping, start, length=0):\n",
    "        elems = set()\n",
    "        for line in range(start, start + length + 1):\n",
    "            if line < len(mapping) and mapping[line]:\n",
    "                elems.add(mapping[line])\n",
    "\n",
    "        return elems\n",
    "\n",
    "    def elem_size(self, elem, mapping, source):\n",
    "        source_lines = [''] + source.split('\\n')\n",
    "        size = 0\n",
    "\n",
    "        for line_no in range(len(mapping)):\n",
    "            if mapping[line_no] == elem:\n",
    "                size += len(source_lines[line_no])\n",
    "\n",
    "        return size"
   ]
  },
  {
   "cell_type": "code",
   "execution_count": null,
   "metadata": {},
   "outputs": [],
   "source": [
    "fine_change_counter = debuggingbook_change_counter(FineChangeCounter)"
   ]
  },
  {
   "cell_type": "code",
   "execution_count": null,
   "metadata": {},
   "outputs": [],
   "source": [
    "assert fine_change_counter.changed_elems(some_python_mapping, 4) == {'foo'}"
   ]
  },
  {
   "cell_type": "code",
   "execution_count": null,
   "metadata": {},
   "outputs": [],
   "source": [
    "assert fine_change_counter.changed_elems(some_python_mapping, 4, 1) == {'foo', 'bar'}"
   ]
  },
  {
   "cell_type": "code",
   "execution_count": null,
   "metadata": {},
   "outputs": [],
   "source": [
    "assert fine_change_counter.changed_elems(some_python_mapping, 10, 2) == {'main'}"
   ]
  },
  {
   "cell_type": "code",
   "execution_count": null,
   "metadata": {},
   "outputs": [],
   "source": [
    "class FineChangeCounter(FineChangeCounter):\n",
    "    def update_elems(self, node, m):\n",
    "        old_source = m.source_code_before if m.source_code_before else \"\"\n",
    "        new_source = m.source_code if m.source_code else \"\"\n",
    "        patches = diff(old_source, new_source)\n",
    "\n",
    "        old_mapping = elem_mapping(old_source)\n",
    "        new_mapping = elem_mapping(new_source)\n",
    "\n",
    "        elems = set()\n",
    "\n",
    "        for patch in patches:\n",
    "            old_start_line = patch.start1 + 1\n",
    "            new_start_line = patch.start2 + 1\n",
    "\n",
    "            for (op, data) in patch.diffs:\n",
    "                data_length = data.count('\\n')\n",
    "\n",
    "                if op == diff_match_patch.DIFF_INSERT:\n",
    "                    elems |= self.changed_elems(old_mapping, old_start_line)\n",
    "                    elems |= self.changed_elems(new_mapping, new_start_line,\n",
    "                                                 data_length)\n",
    "                elif op == diff_match_patch.DIFF_DELETE:\n",
    "                    elems |= self.changed_elems(old_mapping, old_start_line, \n",
    "                                                 data_length)\n",
    "                    elems |= self.changed_elems(new_mapping, new_start_line)\n",
    "\n",
    "                old_start_line += data_length\n",
    "                new_start_line += data_length\n",
    "\n",
    "        for elem in elems:\n",
    "            elem_node = node + (elem,)\n",
    "\n",
    "            self.update_size(elem_node,\n",
    "                             self.elem_size(elem, new_mapping, new_source))\n",
    "            self.update_changes(elem_node, m.msg)"
   ]
  },
  {
   "cell_type": "code",
   "execution_count": null,
   "metadata": {},
   "outputs": [],
   "source": [
    "with Timer() as t:\n",
    "    fine_change_counter = debuggingbook_change_counter(FineChangeCounter)\n",
    "\n",
    "t.elapsed_time()"
   ]
  },
  {
   "cell_type": "code",
   "execution_count": null,
   "metadata": {},
   "outputs": [],
   "source": [
    "fine_change_counter.map()"
   ]
  },
  {
   "cell_type": "markdown",
   "metadata": {},
   "source": [
    "## Synopsis"
   ]
  },
  {
   "cell_type": "markdown",
   "metadata": {},
   "source": [
    "_For those only interested in using the code in this chapter (without wanting to know how it works), give an example.  This will be copied to the beginning of the chapter (before the first section) as text with rendered input and output._"
   ]
  },
  {
   "cell_type": "code",
   "execution_count": null,
   "metadata": {},
   "outputs": [],
   "source": [
    "# ignore\n",
    "from ClassDiagram import display_class_hierarchy"
   ]
  },
  {
   "cell_type": "code",
   "execution_count": null,
   "metadata": {},
   "outputs": [],
   "source": [
    "# ignore\n",
    "display_class_hierarchy([FineChangeCounter, FixCounter],\n",
    "                        public_methods=[\n",
    "                            ChangeCounter.__init__,\n",
    "                            ChangeCounter.map,\n",
    "                            ChangeCounter.include,\n",
    "                            ChangeCounter.map_hoverinfo,\n",
    "                            ChangeCounter.map_colorscale,\n",
    "                            ChangeCounter.map_node_sizes,\n",
    "                            ChangeCounter.map_node_text,\n",
    "                            ChangeCounter.update_elems,\n",
    "                            ChangeCounter.update_size,\n",
    "                            ChangeCounter.update_changes,\n",
    "                            FineChangeCounter.include,\n",
    "                            FixCounter.include\n",
    "                        ],\n",
    "                        project='debuggingbook')"
   ]
  },
  {
   "cell_type": "markdown",
   "metadata": {
    "button": false,
    "new_sheet": true,
    "run_control": {
     "read_only": false
    }
   },
   "source": [
    "## Lessons Learned\n",
    "\n",
    "* _Lesson one_\n",
    "* _Lesson two_\n",
    "* _Lesson three_"
   ]
  },
  {
   "cell_type": "markdown",
   "metadata": {
    "button": false,
    "new_sheet": false,
    "run_control": {
     "read_only": false
    }
   },
   "source": [
    "## Next Steps\n",
    "\n",
    "_Link to subsequent chapters (notebooks) here, as in:_"
   ]
  },
  {
   "cell_type": "markdown",
   "metadata": {},
   "source": [
    "## Background\n",
    "\n",
    "_Cite relevant works in the literature and put them into context, as in:_\n",
    "\n",
    "The idea of ensuring that each expansion in the grammar is used at least once goes back to Burkhardt \\cite{Burkhardt1967}, to be later rediscovered by Paul Purdom \\cite{Purdom1972}."
   ]
  },
  {
   "cell_type": "markdown",
   "metadata": {
    "button": false,
    "new_sheet": true,
    "run_control": {
     "read_only": false
    }
   },
   "source": [
    "## Exercises\n",
    "\n",
    "_Close the chapter with a few exercises such that people have things to do.  To make the solutions hidden (to be revealed by the user), have them start with_\n",
    "\n",
    "```\n",
    "**Solution.**\n",
    "```\n",
    "\n",
    "_Your solution can then extend up to the next title (i.e., any markdown cell starting with `#`)._\n",
    "\n",
    "_Running `make metadata` will automatically add metadata to the cells such that the cells will be hidden by default, and can be uncovered by the user.  The button will be introduced above the solution._"
   ]
  },
  {
   "cell_type": "markdown",
   "metadata": {
    "button": false,
    "new_sheet": false,
    "run_control": {
     "read_only": false
    }
   },
   "source": [
    "### Exercise 1: _Title_\n",
    "\n",
    "_Text of the exercise_"
   ]
  },
  {
   "cell_type": "code",
   "execution_count": null,
   "metadata": {
    "cell_style": "center"
   },
   "outputs": [],
   "source": [
    "# Some code that is part of the exercise\n",
    "pass"
   ]
  },
  {
   "cell_type": "markdown",
   "metadata": {
    "solution2": "hidden",
    "solution2_first": true
   },
   "source": [
    "_Some more text for the exercise_"
   ]
  },
  {
   "cell_type": "markdown",
   "metadata": {
    "slideshow": {
     "slide_type": "skip"
    },
    "solution2": "hidden"
   },
   "source": [
    "**Solution.** _Some text for the solution_"
   ]
  },
  {
   "cell_type": "code",
   "execution_count": null,
   "metadata": {
    "cell_style": "split",
    "slideshow": {
     "slide_type": "skip"
    },
    "solution2": "hidden"
   },
   "outputs": [],
   "source": [
    "# Some code for the solution\n",
    "2 + 2"
   ]
  },
  {
   "cell_type": "markdown",
   "metadata": {
    "slideshow": {
     "slide_type": "skip"
    },
    "solution2": "hidden"
   },
   "source": [
    "_Some more text for the solution_"
   ]
  },
  {
   "cell_type": "markdown",
   "metadata": {
    "button": false,
    "new_sheet": false,
    "run_control": {
     "read_only": false
    },
    "solution": "hidden",
    "solution2": "hidden",
    "solution2_first": true,
    "solution_first": true
   },
   "source": [
    "### Exercise 2: _Title_\n",
    "\n",
    "_Text of the exercise_"
   ]
  },
  {
   "cell_type": "markdown",
   "metadata": {
    "button": false,
    "new_sheet": false,
    "run_control": {
     "read_only": false
    },
    "slideshow": {
     "slide_type": "skip"
    },
    "solution": "hidden",
    "solution2": "hidden"
   },
   "source": [
    "**Solution.** _Solution for the exercise_"
   ]
  }
 ],
 "metadata": {
  "ipub": {
   "bibliography": "fuzzingbook.bib",
   "toc": true
  },
  "kernelspec": {
   "display_name": "Python 3",
   "language": "python",
   "name": "python3"
  },
  "language_info": {
   "codemirror_mode": {
    "name": "ipython",
    "version": 3
   },
   "file_extension": ".py",
   "mimetype": "text/x-python",
   "name": "python",
   "nbconvert_exporter": "python",
   "pygments_lexer": "ipython3",
   "version": "3.6.10"
  },
  "toc": {
   "base_numbering": 1,
   "nav_menu": {},
   "number_sections": true,
   "sideBar": true,
   "skip_h1_title": true,
   "title_cell": "",
   "title_sidebar": "Contents",
   "toc_cell": false,
   "toc_position": {},
   "toc_section_display": true,
   "toc_window_display": true
  },
  "toc-autonumbering": false
 },
 "nbformat": 4,
 "nbformat_minor": 4
}
