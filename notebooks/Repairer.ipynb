{
 "cells": [
  {
   "cell_type": "markdown",
   "metadata": {
    "button": false,
    "new_sheet": false,
    "run_control": {
     "read_only": false
    }
   },
   "source": [
    "# Repairing Code Automatically\n",
    "\n",
    "So far, we have discussed how to track failures and how to locate defects in code. Let us now discuss how to _repair_ defects – that is, to correct the code such that the failure no longer occurs. We will discuss how to _repair code automatically_ – by systematically searching through possible fixes and evolving the most promising candidates."
   ]
  },
  {
   "cell_type": "code",
   "execution_count": null,
   "metadata": {},
   "outputs": [],
   "source": [
    "from bookutils import YouTubeVideo\n",
    "# YouTubeVideo(\"w4u5gCgPlmg\")"
   ]
  },
  {
   "cell_type": "markdown",
   "metadata": {
    "button": false,
    "new_sheet": false,
    "run_control": {
     "read_only": false
    }
   },
   "source": [
    "**Prerequisites**\n",
    "\n",
    "* Re-read the [introduction to debugging](Intro_Debugging.ipynb), notably on how to properly fix code.\n",
    "* We make use of automatic fault localization, as discussed in the [chapter on statistical debugging](StatisticalDebugger.ipynb).\n",
    "* We make extensive use of code transformations, as discussed in [the chapter on tracing executions](Tracer.ipynb).\n",
    "* We make use of [delta debugging](DeltaDebugger.ipynb)."
   ]
  },
  {
   "cell_type": "code",
   "execution_count": null,
   "metadata": {
    "button": false,
    "new_sheet": false,
    "run_control": {
     "read_only": false
    },
    "slideshow": {
     "slide_type": "skip"
    }
   },
   "outputs": [],
   "source": [
    "import bookutils"
   ]
  },
  {
   "cell_type": "markdown",
   "metadata": {},
   "source": [
    "## Synopsis\n",
    "\n",
    "<!-- Automatically generated. Do not edit. -->\n",
    "\n",
    "\n",
    "\n",
    "_For those only interested in using the code in this chapter (without wanting to know how it works), give an example.  This will be copied to the beginning of the chapter (before the first section) as text with rendered input and output._\n",
    "\n",
    "You can use `int_fuzzer()` as:\n",
    "\n",
    "```python\n",
    "print(int_fuzzer())\n",
    "```\n",
    "```python\n",
    "=> 76.5\n",
    "\n",
    "```\n"
   ]
  },
  {
   "cell_type": "markdown",
   "metadata": {
    "button": false,
    "new_sheet": true,
    "run_control": {
     "read_only": false
    }
   },
   "source": [
    "## Automatic Code Repairs\n",
    "\n",
    "So far, we have discussed how to locate defects in code, how to track failures back to the defects that caused them, and how to systematically determine failure conditions. Let us now address the last step in debugging – namely, how to _automatically fix code_.\n",
    "\n",
    "Already in the [introduction to debugging](Intro_Debugging.ipynb), we have discussed how to fix code manually. Notably, we have established that a _diagnosis_ (which induces a fix) should show _causality_ (i.e, how the defect causes the failure) and _incorrectness_ (how the defect is wrong). Is it possible to obtain such a diagnosis automatically?"
   ]
  },
  {
   "cell_type": "markdown",
   "metadata": {
    "button": false,
    "new_sheet": false,
    "run_control": {
     "read_only": false
    }
   },
   "source": [
    "In this chapter, we introduce a technique of _automatic code repair_ – that is, for a given failure, automatically determine a fix that makes the failure go away. To do so, we randomly (but systematically) _mutate_ the program code – that is, insert, change, and delete fragments – until we find a change that actually causes the failing test to pass."
   ]
  },
  {
   "cell_type": "markdown",
   "metadata": {
    "button": false,
    "new_sheet": false,
    "run_control": {
     "read_only": false
    }
   },
   "source": [
    "If this sounds like an audacious idea, that is because it is. But not only is _automated program repair_ one of the hottest topics of software research in the last decade, it is also being increasingly deployed in industry. At Facebook, for instance, every failing test report comes with an automatically generated _repair suggestion_ – a suggestion that already has been validated to work. Programmers can apply the suggestion as is or use it as basis for their own fixes."
   ]
  },
  {
   "cell_type": "markdown",
   "metadata": {},
   "source": [
    "In this chapter, we use an ongoing example. In the [chapter on statistical debugging](StatisticalDebugger.ipynb), we have introduced the `middle()` function – a function that returns the \"middle\" of three numbers `x`, `y`, and `z`:"
   ]
  },
  {
   "cell_type": "code",
   "execution_count": null,
   "metadata": {},
   "outputs": [],
   "source": [
    "from StatisticalDebugger import middle"
   ]
  },
  {
   "cell_type": "code",
   "execution_count": null,
   "metadata": {},
   "outputs": [],
   "source": [
    "# ignore\n",
    "from bookutils import print_content"
   ]
  },
  {
   "cell_type": "code",
   "execution_count": null,
   "metadata": {},
   "outputs": [],
   "source": [
    "# ignore\n",
    "import inspect"
   ]
  },
  {
   "cell_type": "code",
   "execution_count": null,
   "metadata": {},
   "outputs": [],
   "source": [
    "# ignore\n",
    "_, first_lineno = inspect.getsourcelines(middle)\n",
    "middle_source = inspect.getsource(middle)\n",
    "print_content(middle_source, '.py', start_line_number=first_lineno)"
   ]
  },
  {
   "cell_type": "markdown",
   "metadata": {},
   "source": [
    "In most cases, `middle()` just runs fine:"
   ]
  },
  {
   "cell_type": "code",
   "execution_count": null,
   "metadata": {},
   "outputs": [],
   "source": [
    "middle(4, 5, 6)"
   ]
  },
  {
   "cell_type": "markdown",
   "metadata": {},
   "source": [
    "In some other cases, though, it does not work correctly:"
   ]
  },
  {
   "cell_type": "code",
   "execution_count": null,
   "metadata": {},
   "outputs": [],
   "source": [
    "middle(2, 1, 3)"
   ]
  },
  {
   "cell_type": "markdown",
   "metadata": {},
   "source": [
    "Now, if we only want a repair that fixes this one given failure, this would be very easy. All we have to do is to replace the entire body by a single statement:"
   ]
  },
  {
   "cell_type": "code",
   "execution_count": null,
   "metadata": {},
   "outputs": [],
   "source": [
    "def middle_sort_of_fixed(x, y, z):\n",
    "    return x"
   ]
  },
  {
   "cell_type": "markdown",
   "metadata": {},
   "source": [
    "You will concur that the failure no longer occurs:"
   ]
  },
  {
   "cell_type": "code",
   "execution_count": null,
   "metadata": {},
   "outputs": [],
   "source": [
    "middle_sort_of_fixed(2, 1, 3)"
   ]
  },
  {
   "cell_type": "markdown",
   "metadata": {},
   "source": [
    "But this, of course, is not the aim of automatic fixes, nor of fixes in general: We want our fixes not only to make the given failure go away, but we also want the resulting code to be _correct_ (which, of course, is a lot harder)."
   ]
  },
  {
   "cell_type": "markdown",
   "metadata": {},
   "source": [
    "Automatic repair techniques therefore assume the existence of a _test suite_ that can check whether an implementation satisfies its requirements. Better yet, one can use the test suite to gradually check _how close_ one is to perfection: A piece of code that satisfies 99% of all tests is better than one that satisfies 33% of all tests, as `middle_sort_of_fixed()` would do."
   ]
  },
  {
   "cell_type": "markdown",
   "metadata": {},
   "source": [
    "The master plan for automatic repair is as follows:\n",
    "\n",
    "1. Have a _test suite_ with both failing and passing tests that helps asserting correctness of possible solutions.\n",
    "2. With the test suite, use [fault localization](StatisticalDebugger.ipynb) to determine potential code locations to be fixed.\n",
    "3. Systematically _mutate_ the code (by adding, changing, or deleting code) to create possible fix candidates. Retain those mutations that satisfy more tests and evolve them further.\n",
    "4. Repeat until a perfect fix is found, or until time resources are depleted."
   ]
  },
  {
   "cell_type": "markdown",
   "metadata": {},
   "source": [
    "Let us illustrate these steps in the following sections."
   ]
  },
  {
   "cell_type": "markdown",
   "metadata": {},
   "source": [
    "## A Test Suite"
   ]
  },
  {
   "cell_type": "markdown",
   "metadata": {},
   "source": [
    "In automated repair, the larger and the more thorough the test suite, the higher the quality of the resulting fix (if any). Hence, if we want to repair `middle()` automatically, we need a good test suite – with good inputs, but also with good checks."
   ]
  },
  {
   "cell_type": "markdown",
   "metadata": {},
   "source": [
    "The function `middle_testcase()` returns a random input for `middle()`:"
   ]
  },
  {
   "cell_type": "code",
   "execution_count": null,
   "metadata": {},
   "outputs": [],
   "source": [
    "import random"
   ]
  },
  {
   "cell_type": "code",
   "execution_count": null,
   "metadata": {},
   "outputs": [],
   "source": [
    "def middle_testcase():\n",
    "    x = random.randrange(10)\n",
    "    y = random.randrange(10)\n",
    "    z = random.randrange(10)\n",
    "    return x, y, z"
   ]
  },
  {
   "cell_type": "code",
   "execution_count": null,
   "metadata": {},
   "outputs": [],
   "source": [
    "[middle_testcase() for i in range(5)]"
   ]
  },
  {
   "cell_type": "markdown",
   "metadata": {},
   "source": [
    "The function `middle_test()` simply checks if `middle()` operates correctly – by placing `x`, `y`, and `z` in a list, sorting it, and taking the middle argument. If `middle()` fails, `middle_test()` raises an exception."
   ]
  },
  {
   "cell_type": "code",
   "execution_count": null,
   "metadata": {},
   "outputs": [],
   "source": [
    "def middle_test(x, y, z):\n",
    "    m = middle(x, y, z)\n",
    "    assert m == sorted([x, y, z])[1]"
   ]
  },
  {
   "cell_type": "code",
   "execution_count": null,
   "metadata": {},
   "outputs": [],
   "source": [
    "middle_test(4, 5, 6)"
   ]
  },
  {
   "cell_type": "code",
   "execution_count": null,
   "metadata": {},
   "outputs": [],
   "source": [
    "from ExpectError import ExpectError"
   ]
  },
  {
   "cell_type": "code",
   "execution_count": null,
   "metadata": {},
   "outputs": [],
   "source": [
    "with ExpectError():\n",
    "    middle_test(2, 1, 3)"
   ]
  },
  {
   "cell_type": "markdown",
   "metadata": {},
   "source": [
    "The function `middle_passing_testcase()` searches and returns a triple `x`, `y`, `z` that causes `middle_test()` to pass."
   ]
  },
  {
   "cell_type": "code",
   "execution_count": null,
   "metadata": {},
   "outputs": [],
   "source": [
    "def middle_passing_testcase():\n",
    "    while True:\n",
    "        try:\n",
    "            x, y, z = middle_testcase()\n",
    "            _ = middle_test(x, y, z)\n",
    "            return x, y, z\n",
    "        except AssertionError:\n",
    "            pass"
   ]
  },
  {
   "cell_type": "code",
   "execution_count": null,
   "metadata": {},
   "outputs": [],
   "source": [
    "(x, y, z) = middle_passing_testcase()\n",
    "m = middle(x, y, z)\n",
    "print(f\"middle({x}, {y}, {z}) = {m}\")"
   ]
  },
  {
   "cell_type": "markdown",
   "metadata": {},
   "source": [
    "The function `middle_failing_testcase()` does the same; but its triple `x`, `y`, `z` causes `middle_test()` to fail."
   ]
  },
  {
   "cell_type": "code",
   "execution_count": null,
   "metadata": {},
   "outputs": [],
   "source": [
    "def middle_failing_testcase():\n",
    "    while True:\n",
    "        try:\n",
    "            x, y, z = middle_testcase()\n",
    "            _ = middle_test(x, y, z)\n",
    "        except AssertionError:\n",
    "            return x, y, z"
   ]
  },
  {
   "cell_type": "code",
   "execution_count": null,
   "metadata": {},
   "outputs": [],
   "source": [
    "(x, y, z) = middle_failing_testcase()\n",
    "m = middle(x, y, z)\n",
    "print(f\"middle({x}, {y}, {z}) = {m}\")"
   ]
  },
  {
   "cell_type": "markdown",
   "metadata": {},
   "source": [
    "With these, we can define two sets of test cases, each with 100 inputs."
   ]
  },
  {
   "cell_type": "code",
   "execution_count": null,
   "metadata": {},
   "outputs": [],
   "source": [
    "MIDDLE_TESTS = 100"
   ]
  },
  {
   "cell_type": "code",
   "execution_count": null,
   "metadata": {},
   "outputs": [],
   "source": [
    "MIDDLE_PASSING_TESTCASES = [middle_passing_testcase()\n",
    "                            for i in range(MIDDLE_TESTS)]"
   ]
  },
  {
   "cell_type": "code",
   "execution_count": null,
   "metadata": {},
   "outputs": [],
   "source": [
    "MIDDLE_FAILING_TESTCASES = [middle_failing_testcase()\n",
    "                            for i in range(MIDDLE_TESTS)]"
   ]
  },
  {
   "cell_type": "markdown",
   "metadata": {},
   "source": [
    "## Locating the Defect"
   ]
  },
  {
   "cell_type": "markdown",
   "metadata": {},
   "source": [
    "Our next step is to find potential defect locations – that is, those locations in the code our mutations should focus upon. Since we already do have two test suites, we can make use of [statistical debugging](StatisticalDebugger.ipynb) to identify likely faulty locations.  Our `OchiaiDebugger` ranks individual code lines by how frequently they are executed in failing runs (and not in passing runs)."
   ]
  },
  {
   "cell_type": "code",
   "execution_count": null,
   "metadata": {},
   "outputs": [],
   "source": [
    "from StatisticalDebugger import OchiaiDebugger, CoverageCollector"
   ]
  },
  {
   "cell_type": "code",
   "execution_count": null,
   "metadata": {},
   "outputs": [],
   "source": [
    "debugger = OchiaiDebugger(CoverageCollector)\n",
    "\n",
    "for x, y, z in MIDDLE_PASSING_TESTCASES:\n",
    "    with debugger.collect_pass():\n",
    "        m = middle(x, y, z)\n",
    "\n",
    "for x, y, z in MIDDLE_FAILING_TESTCASES:\n",
    "    with debugger.collect_fail():\n",
    "        m = middle(x, y, z)"
   ]
  },
  {
   "cell_type": "code",
   "execution_count": null,
   "metadata": {},
   "outputs": [],
   "source": [
    "debugger"
   ]
  },
  {
   "cell_type": "markdown",
   "metadata": {},
   "source": [
    "The most suspicious line is:"
   ]
  },
  {
   "cell_type": "code",
   "execution_count": null,
   "metadata": {},
   "outputs": [],
   "source": [
    "# ignore\n",
    "location = debugger.rank()[0]\n",
    "(func_name, lineno) = location\n",
    "lines, first_lineno = inspect.getsourcelines(middle)\n",
    "print(lineno, end=\"\")\n",
    "print_content(lines[lineno - first_lineno], '.py')"
   ]
  },
  {
   "cell_type": "markdown",
   "metadata": {},
   "source": [
    "and its suspiciousness is:"
   ]
  },
  {
   "cell_type": "code",
   "execution_count": null,
   "metadata": {},
   "outputs": [],
   "source": [
    "# ignore\n",
    "debugger.suspiciousness(location)"
   ]
  },
  {
   "cell_type": "markdown",
   "metadata": {},
   "source": [
    "## Random Code Mutations"
   ]
  },
  {
   "cell_type": "markdown",
   "metadata": {},
   "source": [
    "Our third step in automatic code repair is to _randomly mutate the code_. Specifically, we want to randomly _delete_, _insert_, and _replace_ statements in the program to be repaired. However, simply synthesizing code _from scratch_ is unlikely to yield anything meaningful – the number of combinations is simply far too high. Already for a three-character identifier name, we have more than 200,000 combinations:"
   ]
  },
  {
   "cell_type": "code",
   "execution_count": null,
   "metadata": {},
   "outputs": [],
   "source": [
    "import string"
   ]
  },
  {
   "cell_type": "code",
   "execution_count": null,
   "metadata": {},
   "outputs": [],
   "source": [
    "string.ascii_letters"
   ]
  },
  {
   "cell_type": "code",
   "execution_count": null,
   "metadata": {},
   "outputs": [],
   "source": [
    "len(string.ascii_letters + '_') * \\\n",
    "  len(string.ascii_letters + '_' + string.digits) * \\\n",
    "  len(string.ascii_letters + '_' + string.digits)"
   ]
  },
  {
   "cell_type": "markdown",
   "metadata": {},
   "source": [
    "Hence, we do _not_ synthesize code from scratch, but instead _reuse_ elements from the program to be fixed, hypothesizing that \"a program that contains an error in one area likely implements the correct behavior elsewhere\" \\cite{LeGoues2012}."
   ]
  },
  {
   "cell_type": "markdown",
   "metadata": {},
   "source": [
    "Furthermore, we do not operate on a _textual_ representation of the program, but rather on a _structural_ representation, which by construction allows us to avoid lexical and syntactical errors in the first place.\n",
    "\n",
    "This structural representation is the _abstract syntax tree_ (AST), which we already have seen in various chapters, such as the [chapter on delta debugging](DeltaDebugger.ipynb), the [chapter on tracing](Tracer.ipynb), and excessively in the [chapter on slicing](Slicer.ipynb). The [official Python `ast` reference](http://docs.python.org/3/library/ast) is complete, but a bit brief; the documentation [\"Green Tree Snakes - the missing Python AST docs\"](https://greentreesnakes.readthedocs.io/en/latest/) provides an excellent introduction.\n",
    "\n",
    "Recapitulating, an AST is a tree representation of the program, showing a hierarchical structure of the program's elements. Here is the AST for our `middle()` function."
   ]
  },
  {
   "cell_type": "code",
   "execution_count": null,
   "metadata": {},
   "outputs": [],
   "source": [
    "import ast\n",
    "import astor\n",
    "import inspect"
   ]
  },
  {
   "cell_type": "code",
   "execution_count": null,
   "metadata": {},
   "outputs": [],
   "source": [
    "from bookutils import print_content, show_ast"
   ]
  },
  {
   "cell_type": "code",
   "execution_count": null,
   "metadata": {},
   "outputs": [],
   "source": [
    "def middle_tree():\n",
    "    return ast.parse(inspect.getsource(middle))"
   ]
  },
  {
   "cell_type": "code",
   "execution_count": null,
   "metadata": {},
   "outputs": [],
   "source": [
    "show_ast(middle_tree())"
   ]
  },
  {
   "cell_type": "markdown",
   "metadata": {},
   "source": [
    " You see that it consists of one function definition (`FunctionDef`) with three `arguments` and two statements – one `If` and one `Return`. Each `If` subtree has three branches – one for the condition (`test`), one for the body to be executed if the condition is true (`body`), and one for the `else` case (`orelse`). The `body` and `orelse` branches again are lists of statements."
   ]
  },
  {
   "cell_type": "markdown",
   "metadata": {},
   "source": [
    "An AST can also be shown as text, which is more compact, yet reveals more information. `ast.dump()` gives not only the class names of elements, but also how they are constructed – actually, the whole expression can be used to construct an AST."
   ]
  },
  {
   "cell_type": "code",
   "execution_count": null,
   "metadata": {},
   "outputs": [],
   "source": [
    "print(ast.dump(middle_tree()))"
   ]
  },
  {
   "cell_type": "markdown",
   "metadata": {},
   "source": [
    "This is the path to the first `return` statement:"
   ]
  },
  {
   "cell_type": "code",
   "execution_count": null,
   "metadata": {},
   "outputs": [],
   "source": [
    "ast.dump(middle_tree().body[0].body[0].body[0].body[0])"
   ]
  },
  {
   "cell_type": "markdown",
   "metadata": {},
   "source": [
    "### Picking Statements"
   ]
  },
  {
   "cell_type": "markdown",
   "metadata": {},
   "source": [
    "For our mutation operators, we want to use statements from the program itself. Hence, we need a means to find those very statements. The `StatementVisitor` class iterates through an AST, adding all statements to its `statements` list it finds in function definitions. To do so, it subclasses the Python `ast` `NodeVisitor` class, described in the [official Python `ast` reference](http://docs.python.org/3/library/ast)."
   ]
  },
  {
   "cell_type": "code",
   "execution_count": null,
   "metadata": {},
   "outputs": [],
   "source": [
    "from ast import NodeVisitor"
   ]
  },
  {
   "cell_type": "code",
   "execution_count": null,
   "metadata": {},
   "outputs": [],
   "source": [
    "class StatementVisitor(NodeVisitor):\n",
    "    \"\"\"Visit all statements within function defs in an AST\"\"\"\n",
    "    def __init__(self):\n",
    "        self.statements = []\n",
    "        self.func_name = None\n",
    "        self.statements_seen = set()\n",
    "        super().__init__()\n",
    "\n",
    "    def add_statements(self, node, attr):\n",
    "        elems = getattr(node, attr, [])\n",
    "        if not isinstance(elems, list):\n",
    "            elems = [elems]\n",
    "            \n",
    "        for elem in elems:\n",
    "            stmt = (elem, self.func_name)\n",
    "            if stmt in self.statements_seen:\n",
    "                continue\n",
    "                \n",
    "            self.statements.append(stmt)\n",
    "            self.statements_seen.add(stmt)\n",
    "\n",
    "    def visit_node(self, node):\n",
    "        # Any node other than the ones listed below\n",
    "        self.add_statements(node, 'body')\n",
    "        self.add_statements(node, 'orelse')\n",
    "\n",
    "    def visit_Module(self, node):\n",
    "        # Module children are defs, classes and globals - don't add\n",
    "        super().generic_visit(node)\n",
    "\n",
    "    def visit_ClassDef(self, node):\n",
    "        # Class children are defs and globals - don't add\n",
    "        super().generic_visit(node)\n",
    "\n",
    "    def generic_visit(self, node):\n",
    "        self.visit_node(node)\n",
    "        super().generic_visit(node)\n",
    "        \n",
    "    def visit_FunctionDef(self, node):\n",
    "        if self.func_name is None:\n",
    "            self.func_name = node.name\n",
    "        \n",
    "        self.visit_node(node)\n",
    "        super().generic_visit(node)\n",
    "        self.func_name = None\n",
    "\n",
    "    def visit_AsyncFunctionDef(self, node):\n",
    "        return visit_FunctionDef(self, node)"
   ]
  },
  {
   "cell_type": "markdown",
   "metadata": {},
   "source": [
    "The function `all_statements()` returns all statements in the given AST `tree`. If an `ast` class `tp` is given, it only returns instances of that class."
   ]
  },
  {
   "cell_type": "code",
   "execution_count": null,
   "metadata": {},
   "outputs": [],
   "source": [
    "def all_statements_and_functions(tree, tp=None):\n",
    "    visitor = StatementVisitor()\n",
    "    visitor.visit(tree)\n",
    "    statements = visitor.statements\n",
    "    if tp is not None:\n",
    "        statements = [s for s in statements if isinstance(s[0], tp)]\n",
    "\n",
    "    return statements"
   ]
  },
  {
   "cell_type": "code",
   "execution_count": null,
   "metadata": {},
   "outputs": [],
   "source": [
    "def all_statements(tree, tp=None):\n",
    "    return [stmt for stmt, func_name in all_statements_and_functions(tree, tp)]"
   ]
  },
  {
   "cell_type": "markdown",
   "metadata": {},
   "source": [
    "Here are all the `return` statements in `middle()`:"
   ]
  },
  {
   "cell_type": "code",
   "execution_count": null,
   "metadata": {},
   "outputs": [],
   "source": [
    "all_statements(middle_tree(), ast.Return)"
   ]
  },
  {
   "cell_type": "code",
   "execution_count": null,
   "metadata": {},
   "outputs": [],
   "source": [
    "all_statements_and_functions(middle_tree(), ast.If)"
   ]
  },
  {
   "cell_type": "markdown",
   "metadata": {},
   "source": [
    "We can randomly pick an element:"
   ]
  },
  {
   "cell_type": "code",
   "execution_count": null,
   "metadata": {},
   "outputs": [],
   "source": [
    "import random"
   ]
  },
  {
   "cell_type": "code",
   "execution_count": null,
   "metadata": {},
   "outputs": [],
   "source": [
    "random_node = random.choice(all_statements(middle_tree()))\n",
    "astor.to_source(random_node)"
   ]
  },
  {
   "cell_type": "markdown",
   "metadata": {},
   "source": [
    "### Mutating Statements\n",
    "\n",
    "The main part in mutation, however, is to actually mutate the code of the program under test. To this end, we introduce a `StatementMutator` class – a subclass of `NodeTransformer`, described in the [official Python `ast` reference](http://docs.python.org/3/library/ast)."
   ]
  },
  {
   "cell_type": "markdown",
   "metadata": {},
   "source": [
    "The constructor provides various keyword arguments to configure the mutator."
   ]
  },
  {
   "cell_type": "code",
   "execution_count": null,
   "metadata": {},
   "outputs": [],
   "source": [
    "from ast import NodeTransformer"
   ]
  },
  {
   "cell_type": "code",
   "execution_count": null,
   "metadata": {},
   "outputs": [],
   "source": [
    "import copy"
   ]
  },
  {
   "cell_type": "code",
   "execution_count": null,
   "metadata": {},
   "outputs": [],
   "source": [
    "class StatementMutator(NodeTransformer):\n",
    "    \"\"\"Mutate statements in an AST for automated repair.\"\"\"\n",
    "    def __init__(self, suspiciousness_func=None, statements=None, log=False):\n",
    "        \"\"\"Constructor.\n",
    "        `suspiciousness_func` is a function that takes a location \n",
    "        (function, line_number) and returns a suspiciousness value\n",
    "        between 0 and 1.0. If not given, all locations get the \n",
    "        same suspiciousness.\n",
    "        `statements` is a list of statements to choose from.\n",
    "        \"\"\"\n",
    "        super().__init__()\n",
    "\n",
    "        if suspiciousness_func is None:\n",
    "            suspiciousness_func = lambda location: 1.0\n",
    "        self.suspiciousness_func = suspiciousness_func\n",
    "\n",
    "        if statements is None:\n",
    "            statements = []\n",
    "        self.statements = statements\n",
    "\n",
    "        self.log = log\n",
    "\n",
    "        self.mutations = 0"
   ]
  },
  {
   "cell_type": "markdown",
   "metadata": {},
   "source": [
    "#### Choosing Nodes to Mutate\n",
    "\n",
    "We start with deciding which AST nodes to mutate. The method `node_suspiciousness()` returns the suspiciousness for a given node, by invoking `suspiciousness_func`. Since a node only holds the current line number, but not a function name, we track this during the tree traversal."
   ]
  },
  {
   "cell_type": "code",
   "execution_count": null,
   "metadata": {},
   "outputs": [],
   "source": [
    "import warnings"
   ]
  },
  {
   "cell_type": "code",
   "execution_count": null,
   "metadata": {},
   "outputs": [],
   "source": [
    "class StatementMutator(StatementMutator):\n",
    "    def format_node(self, node):\n",
    "        if node is None:\n",
    "            return None\n",
    "        if isinstance(node, list):\n",
    "            return \"; \".join(self.format_node(elem) for elem in node)\n",
    "\n",
    "        s = RE_SPACE.sub(' ', astor.to_source(node)).strip()\n",
    "        if len(s) > 20:\n",
    "            s = s[:20] + \"...\"\n",
    "        return repr(s)\n",
    "\n",
    "    def node_suspiciousness(self, stmt, func_name):\n",
    "        if not hasattr(stmt, 'lineno'):\n",
    "            warnings.warn(f\"{self.format_node(stmt)}: Expected line number\")\n",
    "            return 0.0\n",
    "\n",
    "        suspiciousness = self.suspiciousness_func((func_name, stmt.lineno))\n",
    "        if suspiciousness is None:  # not executed\n",
    "            return 0.0\n",
    "\n",
    "        return suspiciousness"
   ]
  },
  {
   "cell_type": "markdown",
   "metadata": {},
   "source": [
    "The method `should_mutate()` chooses a node for mutation. The higher the suspiciousness, the higher the chance of a node to be mutated."
   ]
  },
  {
   "cell_type": "code",
   "execution_count": null,
   "metadata": {},
   "outputs": [],
   "source": [
    "class StatementMutator(StatementMutator):\n",
    "    def node_to_be_mutated(self, tree):\n",
    "        statements = all_statements_and_functions(tree)\n",
    "        assert len(statements) > 0, \"No statements\"\n",
    "\n",
    "        weights = [self.node_suspiciousness(stmt, func_name) \n",
    "                   for stmt, func_name in statements]\n",
    "        assert sum(weights) > 0, \"No suspicious location\"\n",
    "\n",
    "        if self.log > 1:\n",
    "            print(\"Weights:\")\n",
    "            for i, stmt in enumerate(statements):\n",
    "                node, func_name = stmt\n",
    "                print(f\"{weights[i]:.2} {self.format_node(node)}\")\n",
    "\n",
    "        stmts = [stmt for stmt, func_name in statements]\n",
    "\n",
    "        return random.choices(stmts, weights=weights)[0]"
   ]
  },
  {
   "cell_type": "markdown",
   "metadata": {},
   "source": [
    "#### Choosing an Operator"
   ]
  },
  {
   "cell_type": "markdown",
   "metadata": {},
   "source": [
    "For nodes chosen for mutation, the method `generic_visit()` randomly chooses a mutation method (`choose_op()`) and then invokes it on the node."
   ]
  },
  {
   "cell_type": "code",
   "execution_count": null,
   "metadata": {},
   "outputs": [],
   "source": [
    "import re"
   ]
  },
  {
   "cell_type": "code",
   "execution_count": null,
   "metadata": {},
   "outputs": [],
   "source": [
    "RE_SPACE = re.compile(r'[ \\t\\n]+')"
   ]
  },
  {
   "cell_type": "code",
   "execution_count": null,
   "metadata": {},
   "outputs": [],
   "source": [
    "class StatementMutator(StatementMutator):\n",
    "    def choose_op(self):\n",
    "        return random.choice([self.insert, self.swap, self.delete])\n",
    "\n",
    "    def visit(self, node):\n",
    "        super().visit(node)  # Visits (and transforms?) children\n",
    "\n",
    "        if not node.mutate_me:\n",
    "            return node\n",
    "        \n",
    "        op = self.choose_op()\n",
    "        new_node = op(node)\n",
    "        self.mutations += 1\n",
    "\n",
    "        if self.log:\n",
    "            print(f\"{node.lineno:4}:{op.__name__:6}: \"\n",
    "                  f\"{self.format_node(node)} \"\n",
    "                  f\"becomes {self.format_node(new_node)}\")\n",
    "\n",
    "        return new_node"
   ]
  },
  {
   "cell_type": "markdown",
   "metadata": {},
   "source": [
    "#### Swapping Statements"
   ]
  },
  {
   "cell_type": "code",
   "execution_count": null,
   "metadata": {},
   "outputs": [],
   "source": [
    "class StatementMutator(StatementMutator):\n",
    "    def choose_statement(self):\n",
    "        return copy.deepcopy(random.choice(self.statements))"
   ]
  },
  {
   "cell_type": "code",
   "execution_count": null,
   "metadata": {},
   "outputs": [],
   "source": [
    "class StatementMutator(StatementMutator):\n",
    "    def swap(self, node):\n",
    "        # Replace with a random node from statements\n",
    "        new_node = self.choose_statement()\n",
    "\n",
    "        if isinstance(new_node, ast.stmt):\n",
    "            # The source `if P: X` is added as `if P: pass`\n",
    "            if hasattr(new_node, 'body'):\n",
    "                new_node.body = [ast.Pass()]\n",
    "            if hasattr(new_node, 'orelse'):\n",
    "                new_node.orelse = []\n",
    "            if hasattr(new_node, 'finalbody'):\n",
    "                new_node.finalbody = []\n",
    "\n",
    "        # ast.copy_location(new_node, node)\n",
    "        return new_node"
   ]
  },
  {
   "cell_type": "markdown",
   "metadata": {},
   "source": [
    "#### Inserting Statements"
   ]
  },
  {
   "cell_type": "code",
   "execution_count": null,
   "metadata": {},
   "outputs": [],
   "source": [
    "class StatementMutator(StatementMutator):\n",
    "    def insert(self, node):\n",
    "        # Insert a random node from statements\n",
    "        new_node = self.choose_statement()\n",
    "\n",
    "        if isinstance(new_node, ast.stmt) and hasattr(new_node, 'body'):\n",
    "            # Inserting `if P: X` as `if P:`\n",
    "            new_node.body = [node]\n",
    "            if hasattr(new_node, 'orelse'):\n",
    "                new_node.orelse = []\n",
    "            if hasattr(new_node, 'finalbody'):\n",
    "                new_node.finalbody = []\n",
    "            # ast.copy_location(new_node, node)\n",
    "            return new_node\n",
    "\n",
    "        # Only insert before `return`, not after it\n",
    "        if isinstance(node, ast.Return):\n",
    "            if isinstance(new_node, ast.Return):\n",
    "                return new_node\n",
    "            else:\n",
    "                return [new_node, node]\n",
    "\n",
    "        return [node, new_node]"
   ]
  },
  {
   "cell_type": "markdown",
   "metadata": {},
   "source": [
    "#### Deleting Statements"
   ]
  },
  {
   "cell_type": "code",
   "execution_count": null,
   "metadata": {},
   "outputs": [],
   "source": [
    "class StatementMutator(StatementMutator):\n",
    "    def delete(self, node):\n",
    "        # Delete this node\n",
    "\n",
    "        branches = [attr for attr in ['body', 'orelse', 'finalbody']\n",
    "                    if hasattr(node, attr) and getattr(node, attr)]\n",
    "        if branches:\n",
    "            # Replace `if P: S` by `S`\n",
    "            branch = random.choice(branches)\n",
    "            new_node = getattr(node, branch)\n",
    "            return new_node\n",
    "\n",
    "        if isinstance(node, ast.stmt):\n",
    "            # Avoid empty bodies; make this a `pass` statement\n",
    "            new_node = ast.Pass()\n",
    "            ast.copy_location(new_node, node)\n",
    "            return new_node\n",
    "\n",
    "        return None  # Just delete"
   ]
  },
  {
   "cell_type": "markdown",
   "metadata": {},
   "source": [
    "#### All Together"
   ]
  },
  {
   "cell_type": "code",
   "execution_count": null,
   "metadata": {},
   "outputs": [],
   "source": [
    "class StatementMutator(StatementMutator):\n",
    "    def visit(self, node):\n",
    "        if not self.statements:\n",
    "            self.statements = all_statements(node)\n",
    "\n",
    "        return super().visit(node)"
   ]
  },
  {
   "cell_type": "code",
   "execution_count": null,
   "metadata": {},
   "outputs": [],
   "source": [
    "class StatementMutator(StatementMutator):\n",
    "    def mutate(self, tree):\n",
    "        tree = copy.deepcopy(tree)\n",
    "        for node in ast.walk(tree):\n",
    "            node.mutate_me = False\n",
    "\n",
    "        node = self.node_to_be_mutated(tree)\n",
    "        node.mutate_me = True\n",
    "\n",
    "        self.mutations = 0\n",
    "        tree = self.visit(tree)\n",
    "\n",
    "        if self.mutations == 0:\n",
    "            warnings.warn(\"No mutations found\")\n",
    "\n",
    "        ast.fix_missing_locations(tree)\n",
    "        return tree"
   ]
  },
  {
   "cell_type": "code",
   "execution_count": null,
   "metadata": {},
   "outputs": [],
   "source": [
    "mutator = StatementMutator(log=True)\n",
    "new_tree = middle_tree()\n",
    "new_tree = mutator.mutate(new_tree)"
   ]
  },
  {
   "cell_type": "code",
   "execution_count": null,
   "metadata": {},
   "outputs": [],
   "source": [
    "print_content(astor.to_source(new_tree), '.py')"
   ]
  },
  {
   "cell_type": "markdown",
   "metadata": {},
   "source": [
    "## Fitness"
   ]
  },
  {
   "cell_type": "code",
   "execution_count": null,
   "metadata": {},
   "outputs": [],
   "source": [
    "WEIGHT_PASSING = 0.99\n",
    "WEIGHT_FAILING = 0.01"
   ]
  },
  {
   "cell_type": "code",
   "execution_count": null,
   "metadata": {},
   "outputs": [],
   "source": [
    "def middle_fitness(tree):\n",
    "    original_middle = middle\n",
    "\n",
    "    try:\n",
    "        code = compile(tree, '<fitness>', 'exec')\n",
    "    except ValueError:\n",
    "        return 0  # Compilation error\n",
    "\n",
    "    exec(code, globals())\n",
    "\n",
    "    passing_passed = 0\n",
    "    failing_passed = 0\n",
    "\n",
    "    # Test how many of the passing runs pass\n",
    "    for x, y, z in MIDDLE_PASSING_TESTCASES:\n",
    "        try:\n",
    "            middle_test(x, y, z)\n",
    "            passing_passed += 1\n",
    "        except AssertionError:\n",
    "            pass\n",
    "\n",
    "    passing_ratio = passing_passed / len(MIDDLE_PASSING_TESTCASES)\n",
    "\n",
    "    # Test how many of the failing runs pass\n",
    "    for x, y, z in MIDDLE_FAILING_TESTCASES:\n",
    "        try:\n",
    "            middle_test(x, y, z)\n",
    "            failing_passed += 1\n",
    "        except AssertionError:\n",
    "            pass\n",
    "\n",
    "    failing_ratio = failing_passed / len(MIDDLE_FAILING_TESTCASES)\n",
    "\n",
    "    fitness = (WEIGHT_PASSING * passing_ratio +\n",
    "               WEIGHT_FAILING * failing_ratio)\n",
    "\n",
    "    globals()['middle'] = original_middle\n",
    "    return fitness"
   ]
  },
  {
   "cell_type": "code",
   "execution_count": null,
   "metadata": {},
   "outputs": [],
   "source": [
    "middle_fitness(middle_tree())"
   ]
  },
  {
   "cell_type": "code",
   "execution_count": null,
   "metadata": {},
   "outputs": [],
   "source": [
    "middle_fitness(ast.parse(\"def middle(x, y, z): return z\"))"
   ]
  },
  {
   "cell_type": "code",
   "execution_count": null,
   "metadata": {},
   "outputs": [],
   "source": [
    "from StatisticalDebugger import middle_fixed"
   ]
  },
  {
   "cell_type": "code",
   "execution_count": null,
   "metadata": {},
   "outputs": [],
   "source": [
    "middle_fixed_source = \\\n",
    "    inspect.getsource(middle_fixed).replace('middle_fixed', 'middle').strip()"
   ]
  },
  {
   "cell_type": "code",
   "execution_count": null,
   "metadata": {},
   "outputs": [],
   "source": [
    "middle_fitness(ast.parse(middle_fixed_source))"
   ]
  },
  {
   "cell_type": "markdown",
   "metadata": {},
   "source": [
    "## Population"
   ]
  },
  {
   "cell_type": "code",
   "execution_count": null,
   "metadata": {},
   "outputs": [],
   "source": [
    "POPULATION_SIZE = 50\n",
    "mutator = StatementMutator(log=True)"
   ]
  },
  {
   "cell_type": "code",
   "execution_count": null,
   "metadata": {},
   "outputs": [],
   "source": [
    "MIDDLE_POPULATION = [middle_tree()] + \\\n",
    "    [mutator.mutate(middle_tree()) for i in range(POPULATION_SIZE - 1)]"
   ]
  },
  {
   "cell_type": "code",
   "execution_count": null,
   "metadata": {},
   "outputs": [],
   "source": [
    "MIDDLE_POPULATION.sort(key=middle_fitness, reverse=True)"
   ]
  },
  {
   "cell_type": "markdown",
   "metadata": {},
   "source": [
    "Highest fitness:"
   ]
  },
  {
   "cell_type": "code",
   "execution_count": null,
   "metadata": {},
   "outputs": [],
   "source": [
    "print(astor.to_source(MIDDLE_POPULATION[0]), \n",
    "      middle_fitness(MIDDLE_POPULATION[0]))"
   ]
  },
  {
   "cell_type": "markdown",
   "metadata": {},
   "source": [
    "Lowest fitness:"
   ]
  },
  {
   "cell_type": "code",
   "execution_count": null,
   "metadata": {},
   "outputs": [],
   "source": [
    "print(astor.to_source(MIDDLE_POPULATION[-1]), \n",
    "      middle_fitness(MIDDLE_POPULATION[-1]))"
   ]
  },
  {
   "cell_type": "markdown",
   "metadata": {},
   "source": [
    "## Evolution"
   ]
  },
  {
   "cell_type": "code",
   "execution_count": null,
   "metadata": {},
   "outputs": [],
   "source": [
    "def evolve_middle():\n",
    "    global MIDDLE_POPULATION\n",
    "\n",
    "    statements = all_statements(middle_tree())\n",
    "    mutator = StatementMutator(statements=statements)\n",
    "\n",
    "    n = len(MIDDLE_POPULATION)\n",
    "\n",
    "    MIDDLE_POPULATION.sort(key=middle_fitness, reverse=True)\n",
    "    MIDDLE_POPULATION = MIDDLE_POPULATION[:n // 2]\n",
    "\n",
    "    offspring = [mutator.mutate(tree) for tree in MIDDLE_POPULATION]\n",
    "\n",
    "    MIDDLE_POPULATION += offspring"
   ]
  },
  {
   "cell_type": "code",
   "execution_count": null,
   "metadata": {},
   "outputs": [],
   "source": [
    "evolve_middle()"
   ]
  },
  {
   "cell_type": "code",
   "execution_count": null,
   "metadata": {},
   "outputs": [],
   "source": [
    "tree = MIDDLE_POPULATION[0]\n",
    "print(astor.to_source(tree), middle_fitness(tree))"
   ]
  },
  {
   "cell_type": "code",
   "execution_count": null,
   "metadata": {},
   "outputs": [],
   "source": [
    "evolve_middle()"
   ]
  },
  {
   "cell_type": "code",
   "execution_count": null,
   "metadata": {},
   "outputs": [],
   "source": [
    "evolve_middle()"
   ]
  },
  {
   "cell_type": "code",
   "execution_count": null,
   "metadata": {},
   "outputs": [],
   "source": [
    "evolve_middle()"
   ]
  },
  {
   "cell_type": "code",
   "execution_count": null,
   "metadata": {},
   "outputs": [],
   "source": [
    "evolve_middle()"
   ]
  },
  {
   "cell_type": "code",
   "execution_count": null,
   "metadata": {},
   "outputs": [],
   "source": [
    "tree = MIDDLE_POPULATION[0]\n",
    "print(astor.to_source(tree), middle_fitness(tree))"
   ]
  },
  {
   "cell_type": "code",
   "execution_count": null,
   "metadata": {},
   "outputs": [],
   "source": [
    "for i in range(50):\n",
    "    evolve_middle()\n",
    "    best_tree = MIDDLE_POPULATION[0]\n",
    "    fitness = middle_fitness(best_tree)\n",
    "    print(f\"\\rIteration {i:2}: fitness = {fitness}  \", end=\"\")\n",
    "    if fitness >= 1.0:\n",
    "        break"
   ]
  },
  {
   "cell_type": "code",
   "execution_count": null,
   "metadata": {},
   "outputs": [],
   "source": [
    "print_content(astor.to_source(best_tree), '.py')"
   ]
  },
  {
   "cell_type": "markdown",
   "metadata": {},
   "source": [
    "## Simplifying"
   ]
  },
  {
   "cell_type": "markdown",
   "metadata": {},
   "source": [
    "### Textual Reduction"
   ]
  },
  {
   "cell_type": "markdown",
   "metadata": {},
   "source": [
    "We could use `DeltaDebugger` on code to minimize the whole thing."
   ]
  },
  {
   "cell_type": "code",
   "execution_count": null,
   "metadata": {},
   "outputs": [],
   "source": [
    "from DeltaDebugger import DeltaDebugger"
   ]
  },
  {
   "cell_type": "code",
   "execution_count": null,
   "metadata": {},
   "outputs": [],
   "source": [
    "middle_lines = astor.to_source(best_tree).split('\\n')"
   ]
  },
  {
   "cell_type": "code",
   "execution_count": null,
   "metadata": {},
   "outputs": [],
   "source": [
    "def test_middle_lines(lines):\n",
    "    source = \"\\n\".join(lines)\n",
    "    tree = ast.parse(source)\n",
    "    assert middle_fitness(tree) < 1.0  # \"Fail\" only while fitness is 1.0"
   ]
  },
  {
   "cell_type": "code",
   "execution_count": null,
   "metadata": {},
   "outputs": [],
   "source": [
    "with DeltaDebugger() as dd:\n",
    "    test_middle_lines(middle_lines)"
   ]
  },
  {
   "cell_type": "code",
   "execution_count": null,
   "metadata": {},
   "outputs": [],
   "source": [
    "reduced_source = \"\\n\".join(dd.min_args()['lines'])\n",
    "repaired_source = astor.to_source(ast.parse(reduced_source))  # normalize\n",
    "print_content(repaired_source, '.py')"
   ]
  },
  {
   "cell_type": "markdown",
   "metadata": {},
   "source": [
    "We can present the difference to the original as a patch:"
   ]
  },
  {
   "cell_type": "code",
   "execution_count": null,
   "metadata": {},
   "outputs": [],
   "source": [
    "print(middle_source)"
   ]
  },
  {
   "cell_type": "code",
   "execution_count": null,
   "metadata": {},
   "outputs": [],
   "source": [
    "original_source = astor.to_source(ast.parse(middle_source))  # normalize"
   ]
  },
  {
   "cell_type": "code",
   "execution_count": null,
   "metadata": {},
   "outputs": [],
   "source": [
    "print(original_source)"
   ]
  },
  {
   "cell_type": "code",
   "execution_count": null,
   "metadata": {},
   "outputs": [],
   "source": [
    "from ChangeDebugger import diff"
   ]
  },
  {
   "cell_type": "code",
   "execution_count": null,
   "metadata": {},
   "outputs": [],
   "source": [
    "import urllib"
   ]
  },
  {
   "cell_type": "code",
   "execution_count": null,
   "metadata": {},
   "outputs": [],
   "source": [
    "def print_patch(p):\n",
    "    print_content(urllib.parse.unquote(str(p)), '.py')"
   ]
  },
  {
   "cell_type": "code",
   "execution_count": null,
   "metadata": {},
   "outputs": [],
   "source": [
    "original = original_source\n",
    "repair = repaired_source"
   ]
  },
  {
   "cell_type": "code",
   "execution_count": null,
   "metadata": {},
   "outputs": [],
   "source": [
    "for patch in diff(original, repair):\n",
    "    print_patch(patch)"
   ]
  },
  {
   "cell_type": "markdown",
   "metadata": {},
   "source": [
    "## Crossover"
   ]
  },
  {
   "cell_type": "markdown",
   "metadata": {},
   "source": [
    "Pick two ASTs. Pick two functions. Do a crossover on any body sequence."
   ]
  },
  {
   "cell_type": "code",
   "execution_count": null,
   "metadata": {},
   "outputs": [],
   "source": [
    "def p1():\n",
    "    def inner():\n",
    "        print(a)\n",
    "        print(b)\n",
    "        print(c)\n",
    "\n",
    "    a = 1\n",
    "    b = 2\n",
    "    c = 3"
   ]
  },
  {
   "cell_type": "code",
   "execution_count": null,
   "metadata": {},
   "outputs": [],
   "source": [
    "def p2():\n",
    "    def inner():\n",
    "        print(x)\n",
    "        print(y)\n",
    "        print(z)\n",
    "\n",
    "    x = 1\n",
    "    y = 2\n",
    "    z = 3"
   ]
  },
  {
   "cell_type": "code",
   "execution_count": null,
   "metadata": {},
   "outputs": [],
   "source": [
    "class BodyCrossover:\n",
    "    def __init__(self, log=False):\n",
    "        self.log = log\n",
    "\n",
    "    def cross_bodies(self, body_1, body_2):\n",
    "        \"\"\"Crossover the statement lists `body_1` x `body_2`.\n",
    "        Return new lists.\n",
    "        \"\"\"\n",
    "\n",
    "        assert isinstance(body_1, list)\n",
    "        assert isinstance(body_2, list)\n",
    "\n",
    "        split_1 = len(body_1) // 2\n",
    "        split_2 = len(body_2) // 2\n",
    "        return body_1[:split_1] + body_2[split_2:], body_2[:split_2] + body_1[split_1:]"
   ]
  },
  {
   "cell_type": "code",
   "execution_count": null,
   "metadata": {},
   "outputs": [],
   "source": [
    "tree_p1 = ast.parse(inspect.getsource(p1))\n",
    "tree_p2 = ast.parse(inspect.getsource(p2))"
   ]
  },
  {
   "cell_type": "code",
   "execution_count": null,
   "metadata": {},
   "outputs": [],
   "source": [
    "body_p1 = tree_p1.body[0].body\n",
    "body_p2 = tree_p2.body[0].body\n",
    "body_p1"
   ]
  },
  {
   "cell_type": "code",
   "execution_count": null,
   "metadata": {},
   "outputs": [],
   "source": [
    "crosser = BodyCrossover()\n",
    "tree_p1.body[0].body, tree_p2.body[0].body = crosser.cross_bodies(body_p1, body_p2)"
   ]
  },
  {
   "cell_type": "code",
   "execution_count": null,
   "metadata": {},
   "outputs": [],
   "source": [
    "print_content(astor.to_source(tree_p1), '.py')"
   ]
  },
  {
   "cell_type": "code",
   "execution_count": null,
   "metadata": {},
   "outputs": [],
   "source": [
    "print_content(astor.to_source(tree_p2), '.py')"
   ]
  },
  {
   "cell_type": "code",
   "execution_count": null,
   "metadata": {},
   "outputs": [],
   "source": [
    "class BodyCrossover(BodyCrossover):\n",
    "    # In modules and class defs, the ordering of elements does not matter (much)\n",
    "    SKIP_LIST = {ast.Module, ast.ClassDef}\n",
    "\n",
    "    def can_cross(self, tree, body_attr='body'):\n",
    "        if any(isinstance(tree, cls) for cls in self.SKIP_LIST):\n",
    "            return False\n",
    "\n",
    "        body = getattr(tree, body_attr, [])\n",
    "        return body and len(body) >= 2"
   ]
  },
  {
   "cell_type": "code",
   "execution_count": null,
   "metadata": {},
   "outputs": [],
   "source": [
    "class BodyCrossover(BodyCrossover):\n",
    "    def crossover_attr(self, t1, t2, body_attr):\n",
    "        \"\"\"Crossover the bodies `body_attr` of two trees `t1` and `t2`.\n",
    "        Return True if successful.\"\"\"\n",
    "        assert isinstance(t1, ast.AST)\n",
    "        assert isinstance(t2, ast.AST)\n",
    "        assert isinstance(body_attr, str)\n",
    "\n",
    "        if not getattr(t1, body_attr, None) or not getattr(t2, body_attr, None):\n",
    "            return False\n",
    "\n",
    "        body_1 = getattr(t1, body_attr)\n",
    "        body_2 = getattr(t2, body_attr)\n",
    "\n",
    "        # print(f\"t1.{body_attr} = {body_1}\")\n",
    "        # print(f\"t2.{body_attr} = {body_2}\")\n",
    "\n",
    "        # If both trees have the attribute, we can cross their bodies\n",
    "        if self.can_cross(t1, body_attr) and self.can_cross(t2, body_attr):\n",
    "            if self.log:\n",
    "                print(f\"Crossing {t1}.{body_attr} and {t2}.{body_attr}\")\n",
    "\n",
    "            new_body_1, new_body_2 = self.cross_bodies(body_1, body_2)\n",
    "            setattr(t1, body_attr, new_body_1)\n",
    "            setattr(t2, body_attr, new_body_2)\n",
    "            return True\n",
    "\n",
    "        # Strategy 1: Find matches in class/function of same name\n",
    "        for child_1 in body_1:\n",
    "            if hasattr(child_1, 'name'):\n",
    "                for child_2 in body_2:\n",
    "                    if (hasattr(child_2, 'name') and\n",
    "                           child_1.name == child_2.name):\n",
    "                        if self.crossover(child_1, child_2):\n",
    "                            return True\n",
    "\n",
    "        # Strategy 2: Find matches anywhere\n",
    "        for child_1 in random.sample(body_1, len(body_1)):\n",
    "            for child_2 in random.sample(body_2, len(body_2)):\n",
    "                if self.crossover(child_1, child_2):\n",
    "                    return True\n",
    "\n",
    "        return False"
   ]
  },
  {
   "cell_type": "code",
   "execution_count": null,
   "metadata": {},
   "outputs": [],
   "source": [
    "class BodyCrossover(BodyCrossover):\n",
    "    def crossover_branches(self, t1, t2):\n",
    "        \"\"\"Special case:\n",
    "        `t1` = `if P: S1 else: S2` x `t2` = `if P': S1' else: S2'`\n",
    "        becomes\n",
    "        `t1` = `if P: S2' else: S1'` and `t2` = `if P': S2 else: S1`\n",
    "        Returns True if successful.\n",
    "        \"\"\"\n",
    "        assert isinstance(t1, ast.AST)\n",
    "        assert isinstance(t2, ast.AST)\n",
    "        \n",
    "        if (hasattr(t1, 'body') and hasattr(t1, 'orelse') and\n",
    "            hasattr(t2, 'body') and hasattr(t2, 'orelse')):\n",
    "            t1.body, t1.orelse, t2.body, t2.orelse = \\\n",
    "                t2.orelse, t2.body, t2.orelse, t1.body\n",
    "            return True\n",
    "\n",
    "        return False"
   ]
  },
  {
   "cell_type": "code",
   "execution_count": null,
   "metadata": {},
   "outputs": [],
   "source": [
    "class CrossoverError(ValueError):\n",
    "    pass"
   ]
  },
  {
   "cell_type": "code",
   "execution_count": null,
   "metadata": {},
   "outputs": [],
   "source": [
    "class BodyCrossover(BodyCrossover):\n",
    "    def crossover(self, t1, t2):\n",
    "        \"\"\"Do a crossover of ASTs `t1` and `t2`.\n",
    "        Raises `CrossoverError` if no crossover is found.\"\"\"\n",
    "        assert isinstance(t1, ast.AST)\n",
    "        assert isinstance(t2, ast.AST)\n",
    "\n",
    "        if self.crossover_branches(t1, t2):\n",
    "            return t1, t2\n",
    "\n",
    "        for body_attr in ['body', 'orelse', 'finalbody']:\n",
    "            if self.crossover_attr(t1, t2, body_attr):\n",
    "                return t1, t2\n",
    "\n",
    "        raise CrossoverError(\"No crossover found\")"
   ]
  },
  {
   "cell_type": "code",
   "execution_count": null,
   "metadata": {},
   "outputs": [],
   "source": [
    "def p1():\n",
    "    if True:\n",
    "        print(1)\n",
    "        print(2)\n",
    "        print(3)"
   ]
  },
  {
   "cell_type": "code",
   "execution_count": null,
   "metadata": {},
   "outputs": [],
   "source": [
    "def p2():\n",
    "    if True:\n",
    "        print(a)\n",
    "        print(b)\n",
    "    if False:\n",
    "        print(c)\n",
    "        print(d)"
   ]
  },
  {
   "cell_type": "code",
   "execution_count": null,
   "metadata": {},
   "outputs": [],
   "source": [
    "crossover = BodyCrossover(log=True)\n",
    "tree_p1 = ast.parse(inspect.getsource(p1))\n",
    "tree_p2 = ast.parse(inspect.getsource(p2))\n",
    "crossover.crossover(tree_p1, tree_p2)"
   ]
  },
  {
   "cell_type": "code",
   "execution_count": null,
   "metadata": {},
   "outputs": [],
   "source": [
    "print_content(astor.to_source(tree_p1), '.py')"
   ]
  },
  {
   "cell_type": "code",
   "execution_count": null,
   "metadata": {},
   "outputs": [],
   "source": [
    "print_content(astor.to_source(tree_p2), '.py')"
   ]
  },
  {
   "cell_type": "markdown",
   "metadata": {},
   "source": [
    "## A Repairer Class"
   ]
  },
  {
   "cell_type": "code",
   "execution_count": null,
   "metadata": {},
   "outputs": [],
   "source": [
    "class RobustCoverageCollector(CoverageCollector):\n",
    "    def __init__(self, *args, **kwargs):\n",
    "        super().__init__(*args, **kwargs)\n",
    "        self.exception_type = None\n",
    "\n",
    "    def __exit__(self, tp, value, traceback):\n",
    "        \"\"\"Called at end of `with` block. Turn tracing off.\"\"\"\n",
    "        super().__exit__(tp, value, traceback)\n",
    "        self.exception_type = tp\n",
    "        return True  # ignore exception"
   ]
  },
  {
   "cell_type": "code",
   "execution_count": null,
   "metadata": {},
   "outputs": [],
   "source": [
    "class Repairer(OchiaiDebugger):\n",
    "    def __init__(self, *args, **kwargs):\n",
    "        self.fitness_cache = {}\n",
    "        return super().__init__(RobustCoverageCollector, *args, **kwargs)"
   ]
  },
  {
   "cell_type": "code",
   "execution_count": null,
   "metadata": {},
   "outputs": [],
   "source": [
    "class FailureNotReproducedError(ValueError):\n",
    "    pass"
   ]
  },
  {
   "cell_type": "code",
   "execution_count": null,
   "metadata": {},
   "outputs": [],
   "source": [
    "class Repairer(Repairer):\n",
    "    def run_test_set(self, test_set, validate=False):\n",
    "        passed = 0\n",
    "        collectors = self.collectors[test_set]\n",
    "        function = globals()[self.function().__name__]  # may be redefined\n",
    "\n",
    "        for c in collectors:\n",
    "            if self.log >= 4:\n",
    "                print(f\"Testing {c.id()}...\", end=\"\")\n",
    "\n",
    "            try:\n",
    "                function(**c.args())\n",
    "            except Exception as err:\n",
    "                if self.log >= 4:\n",
    "                    print(f\"failed ({err.__class__.__name__})\")\n",
    "\n",
    "                if validate and test_set == self.PASS:\n",
    "                    raise err(\n",
    "                        f\"{c.id()} should have passed, but failed\")\n",
    "                continue\n",
    "\n",
    "            passed += 1\n",
    "            if self.log >= 4:\n",
    "                print(\"passed\")\n",
    "\n",
    "            if validate and test_set == self.FAIL:\n",
    "                raise FailureNotReproducedError(\n",
    "                    f\"{c.id()} should have failed, but passed\")\n",
    "\n",
    "        return passed"
   ]
  },
  {
   "cell_type": "code",
   "execution_count": null,
   "metadata": {},
   "outputs": [],
   "source": [
    "class Repairer(Repairer):\n",
    "    def weight(self, test_set):\n",
    "        return {\n",
    "            self.PASS: WEIGHT_PASSING,\n",
    "            self.FAIL: WEIGHT_FAILING\n",
    "        }[test_set]\n",
    "\n",
    "    def run_tests(self, validate=False):\n",
    "        # Run tests\n",
    "        fitness = 0\n",
    "\n",
    "        for test_set in [self.PASS, self.FAIL]:\n",
    "            passed = self.run_test_set(test_set, validate=validate)\n",
    "            ratio = passed / len(self.collectors[test_set])\n",
    "            fitness += self.weight(test_set) * ratio\n",
    "\n",
    "        return fitness"
   ]
  },
  {
   "cell_type": "code",
   "execution_count": null,
   "metadata": {},
   "outputs": [],
   "source": [
    "class DefinitionVisitor(NodeVisitor):\n",
    "    def __init__(self):\n",
    "        self.definitions = []\n",
    "\n",
    "    def add_definition(self, node):\n",
    "        self.definitions.append(node.name)\n",
    "\n",
    "    def visit_FunctionDef(self, node):\n",
    "        self.add_definition(node)\n",
    "\n",
    "    def visit_AsyncFunctionDef(self, node):\n",
    "        self.add_definition(node)\n",
    "\n",
    "    def visit_Class(self, node):\n",
    "        self.add_definition(node)"
   ]
  },
  {
   "cell_type": "code",
   "execution_count": null,
   "metadata": {},
   "outputs": [],
   "source": [
    "class Repairer(Repairer):\n",
    "    def toplevel_defs(self, tree):\n",
    "        visitor = DefinitionVisitor()\n",
    "        visitor.visit(tree)\n",
    "        return visitor.definitions"
   ]
  },
  {
   "cell_type": "code",
   "execution_count": null,
   "metadata": {},
   "outputs": [],
   "source": [
    "class Repairer(Repairer):\n",
    "    def fitness(self, tree):\n",
    "        key = ast.dump(tree)\n",
    "        if key in self.fitness_cache:\n",
    "            return self.fitness_cache[key]\n",
    "\n",
    "        # Save defs\n",
    "        original_defs = {}\n",
    "        for name in self.toplevel_defs(tree):\n",
    "            original_defs[name] = globals()[name]\n",
    "\n",
    "        if self.log >= 3:\n",
    "            print(\"Repair candidate:\")\n",
    "            print_content(astor.to_source(tree), '.py')\n",
    "            print()\n",
    "\n",
    "        # Create new definition\n",
    "        try:\n",
    "            code = compile(tree, '<Repairer>', 'exec')\n",
    "        except ValueError:  # Compilation error\n",
    "            if self.log >= 3:\n",
    "                print(f\"Fitness = 0 (compilation error)\")\n",
    "\n",
    "            fitness = 0\n",
    "            return fitness\n",
    "\n",
    "        exec(code, globals())\n",
    "\n",
    "        fitness = self.run_tests(validate=False)\n",
    "\n",
    "        for name in original_defs:\n",
    "            globals()[name] = original_defs[name]\n",
    "\n",
    "        if self.log >= 3:\n",
    "            print(f\"Fitness = {fitness}\")\n",
    "\n",
    "        self.fitness_cache[key] = fitness\n",
    "        return fitness"
   ]
  },
  {
   "cell_type": "code",
   "execution_count": null,
   "metadata": {},
   "outputs": [],
   "source": [
    "class Repairer(Repairer):\n",
    "    def validate(self):\n",
    "        fitness = self.run_tests(validate=True)\n",
    "        assert fitness == self.weight(self.PASS)"
   ]
  },
  {
   "cell_type": "code",
   "execution_count": null,
   "metadata": {},
   "outputs": [],
   "source": [
    "class Repairer(Repairer):\n",
    "    def getsource(self, item):\n",
    "        if isinstance(item, str):\n",
    "            item = globals()[item]\n",
    "        return inspect.getsource(item)"
   ]
  },
  {
   "cell_type": "code",
   "execution_count": null,
   "metadata": {},
   "outputs": [],
   "source": [
    "class Repairer(Repairer):\n",
    "    def default_functions(self):\n",
    "        def is_test(name):\n",
    "            return name.startswith('test') or name.endswith('test')\n",
    "\n",
    "        return [name for name in self.covered_functions()\n",
    "                if not is_test(name)]\n",
    "\n",
    "    def log_tree(self, description, tree):\n",
    "        if self.log:\n",
    "            print(description)\n",
    "            print_content(astor.to_source(tree), '.py')\n",
    "            print()\n",
    "            print()\n",
    "            \n",
    "    def parse(self, names):\n",
    "        tree = ast.parse(\"\")\n",
    "        for name in names:\n",
    "            item = globals()[name]\n",
    "            item_lines, item_first_lineno = inspect.getsourcelines(item)\n",
    "            item_tree = ast.parse(\"\".join(item_lines))\n",
    "            ast.increment_lineno(item_tree, item_first_lineno - 1)\n",
    "            tree.body += item_tree.body\n",
    "\n",
    "        return tree"
   ]
  },
  {
   "cell_type": "code",
   "execution_count": null,
   "metadata": {},
   "outputs": [],
   "source": [
    "class Repairer(Repairer):\n",
    "    def repair(self, targets=None, sources=None, \n",
    "               population_size=POPULATION_SIZE,\n",
    "               iterations=100, \n",
    "               mutator_cls=StatementMutator, mutator=None, \n",
    "               crossover_cls=BodyCrossover, crossover=None):\n",
    "        \"\"\"Repair the function test runs collected from.\n",
    "        `targets`: a list of functions/modules to be repaired.\n",
    "        (default: covered functions)\n",
    "        `sources`: a list of functions/modules to take repairs from.\n",
    "        (default: `targets`)\n",
    "        \"\"\"\n",
    "        if targets is None:\n",
    "            targets = self.default_functions()\n",
    "        if not targets:\n",
    "            raise ValueError(\"No targets to repair\")\n",
    "\n",
    "        if sources is None:\n",
    "            sources = self.default_functions()\n",
    "        if not sources:\n",
    "            raise ValueError(\"No sources to take repairs from\")\n",
    "\n",
    "        if self.function() is None:\n",
    "            raise ValueError(\"Multiple entry points observed\")\n",
    "            \n",
    "        target_tree = self.parse(targets)\n",
    "        source_tree = self.parse(sources)\n",
    "\n",
    "        self.log_tree(\"Target code to be repaired:\", target_tree)\n",
    "        if ast.dump(target_tree) != ast.dump(source_tree):\n",
    "            self.log_tree(\"Source code to take repairs from:\", source_tree)\n",
    "\n",
    "        self.validate()\n",
    "\n",
    "        if mutator is None:\n",
    "            statements = all_statements(source_tree)\n",
    "            mutator = mutator_cls(statements=statements, \n",
    "                                  suspiciousness_func=self.suspiciousness,\n",
    "                                  log=(self.log >= 3))\n",
    "        if crossover is None:\n",
    "            crossover = crossover_cls()\n",
    "\n",
    "        population = [target_tree] + \\\n",
    "            [mutator.mutate(copy.deepcopy(target_tree))\n",
    "                for i in range(population_size)]\n",
    "\n",
    "        last_key = ast.dump(target_tree)\n",
    "\n",
    "        for iteration in range(iterations):\n",
    "            population = self.evolve(population, mutator, crossover)\n",
    "\n",
    "            best_tree = population[0]\n",
    "            fitness = self.fitness(best_tree)\n",
    "\n",
    "            if self.log:\n",
    "                print(f\"Evolving population: \"\n",
    "                      f\"iteration{iteration:4}/{iterations} \"\n",
    "                      f\"fitness = {fitness:.5}   \\r\", end=\"\")\n",
    "\n",
    "            if self.log >= 2:\n",
    "                best_key = ast.dump(best_tree)\n",
    "                if best_key != last_key:\n",
    "                    print()\n",
    "                    print()\n",
    "                    self.log_tree(f\"New best code (fitness = {fitness}):\",\n",
    "                                  best_tree)\n",
    "                    last_key = best_key\n",
    "\n",
    "            if fitness >= 1.0:\n",
    "                break\n",
    "\n",
    "        if self.log:\n",
    "            print()\n",
    "\n",
    "        if self.log and self.log < 2:\n",
    "            self.log_tree(f\"Best code (fitness = {fitness}):\", best_tree)\n",
    "\n",
    "        best_tree = self.reduce(best_tree)\n",
    "        fitness = self.fitness(best_tree)\n",
    "\n",
    "        self.log_tree(f\"Reduced code (fitness = {fitness}):\", best_tree)\n",
    "\n",
    "        return best_tree, fitness"
   ]
  },
  {
   "cell_type": "code",
   "execution_count": null,
   "metadata": {},
   "outputs": [],
   "source": [
    "class Repairer(Repairer):\n",
    "    def evolve(self, population, mutator, crossover):\n",
    "        n = len(population)\n",
    "\n",
    "        population.sort(key=self.fitness, reverse=True)\n",
    "        population = population[:n // 2]\n",
    "\n",
    "        offspring = [mutator.mutate(tree) for tree in population]\n",
    "        population += offspring\n",
    "\n",
    "        return population"
   ]
  },
  {
   "cell_type": "code",
   "execution_count": null,
   "metadata": {},
   "outputs": [],
   "source": [
    "class Repairer(Repairer):\n",
    "    def fitness_key(self, tree):\n",
    "        tree_size = len([node for node in ast.walk(tree)])\n",
    "        return (self.fitness(tree), -tree_size)"
   ]
  },
  {
   "cell_type": "code",
   "execution_count": null,
   "metadata": {},
   "outputs": [],
   "source": [
    "class Repairer(Repairer):\n",
    "    def evolve(self, population, mutator, crossover):\n",
    "        n = len(population)\n",
    "\n",
    "        # Keep the fitter half of the population\n",
    "        population.sort(key=self.fitness_key, reverse=True)\n",
    "        population = population[:n // 2]\n",
    "\n",
    "        # Create offspring as crossover of parents\n",
    "        offspring = []\n",
    "        while len(offspring) < n // 2:\n",
    "            parent_1 = copy.deepcopy(random.choice(population))\n",
    "            parent_2 = copy.deepcopy(random.choice(population))\n",
    "            try:\n",
    "                crossover.crossover(parent_1, parent_2)\n",
    "                offspring += [parent_1, parent_2]\n",
    "            except CrossoverError:\n",
    "                # Try different parents\n",
    "                pass\n",
    "\n",
    "        # Mutate offspring\n",
    "        offspring = [mutator.mutate(tree) for tree in offspring]\n",
    "        population += offspring\n",
    "\n",
    "        return population"
   ]
  },
  {
   "cell_type": "code",
   "execution_count": null,
   "metadata": {},
   "outputs": [],
   "source": [
    "class Repairer(Repairer):\n",
    "    def test_reduce(self, lines, original_fitness):\n",
    "        source = \"\\n\".join(lines)\n",
    "        tree = ast.parse(source)\n",
    "        assert self.fitness(tree) < original_fitness\n",
    "\n",
    "    def reduce(self, tree):\n",
    "        original_fitness = self.fitness(tree)\n",
    "        source_lines = astor.to_source(tree).split('\\n')\n",
    "\n",
    "        with DeltaDebugger() as dd:\n",
    "            self.test_reduce(source_lines, original_fitness)\n",
    "\n",
    "        reduced_source = \"\\n\".join(dd.min_args()['lines'])\n",
    "        return ast.parse(reduced_source)"
   ]
  },
  {
   "cell_type": "code",
   "execution_count": null,
   "metadata": {},
   "outputs": [],
   "source": [
    "repairer = Repairer(log=2)"
   ]
  },
  {
   "cell_type": "code",
   "execution_count": null,
   "metadata": {},
   "outputs": [],
   "source": [
    "for x, y, z in MIDDLE_PASSING_TESTCASES:\n",
    "    with repairer.collect_pass():\n",
    "        m = middle_test(x, y, z)"
   ]
  },
  {
   "cell_type": "code",
   "execution_count": null,
   "metadata": {},
   "outputs": [],
   "source": [
    "for x, y, z in MIDDLE_FAILING_TESTCASES:\n",
    "    with repairer.collect_fail():\n",
    "        m = middle_test(x, y, z)"
   ]
  },
  {
   "cell_type": "code",
   "execution_count": null,
   "metadata": {},
   "outputs": [],
   "source": [
    "print(repairer.code(function=middle, suspiciousness=True))"
   ]
  },
  {
   "cell_type": "code",
   "execution_count": null,
   "metadata": {},
   "outputs": [],
   "source": [
    "# repairer  # FIXME"
   ]
  },
  {
   "cell_type": "code",
   "execution_count": null,
   "metadata": {},
   "outputs": [],
   "source": [
    "repairer.rank()"
   ]
  },
  {
   "cell_type": "code",
   "execution_count": null,
   "metadata": {},
   "outputs": [],
   "source": [
    "repairer.suspiciousness(('middle', 508))"
   ]
  },
  {
   "cell_type": "code",
   "execution_count": null,
   "metadata": {},
   "outputs": [],
   "source": [
    "best_tree, fitness = repairer.repair()"
   ]
  },
  {
   "cell_type": "code",
   "execution_count": null,
   "metadata": {},
   "outputs": [],
   "source": [
    "print_content(astor.to_source(best_tree), '.py')"
   ]
  },
  {
   "cell_type": "code",
   "execution_count": null,
   "metadata": {},
   "outputs": [],
   "source": [
    "fitness"
   ]
  },
  {
   "cell_type": "markdown",
   "metadata": {},
   "source": [
    "## More Examples"
   ]
  },
  {
   "cell_type": "markdown",
   "metadata": {},
   "source": [
    "### Removing HTML Markup"
   ]
  },
  {
   "cell_type": "code",
   "execution_count": null,
   "metadata": {},
   "outputs": [],
   "source": [
    "def remove_html_markup(s):\n",
    "    tag = False\n",
    "    quote = False\n",
    "    out = \"\"\n",
    "\n",
    "    for c in s:\n",
    "        if c == '<' and not quote:\n",
    "            tag = True\n",
    "        elif c == '>' and not quote:\n",
    "            tag = False\n",
    "        elif c == '\"' or c == \"'\" and tag:\n",
    "            quote = not quote\n",
    "        elif not tag:\n",
    "            out = out + c\n",
    "\n",
    "    return out"
   ]
  },
  {
   "cell_type": "code",
   "execution_count": null,
   "metadata": {},
   "outputs": [],
   "source": [
    "def remove_html_markup_tree():\n",
    "    return ast.parse(inspect.getsource(remove_html_markup))"
   ]
  },
  {
   "cell_type": "code",
   "execution_count": null,
   "metadata": {},
   "outputs": [],
   "source": [
    "def remove_html_markup_test(html, plain):\n",
    "    outcome = remove_html_markup(html)\n",
    "    assert outcome == plain, \\\n",
    "        f\"Got {repr(outcome)}, expected {repr(plain)}\""
   ]
  },
  {
   "cell_type": "code",
   "execution_count": null,
   "metadata": {},
   "outputs": [],
   "source": [
    "globals()['remove_html_markup_test']"
   ]
  },
  {
   "cell_type": "code",
   "execution_count": null,
   "metadata": {},
   "outputs": [],
   "source": [
    "remove_html_markup_test('<foo>bar</foo>', 'bar')"
   ]
  },
  {
   "cell_type": "code",
   "execution_count": null,
   "metadata": {},
   "outputs": [],
   "source": [
    "from ExpectError import ExpectError"
   ]
  },
  {
   "cell_type": "code",
   "execution_count": null,
   "metadata": {},
   "outputs": [],
   "source": [
    "with ExpectError():\n",
    "    remove_html_markup_test('<foo>\"bar\"</foo>', '\"bar\"')"
   ]
  },
  {
   "cell_type": "code",
   "execution_count": null,
   "metadata": {},
   "outputs": [],
   "source": [
    "def random_string(length=5, start=ord(' '), end=ord('~')):\n",
    "    return \"\".join(chr(random.randrange(start, end + 1)) for i in range(length))"
   ]
  },
  {
   "cell_type": "code",
   "execution_count": null,
   "metadata": {},
   "outputs": [],
   "source": [
    "random_string()"
   ]
  },
  {
   "cell_type": "code",
   "execution_count": null,
   "metadata": {},
   "outputs": [],
   "source": [
    "def random_id(length=2):\n",
    "    return random_string(start=ord('a'), end=ord('z'))"
   ]
  },
  {
   "cell_type": "code",
   "execution_count": null,
   "metadata": {},
   "outputs": [],
   "source": [
    "random_id()"
   ]
  },
  {
   "cell_type": "code",
   "execution_count": null,
   "metadata": {},
   "outputs": [],
   "source": [
    "def random_plain():\n",
    "    return random_string().replace('<', '').replace('>', '')"
   ]
  },
  {
   "cell_type": "code",
   "execution_count": null,
   "metadata": {},
   "outputs": [],
   "source": [
    "def random_string_noquotes():\n",
    "    return random_string().replace('\"', '').replace(\"'\", '')"
   ]
  },
  {
   "cell_type": "code",
   "execution_count": null,
   "metadata": {},
   "outputs": [],
   "source": [
    "def random_html(depth=0):\n",
    "    prefix = random_plain()\n",
    "    tag = random_id()\n",
    "\n",
    "    if depth > 0:\n",
    "        html, plain = random_html(depth - 1)\n",
    "    else:\n",
    "        html = plain = random_plain()\n",
    "\n",
    "    attr = random_id()\n",
    "    value = '\"' + random_string_noquotes() + '\"'\n",
    "    postfix = random_plain()\n",
    "\n",
    "    return f'{prefix}<{tag} {attr}={value}>{html}</{tag}>{postfix}', \\\n",
    "        prefix + plain + postfix"
   ]
  },
  {
   "cell_type": "code",
   "execution_count": null,
   "metadata": {},
   "outputs": [],
   "source": [
    "random_html()"
   ]
  },
  {
   "cell_type": "code",
   "execution_count": null,
   "metadata": {},
   "outputs": [],
   "source": [
    "def remove_html_testcase(expected=True):\n",
    "    while True:\n",
    "        html, plain = random_html()\n",
    "        outcome = (remove_html_markup(html) == plain)\n",
    "        if outcome == expected:\n",
    "            return html, plain"
   ]
  },
  {
   "cell_type": "code",
   "execution_count": null,
   "metadata": {},
   "outputs": [],
   "source": [
    "REMOVE_HTML_PASSING_TESTCASES = \\\n",
    "    [remove_html_testcase(True) for i in range(100)]\n",
    "REMOVE_HTML_FAILING_TESTCASES = \\\n",
    "    [remove_html_testcase(False) for i in range(100)]"
   ]
  },
  {
   "cell_type": "code",
   "execution_count": null,
   "metadata": {},
   "outputs": [],
   "source": [
    "REMOVE_HTML_PASSING_TESTCASES[0]"
   ]
  },
  {
   "cell_type": "code",
   "execution_count": null,
   "metadata": {},
   "outputs": [],
   "source": [
    "REMOVE_HTML_FAILING_TESTCASES[0]"
   ]
  },
  {
   "cell_type": "code",
   "execution_count": null,
   "metadata": {},
   "outputs": [],
   "source": [
    "for html, plain in REMOVE_HTML_FAILING_TESTCASES:\n",
    "    try:\n",
    "        remove_html_markup_test(html, plain)\n",
    "        assert False\n",
    "    except:\n",
    "        pass"
   ]
  },
  {
   "cell_type": "code",
   "execution_count": null,
   "metadata": {},
   "outputs": [],
   "source": [
    "for html, plain in REMOVE_HTML_PASSING_TESTCASES:\n",
    "    remove_html_markup_test(html, plain)"
   ]
  },
  {
   "cell_type": "code",
   "execution_count": null,
   "metadata": {},
   "outputs": [],
   "source": [
    "repairer = Repairer(log=2)"
   ]
  },
  {
   "cell_type": "code",
   "execution_count": null,
   "metadata": {},
   "outputs": [],
   "source": [
    "for html, plain in REMOVE_HTML_PASSING_TESTCASES:\n",
    "    with repairer.collect_pass():\n",
    "        remove_html_markup_test(html, plain)"
   ]
  },
  {
   "cell_type": "code",
   "execution_count": null,
   "metadata": {},
   "outputs": [],
   "source": [
    "for html, plain in REMOVE_HTML_FAILING_TESTCASES:\n",
    "    with repairer.collect_fail():\n",
    "        remove_html_markup_test(html, plain)"
   ]
  },
  {
   "cell_type": "code",
   "execution_count": null,
   "metadata": {},
   "outputs": [],
   "source": [
    "from IPython.display import HTML"
   ]
  },
  {
   "cell_type": "code",
   "execution_count": null,
   "metadata": {},
   "outputs": [],
   "source": [
    "with ExpectError():\n",
    "    repairer.code()  # FIXME"
   ]
  },
  {
   "cell_type": "code",
   "execution_count": null,
   "metadata": {},
   "outputs": [],
   "source": [
    "HTML(repairer.code(function=remove_html_markup, color=True))"
   ]
  },
  {
   "cell_type": "code",
   "execution_count": null,
   "metadata": {},
   "outputs": [],
   "source": [
    "best_tree, fitness = repairer.repair()"
   ]
  },
  {
   "cell_type": "markdown",
   "metadata": {},
   "source": [
    "## Mutate Conditions"
   ]
  },
  {
   "cell_type": "code",
   "execution_count": null,
   "metadata": {},
   "outputs": [],
   "source": [
    "class ConditionVisitor(NodeVisitor):\n",
    "    def __init__(self):\n",
    "        self.conditions = []\n",
    "        self.conditions_seen = set()\n",
    "        super().__init__()\n",
    "\n",
    "    def add_conditions(self, node, attr):\n",
    "        elems = getattr(node, attr, [])\n",
    "        if not isinstance(elems, list):\n",
    "            elems = [elems]\n",
    "\n",
    "        for elem in elems:\n",
    "            elem_str = astor.to_source(elem)\n",
    "            if elem_str not in self.conditions_seen:\n",
    "                self.conditions.append(elem)\n",
    "                self.conditions_seen.add(elem_str)\n",
    "\n",
    "    def visit_BoolOp(self, node):\n",
    "        self.add_conditions(node, 'values')\n",
    "        return super().generic_visit(node)\n",
    "\n",
    "    def visit_UnaryOp(self, node):\n",
    "        if isinstance(node.op, ast.Not):\n",
    "            self.add_conditions(node, 'operand')\n",
    "        return super().generic_visit(node)\n",
    "\n",
    "    def generic_visit(self, node):\n",
    "        if hasattr(node, 'test'):\n",
    "            self.add_conditions(node, 'test')\n",
    "        return super().generic_visit(node)"
   ]
  },
  {
   "cell_type": "code",
   "execution_count": null,
   "metadata": {},
   "outputs": [],
   "source": [
    "def all_conditions(trees, tp=None):\n",
    "    if not isinstance(trees, list):\n",
    "        assert isinstance(trees, ast.AST)\n",
    "        trees = [trees]\n",
    "\n",
    "    visitor = ConditionVisitor()\n",
    "    for tree in trees:\n",
    "        visitor.visit(tree)\n",
    "    conditions = visitor.conditions\n",
    "    if tp is not None:\n",
    "        conditions = [c for c in conditions if isinstance(c, tp)]\n",
    "\n",
    "    return conditions"
   ]
  },
  {
   "cell_type": "code",
   "execution_count": null,
   "metadata": {},
   "outputs": [],
   "source": [
    "[astor.to_source(cond).strip() for cond in all_conditions(remove_html_markup_tree())]"
   ]
  },
  {
   "cell_type": "code",
   "execution_count": null,
   "metadata": {},
   "outputs": [],
   "source": [
    "class ConditionMutator(StatementMutator):\n",
    "    def __init__(self, *args, **kwargs):\n",
    "        super().__init__(*args, **kwargs)\n",
    "        self.conditions = all_conditions(self.statements)\n",
    "        if self.log:\n",
    "            print(\"Found conditions\",\n",
    "                  [astor.to_source(cond).strip() for cond in self.conditions])\n",
    "\n",
    "    def choose_condition(self):\n",
    "        return copy.deepcopy(random.choice(self.conditions))"
   ]
  },
  {
   "cell_type": "code",
   "execution_count": null,
   "metadata": {},
   "outputs": [],
   "source": [
    "class ConditionMutator(ConditionMutator):\n",
    "    def choose_bool_op(self):\n",
    "        return random.choice(['set', 'not', 'and', 'or'])\n",
    "\n",
    "    def swap(self, node):\n",
    "        if not hasattr(node, 'test'):\n",
    "            return super().swap(node)\n",
    "\n",
    "        c1 = self.choose_condition()\n",
    "        c2 = self.choose_condition()\n",
    "        new_test = None\n",
    "\n",
    "        choice = self.choose_bool_op()\n",
    "\n",
    "        if choice == 'set':\n",
    "            new_test = c1\n",
    "        elif choice == 'not':\n",
    "            new_test = ast.UnaryOp(op=ast.Not(), operand=c1)\n",
    "        elif choice == 'and':\n",
    "            new_test = ast.BoolOp(op=ast.And(), values=[c1, c2])\n",
    "        elif choice == 'or':\n",
    "            new_test = ast.BoolOp(op=ast.Or(), values=[c1, c2])\n",
    "        else:\n",
    "            raise ValueError(\"Unknown boolean operand\")\n",
    "\n",
    "        if new_test:\n",
    "            # ast.copy_location(new_test, node)\n",
    "            node.test = new_test\n",
    "\n",
    "        return node"
   ]
  },
  {
   "cell_type": "code",
   "execution_count": null,
   "metadata": {},
   "outputs": [],
   "source": [
    "mutator = ConditionMutator(\n",
    "    statements=all_statements(remove_html_markup_tree()), log=True)"
   ]
  },
  {
   "cell_type": "code",
   "execution_count": null,
   "metadata": {},
   "outputs": [],
   "source": [
    "new_tree = mutator.mutate(remove_html_markup_tree())"
   ]
  },
  {
   "cell_type": "code",
   "execution_count": null,
   "metadata": {},
   "outputs": [],
   "source": [
    "repairer = Repairer(log=2)"
   ]
  },
  {
   "cell_type": "code",
   "execution_count": null,
   "metadata": {},
   "outputs": [],
   "source": [
    "for html, plain in REMOVE_HTML_PASSING_TESTCASES:\n",
    "    with repairer.collect_pass():\n",
    "        remove_html_markup_test(html, plain)"
   ]
  },
  {
   "cell_type": "code",
   "execution_count": null,
   "metadata": {},
   "outputs": [],
   "source": [
    "for html, plain in REMOVE_HTML_FAILING_TESTCASES:\n",
    "    with repairer.collect_fail():\n",
    "        remove_html_markup_test(html, plain)"
   ]
  },
  {
   "cell_type": "code",
   "execution_count": null,
   "metadata": {},
   "outputs": [],
   "source": [
    "repairer.repair(mutator_cls=ConditionMutator, iterations=200)"
   ]
  },
  {
   "cell_type": "markdown",
   "metadata": {},
   "source": [
    "## Synopsis"
   ]
  },
  {
   "cell_type": "markdown",
   "metadata": {},
   "source": [
    "We can repair things!"
   ]
  },
  {
   "cell_type": "markdown",
   "metadata": {
    "button": false,
    "new_sheet": true,
    "run_control": {
     "read_only": false
    }
   },
   "source": [
    "## Lessons Learned\n",
    "\n",
    "* _Lesson one_\n",
    "* _Lesson two_\n",
    "* _Lesson three_"
   ]
  },
  {
   "cell_type": "markdown",
   "metadata": {
    "button": false,
    "new_sheet": false,
    "run_control": {
     "read_only": false
    }
   },
   "source": [
    "## Next Steps\n",
    "\n",
    "_Link to subsequent chapters (notebooks) here, as in:_\n",
    "\n",
    "* [use _mutations_ on existing inputs to get more valid inputs](MutationFuzzer.ipynb)\n",
    "* [use _grammars_ (i.e., a specification of the input format) to get even more valid inputs](Grammars.ipynb)\n",
    "* [reduce _failing inputs_ for efficient debugging](Reducer.ipynb)\n"
   ]
  },
  {
   "cell_type": "markdown",
   "metadata": {},
   "source": [
    "## Background\n",
    "\n",
    "To learn more about automated program repair, see [program-repair.org](http://program-repair.org), the community page dedicated to research in program repair.  Also check out the [GenProg project page](https://squareslab.github.io/genprog-code/).\n",
    "\n",
    "_Cite relevant works in the literature and put them into context, as in:_\n",
    "\n",
    "The idea of ensuring that each expansion in the grammar is used at least once goes back to Burkhardt \\cite{Burkhardt1967}, to be later rediscovered by Paul Purdom \\cite{Purdom1972}."
   ]
  },
  {
   "cell_type": "markdown",
   "metadata": {
    "button": false,
    "new_sheet": true,
    "run_control": {
     "read_only": false
    }
   },
   "source": [
    "## Exercises\n",
    "\n",
    "_Close the chapter with a few exercises such that people have things to do.  To make the solutions hidden (to be revealed by the user), have them start with_\n",
    "\n",
    "```\n",
    "**Solution.**\n",
    "```\n",
    "\n",
    "_Your solution can then extend up to the next title (i.e., any markdown cell starting with `#`)._\n",
    "\n",
    "_Running `make metadata` will automatically add metadata to the cells such that the cells will be hidden by default, and can be uncovered by the user.  The button will be introduced above the solution._"
   ]
  },
  {
   "cell_type": "markdown",
   "metadata": {
    "button": false,
    "new_sheet": false,
    "run_control": {
     "read_only": false
    }
   },
   "source": [
    "### Exercise 1: _Title_\n",
    "\n",
    "_Text of the exercise_"
   ]
  },
  {
   "cell_type": "code",
   "execution_count": null,
   "metadata": {
    "cell_style": "center"
   },
   "outputs": [],
   "source": [
    "# Some code that is part of the exercise\n",
    "pass"
   ]
  },
  {
   "cell_type": "markdown",
   "metadata": {
    "solution2": "hidden",
    "solution2_first": true
   },
   "source": [
    "_Some more text for the exercise_"
   ]
  },
  {
   "cell_type": "markdown",
   "metadata": {
    "slideshow": {
     "slide_type": "skip"
    },
    "solution2": "hidden"
   },
   "source": [
    "**Solution.** _Some text for the solution_"
   ]
  },
  {
   "cell_type": "code",
   "execution_count": null,
   "metadata": {
    "cell_style": "split",
    "slideshow": {
     "slide_type": "skip"
    },
    "solution2": "hidden"
   },
   "outputs": [],
   "source": [
    "# Some code for the solution\n",
    "2 + 2"
   ]
  },
  {
   "cell_type": "markdown",
   "metadata": {
    "slideshow": {
     "slide_type": "skip"
    },
    "solution2": "hidden"
   },
   "source": [
    "_Some more text for the solution_"
   ]
  },
  {
   "cell_type": "markdown",
   "metadata": {
    "button": false,
    "new_sheet": false,
    "run_control": {
     "read_only": false
    },
    "solution": "hidden",
    "solution2": "hidden",
    "solution2_first": true,
    "solution_first": true
   },
   "source": [
    "### Exercise 2: _Title_\n",
    "\n",
    "_Text of the exercise_"
   ]
  },
  {
   "cell_type": "markdown",
   "metadata": {
    "button": false,
    "new_sheet": false,
    "run_control": {
     "read_only": false
    },
    "slideshow": {
     "slide_type": "skip"
    },
    "solution": "hidden",
    "solution2": "hidden"
   },
   "source": [
    "**Solution.** _Solution for the exercise_"
   ]
  },
  {
   "cell_type": "code",
   "execution_count": null,
   "metadata": {},
   "outputs": [],
   "source": [
    "class PrunePassTransformer(NodeTransformer):\n",
    "    def prune_pass(self, body):\n",
    "        if not body:\n",
    "            return body\n",
    "\n",
    "        # Get rid of `pass` statements\n",
    "        new_body = list(filter(lambda stmt: not isinstance(stmt, ast.Pass), body))\n",
    "        if len(new_body) == 0:\n",
    "            # Oops – we need at least one `pass`\n",
    "            new_node = ast.Pass()\n",
    "            ast.copy_location(new_node, body[0])\n",
    "            new_body = [new_node]\n",
    "\n",
    "        return new_body\n",
    "    \n",
    "    def visit_node(self, node):\n",
    "        if hasattr(node, 'body'):\n",
    "            node.body = self.prune_pass(node.body)\n",
    "        if hasattr(node, 'orelse'):\n",
    "            node.orelse = self.prune_pass(node.orelse)\n",
    "        return node\n",
    "\n",
    "    def generic_visit(self, node):\n",
    "        node = super().generic_visit(node)\n",
    "        return self.visit_node(node)"
   ]
  },
  {
   "cell_type": "code",
   "execution_count": null,
   "metadata": {},
   "outputs": [],
   "source": [
    "prune_passes = PrunePassTransformer()\n",
    "prune_passes.visit(best_tree)\n",
    "print_content(astor.to_source(best_tree), '.py')"
   ]
  },
  {
   "cell_type": "code",
   "execution_count": null,
   "metadata": {},
   "outputs": [],
   "source": [
    "class PruneReturnTransformer(NodeTransformer):\n",
    "    def ends_in_return(self, body):\n",
    "        return len(body) > 0 and isinstance(body[-1], ast.Return)\n",
    "\n",
    "    def prune_returns(self, body):\n",
    "        if body is None:\n",
    "            return None\n",
    "\n",
    "        # Get rid of statements after `return`\n",
    "        for i, stmt in enumerate(body):\n",
    "            if isinstance(stmt, ast.Return):\n",
    "                body = body[:i + 1]\n",
    "                break\n",
    "            if isinstance(stmt, ast.If):\n",
    "                body_returns = self.ends_in_return(stmt.body)\n",
    "                orelse_returns = self.ends_in_return(stmt.orelse)\n",
    "                if body_returns and orelse_returns:\n",
    "                    body = body[:i + 1]\n",
    "                    break\n",
    "\n",
    "        return body\n",
    "\n",
    "    def visit_node(self, node):\n",
    "        if hasattr(node, 'body'):\n",
    "            node.body = self.prune_returns(node.body)\n",
    "        if hasattr(node, 'orelse'):\n",
    "            node.orelse = self.prune_returns(node.orelse)\n",
    "        return node\n",
    "\n",
    "    def generic_visit(self, node):\n",
    "        node = super().generic_visit(node)\n",
    "        return self.visit_node(node)"
   ]
  },
  {
   "cell_type": "code",
   "execution_count": null,
   "metadata": {},
   "outputs": [],
   "source": [
    "prune_returns = PruneReturnTransformer()\n",
    "prune_returns.visit(best_tree)\n",
    "print_content(astor.to_source(best_tree), '.py')"
   ]
  }
 ],
 "metadata": {
  "ipub": {
   "bibliography": "fuzzingbook.bib",
   "toc": true
  },
  "kernelspec": {
   "display_name": "Python 3",
   "language": "python",
   "name": "python3"
  },
  "language_info": {
   "codemirror_mode": {
    "name": "ipython",
    "version": 3
   },
   "file_extension": ".py",
   "mimetype": "text/x-python",
   "name": "python",
   "nbconvert_exporter": "python",
   "pygments_lexer": "ipython3",
   "version": "3.6.10"
  },
  "toc": {
   "base_numbering": 1,
   "nav_menu": {},
   "number_sections": true,
   "sideBar": true,
   "skip_h1_title": true,
   "title_cell": "",
   "title_sidebar": "Contents",
   "toc_cell": false,
   "toc_position": {},
   "toc_section_display": true,
   "toc_window_display": true
  },
  "toc-autonumbering": false
 },
 "nbformat": 4,
 "nbformat_minor": 4
}
