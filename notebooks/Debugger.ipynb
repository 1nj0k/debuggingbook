{
 "cells": [
  {
   "cell_type": "markdown",
   "metadata": {
    "button": false,
    "new_sheet": false,
    "run_control": {
     "read_only": false
    }
   },
   "source": [
    "# How Debuggers Work\n",
    "\n",
    "In this chapter, we show how _interactive debuggers_ work – tools that allow you to observe the program state during an execution.  Thanks to the power of Python, we can even build our own debugger in a few lines of code."
   ]
  },
  {
   "cell_type": "markdown",
   "metadata": {
    "button": false,
    "new_sheet": false,
    "run_control": {
     "read_only": false
    }
   },
   "source": [
    "**Prerequisites**\n",
    "\n",
    "* You should have read the [Introduction to Debugging](Intro_Debugging.ipynb).\n",
    "* Knowing a bit of _Python_ is helpful for understanding the code examples in the book."
   ]
  },
  {
   "cell_type": "code",
   "execution_count": 1,
   "metadata": {
    "button": false,
    "new_sheet": false,
    "run_control": {
     "read_only": false
    },
    "slideshow": {
     "slide_type": "skip"
    }
   },
   "outputs": [
    {
     "name": "stderr",
     "output_type": "stream",
     "text": [
      "/Users/zeller/Library/Python/3.6/site-packages/requests/__init__.py:91: RequestsDependencyWarning: urllib3 (1.25.11) or chardet (3.0.4) doesn't match a supported version!\n",
      "  RequestsDependencyWarning)\n"
     ]
    }
   ],
   "source": [
    "import bookutils"
   ]
  },
  {
   "cell_type": "markdown",
   "metadata": {
    "button": false,
    "new_sheet": true,
    "run_control": {
     "read_only": false
    }
   },
   "source": [
    "## Debugger Features\n",
    "\n",
    "_Interactive Debuggers_ (or short *debuggers*) are tools that allow you to observe program executions. A debugger typically offers the following features:\n",
    "\n",
    "* _Run_ the program\n",
    "* Define a condition under which the execution should _stop_ and hand over control to the debugger. Conditions include\n",
    "    * a particular location is reached\n",
    "    * a particular variable takes a particular value\n",
    "    * or some other condition of choice.\n",
    "* When the program stops, you can _observe_ the current state, including\n",
    "    * the current location\n",
    "    * variables and their values\n",
    "    * the current function and its callers\n",
    "* When the program stops, you can _step_ through program execution, having it stop at the next instruction again.\n",
    "* Finally, you can also _resume_ execution to the next stop."
   ]
  },
  {
   "cell_type": "markdown",
   "metadata": {
    "button": false,
    "new_sheet": true,
    "run_control": {
     "read_only": false
    }
   },
   "source": [
    "These commands typically are used in a loop. First, you identify the location(s) you want to inspect, and tell the debugger to stop execution once one of these location(s) is reached. Then you have the debugger run the program. When it stops at the given location, you inspect the state (and check whether things are as expected). You can then step through the program or define new stop conditions and resume execution."
   ]
  },
  {
   "cell_type": "markdown",
   "metadata": {
    "button": false,
    "new_sheet": true,
    "run_control": {
     "read_only": false
    }
   },
   "source": [
    "This functionality can come as a _command-line interface_, typing commands at a prompt, or as a _graphical user interface_, selecting commands from the screen. Debuggers can come as standalone tools, or be integrated into a programming environment of choice."
   ]
  },
  {
   "cell_type": "markdown",
   "metadata": {},
   "source": [
    "## Debugger Interaction\n",
    "\n",
    "The key idea of an _interactive_ debugger is to set up the tracing function such that it actually _asks_ what to do next, prompting you to enter a _command_. For the sake of simplicity, we collect such a command from a command line, using the Python `input()` function. The following code prompts you to enter a command:"
   ]
  },
  {
   "cell_type": "code",
   "execution_count": 2,
   "metadata": {},
   "outputs": [],
   "source": [
    "INPUTS = []"
   ]
  },
  {
   "cell_type": "code",
   "execution_count": 3,
   "metadata": {},
   "outputs": [],
   "source": [
    "from bookutils import HTML"
   ]
  },
  {
   "cell_type": "code",
   "execution_count": 4,
   "metadata": {},
   "outputs": [],
   "source": [
    "def my_input(prompt):\n",
    "    given_input = None\n",
    "    try:\n",
    "        global INPUTS\n",
    "        given_input = INPUTS[0]\n",
    "        INPUTS = INPUTS[1:]\n",
    "    except:\n",
    "        pass\n",
    "    \n",
    "    if given_input:\n",
    "        display(HTML(f\"<pre>{prompt}{given_input}</pre>\"))\n",
    "        return given_input\n",
    "    \n",
    "    return input(prompt)"
   ]
  },
  {
   "cell_type": "code",
   "execution_count": 5,
   "metadata": {},
   "outputs": [],
   "source": [
    "from Intro_Debugging import remove_html_markup"
   ]
  },
  {
   "cell_type": "code",
   "execution_count": 6,
   "metadata": {},
   "outputs": [],
   "source": [
    "import inspect"
   ]
  },
  {
   "cell_type": "code",
   "execution_count": 7,
   "metadata": {},
   "outputs": [],
   "source": [
    "from Tracer import Tracer"
   ]
  },
  {
   "cell_type": "code",
   "execution_count": 8,
   "metadata": {},
   "outputs": [],
   "source": [
    "class Debugger(Tracer):\n",
    "    def __init__(self):\n",
    "        self.stepping = True\n",
    "        self.breakpoints = set()\n",
    "        self.interact = True\n",
    "        \n",
    "        self.frame = None\n",
    "        self.event = None\n",
    "        self.arg = None\n",
    "\n",
    "        super().__init__()\n",
    "\n",
    "    def step_command(self, arg=\"\"):\n",
    "        \"\"\"Execute up to the next line\"\"\"\n",
    "        self.stepping = True\n",
    "        self.interact = False\n",
    "\n",
    "    def continue_command(self, arg=\"\"):\n",
    "        \"\"\"Resume execution\"\"\"\n",
    "        self.stepping = False\n",
    "        self.interact = False\n",
    "\n",
    "    def list_command(self, arg=\"\"):\n",
    "        \"\"\"Show current function. If function is given, show its source code.\"\"\"\n",
    "        if arg:\n",
    "            try:\n",
    "                obj = eval(arg)\n",
    "                source_lines, line_number = inspect.getsourcelines(obj)\n",
    "            except Exception as err:\n",
    "                self.log(f\"{err.__class__.__name__}: {err}\")\n",
    "                return\n",
    "            current_line = -1\n",
    "        else:\n",
    "            source_lines, line_number = inspect.getsourcelines(self.frame.f_code)\n",
    "            current_line = self.frame.f_lineno\n",
    "    \n",
    "        for line in source_lines:\n",
    "            spacer = ' '\n",
    "            if line_number == current_line:\n",
    "                spacer = '>'\n",
    "            elif line_number in self.breakpoints:\n",
    "                spacer = '#'\n",
    "            self.log(f'{line_number:4}{spacer} {line}', end='')\n",
    "            line_number += 1\n",
    "    \n",
    "    def print_command(self, arg=\"\"):\n",
    "        \"\"\"Print an expression. If no expression is given, print all variables\"\"\"\n",
    "        vars = self.frame.f_locals\n",
    "        \n",
    "        if not arg:\n",
    "            self.log(\"\\n\".join([f\"{var} = {repr(vars[var])}\" for var in vars]))\n",
    "        else:\n",
    "            try:\n",
    "                self.log(f\"{arg} = {repr(eval(arg, globals(), vars))}\")\n",
    "            except Exception as err:\n",
    "                self.log(f\"{err.__class__.__name__}: {err}\")\n",
    "\n",
    "    def break_command(self, arg=\"\"):\n",
    "        \"\"\"Set a breakoint in given line. If no line is given, print all breakpoints\"\"\"\n",
    "        if arg:\n",
    "            self.breakpoints.add(int(arg))\n",
    "        self.log(\"Breakpoints:\", self.breakpoints)\n",
    "\n",
    "    def delete_command(self, arg=\"\"):\n",
    "        \"\"\"Delete a breakoint in given line. If no line is given, clear all breakpoints\"\"\"\n",
    "        if arg:\n",
    "            try:\n",
    "                self.breakpoints.remove(int(arg))\n",
    "            except KeyError:\n",
    "                self.log(f\"No such breakpoint: {arg}\")\n",
    "        else:\n",
    "            self.breakpoints = []\n",
    "        self.log(\"Breakpoints:\", self.breakpoints)\n",
    "        \n",
    "    def quit_command(self, arg=\"\"):\n",
    "        \"\"\"Finish execution\"\"\"\n",
    "        self.breakpoints = []\n",
    "        self.stepping = False\n",
    "        self.interact = False\n",
    "        \n",
    "    def help_command(self, command=\"\"):\n",
    "        \"\"\"Give help on given command. If no command is given, give help on all\"\"\"\n",
    "        \n",
    "        if command:\n",
    "            possible_cmds = [possible_cmd for possible_cmd in self.commands() if possible_cmd.startswith(command)]\n",
    "\n",
    "            if len(possible_cmds) == 0:\n",
    "                self.log(f\"Unknown command {repr(command)}. Possible commands are:\")\n",
    "                possible_cmds = self.commands()\n",
    "            elif len(possible_cmds) > 1:\n",
    "                self.log(f\"Ambiguous command {repr(command)}. Possible expansions are:\")\n",
    "                \n",
    "        else:\n",
    "            possible_cmds = self.commands()\n",
    "\n",
    "        for cmd in possible_cmds:\n",
    "            method = self.command_method(cmd)\n",
    "            self.log(f\"{cmd:10} -- {method.__doc__}\")\n",
    "\n",
    "    def command_method(self, command):\n",
    "        if command.startswith('#'):\n",
    "            return None\n",
    "\n",
    "        possible_cmds = [possible_cmd for possible_cmd in self.commands() if possible_cmd.startswith(command)]\n",
    "        if len(possible_cmds) != 1:\n",
    "            self.help_command(command)\n",
    "            return None\n",
    "        \n",
    "        cmd = possible_cmds[0]\n",
    "        return getattr(self, cmd + '_command')\n",
    "        \n",
    "    def execute(self, command):\n",
    "        sep = command.find(' ')\n",
    "        if sep > 0:\n",
    "            cmd = command[:sep].strip()\n",
    "            arg = command[sep + 1:].strip()\n",
    "        else:\n",
    "            cmd = command.strip()\n",
    "            arg = \"\"\n",
    "\n",
    "        method = self.command_method(cmd)\n",
    "        if method:\n",
    "            method(arg)\n",
    "\n",
    "    def commands(self):\n",
    "        cmds = [method.replace('_command', '') for method in dir(self.__class__) if method.endswith('_command')]\n",
    "        cmds.sort()\n",
    "        return cmds\n",
    "    \n",
    "    def traceit(self, frame, event, arg):\n",
    "        self.frame = frame\n",
    "        self.event = event\n",
    "        self.arg = arg\n",
    "\n",
    "        if self.stepping or frame.f_lineno in self.breakpoints:\n",
    "            self.print_debugger_status(frame, event, arg)\n",
    "\n",
    "            self.interact = True\n",
    "            while self.interact:\n",
    "                command = my_input(\"(debugger) \")\n",
    "                self.execute(command)\n",
    "\n",
    "        return self.traceit"
   ]
  },
  {
   "cell_type": "code",
   "execution_count": 9,
   "metadata": {},
   "outputs": [],
   "source": [
    "debugger = Debugger()"
   ]
  },
  {
   "cell_type": "code",
   "execution_count": 10,
   "metadata": {},
   "outputs": [
    {
     "data": {
      "text/plain": [
       "['break', 'continue', 'delete', 'help', 'list', 'print', 'quit', 'step']"
      ]
     },
     "execution_count": 10,
     "metadata": {},
     "output_type": "execute_result"
    }
   ],
   "source": [
    "debugger.commands()"
   ]
  },
  {
   "cell_type": "code",
   "execution_count": 11,
   "metadata": {},
   "outputs": [
    {
     "name": "stdout",
     "output_type": "stream",
     "text": [
      "break      -- Set a breakoint in given line. If no line is given, print all breakpoints\n",
      "continue   -- Resume execution\n",
      "delete     -- Delete a breakoint in given line. If no line is given, clear all breakpoints\n",
      "help       -- Give help on given command. If no command is given, give help on all\n",
      "list       -- Show current function. If function is given, show its source code.\n",
      "print      -- Print an expression. If no expression is given, print all variables\n",
      "quit       -- Finish execution\n",
      "step       -- Execute up to the next line\n"
     ]
    }
   ],
   "source": [
    "debugger.execute('h')"
   ]
  },
  {
   "cell_type": "code",
   "execution_count": 12,
   "metadata": {},
   "outputs": [
    {
     "name": "stdout",
     "output_type": "stream",
     "text": [
      "Breakpoints: {25}\n"
     ]
    }
   ],
   "source": [
    "debugger.execute('b 25')"
   ]
  },
  {
   "cell_type": "code",
   "execution_count": 13,
   "metadata": {},
   "outputs": [
    {
     "name": "stdout",
     "output_type": "stream",
     "text": [
      "quit       -- Finish execution\n"
     ]
    }
   ],
   "source": [
    "debugger.execute('h q')"
   ]
  },
  {
   "cell_type": "code",
   "execution_count": 14,
   "metadata": {},
   "outputs": [],
   "source": [
    "debugger.execute('co')"
   ]
  },
  {
   "cell_type": "code",
   "execution_count": 15,
   "metadata": {},
   "outputs": [
    {
     "name": "stdout",
     "output_type": "stream",
     "text": [
      "Calling remove_html_markup(s = '<b>abc</b>')\n"
     ]
    },
    {
     "name": "stdin",
     "output_type": "stream",
     "text": [
      "(debugger)  q\n"
     ]
    },
    {
     "data": {
      "text/plain": [
       "'abc'"
      ]
     },
     "execution_count": 15,
     "metadata": {},
     "output_type": "execute_result"
    }
   ],
   "source": [
    "with Debugger():\n",
    "    ret = remove_html_markup(\"<b>abc</b>\")\n",
    "ret"
   ]
  },
  {
   "cell_type": "markdown",
   "metadata": {},
   "source": [
    "## Synopsis"
   ]
  },
  {
   "cell_type": "markdown",
   "metadata": {},
   "source": [
    "This chapter provides a `Tracer()` class that allows to log events during program execution."
   ]
  },
  {
   "cell_type": "markdown",
   "metadata": {},
   "source": [
    "The advanced subclass `EventTracer` allows to restrict logs to specific conditions. Logs are shown only while the given `condition` holds:"
   ]
  },
  {
   "cell_type": "markdown",
   "metadata": {},
   "source": [
    "It also allows to restrict logs to specific events. Log entries are shown only if one of the given `events` changes its value:"
   ]
  },
  {
   "cell_type": "markdown",
   "metadata": {
    "button": false,
    "new_sheet": true,
    "run_control": {
     "read_only": false
    }
   },
   "source": [
    "## Lessons Learned\n",
    "\n",
    "* Interpreted languages can provide _debugging hooks_ that allow to dynamically control program execution and access program state.\n",
    "* Tracing can be limited to specific conditions and events:\n",
    "    * A _breakpoint_ is a condition referring to a particular location in the code.\n",
    "    * A _watchpoint_ is an event referring to a particular state change.\n",
    "* Compiled languages allow to _instrument_ code at compile time, injecting code that allows to hand over control to a tracing or debugging tool."
   ]
  },
  {
   "cell_type": "markdown",
   "metadata": {
    "button": false,
    "new_sheet": false,
    "run_control": {
     "read_only": false
    }
   },
   "source": [
    "## Next Steps\n",
    "\n",
    "In the next chapter, we will see how to\n",
    "\n",
    "* [leverage our tracing infrastructure for interactive debugger](Debugger.ipynb)\n"
   ]
  },
  {
   "cell_type": "markdown",
   "metadata": {},
   "source": [
    "## Background\n",
    "\n",
    "\\todo{add}"
   ]
  },
  {
   "cell_type": "markdown",
   "metadata": {
    "button": false,
    "new_sheet": true,
    "run_control": {
     "read_only": false
    }
   },
   "source": [
    "## Exercises\n"
   ]
  },
  {
   "cell_type": "markdown",
   "metadata": {
    "button": false,
    "new_sheet": false,
    "run_control": {
     "read_only": false
    }
   },
   "source": [
    "### Exercise 1: More Commands\n",
    "\n",
    "Extending the `Debugger` class with extra features and commands is a breeze. The following commands are inspired from [the GNU command-line debugger (GDB)](https://www.gnu.org/software/gdb/):"
   ]
  },
  {
   "cell_type": "markdown",
   "metadata": {
    "button": false,
    "new_sheet": false,
    "run_control": {
     "read_only": false
    }
   },
   "source": [
    "#### Step over functions (\"next\")\n",
    "\n",
    "When stopped at a function call, the `next` command should execute the entire call, stopping when the function returns. (In contrast, `step` stops at the first line of the function called.)"
   ]
  },
  {
   "cell_type": "markdown",
   "metadata": {
    "button": false,
    "new_sheet": false,
    "run_control": {
     "read_only": false
    }
   },
   "source": [
    "#### Print call stack (\"where\")\n",
    "\n",
    "Implement a `where` command that shows the stack of calling functions."
   ]
  },
  {
   "cell_type": "markdown",
   "metadata": {
    "button": false,
    "new_sheet": false,
    "run_control": {
     "read_only": false
    }
   },
   "source": [
    "#### Move up and down the call stack (\"up\" and \"down\")\n",
    "\n",
    "After entering the `up` command, explore the source and variables of the _calling_ function rather than the current function. Use `up` repeatedly to move further up the stack. `down` returns to the caller."
   ]
  },
  {
   "cell_type": "markdown",
   "metadata": {
    "button": false,
    "new_sheet": false,
    "run_control": {
     "read_only": false
    }
   },
   "source": [
    "#### Named breakpoints (\"break\")\n",
    "\n",
    "With `break FUNCTION` and `delete FUNCTION`, set and delete a breakpoint at `FUNCTION`."
   ]
  },
  {
   "cell_type": "markdown",
   "metadata": {
    "button": false,
    "new_sheet": false,
    "run_control": {
     "read_only": false
    }
   },
   "source": [
    "#### Execute until line (\"until\")\n",
    "\n",
    "With `until LINE`, resume execution until a line greater than `LINE` is reached. If `LINE` is not given, resume execution until a line greater than the current is reached. This is useful to avoid stepping through multiple loop iterations."
   ]
  },
  {
   "cell_type": "markdown",
   "metadata": {
    "button": false,
    "new_sheet": false,
    "run_control": {
     "read_only": false
    }
   },
   "source": [
    "#### Execute until return (\"finish\")\n",
    "\n",
    "With `finish`, resume execution until the current fucnction returns."
   ]
  },
  {
   "cell_type": "markdown",
   "metadata": {
    "button": false,
    "new_sheet": false,
    "run_control": {
     "read_only": false
    }
   },
   "source": [
    "#### Watchpoints (\"watch\")\n",
    "\n",
    "With `watch CONDITION`, stop execution as soon as `CONDITION` changes its value. (Use the code from our `EventTracer` class in the [chapter on Tracing](Tracer.ipynb).) `delete CONDITION` removes the watchpoint."
   ]
  },
  {
   "cell_type": "markdown",
   "metadata": {
    "button": false,
    "new_sheet": false,
    "run_control": {
     "read_only": false
    }
   },
   "source": [
    "### Exercise 2: Changing State\n",
    "\n",
    "Some Python implementations allow to alter the state, by assigning values to `frame.f_locals`. Implement a `set VAR VALUE` command that allows to change the value of (local) variable `VAR` to the new value `VALUE`."
   ]
  },
  {
   "cell_type": "markdown",
   "metadata": {
    "button": false,
    "new_sheet": false,
    "run_control": {
     "read_only": false
    }
   },
   "source": [
    "### Exercise 3: Time-Travel Debugging\n",
    "\n",
    "Rather than inspecting a function at the moment it executes, you can also _record_ the entire state (call stack, local variables, etc.) during execution, and then run an interactive session to step through the recorded execution. This allows for a `back` command which gets you back to earlier states."
   ]
  }
 ],
 "metadata": {
  "ipub": {
   "bibliography": "fuzzingbook.bib",
   "toc": true
  },
  "kernelspec": {
   "display_name": "Python 3",
   "language": "python",
   "name": "python3"
  },
  "language_info": {
   "codemirror_mode": {
    "name": "ipython",
    "version": 3
   },
   "file_extension": ".py",
   "mimetype": "text/x-python",
   "name": "python",
   "nbconvert_exporter": "python",
   "pygments_lexer": "ipython3",
   "version": "3.6.8"
  },
  "toc": {
   "base_numbering": 1,
   "nav_menu": {},
   "number_sections": true,
   "sideBar": true,
   "skip_h1_title": true,
   "title_cell": "",
   "title_sidebar": "Contents",
   "toc_cell": false,
   "toc_position": {},
   "toc_section_display": true,
   "toc_window_display": true
  },
  "toc-autonumbering": false
 },
 "nbformat": 4,
 "nbformat_minor": 2
}
