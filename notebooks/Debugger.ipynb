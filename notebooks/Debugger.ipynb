{
 "cells": [
  {
   "cell_type": "markdown",
   "metadata": {
    "button": false,
    "new_sheet": false,
    "run_control": {
     "read_only": false
    }
   },
   "source": [
    "# How Debuggers Work\n",
    "\n",
    "In this chapter, we show how _interactive debuggers_ work – tools that allow you to observe the program state during an execution.  Thanks to the power of Python, we can even build our own debugger in a few lines of code."
   ]
  },
  {
   "cell_type": "markdown",
   "metadata": {
    "button": false,
    "new_sheet": false,
    "run_control": {
     "read_only": false
    }
   },
   "source": [
    "**Prerequisites**\n",
    "\n",
    "* You should have read the [Introduction to Debugging](Intro_Debugging.ipynb).\n",
    "* Knowing a bit of _Python_ is helpful for understanding the code examples in the book."
   ]
  },
  {
   "cell_type": "code",
   "execution_count": 175,
   "metadata": {
    "button": false,
    "new_sheet": false,
    "run_control": {
     "read_only": false
    },
    "slideshow": {
     "slide_type": "skip"
    }
   },
   "outputs": [],
   "source": [
    "import bookutils"
   ]
  },
  {
   "cell_type": "markdown",
   "metadata": {
    "button": false,
    "new_sheet": true,
    "run_control": {
     "read_only": false
    }
   },
   "source": [
    "## Debugger Features\n",
    "\n",
    "_Interactive Debuggers_ (or short *debuggers*) are tools that allow you to observe program executions. A debugger typically offers the following features:\n",
    "\n",
    "* _Run_ the program\n",
    "* Define a condition under which the execution should _stop_ and hand over control to the debugger. Conditions include\n",
    "    * a particular location is reached\n",
    "    * a particular variable takes a particular value\n",
    "    * or some other condition of choice.\n",
    "* When the program stops, you can _observe_ the current state, including\n",
    "    * the current location\n",
    "    * variables and their values\n",
    "    * the current function and its callers\n",
    "* When the program stops, you can _step_ through program execution, having it stop at the next instruction again.\n",
    "* Finally, you can also _resume_ execution to the next stop."
   ]
  },
  {
   "cell_type": "markdown",
   "metadata": {
    "button": false,
    "new_sheet": true,
    "run_control": {
     "read_only": false
    }
   },
   "source": [
    "These commands typically are used in a loop. First, you identify the location(s) you want to inspect, and tell the debugger to stop execution once one of these location(s) is reached. Then you have the debugger run the program. When it stops at the given location, you inspect the state (and check whether things are as expected). You can then step through the program or define new stop conditions and resume execution."
   ]
  },
  {
   "cell_type": "markdown",
   "metadata": {
    "button": false,
    "new_sheet": true,
    "run_control": {
     "read_only": false
    }
   },
   "source": [
    "This functionality can come as a _command-line interface_, typing commands at a prompt, or as a _graphical user interface_, selecting commands from the screen. Debuggers can come as standalone tools, or be integrated into a programming environment of choice."
   ]
  },
  {
   "cell_type": "markdown",
   "metadata": {},
   "source": [
    "## Debugger Interaction\n",
    "\n",
    "The key idea of an _interactive_ debugger is to set up the tracing function such that it actually _asks_ what to do next, prompting you to enter a _command_. For the sake of simplicity, we collect such a command from a command line, using the Python `input()` function. The following code prompts you to enter a command:"
   ]
  },
  {
   "cell_type": "code",
   "execution_count": 176,
   "metadata": {},
   "outputs": [],
   "source": [
    "INPUTS = []"
   ]
  },
  {
   "cell_type": "code",
   "execution_count": 177,
   "metadata": {},
   "outputs": [],
   "source": [
    "from bookutils import HTML"
   ]
  },
  {
   "cell_type": "code",
   "execution_count": 178,
   "metadata": {},
   "outputs": [],
   "source": [
    "def my_input(prompt):\n",
    "    given_input = None\n",
    "    try:\n",
    "        global INPUTS\n",
    "        given_input = INPUTS[0]\n",
    "        INPUTS = INPUTS[1:]\n",
    "    except:\n",
    "        pass\n",
    "    \n",
    "    if given_input:\n",
    "        display(HTML(f\"<pre>{prompt}{given_input}</pre>\"))\n",
    "        return given_input\n",
    "    \n",
    "    return input(prompt)"
   ]
  },
  {
   "cell_type": "code",
   "execution_count": 179,
   "metadata": {},
   "outputs": [],
   "source": [
    "from Intro_Debugging import remove_html_markup"
   ]
  },
  {
   "cell_type": "code",
   "execution_count": 180,
   "metadata": {},
   "outputs": [],
   "source": [
    "import inspect"
   ]
  },
  {
   "cell_type": "code",
   "execution_count": 181,
   "metadata": {},
   "outputs": [],
   "source": [
    "from Tracer import Tracer"
   ]
  },
  {
   "cell_type": "code",
   "execution_count": 182,
   "metadata": {},
   "outputs": [],
   "source": [
    "class Debugger(Tracer):\n",
    "    def __init__(self):\n",
    "        self.stepping = True\n",
    "        self.breakpoints = set()\n",
    "        self.interact = True\n",
    "        \n",
    "        self.frame = None\n",
    "        self.event = None\n",
    "        self.arg = None\n",
    "\n",
    "        super().__init__()\n",
    "\n",
    "    def step_command(self, arg=\"\"):\n",
    "        \"\"\"Execute up to the next line\"\"\"\n",
    "        self.stepping = True\n",
    "        self.interact = False\n",
    "\n",
    "    def continue_command(self, arg=\"\"):\n",
    "        \"\"\"Resume execution\"\"\"\n",
    "        self.stepping = False\n",
    "        self.interact = False\n",
    "\n",
    "    def list_command(self, arg=\"\"):\n",
    "        \"\"\"Show current function. If function is given, show its source code.\"\"\"\n",
    "        if arg:\n",
    "            try:\n",
    "                obj = eval(arg)\n",
    "                source_lines, line_number = inspect.getsourcelines(obj)\n",
    "            except Exception as err:\n",
    "                self.log(f\"{err.__class__.__name__}: {err}\")\n",
    "                return\n",
    "            current_line = -1\n",
    "        else:\n",
    "            source_lines, line_number = inspect.getsourcelines(self.frame.f_code)\n",
    "            current_line = self.frame.f_lineno\n",
    "    \n",
    "        for line in source_lines:\n",
    "            spacer = ' '\n",
    "            if line_number == current_line:\n",
    "                spacer = '>'\n",
    "            elif line_number in self.breakpoints:\n",
    "                spacer = '#'\n",
    "            self.log(f'{line_number:4}{spacer} {line}', end='')\n",
    "            line_number += 1\n",
    "    \n",
    "    def print_command(self, arg=\"\"):\n",
    "        \"\"\"Print an expression. If no expression is given, print all variables\"\"\"\n",
    "        vars = self.frame.f_locals\n",
    "        \n",
    "        if not arg:\n",
    "            self.log(\"\\n\".join([f\"{var} = {repr(vars[var])}\" for var in vars]))\n",
    "        else:\n",
    "            try:\n",
    "                self.log(f\"{arg} = {repr(eval(arg, globals(), vars))}\")\n",
    "            except Exception as err:\n",
    "                self.log(f\"{err.__class__.__name__}: {err}\")\n",
    "\n",
    "    def break_command(self, arg=\"\"):\n",
    "        \"\"\"Set a breakoint in given line. If no line is given, print all breakpoints\"\"\"\n",
    "        if arg:\n",
    "            self.breakpoints.add(int(arg))\n",
    "        self.log(\"Breakpoints:\", self.breakpoints)\n",
    "\n",
    "    def delete_command(self, arg=\"\"):\n",
    "        \"\"\"Delete a breakoint in given line. If no line is given, clear all breakpoints\"\"\"\n",
    "        if arg:\n",
    "            try:\n",
    "                self.breakpoints.remove(int(arg))\n",
    "            except KeyError:\n",
    "                self.log(f\"No such breakpoint: {arg}\")\n",
    "        else:\n",
    "            self.breakpoints = []\n",
    "        self.log(\"Breakpoints:\", self.breakpoints)\n",
    "        \n",
    "    def quit_command(self, arg=\"\"):\n",
    "        \"\"\"Finish execution\"\"\"\n",
    "        self.breakpoints = []\n",
    "        self.stepping = False\n",
    "        self.interact = False\n",
    "        \n",
    "    def help_command(self, command=\"\"):\n",
    "        \"\"\"Give help on given command. If no command is given, give help on all\"\"\"\n",
    "        \n",
    "        if command:\n",
    "            possible_cmds = [possible_cmd for possible_cmd in self.commands() if possible_cmd.startswith(command)]\n",
    "\n",
    "            if len(possible_cmds) == 0:\n",
    "                self.log(f\"Unknown command {repr(command)}. Possible commands are:\")\n",
    "                possible_cmds = self.commands()\n",
    "            elif len(possible_cmds) > 1:\n",
    "                self.log(f\"Ambiguous command {repr(command)}. Possible expansions are:\")\n",
    "                \n",
    "        else:\n",
    "            possible_cmds = self.commands()\n",
    "\n",
    "        for cmd in possible_cmds:\n",
    "            method = self.command_method(cmd)\n",
    "            self.log(f\"{cmd:10} -- {method.__doc__}\")\n",
    "\n",
    "    def command_method(self, command):\n",
    "        if command.startswith('#'):\n",
    "            return None\n",
    "\n",
    "        possible_cmds = [possible_cmd for possible_cmd in self.commands() if possible_cmd.startswith(command)]\n",
    "        if len(possible_cmds) != 1:\n",
    "            self.help_command(command)\n",
    "            return None\n",
    "        \n",
    "        cmd = possible_cmds[0]\n",
    "        return getattr(self, cmd + '_command')\n",
    "        \n",
    "    def execute(self, command):\n",
    "        sep = command.find(' ')\n",
    "        if sep > 0:\n",
    "            cmd = command[:sep].strip()\n",
    "            arg = command[sep + 1:].strip()\n",
    "        else:\n",
    "            cmd = command.strip()\n",
    "            arg = \"\"\n",
    "\n",
    "        method = self.command_method(cmd)\n",
    "        if method:\n",
    "            method(arg)\n",
    "\n",
    "    def commands(self):\n",
    "        cmds = [method.replace('_command', '') for method in dir(self.__class__) if method.endswith('_command')]\n",
    "        cmds.sort()\n",
    "        return cmds\n",
    "    \n",
    "    def traceit(self, frame, event, arg):\n",
    "        self.frame = frame\n",
    "        self.event = event\n",
    "        self.arg = arg\n",
    "\n",
    "        if self.stepping or frame.f_lineno in self.breakpoints:\n",
    "            self.print_debugger_status(frame, event, arg)\n",
    "\n",
    "            self.interact = True\n",
    "            while self.interact:\n",
    "                command = my_input(\"(debugger) \")\n",
    "                self.execute(command)\n",
    "\n",
    "        return self.traceit"
   ]
  },
  {
   "cell_type": "code",
   "execution_count": 183,
   "metadata": {},
   "outputs": [],
   "source": [
    "debugger = Debugger()"
   ]
  },
  {
   "cell_type": "code",
   "execution_count": 184,
   "metadata": {},
   "outputs": [
    {
     "data": {
      "text/plain": [
       "['break', 'continue', 'delete', 'help', 'list', 'print', 'quit', 'step']"
      ]
     },
     "execution_count": 184,
     "metadata": {},
     "output_type": "execute_result"
    }
   ],
   "source": [
    "debugger.commands()"
   ]
  },
  {
   "cell_type": "code",
   "execution_count": 185,
   "metadata": {},
   "outputs": [
    {
     "name": "stdout",
     "output_type": "stream",
     "text": [
      "break      -- Set a breakoint in given line. If no line is given, print all breakpoints\n",
      "continue   -- Resume execution\n",
      "delete     -- Delete a breakoint in given line. If no line is given, clear all breakpoints\n",
      "help       -- Give help on given command. If no command is given, give help on all\n",
      "list       -- Show current function. If function is given, show its source code.\n",
      "print      -- Print an expression. If no expression is given, print all variables\n",
      "quit       -- Finish execution\n",
      "step       -- Execute up to the next line\n"
     ]
    }
   ],
   "source": [
    "debugger.execute('h')"
   ]
  },
  {
   "cell_type": "code",
   "execution_count": 186,
   "metadata": {},
   "outputs": [
    {
     "name": "stdout",
     "output_type": "stream",
     "text": [
      "Breakpoints: {25}\n"
     ]
    }
   ],
   "source": [
    "debugger.execute('b 25')"
   ]
  },
  {
   "cell_type": "code",
   "execution_count": 187,
   "metadata": {},
   "outputs": [
    {
     "name": "stdout",
     "output_type": "stream",
     "text": [
      "quit       -- Finish execution\n"
     ]
    }
   ],
   "source": [
    "debugger.execute('h q')"
   ]
  },
  {
   "cell_type": "code",
   "execution_count": 188,
   "metadata": {},
   "outputs": [],
   "source": [
    "debugger.execute('co')"
   ]
  },
  {
   "cell_type": "code",
   "execution_count": 215,
   "metadata": {},
   "outputs": [
    {
     "name": "stdout",
     "output_type": "stream",
     "text": [
      "Calling remove_html_markup(s = '<b>abc</b>')\n"
     ]
    },
    {
     "name": "stdin",
     "output_type": "stream",
     "text": [
      "(debugger)  s\n"
     ]
    },
    {
     "name": "stdout",
     "output_type": "stream",
     "text": [
      "223     tag   = False\n"
     ]
    },
    {
     "name": "stdin",
     "output_type": "stream",
     "text": [
      "(debugger)  p s\n"
     ]
    },
    {
     "name": "stdout",
     "output_type": "stream",
     "text": [
      "s = '<b>abc</b>'\n"
     ]
    },
    {
     "name": "stdin",
     "output_type": "stream",
     "text": [
      "(debugger)  p\n"
     ]
    },
    {
     "name": "stdout",
     "output_type": "stream",
     "text": [
      "s = '<b>abc</b>'\n"
     ]
    },
    {
     "name": "stdin",
     "output_type": "stream",
     "text": [
      "(debugger)  p tag\n"
     ]
    },
    {
     "name": "stdout",
     "output_type": "stream",
     "text": [
      "NameError: name 'tag' is not defined\n"
     ]
    },
    {
     "name": "stdin",
     "output_type": "stream",
     "text": [
      "(debugger)  s\n"
     ]
    },
    {
     "name": "stdout",
     "output_type": "stream",
     "text": [
      "                                         # tag = False\n",
      "224     quote = False\n"
     ]
    },
    {
     "name": "stdin",
     "output_type": "stream",
     "text": [
      "(debugger)  p tag\n"
     ]
    },
    {
     "name": "stdout",
     "output_type": "stream",
     "text": [
      "tag = False\n"
     ]
    },
    {
     "name": "stdin",
     "output_type": "stream",
     "text": [
      "(debugger)  s\n"
     ]
    },
    {
     "name": "stdout",
     "output_type": "stream",
     "text": [
      "                                         # quote = False\n",
      "225     out   = \"\"\n"
     ]
    },
    {
     "name": "stdin",
     "output_type": "stream",
     "text": [
      "(debugger)  s\n"
     ]
    },
    {
     "name": "stdout",
     "output_type": "stream",
     "text": [
      "                                         # out = ''\n",
      "227     for c in s:\n"
     ]
    },
    {
     "name": "stdin",
     "output_type": "stream",
     "text": [
      "(debugger)  l\n"
     ]
    },
    {
     "name": "stdout",
     "output_type": "stream",
     "text": [
      " 221  def remove_html_markup(s):\n",
      " 222      tag   = False\n",
      " 223      quote = False\n",
      " 224      out   = \"\"\n",
      " 225  \n",
      " 226      for c in s:\n",
      " 227>         assert tag or not quote\n",
      " 228          \n",
      " 229          if c == '<' and not quote:\n",
      " 230              tag = True\n",
      " 231          elif c == '>' and not quote:\n",
      " 232              tag = False\n",
      " 233          elif (c == '\"' or c == \"'\") and tag:\n",
      " 234              quote = not quote\n",
      " 235          elif not tag:\n",
      " 236              out = out + c\n",
      " 237      \n",
      " 238      return out\n"
     ]
    },
    {
     "name": "stdin",
     "output_type": "stream",
     "text": [
      "(debugger)  s\n"
     ]
    },
    {
     "name": "stdout",
     "output_type": "stream",
     "text": [
      "                                         # c = '<'\n",
      "228         assert tag or not quote\n"
     ]
    },
    {
     "name": "stdin",
     "output_type": "stream",
     "text": [
      "(debugger)  l\n"
     ]
    },
    {
     "name": "stdout",
     "output_type": "stream",
     "text": [
      " 221  def remove_html_markup(s):\n",
      " 222      tag   = False\n",
      " 223      quote = False\n",
      " 224      out   = \"\"\n",
      " 225  \n",
      " 226      for c in s:\n",
      " 227          assert tag or not quote\n",
      " 228>         \n",
      " 229          if c == '<' and not quote:\n",
      " 230              tag = True\n",
      " 231          elif c == '>' and not quote:\n",
      " 232              tag = False\n",
      " 233          elif (c == '\"' or c == \"'\") and tag:\n",
      " 234              quote = not quote\n",
      " 235          elif not tag:\n",
      " 236              out = out + c\n",
      " 237      \n",
      " 238      return out\n"
     ]
    },
    {
     "name": "stdin",
     "output_type": "stream",
     "text": [
      "(debugger)  s\n"
     ]
    },
    {
     "name": "stdout",
     "output_type": "stream",
     "text": [
      "230         if c == '<' and not quote:\n"
     ]
    },
    {
     "name": "stdin",
     "output_type": "stream",
     "text": [
      "(debugger)  s\n"
     ]
    },
    {
     "name": "stdout",
     "output_type": "stream",
     "text": [
      "231             tag = True\n"
     ]
    },
    {
     "name": "stdin",
     "output_type": "stream",
     "text": [
      "(debugger)  s\n"
     ]
    },
    {
     "name": "stdout",
     "output_type": "stream",
     "text": [
      "                                         # tag = True\n",
      "227     for c in s:\n"
     ]
    },
    {
     "name": "stdin",
     "output_type": "stream",
     "text": [
      "(debugger)  l\n"
     ]
    },
    {
     "name": "stdout",
     "output_type": "stream",
     "text": [
      " 221  def remove_html_markup(s):\n",
      " 222      tag   = False\n",
      " 223      quote = False\n",
      " 224      out   = \"\"\n",
      " 225  \n",
      " 226      for c in s:\n",
      " 227>         assert tag or not quote\n",
      " 228          \n",
      " 229          if c == '<' and not quote:\n",
      " 230              tag = True\n",
      " 231          elif c == '>' and not quote:\n",
      " 232              tag = False\n",
      " 233          elif (c == '\"' or c == \"'\") and tag:\n",
      " 234              quote = not quote\n",
      " 235          elif not tag:\n",
      " 236              out = out + c\n",
      " 237      \n",
      " 238      return out\n"
     ]
    },
    {
     "name": "stdin",
     "output_type": "stream",
     "text": [
      "(debugger)  b 236\n"
     ]
    },
    {
     "name": "stdout",
     "output_type": "stream",
     "text": [
      "Breakpoints: {236}\n"
     ]
    },
    {
     "name": "stdin",
     "output_type": "stream",
     "text": [
      "(debugger)  c\n"
     ]
    },
    {
     "name": "stdout",
     "output_type": "stream",
     "text": [
      "                                         # c = 'b'\n",
      "236         elif not tag:\n"
     ]
    },
    {
     "name": "stdin",
     "output_type": "stream",
     "text": [
      "(debugger)  c\n"
     ]
    },
    {
     "name": "stdout",
     "output_type": "stream",
     "text": [
      "                                         # tag = False, c = 'a'\n",
      "236         elif not tag:\n"
     ]
    },
    {
     "name": "stdin",
     "output_type": "stream",
     "text": [
      "(debugger)  c\n"
     ]
    },
    {
     "name": "stdout",
     "output_type": "stream",
     "text": [
      "                                         # out = 'a', c = 'b'\n",
      "236         elif not tag:\n"
     ]
    },
    {
     "name": "stdin",
     "output_type": "stream",
     "text": [
      "(debugger)  p\n"
     ]
    },
    {
     "name": "stdout",
     "output_type": "stream",
     "text": [
      "s = '<b>abc</b>'\n",
      "tag = False\n",
      "quote = False\n",
      "out = 'a'\n",
      "c = 'b'\n"
     ]
    },
    {
     "name": "stdin",
     "output_type": "stream",
     "text": [
      "(debugger)  c\n"
     ]
    },
    {
     "name": "stdout",
     "output_type": "stream",
     "text": [
      "                                         # out = 'ab', c = 'c'\n",
      "236         elif not tag:\n"
     ]
    },
    {
     "name": "stdin",
     "output_type": "stream",
     "text": [
      "(debugger)  c\n"
     ]
    },
    {
     "name": "stdout",
     "output_type": "stream",
     "text": [
      "                                         # tag = True, out = 'abc', c = '/'\n",
      "236         elif not tag:\n"
     ]
    },
    {
     "name": "stdin",
     "output_type": "stream",
     "text": [
      "(debugger)  p out\n"
     ]
    },
    {
     "name": "stdout",
     "output_type": "stream",
     "text": [
      "out = 'abc'\n"
     ]
    },
    {
     "name": "stdin",
     "output_type": "stream",
     "text": [
      "(debugger)  c\n"
     ]
    },
    {
     "name": "stdout",
     "output_type": "stream",
     "text": [
      "                                         # c = 'b'\n",
      "236         elif not tag:\n"
     ]
    },
    {
     "name": "stdin",
     "output_type": "stream",
     "text": [
      "(debugger)  c\n"
     ]
    },
    {
     "data": {
      "text/plain": [
       "'abc'"
      ]
     },
     "execution_count": 215,
     "metadata": {},
     "output_type": "execute_result"
    }
   ],
   "source": [
    "with Debugger():\n",
    "    ret = remove_html_markup(\"<b>abc</b>\")\n",
    "ret"
   ]
  },
  {
   "cell_type": "markdown",
   "metadata": {},
   "source": [
    "## Synopsis"
   ]
  },
  {
   "cell_type": "markdown",
   "metadata": {},
   "source": [
    "This chapter provides a `Tracer()` class that allows to log events during program execution."
   ]
  },
  {
   "cell_type": "markdown",
   "metadata": {},
   "source": [
    "The advanced subclass `EventTracer` allows to restrict logs to specific conditions. Logs are shown only while the given `condition` holds:"
   ]
  },
  {
   "cell_type": "code",
   "execution_count": 63,
   "metadata": {},
   "outputs": [
    {
     "name": "stdout",
     "output_type": "stream",
     "text": [
      "...\n",
      "                                         # s = '<b>foo</b>bar', function = 'remove_html_markup', line = 223\n",
      "223     tag   = False\n",
      "...\n",
      "                                         # line = 227, tag = False, quote = False, out = 'foobar', c = 'r'\n",
      "227     for c in s:\n",
      "                                         # line = 239\n",
      "239     return out\n",
      "remove_html_markup() returns 'foobar'\n"
     ]
    }
   ],
   "source": [
    "with EventTracer(condition='line == 223 or len(out) >= 6'):\n",
    "    remove_html_markup('<b>foo</b>bar')"
   ]
  },
  {
   "cell_type": "markdown",
   "metadata": {},
   "source": [
    "It also allows to restrict logs to specific events. Log entries are shown only if one of the given `events` changes its value:"
   ]
  },
  {
   "cell_type": "code",
   "execution_count": 64,
   "metadata": {},
   "outputs": [
    {
     "name": "stdout",
     "output_type": "stream",
     "text": [
      "...\n",
      "Calling remove_html_markup(s = '<b>foo</b>bar', function = 'remove_html_markup', line = 222)\n",
      "...\n",
      "                                         # line = 228, tag = False, quote = False, out = '', c = '<'\n",
      "228         assert tag or not quote\n",
      "...\n",
      "                                         # tag = True, out = 'foo', c = '/'\n",
      "228         assert tag or not quote\n",
      "...\n",
      "                                         # c = 'b'\n",
      "228         assert tag or not quote\n"
     ]
    }
   ],
   "source": [
    "with EventTracer(events=[\"c == '/'\"]):\n",
    "    remove_html_markup('<b>foo</b>bar')"
   ]
  },
  {
   "cell_type": "markdown",
   "metadata": {},
   "source": [
    "`Tracer` and `EventTracer` classes allow for subclassing and further customization."
   ]
  },
  {
   "cell_type": "markdown",
   "metadata": {
    "button": false,
    "new_sheet": true,
    "run_control": {
     "read_only": false
    }
   },
   "source": [
    "## Lessons Learned\n",
    "\n",
    "* Interpreted languages can provide _debugging hooks_ that allow to dynamically control program execution and access program state.\n",
    "* Tracing can be limited to specific conditions and events:\n",
    "    * A _breakpoint_ is a condition referring to a particular location in the code.\n",
    "    * A _watchpoint_ is an event referring to a particular state change.\n",
    "* Compiled languages allow to _instrument_ code at compile time, injecting code that allows to hand over control to a tracing or debugging tool."
   ]
  },
  {
   "cell_type": "markdown",
   "metadata": {
    "button": false,
    "new_sheet": false,
    "run_control": {
     "read_only": false
    }
   },
   "source": [
    "## Next Steps\n",
    "\n",
    "In the next chapter, we will see how to\n",
    "\n",
    "* [leverage our tracing infrastructure for interactive debugger](Debugger.ipynb)\n"
   ]
  },
  {
   "cell_type": "markdown",
   "metadata": {},
   "source": [
    "## Background\n",
    "\n",
    "\\todo{add}"
   ]
  },
  {
   "cell_type": "markdown",
   "metadata": {
    "button": false,
    "new_sheet": true,
    "run_control": {
     "read_only": false
    }
   },
   "source": [
    "## Exercises\n"
   ]
  },
  {
   "cell_type": "markdown",
   "metadata": {
    "button": false,
    "new_sheet": false,
    "run_control": {
     "read_only": false
    }
   },
   "source": [
    "### Exercise 1: Exception Handling\n",
    "\n",
    "So far, we have only seen execution of lines in individual functions. But if a function raises an exception, we also may want to catch and report this. Right now, an exception is being raised right through our tracer, interrupting the trace. "
   ]
  },
  {
   "cell_type": "code",
   "execution_count": 191,
   "metadata": {},
   "outputs": [],
   "source": [
    "def fail():\n",
    "    return 2 / 0"
   ]
  },
  {
   "cell_type": "code",
   "execution_count": 192,
   "metadata": {},
   "outputs": [
    {
     "name": "stdout",
     "output_type": "stream",
     "text": [
      "Calling fail()\n",
      "2 def fail():\n",
      "fail() raises ZeroDivisionError: division by zero\n",
      "fail() returns None\n"
     ]
    }
   ],
   "source": [
    "with Tracer():\n",
    "    try:\n",
    "        fail()\n",
    "    except:\n",
    "        pass"
   ]
  },
  {
   "cell_type": "markdown",
   "metadata": {
    "button": false,
    "new_sheet": false,
    "run_control": {
     "read_only": false
    }
   },
   "source": [
    "Extend the `Tracer` class (or the `EventTracer` subclasses) such that exceptions (event type `'exception'`) are properly traced, too, say as\n",
    "\n",
    "```\n",
    "fail() raises ZeroDivisionError: division by zero\n",
    "```\n",
    "\n",
    "See the Python documentation for `sys.settrace()`."
   ]
  },
  {
   "cell_type": "markdown",
   "metadata": {
    "slideshow": {
     "slide_type": "skip"
    },
    "solution2": "hidden"
   },
   "source": [
    "**Solution.** Simply extend `print_debugger_status()`:"
   ]
  },
  {
   "cell_type": "code",
   "execution_count": 193,
   "metadata": {},
   "outputs": [],
   "source": [
    "import traceback"
   ]
  },
  {
   "cell_type": "code",
   "execution_count": 194,
   "metadata": {
    "cell_style": "split",
    "slideshow": {
     "slide_type": "skip"
    },
    "solution2": "hidden"
   },
   "outputs": [],
   "source": [
    "class Tracer(Tracer):\n",
    "    def print_debugger_status(self, frame, event, arg):\n",
    "        if event == 'exception':\n",
    "            exception, value, tb = arg\n",
    "            self.log(f\"{frame.f_code.co_name}() raises {exception.__name__}: {value}\")\n",
    "        else:\n",
    "            super().print_debugger_status(frame, event, arg)"
   ]
  },
  {
   "cell_type": "code",
   "execution_count": 195,
   "metadata": {},
   "outputs": [
    {
     "name": "stdout",
     "output_type": "stream",
     "text": [
      "Calling fail()\n",
      "2 def fail():\n",
      "fail() raises ZeroDivisionError: division by zero\n",
      "fail() returns None\n"
     ]
    }
   ],
   "source": [
    "with Tracer():\n",
    "    try:\n",
    "        fail()\n",
    "    except:\n",
    "        pass"
   ]
  },
  {
   "cell_type": "markdown",
   "metadata": {
    "button": false,
    "new_sheet": false,
    "run_control": {
     "read_only": false
    }
   },
   "source": [
    "### Exercise 3: Syntax-Based Instrumentation\n",
    "\n",
    "Adding instrumentation to source code is a complicated business, notably because it is not always easy to determine where and how to instrument. If a Python line starts with \n",
    "\n",
    "```python\n",
    "if condition:\n",
    "```\n",
    "\n",
    "where should one insert code to instrument it?"
   ]
  },
  {
   "cell_type": "markdown",
   "metadata": {},
   "source": [
    "A much more elegant way to instrument code is to add instrumentation _after the code has already been parsed_. Python code, like most other code, is first _parsed_ into an intermediate tree-like structure (called an *abstract syntax tree*, or *AST*). This AST can then be inspected and manipulated, before a second step compiles it into low-level instruction sequences to be executed."
   ]
  },
  {
   "cell_type": "markdown",
   "metadata": {},
   "source": [
    "Let us start with an example. Here is an AST resulting from parsing a very simple piece of code:"
   ]
  },
  {
   "cell_type": "code",
   "execution_count": 196,
   "metadata": {},
   "outputs": [],
   "source": [
    "def foo():\n",
    "    ret = 2 * 2\n",
    "    return ret"
   ]
  },
  {
   "cell_type": "code",
   "execution_count": 197,
   "metadata": {},
   "outputs": [],
   "source": [
    "from bookutils import print_content"
   ]
  },
  {
   "cell_type": "code",
   "execution_count": 198,
   "metadata": {},
   "outputs": [
    {
     "name": "stdout",
     "output_type": "stream",
     "text": [
      "\u001b[34mdef\u001b[39;49;00m \u001b[32mfoo\u001b[39;49;00m():\n",
      "    ret = \u001b[34m2\u001b[39;49;00m * \u001b[34m2\u001b[39;49;00m\n",
      "    \u001b[34mreturn\u001b[39;49;00m ret\n"
     ]
    }
   ],
   "source": [
    "source = inspect.getsource(foo)\n",
    "print_content(source, '.py')"
   ]
  },
  {
   "cell_type": "code",
   "execution_count": 199,
   "metadata": {},
   "outputs": [],
   "source": [
    "import ast\n",
    "import astor"
   ]
  },
  {
   "cell_type": "code",
   "execution_count": 200,
   "metadata": {},
   "outputs": [],
   "source": [
    "from bookutils import rich_output"
   ]
  },
  {
   "cell_type": "code",
   "execution_count": 201,
   "metadata": {},
   "outputs": [],
   "source": [
    "if rich_output():\n",
    "    from showast import show_ast\n",
    "else:\n",
    "    def show_ast(tree):\n",
    "        ast.dump(tree)"
   ]
  },
  {
   "cell_type": "code",
   "execution_count": 202,
   "metadata": {},
   "outputs": [],
   "source": [
    "tree = ast.parse(source)"
   ]
  },
  {
   "cell_type": "code",
   "execution_count": 203,
   "metadata": {},
   "outputs": [
    {
     "data": {
      "image/svg+xml": [
       "<svg height=\"332pt\" viewBox=\"0.00 0.00 510.50 332.00\" width=\"511pt\" xmlns=\"http://www.w3.org/2000/svg\" xmlns:xlink=\"http://www.w3.org/1999/xlink\">\n",
       "<g class=\"graph\" id=\"graph0\" transform=\"scale(1 1) rotate(0) translate(4 328)\">\n",
       "<title>%3</title>\n",
       "<polygon fill=\"#ffffff\" points=\"-4,4 -4,-328 506.5,-328 506.5,4 -4,4\" stroke=\"transparent\"/>\n",
       "<!-- 0 -->\n",
       "<g class=\"node\" id=\"node1\">\n",
       "<title>0</title>\n",
       "<text fill=\"#004080\" font-family=\"Courier,monospace\" font-size=\"14.00\" font-weight=\"bold\" text-anchor=\"start\" x=\"158\" y=\"-303.3\">FunctionDef</text>\n",
       "</g>\n",
       "<!-- 1 -->\n",
       "<g class=\"node\" id=\"node2\">\n",
       "<title>1</title>\n",
       "<text fill=\"#008040\" font-family=\"Courier,monospace\" font-size=\"14.00\" text-anchor=\"middle\" x=\"61.5\" y=\"-230.3\">&quot;foo&quot;</text>\n",
       "</g>\n",
       "<!-- 0&#45;&#45;1 -->\n",
       "<g class=\"edge\" id=\"edge1\">\n",
       "<title>0--1</title>\n",
       "<path d=\"M204.5,-288C204.5,-288 145.8724,-270.2712 100.5,-252 97.4563,-250.7743 94.3069,-249.4383 91.1778,-248.0659\" fill=\"none\" stroke=\"#000000\"/>\n",
       "</g>\n",
       "<!-- 2 -->\n",
       "<g class=\"node\" id=\"node3\">\n",
       "<title>2</title>\n",
       "<text fill=\"#008040\" font-family=\"Courier,monospace\" font-size=\"14.00\" text-anchor=\"middle\" x=\"155.5\" y=\"-230.3\">arguments</text>\n",
       "</g>\n",
       "<!-- 0&#45;&#45;2 -->\n",
       "<g class=\"edge\" id=\"edge2\">\n",
       "<title>0--2</title>\n",
       "<path d=\"M204.5,-288C204.5,-288 186.3044,-267.9478 172.0892,-252.2819\" fill=\"none\" stroke=\"#000000\"/>\n",
       "</g>\n",
       "<!-- 3 -->\n",
       "<g class=\"node\" id=\"node4\">\n",
       "<title>3</title>\n",
       "<text fill=\"#004080\" font-family=\"Courier,monospace\" font-size=\"14.00\" font-weight=\"bold\" text-anchor=\"start\" x=\"228\" y=\"-231.3\">Assign</text>\n",
       "</g>\n",
       "<!-- 0&#45;&#45;3 -->\n",
       "<g class=\"edge\" id=\"edge3\">\n",
       "<title>0--3</title>\n",
       "<path d=\"M204.5,-288C204.5,-288 222.6956,-267.9478 236.9108,-252.2819\" fill=\"none\" stroke=\"#000000\"/>\n",
       "</g>\n",
       "<!-- 13 -->\n",
       "<g class=\"node\" id=\"node14\">\n",
       "<title>13</title>\n",
       "<text fill=\"#004080\" font-family=\"Courier,monospace\" font-size=\"14.00\" font-weight=\"bold\" text-anchor=\"start\" x=\"344\" y=\"-231.3\">Return</text>\n",
       "</g>\n",
       "<!-- 0&#45;&#45;13 -->\n",
       "<g class=\"edge\" id=\"edge13\">\n",
       "<title>0--13</title>\n",
       "<path d=\"M204.5,-288C204.5,-288 287.4387,-260.8564 335.7116,-245.058\" fill=\"none\" stroke=\"#000000\"/>\n",
       "</g>\n",
       "<!-- 4 -->\n",
       "<g class=\"node\" id=\"node5\">\n",
       "<title>4</title>\n",
       "<text fill=\"#004080\" font-family=\"Courier,monospace\" font-size=\"14.00\" font-weight=\"bold\" text-anchor=\"start\" x=\"89.5\" y=\"-159.3\">Name</text>\n",
       "</g>\n",
       "<!-- 3&#45;&#45;4 -->\n",
       "<g class=\"edge\" id=\"edge4\">\n",
       "<title>3--4</title>\n",
       "<path d=\"M242.5,-216C242.5,-216 173.383,-188.5565 133.6948,-172.7979\" fill=\"none\" stroke=\"#000000\"/>\n",
       "</g>\n",
       "<!-- 7 -->\n",
       "<g class=\"node\" id=\"node8\">\n",
       "<title>7</title>\n",
       "<text fill=\"#004080\" font-family=\"Courier,monospace\" font-size=\"14.00\" font-weight=\"bold\" text-anchor=\"start\" x=\"232\" y=\"-159.3\">BinOp</text>\n",
       "</g>\n",
       "<!-- 3&#45;&#45;7 -->\n",
       "<g class=\"edge\" id=\"edge7\">\n",
       "<title>3--7</title>\n",
       "<path d=\"M242.5,-216C242.5,-216 246.5847,-195.9478 249.7759,-180.2819\" fill=\"none\" stroke=\"#000000\"/>\n",
       "</g>\n",
       "<!-- 5 -->\n",
       "<g class=\"node\" id=\"node6\">\n",
       "<title>5</title>\n",
       "<text fill=\"#008040\" font-family=\"Courier,monospace\" font-size=\"14.00\" text-anchor=\"middle\" x=\"29.5\" y=\"-86.3\">&quot;ret&quot;</text>\n",
       "</g>\n",
       "<!-- 4&#45;&#45;5 -->\n",
       "<g class=\"edge\" id=\"edge5\">\n",
       "<title>4--5</title>\n",
       "<path d=\"M98.5,-144C98.5,-144 72.8777,-123.9478 52.8603,-108.2819\" fill=\"none\" stroke=\"#000000\"/>\n",
       "</g>\n",
       "<!-- 6 -->\n",
       "<g class=\"node\" id=\"node7\">\n",
       "<title>6</title>\n",
       "<text fill=\"#008040\" font-family=\"Courier,monospace\" font-size=\"14.00\" text-anchor=\"middle\" x=\"106.5\" y=\"-86.3\">Store</text>\n",
       "</g>\n",
       "<!-- 4&#45;&#45;6 -->\n",
       "<g class=\"edge\" id=\"edge6\">\n",
       "<title>4--6</title>\n",
       "<path d=\"M98.5,-144C98.5,-144 101.4707,-123.9478 103.7916,-108.2819\" fill=\"none\" stroke=\"#000000\"/>\n",
       "</g>\n",
       "<!-- 8 -->\n",
       "<g class=\"node\" id=\"node9\">\n",
       "<title>8</title>\n",
       "<text fill=\"#004080\" font-family=\"Courier,monospace\" font-size=\"14.00\" font-weight=\"bold\" text-anchor=\"start\" x=\"168.5\" y=\"-87.3\">Num</text>\n",
       "</g>\n",
       "<!-- 7&#45;&#45;8 -->\n",
       "<g class=\"edge\" id=\"edge8\">\n",
       "<title>7--8</title>\n",
       "<path d=\"M253.5,-144C253.5,-144 226.7637,-123.9478 205.8759,-108.2819\" fill=\"none\" stroke=\"#000000\"/>\n",
       "</g>\n",
       "<!-- 10 -->\n",
       "<g class=\"node\" id=\"node11\">\n",
       "<title>10</title>\n",
       "<text fill=\"#008040\" font-family=\"Courier,monospace\" font-size=\"14.00\" text-anchor=\"middle\" x=\"253.5\" y=\"-86.3\">Mult</text>\n",
       "</g>\n",
       "<!-- 7&#45;&#45;10 -->\n",
       "<g class=\"edge\" id=\"edge10\">\n",
       "<title>7--10</title>\n",
       "<path d=\"M253.5,-144C253.5,-144 253.5,-123.9478 253.5,-108.2819\" fill=\"none\" stroke=\"#000000\"/>\n",
       "</g>\n",
       "<!-- 11 -->\n",
       "<g class=\"node\" id=\"node12\">\n",
       "<title>11</title>\n",
       "<text fill=\"#004080\" font-family=\"Courier,monospace\" font-size=\"14.00\" font-weight=\"bold\" text-anchor=\"start\" x=\"312.5\" y=\"-87.3\">Num</text>\n",
       "</g>\n",
       "<!-- 7&#45;&#45;11 -->\n",
       "<g class=\"edge\" id=\"edge11\">\n",
       "<title>7--11</title>\n",
       "<path d=\"M253.5,-144C253.5,-144 280.2363,-123.9478 301.1241,-108.2819\" fill=\"none\" stroke=\"#000000\"/>\n",
       "</g>\n",
       "<!-- 9 -->\n",
       "<g class=\"node\" id=\"node10\">\n",
       "<title>9</title>\n",
       "<text fill=\"#008040\" font-family=\"Courier,monospace\" font-size=\"14.00\" text-anchor=\"middle\" x=\"181.5\" y=\"-14.3\">2</text>\n",
       "</g>\n",
       "<!-- 8&#45;&#45;9 -->\n",
       "<g class=\"edge\" id=\"edge9\">\n",
       "<title>8--9</title>\n",
       "<path d=\"M181.5,-71.8314C181.5,-61 181.5,-47.2876 181.5,-36.4133\" fill=\"none\" stroke=\"#000000\"/>\n",
       "</g>\n",
       "<!-- 12 -->\n",
       "<g class=\"node\" id=\"node13\">\n",
       "<title>12</title>\n",
       "<text fill=\"#008040\" font-family=\"Courier,monospace\" font-size=\"14.00\" text-anchor=\"middle\" x=\"325.5\" y=\"-14.3\">2</text>\n",
       "</g>\n",
       "<!-- 11&#45;&#45;12 -->\n",
       "<g class=\"edge\" id=\"edge12\">\n",
       "<title>11--12</title>\n",
       "<path d=\"M325.5,-71.8314C325.5,-61 325.5,-47.2876 325.5,-36.4133\" fill=\"none\" stroke=\"#000000\"/>\n",
       "</g>\n",
       "<!-- 14 -->\n",
       "<g class=\"node\" id=\"node15\">\n",
       "<title>14</title>\n",
       "<text fill=\"#004080\" font-family=\"Courier,monospace\" font-size=\"14.00\" font-weight=\"bold\" text-anchor=\"start\" x=\"383.5\" y=\"-159.3\">Name</text>\n",
       "</g>\n",
       "<!-- 13&#45;&#45;14 -->\n",
       "<g class=\"edge\" id=\"edge14\">\n",
       "<title>13--14</title>\n",
       "<path d=\"M377.3226,-215.8314C381.9861,-205 387.8901,-191.2876 392.5721,-180.4133\" fill=\"none\" stroke=\"#000000\"/>\n",
       "</g>\n",
       "<!-- 15 -->\n",
       "<g class=\"node\" id=\"node16\">\n",
       "<title>15</title>\n",
       "<text fill=\"#008040\" font-family=\"Courier,monospace\" font-size=\"14.00\" text-anchor=\"middle\" x=\"400.5\" y=\"-86.3\">&quot;ret&quot;</text>\n",
       "</g>\n",
       "<!-- 14&#45;&#45;15 -->\n",
       "<g class=\"edge\" id=\"edge15\">\n",
       "<title>14--15</title>\n",
       "<path d=\"M408.5,-144C408.5,-144 405.5293,-123.9478 403.2084,-108.2819\" fill=\"none\" stroke=\"#000000\"/>\n",
       "</g>\n",
       "<!-- 16 -->\n",
       "<g class=\"node\" id=\"node17\">\n",
       "<title>16</title>\n",
       "<text fill=\"#008040\" font-family=\"Courier,monospace\" font-size=\"14.00\" text-anchor=\"middle\" x=\"475.5\" y=\"-86.3\">Load</text>\n",
       "</g>\n",
       "<!-- 14&#45;&#45;16 -->\n",
       "<g class=\"edge\" id=\"edge16\">\n",
       "<title>14--16</title>\n",
       "<path d=\"M408.5,-144C408.5,-144 433.3796,-123.9478 452.8169,-108.2819\" fill=\"none\" stroke=\"#000000\"/>\n",
       "</g>\n",
       "</g>\n",
       "</svg>"
      ],
      "text/plain": [
       "<IPython.core.display.SVG object>"
      ]
     },
     "metadata": {},
     "output_type": "display_data"
    }
   ],
   "source": [
    "show_ast(tree)"
   ]
  },
  {
   "cell_type": "markdown",
   "metadata": {},
   "source": [
    "You see that the function `foo()` has a `FunctionDef` node with four children: The function name (`\"foo\"`), its arguments (`arguments`; currently empty), followed by the statements that make the function body – `Assign` for the assignment, `Return` for the `return` statement."
   ]
  },
  {
   "cell_type": "markdown",
   "metadata": {},
   "source": [
    "We obtain and manipulate the AST through the Python modules `ast` and `astor`. The original Python `ast` reference is complete, but a bit brief; the documentation [\"Green Tree Snakes - the missing Python AST docs\"](https://greentreesnakes.readthedocs.io/en/latest/) provides an excellent introduction."
   ]
  },
  {
   "cell_type": "markdown",
   "metadata": {},
   "source": [
    "To instrument the above code, we need to insert a new statement as a child to `FunctionDef` node."
   ]
  },
  {
   "cell_type": "code",
   "execution_count": 204,
   "metadata": {},
   "outputs": [],
   "source": [
    "from ast import NodeTransformer, FunctionDef, fix_missing_locations"
   ]
  },
  {
   "cell_type": "code",
   "execution_count": 205,
   "metadata": {},
   "outputs": [],
   "source": [
    "from types import FunctionType"
   ]
  },
  {
   "cell_type": "markdown",
   "metadata": {},
   "source": [
    "Here's the code we want to inject:"
   ]
  },
  {
   "cell_type": "code",
   "execution_count": 206,
   "metadata": {},
   "outputs": [],
   "source": [
    "subtree_to_be_injected = ast.parse(\"print('entering function')\")"
   ]
  },
  {
   "cell_type": "code",
   "execution_count": 207,
   "metadata": {},
   "outputs": [
    {
     "data": {
      "image/svg+xml": [
       "<svg height=\"260pt\" viewBox=\"0.00 0.00 349.50 260.00\" width=\"350pt\" xmlns=\"http://www.w3.org/2000/svg\" xmlns:xlink=\"http://www.w3.org/1999/xlink\">\n",
       "<g class=\"graph\" id=\"graph0\" transform=\"scale(1 1) rotate(0) translate(4 256)\">\n",
       "<title>%3</title>\n",
       "<polygon fill=\"#ffffff\" points=\"-4,4 -4,-256 345.5,-256 345.5,4 -4,4\" stroke=\"transparent\"/>\n",
       "<!-- 0 -->\n",
       "<g class=\"node\" id=\"node1\">\n",
       "<title>0</title>\n",
       "<text fill=\"#004080\" font-family=\"Courier,monospace\" font-size=\"14.00\" font-weight=\"bold\" text-anchor=\"start\" x=\"139.5\" y=\"-231.3\">Expr</text>\n",
       "</g>\n",
       "<!-- 1 -->\n",
       "<g class=\"node\" id=\"node2\">\n",
       "<title>1</title>\n",
       "<text fill=\"#004080\" font-family=\"Courier,monospace\" font-size=\"14.00\" font-weight=\"bold\" text-anchor=\"start\" x=\"139.5\" y=\"-159.3\">Call</text>\n",
       "</g>\n",
       "<!-- 0&#45;&#45;1 -->\n",
       "<g class=\"edge\" id=\"edge1\">\n",
       "<title>0--1</title>\n",
       "<path d=\"M156.5,-215.8314C156.5,-205 156.5,-191.2876 156.5,-180.4133\" fill=\"none\" stroke=\"#000000\"/>\n",
       "</g>\n",
       "<!-- 2 -->\n",
       "<g class=\"node\" id=\"node3\">\n",
       "<title>2</title>\n",
       "<text fill=\"#004080\" font-family=\"Courier,monospace\" font-size=\"14.00\" font-weight=\"bold\" text-anchor=\"start\" x=\"103.5\" y=\"-87.3\">Name</text>\n",
       "</g>\n",
       "<!-- 1&#45;&#45;2 -->\n",
       "<g class=\"edge\" id=\"edge2\">\n",
       "<title>1--2</title>\n",
       "<path d=\"M159.5,-144C159.5,-144 145.0178,-123.9478 133.7036,-108.2819\" fill=\"none\" stroke=\"#000000\"/>\n",
       "</g>\n",
       "<!-- 5 -->\n",
       "<g class=\"node\" id=\"node6\">\n",
       "<title>5</title>\n",
       "<text fill=\"#004080\" font-family=\"Courier,monospace\" font-size=\"14.00\" font-weight=\"bold\" text-anchor=\"start\" x=\"209.5\" y=\"-87.3\">Str</text>\n",
       "</g>\n",
       "<!-- 1&#45;&#45;5 -->\n",
       "<g class=\"edge\" id=\"edge5\">\n",
       "<title>1--5</title>\n",
       "<path d=\"M159.5,-144C159.5,-144 182.8943,-123.9478 201.1711,-108.2819\" fill=\"none\" stroke=\"#000000\"/>\n",
       "</g>\n",
       "<!-- 3 -->\n",
       "<g class=\"node\" id=\"node4\">\n",
       "<title>3</title>\n",
       "<text fill=\"#008040\" font-family=\"Courier,monospace\" font-size=\"14.00\" text-anchor=\"middle\" x=\"37.5\" y=\"-14.3\">&quot;print&quot;</text>\n",
       "</g>\n",
       "<!-- 2&#45;&#45;3 -->\n",
       "<g class=\"edge\" id=\"edge3\">\n",
       "<title>2--3</title>\n",
       "<path d=\"M112.5,-72C112.5,-72 84.6497,-51.9478 62.8916,-36.2819\" fill=\"none\" stroke=\"#000000\"/>\n",
       "</g>\n",
       "<!-- 4 -->\n",
       "<g class=\"node\" id=\"node5\">\n",
       "<title>4</title>\n",
       "<text fill=\"#008040\" font-family=\"Courier,monospace\" font-size=\"14.00\" text-anchor=\"middle\" x=\"120.5\" y=\"-14.3\">Load</text>\n",
       "</g>\n",
       "<!-- 2&#45;&#45;4 -->\n",
       "<g class=\"edge\" id=\"edge4\">\n",
       "<title>2--4</title>\n",
       "<path d=\"M112.5,-72C112.5,-72 115.4707,-51.9478 117.7916,-36.2819\" fill=\"none\" stroke=\"#000000\"/>\n",
       "</g>\n",
       "<!-- 6 -->\n",
       "<g class=\"node\" id=\"node7\">\n",
       "<title>6</title>\n",
       "<text fill=\"#008040\" font-family=\"Courier,monospace\" font-size=\"14.00\" text-anchor=\"middle\" x=\"253.5\" y=\"-14.3\">&quot;entering function&quot;</text>\n",
       "</g>\n",
       "<!-- 5&#45;&#45;6 -->\n",
       "<g class=\"edge\" id=\"edge6\">\n",
       "<title>5--6</title>\n",
       "<path d=\"M230.3226,-71.8314C234.9861,-61 240.8901,-47.2876 245.5721,-36.4133\" fill=\"none\" stroke=\"#000000\"/>\n",
       "</g>\n",
       "</g>\n",
       "</svg>"
      ],
      "text/plain": [
       "<IPython.core.display.SVG object>"
      ]
     },
     "metadata": {},
     "output_type": "display_data"
    }
   ],
   "source": [
    "show_ast(subtree_to_be_injected)"
   ]
  },
  {
   "cell_type": "markdown",
   "metadata": {},
   "source": [
    "The root of an `ast.parse()` tree actually is a `Module` node; we go directly to its child, which is the `Expr` node we want to inject."
   ]
  },
  {
   "cell_type": "code",
   "execution_count": 208,
   "metadata": {},
   "outputs": [],
   "source": [
    "subtree_to_be_injected = subtree_to_be_injected.body[0]"
   ]
  },
  {
   "cell_type": "markdown",
   "metadata": {},
   "source": [
    "To inject the code, we use the `NodeTransformer` class as described in the Python `ast` documentation. We vist all function definitions (`FunctionDef`) and replace them with a new function definition in which the `body` gets an additional child – namely our subtree to be injected."
   ]
  },
  {
   "cell_type": "code",
   "execution_count": 209,
   "metadata": {},
   "outputs": [],
   "source": [
    "class InjectPass(NodeTransformer):\n",
    "    def visit_FunctionDef(self, node):\n",
    "        return FunctionDef(\n",
    "            name=node.name,\n",
    "            args=node.args,\n",
    "            body=[subtree_to_be_injected] + node.body,\n",
    "            decorator_list=node.decorator_list,\n",
    "            returns=node.returns\n",
    "        )"
   ]
  },
  {
   "cell_type": "code",
   "execution_count": 210,
   "metadata": {},
   "outputs": [],
   "source": [
    "new_tree = fix_missing_locations(InjectPass().visit(tree))"
   ]
  },
  {
   "cell_type": "markdown",
   "metadata": {},
   "source": [
    "This is what our new tree looks like:"
   ]
  },
  {
   "cell_type": "code",
   "execution_count": 211,
   "metadata": {},
   "outputs": [
    {
     "data": {
      "image/svg+xml": [
       "<svg height=\"332pt\" viewBox=\"0.00 0.00 778.50 332.00\" width=\"779pt\" xmlns=\"http://www.w3.org/2000/svg\" xmlns:xlink=\"http://www.w3.org/1999/xlink\">\n",
       "<g class=\"graph\" id=\"graph0\" transform=\"scale(1 1) rotate(0) translate(4 328)\">\n",
       "<title>%3</title>\n",
       "<polygon fill=\"#ffffff\" points=\"-4,4 -4,-328 774.5,-328 774.5,4 -4,4\" stroke=\"transparent\"/>\n",
       "<!-- 0 -->\n",
       "<g class=\"node\" id=\"node1\">\n",
       "<title>0</title>\n",
       "<text fill=\"#004080\" font-family=\"Courier,monospace\" font-size=\"14.00\" font-weight=\"bold\" text-anchor=\"start\" x=\"286\" y=\"-303.3\">FunctionDef</text>\n",
       "</g>\n",
       "<!-- 1 -->\n",
       "<g class=\"node\" id=\"node2\">\n",
       "<title>1</title>\n",
       "<text fill=\"#008040\" font-family=\"Courier,monospace\" font-size=\"14.00\" text-anchor=\"middle\" x=\"147.5\" y=\"-230.3\">&quot;foo&quot;</text>\n",
       "</g>\n",
       "<!-- 0&#45;&#45;1 -->\n",
       "<g class=\"edge\" id=\"edge1\">\n",
       "<title>0--1</title>\n",
       "<path d=\"M332.5,-288C332.5,-288 249.5713,-274.1037 186.5,-252 183.4035,-250.9148 180.2193,-249.6709 177.069,-248.3549\" fill=\"none\" stroke=\"#000000\"/>\n",
       "</g>\n",
       "<!-- 2 -->\n",
       "<g class=\"node\" id=\"node3\">\n",
       "<title>2</title>\n",
       "<text fill=\"#008040\" font-family=\"Courier,monospace\" font-size=\"14.00\" text-anchor=\"middle\" x=\"241.5\" y=\"-230.3\">arguments</text>\n",
       "</g>\n",
       "<!-- 0&#45;&#45;2 -->\n",
       "<g class=\"edge\" id=\"edge2\">\n",
       "<title>0--2</title>\n",
       "<path d=\"M332.5,-288C332.5,-288 298.4913,-267.819 272.0548,-252.1314\" fill=\"none\" stroke=\"#000000\"/>\n",
       "</g>\n",
       "<!-- 3 -->\n",
       "<g class=\"node\" id=\"node4\">\n",
       "<title>3</title>\n",
       "<text fill=\"#004080\" font-family=\"Courier,monospace\" font-size=\"14.00\" font-weight=\"bold\" text-anchor=\"start\" x=\"315.5\" y=\"-231.3\">Expr</text>\n",
       "</g>\n",
       "<!-- 0&#45;&#45;3 -->\n",
       "<g class=\"edge\" id=\"edge3\">\n",
       "<title>0--3</title>\n",
       "<path d=\"M332.5,-288C332.5,-288 332.5,-267.9478 332.5,-252.2819\" fill=\"none\" stroke=\"#000000\"/>\n",
       "</g>\n",
       "<!-- 10 -->\n",
       "<g class=\"node\" id=\"node11\">\n",
       "<title>10</title>\n",
       "<text fill=\"#004080\" font-family=\"Courier,monospace\" font-size=\"14.00\" font-weight=\"bold\" text-anchor=\"start\" x=\"386\" y=\"-231.3\">Assign</text>\n",
       "</g>\n",
       "<!-- 0&#45;&#45;10 -->\n",
       "<g class=\"edge\" id=\"edge10\">\n",
       "<title>0--10</title>\n",
       "<path d=\"M332.5,-288C332.5,-288 361.8357,-267.9478 384.7542,-252.2819\" fill=\"none\" stroke=\"#000000\"/>\n",
       "</g>\n",
       "<!-- 20 -->\n",
       "<g class=\"node\" id=\"node21\">\n",
       "<title>20</title>\n",
       "<text fill=\"#004080\" font-family=\"Courier,monospace\" font-size=\"14.00\" font-weight=\"bold\" text-anchor=\"start\" x=\"575\" y=\"-231.3\">Return</text>\n",
       "</g>\n",
       "<!-- 0&#45;&#45;20 -->\n",
       "<g class=\"edge\" id=\"edge20\">\n",
       "<title>0--20</title>\n",
       "<path d=\"M332.5,-288C332.5,-288 494.8497,-255.2877 566.829,-240.7845\" fill=\"none\" stroke=\"#000000\"/>\n",
       "</g>\n",
       "<!-- 4 -->\n",
       "<g class=\"node\" id=\"node5\">\n",
       "<title>4</title>\n",
       "<text fill=\"#004080\" font-family=\"Courier,monospace\" font-size=\"14.00\" font-weight=\"bold\" text-anchor=\"start\" x=\"205.5\" y=\"-159.3\">Call</text>\n",
       "</g>\n",
       "<!-- 3&#45;&#45;4 -->\n",
       "<g class=\"edge\" id=\"edge4\">\n",
       "<title>3--4</title>\n",
       "<path d=\"M305.309,-216.2022C288.3857,-205.1252 266.6956,-190.928 249.7594,-179.8425\" fill=\"none\" stroke=\"#000000\"/>\n",
       "</g>\n",
       "<!-- 5 -->\n",
       "<g class=\"node\" id=\"node6\">\n",
       "<title>5</title>\n",
       "<text fill=\"#004080\" font-family=\"Courier,monospace\" font-size=\"14.00\" font-weight=\"bold\" text-anchor=\"start\" x=\"103.5\" y=\"-87.3\">Name</text>\n",
       "</g>\n",
       "<!-- 4&#45;&#45;5 -->\n",
       "<g class=\"edge\" id=\"edge5\">\n",
       "<title>4--5</title>\n",
       "<path d=\"M212.5,-144C212.5,-144 174.7432,-121.8384 147.6054,-105.9097\" fill=\"none\" stroke=\"#000000\"/>\n",
       "</g>\n",
       "<!-- 8 -->\n",
       "<g class=\"node\" id=\"node9\">\n",
       "<title>8</title>\n",
       "<text fill=\"#004080\" font-family=\"Courier,monospace\" font-size=\"14.00\" font-weight=\"bold\" text-anchor=\"start\" x=\"209.5\" y=\"-87.3\">Str</text>\n",
       "</g>\n",
       "<!-- 4&#45;&#45;8 -->\n",
       "<g class=\"edge\" id=\"edge8\">\n",
       "<title>4--8</title>\n",
       "<path d=\"M212.5,-144C212.5,-144 216.2134,-123.9478 219.1145,-108.2819\" fill=\"none\" stroke=\"#000000\"/>\n",
       "</g>\n",
       "<!-- 6 -->\n",
       "<g class=\"node\" id=\"node7\">\n",
       "<title>6</title>\n",
       "<text fill=\"#008040\" font-family=\"Courier,monospace\" font-size=\"14.00\" text-anchor=\"middle\" x=\"37.5\" y=\"-14.3\">&quot;print&quot;</text>\n",
       "</g>\n",
       "<!-- 5&#45;&#45;6 -->\n",
       "<g class=\"edge\" id=\"edge6\">\n",
       "<title>5--6</title>\n",
       "<path d=\"M112.5,-72C112.5,-72 84.6497,-51.9478 62.8916,-36.2819\" fill=\"none\" stroke=\"#000000\"/>\n",
       "</g>\n",
       "<!-- 7 -->\n",
       "<g class=\"node\" id=\"node8\">\n",
       "<title>7</title>\n",
       "<text fill=\"#008040\" font-family=\"Courier,monospace\" font-size=\"14.00\" text-anchor=\"middle\" x=\"120.5\" y=\"-14.3\">Load</text>\n",
       "</g>\n",
       "<!-- 5&#45;&#45;7 -->\n",
       "<g class=\"edge\" id=\"edge7\">\n",
       "<title>5--7</title>\n",
       "<path d=\"M112.5,-72C112.5,-72 115.4707,-51.9478 117.7916,-36.2819\" fill=\"none\" stroke=\"#000000\"/>\n",
       "</g>\n",
       "<!-- 9 -->\n",
       "<g class=\"node\" id=\"node10\">\n",
       "<title>9</title>\n",
       "<text fill=\"#008040\" font-family=\"Courier,monospace\" font-size=\"14.00\" text-anchor=\"middle\" x=\"253.5\" y=\"-14.3\">&quot;entering function&quot;</text>\n",
       "</g>\n",
       "<!-- 8&#45;&#45;9 -->\n",
       "<g class=\"edge\" id=\"edge9\">\n",
       "<title>8--9</title>\n",
       "<path d=\"M230.3226,-71.8314C234.9861,-61 240.8901,-47.2876 245.5721,-36.4133\" fill=\"none\" stroke=\"#000000\"/>\n",
       "</g>\n",
       "<!-- 11 -->\n",
       "<g class=\"node\" id=\"node12\">\n",
       "<title>11</title>\n",
       "<text fill=\"#004080\" font-family=\"Courier,monospace\" font-size=\"14.00\" font-weight=\"bold\" text-anchor=\"start\" x=\"357.5\" y=\"-159.3\">Name</text>\n",
       "</g>\n",
       "<!-- 10&#45;&#45;11 -->\n",
       "<g class=\"edge\" id=\"edge11\">\n",
       "<title>10--11</title>\n",
       "<path d=\"M414.5,-216C414.5,-216 399.6465,-195.9478 388.0422,-180.2819\" fill=\"none\" stroke=\"#000000\"/>\n",
       "</g>\n",
       "<!-- 14 -->\n",
       "<g class=\"node\" id=\"node15\">\n",
       "<title>14</title>\n",
       "<text fill=\"#004080\" font-family=\"Courier,monospace\" font-size=\"14.00\" font-weight=\"bold\" text-anchor=\"start\" x=\"464\" y=\"-159.3\">BinOp</text>\n",
       "</g>\n",
       "<!-- 10&#45;&#45;14 -->\n",
       "<g class=\"edge\" id=\"edge14\">\n",
       "<title>10--14</title>\n",
       "<path d=\"M414.5,-216C414.5,-216 440.865,-195.9478 461.4626,-180.2819\" fill=\"none\" stroke=\"#000000\"/>\n",
       "</g>\n",
       "<!-- 12 -->\n",
       "<g class=\"node\" id=\"node13\">\n",
       "<title>12</title>\n",
       "<text fill=\"#008040\" font-family=\"Courier,monospace\" font-size=\"14.00\" text-anchor=\"middle\" x=\"297.5\" y=\"-86.3\">&quot;ret&quot;</text>\n",
       "</g>\n",
       "<!-- 11&#45;&#45;12 -->\n",
       "<g class=\"edge\" id=\"edge12\">\n",
       "<title>11--12</title>\n",
       "<path d=\"M366.5,-144C366.5,-144 340.8777,-123.9478 320.8603,-108.2819\" fill=\"none\" stroke=\"#000000\"/>\n",
       "</g>\n",
       "<!-- 13 -->\n",
       "<g class=\"node\" id=\"node14\">\n",
       "<title>13</title>\n",
       "<text fill=\"#008040\" font-family=\"Courier,monospace\" font-size=\"14.00\" text-anchor=\"middle\" x=\"374.5\" y=\"-86.3\">Store</text>\n",
       "</g>\n",
       "<!-- 11&#45;&#45;13 -->\n",
       "<g class=\"edge\" id=\"edge13\">\n",
       "<title>11--13</title>\n",
       "<path d=\"M366.5,-144C366.5,-144 369.4707,-123.9478 371.7916,-108.2819\" fill=\"none\" stroke=\"#000000\"/>\n",
       "</g>\n",
       "<!-- 15 -->\n",
       "<g class=\"node\" id=\"node16\">\n",
       "<title>15</title>\n",
       "<text fill=\"#004080\" font-family=\"Courier,monospace\" font-size=\"14.00\" font-weight=\"bold\" text-anchor=\"start\" x=\"436.5\" y=\"-87.3\">Num</text>\n",
       "</g>\n",
       "<!-- 14&#45;&#45;15 -->\n",
       "<g class=\"edge\" id=\"edge15\">\n",
       "<title>14--15</title>\n",
       "<path d=\"M491.5,-144C491.5,-144 475.9038,-123.9478 463.7193,-108.2819\" fill=\"none\" stroke=\"#000000\"/>\n",
       "</g>\n",
       "<!-- 17 -->\n",
       "<g class=\"node\" id=\"node18\">\n",
       "<title>17</title>\n",
       "<text fill=\"#008040\" font-family=\"Courier,monospace\" font-size=\"14.00\" text-anchor=\"middle\" x=\"521.5\" y=\"-86.3\">Mult</text>\n",
       "</g>\n",
       "<!-- 14&#45;&#45;17 -->\n",
       "<g class=\"edge\" id=\"edge17\">\n",
       "<title>14--17</title>\n",
       "<path d=\"M491.5,-144C491.5,-144 502.6401,-123.9478 511.3434,-108.2819\" fill=\"none\" stroke=\"#000000\"/>\n",
       "</g>\n",
       "<!-- 18 -->\n",
       "<g class=\"node\" id=\"node19\">\n",
       "<title>18</title>\n",
       "<text fill=\"#004080\" font-family=\"Courier,monospace\" font-size=\"14.00\" font-weight=\"bold\" text-anchor=\"start\" x=\"580.5\" y=\"-87.3\">Num</text>\n",
       "</g>\n",
       "<!-- 14&#45;&#45;18 -->\n",
       "<g class=\"edge\" id=\"edge18\">\n",
       "<title>14--18</title>\n",
       "<path d=\"M491.5,-144C491.5,-144 536.2157,-120.327 566.4337,-104.3292\" fill=\"none\" stroke=\"#000000\"/>\n",
       "</g>\n",
       "<!-- 16 -->\n",
       "<g class=\"node\" id=\"node17\">\n",
       "<title>16</title>\n",
       "<text fill=\"#008040\" font-family=\"Courier,monospace\" font-size=\"14.00\" text-anchor=\"middle\" x=\"449.5\" y=\"-14.3\">2</text>\n",
       "</g>\n",
       "<!-- 15&#45;&#45;16 -->\n",
       "<g class=\"edge\" id=\"edge16\">\n",
       "<title>15--16</title>\n",
       "<path d=\"M449.5,-71.8314C449.5,-61 449.5,-47.2876 449.5,-36.4133\" fill=\"none\" stroke=\"#000000\"/>\n",
       "</g>\n",
       "<!-- 19 -->\n",
       "<g class=\"node\" id=\"node20\">\n",
       "<title>19</title>\n",
       "<text fill=\"#008040\" font-family=\"Courier,monospace\" font-size=\"14.00\" text-anchor=\"middle\" x=\"593.5\" y=\"-14.3\">2</text>\n",
       "</g>\n",
       "<!-- 18&#45;&#45;19 -->\n",
       "<g class=\"edge\" id=\"edge19\">\n",
       "<title>18--19</title>\n",
       "<path d=\"M593.5,-71.8314C593.5,-61 593.5,-47.2876 593.5,-36.4133\" fill=\"none\" stroke=\"#000000\"/>\n",
       "</g>\n",
       "<!-- 21 -->\n",
       "<g class=\"node\" id=\"node22\">\n",
       "<title>21</title>\n",
       "<text fill=\"#004080\" font-family=\"Courier,monospace\" font-size=\"14.00\" font-weight=\"bold\" text-anchor=\"start\" x=\"651.5\" y=\"-159.3\">Name</text>\n",
       "</g>\n",
       "<!-- 20&#45;&#45;21 -->\n",
       "<g class=\"edge\" id=\"edge21\">\n",
       "<title>20--21</title>\n",
       "<path d=\"M617.6593,-215.8314C627.8889,-205 640.8395,-191.2876 651.1097,-180.4133\" fill=\"none\" stroke=\"#000000\"/>\n",
       "</g>\n",
       "<!-- 22 -->\n",
       "<g class=\"node\" id=\"node23\">\n",
       "<title>22</title>\n",
       "<text fill=\"#008040\" font-family=\"Courier,monospace\" font-size=\"14.00\" text-anchor=\"middle\" x=\"668.5\" y=\"-86.3\">&quot;ret&quot;</text>\n",
       "</g>\n",
       "<!-- 21&#45;&#45;22 -->\n",
       "<g class=\"edge\" id=\"edge22\">\n",
       "<title>21--22</title>\n",
       "<path d=\"M676.5,-144C676.5,-144 673.5293,-123.9478 671.2084,-108.2819\" fill=\"none\" stroke=\"#000000\"/>\n",
       "</g>\n",
       "<!-- 23 -->\n",
       "<g class=\"node\" id=\"node24\">\n",
       "<title>23</title>\n",
       "<text fill=\"#008040\" font-family=\"Courier,monospace\" font-size=\"14.00\" text-anchor=\"middle\" x=\"743.5\" y=\"-86.3\">Load</text>\n",
       "</g>\n",
       "<!-- 21&#45;&#45;23 -->\n",
       "<g class=\"edge\" id=\"edge23\">\n",
       "<title>21--23</title>\n",
       "<path d=\"M676.5,-144C676.5,-144 701.3796,-123.9478 720.8169,-108.2819\" fill=\"none\" stroke=\"#000000\"/>\n",
       "</g>\n",
       "</g>\n",
       "</svg>"
      ],
      "text/plain": [
       "<IPython.core.display.SVG object>"
      ]
     },
     "metadata": {},
     "output_type": "display_data"
    }
   ],
   "source": [
    "show_ast(new_tree)"
   ]
  },
  {
   "cell_type": "markdown",
   "metadata": {},
   "source": [
    "This is what the tree looks like when converted back to source code:"
   ]
  },
  {
   "cell_type": "code",
   "execution_count": 212,
   "metadata": {},
   "outputs": [
    {
     "name": "stdout",
     "output_type": "stream",
     "text": [
      "\u001b[34mdef\u001b[39;49;00m \u001b[32mfoo\u001b[39;49;00m():\n",
      "    \u001b[34mprint\u001b[39;49;00m(\u001b[33m'\u001b[39;49;00m\u001b[33mentering function\u001b[39;49;00m\u001b[33m'\u001b[39;49;00m)\n",
      "    ret = \u001b[34m2\u001b[39;49;00m * \u001b[34m2\u001b[39;49;00m\n",
      "    \u001b[34mreturn\u001b[39;49;00m ret\n"
     ]
    }
   ],
   "source": [
    "new_source = astor.to_source(new_tree)\n",
    "print_content(new_source, '.py')"
   ]
  },
  {
   "cell_type": "markdown",
   "metadata": {},
   "source": [
    "We can now compile the new source into a function:"
   ]
  },
  {
   "cell_type": "code",
   "execution_count": 213,
   "metadata": {},
   "outputs": [],
   "source": [
    "exec(new_source)"
   ]
  },
  {
   "cell_type": "markdown",
   "metadata": {},
   "source": [
    "... and happily invoke our instrumented function."
   ]
  },
  {
   "cell_type": "code",
   "execution_count": 214,
   "metadata": {},
   "outputs": [
    {
     "name": "stdout",
     "output_type": "stream",
     "text": [
      "entering function\n"
     ]
    },
    {
     "data": {
      "text/plain": [
       "4"
      ]
     },
     "execution_count": 214,
     "metadata": {},
     "output_type": "execute_result"
    }
   ],
   "source": [
    "foo()"
   ]
  },
  {
   "cell_type": "markdown",
   "metadata": {},
   "source": [
    "Your task is to implement a function `insert_tracer_ast(function, breakpoints)` that works like `insert_tracer()`, above, except that it uses this AST-based mechanism to inject debugging code into the given function."
   ]
  }
 ],
 "metadata": {
  "ipub": {
   "bibliography": "fuzzingbook.bib",
   "toc": true
  },
  "kernelspec": {
   "display_name": "Python 3",
   "language": "python",
   "name": "python3"
  },
  "language_info": {
   "codemirror_mode": {
    "name": "ipython",
    "version": 3
   },
   "file_extension": ".py",
   "mimetype": "text/x-python",
   "name": "python",
   "nbconvert_exporter": "python",
   "pygments_lexer": "ipython3",
   "version": "3.6.8"
  },
  "toc": {
   "base_numbering": 1,
   "nav_menu": {},
   "number_sections": true,
   "sideBar": true,
   "skip_h1_title": true,
   "title_cell": "",
   "title_sidebar": "Contents",
   "toc_cell": false,
   "toc_position": {},
   "toc_section_display": true,
   "toc_window_display": true
  },
  "toc-autonumbering": false
 },
 "nbformat": 4,
 "nbformat_minor": 2
}
