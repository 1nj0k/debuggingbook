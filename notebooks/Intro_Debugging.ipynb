{
 "cells": [
  {
   "cell_type": "markdown",
   "metadata": {
    "button": false,
    "new_sheet": false,
    "run_control": {
     "read_only": false
    }
   },
   "source": [
    "# Introduction to Debugging\n",
    "\n",
    "In this book, we want to explore _debugging_ - the art and science of fixing bugs in computer software. In particular, we want to explore techniques that _automatically_ answer questions like: Where is the bug? When does it occur? And how can we repair it? But before we start automating the debugging process, we first need to understand what this process is.\n",
    "\n",
    "In this chapter, we introduce basic concepts of systematic software debugging and the debugging process, and at the same time get acquainted with Python and interactive notebooks."
   ]
  },
  {
   "cell_type": "markdown",
   "metadata": {
    "button": false,
    "new_sheet": false,
    "run_control": {
     "read_only": false
    }
   },
   "source": [
    "**Prerequisites**\n",
    "\n",
    "* The book is meant to be a standalone reference; however, a number of _great books on debugging_ are listed at the end,\n",
    "* Knowing a bit of _Python_ is helpful for understanding the code examples in the book."
   ]
  },
  {
   "cell_type": "code",
   "execution_count": 273,
   "metadata": {},
   "outputs": [],
   "source": [
    "import bookutils"
   ]
  },
  {
   "cell_type": "markdown",
   "metadata": {
    "button": false,
    "new_sheet": true,
    "run_control": {
     "read_only": false
    },
    "toc-hr-collapsed": true
   },
   "source": [
    "## A Simple Function\n",
    "\n",
    "### Your Task: Remove HTML Markup\n",
    "\n",
    "Let us start with a simple example. You may have heard of how documents on the Web are made out of text and HTML markup. HTML markup consists of _tags_ in angle brackets that surround the text, providing additional information on how the text should be interpreted. For instance, in the HTML text\n",
    "\n",
    "```html\n",
    "This is <em>emphasized</em>.\n",
    "```\n",
    "\n",
    "the word \"emphasized\" is enclosed in the HTML tags `<em>` (start) and `</em>` (end), meaning that it should be interpreted (and rendered) in an emphasized way – typically in italics. In your environment, the HTML text gets rendered as\n",
    "\n",
    "> This is <em>emphasized</em>.\n",
    "\n",
    "There's HTML tags for pretty much everything – text markup (<strong>bold</strong> text, <s>strikethrough</s> text), text structure (titles, lists), references (links) to other documents, and many more. These HTML tags shape the Web as we know it."
   ]
  },
  {
   "cell_type": "markdown",
   "metadata": {},
   "source": [
    "However, within all the HTML markup, it may become difficult to actually access the _text_ that lies within. We'd like to implement a simple function that removes _HTML markup_ and converts it into text. If our input is\n",
    "\n",
    "```html\n",
    "Here's some <strong>strong argument</strong>.\n",
    "```\n",
    "the output should be\n",
    "\n",
    "> Here's some strong argument."
   ]
  },
  {
   "cell_type": "markdown",
   "metadata": {},
   "source": [
    "Here's a Python function which does exactly this. It takes a (HTML) string and returns the text without markup."
   ]
  },
  {
   "cell_type": "code",
   "execution_count": 274,
   "metadata": {},
   "outputs": [],
   "source": [
    "def remove_html_markup(s):\n",
    "    tag   = False\n",
    "    out   = \"\"\n",
    "\n",
    "    for c in s:\n",
    "        if c == '<':   # start of markup\n",
    "            tag = True\n",
    "        elif c == '>': # end of markup\n",
    "            tag = False\n",
    "        elif not tag:\n",
    "            out = out + c\n",
    "    \n",
    "    return out"
   ]
  },
  {
   "cell_type": "markdown",
   "metadata": {},
   "source": [
    "This function works, but not always. Before we start debugging things, let us first explore its code and how it works."
   ]
  },
  {
   "cell_type": "markdown",
   "metadata": {},
   "source": [
    "### Understanding Python Programs\n",
    "\n",
    "If you're new to Python, you might first have to understand what the above code does.  We very much recommend the [Python tutorial](https://docs.python.org/3/tutorial/) to get an idea on how Python works.  The most important things for you to understand the above code are these three:\n",
    "\n",
    "1. Python structures programs through _indentation_, so the function and `for` bodies are defined by being indented;\n",
    "2. Python is _dynamically typed_, meaning that the type of variables like `x`, `approx`, or `guess` is determined at run-time.\n",
    "3. Most of Python's syntactic features are inspired by other common languages, such as control structures (`while`, `if`, `for`), assignments (`=`), or comparisons (`==`, `!=`, `<`).\n",
    "\n",
    "With that, you can already understand what the above code does: `remove_html_markup()` takes a (HTML) string `s` and then iterates over the individual characters (`for c in s`). By default, these characters are added to the return string `out`. However, if `remove_html_markup()` finds a `<` character, it sets the `tag` flag, meaning that all further characters are ignored until a `>` character is found.\n",
    "\n",
    "In contrast to other languages, Python makes no difference between strings and characters – there's only strings. As in HTML, strings can be enclosed in single quotes (`'a'`) and in double quotes (`\"a\"`). This is useful if you want to specify a string that contains quotes, as in `'She said \"hello\", and then left'` or `\"The first character is a 'c'\"`"
   ]
  },
  {
   "cell_type": "markdown",
   "metadata": {},
   "source": [
    "### Running a Function\n",
    "\n",
    "To find out whether `remove_html_markup()` works correctly, we can *test* it with a few values.  For the string\n",
    "\n",
    "```html\n",
    "Here's some <strong>strong argument</strong>.\n",
    "```\n",
    "\n",
    "for instance, it produces the correct value:"
   ]
  },
  {
   "cell_type": "code",
   "execution_count": 275,
   "metadata": {},
   "outputs": [
    {
     "data": {
      "text/plain": [
       "\"Here's some strong argument.\""
      ]
     },
     "execution_count": 275,
     "metadata": {},
     "output_type": "execute_result"
    }
   ],
   "source": [
    "remove_html_markup(\"Here's some <strong>strong argument</strong>.\")"
   ]
  },
  {
   "cell_type": "markdown",
   "metadata": {},
   "source": [
    "### Interacting with Notebooks\n",
    "\n",
    "If you are reading this in the interactive notebook, you can try out `remove_html_markup()` with other values as well.  Click on the above cells with the invocation of `remove_html_markup()` and change the value – say, to `remove_html_markup(\"<em>foo</em>\")`.  Press `Shift+Enter` (or click on the play symbol) to execute it and see the result.  If you get an error message, go to the above cell with the definition of `remobve_html_markup()` and execute this first.  You can also run _all_ cells at once; see the Notebook menu for details.  (You can actually also change the text by clicking on it, and corect mistaks such as in this sentence.)"
   ]
  },
  {
   "cell_type": "markdown",
   "metadata": {},
   "source": [
    "Executing a single cell does not execute other cells, so if your cell builds on a definition in another cell that you have not executed yet, you will get an error.  You can select `Run all cells above` from the menu to ensure all definitions are set."
   ]
  },
  {
   "cell_type": "markdown",
   "metadata": {},
   "source": [
    "Also keep in mind that, unless overwritten, all definitions are kept across executions.  Occasionally, it thus helps to _restart the kernel_ (i.e. start the Python interpreter from scratch) to get rid of older, superfluous definitions."
   ]
  },
  {
   "cell_type": "markdown",
   "metadata": {
    "toc-hr-collapsed": false
   },
   "source": [
    "### Testing a Function"
   ]
  },
  {
   "cell_type": "markdown",
   "metadata": {},
   "source": [
    "Since one can change not only invocations, but also definitions, we want to ensure that our function works properly now and in the future. To this end, we introduce tests through _assertions_ – a statement that fails if the given _check_ is false. The following assertion, for instance, checks that the above call to `remove_html_markup()` returns the correct value:"
   ]
  },
  {
   "cell_type": "code",
   "execution_count": 276,
   "metadata": {},
   "outputs": [],
   "source": [
    "assert remove_html_markup(\"Here's some <strong>strong argument</strong>.\") == \"Here's some strong argument.\""
   ]
  },
  {
   "cell_type": "markdown",
   "metadata": {},
   "source": [
    "If you change the code of `remove_html_markup()` such that the above assertion fails, you will have introduced a bug."
   ]
  },
  {
   "cell_type": "markdown",
   "metadata": {},
   "source": [
    "## Oops! A Bug!"
   ]
  },
  {
   "cell_type": "markdown",
   "metadata": {},
   "source": [
    "As nice and simple as `remove_html_markup()` is, it is buggy. Some HTML markup is not properly stripped away. Consider this HTML tag, which would render as an input field in a form:\n",
    "\n",
    "```html\n",
    "<input type=\"text\" value=\"<your name>\">\n",
    "```\n",
    "If we feed this string into `remove_html_markup()`, we would expect an empty string as the result. Instead, this is what we get:"
   ]
  },
  {
   "cell_type": "code",
   "execution_count": 277,
   "metadata": {},
   "outputs": [
    {
     "data": {
      "text/plain": [
       "'\"'"
      ]
     },
     "execution_count": 277,
     "metadata": {},
     "output_type": "execute_result"
    }
   ],
   "source": [
    "remove_html_markup('<input type=\"text\" value=\"<your name>\">')"
   ]
  },
  {
   "cell_type": "markdown",
   "metadata": {},
   "source": [
    "Every time we encounter a bug, this means that our earlier tests have failed. We thus need to introduce another test that documents not only how the bug came to be, but also the result we actually expected."
   ]
  },
  {
   "cell_type": "markdown",
   "metadata": {},
   "source": [
    "The assertion we write now fails with an error message. (The `ExpectError` magic ensures we see the error message, but the rest of the notebook is still executed.)"
   ]
  },
  {
   "cell_type": "code",
   "execution_count": 278,
   "metadata": {},
   "outputs": [],
   "source": [
    "from ExpectError import ExpectError"
   ]
  },
  {
   "cell_type": "code",
   "execution_count": 279,
   "metadata": {},
   "outputs": [
    {
     "name": "stderr",
     "output_type": "stream",
     "text": [
      "Traceback (most recent call last):\n",
      "  File \"<ipython-input-279-c7b482ebf524>\", line 2, in <module>\n",
      "    assert remove_html_markup('<input type=\"text\" value=\"<your name>\">') == \"\"\n",
      "AssertionError (expected)\n"
     ]
    }
   ],
   "source": [
    "with ExpectError():\n",
    "    assert remove_html_markup('<input type=\"text\" value=\"<your name>\">') == \"\""
   ]
  },
  {
   "cell_type": "markdown",
   "metadata": {},
   "source": [
    "With this, we now have our task: _Fix the failure as above._"
   ]
  },
  {
   "cell_type": "markdown",
   "metadata": {},
   "source": [
    "## Visualizing Code\n",
    "\n",
    "To properly understand what is going on here, it helps drawing a diagram on how `remove_html_markup()` works. Technically, `remove_html_markup()` implements a _state machine_ with two states `tag` and `¬ tag`. We change between these states depending on the characters we process. This is visualized in the following diagram:"
   ]
  },
  {
   "cell_type": "code",
   "execution_count": 280,
   "metadata": {},
   "outputs": [],
   "source": [
    "from graphviz import Digraph, nohtml"
   ]
  },
  {
   "cell_type": "code",
   "execution_count": 281,
   "metadata": {},
   "outputs": [],
   "source": [
    "from IPython.display import display"
   ]
  },
  {
   "cell_type": "code",
   "execution_count": 282,
   "metadata": {},
   "outputs": [
    {
     "data": {
      "image/svg+xml": [
       "<?xml version=\"1.0\" encoding=\"UTF-8\" standalone=\"no\"?>\n",
       "<!DOCTYPE svg PUBLIC \"-//W3C//DTD SVG 1.1//EN\"\n",
       " \"http://www.w3.org/Graphics/SVG/1.1/DTD/svg11.dtd\">\n",
       "<!-- Generated by graphviz version 2.40.1 (20161225.0304)\n",
       " -->\n",
       "<!-- Title: %3 Pages: 1 -->\n",
       "<svg width=\"260pt\" height=\"94pt\"\n",
       " viewBox=\"0.00 0.00 260.49 94.03\" xmlns=\"http://www.w3.org/2000/svg\" xmlns:xlink=\"http://www.w3.org/1999/xlink\">\n",
       "<g id=\"graph0\" class=\"graph\" transform=\"scale(1 1) rotate(0) translate(4 90.0278)\">\n",
       "<title>%3</title>\n",
       "<polygon fill=\"#ffffff\" stroke=\"transparent\" points=\"-4,4 -4,-90.0278 256.4948,-90.0278 256.4948,4 -4,4\"/>\n",
       "<!-- start -->\n",
       "<g id=\"node1\" class=\"node\">\n",
       "<title>start</title>\n",
       "<ellipse fill=\"none\" stroke=\"#000000\" cx=\"27\" cy=\"-20.0278\" rx=\"27\" ry=\"18\"/>\n",
       "<text text-anchor=\"middle\" x=\"27\" y=\"-16.3278\" font-family=\"Times,serif\" font-size=\"14.00\" fill=\"#000000\">start</text>\n",
       "</g>\n",
       "<!-- ¬ tag -->\n",
       "<g id=\"node2\" class=\"node\">\n",
       "<title>¬ tag</title>\n",
       "<ellipse fill=\"none\" stroke=\"#000000\" cx=\"120.2474\" cy=\"-20.0278\" rx=\"29.4969\" ry=\"18\"/>\n",
       "<text text-anchor=\"middle\" x=\"120.2474\" y=\"-16.3278\" font-family=\"Times,serif\" font-size=\"14.00\" fill=\"#000000\">¬ tag</text>\n",
       "</g>\n",
       "<!-- start&#45;&gt;¬ tag -->\n",
       "<g id=\"edge1\" class=\"edge\">\n",
       "<title>start&#45;&gt;¬ tag</title>\n",
       "<path fill=\"none\" stroke=\"#000000\" d=\"M54.473,-20.0278C62.6588,-20.0278 71.798,-20.0278 80.5981,-20.0278\"/>\n",
       "<polygon fill=\"#000000\" stroke=\"#000000\" points=\"80.6953,-23.5279 90.6953,-20.0278 80.6953,-16.5279 80.6953,-23.5279\"/>\n",
       "</g>\n",
       "<!-- ¬ tag&#45;&gt;¬ tag -->\n",
       "<g id=\"edge2\" class=\"edge\">\n",
       "<title>¬ tag&#45;&gt;¬ tag</title>\n",
       "<path fill=\"none\" stroke=\"#000000\" d=\"M112.0351,-37.4377C110.5022,-47.1157 113.2396,-56.0278 120.2474,-56.0278 124.6273,-56.0278 127.3391,-52.5465 128.3827,-47.5728\"/>\n",
       "<polygon fill=\"#000000\" stroke=\"#000000\" points=\"131.8835,-47.4641 128.4597,-37.4377 124.8837,-47.4108 131.8835,-47.4641\"/>\n",
       "<text text-anchor=\"middle\" x=\"120.2474\" y=\"-74.8278\" font-family=\"Times,serif\" font-size=\"14.00\" fill=\"#000000\"> ¬ &#39;&lt;&#39;</text>\n",
       "<text text-anchor=\"middle\" x=\"120.2474\" y=\"-59.8278\" font-family=\"Times,serif\" font-size=\"14.00\" fill=\"#000000\">add character</text>\n",
       "</g>\n",
       "<!-- tag -->\n",
       "<g id=\"node3\" class=\"node\">\n",
       "<title>tag</title>\n",
       "<ellipse fill=\"none\" stroke=\"#000000\" cx=\"225.4948\" cy=\"-20.0278\" rx=\"27\" ry=\"18\"/>\n",
       "<text text-anchor=\"middle\" x=\"225.4948\" y=\"-16.3278\" font-family=\"Times,serif\" font-size=\"14.00\" fill=\"#000000\">tag</text>\n",
       "</g>\n",
       "<!-- ¬ tag&#45;&gt;tag -->\n",
       "<g id=\"edge3\" class=\"edge\">\n",
       "<title>¬ tag&#45;&gt;tag</title>\n",
       "<path fill=\"none\" stroke=\"#000000\" d=\"M149.5647,-20.0278C161.4443,-20.0278 175.3098,-20.0278 187.9174,-20.0278\"/>\n",
       "<polygon fill=\"#000000\" stroke=\"#000000\" points=\"188.1406,-23.5279 198.1406,-20.0278 188.1406,-16.5279 188.1406,-23.5279\"/>\n",
       "<text text-anchor=\"middle\" x=\"173.9948\" y=\"-23.8278\" font-family=\"Times,serif\" font-size=\"14.00\" fill=\"#000000\">&#39;&lt;&#39;</text>\n",
       "</g>\n",
       "<!-- tag&#45;&gt;¬ tag -->\n",
       "<g id=\"edge4\" class=\"edge\">\n",
       "<title>tag&#45;&gt;¬ tag</title>\n",
       "<path fill=\"none\" stroke=\"#000000\" d=\"M204.0837,-8.9327C196.797,-5.719 188.474,-2.6433 180.4948,-1.0278 170.7616,.9427 160.3765,-.8576 151.0184,-4.0079\"/>\n",
       "<polygon fill=\"#000000\" stroke=\"#000000\" points=\"149.7279,-.7544 141.7083,-7.678 152.2951,-7.2667 149.7279,-.7544\"/>\n",
       "<text text-anchor=\"middle\" x=\"173.9948\" y=\"-4.8278\" font-family=\"Times,serif\" font-size=\"14.00\" fill=\"#000000\">&#39;&gt;&#39;</text>\n",
       "</g>\n",
       "<!-- tag&#45;&gt;tag -->\n",
       "<g id=\"edge5\" class=\"edge\">\n",
       "<title>tag&#45;&gt;tag</title>\n",
       "<path fill=\"none\" stroke=\"#000000\" d=\"M216.6348,-37.0651C214.8266,-46.8857 217.78,-56.0278 225.4948,-56.0278 230.3166,-56.0278 233.2784,-52.4567 234.3803,-47.3807\"/>\n",
       "<polygon fill=\"#000000\" stroke=\"#000000\" points=\"237.8796,-47.0564 234.3548,-37.0651 230.8796,-47.0738 237.8796,-47.0564\"/>\n",
       "<text text-anchor=\"middle\" x=\"225.4948\" y=\"-59.8278\" font-family=\"Times,serif\" font-size=\"14.00\" fill=\"#000000\">¬ &#39;&gt;&#39;</text>\n",
       "</g>\n",
       "</g>\n",
       "</svg>\n"
      ],
      "text/plain": [
       "<graphviz.dot.Digraph at 0x7ffb6478a080>"
      ]
     },
     "metadata": {},
     "output_type": "display_data"
    }
   ],
   "source": [
    "dot = Digraph(comment=\"remove_html_markup\", graph_attr={'rankdir': 'LR'})\n",
    "dot.node('start')\n",
    "dot.edge('start', '¬ tag')\n",
    "dot.edge('¬ tag', '¬ tag', label=\" ¬ '<'\\nadd character\")\n",
    "dot.edge('¬ tag', 'tag', label=\"'<'\")\n",
    "dot.edge('tag', '¬ tag', label=\"'>'\")\n",
    "dot.edge('tag', 'tag', label=\"¬ '>'\")\n",
    "display(dot)"
   ]
  },
  {
   "cell_type": "markdown",
   "metadata": {},
   "source": [
    "You see that we start in the non-tag state (`¬ tag`). Here, for every character that is not `'<'`, we add the character and stay in the same state. When we read a `'<'`, though, we end in the tag state (`tag`) and stay in that state (skipping characters) until we find a closing `'>'` character."
   ]
  },
  {
   "cell_type": "markdown",
   "metadata": {
    "toc-hr-collapsed": true
   },
   "source": [
    "## A First Fix\n",
    "\n",
    "Let us now look at the above state machine, and process through our input:\n",
    "\n",
    "```html\n",
    "<input type=\"text\" value=\"<your name>\">\n",
    "```"
   ]
  },
  {
   "cell_type": "markdown",
   "metadata": {},
   "source": [
    "So what you can see is: We are interpreting the `'>'` of `\"<your name>\"` as the closing of the tag. However, this is a quoted string, so the `'>'` should be interpreted as a regular character, not as markup. This is an example of _missing functionality:_ We do not handle quoted characters correctly. We haven't claimed yet to take care of all functionality, so we still need to extend our code."
   ]
  },
  {
   "cell_type": "markdown",
   "metadata": {},
   "source": [
    "So we extend the whole thing.  We set up a special \"quote\" state which processes quoted inputs in tags until the end of the quoted string is reached. This is how the state machine looks like:"
   ]
  },
  {
   "cell_type": "code",
   "execution_count": 283,
   "metadata": {
    "ipub": {
     "ignore": true
    }
   },
   "outputs": [],
   "source": [
    "dot = Digraph(comment=\"remove_html_markup\", graph_attr={'rankdir': 'LR'})\n",
    "dot.node('start')\n",
    "dot.edge('start', '¬ quote\\n¬ tag')\n",
    "dot.edge('¬ quote\\n¬ tag', '¬ quote\\n¬ tag', label=\"¬ '<'\\nadd character\")\n",
    "dot.edge('¬ quote\\n¬ tag', '¬ quote\\ntag', label=\"'<'\")\n",
    "dot.edge('¬ quote\\ntag', 'quote\\ntag', label=\"'\\\"'\")\n",
    "dot.edge('¬ quote\\ntag', '¬ quote\\ntag', label=\"¬ '\\\"' ∧ ¬ '>'\")\n",
    "dot.edge('quote\\ntag', 'quote\\ntag', label=\"¬ '\\\"'\")\n",
    "dot.edge('quote\\ntag', '¬ quote\\ntag', label=\"'\\\"'\")\n",
    "dot.edge('¬ quote\\ntag', '¬ quote\\n¬ tag', label=\"'>'\")"
   ]
  },
  {
   "cell_type": "code",
   "execution_count": 284,
   "metadata": {},
   "outputs": [
    {
     "data": {
      "image/svg+xml": [
       "<?xml version=\"1.0\" encoding=\"UTF-8\" standalone=\"no\"?>\n",
       "<!DOCTYPE svg PUBLIC \"-//W3C//DTD SVG 1.1//EN\"\n",
       " \"http://www.w3.org/Graphics/SVG/1.1/DTD/svg11.dtd\">\n",
       "<!-- Generated by graphviz version 2.40.1 (20161225.0304)\n",
       " -->\n",
       "<!-- Title: %3 Pages: 1 -->\n",
       "<svg width=\"430pt\" height=\"110pt\"\n",
       " viewBox=\"0.00 0.00 429.76 109.74\" xmlns=\"http://www.w3.org/2000/svg\" xmlns:xlink=\"http://www.w3.org/1999/xlink\">\n",
       "<g id=\"graph0\" class=\"graph\" transform=\"scale(1 1) rotate(0) translate(4 105.7401)\">\n",
       "<title>%3</title>\n",
       "<polygon fill=\"#ffffff\" stroke=\"transparent\" points=\"-4,4 -4,-105.7401 425.7595,-105.7401 425.7595,4 -4,4\"/>\n",
       "<!-- start -->\n",
       "<g id=\"node1\" class=\"node\">\n",
       "<title>start</title>\n",
       "<ellipse fill=\"none\" stroke=\"#000000\" cx=\"27\" cy=\"-26.8701\" rx=\"27\" ry=\"18\"/>\n",
       "<text text-anchor=\"middle\" x=\"27\" y=\"-23.1701\" font-family=\"Times,serif\" font-size=\"14.00\" fill=\"#000000\">start</text>\n",
       "</g>\n",
       "<!-- ¬ quote\n",
       "¬ tag -->\n",
       "<g id=\"node2\" class=\"node\">\n",
       "<title>¬ quote\n",
       "¬ tag</title>\n",
       "<ellipse fill=\"none\" stroke=\"#000000\" cx=\"132.7193\" cy=\"-26.8701\" rx=\"41.9398\" ry=\"26.7407\"/>\n",
       "<text text-anchor=\"middle\" x=\"132.7193\" y=\"-30.6701\" font-family=\"Times,serif\" font-size=\"14.00\" fill=\"#000000\">¬ quote</text>\n",
       "<text text-anchor=\"middle\" x=\"132.7193\" y=\"-15.6701\" font-family=\"Times,serif\" font-size=\"14.00\" fill=\"#000000\">¬ tag</text>\n",
       "</g>\n",
       "<!-- start&#45;&gt;¬ quote\n",
       "¬ tag -->\n",
       "<g id=\"edge1\" class=\"edge\">\n",
       "<title>start&#45;&gt;¬ quote\n",
       "¬ tag</title>\n",
       "<path fill=\"none\" stroke=\"#000000\" d=\"M54.2253,-26.8701C62.3154,-26.8701 71.4624,-26.8701 80.5808,-26.8701\"/>\n",
       "<polygon fill=\"#000000\" stroke=\"#000000\" points=\"80.8058,-30.3702 90.8057,-26.8701 80.8057,-23.3702 80.8058,-30.3702\"/>\n",
       "</g>\n",
       "<!-- ¬ quote\n",
       "¬ tag&#45;&gt;¬ quote\n",
       "¬ tag -->\n",
       "<g id=\"edge2\" class=\"edge\">\n",
       "<title>¬ quote\n",
       "¬ tag&#45;&gt;¬ quote\n",
       "¬ tag</title>\n",
       "<path fill=\"none\" stroke=\"#000000\" d=\"M121.5132,-53.1406C121.0152,-63.2978 124.7506,-71.7401 132.7193,-71.7401 137.8243,-71.7401 141.1919,-68.2754 142.8221,-63.1146\"/>\n",
       "<polygon fill=\"#000000\" stroke=\"#000000\" points=\"146.3046,-63.4648 143.9254,-53.1406 139.347,-62.6951 146.3046,-63.4648\"/>\n",
       "<text text-anchor=\"middle\" x=\"132.7193\" y=\"-90.5401\" font-family=\"Times,serif\" font-size=\"14.00\" fill=\"#000000\">¬ &#39;&lt;&#39;</text>\n",
       "<text text-anchor=\"middle\" x=\"132.7193\" y=\"-75.5401\" font-family=\"Times,serif\" font-size=\"14.00\" fill=\"#000000\">add character</text>\n",
       "</g>\n",
       "<!-- ¬ quote\n",
       "tag -->\n",
       "<g id=\"node3\" class=\"node\">\n",
       "<title>¬ quote\n",
       "tag</title>\n",
       "<ellipse fill=\"none\" stroke=\"#000000\" cx=\"265.1579\" cy=\"-26.8701\" rx=\"41.9398\" ry=\"26.7407\"/>\n",
       "<text text-anchor=\"middle\" x=\"265.1579\" y=\"-30.6701\" font-family=\"Times,serif\" font-size=\"14.00\" fill=\"#000000\">¬ quote</text>\n",
       "<text text-anchor=\"middle\" x=\"265.1579\" y=\"-15.6701\" font-family=\"Times,serif\" font-size=\"14.00\" fill=\"#000000\">tag</text>\n",
       "</g>\n",
       "<!-- ¬ quote\n",
       "¬ tag&#45;&gt;¬ quote\n",
       "tag -->\n",
       "<g id=\"edge3\" class=\"edge\">\n",
       "<title>¬ quote\n",
       "¬ tag&#45;&gt;¬ quote\n",
       "tag</title>\n",
       "<path fill=\"none\" stroke=\"#000000\" d=\"M174.6237,-26.8701C186.8222,-26.8701 200.2991,-26.8701 213.0449,-26.8701\"/>\n",
       "<polygon fill=\"#000000\" stroke=\"#000000\" points=\"213.0716,-30.3702 223.0715,-26.8701 213.0715,-23.3702 213.0716,-30.3702\"/>\n",
       "<text text-anchor=\"middle\" x=\"198.9386\" y=\"-30.6701\" font-family=\"Times,serif\" font-size=\"14.00\" fill=\"#000000\">&#39;&lt;&#39;</text>\n",
       "</g>\n",
       "<!-- ¬ quote\n",
       "tag&#45;&gt;¬ quote\n",
       "¬ tag -->\n",
       "<g id=\"edge8\" class=\"edge\">\n",
       "<title>¬ quote\n",
       "tag&#45;&gt;¬ quote\n",
       "¬ tag</title>\n",
       "<path fill=\"none\" stroke=\"#000000\" d=\"M230.3222,-11.7393C218.4155,-8.1859 204.946,-5.9284 192.4386,-7.8701 187.9634,-8.5648 183.3647,-9.5359 178.8009,-10.6752\"/>\n",
       "<polygon fill=\"#000000\" stroke=\"#000000\" points=\"177.6382,-7.3651 168.9272,-13.3959 179.4977,-14.1136 177.6382,-7.3651\"/>\n",
       "<text text-anchor=\"middle\" x=\"198.9386\" y=\"-11.6701\" font-family=\"Times,serif\" font-size=\"14.00\" fill=\"#000000\">&#39;&gt;&#39;</text>\n",
       "</g>\n",
       "<!-- ¬ quote\n",
       "tag&#45;&gt;¬ quote\n",
       "tag -->\n",
       "<g id=\"edge5\" class=\"edge\">\n",
       "<title>¬ quote\n",
       "tag&#45;&gt;¬ quote\n",
       "tag</title>\n",
       "<path fill=\"none\" stroke=\"#000000\" d=\"M253.2311,-52.6914C252.5573,-63.0476 256.5329,-71.7401 265.1579,-71.7401 270.6833,-71.7401 274.3006,-68.1727 276.0097,-62.8859\"/>\n",
       "<polygon fill=\"#000000\" stroke=\"#000000\" points=\"279.5166,-63.0033 277.0847,-52.6914 272.5552,-62.2692 279.5166,-63.0033\"/>\n",
       "<text text-anchor=\"middle\" x=\"265.1579\" y=\"-75.5401\" font-family=\"Times,serif\" font-size=\"14.00\" fill=\"#000000\">¬ &#39;&quot;&#39; ∧ ¬ &#39;&gt;&#39;</text>\n",
       "</g>\n",
       "<!-- quote\n",
       "tag -->\n",
       "<g id=\"node4\" class=\"node\">\n",
       "<title>quote\n",
       "tag</title>\n",
       "<ellipse fill=\"none\" stroke=\"#000000\" cx=\"387.8183\" cy=\"-26.8701\" rx=\"33.8824\" ry=\"26.7407\"/>\n",
       "<text text-anchor=\"middle\" x=\"387.8183\" y=\"-30.6701\" font-family=\"Times,serif\" font-size=\"14.00\" fill=\"#000000\">quote</text>\n",
       "<text text-anchor=\"middle\" x=\"387.8183\" y=\"-15.6701\" font-family=\"Times,serif\" font-size=\"14.00\" fill=\"#000000\">tag</text>\n",
       "</g>\n",
       "<!-- ¬ quote\n",
       "tag&#45;&gt;quote\n",
       "tag -->\n",
       "<g id=\"edge4\" class=\"edge\">\n",
       "<title>¬ quote\n",
       "tag&#45;&gt;quote\n",
       "tag</title>\n",
       "<path fill=\"none\" stroke=\"#000000\" d=\"M307.0276,-26.8701C318.8368,-26.8701 331.7198,-26.8701 343.6587,-26.8701\"/>\n",
       "<polygon fill=\"#000000\" stroke=\"#000000\" points=\"343.8567,-30.3702 353.8567,-26.8701 343.8566,-23.3702 343.8567,-30.3702\"/>\n",
       "<text text-anchor=\"middle\" x=\"330.3772\" y=\"-30.6701\" font-family=\"Times,serif\" font-size=\"14.00\" fill=\"#000000\">&#39;&quot;&#39;</text>\n",
       "</g>\n",
       "<!-- quote\n",
       "tag&#45;&gt;¬ quote\n",
       "tag -->\n",
       "<g id=\"edge7\" class=\"edge\">\n",
       "<title>quote\n",
       "tag&#45;&gt;¬ quote\n",
       "tag</title>\n",
       "<path fill=\"none\" stroke=\"#000000\" d=\"M357.8256,-13.8845C350.7571,-11.3926 343.1573,-9.1598 335.8772,-7.8701 327.1458,-6.3232 317.9225,-7.0297 309.1235,-8.8766\"/>\n",
       "<polygon fill=\"#000000\" stroke=\"#000000\" points=\"308.2232,-5.4942 299.4183,-11.3869 309.9761,-12.2711 308.2232,-5.4942\"/>\n",
       "<text text-anchor=\"middle\" x=\"330.3772\" y=\"-11.6701\" font-family=\"Times,serif\" font-size=\"14.00\" fill=\"#000000\">&#39;&quot;&#39;</text>\n",
       "</g>\n",
       "<!-- quote\n",
       "tag&#45;&gt;quote\n",
       "tag -->\n",
       "<g id=\"edge6\" class=\"edge\">\n",
       "<title>quote\n",
       "tag&#45;&gt;quote\n",
       "tag</title>\n",
       "<path fill=\"none\" stroke=\"#000000\" d=\"M377.3824,-52.6914C376.7928,-63.0476 380.2715,-71.7401 387.8183,-71.7401 392.653,-71.7401 395.8182,-68.1727 397.3137,-62.8859\"/>\n",
       "<polygon fill=\"#000000\" stroke=\"#000000\" points=\"400.8206,-62.9707 398.2542,-52.6914 393.8502,-62.3275 400.8206,-62.9707\"/>\n",
       "<text text-anchor=\"middle\" x=\"387.8183\" y=\"-75.5401\" font-family=\"Times,serif\" font-size=\"14.00\" fill=\"#000000\">¬ &#39;&quot;&#39;</text>\n",
       "</g>\n",
       "</g>\n",
       "</svg>\n"
      ],
      "text/plain": [
       "<graphviz.dot.Digraph at 0x7ffb6478a400>"
      ]
     },
     "metadata": {},
     "output_type": "display_data"
    }
   ],
   "source": [
    "display(dot)"
   ]
  },
  {
   "cell_type": "markdown",
   "metadata": {},
   "source": [
    "This is a bit more complex already. Proceeding from left to right, we first have the state `¬ quote ∧ ¬ tag`, which is our \"standard\" state for text. If we encounter a `'<'`, we again switch to the \"tagged\" state `¬ quote ∧ tag`. In this state, however (and only in this state), if we encounter a quotation mark, we switch to the \"quotation\" state `quote ∧ tag`, in which we remain until we see another quotation mark indicating the end of the string – and then continue in the \"tagged\" state `¬ quote ∧ tag` until we see the end of the string."
   ]
  },
  {
   "cell_type": "markdown",
   "metadata": {},
   "source": [
    "Things get even more complicated as HTML allows both single and double quotation characters. Here's a revised implementation of `remove_html_markup()` that takes the above states into account:"
   ]
  },
  {
   "cell_type": "code",
   "execution_count": 285,
   "metadata": {},
   "outputs": [],
   "source": [
    "def remove_html_markup(s):\n",
    "    tag   = False\n",
    "    quote = False\n",
    "    out   = \"\"\n",
    "\n",
    "    for c in s:\n",
    "        if c == '<' and not quote:\n",
    "            tag = True\n",
    "        elif c == '>' and not quote:\n",
    "            tag = False\n",
    "        elif c == '\"' or c == \"'\" and tag:\n",
    "            quote = not quote\n",
    "        elif not tag:\n",
    "            out = out + c\n",
    "    \n",
    "    return out"
   ]
  },
  {
   "cell_type": "markdown",
   "metadata": {},
   "source": [
    "Now, our previous input works well:"
   ]
  },
  {
   "cell_type": "code",
   "execution_count": 286,
   "metadata": {},
   "outputs": [
    {
     "data": {
      "text/plain": [
       "''"
      ]
     },
     "execution_count": 286,
     "metadata": {},
     "output_type": "execute_result"
    }
   ],
   "source": [
    "remove_html_markup('<input type=\"text\" value=\"<your name>\">')"
   ]
  },
  {
   "cell_type": "markdown",
   "metadata": {},
   "source": [
    "and our earlier tests also pass:"
   ]
  },
  {
   "cell_type": "code",
   "execution_count": 287,
   "metadata": {},
   "outputs": [],
   "source": [
    "assert remove_html_markup(\"Here's some <strong>strong argument</strong>.\") == \"Here's some strong argument.\""
   ]
  },
  {
   "cell_type": "code",
   "execution_count": 288,
   "metadata": {},
   "outputs": [],
   "source": [
    "assert remove_html_markup('<input type=\"text\" value=\"<your name>\">') == \"\""
   ]
  },
  {
   "cell_type": "markdown",
   "metadata": {},
   "source": [
    "However, the above code still has a bug.  In two of these inputs, HTML markup is still not properly stripped:\n",
    "\n",
    "```html\n",
    "<b>foo</b>\n",
    "<b>\"foo\"</b>\n",
    "\"<b>foo</b>\"\n",
    "<\"b\">foo</\"b\">\n",
    "```\n",
    "\n",
    "Can you guess which ones these are?"
   ]
  },
  {
   "cell_type": "markdown",
   "metadata": {},
   "source": [
    "Again, a simple assertion will reveal the culprits:"
   ]
  },
  {
   "cell_type": "code",
   "execution_count": 289,
   "metadata": {},
   "outputs": [],
   "source": [
    "with ExpectError():\n",
    "    assert remove_html_markup('<b>foo</b>') == 'foo'"
   ]
  },
  {
   "cell_type": "code",
   "execution_count": 290,
   "metadata": {},
   "outputs": [
    {
     "name": "stderr",
     "output_type": "stream",
     "text": [
      "Traceback (most recent call last):\n",
      "  File \"<ipython-input-290-ebb80f5cdc78>\", line 2, in <module>\n",
      "    assert remove_html_markup('<b>\"foo\"</b>') == '\"foo\"'\n",
      "AssertionError (expected)\n"
     ]
    }
   ],
   "source": [
    "with ExpectError():\n",
    "    assert remove_html_markup('<b>\"foo\"</b>') == '\"foo\"'"
   ]
  },
  {
   "cell_type": "code",
   "execution_count": 291,
   "metadata": {},
   "outputs": [
    {
     "name": "stderr",
     "output_type": "stream",
     "text": [
      "Traceback (most recent call last):\n",
      "  File \"<ipython-input-291-1f9c40f6f95d>\", line 2, in <module>\n",
      "    assert remove_html_markup('\"<b>foo</b>\"') == '\"foo\"'\n",
      "AssertionError (expected)\n"
     ]
    }
   ],
   "source": [
    "with ExpectError():\n",
    "    assert remove_html_markup('\"<b>foo</b>\"') == '\"foo\"'"
   ]
  },
  {
   "cell_type": "code",
   "execution_count": 292,
   "metadata": {},
   "outputs": [],
   "source": [
    "with ExpectError():\n",
    "    assert remove_html_markup('<\"b\">foo</\"b\">') == 'foo'    "
   ]
  },
  {
   "cell_type": "markdown",
   "metadata": {},
   "source": [
    "So, unfortunately, we're not done yet – our function still has errors."
   ]
  },
  {
   "cell_type": "markdown",
   "metadata": {
    "toc-hr-collapsed": true
   },
   "source": [
    "## The Devil's Guide to Debugging\n",
    "\n",
    "Let us now discuss a couple of methods that do _not_ work well for debugging. (These \"devil's suggestions\" are adapted from the 1993 book \"Code Complete\" from Steve McConnell.)"
   ]
  },
  {
   "cell_type": "markdown",
   "metadata": {},
   "source": [
    "### Printf Debugging\n",
    "\n",
    "When I was a student,  never got any formal training in debugging, so I had to figure this out for myself. What I learned was how to use _debugging output_; in Python, this would be the `print()` function. For instance, I would go and scatter `print()` calls everywhere:"
   ]
  },
  {
   "cell_type": "code",
   "execution_count": 293,
   "metadata": {},
   "outputs": [],
   "source": [
    "def remove_html_markup_with_print(s):\n",
    "    tag   = False\n",
    "    quote = False\n",
    "    out   = \"\"\n",
    "\n",
    "    for c in s:\n",
    "        print(\"c =\", repr(c), \"tag =\", tag, \"quote =\", quote)\n",
    "\n",
    "        if c == '<' and not quote:\n",
    "            tag = True\n",
    "        elif c == '>' and not quote:\n",
    "            tag = False\n",
    "        elif c == '\"' or c == \"'\" and tag:\n",
    "            quote = not quote\n",
    "        elif not tag:\n",
    "            out = out + c\n",
    "    \n",
    "    return out"
   ]
  },
  {
   "cell_type": "markdown",
   "metadata": {},
   "source": [
    "This way of inspecting executions is commonly called \"Printf debugging\", after the C `printf()` function. Then, running this would allow me to see what's going on in my code:"
   ]
  },
  {
   "cell_type": "code",
   "execution_count": 294,
   "metadata": {},
   "outputs": [
    {
     "name": "stdout",
     "output_type": "stream",
     "text": [
      "c = '<' tag = False quote = False\n",
      "c = 'b' tag = True quote = False\n",
      "c = '>' tag = True quote = False\n",
      "c = '\"' tag = False quote = False\n",
      "c = 'f' tag = False quote = True\n",
      "c = 'o' tag = False quote = True\n",
      "c = 'o' tag = False quote = True\n",
      "c = '\"' tag = False quote = True\n",
      "c = '<' tag = False quote = False\n",
      "c = '/' tag = True quote = False\n",
      "c = 'b' tag = True quote = False\n",
      "c = '>' tag = True quote = False\n"
     ]
    },
    {
     "data": {
      "text/plain": [
       "'foo'"
      ]
     },
     "execution_count": 294,
     "metadata": {},
     "output_type": "execute_result"
    }
   ],
   "source": [
    "remove_html_markup_with_print('<b>\"foo\"</b>')"
   ]
  },
  {
   "cell_type": "markdown",
   "metadata": {},
   "source": [
    "Yes, one sees what is going on – but this is horribly inefficient!  Think of a 1,000-character input – you'd have to go through 2,000 lines of logs.  It may help you, but it's a total time waster.  Plus, you have to enter these statements, remove them again... it's a maintenance nightmare."
   ]
  },
  {
   "cell_type": "markdown",
   "metadata": {},
   "source": [
    "(You may even forget printf's in your code, creating a security problem: Mac OS X versions 10.7 to 10.7.3 would log the password in clear because someone had forgotten to turn off debugging output.)"
   ]
  },
  {
   "cell_type": "markdown",
   "metadata": {},
   "source": [
    "### Debugging into Existence"
   ]
  },
  {
   "cell_type": "markdown",
   "metadata": {},
   "source": [
    "I would also try to _debug the program into existence._  Just change things until they work.  Let me see: If I remove the conditions \"and not quote\" from the program, it would actually work again:"
   ]
  },
  {
   "cell_type": "code",
   "execution_count": 295,
   "metadata": {},
   "outputs": [],
   "source": [
    "def remove_html_markup_without_quotes(s):\n",
    "    tag   = False\n",
    "    quote = False\n",
    "    out   = \"\"\n",
    "\n",
    "    for c in s:\n",
    "        if c == '<': # and not quote:\n",
    "            tag = True\n",
    "        elif c == '>': # and not quote:\n",
    "            tag = False\n",
    "        elif c == '\"' or c == \"'\" and tag:\n",
    "            quote = not quote\n",
    "        elif not tag:\n",
    "            out = out + c\n",
    "    \n",
    "    return out"
   ]
  },
  {
   "cell_type": "code",
   "execution_count": 296,
   "metadata": {},
   "outputs": [],
   "source": [
    "assert remove_html_markup_without_quotes('<\"b\">foo</\"b\">') == 'foo'    "
   ]
  },
  {
   "cell_type": "markdown",
   "metadata": {},
   "source": [
    "Cool! Unfortunately, the function still fails on the other input:"
   ]
  },
  {
   "cell_type": "code",
   "execution_count": 297,
   "metadata": {},
   "outputs": [
    {
     "name": "stderr",
     "output_type": "stream",
     "text": [
      "Traceback (most recent call last):\n",
      "  File \"<ipython-input-297-1d8954a52bcf>\", line 2, in <module>\n",
      "    assert remove_html_markup_without_quotes('<b>\"foo\"</b>') == '\"foo\"'\n",
      "AssertionError (expected)\n"
     ]
    }
   ],
   "source": [
    "with ExpectError():\n",
    "    assert remove_html_markup_without_quotes('<b>\"foo\"</b>') == '\"foo\"'"
   ]
  },
  {
   "cell_type": "markdown",
   "metadata": {},
   "source": [
    "So, maybe we can change things again, such that both work? And maybe the other tests we had earlier won't fail? Let's just continue to change things randomly again and again and again."
   ]
  },
  {
   "cell_type": "markdown",
   "metadata": {},
   "source": [
    "Oh, and of course, I would never back up earlier versions such that I would be able to keep track of what has changed and when."
   ]
  },
  {
   "cell_type": "markdown",
   "metadata": {},
   "source": [
    "### Use the Most Obvious Fix"
   ]
  },
  {
   "cell_type": "markdown",
   "metadata": {},
   "source": [
    "My favorite: Use the most obvious fix.  This means that you're fixing the symptom, not the problem. In our case, this would be something like:"
   ]
  },
  {
   "cell_type": "code",
   "execution_count": 298,
   "metadata": {},
   "outputs": [],
   "source": [
    "def remove_html_markup_fixed(s):\n",
    "    if s == '<b>\"foo\"</b>':\n",
    "        return '\"foo\"'\n",
    "    \n",
    "    ..."
   ]
  },
  {
   "cell_type": "markdown",
   "metadata": {},
   "source": [
    "Miracle! Our earlier failing assertion now works! Now we can do the same for the other failing test, too, and we're done.\n",
    "(Rumor has it that some programmers use this technique to get their tests to pass...)"
   ]
  },
  {
   "cell_type": "markdown",
   "metadata": {},
   "source": [
    "### Things to do Instead\n",
    "\n",
    "As with any devil's guide, you get an idea of how to do things by doing the _opposite._  What this means is:\n",
    "\n",
    "1. Understand the code\n",
    "2. Fix the problem, not the symptom\n",
    "3. Proceed systematically\n",
    "\n",
    "which is what we will apply for the rest of this chapter."
   ]
  },
  {
   "cell_type": "markdown",
   "metadata": {},
   "source": [
    "## From Defect to Failure – and Back Again\n",
    "\n",
    "To understand how to systematically debug a program, we first have to understand how failures come to be. The typical debugging situation looks like this. We have a program (execution), taking some input and producing some output. The output is in *error* (✘), meaning an unwanted and unintended deviation from what is correct, right, or true.\n",
    "The input, in contrast, is assumed to be correct (✔). (Otherwise, we wouldn't search for the bug in our program, but in whatever produced its input.)"
   ]
  },
  {
   "cell_type": "code",
   "execution_count": 299,
   "metadata": {
    "ipub": {
     "ignore": true
    }
   },
   "outputs": [],
   "source": [
    "PASS = \"✔\"\n",
    "FAIL = \"✘\"\n",
    "PASS_COLOR = 'darkgreen'  # '#006400' # darkgreen\n",
    "FAIL_COLOR = 'red4'  # '#8B0000' # darkred"
   ]
  },
  {
   "cell_type": "code",
   "execution_count": 300,
   "metadata": {
    "ipub": {
     "ignore": true
    }
   },
   "outputs": [],
   "source": [
    "def execution_diagram(show_steps=True, variables=[], steps=3, error_step=666, until=666, fault_path=[]):\n",
    "    dot = Digraph(comment=\"execution_steps\", graph_attr={'rankdir': 'LR'})\n",
    "\n",
    "    dot.node('input', shape='none', label=f\"Input {PASS}\", fontcolor=PASS_COLOR)\n",
    "    last_outgoing_states = ['input']\n",
    "    \n",
    "    for step in range(1, min(steps + 1, until)):\n",
    "        \n",
    "        if step == error_step:\n",
    "            step_label=f'Step {step} {FAIL}'\n",
    "            step_color=FAIL_COLOR\n",
    "        else:\n",
    "            step_label=f'Step {step}'\n",
    "            step_color=None\n",
    "\n",
    "        if step >= error_step:\n",
    "            state_label=f'State {step} {FAIL}'\n",
    "            state_color=FAIL_COLOR\n",
    "        else:\n",
    "            state_label=f'State {step} {PASS}'\n",
    "            state_color=PASS_COLOR\n",
    "    \n",
    "        state_name = f's{step}'\n",
    "        outgoing_states = []\n",
    "        incoming_states = []\n",
    "\n",
    "        if not variables:\n",
    "            dot.node(name=state_name, label=state_label, shape='box', color=state_color, fontcolor=state_color)\n",
    "        else:\n",
    "            var_labels = []\n",
    "            for v in variables:\n",
    "                vpath = f's{step}:{v}'\n",
    "                if vpath in fault_path:\n",
    "                    var_label = f'<{v}>{v} ✘'\n",
    "                    outgoing_states.append(vpath)\n",
    "                    incoming_states.append(vpath)\n",
    "                else:\n",
    "                    var_label = f'<{v}>{v}'\n",
    "                var_labels.append(var_label)\n",
    "            record_string = \" | \".join(var_labels)\n",
    "            dot.node(name=state_name, shape='record', label=nohtml(record_string), color=state_color, fontcolor=state_color)\n",
    "            \n",
    "        if not outgoing_states:\n",
    "            outgoing_states = [state_name]\n",
    "        if not incoming_states:\n",
    "            incoming_states = [state_name]\n",
    "\n",
    "        for outgoing_state in last_outgoing_states:\n",
    "            for incoming_state in incoming_states:\n",
    "                if show_steps:\n",
    "                    dot.edge(outgoing_state, incoming_state, label=step_label, fontcolor=step_color)\n",
    "                else:\n",
    "                    dot.edge(outgoing_state, incoming_state)\n",
    "\n",
    "        last_outgoing_states = outgoing_states\n",
    "\n",
    "    if until > steps + 1:\n",
    "        # Show output\n",
    "        if error_step > steps:\n",
    "            dot.node('output', shape='none', label=f\"Output {PASS}\", fontcolor=PASS_COLOR)\n",
    "        else:\n",
    "            dot.node('output', shape='none', label=f\"Output {FAIL}\", fontcolor=FAIL_COLOR)\n",
    "\n",
    "        for outgoing_state in last_outgoing_states:\n",
    "            if steps == 0:\n",
    "                dot.edge(outgoing_state, 'output', label=\"Execution\")\n",
    "            else:\n",
    "                dot.edge(outgoing_state, 'output')\n",
    "\n",
    "    display(dot)"
   ]
  },
  {
   "cell_type": "code",
   "execution_count": 301,
   "metadata": {},
   "outputs": [
    {
     "data": {
      "image/svg+xml": [
       "<?xml version=\"1.0\" encoding=\"UTF-8\" standalone=\"no\"?>\n",
       "<!DOCTYPE svg PUBLIC \"-//W3C//DTD SVG 1.1//EN\"\n",
       " \"http://www.w3.org/Graphics/SVG/1.1/DTD/svg11.dtd\">\n",
       "<!-- Generated by graphviz version 2.40.1 (20161225.0304)\n",
       " -->\n",
       "<!-- Title: %3 Pages: 1 -->\n",
       "<svg width=\"224pt\" height=\"44pt\"\n",
       " viewBox=\"0.00 0.00 224.00 44.00\" xmlns=\"http://www.w3.org/2000/svg\" xmlns:xlink=\"http://www.w3.org/1999/xlink\">\n",
       "<g id=\"graph0\" class=\"graph\" transform=\"scale(1 1) rotate(0) translate(4 40)\">\n",
       "<title>%3</title>\n",
       "<polygon fill=\"#ffffff\" stroke=\"transparent\" points=\"-4,4 -4,-40 220,-40 220,4 -4,4\"/>\n",
       "<!-- input -->\n",
       "<g id=\"node1\" class=\"node\">\n",
       "<title>input</title>\n",
       "<text text-anchor=\"middle\" x=\"28.5\" y=\"-14.3\" font-family=\"Times,serif\" font-size=\"14.00\" fill=\"#006400\">Input ✔</text>\n",
       "</g>\n",
       "<!-- output -->\n",
       "<g id=\"node2\" class=\"node\">\n",
       "<title>output</title>\n",
       "<text text-anchor=\"middle\" x=\"183\" y=\"-14.3\" font-family=\"Times,serif\" font-size=\"14.00\" fill=\"#8b0000\">Output ✘</text>\n",
       "</g>\n",
       "<!-- input&#45;&gt;output -->\n",
       "<g id=\"edge1\" class=\"edge\">\n",
       "<title>input&#45;&gt;output</title>\n",
       "<path fill=\"none\" stroke=\"#000000\" d=\"M57.1982,-18C80.3871,-18 113.3918,-18 139.7774,-18\"/>\n",
       "<polygon fill=\"#000000\" stroke=\"#000000\" points=\"139.8967,-21.5001 149.8966,-18 139.8966,-14.5001 139.8967,-21.5001\"/>\n",
       "<text text-anchor=\"middle\" x=\"103.5\" y=\"-21.8\" font-family=\"Times,serif\" font-size=\"14.00\" fill=\"#000000\">Execution</text>\n",
       "</g>\n",
       "</g>\n",
       "</svg>\n"
      ],
      "text/plain": [
       "<graphviz.dot.Digraph at 0x7ffb6478a828>"
      ]
     },
     "metadata": {},
     "output_type": "display_data"
    }
   ],
   "source": [
    "execution_diagram(show_steps=False, steps=0, error_step=0)"
   ]
  },
  {
   "cell_type": "markdown",
   "metadata": {},
   "source": [
    "This situation we see above is what we call a *failure*: An externally visible _error_ in the program behavior, with the error again being an unwanted and unintended deviation from what is correct, right, or true."
   ]
  },
  {
   "cell_type": "markdown",
   "metadata": {},
   "source": [
    "How does this failure come to be? The execution we see above breaks down into several program _states_, one after the other."
   ]
  },
  {
   "cell_type": "code",
   "execution_count": 302,
   "metadata": {},
   "outputs": [
    {
     "data": {
      "image/svg+xml": [
       "<?xml version=\"1.0\" encoding=\"UTF-8\" standalone=\"no\"?>\n",
       "<!DOCTYPE svg PUBLIC \"-//W3C//DTD SVG 1.1//EN\"\n",
       " \"http://www.w3.org/Graphics/SVG/1.1/DTD/svg11.dtd\">\n",
       "<!-- Generated by graphviz version 2.40.1 (20161225.0304)\n",
       " -->\n",
       "<!-- Title: %3 Pages: 1 -->\n",
       "<svg width=\"65pt\" height=\"44pt\"\n",
       " viewBox=\"0.00 0.00 65.00 44.00\" xmlns=\"http://www.w3.org/2000/svg\" xmlns:xlink=\"http://www.w3.org/1999/xlink\">\n",
       "<g id=\"graph0\" class=\"graph\" transform=\"scale(1 1) rotate(0) translate(4 40)\">\n",
       "<title>%3</title>\n",
       "<polygon fill=\"#ffffff\" stroke=\"transparent\" points=\"-4,4 -4,-40 61,-40 61,4 -4,4\"/>\n",
       "<!-- input -->\n",
       "<g id=\"node1\" class=\"node\">\n",
       "<title>input</title>\n",
       "<text text-anchor=\"middle\" x=\"28.5\" y=\"-14.3\" font-family=\"Times,serif\" font-size=\"14.00\" fill=\"#006400\">Input ✔</text>\n",
       "</g>\n",
       "</g>\n",
       "</svg>\n"
      ],
      "text/plain": [
       "<graphviz.dot.Digraph at 0x7ffb6478a908>"
      ]
     },
     "metadata": {},
     "output_type": "display_data"
    },
    {
     "data": {
      "image/svg+xml": [
       "<?xml version=\"1.0\" encoding=\"UTF-8\" standalone=\"no\"?>\n",
       "<!DOCTYPE svg PUBLIC \"-//W3C//DTD SVG 1.1//EN\"\n",
       " \"http://www.w3.org/Graphics/SVG/1.1/DTD/svg11.dtd\">\n",
       "<!-- Generated by graphviz version 2.40.1 (20161225.0304)\n",
       " -->\n",
       "<!-- Title: %3 Pages: 1 -->\n",
       "<svg width=\"167pt\" height=\"44pt\"\n",
       " viewBox=\"0.00 0.00 167.00 44.00\" xmlns=\"http://www.w3.org/2000/svg\" xmlns:xlink=\"http://www.w3.org/1999/xlink\">\n",
       "<g id=\"graph0\" class=\"graph\" transform=\"scale(1 1) rotate(0) translate(4 40)\">\n",
       "<title>%3</title>\n",
       "<polygon fill=\"#ffffff\" stroke=\"transparent\" points=\"-4,4 -4,-40 163,-40 163,4 -4,4\"/>\n",
       "<!-- input -->\n",
       "<g id=\"node1\" class=\"node\">\n",
       "<title>input</title>\n",
       "<text text-anchor=\"middle\" x=\"28.5\" y=\"-14.3\" font-family=\"Times,serif\" font-size=\"14.00\" fill=\"#006400\">Input ✔</text>\n",
       "</g>\n",
       "<!-- s1 -->\n",
       "<g id=\"node2\" class=\"node\">\n",
       "<title>s1</title>\n",
       "<polygon fill=\"none\" stroke=\"#006400\" points=\"159,-36 93,-36 93,0 159,0 159,-36\"/>\n",
       "<text text-anchor=\"middle\" x=\"126\" y=\"-14.3\" font-family=\"Times,serif\" font-size=\"14.00\" fill=\"#006400\">State 1 ✔</text>\n",
       "</g>\n",
       "<!-- input&#45;&gt;s1 -->\n",
       "<g id=\"edge1\" class=\"edge\">\n",
       "<title>input&#45;&gt;s1</title>\n",
       "<path fill=\"none\" stroke=\"#000000\" d=\"M57.2259,-18C65.133,-18 73.8907,-18 82.4337,-18\"/>\n",
       "<polygon fill=\"#000000\" stroke=\"#000000\" points=\"82.6762,-21.5001 92.6762,-18 82.6761,-14.5001 82.6762,-21.5001\"/>\n",
       "</g>\n",
       "</g>\n",
       "</svg>\n"
      ],
      "text/plain": [
       "<graphviz.dot.Digraph at 0x7ffb6478a908>"
      ]
     },
     "metadata": {},
     "output_type": "display_data"
    },
    {
     "data": {
      "image/svg+xml": [
       "<?xml version=\"1.0\" encoding=\"UTF-8\" standalone=\"no\"?>\n",
       "<!DOCTYPE svg PUBLIC \"-//W3C//DTD SVG 1.1//EN\"\n",
       " \"http://www.w3.org/Graphics/SVG/1.1/DTD/svg11.dtd\">\n",
       "<!-- Generated by graphviz version 2.40.1 (20161225.0304)\n",
       " -->\n",
       "<!-- Title: %3 Pages: 1 -->\n",
       "<svg width=\"269pt\" height=\"44pt\"\n",
       " viewBox=\"0.00 0.00 269.00 44.00\" xmlns=\"http://www.w3.org/2000/svg\" xmlns:xlink=\"http://www.w3.org/1999/xlink\">\n",
       "<g id=\"graph0\" class=\"graph\" transform=\"scale(1 1) rotate(0) translate(4 40)\">\n",
       "<title>%3</title>\n",
       "<polygon fill=\"#ffffff\" stroke=\"transparent\" points=\"-4,4 -4,-40 265,-40 265,4 -4,4\"/>\n",
       "<!-- input -->\n",
       "<g id=\"node1\" class=\"node\">\n",
       "<title>input</title>\n",
       "<text text-anchor=\"middle\" x=\"28.5\" y=\"-14.3\" font-family=\"Times,serif\" font-size=\"14.00\" fill=\"#006400\">Input ✔</text>\n",
       "</g>\n",
       "<!-- s1 -->\n",
       "<g id=\"node2\" class=\"node\">\n",
       "<title>s1</title>\n",
       "<polygon fill=\"none\" stroke=\"#006400\" points=\"159,-36 93,-36 93,0 159,0 159,-36\"/>\n",
       "<text text-anchor=\"middle\" x=\"126\" y=\"-14.3\" font-family=\"Times,serif\" font-size=\"14.00\" fill=\"#006400\">State 1 ✔</text>\n",
       "</g>\n",
       "<!-- input&#45;&gt;s1 -->\n",
       "<g id=\"edge1\" class=\"edge\">\n",
       "<title>input&#45;&gt;s1</title>\n",
       "<path fill=\"none\" stroke=\"#000000\" d=\"M57.2259,-18C65.133,-18 73.8907,-18 82.4337,-18\"/>\n",
       "<polygon fill=\"#000000\" stroke=\"#000000\" points=\"82.6762,-21.5001 92.6762,-18 82.6761,-14.5001 82.6762,-21.5001\"/>\n",
       "</g>\n",
       "<!-- s2 -->\n",
       "<g id=\"node3\" class=\"node\">\n",
       "<title>s2</title>\n",
       "<polygon fill=\"none\" stroke=\"#8b0000\" points=\"261,-36 195,-36 195,0 261,0 261,-36\"/>\n",
       "<text text-anchor=\"middle\" x=\"228\" y=\"-14.3\" font-family=\"Times,serif\" font-size=\"14.00\" fill=\"#8b0000\">State 2 ✘</text>\n",
       "</g>\n",
       "<!-- s1&#45;&gt;s2 -->\n",
       "<g id=\"edge2\" class=\"edge\">\n",
       "<title>s1&#45;&gt;s2</title>\n",
       "<path fill=\"none\" stroke=\"#000000\" d=\"M159.1165,-18C167.2222,-18 176.018,-18 184.5279,-18\"/>\n",
       "<polygon fill=\"#000000\" stroke=\"#000000\" points=\"184.7007,-21.5001 194.7006,-18 184.7006,-14.5001 184.7007,-21.5001\"/>\n",
       "</g>\n",
       "</g>\n",
       "</svg>\n"
      ],
      "text/plain": [
       "<graphviz.dot.Digraph at 0x7ffb64706c18>"
      ]
     },
     "metadata": {},
     "output_type": "display_data"
    },
    {
     "data": {
      "image/svg+xml": [
       "<?xml version=\"1.0\" encoding=\"UTF-8\" standalone=\"no\"?>\n",
       "<!DOCTYPE svg PUBLIC \"-//W3C//DTD SVG 1.1//EN\"\n",
       " \"http://www.w3.org/Graphics/SVG/1.1/DTD/svg11.dtd\">\n",
       "<!-- Generated by graphviz version 2.40.1 (20161225.0304)\n",
       " -->\n",
       "<!-- Title: %3 Pages: 1 -->\n",
       "<svg width=\"371pt\" height=\"44pt\"\n",
       " viewBox=\"0.00 0.00 371.00 44.00\" xmlns=\"http://www.w3.org/2000/svg\" xmlns:xlink=\"http://www.w3.org/1999/xlink\">\n",
       "<g id=\"graph0\" class=\"graph\" transform=\"scale(1 1) rotate(0) translate(4 40)\">\n",
       "<title>%3</title>\n",
       "<polygon fill=\"#ffffff\" stroke=\"transparent\" points=\"-4,4 -4,-40 367,-40 367,4 -4,4\"/>\n",
       "<!-- input -->\n",
       "<g id=\"node1\" class=\"node\">\n",
       "<title>input</title>\n",
       "<text text-anchor=\"middle\" x=\"28.5\" y=\"-14.3\" font-family=\"Times,serif\" font-size=\"14.00\" fill=\"#006400\">Input ✔</text>\n",
       "</g>\n",
       "<!-- s1 -->\n",
       "<g id=\"node2\" class=\"node\">\n",
       "<title>s1</title>\n",
       "<polygon fill=\"none\" stroke=\"#006400\" points=\"159,-36 93,-36 93,0 159,0 159,-36\"/>\n",
       "<text text-anchor=\"middle\" x=\"126\" y=\"-14.3\" font-family=\"Times,serif\" font-size=\"14.00\" fill=\"#006400\">State 1 ✔</text>\n",
       "</g>\n",
       "<!-- input&#45;&gt;s1 -->\n",
       "<g id=\"edge1\" class=\"edge\">\n",
       "<title>input&#45;&gt;s1</title>\n",
       "<path fill=\"none\" stroke=\"#000000\" d=\"M57.2259,-18C65.133,-18 73.8907,-18 82.4337,-18\"/>\n",
       "<polygon fill=\"#000000\" stroke=\"#000000\" points=\"82.6762,-21.5001 92.6762,-18 82.6761,-14.5001 82.6762,-21.5001\"/>\n",
       "</g>\n",
       "<!-- s2 -->\n",
       "<g id=\"node3\" class=\"node\">\n",
       "<title>s2</title>\n",
       "<polygon fill=\"none\" stroke=\"#8b0000\" points=\"261,-36 195,-36 195,0 261,0 261,-36\"/>\n",
       "<text text-anchor=\"middle\" x=\"228\" y=\"-14.3\" font-family=\"Times,serif\" font-size=\"14.00\" fill=\"#8b0000\">State 2 ✘</text>\n",
       "</g>\n",
       "<!-- s1&#45;&gt;s2 -->\n",
       "<g id=\"edge2\" class=\"edge\">\n",
       "<title>s1&#45;&gt;s2</title>\n",
       "<path fill=\"none\" stroke=\"#000000\" d=\"M159.1165,-18C167.2222,-18 176.018,-18 184.5279,-18\"/>\n",
       "<polygon fill=\"#000000\" stroke=\"#000000\" points=\"184.7007,-21.5001 194.7006,-18 184.7006,-14.5001 184.7007,-21.5001\"/>\n",
       "</g>\n",
       "<!-- s3 -->\n",
       "<g id=\"node4\" class=\"node\">\n",
       "<title>s3</title>\n",
       "<polygon fill=\"none\" stroke=\"#8b0000\" points=\"363,-36 297,-36 297,0 363,0 363,-36\"/>\n",
       "<text text-anchor=\"middle\" x=\"330\" y=\"-14.3\" font-family=\"Times,serif\" font-size=\"14.00\" fill=\"#8b0000\">State 3 ✘</text>\n",
       "</g>\n",
       "<!-- s2&#45;&gt;s3 -->\n",
       "<g id=\"edge3\" class=\"edge\">\n",
       "<title>s2&#45;&gt;s3</title>\n",
       "<path fill=\"none\" stroke=\"#000000\" d=\"M261.1165,-18C269.2222,-18 278.018,-18 286.5279,-18\"/>\n",
       "<polygon fill=\"#000000\" stroke=\"#000000\" points=\"286.7007,-21.5001 296.7006,-18 286.7006,-14.5001 286.7007,-21.5001\"/>\n",
       "</g>\n",
       "</g>\n",
       "</svg>\n"
      ],
      "text/plain": [
       "<graphviz.dot.Digraph at 0x7ffb64706c18>"
      ]
     },
     "metadata": {},
     "output_type": "display_data"
    },
    {
     "data": {
      "image/svg+xml": [
       "<?xml version=\"1.0\" encoding=\"UTF-8\" standalone=\"no\"?>\n",
       "<!DOCTYPE svg PUBLIC \"-//W3C//DTD SVG 1.1//EN\"\n",
       " \"http://www.w3.org/Graphics/SVG/1.1/DTD/svg11.dtd\">\n",
       "<!-- Generated by graphviz version 2.40.1 (20161225.0304)\n",
       " -->\n",
       "<!-- Title: %3 Pages: 1 -->\n",
       "<svg width=\"473pt\" height=\"44pt\"\n",
       " viewBox=\"0.00 0.00 473.00 44.00\" xmlns=\"http://www.w3.org/2000/svg\" xmlns:xlink=\"http://www.w3.org/1999/xlink\">\n",
       "<g id=\"graph0\" class=\"graph\" transform=\"scale(1 1) rotate(0) translate(4 40)\">\n",
       "<title>%3</title>\n",
       "<polygon fill=\"#ffffff\" stroke=\"transparent\" points=\"-4,4 -4,-40 469,-40 469,4 -4,4\"/>\n",
       "<!-- input -->\n",
       "<g id=\"node1\" class=\"node\">\n",
       "<title>input</title>\n",
       "<text text-anchor=\"middle\" x=\"28.5\" y=\"-14.3\" font-family=\"Times,serif\" font-size=\"14.00\" fill=\"#006400\">Input ✔</text>\n",
       "</g>\n",
       "<!-- s1 -->\n",
       "<g id=\"node2\" class=\"node\">\n",
       "<title>s1</title>\n",
       "<polygon fill=\"none\" stroke=\"#006400\" points=\"159,-36 93,-36 93,0 159,0 159,-36\"/>\n",
       "<text text-anchor=\"middle\" x=\"126\" y=\"-14.3\" font-family=\"Times,serif\" font-size=\"14.00\" fill=\"#006400\">State 1 ✔</text>\n",
       "</g>\n",
       "<!-- input&#45;&gt;s1 -->\n",
       "<g id=\"edge1\" class=\"edge\">\n",
       "<title>input&#45;&gt;s1</title>\n",
       "<path fill=\"none\" stroke=\"#000000\" d=\"M57.2259,-18C65.133,-18 73.8907,-18 82.4337,-18\"/>\n",
       "<polygon fill=\"#000000\" stroke=\"#000000\" points=\"82.6762,-21.5001 92.6762,-18 82.6761,-14.5001 82.6762,-21.5001\"/>\n",
       "</g>\n",
       "<!-- s2 -->\n",
       "<g id=\"node3\" class=\"node\">\n",
       "<title>s2</title>\n",
       "<polygon fill=\"none\" stroke=\"#8b0000\" points=\"261,-36 195,-36 195,0 261,0 261,-36\"/>\n",
       "<text text-anchor=\"middle\" x=\"228\" y=\"-14.3\" font-family=\"Times,serif\" font-size=\"14.00\" fill=\"#8b0000\">State 2 ✘</text>\n",
       "</g>\n",
       "<!-- s1&#45;&gt;s2 -->\n",
       "<g id=\"edge2\" class=\"edge\">\n",
       "<title>s1&#45;&gt;s2</title>\n",
       "<path fill=\"none\" stroke=\"#000000\" d=\"M159.1165,-18C167.2222,-18 176.018,-18 184.5279,-18\"/>\n",
       "<polygon fill=\"#000000\" stroke=\"#000000\" points=\"184.7007,-21.5001 194.7006,-18 184.7006,-14.5001 184.7007,-21.5001\"/>\n",
       "</g>\n",
       "<!-- s3 -->\n",
       "<g id=\"node4\" class=\"node\">\n",
       "<title>s3</title>\n",
       "<polygon fill=\"none\" stroke=\"#8b0000\" points=\"363,-36 297,-36 297,0 363,0 363,-36\"/>\n",
       "<text text-anchor=\"middle\" x=\"330\" y=\"-14.3\" font-family=\"Times,serif\" font-size=\"14.00\" fill=\"#8b0000\">State 3 ✘</text>\n",
       "</g>\n",
       "<!-- s2&#45;&gt;s3 -->\n",
       "<g id=\"edge3\" class=\"edge\">\n",
       "<title>s2&#45;&gt;s3</title>\n",
       "<path fill=\"none\" stroke=\"#000000\" d=\"M261.1165,-18C269.2222,-18 278.018,-18 286.5279,-18\"/>\n",
       "<polygon fill=\"#000000\" stroke=\"#000000\" points=\"286.7007,-21.5001 296.7006,-18 286.7006,-14.5001 286.7007,-21.5001\"/>\n",
       "</g>\n",
       "<!-- output -->\n",
       "<g id=\"node5\" class=\"node\">\n",
       "<title>output</title>\n",
       "<text text-anchor=\"middle\" x=\"432\" y=\"-14.3\" font-family=\"Times,serif\" font-size=\"14.00\" fill=\"#8b0000\">Output ✘</text>\n",
       "</g>\n",
       "<!-- s3&#45;&gt;output -->\n",
       "<g id=\"edge4\" class=\"edge\">\n",
       "<title>s3&#45;&gt;output</title>\n",
       "<path fill=\"none\" stroke=\"#000000\" d=\"M363.1165,-18C371.2222,-18 380.018,-18 388.5279,-18\"/>\n",
       "<polygon fill=\"#000000\" stroke=\"#000000\" points=\"388.7007,-21.5001 398.7006,-18 388.7006,-14.5001 388.7007,-21.5001\"/>\n",
       "</g>\n",
       "</g>\n",
       "</svg>\n"
      ],
      "text/plain": [
       "<graphviz.dot.Digraph at 0x7ffb64706c18>"
      ]
     },
     "metadata": {},
     "output_type": "display_data"
    }
   ],
   "source": [
    "for until in range(1, 6):\n",
    "    execution_diagram(show_steps=False, until=until, error_step=2)"
   ]
  },
  {
   "cell_type": "markdown",
   "metadata": {},
   "source": [
    "Initially, the program state is still correct (✔). However, at some point in the execution, the state gets an _error_, also known as a *fault*. This fault – again an unwanted and unintended deviation from what is correct, right, or true – then propagates along the execution, until it becomes externally visible as a _failure_.\n",
    "(In reality, there are many, many more states than just this, but these would not fit in a diagram.)"
   ]
  },
  {
   "cell_type": "markdown",
   "metadata": {},
   "source": [
    "How does a fault come to be? Each of these program states is produced by a _step_ in the program code. These steps take a state as input and produce another state as output. Technically speaking, the program inputs and outputs are also parts of the program state, so the input flows into the first step, and the output is the state produced by the last step."
   ]
  },
  {
   "cell_type": "code",
   "execution_count": 303,
   "metadata": {},
   "outputs": [
    {
     "data": {
      "image/svg+xml": [
       "<?xml version=\"1.0\" encoding=\"UTF-8\" standalone=\"no\"?>\n",
       "<!DOCTYPE svg PUBLIC \"-//W3C//DTD SVG 1.1//EN\"\n",
       " \"http://www.w3.org/Graphics/SVG/1.1/DTD/svg11.dtd\">\n",
       "<!-- Generated by graphviz version 2.40.1 (20161225.0304)\n",
       " -->\n",
       "<!-- Title: %3 Pages: 1 -->\n",
       "<svg width=\"65pt\" height=\"44pt\"\n",
       " viewBox=\"0.00 0.00 65.00 44.00\" xmlns=\"http://www.w3.org/2000/svg\" xmlns:xlink=\"http://www.w3.org/1999/xlink\">\n",
       "<g id=\"graph0\" class=\"graph\" transform=\"scale(1 1) rotate(0) translate(4 40)\">\n",
       "<title>%3</title>\n",
       "<polygon fill=\"#ffffff\" stroke=\"transparent\" points=\"-4,4 -4,-40 61,-40 61,4 -4,4\"/>\n",
       "<!-- input -->\n",
       "<g id=\"node1\" class=\"node\">\n",
       "<title>input</title>\n",
       "<text text-anchor=\"middle\" x=\"28.5\" y=\"-14.3\" font-family=\"Times,serif\" font-size=\"14.00\" fill=\"#006400\">Input ✔</text>\n",
       "</g>\n",
       "</g>\n",
       "</svg>\n"
      ],
      "text/plain": [
       "<graphviz.dot.Digraph at 0x7ffb6478aac8>"
      ]
     },
     "metadata": {},
     "output_type": "display_data"
    },
    {
     "data": {
      "image/svg+xml": [
       "<?xml version=\"1.0\" encoding=\"UTF-8\" standalone=\"no\"?>\n",
       "<!DOCTYPE svg PUBLIC \"-//W3C//DTD SVG 1.1//EN\"\n",
       " \"http://www.w3.org/Graphics/SVG/1.1/DTD/svg11.dtd\">\n",
       "<!-- Generated by graphviz version 2.40.1 (20161225.0304)\n",
       " -->\n",
       "<!-- Title: %3 Pages: 1 -->\n",
       "<svg width=\"203pt\" height=\"44pt\"\n",
       " viewBox=\"0.00 0.00 203.00 44.00\" xmlns=\"http://www.w3.org/2000/svg\" xmlns:xlink=\"http://www.w3.org/1999/xlink\">\n",
       "<g id=\"graph0\" class=\"graph\" transform=\"scale(1 1) rotate(0) translate(4 40)\">\n",
       "<title>%3</title>\n",
       "<polygon fill=\"#ffffff\" stroke=\"transparent\" points=\"-4,4 -4,-40 199,-40 199,4 -4,4\"/>\n",
       "<!-- input -->\n",
       "<g id=\"node1\" class=\"node\">\n",
       "<title>input</title>\n",
       "<text text-anchor=\"middle\" x=\"28.5\" y=\"-14.3\" font-family=\"Times,serif\" font-size=\"14.00\" fill=\"#006400\">Input ✔</text>\n",
       "</g>\n",
       "<!-- s1 -->\n",
       "<g id=\"node2\" class=\"node\">\n",
       "<title>s1</title>\n",
       "<polygon fill=\"none\" stroke=\"#006400\" points=\"195,-36 129,-36 129,0 195,0 195,-36\"/>\n",
       "<text text-anchor=\"middle\" x=\"162\" y=\"-14.3\" font-family=\"Times,serif\" font-size=\"14.00\" fill=\"#006400\">State 1 ✔</text>\n",
       "</g>\n",
       "<!-- input&#45;&gt;s1 -->\n",
       "<g id=\"edge1\" class=\"edge\">\n",
       "<title>input&#45;&gt;s1</title>\n",
       "<path fill=\"none\" stroke=\"#000000\" d=\"M57.1391,-18C75.0154,-18 98.3761,-18 118.5099,-18\"/>\n",
       "<polygon fill=\"#000000\" stroke=\"#000000\" points=\"118.6983,-21.5001 128.6983,-18 118.6983,-14.5001 118.6983,-21.5001\"/>\n",
       "<text text-anchor=\"middle\" x=\"93\" y=\"-21.8\" font-family=\"Times,serif\" font-size=\"14.00\" fill=\"#000000\">Step 1</text>\n",
       "</g>\n",
       "</g>\n",
       "</svg>\n"
      ],
      "text/plain": [
       "<graphviz.dot.Digraph at 0x7ffb6478aac8>"
      ]
     },
     "metadata": {},
     "output_type": "display_data"
    },
    {
     "data": {
      "image/svg+xml": [
       "<?xml version=\"1.0\" encoding=\"UTF-8\" standalone=\"no\"?>\n",
       "<!DOCTYPE svg PUBLIC \"-//W3C//DTD SVG 1.1//EN\"\n",
       " \"http://www.w3.org/Graphics/SVG/1.1/DTD/svg11.dtd\">\n",
       "<!-- Generated by graphviz version 2.40.1 (20161225.0304)\n",
       " -->\n",
       "<!-- Title: %3 Pages: 1 -->\n",
       "<svg width=\"352pt\" height=\"44pt\"\n",
       " viewBox=\"0.00 0.00 352.00 44.00\" xmlns=\"http://www.w3.org/2000/svg\" xmlns:xlink=\"http://www.w3.org/1999/xlink\">\n",
       "<g id=\"graph0\" class=\"graph\" transform=\"scale(1 1) rotate(0) translate(4 40)\">\n",
       "<title>%3</title>\n",
       "<polygon fill=\"#ffffff\" stroke=\"transparent\" points=\"-4,4 -4,-40 348,-40 348,4 -4,4\"/>\n",
       "<!-- input -->\n",
       "<g id=\"node1\" class=\"node\">\n",
       "<title>input</title>\n",
       "<text text-anchor=\"middle\" x=\"28.5\" y=\"-14.3\" font-family=\"Times,serif\" font-size=\"14.00\" fill=\"#006400\">Input ✔</text>\n",
       "</g>\n",
       "<!-- s1 -->\n",
       "<g id=\"node2\" class=\"node\">\n",
       "<title>s1</title>\n",
       "<polygon fill=\"none\" stroke=\"#006400\" points=\"195,-36 129,-36 129,0 195,0 195,-36\"/>\n",
       "<text text-anchor=\"middle\" x=\"162\" y=\"-14.3\" font-family=\"Times,serif\" font-size=\"14.00\" fill=\"#006400\">State 1 ✔</text>\n",
       "</g>\n",
       "<!-- input&#45;&gt;s1 -->\n",
       "<g id=\"edge1\" class=\"edge\">\n",
       "<title>input&#45;&gt;s1</title>\n",
       "<path fill=\"none\" stroke=\"#000000\" d=\"M57.1391,-18C75.0154,-18 98.3761,-18 118.5099,-18\"/>\n",
       "<polygon fill=\"#000000\" stroke=\"#000000\" points=\"118.6983,-21.5001 128.6983,-18 118.6983,-14.5001 118.6983,-21.5001\"/>\n",
       "<text text-anchor=\"middle\" x=\"93\" y=\"-21.8\" font-family=\"Times,serif\" font-size=\"14.00\" fill=\"#000000\">Step 1</text>\n",
       "</g>\n",
       "<!-- s2 -->\n",
       "<g id=\"node3\" class=\"node\">\n",
       "<title>s2</title>\n",
       "<polygon fill=\"none\" stroke=\"#8b0000\" points=\"344,-36 278,-36 278,0 344,0 344,-36\"/>\n",
       "<text text-anchor=\"middle\" x=\"311\" y=\"-14.3\" font-family=\"Times,serif\" font-size=\"14.00\" fill=\"#8b0000\">State 2 ✘</text>\n",
       "</g>\n",
       "<!-- s1&#45;&gt;s2 -->\n",
       "<g id=\"edge2\" class=\"edge\">\n",
       "<title>s1&#45;&gt;s2</title>\n",
       "<path fill=\"none\" stroke=\"#000000\" d=\"M195.0679,-18C216.406,-18 244.3931,-18 267.5231,-18\"/>\n",
       "<polygon fill=\"#000000\" stroke=\"#000000\" points=\"267.7672,-21.5001 277.7672,-18 267.7672,-14.5001 267.7672,-21.5001\"/>\n",
       "<text text-anchor=\"middle\" x=\"236.5\" y=\"-21.8\" font-family=\"Times,serif\" font-size=\"14.00\" fill=\"#8b0000\">Step 2 ✘</text>\n",
       "</g>\n",
       "</g>\n",
       "</svg>\n"
      ],
      "text/plain": [
       "<graphviz.dot.Digraph at 0x7ffb6478a390>"
      ]
     },
     "metadata": {},
     "output_type": "display_data"
    },
    {
     "data": {
      "image/svg+xml": [
       "<?xml version=\"1.0\" encoding=\"UTF-8\" standalone=\"no\"?>\n",
       "<!DOCTYPE svg PUBLIC \"-//W3C//DTD SVG 1.1//EN\"\n",
       " \"http://www.w3.org/Graphics/SVG/1.1/DTD/svg11.dtd\">\n",
       "<!-- Generated by graphviz version 2.40.1 (20161225.0304)\n",
       " -->\n",
       "<!-- Title: %3 Pages: 1 -->\n",
       "<svg width=\"490pt\" height=\"44pt\"\n",
       " viewBox=\"0.00 0.00 490.00 44.00\" xmlns=\"http://www.w3.org/2000/svg\" xmlns:xlink=\"http://www.w3.org/1999/xlink\">\n",
       "<g id=\"graph0\" class=\"graph\" transform=\"scale(1 1) rotate(0) translate(4 40)\">\n",
       "<title>%3</title>\n",
       "<polygon fill=\"#ffffff\" stroke=\"transparent\" points=\"-4,4 -4,-40 486,-40 486,4 -4,4\"/>\n",
       "<!-- input -->\n",
       "<g id=\"node1\" class=\"node\">\n",
       "<title>input</title>\n",
       "<text text-anchor=\"middle\" x=\"28.5\" y=\"-14.3\" font-family=\"Times,serif\" font-size=\"14.00\" fill=\"#006400\">Input ✔</text>\n",
       "</g>\n",
       "<!-- s1 -->\n",
       "<g id=\"node2\" class=\"node\">\n",
       "<title>s1</title>\n",
       "<polygon fill=\"none\" stroke=\"#006400\" points=\"195,-36 129,-36 129,0 195,0 195,-36\"/>\n",
       "<text text-anchor=\"middle\" x=\"162\" y=\"-14.3\" font-family=\"Times,serif\" font-size=\"14.00\" fill=\"#006400\">State 1 ✔</text>\n",
       "</g>\n",
       "<!-- input&#45;&gt;s1 -->\n",
       "<g id=\"edge1\" class=\"edge\">\n",
       "<title>input&#45;&gt;s1</title>\n",
       "<path fill=\"none\" stroke=\"#000000\" d=\"M57.1391,-18C75.0154,-18 98.3761,-18 118.5099,-18\"/>\n",
       "<polygon fill=\"#000000\" stroke=\"#000000\" points=\"118.6983,-21.5001 128.6983,-18 118.6983,-14.5001 118.6983,-21.5001\"/>\n",
       "<text text-anchor=\"middle\" x=\"93\" y=\"-21.8\" font-family=\"Times,serif\" font-size=\"14.00\" fill=\"#000000\">Step 1</text>\n",
       "</g>\n",
       "<!-- s2 -->\n",
       "<g id=\"node3\" class=\"node\">\n",
       "<title>s2</title>\n",
       "<polygon fill=\"none\" stroke=\"#8b0000\" points=\"344,-36 278,-36 278,0 344,0 344,-36\"/>\n",
       "<text text-anchor=\"middle\" x=\"311\" y=\"-14.3\" font-family=\"Times,serif\" font-size=\"14.00\" fill=\"#8b0000\">State 2 ✘</text>\n",
       "</g>\n",
       "<!-- s1&#45;&gt;s2 -->\n",
       "<g id=\"edge2\" class=\"edge\">\n",
       "<title>s1&#45;&gt;s2</title>\n",
       "<path fill=\"none\" stroke=\"#000000\" d=\"M195.0679,-18C216.406,-18 244.3931,-18 267.5231,-18\"/>\n",
       "<polygon fill=\"#000000\" stroke=\"#000000\" points=\"267.7672,-21.5001 277.7672,-18 267.7672,-14.5001 267.7672,-21.5001\"/>\n",
       "<text text-anchor=\"middle\" x=\"236.5\" y=\"-21.8\" font-family=\"Times,serif\" font-size=\"14.00\" fill=\"#8b0000\">Step 2 ✘</text>\n",
       "</g>\n",
       "<!-- s3 -->\n",
       "<g id=\"node4\" class=\"node\">\n",
       "<title>s3</title>\n",
       "<polygon fill=\"none\" stroke=\"#8b0000\" points=\"482,-36 416,-36 416,0 482,0 482,-36\"/>\n",
       "<text text-anchor=\"middle\" x=\"449\" y=\"-14.3\" font-family=\"Times,serif\" font-size=\"14.00\" fill=\"#8b0000\">State 3 ✘</text>\n",
       "</g>\n",
       "<!-- s2&#45;&gt;s3 -->\n",
       "<g id=\"edge3\" class=\"edge\">\n",
       "<title>s2&#45;&gt;s3</title>\n",
       "<path fill=\"none\" stroke=\"#000000\" d=\"M344.0544,-18C362.5239,-18 385.7605,-18 405.6711,-18\"/>\n",
       "<polygon fill=\"#000000\" stroke=\"#000000\" points=\"405.737,-21.5001 415.737,-18 405.737,-14.5001 405.737,-21.5001\"/>\n",
       "<text text-anchor=\"middle\" x=\"380\" y=\"-21.8\" font-family=\"Times,serif\" font-size=\"14.00\" fill=\"#000000\">Step 3</text>\n",
       "</g>\n",
       "</g>\n",
       "</svg>\n"
      ],
      "text/plain": [
       "<graphviz.dot.Digraph at 0x7ffb6478a9e8>"
      ]
     },
     "metadata": {},
     "output_type": "display_data"
    },
    {
     "data": {
      "image/svg+xml": [
       "<?xml version=\"1.0\" encoding=\"UTF-8\" standalone=\"no\"?>\n",
       "<!DOCTYPE svg PUBLIC \"-//W3C//DTD SVG 1.1//EN\"\n",
       " \"http://www.w3.org/Graphics/SVG/1.1/DTD/svg11.dtd\">\n",
       "<!-- Generated by graphviz version 2.40.1 (20161225.0304)\n",
       " -->\n",
       "<!-- Title: %3 Pages: 1 -->\n",
       "<svg width=\"593pt\" height=\"44pt\"\n",
       " viewBox=\"0.00 0.00 593.00 44.00\" xmlns=\"http://www.w3.org/2000/svg\" xmlns:xlink=\"http://www.w3.org/1999/xlink\">\n",
       "<g id=\"graph0\" class=\"graph\" transform=\"scale(1 1) rotate(0) translate(4 40)\">\n",
       "<title>%3</title>\n",
       "<polygon fill=\"#ffffff\" stroke=\"transparent\" points=\"-4,4 -4,-40 589,-40 589,4 -4,4\"/>\n",
       "<!-- input -->\n",
       "<g id=\"node1\" class=\"node\">\n",
       "<title>input</title>\n",
       "<text text-anchor=\"middle\" x=\"28.5\" y=\"-14.3\" font-family=\"Times,serif\" font-size=\"14.00\" fill=\"#006400\">Input ✔</text>\n",
       "</g>\n",
       "<!-- s1 -->\n",
       "<g id=\"node2\" class=\"node\">\n",
       "<title>s1</title>\n",
       "<polygon fill=\"none\" stroke=\"#006400\" points=\"195,-36 129,-36 129,0 195,0 195,-36\"/>\n",
       "<text text-anchor=\"middle\" x=\"162\" y=\"-14.3\" font-family=\"Times,serif\" font-size=\"14.00\" fill=\"#006400\">State 1 ✔</text>\n",
       "</g>\n",
       "<!-- input&#45;&gt;s1 -->\n",
       "<g id=\"edge1\" class=\"edge\">\n",
       "<title>input&#45;&gt;s1</title>\n",
       "<path fill=\"none\" stroke=\"#000000\" d=\"M57.1391,-18C75.0154,-18 98.3761,-18 118.5099,-18\"/>\n",
       "<polygon fill=\"#000000\" stroke=\"#000000\" points=\"118.6983,-21.5001 128.6983,-18 118.6983,-14.5001 118.6983,-21.5001\"/>\n",
       "<text text-anchor=\"middle\" x=\"93\" y=\"-21.8\" font-family=\"Times,serif\" font-size=\"14.00\" fill=\"#000000\">Step 1</text>\n",
       "</g>\n",
       "<!-- s2 -->\n",
       "<g id=\"node3\" class=\"node\">\n",
       "<title>s2</title>\n",
       "<polygon fill=\"none\" stroke=\"#8b0000\" points=\"344,-36 278,-36 278,0 344,0 344,-36\"/>\n",
       "<text text-anchor=\"middle\" x=\"311\" y=\"-14.3\" font-family=\"Times,serif\" font-size=\"14.00\" fill=\"#8b0000\">State 2 ✘</text>\n",
       "</g>\n",
       "<!-- s1&#45;&gt;s2 -->\n",
       "<g id=\"edge2\" class=\"edge\">\n",
       "<title>s1&#45;&gt;s2</title>\n",
       "<path fill=\"none\" stroke=\"#000000\" d=\"M195.0679,-18C216.406,-18 244.3931,-18 267.5231,-18\"/>\n",
       "<polygon fill=\"#000000\" stroke=\"#000000\" points=\"267.7672,-21.5001 277.7672,-18 267.7672,-14.5001 267.7672,-21.5001\"/>\n",
       "<text text-anchor=\"middle\" x=\"236.5\" y=\"-21.8\" font-family=\"Times,serif\" font-size=\"14.00\" fill=\"#8b0000\">Step 2 ✘</text>\n",
       "</g>\n",
       "<!-- s3 -->\n",
       "<g id=\"node4\" class=\"node\">\n",
       "<title>s3</title>\n",
       "<polygon fill=\"none\" stroke=\"#8b0000\" points=\"482,-36 416,-36 416,0 482,0 482,-36\"/>\n",
       "<text text-anchor=\"middle\" x=\"449\" y=\"-14.3\" font-family=\"Times,serif\" font-size=\"14.00\" fill=\"#8b0000\">State 3 ✘</text>\n",
       "</g>\n",
       "<!-- s2&#45;&gt;s3 -->\n",
       "<g id=\"edge3\" class=\"edge\">\n",
       "<title>s2&#45;&gt;s3</title>\n",
       "<path fill=\"none\" stroke=\"#000000\" d=\"M344.0544,-18C362.5239,-18 385.7605,-18 405.6711,-18\"/>\n",
       "<polygon fill=\"#000000\" stroke=\"#000000\" points=\"405.737,-21.5001 415.737,-18 405.737,-14.5001 405.737,-21.5001\"/>\n",
       "<text text-anchor=\"middle\" x=\"380\" y=\"-21.8\" font-family=\"Times,serif\" font-size=\"14.00\" fill=\"#000000\">Step 3</text>\n",
       "</g>\n",
       "<!-- output -->\n",
       "<g id=\"node5\" class=\"node\">\n",
       "<title>output</title>\n",
       "<text text-anchor=\"middle\" x=\"552\" y=\"-14.3\" font-family=\"Times,serif\" font-size=\"14.00\" fill=\"#8b0000\">Output ✘</text>\n",
       "</g>\n",
       "<!-- s3&#45;&gt;output -->\n",
       "<g id=\"edge4\" class=\"edge\">\n",
       "<title>s3&#45;&gt;output</title>\n",
       "<path fill=\"none\" stroke=\"#000000\" d=\"M482.1568,-18C490.6106,-18 499.8229,-18 508.7015,-18\"/>\n",
       "<polygon fill=\"#000000\" stroke=\"#000000\" points=\"508.9054,-21.5001 518.9053,-18 508.9053,-14.5001 508.9054,-21.5001\"/>\n",
       "</g>\n",
       "</g>\n",
       "</svg>\n"
      ],
      "text/plain": [
       "<graphviz.dot.Digraph at 0x7ffb6478aa58>"
      ]
     },
     "metadata": {},
     "output_type": "display_data"
    }
   ],
   "source": [
    "for until in range(1, 6):\n",
    "    execution_diagram(show_steps=True, until=until, error_step=2)"
   ]
  },
  {
   "cell_type": "markdown",
   "metadata": {},
   "source": [
    "Now, in the diagram above, Step 2 gets a _correct_ state as input and produces a _faulty_ state as output. The produced fault then propagates across more steps to finally become visible as a _failure_."
   ]
  },
  {
   "cell_type": "markdown",
   "metadata": {},
   "source": [
    "The goal of debugging thus is to _search_ for the step in which the state first becomes faulty. The _code_ associated with this step is again in error – an unwanted and unintended deviation from what is correct, right, or true – and is called a _defect_. This is what we have to find – and to fix."
   ]
  },
  {
   "cell_type": "markdown",
   "metadata": {},
   "source": [
    "Sounds easy, right? Unfortunately, things are not that easy, and that has something to do with the program state. Let us assume our state consists of three variables, `v1` to `v3`, and that Step 2 produces a fault in `v2`. This fault then propagates to the output:"
   ]
  },
  {
   "cell_type": "code",
   "execution_count": 304,
   "metadata": {},
   "outputs": [
    {
     "data": {
      "image/svg+xml": [
       "<?xml version=\"1.0\" encoding=\"UTF-8\" standalone=\"no\"?>\n",
       "<!DOCTYPE svg PUBLIC \"-//W3C//DTD SVG 1.1//EN\"\n",
       " \"http://www.w3.org/Graphics/SVG/1.1/DTD/svg11.dtd\">\n",
       "<!-- Generated by graphviz version 2.40.1 (20161225.0304)\n",
       " -->\n",
       "<!-- Title: %3 Pages: 1 -->\n",
       "<svg width=\"65pt\" height=\"44pt\"\n",
       " viewBox=\"0.00 0.00 65.00 44.00\" xmlns=\"http://www.w3.org/2000/svg\" xmlns:xlink=\"http://www.w3.org/1999/xlink\">\n",
       "<g id=\"graph0\" class=\"graph\" transform=\"scale(1 1) rotate(0) translate(4 40)\">\n",
       "<title>%3</title>\n",
       "<polygon fill=\"#ffffff\" stroke=\"transparent\" points=\"-4,4 -4,-40 61,-40 61,4 -4,4\"/>\n",
       "<!-- input -->\n",
       "<g id=\"node1\" class=\"node\">\n",
       "<title>input</title>\n",
       "<text text-anchor=\"middle\" x=\"28.5\" y=\"-14.3\" font-family=\"Times,serif\" font-size=\"14.00\" fill=\"#006400\">Input ✔</text>\n",
       "</g>\n",
       "</g>\n",
       "</svg>\n"
      ],
      "text/plain": [
       "<graphviz.dot.Digraph at 0x7ffb6478a898>"
      ]
     },
     "metadata": {},
     "output_type": "display_data"
    },
    {
     "data": {
      "image/svg+xml": [
       "<?xml version=\"1.0\" encoding=\"UTF-8\" standalone=\"no\"?>\n",
       "<!DOCTYPE svg PUBLIC \"-//W3C//DTD SVG 1.1//EN\"\n",
       " \"http://www.w3.org/Graphics/SVG/1.1/DTD/svg11.dtd\">\n",
       "<!-- Generated by graphviz version 2.40.1 (20161225.0304)\n",
       " -->\n",
       "<!-- Title: %3 Pages: 1 -->\n",
       "<svg width=\"191pt\" height=\"78pt\"\n",
       " viewBox=\"0.00 0.00 191.00 78.00\" xmlns=\"http://www.w3.org/2000/svg\" xmlns:xlink=\"http://www.w3.org/1999/xlink\">\n",
       "<g id=\"graph0\" class=\"graph\" transform=\"scale(1 1) rotate(0) translate(4 74)\">\n",
       "<title>%3</title>\n",
       "<polygon fill=\"#ffffff\" stroke=\"transparent\" points=\"-4,4 -4,-74 187,-74 187,4 -4,4\"/>\n",
       "<!-- input -->\n",
       "<g id=\"node1\" class=\"node\">\n",
       "<title>input</title>\n",
       "<text text-anchor=\"middle\" x=\"28.5\" y=\"-31.3\" font-family=\"Times,serif\" font-size=\"14.00\" fill=\"#006400\">Input ✔</text>\n",
       "</g>\n",
       "<!-- s1 -->\n",
       "<g id=\"node2\" class=\"node\">\n",
       "<title>s1</title>\n",
       "<polygon fill=\"none\" stroke=\"#006400\" points=\"129,-.5 129,-69.5 183,-69.5 183,-.5 129,-.5\"/>\n",
       "<text text-anchor=\"middle\" x=\"156\" y=\"-54.3\" font-family=\"Times,serif\" font-size=\"14.00\" fill=\"#006400\">v1</text>\n",
       "<polyline fill=\"none\" stroke=\"#006400\" points=\"129,-46.5 183,-46.5 \"/>\n",
       "<text text-anchor=\"middle\" x=\"156\" y=\"-31.3\" font-family=\"Times,serif\" font-size=\"14.00\" fill=\"#006400\">v2</text>\n",
       "<polyline fill=\"none\" stroke=\"#006400\" points=\"129,-23.5 183,-23.5 \"/>\n",
       "<text text-anchor=\"middle\" x=\"156\" y=\"-8.3\" font-family=\"Times,serif\" font-size=\"14.00\" fill=\"#006400\">v3</text>\n",
       "</g>\n",
       "<!-- input&#45;&gt;s1 -->\n",
       "<g id=\"edge1\" class=\"edge\">\n",
       "<title>input&#45;&gt;s1</title>\n",
       "<path fill=\"none\" stroke=\"#000000\" d=\"M57.1135,-35C75.2862,-35 98.9986,-35 118.6476,-35\"/>\n",
       "<polygon fill=\"#000000\" stroke=\"#000000\" points=\"118.7923,-38.5001 128.7922,-35 118.7922,-31.5001 118.7923,-38.5001\"/>\n",
       "<text text-anchor=\"middle\" x=\"93\" y=\"-38.8\" font-family=\"Times,serif\" font-size=\"14.00\" fill=\"#000000\">Step 1</text>\n",
       "</g>\n",
       "</g>\n",
       "</svg>\n"
      ],
      "text/plain": [
       "<graphviz.dot.Digraph at 0x7ffb6478a898>"
      ]
     },
     "metadata": {},
     "output_type": "display_data"
    },
    {
     "data": {
      "image/svg+xml": [
       "<?xml version=\"1.0\" encoding=\"UTF-8\" standalone=\"no\"?>\n",
       "<!DOCTYPE svg PUBLIC \"-//W3C//DTD SVG 1.1//EN\"\n",
       " \"http://www.w3.org/Graphics/SVG/1.1/DTD/svg11.dtd\">\n",
       "<!-- Generated by graphviz version 2.40.1 (20161225.0304)\n",
       " -->\n",
       "<!-- Title: %3 Pages: 1 -->\n",
       "<svg width=\"328pt\" height=\"78pt\"\n",
       " viewBox=\"0.00 0.00 328.00 78.00\" xmlns=\"http://www.w3.org/2000/svg\" xmlns:xlink=\"http://www.w3.org/1999/xlink\">\n",
       "<g id=\"graph0\" class=\"graph\" transform=\"scale(1 1) rotate(0) translate(4 74)\">\n",
       "<title>%3</title>\n",
       "<polygon fill=\"#ffffff\" stroke=\"transparent\" points=\"-4,4 -4,-74 324,-74 324,4 -4,4\"/>\n",
       "<!-- input -->\n",
       "<g id=\"node1\" class=\"node\">\n",
       "<title>input</title>\n",
       "<text text-anchor=\"middle\" x=\"28.5\" y=\"-31.3\" font-family=\"Times,serif\" font-size=\"14.00\" fill=\"#006400\">Input ✔</text>\n",
       "</g>\n",
       "<!-- s1 -->\n",
       "<g id=\"node2\" class=\"node\">\n",
       "<title>s1</title>\n",
       "<polygon fill=\"none\" stroke=\"#006400\" points=\"129,-.5 129,-69.5 183,-69.5 183,-.5 129,-.5\"/>\n",
       "<text text-anchor=\"middle\" x=\"156\" y=\"-54.3\" font-family=\"Times,serif\" font-size=\"14.00\" fill=\"#006400\">v1</text>\n",
       "<polyline fill=\"none\" stroke=\"#006400\" points=\"129,-46.5 183,-46.5 \"/>\n",
       "<text text-anchor=\"middle\" x=\"156\" y=\"-31.3\" font-family=\"Times,serif\" font-size=\"14.00\" fill=\"#006400\">v2</text>\n",
       "<polyline fill=\"none\" stroke=\"#006400\" points=\"129,-23.5 183,-23.5 \"/>\n",
       "<text text-anchor=\"middle\" x=\"156\" y=\"-8.3\" font-family=\"Times,serif\" font-size=\"14.00\" fill=\"#006400\">v3</text>\n",
       "</g>\n",
       "<!-- input&#45;&gt;s1 -->\n",
       "<g id=\"edge1\" class=\"edge\">\n",
       "<title>input&#45;&gt;s1</title>\n",
       "<path fill=\"none\" stroke=\"#000000\" d=\"M57.1135,-35C75.2862,-35 98.9986,-35 118.6476,-35\"/>\n",
       "<polygon fill=\"#000000\" stroke=\"#000000\" points=\"118.7923,-38.5001 128.7922,-35 118.7922,-31.5001 118.7923,-38.5001\"/>\n",
       "<text text-anchor=\"middle\" x=\"93\" y=\"-38.8\" font-family=\"Times,serif\" font-size=\"14.00\" fill=\"#000000\">Step 1</text>\n",
       "</g>\n",
       "<!-- s2 -->\n",
       "<g id=\"node3\" class=\"node\">\n",
       "<title>s2</title>\n",
       "<polygon fill=\"none\" stroke=\"#8b0000\" points=\"266,-.5 266,-69.5 320,-69.5 320,-.5 266,-.5\"/>\n",
       "<text text-anchor=\"middle\" x=\"293\" y=\"-54.3\" font-family=\"Times,serif\" font-size=\"14.00\" fill=\"#8b0000\">v1</text>\n",
       "<polyline fill=\"none\" stroke=\"#8b0000\" points=\"266,-46.5 320,-46.5 \"/>\n",
       "<text text-anchor=\"middle\" x=\"293\" y=\"-31.3\" font-family=\"Times,serif\" font-size=\"14.00\" fill=\"#8b0000\">v2 ✘</text>\n",
       "<polyline fill=\"none\" stroke=\"#8b0000\" points=\"266,-23.5 320,-23.5 \"/>\n",
       "<text text-anchor=\"middle\" x=\"293\" y=\"-8.3\" font-family=\"Times,serif\" font-size=\"14.00\" fill=\"#8b0000\">v3</text>\n",
       "</g>\n",
       "<!-- s1&#45;&gt;s2 -->\n",
       "<g id=\"edge2\" class=\"edge\">\n",
       "<title>s1&#45;&gt;s2:v2</title>\n",
       "<path fill=\"none\" stroke=\"#000000\" d=\"M183.1232,-35C202.7781,-35 230.2928,-35 255.918,-35\"/>\n",
       "<polygon fill=\"#000000\" stroke=\"#000000\" points=\"256,-38.5001 266,-35 256,-31.5001 256,-38.5001\"/>\n",
       "<text text-anchor=\"middle\" x=\"224.5\" y=\"-38.8\" font-family=\"Times,serif\" font-size=\"14.00\" fill=\"#8b0000\">Step 2 ✘</text>\n",
       "</g>\n",
       "</g>\n",
       "</svg>\n"
      ],
      "text/plain": [
       "<graphviz.dot.Digraph at 0x7ffb64756c88>"
      ]
     },
     "metadata": {},
     "output_type": "display_data"
    },
    {
     "data": {
      "image/svg+xml": [
       "<?xml version=\"1.0\" encoding=\"UTF-8\" standalone=\"no\"?>\n",
       "<!DOCTYPE svg PUBLIC \"-//W3C//DTD SVG 1.1//EN\"\n",
       " \"http://www.w3.org/Graphics/SVG/1.1/DTD/svg11.dtd\">\n",
       "<!-- Generated by graphviz version 2.40.1 (20161225.0304)\n",
       " -->\n",
       "<!-- Title: %3 Pages: 1 -->\n",
       "<svg width=\"454pt\" height=\"78pt\"\n",
       " viewBox=\"0.00 0.00 454.00 78.00\" xmlns=\"http://www.w3.org/2000/svg\" xmlns:xlink=\"http://www.w3.org/1999/xlink\">\n",
       "<g id=\"graph0\" class=\"graph\" transform=\"scale(1 1) rotate(0) translate(4 74)\">\n",
       "<title>%3</title>\n",
       "<polygon fill=\"#ffffff\" stroke=\"transparent\" points=\"-4,4 -4,-74 450,-74 450,4 -4,4\"/>\n",
       "<!-- input -->\n",
       "<g id=\"node1\" class=\"node\">\n",
       "<title>input</title>\n",
       "<text text-anchor=\"middle\" x=\"28.5\" y=\"-31.3\" font-family=\"Times,serif\" font-size=\"14.00\" fill=\"#006400\">Input ✔</text>\n",
       "</g>\n",
       "<!-- s1 -->\n",
       "<g id=\"node2\" class=\"node\">\n",
       "<title>s1</title>\n",
       "<polygon fill=\"none\" stroke=\"#006400\" points=\"129,-.5 129,-69.5 183,-69.5 183,-.5 129,-.5\"/>\n",
       "<text text-anchor=\"middle\" x=\"156\" y=\"-54.3\" font-family=\"Times,serif\" font-size=\"14.00\" fill=\"#006400\">v1</text>\n",
       "<polyline fill=\"none\" stroke=\"#006400\" points=\"129,-46.5 183,-46.5 \"/>\n",
       "<text text-anchor=\"middle\" x=\"156\" y=\"-31.3\" font-family=\"Times,serif\" font-size=\"14.00\" fill=\"#006400\">v2</text>\n",
       "<polyline fill=\"none\" stroke=\"#006400\" points=\"129,-23.5 183,-23.5 \"/>\n",
       "<text text-anchor=\"middle\" x=\"156\" y=\"-8.3\" font-family=\"Times,serif\" font-size=\"14.00\" fill=\"#006400\">v3</text>\n",
       "</g>\n",
       "<!-- input&#45;&gt;s1 -->\n",
       "<g id=\"edge1\" class=\"edge\">\n",
       "<title>input&#45;&gt;s1</title>\n",
       "<path fill=\"none\" stroke=\"#000000\" d=\"M57.1135,-35C75.2862,-35 98.9986,-35 118.6476,-35\"/>\n",
       "<polygon fill=\"#000000\" stroke=\"#000000\" points=\"118.7923,-38.5001 128.7922,-35 118.7922,-31.5001 118.7923,-38.5001\"/>\n",
       "<text text-anchor=\"middle\" x=\"93\" y=\"-38.8\" font-family=\"Times,serif\" font-size=\"14.00\" fill=\"#000000\">Step 1</text>\n",
       "</g>\n",
       "<!-- s2 -->\n",
       "<g id=\"node3\" class=\"node\">\n",
       "<title>s2</title>\n",
       "<polygon fill=\"none\" stroke=\"#8b0000\" points=\"266,-.5 266,-69.5 320,-69.5 320,-.5 266,-.5\"/>\n",
       "<text text-anchor=\"middle\" x=\"293\" y=\"-54.3\" font-family=\"Times,serif\" font-size=\"14.00\" fill=\"#8b0000\">v1</text>\n",
       "<polyline fill=\"none\" stroke=\"#8b0000\" points=\"266,-46.5 320,-46.5 \"/>\n",
       "<text text-anchor=\"middle\" x=\"293\" y=\"-31.3\" font-family=\"Times,serif\" font-size=\"14.00\" fill=\"#8b0000\">v2 ✘</text>\n",
       "<polyline fill=\"none\" stroke=\"#8b0000\" points=\"266,-23.5 320,-23.5 \"/>\n",
       "<text text-anchor=\"middle\" x=\"293\" y=\"-8.3\" font-family=\"Times,serif\" font-size=\"14.00\" fill=\"#8b0000\">v3</text>\n",
       "</g>\n",
       "<!-- s1&#45;&gt;s2 -->\n",
       "<g id=\"edge2\" class=\"edge\">\n",
       "<title>s1&#45;&gt;s2:v2</title>\n",
       "<path fill=\"none\" stroke=\"#000000\" d=\"M183.1232,-35C202.7781,-35 230.2928,-35 255.918,-35\"/>\n",
       "<polygon fill=\"#000000\" stroke=\"#000000\" points=\"256,-38.5001 266,-35 256,-31.5001 256,-38.5001\"/>\n",
       "<text text-anchor=\"middle\" x=\"224.5\" y=\"-38.8\" font-family=\"Times,serif\" font-size=\"14.00\" fill=\"#8b0000\">Step 2 ✘</text>\n",
       "</g>\n",
       "<!-- s3 -->\n",
       "<g id=\"node4\" class=\"node\">\n",
       "<title>s3</title>\n",
       "<polygon fill=\"none\" stroke=\"#8b0000\" points=\"392,-.5 392,-69.5 446,-69.5 446,-.5 392,-.5\"/>\n",
       "<text text-anchor=\"middle\" x=\"419\" y=\"-54.3\" font-family=\"Times,serif\" font-size=\"14.00\" fill=\"#8b0000\">v1</text>\n",
       "<polyline fill=\"none\" stroke=\"#8b0000\" points=\"392,-46.5 446,-46.5 \"/>\n",
       "<text text-anchor=\"middle\" x=\"419\" y=\"-31.3\" font-family=\"Times,serif\" font-size=\"14.00\" fill=\"#8b0000\">v2 ✘</text>\n",
       "<polyline fill=\"none\" stroke=\"#8b0000\" points=\"392,-23.5 446,-23.5 \"/>\n",
       "<text text-anchor=\"middle\" x=\"419\" y=\"-8.3\" font-family=\"Times,serif\" font-size=\"14.00\" fill=\"#8b0000\">v3</text>\n",
       "</g>\n",
       "<!-- s2&#45;&gt;s3 -->\n",
       "<g id=\"edge3\" class=\"edge\">\n",
       "<title>s2:v2&#45;&gt;s3:v2</title>\n",
       "<path fill=\"none\" stroke=\"#000000\" d=\"M320,-35C348.375,-35 357.8795,-35 381.9792,-35\"/>\n",
       "<polygon fill=\"#000000\" stroke=\"#000000\" points=\"382,-38.5001 392,-35 382,-31.5001 382,-38.5001\"/>\n",
       "<text text-anchor=\"middle\" x=\"356\" y=\"-38.8\" font-family=\"Times,serif\" font-size=\"14.00\" fill=\"#000000\">Step 3</text>\n",
       "</g>\n",
       "</g>\n",
       "</svg>\n"
      ],
      "text/plain": [
       "<graphviz.dot.Digraph at 0x7ffb64756c88>"
      ]
     },
     "metadata": {},
     "output_type": "display_data"
    },
    {
     "data": {
      "image/svg+xml": [
       "<?xml version=\"1.0\" encoding=\"UTF-8\" standalone=\"no\"?>\n",
       "<!DOCTYPE svg PUBLIC \"-//W3C//DTD SVG 1.1//EN\"\n",
       " \"http://www.w3.org/Graphics/SVG/1.1/DTD/svg11.dtd\">\n",
       "<!-- Generated by graphviz version 2.40.1 (20161225.0304)\n",
       " -->\n",
       "<!-- Title: %3 Pages: 1 -->\n",
       "<svg width=\"557pt\" height=\"78pt\"\n",
       " viewBox=\"0.00 0.00 557.00 78.00\" xmlns=\"http://www.w3.org/2000/svg\" xmlns:xlink=\"http://www.w3.org/1999/xlink\">\n",
       "<g id=\"graph0\" class=\"graph\" transform=\"scale(1 1) rotate(0) translate(4 74)\">\n",
       "<title>%3</title>\n",
       "<polygon fill=\"#ffffff\" stroke=\"transparent\" points=\"-4,4 -4,-74 553,-74 553,4 -4,4\"/>\n",
       "<!-- input -->\n",
       "<g id=\"node1\" class=\"node\">\n",
       "<title>input</title>\n",
       "<text text-anchor=\"middle\" x=\"28.5\" y=\"-31.3\" font-family=\"Times,serif\" font-size=\"14.00\" fill=\"#006400\">Input ✔</text>\n",
       "</g>\n",
       "<!-- s1 -->\n",
       "<g id=\"node2\" class=\"node\">\n",
       "<title>s1</title>\n",
       "<polygon fill=\"none\" stroke=\"#006400\" points=\"129,-.5 129,-69.5 183,-69.5 183,-.5 129,-.5\"/>\n",
       "<text text-anchor=\"middle\" x=\"156\" y=\"-54.3\" font-family=\"Times,serif\" font-size=\"14.00\" fill=\"#006400\">v1</text>\n",
       "<polyline fill=\"none\" stroke=\"#006400\" points=\"129,-46.5 183,-46.5 \"/>\n",
       "<text text-anchor=\"middle\" x=\"156\" y=\"-31.3\" font-family=\"Times,serif\" font-size=\"14.00\" fill=\"#006400\">v2</text>\n",
       "<polyline fill=\"none\" stroke=\"#006400\" points=\"129,-23.5 183,-23.5 \"/>\n",
       "<text text-anchor=\"middle\" x=\"156\" y=\"-8.3\" font-family=\"Times,serif\" font-size=\"14.00\" fill=\"#006400\">v3</text>\n",
       "</g>\n",
       "<!-- input&#45;&gt;s1 -->\n",
       "<g id=\"edge1\" class=\"edge\">\n",
       "<title>input&#45;&gt;s1</title>\n",
       "<path fill=\"none\" stroke=\"#000000\" d=\"M57.1135,-35C75.2862,-35 98.9986,-35 118.6476,-35\"/>\n",
       "<polygon fill=\"#000000\" stroke=\"#000000\" points=\"118.7923,-38.5001 128.7922,-35 118.7922,-31.5001 118.7923,-38.5001\"/>\n",
       "<text text-anchor=\"middle\" x=\"93\" y=\"-38.8\" font-family=\"Times,serif\" font-size=\"14.00\" fill=\"#000000\">Step 1</text>\n",
       "</g>\n",
       "<!-- s2 -->\n",
       "<g id=\"node3\" class=\"node\">\n",
       "<title>s2</title>\n",
       "<polygon fill=\"none\" stroke=\"#8b0000\" points=\"266,-.5 266,-69.5 320,-69.5 320,-.5 266,-.5\"/>\n",
       "<text text-anchor=\"middle\" x=\"293\" y=\"-54.3\" font-family=\"Times,serif\" font-size=\"14.00\" fill=\"#8b0000\">v1</text>\n",
       "<polyline fill=\"none\" stroke=\"#8b0000\" points=\"266,-46.5 320,-46.5 \"/>\n",
       "<text text-anchor=\"middle\" x=\"293\" y=\"-31.3\" font-family=\"Times,serif\" font-size=\"14.00\" fill=\"#8b0000\">v2 ✘</text>\n",
       "<polyline fill=\"none\" stroke=\"#8b0000\" points=\"266,-23.5 320,-23.5 \"/>\n",
       "<text text-anchor=\"middle\" x=\"293\" y=\"-8.3\" font-family=\"Times,serif\" font-size=\"14.00\" fill=\"#8b0000\">v3</text>\n",
       "</g>\n",
       "<!-- s1&#45;&gt;s2 -->\n",
       "<g id=\"edge2\" class=\"edge\">\n",
       "<title>s1&#45;&gt;s2:v2</title>\n",
       "<path fill=\"none\" stroke=\"#000000\" d=\"M183.1232,-35C202.7781,-35 230.2928,-35 255.918,-35\"/>\n",
       "<polygon fill=\"#000000\" stroke=\"#000000\" points=\"256,-38.5001 266,-35 256,-31.5001 256,-38.5001\"/>\n",
       "<text text-anchor=\"middle\" x=\"224.5\" y=\"-38.8\" font-family=\"Times,serif\" font-size=\"14.00\" fill=\"#8b0000\">Step 2 ✘</text>\n",
       "</g>\n",
       "<!-- s3 -->\n",
       "<g id=\"node4\" class=\"node\">\n",
       "<title>s3</title>\n",
       "<polygon fill=\"none\" stroke=\"#8b0000\" points=\"392,-.5 392,-69.5 446,-69.5 446,-.5 392,-.5\"/>\n",
       "<text text-anchor=\"middle\" x=\"419\" y=\"-54.3\" font-family=\"Times,serif\" font-size=\"14.00\" fill=\"#8b0000\">v1</text>\n",
       "<polyline fill=\"none\" stroke=\"#8b0000\" points=\"392,-46.5 446,-46.5 \"/>\n",
       "<text text-anchor=\"middle\" x=\"419\" y=\"-31.3\" font-family=\"Times,serif\" font-size=\"14.00\" fill=\"#8b0000\">v2 ✘</text>\n",
       "<polyline fill=\"none\" stroke=\"#8b0000\" points=\"392,-23.5 446,-23.5 \"/>\n",
       "<text text-anchor=\"middle\" x=\"419\" y=\"-8.3\" font-family=\"Times,serif\" font-size=\"14.00\" fill=\"#8b0000\">v3</text>\n",
       "</g>\n",
       "<!-- s2&#45;&gt;s3 -->\n",
       "<g id=\"edge3\" class=\"edge\">\n",
       "<title>s2:v2&#45;&gt;s3:v2</title>\n",
       "<path fill=\"none\" stroke=\"#000000\" d=\"M320,-35C348.375,-35 357.8795,-35 381.9792,-35\"/>\n",
       "<polygon fill=\"#000000\" stroke=\"#000000\" points=\"382,-38.5001 392,-35 382,-31.5001 382,-38.5001\"/>\n",
       "<text text-anchor=\"middle\" x=\"356\" y=\"-38.8\" font-family=\"Times,serif\" font-size=\"14.00\" fill=\"#000000\">Step 3</text>\n",
       "</g>\n",
       "<!-- output -->\n",
       "<g id=\"node5\" class=\"node\">\n",
       "<title>output</title>\n",
       "<text text-anchor=\"middle\" x=\"516\" y=\"-31.3\" font-family=\"Times,serif\" font-size=\"14.00\" fill=\"#8b0000\">Output ✘</text>\n",
       "</g>\n",
       "<!-- s3&#45;&gt;output -->\n",
       "<g id=\"edge4\" class=\"edge\">\n",
       "<title>s3:v2&#45;&gt;output</title>\n",
       "<path fill=\"none\" stroke=\"#000000\" d=\"M446,-35C454.6475,-35 463.8958,-35 472.7429,-35\"/>\n",
       "<polygon fill=\"#000000\" stroke=\"#000000\" points=\"472.8844,-38.5001 482.8843,-35 472.8843,-31.5001 472.8844,-38.5001\"/>\n",
       "</g>\n",
       "</g>\n",
       "</svg>\n"
      ],
      "text/plain": [
       "<graphviz.dot.Digraph at 0x7ffb64756c88>"
      ]
     },
     "metadata": {},
     "output_type": "display_data"
    }
   ],
   "source": [
    "for until in range(1, 6):\n",
    "    execution_diagram(show_steps=True, variables=['v1', 'v2', 'v3'], error_step=2, \n",
    "                      until=until, fault_path=['s2:v2', 's3:v2'])"
   ]
  },
  {
   "cell_type": "markdown",
   "metadata": {},
   "source": [
    "The way these faults propagate is called a *cause-effect chain*:\n",
    "\n",
    "* The _defect_ in the code _causes_ a fault in the state when executed.\n",
    "* This _fault_ in the state then _propagates_ through further execution steps...\n",
    "* ... until it becomes visible as a _failure_.\n",
    "\n",
    "Note that not every defect also causes a failure, which is despite all testing, there can still be defects in the code looming around until the right conditions are met to trigger them. On the other hand, though, _every failure can be traced back to the defect that causes it_.\n",
    "\n",
    "To this end, we _trace back_ these faults along their _dependencies_ – that is, we find out which faults in the earlier state have caused the later faults. We start from the very end of the execution and then gradually progress backwards in time, examining fault after fault until we find a _transition_ from a correct state to a faulty state – that is, a\n",
    "step in which a correct state comes in and a faulty state comes out. At this point, we have found the origin of the failure – and the defect that causes it."
   ]
  },
  {
   "cell_type": "markdown",
   "metadata": {},
   "source": [
    "What sounds like a straight-forward strategy, unfortunately, doesn't always work this way in practice. That is because of the following problems of debugging:\n",
    "\n",
    "* First, program states are actually _large_, encompassing dozens to thousands of variables, possibly even more. If you have to search all of these manually and check them for faults, you will spend a lot of time for a single state.\n",
    "\n",
    "* Second, you do not always know _whether a state is correct or not._ While most programs have some form of specification for their inputs and outputs, these do not necessarily exist for intermediate results. If one had a specification that could check each state for correctness (possibly even automatically), debugging would be trivial. Unfortunately, it is not, and that's partly due to the lack of specifications.\n",
    "\n",
    "* Third, executions typically do not come in a handful of steps, as in the diagrams above; instead, they can easily encompass _thousands to millions of steps._ This means that you will have to examine not just one state, but several, making the problem much worse.\n",
    "\n",
    "To make your search efficient, you thus have to _focus_ your search – starting with most likely causes and gradually progressing to the less probable causes. This is what we call a _debugging strategy_."
   ]
  },
  {
   "cell_type": "markdown",
   "metadata": {},
   "source": []
  },
  {
   "cell_type": "markdown",
   "metadata": {},
   "source": [
    "## Synopsis"
   ]
  },
  {
   "cell_type": "markdown",
   "metadata": {},
   "source": [
    "_For those only interested in using the code in this chapter (without wanting to know how it works), give an example.  This will be copied to the beginning of the chapter (before the first section) as text with rendered input and output._"
   ]
  },
  {
   "cell_type": "markdown",
   "metadata": {
    "button": false,
    "new_sheet": true,
    "run_control": {
     "read_only": false
    }
   },
   "source": [
    "## Lessons Learned\n",
    "\n",
    "* _Lesson one_\n",
    "* _Lesson two_\n",
    "* _Lesson three_"
   ]
  },
  {
   "cell_type": "markdown",
   "metadata": {
    "button": false,
    "new_sheet": false,
    "run_control": {
     "read_only": false
    }
   },
   "source": [
    "## Next Steps\n",
    "\n",
    "_Link to subsequent chapters (notebooks) here, as in:_\n",
    "\n",
    "* [use _mutations_ on existing inputs to get more valid inputs](MutationFuzzer.ipynb)\n",
    "* [use _grammars_ (i.e., a specification of the input format) to get even more valid inputs](Grammars.ipynb)\n",
    "* [reduce _failing inputs_ for efficient debugging](Reducer.ipynb)\n"
   ]
  },
  {
   "cell_type": "markdown",
   "metadata": {},
   "source": [
    "## Background\n",
    "\n",
    "_Cite relevant works in the literature and put them into context, as in:_\n",
    "\n",
    "The idea of ensuring that each expansion in the grammar is used at least once goes back to Burkhardt \\cite{Burkhardt1967}, to be later rediscovered by Paul Purdom \\cite{Purdom1972}."
   ]
  },
  {
   "cell_type": "markdown",
   "metadata": {
    "button": false,
    "new_sheet": true,
    "run_control": {
     "read_only": false
    }
   },
   "source": [
    "## Exercises\n",
    "\n",
    "_Close the chapter with a few exercises such that people have things to do.  To make the solutions hidden (to be revealed by the user), have them start with_\n",
    "\n",
    "```\n",
    "**Solution.**\n",
    "```\n",
    "\n",
    "_Your solution can then extend up to the next title (i.e., any markdown cell starting with `#`)._\n",
    "\n",
    "_Running `make metadata` will automatically add metadata to the cells such that the cells will be hidden by default, and can be uncovered by the user.  The button will be introduced above the solution._"
   ]
  },
  {
   "cell_type": "markdown",
   "metadata": {
    "button": false,
    "new_sheet": false,
    "run_control": {
     "read_only": false
    }
   },
   "source": [
    "### Exercise 1: _Title_\n",
    "\n",
    "_Text of the exercise_"
   ]
  },
  {
   "cell_type": "code",
   "execution_count": 305,
   "metadata": {
    "cell_style": "center"
   },
   "outputs": [],
   "source": [
    "# Some code that is part of the exercise\n",
    "pass"
   ]
  },
  {
   "cell_type": "markdown",
   "metadata": {
    "solution2": "hidden",
    "solution2_first": true
   },
   "source": [
    "_Some more text for the exercise_"
   ]
  },
  {
   "cell_type": "markdown",
   "metadata": {
    "slideshow": {
     "slide_type": "skip"
    },
    "solution2": "hidden"
   },
   "source": [
    "**Solution.** _Some text for the solution_"
   ]
  },
  {
   "cell_type": "code",
   "execution_count": 306,
   "metadata": {
    "cell_style": "split",
    "slideshow": {
     "slide_type": "skip"
    },
    "solution2": "hidden"
   },
   "outputs": [
    {
     "data": {
      "text/plain": [
       "4"
      ]
     },
     "execution_count": 306,
     "metadata": {},
     "output_type": "execute_result"
    }
   ],
   "source": [
    "# Some code for the solution\n",
    "2 + 2"
   ]
  },
  {
   "cell_type": "markdown",
   "metadata": {
    "slideshow": {
     "slide_type": "skip"
    },
    "solution2": "hidden"
   },
   "source": [
    "_Some more text for the solution_"
   ]
  },
  {
   "cell_type": "markdown",
   "metadata": {
    "button": false,
    "new_sheet": false,
    "run_control": {
     "read_only": false
    },
    "solution": "hidden",
    "solution2": "hidden",
    "solution2_first": true,
    "solution_first": true
   },
   "source": [
    "### Exercise 2: _Title_\n",
    "\n",
    "_Text of the exercise_"
   ]
  },
  {
   "cell_type": "markdown",
   "metadata": {
    "button": false,
    "new_sheet": false,
    "run_control": {
     "read_only": false
    },
    "slideshow": {
     "slide_type": "skip"
    },
    "solution": "hidden",
    "solution2": "hidden"
   },
   "source": [
    "**Solution.** _Solution for the exercise_"
   ]
  }
 ],
 "metadata": {
  "ipub": {
   "bibliography": "fuzzingbook.bib",
   "toc": true
  },
  "kernelspec": {
   "display_name": "Python 3",
   "language": "python",
   "name": "python3"
  },
  "language_info": {
   "codemirror_mode": {
    "name": "ipython",
    "version": 3
   },
   "file_extension": ".py",
   "mimetype": "text/x-python",
   "name": "python",
   "nbconvert_exporter": "python",
   "pygments_lexer": "ipython3",
   "version": "3.6.8"
  },
  "toc": {
   "base_numbering": 1,
   "nav_menu": {},
   "number_sections": true,
   "sideBar": true,
   "skip_h1_title": true,
   "title_cell": "",
   "title_sidebar": "Contents",
   "toc_cell": false,
   "toc_position": {},
   "toc_section_display": true,
   "toc_window_display": true
  }
 },
 "nbformat": 4,
 "nbformat_minor": 2
}
