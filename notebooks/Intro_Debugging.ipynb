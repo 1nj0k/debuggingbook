{
 "cells": [
  {
   "cell_type": "markdown",
   "metadata": {
    "button": false,
    "new_sheet": false,
    "run_control": {
     "read_only": false
    }
   },
   "source": [
    "# Introduction to Debugging\n",
    "\n",
    "In this book, we want to explore _debugging_ - the art and science of fixing bugs in computer software. In particular, we want to explore techniques that _automatically_ answer questions like: Where is the bug? When does it occur? And how can we repair it? But before we start automating the debugging process, we first need to understand what this process is.\n",
    "\n",
    "In this chapter, we introduce basic concepts of systematic software debugging and the debugging process, and at the same time get acquainted with Python and interactive notebooks."
   ]
  },
  {
   "cell_type": "markdown",
   "metadata": {
    "button": false,
    "new_sheet": false,
    "run_control": {
     "read_only": false
    }
   },
   "source": [
    "**Prerequisites**\n",
    "\n",
    "* The book is meant to be a standalone reference; however, a number of _great books on debugging_ are listed at the end,\n",
    "* Knowing a bit of _Python_ is helpful for understanding the code examples in the book."
   ]
  },
  {
   "cell_type": "code",
   "execution_count": 627,
   "metadata": {},
   "outputs": [],
   "source": [
    "import bookutils"
   ]
  },
  {
   "cell_type": "markdown",
   "metadata": {
    "button": false,
    "new_sheet": true,
    "run_control": {
     "read_only": false
    },
    "toc-hr-collapsed": true
   },
   "source": [
    "## A Simple Function\n",
    "\n",
    "### Your Task: Remove HTML Markup\n",
    "\n",
    "Let us start with a simple example. You may have heard of how documents on the Web are made out of text and HTML markup. HTML markup consists of _tags_ in angle brackets that surround the text, providing additional information on how the text should be interpreted. For instance, in the HTML text\n",
    "\n",
    "```html\n",
    "This is <em>emphasized</em>.\n",
    "```\n",
    "\n",
    "the word \"emphasized\" is enclosed in the HTML tags `<em>` (start) and `</em>` (end), meaning that it should be interpreted (and rendered) in an emphasized way – typically in italics. In your environment, the HTML text gets rendered as\n",
    "\n",
    "> This is <em>emphasized</em>.\n",
    "\n",
    "There's HTML tags for pretty much everything – text markup (<strong>bold</strong> text, <s>strikethrough</s> text), text structure (titles, lists), references (links) to other documents, and many more. These HTML tags shape the Web as we know it."
   ]
  },
  {
   "cell_type": "markdown",
   "metadata": {},
   "source": [
    "However, within all the HTML markup, it may become difficult to actually access the _text_ that lies within. We'd like to implement a simple function that removes _HTML markup_ and converts it into text. If our input is\n",
    "\n",
    "```html\n",
    "Here's some <strong>strong argument</strong>.\n",
    "```\n",
    "the output should be\n",
    "\n",
    "> Here's some strong argument."
   ]
  },
  {
   "cell_type": "markdown",
   "metadata": {},
   "source": [
    "Here's a Python function which does exactly this. It takes a (HTML) string and returns the text without markup."
   ]
  },
  {
   "cell_type": "code",
   "execution_count": 628,
   "metadata": {},
   "outputs": [],
   "source": [
    "def remove_html_markup(s):\n",
    "    tag   = False\n",
    "    out   = \"\"\n",
    "\n",
    "    for c in s:\n",
    "        if c == '<':   # start of markup\n",
    "            tag = True\n",
    "        elif c == '>': # end of markup\n",
    "            tag = False\n",
    "        elif not tag:\n",
    "            out = out + c\n",
    "    \n",
    "    return out"
   ]
  },
  {
   "cell_type": "markdown",
   "metadata": {},
   "source": [
    "This function works, but not always. Before we start debugging things, let us first explore its code and how it works."
   ]
  },
  {
   "cell_type": "markdown",
   "metadata": {},
   "source": [
    "### Understanding Python Programs\n",
    "\n",
    "If you're new to Python, you might first have to understand what the above code does.  We very much recommend the [Python tutorial](https://docs.python.org/3/tutorial/) to get an idea on how Python works.  The most important things for you to understand the above code are these three:\n",
    "\n",
    "1. Python structures programs through _indentation_, so the function and `for` bodies are defined by being indented;\n",
    "2. Python is _dynamically typed_, meaning that the type of variables like `x`, `approx`, or `guess` is determined at run-time.\n",
    "3. Most of Python's syntactic features are inspired by other common languages, such as control structures (`while`, `if`, `for`), assignments (`=`), or comparisons (`==`, `!=`, `<`).\n",
    "\n",
    "With that, you can already understand what the above code does: `remove_html_markup()` takes a (HTML) string `s` and then iterates over the individual characters (`for c in s`). By default, these characters are added to the return string `out`. However, if `remove_html_markup()` finds a `<` character, it sets the `tag` flag, meaning that all further characters are ignored until a `>` character is found.\n",
    "\n",
    "In contrast to other languages, Python makes no difference between strings and characters – there's only strings. As in HTML, strings can be enclosed in single quotes (`'a'`) and in double quotes (`\"a\"`). This is useful if you want to specify a string that contains quotes, as in `'She said \"hello\", and then left'` or `\"The first character is a 'c'\"`"
   ]
  },
  {
   "cell_type": "markdown",
   "metadata": {},
   "source": [
    "### Running a Function\n",
    "\n",
    "To find out whether `remove_html_markup()` works correctly, we can *test* it with a few values.  For the string\n",
    "\n",
    "```html\n",
    "Here's some <strong>strong argument</strong>.\n",
    "```\n",
    "\n",
    "for instance, it produces the correct value:"
   ]
  },
  {
   "cell_type": "code",
   "execution_count": 629,
   "metadata": {},
   "outputs": [
    {
     "data": {
      "text/plain": [
       "\"Here's some strong argument.\""
      ]
     },
     "execution_count": 629,
     "metadata": {},
     "output_type": "execute_result"
    }
   ],
   "source": [
    "remove_html_markup(\"Here's some <strong>strong argument</strong>.\")"
   ]
  },
  {
   "cell_type": "markdown",
   "metadata": {},
   "source": [
    "### Interacting with Notebooks\n",
    "\n",
    "If you are reading this in the interactive notebook, you can try out `remove_html_markup()` with other values as well.  Click on the above cells with the invocation of `remove_html_markup()` and change the value – say, to `remove_html_markup(\"<em>foo</em>\")`.  Press `Shift+Enter` (or click on the play symbol) to execute it and see the result.  If you get an error message, go to the above cell with the definition of `remobve_html_markup()` and execute this first.  You can also run _all_ cells at once; see the Notebook menu for details.  (You can actually also change the text by clicking on it, and corect mistaks such as in this sentence.)"
   ]
  },
  {
   "cell_type": "markdown",
   "metadata": {},
   "source": [
    "Executing a single cell does not execute other cells, so if your cell builds on a definition in another cell that you have not executed yet, you will get an error.  You can select `Run all cells above` from the menu to ensure all definitions are set."
   ]
  },
  {
   "cell_type": "markdown",
   "metadata": {},
   "source": [
    "Also keep in mind that, unless overwritten, all definitions are kept across executions.  Occasionally, it thus helps to _restart the kernel_ (i.e. start the Python interpreter from scratch) to get rid of older, superfluous definitions."
   ]
  },
  {
   "cell_type": "markdown",
   "metadata": {
    "toc-hr-collapsed": false
   },
   "source": [
    "### Testing a Function"
   ]
  },
  {
   "cell_type": "markdown",
   "metadata": {},
   "source": [
    "Since one can change not only invocations, but also definitions, we want to ensure that our function works properly now and in the future. To this end, we introduce tests through _assertions_ – a statement that fails if the given _check_ is false. The following assertion, for instance, checks that the above call to `remove_html_markup()` returns the correct value:"
   ]
  },
  {
   "cell_type": "code",
   "execution_count": 630,
   "metadata": {},
   "outputs": [],
   "source": [
    "assert remove_html_markup(\"Here's some <strong>strong argument</strong>.\") == \"Here's some strong argument.\""
   ]
  },
  {
   "cell_type": "markdown",
   "metadata": {},
   "source": [
    "If you change the code of `remove_html_markup()` such that the above assertion fails, you will have introduced a bug."
   ]
  },
  {
   "cell_type": "markdown",
   "metadata": {},
   "source": [
    "## Oops! A Bug!"
   ]
  },
  {
   "cell_type": "markdown",
   "metadata": {},
   "source": [
    "As nice and simple as `remove_html_markup()` is, it is buggy. Some HTML markup is not properly stripped away. Consider this HTML tag, which would render as an input field in a form:\n",
    "\n",
    "```html\n",
    "<input type=\"text\" value=\"<your name>\">\n",
    "```\n",
    "If we feed this string into `remove_html_markup()`, we would expect an empty string as the result. Instead, this is what we get:"
   ]
  },
  {
   "cell_type": "code",
   "execution_count": 631,
   "metadata": {},
   "outputs": [
    {
     "data": {
      "text/plain": [
       "'\"'"
      ]
     },
     "execution_count": 631,
     "metadata": {},
     "output_type": "execute_result"
    }
   ],
   "source": [
    "remove_html_markup('<input type=\"text\" value=\"<your name>\">')"
   ]
  },
  {
   "cell_type": "markdown",
   "metadata": {},
   "source": [
    "Every time we encounter a bug, this means that our earlier tests have failed. We thus need to introduce another test that documents not only how the bug came to be, but also the result we actually expected."
   ]
  },
  {
   "cell_type": "markdown",
   "metadata": {},
   "source": [
    "The assertion we write now fails with an error message. (The `ExpectError` magic ensures we see the error message, but the rest of the notebook is still executed.)"
   ]
  },
  {
   "cell_type": "code",
   "execution_count": 632,
   "metadata": {},
   "outputs": [],
   "source": [
    "from ExpectError import ExpectError"
   ]
  },
  {
   "cell_type": "code",
   "execution_count": 633,
   "metadata": {},
   "outputs": [
    {
     "name": "stderr",
     "output_type": "stream",
     "text": [
      "Traceback (most recent call last):\n",
      "  File \"<ipython-input-633-c7b482ebf524>\", line 2, in <module>\n",
      "    assert remove_html_markup('<input type=\"text\" value=\"<your name>\">') == \"\"\n",
      "AssertionError (expected)\n"
     ]
    }
   ],
   "source": [
    "with ExpectError():\n",
    "    assert remove_html_markup('<input type=\"text\" value=\"<your name>\">') == \"\""
   ]
  },
  {
   "cell_type": "markdown",
   "metadata": {},
   "source": [
    "With this, we now have our task: _Fix the failure as above._"
   ]
  },
  {
   "cell_type": "markdown",
   "metadata": {},
   "source": [
    "## Visualizing Code\n",
    "\n",
    "To properly understand what is going on here, it helps drawing a diagram on how `remove_html_markup()` works. Technically, `remove_html_markup()` implements a _state machine_ with two states `tag` and `¬ tag`. We change between these states depending on the characters we process. This is visualized in the following diagram:"
   ]
  },
  {
   "cell_type": "code",
   "execution_count": 634,
   "metadata": {},
   "outputs": [],
   "source": [
    "from graphviz import Digraph, nohtml"
   ]
  },
  {
   "cell_type": "code",
   "execution_count": 635,
   "metadata": {},
   "outputs": [],
   "source": [
    "from IPython.display import display"
   ]
  },
  {
   "cell_type": "code",
   "execution_count": 636,
   "metadata": {
    "ipub": {
     "ignore": true
    }
   },
   "outputs": [],
   "source": [
    "PASS = \"✔\"\n",
    "FAIL = \"✘\"\n",
    "\n",
    "PASS_COLOR = 'darkgreen'  # '#006400' # darkgreen\n",
    "FAIL_COLOR = 'red4'  # '#8B0000' # darkred\n",
    "\n",
    "STEP_COLOR = 'peachpuff'\n",
    "FONT_NAME = 'Raleway'"
   ]
  },
  {
   "cell_type": "code",
   "execution_count": 637,
   "metadata": {},
   "outputs": [],
   "source": [
    "def graph(comment=\"default\"):\n",
    "    return Digraph(comment=comment, graph_attr={'rankdir': 'LR'}, \n",
    "        node_attr={'style': 'filled', 'fillcolor': STEP_COLOR, 'fontname': FONT_NAME},\n",
    "        edge_attr={'fontname': FONT_NAME})"
   ]
  },
  {
   "cell_type": "code",
   "execution_count": 638,
   "metadata": {},
   "outputs": [
    {
     "data": {
      "image/svg+xml": [
       "<?xml version=\"1.0\" encoding=\"UTF-8\" standalone=\"no\"?>\n",
       "<!DOCTYPE svg PUBLIC \"-//W3C//DTD SVG 1.1//EN\"\n",
       " \"http://www.w3.org/Graphics/SVG/1.1/DTD/svg11.dtd\">\n",
       "<!-- Generated by graphviz version 2.40.1 (20161225.0304)\n",
       " -->\n",
       "<!-- Title: %3 Pages: 1 -->\n",
       "<svg width=\"271pt\" height=\"94pt\"\n",
       " viewBox=\"0.00 0.00 271.19 94.10\" xmlns=\"http://www.w3.org/2000/svg\" xmlns:xlink=\"http://www.w3.org/1999/xlink\">\n",
       "<g id=\"graph0\" class=\"graph\" transform=\"scale(1 1) rotate(0) translate(4 90.1016)\">\n",
       "<title>%3</title>\n",
       "<polygon fill=\"#ffffff\" stroke=\"transparent\" points=\"-4,4 -4,-90.1016 267.1892,-90.1016 267.1892,4 -4,4\"/>\n",
       "<!-- Start -->\n",
       "<g id=\"node1\" class=\"node\">\n",
       "<title>Start</title>\n",
       "<ellipse fill=\"#ffdab9\" stroke=\"#000000\" cx=\"29.8973\" cy=\"-20.1016\" rx=\"29.795\" ry=\"18\"/>\n",
       "<text text-anchor=\"middle\" x=\"29.8973\" y=\"-16.4016\" font-family=\"Raleway\" font-size=\"14.00\" fill=\"#000000\">Start</text>\n",
       "</g>\n",
       "<!-- ¬ tag -->\n",
       "<g id=\"node2\" class=\"node\">\n",
       "<title>¬ tag</title>\n",
       "<ellipse fill=\"#ffdab9\" stroke=\"#000000\" cx=\"127.9919\" cy=\"-20.1016\" rx=\"31.3957\" ry=\"18\"/>\n",
       "<text text-anchor=\"middle\" x=\"127.9919\" y=\"-16.4016\" font-family=\"Raleway\" font-size=\"14.00\" fill=\"#000000\">¬ tag</text>\n",
       "</g>\n",
       "<!-- Start&#45;&gt;¬ tag -->\n",
       "<g id=\"edge1\" class=\"edge\">\n",
       "<title>Start&#45;&gt;¬ tag</title>\n",
       "<path fill=\"none\" stroke=\"#000000\" d=\"M59.862,-20.1016C68.2043,-20.1016 77.4193,-20.1016 86.3045,-20.1016\"/>\n",
       "<polygon fill=\"#000000\" stroke=\"#000000\" points=\"86.5114,-23.6017 96.5114,-20.1016 86.5114,-16.6017 86.5114,-23.6017\"/>\n",
       "</g>\n",
       "<!-- ¬ tag&#45;&gt;¬ tag -->\n",
       "<g id=\"edge2\" class=\"edge\">\n",
       "<title>¬ tag&#45;&gt;¬ tag</title>\n",
       "<path fill=\"none\" stroke=\"#000000\" d=\"M119.4226,-37.5115C117.823,-47.1895 120.6794,-56.1016 127.9919,-56.1016 132.5622,-56.1016 135.3919,-52.6203 136.4809,-47.6466\"/>\n",
       "<polygon fill=\"#000000\" stroke=\"#000000\" points=\"139.9818,-47.539 136.5613,-37.5115 132.982,-47.4834 139.9818,-47.539\"/>\n",
       "<text text-anchor=\"middle\" x=\"127.9919\" y=\"-74.9016\" font-family=\"Raleway\" font-size=\"14.00\" fill=\"#000000\"> ¬ &#39;&lt;&#39;</text>\n",
       "<text text-anchor=\"middle\" x=\"127.9919\" y=\"-59.9016\" font-family=\"Raleway\" font-size=\"14.00\" fill=\"#000000\">add character</text>\n",
       "</g>\n",
       "<!-- tag -->\n",
       "<g id=\"node3\" class=\"node\">\n",
       "<title>tag</title>\n",
       "<ellipse fill=\"#ffdab9\" stroke=\"#000000\" cx=\"236.1892\" cy=\"-20.1016\" rx=\"27\" ry=\"18\"/>\n",
       "<text text-anchor=\"middle\" x=\"236.1892\" y=\"-16.4016\" font-family=\"Raleway\" font-size=\"14.00\" fill=\"#000000\">tag</text>\n",
       "</g>\n",
       "<!-- ¬ tag&#45;&gt;tag -->\n",
       "<g id=\"edge3\" class=\"edge\">\n",
       "<title>¬ tag&#45;&gt;tag</title>\n",
       "<path fill=\"none\" stroke=\"#000000\" d=\"M159.287,-20.1016C171.6972,-20.1016 186.067,-20.1016 199.0026,-20.1016\"/>\n",
       "<polygon fill=\"#000000\" stroke=\"#000000\" points=\"199.0043,-23.6017 209.0043,-20.1016 199.0042,-16.6017 199.0043,-23.6017\"/>\n",
       "<text text-anchor=\"middle\" x=\"184.1892\" y=\"-23.9016\" font-family=\"Raleway\" font-size=\"14.00\" fill=\"#000000\">&#39;&lt;&#39;</text>\n",
       "</g>\n",
       "<!-- tag&#45;&gt;¬ tag -->\n",
       "<g id=\"edge4\" class=\"edge\">\n",
       "<title>tag&#45;&gt;¬ tag</title>\n",
       "<path fill=\"none\" stroke=\"#000000\" d=\"M214.7781,-9.0064C207.4913,-5.7928 199.1684,-2.7171 191.1892,-1.1016 180.9146,.9786 169.9112,-.8555 160.0127,-4.0715\"/>\n",
       "<polygon fill=\"#000000\" stroke=\"#000000\" points=\"158.663,-.84 150.5503,-7.6544 161.1417,-7.3865 158.663,-.84\"/>\n",
       "<text text-anchor=\"middle\" x=\"184.1892\" y=\"-4.9016\" font-family=\"Raleway\" font-size=\"14.00\" fill=\"#000000\">&#39;&gt;&#39;</text>\n",
       "</g>\n",
       "<!-- tag&#45;&gt;tag -->\n",
       "<g id=\"edge5\" class=\"edge\">\n",
       "<title>tag&#45;&gt;tag</title>\n",
       "<path fill=\"none\" stroke=\"#000000\" d=\"M226.9747,-37.1389C225.0942,-46.9595 228.1657,-56.1016 236.1892,-56.1016 241.2038,-56.1016 244.2841,-52.5305 245.43,-47.4545\"/>\n",
       "<polygon fill=\"#000000\" stroke=\"#000000\" points=\"248.9293,-47.1299 245.4036,-37.1389 241.9293,-47.1479 248.9293,-47.1299\"/>\n",
       "<text text-anchor=\"middle\" x=\"236.1892\" y=\"-59.9016\" font-family=\"Raleway\" font-size=\"14.00\" fill=\"#000000\">¬ &#39;&gt;&#39;</text>\n",
       "</g>\n",
       "</g>\n",
       "</svg>\n"
      ],
      "text/plain": [
       "<graphviz.dot.Digraph at 0x7ffb648f9080>"
      ]
     },
     "metadata": {},
     "output_type": "display_data"
    }
   ],
   "source": [
    "dot = graph()\n",
    "dot.node('Start', )\n",
    "dot.edge('Start', '¬ tag')\n",
    "dot.edge('¬ tag', '¬ tag', label=\" ¬ '<'\\nadd character\")\n",
    "dot.edge('¬ tag', 'tag', label=\"'<'\")\n",
    "dot.edge('tag', '¬ tag', label=\"'>'\")\n",
    "dot.edge('tag', 'tag', label=\"¬ '>'\")\n",
    "display(dot)"
   ]
  },
  {
   "cell_type": "markdown",
   "metadata": {},
   "source": [
    "You see that we start in the non-tag state (`¬ tag`). Here, for every character that is not `'<'`, we add the character and stay in the same state. When we read a `'<'`, though, we end in the tag state (`tag`) and stay in that state (skipping characters) until we find a closing `'>'` character."
   ]
  },
  {
   "cell_type": "markdown",
   "metadata": {
    "toc-hr-collapsed": true
   },
   "source": [
    "## A First Fix\n",
    "\n",
    "Let us now look at the above state machine, and process through our input:\n",
    "\n",
    "```html\n",
    "<input type=\"text\" value=\"<your name>\">\n",
    "```"
   ]
  },
  {
   "cell_type": "markdown",
   "metadata": {},
   "source": [
    "So what you can see is: We are interpreting the `'>'` of `\"<your name>\"` as the closing of the tag. However, this is a quoted string, so the `'>'` should be interpreted as a regular character, not as markup. This is an example of _missing functionality:_ We do not handle quoted characters correctly. We haven't claimed yet to take care of all functionality, so we still need to extend our code."
   ]
  },
  {
   "cell_type": "markdown",
   "metadata": {},
   "source": [
    "So we extend the whole thing.  We set up a special \"quote\" state which processes quoted inputs in tags until the end of the quoted string is reached. This is how the state machine looks like:"
   ]
  },
  {
   "cell_type": "code",
   "execution_count": 639,
   "metadata": {
    "ipub": {
     "ignore": true
    }
   },
   "outputs": [],
   "source": [
    "dot = graph()\n",
    "dot.node('Start')\n",
    "dot.edge('Start', '¬ quote\\n¬ tag')\n",
    "dot.edge('¬ quote\\n¬ tag', '¬ quote\\n¬ tag', label=\"¬ '<'\\nadd character\")\n",
    "dot.edge('¬ quote\\n¬ tag', '¬ quote\\ntag', label=\"'<'\")\n",
    "dot.edge('¬ quote\\ntag', 'quote\\ntag', label=\"'\\\"'\")\n",
    "dot.edge('¬ quote\\ntag', '¬ quote\\ntag', label=\"¬ '\\\"' ∧ ¬ '>'\")\n",
    "dot.edge('quote\\ntag', 'quote\\ntag', label=\"¬ '\\\"'\")\n",
    "dot.edge('quote\\ntag', '¬ quote\\ntag', label=\"'\\\"'\")\n",
    "dot.edge('¬ quote\\ntag', '¬ quote\\n¬ tag', label=\"'>'\")"
   ]
  },
  {
   "cell_type": "code",
   "execution_count": 640,
   "metadata": {},
   "outputs": [
    {
     "data": {
      "image/svg+xml": [
       "<?xml version=\"1.0\" encoding=\"UTF-8\" standalone=\"no\"?>\n",
       "<!DOCTYPE svg PUBLIC \"-//W3C//DTD SVG 1.1//EN\"\n",
       " \"http://www.w3.org/Graphics/SVG/1.1/DTD/svg11.dtd\">\n",
       "<!-- Generated by graphviz version 2.40.1 (20161225.0304)\n",
       " -->\n",
       "<!-- Title: %3 Pages: 1 -->\n",
       "<svg width=\"456pt\" height=\"110pt\"\n",
       " viewBox=\"0.00 0.00 456.35 109.74\" xmlns=\"http://www.w3.org/2000/svg\" xmlns:xlink=\"http://www.w3.org/1999/xlink\">\n",
       "<g id=\"graph0\" class=\"graph\" transform=\"scale(1 1) rotate(0) translate(4 105.7401)\">\n",
       "<title>%3</title>\n",
       "<polygon fill=\"#ffffff\" stroke=\"transparent\" points=\"-4,4 -4,-105.7401 452.3531,-105.7401 452.3531,4 -4,4\"/>\n",
       "<!-- Start -->\n",
       "<g id=\"node1\" class=\"node\">\n",
       "<title>Start</title>\n",
       "<ellipse fill=\"#ffdab9\" stroke=\"#000000\" cx=\"29.8973\" cy=\"-26.8701\" rx=\"29.795\" ry=\"18\"/>\n",
       "<text text-anchor=\"middle\" x=\"29.8973\" y=\"-23.1701\" font-family=\"Raleway\" font-size=\"14.00\" fill=\"#000000\">Start</text>\n",
       "</g>\n",
       "<!-- ¬ quote\n",
       "¬ tag -->\n",
       "<g id=\"node2\" class=\"node\">\n",
       "<title>¬ quote\n",
       "¬ tag</title>\n",
       "<ellipse fill=\"#ffdab9\" stroke=\"#000000\" cx=\"142.0495\" cy=\"-26.8701\" rx=\"45.011\" ry=\"26.7407\"/>\n",
       "<text text-anchor=\"middle\" x=\"142.0495\" y=\"-30.6701\" font-family=\"Raleway\" font-size=\"14.00\" fill=\"#000000\">¬ quote</text>\n",
       "<text text-anchor=\"middle\" x=\"142.0495\" y=\"-15.6701\" font-family=\"Raleway\" font-size=\"14.00\" fill=\"#000000\">¬ tag</text>\n",
       "</g>\n",
       "<!-- Start&#45;&gt;¬ quote\n",
       "¬ tag -->\n",
       "<g id=\"edge1\" class=\"edge\">\n",
       "<title>Start&#45;&gt;¬ quote\n",
       "¬ tag</title>\n",
       "<path fill=\"none\" stroke=\"#000000\" d=\"M59.9521,-26.8701C68.1549,-26.8701 77.3122,-26.8701 86.4526,-26.8701\"/>\n",
       "<polygon fill=\"#000000\" stroke=\"#000000\" points=\"86.7133,-30.3702 96.7133,-26.8701 86.7133,-23.3702 86.7133,-30.3702\"/>\n",
       "</g>\n",
       "<!-- ¬ quote\n",
       "¬ tag&#45;&gt;¬ quote\n",
       "¬ tag -->\n",
       "<g id=\"edge2\" class=\"edge\">\n",
       "<title>¬ quote\n",
       "¬ tag&#45;&gt;¬ quote\n",
       "¬ tag</title>\n",
       "<path fill=\"none\" stroke=\"#000000\" d=\"M130.4699,-53.1406C129.9553,-63.2978 133.8152,-71.7401 142.0495,-71.7401 147.3247,-71.7401 150.8045,-68.2754 152.4891,-63.1146\"/>\n",
       "<polygon fill=\"#000000\" stroke=\"#000000\" points=\"155.9708,-63.4734 153.6291,-53.1406 149.016,-62.6784 155.9708,-63.4734\"/>\n",
       "<text text-anchor=\"middle\" x=\"142.0495\" y=\"-90.5401\" font-family=\"Raleway\" font-size=\"14.00\" fill=\"#000000\">¬ &#39;&lt;&#39;</text>\n",
       "<text text-anchor=\"middle\" x=\"142.0495\" y=\"-75.5401\" font-family=\"Raleway\" font-size=\"14.00\" fill=\"#000000\">add character</text>\n",
       "</g>\n",
       "<!-- ¬ quote\n",
       "tag -->\n",
       "<g id=\"node3\" class=\"node\">\n",
       "<title>¬ quote\n",
       "tag</title>\n",
       "<ellipse fill=\"#ffdab9\" stroke=\"#000000\" cx=\"282.5592\" cy=\"-26.8701\" rx=\"45.011\" ry=\"26.7407\"/>\n",
       "<text text-anchor=\"middle\" x=\"282.5592\" y=\"-30.6701\" font-family=\"Raleway\" font-size=\"14.00\" fill=\"#000000\">¬ quote</text>\n",
       "<text text-anchor=\"middle\" x=\"282.5592\" y=\"-15.6701\" font-family=\"Raleway\" font-size=\"14.00\" fill=\"#000000\">tag</text>\n",
       "</g>\n",
       "<!-- ¬ quote\n",
       "¬ tag&#45;&gt;¬ quote\n",
       "tag -->\n",
       "<g id=\"edge3\" class=\"edge\">\n",
       "<title>¬ quote\n",
       "¬ tag&#45;&gt;¬ quote\n",
       "tag</title>\n",
       "<path fill=\"none\" stroke=\"#000000\" d=\"M187.669,-26.8701C200.1885,-26.8701 213.903,-26.8701 226.9175,-26.8701\"/>\n",
       "<polygon fill=\"#000000\" stroke=\"#000000\" points=\"227.1687,-30.3702 237.1686,-26.8701 227.1686,-23.3702 227.1687,-30.3702\"/>\n",
       "<text text-anchor=\"middle\" x=\"212.3044\" y=\"-30.6701\" font-family=\"Raleway\" font-size=\"14.00\" fill=\"#000000\">&#39;&lt;&#39;</text>\n",
       "</g>\n",
       "<!-- ¬ quote\n",
       "tag&#45;&gt;¬ quote\n",
       "¬ tag -->\n",
       "<g id=\"edge8\" class=\"edge\">\n",
       "<title>¬ quote\n",
       "tag&#45;&gt;¬ quote\n",
       "¬ tag</title>\n",
       "<path fill=\"none\" stroke=\"#000000\" d=\"M245.1217,-11.6228C232.5666,-8.1323 218.423,-5.9424 205.3044,-7.8701 200.5893,-8.5629 195.7379,-9.5316 190.9187,-10.6683\"/>\n",
       "<polygon fill=\"#000000\" stroke=\"#000000\" points=\"189.93,-7.3088 181.1261,-13.203 191.6841,-14.0855 189.93,-7.3088\"/>\n",
       "<text text-anchor=\"middle\" x=\"212.3044\" y=\"-11.6701\" font-family=\"Raleway\" font-size=\"14.00\" fill=\"#000000\">&#39;&gt;&#39;</text>\n",
       "</g>\n",
       "<!-- ¬ quote\n",
       "tag&#45;&gt;¬ quote\n",
       "tag -->\n",
       "<g id=\"edge5\" class=\"edge\">\n",
       "<title>¬ quote\n",
       "tag&#45;&gt;¬ quote\n",
       "tag</title>\n",
       "<path fill=\"none\" stroke=\"#000000\" d=\"M269.887,-52.6914C269.1711,-63.0476 273.3951,-71.7401 282.5592,-71.7401 288.4299,-71.7401 292.2733,-68.1727 294.0892,-62.8859\"/>\n",
       "<polygon fill=\"#000000\" stroke=\"#000000\" points=\"297.5962,-63.0189 295.2314,-52.6914 290.6397,-62.2395 297.5962,-63.0189\"/>\n",
       "<text text-anchor=\"middle\" x=\"282.5592\" y=\"-75.5401\" font-family=\"Raleway\" font-size=\"14.00\" fill=\"#000000\">¬ &#39;&quot;&#39; ∧ ¬ &#39;&gt;&#39;</text>\n",
       "</g>\n",
       "<!-- quote\n",
       "tag -->\n",
       "<g id=\"node4\" class=\"node\">\n",
       "<title>quote\n",
       "tag</title>\n",
       "<ellipse fill=\"#ffdab9\" stroke=\"#000000\" cx=\"411.5836\" cy=\"-26.8701\" rx=\"36.5405\" ry=\"26.7407\"/>\n",
       "<text text-anchor=\"middle\" x=\"411.5836\" y=\"-30.6701\" font-family=\"Raleway\" font-size=\"14.00\" fill=\"#000000\">quote</text>\n",
       "<text text-anchor=\"middle\" x=\"411.5836\" y=\"-15.6701\" font-family=\"Raleway\" font-size=\"14.00\" fill=\"#000000\">tag</text>\n",
       "</g>\n",
       "<!-- ¬ quote\n",
       "tag&#45;&gt;quote\n",
       "tag -->\n",
       "<g id=\"edge4\" class=\"edge\">\n",
       "<title>¬ quote\n",
       "tag&#45;&gt;quote\n",
       "tag</title>\n",
       "<path fill=\"none\" stroke=\"#000000\" d=\"M328.0484,-26.8701C339.8325,-26.8701 352.5466,-26.8701 364.4148,-26.8701\"/>\n",
       "<polygon fill=\"#000000\" stroke=\"#000000\" points=\"364.5821,-30.3702 374.582,-26.8701 364.582,-23.3702 364.5821,-30.3702\"/>\n",
       "<text text-anchor=\"middle\" x=\"351.314\" y=\"-30.6701\" font-family=\"Raleway\" font-size=\"14.00\" fill=\"#000000\">&#39;&quot;&#39;</text>\n",
       "</g>\n",
       "<!-- quote\n",
       "tag&#45;&gt;¬ quote\n",
       "tag -->\n",
       "<g id=\"edge7\" class=\"edge\">\n",
       "<title>quote\n",
       "tag&#45;&gt;¬ quote\n",
       "tag</title>\n",
       "<path fill=\"none\" stroke=\"#000000\" d=\"M379.3251,-13.6881C372.0404,-11.2747 364.2575,-9.1245 356.814,-7.8701 347.8523,-6.3598 338.3872,-7.0076 329.3253,-8.7696\"/>\n",
       "<polygon fill=\"#000000\" stroke=\"#000000\" points=\"328.2183,-5.4359 319.3136,-11.1767 329.8547,-12.242 328.2183,-5.4359\"/>\n",
       "<text text-anchor=\"middle\" x=\"351.314\" y=\"-11.6701\" font-family=\"Raleway\" font-size=\"14.00\" fill=\"#000000\">&#39;&quot;&#39;</text>\n",
       "</g>\n",
       "<!-- quote\n",
       "tag&#45;&gt;quote\n",
       "tag -->\n",
       "<g id=\"edge6\" class=\"edge\">\n",
       "<title>quote\n",
       "tag&#45;&gt;quote\n",
       "tag</title>\n",
       "<path fill=\"none\" stroke=\"#000000\" d=\"M400.4022,-52.6914C399.7705,-63.0476 403.4976,-71.7401 411.5836,-71.7401 416.7636,-71.7401 420.1548,-68.1727 421.7572,-62.8859\"/>\n",
       "<polygon fill=\"#000000\" stroke=\"#000000\" points=\"425.2641,-62.9872 422.7649,-52.6914 418.2981,-62.2985 425.2641,-62.9872\"/>\n",
       "<text text-anchor=\"middle\" x=\"411.5836\" y=\"-75.5401\" font-family=\"Raleway\" font-size=\"14.00\" fill=\"#000000\">¬ &#39;&quot;&#39;</text>\n",
       "</g>\n",
       "</g>\n",
       "</svg>\n"
      ],
      "text/plain": [
       "<graphviz.dot.Digraph at 0x7ffb648f9588>"
      ]
     },
     "metadata": {},
     "output_type": "display_data"
    }
   ],
   "source": [
    "display(dot)"
   ]
  },
  {
   "cell_type": "markdown",
   "metadata": {},
   "source": [
    "This is a bit more complex already. Proceeding from left to right, we first have the state `¬ quote ∧ ¬ tag`, which is our \"standard\" state for text. If we encounter a `'<'`, we again switch to the \"tagged\" state `¬ quote ∧ tag`. In this state, however (and only in this state), if we encounter a quotation mark, we switch to the \"quotation\" state `quote ∧ tag`, in which we remain until we see another quotation mark indicating the end of the string – and then continue in the \"tagged\" state `¬ quote ∧ tag` until we see the end of the string."
   ]
  },
  {
   "cell_type": "markdown",
   "metadata": {},
   "source": [
    "Things get even more complicated as HTML allows both single and double quotation characters. Here's a revised implementation of `remove_html_markup()` that takes the above states into account:"
   ]
  },
  {
   "cell_type": "code",
   "execution_count": 641,
   "metadata": {},
   "outputs": [],
   "source": [
    "def remove_html_markup(s):\n",
    "    tag   = False\n",
    "    quote = False\n",
    "    out   = \"\"\n",
    "\n",
    "    for c in s:\n",
    "        if c == '<' and not quote:\n",
    "            tag = True\n",
    "        elif c == '>' and not quote:\n",
    "            tag = False\n",
    "        elif c == '\"' or c == \"'\" and tag:\n",
    "            quote = not quote\n",
    "        elif not tag:\n",
    "            out = out + c\n",
    "    \n",
    "    return out"
   ]
  },
  {
   "cell_type": "markdown",
   "metadata": {},
   "source": [
    "Now, our previous input works well:"
   ]
  },
  {
   "cell_type": "code",
   "execution_count": 642,
   "metadata": {},
   "outputs": [
    {
     "data": {
      "text/plain": [
       "''"
      ]
     },
     "execution_count": 642,
     "metadata": {},
     "output_type": "execute_result"
    }
   ],
   "source": [
    "remove_html_markup('<input type=\"text\" value=\"<your name>\">')"
   ]
  },
  {
   "cell_type": "markdown",
   "metadata": {},
   "source": [
    "and our earlier tests also pass:"
   ]
  },
  {
   "cell_type": "code",
   "execution_count": 643,
   "metadata": {},
   "outputs": [],
   "source": [
    "assert remove_html_markup(\"Here's some <strong>strong argument</strong>.\") == \"Here's some strong argument.\""
   ]
  },
  {
   "cell_type": "code",
   "execution_count": 644,
   "metadata": {},
   "outputs": [],
   "source": [
    "assert remove_html_markup('<input type=\"text\" value=\"<your name>\">') == \"\""
   ]
  },
  {
   "cell_type": "markdown",
   "metadata": {},
   "source": [
    "However, the above code still has a bug.  In two of these inputs, HTML markup is still not properly stripped:\n",
    "\n",
    "```html\n",
    "<b>foo</b>\n",
    "<b>\"foo\"</b>\n",
    "\"<b>foo</b>\"\n",
    "<\"b\">foo</\"b\">\n",
    "```\n",
    "\n",
    "Can you guess which ones these are?"
   ]
  },
  {
   "cell_type": "markdown",
   "metadata": {},
   "source": [
    "Again, a simple assertion will reveal the culprits:"
   ]
  },
  {
   "cell_type": "code",
   "execution_count": 645,
   "metadata": {},
   "outputs": [],
   "source": [
    "with ExpectError():\n",
    "    assert remove_html_markup('<b>foo</b>') == 'foo'"
   ]
  },
  {
   "cell_type": "code",
   "execution_count": 646,
   "metadata": {},
   "outputs": [
    {
     "name": "stderr",
     "output_type": "stream",
     "text": [
      "Traceback (most recent call last):\n",
      "  File \"<ipython-input-646-ebb80f5cdc78>\", line 2, in <module>\n",
      "    assert remove_html_markup('<b>\"foo\"</b>') == '\"foo\"'\n",
      "AssertionError (expected)\n"
     ]
    }
   ],
   "source": [
    "with ExpectError():\n",
    "    assert remove_html_markup('<b>\"foo\"</b>') == '\"foo\"'"
   ]
  },
  {
   "cell_type": "code",
   "execution_count": 647,
   "metadata": {},
   "outputs": [
    {
     "name": "stderr",
     "output_type": "stream",
     "text": [
      "Traceback (most recent call last):\n",
      "  File \"<ipython-input-647-1f9c40f6f95d>\", line 2, in <module>\n",
      "    assert remove_html_markup('\"<b>foo</b>\"') == '\"foo\"'\n",
      "AssertionError (expected)\n"
     ]
    }
   ],
   "source": [
    "with ExpectError():\n",
    "    assert remove_html_markup('\"<b>foo</b>\"') == '\"foo\"'"
   ]
  },
  {
   "cell_type": "code",
   "execution_count": 648,
   "metadata": {},
   "outputs": [],
   "source": [
    "with ExpectError():\n",
    "    assert remove_html_markup('<\"b\">foo</\"b\">') == 'foo'    "
   ]
  },
  {
   "cell_type": "markdown",
   "metadata": {},
   "source": [
    "So, unfortunately, we're not done yet – our function still has errors."
   ]
  },
  {
   "cell_type": "markdown",
   "metadata": {
    "toc-hr-collapsed": true
   },
   "source": [
    "## The Devil's Guide to Debugging\n",
    "\n",
    "Let us now discuss a couple of methods that do _not_ work well for debugging. (These \"devil's suggestions\" are adapted from the 1993 book \"Code Complete\" from Steve McConnell.)"
   ]
  },
  {
   "cell_type": "markdown",
   "metadata": {},
   "source": [
    "### Printf Debugging\n",
    "\n",
    "When I was a student,  never got any formal training in debugging, so I had to figure this out for myself. What I learned was how to use _debugging output_; in Python, this would be the `print()` function. For instance, I would go and scatter `print()` calls everywhere:"
   ]
  },
  {
   "cell_type": "code",
   "execution_count": 649,
   "metadata": {},
   "outputs": [],
   "source": [
    "def remove_html_markup_with_print(s):\n",
    "    tag   = False\n",
    "    quote = False\n",
    "    out   = \"\"\n",
    "\n",
    "    for c in s:\n",
    "        print(\"c =\", repr(c), \"tag =\", tag, \"quote =\", quote)\n",
    "\n",
    "        if c == '<' and not quote:\n",
    "            tag = True\n",
    "        elif c == '>' and not quote:\n",
    "            tag = False\n",
    "        elif c == '\"' or c == \"'\" and tag:\n",
    "            quote = not quote\n",
    "        elif not tag:\n",
    "            out = out + c\n",
    "    \n",
    "    return out"
   ]
  },
  {
   "cell_type": "markdown",
   "metadata": {},
   "source": [
    "This way of inspecting executions is commonly called \"Printf debugging\", after the C `printf()` function. Then, running this would allow me to see what's going on in my code:"
   ]
  },
  {
   "cell_type": "code",
   "execution_count": 650,
   "metadata": {},
   "outputs": [
    {
     "name": "stdout",
     "output_type": "stream",
     "text": [
      "c = '<' tag = False quote = False\n",
      "c = 'b' tag = True quote = False\n",
      "c = '>' tag = True quote = False\n",
      "c = '\"' tag = False quote = False\n",
      "c = 'f' tag = False quote = True\n",
      "c = 'o' tag = False quote = True\n",
      "c = 'o' tag = False quote = True\n",
      "c = '\"' tag = False quote = True\n",
      "c = '<' tag = False quote = False\n",
      "c = '/' tag = True quote = False\n",
      "c = 'b' tag = True quote = False\n",
      "c = '>' tag = True quote = False\n"
     ]
    },
    {
     "data": {
      "text/plain": [
       "'foo'"
      ]
     },
     "execution_count": 650,
     "metadata": {},
     "output_type": "execute_result"
    }
   ],
   "source": [
    "remove_html_markup_with_print('<b>\"foo\"</b>')"
   ]
  },
  {
   "cell_type": "markdown",
   "metadata": {},
   "source": [
    "Yes, one sees what is going on – but this is horribly inefficient!  Think of a 1,000-character input – you'd have to go through 2,000 lines of logs.  It may help you, but it's a total time waster.  Plus, you have to enter these statements, remove them again... it's a maintenance nightmare."
   ]
  },
  {
   "cell_type": "markdown",
   "metadata": {},
   "source": [
    "(You may even forget printf's in your code, creating a security problem: Mac OS X versions 10.7 to 10.7.3 would log the password in clear because someone had forgotten to turn off debugging output.)"
   ]
  },
  {
   "cell_type": "markdown",
   "metadata": {},
   "source": [
    "### Debugging into Existence"
   ]
  },
  {
   "cell_type": "markdown",
   "metadata": {},
   "source": [
    "I would also try to _debug the program into existence._  Just change things until they work.  Let me see: If I remove the conditions \"and not quote\" from the program, it would actually work again:"
   ]
  },
  {
   "cell_type": "code",
   "execution_count": 651,
   "metadata": {},
   "outputs": [],
   "source": [
    "def remove_html_markup_without_quotes(s):\n",
    "    tag   = False\n",
    "    quote = False\n",
    "    out   = \"\"\n",
    "\n",
    "    for c in s:\n",
    "        if c == '<': # and not quote:\n",
    "            tag = True\n",
    "        elif c == '>': # and not quote:\n",
    "            tag = False\n",
    "        elif c == '\"' or c == \"'\" and tag:\n",
    "            quote = not quote\n",
    "        elif not tag:\n",
    "            out = out + c\n",
    "    \n",
    "    return out"
   ]
  },
  {
   "cell_type": "code",
   "execution_count": 652,
   "metadata": {},
   "outputs": [],
   "source": [
    "assert remove_html_markup_without_quotes('<\"b\">foo</\"b\">') == 'foo'    "
   ]
  },
  {
   "cell_type": "markdown",
   "metadata": {},
   "source": [
    "Cool! Unfortunately, the function still fails on the other input:"
   ]
  },
  {
   "cell_type": "code",
   "execution_count": 653,
   "metadata": {},
   "outputs": [
    {
     "name": "stderr",
     "output_type": "stream",
     "text": [
      "Traceback (most recent call last):\n",
      "  File \"<ipython-input-653-1d8954a52bcf>\", line 2, in <module>\n",
      "    assert remove_html_markup_without_quotes('<b>\"foo\"</b>') == '\"foo\"'\n",
      "AssertionError (expected)\n"
     ]
    }
   ],
   "source": [
    "with ExpectError():\n",
    "    assert remove_html_markup_without_quotes('<b>\"foo\"</b>') == '\"foo\"'"
   ]
  },
  {
   "cell_type": "markdown",
   "metadata": {},
   "source": [
    "So, maybe we can change things again, such that both work? And maybe the other tests we had earlier won't fail? Let's just continue to change things randomly again and again and again."
   ]
  },
  {
   "cell_type": "markdown",
   "metadata": {},
   "source": [
    "Oh, and of course, I would never back up earlier versions such that I would be able to keep track of what has changed and when."
   ]
  },
  {
   "cell_type": "markdown",
   "metadata": {},
   "source": [
    "### Use the Most Obvious Fix"
   ]
  },
  {
   "cell_type": "markdown",
   "metadata": {},
   "source": [
    "My favorite: Use the most obvious fix.  This means that you're fixing the symptom, not the problem. In our case, this would be something like:"
   ]
  },
  {
   "cell_type": "code",
   "execution_count": 654,
   "metadata": {},
   "outputs": [],
   "source": [
    "def remove_html_markup_fixed(s):\n",
    "    if s == '<b>\"foo\"</b>':\n",
    "        return '\"foo\"'\n",
    "    \n",
    "    ..."
   ]
  },
  {
   "cell_type": "markdown",
   "metadata": {},
   "source": [
    "Miracle! Our earlier failing assertion now works! Now we can do the same for the other failing test, too, and we're done.\n",
    "(Rumor has it that some programmers use this technique to get their tests to pass...)"
   ]
  },
  {
   "cell_type": "markdown",
   "metadata": {},
   "source": [
    "### Things to do Instead\n",
    "\n",
    "As with any devil's guide, you get an idea of how to do things by doing the _opposite._  What this means is:\n",
    "\n",
    "1. Understand the code\n",
    "2. Fix the problem, not the symptom\n",
    "3. Proceed systematically\n",
    "\n",
    "which is what we will apply for the rest of this chapter."
   ]
  },
  {
   "cell_type": "markdown",
   "metadata": {},
   "source": [
    "## From Defect to Failure – and Back Again\n",
    "\n",
    "To understand how to systematically debug a program, we first have to understand how failures come to be. The typical debugging situation looks like this. We have a program (execution), taking some input and producing some output. The output is in *error* (✘), meaning an unwanted and unintended deviation from what is correct, right, or true.\n",
    "The input, in contrast, is assumed to be correct (✔). (Otherwise, we wouldn't search for the bug in our program, but in whatever produced its input.)"
   ]
  },
  {
   "cell_type": "code",
   "execution_count": 655,
   "metadata": {
    "ipub": {
     "ignore": true
    }
   },
   "outputs": [],
   "source": [
    "def execution_diagram(show_steps=True, variables=[], steps=3, error_step=666, until=666, fault_path=[]):\n",
    "    dot = graph()\n",
    "\n",
    "    dot.node('input', shape='none', fillcolor='white', label=f\"Input {PASS}\", fontcolor=PASS_COLOR)\n",
    "    last_outgoing_states = ['input']\n",
    "    \n",
    "    for step in range(1, min(steps + 1, until)):\n",
    "        \n",
    "        if step == error_step:\n",
    "            step_label=f'Step {step} {FAIL}'\n",
    "            step_color=FAIL_COLOR\n",
    "        else:\n",
    "            step_label=f'Step {step}'\n",
    "            step_color=None\n",
    "\n",
    "        if step >= error_step:\n",
    "            state_label=f'State {step} {FAIL}'\n",
    "            state_color=FAIL_COLOR\n",
    "        else:\n",
    "            state_label=f'State {step} {PASS}'\n",
    "            state_color=PASS_COLOR\n",
    "    \n",
    "        state_name = f's{step}'\n",
    "        outgoing_states = []\n",
    "        incoming_states = []\n",
    "\n",
    "        if not variables:\n",
    "            dot.node(name=state_name, label=state_label, shape='box', color=state_color, fontcolor=state_color)\n",
    "        else:\n",
    "            var_labels = []\n",
    "            for v in variables:\n",
    "                vpath = f's{step}:{v}'\n",
    "                if vpath in fault_path:\n",
    "                    var_label = f'<{v}>{v} ✘'\n",
    "                    outgoing_states.append(vpath)\n",
    "                    incoming_states.append(vpath)\n",
    "                else:\n",
    "                    var_label = f'<{v}>{v}'\n",
    "                var_labels.append(var_label)\n",
    "            record_string = \" | \".join(var_labels)\n",
    "            dot.node(name=state_name, shape='record', label=nohtml(record_string), color=state_color, fontcolor=state_color)\n",
    "            \n",
    "        if not outgoing_states:\n",
    "            outgoing_states = [state_name]\n",
    "        if not incoming_states:\n",
    "            incoming_states = [state_name]\n",
    "\n",
    "        for outgoing_state in last_outgoing_states:\n",
    "            for incoming_state in incoming_states:\n",
    "                if show_steps:\n",
    "                    dot.edge(outgoing_state, incoming_state, label=step_label, fontcolor=step_color)\n",
    "                else:\n",
    "                    dot.edge(outgoing_state, incoming_state)\n",
    "\n",
    "        last_outgoing_states = outgoing_states\n",
    "\n",
    "    if until > steps + 1:\n",
    "        # Show output\n",
    "        if error_step > steps:\n",
    "            dot.node('output', shape='none', fillcolor='white', label=f\"Output {PASS}\", fontcolor=PASS_COLOR)\n",
    "        else:\n",
    "            dot.node('output', shape='none', fillcolor='white', label=f\"Output {FAIL}\", fontcolor=FAIL_COLOR)\n",
    "\n",
    "        for outgoing_state in last_outgoing_states:\n",
    "            label = \"Execution\" if steps == 0 else None\n",
    "            dot.edge(outgoing_state, 'output', label=label)\n",
    "\n",
    "    display(dot)"
   ]
  },
  {
   "cell_type": "code",
   "execution_count": 656,
   "metadata": {},
   "outputs": [
    {
     "data": {
      "image/svg+xml": [
       "<?xml version=\"1.0\" encoding=\"UTF-8\" standalone=\"no\"?>\n",
       "<!DOCTYPE svg PUBLIC \"-//W3C//DTD SVG 1.1//EN\"\n",
       " \"http://www.w3.org/Graphics/SVG/1.1/DTD/svg11.dtd\">\n",
       "<!-- Generated by graphviz version 2.40.1 (20161225.0304)\n",
       " -->\n",
       "<!-- Title: %3 Pages: 1 -->\n",
       "<svg width=\"235pt\" height=\"44pt\"\n",
       " viewBox=\"0.00 0.00 235.00 44.00\" xmlns=\"http://www.w3.org/2000/svg\" xmlns:xlink=\"http://www.w3.org/1999/xlink\">\n",
       "<g id=\"graph0\" class=\"graph\" transform=\"scale(1 1) rotate(0) translate(4 40)\">\n",
       "<title>%3</title>\n",
       "<polygon fill=\"#ffffff\" stroke=\"transparent\" points=\"-4,4 -4,-40 231,-40 231,4 -4,4\"/>\n",
       "<!-- input -->\n",
       "<g id=\"node1\" class=\"node\">\n",
       "<title>input</title>\n",
       "<polygon fill=\"#ffffff\" stroke=\"transparent\" points=\"59,-36 0,-36 0,0 59,0 59,-36\"/>\n",
       "<text text-anchor=\"middle\" x=\"29.5\" y=\"-14.3\" font-family=\"Raleway\" font-size=\"14.00\" fill=\"#006400\">Input ✔</text>\n",
       "</g>\n",
       "<!-- output -->\n",
       "<g id=\"node2\" class=\"node\">\n",
       "<title>output</title>\n",
       "<polygon fill=\"#ffffff\" stroke=\"transparent\" points=\"227,-36 157,-36 157,0 227,0 227,-36\"/>\n",
       "<text text-anchor=\"middle\" x=\"192\" y=\"-14.3\" font-family=\"Raleway\" font-size=\"14.00\" fill=\"#8b0000\">Output ✘</text>\n",
       "</g>\n",
       "<!-- input&#45;&gt;output -->\n",
       "<g id=\"edge1\" class=\"edge\">\n",
       "<title>input&#45;&gt;output</title>\n",
       "<path fill=\"none\" stroke=\"#000000\" d=\"M59.305,-18C83.6789,-18 118.5456,-18 146.4221,-18\"/>\n",
       "<polygon fill=\"#000000\" stroke=\"#000000\" points=\"146.7274,-21.5001 156.7274,-18 146.7274,-14.5001 146.7274,-21.5001\"/>\n",
       "<text text-anchor=\"middle\" x=\"108\" y=\"-21.8\" font-family=\"Raleway\" font-size=\"14.00\" fill=\"#000000\">Execution</text>\n",
       "</g>\n",
       "</g>\n",
       "</svg>\n"
      ],
      "text/plain": [
       "<graphviz.dot.Digraph at 0x7ffb648f95f8>"
      ]
     },
     "metadata": {},
     "output_type": "display_data"
    }
   ],
   "source": [
    "execution_diagram(show_steps=False, steps=0, error_step=0)"
   ]
  },
  {
   "cell_type": "markdown",
   "metadata": {},
   "source": [
    "This situation we see above is what we call a *failure*: An externally visible _error_ in the program behavior, with the error again being an unwanted and unintended deviation from what is correct, right, or true."
   ]
  },
  {
   "cell_type": "markdown",
   "metadata": {},
   "source": [
    "How does this failure come to be? The execution we see above breaks down into several program _states_, one after the other."
   ]
  },
  {
   "cell_type": "code",
   "execution_count": 657,
   "metadata": {},
   "outputs": [
    {
     "data": {
      "image/svg+xml": [
       "<?xml version=\"1.0\" encoding=\"UTF-8\" standalone=\"no\"?>\n",
       "<!DOCTYPE svg PUBLIC \"-//W3C//DTD SVG 1.1//EN\"\n",
       " \"http://www.w3.org/Graphics/SVG/1.1/DTD/svg11.dtd\">\n",
       "<!-- Generated by graphviz version 2.40.1 (20161225.0304)\n",
       " -->\n",
       "<!-- Title: %3 Pages: 1 -->\n",
       "<svg width=\"67pt\" height=\"44pt\"\n",
       " viewBox=\"0.00 0.00 67.00 44.00\" xmlns=\"http://www.w3.org/2000/svg\" xmlns:xlink=\"http://www.w3.org/1999/xlink\">\n",
       "<g id=\"graph0\" class=\"graph\" transform=\"scale(1 1) rotate(0) translate(4 40)\">\n",
       "<title>%3</title>\n",
       "<polygon fill=\"#ffffff\" stroke=\"transparent\" points=\"-4,4 -4,-40 63,-40 63,4 -4,4\"/>\n",
       "<!-- input -->\n",
       "<g id=\"node1\" class=\"node\">\n",
       "<title>input</title>\n",
       "<polygon fill=\"#ffffff\" stroke=\"transparent\" points=\"59,-36 0,-36 0,0 59,0 59,-36\"/>\n",
       "<text text-anchor=\"middle\" x=\"29.5\" y=\"-14.3\" font-family=\"Raleway\" font-size=\"14.00\" fill=\"#006400\">Input ✔</text>\n",
       "</g>\n",
       "</g>\n",
       "</svg>\n"
      ],
      "text/plain": [
       "<graphviz.dot.Digraph at 0x7ffb648f9cf8>"
      ]
     },
     "metadata": {},
     "output_type": "display_data"
    },
    {
     "data": {
      "image/svg+xml": [
       "<?xml version=\"1.0\" encoding=\"UTF-8\" standalone=\"no\"?>\n",
       "<!DOCTYPE svg PUBLIC \"-//W3C//DTD SVG 1.1//EN\"\n",
       " \"http://www.w3.org/Graphics/SVG/1.1/DTD/svg11.dtd\">\n",
       "<!-- Generated by graphviz version 2.40.1 (20161225.0304)\n",
       " -->\n",
       "<!-- Title: %3 Pages: 1 -->\n",
       "<svg width=\"175pt\" height=\"44pt\"\n",
       " viewBox=\"0.00 0.00 175.00 44.00\" xmlns=\"http://www.w3.org/2000/svg\" xmlns:xlink=\"http://www.w3.org/1999/xlink\">\n",
       "<g id=\"graph0\" class=\"graph\" transform=\"scale(1 1) rotate(0) translate(4 40)\">\n",
       "<title>%3</title>\n",
       "<polygon fill=\"#ffffff\" stroke=\"transparent\" points=\"-4,4 -4,-40 171,-40 171,4 -4,4\"/>\n",
       "<!-- input -->\n",
       "<g id=\"node1\" class=\"node\">\n",
       "<title>input</title>\n",
       "<polygon fill=\"#ffffff\" stroke=\"transparent\" points=\"59,-36 0,-36 0,0 59,0 59,-36\"/>\n",
       "<text text-anchor=\"middle\" x=\"29.5\" y=\"-14.3\" font-family=\"Raleway\" font-size=\"14.00\" fill=\"#006400\">Input ✔</text>\n",
       "</g>\n",
       "<!-- s1 -->\n",
       "<g id=\"node2\" class=\"node\">\n",
       "<title>s1</title>\n",
       "<polygon fill=\"#ffdab9\" stroke=\"#006400\" points=\"167,-36 95,-36 95,0 167,0 167,-36\"/>\n",
       "<text text-anchor=\"middle\" x=\"131\" y=\"-14.3\" font-family=\"Raleway\" font-size=\"14.00\" fill=\"#006400\">State 1 ✔</text>\n",
       "</g>\n",
       "<!-- input&#45;&gt;s1 -->\n",
       "<g id=\"edge1\" class=\"edge\">\n",
       "<title>input&#45;&gt;s1</title>\n",
       "<path fill=\"none\" stroke=\"#000000\" d=\"M59.1309,-18C67.1217,-18 75.9627,-18 84.6319,-18\"/>\n",
       "<polygon fill=\"#000000\" stroke=\"#000000\" points=\"84.6686,-21.5001 94.6686,-18 84.6686,-14.5001 84.6686,-21.5001\"/>\n",
       "</g>\n",
       "</g>\n",
       "</svg>\n"
      ],
      "text/plain": [
       "<graphviz.dot.Digraph at 0x7ffb648f9cf8>"
      ]
     },
     "metadata": {},
     "output_type": "display_data"
    },
    {
     "data": {
      "image/svg+xml": [
       "<?xml version=\"1.0\" encoding=\"UTF-8\" standalone=\"no\"?>\n",
       "<!DOCTYPE svg PUBLIC \"-//W3C//DTD SVG 1.1//EN\"\n",
       " \"http://www.w3.org/Graphics/SVG/1.1/DTD/svg11.dtd\">\n",
       "<!-- Generated by graphviz version 2.40.1 (20161225.0304)\n",
       " -->\n",
       "<!-- Title: %3 Pages: 1 -->\n",
       "<svg width=\"283pt\" height=\"44pt\"\n",
       " viewBox=\"0.00 0.00 283.00 44.00\" xmlns=\"http://www.w3.org/2000/svg\" xmlns:xlink=\"http://www.w3.org/1999/xlink\">\n",
       "<g id=\"graph0\" class=\"graph\" transform=\"scale(1 1) rotate(0) translate(4 40)\">\n",
       "<title>%3</title>\n",
       "<polygon fill=\"#ffffff\" stroke=\"transparent\" points=\"-4,4 -4,-40 279,-40 279,4 -4,4\"/>\n",
       "<!-- input -->\n",
       "<g id=\"node1\" class=\"node\">\n",
       "<title>input</title>\n",
       "<polygon fill=\"#ffffff\" stroke=\"transparent\" points=\"59,-36 0,-36 0,0 59,0 59,-36\"/>\n",
       "<text text-anchor=\"middle\" x=\"29.5\" y=\"-14.3\" font-family=\"Raleway\" font-size=\"14.00\" fill=\"#006400\">Input ✔</text>\n",
       "</g>\n",
       "<!-- s1 -->\n",
       "<g id=\"node2\" class=\"node\">\n",
       "<title>s1</title>\n",
       "<polygon fill=\"#ffdab9\" stroke=\"#006400\" points=\"167,-36 95,-36 95,0 167,0 167,-36\"/>\n",
       "<text text-anchor=\"middle\" x=\"131\" y=\"-14.3\" font-family=\"Raleway\" font-size=\"14.00\" fill=\"#006400\">State 1 ✔</text>\n",
       "</g>\n",
       "<!-- input&#45;&gt;s1 -->\n",
       "<g id=\"edge1\" class=\"edge\">\n",
       "<title>input&#45;&gt;s1</title>\n",
       "<path fill=\"none\" stroke=\"#000000\" d=\"M59.1309,-18C67.1217,-18 75.9627,-18 84.6319,-18\"/>\n",
       "<polygon fill=\"#000000\" stroke=\"#000000\" points=\"84.6686,-21.5001 94.6686,-18 84.6686,-14.5001 84.6686,-21.5001\"/>\n",
       "</g>\n",
       "<!-- s2 -->\n",
       "<g id=\"node3\" class=\"node\">\n",
       "<title>s2</title>\n",
       "<polygon fill=\"#ffdab9\" stroke=\"#8b0000\" points=\"275,-36 203,-36 203,0 275,0 275,-36\"/>\n",
       "<text text-anchor=\"middle\" x=\"239\" y=\"-14.3\" font-family=\"Raleway\" font-size=\"14.00\" fill=\"#8b0000\">State 2 ✘</text>\n",
       "</g>\n",
       "<!-- s1&#45;&gt;s2 -->\n",
       "<g id=\"edge2\" class=\"edge\">\n",
       "<title>s1&#45;&gt;s2</title>\n",
       "<path fill=\"none\" stroke=\"#000000\" d=\"M167.2629,-18C175.3661,-18 184.0689,-18 192.5209,-18\"/>\n",
       "<polygon fill=\"#000000\" stroke=\"#000000\" points=\"192.649,-21.5001 202.649,-18 192.649,-14.5001 192.649,-21.5001\"/>\n",
       "</g>\n",
       "</g>\n",
       "</svg>\n"
      ],
      "text/plain": [
       "<graphviz.dot.Digraph at 0x7ffb6478a8d0>"
      ]
     },
     "metadata": {},
     "output_type": "display_data"
    },
    {
     "data": {
      "image/svg+xml": [
       "<?xml version=\"1.0\" encoding=\"UTF-8\" standalone=\"no\"?>\n",
       "<!DOCTYPE svg PUBLIC \"-//W3C//DTD SVG 1.1//EN\"\n",
       " \"http://www.w3.org/Graphics/SVG/1.1/DTD/svg11.dtd\">\n",
       "<!-- Generated by graphviz version 2.40.1 (20161225.0304)\n",
       " -->\n",
       "<!-- Title: %3 Pages: 1 -->\n",
       "<svg width=\"391pt\" height=\"44pt\"\n",
       " viewBox=\"0.00 0.00 391.00 44.00\" xmlns=\"http://www.w3.org/2000/svg\" xmlns:xlink=\"http://www.w3.org/1999/xlink\">\n",
       "<g id=\"graph0\" class=\"graph\" transform=\"scale(1 1) rotate(0) translate(4 40)\">\n",
       "<title>%3</title>\n",
       "<polygon fill=\"#ffffff\" stroke=\"transparent\" points=\"-4,4 -4,-40 387,-40 387,4 -4,4\"/>\n",
       "<!-- input -->\n",
       "<g id=\"node1\" class=\"node\">\n",
       "<title>input</title>\n",
       "<polygon fill=\"#ffffff\" stroke=\"transparent\" points=\"59,-36 0,-36 0,0 59,0 59,-36\"/>\n",
       "<text text-anchor=\"middle\" x=\"29.5\" y=\"-14.3\" font-family=\"Raleway\" font-size=\"14.00\" fill=\"#006400\">Input ✔</text>\n",
       "</g>\n",
       "<!-- s1 -->\n",
       "<g id=\"node2\" class=\"node\">\n",
       "<title>s1</title>\n",
       "<polygon fill=\"#ffdab9\" stroke=\"#006400\" points=\"167,-36 95,-36 95,0 167,0 167,-36\"/>\n",
       "<text text-anchor=\"middle\" x=\"131\" y=\"-14.3\" font-family=\"Raleway\" font-size=\"14.00\" fill=\"#006400\">State 1 ✔</text>\n",
       "</g>\n",
       "<!-- input&#45;&gt;s1 -->\n",
       "<g id=\"edge1\" class=\"edge\">\n",
       "<title>input&#45;&gt;s1</title>\n",
       "<path fill=\"none\" stroke=\"#000000\" d=\"M59.1309,-18C67.1217,-18 75.9627,-18 84.6319,-18\"/>\n",
       "<polygon fill=\"#000000\" stroke=\"#000000\" points=\"84.6686,-21.5001 94.6686,-18 84.6686,-14.5001 84.6686,-21.5001\"/>\n",
       "</g>\n",
       "<!-- s2 -->\n",
       "<g id=\"node3\" class=\"node\">\n",
       "<title>s2</title>\n",
       "<polygon fill=\"#ffdab9\" stroke=\"#8b0000\" points=\"275,-36 203,-36 203,0 275,0 275,-36\"/>\n",
       "<text text-anchor=\"middle\" x=\"239\" y=\"-14.3\" font-family=\"Raleway\" font-size=\"14.00\" fill=\"#8b0000\">State 2 ✘</text>\n",
       "</g>\n",
       "<!-- s1&#45;&gt;s2 -->\n",
       "<g id=\"edge2\" class=\"edge\">\n",
       "<title>s1&#45;&gt;s2</title>\n",
       "<path fill=\"none\" stroke=\"#000000\" d=\"M167.2629,-18C175.3661,-18 184.0689,-18 192.5209,-18\"/>\n",
       "<polygon fill=\"#000000\" stroke=\"#000000\" points=\"192.649,-21.5001 202.649,-18 192.649,-14.5001 192.649,-21.5001\"/>\n",
       "</g>\n",
       "<!-- s3 -->\n",
       "<g id=\"node4\" class=\"node\">\n",
       "<title>s3</title>\n",
       "<polygon fill=\"#ffdab9\" stroke=\"#8b0000\" points=\"383,-36 311,-36 311,0 383,0 383,-36\"/>\n",
       "<text text-anchor=\"middle\" x=\"347\" y=\"-14.3\" font-family=\"Raleway\" font-size=\"14.00\" fill=\"#8b0000\">State 3 ✘</text>\n",
       "</g>\n",
       "<!-- s2&#45;&gt;s3 -->\n",
       "<g id=\"edge3\" class=\"edge\">\n",
       "<title>s2&#45;&gt;s3</title>\n",
       "<path fill=\"none\" stroke=\"#000000\" d=\"M275.2629,-18C283.3661,-18 292.0689,-18 300.5209,-18\"/>\n",
       "<polygon fill=\"#000000\" stroke=\"#000000\" points=\"300.649,-21.5001 310.649,-18 300.649,-14.5001 300.649,-21.5001\"/>\n",
       "</g>\n",
       "</g>\n",
       "</svg>\n"
      ],
      "text/plain": [
       "<graphviz.dot.Digraph at 0x7ffb6478a8d0>"
      ]
     },
     "metadata": {},
     "output_type": "display_data"
    },
    {
     "data": {
      "image/svg+xml": [
       "<?xml version=\"1.0\" encoding=\"UTF-8\" standalone=\"no\"?>\n",
       "<!DOCTYPE svg PUBLIC \"-//W3C//DTD SVG 1.1//EN\"\n",
       " \"http://www.w3.org/Graphics/SVG/1.1/DTD/svg11.dtd\">\n",
       "<!-- Generated by graphviz version 2.40.1 (20161225.0304)\n",
       " -->\n",
       "<!-- Title: %3 Pages: 1 -->\n",
       "<svg width=\"497pt\" height=\"44pt\"\n",
       " viewBox=\"0.00 0.00 497.00 44.00\" xmlns=\"http://www.w3.org/2000/svg\" xmlns:xlink=\"http://www.w3.org/1999/xlink\">\n",
       "<g id=\"graph0\" class=\"graph\" transform=\"scale(1 1) rotate(0) translate(4 40)\">\n",
       "<title>%3</title>\n",
       "<polygon fill=\"#ffffff\" stroke=\"transparent\" points=\"-4,4 -4,-40 493,-40 493,4 -4,4\"/>\n",
       "<!-- input -->\n",
       "<g id=\"node1\" class=\"node\">\n",
       "<title>input</title>\n",
       "<polygon fill=\"#ffffff\" stroke=\"transparent\" points=\"59,-36 0,-36 0,0 59,0 59,-36\"/>\n",
       "<text text-anchor=\"middle\" x=\"29.5\" y=\"-14.3\" font-family=\"Raleway\" font-size=\"14.00\" fill=\"#006400\">Input ✔</text>\n",
       "</g>\n",
       "<!-- s1 -->\n",
       "<g id=\"node2\" class=\"node\">\n",
       "<title>s1</title>\n",
       "<polygon fill=\"#ffdab9\" stroke=\"#006400\" points=\"167,-36 95,-36 95,0 167,0 167,-36\"/>\n",
       "<text text-anchor=\"middle\" x=\"131\" y=\"-14.3\" font-family=\"Raleway\" font-size=\"14.00\" fill=\"#006400\">State 1 ✔</text>\n",
       "</g>\n",
       "<!-- input&#45;&gt;s1 -->\n",
       "<g id=\"edge1\" class=\"edge\">\n",
       "<title>input&#45;&gt;s1</title>\n",
       "<path fill=\"none\" stroke=\"#000000\" d=\"M59.1309,-18C67.1217,-18 75.9627,-18 84.6319,-18\"/>\n",
       "<polygon fill=\"#000000\" stroke=\"#000000\" points=\"84.6686,-21.5001 94.6686,-18 84.6686,-14.5001 84.6686,-21.5001\"/>\n",
       "</g>\n",
       "<!-- s2 -->\n",
       "<g id=\"node3\" class=\"node\">\n",
       "<title>s2</title>\n",
       "<polygon fill=\"#ffdab9\" stroke=\"#8b0000\" points=\"275,-36 203,-36 203,0 275,0 275,-36\"/>\n",
       "<text text-anchor=\"middle\" x=\"239\" y=\"-14.3\" font-family=\"Raleway\" font-size=\"14.00\" fill=\"#8b0000\">State 2 ✘</text>\n",
       "</g>\n",
       "<!-- s1&#45;&gt;s2 -->\n",
       "<g id=\"edge2\" class=\"edge\">\n",
       "<title>s1&#45;&gt;s2</title>\n",
       "<path fill=\"none\" stroke=\"#000000\" d=\"M167.2629,-18C175.3661,-18 184.0689,-18 192.5209,-18\"/>\n",
       "<polygon fill=\"#000000\" stroke=\"#000000\" points=\"192.649,-21.5001 202.649,-18 192.649,-14.5001 192.649,-21.5001\"/>\n",
       "</g>\n",
       "<!-- s3 -->\n",
       "<g id=\"node4\" class=\"node\">\n",
       "<title>s3</title>\n",
       "<polygon fill=\"#ffdab9\" stroke=\"#8b0000\" points=\"383,-36 311,-36 311,0 383,0 383,-36\"/>\n",
       "<text text-anchor=\"middle\" x=\"347\" y=\"-14.3\" font-family=\"Raleway\" font-size=\"14.00\" fill=\"#8b0000\">State 3 ✘</text>\n",
       "</g>\n",
       "<!-- s2&#45;&gt;s3 -->\n",
       "<g id=\"edge3\" class=\"edge\">\n",
       "<title>s2&#45;&gt;s3</title>\n",
       "<path fill=\"none\" stroke=\"#000000\" d=\"M275.2629,-18C283.3661,-18 292.0689,-18 300.5209,-18\"/>\n",
       "<polygon fill=\"#000000\" stroke=\"#000000\" points=\"300.649,-21.5001 310.649,-18 300.649,-14.5001 300.649,-21.5001\"/>\n",
       "</g>\n",
       "<!-- output -->\n",
       "<g id=\"node5\" class=\"node\">\n",
       "<title>output</title>\n",
       "<polygon fill=\"#ffffff\" stroke=\"transparent\" points=\"489,-36 419,-36 419,0 489,0 489,-36\"/>\n",
       "<text text-anchor=\"middle\" x=\"454\" y=\"-14.3\" font-family=\"Raleway\" font-size=\"14.00\" fill=\"#8b0000\">Output ✘</text>\n",
       "</g>\n",
       "<!-- s3&#45;&gt;output -->\n",
       "<g id=\"edge4\" class=\"edge\">\n",
       "<title>s3&#45;&gt;output</title>\n",
       "<path fill=\"none\" stroke=\"#000000\" d=\"M383.2253,-18C391.4148,-18 400.2093,-18 408.7195,-18\"/>\n",
       "<polygon fill=\"#000000\" stroke=\"#000000\" points=\"408.8994,-21.5001 418.8994,-18 408.8993,-14.5001 408.8994,-21.5001\"/>\n",
       "</g>\n",
       "</g>\n",
       "</svg>\n"
      ],
      "text/plain": [
       "<graphviz.dot.Digraph at 0x7ffb6478a8d0>"
      ]
     },
     "metadata": {},
     "output_type": "display_data"
    }
   ],
   "source": [
    "for until in range(1, 6):\n",
    "    execution_diagram(show_steps=False, until=until, error_step=2)"
   ]
  },
  {
   "cell_type": "markdown",
   "metadata": {},
   "source": [
    "Initially, the program state is still correct (✔). However, at some point in the execution, the state gets an _error_, also known as a *fault*. This fault – again an unwanted and unintended deviation from what is correct, right, or true – then propagates along the execution, until it becomes externally visible as a _failure_.\n",
    "(In reality, there are many, many more states than just this, but these would not fit in a diagram.)"
   ]
  },
  {
   "cell_type": "markdown",
   "metadata": {},
   "source": [
    "How does a fault come to be? Each of these program states is produced by a _step_ in the program code. These steps take a state as input and produce another state as output. Technically speaking, the program inputs and outputs are also parts of the program state, so the input flows into the first step, and the output is the state produced by the last step."
   ]
  },
  {
   "cell_type": "code",
   "execution_count": 658,
   "metadata": {},
   "outputs": [
    {
     "data": {
      "image/svg+xml": [
       "<?xml version=\"1.0\" encoding=\"UTF-8\" standalone=\"no\"?>\n",
       "<!DOCTYPE svg PUBLIC \"-//W3C//DTD SVG 1.1//EN\"\n",
       " \"http://www.w3.org/Graphics/SVG/1.1/DTD/svg11.dtd\">\n",
       "<!-- Generated by graphviz version 2.40.1 (20161225.0304)\n",
       " -->\n",
       "<!-- Title: %3 Pages: 1 -->\n",
       "<svg width=\"67pt\" height=\"44pt\"\n",
       " viewBox=\"0.00 0.00 67.00 44.00\" xmlns=\"http://www.w3.org/2000/svg\" xmlns:xlink=\"http://www.w3.org/1999/xlink\">\n",
       "<g id=\"graph0\" class=\"graph\" transform=\"scale(1 1) rotate(0) translate(4 40)\">\n",
       "<title>%3</title>\n",
       "<polygon fill=\"#ffffff\" stroke=\"transparent\" points=\"-4,4 -4,-40 63,-40 63,4 -4,4\"/>\n",
       "<!-- input -->\n",
       "<g id=\"node1\" class=\"node\">\n",
       "<title>input</title>\n",
       "<polygon fill=\"#ffffff\" stroke=\"transparent\" points=\"59,-36 0,-36 0,0 59,0 59,-36\"/>\n",
       "<text text-anchor=\"middle\" x=\"29.5\" y=\"-14.3\" font-family=\"Raleway\" font-size=\"14.00\" fill=\"#006400\">Input ✔</text>\n",
       "</g>\n",
       "</g>\n",
       "</svg>\n"
      ],
      "text/plain": [
       "<graphviz.dot.Digraph at 0x7ffb648f9dd8>"
      ]
     },
     "metadata": {},
     "output_type": "display_data"
    },
    {
     "data": {
      "image/svg+xml": [
       "<?xml version=\"1.0\" encoding=\"UTF-8\" standalone=\"no\"?>\n",
       "<!DOCTYPE svg PUBLIC \"-//W3C//DTD SVG 1.1//EN\"\n",
       " \"http://www.w3.org/Graphics/SVG/1.1/DTD/svg11.dtd\">\n",
       "<!-- Generated by graphviz version 2.40.1 (20161225.0304)\n",
       " -->\n",
       "<!-- Title: %3 Pages: 1 -->\n",
       "<svg width=\"216pt\" height=\"44pt\"\n",
       " viewBox=\"0.00 0.00 216.00 44.00\" xmlns=\"http://www.w3.org/2000/svg\" xmlns:xlink=\"http://www.w3.org/1999/xlink\">\n",
       "<g id=\"graph0\" class=\"graph\" transform=\"scale(1 1) rotate(0) translate(4 40)\">\n",
       "<title>%3</title>\n",
       "<polygon fill=\"#ffffff\" stroke=\"transparent\" points=\"-4,4 -4,-40 212,-40 212,4 -4,4\"/>\n",
       "<!-- input -->\n",
       "<g id=\"node1\" class=\"node\">\n",
       "<title>input</title>\n",
       "<polygon fill=\"#ffffff\" stroke=\"transparent\" points=\"59,-36 0,-36 0,0 59,0 59,-36\"/>\n",
       "<text text-anchor=\"middle\" x=\"29.5\" y=\"-14.3\" font-family=\"Raleway\" font-size=\"14.00\" fill=\"#006400\">Input ✔</text>\n",
       "</g>\n",
       "<!-- s1 -->\n",
       "<g id=\"node2\" class=\"node\">\n",
       "<title>s1</title>\n",
       "<polygon fill=\"#ffdab9\" stroke=\"#006400\" points=\"208,-36 136,-36 136,0 208,0 208,-36\"/>\n",
       "<text text-anchor=\"middle\" x=\"172\" y=\"-14.3\" font-family=\"Raleway\" font-size=\"14.00\" fill=\"#006400\">State 1 ✔</text>\n",
       "</g>\n",
       "<!-- input&#45;&gt;s1 -->\n",
       "<g id=\"edge1\" class=\"edge\">\n",
       "<title>input&#45;&gt;s1</title>\n",
       "<path fill=\"none\" stroke=\"#000000\" d=\"M59.0261,-18C78.3092,-18 103.8876,-18 125.829,-18\"/>\n",
       "<polygon fill=\"#000000\" stroke=\"#000000\" points=\"125.9406,-21.5001 135.9405,-18 125.9405,-14.5001 125.9406,-21.5001\"/>\n",
       "<text text-anchor=\"middle\" x=\"97.5\" y=\"-21.8\" font-family=\"Raleway\" font-size=\"14.00\" fill=\"#000000\">Step 1</text>\n",
       "</g>\n",
       "</g>\n",
       "</svg>\n"
      ],
      "text/plain": [
       "<graphviz.dot.Digraph at 0x7ffb648f9dd8>"
      ]
     },
     "metadata": {},
     "output_type": "display_data"
    },
    {
     "data": {
      "image/svg+xml": [
       "<?xml version=\"1.0\" encoding=\"UTF-8\" standalone=\"no\"?>\n",
       "<!DOCTYPE svg PUBLIC \"-//W3C//DTD SVG 1.1//EN\"\n",
       " \"http://www.w3.org/Graphics/SVG/1.1/DTD/svg11.dtd\">\n",
       "<!-- Generated by graphviz version 2.40.1 (20161225.0304)\n",
       " -->\n",
       "<!-- Title: %3 Pages: 1 -->\n",
       "<svg width=\"376pt\" height=\"44pt\"\n",
       " viewBox=\"0.00 0.00 376.00 44.00\" xmlns=\"http://www.w3.org/2000/svg\" xmlns:xlink=\"http://www.w3.org/1999/xlink\">\n",
       "<g id=\"graph0\" class=\"graph\" transform=\"scale(1 1) rotate(0) translate(4 40)\">\n",
       "<title>%3</title>\n",
       "<polygon fill=\"#ffffff\" stroke=\"transparent\" points=\"-4,4 -4,-40 372,-40 372,4 -4,4\"/>\n",
       "<!-- input -->\n",
       "<g id=\"node1\" class=\"node\">\n",
       "<title>input</title>\n",
       "<polygon fill=\"#ffffff\" stroke=\"transparent\" points=\"59,-36 0,-36 0,0 59,0 59,-36\"/>\n",
       "<text text-anchor=\"middle\" x=\"29.5\" y=\"-14.3\" font-family=\"Raleway\" font-size=\"14.00\" fill=\"#006400\">Input ✔</text>\n",
       "</g>\n",
       "<!-- s1 -->\n",
       "<g id=\"node2\" class=\"node\">\n",
       "<title>s1</title>\n",
       "<polygon fill=\"#ffdab9\" stroke=\"#006400\" points=\"208,-36 136,-36 136,0 208,0 208,-36\"/>\n",
       "<text text-anchor=\"middle\" x=\"172\" y=\"-14.3\" font-family=\"Raleway\" font-size=\"14.00\" fill=\"#006400\">State 1 ✔</text>\n",
       "</g>\n",
       "<!-- input&#45;&gt;s1 -->\n",
       "<g id=\"edge1\" class=\"edge\">\n",
       "<title>input&#45;&gt;s1</title>\n",
       "<path fill=\"none\" stroke=\"#000000\" d=\"M59.0261,-18C78.3092,-18 103.8876,-18 125.829,-18\"/>\n",
       "<polygon fill=\"#000000\" stroke=\"#000000\" points=\"125.9406,-21.5001 135.9405,-18 125.9405,-14.5001 125.9406,-21.5001\"/>\n",
       "<text text-anchor=\"middle\" x=\"97.5\" y=\"-21.8\" font-family=\"Raleway\" font-size=\"14.00\" fill=\"#000000\">Step 1</text>\n",
       "</g>\n",
       "<!-- s2 -->\n",
       "<g id=\"node3\" class=\"node\">\n",
       "<title>s2</title>\n",
       "<polygon fill=\"#ffdab9\" stroke=\"#8b0000\" points=\"368,-36 296,-36 296,0 368,0 368,-36\"/>\n",
       "<text text-anchor=\"middle\" x=\"332\" y=\"-14.3\" font-family=\"Raleway\" font-size=\"14.00\" fill=\"#8b0000\">State 2 ✘</text>\n",
       "</g>\n",
       "<!-- s1&#45;&gt;s2 -->\n",
       "<g id=\"edge2\" class=\"edge\">\n",
       "<title>s1&#45;&gt;s2</title>\n",
       "<path fill=\"none\" stroke=\"#000000\" d=\"M208.3065,-18C231.2183,-18 261.0276,-18 285.6416,-18\"/>\n",
       "<polygon fill=\"#000000\" stroke=\"#000000\" points=\"285.8372,-21.5001 295.8372,-18 285.8372,-14.5001 285.8372,-21.5001\"/>\n",
       "<text text-anchor=\"middle\" x=\"252\" y=\"-21.8\" font-family=\"Raleway\" font-size=\"14.00\" fill=\"#8b0000\">Step 2 ✘</text>\n",
       "</g>\n",
       "</g>\n",
       "</svg>\n"
      ],
      "text/plain": [
       "<graphviz.dot.Digraph at 0x7ffb648f9e80>"
      ]
     },
     "metadata": {},
     "output_type": "display_data"
    },
    {
     "data": {
      "image/svg+xml": [
       "<?xml version=\"1.0\" encoding=\"UTF-8\" standalone=\"no\"?>\n",
       "<!DOCTYPE svg PUBLIC \"-//W3C//DTD SVG 1.1//EN\"\n",
       " \"http://www.w3.org/Graphics/SVG/1.1/DTD/svg11.dtd\">\n",
       "<!-- Generated by graphviz version 2.40.1 (20161225.0304)\n",
       " -->\n",
       "<!-- Title: %3 Pages: 1 -->\n",
       "<svg width=\"525pt\" height=\"44pt\"\n",
       " viewBox=\"0.00 0.00 525.00 44.00\" xmlns=\"http://www.w3.org/2000/svg\" xmlns:xlink=\"http://www.w3.org/1999/xlink\">\n",
       "<g id=\"graph0\" class=\"graph\" transform=\"scale(1 1) rotate(0) translate(4 40)\">\n",
       "<title>%3</title>\n",
       "<polygon fill=\"#ffffff\" stroke=\"transparent\" points=\"-4,4 -4,-40 521,-40 521,4 -4,4\"/>\n",
       "<!-- input -->\n",
       "<g id=\"node1\" class=\"node\">\n",
       "<title>input</title>\n",
       "<polygon fill=\"#ffffff\" stroke=\"transparent\" points=\"59,-36 0,-36 0,0 59,0 59,-36\"/>\n",
       "<text text-anchor=\"middle\" x=\"29.5\" y=\"-14.3\" font-family=\"Raleway\" font-size=\"14.00\" fill=\"#006400\">Input ✔</text>\n",
       "</g>\n",
       "<!-- s1 -->\n",
       "<g id=\"node2\" class=\"node\">\n",
       "<title>s1</title>\n",
       "<polygon fill=\"#ffdab9\" stroke=\"#006400\" points=\"208,-36 136,-36 136,0 208,0 208,-36\"/>\n",
       "<text text-anchor=\"middle\" x=\"172\" y=\"-14.3\" font-family=\"Raleway\" font-size=\"14.00\" fill=\"#006400\">State 1 ✔</text>\n",
       "</g>\n",
       "<!-- input&#45;&gt;s1 -->\n",
       "<g id=\"edge1\" class=\"edge\">\n",
       "<title>input&#45;&gt;s1</title>\n",
       "<path fill=\"none\" stroke=\"#000000\" d=\"M59.0261,-18C78.3092,-18 103.8876,-18 125.829,-18\"/>\n",
       "<polygon fill=\"#000000\" stroke=\"#000000\" points=\"125.9406,-21.5001 135.9405,-18 125.9405,-14.5001 125.9406,-21.5001\"/>\n",
       "<text text-anchor=\"middle\" x=\"97.5\" y=\"-21.8\" font-family=\"Raleway\" font-size=\"14.00\" fill=\"#000000\">Step 1</text>\n",
       "</g>\n",
       "<!-- s2 -->\n",
       "<g id=\"node3\" class=\"node\">\n",
       "<title>s2</title>\n",
       "<polygon fill=\"#ffdab9\" stroke=\"#8b0000\" points=\"368,-36 296,-36 296,0 368,0 368,-36\"/>\n",
       "<text text-anchor=\"middle\" x=\"332\" y=\"-14.3\" font-family=\"Raleway\" font-size=\"14.00\" fill=\"#8b0000\">State 2 ✘</text>\n",
       "</g>\n",
       "<!-- s1&#45;&gt;s2 -->\n",
       "<g id=\"edge2\" class=\"edge\">\n",
       "<title>s1&#45;&gt;s2</title>\n",
       "<path fill=\"none\" stroke=\"#000000\" d=\"M208.3065,-18C231.2183,-18 261.0276,-18 285.6416,-18\"/>\n",
       "<polygon fill=\"#000000\" stroke=\"#000000\" points=\"285.8372,-21.5001 295.8372,-18 285.8372,-14.5001 285.8372,-21.5001\"/>\n",
       "<text text-anchor=\"middle\" x=\"252\" y=\"-21.8\" font-family=\"Raleway\" font-size=\"14.00\" fill=\"#8b0000\">Step 2 ✘</text>\n",
       "</g>\n",
       "<!-- s3 -->\n",
       "<g id=\"node4\" class=\"node\">\n",
       "<title>s3</title>\n",
       "<polygon fill=\"#ffdab9\" stroke=\"#8b0000\" points=\"517,-36 445,-36 445,0 517,0 517,-36\"/>\n",
       "<text text-anchor=\"middle\" x=\"481\" y=\"-14.3\" font-family=\"Raleway\" font-size=\"14.00\" fill=\"#8b0000\">State 3 ✘</text>\n",
       "</g>\n",
       "<!-- s2&#45;&gt;s3 -->\n",
       "<g id=\"edge3\" class=\"edge\">\n",
       "<title>s2&#45;&gt;s3</title>\n",
       "<path fill=\"none\" stroke=\"#000000\" d=\"M368.0687,-18C388.0529,-18 413.1175,-18 434.5535,-18\"/>\n",
       "<polygon fill=\"#000000\" stroke=\"#000000\" points=\"434.747,-21.5001 444.747,-18 434.7469,-14.5001 434.747,-21.5001\"/>\n",
       "<text text-anchor=\"middle\" x=\"406.5\" y=\"-21.8\" font-family=\"Raleway\" font-size=\"14.00\" fill=\"#000000\">Step 3</text>\n",
       "</g>\n",
       "</g>\n",
       "</svg>\n"
      ],
      "text/plain": [
       "<graphviz.dot.Digraph at 0x7ffb648f99e8>"
      ]
     },
     "metadata": {},
     "output_type": "display_data"
    },
    {
     "data": {
      "image/svg+xml": [
       "<?xml version=\"1.0\" encoding=\"UTF-8\" standalone=\"no\"?>\n",
       "<!DOCTYPE svg PUBLIC \"-//W3C//DTD SVG 1.1//EN\"\n",
       " \"http://www.w3.org/Graphics/SVG/1.1/DTD/svg11.dtd\">\n",
       "<!-- Generated by graphviz version 2.40.1 (20161225.0304)\n",
       " -->\n",
       "<!-- Title: %3 Pages: 1 -->\n",
       "<svg width=\"632pt\" height=\"44pt\"\n",
       " viewBox=\"0.00 0.00 632.00 44.00\" xmlns=\"http://www.w3.org/2000/svg\" xmlns:xlink=\"http://www.w3.org/1999/xlink\">\n",
       "<g id=\"graph0\" class=\"graph\" transform=\"scale(1 1) rotate(0) translate(4 40)\">\n",
       "<title>%3</title>\n",
       "<polygon fill=\"#ffffff\" stroke=\"transparent\" points=\"-4,4 -4,-40 628,-40 628,4 -4,4\"/>\n",
       "<!-- input -->\n",
       "<g id=\"node1\" class=\"node\">\n",
       "<title>input</title>\n",
       "<polygon fill=\"#ffffff\" stroke=\"transparent\" points=\"59,-36 0,-36 0,0 59,0 59,-36\"/>\n",
       "<text text-anchor=\"middle\" x=\"29.5\" y=\"-14.3\" font-family=\"Raleway\" font-size=\"14.00\" fill=\"#006400\">Input ✔</text>\n",
       "</g>\n",
       "<!-- s1 -->\n",
       "<g id=\"node2\" class=\"node\">\n",
       "<title>s1</title>\n",
       "<polygon fill=\"#ffdab9\" stroke=\"#006400\" points=\"208,-36 136,-36 136,0 208,0 208,-36\"/>\n",
       "<text text-anchor=\"middle\" x=\"172\" y=\"-14.3\" font-family=\"Raleway\" font-size=\"14.00\" fill=\"#006400\">State 1 ✔</text>\n",
       "</g>\n",
       "<!-- input&#45;&gt;s1 -->\n",
       "<g id=\"edge1\" class=\"edge\">\n",
       "<title>input&#45;&gt;s1</title>\n",
       "<path fill=\"none\" stroke=\"#000000\" d=\"M59.0261,-18C78.3092,-18 103.8876,-18 125.829,-18\"/>\n",
       "<polygon fill=\"#000000\" stroke=\"#000000\" points=\"125.9406,-21.5001 135.9405,-18 125.9405,-14.5001 125.9406,-21.5001\"/>\n",
       "<text text-anchor=\"middle\" x=\"97.5\" y=\"-21.8\" font-family=\"Raleway\" font-size=\"14.00\" fill=\"#000000\">Step 1</text>\n",
       "</g>\n",
       "<!-- s2 -->\n",
       "<g id=\"node3\" class=\"node\">\n",
       "<title>s2</title>\n",
       "<polygon fill=\"#ffdab9\" stroke=\"#8b0000\" points=\"368,-36 296,-36 296,0 368,0 368,-36\"/>\n",
       "<text text-anchor=\"middle\" x=\"332\" y=\"-14.3\" font-family=\"Raleway\" font-size=\"14.00\" fill=\"#8b0000\">State 2 ✘</text>\n",
       "</g>\n",
       "<!-- s1&#45;&gt;s2 -->\n",
       "<g id=\"edge2\" class=\"edge\">\n",
       "<title>s1&#45;&gt;s2</title>\n",
       "<path fill=\"none\" stroke=\"#000000\" d=\"M208.3065,-18C231.2183,-18 261.0276,-18 285.6416,-18\"/>\n",
       "<polygon fill=\"#000000\" stroke=\"#000000\" points=\"285.8372,-21.5001 295.8372,-18 285.8372,-14.5001 285.8372,-21.5001\"/>\n",
       "<text text-anchor=\"middle\" x=\"252\" y=\"-21.8\" font-family=\"Raleway\" font-size=\"14.00\" fill=\"#8b0000\">Step 2 ✘</text>\n",
       "</g>\n",
       "<!-- s3 -->\n",
       "<g id=\"node4\" class=\"node\">\n",
       "<title>s3</title>\n",
       "<polygon fill=\"#ffdab9\" stroke=\"#8b0000\" points=\"517,-36 445,-36 445,0 517,0 517,-36\"/>\n",
       "<text text-anchor=\"middle\" x=\"481\" y=\"-14.3\" font-family=\"Raleway\" font-size=\"14.00\" fill=\"#8b0000\">State 3 ✘</text>\n",
       "</g>\n",
       "<!-- s2&#45;&gt;s3 -->\n",
       "<g id=\"edge3\" class=\"edge\">\n",
       "<title>s2&#45;&gt;s3</title>\n",
       "<path fill=\"none\" stroke=\"#000000\" d=\"M368.0687,-18C388.0529,-18 413.1175,-18 434.5535,-18\"/>\n",
       "<polygon fill=\"#000000\" stroke=\"#000000\" points=\"434.747,-21.5001 444.747,-18 434.7469,-14.5001 434.747,-21.5001\"/>\n",
       "<text text-anchor=\"middle\" x=\"406.5\" y=\"-21.8\" font-family=\"Raleway\" font-size=\"14.00\" fill=\"#000000\">Step 3</text>\n",
       "</g>\n",
       "<!-- output -->\n",
       "<g id=\"node5\" class=\"node\">\n",
       "<title>output</title>\n",
       "<polygon fill=\"#ffffff\" stroke=\"transparent\" points=\"624,-36 554,-36 554,0 624,0 624,-36\"/>\n",
       "<text text-anchor=\"middle\" x=\"589\" y=\"-14.3\" font-family=\"Raleway\" font-size=\"14.00\" fill=\"#8b0000\">Output ✘</text>\n",
       "</g>\n",
       "<!-- s3&#45;&gt;output -->\n",
       "<g id=\"edge4\" class=\"edge\">\n",
       "<title>s3&#45;&gt;output</title>\n",
       "<path fill=\"none\" stroke=\"#000000\" d=\"M517.2629,-18C525.7195,-18 534.8289,-18 543.6249,-18\"/>\n",
       "<polygon fill=\"#000000\" stroke=\"#000000\" points=\"543.7489,-21.5001 553.7489,-18 543.7488,-14.5001 543.7489,-21.5001\"/>\n",
       "</g>\n",
       "</g>\n",
       "</svg>\n"
      ],
      "text/plain": [
       "<graphviz.dot.Digraph at 0x7ffb648f9400>"
      ]
     },
     "metadata": {},
     "output_type": "display_data"
    }
   ],
   "source": [
    "for until in range(1, 6):\n",
    "    execution_diagram(show_steps=True, until=until, error_step=2)"
   ]
  },
  {
   "cell_type": "markdown",
   "metadata": {},
   "source": [
    "Now, in the diagram above, Step 2 gets a _correct_ state as input and produces a _faulty_ state as output. The produced fault then propagates across more steps to finally become visible as a _failure_."
   ]
  },
  {
   "cell_type": "markdown",
   "metadata": {},
   "source": [
    "The goal of debugging thus is to _search_ for the step in which the state first becomes faulty. The _code_ associated with this step is again in error – an unwanted and unintended deviation from what is correct, right, or true – and is called a _defect_. This is what we have to find – and to fix."
   ]
  },
  {
   "cell_type": "markdown",
   "metadata": {},
   "source": [
    "Sounds easy, right? Unfortunately, things are not that easy, and that has something to do with the program state. Let us assume our state consists of three variables, `v1` to `v3`, and that Step 2 produces a fault in `v2`. This fault then propagates to the output:"
   ]
  },
  {
   "cell_type": "code",
   "execution_count": 659,
   "metadata": {},
   "outputs": [
    {
     "data": {
      "image/svg+xml": [
       "<?xml version=\"1.0\" encoding=\"UTF-8\" standalone=\"no\"?>\n",
       "<!DOCTYPE svg PUBLIC \"-//W3C//DTD SVG 1.1//EN\"\n",
       " \"http://www.w3.org/Graphics/SVG/1.1/DTD/svg11.dtd\">\n",
       "<!-- Generated by graphviz version 2.40.1 (20161225.0304)\n",
       " -->\n",
       "<!-- Title: %3 Pages: 1 -->\n",
       "<svg width=\"67pt\" height=\"44pt\"\n",
       " viewBox=\"0.00 0.00 67.00 44.00\" xmlns=\"http://www.w3.org/2000/svg\" xmlns:xlink=\"http://www.w3.org/1999/xlink\">\n",
       "<g id=\"graph0\" class=\"graph\" transform=\"scale(1 1) rotate(0) translate(4 40)\">\n",
       "<title>%3</title>\n",
       "<polygon fill=\"#ffffff\" stroke=\"transparent\" points=\"-4,4 -4,-40 63,-40 63,4 -4,4\"/>\n",
       "<!-- input -->\n",
       "<g id=\"node1\" class=\"node\">\n",
       "<title>input</title>\n",
       "<polygon fill=\"#ffffff\" stroke=\"transparent\" points=\"59,-36 0,-36 0,0 59,0 59,-36\"/>\n",
       "<text text-anchor=\"middle\" x=\"29.5\" y=\"-14.3\" font-family=\"Raleway\" font-size=\"14.00\" fill=\"#006400\">Input ✔</text>\n",
       "</g>\n",
       "</g>\n",
       "</svg>\n"
      ],
      "text/plain": [
       "<graphviz.dot.Digraph at 0x7ffb648f9c88>"
      ]
     },
     "metadata": {},
     "output_type": "display_data"
    },
    {
     "data": {
      "image/svg+xml": [
       "<?xml version=\"1.0\" encoding=\"UTF-8\" standalone=\"no\"?>\n",
       "<!DOCTYPE svg PUBLIC \"-//W3C//DTD SVG 1.1//EN\"\n",
       " \"http://www.w3.org/Graphics/SVG/1.1/DTD/svg11.dtd\">\n",
       "<!-- Generated by graphviz version 2.40.1 (20161225.0304)\n",
       " -->\n",
       "<!-- Title: %3 Pages: 1 -->\n",
       "<svg width=\"198pt\" height=\"78pt\"\n",
       " viewBox=\"0.00 0.00 198.00 78.00\" xmlns=\"http://www.w3.org/2000/svg\" xmlns:xlink=\"http://www.w3.org/1999/xlink\">\n",
       "<g id=\"graph0\" class=\"graph\" transform=\"scale(1 1) rotate(0) translate(4 74)\">\n",
       "<title>%3</title>\n",
       "<polygon fill=\"#ffffff\" stroke=\"transparent\" points=\"-4,4 -4,-74 194,-74 194,4 -4,4\"/>\n",
       "<!-- input -->\n",
       "<g id=\"node1\" class=\"node\">\n",
       "<title>input</title>\n",
       "<polygon fill=\"#ffffff\" stroke=\"transparent\" points=\"59,-53 0,-53 0,-17 59,-17 59,-53\"/>\n",
       "<text text-anchor=\"middle\" x=\"29.5\" y=\"-31.3\" font-family=\"Raleway\" font-size=\"14.00\" fill=\"#006400\">Input ✔</text>\n",
       "</g>\n",
       "<!-- s1 -->\n",
       "<g id=\"node2\" class=\"node\">\n",
       "<title>s1</title>\n",
       "<polygon fill=\"#ffdab9\" stroke=\"#006400\" points=\"136,-.5 136,-69.5 190,-69.5 190,-.5 136,-.5\"/>\n",
       "<text text-anchor=\"middle\" x=\"163\" y=\"-54.3\" font-family=\"Raleway\" font-size=\"14.00\" fill=\"#006400\">v1</text>\n",
       "<polyline fill=\"none\" stroke=\"#006400\" points=\"136,-46.5 190,-46.5 \"/>\n",
       "<text text-anchor=\"middle\" x=\"163\" y=\"-31.3\" font-family=\"Raleway\" font-size=\"14.00\" fill=\"#006400\">v2</text>\n",
       "<polyline fill=\"none\" stroke=\"#006400\" points=\"136,-23.5 190,-23.5 \"/>\n",
       "<text text-anchor=\"middle\" x=\"163\" y=\"-8.3\" font-family=\"Raleway\" font-size=\"14.00\" fill=\"#006400\">v3</text>\n",
       "</g>\n",
       "<!-- input&#45;&gt;s1 -->\n",
       "<g id=\"edge1\" class=\"edge\">\n",
       "<title>input&#45;&gt;s1</title>\n",
       "<path fill=\"none\" stroke=\"#000000\" d=\"M59.128,-35C78.7109,-35 104.544,-35 125.5485,-35\"/>\n",
       "<polygon fill=\"#000000\" stroke=\"#000000\" points=\"125.7277,-38.5001 135.7277,-35 125.7276,-31.5001 125.7277,-38.5001\"/>\n",
       "<text text-anchor=\"middle\" x=\"97.5\" y=\"-38.8\" font-family=\"Raleway\" font-size=\"14.00\" fill=\"#000000\">Step 1</text>\n",
       "</g>\n",
       "</g>\n",
       "</svg>\n"
      ],
      "text/plain": [
       "<graphviz.dot.Digraph at 0x7ffb648f9c88>"
      ]
     },
     "metadata": {},
     "output_type": "display_data"
    },
    {
     "data": {
      "image/svg+xml": [
       "<?xml version=\"1.0\" encoding=\"UTF-8\" standalone=\"no\"?>\n",
       "<!DOCTYPE svg PUBLIC \"-//W3C//DTD SVG 1.1//EN\"\n",
       " \"http://www.w3.org/Graphics/SVG/1.1/DTD/svg11.dtd\">\n",
       "<!-- Generated by graphviz version 2.40.1 (20161225.0304)\n",
       " -->\n",
       "<!-- Title: %3 Pages: 1 -->\n",
       "<svg width=\"340pt\" height=\"78pt\"\n",
       " viewBox=\"0.00 0.00 340.00 78.00\" xmlns=\"http://www.w3.org/2000/svg\" xmlns:xlink=\"http://www.w3.org/1999/xlink\">\n",
       "<g id=\"graph0\" class=\"graph\" transform=\"scale(1 1) rotate(0) translate(4 74)\">\n",
       "<title>%3</title>\n",
       "<polygon fill=\"#ffffff\" stroke=\"transparent\" points=\"-4,4 -4,-74 336,-74 336,4 -4,4\"/>\n",
       "<!-- input -->\n",
       "<g id=\"node1\" class=\"node\">\n",
       "<title>input</title>\n",
       "<polygon fill=\"#ffffff\" stroke=\"transparent\" points=\"59,-53 0,-53 0,-17 59,-17 59,-53\"/>\n",
       "<text text-anchor=\"middle\" x=\"29.5\" y=\"-31.3\" font-family=\"Raleway\" font-size=\"14.00\" fill=\"#006400\">Input ✔</text>\n",
       "</g>\n",
       "<!-- s1 -->\n",
       "<g id=\"node2\" class=\"node\">\n",
       "<title>s1</title>\n",
       "<polygon fill=\"#ffdab9\" stroke=\"#006400\" points=\"136,-.5 136,-69.5 190,-69.5 190,-.5 136,-.5\"/>\n",
       "<text text-anchor=\"middle\" x=\"163\" y=\"-54.3\" font-family=\"Raleway\" font-size=\"14.00\" fill=\"#006400\">v1</text>\n",
       "<polyline fill=\"none\" stroke=\"#006400\" points=\"136,-46.5 190,-46.5 \"/>\n",
       "<text text-anchor=\"middle\" x=\"163\" y=\"-31.3\" font-family=\"Raleway\" font-size=\"14.00\" fill=\"#006400\">v2</text>\n",
       "<polyline fill=\"none\" stroke=\"#006400\" points=\"136,-23.5 190,-23.5 \"/>\n",
       "<text text-anchor=\"middle\" x=\"163\" y=\"-8.3\" font-family=\"Raleway\" font-size=\"14.00\" fill=\"#006400\">v3</text>\n",
       "</g>\n",
       "<!-- input&#45;&gt;s1 -->\n",
       "<g id=\"edge1\" class=\"edge\">\n",
       "<title>input&#45;&gt;s1</title>\n",
       "<path fill=\"none\" stroke=\"#000000\" d=\"M59.128,-35C78.7109,-35 104.544,-35 125.5485,-35\"/>\n",
       "<polygon fill=\"#000000\" stroke=\"#000000\" points=\"125.7277,-38.5001 135.7277,-35 125.7276,-31.5001 125.7277,-38.5001\"/>\n",
       "<text text-anchor=\"middle\" x=\"97.5\" y=\"-38.8\" font-family=\"Raleway\" font-size=\"14.00\" fill=\"#000000\">Step 1</text>\n",
       "</g>\n",
       "<!-- s2 -->\n",
       "<g id=\"node3\" class=\"node\">\n",
       "<title>s2</title>\n",
       "<polygon fill=\"#ffdab9\" stroke=\"#8b0000\" points=\"278,-.5 278,-69.5 332,-69.5 332,-.5 278,-.5\"/>\n",
       "<text text-anchor=\"middle\" x=\"305\" y=\"-54.3\" font-family=\"Raleway\" font-size=\"14.00\" fill=\"#8b0000\">v1</text>\n",
       "<polyline fill=\"none\" stroke=\"#8b0000\" points=\"278,-46.5 332,-46.5 \"/>\n",
       "<text text-anchor=\"middle\" x=\"305\" y=\"-31.3\" font-family=\"Raleway\" font-size=\"14.00\" fill=\"#8b0000\">v2 ✘</text>\n",
       "<polyline fill=\"none\" stroke=\"#8b0000\" points=\"278,-23.5 332,-23.5 \"/>\n",
       "<text text-anchor=\"middle\" x=\"305\" y=\"-8.3\" font-family=\"Raleway\" font-size=\"14.00\" fill=\"#8b0000\">v3</text>\n",
       "</g>\n",
       "<!-- s1&#45;&gt;s2 -->\n",
       "<g id=\"edge2\" class=\"edge\">\n",
       "<title>s1&#45;&gt;s2:v2</title>\n",
       "<path fill=\"none\" stroke=\"#000000\" d=\"M190.4182,-35C211.0779,-35 240.4147,-35 267.6759,-35\"/>\n",
       "<polygon fill=\"#000000\" stroke=\"#000000\" points=\"268,-38.5001 278,-35 268,-31.5001 268,-38.5001\"/>\n",
       "<text text-anchor=\"middle\" x=\"234\" y=\"-38.8\" font-family=\"Raleway\" font-size=\"14.00\" fill=\"#8b0000\">Step 2 ✘</text>\n",
       "</g>\n",
       "</g>\n",
       "</svg>\n"
      ],
      "text/plain": [
       "<graphviz.dot.Digraph at 0x7ffb648f9ef0>"
      ]
     },
     "metadata": {},
     "output_type": "display_data"
    },
    {
     "data": {
      "image/svg+xml": [
       "<?xml version=\"1.0\" encoding=\"UTF-8\" standalone=\"no\"?>\n",
       "<!DOCTYPE svg PUBLIC \"-//W3C//DTD SVG 1.1//EN\"\n",
       " \"http://www.w3.org/Graphics/SVG/1.1/DTD/svg11.dtd\">\n",
       "<!-- Generated by graphviz version 2.40.1 (20161225.0304)\n",
       " -->\n",
       "<!-- Title: %3 Pages: 1 -->\n",
       "<svg width=\"471pt\" height=\"78pt\"\n",
       " viewBox=\"0.00 0.00 471.00 78.00\" xmlns=\"http://www.w3.org/2000/svg\" xmlns:xlink=\"http://www.w3.org/1999/xlink\">\n",
       "<g id=\"graph0\" class=\"graph\" transform=\"scale(1 1) rotate(0) translate(4 74)\">\n",
       "<title>%3</title>\n",
       "<polygon fill=\"#ffffff\" stroke=\"transparent\" points=\"-4,4 -4,-74 467,-74 467,4 -4,4\"/>\n",
       "<!-- input -->\n",
       "<g id=\"node1\" class=\"node\">\n",
       "<title>input</title>\n",
       "<polygon fill=\"#ffffff\" stroke=\"transparent\" points=\"59,-53 0,-53 0,-17 59,-17 59,-53\"/>\n",
       "<text text-anchor=\"middle\" x=\"29.5\" y=\"-31.3\" font-family=\"Raleway\" font-size=\"14.00\" fill=\"#006400\">Input ✔</text>\n",
       "</g>\n",
       "<!-- s1 -->\n",
       "<g id=\"node2\" class=\"node\">\n",
       "<title>s1</title>\n",
       "<polygon fill=\"#ffdab9\" stroke=\"#006400\" points=\"136,-.5 136,-69.5 190,-69.5 190,-.5 136,-.5\"/>\n",
       "<text text-anchor=\"middle\" x=\"163\" y=\"-54.3\" font-family=\"Raleway\" font-size=\"14.00\" fill=\"#006400\">v1</text>\n",
       "<polyline fill=\"none\" stroke=\"#006400\" points=\"136,-46.5 190,-46.5 \"/>\n",
       "<text text-anchor=\"middle\" x=\"163\" y=\"-31.3\" font-family=\"Raleway\" font-size=\"14.00\" fill=\"#006400\">v2</text>\n",
       "<polyline fill=\"none\" stroke=\"#006400\" points=\"136,-23.5 190,-23.5 \"/>\n",
       "<text text-anchor=\"middle\" x=\"163\" y=\"-8.3\" font-family=\"Raleway\" font-size=\"14.00\" fill=\"#006400\">v3</text>\n",
       "</g>\n",
       "<!-- input&#45;&gt;s1 -->\n",
       "<g id=\"edge1\" class=\"edge\">\n",
       "<title>input&#45;&gt;s1</title>\n",
       "<path fill=\"none\" stroke=\"#000000\" d=\"M59.128,-35C78.7109,-35 104.544,-35 125.5485,-35\"/>\n",
       "<polygon fill=\"#000000\" stroke=\"#000000\" points=\"125.7277,-38.5001 135.7277,-35 125.7276,-31.5001 125.7277,-38.5001\"/>\n",
       "<text text-anchor=\"middle\" x=\"97.5\" y=\"-38.8\" font-family=\"Raleway\" font-size=\"14.00\" fill=\"#000000\">Step 1</text>\n",
       "</g>\n",
       "<!-- s2 -->\n",
       "<g id=\"node3\" class=\"node\">\n",
       "<title>s2</title>\n",
       "<polygon fill=\"#ffdab9\" stroke=\"#8b0000\" points=\"278,-.5 278,-69.5 332,-69.5 332,-.5 278,-.5\"/>\n",
       "<text text-anchor=\"middle\" x=\"305\" y=\"-54.3\" font-family=\"Raleway\" font-size=\"14.00\" fill=\"#8b0000\">v1</text>\n",
       "<polyline fill=\"none\" stroke=\"#8b0000\" points=\"278,-46.5 332,-46.5 \"/>\n",
       "<text text-anchor=\"middle\" x=\"305\" y=\"-31.3\" font-family=\"Raleway\" font-size=\"14.00\" fill=\"#8b0000\">v2 ✘</text>\n",
       "<polyline fill=\"none\" stroke=\"#8b0000\" points=\"278,-23.5 332,-23.5 \"/>\n",
       "<text text-anchor=\"middle\" x=\"305\" y=\"-8.3\" font-family=\"Raleway\" font-size=\"14.00\" fill=\"#8b0000\">v3</text>\n",
       "</g>\n",
       "<!-- s1&#45;&gt;s2 -->\n",
       "<g id=\"edge2\" class=\"edge\">\n",
       "<title>s1&#45;&gt;s2:v2</title>\n",
       "<path fill=\"none\" stroke=\"#000000\" d=\"M190.4182,-35C211.0779,-35 240.4147,-35 267.6759,-35\"/>\n",
       "<polygon fill=\"#000000\" stroke=\"#000000\" points=\"268,-38.5001 278,-35 268,-31.5001 268,-38.5001\"/>\n",
       "<text text-anchor=\"middle\" x=\"234\" y=\"-38.8\" font-family=\"Raleway\" font-size=\"14.00\" fill=\"#8b0000\">Step 2 ✘</text>\n",
       "</g>\n",
       "<!-- s3 -->\n",
       "<g id=\"node4\" class=\"node\">\n",
       "<title>s3</title>\n",
       "<polygon fill=\"#ffdab9\" stroke=\"#8b0000\" points=\"409,-.5 409,-69.5 463,-69.5 463,-.5 409,-.5\"/>\n",
       "<text text-anchor=\"middle\" x=\"436\" y=\"-54.3\" font-family=\"Raleway\" font-size=\"14.00\" fill=\"#8b0000\">v1</text>\n",
       "<polyline fill=\"none\" stroke=\"#8b0000\" points=\"409,-46.5 463,-46.5 \"/>\n",
       "<text text-anchor=\"middle\" x=\"436\" y=\"-31.3\" font-family=\"Raleway\" font-size=\"14.00\" fill=\"#8b0000\">v2 ✘</text>\n",
       "<polyline fill=\"none\" stroke=\"#8b0000\" points=\"409,-23.5 463,-23.5 \"/>\n",
       "<text text-anchor=\"middle\" x=\"436\" y=\"-8.3\" font-family=\"Raleway\" font-size=\"14.00\" fill=\"#8b0000\">v3</text>\n",
       "</g>\n",
       "<!-- s2&#45;&gt;s3 -->\n",
       "<g id=\"edge3\" class=\"edge\">\n",
       "<title>s2:v2&#45;&gt;s3:v2</title>\n",
       "<path fill=\"none\" stroke=\"#000000\" d=\"M332,-35C362.6128,-35 372.6876,-35 398.9682,-35\"/>\n",
       "<polygon fill=\"#000000\" stroke=\"#000000\" points=\"399,-38.5001 409,-35 399,-31.5001 399,-38.5001\"/>\n",
       "<text text-anchor=\"middle\" x=\"370.5\" y=\"-38.8\" font-family=\"Raleway\" font-size=\"14.00\" fill=\"#000000\">Step 3</text>\n",
       "</g>\n",
       "</g>\n",
       "</svg>\n"
      ],
      "text/plain": [
       "<graphviz.dot.Digraph at 0x7ffb648f9908>"
      ]
     },
     "metadata": {},
     "output_type": "display_data"
    },
    {
     "data": {
      "image/svg+xml": [
       "<?xml version=\"1.0\" encoding=\"UTF-8\" standalone=\"no\"?>\n",
       "<!DOCTYPE svg PUBLIC \"-//W3C//DTD SVG 1.1//EN\"\n",
       " \"http://www.w3.org/Graphics/SVG/1.1/DTD/svg11.dtd\">\n",
       "<!-- Generated by graphviz version 2.40.1 (20161225.0304)\n",
       " -->\n",
       "<!-- Title: %3 Pages: 1 -->\n",
       "<svg width=\"578pt\" height=\"78pt\"\n",
       " viewBox=\"0.00 0.00 578.00 78.00\" xmlns=\"http://www.w3.org/2000/svg\" xmlns:xlink=\"http://www.w3.org/1999/xlink\">\n",
       "<g id=\"graph0\" class=\"graph\" transform=\"scale(1 1) rotate(0) translate(4 74)\">\n",
       "<title>%3</title>\n",
       "<polygon fill=\"#ffffff\" stroke=\"transparent\" points=\"-4,4 -4,-74 574,-74 574,4 -4,4\"/>\n",
       "<!-- input -->\n",
       "<g id=\"node1\" class=\"node\">\n",
       "<title>input</title>\n",
       "<polygon fill=\"#ffffff\" stroke=\"transparent\" points=\"59,-53 0,-53 0,-17 59,-17 59,-53\"/>\n",
       "<text text-anchor=\"middle\" x=\"29.5\" y=\"-31.3\" font-family=\"Raleway\" font-size=\"14.00\" fill=\"#006400\">Input ✔</text>\n",
       "</g>\n",
       "<!-- s1 -->\n",
       "<g id=\"node2\" class=\"node\">\n",
       "<title>s1</title>\n",
       "<polygon fill=\"#ffdab9\" stroke=\"#006400\" points=\"136,-.5 136,-69.5 190,-69.5 190,-.5 136,-.5\"/>\n",
       "<text text-anchor=\"middle\" x=\"163\" y=\"-54.3\" font-family=\"Raleway\" font-size=\"14.00\" fill=\"#006400\">v1</text>\n",
       "<polyline fill=\"none\" stroke=\"#006400\" points=\"136,-46.5 190,-46.5 \"/>\n",
       "<text text-anchor=\"middle\" x=\"163\" y=\"-31.3\" font-family=\"Raleway\" font-size=\"14.00\" fill=\"#006400\">v2</text>\n",
       "<polyline fill=\"none\" stroke=\"#006400\" points=\"136,-23.5 190,-23.5 \"/>\n",
       "<text text-anchor=\"middle\" x=\"163\" y=\"-8.3\" font-family=\"Raleway\" font-size=\"14.00\" fill=\"#006400\">v3</text>\n",
       "</g>\n",
       "<!-- input&#45;&gt;s1 -->\n",
       "<g id=\"edge1\" class=\"edge\">\n",
       "<title>input&#45;&gt;s1</title>\n",
       "<path fill=\"none\" stroke=\"#000000\" d=\"M59.128,-35C78.7109,-35 104.544,-35 125.5485,-35\"/>\n",
       "<polygon fill=\"#000000\" stroke=\"#000000\" points=\"125.7277,-38.5001 135.7277,-35 125.7276,-31.5001 125.7277,-38.5001\"/>\n",
       "<text text-anchor=\"middle\" x=\"97.5\" y=\"-38.8\" font-family=\"Raleway\" font-size=\"14.00\" fill=\"#000000\">Step 1</text>\n",
       "</g>\n",
       "<!-- s2 -->\n",
       "<g id=\"node3\" class=\"node\">\n",
       "<title>s2</title>\n",
       "<polygon fill=\"#ffdab9\" stroke=\"#8b0000\" points=\"278,-.5 278,-69.5 332,-69.5 332,-.5 278,-.5\"/>\n",
       "<text text-anchor=\"middle\" x=\"305\" y=\"-54.3\" font-family=\"Raleway\" font-size=\"14.00\" fill=\"#8b0000\">v1</text>\n",
       "<polyline fill=\"none\" stroke=\"#8b0000\" points=\"278,-46.5 332,-46.5 \"/>\n",
       "<text text-anchor=\"middle\" x=\"305\" y=\"-31.3\" font-family=\"Raleway\" font-size=\"14.00\" fill=\"#8b0000\">v2 ✘</text>\n",
       "<polyline fill=\"none\" stroke=\"#8b0000\" points=\"278,-23.5 332,-23.5 \"/>\n",
       "<text text-anchor=\"middle\" x=\"305\" y=\"-8.3\" font-family=\"Raleway\" font-size=\"14.00\" fill=\"#8b0000\">v3</text>\n",
       "</g>\n",
       "<!-- s1&#45;&gt;s2 -->\n",
       "<g id=\"edge2\" class=\"edge\">\n",
       "<title>s1&#45;&gt;s2:v2</title>\n",
       "<path fill=\"none\" stroke=\"#000000\" d=\"M190.4182,-35C211.0779,-35 240.4147,-35 267.6759,-35\"/>\n",
       "<polygon fill=\"#000000\" stroke=\"#000000\" points=\"268,-38.5001 278,-35 268,-31.5001 268,-38.5001\"/>\n",
       "<text text-anchor=\"middle\" x=\"234\" y=\"-38.8\" font-family=\"Raleway\" font-size=\"14.00\" fill=\"#8b0000\">Step 2 ✘</text>\n",
       "</g>\n",
       "<!-- s3 -->\n",
       "<g id=\"node4\" class=\"node\">\n",
       "<title>s3</title>\n",
       "<polygon fill=\"#ffdab9\" stroke=\"#8b0000\" points=\"409,-.5 409,-69.5 463,-69.5 463,-.5 409,-.5\"/>\n",
       "<text text-anchor=\"middle\" x=\"436\" y=\"-54.3\" font-family=\"Raleway\" font-size=\"14.00\" fill=\"#8b0000\">v1</text>\n",
       "<polyline fill=\"none\" stroke=\"#8b0000\" points=\"409,-46.5 463,-46.5 \"/>\n",
       "<text text-anchor=\"middle\" x=\"436\" y=\"-31.3\" font-family=\"Raleway\" font-size=\"14.00\" fill=\"#8b0000\">v2 ✘</text>\n",
       "<polyline fill=\"none\" stroke=\"#8b0000\" points=\"409,-23.5 463,-23.5 \"/>\n",
       "<text text-anchor=\"middle\" x=\"436\" y=\"-8.3\" font-family=\"Raleway\" font-size=\"14.00\" fill=\"#8b0000\">v3</text>\n",
       "</g>\n",
       "<!-- s2&#45;&gt;s3 -->\n",
       "<g id=\"edge3\" class=\"edge\">\n",
       "<title>s2:v2&#45;&gt;s3:v2</title>\n",
       "<path fill=\"none\" stroke=\"#000000\" d=\"M332,-35C362.6128,-35 372.6876,-35 398.9682,-35\"/>\n",
       "<polygon fill=\"#000000\" stroke=\"#000000\" points=\"399,-38.5001 409,-35 399,-31.5001 399,-38.5001\"/>\n",
       "<text text-anchor=\"middle\" x=\"370.5\" y=\"-38.8\" font-family=\"Raleway\" font-size=\"14.00\" fill=\"#000000\">Step 3</text>\n",
       "</g>\n",
       "<!-- output -->\n",
       "<g id=\"node5\" class=\"node\">\n",
       "<title>output</title>\n",
       "<polygon fill=\"#ffffff\" stroke=\"transparent\" points=\"570,-53 500,-53 500,-17 570,-17 570,-53\"/>\n",
       "<text text-anchor=\"middle\" x=\"535\" y=\"-31.3\" font-family=\"Raleway\" font-size=\"14.00\" fill=\"#8b0000\">Output ✘</text>\n",
       "</g>\n",
       "<!-- s3&#45;&gt;output -->\n",
       "<g id=\"edge4\" class=\"edge\">\n",
       "<title>s3:v2&#45;&gt;output</title>\n",
       "<path fill=\"none\" stroke=\"#000000\" d=\"M463,-35C471.625,-35 480.8312,-35 489.6787,-35\"/>\n",
       "<polygon fill=\"#000000\" stroke=\"#000000\" points=\"489.8438,-38.5001 499.8438,-35 489.8437,-31.5001 489.8438,-38.5001\"/>\n",
       "</g>\n",
       "</g>\n",
       "</svg>\n"
      ],
      "text/plain": [
       "<graphviz.dot.Digraph at 0x7ffb648f9eb8>"
      ]
     },
     "metadata": {},
     "output_type": "display_data"
    }
   ],
   "source": [
    "for until in range(1, 6):\n",
    "    execution_diagram(show_steps=True, variables=['v1', 'v2', 'v3'], error_step=2, \n",
    "                      until=until, fault_path=['s2:v2', 's3:v2'])"
   ]
  },
  {
   "cell_type": "markdown",
   "metadata": {},
   "source": [
    "The way these faults propagate is called a *cause-effect chain*:\n",
    "\n",
    "* The _defect_ in the code _causes_ a fault in the state when executed.\n",
    "* This _fault_ in the state then _propagates_ through further execution steps...\n",
    "* ... until it becomes visible as a _failure_.\n",
    "\n",
    "Note that not every defect also causes a failure, which is despite all testing, there can still be defects in the code looming around until the right conditions are met to trigger them. On the other hand, though, _every failure can be traced back to the defect that causes it_.\n",
    "\n",
    "To this end, we _trace back_ these faults along their _dependencies_ – that is, we find out which faults in the earlier state have caused the later faults. We start from the very end of the execution and then gradually progress backwards in time, examining fault after fault until we find a _transition_ from a correct state to a faulty state – that is, a\n",
    "step in which a correct state comes in and a faulty state comes out. At this point, we have found the origin of the failure – and the defect that causes it."
   ]
  },
  {
   "cell_type": "markdown",
   "metadata": {},
   "source": [
    "What sounds like a straight-forward strategy, unfortunately, doesn't always work this way in practice. That is because of the following problems of debugging:\n",
    "\n",
    "* First, program states are actually _large_, encompassing dozens to thousands of variables, possibly even more. If you have to search all of these manually and check them for faults, you will spend a lot of time for a single state.\n",
    "\n",
    "* Second, you do not always know _whether a state is correct or not._ While most programs have some form of specification for their inputs and outputs, these do not necessarily exist for intermediate results. If one had a specification that could check each state for correctness (possibly even automatically), debugging would be trivial. Unfortunately, it is not, and that's partly due to the lack of specifications.\n",
    "\n",
    "* Third, executions typically do not come in a handful of steps, as in the diagrams above; instead, they can easily encompass _thousands to millions of steps._ This means that you will have to examine not just one state, but several, making the problem much worse.\n",
    "\n",
    "To make your search efficient, you thus have to _focus_ your search – starting with most likely causes and gradually progressing to the less probable causes. This is what we call a _debugging strategy_."
   ]
  },
  {
   "cell_type": "markdown",
   "metadata": {},
   "source": [
    "## The Scientific Method\n",
    "\n",
    "Now that we know how failures come to be, let's look into how to systematically find their causes. What we need is a _strategy_ that helps us search for how and when the failure comes to be. For this, we use a process called the *scientific method*."
   ]
  },
  {
   "cell_type": "markdown",
   "metadata": {},
   "source": [
    "When we are debugging a program, we are trying to find the causes of a given effect – very much like natural scientists try to understand why things in nature are as they are and how they come to be. Over thousands of years, scientists have conducted _observations_ and _experiments_ to come to an understanding of how our world works. The process by which experimental scientists operate has been coined \"The scientific method\". This is how it works:"
   ]
  },
  {
   "cell_type": "markdown",
   "metadata": {},
   "source": [
    "1. Formulate a _question_, as in \"Why does this apple fall down?\".\n",
    "2. Invent a _hypothesis_ based on knowledge obtained while formulating the question, that may explain the observed behavior. \n",
    "3. Determining the logical consequences of the hypothesis, formulate a _prediction_ that can _support_ or _refute_ the hypothesis. Ideally, the prediction would distinguish the hypothesis from likely alternatives.\n",
    "4. _Test_ the prediction (and thus the hypothesis) in an _experiment_. If the prediction holds, confidence in the hypothesis increases; otherwise, it decreases.\n",
    "5. Repeat Steps 2–4 until there are no discrepancies between hypothesis and predictions and/or observations."
   ]
  },
  {
   "cell_type": "markdown",
   "metadata": {},
   "source": [
    "At this point, your hypothesis may be named a *theory* – that is, a predictive and comprehensive description of some aspect of the natural world. The gravitational theory, for instance, predicts very well how the moon revolves around the earth, and how the earth revolves around the sun.  Our debugging problems are of a slightly lesser scale – we'd like a theory of how our failure came to be – but the process is pretty much the same."
   ]
  },
  {
   "cell_type": "code",
   "execution_count": 660,
   "metadata": {
    "ipub": {
     "ignore": true
    }
   },
   "outputs": [],
   "source": [
    "dot = graph()\n",
    "\n",
    "dot.node('Hypothesis')\n",
    "dot.node('Observation')\n",
    "dot.node('Prediction')\n",
    "dot.node('Experiment')\n",
    "\n",
    "dot.edge('Hypothesis', 'Observation', label=\"<Hypothesis<BR/>is <I>supported:</I><BR/>Refine it>\", dir='back')\n",
    "dot.edge('Hypothesis', 'Prediction')\n",
    "\n",
    "dot.node('Problem Report', shape='none', fillcolor='white')\n",
    "dot.edge('Problem Report', 'Hypothesis')\n",
    "\n",
    "dot.node('Code', shape='none', fillcolor='white')\n",
    "dot.edge('Code', 'Hypothesis')\n",
    "\n",
    "dot.node('Runs', shape='none', fillcolor='white')\n",
    "dot.edge('Runs', 'Hypothesis')\n",
    "\n",
    "dot.node('More Runs', shape='none', fillcolor='white')\n",
    "dot.edge('More Runs', 'Hypothesis')\n",
    "\n",
    "dot.edge('Prediction', 'Experiment')\n",
    "dot.edge('Experiment', 'Observation')\n",
    "dot.edge('Observation', 'Hypothesis', label=\"<Hypothesis<BR/>is <I>rejected:</I><BR/>Seek alternative>\")"
   ]
  },
  {
   "cell_type": "code",
   "execution_count": 661,
   "metadata": {},
   "outputs": [
    {
     "data": {
      "image/svg+xml": [
       "<?xml version=\"1.0\" encoding=\"UTF-8\" standalone=\"no\"?>\n",
       "<!DOCTYPE svg PUBLIC \"-//W3C//DTD SVG 1.1//EN\"\n",
       " \"http://www.w3.org/Graphics/SVG/1.1/DTD/svg11.dtd\">\n",
       "<!-- Generated by graphviz version 2.40.1 (20161225.0304)\n",
       " -->\n",
       "<!-- Title: %3 Pages: 1 -->\n",
       "<svg width=\"818pt\" height=\"206pt\"\n",
       " viewBox=\"0.00 0.00 818.16 206.00\" xmlns=\"http://www.w3.org/2000/svg\" xmlns:xlink=\"http://www.w3.org/1999/xlink\">\n",
       "<g id=\"graph0\" class=\"graph\" transform=\"scale(1 1) rotate(0) translate(4 202)\">\n",
       "<title>%3</title>\n",
       "<polygon fill=\"#ffffff\" stroke=\"transparent\" points=\"-4,4 -4,-202 814.1603,-202 814.1603,4 -4,4\"/>\n",
       "<!-- Hypothesis -->\n",
       "<g id=\"node1\" class=\"node\">\n",
       "<title>Hypothesis</title>\n",
       "<ellipse fill=\"#ffdab9\" stroke=\"#000000\" cx=\"207.895\" cy=\"-99\" rx=\"55.7903\" ry=\"18\"/>\n",
       "<text text-anchor=\"middle\" x=\"207.895\" y=\"-95.3\" font-family=\"Raleway\" font-size=\"14.00\" fill=\"#000000\">Hypothesis</text>\n",
       "</g>\n",
       "<!-- Observation -->\n",
       "<g id=\"node2\" class=\"node\">\n",
       "<title>Observation</title>\n",
       "<ellipse fill=\"#ffdab9\" stroke=\"#000000\" cx=\"750.3656\" cy=\"-99\" rx=\"59.5901\" ry=\"18\"/>\n",
       "<text text-anchor=\"middle\" x=\"750.3656\" y=\"-95.3\" font-family=\"Raleway\" font-size=\"14.00\" fill=\"#000000\">Observation</text>\n",
       "</g>\n",
       "<!-- Hypothesis&#45;&gt;Observation -->\n",
       "<g id=\"edge1\" class=\"edge\">\n",
       "<title>Hypothesis&#45;&gt;Observation</title>\n",
       "<path fill=\"none\" stroke=\"#000000\" d=\"M255.064,-115.5056C269.5474,-119.8113 285.6592,-123.8457 300.7901,-126 456.0161,-148.101 498.2275,-147.26 653.5709,-126 672.7573,-123.3742 693.5033,-117.9494 710.8492,-112.6464\"/>\n",
       "<polygon fill=\"#000000\" stroke=\"#000000\" points=\"255.9166,-112.106 245.3292,-112.5012 253.8523,-118.7947 255.9166,-112.106\"/>\n",
       "<text text-anchor=\"start\" x=\"436.981\" y=\"-173.8\" font-family=\"Raleway\" font-size=\"14.00\" fill=\"#000000\">Hypothesis</text>\n",
       "<text text-anchor=\"start\" x=\"430.981\" y=\"-159.8\" font-family=\"Raleway\" font-size=\"14.00\" fill=\"#000000\">is </text>\n",
       "<text text-anchor=\"start\" x=\"445.981\" y=\"-159.8\" font-family=\"Raleway\" font-style=\"italic\" font-size=\"14.00\" fill=\"#000000\">supported:</text>\n",
       "<text text-anchor=\"start\" x=\"445.981\" y=\"-145.8\" font-family=\"Raleway\" font-size=\"14.00\" fill=\"#000000\">Refine it</text>\n",
       "</g>\n",
       "<!-- Prediction -->\n",
       "<g id=\"node3\" class=\"node\">\n",
       "<title>Prediction</title>\n",
       "<ellipse fill=\"#ffdab9\" stroke=\"#000000\" cx=\"352.1355\" cy=\"-99\" rx=\"51.1914\" ry=\"18\"/>\n",
       "<text text-anchor=\"middle\" x=\"352.1355\" y=\"-95.3\" font-family=\"Raleway\" font-size=\"14.00\" fill=\"#000000\">Prediction</text>\n",
       "</g>\n",
       "<!-- Hypothesis&#45;&gt;Prediction -->\n",
       "<g id=\"edge2\" class=\"edge\">\n",
       "<title>Hypothesis&#45;&gt;Prediction</title>\n",
       "<path fill=\"none\" stroke=\"#000000\" d=\"M264.0752,-99C272.7171,-99 281.6805,-99 290.4346,-99\"/>\n",
       "<polygon fill=\"#000000\" stroke=\"#000000\" points=\"290.5833,-102.5001 300.5833,-99 290.5832,-95.5001 290.5833,-102.5001\"/>\n",
       "</g>\n",
       "<!-- Observation&#45;&gt;Hypothesis -->\n",
       "<g id=\"edge9\" class=\"edge\">\n",
       "<title>Observation&#45;&gt;Hypothesis</title>\n",
       "<path fill=\"none\" stroke=\"#000000\" d=\"M708.2504,-85.9868C691.3705,-81.1039 671.6653,-75.8185 653.5709,-72 500.1583,-39.6249 453.8195,-37.8597 300.7901,-72 286.6763,-75.1487 271.548,-79.2337 257.6843,-83.2689\"/>\n",
       "<polygon fill=\"#000000\" stroke=\"#000000\" points=\"256.439,-79.9874 247.8454,-86.1842 258.4277,-86.6989 256.439,-79.9874\"/>\n",
       "<text text-anchor=\"start\" x=\"436.981\" y=\"-80.8\" font-family=\"Raleway\" font-size=\"14.00\" fill=\"#000000\">Hypothesis</text>\n",
       "<text text-anchor=\"start\" x=\"437.481\" y=\"-66.8\" font-family=\"Raleway\" font-size=\"14.00\" fill=\"#000000\">is </text>\n",
       "<text text-anchor=\"start\" x=\"452.481\" y=\"-66.8\" font-family=\"Raleway\" font-style=\"italic\" font-size=\"14.00\" fill=\"#000000\">rejected:</text>\n",
       "<text text-anchor=\"start\" x=\"421.481\" y=\"-52.8\" font-family=\"Raleway\" font-size=\"14.00\" fill=\"#000000\">Seek alternative</text>\n",
       "</g>\n",
       "<!-- Experiment -->\n",
       "<g id=\"node4\" class=\"node\">\n",
       "<title>Experiment</title>\n",
       "<ellipse fill=\"#ffdab9\" stroke=\"#000000\" cx=\"597.026\" cy=\"-99\" rx=\"56.59\" ry=\"18\"/>\n",
       "<text text-anchor=\"middle\" x=\"597.026\" y=\"-95.3\" font-family=\"Raleway\" font-size=\"14.00\" fill=\"#000000\">Experiment</text>\n",
       "</g>\n",
       "<!-- Prediction&#45;&gt;Experiment -->\n",
       "<g id=\"edge7\" class=\"edge\">\n",
       "<title>Prediction&#45;&gt;Experiment</title>\n",
       "<path fill=\"none\" stroke=\"#000000\" d=\"M403.7712,-99C440.5622,-99 490.348,-99 530.1731,-99\"/>\n",
       "<polygon fill=\"#000000\" stroke=\"#000000\" points=\"530.3318,-102.5001 540.3318,-99 530.3317,-95.5001 530.3318,-102.5001\"/>\n",
       "</g>\n",
       "<!-- Experiment&#45;&gt;Observation -->\n",
       "<g id=\"edge8\" class=\"edge\">\n",
       "<title>Experiment&#45;&gt;Observation</title>\n",
       "<path fill=\"none\" stroke=\"#000000\" d=\"M653.6883,-99C662.273,-99 671.2176,-99 680.0489,-99\"/>\n",
       "<polygon fill=\"#000000\" stroke=\"#000000\" points=\"680.3359,-102.5001 690.3358,-99 680.3358,-95.5001 680.3359,-102.5001\"/>\n",
       "</g>\n",
       "<!-- Problem Report -->\n",
       "<g id=\"node5\" class=\"node\">\n",
       "<title>Problem Report</title>\n",
       "<polygon fill=\"#ffffff\" stroke=\"transparent\" points=\"115,-198 0,-198 0,-162 115,-162 115,-198\"/>\n",
       "<text text-anchor=\"middle\" x=\"57.5\" y=\"-176.3\" font-family=\"Raleway\" font-size=\"14.00\" fill=\"#000000\">Problem Report</text>\n",
       "</g>\n",
       "<!-- Problem Report&#45;&gt;Hypothesis -->\n",
       "<g id=\"edge3\" class=\"edge\">\n",
       "<title>Problem Report&#45;&gt;Hypothesis</title>\n",
       "<path fill=\"none\" stroke=\"#000000\" d=\"M97.3156,-161.8589C103.2848,-158.9794 109.3346,-155.9695 115,-153 134.5571,-142.7491 155.8888,-130.4331 173.1728,-120.1533\"/>\n",
       "<polygon fill=\"#000000\" stroke=\"#000000\" points=\"175.0271,-123.1225 181.8115,-114.9849 171.4331,-117.1155 175.0271,-123.1225\"/>\n",
       "</g>\n",
       "<!-- Code -->\n",
       "<g id=\"node6\" class=\"node\">\n",
       "<title>Code</title>\n",
       "<polygon fill=\"#ffffff\" stroke=\"transparent\" points=\"84.5,-144 30.5,-144 30.5,-108 84.5,-108 84.5,-144\"/>\n",
       "<text text-anchor=\"middle\" x=\"57.5\" y=\"-122.3\" font-family=\"Raleway\" font-size=\"14.00\" fill=\"#000000\">Code</text>\n",
       "</g>\n",
       "<!-- Code&#45;&gt;Hypothesis -->\n",
       "<g id=\"edge4\" class=\"edge\">\n",
       "<title>Code&#45;&gt;Hypothesis</title>\n",
       "<path fill=\"none\" stroke=\"#000000\" d=\"M84.7354,-121.1105C102.6464,-117.895 126.7878,-113.5609 148.951,-109.5821\"/>\n",
       "<polygon fill=\"#000000\" stroke=\"#000000\" points=\"149.7412,-112.9962 158.9654,-107.7842 148.5043,-106.1064 149.7412,-112.9962\"/>\n",
       "</g>\n",
       "<!-- Runs -->\n",
       "<g id=\"node7\" class=\"node\">\n",
       "<title>Runs</title>\n",
       "<polygon fill=\"#ffffff\" stroke=\"transparent\" points=\"84.5,-90 30.5,-90 30.5,-54 84.5,-54 84.5,-90\"/>\n",
       "<text text-anchor=\"middle\" x=\"57.5\" y=\"-68.3\" font-family=\"Raleway\" font-size=\"14.00\" fill=\"#000000\">Runs</text>\n",
       "</g>\n",
       "<!-- Runs&#45;&gt;Hypothesis -->\n",
       "<g id=\"edge5\" class=\"edge\">\n",
       "<title>Runs&#45;&gt;Hypothesis</title>\n",
       "<path fill=\"none\" stroke=\"#000000\" d=\"M84.7354,-76.8895C102.6464,-80.105 126.7878,-84.4391 148.951,-88.4179\"/>\n",
       "<polygon fill=\"#000000\" stroke=\"#000000\" points=\"148.5043,-91.8936 158.9654,-90.2158 149.7412,-85.0038 148.5043,-91.8936\"/>\n",
       "</g>\n",
       "<!-- More Runs -->\n",
       "<g id=\"node8\" class=\"node\">\n",
       "<title>More Runs</title>\n",
       "<polygon fill=\"#ffffff\" stroke=\"transparent\" points=\"100,-36 15,-36 15,0 100,0 100,-36\"/>\n",
       "<text text-anchor=\"middle\" x=\"57.5\" y=\"-14.3\" font-family=\"Raleway\" font-size=\"14.00\" fill=\"#000000\">More Runs</text>\n",
       "</g>\n",
       "<!-- More Runs&#45;&gt;Hypothesis -->\n",
       "<g id=\"edge6\" class=\"edge\">\n",
       "<title>More Runs&#45;&gt;Hypothesis</title>\n",
       "<path fill=\"none\" stroke=\"#000000\" d=\"M97.3156,-36.1411C103.2848,-39.0206 109.3346,-42.0305 115,-45 134.5571,-55.2509 155.8888,-67.5669 173.1728,-77.8467\"/>\n",
       "<polygon fill=\"#000000\" stroke=\"#000000\" points=\"171.4331,-80.8845 181.8115,-83.0151 175.0271,-74.8775 171.4331,-80.8845\"/>\n",
       "</g>\n",
       "</g>\n",
       "</svg>\n"
      ],
      "text/plain": [
       "<graphviz.dot.Digraph at 0x7ffb648ec860>"
      ]
     },
     "metadata": {},
     "output_type": "display_data"
    }
   ],
   "source": [
    "display(dot)"
   ]
  },
  {
   "cell_type": "markdown",
   "metadata": {},
   "source": [
    "In debugging, we proceed the very same way – indeed, we are treating bugs as if they were natural phenomena.   This analogy may sound far-fetched, as programs are anything but natural.  Nature, by definition, is not under our control.  But bugs are out of our contrl, either, and this is where the analogy works.  This means that we can apply the same techniques."
   ]
  },
  {
   "cell_type": "markdown",
   "metadata": {},
   "source": [
    "### Finding a Hypothesis"
   ]
  },
  {
   "cell_type": "markdown",
   "metadata": {},
   "source": [
    "Let us apply the scientific method to our Python program which removes HTML tags.  First of all, let us recall the problem – `remove_html_markup()` works for some inputs, but fails on others."
   ]
  },
  {
   "cell_type": "code",
   "execution_count": 672,
   "metadata": {},
   "outputs": [
    {
     "name": "stdout",
     "output_type": "stream",
     "text": [
      "<b>foo</b>           foo\n",
      "<b>\"foo\"</b>         foo\n",
      "\"<b>foo</b>\"         <b>foo</b>\n",
      "<\"b\">foo</\"b\">       foo\n"
     ]
    }
   ],
   "source": [
    "for html in [ '<b>foo</b>', '<b>\"foo\"</b>', '\"<b>foo</b>\"', '<\"b\">foo</\"b\">']:\n",
    "    result = remove_html_markup(html)\n",
    "    print(\"%-20s %s\" % (html, result))"
   ]
  },
  {
   "cell_type": "markdown",
   "metadata": {},
   "source": [
    "INput #1 and #4 work as expected, the others do not. We can write these down in a table, such that we can always look back at our previous results:\n",
    "\n",
    "|Input|Expectation|Output|Outcome|\n",
    "|-----|-----------|------|-------|\n",
    "|`<b>foo</b>`|`foo`|`foo`|✔|\n",
    "|`<b>\"foo\"</b>`|`\"foo\"`|`foo`|✘|\n",
    "|`\"<b>foo</b>\"`|`\"foo\"`|`<b>foo</b>`|✘|\n",
    "|`<\"b\">foo</\"b\">`|`foo`|`foo`|✔|\n"
   ]
  },
  {
   "cell_type": "markdown",
   "metadata": {},
   "source": [
    "*Quiz*: From the difference between success and failure, we can already devise some observations about what's wrong with the output.  Which of these can we turn into general hypotheses?\n",
    "\n",
    "1. Double quotes are stripped from the tagged input. \n",
    "2. Tags in double quotes are not stripped.\n",
    "3. The tag `<b>` is always stripped from the input.\n",
    "4. Four-letter words are stripped.\n",
    "\n",
    "(Answer: 1. and 2. are correct.)"
   ]
  },
  {
   "cell_type": "markdown",
   "metadata": {},
   "source": [
    "### Testing a Hypothesis\n",
    "\n",
    "The hypotheses that remain are:\n",
    "\n",
    "1. Double quotes are stripped from the tagged input.\n",
    "2. Tags in double quotes are not stripped."
   ]
  },
  {
   "cell_type": "markdown",
   "metadata": {},
   "source": [
    "These may be two separate issues, but chances are they are tied to each other.  Let's focus on 1., because it is simpler.  Does it hold for all inputs, even untagged ones?  Our hypothesis becomes\n",
    "\n",
    "1. Double quotes are stripped from the ~~tagged~~ input."
   ]
  },
  {
   "cell_type": "markdown",
   "metadata": {},
   "source": [
    "Let's devise an experiment to validate this.  If we feed the string\n",
    "```html\n",
    "\"foo\"\n",
    "```\n",
    "(including the double quotes) into `remove_html_markup()`, we should obtain\n",
    "```html\n",
    "\"foo\"\n",
    "```\n",
    "as result – that is, the output should be the unchanged input. However, if our hypothesis 1. is correct, we should obtain\n",
    "```html\n",
    "foo\n",
    "```\n",
    "as result – that is, \"Double quotes are stripped from the input\" as predicted by the hypothesis."
   ]
  },
  {
   "cell_type": "markdown",
   "metadata": {},
   "source": [
    "We can very easily test this hypothesis:"
   ]
  },
  {
   "cell_type": "code",
   "execution_count": 674,
   "metadata": {},
   "outputs": [
    {
     "data": {
      "text/plain": [
       "'foo'"
      ]
     },
     "execution_count": 674,
     "metadata": {},
     "output_type": "execute_result"
    }
   ],
   "source": [
    "remove_html_markup('\"foo\"')"
   ]
  },
  {
   "cell_type": "markdown",
   "metadata": {},
   "source": [
    "Our hypothesis is confirmed! We can add this to our list of observations."
   ]
  },
  {
   "cell_type": "markdown",
   "metadata": {},
   "source": [
    "|Input|Expectation|Output|Outcome|\n",
    "|-----|-----------|------|-------|\n",
    "|`<b>foo</b>`|`foo`|`foo`|✔|\n",
    "|`<b>\"foo\"</b>`|`\"foo\"`|`foo`|✘|\n",
    "|`\"<b>foo</b>\"`|`\"foo\"`|`<b>foo</b>`|✘|\n",
    "|`<\"b\">foo</\"b\">`|`foo`|`foo`|✔|\n",
    "|`\"foo\"`|`\"foo\"`|`foo`|✘|\n"
   ]
  },
  {
   "cell_type": "markdown",
   "metadata": {},
   "source": [
    "You can try out the hypothesis with more inputs – and it remains valid. Any non-markup input that contains double quotes will have these stripped."
   ]
  },
  {
   "cell_type": "markdown",
   "metadata": {},
   "source": [
    "Where does that quote-stripping come from?  This is where we need to explore the cause-effect chain.  The only place in `remove_html_markup()` where quotes are handled is this line:\n",
    "\n",
    "```python\n",
    "        elif c == '\"' or c == \"'\" and tag:\n",
    "             quote = not quote\n",
    "```\n",
    "\n",
    "So, quotes should be removed only if `tag` is set. However, `tag` can be set only if the input contains a markup tag, which is not the case for a simple input like `\"foo\"`. Hence, what we observe is actually _impossible._ Yet, it happens."
   ]
  },
  {
   "cell_type": "markdown",
   "metadata": {},
   "source": [
    "### Refining a Hypothesis\n",
    "\n",
    "Debugging is a game of falsifying assumptions. You assume the code works – it doesn't. You assume the `tag` flag cannot be set – yet it may be. What do we do? Again, we create a hypothesis:\n",
    "\n",
    "1. The error is due to `tag` being set."
   ]
  },
  {
   "cell_type": "markdown",
   "metadata": {},
   "source": [
    "How do we know whether tag is being set?  Let me introduce one of the most powerful debugging tools ever invented, the `assert` statement.  The statement\n",
    "```python\n",
    "assert cond\n",
    "```\n",
    "evaluates the given condition `cond` and\n",
    "\n",
    "* if it holds: proceed as usual\n",
    "* if `cond` does not hold: throw an exception\n",
    "\n",
    "An `assert` statement _encodes our assumptions_ and as such, should never fail. If it does, well, then something is wrong."
   ]
  },
  {
   "cell_type": "markdown",
   "metadata": {},
   "source": [
    "Using `assert`, we can check the value of `tag` all through the loop:"
   ]
  },
  {
   "cell_type": "code",
   "execution_count": 677,
   "metadata": {},
   "outputs": [],
   "source": [
    "def remove_html_markup_with_tag_assert(s):\n",
    "    tag   = False\n",
    "    quote = False\n",
    "    out   = \"\"\n",
    "\n",
    "    for c in s:\n",
    "        assert not tag  # <=== Just added\n",
    "\n",
    "        if c == '<' and not quote:\n",
    "            tag = True\n",
    "        elif c == '>' and not quote:\n",
    "            tag = False\n",
    "        elif c == '\"' or c == \"'\" and tag:\n",
    "            quote = not quote\n",
    "        elif not tag:\n",
    "            out = out + c\n",
    "    \n",
    "    return out"
   ]
  },
  {
   "cell_type": "markdown",
   "metadata": {},
   "source": [
    "Our expectation is:\n",
    "\n",
    "|Input|Expectation|Output|Outcome|\n",
    "|-----|-----------|------|-------|\n",
    "|`\"foo\"`|Assertion fails|||\n"
   ]
  },
  {
   "cell_type": "markdown",
   "metadata": {},
   "source": [
    "So, do we actually get an exception? Try it out for yourself!"
   ]
  },
  {
   "cell_type": "code",
   "execution_count": 678,
   "metadata": {},
   "outputs": [],
   "source": [
    "# remove_html_markup_with_tag_assert('\"foo\"')"
   ]
  },
  {
   "cell_type": "markdown",
   "metadata": {},
   "source": [
    "Quiz: After inserting `assert`,\n",
    "\n",
    "1. the program raises an exception (i.e., `tag` is set)\n",
    "2. the output is still foo (i.e., `tag` is not set)\n",
    "\n",
    "Solution: 2. is correct.\n"
   ]
  },
  {
   "cell_type": "code",
   "execution_count": 684,
   "metadata": {},
   "outputs": [
    {
     "data": {
      "text/plain": [
       "'foo'"
      ]
     },
     "execution_count": 684,
     "metadata": {},
     "output_type": "execute_result"
    }
   ],
   "source": [
    "with ExpectError():\n",
    "    result = remove_html_markup_with_tag_assert('\"foo\"')\n",
    "result"
   ]
  },
  {
   "cell_type": "markdown",
   "metadata": {},
   "source": [
    "### Refuting a Hypothesis\n",
    "\n",
    "We did not get an exception, hence we reject our hypothesis:\n",
    "\n",
    "1. ~~The error is due to `tag` being set.~~\n"
   ]
  },
  {
   "cell_type": "markdown",
   "metadata": {},
   "source": [
    "Again, let's go back to the only place in our code where quotes are handled:\n",
    "\n",
    "```python\n",
    "        elif c == '\"' or c == \"'\" and tag:\n",
    "             quote = not quote\n",
    "```\n",
    "\n",
    "Because of the assertion, we already know that `tag` is always False.  Hence, this condition should never hold either."
   ]
  },
  {
   "cell_type": "markdown",
   "metadata": {},
   "source": [
    "But maybe there's something wrong with the condition such that it holds? Here's our hypothesis:\n",
    "\n",
    "1. The error is due to the quote condition evaluating to true\n"
   ]
  },
  {
   "cell_type": "markdown",
   "metadata": {},
   "source": [
    "If the condition evaluates to true, then `quote` should be set.  We could now go and assert that `quote` is false; but we only care about the condition.  So we insert an assertion that assumes that setting the code setting the `quote` flag is never reached:"
   ]
  },
  {
   "cell_type": "code",
   "execution_count": 679,
   "metadata": {},
   "outputs": [],
   "source": [
    "def remove_html_markup_with_quote_assert(s):\n",
    "    tag   = False\n",
    "    quote = False\n",
    "    out   = \"\"\n",
    "\n",
    "    for c in s:\n",
    "        if c == '<' and not quote:\n",
    "            tag = True\n",
    "        elif c == '>' and not quote:\n",
    "            tag = False\n",
    "        elif c == '\"' or c == \"'\" and tag:\n",
    "            assert False  # <=== Just added\n",
    "            quote = not quote\n",
    "        elif not tag:\n",
    "            out = out + c\n",
    "    \n",
    "    return out"
   ]
  },
  {
   "cell_type": "markdown",
   "metadata": {},
   "source": [
    "Our expectation this time again is that the assertion fails:\n",
    "\n",
    "|Input|Expectation|Output|Outcome|\n",
    "|-----|-----------|------|-------|\n",
    "|`\"foo\"`|Assertion fails|||\n"
   ]
  },
  {
   "cell_type": "markdown",
   "metadata": {},
   "source": [
    "So, do we get an exception this time? Try it out for yourself!"
   ]
  },
  {
   "cell_type": "code",
   "execution_count": 680,
   "metadata": {},
   "outputs": [],
   "source": [
    "# remove_html_markup_with_quote_assert('\"foo\"')"
   ]
  },
  {
   "cell_type": "markdown",
   "metadata": {},
   "source": [
    "Quiz: After inserting `assert`,\n",
    "\n",
    "1. the program raises an exception (i.e., the quote condition holds)\n",
    "2. the output is still foo (i.e., the quote condition does not hold)\n",
    "\n",
    "Solution: 1. is correct."
   ]
  },
  {
   "cell_type": "code",
   "execution_count": 686,
   "metadata": {},
   "outputs": [
    {
     "name": "stderr",
     "output_type": "stream",
     "text": [
      "Traceback (most recent call last):\n",
      "  File \"<ipython-input-686-9ce255289291>\", line 2, in <module>\n",
      "    result = remove_html_markup_with_quote_assert('\"foo\"')\n",
      "  File \"<ipython-input-679-7c03457dde82>\", line 12, in remove_html_markup_with_quote_assert\n",
      "    assert False  # <=== Just added\n",
      "AssertionError (expected)\n"
     ]
    }
   ],
   "source": [
    "with ExpectError():\n",
    "    result = remove_html_markup_with_quote_assert('\"foo\"')"
   ]
  },
  {
   "cell_type": "markdown",
   "metadata": {},
   "source": [
    "## Synopsis"
   ]
  },
  {
   "cell_type": "markdown",
   "metadata": {},
   "source": [
    "_For those only interested in using the code in this chapter (without wanting to know how it works), give an example.  This will be copied to the beginning of the chapter (before the first section) as text with rendered input and output._"
   ]
  },
  {
   "cell_type": "markdown",
   "metadata": {
    "button": false,
    "new_sheet": true,
    "run_control": {
     "read_only": false
    }
   },
   "source": [
    "## Lessons Learned\n",
    "\n",
    "* _Lesson one_\n",
    "* _Lesson two_\n",
    "* _Lesson three_"
   ]
  },
  {
   "cell_type": "markdown",
   "metadata": {
    "button": false,
    "new_sheet": false,
    "run_control": {
     "read_only": false
    }
   },
   "source": [
    "## Next Steps\n",
    "\n",
    "_Link to subsequent chapters (notebooks) here, as in:_\n",
    "\n",
    "* [use _mutations_ on existing inputs to get more valid inputs](MutationFuzzer.ipynb)\n",
    "* [use _grammars_ (i.e., a specification of the input format) to get even more valid inputs](Grammars.ipynb)\n",
    "* [reduce _failing inputs_ for efficient debugging](Reducer.ipynb)\n"
   ]
  },
  {
   "cell_type": "markdown",
   "metadata": {},
   "source": [
    "## Background\n",
    "\n",
    "_Cite relevant works in the literature and put them into context, as in:_\n",
    "\n",
    "The idea of ensuring that each expansion in the grammar is used at least once goes back to Burkhardt \\cite{Burkhardt1967}, to be later rediscovered by Paul Purdom \\cite{Purdom1972}."
   ]
  },
  {
   "cell_type": "markdown",
   "metadata": {
    "button": false,
    "new_sheet": true,
    "run_control": {
     "read_only": false
    }
   },
   "source": [
    "## Exercises\n",
    "\n",
    "_Close the chapter with a few exercises such that people have things to do.  To make the solutions hidden (to be revealed by the user), have them start with_\n",
    "\n",
    "```\n",
    "**Solution.**\n",
    "```\n",
    "\n",
    "_Your solution can then extend up to the next title (i.e., any markdown cell starting with `#`)._\n",
    "\n",
    "_Running `make metadata` will automatically add metadata to the cells such that the cells will be hidden by default, and can be uncovered by the user.  The button will be introduced above the solution._"
   ]
  },
  {
   "cell_type": "markdown",
   "metadata": {
    "button": false,
    "new_sheet": false,
    "run_control": {
     "read_only": false
    }
   },
   "source": [
    "### Exercise 1: _Title_\n",
    "\n",
    "_Text of the exercise_"
   ]
  },
  {
   "cell_type": "code",
   "execution_count": 662,
   "metadata": {
    "cell_style": "center"
   },
   "outputs": [],
   "source": [
    "# Some code that is part of the exercise\n",
    "pass"
   ]
  },
  {
   "cell_type": "markdown",
   "metadata": {
    "solution2": "hidden",
    "solution2_first": true
   },
   "source": [
    "_Some more text for the exercise_"
   ]
  },
  {
   "cell_type": "markdown",
   "metadata": {
    "slideshow": {
     "slide_type": "skip"
    },
    "solution2": "hidden"
   },
   "source": [
    "**Solution.** _Some text for the solution_"
   ]
  },
  {
   "cell_type": "code",
   "execution_count": 663,
   "metadata": {
    "cell_style": "split",
    "slideshow": {
     "slide_type": "skip"
    },
    "solution2": "hidden"
   },
   "outputs": [
    {
     "data": {
      "text/plain": [
       "4"
      ]
     },
     "execution_count": 663,
     "metadata": {},
     "output_type": "execute_result"
    }
   ],
   "source": [
    "# Some code for the solution\n",
    "2 + 2"
   ]
  },
  {
   "cell_type": "markdown",
   "metadata": {
    "slideshow": {
     "slide_type": "skip"
    },
    "solution2": "hidden"
   },
   "source": [
    "_Some more text for the solution_"
   ]
  },
  {
   "cell_type": "markdown",
   "metadata": {
    "button": false,
    "new_sheet": false,
    "run_control": {
     "read_only": false
    },
    "solution": "hidden",
    "solution2": "hidden",
    "solution2_first": true,
    "solution_first": true
   },
   "source": [
    "### Exercise 2: _Title_\n",
    "\n",
    "_Text of the exercise_"
   ]
  },
  {
   "cell_type": "markdown",
   "metadata": {
    "button": false,
    "new_sheet": false,
    "run_control": {
     "read_only": false
    },
    "slideshow": {
     "slide_type": "skip"
    },
    "solution": "hidden",
    "solution2": "hidden"
   },
   "source": [
    "**Solution.** _Solution for the exercise_"
   ]
  }
 ],
 "metadata": {
  "ipub": {
   "bibliography": "fuzzingbook.bib",
   "toc": true
  },
  "kernelspec": {
   "display_name": "Python 3",
   "language": "python",
   "name": "python3"
  },
  "language_info": {
   "codemirror_mode": {
    "name": "ipython",
    "version": 3
   },
   "file_extension": ".py",
   "mimetype": "text/x-python",
   "name": "python",
   "nbconvert_exporter": "python",
   "pygments_lexer": "ipython3",
   "version": "3.6.8"
  },
  "toc": {
   "base_numbering": 1,
   "nav_menu": {},
   "number_sections": true,
   "sideBar": true,
   "skip_h1_title": true,
   "title_cell": "",
   "title_sidebar": "Contents",
   "toc_cell": false,
   "toc_position": {},
   "toc_section_display": true,
   "toc_window_display": true
  }
 },
 "nbformat": 4,
 "nbformat_minor": 2
}
