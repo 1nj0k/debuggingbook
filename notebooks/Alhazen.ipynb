{
 "cells": [
  {
   "cell_type": "markdown",
   "metadata": {
    "button": false,
    "new_sheet": false,
    "run_control": {
     "read_only": false
    }
   },
   "source": [
    "# Learning from Failures\n",
    "\n",
    "Given the many executions we can generate, it is only natural that these executions would also be subject to _machine learning_ in order to learn which features of the input (or the execution) would be associated with failures.\n",
    "\n",
    "In this chapter, we study the _Alhazen_ approach, one of the first of this kind.\n",
    "Alhazen by Kampmann et al. [[KHSZ20](https://publications.cispa.saarland/3107/7/fse2020-alhazen.pdf)] automatically learn the associations between the failure of a program and _features of the input data_, say \"The error occurs whenever the `<expr>` element is negative\""
   ]
  },
  {
   "cell_type": "markdown",
   "metadata": {},
   "source": [
    "\n",
    "This chapter is based on an Alhazen implementation and exercise contributed by [Martin Eberlein](https://martineberlein.github.io), TU Berlin. Thanks a lot, Martin!"
   ]
  },
  {
   "cell_type": "code",
   "execution_count": null,
   "metadata": {},
   "outputs": [],
   "source": [
    "# from bookutils import YouTubeVideo\n",
    "# YouTubeVideo(\"w4u5gCgPlmg\")"
   ]
  },
  {
   "cell_type": "markdown",
   "metadata": {
    "button": false,
    "new_sheet": false,
    "run_control": {
     "read_only": false
    }
   },
   "source": [
    "**Prerequisites**\n",
    "\n",
    "* This chapter extends the ideas from [the chapter on Generalizing Failure Circumstances](DDSetDebugger.ipynb)."
   ]
  },
  {
   "cell_type": "code",
   "execution_count": null,
   "metadata": {
    "button": false,
    "new_sheet": false,
    "run_control": {
     "read_only": false
    },
    "slideshow": {
     "slide_type": "skip"
    }
   },
   "outputs": [],
   "source": [
    "import bookutils.setup"
   ]
  },
  {
   "cell_type": "code",
   "execution_count": null,
   "metadata": {},
   "outputs": [],
   "source": [
    "from typing import List, Tuple, Dict, Any, Optional"
   ]
  },
  {
   "cell_type": "markdown",
   "metadata": {},
   "source": [
    "## Synopsis\n",
    "\n",
    "<!-- Automatically generated. Do not edit. -->\n",
    "\n",
    "\n",
    "\n",
    "_For those only interested in using the code in this chapter (without wanting to know how it works), give an example.  This will be copied to the beginning of the chapter (before the first section) as text with rendered input and output._\n",
    "\n",
    "You can use `int_fuzzer()` as:\n",
    "\n",
    "```python\n",
    "print(int_fuzzer())\n",
    "```\n",
    "```python\n",
    "=> 76.5\n",
    "\n",
    "```\n"
   ]
  },
  {
   "cell_type": "markdown",
   "metadata": {
    "button": false,
    "new_sheet": true,
    "run_control": {
     "read_only": false
    }
   },
   "source": [
    "## Alhazen in a Nutshell\n",
    "\n",
    "when diagnosing why a program fails, the first step is to determine the circumstances under which the program failed. Kampmann et al. [[KHSZ20](https://publications.cispa.saarland/3107/7/fse2020-alhazen.pdf)] presented an approach to automatically discover the circumstances of program behavior.\n",
    "Their approach associates the program’s failure with the syntactical features of the input data, allowing them to learn and extract the properties that result in the specific behavior.\n",
    "\n",
    "Their reference implementation _Alhazen_ can generate a diagnosis and explain why, for instance, a particular bug occurs.\n",
    "More formally, Alhazen forms a hypothetical model based on the observed inputs.\n",
    "Additional test inputs are generated and executed to refine or refute the hypothesis, eventually obtaining a prediction model of the circumstances of why the behavior in question takes place.\n",
    "Alhazen use a _Decision Tree classifier_ to learn the association between the program behavior and the input features.\n",
    "\n",
    "![title](PICS/Alhazen.png)"
   ]
  },
  {
   "cell_type": "markdown",
   "metadata": {},
   "source": [
    "The tool is named after [Ḥasan Ibn al-Haytham](https://en.wikipedia.org/wiki/Ibn_al-Haytham) (latinized name: Alhazen).\n",
    "Often referred to as the \"Father of modern optics\", Ibn al-Haytham made significant contributions to the principles of optics and visual perception.\n",
    "Most notably, he was an early proponent of the concept that a hypothesis must be supported by experiments, and thus\n",
    "one of the inventors of the _scientific method_, the key process in the Alhazen tool."
   ]
  },
  {
   "cell_type": "markdown",
   "metadata": {
    "button": false,
    "new_sheet": false,
    "run_control": {
     "read_only": false
    }
   },
   "source": [
    "## Motivation"
   ]
  },
  {
   "cell_type": "markdown",
   "metadata": {},
   "source": [
    "**Info:** We use the functionality provided by [The Fuzzing Book](https://www.fuzzingbook.org).\n",
    "For a more detailed description of Grammars, have a look at the chapter [\"Fuzzing with Grammars\"](https://www.fuzzingbook.org/html/Grammars.html)"
   ]
  },
  {
   "cell_type": "code",
   "execution_count": null,
   "metadata": {},
   "outputs": [],
   "source": [
    " from fuzzingbook.Grammars import Grammar, EXPR_GRAMMAR, reachable_nonterminals, is_valid_grammar\n",
    " from fuzzingbook.GrammarFuzzer import GrammarFuzzer, expansion_to_children, DerivationTree, tree_to_string, display_tree, is_nonterminal\n",
    " from fuzzingbook.Parser import EarleyParser"
   ]
  },
  {
   "cell_type": "code",
   "execution_count": null,
   "metadata": {},
   "outputs": [],
   "source": [
    " import pandas\n",
    " import numpy\n",
    " import matplotlib"
   ]
  },
  {
   "cell_type": "code",
   "execution_count": null,
   "metadata": {},
   "outputs": [],
   "source": [
    "CALC_GRAMMAR: Grammar = {\n",
    "    \"<start>\":\n",
    "        [\"<function>(<term>)\"],\n",
    "\n",
    "    \"<function>\":\n",
    "        [\"sqrt\", \"tan\", \"cos\", \"sin\"],\n",
    "\n",
    "    \"<term>\": [\"-<value>\", \"<value>\"],\n",
    "\n",
    "    \"<value>\":\n",
    "        [\"<integer>.<integer>\",\n",
    "         \"<integer>\"],\n",
    "\n",
    "    \"<integer>\":\n",
    "        [\"<digit><integer>\", \"<digit>\"],\n",
    "\n",
    "    \"<digit>\":\n",
    "        [\"0\", \"1\", \"2\", \"3\", \"4\", \"5\", \"6\", \"7\", \"8\", \"9\"]\n",
    "}"
   ]
  },
  {
   "cell_type": "markdown",
   "metadata": {},
   "source": [
    "We see that the `CALCULATOR` Grammar consists of several production rules. The calculator subject will only accept inputs that conform to this grammar definition."
   ]
  },
  {
   "cell_type": "markdown",
   "metadata": {},
   "source": [
    "Now, lets load two initial input samples:"
   ]
  },
  {
   "cell_type": "code",
   "execution_count": null,
   "metadata": {},
   "outputs": [],
   "source": [
    "# Load initial input files\n",
    "initial_sample_list = ['sqrt(-16)', 'sqrt(4)']"
   ]
  },
  {
   "cell_type": "markdown",
   "metadata": {},
   "source": [
    "The two initial input samples for our calculator should be:\n",
    "- _sqrt(-16)_\n",
    "- _sqrt(4)_\n",
    "\n",
    "Let's check if this is true with python's `assert` function. The condition is True, if no Assertion is thrown."
   ]
  },
  {
   "cell_type": "markdown",
   "metadata": {},
   "source": [
    "Now, let's execute our two input samples and observe the calculator's behavior. To do this, we load the function `execute_samples` from the notebook ExecuteSamples.ipynb. We can call the function with a list of input samples, and it returns the corresponding execution outcome (label/oracle). The output is a [pandas dataframe](https://pandas.pydata.org/docs/reference/frame.html), and the labels are from the class `OracleResults`."
   ]
  },
  {
   "cell_type": "markdown",
   "metadata": {},
   "source": [
    "Next we implement the function `sample_runner(sample)` that lets us execute the calculator for a single sample. `sample_runner(sample)` returns the, in the pervious step imported, `OracleResult` for the sample."
   ]
  },
  {
   "cell_type": "code",
   "execution_count": null,
   "metadata": {},
   "outputs": [],
   "source": [
    "from enum import Enum"
   ]
  },
  {
   "cell_type": "code",
   "execution_count": null,
   "metadata": {},
   "outputs": [],
   "source": [
    "class OracleResult(Enum):\n",
    "    BUG = \"BUG\"\n",
    "    NO_BUG = \"NO_BUG\"\n",
    "    UNDEF = \"UNDEF\"\n",
    "\n",
    "    def __str__(self):\n",
    "        return self.value"
   ]
  },
  {
   "cell_type": "code",
   "execution_count": null,
   "metadata": {},
   "outputs": [],
   "source": [
    "\"\"\"\n",
    "This file contains the code under test for the example bug.\n",
    "The sqrt() method fails on x <= 0.\n",
    "\"\"\"\n",
    "from math import tan as rtan\n",
    "from math import cos as rcos\n",
    "from math import sin as rsin\n",
    "\n",
    "\n",
    "def task_sqrt(x):\n",
    "    \"\"\"Computes the square root of x, using the Newton-Raphson method\"\"\"\n",
    "    if x <= -12 and x >= -42:\n",
    "    \tx = 0\n",
    "    else:\n",
    "    \tx = 1\n",
    "    x = max(x, 0)\n",
    "    approx = None\n",
    "    guess = x / 2\n",
    "    while approx != guess:\n",
    "        approx = guess\n",
    "        guess = (approx + x / approx) / 2\n",
    "    return approx\n",
    "\n",
    "\n",
    "def task_tan(x):\n",
    "    return rtan(x)\n",
    "\n",
    "\n",
    "def task_cos(x):\n",
    "    return rcos(x)\n",
    "\n",
    "\n",
    "def task_sin(x):\n",
    "    return rsin(x)"
   ]
  },
  {
   "cell_type": "code",
   "execution_count": null,
   "metadata": {},
   "outputs": [],
   "source": [
    "import sys\n",
    "\n",
    "SUBJECT = \"calculator\"\n",
    "\n",
    "def sample_runner(sample):\n",
    "    testcode = sample\n",
    "\n",
    "    try:\n",
    "        exec(testcode, {\"sqrt\": task_sqrt, \"tan\": task_tan, \"sin\": task_sin, \"cos\": task_cos}, {})\n",
    "        return OracleResult.NO_BUG\n",
    "    except ZeroDivisionError:\n",
    "        return OracleResult.BUG\n",
    "    except Exception as e:\n",
    "        print(e, file=sys.stderr)\n",
    "        return OracleResult.UNDEF"
   ]
  },
  {
   "cell_type": "markdown",
   "metadata": {},
   "source": [
    "Let's test the function:"
   ]
  },
  {
   "cell_type": "code",
   "execution_count": null,
   "metadata": {},
   "outputs": [],
   "source": [
    "sample = \"sqrt(-16)\"\n",
    "sample_runner(sample)"
   ]
  },
  {
   "cell_type": "markdown",
   "metadata": {},
   "source": [
    "As expected, the sample `sqrt(-16)` triggers the calculator bug. Let's try some more samples:"
   ]
  },
  {
   "cell_type": "code",
   "execution_count": null,
   "metadata": {},
   "outputs": [],
   "source": [
    "assert sample_runner(\"sqrt(-23)\") == OracleResult.BUG\n",
    "assert sample_runner(\"sqrt(44)\") == OracleResult.NO_BUG\n",
    "assert sample_runner(\"cos(-9)\") == OracleResult.NO_BUG"
   ]
  },
  {
   "cell_type": "markdown",
   "metadata": {},
   "source": [
    "What happens if we parse inputs to calculator, that do not conform to its input format?"
   ]
  },
  {
   "cell_type": "code",
   "execution_count": null,
   "metadata": {},
   "outputs": [],
   "source": [
    "sample_runner(\"undef_function(QUERY)\")"
   ]
  },
  {
   "cell_type": "markdown",
   "metadata": {},
   "source": [
    "The function `sample_runner(sample)` returns an `OracleResult.UNDEF` whenever the runner is not able to execute the sample."
   ]
  },
  {
   "cell_type": "markdown",
   "metadata": {},
   "source": [
    "The finally we provide the function `execute_samples(sample_list)` that obtains the oracle/label for a list of samples."
   ]
  },
  {
   "cell_type": "code",
   "execution_count": null,
   "metadata": {},
   "outputs": [],
   "source": [
    "# Executes a list of samples and return the execution outcome (label)\n",
    "# The function returns a pandas dataframe\n",
    "def execute_samples(sample_list):\n",
    "    data = []\n",
    "    for sample in sample_list:\n",
    "        result = sample_runner(sample)\n",
    "        data.append({\"oracle\": result })\n",
    "\n",
    "    return pandas.DataFrame.from_records(data)"
   ]
  },
  {
   "cell_type": "code",
   "execution_count": null,
   "metadata": {},
   "outputs": [],
   "source": [
    "# let us define a list of samples to execute\n",
    "sample_list = [\"sqrt(-20)\", \"cos(2)\", \"sqrt(-100)\", \"undef_function(foo)\"]"
   ]
  },
  {
   "cell_type": "code",
   "execution_count": null,
   "metadata": {},
   "outputs": [],
   "source": [
    "# we obtain the execution outcome\n",
    "labels = execute_samples(sample_list)\n",
    "display(labels)"
   ]
  },
  {
   "cell_type": "code",
   "execution_count": null,
   "metadata": {},
   "outputs": [],
   "source": [
    "# combine with the sample_list\n",
    "for i, row in enumerate(labels['oracle']): print(sample_list[i].ljust(30) + str(row))"
   ]
  },
  {
   "cell_type": "markdown",
   "metadata": {},
   "source": [
    "To remove the undefined input samples, you could invoke something similar to this:"
   ]
  },
  {
   "cell_type": "code",
   "execution_count": null,
   "metadata": {},
   "outputs": [],
   "source": [
    "# clean up data\n",
    "clean_data = labels.drop(labels[labels.oracle.astype(str) == \"UNDEF\"].index)\n",
    "display(clean_data)"
   ]
  },
  {
   "cell_type": "code",
   "execution_count": null,
   "metadata": {},
   "outputs": [],
   "source": [
    "# Load function execute samples\n",
    "# execute_samples(List[str])\n",
    "oracle = execute_samples(sample_list)\n",
    "oracle"
   ]
  },
  {
   "cell_type": "code",
   "execution_count": null,
   "metadata": {},
   "outputs": [],
   "source": [
    "# Combined sample and labels by iterating over the obtained oracle\n",
    "for i, row in enumerate(oracle['oracle']):\n",
    "    print(sample_list[i].ljust(30) + str(row))"
   ]
  },
  {
   "cell_type": "markdown",
   "metadata": {},
   "source": [
    "We observe that the sample `sqrt(-16)` triggers a bug in the calculator, whereas the sample `sqrt(4)` does not show unusual behavior. Of course, we want to know why the sample fails the program. In a typical use case, the developers of the calculator program would now try other input samples and evaluate if similar inputs also trigger the program's failure. Let's try some more input samples; maybe we can refine our understanding of why the calculator crashes:"
   ]
  },
  {
   "cell_type": "code",
   "execution_count": null,
   "metadata": {},
   "outputs": [],
   "source": [
    "# Our guesses (maybe the failure is also in the cos or tan function?)\n",
    "guess_samples = ['cos(-16)', 'tan(-16)', 'sqrt(-100)', 'sqrt(-20.23412431234123)']\n",
    "\n",
    "# lets obtain the execution outcome for each of our guess\n",
    "guess_oracle = execute_samples(guess_samples)\n",
    "\n",
    "# lets show the results\n",
    "for i, row in enumerate(guess_oracle['oracle']):\n",
    "    print(guess_samples[i].ljust(30) + str(row))"
   ]
  },
  {
   "cell_type": "markdown",
   "metadata": {},
   "source": [
    "It looks like the failure only occurs in the `sqrt` function, however, only for specific `x` values. We could now try other values for `x` and repeat the process. However, this would be highly time-consuming and not an efficient debugging technique for a larger and more complex test subject."
   ]
  },
  {
   "cell_type": "markdown",
   "metadata": {},
   "source": [
    "Wouldn't it be great if there was a tool that automatically does this for us? And this is exactly what _Alhazen_ is used for. It helps us explain why specific input files fail a program. "
   ]
  },
  {
   "cell_type": "markdown",
   "metadata": {},
   "source": [
    "## The Alhazen Algorithm"
   ]
  },
  {
   "cell_type": "markdown",
   "metadata": {},
   "source": [
    "_Alhazen_ is a tool that automatically learns the circumstances of program failure by associating syntactical features of sample inputs with the execution outcome. The produced explanations (in the form of a decision tree) help developers focus on the input space's relevant aspects."
   ]
  },
  {
   "cell_type": "markdown",
   "metadata": {},
   "source": [
    "## Step 1: Extracting Features"
   ]
  },
  {
   "cell_type": "markdown",
   "metadata": {},
   "source": [
    "In this section, we are concerned with the problem of extracting semantic features from inputs. In particular, Alhazen defines various features based on the input grammar, such as *existance* and *numeric interpretation*. These features are then extracted from the parse trees of the inputs (see [Section 3 of the paper](https://publications.cispa.saarland/3107/7/fse2020-alhazen.pdf) for more details).\n",
    "\n",
    "The implementation of the feature extraction module consists of the following three tasks:\n",
    "1. Implementation of individual feature classes, whose instances allow to derive specific feature values from inputs\n",
    "2. Extraction of features from the grammar through instantiation of the aforementioned feature classes\n",
    "3. Computation of feature vectors from a set of inputs, which will then be used as input for the decision tree"
   ]
  },
  {
   "cell_type": "markdown",
   "metadata": {},
   "source": [
    "### Feature Classes"
   ]
  },
  {
   "cell_type": "code",
   "execution_count": null,
   "metadata": {},
   "outputs": [],
   "source": [
    "from abc import ABC, abstractmethod\n",
    "\n",
    "class Feature(ABC):\n",
    "    '''\n",
    "    The abstract base class for grammar features.\n",
    "\n",
    "    Args:\n",
    "        name : A unique identifier name for this feature. Should not contain Whitespaces.\n",
    "               e.g., 'type(<feature>@1)'\n",
    "        rule : The production rule (e.g., '<function>' or '<value>').\n",
    "        key  : The feature key (e.g., the chosen alternative or rule itself).\n",
    "    '''\n",
    "\n",
    "    def __init__(self, name: str, rule: str, key: str, /,\n",
    "                 friendly_name: str = None) -> None:\n",
    "        self.name = name\n",
    "        self.rule = rule\n",
    "        self.key = key\n",
    "        self._friendly_name = friendly_name or name\n",
    "        super().__init__()\n",
    "\n",
    "    def __repr__(self) -> str:\n",
    "        '''Returns a printable string representation of the feature.'''\n",
    "        return self.name_rep()\n",
    "\n",
    "    @abstractmethod\n",
    "    def name_rep(self) -> str:\n",
    "        pass\n",
    "\n",
    "    def friendly_name(self) -> str:\n",
    "        return self._friendly_name\n",
    "\n",
    "    @abstractmethod\n",
    "    def get_feature_value(self, derivation_tree) -> float:\n",
    "        '''Returns the feature value for a given derivation tree of an input.'''\n",
    "        pass\n",
    "\n",
    "    def replace(self, new_key: str) -> 'Feature':\n",
    "        '''Returns a new feature with the same name but a different key.'''\n",
    "        return self.__class__(self.name, self.rule, new_key)"
   ]
  },
  {
   "cell_type": "code",
   "execution_count": null,
   "metadata": {},
   "outputs": [],
   "source": [
    "class ExistenceFeature(Feature):\n",
    "    '''\n",
    "    This class represents existence features of a grammar. Existence features indicate\n",
    "    whether a particular production rule was used in the derivation sequence of an input.\n",
    "    For a given production rule P -> A | B, a production existence feature for P and\n",
    "    alternative existence features for each alternative (i.e., A and B) are defined.\n",
    "\n",
    "    name : A unique identifier name for this feature. Should not contain Whitespaces.\n",
    "           e.g., 'exist(<digit>@1)'\n",
    "    rule : The production rule.\n",
    "    key  : The feature key, equal to the rule attribute for production features,\n",
    "           or equal to the corresponding alternative for alternative features.\n",
    "    '''\n",
    "    def __init__(self, name: str, rule: str, key: str,\n",
    "                 friendly_name: str = None) -> None:\n",
    "        super().__init__(name, rule, key, friendly_name=friendly_name)\n",
    "\n",
    "    def name_rep(self) -> str:\n",
    "        if self.rule == self.key:\n",
    "            return f\"exists({self.rule})\"\n",
    "        else:\n",
    "            return f\"exists({self.rule} == {self.key})\"\n",
    "\n",
    "    def get_feature_value(self, derivation_tree) -> float:\n",
    "        '''Returns the feature value for a given derivation tree of an input.'''\n",
    "        raise NotImplementedError\n",
    "\n",
    "    def get_feature_value(self, derivation_tree: DerivationTree) -> float:\n",
    "        '''Counts the number of times this feature was matched in the derivation tree.'''\n",
    "        (node, children) = derivation_tree\n",
    "\n",
    "        # The local match count (1 if the feature is matched for the current node, 0 if not)\n",
    "        count = 0\n",
    "\n",
    "        # First check if the current node can be matched with the rule\n",
    "        if node == self.rule:\n",
    "\n",
    "            # Production existance feature\n",
    "            if self.rule == self.key:\n",
    "                count = 1\n",
    "\n",
    "            # Production alternative existance feature\n",
    "            # We compare the children of the expansion with the actual children\n",
    "            else:\n",
    "                expansion_children = list(map(lambda x: x[0], expansion_to_children(self.key)))\n",
    "                node_children = list(map(lambda x: x[0], children))\n",
    "                if expansion_children == node_children:\n",
    "                    count= 1\n",
    "\n",
    "        # Recursively compute the counts for all children and return the sum for the whole tree\n",
    "        for child in children:\n",
    "            count = max(count, self.get_feature_value(child)) \n",
    "\n",
    "        return count"
   ]
  },
  {
   "cell_type": "code",
   "execution_count": null,
   "metadata": {},
   "outputs": [],
   "source": [
    "from numpy import nanmax, isnan\n",
    "\n",
    "class NumericInterpretation(Feature):\n",
    "    '''\n",
    "    This class represents numeric interpretation features of a grammar. These features\n",
    "    are defined for productions that only derive words composed of the characters\n",
    "    [0-9], '.', and '-'. The returned feature value corresponds to the maximum\n",
    "    floating-point number interpretation of the derived words of a production.\n",
    "\n",
    "    name : A unique identifier name for this feature. Should not contain Whitespaces.\n",
    "           e.g., 'num(<integer>)'\n",
    "    rule : The production rule.\n",
    "    '''\n",
    "    def __init__(self, name: str, rule: str, /, \n",
    "                 friendly_name: str = None) -> None:\n",
    "        super().__init__(name, rule, rule, friendly_name=friendly_name)\n",
    "\n",
    "    def name_rep(self) -> str:\n",
    "        return f\"num({self.key})\"\n",
    "\n",
    "    def get_feature_value(self, derivation_tree) -> float:\n",
    "        '''Returns the feature value for a given derivation tree of an input.'''\n",
    "        raise NotImplementedError\n",
    "\n",
    "    def get_feature_value(self, derivation_tree: DerivationTree) -> float:\n",
    "        '''Determines the maximum float of this feature in the derivation tree.'''\n",
    "        (node, children) = derivation_tree\n",
    "\n",
    "        value = float('nan')\n",
    "        if node == self.rule:\n",
    "            try:\n",
    "                #print(self.name, float(tree_to_string(derivation_tree)))\n",
    "                value = float(tree_to_string(derivation_tree))\n",
    "            except ValueError:\n",
    "                #print(self.name, float(tree_to_string(derivation_tree)), \"err\")\n",
    "                pass\n",
    "\n",
    "        # Return maximum value encountered in tree, ignoring all NaNs\n",
    "        tree_values = [value] + [self.get_feature_value(c) for c in children]\n",
    "        if all(isnan(tree_values)):\n",
    "            return value\n",
    "        else:\n",
    "            return nanmax(tree_values)"
   ]
  },
  {
   "cell_type": "markdown",
   "metadata": {},
   "source": [
    "### Extracting Feature Sets from Grammars"
   ]
  },
  {
   "cell_type": "code",
   "execution_count": null,
   "metadata": {},
   "outputs": [],
   "source": [
    "def extract_existence_features(grammar: Grammar) -> List[ExistenceFeature]:\n",
    "    '''\n",
    "        Extracts all existence features from the grammar and returns them as a list.\n",
    "        grammar : The input grammar.\n",
    "    '''\n",
    "\n",
    "    features = []\n",
    "\n",
    "    for rule in grammar:\n",
    "        # add the rule\n",
    "        features.append(ExistenceFeature(f\"exists({rule})\", rule, rule))\n",
    "        # add all alternatives\n",
    "        for count, expansion in enumerate(grammar[rule]):\n",
    "            name = f\"exists({rule}@{count})\"\n",
    "            friendly_name = f\"{rule} == {repr(expansion)}\"\n",
    "            feature = ExistenceFeature(name, rule, expansion,\n",
    "                                       friendly_name=friendly_name)\n",
    "            features.append(feature)\n",
    "\n",
    "    return features"
   ]
  },
  {
   "cell_type": "code",
   "execution_count": null,
   "metadata": {},
   "outputs": [],
   "source": [
    "from collections import defaultdict\n",
    "import re\n",
    "\n",
    "# Regex for non-terminal symbols in expansions\n",
    "RE_NONTERMINAL = re.compile(r'(<[^<> ]*>)')\n",
    "\n",
    "def extract_numeric_features(grammar: Grammar) -> List[NumericInterpretation]:\n",
    "    '''\n",
    "        Extracts all numeric interpretation features from the grammar and returns them as a list.\n",
    "\n",
    "        grammar : The input grammar.\n",
    "    '''\n",
    "\n",
    "    features = []\n",
    "\n",
    "    # Mapping from non-terminals to derivable terminal chars\n",
    "    derivable_chars = defaultdict(set)\n",
    "\n",
    "    for rule in grammar:\n",
    "        for expansion in grammar[rule]:\n",
    "            # Remove non-terminal symbols and whitespace from expansion\n",
    "            terminals = re.sub(RE_NONTERMINAL, '', expansion).replace(' ', '')\n",
    "\n",
    "            # Add each terminal char to the set of derivable chars\n",
    "            for c in terminals:\n",
    "                derivable_chars[rule].add(c)\n",
    "\n",
    "    # Repeatedly update the mapping until convergence\n",
    "    while True:\n",
    "        updated = False\n",
    "        for rule in grammar:\n",
    "            for r in reachable_nonterminals(grammar, rule):\n",
    "                before = len(derivable_chars[rule])\n",
    "                derivable_chars[rule].update(derivable_chars[r])\n",
    "                after = len(derivable_chars[rule])\n",
    "\n",
    "                # Set of derivable chars was updated\n",
    "                if after > before:\n",
    "                    updated = True\n",
    "\n",
    "        if not updated:\n",
    "            break\n",
    "\n",
    "    numeric_chars = set(['0','1','2','3','4','5','6','7','8','9','.','-'])\n",
    "\n",
    "    for key in derivable_chars:\n",
    "        # Check if derivable chars contain only numeric chars\n",
    "        if len(derivable_chars[key] - numeric_chars) == 0:\n",
    "            name = f\"num({key})\"\n",
    "            friendly_name = f\"{key}\"\n",
    "\n",
    "            features.append(NumericInterpretation(f\"num({key})\", key,\n",
    "                                                  friendly_name=friendly_name))\n",
    "\n",
    "    return features"
   ]
  },
  {
   "cell_type": "code",
   "execution_count": null,
   "metadata": {},
   "outputs": [],
   "source": [
    "def extract_all_features(grammar: Grammar) -> List[Feature]:\n",
    "    return (extract_existence_features(grammar)\n",
    "            + extract_numeric_features(grammar))"
   ]
  },
  {
   "cell_type": "code",
   "execution_count": null,
   "metadata": {},
   "outputs": [],
   "source": [
    "extract_all_features(CALC_GRAMMAR)"
   ]
  },
  {
   "cell_type": "code",
   "execution_count": null,
   "metadata": {},
   "outputs": [],
   "source": [
    "[f.friendly_name() for f in extract_all_features(CALC_GRAMMAR)]"
   ]
  },
  {
   "cell_type": "markdown",
   "metadata": {},
   "source": [
    "### Extracting Feature Values from Inputs"
   ]
  },
  {
   "cell_type": "markdown",
   "metadata": {},
   "source": [
    "**Note**: This is a rather slow implementation, for many grammars with many syntactically features, the feature collection can be optimized"
   ]
  },
  {
   "cell_type": "code",
   "execution_count": null,
   "metadata": {},
   "outputs": [],
   "source": [
    "def collect_features(sample_list: List[str],\n",
    "                     grammar: Grammar) -> pandas.DataFrame:\n",
    "\n",
    "    data = []\n",
    "\n",
    "    # parse grammar and extract features\n",
    "    all_features = extract_all_features(grammar)\n",
    "\n",
    "    # iterate over all samples\n",
    "    for sample in sample_list:\n",
    "        parsed_features = {}\n",
    "        parsed_features[\"sample\"] = sample\n",
    "        # initate dictionary\n",
    "        for feature in all_features:\n",
    "            parsed_features[feature.name] = 0\n",
    "\n",
    "        # Obtain the parse tree for each input file\n",
    "        earley = EarleyParser(grammar)\n",
    "        for tree in earley.parse(sample):\n",
    "\n",
    "            for feature in all_features:\n",
    "                parsed_features[feature.name] = feature.get_feature_value(tree)\n",
    "\n",
    "        data.append(parsed_features)\n",
    "\n",
    "    return pandas.DataFrame.from_records(data)"
   ]
  },
  {
   "cell_type": "code",
   "execution_count": null,
   "metadata": {},
   "outputs": [],
   "source": [
    "sample_list = [\"sqrt(-900)\", \"sin(24)\", \"cos(-3.14)\"]\n",
    "collect_features(sample_list, CALC_GRAMMAR)"
   ]
  },
  {
   "cell_type": "code",
   "execution_count": null,
   "metadata": {},
   "outputs": [],
   "source": [
    "# TODO: handle multiple trees\n",
    "def compute_feature_values(sample: str, grammar: Grammar, features: List[Feature]) -> Dict[str, float]:\n",
    "    '''\n",
    "        Extracts all feature values from an input.\n",
    "\n",
    "        sample   : The input.\n",
    "        grammar  : The input grammar.\n",
    "        features : The list of input features extracted from the grammar.\n",
    "\n",
    "    '''\n",
    "    earley = EarleyParser(CALC_GRAMMAR)\n",
    "\n",
    "    features = {}\n",
    "    for tree in earley.parse(sample):\n",
    "        for feature in extract_all_features(CALC_GRAMMAR):\n",
    "            features[feature.name_rep()] = feature.get_feature_value(tree)\n",
    "    return features"
   ]
  },
  {
   "cell_type": "code",
   "execution_count": null,
   "metadata": {},
   "outputs": [],
   "source": [
    "all_features = extract_all_features(CALC_GRAMMAR)\n",
    "for sample in sample_list:\n",
    "    print(f\"Features of {sample}:\")\n",
    "    features = compute_feature_values(sample, CALC_GRAMMAR, all_features)\n",
    "    for feature, value in features.items():\n",
    "        print(f\"    {feature}: {value}\")"
   ]
  },
  {
   "cell_type": "markdown",
   "metadata": {},
   "source": [
    "### Excursion: Transforming Grammars"
   ]
  },
  {
   "cell_type": "code",
   "execution_count": null,
   "metadata": {},
   "outputs": [],
   "source": [
    "import random\n",
    "\n",
    "# For this example, fix the random seed so that the produced output is deterministic\n",
    "random.seed(24)\n",
    "f = GrammarFuzzer(EXPR_GRAMMAR, max_nonterminals=3)\n",
    "test_input = f.fuzz()\n",
    "assert(test_input == tree_to_string(f.derivation_tree))\n",
    "\n",
    "display(display_tree(f.derivation_tree))"
   ]
  },
  {
   "cell_type": "markdown",
   "metadata": {},
   "source": [
    "For the grammar transformation, we perform a *rewrite step* that for each non-terminal symbol in the grammar, determines the word derived by this symbol in the input and adds it as an alternative to the symbol (as written in the Alhazen-paper). Here, we iterate through the derivation tree of the input and add the derived word of each non-terminal as alternatives to the grammar."
   ]
  },
  {
   "cell_type": "markdown",
   "metadata": {},
   "source": [
    "Let us write a function `transform_grammar` that given a sample input and a grammar, transforms it according to Kampmann et al."
   ]
  },
  {
   "cell_type": "markdown",
   "metadata": {},
   "source": [
    "```python\n",
    "\n",
    "def transform_grammar(sample: str,\n",
    "                     grammar: Grammar) -> Grammar\n",
    "\n",
    "```"
   ]
  },
  {
   "cell_type": "markdown",
   "metadata": {},
   "source": [
    "**INPUT**:\n",
    "the function requires the following input parameter:\n",
    "- sample: a input sample \n",
    "- grammar: the grammar that should be transformed/extended"
   ]
  },
  {
   "cell_type": "markdown",
   "metadata": {},
   "source": [
    "**OUTPUT**: the function should return the transformed and extended grammar."
   ]
  },
  {
   "cell_type": "code",
   "execution_count": null,
   "metadata": {},
   "outputs": [],
   "source": [
    "# Then, recursively iterate through the derivation tree and for each non-terminal,\n",
    "# add the derived word to the grammar\n",
    "\n",
    "def extend_grammar(derivation_tree, grammar):\n",
    "    (node, children) = derivation_tree\n",
    "\n",
    "    if is_nonterminal(node):\n",
    "        assert(node in grammar)\n",
    "        word = tree_to_string(derivation_tree)\n",
    "\n",
    "        # Only add to grammar if not already existent\n",
    "        if word not in grammar[node]:\n",
    "            grammar[node].append(word)\n",
    "\n",
    "    for child in children:\n",
    "        extend_grammar(child, grammar)"
   ]
  },
  {
   "cell_type": "code",
   "execution_count": null,
   "metadata": {},
   "outputs": [],
   "source": [
    "import copy\n",
    "\n",
    "def transform_grammar(sample: str,\n",
    "                      grammar: Grammar) -> Grammar:\n",
    "    # copy of the grammar\n",
    "    transformed_grammar = copy.deepcopy(grammar)\n",
    "\n",
    "    # parse sample\n",
    "    earley = EarleyParser(grammar)\n",
    "    for derivation_tree in earley.parse(sample):\n",
    "        extend_grammar(derivation_tree, transformed_grammar)\n",
    "\n",
    "    return transformed_grammar"
   ]
  },
  {
   "cell_type": "code",
   "execution_count": null,
   "metadata": {},
   "outputs": [],
   "source": [
    "# TODO Add better test case for correct validation\n",
    "\n",
    "transformed_grammar = transform_grammar(\"1 + 2\", EXPR_GRAMMAR)\n",
    "for rule in transformed_grammar:\n",
    "    print(rule.ljust(10), transformed_grammar[rule])"
   ]
  },
  {
   "cell_type": "markdown",
   "metadata": {},
   "source": [
    "### End of Excursion"
   ]
  },
  {
   "cell_type": "markdown",
   "metadata": {},
   "source": [
    "## Step 2: Train Classification Model"
   ]
  },
  {
   "cell_type": "markdown",
   "metadata": {},
   "source": [
    "### Decision Trees"
   ]
  },
  {
   "cell_type": "markdown",
   "metadata": {},
   "source": [
    "We will also use `scikit-learn` as the machine learning library. We will use the `DecisionTreeClassifier` to learn the syntactical input features that are responsible for the bug-triggering behavior of our Calculator (SUT - SubjectUnderTest). We also use the `tree` module and `graphviz` to visualize the learned decision tree."
   ]
  },
  {
   "cell_type": "code",
   "execution_count": null,
   "metadata": {},
   "outputs": [],
   "source": [
    "import sklearn\n",
    "from sklearn.tree import DecisionTreeClassifier\n",
    "from sklearn.feature_extraction import DictVectorizer"
   ]
  },
  {
   "cell_type": "markdown",
   "metadata": {},
   "source": [
    "First, we transform the individual input features (represented as dicts) into a NumPy array. For this example, we use the following four features (`function-sqrt`, `function-cos`, `function-sin`, `number`) to describe an input feature. (Please note that this is an extremely reduced example; this is not the complete list of features that should be extracted from the `CALCULATOR` Grammar.)"
   ]
  },
  {
   "cell_type": "markdown",
   "metadata": {},
   "source": [
    "The features `function-sqrt`, `function-cos`, `function-sin`state wheater the function _sqrt_, _cos_, or _sin_ was used. A `1`is given, if the sample contains the respective function, otherwise the feature contains a `0`."
   ]
  },
  {
   "cell_type": "markdown",
   "metadata": {},
   "source": [
    "For the each <function>(x), the `number` feature describes which value was used for `x`. For instance, the first input `sqrt(-900)` corresponds to 'function-sqrt': 1 and 'number': -900."
   ]
  },
  {
   "cell_type": "code",
   "execution_count": null,
   "metadata": {},
   "outputs": [],
   "source": [
    "# Features for each input, one dict per input\n",
    "features = [\n",
    "    {'function-sqrt': 1, 'function-cos': 0, 'function-sin': 0, 'number': -900}, # sqrt(-900)\n",
    "    {'function-sqrt': 0, 'function-cos': 1, 'function-sin': 0, 'number': 300}, # cos(300)\n",
    "    {'function-sqrt': 1, 'function-cos': 0, 'function-sin': 0, 'number': -1}, # sqrt(-1)\n",
    "    {'function-sqrt': 0, 'function-cos': 1, 'function-sin': 0, 'number': -10}, # cos(-10)\n",
    "    {'function-sqrt': 0, 'function-cos': 0, 'function-sin': 1, 'number': 36}, # sin(36)\n",
    "    {'function-sqrt': 0, 'function-cos': 0, 'function-sin': 1, 'number': -58}, # sin(-58)\n",
    "    {'function-sqrt': 1, 'function-cos': 0, 'function-sin': 0, 'number': 27}, # sqrt(27)\n",
    "]"
   ]
  },
  {
   "cell_type": "markdown",
   "metadata": {},
   "source": [
    "We define a list of lables (or oracles) that state wheather the specific input file resulted in a bug or not. We use the `OracleResult`-Class to keep everything tidy and clean."
   ]
  },
  {
   "cell_type": "code",
   "execution_count": null,
   "metadata": {},
   "outputs": [],
   "source": [
    "# Labels for each input\n",
    "oracle = [\n",
    "    OracleResult.BUG,\n",
    "    OracleResult.NO_BUG,\n",
    "    OracleResult.BUG,\n",
    "    OracleResult.NO_BUG,\n",
    "    OracleResult.NO_BUG,\n",
    "    OracleResult.NO_BUG,\n",
    "    OracleResult.NO_BUG\n",
    "]\n",
    "\n",
    "# Transform to numpy array\n",
    "vec = DictVectorizer()\n",
    "X = vec.fit_transform(features).toarray()"
   ]
  },
  {
   "cell_type": "markdown",
   "metadata": {},
   "source": [
    "Using the feature array and labels, we can now train a decision tree classifier as follows:"
   ]
  },
  {
   "cell_type": "code",
   "execution_count": null,
   "metadata": {},
   "outputs": [],
   "source": [
    "# Fix the random state to produce a deterministic result (for illustration purposes only)\n",
    "clf = DecisionTreeClassifier(random_state=10)\n",
    "\n",
    "# sci-kit learn requires an array of strings\n",
    "oracle_clean = [str(c) for c in oracle]\n",
    "clf = clf.fit(X, oracle_clean)"
   ]
  },
  {
   "cell_type": "markdown",
   "metadata": {},
   "source": [
    "Let's have a look at the learned decision tree:"
   ]
  },
  {
   "cell_type": "code",
   "execution_count": null,
   "metadata": {},
   "outputs": [],
   "source": [
    "import graphviz"
   ]
  },
  {
   "cell_type": "code",
   "execution_count": null,
   "metadata": {},
   "outputs": [],
   "source": [
    "def show_decision_tree(clf, feature_names):\n",
    "    dot_data = sklearn.tree.export_graphviz(clf, out_file=None, \n",
    "                                    feature_names=feature_names,\n",
    "                                    class_names=[\"BUG\", \"NO_BUG\"],  \n",
    "                                    filled=True, rounded=True)  \n",
    "    return graphviz.Source(dot_data)"
   ]
  },
  {
   "cell_type": "code",
   "execution_count": null,
   "metadata": {},
   "outputs": [],
   "source": [
    "show_decision_tree(clf, vec.get_feature_names_out())"
   ]
  },
  {
   "cell_type": "code",
   "execution_count": null,
   "metadata": {},
   "outputs": [],
   "source": [
    "import math\n",
    "\n",
    "def friendly_decision_tree(clf, feature_names, class_names = ['NO_BUG', 'BUG']):\n",
    "    def _tree(index, indent=0):\n",
    "        s = \"\"\n",
    "        feature = clf.tree_.feature[index]\n",
    "        feature_name = feature_names[feature]\n",
    "        threshold = clf.tree_.threshold[index]\n",
    "        value = clf.tree_.value[index]\n",
    "        class_ = int(value[0][0])\n",
    "        class_name = class_names[class_]\n",
    "        left = clf.tree_.children_left[index]\n",
    "        right = clf.tree_.children_right[index]\n",
    "        if left == right:\n",
    "            # Leaf node\n",
    "            s += \" \" * indent + class_name + \"\\n\"\n",
    "        else:\n",
    "            if math.isclose(threshold, 0.5):\n",
    "                s += \" \" * indent + f\"if {feature_name}:\\n\"\n",
    "                s += _tree(right, indent + 2)\n",
    "                s += \" \" * indent + f\"else:\\n\"\n",
    "                s += _tree(left, indent + 2)\n",
    "            else:\n",
    "                s += \" \" * indent + f\"if {feature_name} <= {threshold:.4f}:\\n\"\n",
    "                s += _tree(left, indent + 2)\n",
    "                s += \" \" * indent + f\"else:\\n\"\n",
    "                s += _tree(right, indent + 2)\n",
    "        return s\n",
    "\n",
    "    return _tree(0)"
   ]
  },
  {
   "cell_type": "code",
   "execution_count": null,
   "metadata": {},
   "outputs": [],
   "source": [
    "print(friendly_decision_tree(clf, vec.get_feature_names_out()))"
   ]
  },
  {
   "cell_type": "markdown",
   "metadata": {},
   "source": [
    "We can see that our initial hypothesis is that the feature `function-sqrt` must be greater than 0.5 (i.e., present) and the feature `number` must be less or equal than 13 in order to produce a bug. The decision rule is not yet perfect, thus we need to refine our decision tree!"
   ]
  },
  {
   "cell_type": "markdown",
   "metadata": {},
   "source": [
    "### Learning a Decision Tree"
   ]
  },
  {
   "cell_type": "markdown",
   "metadata": {},
   "source": [
    "For _Alhazen's_ second activity (Train Classification Model), your are required to write a function `train_tree(data)` that trains a decision tree on a given data frame. `train_tree(data)` should return the learned decision tree."
   ]
  },
  {
   "cell_type": "markdown",
   "metadata": {},
   "source": [
    "```python\n",
    "\n",
    "def train_tree(data: pandas.core.frame.DataFrame) -> sklearn.tree._classes.DecisionTreeClassifier\n",
    "\n",
    "```"
   ]
  },
  {
   "cell_type": "markdown",
   "metadata": {},
   "source": [
    "**INPUT**:\n",
    "the function requires the following parameter:\n",
    "- data: a pandas dataframe containing the parsed and extracted features and the outcome of the executed input sample (oracle). For instance, the data frame may look similar to this:"
   ]
  },
  {
   "cell_type": "markdown",
   "metadata": {},
   "source": [
    "| feature_1     | feature_2     | ...    |oracle|\n",
    "| ------------- |-------------|-------------|-----|\n",
    "| 1     | 0 | ...| 'BUG' |\n",
    "| 0     | 1 | ...| 'NO_BUG' |"
   ]
  },
  {
   "cell_type": "markdown",
   "metadata": {},
   "source": [
    "**Note:** Each row of data['oracle'] is of type OracleResult. However, sci-kit learn requires an array of strings. Convert them to learn the decision tree."
   ]
  },
  {
   "cell_type": "markdown",
   "metadata": {},
   "source": [
    "**OUTPUT**: the function should return a learned decision tree of type _sklearn.tree._classes.DecisionTreeClassifier_"
   ]
  },
  {
   "cell_type": "code",
   "execution_count": null,
   "metadata": {},
   "outputs": [],
   "source": [
    "def train_tree(data):\n",
    "    sample_bug_count = len(data[(data[\"oracle\"].astype(str) == \"BUG\")])\n",
    "    assert sample_bug_count > 0, \"No bug samples found\"\n",
    "    sample_count = len(data)\n",
    "\n",
    "    clf = DecisionTreeClassifier(min_samples_leaf=1,\n",
    "                                     min_samples_split=2,  # minimal value\n",
    "                                     max_features=None,\n",
    "                                     max_depth=5, # max depth of the decision tree\n",
    "                                     class_weight={str(\"BUG\"): (1.0/sample_bug_count),\n",
    "                                                   str(\"NO_BUG\"):\n",
    "                                                       (1.0/(sample_count - sample_bug_count))})\n",
    "    clf = clf.fit(data.drop('oracle', axis=1), data['oracle'].astype(str))\n",
    "    # self.__tree = treetools.remove_infeasible(clf, features) # MARTIN: This is optional, but is a nice extesion that results in nicer decision trees\n",
    "    return clf"
   ]
  },
  {
   "cell_type": "markdown",
   "metadata": {},
   "source": [
    "## Step 3: Extract Feature Requirements"
   ]
  },
  {
   "cell_type": "markdown",
   "metadata": {},
   "source": [
    "In this section, we will extract the learned features from the decision tree"
   ]
  },
  {
   "cell_type": "code",
   "execution_count": null,
   "metadata": {},
   "outputs": [],
   "source": [
    "# Features for each input, one dict per input\n",
    "features = [\n",
    "    {'function-sqrt': 1, 'function-cos': 0, 'function-sin': 0, 'number': -900},\n",
    "    {'function-sqrt': 0, 'function-cos': 1, 'function-sin': 0, 'number': 300},\n",
    "    {'function-sqrt': 1, 'function-cos': 0, 'function-sin': 0, 'number': -1},\n",
    "    {'function-sqrt': 0, 'function-cos': 1, 'function-sin': 0, 'number': -10},\n",
    "    {'function-sqrt': 0, 'function-cos': 0, 'function-sin': 1, 'number': 36},\n",
    "    {'function-sqrt': 0, 'function-cos': 0, 'function-sin': 1, 'number': -58},\n",
    "    {'function-sqrt': 1, 'function-cos': 0, 'function-sin': 0, 'number': 27},\n",
    "]\n",
    "\n",
    "# Labels for each input\n",
    "oracle = [\n",
    "    \"BUG\",\n",
    "    \"NO_BUG\",\n",
    "    \"BUG\",\n",
    "    \"NO_BUG\",\n",
    "    \"NO_BUG\",\n",
    "    \"NO_BUG\",\n",
    "    \"NO_BUG\"\n",
    "]\n",
    "\n",
    "# We can use the sklearn DictVectorizer to transform the features to numpy array:\n",
    "# Notice: Use the correct labeling of the feature_names\n",
    "\n",
    "# vec = DictVectorizer()\n",
    "# X_vec = vec.fit_transform(features).toarray()\n",
    "# feature_names = vec.get_feature_names_out()\n",
    "\n",
    "# We can also use a pandas DataFrame and directly parse it to the decision tree learner\n",
    "feature_names = ['function-sqrt', 'function-cos', 'function-sin', 'number']\n",
    "X_data = pandas.DataFrame.from_records(features)\n",
    "\n",
    "# Fix the random state to produce a deterministic result (for illustration purposes only)\n",
    "clf = DecisionTreeClassifier(random_state=10)\n",
    "\n",
    "# Train with DictVectorizer\n",
    "# clf = clf.fit(X_vec, oracle)\n",
    "\n",
    "# Train with Pandas Dataframe\n",
    "clf = clf.fit(X_data, oracle)\n",
    "\n",
    "dot_data = sklearn.tree.export_graphviz(clf, out_file=None, \n",
    "                                feature_names=feature_names,\n",
    "                                class_names=[\"BUG\", \"NO BUG\"],  \n",
    "                                filled=True, rounded=True)  \n",
    "graph = graphviz.Source(dot_data)  "
   ]
  },
  {
   "cell_type": "markdown",
   "metadata": {},
   "source": [
    "**Note:** The sklearn DictVectorizer uses an internal sort function as default. This will result in different feature_name indices. If you want to use the Dictvectorizer please ensure that you only access the feature_names with the function <i>vec.get_feature_names_out()</i>. We recommend that you use the pandas Dataframe, since this is also the format used in the feedback loop."
   ]
  },
  {
   "cell_type": "code",
   "execution_count": null,
   "metadata": {},
   "outputs": [],
   "source": [
    "graph"
   ]
  },
  {
   "cell_type": "code",
   "execution_count": null,
   "metadata": {},
   "outputs": [],
   "source": [
    "print(friendly_decision_tree(clf, feature_names, class_names = ['NO_BUG', 'BUG']))"
   ]
  },
  {
   "cell_type": "markdown",
   "metadata": {},
   "source": [
    "### Excursion: Tree helper functions"
   ]
  },
  {
   "cell_type": "code",
   "execution_count": null,
   "metadata": {},
   "outputs": [],
   "source": [
    "\"\"\"This file bundles several functions which are helpful when working with decision trees.\"\"\"\n",
    "\n",
    "def all_path(clf, node=0):\n",
    "    \"\"\"Iterate over all path in a decision tree. Path will be represented as\n",
    "    a list of integers, each integer is the index of a node in the clf.tree_ structure.\"\"\"\n",
    "    left = clf.tree_.children_left[node]\n",
    "    right = clf.tree_.children_right[node]\n",
    "\n",
    "    if left == right:\n",
    "        yield [node]\n",
    "    else:\n",
    "        for path in all_path(clf, left):\n",
    "            yield [node] + path\n",
    "        for path in all_path(clf, right):\n",
    "            yield [node] + path\n",
    "\n",
    "\n",
    "def path_samples(clf, path):\n",
    "    \"\"\"Returns the number of samples for this path. \"\"\"\n",
    "    return clf.tree_.n_node_samples[path[-1]]\n",
    "\n",
    "\n",
    "def generic_feature_names(clf):\n",
    "    \"\"\"Gives a list of feature names of the form f1, f2, ...\"\"\"\n",
    "    return [\"f{}\".format(f) for f in range(0, clf.tree_.n_features)]\n",
    "\n",
    "\n",
    "def box(clf, path, data=None, feature_names=None):\n",
    "    \"\"\"For a decision tree classifier clf and a path path (as returned, e.g. by all_path),\n",
    "    this method gives a pandas DataFrame with the min and max of each feature value on the given path.\"\"\"\n",
    "\n",
    "    if feature_names is None:\n",
    "        feature_names = generic_feature_names(clf)\n",
    "    check_for_duplicates(feature_names)\n",
    "    if data is None:\n",
    "        bounds = pandas.DataFrame([{'feature': c, 'min': -numpy.inf, 'max': numpy.inf} for c in feature_names],\n",
    "                                  columns=['feature', 'min', 'max']).set_index(['feature']).transpose()\n",
    "    else:\n",
    "        bounds = pandas.DataFrame([{'feature': c, 'min': data[c].min(), 'max': data[c].max()} for c in feature_names],\n",
    "                                  columns=['feature', 'min', 'max']).set_index(['feature']).transpose()\n",
    "\n",
    "    for pos in range(0, len(path) - 1):\n",
    "        node = path[pos]\n",
    "        child = path[pos + 1]\n",
    "        feature = feature_names[clf.tree_.feature[node]]\n",
    "        threshold = clf.tree_.threshold[node]\n",
    "\n",
    "        if child == clf.tree_.children_left[node]:\n",
    "            bounds.at['max', feature] = threshold\n",
    "        else:\n",
    "            bounds.at['min', feature] = threshold\n",
    "    return bounds\n",
    "\n",
    "\n",
    "def rectangles(clf, colormap, data, feature_names=None):\n",
    "    \"\"\"yields matplotlib.patches rectangle objects. Each object represents a leaf of the tree.\"\"\"\n",
    "    if feature_names is None:\n",
    "        feature_names = ['in_x', 'in_y']\n",
    "    if 2 != len(feature_names):\n",
    "        raise AssertionError(\"Rectangles can only be generated if there are at most 2 features.\")\n",
    "\n",
    "    x_feature = feature_names[0]\n",
    "    y_feature = feature_names[1]\n",
    "\n",
    "    for path in all_path(clf):\n",
    "        b = box(clf, path, data=data, feature_names=feature_names)\n",
    "        p = prediction_for_path(clf, path)\n",
    "        c = colormap[p]\n",
    "        rect = matplotlib.patches.Rectangle((b[x_feature]['min'], \n",
    "                                             b[y_feature]['min']),\n",
    "                             # coordinates\n",
    "                             b[x_feature]['max'] - b[x_feature]['min'],  # width\n",
    "                             b[y_feature]['max'] - b[y_feature]['min'],  # height\n",
    "                             alpha=.2, facecolor=c, edgecolor='k')\n",
    "        yield rect\n",
    "\n",
    "\n",
    "def prediction_for_path(clf, path) -> OracleResult:\n",
    "    last_value = clf.tree_.value[path[-1]][0]\n",
    "    p_class = numpy.argmax(last_value)\n",
    "    return OracleResult(clf.classes_[p_class])\n",
    "\n",
    "\n",
    "def rule(clf, path, feature_names, class_names=None):\n",
    "    \"\"\"Creates a rule from one path in the decision tree.\"\"\"\n",
    "    bounds = box(clf, path, feature_names=feature_names)\n",
    "    prediction = prediction_for_path(clf, path)\n",
    "    if class_names is not None:\n",
    "        prediction = class_names[prediction]\n",
    "\n",
    "    feature_rules = []\n",
    "    for fname in feature_names:\n",
    "        min_ = bounds[fname]['min']\n",
    "        max_ = bounds[fname]['max']\n",
    "\n",
    "        if numpy.isinf(min_) and numpy.isinf(max_):\n",
    "            pass  # no rule if both are unbound\n",
    "        elif numpy.isinf(min_):\n",
    "            feature_rules.append(\"{} <= {:.4f}\".format(fname, max_))\n",
    "        elif numpy.isinf(max_):\n",
    "            feature_rules.append(\"{} > {:.4f}\".format(fname, min_))\n",
    "        else:\n",
    "            feature_rules.append(\"{} in {:.4f} to {:.4f}\".format(fname, min_, max_))\n",
    "\n",
    "    return \" AND \".join(feature_rules), prediction, clf.tree_.impurity[path[-1]], clf.tree_.n_node_samples[path[-1]]\n",
    "\n",
    "\n",
    "def rules(clf, class_names=None, feature_names=None):\n",
    "    \"\"\"Formats Decision trees in a rule-like representation.\"\"\"\n",
    "\n",
    "    if feature_names is None:\n",
    "        feature_names = generic_feature_names(clf)\n",
    "\n",
    "    samples = clf.tree_.n_node_samples[0]\n",
    "    return \"\\n\".join([\"IF {2} THEN PREDICT '{3}' ({0}: {4:.4f}, support: {5} / {1})\"\n",
    "                     .format(clf.criterion, samples,\n",
    "                             *rule(clf, path, feature_names, class_names=class_names)) for path in all_path(clf)])\n",
    "\n",
    "\n",
    "def grouped_rules(clf, class_names=None, feature_names=None):\n",
    "    \"\"\"Formats decision trees in a rule-like representation, grouped by class.\"\"\"\n",
    "\n",
    "    if feature_names is None:\n",
    "        feature_names = generic_feature_names(clf)\n",
    "\n",
    "    rules = {}\n",
    "    for path in all_path(clf):\n",
    "        rulestr, clz, impurity, support = rule(clf, path, class_names=class_names, feature_names=feature_names)\n",
    "        if clz not in rules:\n",
    "            rules[clz] = []\n",
    "        rules[clz].append((rulestr, impurity, support))\n",
    "\n",
    "    res = \"\"\n",
    "    samples = clf.tree_.n_node_samples[0]\n",
    "    for clz in rules:\n",
    "        rulelist = rules[clz]\n",
    "        res = res + \"\\n{}:\\n\\t\".format(clz)\n",
    "        rl = [\"{} ({}: {:.4f}, support: {}/{})\".format(r, clf.criterion, impurity, support, samples) for r, impurity, support in rulelist]\n",
    "        res = res + \"\\n\\tor \".join(rl)\n",
    "    return res.lstrip()\n",
    "\n",
    "\n",
    "def check_for_duplicates(names):\n",
    "    seen = set()\n",
    "    for name in names:\n",
    "        if name in seen:\n",
    "            raise AssertionError(\"Duplicate name: {}\".format(name))\n",
    "        seen.add(name)\n",
    "\n",
    "\n",
    "def is_leaf(clf, node: int) -> bool:\n",
    "    \"\"\"returns true if the given node is a leaf.\"\"\"\n",
    "    return clf.tree_.children_left[node] == clf.tree_.children_right[node]\n",
    "\n",
    "\n",
    "def leaf_label(clf, node: int) -> int:\n",
    "    \"\"\"returns the index of the class at this node. The node must be a leaf.\"\"\"\n",
    "    assert(is_leaf(clf, node))\n",
    "    occs = clf.tree_.value[node][0]\n",
    "    idx = 0\n",
    "    maxi = occs[idx]\n",
    "    for i, o in zip(range(0, len(occs)), occs):\n",
    "        if maxi < o:\n",
    "            maxi = o\n",
    "            idx = i\n",
    "    return idx\n",
    "\n",
    "\n",
    "def remove_infeasible(clf, features: List[Feature]):\n",
    "    for node in range(0, clf.tree_.node_count):\n",
    "        if not is_leaf(clf, node):\n",
    "            feature = features[clf.tree_.feature[node]]\n",
    "            threshold = clf.tree_.threshold[node]\n",
    "            if not feature.is_feasible(threshold):\n",
    "                clf.tree_.feature[node] = find_existence_index(features, feature)\n",
    "                clf.tree_.threshold[node] = 0.5\n",
    "    return clf\n",
    "\n",
    "\n",
    "def iterate_nodes(clf):\n",
    "    stack = [0]\n",
    "    while 0 != len(stack):\n",
    "        node = stack.pop()\n",
    "        yield node\n",
    "        if not is_leaf(clf, node):\n",
    "            stack.append(clf.tree_.children_left[node])\n",
    "            stack.append(clf.tree_.children_right[node])\n",
    "\n",
    "\n",
    "def count_nodes(clf):\n",
    "    return len(list(iterate_nodes(clf)))\n",
    "\n",
    "\n",
    "def count_leaves(clf):\n",
    "    return len([n for n in iterate_nodes(clf) if is_leaf(clf, n)])\n",
    "\n",
    "\n",
    "def list_features(clf):\n",
    "    return [clf.tree_.feature[node] for node in iterate_nodes(clf)]\n",
    "\n",
    "\n",
    "def remove_unequal_decisions(clf):\n",
    "    \"\"\"\n",
    "    This method rewrites a decision tree classifier to remove nodes where the same\n",
    "    decision is taken on both sides.\n",
    "\n",
    "    :param clf: a decision tree classifier\n",
    "    :return: the same classifier, rewritten\n",
    "    \"\"\"\n",
    "    changed = True\n",
    "    while changed:\n",
    "        changed = False\n",
    "        for node in range(0, clf.tree_.node_count):\n",
    "            if not is_leaf(clf, node) and (is_leaf(clf, clf.tree_.children_left[node]) and is_leaf(clf, clf.tree_.children_right[node])):\n",
    "                # both children of this node are leaves\n",
    "                left_label = leaf_label(clf, clf.tree_.children_left[node])\n",
    "                right_label = leaf_label(clf, clf.tree_.children_right[node])\n",
    "                if left_label == right_label:\n",
    "                    clf.tree_.children_left[node] = -1\n",
    "                    clf.tree_.children_right[node] = -1\n",
    "                    clf.tree_.feature[node] = -2\n",
    "                    changed = True\n",
    "                    assert(left_label == leaf_label(clf, node))\n",
    "    return clf\n"
   ]
  },
  {
   "cell_type": "markdown",
   "metadata": {},
   "source": [
    "### End of Excursion"
   ]
  },
  {
   "cell_type": "markdown",
   "metadata": {},
   "source": [
    "### Excursion: Converting Trees to Paths"
   ]
  },
  {
   "cell_type": "code",
   "execution_count": null,
   "metadata": {},
   "outputs": [],
   "source": [
    "import logging\n",
    "\n",
    "def tree_to_paths(tree, features: List[Feature]):\n",
    "    logging.info(\"Extracting requirements from tree ...\")\n",
    "    paths = []\n",
    "    # go through tree leaf by leaf\n",
    "    for path in all_path(tree):\n",
    "        requirements = []\n",
    "        is_bug = OracleResult.BUG == prediction_for_path(tree, path)\n",
    "        # find the requirements\n",
    "        box_ = box(tree, path, feature_names=features).transpose()\n",
    "        for feature, row in box_.iterrows():\n",
    "            mini = row['min']\n",
    "            maxi = row['max']\n",
    "            if (not numpy.isinf(mini)) or (not numpy.isinf(maxi)):\n",
    "                requirements.append(TreeRequirement(feature, mini, maxi))\n",
    "        paths.append(TreePath(None, is_bug, requirements))\n",
    "\n",
    "    return paths\n"
   ]
  },
  {
   "cell_type": "code",
   "execution_count": null,
   "metadata": {},
   "outputs": [],
   "source": [
    "class TreeRequirement:\n",
    "    def __init__(self, feature: Feature, mini, maxi):\n",
    "        self.__feature: Feature = feature\n",
    "        self.__mini = mini\n",
    "        self.__maxi = maxi\n",
    "\n",
    "    def feature(self) -> Feature:\n",
    "        return self.__feature\n",
    "\n",
    "    def select(self, data):\n",
    "        \"\"\"Returns a vector of booleans, suitable for selecting in a pandas data frame.\"\"\"\n",
    "        if self.__mini is None:\n",
    "            return data[self.__feature.name()] <= self.__maxi\n",
    "        if self.__maxi is None:\n",
    "            return self.__mini <= data[self.__feature.name()]\n",
    "        return (self.__mini <= data[self.__feature.name()]) & (data[self.__feature.name()] <= self.__maxi)\n",
    "\n",
    "    def mini(self):\n",
    "        return self.__mini\n",
    "\n",
    "    def maxi(self):\n",
    "        return self.__maxi\n",
    "\n",
    "    def get_key(self) -> str:\n",
    "        return self.__feature.key()\n",
    "\n",
    "    def is_binary(self) -> bool:\n",
    "        return self.__feature.is_binary()\n",
    "\n",
    "    def get_str(self, bounds) -> str:\n",
    "        if self.is_binary():\n",
    "            if self.__mini < 0 <= self.__maxi:\n",
    "                # feature is NOT included\n",
    "                return f\"!{self.__feature.name()}\"\n",
    "            if self.__mini < 1 <= self.__maxi:\n",
    "                # feature is included\n",
    "                return self.__feature.name()\n",
    "            raise AssertionError(\"How is this possible?\")\n",
    "        else:\n",
    "            if (not numpy.isinf(self.__mini)) and (not numpy.isinf(self.__maxi)):\n",
    "                return f\"{self.__feature.name()} in [{self.__mini}, {self.__maxi}]\"\n",
    "            elif not numpy.isinf(self.__maxi):\n",
    "                return f\"{self.__feature.name()} <= {self.__maxi}\"\n",
    "            else:\n",
    "                return f\"{self.__feature.name()} > {self.__mini}\"\n",
    "\n",
    "    def get_str_ext(self) -> str:\n",
    "        if (not numpy.isinf(self.__mini)) and (not numpy.isinf(self.__maxi)):\n",
    "            return f\"{self.__feature} in [{self.__mini}, {self.__maxi}]\"\n",
    "        elif not numpy.isinf(self.__maxi):\n",
    "            return f\"{self.__feature} <= {self.__maxi}\"\n",
    "        else:\n",
    "            return f\"{self.__feature} > {self.__mini}\"\n",
    "\n",
    "    def get_neg(self, bounds) -> List[str]:\n",
    "        if self.is_binary():\n",
    "            if self.__mini < 0 <= self.__maxi:\n",
    "                # feature is NOT included, so, the negated condition is to include it\n",
    "                return [self.__feature.name()]\n",
    "            if self.__mini < 1 <= self.__maxi:\n",
    "                # feature is included, so exclude it\n",
    "                return [f\"!{self.__feature.name()}\"]\n",
    "            raise AssertionError(\"How is this possible?\")\n",
    "        else:\n",
    "            if (not numpy.isinf(self.__mini)) and (not numpy.isinf(self.__maxi)):\n",
    "                return [f\"{self.__feature.name()} in [{bounds.at['min', self.__feature.name()]},{self.__mini}]\",\n",
    "                        f\"{self.__feature.name()} in [{self.__maxi}, {bounds.at['max', self.__feature.name()]}]\"]\n",
    "            elif not numpy.isinf(self.__maxi):\n",
    "                return [f\"{self.__feature.name()} <= {self.__maxi}\"]\n",
    "            else:\n",
    "                return [f\"{self.__feature.name()} > {self.__mini}\"]\n",
    "\n",
    "    def get_neg_ext(self, bounds) -> List[str]:\n",
    "        if (not numpy.isinf(self.__mini)) and (not numpy.isinf(self.__maxi)):\n",
    "            return [f\"{self.__feature} in [{bounds.at['min', self.__feature]},{self.__mini}]\",\n",
    "                    f\"{self.__feature} in [{self.__maxi}, {bounds.at['max', self.__feature]}]\"]\n",
    "        elif not numpy.isinf(self.__maxi):\n",
    "            return [f\"{self.__feature} > {self.__maxi}\"]\n",
    "        else:\n",
    "            return [f\"{self.__feature} <= {self.__mini}\"]"
   ]
  },
  {
   "cell_type": "code",
   "execution_count": null,
   "metadata": {},
   "outputs": [],
   "source": [
    "from pathlib import Path\n",
    "\n",
    "class TreePath:\n",
    "    def __init__(self, samplefile: Optional[Path], is_bug: bool, requirements: List[TreeRequirement]):\n",
    "        self.__sample = samplefile\n",
    "        self.__is_bug = is_bug\n",
    "        self.__requirements: List[TreeRequirement] = requirements\n",
    "\n",
    "    def is_bug(self) -> bool:\n",
    "        return self.__is_bug\n",
    "\n",
    "    def get(self, idx):\n",
    "        return self.__requirements[idx]\n",
    "\n",
    "    def find_sample(self, data):\n",
    "        for req in self.__requirements:\n",
    "            data = data[req.select(data)]\n",
    "        if 0 != len(data):\n",
    "            return data[\"abs_file\"][0]\n",
    "        return None\n",
    "\n",
    "    def __len__(self) -> int:\n",
    "        return len(self.__requirements)\n",
    "\n",
    "\n",
    "def lower_middle(start, end):\n",
    "    if start == end:\n",
    "        return start - abs(start)\n",
    "    return start + ((end - start)/2)\n",
    "\n",
    "\n",
    "def upper_middle(start, end):\n",
    "    if start == end:\n",
    "        return end + abs(end)\n",
    "    return start + ((end - start)/2)\n",
    "\n",
    "\n",
    "def min_digits(mini):\n",
    "    return int(\"1\" + \"\".join([0] * int(mini-1)))\n",
    "\n",
    "\n",
    "def max_digits(maxi):\n",
    "    return int(\"\".join([9] * int(maxi)))"
   ]
  },
  {
   "cell_type": "markdown",
   "metadata": {},
   "source": [
    "### End of Excursion"
   ]
  },
  {
   "cell_type": "code",
   "execution_count": null,
   "metadata": {},
   "outputs": [],
   "source": [
    "# We provide a functionallity to extract the paths from a decision tree.\n",
    "all_paths = tree_to_paths(clf, feature_names)"
   ]
  },
  {
   "cell_type": "code",
   "execution_count": null,
   "metadata": {},
   "outputs": [],
   "source": [
    "for count, path in enumerate(all_paths):\n",
    "    string_path = path.get(0).get_str_ext()\n",
    "    for box_ in range(1, len(path)):\n",
    "        string_path += \" \" + path.get(box_).get_str_ext()\n",
    "    print(f\"Path {count}: {string_path}, is_bug: {path.is_bug()}\")"
   ]
  },
  {
   "cell_type": "markdown",
   "metadata": {},
   "source": [
    "## Step 4: Generating New Samples"
   ]
  },
  {
   "cell_type": "markdown",
   "metadata": {},
   "source": [
    "### Negating Requirements"
   ]
  },
  {
   "cell_type": "markdown",
   "metadata": {},
   "source": [
    "The next step is to negate the requirements on a path to refine and refute the decision tree"
   ]
  },
  {
   "cell_type": "markdown",
   "metadata": {},
   "source": [
    "First we will determine some boundaries to obtain better path negations."
   ]
  },
  {
   "cell_type": "code",
   "execution_count": null,
   "metadata": {},
   "outputs": [],
   "source": [
    "x = pandas.DataFrame.from_records(features)\n",
    "bounds = pandas.DataFrame([{'feature': c, 'min': x[c].min(), 'max': x[c].max()}\n",
    "                           for c in feature_names],\n",
    "                          columns=['feature', 'min', 'max']).set_index(['feature']).transpose()"
   ]
  },
  {
   "cell_type": "markdown",
   "metadata": {},
   "source": [
    "We can use the function `path.get(i).get_neg_ext(bounds)` to obtain a negation for a single requirement on a path (indexed with `i`)."
   ]
  },
  {
   "cell_type": "markdown",
   "metadata": {},
   "source": [
    "Lets verify if we can negate a whole path."
   ]
  },
  {
   "cell_type": "code",
   "execution_count": null,
   "metadata": {},
   "outputs": [],
   "source": [
    "for count, path in enumerate(all_paths):\n",
    "    negated_string_path = path.get(0).get_neg_ext(bounds)[0]\n",
    "    for box_ in range(1, len(path)):\n",
    "        negated_string_path += \" \" + str(path.get(box_).get_neg_ext(bounds)[0])\n",
    "    print(f\"Path {count}: {negated_string_path}, is_bug: {path.is_bug()}\")"
   ]
  },
  {
   "cell_type": "markdown",
   "metadata": {},
   "source": [
    "Lets verify if we can negate a whole path."
   ]
  },
  {
   "cell_type": "markdown",
   "metadata": {},
   "source": [
    "### Systematically Negating Paths"
   ]
  },
  {
   "cell_type": "markdown",
   "metadata": {},
   "source": [
    "We will use the Decision tree and extract new input specifications to refine or refute our hypothesis (See paper Section 4.1 - Extracting Prediction Paths). These input specifications will be parsed to the input generator that tries to generate new inputs that fullfil the defined input specifications."
   ]
  },
  {
   "cell_type": "code",
   "execution_count": null,
   "metadata": {},
   "outputs": [],
   "source": [
    "def extracting_prediction_paths(clf, feature_names, data):\n",
    "    \n",
    "    # determine the bounds\n",
    "    bounds = pandas.DataFrame([{'feature': c, 'min': data[c].min(), 'max': data[c].max()}\n",
    "                           for c in feature_names],\n",
    "                          columns=['feature', 'min', 'max']).set_index(['feature']).transpose()\n",
    "    \n",
    "    # go through tree leaf by leaf\n",
    "    all_reqs = set()\n",
    "    for path in tree_to_paths(clf, feature_names):\n",
    "        # generate conditions\n",
    "        for i in range(0, len(path)+1):\n",
    "            reqs_list = []\n",
    "            bins = format(i, \"#0{}b\".format(len(path)+2))[2:]\n",
    "            for p, b in zip(range(0, len(bins)), bins):\n",
    "                r = path.get(p)\n",
    "                if '1' == b:\n",
    "                    reqs_list.append(r.get_neg_ext(bounds))\n",
    "                else:\n",
    "                    reqs_list.append([r.get_str_ext()])\n",
    "            for reqs in all_combinations(reqs_list):\n",
    "                all_reqs.add(\", \".join(sorted(reqs)))\n",
    "    return all_reqs\n",
    "\n",
    "def all_combinations(reqs_lists):\n",
    "    result = [[]]\n",
    "    for reqs in reqs_lists:\n",
    "        t = []\n",
    "        for r in reqs:\n",
    "            for i in result:\n",
    "                t.append(i+[r])\n",
    "        result = t\n",
    "    return result"
   ]
  },
  {
   "cell_type": "markdown",
   "metadata": {},
   "source": [
    "We will use the Decision tree and extract new input specifications to refine or refute our hypothesis (See paper Section 4.1 - Extracting Prediction Paths). These input specifications will be parsed to the input generator that tries to generate new inputs that fullfil the defined input specifications."
   ]
  },
  {
   "cell_type": "code",
   "execution_count": null,
   "metadata": {},
   "outputs": [],
   "source": [
    "new_prediction_paths = extracting_prediction_paths(clf, feature_names, data=x)"
   ]
  },
  {
   "cell_type": "code",
   "execution_count": null,
   "metadata": {},
   "outputs": [],
   "source": [
    "for path in new_prediction_paths:\n",
    "    print(path)"
   ]
  },
  {
   "cell_type": "markdown",
   "metadata": {},
   "source": [
    "### Input Specification Parser"
   ]
  },
  {
   "cell_type": "code",
   "execution_count": null,
   "metadata": {},
   "outputs": [],
   "source": [
    "import string\n",
    "\n",
    "SPEC_GRAMMAR: Grammar = {\n",
    "    \"<start>\":\n",
    "        [\"<req_list>\"],\n",
    "\n",
    "    \"<req_list>\": \n",
    "        [\"<req>\", \"<req>\"\", \"\"<req_list>\"],\n",
    "\n",
    "    \"<req>\":\n",
    "        [\"<feature>\"\" \"\"<quant>\"\" \"\"<num>\"],\n",
    "\n",
    "    \"<feature>\": [\"exists(<string>)\",\n",
    "                  \"num(<string>)\",\n",
    "                  # currently not used\n",
    "                  \"char(<string>)\",\n",
    "                  \"length(<string>)\"],\n",
    "\n",
    "    \"<quant>\":\n",
    "        [\"<\", \">\", \"<=\", \">=\"],\n",
    "\n",
    "    \"<num>\": [\"-<value>\", \"<value>\"],\n",
    "\n",
    "    \"<value>\":\n",
    "        [\"<integer>.<integer>\",\n",
    "         \"<integer>\"],\n",
    "\n",
    "    \"<integer>\":\n",
    "        [\"<digit><integer>\", \"<digit>\"],\n",
    "\n",
    "    \"<digit>\":\n",
    "        [\"0\", \"1\", \"2\", \"3\", \"4\", \"5\", \"6\", \"7\", \"8\", \"9\"],\n",
    "\n",
    "    '<string>': ['<letters>'],\n",
    "    '<letters>': ['<letter><letters>', '<letter>'],\n",
    "    '<letter>': list(string.ascii_letters + string.digits + string.punctuation)\n",
    "}\n",
    "\n",
    "assert is_valid_grammar(SPEC_GRAMMAR)"
   ]
  },
  {
   "cell_type": "markdown",
   "metadata": {},
   "source": [
    "### Excursion: Validating the Parser"
   ]
  },
  {
   "cell_type": "markdown",
   "metadata": {},
   "source": [
    "Lets validate our grammar, by using the grammar to produce 100 sample requirement specifications"
   ]
  },
  {
   "cell_type": "code",
   "execution_count": null,
   "metadata": {},
   "outputs": [],
   "source": [
    "g = GrammarFuzzer(SPEC_GRAMMAR, max_nonterminals=100)\n",
    "earley = EarleyParser(SPEC_GRAMMAR)\n",
    "for i in range(10):\n",
    "    sample = g.fuzz()\n",
    "    print(sample)"
   ]
  },
  {
   "cell_type": "code",
   "execution_count": null,
   "metadata": {},
   "outputs": [],
   "source": [
    "g = GrammarFuzzer(SPEC_GRAMMAR, max_nonterminals= 100)\n",
    "earley = EarleyParser(SPEC_GRAMMAR)\n",
    "for i in range(100):\n",
    "    sample = g.fuzz()\n",
    "    for tree in earley.parse(sample):\n",
    "        assert tree_to_string(tree) == sample, f\"{tree_to_string(tree)} and {sample} are not equal\""
   ]
  },
  {
   "cell_type": "markdown",
   "metadata": {},
   "source": [
    "Lets also try with some real requirement specifications"
   ]
  },
  {
   "cell_type": "code",
   "execution_count": null,
   "metadata": {},
   "outputs": [],
   "source": [
    "earley = EarleyParser(SPEC_GRAMMAR)\n",
    "teststrings = ['exists(<function>@0) > 0.5, exists(<term>@0) <= 0.5, exists(<value>@1) <= 0.5',\n",
    "               'exists(<digit>@9) <= 0.5, exists(<function>@0) > 0.5, num(<term>) > 0.05000000074505806',\n",
    "               'exists(<digit>@2) <= 0.5, exists(<function>@0) < 0.5, num(<term>) <= 0.05000000074505806',\n",
    "               'exists(<function>@0) > 0.5, num(<term>) > -3965678.1875']\n",
    "for count, sample in enumerate(teststrings):\n",
    "    for tree in earley.parse(sample):\n",
    "        assert tree_to_string(tree) == teststrings[count], \\\n",
    "        f\"{tree_to_string(tree)} and {teststrings[count]} are not equal\""
   ]
  },
  {
   "cell_type": "markdown",
   "metadata": {},
   "source": [
    "### End of Excursion"
   ]
  },
  {
   "cell_type": "markdown",
   "metadata": {},
   "source": [
    "### Retrieving New input Specifications"
   ]
  },
  {
   "cell_type": "code",
   "execution_count": null,
   "metadata": {},
   "outputs": [],
   "source": [
    "class SpecRequirement:\n",
    "    '''\n",
    "    This class represents a requirement for a new input sample that should be generated.\n",
    "    This class contains the feature that should be fullfiled (Feature), a quantifier\n",
    "    (\"<\", \">\", \"<=\", \">=\") and a value. For instance exist(feature) >= 0.5 states that\n",
    "    the syntactical existence feature should be used to produce a new input.\n",
    "\n",
    "    feature  : Is the associated feature class\n",
    "    quant    : The quantifier\n",
    "    value    : The value of the requirement. Note that for existence features this value\n",
    "                is allways between 0 and 1.\n",
    "    '''\n",
    "\n",
    "    def __init__(self, feature: Feature, quantificator, value):\n",
    "        self.feature: Feature = feature\n",
    "        self.quant = quantificator\n",
    "        self.value = value\n",
    "\n",
    "    def __str__(self):\n",
    "        return f\"Requirement({self.feature.name} {self.quant} {self.value})\"\n",
    "\n",
    "    def __repr__(self):\n",
    "        return f\"Requirement({self.feature.name}, {self.quant}, {self.value})\"\n",
    "\n",
    "    def friendly(self):\n",
    "        def value(x):\n",
    "            try:\n",
    "                return float(x)\n",
    "            except Exception:\n",
    "                return None\n",
    "\n",
    "        if isinstance(self.feature, ExistenceFeature):\n",
    "            if value(self.value) > 0:\n",
    "                return f\"{self.feature.friendly_name()}\"\n",
    "            elif value(self.value) < 0:\n",
    "                return f\"not {self.feature.friendly_name()}\"\n",
    "\n",
    "        return f\"{self.feature.friendly_name()} {self.quant} {self.value}\""
   ]
  },
  {
   "cell_type": "code",
   "execution_count": null,
   "metadata": {},
   "outputs": [],
   "source": [
    "class InputSpecification:\n",
    "    '''\n",
    "    This class represents a complete input specification of a new input. A input specification\n",
    "    consists of one or more requirements.\n",
    "    requirements  : Is a list of all requirements that must be used.\n",
    "    '''\n",
    "\n",
    "    def __init__(self, requirements: List[SpecRequirement]):\n",
    "        self.requirements: List[SpecRequirement] = requirements\n",
    "\n",
    "    def __str__(self):\n",
    "        s = \", \".join(str(r) for r in self.requirements)\n",
    "        return f\"InputSpecification({s})\"\n",
    "\n",
    "    def friendly(self):\n",
    "        return \" and \".join(r.friendly() for r in self.requirements)\n",
    "\n",
    "    def __repr__(self):\n",
    "        return self.__str__()"
   ]
  },
  {
   "cell_type": "code",
   "execution_count": null,
   "metadata": {},
   "outputs": [],
   "source": [
    "def get_all_subtrees(derivation_tree, non_terminal):\n",
    "    '''\n",
    "    Iteratively returns a list of subtrees that start with a given non_terminal.\n",
    "    '''\n",
    "\n",
    "    subtrees = []\n",
    "    (node, children) = derivation_tree\n",
    "\n",
    "    if node == non_terminal:\n",
    "        subtrees.append(derivation_tree)\n",
    "\n",
    "    for child in children:\n",
    "        subtrees = subtrees + get_all_subtrees(child, non_terminal)\n",
    "\n",
    "    return subtrees"
   ]
  },
  {
   "cell_type": "code",
   "execution_count": null,
   "metadata": {},
   "outputs": [],
   "source": [
    "def create_new_input_specification(derivation_tree, all_features) -> InputSpecification:\n",
    "    '''\n",
    "    This function creates a new input specification for a parsed decision tree path.\n",
    "    The input derivation_tree corresponds to a already negated path in the decision tree.\n",
    "    '''\n",
    "\n",
    "    requirement_list = []\n",
    "\n",
    "    for req in get_all_subtrees(derivation_tree, '<req>'):\n",
    "        feature_name = tree_to_string(get_all_subtrees(req, '<feature>')[0])\n",
    "        quant = tree_to_string(get_all_subtrees(req, '<quant>')[0])\n",
    "        value = tree_to_string(get_all_subtrees(req, '<num>')[0])\n",
    "\n",
    "        feature_class = None\n",
    "        for f in all_features:\n",
    "            if f.name == feature_name:\n",
    "                feature_class = f\n",
    "\n",
    "        requirement_list.append(SpecRequirement(feature_class, quant, value))\n",
    "\n",
    "    return InputSpecification(requirement_list)"
   ]
  },
  {
   "cell_type": "code",
   "execution_count": null,
   "metadata": {},
   "outputs": [],
   "source": [
    "def get_all_input_specifications(dec_tree,\n",
    "                                 all_features: List[Feature],\n",
    "                                 feature_names: List[str],\n",
    "                                 data) -> List[InputSpecification]:\n",
    "    '''\n",
    "    Returns a complete list new input specification that were extracted from a learned decision tree.\n",
    "\n",
    "    INPUT:\n",
    "        - dec_tree       : The learned decision tree.\n",
    "        - all_features   : A list of all features\n",
    "        - feature_names  : The list of the feature names (feature.name)\n",
    "        - data.          : The data that was used to learn the decision tree\n",
    "\n",
    "    OUTPUT:\n",
    "        - Returns a list of InputSpecifications\n",
    "    '''\n",
    "    prediction_paths = extracting_prediction_paths(dec_tree, feature_names, data)\n",
    "    input_specifications = []\n",
    "\n",
    "    # parse all extracted paths\n",
    "    for r in prediction_paths:\n",
    "        earley = EarleyParser(SPEC_GRAMMAR)\n",
    "        try:\n",
    "            for tree in earley.parse(r):\n",
    "                input_specifications.append(create_new_input_specification(tree, all_features))\n",
    "        except SyntaxError:\n",
    "            # Catch Parsing Syntax Errors: num(<term>) in [-900, 0] will fail; Might fix later\n",
    "            # For now, inputs following that form will be ignored\n",
    "            pass\n",
    "\n",
    "    return input_specifications"
   ]
  },
  {
   "cell_type": "markdown",
   "metadata": {},
   "source": [
    "### Excursion: Testing Specifications"
   ]
  },
  {
   "cell_type": "code",
   "execution_count": null,
   "metadata": {},
   "outputs": [],
   "source": [
    "sample_prediction_paths = ['exists(<function>@0) > 0.5, num(<term>) <= -38244758.0',\n",
    "                        'exists(<digit>@7) <= 0.5, exists(<function>@0) > 0.5, num(<term>) <= 0.05000000074505806',\n",
    "                        'exists(<digit>) > 1.5, exists(<function>@0) > 0.5, num(<term>) <= 0.21850000321865082', \n",
    "                        'exists(<function>@0) > 0.5']\n",
    "\n",
    "expected_input_specifications = ['InputSpecification(Requirement(exists(<function>@0) > 0.5), Requirement(num(<term>) <= -38244758.0))',\n",
    "                                 'InputSpecification(Requirement(exists(<digit>@7) <= 0.5), Requirement(exists(<function>@0) > 0.5), Requirement(num(<term>) <= 0.05000000074505806))',\n",
    "                                 'InputSpecification(Requirement(exists(<digit>) > 1.5), Requirement(exists(<function>@0) > 0.5), Requirement(num(<term>) <= 0.21850000321865082))',\n",
    "                                 'InputSpecification(Requirement(exists(<function>@0) > 0.5))']\n",
    "\n",
    "all_features = extract_all_features(CALC_GRAMMAR)\n",
    "\n",
    "earley = EarleyParser(SPEC_GRAMMAR)\n",
    "for count, sample in enumerate(sample_prediction_paths):\n",
    "    for tree in earley.parse(sample):\n",
    "        input_specification = create_new_input_specification(tree, all_features)\n",
    "        assert str(input_specification) == expected_input_specifications[count], \\\n",
    "            f\"{str(input_specification)} is not equal to {expected_input_specifications[count]}\""
   ]
  },
  {
   "cell_type": "markdown",
   "metadata": {},
   "source": [
    "If no assertion is triggered, then everything seems to work."
   ]
  },
  {
   "cell_type": "markdown",
   "metadata": {},
   "source": [
    "### End of Excursion"
   ]
  },
  {
   "cell_type": "markdown",
   "metadata": {},
   "source": [
    "We implement a _Grammar-Based Input Generator_ that generates new input samples from a List of `Input Specifications`.\n",
    "The Input Specifications are extracted from the decision tree boundaries in the previous Activity 3: _RequirementExtraction_.\n",
    "\n",
    "An Input Specification consists of **1 to n** many predicates or requirements (e.g. feature '>=' value, or 'num(term) <= 13').\n",
    "We  generate a new input for each `InputSpecification`.\n",
    "The new input fulfills all the given requirements of an InputSpecification."
   ]
  },
  {
   "cell_type": "markdown",
   "metadata": {},
   "source": [
    "**Info:** For further details, please refer to <b>Section 4.4 and 4.5</b> of the <a href=\"https://publications.cispa.saarland/3107/7/fse2020-alhazen.pdf\">paper</a> and the Chapter <b><a href=\"https://www.fuzzingbook.org/html/GrammarFuzzer.html\">Efficient Grammar Fuzzing</a></b> in the fuzzingbook."
   ]
  },
  {
   "cell_type": "markdown",
   "metadata": {},
   "source": [
    "**INPUT**:\n",
    "the function requires the following input parameter:\n",
    "- grammar: the grammar this is used to produce new inputs (e.g. the CALCULATOR-Grammar)\n",
    "- new_input_specification: a List of new inputs specifications (List\\[InputSpecification\\])\n",
    "- timeout: a max time budget. Return the generated inputs when the timebudget is exeeded."
   ]
  },
  {
   "cell_type": "markdown",
   "metadata": {},
   "source": [
    "**OUTPUT**: the function should return a list of new inputs that are specified by the given input specifications."
   ]
  },
  {
   "cell_type": "code",
   "execution_count": null,
   "metadata": {},
   "outputs": [],
   "source": [
    "import time\n",
    "import copy\n",
    "from copy import deepcopy\n",
    "import random\n",
    "from itertools import chain"
   ]
  },
  {
   "cell_type": "code",
   "execution_count": null,
   "metadata": {},
   "outputs": [],
   "source": [
    "def best_trees(forest, spec):\n",
    "    samples = [tree_to_string(tree) for tree in forest]\n",
    "    fulfilled_fractions= []\n",
    "    for sample in samples:\n",
    "        gen_features = collect_features([sample], CALC_GRAMMAR)\n",
    "\n",
    "        # calculate percentage of fulfilled requirements (used to rank the sample)\n",
    "        fulfilled_count = 0\n",
    "        total_count = len(spec.requirements)\n",
    "        for req in spec.requirements:\n",
    "            # for now, interpret requirement(exists(<...>) <= number) as false and requirement(exists(<...>) > number) as true\n",
    "            if isinstance(req.feature, ExistenceFeature):\n",
    "                expected = 1.0 if req.quant == '>' or req.quant == '>=' else 0.0\n",
    "                actual = gen_features[req.feature.name][0]\n",
    "                if actual == expected:\n",
    "                    fulfilled_count += 1\n",
    "                else:\n",
    "                    pass\n",
    "                    # print(f'{req.feature} expected: {expected}, actual:{actual}')\n",
    "            elif isinstance(req.feature, NumericInterpretation):\n",
    "                expected_value = float(req.value)\n",
    "                actual_value = gen_features[req.feature.name][0]\n",
    "                fulfilled = False\n",
    "                if req.quant == '<':\n",
    "                    fulfilled = actual_value < expected_value\n",
    "                elif req.quant == '<=':\n",
    "                    fulfilled = actual_value <= expected_value\n",
    "                elif req.quant == '>':\n",
    "                    fulfilled = actual_value > expected_value\n",
    "                elif req.quant == '>=':\n",
    "                    fulfilled = actual_value >= expected_value\n",
    "\n",
    "                if fulfilled:\n",
    "                    fulfilled_count += 1\n",
    "                else:\n",
    "                    pass\n",
    "                    # print(f'{req.feature} expected: {expected_value}, actual:{actual_value}')\n",
    "        fulfilled_fractions.append(fulfilled_count / total_count)\n",
    "        # print(f'Fraction of fulfilled requirements: {fulfilled_count / total_count}')\n",
    "    max_frac = max(fulfilled_fractions)\n",
    "    best_chosen = []\n",
    "    if max_frac == 1.0:\n",
    "        return True, forest[fulfilled_fractions.index(1.0)]\n",
    "\n",
    "    for i, t in enumerate(forest):\n",
    "        if fulfilled_fractions[i] == max_frac:\n",
    "            best_chosen.append(t)\n",
    "    return False, best_chosen\n"
   ]
  },
  {
   "cell_type": "code",
   "execution_count": null,
   "metadata": {},
   "outputs": [],
   "source": [
    "# well, not perfect and probably not very robust. but it works :)\n",
    "def generate_samples_advanced(grammar: Grammar,\n",
    "                     new_input_specifications: List[InputSpecification],\n",
    "                     timeout: int) -> List[str]:\n",
    "\n",
    "    # if there are no input specifications: generate some random samples\n",
    "    if len(new_input_specifications) == 0:\n",
    "        fuzzer = GrammarFuzzer(grammar)\n",
    "        samples = [fuzzer.fuzz() for _ in range(100)]\n",
    "        return samples\n",
    "\n",
    "    final_samples = []\n",
    "    each_spec_timeout = timeout / len(new_input_specifications)\n",
    "\n",
    "    rhs_nonterminals = grammar.keys()# list(chain(*[nonterminals(expansion) for expansion in grammar[rule]]))\n",
    "\n",
    "    fuzzer = GrammarFuzzer(grammar)\n",
    "\n",
    "    for spec in new_input_specifications:\n",
    "        done = False\n",
    "        starttime = time.time()\n",
    "        best_chosen = [fuzzer.fuzz_tree() for _ in range(100)]\n",
    "        done, best_chosen = best_trees(best_chosen, spec)\n",
    "        if done:\n",
    "            final_samples.append(tree_to_string(best_chosen))\n",
    "\n",
    "        while not done and time.time() - starttime < each_spec_timeout:\n",
    "            # split in prefix, postfix and try to reach targets\n",
    "            for tree in best_chosen:\n",
    "                prefix_len = random.randint(1, 3)\n",
    "                curr = tree\n",
    "                valid = True\n",
    "                for i in range(prefix_len):\n",
    "                    nt, children = curr\n",
    "                    poss_desc_idxs = []\n",
    "                    for c_idx, c in enumerate(children):\n",
    "                        s, _ = c\n",
    "                        possible_descend = s in rhs_nonterminals\n",
    "                        if possible_descend:\n",
    "                            poss_desc_idxs.append(c_idx)\n",
    "                    if len(poss_desc_idxs) < 1:\n",
    "                        valid = False\n",
    "                        break\n",
    "                    desc = random.randint(0, len(poss_desc_idxs) - 1)\n",
    "                    curr = children[poss_desc_idxs[desc]]\n",
    "                if valid:\n",
    "                    nt, _ = curr\n",
    "                    for req in spec.requirements:\n",
    "                        if isinstance(req.feature, NumericInterpretation) and nt == req.feature.key:\n",
    "                            # hacky: generate a derivation tree for this numeric interpretation\n",
    "                            hacky_grammar = copy.deepcopy(grammar)\n",
    "                            hacky_grammar[\"<start>\"] = [nt]\n",
    "                            parser = EarleyParser(hacky_grammar)\n",
    "                            try:\n",
    "                                test = parser.parse(req.value)\n",
    "                                x = list(test)[0]\n",
    "                                _, s = x\n",
    "                                # print(str(s[0]))\n",
    "                                # replace curr in tree with this new tree\n",
    "                                curr = s[0]\n",
    "                            except SyntaxError:\n",
    "                                pass\n",
    "            done, best_chosen = best_trees(best_chosen, spec)\n",
    "            if done:\n",
    "                final_samples.append(tree_to_string(best_chosen))\n",
    "        if not done:\n",
    "            final_samples.extend([tree_to_string(t) for t in best_chosen])\n",
    "\n",
    "    return final_samples"
   ]
  },
  {
   "cell_type": "code",
   "execution_count": null,
   "metadata": {},
   "outputs": [],
   "source": [
    "generate_samples = generate_samples_advanced"
   ]
  },
  {
   "cell_type": "markdown",
   "metadata": {},
   "source": [
    "Here's another interesting generator function:"
   ]
  },
  {
   "cell_type": "code",
   "execution_count": null,
   "metadata": {},
   "outputs": [],
   "source": [
    "def generate_samples_random(grammar, new_input_specifications, num):\n",
    "    f = GrammarFuzzer(grammar ,max_nonterminals=50, log=False)\n",
    "    data = []\n",
    "    for _ in range(num):\n",
    "        new_input = f.fuzz()\n",
    "        data.append(new_input)\n",
    "\n",
    "    return data"
   ]
  },
  {
   "cell_type": "code",
   "execution_count": null,
   "metadata": {},
   "outputs": [],
   "source": [
    "### Excursion: Some Tests"
   ]
  },
  {
   "cell_type": "code",
   "execution_count": null,
   "metadata": {},
   "outputs": [],
   "source": [
    "exsqrt = ExistenceFeature('exists(<function>@0)', '<function>', 'sqrt')\n",
    "exdigit = ExistenceFeature('exists(<digit>)', '<digit>', '<digit>')\n",
    "\n",
    "reqDigit = SpecRequirement(exdigit, '>', '0.5')\n",
    "fbdDigit = SpecRequirement(exdigit, '<=', '0.5')\n",
    "\n",
    "req0 = SpecRequirement(exsqrt, '>', '-6.0')\n",
    "testspec0 = InputSpecification([req0, reqDigit])\n",
    "req1 = SpecRequirement(exsqrt, '<=', '-6.0')\n",
    "testspec1 = InputSpecification([req1, fbdDigit])\n",
    "\n",
    "numterm = NumericInterpretation('num(<term>)', '<term>')\n",
    "req2 = SpecRequirement(numterm, '<', '-31.0')\n",
    "testspec2 = InputSpecification([req2, req0, reqDigit])\n",
    "\n",
    "print('--generating samples--')\n",
    "# samples = generate_samples(CALC_GRAMMAR, [testspec0, testspec1], 10)\n",
    "samples = generate_samples_advanced(CALC_GRAMMAR, [testspec2], 10)\n",
    "samples"
   ]
  },
  {
   "cell_type": "code",
   "execution_count": null,
   "metadata": {},
   "outputs": [],
   "source": [
    "### End of Excursion"
   ]
  },
  {
   "cell_type": "markdown",
   "metadata": {},
   "source": [
    "## Step 5: Executing New Input Files"
   ]
  },
  {
   "cell_type": "markdown",
   "metadata": {},
   "source": [
    "### The Alhazen Class"
   ]
  },
  {
   "cell_type": "code",
   "execution_count": null,
   "metadata": {},
   "outputs": [],
   "source": [
    "class Alhazen:\n",
    "    def __init__(self,\n",
    "                 runner: Any,\n",
    "                 grammar: Grammar,\n",
    "                 initial_inputs: List[str], /,\n",
    "                 max_iterations: int = 10,\n",
    "                 generator_timeout: int = 10):\n",
    "\n",
    "        self._initial_inputs = initial_inputs\n",
    "        self._grammar = grammar\n",
    "        self._runner = runner\n",
    "        self._max_iter = max_iterations\n",
    "        self._previous_samples = None\n",
    "        self._data = None\n",
    "        self._trees = []\n",
    "        self._generator_timeout = generator_timeout\n",
    "        self._setup()"
   ]
  },
  {
   "cell_type": "code",
   "execution_count": null,
   "metadata": {},
   "outputs": [],
   "source": [
    "class Alhazen(Alhazen):\n",
    "    def _setup(self):\n",
    "        self._previous_samples = self._initial_inputs\n",
    "\n",
    "        self._all_features = extract_all_features(self._grammar)\n",
    "        self._feature_names = [f.name for f in self._all_features]\n",
    "        print(\"Features:\", \", \".join(f.friendly_name()\n",
    "                                     for f in self._all_features))"
   ]
  },
  {
   "cell_type": "code",
   "execution_count": null,
   "metadata": {},
   "outputs": [],
   "source": [
    "class Alhazen(Alhazen):\n",
    "    def _add_new_data(self, exec_data, feature_data):\n",
    "        joined_data = exec_data.join(feature_data.drop(['sample'], axis=1))\n",
    "\n",
    "        # Only add valid data\n",
    "        new_data = joined_data[(joined_data['oracle'] != OracleResult.UNDEF)]\n",
    "        new_data = joined_data.drop(joined_data[joined_data.oracle.astype(str) == \"UNDEF\"].index)\n",
    "        if 0 != len(new_data):\n",
    "            if self._data is None:\n",
    "                self._data = new_data\n",
    "            else:\n",
    "                self._data = pandas.concat([self._data, new_data], sort=False)"
   ]
  },
  {
   "cell_type": "code",
   "execution_count": null,
   "metadata": {},
   "outputs": [],
   "source": [
    "class Alhazen(Alhazen):\n",
    "    def _finalize(self):\n",
    "        return self._trees"
   ]
  },
  {
   "cell_type": "code",
   "execution_count": null,
   "metadata": {},
   "outputs": [],
   "source": [
    "class Alhazen(Alhazen):\n",
    "    def execute_samples(self, sample_list = None):\n",
    "        if sample_list is None:\n",
    "            sample_list = self._initial_inputs\n",
    "\n",
    "        data = []\n",
    "        for sample in sample_list:\n",
    "            result = self._runner(sample)\n",
    "            data.append({\"oracle\": result })\n",
    "\n",
    "        return pandas.DataFrame.from_records(data)"
   ]
  },
  {
   "cell_type": "code",
   "execution_count": null,
   "metadata": {},
   "outputs": [],
   "source": [
    "class Alhazen(Alhazen):\n",
    "    def run(self):\n",
    "        for iteration in range(self._max_iter):\n",
    "            print(f\"\\nIteration #{iteration}\")\n",
    "            self._iterate(self._previous_samples)\n",
    "\n",
    "        return self._finalize()"
   ]
  },
  {
   "cell_type": "code",
   "execution_count": null,
   "metadata": {},
   "outputs": [],
   "source": [
    "class Alhazen(Alhazen):\n",
    "    def _iterate(self, sample_list):\n",
    "        # Obtain labels, execute samples (Initial Step)\n",
    "        exec_data = self.execute_samples(sample_list)\n",
    "\n",
    "        # Collect features from the new samples\n",
    "        feature_data = collect_features(sample_list, self._grammar)\n",
    "\n",
    "        # Combine the new data with the already existing data\n",
    "        self._add_new_data(exec_data, feature_data)\n",
    "        # display(self._data)\n",
    "\n",
    "        # Train a tree\n",
    "        dec_tree = train_tree(self._data)\n",
    "        self._trees.append(dec_tree)\n",
    "\n",
    "        # Extract new requirements from the tree (Activity 3)\n",
    "        new_input_specifications = get_all_input_specifications(dec_tree,\n",
    "                                                self._all_features,\n",
    "                                                self._feature_names,\n",
    "                                                self._data.drop(['oracle'], axis=1))\n",
    "        print(f\"  New input specifications:\")\n",
    "        for spec in new_input_specifications:\n",
    "            print(f\"    {spec.friendly()}\")\n",
    "\n",
    "        # generate new inputs according to the new input specifications\n",
    "        new_samples = generate_samples(self._grammar,\n",
    "                                       new_input_specifications,\n",
    "                                       self._generator_timeout)\n",
    "        print(f\"  New samples:\")\n",
    "        print(f\"    {\", \".join(new_samples)}\")\n",
    "        self._previous_samples = new_samples"
   ]
  },
  {
   "cell_type": "markdown",
   "metadata": {},
   "source": [
    "### A Sample Run"
   ]
  },
  {
   "cell_type": "markdown",
   "metadata": {},
   "source": [
    "We can finally run _Alhazen_!"
   ]
  },
  {
   "cell_type": "code",
   "execution_count": null,
   "metadata": {},
   "outputs": [],
   "source": [
    "# Set the number of refinement iterations and the timeout for the input generator\n",
    "# The execution time of Alhazen mainly depends on the number of iterations\n",
    "\n",
    "MAX_ITERATIONS = 20\n",
    "GENERATOR_TIMEOUT = 10 # timeout in seconds"
   ]
  },
  {
   "cell_type": "code",
   "execution_count": null,
   "metadata": {},
   "outputs": [],
   "source": [
    "# We initialize Alhazen with the previously used sample_list (['sqrt(-16)', 'sqrt(4)'])\n",
    "alhazen = Alhazen(sample_runner, CALC_GRAMMAR, initial_sample_list,\n",
    "                  max_iterations=MAX_ITERATIONS,\n",
    "                  generator_timeout=GENERATOR_TIMEOUT)\n",
    "\n",
    "# and run it\n",
    "# Alhazen returns a list of all the iteratively learned decision trees\n",
    "trees = alhazen.run()"
   ]
  },
  {
   "cell_type": "markdown",
   "metadata": {},
   "source": [
    "Let's display the final decision tree learned by Alhazen. You can use the function `show_tree(decision_tree, features)` to display the final tree."
   ]
  },
  {
   "cell_type": "code",
   "execution_count": null,
   "metadata": {},
   "outputs": [],
   "source": [
    "final_tree = trees[MAX_ITERATIONS-1]\n",
    "final_tree"
   ]
  },
  {
   "cell_type": "code",
   "execution_count": null,
   "metadata": {},
   "outputs": [],
   "source": [
    "all_features = extract_all_features(CALC_GRAMMAR)\n",
    "all_feature_names = [f.friendly_name() for f in all_features]"
   ]
  },
  {
   "cell_type": "code",
   "execution_count": null,
   "metadata": {},
   "outputs": [],
   "source": [
    "show_decision_tree(final_tree, all_feature_names)"
   ]
  },
  {
   "cell_type": "markdown",
   "metadata": {},
   "source": [
    "**Info:** The decision tree may contain unnecessary long paths, where the bug-class does not change. You can use the function `remove_unequal_decisions(decision_tree)` to remove those nodes."
   ]
  },
  {
   "cell_type": "code",
   "execution_count": null,
   "metadata": {},
   "outputs": [],
   "source": [
    "show_decision_tree(remove_unequal_decisions(final_tree), all_feature_names)"
   ]
  },
  {
   "cell_type": "code",
   "execution_count": null,
   "metadata": {},
   "outputs": [],
   "source": [
    "print(friendly_decision_tree(final_tree, all_feature_names))"
   ]
  },
  {
   "cell_type": "markdown",
   "metadata": {},
   "source": [
    "## Synopsis"
   ]
  },
  {
   "cell_type": "markdown",
   "metadata": {},
   "source": [
    "_For those only interested in using the code in this chapter (without wanting to know how it works), give an example.  This will be copied to the beginning of the chapter (before the first section) as text with rendered input and output._"
   ]
  },
  {
   "cell_type": "markdown",
   "metadata": {},
   "source": []
  },
  {
   "cell_type": "markdown",
   "metadata": {
    "button": false,
    "new_sheet": true,
    "run_control": {
     "read_only": false
    }
   },
   "source": [
    "## Lessons Learned\n",
    "\n",
    "* _Lesson one_\n",
    "* _Lesson two_\n",
    "* _Lesson three_"
   ]
  },
  {
   "cell_type": "markdown",
   "metadata": {
    "button": false,
    "new_sheet": false,
    "run_control": {
     "read_only": false
    }
   },
   "source": [
    "## Next Steps\n",
    "\n",
    "_Link to subsequent chapters (notebooks) here, as in:_\n",
    "\n",
    "* [use _assertions_ to check conditions at runtime](Assertions.ipynb)\n",
    "* [reduce _failing inputs_ for efficient debugging](DeltaDebugger.ipynb)\n"
   ]
  },
  {
   "cell_type": "markdown",
   "metadata": {},
   "source": [
    "## Background\n",
    "\n",
    "_Cite relevant works in the literature and put them into context, as in:_\n",
    "\n",
    "The idea of ensuring that each expansion in the grammar is used at least once goes back to Burkhardt \\cite{Burkhardt1967}, to be later rediscovered by Paul Purdom \\cite{Purdom1972}."
   ]
  }
 ],
 "metadata": {
  "ipub": {
   "bibliography": "fuzzingbook.bib",
   "toc": true
  },
  "kernelspec": {
   "display_name": "3.12.8",
   "language": "python",
   "name": "python3"
  },
  "language_info": {
   "codemirror_mode": {
    "name": "ipython",
    "version": 3
   },
   "file_extension": ".py",
   "mimetype": "text/x-python",
   "name": "python",
   "nbconvert_exporter": "python",
   "pygments_lexer": "ipython3",
   "version": "3.12.8"
  },
  "toc": {
   "base_numbering": 1,
   "nav_menu": {},
   "number_sections": true,
   "sideBar": true,
   "skip_h1_title": true,
   "title_cell": "",
   "title_sidebar": "Contents",
   "toc_cell": false,
   "toc_position": {},
   "toc_section_display": true,
   "toc_window_display": true
  },
  "toc-autonumbering": false
 },
 "nbformat": 4,
 "nbformat_minor": 4
}
