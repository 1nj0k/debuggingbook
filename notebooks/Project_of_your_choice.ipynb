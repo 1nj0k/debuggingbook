{
 "cells": [
  {
   "cell_type": "markdown",
   "metadata": {
    "collapsed": true
   },
   "source": [
    "# Fourth Project: Contribution of Your Choice"
   ]
  },
  {
   "cell_type": "markdown",
   "metadata": {},
   "source": [
    "## The Task"
   ]
  },
  {
   "cell_type": "markdown",
   "metadata": {},
   "source": [
    "In this project, you will develop and implement a tool of your choice.\n",
    "Your project should focus on techniques **not** covered by the previous projects, notably:\n",
    "\n",
    "* Asserting Expectations\n",
    "* Tracking Failure Origins\n",
    "* Isolating Failure-Inducing Changes\n",
    "* Statistical Debugging\n",
    "* Mining Function Specifications\n",
    "* Generalizing Failure Circumstances\n",
    "* Where the Bugs are\n",
    "\n",
    "To get an idea on what the expectations are, here are some suggestions for concrete project ideas:\n",
    "\n",
    "1. Enforcing Flows. Set up a system that asserts that specific data flows should (or should not) take place (“There should be no data flow from password to output”). Combines [assertions](Assertions.ipynb) and [slices](Slicer.ipynb).\n",
    "\n",
    "2. Statistical Dependencies. Associate the presence (or absence) of data flows/dependencies with failures (“This program fails when there is a flow between A and B”). Combines [slices](Slicer.ipynb) and [statistical debugging](StatisticalDebugger.ipynb).\n",
    "\n",
    "3. Statistical Invariant Properties. Using the invariant templates (say, X < Y) from [dynamic invariants](DynamicInvariants.ipynb), find out which properties correlate with failure, as in [statistical debugging](StatisticalDebugger.ipynb): “middle() fails when x < z < y”.\n",
    "\n",
    "4. Exploring Flows. Add commands to the [interactive debugger](Debugger.ipynb) such that one can track where a particular value came from, using [slicer](Slicer.ipynb): “enter 'origin x’; get ‘from y in Line 35’)\n",
    "\n",
    "5. Mining Co-Changes. Pick some git project. Which files are most frequently changed together? Visualize. Uses [mining changes](ChangeCounter.ipynb): “Sitemap.html and 404.html are always changed together”\n",
    "\n",
    "You can pick one of the above ideas or suggest one of your own.\n",
    "\n",
    "You can either work alone or form a team of two people. Keep in mind, a pair project should be **sufficiently sophisticated** for two persons."
   ]
  },
  {
   "cell_type": "markdown",
   "metadata": {},
   "source": [
    "Before you start, we ask you to hand in a project proposal. You can either build it on top of the suggestions mentioned above or pursue your own project idea. Also specify, if you will work in a team."
   ]
  },
  {
   "cell_type": "markdown",
   "metadata": {},
   "source": [
    "## Project proposal"
   ]
  },
  {
   "cell_type": "markdown",
   "metadata": {},
   "source": [
    "A project proposal should be a concise one-paragraph description of your idea. It should briefly **address the problem** at hand and how you want to **approach** it. Furthermore, it should indicate, whether or not you plan to do your project alone or together with a partner. To be able to work on your own project idea, you need to hand in the proposal by **Wednesday, February 10, 23:59**. We will then notify you, whether your project idea is approved, is approved with changes, or is rejected. If we approve it with changes, you need to agree to the changes we proposed. If we cannot achieve an agreement on the included features, you can still continue with one of the aforementioned project ideas.\n",
    "\n",
    "Any team must submit a project proposal and explain why it cannot be done by one person. The listed project ideas per se are considered as a one-person project, though, a team can use them as a starting point for an extended proposal."
   ]
  },
  {
   "cell_type": "markdown",
   "metadata": {},
   "source": [
    "## Teams"
   ]
  },
  {
   "cell_type": "markdown",
   "metadata": {},
   "source": [
    "If you want to work in teams, you are required to build teams in the CMS until **Tuesday, February 23, 23:59**. You can either create or join a team on your personal page in the CMS. Once the team building phase is over you cannot change your team any longer. If you want to work alone, there is no need to create a team in the CMS. "
   ]
  },
  {
   "cell_type": "markdown",
   "metadata": {},
   "source": [
    "## The Submission\n",
    "\n",
    "The time frame for this project is **4 weeks**, and the deadline is **March 12, 23:59**.  \n",
    "The submission should be in form of a Jupyter notebook and you are expected to hand in the submission as a .zip-archive.\n",
    "The notebook must include (but not limited to) the personal information, the project proposal with a list of features, the implementation section, and the demo section. The \"Implementation\" section must contain not only the implementation (part of it can be placed in auxiliary python modules), but also explanations and reasoning (in markdown cells) behind the decisions that lead to the solution. The \"Demo\" section should demonstrate how to interact with the tool, its features, and the use cases.\n",
    "Projects that lack explanations cannot get more than **15 points**.\n",
    "\n"
   ]
  },
  {
   "cell_type": "markdown",
   "metadata": {},
   "source": [
    "## Grading\n",
    "For this project, you can get a total of 30 Points. We will assess your submission in respect to the originality of the idea, concept, functionality, usability, and presentation. Please double check that your submission satisfies the submission format."
   ]
  },
  {
   "cell_type": "code",
   "execution_count": null,
   "metadata": {},
   "outputs": [],
   "source": []
  }
 ],
 "metadata": {
  "kernelspec": {
   "display_name": "Python 3",
   "language": "python",
   "name": "python3"
  },
  "language_info": {
   "codemirror_mode": {
    "name": "ipython",
    "version": 3
   },
   "file_extension": ".py",
   "mimetype": "text/x-python",
   "name": "python",
   "nbconvert_exporter": "python",
   "pygments_lexer": "ipython3",
   "version": "3.7.6"
  }
 },
 "nbformat": 4,
 "nbformat_minor": 1
}