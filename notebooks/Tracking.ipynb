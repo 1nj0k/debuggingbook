{
 "cells": [
  {
   "cell_type": "markdown",
   "metadata": {
    "button": false,
    "new_sheet": false,
    "run_control": {
     "read_only": false
    }
   },
   "source": [
    "# Tracking Bugs\n",
    "\n",
    "_Brief abstract/introduction/motivation.  State what the chapter is about in 1-2 paragraphs._\n",
    "_Then, have an introduction video:_"
   ]
  },
  {
   "cell_type": "code",
   "execution_count": null,
   "metadata": {},
   "outputs": [],
   "source": [
    "from bookutils import YouTubeVideo\n",
    "YouTubeVideo(\"w4u5gCgPlmg\")"
   ]
  },
  {
   "cell_type": "markdown",
   "metadata": {
    "button": false,
    "new_sheet": false,
    "run_control": {
     "read_only": false
    }
   },
   "source": [
    "**Prerequisites**\n",
    "\n",
    "* _Refer to earlier chapters as notebooks here, as here:_ [Earlier Chapter](Fuzzer.ipynb)."
   ]
  },
  {
   "cell_type": "code",
   "execution_count": null,
   "metadata": {
    "button": false,
    "new_sheet": false,
    "run_control": {
     "read_only": false
    },
    "slideshow": {
     "slide_type": "skip"
    }
   },
   "outputs": [],
   "source": [
    "import bookutils"
   ]
  },
  {
   "cell_type": "markdown",
   "metadata": {},
   "source": [
    "## Synopsis\n",
    "\n",
    "<!-- Automatically generated. Do not edit. -->\n",
    "\n",
    "\n",
    "\n",
    "_For those only interested in using the code in this chapter (without wanting to know how it works), give an example.  This will be copied to the beginning of the chapter (before the first section) as text with rendered input and output._\n",
    "\n",
    "You can use `int_fuzzer()` as:\n",
    "\n",
    "```python\n",
    "print(int_fuzzer())\n",
    "```\n",
    "```python\n",
    "=> 76.5\n",
    "\n",
    "```\n"
   ]
  },
  {
   "cell_type": "markdown",
   "metadata": {
    "button": false,
    "new_sheet": true,
    "run_control": {
     "read_only": false
    }
   },
   "source": [
    "## Tracking Failures\n",
    "\n",
    "\\todo{Add}"
   ]
  },
  {
   "cell_type": "markdown",
   "metadata": {
    "button": false,
    "new_sheet": false,
    "run_control": {
     "read_only": false
    }
   },
   "source": [
    "## Mining Past Changes\n",
    "\n",
    "We can mine past changes."
   ]
  },
  {
   "cell_type": "code",
   "execution_count": null,
   "metadata": {},
   "outputs": [],
   "source": [
    "from pydriller import RepositoryMining  # https://pydriller.readthedocs.io/"
   ]
  },
  {
   "cell_type": "code",
   "execution_count": null,
   "metadata": {},
   "outputs": [],
   "source": [
    "from ChangeDebugger import diff, patch, print_patch"
   ]
  },
  {
   "cell_type": "code",
   "execution_count": null,
   "metadata": {},
   "outputs": [],
   "source": [
    "# n = 10\n",
    "# for commit in miner.traverse_commits():\n",
    "#     print(commit.hash, commit.author.name)\n",
    "#     for m in commit.modifications:\n",
    "#         print(m.new_path)\n",
    "#         old_version = m.source_code_before if m.source_code_before else \"\"\n",
    "#         new_version = m.source_code if m.source_code else \"\"\n",
    "#         patches = diff(old_version, new_version)\n",
    "#         for patch in patches:\n",
    "#             print_patch(patch)\n",
    "#         n -= 1\n",
    "#         if n <= 0:\n",
    "#             break\n",
    "#     if n <= 0:\n",
    "#         break"
   ]
  },
  {
   "cell_type": "code",
   "execution_count": null,
   "metadata": {},
   "outputs": [],
   "source": [
    "import pickle"
   ]
  },
  {
   "cell_type": "code",
   "execution_count": null,
   "metadata": {},
   "outputs": [],
   "source": [
    "REPO_CACHE = \"repocache.pickle\""
   ]
  },
  {
   "cell_type": "code",
   "execution_count": null,
   "metadata": {},
   "outputs": [],
   "source": [
    "def all_modifications(repo):\n",
    "    try:\n",
    "        with open(REPO_CACHE, 'rb') as f:\n",
    "            all_modifications = pickle.load(f)\n",
    "    except FileNotFoundError:\n",
    "        all_modifications = {}\n",
    "    except EOFError:\n",
    "        all_modifications = {}\n",
    "    except TypeError:\n",
    "        all_modifications = {}\n",
    "    except pickle.PickleError:\n",
    "        all_modifications = {}\n",
    "\n",
    "    if repo not in all_modifications:\n",
    "        miner = RepositoryMining(repo)\n",
    "        all_modifications[repo] = []\n",
    "\n",
    "        for commit in miner.traverse_commits():\n",
    "            for m in commit.modifications:\n",
    "                m.hash = commit.hash\n",
    "                m.committer = commit.committer\n",
    "                m.committer_date = commit.committer_date\n",
    "                m.msg = commit.msg\n",
    "                all_modifications[repo].append(m)\n",
    "\n",
    "        with open(REPO_CACHE, 'wb') as f:\n",
    "            pickle.dump(all_modifications, f)\n",
    "\n",
    "    return all_modifications[repo]"
   ]
  },
  {
   "cell_type": "code",
   "execution_count": null,
   "metadata": {},
   "outputs": [],
   "source": [
    "REPO = 'https://github.com/uds-se/debuggingbook.git'\n",
    "# REPO = '..'"
   ]
  },
  {
   "cell_type": "code",
   "execution_count": null,
   "metadata": {},
   "outputs": [],
   "source": [
    "class ChangeCounter:\n",
    "    def __init__(self, repo, filter=None):\n",
    "        self.repo = repo\n",
    "        self.changes = {}\n",
    "        self.messages = {}\n",
    "        self.sizes = {}\n",
    "        self.hashes = set()\n",
    "\n",
    "        for m in all_modifications(repo):\n",
    "            if filter is None or filter(m):\n",
    "                self.update_stats(m)"
   ]
  },
  {
   "cell_type": "code",
   "execution_count": null,
   "metadata": {},
   "outputs": [],
   "source": [
    "class ChangeCounter(ChangeCounter):\n",
    "    def update_stats(self, m):\n",
    "        if not m.new_path:\n",
    "            return\n",
    "\n",
    "        node = tuple(m.new_path.split('/'))\n",
    "        \n",
    "        if m.hash not in self.hashes:\n",
    "            self.hashes.add(m.hash)\n",
    "            self.update_size(m, node)\n",
    "            self.update_changes(m, node)\n",
    "\n",
    "    def update_size(self, m, node):\n",
    "        self.sizes[node] = len(m.source_code) if m.source_code else 0\n",
    "        \n",
    "    def update_changes(self, m, node):\n",
    "        self.changes.setdefault(node, 0)\n",
    "        self.messages.setdefault(node, [])\n",
    "        self.changes[node] += 1\n",
    "        self.messages[node].append(m.msg)"
   ]
  },
  {
   "cell_type": "code",
   "execution_count": null,
   "metadata": {},
   "outputs": [],
   "source": [
    "change_counter = ChangeCounter(REPO)"
   ]
  },
  {
   "cell_type": "code",
   "execution_count": null,
   "metadata": {},
   "outputs": [],
   "source": [
    "list(change_counter.changes.keys())[:10]"
   ]
  },
  {
   "cell_type": "code",
   "execution_count": null,
   "metadata": {
    "tags": [
     "outputPrepend"
    ]
   },
   "outputs": [],
   "source": [
    "change_counter.changes[('Chapters.makefile',)]"
   ]
  },
  {
   "cell_type": "code",
   "execution_count": null,
   "metadata": {
    "tags": [
     "outputPrepend"
    ]
   },
   "outputs": [],
   "source": [
    "change_counter.messages[('Chapters.makefile',)]"
   ]
  },
  {
   "cell_type": "code",
   "execution_count": null,
   "metadata": {
    "tags": [
     "outputPrepend"
    ]
   },
   "outputs": [],
   "source": [
    "change_counter.sizes[('Chapters.makefile',)]"
   ]
  },
  {
   "cell_type": "markdown",
   "metadata": {},
   "source": [
    "## Past Changes"
   ]
  },
  {
   "cell_type": "markdown",
   "metadata": {},
   "source": [
    "Now, visualize treemap (notebooks/) and give it \n",
    "\n",
    "* a size, depending on the number of lines;\n",
    "* a color, depending on the total number of changes."
   ]
  },
  {
   "cell_type": "markdown",
   "metadata": {},
   "source": [
    "https://github.com/mwouts/easyplotly"
   ]
  },
  {
   "cell_type": "code",
   "execution_count": null,
   "metadata": {},
   "outputs": [],
   "source": [
    "import easyplotly as ep\n",
    "import plotly.graph_objects as go"
   ]
  },
  {
   "cell_type": "code",
   "execution_count": null,
   "metadata": {},
   "outputs": [],
   "source": [
    "import math"
   ]
  },
  {
   "cell_type": "code",
   "execution_count": null,
   "metadata": {},
   "outputs": [],
   "source": [
    "class ChangeCounter(ChangeCounter):\n",
    "    def log_sizes(self):\n",
    "        return {node: math.log(self.sizes[node]) if self.sizes[node] else 0\n",
    "             for node in self.sizes}\n",
    "\n",
    "    def node_color(self, node):\n",
    "        if node and node in self.changes:\n",
    "            return self.changes[node]\n",
    "        return None\n",
    "    \n",
    "    def node_text(self, node):\n",
    "        if node and node in self.changes:\n",
    "            return self.changes[node]\n",
    "        return None\n",
    "\n",
    "    def map(self):\n",
    "        treemap = ep.Treemap(self.log_sizes(),\n",
    "                     text=self.node_text,\n",
    "                     hoverinfo='label',\n",
    "                     marker_colors=self.node_color,\n",
    "                     marker_colorscale='YlOrRd',\n",
    "                     root_label=self.repo,\n",
    "                     branchvalues='total'\n",
    "                    )\n",
    "\n",
    "        fig = go.Figure(treemap)\n",
    "\n",
    "        fig.update_layout(\n",
    "            margin=dict(l=0, r=0, t=30, b=0),\n",
    "        )\n",
    "        \n",
    "        return fig"
   ]
  },
  {
   "cell_type": "code",
   "execution_count": null,
   "metadata": {},
   "outputs": [],
   "source": [
    "change_counter = ChangeCounter(REPO)"
   ]
  },
  {
   "cell_type": "code",
   "execution_count": null,
   "metadata": {},
   "outputs": [],
   "source": [
    "change_counter.map()"
   ]
  },
  {
   "cell_type": "markdown",
   "metadata": {},
   "source": [
    "## Past Fixes"
   ]
  },
  {
   "cell_type": "code",
   "execution_count": null,
   "metadata": {},
   "outputs": [],
   "source": [
    "class FixCounter(ChangeCounter):\n",
    "    def __init__(self, repo):\n",
    "        super().__init__(repo, filter=self.is_fix)\n",
    "\n",
    "    def is_fix(self, m):\n",
    "        return m.msg.startswith(\"Fix:\") and not \"show output\" in m.msg\n",
    "    \n",
    "    def node_text(self, node):\n",
    "        if node and node in self.messages:\n",
    "            return \"<br>\".join(self.messages[node])\n",
    "        return \"\""
   ]
  },
  {
   "cell_type": "code",
   "execution_count": null,
   "metadata": {},
   "outputs": [],
   "source": [
    "fix_counter = FixCounter(REPO)"
   ]
  },
  {
   "cell_type": "code",
   "execution_count": null,
   "metadata": {},
   "outputs": [],
   "source": [
    "fix_counter.map()"
   ]
  },
  {
   "cell_type": "markdown",
   "metadata": {},
   "source": [
    "## Fine-Grained Changes"
   ]
  },
  {
   "cell_type": "markdown",
   "metadata": {},
   "source": [
    "Our aim: get tuples that are go beyond just files.\n",
    "\n",
    "* For each file, get a listing of which elements are in which lines.\n",
    "* Then, for each diff, find out which elems are affected."
   ]
  },
  {
   "cell_type": "markdown",
   "metadata": {},
   "source": [
    "### Mapping Elements to Locations"
   ]
  },
  {
   "cell_type": "code",
   "execution_count": null,
   "metadata": {},
   "outputs": [],
   "source": [
    "import re"
   ]
  },
  {
   "cell_type": "code",
   "execution_count": null,
   "metadata": {},
   "outputs": [],
   "source": [
    "import magic  # https://github.com/ahupp/python-magic"
   ]
  },
  {
   "cell_type": "code",
   "execution_count": null,
   "metadata": {},
   "outputs": [],
   "source": [
    "magic.from_buffer(open('notebooks/Slicer.ipynb').read())"
   ]
  },
  {
   "cell_type": "code",
   "execution_count": null,
   "metadata": {},
   "outputs": [],
   "source": [
    "magic.from_file('Slicer.ipynb')"
   ]
  },
  {
   "cell_type": "code",
   "execution_count": null,
   "metadata": {},
   "outputs": [],
   "source": [
    "magic.from_file('Tracking.ipynb')"
   ]
  },
  {
   "cell_type": "code",
   "execution_count": null,
   "metadata": {},
   "outputs": [],
   "source": [
    "magic.from_buffer('''\n",
    "#include <stdio.h>\n",
    "\n",
    "int main(int argc, char *argv[]) {\n",
    "    printf(\"Hello, world!\\n\")\n",
    "}\n",
    "''')"
   ]
  },
  {
   "cell_type": "code",
   "execution_count": null,
   "metadata": {},
   "outputs": [],
   "source": [
    "DELIMITERS = [\n",
    "    (\n",
    "        # Python\n",
    "        re.compile(r'^Python.*'),\n",
    "\n",
    "        # Beginning of element\n",
    "        re.compile(r'^(async\\s+)?(def|class)\\s+(?P<name>\\w+)\\W.*'),\n",
    "\n",
    "        # End of element\n",
    "        re.compile(r'^[^#\\s]')\n",
    "    ),\n",
    "    (\n",
    "        # Jupyter Notebooks\n",
    "        re.compile(r'^(JSON|exported SGML).*'),\n",
    "        re.compile(r'^\\s+\"(async\\s+)?(def|class)\\s+(?P<name>\\w+)\\W'),\n",
    "        re.compile(r'^(\\s+\"[^#\\s\\\\]|\\s+\\])')\n",
    "    ),\n",
    "    (\n",
    "        # C source code\n",
    "        re.compile(r'^C source.*'),\n",
    "        re.compile(r'^.*\\b(?P<name>\\w+)\\s+[({].*'),\n",
    "        re.compile(r'^[}]')\n",
    "    ),\n",
    "]"
   ]
  },
  {
   "cell_type": "code",
   "execution_count": null,
   "metadata": {},
   "outputs": [],
   "source": [
    "def rxdelim(s):\n",
    "    tp = magic.from_buffer(s)\n",
    "    for rxtp, rxbegin, rxend in DELIMITERS:\n",
    "        if rxtp.match(tp):\n",
    "            return rxbegin, rxend\n",
    "\n",
    "    return None, None"
   ]
  },
  {
   "cell_type": "code",
   "execution_count": null,
   "metadata": {},
   "outputs": [],
   "source": [
    "def elem_mapping(s, log=False):\n",
    "    rxbegin, rxend = rxdelim(s)\n",
    "    if rxbegin is None:\n",
    "        return []\n",
    "\n",
    "    mapping = [None]\n",
    "    current_elem = None\n",
    "    lineno = 0\n",
    "\n",
    "    for line in s.split('\\n'):\n",
    "        lineno += 1\n",
    "        \n",
    "        match = rxbegin.match(line)\n",
    "        if match:\n",
    "            current_elem = match.group('name')\n",
    "        elif rxend.match(line):\n",
    "            current_elem = None\n",
    "\n",
    "        mapping.append(current_elem)\n",
    "        \n",
    "        if log:\n",
    "            print(f\"{current_elem}\\t{line}\")\n",
    "        \n",
    "    return mapping"
   ]
  },
  {
   "cell_type": "code",
   "execution_count": null,
   "metadata": {},
   "outputs": [],
   "source": [
    "fixed_log_sizes = {node: log_sizes[node] for node in log_sizes \n",
    "                   if node in fixes and fixes[node] > 0}"
   ]
  },
  {
   "cell_type": "code",
   "execution_count": null,
   "metadata": {},
   "outputs": [],
   "source": [
    "treemap = ep.Treemap(fixed_log_sizes,\n",
    "                     text=fix_msgs,\n",
    "                     hoverinfo='label',\n",
    "                     marker_colors=node_color,\n",
    "                     marker_colorscale='YlOrRd',\n",
    "                     root_label=REPO,\n",
    "                     branchvalues=\"total\"\n",
    "                    )\n",
    "\n",
    "fig = go.Figure(treemap)\n",
    "\n",
    "fig.update_layout(\n",
    "    margin=dict(l=0, r=0, t=30, b=0),\n",
    ")"
   ]
  },
  {
   "cell_type": "markdown",
   "metadata": {},
   "source": [
    "Now, visualize treemap (notebooks/) and give it \n",
    "\n",
    "* a size, depending on the number of lines;\n",
    "* a color, depending on the total number of changes."
   ]
  },
  {
   "cell_type": "markdown",
   "metadata": {},
   "source": [
    "## Synopsis"
   ]
  },
  {
   "cell_type": "markdown",
   "metadata": {},
   "source": [
    "_For those only interested in using the code in this chapter (without wanting to know how it works), give an example.  This will be copied to the beginning of the chapter (before the first section) as text with rendered input and output._"
   ]
  },
  {
   "cell_type": "markdown",
   "metadata": {
    "button": false,
    "new_sheet": true,
    "run_control": {
     "read_only": false
    }
   },
   "source": [
    "## Lessons Learned\n",
    "\n",
    "* _Lesson one_\n",
    "* _Lesson two_\n",
    "* _Lesson three_"
   ]
  },
  {
   "cell_type": "markdown",
   "metadata": {
    "button": false,
    "new_sheet": false,
    "run_control": {
     "read_only": false
    }
   },
   "source": [
    "## Next Steps\n",
    "\n",
    "_Link to subsequent chapters (notebooks) here, as in:_\n",
    "\n",
    "* [use _mutations_ on existing inputs to get more valid inputs](MutationFuzzer.ipynb)\n",
    "* [use _grammars_ (i.e., a specification of the input format) to get even more valid inputs](Grammars.ipynb)\n",
    "* [reduce _failing inputs_ for efficient debugging](Reducer.ipynb)\n"
   ]
  },
  {
   "cell_type": "markdown",
   "metadata": {},
   "source": [
    "## Background\n",
    "\n",
    "_Cite relevant works in the literature and put them into context, as in:_\n",
    "\n",
    "The idea of ensuring that each expansion in the grammar is used at least once goes back to Burkhardt \\cite{Burkhardt1967}, to be later rediscovered by Paul Purdom \\cite{Purdom1972}."
   ]
  },
  {
   "cell_type": "markdown",
   "metadata": {
    "button": false,
    "new_sheet": true,
    "run_control": {
     "read_only": false
    }
   },
   "source": [
    "## Exercises\n",
    "\n",
    "_Close the chapter with a few exercises such that people have things to do.  To make the solutions hidden (to be revealed by the user), have them start with_\n",
    "\n",
    "```\n",
    "**Solution.**\n",
    "```\n",
    "\n",
    "_Your solution can then extend up to the next title (i.e., any markdown cell starting with `#`)._\n",
    "\n",
    "_Running `make metadata` will automatically add metadata to the cells such that the cells will be hidden by default, and can be uncovered by the user.  The button will be introduced above the solution._"
   ]
  },
  {
   "cell_type": "markdown",
   "metadata": {
    "button": false,
    "new_sheet": false,
    "run_control": {
     "read_only": false
    }
   },
   "source": [
    "### Exercise 1: _Title_\n",
    "\n",
    "_Text of the exercise_"
   ]
  },
  {
   "cell_type": "code",
   "execution_count": null,
   "metadata": {
    "cell_style": "center"
   },
   "outputs": [],
   "source": [
    "# Some code that is part of the exercise\n",
    "pass"
   ]
  },
  {
   "cell_type": "markdown",
   "metadata": {
    "solution2": "hidden",
    "solution2_first": true
   },
   "source": [
    "_Some more text for the exercise_"
   ]
  },
  {
   "cell_type": "markdown",
   "metadata": {
    "slideshow": {
     "slide_type": "skip"
    },
    "solution2": "hidden"
   },
   "source": [
    "**Solution.** _Some text for the solution_"
   ]
  },
  {
   "cell_type": "code",
   "execution_count": null,
   "metadata": {
    "cell_style": "split",
    "slideshow": {
     "slide_type": "skip"
    },
    "solution2": "hidden"
   },
   "outputs": [],
   "source": [
    "# Some code for the solution\n",
    "2 + 2"
   ]
  },
  {
   "cell_type": "markdown",
   "metadata": {
    "slideshow": {
     "slide_type": "skip"
    },
    "solution2": "hidden"
   },
   "source": [
    "_Some more text for the solution_"
   ]
  },
  {
   "cell_type": "markdown",
   "metadata": {
    "button": false,
    "new_sheet": false,
    "run_control": {
     "read_only": false
    },
    "solution": "hidden",
    "solution2": "hidden",
    "solution2_first": true,
    "solution_first": true
   },
   "source": [
    "### Exercise 2: _Title_\n",
    "\n",
    "_Text of the exercise_"
   ]
  },
  {
   "cell_type": "markdown",
   "metadata": {
    "button": false,
    "new_sheet": false,
    "run_control": {
     "read_only": false
    },
    "slideshow": {
     "slide_type": "skip"
    },
    "solution": "hidden",
    "solution2": "hidden"
   },
   "source": [
    "**Solution.** _Solution for the exercise_"
   ]
  }
 ],
 "metadata": {
  "ipub": {
   "bibliography": "fuzzingbook.bib",
   "toc": true
  },
  "kernelspec": {
   "display_name": "Python 3",
   "language": "python",
   "name": "python3"
  },
  "language_info": {
   "codemirror_mode": {
    "name": "ipython",
    "version": 3
   },
   "file_extension": ".py",
   "mimetype": "text/x-python",
   "name": "python",
   "nbconvert_exporter": "python",
   "pygments_lexer": "ipython3",
   "version": "3.6.10"
  },
  "toc": {
   "base_numbering": 1,
   "nav_menu": {},
   "number_sections": true,
   "sideBar": true,
   "skip_h1_title": true,
   "title_cell": "",
   "title_sidebar": "Contents",
   "toc_cell": false,
   "toc_position": {},
   "toc_section_display": true,
   "toc_window_display": true
  },
  "toc-autonumbering": false
 },
 "nbformat": 4,
 "nbformat_minor": 4
}
