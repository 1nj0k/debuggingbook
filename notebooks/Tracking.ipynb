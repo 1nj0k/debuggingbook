{
 "cells": [
  {
   "cell_type": "markdown",
   "metadata": {
    "button": false,
    "new_sheet": false,
    "run_control": {
     "read_only": false
    }
   },
   "source": [
    "# Tracking Bugs\n",
    "\n",
    "_Brief abstract/introduction/motivation.  State what the chapter is about in 1-2 paragraphs._\n",
    "_Then, have an introduction video:_"
   ]
  },
  {
   "cell_type": "code",
   "execution_count": null,
   "metadata": {},
   "outputs": [],
   "source": [
    "from bookutils import YouTubeVideo\n",
    "# YouTubeVideo(\"w4u5gCgPlmg\")"
   ]
  },
  {
   "cell_type": "markdown",
   "metadata": {},
   "source": [
    "**Warning**\n",
    "\n",
    "Unlike the other chapters in this book, this chapter should **not be run as a notebook**:\n",
    "\n",
    "* It will delete _all_ data from an existing local _RedMine_ installation.\n",
    "* It will create new users and databases in an existing local _MySQL_ installation.\n",
    "\n",
    "To experiment with RedMine and other issue trackers yourself, pick one of the test installations:\n",
    "\n",
    "* \\todo{add}"
   ]
  },
  {
   "cell_type": "markdown",
   "metadata": {
    "button": false,
    "new_sheet": false,
    "run_control": {
     "read_only": false
    }
   },
   "source": [
    "**Prerequisites**\n",
    "\n",
    "* _Refer to earlier chapters as notebooks here, as here:_ [Earlier Chapter](Fuzzer.ipynb)."
   ]
  },
  {
   "cell_type": "code",
   "execution_count": null,
   "metadata": {
    "button": false,
    "new_sheet": false,
    "run_control": {
     "read_only": false
    },
    "slideshow": {
     "slide_type": "skip"
    }
   },
   "outputs": [],
   "source": [
    "import bookutils"
   ]
  },
  {
   "cell_type": "code",
   "execution_count": null,
   "metadata": {},
   "outputs": [],
   "source": [
    "import Intro_Debugging"
   ]
  },
  {
   "cell_type": "markdown",
   "metadata": {},
   "source": [
    "## A Change Tracker\n",
    "\n",
    "We have a look at the _Redmine_ change tracking system."
   ]
  },
  {
   "cell_type": "markdown",
   "metadata": {},
   "source": [
    "### Excursion: Setting up Redmine"
   ]
  },
  {
   "cell_type": "markdown",
   "metadata": {},
   "source": [
    "To install Redmine, we followed the instructions at https://gist.github.com/johnjohndoe/2763243.\n",
    "These final steps initialize the database:"
   ]
  },
  {
   "cell_type": "code",
   "execution_count": null,
   "metadata": {},
   "outputs": [],
   "source": [
    "import subprocess"
   ]
  },
  {
   "cell_type": "code",
   "execution_count": null,
   "metadata": {},
   "outputs": [],
   "source": [
    "import os\n",
    "import sys"
   ]
  },
  {
   "cell_type": "code",
   "execution_count": null,
   "metadata": {},
   "outputs": [],
   "source": [
    "def with_ruby(cmd, inp='', show_stdout=False):\n",
    "    shell = subprocess.Popen(['/bin/sh', '-c', f'''rvm_redmine=$HOME/.rvm/gems/ruby-2.7.2@redmine; \\\n",
    "rvm_global=$HOME/.rvm/gems/ruby-2.7.2@global; \\\n",
    "export GEM_PATH=$rvm_redmine:$rvm_global; \\\n",
    "export PATH=$rvm_redmine/bin:$rvm_global/bin:$HOME/.rvm/rubies/ruby-2.7.2/bin:$HOME/.rvm/bin:$PATH; \\\n",
    "cd $HOME/lib/redmine && {cmd}'''],\n",
    "                             stdin=subprocess.PIPE,\n",
    "                             stdout=subprocess.PIPE,\n",
    "                             stderr=subprocess.PIPE,\n",
    "                             universal_newlines=True)\n",
    "    stdout_data, stderr_data = shell.communicate(inp)\n",
    "    print(stderr_data, file=sys.stderr, end=\"\")\n",
    "    if show_stdout:\n",
    "        print(stdout_data, end=\"\")"
   ]
  },
  {
   "cell_type": "code",
   "execution_count": null,
   "metadata": {},
   "outputs": [],
   "source": [
    "def with_mysql(cmd, show_stdout=False):\n",
    "    sql = subprocess.Popen([\"mysql\", \"-u\", \"root\",\n",
    "                           \"--default-character-set=utf8mb4\"],\n",
    "                            stdin=subprocess.PIPE,\n",
    "                            stdout=subprocess.PIPE,\n",
    "                            stderr=subprocess.PIPE, \n",
    "                            universal_newlines=True)\n",
    "    stdout_data, stderr_data = sql.communicate(cmd + ';')\n",
    "    print(stderr_data, file=sys.stderr, end=\"\")\n",
    "    if show_stdout:\n",
    "        print(stdout_data, end=\"\")"
   ]
  },
  {
   "cell_type": "code",
   "execution_count": null,
   "metadata": {},
   "outputs": [],
   "source": [
    "with_ruby(\"bundle install --without development test\")"
   ]
  },
  {
   "cell_type": "code",
   "execution_count": null,
   "metadata": {},
   "outputs": [],
   "source": [
    "with_ruby(\"mysql.server start\")"
   ]
  },
  {
   "cell_type": "code",
   "execution_count": null,
   "metadata": {},
   "outputs": [],
   "source": [
    "with_mysql(\"drop database redmine\")"
   ]
  },
  {
   "cell_type": "code",
   "execution_count": null,
   "metadata": {},
   "outputs": [],
   "source": [
    "with_mysql(\"drop user 'redmine'@'localhost'\")"
   ]
  },
  {
   "cell_type": "code",
   "execution_count": null,
   "metadata": {},
   "outputs": [],
   "source": [
    "with_mysql(\"create database redmine character set utf8\")"
   ]
  },
  {
   "cell_type": "code",
   "execution_count": null,
   "metadata": {},
   "outputs": [],
   "source": [
    "with_mysql(\"create user 'redmine'@'localhost' identified by 'my_password'\")"
   ]
  },
  {
   "cell_type": "code",
   "execution_count": null,
   "metadata": {},
   "outputs": [],
   "source": [
    "with_mysql(\"grant all privileges on redmine.* to 'redmine'@'localhost'\")"
   ]
  },
  {
   "cell_type": "code",
   "execution_count": null,
   "metadata": {},
   "outputs": [],
   "source": [
    "with_ruby(\"bundle exec rake generate_secret_token\")"
   ]
  },
  {
   "cell_type": "code",
   "execution_count": null,
   "metadata": {},
   "outputs": [],
   "source": [
    "with_ruby(\"RAILS_ENV=production bundle exec rake db:migrate\")"
   ]
  },
  {
   "cell_type": "code",
   "execution_count": null,
   "metadata": {},
   "outputs": [],
   "source": [
    "with_ruby(\"RAILS_ENV=production bundle exec rake redmine:load_default_data\", '\\n')"
   ]
  },
  {
   "cell_type": "markdown",
   "metadata": {},
   "source": [
    "### End of Excursion"
   ]
  },
  {
   "cell_type": "markdown",
   "metadata": {},
   "source": [
    "### Excursion: Starting Redmine"
   ]
  },
  {
   "cell_type": "code",
   "execution_count": null,
   "metadata": {},
   "outputs": [],
   "source": [
    "import os\n",
    "import time"
   ]
  },
  {
   "cell_type": "code",
   "execution_count": null,
   "metadata": {},
   "outputs": [],
   "source": [
    "from multiprocessing import Process"
   ]
  },
  {
   "cell_type": "code",
   "execution_count": null,
   "metadata": {},
   "outputs": [],
   "source": [
    "def run_redmine(port):\n",
    "    with_ruby(f'exec rails s -e production -p {port} > redmine.log 2>&1')"
   ]
  },
  {
   "cell_type": "code",
   "execution_count": null,
   "metadata": {},
   "outputs": [],
   "source": [
    "def start_redmine(port=3000):\n",
    "    process = Process(target=run_redmine, args=(port,))\n",
    "    process.start()\n",
    "    time.sleep(5)\n",
    "\n",
    "    url = f\"http://localhost:{port}\"\n",
    "    return process, url"
   ]
  },
  {
   "cell_type": "code",
   "execution_count": null,
   "metadata": {},
   "outputs": [],
   "source": [
    "redmine_process, redmine_url = start_redmine()"
   ]
  },
  {
   "cell_type": "markdown",
   "metadata": {},
   "source": [
    "### End of Excursion"
   ]
  },
  {
   "cell_type": "markdown",
   "metadata": {},
   "source": [
    "### Excursion: Remote Control with Selenium"
   ]
  },
  {
   "cell_type": "markdown",
   "metadata": {},
   "source": [
    "We assume is that there is a set of *user interface elements* we can interact with.\n",
    "\n",
    "[Selenium](https://www.seleniumhq.org) is a framework for testing Web applications by _automating interaction in the browser_.  Selenium provides an API that allows one to launch a Web browser, query the state of the user interface, and interact with individual user interface elements.  The Selenium API is available in a number of languages; we use the [Selenium API for Python](https://selenium-python.readthedocs.io/index.html)."
   ]
  },
  {
   "cell_type": "markdown",
   "metadata": {},
   "source": [
    "A Selenium *web driver* is the interface between a program and a browser controlled by the program."
   ]
  },
  {
   "cell_type": "code",
   "execution_count": null,
   "metadata": {},
   "outputs": [],
   "source": [
    "from selenium import webdriver"
   ]
  },
  {
   "cell_type": "code",
   "execution_count": null,
   "metadata": {},
   "outputs": [],
   "source": [
    "from selenium.webdriver.common.keys import Keys"
   ]
  },
  {
   "cell_type": "markdown",
   "metadata": {},
   "source": [
    "The following code starts a Firefox browser in the background, which we then control through the web driver."
   ]
  },
  {
   "cell_type": "code",
   "execution_count": null,
   "metadata": {},
   "outputs": [],
   "source": [
    "BROWSER = 'firefox'"
   ]
  },
  {
   "cell_type": "markdown",
   "metadata": {},
   "source": [
    "**Note:** If you don't have Firefox installed, you can also set `BROWSER` to `'chrome'` to use Google Chrome instead."
   ]
  },
  {
   "cell_type": "code",
   "execution_count": null,
   "metadata": {},
   "outputs": [],
   "source": [
    "# BROWSER = 'chrome'"
   ]
  },
  {
   "cell_type": "markdown",
   "metadata": {},
   "source": [
    "When running this outside of Jupyter notebooks, the browser is _headless_, meaning that it does not show on the screen."
   ]
  },
  {
   "cell_type": "code",
   "execution_count": null,
   "metadata": {},
   "outputs": [],
   "source": [
    "from bookutils import rich_output"
   ]
  },
  {
   "cell_type": "code",
   "execution_count": null,
   "metadata": {},
   "outputs": [],
   "source": [
    "HEADLESS = not rich_output()"
   ]
  },
  {
   "cell_type": "code",
   "execution_count": null,
   "metadata": {},
   "outputs": [],
   "source": [
    "def start_webdriver(browser=BROWSER, headless=HEADLESS, zoom=1.4):\n",
    "    if browser == 'firefox':\n",
    "        options = webdriver.FirefoxOptions()\n",
    "    if browser == 'chrome':\n",
    "        options = webdriver.ChromeOptions()\n",
    "\n",
    "    if headless and browser == 'chrome':\n",
    "        options.add_argument('headless')\n",
    "    else:\n",
    "        options.headless = headless\n",
    "\n",
    "    # Start the browser, and obtain a _web driver_ object such that we can interact with it.\n",
    "    if browser == 'firefox':\n",
    "        # For firefox, set a higher resolution for our screenshots\n",
    "        profile = webdriver.firefox.firefox_profile.FirefoxProfile()\n",
    "        profile.set_preference(\"layout.css.devPixelsPerPx\", repr(zoom))\n",
    "        gui_driver = webdriver.Firefox(firefox_profile=profile, options=options)\n",
    "\n",
    "        # We set the window size such that it fits\n",
    "        gui_driver.set_window_size(500, 600)  # was 1024, 600\n",
    "\n",
    "    elif browser == 'chrome':\n",
    "        gui_driver = webdriver.Chrome(options=options)\n",
    "        gui_driver.set_window_size(1024, 510 if headless else 640)\n",
    "\n",
    "    return gui_driver"
   ]
  },
  {
   "cell_type": "code",
   "execution_count": null,
   "metadata": {},
   "outputs": [],
   "source": [
    "gui_driver = start_webdriver(browser=BROWSER, headless=HEADLESS)"
   ]
  },
  {
   "cell_type": "markdown",
   "metadata": {},
   "source": [
    "We can now interact with the browser programmatically.  First, we have it navigate to the URL of our Web server:"
   ]
  },
  {
   "cell_type": "code",
   "execution_count": null,
   "metadata": {},
   "outputs": [],
   "source": [
    "gui_driver.get(redmine_url)"
   ]
  },
  {
   "cell_type": "markdown",
   "metadata": {},
   "source": [
    "To see what the \"headless\" browser displays, we can obtain a screenshot.  We see that it actually displays the home page."
   ]
  },
  {
   "cell_type": "code",
   "execution_count": null,
   "metadata": {},
   "outputs": [],
   "source": [
    "from IPython.display import display, Image"
   ]
  },
  {
   "cell_type": "code",
   "execution_count": null,
   "metadata": {},
   "outputs": [],
   "source": [
    "Image(gui_driver.get_screenshot_as_png())"
   ]
  },
  {
   "cell_type": "markdown",
   "metadata": {},
   "source": [
    "### End of Excursion"
   ]
  },
  {
   "cell_type": "markdown",
   "metadata": {},
   "source": [
    "### Excursion: Screenshots with Drop Shadows"
   ]
  },
  {
   "cell_type": "markdown",
   "metadata": {},
   "source": [
    "By default, our screenshots are flat. We add a drop shadow to make them look nicer.\n",
    "With help from https://graphicdesign.stackexchange.com/questions/117272/how-to-add-drop-shadow-to-a-picture-via-cli"
   ]
  },
  {
   "cell_type": "code",
   "execution_count": null,
   "metadata": {},
   "outputs": [],
   "source": [
    "import tempfile"
   ]
  },
  {
   "cell_type": "code",
   "execution_count": null,
   "metadata": {},
   "outputs": [],
   "source": [
    "def drop_shadow(contents):\n",
    "    with tempfile.NamedTemporaryFile() as tmp:\n",
    "        tmp.write(contents)\n",
    "        convert = subprocess.Popen(\n",
    "            ['convert', tmp.name,\n",
    "            '(', '+clone', '-background', 'black', '-shadow', '50x10+15+15', ')',\n",
    "            '+swap', '-background', 'none', '-layers', 'merge', '+repage', '-'],\n",
    "            stdout=subprocess.PIPE, stderr=subprocess.PIPE)\n",
    "        stdout_data, stderr_data = convert.communicate()\n",
    "    \n",
    "    if stderr_data:\n",
    "        print(stderr_data.decode(\"utf-8\"), file=sys.stderr, end=\"\")\n",
    "        \n",
    "    return stdout_data"
   ]
  },
  {
   "cell_type": "code",
   "execution_count": null,
   "metadata": {},
   "outputs": [],
   "source": [
    "def screenshot(driver):\n",
    "    return Image(drop_shadow(gui_driver.get_screenshot_as_png()))"
   ]
  },
  {
   "cell_type": "code",
   "execution_count": null,
   "metadata": {},
   "outputs": [],
   "source": [
    "screenshot(gui_driver)"
   ]
  },
  {
   "cell_type": "markdown",
   "metadata": {},
   "source": [
    "### End of Excursion"
   ]
  },
  {
   "cell_type": "markdown",
   "metadata": {},
   "source": [
    "### Excursion: First Registration at Redmine"
   ]
  },
  {
   "cell_type": "code",
   "execution_count": null,
   "metadata": {},
   "outputs": [],
   "source": [
    "gui_driver.get(redmine_url + '/login')"
   ]
  },
  {
   "cell_type": "code",
   "execution_count": null,
   "metadata": {},
   "outputs": [],
   "source": [
    "screenshot(gui_driver)"
   ]
  },
  {
   "cell_type": "code",
   "execution_count": null,
   "metadata": {},
   "outputs": [],
   "source": [
    "gui_driver.find_element_by_id(\"username\").send_keys(\"admin\")\n",
    "gui_driver.find_element_by_id(\"password\").send_keys(\"admin\")\n",
    "gui_driver.find_element_by_name(\"login\").click()"
   ]
  },
  {
   "cell_type": "code",
   "execution_count": null,
   "metadata": {},
   "outputs": [],
   "source": [
    "time.sleep(2)"
   ]
  },
  {
   "cell_type": "code",
   "execution_count": null,
   "metadata": {},
   "outputs": [],
   "source": [
    "if gui_driver.current_url.endswith('my/password'):\n",
    "    gui_driver.get(redmine_url + '/my/password')\n",
    "    gui_driver.find_element_by_id(\"password\").send_keys(\"admin\")\n",
    "    gui_driver.find_element_by_id(\"new_password\").send_keys(\"admin001\")\n",
    "    gui_driver.find_element_by_id(\"new_password_confirmation\").send_keys(\"admin001\")\n",
    "    display(screenshot(gui_driver))\n",
    "    gui_driver.find_element_by_name(\"commit\").click()"
   ]
  },
  {
   "cell_type": "code",
   "execution_count": null,
   "metadata": {},
   "outputs": [],
   "source": [
    "gui_driver.get(redmine_url + '/logout')\n",
    "gui_driver.find_element_by_name(\"commit\").click()"
   ]
  },
  {
   "cell_type": "markdown",
   "metadata": {},
   "source": [
    "### End of Excursion"
   ]
  },
  {
   "cell_type": "markdown",
   "metadata": {},
   "source": [
    "This is what the _Redmine_ tracker starts with:"
   ]
  },
  {
   "cell_type": "code",
   "execution_count": null,
   "metadata": {},
   "outputs": [],
   "source": [
    "# ignore\n",
    "gui_driver.get(redmine_url + '/login')\n",
    "screenshot(gui_driver)"
   ]
  },
  {
   "cell_type": "markdown",
   "metadata": {},
   "source": [
    "After we login, we see our account:"
   ]
  },
  {
   "cell_type": "code",
   "execution_count": null,
   "metadata": {},
   "outputs": [],
   "source": [
    "# ignore\n",
    "gui_driver.find_element_by_id(\"username\").send_keys(\"admin\")\n",
    "gui_driver.find_element_by_id(\"password\").send_keys(\"admin001\")\n",
    "gui_driver.find_element_by_name(\"login\").click()\n",
    "screenshot(gui_driver)"
   ]
  },
  {
   "cell_type": "markdown",
   "metadata": {},
   "source": [
    "### Excursion: Creating a Project"
   ]
  },
  {
   "cell_type": "markdown",
   "metadata": {},
   "source": [
    "Let us check out the projects by clicking on \"Projects\"."
   ]
  },
  {
   "cell_type": "code",
   "execution_count": null,
   "metadata": {},
   "outputs": [],
   "source": [
    "# ignore\n",
    "gui_driver.get(redmine_url + '/projects')\n",
    "screenshot(gui_driver)"
   ]
  },
  {
   "cell_type": "markdown",
   "metadata": {},
   "source": [
    "Let us create a new project by clicking on \"Projects\"."
   ]
  },
  {
   "cell_type": "code",
   "execution_count": null,
   "metadata": {},
   "outputs": [],
   "source": [
    "# ignore\n",
    "gui_driver.get(redmine_url + '/projects/new')\n",
    "screenshot(gui_driver)"
   ]
  },
  {
   "cell_type": "code",
   "execution_count": null,
   "metadata": {},
   "outputs": [],
   "source": [
    "# ignore\n",
    "gui_driver.get(redmine_url + '/projects/new')\n",
    "gui_driver.find_element_by_id('project_name').send_keys(\"The Debugging Book\")\n",
    "gui_driver.find_element_by_id('project_description').send_keys(\"A Book on Automated Debugging\")\n",
    "gui_driver.find_element_by_id('project_identifier').clear()\n",
    "gui_driver.find_element_by_id('project_identifier').send_keys(\"debuggingbook\")\n",
    "gui_driver.find_element_by_id('project_homepage').send_keys(\"https://www.debuggingbook.org/\")\n",
    "screenshot(gui_driver)"
   ]
  },
  {
   "cell_type": "code",
   "execution_count": null,
   "metadata": {},
   "outputs": [],
   "source": [
    "# ignore\n",
    "gui_driver.find_element_by_name('commit').click()"
   ]
  },
  {
   "cell_type": "markdown",
   "metadata": {},
   "source": [
    "### End of Excursion"
   ]
  },
  {
   "cell_type": "markdown",
   "metadata": {},
   "source": [
    "We start with a list of projects."
   ]
  },
  {
   "cell_type": "code",
   "execution_count": null,
   "metadata": {},
   "outputs": [],
   "source": [
    "# ignore\n",
    "gui_driver.get(redmine_url + '/projects')\n",
    "screenshot(gui_driver)"
   ]
  },
  {
   "cell_type": "markdown",
   "metadata": {},
   "source": [
    "Let us choose the (one) \"debuggingbook\" project."
   ]
  },
  {
   "cell_type": "code",
   "execution_count": null,
   "metadata": {},
   "outputs": [],
   "source": [
    "# ignore\n",
    "gui_driver.get(redmine_url + '/projects/debuggingbook')\n",
    "screenshot(gui_driver)"
   ]
  },
  {
   "cell_type": "markdown",
   "metadata": {},
   "source": [
    "## Reporting a Bug"
   ]
  },
  {
   "cell_type": "markdown",
   "metadata": {},
   "source": [
    "Let us file a new issue:"
   ]
  },
  {
   "cell_type": "code",
   "execution_count": null,
   "metadata": {},
   "outputs": [],
   "source": [
    "# ignore\n",
    "gui_driver.get(redmine_url + '/issues/new')\n",
    "screenshot(gui_driver)"
   ]
  },
  {
   "cell_type": "markdown",
   "metadata": {},
   "source": [
    "Let's give our bug a name:"
   ]
  },
  {
   "cell_type": "code",
   "execution_count": null,
   "metadata": {},
   "outputs": [],
   "source": [
    "issue_title = \"Does not render correctly on Nokia Communicator\""
   ]
  },
  {
   "cell_type": "code",
   "execution_count": null,
   "metadata": {},
   "outputs": [],
   "source": [
    "issue_description = \\\n",
    "\"\"\"The Debugging Book does not render correctly on the Nokia Communicator 9000.\n",
    "\n",
    "Steps to reproduce:\n",
    "1. On the Nokia, go to \"https://debuggingbook.org/\"\n",
    "2. From the menu on top, select the chapter \"Tracking Origins\".\n",
    "3. Scroll down to a place where a graph is supposed to be shown.\n",
    "4. Instead of the graph, only a blank space is displayed.\n",
    "\n",
    "How to fix:\n",
    "* The graphs seem to come as SVG elements, but the Nokia Communicator\n",
    "does not support SVG rendering. Render them as JPEGs instead.\n",
    "\"\"\""
   ]
  },
  {
   "cell_type": "code",
   "execution_count": null,
   "metadata": {},
   "outputs": [],
   "source": [
    "# ignore\n",
    "gui_driver.get(redmine_url + '/issues/new')\n",
    "\n",
    "gui_driver.find_element_by_id('issue_subject').send_keys(issue_title)\n",
    "gui_driver.find_element_by_id('issue_description').send_keys(issue_description)\n",
    "screenshot(gui_driver)"
   ]
  },
  {
   "cell_type": "code",
   "execution_count": null,
   "metadata": {},
   "outputs": [],
   "source": [
    "# ignore\n",
    "gui_driver.find_element_by_id('issue_assigned_to_id').click()\n",
    "screenshot(gui_driver)"
   ]
  },
  {
   "cell_type": "code",
   "execution_count": null,
   "metadata": {},
   "outputs": [],
   "source": [
    "# ignore\n",
    "gui_driver.execute_script(\"window.scrollTo(0, document.body.scrollHeight);\")\n",
    "screenshot(gui_driver)"
   ]
  },
  {
   "cell_type": "code",
   "execution_count": null,
   "metadata": {},
   "outputs": [],
   "source": [
    "# ignore\n",
    "gui_driver.find_element_by_name('commit').click()\n",
    "screenshot(gui_driver)"
   ]
  },
  {
   "cell_type": "markdown",
   "metadata": {},
   "source": [
    "## The Life Cycle of a Bug"
   ]
  },
  {
   "cell_type": "markdown",
   "metadata": {},
   "source": [
    "We have successfully filed a bug. Now, this bug will enter the life cycle."
   ]
  },
  {
   "cell_type": "markdown",
   "metadata": {},
   "source": [
    "See also https://www.softwaretestinghelp.com/bug-life-cycle/"
   ]
  },
  {
   "cell_type": "code",
   "execution_count": null,
   "metadata": {
    "ipub": {
     "ignore": true
    }
   },
   "outputs": [],
   "source": [
    "from Intro_Debugging import graph"
   ]
  },
  {
   "cell_type": "code",
   "execution_count": null,
   "metadata": {
    "ipub": {
     "ignore": true
    }
   },
   "outputs": [],
   "source": [
    "from IPython.display import display"
   ]
  },
  {
   "cell_type": "code",
   "execution_count": null,
   "metadata": {},
   "outputs": [],
   "source": [
    "# ignore\n",
    "life_cycle = graph()\n",
    "# life_cycle.node('Unconfirmed')\n",
    "life_cycle.node('New')\n",
    "life_cycle.node('Assigned')\n",
    "life_cycle.node('Resolved')\n",
    "# life_cycle.node('Reopen')\n",
    "# life_cycle.node('Verified')\n",
    "life_cycle.node('Closed')\n",
    "\n",
    "life_cycle.edge('New', 'Assigned')\n",
    "life_cycle.edge('Assigned', 'Resolved')\n",
    "life_cycle.edge('Resolved', 'Closed')\n",
    "\n",
    "life_cycle"
   ]
  },
  {
   "cell_type": "code",
   "execution_count": null,
   "metadata": {},
   "outputs": [],
   "source": [
    "# ignore\n",
    "life_cycle.node('Unconfirmed')\n",
    "life_cycle.node('Reopen')\n",
    "life_cycle.node('Verified')\n",
    "\n",
    "life_cycle.edge('Unconfirmed', 'New')\n",
    "life_cycle.edge('Assigned', 'New')\n",
    "life_cycle.edge('Resolved', 'Verified')\n",
    "life_cycle.edge('Resolved', 'Reopen')\n",
    "life_cycle.edge('Resolved', 'Unconfirmed')\n",
    "life_cycle.edge('Closed', 'Unconfirmed')\n",
    "life_cycle.edge('Verified', 'Reopen')\n",
    "life_cycle.edge('Reopen', 'Assigned')\n",
    "\n",
    "life_cycle"
   ]
  },
  {
   "cell_type": "markdown",
   "metadata": {},
   "source": [
    "### Assigning Bug Reports"
   ]
  },
  {
   "cell_type": "markdown",
   "metadata": {},
   "source": [
    "## Prioritizing Bug Reports"
   ]
  },
  {
   "cell_type": "markdown",
   "metadata": {},
   "source": [
    "## Cleanup"
   ]
  },
  {
   "cell_type": "code",
   "execution_count": null,
   "metadata": {},
   "outputs": [],
   "source": [
    "import os"
   ]
  },
  {
   "cell_type": "code",
   "execution_count": null,
   "metadata": {},
   "outputs": [],
   "source": [
    "redmine_process.terminate()"
   ]
  },
  {
   "cell_type": "code",
   "execution_count": null,
   "metadata": {},
   "outputs": [],
   "source": [
    "gui_driver.close()"
   ]
  },
  {
   "cell_type": "code",
   "execution_count": null,
   "metadata": {},
   "outputs": [],
   "source": [
    "os.system(\"pkill ruby\")"
   ]
  },
  {
   "cell_type": "markdown",
   "metadata": {},
   "source": [
    "## Synopsis\n",
    "\n",
    "<!-- Automatically generated. Do not edit. -->\n",
    "\n",
    "\n",
    "\n",
    "_For those only interested in using the code in this chapter (without wanting to know how it works), give an example.  This will be copied to the beginning of the chapter (before the first section) as text with rendered input and output._\n",
    "\n",
    "You can use `int_fuzzer()` as:\n",
    "\n",
    "```python\n",
    "print(int_fuzzer())\n",
    "```\n",
    "```python\n",
    "=> 76.5\n",
    "\n",
    "```\n"
   ]
  },
  {
   "cell_type": "markdown",
   "metadata": {},
   "source": [
    "## Synopsis"
   ]
  },
  {
   "cell_type": "markdown",
   "metadata": {},
   "source": [
    "_For those only interested in using the code in this chapter (without wanting to know how it works), give an example.  This will be copied to the beginning of the chapter (before the first section) as text with rendered input and output._"
   ]
  },
  {
   "cell_type": "markdown",
   "metadata": {},
   "source": [
    "You can use `int_fuzzer()` as:"
   ]
  },
  {
   "cell_type": "markdown",
   "metadata": {
    "button": false,
    "new_sheet": true,
    "run_control": {
     "read_only": false
    }
   },
   "source": [
    "## Lessons Learned\n",
    "\n",
    "* _Lesson one_\n",
    "* _Lesson two_\n",
    "* _Lesson three_"
   ]
  },
  {
   "cell_type": "markdown",
   "metadata": {
    "button": false,
    "new_sheet": false,
    "run_control": {
     "read_only": false
    }
   },
   "source": [
    "## Next Steps\n",
    "\n",
    "_Link to subsequent chapters (notebooks) here, as in:_\n",
    "\n",
    "* [use _mutations_ on existing inputs to get more valid inputs](MutationFuzzer.ipynb)\n",
    "* [use _grammars_ (i.e., a specification of the input format) to get even more valid inputs](Grammars.ipynb)\n",
    "* [reduce _failing inputs_ for efficient debugging](Reducer.ipynb)\n"
   ]
  },
  {
   "cell_type": "markdown",
   "metadata": {},
   "source": [
    "## Background\n",
    "\n",
    "_Cite relevant works in the literature and put them into context, as in:_\n",
    "\n",
    "The idea of ensuring that each expansion in the grammar is used at least once goes back to Burkhardt \\cite{Burkhardt1967}, to be later rediscovered by Paul Purdom \\cite{Purdom1972}."
   ]
  },
  {
   "cell_type": "markdown",
   "metadata": {
    "button": false,
    "new_sheet": true,
    "run_control": {
     "read_only": false
    }
   },
   "source": [
    "## Exercises\n",
    "\n",
    "_Close the chapter with a few exercises such that people have things to do.  To make the solutions hidden (to be revealed by the user), have them start with_\n",
    "\n",
    "```\n",
    "**Solution.**\n",
    "```\n",
    "\n",
    "_Your solution can then extend up to the next title (i.e., any markdown cell starting with `#`)._\n",
    "\n",
    "_Running `make metadata` will automatically add metadata to the cells such that the cells will be hidden by default, and can be uncovered by the user.  The button will be introduced above the solution._"
   ]
  },
  {
   "cell_type": "markdown",
   "metadata": {
    "button": false,
    "new_sheet": false,
    "run_control": {
     "read_only": false
    }
   },
   "source": [
    "### Exercise 1: _Title_\n",
    "\n",
    "_Text of the exercise_"
   ]
  },
  {
   "cell_type": "code",
   "execution_count": null,
   "metadata": {
    "cell_style": "center"
   },
   "outputs": [],
   "source": [
    "# Some code that is part of the exercise\n",
    "pass"
   ]
  },
  {
   "cell_type": "markdown",
   "metadata": {
    "solution2": "hidden",
    "solution2_first": true
   },
   "source": [
    "_Some more text for the exercise_"
   ]
  },
  {
   "cell_type": "markdown",
   "metadata": {
    "slideshow": {
     "slide_type": "skip"
    },
    "solution2": "hidden"
   },
   "source": [
    "**Solution.** _Some text for the solution_"
   ]
  },
  {
   "cell_type": "code",
   "execution_count": null,
   "metadata": {
    "cell_style": "split",
    "slideshow": {
     "slide_type": "skip"
    },
    "solution2": "hidden"
   },
   "outputs": [],
   "source": [
    "# Some code for the solution\n",
    "2 + 2"
   ]
  },
  {
   "cell_type": "markdown",
   "metadata": {
    "slideshow": {
     "slide_type": "skip"
    },
    "solution2": "hidden"
   },
   "source": [
    "_Some more text for the solution_"
   ]
  },
  {
   "cell_type": "markdown",
   "metadata": {
    "button": false,
    "new_sheet": false,
    "run_control": {
     "read_only": false
    },
    "solution": "hidden",
    "solution2": "hidden",
    "solution2_first": true,
    "solution_first": true
   },
   "source": [
    "### Exercise 2: _Title_\n",
    "\n",
    "_Text of the exercise_"
   ]
  },
  {
   "cell_type": "markdown",
   "metadata": {
    "button": false,
    "new_sheet": false,
    "run_control": {
     "read_only": false
    },
    "slideshow": {
     "slide_type": "skip"
    },
    "solution": "hidden",
    "solution2": "hidden"
   },
   "source": [
    "**Solution.** _Solution for the exercise_"
   ]
  }
 ],
 "metadata": {
  "ipub": {
   "bibliography": "fuzzingbook.bib",
   "toc": true
  },
  "kernelspec": {
   "display_name": "Python 3",
   "language": "python",
   "name": "python3"
  },
  "language_info": {
   "codemirror_mode": {
    "name": "ipython",
    "version": 3
   },
   "file_extension": ".py",
   "mimetype": "text/x-python",
   "name": "python",
   "nbconvert_exporter": "python",
   "pygments_lexer": "ipython3",
   "version": "3.6.10"
  },
  "toc": {
   "base_numbering": 1,
   "nav_menu": {},
   "number_sections": true,
   "sideBar": true,
   "skip_h1_title": true,
   "title_cell": "",
   "title_sidebar": "Contents",
   "toc_cell": false,
   "toc_position": {},
   "toc_section_display": true,
   "toc_window_display": true
  },
  "toc-autonumbering": false
 },
 "nbformat": 4,
 "nbformat_minor": 4
}
