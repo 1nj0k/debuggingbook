{
 "cells": [
  {
   "cell_type": "markdown",
   "metadata": {
    "button": false,
    "new_sheet": false,
    "run_control": {
     "read_only": false
    }
   },
   "source": [
    "# Tracking Origins\n",
    "\n",
    "_Brief abstract/introduction/motivation.  State what the chapter is about in 1-2 paragraphs._\n",
    "_Then, have an introduction video:_"
   ]
  },
  {
   "cell_type": "code",
   "execution_count": null,
   "metadata": {},
   "outputs": [],
   "source": [
    "from bookutils import YouTubeVideo\n",
    "YouTubeVideo(\"w4u5gCgPlmg\")"
   ]
  },
  {
   "cell_type": "markdown",
   "metadata": {
    "button": false,
    "new_sheet": false,
    "run_control": {
     "read_only": false
    }
   },
   "source": [
    "**Prerequisites**\n",
    "\n",
    "* _Refer to earlier chapters as notebooks here, as here:_ [Earlier Chapter](Fuzzer.ipynb)."
   ]
  },
  {
   "cell_type": "code",
   "execution_count": null,
   "metadata": {
    "button": false,
    "new_sheet": false,
    "run_control": {
     "read_only": false
    },
    "slideshow": {
     "slide_type": "skip"
    }
   },
   "outputs": [],
   "source": [
    "import bookutils"
   ]
  },
  {
   "cell_type": "markdown",
   "metadata": {},
   "source": [
    "## Synopsis\n",
    "\n",
    "<!-- Automatically generated. Do not edit. -->\n",
    "\n",
    "\n",
    "\n",
    "_For those only interested in using the code in this chapter (without wanting to know how it works), give an example.  This will be copied to the beginning of the chapter (before the first section) as text with rendered input and output._\n",
    "\n",
    "You can use `int_fuzzer()` as:\n",
    "\n",
    "```python\n",
    "print(int_fuzzer())\n",
    "```\n",
    "```python\n",
    "=> 76.5\n",
    "\n",
    "```\n"
   ]
  },
  {
   "cell_type": "markdown",
   "metadata": {
    "button": false,
    "new_sheet": true,
    "run_control": {
     "read_only": false
    }
   },
   "source": [
    "## Approach 1: Wrap Data"
   ]
  },
  {
   "cell_type": "code",
   "execution_count": null,
   "metadata": {},
   "outputs": [],
   "source": [
    "def middle(x, y, z):\n",
    "    if y < z:\n",
    "        if x < y:\n",
    "            return y\n",
    "        elif x < z:\n",
    "            return y\n",
    "    else:\n",
    "        if x > y:\n",
    "            return y\n",
    "        elif x > z:\n",
    "            return x\n",
    "    return z"
   ]
  },
  {
   "cell_type": "code",
   "execution_count": null,
   "metadata": {},
   "outputs": [],
   "source": [
    "m = middle(2, 1, 3)\n",
    "m"
   ]
  },
  {
   "cell_type": "code",
   "execution_count": null,
   "metadata": {},
   "outputs": [],
   "source": [
    "import inspect"
   ]
  },
  {
   "cell_type": "markdown",
   "metadata": {
    "button": false,
    "new_sheet": true,
    "run_control": {
     "read_only": false
    }
   },
   "source": [
    "## Instrumenting Assignments"
   ]
  },
  {
   "cell_type": "code",
   "execution_count": null,
   "metadata": {},
   "outputs": [],
   "source": [
    "import ast\n",
    "import astor"
   ]
  },
  {
   "cell_type": "code",
   "execution_count": null,
   "metadata": {},
   "outputs": [],
   "source": [
    "from bookutils import rich_output"
   ]
  },
  {
   "cell_type": "code",
   "execution_count": null,
   "metadata": {},
   "outputs": [],
   "source": [
    "if rich_output():\n",
    "    from showast import show_ast\n",
    "else:\n",
    "    def show_ast(tree):\n",
    "        ast.dump(tree)"
   ]
  },
  {
   "cell_type": "code",
   "execution_count": null,
   "metadata": {},
   "outputs": [],
   "source": [
    "import math"
   ]
  },
  {
   "cell_type": "code",
   "execution_count": null,
   "metadata": {},
   "outputs": [],
   "source": [
    "def square_root(x):\n",
    "    assert x >= 0  # precondition\n",
    "\n",
    "    approx = None\n",
    "    guess = x / 2\n",
    "    while approx != guess:\n",
    "        approx = guess\n",
    "        guess = (approx + x / approx) / 2\n",
    "\n",
    "    assert math.isclose(approx * approx, x)\n",
    "    return approx"
   ]
  },
  {
   "cell_type": "code",
   "execution_count": null,
   "metadata": {},
   "outputs": [],
   "source": [
    "square_root_tree = ast.parse(inspect.getsource(square_root))\n",
    "show_ast(square_root_tree)"
   ]
  },
  {
   "cell_type": "code",
   "execution_count": null,
   "metadata": {},
   "outputs": [],
   "source": [
    "from ast import NodeTransformer, Subscript, Constant, Name, Load, Store, \\\n",
    "    Assign, Attribute, If, With, withitem, Return, Index, Str"
   ]
  },
  {
   "cell_type": "code",
   "execution_count": null,
   "metadata": {},
   "outputs": [],
   "source": [
    "DATA_STORE = '_data'"
   ]
  },
  {
   "cell_type": "code",
   "execution_count": null,
   "metadata": {},
   "outputs": [],
   "source": [
    "print(ast.dump(ast.parse(f\"{DATA_STORE}['x']\")))"
   ]
  },
  {
   "cell_type": "code",
   "execution_count": null,
   "metadata": {},
   "outputs": [],
   "source": [
    "def make_data_access(id, ctx):\n",
    "    return Subscript(\n",
    "        value=Name(id=DATA_STORE, ctx=Load()),\n",
    "        slice=Index(value=Str(s=id)),\n",
    "        ctx=ctx\n",
    "    )"
   ]
  },
  {
   "cell_type": "code",
   "execution_count": null,
   "metadata": {},
   "outputs": [],
   "source": [
    "class AccessTransformer(NodeTransformer):\n",
    "    def visit_Name(self, node):\n",
    "        return make_data_access(node.id, node.ctx)"
   ]
  },
  {
   "cell_type": "code",
   "execution_count": null,
   "metadata": {},
   "outputs": [],
   "source": [
    "new_square_root_tree = AccessTransformer().visit(square_root_tree)\n",
    "print(astor.to_source(new_square_root_tree))"
   ]
  },
  {
   "cell_type": "code",
   "execution_count": null,
   "metadata": {},
   "outputs": [],
   "source": [
    "class SaveArgsTransformer(NodeTransformer):\n",
    "    def visit_FunctionDef(self, node):\n",
    "        named_args = []\n",
    "        for child in ast.iter_child_nodes(node.args):\n",
    "            if isinstance(child, ast.arg):\n",
    "                named_args.append(child.arg)\n",
    "\n",
    "        assign_stmts = []\n",
    "        for arg in named_args:\n",
    "            assign_stmt = Assign(\n",
    "                targets=[make_data_access(arg, Store())],\n",
    "                value=Name(id=arg, ctx=Load())\n",
    "            )\n",
    "            assign_stmts.append(assign_stmt)\n",
    "\n",
    "        node.body = assign_stmts + node.body\n",
    "        return node"
   ]
  },
  {
   "cell_type": "code",
   "execution_count": null,
   "metadata": {},
   "outputs": [],
   "source": [
    "new_square_root_tree = SaveArgsTransformer().visit(new_square_root_tree)\n",
    "show_ast(new_square_root_tree)"
   ]
  },
  {
   "cell_type": "code",
   "execution_count": null,
   "metadata": {},
   "outputs": [],
   "source": [
    "print(astor.to_source(new_square_root_tree))"
   ]
  },
  {
   "cell_type": "code",
   "execution_count": null,
   "metadata": {},
   "outputs": [],
   "source": [
    "class SaveReturnTransformer(NodeTransformer):\n",
    "    RETURN_VALUE = '<return value>'\n",
    "\n",
    "    def visit_Return(self, node):\n",
    "        assign_node = Assign(\n",
    "                targets=[make_data_access(self.RETURN_VALUE, Store())],\n",
    "                value=node.value\n",
    "            )\n",
    "        return_node = Return(\n",
    "                value=make_data_access(self.RETURN_VALUE, Load())\n",
    "            )\n",
    "        ast.copy_location(assign_node, node)\n",
    "        ast.copy_location(return_node, node)\n",
    "\n",
    "        return [\n",
    "            assign_node,\n",
    "            return_node\n",
    "        ]"
   ]
  },
  {
   "cell_type": "code",
   "execution_count": null,
   "metadata": {},
   "outputs": [],
   "source": [
    "new_square_root_tree = SaveReturnTransformer().visit(new_square_root_tree)\n",
    "show_ast(new_square_root_tree)"
   ]
  },
  {
   "cell_type": "code",
   "execution_count": null,
   "metadata": {},
   "outputs": [],
   "source": [
    "print(astor.to_source(new_square_root_tree))"
   ]
  },
  {
   "cell_type": "code",
   "execution_count": null,
   "metadata": {},
   "outputs": [],
   "source": [
    "class ControlTransformer(NodeTransformer):\n",
    "    def make_with(self, block):\n",
    "        if len(block) == 0:\n",
    "            return []\n",
    "\n",
    "        return [With(\n",
    "            items=[\n",
    "                withitem(\n",
    "                    context_expr=Name(id=DATA_STORE, ctx=Load()),\n",
    "                    optional_vars=None)\n",
    "            ],\n",
    "            body=block\n",
    "        )]\n",
    "\n",
    "    def visit_If(self, node):\n",
    "        node.body = self.make_with(node.body)\n",
    "        node.orelse = self.make_with(node.orelse)\n",
    "        return self.generic_visit(node)\n",
    "\n",
    "    def visit_While(self, node):\n",
    "        node.body = self.make_with(node.body)\n",
    "        node.orelse = self.make_with(node.orelse)\n",
    "        return self.generic_visit(node)"
   ]
  },
  {
   "cell_type": "code",
   "execution_count": null,
   "metadata": {},
   "outputs": [],
   "source": [
    "show_ast(new_square_root_tree)"
   ]
  },
  {
   "cell_type": "code",
   "execution_count": null,
   "metadata": {},
   "outputs": [],
   "source": [
    "print(astor.to_source(new_square_root_tree))"
   ]
  },
  {
   "cell_type": "code",
   "execution_count": null,
   "metadata": {},
   "outputs": [],
   "source": [
    "def print_ast_ids(tree):\n",
    "    for node in ast.walk(tree):\n",
    "        print(node)\n",
    "        try:\n",
    "            print(astor.to_source(node))\n",
    "        except AttributeError:\n",
    "            print(\"(No source)\\n\")"
   ]
  },
  {
   "cell_type": "code",
   "execution_count": null,
   "metadata": {},
   "outputs": [],
   "source": [
    "# print_ast_ids(new_square_root_tree)"
   ]
  },
  {
   "cell_type": "code",
   "execution_count": null,
   "metadata": {},
   "outputs": [],
   "source": [
    "class DataStore(dict):\n",
    "    def __init__(self, *args):\n",
    "        super().__init__(*args)\n",
    "\n",
    "    def __getitem__(self, name):\n",
    "        if name in self:\n",
    "            return super().__getitem__(name)\n",
    "        else:\n",
    "            return globals()[name]\n",
    "\n",
    "    def __setitem__(self, name, value):\n",
    "        return super().__setitem__(name, value)\n",
    "\n",
    "    def __repr__(self):\n",
    "        return super().__repr__()\n",
    "\n",
    "    def __enter__(self):\n",
    "        pass\n",
    "\n",
    "    def __exit__(self, exc_type, exc_value, traceback):\n",
    "        pass"
   ]
  },
  {
   "cell_type": "code",
   "execution_count": null,
   "metadata": {},
   "outputs": [],
   "source": [
    "class DataLogger(DataStore):\n",
    "    def caller_location(self):\n",
    "        frame = inspect.currentframe().f_back.f_back\n",
    "        return f\"{frame.f_code.co_name}:{frame.f_lineno}\"\n",
    "\n",
    "    def __getitem__(self, name):\n",
    "        print(self.caller_location(), \"reading\", name)\n",
    "        return super().__getitem__(name)\n",
    "\n",
    "    def __setitem__(self, name, value):\n",
    "        print(self.caller_location(), \"storing\", name)\n",
    "        return super().__setitem__(name, value)"
   ]
  },
  {
   "cell_type": "code",
   "execution_count": null,
   "metadata": {},
   "outputs": [],
   "source": [
    "import itertools"
   ]
  },
  {
   "cell_type": "code",
   "execution_count": null,
   "metadata": {},
   "outputs": [],
   "source": [
    "class DataTracker(DataStore):\n",
    "    def __init__(self, *args):\n",
    "        super().__init__(*args)\n",
    "        self.origins = {}\n",
    "        self.data_dependencies = {}\n",
    "        self.control_dependencies = {}\n",
    "        self.last_read = []\n",
    "        self.last_read_location = None\n",
    "        self.control = [[]]\n",
    "\n",
    "    def caller_location(self):\n",
    "        frame = inspect.currentframe().f_back.f_back\n",
    "        return (frame.f_code.co_name, frame.f_lineno)\n",
    "\n",
    "    def __getitem__(self, name):\n",
    "        location = self.caller_location()\n",
    "        if location != self.last_read_location:\n",
    "            self.last_read_location = location\n",
    "            self.last_read = []\n",
    "        self.last_read.append(name)\n",
    "        return super().__getitem__(name)\n",
    "\n",
    "    def __setitem__(self, name, value):\n",
    "        location = self.caller_location()\n",
    "\n",
    "        new_data_dependencies = self.data_dependencies[(name, location)] \\\n",
    "            if (name, location) in self.data_dependencies else set()\n",
    "\n",
    "        for var_read in self.last_read:\n",
    "            if var_read in self.origins:\n",
    "                new_data_dependencies.add((var_read, self.origins[var_read]))\n",
    "\n",
    "        new_control_dependencies = self.control_dependencies[(name, location)] \\\n",
    "            if (name, location) in self.control_dependencies else set()\n",
    "\n",
    "        for var_read in itertools.chain.from_iterable(self.control):\n",
    "            if var_read in self.origins:\n",
    "                new_control_dependencies.add((var_read, self.origins[var_read]))\n",
    "\n",
    "        self.data_dependencies[(name, location)] = new_data_dependencies\n",
    "        self.control_dependencies[(name, location)] = new_control_dependencies\n",
    "\n",
    "        self.origins[name] = location\n",
    "\n",
    "        return super().__setitem__(name, value)\n",
    "\n",
    "    def __enter__(self):\n",
    "        self.control.append(self.last_read)\n",
    "\n",
    "    def __exit__(self, exc_type, exc_value, traceback):\n",
    "        self.control.pop()"
   ]
  },
  {
   "cell_type": "code",
   "execution_count": null,
   "metadata": {},
   "outputs": [],
   "source": [
    "class Instrumenter(object):\n",
    "    def __init__(self, *items_to_instrument, log=False):\n",
    "        self.log = log\n",
    "        self.items_to_instrument = items_to_instrument\n",
    "\n",
    "    def __enter__(self):\n",
    "        \"\"\"Instrument sources\"\"\"\n",
    "        for item in self.items_to_instrument:\n",
    "            self.instrument(item)\n",
    "        return self\n",
    "\n",
    "    def __exit__(self, exc_type, exc_value, traceback):\n",
    "        \"\"\"Restore sources\"\"\"\n",
    "        for item in self.items_to_instrument:\n",
    "            globals()[item.__name__] = item\n",
    "\n",
    "    def instrument(self, item):\n",
    "        if self.log:\n",
    "            print(\"Instrumenting\", item)"
   ]
  },
  {
   "cell_type": "code",
   "execution_count": null,
   "metadata": {},
   "outputs": [],
   "source": [
    "with Instrumenter(square_root) as ins:\n",
    "    pass"
   ]
  },
  {
   "cell_type": "code",
   "execution_count": null,
   "metadata": {},
   "outputs": [],
   "source": [
    "class Slicer(Instrumenter):\n",
    "    def instrument(self, item):\n",
    "        tree = ast.parse(inspect.getsource(item))\n",
    "\n",
    "        AccessTransformer().visit(tree)\n",
    "        SaveArgsTransformer().visit(tree)\n",
    "        SaveReturnTransformer().visit(tree)\n",
    "        ControlTransformer().visit(tree)\n",
    "        \n",
    "        ast.fix_missing_locations(tree)\n",
    "        # print_ast_ids(tree)\n",
    "\n",
    "        if self.log:\n",
    "            print(f\"Instrumenting {item}:\")\n",
    "            print(astor.to_source(tree))\n",
    "\n",
    "        code = compile(tree, '<string>', 'exec')\n",
    "        exec(code, globals())\n",
    "        globals()[DATA_STORE] = DataTracker()\n",
    "\n",
    "    def data_dependencies(self):\n",
    "        return globals()[DATA_STORE].data_dependencies\n",
    "\n",
    "    def control_dependencies(self):\n",
    "        return globals()[DATA_STORE].control_dependencies"
   ]
  },
  {
   "cell_type": "code",
   "execution_count": null,
   "metadata": {},
   "outputs": [],
   "source": [
    "with Slicer(square_root, log=True) as slicer:\n",
    "    y = square_root(9)\n",
    "y"
   ]
  },
  {
   "cell_type": "code",
   "execution_count": null,
   "metadata": {},
   "outputs": [],
   "source": [
    "_data"
   ]
  },
  {
   "cell_type": "code",
   "execution_count": null,
   "metadata": {},
   "outputs": [],
   "source": [
    "_data.origins"
   ]
  },
  {
   "cell_type": "code",
   "execution_count": null,
   "metadata": {},
   "outputs": [],
   "source": [
    "slicer.data_dependencies()"
   ]
  },
  {
   "cell_type": "code",
   "execution_count": null,
   "metadata": {},
   "outputs": [],
   "source": [
    "slicer.control_dependencies()"
   ]
  },
  {
   "cell_type": "code",
   "execution_count": null,
   "metadata": {},
   "outputs": [],
   "source": [
    "square_root(9)"
   ]
  },
  {
   "cell_type": "code",
   "execution_count": null,
   "metadata": {
    "ipub": {
     "ignore": true
    }
   },
   "outputs": [],
   "source": [
    "from graphviz import Digraph, nohtml"
   ]
  },
  {
   "cell_type": "code",
   "execution_count": null,
   "metadata": {},
   "outputs": [],
   "source": [
    "import html"
   ]
  },
  {
   "cell_type": "code",
   "execution_count": null,
   "metadata": {
    "ipub": {
     "ignore": true
    }
   },
   "outputs": [],
   "source": [
    "# ignore\n",
    "STEP_COLOR = 'peachpuff'\n",
    "FONT_NAME = 'Courier'"
   ]
  },
  {
   "cell_type": "code",
   "execution_count": null,
   "metadata": {
    "ipub": {
     "ignore": true
    }
   },
   "outputs": [],
   "source": [
    "# ignore\n",
    "def graph(comment=\"default\"):\n",
    "    return Digraph(name='', comment=comment, graph_attr={},\n",
    "        node_attr={'style': 'filled',\n",
    "                   'shape': 'box',\n",
    "                   'fillcolor': STEP_COLOR,\n",
    "                   'fontname': FONT_NAME},\n",
    "        edge_attr={'fontname': FONT_NAME})"
   ]
  },
  {
   "cell_type": "code",
   "execution_count": null,
   "metadata": {
    "ipub": {
     "ignore": true
    }
   },
   "outputs": [],
   "source": [
    "# ignore\n",
    "def display_dependencies(data_dependencies, control_dependencies={}):\n",
    "    def id(node):\n",
    "        return html.escape(repr(node))\n",
    "\n",
    "    def label(node):\n",
    "        (name, location) = node\n",
    "        code_name, lineno = location\n",
    "        fun = globals()[code_name]\n",
    "        source_lines, first_lineno = inspect.getsourcelines(fun)\n",
    "        source = source_lines[lineno - first_lineno].strip()\n",
    "        return f'<<B>{html.escape(name)}</B><BR/><FONT POINT-SIZE=\"8.0\">{source}</FONT>>'\n",
    "\n",
    "    g = graph()\n",
    "    for d in data_dependencies:\n",
    "        g.node(id(d), label=label(d))\n",
    "        for t in data_dependencies[d]:\n",
    "            # print(label(d), '=>', label(t))\n",
    "            g.edge(id(t), id(d))\n",
    "        for t in control_dependencies[d]:\n",
    "            # print(label(d), '->', label(t))\n",
    "            g.edge(id(t), id(d), style='dashed')\n",
    "\n",
    "    display(g)"
   ]
  },
  {
   "cell_type": "code",
   "execution_count": null,
   "metadata": {},
   "outputs": [],
   "source": [
    "display_dependencies(slicer.data_dependencies(),\n",
    "                     slicer.control_dependencies()\n",
    "                    )"
   ]
  },
  {
   "cell_type": "markdown",
   "metadata": {},
   "source": [
    "* TODO: Differentiate control and data deps by color\n",
    "* TODO: Arrange nodes by location"
   ]
  },
  {
   "cell_type": "code",
   "execution_count": null,
   "metadata": {},
   "outputs": [],
   "source": [
    "with Slicer(middle, log=True) as slicer:\n",
    "    y = middle(2, 1, 3)"
   ]
  },
  {
   "cell_type": "code",
   "execution_count": null,
   "metadata": {},
   "outputs": [],
   "source": [
    "slicer.control_dependencies()"
   ]
  },
  {
   "cell_type": "code",
   "execution_count": null,
   "metadata": {},
   "outputs": [],
   "source": [
    "display_dependencies(slicer.data_dependencies(),\n",
    "                     slicer.control_dependencies()\n",
    "                    )"
   ]
  },
  {
   "cell_type": "markdown",
   "metadata": {},
   "source": [
    "## Synopsis"
   ]
  },
  {
   "cell_type": "markdown",
   "metadata": {},
   "source": [
    "_For those only interested in using the code in this chapter (without wanting to know how it works), give an example.  This will be copied to the beginning of the chapter (before the first section) as text with rendered input and output._"
   ]
  },
  {
   "cell_type": "markdown",
   "metadata": {},
   "source": [
    "You can use `int_fuzzer()` as:"
   ]
  },
  {
   "cell_type": "markdown",
   "metadata": {
    "button": false,
    "new_sheet": true,
    "run_control": {
     "read_only": false
    }
   },
   "source": [
    "## Lessons Learned\n",
    "\n",
    "* _Lesson one_\n",
    "* _Lesson two_\n",
    "* _Lesson three_"
   ]
  },
  {
   "cell_type": "markdown",
   "metadata": {
    "button": false,
    "new_sheet": false,
    "run_control": {
     "read_only": false
    }
   },
   "source": [
    "## Next Steps\n",
    "\n",
    "_Link to subsequent chapters (notebooks) here, as in:_\n",
    "\n",
    "* [use _mutations_ on existing inputs to get more valid inputs](MutationFuzzer.ipynb)\n",
    "* [use _grammars_ (i.e., a specification of the input format) to get even more valid inputs](Grammars.ipynb)\n",
    "* [reduce _failing inputs_ for efficient debugging](Reducer.ipynb)\n"
   ]
  },
  {
   "cell_type": "markdown",
   "metadata": {},
   "source": [
    "## Background\n",
    "\n",
    "_Cite relevant works in the literature and put them into context, as in:_\n",
    "\n",
    "The idea of ensuring that each expansion in the grammar is used at least once goes back to Burkhardt \\cite{Burkhardt1967}, to be later rediscovered by Paul Purdom \\cite{Purdom1972}.\n",
    "\n",
    "@INPROCEEDINGS{6899220,\n",
    "  author={Z. {Chen} and L. {Chen} and Y. {Zhou} and Z. {Xu} and W. C. {Chu} and B. {Xu}},\n",
    "  booktitle={2014 IEEE 38th Annual Computer Software and Applications Conference}, \n",
    "  title={Dynamic Slicing of Python Programs}, \n",
    "  year={2014},\n",
    "  volume={},\n",
    "  number={},\n",
    "  pages={219-228},\n",
    "  doi={10.1109/COMPSAC.2014.30}\n",
    "}\n",
    "\n"
   ]
  },
  {
   "cell_type": "markdown",
   "metadata": {
    "button": false,
    "new_sheet": true,
    "run_control": {
     "read_only": false
    }
   },
   "source": [
    "## Exercises\n",
    "\n",
    "_Close the chapter with a few exercises such that people have things to do.  To make the solutions hidden (to be revealed by the user), have them start with_\n",
    "\n",
    "```\n",
    "**Solution.**\n",
    "```\n",
    "\n",
    "_Your solution can then extend up to the next title (i.e., any markdown cell starting with `#`)._\n",
    "\n",
    "_Running `make metadata` will automatically add metadata to the cells such that the cells will be hidden by default, and can be uncovered by the user.  The button will be introduced above the solution._"
   ]
  },
  {
   "cell_type": "markdown",
   "metadata": {
    "button": false,
    "new_sheet": false,
    "run_control": {
     "read_only": false
    }
   },
   "source": [
    "### Exercise 1: _Title_\n",
    "\n",
    "_Text of the exercise_"
   ]
  },
  {
   "cell_type": "code",
   "execution_count": null,
   "metadata": {
    "cell_style": "center"
   },
   "outputs": [],
   "source": [
    "# Some code that is part of the exercise\n",
    "pass"
   ]
  },
  {
   "cell_type": "markdown",
   "metadata": {
    "solution2": "hidden",
    "solution2_first": true
   },
   "source": [
    "_Some more text for the exercise_"
   ]
  },
  {
   "cell_type": "markdown",
   "metadata": {
    "slideshow": {
     "slide_type": "skip"
    },
    "solution2": "hidden"
   },
   "source": [
    "**Solution.** _Some text for the solution_"
   ]
  },
  {
   "cell_type": "code",
   "execution_count": null,
   "metadata": {
    "cell_style": "split",
    "slideshow": {
     "slide_type": "skip"
    },
    "solution2": "hidden"
   },
   "outputs": [],
   "source": [
    "# Some code for the solution\n",
    "2 + 2"
   ]
  },
  {
   "cell_type": "markdown",
   "metadata": {
    "slideshow": {
     "slide_type": "skip"
    },
    "solution2": "hidden"
   },
   "source": [
    "_Some more text for the solution_"
   ]
  },
  {
   "cell_type": "markdown",
   "metadata": {
    "button": false,
    "new_sheet": false,
    "run_control": {
     "read_only": false
    },
    "solution": "hidden",
    "solution2": "hidden",
    "solution2_first": true,
    "solution_first": true
   },
   "source": [
    "### Exercise 2: _Title_\n",
    "\n",
    "_Text of the exercise_"
   ]
  },
  {
   "cell_type": "markdown",
   "metadata": {
    "button": false,
    "new_sheet": false,
    "run_control": {
     "read_only": false
    },
    "slideshow": {
     "slide_type": "skip"
    },
    "solution": "hidden",
    "solution2": "hidden"
   },
   "source": [
    "**Solution.** _Solution for the exercise_"
   ]
  },
  {
   "cell_type": "code",
   "execution_count": null,
   "metadata": {},
   "outputs": [],
   "source": [
    "import traceback"
   ]
  },
  {
   "cell_type": "code",
   "execution_count": null,
   "metadata": {},
   "outputs": [],
   "source": [
    "class tint(int):\n",
    "    def __new__(cls, value, *args, **kw):\n",
    "        return int.__new__(cls, value)\n",
    "\n",
    "    def __init__(self, value, slice=None, **kwargs):\n",
    "        self.slice = [self.current_location()]\n",
    "        if slice is not None:\n",
    "            self.slice += slice\n",
    "\n",
    "    def current_location(self):\n",
    "        frame = inspect.currentframe()\n",
    "        while ('self' in frame.f_locals and \n",
    "               isinstance(frame.f_locals['self'], tint)):\n",
    "            frame = frame.f_back\n",
    "\n",
    "        return (frame.f_code.co_name, frame.f_lineno)"
   ]
  },
  {
   "cell_type": "code",
   "execution_count": null,
   "metadata": {},
   "outputs": [],
   "source": [
    "class tint(tint):\n",
    "    def __repr__(self):\n",
    "        return int.__repr__(self)"
   ]
  },
  {
   "cell_type": "code",
   "execution_count": null,
   "metadata": {},
   "outputs": [],
   "source": [
    "class tint(tint):\n",
    "    def __str__(self):\n",
    "        return int.__str__(self)"
   ]
  },
  {
   "cell_type": "code",
   "execution_count": null,
   "metadata": {},
   "outputs": [],
   "source": [
    "x = tint(2)\n",
    "x"
   ]
  },
  {
   "cell_type": "code",
   "execution_count": null,
   "metadata": {},
   "outputs": [],
   "source": [
    "x.slice"
   ]
  },
  {
   "cell_type": "code",
   "execution_count": null,
   "metadata": {},
   "outputs": [],
   "source": [
    "x == 2"
   ]
  },
  {
   "cell_type": "code",
   "execution_count": null,
   "metadata": {},
   "outputs": [],
   "source": [
    "type(x)"
   ]
  },
  {
   "cell_type": "code",
   "execution_count": null,
   "metadata": {},
   "outputs": [],
   "source": [
    "class tint(tint):\n",
    "    def create(self, x):\n",
    "        return tint(x, slice=self.slice)"
   ]
  },
  {
   "cell_type": "markdown",
   "metadata": {},
   "source": [
    "Operators are defined in the [Python data model](https://docs.python.org/3/reference/datamodel.html)"
   ]
  },
  {
   "cell_type": "code",
   "execution_count": null,
   "metadata": {},
   "outputs": [],
   "source": [
    "class tint(tint):\n",
    "    def __add__(self, x):\n",
    "        return self.create(int(self) + x)\n",
    "    def __radd__(self, x):\n",
    "        return self.create(x + int(self))"
   ]
  },
  {
   "cell_type": "code",
   "execution_count": null,
   "metadata": {},
   "outputs": [],
   "source": [
    "x = tint(2)\n",
    "x = x + 2\n",
    "type(x)"
   ]
  },
  {
   "cell_type": "code",
   "execution_count": null,
   "metadata": {},
   "outputs": [],
   "source": [
    "x"
   ]
  },
  {
   "cell_type": "code",
   "execution_count": null,
   "metadata": {},
   "outputs": [],
   "source": [
    "class tint(tint):\n",
    "    def __sub__(self, x):\n",
    "        return self.create(int(self) - x)\n",
    "    def __rsub__(self, x):\n",
    "        return self.create(x - int(self))"
   ]
  },
  {
   "cell_type": "code",
   "execution_count": null,
   "metadata": {},
   "outputs": [],
   "source": [
    "class tint(tint):\n",
    "    def __mul__(self, x):\n",
    "        return self.create(int(self) * x)\n",
    "    def __rmul__(self, x):\n",
    "        return self.create(x * int(self))"
   ]
  },
  {
   "cell_type": "code",
   "execution_count": null,
   "metadata": {},
   "outputs": [],
   "source": [
    "class tint(tint):\n",
    "    def __matmul__(self, x):\n",
    "        return self.create(int(self) @ x)\n",
    "    def __rmatmul__(self, x):\n",
    "        return self.create(x @ int(self))"
   ]
  },
  {
   "cell_type": "code",
   "execution_count": null,
   "metadata": {},
   "outputs": [],
   "source": [
    "class tint(tint):\n",
    "    def __truediv__(self, x):\n",
    "        return self.create(int(self) / x)\n",
    "    def __rtruediv__(self, x):\n",
    "        return self.create(x / int(self))"
   ]
  },
  {
   "cell_type": "code",
   "execution_count": null,
   "metadata": {},
   "outputs": [],
   "source": [
    "class tint(tint):\n",
    "    def __floordiv__(self, x):\n",
    "        return self.create(int(self) // x)\n",
    "    def __rfloordiv__(self, x):\n",
    "        return self.create(x // int(self))"
   ]
  },
  {
   "cell_type": "code",
   "execution_count": null,
   "metadata": {},
   "outputs": [],
   "source": [
    "class tint(tint):\n",
    "    def __mod__(self, x):\n",
    "        return self.create(int(self) % x)\n",
    "    def __rmod__(self, x):\n",
    "        return self.create(x % int(self))"
   ]
  },
  {
   "cell_type": "code",
   "execution_count": null,
   "metadata": {},
   "outputs": [],
   "source": [
    "class tint(tint):\n",
    "    def __divmod__(self, x):\n",
    "        return self.create(divmod(int(self), x))\n",
    "    def __rdivmod__(self, x):\n",
    "        return self.create(divmod(x, int(self)))"
   ]
  },
  {
   "cell_type": "code",
   "execution_count": null,
   "metadata": {},
   "outputs": [],
   "source": [
    "class tint(tint):\n",
    "    def __pow__(self, x):\n",
    "        return self.create(int(self) ** x)\n",
    "    def __rpow__(self, x):\n",
    "        return self.create(x ** int(self))"
   ]
  },
  {
   "cell_type": "code",
   "execution_count": null,
   "metadata": {},
   "outputs": [],
   "source": [
    "class tint(tint):\n",
    "    def __lshift__(self, x):\n",
    "        return self.create(int(self) << x)\n",
    "    def __rlshift__(self, x):\n",
    "        return self.create(x << int(self))"
   ]
  },
  {
   "cell_type": "code",
   "execution_count": null,
   "metadata": {},
   "outputs": [],
   "source": [
    "class tint(tint):\n",
    "    def __rshift__(self, x):\n",
    "        return self.create(int(self) >> x)\n",
    "    def __rrshift__(self, x):\n",
    "        return self.create(x >> int(self))"
   ]
  },
  {
   "cell_type": "code",
   "execution_count": null,
   "metadata": {},
   "outputs": [],
   "source": [
    "class tint(tint):\n",
    "    def __and__(self, x):\n",
    "        return self.create(int(self) & x)\n",
    "    def __rand__(self, x):\n",
    "        return self.create(x & int(self))"
   ]
  },
  {
   "cell_type": "code",
   "execution_count": null,
   "metadata": {},
   "outputs": [],
   "source": [
    "class tint(tint):\n",
    "    def __xor__(self, x):\n",
    "        return self.create(int(self) ^ x)\n",
    "    def __rxor__(self, x):\n",
    "        return self.create(x ^ int(self))"
   ]
  },
  {
   "cell_type": "code",
   "execution_count": null,
   "metadata": {},
   "outputs": [],
   "source": [
    "class tint(tint):\n",
    "    def __or__(self, x):\n",
    "        return self.create(int(self) | x)\n",
    "    def __ror__(self, x):\n",
    "        return self.create(x | int(self))"
   ]
  },
  {
   "cell_type": "code",
   "execution_count": null,
   "metadata": {},
   "outputs": [],
   "source": [
    "class tint(tint):\n",
    "    def __neg__(self):\n",
    "        return self.create(-int(self))\n",
    "    def __pos__(self):\n",
    "        return self.create(+int(self))\n",
    "    def __abs__(self):\n",
    "        return self.create(abs(int(self)))\n",
    "    def __invert__(self):\n",
    "        return self.create(-int(self))"
   ]
  },
  {
   "cell_type": "code",
   "execution_count": null,
   "metadata": {},
   "outputs": [],
   "source": [
    "class tint(tint):\n",
    "    def __index__(self):\n",
    "        return int(self)"
   ]
  },
  {
   "cell_type": "code",
   "execution_count": null,
   "metadata": {},
   "outputs": [],
   "source": [
    "x = tint(2)\n",
    "y = x + 3 - (3 + x)"
   ]
  },
  {
   "cell_type": "code",
   "execution_count": null,
   "metadata": {},
   "outputs": [],
   "source": [
    "y, type(y), y.slice"
   ]
  },
  {
   "cell_type": "code",
   "execution_count": null,
   "metadata": {},
   "outputs": [],
   "source": [
    "x = tint(2)\n",
    "y = tint(1)\n",
    "z = tint(3)\n",
    "m = middle(x, y, z)\n",
    "m, m.slice"
   ]
  },
  {
   "cell_type": "code",
   "execution_count": null,
   "metadata": {},
   "outputs": [],
   "source": [
    "x = tint(4)\n",
    "y = square_root(x)"
   ]
  },
  {
   "cell_type": "code",
   "execution_count": null,
   "metadata": {},
   "outputs": [],
   "source": [
    "y.slice"
   ]
  },
  {
   "cell_type": "code",
   "execution_count": null,
   "metadata": {},
   "outputs": [],
   "source": [
    "from ExpectError import ExpectError"
   ]
  },
  {
   "cell_type": "code",
   "execution_count": null,
   "metadata": {},
   "outputs": [],
   "source": [
    "with ExpectError():\n",
    "    y = square_root(tint(2))"
   ]
  },
  {
   "cell_type": "markdown",
   "metadata": {},
   "source": [
    "Next steps:\n",
    "\n",
    "* implement `tfloat`\n",
    "* instrument assignments"
   ]
  },
  {
   "cell_type": "markdown",
   "metadata": {},
   "source": [
    "```python\n",
    "with Slicer() as slicer:\n",
    "    x = foobar(blue)\n",
    "slicer\n",
    "```\n",
    "x was initialized from ...\n",
    "blue was just there :-)"
   ]
  }
 ],
 "metadata": {
  "ipub": {
   "bibliography": "fuzzingbook.bib",
   "toc": true
  },
  "kernelspec": {
   "display_name": "Python 3",
   "language": "python",
   "name": "python3"
  },
  "language_info": {
   "codemirror_mode": {
    "name": "ipython",
    "version": 3
   },
   "file_extension": ".py",
   "mimetype": "text/x-python",
   "name": "python",
   "nbconvert_exporter": "python",
   "pygments_lexer": "ipython3",
   "version": "3.6.10"
  },
  "toc": {
   "base_numbering": 1,
   "nav_menu": {},
   "number_sections": true,
   "sideBar": true,
   "skip_h1_title": true,
   "title_cell": "",
   "title_sidebar": "Contents",
   "toc_cell": false,
   "toc_position": {},
   "toc_section_display": true,
   "toc_window_display": true
  },
  "toc-autonumbering": false
 },
 "nbformat": 4,
 "nbformat_minor": 4
}
