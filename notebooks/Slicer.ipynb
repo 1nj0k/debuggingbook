{
 "cells": [
  {
   "cell_type": "markdown",
   "metadata": {
    "button": false,
    "new_sheet": false,
    "run_control": {
     "read_only": false
    }
   },
   "source": [
    "# Tracking Failure Origins\n",
    "\n",
    "To identify the origin of a failure, one proceeds along _dependencies_: Which earlier variables could possibly have influenced the current erroneous state? And how did their values come to be? In this chapter, we show how to identify these dependencies, and how to automatically compute them."
   ]
  },
  {
   "cell_type": "code",
   "execution_count": null,
   "metadata": {},
   "outputs": [],
   "source": [
    "from bookutils import YouTubeVideo\n",
    "# YouTubeVideo(\"w4u5gCgPlmg\")"
   ]
  },
  {
   "cell_type": "markdown",
   "metadata": {
    "button": false,
    "new_sheet": false,
    "run_control": {
     "read_only": false
    }
   },
   "source": [
    "**Prerequisites**\n",
    "\n",
    "* You should have read the [Introduction to Debugging](Intro_Debugging).\n",
    "* To understand how to compute dependencies automatically, advanced knowledge of Python is required."
   ]
  },
  {
   "cell_type": "code",
   "execution_count": null,
   "metadata": {
    "button": false,
    "new_sheet": false,
    "run_control": {
     "read_only": false
    },
    "slideshow": {
     "slide_type": "skip"
    }
   },
   "outputs": [],
   "source": [
    "import bookutils"
   ]
  },
  {
   "cell_type": "markdown",
   "metadata": {},
   "source": [
    "## Synopsis\n",
    "\n",
    "<!-- Automatically generated. Do not edit. -->\n",
    "\n",
    "\n",
    "\n",
    "_For those only interested in using the code in this chapter (without wanting to know how it works), give an example.  This will be copied to the beginning of the chapter (before the first section) as text with rendered input and output._\n",
    "\n",
    "You can use `int_fuzzer()` as:\n",
    "\n",
    "```python\n",
    "print(int_fuzzer())\n",
    "```\n",
    "```python\n",
    "=> 76.5\n",
    "\n",
    "```\n"
   ]
  },
  {
   "cell_type": "markdown",
   "metadata": {
    "button": false,
    "new_sheet": true,
    "run_control": {
     "read_only": false
    }
   },
   "source": [
    "## Dependencies\n",
    "\n",
    "We start with a simple program. The `middle()` function is supposed to return the \"middle\" number of three values `x`, `y`, and `z` – that is, the one number that neither is the minimum nor the maximum."
   ]
  },
  {
   "cell_type": "code",
   "execution_count": null,
   "metadata": {},
   "outputs": [],
   "source": [
    "def middle(x, y, z):\n",
    "    if y < z:\n",
    "        if x < y:\n",
    "            return y\n",
    "        elif x < z:\n",
    "            return y\n",
    "    else:\n",
    "        if x > y:\n",
    "            return y\n",
    "        elif x > z:\n",
    "            return x\n",
    "    return z"
   ]
  },
  {
   "cell_type": "markdown",
   "metadata": {},
   "source": [
    "In most cases, `middle()` runs just fine:"
   ]
  },
  {
   "cell_type": "code",
   "execution_count": null,
   "metadata": {},
   "outputs": [],
   "source": [
    "m = middle(1, 2, 3)\n",
    "m"
   ]
  },
  {
   "cell_type": "markdown",
   "metadata": {},
   "source": [
    "In others, however, it returns the wrong value:"
   ]
  },
  {
   "cell_type": "code",
   "execution_count": null,
   "metadata": {},
   "outputs": [],
   "source": [
    "m = middle(2, 1, 3)\n",
    "m"
   ]
  },
  {
   "cell_type": "markdown",
   "metadata": {},
   "source": [
    "This is a typical debugging situation: You see a value that is erroneous; and you want to find out where it came from. "
   ]
  },
  {
   "cell_type": "code",
   "execution_count": null,
   "metadata": {},
   "outputs": [],
   "source": [
    "class Dependencies(object):\n",
    "    def __init__(self, data, control):\n",
    "        self.data = data\n",
    "        self.control = control\n",
    "\n",
    "    def validate(self):\n",
    "        pass"
   ]
  },
  {
   "cell_type": "markdown",
   "metadata": {},
   "source": [
    "## Drawing Dependencies"
   ]
  },
  {
   "cell_type": "code",
   "execution_count": null,
   "metadata": {
    "ipub": {
     "ignore": true
    }
   },
   "outputs": [],
   "source": [
    "from graphviz import Digraph, nohtml"
   ]
  },
  {
   "cell_type": "code",
   "execution_count": null,
   "metadata": {},
   "outputs": [],
   "source": [
    "import html"
   ]
  },
  {
   "cell_type": "code",
   "execution_count": null,
   "metadata": {},
   "outputs": [],
   "source": [
    "import inspect"
   ]
  },
  {
   "cell_type": "code",
   "execution_count": null,
   "metadata": {
    "ipub": {
     "ignore": true
    }
   },
   "outputs": [],
   "source": [
    "class Dependencies(Dependencies):\n",
    "    def source(self, var):\n",
    "        (name, location) = var\n",
    "        code_name, lineno = location\n",
    "        fun = globals()[code_name]\n",
    "        source_lines, first_lineno = inspect.getsourcelines(fun)\n",
    "\n",
    "        try:\n",
    "            line = source_lines[lineno - first_lineno].strip()\n",
    "        except IndexError:\n",
    "            line = ''\n",
    "\n",
    "        return line"
   ]
  },
  {
   "cell_type": "code",
   "execution_count": null,
   "metadata": {
    "ipub": {
     "ignore": true
    }
   },
   "outputs": [],
   "source": [
    "class Dependencies(Dependencies):\n",
    "    NODE_COLOR = 'peachpuff'\n",
    "    FONT_NAME = 'Fira Mono'\n",
    "\n",
    "    def make_graph(self, name=\"dependencies\", comment=\"Dependencies\"):\n",
    "        return Digraph(name=name, comment=comment, \n",
    "            graph_attr={\n",
    "            },\n",
    "            node_attr={\n",
    "                'style': 'filled',\n",
    "                'shape': 'box',\n",
    "                'fillcolor': self.NODE_COLOR,\n",
    "                'fontname': self.FONT_NAME\n",
    "            },\n",
    "            edge_attr={\n",
    "                'fontname': self.FONT_NAME\n",
    "            })"
   ]
  },
  {
   "cell_type": "code",
   "execution_count": null,
   "metadata": {
    "ipub": {
     "ignore": true
    }
   },
   "outputs": [],
   "source": [
    "class Dependencies(Dependencies):\n",
    "    def id(self, var):\n",
    "        id = \"\"\n",
    "        for c in repr(var):\n",
    "            if c.isalnum() or c == '_':\n",
    "                id += c\n",
    "            if c == ':' or c == ',':\n",
    "                id += '_'\n",
    "        return id\n",
    "\n",
    "    def label(self, var):\n",
    "        (name, location) = var\n",
    "        source = self.source(var)\n",
    "\n",
    "        title = html.escape(name)\n",
    "        if name.startswith('<'):\n",
    "            title = f'<I>{title}</I>'\n",
    "\n",
    "        return (f'<'\n",
    "                f'<B>{title}</B>'\n",
    "                f'<FONT POINT-SIZE=\"9.0\"><BR/><BR/>'\n",
    "                f'{html.escape(source)}'\n",
    "                f'</FONT>'\n",
    "                f'>')\n",
    "\n",
    "    def tooltip(self, var):\n",
    "        (name, location) = var\n",
    "        code_name, lineno = location\n",
    "        return f\"{code_name}:{lineno}\""
   ]
  },
  {
   "cell_type": "code",
   "execution_count": null,
   "metadata": {
    "ipub": {
     "ignore": true
    }
   },
   "outputs": [],
   "source": [
    "class Dependencies(Dependencies):\n",
    "    def graph(self):\n",
    "        \"\"\"Draw dependencies.\"\"\"\n",
    "        self.validate()\n",
    "\n",
    "        g = self.make_graph()\n",
    "        self.draw_dependencies(g)\n",
    "        self.add_hierarchy(g)\n",
    "        return g"
   ]
  },
  {
   "cell_type": "code",
   "execution_count": null,
   "metadata": {
    "ipub": {
     "ignore": true
    }
   },
   "outputs": [],
   "source": [
    "class Dependencies(Dependencies):\n",
    "    def draw_dependencies(self, g):\n",
    "        for var in self.data:\n",
    "            g.node(self.id(var), \n",
    "                   label=self.label(var),\n",
    "                   tooltip=self.tooltip(var))\n",
    "\n",
    "            for source in self.data[var]:\n",
    "                g.edge(self.id(source), self.id(var))\n",
    "\n",
    "            for source in self.control[var]:\n",
    "                g.edge(self.id(source), self.id(var),\n",
    "                       style='dashed', color='grey')"
   ]
  },
  {
   "cell_type": "code",
   "execution_count": null,
   "metadata": {
    "ipub": {
     "ignore": true
    }
   },
   "outputs": [],
   "source": [
    "class Dependencies(Dependencies):\n",
    "    def all_vars(self):\n",
    "        all_vars = set()\n",
    "        for var in self.data:\n",
    "            all_vars.add(var)\n",
    "\n",
    "            for source in self.data[var]:\n",
    "                all_vars.add(source)\n",
    "\n",
    "            for source in self.control[var]:\n",
    "                all_vars.add(source)\n",
    "\n",
    "        return all_vars"
   ]
  },
  {
   "cell_type": "code",
   "execution_count": null,
   "metadata": {
    "ipub": {
     "ignore": true
    }
   },
   "outputs": [],
   "source": [
    "class Dependencies(Dependencies):\n",
    "    def all_codes(self):\n",
    "        code_names = {}\n",
    "        for var in self.all_vars():\n",
    "            (name, location) = var\n",
    "            code_name, lineno = location\n",
    "            if code_name not in code_names:\n",
    "                code_names[code_name] = []\n",
    "            code_names[code_name].append((lineno, var))\n",
    "\n",
    "        for code_name in code_names:\n",
    "            code_names[code_name].sort()\n",
    "\n",
    "        return code_names"
   ]
  },
  {
   "cell_type": "code",
   "execution_count": null,
   "metadata": {
    "ipub": {
     "ignore": true
    }
   },
   "outputs": [],
   "source": [
    "class Dependencies(Dependencies):\n",
    "    def add_hierarchy(self, g):\n",
    "        \"\"\"Add invisible edges for a proper hierarchy.\"\"\"\n",
    "        code_names = self.all_codes()\n",
    "        for code_name in code_names:\n",
    "            last_var = None\n",
    "            last_lineno = 0\n",
    "            for (lineno, var) in code_names[code_name]:\n",
    "                if last_var is not None and lineno > last_lineno:\n",
    "                    g.edge(self.id(last_var),\n",
    "                           self.id(var),\n",
    "                           style='invis')\n",
    "\n",
    "                last_var = var\n",
    "                last_lineno = lineno\n",
    "\n",
    "        return g"
   ]
  },
  {
   "cell_type": "code",
   "execution_count": null,
   "metadata": {
    "ipub": {
     "ignore": true
    }
   },
   "outputs": [],
   "source": [
    "class Dependencies(Dependencies):\n",
    "    def expand_items(self, items):\n",
    "        all_items = []\n",
    "        for item in items:\n",
    "            if isinstance(item, str):\n",
    "                for var in self.all_vars():\n",
    "                    (name, location) = var\n",
    "                    if name == item:\n",
    "                        all_items.append(var)\n",
    "            else:\n",
    "                all_items.append(item)\n",
    "\n",
    "        return all_items\n",
    "\n",
    "    def backward_slice(self, *items, mode=\"cd\"):\n",
    "        data = {}\n",
    "        control = {}\n",
    "        queue = self.expand_items(items)\n",
    "        seen = set()\n",
    "\n",
    "        while len(queue) > 0:\n",
    "            var = queue[0]\n",
    "            queue = queue[1:]\n",
    "            seen.add(var)\n",
    "\n",
    "            if 'd' in mode:\n",
    "                data[var] = self.data[var]\n",
    "                for next_var in data[var]:\n",
    "                    if next_var not in seen:\n",
    "                        queue.append(next_var)\n",
    "            else:\n",
    "                data[var] = set()\n",
    "\n",
    "            if 'c' in mode:\n",
    "                control[var] = self.control[var]\n",
    "                for next_var in control[var]:\n",
    "                    if next_var not in seen:\n",
    "                        queue.append(next_var)\n",
    "            else:\n",
    "                control[var] = set()\n",
    "\n",
    "        return Dependencies(data, control)"
   ]
  },
  {
   "cell_type": "code",
   "execution_count": null,
   "metadata": {},
   "outputs": [],
   "source": [
    "from bookutils import print_content"
   ]
  },
  {
   "cell_type": "code",
   "execution_count": null,
   "metadata": {},
   "outputs": [],
   "source": [
    "class Dependencies(Dependencies):\n",
    "    def format_var(self, var, current_location=None):\n",
    "        name, location = var\n",
    "        location_name, lineno = location\n",
    "        if location_name != current_location:\n",
    "            return f\"{name} ({location_name}:{lineno})\"\n",
    "        else:\n",
    "            return f\"{name} ({lineno})\""
   ]
  },
  {
   "cell_type": "code",
   "execution_count": null,
   "metadata": {},
   "outputs": [],
   "source": [
    "class Dependencies(Dependencies):\n",
    "    def __str__(self):\n",
    "        self.validate()\n",
    "\n",
    "        out = \"\"\n",
    "        for code_name in self.all_codes():\n",
    "            if out != \"\":\n",
    "                out += \"\\n\"\n",
    "            out += f\"{code_name}():\\n\"\n",
    "\n",
    "            all_vars = list(set(self.data.keys()) | set(self.control.keys()))\n",
    "            all_vars.sort(key=lambda var: var[1][1])\n",
    "\n",
    "            for var in all_vars:\n",
    "                (name, location) = var\n",
    "                var_code, var_lineno = location\n",
    "                if var_code != code_name:\n",
    "                    continue\n",
    "\n",
    "                all_deps = \"\"\n",
    "                for (source, arrow) in [(self.data, \"<=\"), (self.control, \"<-\")]:\n",
    "                    deps = \"\"\n",
    "                    for data_dep in source[var]:\n",
    "                        if deps == \"\":\n",
    "                            deps = f\" {arrow} \"\n",
    "                        else:\n",
    "                            deps += \", \"\n",
    "                        deps += self.format_var(data_dep, code_name)\n",
    "\n",
    "                    if deps != \"\":\n",
    "                        if all_deps != \"\":\n",
    "                            all_deps += \";\"\n",
    "                        all_deps += deps\n",
    "\n",
    "                if all_deps == \"\":\n",
    "                    continue\n",
    "\n",
    "                out += (\"    \" + \n",
    "                        self.format_var(var, code_name) +\n",
    "                        all_deps + \"\\n\")\n",
    "\n",
    "        return out\n",
    "\n",
    "    def __repr__(self):\n",
    "        # Useful for saving and restoring values\n",
    "        return f\"Dependencies({self.data}, {self.control})\""
   ]
  },
  {
   "cell_type": "code",
   "execution_count": null,
   "metadata": {},
   "outputs": [],
   "source": [
    "class Dependencies(Dependencies):\n",
    "    def code(self, item, mode='cd'):\n",
    "        all_vars = self.all_vars()\n",
    "        slice_locations = set(location for name, location in all_vars)\n",
    "\n",
    "        source_lines, first_lineno = inspect.getsourcelines(item)\n",
    "\n",
    "        n = first_lineno\n",
    "        for line in source_lines:\n",
    "            line_location = (item.__name__, n)\n",
    "            if line_location in slice_locations:\n",
    "                prefix = \"* \"\n",
    "            else:\n",
    "                prefix = \"  \"\n",
    "\n",
    "            print(f\"{prefix}{n:4} \", end=\"\")\n",
    "\n",
    "            comment = \"\"\n",
    "            for (mode_control, source, arrow) in [\n",
    "                ('d', self.data, '<='),\n",
    "                ('c', self.control, '<-')\n",
    "            ]:\n",
    "                if mode_control not in mode:\n",
    "                    continue\n",
    "\n",
    "                deps = \"\"\n",
    "                for var in source:\n",
    "                    name, location = var\n",
    "                    if location == line_location:\n",
    "                        for dep_var in source[var]:\n",
    "                            if deps == \"\":\n",
    "                                deps = arrow + \" \"\n",
    "                            else:\n",
    "                                deps += \", \"\n",
    "                            deps += self.format_var(dep_var, item.__name__)\n",
    "\n",
    "                if deps != \"\":\n",
    "                    if comment != \"\":\n",
    "                        comment += \"; \"\n",
    "                    comment += deps\n",
    "\n",
    "            if comment != \"\":\n",
    "                line = line.rstrip() + \"  # \" + comment\n",
    "\n",
    "            print_content(line.rstrip(), '.py')\n",
    "            print()\n",
    "            n += 1"
   ]
  },
  {
   "cell_type": "code",
   "execution_count": null,
   "metadata": {},
   "outputs": [],
   "source": [
    "middle_deps = Dependencies({('z', ('middle', 1)): set(), ('y', ('middle', 1)): set(), ('x', ('middle', 1)): set(), ('<test>', ('middle', 2)): {('y', ('middle', 1)), ('z', ('middle', 1))}, ('<test>', ('middle', 3)): {('y', ('middle', 1)), ('x', ('middle', 1))}, ('<test>', ('middle', 5)): {('z', ('middle', 1)), ('x', ('middle', 1))}, ('<middle() return value>', ('middle', 6)): {('y', ('middle', 1))}}, {('z', ('middle', 1)): set(), ('y', ('middle', 1)): set(), ('x', ('middle', 1)): set(), ('<test>', ('middle', 2)): set(), ('<test>', ('middle', 3)): {('<test>', ('middle', 2))}, ('<test>', ('middle', 5)): {('<test>', ('middle', 3))}, ('<middle() return value>', ('middle', 6)): {('<test>', ('middle', 5))}})"
   ]
  },
  {
   "cell_type": "markdown",
   "metadata": {},
   "source": [
    "### Data Dependencies"
   ]
  },
  {
   "cell_type": "code",
   "execution_count": null,
   "metadata": {},
   "outputs": [],
   "source": [
    "middle_deps.backward_slice('<middle() return value>', mode='d').graph()"
   ]
  },
  {
   "cell_type": "markdown",
   "metadata": {},
   "source": [
    "### Control Dependencies"
   ]
  },
  {
   "cell_type": "code",
   "execution_count": null,
   "metadata": {},
   "outputs": [],
   "source": [
    "middle_deps.backward_slice('<middle() return value>', mode='c').graph()"
   ]
  },
  {
   "cell_type": "markdown",
   "metadata": {},
   "source": [
    "### All Dependencies"
   ]
  },
  {
   "cell_type": "code",
   "execution_count": null,
   "metadata": {},
   "outputs": [],
   "source": [
    "print(middle_deps)"
   ]
  },
  {
   "cell_type": "code",
   "execution_count": null,
   "metadata": {},
   "outputs": [],
   "source": [
    "middle_deps.graph()"
   ]
  },
  {
   "cell_type": "markdown",
   "metadata": {},
   "source": [
    "### Slices"
   ]
  },
  {
   "cell_type": "code",
   "execution_count": null,
   "metadata": {},
   "outputs": [],
   "source": [
    "middle_deps.code(middle)"
   ]
  },
  {
   "cell_type": "markdown",
   "metadata": {
    "button": false,
    "new_sheet": true,
    "run_control": {
     "read_only": false
    }
   },
   "source": [
    "## Instrumenting Code"
   ]
  },
  {
   "cell_type": "code",
   "execution_count": null,
   "metadata": {},
   "outputs": [],
   "source": [
    "import ast\n",
    "import astor"
   ]
  },
  {
   "cell_type": "code",
   "execution_count": null,
   "metadata": {},
   "outputs": [],
   "source": [
    "from bookutils import rich_output"
   ]
  },
  {
   "cell_type": "code",
   "execution_count": null,
   "metadata": {},
   "outputs": [],
   "source": [
    "if rich_output():\n",
    "    from showast import show_ast\n",
    "else:\n",
    "    def show_ast(tree):\n",
    "        ast.dump(tree)"
   ]
  },
  {
   "cell_type": "code",
   "execution_count": null,
   "metadata": {},
   "outputs": [],
   "source": [
    "import math"
   ]
  },
  {
   "cell_type": "code",
   "execution_count": null,
   "metadata": {},
   "outputs": [],
   "source": [
    "import inspect"
   ]
  },
  {
   "cell_type": "code",
   "execution_count": null,
   "metadata": {},
   "outputs": [],
   "source": [
    "middle_tree = ast.parse(inspect.getsource(middle))\n",
    "show_ast(middle_tree)"
   ]
  },
  {
   "cell_type": "code",
   "execution_count": null,
   "metadata": {},
   "outputs": [],
   "source": [
    "from ast import NodeTransformer, Subscript, Name, Load, Store, \\\n",
    "    Assign, Attribute, With, withitem, Return, Index, Str, Call, Expr"
   ]
  },
  {
   "cell_type": "code",
   "execution_count": null,
   "metadata": {},
   "outputs": [],
   "source": [
    "DATA_STORE = '_data'"
   ]
  },
  {
   "cell_type": "code",
   "execution_count": null,
   "metadata": {},
   "outputs": [],
   "source": [
    "print(ast.dump(ast.parse(f\"{DATA_STORE}['x']\")))"
   ]
  },
  {
   "cell_type": "code",
   "execution_count": null,
   "metadata": {},
   "outputs": [],
   "source": [
    "def make_data_access(id, ctx):\n",
    "    return Subscript(\n",
    "        value=Name(id=DATA_STORE, ctx=Load()),\n",
    "        slice=Index(value=Str(s=id)),\n",
    "        ctx=ctx\n",
    "    )"
   ]
  },
  {
   "cell_type": "code",
   "execution_count": null,
   "metadata": {},
   "outputs": [],
   "source": [
    "class TrackAccessTransformer(NodeTransformer):\n",
    "    def visit_Name(self, node):\n",
    "        if node.id in dir(__builtins__):\n",
    "            return node  # Do not change built-in names\n",
    "        return make_data_access(node.id, node.ctx)"
   ]
  },
  {
   "cell_type": "code",
   "execution_count": null,
   "metadata": {},
   "outputs": [],
   "source": [
    "def dump_tree(tree):\n",
    "    ast.fix_missing_locations(tree)\n",
    "    print(astor.to_source(tree))\n",
    "    code = compile(tree, '<string>', 'exec')"
   ]
  },
  {
   "cell_type": "code",
   "execution_count": null,
   "metadata": {},
   "outputs": [],
   "source": [
    "TrackAccessTransformer().visit(middle_tree)\n",
    "dump_tree(middle_tree)"
   ]
  },
  {
   "cell_type": "markdown",
   "metadata": {},
   "source": [
    "### Excursion: More Transformations"
   ]
  },
  {
   "cell_type": "code",
   "execution_count": null,
   "metadata": {},
   "outputs": [],
   "source": [
    "print(ast.dump(ast.parse(f\"{DATA_STORE}.param('x', x)\")))"
   ]
  },
  {
   "cell_type": "code",
   "execution_count": null,
   "metadata": {},
   "outputs": [],
   "source": [
    "class TrackParamsTransformer(NodeTransformer):\n",
    "    def visit_FunctionDef(self, node):\n",
    "        self.generic_visit(node)\n",
    "\n",
    "        named_args = []\n",
    "        for child in ast.iter_child_nodes(node.args):\n",
    "            if isinstance(child, ast.arg):\n",
    "                named_args.append(child.arg)\n",
    "\n",
    "        create_stmts = []\n",
    "        for arg in named_args:\n",
    "            create_stmt = Expr(\n",
    "                value=Call(\n",
    "                    func=Attribute(value=Name(id=DATA_STORE, ctx=Load()),\n",
    "                                   attr='param', ctx=Load()),\n",
    "                    args=[Str(s=arg), Name(id=arg, ctx=Load())],\n",
    "                    keywords=[]\n",
    "                )\n",
    "            )\n",
    "            create_stmts.append(create_stmt)\n",
    "        create_stmts.reverse()\n",
    "\n",
    "        node.body = create_stmts + node.body\n",
    "        return node"
   ]
  },
  {
   "cell_type": "code",
   "execution_count": null,
   "metadata": {},
   "outputs": [],
   "source": [
    "TrackParamsTransformer().visit(middle_tree)\n",
    "dump_tree(middle_tree)"
   ]
  },
  {
   "cell_type": "code",
   "execution_count": null,
   "metadata": {},
   "outputs": [],
   "source": [
    "class TrackReturnTransformer(NodeTransformer):\n",
    "    def __init__(self):\n",
    "        self.function_name = None\n",
    "        super().__init__()\n",
    "\n",
    "    def visit_FunctionDef(self, node):\n",
    "        self.function_name = node.name\n",
    "        self.generic_visit(node)\n",
    "        return node\n",
    "\n",
    "    def return_value(self):\n",
    "        if self.function_name is None:\n",
    "            return \"<return value>\"\n",
    "        else:\n",
    "            return f\"<{self.function_name}() return value>\"\n",
    "\n",
    "    def visit_Return(self, node):\n",
    "        assign_node = Assign(\n",
    "                targets=[make_data_access(self.return_value(), Store())],\n",
    "                value=node.value\n",
    "            )\n",
    "        return_node = Return(\n",
    "                value=make_data_access(self.return_value(), Load())\n",
    "            )\n",
    "        ast.copy_location(assign_node, node)\n",
    "        ast.copy_location(return_node, node)\n",
    "\n",
    "        return [\n",
    "            assign_node,\n",
    "            return_node\n",
    "        ]"
   ]
  },
  {
   "cell_type": "code",
   "execution_count": null,
   "metadata": {},
   "outputs": [],
   "source": [
    "TrackReturnTransformer().visit(middle_tree)\n",
    "dump_tree(middle_tree)"
   ]
  },
  {
   "cell_type": "code",
   "execution_count": null,
   "metadata": {},
   "outputs": [],
   "source": [
    "class TrackControlTransformer(NodeTransformer):\n",
    "    def make_with(self, block):\n",
    "        if len(block) == 0:\n",
    "            return []\n",
    "\n",
    "        return [With(\n",
    "            items=[\n",
    "                withitem(\n",
    "                    context_expr=Name(id=DATA_STORE, ctx=Load()),\n",
    "                    optional_vars=None)\n",
    "            ],\n",
    "            body=block\n",
    "        )]\n",
    "\n",
    "    def make_test(self, test):\n",
    "        return Call(func=Attribute(value=Name(id=DATA_STORE, ctx=Load()),\n",
    "                                   attr='test',\n",
    "                                   ctx=Load()),\n",
    "                     args=[test],\n",
    "                     keywords=[])\n",
    "\n",
    "    def visit_If(self, node):\n",
    "        self.generic_visit(node)\n",
    "        node.test = self.make_test(node.test)\n",
    "        node.body = self.make_with(node.body)\n",
    "        node.orelse = self.make_with(node.orelse)\n",
    "        return node\n",
    "\n",
    "    def visit_While(self, node):\n",
    "        self.generic_visit(node)\n",
    "        node.test = self.make_test(node.test)\n",
    "        node.body = self.make_with(node.body)\n",
    "        node.orelse = self.make_with(node.orelse)\n",
    "        return node\n",
    "\n",
    "    def visit_For(self, node):\n",
    "        self.generic_visit(node)\n",
    "        node.body = self.make_with(node.body)\n",
    "        node.orelse = self.make_with(node.orelse)\n",
    "        return node"
   ]
  },
  {
   "cell_type": "code",
   "execution_count": null,
   "metadata": {},
   "outputs": [],
   "source": [
    "TrackControlTransformer().visit(middle_tree)\n",
    "dump_tree(middle_tree)"
   ]
  },
  {
   "cell_type": "code",
   "execution_count": null,
   "metadata": {},
   "outputs": [],
   "source": [
    "class TrackCallTransformer(NodeTransformer):\n",
    "    def make_call(self, node, fun):\n",
    "        return Call(func=Attribute(value=Name(id=DATA_STORE,\n",
    "                                              ctx=Load()),\n",
    "                                   attr=fun,\n",
    "                                   ctx=Load()),\n",
    "                     args=[node],\n",
    "                     keywords=[])\n",
    "\n",
    "    def visit_Call(self, node):\n",
    "        self.generic_visit(node)\n",
    "\n",
    "        new_args = []\n",
    "        for arg in node.args:\n",
    "            new_args.append(self.make_call(arg, 'arg'))\n",
    "        node.args = new_args\n",
    "\n",
    "        for kw in node.keywords:\n",
    "            kw.value = self.make_call(kw.value, 'arg')\n",
    "\n",
    "        node.func = self.make_call(node.func, 'call')\n",
    "        return self.make_call(node, 'ret')"
   ]
  },
  {
   "cell_type": "code",
   "execution_count": null,
   "metadata": {},
   "outputs": [],
   "source": [
    "def test_call():\n",
    "    x = middle(1, 2, middle(1, 2, 3))"
   ]
  },
  {
   "cell_type": "code",
   "execution_count": null,
   "metadata": {},
   "outputs": [],
   "source": [
    "call_tree = ast.parse(inspect.getsource(test_call))\n",
    "dump_tree(call_tree)"
   ]
  },
  {
   "cell_type": "code",
   "execution_count": null,
   "metadata": {},
   "outputs": [],
   "source": [
    "TrackCallTransformer().visit(call_tree)\n",
    "dump_tree(call_tree)"
   ]
  },
  {
   "cell_type": "code",
   "execution_count": null,
   "metadata": {},
   "outputs": [],
   "source": [
    "def print_ast_ids(tree):\n",
    "    for node in ast.walk(tree):\n",
    "        print(node)\n",
    "        try:\n",
    "            print(astor.to_source(node))\n",
    "        except AttributeError:\n",
    "            print(\"(No source)\\n\")"
   ]
  },
  {
   "cell_type": "code",
   "execution_count": null,
   "metadata": {},
   "outputs": [],
   "source": [
    "# print_ast_ids(new_square_root_tree)"
   ]
  },
  {
   "cell_type": "markdown",
   "metadata": {},
   "source": [
    "### End of Excursion"
   ]
  },
  {
   "cell_type": "code",
   "execution_count": null,
   "metadata": {},
   "outputs": [],
   "source": [
    "dump_tree(middle_tree)"
   ]
  },
  {
   "cell_type": "markdown",
   "metadata": {},
   "source": [
    "## Tracking Data"
   ]
  },
  {
   "cell_type": "code",
   "execution_count": null,
   "metadata": {},
   "outputs": [],
   "source": [
    "class DataStore(dict):\n",
    "    def __init__(self, *args, log=False):\n",
    "        super().__init__(*args)\n",
    "        self.log = log\n",
    "\n",
    "    def caller_location(self):\n",
    "        frame = inspect.currentframe()\n",
    "        while ('self' in frame.f_locals and \n",
    "               isinstance(frame.f_locals['self'], self.__class__)):\n",
    "               frame = frame.f_back\n",
    "        return frame.f_code.co_name, frame.f_lineno\n",
    "\n",
    "    def __getitem__(self, name):\n",
    "        if self.log:\n",
    "            code_name, lineno = self.caller_location()\n",
    "            print(f\"{code_name}:{lineno}: getting {name}\")\n",
    "\n",
    "        if name in self:\n",
    "            return super().__getitem__(name)\n",
    "        else:\n",
    "            return globals()[name]\n",
    "\n",
    "    def __setitem__(self, name, value):\n",
    "        if self.log:\n",
    "            code_name, lineno = self.caller_location()\n",
    "            print(f\"{code_name}:{lineno}: setting {name}\")\n",
    "\n",
    "        return super().__setitem__(name, value)"
   ]
  },
  {
   "cell_type": "code",
   "execution_count": null,
   "metadata": {},
   "outputs": [],
   "source": [
    "class DataStore(DataStore):\n",
    "    def test(self, cond):\n",
    "        if self.log:\n",
    "            code_name, lineno = self.caller_location()\n",
    "            print(f\"{code_name}:{lineno}: testing condition\")\n",
    "\n",
    "        return cond\n",
    "\n",
    "    def param(self, name, value):\n",
    "        if self.log:\n",
    "            code_name, lineno = self.caller_location()\n",
    "            print(f\"{code_name}:{lineno}: initializing {name}\")\n",
    "\n",
    "        return self.__setitem__(name, value)\n",
    "\n",
    "    def arg(self, value):\n",
    "        if self.log:\n",
    "            code_name, lineno = self.caller_location()\n",
    "            print(f\"{code_name}:{lineno}: pushing arg\")\n",
    "\n",
    "        return value"
   ]
  },
  {
   "cell_type": "code",
   "execution_count": null,
   "metadata": {},
   "outputs": [],
   "source": [
    "class DataStore(DataStore):\n",
    "    def ret(self, value):\n",
    "        if self.log:\n",
    "            code_name, lineno = self.caller_location()\n",
    "            print(f\"{code_name}:{lineno}: returned from call\")\n",
    "\n",
    "        return value"
   ]
  },
  {
   "cell_type": "code",
   "execution_count": null,
   "metadata": {},
   "outputs": [],
   "source": [
    "class DataStore(DataStore):\n",
    "    def call(self, fun):\n",
    "        if self.log:\n",
    "            code_name, lineno = self.caller_location()\n",
    "            print(f\"{code_name}:{lineno}: calling {fun}\")\n",
    "\n",
    "        return fun"
   ]
  },
  {
   "cell_type": "code",
   "execution_count": null,
   "metadata": {},
   "outputs": [],
   "source": [
    "class DataStore(DataStore):\n",
    "    def __repr__(self):\n",
    "        return super().__repr__()\n",
    "\n",
    "    def __enter__(self):\n",
    "        pass\n",
    "\n",
    "    def __exit__(self, exc_type, exc_value, traceback):\n",
    "        pass"
   ]
  },
  {
   "cell_type": "code",
   "execution_count": null,
   "metadata": {},
   "outputs": [],
   "source": [
    "_data = DataStore(log=True)"
   ]
  },
  {
   "cell_type": "code",
   "execution_count": null,
   "metadata": {},
   "outputs": [],
   "source": [
    "middle_code = compile(middle_tree, '<string>', 'exec')"
   ]
  },
  {
   "cell_type": "code",
   "execution_count": null,
   "metadata": {},
   "outputs": [],
   "source": [
    "original_middle = middle"
   ]
  },
  {
   "cell_type": "code",
   "execution_count": null,
   "metadata": {},
   "outputs": [],
   "source": [
    "print_content(inspect.getsource(middle), '.py', start_line_number=1)"
   ]
  },
  {
   "cell_type": "code",
   "execution_count": null,
   "metadata": {},
   "outputs": [],
   "source": [
    "exec(middle_code, globals())\n",
    "middle(2, 1, 3)"
   ]
  },
  {
   "cell_type": "code",
   "execution_count": null,
   "metadata": {},
   "outputs": [],
   "source": [
    "del _data\n",
    "del middle_code\n",
    "middle = original_middle"
   ]
  },
  {
   "cell_type": "code",
   "execution_count": null,
   "metadata": {},
   "outputs": [],
   "source": [
    "middle(2, 1, 3)"
   ]
  },
  {
   "cell_type": "markdown",
   "metadata": {},
   "source": [
    "## Tracking Dependencies"
   ]
  },
  {
   "cell_type": "code",
   "execution_count": null,
   "metadata": {},
   "outputs": [],
   "source": [
    "import itertools"
   ]
  },
  {
   "cell_type": "code",
   "execution_count": null,
   "metadata": {},
   "outputs": [],
   "source": [
    "class DataTracker(DataStore):\n",
    "    def __init__(self, *args, **kwargs):\n",
    "        super().__init__(*args, **kwargs)\n",
    "        self.origins = {}\n",
    "        self.data_dependencies = {}\n",
    "        self.control_dependencies = {}\n",
    "\n",
    "        self.data = [[]]  # Data stack\n",
    "        self.control = [[]]  # Control stack\n",
    "        self.last_read = []\n",
    "        self.last_checked_location = None\n",
    "        self._ignore_location_change = False\n",
    "\n",
    "        self.args = []  # Argument stack"
   ]
  },
  {
   "cell_type": "code",
   "execution_count": null,
   "metadata": {},
   "outputs": [],
   "source": [
    "class DataTracker(DataTracker):\n",
    "    def clear_read(self):\n",
    "        if self.log:\n",
    "            direct_caller = inspect.currentframe().f_back.f_code.co_name\n",
    "            code_name, lineno = self.caller_location()\n",
    "            print(f\"{code_name}:{lineno}: \"\n",
    "                  f\"clearing read variables {self.last_read} \"\n",
    "                  f\"(from {direct_caller})\")\n",
    "\n",
    "        self.last_read = []\n",
    "\n",
    "    def check_location(self):\n",
    "        location = self.caller_location()\n",
    "        if self.last_checked_location != location:\n",
    "            if self._ignore_location_change:\n",
    "                self._ignore_location_change = False\n",
    "            else:\n",
    "                self.clear_read()\n",
    "\n",
    "        self.last_checked_location = location\n",
    "\n",
    "    def ignore_next_location_change(self):\n",
    "        self._ignore_location_change = True\n",
    "\n",
    "    def ignore_location_change(self):\n",
    "        self.last_checked_location = self.caller_location()\n",
    "\n",
    "    def __getitem__(self, name):\n",
    "        self.check_location()\n",
    "        self.last_read.append(name)\n",
    "        return super().__getitem__(name)"
   ]
  },
  {
   "cell_type": "code",
   "execution_count": null,
   "metadata": {},
   "outputs": [],
   "source": [
    "class DataTracker(DataTracker):\n",
    "    def __setitem__(self, name, value):\n",
    "        def add_dependencies(dependencies, vars_read, tp):\n",
    "            for var_read in vars_read:\n",
    "                if var_read in self.origins:\n",
    "                    origin = self.origins[var_read]\n",
    "                    dependencies.add((var_read, origin))\n",
    "                    if self.log:\n",
    "                        origin_name, origin_lineno = origin\n",
    "                        code_name, lineno = self.caller_location()\n",
    "                        print(f\"{code_name}:{lineno}: \"\n",
    "                              f\"new {tp} dependency: \"\n",
    "                              f\"{name} <= {var_read}@\"\n",
    "                              f\"{origin_name}:{origin_lineno}\")\n",
    "\n",
    "        self.check_location()\n",
    "        ret = super().__setitem__(name, value)\n",
    "        location = self.caller_location()\n",
    "\n",
    "        if (name, location) not in self.data_dependencies:\n",
    "            self.data_dependencies[(name, location)] = set()\n",
    "        if (name, location) not in self.control_dependencies:\n",
    "            self.control_dependencies[(name, location)] = set()\n",
    "\n",
    "        add_dependencies(self.data_dependencies[(name, location)],\n",
    "                         self.last_read, tp=\"data\")\n",
    "        add_dependencies(self.control_dependencies[(name, location)],\n",
    "                         itertools.chain.from_iterable(self.control),\n",
    "                         tp=\"control\")\n",
    "\n",
    "        self.origins[name] = location\n",
    "\n",
    "        # Reset read info for next line\n",
    "        self.clear_read()\n",
    "\n",
    "        return ret"
   ]
  },
  {
   "cell_type": "code",
   "execution_count": null,
   "metadata": {},
   "outputs": [],
   "source": [
    "class DataTracker(DataTracker):\n",
    "    TEST = '<test>'\n",
    "\n",
    "    def test(self, value):\n",
    "        self.__setitem__(self.TEST, value)\n",
    "        self.__getitem__(self.TEST)\n",
    "        return super().test(value)\n",
    "\n",
    "    def __enter__(self):\n",
    "        self.control.append(self.last_read)\n",
    "        self.clear_read()\n",
    "        super().__enter__()\n",
    "\n",
    "    def __exit__(self, exc_type, exc_value, traceback):\n",
    "        self.clear_read()\n",
    "        self.last_read = self.control.pop()\n",
    "        self.ignore_next_location_change()\n",
    "        super().__exit__(exc_type, exc_value, traceback)\n",
    "\n",
    "    def dependencies(self):\n",
    "        return Dependencies(self.data_dependencies,\n",
    "                            self.control_dependencies)"
   ]
  },
  {
   "cell_type": "code",
   "execution_count": null,
   "metadata": {},
   "outputs": [],
   "source": [
    "class DataTracker(DataTracker):\n",
    "    def call(self, fun):\n",
    "        # Save context\n",
    "        if self.log:\n",
    "            code_name, lineno = self.caller_location()\n",
    "            print(f\"{code_name}:{lineno}: \"\n",
    "                  f\"saving read variables {self.last_read}\")\n",
    "\n",
    "        self.data.append(self.last_read)\n",
    "        self.clear_read()\n",
    "        self.ignore_next_location_change()\n",
    "\n",
    "        return super().call(fun)\n",
    "\n",
    "    def ret(self, value):\n",
    "        super().ret(value)\n",
    "\n",
    "        # Restore old context and add return value\n",
    "        ret_name = None\n",
    "        for var in self.last_read:\n",
    "            if var.startswith(\"<\"):\n",
    "                ret_name = var\n",
    "\n",
    "        self.last_read = self.data.pop()\n",
    "        self.last_read.append(ret_name)\n",
    "        self.ignore_location_change()\n",
    "\n",
    "        if self.log:\n",
    "            code_name, lineno = self.caller_location()\n",
    "            print(f\"{code_name}:{lineno}: \"\n",
    "                  f\"restored read variables {self.last_read}\")\n",
    "\n",
    "        return value"
   ]
  },
  {
   "cell_type": "code",
   "execution_count": null,
   "metadata": {},
   "outputs": [],
   "source": [
    "class DataTracker(DataTracker):\n",
    "    def arg(self, value):\n",
    "        if self.log:\n",
    "            code_name, lineno = self.caller_location()\n",
    "            print(f\"{code_name}:{lineno}: \"\n",
    "                  f\"saving arg reads {self.last_read}\")\n",
    "\n",
    "        self.args.append(self.last_read)\n",
    "        self.clear_read()\n",
    "        return super().arg(value)\n",
    "\n",
    "    def param(self, name, value):\n",
    "        self.clear_read()\n",
    "        if self.args:\n",
    "            self.last_read = self.args.pop()\n",
    "            self.ignore_location_change()\n",
    "\n",
    "        if self.log:\n",
    "            code_name, lineno = self.caller_location()\n",
    "            print(f\"{code_name}:{lineno}: \"\n",
    "                  f\"restored param {self.last_read}\")\n",
    "\n",
    "        return super().param(name, value)"
   ]
  },
  {
   "cell_type": "markdown",
   "metadata": {},
   "source": [
    "#### Diagnostics"
   ]
  },
  {
   "cell_type": "code",
   "execution_count": null,
   "metadata": {},
   "outputs": [],
   "source": [
    "import re\n",
    "import sys"
   ]
  },
  {
   "cell_type": "code",
   "execution_count": null,
   "metadata": {
    "ipub": {
     "ignore": true
    }
   },
   "outputs": [],
   "source": [
    "class Dependencies(Dependencies):\n",
    "    def validate(self):\n",
    "        for var in self.all_vars():\n",
    "            source = self.source(var)\n",
    "            for dep_var in self.data[var] | self.control[var]:\n",
    "                dep_name, dep_location = dep_var\n",
    "\n",
    "                if dep_name == DataTracker.TEST:\n",
    "                    continue\n",
    "\n",
    "                if dep_name.endswith('return value>'):\n",
    "                    if source.find('(') < 0:\n",
    "                        print(f\"Warning: {self.format_var(var)} \"\n",
    "                              f\"depends on {self.format_var(dep_var)}, \"\n",
    "                              f\"but {repr(source)} does not \"\n",
    "                              f\"seem to have a call\",\n",
    "                              file=sys.stderr\n",
    "                             )\n",
    "                    continue\n",
    "\n",
    "                if source.startswith('def'):\n",
    "                    continue   # function call\n",
    "\n",
    "                rx = re.compile(r'\\b' + dep_name + r'\\b')\n",
    "                if rx.search(source) is None:\n",
    "                    print(f\"Warning: {self.format_var(var)} \"\n",
    "                          f\"depends on {self.format_var(dep_var)}, \"\n",
    "                          f\"but {repr(dep_name)} does not occur \"\n",
    "                          f\"in {repr(source)}\",\n",
    "                          file=sys.stderr\n",
    "                         )"
   ]
  },
  {
   "cell_type": "markdown",
   "metadata": {},
   "source": [
    "## Slicing Code"
   ]
  },
  {
   "cell_type": "code",
   "execution_count": null,
   "metadata": {},
   "outputs": [],
   "source": [
    "class Instrumenter(object):\n",
    "    def __init__(self, *items_to_instrument, log=False):\n",
    "        self.log = log\n",
    "        self.items_to_instrument = items_to_instrument\n",
    "\n",
    "    def __enter__(self):\n",
    "        \"\"\"Instrument sources\"\"\"\n",
    "        for item in self.items_to_instrument:\n",
    "            self.instrument(item)\n",
    "        return self\n",
    "\n",
    "    def __exit__(self, exc_type, exc_value, traceback):\n",
    "        \"\"\"Restore sources\"\"\"\n",
    "        self.restore()\n",
    "\n",
    "    def restore(self):\n",
    "        for item in self.items_to_instrument:\n",
    "            globals()[item.__name__] = item\n",
    "\n",
    "    def instrument(self, item):\n",
    "        if self.log:\n",
    "            print(\"Instrumenting\", item)"
   ]
  },
  {
   "cell_type": "code",
   "execution_count": null,
   "metadata": {},
   "outputs": [],
   "source": [
    "with Instrumenter(middle) as ins:\n",
    "    pass"
   ]
  },
  {
   "cell_type": "code",
   "execution_count": null,
   "metadata": {},
   "outputs": [],
   "source": [
    "class Slicer(Instrumenter):\n",
    "    def __init__(self, *items_to_instrument, \n",
    "                 data_tracker=None,\n",
    "                 log=False):\n",
    "        super().__init__(*items_to_instrument, log=log)\n",
    "        if len(items_to_instrument) == 0:\n",
    "            raise ValueError(\"Need one or more items to instrument\")\n",
    "\n",
    "        if data_tracker is None:\n",
    "            data_tracker = DataTracker(log=(log > 1))\n",
    "        self.data_tracker = data_tracker\n",
    "        self.data_store = None\n",
    "\n",
    "    def instrument(self, item):\n",
    "        source_lines, lineno = inspect.getsourcelines(item)\n",
    "        tree = ast.parse(\"\".join(source_lines))\n",
    "        ast.increment_lineno(tree, lineno - 1)\n",
    "\n",
    "        TrackAccessTransformer().visit(tree)\n",
    "        TrackCallTransformer().visit(tree)\n",
    "        TrackControlTransformer().visit(tree)\n",
    "        TrackReturnTransformer().visit(tree)\n",
    "        TrackParamsTransformer().visit(tree)\n",
    "\n",
    "        ast.fix_missing_locations(tree)\n",
    "        # print_ast_ids(tree)\n",
    "\n",
    "        if self.log:\n",
    "            print(f\"Instrumenting {item}:\")\n",
    "\n",
    "            if self.log > 1:\n",
    "                n = lineno\n",
    "                for line in source_lines:\n",
    "                    print(f\"{n:4} {line.rstrip()}\")\n",
    "                    n += 1\n",
    "                print()\n",
    "\n",
    "            print(astor.to_source(tree))\n",
    "\n",
    "        code = compile(tree, '<string>', 'exec')\n",
    "        exec(code, globals())\n",
    "        globals()[DATA_STORE] = self.data_tracker\n",
    "\n",
    "    def restore(self):\n",
    "        if DATA_STORE in globals():\n",
    "            self.data_store = globals()[DATA_STORE]\n",
    "            del globals()[DATA_STORE]\n",
    "        super().restore()\n",
    "\n",
    "    def dependencies(self):\n",
    "        if self.data_store is None:\n",
    "            return Dependencies({}, {})\n",
    "        return self.data_store.dependencies()\n",
    "\n",
    "    def code(self, *args, **kwargs):\n",
    "        first = True\n",
    "        for item in self.items_to_instrument:\n",
    "            if not first:\n",
    "                print()\n",
    "            self.dependencies().code(item, *args, **kwargs)\n",
    "            first = False\n",
    "\n",
    "    def graph(self, *args, **kwargs):\n",
    "        return self.dependencies().graph(*args, **kwargs)"
   ]
  },
  {
   "cell_type": "code",
   "execution_count": null,
   "metadata": {},
   "outputs": [],
   "source": [
    "with Slicer(middle) as slicer:\n",
    "    m = middle(2, 1, 3)\n",
    "m"
   ]
  },
  {
   "cell_type": "code",
   "execution_count": null,
   "metadata": {},
   "outputs": [],
   "source": [
    "print(slicer.dependencies())"
   ]
  },
  {
   "cell_type": "code",
   "execution_count": null,
   "metadata": {},
   "outputs": [],
   "source": [
    "slicer.dependencies()"
   ]
  },
  {
   "cell_type": "code",
   "execution_count": null,
   "metadata": {},
   "outputs": [],
   "source": [
    "slicer.code()"
   ]
  },
  {
   "cell_type": "code",
   "execution_count": null,
   "metadata": {},
   "outputs": [],
   "source": [
    "middle(2, 1, 3)"
   ]
  },
  {
   "cell_type": "code",
   "execution_count": null,
   "metadata": {},
   "outputs": [],
   "source": [
    "with Slicer(middle) as middle_slicer:\n",
    "    y = middle(2, 1, 3)"
   ]
  },
  {
   "cell_type": "code",
   "execution_count": null,
   "metadata": {},
   "outputs": [],
   "source": [
    "middle_slicer.graph()"
   ]
  },
  {
   "cell_type": "code",
   "execution_count": null,
   "metadata": {},
   "outputs": [],
   "source": [
    "print(middle_slicer.dependencies())"
   ]
  },
  {
   "cell_type": "markdown",
   "metadata": {},
   "source": [
    "## More Examples"
   ]
  },
  {
   "cell_type": "code",
   "execution_count": null,
   "metadata": {},
   "outputs": [],
   "source": [
    "from Assertions import square_root"
   ]
  },
  {
   "cell_type": "code",
   "execution_count": null,
   "metadata": {},
   "outputs": [],
   "source": [
    "with Slicer(square_root, log=True) as root_slicer:\n",
    "    y = square_root(2.0)"
   ]
  },
  {
   "cell_type": "code",
   "execution_count": null,
   "metadata": {},
   "outputs": [],
   "source": [
    "root_slicer.graph()"
   ]
  },
  {
   "cell_type": "markdown",
   "metadata": {},
   "source": [
    "FIXME: How does `<test>` control itself?"
   ]
  },
  {
   "cell_type": "code",
   "execution_count": null,
   "metadata": {},
   "outputs": [],
   "source": [
    "root_slicer.code()"
   ]
  },
  {
   "cell_type": "code",
   "execution_count": null,
   "metadata": {},
   "outputs": [],
   "source": [
    "root_slicer.dependencies()"
   ]
  },
  {
   "cell_type": "code",
   "execution_count": null,
   "metadata": {},
   "outputs": [],
   "source": [
    "from Intro_Debugging import remove_html_markup"
   ]
  },
  {
   "cell_type": "code",
   "execution_count": null,
   "metadata": {},
   "outputs": [],
   "source": [
    "with Slicer(remove_html_markup) as rhm_slicer:\n",
    "    s = remove_html_markup(\"<foo>bar</foo>\")"
   ]
  },
  {
   "cell_type": "code",
   "execution_count": null,
   "metadata": {},
   "outputs": [],
   "source": [
    "rhm_slicer.graph()"
   ]
  },
  {
   "cell_type": "code",
   "execution_count": null,
   "metadata": {},
   "outputs": [],
   "source": [
    "rhm_slicer.code()"
   ]
  },
  {
   "cell_type": "code",
   "execution_count": null,
   "metadata": {},
   "outputs": [],
   "source": [
    "rhm_slicer.dependencies().backward_slice('tag', mode='c').graph()"
   ]
  },
  {
   "cell_type": "code",
   "execution_count": null,
   "metadata": {},
   "outputs": [],
   "source": [
    "def add_to(n, m):\n",
    "    n += m\n",
    "    return n"
   ]
  },
  {
   "cell_type": "code",
   "execution_count": null,
   "metadata": {},
   "outputs": [],
   "source": [
    "def mul_with(x, y):\n",
    "    x *= y\n",
    "    return x"
   ]
  },
  {
   "cell_type": "code",
   "execution_count": null,
   "metadata": {},
   "outputs": [],
   "source": [
    "def test_math():\n",
    "    return mul_with(1, add_to(2, 2))"
   ]
  },
  {
   "cell_type": "code",
   "execution_count": null,
   "metadata": {},
   "outputs": [],
   "source": [
    "with Slicer(add_to, mul_with, test_math) as math_slicer:\n",
    "    test_math()"
   ]
  },
  {
   "cell_type": "code",
   "execution_count": null,
   "metadata": {},
   "outputs": [],
   "source": [
    "math_slicer.graph()"
   ]
  },
  {
   "cell_type": "code",
   "execution_count": null,
   "metadata": {},
   "outputs": [],
   "source": [
    "math_slicer.code()"
   ]
  },
  {
   "cell_type": "code",
   "execution_count": null,
   "metadata": {},
   "outputs": [],
   "source": [
    "print(math_slicer.dependencies())"
   ]
  },
  {
   "cell_type": "markdown",
   "metadata": {},
   "source": [
    "## Things that do not Work"
   ]
  },
  {
   "cell_type": "markdown",
   "metadata": {},
   "source": [
    "### Multiple Assignments"
   ]
  },
  {
   "cell_type": "code",
   "execution_count": null,
   "metadata": {},
   "outputs": [],
   "source": [
    "def test_multiple_assignment():\n",
    "    x, y = 0, 1\n",
    "    t = (x * x, y * y)\n",
    "    return t[x]"
   ]
  },
  {
   "cell_type": "code",
   "execution_count": null,
   "metadata": {},
   "outputs": [],
   "source": [
    "with Slicer(test_multiple_assignment) as multi_slicer:\n",
    "    test_multiple_assignment()"
   ]
  },
  {
   "cell_type": "code",
   "execution_count": null,
   "metadata": {},
   "outputs": [],
   "source": [
    "multi_slicer.graph()"
   ]
  },
  {
   "cell_type": "markdown",
   "metadata": {},
   "source": [
    "### Attributes"
   ]
  },
  {
   "cell_type": "code",
   "execution_count": null,
   "metadata": {},
   "outputs": [],
   "source": [
    "class X(object):\n",
    "    pass"
   ]
  },
  {
   "cell_type": "code",
   "execution_count": null,
   "metadata": {},
   "outputs": [],
   "source": [
    "def test_attributes(y):\n",
    "    x = X()\n",
    "    x.attr = y\n",
    "    return x.attr"
   ]
  },
  {
   "cell_type": "code",
   "execution_count": null,
   "metadata": {},
   "outputs": [],
   "source": [
    "with Slicer(test_attributes, log=True) as attr_slicer:\n",
    "    test_attributes(10)"
   ]
  },
  {
   "cell_type": "code",
   "execution_count": null,
   "metadata": {},
   "outputs": [],
   "source": [
    "attr_slicer.graph()"
   ]
  },
  {
   "cell_type": "markdown",
   "metadata": {},
   "source": [
    "TODO: Auto-slice things – in \n",
    "\n",
    "```python\n",
    "with Slicer():\n",
    "   foo()\n",
    "```\n",
    "identify all calls in the code and add them to the instrumentation.\n",
    "\n",
    "1. Get source code - won't work; will not contain body\n",
    "2. Use a decorator? (works only for functions...)\n",
    "3. Replace on the fly – won't work (or will it?), as we cannot change code once it executes"
   ]
  },
  {
   "cell_type": "code",
   "execution_count": null,
   "metadata": {},
   "outputs": [],
   "source": [
    "from ExpectError import ExpectError"
   ]
  },
  {
   "cell_type": "code",
   "execution_count": null,
   "metadata": {},
   "outputs": [],
   "source": [
    "with ExpectError():\n",
    "    with Slicer() as slicer:\n",
    "        y = square_root(9)"
   ]
  },
  {
   "cell_type": "markdown",
   "metadata": {},
   "source": [
    "TODO: Create a probabilistic dependence graph for statistical debugging :-)"
   ]
  },
  {
   "cell_type": "markdown",
   "metadata": {},
   "source": [
    "## Synopsis"
   ]
  },
  {
   "cell_type": "markdown",
   "metadata": {},
   "source": [
    "_For those only interested in using the code in this chapter (without wanting to know how it works), give an example.  This will be copied to the beginning of the chapter (before the first section) as text with rendered input and output._"
   ]
  },
  {
   "cell_type": "markdown",
   "metadata": {
    "button": false,
    "new_sheet": true,
    "run_control": {
     "read_only": false
    }
   },
   "source": [
    "## Lessons Learned\n",
    "\n",
    "* _Lesson one_\n",
    "* _Lesson two_\n",
    "* _Lesson three_"
   ]
  },
  {
   "cell_type": "markdown",
   "metadata": {
    "button": false,
    "new_sheet": false,
    "run_control": {
     "read_only": false
    }
   },
   "source": [
    "## Next Steps\n",
    "\n",
    "_Link to subsequent chapters (notebooks) here, as in:_\n",
    "\n",
    "* [use _mutations_ on existing inputs to get more valid inputs](MutationFuzzer.ipynb)\n",
    "* [use _grammars_ (i.e., a specification of the input format) to get even more valid inputs](Grammars.ipynb)\n",
    "* [reduce _failing inputs_ for efficient debugging](Reducer.ipynb)\n"
   ]
  },
  {
   "cell_type": "markdown",
   "metadata": {},
   "source": [
    "## Background\n",
    "\n",
    "_Cite relevant works in the literature and put them into context, as in:_\n",
    "\n",
    "The idea of ensuring that each expansion in the grammar is used at least once goes back to Burkhardt \\cite{Burkhardt1967}, to be later rediscovered by Paul Purdom \\cite{Purdom1972}.\n",
    "\n",
    "@INPROCEEDINGS{6899220,\n",
    "  author={Z. {Chen} and L. {Chen} and Y. {Zhou} and Z. {Xu} and W. C. {Chu} and B. {Xu}},\n",
    "  booktitle={2014 IEEE 38th Annual Computer Software and Applications Conference}, \n",
    "  title={Dynamic Slicing of Python Programs}, \n",
    "  year={2014},\n",
    "  volume={},\n",
    "  number={},\n",
    "  pages={219-228},\n",
    "  doi={10.1109/COMPSAC.2014.30}\n",
    "}\n",
    "\n"
   ]
  },
  {
   "cell_type": "markdown",
   "metadata": {
    "button": false,
    "new_sheet": true,
    "run_control": {
     "read_only": false
    }
   },
   "source": [
    "## Exercises\n",
    "\n",
    "_Close the chapter with a few exercises such that people have things to do.  To make the solutions hidden (to be revealed by the user), have them start with_\n",
    "\n",
    "```\n",
    "**Solution.**\n",
    "```\n",
    "\n",
    "_Your solution can then extend up to the next title (i.e., any markdown cell starting with `#`)._\n",
    "\n",
    "_Running `make metadata` will automatically add metadata to the cells such that the cells will be hidden by default, and can be uncovered by the user.  The button will be introduced above the solution._"
   ]
  },
  {
   "cell_type": "markdown",
   "metadata": {
    "button": false,
    "new_sheet": false,
    "run_control": {
     "read_only": false
    }
   },
   "source": [
    "### Exercise 1: _Title_\n",
    "\n",
    "_Text of the exercise_"
   ]
  },
  {
   "cell_type": "code",
   "execution_count": null,
   "metadata": {
    "cell_style": "center"
   },
   "outputs": [],
   "source": [
    "# Some code that is part of the exercise\n",
    "pass"
   ]
  },
  {
   "cell_type": "markdown",
   "metadata": {
    "solution2": "hidden",
    "solution2_first": true
   },
   "source": [
    "_Some more text for the exercise_"
   ]
  },
  {
   "cell_type": "markdown",
   "metadata": {
    "slideshow": {
     "slide_type": "skip"
    },
    "solution2": "hidden"
   },
   "source": [
    "**Solution.** _Some text for the solution_"
   ]
  },
  {
   "cell_type": "code",
   "execution_count": null,
   "metadata": {
    "cell_style": "split",
    "slideshow": {
     "slide_type": "skip"
    },
    "solution2": "hidden"
   },
   "outputs": [],
   "source": [
    "# Some code for the solution\n",
    "2 + 2"
   ]
  },
  {
   "cell_type": "markdown",
   "metadata": {
    "slideshow": {
     "slide_type": "skip"
    },
    "solution2": "hidden"
   },
   "source": [
    "_Some more text for the solution_"
   ]
  },
  {
   "cell_type": "markdown",
   "metadata": {
    "button": false,
    "new_sheet": false,
    "run_control": {
     "read_only": false
    },
    "solution": "hidden",
    "solution2": "hidden",
    "solution2_first": true,
    "solution_first": true
   },
   "source": [
    "### Exercise 2: _Title_\n",
    "\n",
    "_Text of the exercise_"
   ]
  },
  {
   "cell_type": "markdown",
   "metadata": {
    "button": false,
    "new_sheet": false,
    "run_control": {
     "read_only": false
    },
    "slideshow": {
     "slide_type": "skip"
    },
    "solution": "hidden",
    "solution2": "hidden"
   },
   "source": [
    "**Solution.** _Solution for the exercise_"
   ]
  }
 ],
 "metadata": {
  "ipub": {
   "bibliography": "fuzzingbook.bib",
   "toc": true
  },
  "kernelspec": {
   "display_name": "Python 3",
   "language": "python",
   "name": "python3"
  },
  "language_info": {
   "codemirror_mode": {
    "name": "ipython",
    "version": 3
   },
   "file_extension": ".py",
   "mimetype": "text/x-python",
   "name": "python",
   "nbconvert_exporter": "python",
   "pygments_lexer": "ipython3",
   "version": "3.6.10"
  },
  "toc": {
   "base_numbering": 1,
   "nav_menu": {},
   "number_sections": true,
   "sideBar": true,
   "skip_h1_title": true,
   "title_cell": "",
   "title_sidebar": "Contents",
   "toc_cell": false,
   "toc_position": {},
   "toc_section_display": true,
   "toc_window_display": true
  },
  "toc-autonumbering": false
 },
 "nbformat": 4,
 "nbformat_minor": 4
}
