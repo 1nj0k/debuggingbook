{
 "cells": [
  {
   "cell_type": "markdown",
   "metadata": {
    "button": false,
    "new_sheet": false,
    "run_control": {
     "read_only": false
    },
    "slideshow": {
     "slide_type": "slide"
    }
   },
   "source": [
    "# Debugging Performance Issues\n",
    "\n",
    "Most chapters of this book deal with _functional_ issues – that is, issues related to the _functionality_ (or its absence) of the code in question. However, debugging can also involve _nonfunctional_ issues, however – performance, usability, reliability, and more. In this chapter, we give a short introduction on how to debug such nonfunctional issues, notably _performance_ issues."
   ]
  },
  {
   "cell_type": "code",
   "execution_count": 1,
   "metadata": {
    "execution": {
     "iopub.execute_input": "2024-06-30T17:22:05.956318Z",
     "iopub.status.busy": "2024-06-30T17:22:05.955883Z",
     "iopub.status.idle": "2024-06-30T17:22:06.068638Z",
     "shell.execute_reply": "2024-06-30T17:22:06.068322Z"
    },
    "slideshow": {
     "slide_type": "skip"
    }
   },
   "outputs": [
    {
     "data": {
      "text/html": [
       "\n",
       "        <iframe\n",
       "            width=\"640\"\n",
       "            height=\"360\"\n",
       "            src=\"https://www.youtube-nocookie.com/embed/0tMeB9G0uUI\"\n",
       "            frameborder=\"0\"\n",
       "            allowfullscreen\n",
       "            \n",
       "        ></iframe>\n",
       "        "
      ],
      "text/plain": [
       "<IPython.lib.display.IFrame at 0x107f2e110>"
      ]
     },
     "execution_count": 1,
     "metadata": {},
     "output_type": "execute_result"
    }
   ],
   "source": [
    "from bookutils import YouTubeVideo\n",
    "YouTubeVideo(\"0tMeB9G0uUI\")"
   ]
  },
  {
   "cell_type": "markdown",
   "metadata": {
    "button": false,
    "new_sheet": false,
    "run_control": {
     "read_only": false
    },
    "slideshow": {
     "slide_type": "subslide"
    }
   },
   "source": [
    "**Prerequisites**\n",
    "\n",
    "* This chapter leverages visualization capabilities from [the chapter on statistical debugging](StatisticalDebugger.ipynb).\n",
    "* We also show how to debug nonfunctional issues using [delta debugging](DeltaDebugger.ipynb)."
   ]
  },
  {
   "cell_type": "code",
   "execution_count": 2,
   "metadata": {
    "button": false,
    "execution": {
     "iopub.execute_input": "2024-06-30T17:22:06.089186Z",
     "iopub.status.busy": "2024-06-30T17:22:06.089012Z",
     "iopub.status.idle": "2024-06-30T17:22:06.091350Z",
     "shell.execute_reply": "2024-06-30T17:22:06.091045Z"
    },
    "new_sheet": false,
    "run_control": {
     "read_only": false
    },
    "slideshow": {
     "slide_type": "skip"
    }
   },
   "outputs": [],
   "source": [
    "import bookutils.setup"
   ]
  },
  {
   "cell_type": "code",
   "execution_count": 3,
   "metadata": {
    "execution": {
     "iopub.execute_input": "2024-06-30T17:22:06.093187Z",
     "iopub.status.busy": "2024-06-30T17:22:06.093046Z",
     "iopub.status.idle": "2024-06-30T17:22:06.733686Z",
     "shell.execute_reply": "2024-06-30T17:22:06.733363Z"
    },
    "slideshow": {
     "slide_type": "skip"
    }
   },
   "outputs": [],
   "source": [
    "import StatisticalDebugger\n",
    "import DeltaDebugger"
   ]
  },
  {
   "cell_type": "markdown",
   "metadata": {
    "slideshow": {
     "slide_type": "skip"
    }
   },
   "source": [
    "## Synopsis\n",
    "<!-- Automatically generated. Do not edit. -->\n",
    "\n",
    "To [use the code provided in this chapter](Importing.ipynb), write\n",
    "\n",
    "```python\n",
    ">>> from debuggingbook.PerformanceDebugger import <identifier>\n",
    "```\n",
    "\n",
    "and then make use of the following features.\n",
    "\n",
    "\n",
    "This chapter provides a class `PerformanceDebugger` that allows measuring and visualizing the time taken per line in a function.\n",
    "\n",
    "```python\n",
    ">>> with PerformanceDebugger(TimeCollector) as debugger:\n",
    ">>>     for i in range(100):\n",
    ">>>         s = remove_html_markup('<b>foo</b>')\n",
    "```\n",
    "The distribution of executed time within each function can be obtained by printing out the debugger:\n",
    "\n",
    "```python\n",
    ">>> print(debugger)\n",
    " 238   2% def remove_html_markup(s):  # type: ignore\n",
    " 239   2%     tag = False\n",
    " 240   1%     quote = False\n",
    " 241   1%     out = \"\"\n",
    " 242   0%\n",
    " 243  16%     for c in s:\n",
    " 244  15%         assert tag or not quote\n",
    " 245   0%\n",
    " 246  14%         if c == '<' and not quote:\n",
    " 247   3%             tag = True\n",
    " 248  12%         elif c == '>' and not quote:\n",
    " 249   2%             tag = False\n",
    " 250   8%         elif (c == '\"' or c == \"'\") and tag:\n",
    " 251   0%             quote = not quote\n",
    " 252   9%         elif not tag:\n",
    " 253   5%             out = out + c\n",
    " 254   0%\n",
    " 255   2%     return out\n",
    "\n",
    "\n",
    "```\n",
    "The sum of all percentages in a function should always be 100%.\n",
    "\n",
    "These percentages can also be visualized, where darker shades represent higher percentage values:\n",
    "\n",
    "```python\n",
    ">>> debugger\n",
    "```\n",
    "<pre style=\"background-color:hsl(240, 100%, 96.40497463956162%)\"\n",
    "                    title=\"Line 238:   2% 0.0002582480665296316\"> 238 def remove_html_markup(s):  # type: ignore</pre>\n",
    "<pre style=\"background-color:hsl(240, 100%, 96.9762727506189%)\"\n",
    "                    title=\"Line 239:   2% 0.00021720895892940462\"> 239     tag = False</pre>\n",
    "<pre style=\"background-color:hsl(240, 100%, 97.11779158366137%)\"\n",
    "                    title=\"Line 240:   1% 0.0002070429763989523\"> 240     quote = False</pre>\n",
    "<pre style=\"background-color:hsl(240, 100%, 97.27268905242099%)\"\n",
    "                    title=\"Line 241:   1% 0.00019591594173107296\"> 241     out = &quot;&quot;</pre>\n",
    "<pre style=\"background-color:hsl(240, 100%, 100.0%)\"\n",
    "                    title=\"Line 242:   0% 0.0\"> 242 &nbsp;</pre>\n",
    "<pre style=\"background-color:hsl(240, 100%, 75.0%)\"\n",
    "                    title=\"Line 243:  16% 0.001795870964997448\"> 243     for c in s:</pre>\n",
    "<pre style=\"background-color:hsl(240, 100%, 77.65506291145286%)\"\n",
    "                    title=\"Line 244:  15% 0.0016051449492806569\"> 244         assert tag or not quote</pre>\n",
    "<pre style=\"background-color:hsl(240, 100%, 100.0%)\"\n",
    "                    title=\"Line 245:   0% 0.0\"> 245 &nbsp;</pre>\n",
    "<pre style=\"background-color:hsl(240, 100%, 77.927202468059%)\"\n",
    "                    title=\"Line 246:  14% 0.001585595848155208\"> 246         if c == &#x27;&lt;&#x27; and not quote:</pre>\n",
    "<pre style=\"background-color:hsl(240, 100%, 95.5196534534885%)\"\n",
    "                    title=\"Line 247:   3% 0.00032184497104026377\"> 247             tag = True</pre>\n",
    "<pre style=\"background-color:hsl(240, 100%, 82.10053806007234%)\"\n",
    "                    title=\"Line 248:  12% 0.0012858049594797194\"> 248         elif c == &#x27;&gt;&#x27; and not quote:</pre>\n",
    "<pre style=\"background-color:hsl(240, 100%, 95.58714179631166%)\"\n",
    "                    title=\"Line 249:   2% 0.00031699695682618767\"> 249             tag = False</pre>\n",
    "<pre style=\"background-color:hsl(240, 100%, 86.6963424171656%)\"\n",
    "                    title=\"Line 250:   8% 0.0009556660952512175\"> 250         elif (c == &#x27;&quot;&#x27; or c == &quot;&#x27;&quot;) and tag:</pre>\n",
    "<pre style=\"background-color:hsl(240, 100%, 100.0%)\"\n",
    "                    title=\"Line 251:   0% 0.0\"> 251             quote = not quote</pre>\n",
    "<pre style=\"background-color:hsl(240, 100%, 86.37329727623917%)\"\n",
    "                    title=\"Line 252:   9% 0.0009788719908101484\"> 252         elif not tag:</pre>\n",
    "<pre style=\"background-color:hsl(240, 100%, 91.27622339614845%)\"\n",
    "                    title=\"Line 253:   5% 0.0006266710843192413\"> 253             out = out + c</pre>\n",
    "<pre style=\"background-color:hsl(240, 100%, 100.0%)\"\n",
    "                    title=\"Line 254:   0% 0.0\"> 254 &nbsp;</pre>\n",
    "<pre style=\"background-color:hsl(240, 100%, 95.65205420024986%)\"\n",
    "                    title=\"Line 255:   2% 0.0003123339847661555\"> 255     return out</pre>\n",
    "\n",
    "\n",
    "The abstract `MetricCollector` class allows subclassing to build more collectors, such as `HitCollector`.\n",
    "\n",
    "![](PICS/PerformanceDebugger-synopsis-1.svg)\n",
    "\n"
   ]
  },
  {
   "cell_type": "markdown",
   "metadata": {
    "slideshow": {
     "slide_type": "slide"
    }
   },
   "source": [
    "## Measuring Performance\n",
    "\n",
    "The solution to debugging performance issues fits in two simple rules:\n",
    "\n",
    "1. _Measure_ performance\n",
    "2. _Break down_ how individual parts of your code contribute to performance.\n",
    "\n",
    "The first part, actually _measuring_ performance, is key here. Developers often take elaborated guesses on which aspects of their code impact performance, and think about all possible ways to optimize their code – and at the same time, making it harder to understand, harder to evolve, and harder to maintain. In most cases, such guesses are wrong. Instead, _measure_ performance of your program, _identify_ the very few parts that may need to get improved, and again _measure_ the impact of your changes."
   ]
  },
  {
   "cell_type": "markdown",
   "metadata": {
    "slideshow": {
     "slide_type": "subslide"
    }
   },
   "source": [
    "Almost all programming languages offer a way to measure performance and breaking it down to individual parts of the code – a means also known as *profiling*. Profiling works by measuring the execution time for each function (or even more fine-grained location) in your program. This can be achieved by\n",
    "\n",
    "1. _Instrumenting_ or _tracing_ code such that the current time at entry and exit of each function (or line), thus determining the time spent. In Python, this is achieved by profilers like [profile or cProfile](https://docs.python.org/3/library/profile.html)\n",
    "\n",
    "2. _Sampling_ the current function call stack at regular intervals, and thus assessing which functions are most active (= take the most time) during execution. For Python, the [scalene](https://github.com/plasma-umass/scalene) profiler works this way.\n",
    "\n",
    "Pretty much all programming languages support profiling, either through measuring, sampling, or both. As a rule of thumb, _interpreted_ languages more frequently support measuring (as it is easy to implement in an interpreter), while _compiled_ languages more frequently support sampling (because instrumentation requires recompilation). Python is lucky to support both methods."
   ]
  },
  {
   "attachments": {},
   "cell_type": "markdown",
   "metadata": {
    "slideshow": {
     "slide_type": "subslide"
    }
   },
   "source": [
    "### Tracing Execution Profiles\n",
    "\n",
    "Let us illustrate profiling in a simple example. The `ChangeCounter` class (which we will encounter in the [chapter on mining version histories](ChangeCounter.ipynb)) reads in a version history from a git repository. Yet, it takes more than a minute to read in the debugging book change history:"
   ]
  },
  {
   "cell_type": "code",
   "execution_count": 4,
   "metadata": {
    "execution": {
     "iopub.execute_input": "2024-06-30T17:22:06.735615Z",
     "iopub.status.busy": "2024-06-30T17:22:06.735499Z",
     "iopub.status.idle": "2024-06-30T17:22:07.036252Z",
     "shell.execute_reply": "2024-06-30T17:22:07.035931Z"
    },
    "slideshow": {
     "slide_type": "skip"
    }
   },
   "outputs": [],
   "source": [
    "from ChangeCounter import ChangeCounter, debuggingbook_change_counter  # minor dependency"
   ]
  },
  {
   "cell_type": "code",
   "execution_count": 5,
   "metadata": {
    "execution": {
     "iopub.execute_input": "2024-06-30T17:22:07.038038Z",
     "iopub.status.busy": "2024-06-30T17:22:07.037918Z",
     "iopub.status.idle": "2024-06-30T17:22:07.039717Z",
     "shell.execute_reply": "2024-06-30T17:22:07.039468Z"
    },
    "slideshow": {
     "slide_type": "skip"
    }
   },
   "outputs": [],
   "source": [
    "import Timer"
   ]
  },
  {
   "cell_type": "code",
   "execution_count": 6,
   "metadata": {
    "execution": {
     "iopub.execute_input": "2024-06-30T17:22:07.041135Z",
     "iopub.status.busy": "2024-06-30T17:22:07.041028Z",
     "iopub.status.idle": "2024-06-30T17:24:52.773473Z",
     "shell.execute_reply": "2024-06-30T17:24:52.772882Z"
    },
    "slideshow": {
     "slide_type": "fragment"
    }
   },
   "outputs": [],
   "source": [
    "with Timer.Timer() as t:\n",
    "    change_counter = debuggingbook_change_counter(ChangeCounter)"
   ]
  },
  {
   "cell_type": "code",
   "execution_count": 7,
   "metadata": {
    "execution": {
     "iopub.execute_input": "2024-06-30T17:24:52.776975Z",
     "iopub.status.busy": "2024-06-30T17:24:52.776806Z",
     "iopub.status.idle": "2024-06-30T17:24:52.779946Z",
     "shell.execute_reply": "2024-06-30T17:24:52.779530Z"
    },
    "slideshow": {
     "slide_type": "fragment"
    }
   },
   "outputs": [
    {
     "data": {
      "text/plain": [
       "165.73121154200635"
      ]
     },
     "execution_count": 7,
     "metadata": {},
     "output_type": "execute_result"
    }
   ],
   "source": [
    "t.elapsed_time()"
   ]
  },
  {
   "cell_type": "markdown",
   "metadata": {
    "slideshow": {
     "slide_type": "subslide"
    }
   },
   "source": [
    "The Python `profile` and `cProfile` modules offer a simple way to identify the most time-consuming functions. They are invoked using the `run()` function, whose argument is the command to be profiled. The output reports, for each function encountered:\n",
    "\n",
    "* How often it was called (`ncalls` column)\n",
    "* How much time was spent in the given function, _excluding_ time spent in calls to sub-functions (`tottime` column)\n",
    "* The fraction of `tottime` / `ncalls` (first `percall` column)\n",
    "* How much time was spent in the given function, _including_ time spent in calls to sub-functions (`cumtime` column)\n",
    "* The fraction of `cumtime` / `percall` (second `percall` column)\n",
    "\n",
    "Let us have a look at the profile we obtain:"
   ]
  },
  {
   "cell_type": "code",
   "execution_count": 8,
   "metadata": {
    "execution": {
     "iopub.execute_input": "2024-06-30T17:24:52.782070Z",
     "iopub.status.busy": "2024-06-30T17:24:52.781951Z",
     "iopub.status.idle": "2024-06-30T17:24:52.783854Z",
     "shell.execute_reply": "2024-06-30T17:24:52.783524Z"
    },
    "slideshow": {
     "slide_type": "skip"
    }
   },
   "outputs": [],
   "source": [
    "import cProfile"
   ]
  },
  {
   "cell_type": "code",
   "execution_count": 9,
   "metadata": {
    "execution": {
     "iopub.execute_input": "2024-06-30T17:24:52.785759Z",
     "iopub.status.busy": "2024-06-30T17:24:52.785650Z",
     "iopub.status.idle": "2024-06-30T17:27:48.320519Z",
     "shell.execute_reply": "2024-06-30T17:27:48.320075Z"
    },
    "slideshow": {
     "slide_type": "subslide"
    }
   },
   "outputs": [
    {
     "name": "stdout",
     "output_type": "stream",
     "text": [
      "         21389077 function calls (21232681 primitive calls) in 175.519 seconds\n",
      "\n",
      "   Ordered by: cumulative time\n",
      "\n",
      "   ncalls  tottime  percall  cumtime  percall filename:lineno(function)\n",
      "        1    0.000    0.000  175.519  175.519 {built-in method builtins.exec}\n",
      "        1    0.000    0.000  175.519  175.519 <string>:1(<module>)\n",
      "        1    0.000    0.000  175.519  175.519 ChangeCounter.ipynb:168(debuggingbook_change_counter)\n",
      "        1    0.001    0.001  175.519  175.519 ChangeCounter.ipynb:51(__init__)\n",
      "        1    1.095    1.095  175.519  175.519 ChangeCounter.ipynb:88(mine)\n",
      "     1235    0.028    0.000  174.163    0.141 ChangeCounter.ipynb:102(mine_commit)\n",
      "     1235    0.038    0.000  173.966    0.141 commit.py:680(modified_files)\n",
      "     1235    0.023    0.000  173.927    0.141 commit.py:696(_get_modified_files)\n",
      "     1185    0.212    0.000  145.691    0.123 diff.py:95(diff)\n",
      "     1234    0.092    0.000   76.666    0.062 cmd.py:1114(_call_process)\n",
      "     1234    0.122    0.000   76.558    0.062 cmd.py:726(execute)\n",
      "     1234    0.172    0.000   76.148    0.062 subprocess.py:753(__init__)\n",
      "     1234    0.181    0.000   75.938    0.062 subprocess.py:1682(_execute_child)\n",
      "     1234   73.728    0.060   73.728    0.060 {built-in method _posixsubprocess.fork_exec}\n",
      "     1185   16.772    0.014   73.108    0.062 diff.py:445(_index_from_patch_format)\n",
      "     1186    0.059    0.000   72.381    0.061 cmd.py:638(<lambda>)\n",
      "     1185    0.089    0.000   42.447    0.036 cmd.py:71(handle_process_output)\n",
      "    11964   41.934    0.004   41.934    0.004 {method 'acquire' of '_thread.lock' objects}\n",
      "     2372    0.013    0.000   41.830    0.018 threading.py:1057(join)\n",
      "     2372    0.012    0.000   41.814    0.018 threading.py:1095(_wait_for_tstate_lock)\n",
      "     1235    0.051    0.000   28.186    0.023 commit.py:730(_parse_diff)\n",
      "    26030    0.027    0.000   27.148    0.001 commit.py:759(_get_undecoded_content)\n",
      "    86718    0.092    0.000   21.822    0.000 cmd.py:528(read)\n",
      "    73280    0.025    0.000   21.758    0.000 base.py:137(read)\n",
      "   173414   21.724    0.000   21.724    0.000 {method 'read' of '_io.BufferedReader' objects}\n",
      "    13015    0.097    0.000   12.997    0.001 diff.py:290(__init__)\n",
      "    12203    0.011    0.000   12.675    0.001 base.py:363(submodules)\n",
      "    12203    0.044    0.000   12.664    0.001 util.py:1092(list_items)\n",
      "25388/25385    0.031    0.000   12.607    0.000 {method 'extend' of 'list' objects}\n",
      "    36609    0.137    0.000   12.576    0.000 base.py:1228(iter_items)\n",
      "    86718    0.128    0.000    8.778    0.000 db.py:46(stream)\n",
      "    86718    0.197    0.000    8.571    0.000 cmd.py:1263(stream_object_data)\n",
      "   135530    0.402    0.000    5.681    0.000 cmd.py:1235(__get_object_header)\n",
      "    24468    0.020    0.000    5.544    0.000 base.py:129(data_stream)\n",
      "    63435    0.056    0.000    4.972    0.000 util.py:248(__getattr__)\n",
      "   223749    4.402    0.000    4.410    0.000 {method 'readline' of '_io.BufferedReader' objects}\n",
      "   135530    0.031    0.000    4.390    0.000 cmd.py:1221(_get_persistent_cmd)\n",
      "85421/24406    0.048    0.000    4.027    0.000 tree.py:347(__getitem__)\n",
      "85421/24406    0.165    0.000    4.003    0.000 tree.py:245(join)\n",
      "    36609    0.033    0.000    3.821    0.000 base.py:527(commit)\n",
      "    48812    0.051    0.000    3.571    0.000 tree.py:224(_set_cache_)\n",
      "    36609    0.023    0.000    3.375    0.000 symbolic.py:212(_get_commit)\n",
      "    36609    0.035    0.000    3.352    0.000 symbolic.py:203(_get_object)\n",
      "    48812    0.033    0.000    2.358    0.000 symbolic.py:143(dereference_recursive)\n",
      "    97625    0.073    0.000    2.325    0.000 symbolic.py:196(_get_ref_info)\n",
      "    48812    0.111    0.000    2.295    0.000 base.py:75(new_from_sha)\n",
      "    97625    0.233    0.000    2.253    0.000 symbolic.py:156(_get_ref_info_helper)\n",
      "    12203    0.046    0.000    2.222    0.000 base.py:196(_config_parser)\n",
      "    48812    0.081    0.000    1.930    0.000 db.py:42(info)\n",
      "    48812    0.036    0.000    1.801    0.000 cmd.py:1243(get_object_header)\n",
      "     1234    1.594    0.001    1.594    0.001 {built-in method posix.read}\n",
      "    12203    0.055    0.000    1.458    0.000 fun.py:191(rev_parse)\n",
      "   112718    1.356    0.000    1.411    0.000 {built-in method io.open}\n",
      "    12203    0.042    0.000    1.393    0.000 fun.py:121(name_to_object)\n",
      "    14623    0.035    0.000    1.335    0.000 commit.py:196(_set_cache_)\n",
      "97910/85516    0.068    0.000    1.050    0.000 config.py:104(assure_data_present)\n",
      "    12203    0.023    0.000    1.046    0.000 util.py:72(__init__)\n",
      "    12297    0.046    0.000    1.032    0.000 config.py:281(__init__)\n",
      "    12297    0.058    0.000    0.982    0.000 configparser.py:601(__init__)\n",
      "    48812    0.720    0.000    0.947    0.000 fun.py:59(tree_entries_from_data)\n",
      "     1185    0.808    0.001    0.808    0.001 {method 'join' of 'bytes' objects}\n",
      "  1026027    0.794    0.000    0.794    0.000 {method 'decode' of 'bytes' objects}\n",
      "    12297    0.190    0.000    0.776    0.000 configparser.py:1321(__init__)\n",
      "97910/85613    0.076    0.000    0.760    0.000 config.py:543(read)\n",
      "    13015    0.004    0.000    0.699    0.000 commit.py:749(_get_decoded_str)\n",
      "    12297    0.230    0.000    0.465    0.000 config.py:391(_read)\n",
      "    12297    0.393    0.000    0.393    0.000 {built-in method builtins.dir}\n",
      "    97809    0.275    0.000    0.346    0.000 {method 'read' of '_io.TextIOWrapper' objects}\n",
      "   135530    0.273    0.000    0.344    0.000 cmd.py:1207(_prepare_ref)\n",
      "    13438    0.096    0.000    0.343    0.000 commit.py:525(_deserialize)\n",
      "    14250    0.006    0.000    0.276    0.000 commit.py:587(committer_date)\n",
      "  1698594    0.275    0.000    0.275    0.000 {method 'match' of 're.Pattern' objects}\n",
      "    14250    0.006    0.000    0.270    0.000 commit.py:209(committed_datetime)\n",
      "     1236    0.002    0.000    0.261    0.000 repository.py:207(traverse_commits)\n",
      "     2372    0.013    0.000    0.258    0.000 threading.py:909(start)\n",
      "    13015    0.033    0.000    0.241    0.000 commit.py:155(__init__)\n",
      "   135530    0.236    0.000    0.239    0.000 {method 'flush' of '_io.BufferedWriter' objects}\n",
      "   139519    0.146    0.000    0.227    0.000 posixpath.py:71(join)\n",
      "     1234    0.080    0.000    0.219    0.000 subprocess.py:1222(_close_pipe_fds)\n",
      "     1239    0.021    0.000    0.212    0.000 repository.py:246(_iter_commits)\n",
      "    24732    0.020    0.000    0.208    0.000 pathlib.py:955(__new__)\n",
      "     2372    0.013    0.000    0.203    0.000 ipkernel.py:768(init_closure)\n",
      "   427105    0.120    0.000    0.199    0.000 compat.py:49(safe_decode)\n",
      "    48905    0.052    0.000    0.196    0.000 configparser.py:766(get)\n",
      "     2372    0.075    0.000    0.190    0.000 threading.py:820(__init__)\n",
      "    24734    0.018    0.000    0.188    0.000 pathlib.py:587(_from_parts)\n",
      "   851088    0.127    0.000    0.185    0.000 cmd.py:466(__getattr__)\n",
      "   135530    0.136    0.000    0.183    0.000 cmd.py:1185(_parse_object_header)\n",
      "     2373    0.008    0.000    0.176    0.000 threading.py:582(wait)\n",
      "     1234    0.026    0.000    0.169    0.000 os.py:711(copy)\n",
      "    24734    0.036    0.000    0.168    0.000 pathlib.py:567(_parse_args)\n",
      "     2374    0.010    0.000    0.157    0.000 threading.py:288(wait)\n",
      "   162456    0.113    0.000    0.151    0.000 base.py:50(__init__)\n",
      "    26876    0.036    0.000    0.150    0.000 util.py:268(parse_actor_and_date)\n",
      "    48812    0.076    0.000    0.144    0.000 util.py:85(get_object_type_by_name)\n",
      "   110109    0.143    0.000    0.143    0.000 {method '__exit__' of '_io._IOBase' objects}\n",
      "    24730    0.097    0.000    0.141    0.000 util.py:69(mode_str_to_int)\n",
      "    12297    0.075    0.000    0.138    0.000 configparser.py:1244(__init__)\n",
      "    98921    0.055    0.000    0.133    0.000 base.py:153(__init__)\n",
      "    24734    0.066    0.000    0.123    0.000 pathlib.py:56(parse_parts)\n",
      "    63535    0.046    0.000    0.119    0.000 commit.py:84(__init__)\n",
      "1112149/1112147    0.115    0.000    0.116    0.000 {built-in method builtins.getattr}\n",
      "1805709/1805707    0.103    0.000    0.107    0.000 {built-in method builtins.isinstance}\n",
      "    50047    0.032    0.000    0.103    0.000 tree.py:214(__init__)\n",
      "    14250    0.013    0.000    0.096    0.000 util.py:167(from_timestamp)\n",
      "     2516    0.051    0.000    0.095    0.000 contextlib.py:496(callback)\n",
      "    24406    0.014    0.000    0.090    0.000 base.py:335(index)\n",
      "    85513    0.067    0.000    0.090    0.000 util.py:163(join_path)\n",
      "     1234    0.016    0.000    0.086    0.000 util.py:412(remove_password_if_present)\n",
      "    90175    0.040    0.000    0.086    0.000 os.py:674(__getitem__)\n",
      "   214716    0.052    0.000    0.085    0.000 os.py:804(fsencode)\n",
      "    48905    0.047    0.000    0.085    0.000 configparser.py:1143(_unify_values)\n",
      "    24406    0.018    0.000    0.076    0.000 base.py:117(__init__)\n",
      "    97809    0.054    0.000    0.071    0.000 codecs.py:319(decode)\n",
      "    78603    0.068    0.000    0.071    0.000 {method 'search' of 're.Pattern' objects}\n",
      "     2372    0.068    0.000    0.068    0.000 {built-in method _thread.start_new_thread}\n",
      "    12300    0.010    0.000    0.062    0.000 config.py:489(_has_includes)\n",
      "    26876    0.022    0.000    0.060    0.000 util.py:665(_from_string)\n",
      "    12000    0.033    0.000    0.059    0.000 parse.py:437(urlsplit)\n",
      "    24406    0.015    0.000    0.058    0.000 base.py:157(_index_path)\n",
      "     1186    0.010    0.000    0.058    0.000 util.py:383(finalize_process)\n",
      "    24406    0.018    0.000    0.056    0.000 base.py:114(__init__)\n",
      "     2419    0.011    0.000    0.056    0.000 subprocess.py:1199(wait)\n",
      "    26030    0.010    0.000    0.055    0.000 diff.py:432(_pick_best_path)\n",
      "    29616    0.011    0.000    0.055    0.000 subprocess.py:1770(<genexpr>)\n",
      "     1234    0.020    0.000    0.055    0.000 os.py:619(get_exec_path)\n",
      "    97809    0.037    0.000    0.055    0.000 codecs.py:309(__init__)\n",
      "    36610    0.027    0.000    0.054    0.000 base.py:342(head)\n",
      "    91316    0.012    0.000    0.054    0.000 _collections_abc.py:877(__iter__)\n",
      "    97625    0.038    0.000    0.053    0.000 symbolic.py:43(_git_dir)\n",
      "   772407    0.053    0.000    0.053    0.000 {built-in method builtins.len}\n",
      "    48905    0.033    0.000    0.053    0.000 __init__.py:976(__getitem__)\n",
      "     2373    0.008    0.000    0.053    0.000 threading.py:538(__init__)\n",
      "    12297    0.017    0.000    0.052    0.000 config.py:492(_included_paths)\n",
      "     2371    0.016    0.000    0.051    0.000 cmd.py:470(wait)\n",
      "   122262    0.042    0.000    0.051    0.000 config.py:192(__getitem__)\n",
      "   224190    0.049    0.000    0.050    0.000 {method 'split' of 'str' objects}\n",
      "    26030    0.030    0.000    0.046    0.000 diff.py:54(decode_path)\n",
      "     2419    0.005    0.000    0.045    0.000 subprocess.py:1906(_wait)\n",
      "    13015    0.004    0.000    0.045    0.000 ChangeCounter.ipynb:112(include)\n",
      "    14250    0.042    0.000    0.045    0.000 {built-in method fromtimestamp}\n",
      "     1282    0.007    0.000    0.044    0.000 cmd.py:463(__del__)\n",
      "   440553    0.044    0.000    0.044    0.000 {method 'encode' of 'str' objects}\n",
      "    24498    0.012    0.000    0.043    0.000 util.py:200(join_path_native)\n",
      "       92    0.000    0.000    0.043    0.000 util.py:98(wrapper)\n",
      "       92    0.000    0.000    0.043    0.000 base.py:1103(module)\n",
      "       93    0.002    0.000    0.043    0.000 base.py:108(__init__)\n",
      "   251445    0.042    0.000    0.042    0.000 {method 'startswith' of 'str' objects}\n",
      "   307774    0.042    0.000    0.042    0.000 {method 'endswith' of 'str' objects}\n",
      "    91316    0.024    0.000    0.042    0.000 os.py:697(__iter__)\n",
      "    13015    0.008    0.000    0.041    0.000 ChangeCounter.ipynb:176(filter)\n",
      "    86572    0.038    0.000    0.039    0.000 config.py:180(__setitem__)\n",
      "    86718    0.024    0.000    0.038    0.000 base.py:128(__new__)\n",
      "     2378    0.037    0.000    0.037    0.000 threading.py:236(__init__)\n",
      "   721336    0.037    0.000    0.037    0.000 {method 'append' of 'list' objects}\n",
      "   148380    0.037    0.000    0.037    0.000 typing.py:305(inner)\n",
      "    24406    0.029    0.000    0.036    0.000 symbolic.py:439(to_full_path)\n",
      "   142638    0.023    0.000    0.036    0.000 posixpath.py:41(_get_sep)\n",
      "    13015    0.019    0.000    0.035    0.000 commit.py:923(_from_change_to_modification_type)\n",
      "   180164    0.021    0.000    0.035    0.000 os.py:758(decode)\n",
      "     1234    0.007    0.000    0.035    0.000 subprocess.py:1893(_try_wait)\n",
      "    48813    0.026    0.000    0.034    0.000 <frozen importlib._bootstrap>:404(parent)\n",
      "    48813    0.026    0.000    0.034    0.000 <frozen importlib._bootstrap>:1053(_handle_fromlist)\n",
      "     1282    0.006    0.000    0.033    0.000 cmd.py:421(_terminate)\n",
      "    94172    0.033    0.000    0.033    0.000 {built-in method sys.intern}\n",
      "     1236    0.000    0.000    0.032    0.000 git.py:110(get_list_commits)\n",
      "    31724    0.010    0.000    0.031    0.000 commit.py:243(new_path)\n",
      "   162456    0.030    0.000    0.030    0.000 {method 'split' of 'bytes' objects}\n",
      "   236971    0.029    0.000    0.029    0.000 {built-in method binascii.a2b_hex}\n",
      "   174593    0.028    0.000    0.028    0.000 {built-in method __new__ of type object at 0x104ecb0a0}\n",
      "    87941    0.028    0.000    0.028    0.000 typing.py:1408(_no_init_or_replace_init)\n",
      "    90175    0.018    0.000    0.028    0.000 os.py:754(encode)\n",
      "    24406    0.018    0.000    0.028    0.000 configparser.py:878(has_option)\n",
      "     1234    0.018    0.000    0.028    0.000 contextlib.py:533(__exit__)\n",
      "    36611    0.021    0.000    0.028    0.000 head.py:38(__init__)\n",
      "     1330    0.028    0.000    0.028    0.000 {built-in method posix.waitpid}\n",
      "     2372    0.027    0.000    0.027    0.000 threading.py:1294(_make_invoke_excepthook)\n",
      "       94    0.000    0.000    0.026    0.000 cmd.py:1273(clear_cache)\n",
      "       46    0.000    0.000    0.026    0.001 base.py:1121(module_exists)\n",
      "    48812    0.016    0.000    0.025    0.000 base.py:35(__new__)\n",
      "   135662    0.025    0.000    0.025    0.000 {method 'write' of '_io.BufferedWriter' objects}\n",
      "     2516    0.018    0.000    0.025    0.000 contextlib.py:514(_push_exit_callback)\n",
      "     1234    0.024    0.000    0.024    0.000 cmd.py:416(__init__)\n",
      "    86718    0.024    0.000    0.024    0.000 cmd.py:517(__init__)\n",
      "    14250    0.021    0.000    0.024    0.000 {method 'astimezone' of 'datetime.datetime' objects}\n",
      "    49928    0.022    0.000    0.023    0.000 config.py:183(add)\n",
      "     1674    0.009    0.000    0.023    0.000 ipkernel.py:775(_clean_thread_parent_frames)\n",
      "   136171    0.023    0.000    0.023    0.000 {method 'group' of 're.Match' objects}\n",
      "    31243    0.012    0.000    0.021    0.000 pathlib.py:619(__str__)\n",
      "        1    0.000    0.000    0.020    0.020 base.py:560(iter_commits)\n",
      "        1    0.000    0.000    0.020    0.020 commit.py:246(iter_items)\n",
      "   383860    0.020    0.000    0.020    0.000 {built-in method posix.fspath}\n",
      "   140520    0.020    0.000    0.020    0.000 {built-in method binascii.b2a_hex}\n",
      "   261479    0.019    0.000    0.019    0.000 {method 'strip' of 'str' objects}\n",
      "    26876    0.019    0.000    0.019    0.000 util.py:110(utctz_to_altz)\n",
      "    35848    0.014    0.000    0.018    0.000 base.py:105(__ne__)\n",
      "     1234    0.018    0.000    0.018    0.000 warnings.py:458(__enter__)\n",
      "   130703    0.018    0.000    0.018    0.000 {method 'startswith' of 'bytes' objects}\n",
      "    97809    0.018    0.000    0.018    0.000 codecs.py:260(__init__)\n",
      "       92    0.000    0.000    0.018    0.000 base.py:240(__del__)\n",
      "       92    0.001    0.000    0.018    0.000 base.py:246(close)\n",
      "     2516    0.016    0.000    0.017    0.000 contextlib.py:446(_create_cb_wrapper)\n",
      "    86718    0.017    0.000    0.017    0.000 base.py:132(__init__)\n",
      "    97809    0.017    0.000    0.017    0.000 {built-in method _codecs.utf_8_decode}\n",
      "     1234    0.007    0.000    0.017    0.000 subprocess.py:1583(_get_handles)\n",
      "    24500    0.014    0.000    0.017    0.000 configparser.py:644(sections)\n",
      "   123837    0.013    0.000    0.016    0.000 {built-in method builtins.hasattr}\n",
      "   147921    0.016    0.000    0.016    0.000 {method 'rstrip' of 'str' objects}\n",
      "    86718    0.015    0.000    0.015    0.000 cmd.py:604(__del__)\n",
      "    48905    0.015    0.000    0.015    0.000 base.py:296(common_dir)\n",
      "    66767    0.015    0.000    0.015    0.000 {method 'groups' of 're.Match' objects}\n",
      "     2372    0.011    0.000    0.014    0.000 _weakrefset.py:86(add)\n",
      "     1234    0.014    0.000    0.014    0.000 contextlib.py:452(__init__)\n",
      "    48905    0.014    0.000    0.014    0.000 __init__.py:966(__init__)\n",
      "    14250    0.014    0.000    0.014    0.000 util.py:147(__init__)\n",
      "    61533    0.013    0.000    0.013    0.000 {built-in method builtins.setattr}\n",
      "    24406    0.011    0.000    0.013    0.000 util.py:34(sm_name)\n",
      "        2    0.000    0.000    0.013    0.007 {built-in method builtins.next}\n",
      "        2    0.000    0.000    0.013    0.007 repository.py:173(_prep_repo)\n",
      "    20678    0.013    0.000    0.013    0.000 {method 'get' of 'dict' objects}\n",
      "     3750    0.012    0.000    0.012    0.000 {built-in method posix.pipe}\n",
      "     4985    0.012    0.000    0.012    0.000 {built-in method posix.close}\n",
      "    25043    0.009    0.000    0.012    0.000 diff.py:403(a_path)\n",
      "10717/1234    0.007    0.000    0.012    0.000 cmd.py:1069(__unpack_args)\n",
      "   188789    0.011    0.000    0.011    0.000 typing.py:1715(cast)\n",
      "    48812    0.011    0.000    0.011    0.000 base.py:38(__init__)\n",
      "     1236    0.001    0.000    0.011    0.000 commit.py:318(_iter_from_process_or_stream)\n",
      "  370/186    0.001    0.000    0.011    0.000 fun.py:85(find_submodule_git_dir)\n",
      "    12000    0.004    0.000    0.010    0.000 parse.py:155(password)\n",
      "      792    0.002    0.000    0.010    0.000 ChangeCounter.ipynb:121(update_stats)\n",
      "    13015    0.007    0.000    0.010    0.000 commit.py:549(committer)\n",
      "    11471    0.007    0.000    0.010    0.000 diff.py:426(renamed_file)\n",
      "      837    0.004    0.000    0.009    0.000 ipkernel.py:790(<setcomp>)\n",
      "     5984    0.009    0.000    0.009    0.000 {built-in method _thread.allocate_lock}\n",
      "    60813    0.009    0.000    0.009    0.000 {method 'rpartition' of 'str' objects}\n",
      "   122394    0.009    0.000    0.009    0.000 {function _OMD.__getitem__ at 0x1767b6e60}\n",
      "     1185    0.009    0.000    0.009    0.000 {method 'finditer' of 're.Pattern' objects}\n",
      "        1    0.000    0.000    0.009    0.009 contextlib.py:139(__exit__)\n",
      "        2    0.000    0.000    0.009    0.005 git.py:77(clear)\n",
      "   123240    0.009    0.000    0.009    0.000 config.py:387(optionxform)\n",
      "       93    0.000    0.000    0.009    0.000 base.py:488(config_reader)\n",
      "     1234    0.005    0.000    0.009    0.000 warnings.py:165(simplefilter)\n",
      "    12203    0.007    0.000    0.009    0.000 util.py:970(__new__)\n",
      "    25455    0.006    0.000    0.009    0.000 diff.py:407(b_path)\n",
      "    12531    0.006    0.000    0.008    0.000 pathlib.py:606(_format_parsed_parts)\n",
      "     2374    0.007    0.000    0.008    0.000 threading.py:279(_is_owned)\n",
      "     2370    0.008    0.000    0.008    0.000 threading.py:775(_newname)\n",
      "     2386    0.007    0.000    0.008    0.000 threading.py:264(__enter__)\n",
      "     4890    0.008    0.000    0.008    0.000 {method 'append' of 'collections.deque' objects}\n",
      "    24730    0.007    0.000    0.007    0.000 {method 'sub' of 're.Pattern' objects}\n",
      "     4744    0.006    0.000    0.007    0.000 threading.py:1423(current_thread)\n",
      "    36611    0.007    0.000    0.007    0.000 symbolic.py:65(__init__)\n",
      "    67877    0.007    0.000    0.007    0.000 {method 'readline' of '_io.BytesIO' objects}\n",
      "    12076    0.003    0.000    0.007    0.000 config.py:352(__del__)\n",
      "     1285    0.006    0.000    0.007    0.000 commit.py:623(parents)\n",
      "     4744    0.006    0.000    0.006    0.000 threading.py:1176(daemon)\n",
      "     2370    0.004    0.000    0.006    0.000 threading.py:1191(daemon)\n",
      "     1234    0.006    0.000    0.006    0.000 {built-in method posix.access}\n",
      "    26876    0.006    0.000    0.006    0.000 util.py:646(__init__)\n",
      "    48812    0.006    0.000    0.006    0.000 base.py:52(type)\n",
      "    97624    0.006    0.000    0.006    0.000 {built-in method builtins.ord}\n",
      "    12000    0.005    0.000    0.006    0.000 parse.py:189(_userinfo)\n",
      "    74872    0.006    0.000    0.006    0.000 {method 'lower' of 'str' objects}\n",
      "    12297    0.005    0.000    0.006    0.000 configparser.py:1363(__iter__)\n",
      "     2652    0.003    0.000    0.006    0.000 posixpath.py:150(dirname)\n",
      "      463    0.001    0.000    0.006    0.000 fun.py:44(is_git_dir)\n",
      "    48812    0.005    0.000    0.005    0.000 base.py:42(binsha)\n",
      "     1235    0.001    0.000    0.005    0.000 conf.py:257(is_commit_filtered)\n",
      "    24734    0.005    0.000    0.005    0.000 pathlib.py:239(splitroot)\n",
      "    12000    0.005    0.000    0.005    0.000 parse.py:114(_coerce_args)\n",
      "    13015    0.004    0.000    0.005    0.000 commit.py:614(msg)\n",
      "    12203    0.004    0.000    0.005    0.000 base.py:99(__eq__)\n",
      "    12203    0.005    0.000    0.005    0.000 fun.py:180(to_commit)\n",
      "     7562    0.005    0.000    0.005    0.000 threading.py:1138(ident)\n",
      "     1234    0.005    0.000    0.005    0.000 subprocess.py:1846(_handle_exitstatus)\n",
      "    12203    0.005    0.000    0.005    0.000 util.py:973(__init__)\n",
      "     4990    0.004    0.000    0.005    0.000 base.py:123(hexsha)\n",
      "    73371    0.005    0.000    0.005    0.000 {method 'replace' of 'str' objects}\n",
      "     1235    0.002    0.000    0.005    0.000 commit.py:529(hash)\n",
      "     1234    0.005    0.000    0.005    0.000 {built-in method sys.exc_info}\n",
      "     1234    0.005    0.000    0.005    0.000 warnings.py:437(__init__)\n",
      "      837    0.004    0.000    0.004    0.000 threading.py:1471(enumerate)\n",
      "     2372    0.003    0.000    0.004    0.000 threading.py:1021(_stop)\n",
      "     7444    0.003    0.000    0.004    0.000 conf.py:45(get)\n",
      "    48812    0.004    0.000    0.004    0.000 base.py:60(size)\n",
      "    12077    0.003    0.000    0.004    0.000 config.py:364(release)\n",
      "      792    0.004    0.000    0.004    0.000 ChangeCounter.ipynb:137(update_size)\n",
      "        1    0.000    0.000    0.004    0.004 contextlib.py:130(__enter__)\n",
      "     1234    0.002    0.000    0.004    0.000 warnings.py:181(_add_filter)\n",
      "     1234    0.004    0.000    0.004    0.000 subprocess.py:1060(__del__)\n",
      "     3608    0.004    0.000    0.004    0.000 {method 'add' of 'set' objects}\n",
      "        1    0.000    0.000    0.004    0.004 git.py:39(__init__)\n",
      "    24498    0.004    0.000    0.004    0.000 util.py:194(to_native_path_linux)\n",
      "     1327    0.001    0.000    0.004    0.000 abc.py:117(__instancecheck__)\n",
      "    48905    0.004    0.000    0.004    0.000 configparser.py:363(before_get)\n",
      "        1    0.000    0.000    0.004    0.004 git.py:86(_open_repository)\n",
      "      931    0.002    0.000    0.003    0.000 posixpath.py:337(normpath)\n",
      "    61485    0.003    0.000    0.003    0.000 {built-in method builtins.callable}\n",
      "    12297    0.002    0.000    0.003    0.000 config.py:333(_acquire_lock)\n",
      "    24590    0.003    0.000    0.003    0.000 base.py:290(working_tree_dir)\n",
      "    12297    0.003    0.000    0.003    0.000 configparser.py:1191(converters)\n",
      "      279    0.001    0.000    0.003    0.000 util.py:400(expand_path)\n",
      "     2386    0.003    0.000    0.003    0.000 threading.py:267(__exit__)\n",
      "     1327    0.003    0.000    0.003    0.000 {built-in method _abc._abc_instancecheck}\n",
      "     1304    0.003    0.000    0.003    0.000 {built-in method posix.stat}\n",
      "     1234    0.003    0.000    0.003    0.000 _collections_abc.py:828(keys)\n",
      "    57000    0.003    0.000    0.003    0.000 util.py:160(dst)\n",
      "    14250    0.003    0.000    0.003    0.000 developer.py:27(__init__)\n",
      "      792    0.002    0.000    0.003    0.000 ChangeCounter.ipynb:145(update_changes)\n",
      "    43985    0.003    0.000    0.003    0.000 util.py:154(utcoffset)\n",
      "    28382    0.003    0.000    0.003    0.000 {method 'endswith' of 'bytes' objects}\n",
      "     7114    0.003    0.000    0.003    0.000 threading.py:546(is_set)\n",
      "     2516    0.001    0.000    0.003    0.000 contextlib.py:448(_exit_wrapper)\n",
      "     2372    0.002    0.000    0.003    0.000 _weakrefset.py:39(_remove)\n",
      "      928    0.001    0.000    0.003    0.000 genericpath.py:39(isdir)\n",
      "    24500    0.003    0.000    0.003    0.000 {method 'keys' of 'collections.OrderedDict' objects}\n",
      "      106    0.000    0.000    0.002    0.000 parse.py:88(clear_cache)\n",
      "    13463    0.002    0.000    0.002    0.000 {method 'join' of 'str' objects}\n",
      "      212    0.002    0.000    0.002    0.000 {method 'clear' of 'dict' objects}\n",
      "     1236    0.001    0.000    0.002    0.000 __init__.py:1467(info)\n",
      "     2468    0.001    0.000    0.002    0.000 subprocess.py:1173(poll)\n",
      "     2370    0.001    0.000    0.002    0.000 base.py:115(__str__)\n",
      "     2370    0.002    0.000    0.002    0.000 threading.py:1162(is_alive)\n",
      "       93    0.000    0.000    0.002    0.000 configparser.py:827(getboolean)\n",
      "     1238    0.002    0.000    0.002    0.000 {method 'remove' of 'list' objects}\n",
      "    11471    0.002    0.000    0.002    0.000 diff.py:411(rename_from)\n",
      "     2371    0.001    0.000    0.002    0.000 encoding.py:1(force_bytes)\n",
      "       93    0.000    0.000    0.002    0.000 configparser.py:806(_get_conv)\n",
      "        3    0.000    0.000    0.002    0.001 config.py:659(write)\n",
      "    14730    0.002    0.000    0.002    0.000 {method 'strip' of 'bytes' objects}\n",
      "    12295    0.002    0.000    0.002    0.000 base.py:309(bare)\n",
      "    13438    0.002    0.000    0.002    0.000 {method 'read' of '_io.BytesIO' objects}\n",
      "       93    0.000    0.000    0.002    0.000 configparser.py:803(_get)\n",
      "     2374    0.001    0.000    0.001    0.000 threading.py:276(_acquire_restore)\n",
      "      281    0.000    0.000    0.001    0.000 posixpath.py:376(abspath)\n",
      "     3702    0.001    0.000    0.001    0.000 subprocess.py:1858(_internal_poll)\n",
      "    24735    0.001    0.000    0.001    0.000 {method 'reverse' of 'list' objects}\n",
      "     1234    0.001    0.000    0.001    0.000 cmd.py:1058(transform_kwargs)\n",
      "      2/1    0.000    0.000    0.001    0.001 config.py:117(flush_changes)\n",
      "    13015    0.001    0.000    0.001    0.000 {method 'end' of 're.Match' objects}\n",
      "     2470    0.001    0.000    0.001    0.000 __init__.py:1724(isEnabledFor)\n",
      "     1234    0.001    0.000    0.001    0.000 cmd.py:1148(<dictcomp>)\n",
      "     2374    0.001    0.000    0.001    0.000 threading.py:273(_release_save)\n",
      "        1    0.000    0.000    0.001    0.001 config.py:791(set_value)\n",
      "       93    0.000    0.000    0.001    0.000 cmd.py:612(__init__)\n",
      "     1234    0.001    0.000    0.001    0.000 warnings.py:477(__exit__)\n",
      "     1235    0.001    0.000    0.001    0.000 {built-in method builtins.sorted}\n",
      "     1284    0.000    0.000    0.001    0.000 cmd.py:180(dashify)\n",
      "     2126    0.001    0.000    0.001    0.000 <string>:1(<lambda>)\n",
      "     1234    0.001    0.000    0.001    0.000 __init__.py:1455(debug)\n",
      "     1185    0.001    0.000    0.001    0.000 base.py:90(_set_cache_)\n",
      "    12080    0.001    0.000    0.001    0.000 config.py:707(read_only)\n",
      "    11471    0.001    0.000    0.001    0.000 diff.py:415(rename_to)\n",
      "    12761    0.001    0.000    0.001    0.000 {method 'pop' of 'list' objects}\n",
      "     2371    0.001    0.000    0.001    0.000 cmd.py:632(__getattr__)\n",
      "     7116    0.001    0.000    0.001    0.000 {built-in method _thread.get_ident}\n",
      "    11830    0.001    0.000    0.001    0.000 {method 'start' of 're.Match' objects}\n",
      "    12297    0.001    0.000    0.001    0.000 {built-in method builtins.iter}\n",
      "     1235    0.001    0.000    0.001    0.000 commit.py:538(author)\n",
      "        1    0.000    0.000    0.001    0.001 base.py:511(config_writer)\n",
      "     2516    0.001    0.000    0.001    0.000 {method 'pop' of 'collections.deque' objects}\n",
      "    12000    0.001    0.000    0.001    0.000 parse.py:103(_noop)\n",
      "     2468    0.001    0.000    0.001    0.000 {method 'close' of '_io.BufferedReader' objects}\n",
      "        4    0.000    0.000    0.001    0.000 util.py:878(_obtain_lock)\n",
      "        4    0.000    0.000    0.001    0.000 util.py:856(_obtain_lock_or_raise)\n",
      "        1    0.001    0.001    0.001    0.001 {built-in method posix.open}\n",
      "     2126    0.001    0.000    0.001    0.000 {method 'find' of 'str' objects}\n",
      "       93    0.000    0.000    0.001    0.000 db.py:37(__init__)\n",
      "     1234    0.001    0.000    0.001    0.000 cmd.py:1156(<listcomp>)\n",
      "      281    0.000    0.000    0.001    0.000 genericpath.py:27(isfile)\n",
      "     1234    0.001    0.000    0.001    0.000 subprocess.py:246(_cleanup)\n",
      "     3217    0.001    0.000    0.001    0.000 {method '__exit__' of '_thread.RLock' objects}\n",
      "     1418    0.001    0.000    0.001    0.000 {method 'rfind' of 'str' objects}\n",
      "     2378    0.001    0.000    0.001    0.000 {method '__enter__' of '_thread.lock' objects}\n",
      "     2372    0.001    0.000    0.001    0.000 {method 'discard' of 'set' objects}\n",
      "       48    0.000    0.000    0.001    0.000 subprocess.py:2093(terminate)\n",
      "     1234    0.001    0.000    0.001    0.000 contextlib.py:530(__enter__)\n",
      "       93    0.000    0.000    0.001    0.000 genericpath.py:16(exists)\n",
      "     1234    0.001    0.000    0.001    0.000 {method 'rfind' of 'bytes' objects}\n",
      "       48    0.000    0.000    0.001    0.000 subprocess.py:2061(send_signal)\n",
      "     4842    0.001    0.000    0.001    0.000 {method 'release' of '_thread.lock' objects}\n",
      "       93    0.000    0.000    0.001    0.000 loose.py:77(__init__)\n",
      "     1234    0.001    0.000    0.001    0.000 _collections_abc.py:854(__init__)\n",
      "       94    0.000    0.000    0.001    0.000 base.py:464(_get_config_path)\n",
      "     4937    0.000    0.000    0.001    0.000 {method 'items' of 'dict' objects}\n",
      "     1235    0.000    0.000    0.001    0.000 git.py:134(get_commit_from_gitpython)\n",
      "       93    0.000    0.000    0.000    0.000 re.py:197(search)\n",
      "        1    0.000    0.000    0.000    0.000 repository.py:240(<dictcomp>)\n",
      "        4    0.000    0.000    0.000    0.000 thread.py:161(submit)\n",
      "        2    0.000    0.000    0.000    0.000 pathlib.py:1062(resolve)\n",
      "     1234    0.000    0.000    0.000    0.000 cmd.py:1149(<dictcomp>)\n",
      "     4789    0.000    0.000    0.000    0.000 {method 'insert' of 'list' objects}\n",
      "        4    0.000    0.000    0.000    0.000 thread.py:180(_adjust_thread_count)\n",
      "        2    0.000    0.000    0.000    0.000 posixpath.py:391(realpath)\n",
      "       48    0.000    0.000    0.000    0.000 {built-in method posix.kill}\n",
      "      467    0.000    0.000    0.000    0.000 posixpath.py:60(isabs)\n",
      "     3624    0.000    0.000    0.000    0.000 {method '__exit__' of '_thread.lock' objects}\n",
      "        2    0.000    0.000    0.000    0.000 posixpath.py:400(_joinrealpath)\n",
      "       93    0.000    0.000    0.000    0.000 _collections_abc.py:820(__contains__)\n",
      "       48    0.000    0.000    0.000    0.000 {method 'close' of '_io.BufferedWriter' objects}\n",
      "       93    0.000    0.000    0.000    0.000 re.py:288(_compile)\n",
      "     1766    0.000    0.000    0.000    0.000 {method 'values' of 'dict' objects}\n",
      "     3702    0.000    0.000    0.000    0.000 {built-in method _warnings._filters_mutated}\n",
      "        8    0.000    0.000    0.000    0.000 {built-in method posix.lstat}\n",
      "       93    0.000    0.000    0.000    0.000 base.py:113(__init__)\n",
      "        3    0.000    0.000    0.000    0.000 config.py:615(_write)\n",
      "     3348    0.000    0.000    0.000    0.000 {method 'keys' of 'dict' objects}\n",
      "     2126    0.000    0.000    0.000    0.000 parse.py:419(_checknetloc)\n",
      "     1234    0.000    0.000    0.000    0.000 {built-in method sys.audit}\n",
      "       92    0.000    0.000    0.000    0.000 base.py:197(abspath)\n",
      "       92    0.000    0.000    0.000    0.000 mman.py:408(collect)\n",
      "       45    0.000    0.000    0.000    0.000 config.py:618(write_section)\n",
      "     1235    0.000    0.000    0.000    0.000 commit.py:503(__init__)\n",
      "      279    0.000    0.000    0.000    0.000 posixpath.py:228(expanduser)\n",
      "     1282    0.000    0.000    0.000    0.000 {method 'update' of 'dict' objects}\n",
      "     1234    0.000    0.000    0.000    0.000 {built-in method posix.waitstatus_to_exitcode}\n",
      "      277    0.000    0.000    0.000    0.000 cmd.py:368(is_cygwin)\n",
      "        1    0.000    0.000    0.000    0.000 _base.py:636(__exit__)\n",
      "     1185    0.000    0.000    0.000    0.000 diff.py:86(_process_diff_args)\n",
      "     1234    0.000    0.000    0.000    0.000 {built-in method posix.WIFSTOPPED}\n",
      "      279    0.000    0.000    0.000    0.000 posixpath.py:284(expandvars)\n",
      "     2376    0.000    0.000    0.000    0.000 {method 'locked' of '_thread.lock' objects}\n",
      "     1234    0.000    0.000    0.000    0.000 {method 'pop' of 'dict' objects}\n",
      "       92    0.000    0.000    0.000    0.000 base.py:266(__ne__)\n",
      "     1185    0.000    0.000    0.000    0.000 util.py:257(_set_cache_)\n",
      "       52    0.000    0.000    0.000    0.000 cmd.py:1042(transform_kwarg)\n",
      "        1    0.000    0.000    0.000    0.000 thread.py:216(shutdown)\n",
      "        5    0.000    0.000    0.000    0.000 _base.py:201(as_completed)\n",
      "       92    0.000    0.000    0.000    0.000 mman.py:303(_collect_lru_region)\n",
      "        1    0.000    0.000    0.000    0.000 git.py:92(_discover_main_branch)\n",
      "        1    0.000    0.000    0.000    0.000 base.py:792(active_branch)\n",
      "       93    0.000    0.000    0.000    0.000 configparser.py:1163(_convert_to_boolean)\n",
      "      792    0.000    0.000    0.000    0.000 ChangeCounter.ipynb:155(update_elems)\n",
      "        1    0.000    0.000    0.000    0.000 symbolic.py:288(_get_reference)\n",
      "       45    0.000    0.000    0.000    0.000 config.py:216(items_all)\n",
      "       93    0.000    0.000    0.000    0.000 base.py:70(__init__)\n",
      "      835    0.000    0.000    0.000    0.000 {built-in method _stat.S_ISDIR}\n",
      "      277    0.000    0.000    0.000    0.000 util.py:347(is_cygwin_git)\n",
      "       45    0.000    0.000    0.000    0.000 config.py:218(<listcomp>)\n",
      "        2    0.000    0.000    0.000    0.000 util.py:883(_release_lock)\n",
      "        2    0.000    0.000    0.000    0.000 weakref.py:370(remove)\n",
      "        1    0.000    0.000    0.000    0.000 util.py:139(rmfile)\n",
      "       88    0.000    0.000    0.000    0.000 config.py:786(_value_to_string)\n",
      "        1    0.000    0.000    0.000    0.000 {built-in method posix.remove}\n",
      "       92    0.000    0.000    0.000    0.000 base.py:261(__eq__)\n",
      "        1    0.000    0.000    0.000    0.000 thread.py:123(__init__)\n",
      "      132    0.000    0.000    0.000    0.000 config.py:209(getall)\n",
      "        4    0.000    0.000    0.000    0.000 threading.py:421(acquire)\n",
      "        6    0.000    0.000    0.000    0.000 _base.py:179(_yield_finished_futures)\n",
      "        4    0.000    0.000    0.000    0.000 _base.py:418(result)\n",
      "        3    0.000    0.000    0.000    0.000 config.py:212(items)\n",
      "        1    0.000    0.000    0.000    0.000 repository.py:44(__init__)\n",
      "        3    0.000    0.000    0.000    0.000 config.py:214(<listcomp>)\n",
      "        1    0.000    0.000    0.000    0.000 symbolic.py:685(from_path)\n",
      "        2    0.000    0.000    0.000    0.000 pathlib.py:1090(stat)\n",
      "        1    0.000    0.000    0.000    0.000 repository.py:256(_split_in_chunks)\n",
      "      187    0.000    0.000    0.000    0.000 {built-in method _stat.S_ISREG}\n",
      "       88    0.000    0.000    0.000    0.000 encoding.py:11(force_text)\n",
      "        2    0.000    0.000    0.000    0.000 threading.py:793(_maintain_shutdown_locks)\n",
      "        4    0.000    0.000    0.000    0.000 pathlib.py:629(__fspath__)\n",
      "        4    0.000    0.000    0.000    0.000 _base.py:318(__init__)\n",
      "        1    0.000    0.000    0.000    0.000 conf.py:77(sanity_check_filters)\n",
      "       57    0.000    0.000    0.000    0.000 {method 'find' of 'bytes' objects}\n",
      "        1    0.000    0.000    0.000    0.000 threading.py:415(__init__)\n",
      "        5    0.000    0.000    0.000    0.000 {method 'put' of '_queue.SimpleQueue' objects}\n",
      "        1    0.000    0.000    0.000    0.000 conf.py:24(__init__)\n",
      "        1    0.000    0.000    0.000    0.000 _base.py:157(_create_and_install_waiters)\n",
      "        4    0.000    0.000    0.000    0.000 _base.py:388(__get_result)\n",
      "        1    0.000    0.000    0.000    0.000 _base.py:146(__init__)\n",
      "        1    0.000    0.000    0.000    0.000 _base.py:79(__init__)\n",
      "       57    0.000    0.000    0.000    0.000 {method 'rstrip' of 'bytes' objects}\n",
      "        1    0.000    0.000    0.000    0.000 conf.py:191(build_args)\n",
      "       93    0.000    0.000    0.000    0.000 {built-in method builtins.issubclass}\n",
      "        2    0.000    0.000    0.000    0.000 repository.py:148(_is_remote)\n",
      "        1    0.000    0.000    0.000    0.000 conf.py:287(_check_timezones)\n",
      "        7    0.000    0.000    0.000    0.000 conf.py:36(set_value)\n",
      "        1    0.000    0.000    0.000    0.000 reference.py:46(__init__)\n",
      "        1    0.000    0.000    0.000    0.000 _base.py:153(__exit__)\n",
      "        1    0.000    0.000    0.000    0.000 _base.py:63(__init__)\n",
      "        1    0.000    0.000    0.000    0.000 conf.py:293(_replace_timezone)\n",
      "        1    0.000    0.000    0.000    0.000 {built-in method math.ceil}\n",
      "        4    0.000    0.000    0.000    0.000 thread.py:47(__init__)\n",
      "        1    0.000    0.000    0.000    0.000 conf.py:65(_check_only_one_from_commit)\n",
      "        8    0.000    0.000    0.000    0.000 {method 'partition' of 'str' objects}\n",
      "        1    0.000    0.000    0.000    0.000 configparser.py:892(set)\n",
      "        1    0.000    0.000    0.000    0.000 git.py:322(__del__)\n",
      "        1    0.000    0.000    0.000    0.000 _base.py:149(__enter__)\n",
      "        1    0.000    0.000    0.000    0.000 contextlib.py:279(helper)\n",
      "        1    0.000    0.000    0.000    0.000 {method 'replace' of 'datetime.datetime' objects}\n",
      "        4    0.000    0.000    0.000    0.000 threading.py:90(RLock)\n",
      "        2    0.000    0.000    0.000    0.000 conf.py:181(only_one_filter)\n",
      "        1    0.000    0.000    0.000    0.000 conf.py:71(_check_only_one_to_commit)\n",
      "        1    0.000    0.000    0.000    0.000 contextlib.py:102(__init__)\n",
      "        2    0.000    0.000    0.000    0.000 weakref.py:428(__setitem__)\n",
      "        1    0.000    0.000    0.000    0.000 util.py:844(__del__)\n",
      "        1    0.000    0.000    0.000    0.000 reference.py:100(name)\n",
      "        2    0.000    0.000    0.000    0.000 threading.py:803(<listcomp>)\n",
      "        3    0.000    0.000    0.000    0.000 git.py:63(repo)\n",
      "        8    0.000    0.000    0.000    0.000 {method '__enter__' of '_thread.RLock' objects}\n",
      "        8    0.000    0.000    0.000    0.000 util.py:851(_has_lock)\n",
      "        1    0.000    0.000    0.000    0.000 threading.py:572(clear)\n",
      "        3    0.000    0.000    0.000    0.000 config.py:699(_assure_writable)\n",
      "        4    0.000    0.000    0.000    0.000 _base.py:225(<genexpr>)\n",
      "        5    0.000    0.000    0.000    0.000 {method 'remove' of 'set' objects}\n",
      "        8    0.000    0.000    0.000    0.000 {built-in method _stat.S_ISLNK}\n",
      "        1    0.000    0.000    0.000    0.000 conf.py:54(_sanity_check_repos)\n",
      "        2    0.000    0.000    0.000    0.000 util.py:847(_lock_file_path)\n",
      "        1    0.000    0.000    0.000    0.000 conf.py:142(get_starting_commit)\n",
      "        2    0.000    0.000    0.000    0.000 {method 'difference_update' of 'set' objects}\n",
      "        4    0.000    0.000    0.000    0.000 {built-in method time.monotonic}\n",
      "        1    0.000    0.000    0.000    0.000 conf.py:165(get_ending_commit)\n",
      "        1    0.000    0.000    0.000    0.000 pathlib.py:708(name)\n",
      "        4    0.000    0.000    0.000    0.000 {method 'lstrip' of 'str' objects}\n",
      "        1    0.000    0.000    0.000    0.000 conf.py:114(_check_correct_filters_order)\n",
      "        2    0.000    0.000    0.000    0.000 pathlib.py:1430(expanduser)\n",
      "        2    0.000    0.000    0.000    0.000 conf.py:189(<listcomp>)\n",
      "        4    0.000    0.000    0.000    0.000 {method 'acquire' of '_thread.RLock' objects}\n",
      "        2    0.000    0.000    0.000    0.000 {method 'remove' of 'collections.deque' objects}\n",
      "        1    0.000    0.000    0.000    0.000 util.py:840(__init__)\n",
      "        4    0.000    0.000    0.000    0.000 {method 'release' of '_thread.RLock' objects}\n",
      "        1    0.000    0.000    0.000    0.000 {method 'disable' of '_lsprof.Profiler' objects}\n",
      "        1    0.000    0.000    0.000    0.000 __init__.py:230(utcoffset)\n",
      "        1    0.000    0.000    0.000    0.000 configparser.py:663(has_section)\n",
      "        1    0.000    0.000    0.000    0.000 _base.py:633(__enter__)\n",
      "        1    0.000    0.000    0.000    0.000 configparser.py:366(before_set)\n",
      "\n",
      "\n"
     ]
    }
   ],
   "source": [
    "cProfile.run('debuggingbook_change_counter(ChangeCounter)', sort='cumulative')"
   ]
  },
  {
   "attachments": {},
   "cell_type": "markdown",
   "metadata": {
    "slideshow": {
     "slide_type": "subslide"
    }
   },
   "source": [
    "Yes, that's an awful lot of functions, but we can quickly narrow things down. The `cumtime` column is sorted by largest values first. We see that the `debuggingbook_change_counter()` method at the top takes up all the time – but this is not surprising, since it is the method we called in the first place. This calls a method `mine()` in the `ChangeCounter` class, which does all the work."
   ]
  },
  {
   "cell_type": "markdown",
   "metadata": {
    "slideshow": {
     "slide_type": "fragment"
    }
   },
   "source": [
    "The next places are more interesting: almost all time is spent in a single method, named `modifications()`. This method determines the difference between two versions, which is an expensive operation; this is also supported by the observation that half of the time is spent in a `diff()` method."
   ]
  },
  {
   "cell_type": "markdown",
   "metadata": {
    "slideshow": {
     "slide_type": "subslide"
    }
   },
   "source": [
    "This profile thus already gets us a hint on how to improve performance: Rather than computing the diff between versions for _every_ version, we could do so _on demand_ (and possibly cache results so we don't have to compute them twice). Alas, this (slow) functionality is part of the \n",
    "underlying [PyDriller](https://pydriller.readthedocs.io/) Python package, so we cannot fix this within the `ChangeCounter` class. But we could file a bug with the developers, suggesting a patch to improve performance."
   ]
  },
  {
   "cell_type": "markdown",
   "metadata": {
    "slideshow": {
     "slide_type": "subslide"
    }
   },
   "source": [
    "### Sampling Execution Profiles\n",
    "\n",
    "Instrumenting code is _precise_, but it is also _slow_. An alternate way to measure performance is to _sample_ in regular intervals which functions are currently active – for instance, by examining the current function call stack. The more frequently a function is sampled as active, the more time is spent in that function."
   ]
  },
  {
   "cell_type": "markdown",
   "metadata": {
    "slideshow": {
     "slide_type": "subslide"
    }
   },
   "source": [
    "One profiler for Python that implements such sampling is [Scalene](https://github.com/plasma-umass/scalene) – a high-performance, high-precision CPU, GPU, and memory profiler for Python. We can invoke it on our example as follows:\n",
    "\n",
    "```sh\n",
    "$ scalene --html test.py > scalene-out.html\n",
    "```"
   ]
  },
  {
   "cell_type": "markdown",
   "metadata": {
    "slideshow": {
     "slide_type": "fragment"
    }
   },
   "source": [
    "where `test.py` is a script that again invokes\n",
    "\n",
    "```python\n",
    "debuggingbook_change_counter(ChangeCounter)\n",
    "```"
   ]
  },
  {
   "attachments": {},
   "cell_type": "markdown",
   "metadata": {
    "slideshow": {
     "slide_type": "subslide"
    }
   },
   "source": [
    "The output of `scalene` is sent to a HTML file (here, `scalene-out.html`) which is organized by _lines_ – that is, for each line, we see how much it contributed to overall execution time. Opening the output `scalene-out.html` in a HTML browser, we see these lines:"
   ]
  },
  {
   "cell_type": "markdown",
   "metadata": {
    "slideshow": {
     "slide_type": "fragment"
    }
   },
   "source": [
    "![](PICS/scalene-out.png)"
   ]
  },
  {
   "cell_type": "markdown",
   "metadata": {
    "slideshow": {
     "slide_type": "fragment"
    }
   },
   "source": [
    "As with `cProfile`, above, we identify the `mine()` method in the `ChangeCounter` class as the main performance hog – and in the `mine()` method, it is the iteration over all modifications that takes all the time. Adding the option `--profile-all` to `scalene` would extend the profile to all executed code, including the `pydriller` third-party library."
   ]
  },
  {
   "cell_type": "markdown",
   "metadata": {
    "slideshow": {
     "slide_type": "fragment"
    }
   },
   "source": [
    "Besides relying on sampling rather that tracing (which is more efficient) and breaking down execution time by line, `scalene` also provides additional information on memory usage and more. If `cProfile` is not sufficient, then `scalene` will bring profiling to the next level."
   ]
  },
  {
   "cell_type": "markdown",
   "metadata": {
    "slideshow": {
     "slide_type": "slide"
    }
   },
   "source": [
    "## Improving Performance"
   ]
  },
  {
   "cell_type": "markdown",
   "metadata": {
    "slideshow": {
     "slide_type": "fragment"
    }
   },
   "source": [
    "Identifying a culprit is not always that easy. Notably, when the first set of obvious performance hogs is fixed, it becomes more and more difficult to squeeze out additional performance – and, as stated above, such optimization may be in conflict with readability and maintainability of your code. Here are some simple ways to improve performance:"
   ]
  },
  {
   "cell_type": "markdown",
   "metadata": {
    "slideshow": {
     "slide_type": "subslide"
    }
   },
   "source": [
    "* **Efficient algorithms**. For many tasks, the simplest algorithm is not always the best performing one. Consider alternatives that may be more efficient, and _measure_ whether they pay off.\n",
    "\n",
    "* **Efficient data types**. Remember that certain operations, such as looking up whether an element is contained, may take different amounts of time depending on the data structure. In Python, a query like `x in xs` takes (mostly) constant time if `xs` is a set, but linear time if `xs` is a list; these differences become significant as the size of `xs` grows.\n",
    "\n",
    "* **Efficient modules**. In Python, most frequently used modules (or at least parts of) are implemented in C, which is way more efficient than plain Python. Rely on existing modules whenever possible. Or implement your own, _after_ having measured that this may pay off."
   ]
  },
  {
   "cell_type": "markdown",
   "metadata": {
    "slideshow": {
     "slide_type": "subslide"
    }
   },
   "source": [
    "These are all things you can already use during programming – and also set up your code such that exchanging, say, one data type by another will still be possible later. This is best achieved by hiding implementation details (such as the used data types) behind an abstract interface used by your clients."
   ]
  },
  {
   "cell_type": "markdown",
   "metadata": {
    "slideshow": {
     "slide_type": "fragment"
    }
   },
   "source": [
    "But beyond these points, remember the famous words by [Donald E. Knuth](https://en.wikipedia.org/wiki/Donald_Knuth):"
   ]
  },
  {
   "cell_type": "code",
   "execution_count": 10,
   "metadata": {
    "execution": {
     "iopub.execute_input": "2024-06-30T17:27:48.327551Z",
     "iopub.status.busy": "2024-06-30T17:27:48.327407Z",
     "iopub.status.idle": "2024-06-30T17:27:48.329586Z",
     "shell.execute_reply": "2024-06-30T17:27:48.329339Z"
    },
    "slideshow": {
     "slide_type": "skip"
    }
   },
   "outputs": [],
   "source": [
    "from bookutils import quiz"
   ]
  },
  {
   "cell_type": "code",
   "execution_count": 11,
   "metadata": {
    "execution": {
     "iopub.execute_input": "2024-06-30T17:27:48.331030Z",
     "iopub.status.busy": "2024-06-30T17:27:48.330921Z",
     "iopub.status.idle": "2024-06-30T17:27:48.336366Z",
     "shell.execute_reply": "2024-06-30T17:27:48.336073Z"
    },
    "slideshow": {
     "slide_type": "fragment"
    }
   },
   "outputs": [
    {
     "data": {
      "text/html": [
       "\n",
       "    \n",
       "    <script>\n",
       "    var bad_answers = new Map();\n",
       "\n",
       "    function answer(quiz_id) {\n",
       "        ans = 0;\n",
       "        for (i = 1;; i++) {\n",
       "            checkbox = document.getElementById(quiz_id + \"-\" + i.toString());\n",
       "            if (!checkbox)\n",
       "                break;\n",
       "            if (checkbox.checked)\n",
       "                ans |= (1 << i);\n",
       "        }\n",
       "        return ans;\n",
       "    }\n",
       "    function check_selection(quiz_id, correct_answer, multiple_choice, hint) {\n",
       "        given_answer = answer(quiz_id);\n",
       "        if (given_answer == correct_answer)\n",
       "        {\n",
       "            document.getElementById(quiz_id + \"-submit\").value = \"Correct!\";\n",
       "            document.getElementById(quiz_id + \"-hint\").innerHTML = \"\";\n",
       "\n",
       "            for (i = 1;; i++) {\n",
       "                checkbox = document.getElementById(quiz_id + \"-\" + i.toString());\n",
       "                label = document.getElementById(quiz_id + \"-\" + i.toString() + \"-label\")\n",
       "                if (!checkbox)\n",
       "                    break;\n",
       "    \n",
       "                if (checkbox.checked) {\n",
       "                    label.style.fontWeight = \"bold\";\n",
       "                }\n",
       "                else {\n",
       "                    label.style.textDecoration = \"line-through\";\n",
       "                }\n",
       "            }\n",
       "        }\n",
       "        else \n",
       "        {\n",
       "            document.getElementById(quiz_id + \"-submit\").value = \"Try again\";\n",
       "            \n",
       "            if (!bad_answers.has(quiz_id)) {\n",
       "                bad_answers.set(quiz_id, 1);\n",
       "            }\n",
       "            else {\n",
       "                bad_answers.set(quiz_id, bad_answers.get(quiz_id) + 1);\n",
       "            }\n",
       "\n",
       "            if (bad_answers.get(quiz_id) >= 2 && hint.length > 0) {\n",
       "                document.getElementById(quiz_id + \"-hint\").innerHTML = \n",
       "                    \"&nbsp;&nbsp;(Hint: <code>\" + hint + \"</code>)\";\n",
       "            }\n",
       "\n",
       "            if (!multiple_choice) {\n",
       "                for (i = 1;; i++) {\n",
       "                    checkbox = document.getElementById(quiz_id + \"-\" + i.toString());\n",
       "                    label = document.getElementById(quiz_id + \"-\" + i.toString() + \"-label\")\n",
       "\n",
       "                    if (!checkbox)\n",
       "                        break;\n",
       "                    if (checkbox.checked) {\n",
       "                        label.style.textDecoration = \"line-through\";\n",
       "                    }\n",
       "                }\n",
       "            }\n",
       "        }\n",
       "    }\n",
       "    function clear_selection(quiz_id) {\n",
       "        document.getElementById(quiz_id + \"-submit\").value = \"Submit\";\n",
       "        document.getElementById(quiz_id + \"-hint\").innerHTML = \"\";\n",
       "    }\n",
       "    </script>\n",
       "    \n",
       "    <div class=\"quiz\">\n",
       "    <h3 class=\"quiz_title\">Quiz</h3>\n",
       "    <p>\n",
       "    <div class=\"quiz_question\">Donald E. Knuth said: \"Premature optimization...\"</div>\n",
       "    </p>\n",
       "    <p>\n",
       "    <div class=\"quiz_options\" title=\"Pick a choice.\">\n",
       "    \n",
       "        <input type=\"radio\" name=\"120360f2-3706-11ef-bb0c-6298cf1a578f\" id=\"120360f2-3706-11ef-bb0c-6298cf1a578f-1\" onclick=\"clear_selection('120360f2-3706-11ef-bb0c-6298cf1a578f')\">\n",
       "        <label id=\"120360f2-3706-11ef-bb0c-6298cf1a578f-1-label\" for=\"120360f2-3706-11ef-bb0c-6298cf1a578f-1\">... is the root of all evil</label><br>\n",
       "    \n",
       "        <input type=\"radio\" name=\"120360f2-3706-11ef-bb0c-6298cf1a578f\" id=\"120360f2-3706-11ef-bb0c-6298cf1a578f-2\" onclick=\"clear_selection('120360f2-3706-11ef-bb0c-6298cf1a578f')\">\n",
       "        <label id=\"120360f2-3706-11ef-bb0c-6298cf1a578f-2-label\" for=\"120360f2-3706-11ef-bb0c-6298cf1a578f-2\">... requires lots of experience</label><br>\n",
       "    \n",
       "        <input type=\"radio\" name=\"120360f2-3706-11ef-bb0c-6298cf1a578f\" id=\"120360f2-3706-11ef-bb0c-6298cf1a578f-3\" onclick=\"clear_selection('120360f2-3706-11ef-bb0c-6298cf1a578f')\">\n",
       "        <label id=\"120360f2-3706-11ef-bb0c-6298cf1a578f-3-label\" for=\"120360f2-3706-11ef-bb0c-6298cf1a578f-3\">... should be left to assembly programmers</label><br>\n",
       "    \n",
       "        <input type=\"radio\" name=\"120360f2-3706-11ef-bb0c-6298cf1a578f\" id=\"120360f2-3706-11ef-bb0c-6298cf1a578f-4\" onclick=\"clear_selection('120360f2-3706-11ef-bb0c-6298cf1a578f')\">\n",
       "        <label id=\"120360f2-3706-11ef-bb0c-6298cf1a578f-4-label\" for=\"120360f2-3706-11ef-bb0c-6298cf1a578f-4\">... is the reason why TeX is so fast</label><br>\n",
       "    \n",
       "    </div>\n",
       "    </p>\n",
       "    <input id=\"120360f2-3706-11ef-bb0c-6298cf1a578f-submit\" type=\"submit\" value=\"Submit\" onclick=\"check_selection('120360f2-3706-11ef-bb0c-6298cf1a578f', 2, 0, 'len(&quot;METAFONT&quot;) - len(&quot;TeX&quot;) - len(&quot;CWEB&quot;)')\">\n",
       "    <span class=\"quiz_hint\" id=\"120360f2-3706-11ef-bb0c-6298cf1a578f-hint\"></span>\n",
       "    </div>\n",
       "    "
      ],
      "text/plain": [
       "<IPython.core.display.HTML object>"
      ]
     },
     "execution_count": 11,
     "metadata": {},
     "output_type": "execute_result"
    }
   ],
   "source": [
    "quiz('Donald E. Knuth said: \"Premature optimization...\"',\n",
    "    [\n",
    "        \"... is the root of all evil\",\n",
    "        \"... requires lots of experience\",\n",
    "        \"... should be left to assembly programmers\",\n",
    "        \"... is the reason why TeX is so fast\",\n",
    "    ], 'len(\"METAFONT\") - len(\"TeX\") - len(\"CWEB\")')"
   ]
  },
  {
   "cell_type": "markdown",
   "metadata": {
    "slideshow": {
     "slide_type": "subslide"
    }
   },
   "source": [
    "This quote should always remind us that after a good design, you should always _first_ measure and _then_ optimize."
   ]
  },
  {
   "cell_type": "markdown",
   "metadata": {
    "slideshow": {
     "slide_type": "slide"
    }
   },
   "source": [
    "## Building a Profiler\n",
    "\n",
    "Having discussed profilers from a _user_ perspective, let us now dive into how they are actually implemented. It turns out we can use most of our existing infrastructure to implement a simple tracing profiler with only a few lines of code."
   ]
  },
  {
   "cell_type": "markdown",
   "metadata": {
    "slideshow": {
     "slide_type": "fragment"
    }
   },
   "source": [
    "The program we will apply our profiler on is – surprise! – our ongoing example, `remove_html_markup()`. Our aim is to understand how much time is spent _in each line of the code_ (such that we have a new feature on top of Python `cProfile`)."
   ]
  },
  {
   "cell_type": "code",
   "execution_count": 12,
   "metadata": {
    "execution": {
     "iopub.execute_input": "2024-06-30T17:27:48.339348Z",
     "iopub.status.busy": "2024-06-30T17:27:48.339236Z",
     "iopub.status.idle": "2024-06-30T17:27:48.341007Z",
     "shell.execute_reply": "2024-06-30T17:27:48.340742Z"
    },
    "slideshow": {
     "slide_type": "skip"
    }
   },
   "outputs": [],
   "source": [
    "from Intro_Debugging import remove_html_markup"
   ]
  },
  {
   "cell_type": "code",
   "execution_count": 13,
   "metadata": {
    "execution": {
     "iopub.execute_input": "2024-06-30T17:27:48.343025Z",
     "iopub.status.busy": "2024-06-30T17:27:48.342601Z",
     "iopub.status.idle": "2024-06-30T17:27:48.344625Z",
     "shell.execute_reply": "2024-06-30T17:27:48.344398Z"
    },
    "slideshow": {
     "slide_type": "fragment"
    }
   },
   "outputs": [],
   "source": [
    "# ignore\n",
    "from typing import Any, Optional, Type, Dict, Tuple, List"
   ]
  },
  {
   "cell_type": "code",
   "execution_count": 14,
   "metadata": {
    "execution": {
     "iopub.execute_input": "2024-06-30T17:27:48.345987Z",
     "iopub.status.busy": "2024-06-30T17:27:48.345883Z",
     "iopub.status.idle": "2024-06-30T17:27:48.347549Z",
     "shell.execute_reply": "2024-06-30T17:27:48.347312Z"
    },
    "slideshow": {
     "slide_type": "fragment"
    }
   },
   "outputs": [],
   "source": [
    "# ignore\n",
    "from bookutils import print_content"
   ]
  },
  {
   "cell_type": "code",
   "execution_count": 15,
   "metadata": {
    "execution": {
     "iopub.execute_input": "2024-06-30T17:27:48.349391Z",
     "iopub.status.busy": "2024-06-30T17:27:48.349286Z",
     "iopub.status.idle": "2024-06-30T17:27:48.350715Z",
     "shell.execute_reply": "2024-06-30T17:27:48.350469Z"
    },
    "slideshow": {
     "slide_type": "subslide"
    }
   },
   "outputs": [],
   "source": [
    "# ignore\n",
    "import inspect"
   ]
  },
  {
   "cell_type": "code",
   "execution_count": 16,
   "metadata": {
    "execution": {
     "iopub.execute_input": "2024-06-30T17:27:48.352055Z",
     "iopub.status.busy": "2024-06-30T17:27:48.351953Z",
     "iopub.status.idle": "2024-06-30T17:27:48.487288Z",
     "shell.execute_reply": "2024-06-30T17:27:48.486992Z"
    },
    "slideshow": {
     "slide_type": "subslide"
    }
   },
   "outputs": [
    {
     "name": "stdout",
     "output_type": "stream",
     "text": [
      "238  \u001b[34mdef\u001b[39;49;00m \u001b[32mremove_html_markup\u001b[39;49;00m(s):  \u001b[37m# type: ignore\u001b[39;49;00m\u001b[37m\u001b[39;49;00m\n",
      "239      tag = \u001b[34mFalse\u001b[39;49;00m\u001b[37m\u001b[39;49;00m\n",
      "240      quote = \u001b[34mFalse\u001b[39;49;00m\u001b[37m\u001b[39;49;00m\n",
      "241      out = \u001b[33m\"\u001b[39;49;00m\u001b[33m\"\u001b[39;49;00m\u001b[37m\u001b[39;49;00m\n",
      "242  \u001b[37m\u001b[39;49;00m\n",
      "243      \u001b[34mfor\u001b[39;49;00m c \u001b[35min\u001b[39;49;00m s:\u001b[37m\u001b[39;49;00m\n",
      "244          \u001b[34massert\u001b[39;49;00m tag \u001b[35mor\u001b[39;49;00m \u001b[35mnot\u001b[39;49;00m quote\u001b[37m\u001b[39;49;00m\n",
      "245  \u001b[37m\u001b[39;49;00m\n",
      "246          \u001b[34mif\u001b[39;49;00m c == \u001b[33m'\u001b[39;49;00m\u001b[33m<\u001b[39;49;00m\u001b[33m'\u001b[39;49;00m \u001b[35mand\u001b[39;49;00m \u001b[35mnot\u001b[39;49;00m quote:\u001b[37m\u001b[39;49;00m\n",
      "247              tag = \u001b[34mTrue\u001b[39;49;00m\u001b[37m\u001b[39;49;00m\n",
      "248          \u001b[34melif\u001b[39;49;00m c == \u001b[33m'\u001b[39;49;00m\u001b[33m>\u001b[39;49;00m\u001b[33m'\u001b[39;49;00m \u001b[35mand\u001b[39;49;00m \u001b[35mnot\u001b[39;49;00m quote:\u001b[37m\u001b[39;49;00m\n",
      "249              tag = \u001b[34mFalse\u001b[39;49;00m\u001b[37m\u001b[39;49;00m\n",
      "250          \u001b[34melif\u001b[39;49;00m (c == \u001b[33m'\u001b[39;49;00m\u001b[33m\"\u001b[39;49;00m\u001b[33m'\u001b[39;49;00m \u001b[35mor\u001b[39;49;00m c == \u001b[33m\"\u001b[39;49;00m\u001b[33m'\u001b[39;49;00m\u001b[33m\"\u001b[39;49;00m) \u001b[35mand\u001b[39;49;00m tag:\u001b[37m\u001b[39;49;00m\n",
      "251              quote = \u001b[35mnot\u001b[39;49;00m quote\u001b[37m\u001b[39;49;00m\n",
      "252          \u001b[34melif\u001b[39;49;00m \u001b[35mnot\u001b[39;49;00m tag:\u001b[37m\u001b[39;49;00m\n",
      "253              out = out + c\u001b[37m\u001b[39;49;00m\n",
      "254  \u001b[37m\u001b[39;49;00m\n",
      "255      \u001b[34mreturn\u001b[39;49;00m out\u001b[37m\u001b[39;49;00m"
     ]
    }
   ],
   "source": [
    "print_content(inspect.getsource(remove_html_markup), '.py',\n",
    "              start_line_number=238)"
   ]
  },
  {
   "cell_type": "markdown",
   "metadata": {
    "slideshow": {
     "slide_type": "subslide"
    }
   },
   "source": [
    "We introduce a class `PerformanceTracer` that tracks, for each line in the code:\n",
    "\n",
    "* how _often_ it was executed (`hits`), and\n",
    "* _how much time_ was spent during its execution (`time`).\n",
    "\n",
    "To this end, we make use of our `Timer` class, which measures time, and the `Tracer` class from [the chapter on tracing](Tracer.ipynb), which allows us to track every line of the program as it is being executed."
   ]
  },
  {
   "cell_type": "code",
   "execution_count": 17,
   "metadata": {
    "execution": {
     "iopub.execute_input": "2024-06-30T17:27:48.488922Z",
     "iopub.status.busy": "2024-06-30T17:27:48.488806Z",
     "iopub.status.idle": "2024-06-30T17:27:48.490411Z",
     "shell.execute_reply": "2024-06-30T17:27:48.490156Z"
    },
    "slideshow": {
     "slide_type": "skip"
    }
   },
   "outputs": [],
   "source": [
    "from Tracer import Tracer"
   ]
  },
  {
   "attachments": {},
   "cell_type": "markdown",
   "metadata": {
    "slideshow": {
     "slide_type": "fragment"
    }
   },
   "source": [
    "In `PerformanceTracker`, the attributes `hits` and `time` are mappings indexed by unique locations – that is, pairs of function name and line number."
   ]
  },
  {
   "cell_type": "code",
   "execution_count": 18,
   "metadata": {
    "execution": {
     "iopub.execute_input": "2024-06-30T17:27:48.492066Z",
     "iopub.status.busy": "2024-06-30T17:27:48.491957Z",
     "iopub.status.idle": "2024-06-30T17:27:48.493694Z",
     "shell.execute_reply": "2024-06-30T17:27:48.493449Z"
    },
    "slideshow": {
     "slide_type": "fragment"
    }
   },
   "outputs": [],
   "source": [
    "Location = Tuple[str, int]"
   ]
  },
  {
   "cell_type": "code",
   "execution_count": 19,
   "metadata": {
    "execution": {
     "iopub.execute_input": "2024-06-30T17:27:48.495076Z",
     "iopub.status.busy": "2024-06-30T17:27:48.494970Z",
     "iopub.status.idle": "2024-06-30T17:27:48.497303Z",
     "shell.execute_reply": "2024-06-30T17:27:48.497061Z"
    },
    "slideshow": {
     "slide_type": "subslide"
    }
   },
   "outputs": [],
   "source": [
    "class PerformanceTracer(Tracer):\n",
    "    \"\"\"Trace time and #hits for individual program lines\"\"\"\n",
    "\n",
    "    def __init__(self) -> None:\n",
    "        \"\"\"Constructor.\"\"\"\n",
    "        super().__init__()\n",
    "        self.reset_timer()\n",
    "        self.hits: Dict[Location, int] = {}\n",
    "        self.time: Dict[Location, float] = {}\n",
    "\n",
    "    def reset_timer(self) -> None:\n",
    "        self.timer = Timer.Timer()"
   ]
  },
  {
   "cell_type": "markdown",
   "metadata": {
    "slideshow": {
     "slide_type": "subslide"
    }
   },
   "source": [
    "As common in this book, we want to use `PerformanceTracer` in a `with`-block around the function call(s) to be tracked:\n",
    "\n",
    "```python\n",
    "with PerformanceTracer() as perf_tracer:\n",
    "    function(...)\n",
    "```"
   ]
  },
  {
   "cell_type": "markdown",
   "metadata": {
    "slideshow": {
     "slide_type": "fragment"
    }
   },
   "source": [
    "When entering the `with` block (`__enter__()`), we reset all timers. Also, coming from the `__enter__()` method of the superclass `Tracer`, we enable tracing through the `traceit()` method."
   ]
  },
  {
   "cell_type": "code",
   "execution_count": 20,
   "metadata": {
    "execution": {
     "iopub.execute_input": "2024-06-30T17:27:48.498966Z",
     "iopub.status.busy": "2024-06-30T17:27:48.498864Z",
     "iopub.status.idle": "2024-06-30T17:27:48.500547Z",
     "shell.execute_reply": "2024-06-30T17:27:48.500295Z"
    },
    "slideshow": {
     "slide_type": "skip"
    }
   },
   "outputs": [],
   "source": [
    "from types import FrameType"
   ]
  },
  {
   "cell_type": "code",
   "execution_count": 21,
   "metadata": {
    "execution": {
     "iopub.execute_input": "2024-06-30T17:27:48.502124Z",
     "iopub.status.busy": "2024-06-30T17:27:48.502020Z",
     "iopub.status.idle": "2024-06-30T17:27:48.503849Z",
     "shell.execute_reply": "2024-06-30T17:27:48.503611Z"
    },
    "slideshow": {
     "slide_type": "subslide"
    }
   },
   "outputs": [],
   "source": [
    "class PerformanceTracer(PerformanceTracer):\n",
    "    def __enter__(self) -> Any:\n",
    "        \"\"\"Enter a `with` block.\"\"\"\n",
    "        super().__enter__()\n",
    "        self.reset_timer()\n",
    "        return self"
   ]
  },
  {
   "cell_type": "markdown",
   "metadata": {
    "slideshow": {
     "slide_type": "fragment"
    }
   },
   "source": [
    "The `traceit()` method extracts the current location. It increases the corresponding `hits` value by 1, and adds the elapsed time to the corresponding `time`."
   ]
  },
  {
   "cell_type": "code",
   "execution_count": 22,
   "metadata": {
    "execution": {
     "iopub.execute_input": "2024-06-30T17:27:48.505685Z",
     "iopub.status.busy": "2024-06-30T17:27:48.505541Z",
     "iopub.status.idle": "2024-06-30T17:27:48.507770Z",
     "shell.execute_reply": "2024-06-30T17:27:48.507542Z"
    },
    "slideshow": {
     "slide_type": "subslide"
    }
   },
   "outputs": [],
   "source": [
    "class PerformanceTracer(PerformanceTracer):\n",
    "    def traceit(self, frame: FrameType, event: str, arg: Any) -> None:\n",
    "        \"\"\"Tracing function; called for every line.\"\"\"\n",
    "        t = self.timer.elapsed_time()\n",
    "        location = (frame.f_code.co_name, frame.f_lineno)\n",
    "\n",
    "        self.hits.setdefault(location, 0)\n",
    "        self.time.setdefault(location, 0.0)\n",
    "        self.hits[location] += 1\n",
    "        self.time[location] += t\n",
    "\n",
    "        self.reset_timer()"
   ]
  },
  {
   "cell_type": "markdown",
   "metadata": {
    "slideshow": {
     "slide_type": "fragment"
    }
   },
   "source": [
    "This is it already. We can now determine where most time is spent in `remove_html_markup()`. We invoke it 10,000 times such that we can average over runs:"
   ]
  },
  {
   "cell_type": "code",
   "execution_count": 23,
   "metadata": {
    "execution": {
     "iopub.execute_input": "2024-06-30T17:27:48.509524Z",
     "iopub.status.busy": "2024-06-30T17:27:48.509421Z",
     "iopub.status.idle": "2024-06-30T17:27:49.399209Z",
     "shell.execute_reply": "2024-06-30T17:27:49.398887Z"
    },
    "slideshow": {
     "slide_type": "subslide"
    }
   },
   "outputs": [],
   "source": [
    "with PerformanceTracer() as perf_tracer:\n",
    "    for i in range(10000):\n",
    "        s = remove_html_markup('<b>foo</b>')"
   ]
  },
  {
   "cell_type": "markdown",
   "metadata": {
    "slideshow": {
     "slide_type": "fragment"
    }
   },
   "source": [
    "Here are the hits. For every line executed, we see how often it was executed. The most executed line is the `for` loop with 110,000 hits – once for each of the 10 characters in `<b>foo</b>`, once for the final check, and all of this 10,000 times."
   ]
  },
  {
   "cell_type": "code",
   "execution_count": 24,
   "metadata": {
    "execution": {
     "iopub.execute_input": "2024-06-30T17:27:49.401309Z",
     "iopub.status.busy": "2024-06-30T17:27:49.401167Z",
     "iopub.status.idle": "2024-06-30T17:27:49.403997Z",
     "shell.execute_reply": "2024-06-30T17:27:49.403731Z"
    },
    "slideshow": {
     "slide_type": "subslide"
    }
   },
   "outputs": [
    {
     "data": {
      "text/plain": [
       "{('__init__', 17): 1,\n",
       " ('__init__', 19): 1,\n",
       " ('clock', 8): 1,\n",
       " ('clock', 12): 2,\n",
       " ('__init__', 20): 2,\n",
       " ('remove_html_markup', 238): 10000,\n",
       " ('remove_html_markup', 239): 10000,\n",
       " ('remove_html_markup', 240): 10000,\n",
       " ('remove_html_markup', 241): 10000,\n",
       " ('remove_html_markup', 243): 110000,\n",
       " ('remove_html_markup', 244): 100000,\n",
       " ('remove_html_markup', 246): 100000,\n",
       " ('remove_html_markup', 247): 20000,\n",
       " ('remove_html_markup', 248): 80000,\n",
       " ('remove_html_markup', 250): 60000,\n",
       " ('remove_html_markup', 252): 60000,\n",
       " ('remove_html_markup', 249): 20000,\n",
       " ('remove_html_markup', 253): 30000,\n",
       " ('remove_html_markup', 255): 20000}"
      ]
     },
     "execution_count": 24,
     "metadata": {},
     "output_type": "execute_result"
    }
   ],
   "source": [
    "perf_tracer.hits"
   ]
  },
  {
   "cell_type": "markdown",
   "metadata": {
    "slideshow": {
     "slide_type": "subslide"
    }
   },
   "source": [
    "The `time` attribute collects how much time was spent in each line. Within the loop, again, the `for` statement takes the most time. The other lines show some variability, though."
   ]
  },
  {
   "cell_type": "code",
   "execution_count": 25,
   "metadata": {
    "execution": {
     "iopub.execute_input": "2024-06-30T17:27:49.405765Z",
     "iopub.status.busy": "2024-06-30T17:27:49.405608Z",
     "iopub.status.idle": "2024-06-30T17:27:49.408573Z",
     "shell.execute_reply": "2024-06-30T17:27:49.408268Z"
    },
    "slideshow": {
     "slide_type": "subslide"
    }
   },
   "outputs": [
    {
     "data": {
      "text/plain": [
       "{('__init__', 17): 2.274999860674143e-05,\n",
       " ('__init__', 19): 1.2500095181167126e-06,\n",
       " ('clock', 8): 9.580107871443033e-07,\n",
       " ('clock', 12): 1.624997821636498e-06,\n",
       " ('__init__', 20): 1.791995600797236e-06,\n",
       " ('remove_html_markup', 238): 0.011178294604178518,\n",
       " ('remove_html_markup', 239): 0.010568024183157831,\n",
       " ('remove_html_markup', 240): 0.01028170032077469,\n",
       " ('remove_html_markup', 241): 0.009721325113787316,\n",
       " ('remove_html_markup', 243): 0.09196083749702666,\n",
       " ('remove_html_markup', 244): 0.08108717501454521,\n",
       " ('remove_html_markup', 246): 0.08036003762390465,\n",
       " ('remove_html_markup', 247): 0.01642499772424344,\n",
       " ('remove_html_markup', 248): 0.065049918324803,\n",
       " ('remove_html_markup', 250): 0.048187176915234886,\n",
       " ('remove_html_markup', 252): 0.05017466680146754,\n",
       " ('remove_html_markup', 249): 0.01636469637742266,\n",
       " ('remove_html_markup', 253): 0.02437107532750815,\n",
       " ('remove_html_markup', 255): 0.016080042492831126}"
      ]
     },
     "execution_count": 25,
     "metadata": {},
     "output_type": "execute_result"
    }
   ],
   "source": [
    "perf_tracer.time"
   ]
  },
  {
   "cell_type": "markdown",
   "metadata": {
    "slideshow": {
     "slide_type": "subslide"
    }
   },
   "source": [
    "For a full profiler, these numbers would now be sorted and printed in a table, much like `cProfile` does. However, we will borrow some material from previous chapters and annotate our code accordingly."
   ]
  },
  {
   "cell_type": "markdown",
   "metadata": {
    "slideshow": {
     "slide_type": "slide"
    }
   },
   "source": [
    "## Visualizing Performance Metrics\n",
    "\n",
    "In the [chapter on statistical debugging](StatisticalDebugger.ipynb), we have encountered the `CoverageCollector` class, which collects line and function coverage during execution, using a `collect()` method that is invoked for every line. We will repurpose this class to collect arbitrary _metrics_ on the lines executed, notably time taken."
   ]
  },
  {
   "cell_type": "markdown",
   "metadata": {
    "slideshow": {
     "slide_type": "subslide"
    }
   },
   "source": [
    "### Collecting Time Spent"
   ]
  },
  {
   "cell_type": "code",
   "execution_count": 26,
   "metadata": {
    "execution": {
     "iopub.execute_input": "2024-06-30T17:27:49.410704Z",
     "iopub.status.busy": "2024-06-30T17:27:49.410573Z",
     "iopub.status.idle": "2024-06-30T17:27:49.412394Z",
     "shell.execute_reply": "2024-06-30T17:27:49.412139Z"
    },
    "slideshow": {
     "slide_type": "skip"
    }
   },
   "outputs": [],
   "source": [
    "from StatisticalDebugger import CoverageCollector, SpectrumDebugger"
   ]
  },
  {
   "cell_type": "markdown",
   "metadata": {
    "slideshow": {
     "slide_type": "fragment"
    }
   },
   "source": [
    "The `MetricCollector` class is an abstract superclass that provides an interface to access a particular metric."
   ]
  },
  {
   "cell_type": "code",
   "execution_count": 27,
   "metadata": {
    "execution": {
     "iopub.execute_input": "2024-06-30T17:27:49.414140Z",
     "iopub.status.busy": "2024-06-30T17:27:49.414007Z",
     "iopub.status.idle": "2024-06-30T17:27:49.416622Z",
     "shell.execute_reply": "2024-06-30T17:27:49.416311Z"
    },
    "slideshow": {
     "slide_type": "fragment"
    }
   },
   "outputs": [],
   "source": [
    "class MetricCollector(CoverageCollector):\n",
    "    \"\"\"Abstract superclass for collecting line-specific metrics\"\"\"\n",
    "\n",
    "    def metric(self, event: Any) -> Optional[float]:\n",
    "        \"\"\"Return a metric for an event, or none.\"\"\"\n",
    "        return None\n",
    "\n",
    "    def all_metrics(self, func: str) -> List[float]:\n",
    "        \"\"\"Return all metric for a function `func`.\"\"\"\n",
    "        return []"
   ]
  },
  {
   "cell_type": "markdown",
   "metadata": {
    "slideshow": {
     "slide_type": "fragment"
    }
   },
   "source": [
    "Given these metrics, we can also compute sums and maxima for a single function."
   ]
  },
  {
   "cell_type": "code",
   "execution_count": 28,
   "metadata": {
    "execution": {
     "iopub.execute_input": "2024-06-30T17:27:49.418622Z",
     "iopub.status.busy": "2024-06-30T17:27:49.418492Z",
     "iopub.status.idle": "2024-06-30T17:27:49.420757Z",
     "shell.execute_reply": "2024-06-30T17:27:49.420506Z"
    },
    "slideshow": {
     "slide_type": "subslide"
    }
   },
   "outputs": [],
   "source": [
    "class MetricCollector(MetricCollector):\n",
    "    def total(self, func: str) -> float:\n",
    "        return sum(self.all_metrics(func))\n",
    "\n",
    "    def maximum(self, func: str) -> float:\n",
    "        return max(self.all_metrics(func))"
   ]
  },
  {
   "cell_type": "markdown",
   "metadata": {
    "slideshow": {
     "slide_type": "fragment"
    }
   },
   "source": [
    "Let us instantiate this superclass into `TimeCollector` – a subclass that measures time. This is modeled after our `PerformanceTracer` class, above; notably, the `time` attribute serves the same role."
   ]
  },
  {
   "cell_type": "code",
   "execution_count": 29,
   "metadata": {
    "execution": {
     "iopub.execute_input": "2024-06-30T17:27:49.422353Z",
     "iopub.status.busy": "2024-06-30T17:27:49.422228Z",
     "iopub.status.idle": "2024-06-30T17:27:49.425476Z",
     "shell.execute_reply": "2024-06-30T17:27:49.425182Z"
    },
    "slideshow": {
     "slide_type": "subslide"
    }
   },
   "outputs": [],
   "source": [
    "class TimeCollector(MetricCollector):\n",
    "    \"\"\"Collect time executed for each line\"\"\"\n",
    "\n",
    "    def __init__(self) -> None:\n",
    "        \"\"\"Constructor\"\"\"\n",
    "        super().__init__()\n",
    "        self.reset_timer()\n",
    "        self.time: Dict[Location, float] = {}\n",
    "        self.add_items_to_ignore([Timer.Timer, Timer.clock])\n",
    "\n",
    "    def collect(self, frame: FrameType, event: str, arg: Any) -> None:\n",
    "        \"\"\"Invoked for every line executed. Accumulate time spent.\"\"\"\n",
    "        t = self.timer.elapsed_time()\n",
    "        super().collect(frame, event, arg)\n",
    "        location = (frame.f_code.co_name, frame.f_lineno)\n",
    "\n",
    "        self.time.setdefault(location, 0.0)\n",
    "        self.time[location] += t\n",
    "\n",
    "        self.reset_timer()\n",
    "\n",
    "    def reset_timer(self) -> None:\n",
    "        self.timer = Timer.Timer()\n",
    "\n",
    "    def __enter__(self) -> Any:\n",
    "        super().__enter__()\n",
    "        self.reset_timer()\n",
    "        return self"
   ]
  },
  {
   "cell_type": "markdown",
   "metadata": {
    "slideshow": {
     "slide_type": "subslide"
    }
   },
   "source": [
    "The `metric()` and `all_metrics()` methods accumulate the metric (time taken) for an individual function:"
   ]
  },
  {
   "cell_type": "code",
   "execution_count": 30,
   "metadata": {
    "execution": {
     "iopub.execute_input": "2024-06-30T17:27:49.426942Z",
     "iopub.status.busy": "2024-06-30T17:27:49.426835Z",
     "iopub.status.idle": "2024-06-30T17:27:49.429195Z",
     "shell.execute_reply": "2024-06-30T17:27:49.428901Z"
    },
    "slideshow": {
     "slide_type": "fragment"
    }
   },
   "outputs": [],
   "source": [
    "class TimeCollector(TimeCollector):\n",
    "    def metric(self, location: Any) -> Optional[float]:\n",
    "        if location in self.time:\n",
    "            return self.time[location]\n",
    "        else:\n",
    "            return None\n",
    "\n",
    "    def all_metrics(self, func: str) -> List[float]:\n",
    "        return [time\n",
    "                for (func_name, lineno), time in self.time.items()\n",
    "                if func_name == func]"
   ]
  },
  {
   "cell_type": "markdown",
   "metadata": {
    "slideshow": {
     "slide_type": "fragment"
    }
   },
   "source": [
    "Here's how to use `TimeCollector()` – again, in a `with` block:"
   ]
  },
  {
   "cell_type": "code",
   "execution_count": 31,
   "metadata": {
    "execution": {
     "iopub.execute_input": "2024-06-30T17:27:49.431016Z",
     "iopub.status.busy": "2024-06-30T17:27:49.430911Z",
     "iopub.status.idle": "2024-06-30T17:27:49.449010Z",
     "shell.execute_reply": "2024-06-30T17:27:49.448734Z"
    },
    "slideshow": {
     "slide_type": "subslide"
    }
   },
   "outputs": [],
   "source": [
    "with TimeCollector() as collector:\n",
    "    for i in range(100):\n",
    "        s = remove_html_markup('<b>foo</b>')"
   ]
  },
  {
   "cell_type": "markdown",
   "metadata": {
    "slideshow": {
     "slide_type": "fragment"
    }
   },
   "source": [
    "The `time` attribute holds the time spent in each line:"
   ]
  },
  {
   "cell_type": "code",
   "execution_count": 32,
   "metadata": {
    "execution": {
     "iopub.execute_input": "2024-06-30T17:27:49.450647Z",
     "iopub.status.busy": "2024-06-30T17:27:49.450516Z",
     "iopub.status.idle": "2024-06-30T17:27:49.452628Z",
     "shell.execute_reply": "2024-06-30T17:27:49.452344Z"
    },
    "slideshow": {
     "slide_type": "subslide"
    }
   },
   "outputs": [
    {
     "name": "stdout",
     "output_type": "stream",
     "text": [
      "('remove_html_markup', 238) 0.00020887405844405293\n",
      "('remove_html_markup', 239) 0.00018283202371094376\n",
      "('remove_html_markup', 240) 0.00017558105173520744\n",
      "('remove_html_markup', 241) 0.0001655041123740375\n",
      "('remove_html_markup', 243) 0.0015326741122407839\n",
      "('remove_html_markup', 244) 0.0014188957575242966\n",
      "('remove_html_markup', 246) 0.0013586477289209142\n",
      "('remove_html_markup', 247) 0.00036928906047251076\n",
      "('remove_html_markup', 248) 0.0010913212172454223\n",
      "('remove_html_markup', 250) 0.0008168340427801013\n",
      "('remove_html_markup', 252) 0.000838676918647252\n",
      "('remove_html_markup', 249) 0.00027391510957386345\n",
      "('remove_html_markup', 253) 0.0004042519722133875\n",
      "('remove_html_markup', 255) 0.0002715360897127539\n"
     ]
    }
   ],
   "source": [
    "for location, time_spent in collector.time.items():\n",
    "    print(location, time_spent)"
   ]
  },
  {
   "cell_type": "markdown",
   "metadata": {
    "slideshow": {
     "slide_type": "subslide"
    }
   },
   "source": [
    "And we can also create a total for an entire function:"
   ]
  },
  {
   "cell_type": "code",
   "execution_count": 33,
   "metadata": {
    "execution": {
     "iopub.execute_input": "2024-06-30T17:27:49.454341Z",
     "iopub.status.busy": "2024-06-30T17:27:49.454211Z",
     "iopub.status.idle": "2024-06-30T17:27:49.456559Z",
     "shell.execute_reply": "2024-06-30T17:27:49.456280Z"
    },
    "slideshow": {
     "slide_type": "fragment"
    }
   },
   "outputs": [
    {
     "data": {
      "text/plain": [
       "0.009108833255595528"
      ]
     },
     "execution_count": 33,
     "metadata": {},
     "output_type": "execute_result"
    }
   ],
   "source": [
    "collector.total('remove_html_markup')"
   ]
  },
  {
   "cell_type": "markdown",
   "metadata": {
    "slideshow": {
     "slide_type": "subslide"
    }
   },
   "source": [
    "### Visualizing Time Spent\n",
    "\n",
    "Let us now go and visualize these numbers in a simple form. The idea is to assign each line a _color_ whose saturation indicates the time spent in that line relative to the time spent in the function overall  – the higher the fraction, the darker the line. We create a `MetricDebugger` class built as a specialization of `SpectrumDebugger`, in which `suspiciousness()` and `color()` are repurposed to show these metrics."
   ]
  },
  {
   "cell_type": "code",
   "execution_count": 34,
   "metadata": {
    "execution": {
     "iopub.execute_input": "2024-06-30T17:27:49.458440Z",
     "iopub.status.busy": "2024-06-30T17:27:49.458314Z",
     "iopub.status.idle": "2024-06-30T17:27:49.462726Z",
     "shell.execute_reply": "2024-06-30T17:27:49.462410Z"
    },
    "slideshow": {
     "slide_type": "subslide"
    }
   },
   "outputs": [],
   "source": [
    "class MetricDebugger(SpectrumDebugger):\n",
    "    \"\"\"Visualize a metric\"\"\"\n",
    "\n",
    "    def metric(self, location: Location) -> float:\n",
    "        sum = 0.0\n",
    "        for outcome in self.collectors:\n",
    "            for collector in self.collectors[outcome]:\n",
    "                assert isinstance(collector, MetricCollector)\n",
    "                m = collector.metric(location)\n",
    "                if m is not None:\n",
    "                    sum += m  # type: ignore\n",
    "\n",
    "        return sum\n",
    "\n",
    "    def total(self, func_name: str) -> float:\n",
    "        total = 0.0\n",
    "        for outcome in self.collectors:\n",
    "            for collector in self.collectors[outcome]:\n",
    "                assert isinstance(collector, MetricCollector)\n",
    "                total += sum(collector.all_metrics(func_name))\n",
    "\n",
    "        return total\n",
    "\n",
    "    def maximum(self, func_name: str) -> float:\n",
    "        maximum = 0.0\n",
    "        for outcome in self.collectors:\n",
    "            for collector in self.collectors[outcome]:\n",
    "                assert isinstance(collector, MetricCollector)\n",
    "                maximum = max(maximum, \n",
    "                              max(collector.all_metrics(func_name)))\n",
    "\n",
    "        return maximum\n",
    "\n",
    "    def suspiciousness(self, location: Location) -> float:\n",
    "        func_name, _ = location\n",
    "        return self.metric(location) / self.total(func_name)\n",
    "\n",
    "    def color(self, location: Location) -> str:\n",
    "        func_name, _ = location\n",
    "        hue = 240  # blue\n",
    "        saturation = 100  # fully saturated\n",
    "        darkness = self.metric(location) / self.maximum(func_name)\n",
    "        lightness = 100 - darkness * 25\n",
    "        return f\"hsl({hue}, {saturation}%, {lightness}%)\"\n",
    "\n",
    "    def tooltip(self, location: Location) -> str:\n",
    "        return f\"{super().tooltip(location)} {self.metric(location)}\""
   ]
  },
  {
   "cell_type": "markdown",
   "metadata": {
    "slideshow": {
     "slide_type": "subslide"
    }
   },
   "source": [
    "We can now introduce `PerformanceDebugger` as a subclass of `MetricDebugger`, using an arbitrary `MetricCollector` (such as `TimeCollector`) to obtain the metric we want to visualize."
   ]
  },
  {
   "cell_type": "code",
   "execution_count": 35,
   "metadata": {
    "execution": {
     "iopub.execute_input": "2024-06-30T17:27:49.464674Z",
     "iopub.status.busy": "2024-06-30T17:27:49.464554Z",
     "iopub.status.idle": "2024-06-30T17:27:49.466704Z",
     "shell.execute_reply": "2024-06-30T17:27:49.466461Z"
    },
    "slideshow": {
     "slide_type": "fragment"
    }
   },
   "outputs": [],
   "source": [
    "class PerformanceDebugger(MetricDebugger):\n",
    "    \"\"\"Collect and visualize a metric\"\"\"\n",
    "\n",
    "    def __init__(self, collector_class: Type, log: bool = False):\n",
    "        assert issubclass(collector_class, MetricCollector)\n",
    "        super().__init__(collector_class, log=log)"
   ]
  },
  {
   "cell_type": "markdown",
   "metadata": {
    "slideshow": {
     "slide_type": "fragment"
    }
   },
   "source": [
    "With `PerformanceDebugger`, we inherit all the capabilities of `SpectrumDebugger`, such as showing the (relative) percentage of time spent in a table. We see that the `for` condition and the following `assert` take most of the time, followed by the first condition."
   ]
  },
  {
   "cell_type": "code",
   "execution_count": 36,
   "metadata": {
    "execution": {
     "iopub.execute_input": "2024-06-30T17:27:49.468163Z",
     "iopub.status.busy": "2024-06-30T17:27:49.468050Z",
     "iopub.status.idle": "2024-06-30T17:27:49.487777Z",
     "shell.execute_reply": "2024-06-30T17:27:49.487424Z"
    },
    "slideshow": {
     "slide_type": "subslide"
    }
   },
   "outputs": [],
   "source": [
    "with PerformanceDebugger(TimeCollector) as debugger:\n",
    "    for i in range(100):\n",
    "        s = remove_html_markup('<b>foo</b>')"
   ]
  },
  {
   "cell_type": "code",
   "execution_count": 37,
   "metadata": {
    "execution": {
     "iopub.execute_input": "2024-06-30T17:27:49.489671Z",
     "iopub.status.busy": "2024-06-30T17:27:49.489460Z",
     "iopub.status.idle": "2024-06-30T17:27:49.492581Z",
     "shell.execute_reply": "2024-06-30T17:27:49.492204Z"
    },
    "slideshow": {
     "slide_type": "subslide"
    }
   },
   "outputs": [
    {
     "name": "stdout",
     "output_type": "stream",
     "text": [
      " 238   2% def remove_html_markup(s):  # type: ignore\n",
      " 239   2%     tag = False\n",
      " 240   1%     quote = False\n",
      " 241   1%     out = \"\"\n",
      " 242   0%\n",
      " 243  16%     for c in s:\n",
      " 244  14%         assert tag or not quote\n",
      " 245   0%\n",
      " 246  14%         if c == '<' and not quote:\n",
      " 247   3%             tag = True\n",
      " 248  12%         elif c == '>' and not quote:\n",
      " 249   2%             tag = False\n",
      " 250   9%         elif (c == '\"' or c == \"'\") and tag:\n",
      " 251   0%             quote = not quote\n",
      " 252   9%         elif not tag:\n",
      " 253   4%             out = out + c\n",
      " 254   0%\n",
      " 255   4%     return out\n",
      "\n"
     ]
    }
   ],
   "source": [
    "print(debugger)"
   ]
  },
  {
   "cell_type": "markdown",
   "metadata": {
    "slideshow": {
     "slide_type": "subslide"
    }
   },
   "source": [
    "However, we can also visualize these percentages, using shades of blue to indicate those lines most time spent in:"
   ]
  },
  {
   "cell_type": "code",
   "execution_count": 38,
   "metadata": {
    "execution": {
     "iopub.execute_input": "2024-06-30T17:27:49.494513Z",
     "iopub.status.busy": "2024-06-30T17:27:49.494386Z",
     "iopub.status.idle": "2024-06-30T17:27:49.498640Z",
     "shell.execute_reply": "2024-06-30T17:27:49.498271Z"
    },
    "slideshow": {
     "slide_type": "subslide"
    }
   },
   "outputs": [
    {
     "data": {
      "text/html": [
       "<pre style=\"background-color:hsl(240, 100%, 96.60893286543539%)\"\n",
       "                    title=\"Line 238:   2% 0.00023854502069298178\"> 238 def remove_html_markup(s):  # type: ignore</pre>\n",
       "<pre style=\"background-color:hsl(240, 100%, 96.95666130258472%)\"\n",
       "                    title=\"Line 239:   2% 0.0002140840224456042\"> 239     tag = False</pre>\n",
       "<pre style=\"background-color:hsl(240, 100%, 97.12904137105095%)\"\n",
       "                    title=\"Line 240:   1% 0.00020195792603772134\"> 240     quote = False</pre>\n",
       "<pre style=\"background-color:hsl(240, 100%, 97.26224169706293%)\"\n",
       "                    title=\"Line 241:   1% 0.0001925879332702607\"> 241     out = &quot;&quot;</pre>\n",
       "<pre style=\"background-color:hsl(240, 100%, 100.0%)\"\n",
       "                    title=\"Line 242:   0% 0.0\"> 242 &nbsp;</pre>\n",
       "<pre style=\"background-color:hsl(240, 100%, 75.0%)\"\n",
       "                    title=\"Line 243:  16% 0.0017586279718670994\"> 243     for c in s:</pre>\n",
       "<pre style=\"background-color:hsl(240, 100%, 77.8391159603043%)\"\n",
       "                    title=\"Line 244:  14% 0.0015589100221404806\"> 244         assert tag or not quote</pre>\n",
       "<pre style=\"background-color:hsl(240, 100%, 100.0%)\"\n",
       "                    title=\"Line 245:   0% 0.0\"> 245 &nbsp;</pre>\n",
       "<pre style=\"background-color:hsl(240, 100%, 77.96669143084226%)\"\n",
       "                    title=\"Line 246:  14% 0.0015499357104999945\"> 246         if c == &#x27;&lt;&#x27; and not quote:</pre>\n",
       "<pre style=\"background-color:hsl(240, 100%, 95.47484069646381%)\"\n",
       "                    title=\"Line 247:   3% 0.00031832286913413554\"> 247             tag = True</pre>\n",
       "<pre style=\"background-color:hsl(240, 100%, 81.61679504435814%)\"\n",
       "                    title=\"Line 248:  12% 0.001293168737902306\"> 248         elif c == &#x27;&gt;&#x27; and not quote:</pre>\n",
       "<pre style=\"background-color:hsl(240, 100%, 95.52621221127721%)\"\n",
       "                    title=\"Line 249:   2% 0.0003147091338178143\"> 249             tag = False</pre>\n",
       "<pre style=\"background-color:hsl(240, 100%, 86.48273089312866%)\"\n",
       "                    title=\"Line 250:   9% 0.0009508739021839574\"> 250         elif (c == &#x27;&quot;&#x27; or c == &quot;&#x27;&quot;) and tag:</pre>\n",
       "<pre style=\"background-color:hsl(240, 100%, 100.0%)\"\n",
       "                    title=\"Line 251:   0% 0.0\"> 251             quote = not quote</pre>\n",
       "<pre style=\"background-color:hsl(240, 100%, 86.40444360396735%)\"\n",
       "                    title=\"Line 252:   9% 0.0009563810308463871\"> 252         elif not tag:</pre>\n",
       "<pre style=\"background-color:hsl(240, 100%, 93.41512106122138%)\"\n",
       "                    title=\"Line 253:   4% 0.0004632140917237848\"> 253             out = out + c</pre>\n",
       "<pre style=\"background-color:hsl(240, 100%, 100.0%)\"\n",
       "                    title=\"Line 254:   0% 0.0\"> 254 &nbsp;</pre>\n",
       "<pre style=\"background-color:hsl(240, 100%, 92.62795779770087%)\"\n",
       "                    title=\"Line 255:   4% 0.0005185871850699186\"> 255     return out</pre>\n"
      ],
      "text/markdown": [
       "| `remove_html_markup` | `s='<b>foo</b>'` | \n",
       "| ---------------------- | ---- | \n",
       "| <samp style=\"background-color: hsl(240, 100%, 96.60893286543539%)\" title=\"  2% 0.00023854502069298178\">remove_html_markup:238</samp> |    X | \n",
       "| <samp style=\"background-color: hsl(240, 100%, 96.95666130258472%)\" title=\"  2% 0.0002140840224456042\">remove_html_markup:239</samp> |    X | \n",
       "| <samp style=\"background-color: hsl(240, 100%, 97.12904137105095%)\" title=\"  1% 0.00020195792603772134\">remove_html_markup:240</samp> |    X | \n",
       "| <samp style=\"background-color: hsl(240, 100%, 97.26224169706293%)\" title=\"  1% 0.0001925879332702607\">remove_html_markup:241</samp> |    X | \n",
       "| <samp style=\"background-color: hsl(240, 100%, 75.0%)\" title=\" 16% 0.0017586279718670994\">remove_html_markup:243</samp> |    X | \n",
       "| <samp style=\"background-color: hsl(240, 100%, 77.8391159603043%)\" title=\" 14% 0.0015589100221404806\">remove_html_markup:244</samp> |    X | \n",
       "| <samp style=\"background-color: hsl(240, 100%, 77.96669143084226%)\" title=\" 14% 0.0015499357104999945\">remove_html_markup:246</samp> |    X | \n",
       "| <samp style=\"background-color: hsl(240, 100%, 95.47484069646381%)\" title=\"  3% 0.00031832286913413554\">remove_html_markup:247</samp> |    X | \n",
       "| <samp style=\"background-color: hsl(240, 100%, 81.61679504435814%)\" title=\" 12% 0.001293168737902306\">remove_html_markup:248</samp> |    X | \n",
       "| <samp style=\"background-color: hsl(240, 100%, 95.52621221127721%)\" title=\"  2% 0.0003147091338178143\">remove_html_markup:249</samp> |    X | \n",
       "| <samp style=\"background-color: hsl(240, 100%, 86.48273089312866%)\" title=\"  9% 0.0009508739021839574\">remove_html_markup:250</samp> |    X | \n",
       "| <samp style=\"background-color: hsl(240, 100%, 86.40444360396735%)\" title=\"  9% 0.0009563810308463871\">remove_html_markup:252</samp> |    X | \n",
       "| <samp style=\"background-color: hsl(240, 100%, 93.41512106122138%)\" title=\"  4% 0.0004632140917237848\">remove_html_markup:253</samp> |    X | \n",
       "| <samp style=\"background-color: hsl(240, 100%, 92.62795779770087%)\" title=\"  4% 0.0005185871850699186\">remove_html_markup:255</samp> |    X | \n"
      ],
      "text/plain": [
       " 238   2% def remove_html_markup(s):  # type: ignore\n",
       " 239   2%     tag = False\n",
       " 240   1%     quote = False\n",
       " 241   1%     out = \"\"\n",
       " 242   0%\n",
       " 243  16%     for c in s:\n",
       " 244  14%         assert tag or not quote\n",
       " 245   0%\n",
       " 246  14%         if c == '<' and not quote:\n",
       " 247   3%             tag = True\n",
       " 248  12%         elif c == '>' and not quote:\n",
       " 249   2%             tag = False\n",
       " 250   9%         elif (c == '\"' or c == \"'\") and tag:\n",
       " 251   0%             quote = not quote\n",
       " 252   9%         elif not tag:\n",
       " 253   4%             out = out + c\n",
       " 254   0%\n",
       " 255   4%     return out"
      ]
     },
     "execution_count": 38,
     "metadata": {},
     "output_type": "execute_result"
    }
   ],
   "source": [
    "debugger"
   ]
  },
  {
   "cell_type": "markdown",
   "metadata": {
    "slideshow": {
     "slide_type": "subslide"
    }
   },
   "source": [
    "### Other Metrics\n",
    "\n",
    "Our framework is flexible enough to collect (and visualize) arbitrary metrics. This `HitCollector` class, for instance, collects how often a line is being executed."
   ]
  },
  {
   "cell_type": "code",
   "execution_count": 39,
   "metadata": {
    "execution": {
     "iopub.execute_input": "2024-06-30T17:27:49.500748Z",
     "iopub.status.busy": "2024-06-30T17:27:49.500588Z",
     "iopub.status.idle": "2024-06-30T17:27:49.504175Z",
     "shell.execute_reply": "2024-06-30T17:27:49.503858Z"
    },
    "slideshow": {
     "slide_type": "subslide"
    }
   },
   "outputs": [],
   "source": [
    "class HitCollector(MetricCollector):\n",
    "    \"\"\"Collect how often a line is executed\"\"\"\n",
    "\n",
    "    def __init__(self) -> None:\n",
    "        super().__init__()\n",
    "        self.hits: Dict[Location, int] = {}\n",
    "\n",
    "    def collect(self, frame: FrameType, event: str, arg: Any) -> None:\n",
    "        super().collect(frame, event, arg)\n",
    "        location = (frame.f_code.co_name, frame.f_lineno)\n",
    "\n",
    "        self.hits.setdefault(location, 0)\n",
    "        self.hits[location] += 1\n",
    "\n",
    "    def metric(self, location: Location) -> Optional[int]:\n",
    "        if location in self.hits:\n",
    "            return self.hits[location]\n",
    "        else:\n",
    "            return None\n",
    "\n",
    "    def all_metrics(self, func: str) -> List[float]:\n",
    "        return [hits\n",
    "                for (func_name, lineno), hits in self.hits.items()\n",
    "                if func_name == func]"
   ]
  },
  {
   "cell_type": "markdown",
   "metadata": {
    "slideshow": {
     "slide_type": "subslide"
    }
   },
   "source": [
    "We can plug in this class into `PerformanceDebugger` to obtain a distribution of lines executed:"
   ]
  },
  {
   "cell_type": "code",
   "execution_count": 40,
   "metadata": {
    "execution": {
     "iopub.execute_input": "2024-06-30T17:27:49.507029Z",
     "iopub.status.busy": "2024-06-30T17:27:49.506893Z",
     "iopub.status.idle": "2024-06-30T17:27:49.521373Z",
     "shell.execute_reply": "2024-06-30T17:27:49.520938Z"
    },
    "slideshow": {
     "slide_type": "fragment"
    }
   },
   "outputs": [],
   "source": [
    "with PerformanceDebugger(HitCollector) as debugger:\n",
    "    for i in range(100):\n",
    "        s = remove_html_markup('<b>foo</b>')"
   ]
  },
  {
   "cell_type": "markdown",
   "metadata": {
    "slideshow": {
     "slide_type": "fragment"
    }
   },
   "source": [
    "In total, during this call to `remove_html_markup()`, there are 6,400 lines executed:"
   ]
  },
  {
   "cell_type": "code",
   "execution_count": 41,
   "metadata": {
    "execution": {
     "iopub.execute_input": "2024-06-30T17:27:49.523286Z",
     "iopub.status.busy": "2024-06-30T17:27:49.523111Z",
     "iopub.status.idle": "2024-06-30T17:27:49.525913Z",
     "shell.execute_reply": "2024-06-30T17:27:49.525531Z"
    },
    "slideshow": {
     "slide_type": "fragment"
    }
   },
   "outputs": [
    {
     "data": {
      "text/plain": [
       "6400.0"
      ]
     },
     "execution_count": 41,
     "metadata": {},
     "output_type": "execute_result"
    }
   ],
   "source": [
    "debugger.total('remove_html_markup')"
   ]
  },
  {
   "cell_type": "markdown",
   "metadata": {
    "slideshow": {
     "slide_type": "fragment"
    }
   },
   "source": [
    "Again, we can visualize the distribution as a table and using colors. We can see how the shade gets lighter in the lower part of the loop as individual conditions have been met."
   ]
  },
  {
   "cell_type": "code",
   "execution_count": 42,
   "metadata": {
    "execution": {
     "iopub.execute_input": "2024-06-30T17:27:49.528271Z",
     "iopub.status.busy": "2024-06-30T17:27:49.528115Z",
     "iopub.status.idle": "2024-06-30T17:27:49.531032Z",
     "shell.execute_reply": "2024-06-30T17:27:49.530718Z"
    },
    "slideshow": {
     "slide_type": "subslide"
    }
   },
   "outputs": [
    {
     "name": "stdout",
     "output_type": "stream",
     "text": [
      " 238   1% def remove_html_markup(s):  # type: ignore\n",
      " 239   1%     tag = False\n",
      " 240   1%     quote = False\n",
      " 241   1%     out = \"\"\n",
      " 242   0%\n",
      " 243  17%     for c in s:\n",
      " 244  15%         assert tag or not quote\n",
      " 245   0%\n",
      " 246  15%         if c == '<' and not quote:\n",
      " 247   3%             tag = True\n",
      " 248  12%         elif c == '>' and not quote:\n",
      " 249   3%             tag = False\n",
      " 250   9%         elif (c == '\"' or c == \"'\") and tag:\n",
      " 251   0%             quote = not quote\n",
      " 252   9%         elif not tag:\n",
      " 253   4%             out = out + c\n",
      " 254   0%\n",
      " 255   3%     return out\n",
      "\n"
     ]
    }
   ],
   "source": [
    "print(debugger)"
   ]
  },
  {
   "cell_type": "code",
   "execution_count": 43,
   "metadata": {
    "execution": {
     "iopub.execute_input": "2024-06-30T17:27:49.532966Z",
     "iopub.status.busy": "2024-06-30T17:27:49.532842Z",
     "iopub.status.idle": "2024-06-30T17:27:49.536797Z",
     "shell.execute_reply": "2024-06-30T17:27:49.536355Z"
    },
    "slideshow": {
     "slide_type": "subslide"
    }
   },
   "outputs": [
    {
     "data": {
      "text/html": [
       "<pre style=\"background-color:hsl(240, 100%, 97.72727272727273%)\"\n",
       "                    title=\"Line 238:   1% 100.0\"> 238 def remove_html_markup(s):  # type: ignore</pre>\n",
       "<pre style=\"background-color:hsl(240, 100%, 97.72727272727273%)\"\n",
       "                    title=\"Line 239:   1% 100.0\"> 239     tag = False</pre>\n",
       "<pre style=\"background-color:hsl(240, 100%, 97.72727272727273%)\"\n",
       "                    title=\"Line 240:   1% 100.0\"> 240     quote = False</pre>\n",
       "<pre style=\"background-color:hsl(240, 100%, 97.72727272727273%)\"\n",
       "                    title=\"Line 241:   1% 100.0\"> 241     out = &quot;&quot;</pre>\n",
       "<pre style=\"background-color:hsl(240, 100%, 100.0%)\"\n",
       "                    title=\"Line 242:   0% 0.0\"> 242 &nbsp;</pre>\n",
       "<pre style=\"background-color:hsl(240, 100%, 75.0%)\"\n",
       "                    title=\"Line 243:  17% 1100.0\"> 243     for c in s:</pre>\n",
       "<pre style=\"background-color:hsl(240, 100%, 77.27272727272728%)\"\n",
       "                    title=\"Line 244:  15% 1000.0\"> 244         assert tag or not quote</pre>\n",
       "<pre style=\"background-color:hsl(240, 100%, 100.0%)\"\n",
       "                    title=\"Line 245:   0% 0.0\"> 245 &nbsp;</pre>\n",
       "<pre style=\"background-color:hsl(240, 100%, 77.27272727272728%)\"\n",
       "                    title=\"Line 246:  15% 1000.0\"> 246         if c == &#x27;&lt;&#x27; and not quote:</pre>\n",
       "<pre style=\"background-color:hsl(240, 100%, 95.45454545454545%)\"\n",
       "                    title=\"Line 247:   3% 200.0\"> 247             tag = True</pre>\n",
       "<pre style=\"background-color:hsl(240, 100%, 81.81818181818181%)\"\n",
       "                    title=\"Line 248:  12% 800.0\"> 248         elif c == &#x27;&gt;&#x27; and not quote:</pre>\n",
       "<pre style=\"background-color:hsl(240, 100%, 95.45454545454545%)\"\n",
       "                    title=\"Line 249:   3% 200.0\"> 249             tag = False</pre>\n",
       "<pre style=\"background-color:hsl(240, 100%, 86.36363636363636%)\"\n",
       "                    title=\"Line 250:   9% 600.0\"> 250         elif (c == &#x27;&quot;&#x27; or c == &quot;&#x27;&quot;) and tag:</pre>\n",
       "<pre style=\"background-color:hsl(240, 100%, 100.0%)\"\n",
       "                    title=\"Line 251:   0% 0.0\"> 251             quote = not quote</pre>\n",
       "<pre style=\"background-color:hsl(240, 100%, 86.36363636363636%)\"\n",
       "                    title=\"Line 252:   9% 600.0\"> 252         elif not tag:</pre>\n",
       "<pre style=\"background-color:hsl(240, 100%, 93.18181818181819%)\"\n",
       "                    title=\"Line 253:   4% 300.0\"> 253             out = out + c</pre>\n",
       "<pre style=\"background-color:hsl(240, 100%, 100.0%)\"\n",
       "                    title=\"Line 254:   0% 0.0\"> 254 &nbsp;</pre>\n",
       "<pre style=\"background-color:hsl(240, 100%, 95.45454545454545%)\"\n",
       "                    title=\"Line 255:   3% 200.0\"> 255     return out</pre>\n"
      ],
      "text/markdown": [
       "| `remove_html_markup` | `s='<b>foo</b>'` | \n",
       "| ---------------------- | ---- | \n",
       "| <samp style=\"background-color: hsl(240, 100%, 97.72727272727273%)\" title=\"  1% 100.0\">remove_html_markup:238</samp> |    X | \n",
       "| <samp style=\"background-color: hsl(240, 100%, 97.72727272727273%)\" title=\"  1% 100.0\">remove_html_markup:239</samp> |    X | \n",
       "| <samp style=\"background-color: hsl(240, 100%, 97.72727272727273%)\" title=\"  1% 100.0\">remove_html_markup:240</samp> |    X | \n",
       "| <samp style=\"background-color: hsl(240, 100%, 97.72727272727273%)\" title=\"  1% 100.0\">remove_html_markup:241</samp> |    X | \n",
       "| <samp style=\"background-color: hsl(240, 100%, 75.0%)\" title=\" 17% 1100.0\">remove_html_markup:243</samp> |    X | \n",
       "| <samp style=\"background-color: hsl(240, 100%, 77.27272727272728%)\" title=\" 15% 1000.0\">remove_html_markup:244</samp> |    X | \n",
       "| <samp style=\"background-color: hsl(240, 100%, 77.27272727272728%)\" title=\" 15% 1000.0\">remove_html_markup:246</samp> |    X | \n",
       "| <samp style=\"background-color: hsl(240, 100%, 95.45454545454545%)\" title=\"  3% 200.0\">remove_html_markup:247</samp> |    X | \n",
       "| <samp style=\"background-color: hsl(240, 100%, 81.81818181818181%)\" title=\" 12% 800.0\">remove_html_markup:248</samp> |    X | \n",
       "| <samp style=\"background-color: hsl(240, 100%, 95.45454545454545%)\" title=\"  3% 200.0\">remove_html_markup:249</samp> |    X | \n",
       "| <samp style=\"background-color: hsl(240, 100%, 86.36363636363636%)\" title=\"  9% 600.0\">remove_html_markup:250</samp> |    X | \n",
       "| <samp style=\"background-color: hsl(240, 100%, 86.36363636363636%)\" title=\"  9% 600.0\">remove_html_markup:252</samp> |    X | \n",
       "| <samp style=\"background-color: hsl(240, 100%, 93.18181818181819%)\" title=\"  4% 300.0\">remove_html_markup:253</samp> |    X | \n",
       "| <samp style=\"background-color: hsl(240, 100%, 95.45454545454545%)\" title=\"  3% 200.0\">remove_html_markup:255</samp> |    X | \n"
      ],
      "text/plain": [
       " 238   1% def remove_html_markup(s):  # type: ignore\n",
       " 239   1%     tag = False\n",
       " 240   1%     quote = False\n",
       " 241   1%     out = \"\"\n",
       " 242   0%\n",
       " 243  17%     for c in s:\n",
       " 244  15%         assert tag or not quote\n",
       " 245   0%\n",
       " 246  15%         if c == '<' and not quote:\n",
       " 247   3%             tag = True\n",
       " 248  12%         elif c == '>' and not quote:\n",
       " 249   3%             tag = False\n",
       " 250   9%         elif (c == '\"' or c == \"'\") and tag:\n",
       " 251   0%             quote = not quote\n",
       " 252   9%         elif not tag:\n",
       " 253   4%             out = out + c\n",
       " 254   0%\n",
       " 255   3%     return out"
      ]
     },
     "execution_count": 43,
     "metadata": {},
     "output_type": "execute_result"
    }
   ],
   "source": [
    "debugger"
   ]
  },
  {
   "cell_type": "markdown",
   "metadata": {
    "slideshow": {
     "slide_type": "slide"
    }
   },
   "source": [
    "## Integrating with Delta Debugging\n",
    "\n",
    "Besides identifying causes for performance issues in the code, one may also search for causes in the _input_, using [Delta Debugging](DeltaDebugger.ipynb). This can be useful if one does not immediately want to embark into investigating the code, but maybe first determine external influences that are related to performance issues."
   ]
  },
  {
   "cell_type": "markdown",
   "metadata": {
    "slideshow": {
     "slide_type": "fragment"
    }
   },
   "source": [
    "Here is a variant of `remove_html_markup()` that introduces a (rather obvious) performance issue."
   ]
  },
  {
   "cell_type": "code",
   "execution_count": 44,
   "metadata": {
    "execution": {
     "iopub.execute_input": "2024-06-30T17:27:49.538495Z",
     "iopub.status.busy": "2024-06-30T17:27:49.538392Z",
     "iopub.status.idle": "2024-06-30T17:27:49.540481Z",
     "shell.execute_reply": "2024-06-30T17:27:49.540096Z"
    },
    "slideshow": {
     "slide_type": "skip"
    }
   },
   "outputs": [],
   "source": [
    "import time"
   ]
  },
  {
   "cell_type": "code",
   "execution_count": 45,
   "metadata": {
    "execution": {
     "iopub.execute_input": "2024-06-30T17:27:49.542197Z",
     "iopub.status.busy": "2024-06-30T17:27:49.542071Z",
     "iopub.status.idle": "2024-06-30T17:27:49.544997Z",
     "shell.execute_reply": "2024-06-30T17:27:49.544643Z"
    },
    "slideshow": {
     "slide_type": "subslide"
    }
   },
   "outputs": [],
   "source": [
    "def remove_html_markup_ampersand(s: str) -> str:\n",
    "    tag = False\n",
    "    quote = False\n",
    "    out = \"\"\n",
    "\n",
    "    for c in s:\n",
    "        assert tag or not quote\n",
    "\n",
    "        if c == '&':\n",
    "            time.sleep(0.1)  # <-- the obvious performance issue\n",
    "\n",
    "        if c == '<' and not quote:\n",
    "            tag = True\n",
    "        elif c == '>' and not quote:\n",
    "            tag = False\n",
    "        elif (c == '\"' or c == \"'\") and tag:\n",
    "            quote = not quote\n",
    "        elif not tag:\n",
    "            out = out + c\n",
    "\n",
    "    return out"
   ]
  },
  {
   "cell_type": "markdown",
   "metadata": {
    "slideshow": {
     "slide_type": "subslide"
    }
   },
   "source": [
    "We can easily trigger this issue by measuring time taken:"
   ]
  },
  {
   "cell_type": "code",
   "execution_count": 46,
   "metadata": {
    "execution": {
     "iopub.execute_input": "2024-06-30T17:27:49.546846Z",
     "iopub.status.busy": "2024-06-30T17:27:49.546714Z",
     "iopub.status.idle": "2024-06-30T17:27:49.868417Z",
     "shell.execute_reply": "2024-06-30T17:27:49.867707Z"
    },
    "slideshow": {
     "slide_type": "fragment"
    }
   },
   "outputs": [
    {
     "data": {
      "text/plain": [
       "0.31661604199325666"
      ]
     },
     "execution_count": 46,
     "metadata": {},
     "output_type": "execute_result"
    }
   ],
   "source": [
    "with Timer.Timer() as t:\n",
    "    remove_html_markup_ampersand('&&&')\n",
    "t.elapsed_time()"
   ]
  },
  {
   "cell_type": "markdown",
   "metadata": {
    "slideshow": {
     "slide_type": "fragment"
    }
   },
   "source": [
    "Let us set up a test that checks whether the performance issue is present."
   ]
  },
  {
   "cell_type": "code",
   "execution_count": 47,
   "metadata": {
    "execution": {
     "iopub.execute_input": "2024-06-30T17:27:49.872929Z",
     "iopub.status.busy": "2024-06-30T17:27:49.872595Z",
     "iopub.status.idle": "2024-06-30T17:27:49.877989Z",
     "shell.execute_reply": "2024-06-30T17:27:49.877291Z"
    },
    "slideshow": {
     "slide_type": "fragment"
    }
   },
   "outputs": [],
   "source": [
    "def remove_html_test(s: str) -> None:\n",
    "    with Timer.Timer() as t:\n",
    "        remove_html_markup_ampersand(s)\n",
    "    assert t.elapsed_time() < 0.1"
   ]
  },
  {
   "cell_type": "markdown",
   "metadata": {
    "slideshow": {
     "slide_type": "fragment"
    }
   },
   "source": [
    "We can now apply delta debugging to determine a minimum input that causes the failure:"
   ]
  },
  {
   "cell_type": "code",
   "execution_count": 48,
   "metadata": {
    "execution": {
     "iopub.execute_input": "2024-06-30T17:27:49.881836Z",
     "iopub.status.busy": "2024-06-30T17:27:49.881495Z",
     "iopub.status.idle": "2024-06-30T17:27:49.885046Z",
     "shell.execute_reply": "2024-06-30T17:27:49.884298Z"
    },
    "slideshow": {
     "slide_type": "fragment"
    }
   },
   "outputs": [],
   "source": [
    "s_fail = '<b>foo&amp;</b>'"
   ]
  },
  {
   "cell_type": "code",
   "execution_count": 49,
   "metadata": {
    "execution": {
     "iopub.execute_input": "2024-06-30T17:27:49.889269Z",
     "iopub.status.busy": "2024-06-30T17:27:49.888579Z",
     "iopub.status.idle": "2024-06-30T17:27:50.004927Z",
     "shell.execute_reply": "2024-06-30T17:27:50.004096Z"
    },
    "slideshow": {
     "slide_type": "subslide"
    }
   },
   "outputs": [],
   "source": [
    "with DeltaDebugger.DeltaDebugger() as dd:\n",
    "    remove_html_test(s_fail)"
   ]
  },
  {
   "cell_type": "code",
   "execution_count": 50,
   "metadata": {
    "execution": {
     "iopub.execute_input": "2024-06-30T17:27:50.010879Z",
     "iopub.status.busy": "2024-06-30T17:27:50.010538Z",
     "iopub.status.idle": "2024-06-30T17:27:50.553388Z",
     "shell.execute_reply": "2024-06-30T17:27:50.552720Z"
    },
    "slideshow": {
     "slide_type": "fragment"
    }
   },
   "outputs": [
    {
     "data": {
      "text/plain": [
       "{'s': '&'}"
      ]
     },
     "execution_count": 50,
     "metadata": {},
     "output_type": "execute_result"
    }
   ],
   "source": [
    "dd.min_args()"
   ]
  },
  {
   "cell_type": "markdown",
   "metadata": {
    "slideshow": {
     "slide_type": "fragment"
    }
   },
   "source": [
    "For performance issues, however, a minimal input is often not enough to highlight the failure cause. This is because short inputs tend to take less processing time than longer inputs, which increases the risks of a spurious diagnosis. A better alternative is to compute a _maximum_ input where the issue does not occur:"
   ]
  },
  {
   "cell_type": "code",
   "execution_count": 51,
   "metadata": {
    "execution": {
     "iopub.execute_input": "2024-06-30T17:27:50.558257Z",
     "iopub.status.busy": "2024-06-30T17:27:50.557855Z",
     "iopub.status.idle": "2024-06-30T17:27:50.766335Z",
     "shell.execute_reply": "2024-06-30T17:27:50.765344Z"
    },
    "slideshow": {
     "slide_type": "fragment"
    }
   },
   "outputs": [],
   "source": [
    "s_pass = dd.max_args()"
   ]
  },
  {
   "cell_type": "code",
   "execution_count": 52,
   "metadata": {
    "execution": {
     "iopub.execute_input": "2024-06-30T17:27:50.770854Z",
     "iopub.status.busy": "2024-06-30T17:27:50.770513Z",
     "iopub.status.idle": "2024-06-30T17:27:50.775813Z",
     "shell.execute_reply": "2024-06-30T17:27:50.775117Z"
    },
    "slideshow": {
     "slide_type": "fragment"
    }
   },
   "outputs": [
    {
     "data": {
      "text/plain": [
       "{'s': '<b>fooamp;</b>'}"
      ]
     },
     "execution_count": 52,
     "metadata": {},
     "output_type": "execute_result"
    }
   ],
   "source": [
    "s_pass"
   ]
  },
  {
   "cell_type": "markdown",
   "metadata": {
    "slideshow": {
     "slide_type": "fragment"
    }
   },
   "source": [
    "We see that the culprit character (the `&`) is removed. This tells us the failure-inducing difference – or, more precisely, the cause for the performance issue."
   ]
  },
  {
   "cell_type": "markdown",
   "metadata": {
    "slideshow": {
     "slide_type": "slide"
    }
   },
   "source": [
    "## Synopsis"
   ]
  },
  {
   "cell_type": "markdown",
   "metadata": {
    "slideshow": {
     "slide_type": "fragment"
    }
   },
   "source": [
    "This chapter provides a class `PerformanceDebugger` that allows measuring and visualizing the time taken per line in a function."
   ]
  },
  {
   "cell_type": "code",
   "execution_count": 53,
   "metadata": {
    "execution": {
     "iopub.execute_input": "2024-06-30T17:27:50.784685Z",
     "iopub.status.busy": "2024-06-30T17:27:50.784315Z",
     "iopub.status.idle": "2024-06-30T17:27:50.805724Z",
     "shell.execute_reply": "2024-06-30T17:27:50.805409Z"
    },
    "slideshow": {
     "slide_type": "fragment"
    }
   },
   "outputs": [],
   "source": [
    "with PerformanceDebugger(TimeCollector) as debugger:\n",
    "    for i in range(100):\n",
    "        s = remove_html_markup('<b>foo</b>')"
   ]
  },
  {
   "cell_type": "markdown",
   "metadata": {
    "slideshow": {
     "slide_type": "fragment"
    }
   },
   "source": [
    "The distribution of executed time within each function can be obtained by printing out the debugger:"
   ]
  },
  {
   "cell_type": "code",
   "execution_count": 54,
   "metadata": {
    "execution": {
     "iopub.execute_input": "2024-06-30T17:27:50.807730Z",
     "iopub.status.busy": "2024-06-30T17:27:50.807571Z",
     "iopub.status.idle": "2024-06-30T17:27:50.810031Z",
     "shell.execute_reply": "2024-06-30T17:27:50.809751Z"
    },
    "slideshow": {
     "slide_type": "subslide"
    }
   },
   "outputs": [
    {
     "name": "stdout",
     "output_type": "stream",
     "text": [
      " 238   2% def remove_html_markup(s):  # type: ignore\n",
      " 239   2%     tag = False\n",
      " 240   1%     quote = False\n",
      " 241   1%     out = \"\"\n",
      " 242   0%\n",
      " 243  16%     for c in s:\n",
      " 244  15%         assert tag or not quote\n",
      " 245   0%\n",
      " 246  14%         if c == '<' and not quote:\n",
      " 247   3%             tag = True\n",
      " 248  12%         elif c == '>' and not quote:\n",
      " 249   2%             tag = False\n",
      " 250   8%         elif (c == '\"' or c == \"'\") and tag:\n",
      " 251   0%             quote = not quote\n",
      " 252   9%         elif not tag:\n",
      " 253   5%             out = out + c\n",
      " 254   0%\n",
      " 255   2%     return out\n",
      "\n"
     ]
    }
   ],
   "source": [
    "print(debugger)"
   ]
  },
  {
   "cell_type": "markdown",
   "metadata": {
    "slideshow": {
     "slide_type": "subslide"
    }
   },
   "source": [
    "The sum of all percentages in a function should always be 100%."
   ]
  },
  {
   "cell_type": "markdown",
   "metadata": {
    "slideshow": {
     "slide_type": "fragment"
    }
   },
   "source": [
    "These percentages can also be visualized, where darker shades represent higher percentage values:"
   ]
  },
  {
   "cell_type": "code",
   "execution_count": 55,
   "metadata": {
    "execution": {
     "iopub.execute_input": "2024-06-30T17:27:50.811881Z",
     "iopub.status.busy": "2024-06-30T17:27:50.811759Z",
     "iopub.status.idle": "2024-06-30T17:27:50.815317Z",
     "shell.execute_reply": "2024-06-30T17:27:50.814968Z"
    },
    "slideshow": {
     "slide_type": "subslide"
    }
   },
   "outputs": [
    {
     "data": {
      "text/html": [
       "<pre style=\"background-color:hsl(240, 100%, 96.40497463956162%)\"\n",
       "                    title=\"Line 238:   2% 0.0002582480665296316\"> 238 def remove_html_markup(s):  # type: ignore</pre>\n",
       "<pre style=\"background-color:hsl(240, 100%, 96.9762727506189%)\"\n",
       "                    title=\"Line 239:   2% 0.00021720895892940462\"> 239     tag = False</pre>\n",
       "<pre style=\"background-color:hsl(240, 100%, 97.11779158366137%)\"\n",
       "                    title=\"Line 240:   1% 0.0002070429763989523\"> 240     quote = False</pre>\n",
       "<pre style=\"background-color:hsl(240, 100%, 97.27268905242099%)\"\n",
       "                    title=\"Line 241:   1% 0.00019591594173107296\"> 241     out = &quot;&quot;</pre>\n",
       "<pre style=\"background-color:hsl(240, 100%, 100.0%)\"\n",
       "                    title=\"Line 242:   0% 0.0\"> 242 &nbsp;</pre>\n",
       "<pre style=\"background-color:hsl(240, 100%, 75.0%)\"\n",
       "                    title=\"Line 243:  16% 0.001795870964997448\"> 243     for c in s:</pre>\n",
       "<pre style=\"background-color:hsl(240, 100%, 77.65506291145286%)\"\n",
       "                    title=\"Line 244:  15% 0.0016051449492806569\"> 244         assert tag or not quote</pre>\n",
       "<pre style=\"background-color:hsl(240, 100%, 100.0%)\"\n",
       "                    title=\"Line 245:   0% 0.0\"> 245 &nbsp;</pre>\n",
       "<pre style=\"background-color:hsl(240, 100%, 77.927202468059%)\"\n",
       "                    title=\"Line 246:  14% 0.001585595848155208\"> 246         if c == &#x27;&lt;&#x27; and not quote:</pre>\n",
       "<pre style=\"background-color:hsl(240, 100%, 95.5196534534885%)\"\n",
       "                    title=\"Line 247:   3% 0.00032184497104026377\"> 247             tag = True</pre>\n",
       "<pre style=\"background-color:hsl(240, 100%, 82.10053806007234%)\"\n",
       "                    title=\"Line 248:  12% 0.0012858049594797194\"> 248         elif c == &#x27;&gt;&#x27; and not quote:</pre>\n",
       "<pre style=\"background-color:hsl(240, 100%, 95.58714179631166%)\"\n",
       "                    title=\"Line 249:   2% 0.00031699695682618767\"> 249             tag = False</pre>\n",
       "<pre style=\"background-color:hsl(240, 100%, 86.6963424171656%)\"\n",
       "                    title=\"Line 250:   8% 0.0009556660952512175\"> 250         elif (c == &#x27;&quot;&#x27; or c == &quot;&#x27;&quot;) and tag:</pre>\n",
       "<pre style=\"background-color:hsl(240, 100%, 100.0%)\"\n",
       "                    title=\"Line 251:   0% 0.0\"> 251             quote = not quote</pre>\n",
       "<pre style=\"background-color:hsl(240, 100%, 86.37329727623917%)\"\n",
       "                    title=\"Line 252:   9% 0.0009788719908101484\"> 252         elif not tag:</pre>\n",
       "<pre style=\"background-color:hsl(240, 100%, 91.27622339614845%)\"\n",
       "                    title=\"Line 253:   5% 0.0006266710843192413\"> 253             out = out + c</pre>\n",
       "<pre style=\"background-color:hsl(240, 100%, 100.0%)\"\n",
       "                    title=\"Line 254:   0% 0.0\"> 254 &nbsp;</pre>\n",
       "<pre style=\"background-color:hsl(240, 100%, 95.65205420024986%)\"\n",
       "                    title=\"Line 255:   2% 0.0003123339847661555\"> 255     return out</pre>\n"
      ],
      "text/markdown": [
       "| `remove_html_markup` | `s='<b>foo</b>'` | \n",
       "| ---------------------- | ---- | \n",
       "| <samp style=\"background-color: hsl(240, 100%, 96.40497463956162%)\" title=\"  2% 0.0002582480665296316\">remove_html_markup:238</samp> |    X | \n",
       "| <samp style=\"background-color: hsl(240, 100%, 96.9762727506189%)\" title=\"  2% 0.00021720895892940462\">remove_html_markup:239</samp> |    X | \n",
       "| <samp style=\"background-color: hsl(240, 100%, 97.11779158366137%)\" title=\"  1% 0.0002070429763989523\">remove_html_markup:240</samp> |    X | \n",
       "| <samp style=\"background-color: hsl(240, 100%, 97.27268905242099%)\" title=\"  1% 0.00019591594173107296\">remove_html_markup:241</samp> |    X | \n",
       "| <samp style=\"background-color: hsl(240, 100%, 75.0%)\" title=\" 16% 0.001795870964997448\">remove_html_markup:243</samp> |    X | \n",
       "| <samp style=\"background-color: hsl(240, 100%, 77.65506291145286%)\" title=\" 15% 0.0016051449492806569\">remove_html_markup:244</samp> |    X | \n",
       "| <samp style=\"background-color: hsl(240, 100%, 77.927202468059%)\" title=\" 14% 0.001585595848155208\">remove_html_markup:246</samp> |    X | \n",
       "| <samp style=\"background-color: hsl(240, 100%, 95.5196534534885%)\" title=\"  3% 0.00032184497104026377\">remove_html_markup:247</samp> |    X | \n",
       "| <samp style=\"background-color: hsl(240, 100%, 82.10053806007234%)\" title=\" 12% 0.0012858049594797194\">remove_html_markup:248</samp> |    X | \n",
       "| <samp style=\"background-color: hsl(240, 100%, 95.58714179631166%)\" title=\"  2% 0.00031699695682618767\">remove_html_markup:249</samp> |    X | \n",
       "| <samp style=\"background-color: hsl(240, 100%, 86.6963424171656%)\" title=\"  8% 0.0009556660952512175\">remove_html_markup:250</samp> |    X | \n",
       "| <samp style=\"background-color: hsl(240, 100%, 86.37329727623917%)\" title=\"  9% 0.0009788719908101484\">remove_html_markup:252</samp> |    X | \n",
       "| <samp style=\"background-color: hsl(240, 100%, 91.27622339614845%)\" title=\"  5% 0.0006266710843192413\">remove_html_markup:253</samp> |    X | \n",
       "| <samp style=\"background-color: hsl(240, 100%, 95.65205420024986%)\" title=\"  2% 0.0003123339847661555\">remove_html_markup:255</samp> |    X | \n"
      ],
      "text/plain": [
       " 238   2% def remove_html_markup(s):  # type: ignore\n",
       " 239   2%     tag = False\n",
       " 240   1%     quote = False\n",
       " 241   1%     out = \"\"\n",
       " 242   0%\n",
       " 243  16%     for c in s:\n",
       " 244  15%         assert tag or not quote\n",
       " 245   0%\n",
       " 246  14%         if c == '<' and not quote:\n",
       " 247   3%             tag = True\n",
       " 248  12%         elif c == '>' and not quote:\n",
       " 249   2%             tag = False\n",
       " 250   8%         elif (c == '\"' or c == \"'\") and tag:\n",
       " 251   0%             quote = not quote\n",
       " 252   9%         elif not tag:\n",
       " 253   5%             out = out + c\n",
       " 254   0%\n",
       " 255   2%     return out"
      ]
     },
     "execution_count": 55,
     "metadata": {},
     "output_type": "execute_result"
    }
   ],
   "source": [
    "debugger"
   ]
  },
  {
   "cell_type": "markdown",
   "metadata": {
    "slideshow": {
     "slide_type": "subslide"
    }
   },
   "source": [
    "The abstract `MetricCollector` class allows subclassing to build more collectors, such as `HitCollector`."
   ]
  },
  {
   "cell_type": "code",
   "execution_count": 56,
   "metadata": {
    "execution": {
     "iopub.execute_input": "2024-06-30T17:27:50.817008Z",
     "iopub.status.busy": "2024-06-30T17:27:50.816902Z",
     "iopub.status.idle": "2024-06-30T17:27:50.818551Z",
     "shell.execute_reply": "2024-06-30T17:27:50.818295Z"
    },
    "slideshow": {
     "slide_type": "fragment"
    }
   },
   "outputs": [],
   "source": [
    "# ignore\n",
    "from ClassDiagram import display_class_hierarchy"
   ]
  },
  {
   "cell_type": "code",
   "execution_count": 57,
   "metadata": {
    "execution": {
     "iopub.execute_input": "2024-06-30T17:27:50.819907Z",
     "iopub.status.busy": "2024-06-30T17:27:50.819801Z",
     "iopub.status.idle": "2024-06-30T17:27:52.007247Z",
     "shell.execute_reply": "2024-06-30T17:27:52.006839Z"
    },
    "slideshow": {
     "slide_type": "fragment"
    }
   },
   "outputs": [
    {
     "data": {
      "image/svg+xml": [
       "<?xml version=\"1.0\" encoding=\"UTF-8\" standalone=\"no\"?>\n",
       "<!DOCTYPE svg PUBLIC \"-//W3C//DTD SVG 1.1//EN\"\n",
       " \"http://www.w3.org/Graphics/SVG/1.1/DTD/svg11.dtd\">\n",
       "<!-- Generated by graphviz version 11.0.0 (20240428.1522)\n",
       " -->\n",
       "<!-- Pages: 1 -->\n",
       "<svg width=\"552pt\" height=\"590pt\"\n",
       " viewBox=\"0.00 0.00 552.38 590.25\" xmlns=\"http://www.w3.org/2000/svg\" xmlns:xlink=\"http://www.w3.org/1999/xlink\">\n",
       "<g id=\"graph0\" class=\"graph\" transform=\"scale(1 1) rotate(0) translate(4 586.25)\">\n",
       "<g id=\"a_graph0\"><a xlink:title=\"PerformanceDebugger class hierarchy\">\n",
       "<polygon fill=\"white\" stroke=\"none\" points=\"-4,4 -4,-586.25 548.38,-586.25 548.38,4 -4,4\"/>\n",
       "</a>\n",
       "</g>\n",
       "<!-- PerformanceDebugger -->\n",
       "<g id=\"node1\" class=\"node\">\n",
       "<title>PerformanceDebugger</title>\n",
       "<g id=\"a_node1\"><a xlink:href=\"#\" xlink:title=\"class PerformanceDebugger:&#10;Collect and visualize a metric\">\n",
       "<polygon fill=\"none\" stroke=\"black\" points=\"0,-32.38 0,-78.38 161.5,-78.38 161.5,-32.38 0,-32.38\"/>\n",
       "<text text-anchor=\"start\" x=\"8\" y=\"-62.08\" font-family=\"Raleway, Helvetica, Arial, sans-serif\" font-weight=\"bold\" font-size=\"14.00\" fill=\"#6a0dad\">PerformanceDebugger</text>\n",
       "<polyline fill=\"none\" stroke=\"black\" points=\"0,-53.12 161.5,-53.12\"/>\n",
       "<g id=\"a_node1_0\"><a xlink:href=\"#\" xlink:title=\"PerformanceDebugger\">\n",
       "<g id=\"a_node1_1\"><a xlink:href=\"#\" xlink:title=\"__init__(self, collector_class: Type, log: bool = False):&#10;Constructor. Use instances of `collector_class` to collect events.\">\n",
       "<text text-anchor=\"start\" x=\"50.75\" y=\"-40.62\" font-family=\"'Fira Mono', 'Source Code Pro', 'Courier', monospace\" font-weight=\"bold\" font-style=\"italic\" font-size=\"10.00\">__init__()</text>\n",
       "</a>\n",
       "</g>\n",
       "</a>\n",
       "</g>\n",
       "</a>\n",
       "</g>\n",
       "</g>\n",
       "<!-- MetricDebugger -->\n",
       "<g id=\"node2\" class=\"node\">\n",
       "<title>MetricDebugger</title>\n",
       "<g id=\"a_node2\"><a xlink:href=\"#\" xlink:title=\"class MetricDebugger:&#10;Visualize a metric\">\n",
       "<polygon fill=\"none\" stroke=\"black\" points=\"21,-147.25 21,-257 140.5,-257 140.5,-147.25 21,-147.25\"/>\n",
       "<text text-anchor=\"start\" x=\"29\" y=\"-240.7\" font-family=\"Raleway, Helvetica, Arial, sans-serif\" font-weight=\"bold\" font-size=\"14.00\" fill=\"#6a0dad\">MetricDebugger</text>\n",
       "<polyline fill=\"none\" stroke=\"black\" points=\"21,-231.75 140.5,-231.75\"/>\n",
       "<g id=\"a_node2_2\"><a xlink:href=\"#\" xlink:title=\"MetricDebugger\">\n",
       "<g id=\"a_node2_3\"><a xlink:href=\"#\" xlink:title=\"color(self, location: Tuple[str, int]) &#45;&gt; str:&#10;Return a color for the given event, or None.&#10;To be overloaded in subclasses.\">\n",
       "<text text-anchor=\"start\" x=\"32.75\" y=\"-219.25\" font-family=\"'Fira Mono', 'Source Code Pro', 'Courier', monospace\" font-style=\"italic\" font-size=\"10.00\">color()</text>\n",
       "</a>\n",
       "</g>\n",
       "<g id=\"a_node2_4\"><a xlink:href=\"#\" xlink:title=\"maximum(self, func_name: str) &#45;&gt; float\">\n",
       "<text text-anchor=\"start\" x=\"32.75\" y=\"-205.5\" font-family=\"'Fira Mono', 'Source Code Pro', 'Courier', monospace\" font-size=\"10.00\">maximum()</text>\n",
       "</a>\n",
       "</g>\n",
       "<g id=\"a_node2_5\"><a xlink:href=\"#\" xlink:title=\"metric(self, location: Tuple[str, int]) &#45;&gt; float\">\n",
       "<text text-anchor=\"start\" x=\"32.75\" y=\"-192.75\" font-family=\"'Fira Mono', 'Source Code Pro', 'Courier', monospace\" font-size=\"10.00\">metric()</text>\n",
       "</a>\n",
       "</g>\n",
       "<g id=\"a_node2_6\"><a xlink:href=\"#\" xlink:title=\"suspiciousness(self, location: Tuple[str, int]) &#45;&gt; float:&#10;Return a suspiciousness value in the range [0, 1.0]&#10;for the given event, or `None` if unknown.&#10;To be overloaded in subclasses.\">\n",
       "<text text-anchor=\"start\" x=\"32.75\" y=\"-181\" font-family=\"'Fira Mono', 'Source Code Pro', 'Courier', monospace\" font-style=\"italic\" font-size=\"10.00\">suspiciousness()</text>\n",
       "</a>\n",
       "</g>\n",
       "<g id=\"a_node2_7\"><a xlink:href=\"#\" xlink:title=\"tooltip(self, location: Tuple[str, int]) &#45;&gt; str:&#10;Return a tooltip for the given event (default: percentage).&#10;To be overloaded in subclasses.\">\n",
       "<text text-anchor=\"start\" x=\"32.75\" y=\"-168.25\" font-family=\"'Fira Mono', 'Source Code Pro', 'Courier', monospace\" font-style=\"italic\" font-size=\"10.00\">tooltip()</text>\n",
       "</a>\n",
       "</g>\n",
       "<g id=\"a_node2_8\"><a xlink:href=\"#\" xlink:title=\"total(self, func_name: str) &#45;&gt; float\">\n",
       "<text text-anchor=\"start\" x=\"32.75\" y=\"-154.5\" font-family=\"'Fira Mono', 'Source Code Pro', 'Courier', monospace\" font-size=\"10.00\">total()</text>\n",
       "</a>\n",
       "</g>\n",
       "</a>\n",
       "</g>\n",
       "</a>\n",
       "</g>\n",
       "</g>\n",
       "<!-- PerformanceDebugger&#45;&gt;MetricDebugger -->\n",
       "<g id=\"edge1\" class=\"edge\">\n",
       "<title>PerformanceDebugger&#45;&gt;MetricDebugger</title>\n",
       "<path fill=\"none\" stroke=\"black\" d=\"M80.75,-78.67C80.75,-94 80.75,-115.19 80.75,-135.65\"/>\n",
       "<polygon fill=\"none\" stroke=\"black\" points=\"77.25,-135.38 80.75,-145.38 84.25,-135.38 77.25,-135.38\"/>\n",
       "</g>\n",
       "<!-- SpectrumDebugger -->\n",
       "<g id=\"node3\" class=\"node\">\n",
       "<title>SpectrumDebugger</title>\n",
       "<g id=\"a_node3\"><a xlink:href=\"StatisticalDebugger.ipynb\" xlink:title=\"class SpectrumDebugger:&#10;A class to collect events for passing and failing outcomes.\">\n",
       "<polygon fill=\"none\" stroke=\"black\" points=\"9.75,-294 9.75,-330 151.75,-330 151.75,-294 9.75,-294\"/>\n",
       "<text text-anchor=\"start\" x=\"17.75\" y=\"-308.7\" font-family=\"Raleway, Helvetica, Arial, sans-serif\" font-weight=\"bold\" font-size=\"14.00\" fill=\"#6a0dad\">SpectrumDebugger</text>\n",
       "</a>\n",
       "</g>\n",
       "</g>\n",
       "<!-- MetricDebugger&#45;&gt;SpectrumDebugger -->\n",
       "<g id=\"edge2\" class=\"edge\">\n",
       "<title>MetricDebugger&#45;&gt;SpectrumDebugger</title>\n",
       "<path fill=\"none\" stroke=\"black\" d=\"M80.75,-257.38C80.75,-266.06 80.75,-274.72 80.75,-282.48\"/>\n",
       "<polygon fill=\"none\" stroke=\"black\" points=\"77.25,-282.28 80.75,-292.28 84.25,-282.28 77.25,-282.28\"/>\n",
       "</g>\n",
       "<!-- DifferenceDebugger -->\n",
       "<g id=\"node4\" class=\"node\">\n",
       "<title>DifferenceDebugger</title>\n",
       "<g id=\"a_node4\"><a xlink:href=\"StatisticalDebugger.ipynb\" xlink:title=\"class DifferenceDebugger:&#10;A class to collect events for passing and failing outcomes.\">\n",
       "<polygon fill=\"none\" stroke=\"black\" points=\"8.25,-367 8.25,-425.75 153.25,-425.75 153.25,-367 8.25,-367\"/>\n",
       "<text text-anchor=\"start\" x=\"16.25\" y=\"-409.45\" font-family=\"Raleway, Helvetica, Arial, sans-serif\" font-weight=\"bold\" font-size=\"14.00\" fill=\"#6a0dad\">DifferenceDebugger</text>\n",
       "<polyline fill=\"none\" stroke=\"black\" points=\"8.25,-400.5 153.25,-400.5\"/>\n",
       "<g id=\"a_node4_9\"><a xlink:href=\"#\" xlink:title=\"DifferenceDebugger\">\n",
       "<g id=\"a_node4_10\"><a xlink:href=\"StatisticalDebugger.ipynb\" xlink:title=\"FAIL = &#39;FAIL&#39;\">\n",
       "<text text-anchor=\"start\" x=\"68.75\" y=\"-387\" font-family=\"'Fira Mono', 'Source Code Pro', 'Courier', monospace\" font-size=\"10.00\">FAIL</text>\n",
       "</a>\n",
       "</g>\n",
       "<g id=\"a_node4_11\"><a xlink:href=\"StatisticalDebugger.ipynb\" xlink:title=\"PASS = &#39;PASS&#39;\">\n",
       "<text text-anchor=\"start\" x=\"68.75\" y=\"-374.25\" font-family=\"'Fira Mono', 'Source Code Pro', 'Courier', monospace\" font-size=\"10.00\">PASS</text>\n",
       "</a>\n",
       "</g>\n",
       "</a>\n",
       "</g>\n",
       "</a>\n",
       "</g>\n",
       "</g>\n",
       "<!-- SpectrumDebugger&#45;&gt;DifferenceDebugger -->\n",
       "<g id=\"edge3\" class=\"edge\">\n",
       "<title>SpectrumDebugger&#45;&gt;DifferenceDebugger</title>\n",
       "<path fill=\"none\" stroke=\"black\" d=\"M80.75,-330.47C80.75,-337.76 80.75,-346.55 80.75,-355.28\"/>\n",
       "<polygon fill=\"none\" stroke=\"black\" points=\"77.25,-355.07 80.75,-365.07 84.25,-355.07 77.25,-355.07\"/>\n",
       "</g>\n",
       "<!-- StatisticalDebugger -->\n",
       "<g id=\"node5\" class=\"node\">\n",
       "<title>StatisticalDebugger</title>\n",
       "<g id=\"a_node5\"><a xlink:href=\"StatisticalDebugger.ipynb\" xlink:title=\"class StatisticalDebugger:&#10;A class to collect events for multiple outcomes.\">\n",
       "<polygon fill=\"none\" stroke=\"black\" points=\"10.88,-462.75 10.88,-498.75 150.62,-498.75 150.62,-462.75 10.88,-462.75\"/>\n",
       "<text text-anchor=\"start\" x=\"18.88\" y=\"-477.45\" font-family=\"Raleway, Helvetica, Arial, sans-serif\" font-weight=\"bold\" font-size=\"14.00\" fill=\"#6a0dad\">StatisticalDebugger</text>\n",
       "</a>\n",
       "</g>\n",
       "</g>\n",
       "<!-- DifferenceDebugger&#45;&gt;StatisticalDebugger -->\n",
       "<g id=\"edge4\" class=\"edge\">\n",
       "<title>DifferenceDebugger&#45;&gt;StatisticalDebugger</title>\n",
       "<path fill=\"none\" stroke=\"black\" d=\"M80.75,-426.19C80.75,-434.2 80.75,-442.9 80.75,-450.91\"/>\n",
       "<polygon fill=\"none\" stroke=\"black\" points=\"77.25,-450.85 80.75,-460.85 84.25,-450.85 77.25,-450.85\"/>\n",
       "</g>\n",
       "<!-- TimeCollector -->\n",
       "<g id=\"node6\" class=\"node\">\n",
       "<title>TimeCollector</title>\n",
       "<g id=\"a_node6\"><a xlink:href=\"#\" xlink:title=\"class TimeCollector:&#10;Collect time executed for each line\">\n",
       "<polygon fill=\"none\" stroke=\"black\" points=\"190.5,-0.5 190.5,-110.25 295,-110.25 295,-0.5 190.5,-0.5\"/>\n",
       "<text text-anchor=\"start\" x=\"198.5\" y=\"-93.95\" font-family=\"Raleway, Helvetica, Arial, sans-serif\" font-weight=\"bold\" font-size=\"14.00\" fill=\"#6a0dad\">TimeCollector</text>\n",
       "<polyline fill=\"none\" stroke=\"black\" points=\"190.5,-85 295,-85\"/>\n",
       "<g id=\"a_node6_12\"><a xlink:href=\"#\" xlink:title=\"TimeCollector\">\n",
       "<g id=\"a_node6_13\"><a xlink:href=\"#\" xlink:title=\"__enter__(self) &#45;&gt; Any:&#10;Called at begin of `with` block. Turn tracing on.\">\n",
       "<text text-anchor=\"start\" x=\"203.75\" y=\"-72.5\" font-family=\"'Fira Mono', 'Source Code Pro', 'Courier', monospace\" font-style=\"italic\" font-size=\"10.00\">__enter__()</text>\n",
       "</a>\n",
       "</g>\n",
       "<g id=\"a_node6_14\"><a xlink:href=\"#\" xlink:title=\"__init__(self) &#45;&gt; None:&#10;Constructor\">\n",
       "<text text-anchor=\"start\" x=\"203.75\" y=\"-59.75\" font-family=\"'Fira Mono', 'Source Code Pro', 'Courier', monospace\" font-style=\"italic\" font-size=\"10.00\">__init__()</text>\n",
       "</a>\n",
       "</g>\n",
       "<g id=\"a_node6_15\"><a xlink:href=\"#\" xlink:title=\"all_metrics(self, func: str) &#45;&gt; List[float]:&#10;Return all metric for a function `func`.\">\n",
       "<text text-anchor=\"start\" x=\"203.75\" y=\"-47\" font-family=\"'Fira Mono', 'Source Code Pro', 'Courier', monospace\" font-style=\"italic\" font-size=\"10.00\">all_metrics()</text>\n",
       "</a>\n",
       "</g>\n",
       "<g id=\"a_node6_16\"><a xlink:href=\"#\" xlink:title=\"collect(self, frame: frame, event: str, arg: Any) &#45;&gt; None:&#10;Invoked for every line executed. Accumulate time spent.\">\n",
       "<text text-anchor=\"start\" x=\"203.75\" y=\"-34.25\" font-family=\"'Fira Mono', 'Source Code Pro', 'Courier', monospace\" font-style=\"italic\" font-size=\"10.00\">collect()</text>\n",
       "</a>\n",
       "</g>\n",
       "<g id=\"a_node6_17\"><a xlink:href=\"#\" xlink:title=\"metric(self, location: Any) &#45;&gt; Optional[float]:&#10;Return a metric for an event, or none.\">\n",
       "<text text-anchor=\"start\" x=\"203.75\" y=\"-21.5\" font-family=\"'Fira Mono', 'Source Code Pro', 'Courier', monospace\" font-style=\"italic\" font-size=\"10.00\">metric()</text>\n",
       "</a>\n",
       "</g>\n",
       "<g id=\"a_node6_18\"><a xlink:href=\"#\" xlink:title=\"reset_timer(self) &#45;&gt; None\">\n",
       "<text text-anchor=\"start\" x=\"203.75\" y=\"-7.75\" font-family=\"'Fira Mono', 'Source Code Pro', 'Courier', monospace\" font-size=\"10.00\">reset_timer()</text>\n",
       "</a>\n",
       "</g>\n",
       "</a>\n",
       "</g>\n",
       "</a>\n",
       "</g>\n",
       "</g>\n",
       "<!-- MetricCollector -->\n",
       "<g id=\"node7\" class=\"node\">\n",
       "<title>MetricCollector</title>\n",
       "<g id=\"a_node7\"><a xlink:href=\"#\" xlink:title=\"class MetricCollector:&#10;Abstract superclass for collecting line&#45;specific metrics\">\n",
       "<polygon fill=\"none\" stroke=\"black\" points=\"197.75,-160 197.75,-244.25 309.75,-244.25 309.75,-160 197.75,-160\"/>\n",
       "<text text-anchor=\"start\" x=\"205.75\" y=\"-227.95\" font-family=\"Raleway, Helvetica, Arial, sans-serif\" font-weight=\"bold\" font-size=\"14.00\" fill=\"#6a0dad\">MetricCollector</text>\n",
       "<polyline fill=\"none\" stroke=\"black\" points=\"197.75,-219 309.75,-219\"/>\n",
       "<g id=\"a_node7_19\"><a xlink:href=\"#\" xlink:title=\"MetricCollector\">\n",
       "<g id=\"a_node7_20\"><a xlink:href=\"#\" xlink:title=\"all_metrics(self, func: str) &#45;&gt; List[float]:&#10;Return all metric for a function `func`.\">\n",
       "<text text-anchor=\"start\" x=\"214.75\" y=\"-206.5\" font-family=\"'Fira Mono', 'Source Code Pro', 'Courier', monospace\" font-style=\"italic\" font-size=\"10.00\">all_metrics()</text>\n",
       "</a>\n",
       "</g>\n",
       "<g id=\"a_node7_21\"><a xlink:href=\"#\" xlink:title=\"maximum(self, func: str) &#45;&gt; float\">\n",
       "<text text-anchor=\"start\" x=\"214.75\" y=\"-192.75\" font-family=\"'Fira Mono', 'Source Code Pro', 'Courier', monospace\" font-size=\"10.00\">maximum()</text>\n",
       "</a>\n",
       "</g>\n",
       "<g id=\"a_node7_22\"><a xlink:href=\"#\" xlink:title=\"metric(self, event: Any) &#45;&gt; Optional[float]:&#10;Return a metric for an event, or none.\">\n",
       "<text text-anchor=\"start\" x=\"214.75\" y=\"-181\" font-family=\"'Fira Mono', 'Source Code Pro', 'Courier', monospace\" font-style=\"italic\" font-size=\"10.00\">metric()</text>\n",
       "</a>\n",
       "</g>\n",
       "<g id=\"a_node7_23\"><a xlink:href=\"#\" xlink:title=\"total(self, func: str) &#45;&gt; float\">\n",
       "<text text-anchor=\"start\" x=\"214.75\" y=\"-167.25\" font-family=\"'Fira Mono', 'Source Code Pro', 'Courier', monospace\" font-size=\"10.00\">total()</text>\n",
       "</a>\n",
       "</g>\n",
       "</a>\n",
       "</g>\n",
       "</a>\n",
       "</g>\n",
       "</g>\n",
       "<!-- TimeCollector&#45;&gt;MetricCollector -->\n",
       "<g id=\"edge5\" class=\"edge\">\n",
       "<title>TimeCollector&#45;&gt;MetricCollector</title>\n",
       "<path fill=\"none\" stroke=\"black\" d=\"M246.88,-110.69C247.81,-122.97 248.8,-135.99 249.73,-148.21\"/>\n",
       "<polygon fill=\"none\" stroke=\"black\" points=\"246.23,-148.42 250.48,-158.12 253.21,-147.89 246.23,-148.42\"/>\n",
       "</g>\n",
       "<!-- CoverageCollector -->\n",
       "<g id=\"node8\" class=\"node\">\n",
       "<title>CoverageCollector</title>\n",
       "<g id=\"a_node8\"><a xlink:href=\"StatisticalDebugger.ipynb\" xlink:title=\"class CoverageCollector:&#10;A class to record covered locations during execution.\">\n",
       "<polygon fill=\"none\" stroke=\"black\" points=\"186.88,-294 186.88,-330 320.62,-330 320.62,-294 186.88,-294\"/>\n",
       "<text text-anchor=\"start\" x=\"194.88\" y=\"-308.7\" font-family=\"Raleway, Helvetica, Arial, sans-serif\" font-weight=\"bold\" font-size=\"14.00\" fill=\"#6a0dad\">CoverageCollector</text>\n",
       "</a>\n",
       "</g>\n",
       "</g>\n",
       "<!-- MetricCollector&#45;&gt;CoverageCollector -->\n",
       "<g id=\"edge6\" class=\"edge\">\n",
       "<title>MetricCollector&#45;&gt;CoverageCollector</title>\n",
       "<path fill=\"none\" stroke=\"black\" d=\"M253.75,-244.52C253.75,-257.14 253.75,-270.72 253.75,-282.29\"/>\n",
       "<polygon fill=\"none\" stroke=\"black\" points=\"250.25,-282 253.75,-292 257.25,-282 250.25,-282\"/>\n",
       "</g>\n",
       "<!-- Collector -->\n",
       "<g id=\"node9\" class=\"node\">\n",
       "<title>Collector</title>\n",
       "<g id=\"a_node9\"><a xlink:href=\"StatisticalDebugger.ipynb\" xlink:title=\"class Collector:&#10;A class to record events during execution.\">\n",
       "<polygon fill=\"none\" stroke=\"black\" points=\"194.62,-378.38 194.62,-414.38 266.88,-414.38 266.88,-378.38 194.62,-378.38\"/>\n",
       "<text text-anchor=\"start\" x=\"202.62\" y=\"-393.07\" font-family=\"Raleway, Helvetica, Arial, sans-serif\" font-weight=\"bold\" font-size=\"14.00\" fill=\"#6a0dad\">Collector</text>\n",
       "</a>\n",
       "</g>\n",
       "</g>\n",
       "<!-- CoverageCollector&#45;&gt;Collector -->\n",
       "<g id=\"edge7\" class=\"edge\">\n",
       "<title>CoverageCollector&#45;&gt;Collector</title>\n",
       "<path fill=\"none\" stroke=\"black\" d=\"M248.87,-330.47C245.91,-341.06 242.07,-354.83 238.68,-366.96\"/>\n",
       "<polygon fill=\"none\" stroke=\"black\" points=\"235.35,-365.9 236.03,-376.47 242.09,-367.78 235.35,-365.9\"/>\n",
       "</g>\n",
       "<!-- StackInspector -->\n",
       "<g id=\"node11\" class=\"node\">\n",
       "<title>StackInspector</title>\n",
       "<g id=\"a_node11\"><a xlink:href=\"StackInspector.ipynb\" xlink:title=\"class StackInspector:&#10;Provide functions to inspect the stack\">\n",
       "<polygon fill=\"none\" stroke=\"black\" points=\"183.75,-535.75 183.75,-581.75 349.75,-581.75 349.75,-535.75 183.75,-535.75\"/>\n",
       "<text text-anchor=\"start\" x=\"220.25\" y=\"-565.45\" font-family=\"Raleway, Helvetica, Arial, sans-serif\" font-weight=\"bold\" font-size=\"14.00\" fill=\"#6a0dad\">StackInspector</text>\n",
       "<polyline fill=\"none\" stroke=\"black\" points=\"183.75,-556.5 349.75,-556.5\"/>\n",
       "<g id=\"a_node11_24\"><a xlink:href=\"#\" xlink:title=\"StackInspector\">\n",
       "<g id=\"a_node11_25\"><a xlink:href=\"StackInspector.ipynb\" xlink:title=\"_generated_function_cache = {(&#39;remove_html_markup&#39;, 238): &lt;function remove_html_markup at 0x305b76320&gt;}\">\n",
       "<text text-anchor=\"start\" x=\"191.75\" y=\"-543\" font-family=\"'Fira Mono', 'Source Code Pro', 'Courier', monospace\" font-size=\"10.00\">_generated_function_cache</text>\n",
       "</a>\n",
       "</g>\n",
       "</a>\n",
       "</g>\n",
       "</a>\n",
       "</g>\n",
       "</g>\n",
       "<!-- CoverageCollector&#45;&gt;StackInspector -->\n",
       "<g id=\"edge10\" class=\"edge\">\n",
       "<title>CoverageCollector&#45;&gt;StackInspector</title>\n",
       "<path fill=\"none\" stroke=\"black\" d=\"M262.88,-330.29C267.76,-340.51 273.26,-353.89 275.75,-366.5 286.5,-420.91 279.41,-485.63 273.18,-524.11\"/>\n",
       "<polygon fill=\"none\" stroke=\"black\" points=\"269.74,-523.47 271.5,-533.91 276.64,-524.65 269.74,-523.47\"/>\n",
       "</g>\n",
       "<!-- Tracer -->\n",
       "<g id=\"node10\" class=\"node\">\n",
       "<title>Tracer</title>\n",
       "<g id=\"a_node10\"><a xlink:href=\"Tracer.ipynb\" xlink:title=\"class Tracer:&#10;A class for tracing a piece of code. Use as `with Tracer(): block()`\">\n",
       "<polygon fill=\"none\" stroke=\"black\" points=\"207.25,-462.75 207.25,-498.75 262.25,-498.75 262.25,-462.75 207.25,-462.75\"/>\n",
       "<text text-anchor=\"start\" x=\"215.25\" y=\"-477.45\" font-family=\"Raleway, Helvetica, Arial, sans-serif\" font-weight=\"bold\" font-size=\"14.00\" fill=\"#6a0dad\">Tracer</text>\n",
       "</a>\n",
       "</g>\n",
       "</g>\n",
       "<!-- Collector&#45;&gt;Tracer -->\n",
       "<g id=\"edge8\" class=\"edge\">\n",
       "<title>Collector&#45;&gt;Tracer</title>\n",
       "<path fill=\"none\" stroke=\"black\" d=\"M231.6,-414.84C232.11,-425.33 232.77,-438.92 233.35,-450.96\"/>\n",
       "<polygon fill=\"none\" stroke=\"black\" points=\"229.85,-450.98 233.83,-460.79 236.84,-450.64 229.85,-450.98\"/>\n",
       "</g>\n",
       "<!-- Tracer&#45;&gt;StackInspector -->\n",
       "<g id=\"edge9\" class=\"edge\">\n",
       "<title>Tracer&#45;&gt;StackInspector</title>\n",
       "<path fill=\"none\" stroke=\"black\" d=\"M242.01,-499C245.24,-506.65 249.14,-515.94 252.89,-524.84\"/>\n",
       "<polygon fill=\"none\" stroke=\"black\" points=\"249.64,-526.12 256.74,-533.98 256.09,-523.41 249.64,-526.12\"/>\n",
       "</g>\n",
       "<!-- HitCollector -->\n",
       "<g id=\"node12\" class=\"node\">\n",
       "<title>HitCollector</title>\n",
       "<g id=\"a_node12\"><a xlink:href=\"#\" xlink:title=\"class HitCollector:&#10;Collect how often a line is executed\">\n",
       "<polygon fill=\"none\" stroke=\"black\" points=\"312.75,-13.25 312.75,-97.5 406.75,-97.5 406.75,-13.25 312.75,-13.25\"/>\n",
       "<text text-anchor=\"start\" x=\"323\" y=\"-81.2\" font-family=\"Raleway, Helvetica, Arial, sans-serif\" font-weight=\"bold\" font-size=\"14.00\" fill=\"#6a0dad\">HitCollector</text>\n",
       "<polyline fill=\"none\" stroke=\"black\" points=\"312.75,-72.25 406.75,-72.25\"/>\n",
       "<g id=\"a_node12_26\"><a xlink:href=\"#\" xlink:title=\"HitCollector\">\n",
       "<g id=\"a_node12_27\"><a xlink:href=\"#\" xlink:title=\"__init__(self) &#45;&gt; None:&#10;Constructor.\">\n",
       "<text text-anchor=\"start\" x=\"320.75\" y=\"-59.75\" font-family=\"'Fira Mono', 'Source Code Pro', 'Courier', monospace\" font-style=\"italic\" font-size=\"10.00\">__init__()</text>\n",
       "</a>\n",
       "</g>\n",
       "<g id=\"a_node12_28\"><a xlink:href=\"#\" xlink:title=\"all_metrics(self, func: str) &#45;&gt; List[float]:&#10;Return all metric for a function `func`.\">\n",
       "<text text-anchor=\"start\" x=\"320.75\" y=\"-47\" font-family=\"'Fira Mono', 'Source Code Pro', 'Courier', monospace\" font-style=\"italic\" font-size=\"10.00\">all_metrics()</text>\n",
       "</a>\n",
       "</g>\n",
       "<g id=\"a_node12_29\"><a xlink:href=\"#\" xlink:title=\"collect(self, frame: frame, event: str, arg: Any) &#45;&gt; None:&#10;Save coverage for an observed event.\">\n",
       "<text text-anchor=\"start\" x=\"320.75\" y=\"-34.25\" font-family=\"'Fira Mono', 'Source Code Pro', 'Courier', monospace\" font-style=\"italic\" font-size=\"10.00\">collect()</text>\n",
       "</a>\n",
       "</g>\n",
       "<g id=\"a_node12_30\"><a xlink:href=\"#\" xlink:title=\"metric(self, location: Tuple[str, int]) &#45;&gt; Optional[int]:&#10;Return a metric for an event, or none.\">\n",
       "<text text-anchor=\"start\" x=\"320.75\" y=\"-21.5\" font-family=\"'Fira Mono', 'Source Code Pro', 'Courier', monospace\" font-style=\"italic\" font-size=\"10.00\">metric()</text>\n",
       "</a>\n",
       "</g>\n",
       "</a>\n",
       "</g>\n",
       "</a>\n",
       "</g>\n",
       "</g>\n",
       "<!-- HitCollector&#45;&gt;MetricCollector -->\n",
       "<g id=\"edge11\" class=\"edge\">\n",
       "<title>HitCollector&#45;&gt;MetricCollector</title>\n",
       "<path fill=\"none\" stroke=\"black\" d=\"M329.37,-97.85C317.29,-114.36 303.27,-133.5 290.61,-150.79\"/>\n",
       "<polygon fill=\"none\" stroke=\"black\" points=\"288.11,-148.28 285.02,-158.42 293.76,-152.42 288.11,-148.28\"/>\n",
       "</g>\n",
       "<!-- Legend -->\n",
       "<g id=\"node13\" class=\"node\">\n",
       "<title>Legend</title>\n",
       "<text text-anchor=\"start\" x=\"425.12\" y=\"-71.38\" font-family=\"Raleway, Helvetica, Arial, sans-serif\" font-weight=\"bold\" font-size=\"10.00\" fill=\"#6a0dad\">Legend</text>\n",
       "<text text-anchor=\"start\" x=\"425.12\" y=\"-61.38\" font-family=\"Raleway, Helvetica, Arial, sans-serif\" font-size=\"10.00\">• </text>\n",
       "<text text-anchor=\"start\" x=\"431.12\" y=\"-61.38\" font-family=\"'Fira Mono', 'Source Code Pro', 'Courier', monospace\" font-weight=\"bold\" font-size=\"8.00\">public_method()</text>\n",
       "<text text-anchor=\"start\" x=\"425.12\" y=\"-51.38\" font-family=\"Raleway, Helvetica, Arial, sans-serif\" font-size=\"10.00\">• </text>\n",
       "<text text-anchor=\"start\" x=\"431.12\" y=\"-51.38\" font-family=\"'Fira Mono', 'Source Code Pro', 'Courier', monospace\" font-size=\"8.00\">private_method()</text>\n",
       "<text text-anchor=\"start\" x=\"425.12\" y=\"-41.38\" font-family=\"Raleway, Helvetica, Arial, sans-serif\" font-size=\"10.00\">• </text>\n",
       "<text text-anchor=\"start\" x=\"431.12\" y=\"-41.38\" font-family=\"'Fira Mono', 'Source Code Pro', 'Courier', monospace\" font-style=\"italic\" font-size=\"8.00\">overloaded_method()</text>\n",
       "<text text-anchor=\"start\" x=\"425.12\" y=\"-32.33\" font-family=\"Helvetica,sans-Serif\" font-size=\"9.00\">Hover over names to see doc</text>\n",
       "</g>\n",
       "</g>\n",
       "</svg>\n"
      ],
      "text/html": [
       "<?xml version=\"1.0\" encoding=\"UTF-8\" standalone=\"no\"?>\n",
       "<!DOCTYPE svg PUBLIC \"-//W3C//DTD SVG 1.1//EN\"\n",
       " \"http://www.w3.org/Graphics/SVG/1.1/DTD/svg11.dtd\">\n",
       "<!-- Generated by graphviz version 11.0.0 (20240428.1522)\n",
       " -->\n",
       "<!-- Pages: 1 -->\n",
       "<svg width=\"552pt\" height=\"590pt\"\n",
       " viewBox=\"0.00 0.00 552.38 590.25\" xmlns=\"http://www.w3.org/2000/svg\" xmlns:xlink=\"http://www.w3.org/1999/xlink\">\n",
       "<g id=\"graph0\" class=\"graph\" transform=\"scale(1 1) rotate(0) translate(4 586.25)\">\n",
       "<g id=\"a_graph0\"><a xlink:title=\"PerformanceDebugger class hierarchy\">\n",
       "<polygon fill=\"white\" stroke=\"none\" points=\"-4,4 -4,-586.25 548.38,-586.25 548.38,4 -4,4\"/>\n",
       "</a>\n",
       "</g>\n",
       "<!-- PerformanceDebugger -->\n",
       "<g id=\"node1\" class=\"node\">\n",
       "<title>PerformanceDebugger</title>\n",
       "<g id=\"a_node1\"><a xlink:href=\"#\" xlink:title=\"class PerformanceDebugger:&#10;Collect and visualize a metric\">\n",
       "<polygon fill=\"none\" stroke=\"black\" points=\"0,-32.38 0,-78.38 161.5,-78.38 161.5,-32.38 0,-32.38\"/>\n",
       "<text text-anchor=\"start\" x=\"8\" y=\"-62.08\" font-family=\"Raleway, Helvetica, Arial, sans-serif\" font-weight=\"bold\" font-size=\"14.00\" fill=\"#6a0dad\">PerformanceDebugger</text>\n",
       "<polyline fill=\"none\" stroke=\"black\" points=\"0,-53.12 161.5,-53.12\"/>\n",
       "<g id=\"a_node1_0\"><a xlink:href=\"#\" xlink:title=\"PerformanceDebugger\">\n",
       "<g id=\"a_node1_1\"><a xlink:href=\"#\" xlink:title=\"__init__(self, collector_class: Type, log: bool = False):&#10;Constructor. Use instances of `collector_class` to collect events.\">\n",
       "<text text-anchor=\"start\" x=\"50.75\" y=\"-40.62\" font-family=\"'Fira Mono', 'Source Code Pro', 'Courier', monospace\" font-weight=\"bold\" font-style=\"italic\" font-size=\"10.00\">__init__()</text>\n",
       "</a>\n",
       "</g>\n",
       "</a>\n",
       "</g>\n",
       "</a>\n",
       "</g>\n",
       "</g>\n",
       "<!-- MetricDebugger -->\n",
       "<g id=\"node2\" class=\"node\">\n",
       "<title>MetricDebugger</title>\n",
       "<g id=\"a_node2\"><a xlink:href=\"#\" xlink:title=\"class MetricDebugger:&#10;Visualize a metric\">\n",
       "<polygon fill=\"none\" stroke=\"black\" points=\"21,-147.25 21,-257 140.5,-257 140.5,-147.25 21,-147.25\"/>\n",
       "<text text-anchor=\"start\" x=\"29\" y=\"-240.7\" font-family=\"Raleway, Helvetica, Arial, sans-serif\" font-weight=\"bold\" font-size=\"14.00\" fill=\"#6a0dad\">MetricDebugger</text>\n",
       "<polyline fill=\"none\" stroke=\"black\" points=\"21,-231.75 140.5,-231.75\"/>\n",
       "<g id=\"a_node2_2\"><a xlink:href=\"#\" xlink:title=\"MetricDebugger\">\n",
       "<g id=\"a_node2_3\"><a xlink:href=\"#\" xlink:title=\"color(self, location: Tuple[str, int]) &#45;&gt; str:&#10;Return a color for the given event, or None.&#10;To be overloaded in subclasses.\">\n",
       "<text text-anchor=\"start\" x=\"32.75\" y=\"-219.25\" font-family=\"'Fira Mono', 'Source Code Pro', 'Courier', monospace\" font-style=\"italic\" font-size=\"10.00\">color()</text>\n",
       "</a>\n",
       "</g>\n",
       "<g id=\"a_node2_4\"><a xlink:href=\"#\" xlink:title=\"maximum(self, func_name: str) &#45;&gt; float\">\n",
       "<text text-anchor=\"start\" x=\"32.75\" y=\"-205.5\" font-family=\"'Fira Mono', 'Source Code Pro', 'Courier', monospace\" font-size=\"10.00\">maximum()</text>\n",
       "</a>\n",
       "</g>\n",
       "<g id=\"a_node2_5\"><a xlink:href=\"#\" xlink:title=\"metric(self, location: Tuple[str, int]) &#45;&gt; float\">\n",
       "<text text-anchor=\"start\" x=\"32.75\" y=\"-192.75\" font-family=\"'Fira Mono', 'Source Code Pro', 'Courier', monospace\" font-size=\"10.00\">metric()</text>\n",
       "</a>\n",
       "</g>\n",
       "<g id=\"a_node2_6\"><a xlink:href=\"#\" xlink:title=\"suspiciousness(self, location: Tuple[str, int]) &#45;&gt; float:&#10;Return a suspiciousness value in the range [0, 1.0]&#10;for the given event, or `None` if unknown.&#10;To be overloaded in subclasses.\">\n",
       "<text text-anchor=\"start\" x=\"32.75\" y=\"-181\" font-family=\"'Fira Mono', 'Source Code Pro', 'Courier', monospace\" font-style=\"italic\" font-size=\"10.00\">suspiciousness()</text>\n",
       "</a>\n",
       "</g>\n",
       "<g id=\"a_node2_7\"><a xlink:href=\"#\" xlink:title=\"tooltip(self, location: Tuple[str, int]) &#45;&gt; str:&#10;Return a tooltip for the given event (default: percentage).&#10;To be overloaded in subclasses.\">\n",
       "<text text-anchor=\"start\" x=\"32.75\" y=\"-168.25\" font-family=\"'Fira Mono', 'Source Code Pro', 'Courier', monospace\" font-style=\"italic\" font-size=\"10.00\">tooltip()</text>\n",
       "</a>\n",
       "</g>\n",
       "<g id=\"a_node2_8\"><a xlink:href=\"#\" xlink:title=\"total(self, func_name: str) &#45;&gt; float\">\n",
       "<text text-anchor=\"start\" x=\"32.75\" y=\"-154.5\" font-family=\"'Fira Mono', 'Source Code Pro', 'Courier', monospace\" font-size=\"10.00\">total()</text>\n",
       "</a>\n",
       "</g>\n",
       "</a>\n",
       "</g>\n",
       "</a>\n",
       "</g>\n",
       "</g>\n",
       "<!-- PerformanceDebugger&#45;&gt;MetricDebugger -->\n",
       "<g id=\"edge1\" class=\"edge\">\n",
       "<title>PerformanceDebugger&#45;&gt;MetricDebugger</title>\n",
       "<path fill=\"none\" stroke=\"black\" d=\"M80.75,-78.67C80.75,-94 80.75,-115.19 80.75,-135.65\"/>\n",
       "<polygon fill=\"none\" stroke=\"black\" points=\"77.25,-135.38 80.75,-145.38 84.25,-135.38 77.25,-135.38\"/>\n",
       "</g>\n",
       "<!-- SpectrumDebugger -->\n",
       "<g id=\"node3\" class=\"node\">\n",
       "<title>SpectrumDebugger</title>\n",
       "<g id=\"a_node3\"><a xlink:href=\"StatisticalDebugger.ipynb\" xlink:title=\"class SpectrumDebugger:&#10;A class to collect events for passing and failing outcomes.\">\n",
       "<polygon fill=\"none\" stroke=\"black\" points=\"9.75,-294 9.75,-330 151.75,-330 151.75,-294 9.75,-294\"/>\n",
       "<text text-anchor=\"start\" x=\"17.75\" y=\"-308.7\" font-family=\"Raleway, Helvetica, Arial, sans-serif\" font-weight=\"bold\" font-size=\"14.00\" fill=\"#6a0dad\">SpectrumDebugger</text>\n",
       "</a>\n",
       "</g>\n",
       "</g>\n",
       "<!-- MetricDebugger&#45;&gt;SpectrumDebugger -->\n",
       "<g id=\"edge2\" class=\"edge\">\n",
       "<title>MetricDebugger&#45;&gt;SpectrumDebugger</title>\n",
       "<path fill=\"none\" stroke=\"black\" d=\"M80.75,-257.38C80.75,-266.06 80.75,-274.72 80.75,-282.48\"/>\n",
       "<polygon fill=\"none\" stroke=\"black\" points=\"77.25,-282.28 80.75,-292.28 84.25,-282.28 77.25,-282.28\"/>\n",
       "</g>\n",
       "<!-- DifferenceDebugger -->\n",
       "<g id=\"node4\" class=\"node\">\n",
       "<title>DifferenceDebugger</title>\n",
       "<g id=\"a_node4\"><a xlink:href=\"StatisticalDebugger.ipynb\" xlink:title=\"class DifferenceDebugger:&#10;A class to collect events for passing and failing outcomes.\">\n",
       "<polygon fill=\"none\" stroke=\"black\" points=\"8.25,-367 8.25,-425.75 153.25,-425.75 153.25,-367 8.25,-367\"/>\n",
       "<text text-anchor=\"start\" x=\"16.25\" y=\"-409.45\" font-family=\"Raleway, Helvetica, Arial, sans-serif\" font-weight=\"bold\" font-size=\"14.00\" fill=\"#6a0dad\">DifferenceDebugger</text>\n",
       "<polyline fill=\"none\" stroke=\"black\" points=\"8.25,-400.5 153.25,-400.5\"/>\n",
       "<g id=\"a_node4_9\"><a xlink:href=\"#\" xlink:title=\"DifferenceDebugger\">\n",
       "<g id=\"a_node4_10\"><a xlink:href=\"StatisticalDebugger.ipynb\" xlink:title=\"FAIL = &#39;FAIL&#39;\">\n",
       "<text text-anchor=\"start\" x=\"68.75\" y=\"-387\" font-family=\"'Fira Mono', 'Source Code Pro', 'Courier', monospace\" font-size=\"10.00\">FAIL</text>\n",
       "</a>\n",
       "</g>\n",
       "<g id=\"a_node4_11\"><a xlink:href=\"StatisticalDebugger.ipynb\" xlink:title=\"PASS = &#39;PASS&#39;\">\n",
       "<text text-anchor=\"start\" x=\"68.75\" y=\"-374.25\" font-family=\"'Fira Mono', 'Source Code Pro', 'Courier', monospace\" font-size=\"10.00\">PASS</text>\n",
       "</a>\n",
       "</g>\n",
       "</a>\n",
       "</g>\n",
       "</a>\n",
       "</g>\n",
       "</g>\n",
       "<!-- SpectrumDebugger&#45;&gt;DifferenceDebugger -->\n",
       "<g id=\"edge3\" class=\"edge\">\n",
       "<title>SpectrumDebugger&#45;&gt;DifferenceDebugger</title>\n",
       "<path fill=\"none\" stroke=\"black\" d=\"M80.75,-330.47C80.75,-337.76 80.75,-346.55 80.75,-355.28\"/>\n",
       "<polygon fill=\"none\" stroke=\"black\" points=\"77.25,-355.07 80.75,-365.07 84.25,-355.07 77.25,-355.07\"/>\n",
       "</g>\n",
       "<!-- StatisticalDebugger -->\n",
       "<g id=\"node5\" class=\"node\">\n",
       "<title>StatisticalDebugger</title>\n",
       "<g id=\"a_node5\"><a xlink:href=\"StatisticalDebugger.ipynb\" xlink:title=\"class StatisticalDebugger:&#10;A class to collect events for multiple outcomes.\">\n",
       "<polygon fill=\"none\" stroke=\"black\" points=\"10.88,-462.75 10.88,-498.75 150.62,-498.75 150.62,-462.75 10.88,-462.75\"/>\n",
       "<text text-anchor=\"start\" x=\"18.88\" y=\"-477.45\" font-family=\"Raleway, Helvetica, Arial, sans-serif\" font-weight=\"bold\" font-size=\"14.00\" fill=\"#6a0dad\">StatisticalDebugger</text>\n",
       "</a>\n",
       "</g>\n",
       "</g>\n",
       "<!-- DifferenceDebugger&#45;&gt;StatisticalDebugger -->\n",
       "<g id=\"edge4\" class=\"edge\">\n",
       "<title>DifferenceDebugger&#45;&gt;StatisticalDebugger</title>\n",
       "<path fill=\"none\" stroke=\"black\" d=\"M80.75,-426.19C80.75,-434.2 80.75,-442.9 80.75,-450.91\"/>\n",
       "<polygon fill=\"none\" stroke=\"black\" points=\"77.25,-450.85 80.75,-460.85 84.25,-450.85 77.25,-450.85\"/>\n",
       "</g>\n",
       "<!-- TimeCollector -->\n",
       "<g id=\"node6\" class=\"node\">\n",
       "<title>TimeCollector</title>\n",
       "<g id=\"a_node6\"><a xlink:href=\"#\" xlink:title=\"class TimeCollector:&#10;Collect time executed for each line\">\n",
       "<polygon fill=\"none\" stroke=\"black\" points=\"190.5,-0.5 190.5,-110.25 295,-110.25 295,-0.5 190.5,-0.5\"/>\n",
       "<text text-anchor=\"start\" x=\"198.5\" y=\"-93.95\" font-family=\"Raleway, Helvetica, Arial, sans-serif\" font-weight=\"bold\" font-size=\"14.00\" fill=\"#6a0dad\">TimeCollector</text>\n",
       "<polyline fill=\"none\" stroke=\"black\" points=\"190.5,-85 295,-85\"/>\n",
       "<g id=\"a_node6_12\"><a xlink:href=\"#\" xlink:title=\"TimeCollector\">\n",
       "<g id=\"a_node6_13\"><a xlink:href=\"#\" xlink:title=\"__enter__(self) &#45;&gt; Any:&#10;Called at begin of `with` block. Turn tracing on.\">\n",
       "<text text-anchor=\"start\" x=\"203.75\" y=\"-72.5\" font-family=\"'Fira Mono', 'Source Code Pro', 'Courier', monospace\" font-style=\"italic\" font-size=\"10.00\">__enter__()</text>\n",
       "</a>\n",
       "</g>\n",
       "<g id=\"a_node6_14\"><a xlink:href=\"#\" xlink:title=\"__init__(self) &#45;&gt; None:&#10;Constructor\">\n",
       "<text text-anchor=\"start\" x=\"203.75\" y=\"-59.75\" font-family=\"'Fira Mono', 'Source Code Pro', 'Courier', monospace\" font-style=\"italic\" font-size=\"10.00\">__init__()</text>\n",
       "</a>\n",
       "</g>\n",
       "<g id=\"a_node6_15\"><a xlink:href=\"#\" xlink:title=\"all_metrics(self, func: str) &#45;&gt; List[float]:&#10;Return all metric for a function `func`.\">\n",
       "<text text-anchor=\"start\" x=\"203.75\" y=\"-47\" font-family=\"'Fira Mono', 'Source Code Pro', 'Courier', monospace\" font-style=\"italic\" font-size=\"10.00\">all_metrics()</text>\n",
       "</a>\n",
       "</g>\n",
       "<g id=\"a_node6_16\"><a xlink:href=\"#\" xlink:title=\"collect(self, frame: frame, event: str, arg: Any) &#45;&gt; None:&#10;Invoked for every line executed. Accumulate time spent.\">\n",
       "<text text-anchor=\"start\" x=\"203.75\" y=\"-34.25\" font-family=\"'Fira Mono', 'Source Code Pro', 'Courier', monospace\" font-style=\"italic\" font-size=\"10.00\">collect()</text>\n",
       "</a>\n",
       "</g>\n",
       "<g id=\"a_node6_17\"><a xlink:href=\"#\" xlink:title=\"metric(self, location: Any) &#45;&gt; Optional[float]:&#10;Return a metric for an event, or none.\">\n",
       "<text text-anchor=\"start\" x=\"203.75\" y=\"-21.5\" font-family=\"'Fira Mono', 'Source Code Pro', 'Courier', monospace\" font-style=\"italic\" font-size=\"10.00\">metric()</text>\n",
       "</a>\n",
       "</g>\n",
       "<g id=\"a_node6_18\"><a xlink:href=\"#\" xlink:title=\"reset_timer(self) &#45;&gt; None\">\n",
       "<text text-anchor=\"start\" x=\"203.75\" y=\"-7.75\" font-family=\"'Fira Mono', 'Source Code Pro', 'Courier', monospace\" font-size=\"10.00\">reset_timer()</text>\n",
       "</a>\n",
       "</g>\n",
       "</a>\n",
       "</g>\n",
       "</a>\n",
       "</g>\n",
       "</g>\n",
       "<!-- MetricCollector -->\n",
       "<g id=\"node7\" class=\"node\">\n",
       "<title>MetricCollector</title>\n",
       "<g id=\"a_node7\"><a xlink:href=\"#\" xlink:title=\"class MetricCollector:&#10;Abstract superclass for collecting line&#45;specific metrics\">\n",
       "<polygon fill=\"none\" stroke=\"black\" points=\"197.75,-160 197.75,-244.25 309.75,-244.25 309.75,-160 197.75,-160\"/>\n",
       "<text text-anchor=\"start\" x=\"205.75\" y=\"-227.95\" font-family=\"Raleway, Helvetica, Arial, sans-serif\" font-weight=\"bold\" font-size=\"14.00\" fill=\"#6a0dad\">MetricCollector</text>\n",
       "<polyline fill=\"none\" stroke=\"black\" points=\"197.75,-219 309.75,-219\"/>\n",
       "<g id=\"a_node7_19\"><a xlink:href=\"#\" xlink:title=\"MetricCollector\">\n",
       "<g id=\"a_node7_20\"><a xlink:href=\"#\" xlink:title=\"all_metrics(self, func: str) &#45;&gt; List[float]:&#10;Return all metric for a function `func`.\">\n",
       "<text text-anchor=\"start\" x=\"214.75\" y=\"-206.5\" font-family=\"'Fira Mono', 'Source Code Pro', 'Courier', monospace\" font-style=\"italic\" font-size=\"10.00\">all_metrics()</text>\n",
       "</a>\n",
       "</g>\n",
       "<g id=\"a_node7_21\"><a xlink:href=\"#\" xlink:title=\"maximum(self, func: str) &#45;&gt; float\">\n",
       "<text text-anchor=\"start\" x=\"214.75\" y=\"-192.75\" font-family=\"'Fira Mono', 'Source Code Pro', 'Courier', monospace\" font-size=\"10.00\">maximum()</text>\n",
       "</a>\n",
       "</g>\n",
       "<g id=\"a_node7_22\"><a xlink:href=\"#\" xlink:title=\"metric(self, event: Any) &#45;&gt; Optional[float]:&#10;Return a metric for an event, or none.\">\n",
       "<text text-anchor=\"start\" x=\"214.75\" y=\"-181\" font-family=\"'Fira Mono', 'Source Code Pro', 'Courier', monospace\" font-style=\"italic\" font-size=\"10.00\">metric()</text>\n",
       "</a>\n",
       "</g>\n",
       "<g id=\"a_node7_23\"><a xlink:href=\"#\" xlink:title=\"total(self, func: str) &#45;&gt; float\">\n",
       "<text text-anchor=\"start\" x=\"214.75\" y=\"-167.25\" font-family=\"'Fira Mono', 'Source Code Pro', 'Courier', monospace\" font-size=\"10.00\">total()</text>\n",
       "</a>\n",
       "</g>\n",
       "</a>\n",
       "</g>\n",
       "</a>\n",
       "</g>\n",
       "</g>\n",
       "<!-- TimeCollector&#45;&gt;MetricCollector -->\n",
       "<g id=\"edge5\" class=\"edge\">\n",
       "<title>TimeCollector&#45;&gt;MetricCollector</title>\n",
       "<path fill=\"none\" stroke=\"black\" d=\"M246.88,-110.69C247.81,-122.97 248.8,-135.99 249.73,-148.21\"/>\n",
       "<polygon fill=\"none\" stroke=\"black\" points=\"246.23,-148.42 250.48,-158.12 253.21,-147.89 246.23,-148.42\"/>\n",
       "</g>\n",
       "<!-- CoverageCollector -->\n",
       "<g id=\"node8\" class=\"node\">\n",
       "<title>CoverageCollector</title>\n",
       "<g id=\"a_node8\"><a xlink:href=\"StatisticalDebugger.ipynb\" xlink:title=\"class CoverageCollector:&#10;A class to record covered locations during execution.\">\n",
       "<polygon fill=\"none\" stroke=\"black\" points=\"186.88,-294 186.88,-330 320.62,-330 320.62,-294 186.88,-294\"/>\n",
       "<text text-anchor=\"start\" x=\"194.88\" y=\"-308.7\" font-family=\"Raleway, Helvetica, Arial, sans-serif\" font-weight=\"bold\" font-size=\"14.00\" fill=\"#6a0dad\">CoverageCollector</text>\n",
       "</a>\n",
       "</g>\n",
       "</g>\n",
       "<!-- MetricCollector&#45;&gt;CoverageCollector -->\n",
       "<g id=\"edge6\" class=\"edge\">\n",
       "<title>MetricCollector&#45;&gt;CoverageCollector</title>\n",
       "<path fill=\"none\" stroke=\"black\" d=\"M253.75,-244.52C253.75,-257.14 253.75,-270.72 253.75,-282.29\"/>\n",
       "<polygon fill=\"none\" stroke=\"black\" points=\"250.25,-282 253.75,-292 257.25,-282 250.25,-282\"/>\n",
       "</g>\n",
       "<!-- Collector -->\n",
       "<g id=\"node9\" class=\"node\">\n",
       "<title>Collector</title>\n",
       "<g id=\"a_node9\"><a xlink:href=\"StatisticalDebugger.ipynb\" xlink:title=\"class Collector:&#10;A class to record events during execution.\">\n",
       "<polygon fill=\"none\" stroke=\"black\" points=\"194.62,-378.38 194.62,-414.38 266.88,-414.38 266.88,-378.38 194.62,-378.38\"/>\n",
       "<text text-anchor=\"start\" x=\"202.62\" y=\"-393.07\" font-family=\"Raleway, Helvetica, Arial, sans-serif\" font-weight=\"bold\" font-size=\"14.00\" fill=\"#6a0dad\">Collector</text>\n",
       "</a>\n",
       "</g>\n",
       "</g>\n",
       "<!-- CoverageCollector&#45;&gt;Collector -->\n",
       "<g id=\"edge7\" class=\"edge\">\n",
       "<title>CoverageCollector&#45;&gt;Collector</title>\n",
       "<path fill=\"none\" stroke=\"black\" d=\"M248.87,-330.47C245.91,-341.06 242.07,-354.83 238.68,-366.96\"/>\n",
       "<polygon fill=\"none\" stroke=\"black\" points=\"235.35,-365.9 236.03,-376.47 242.09,-367.78 235.35,-365.9\"/>\n",
       "</g>\n",
       "<!-- StackInspector -->\n",
       "<g id=\"node11\" class=\"node\">\n",
       "<title>StackInspector</title>\n",
       "<g id=\"a_node11\"><a xlink:href=\"StackInspector.ipynb\" xlink:title=\"class StackInspector:&#10;Provide functions to inspect the stack\">\n",
       "<polygon fill=\"none\" stroke=\"black\" points=\"183.75,-535.75 183.75,-581.75 349.75,-581.75 349.75,-535.75 183.75,-535.75\"/>\n",
       "<text text-anchor=\"start\" x=\"220.25\" y=\"-565.45\" font-family=\"Raleway, Helvetica, Arial, sans-serif\" font-weight=\"bold\" font-size=\"14.00\" fill=\"#6a0dad\">StackInspector</text>\n",
       "<polyline fill=\"none\" stroke=\"black\" points=\"183.75,-556.5 349.75,-556.5\"/>\n",
       "<g id=\"a_node11_24\"><a xlink:href=\"#\" xlink:title=\"StackInspector\">\n",
       "<g id=\"a_node11_25\"><a xlink:href=\"StackInspector.ipynb\" xlink:title=\"_generated_function_cache = {(&#39;remove_html_markup&#39;, 238): &lt;function remove_html_markup at 0x305b76320&gt;}\">\n",
       "<text text-anchor=\"start\" x=\"191.75\" y=\"-543\" font-family=\"'Fira Mono', 'Source Code Pro', 'Courier', monospace\" font-size=\"10.00\">_generated_function_cache</text>\n",
       "</a>\n",
       "</g>\n",
       "</a>\n",
       "</g>\n",
       "</a>\n",
       "</g>\n",
       "</g>\n",
       "<!-- CoverageCollector&#45;&gt;StackInspector -->\n",
       "<g id=\"edge10\" class=\"edge\">\n",
       "<title>CoverageCollector&#45;&gt;StackInspector</title>\n",
       "<path fill=\"none\" stroke=\"black\" d=\"M262.88,-330.29C267.76,-340.51 273.26,-353.89 275.75,-366.5 286.5,-420.91 279.41,-485.63 273.18,-524.11\"/>\n",
       "<polygon fill=\"none\" stroke=\"black\" points=\"269.74,-523.47 271.5,-533.91 276.64,-524.65 269.74,-523.47\"/>\n",
       "</g>\n",
       "<!-- Tracer -->\n",
       "<g id=\"node10\" class=\"node\">\n",
       "<title>Tracer</title>\n",
       "<g id=\"a_node10\"><a xlink:href=\"Tracer.ipynb\" xlink:title=\"class Tracer:&#10;A class for tracing a piece of code. Use as `with Tracer(): block()`\">\n",
       "<polygon fill=\"none\" stroke=\"black\" points=\"207.25,-462.75 207.25,-498.75 262.25,-498.75 262.25,-462.75 207.25,-462.75\"/>\n",
       "<text text-anchor=\"start\" x=\"215.25\" y=\"-477.45\" font-family=\"Raleway, Helvetica, Arial, sans-serif\" font-weight=\"bold\" font-size=\"14.00\" fill=\"#6a0dad\">Tracer</text>\n",
       "</a>\n",
       "</g>\n",
       "</g>\n",
       "<!-- Collector&#45;&gt;Tracer -->\n",
       "<g id=\"edge8\" class=\"edge\">\n",
       "<title>Collector&#45;&gt;Tracer</title>\n",
       "<path fill=\"none\" stroke=\"black\" d=\"M231.6,-414.84C232.11,-425.33 232.77,-438.92 233.35,-450.96\"/>\n",
       "<polygon fill=\"none\" stroke=\"black\" points=\"229.85,-450.98 233.83,-460.79 236.84,-450.64 229.85,-450.98\"/>\n",
       "</g>\n",
       "<!-- Tracer&#45;&gt;StackInspector -->\n",
       "<g id=\"edge9\" class=\"edge\">\n",
       "<title>Tracer&#45;&gt;StackInspector</title>\n",
       "<path fill=\"none\" stroke=\"black\" d=\"M242.01,-499C245.24,-506.65 249.14,-515.94 252.89,-524.84\"/>\n",
       "<polygon fill=\"none\" stroke=\"black\" points=\"249.64,-526.12 256.74,-533.98 256.09,-523.41 249.64,-526.12\"/>\n",
       "</g>\n",
       "<!-- HitCollector -->\n",
       "<g id=\"node12\" class=\"node\">\n",
       "<title>HitCollector</title>\n",
       "<g id=\"a_node12\"><a xlink:href=\"#\" xlink:title=\"class HitCollector:&#10;Collect how often a line is executed\">\n",
       "<polygon fill=\"none\" stroke=\"black\" points=\"312.75,-13.25 312.75,-97.5 406.75,-97.5 406.75,-13.25 312.75,-13.25\"/>\n",
       "<text text-anchor=\"start\" x=\"323\" y=\"-81.2\" font-family=\"Raleway, Helvetica, Arial, sans-serif\" font-weight=\"bold\" font-size=\"14.00\" fill=\"#6a0dad\">HitCollector</text>\n",
       "<polyline fill=\"none\" stroke=\"black\" points=\"312.75,-72.25 406.75,-72.25\"/>\n",
       "<g id=\"a_node12_26\"><a xlink:href=\"#\" xlink:title=\"HitCollector\">\n",
       "<g id=\"a_node12_27\"><a xlink:href=\"#\" xlink:title=\"__init__(self) &#45;&gt; None:&#10;Constructor.\">\n",
       "<text text-anchor=\"start\" x=\"320.75\" y=\"-59.75\" font-family=\"'Fira Mono', 'Source Code Pro', 'Courier', monospace\" font-style=\"italic\" font-size=\"10.00\">__init__()</text>\n",
       "</a>\n",
       "</g>\n",
       "<g id=\"a_node12_28\"><a xlink:href=\"#\" xlink:title=\"all_metrics(self, func: str) &#45;&gt; List[float]:&#10;Return all metric for a function `func`.\">\n",
       "<text text-anchor=\"start\" x=\"320.75\" y=\"-47\" font-family=\"'Fira Mono', 'Source Code Pro', 'Courier', monospace\" font-style=\"italic\" font-size=\"10.00\">all_metrics()</text>\n",
       "</a>\n",
       "</g>\n",
       "<g id=\"a_node12_29\"><a xlink:href=\"#\" xlink:title=\"collect(self, frame: frame, event: str, arg: Any) &#45;&gt; None:&#10;Save coverage for an observed event.\">\n",
       "<text text-anchor=\"start\" x=\"320.75\" y=\"-34.25\" font-family=\"'Fira Mono', 'Source Code Pro', 'Courier', monospace\" font-style=\"italic\" font-size=\"10.00\">collect()</text>\n",
       "</a>\n",
       "</g>\n",
       "<g id=\"a_node12_30\"><a xlink:href=\"#\" xlink:title=\"metric(self, location: Tuple[str, int]) &#45;&gt; Optional[int]:&#10;Return a metric for an event, or none.\">\n",
       "<text text-anchor=\"start\" x=\"320.75\" y=\"-21.5\" font-family=\"'Fira Mono', 'Source Code Pro', 'Courier', monospace\" font-style=\"italic\" font-size=\"10.00\">metric()</text>\n",
       "</a>\n",
       "</g>\n",
       "</a>\n",
       "</g>\n",
       "</a>\n",
       "</g>\n",
       "</g>\n",
       "<!-- HitCollector&#45;&gt;MetricCollector -->\n",
       "<g id=\"edge11\" class=\"edge\">\n",
       "<title>HitCollector&#45;&gt;MetricCollector</title>\n",
       "<path fill=\"none\" stroke=\"black\" d=\"M329.37,-97.85C317.29,-114.36 303.27,-133.5 290.61,-150.79\"/>\n",
       "<polygon fill=\"none\" stroke=\"black\" points=\"288.11,-148.28 285.02,-158.42 293.76,-152.42 288.11,-148.28\"/>\n",
       "</g>\n",
       "<!-- Legend -->\n",
       "<g id=\"node13\" class=\"node\">\n",
       "<title>Legend</title>\n",
       "<text text-anchor=\"start\" x=\"425.12\" y=\"-71.38\" font-family=\"Raleway, Helvetica, Arial, sans-serif\" font-weight=\"bold\" font-size=\"10.00\" fill=\"#6a0dad\">Legend</text>\n",
       "<text text-anchor=\"start\" x=\"425.12\" y=\"-61.38\" font-family=\"Raleway, Helvetica, Arial, sans-serif\" font-size=\"10.00\">• </text>\n",
       "<text text-anchor=\"start\" x=\"431.12\" y=\"-61.38\" font-family=\"'Fira Mono', 'Source Code Pro', 'Courier', monospace\" font-weight=\"bold\" font-size=\"8.00\">public_method()</text>\n",
       "<text text-anchor=\"start\" x=\"425.12\" y=\"-51.38\" font-family=\"Raleway, Helvetica, Arial, sans-serif\" font-size=\"10.00\">• </text>\n",
       "<text text-anchor=\"start\" x=\"431.12\" y=\"-51.38\" font-family=\"'Fira Mono', 'Source Code Pro', 'Courier', monospace\" font-size=\"8.00\">private_method()</text>\n",
       "<text text-anchor=\"start\" x=\"425.12\" y=\"-41.38\" font-family=\"Raleway, Helvetica, Arial, sans-serif\" font-size=\"10.00\">• </text>\n",
       "<text text-anchor=\"start\" x=\"431.12\" y=\"-41.38\" font-family=\"'Fira Mono', 'Source Code Pro', 'Courier', monospace\" font-style=\"italic\" font-size=\"8.00\">overloaded_method()</text>\n",
       "<text text-anchor=\"start\" x=\"425.12\" y=\"-32.33\" font-family=\"Helvetica,sans-Serif\" font-size=\"9.00\">Hover over names to see doc</text>\n",
       "</g>\n",
       "</g>\n",
       "</svg>\n"
      ],
      "text/plain": [
       "<graphviz.graphs.Digraph at 0x33fe2d420>"
      ]
     },
     "execution_count": 57,
     "metadata": {},
     "output_type": "execute_result"
    }
   ],
   "source": [
    "# ignore\n",
    "display_class_hierarchy([PerformanceDebugger, TimeCollector, HitCollector],\n",
    "                        public_methods=[\n",
    "                            PerformanceDebugger.__init__,\n",
    "                        ],\n",
    "                        project='debuggingbook')"
   ]
  },
  {
   "cell_type": "markdown",
   "metadata": {
    "button": false,
    "new_sheet": true,
    "run_control": {
     "read_only": false
    },
    "slideshow": {
     "slide_type": "slide"
    }
   },
   "source": [
    "## Lessons Learned\n",
    "\n",
    "* To measure performance,\n",
    "    * instrument the code such that the time taken per function (or line) is collected; or\n",
    "    * sample the execution that at regular intervals, the active call stack is collected.\n",
    "* To make code performant, focus on efficient algorithms, efficient data types, and sufficient abstraction such that you can replace them by alternatives.\n",
    "* Beyond efficient algorithms and data types, do _not_ optimize before measuring."
   ]
  },
  {
   "cell_type": "markdown",
   "metadata": {
    "button": false,
    "new_sheet": false,
    "run_control": {
     "read_only": false
    },
    "slideshow": {
     "slide_type": "slide"
    }
   },
   "source": [
    "## Next Steps\n",
    "\n",
    "This chapter concludes the part on abstracting failures. The next part will focus on\n",
    "\n",
    "* [repairing code automatically](Repairer.ipynb)"
   ]
  },
  {
   "cell_type": "markdown",
   "metadata": {
    "slideshow": {
     "slide_type": "slide"
    }
   },
   "source": [
    "## Background\n",
    "\n",
    "[Scalene](https://github.com/plasma-umass/scalene) is a high-performance, high-precision CPU, GPU, and memory profiler for Python. In contrast to the standard Python `cProfile` profiler, it uses _sampling_ instead of instrumentation or relying on Python's tracing facilities; and it also supports line-by-line profiling. Scalene might be the tool of choice if you want to go beyond basic profiling.\n",
    "\n",
    "The Wikipedia articles on [profiling](https://en.wikipedia.org/wiki/Profiling_(computer_programming)) and [performance analysis tools](https://en.wikipedia.org/wiki/List_of_performance_analysis_tools) provide several additional resources on profiling tools and how to apply them in practice."
   ]
  },
  {
   "cell_type": "markdown",
   "metadata": {
    "button": false,
    "new_sheet": true,
    "run_control": {
     "read_only": false
    },
    "slideshow": {
     "slide_type": "slide"
    }
   },
   "source": [
    "## Exercises"
   ]
  },
  {
   "attachments": {},
   "cell_type": "markdown",
   "metadata": {
    "button": false,
    "new_sheet": false,
    "run_control": {
     "read_only": false
    },
    "slideshow": {
     "slide_type": "subslide"
    }
   },
   "source": [
    "### Exercise 1: Profiling Memory Usage\n",
    "\n",
    "The Python [`tracemalloc` module](https://docs.python.org/3/library/tracemalloc.html) allows tracking memory usage during execution. Between `tracemalloc.start()` and `tracemalloc.end()`, use `tracemalloc.get_traced_memory()` to obtain how much memory is currently being consumed:"
   ]
  },
  {
   "cell_type": "code",
   "execution_count": 58,
   "metadata": {
    "execution": {
     "iopub.execute_input": "2024-06-30T17:27:52.012876Z",
     "iopub.status.busy": "2024-06-30T17:27:52.012708Z",
     "iopub.status.idle": "2024-06-30T17:27:52.016946Z",
     "shell.execute_reply": "2024-06-30T17:27:52.016666Z"
    },
    "slideshow": {
     "slide_type": "skip"
    }
   },
   "outputs": [],
   "source": [
    "import tracemalloc"
   ]
  },
  {
   "cell_type": "code",
   "execution_count": 59,
   "metadata": {
    "execution": {
     "iopub.execute_input": "2024-06-30T17:27:52.018722Z",
     "iopub.status.busy": "2024-06-30T17:27:52.018400Z",
     "iopub.status.idle": "2024-06-30T17:27:52.021200Z",
     "shell.execute_reply": "2024-06-30T17:27:52.020696Z"
    },
    "slideshow": {
     "slide_type": "fragment"
    }
   },
   "outputs": [],
   "source": [
    "tracemalloc.start()"
   ]
  },
  {
   "cell_type": "code",
   "execution_count": 60,
   "metadata": {
    "execution": {
     "iopub.execute_input": "2024-06-30T17:27:52.023341Z",
     "iopub.status.busy": "2024-06-30T17:27:52.023119Z",
     "iopub.status.idle": "2024-06-30T17:27:52.027162Z",
     "shell.execute_reply": "2024-06-30T17:27:52.026695Z"
    },
    "slideshow": {
     "slide_type": "fragment"
    }
   },
   "outputs": [
    {
     "data": {
      "text/plain": [
       "21819"
      ]
     },
     "execution_count": 60,
     "metadata": {},
     "output_type": "execute_result"
    }
   ],
   "source": [
    "current_size, peak_size = tracemalloc.get_traced_memory()\n",
    "current_size"
   ]
  },
  {
   "cell_type": "code",
   "execution_count": 61,
   "metadata": {
    "execution": {
     "iopub.execute_input": "2024-06-30T17:27:52.029274Z",
     "iopub.status.busy": "2024-06-30T17:27:52.029057Z",
     "iopub.status.idle": "2024-06-30T17:27:52.031281Z",
     "shell.execute_reply": "2024-06-30T17:27:52.030965Z"
    },
    "slideshow": {
     "slide_type": "fragment"
    }
   },
   "outputs": [],
   "source": [
    "tracemalloc.stop()"
   ]
  },
  {
   "attachments": {},
   "cell_type": "markdown",
   "metadata": {
    "slideshow": {
     "slide_type": "subslide"
    }
   },
   "source": [
    "Create a subclass of `MetricCollector` named `MemoryCollector`. Make it measure the memory consumption before and after each line executed (0 if negative), and visualize the impact of individual lines on memory. Create an appropriate test program that (temporarily) consumes larger amounts of memory."
   ]
  },
  {
   "attachments": {},
   "cell_type": "markdown",
   "metadata": {
    "slideshow": {
     "slide_type": "slide"
    }
   },
   "source": [
    "## Exercise 2: Statistical Performance Debugging\n",
    "\n",
    "In a similar way as we integrated a binary \"performance test\" with delta debugging, we can also integrate such a test with other techniques. Combining a performance test with [Statistical Debugging](StatisticalDebugger.ipynb), for instance, will highlight those lines whose execution correlates with low performance. But then, the performance test need not be binary, as with functional pass/fail tests – you can also _weight_ individual lines by _how much_ they impact performance. Create a variant of `StatisticalDebugger` that reflects the impact of individual lines on an arbitrary (summarized) performance metric."
   ]
  }
 ],
 "metadata": {
  "ipub": {
   "bibliography": "fuzzingbook.bib",
   "toc": true
  },
  "kernelspec": {
   "display_name": "Python 3 (ipykernel)",
   "language": "python",
   "name": "python3"
  },
  "language_info": {
   "codemirror_mode": {
    "name": "ipython",
    "version": 3
   },
   "file_extension": ".py",
   "mimetype": "text/x-python",
   "name": "python",
   "nbconvert_exporter": "python",
   "pygments_lexer": "ipython3",
   "version": "3.10.2"
  },
  "toc": {
   "base_numbering": 1,
   "nav_menu": {},
   "number_sections": true,
   "sideBar": true,
   "skip_h1_title": true,
   "title_cell": "",
   "title_sidebar": "Contents",
   "toc_cell": false,
   "toc_position": {},
   "toc_section_display": true,
   "toc_window_display": true
  },
  "toc-autonumbering": false
 },
 "nbformat": 4,
 "nbformat_minor": 4
}