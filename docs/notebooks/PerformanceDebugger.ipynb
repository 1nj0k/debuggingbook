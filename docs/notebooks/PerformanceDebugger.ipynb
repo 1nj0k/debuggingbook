{
 "cells": [
  {
   "cell_type": "markdown",
   "metadata": {
    "button": false,
    "new_sheet": false,
    "run_control": {
     "read_only": false
    },
    "slideshow": {
     "slide_type": "slide"
    }
   },
   "source": [
    "# Debugging Performance Issues\n",
    "\n",
    "Most chapters of this book deal with _functional_ issues – that is, issues related to the _functionality_ (or its absence) of the code in question. However, debugging can also involve _nonfunctional_ issues, however – performance, usability, reliability, and more. In this chapter, we give a short introduction on how to debug such nonfunctional issues, notably _performance_ issues."
   ]
  },
  {
   "cell_type": "code",
   "execution_count": 1,
   "metadata": {
    "execution": {
     "iopub.execute_input": "2023-10-16T17:48:58.119582Z",
     "iopub.status.busy": "2023-10-16T17:48:58.119443Z",
     "iopub.status.idle": "2023-10-16T17:48:58.154577Z",
     "shell.execute_reply": "2023-10-16T17:48:58.154297Z"
    },
    "slideshow": {
     "slide_type": "skip"
    }
   },
   "outputs": [
    {
     "data": {
      "text/html": [
       "\n",
       "        <iframe\n",
       "            width=\"640\"\n",
       "            height=\"360\"\n",
       "            src=\"https://www.youtube-nocookie.com/embed/0tMeB9G0uUI\"\n",
       "            frameborder=\"0\"\n",
       "            allowfullscreen\n",
       "            \n",
       "        ></iframe>\n",
       "        "
      ],
      "text/plain": [
       "<IPython.lib.display.IFrame at 0x107cfe650>"
      ]
     },
     "execution_count": 1,
     "metadata": {},
     "output_type": "execute_result"
    }
   ],
   "source": [
    "from bookutils import YouTubeVideo\n",
    "YouTubeVideo(\"0tMeB9G0uUI\")"
   ]
  },
  {
   "cell_type": "markdown",
   "metadata": {
    "button": false,
    "new_sheet": false,
    "run_control": {
     "read_only": false
    },
    "slideshow": {
     "slide_type": "subslide"
    }
   },
   "source": [
    "**Prerequisites**\n",
    "\n",
    "* This chapter leverages visualization capabilities from [the chapter on statistical debugging](StatisticalDebugger.ipynb).\n",
    "* We also show how to debug nonfunctional issues using [delta debugging](DeltaDebugger.ipynb)."
   ]
  },
  {
   "cell_type": "code",
   "execution_count": 2,
   "metadata": {
    "button": false,
    "execution": {
     "iopub.execute_input": "2023-10-16T17:48:58.174759Z",
     "iopub.status.busy": "2023-10-16T17:48:58.174601Z",
     "iopub.status.idle": "2023-10-16T17:48:58.176172Z",
     "shell.execute_reply": "2023-10-16T17:48:58.175910Z"
    },
    "new_sheet": false,
    "run_control": {
     "read_only": false
    },
    "slideshow": {
     "slide_type": "skip"
    }
   },
   "outputs": [],
   "source": [
    "import bookutils"
   ]
  },
  {
   "cell_type": "code",
   "execution_count": 3,
   "metadata": {
    "execution": {
     "iopub.execute_input": "2023-10-16T17:48:58.177664Z",
     "iopub.status.busy": "2023-10-16T17:48:58.177575Z",
     "iopub.status.idle": "2023-10-16T17:48:58.926061Z",
     "shell.execute_reply": "2023-10-16T17:48:58.925702Z"
    },
    "slideshow": {
     "slide_type": "skip"
    }
   },
   "outputs": [],
   "source": [
    "import StatisticalDebugger\n",
    "import DeltaDebugger"
   ]
  },
  {
   "cell_type": "markdown",
   "metadata": {
    "slideshow": {
     "slide_type": "skip"
    }
   },
   "source": [
    "## Synopsis\n",
    "<!-- Automatically generated. Do not edit. -->\n",
    "\n",
    "To [use the code provided in this chapter](Importing.ipynb), write\n",
    "\n",
    "```python\n",
    ">>> from debuggingbook.PerformanceDebugger import <identifier>\n",
    "```\n",
    "\n",
    "and then make use of the following features.\n",
    "\n",
    "\n",
    "This chapter provides a class `PerformanceDebugger` that allows measuring and visualizing the time taken per line in a function.\n",
    "\n",
    "```python\n",
    ">>> with PerformanceDebugger(TimeCollector) as debugger:\n",
    ">>>     for i in range(100):\n",
    ">>>         s = remove_html_markup('<b>foo</b>')\n",
    "```\n",
    "The distribution of executed time within each function can be obtained by printing out the debugger:\n",
    "\n",
    "```python\n",
    ">>> print(debugger)\n",
    " 238   2% def remove_html_markup(s):  # type: ignore\n",
    " 239   2%     tag = False\n",
    " 240   1%     quote = False\n",
    " 241   1%     out = \"\"\n",
    " 242   0%\n",
    " 243  16%     for c in s:\n",
    " 244  15%         assert tag or not quote\n",
    " 245   0%\n",
    " 246  14%         if c == '<' and not quote:\n",
    " 247   3%             tag = True\n",
    " 248  12%         elif c == '>' and not quote:\n",
    " 249   3%             tag = False\n",
    " 250   9%         elif (c == '\"' or c == \"'\") and tag:\n",
    " 251   0%             quote = not quote\n",
    " 252   9%         elif not tag:\n",
    " 253   5%             out = out + c\n",
    " 254   0%\n",
    " 255   3%     return out\n",
    "\n",
    "\n",
    "```\n",
    "The sum of all percentages in a function should always be 100%.\n",
    "\n",
    "These percentages can also be visualized, where darker shades represent higher percentage values:\n",
    "\n",
    "```python\n",
    ">>> debugger\n",
    "```\n",
    "<pre style=\"background-color:hsl(240, 100%, 96.70983928856245%)\"\n",
    "                    title=\"Line 238:   2% 0.00023671102826483548\"> 238 def remove_html_markup(s):  # type: ignore</pre>\n",
    "<pre style=\"background-color:hsl(240, 100%, 96.90963534811178%)\"\n",
    "                    title=\"Line 239:   2% 0.00022233667550608516\"> 239     tag = False</pre>\n",
    "<pre style=\"background-color:hsl(240, 100%, 97.15702859688935%)\"\n",
    "                    title=\"Line 240:   1% 0.0002045379369519651\"> 240     quote = False</pre>\n",
    "<pre style=\"background-color:hsl(240, 100%, 97.32899230915893%)\"\n",
    "                    title=\"Line 241:   1% 0.00019216598593629897\"> 241     out = &quot;&quot;</pre>\n",
    "<pre style=\"background-color:hsl(240, 100%, 100.0%)\"\n",
    "                    title=\"Line 242:   0% 0.0\"> 242 &nbsp;</pre>\n",
    "<pre style=\"background-color:hsl(240, 100%, 75.0%)\"\n",
    "                    title=\"Line 243:  16% 0.0017986281600315124\"> 243     for c in s:</pre>\n",
    "<pre style=\"background-color:hsl(240, 100%, 77.8038017492866%)\"\n",
    "                    title=\"Line 244:  15% 0.001596908288775012\"> 244         assert tag or not quote</pre>\n",
    "<pre style=\"background-color:hsl(240, 100%, 100.0%)\"\n",
    "                    title=\"Line 245:   0% 0.0\"> 245 &nbsp;</pre>\n",
    "<pre style=\"background-color:hsl(240, 100%, 77.98592195036689%)\"\n",
    "                    title=\"Line 246:  14% 0.0015838056278880686\"> 246         if c == &#x27;&lt;&#x27; and not quote:</pre>\n",
    "<pre style=\"background-color:hsl(240, 100%, 95.54176783309453%)\"\n",
    "                    title=\"Line 247:   3% 0.00032074807677417994\"> 247             tag = True</pre>\n",
    "<pre style=\"background-color:hsl(240, 100%, 82.28593869945132%)\"\n",
    "                    title=\"Line 248:  12% 0.0012744403793476522\"> 248         elif c == &#x27;&gt;&#x27; and not quote:</pre>\n",
    "<pre style=\"background-color:hsl(240, 100%, 95.54698260575786%)\"\n",
    "                    title=\"Line 249:   3% 0.0003203728992957622\"> 249             tag = False</pre>\n",
    "<pre style=\"background-color:hsl(240, 100%, 86.69581073699645%)\"\n",
    "                    title=\"Line 250:   9% 0.0009571715781930834\"> 250         elif (c == &#x27;&quot;&#x27; or c == &quot;&#x27;&quot;) and tag:</pre>\n",
    "<pre style=\"background-color:hsl(240, 100%, 100.0%)\"\n",
    "                    title=\"Line 251:   0% 0.0\"> 251             quote = not quote</pre>\n",
    "<pre style=\"background-color:hsl(240, 100%, 86.41204555123136%)\"\n",
    "                    title=\"Line 252:   9% 0.0009775871003512293\"> 252         elif not tag:</pre>\n",
    "<pre style=\"background-color:hsl(240, 100%, 91.75518349859037%)\"\n",
    "                    title=\"Line 253:   5% 0.0005931743653491139\"> 253             out = out + c</pre>\n",
    "<pre style=\"background-color:hsl(240, 100%, 100.0%)\"\n",
    "                    title=\"Line 254:   0% 0.0\"> 254 &nbsp;</pre>\n",
    "<pre style=\"background-color:hsl(240, 100%, 95.56848610978898%)\"\n",
    "                    title=\"Line 255:   3% 0.0003188258269801736\"> 255     return out</pre>\n",
    "\n",
    "\n",
    "The abstract `MetricCollector` class allows subclassing to build more collectors, such as `HitCollector`.\n",
    "\n",
    "![](PICS/PerformanceDebugger-synopsis-1.svg)\n",
    "\n"
   ]
  },
  {
   "cell_type": "markdown",
   "metadata": {
    "slideshow": {
     "slide_type": "slide"
    }
   },
   "source": [
    "## Measuring Performance\n",
    "\n",
    "The solution to debugging performance issues fits in two simple rules:\n",
    "\n",
    "1. _Measure_ performance\n",
    "2. _Break down_ how individual parts of your code contribute to performance.\n",
    "\n",
    "The first part, actually _measuring_ performance, is key here. Developers often take elaborated guesses on which aspects of their code impact performance, and think about all possible ways to optimize their code – and at the same time, making it harder to understand, harder to evolve, and harder to maintain. In most cases, such guesses are wrong. Instead, _measure_ performance of your program, _identify_ the very few parts that may need to get improved, and again _measure_ the impact of your changes."
   ]
  },
  {
   "cell_type": "markdown",
   "metadata": {
    "slideshow": {
     "slide_type": "subslide"
    }
   },
   "source": [
    "Almost all programming languages offer a way to measure performance and breaking it down to individual parts of the code – a means also known as *profiling*. Profiling works by measuring the execution time for each function (or even more fine-grained location) in your program. This can be achieved by\n",
    "\n",
    "1. _Instrumenting_ or _tracing_ code such that the current time at entry and exit of each function (or line), thus determining the time spent. In Python, this is achieved by profilers like [profile or cProfile](https://docs.python.org/3/library/profile.html)\n",
    "\n",
    "2. _Sampling_ the current function call stack at regular intervals, and thus assessing which functions are most active (= take the most time) during execution. For Python, the [scalene](https://github.com/plasma-umass/scalene) profiler works this way.\n",
    "\n",
    "Pretty much all programming languages support profiling, either through measuring, sampling, or both. As a rule of thumb, _interpreted_ languages more frequently support measuring (as it is easy to implement in an interpreter), while _compiled_ languages more frequently support sampling (because instrumentation requires recompilation). Python is lucky to support both methods."
   ]
  },
  {
   "attachments": {},
   "cell_type": "markdown",
   "metadata": {
    "slideshow": {
     "slide_type": "subslide"
    }
   },
   "source": [
    "### Tracing Execution Profiles\n",
    "\n",
    "Let us illustrate profiling in a simple example. The `ChangeCounter` class (which we will encounter in the [chapter on mining version histories](ChangeCounter.ipynb)) reads in a version history from a git repository. Yet, it takes more than a minute to read in the debugging book change history:"
   ]
  },
  {
   "cell_type": "code",
   "execution_count": 4,
   "metadata": {
    "execution": {
     "iopub.execute_input": "2023-10-16T17:48:58.928934Z",
     "iopub.status.busy": "2023-10-16T17:48:58.928770Z",
     "iopub.status.idle": "2023-10-16T17:48:59.249126Z",
     "shell.execute_reply": "2023-10-16T17:48:59.248650Z"
    },
    "slideshow": {
     "slide_type": "skip"
    }
   },
   "outputs": [],
   "source": [
    "from ChangeCounter import ChangeCounter, debuggingbook_change_counter  # minor dependency"
   ]
  },
  {
   "cell_type": "code",
   "execution_count": 5,
   "metadata": {
    "execution": {
     "iopub.execute_input": "2023-10-16T17:48:59.250997Z",
     "iopub.status.busy": "2023-10-16T17:48:59.250868Z",
     "iopub.status.idle": "2023-10-16T17:48:59.252521Z",
     "shell.execute_reply": "2023-10-16T17:48:59.252210Z"
    },
    "slideshow": {
     "slide_type": "skip"
    }
   },
   "outputs": [],
   "source": [
    "import Timer"
   ]
  },
  {
   "cell_type": "code",
   "execution_count": 6,
   "metadata": {
    "execution": {
     "iopub.execute_input": "2023-10-16T17:48:59.254111Z",
     "iopub.status.busy": "2023-10-16T17:48:59.253978Z",
     "iopub.status.idle": "2023-10-16T17:51:33.091898Z",
     "shell.execute_reply": "2023-10-16T17:51:33.091063Z"
    },
    "slideshow": {
     "slide_type": "fragment"
    }
   },
   "outputs": [],
   "source": [
    "with Timer.Timer() as t:\n",
    "    change_counter = debuggingbook_change_counter(ChangeCounter)"
   ]
  },
  {
   "cell_type": "code",
   "execution_count": 7,
   "metadata": {
    "execution": {
     "iopub.execute_input": "2023-10-16T17:51:33.095657Z",
     "iopub.status.busy": "2023-10-16T17:51:33.095410Z",
     "iopub.status.idle": "2023-10-16T17:51:33.098971Z",
     "shell.execute_reply": "2023-10-16T17:51:33.098453Z"
    },
    "slideshow": {
     "slide_type": "fragment"
    }
   },
   "outputs": [
    {
     "data": {
      "text/plain": [
       "153.8312249169976"
      ]
     },
     "execution_count": 7,
     "metadata": {},
     "output_type": "execute_result"
    }
   ],
   "source": [
    "t.elapsed_time()"
   ]
  },
  {
   "cell_type": "markdown",
   "metadata": {
    "slideshow": {
     "slide_type": "subslide"
    }
   },
   "source": [
    "The Python `profile` and `cProfile` modules offer a simple way to identify the most time-consuming functions. They are invoked using the `run()` function, whose argument is the command to be profiled. The output reports, for each function encountered:\n",
    "\n",
    "* How often it was called (`ncalls` column)\n",
    "* How much time was spent in the given function, _excluding_ time spent in calls to sub-functions (`tottime` column)\n",
    "* The fraction of `tottime` / `ncalls` (first `percall` column)\n",
    "* How much time was spent in the given function, _including_ time spent in calls to sub-functions (`cumtime` column)\n",
    "* The fraction of `cumtime` / `percall` (second `percall` column)\n",
    "\n",
    "Let us have a look at the profile we obtain:"
   ]
  },
  {
   "cell_type": "code",
   "execution_count": 8,
   "metadata": {
    "execution": {
     "iopub.execute_input": "2023-10-16T17:51:33.109130Z",
     "iopub.status.busy": "2023-10-16T17:51:33.108968Z",
     "iopub.status.idle": "2023-10-16T17:51:33.111097Z",
     "shell.execute_reply": "2023-10-16T17:51:33.110458Z"
    },
    "slideshow": {
     "slide_type": "skip"
    }
   },
   "outputs": [],
   "source": [
    "import cProfile"
   ]
  },
  {
   "cell_type": "code",
   "execution_count": 9,
   "metadata": {
    "execution": {
     "iopub.execute_input": "2023-10-16T17:51:33.132390Z",
     "iopub.status.busy": "2023-10-16T17:51:33.132176Z",
     "iopub.status.idle": "2023-10-16T17:54:13.135959Z",
     "shell.execute_reply": "2023-10-16T17:54:13.135466Z"
    },
    "slideshow": {
     "slide_type": "subslide"
    }
   },
   "outputs": [
    {
     "name": "stdout",
     "output_type": "stream",
     "text": [
      "         19206473 function calls (19071231 primitive calls) in 159.723 seconds\n",
      "\n",
      "   Ordered by: cumulative time\n",
      "\n",
      "   ncalls  tottime  percall  cumtime  percall filename:lineno(function)\n",
      "        1    0.000    0.000  159.723  159.723 {built-in method builtins.exec}\n",
      "        1    0.000    0.000  159.723  159.723 <string>:1(<module>)\n",
      "        1    0.000    0.000  159.723  159.723 ChangeCounter.ipynb:168(debuggingbook_change_counter)\n",
      "        1    0.005    0.005  159.723  159.723 ChangeCounter.ipynb:51(__init__)\n",
      "        1    1.072    1.072  159.718  159.718 ChangeCounter.ipynb:88(mine)\n",
      "     1127    0.033    0.000  158.184    0.140 ChangeCounter.ipynb:102(mine_commit)\n",
      "     1127    0.039    0.000  157.974    0.140 commit.py:680(modified_files)\n",
      "     1127    0.026    0.000  157.934    0.140 commit.py:696(_get_modified_files)\n",
      "     1077    0.231    0.000  134.024    0.124 diff.py:95(diff)\n",
      "     1077   14.614    0.014   80.231    0.074 diff.py:445(_index_from_patch_format)\n",
      "     1118    0.098    0.000   55.920    0.050 cmd.py:1114(_call_process)\n",
      "     1118    0.106    0.000   55.805    0.050 cmd.py:726(execute)\n",
      "     1118    0.232    0.000   55.342    0.050 subprocess.py:753(__init__)\n",
      "     1118    0.244    0.000   55.064    0.049 subprocess.py:1682(_execute_child)\n",
      "     1078    0.064    0.000   53.570    0.050 cmd.py:638(<lambda>)\n",
      "     1118   52.006    0.047   52.006    0.047 {built-in method _posixsubprocess.fork_exec}\n",
      "     1077    0.089    0.000   50.264    0.047 cmd.py:71(handle_process_output)\n",
      "    10862   49.701    0.005   49.701    0.005 {method 'acquire' of '_thread.lock' objects}\n",
      "     2156    0.007    0.000   49.458    0.023 threading.py:1057(join)\n",
      "     2156    0.016    0.000   49.448    0.023 threading.py:1095(_wait_for_tstate_lock)\n",
      "     1127    0.058    0.000   23.851    0.021 commit.py:730(_parse_diff)\n",
      "    22586    0.034    0.000   22.713    0.001 commit.py:759(_get_undecoded_content)\n",
      "    74806    0.101    0.000   18.528    0.000 cmd.py:528(read)\n",
      "    63160    0.025    0.000   18.470    0.000 base.py:137(read)\n",
      "   149590   18.416    0.000   18.416    0.000 {method 'read' of '_io.BufferedReader' objects}\n",
      "    11293    0.132    0.000   14.567    0.001 diff.py:290(__init__)\n",
      "    10519    0.014    0.000   14.222    0.001 base.py:363(submodules)\n",
      "    10519    0.041    0.000   14.208    0.001 util.py:1092(list_items)\n",
      "22492/22489    0.041    0.000   14.149    0.001 {method 'extend' of 'list' objects}\n",
      "    31557    0.166    0.000   14.108    0.000 base.py:1228(iter_items)\n",
      "    74806    0.148    0.000    8.228    0.000 db.py:46(stream)\n",
      "    74806    0.232    0.000    7.988    0.000 cmd.py:1263(stream_object_data)\n",
      "   116882    0.447    0.000    7.548    0.000 cmd.py:1235(__get_object_header)\n",
      "   192949    6.286    0.000    6.289    0.000 {method 'readline' of '_io.BufferedReader' objects}\n",
      "    54799    0.063    0.000    5.620    0.000 util.py:248(__getattr__)\n",
      "    21084    0.029    0.000    4.430    0.000 base.py:129(data_stream)\n",
      "    31557    0.038    0.000    4.374    0.000 base.py:527(commit)\n",
      "73633/21038    0.064    0.000    4.372    0.000 tree.py:347(__getitem__)\n",
      "73633/21038    0.178    0.000    4.341    0.000 tree.py:245(join)\n",
      "    42076    0.060    0.000    3.874    0.000 tree.py:224(_set_cache_)\n",
      "    31557    0.019    0.000    3.811    0.000 symbolic.py:212(_get_commit)\n",
      "    31557    0.038    0.000    3.791    0.000 symbolic.py:203(_get_object)\n",
      "    42076    0.116    0.000    2.911    0.000 base.py:75(new_from_sha)\n",
      "    10519    0.053    0.000    2.563    0.000 base.py:196(_config_parser)\n",
      "    42076    0.085    0.000    2.507    0.000 db.py:42(info)\n",
      "   116882    0.032    0.000    2.463    0.000 cmd.py:1221(_get_persistent_cmd)\n",
      "    42076    0.040    0.000    2.379    0.000 symbolic.py:143(dereference_recursive)\n",
      "    42076    0.037    0.000    2.371    0.000 cmd.py:1243(get_object_header)\n",
      "    84153    0.069    0.000    2.339    0.000 symbolic.py:196(_get_ref_info)\n",
      "     1118    2.313    0.002    2.313    0.002 {built-in method posix.read}\n",
      "    84153    0.255    0.000    2.270    0.000 symbolic.py:156(_get_ref_info_helper)\n",
      "    12723    0.041    0.000    1.673    0.000 commit.py:196(_set_cache_)\n",
      "    10519    0.063    0.000    1.670    0.000 fun.py:191(rev_parse)\n",
      "    10519    0.043    0.000    1.598    0.000 fun.py:121(name_to_object)\n",
      "    97258    1.275    0.000    1.336    0.000 {built-in method io.open}\n",
      "    10519    0.036    0.000    1.279    0.000 util.py:72(__init__)\n",
      "    10597    0.057    0.000    1.250    0.000 config.py:281(__init__)\n",
      "    10597    0.057    0.000    1.188    0.000 configparser.py:601(__init__)\n",
      "84390/73712    0.081    0.000    1.059    0.000 config.py:104(assure_data_present)\n",
      "    42076    0.670    0.000    0.884    0.000 fun.py:59(tree_entries_from_data)\n",
      "   960207    0.857    0.000    0.857    0.000 {method 'decode' of 'bytes' objects}\n",
      "    10597    0.176    0.000    0.772    0.000 configparser.py:1321(__init__)\n",
      "84390/73793    0.078    0.000    0.760    0.000 config.py:543(read)\n",
      "    11293    0.005    0.000    0.758    0.000 commit.py:749(_get_decoded_str)\n",
      "     1077    0.705    0.001    0.705    0.001 {method 'join' of 'bytes' objects}\n",
      "     1128    0.002    0.000    0.462    0.000 repository.py:207(traverse_commits)\n",
      "    10597    0.224    0.000    0.458    0.000 config.py:391(_read)\n",
      "     2156    0.015    0.000    0.426    0.000 threading.py:909(start)\n",
      "    11646    0.105    0.000    0.424    0.000 commit.py:525(_deserialize)\n",
      "    10597    0.420    0.000    0.420    0.000 {built-in method builtins.dir}\n",
      "    12420    0.004    0.000    0.384    0.000 commit.py:587(committer_date)\n",
      "    12420    0.007    0.000    0.380    0.000 commit.py:209(committed_datetime)\n",
      "    84305    0.308    0.000    0.378    0.000 {method 'read' of '_io.TextIOWrapper' objects}\n",
      "    10597    0.277    0.000    0.346    0.000 configparser.py:1244(__init__)\n",
      "     1131    0.032    0.000    0.337    0.000 repository.py:246(_iter_commits)\n",
      "     2157    0.020    0.000    0.329    0.000 threading.py:582(wait)\n",
      "   116882    0.323    0.000    0.324    0.000 {method 'flush' of '_io.BufferedWriter' objects}\n",
      "     2158    0.013    0.000    0.302    0.000 threading.py:288(wait)\n",
      "    11293    0.046    0.000    0.266    0.000 commit.py:155(__init__)\n",
      "  1453149    0.264    0.000    0.264    0.000 {method 'match' of 're.Pattern' objects}\n",
      "   116882    0.180    0.000    0.236    0.000 cmd.py:1185(_parse_object_header)\n",
      "   124825    0.154    0.000    0.234    0.000 posixpath.py:71(join)\n",
      "     1118    0.087    0.000    0.232    0.000 subprocess.py:1222(_close_pipe_fds)\n",
      "     1118    0.041    0.000    0.228    0.000 os.py:711(copy)\n",
      "   116882    0.156    0.000    0.223    0.000 cmd.py:1207(_prepare_ref)\n",
      "    21332    0.025    0.000    0.220    0.000 pathlib.py:955(__new__)\n",
      "   140224    0.169    0.000    0.205    0.000 base.py:50(__init__)\n",
      "    42153    0.051    0.000    0.204    0.000 configparser.py:766(get)\n",
      "     2156    0.073    0.000    0.197    0.000 threading.py:820(__init__)\n",
      "    21334    0.016    0.000    0.196    0.000 pathlib.py:587(_from_parts)\n",
      "    85325    0.059    0.000    0.189    0.000 base.py:153(__init__)\n",
      "   734024    0.126    0.000    0.188    0.000 cmd.py:466(__getattr__)\n",
      "   368165    0.111    0.000    0.187    0.000 compat.py:49(safe_decode)\n",
      "    21334    0.047    0.000    0.176    0.000 pathlib.py:567(_parse_args)\n",
      "    42076    0.103    0.000    0.173    0.000 util.py:85(get_object_type_by_name)\n",
      "    23292    0.040    0.000    0.169    0.000 util.py:268(parse_actor_and_date)\n",
      "    94905    0.162    0.000    0.162    0.000 {method '__exit__' of '_io._IOBase' objects}\n",
      "    43203    0.037    0.000    0.161    0.000 tree.py:214(__init__)\n",
      "    21330    0.094    0.000    0.135    0.000 util.py:69(mode_str_to_int)\n",
      "959186/959184    0.128    0.000    0.129    0.000 {built-in method builtins.getattr}\n",
      "    54899    0.049    0.000    0.125    0.000 commit.py:84(__init__)\n",
      "    21334    0.065    0.000    0.120    0.000 pathlib.py:56(parse_parts)\n",
      "   115231    0.054    0.000    0.115    0.000 os.py:674(__getitem__)\n",
      "   264966    0.067    0.000    0.109    0.000 os.py:804(fsencode)\n",
      "  1678681    0.102    0.000    0.107    0.000 {built-in method builtins.isinstance}\n",
      "     1128    0.000    0.000    0.104    0.000 git.py:110(get_list_commits)\n",
      "    21038    0.018    0.000    0.104    0.000 base.py:335(index)\n",
      "    12420    0.015    0.000    0.101    0.000 util.py:167(from_timestamp)\n",
      "     1118    0.016    0.000    0.091    0.000 util.py:412(remove_password_if_present)\n",
      "     2276    0.052    0.000    0.089    0.000 contextlib.py:496(callback)\n",
      "    42153    0.047    0.000    0.089    0.000 configparser.py:1143(_unify_values)\n",
      "    73709    0.066    0.000    0.088    0.000 util.py:163(join_path)\n",
      "    21038    0.028    0.000    0.087    0.000 base.py:117(__init__)\n",
      "     1128    0.001    0.000    0.085    0.000 commit.py:318(_iter_from_process_or_stream)\n",
      "     2156    0.082    0.000    0.082    0.000 {built-in method _thread.start_new_thread}\n",
      "    10600    0.014    0.000    0.077    0.000 config.py:489(_has_includes)\n",
      "     1078    0.007    0.000    0.076    0.000 util.py:383(finalize_process)\n",
      "    67995    0.073    0.000    0.074    0.000 {method 'search' of 're.Pattern' objects}\n",
      "     2155    0.041    0.000    0.074    0.000 cmd.py:470(wait)\n",
      "    84305    0.052    0.000    0.070    0.000 codecs.py:319(decode)\n",
      "     1118    0.020    0.000    0.069    0.000 os.py:619(get_exec_path)\n",
      "   116272    0.013    0.000    0.068    0.000 _collections_abc.py:877(__iter__)\n",
      "    30186    0.013    0.000    0.064    0.000 subprocess.py:1770(<genexpr>)\n",
      "    10597    0.017    0.000    0.062    0.000 config.py:492(_included_paths)\n",
      "    84305    0.039    0.000    0.061    0.000 codecs.py:309(__init__)\n",
      "    21038    0.020    0.000    0.060    0.000 base.py:114(__init__)\n",
      "    10896    0.033    0.000    0.060    0.000 parse.py:437(urlsplit)\n",
      "    21038    0.014    0.000    0.058    0.000 base.py:157(_index_path)\n",
      "   666421    0.058    0.000    0.058    0.000 {built-in method builtins.len}\n",
      "    84153    0.041    0.000    0.057    0.000 symbolic.py:43(_git_dir)\n",
      "    23292    0.022    0.000    0.057    0.000 util.py:665(_from_string)\n",
      "    42153    0.038    0.000    0.057    0.000 __init__.py:976(__getitem__)\n",
      "     2192    0.005    0.000    0.057    0.000 subprocess.py:1199(wait)\n",
      "   116272    0.031    0.000    0.055    0.000 os.py:697(__iter__)\n",
      "     1152    0.010    0.000    0.054    0.000 cmd.py:463(__del__)\n",
      "    22586    0.011    0.000    0.053    0.000 diff.py:432(_pick_best_path)\n",
      "     2192    0.004    0.000    0.052    0.000 subprocess.py:1906(_wait)\n",
      "   497211    0.052    0.000    0.052    0.000 {method 'encode' of 'str' objects}\n",
      "    31558    0.021    0.000    0.052    0.000 base.py:342(head)\n",
      "   105390    0.041    0.000    0.050    0.000 config.py:192(__getitem__)\n",
      "   193241    0.050    0.000    0.050    0.000 {method 'split' of 'str' objects}\n",
      "   230308    0.027    0.000    0.048    0.000 os.py:758(decode)\n",
      "    12420    0.045    0.000    0.047    0.000 {built-in method fromtimestamp}\n",
      "     2157    0.008    0.000    0.047    0.000 threading.py:538(__init__)\n",
      "     1115    0.015    0.000    0.046    0.000 subprocess.py:1893(_try_wait)\n",
      "    11293    0.004    0.000    0.045    0.000 ChangeCounter.ipynb:112(include)\n",
      "    74600    0.044    0.000    0.045    0.000 config.py:180(__setitem__)\n",
      "    21114    0.014    0.000    0.044    0.000 util.py:200(join_path_native)\n",
      "    74806    0.029    0.000    0.044    0.000 base.py:128(__new__)\n",
      "    11293    0.022    0.000    0.043    0.000 commit.py:923(_from_change_to_modification_type)\n",
      "    22586    0.026    0.000    0.043    0.000 diff.py:54(decode_path)\n",
      "    11293    0.010    0.000    0.041    0.000 ChangeCounter.ipynb:176(filter)\n",
      "   265310    0.041    0.000    0.041    0.000 {method 'endswith' of 'str' objects}\n",
      "   660830    0.041    0.000    0.041    0.000 {method 'append' of 'list' objects}\n",
      "    21038    0.034    0.000    0.040    0.000 symbolic.py:439(to_full_path)\n",
      "   216841    0.039    0.000    0.039    0.000 {method 'startswith' of 'str' objects}\n",
      "     1152    0.009    0.000    0.038    0.000 cmd.py:421(_terminate)\n",
      "       76    0.000    0.000    0.037    0.000 util.py:98(wrapper)\n",
      "       77    0.002    0.000    0.037    0.000 base.py:108(__init__)\n",
      "       76    0.000    0.000    0.037    0.000 base.py:1103(module)\n",
      "   115231    0.023    0.000    0.037    0.000 os.py:754(encode)\n",
      "     1118    0.029    0.000    0.037    0.000 contextlib.py:533(__exit__)\n",
      "   127600    0.025    0.000    0.036    0.000 posixpath.py:41(_get_sep)\n",
      "   140224    0.036    0.000    0.036    0.000 {method 'split' of 'bytes' objects}\n",
      "    42077    0.028    0.000    0.036    0.000 <frozen importlib._bootstrap>:1053(_handle_fromlist)\n",
      "    42077    0.026    0.000    0.034    0.000 <frozen importlib._bootstrap>:404(parent)\n",
      "    81003    0.034    0.000    0.034    0.000 {built-in method sys.intern}\n",
      "   127980    0.034    0.000    0.034    0.000 typing.py:305(inner)\n",
      "     2156    0.033    0.000    0.033    0.000 threading.py:1294(_make_invoke_excepthook)\n",
      "   204511    0.031    0.000    0.031    0.000 {built-in method binascii.a2b_hex}\n",
      "    31559    0.024    0.000    0.031    0.000 head.py:38(__init__)\n",
      "     1189    0.031    0.000    0.031    0.000 {built-in method posix.waitpid}\n",
      "    27754    0.009    0.000    0.030    0.000 commit.py:243(new_path)\n",
      "   150668    0.030    0.000    0.030    0.000 {built-in method __new__ of type object at 0x104e0f0a0}\n",
      "    74806    0.030    0.000    0.030    0.000 cmd.py:517(__init__)\n",
      "   117014    0.030    0.000    0.030    0.000 {method 'write' of '_io.BufferedWriter' objects}\n",
      "     2162    0.028    0.000    0.029    0.000 threading.py:236(__init__)\n",
      "     1118    0.029    0.000    0.029    0.000 cmd.py:416(__init__)\n",
      "       74    0.000    0.000    0.028    0.000 cmd.py:1273(clear_cache)\n",
      "    21038    0.020    0.000    0.028    0.000 configparser.py:878(has_option)\n",
      "    23292    0.028    0.000    0.028    0.000 util.py:110(utctz_to_altz)\n",
      "     1118    0.028    0.000    0.028    0.000 warnings.py:458(__enter__)\n",
      "    75937    0.027    0.000    0.027    0.000 typing.py:1408(_no_init_or_replace_init)\n",
      "    42076    0.016    0.000    0.026    0.000 base.py:35(__new__)\n",
      "    43008    0.024    0.000    0.025    0.000 config.py:183(add)\n",
      "   117327    0.023    0.000    0.023    0.000 {method 'group' of 're.Match' objects}\n",
      "     2276    0.015    0.000    0.023    0.000 contextlib.py:514(_push_exit_callback)\n",
      "    12420    0.020    0.000    0.023    0.000 {method 'astimezone' of 'datetime.datetime' objects}\n",
      "       38    0.000    0.000    0.023    0.001 base.py:1121(module_exists)\n",
      "    84305    0.022    0.000    0.022    0.000 codecs.py:260(__init__)\n",
      "   415368    0.022    0.000    0.022    0.000 {built-in method posix.fspath}\n",
      "    74806    0.021    0.000    0.021    0.000 base.py:132(__init__)\n",
      "    30827    0.015    0.000    0.021    0.000 base.py:105(__ne__)\n",
      "    27279    0.015    0.000    0.021    0.000 pathlib.py:619(__str__)\n",
      "   121440    0.021    0.000    0.021    0.000 {built-in method binascii.b2a_hex}\n",
      "     1118    0.007    0.000    0.020    0.000 subprocess.py:1583(_get_handles)\n",
      "   117497    0.019    0.000    0.019    0.000 {method 'startswith' of 'bytes' objects}\n",
      "        1    0.000    0.000    0.019    0.019 base.py:560(iter_commits)\n",
      "   106780    0.015    0.000    0.019    0.000 {built-in method builtins.hasattr}\n",
      "        1    0.000    0.000    0.019    0.019 commit.py:246(iter_items)\n",
      "    84305    0.018    0.000    0.018    0.000 {built-in method _codecs.utf_8_decode}\n",
      "     1118    0.018    0.000    0.018    0.000 contextlib.py:452(__init__)\n",
      "   225357    0.018    0.000    0.018    0.000 {method 'strip' of 'str' objects}\n",
      "        2    0.000    0.000    0.017    0.009 {built-in method builtins.next}\n",
      "        2    0.000    0.000    0.017    0.009 repository.py:173(_prep_repo)\n",
      "   127465    0.017    0.000    0.017    0.000 {method 'rstrip' of 'str' objects}\n",
      "     4312    0.017    0.000    0.017    0.000 threading.py:1176(daemon)\n",
      "    21116    0.014    0.000    0.017    0.000 configparser.py:644(sections)\n",
      "    42153    0.017    0.000    0.017    0.000 __init__.py:966(__init__)\n",
      "    42153    0.016    0.000    0.016    0.000 base.py:296(common_dir)\n",
      "     3394    0.016    0.000    0.016    0.000 {built-in method posix.pipe}\n",
      "       72    0.000    0.000    0.015    0.000 base.py:240(__del__)\n",
      "       72    0.001    0.000    0.015    0.000 base.py:246(close)\n",
      "    74806    0.015    0.000    0.015    0.000 cmd.py:604(__del__)\n",
      "      683    0.003    0.000    0.015    0.000 ChangeCounter.ipynb:121(update_stats)\n",
      "    12420    0.015    0.000    0.015    0.000 util.py:147(__init__)\n",
      "    53025    0.015    0.000    0.015    0.000 {built-in method builtins.setattr}\n",
      "    57877    0.015    0.000    0.015    0.000 {method 'groups' of 're.Match' objects}\n",
      "     4513    0.014    0.000    0.014    0.000 {built-in method posix.close}\n",
      "    10896    0.005    0.000    0.014    0.000 parse.py:155(password)\n",
      "    18810    0.014    0.000    0.014    0.000 {method 'get' of 'dict' objects}\n",
      "        1    0.000    0.000    0.014    0.014 contextlib.py:139(__exit__)\n",
      "        2    0.000    0.000    0.014    0.007 git.py:77(clear)\n",
      "    21038    0.012    0.000    0.014    0.000 util.py:34(sm_name)\n",
      "     2156    0.010    0.000    0.013    0.000 _weakrefset.py:86(add)\n",
      "    42076    0.012    0.000    0.012    0.000 base.py:38(__init__)\n",
      "     2276    0.012    0.000    0.012    0.000 contextlib.py:446(_create_cb_wrapper)\n",
      "    21645    0.009    0.000    0.012    0.000 diff.py:403(a_path)\n",
      "     5436    0.012    0.000    0.012    0.000 {built-in method _thread.allocate_lock}\n",
      "9737/1118    0.008    0.000    0.012    0.000 cmd.py:1069(__unpack_args)\n",
      "     9809    0.009    0.000    0.012    0.000 diff.py:426(renamed_file)\n",
      "     1118    0.007    0.000    0.012    0.000 warnings.py:165(simplefilter)\n",
      "     2154    0.005    0.000    0.011    0.000 threading.py:1191(daemon)\n",
      "     2158    0.010    0.000    0.011    0.000 threading.py:279(_is_owned)\n",
      "    11293    0.007    0.000    0.011    0.000 commit.py:549(committer)\n",
      "    10519    0.009    0.000    0.011    0.000 util.py:970(__new__)\n",
      "   162973    0.010    0.000    0.010    0.000 typing.py:1715(cast)\n",
      "     1127    0.004    0.000    0.009    0.000 conf.py:257(is_commit_filtered)\n",
      "  306/154    0.001    0.000    0.009    0.000 fun.py:85(find_submodule_git_dir)\n",
      "   105522    0.009    0.000    0.009    0.000 {function _OMD.__getitem__ at 0x148245a20}\n",
      "    10896    0.008    0.000    0.009    0.000 parse.py:189(_userinfo)\n",
      "    52973    0.009    0.000    0.009    0.000 {method 'rpartition' of 'str' objects}\n",
      "    22025    0.007    0.000    0.009    0.000 diff.py:407(b_path)\n",
      "     1077    0.009    0.000    0.009    0.000 {method 'finditer' of 're.Pattern' objects}\n",
      "     4434    0.008    0.000    0.008    0.000 {method 'append' of 'collections.deque' objects}\n",
      "     4312    0.008    0.000    0.008    0.000 threading.py:1423(current_thread)\n",
      "    21330    0.008    0.000    0.008    0.000 {method 'sub' of 're.Pattern' objects}\n",
      "     2154    0.008    0.000    0.008    0.000 threading.py:775(_newname)\n",
      "   106200    0.008    0.000    0.008    0.000 config.py:387(optionxform)\n",
      "    10493    0.003    0.000    0.008    0.000 config.py:352(__del__)\n",
      "    10519    0.007    0.000    0.007    0.000 util.py:973(__init__)\n",
      "       77    0.000    0.000    0.007    0.000 base.py:488(config_reader)\n",
      "     6466    0.007    0.000    0.007    0.000 threading.py:546(is_set)\n",
      "     1118    0.007    0.000    0.007    0.000 {built-in method posix.access}\n",
      "    23292    0.007    0.000    0.007    0.000 util.py:646(__init__)\n",
      "      683    0.004    0.000    0.007    0.000 ChangeCounter.ipynb:145(update_changes)\n",
      "    10815    0.004    0.000    0.007    0.000 pathlib.py:606(_format_parsed_parts)\n",
      "    11293    0.005    0.000    0.007    0.000 commit.py:614(msg)\n",
      "    31559    0.006    0.000    0.006    0.000 symbolic.py:65(__init__)\n",
      "    58917    0.006    0.000    0.006    0.000 {method 'readline' of '_io.BytesIO' objects}\n",
      "     1177    0.005    0.000    0.006    0.000 commit.py:623(parents)\n",
      "    42076    0.006    0.000    0.006    0.000 base.py:52(type)\n",
      "    21334    0.006    0.000    0.006    0.000 pathlib.py:239(splitroot)\n",
      "     6796    0.005    0.000    0.006    0.000 conf.py:45(get)\n",
      "    84152    0.006    0.000    0.006    0.000 {built-in method builtins.ord}\n",
      "    64496    0.006    0.000    0.006    0.000 {method 'lower' of 'str' objects}\n",
      "     1115    0.006    0.000    0.006    0.000 subprocess.py:1060(__del__)\n",
      "     2388    0.004    0.000    0.006    0.000 posixpath.py:150(dirname)\n",
      "    10519    0.005    0.000    0.006    0.000 base.py:99(__eq__)\n",
      "     1118    0.006    0.000    0.006    0.000 warnings.py:437(__init__)\n",
      "     2156    0.004    0.000    0.005    0.000 threading.py:1021(_stop)\n",
      "    10597    0.005    0.000    0.005    0.000 configparser.py:1363(__iter__)\n",
      "      383    0.001    0.000    0.005    0.000 fun.py:44(is_git_dir)\n",
      "    42076    0.005    0.000    0.005    0.000 base.py:42(binsha)\n",
      "    10896    0.004    0.000    0.005    0.000 parse.py:114(_coerce_args)\n",
      "      683    0.005    0.000    0.005    0.000 ChangeCounter.ipynb:137(update_size)\n",
      "    10494    0.004    0.000    0.005    0.000 config.py:364(release)\n",
      "     1118    0.003    0.000    0.005    0.000 warnings.py:181(_add_filter)\n",
      "    10597    0.004    0.000    0.005    0.000 config.py:333(_acquire_lock)\n",
      "     2154    0.005    0.000    0.005    0.000 threading.py:1162(is_alive)\n",
      "     2156    0.004    0.000    0.005    0.000 _weakrefset.py:39(_remove)\n",
      "    66623    0.005    0.000    0.005    0.000 {method 'replace' of 'str' objects}\n",
      "     1127    0.003    0.000    0.005    0.000 commit.py:529(hash)\n",
      "     1128    0.002    0.000    0.004    0.000 __init__.py:1467(info)\n",
      "     1118    0.004    0.000    0.004    0.000 _collections_abc.py:828(keys)\n",
      "    10519    0.004    0.000    0.004    0.000 fun.py:180(to_commit)\n",
      "     1195    0.001    0.000    0.004    0.000 abc.py:117(__instancecheck__)\n",
      "     4558    0.003    0.000    0.004    0.000 base.py:123(hexsha)\n",
      "    42076    0.004    0.000    0.004    0.000 base.py:60(size)\n",
      "    12420    0.004    0.000    0.004    0.000 developer.py:27(__init__)\n",
      "    10597    0.004    0.000    0.004    0.000 configparser.py:1191(converters)\n",
      "     1195    0.004    0.000    0.004    0.000 {built-in method _abc._abc_instancecheck}\n",
      "     1118    0.004    0.000    0.004    0.000 {built-in method sys.exc_info}\n",
      "     3276    0.004    0.000    0.004    0.000 {method 'add' of 'set' objects}\n",
      "    42153    0.004    0.000    0.004    0.000 configparser.py:363(before_get)\n",
      "        1    0.000    0.000    0.004    0.004 contextlib.py:130(__enter__)\n",
      "     2170    0.003    0.000    0.004    0.000 threading.py:264(__enter__)\n",
      "    21190    0.003    0.000    0.003    0.000 base.py:290(working_tree_dir)\n",
      "    21114    0.003    0.000    0.003    0.000 util.py:194(to_native_path_linux)\n",
      "    52985    0.003    0.000    0.003    0.000 {built-in method builtins.callable}\n",
      "        1    0.000    0.000    0.003    0.003 git.py:39(__init__)\n",
      "    49680    0.003    0.000    0.003    0.000 util.py:160(dst)\n",
      "      231    0.001    0.000    0.003    0.000 util.py:400(expand_path)\n",
      "      771    0.002    0.000    0.003    0.000 posixpath.py:337(normpath)\n",
      "     1080    0.003    0.000    0.003    0.000 {built-in method posix.stat}\n",
      "    29068    0.003    0.000    0.003    0.000 {method 'endswith' of 'bytes' objects}\n",
      "     2276    0.001    0.000    0.003    0.000 contextlib.py:448(_exit_wrapper)\n",
      "        1    0.000    0.000    0.003    0.003 git.py:86(_open_repository)\n",
      "     2170    0.003    0.000    0.003    0.000 threading.py:267(__exit__)\n",
      "       97    0.000    0.000    0.003    0.000 parse.py:88(clear_cache)\n",
      "      768    0.001    0.000    0.003    0.000 genericpath.py:39(isdir)\n",
      "    38387    0.003    0.000    0.003    0.000 util.py:154(utcoffset)\n",
      "     2246    0.003    0.000    0.003    0.000 __init__.py:1724(isEnabledFor)\n",
      "    11587    0.003    0.000    0.003    0.000 {method 'join' of 'str' objects}\n",
      "      194    0.003    0.000    0.003    0.000 {method 'clear' of 'dict' objects}\n",
      "    21116    0.002    0.000    0.002    0.000 {method 'keys' of 'collections.OrderedDict' objects}\n",
      "     2230    0.001    0.000    0.002    0.000 subprocess.py:1173(poll)\n",
      "     2158    0.002    0.000    0.002    0.000 threading.py:276(_acquire_restore)\n",
      "     2154    0.001    0.000    0.002    0.000 base.py:115(__str__)\n",
      "     1122    0.002    0.000    0.002    0.000 {method 'remove' of 'list' objects}\n",
      "    10595    0.002    0.000    0.002    0.000 base.py:309(bare)\n",
      "     2276    0.002    0.000    0.002    0.000 {method 'pop' of 'collections.deque' objects}\n",
      "     9809    0.002    0.000    0.002    0.000 diff.py:411(rename_from)\n",
      "    11646    0.002    0.000    0.002    0.000 {method 'read' of '_io.BytesIO' objects}\n",
      "    12830    0.002    0.000    0.002    0.000 {method 'strip' of 'bytes' objects}\n",
      "     2155    0.001    0.000    0.002    0.000 encoding.py:1(force_bytes)\n",
      "     3345    0.001    0.000    0.001    0.000 subprocess.py:1858(_internal_poll)\n",
      "     1118    0.001    0.000    0.001    0.000 cmd.py:1148(<dictcomp>)\n",
      "     1115    0.001    0.000    0.001    0.000 subprocess.py:1846(_handle_exitstatus)\n",
      "     1119    0.001    0.000    0.001    0.000 {built-in method builtins.sorted}\n",
      "    11293    0.001    0.000    0.001    0.000 {method 'end' of 're.Match' objects}\n",
      "     1160    0.001    0.000    0.001    0.000 cmd.py:180(dashify)\n",
      "     9809    0.001    0.000    0.001    0.000 diff.py:415(rename_to)\n",
      "      233    0.000    0.000    0.001    0.000 posixpath.py:376(abspath)\n",
      "     1118    0.001    0.000    0.001    0.000 __init__.py:1455(debug)\n",
      "     1933    0.001    0.000    0.001    0.000 <string>:1(<lambda>)\n",
      "    21335    0.001    0.000    0.001    0.000 {method 'reverse' of 'list' objects}\n",
      "     2155    0.001    0.000    0.001    0.000 cmd.py:632(__getattr__)\n",
      "     1118    0.001    0.000    0.001    0.000 warnings.py:477(__exit__)\n",
      "    10981    0.001    0.000    0.001    0.000 {method 'pop' of 'list' objects}\n",
      "     1127    0.001    0.000    0.001    0.000 commit.py:538(author)\n",
      "    10497    0.001    0.000    0.001    0.000 config.py:707(read_only)\n",
      "     2158    0.001    0.000    0.001    0.000 threading.py:273(_release_save)\n",
      "     1077    0.001    0.000    0.001    0.000 base.py:90(_set_cache_)\n",
      "       77    0.000    0.000    0.001    0.000 cmd.py:612(__init__)\n",
      "    10216    0.001    0.000    0.001    0.000 {method 'start' of 're.Match' objects}\n",
      "        3    0.000    0.000    0.001    0.000 config.py:659(write)\n",
      "       77    0.000    0.000    0.001    0.000 configparser.py:827(getboolean)\n",
      "    10597    0.001    0.000    0.001    0.000 {built-in method builtins.iter}\n",
      "     2230    0.001    0.000    0.001    0.000 {method 'close' of '_io.BufferedReader' objects}\n",
      "      2/1    0.000    0.000    0.001    0.001 config.py:117(flush_changes)\n",
      "       77    0.000    0.000    0.001    0.000 configparser.py:806(_get_conv)\n",
      "    10896    0.001    0.000    0.001    0.000 parse.py:103(_noop)\n",
      "     1118    0.001    0.000    0.001    0.000 cmd.py:1058(transform_kwargs)\n",
      "       77    0.000    0.000    0.001    0.000 configparser.py:803(_get)\n",
      "     1118    0.001    0.000    0.001    0.000 subprocess.py:246(_cleanup)\n",
      "     1933    0.001    0.000    0.001    0.000 {method 'find' of 'str' objects}\n",
      "     1118    0.001    0.000    0.001    0.000 cmd.py:1156(<listcomp>)\n",
      "     4312    0.001    0.000    0.001    0.000 {built-in method _thread.get_ident}\n",
      "       77    0.000    0.000    0.001    0.000 db.py:37(__init__)\n",
      "        1    0.000    0.000    0.001    0.001 config.py:791(set_value)\n",
      "     4388    0.001    0.000    0.001    0.000 {method 'release' of '_thread.lock' objects}\n",
      "     1270    0.001    0.000    0.001    0.000 {method 'rfind' of 'str' objects}\n",
      "      233    0.000    0.000    0.001    0.000 genericpath.py:27(isfile)\n",
      "     1118    0.001    0.000    0.001    0.000 {method 'rfind' of 'bytes' objects}\n",
      "        1    0.000    0.000    0.001    0.001 base.py:511(config_writer)\n",
      "       37    0.000    0.000    0.001    0.000 subprocess.py:2093(terminate)\n",
      "       77    0.000    0.000    0.001    0.000 genericpath.py:16(exists)\n",
      "        2    0.000    0.000    0.001    0.000 pathlib.py:1062(resolve)\n",
      "     1118    0.001    0.000    0.001    0.000 _collections_abc.py:854(__init__)\n",
      "     4349    0.001    0.000    0.001    0.000 {method 'insert' of 'list' objects}\n",
      "        2    0.000    0.000    0.001    0.000 posixpath.py:391(realpath)\n",
      "     2162    0.000    0.000    0.000    0.000 {method '__enter__' of '_thread.lock' objects}\n",
      "     1118    0.000    0.000    0.000    0.000 contextlib.py:530(__enter__)\n",
      "       77    0.000    0.000    0.000    0.000 loose.py:77(__init__)\n",
      "        4    0.000    0.000    0.000    0.000 util.py:878(_obtain_lock)\n",
      "        4    0.000    0.000    0.000    0.000 util.py:856(_obtain_lock_or_raise)\n",
      "       37    0.000    0.000    0.000    0.000 {method 'close' of '_io.BufferedWriter' objects}\n",
      "        2    0.000    0.000    0.000    0.000 posixpath.py:400(_joinrealpath)\n",
      "     2156    0.000    0.000    0.000    0.000 {method 'discard' of 'set' objects}\n",
      "        1    0.000    0.000    0.000    0.000 {built-in method posix.open}\n",
      "       37    0.000    0.000    0.000    0.000 subprocess.py:2061(send_signal)\n",
      "       78    0.000    0.000    0.000    0.000 base.py:464(_get_config_path)\n",
      "       77    0.000    0.000    0.000    0.000 re.py:197(search)\n",
      "     3289    0.000    0.000    0.000    0.000 {method '__exit__' of '_thread.lock' objects}\n",
      "        1    0.000    0.000    0.000    0.000 repository.py:240(<dictcomp>)\n",
      "        8    0.000    0.000    0.000    0.000 {built-in method posix.lstat}\n",
      "        4    0.000    0.000    0.000    0.000 thread.py:161(submit)\n",
      "     1127    0.000    0.000    0.000    0.000 git.py:134(get_commit_from_gitpython)\n",
      "     1118    0.000    0.000    0.000    0.000 cmd.py:1149(<dictcomp>)\n",
      "     2164    0.000    0.000    0.000    0.000 {method '__exit__' of '_thread.RLock' objects}\n",
      "       77    0.000    0.000    0.000    0.000 _collections_abc.py:820(__contains__)\n",
      "     4473    0.000    0.000    0.000    0.000 {method 'items' of 'dict' objects}\n",
      "        4    0.000    0.000    0.000    0.000 thread.py:180(_adjust_thread_count)\n",
      "       77    0.000    0.000    0.000    0.000 re.py:288(_compile)\n",
      "      387    0.000    0.000    0.000    0.000 posixpath.py:60(isabs)\n",
      "     3354    0.000    0.000    0.000    0.000 {built-in method _warnings._filters_mutated}\n",
      "       37    0.000    0.000    0.000    0.000 {built-in method posix.kill}\n",
      "        3    0.000    0.000    0.000    0.000 config.py:615(_write)\n",
      "     1933    0.000    0.000    0.000    0.000 parse.py:419(_checknetloc)\n",
      "       45    0.000    0.000    0.000    0.000 config.py:618(write_section)\n",
      "       76    0.000    0.000    0.000    0.000 base.py:197(abspath)\n",
      "     1158    0.000    0.000    0.000    0.000 {method 'update' of 'dict' objects}\n",
      "       77    0.000    0.000    0.000    0.000 base.py:113(__init__)\n",
      "      231    0.000    0.000    0.000    0.000 posixpath.py:228(expanduser)\n",
      "     1127    0.000    0.000    0.000    0.000 commit.py:503(__init__)\n",
      "     1115    0.000    0.000    0.000    0.000 {built-in method posix.WIFSTOPPED}\n",
      "     1118    0.000    0.000    0.000    0.000 {built-in method sys.audit}\n",
      "     1115    0.000    0.000    0.000    0.000 {built-in method posix.waitstatus_to_exitcode}\n",
      "       72    0.000    0.000    0.000    0.000 mman.py:408(collect)\n",
      "      229    0.000    0.000    0.000    0.000 cmd.py:368(is_cygwin)\n",
      "     1077    0.000    0.000    0.000    0.000 diff.py:86(_process_diff_args)\n",
      "        5    0.000    0.000    0.000    0.000 _base.py:201(as_completed)\n",
      "       76    0.000    0.000    0.000    0.000 base.py:266(__ne__)\n",
      "       72    0.000    0.000    0.000    0.000 mman.py:303(_collect_lru_region)\n",
      "       44    0.000    0.000    0.000    0.000 cmd.py:1042(transform_kwarg)\n",
      "     1077    0.000    0.000    0.000    0.000 util.py:257(_set_cache_)\n",
      "      231    0.000    0.000    0.000    0.000 posixpath.py:284(expandvars)\n",
      "     2161    0.000    0.000    0.000    0.000 {method 'locked' of '_thread.lock' objects}\n",
      "     1118    0.000    0.000    0.000    0.000 {method 'pop' of 'dict' objects}\n",
      "        1    0.000    0.000    0.000    0.000 git.py:92(_discover_main_branch)\n",
      "        1    0.000    0.000    0.000    0.000 _base.py:636(__exit__)\n",
      "        1    0.000    0.000    0.000    0.000 base.py:792(active_branch)\n",
      "        1    0.000    0.000    0.000    0.000 symbolic.py:288(_get_reference)\n",
      "       77    0.000    0.000    0.000    0.000 configparser.py:1163(_convert_to_boolean)\n",
      "        1    0.000    0.000    0.000    0.000 thread.py:216(shutdown)\n",
      "      683    0.000    0.000    0.000    0.000 ChangeCounter.ipynb:155(update_elems)\n",
      "        1    0.000    0.000    0.000    0.000 thread.py:123(__init__)\n",
      "        4    0.000    0.000    0.000    0.000 threading.py:421(acquire)\n",
      "        6    0.000    0.000    0.000    0.000 _base.py:179(_yield_finished_futures)\n",
      "       45    0.000    0.000    0.000    0.000 config.py:216(items_all)\n",
      "       77    0.000    0.000    0.000    0.000 base.py:70(__init__)\n",
      "        2    0.000    0.000    0.000    0.000 util.py:883(_release_lock)\n",
      "        1    0.000    0.000    0.000    0.000 util.py:139(rmfile)\n",
      "       45    0.000    0.000    0.000    0.000 config.py:218(<listcomp>)\n",
      "      691    0.000    0.000    0.000    0.000 {built-in method _stat.S_ISDIR}\n",
      "       88    0.000    0.000    0.000    0.000 config.py:786(_value_to_string)\n",
      "        1    0.000    0.000    0.000    0.000 {built-in method posix.remove}\n",
      "       76    0.000    0.000    0.000    0.000 base.py:261(__eq__)\n",
      "      229    0.000    0.000    0.000    0.000 util.py:347(is_cygwin_git)\n",
      "        1    0.000    0.000    0.000    0.000 repository.py:44(__init__)\n",
      "      132    0.000    0.000    0.000    0.000 config.py:209(getall)\n",
      "        1    0.000    0.000    0.000    0.000 repository.py:256(_split_in_chunks)\n",
      "        1    0.000    0.000    0.000    0.000 symbolic.py:685(from_path)\n",
      "        1    0.000    0.000    0.000    0.000 conf.py:77(sanity_check_filters)\n",
      "        3    0.000    0.000    0.000    0.000 config.py:212(items)\n",
      "        3    0.000    0.000    0.000    0.000 config.py:214(<listcomp>)\n",
      "        4    0.000    0.000    0.000    0.000 _base.py:418(result)\n",
      "        2    0.000    0.000    0.000    0.000 weakref.py:370(remove)\n",
      "        4    0.000    0.000    0.000    0.000 _base.py:318(__init__)\n",
      "        1    0.000    0.000    0.000    0.000 conf.py:24(__init__)\n",
      "        2    0.000    0.000    0.000    0.000 pathlib.py:1090(stat)\n",
      "      155    0.000    0.000    0.000    0.000 {built-in method _stat.S_ISREG}\n",
      "        1    0.000    0.000    0.000    0.000 threading.py:415(__init__)\n",
      "       88    0.000    0.000    0.000    0.000 encoding.py:11(force_text)\n",
      "        5    0.000    0.000    0.000    0.000 {method 'put' of '_queue.SimpleQueue' objects}\n",
      "        1    0.000    0.000    0.000    0.000 conf.py:287(_check_timezones)\n",
      "        1    0.000    0.000    0.000    0.000 _base.py:157(_create_and_install_waiters)\n",
      "       57    0.000    0.000    0.000    0.000 {method 'find' of 'bytes' objects}\n",
      "        4    0.000    0.000    0.000    0.000 pathlib.py:629(__fspath__)\n",
      "        1    0.000    0.000    0.000    0.000 _base.py:79(__init__)\n",
      "        1    0.000    0.000    0.000    0.000 conf.py:191(build_args)\n",
      "        1    0.000    0.000    0.000    0.000 conf.py:293(_replace_timezone)\n",
      "       57    0.000    0.000    0.000    0.000 {method 'rstrip' of 'bytes' objects}\n",
      "        1    0.000    0.000    0.000    0.000 _base.py:63(__init__)\n",
      "        8    0.000    0.000    0.000    0.000 {method '__enter__' of '_thread.RLock' objects}\n",
      "        1    0.000    0.000    0.000    0.000 conf.py:54(_sanity_check_repos)\n",
      "       72    0.000    0.000    0.000    0.000 {method 'values' of 'dict' objects}\n",
      "        1    0.000    0.000    0.000    0.000 _base.py:146(__init__)\n",
      "        2    0.000    0.000    0.000    0.000 threading.py:793(_maintain_shutdown_locks)\n",
      "        1    0.000    0.000    0.000    0.000 {built-in method math.ceil}\n",
      "        7    0.000    0.000    0.000    0.000 conf.py:36(set_value)\n",
      "        4    0.000    0.000    0.000    0.000 thread.py:47(__init__)\n",
      "       77    0.000    0.000    0.000    0.000 {built-in method builtins.issubclass}\n",
      "        1    0.000    0.000    0.000    0.000 {method 'replace' of 'datetime.datetime' objects}\n",
      "        1    0.000    0.000    0.000    0.000 _base.py:149(__enter__)\n",
      "        2    0.000    0.000    0.000    0.000 weakref.py:428(__setitem__)\n",
      "        1    0.000    0.000    0.000    0.000 configparser.py:892(set)\n",
      "        1    0.000    0.000    0.000    0.000 git.py:322(__del__)\n",
      "        1    0.000    0.000    0.000    0.000 reference.py:46(__init__)\n",
      "        1    0.000    0.000    0.000    0.000 conf.py:65(_check_only_one_from_commit)\n",
      "        8    0.000    0.000    0.000    0.000 util.py:851(_has_lock)\n",
      "        1    0.000    0.000    0.000    0.000 _base.py:153(__exit__)\n",
      "        1    0.000    0.000    0.000    0.000 contextlib.py:279(helper)\n",
      "        1    0.000    0.000    0.000    0.000 util.py:844(__del__)\n",
      "        2    0.000    0.000    0.000    0.000 repository.py:148(_is_remote)\n",
      "        1    0.000    0.000    0.000    0.000 contextlib.py:102(__init__)\n",
      "        2    0.000    0.000    0.000    0.000 threading.py:803(<listcomp>)\n",
      "        3    0.000    0.000    0.000    0.000 config.py:699(_assure_writable)\n",
      "        1    0.000    0.000    0.000    0.000 conf.py:71(_check_only_one_to_commit)\n",
      "        2    0.000    0.000    0.000    0.000 conf.py:181(only_one_filter)\n",
      "        8    0.000    0.000    0.000    0.000 {method 'partition' of 'str' objects}\n",
      "        4    0.000    0.000    0.000    0.000 threading.py:90(RLock)\n",
      "        1    0.000    0.000    0.000    0.000 reference.py:100(name)\n",
      "        1    0.000    0.000    0.000    0.000 threading.py:572(clear)\n",
      "        5    0.000    0.000    0.000    0.000 {method 'remove' of 'set' objects}\n",
      "        2    0.000    0.000    0.000    0.000 util.py:847(_lock_file_path)\n",
      "        4    0.000    0.000    0.000    0.000 _base.py:388(__get_result)\n",
      "        4    0.000    0.000    0.000    0.000 _base.py:225(<genexpr>)\n",
      "        3    0.000    0.000    0.000    0.000 git.py:63(repo)\n",
      "        2    0.000    0.000    0.000    0.000 {method 'difference_update' of 'set' objects}\n",
      "        4    0.000    0.000    0.000    0.000 {method 'lstrip' of 'str' objects}\n",
      "        8    0.000    0.000    0.000    0.000 {built-in method _stat.S_ISLNK}\n",
      "        1    0.000    0.000    0.000    0.000 conf.py:114(_check_correct_filters_order)\n",
      "        1    0.000    0.000    0.000    0.000 conf.py:142(get_starting_commit)\n",
      "        1    0.000    0.000    0.000    0.000 conf.py:165(get_ending_commit)\n",
      "        1    0.000    0.000    0.000    0.000 pathlib.py:708(name)\n",
      "        1    0.000    0.000    0.000    0.000 util.py:840(__init__)\n",
      "        2    0.000    0.000    0.000    0.000 pathlib.py:1430(expanduser)\n",
      "        1    0.000    0.000    0.000    0.000 {method 'disable' of '_lsprof.Profiler' objects}\n",
      "        2    0.000    0.000    0.000    0.000 conf.py:189(<listcomp>)\n",
      "        2    0.000    0.000    0.000    0.000 {method 'remove' of 'collections.deque' objects}\n",
      "        4    0.000    0.000    0.000    0.000 {built-in method time.monotonic}\n",
      "        4    0.000    0.000    0.000    0.000 {method 'acquire' of '_thread.RLock' objects}\n",
      "        1    0.000    0.000    0.000    0.000 configparser.py:663(has_section)\n",
      "        1    0.000    0.000    0.000    0.000 __init__.py:230(utcoffset)\n",
      "        4    0.000    0.000    0.000    0.000 {method 'release' of '_thread.RLock' objects}\n",
      "        1    0.000    0.000    0.000    0.000 _base.py:633(__enter__)\n",
      "        1    0.000    0.000    0.000    0.000 configparser.py:366(before_set)\n",
      "\n",
      "\n"
     ]
    }
   ],
   "source": [
    "cProfile.run('debuggingbook_change_counter(ChangeCounter)', sort='cumulative')"
   ]
  },
  {
   "attachments": {},
   "cell_type": "markdown",
   "metadata": {
    "slideshow": {
     "slide_type": "subslide"
    }
   },
   "source": [
    "Yes, that's an awful lot of functions, but we can quickly narrow things down. The `cumtime` column is sorted by largest values first. We see that the `debuggingbook_change_counter()` method at the top takes up all the time – but this is not surprising, since it is the method we called in the first place. This calls a method `mine()` in the `ChangeCounter` class, which does all the work."
   ]
  },
  {
   "cell_type": "markdown",
   "metadata": {
    "slideshow": {
     "slide_type": "fragment"
    }
   },
   "source": [
    "The next places are more interesting: almost all time is spent in a single method, named `modifications()`. This method determines the difference between two versions, which is an expensive operation; this is also supported by the observation that half of the time is spent in a `diff()` method."
   ]
  },
  {
   "cell_type": "markdown",
   "metadata": {
    "slideshow": {
     "slide_type": "subslide"
    }
   },
   "source": [
    "This profile thus already gets us a hint on how to improve performance: Rather than computing the diff between versions for _every_ version, we could do so _on demand_ (and possibly cache results so we don't have to compute them twice). Alas, this (slow) functionality is part of the \n",
    "underlying [PyDriller](https://pydriller.readthedocs.io/) Python package, so we cannot fix this within the `ChangeCounter` class. But we could file a bug with the developers, suggesting a patch to improve performance."
   ]
  },
  {
   "cell_type": "markdown",
   "metadata": {
    "slideshow": {
     "slide_type": "subslide"
    }
   },
   "source": [
    "### Sampling Execution Profiles\n",
    "\n",
    "Instrumenting code is _precise_, but it is also _slow_. An alternate way to measure performance is to _sample_ in regular intervals which functions are currently active – for instance, by examining the current function call stack. The more frequently a function is sampled as active, the more time is spent in that function."
   ]
  },
  {
   "cell_type": "markdown",
   "metadata": {
    "slideshow": {
     "slide_type": "subslide"
    }
   },
   "source": [
    "One profiler for Python that implements such sampling is [Scalene](https://github.com/plasma-umass/scalene) – a high-performance, high-precision CPU, GPU, and memory profiler for Python. We can invoke it on our example as follows:\n",
    "\n",
    "```sh\n",
    "$ scalene --html test.py > scalene-out.html\n",
    "```"
   ]
  },
  {
   "cell_type": "markdown",
   "metadata": {
    "slideshow": {
     "slide_type": "fragment"
    }
   },
   "source": [
    "where `test.py` is a script that again invokes\n",
    "\n",
    "```python\n",
    "debuggingbook_change_counter(ChangeCounter)\n",
    "```"
   ]
  },
  {
   "attachments": {},
   "cell_type": "markdown",
   "metadata": {
    "slideshow": {
     "slide_type": "subslide"
    }
   },
   "source": [
    "The output of `scalene` is sent to a HTML file (here, `scalene-out.html`) which is organized by _lines_ – that is, for each line, we see how much it contributed to overall execution time. Opening the output `scalene-out.html` in a HTML browser, we see these lines:"
   ]
  },
  {
   "cell_type": "markdown",
   "metadata": {
    "slideshow": {
     "slide_type": "fragment"
    }
   },
   "source": [
    "![](PICS/scalene-out.png)"
   ]
  },
  {
   "cell_type": "markdown",
   "metadata": {
    "slideshow": {
     "slide_type": "fragment"
    }
   },
   "source": [
    "As with `cProfile`, above, we identify the `mine()` method in the `ChangeCounter` class as the main performance hog – and in the `mine()` method, it is the iteration over all modifications that takes all the time. Adding the option `--profile-all` to `scalene` would extend the profile to all executed code, including the `pydriller` third-party library."
   ]
  },
  {
   "cell_type": "markdown",
   "metadata": {
    "slideshow": {
     "slide_type": "fragment"
    }
   },
   "source": [
    "Besides relying on sampling rather that tracing (which is more efficient) and breaking down execution time by line, `scalene` also provides additional information on memory usage and more. If `cProfile` is not sufficient, then `scalene` will bring profiling to the next level."
   ]
  },
  {
   "cell_type": "markdown",
   "metadata": {
    "slideshow": {
     "slide_type": "slide"
    }
   },
   "source": [
    "## Improving Performance"
   ]
  },
  {
   "cell_type": "markdown",
   "metadata": {
    "slideshow": {
     "slide_type": "fragment"
    }
   },
   "source": [
    "Identifying a culprit is not always that easy. Notably, when the first set of obvious performance hogs is fixed, it becomes more and more difficult to squeeze out additional performance – and, as stated above, such optimization may be in conflict with readability and maintainability of your code. Here are some simple ways to improve performance:"
   ]
  },
  {
   "cell_type": "markdown",
   "metadata": {
    "slideshow": {
     "slide_type": "subslide"
    }
   },
   "source": [
    "* **Efficient algorithms**. For many tasks, the simplest algorithm is not always the best performing one. Consider alternatives that may be more efficient, and _measure_ whether they pay off.\n",
    "\n",
    "* **Efficient data types**. Remember that certain operations, such as looking up whether an element is contained, may take different amounts of time depending on the data structure. In Python, a query like `x in xs` takes (mostly) constant time if `xs` is a set, but linear time if `xs` is a list; these differences become significant as the size of `xs` grows.\n",
    "\n",
    "* **Efficient modules**. In Python, most frequently used modules (or at least parts of) are implemented in C, which is way more efficient than plain Python. Rely on existing modules whenever possible. Or implement your own, _after_ having measured that this may pay off."
   ]
  },
  {
   "cell_type": "markdown",
   "metadata": {
    "slideshow": {
     "slide_type": "subslide"
    }
   },
   "source": [
    "These are all things you can already use during programming – and also set up your code such that exchanging, say, one data type by another will still be possible later. This is best achieved by hiding implementation details (such as the used data types) behind an abstract interface used by your clients."
   ]
  },
  {
   "cell_type": "markdown",
   "metadata": {
    "slideshow": {
     "slide_type": "fragment"
    }
   },
   "source": [
    "But beyond these points, remember the famous words by [Donald J. Knuth](https://en.wikipedia.org/wiki/Donald_Knuth):"
   ]
  },
  {
   "cell_type": "code",
   "execution_count": 10,
   "metadata": {
    "execution": {
     "iopub.execute_input": "2023-10-16T17:54:13.140159Z",
     "iopub.status.busy": "2023-10-16T17:54:13.140024Z",
     "iopub.status.idle": "2023-10-16T17:54:13.141984Z",
     "shell.execute_reply": "2023-10-16T17:54:13.141637Z"
    },
    "slideshow": {
     "slide_type": "skip"
    }
   },
   "outputs": [],
   "source": [
    "from bookutils import quiz"
   ]
  },
  {
   "cell_type": "code",
   "execution_count": 11,
   "metadata": {
    "execution": {
     "iopub.execute_input": "2023-10-16T17:54:13.144486Z",
     "iopub.status.busy": "2023-10-16T17:54:13.144264Z",
     "iopub.status.idle": "2023-10-16T17:54:13.150451Z",
     "shell.execute_reply": "2023-10-16T17:54:13.150050Z"
    },
    "slideshow": {
     "slide_type": "fragment"
    }
   },
   "outputs": [
    {
     "data": {
      "text/html": [
       "\n",
       "    \n",
       "    <script>\n",
       "    var bad_answers = new Map();\n",
       "\n",
       "    function answer(quiz_id) {\n",
       "        ans = 0;\n",
       "        for (i = 1;; i++) {\n",
       "            checkbox = document.getElementById(quiz_id + \"-\" + i.toString());\n",
       "            if (!checkbox)\n",
       "                break;\n",
       "            if (checkbox.checked)\n",
       "                ans |= (1 << i);\n",
       "        }\n",
       "        return ans;\n",
       "    }\n",
       "    function check_selection(quiz_id, correct_answer, multiple_choice, hint) {\n",
       "        given_answer = answer(quiz_id);\n",
       "        if (given_answer == correct_answer)\n",
       "        {\n",
       "            document.getElementById(quiz_id + \"-submit\").value = \"Correct!\";\n",
       "            document.getElementById(quiz_id + \"-hint\").innerHTML = \"\";\n",
       "\n",
       "            for (i = 1;; i++) {\n",
       "                checkbox = document.getElementById(quiz_id + \"-\" + i.toString());\n",
       "                label = document.getElementById(quiz_id + \"-\" + i.toString() + \"-label\")\n",
       "                if (!checkbox)\n",
       "                    break;\n",
       "    \n",
       "                if (checkbox.checked) {\n",
       "                    label.style.fontWeight = \"bold\";\n",
       "                }\n",
       "                else {\n",
       "                    label.style.textDecoration = \"line-through\";\n",
       "                }\n",
       "            }\n",
       "        }\n",
       "        else \n",
       "        {\n",
       "            document.getElementById(quiz_id + \"-submit\").value = \"Try again\";\n",
       "            \n",
       "            if (!bad_answers.has(quiz_id)) {\n",
       "                bad_answers.set(quiz_id, 1);\n",
       "            }\n",
       "            else {\n",
       "                bad_answers.set(quiz_id, bad_answers.get(quiz_id) + 1);\n",
       "            }\n",
       "\n",
       "            if (bad_answers.get(quiz_id) >= 2 && hint.length > 0) {\n",
       "                document.getElementById(quiz_id + \"-hint\").innerHTML = \n",
       "                    \"&nbsp;&nbsp;(Hint: <code>\" + hint + \"</code>)\";\n",
       "            }\n",
       "\n",
       "            if (!multiple_choice) {\n",
       "                for (i = 1;; i++) {\n",
       "                    checkbox = document.getElementById(quiz_id + \"-\" + i.toString());\n",
       "                    label = document.getElementById(quiz_id + \"-\" + i.toString() + \"-label\")\n",
       "\n",
       "                    if (!checkbox)\n",
       "                        break;\n",
       "                    if (checkbox.checked) {\n",
       "                        label.style.textDecoration = \"line-through\";\n",
       "                    }\n",
       "                }\n",
       "            }\n",
       "        }\n",
       "    }\n",
       "    function clear_selection(quiz_id) {\n",
       "        document.getElementById(quiz_id + \"-submit\").value = \"Submit\";\n",
       "        document.getElementById(quiz_id + \"-hint\").innerHTML = \"\";\n",
       "    }\n",
       "    </script>\n",
       "    \n",
       "    <div class=\"quiz\">\n",
       "    <h3 class=\"quiz_title\">Quiz</h3>\n",
       "    <p>\n",
       "    <div class=\"quiz_question\">Donald J. Knuth said: \"Premature optimization...\"</div>\n",
       "    </p>\n",
       "    <p>\n",
       "    <div class=\"quiz_options\" title=\"Pick a choice.\">\n",
       "    \n",
       "        <input type=\"radio\" name=\"040f3d42-6c4d-11ee-80ba-6298cf1a578f\" id=\"040f3d42-6c4d-11ee-80ba-6298cf1a578f-1\" onclick=\"clear_selection('040f3d42-6c4d-11ee-80ba-6298cf1a578f')\">\n",
       "        <label id=\"040f3d42-6c4d-11ee-80ba-6298cf1a578f-1-label\" for=\"040f3d42-6c4d-11ee-80ba-6298cf1a578f-1\">... is the root of all evil</label><br>\n",
       "    \n",
       "        <input type=\"radio\" name=\"040f3d42-6c4d-11ee-80ba-6298cf1a578f\" id=\"040f3d42-6c4d-11ee-80ba-6298cf1a578f-2\" onclick=\"clear_selection('040f3d42-6c4d-11ee-80ba-6298cf1a578f')\">\n",
       "        <label id=\"040f3d42-6c4d-11ee-80ba-6298cf1a578f-2-label\" for=\"040f3d42-6c4d-11ee-80ba-6298cf1a578f-2\">... requires lots of experience</label><br>\n",
       "    \n",
       "        <input type=\"radio\" name=\"040f3d42-6c4d-11ee-80ba-6298cf1a578f\" id=\"040f3d42-6c4d-11ee-80ba-6298cf1a578f-3\" onclick=\"clear_selection('040f3d42-6c4d-11ee-80ba-6298cf1a578f')\">\n",
       "        <label id=\"040f3d42-6c4d-11ee-80ba-6298cf1a578f-3-label\" for=\"040f3d42-6c4d-11ee-80ba-6298cf1a578f-3\">... should be left to assembly programmers</label><br>\n",
       "    \n",
       "        <input type=\"radio\" name=\"040f3d42-6c4d-11ee-80ba-6298cf1a578f\" id=\"040f3d42-6c4d-11ee-80ba-6298cf1a578f-4\" onclick=\"clear_selection('040f3d42-6c4d-11ee-80ba-6298cf1a578f')\">\n",
       "        <label id=\"040f3d42-6c4d-11ee-80ba-6298cf1a578f-4-label\" for=\"040f3d42-6c4d-11ee-80ba-6298cf1a578f-4\">... is the reason why TeX is so fast</label><br>\n",
       "    \n",
       "    </div>\n",
       "    </p>\n",
       "    <input id=\"040f3d42-6c4d-11ee-80ba-6298cf1a578f-submit\" type=\"submit\" value=\"Submit\" onclick=\"check_selection('040f3d42-6c4d-11ee-80ba-6298cf1a578f', 2, 0, 'len(&quot;METAFONT&quot;) - len(&quot;TeX&quot;) - len(&quot;CWEB&quot;)')\">\n",
       "    <span class=\"quiz_hint\" id=\"040f3d42-6c4d-11ee-80ba-6298cf1a578f-hint\"></span>\n",
       "    </div>\n",
       "    "
      ],
      "text/plain": [
       "<IPython.core.display.HTML object>"
      ]
     },
     "execution_count": 11,
     "metadata": {},
     "output_type": "execute_result"
    }
   ],
   "source": [
    "quiz('Donald J. Knuth said: \"Premature optimization...\"',\n",
    "    [\n",
    "        \"... is the root of all evil\",\n",
    "        \"... requires lots of experience\",\n",
    "        \"... should be left to assembly programmers\",\n",
    "        \"... is the reason why TeX is so fast\",\n",
    "    ], 'len(\"METAFONT\") - len(\"TeX\") - len(\"CWEB\")')"
   ]
  },
  {
   "cell_type": "markdown",
   "metadata": {
    "slideshow": {
     "slide_type": "subslide"
    }
   },
   "source": [
    "This quote should always remind us that after a good design, you should always _first_ measure and _then_ optimize."
   ]
  },
  {
   "cell_type": "markdown",
   "metadata": {
    "slideshow": {
     "slide_type": "slide"
    }
   },
   "source": [
    "## Building a Profiler\n",
    "\n",
    "Having discussed profilers from a _user_ perspective, let us now dive into how they are actually implemented. It turns out we can use most of our existing infrastructure to implement a simple tracing profiler with only a few lines of code."
   ]
  },
  {
   "cell_type": "markdown",
   "metadata": {
    "slideshow": {
     "slide_type": "fragment"
    }
   },
   "source": [
    "The program we will apply our profiler on is – surprise! – our ongoing example, `remove_html_markup()`. Our aim is to understand how much time is spent _in each line of the code_ (such that we have a new feature on top of Python `cProfile`)."
   ]
  },
  {
   "cell_type": "code",
   "execution_count": 12,
   "metadata": {
    "execution": {
     "iopub.execute_input": "2023-10-16T17:54:13.153264Z",
     "iopub.status.busy": "2023-10-16T17:54:13.153080Z",
     "iopub.status.idle": "2023-10-16T17:54:13.155368Z",
     "shell.execute_reply": "2023-10-16T17:54:13.154904Z"
    },
    "slideshow": {
     "slide_type": "skip"
    }
   },
   "outputs": [],
   "source": [
    "from Intro_Debugging import remove_html_markup"
   ]
  },
  {
   "cell_type": "code",
   "execution_count": 13,
   "metadata": {
    "execution": {
     "iopub.execute_input": "2023-10-16T17:54:13.157917Z",
     "iopub.status.busy": "2023-10-16T17:54:13.157696Z",
     "iopub.status.idle": "2023-10-16T17:54:13.159674Z",
     "shell.execute_reply": "2023-10-16T17:54:13.159335Z"
    },
    "slideshow": {
     "slide_type": "fragment"
    }
   },
   "outputs": [],
   "source": [
    "# ignore\n",
    "from typing import Any, Optional, Type, Dict, Tuple, List"
   ]
  },
  {
   "cell_type": "code",
   "execution_count": 14,
   "metadata": {
    "execution": {
     "iopub.execute_input": "2023-10-16T17:54:13.161699Z",
     "iopub.status.busy": "2023-10-16T17:54:13.161539Z",
     "iopub.status.idle": "2023-10-16T17:54:13.163649Z",
     "shell.execute_reply": "2023-10-16T17:54:13.163166Z"
    },
    "slideshow": {
     "slide_type": "fragment"
    }
   },
   "outputs": [],
   "source": [
    "# ignore\n",
    "from bookutils import print_content"
   ]
  },
  {
   "cell_type": "code",
   "execution_count": 15,
   "metadata": {
    "execution": {
     "iopub.execute_input": "2023-10-16T17:54:13.165922Z",
     "iopub.status.busy": "2023-10-16T17:54:13.165764Z",
     "iopub.status.idle": "2023-10-16T17:54:13.167633Z",
     "shell.execute_reply": "2023-10-16T17:54:13.167300Z"
    },
    "slideshow": {
     "slide_type": "subslide"
    }
   },
   "outputs": [],
   "source": [
    "# ignore\n",
    "import inspect"
   ]
  },
  {
   "cell_type": "code",
   "execution_count": 16,
   "metadata": {
    "execution": {
     "iopub.execute_input": "2023-10-16T17:54:13.170031Z",
     "iopub.status.busy": "2023-10-16T17:54:13.169831Z",
     "iopub.status.idle": "2023-10-16T17:54:13.276606Z",
     "shell.execute_reply": "2023-10-16T17:54:13.276185Z"
    },
    "slideshow": {
     "slide_type": "subslide"
    }
   },
   "outputs": [
    {
     "name": "stdout",
     "output_type": "stream",
     "text": [
      "238  \u001b[34mdef\u001b[39;49;00m \u001b[32mremove_html_markup\u001b[39;49;00m(s):  \u001b[37m# type: ignore\u001b[39;49;00m\u001b[37m\u001b[39;49;00m\n",
      "239      tag = \u001b[34mFalse\u001b[39;49;00m\u001b[37m\u001b[39;49;00m\n",
      "240      quote = \u001b[34mFalse\u001b[39;49;00m\u001b[37m\u001b[39;49;00m\n",
      "241      out = \u001b[33m\"\u001b[39;49;00m\u001b[33m\"\u001b[39;49;00m\u001b[37m\u001b[39;49;00m\n",
      "242  \u001b[37m\u001b[39;49;00m\n",
      "243      \u001b[34mfor\u001b[39;49;00m c \u001b[35min\u001b[39;49;00m s:\u001b[37m\u001b[39;49;00m\n",
      "244          \u001b[34massert\u001b[39;49;00m tag \u001b[35mor\u001b[39;49;00m \u001b[35mnot\u001b[39;49;00m quote\u001b[37m\u001b[39;49;00m\n",
      "245  \u001b[37m\u001b[39;49;00m\n",
      "246          \u001b[34mif\u001b[39;49;00m c == \u001b[33m'\u001b[39;49;00m\u001b[33m<\u001b[39;49;00m\u001b[33m'\u001b[39;49;00m \u001b[35mand\u001b[39;49;00m \u001b[35mnot\u001b[39;49;00m quote:\u001b[37m\u001b[39;49;00m\n",
      "247              tag = \u001b[34mTrue\u001b[39;49;00m\u001b[37m\u001b[39;49;00m\n",
      "248          \u001b[34melif\u001b[39;49;00m c == \u001b[33m'\u001b[39;49;00m\u001b[33m>\u001b[39;49;00m\u001b[33m'\u001b[39;49;00m \u001b[35mand\u001b[39;49;00m \u001b[35mnot\u001b[39;49;00m quote:\u001b[37m\u001b[39;49;00m\n",
      "249              tag = \u001b[34mFalse\u001b[39;49;00m\u001b[37m\u001b[39;49;00m\n",
      "250          \u001b[34melif\u001b[39;49;00m (c == \u001b[33m'\u001b[39;49;00m\u001b[33m\"\u001b[39;49;00m\u001b[33m'\u001b[39;49;00m \u001b[35mor\u001b[39;49;00m c == \u001b[33m\"\u001b[39;49;00m\u001b[33m'\u001b[39;49;00m\u001b[33m\"\u001b[39;49;00m) \u001b[35mand\u001b[39;49;00m tag:\u001b[37m\u001b[39;49;00m\n",
      "251              quote = \u001b[35mnot\u001b[39;49;00m quote\u001b[37m\u001b[39;49;00m\n",
      "252          \u001b[34melif\u001b[39;49;00m \u001b[35mnot\u001b[39;49;00m tag:\u001b[37m\u001b[39;49;00m\n",
      "253              out = out + c\u001b[37m\u001b[39;49;00m\n",
      "254  \u001b[37m\u001b[39;49;00m\n",
      "255      \u001b[34mreturn\u001b[39;49;00m out\u001b[37m\u001b[39;49;00m"
     ]
    }
   ],
   "source": [
    "print_content(inspect.getsource(remove_html_markup), '.py',\n",
    "              start_line_number=238)"
   ]
  },
  {
   "cell_type": "markdown",
   "metadata": {
    "slideshow": {
     "slide_type": "subslide"
    }
   },
   "source": [
    "We introduce a class `PerformanceTracer` that tracks, for each line in the code:\n",
    "\n",
    "* how _often_ it was executed (`hits`), and\n",
    "* _how much time_ was spent during its execution (`time`).\n",
    "\n",
    "To this end, we make use of our `Timer` class, which measures time, and the `Tracer` class from [the chapter on tracing](Tracer.ipynb), which allows us to track every line of the program as it is being executed."
   ]
  },
  {
   "cell_type": "code",
   "execution_count": 17,
   "metadata": {
    "execution": {
     "iopub.execute_input": "2023-10-16T17:54:13.278879Z",
     "iopub.status.busy": "2023-10-16T17:54:13.278760Z",
     "iopub.status.idle": "2023-10-16T17:54:13.280520Z",
     "shell.execute_reply": "2023-10-16T17:54:13.280214Z"
    },
    "slideshow": {
     "slide_type": "skip"
    }
   },
   "outputs": [],
   "source": [
    "from Tracer import Tracer"
   ]
  },
  {
   "attachments": {},
   "cell_type": "markdown",
   "metadata": {
    "slideshow": {
     "slide_type": "fragment"
    }
   },
   "source": [
    "In `PerformanceTracker`, the attributes `hits` and `time` are mappings indexed by unique locations – that is, pairs of function name and line number."
   ]
  },
  {
   "cell_type": "code",
   "execution_count": 18,
   "metadata": {
    "execution": {
     "iopub.execute_input": "2023-10-16T17:54:13.282662Z",
     "iopub.status.busy": "2023-10-16T17:54:13.282367Z",
     "iopub.status.idle": "2023-10-16T17:54:13.284235Z",
     "shell.execute_reply": "2023-10-16T17:54:13.283901Z"
    },
    "slideshow": {
     "slide_type": "fragment"
    }
   },
   "outputs": [],
   "source": [
    "Location = Tuple[str, int]"
   ]
  },
  {
   "cell_type": "code",
   "execution_count": 19,
   "metadata": {
    "execution": {
     "iopub.execute_input": "2023-10-16T17:54:13.286832Z",
     "iopub.status.busy": "2023-10-16T17:54:13.286378Z",
     "iopub.status.idle": "2023-10-16T17:54:13.289224Z",
     "shell.execute_reply": "2023-10-16T17:54:13.288888Z"
    },
    "slideshow": {
     "slide_type": "subslide"
    }
   },
   "outputs": [],
   "source": [
    "class PerformanceTracer(Tracer):\n",
    "    \"\"\"Trace time and #hits for individual program lines\"\"\"\n",
    "\n",
    "    def __init__(self) -> None:\n",
    "        \"\"\"Constructor.\"\"\"\n",
    "        super().__init__()\n",
    "        self.reset_timer()\n",
    "        self.hits: Dict[Location, int] = {}\n",
    "        self.time: Dict[Location, float] = {}\n",
    "\n",
    "    def reset_timer(self) -> None:\n",
    "        self.timer = Timer.Timer()"
   ]
  },
  {
   "cell_type": "markdown",
   "metadata": {
    "slideshow": {
     "slide_type": "subslide"
    }
   },
   "source": [
    "As common in this book, we want to use `PerformanceTracer` in a `with`-block around the function call(s) to be tracked:\n",
    "\n",
    "```python\n",
    "with PerformanceTracer() as perf_tracer:\n",
    "    function(...)\n",
    "```"
   ]
  },
  {
   "cell_type": "markdown",
   "metadata": {
    "slideshow": {
     "slide_type": "fragment"
    }
   },
   "source": [
    "When entering the `with` block (`__enter__()`), we reset all timers. Also, coming from the `__enter__()` method of the superclass `Tracer`, we enable tracing through the `traceit()` method."
   ]
  },
  {
   "cell_type": "code",
   "execution_count": 20,
   "metadata": {
    "execution": {
     "iopub.execute_input": "2023-10-16T17:54:13.291380Z",
     "iopub.status.busy": "2023-10-16T17:54:13.291264Z",
     "iopub.status.idle": "2023-10-16T17:54:13.293011Z",
     "shell.execute_reply": "2023-10-16T17:54:13.292677Z"
    },
    "slideshow": {
     "slide_type": "skip"
    }
   },
   "outputs": [],
   "source": [
    "from types import FrameType"
   ]
  },
  {
   "cell_type": "code",
   "execution_count": 21,
   "metadata": {
    "execution": {
     "iopub.execute_input": "2023-10-16T17:54:13.295478Z",
     "iopub.status.busy": "2023-10-16T17:54:13.295379Z",
     "iopub.status.idle": "2023-10-16T17:54:13.297289Z",
     "shell.execute_reply": "2023-10-16T17:54:13.296975Z"
    },
    "slideshow": {
     "slide_type": "subslide"
    }
   },
   "outputs": [],
   "source": [
    "class PerformanceTracer(PerformanceTracer):\n",
    "    def __enter__(self) -> Any:\n",
    "        \"\"\"Enter a `with` block.\"\"\"\n",
    "        super().__enter__()\n",
    "        self.reset_timer()\n",
    "        return self"
   ]
  },
  {
   "cell_type": "markdown",
   "metadata": {
    "slideshow": {
     "slide_type": "fragment"
    }
   },
   "source": [
    "The `traceit()` method extracts the current location. It increases the corresponding `hits` value by 1, and adds the elapsed time to the corresponding `time`."
   ]
  },
  {
   "cell_type": "code",
   "execution_count": 22,
   "metadata": {
    "execution": {
     "iopub.execute_input": "2023-10-16T17:54:13.298875Z",
     "iopub.status.busy": "2023-10-16T17:54:13.298775Z",
     "iopub.status.idle": "2023-10-16T17:54:13.301580Z",
     "shell.execute_reply": "2023-10-16T17:54:13.301236Z"
    },
    "slideshow": {
     "slide_type": "subslide"
    }
   },
   "outputs": [],
   "source": [
    "class PerformanceTracer(PerformanceTracer):\n",
    "    def traceit(self, frame: FrameType, event: str, arg: Any) -> None:\n",
    "        \"\"\"Tracing function; called for every line.\"\"\"\n",
    "        t = self.timer.elapsed_time()\n",
    "        location = (frame.f_code.co_name, frame.f_lineno)\n",
    "\n",
    "        self.hits.setdefault(location, 0)\n",
    "        self.time.setdefault(location, 0.0)\n",
    "        self.hits[location] += 1\n",
    "        self.time[location] += t\n",
    "\n",
    "        self.reset_timer()"
   ]
  },
  {
   "cell_type": "markdown",
   "metadata": {
    "slideshow": {
     "slide_type": "fragment"
    }
   },
   "source": [
    "This is it already. We can now determine where most time is spent in `remove_html_markup()`. We invoke it 10,000 times such that we can average over runs:"
   ]
  },
  {
   "cell_type": "code",
   "execution_count": 23,
   "metadata": {
    "execution": {
     "iopub.execute_input": "2023-10-16T17:54:13.303657Z",
     "iopub.status.busy": "2023-10-16T17:54:13.303473Z",
     "iopub.status.idle": "2023-10-16T17:54:14.222190Z",
     "shell.execute_reply": "2023-10-16T17:54:14.221870Z"
    },
    "slideshow": {
     "slide_type": "subslide"
    }
   },
   "outputs": [],
   "source": [
    "with PerformanceTracer() as perf_tracer:\n",
    "    for i in range(10000):\n",
    "        s = remove_html_markup('<b>foo</b>')"
   ]
  },
  {
   "cell_type": "markdown",
   "metadata": {
    "slideshow": {
     "slide_type": "fragment"
    }
   },
   "source": [
    "Here are the hits. For every line executed, we see how often it was executed. The most executed line is the `for` loop with 110,000 hits – once for each of the 10 characters in `<b>foo</b>`, once for the final check, and all of this 10,000 times."
   ]
  },
  {
   "cell_type": "code",
   "execution_count": 24,
   "metadata": {
    "execution": {
     "iopub.execute_input": "2023-10-16T17:54:14.224470Z",
     "iopub.status.busy": "2023-10-16T17:54:14.224351Z",
     "iopub.status.idle": "2023-10-16T17:54:14.227612Z",
     "shell.execute_reply": "2023-10-16T17:54:14.227242Z"
    },
    "slideshow": {
     "slide_type": "subslide"
    }
   },
   "outputs": [
    {
     "data": {
      "text/plain": [
       "{('__init__', 17): 1,\n",
       " ('__init__', 19): 1,\n",
       " ('clock', 8): 1,\n",
       " ('clock', 12): 2,\n",
       " ('__init__', 20): 2,\n",
       " ('remove_html_markup', 238): 10000,\n",
       " ('remove_html_markup', 239): 10000,\n",
       " ('remove_html_markup', 240): 10000,\n",
       " ('remove_html_markup', 241): 10000,\n",
       " ('remove_html_markup', 243): 110000,\n",
       " ('remove_html_markup', 244): 100000,\n",
       " ('remove_html_markup', 246): 100000,\n",
       " ('remove_html_markup', 247): 20000,\n",
       " ('remove_html_markup', 248): 80000,\n",
       " ('remove_html_markup', 250): 60000,\n",
       " ('remove_html_markup', 252): 60000,\n",
       " ('remove_html_markup', 249): 20000,\n",
       " ('remove_html_markup', 253): 30000,\n",
       " ('remove_html_markup', 255): 20000}"
      ]
     },
     "execution_count": 24,
     "metadata": {},
     "output_type": "execute_result"
    }
   ],
   "source": [
    "perf_tracer.hits"
   ]
  },
  {
   "cell_type": "markdown",
   "metadata": {
    "slideshow": {
     "slide_type": "subslide"
    }
   },
   "source": [
    "The `time` attribute collects how much time was spent in each line. Within the loop, again, the `for` statement takes the most time. The other lines show some variability, though."
   ]
  },
  {
   "cell_type": "code",
   "execution_count": 25,
   "metadata": {
    "execution": {
     "iopub.execute_input": "2023-10-16T17:54:14.229338Z",
     "iopub.status.busy": "2023-10-16T17:54:14.229232Z",
     "iopub.status.idle": "2023-10-16T17:54:14.231861Z",
     "shell.execute_reply": "2023-10-16T17:54:14.231590Z"
    },
    "slideshow": {
     "slide_type": "subslide"
    }
   },
   "outputs": [
    {
     "data": {
      "text/plain": [
       "{('__init__', 17): 1.6458012396469712e-05,\n",
       " ('__init__', 19): 1.4579854905605316e-06,\n",
       " ('clock', 8): 1.167005393654108e-06,\n",
       " ('clock', 12): 1.748994691297412e-06,\n",
       " ('__init__', 20): 1.9160215742886066e-06,\n",
       " ('remove_html_markup', 238): 0.011893703835085034,\n",
       " ('remove_html_markup', 239): 0.010870856116525829,\n",
       " ('remove_html_markup', 240): 0.010488050640560687,\n",
       " ('remove_html_markup', 241): 0.009995254484238103,\n",
       " ('remove_html_markup', 243): 0.09449535660678521,\n",
       " ('remove_html_markup', 244): 0.08344516655779444,\n",
       " ('remove_html_markup', 246): 0.082635611994192,\n",
       " ('remove_html_markup', 247): 0.0169743470614776,\n",
       " ('remove_html_markup', 248): 0.06655585853150114,\n",
       " ('remove_html_markup', 250): 0.049950716202147305,\n",
       " ('remove_html_markup', 252): 0.05181995438761078,\n",
       " ('remove_html_markup', 249): 0.016970621276414022,\n",
       " ('remove_html_markup', 253): 0.02457862056326121,\n",
       " ('remove_html_markup', 255): 0.01665549652534537}"
      ]
     },
     "execution_count": 25,
     "metadata": {},
     "output_type": "execute_result"
    }
   ],
   "source": [
    "perf_tracer.time"
   ]
  },
  {
   "cell_type": "markdown",
   "metadata": {
    "slideshow": {
     "slide_type": "subslide"
    }
   },
   "source": [
    "For a full profiler, these numbers would now be sorted and printed in a table, much like `cProfile` does. However, we will borrow some material from previous chapters and annotate our code accordingly."
   ]
  },
  {
   "cell_type": "markdown",
   "metadata": {
    "slideshow": {
     "slide_type": "slide"
    }
   },
   "source": [
    "## Visualizing Performance Metrics\n",
    "\n",
    "In the [chapter on statistical debugging](StatisticalDebugger.ipynb), we have encountered the `CoverageCollector` class, which collects line and function coverage during execution, using a `collect()` method that is invoked for every line. We will repurpose this class to collect arbitrary _metrics_ on the lines executed, notably time taken."
   ]
  },
  {
   "cell_type": "markdown",
   "metadata": {
    "slideshow": {
     "slide_type": "subslide"
    }
   },
   "source": [
    "### Collecting Time Spent"
   ]
  },
  {
   "cell_type": "code",
   "execution_count": 26,
   "metadata": {
    "execution": {
     "iopub.execute_input": "2023-10-16T17:54:14.233418Z",
     "iopub.status.busy": "2023-10-16T17:54:14.233314Z",
     "iopub.status.idle": "2023-10-16T17:54:14.234901Z",
     "shell.execute_reply": "2023-10-16T17:54:14.234631Z"
    },
    "slideshow": {
     "slide_type": "skip"
    }
   },
   "outputs": [],
   "source": [
    "from StatisticalDebugger import CoverageCollector, SpectrumDebugger"
   ]
  },
  {
   "cell_type": "markdown",
   "metadata": {
    "slideshow": {
     "slide_type": "fragment"
    }
   },
   "source": [
    "The `MetricCollector` class is an abstract superclass that provides an interface to access a particular metric."
   ]
  },
  {
   "cell_type": "code",
   "execution_count": 27,
   "metadata": {
    "execution": {
     "iopub.execute_input": "2023-10-16T17:54:14.236941Z",
     "iopub.status.busy": "2023-10-16T17:54:14.236822Z",
     "iopub.status.idle": "2023-10-16T17:54:14.238963Z",
     "shell.execute_reply": "2023-10-16T17:54:14.238636Z"
    },
    "slideshow": {
     "slide_type": "fragment"
    }
   },
   "outputs": [],
   "source": [
    "class MetricCollector(CoverageCollector):\n",
    "    \"\"\"Abstract superclass for collecting line-specific metrics\"\"\"\n",
    "\n",
    "    def metric(self, event: Any) -> Optional[float]:\n",
    "        \"\"\"Return a metric for an event, or none.\"\"\"\n",
    "        return None\n",
    "\n",
    "    def all_metrics(self, func: str) -> List[float]:\n",
    "        \"\"\"Return all metric for a function `func`.\"\"\"\n",
    "        return []"
   ]
  },
  {
   "cell_type": "markdown",
   "metadata": {
    "slideshow": {
     "slide_type": "fragment"
    }
   },
   "source": [
    "Given these metrics, we can also compute sums and maxima for a single function."
   ]
  },
  {
   "cell_type": "code",
   "execution_count": 28,
   "metadata": {
    "execution": {
     "iopub.execute_input": "2023-10-16T17:54:14.240627Z",
     "iopub.status.busy": "2023-10-16T17:54:14.240510Z",
     "iopub.status.idle": "2023-10-16T17:54:14.242631Z",
     "shell.execute_reply": "2023-10-16T17:54:14.242356Z"
    },
    "slideshow": {
     "slide_type": "subslide"
    }
   },
   "outputs": [],
   "source": [
    "class MetricCollector(MetricCollector):\n",
    "    def total(self, func: str) -> float:\n",
    "        return sum(self.all_metrics(func))\n",
    "\n",
    "    def maximum(self, func: str) -> float:\n",
    "        return max(self.all_metrics(func))"
   ]
  },
  {
   "cell_type": "markdown",
   "metadata": {
    "slideshow": {
     "slide_type": "fragment"
    }
   },
   "source": [
    "Let us instantiate this superclass into `TimeCollector` – a subclass that measures time. This is modeled after our `PerformanceTracer` class, above; notably, the `time` attribute serves the same role."
   ]
  },
  {
   "cell_type": "code",
   "execution_count": 29,
   "metadata": {
    "execution": {
     "iopub.execute_input": "2023-10-16T17:54:14.244343Z",
     "iopub.status.busy": "2023-10-16T17:54:14.244228Z",
     "iopub.status.idle": "2023-10-16T17:54:14.247460Z",
     "shell.execute_reply": "2023-10-16T17:54:14.247114Z"
    },
    "slideshow": {
     "slide_type": "subslide"
    }
   },
   "outputs": [],
   "source": [
    "class TimeCollector(MetricCollector):\n",
    "    \"\"\"Collect time executed for each line\"\"\"\n",
    "\n",
    "    def __init__(self) -> None:\n",
    "        \"\"\"Constructor\"\"\"\n",
    "        super().__init__()\n",
    "        self.reset_timer()\n",
    "        self.time: Dict[Location, float] = {}\n",
    "        self.add_items_to_ignore([Timer.Timer, Timer.clock])\n",
    "\n",
    "    def collect(self, frame: FrameType, event: str, arg: Any) -> None:\n",
    "        \"\"\"Invoked for every line executed. Accumulate time spent.\"\"\"\n",
    "        t = self.timer.elapsed_time()\n",
    "        super().collect(frame, event, arg)\n",
    "        location = (frame.f_code.co_name, frame.f_lineno)\n",
    "\n",
    "        self.time.setdefault(location, 0.0)\n",
    "        self.time[location] += t\n",
    "\n",
    "        self.reset_timer()\n",
    "\n",
    "    def reset_timer(self) -> None:\n",
    "        self.timer = Timer.Timer()\n",
    "\n",
    "    def __enter__(self) -> Any:\n",
    "        super().__enter__()\n",
    "        self.reset_timer()\n",
    "        return self"
   ]
  },
  {
   "cell_type": "markdown",
   "metadata": {
    "slideshow": {
     "slide_type": "subslide"
    }
   },
   "source": [
    "The `metric()` and `all_metrics()` methods accumulate the metric (time taken) for an individual function:"
   ]
  },
  {
   "cell_type": "code",
   "execution_count": 30,
   "metadata": {
    "execution": {
     "iopub.execute_input": "2023-10-16T17:54:14.249003Z",
     "iopub.status.busy": "2023-10-16T17:54:14.248894Z",
     "iopub.status.idle": "2023-10-16T17:54:14.251262Z",
     "shell.execute_reply": "2023-10-16T17:54:14.250965Z"
    },
    "slideshow": {
     "slide_type": "fragment"
    }
   },
   "outputs": [],
   "source": [
    "class TimeCollector(TimeCollector):\n",
    "    def metric(self, location: Any) -> Optional[float]:\n",
    "        if location in self.time:\n",
    "            return self.time[location]\n",
    "        else:\n",
    "            return None\n",
    "\n",
    "    def all_metrics(self, func: str) -> List[float]:\n",
    "        return [time\n",
    "                for (func_name, lineno), time in self.time.items()\n",
    "                if func_name == func]"
   ]
  },
  {
   "cell_type": "markdown",
   "metadata": {
    "slideshow": {
     "slide_type": "fragment"
    }
   },
   "source": [
    "Here's how to use `TimeCollector()` – again, in a `with` block:"
   ]
  },
  {
   "cell_type": "code",
   "execution_count": 31,
   "metadata": {
    "execution": {
     "iopub.execute_input": "2023-10-16T17:54:14.252794Z",
     "iopub.status.busy": "2023-10-16T17:54:14.252684Z",
     "iopub.status.idle": "2023-10-16T17:54:14.271485Z",
     "shell.execute_reply": "2023-10-16T17:54:14.271164Z"
    },
    "slideshow": {
     "slide_type": "subslide"
    }
   },
   "outputs": [],
   "source": [
    "with TimeCollector() as collector:\n",
    "    for i in range(100):\n",
    "        s = remove_html_markup('<b>foo</b>')"
   ]
  },
  {
   "cell_type": "markdown",
   "metadata": {
    "slideshow": {
     "slide_type": "fragment"
    }
   },
   "source": [
    "The `time` attribute holds the time spent in each line:"
   ]
  },
  {
   "cell_type": "code",
   "execution_count": 32,
   "metadata": {
    "execution": {
     "iopub.execute_input": "2023-10-16T17:54:14.273201Z",
     "iopub.status.busy": "2023-10-16T17:54:14.273092Z",
     "iopub.status.idle": "2023-10-16T17:54:14.275949Z",
     "shell.execute_reply": "2023-10-16T17:54:14.275661Z"
    },
    "slideshow": {
     "slide_type": "subslide"
    }
   },
   "outputs": [
    {
     "name": "stdout",
     "output_type": "stream",
     "text": [
      "('remove_html_markup', 238) 0.00020933587802574039\n",
      "('remove_html_markup', 239) 0.00019711896311491728\n",
      "('remove_html_markup', 240) 0.00017749998369254172\n",
      "('remove_html_markup', 241) 0.00016804001643322408\n",
      "('remove_html_markup', 243) 0.00158592956722714\n",
      "('remove_html_markup', 244) 0.00140239461325109\n",
      "('remove_html_markup', 246) 0.001411860139342025\n",
      "('remove_html_markup', 247) 0.00028288012254051864\n",
      "('remove_html_markup', 248) 0.0011271354160271585\n",
      "('remove_html_markup', 250) 0.0008634515106678009\n",
      "('remove_html_markup', 252) 0.000863444060087204\n",
      "('remove_html_markup', 249) 0.0002834143815562129\n",
      "('remove_html_markup', 253) 0.0004171640321146697\n",
      "('remove_html_markup', 255) 0.000281887041637674\n"
     ]
    }
   ],
   "source": [
    "for location, time_spent in collector.time.items():\n",
    "    print(location, time_spent)"
   ]
  },
  {
   "cell_type": "markdown",
   "metadata": {
    "slideshow": {
     "slide_type": "subslide"
    }
   },
   "source": [
    "And we can also create a total for an entire function:"
   ]
  },
  {
   "cell_type": "code",
   "execution_count": 33,
   "metadata": {
    "execution": {
     "iopub.execute_input": "2023-10-16T17:54:14.278011Z",
     "iopub.status.busy": "2023-10-16T17:54:14.277879Z",
     "iopub.status.idle": "2023-10-16T17:54:14.280175Z",
     "shell.execute_reply": "2023-10-16T17:54:14.279813Z"
    },
    "slideshow": {
     "slide_type": "fragment"
    }
   },
   "outputs": [
    {
     "data": {
      "text/plain": [
       "0.009271555725717917"
      ]
     },
     "execution_count": 33,
     "metadata": {},
     "output_type": "execute_result"
    }
   ],
   "source": [
    "collector.total('remove_html_markup')"
   ]
  },
  {
   "cell_type": "markdown",
   "metadata": {
    "slideshow": {
     "slide_type": "subslide"
    }
   },
   "source": [
    "### Visualizing Time Spent\n",
    "\n",
    "Let us now go and visualize these numbers in a simple form. The idea is to assign each line a _color_ whose saturation indicates the time spent in that line relative to the time spent in the function overall  – the higher the fraction, the darker the line. We create a `MetricDebugger` class built as a specialization of `SpectrumDebugger`, in which `suspiciousness()` and `color()` are repurposed to show these metrics."
   ]
  },
  {
   "cell_type": "code",
   "execution_count": 34,
   "metadata": {
    "execution": {
     "iopub.execute_input": "2023-10-16T17:54:14.282221Z",
     "iopub.status.busy": "2023-10-16T17:54:14.282084Z",
     "iopub.status.idle": "2023-10-16T17:54:14.286350Z",
     "shell.execute_reply": "2023-10-16T17:54:14.286057Z"
    },
    "slideshow": {
     "slide_type": "subslide"
    }
   },
   "outputs": [],
   "source": [
    "class MetricDebugger(SpectrumDebugger):\n",
    "    \"\"\"Visualize a metric\"\"\"\n",
    "\n",
    "    def metric(self, location: Location) -> float:\n",
    "        sum = 0.0\n",
    "        for outcome in self.collectors:\n",
    "            for collector in self.collectors[outcome]:\n",
    "                assert isinstance(collector, MetricCollector)\n",
    "                m = collector.metric(location)\n",
    "                if m is not None:\n",
    "                    sum += m  # type: ignore\n",
    "\n",
    "        return sum\n",
    "\n",
    "    def total(self, func_name: str) -> float:\n",
    "        total = 0.0\n",
    "        for outcome in self.collectors:\n",
    "            for collector in self.collectors[outcome]:\n",
    "                assert isinstance(collector, MetricCollector)\n",
    "                total += sum(collector.all_metrics(func_name))\n",
    "\n",
    "        return total\n",
    "\n",
    "    def maximum(self, func_name: str) -> float:\n",
    "        maximum = 0.0\n",
    "        for outcome in self.collectors:\n",
    "            for collector in self.collectors[outcome]:\n",
    "                assert isinstance(collector, MetricCollector)\n",
    "                maximum = max(maximum, \n",
    "                              max(collector.all_metrics(func_name)))\n",
    "\n",
    "        return maximum\n",
    "\n",
    "    def suspiciousness(self, location: Location) -> float:\n",
    "        func_name, _ = location\n",
    "        return self.metric(location) / self.total(func_name)\n",
    "\n",
    "    def color(self, location: Location) -> str:\n",
    "        func_name, _ = location\n",
    "        hue = 240  # blue\n",
    "        saturation = 100  # fully saturated\n",
    "        darkness = self.metric(location) / self.maximum(func_name)\n",
    "        lightness = 100 - darkness * 25\n",
    "        return f\"hsl({hue}, {saturation}%, {lightness}%)\"\n",
    "\n",
    "    def tooltip(self, location: Location) -> str:\n",
    "        return f\"{super().tooltip(location)} {self.metric(location)}\""
   ]
  },
  {
   "cell_type": "markdown",
   "metadata": {
    "slideshow": {
     "slide_type": "subslide"
    }
   },
   "source": [
    "We can now introduce `PerformanceDebugger` as a subclass of `MetricDebugger`, using an arbitrary `MetricCollector` (such as `TimeCollector`) to obtain the metric we want to visualize."
   ]
  },
  {
   "cell_type": "code",
   "execution_count": 35,
   "metadata": {
    "execution": {
     "iopub.execute_input": "2023-10-16T17:54:14.288263Z",
     "iopub.status.busy": "2023-10-16T17:54:14.288144Z",
     "iopub.status.idle": "2023-10-16T17:54:14.290221Z",
     "shell.execute_reply": "2023-10-16T17:54:14.289928Z"
    },
    "slideshow": {
     "slide_type": "fragment"
    }
   },
   "outputs": [],
   "source": [
    "class PerformanceDebugger(MetricDebugger):\n",
    "    \"\"\"Collect and visualize a metric\"\"\"\n",
    "\n",
    "    def __init__(self, collector_class: Type, log: bool = False):\n",
    "        assert issubclass(collector_class, MetricCollector)\n",
    "        super().__init__(collector_class, log=log)"
   ]
  },
  {
   "cell_type": "markdown",
   "metadata": {
    "slideshow": {
     "slide_type": "fragment"
    }
   },
   "source": [
    "With `PerformanceDebugger`, we inherit all the capabilities of `SpectrumDebugger`, such as showing the (relative) percentage of time spent in a table. We see that the `for` condition and the following `assert` take most of the time, followed by the first condition."
   ]
  },
  {
   "cell_type": "code",
   "execution_count": 36,
   "metadata": {
    "execution": {
     "iopub.execute_input": "2023-10-16T17:54:14.292101Z",
     "iopub.status.busy": "2023-10-16T17:54:14.291989Z",
     "iopub.status.idle": "2023-10-16T17:54:14.311582Z",
     "shell.execute_reply": "2023-10-16T17:54:14.311325Z"
    },
    "slideshow": {
     "slide_type": "subslide"
    }
   },
   "outputs": [],
   "source": [
    "with PerformanceDebugger(TimeCollector) as debugger:\n",
    "    for i in range(100):\n",
    "        s = remove_html_markup('<b>foo</b>')"
   ]
  },
  {
   "cell_type": "code",
   "execution_count": 37,
   "metadata": {
    "execution": {
     "iopub.execute_input": "2023-10-16T17:54:14.313661Z",
     "iopub.status.busy": "2023-10-16T17:54:14.313554Z",
     "iopub.status.idle": "2023-10-16T17:54:14.315724Z",
     "shell.execute_reply": "2023-10-16T17:54:14.315496Z"
    },
    "slideshow": {
     "slide_type": "subslide"
    }
   },
   "outputs": [
    {
     "name": "stdout",
     "output_type": "stream",
     "text": [
      " 238   2% def remove_html_markup(s):  # type: ignore\n",
      " 239   2%     tag = False\n",
      " 240   1%     quote = False\n",
      " 241   1%     out = \"\"\n",
      " 242   0%\n",
      " 243  17%     for c in s:\n",
      " 244  15%         assert tag or not quote\n",
      " 245   0%\n",
      " 246  14%         if c == '<' and not quote:\n",
      " 247   3%             tag = True\n",
      " 248  12%         elif c == '>' and not quote:\n",
      " 249   3%             tag = False\n",
      " 250   9%         elif (c == '\"' or c == \"'\") and tag:\n",
      " 251   0%             quote = not quote\n",
      " 252   9%         elif not tag:\n",
      " 253   4%             out = out + c\n",
      " 254   0%\n",
      " 255   2%     return out\n",
      "\n"
     ]
    }
   ],
   "source": [
    "print(debugger)"
   ]
  },
  {
   "cell_type": "markdown",
   "metadata": {
    "slideshow": {
     "slide_type": "subslide"
    }
   },
   "source": [
    "However, we can also visualize these percentages, using shades of blue to indicate those lines most time spent in:"
   ]
  },
  {
   "cell_type": "code",
   "execution_count": 38,
   "metadata": {
    "execution": {
     "iopub.execute_input": "2023-10-16T17:54:14.317724Z",
     "iopub.status.busy": "2023-10-16T17:54:14.317452Z",
     "iopub.status.idle": "2023-10-16T17:54:14.321030Z",
     "shell.execute_reply": "2023-10-16T17:54:14.320713Z"
    },
    "slideshow": {
     "slide_type": "subslide"
    }
   },
   "outputs": [
    {
     "data": {
      "text/html": [
       "<pre style=\"background-color:hsl(240, 100%, 96.78478078268036%)\"\n",
       "                    title=\"Line 238:   2% 0.000236121763009578\"> 238 def remove_html_markup(s):  # type: ignore</pre>\n",
       "<pre style=\"background-color:hsl(240, 100%, 96.99247796108988%)\"\n",
       "                    title=\"Line 239:   2% 0.00022086873650550842\"> 239     tag = False</pre>\n",
       "<pre style=\"background-color:hsl(240, 100%, 97.14784523123886%)\"\n",
       "                    title=\"Line 240:   1% 0.00020945875439792871\"> 240     quote = False</pre>\n",
       "<pre style=\"background-color:hsl(240, 100%, 97.30838382784144%)\"\n",
       "                    title=\"Line 241:   1% 0.0001976689964067191\"> 241     out = &quot;&quot;</pre>\n",
       "<pre style=\"background-color:hsl(240, 100%, 100.0%)\"\n",
       "                    title=\"Line 242:   0% 0.0\"> 242 &nbsp;</pre>\n",
       "<pre style=\"background-color:hsl(240, 100%, 75.0%)\"\n",
       "                    title=\"Line 243:  17% 0.0018359693931415677\"> 243     for c in s:</pre>\n",
       "<pre style=\"background-color:hsl(240, 100%, 77.21713815235279%)\"\n",
       "                    title=\"Line 244:  15% 0.0016731454816181213\"> 244         assert tag or not quote</pre>\n",
       "<pre style=\"background-color:hsl(240, 100%, 100.0%)\"\n",
       "                    title=\"Line 245:   0% 0.0\"> 245 &nbsp;</pre>\n",
       "<pre style=\"background-color:hsl(240, 100%, 78.16291863530307%)\"\n",
       "                    title=\"Line 246:  14% 0.0016036885208450258\"> 246         if c == &#x27;&lt;&#x27; and not quote:</pre>\n",
       "<pre style=\"background-color:hsl(240, 100%, 95.60290937264855%)\"\n",
       "                    title=\"Line 247:   3% 0.00032291695242747664\"> 247             tag = True</pre>\n",
       "<pre style=\"background-color:hsl(240, 100%, 82.38777821332093%)\"\n",
       "                    title=\"Line 248:  12% 0.0012934200058225542\"> 248         elif c == &#x27;&gt;&#x27; and not quote:</pre>\n",
       "<pre style=\"background-color:hsl(240, 100%, 95.51046393674105%)\"\n",
       "                    title=\"Line 249:   3% 0.00032970603206194937\"> 249             tag = False</pre>\n",
       "<pre style=\"background-color:hsl(240, 100%, 85.85624619194759%)\"\n",
       "                    title=\"Line 250:   9% 0.0010386999638285488\"> 250         elif (c == &#x27;&quot;&#x27; or c == &quot;&#x27;&quot;) and tag:</pre>\n",
       "<pre style=\"background-color:hsl(240, 100%, 100.0%)\"\n",
       "                    title=\"Line 251:   0% 0.0\"> 251             quote = not quote</pre>\n",
       "<pre style=\"background-color:hsl(240, 100%, 86.51466515104411%)\"\n",
       "                    title=\"Line 252:   9% 0.0009903464815579355\"> 252         elif not tag:</pre>\n",
       "<pre style=\"background-color:hsl(240, 100%, 93.52005173212845%)\"\n",
       "                    title=\"Line 253:   4% 0.0004758794675581157\"> 253             out = out + c</pre>\n",
       "<pre style=\"background-color:hsl(240, 100%, 100.0%)\"\n",
       "                    title=\"Line 254:   0% 0.0\"> 254 &nbsp;</pre>\n",
       "<pre style=\"background-color:hsl(240, 100%, 95.65061881228141%)\"\n",
       "                    title=\"Line 255:   2% 0.00031941322959028184\"> 255     return out</pre>\n"
      ],
      "text/markdown": [
       "| `remove_html_markup` | `s='<b>foo</b>'` | \n",
       "| ---------------------- | ---- | \n",
       "| <samp style=\"background-color: hsl(240, 100%, 96.78478078268036%)\" title=\"  2% 0.000236121763009578\">remove_html_markup:238</samp> |    X | \n",
       "| <samp style=\"background-color: hsl(240, 100%, 96.99247796108988%)\" title=\"  2% 0.00022086873650550842\">remove_html_markup:239</samp> |    X | \n",
       "| <samp style=\"background-color: hsl(240, 100%, 97.14784523123886%)\" title=\"  1% 0.00020945875439792871\">remove_html_markup:240</samp> |    X | \n",
       "| <samp style=\"background-color: hsl(240, 100%, 97.30838382784144%)\" title=\"  1% 0.0001976689964067191\">remove_html_markup:241</samp> |    X | \n",
       "| <samp style=\"background-color: hsl(240, 100%, 75.0%)\" title=\" 17% 0.0018359693931415677\">remove_html_markup:243</samp> |    X | \n",
       "| <samp style=\"background-color: hsl(240, 100%, 77.21713815235279%)\" title=\" 15% 0.0016731454816181213\">remove_html_markup:244</samp> |    X | \n",
       "| <samp style=\"background-color: hsl(240, 100%, 78.16291863530307%)\" title=\" 14% 0.0016036885208450258\">remove_html_markup:246</samp> |    X | \n",
       "| <samp style=\"background-color: hsl(240, 100%, 95.60290937264855%)\" title=\"  3% 0.00032291695242747664\">remove_html_markup:247</samp> |    X | \n",
       "| <samp style=\"background-color: hsl(240, 100%, 82.38777821332093%)\" title=\" 12% 0.0012934200058225542\">remove_html_markup:248</samp> |    X | \n",
       "| <samp style=\"background-color: hsl(240, 100%, 95.51046393674105%)\" title=\"  3% 0.00032970603206194937\">remove_html_markup:249</samp> |    X | \n",
       "| <samp style=\"background-color: hsl(240, 100%, 85.85624619194759%)\" title=\"  9% 0.0010386999638285488\">remove_html_markup:250</samp> |    X | \n",
       "| <samp style=\"background-color: hsl(240, 100%, 86.51466515104411%)\" title=\"  9% 0.0009903464815579355\">remove_html_markup:252</samp> |    X | \n",
       "| <samp style=\"background-color: hsl(240, 100%, 93.52005173212845%)\" title=\"  4% 0.0004758794675581157\">remove_html_markup:253</samp> |    X | \n",
       "| <samp style=\"background-color: hsl(240, 100%, 95.65061881228141%)\" title=\"  2% 0.00031941322959028184\">remove_html_markup:255</samp> |    X | \n"
      ],
      "text/plain": [
       " 238   2% def remove_html_markup(s):  # type: ignore\n",
       " 239   2%     tag = False\n",
       " 240   1%     quote = False\n",
       " 241   1%     out = \"\"\n",
       " 242   0%\n",
       " 243  17%     for c in s:\n",
       " 244  15%         assert tag or not quote\n",
       " 245   0%\n",
       " 246  14%         if c == '<' and not quote:\n",
       " 247   3%             tag = True\n",
       " 248  12%         elif c == '>' and not quote:\n",
       " 249   3%             tag = False\n",
       " 250   9%         elif (c == '\"' or c == \"'\") and tag:\n",
       " 251   0%             quote = not quote\n",
       " 252   9%         elif not tag:\n",
       " 253   4%             out = out + c\n",
       " 254   0%\n",
       " 255   2%     return out"
      ]
     },
     "execution_count": 38,
     "metadata": {},
     "output_type": "execute_result"
    }
   ],
   "source": [
    "debugger"
   ]
  },
  {
   "cell_type": "markdown",
   "metadata": {
    "slideshow": {
     "slide_type": "subslide"
    }
   },
   "source": [
    "### Other Metrics\n",
    "\n",
    "Our framework is flexible enough to collect (and visualize) arbitrary metrics. This `HitCollector` class, for instance, collects how often a line is being executed."
   ]
  },
  {
   "cell_type": "code",
   "execution_count": 39,
   "metadata": {
    "execution": {
     "iopub.execute_input": "2023-10-16T17:54:14.322647Z",
     "iopub.status.busy": "2023-10-16T17:54:14.322534Z",
     "iopub.status.idle": "2023-10-16T17:54:14.325707Z",
     "shell.execute_reply": "2023-10-16T17:54:14.325451Z"
    },
    "slideshow": {
     "slide_type": "subslide"
    }
   },
   "outputs": [],
   "source": [
    "class HitCollector(MetricCollector):\n",
    "    \"\"\"Collect how often a line is executed\"\"\"\n",
    "\n",
    "    def __init__(self) -> None:\n",
    "        super().__init__()\n",
    "        self.hits: Dict[Location, int] = {}\n",
    "\n",
    "    def collect(self, frame: FrameType, event: str, arg: Any) -> None:\n",
    "        super().collect(frame, event, arg)\n",
    "        location = (frame.f_code.co_name, frame.f_lineno)\n",
    "\n",
    "        self.hits.setdefault(location, 0)\n",
    "        self.hits[location] += 1\n",
    "\n",
    "    def metric(self, location: Location) -> Optional[int]:\n",
    "        if location in self.hits:\n",
    "            return self.hits[location]\n",
    "        else:\n",
    "            return None\n",
    "\n",
    "    def all_metrics(self, func: str) -> List[float]:\n",
    "        return [hits\n",
    "                for (func_name, lineno), hits in self.hits.items()\n",
    "                if func_name == func]"
   ]
  },
  {
   "cell_type": "markdown",
   "metadata": {
    "slideshow": {
     "slide_type": "subslide"
    }
   },
   "source": [
    "We can plug in this class into `PerformanceDebugger` to obtain a distribution of lines executed:"
   ]
  },
  {
   "cell_type": "code",
   "execution_count": 40,
   "metadata": {
    "execution": {
     "iopub.execute_input": "2023-10-16T17:54:14.327368Z",
     "iopub.status.busy": "2023-10-16T17:54:14.327243Z",
     "iopub.status.idle": "2023-10-16T17:54:14.341104Z",
     "shell.execute_reply": "2023-10-16T17:54:14.340802Z"
    },
    "slideshow": {
     "slide_type": "fragment"
    }
   },
   "outputs": [],
   "source": [
    "with PerformanceDebugger(HitCollector) as debugger:\n",
    "    for i in range(100):\n",
    "        s = remove_html_markup('<b>foo</b>')"
   ]
  },
  {
   "cell_type": "markdown",
   "metadata": {
    "slideshow": {
     "slide_type": "fragment"
    }
   },
   "source": [
    "In total, during this call to `remove_html_markup()`, there are 6,400 lines executed:"
   ]
  },
  {
   "cell_type": "code",
   "execution_count": 41,
   "metadata": {
    "execution": {
     "iopub.execute_input": "2023-10-16T17:54:14.343477Z",
     "iopub.status.busy": "2023-10-16T17:54:14.343332Z",
     "iopub.status.idle": "2023-10-16T17:54:14.345631Z",
     "shell.execute_reply": "2023-10-16T17:54:14.345331Z"
    },
    "slideshow": {
     "slide_type": "fragment"
    }
   },
   "outputs": [
    {
     "data": {
      "text/plain": [
       "6400.0"
      ]
     },
     "execution_count": 41,
     "metadata": {},
     "output_type": "execute_result"
    }
   ],
   "source": [
    "debugger.total('remove_html_markup')"
   ]
  },
  {
   "cell_type": "markdown",
   "metadata": {
    "slideshow": {
     "slide_type": "fragment"
    }
   },
   "source": [
    "Again, we can visualize the distribution as a table and using colors. We can see how the shade gets lighter in the lower part of the loop as individual conditions have been met."
   ]
  },
  {
   "cell_type": "code",
   "execution_count": 42,
   "metadata": {
    "execution": {
     "iopub.execute_input": "2023-10-16T17:54:14.347274Z",
     "iopub.status.busy": "2023-10-16T17:54:14.347155Z",
     "iopub.status.idle": "2023-10-16T17:54:14.349440Z",
     "shell.execute_reply": "2023-10-16T17:54:14.349176Z"
    },
    "slideshow": {
     "slide_type": "subslide"
    }
   },
   "outputs": [
    {
     "name": "stdout",
     "output_type": "stream",
     "text": [
      " 238   1% def remove_html_markup(s):  # type: ignore\n",
      " 239   1%     tag = False\n",
      " 240   1%     quote = False\n",
      " 241   1%     out = \"\"\n",
      " 242   0%\n",
      " 243  17%     for c in s:\n",
      " 244  15%         assert tag or not quote\n",
      " 245   0%\n",
      " 246  15%         if c == '<' and not quote:\n",
      " 247   3%             tag = True\n",
      " 248  12%         elif c == '>' and not quote:\n",
      " 249   3%             tag = False\n",
      " 250   9%         elif (c == '\"' or c == \"'\") and tag:\n",
      " 251   0%             quote = not quote\n",
      " 252   9%         elif not tag:\n",
      " 253   4%             out = out + c\n",
      " 254   0%\n",
      " 255   3%     return out\n",
      "\n"
     ]
    }
   ],
   "source": [
    "print(debugger)"
   ]
  },
  {
   "cell_type": "code",
   "execution_count": 43,
   "metadata": {
    "execution": {
     "iopub.execute_input": "2023-10-16T17:54:14.351238Z",
     "iopub.status.busy": "2023-10-16T17:54:14.351133Z",
     "iopub.status.idle": "2023-10-16T17:54:14.354161Z",
     "shell.execute_reply": "2023-10-16T17:54:14.353916Z"
    },
    "slideshow": {
     "slide_type": "subslide"
    }
   },
   "outputs": [
    {
     "data": {
      "text/html": [
       "<pre style=\"background-color:hsl(240, 100%, 97.72727272727273%)\"\n",
       "                    title=\"Line 238:   1% 100.0\"> 238 def remove_html_markup(s):  # type: ignore</pre>\n",
       "<pre style=\"background-color:hsl(240, 100%, 97.72727272727273%)\"\n",
       "                    title=\"Line 239:   1% 100.0\"> 239     tag = False</pre>\n",
       "<pre style=\"background-color:hsl(240, 100%, 97.72727272727273%)\"\n",
       "                    title=\"Line 240:   1% 100.0\"> 240     quote = False</pre>\n",
       "<pre style=\"background-color:hsl(240, 100%, 97.72727272727273%)\"\n",
       "                    title=\"Line 241:   1% 100.0\"> 241     out = &quot;&quot;</pre>\n",
       "<pre style=\"background-color:hsl(240, 100%, 100.0%)\"\n",
       "                    title=\"Line 242:   0% 0.0\"> 242 &nbsp;</pre>\n",
       "<pre style=\"background-color:hsl(240, 100%, 75.0%)\"\n",
       "                    title=\"Line 243:  17% 1100.0\"> 243     for c in s:</pre>\n",
       "<pre style=\"background-color:hsl(240, 100%, 77.27272727272728%)\"\n",
       "                    title=\"Line 244:  15% 1000.0\"> 244         assert tag or not quote</pre>\n",
       "<pre style=\"background-color:hsl(240, 100%, 100.0%)\"\n",
       "                    title=\"Line 245:   0% 0.0\"> 245 &nbsp;</pre>\n",
       "<pre style=\"background-color:hsl(240, 100%, 77.27272727272728%)\"\n",
       "                    title=\"Line 246:  15% 1000.0\"> 246         if c == &#x27;&lt;&#x27; and not quote:</pre>\n",
       "<pre style=\"background-color:hsl(240, 100%, 95.45454545454545%)\"\n",
       "                    title=\"Line 247:   3% 200.0\"> 247             tag = True</pre>\n",
       "<pre style=\"background-color:hsl(240, 100%, 81.81818181818181%)\"\n",
       "                    title=\"Line 248:  12% 800.0\"> 248         elif c == &#x27;&gt;&#x27; and not quote:</pre>\n",
       "<pre style=\"background-color:hsl(240, 100%, 95.45454545454545%)\"\n",
       "                    title=\"Line 249:   3% 200.0\"> 249             tag = False</pre>\n",
       "<pre style=\"background-color:hsl(240, 100%, 86.36363636363636%)\"\n",
       "                    title=\"Line 250:   9% 600.0\"> 250         elif (c == &#x27;&quot;&#x27; or c == &quot;&#x27;&quot;) and tag:</pre>\n",
       "<pre style=\"background-color:hsl(240, 100%, 100.0%)\"\n",
       "                    title=\"Line 251:   0% 0.0\"> 251             quote = not quote</pre>\n",
       "<pre style=\"background-color:hsl(240, 100%, 86.36363636363636%)\"\n",
       "                    title=\"Line 252:   9% 600.0\"> 252         elif not tag:</pre>\n",
       "<pre style=\"background-color:hsl(240, 100%, 93.18181818181819%)\"\n",
       "                    title=\"Line 253:   4% 300.0\"> 253             out = out + c</pre>\n",
       "<pre style=\"background-color:hsl(240, 100%, 100.0%)\"\n",
       "                    title=\"Line 254:   0% 0.0\"> 254 &nbsp;</pre>\n",
       "<pre style=\"background-color:hsl(240, 100%, 95.45454545454545%)\"\n",
       "                    title=\"Line 255:   3% 200.0\"> 255     return out</pre>\n"
      ],
      "text/markdown": [
       "| `remove_html_markup` | `s='<b>foo</b>'` | \n",
       "| ---------------------- | ---- | \n",
       "| <samp style=\"background-color: hsl(240, 100%, 97.72727272727273%)\" title=\"  1% 100.0\">remove_html_markup:238</samp> |    X | \n",
       "| <samp style=\"background-color: hsl(240, 100%, 97.72727272727273%)\" title=\"  1% 100.0\">remove_html_markup:239</samp> |    X | \n",
       "| <samp style=\"background-color: hsl(240, 100%, 97.72727272727273%)\" title=\"  1% 100.0\">remove_html_markup:240</samp> |    X | \n",
       "| <samp style=\"background-color: hsl(240, 100%, 97.72727272727273%)\" title=\"  1% 100.0\">remove_html_markup:241</samp> |    X | \n",
       "| <samp style=\"background-color: hsl(240, 100%, 75.0%)\" title=\" 17% 1100.0\">remove_html_markup:243</samp> |    X | \n",
       "| <samp style=\"background-color: hsl(240, 100%, 77.27272727272728%)\" title=\" 15% 1000.0\">remove_html_markup:244</samp> |    X | \n",
       "| <samp style=\"background-color: hsl(240, 100%, 77.27272727272728%)\" title=\" 15% 1000.0\">remove_html_markup:246</samp> |    X | \n",
       "| <samp style=\"background-color: hsl(240, 100%, 95.45454545454545%)\" title=\"  3% 200.0\">remove_html_markup:247</samp> |    X | \n",
       "| <samp style=\"background-color: hsl(240, 100%, 81.81818181818181%)\" title=\" 12% 800.0\">remove_html_markup:248</samp> |    X | \n",
       "| <samp style=\"background-color: hsl(240, 100%, 95.45454545454545%)\" title=\"  3% 200.0\">remove_html_markup:249</samp> |    X | \n",
       "| <samp style=\"background-color: hsl(240, 100%, 86.36363636363636%)\" title=\"  9% 600.0\">remove_html_markup:250</samp> |    X | \n",
       "| <samp style=\"background-color: hsl(240, 100%, 86.36363636363636%)\" title=\"  9% 600.0\">remove_html_markup:252</samp> |    X | \n",
       "| <samp style=\"background-color: hsl(240, 100%, 93.18181818181819%)\" title=\"  4% 300.0\">remove_html_markup:253</samp> |    X | \n",
       "| <samp style=\"background-color: hsl(240, 100%, 95.45454545454545%)\" title=\"  3% 200.0\">remove_html_markup:255</samp> |    X | \n"
      ],
      "text/plain": [
       " 238   1% def remove_html_markup(s):  # type: ignore\n",
       " 239   1%     tag = False\n",
       " 240   1%     quote = False\n",
       " 241   1%     out = \"\"\n",
       " 242   0%\n",
       " 243  17%     for c in s:\n",
       " 244  15%         assert tag or not quote\n",
       " 245   0%\n",
       " 246  15%         if c == '<' and not quote:\n",
       " 247   3%             tag = True\n",
       " 248  12%         elif c == '>' and not quote:\n",
       " 249   3%             tag = False\n",
       " 250   9%         elif (c == '\"' or c == \"'\") and tag:\n",
       " 251   0%             quote = not quote\n",
       " 252   9%         elif not tag:\n",
       " 253   4%             out = out + c\n",
       " 254   0%\n",
       " 255   3%     return out"
      ]
     },
     "execution_count": 43,
     "metadata": {},
     "output_type": "execute_result"
    }
   ],
   "source": [
    "debugger"
   ]
  },
  {
   "cell_type": "markdown",
   "metadata": {
    "slideshow": {
     "slide_type": "slide"
    }
   },
   "source": [
    "## Integrating with Delta Debugging\n",
    "\n",
    "Besides identifying causes for performance issues in the code, one may also search for causes in the _input_, using [Delta Debugging](DeltaDebugger.ipynb). This can be useful if one does not immediately want to embark into investigating the code, but maybe first determine external influences that are related to performance issues."
   ]
  },
  {
   "cell_type": "markdown",
   "metadata": {
    "slideshow": {
     "slide_type": "fragment"
    }
   },
   "source": [
    "Here is a variant of `remove_html_markup()` that introduces a (rather obvious) performance issue."
   ]
  },
  {
   "cell_type": "code",
   "execution_count": 44,
   "metadata": {
    "execution": {
     "iopub.execute_input": "2023-10-16T17:54:14.356252Z",
     "iopub.status.busy": "2023-10-16T17:54:14.356124Z",
     "iopub.status.idle": "2023-10-16T17:54:14.357791Z",
     "shell.execute_reply": "2023-10-16T17:54:14.357508Z"
    },
    "slideshow": {
     "slide_type": "skip"
    }
   },
   "outputs": [],
   "source": [
    "import time"
   ]
  },
  {
   "cell_type": "code",
   "execution_count": 45,
   "metadata": {
    "execution": {
     "iopub.execute_input": "2023-10-16T17:54:14.359609Z",
     "iopub.status.busy": "2023-10-16T17:54:14.359495Z",
     "iopub.status.idle": "2023-10-16T17:54:14.361914Z",
     "shell.execute_reply": "2023-10-16T17:54:14.361671Z"
    },
    "slideshow": {
     "slide_type": "subslide"
    }
   },
   "outputs": [],
   "source": [
    "def remove_html_markup_ampersand(s: str) -> str:\n",
    "    tag = False\n",
    "    quote = False\n",
    "    out = \"\"\n",
    "\n",
    "    for c in s:\n",
    "        assert tag or not quote\n",
    "\n",
    "        if c == '&':\n",
    "            time.sleep(0.1)  # <-- the obvious performance issue\n",
    "\n",
    "        if c == '<' and not quote:\n",
    "            tag = True\n",
    "        elif c == '>' and not quote:\n",
    "            tag = False\n",
    "        elif (c == '\"' or c == \"'\") and tag:\n",
    "            quote = not quote\n",
    "        elif not tag:\n",
    "            out = out + c\n",
    "\n",
    "    return out"
   ]
  },
  {
   "cell_type": "markdown",
   "metadata": {
    "slideshow": {
     "slide_type": "subslide"
    }
   },
   "source": [
    "We can easily trigger this issue by measuring time taken:"
   ]
  },
  {
   "cell_type": "code",
   "execution_count": 46,
   "metadata": {
    "execution": {
     "iopub.execute_input": "2023-10-16T17:54:14.363429Z",
     "iopub.status.busy": "2023-10-16T17:54:14.363315Z",
     "iopub.status.idle": "2023-10-16T17:54:14.675848Z",
     "shell.execute_reply": "2023-10-16T17:54:14.675517Z"
    },
    "slideshow": {
     "slide_type": "fragment"
    }
   },
   "outputs": [
    {
     "data": {
      "text/plain": [
       "0.31007199999294244"
      ]
     },
     "execution_count": 46,
     "metadata": {},
     "output_type": "execute_result"
    }
   ],
   "source": [
    "with Timer.Timer() as t:\n",
    "    remove_html_markup_ampersand('&&&')\n",
    "t.elapsed_time()"
   ]
  },
  {
   "cell_type": "markdown",
   "metadata": {
    "slideshow": {
     "slide_type": "fragment"
    }
   },
   "source": [
    "Let us set up a test that checks whether the performance issue is present."
   ]
  },
  {
   "cell_type": "code",
   "execution_count": 47,
   "metadata": {
    "execution": {
     "iopub.execute_input": "2023-10-16T17:54:14.678553Z",
     "iopub.status.busy": "2023-10-16T17:54:14.678396Z",
     "iopub.status.idle": "2023-10-16T17:54:14.680763Z",
     "shell.execute_reply": "2023-10-16T17:54:14.680378Z"
    },
    "slideshow": {
     "slide_type": "fragment"
    }
   },
   "outputs": [],
   "source": [
    "def remove_html_test(s: str) -> None:\n",
    "    with Timer.Timer() as t:\n",
    "        remove_html_markup_ampersand(s)\n",
    "    assert t.elapsed_time() < 0.1"
   ]
  },
  {
   "cell_type": "markdown",
   "metadata": {
    "slideshow": {
     "slide_type": "fragment"
    }
   },
   "source": [
    "We can now apply delta debugging to determine a minimum input that causes the failure:"
   ]
  },
  {
   "cell_type": "code",
   "execution_count": 48,
   "metadata": {
    "execution": {
     "iopub.execute_input": "2023-10-16T17:54:14.683054Z",
     "iopub.status.busy": "2023-10-16T17:54:14.682914Z",
     "iopub.status.idle": "2023-10-16T17:54:14.684585Z",
     "shell.execute_reply": "2023-10-16T17:54:14.684345Z"
    },
    "slideshow": {
     "slide_type": "fragment"
    }
   },
   "outputs": [],
   "source": [
    "s_fail = '<b>foo&amp;</b>'"
   ]
  },
  {
   "cell_type": "code",
   "execution_count": 49,
   "metadata": {
    "execution": {
     "iopub.execute_input": "2023-10-16T17:54:14.686235Z",
     "iopub.status.busy": "2023-10-16T17:54:14.686138Z",
     "iopub.status.idle": "2023-10-16T17:54:14.791355Z",
     "shell.execute_reply": "2023-10-16T17:54:14.791018Z"
    },
    "slideshow": {
     "slide_type": "subslide"
    }
   },
   "outputs": [],
   "source": [
    "with DeltaDebugger.DeltaDebugger() as dd:\n",
    "    remove_html_test(s_fail)"
   ]
  },
  {
   "cell_type": "code",
   "execution_count": 50,
   "metadata": {
    "execution": {
     "iopub.execute_input": "2023-10-16T17:54:14.793404Z",
     "iopub.status.busy": "2023-10-16T17:54:14.793273Z",
     "iopub.status.idle": "2023-10-16T17:54:15.311707Z",
     "shell.execute_reply": "2023-10-16T17:54:15.311354Z"
    },
    "slideshow": {
     "slide_type": "fragment"
    }
   },
   "outputs": [
    {
     "data": {
      "text/plain": [
       "{'s': '&'}"
      ]
     },
     "execution_count": 50,
     "metadata": {},
     "output_type": "execute_result"
    }
   ],
   "source": [
    "dd.min_args()"
   ]
  },
  {
   "cell_type": "markdown",
   "metadata": {
    "slideshow": {
     "slide_type": "fragment"
    }
   },
   "source": [
    "For performance issues, however, a minimal input is often not enough to highlight the failure cause. This is because short inputs tend to take less processing time than longer inputs, which increases the risks of a spurious diagnosis. A better alternative is to compute a _maximum_ input where the issue does not occur:"
   ]
  },
  {
   "cell_type": "code",
   "execution_count": 51,
   "metadata": {
    "execution": {
     "iopub.execute_input": "2023-10-16T17:54:15.314034Z",
     "iopub.status.busy": "2023-10-16T17:54:15.313886Z",
     "iopub.status.idle": "2023-10-16T17:54:15.522989Z",
     "shell.execute_reply": "2023-10-16T17:54:15.522676Z"
    },
    "slideshow": {
     "slide_type": "fragment"
    }
   },
   "outputs": [],
   "source": [
    "s_pass = dd.max_args()"
   ]
  },
  {
   "cell_type": "code",
   "execution_count": 52,
   "metadata": {
    "execution": {
     "iopub.execute_input": "2023-10-16T17:54:15.525301Z",
     "iopub.status.busy": "2023-10-16T17:54:15.525152Z",
     "iopub.status.idle": "2023-10-16T17:54:15.527557Z",
     "shell.execute_reply": "2023-10-16T17:54:15.527238Z"
    },
    "slideshow": {
     "slide_type": "fragment"
    }
   },
   "outputs": [
    {
     "data": {
      "text/plain": [
       "{'s': '<b>fooamp;</b>'}"
      ]
     },
     "execution_count": 52,
     "metadata": {},
     "output_type": "execute_result"
    }
   ],
   "source": [
    "s_pass"
   ]
  },
  {
   "cell_type": "markdown",
   "metadata": {
    "slideshow": {
     "slide_type": "fragment"
    }
   },
   "source": [
    "We see that the culprit character (the `&`) is removed. This tells us the failure-inducing difference – or, more precisely, the cause for the performance issue."
   ]
  },
  {
   "cell_type": "markdown",
   "metadata": {
    "slideshow": {
     "slide_type": "slide"
    }
   },
   "source": [
    "## Synopsis"
   ]
  },
  {
   "cell_type": "markdown",
   "metadata": {
    "slideshow": {
     "slide_type": "fragment"
    }
   },
   "source": [
    "This chapter provides a class `PerformanceDebugger` that allows measuring and visualizing the time taken per line in a function."
   ]
  },
  {
   "cell_type": "code",
   "execution_count": 53,
   "metadata": {
    "execution": {
     "iopub.execute_input": "2023-10-16T17:54:15.530125Z",
     "iopub.status.busy": "2023-10-16T17:54:15.529999Z",
     "iopub.status.idle": "2023-10-16T17:54:15.549718Z",
     "shell.execute_reply": "2023-10-16T17:54:15.549413Z"
    },
    "slideshow": {
     "slide_type": "fragment"
    }
   },
   "outputs": [],
   "source": [
    "with PerformanceDebugger(TimeCollector) as debugger:\n",
    "    for i in range(100):\n",
    "        s = remove_html_markup('<b>foo</b>')"
   ]
  },
  {
   "cell_type": "markdown",
   "metadata": {
    "slideshow": {
     "slide_type": "fragment"
    }
   },
   "source": [
    "The distribution of executed time within each function can be obtained by printing out the debugger:"
   ]
  },
  {
   "cell_type": "code",
   "execution_count": 54,
   "metadata": {
    "execution": {
     "iopub.execute_input": "2023-10-16T17:54:15.551458Z",
     "iopub.status.busy": "2023-10-16T17:54:15.551328Z",
     "iopub.status.idle": "2023-10-16T17:54:15.554059Z",
     "shell.execute_reply": "2023-10-16T17:54:15.553701Z"
    },
    "slideshow": {
     "slide_type": "subslide"
    }
   },
   "outputs": [
    {
     "name": "stdout",
     "output_type": "stream",
     "text": [
      " 238   2% def remove_html_markup(s):  # type: ignore\n",
      " 239   2%     tag = False\n",
      " 240   1%     quote = False\n",
      " 241   1%     out = \"\"\n",
      " 242   0%\n",
      " 243  16%     for c in s:\n",
      " 244  15%         assert tag or not quote\n",
      " 245   0%\n",
      " 246  14%         if c == '<' and not quote:\n",
      " 247   3%             tag = True\n",
      " 248  12%         elif c == '>' and not quote:\n",
      " 249   3%             tag = False\n",
      " 250   9%         elif (c == '\"' or c == \"'\") and tag:\n",
      " 251   0%             quote = not quote\n",
      " 252   9%         elif not tag:\n",
      " 253   5%             out = out + c\n",
      " 254   0%\n",
      " 255   3%     return out\n",
      "\n"
     ]
    }
   ],
   "source": [
    "print(debugger)"
   ]
  },
  {
   "cell_type": "markdown",
   "metadata": {
    "slideshow": {
     "slide_type": "subslide"
    }
   },
   "source": [
    "The sum of all percentages in a function should always be 100%."
   ]
  },
  {
   "cell_type": "markdown",
   "metadata": {
    "slideshow": {
     "slide_type": "fragment"
    }
   },
   "source": [
    "These percentages can also be visualized, where darker shades represent higher percentage values:"
   ]
  },
  {
   "cell_type": "code",
   "execution_count": 55,
   "metadata": {
    "execution": {
     "iopub.execute_input": "2023-10-16T17:54:15.555828Z",
     "iopub.status.busy": "2023-10-16T17:54:15.555704Z",
     "iopub.status.idle": "2023-10-16T17:54:15.559480Z",
     "shell.execute_reply": "2023-10-16T17:54:15.559149Z"
    },
    "slideshow": {
     "slide_type": "subslide"
    }
   },
   "outputs": [
    {
     "data": {
      "text/html": [
       "<pre style=\"background-color:hsl(240, 100%, 96.70983928856245%)\"\n",
       "                    title=\"Line 238:   2% 0.00023671102826483548\"> 238 def remove_html_markup(s):  # type: ignore</pre>\n",
       "<pre style=\"background-color:hsl(240, 100%, 96.90963534811178%)\"\n",
       "                    title=\"Line 239:   2% 0.00022233667550608516\"> 239     tag = False</pre>\n",
       "<pre style=\"background-color:hsl(240, 100%, 97.15702859688935%)\"\n",
       "                    title=\"Line 240:   1% 0.0002045379369519651\"> 240     quote = False</pre>\n",
       "<pre style=\"background-color:hsl(240, 100%, 97.32899230915893%)\"\n",
       "                    title=\"Line 241:   1% 0.00019216598593629897\"> 241     out = &quot;&quot;</pre>\n",
       "<pre style=\"background-color:hsl(240, 100%, 100.0%)\"\n",
       "                    title=\"Line 242:   0% 0.0\"> 242 &nbsp;</pre>\n",
       "<pre style=\"background-color:hsl(240, 100%, 75.0%)\"\n",
       "                    title=\"Line 243:  16% 0.0017986281600315124\"> 243     for c in s:</pre>\n",
       "<pre style=\"background-color:hsl(240, 100%, 77.8038017492866%)\"\n",
       "                    title=\"Line 244:  15% 0.001596908288775012\"> 244         assert tag or not quote</pre>\n",
       "<pre style=\"background-color:hsl(240, 100%, 100.0%)\"\n",
       "                    title=\"Line 245:   0% 0.0\"> 245 &nbsp;</pre>\n",
       "<pre style=\"background-color:hsl(240, 100%, 77.98592195036689%)\"\n",
       "                    title=\"Line 246:  14% 0.0015838056278880686\"> 246         if c == &#x27;&lt;&#x27; and not quote:</pre>\n",
       "<pre style=\"background-color:hsl(240, 100%, 95.54176783309453%)\"\n",
       "                    title=\"Line 247:   3% 0.00032074807677417994\"> 247             tag = True</pre>\n",
       "<pre style=\"background-color:hsl(240, 100%, 82.28593869945132%)\"\n",
       "                    title=\"Line 248:  12% 0.0012744403793476522\"> 248         elif c == &#x27;&gt;&#x27; and not quote:</pre>\n",
       "<pre style=\"background-color:hsl(240, 100%, 95.54698260575786%)\"\n",
       "                    title=\"Line 249:   3% 0.0003203728992957622\"> 249             tag = False</pre>\n",
       "<pre style=\"background-color:hsl(240, 100%, 86.69581073699645%)\"\n",
       "                    title=\"Line 250:   9% 0.0009571715781930834\"> 250         elif (c == &#x27;&quot;&#x27; or c == &quot;&#x27;&quot;) and tag:</pre>\n",
       "<pre style=\"background-color:hsl(240, 100%, 100.0%)\"\n",
       "                    title=\"Line 251:   0% 0.0\"> 251             quote = not quote</pre>\n",
       "<pre style=\"background-color:hsl(240, 100%, 86.41204555123136%)\"\n",
       "                    title=\"Line 252:   9% 0.0009775871003512293\"> 252         elif not tag:</pre>\n",
       "<pre style=\"background-color:hsl(240, 100%, 91.75518349859037%)\"\n",
       "                    title=\"Line 253:   5% 0.0005931743653491139\"> 253             out = out + c</pre>\n",
       "<pre style=\"background-color:hsl(240, 100%, 100.0%)\"\n",
       "                    title=\"Line 254:   0% 0.0\"> 254 &nbsp;</pre>\n",
       "<pre style=\"background-color:hsl(240, 100%, 95.56848610978898%)\"\n",
       "                    title=\"Line 255:   3% 0.0003188258269801736\"> 255     return out</pre>\n"
      ],
      "text/markdown": [
       "| `remove_html_markup` | `s='<b>foo</b>'` | \n",
       "| ---------------------- | ---- | \n",
       "| <samp style=\"background-color: hsl(240, 100%, 96.70983928856245%)\" title=\"  2% 0.00023671102826483548\">remove_html_markup:238</samp> |    X | \n",
       "| <samp style=\"background-color: hsl(240, 100%, 96.90963534811178%)\" title=\"  2% 0.00022233667550608516\">remove_html_markup:239</samp> |    X | \n",
       "| <samp style=\"background-color: hsl(240, 100%, 97.15702859688935%)\" title=\"  1% 0.0002045379369519651\">remove_html_markup:240</samp> |    X | \n",
       "| <samp style=\"background-color: hsl(240, 100%, 97.32899230915893%)\" title=\"  1% 0.00019216598593629897\">remove_html_markup:241</samp> |    X | \n",
       "| <samp style=\"background-color: hsl(240, 100%, 75.0%)\" title=\" 16% 0.0017986281600315124\">remove_html_markup:243</samp> |    X | \n",
       "| <samp style=\"background-color: hsl(240, 100%, 77.8038017492866%)\" title=\" 15% 0.001596908288775012\">remove_html_markup:244</samp> |    X | \n",
       "| <samp style=\"background-color: hsl(240, 100%, 77.98592195036689%)\" title=\" 14% 0.0015838056278880686\">remove_html_markup:246</samp> |    X | \n",
       "| <samp style=\"background-color: hsl(240, 100%, 95.54176783309453%)\" title=\"  3% 0.00032074807677417994\">remove_html_markup:247</samp> |    X | \n",
       "| <samp style=\"background-color: hsl(240, 100%, 82.28593869945132%)\" title=\" 12% 0.0012744403793476522\">remove_html_markup:248</samp> |    X | \n",
       "| <samp style=\"background-color: hsl(240, 100%, 95.54698260575786%)\" title=\"  3% 0.0003203728992957622\">remove_html_markup:249</samp> |    X | \n",
       "| <samp style=\"background-color: hsl(240, 100%, 86.69581073699645%)\" title=\"  9% 0.0009571715781930834\">remove_html_markup:250</samp> |    X | \n",
       "| <samp style=\"background-color: hsl(240, 100%, 86.41204555123136%)\" title=\"  9% 0.0009775871003512293\">remove_html_markup:252</samp> |    X | \n",
       "| <samp style=\"background-color: hsl(240, 100%, 91.75518349859037%)\" title=\"  5% 0.0005931743653491139\">remove_html_markup:253</samp> |    X | \n",
       "| <samp style=\"background-color: hsl(240, 100%, 95.56848610978898%)\" title=\"  3% 0.0003188258269801736\">remove_html_markup:255</samp> |    X | \n"
      ],
      "text/plain": [
       " 238   2% def remove_html_markup(s):  # type: ignore\n",
       " 239   2%     tag = False\n",
       " 240   1%     quote = False\n",
       " 241   1%     out = \"\"\n",
       " 242   0%\n",
       " 243  16%     for c in s:\n",
       " 244  15%         assert tag or not quote\n",
       " 245   0%\n",
       " 246  14%         if c == '<' and not quote:\n",
       " 247   3%             tag = True\n",
       " 248  12%         elif c == '>' and not quote:\n",
       " 249   3%             tag = False\n",
       " 250   9%         elif (c == '\"' or c == \"'\") and tag:\n",
       " 251   0%             quote = not quote\n",
       " 252   9%         elif not tag:\n",
       " 253   5%             out = out + c\n",
       " 254   0%\n",
       " 255   3%     return out"
      ]
     },
     "execution_count": 55,
     "metadata": {},
     "output_type": "execute_result"
    }
   ],
   "source": [
    "debugger"
   ]
  },
  {
   "cell_type": "markdown",
   "metadata": {
    "slideshow": {
     "slide_type": "subslide"
    }
   },
   "source": [
    "The abstract `MetricCollector` class allows subclassing to build more collectors, such as `HitCollector`."
   ]
  },
  {
   "cell_type": "code",
   "execution_count": 56,
   "metadata": {
    "execution": {
     "iopub.execute_input": "2023-10-16T17:54:15.561181Z",
     "iopub.status.busy": "2023-10-16T17:54:15.561057Z",
     "iopub.status.idle": "2023-10-16T17:54:15.562691Z",
     "shell.execute_reply": "2023-10-16T17:54:15.562420Z"
    },
    "slideshow": {
     "slide_type": "fragment"
    }
   },
   "outputs": [],
   "source": [
    "# ignore\n",
    "from ClassDiagram import display_class_hierarchy"
   ]
  },
  {
   "cell_type": "code",
   "execution_count": 57,
   "metadata": {
    "execution": {
     "iopub.execute_input": "2023-10-16T17:54:15.564610Z",
     "iopub.status.busy": "2023-10-16T17:54:15.564470Z",
     "iopub.status.idle": "2023-10-16T17:54:16.155535Z",
     "shell.execute_reply": "2023-10-16T17:54:16.155062Z"
    },
    "slideshow": {
     "slide_type": "fragment"
    }
   },
   "outputs": [
    {
     "data": {
      "image/svg+xml": [
       "<?xml version=\"1.0\" encoding=\"UTF-8\" standalone=\"no\"?>\n",
       "<!DOCTYPE svg PUBLIC \"-//W3C//DTD SVG 1.1//EN\"\n",
       " \"http://www.w3.org/Graphics/SVG/1.1/DTD/svg11.dtd\">\n",
       "<!-- Generated by graphviz version 9.0.0 (20230911.1827)\n",
       " -->\n",
       "<!-- Pages: 1 -->\n",
       "<svg width=\"552pt\" height=\"568pt\"\n",
       " viewBox=\"0.00 0.00 552.38 567.75\" xmlns=\"http://www.w3.org/2000/svg\" xmlns:xlink=\"http://www.w3.org/1999/xlink\">\n",
       "<g id=\"graph0\" class=\"graph\" transform=\"scale(1 1) rotate(0) translate(4 563.75)\">\n",
       "<g id=\"a_graph0\"><a xlink:title=\"PerformanceDebugger class hierarchy\">\n",
       "<polygon fill=\"white\" stroke=\"none\" points=\"-4,4 -4,-563.75 548.38,-563.75 548.38,4 -4,4\"/>\n",
       "</a>\n",
       "</g>\n",
       "<!-- PerformanceDebugger -->\n",
       "<g id=\"node1\" class=\"node\">\n",
       "<title>PerformanceDebugger</title>\n",
       "<g id=\"a_node1\"><a xlink:href=\"#\" xlink:title=\"class PerformanceDebugger:&#10;Collect and visualize a metric\">\n",
       "<polygon fill=\"none\" stroke=\"black\" points=\"0,-28.62 0,-73.12 161.5,-73.12 161.5,-28.62 0,-28.62\"/>\n",
       "<text text-anchor=\"start\" x=\"8\" y=\"-56.83\" font-family=\"Raleway, Helvetica, Arial, sans-serif\" font-weight=\"bold\" font-size=\"14.00\" fill=\"#6a0dad\">PerformanceDebugger</text>\n",
       "<polyline fill=\"none\" stroke=\"black\" points=\"0,-47.88 161.5,-47.88\"/>\n",
       "<g id=\"a_node1_0\"><a xlink:href=\"#\" xlink:title=\"PerformanceDebugger\">\n",
       "<g id=\"a_node1_1\"><a xlink:href=\"#\" xlink:title=\"__init__(self, collector_class: Type, log: bool = False):&#10;Constructor. Use instances of `collector_class` to collect events.\">\n",
       "<text text-anchor=\"start\" x=\"50.75\" y=\"-35.38\" font-family=\"'Fira Mono', 'Source Code Pro', 'Courier', monospace\" font-weight=\"bold\" font-style=\"italic\" font-size=\"10.00\">__init__()</text>\n",
       "</a>\n",
       "</g>\n",
       "</a>\n",
       "</g>\n",
       "</a>\n",
       "</g>\n",
       "</g>\n",
       "<!-- MetricDebugger -->\n",
       "<g id=\"node2\" class=\"node\">\n",
       "<title>MetricDebugger</title>\n",
       "<g id=\"a_node2\"><a xlink:href=\"#\" xlink:title=\"class MetricDebugger:&#10;Visualize a metric\">\n",
       "<polygon fill=\"none\" stroke=\"black\" points=\"21,-138.25 21,-239 140.5,-239 140.5,-138.25 21,-138.25\"/>\n",
       "<text text-anchor=\"start\" x=\"29\" y=\"-222.7\" font-family=\"Raleway, Helvetica, Arial, sans-serif\" font-weight=\"bold\" font-size=\"14.00\" fill=\"#6a0dad\">MetricDebugger</text>\n",
       "<polyline fill=\"none\" stroke=\"black\" points=\"21,-213.75 140.5,-213.75\"/>\n",
       "<g id=\"a_node2_2\"><a xlink:href=\"#\" xlink:title=\"MetricDebugger\">\n",
       "<g id=\"a_node2_3\"><a xlink:href=\"#\" xlink:title=\"color(self, location: Tuple[str, int]) &#45;&gt; str:&#10;Return a color for the given event, or None.&#10;To be overloaded in subclasses.\">\n",
       "<text text-anchor=\"start\" x=\"32.75\" y=\"-201.25\" font-family=\"'Fira Mono', 'Source Code Pro', 'Courier', monospace\" font-style=\"italic\" font-size=\"10.00\">color()</text>\n",
       "</a>\n",
       "</g>\n",
       "<g id=\"a_node2_4\"><a xlink:href=\"#\" xlink:title=\"maximum(self, func_name: str) &#45;&gt; float\">\n",
       "<text text-anchor=\"start\" x=\"32.75\" y=\"-189\" font-family=\"'Fira Mono', 'Source Code Pro', 'Courier', monospace\" font-size=\"10.00\">maximum()</text>\n",
       "</a>\n",
       "</g>\n",
       "<g id=\"a_node2_5\"><a xlink:href=\"#\" xlink:title=\"metric(self, location: Tuple[str, int]) &#45;&gt; float\">\n",
       "<text text-anchor=\"start\" x=\"32.75\" y=\"-177.75\" font-family=\"'Fira Mono', 'Source Code Pro', 'Courier', monospace\" font-size=\"10.00\">metric()</text>\n",
       "</a>\n",
       "</g>\n",
       "<g id=\"a_node2_6\"><a xlink:href=\"#\" xlink:title=\"suspiciousness(self, location: Tuple[str, int]) &#45;&gt; float:&#10;Return a suspiciousness value in the range [0, 1.0]&#10;for the given event, or `None` if unknown.&#10;To be overloaded in subclasses.\">\n",
       "<text text-anchor=\"start\" x=\"32.75\" y=\"-167.5\" font-family=\"'Fira Mono', 'Source Code Pro', 'Courier', monospace\" font-style=\"italic\" font-size=\"10.00\">suspiciousness()</text>\n",
       "</a>\n",
       "</g>\n",
       "<g id=\"a_node2_7\"><a xlink:href=\"#\" xlink:title=\"tooltip(self, location: Tuple[str, int]) &#45;&gt; str:&#10;Return a tooltip for the given event (default: percentage).&#10;To be overloaded in subclasses.\">\n",
       "<text text-anchor=\"start\" x=\"32.75\" y=\"-156.25\" font-family=\"'Fira Mono', 'Source Code Pro', 'Courier', monospace\" font-style=\"italic\" font-size=\"10.00\">tooltip()</text>\n",
       "</a>\n",
       "</g>\n",
       "<g id=\"a_node2_8\"><a xlink:href=\"#\" xlink:title=\"total(self, func_name: str) &#45;&gt; float\">\n",
       "<text text-anchor=\"start\" x=\"32.75\" y=\"-144\" font-family=\"'Fira Mono', 'Source Code Pro', 'Courier', monospace\" font-size=\"10.00\">total()</text>\n",
       "</a>\n",
       "</g>\n",
       "</a>\n",
       "</g>\n",
       "</a>\n",
       "</g>\n",
       "</g>\n",
       "<!-- PerformanceDebugger&#45;&gt;MetricDebugger -->\n",
       "<g id=\"edge1\" class=\"edge\">\n",
       "<title>PerformanceDebugger&#45;&gt;MetricDebugger</title>\n",
       "<path fill=\"none\" stroke=\"black\" d=\"M80.75,-73.38C80.75,-87.75 80.75,-107.43 80.75,-126.41\"/>\n",
       "<polygon fill=\"none\" stroke=\"black\" points=\"77.25,-126.26 80.75,-136.26 84.25,-126.26 77.25,-126.26\"/>\n",
       "</g>\n",
       "<!-- SpectrumDebugger -->\n",
       "<g id=\"node3\" class=\"node\">\n",
       "<title>SpectrumDebugger</title>\n",
       "<g id=\"a_node3\"><a xlink:href=\"StatisticalDebugger.ipynb\" xlink:title=\"class SpectrumDebugger:&#10;A class to collect events for passing and failing outcomes.\">\n",
       "<polygon fill=\"none\" stroke=\"black\" points=\"9.75,-276 9.75,-312 151.75,-312 151.75,-276 9.75,-276\"/>\n",
       "<text text-anchor=\"start\" x=\"17.75\" y=\"-290.7\" font-family=\"Raleway, Helvetica, Arial, sans-serif\" font-weight=\"bold\" font-size=\"14.00\" fill=\"#6a0dad\">SpectrumDebugger</text>\n",
       "</a>\n",
       "</g>\n",
       "</g>\n",
       "<!-- MetricDebugger&#45;&gt;SpectrumDebugger -->\n",
       "<g id=\"edge2\" class=\"edge\">\n",
       "<title>MetricDebugger&#45;&gt;SpectrumDebugger</title>\n",
       "<path fill=\"none\" stroke=\"black\" d=\"M80.75,-239.5C80.75,-248.03 80.75,-256.64 80.75,-264.38\"/>\n",
       "<polygon fill=\"none\" stroke=\"black\" points=\"77.25,-264.17 80.75,-274.17 84.25,-264.17 77.25,-264.17\"/>\n",
       "</g>\n",
       "<!-- DifferenceDebugger -->\n",
       "<g id=\"node4\" class=\"node\">\n",
       "<title>DifferenceDebugger</title>\n",
       "<g id=\"a_node4\"><a xlink:href=\"StatisticalDebugger.ipynb\" xlink:title=\"class DifferenceDebugger:&#10;A class to collect events for passing and failing outcomes.\">\n",
       "<polygon fill=\"none\" stroke=\"black\" points=\"8.25,-349 8.25,-404.75 153.25,-404.75 153.25,-349 8.25,-349\"/>\n",
       "<text text-anchor=\"start\" x=\"16.25\" y=\"-388.45\" font-family=\"Raleway, Helvetica, Arial, sans-serif\" font-weight=\"bold\" font-size=\"14.00\" fill=\"#6a0dad\">DifferenceDebugger</text>\n",
       "<polyline fill=\"none\" stroke=\"black\" points=\"8.25,-379.5 153.25,-379.5\"/>\n",
       "<g id=\"a_node4_9\"><a xlink:href=\"#\" xlink:title=\"DifferenceDebugger\">\n",
       "<g id=\"a_node4_10\"><a xlink:href=\"StatisticalDebugger.ipynb\" xlink:title=\"FAIL = &#39;FAIL&#39;\">\n",
       "<text text-anchor=\"start\" x=\"68.75\" y=\"-366\" font-family=\"'Fira Mono', 'Source Code Pro', 'Courier', monospace\" font-size=\"10.00\">FAIL</text>\n",
       "</a>\n",
       "</g>\n",
       "<g id=\"a_node4_11\"><a xlink:href=\"StatisticalDebugger.ipynb\" xlink:title=\"PASS = &#39;PASS&#39;\">\n",
       "<text text-anchor=\"start\" x=\"68.75\" y=\"-354.75\" font-family=\"'Fira Mono', 'Source Code Pro', 'Courier', monospace\" font-size=\"10.00\">PASS</text>\n",
       "</a>\n",
       "</g>\n",
       "</a>\n",
       "</g>\n",
       "</a>\n",
       "</g>\n",
       "</g>\n",
       "<!-- SpectrumDebugger&#45;&gt;DifferenceDebugger -->\n",
       "<g id=\"edge3\" class=\"edge\">\n",
       "<title>SpectrumDebugger&#45;&gt;DifferenceDebugger</title>\n",
       "<path fill=\"none\" stroke=\"black\" d=\"M80.75,-312.15C80.75,-319.5 80.75,-328.41 80.75,-337.21\"/>\n",
       "<polygon fill=\"none\" stroke=\"black\" points=\"77.25,-337.05 80.75,-347.05 84.25,-337.05 77.25,-337.05\"/>\n",
       "</g>\n",
       "<!-- StatisticalDebugger -->\n",
       "<g id=\"node5\" class=\"node\">\n",
       "<title>StatisticalDebugger</title>\n",
       "<g id=\"a_node5\"><a xlink:href=\"StatisticalDebugger.ipynb\" xlink:title=\"class StatisticalDebugger:&#10;A class to collect events for multiple outcomes.\">\n",
       "<polygon fill=\"none\" stroke=\"black\" points=\"10.88,-441.75 10.88,-477.75 150.62,-477.75 150.62,-441.75 10.88,-441.75\"/>\n",
       "<text text-anchor=\"start\" x=\"18.88\" y=\"-456.45\" font-family=\"Raleway, Helvetica, Arial, sans-serif\" font-weight=\"bold\" font-size=\"14.00\" fill=\"#6a0dad\">StatisticalDebugger</text>\n",
       "</a>\n",
       "</g>\n",
       "</g>\n",
       "<!-- DifferenceDebugger&#45;&gt;StatisticalDebugger -->\n",
       "<g id=\"edge4\" class=\"edge\">\n",
       "<title>DifferenceDebugger&#45;&gt;StatisticalDebugger</title>\n",
       "<path fill=\"none\" stroke=\"black\" d=\"M80.75,-404.81C80.75,-412.96 80.75,-421.93 80.75,-430.19\"/>\n",
       "<polygon fill=\"none\" stroke=\"black\" points=\"77.25,-430.07 80.75,-440.07 84.25,-430.07 77.25,-430.07\"/>\n",
       "</g>\n",
       "<!-- TimeCollector -->\n",
       "<g id=\"node6\" class=\"node\">\n",
       "<title>TimeCollector</title>\n",
       "<g id=\"a_node6\"><a xlink:href=\"#\" xlink:title=\"class TimeCollector:&#10;Collect time executed for each line\">\n",
       "<polygon fill=\"none\" stroke=\"black\" points=\"190.5,-0.5 190.5,-101.25 295,-101.25 295,-0.5 190.5,-0.5\"/>\n",
       "<text text-anchor=\"start\" x=\"198.5\" y=\"-84.95\" font-family=\"Raleway, Helvetica, Arial, sans-serif\" font-weight=\"bold\" font-size=\"14.00\" fill=\"#6a0dad\">TimeCollector</text>\n",
       "<polyline fill=\"none\" stroke=\"black\" points=\"190.5,-76 295,-76\"/>\n",
       "<g id=\"a_node6_12\"><a xlink:href=\"#\" xlink:title=\"TimeCollector\">\n",
       "<g id=\"a_node6_13\"><a xlink:href=\"#\" xlink:title=\"__enter__(self) &#45;&gt; Any:&#10;Called at begin of `with` block. Turn tracing on.\">\n",
       "<text text-anchor=\"start\" x=\"203.75\" y=\"-63.5\" font-family=\"'Fira Mono', 'Source Code Pro', 'Courier', monospace\" font-style=\"italic\" font-size=\"10.00\">__enter__()</text>\n",
       "</a>\n",
       "</g>\n",
       "<g id=\"a_node6_14\"><a xlink:href=\"#\" xlink:title=\"__init__(self) &#45;&gt; None:&#10;Constructor\">\n",
       "<text text-anchor=\"start\" x=\"203.75\" y=\"-52.25\" font-family=\"'Fira Mono', 'Source Code Pro', 'Courier', monospace\" font-style=\"italic\" font-size=\"10.00\">__init__()</text>\n",
       "</a>\n",
       "</g>\n",
       "<g id=\"a_node6_15\"><a xlink:href=\"#\" xlink:title=\"all_metrics(self, func: str) &#45;&gt; List[float]:&#10;Return all metric for a function `func`.\">\n",
       "<text text-anchor=\"start\" x=\"203.75\" y=\"-41\" font-family=\"'Fira Mono', 'Source Code Pro', 'Courier', monospace\" font-style=\"italic\" font-size=\"10.00\">all_metrics()</text>\n",
       "</a>\n",
       "</g>\n",
       "<g id=\"a_node6_16\"><a xlink:href=\"#\" xlink:title=\"collect(self, frame: frame, event: str, arg: Any) &#45;&gt; None:&#10;Invoked for every line executed. Accumulate time spent.\">\n",
       "<text text-anchor=\"start\" x=\"203.75\" y=\"-29.75\" font-family=\"'Fira Mono', 'Source Code Pro', 'Courier', monospace\" font-style=\"italic\" font-size=\"10.00\">collect()</text>\n",
       "</a>\n",
       "</g>\n",
       "<g id=\"a_node6_17\"><a xlink:href=\"#\" xlink:title=\"metric(self, location: Any) &#45;&gt; Optional[float]:&#10;Return a metric for an event, or none.\">\n",
       "<text text-anchor=\"start\" x=\"203.75\" y=\"-18.5\" font-family=\"'Fira Mono', 'Source Code Pro', 'Courier', monospace\" font-style=\"italic\" font-size=\"10.00\">metric()</text>\n",
       "</a>\n",
       "</g>\n",
       "<g id=\"a_node6_18\"><a xlink:href=\"#\" xlink:title=\"reset_timer(self) &#45;&gt; None\">\n",
       "<text text-anchor=\"start\" x=\"203.75\" y=\"-6.25\" font-family=\"'Fira Mono', 'Source Code Pro', 'Courier', monospace\" font-size=\"10.00\">reset_timer()</text>\n",
       "</a>\n",
       "</g>\n",
       "</a>\n",
       "</g>\n",
       "</a>\n",
       "</g>\n",
       "</g>\n",
       "<!-- MetricCollector -->\n",
       "<g id=\"node7\" class=\"node\">\n",
       "<title>MetricCollector</title>\n",
       "<g id=\"a_node7\"><a xlink:href=\"#\" xlink:title=\"class MetricCollector:&#10;Abstract superclass for collecting line&#45;specific metrics\">\n",
       "<polygon fill=\"none\" stroke=\"black\" points=\"197.75,-149.5 197.75,-227.75 309.75,-227.75 309.75,-149.5 197.75,-149.5\"/>\n",
       "<text text-anchor=\"start\" x=\"205.75\" y=\"-211.45\" font-family=\"Raleway, Helvetica, Arial, sans-serif\" font-weight=\"bold\" font-size=\"14.00\" fill=\"#6a0dad\">MetricCollector</text>\n",
       "<polyline fill=\"none\" stroke=\"black\" points=\"197.75,-202.5 309.75,-202.5\"/>\n",
       "<g id=\"a_node7_19\"><a xlink:href=\"#\" xlink:title=\"MetricCollector\">\n",
       "<g id=\"a_node7_20\"><a xlink:href=\"#\" xlink:title=\"all_metrics(self, func: str) &#45;&gt; List[float]:&#10;Return all metric for a function `func`.\">\n",
       "<text text-anchor=\"start\" x=\"214.75\" y=\"-190\" font-family=\"'Fira Mono', 'Source Code Pro', 'Courier', monospace\" font-style=\"italic\" font-size=\"10.00\">all_metrics()</text>\n",
       "</a>\n",
       "</g>\n",
       "<g id=\"a_node7_21\"><a xlink:href=\"#\" xlink:title=\"maximum(self, func: str) &#45;&gt; float\">\n",
       "<text text-anchor=\"start\" x=\"214.75\" y=\"-177.75\" font-family=\"'Fira Mono', 'Source Code Pro', 'Courier', monospace\" font-size=\"10.00\">maximum()</text>\n",
       "</a>\n",
       "</g>\n",
       "<g id=\"a_node7_22\"><a xlink:href=\"#\" xlink:title=\"metric(self, event: Any) &#45;&gt; Optional[float]:&#10;Return a metric for an event, or none.\">\n",
       "<text text-anchor=\"start\" x=\"214.75\" y=\"-167.5\" font-family=\"'Fira Mono', 'Source Code Pro', 'Courier', monospace\" font-style=\"italic\" font-size=\"10.00\">metric()</text>\n",
       "</a>\n",
       "</g>\n",
       "<g id=\"a_node7_23\"><a xlink:href=\"#\" xlink:title=\"total(self, func: str) &#45;&gt; float\">\n",
       "<text text-anchor=\"start\" x=\"214.75\" y=\"-155.25\" font-family=\"'Fira Mono', 'Source Code Pro', 'Courier', monospace\" font-size=\"10.00\">total()</text>\n",
       "</a>\n",
       "</g>\n",
       "</a>\n",
       "</g>\n",
       "</a>\n",
       "</g>\n",
       "</g>\n",
       "<!-- TimeCollector&#45;&gt;MetricCollector -->\n",
       "<g id=\"edge5\" class=\"edge\">\n",
       "<title>TimeCollector&#45;&gt;MetricCollector</title>\n",
       "<path fill=\"none\" stroke=\"black\" d=\"M246.78,-101.65C247.75,-113.58 248.78,-126.31 249.75,-138.22\"/>\n",
       "<polygon fill=\"none\" stroke=\"black\" points=\"246.23,-138.14 250.53,-147.83 253.21,-137.58 246.23,-138.14\"/>\n",
       "</g>\n",
       "<!-- CoverageCollector -->\n",
       "<g id=\"node8\" class=\"node\">\n",
       "<title>CoverageCollector</title>\n",
       "<g id=\"a_node8\"><a xlink:href=\"StatisticalDebugger.ipynb\" xlink:title=\"class CoverageCollector:&#10;A class to record covered locations during execution.\">\n",
       "<polygon fill=\"none\" stroke=\"black\" points=\"186.88,-276 186.88,-312 320.62,-312 320.62,-276 186.88,-276\"/>\n",
       "<text text-anchor=\"start\" x=\"194.88\" y=\"-290.7\" font-family=\"Raleway, Helvetica, Arial, sans-serif\" font-weight=\"bold\" font-size=\"14.00\" fill=\"#6a0dad\">CoverageCollector</text>\n",
       "</a>\n",
       "</g>\n",
       "</g>\n",
       "<!-- MetricCollector&#45;&gt;CoverageCollector -->\n",
       "<g id=\"edge6\" class=\"edge\">\n",
       "<title>MetricCollector&#45;&gt;CoverageCollector</title>\n",
       "<path fill=\"none\" stroke=\"black\" d=\"M253.75,-228.12C253.75,-240.09 253.75,-253.07 253.75,-264.26\"/>\n",
       "<polygon fill=\"none\" stroke=\"black\" points=\"250.25,-264.05 253.75,-274.05 257.25,-264.05 250.25,-264.05\"/>\n",
       "</g>\n",
       "<!-- Collector -->\n",
       "<g id=\"node9\" class=\"node\">\n",
       "<title>Collector</title>\n",
       "<g id=\"a_node9\"><a xlink:href=\"StatisticalDebugger.ipynb\" xlink:title=\"class Collector:&#10;A class to record events during execution.\">\n",
       "<polygon fill=\"none\" stroke=\"black\" points=\"194.62,-358.88 194.62,-394.88 266.88,-394.88 266.88,-358.88 194.62,-358.88\"/>\n",
       "<text text-anchor=\"start\" x=\"202.62\" y=\"-373.57\" font-family=\"Raleway, Helvetica, Arial, sans-serif\" font-weight=\"bold\" font-size=\"14.00\" fill=\"#6a0dad\">Collector</text>\n",
       "</a>\n",
       "</g>\n",
       "</g>\n",
       "<!-- CoverageCollector&#45;&gt;Collector -->\n",
       "<g id=\"edge7\" class=\"edge\">\n",
       "<title>CoverageCollector&#45;&gt;Collector</title>\n",
       "<path fill=\"none\" stroke=\"black\" d=\"M248.87,-312.15C245.93,-322.48 242.12,-335.89 238.75,-347.74\"/>\n",
       "<polygon fill=\"none\" stroke=\"black\" points=\"235.48,-346.44 236.11,-357.01 242.22,-348.35 235.48,-346.44\"/>\n",
       "</g>\n",
       "<!-- StackInspector -->\n",
       "<g id=\"node11\" class=\"node\">\n",
       "<title>StackInspector</title>\n",
       "<g id=\"a_node11\"><a xlink:href=\"StackInspector.ipynb\" xlink:title=\"class StackInspector:&#10;Provide functions to inspect the stack\">\n",
       "<polygon fill=\"none\" stroke=\"black\" points=\"183.75,-514.75 183.75,-559.25 349.75,-559.25 349.75,-514.75 183.75,-514.75\"/>\n",
       "<text text-anchor=\"start\" x=\"220.25\" y=\"-542.95\" font-family=\"Raleway, Helvetica, Arial, sans-serif\" font-weight=\"bold\" font-size=\"14.00\" fill=\"#6a0dad\">StackInspector</text>\n",
       "<polyline fill=\"none\" stroke=\"black\" points=\"183.75,-534 349.75,-534\"/>\n",
       "<g id=\"a_node11_24\"><a xlink:href=\"#\" xlink:title=\"StackInspector\">\n",
       "<g id=\"a_node11_25\"><a xlink:href=\"StackInspector.ipynb\" xlink:title=\"_generated_function_cache = {(&#39;remove_html_markup&#39;, 238): &lt;function remove_html_markup at 0x171e71240&gt;}\">\n",
       "<text text-anchor=\"start\" x=\"191.75\" y=\"-520.5\" font-family=\"'Fira Mono', 'Source Code Pro', 'Courier', monospace\" font-size=\"10.00\">_generated_function_cache</text>\n",
       "</a>\n",
       "</g>\n",
       "</a>\n",
       "</g>\n",
       "</a>\n",
       "</g>\n",
       "</g>\n",
       "<!-- CoverageCollector&#45;&gt;StackInspector -->\n",
       "<g id=\"edge10\" class=\"edge\">\n",
       "<title>CoverageCollector&#45;&gt;StackInspector</title>\n",
       "<path fill=\"none\" stroke=\"black\" d=\"M262.88,-312.29C267.76,-322.51 273.26,-335.89 275.75,-348.5 286.3,-401.87 279.26,-465.36 273.09,-503.09\"/>\n",
       "<polygon fill=\"none\" stroke=\"black\" points=\"269.65,-502.44 271.4,-512.89 276.55,-503.63 269.65,-502.44\"/>\n",
       "</g>\n",
       "<!-- Tracer -->\n",
       "<g id=\"node10\" class=\"node\">\n",
       "<title>Tracer</title>\n",
       "<g id=\"a_node10\"><a xlink:href=\"Tracer.ipynb\" xlink:title=\"class Tracer:&#10;A class for tracing a piece of code. Use as `with Tracer(): block()`\">\n",
       "<polygon fill=\"none\" stroke=\"black\" points=\"207.25,-441.75 207.25,-477.75 262.25,-477.75 262.25,-441.75 207.25,-441.75\"/>\n",
       "<text text-anchor=\"start\" x=\"215.25\" y=\"-456.45\" font-family=\"Raleway, Helvetica, Arial, sans-serif\" font-weight=\"bold\" font-size=\"14.00\" fill=\"#6a0dad\">Tracer</text>\n",
       "</a>\n",
       "</g>\n",
       "</g>\n",
       "<!-- Collector&#45;&gt;Tracer -->\n",
       "<g id=\"edge8\" class=\"edge\">\n",
       "<title>Collector&#45;&gt;Tracer</title>\n",
       "<path fill=\"none\" stroke=\"black\" d=\"M231.6,-395.03C232.1,-405.14 232.75,-418.21 233.32,-429.88\"/>\n",
       "<polygon fill=\"none\" stroke=\"black\" points=\"229.82,-430.02 233.81,-439.83 236.82,-429.67 229.82,-430.02\"/>\n",
       "</g>\n",
       "<!-- Tracer&#45;&gt;StackInspector -->\n",
       "<g id=\"edge9\" class=\"edge\">\n",
       "<title>Tracer&#45;&gt;StackInspector</title>\n",
       "<path fill=\"none\" stroke=\"black\" d=\"M242.17,-478.2C245.43,-485.86 249.36,-495.09 253.11,-503.92\"/>\n",
       "<polygon fill=\"none\" stroke=\"black\" points=\"249.81,-505.11 256.94,-512.94 256.25,-502.37 249.81,-505.11\"/>\n",
       "</g>\n",
       "<!-- HitCollector -->\n",
       "<g id=\"node12\" class=\"node\">\n",
       "<title>HitCollector</title>\n",
       "<g id=\"a_node12\"><a xlink:href=\"#\" xlink:title=\"class HitCollector:&#10;Collect how often a line is executed\">\n",
       "<polygon fill=\"none\" stroke=\"black\" points=\"312.75,-11.75 312.75,-90 406.75,-90 406.75,-11.75 312.75,-11.75\"/>\n",
       "<text text-anchor=\"start\" x=\"323\" y=\"-73.7\" font-family=\"Raleway, Helvetica, Arial, sans-serif\" font-weight=\"bold\" font-size=\"14.00\" fill=\"#6a0dad\">HitCollector</text>\n",
       "<polyline fill=\"none\" stroke=\"black\" points=\"312.75,-64.75 406.75,-64.75\"/>\n",
       "<g id=\"a_node12_26\"><a xlink:href=\"#\" xlink:title=\"HitCollector\">\n",
       "<g id=\"a_node12_27\"><a xlink:href=\"#\" xlink:title=\"__init__(self) &#45;&gt; None:&#10;Constructor.\">\n",
       "<text text-anchor=\"start\" x=\"320.75\" y=\"-52.25\" font-family=\"'Fira Mono', 'Source Code Pro', 'Courier', monospace\" font-style=\"italic\" font-size=\"10.00\">__init__()</text>\n",
       "</a>\n",
       "</g>\n",
       "<g id=\"a_node12_28\"><a xlink:href=\"#\" xlink:title=\"all_metrics(self, func: str) &#45;&gt; List[float]:&#10;Return all metric for a function `func`.\">\n",
       "<text text-anchor=\"start\" x=\"320.75\" y=\"-41\" font-family=\"'Fira Mono', 'Source Code Pro', 'Courier', monospace\" font-style=\"italic\" font-size=\"10.00\">all_metrics()</text>\n",
       "</a>\n",
       "</g>\n",
       "<g id=\"a_node12_29\"><a xlink:href=\"#\" xlink:title=\"collect(self, frame: frame, event: str, arg: Any) &#45;&gt; None:&#10;Save coverage for an observed event.\">\n",
       "<text text-anchor=\"start\" x=\"320.75\" y=\"-29.75\" font-family=\"'Fira Mono', 'Source Code Pro', 'Courier', monospace\" font-style=\"italic\" font-size=\"10.00\">collect()</text>\n",
       "</a>\n",
       "</g>\n",
       "<g id=\"a_node12_30\"><a xlink:href=\"#\" xlink:title=\"metric(self, location: Tuple[str, int]) &#45;&gt; Optional[int]:&#10;Return a metric for an event, or none.\">\n",
       "<text text-anchor=\"start\" x=\"320.75\" y=\"-18.5\" font-family=\"'Fira Mono', 'Source Code Pro', 'Courier', monospace\" font-style=\"italic\" font-size=\"10.00\">metric()</text>\n",
       "</a>\n",
       "</g>\n",
       "</a>\n",
       "</g>\n",
       "</a>\n",
       "</g>\n",
       "</g>\n",
       "<!-- HitCollector&#45;&gt;MetricCollector -->\n",
       "<g id=\"edge11\" class=\"edge\">\n",
       "<title>HitCollector&#45;&gt;MetricCollector</title>\n",
       "<path fill=\"none\" stroke=\"black\" d=\"M329.66,-90.41C317.47,-106.02 303.28,-124.19 290.49,-140.57\"/>\n",
       "<polygon fill=\"none\" stroke=\"black\" points=\"287.88,-138.23 284.48,-148.27 293.39,-142.54 287.88,-138.23\"/>\n",
       "</g>\n",
       "<!-- Legend -->\n",
       "<g id=\"node13\" class=\"node\">\n",
       "<title>Legend</title>\n",
       "<text text-anchor=\"start\" x=\"425.12\" y=\"-66.88\" font-family=\"Raleway, Helvetica, Arial, sans-serif\" font-weight=\"bold\" font-size=\"10.00\" fill=\"#6a0dad\">Legend</text>\n",
       "<text text-anchor=\"start\" x=\"425.12\" y=\"-56.88\" font-family=\"Raleway, Helvetica, Arial, sans-serif\" font-size=\"10.00\">• </text>\n",
       "<text text-anchor=\"start\" x=\"431.12\" y=\"-56.88\" font-family=\"'Fira Mono', 'Source Code Pro', 'Courier', monospace\" font-weight=\"bold\" font-size=\"8.00\">public_method()</text>\n",
       "<text text-anchor=\"start\" x=\"425.12\" y=\"-46.88\" font-family=\"Raleway, Helvetica, Arial, sans-serif\" font-size=\"10.00\">• </text>\n",
       "<text text-anchor=\"start\" x=\"431.12\" y=\"-46.88\" font-family=\"'Fira Mono', 'Source Code Pro', 'Courier', monospace\" font-size=\"8.00\">private_method()</text>\n",
       "<text text-anchor=\"start\" x=\"425.12\" y=\"-36.88\" font-family=\"Raleway, Helvetica, Arial, sans-serif\" font-size=\"10.00\">• </text>\n",
       "<text text-anchor=\"start\" x=\"431.12\" y=\"-36.88\" font-family=\"'Fira Mono', 'Source Code Pro', 'Courier', monospace\" font-style=\"italic\" font-size=\"8.00\">overloaded_method()</text>\n",
       "<text text-anchor=\"start\" x=\"425.12\" y=\"-27.82\" font-family=\"Helvetica,sans-Serif\" font-size=\"9.00\">Hover over names to see doc</text>\n",
       "</g>\n",
       "</g>\n",
       "</svg>\n"
      ],
      "text/plain": [
       "<graphviz.graphs.Digraph at 0x171e52fb0>"
      ]
     },
     "execution_count": 57,
     "metadata": {},
     "output_type": "execute_result"
    }
   ],
   "source": [
    "# ignore\n",
    "display_class_hierarchy([PerformanceDebugger, TimeCollector, HitCollector],\n",
    "                        public_methods=[\n",
    "                            PerformanceDebugger.__init__,\n",
    "                        ],\n",
    "                        project='debuggingbook')"
   ]
  },
  {
   "cell_type": "markdown",
   "metadata": {
    "button": false,
    "new_sheet": true,
    "run_control": {
     "read_only": false
    },
    "slideshow": {
     "slide_type": "slide"
    }
   },
   "source": [
    "## Lessons Learned\n",
    "\n",
    "* To measure performance,\n",
    "    * instrument the code such that the time taken per function (or line) is collected; or\n",
    "    * sample the execution that at regular intervals, the active call stack is collected.\n",
    "* To make code performant, focus on efficient algorithms, efficient data types, and sufficient abstraction such that you can replace them by alternatives.\n",
    "* Beyond efficient algorithms and data types, do _not_ optimize before measuring."
   ]
  },
  {
   "cell_type": "markdown",
   "metadata": {
    "button": false,
    "new_sheet": false,
    "run_control": {
     "read_only": false
    },
    "slideshow": {
     "slide_type": "slide"
    }
   },
   "source": [
    "## Next Steps\n",
    "\n",
    "This chapter concludes the part on abstracting failures. The next part will focus on\n",
    "\n",
    "* [repairing code automatically](Repairer.ipynb)"
   ]
  },
  {
   "cell_type": "markdown",
   "metadata": {
    "slideshow": {
     "slide_type": "slide"
    }
   },
   "source": [
    "## Background\n",
    "\n",
    "[Scalene](https://github.com/plasma-umass/scalene) is a high-performance, high-precision CPU, GPU, and memory profiler for Python. In contrast to the standard Python `cProfile` profiler, it uses _sampling_ instead of instrumentation or relying on Python's tracing facilities; and it also supports line-by-line profiling. Scalene might be the tool of choice if you want to go beyond basic profiling.\n",
    "\n",
    "The Wikipedia articles on [profiling](https://en.wikipedia.org/wiki/Profiling_(computer_programming)) and [performance analysis tools](https://en.wikipedia.org/wiki/List_of_performance_analysis_tools) provide several additional resources on profiling tools and how to apply them in practice."
   ]
  },
  {
   "cell_type": "markdown",
   "metadata": {
    "button": false,
    "new_sheet": true,
    "run_control": {
     "read_only": false
    },
    "slideshow": {
     "slide_type": "slide"
    }
   },
   "source": [
    "## Exercises"
   ]
  },
  {
   "attachments": {},
   "cell_type": "markdown",
   "metadata": {
    "button": false,
    "new_sheet": false,
    "run_control": {
     "read_only": false
    },
    "slideshow": {
     "slide_type": "subslide"
    }
   },
   "source": [
    "### Exercise 1: Profiling Memory Usage\n",
    "\n",
    "The Python [`tracemalloc` module](https://docs.python.org/3/library/tracemalloc.html) allows tracking memory usage during execution. Between `tracemalloc.start()` and `tracemalloc.end()`, use `tracemalloc.get_traced_memory()` to obtain how much memory is currently being consumed:"
   ]
  },
  {
   "cell_type": "code",
   "execution_count": 58,
   "metadata": {
    "execution": {
     "iopub.execute_input": "2023-10-16T17:54:16.159486Z",
     "iopub.status.busy": "2023-10-16T17:54:16.159283Z",
     "iopub.status.idle": "2023-10-16T17:54:16.163797Z",
     "shell.execute_reply": "2023-10-16T17:54:16.163477Z"
    },
    "slideshow": {
     "slide_type": "skip"
    }
   },
   "outputs": [],
   "source": [
    "import tracemalloc"
   ]
  },
  {
   "cell_type": "code",
   "execution_count": 59,
   "metadata": {
    "execution": {
     "iopub.execute_input": "2023-10-16T17:54:16.165818Z",
     "iopub.status.busy": "2023-10-16T17:54:16.165692Z",
     "iopub.status.idle": "2023-10-16T17:54:16.167792Z",
     "shell.execute_reply": "2023-10-16T17:54:16.167352Z"
    },
    "slideshow": {
     "slide_type": "fragment"
    }
   },
   "outputs": [],
   "source": [
    "tracemalloc.start()"
   ]
  },
  {
   "cell_type": "code",
   "execution_count": 60,
   "metadata": {
    "execution": {
     "iopub.execute_input": "2023-10-16T17:54:16.169830Z",
     "iopub.status.busy": "2023-10-16T17:54:16.169641Z",
     "iopub.status.idle": "2023-10-16T17:54:16.174868Z",
     "shell.execute_reply": "2023-10-16T17:54:16.174397Z"
    },
    "slideshow": {
     "slide_type": "fragment"
    }
   },
   "outputs": [
    {
     "data": {
      "text/plain": [
       "20886"
      ]
     },
     "execution_count": 60,
     "metadata": {},
     "output_type": "execute_result"
    }
   ],
   "source": [
    "current_size, peak_size = tracemalloc.get_traced_memory()\n",
    "current_size"
   ]
  },
  {
   "cell_type": "code",
   "execution_count": 61,
   "metadata": {
    "execution": {
     "iopub.execute_input": "2023-10-16T17:54:16.176744Z",
     "iopub.status.busy": "2023-10-16T17:54:16.176547Z",
     "iopub.status.idle": "2023-10-16T17:54:16.178562Z",
     "shell.execute_reply": "2023-10-16T17:54:16.178310Z"
    },
    "slideshow": {
     "slide_type": "fragment"
    }
   },
   "outputs": [],
   "source": [
    "tracemalloc.stop()"
   ]
  },
  {
   "attachments": {},
   "cell_type": "markdown",
   "metadata": {
    "slideshow": {
     "slide_type": "subslide"
    }
   },
   "source": [
    "Create a subclass of `MetricCollector` named `MemoryCollector`. Make it measure the memory consumption before and after each line executed (0 if negative), and visualize the impact of individual lines on memory. Create an appropriate test program that (temporarily) consumes larger amounts of memory."
   ]
  },
  {
   "attachments": {},
   "cell_type": "markdown",
   "metadata": {
    "slideshow": {
     "slide_type": "slide"
    }
   },
   "source": [
    "## Exercise 2: Statistical Performance Debugging\n",
    "\n",
    "In a similar way as we integrated a binary \"performance test\" with delta debugging, we can also integrate such a test with other techniques. Combining a performance test with [Statistical Debugging](StatisticalDebugger.ipynb), for instance, will highlight those lines whose execution correlates with low performance. But then, the performance test need not be binary, as with functional pass/fail tests – you can also _weight_ individual lines by _how much_ they impact performance. Create a variant of `StatisticalDebugger` that reflects the impact of individual lines on an arbitrary (summarized) performance metric."
   ]
  }
 ],
 "metadata": {
  "ipub": {
   "bibliography": "fuzzingbook.bib",
   "toc": true
  },
  "kernelspec": {
   "display_name": "Python 3 (ipykernel)",
   "language": "python",
   "name": "python3"
  },
  "language_info": {
   "codemirror_mode": {
    "name": "ipython",
    "version": 3
   },
   "file_extension": ".py",
   "mimetype": "text/x-python",
   "name": "python",
   "nbconvert_exporter": "python",
   "pygments_lexer": "ipython3",
   "version": "3.10.2"
  },
  "toc": {
   "base_numbering": 1,
   "nav_menu": {},
   "number_sections": true,
   "sideBar": true,
   "skip_h1_title": true,
   "title_cell": "",
   "title_sidebar": "Contents",
   "toc_cell": false,
   "toc_position": {},
   "toc_section_display": true,
   "toc_window_display": true
  },
  "toc-autonumbering": false
 },
 "nbformat": 4,
 "nbformat_minor": 4
}