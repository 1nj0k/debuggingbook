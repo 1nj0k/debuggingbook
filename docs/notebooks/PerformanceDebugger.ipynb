{
 "cells": [
  {
   "cell_type": "markdown",
   "metadata": {
    "button": false,
    "new_sheet": false,
    "run_control": {
     "read_only": false
    },
    "slideshow": {
     "slide_type": "slide"
    }
   },
   "source": [
    "# Debugging Performance Issues\n",
    "\n",
    "Most chapters of this book deal with _functional_ issues – that is, issues related to the _functionality_ (or its absence) of the code in question. However, debugging can also involve _nonfunctional_ issues, however – performance, usability, reliability, and more. In this chapter, we give a short introduction on how to debug such nonfunctional issues, notably _performance_ issues."
   ]
  },
  {
   "cell_type": "code",
   "execution_count": 1,
   "metadata": {
    "execution": {
     "iopub.execute_input": "2022-08-06T23:06:54.531664Z",
     "iopub.status.busy": "2022-08-06T23:06:54.531290Z",
     "iopub.status.idle": "2022-08-06T23:06:54.585443Z",
     "shell.execute_reply": "2022-08-06T23:06:54.585710Z"
    },
    "slideshow": {
     "slide_type": "skip"
    }
   },
   "outputs": [
    {
     "data": {
      "text/html": [
       "\n",
       "        <iframe\n",
       "            width=\"640\"\n",
       "            height=\"360\"\n",
       "            src=\"https://www.youtube-nocookie.com/embed/0tMeB9G0uUI\"\n",
       "            frameborder=\"0\"\n",
       "            allowfullscreen\n",
       "        ></iframe>\n",
       "        "
      ],
      "text/plain": [
       "<IPython.lib.display.IFrame at 0x10b4379a0>"
      ]
     },
     "execution_count": 1,
     "metadata": {},
     "output_type": "execute_result"
    }
   ],
   "source": [
    "from bookutils import YouTubeVideo\n",
    "YouTubeVideo(\"0tMeB9G0uUI\")"
   ]
  },
  {
   "cell_type": "markdown",
   "metadata": {
    "button": false,
    "new_sheet": false,
    "run_control": {
     "read_only": false
    },
    "slideshow": {
     "slide_type": "subslide"
    }
   },
   "source": [
    "**Prerequisites**\n",
    "\n",
    "* This chapter leverages visualization capabilities from [the chapter on statistical debugging](StatisticalDebugger.ipynb).\n",
    "* We also show how to debug nonfunctional issues using [delta debugging](DeltaDebugger.ipynb)."
   ]
  },
  {
   "cell_type": "code",
   "execution_count": 2,
   "metadata": {
    "button": false,
    "execution": {
     "iopub.execute_input": "2022-08-06T23:06:54.588010Z",
     "iopub.status.busy": "2022-08-06T23:06:54.587685Z",
     "iopub.status.idle": "2022-08-06T23:06:54.588765Z",
     "shell.execute_reply": "2022-08-06T23:06:54.589085Z"
    },
    "new_sheet": false,
    "run_control": {
     "read_only": false
    },
    "slideshow": {
     "slide_type": "skip"
    }
   },
   "outputs": [],
   "source": [
    "import bookutils"
   ]
  },
  {
   "cell_type": "code",
   "execution_count": 3,
   "metadata": {
    "execution": {
     "iopub.execute_input": "2022-08-06T23:06:54.594055Z",
     "iopub.status.busy": "2022-08-06T23:06:54.593711Z",
     "iopub.status.idle": "2022-08-06T23:06:55.142567Z",
     "shell.execute_reply": "2022-08-06T23:06:55.142763Z"
    },
    "slideshow": {
     "slide_type": "skip"
    }
   },
   "outputs": [],
   "source": [
    "import StatisticalDebugger\n",
    "import DeltaDebugger"
   ]
  },
  {
   "cell_type": "markdown",
   "metadata": {
    "slideshow": {
     "slide_type": "skip"
    }
   },
   "source": [
    "## Synopsis\n",
    "<!-- Automatically generated. Do not edit. -->\n",
    "\n",
    "To [use the code provided in this chapter](Importing.ipynb), write\n",
    "\n",
    "```python\n",
    ">>> from debuggingbook.PerformanceDebugger import <identifier>\n",
    "```\n",
    "\n",
    "and then make use of the following features.\n",
    "\n",
    "\n",
    "This chapter provides a class `PerformanceDebugger` that allows to measure and visualize the time taken per line in a function.\n",
    "\n",
    "```python\n",
    ">>> with PerformanceDebugger(TimeCollector) as debugger:\n",
    ">>>     for i in range(100):\n",
    ">>>         s = remove_html_markup('<b>foo</b>')\n",
    "```\n",
    "The distribution of executed time within each function can be obtained by printing out the debugger:\n",
    "\n",
    "```python\n",
    ">>> print(debugger)\n",
    " 238   2% def remove_html_markup(s):  # type: ignore\n",
    " 239   2%     tag = False\n",
    " 240   1%     quote = False\n",
    " 241   1%     out = \"\"\n",
    " 242   0%\n",
    " 243  17%     for c in s:\n",
    " 244  15%         assert tag or not quote\n",
    " 245   0%\n",
    " 246  14%         if c == '<' and not quote:\n",
    " 247   3%             tag = True\n",
    " 248  11%         elif c == '>' and not quote:\n",
    " 249   3%             tag = False\n",
    " 250   9%         elif (c == '\"' or c == \"'\") and tag:\n",
    " 251   0%             quote = not quote\n",
    " 252   9%         elif not tag:\n",
    " 253   4%             out = out + c\n",
    " 254   0%\n",
    " 255   2%     return out\n",
    "\n",
    "\n",
    "```\n",
    "The sum of all percentages in a function should always be 100%.\n",
    "\n",
    "These percentages can also be visualized, where darker shades represent higher percentage values:\n",
    "\n",
    "```python\n",
    ">>> debugger\n",
    "```\n",
    "<pre style=\"background-color:hsl(240, 100%, 96.93939024391706%)\"\n",
    "                    title=\"Line 238:   2% 0.0002377084456384182\"> 238 def remove_html_markup(s):  # type: ignore</pre>\n",
    "<pre style=\"background-color:hsl(240, 100%, 97.10727336019127%)\"\n",
    "                    title=\"Line 239:   2% 0.0002246694639325142\"> 239     tag = False</pre>\n",
    "<pre style=\"background-color:hsl(240, 100%, 97.35684818140514%)\"\n",
    "                    title=\"Line 240:   1% 0.0002052857307717204\"> 240     quote = False</pre>\n",
    "<pre style=\"background-color:hsl(240, 100%, 97.51027288066227%)\"\n",
    "                    title=\"Line 241:   1% 0.00019336969126015902\"> 241     out = &quot;&quot;</pre>\n",
    "<pre style=\"background-color:hsl(240, 100%, 100.0%)\"\n",
    "                    title=\"Line 242:   0% 0.0\"> 242 &nbsp;</pre>\n",
    "<pre style=\"background-color:hsl(240, 100%, 75.0%)\"\n",
    "                    title=\"Line 243:  17% 0.001941675553098321\"> 243     for c in s:</pre>\n",
    "<pre style=\"background-color:hsl(240, 100%, 78.84232207393477%)\"\n",
    "                    title=\"Line 244:  15% 0.0016432538395747542\"> 244         assert tag or not quote</pre>\n",
    "<pre style=\"background-color:hsl(240, 100%, 100.0%)\"\n",
    "                    title=\"Line 245:   0% 0.0\"> 245 &nbsp;</pre>\n",
    "<pre style=\"background-color:hsl(240, 100%, 79.21628934485113%)\"\n",
    "                    title=\"Line 246:  14% 0.001614208915270865\"> 246         if c == &#x27;&lt;&#x27; and not quote:</pre>\n",
    "<pre style=\"background-color:hsl(240, 100%, 95.77364102571482%)\"\n",
    "                    title=\"Line 247:   3% 0.00032824871595948935\"> 247             tag = True</pre>\n",
    "<pre style=\"background-color:hsl(240, 100%, 83.23885898477751%)\"\n",
    "                    title=\"Line 248:  11% 0.0013017879100516438\"> 248         elif c == &#x27;&gt;&#x27; and not quote:</pre>\n",
    "<pre style=\"background-color:hsl(240, 100%, 95.77201321720554%)\"\n",
    "                    title=\"Line 249:   3% 0.0003283751429989934\"> 249             tag = False</pre>\n",
    "<pre style=\"background-color:hsl(240, 100%, 86.49741085515046%)\"\n",
    "                    title=\"Line 250:   9% 0.0010487058898434043\"> 250         elif (c == &#x27;&quot;&#x27; or c == &quot;&#x27;&quot;) and tag:</pre>\n",
    "<pre style=\"background-color:hsl(240, 100%, 100.0%)\"\n",
    "                    title=\"Line 251:   0% 0.0\"> 251             quote = not quote</pre>\n",
    "<pre style=\"background-color:hsl(240, 100%, 86.80520905917705%)\"\n",
    "                    title=\"Line 252:   9% 0.001024800119921565\"> 252         elif not tag:</pre>\n",
    "<pre style=\"background-color:hsl(240, 100%, 93.76882846831433%)\"\n",
    "                    title=\"Line 253:   4% 0.0004839565372094512\"> 253             out = out + c</pre>\n",
    "<pre style=\"background-color:hsl(240, 100%, 100.0%)\"\n",
    "                    title=\"Line 254:   0% 0.0\"> 254 &nbsp;</pre>\n",
    "<pre style=\"background-color:hsl(240, 100%, 95.79171929314619%)\"\n",
    "                    title=\"Line 255:   2% 0.0003268446307629347\"> 255     return out</pre>\n",
    "\n",
    "\n",
    "The abstract `MetricCollector` class allows subclassing to build more collectors, such as `HitCollector`.\n",
    "\n",
    "![](PICS/PerformanceDebugger-synopsis-1.svg)\n",
    "\n"
   ]
  },
  {
   "cell_type": "markdown",
   "metadata": {
    "slideshow": {
     "slide_type": "slide"
    }
   },
   "source": [
    "## Measuring Performance\n",
    "\n",
    "The solution to debugging performance issues fits in two simple rules:\n",
    "\n",
    "1. _Measure_ performance\n",
    "2. _Break down_ how individual parts of your code contribute to performance.\n",
    "\n",
    "The first part, actually _measuring_ performance, is key here. Developers often take elaborated guesses on which aspects of their code impact performance, and think about all possible ways to optimize their code – and at the same time, making it harder to understand, harder to evolve, and harder to maintain. In most cases, such guesses are wrong. Instead, _measure_ performance of your program, _identify_ the very few parts that may need to get improved, and again _measure_ the impact of your changes."
   ]
  },
  {
   "cell_type": "markdown",
   "metadata": {
    "slideshow": {
     "slide_type": "subslide"
    }
   },
   "source": [
    "Almost all programming languages offer a way to measure performance and breaking it down to individual parts of the code – a means also known as *profiling*. Profiling works by measuring the execution time for each function (or even more fine-grained location) in your program. This can be achieved by\n",
    "\n",
    "1. _Instrumenting_ or _tracing_ code such that the current time at entry and exit of each function (or line), thus determining the time spent. In Python, this is achieved by profilers like [profile or cProfile](https://docs.python.org/3/library/profile.html)\n",
    "\n",
    "2. _Sampling_ the current function call stack at regular intervals, and thus assessing which functions are most active (= take the most time) during execution. For Python, the [scalene](https://github.com/plasma-umass/scalene) profiler works this way.\n",
    "\n",
    "Pretty much all programming languages support profiling, either through measuring, sampling, or both. As a rule of thumb, _interpreted_ languages more frequently support measuring (as it is easy to implement in an interpreter), while _compiled_ languages more frequently support sampling (because instrumentation requires recompilation). Python is lucky to support both methods."
   ]
  },
  {
   "cell_type": "markdown",
   "metadata": {
    "slideshow": {
     "slide_type": "subslide"
    }
   },
   "source": [
    "### Tracing Execution Profiles\n",
    "\n",
    "Let us illustrate profiling in a simple example. The `ChangeCounter` class (which we will encounter in the [chapter on mining version histories](ChangeCounter.ipynb) reads in a version history from a git repository. Yet, it takes more than a minute to read in the debugging book change history:"
   ]
  },
  {
   "cell_type": "code",
   "execution_count": 4,
   "metadata": {
    "execution": {
     "iopub.execute_input": "2022-08-06T23:06:55.145764Z",
     "iopub.status.busy": "2022-08-06T23:06:55.145305Z",
     "iopub.status.idle": "2022-08-06T23:06:55.443362Z",
     "shell.execute_reply": "2022-08-06T23:06:55.443581Z"
    },
    "slideshow": {
     "slide_type": "skip"
    }
   },
   "outputs": [],
   "source": [
    "from ChangeCounter import ChangeCounter, debuggingbook_change_counter  # minor dependency"
   ]
  },
  {
   "cell_type": "code",
   "execution_count": 5,
   "metadata": {
    "execution": {
     "iopub.execute_input": "2022-08-06T23:06:55.446142Z",
     "iopub.status.busy": "2022-08-06T23:06:55.445767Z",
     "iopub.status.idle": "2022-08-06T23:06:55.447138Z",
     "shell.execute_reply": "2022-08-06T23:06:55.447454Z"
    },
    "slideshow": {
     "slide_type": "skip"
    }
   },
   "outputs": [],
   "source": [
    "import Timer"
   ]
  },
  {
   "cell_type": "code",
   "execution_count": 6,
   "metadata": {
    "execution": {
     "iopub.execute_input": "2022-08-06T23:06:55.449723Z",
     "iopub.status.busy": "2022-08-06T23:06:55.449192Z",
     "iopub.status.idle": "2022-08-06T23:09:22.293717Z",
     "shell.execute_reply": "2022-08-06T23:09:22.294100Z"
    },
    "slideshow": {
     "slide_type": "fragment"
    }
   },
   "outputs": [],
   "source": [
    "with Timer.Timer() as t:\n",
    "    change_counter = debuggingbook_change_counter(ChangeCounter)"
   ]
  },
  {
   "cell_type": "code",
   "execution_count": 7,
   "metadata": {
    "execution": {
     "iopub.execute_input": "2022-08-06T23:09:22.299012Z",
     "iopub.status.busy": "2022-08-06T23:09:22.297844Z",
     "iopub.status.idle": "2022-08-06T23:09:22.300251Z",
     "shell.execute_reply": "2022-08-06T23:09:22.300441Z"
    },
    "slideshow": {
     "slide_type": "fragment"
    }
   },
   "outputs": [
    {
     "data": {
      "text/plain": [
       "146.84254824998789"
      ]
     },
     "execution_count": 7,
     "metadata": {},
     "output_type": "execute_result"
    }
   ],
   "source": [
    "t.elapsed_time()"
   ]
  },
  {
   "cell_type": "markdown",
   "metadata": {
    "slideshow": {
     "slide_type": "subslide"
    }
   },
   "source": [
    "The Python `profile` and `cProfile` modules offer a simple way to identify the most time-consuming functions. They are invoked using the `run()` function, whose argument is the command to be profiled. The output reports, for each function encountered:\n",
    "\n",
    "* How often it was called (`ncalls` column)\n",
    "* How much time was spent in the given function, _excluding_ time spent in calls to sub-functions (`tottime` column)\n",
    "* The fraction of `tottime` / `ncalls` (first `percall` column)\n",
    "* How much time was spent in the given function, _including_ time spent in calls to sub-functions (`cumtime` column)\n",
    "* The fraction of `cumtime` / `percall` (second `percall` column)\n",
    "\n",
    "Let us have a look at the profile we obtain:"
   ]
  },
  {
   "cell_type": "code",
   "execution_count": 8,
   "metadata": {
    "execution": {
     "iopub.execute_input": "2022-08-06T23:09:22.302901Z",
     "iopub.status.busy": "2022-08-06T23:09:22.302547Z",
     "iopub.status.idle": "2022-08-06T23:09:22.303715Z",
     "shell.execute_reply": "2022-08-06T23:09:22.303946Z"
    },
    "slideshow": {
     "slide_type": "skip"
    }
   },
   "outputs": [],
   "source": [
    "import cProfile"
   ]
  },
  {
   "cell_type": "code",
   "execution_count": 9,
   "metadata": {
    "execution": {
     "iopub.execute_input": "2022-08-06T23:09:22.305909Z",
     "iopub.status.busy": "2022-08-06T23:09:22.305589Z",
     "iopub.status.idle": "2022-08-06T23:11:52.158809Z",
     "shell.execute_reply": "2022-08-06T23:11:52.159325Z"
    },
    "slideshow": {
     "slide_type": "subslide"
    }
   },
   "outputs": [
    {
     "name": "stdout",
     "output_type": "stream",
     "text": [
      "         15844999 function calls (15734477 primitive calls) in 149.534 seconds\n",
      "\n",
      "   Ordered by: cumulative time\n",
      "\n",
      "   ncalls  tottime  percall  cumtime  percall filename:lineno(function)\n",
      "        1    0.000    0.000  149.534  149.534 {built-in method builtins.exec}\n",
      "        1    0.000    0.000  149.534  149.534 <string>:1(<module>)\n",
      "        1    0.000    0.000  149.534  149.534 ChangeCounter.ipynb:165(debuggingbook_change_counter)\n",
      "        1    0.000    0.000  149.534  149.534 ChangeCounter.ipynb:51(__init__)\n",
      "        1    1.355    1.355  149.534  149.534 ChangeCounter.ipynb:88(mine)\n",
      "      993    0.020    0.000  147.831    0.149 ChangeCounter.ipynb:99(mine_commit)\n",
      "      993    0.050    0.000  147.661    0.149 commit.py:657(modified_files)\n",
      "      993    0.037    0.000  147.610    0.149 commit.py:673(_get_modifications)\n",
      "      958    0.200    0.000   76.571    0.080 diff.py:95(diff)\n",
      "      993    0.071    0.000   70.960    0.071 commit.py:707(_parse_diff)\n",
      "    18618    0.189    0.000   70.150    0.004 commit.py:736(_get_decoded_sc_str)\n",
      "      958   10.882    0.011   69.773    0.073 diff.py:445(_index_from_patch_format)\n",
      "   818855   47.680    0.000   47.680    0.000 {method 'decode' of 'bytes' objects}\n",
      "      958    0.091    0.000   46.398    0.048 cmd.py:71(handle_process_output)\n",
      "     9661   45.709    0.005   45.709    0.005 {method 'acquire' of '_thread.lock' objects}\n",
      "     1918    0.013    0.000   45.590    0.024 threading.py:1057(join)\n",
      "     1918    0.014    0.000   45.575    0.024 threading.py:1095(_wait_for_tstate_lock)\n",
      "    60856    0.088    0.000   21.234    0.000 cmd.py:528(read)\n",
      "    51318    0.020    0.000   21.181    0.000 base.py:137(read)\n",
      "   121690   21.140    0.000   21.140    0.000 {method 'read' of '_io.BufferedReader' objects}\n",
      "     9309    0.106    0.000   11.838    0.001 diff.py:290(__init__)\n",
      "     8545    0.013    0.000   11.494    0.001 base.py:363(submodules)\n",
      "     8545    0.054    0.000   11.481    0.001 util.py:1092(list_items)\n",
      "19185/19182    0.031    0.000   11.415    0.001 {method 'extend' of 'list' objects}\n",
      "    25635    0.191    0.000   11.384    0.000 base.py:1228(iter_items)\n",
      "      991    0.159    0.000    6.761    0.007 cmd.py:1114(_call_process)\n",
      "      959    0.058    0.000    6.607    0.007 cmd.py:638(<lambda>)\n",
      "      991    0.297    0.000    6.586    0.007 cmd.py:726(execute)\n",
      "      991    0.232    0.000    5.871    0.006 subprocess.py:753(__init__)\n",
      "    95036    0.351    0.000    5.747    0.000 cmd.py:1235(__get_object_header)\n",
      "      991    0.197    0.000    5.567    0.006 subprocess.py:1682(_execute_child)\n",
      "    60856    0.135    0.000    4.667    0.000 db.py:46(stream)\n",
      "   156895    4.559    0.000    4.561    0.000 {method 'readline' of '_io.BufferedReader' objects}\n",
      "    60856    0.189    0.000    4.456    0.000 cmd.py:1263(stream_object_data)\n",
      "    44676    0.054    0.000    4.394    0.000 util.py:248(__getattr__)\n",
      "    25635    0.028    0.000    3.548    0.000 base.py:527(commit)\n",
      "59815/17090    0.040    0.000    3.448    0.000 tree.py:347(__getitem__)\n",
      "59815/17090    0.149    0.000    3.427    0.000 tree.py:245(join)\n",
      "    34180    0.051    0.000    3.042    0.000 tree.py:224(_set_cache_)\n",
      "    25635    0.015    0.000    3.018    0.000 symbolic.py:212(_get_commit)\n",
      "    25635    0.030    0.000    3.003    0.000 symbolic.py:203(_get_object)\n",
      "      991    2.603    0.003    2.603    0.003 {built-in method _posixsubprocess.fork_exec}\n",
      "      991    2.336    0.002    2.336    0.002 {built-in method posix.read}\n",
      "    34180    0.091    0.000    2.285    0.000 base.py:75(new_from_sha)\n",
      "     8545    0.039    0.000    2.013    0.000 base.py:196(_config_parser)\n",
      "    34180    0.075    0.000    1.952    0.000 db.py:42(info)\n",
      "    34180    0.029    0.000    1.942    0.000 symbolic.py:143(dereference_recursive)\n",
      "    68361    0.059    0.000    1.912    0.000 symbolic.py:196(_get_ref_info)\n",
      "    68361    0.201    0.000    1.854    0.000 symbolic.py:156(_get_ref_info_helper)\n",
      "    34180    0.031    0.000    1.831    0.000 cmd.py:1243(get_object_header)\n",
      "    17138    0.023    0.000    1.786    0.000 base.py:129(data_stream)\n",
      "     8545    0.047    0.000    1.432    0.000 fun.py:191(rev_parse)\n",
      "     8545    0.107    0.000    1.378    0.000 fun.py:121(name_to_object)\n",
      "    10496    0.032    0.000    1.289    0.000 commit.py:196(_set_cache_)\n",
      "    79166    1.064    0.000    1.111    0.000 {built-in method io.open}\n",
      "     8545    0.074    0.000    0.972    0.000 util.py:72(__init__)\n",
      "68550/59878    0.059    0.000    0.933    0.000 config.py:104(assure_data_present)\n",
      "     8607    0.035    0.000    0.906    0.000 config.py:281(__init__)\n",
      "     8607    0.057    0.000    0.867    0.000 configparser.py:601(__init__)\n",
      "    34180    0.562    0.000    0.735    0.000 fun.py:59(tree_entries_from_data)\n",
      "68550/59943    0.132    0.000    0.673    0.000 config.py:543(read)\n",
      "     8607    0.140    0.000    0.642    0.000 configparser.py:1321(__init__)\n",
      "      958    0.578    0.001    0.578    0.001 {method 'join' of 'bytes' objects}\n",
      "     9309    0.003    0.000    0.412    0.000 commit.py:726(_get_decoded_str)\n",
      "     8607    0.177    0.000    0.369    0.000 config.py:391(_read)\n",
      "      994    0.001    0.000    0.348    0.000 repository.py:201(traverse_commits)\n",
      "     8607    0.344    0.000    0.344    0.000 {built-in method builtins.dir}\n",
      "     9538    0.088    0.000    0.336    0.000 commit.py:525(_deserialize)\n",
      "     1918    0.036    0.000    0.327    0.000 threading.py:909(start)\n",
      "    10302    0.006    0.000    0.299    0.000 commit.py:564(committer_date)\n",
      "     1918    0.124    0.000    0.298    0.000 threading.py:820(__init__)\n",
      "    10302    0.007    0.000    0.293    0.000 commit.py:209(committed_datetime)\n",
      "     9309    0.035    0.000    0.284    0.000 commit.py:153(__init__)\n",
      "    95036    0.223    0.000    0.276    0.000 cmd.py:1207(_prepare_ref)\n",
      "    68481    0.212    0.000    0.270    0.000 {method 'read' of '_io.TextIOWrapper' objects}\n",
      "    95036    0.263    0.000    0.263    0.000 {method 'flush' of '_io.BufferedWriter' objects}\n",
      "    95036    0.026    0.000    0.256    0.000 cmd.py:1221(_get_persistent_cmd)\n",
      "      997    0.016    0.000    0.254    0.000 repository.py:236(_iter_commits)\n",
      "    17376    0.035    0.000    0.248    0.000 pathlib.py:955(__new__)\n",
      "  1180271    0.237    0.000    0.237    0.000 {method 'match' of 're.Pattern' objects}\n",
      "      991    0.036    0.000    0.226    0.000 os.py:711(copy)\n",
      "     1919    0.017    0.000    0.218    0.000 threading.py:582(wait)\n",
      "    17378    0.015    0.000    0.213    0.000 pathlib.py:587(_from_parts)\n",
      "    99569    0.151    0.000    0.213    0.000 posixpath.py:71(join)\n",
      "    17378    0.079    0.000    0.195    0.000 pathlib.py:567(_parse_args)\n",
      "    95036    0.140    0.000    0.184    0.000 cmd.py:1185(_parse_object_header)\n",
      "    34241    0.044    0.000    0.183    0.000 configparser.py:766(get)\n",
      "     1920    0.011    0.000    0.172    0.000 threading.py:288(wait)\n",
      "    17374    0.097    0.000    0.170    0.000 util.py:69(mode_str_to_int)\n",
      "      991    0.065    0.000    0.167    0.000 subprocess.py:1222(_close_pipe_fds)\n",
      "     8607    0.093    0.000    0.158    0.000 configparser.py:1244(__init__)\n",
      "    19076    0.035    0.000    0.154    0.000 util.py:268(parse_actor_and_date)\n",
      "   596894    0.100    0.000    0.153    0.000 cmd.py:466(__getattr__)\n",
      "   299075    0.090    0.000    0.152    0.000 compat.py:49(safe_decode)\n",
      "    34180    0.080    0.000    0.148    0.000 util.py:85(get_object_type_by_name)\n",
      "   114147    0.106    0.000    0.134    0.000 base.py:50(__init__)\n",
      "    69401    0.053    0.000    0.127    0.000 base.py:153(__init__)\n",
      "    77091    0.124    0.000    0.124    0.000 {method '__exit__' of '_io._IOBase' objects}\n",
      "780042/780040    0.120    0.000    0.121    0.000 {built-in method builtins.getattr}\n",
      "    17090    0.039    0.000    0.113    0.000 base.py:335(index)\n",
      "    17378    0.055    0.000    0.108    0.000 pathlib.py:56(parse_parts)\n",
      "    35173    0.033    0.000    0.106    0.000 tree.py:214(__init__)\n",
      "    44746    0.042    0.000    0.102    0.000 commit.py:84(__init__)\n",
      "      991    0.015    0.000    0.102    0.000 os.py:619(get_exec_path)\n",
      "   103125    0.044    0.000    0.100    0.000 os.py:674(__getitem__)\n",
      "    95168    0.098    0.000    0.098    0.000 {method 'write' of '_io.BufferedWriter' objects}\n",
      "   232885    0.058    0.000    0.094    0.000 os.py:804(fsencode)\n",
      "      991    0.093    0.000    0.093    0.000 cmd.py:416(__init__)\n",
      "      991    0.016    0.000    0.090    0.000 util.py:412(remove_password_if_present)\n",
      "  1391704    0.085    0.000    0.089    0.000 {built-in method builtins.isinstance}\n",
      "    34241    0.054    0.000    0.085    0.000 configparser.py:1143(_unify_values)\n",
      "    10302    0.014    0.000    0.083    0.000 util.py:167(from_timestamp)\n",
      "      994    0.000    0.000    0.082    0.000 git.py:106(get_list_commits)\n",
      "    55543    0.076    0.000    0.077    0.000 {method 'search' of 're.Pattern' objects}\n",
      "   104055    0.012    0.000    0.076    0.000 _collections_abc.py:877(__iter__)\n",
      "    17090    0.026    0.000    0.073    0.000 base.py:117(__init__)\n",
      "    59875    0.054    0.000    0.072    0.000 util.py:163(join_path)\n",
      "     1918    0.072    0.000    0.072    0.000 {built-in method _thread.start_new_thread}\n",
      "     1919    0.005    0.000    0.070    0.000 threading.py:538(__init__)\n",
      "     2014    0.039    0.000    0.069    0.000 contextlib.py:496(callback)\n",
      "   104244    0.068    0.000    0.068    0.000 typing.py:305(inner)\n",
      "      959    0.006    0.000    0.065    0.000 util.py:383(finalize_process)\n",
      "   104055    0.044    0.000    0.064    0.000 os.py:697(__iter__)\n",
      "     1917    0.028    0.000    0.063    0.000 cmd.py:470(wait)\n",
      "      994    0.001    0.000    0.063    0.000 commit.py:318(_iter_from_process_or_stream)\n",
      "     9682    0.028    0.000    0.060    0.000 parse.py:437(urlsplit)\n",
      "    68481    0.044    0.000    0.058    0.000 codecs.py:319(decode)\n",
      "      991    0.058    0.000    0.058    0.000 warnings.py:458(__enter__)\n",
      "     1918    0.008    0.000    0.057    0.000 _weakrefset.py:86(add)\n",
      "     8610    0.010    0.000    0.055    0.000 config.py:489(_has_includes)\n",
      "    68361    0.041    0.000    0.054    0.000 symbolic.py:43(_git_dir)\n",
      "     1023    0.023    0.000    0.052    0.000 cmd.py:463(__del__)\n",
      "    17090    0.018    0.000    0.052    0.000 base.py:114(__init__)\n",
      "    19076    0.021    0.000    0.051    0.000 util.py:665(_from_string)\n",
      "      991    0.040    0.000    0.050    0.000 subprocess.py:1583(_get_handles)\n",
      "    18618    0.007    0.000    0.049    0.000 diff.py:432(_pick_best_path)\n",
      "    34241    0.034    0.000    0.049    0.000 __init__.py:976(__getitem__)\n",
      "     2911    0.048    0.000    0.048    0.000 {method 'add' of 'set' objects}\n",
      "    22793    0.010    0.000    0.047    0.000 subprocess.py:1770(<genexpr>)\n",
      "    68481    0.032    0.000    0.047    0.000 codecs.py:309(__init__)\n",
      "    17090    0.012    0.000    0.047    0.000 base.py:157(_index_path)\n",
      "     1948    0.015    0.000    0.046    0.000 subprocess.py:1199(wait)\n",
      "   431178    0.045    0.000    0.045    0.000 {method 'encode' of 'str' objects}\n",
      "     8607    0.014    0.000    0.044    0.000 config.py:492(_included_paths)\n",
      "    25636    0.018    0.000    0.043    0.000 base.py:342(head)\n",
      "   206128    0.024    0.000    0.043    0.000 os.py:758(decode)\n",
      "   542233    0.043    0.000    0.043    0.000 {built-in method builtins.len}\n",
      "    18618    0.028    0.000    0.042    0.000 diff.py:54(decode_path)\n",
      "     4833    0.042    0.000    0.042    0.000 {built-in method _thread.allocate_lock}\n",
      "    85618    0.033    0.000    0.040    0.000 config.py:192(__getitem__)\n",
      "   157090    0.040    0.000    0.040    0.000 {method 'split' of 'str' objects}\n",
      "    34181    0.032    0.000    0.039    0.000 <frozen importlib._bootstrap>:404(parent)\n",
      "    60856    0.025    0.000    0.037    0.000 base.py:128(__new__)\n",
      "    10302    0.035    0.000    0.037    0.000 {built-in method fromtimestamp}\n",
      "     9309    0.002    0.000    0.037    0.000 ChangeCounter.ipynb:109(include)\n",
      "    60598    0.035    0.000    0.036    0.000 config.py:180(__setitem__)\n",
      "    17150    0.011    0.000    0.035    0.000 util.py:200(join_path_native)\n",
      "       60    0.000    0.000    0.035    0.001 util.py:98(wrapper)\n",
      "     9309    0.010    0.000    0.035    0.000 ChangeCounter.ipynb:173(filter)\n",
      "       61    0.001    0.000    0.035    0.001 base.py:108(__init__)\n",
      "       60    0.000    0.000    0.035    0.001 base.py:1103(module)\n",
      "     9309    0.020    0.000    0.034    0.000 commit.py:907(_from_change_to_modification_type)\n",
      "   103125    0.021    0.000    0.033    0.000 os.py:754(encode)\n",
      "    66146    0.033    0.000    0.033    0.000 {built-in method sys.intern}\n",
      "   215588    0.033    0.000    0.033    0.000 {method 'endswith' of 'str' objects}\n",
      "   176395    0.032    0.000    0.032    0.000 {method 'startswith' of 'str' objects}\n",
      "     1948    0.009    0.000    0.031    0.000 subprocess.py:1906(_wait)\n",
      "    17090    0.025    0.000    0.030    0.000 symbolic.py:439(to_full_path)\n",
      "   549519    0.030    0.000    0.030    0.000 {method 'append' of 'list' objects}\n",
      "   114147    0.029    0.000    0.029    0.000 {method 'split' of 'bytes' objects}\n",
      "    34181    0.022    0.000    0.029    0.000 <frozen importlib._bootstrap>:1053(_handle_fromlist)\n",
      "   101978    0.019    0.000    0.029    0.000 posixpath.py:41(_get_sep)\n",
      "     1932    0.027    0.000    0.028    0.000 threading.py:264(__enter__)\n",
      "    34180    0.020    0.000    0.027    0.000 base.py:35(__new__)\n",
      "     1924    0.026    0.000    0.026    0.000 threading.py:236(__init__)\n",
      "    25637    0.020    0.000    0.026    0.000 head.py:38(__init__)\n",
      "     1023    0.007    0.000    0.025    0.000 cmd.py:421(_terminate)\n",
      "   166458    0.025    0.000    0.025    0.000 {built-in method binascii.a2b_hex}\n",
      "   122662    0.024    0.000    0.024    0.000 {built-in method __new__ of type object at 0x104ac70a0}\n",
      "    60856    0.024    0.000    0.024    0.000 cmd.py:517(__init__)\n",
      "    23122    0.008    0.000    0.024    0.000 commit.py:227(new_path)\n",
      "    34928    0.021    0.000    0.023    0.000 config.py:183(add)\n",
      "    17090    0.015    0.000    0.022    0.000 configparser.py:878(has_option)\n",
      "     1918    0.021    0.000    0.021    0.000 threading.py:1294(_make_invoke_excepthook)\n",
      "      990    0.002    0.000    0.021    0.000 subprocess.py:1893(_try_wait)\n",
      "       30    0.000    0.000    0.021    0.001 base.py:1121(module_exists)\n",
      "    61836    0.020    0.000    0.020    0.000 typing.py:1408(_no_init_or_replace_init)\n",
      "      991    0.014    0.000    0.020    0.000 contextlib.py:533(__exit__)\n",
      "    16665    0.019    0.000    0.019    0.000 {method 'get' of 'dict' objects}\n",
      "    95293    0.019    0.000    0.019    0.000 {method 'group' of 're.Match' objects}\n",
      "    19076    0.019    0.000    0.019    0.000 util.py:110(utctz_to_altz)\n",
      "     1053    0.019    0.000    0.019    0.000 {built-in method posix.waitpid}\n",
      "        1    0.000    0.000    0.018    0.018 base.py:560(iter_commits)\n",
      "        1    0.000    0.000    0.018    0.018 commit.py:246(iter_items)\n",
      "    10302    0.016    0.000    0.018    0.000 {method 'astimezone' of 'datetime.datetime' objects}\n",
      "   353405    0.018    0.000    0.018    0.000 {built-in method posix.fspath}\n",
      "   100523    0.017    0.000    0.017    0.000 {built-in method binascii.b2a_hex}\n",
      "     1916    0.015    0.000    0.017    0.000 threading.py:1191(daemon)\n",
      "    86782    0.014    0.000    0.017    0.000 {built-in method builtins.hasattr}\n",
      "    60856    0.017    0.000    0.017    0.000 base.py:132(__init__)\n",
      "       63    0.000    0.000    0.016    0.000 cmd.py:1273(clear_cache)\n",
      "      991    0.016    0.000    0.016    0.000 warnings.py:437(__init__)\n",
      "    22648    0.010    0.000    0.016    0.000 pathlib.py:619(__str__)\n",
      "     2014    0.011    0.000    0.015    0.000 contextlib.py:514(_push_exit_callback)\n",
      "    43067    0.015    0.000    0.015    0.000 {built-in method builtins.setattr}\n",
      "    24917    0.011    0.000    0.015    0.000 base.py:105(__ne__)\n",
      "   183173    0.015    0.000    0.015    0.000 {method 'strip' of 'str' objects}\n",
      "    68481    0.015    0.000    0.015    0.000 codecs.py:260(__init__)\n",
      "    68481    0.015    0.000    0.015    0.000 {built-in method _codecs.utf_8_decode}\n",
      "      991    0.014    0.000    0.014    0.000 _collections_abc.py:828(keys)\n",
      "    93998    0.014    0.000    0.014    0.000 {method 'startswith' of 'bytes' objects}\n",
      "     2014    0.014    0.000    0.014    0.000 contextlib.py:446(_create_cb_wrapper)\n",
      "    10302    0.014    0.000    0.014    0.000 util.py:147(__init__)\n",
      "    17152    0.012    0.000    0.014    0.000 configparser.py:644(sections)\n",
      "      993    0.011    0.000    0.014    0.000 commit.py:506(hash)\n",
      "     9682    0.004    0.000    0.013    0.000 parse.py:155(password)\n",
      "    60856    0.013    0.000    0.013    0.000 cmd.py:604(__del__)\n",
      "    47461    0.013    0.000    0.013    0.000 {method 'groups' of 're.Match' objects}\n",
      "    34241    0.013    0.000    0.013    0.000 base.py:296(common_dir)\n",
      "     3005    0.012    0.000    0.012    0.000 {built-in method posix.pipe}\n",
      "      581    0.003    0.000    0.012    0.000 ChangeCounter.ipynb:118(update_stats)\n",
      "    34241    0.012    0.000    0.012    0.000 __init__.py:966(__init__)\n",
      "   103529    0.012    0.000    0.012    0.000 {method 'rstrip' of 'str' objects}\n",
      "      991    0.012    0.000    0.012    0.000 contextlib.py:452(__init__)\n",
      "     9309    0.008    0.000    0.012    0.000 commit.py:526(committer)\n",
      "     3836    0.011    0.000    0.011    0.000 threading.py:1176(daemon)\n",
      "    17090    0.010    0.000    0.011    0.000 util.py:34(sm_name)\n",
      " 8658/991    0.007    0.000    0.011    0.000 cmd.py:1069(__unpack_args)\n",
      "        2    0.000    0.000    0.011    0.005 {built-in method builtins.next}\n",
      "        2    0.000    0.000    0.011    0.005 repository.py:166(_prep_repo)\n",
      "      958    0.010    0.000    0.010    0.000 {method 'finditer' of 're.Pattern' objects}\n",
      "      991    0.005    0.000    0.010    0.000 warnings.py:165(simplefilter)\n",
      "       61    0.000    0.000    0.010    0.000 base.py:240(__del__)\n",
      "     3997    0.010    0.000    0.010    0.000 {built-in method posix.close}\n",
      "       61    0.001    0.000    0.010    0.000 base.py:246(close)\n",
      "     1916    0.010    0.000    0.010    0.000 threading.py:1162(is_alive)\n",
      "    34180    0.009    0.000    0.009    0.000 base.py:38(__init__)\n",
      "     8497    0.003    0.000    0.009    0.000 config.py:352(__del__)\n",
      "    17694    0.007    0.000    0.009    0.000 diff.py:403(a_path)\n",
      "     8545    0.007    0.000    0.009    0.000 util.py:970(__new__)\n",
      "   132918    0.009    0.000    0.009    0.000 typing.py:1715(cast)\n",
      "     9682    0.008    0.000    0.009    0.000 parse.py:189(_userinfo)\n",
      "  242/122    0.001    0.000    0.009    0.000 fun.py:85(find_submodule_git_dir)\n",
      "     3836    0.008    0.000    0.008    0.000 threading.py:1423(current_thread)\n",
      "     7847    0.006    0.000    0.008    0.000 diff.py:426(renamed_file)\n",
      "        1    0.000    0.000    0.008    0.008 contextlib.py:139(__exit__)\n",
      "        2    0.000    0.000    0.008    0.004 git.py:73(clear)\n",
      "    43863    0.008    0.000    0.008    0.000 {method 'rpartition' of 'str' objects}\n",
      "    85750    0.007    0.000    0.007    0.000 {function _OMD.__getitem__ at 0x17dc556c0}\n",
      "       61    0.000    0.000    0.007    0.000 base.py:488(config_reader)\n",
      "      991    0.007    0.000    0.007    0.000 {built-in method posix.access}\n",
      "     8498    0.006    0.000    0.007    0.000 config.py:364(release)\n",
      "     1918    0.006    0.000    0.007    0.000 threading.py:1021(_stop)\n",
      "     1028    0.006    0.000    0.007    0.000 commit.py:600(parents)\n",
      "    18062    0.005    0.000    0.007    0.000 diff.py:407(b_path)\n",
      "     1916    0.007    0.000    0.007    0.000 threading.py:775(_newname)\n",
      "    17374    0.007    0.000    0.007    0.000 {method 'sub' of 're.Pattern' objects}\n",
      "    86260    0.006    0.000    0.006    0.000 config.py:387(optionxform)\n",
      "     5487    0.004    0.000    0.006    0.000 base.py:123(hexsha)\n",
      "    17378    0.006    0.000    0.006    0.000 pathlib.py:239(splitroot)\n",
      "    25637    0.005    0.000    0.005    0.000 symbolic.py:65(__init__)\n",
      "    19076    0.005    0.000    0.005    0.000 util.py:646(__init__)\n",
      "      581    0.005    0.000    0.005    0.000 ChangeCounter.ipynb:134(update_size)\n",
      "     2102    0.003    0.000    0.005    0.000 posixpath.py:150(dirname)\n",
      "     8833    0.003    0.000    0.005    0.000 pathlib.py:606(_format_parsed_parts)\n",
      "     3934    0.005    0.000    0.005    0.000 {method 'append' of 'collections.deque' objects}\n",
      "    48054    0.005    0.000    0.005    0.000 {method 'readline' of '_io.BytesIO' objects}\n",
      "      991    0.003    0.000    0.005    0.000 warnings.py:181(_add_filter)\n",
      "     8607    0.004    0.000    0.005    0.000 configparser.py:1363(__iter__)\n",
      "     9309    0.004    0.000    0.005    0.000 commit.py:591(msg)\n",
      "    68360    0.005    0.000    0.005    0.000 {built-in method builtins.ord}\n",
      "    34180    0.005    0.000    0.005    0.000 base.py:52(type)\n",
      "     8545    0.005    0.000    0.005    0.000 util.py:973(__init__)\n",
      "     8545    0.003    0.000    0.005    0.000 base.py:99(__eq__)\n",
      "    52380    0.005    0.000    0.005    0.000 {method 'lower' of 'str' objects}\n",
      "    17210    0.005    0.000    0.005    0.000 base.py:290(working_tree_dir)\n",
      "     9682    0.004    0.000    0.005    0.000 parse.py:114(_coerce_args)\n",
      "      993    0.002    0.000    0.005    0.000 conf.py:257(is_commit_filtered)\n",
      "      303    0.001    0.000    0.004    0.000 fun.py:44(is_git_dir)\n",
      "     1918    0.004    0.000    0.004    0.000 _weakrefset.py:39(_remove)\n",
      "    34180    0.004    0.000    0.004    0.000 base.py:42(binsha)\n",
      "      991    0.004    0.000    0.004    0.000 subprocess.py:1060(__del__)\n",
      "    59204    0.004    0.000    0.004    0.000 {method 'replace' of 'str' objects}\n",
      "    10302    0.004    0.000    0.004    0.000 developer.py:24(__init__)\n",
      "      581    0.003    0.000    0.004    0.000 ChangeCounter.ipynb:142(update_changes)\n",
      "      994    0.002    0.000    0.004    0.000 __init__.py:1467(info)\n",
      "       85    0.000    0.000    0.004    0.000 parse.py:88(clear_cache)\n",
      "     8545    0.003    0.000    0.003    0.000 fun.py:180(to_commit)\n",
      "      170    0.003    0.000    0.003    0.000 {method 'clear' of 'dict' objects}\n",
      "     1982    0.002    0.000    0.003    0.000 subprocess.py:1173(poll)\n",
      "    34180    0.003    0.000    0.003    0.000 base.py:60(size)\n",
      "     1052    0.001    0.000    0.003    0.000 abc.py:117(__instancecheck__)\n",
      "     1920    0.002    0.000    0.003    0.000 threading.py:279(_is_owned)\n",
      "        1    0.000    0.000    0.003    0.003 contextlib.py:130(__enter__)\n",
      "      991    0.003    0.000    0.003    0.000 {built-in method sys.exc_info}\n",
      "    34241    0.003    0.000    0.003    0.000 configparser.py:363(before_get)\n",
      "     1052    0.003    0.000    0.003    0.000 {built-in method _abc._abc_instancecheck}\n",
      "     3465    0.003    0.000    0.003    0.000 __init__.py:1724(isEnabledFor)\n",
      "    17150    0.003    0.000    0.003    0.000 util.py:194(to_native_path_linux)\n",
      "     8607    0.002    0.000    0.003    0.000 config.py:333(_acquire_lock)\n",
      "     5992    0.002    0.000    0.003    0.000 conf.py:45(get)\n",
      "        1    0.000    0.000    0.003    0.003 git.py:38(__init__)\n",
      "      611    0.002    0.000    0.003    0.000 posixpath.py:337(normpath)\n",
      "        1    0.000    0.000    0.002    0.002 git.py:82(_open_repository)\n",
      "      183    0.001    0.000    0.002    0.000 util.py:400(expand_path)\n",
      "      856    0.002    0.000    0.002    0.000 {built-in method posix.stat}\n",
      "     5752    0.002    0.000    0.002    0.000 threading.py:546(is_set)\n",
      "    43035    0.002    0.000    0.002    0.000 {built-in method builtins.callable}\n",
      "     2471    0.001    0.000    0.002    0.000 __init__.py:1455(debug)\n",
      "      608    0.001    0.000    0.002    0.000 genericpath.py:39(isdir)\n",
      "    41208    0.002    0.000    0.002    0.000 util.py:160(dst)\n",
      "    21802    0.002    0.000    0.002    0.000 {method 'endswith' of 'bytes' objects}\n",
      "     9445    0.002    0.000    0.002    0.000 {method 'join' of 'str' objects}\n",
      "    30906    0.002    0.000    0.002    0.000 util.py:154(utcoffset)\n",
      "     2014    0.001    0.000    0.002    0.000 contextlib.py:448(_exit_wrapper)\n",
      "     8607    0.002    0.000    0.002    0.000 configparser.py:1191(converters)\n",
      "     1916    0.001    0.000    0.002    0.000 base.py:115(__str__)\n",
      "    17152    0.002    0.000    0.002    0.000 {method 'keys' of 'collections.OrderedDict' objects}\n",
      "     1917    0.001    0.000    0.002    0.000 encoding.py:1(force_bytes)\n",
      "     1920    0.001    0.000    0.002    0.000 threading.py:276(_acquire_restore)\n",
      "     7847    0.002    0.000    0.002    0.000 diff.py:411(rename_from)\n",
      "      995    0.001    0.000    0.001    0.000 {method 'remove' of 'list' objects}\n",
      "       61    0.000    0.000    0.001    0.000 configparser.py:827(getboolean)\n",
      "      991    0.001    0.000    0.001    0.000 subprocess.py:1846(_handle_exitstatus)\n",
      "     2973    0.001    0.000    0.001    0.000 subprocess.py:1858(_internal_poll)\n",
      "     1932    0.001    0.000    0.001    0.000 threading.py:267(__exit__)\n",
      "    10560    0.001    0.000    0.001    0.000 {method 'strip' of 'bytes' objects}\n",
      "       61    0.000    0.000    0.001    0.000 configparser.py:806(_get_conv)\n",
      "     9538    0.001    0.000    0.001    0.000 {method 'read' of '_io.BytesIO' objects}\n",
      "      992    0.001    0.000    0.001    0.000 {built-in method builtins.sorted}\n",
      "     8605    0.001    0.000    0.001    0.000 base.py:309(bare)\n",
      "       61    0.000    0.000    0.001    0.000 configparser.py:803(_get)\n",
      "      993    0.001    0.000    0.001    0.000 commit.py:515(author)\n",
      "     1703    0.001    0.000    0.001    0.000 <string>:1(<lambda>)\n",
      "      991    0.001    0.000    0.001    0.000 cmd.py:1148(<dictcomp>)\n",
      "      185    0.000    0.000    0.001    0.000 posixpath.py:376(abspath)\n",
      "     1917    0.001    0.000    0.001    0.000 cmd.py:632(__getattr__)\n",
      "     1920    0.001    0.000    0.001    0.000 threading.py:273(_release_save)\n",
      "    17379    0.001    0.000    0.001    0.000 {method 'reverse' of 'list' objects}\n",
      "     8911    0.001    0.000    0.001    0.000 {method 'pop' of 'list' objects}\n",
      "        3    0.000    0.000    0.001    0.000 config.py:659(write)\n",
      "     1025    0.000    0.000    0.001    0.000 cmd.py:180(dashify)\n",
      "      958    0.001    0.000    0.001    0.000 base.py:90(_set_cache_)\n",
      "     8501    0.001    0.000    0.001    0.000 config.py:707(read_only)\n",
      "     7847    0.001    0.000    0.001    0.000 diff.py:415(rename_to)\n",
      "     9309    0.001    0.000    0.001    0.000 {method 'end' of 're.Match' objects}\n",
      "     1111    0.001    0.000    0.001    0.000 {method 'rfind' of 'str' objects}\n",
      "      2/1    0.000    0.000    0.001    0.001 config.py:117(flush_changes)\n",
      "      991    0.001    0.000    0.001    0.000 warnings.py:477(__exit__)\n",
      "      991    0.000    0.000    0.001    0.000 cmd.py:1058(transform_kwargs)\n",
      "     1982    0.001    0.000    0.001    0.000 {method 'close' of '_io.BufferedReader' objects}\n",
      "       61    0.000    0.000    0.001    0.000 cmd.py:612(__init__)\n",
      "     9682    0.001    0.000    0.001    0.000 parse.py:103(_noop)\n",
      "     2014    0.001    0.000    0.001    0.000 {method 'pop' of 'collections.deque' objects}\n",
      "     8351    0.001    0.000    0.001    0.000 {method 'start' of 're.Match' objects}\n",
      "     8607    0.001    0.000    0.001    0.000 {built-in method builtins.iter}\n",
      "        1    0.000    0.000    0.001    0.001 config.py:791(set_value)\n",
      "       32    0.001    0.000    0.001    0.000 {method 'close' of '_io.BufferedWriter' objects}\n",
      "      991    0.001    0.000    0.001    0.000 subprocess.py:246(_cleanup)\n",
      "      991    0.001    0.000    0.001    0.000 cmd.py:1156(<listcomp>)\n",
      "     3836    0.001    0.000    0.001    0.000 {built-in method _thread.get_ident}\n",
      "      991    0.001    0.000    0.001    0.000 _collections_abc.py:854(__init__)\n",
      "     1703    0.001    0.000    0.001    0.000 {method 'find' of 'str' objects}\n",
      "        1    0.000    0.000    0.001    0.001 base.py:511(config_writer)\n",
      "       61    0.000    0.000    0.001    0.000 db.py:37(__init__)\n",
      "       61    0.000    0.000    0.001    0.000 genericpath.py:16(exists)\n",
      "       31    0.000    0.000    0.001    0.000 subprocess.py:2093(terminate)\n",
      "     3901    0.001    0.000    0.001    0.000 {method 'release' of '_thread.lock' objects}\n",
      "      991    0.001    0.000    0.001    0.000 {method 'rfind' of 'bytes' objects}\n",
      "     1918    0.001    0.000    0.001    0.000 {method 'discard' of 'set' objects}\n",
      "     1924    0.001    0.000    0.001    0.000 {method '__enter__' of '_thread.lock' objects}\n",
      "        1    0.000    0.000    0.000    0.000 repository.py:230(<dictcomp>)\n",
      "        4    0.000    0.000    0.000    0.000 thread.py:161(submit)\n",
      "      993    0.000    0.000    0.000    0.000 git.py:130(get_commit_from_gitpython)\n",
      "      185    0.000    0.000    0.000    0.000 genericpath.py:27(isfile)\n",
      "     3965    0.000    0.000    0.000    0.000 {method 'items' of 'dict' objects}\n",
      "        4    0.000    0.000    0.000    0.000 util.py:878(_obtain_lock)\n",
      "        4    0.000    0.000    0.000    0.000 util.py:856(_obtain_lock_or_raise)\n",
      "        1    0.000    0.000    0.000    0.000 {built-in method posix.open}\n",
      "        4    0.000    0.000    0.000    0.000 thread.py:180(_adjust_thread_count)\n",
      "      991    0.000    0.000    0.000    0.000 contextlib.py:530(__enter__)\n",
      "     3865    0.000    0.000    0.000    0.000 {method 'insert' of 'list' objects}\n",
      "       61    0.000    0.000    0.000    0.000 loose.py:77(__init__)\n",
      "      991    0.000    0.000    0.000    0.000 cmd.py:1149(<dictcomp>)\n",
      "     2926    0.000    0.000    0.000    0.000 {method '__exit__' of '_thread.lock' objects}\n",
      "       61    0.000    0.000    0.000    0.000 re.py:197(search)\n",
      "       62    0.000    0.000    0.000    0.000 base.py:464(_get_config_path)\n",
      "        2    0.000    0.000    0.000    0.000 pathlib.py:1062(resolve)\n",
      "     1926    0.000    0.000    0.000    0.000 {method '__exit__' of '_thread.RLock' objects}\n",
      "        2    0.000    0.000    0.000    0.000 posixpath.py:391(realpath)\n",
      "       31    0.000    0.000    0.000    0.000 subprocess.py:2061(send_signal)\n",
      "        2    0.000    0.000    0.000    0.000 posixpath.py:400(_joinrealpath)\n",
      "       61    0.000    0.000    0.000    0.000 re.py:288(_compile)\n",
      "      307    0.000    0.000    0.000    0.000 posixpath.py:60(isabs)\n",
      "        3    0.000    0.000    0.000    0.000 config.py:615(_write)\n",
      "        8    0.000    0.000    0.000    0.000 {built-in method posix.lstat}\n",
      "     1703    0.000    0.000    0.000    0.000 parse.py:419(_checknetloc)\n",
      "       61    0.000    0.000    0.000    0.000 _collections_abc.py:820(__contains__)\n",
      "     2973    0.000    0.000    0.000    0.000 {built-in method _warnings._filters_mutated}\n",
      "       45    0.000    0.000    0.000    0.000 config.py:618(write_section)\n",
      "       60    0.000    0.000    0.000    0.000 base.py:197(abspath)\n",
      "      991    0.000    0.000    0.000    0.000 {built-in method posix.WIFSTOPPED}\n",
      "       31    0.000    0.000    0.000    0.000 {built-in method posix.kill}\n",
      "      993    0.000    0.000    0.000    0.000 commit.py:480(__init__)\n",
      "        5    0.000    0.000    0.000    0.000 _base.py:201(as_completed)\n",
      "      991    0.000    0.000    0.000    0.000 {built-in method posix.waitstatus_to_exitcode}\n",
      "      183    0.000    0.000    0.000    0.000 posixpath.py:228(expanduser)\n",
      "     1023    0.000    0.000    0.000    0.000 {method 'update' of 'dict' objects}\n",
      "       61    0.000    0.000    0.000    0.000 mman.py:408(collect)\n",
      "      958    0.000    0.000    0.000    0.000 util.py:257(_set_cache_)\n",
      "      958    0.000    0.000    0.000    0.000 diff.py:86(_process_diff_args)\n",
      "        1    0.000    0.000    0.000    0.000 _base.py:636(__exit__)\n",
      "       61    0.000    0.000    0.000    0.000 base.py:113(__init__)\n",
      "      181    0.000    0.000    0.000    0.000 cmd.py:368(is_cygwin)\n",
      "     1923    0.000    0.000    0.000    0.000 {method 'locked' of '_thread.lock' objects}\n",
      "        1    0.000    0.000    0.000    0.000 thread.py:216(shutdown)\n",
      "       61    0.000    0.000    0.000    0.000 mman.py:303(_collect_lru_region)\n",
      "      183    0.000    0.000    0.000    0.000 posixpath.py:284(expandvars)\n",
      "      991    0.000    0.000    0.000    0.000 {built-in method sys.audit}\n",
      "       61    0.000    0.000    0.000    0.000 configparser.py:1163(_convert_to_boolean)\n",
      "       36    0.000    0.000    0.000    0.000 cmd.py:1042(transform_kwarg)\n",
      "       60    0.000    0.000    0.000    0.000 base.py:266(__ne__)\n",
      "        1    0.000    0.000    0.000    0.000 thread.py:123(__init__)\n",
      "      991    0.000    0.000    0.000    0.000 {method 'pop' of 'dict' objects}\n",
      "        7    0.000    0.000    0.000    0.000 conf.py:36(set_value)\n",
      "        1    0.000    0.000    0.000    0.000 git.py:88(_discover_main_branch)\n",
      "       45    0.000    0.000    0.000    0.000 config.py:216(items_all)\n",
      "        1    0.000    0.000    0.000    0.000 base.py:792(active_branch)\n",
      "        1    0.000    0.000    0.000    0.000 symbolic.py:288(_get_reference)\n",
      "        4    0.000    0.000    0.000    0.000 threading.py:421(acquire)\n",
      "       45    0.000    0.000    0.000    0.000 config.py:218(<listcomp>)\n",
      "        6    0.000    0.000    0.000    0.000 _base.py:179(_yield_finished_futures)\n",
      "      581    0.000    0.000    0.000    0.000 ChangeCounter.ipynb:152(update_elems)\n",
      "        1    0.000    0.000    0.000    0.000 repository.py:246(_split_in_chunks)\n",
      "       88    0.000    0.000    0.000    0.000 config.py:786(_value_to_string)\n",
      "        4    0.000    0.000    0.000    0.000 _base.py:418(result)\n",
      "        2    0.000    0.000    0.000    0.000 weakref.py:370(remove)\n",
      "        2    0.000    0.000    0.000    0.000 util.py:883(_release_lock)\n",
      "      547    0.000    0.000    0.000    0.000 {built-in method _stat.S_ISDIR}\n",
      "        1    0.000    0.000    0.000    0.000 util.py:139(rmfile)\n",
      "      132    0.000    0.000    0.000    0.000 config.py:209(getall)\n",
      "       60    0.000    0.000    0.000    0.000 base.py:261(__eq__)\n",
      "        1    0.000    0.000    0.000    0.000 {built-in method posix.remove}\n",
      "      181    0.000    0.000    0.000    0.000 util.py:347(is_cygwin_git)\n",
      "        3    0.000    0.000    0.000    0.000 config.py:212(items)\n",
      "        4    0.000    0.000    0.000    0.000 _base.py:318(__init__)\n",
      "        3    0.000    0.000    0.000    0.000 config.py:214(<listcomp>)\n",
      "        2    0.000    0.000    0.000    0.000 threading.py:793(_maintain_shutdown_locks)\n",
      "        1    0.000    0.000    0.000    0.000 conf.py:77(sanity_check_filters)\n",
      "        1    0.000    0.000    0.000    0.000 symbolic.py:685(from_path)\n",
      "        4    0.000    0.000    0.000    0.000 _base.py:388(__get_result)\n",
      "       88    0.000    0.000    0.000    0.000 encoding.py:11(force_text)\n",
      "        1    0.000    0.000    0.000    0.000 repository.py:44(__init__)\n",
      "        1    0.000    0.000    0.000    0.000 threading.py:415(__init__)\n",
      "        1    0.000    0.000    0.000    0.000 _base.py:157(_create_and_install_waiters)\n",
      "       61    0.000    0.000    0.000    0.000 base.py:70(__init__)\n",
      "        2    0.000    0.000    0.000    0.000 pathlib.py:1090(stat)\n",
      "      123    0.000    0.000    0.000    0.000 {built-in method _stat.S_ISREG}\n",
      "        5    0.000    0.000    0.000    0.000 {method 'put' of '_queue.SimpleQueue' objects}\n",
      "        4    0.000    0.000    0.000    0.000 pathlib.py:629(__fspath__)\n",
      "        1    0.000    0.000    0.000    0.000 conf.py:24(__init__)\n",
      "        1    0.000    0.000    0.000    0.000 _base.py:79(__init__)\n",
      "        1    0.000    0.000    0.000    0.000 conf.py:287(_check_timezones)\n",
      "        1    0.000    0.000    0.000    0.000 conf.py:191(build_args)\n",
      "       29    0.000    0.000    0.000    0.000 {method 'find' of 'bytes' objects}\n",
      "        1    0.000    0.000    0.000    0.000 conf.py:293(_replace_timezone)\n",
      "        1    0.000    0.000    0.000    0.000 _base.py:63(__init__)\n",
      "        1    0.000    0.000    0.000    0.000 _base.py:146(__init__)\n",
      "       61    0.000    0.000    0.000    0.000 {method 'values' of 'dict' objects}\n",
      "        5    0.000    0.000    0.000    0.000 {method 'remove' of 'set' objects}\n",
      "       29    0.000    0.000    0.000    0.000 {method 'rstrip' of 'bytes' objects}\n",
      "       61    0.000    0.000    0.000    0.000 {built-in method builtins.issubclass}\n",
      "        1    0.000    0.000    0.000    0.000 {built-in method math.ceil}\n",
      "        1    0.000    0.000    0.000    0.000 reference.py:46(__init__)\n",
      "        1    0.000    0.000    0.000    0.000 git.py:316(__del__)\n",
      "        1    0.000    0.000    0.000    0.000 conf.py:65(_check_only_one_from_commit)\n",
      "        2    0.000    0.000    0.000    0.000 repository.py:144(_is_remote)\n",
      "        4    0.000    0.000    0.000    0.000 thread.py:47(__init__)\n",
      "        1    0.000    0.000    0.000    0.000 util.py:844(__del__)\n",
      "        1    0.000    0.000    0.000    0.000 configparser.py:892(set)\n",
      "        8    0.000    0.000    0.000    0.000 util.py:851(_has_lock)\n",
      "        1    0.000    0.000    0.000    0.000 _base.py:149(__enter__)\n",
      "        1    0.000    0.000    0.000    0.000 contextlib.py:279(helper)\n",
      "        1    0.000    0.000    0.000    0.000 {method 'replace' of 'datetime.datetime' objects}\n",
      "        2    0.000    0.000    0.000    0.000 conf.py:181(only_one_filter)\n",
      "        2    0.000    0.000    0.000    0.000 threading.py:803(<listcomp>)\n",
      "        1    0.000    0.000    0.000    0.000 conf.py:71(_check_only_one_to_commit)\n",
      "        8    0.000    0.000    0.000    0.000 {method '__enter__' of '_thread.RLock' objects}\n",
      "        4    0.000    0.000    0.000    0.000 threading.py:90(RLock)\n",
      "        1    0.000    0.000    0.000    0.000 threading.py:572(clear)\n",
      "        1    0.000    0.000    0.000    0.000 contextlib.py:102(__init__)\n",
      "        1    0.000    0.000    0.000    0.000 reference.py:100(name)\n",
      "        8    0.000    0.000    0.000    0.000 {method 'partition' of 'str' objects}\n",
      "        2    0.000    0.000    0.000    0.000 weakref.py:428(__setitem__)\n",
      "        1    0.000    0.000    0.000    0.000 _base.py:153(__exit__)\n",
      "        3    0.000    0.000    0.000    0.000 config.py:699(_assure_writable)\n",
      "        2    0.000    0.000    0.000    0.000 util.py:847(_lock_file_path)\n",
      "        4    0.000    0.000    0.000    0.000 _base.py:225(<genexpr>)\n",
      "        3    0.000    0.000    0.000    0.000 git.py:62(repo)\n",
      "        1    0.000    0.000    0.000    0.000 conf.py:54(_sanity_check_repos)\n",
      "        1    0.000    0.000    0.000    0.000 conf.py:114(_check_correct_filters_order)\n",
      "        1    0.000    0.000    0.000    0.000 pathlib.py:708(name)\n",
      "        2    0.000    0.000    0.000    0.000 conf.py:189(<listcomp>)\n",
      "        1    0.000    0.000    0.000    0.000 conf.py:165(get_ending_commit)\n",
      "        8    0.000    0.000    0.000    0.000 {built-in method _stat.S_ISLNK}\n",
      "        4    0.000    0.000    0.000    0.000 {built-in method time.monotonic}\n",
      "        2    0.000    0.000    0.000    0.000 {method 'difference_update' of 'set' objects}\n",
      "        2    0.000    0.000    0.000    0.000 pathlib.py:1430(expanduser)\n",
      "        4    0.000    0.000    0.000    0.000 {method 'lstrip' of 'str' objects}\n",
      "        1    0.000    0.000    0.000    0.000 conf.py:142(get_starting_commit)\n",
      "        4    0.000    0.000    0.000    0.000 {method 'acquire' of '_thread.RLock' objects}\n",
      "        1    0.000    0.000    0.000    0.000 configparser.py:663(has_section)\n",
      "        1    0.000    0.000    0.000    0.000 {method 'disable' of '_lsprof.Profiler' objects}\n",
      "        4    0.000    0.000    0.000    0.000 {method 'release' of '_thread.RLock' objects}\n",
      "        2    0.000    0.000    0.000    0.000 {method 'remove' of 'collections.deque' objects}\n",
      "        1    0.000    0.000    0.000    0.000 util.py:840(__init__)\n",
      "        1    0.000    0.000    0.000    0.000 __init__.py:230(utcoffset)\n",
      "        1    0.000    0.000    0.000    0.000 _base.py:633(__enter__)\n",
      "        1    0.000    0.000    0.000    0.000 configparser.py:366(before_set)\n",
      "\n",
      "\n"
     ]
    }
   ],
   "source": [
    "cProfile.run('debuggingbook_change_counter(ChangeCounter)', sort='cumulative')"
   ]
  },
  {
   "cell_type": "markdown",
   "metadata": {
    "slideshow": {
     "slide_type": "subslide"
    }
   },
   "source": [
    "Yes, that's an awful lot of functions, but we can quickly narrow things down. The `cumtime` column is sorted by largest values first. We see that the `debuggingbook_change_counter()` method at the top takes up all the time – but this is not surprising, since it it the method we called in the first place. This calls a method `mine()` in the `ChangeCounter` class, which does all the work."
   ]
  },
  {
   "cell_type": "markdown",
   "metadata": {
    "slideshow": {
     "slide_type": "fragment"
    }
   },
   "source": [
    "The next places are more interesting: almost all time is spent in a single method, named `modifications()`. This method determines the difference between two versions, which is an expensive operation; this is also supported by the observation that half of the time is spent in a `diff()` method."
   ]
  },
  {
   "cell_type": "markdown",
   "metadata": {
    "slideshow": {
     "slide_type": "subslide"
    }
   },
   "source": [
    "This profile thus already gets us a hint on how to improve performance: Rather than computing the diff between versions for _every_ version, we could do so _on demand_ (and possibly cache results so we don't have to compute them twice). Alas, this (slow) functionality is part of the \n",
    "underlying [PyDriller](https://pydriller.readthedocs.io/) Python package, so we cannot fix this within the `ChangeCounter` class. But we could file a bug with the developers, suggesting a patch to improve performance."
   ]
  },
  {
   "cell_type": "markdown",
   "metadata": {
    "slideshow": {
     "slide_type": "subslide"
    }
   },
   "source": [
    "### Sampling Execution Profiles\n",
    "\n",
    "Instrumenting code is _precise_, but it is also _slow_. An alternate way to measure performance is to _sample_ in regular intervals which functions are currently active – for instance, by examining the current function call stack. The more frequently a function is sampled as active, the more time is spent in that function."
   ]
  },
  {
   "cell_type": "markdown",
   "metadata": {
    "slideshow": {
     "slide_type": "subslide"
    }
   },
   "source": [
    "One profiler for Python that implements such sampling is [Scalene](https://github.com/plasma-umass/scalene) – a high-performance, high-precision CPU, GPU, and memory profiler for Python. We can invoke it on our example as follows:\n",
    "\n",
    "```sh\n",
    "$ scalene --html test.py > scalene-out.html\n",
    "```"
   ]
  },
  {
   "cell_type": "markdown",
   "metadata": {
    "slideshow": {
     "slide_type": "fragment"
    }
   },
   "source": [
    "where `test.py` is a script that again invokes\n",
    "\n",
    "```python\n",
    "debuggingbook_change_counter(ChangeCounter)\n",
    "```"
   ]
  },
  {
   "cell_type": "markdown",
   "metadata": {
    "slideshow": {
     "slide_type": "subslide"
    }
   },
   "source": [
    "The output of `scalene` is sent to a HTML file (here, `scalene-out.html`) which is organized by _lines_ – that is, for each line, we see how much it contributed to overall execution time. Opening the output `scalene-out.html` in a HTML browswer, we see these lines:"
   ]
  },
  {
   "cell_type": "markdown",
   "metadata": {
    "slideshow": {
     "slide_type": "fragment"
    }
   },
   "source": [
    "![](PICS/scalene-out.png)"
   ]
  },
  {
   "cell_type": "markdown",
   "metadata": {
    "slideshow": {
     "slide_type": "fragment"
    }
   },
   "source": [
    "As with `cProfile`, above, we identify the `mine()` method in the `ChangeCounter` class as the main performance hog – and in the `mine()` method, it is the iteration over all modifications that takes all the time. Adding the option `--profile-all` to `scalene` would extend the profile to all executed code, including the `pydriller` third-party library."
   ]
  },
  {
   "cell_type": "markdown",
   "metadata": {
    "slideshow": {
     "slide_type": "fragment"
    }
   },
   "source": [
    "Besides relying on sampling rather that tracing (which is more efficient) and breaking down execution time by line, `scalene` also provides additional information on memory usage and more. If `cProfile` is not sufficient, then `scalene` will bring profiling to the next level."
   ]
  },
  {
   "cell_type": "markdown",
   "metadata": {
    "slideshow": {
     "slide_type": "slide"
    }
   },
   "source": [
    "## Improving Performance"
   ]
  },
  {
   "cell_type": "markdown",
   "metadata": {
    "slideshow": {
     "slide_type": "fragment"
    }
   },
   "source": [
    "Identifying a culprit is not always that easy. Notably, when the first set of obvious performance hogs is fixed, it becomes more and more difficult to squeeze out additional performance – and, as stated above, such optimization may be in conflict with readability and maintainability of your code. Here are some simple ways to improve performance:"
   ]
  },
  {
   "cell_type": "markdown",
   "metadata": {
    "slideshow": {
     "slide_type": "subslide"
    }
   },
   "source": [
    "* **Efficient algorithms**. For many tasks, the simplest algorithm is not always the best performing one. Consider alternatives that may be more efficient, and _measure_ whether they pay off.\n",
    "\n",
    "* **Efficient data types**. Remember that certain operations, such as looking up whether an element is contained, may take different amounts of time depending on the data structure. In Python, a query like `x in xs` takes (mostly) constant time if `xs` is a set, but linear time if `xs` is a list; these differences become significant as the size of `xs` grows.\n",
    "\n",
    "* **Efficient modules**. In Python, most frequently used modules (or at least parts of) are implemented in C, which is way more efficient than plain Python. Rely on existing modules whenever possible. Or implement your own, _after_ having measured that this may pay off."
   ]
  },
  {
   "cell_type": "markdown",
   "metadata": {
    "slideshow": {
     "slide_type": "subslide"
    }
   },
   "source": [
    "These are all things you can already use during programming – and also set up your code such that exchanging, say, one data type by another will still be possible later. This is best achieved by hiding implementation details (such as the used data types) behind an abstract interface used by your clients."
   ]
  },
  {
   "cell_type": "markdown",
   "metadata": {
    "slideshow": {
     "slide_type": "fragment"
    }
   },
   "source": [
    "But beyond these points, remember the famous words by [Donald J. Knuth](https://en.wikipedia.org/wiki/Donald_Knuth):"
   ]
  },
  {
   "cell_type": "code",
   "execution_count": 10,
   "metadata": {
    "execution": {
     "iopub.execute_input": "2022-08-06T23:11:52.164257Z",
     "iopub.status.busy": "2022-08-06T23:11:52.163564Z",
     "iopub.status.idle": "2022-08-06T23:11:52.166135Z",
     "shell.execute_reply": "2022-08-06T23:11:52.166791Z"
    },
    "slideshow": {
     "slide_type": "skip"
    }
   },
   "outputs": [],
   "source": [
    "from bookutils import quiz"
   ]
  },
  {
   "cell_type": "code",
   "execution_count": 11,
   "metadata": {
    "execution": {
     "iopub.execute_input": "2022-08-06T23:11:52.174427Z",
     "iopub.status.busy": "2022-08-06T23:11:52.173729Z",
     "iopub.status.idle": "2022-08-06T23:11:52.176739Z",
     "shell.execute_reply": "2022-08-06T23:11:52.177240Z"
    },
    "slideshow": {
     "slide_type": "fragment"
    }
   },
   "outputs": [
    {
     "data": {
      "text/html": [
       "\n",
       "    \n",
       "    <script>\n",
       "    var bad_answers = new Map();\n",
       "\n",
       "    function answer(quiz_id) {\n",
       "        ans = 0;\n",
       "        for (i = 1;; i++) {\n",
       "            checkbox = document.getElementById(quiz_id + \"-\" + i.toString());\n",
       "            if (!checkbox)\n",
       "                break;\n",
       "            if (checkbox.checked)\n",
       "                ans |= (1 << i);\n",
       "        }\n",
       "        return ans;\n",
       "    }\n",
       "    function check_selection(quiz_id, correct_answer, multiple_choice, hint) {\n",
       "        given_answer = answer(quiz_id);\n",
       "        if (given_answer == correct_answer)\n",
       "        {\n",
       "            document.getElementById(quiz_id + \"-submit\").value = \"Correct!\";\n",
       "            document.getElementById(quiz_id + \"-hint\").innerHTML = \"\";\n",
       "\n",
       "            for (i = 1;; i++) {\n",
       "                checkbox = document.getElementById(quiz_id + \"-\" + i.toString());\n",
       "                label = document.getElementById(quiz_id + \"-\" + i.toString() + \"-label\")\n",
       "                if (!checkbox)\n",
       "                    break;\n",
       "    \n",
       "                if (checkbox.checked) {\n",
       "                    label.style.fontWeight = \"bold\";\n",
       "                }\n",
       "                else {\n",
       "                    label.style.textDecoration = \"line-through\";\n",
       "                }\n",
       "            }\n",
       "        }\n",
       "        else \n",
       "        {\n",
       "            document.getElementById(quiz_id + \"-submit\").value = \"Try again\";\n",
       "            \n",
       "            if (!bad_answers.has(quiz_id)) {\n",
       "                bad_answers.set(quiz_id, 1);\n",
       "            }\n",
       "            else {\n",
       "                bad_answers.set(quiz_id, bad_answers.get(quiz_id) + 1);\n",
       "            }\n",
       "\n",
       "            if (bad_answers.get(quiz_id) >= 2 && hint.length > 0) {\n",
       "                document.getElementById(quiz_id + \"-hint\").innerHTML = \n",
       "                    \"&nbsp;&nbsp;(Hint: <code>\" + hint + \"</code>)\";\n",
       "            }\n",
       "\n",
       "            if (!multiple_choice) {\n",
       "                for (i = 1;; i++) {\n",
       "                    checkbox = document.getElementById(quiz_id + \"-\" + i.toString());\n",
       "                    label = document.getElementById(quiz_id + \"-\" + i.toString() + \"-label\")\n",
       "\n",
       "                    if (!checkbox)\n",
       "                        break;\n",
       "                    if (checkbox.checked) {\n",
       "                        label.style.textDecoration = \"line-through\";\n",
       "                    }\n",
       "                }\n",
       "            }\n",
       "        }\n",
       "    }\n",
       "    function clear_selection(quiz_id) {\n",
       "        document.getElementById(quiz_id + \"-submit\").value = \"Submit\";\n",
       "        document.getElementById(quiz_id + \"-hint\").innerHTML = \"\";\n",
       "    }\n",
       "    </script>\n",
       "    \n",
       "    <div class=\"quiz\">\n",
       "    <h3 class=\"quiz_title\">Quiz</h3>\n",
       "    <p>\n",
       "    <div class=\"quiz_question\">Donald J. Knuth said: \"Premature optimization...\"</div>\n",
       "    </p>\n",
       "    <p>\n",
       "    <div class=\"quiz_options\" title=\"Pick a choice.\">\n",
       "    \n",
       "        <input type=\"radio\" name=\"28049520-15dd-11ed-bb70-6298cf1a578f\" id=\"28049520-15dd-11ed-bb70-6298cf1a578f-1\" onclick=\"clear_selection('28049520-15dd-11ed-bb70-6298cf1a578f')\">\n",
       "        <label id=\"28049520-15dd-11ed-bb70-6298cf1a578f-1-label\" for=\"28049520-15dd-11ed-bb70-6298cf1a578f-1\">... is the root of all evil</label><br>\n",
       "    \n",
       "        <input type=\"radio\" name=\"28049520-15dd-11ed-bb70-6298cf1a578f\" id=\"28049520-15dd-11ed-bb70-6298cf1a578f-2\" onclick=\"clear_selection('28049520-15dd-11ed-bb70-6298cf1a578f')\">\n",
       "        <label id=\"28049520-15dd-11ed-bb70-6298cf1a578f-2-label\" for=\"28049520-15dd-11ed-bb70-6298cf1a578f-2\">... requires lots of experience</label><br>\n",
       "    \n",
       "        <input type=\"radio\" name=\"28049520-15dd-11ed-bb70-6298cf1a578f\" id=\"28049520-15dd-11ed-bb70-6298cf1a578f-3\" onclick=\"clear_selection('28049520-15dd-11ed-bb70-6298cf1a578f')\">\n",
       "        <label id=\"28049520-15dd-11ed-bb70-6298cf1a578f-3-label\" for=\"28049520-15dd-11ed-bb70-6298cf1a578f-3\">... should be left to assembly programmers</label><br>\n",
       "    \n",
       "        <input type=\"radio\" name=\"28049520-15dd-11ed-bb70-6298cf1a578f\" id=\"28049520-15dd-11ed-bb70-6298cf1a578f-4\" onclick=\"clear_selection('28049520-15dd-11ed-bb70-6298cf1a578f')\">\n",
       "        <label id=\"28049520-15dd-11ed-bb70-6298cf1a578f-4-label\" for=\"28049520-15dd-11ed-bb70-6298cf1a578f-4\">... is the reason why TeX is so fast</label><br>\n",
       "    \n",
       "    </div>\n",
       "    </p>\n",
       "    <input id=\"28049520-15dd-11ed-bb70-6298cf1a578f-submit\" type=\"submit\" value=\"Submit\" onclick=\"check_selection('28049520-15dd-11ed-bb70-6298cf1a578f', 2, 0, 'len(&quot;METAFONT&quot;) - len(&quot;TeX&quot;) - len(&quot;CWEB&quot;)')\">\n",
       "    <span class=\"quiz_hint\" id=\"28049520-15dd-11ed-bb70-6298cf1a578f-hint\"></span>\n",
       "    </div>\n",
       "    "
      ],
      "text/plain": [
       "<IPython.core.display.HTML object>"
      ]
     },
     "execution_count": 11,
     "metadata": {},
     "output_type": "execute_result"
    }
   ],
   "source": [
    "quiz('Donald J. Knuth said: \"Premature optimization...\"',\n",
    "    [\n",
    "        \"... is the root of all evil\",\n",
    "        \"... requires lots of experience\",\n",
    "        \"... should be left to assembly programmers\",\n",
    "        \"... is the reason why TeX is so fast\",\n",
    "    ], 'len(\"METAFONT\") - len(\"TeX\") - len(\"CWEB\")')"
   ]
  },
  {
   "cell_type": "markdown",
   "metadata": {
    "slideshow": {
     "slide_type": "subslide"
    }
   },
   "source": [
    "This quote should always remind us that after a good design, you should always _first_ measure and _then_ optimize."
   ]
  },
  {
   "cell_type": "markdown",
   "metadata": {
    "slideshow": {
     "slide_type": "slide"
    }
   },
   "source": [
    "## Building a Profiler\n",
    "\n",
    "Having discussed profilers from a _user_ perspective, let us now dive into how they are actually implemented. It turns out we can use most of our existing infrastructure to implement a simple tracing profiler with only a few lines of code."
   ]
  },
  {
   "cell_type": "markdown",
   "metadata": {
    "slideshow": {
     "slide_type": "fragment"
    }
   },
   "source": [
    "The program we will apply our profiler on is – surprise! – our ongoing example, `remove_html_markup()`. Our aim is to understand how much time is spent _in each line of the code_ (such that we have a new feature on top of Python `cProfile`)."
   ]
  },
  {
   "cell_type": "code",
   "execution_count": 12,
   "metadata": {
    "execution": {
     "iopub.execute_input": "2022-08-06T23:11:52.180658Z",
     "iopub.status.busy": "2022-08-06T23:11:52.180002Z",
     "iopub.status.idle": "2022-08-06T23:11:52.181578Z",
     "shell.execute_reply": "2022-08-06T23:11:52.181853Z"
    },
    "slideshow": {
     "slide_type": "skip"
    }
   },
   "outputs": [],
   "source": [
    "from Intro_Debugging import remove_html_markup"
   ]
  },
  {
   "cell_type": "code",
   "execution_count": 13,
   "metadata": {
    "execution": {
     "iopub.execute_input": "2022-08-06T23:11:52.185207Z",
     "iopub.status.busy": "2022-08-06T23:11:52.184846Z",
     "iopub.status.idle": "2022-08-06T23:11:52.186688Z",
     "shell.execute_reply": "2022-08-06T23:11:52.186983Z"
    },
    "slideshow": {
     "slide_type": "fragment"
    }
   },
   "outputs": [],
   "source": [
    "# ignore\n",
    "from typing import Any, Optional, Type, Dict, Tuple, List"
   ]
  },
  {
   "cell_type": "code",
   "execution_count": 14,
   "metadata": {
    "execution": {
     "iopub.execute_input": "2022-08-06T23:11:52.189317Z",
     "iopub.status.busy": "2022-08-06T23:11:52.188906Z",
     "iopub.status.idle": "2022-08-06T23:11:52.190596Z",
     "shell.execute_reply": "2022-08-06T23:11:52.190899Z"
    },
    "slideshow": {
     "slide_type": "fragment"
    }
   },
   "outputs": [],
   "source": [
    "# ignore\n",
    "from bookutils import print_content"
   ]
  },
  {
   "cell_type": "code",
   "execution_count": 15,
   "metadata": {
    "execution": {
     "iopub.execute_input": "2022-08-06T23:11:52.193265Z",
     "iopub.status.busy": "2022-08-06T23:11:52.192925Z",
     "iopub.status.idle": "2022-08-06T23:11:52.194195Z",
     "shell.execute_reply": "2022-08-06T23:11:52.194544Z"
    },
    "slideshow": {
     "slide_type": "subslide"
    }
   },
   "outputs": [],
   "source": [
    "# ignore\n",
    "import inspect"
   ]
  },
  {
   "cell_type": "code",
   "execution_count": 16,
   "metadata": {
    "execution": {
     "iopub.execute_input": "2022-08-06T23:11:52.219007Z",
     "iopub.status.busy": "2022-08-06T23:11:52.196919Z",
     "iopub.status.idle": "2022-08-06T23:11:52.356347Z",
     "shell.execute_reply": "2022-08-06T23:11:52.356620Z"
    },
    "slideshow": {
     "slide_type": "subslide"
    }
   },
   "outputs": [
    {
     "name": "stdout",
     "output_type": "stream",
     "text": [
      "238  \u001b[34mdef\u001b[39;49;00m \u001b[32mremove_html_markup\u001b[39;49;00m(s):  \u001b[37m# type: ignore\u001b[39;49;00m\n",
      "239      tag = \u001b[34mFalse\u001b[39;49;00m\n",
      "240      quote = \u001b[34mFalse\u001b[39;49;00m\n",
      "241      out = \u001b[33m\"\u001b[39;49;00m\u001b[33m\"\u001b[39;49;00m\n",
      "242  \n",
      "243      \u001b[34mfor\u001b[39;49;00m c \u001b[35min\u001b[39;49;00m s:\n",
      "244          \u001b[34massert\u001b[39;49;00m tag \u001b[35mor\u001b[39;49;00m \u001b[35mnot\u001b[39;49;00m quote\n",
      "245  \n",
      "246          \u001b[34mif\u001b[39;49;00m c == \u001b[33m'\u001b[39;49;00m\u001b[33m<\u001b[39;49;00m\u001b[33m'\u001b[39;49;00m \u001b[35mand\u001b[39;49;00m \u001b[35mnot\u001b[39;49;00m quote:\n",
      "247              tag = \u001b[34mTrue\u001b[39;49;00m\n",
      "248          \u001b[34melif\u001b[39;49;00m c == \u001b[33m'\u001b[39;49;00m\u001b[33m>\u001b[39;49;00m\u001b[33m'\u001b[39;49;00m \u001b[35mand\u001b[39;49;00m \u001b[35mnot\u001b[39;49;00m quote:\n",
      "249              tag = \u001b[34mFalse\u001b[39;49;00m\n",
      "250          \u001b[34melif\u001b[39;49;00m (c == \u001b[33m'\u001b[39;49;00m\u001b[33m\"\u001b[39;49;00m\u001b[33m'\u001b[39;49;00m \u001b[35mor\u001b[39;49;00m c == \u001b[33m\"\u001b[39;49;00m\u001b[33m'\u001b[39;49;00m\u001b[33m\"\u001b[39;49;00m) \u001b[35mand\u001b[39;49;00m tag:\n",
      "251              quote = \u001b[35mnot\u001b[39;49;00m quote\n",
      "252          \u001b[34melif\u001b[39;49;00m \u001b[35mnot\u001b[39;49;00m tag:\n",
      "253              out = out + c\n",
      "254  \n",
      "255      \u001b[34mreturn\u001b[39;49;00m out"
     ]
    }
   ],
   "source": [
    "print_content(inspect.getsource(remove_html_markup), '.py',\n",
    "              start_line_number=238)"
   ]
  },
  {
   "cell_type": "markdown",
   "metadata": {
    "slideshow": {
     "slide_type": "subslide"
    }
   },
   "source": [
    "We introduce a class `PerformanceTracer` that tracks, for each line in the code:\n",
    "\n",
    "* how _often_ it was executed (`hits`), and\n",
    "* _how much time_ was spent during its execution (`time`).\n",
    "\n",
    "To this end, we make use of our `Timer` class, which measures time, and the `Tracer` class from [the chapter on tracing](Tracer.ipynb), which allows us to track every line of the program as it is being executed."
   ]
  },
  {
   "cell_type": "code",
   "execution_count": 17,
   "metadata": {
    "execution": {
     "iopub.execute_input": "2022-08-06T23:11:52.358549Z",
     "iopub.status.busy": "2022-08-06T23:11:52.358257Z",
     "iopub.status.idle": "2022-08-06T23:11:52.359453Z",
     "shell.execute_reply": "2022-08-06T23:11:52.359644Z"
    },
    "slideshow": {
     "slide_type": "skip"
    }
   },
   "outputs": [],
   "source": [
    "from Tracer import Tracer"
   ]
  },
  {
   "cell_type": "markdown",
   "metadata": {
    "slideshow": {
     "slide_type": "fragment"
    }
   },
   "source": [
    "In `PerfomanceTracker`, the attributes `hits` and `time` are mappings indexed by unique locations – that is, pairs of function name and line number."
   ]
  },
  {
   "cell_type": "code",
   "execution_count": 18,
   "metadata": {
    "execution": {
     "iopub.execute_input": "2022-08-06T23:11:52.361383Z",
     "iopub.status.busy": "2022-08-06T23:11:52.360850Z",
     "iopub.status.idle": "2022-08-06T23:11:52.362484Z",
     "shell.execute_reply": "2022-08-06T23:11:52.362663Z"
    },
    "slideshow": {
     "slide_type": "fragment"
    }
   },
   "outputs": [],
   "source": [
    "Location = Tuple[str, int]"
   ]
  },
  {
   "cell_type": "code",
   "execution_count": 19,
   "metadata": {
    "execution": {
     "iopub.execute_input": "2022-08-06T23:11:52.366008Z",
     "iopub.status.busy": "2022-08-06T23:11:52.365581Z",
     "iopub.status.idle": "2022-08-06T23:11:52.366824Z",
     "shell.execute_reply": "2022-08-06T23:11:52.367122Z"
    },
    "slideshow": {
     "slide_type": "subslide"
    }
   },
   "outputs": [],
   "source": [
    "class PerformanceTracer(Tracer):\n",
    "    \"\"\"Trace time and #hits for individual program lines\"\"\"\n",
    "\n",
    "    def __init__(self) -> None:\n",
    "        \"\"\"Constructor.\"\"\"\n",
    "        super().__init__()\n",
    "        self.reset_timer()\n",
    "        self.hits: Dict[Location, int] = {}\n",
    "        self.time: Dict[Location, float] = {}\n",
    "\n",
    "    def reset_timer(self) -> None:\n",
    "        self.timer = Timer.Timer()"
   ]
  },
  {
   "cell_type": "markdown",
   "metadata": {
    "slideshow": {
     "slide_type": "subslide"
    }
   },
   "source": [
    "As common in this book, we want to use `PerformanceTracer` in a `with`-block around the function call(s) to be tracked:\n",
    "\n",
    "```python\n",
    "with PerformanceTracer() as perf_tracer:\n",
    "    function(...)\n",
    "```"
   ]
  },
  {
   "cell_type": "markdown",
   "metadata": {
    "slideshow": {
     "slide_type": "fragment"
    }
   },
   "source": [
    "When entering the `with` block (`__enter__()`), we reset all timers. Also, coming from the `__enter__()` method of the superclass `Tracer`, we enable tracing through the `traceit()` method."
   ]
  },
  {
   "cell_type": "code",
   "execution_count": 20,
   "metadata": {
    "execution": {
     "iopub.execute_input": "2022-08-06T23:11:52.369974Z",
     "iopub.status.busy": "2022-08-06T23:11:52.369666Z",
     "iopub.status.idle": "2022-08-06T23:11:52.370875Z",
     "shell.execute_reply": "2022-08-06T23:11:52.371063Z"
    },
    "slideshow": {
     "slide_type": "skip"
    }
   },
   "outputs": [],
   "source": [
    "from types import FrameType"
   ]
  },
  {
   "cell_type": "code",
   "execution_count": 21,
   "metadata": {
    "execution": {
     "iopub.execute_input": "2022-08-06T23:11:52.374361Z",
     "iopub.status.busy": "2022-08-06T23:11:52.373597Z",
     "iopub.status.idle": "2022-08-06T23:11:52.375269Z",
     "shell.execute_reply": "2022-08-06T23:11:52.375442Z"
    },
    "slideshow": {
     "slide_type": "subslide"
    }
   },
   "outputs": [],
   "source": [
    "class PerformanceTracer(PerformanceTracer):\n",
    "    def __enter__(self) -> Any:\n",
    "        \"\"\"Enter a `with` block.\"\"\"\n",
    "        super().__enter__()\n",
    "        self.reset_timer()\n",
    "        return self"
   ]
  },
  {
   "cell_type": "markdown",
   "metadata": {
    "slideshow": {
     "slide_type": "fragment"
    }
   },
   "source": [
    "The `traceit()` method extracts the current location. It increases the corresponding `hits` value by 1, and adds the elapsed time to the corresponding `time`."
   ]
  },
  {
   "cell_type": "code",
   "execution_count": 22,
   "metadata": {
    "execution": {
     "iopub.execute_input": "2022-08-06T23:11:52.378384Z",
     "iopub.status.busy": "2022-08-06T23:11:52.377638Z",
     "iopub.status.idle": "2022-08-06T23:11:52.378783Z",
     "shell.execute_reply": "2022-08-06T23:11:52.378972Z"
    },
    "slideshow": {
     "slide_type": "subslide"
    }
   },
   "outputs": [],
   "source": [
    "class PerformanceTracer(PerformanceTracer):\n",
    "    def traceit(self, frame: FrameType, event: str, arg: Any) -> None:\n",
    "        \"\"\"Tracing function; called for every line.\"\"\"\n",
    "        t = self.timer.elapsed_time()\n",
    "        location = (frame.f_code.co_name, frame.f_lineno)\n",
    "\n",
    "        self.hits.setdefault(location, 0)\n",
    "        self.time.setdefault(location, 0.0)\n",
    "        self.hits[location] += 1\n",
    "        self.time[location] += t\n",
    "\n",
    "        self.reset_timer()"
   ]
  },
  {
   "cell_type": "markdown",
   "metadata": {
    "slideshow": {
     "slide_type": "fragment"
    }
   },
   "source": [
    "This is it already. We can now determine where most time is spent in `remove_html_markup()`. We invoke it 10,000 times such that we can average over runs:"
   ]
  },
  {
   "cell_type": "code",
   "execution_count": 23,
   "metadata": {
    "execution": {
     "iopub.execute_input": "2022-08-06T23:11:52.454381Z",
     "iopub.status.busy": "2022-08-06T23:11:52.411045Z",
     "iopub.status.idle": "2022-08-06T23:11:53.304573Z",
     "shell.execute_reply": "2022-08-06T23:11:53.304772Z"
    },
    "slideshow": {
     "slide_type": "subslide"
    }
   },
   "outputs": [],
   "source": [
    "with PerformanceTracer() as perf_tracer:\n",
    "    for i in range(10000):\n",
    "        s = remove_html_markup('<b>foo</b>')"
   ]
  },
  {
   "cell_type": "markdown",
   "metadata": {
    "slideshow": {
     "slide_type": "fragment"
    }
   },
   "source": [
    "Here are the hits. For every line executed, we see how often it was executed. The most executed line is the `for` loop with 110,000 hits – once for each of the 10 characters in `<b>foo</b>`, once for the final check, and all of this 10,000 times."
   ]
  },
  {
   "cell_type": "code",
   "execution_count": 24,
   "metadata": {
    "execution": {
     "iopub.execute_input": "2022-08-06T23:11:53.308070Z",
     "iopub.status.busy": "2022-08-06T23:11:53.307724Z",
     "iopub.status.idle": "2022-08-06T23:11:53.309024Z",
     "shell.execute_reply": "2022-08-06T23:11:53.309211Z"
    },
    "slideshow": {
     "slide_type": "subslide"
    }
   },
   "outputs": [
    {
     "data": {
      "text/plain": [
       "{('__init__', 17): 1,\n",
       " ('__init__', 19): 1,\n",
       " ('clock', 8): 1,\n",
       " ('clock', 12): 2,\n",
       " ('__init__', 20): 2,\n",
       " ('remove_html_markup', 238): 10000,\n",
       " ('remove_html_markup', 239): 10000,\n",
       " ('remove_html_markup', 240): 10000,\n",
       " ('remove_html_markup', 241): 10000,\n",
       " ('remove_html_markup', 243): 110000,\n",
       " ('remove_html_markup', 244): 100000,\n",
       " ('remove_html_markup', 246): 100000,\n",
       " ('remove_html_markup', 247): 20000,\n",
       " ('remove_html_markup', 248): 80000,\n",
       " ('remove_html_markup', 250): 60000,\n",
       " ('remove_html_markup', 252): 60000,\n",
       " ('remove_html_markup', 249): 20000,\n",
       " ('remove_html_markup', 253): 30000,\n",
       " ('remove_html_markup', 255): 20000}"
      ]
     },
     "execution_count": 24,
     "metadata": {},
     "output_type": "execute_result"
    }
   ],
   "source": [
    "perf_tracer.hits"
   ]
  },
  {
   "cell_type": "markdown",
   "metadata": {
    "slideshow": {
     "slide_type": "subslide"
    }
   },
   "source": [
    "The `time` attribute collects how much time was spent in each line. Within the loop, again, the `for` statement takes the most time. The other lines show some variability, though."
   ]
  },
  {
   "cell_type": "code",
   "execution_count": 25,
   "metadata": {
    "execution": {
     "iopub.execute_input": "2022-08-06T23:11:53.312105Z",
     "iopub.status.busy": "2022-08-06T23:11:53.311530Z",
     "iopub.status.idle": "2022-08-06T23:11:53.313294Z",
     "shell.execute_reply": "2022-08-06T23:11:53.313572Z"
    },
    "slideshow": {
     "slide_type": "subslide"
    }
   },
   "outputs": [
    {
     "data": {
      "text/plain": [
       "{('__init__', 17): 1.4791963621973991e-05,\n",
       " ('__init__', 19): 1.4170072972774506e-06,\n",
       " ('clock', 8): 9.59029421210289e-07,\n",
       " ('clock', 12): 1.7079291865229607e-06,\n",
       " ('__init__', 20): 1.8749851733446121e-06,\n",
       " ('remove_html_markup', 238): 0.01181604154407978,\n",
       " ('remove_html_markup', 239): 0.01100448495708406,\n",
       " ('remove_html_markup', 240): 0.010477809933945537,\n",
       " ('remove_html_markup', 241): 0.009863208630122244,\n",
       " ('remove_html_markup', 243): 0.09607127401977777,\n",
       " ('remove_html_markup', 244): 0.08492189913522452,\n",
       " ('remove_html_markup', 246): 0.08403587969951332,\n",
       " ('remove_html_markup', 247): 0.017245230148546398,\n",
       " ('remove_html_markup', 248): 0.06746642768848687,\n",
       " ('remove_html_markup', 250): 0.05015022412408143,\n",
       " ('remove_html_markup', 252): 0.053197916015051305,\n",
       " ('remove_html_markup', 249): 0.016956783249042928,\n",
       " ('remove_html_markup', 253): 0.02508688368834555,\n",
       " ('remove_html_markup', 255): 0.016856709611602128}"
      ]
     },
     "execution_count": 25,
     "metadata": {},
     "output_type": "execute_result"
    }
   ],
   "source": [
    "perf_tracer.time"
   ]
  },
  {
   "cell_type": "markdown",
   "metadata": {
    "slideshow": {
     "slide_type": "subslide"
    }
   },
   "source": [
    "For a full profiler, these numbers would now be sorted and printed in a table, much like `cProfile` does. However, we will borrow some material from previous chapters and annotate our code accordingly."
   ]
  },
  {
   "cell_type": "markdown",
   "metadata": {
    "slideshow": {
     "slide_type": "slide"
    }
   },
   "source": [
    "## Visualizing Performance Metrics\n",
    "\n",
    "In the [chapter on statistical debugging](StatisticalDebugger.ipynb), we have encountered the `CoverageCollector` class, which collects line and function coverage during execution, using a `collect()` method that is invoked for every line. We will repurpose this class to collect arbitrary _metrics_ on the lines executed, notably time taken."
   ]
  },
  {
   "cell_type": "markdown",
   "metadata": {
    "slideshow": {
     "slide_type": "subslide"
    }
   },
   "source": [
    "### Collecting Time Spent"
   ]
  },
  {
   "cell_type": "code",
   "execution_count": 26,
   "metadata": {
    "execution": {
     "iopub.execute_input": "2022-08-06T23:11:53.315862Z",
     "iopub.status.busy": "2022-08-06T23:11:53.315560Z",
     "iopub.status.idle": "2022-08-06T23:11:53.316745Z",
     "shell.execute_reply": "2022-08-06T23:11:53.317056Z"
    },
    "slideshow": {
     "slide_type": "skip"
    }
   },
   "outputs": [],
   "source": [
    "from StatisticalDebugger import CoverageCollector, SpectrumDebugger"
   ]
  },
  {
   "cell_type": "markdown",
   "metadata": {
    "slideshow": {
     "slide_type": "fragment"
    }
   },
   "source": [
    "The `MetricCollector` class is an abstract superclass that provides an interface to access a particular metric."
   ]
  },
  {
   "cell_type": "code",
   "execution_count": 27,
   "metadata": {
    "execution": {
     "iopub.execute_input": "2022-08-06T23:11:53.319475Z",
     "iopub.status.busy": "2022-08-06T23:11:53.319194Z",
     "iopub.status.idle": "2022-08-06T23:11:53.320450Z",
     "shell.execute_reply": "2022-08-06T23:11:53.320652Z"
    },
    "slideshow": {
     "slide_type": "fragment"
    }
   },
   "outputs": [],
   "source": [
    "class MetricCollector(CoverageCollector):\n",
    "    \"\"\"Abstract superclass for collecting line-specific metrics\"\"\"\n",
    "\n",
    "    def metric(self, event: Any) -> Optional[float]:\n",
    "        \"\"\"Return a metric for an event, or none.\"\"\"\n",
    "        return None\n",
    "\n",
    "    def all_metrics(self, func: str) -> List[float]:\n",
    "        \"\"\"Return all metric for a function `func`.\"\"\"\n",
    "        return []"
   ]
  },
  {
   "cell_type": "markdown",
   "metadata": {
    "slideshow": {
     "slide_type": "fragment"
    }
   },
   "source": [
    "Given these metrics, we can also compute sums and maxima for a single function."
   ]
  },
  {
   "cell_type": "code",
   "execution_count": 28,
   "metadata": {
    "execution": {
     "iopub.execute_input": "2022-08-06T23:11:53.323593Z",
     "iopub.status.busy": "2022-08-06T23:11:53.323310Z",
     "iopub.status.idle": "2022-08-06T23:11:53.324503Z",
     "shell.execute_reply": "2022-08-06T23:11:53.324713Z"
    },
    "slideshow": {
     "slide_type": "subslide"
    }
   },
   "outputs": [],
   "source": [
    "class MetricCollector(MetricCollector):\n",
    "    def total(self, func: str) -> float:\n",
    "        return sum(self.all_metrics(func))\n",
    "\n",
    "    def maximum(self, func: str) -> float:\n",
    "        return max(self.all_metrics(func))"
   ]
  },
  {
   "cell_type": "markdown",
   "metadata": {
    "slideshow": {
     "slide_type": "fragment"
    }
   },
   "source": [
    "Let us instantiate this superclass into `TimeCollector` – a subclass that measures time. This is modeled after our `PerformanceTracer` class, above; notably, the `time` attribute serves the same role."
   ]
  },
  {
   "cell_type": "code",
   "execution_count": 29,
   "metadata": {
    "execution": {
     "iopub.execute_input": "2022-08-06T23:11:53.328085Z",
     "iopub.status.busy": "2022-08-06T23:11:53.327795Z",
     "iopub.status.idle": "2022-08-06T23:11:53.328849Z",
     "shell.execute_reply": "2022-08-06T23:11:53.329077Z"
    },
    "slideshow": {
     "slide_type": "subslide"
    }
   },
   "outputs": [],
   "source": [
    "class TimeCollector(MetricCollector):\n",
    "    \"\"\"Collect time executed for each line\"\"\"\n",
    "\n",
    "    def __init__(self) -> None:\n",
    "        \"\"\"Constructor\"\"\"\n",
    "        super().__init__()\n",
    "        self.reset_timer()\n",
    "        self.time: Dict[Location, float] = {}\n",
    "        self.add_items_to_ignore([Timer.Timer, Timer.clock])\n",
    "\n",
    "    def collect(self, frame: FrameType, event: str, arg: Any) -> None:\n",
    "        \"\"\"Invoked for every line executed. Accumulate time spent.\"\"\"\n",
    "        t = self.timer.elapsed_time()\n",
    "        super().collect(frame, event, arg)\n",
    "        location = (frame.f_code.co_name, frame.f_lineno)\n",
    "\n",
    "        self.time.setdefault(location, 0.0)\n",
    "        self.time[location] += t\n",
    "\n",
    "        self.reset_timer()\n",
    "\n",
    "    def reset_timer(self) -> None:\n",
    "        self.timer = Timer.Timer()\n",
    "\n",
    "    def __enter__(self) -> Any:\n",
    "        super().__enter__()\n",
    "        self.reset_timer()\n",
    "        return self"
   ]
  },
  {
   "cell_type": "markdown",
   "metadata": {
    "slideshow": {
     "slide_type": "subslide"
    }
   },
   "source": [
    "The `metric()` and `all_metrics()` methods accumulate the metric (time taken) for an individual function:"
   ]
  },
  {
   "cell_type": "code",
   "execution_count": 30,
   "metadata": {
    "execution": {
     "iopub.execute_input": "2022-08-06T23:11:53.331689Z",
     "iopub.status.busy": "2022-08-06T23:11:53.331317Z",
     "iopub.status.idle": "2022-08-06T23:11:53.332476Z",
     "shell.execute_reply": "2022-08-06T23:11:53.332744Z"
    },
    "slideshow": {
     "slide_type": "fragment"
    }
   },
   "outputs": [],
   "source": [
    "class TimeCollector(TimeCollector):\n",
    "    def metric(self, location: Any) -> Optional[float]:\n",
    "        if location in self.time:\n",
    "            return self.time[location]\n",
    "        else:\n",
    "            return None\n",
    "\n",
    "    def all_metrics(self, func: str) -> List[float]:\n",
    "        return [time\n",
    "                for (func_name, lineno), time in self.time.items()\n",
    "                if func_name == func]"
   ]
  },
  {
   "cell_type": "markdown",
   "metadata": {
    "slideshow": {
     "slide_type": "fragment"
    }
   },
   "source": [
    "Here's how to use `TimeCollector()` – again, in a `with` block:"
   ]
  },
  {
   "cell_type": "code",
   "execution_count": 31,
   "metadata": {
    "execution": {
     "iopub.execute_input": "2022-08-06T23:11:53.351908Z",
     "iopub.status.busy": "2022-08-06T23:11:53.351546Z",
     "iopub.status.idle": "2022-08-06T23:11:53.352686Z",
     "shell.execute_reply": "2022-08-06T23:11:53.352886Z"
    },
    "slideshow": {
     "slide_type": "subslide"
    }
   },
   "outputs": [],
   "source": [
    "with TimeCollector() as collector:\n",
    "    for i in range(100):\n",
    "        s = remove_html_markup('<b>foo</b>')"
   ]
  },
  {
   "cell_type": "markdown",
   "metadata": {
    "slideshow": {
     "slide_type": "fragment"
    }
   },
   "source": [
    "The `time` attribute holds the time spent in each line:"
   ]
  },
  {
   "cell_type": "code",
   "execution_count": 32,
   "metadata": {
    "execution": {
     "iopub.execute_input": "2022-08-06T23:11:53.355321Z",
     "iopub.status.busy": "2022-08-06T23:11:53.354927Z",
     "iopub.status.idle": "2022-08-06T23:11:53.356945Z",
     "shell.execute_reply": "2022-08-06T23:11:53.357166Z"
    },
    "slideshow": {
     "slide_type": "subslide"
    }
   },
   "outputs": [
    {
     "name": "stdout",
     "output_type": "stream",
     "text": [
      "('remove_html_markup', 238) 0.0002132478402927518\n",
      "('remove_html_markup', 239) 0.0002000844106078148\n",
      "('remove_html_markup', 240) 0.000177583540789783\n",
      "('remove_html_markup', 241) 0.00017029442824423313\n",
      "('remove_html_markup', 243) 0.001619775197468698\n",
      "('remove_html_markup', 244) 0.0016120093641802669\n",
      "('remove_html_markup', 246) 0.0014338846085593104\n",
      "('remove_html_markup', 247) 0.00029063003603369\n",
      "('remove_html_markup', 248) 0.0011636101407930255\n",
      "('remove_html_markup', 250) 0.0008585775503888726\n",
      "('remove_html_markup', 252) 0.0008953185752034187\n",
      "('remove_html_markup', 249) 0.00028987741097807884\n",
      "('remove_html_markup', 253) 0.00043625140096992254\n",
      "('remove_html_markup', 255) 0.00029470829758793116\n"
     ]
    }
   ],
   "source": [
    "for location, time_spent in collector.time.items():\n",
    "    print(location, time_spent)"
   ]
  },
  {
   "cell_type": "markdown",
   "metadata": {
    "slideshow": {
     "slide_type": "subslide"
    }
   },
   "source": [
    "And we can also create a total for an entire function:"
   ]
  },
  {
   "cell_type": "code",
   "execution_count": 33,
   "metadata": {
    "execution": {
     "iopub.execute_input": "2022-08-06T23:11:53.360678Z",
     "iopub.status.busy": "2022-08-06T23:11:53.360273Z",
     "iopub.status.idle": "2022-08-06T23:11:53.361812Z",
     "shell.execute_reply": "2022-08-06T23:11:53.362049Z"
    },
    "slideshow": {
     "slide_type": "fragment"
    }
   },
   "outputs": [
    {
     "data": {
      "text/plain": [
       "0.009655852802097797"
      ]
     },
     "execution_count": 33,
     "metadata": {},
     "output_type": "execute_result"
    }
   ],
   "source": [
    "collector.total('remove_html_markup')"
   ]
  },
  {
   "cell_type": "markdown",
   "metadata": {
    "slideshow": {
     "slide_type": "subslide"
    }
   },
   "source": [
    "### Visualizing Time Spent\n",
    "\n",
    "Let us now go and visualize these numbers in a simple form. The idea is to assign each line a _color_ whose saturation indicates the time spent in that line relative to the time spent in the function overall  – the higher the fraction, the darker the line. We create a `MetricDebugger` class built as a specialization of `SpectrumDebugger`, in which `suspiciousness()` and `color()` are repurposed to show these metrics."
   ]
  },
  {
   "cell_type": "code",
   "execution_count": 34,
   "metadata": {
    "execution": {
     "iopub.execute_input": "2022-08-06T23:11:53.368177Z",
     "iopub.status.busy": "2022-08-06T23:11:53.367156Z",
     "iopub.status.idle": "2022-08-06T23:11:53.368602Z",
     "shell.execute_reply": "2022-08-06T23:11:53.368830Z"
    },
    "slideshow": {
     "slide_type": "subslide"
    }
   },
   "outputs": [],
   "source": [
    "class MetricDebugger(SpectrumDebugger):\n",
    "    \"\"\"Visualize a metric\"\"\"\n",
    "\n",
    "    def metric(self, location: Location) -> float:\n",
    "        sum = 0.0\n",
    "        for outcome in self.collectors:\n",
    "            for collector in self.collectors[outcome]:\n",
    "                assert isinstance(collector, MetricCollector)\n",
    "                m = collector.metric(location)\n",
    "                if m is not None:\n",
    "                    sum += m  # type: ignore\n",
    "\n",
    "        return sum\n",
    "\n",
    "    def total(self, func_name: str) -> float:\n",
    "        total = 0.0\n",
    "        for outcome in self.collectors:\n",
    "            for collector in self.collectors[outcome]:\n",
    "                assert isinstance(collector, MetricCollector)\n",
    "                total += sum(collector.all_metrics(func_name))\n",
    "\n",
    "        return total\n",
    "\n",
    "    def maximum(self, func_name: str) -> float:\n",
    "        maximum = 0.0\n",
    "        for outcome in self.collectors:\n",
    "            for collector in self.collectors[outcome]:\n",
    "                assert isinstance(collector, MetricCollector)\n",
    "                maximum = max(maximum, \n",
    "                              max(collector.all_metrics(func_name)))\n",
    "\n",
    "        return maximum\n",
    "\n",
    "    def suspiciousness(self, location: Location) -> float:\n",
    "        func_name, _ = location\n",
    "        return self.metric(location) / self.total(func_name)\n",
    "\n",
    "    def color(self, location: Location) -> str:\n",
    "        func_name, _ = location\n",
    "        hue = 240  # blue\n",
    "        saturation = 100  # fully saturated\n",
    "        darkness = self.metric(location) / self.maximum(func_name)\n",
    "        lightness = 100 - darkness * 25\n",
    "        return f\"hsl({hue}, {saturation}%, {lightness}%)\"\n",
    "\n",
    "    def tooltip(self, location: Location) -> str:\n",
    "        return f\"{super().tooltip(location)} {self.metric(location)}\""
   ]
  },
  {
   "cell_type": "markdown",
   "metadata": {
    "slideshow": {
     "slide_type": "subslide"
    }
   },
   "source": [
    "We can now introduce `PerformanceDebugger` as a subclass of `MetricDebugger`, using an arbitrary `MetricCollector` (such as `TimeCollector`) to obtain the metric we want to visualize."
   ]
  },
  {
   "cell_type": "code",
   "execution_count": 35,
   "metadata": {
    "execution": {
     "iopub.execute_input": "2022-08-06T23:11:53.372045Z",
     "iopub.status.busy": "2022-08-06T23:11:53.371705Z",
     "iopub.status.idle": "2022-08-06T23:11:53.372878Z",
     "shell.execute_reply": "2022-08-06T23:11:53.373064Z"
    },
    "slideshow": {
     "slide_type": "fragment"
    }
   },
   "outputs": [],
   "source": [
    "class PerformanceDebugger(MetricDebugger):\n",
    "    \"\"\"Collect and visualize a metric\"\"\"\n",
    "\n",
    "    def __init__(self, collector_class: Type, log: bool = False):\n",
    "        assert issubclass(collector_class, MetricCollector)\n",
    "        super().__init__(collector_class, log=log)"
   ]
  },
  {
   "cell_type": "markdown",
   "metadata": {
    "slideshow": {
     "slide_type": "fragment"
    }
   },
   "source": [
    "With `PerformanceDebugger`, we inherit all the capabilities of `SpectrumDebugger`, such as showing the (relative) percentage of time spent in a table. We see that the `for` condition and the following `assert` take most of the time, followed by the first condition."
   ]
  },
  {
   "cell_type": "code",
   "execution_count": 36,
   "metadata": {
    "execution": {
     "iopub.execute_input": "2022-08-06T23:11:53.395190Z",
     "iopub.status.busy": "2022-08-06T23:11:53.394746Z",
     "iopub.status.idle": "2022-08-06T23:11:53.396258Z",
     "shell.execute_reply": "2022-08-06T23:11:53.396587Z"
    },
    "slideshow": {
     "slide_type": "subslide"
    }
   },
   "outputs": [],
   "source": [
    "with PerformanceDebugger(TimeCollector) as debugger:\n",
    "    for i in range(100):\n",
    "        s = remove_html_markup('<b>foo</b>')"
   ]
  },
  {
   "cell_type": "code",
   "execution_count": 37,
   "metadata": {
    "execution": {
     "iopub.execute_input": "2022-08-06T23:11:53.400054Z",
     "iopub.status.busy": "2022-08-06T23:11:53.399383Z",
     "iopub.status.idle": "2022-08-06T23:11:53.401392Z",
     "shell.execute_reply": "2022-08-06T23:11:53.401711Z"
    },
    "slideshow": {
     "slide_type": "subslide"
    }
   },
   "outputs": [
    {
     "name": "stdout",
     "output_type": "stream",
     "text": [
      " 238   2% def remove_html_markup(s):  # type: ignore\n",
      " 239   1%     tag = False\n",
      " 240   1%     quote = False\n",
      " 241   1%     out = \"\"\n",
      " 242   0%\n",
      " 243  22%     for c in s:\n",
      " 244  15%         assert tag or not quote\n",
      " 245   0%\n",
      " 246  14%         if c == '<' and not quote:\n",
      " 247   2%             tag = True\n",
      " 248  11%         elif c == '>' and not quote:\n",
      " 249   2%             tag = False\n",
      " 250   8%         elif (c == '\"' or c == \"'\") and tag:\n",
      " 251   0%             quote = not quote\n",
      " 252   8%         elif not tag:\n",
      " 253   4%             out = out + c\n",
      " 254   0%\n",
      " 255   2%     return out\n",
      "\n"
     ]
    }
   ],
   "source": [
    "print(debugger)"
   ]
  },
  {
   "cell_type": "markdown",
   "metadata": {
    "slideshow": {
     "slide_type": "subslide"
    }
   },
   "source": [
    "However, we can also visualize these percentages, using shades of blue to indicate those lines most time spent in:"
   ]
  },
  {
   "cell_type": "code",
   "execution_count": 38,
   "metadata": {
    "execution": {
     "iopub.execute_input": "2022-08-06T23:11:53.405396Z",
     "iopub.status.busy": "2022-08-06T23:11:53.405067Z",
     "iopub.status.idle": "2022-08-06T23:11:53.406854Z",
     "shell.execute_reply": "2022-08-06T23:11:53.407038Z"
    },
    "slideshow": {
     "slide_type": "subslide"
    }
   },
   "outputs": [
    {
     "data": {
      "text/html": [
       "<pre style=\"background-color:hsl(240, 100%, 97.62899190575564%)\"\n",
       "                    title=\"Line 238:   2% 0.0002544942544773221\"> 238 def remove_html_markup(s):  # type: ignore</pre>\n",
       "<pre style=\"background-color:hsl(240, 100%, 97.88827049962157%)\"\n",
       "                    title=\"Line 239:   1% 0.00022666435688734055\"> 239     tag = False</pre>\n",
       "<pre style=\"background-color:hsl(240, 100%, 98.0380977940067%)\"\n",
       "                    title=\"Line 240:   1% 0.00021058251149952412\"> 240     quote = False</pre>\n",
       "<pre style=\"background-color:hsl(240, 100%, 98.18092948930695%)\"\n",
       "                    title=\"Line 241:   1% 0.00019525154493749142\"> 241     out = &quot;&quot;</pre>\n",
       "<pre style=\"background-color:hsl(240, 100%, 100.0%)\"\n",
       "                    title=\"Line 242:   0% 0.0\"> 242 &nbsp;</pre>\n",
       "<pre style=\"background-color:hsl(240, 100%, 75.0%)\"\n",
       "                    title=\"Line 243:  22% 0.002683397149667144\"> 243     for c in s:</pre>\n",
       "<pre style=\"background-color:hsl(240, 100%, 82.33741815582906%)\"\n",
       "                    title=\"Line 244:  15% 0.0018958288710564375\"> 244         assert tag or not quote</pre>\n",
       "<pre style=\"background-color:hsl(240, 100%, 100.0%)\"\n",
       "                    title=\"Line 245:   0% 0.0\"> 245 &nbsp;</pre>\n",
       "<pre style=\"background-color:hsl(240, 100%, 84.17401670943852%)\"\n",
       "                    title=\"Line 246:  14% 0.001698695938102901\"> 246         if c == &#x27;&lt;&#x27; and not quote:</pre>\n",
       "<pre style=\"background-color:hsl(240, 100%, 96.84512472469878%)\"\n",
       "                    title=\"Line 247:   2% 0.00033863133285194635\"> 247             tag = True</pre>\n",
       "<pre style=\"background-color:hsl(240, 100%, 87.63785234717642%)\"\n",
       "                    title=\"Line 248:  11% 0.0013269020710140467\"> 248         elif c == &#x27;&gt;&#x27; and not quote:</pre>\n",
       "<pre style=\"background-color:hsl(240, 100%, 96.89291388545507%)\"\n",
       "                    title=\"Line 249:   2% 0.00033350184094160795\"> 249             tag = False</pre>\n",
       "<pre style=\"background-color:hsl(240, 100%, 90.82321325024166%)\"\n",
       "                    title=\"Line 250:   8% 0.0009849985362961888\"> 250         elif (c == &#x27;&quot;&#x27; or c == &quot;&#x27;&quot;) and tag:</pre>\n",
       "<pre style=\"background-color:hsl(240, 100%, 100.0%)\"\n",
       "                    title=\"Line 251:   0% 0.0\"> 251             quote = not quote</pre>\n",
       "<pre style=\"background-color:hsl(240, 100%, 90.40859222689811%)\"\n",
       "                    title=\"Line 252:   8% 0.0010295022511854768\"> 252         elif not tag:</pre>\n",
       "<pre style=\"background-color:hsl(240, 100%, 95.4601696401325%)\"\n",
       "                    title=\"Line 253:   4% 0.0004872867139056325\"> 253             out = out + c</pre>\n",
       "<pre style=\"background-color:hsl(240, 100%, 100.0%)\"\n",
       "                    title=\"Line 254:   0% 0.0\"> 254 &nbsp;</pre>\n",
       "<pre style=\"background-color:hsl(240, 100%, 96.93181809307909%)\"\n",
       "                    title=\"Line 255:   2% 0.0003293260233476758\"> 255     return out</pre>\n"
      ],
      "text/markdown": [
       "| `remove_html_markup` | `s='<b>foo</b>'` | \n",
       "| ---------------------- | ---- | \n",
       "| <samp style=\"background-color: hsl(240, 100%, 97.62899190575564%)\" title=\"  2% 0.0002544942544773221\">remove_html_markup:238</samp> |    X | \n",
       "| <samp style=\"background-color: hsl(240, 100%, 97.88827049962157%)\" title=\"  1% 0.00022666435688734055\">remove_html_markup:239</samp> |    X | \n",
       "| <samp style=\"background-color: hsl(240, 100%, 98.0380977940067%)\" title=\"  1% 0.00021058251149952412\">remove_html_markup:240</samp> |    X | \n",
       "| <samp style=\"background-color: hsl(240, 100%, 98.18092948930695%)\" title=\"  1% 0.00019525154493749142\">remove_html_markup:241</samp> |    X | \n",
       "| <samp style=\"background-color: hsl(240, 100%, 75.0%)\" title=\" 22% 0.002683397149667144\">remove_html_markup:243</samp> |    X | \n",
       "| <samp style=\"background-color: hsl(240, 100%, 82.33741815582906%)\" title=\" 15% 0.0018958288710564375\">remove_html_markup:244</samp> |    X | \n",
       "| <samp style=\"background-color: hsl(240, 100%, 84.17401670943852%)\" title=\" 14% 0.001698695938102901\">remove_html_markup:246</samp> |    X | \n",
       "| <samp style=\"background-color: hsl(240, 100%, 96.84512472469878%)\" title=\"  2% 0.00033863133285194635\">remove_html_markup:247</samp> |    X | \n",
       "| <samp style=\"background-color: hsl(240, 100%, 87.63785234717642%)\" title=\" 11% 0.0013269020710140467\">remove_html_markup:248</samp> |    X | \n",
       "| <samp style=\"background-color: hsl(240, 100%, 96.89291388545507%)\" title=\"  2% 0.00033350184094160795\">remove_html_markup:249</samp> |    X | \n",
       "| <samp style=\"background-color: hsl(240, 100%, 90.82321325024166%)\" title=\"  8% 0.0009849985362961888\">remove_html_markup:250</samp> |    X | \n",
       "| <samp style=\"background-color: hsl(240, 100%, 90.40859222689811%)\" title=\"  8% 0.0010295022511854768\">remove_html_markup:252</samp> |    X | \n",
       "| <samp style=\"background-color: hsl(240, 100%, 95.4601696401325%)\" title=\"  4% 0.0004872867139056325\">remove_html_markup:253</samp> |    X | \n",
       "| <samp style=\"background-color: hsl(240, 100%, 96.93181809307909%)\" title=\"  2% 0.0003293260233476758\">remove_html_markup:255</samp> |    X | \n"
      ],
      "text/plain": [
       " 238   2% def remove_html_markup(s):  # type: ignore\n",
       " 239   1%     tag = False\n",
       " 240   1%     quote = False\n",
       " 241   1%     out = \"\"\n",
       " 242   0%\n",
       " 243  22%     for c in s:\n",
       " 244  15%         assert tag or not quote\n",
       " 245   0%\n",
       " 246  14%         if c == '<' and not quote:\n",
       " 247   2%             tag = True\n",
       " 248  11%         elif c == '>' and not quote:\n",
       " 249   2%             tag = False\n",
       " 250   8%         elif (c == '\"' or c == \"'\") and tag:\n",
       " 251   0%             quote = not quote\n",
       " 252   8%         elif not tag:\n",
       " 253   4%             out = out + c\n",
       " 254   0%\n",
       " 255   2%     return out"
      ]
     },
     "execution_count": 38,
     "metadata": {},
     "output_type": "execute_result"
    }
   ],
   "source": [
    "debugger"
   ]
  },
  {
   "cell_type": "markdown",
   "metadata": {
    "slideshow": {
     "slide_type": "subslide"
    }
   },
   "source": [
    "### Other Metrics\n",
    "\n",
    "Our framework is flexible enough to collect (and visualize) arbitrary metrics. This `HitCollector` class, for instance, collects how often a line is being executed."
   ]
  },
  {
   "cell_type": "code",
   "execution_count": 39,
   "metadata": {
    "execution": {
     "iopub.execute_input": "2022-08-06T23:11:53.410733Z",
     "iopub.status.busy": "2022-08-06T23:11:53.410393Z",
     "iopub.status.idle": "2022-08-06T23:11:53.411676Z",
     "shell.execute_reply": "2022-08-06T23:11:53.411874Z"
    },
    "slideshow": {
     "slide_type": "subslide"
    }
   },
   "outputs": [],
   "source": [
    "class HitCollector(MetricCollector):\n",
    "    \"\"\"Collect how often a line is executed\"\"\"\n",
    "\n",
    "    def __init__(self) -> None:\n",
    "        super().__init__()\n",
    "        self.hits: Dict[Location, int] = {}\n",
    "\n",
    "    def collect(self, frame: FrameType, event: str, arg: Any) -> None:\n",
    "        super().collect(frame, event, arg)\n",
    "        location = (frame.f_code.co_name, frame.f_lineno)\n",
    "\n",
    "        self.hits.setdefault(location, 0)\n",
    "        self.hits[location] += 1\n",
    "\n",
    "    def metric(self, location: Location) -> Optional[int]:\n",
    "        if location in self.hits:\n",
    "            return self.hits[location]\n",
    "        else:\n",
    "            return None\n",
    "\n",
    "    def all_metrics(self, func: str) -> List[float]:\n",
    "        return [hits\n",
    "                for (func_name, lineno), hits in self.hits.items()\n",
    "                if func_name == func]"
   ]
  },
  {
   "cell_type": "markdown",
   "metadata": {
    "slideshow": {
     "slide_type": "subslide"
    }
   },
   "source": [
    "We can plug in this class into `PerformanceDebugger` to obtain a distribution of lines executed:"
   ]
  },
  {
   "cell_type": "code",
   "execution_count": 40,
   "metadata": {
    "execution": {
     "iopub.execute_input": "2022-08-06T23:11:53.426027Z",
     "iopub.status.busy": "2022-08-06T23:11:53.425681Z",
     "iopub.status.idle": "2022-08-06T23:11:53.426949Z",
     "shell.execute_reply": "2022-08-06T23:11:53.427165Z"
    },
    "slideshow": {
     "slide_type": "fragment"
    }
   },
   "outputs": [],
   "source": [
    "with PerformanceDebugger(HitCollector) as debugger:\n",
    "    for i in range(100):\n",
    "        s = remove_html_markup('<b>foo</b>')"
   ]
  },
  {
   "cell_type": "markdown",
   "metadata": {
    "slideshow": {
     "slide_type": "fragment"
    }
   },
   "source": [
    "In total, during this call to `remove_html_markup()`, there are 6,400 lines executed:"
   ]
  },
  {
   "cell_type": "code",
   "execution_count": 41,
   "metadata": {
    "execution": {
     "iopub.execute_input": "2022-08-06T23:11:53.429239Z",
     "iopub.status.busy": "2022-08-06T23:11:53.428861Z",
     "iopub.status.idle": "2022-08-06T23:11:53.430478Z",
     "shell.execute_reply": "2022-08-06T23:11:53.430666Z"
    },
    "slideshow": {
     "slide_type": "fragment"
    }
   },
   "outputs": [
    {
     "data": {
      "text/plain": [
       "6400.0"
      ]
     },
     "execution_count": 41,
     "metadata": {},
     "output_type": "execute_result"
    }
   ],
   "source": [
    "debugger.total('remove_html_markup')"
   ]
  },
  {
   "cell_type": "markdown",
   "metadata": {
    "slideshow": {
     "slide_type": "fragment"
    }
   },
   "source": [
    "Again, we can visualize the distribution as a table and using colors. We can see how the shade gets lighter in the lower part of the loop as individual conditions have been met."
   ]
  },
  {
   "cell_type": "code",
   "execution_count": 42,
   "metadata": {
    "execution": {
     "iopub.execute_input": "2022-08-06T23:11:53.433764Z",
     "iopub.status.busy": "2022-08-06T23:11:53.433448Z",
     "iopub.status.idle": "2022-08-06T23:11:53.434713Z",
     "shell.execute_reply": "2022-08-06T23:11:53.434896Z"
    },
    "slideshow": {
     "slide_type": "subslide"
    }
   },
   "outputs": [
    {
     "name": "stdout",
     "output_type": "stream",
     "text": [
      " 238   1% def remove_html_markup(s):  # type: ignore\n",
      " 239   1%     tag = False\n",
      " 240   1%     quote = False\n",
      " 241   1%     out = \"\"\n",
      " 242   0%\n",
      " 243  17%     for c in s:\n",
      " 244  15%         assert tag or not quote\n",
      " 245   0%\n",
      " 246  15%         if c == '<' and not quote:\n",
      " 247   3%             tag = True\n",
      " 248  12%         elif c == '>' and not quote:\n",
      " 249   3%             tag = False\n",
      " 250   9%         elif (c == '\"' or c == \"'\") and tag:\n",
      " 251   0%             quote = not quote\n",
      " 252   9%         elif not tag:\n",
      " 253   4%             out = out + c\n",
      " 254   0%\n",
      " 255   3%     return out\n",
      "\n"
     ]
    }
   ],
   "source": [
    "print(debugger)"
   ]
  },
  {
   "cell_type": "code",
   "execution_count": 43,
   "metadata": {
    "execution": {
     "iopub.execute_input": "2022-08-06T23:11:53.436973Z",
     "iopub.status.busy": "2022-08-06T23:11:53.436349Z",
     "iopub.status.idle": "2022-08-06T23:11:53.439280Z",
     "shell.execute_reply": "2022-08-06T23:11:53.439473Z"
    },
    "slideshow": {
     "slide_type": "subslide"
    }
   },
   "outputs": [
    {
     "data": {
      "text/html": [
       "<pre style=\"background-color:hsl(240, 100%, 97.72727272727273%)\"\n",
       "                    title=\"Line 238:   1% 100.0\"> 238 def remove_html_markup(s):  # type: ignore</pre>\n",
       "<pre style=\"background-color:hsl(240, 100%, 97.72727272727273%)\"\n",
       "                    title=\"Line 239:   1% 100.0\"> 239     tag = False</pre>\n",
       "<pre style=\"background-color:hsl(240, 100%, 97.72727272727273%)\"\n",
       "                    title=\"Line 240:   1% 100.0\"> 240     quote = False</pre>\n",
       "<pre style=\"background-color:hsl(240, 100%, 97.72727272727273%)\"\n",
       "                    title=\"Line 241:   1% 100.0\"> 241     out = &quot;&quot;</pre>\n",
       "<pre style=\"background-color:hsl(240, 100%, 100.0%)\"\n",
       "                    title=\"Line 242:   0% 0.0\"> 242 &nbsp;</pre>\n",
       "<pre style=\"background-color:hsl(240, 100%, 75.0%)\"\n",
       "                    title=\"Line 243:  17% 1100.0\"> 243     for c in s:</pre>\n",
       "<pre style=\"background-color:hsl(240, 100%, 77.27272727272728%)\"\n",
       "                    title=\"Line 244:  15% 1000.0\"> 244         assert tag or not quote</pre>\n",
       "<pre style=\"background-color:hsl(240, 100%, 100.0%)\"\n",
       "                    title=\"Line 245:   0% 0.0\"> 245 &nbsp;</pre>\n",
       "<pre style=\"background-color:hsl(240, 100%, 77.27272727272728%)\"\n",
       "                    title=\"Line 246:  15% 1000.0\"> 246         if c == &#x27;&lt;&#x27; and not quote:</pre>\n",
       "<pre style=\"background-color:hsl(240, 100%, 95.45454545454545%)\"\n",
       "                    title=\"Line 247:   3% 200.0\"> 247             tag = True</pre>\n",
       "<pre style=\"background-color:hsl(240, 100%, 81.81818181818181%)\"\n",
       "                    title=\"Line 248:  12% 800.0\"> 248         elif c == &#x27;&gt;&#x27; and not quote:</pre>\n",
       "<pre style=\"background-color:hsl(240, 100%, 95.45454545454545%)\"\n",
       "                    title=\"Line 249:   3% 200.0\"> 249             tag = False</pre>\n",
       "<pre style=\"background-color:hsl(240, 100%, 86.36363636363636%)\"\n",
       "                    title=\"Line 250:   9% 600.0\"> 250         elif (c == &#x27;&quot;&#x27; or c == &quot;&#x27;&quot;) and tag:</pre>\n",
       "<pre style=\"background-color:hsl(240, 100%, 100.0%)\"\n",
       "                    title=\"Line 251:   0% 0.0\"> 251             quote = not quote</pre>\n",
       "<pre style=\"background-color:hsl(240, 100%, 86.36363636363636%)\"\n",
       "                    title=\"Line 252:   9% 600.0\"> 252         elif not tag:</pre>\n",
       "<pre style=\"background-color:hsl(240, 100%, 93.18181818181819%)\"\n",
       "                    title=\"Line 253:   4% 300.0\"> 253             out = out + c</pre>\n",
       "<pre style=\"background-color:hsl(240, 100%, 100.0%)\"\n",
       "                    title=\"Line 254:   0% 0.0\"> 254 &nbsp;</pre>\n",
       "<pre style=\"background-color:hsl(240, 100%, 95.45454545454545%)\"\n",
       "                    title=\"Line 255:   3% 200.0\"> 255     return out</pre>\n"
      ],
      "text/markdown": [
       "| `remove_html_markup` | `s='<b>foo</b>'` | \n",
       "| ---------------------- | ---- | \n",
       "| <samp style=\"background-color: hsl(240, 100%, 97.72727272727273%)\" title=\"  1% 100.0\">remove_html_markup:238</samp> |    X | \n",
       "| <samp style=\"background-color: hsl(240, 100%, 97.72727272727273%)\" title=\"  1% 100.0\">remove_html_markup:239</samp> |    X | \n",
       "| <samp style=\"background-color: hsl(240, 100%, 97.72727272727273%)\" title=\"  1% 100.0\">remove_html_markup:240</samp> |    X | \n",
       "| <samp style=\"background-color: hsl(240, 100%, 97.72727272727273%)\" title=\"  1% 100.0\">remove_html_markup:241</samp> |    X | \n",
       "| <samp style=\"background-color: hsl(240, 100%, 75.0%)\" title=\" 17% 1100.0\">remove_html_markup:243</samp> |    X | \n",
       "| <samp style=\"background-color: hsl(240, 100%, 77.27272727272728%)\" title=\" 15% 1000.0\">remove_html_markup:244</samp> |    X | \n",
       "| <samp style=\"background-color: hsl(240, 100%, 77.27272727272728%)\" title=\" 15% 1000.0\">remove_html_markup:246</samp> |    X | \n",
       "| <samp style=\"background-color: hsl(240, 100%, 95.45454545454545%)\" title=\"  3% 200.0\">remove_html_markup:247</samp> |    X | \n",
       "| <samp style=\"background-color: hsl(240, 100%, 81.81818181818181%)\" title=\" 12% 800.0\">remove_html_markup:248</samp> |    X | \n",
       "| <samp style=\"background-color: hsl(240, 100%, 95.45454545454545%)\" title=\"  3% 200.0\">remove_html_markup:249</samp> |    X | \n",
       "| <samp style=\"background-color: hsl(240, 100%, 86.36363636363636%)\" title=\"  9% 600.0\">remove_html_markup:250</samp> |    X | \n",
       "| <samp style=\"background-color: hsl(240, 100%, 86.36363636363636%)\" title=\"  9% 600.0\">remove_html_markup:252</samp> |    X | \n",
       "| <samp style=\"background-color: hsl(240, 100%, 93.18181818181819%)\" title=\"  4% 300.0\">remove_html_markup:253</samp> |    X | \n",
       "| <samp style=\"background-color: hsl(240, 100%, 95.45454545454545%)\" title=\"  3% 200.0\">remove_html_markup:255</samp> |    X | \n"
      ],
      "text/plain": [
       " 238   1% def remove_html_markup(s):  # type: ignore\n",
       " 239   1%     tag = False\n",
       " 240   1%     quote = False\n",
       " 241   1%     out = \"\"\n",
       " 242   0%\n",
       " 243  17%     for c in s:\n",
       " 244  15%         assert tag or not quote\n",
       " 245   0%\n",
       " 246  15%         if c == '<' and not quote:\n",
       " 247   3%             tag = True\n",
       " 248  12%         elif c == '>' and not quote:\n",
       " 249   3%             tag = False\n",
       " 250   9%         elif (c == '\"' or c == \"'\") and tag:\n",
       " 251   0%             quote = not quote\n",
       " 252   9%         elif not tag:\n",
       " 253   4%             out = out + c\n",
       " 254   0%\n",
       " 255   3%     return out"
      ]
     },
     "execution_count": 43,
     "metadata": {},
     "output_type": "execute_result"
    }
   ],
   "source": [
    "debugger"
   ]
  },
  {
   "cell_type": "markdown",
   "metadata": {
    "slideshow": {
     "slide_type": "slide"
    }
   },
   "source": [
    "## Integrating with Delta Debugging\n",
    "\n",
    "Besides identifying causes for performance issues in the code, one may also search for causes in the _input_, using [Delta Debugging](DeltaDebugger.ipynb). This can be useful if one does not immediately want to embark into investigating the code, but maybe first determine external influences that are related to performance issues."
   ]
  },
  {
   "cell_type": "markdown",
   "metadata": {
    "slideshow": {
     "slide_type": "fragment"
    }
   },
   "source": [
    "Here is a variant of `remove_html_markup()` that introduces a (rather obvious) performance issue."
   ]
  },
  {
   "cell_type": "code",
   "execution_count": 44,
   "metadata": {
    "execution": {
     "iopub.execute_input": "2022-08-06T23:11:53.441513Z",
     "iopub.status.busy": "2022-08-06T23:11:53.441232Z",
     "iopub.status.idle": "2022-08-06T23:11:53.442325Z",
     "shell.execute_reply": "2022-08-06T23:11:53.442510Z"
    },
    "slideshow": {
     "slide_type": "skip"
    }
   },
   "outputs": [],
   "source": [
    "import time"
   ]
  },
  {
   "cell_type": "code",
   "execution_count": 45,
   "metadata": {
    "execution": {
     "iopub.execute_input": "2022-08-06T23:11:53.445187Z",
     "iopub.status.busy": "2022-08-06T23:11:53.444902Z",
     "iopub.status.idle": "2022-08-06T23:11:53.445919Z",
     "shell.execute_reply": "2022-08-06T23:11:53.446099Z"
    },
    "slideshow": {
     "slide_type": "subslide"
    }
   },
   "outputs": [],
   "source": [
    "def remove_html_markup_ampersand(s: str) -> str:\n",
    "    tag = False\n",
    "    quote = False\n",
    "    out = \"\"\n",
    "\n",
    "    for c in s:\n",
    "        assert tag or not quote\n",
    "\n",
    "        if c == '&':\n",
    "            time.sleep(0.1)  # <-- the obvious performance issue\n",
    "\n",
    "        if c == '<' and not quote:\n",
    "            tag = True\n",
    "        elif c == '>' and not quote:\n",
    "            tag = False\n",
    "        elif (c == '\"' or c == \"'\") and tag:\n",
    "            quote = not quote\n",
    "        elif not tag:\n",
    "            out = out + c\n",
    "\n",
    "    return out"
   ]
  },
  {
   "cell_type": "markdown",
   "metadata": {
    "slideshow": {
     "slide_type": "subslide"
    }
   },
   "source": [
    "We can easily trigger this issue by measuring time taken:"
   ]
  },
  {
   "cell_type": "code",
   "execution_count": 46,
   "metadata": {
    "execution": {
     "iopub.execute_input": "2022-08-06T23:11:53.447979Z",
     "iopub.status.busy": "2022-08-06T23:11:53.447637Z",
     "iopub.status.idle": "2022-08-06T23:11:53.764031Z",
     "shell.execute_reply": "2022-08-06T23:11:53.764293Z"
    },
    "slideshow": {
     "slide_type": "fragment"
    }
   },
   "outputs": [
    {
     "data": {
      "text/plain": [
       "0.31409224995877594"
      ]
     },
     "execution_count": 46,
     "metadata": {},
     "output_type": "execute_result"
    }
   ],
   "source": [
    "with Timer.Timer() as t:\n",
    "    remove_html_markup_ampersand('&&&')\n",
    "t.elapsed_time()"
   ]
  },
  {
   "cell_type": "markdown",
   "metadata": {
    "slideshow": {
     "slide_type": "fragment"
    }
   },
   "source": [
    "Let us set up a test that checks whether the performance issue is present."
   ]
  },
  {
   "cell_type": "code",
   "execution_count": 47,
   "metadata": {
    "execution": {
     "iopub.execute_input": "2022-08-06T23:11:53.767910Z",
     "iopub.status.busy": "2022-08-06T23:11:53.767194Z",
     "iopub.status.idle": "2022-08-06T23:11:53.768547Z",
     "shell.execute_reply": "2022-08-06T23:11:53.768734Z"
    },
    "slideshow": {
     "slide_type": "fragment"
    }
   },
   "outputs": [],
   "source": [
    "def remove_html_test(s: str) -> None:\n",
    "    with Timer.Timer() as t:\n",
    "        remove_html_markup_ampersand(s)\n",
    "    assert t.elapsed_time() < 0.1"
   ]
  },
  {
   "cell_type": "markdown",
   "metadata": {
    "slideshow": {
     "slide_type": "fragment"
    }
   },
   "source": [
    "We can now apply delta debugging to determine a minimum input that causes the failure:"
   ]
  },
  {
   "cell_type": "code",
   "execution_count": 48,
   "metadata": {
    "execution": {
     "iopub.execute_input": "2022-08-06T23:11:53.771260Z",
     "iopub.status.busy": "2022-08-06T23:11:53.770839Z",
     "iopub.status.idle": "2022-08-06T23:11:53.772229Z",
     "shell.execute_reply": "2022-08-06T23:11:53.772590Z"
    },
    "slideshow": {
     "slide_type": "fragment"
    }
   },
   "outputs": [],
   "source": [
    "s_fail = '<b>foo&amp;</b>'"
   ]
  },
  {
   "cell_type": "code",
   "execution_count": 49,
   "metadata": {
    "execution": {
     "iopub.execute_input": "2022-08-06T23:11:53.775271Z",
     "iopub.status.busy": "2022-08-06T23:11:53.774908Z",
     "iopub.status.idle": "2022-08-06T23:11:53.881342Z",
     "shell.execute_reply": "2022-08-06T23:11:53.881606Z"
    },
    "slideshow": {
     "slide_type": "subslide"
    }
   },
   "outputs": [],
   "source": [
    "with DeltaDebugger.DeltaDebugger() as dd:\n",
    "    remove_html_test(s_fail)"
   ]
  },
  {
   "cell_type": "code",
   "execution_count": 50,
   "metadata": {
    "execution": {
     "iopub.execute_input": "2022-08-06T23:11:53.884131Z",
     "iopub.status.busy": "2022-08-06T23:11:53.883650Z",
     "iopub.status.idle": "2022-08-06T23:11:54.398930Z",
     "shell.execute_reply": "2022-08-06T23:11:54.399301Z"
    },
    "slideshow": {
     "slide_type": "fragment"
    }
   },
   "outputs": [
    {
     "data": {
      "text/plain": [
       "{'s': '&'}"
      ]
     },
     "execution_count": 50,
     "metadata": {},
     "output_type": "execute_result"
    }
   ],
   "source": [
    "dd.min_args()"
   ]
  },
  {
   "cell_type": "markdown",
   "metadata": {
    "slideshow": {
     "slide_type": "fragment"
    }
   },
   "source": [
    "For performance issues, however, a minimal input is often not enough to highlight the failure cause. This is because short inputs tend to take less processing time than longer inputs, which increases the risks of a spurious diagnosis. A better alternative is to compute a _maximum_ input where the issue does not occur:"
   ]
  },
  {
   "cell_type": "code",
   "execution_count": 51,
   "metadata": {
    "execution": {
     "iopub.execute_input": "2022-08-06T23:11:54.402796Z",
     "iopub.status.busy": "2022-08-06T23:11:54.402472Z",
     "iopub.status.idle": "2022-08-06T23:11:54.614062Z",
     "shell.execute_reply": "2022-08-06T23:11:54.614307Z"
    },
    "slideshow": {
     "slide_type": "fragment"
    }
   },
   "outputs": [],
   "source": [
    "s_pass = dd.max_args()"
   ]
  },
  {
   "cell_type": "code",
   "execution_count": 52,
   "metadata": {
    "execution": {
     "iopub.execute_input": "2022-08-06T23:11:54.617018Z",
     "iopub.status.busy": "2022-08-06T23:11:54.616558Z",
     "iopub.status.idle": "2022-08-06T23:11:54.618164Z",
     "shell.execute_reply": "2022-08-06T23:11:54.618458Z"
    },
    "slideshow": {
     "slide_type": "fragment"
    }
   },
   "outputs": [
    {
     "data": {
      "text/plain": [
       "{'s': '<b>fooamp;</b>'}"
      ]
     },
     "execution_count": 52,
     "metadata": {},
     "output_type": "execute_result"
    }
   ],
   "source": [
    "s_pass"
   ]
  },
  {
   "cell_type": "markdown",
   "metadata": {
    "slideshow": {
     "slide_type": "fragment"
    }
   },
   "source": [
    "We see that the culprit character (the `&`) is removed. This tells us the failure-inducing difference – or, more precisely, the cause for the performance issue."
   ]
  },
  {
   "cell_type": "markdown",
   "metadata": {
    "slideshow": {
     "slide_type": "slide"
    }
   },
   "source": [
    "## Synopsis"
   ]
  },
  {
   "cell_type": "markdown",
   "metadata": {
    "slideshow": {
     "slide_type": "fragment"
    }
   },
   "source": [
    "This chapter provides a class `PerformanceDebugger` that allows to measure and visualize the time taken per line in a function."
   ]
  },
  {
   "cell_type": "code",
   "execution_count": 53,
   "metadata": {
    "execution": {
     "iopub.execute_input": "2022-08-06T23:11:54.639028Z",
     "iopub.status.busy": "2022-08-06T23:11:54.638681Z",
     "iopub.status.idle": "2022-08-06T23:11:54.640327Z",
     "shell.execute_reply": "2022-08-06T23:11:54.640672Z"
    },
    "slideshow": {
     "slide_type": "fragment"
    }
   },
   "outputs": [],
   "source": [
    "with PerformanceDebugger(TimeCollector) as debugger:\n",
    "    for i in range(100):\n",
    "        s = remove_html_markup('<b>foo</b>')"
   ]
  },
  {
   "cell_type": "markdown",
   "metadata": {
    "slideshow": {
     "slide_type": "fragment"
    }
   },
   "source": [
    "The distribution of executed time within each function can be obtained by printing out the debugger:"
   ]
  },
  {
   "cell_type": "code",
   "execution_count": 54,
   "metadata": {
    "execution": {
     "iopub.execute_input": "2022-08-06T23:11:54.643096Z",
     "iopub.status.busy": "2022-08-06T23:11:54.642779Z",
     "iopub.status.idle": "2022-08-06T23:11:54.644211Z",
     "shell.execute_reply": "2022-08-06T23:11:54.644544Z"
    },
    "slideshow": {
     "slide_type": "subslide"
    }
   },
   "outputs": [
    {
     "name": "stdout",
     "output_type": "stream",
     "text": [
      " 238   2% def remove_html_markup(s):  # type: ignore\n",
      " 239   2%     tag = False\n",
      " 240   1%     quote = False\n",
      " 241   1%     out = \"\"\n",
      " 242   0%\n",
      " 243  17%     for c in s:\n",
      " 244  15%         assert tag or not quote\n",
      " 245   0%\n",
      " 246  14%         if c == '<' and not quote:\n",
      " 247   3%             tag = True\n",
      " 248  11%         elif c == '>' and not quote:\n",
      " 249   3%             tag = False\n",
      " 250   9%         elif (c == '\"' or c == \"'\") and tag:\n",
      " 251   0%             quote = not quote\n",
      " 252   9%         elif not tag:\n",
      " 253   4%             out = out + c\n",
      " 254   0%\n",
      " 255   2%     return out\n",
      "\n"
     ]
    }
   ],
   "source": [
    "print(debugger)"
   ]
  },
  {
   "cell_type": "markdown",
   "metadata": {
    "slideshow": {
     "slide_type": "subslide"
    }
   },
   "source": [
    "The sum of all percentages in a function should always be 100%."
   ]
  },
  {
   "cell_type": "markdown",
   "metadata": {
    "slideshow": {
     "slide_type": "fragment"
    }
   },
   "source": [
    "These percentages can also be visualized, where darker shades represent higher percentage values:"
   ]
  },
  {
   "cell_type": "code",
   "execution_count": 55,
   "metadata": {
    "execution": {
     "iopub.execute_input": "2022-08-06T23:11:54.647893Z",
     "iopub.status.busy": "2022-08-06T23:11:54.647049Z",
     "iopub.status.idle": "2022-08-06T23:11:54.649862Z",
     "shell.execute_reply": "2022-08-06T23:11:54.650087Z"
    },
    "slideshow": {
     "slide_type": "subslide"
    }
   },
   "outputs": [
    {
     "data": {
      "text/html": [
       "<pre style=\"background-color:hsl(240, 100%, 96.93939024391706%)\"\n",
       "                    title=\"Line 238:   2% 0.0002377084456384182\"> 238 def remove_html_markup(s):  # type: ignore</pre>\n",
       "<pre style=\"background-color:hsl(240, 100%, 97.10727336019127%)\"\n",
       "                    title=\"Line 239:   2% 0.0002246694639325142\"> 239     tag = False</pre>\n",
       "<pre style=\"background-color:hsl(240, 100%, 97.35684818140514%)\"\n",
       "                    title=\"Line 240:   1% 0.0002052857307717204\"> 240     quote = False</pre>\n",
       "<pre style=\"background-color:hsl(240, 100%, 97.51027288066227%)\"\n",
       "                    title=\"Line 241:   1% 0.00019336969126015902\"> 241     out = &quot;&quot;</pre>\n",
       "<pre style=\"background-color:hsl(240, 100%, 100.0%)\"\n",
       "                    title=\"Line 242:   0% 0.0\"> 242 &nbsp;</pre>\n",
       "<pre style=\"background-color:hsl(240, 100%, 75.0%)\"\n",
       "                    title=\"Line 243:  17% 0.001941675553098321\"> 243     for c in s:</pre>\n",
       "<pre style=\"background-color:hsl(240, 100%, 78.84232207393477%)\"\n",
       "                    title=\"Line 244:  15% 0.0016432538395747542\"> 244         assert tag or not quote</pre>\n",
       "<pre style=\"background-color:hsl(240, 100%, 100.0%)\"\n",
       "                    title=\"Line 245:   0% 0.0\"> 245 &nbsp;</pre>\n",
       "<pre style=\"background-color:hsl(240, 100%, 79.21628934485113%)\"\n",
       "                    title=\"Line 246:  14% 0.001614208915270865\"> 246         if c == &#x27;&lt;&#x27; and not quote:</pre>\n",
       "<pre style=\"background-color:hsl(240, 100%, 95.77364102571482%)\"\n",
       "                    title=\"Line 247:   3% 0.00032824871595948935\"> 247             tag = True</pre>\n",
       "<pre style=\"background-color:hsl(240, 100%, 83.23885898477751%)\"\n",
       "                    title=\"Line 248:  11% 0.0013017879100516438\"> 248         elif c == &#x27;&gt;&#x27; and not quote:</pre>\n",
       "<pre style=\"background-color:hsl(240, 100%, 95.77201321720554%)\"\n",
       "                    title=\"Line 249:   3% 0.0003283751429989934\"> 249             tag = False</pre>\n",
       "<pre style=\"background-color:hsl(240, 100%, 86.49741085515046%)\"\n",
       "                    title=\"Line 250:   9% 0.0010487058898434043\"> 250         elif (c == &#x27;&quot;&#x27; or c == &quot;&#x27;&quot;) and tag:</pre>\n",
       "<pre style=\"background-color:hsl(240, 100%, 100.0%)\"\n",
       "                    title=\"Line 251:   0% 0.0\"> 251             quote = not quote</pre>\n",
       "<pre style=\"background-color:hsl(240, 100%, 86.80520905917705%)\"\n",
       "                    title=\"Line 252:   9% 0.001024800119921565\"> 252         elif not tag:</pre>\n",
       "<pre style=\"background-color:hsl(240, 100%, 93.76882846831433%)\"\n",
       "                    title=\"Line 253:   4% 0.0004839565372094512\"> 253             out = out + c</pre>\n",
       "<pre style=\"background-color:hsl(240, 100%, 100.0%)\"\n",
       "                    title=\"Line 254:   0% 0.0\"> 254 &nbsp;</pre>\n",
       "<pre style=\"background-color:hsl(240, 100%, 95.79171929314619%)\"\n",
       "                    title=\"Line 255:   2% 0.0003268446307629347\"> 255     return out</pre>\n"
      ],
      "text/markdown": [
       "| `remove_html_markup` | `s='<b>foo</b>'` | \n",
       "| ---------------------- | ---- | \n",
       "| <samp style=\"background-color: hsl(240, 100%, 96.93939024391706%)\" title=\"  2% 0.0002377084456384182\">remove_html_markup:238</samp> |    X | \n",
       "| <samp style=\"background-color: hsl(240, 100%, 97.10727336019127%)\" title=\"  2% 0.0002246694639325142\">remove_html_markup:239</samp> |    X | \n",
       "| <samp style=\"background-color: hsl(240, 100%, 97.35684818140514%)\" title=\"  1% 0.0002052857307717204\">remove_html_markup:240</samp> |    X | \n",
       "| <samp style=\"background-color: hsl(240, 100%, 97.51027288066227%)\" title=\"  1% 0.00019336969126015902\">remove_html_markup:241</samp> |    X | \n",
       "| <samp style=\"background-color: hsl(240, 100%, 75.0%)\" title=\" 17% 0.001941675553098321\">remove_html_markup:243</samp> |    X | \n",
       "| <samp style=\"background-color: hsl(240, 100%, 78.84232207393477%)\" title=\" 15% 0.0016432538395747542\">remove_html_markup:244</samp> |    X | \n",
       "| <samp style=\"background-color: hsl(240, 100%, 79.21628934485113%)\" title=\" 14% 0.001614208915270865\">remove_html_markup:246</samp> |    X | \n",
       "| <samp style=\"background-color: hsl(240, 100%, 95.77364102571482%)\" title=\"  3% 0.00032824871595948935\">remove_html_markup:247</samp> |    X | \n",
       "| <samp style=\"background-color: hsl(240, 100%, 83.23885898477751%)\" title=\" 11% 0.0013017879100516438\">remove_html_markup:248</samp> |    X | \n",
       "| <samp style=\"background-color: hsl(240, 100%, 95.77201321720554%)\" title=\"  3% 0.0003283751429989934\">remove_html_markup:249</samp> |    X | \n",
       "| <samp style=\"background-color: hsl(240, 100%, 86.49741085515046%)\" title=\"  9% 0.0010487058898434043\">remove_html_markup:250</samp> |    X | \n",
       "| <samp style=\"background-color: hsl(240, 100%, 86.80520905917705%)\" title=\"  9% 0.001024800119921565\">remove_html_markup:252</samp> |    X | \n",
       "| <samp style=\"background-color: hsl(240, 100%, 93.76882846831433%)\" title=\"  4% 0.0004839565372094512\">remove_html_markup:253</samp> |    X | \n",
       "| <samp style=\"background-color: hsl(240, 100%, 95.79171929314619%)\" title=\"  2% 0.0003268446307629347\">remove_html_markup:255</samp> |    X | \n"
      ],
      "text/plain": [
       " 238   2% def remove_html_markup(s):  # type: ignore\n",
       " 239   2%     tag = False\n",
       " 240   1%     quote = False\n",
       " 241   1%     out = \"\"\n",
       " 242   0%\n",
       " 243  17%     for c in s:\n",
       " 244  15%         assert tag or not quote\n",
       " 245   0%\n",
       " 246  14%         if c == '<' and not quote:\n",
       " 247   3%             tag = True\n",
       " 248  11%         elif c == '>' and not quote:\n",
       " 249   3%             tag = False\n",
       " 250   9%         elif (c == '\"' or c == \"'\") and tag:\n",
       " 251   0%             quote = not quote\n",
       " 252   9%         elif not tag:\n",
       " 253   4%             out = out + c\n",
       " 254   0%\n",
       " 255   2%     return out"
      ]
     },
     "execution_count": 55,
     "metadata": {},
     "output_type": "execute_result"
    }
   ],
   "source": [
    "debugger"
   ]
  },
  {
   "cell_type": "markdown",
   "metadata": {
    "slideshow": {
     "slide_type": "subslide"
    }
   },
   "source": [
    "The abstract `MetricCollector` class allows subclassing to build more collectors, such as `HitCollector`."
   ]
  },
  {
   "cell_type": "code",
   "execution_count": 56,
   "metadata": {
    "execution": {
     "iopub.execute_input": "2022-08-06T23:11:54.652156Z",
     "iopub.status.busy": "2022-08-06T23:11:54.651813Z",
     "iopub.status.idle": "2022-08-06T23:11:54.653195Z",
     "shell.execute_reply": "2022-08-06T23:11:54.653517Z"
    },
    "slideshow": {
     "slide_type": "fragment"
    }
   },
   "outputs": [],
   "source": [
    "# ignore\n",
    "from ClassDiagram import display_class_hierarchy"
   ]
  },
  {
   "cell_type": "code",
   "execution_count": 57,
   "metadata": {
    "execution": {
     "iopub.execute_input": "2022-08-06T23:11:54.660854Z",
     "iopub.status.busy": "2022-08-06T23:11:54.659666Z",
     "iopub.status.idle": "2022-08-06T23:11:55.228588Z",
     "shell.execute_reply": "2022-08-06T23:11:55.228776Z"
    },
    "slideshow": {
     "slide_type": "fragment"
    }
   },
   "outputs": [
    {
     "data": {
      "image/svg+xml": [
       "<?xml version=\"1.0\" encoding=\"UTF-8\" standalone=\"no\"?>\n",
       "<!DOCTYPE svg PUBLIC \"-//W3C//DTD SVG 1.1//EN\"\n",
       " \"http://www.w3.org/Graphics/SVG/1.1/DTD/svg11.dtd\">\n",
       "<!-- Generated by graphviz version 5.0.0 (20220707.1540)\n",
       " -->\n",
       "<!-- Pages: 1 -->\n",
       "<svg width=\"557pt\" height=\"555pt\"\n",
       " viewBox=\"0.00 0.00 557.00 555.00\" xmlns=\"http://www.w3.org/2000/svg\" xmlns:xlink=\"http://www.w3.org/1999/xlink\">\n",
       "<g id=\"graph0\" class=\"graph\" transform=\"scale(1 1) rotate(0) translate(4 551)\">\n",
       "<g id=\"a_graph0\"><a xlink:title=\"PerformanceDebugger class hierarchy\">\n",
       "<polygon fill=\"white\" stroke=\"transparent\" points=\"-4,4 -4,-551 553,-551 553,4 -4,4\"/>\n",
       "</a>\n",
       "</g>\n",
       "<!-- PerformanceDebugger -->\n",
       "<g id=\"node1\" class=\"node\">\n",
       "<title>PerformanceDebugger</title>\n",
       "<g id=\"a_node1\"><a xlink:href=\"#\" xlink:title=\"class PerformanceDebugger:&#10;Collect and visualize a metric\">\n",
       "<polygon fill=\"none\" stroke=\"black\" points=\"0,-28 0,-70 162,-70 162,-28 0,-28\"/>\n",
       "<text text-anchor=\"start\" x=\"8\" y=\"-55.8\" font-family=\"Raleway, Helvetica, Arial, sans-serif\" font-weight=\"bold\" font-size=\"14.00\" fill=\"#6a0dad\">PerformanceDebugger</text>\n",
       "<polyline fill=\"none\" stroke=\"black\" points=\"0,-47 162,-47 \"/>\n",
       "<g id=\"a_node1_0\"><a xlink:href=\"#\" xlink:title=\"PerformanceDebugger\">\n",
       "<g id=\"a_node1_1\"><a xlink:href=\"#\" xlink:title=\"__init__(self, collector_class: Type, log: bool = False):&#10;Constructor. Use instances of `collector_class` to collect events.\">\n",
       "<text text-anchor=\"start\" x=\"51\" y=\"-35.5\" font-family=\"'Fira Mono', 'Source Code Pro', 'Courier', monospace\" font-weight=\"bold\" font-style=\"italic\" font-size=\"10.00\">__init__()</text>\n",
       "</a>\n",
       "</g>\n",
       "</a>\n",
       "</g>\n",
       "</a>\n",
       "</g>\n",
       "</g>\n",
       "<!-- MetricDebugger -->\n",
       "<g id=\"node2\" class=\"node\">\n",
       "<title>MetricDebugger</title>\n",
       "<g id=\"a_node2\"><a xlink:href=\"#\" xlink:title=\"class MetricDebugger:&#10;Visualize a metric\">\n",
       "<polygon fill=\"none\" stroke=\"black\" points=\"21,-134.5 21,-231.5 141,-231.5 141,-134.5 21,-134.5\"/>\n",
       "<text text-anchor=\"start\" x=\"29\" y=\"-217.3\" font-family=\"Raleway, Helvetica, Arial, sans-serif\" font-weight=\"bold\" font-size=\"14.00\" fill=\"#6a0dad\">MetricDebugger</text>\n",
       "<polyline fill=\"none\" stroke=\"black\" points=\"21,-208.5 141,-208.5 \"/>\n",
       "<g id=\"a_node2_2\"><a xlink:href=\"#\" xlink:title=\"MetricDebugger\">\n",
       "<g id=\"a_node2_3\"><a xlink:href=\"#\" xlink:title=\"color(self, location: Tuple[str, int]) &#45;&gt; str:&#10;Return a color for the given event, or None.&#10;To be overloaded in subclasses.\">\n",
       "<text text-anchor=\"start\" x=\"33\" y=\"-197.5\" font-family=\"'Fira Mono', 'Source Code Pro', 'Courier', monospace\" font-style=\"italic\" font-size=\"10.00\">color()</text>\n",
       "</a>\n",
       "</g>\n",
       "<g id=\"a_node2_4\"><a xlink:href=\"#\" xlink:title=\"maximum(self, func_name: str) &#45;&gt; float\">\n",
       "<text text-anchor=\"start\" x=\"33\" y=\"-185.5\" font-family=\"'Fira Mono', 'Source Code Pro', 'Courier', monospace\" font-size=\"10.00\">maximum()</text>\n",
       "</a>\n",
       "</g>\n",
       "<g id=\"a_node2_5\"><a xlink:href=\"#\" xlink:title=\"metric(self, location: Tuple[str, int]) &#45;&gt; float\">\n",
       "<text text-anchor=\"start\" x=\"33\" y=\"-174.5\" font-family=\"'Fira Mono', 'Source Code Pro', 'Courier', monospace\" font-size=\"10.00\">metric()</text>\n",
       "</a>\n",
       "</g>\n",
       "<g id=\"a_node2_6\"><a xlink:href=\"#\" xlink:title=\"suspiciousness(self, location: Tuple[str, int]) &#45;&gt; float:&#10;Return a suspiciousness value in the range [0, 1.0]&#10;for the given event, or `None` if unknown.&#10;To be overloaded in subclasses.\">\n",
       "<text text-anchor=\"start\" x=\"33\" y=\"-164.5\" font-family=\"'Fira Mono', 'Source Code Pro', 'Courier', monospace\" font-style=\"italic\" font-size=\"10.00\">suspiciousness()</text>\n",
       "</a>\n",
       "</g>\n",
       "<g id=\"a_node2_7\"><a xlink:href=\"#\" xlink:title=\"tooltip(self, location: Tuple[str, int]) &#45;&gt; str:&#10;Return a tooltip for the given event (default: percentage).&#10;To be overloaded in subclasses.\">\n",
       "<text text-anchor=\"start\" x=\"33\" y=\"-153.5\" font-family=\"'Fira Mono', 'Source Code Pro', 'Courier', monospace\" font-style=\"italic\" font-size=\"10.00\">tooltip()</text>\n",
       "</a>\n",
       "</g>\n",
       "<g id=\"a_node2_8\"><a xlink:href=\"#\" xlink:title=\"total(self, func_name: str) &#45;&gt; float\">\n",
       "<text text-anchor=\"start\" x=\"33\" y=\"-141.5\" font-family=\"'Fira Mono', 'Source Code Pro', 'Courier', monospace\" font-size=\"10.00\">total()</text>\n",
       "</a>\n",
       "</g>\n",
       "</a>\n",
       "</g>\n",
       "</a>\n",
       "</g>\n",
       "</g>\n",
       "<!-- PerformanceDebugger&#45;&gt;MetricDebugger -->\n",
       "<g id=\"edge1\" class=\"edge\">\n",
       "<title>PerformanceDebugger&#45;&gt;MetricDebugger</title>\n",
       "<path fill=\"none\" stroke=\"black\" d=\"M81,-70.05C81,-84.54 81,-104.91 81,-124.3\"/>\n",
       "<polygon fill=\"none\" stroke=\"black\" points=\"77.5,-124.32 81,-134.32 84.5,-124.32 77.5,-124.32\"/>\n",
       "</g>\n",
       "<!-- SpectrumDebugger -->\n",
       "<g id=\"node3\" class=\"node\">\n",
       "<title>SpectrumDebugger</title>\n",
       "<g id=\"a_node3\"><a xlink:href=\"StatisticalDebugger.ipynb\" xlink:title=\"class SpectrumDebugger:&#10;A class to collect events for passing and failing outcomes.\">\n",
       "<polygon fill=\"none\" stroke=\"black\" points=\"9.5,-268.5 9.5,-304.5 152.5,-304.5 152.5,-268.5 9.5,-268.5\"/>\n",
       "<text text-anchor=\"start\" x=\"17.5\" y=\"-283.8\" font-family=\"Raleway, Helvetica, Arial, sans-serif\" font-weight=\"bold\" font-size=\"14.00\" fill=\"#6a0dad\">SpectrumDebugger</text>\n",
       "</a>\n",
       "</g>\n",
       "</g>\n",
       "<!-- MetricDebugger&#45;&gt;SpectrumDebugger -->\n",
       "<g id=\"edge2\" class=\"edge\">\n",
       "<title>MetricDebugger&#45;&gt;SpectrumDebugger</title>\n",
       "<path fill=\"none\" stroke=\"black\" d=\"M81,-231.78C81,-240.69 81,-249.72 81,-257.77\"/>\n",
       "<polygon fill=\"none\" stroke=\"black\" points=\"77.5,-258.03 81,-268.03 84.5,-258.03 77.5,-258.03\"/>\n",
       "</g>\n",
       "<!-- DifferenceDebugger -->\n",
       "<g id=\"node4\" class=\"node\">\n",
       "<title>DifferenceDebugger</title>\n",
       "<g id=\"a_node4\"><a xlink:href=\"StatisticalDebugger.ipynb\" xlink:title=\"class DifferenceDebugger:&#10;A class to collect events for passing and failing outcomes.\">\n",
       "<polygon fill=\"none\" stroke=\"black\" points=\"8,-341.5 8,-394.5 154,-394.5 154,-341.5 8,-341.5\"/>\n",
       "<text text-anchor=\"start\" x=\"16\" y=\"-380.3\" font-family=\"Raleway, Helvetica, Arial, sans-serif\" font-weight=\"bold\" font-size=\"14.00\" fill=\"#6a0dad\">DifferenceDebugger</text>\n",
       "<polyline fill=\"none\" stroke=\"black\" points=\"8,-371.5 154,-371.5 \"/>\n",
       "<g id=\"a_node4_9\"><a xlink:href=\"#\" xlink:title=\"DifferenceDebugger\">\n",
       "<g id=\"a_node4_10\"><a xlink:href=\"StatisticalDebugger.ipynb\" xlink:title=\"FAIL = &#39;FAIL&#39;\">\n",
       "<text text-anchor=\"start\" x=\"69\" y=\"-359.5\" font-family=\"'Fira Mono', 'Source Code Pro', 'Courier', monospace\" font-size=\"10.00\">FAIL</text>\n",
       "</a>\n",
       "</g>\n",
       "<g id=\"a_node4_11\"><a xlink:href=\"StatisticalDebugger.ipynb\" xlink:title=\"PASS = &#39;PASS&#39;\">\n",
       "<text text-anchor=\"start\" x=\"69\" y=\"-348.5\" font-family=\"'Fira Mono', 'Source Code Pro', 'Courier', monospace\" font-size=\"10.00\">PASS</text>\n",
       "</a>\n",
       "</g>\n",
       "</a>\n",
       "</g>\n",
       "</a>\n",
       "</g>\n",
       "</g>\n",
       "<!-- SpectrumDebugger&#45;&gt;DifferenceDebugger -->\n",
       "<g id=\"edge3\" class=\"edge\">\n",
       "<title>SpectrumDebugger&#45;&gt;DifferenceDebugger</title>\n",
       "<path fill=\"none\" stroke=\"black\" d=\"M81,-304.75C81,-312.51 81,-321.99 81,-331.18\"/>\n",
       "<polygon fill=\"none\" stroke=\"black\" points=\"77.5,-331.32 81,-341.32 84.5,-331.32 77.5,-331.32\"/>\n",
       "</g>\n",
       "<!-- StatisticalDebugger -->\n",
       "<g id=\"node5\" class=\"node\">\n",
       "<title>StatisticalDebugger</title>\n",
       "<g id=\"a_node5\"><a xlink:href=\"StatisticalDebugger.ipynb\" xlink:title=\"class StatisticalDebugger:&#10;A class to collect events for multiple outcomes.\">\n",
       "<polygon fill=\"none\" stroke=\"black\" points=\"11,-431.5 11,-467.5 151,-467.5 151,-431.5 11,-431.5\"/>\n",
       "<text text-anchor=\"start\" x=\"19\" y=\"-446.8\" font-family=\"Raleway, Helvetica, Arial, sans-serif\" font-weight=\"bold\" font-size=\"14.00\" fill=\"#6a0dad\">StatisticalDebugger</text>\n",
       "</a>\n",
       "</g>\n",
       "</g>\n",
       "<!-- DifferenceDebugger&#45;&gt;StatisticalDebugger -->\n",
       "<g id=\"edge4\" class=\"edge\">\n",
       "<title>DifferenceDebugger&#45;&gt;StatisticalDebugger</title>\n",
       "<path fill=\"none\" stroke=\"black\" d=\"M81,-394.59C81,-403.02 81,-412.42 81,-420.98\"/>\n",
       "<polygon fill=\"none\" stroke=\"black\" points=\"77.5,-421.24 81,-431.24 84.5,-421.24 77.5,-421.24\"/>\n",
       "</g>\n",
       "<!-- TimeCollector -->\n",
       "<g id=\"node6\" class=\"node\">\n",
       "<title>TimeCollector</title>\n",
       "<g id=\"a_node6\"><a xlink:href=\"#\" xlink:title=\"class TimeCollector:&#10;Collect time executed for each line\">\n",
       "<polygon fill=\"none\" stroke=\"black\" points=\"192.5,-0.5 192.5,-97.5 297.5,-97.5 297.5,-0.5 192.5,-0.5\"/>\n",
       "<text text-anchor=\"start\" x=\"200.5\" y=\"-83.3\" font-family=\"Raleway, Helvetica, Arial, sans-serif\" font-weight=\"bold\" font-size=\"14.00\" fill=\"#6a0dad\">TimeCollector</text>\n",
       "<polyline fill=\"none\" stroke=\"black\" points=\"192.5,-74.5 297.5,-74.5 \"/>\n",
       "<g id=\"a_node6_12\"><a xlink:href=\"#\" xlink:title=\"TimeCollector\">\n",
       "<g id=\"a_node6_13\"><a xlink:href=\"#\" xlink:title=\"__enter__(self) &#45;&gt; Any:&#10;Called at begin of `with` block. Turn tracing on.\">\n",
       "<text text-anchor=\"start\" x=\"206\" y=\"-63.5\" font-family=\"'Fira Mono', 'Source Code Pro', 'Courier', monospace\" font-style=\"italic\" font-size=\"10.00\">__enter__()</text>\n",
       "</a>\n",
       "</g>\n",
       "<g id=\"a_node6_14\"><a xlink:href=\"#\" xlink:title=\"__init__(self) &#45;&gt; None:&#10;Constructor\">\n",
       "<text text-anchor=\"start\" x=\"206\" y=\"-52.5\" font-family=\"'Fira Mono', 'Source Code Pro', 'Courier', monospace\" font-style=\"italic\" font-size=\"10.00\">__init__()</text>\n",
       "</a>\n",
       "</g>\n",
       "<g id=\"a_node6_15\"><a xlink:href=\"#\" xlink:title=\"all_metrics(self, func: str) &#45;&gt; List[float]:&#10;Return all metric for a function `func`.\">\n",
       "<text text-anchor=\"start\" x=\"206\" y=\"-41.5\" font-family=\"'Fira Mono', 'Source Code Pro', 'Courier', monospace\" font-style=\"italic\" font-size=\"10.00\">all_metrics()</text>\n",
       "</a>\n",
       "</g>\n",
       "<g id=\"a_node6_16\"><a xlink:href=\"#\" xlink:title=\"collect(self, frame: frame, event: str, arg: Any) &#45;&gt; None:&#10;Invoked for every line executed. Accumulate time spent.\">\n",
       "<text text-anchor=\"start\" x=\"206\" y=\"-30.5\" font-family=\"'Fira Mono', 'Source Code Pro', 'Courier', monospace\" font-style=\"italic\" font-size=\"10.00\">collect()</text>\n",
       "</a>\n",
       "</g>\n",
       "<g id=\"a_node6_17\"><a xlink:href=\"#\" xlink:title=\"metric(self, location: Any) &#45;&gt; Optional[float]:&#10;Return a metric for an event, or none.\">\n",
       "<text text-anchor=\"start\" x=\"206\" y=\"-19.5\" font-family=\"'Fira Mono', 'Source Code Pro', 'Courier', monospace\" font-style=\"italic\" font-size=\"10.00\">metric()</text>\n",
       "</a>\n",
       "</g>\n",
       "<g id=\"a_node6_18\"><a xlink:href=\"#\" xlink:title=\"reset_timer(self) &#45;&gt; None\">\n",
       "<text text-anchor=\"start\" x=\"206\" y=\"-7.5\" font-family=\"'Fira Mono', 'Source Code Pro', 'Courier', monospace\" font-size=\"10.00\">reset_timer()</text>\n",
       "</a>\n",
       "</g>\n",
       "</a>\n",
       "</g>\n",
       "</a>\n",
       "</g>\n",
       "</g>\n",
       "<!-- MetricCollector -->\n",
       "<g id=\"node7\" class=\"node\">\n",
       "<title>MetricCollector</title>\n",
       "<g id=\"a_node7\"><a xlink:href=\"#\" xlink:title=\"class MetricCollector:&#10;Abstract superclass for collecting line&#45;specific metrics\">\n",
       "<polygon fill=\"none\" stroke=\"black\" points=\"199.5,-145.5 199.5,-220.5 312.5,-220.5 312.5,-145.5 199.5,-145.5\"/>\n",
       "<text text-anchor=\"start\" x=\"207.5\" y=\"-206.3\" font-family=\"Raleway, Helvetica, Arial, sans-serif\" font-weight=\"bold\" font-size=\"14.00\" fill=\"#6a0dad\">MetricCollector</text>\n",
       "<polyline fill=\"none\" stroke=\"black\" points=\"199.5,-197.5 312.5,-197.5 \"/>\n",
       "<g id=\"a_node7_19\"><a xlink:href=\"#\" xlink:title=\"MetricCollector\">\n",
       "<g id=\"a_node7_20\"><a xlink:href=\"#\" xlink:title=\"all_metrics(self, func: str) &#45;&gt; List[float]:&#10;Return all metric for a function `func`.\">\n",
       "<text text-anchor=\"start\" x=\"217\" y=\"-186.5\" font-family=\"'Fira Mono', 'Source Code Pro', 'Courier', monospace\" font-style=\"italic\" font-size=\"10.00\">all_metrics()</text>\n",
       "</a>\n",
       "</g>\n",
       "<g id=\"a_node7_21\"><a xlink:href=\"#\" xlink:title=\"maximum(self, func: str) &#45;&gt; float\">\n",
       "<text text-anchor=\"start\" x=\"217\" y=\"-174.5\" font-family=\"'Fira Mono', 'Source Code Pro', 'Courier', monospace\" font-size=\"10.00\">maximum()</text>\n",
       "</a>\n",
       "</g>\n",
       "<g id=\"a_node7_22\"><a xlink:href=\"#\" xlink:title=\"metric(self, event: Any) &#45;&gt; Optional[float]:&#10;Return a metric for an event, or none.\">\n",
       "<text text-anchor=\"start\" x=\"217\" y=\"-164.5\" font-family=\"'Fira Mono', 'Source Code Pro', 'Courier', monospace\" font-style=\"italic\" font-size=\"10.00\">metric()</text>\n",
       "</a>\n",
       "</g>\n",
       "<g id=\"a_node7_23\"><a xlink:href=\"#\" xlink:title=\"total(self, func: str) &#45;&gt; float\">\n",
       "<text text-anchor=\"start\" x=\"217\" y=\"-152.5\" font-family=\"'Fira Mono', 'Source Code Pro', 'Courier', monospace\" font-size=\"10.00\">total()</text>\n",
       "</a>\n",
       "</g>\n",
       "</a>\n",
       "</g>\n",
       "</a>\n",
       "</g>\n",
       "</g>\n",
       "<!-- TimeCollector&#45;&gt;MetricCollector -->\n",
       "<g id=\"edge5\" class=\"edge\">\n",
       "<title>TimeCollector&#45;&gt;MetricCollector</title>\n",
       "<path fill=\"none\" stroke=\"black\" d=\"M248.97,-97.66C249.99,-109.89 251.09,-123.03 252.1,-135.22\"/>\n",
       "<polygon fill=\"none\" stroke=\"black\" points=\"248.61,-135.51 252.93,-145.19 255.59,-134.93 248.61,-135.51\"/>\n",
       "</g>\n",
       "<!-- CoverageCollector -->\n",
       "<g id=\"node8\" class=\"node\">\n",
       "<title>CoverageCollector</title>\n",
       "<g id=\"a_node8\"><a xlink:href=\"StatisticalDebugger.ipynb\" xlink:title=\"class CoverageCollector:&#10;A class to record covered locations during execution.\">\n",
       "<polygon fill=\"none\" stroke=\"black\" points=\"189,-268.5 189,-304.5 323,-304.5 323,-268.5 189,-268.5\"/>\n",
       "<text text-anchor=\"start\" x=\"197\" y=\"-283.8\" font-family=\"Raleway, Helvetica, Arial, sans-serif\" font-weight=\"bold\" font-size=\"14.00\" fill=\"#6a0dad\">CoverageCollector</text>\n",
       "</a>\n",
       "</g>\n",
       "</g>\n",
       "<!-- MetricCollector&#45;&gt;CoverageCollector -->\n",
       "<g id=\"edge6\" class=\"edge\">\n",
       "<title>MetricCollector&#45;&gt;CoverageCollector</title>\n",
       "<path fill=\"none\" stroke=\"black\" d=\"M256,-220.64C256,-232.95 256,-246.46 256,-257.95\"/>\n",
       "<polygon fill=\"none\" stroke=\"black\" points=\"252.5,-258.24 256,-268.24 259.5,-258.24 252.5,-258.24\"/>\n",
       "</g>\n",
       "<!-- Collector -->\n",
       "<g id=\"node9\" class=\"node\">\n",
       "<title>Collector</title>\n",
       "<g id=\"a_node9\"><a xlink:href=\"StatisticalDebugger.ipynb\" xlink:title=\"class Collector:&#10;A class to record events during execution.\">\n",
       "<polygon fill=\"none\" stroke=\"black\" points=\"195.5,-350 195.5,-386 268.5,-386 268.5,-350 195.5,-350\"/>\n",
       "<text text-anchor=\"start\" x=\"203.5\" y=\"-365.3\" font-family=\"Raleway, Helvetica, Arial, sans-serif\" font-weight=\"bold\" font-size=\"14.00\" fill=\"#6a0dad\">Collector</text>\n",
       "</a>\n",
       "</g>\n",
       "</g>\n",
       "<!-- CoverageCollector&#45;&gt;Collector -->\n",
       "<g id=\"edge7\" class=\"edge\">\n",
       "<title>CoverageCollector&#45;&gt;Collector</title>\n",
       "<path fill=\"none\" stroke=\"black\" d=\"M250.79,-304.75C247.68,-315.06 243.66,-328.39 240.13,-340.07\"/>\n",
       "<polygon fill=\"none\" stroke=\"black\" points=\"236.74,-339.2 237.2,-349.78 243.44,-341.22 236.74,-339.2\"/>\n",
       "</g>\n",
       "<!-- StackInspector -->\n",
       "<g id=\"node11\" class=\"node\">\n",
       "<title>StackInspector</title>\n",
       "<g id=\"a_node11\"><a xlink:href=\"StackInspector.ipynb\" xlink:title=\"class StackInspector:&#10;Provide functions to inspect the stack\">\n",
       "<polygon fill=\"none\" stroke=\"black\" points=\"184.5,-504.5 184.5,-546.5 351.5,-546.5 351.5,-504.5 184.5,-504.5\"/>\n",
       "<text text-anchor=\"start\" x=\"221\" y=\"-532.3\" font-family=\"Raleway, Helvetica, Arial, sans-serif\" font-weight=\"bold\" font-size=\"14.00\" fill=\"#6a0dad\">StackInspector</text>\n",
       "<polyline fill=\"none\" stroke=\"black\" points=\"184.5,-523.5 351.5,-523.5 \"/>\n",
       "<g id=\"a_node11_24\"><a xlink:href=\"#\" xlink:title=\"StackInspector\">\n",
       "<g id=\"a_node11_25\"><a xlink:href=\"StackInspector.ipynb\" xlink:title=\"_generated_function_cache = {(&#39;remove_html_markup&#39;, 238): &lt;function remove_html_markup at 0x2bd73d1b0&gt;}\">\n",
       "<text text-anchor=\"start\" x=\"193\" y=\"-511\" font-family=\"'Fira Mono', 'Source Code Pro', 'Courier', monospace\" font-size=\"10.00\">_generated_function_cache</text>\n",
       "</a>\n",
       "</g>\n",
       "</a>\n",
       "</g>\n",
       "</a>\n",
       "</g>\n",
       "</g>\n",
       "<!-- CoverageCollector&#45;&gt;StackInspector -->\n",
       "<g id=\"edge10\" class=\"edge\">\n",
       "<title>CoverageCollector&#45;&gt;StackInspector</title>\n",
       "<path fill=\"none\" stroke=\"black\" d=\"M264.72,-304.84C269.38,-315.08 274.63,-328.45 277,-341 287.09,-394.34 279.79,-457.86 273.76,-494.45\"/>\n",
       "<polygon fill=\"none\" stroke=\"black\" points=\"270.28,-494.02 272.03,-504.47 277.18,-495.21 270.28,-494.02\"/>\n",
       "</g>\n",
       "<!-- Tracer -->\n",
       "<g id=\"node10\" class=\"node\">\n",
       "<title>Tracer</title>\n",
       "<g id=\"a_node10\"><a xlink:href=\"Tracer.ipynb\" xlink:title=\"class Tracer:&#10;A class for tracing a piece of code. Use as `with Tracer(): block()`\">\n",
       "<polygon fill=\"none\" stroke=\"black\" points=\"208,-431.5 208,-467.5 264,-467.5 264,-431.5 208,-431.5\"/>\n",
       "<text text-anchor=\"start\" x=\"216\" y=\"-446.8\" font-family=\"Raleway, Helvetica, Arial, sans-serif\" font-weight=\"bold\" font-size=\"14.00\" fill=\"#6a0dad\">Tracer</text>\n",
       "</a>\n",
       "</g>\n",
       "</g>\n",
       "<!-- Collector&#45;&gt;Tracer -->\n",
       "<g id=\"edge8\" class=\"edge\">\n",
       "<title>Collector&#45;&gt;Tracer</title>\n",
       "<path fill=\"none\" stroke=\"black\" d=\"M232.87,-386.25C233.38,-396.46 234.04,-409.62 234.63,-421.21\"/>\n",
       "<polygon fill=\"none\" stroke=\"black\" points=\"231.14,-421.47 235.13,-431.28 238.13,-421.12 231.14,-421.47\"/>\n",
       "</g>\n",
       "<!-- Tracer&#45;&gt;StackInspector -->\n",
       "<g id=\"edge9\" class=\"edge\">\n",
       "<title>Tracer&#45;&gt;StackInspector</title>\n",
       "<path fill=\"none\" stroke=\"black\" d=\"M243.42,-467.66C246.93,-475.78 251.22,-485.69 255.23,-494.96\"/>\n",
       "<polygon fill=\"none\" stroke=\"black\" points=\"252.07,-496.49 259.26,-504.28 258.5,-493.71 252.07,-496.49\"/>\n",
       "</g>\n",
       "<!-- HitCollector -->\n",
       "<g id=\"node12\" class=\"node\">\n",
       "<title>HitCollector</title>\n",
       "<g id=\"a_node12\"><a xlink:href=\"#\" xlink:title=\"class HitCollector:&#10;Collect how often a line is executed\">\n",
       "<polygon fill=\"none\" stroke=\"black\" points=\"315.5,-11.5 315.5,-86.5 410.5,-86.5 410.5,-11.5 315.5,-11.5\"/>\n",
       "<text text-anchor=\"start\" x=\"326\" y=\"-72.3\" font-family=\"Raleway, Helvetica, Arial, sans-serif\" font-weight=\"bold\" font-size=\"14.00\" fill=\"#6a0dad\">HitCollector</text>\n",
       "<polyline fill=\"none\" stroke=\"black\" points=\"315.5,-63.5 410.5,-63.5 \"/>\n",
       "<g id=\"a_node12_26\"><a xlink:href=\"#\" xlink:title=\"HitCollector\">\n",
       "<g id=\"a_node12_27\"><a xlink:href=\"#\" xlink:title=\"__init__(self) &#45;&gt; None:&#10;Constructor.\">\n",
       "<text text-anchor=\"start\" x=\"324\" y=\"-52.5\" font-family=\"'Fira Mono', 'Source Code Pro', 'Courier', monospace\" font-style=\"italic\" font-size=\"10.00\">__init__()</text>\n",
       "</a>\n",
       "</g>\n",
       "<g id=\"a_node12_28\"><a xlink:href=\"#\" xlink:title=\"all_metrics(self, func: str) &#45;&gt; List[float]:&#10;Return all metric for a function `func`.\">\n",
       "<text text-anchor=\"start\" x=\"324\" y=\"-41.5\" font-family=\"'Fira Mono', 'Source Code Pro', 'Courier', monospace\" font-style=\"italic\" font-size=\"10.00\">all_metrics()</text>\n",
       "</a>\n",
       "</g>\n",
       "<g id=\"a_node12_29\"><a xlink:href=\"#\" xlink:title=\"collect(self, frame: frame, event: str, arg: Any) &#45;&gt; None:&#10;Save coverage for an observed event.\">\n",
       "<text text-anchor=\"start\" x=\"324\" y=\"-30.5\" font-family=\"'Fira Mono', 'Source Code Pro', 'Courier', monospace\" font-style=\"italic\" font-size=\"10.00\">collect()</text>\n",
       "</a>\n",
       "</g>\n",
       "<g id=\"a_node12_30\"><a xlink:href=\"#\" xlink:title=\"metric(self, location: Tuple[str, int]) &#45;&gt; Optional[int]:&#10;Return a metric for an event, or none.\">\n",
       "<text text-anchor=\"start\" x=\"324\" y=\"-19.5\" font-family=\"'Fira Mono', 'Source Code Pro', 'Courier', monospace\" font-style=\"italic\" font-size=\"10.00\">metric()</text>\n",
       "</a>\n",
       "</g>\n",
       "</a>\n",
       "</g>\n",
       "</a>\n",
       "</g>\n",
       "</g>\n",
       "<!-- HitCollector&#45;&gt;MetricCollector -->\n",
       "<g id=\"edge11\" class=\"edge\">\n",
       "<title>HitCollector&#45;&gt;MetricCollector</title>\n",
       "<path fill=\"none\" stroke=\"black\" d=\"M333.19,-86.77C320.44,-102.5 305.44,-121.01 292.06,-137.51\"/>\n",
       "<polygon fill=\"none\" stroke=\"black\" points=\"289.22,-135.46 285.65,-145.43 294.66,-139.86 289.22,-135.46\"/>\n",
       "</g>\n",
       "<!-- Legend -->\n",
       "<g id=\"node13\" class=\"node\">\n",
       "<title>Legend</title>\n",
       "<text text-anchor=\"start\" x=\"429\" y=\"-66.5\" font-family=\"Raleway, Helvetica, Arial, sans-serif\" font-weight=\"bold\" font-size=\"10.00\" fill=\"#6a0dad\">Legend</text>\n",
       "<text text-anchor=\"start\" x=\"429\" y=\"-56.5\" font-family=\"Raleway, Helvetica, Arial, sans-serif\" font-size=\"10.00\">• </text>\n",
       "<text text-anchor=\"start\" x=\"436\" y=\"-56.5\" font-family=\"'Fira Mono', 'Source Code Pro', 'Courier', monospace\" font-weight=\"bold\" font-size=\"8.00\">public_method()</text>\n",
       "<text text-anchor=\"start\" x=\"429\" y=\"-46.5\" font-family=\"Raleway, Helvetica, Arial, sans-serif\" font-size=\"10.00\">• </text>\n",
       "<text text-anchor=\"start\" x=\"436\" y=\"-46.5\" font-family=\"'Fira Mono', 'Source Code Pro', 'Courier', monospace\" font-size=\"8.00\">private_method()</text>\n",
       "<text text-anchor=\"start\" x=\"429\" y=\"-36.5\" font-family=\"Raleway, Helvetica, Arial, sans-serif\" font-size=\"10.00\">• </text>\n",
       "<text text-anchor=\"start\" x=\"436\" y=\"-36.5\" font-family=\"'Fira Mono', 'Source Code Pro', 'Courier', monospace\" font-style=\"italic\" font-size=\"8.00\">overloaded_method()</text>\n",
       "<text text-anchor=\"start\" x=\"429\" y=\"-27.3\" font-family=\"Helvetica,sans-Serif\" font-size=\"9.00\">Hover over names to see doc</text>\n",
       "</g>\n",
       "</g>\n",
       "</svg>\n"
      ],
      "text/plain": [
       "<graphviz.graphs.Digraph at 0x29c345ae0>"
      ]
     },
     "execution_count": 57,
     "metadata": {},
     "output_type": "execute_result"
    }
   ],
   "source": [
    "# ignore\n",
    "display_class_hierarchy([PerformanceDebugger, TimeCollector, HitCollector],\n",
    "                        public_methods=[\n",
    "                            PerformanceDebugger.__init__,\n",
    "                        ],\n",
    "                        project='debuggingbook')"
   ]
  },
  {
   "cell_type": "markdown",
   "metadata": {
    "button": false,
    "new_sheet": true,
    "run_control": {
     "read_only": false
    },
    "slideshow": {
     "slide_type": "slide"
    }
   },
   "source": [
    "## Lessons Learned\n",
    "\n",
    "* To measure performance,\n",
    "    * instrument the code such that the time taken per function (or line) is collected; or\n",
    "    * sample the execution that at regular intervals, the active call stack is collected.\n",
    "* To make code performant, focus on efficient algorithms, efficient data types, and sufficient abstraction such that you can replace them by alternatives.\n",
    "* Beyond efficient algorithms and data types, do _not_ optimize before measuring."
   ]
  },
  {
   "cell_type": "markdown",
   "metadata": {
    "button": false,
    "new_sheet": false,
    "run_control": {
     "read_only": false
    },
    "slideshow": {
     "slide_type": "slide"
    }
   },
   "source": [
    "## Next Steps\n",
    "\n",
    "This chapter concludes the part on abstracting failures. The next part will focus on\n",
    "\n",
    "* [repairing code automatically](Repairer.ipynb)"
   ]
  },
  {
   "cell_type": "markdown",
   "metadata": {
    "slideshow": {
     "slide_type": "slide"
    }
   },
   "source": [
    "## Background\n",
    "\n",
    "[Scalene](https://github.com/plasma-umass/scalene) is a high-performance, high-precision CPU, GPU, and memory profiler for Python. In contrast to the standard Python `cProfile` profiler, it uses _sampling_ instead of instrumentation or relying on Python's tracing facilities; and it also supports line-by-line profiling. Scalene might be the tool of choice if you want to go beyond basic profiling.\n",
    "\n",
    "The Wikipedia articles on [profiling](https://en.wikipedia.org/wiki/Profiling_(computer_programming)) and [performance analysis tools](https://en.wikipedia.org/wiki/List_of_performance_analysis_tools) provide several additional resources on profiling tools and how to apply them in practice."
   ]
  },
  {
   "cell_type": "markdown",
   "metadata": {
    "button": false,
    "new_sheet": true,
    "run_control": {
     "read_only": false
    },
    "slideshow": {
     "slide_type": "slide"
    }
   },
   "source": [
    "## Exercises"
   ]
  },
  {
   "cell_type": "markdown",
   "metadata": {
    "button": false,
    "new_sheet": false,
    "run_control": {
     "read_only": false
    },
    "slideshow": {
     "slide_type": "subslide"
    }
   },
   "source": [
    "### Exercise 1: Profiling Memory Usage\n",
    "\n",
    "The Python [`tracemalloc` module](https://docs.python.org/3/library/tracemalloc.html) allows to track memory usage during execution. Between `tracemalloc.start()` and `tracemalloc.end()`, use `tracemalloc.get_traced_memory()` to obtain how much memory is currently being consumed:"
   ]
  },
  {
   "cell_type": "code",
   "execution_count": 58,
   "metadata": {
    "execution": {
     "iopub.execute_input": "2022-08-06T23:11:55.231616Z",
     "iopub.status.busy": "2022-08-06T23:11:55.231189Z",
     "iopub.status.idle": "2022-08-06T23:11:55.234065Z",
     "shell.execute_reply": "2022-08-06T23:11:55.234262Z"
    },
    "slideshow": {
     "slide_type": "skip"
    }
   },
   "outputs": [],
   "source": [
    "import tracemalloc"
   ]
  },
  {
   "cell_type": "code",
   "execution_count": 59,
   "metadata": {
    "execution": {
     "iopub.execute_input": "2022-08-06T23:11:55.236489Z",
     "iopub.status.busy": "2022-08-06T23:11:55.236193Z",
     "iopub.status.idle": "2022-08-06T23:11:55.237579Z",
     "shell.execute_reply": "2022-08-06T23:11:55.237801Z"
    },
    "slideshow": {
     "slide_type": "fragment"
    }
   },
   "outputs": [],
   "source": [
    "tracemalloc.start()"
   ]
  },
  {
   "cell_type": "code",
   "execution_count": 60,
   "metadata": {
    "execution": {
     "iopub.execute_input": "2022-08-06T23:11:55.240990Z",
     "iopub.status.busy": "2022-08-06T23:11:55.240685Z",
     "iopub.status.idle": "2022-08-06T23:11:55.242669Z",
     "shell.execute_reply": "2022-08-06T23:11:55.242907Z"
    },
    "slideshow": {
     "slide_type": "fragment"
    }
   },
   "outputs": [
    {
     "data": {
      "text/plain": [
       "19704"
      ]
     },
     "execution_count": 60,
     "metadata": {},
     "output_type": "execute_result"
    }
   ],
   "source": [
    "current_size, peak_size = tracemalloc.get_traced_memory()\n",
    "current_size"
   ]
  },
  {
   "cell_type": "code",
   "execution_count": 61,
   "metadata": {
    "execution": {
     "iopub.execute_input": "2022-08-06T23:11:55.245318Z",
     "iopub.status.busy": "2022-08-06T23:11:55.245032Z",
     "iopub.status.idle": "2022-08-06T23:11:55.246358Z",
     "shell.execute_reply": "2022-08-06T23:11:55.246546Z"
    },
    "slideshow": {
     "slide_type": "fragment"
    }
   },
   "outputs": [],
   "source": [
    "tracemalloc.stop()"
   ]
  },
  {
   "cell_type": "markdown",
   "metadata": {
    "slideshow": {
     "slide_type": "subslide"
    }
   },
   "source": [
    "Create a subclass of `MetricCollector` named `MemoryCollector`. Have it measure the memory consumption before and after each line executed (0 if negative), and visualize the impact of individual lines on memory. Create an appropriate test program that (temporarily) consumes larger amounts of memory."
   ]
  },
  {
   "cell_type": "markdown",
   "metadata": {
    "slideshow": {
     "slide_type": "slide"
    }
   },
   "source": [
    "## Exercise 2: Statistical Performance Debugging\n",
    "\n",
    "In a similar way as we integrated a binary \"performance test\" with delta debugging, we can also integrate such a test with other techniques. Combining a performance test with [Statistical Debugging](StatisticalDebugger.ipynb), for instance, will highlight those lines whose execution correlates with low performance. But then, the performance test need not be binary, as with functional pass/fail tests – you can also _weight_ individual lines by _how much_ they impact performance. Create a variant of `StatisticalDebugger` that reflects the impact of individual lines on an arbitrary (summarized) performance metric."
   ]
  }
 ],
 "metadata": {
  "ipub": {
   "bibliography": "fuzzingbook.bib",
   "toc": true
  },
  "kernelspec": {
   "display_name": "Python 3 (ipykernel)",
   "language": "python",
   "name": "python3"
  },
  "language_info": {
   "codemirror_mode": {
    "name": "ipython",
    "version": 3
   },
   "file_extension": ".py",
   "mimetype": "text/x-python",
   "name": "python",
   "nbconvert_exporter": "python",
   "pygments_lexer": "ipython3",
   "version": "3.10.2"
  },
  "toc": {
   "base_numbering": 1,
   "nav_menu": {},
   "number_sections": true,
   "sideBar": true,
   "skip_h1_title": true,
   "title_cell": "",
   "title_sidebar": "Contents",
   "toc_cell": false,
   "toc_position": {},
   "toc_section_display": true,
   "toc_window_display": true
  },
  "toc-autonumbering": false
 },
 "nbformat": 4,
 "nbformat_minor": 4
}