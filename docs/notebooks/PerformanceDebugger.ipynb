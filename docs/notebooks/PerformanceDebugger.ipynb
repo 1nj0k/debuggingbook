{
 "cells": [
  {
   "cell_type": "markdown",
   "metadata": {
    "button": false,
    "new_sheet": false,
    "run_control": {
     "read_only": false
    },
    "slideshow": {
     "slide_type": "slide"
    }
   },
   "source": [
    "# Debugging Performance Issues\n",
    "\n",
    "Most chapters of this book deal with _functional_ issues – that is, issues related to the _functionality_ (or its absence) of the code in question. However, debugging can also involve _nonfunctional_ issues, however – performance, usability, reliability, and more. In this chapter, we give a short introduction on how to debug such nonfunctional issues, notably _performance_ issues."
   ]
  },
  {
   "cell_type": "code",
   "execution_count": 1,
   "metadata": {
    "execution": {
     "iopub.execute_input": "2023-01-07T16:04:12.390800Z",
     "iopub.status.busy": "2023-01-07T16:04:12.390408Z",
     "iopub.status.idle": "2023-01-07T16:04:12.445799Z",
     "shell.execute_reply": "2023-01-07T16:04:12.446040Z"
    },
    "slideshow": {
     "slide_type": "skip"
    }
   },
   "outputs": [
    {
     "data": {
      "text/html": [
       "\n",
       "        <iframe\n",
       "            width=\"640\"\n",
       "            height=\"360\"\n",
       "            src=\"https://www.youtube-nocookie.com/embed/0tMeB9G0uUI\"\n",
       "            frameborder=\"0\"\n",
       "            allowfullscreen\n",
       "            \n",
       "        ></iframe>\n",
       "        "
      ],
      "text/plain": [
       "<IPython.lib.display.IFrame at 0x1129d1ed0>"
      ]
     },
     "execution_count": 1,
     "metadata": {},
     "output_type": "execute_result"
    }
   ],
   "source": [
    "from bookutils import YouTubeVideo\n",
    "YouTubeVideo(\"0tMeB9G0uUI\")"
   ]
  },
  {
   "cell_type": "markdown",
   "metadata": {
    "button": false,
    "new_sheet": false,
    "run_control": {
     "read_only": false
    },
    "slideshow": {
     "slide_type": "subslide"
    }
   },
   "source": [
    "**Prerequisites**\n",
    "\n",
    "* This chapter leverages visualization capabilities from [the chapter on statistical debugging](StatisticalDebugger.ipynb).\n",
    "* We also show how to debug nonfunctional issues using [delta debugging](DeltaDebugger.ipynb)."
   ]
  },
  {
   "cell_type": "code",
   "execution_count": 2,
   "metadata": {
    "button": false,
    "execution": {
     "iopub.execute_input": "2023-01-07T16:04:12.448601Z",
     "iopub.status.busy": "2023-01-07T16:04:12.448232Z",
     "iopub.status.idle": "2023-01-07T16:04:12.449452Z",
     "shell.execute_reply": "2023-01-07T16:04:12.449682Z"
    },
    "new_sheet": false,
    "run_control": {
     "read_only": false
    },
    "slideshow": {
     "slide_type": "skip"
    }
   },
   "outputs": [],
   "source": [
    "import bookutils"
   ]
  },
  {
   "cell_type": "code",
   "execution_count": 3,
   "metadata": {
    "execution": {
     "iopub.execute_input": "2023-01-07T16:04:12.451683Z",
     "iopub.status.busy": "2023-01-07T16:04:12.451343Z",
     "iopub.status.idle": "2023-01-07T16:04:13.037497Z",
     "shell.execute_reply": "2023-01-07T16:04:13.037713Z"
    },
    "slideshow": {
     "slide_type": "skip"
    }
   },
   "outputs": [],
   "source": [
    "import StatisticalDebugger\n",
    "import DeltaDebugger"
   ]
  },
  {
   "cell_type": "markdown",
   "metadata": {
    "slideshow": {
     "slide_type": "skip"
    }
   },
   "source": [
    "## Synopsis\n",
    "<!-- Automatically generated. Do not edit. -->\n",
    "\n",
    "To [use the code provided in this chapter](Importing.ipynb), write\n",
    "\n",
    "```python\n",
    ">>> from debuggingbook.PerformanceDebugger import <identifier>\n",
    "```\n",
    "\n",
    "and then make use of the following features.\n",
    "\n",
    "\n",
    "This chapter provides a class `PerformanceDebugger` that allows to measure and visualize the time taken per line in a function.\n",
    "\n",
    "```python\n",
    ">>> with PerformanceDebugger(TimeCollector) as debugger:\n",
    ">>>     for i in range(100):\n",
    ">>>         s = remove_html_markup('<b>foo</b>')\n",
    "```\n",
    "The distribution of executed time within each function can be obtained by printing out the debugger:\n",
    "\n",
    "```python\n",
    ">>> print(debugger)\n",
    " 238   2% def remove_html_markup(s):  # type: ignore\n",
    " 239   2%     tag = False\n",
    " 240   1%     quote = False\n",
    " 241   1%     out = \"\"\n",
    " 242   0%\n",
    " 243  17%     for c in s:\n",
    " 244  15%         assert tag or not quote\n",
    " 245   0%\n",
    " 246  14%         if c == '<' and not quote:\n",
    " 247   2%             tag = True\n",
    " 248  12%         elif c == '>' and not quote:\n",
    " 249   2%             tag = False\n",
    " 250   8%         elif (c == '\"' or c == \"'\") and tag:\n",
    " 251   0%             quote = not quote\n",
    " 252  10%         elif not tag:\n",
    " 253   4%             out = out + c\n",
    " 254   0%\n",
    " 255   3%     return out\n",
    "\n",
    "\n",
    "```\n",
    "The sum of all percentages in a function should always be 100%.\n",
    "\n",
    "These percentages can also be visualized, where darker shades represent higher percentage values:\n",
    "\n",
    "```python\n",
    ">>> debugger\n",
    "```\n",
    "<pre style=\"background-color:hsl(240, 100%, 96.68060344645437%)\"\n",
    "                    title=\"Line 238:   2% 0.0005116260435897857\"> 238 def remove_html_markup(s):  # type: ignore</pre>\n",
    "<pre style=\"background-color:hsl(240, 100%, 97.02363400537863%)\"\n",
    "                    title=\"Line 239:   2% 0.00045875397336203605\"> 239     tag = False</pre>\n",
    "<pre style=\"background-color:hsl(240, 100%, 97.19880137243607%)\"\n",
    "                    title=\"Line 240:   1% 0.0004317550337873399\"> 240     quote = False</pre>\n",
    "<pre style=\"background-color:hsl(240, 100%, 97.33807145401597%)\"\n",
    "                    title=\"Line 241:   1% 0.00041028902342077345\"> 241     out = &quot;&quot;</pre>\n",
    "<pre style=\"background-color:hsl(240, 100%, 100.0%)\"\n",
    "                    title=\"Line 242:   0% 0.0\"> 242 &nbsp;</pre>\n",
    "<pre style=\"background-color:hsl(240, 100%, 75.0%)\"\n",
    "                    title=\"Line 243:  17% 0.0038533061306225136\"> 243     for c in s:</pre>\n",
    "<pre style=\"background-color:hsl(240, 100%, 76.87860175898172%)\"\n",
    "                    title=\"Line 244:  15% 0.003563753023627214\"> 244         assert tag or not quote</pre>\n",
    "<pre style=\"background-color:hsl(240, 100%, 100.0%)\"\n",
    "                    title=\"Line 245:   0% 0.0\"> 245 &nbsp;</pre>\n",
    "<pre style=\"background-color:hsl(240, 100%, 78.45649232950105%)\"\n",
    "                    title=\"Line 246:  14% 0.0033205492072738707\"> 246         if c == &#x27;&lt;&#x27; and not quote:</pre>\n",
    "<pre style=\"background-color:hsl(240, 100%, 95.63876342777229%)\"\n",
    "                    title=\"Line 247:   2% 0.0006722071848344058\"> 247             tag = True</pre>\n",
    "<pre style=\"background-color:hsl(240, 100%, 82.36611722086272%)\"\n",
    "                    title=\"Line 248:  12% 0.0027179499447811395\"> 248         elif c == &#x27;&gt;&#x27; and not quote:</pre>\n",
    "<pre style=\"background-color:hsl(240, 100%, 95.64659545979079%)\"\n",
    "                    title=\"Line 249:   2% 0.0006710000161547214\"> 249             tag = False</pre>\n",
    "<pre style=\"background-color:hsl(240, 100%, 86.89111214518556%)\"\n",
    "                    title=\"Line 250:   8% 0.002020502317463979\"> 250         elif (c == &#x27;&quot;&#x27; or c == &quot;&#x27;&quot;) and tag:</pre>\n",
    "<pre style=\"background-color:hsl(240, 100%, 100.0%)\"\n",
    "                    title=\"Line 251:   0% 0.0\"> 251             quote = not quote</pre>\n",
    "<pre style=\"background-color:hsl(240, 100%, 85.12423599026154%)\"\n",
    "                    title=\"Line 252:  10% 0.0022928349062567577\"> 252         elif not tag:</pre>\n",
    "<pre style=\"background-color:hsl(240, 100%, 93.58498325554304%)\"\n",
    "                    title=\"Line 253:   4% 0.000988760933978483\"> 253             out = out + c</pre>\n",
    "<pre style=\"background-color:hsl(240, 100%, 100.0%)\"\n",
    "                    title=\"Line 254:   0% 0.0\"> 254 &nbsp;</pre>\n",
    "<pre style=\"background-color:hsl(240, 100%, 95.27562842521348%)\"\n",
    "                    title=\"Line 255:   3% 0.0007281779980985448\"> 255     return out</pre>\n",
    "\n",
    "\n",
    "The abstract `MetricCollector` class allows subclassing to build more collectors, such as `HitCollector`.\n",
    "\n",
    "![](PICS/PerformanceDebugger-synopsis-1.svg)\n",
    "\n"
   ]
  },
  {
   "cell_type": "markdown",
   "metadata": {
    "slideshow": {
     "slide_type": "slide"
    }
   },
   "source": [
    "## Measuring Performance\n",
    "\n",
    "The solution to debugging performance issues fits in two simple rules:\n",
    "\n",
    "1. _Measure_ performance\n",
    "2. _Break down_ how individual parts of your code contribute to performance.\n",
    "\n",
    "The first part, actually _measuring_ performance, is key here. Developers often take elaborated guesses on which aspects of their code impact performance, and think about all possible ways to optimize their code – and at the same time, making it harder to understand, harder to evolve, and harder to maintain. In most cases, such guesses are wrong. Instead, _measure_ performance of your program, _identify_ the very few parts that may need to get improved, and again _measure_ the impact of your changes."
   ]
  },
  {
   "cell_type": "markdown",
   "metadata": {
    "slideshow": {
     "slide_type": "subslide"
    }
   },
   "source": [
    "Almost all programming languages offer a way to measure performance and breaking it down to individual parts of the code – a means also known as *profiling*. Profiling works by measuring the execution time for each function (or even more fine-grained location) in your program. This can be achieved by\n",
    "\n",
    "1. _Instrumenting_ or _tracing_ code such that the current time at entry and exit of each function (or line), thus determining the time spent. In Python, this is achieved by profilers like [profile or cProfile](https://docs.python.org/3/library/profile.html)\n",
    "\n",
    "2. _Sampling_ the current function call stack at regular intervals, and thus assessing which functions are most active (= take the most time) during execution. For Python, the [scalene](https://github.com/plasma-umass/scalene) profiler works this way.\n",
    "\n",
    "Pretty much all programming languages support profiling, either through measuring, sampling, or both. As a rule of thumb, _interpreted_ languages more frequently support measuring (as it is easy to implement in an interpreter), while _compiled_ languages more frequently support sampling (because instrumentation requires recompilation). Python is lucky to support both methods."
   ]
  },
  {
   "attachments": {},
   "cell_type": "markdown",
   "metadata": {
    "slideshow": {
     "slide_type": "subslide"
    }
   },
   "source": [
    "### Tracing Execution Profiles\n",
    "\n",
    "Let us illustrate profiling in a simple example. The `ChangeCounter` class (which we will encounter in the [chapter on mining version histories](ChangeCounter.ipynb)) reads in a version history from a git repository. Yet, it takes more than a minute to read in the debugging book change history:"
   ]
  },
  {
   "cell_type": "code",
   "execution_count": 4,
   "metadata": {
    "execution": {
     "iopub.execute_input": "2023-01-07T16:04:13.040072Z",
     "iopub.status.busy": "2023-01-07T16:04:13.039744Z",
     "iopub.status.idle": "2023-01-07T16:04:14.070175Z",
     "shell.execute_reply": "2023-01-07T16:04:14.070419Z"
    },
    "slideshow": {
     "slide_type": "skip"
    }
   },
   "outputs": [],
   "source": [
    "from ChangeCounter import ChangeCounter, debuggingbook_change_counter  # minor dependency"
   ]
  },
  {
   "cell_type": "code",
   "execution_count": 5,
   "metadata": {
    "execution": {
     "iopub.execute_input": "2023-01-07T16:04:14.072962Z",
     "iopub.status.busy": "2023-01-07T16:04:14.072508Z",
     "iopub.status.idle": "2023-01-07T16:04:14.074284Z",
     "shell.execute_reply": "2023-01-07T16:04:14.074494Z"
    },
    "slideshow": {
     "slide_type": "skip"
    }
   },
   "outputs": [],
   "source": [
    "import Timer"
   ]
  },
  {
   "cell_type": "code",
   "execution_count": 6,
   "metadata": {
    "execution": {
     "iopub.execute_input": "2023-01-07T16:04:14.076878Z",
     "iopub.status.busy": "2023-01-07T16:04:14.076432Z",
     "iopub.status.idle": "2023-01-07T16:06:03.819367Z",
     "shell.execute_reply": "2023-01-07T16:06:03.819677Z"
    },
    "slideshow": {
     "slide_type": "fragment"
    }
   },
   "outputs": [],
   "source": [
    "with Timer.Timer() as t:\n",
    "    change_counter = debuggingbook_change_counter(ChangeCounter)"
   ]
  },
  {
   "cell_type": "code",
   "execution_count": 7,
   "metadata": {
    "execution": {
     "iopub.execute_input": "2023-01-07T16:06:03.822972Z",
     "iopub.status.busy": "2023-01-07T16:06:03.822636Z",
     "iopub.status.idle": "2023-01-07T16:06:03.824168Z",
     "shell.execute_reply": "2023-01-07T16:06:03.824338Z"
    },
    "slideshow": {
     "slide_type": "fragment"
    }
   },
   "outputs": [
    {
     "data": {
      "text/plain": [
       "109.7413734169968"
      ]
     },
     "execution_count": 7,
     "metadata": {},
     "output_type": "execute_result"
    }
   ],
   "source": [
    "t.elapsed_time()"
   ]
  },
  {
   "cell_type": "markdown",
   "metadata": {
    "slideshow": {
     "slide_type": "subslide"
    }
   },
   "source": [
    "The Python `profile` and `cProfile` modules offer a simple way to identify the most time-consuming functions. They are invoked using the `run()` function, whose argument is the command to be profiled. The output reports, for each function encountered:\n",
    "\n",
    "* How often it was called (`ncalls` column)\n",
    "* How much time was spent in the given function, _excluding_ time spent in calls to sub-functions (`tottime` column)\n",
    "* The fraction of `tottime` / `ncalls` (first `percall` column)\n",
    "* How much time was spent in the given function, _including_ time spent in calls to sub-functions (`cumtime` column)\n",
    "* The fraction of `cumtime` / `percall` (second `percall` column)\n",
    "\n",
    "Let us have a look at the profile we obtain:"
   ]
  },
  {
   "cell_type": "code",
   "execution_count": 8,
   "metadata": {
    "execution": {
     "iopub.execute_input": "2023-01-07T16:06:03.826254Z",
     "iopub.status.busy": "2023-01-07T16:06:03.825942Z",
     "iopub.status.idle": "2023-01-07T16:06:03.827107Z",
     "shell.execute_reply": "2023-01-07T16:06:03.827303Z"
    },
    "slideshow": {
     "slide_type": "skip"
    }
   },
   "outputs": [],
   "source": [
    "import cProfile"
   ]
  },
  {
   "cell_type": "code",
   "execution_count": 9,
   "metadata": {
    "execution": {
     "iopub.execute_input": "2023-01-07T16:06:03.829707Z",
     "iopub.status.busy": "2023-01-07T16:06:03.829346Z",
     "iopub.status.idle": "2023-01-07T16:07:55.337964Z",
     "shell.execute_reply": "2023-01-07T16:07:55.338406Z"
    },
    "slideshow": {
     "slide_type": "subslide"
    }
   },
   "outputs": [
    {
     "name": "stdout",
     "output_type": "stream",
     "text": [
      "         18251091 function calls (18122626 primitive calls) in 111.231 seconds\n",
      "\n",
      "   Ordered by: cumulative time\n",
      "\n",
      "   ncalls  tottime  percall  cumtime  percall filename:lineno(function)\n",
      "        1    0.000    0.000  111.231  111.231 {built-in method builtins.exec}\n",
      "        1    0.000    0.000  111.231  111.231 <string>:1(<module>)\n",
      "        1    0.000    0.000  111.231  111.231 ChangeCounter.ipynb:168(debuggingbook_change_counter)\n",
      "        1    0.003    0.003  111.231  111.231 ChangeCounter.ipynb:51(__init__)\n",
      "        1    0.960    0.960  111.227  111.227 ChangeCounter.ipynb:88(mine)\n",
      "     1106    0.017    0.000  109.965    0.099 ChangeCounter.ipynb:102(mine_commit)\n",
      "     1106    0.040    0.000  109.797    0.099 commit.py:680(modified_files)\n",
      "     1106    0.020    0.000  109.756    0.099 commit.py:696(_get_modified_files)\n",
      "     1056    0.167    0.000   82.505    0.078 diff.py:95(diff)\n",
      "     1056   13.846    0.013   76.462    0.072 diff.py:445(_index_from_patch_format)\n",
      "     1056    0.119    0.000   50.501    0.048 cmd.py:71(handle_process_output)\n",
      "    10646   49.985    0.005   49.985    0.005 {method 'acquire' of '_thread.lock' objects}\n",
      "     2114    0.007    0.000   49.923    0.024 threading.py:1057(join)\n",
      "     2114    0.010    0.000   49.913    0.024 threading.py:1095(_wait_for_tstate_lock)\n",
      "     1106    0.042    0.000   27.205    0.025 commit.py:730(_parse_diff)\n",
      "    21484    0.024    0.000   26.225    0.001 commit.py:759(_get_undecoded_content)\n",
      "    70940    0.082    0.000   24.695    0.000 cmd.py:528(read)\n",
      "    59864    0.021    0.000   24.638    0.000 base.py:137(read)\n",
      "   141858   24.607    0.000   24.607    0.000 {method 'read' of '_io.BufferedReader' objects}\n",
      "    10742    0.085    0.000   11.385    0.001 diff.py:290(__init__)\n",
      "     9970    0.010    0.000   11.097    0.001 base.py:363(submodules)\n",
      "     9970    0.034    0.000   11.088    0.001 util.py:1092(list_items)\n",
      "21706/21703    0.026    0.000   11.041    0.001 {method 'extend' of 'list' objects}\n",
      "    29910    0.114    0.000   11.014    0.000 base.py:1228(iter_items)\n",
      "     1095    0.092    0.000    6.044    0.006 cmd.py:1114(_call_process)\n",
      "     1095    0.124    0.000    5.937    0.005 cmd.py:726(execute)\n",
      "     1057    0.033    0.000    5.877    0.006 cmd.py:638(<lambda>)\n",
      "   110820    0.343    0.000    5.586    0.000 cmd.py:1235(__get_object_header)\n",
      "     1095    0.177    0.000    5.501    0.005 subprocess.py:753(__init__)\n",
      "     1095    0.192    0.000    5.288    0.005 subprocess.py:1682(_execute_child)\n",
      "    70940    0.111    0.000    4.550    0.000 db.py:46(stream)\n",
      "   182959    4.547    0.000    4.549    0.000 {method 'readline' of '_io.BufferedReader' objects}\n",
      "    70940    0.173    0.000    4.363    0.000 cmd.py:1263(stream_object_data)\n",
      "    52012    0.047    0.000    4.322    0.000 util.py:248(__getattr__)\n",
      "69790/19940    0.041    0.000    3.472    0.000 tree.py:347(__getitem__)\n",
      "69790/19940    0.144    0.000    3.450    0.000 tree.py:245(join)\n",
      "    29910    0.028    0.000    3.424    0.000 base.py:527(commit)\n",
      "    39880    0.045    0.000    3.078    0.000 tree.py:224(_set_cache_)\n",
      "    29910    0.018    0.000    3.010    0.000 symbolic.py:212(_get_commit)\n",
      "    29910    0.030    0.000    2.993    0.000 symbolic.py:203(_get_object)\n",
      "     1095    2.548    0.002    2.548    0.002 {built-in method posix.read}\n",
      "    39880    0.094    0.000    2.174    0.000 base.py:75(new_from_sha)\n",
      "     1095    2.152    0.002    2.152    0.002 {built-in method _posixsubprocess.fork_exec}\n",
      "    39880    0.027    0.000    2.007    0.000 symbolic.py:143(dereference_recursive)\n",
      "    79761    0.073    0.000    1.980    0.000 symbolic.py:196(_get_ref_info)\n",
      "     9970    0.037    0.000    1.947    0.000 base.py:196(_config_parser)\n",
      "    79761    0.201    0.000    1.907    0.000 symbolic.py:156(_get_ref_info_helper)\n",
      "    39880    0.074    0.000    1.844    0.000 db.py:42(info)\n",
      "    19984    0.018    0.000    1.764    0.000 base.py:129(data_stream)\n",
      "    39880    0.031    0.000    1.728    0.000 cmd.py:1243(get_object_header)\n",
      "     9970    0.049    0.000    1.336    0.000 fun.py:191(rev_parse)\n",
      "     9970    0.048    0.000    1.279    0.000 fun.py:121(name_to_object)\n",
      "    12132    0.027    0.000    1.188    0.000 commit.py:196(_set_cache_)\n",
      "    92253    1.118    0.000    1.163    0.000 {built-in method io.open}\n",
      "79986/69865    0.061    0.000    0.902    0.000 config.py:104(assure_data_present)\n",
      "     9970    0.021    0.000    0.889    0.000 util.py:72(__init__)\n",
      "    10044    0.044    0.000    0.874    0.000 config.py:281(__init__)\n",
      "    10044    0.046    0.000    0.826    0.000 configparser.py:601(__init__)\n",
      "    39880    0.598    0.000    0.787    0.000 fun.py:59(tree_entries_from_data)\n",
      "   915681    0.753    0.000    0.753    0.000 {method 'decode' of 'bytes' objects}\n",
      "    10742    0.003    0.000    0.667    0.000 commit.py:749(_get_decoded_str)\n",
      "     1056    0.660    0.001    0.660    0.001 {method 'join' of 'bytes' objects}\n",
      "79986/69942    0.071    0.000    0.650    0.000 config.py:543(read)\n",
      "    10044    0.162    0.000    0.649    0.000 configparser.py:1321(__init__)\n",
      "    10044    0.195    0.000    0.396    0.000 config.py:391(_read)\n",
      "    10044    0.330    0.000    0.330    0.000 {built-in method builtins.dir}\n",
      "    11076    0.087    0.000    0.319    0.000 commit.py:525(_deserialize)\n",
      "    79905    0.249    0.000    0.310    0.000 {method 'read' of '_io.TextIOWrapper' objects}\n",
      "     1107    0.002    0.000    0.302    0.000 repository.py:207(traverse_commits)\n",
      "   110820    0.221    0.000    0.277    0.000 cmd.py:1207(_prepare_ref)\n",
      "    11848    0.005    0.000    0.259    0.000 commit.py:587(committer_date)\n",
      "    11848    0.006    0.000    0.254    0.000 commit.py:209(committed_datetime)\n",
      "   110820    0.025    0.000    0.243    0.000 cmd.py:1221(_get_persistent_cmd)\n",
      "  1377326    0.228    0.000    0.228    0.000 {method 'match' of 're.Pattern' objects}\n",
      "    10742    0.034    0.000    0.226    0.000 commit.py:155(__init__)\n",
      "     2114    0.011    0.000    0.220    0.000 threading.py:909(start)\n",
      "   110820    0.216    0.000    0.218    0.000 {method 'flush' of '_io.BufferedWriter' objects}\n",
      "     1110    0.021    0.000    0.210    0.000 repository.py:246(_iter_commits)\n",
      "     1095    0.034    0.000    0.204    0.000 os.py:711(copy)\n",
      "   115945    0.127    0.000    0.196    0.000 posixpath.py:71(join)\n",
      "    20232    0.017    0.000    0.192    0.000 pathlib.py:955(__new__)\n",
      "     1095    0.061    0.000    0.178    0.000 subprocess.py:1222(_close_pipe_fds)\n",
      "    20234    0.013    0.000    0.175    0.000 pathlib.py:587(_from_parts)\n",
      "     2114    0.084    0.000    0.173    0.000 threading.py:820(__init__)\n",
      "    39953    0.048    0.000    0.168    0.000 configparser.py:766(get)\n",
      "   348950    0.098    0.000    0.166    0.000 compat.py:49(safe_decode)\n",
      "   110820    0.123    0.000    0.165    0.000 cmd.py:1185(_parse_object_header)\n",
      "   695982    0.110    0.000    0.161    0.000 cmd.py:466(__getattr__)\n",
      "    20234    0.054    0.000    0.159    0.000 pathlib.py:567(_parse_args)\n",
      "     2115    0.019    0.000    0.147    0.000 threading.py:582(wait)\n",
      "    39880    0.068    0.000    0.140    0.000 util.py:85(get_object_type_by_name)\n",
      "    20230    0.080    0.000    0.135    0.000 util.py:69(mode_str_to_int)\n",
      "   133022    0.099    0.000    0.130    0.000 base.py:50(__init__)\n",
      "    89952    0.129    0.000    0.129    0.000 {method '__exit__' of '_io._IOBase' objects}\n",
      "    22152    0.032    0.000    0.126    0.000 util.py:268(parse_actor_and_date)\n",
      "    10044    0.067    0.000    0.121    0.000 configparser.py:1244(__init__)\n",
      "     2116    0.011    0.000    0.117    0.000 threading.py:288(wait)\n",
      "    80910    0.045    0.000    0.112    0.000 base.py:153(__init__)\n",
      "909501/909500    0.111    0.000    0.111    0.000 {built-in method builtins.getattr}\n",
      "    52112    0.040    0.000    0.103    0.000 commit.py:84(__init__)\n",
      "   111763    0.044    0.000    0.101    0.000 os.py:674(__getitem__)\n",
      "  1595302    0.095    0.000    0.099    0.000 {built-in method builtins.isinstance}\n",
      "   254040    0.061    0.000    0.098    0.000 os.py:804(fsencode)\n",
      "    20234    0.054    0.000    0.097    0.000 pathlib.py:56(parse_parts)\n",
      "    40986    0.030    0.000    0.090    0.000 tree.py:214(__init__)\n",
      "    11848    0.013    0.000    0.084    0.000 util.py:167(from_timestamp)\n",
      "     1107    0.000    0.000    0.081    0.000 git.py:110(get_list_commits)\n",
      "    19940    0.014    0.000    0.077    0.000 base.py:335(index)\n",
      "     1095    0.014    0.000    0.074    0.000 util.py:412(remove_password_if_present)\n",
      "    69862    0.055    0.000    0.074    0.000 util.py:163(join_path)\n",
      "     2228    0.042    0.000    0.072    0.000 contextlib.py:496(callback)\n",
      "     1107    0.001    0.000    0.069    0.000 commit.py:318(_iter_from_process_or_stream)\n",
      "    39953    0.036    0.000    0.069    0.000 configparser.py:1143(_unify_values)\n",
      "   112785    0.013    0.000    0.064    0.000 _collections_abc.py:877(__iter__)\n",
      "    19940    0.015    0.000    0.063    0.000 base.py:117(__init__)\n",
      "    79905    0.046    0.000    0.061    0.000 codecs.py:319(decode)\n",
      "     2114    0.060    0.000    0.060    0.000 {built-in method _thread.start_new_thread}\n",
      "    10047    0.012    0.000    0.057    0.000 config.py:489(_has_includes)\n",
      "    64599    0.056    0.000    0.057    0.000 {method 'search' of 're.Pattern' objects}\n",
      "   112785    0.031    0.000    0.052    0.000 os.py:697(__iter__)\n",
      "     1095    0.016    0.000    0.051    0.000 os.py:619(get_exec_path)\n",
      "     1057    0.013    0.000    0.050    0.000 util.py:383(finalize_process)\n",
      "    10680    0.028    0.000    0.050    0.000 parse.py:437(urlsplit)\n",
      "    26280    0.010    0.000    0.050    0.000 subprocess.py:1770(<genexpr>)\n",
      "   121380    0.049    0.000    0.049    0.000 typing.py:305(inner)\n",
      "    19940    0.016    0.000    0.048    0.000 base.py:114(__init__)\n",
      "    19940    0.011    0.000    0.048    0.000 base.py:157(_index_path)\n",
      "    22152    0.020    0.000    0.047    0.000 util.py:665(_from_string)\n",
      "    79905    0.030    0.000    0.046    0.000 codecs.py:309(__init__)\n",
      "    39953    0.030    0.000    0.045    0.000 __init__.py:976(__getitem__)\n",
      "   632070    0.044    0.000    0.044    0.000 {built-in method builtins.len}\n",
      "   223380    0.025    0.000    0.044    0.000 os.py:758(decode)\n",
      "    10044    0.015    0.000    0.044    0.000 config.py:492(_included_paths)\n",
      "   476755    0.044    0.000    0.044    0.000 {method 'encode' of 'str' objects}\n",
      "    21484    0.008    0.000    0.043    0.000 diff.py:432(_pick_best_path)\n",
      "    79761    0.031    0.000    0.043    0.000 symbolic.py:43(_git_dir)\n",
      "    39881    0.036    0.000    0.043    0.000 <frozen importlib._bootstrap>:404(parent)\n",
      "    99892    0.034    0.000    0.042    0.000 config.py:192(__getitem__)\n",
      "     2113    0.017    0.000    0.041    0.000 cmd.py:470(wait)\n",
      "   183213    0.040    0.000    0.040    0.000 {method 'split' of 'str' objects}\n",
      "    29911    0.015    0.000    0.040    0.000 base.py:342(head)\n",
      "    10742    0.003    0.000    0.039    0.000 ChangeCounter.ipynb:112(include)\n",
      "   109153    0.038    0.000    0.038    0.000 {method 'startswith' of 'bytes' objects}\n",
      "    11848    0.035    0.000    0.037    0.000 {built-in method fromtimestamp}\n",
      "     1125    0.009    0.000    0.037    0.000 cmd.py:463(__del__)\n",
      "    20012    0.011    0.000    0.037    0.000 util.py:200(join_path_native)\n",
      "    10742    0.007    0.000    0.036    0.000 ChangeCounter.ipynb:176(filter)\n",
      "    21484    0.022    0.000    0.035    0.000 diff.py:54(decode_path)\n",
      "    70711    0.035    0.000    0.035    0.000 config.py:180(__setitem__)\n",
      "   251502    0.035    0.000    0.035    0.000 {method 'endswith' of 'str' objects}\n",
      "       72    0.000    0.000    0.035    0.000 util.py:98(wrapper)\n",
      "       72    0.000    0.000    0.035    0.000 base.py:1103(module)\n",
      "       73    0.002    0.000    0.034    0.000 base.py:108(__init__)\n",
      "     2147    0.003    0.000    0.034    0.000 subprocess.py:1199(wait)\n",
      "   111763    0.022    0.000    0.034    0.000 os.py:754(encode)\n",
      "   205582    0.034    0.000    0.034    0.000 {method 'startswith' of 'str' objects}\n",
      "    10742    0.020    0.000    0.034    0.000 commit.py:923(_from_change_to_modification_type)\n",
      "   630326    0.033    0.000    0.033    0.000 {method 'append' of 'list' objects}\n",
      "    70940    0.021    0.000    0.033    0.000 base.py:128(__new__)\n",
      "   118646    0.020    0.000    0.032    0.000 posixpath.py:41(_get_sep)\n",
      "     2115    0.005    0.000    0.031    0.000 threading.py:538(__init__)\n",
      "     2147    0.004    0.000    0.031    0.000 subprocess.py:1906(_wait)\n",
      "    19940    0.026    0.000    0.031    0.000 symbolic.py:439(to_full_path)\n",
      "    39881    0.022    0.000    0.029    0.000 <frozen importlib._bootstrap>:1053(_handle_fromlist)\n",
      "     1095    0.021    0.000    0.029    0.000 contextlib.py:533(__exit__)\n",
      "    26420    0.006    0.000    0.028    0.000 commit.py:243(new_path)\n",
      "   133022    0.027    0.000    0.027    0.000 {method 'split' of 'bytes' objects}\n",
      "    76968    0.026    0.000    0.026    0.000 {built-in method sys.intern}\n",
      "     1091    0.007    0.000    0.026    0.000 subprocess.py:1893(_try_wait)\n",
      "    29912    0.019    0.000    0.026    0.000 head.py:38(__init__)\n",
      "    19940    0.018    0.000    0.026    0.000 configparser.py:878(has_option)\n",
      "   193992    0.025    0.000    0.025    0.000 {built-in method binascii.a2b_hex}\n",
      "     2114    0.025    0.000    0.025    0.000 threading.py:1294(_make_invoke_excepthook)\n",
      "     1095    0.025    0.000    0.025    0.000 cmd.py:416(__init__)\n",
      "   142924    0.024    0.000    0.024    0.000 {built-in method __new__ of type object at 0x104a1b0a0}\n",
      "     1125    0.006    0.000    0.024    0.000 cmd.py:421(_terminate)\n",
      "   110952    0.024    0.000    0.024    0.000 {method 'write' of '_io.BufferedWriter' objects}\n",
      "    72052    0.024    0.000    0.024    0.000 typing.py:1408(_no_init_or_replace_init)\n",
      "    40766    0.022    0.000    0.022    0.000 config.py:183(add)\n",
      "    70940    0.022    0.000    0.022    0.000 base.py:132(__init__)\n",
      "    39880    0.014    0.000    0.022    0.000 base.py:35(__new__)\n",
      "    11848    0.017    0.000    0.021    0.000 {method 'astimezone' of 'datetime.datetime' objects}\n",
      "    25945    0.014    0.000    0.021    0.000 pathlib.py:619(__str__)\n",
      "       36    0.000    0.000    0.021    0.001 base.py:1121(module_exists)\n",
      "    70940    0.021    0.000    0.021    0.000 cmd.py:517(__init__)\n",
      "   111208    0.020    0.000    0.020    0.000 {method 'group' of 're.Match' objects}\n",
      "     2120    0.020    0.000    0.020    0.000 threading.py:236(__init__)\n",
      "     1159    0.019    0.000    0.019    0.000 {built-in method posix.waitpid}\n",
      "   394312    0.019    0.000    0.019    0.000 {built-in method posix.fspath}\n",
      "   101240    0.016    0.000    0.019    0.000 {built-in method builtins.hasattr}\n",
      "     1095    0.018    0.000    0.018    0.000 warnings.py:458(__enter__)\n",
      "     1095    0.007    0.000    0.017    0.000 subprocess.py:1583(_get_handles)\n",
      "   115294    0.017    0.000    0.017    0.000 {built-in method binascii.b2a_hex}\n",
      "    22152    0.017    0.000    0.017    0.000 util.py:110(utctz_to_altz)\n",
      "   213646    0.016    0.000    0.016    0.000 {method 'strip' of 'str' objects}\n",
      "    29180    0.012    0.000    0.016    0.000 base.py:105(__ne__)\n",
      "     2228    0.010    0.000    0.016    0.000 contextlib.py:514(_push_exit_callback)\n",
      "       67    0.000    0.000    0.015    0.000 cmd.py:1273(clear_cache)\n",
      "    79905    0.015    0.000    0.015    0.000 codecs.py:260(__init__)\n",
      "     1095    0.015    0.000    0.015    0.000 contextlib.py:452(__init__)\n",
      "    79905    0.015    0.000    0.015    0.000 {built-in method _codecs.utf_8_decode}\n",
      "     2228    0.014    0.000    0.014    0.000 contextlib.py:446(_create_cb_wrapper)\n",
      "    55046    0.014    0.000    0.014    0.000 {method 'groups' of 're.Match' objects}\n",
      "   120815    0.013    0.000    0.013    0.000 {method 'rstrip' of 'str' objects}\n",
      "    39953    0.013    0.000    0.013    0.000 __init__.py:966(__init__)\n",
      "    70940    0.013    0.000    0.013    0.000 cmd.py:604(__del__)\n",
      "    20014    0.011    0.000    0.013    0.000 configparser.py:644(sections)\n",
      "    11848    0.013    0.000    0.013    0.000 util.py:147(__init__)\n",
      "     3323    0.013    0.000    0.013    0.000 {built-in method posix.pipe}\n",
      "    39953    0.012    0.000    0.012    0.000 base.py:296(common_dir)\n",
      "    50258    0.012    0.000    0.012    0.000 {built-in method builtins.setattr}\n",
      "     2114    0.008    0.000    0.011    0.000 _weakrefset.py:86(add)\n",
      "     4228    0.011    0.000    0.011    0.000 threading.py:1176(daemon)\n",
      "    19940    0.009    0.000    0.011    0.000 util.py:34(sm_name)\n",
      "     2128    0.010    0.000    0.011    0.000 threading.py:264(__enter__)\n",
      "        1    0.000    0.000    0.011    0.011 base.py:560(iter_commits)\n",
      "        1    0.000    0.000    0.011    0.011 commit.py:246(iter_items)\n",
      "9546/1095    0.007    0.000    0.011    0.000 cmd.py:1069(__unpack_args)\n",
      "       65    0.000    0.000    0.011    0.000 base.py:240(__del__)\n",
      "    10742    0.009    0.000    0.010    0.000 commit.py:549(committer)\n",
      "       65    0.001    0.000    0.010    0.000 base.py:246(close)\n",
      "    20545    0.007    0.000    0.010    0.000 diff.py:403(a_path)\n",
      "    10680    0.004    0.000    0.010    0.000 parse.py:155(password)\n",
      "     4419    0.010    0.000    0.010    0.000 {built-in method posix.close}\n",
      "      660    0.002    0.000    0.010    0.000 ChangeCounter.ipynb:121(update_stats)\n",
      "  290/146    0.001    0.000    0.010    0.000 fun.py:85(find_submodule_git_dir)\n",
      "     1095    0.006    0.000    0.009    0.000 warnings.py:165(simplefilter)\n",
      "    18445    0.009    0.000    0.009    0.000 {method 'get' of 'dict' objects}\n",
      "    39880    0.009    0.000    0.009    0.000 base.py:38(__init__)\n",
      "     9970    0.008    0.000    0.009    0.000 util.py:970(__new__)\n",
      "   154653    0.009    0.000    0.009    0.000 typing.py:1715(cast)\n",
      "        2    0.000    0.000    0.009    0.004 {built-in method builtins.next}\n",
      "        2    0.000    0.000    0.009    0.004 repository.py:173(_prep_repo)\n",
      "     2116    0.008    0.000    0.009    0.000 threading.py:279(_is_owned)\n",
      "     2114    0.007    0.000    0.008    0.000 threading.py:1021(_stop)\n",
      "     1056    0.008    0.000    0.008    0.000 {method 'finditer' of 're.Pattern' objects}\n",
      "     5329    0.008    0.000    0.008    0.000 {built-in method _thread.allocate_lock}\n",
      "     9260    0.006    0.000    0.008    0.000 diff.py:426(renamed_file)\n",
      "    50561    0.008    0.000    0.008    0.000 {method 'rpartition' of 'str' objects}\n",
      "   100024    0.008    0.000    0.008    0.000 {function _OMD.__getitem__ at 0x16a094f70}\n",
      "     2112    0.006    0.000    0.008    0.000 threading.py:1191(daemon)\n",
      "    20923    0.006    0.000    0.008    0.000 diff.py:407(b_path)\n",
      "   100660    0.007    0.000    0.007    0.000 config.py:387(optionxform)\n",
      "     4228    0.007    0.000    0.007    0.000 threading.py:1423(current_thread)\n",
      "    10264    0.005    0.000    0.007    0.000 pathlib.py:606(_format_parsed_parts)\n",
      "     1095    0.007    0.000    0.007    0.000 {built-in method posix.access}\n",
      "    29912    0.007    0.000    0.007    0.000 symbolic.py:65(__init__)\n",
      "       73    0.000    0.000    0.006    0.000 base.py:488(config_reader)\n",
      "     1106    0.002    0.000    0.006    0.000 conf.py:257(is_commit_filtered)\n",
      "    20230    0.006    0.000    0.006    0.000 {method 'sub' of 're.Pattern' objects}\n",
      "     1106    0.003    0.000    0.006    0.000 commit.py:529(hash)\n",
      "     9856    0.002    0.000    0.006    0.000 config.py:352(__del__)\n",
      "        1    0.000    0.000    0.006    0.006 contextlib.py:139(__exit__)\n",
      "    56067    0.006    0.000    0.006    0.000 {method 'readline' of '_io.BytesIO' objects}\n",
      "        2    0.000    0.000    0.006    0.003 git.py:77(clear)\n",
      "    10742    0.005    0.000    0.006    0.000 commit.py:614(msg)\n",
      "      363    0.001    0.000    0.006    0.000 fun.py:44(is_git_dir)\n",
      "     4344    0.006    0.000    0.006    0.000 {method 'append' of 'collections.deque' objects}\n",
      "    10680    0.005    0.000    0.006    0.000 parse.py:189(_userinfo)\n",
      "     2112    0.005    0.000    0.005    0.000 threading.py:775(_newname)\n",
      "    79760    0.005    0.000    0.005    0.000 {built-in method builtins.ord}\n",
      "    39880    0.005    0.000    0.005    0.000 base.py:52(type)\n",
      "    61134    0.005    0.000    0.005    0.000 {method 'lower' of 'str' objects}\n",
      "     1156    0.004    0.000    0.005    0.000 commit.py:623(parents)\n",
      "     2334    0.003    0.000    0.005    0.000 posixpath.py:150(dirname)\n",
      "     9970    0.005    0.000    0.005    0.000 fun.py:180(to_commit)\n",
      "     9970    0.005    0.000    0.005    0.000 util.py:973(__init__)\n",
      "    20234    0.005    0.000    0.005    0.000 pathlib.py:239(splitroot)\n",
      "     4474    0.003    0.000    0.005    0.000 base.py:123(hexsha)\n",
      "    10680    0.004    0.000    0.005    0.000 parse.py:114(_coerce_args)\n",
      "     6670    0.004    0.000    0.004    0.000 conf.py:45(get)\n",
      "    39880    0.004    0.000    0.004    0.000 base.py:42(binsha)\n",
      "     1095    0.002    0.000    0.004    0.000 _collections_abc.py:828(keys)\n",
      "     9970    0.003    0.000    0.004    0.000 base.py:99(__eq__)\n",
      "     9857    0.003    0.000    0.004    0.000 config.py:364(release)\n",
      "    65302    0.004    0.000    0.004    0.000 {method 'replace' of 'str' objects}\n",
      "     1024    0.004    0.000    0.004    0.000 {built-in method posix.stat}\n",
      "     2116    0.004    0.000    0.004    0.000 threading.py:273(_release_save)\n",
      "     2182    0.003    0.000    0.004    0.000 subprocess.py:1173(poll)\n",
      "     1095    0.002    0.000    0.004    0.000 warnings.py:181(_add_filter)\n",
      "     1091    0.004    0.000    0.004    0.000 subprocess.py:1060(__del__)\n",
      "     2114    0.003    0.000    0.004    0.000 _weakrefset.py:39(_remove)\n",
      "    22152    0.004    0.000    0.004    0.000 util.py:646(__init__)\n",
      "    20084    0.004    0.000    0.004    0.000 base.py:290(working_tree_dir)\n",
      "    39880    0.004    0.000    0.004    0.000 base.py:60(size)\n",
      "      660    0.004    0.000    0.004    0.000 ChangeCounter.ipynb:137(update_size)\n",
      "     1095    0.003    0.000    0.003    0.000 warnings.py:437(__init__)\n",
      "     3211    0.003    0.000    0.003    0.000 {method 'add' of 'set' objects}\n",
      "    10044    0.003    0.000    0.003    0.000 configparser.py:1363(__iter__)\n",
      "    36650    0.003    0.000    0.003    0.000 util.py:154(utcoffset)\n",
      "      728    0.001    0.000    0.003    0.000 genericpath.py:39(isdir)\n",
      "    47392    0.003    0.000    0.003    0.000 util.py:160(dst)\n",
      "     1168    0.000    0.000    0.003    0.000 abc.py:117(__instancecheck__)\n",
      "    10044    0.003    0.000    0.003    0.000 configparser.py:1191(converters)\n",
      "    10042    0.003    0.000    0.003    0.000 base.py:309(bare)\n",
      "    39953    0.003    0.000    0.003    0.000 configparser.py:363(before_get)\n",
      "      660    0.003    0.000    0.003    0.000 ChangeCounter.ipynb:145(update_changes)\n",
      "     2112    0.003    0.000    0.003    0.000 threading.py:1162(is_alive)\n",
      "    20012    0.003    0.000    0.003    0.000 util.py:194(to_native_path_linux)\n",
      "    50220    0.003    0.000    0.003    0.000 {built-in method builtins.callable}\n",
      "        1    0.000    0.000    0.003    0.003 contextlib.py:130(__enter__)\n",
      "     1107    0.002    0.000    0.003    0.000 __init__.py:1467(info)\n",
      "      731    0.002    0.000    0.003    0.000 posixpath.py:337(normpath)\n",
      "     1168    0.003    0.000    0.003    0.000 {built-in method _abc._abc_instancecheck}\n",
      "      219    0.001    0.000    0.003    0.000 util.py:400(expand_path)\n",
      "    25185    0.003    0.000    0.003    0.000 {method 'endswith' of 'bytes' objects}\n",
      "    10044    0.002    0.000    0.002    0.000 config.py:333(_acquire_lock)\n",
      "     6340    0.002    0.000    0.002    0.000 threading.py:546(is_set)\n",
      "     2228    0.001    0.000    0.002    0.000 contextlib.py:448(_exit_wrapper)\n",
      "        1    0.000    0.000    0.002    0.002 git.py:39(__init__)\n",
      "    10996    0.002    0.000    0.002    0.000 {method 'join' of 'str' objects}\n",
      "        1    0.000    0.000    0.002    0.002 git.py:86(_open_repository)\n",
      "    11848    0.002    0.000    0.002    0.000 developer.py:27(__init__)\n",
      "     1095    0.002    0.000    0.002    0.000 _collections_abc.py:854(__init__)\n",
      "    20014    0.002    0.000    0.002    0.000 {method 'keys' of 'collections.OrderedDict' objects}\n",
      "       95    0.000    0.000    0.002    0.000 parse.py:88(clear_cache)\n",
      "      190    0.002    0.000    0.002    0.000 {method 'clear' of 'dict' objects}\n",
      "     2112    0.001    0.000    0.002    0.000 base.py:115(__str__)\n",
      "     1099    0.002    0.000    0.002    0.000 {method 'remove' of 'list' objects}\n",
      "     2113    0.001    0.000    0.002    0.000 encoding.py:1(force_bytes)\n",
      "     2228    0.001    0.000    0.001    0.000 {method 'pop' of 'collections.deque' objects}\n",
      "     9260    0.001    0.000    0.001    0.000 diff.py:411(rename_from)\n",
      "     2116    0.001    0.000    0.001    0.000 threading.py:276(_acquire_restore)\n",
      "     1095    0.001    0.000    0.001    0.000 {built-in method sys.exc_info}\n",
      "     1091    0.001    0.000    0.001    0.000 subprocess.py:1846(_handle_exitstatus)\n",
      "     3273    0.001    0.000    0.001    0.000 subprocess.py:1858(_internal_poll)\n",
      "    20235    0.001    0.000    0.001    0.000 {method 'reverse' of 'list' objects}\n",
      "    11076    0.001    0.000    0.001    0.000 {method 'read' of '_io.BytesIO' objects}\n",
      "     2128    0.001    0.000    0.001    0.000 threading.py:267(__exit__)\n",
      "      221    0.000    0.000    0.001    0.000 posixpath.py:376(abspath)\n",
      "    12239    0.001    0.000    0.001    0.000 {method 'strip' of 'bytes' objects}\n",
      "     2202    0.001    0.000    0.001    0.000 __init__.py:1724(isEnabledFor)\n",
      "       73    0.000    0.000    0.001    0.000 configparser.py:827(getboolean)\n",
      "    10742    0.001    0.000    0.001    0.000 {method 'end' of 're.Match' objects}\n",
      "     1095    0.001    0.000    0.001    0.000 cmd.py:1148(<dictcomp>)\n",
      "     1096    0.001    0.000    0.001    0.000 {built-in method builtins.sorted}\n",
      "     9260    0.001    0.000    0.001    0.000 diff.py:415(rename_to)\n",
      "     9860    0.001    0.000    0.001    0.000 config.py:707(read_only)\n",
      "     1135    0.000    0.000    0.001    0.000 cmd.py:180(dashify)\n",
      "     1106    0.001    0.000    0.001    0.000 commit.py:538(author)\n",
      "     1095    0.001    0.000    0.001    0.000 __init__.py:1455(debug)\n",
      "     1900    0.001    0.000    0.001    0.000 <string>:1(<lambda>)\n",
      "    10408    0.001    0.000    0.001    0.000 {method 'pop' of 'list' objects}\n",
      "       73    0.000    0.000    0.001    0.000 configparser.py:806(_get_conv)\n",
      "     1056    0.001    0.000    0.001    0.000 base.py:90(_set_cache_)\n",
      "     1095    0.001    0.000    0.001    0.000 warnings.py:477(__exit__)\n",
      "     2113    0.001    0.000    0.001    0.000 cmd.py:632(__getattr__)\n",
      "       73    0.000    0.000    0.001    0.000 cmd.py:612(__init__)\n",
      "     9686    0.001    0.000    0.001    0.000 {method 'start' of 're.Match' objects}\n",
      "       73    0.000    0.000    0.001    0.000 configparser.py:803(_get)\n",
      "    10044    0.001    0.000    0.001    0.000 {built-in method builtins.iter}\n",
      "      221    0.000    0.000    0.001    0.000 genericpath.py:27(isfile)\n",
      "    10680    0.001    0.000    0.001    0.000 parse.py:103(_noop)\n",
      "     2182    0.001    0.000    0.001    0.000 {method 'close' of '_io.BufferedReader' objects}\n",
      "     1095    0.001    0.000    0.001    0.000 cmd.py:1058(transform_kwargs)\n",
      "     4228    0.001    0.000    0.001    0.000 {built-in method _thread.get_ident}\n",
      "       34    0.000    0.000    0.001    0.000 subprocess.py:2093(terminate)\n",
      "     1239    0.001    0.000    0.001    0.000 {method 'rfind' of 'str' objects}\n",
      "     1095    0.001    0.000    0.001    0.000 cmd.py:1156(<listcomp>)\n",
      "        1    0.000    0.000    0.001    0.001 base.py:511(config_writer)\n",
      "     1900    0.001    0.000    0.001    0.000 {method 'find' of 'str' objects}\n",
      "     1095    0.001    0.000    0.001    0.000 subprocess.py:246(_cleanup)\n",
      "       73    0.000    0.000    0.001    0.000 genericpath.py:16(exists)\n",
      "        4    0.000    0.000    0.001    0.000 util.py:878(_obtain_lock)\n",
      "        4    0.000    0.000    0.001    0.000 util.py:856(_obtain_lock_or_raise)\n",
      "        3    0.000    0.000    0.001    0.000 config.py:659(write)\n",
      "        1    0.001    0.001    0.001    0.001 {built-in method posix.open}\n",
      "     1095    0.001    0.000    0.001    0.000 {method 'rfind' of 'bytes' objects}\n",
      "       73    0.000    0.000    0.001    0.000 db.py:37(__init__)\n",
      "     4298    0.001    0.000    0.001    0.000 {method 'release' of '_thread.lock' objects}\n",
      "        2    0.000    0.000    0.001    0.000 pathlib.py:1062(resolve)\n",
      "     4381    0.001    0.000    0.001    0.000 {method 'items' of 'dict' objects}\n",
      "     1095    0.001    0.000    0.001    0.000 contextlib.py:530(__enter__)\n",
      "        1    0.000    0.000    0.000    0.000 repository.py:240(<dictcomp>)\n",
      "        4    0.000    0.000    0.000    0.000 thread.py:161(submit)\n",
      "     2120    0.000    0.000    0.000    0.000 {method '__enter__' of '_thread.lock' objects}\n",
      "        4    0.000    0.000    0.000    0.000 thread.py:180(_adjust_thread_count)\n",
      "        2    0.000    0.000    0.000    0.000 posixpath.py:391(realpath)\n",
      "      2/1    0.000    0.000    0.000    0.000 config.py:117(flush_changes)\n",
      "     3223    0.000    0.000    0.000    0.000 {method '__exit__' of '_thread.lock' objects}\n",
      "       74    0.000    0.000    0.000    0.000 base.py:464(_get_config_path)\n",
      "     4263    0.000    0.000    0.000    0.000 {method 'insert' of 'list' objects}\n",
      "     1106    0.000    0.000    0.000    0.000 git.py:134(get_commit_from_gitpython)\n",
      "       73    0.000    0.000    0.000    0.000 loose.py:77(__init__)\n",
      "        2    0.000    0.000    0.000    0.000 posixpath.py:400(_joinrealpath)\n",
      "       34    0.000    0.000    0.000    0.000 subprocess.py:2061(send_signal)\n",
      "     2122    0.000    0.000    0.000    0.000 {method '__exit__' of '_thread.RLock' objects}\n",
      "        8    0.000    0.000    0.000    0.000 {built-in method posix.lstat}\n",
      "       73    0.000    0.000    0.000    0.000 re.py:197(search)\n",
      "     2114    0.000    0.000    0.000    0.000 {method 'discard' of 'set' objects}\n",
      "       34    0.000    0.000    0.000    0.000 {method 'close' of '_io.BufferedWriter' objects}\n",
      "      367    0.000    0.000    0.000    0.000 posixpath.py:60(isabs)\n",
      "     3285    0.000    0.000    0.000    0.000 {built-in method _warnings._filters_mutated}\n",
      "       73    0.000    0.000    0.000    0.000 _collections_abc.py:820(__contains__)\n",
      "     1095    0.000    0.000    0.000    0.000 cmd.py:1149(<dictcomp>)\n",
      "       73    0.000    0.000    0.000    0.000 re.py:288(_compile)\n",
      "        3    0.000    0.000    0.000    0.000 config.py:615(_write)\n",
      "       72    0.000    0.000    0.000    0.000 base.py:197(abspath)\n",
      "       34    0.000    0.000    0.000    0.000 {built-in method posix.kill}\n",
      "       45    0.000    0.000    0.000    0.000 config.py:618(write_section)\n",
      "        1    0.000    0.000    0.000    0.000 config.py:791(set_value)\n",
      "     1900    0.000    0.000    0.000    0.000 parse.py:419(_checknetloc)\n",
      "        1    0.000    0.000    0.000    0.000 _base.py:636(__exit__)\n",
      "     1106    0.000    0.000    0.000    0.000 commit.py:503(__init__)\n",
      "       65    0.000    0.000    0.000    0.000 mman.py:408(collect)\n",
      "     1133    0.000    0.000    0.000    0.000 {method 'update' of 'dict' objects}\n",
      "       73    0.000    0.000    0.000    0.000 base.py:113(__init__)\n",
      "      217    0.000    0.000    0.000    0.000 cmd.py:368(is_cygwin)\n",
      "        1    0.000    0.000    0.000    0.000 thread.py:216(shutdown)\n",
      "      219    0.000    0.000    0.000    0.000 posixpath.py:228(expanduser)\n",
      "     1091    0.000    0.000    0.000    0.000 {built-in method posix.WIFSTOPPED}\n",
      "     1091    0.000    0.000    0.000    0.000 {built-in method posix.waitstatus_to_exitcode}\n",
      "       72    0.000    0.000    0.000    0.000 base.py:266(__ne__)\n",
      "     1056    0.000    0.000    0.000    0.000 util.py:257(_set_cache_)\n",
      "     1095    0.000    0.000    0.000    0.000 {built-in method sys.audit}\n",
      "     1056    0.000    0.000    0.000    0.000 diff.py:86(_process_diff_args)\n",
      "     2119    0.000    0.000    0.000    0.000 {method 'locked' of '_thread.lock' objects}\n",
      "        5    0.000    0.000    0.000    0.000 _base.py:201(as_completed)\n",
      "      219    0.000    0.000    0.000    0.000 posixpath.py:284(expandvars)\n",
      "       65    0.000    0.000    0.000    0.000 mman.py:303(_collect_lru_region)\n",
      "     1095    0.000    0.000    0.000    0.000 {method 'pop' of 'dict' objects}\n",
      "       42    0.000    0.000    0.000    0.000 cmd.py:1042(transform_kwarg)\n",
      "       73    0.000    0.000    0.000    0.000 configparser.py:1163(_convert_to_boolean)\n",
      "        2    0.000    0.000    0.000    0.000 pathlib.py:1090(stat)\n",
      "        1    0.000    0.000    0.000    0.000 git.py:92(_discover_main_branch)\n",
      "      660    0.000    0.000    0.000    0.000 ChangeCounter.ipynb:155(update_elems)\n",
      "        1    0.000    0.000    0.000    0.000 base.py:792(active_branch)\n",
      "        2    0.000    0.000    0.000    0.000 weakref.py:370(remove)\n",
      "       45    0.000    0.000    0.000    0.000 config.py:216(items_all)\n",
      "        1    0.000    0.000    0.000    0.000 symbolic.py:288(_get_reference)\n",
      "       45    0.000    0.000    0.000    0.000 config.py:218(<listcomp>)\n",
      "      655    0.000    0.000    0.000    0.000 {built-in method _stat.S_ISDIR}\n",
      "        4    0.000    0.000    0.000    0.000 threading.py:421(acquire)\n",
      "       88    0.000    0.000    0.000    0.000 config.py:786(_value_to_string)\n",
      "        2    0.000    0.000    0.000    0.000 util.py:883(_release_lock)\n",
      "        1    0.000    0.000    0.000    0.000 thread.py:123(__init__)\n",
      "        1    0.000    0.000    0.000    0.000 util.py:139(rmfile)\n",
      "        6    0.000    0.000    0.000    0.000 _base.py:179(_yield_finished_futures)\n",
      "      217    0.000    0.000    0.000    0.000 util.py:347(is_cygwin_git)\n",
      "      132    0.000    0.000    0.000    0.000 config.py:209(getall)\n",
      "       72    0.000    0.000    0.000    0.000 base.py:261(__eq__)\n",
      "        1    0.000    0.000    0.000    0.000 {built-in method posix.remove}\n",
      "       73    0.000    0.000    0.000    0.000 base.py:70(__init__)\n",
      "        4    0.000    0.000    0.000    0.000 _base.py:418(result)\n",
      "        1    0.000    0.000    0.000    0.000 repository.py:256(_split_in_chunks)\n",
      "        3    0.000    0.000    0.000    0.000 config.py:212(items)\n",
      "        1    0.000    0.000    0.000    0.000 repository.py:44(__init__)\n",
      "        3    0.000    0.000    0.000    0.000 config.py:214(<listcomp>)\n",
      "        1    0.000    0.000    0.000    0.000 symbolic.py:685(from_path)\n",
      "        4    0.000    0.000    0.000    0.000 _base.py:318(__init__)\n",
      "       88    0.000    0.000    0.000    0.000 encoding.py:11(force_text)\n",
      "        1    0.000    0.000    0.000    0.000 threading.py:415(__init__)\n",
      "      147    0.000    0.000    0.000    0.000 {built-in method _stat.S_ISREG}\n",
      "        1    0.000    0.000    0.000    0.000 conf.py:77(sanity_check_filters)\n",
      "        2    0.000    0.000    0.000    0.000 threading.py:793(_maintain_shutdown_locks)\n",
      "       57    0.000    0.000    0.000    0.000 {method 'find' of 'bytes' objects}\n",
      "        4    0.000    0.000    0.000    0.000 pathlib.py:629(__fspath__)\n",
      "        5    0.000    0.000    0.000    0.000 {method 'put' of '_queue.SimpleQueue' objects}\n",
      "        1    0.000    0.000    0.000    0.000 _base.py:157(_create_and_install_waiters)\n",
      "        1    0.000    0.000    0.000    0.000 conf.py:24(__init__)\n",
      "       65    0.000    0.000    0.000    0.000 {method 'values' of 'dict' objects}\n",
      "        1    0.000    0.000    0.000    0.000 _base.py:79(__init__)\n",
      "        4    0.000    0.000    0.000    0.000 _base.py:388(__get_result)\n",
      "       57    0.000    0.000    0.000    0.000 {method 'rstrip' of 'bytes' objects}\n",
      "        1    0.000    0.000    0.000    0.000 conf.py:191(build_args)\n",
      "        1    0.000    0.000    0.000    0.000 {built-in method math.ceil}\n",
      "        1    0.000    0.000    0.000    0.000 _base.py:146(__init__)\n",
      "        2    0.000    0.000    0.000    0.000 repository.py:148(_is_remote)\n",
      "        1    0.000    0.000    0.000    0.000 conf.py:287(_check_timezones)\n",
      "        1    0.000    0.000    0.000    0.000 git.py:322(__del__)\n",
      "        1    0.000    0.000    0.000    0.000 _base.py:63(__init__)\n",
      "        7    0.000    0.000    0.000    0.000 conf.py:36(set_value)\n",
      "       73    0.000    0.000    0.000    0.000 {built-in method builtins.issubclass}\n",
      "        2    0.000    0.000    0.000    0.000 threading.py:803(<listcomp>)\n",
      "        1    0.000    0.000    0.000    0.000 conf.py:293(_replace_timezone)\n",
      "        2    0.000    0.000    0.000    0.000 weakref.py:428(__setitem__)\n",
      "        1    0.000    0.000    0.000    0.000 conf.py:65(_check_only_one_from_commit)\n",
      "        1    0.000    0.000    0.000    0.000 _base.py:153(__exit__)\n",
      "        1    0.000    0.000    0.000    0.000 reference.py:46(__init__)\n",
      "        1    0.000    0.000    0.000    0.000 configparser.py:892(set)\n",
      "        4    0.000    0.000    0.000    0.000 thread.py:47(__init__)\n",
      "        1    0.000    0.000    0.000    0.000 contextlib.py:279(helper)\n",
      "        1    0.000    0.000    0.000    0.000 _base.py:149(__enter__)\n",
      "        1    0.000    0.000    0.000    0.000 util.py:844(__del__)\n",
      "        1    0.000    0.000    0.000    0.000 {method 'replace' of 'datetime.datetime' objects}\n",
      "        1    0.000    0.000    0.000    0.000 contextlib.py:102(__init__)\n",
      "        8    0.000    0.000    0.000    0.000 {method 'partition' of 'str' objects}\n",
      "        2    0.000    0.000    0.000    0.000 conf.py:181(only_one_filter)\n",
      "        1    0.000    0.000    0.000    0.000 conf.py:71(_check_only_one_to_commit)\n",
      "        4    0.000    0.000    0.000    0.000 threading.py:90(RLock)\n",
      "        8    0.000    0.000    0.000    0.000 util.py:851(_has_lock)\n",
      "        1    0.000    0.000    0.000    0.000 reference.py:100(name)\n",
      "        3    0.000    0.000    0.000    0.000 config.py:699(_assure_writable)\n",
      "        8    0.000    0.000    0.000    0.000 {method '__enter__' of '_thread.RLock' objects}\n",
      "        1    0.000    0.000    0.000    0.000 threading.py:572(clear)\n",
      "        2    0.000    0.000    0.000    0.000 {method 'difference_update' of 'set' objects}\n",
      "        3    0.000    0.000    0.000    0.000 git.py:63(repo)\n",
      "        8    0.000    0.000    0.000    0.000 {built-in method _stat.S_ISLNK}\n",
      "        4    0.000    0.000    0.000    0.000 _base.py:225(<genexpr>)\n",
      "        2    0.000    0.000    0.000    0.000 util.py:847(_lock_file_path)\n",
      "        5    0.000    0.000    0.000    0.000 {method 'remove' of 'set' objects}\n",
      "        1    0.000    0.000    0.000    0.000 conf.py:54(_sanity_check_repos)\n",
      "        1    0.000    0.000    0.000    0.000 conf.py:142(get_starting_commit)\n",
      "        1    0.000    0.000    0.000    0.000 conf.py:114(_check_correct_filters_order)\n",
      "        4    0.000    0.000    0.000    0.000 {method 'lstrip' of 'str' objects}\n",
      "        1    0.000    0.000    0.000    0.000 pathlib.py:708(name)\n",
      "        2    0.000    0.000    0.000    0.000 pathlib.py:1430(expanduser)\n",
      "        1    0.000    0.000    0.000    0.000 conf.py:165(get_ending_commit)\n",
      "        4    0.000    0.000    0.000    0.000 {built-in method time.monotonic}\n",
      "        1    0.000    0.000    0.000    0.000 util.py:840(__init__)\n",
      "        2    0.000    0.000    0.000    0.000 conf.py:189(<listcomp>)\n",
      "        2    0.000    0.000    0.000    0.000 {method 'remove' of 'collections.deque' objects}\n",
      "        4    0.000    0.000    0.000    0.000 {method 'acquire' of '_thread.RLock' objects}\n",
      "        1    0.000    0.000    0.000    0.000 configparser.py:663(has_section)\n",
      "        1    0.000    0.000    0.000    0.000 __init__.py:230(utcoffset)\n",
      "        4    0.000    0.000    0.000    0.000 {method 'release' of '_thread.RLock' objects}\n",
      "        1    0.000    0.000    0.000    0.000 configparser.py:366(before_set)\n",
      "        1    0.000    0.000    0.000    0.000 _base.py:633(__enter__)\n",
      "        1    0.000    0.000    0.000    0.000 {method 'disable' of '_lsprof.Profiler' objects}\n",
      "\n",
      "\n"
     ]
    }
   ],
   "source": [
    "cProfile.run('debuggingbook_change_counter(ChangeCounter)', sort='cumulative')"
   ]
  },
  {
   "attachments": {},
   "cell_type": "markdown",
   "metadata": {
    "slideshow": {
     "slide_type": "subslide"
    }
   },
   "source": [
    "Yes, that's an awful lot of functions, but we can quickly narrow things down. The `cumtime` column is sorted by largest values first. We see that the `debuggingbook_change_counter()` method at the top takes up all the time – but this is not surprising, since it is the method we called in the first place. This calls a method `mine()` in the `ChangeCounter` class, which does all the work."
   ]
  },
  {
   "cell_type": "markdown",
   "metadata": {
    "slideshow": {
     "slide_type": "fragment"
    }
   },
   "source": [
    "The next places are more interesting: almost all time is spent in a single method, named `modifications()`. This method determines the difference between two versions, which is an expensive operation; this is also supported by the observation that half of the time is spent in a `diff()` method."
   ]
  },
  {
   "cell_type": "markdown",
   "metadata": {
    "slideshow": {
     "slide_type": "subslide"
    }
   },
   "source": [
    "This profile thus already gets us a hint on how to improve performance: Rather than computing the diff between versions for _every_ version, we could do so _on demand_ (and possibly cache results so we don't have to compute them twice). Alas, this (slow) functionality is part of the \n",
    "underlying [PyDriller](https://pydriller.readthedocs.io/) Python package, so we cannot fix this within the `ChangeCounter` class. But we could file a bug with the developers, suggesting a patch to improve performance."
   ]
  },
  {
   "cell_type": "markdown",
   "metadata": {
    "slideshow": {
     "slide_type": "subslide"
    }
   },
   "source": [
    "### Sampling Execution Profiles\n",
    "\n",
    "Instrumenting code is _precise_, but it is also _slow_. An alternate way to measure performance is to _sample_ in regular intervals which functions are currently active – for instance, by examining the current function call stack. The more frequently a function is sampled as active, the more time is spent in that function."
   ]
  },
  {
   "cell_type": "markdown",
   "metadata": {
    "slideshow": {
     "slide_type": "subslide"
    }
   },
   "source": [
    "One profiler for Python that implements such sampling is [Scalene](https://github.com/plasma-umass/scalene) – a high-performance, high-precision CPU, GPU, and memory profiler for Python. We can invoke it on our example as follows:\n",
    "\n",
    "```sh\n",
    "$ scalene --html test.py > scalene-out.html\n",
    "```"
   ]
  },
  {
   "cell_type": "markdown",
   "metadata": {
    "slideshow": {
     "slide_type": "fragment"
    }
   },
   "source": [
    "where `test.py` is a script that again invokes\n",
    "\n",
    "```python\n",
    "debuggingbook_change_counter(ChangeCounter)\n",
    "```"
   ]
  },
  {
   "attachments": {},
   "cell_type": "markdown",
   "metadata": {
    "slideshow": {
     "slide_type": "subslide"
    }
   },
   "source": [
    "The output of `scalene` is sent to a HTML file (here, `scalene-out.html`) which is organized by _lines_ – that is, for each line, we see how much it contributed to overall execution time. Opening the output `scalene-out.html` in a HTML browser, we see these lines:"
   ]
  },
  {
   "cell_type": "markdown",
   "metadata": {
    "slideshow": {
     "slide_type": "fragment"
    }
   },
   "source": [
    "![](PICS/scalene-out.png)"
   ]
  },
  {
   "cell_type": "markdown",
   "metadata": {
    "slideshow": {
     "slide_type": "fragment"
    }
   },
   "source": [
    "As with `cProfile`, above, we identify the `mine()` method in the `ChangeCounter` class as the main performance hog – and in the `mine()` method, it is the iteration over all modifications that takes all the time. Adding the option `--profile-all` to `scalene` would extend the profile to all executed code, including the `pydriller` third-party library."
   ]
  },
  {
   "cell_type": "markdown",
   "metadata": {
    "slideshow": {
     "slide_type": "fragment"
    }
   },
   "source": [
    "Besides relying on sampling rather that tracing (which is more efficient) and breaking down execution time by line, `scalene` also provides additional information on memory usage and more. If `cProfile` is not sufficient, then `scalene` will bring profiling to the next level."
   ]
  },
  {
   "cell_type": "markdown",
   "metadata": {
    "slideshow": {
     "slide_type": "slide"
    }
   },
   "source": [
    "## Improving Performance"
   ]
  },
  {
   "cell_type": "markdown",
   "metadata": {
    "slideshow": {
     "slide_type": "fragment"
    }
   },
   "source": [
    "Identifying a culprit is not always that easy. Notably, when the first set of obvious performance hogs is fixed, it becomes more and more difficult to squeeze out additional performance – and, as stated above, such optimization may be in conflict with readability and maintainability of your code. Here are some simple ways to improve performance:"
   ]
  },
  {
   "cell_type": "markdown",
   "metadata": {
    "slideshow": {
     "slide_type": "subslide"
    }
   },
   "source": [
    "* **Efficient algorithms**. For many tasks, the simplest algorithm is not always the best performing one. Consider alternatives that may be more efficient, and _measure_ whether they pay off.\n",
    "\n",
    "* **Efficient data types**. Remember that certain operations, such as looking up whether an element is contained, may take different amounts of time depending on the data structure. In Python, a query like `x in xs` takes (mostly) constant time if `xs` is a set, but linear time if `xs` is a list; these differences become significant as the size of `xs` grows.\n",
    "\n",
    "* **Efficient modules**. In Python, most frequently used modules (or at least parts of) are implemented in C, which is way more efficient than plain Python. Rely on existing modules whenever possible. Or implement your own, _after_ having measured that this may pay off."
   ]
  },
  {
   "cell_type": "markdown",
   "metadata": {
    "slideshow": {
     "slide_type": "subslide"
    }
   },
   "source": [
    "These are all things you can already use during programming – and also set up your code such that exchanging, say, one data type by another will still be possible later. This is best achieved by hiding implementation details (such as the used data types) behind an abstract interface used by your clients."
   ]
  },
  {
   "cell_type": "markdown",
   "metadata": {
    "slideshow": {
     "slide_type": "fragment"
    }
   },
   "source": [
    "But beyond these points, remember the famous words by [Donald J. Knuth](https://en.wikipedia.org/wiki/Donald_Knuth):"
   ]
  },
  {
   "cell_type": "code",
   "execution_count": 10,
   "metadata": {
    "execution": {
     "iopub.execute_input": "2023-01-07T16:07:55.342091Z",
     "iopub.status.busy": "2023-01-07T16:07:55.341687Z",
     "iopub.status.idle": "2023-01-07T16:07:55.343551Z",
     "shell.execute_reply": "2023-01-07T16:07:55.343990Z"
    },
    "slideshow": {
     "slide_type": "skip"
    }
   },
   "outputs": [],
   "source": [
    "from bookutils import quiz"
   ]
  },
  {
   "cell_type": "code",
   "execution_count": 11,
   "metadata": {
    "execution": {
     "iopub.execute_input": "2023-01-07T16:07:55.349182Z",
     "iopub.status.busy": "2023-01-07T16:07:55.348821Z",
     "iopub.status.idle": "2023-01-07T16:07:55.350457Z",
     "shell.execute_reply": "2023-01-07T16:07:55.350704Z"
    },
    "slideshow": {
     "slide_type": "fragment"
    }
   },
   "outputs": [
    {
     "data": {
      "text/html": [
       "\n",
       "    \n",
       "    <script>\n",
       "    var bad_answers = new Map();\n",
       "\n",
       "    function answer(quiz_id) {\n",
       "        ans = 0;\n",
       "        for (i = 1;; i++) {\n",
       "            checkbox = document.getElementById(quiz_id + \"-\" + i.toString());\n",
       "            if (!checkbox)\n",
       "                break;\n",
       "            if (checkbox.checked)\n",
       "                ans |= (1 << i);\n",
       "        }\n",
       "        return ans;\n",
       "    }\n",
       "    function check_selection(quiz_id, correct_answer, multiple_choice, hint) {\n",
       "        given_answer = answer(quiz_id);\n",
       "        if (given_answer == correct_answer)\n",
       "        {\n",
       "            document.getElementById(quiz_id + \"-submit\").value = \"Correct!\";\n",
       "            document.getElementById(quiz_id + \"-hint\").innerHTML = \"\";\n",
       "\n",
       "            for (i = 1;; i++) {\n",
       "                checkbox = document.getElementById(quiz_id + \"-\" + i.toString());\n",
       "                label = document.getElementById(quiz_id + \"-\" + i.toString() + \"-label\")\n",
       "                if (!checkbox)\n",
       "                    break;\n",
       "    \n",
       "                if (checkbox.checked) {\n",
       "                    label.style.fontWeight = \"bold\";\n",
       "                }\n",
       "                else {\n",
       "                    label.style.textDecoration = \"line-through\";\n",
       "                }\n",
       "            }\n",
       "        }\n",
       "        else \n",
       "        {\n",
       "            document.getElementById(quiz_id + \"-submit\").value = \"Try again\";\n",
       "            \n",
       "            if (!bad_answers.has(quiz_id)) {\n",
       "                bad_answers.set(quiz_id, 1);\n",
       "            }\n",
       "            else {\n",
       "                bad_answers.set(quiz_id, bad_answers.get(quiz_id) + 1);\n",
       "            }\n",
       "\n",
       "            if (bad_answers.get(quiz_id) >= 2 && hint.length > 0) {\n",
       "                document.getElementById(quiz_id + \"-hint\").innerHTML = \n",
       "                    \"&nbsp;&nbsp;(Hint: <code>\" + hint + \"</code>)\";\n",
       "            }\n",
       "\n",
       "            if (!multiple_choice) {\n",
       "                for (i = 1;; i++) {\n",
       "                    checkbox = document.getElementById(quiz_id + \"-\" + i.toString());\n",
       "                    label = document.getElementById(quiz_id + \"-\" + i.toString() + \"-label\")\n",
       "\n",
       "                    if (!checkbox)\n",
       "                        break;\n",
       "                    if (checkbox.checked) {\n",
       "                        label.style.textDecoration = \"line-through\";\n",
       "                    }\n",
       "                }\n",
       "            }\n",
       "        }\n",
       "    }\n",
       "    function clear_selection(quiz_id) {\n",
       "        document.getElementById(quiz_id + \"-submit\").value = \"Submit\";\n",
       "        document.getElementById(quiz_id + \"-hint\").innerHTML = \"\";\n",
       "    }\n",
       "    </script>\n",
       "    \n",
       "    <div class=\"quiz\">\n",
       "    <h3 class=\"quiz_title\">Quiz</h3>\n",
       "    <p>\n",
       "    <div class=\"quiz_question\">Donald J. Knuth said: \"Premature optimization...\"</div>\n",
       "    </p>\n",
       "    <p>\n",
       "    <div class=\"quiz_options\" title=\"Pick a choice.\">\n",
       "    \n",
       "        <input type=\"radio\" name=\"721ab4d2-8ea5-11ed-b08d-6298cf1a5790\" id=\"721ab4d2-8ea5-11ed-b08d-6298cf1a5790-1\" onclick=\"clear_selection('721ab4d2-8ea5-11ed-b08d-6298cf1a5790')\">\n",
       "        <label id=\"721ab4d2-8ea5-11ed-b08d-6298cf1a5790-1-label\" for=\"721ab4d2-8ea5-11ed-b08d-6298cf1a5790-1\">... is the root of all evil</label><br>\n",
       "    \n",
       "        <input type=\"radio\" name=\"721ab4d2-8ea5-11ed-b08d-6298cf1a5790\" id=\"721ab4d2-8ea5-11ed-b08d-6298cf1a5790-2\" onclick=\"clear_selection('721ab4d2-8ea5-11ed-b08d-6298cf1a5790')\">\n",
       "        <label id=\"721ab4d2-8ea5-11ed-b08d-6298cf1a5790-2-label\" for=\"721ab4d2-8ea5-11ed-b08d-6298cf1a5790-2\">... requires lots of experience</label><br>\n",
       "    \n",
       "        <input type=\"radio\" name=\"721ab4d2-8ea5-11ed-b08d-6298cf1a5790\" id=\"721ab4d2-8ea5-11ed-b08d-6298cf1a5790-3\" onclick=\"clear_selection('721ab4d2-8ea5-11ed-b08d-6298cf1a5790')\">\n",
       "        <label id=\"721ab4d2-8ea5-11ed-b08d-6298cf1a5790-3-label\" for=\"721ab4d2-8ea5-11ed-b08d-6298cf1a5790-3\">... should be left to assembly programmers</label><br>\n",
       "    \n",
       "        <input type=\"radio\" name=\"721ab4d2-8ea5-11ed-b08d-6298cf1a5790\" id=\"721ab4d2-8ea5-11ed-b08d-6298cf1a5790-4\" onclick=\"clear_selection('721ab4d2-8ea5-11ed-b08d-6298cf1a5790')\">\n",
       "        <label id=\"721ab4d2-8ea5-11ed-b08d-6298cf1a5790-4-label\" for=\"721ab4d2-8ea5-11ed-b08d-6298cf1a5790-4\">... is the reason why TeX is so fast</label><br>\n",
       "    \n",
       "    </div>\n",
       "    </p>\n",
       "    <input id=\"721ab4d2-8ea5-11ed-b08d-6298cf1a5790-submit\" type=\"submit\" value=\"Submit\" onclick=\"check_selection('721ab4d2-8ea5-11ed-b08d-6298cf1a5790', 2, 0, 'len(&quot;METAFONT&quot;) - len(&quot;TeX&quot;) - len(&quot;CWEB&quot;)')\">\n",
       "    <span class=\"quiz_hint\" id=\"721ab4d2-8ea5-11ed-b08d-6298cf1a5790-hint\"></span>\n",
       "    </div>\n",
       "    "
      ],
      "text/plain": [
       "<IPython.core.display.HTML object>"
      ]
     },
     "execution_count": 11,
     "metadata": {},
     "output_type": "execute_result"
    }
   ],
   "source": [
    "quiz('Donald J. Knuth said: \"Premature optimization...\"',\n",
    "    [\n",
    "        \"... is the root of all evil\",\n",
    "        \"... requires lots of experience\",\n",
    "        \"... should be left to assembly programmers\",\n",
    "        \"... is the reason why TeX is so fast\",\n",
    "    ], 'len(\"METAFONT\") - len(\"TeX\") - len(\"CWEB\")')"
   ]
  },
  {
   "cell_type": "markdown",
   "metadata": {
    "slideshow": {
     "slide_type": "subslide"
    }
   },
   "source": [
    "This quote should always remind us that after a good design, you should always _first_ measure and _then_ optimize."
   ]
  },
  {
   "cell_type": "markdown",
   "metadata": {
    "slideshow": {
     "slide_type": "slide"
    }
   },
   "source": [
    "## Building a Profiler\n",
    "\n",
    "Having discussed profilers from a _user_ perspective, let us now dive into how they are actually implemented. It turns out we can use most of our existing infrastructure to implement a simple tracing profiler with only a few lines of code."
   ]
  },
  {
   "cell_type": "markdown",
   "metadata": {
    "slideshow": {
     "slide_type": "fragment"
    }
   },
   "source": [
    "The program we will apply our profiler on is – surprise! – our ongoing example, `remove_html_markup()`. Our aim is to understand how much time is spent _in each line of the code_ (such that we have a new feature on top of Python `cProfile`)."
   ]
  },
  {
   "cell_type": "code",
   "execution_count": 12,
   "metadata": {
    "execution": {
     "iopub.execute_input": "2023-01-07T16:07:55.353027Z",
     "iopub.status.busy": "2023-01-07T16:07:55.352347Z",
     "iopub.status.idle": "2023-01-07T16:07:55.354402Z",
     "shell.execute_reply": "2023-01-07T16:07:55.354813Z"
    },
    "slideshow": {
     "slide_type": "skip"
    }
   },
   "outputs": [],
   "source": [
    "from Intro_Debugging import remove_html_markup"
   ]
  },
  {
   "cell_type": "code",
   "execution_count": 13,
   "metadata": {
    "execution": {
     "iopub.execute_input": "2023-01-07T16:07:55.356957Z",
     "iopub.status.busy": "2023-01-07T16:07:55.356660Z",
     "iopub.status.idle": "2023-01-07T16:07:55.357913Z",
     "shell.execute_reply": "2023-01-07T16:07:55.358272Z"
    },
    "slideshow": {
     "slide_type": "fragment"
    }
   },
   "outputs": [],
   "source": [
    "# ignore\n",
    "from typing import Any, Optional, Type, Dict, Tuple, List"
   ]
  },
  {
   "cell_type": "code",
   "execution_count": 14,
   "metadata": {
    "execution": {
     "iopub.execute_input": "2023-01-07T16:07:55.360096Z",
     "iopub.status.busy": "2023-01-07T16:07:55.359772Z",
     "iopub.status.idle": "2023-01-07T16:07:55.361126Z",
     "shell.execute_reply": "2023-01-07T16:07:55.361460Z"
    },
    "slideshow": {
     "slide_type": "fragment"
    }
   },
   "outputs": [],
   "source": [
    "# ignore\n",
    "from bookutils import print_content"
   ]
  },
  {
   "cell_type": "code",
   "execution_count": 15,
   "metadata": {
    "execution": {
     "iopub.execute_input": "2023-01-07T16:07:55.363279Z",
     "iopub.status.busy": "2023-01-07T16:07:55.362968Z",
     "iopub.status.idle": "2023-01-07T16:07:55.364474Z",
     "shell.execute_reply": "2023-01-07T16:07:55.364210Z"
    },
    "slideshow": {
     "slide_type": "subslide"
    }
   },
   "outputs": [],
   "source": [
    "# ignore\n",
    "import inspect"
   ]
  },
  {
   "cell_type": "code",
   "execution_count": 16,
   "metadata": {
    "execution": {
     "iopub.execute_input": "2023-01-07T16:07:55.366362Z",
     "iopub.status.busy": "2023-01-07T16:07:55.366067Z",
     "iopub.status.idle": "2023-01-07T16:07:55.489206Z",
     "shell.execute_reply": "2023-01-07T16:07:55.489423Z"
    },
    "slideshow": {
     "slide_type": "subslide"
    }
   },
   "outputs": [
    {
     "name": "stdout",
     "output_type": "stream",
     "text": [
      "238  \u001b[34mdef\u001b[39;49;00m \u001b[32mremove_html_markup\u001b[39;49;00m(s):  \u001b[37m# type: ignore\u001b[39;49;00m\u001b[37m\u001b[39;49;00m\n",
      "239      tag = \u001b[34mFalse\u001b[39;49;00m\u001b[37m\u001b[39;49;00m\n",
      "240      quote = \u001b[34mFalse\u001b[39;49;00m\u001b[37m\u001b[39;49;00m\n",
      "241      out = \u001b[33m\"\u001b[39;49;00m\u001b[33m\"\u001b[39;49;00m\u001b[37m\u001b[39;49;00m\n",
      "242  \u001b[37m\u001b[39;49;00m\n",
      "243      \u001b[34mfor\u001b[39;49;00m c \u001b[35min\u001b[39;49;00m s:\u001b[37m\u001b[39;49;00m\n",
      "244          \u001b[34massert\u001b[39;49;00m tag \u001b[35mor\u001b[39;49;00m \u001b[35mnot\u001b[39;49;00m quote\u001b[37m\u001b[39;49;00m\n",
      "245  \u001b[37m\u001b[39;49;00m\n",
      "246          \u001b[34mif\u001b[39;49;00m c == \u001b[33m'\u001b[39;49;00m\u001b[33m<\u001b[39;49;00m\u001b[33m'\u001b[39;49;00m \u001b[35mand\u001b[39;49;00m \u001b[35mnot\u001b[39;49;00m quote:\u001b[37m\u001b[39;49;00m\n",
      "247              tag = \u001b[34mTrue\u001b[39;49;00m\u001b[37m\u001b[39;49;00m\n",
      "248          \u001b[34melif\u001b[39;49;00m c == \u001b[33m'\u001b[39;49;00m\u001b[33m>\u001b[39;49;00m\u001b[33m'\u001b[39;49;00m \u001b[35mand\u001b[39;49;00m \u001b[35mnot\u001b[39;49;00m quote:\u001b[37m\u001b[39;49;00m\n",
      "249              tag = \u001b[34mFalse\u001b[39;49;00m\u001b[37m\u001b[39;49;00m\n",
      "250          \u001b[34melif\u001b[39;49;00m (c == \u001b[33m'\u001b[39;49;00m\u001b[33m\"\u001b[39;49;00m\u001b[33m'\u001b[39;49;00m \u001b[35mor\u001b[39;49;00m c == \u001b[33m\"\u001b[39;49;00m\u001b[33m'\u001b[39;49;00m\u001b[33m\"\u001b[39;49;00m) \u001b[35mand\u001b[39;49;00m tag:\u001b[37m\u001b[39;49;00m\n",
      "251              quote = \u001b[35mnot\u001b[39;49;00m quote\u001b[37m\u001b[39;49;00m\n",
      "252          \u001b[34melif\u001b[39;49;00m \u001b[35mnot\u001b[39;49;00m tag:\u001b[37m\u001b[39;49;00m\n",
      "253              out = out + c\u001b[37m\u001b[39;49;00m\n",
      "254  \u001b[37m\u001b[39;49;00m\n",
      "255      \u001b[34mreturn\u001b[39;49;00m out\u001b[37m\u001b[39;49;00m"
     ]
    }
   ],
   "source": [
    "print_content(inspect.getsource(remove_html_markup), '.py',\n",
    "              start_line_number=238)"
   ]
  },
  {
   "cell_type": "markdown",
   "metadata": {
    "slideshow": {
     "slide_type": "subslide"
    }
   },
   "source": [
    "We introduce a class `PerformanceTracer` that tracks, for each line in the code:\n",
    "\n",
    "* how _often_ it was executed (`hits`), and\n",
    "* _how much time_ was spent during its execution (`time`).\n",
    "\n",
    "To this end, we make use of our `Timer` class, which measures time, and the `Tracer` class from [the chapter on tracing](Tracer.ipynb), which allows us to track every line of the program as it is being executed."
   ]
  },
  {
   "cell_type": "code",
   "execution_count": 17,
   "metadata": {
    "execution": {
     "iopub.execute_input": "2023-01-07T16:07:55.491388Z",
     "iopub.status.busy": "2023-01-07T16:07:55.491093Z",
     "iopub.status.idle": "2023-01-07T16:07:55.492245Z",
     "shell.execute_reply": "2023-01-07T16:07:55.492492Z"
    },
    "slideshow": {
     "slide_type": "skip"
    }
   },
   "outputs": [],
   "source": [
    "from Tracer import Tracer"
   ]
  },
  {
   "attachments": {},
   "cell_type": "markdown",
   "metadata": {
    "slideshow": {
     "slide_type": "fragment"
    }
   },
   "source": [
    "In `PerformanceTracker`, the attributes `hits` and `time` are mappings indexed by unique locations – that is, pairs of function name and line number."
   ]
  },
  {
   "cell_type": "code",
   "execution_count": 18,
   "metadata": {
    "execution": {
     "iopub.execute_input": "2023-01-07T16:07:55.493943Z",
     "iopub.status.busy": "2023-01-07T16:07:55.493565Z",
     "iopub.status.idle": "2023-01-07T16:07:55.495207Z",
     "shell.execute_reply": "2023-01-07T16:07:55.495394Z"
    },
    "slideshow": {
     "slide_type": "fragment"
    }
   },
   "outputs": [],
   "source": [
    "Location = Tuple[str, int]"
   ]
  },
  {
   "cell_type": "code",
   "execution_count": 19,
   "metadata": {
    "execution": {
     "iopub.execute_input": "2023-01-07T16:07:55.497634Z",
     "iopub.status.busy": "2023-01-07T16:07:55.497344Z",
     "iopub.status.idle": "2023-01-07T16:07:55.498714Z",
     "shell.execute_reply": "2023-01-07T16:07:55.498907Z"
    },
    "slideshow": {
     "slide_type": "subslide"
    }
   },
   "outputs": [],
   "source": [
    "class PerformanceTracer(Tracer):\n",
    "    \"\"\"Trace time and #hits for individual program lines\"\"\"\n",
    "\n",
    "    def __init__(self) -> None:\n",
    "        \"\"\"Constructor.\"\"\"\n",
    "        super().__init__()\n",
    "        self.reset_timer()\n",
    "        self.hits: Dict[Location, int] = {}\n",
    "        self.time: Dict[Location, float] = {}\n",
    "\n",
    "    def reset_timer(self) -> None:\n",
    "        self.timer = Timer.Timer()"
   ]
  },
  {
   "cell_type": "markdown",
   "metadata": {
    "slideshow": {
     "slide_type": "subslide"
    }
   },
   "source": [
    "As common in this book, we want to use `PerformanceTracer` in a `with`-block around the function call(s) to be tracked:\n",
    "\n",
    "```python\n",
    "with PerformanceTracer() as perf_tracer:\n",
    "    function(...)\n",
    "```"
   ]
  },
  {
   "cell_type": "markdown",
   "metadata": {
    "slideshow": {
     "slide_type": "fragment"
    }
   },
   "source": [
    "When entering the `with` block (`__enter__()`), we reset all timers. Also, coming from the `__enter__()` method of the superclass `Tracer`, we enable tracing through the `traceit()` method."
   ]
  },
  {
   "cell_type": "code",
   "execution_count": 20,
   "metadata": {
    "execution": {
     "iopub.execute_input": "2023-01-07T16:07:55.500590Z",
     "iopub.status.busy": "2023-01-07T16:07:55.500303Z",
     "iopub.status.idle": "2023-01-07T16:07:55.501742Z",
     "shell.execute_reply": "2023-01-07T16:07:55.501939Z"
    },
    "slideshow": {
     "slide_type": "skip"
    }
   },
   "outputs": [],
   "source": [
    "from types import FrameType"
   ]
  },
  {
   "cell_type": "code",
   "execution_count": 21,
   "metadata": {
    "execution": {
     "iopub.execute_input": "2023-01-07T16:07:55.503886Z",
     "iopub.status.busy": "2023-01-07T16:07:55.503554Z",
     "iopub.status.idle": "2023-01-07T16:07:55.504986Z",
     "shell.execute_reply": "2023-01-07T16:07:55.505150Z"
    },
    "slideshow": {
     "slide_type": "subslide"
    }
   },
   "outputs": [],
   "source": [
    "class PerformanceTracer(PerformanceTracer):\n",
    "    def __enter__(self) -> Any:\n",
    "        \"\"\"Enter a `with` block.\"\"\"\n",
    "        super().__enter__()\n",
    "        self.reset_timer()\n",
    "        return self"
   ]
  },
  {
   "cell_type": "markdown",
   "metadata": {
    "slideshow": {
     "slide_type": "fragment"
    }
   },
   "source": [
    "The `traceit()` method extracts the current location. It increases the corresponding `hits` value by 1, and adds the elapsed time to the corresponding `time`."
   ]
  },
  {
   "cell_type": "code",
   "execution_count": 22,
   "metadata": {
    "execution": {
     "iopub.execute_input": "2023-01-07T16:07:55.507574Z",
     "iopub.status.busy": "2023-01-07T16:07:55.507270Z",
     "iopub.status.idle": "2023-01-07T16:07:55.508476Z",
     "shell.execute_reply": "2023-01-07T16:07:55.508713Z"
    },
    "slideshow": {
     "slide_type": "subslide"
    }
   },
   "outputs": [],
   "source": [
    "class PerformanceTracer(PerformanceTracer):\n",
    "    def traceit(self, frame: FrameType, event: str, arg: Any) -> None:\n",
    "        \"\"\"Tracing function; called for every line.\"\"\"\n",
    "        t = self.timer.elapsed_time()\n",
    "        location = (frame.f_code.co_name, frame.f_lineno)\n",
    "\n",
    "        self.hits.setdefault(location, 0)\n",
    "        self.time.setdefault(location, 0.0)\n",
    "        self.hits[location] += 1\n",
    "        self.time[location] += t\n",
    "\n",
    "        self.reset_timer()"
   ]
  },
  {
   "cell_type": "markdown",
   "metadata": {
    "slideshow": {
     "slide_type": "fragment"
    }
   },
   "source": [
    "This is it already. We can now determine where most time is spent in `remove_html_markup()`. We invoke it 10,000 times such that we can average over runs:"
   ]
  },
  {
   "cell_type": "code",
   "execution_count": 23,
   "metadata": {
    "execution": {
     "iopub.execute_input": "2023-01-07T16:07:55.597914Z",
     "iopub.status.busy": "2023-01-07T16:07:55.554065Z",
     "iopub.status.idle": "2023-01-07T16:07:56.397545Z",
     "shell.execute_reply": "2023-01-07T16:07:56.397761Z"
    },
    "slideshow": {
     "slide_type": "subslide"
    }
   },
   "outputs": [],
   "source": [
    "with PerformanceTracer() as perf_tracer:\n",
    "    for i in range(10000):\n",
    "        s = remove_html_markup('<b>foo</b>')"
   ]
  },
  {
   "cell_type": "markdown",
   "metadata": {
    "slideshow": {
     "slide_type": "fragment"
    }
   },
   "source": [
    "Here are the hits. For every line executed, we see how often it was executed. The most executed line is the `for` loop with 110,000 hits – once for each of the 10 characters in `<b>foo</b>`, once for the final check, and all of this 10,000 times."
   ]
  },
  {
   "cell_type": "code",
   "execution_count": 24,
   "metadata": {
    "execution": {
     "iopub.execute_input": "2023-01-07T16:07:56.400379Z",
     "iopub.status.busy": "2023-01-07T16:07:56.400040Z",
     "iopub.status.idle": "2023-01-07T16:07:56.401621Z",
     "shell.execute_reply": "2023-01-07T16:07:56.401891Z"
    },
    "slideshow": {
     "slide_type": "subslide"
    }
   },
   "outputs": [
    {
     "data": {
      "text/plain": [
       "{('__init__', 17): 1,\n",
       " ('__init__', 19): 1,\n",
       " ('clock', 8): 1,\n",
       " ('clock', 12): 2,\n",
       " ('__init__', 20): 2,\n",
       " ('remove_html_markup', 238): 10000,\n",
       " ('remove_html_markup', 239): 10000,\n",
       " ('remove_html_markup', 240): 10000,\n",
       " ('remove_html_markup', 241): 10000,\n",
       " ('remove_html_markup', 243): 110000,\n",
       " ('remove_html_markup', 244): 100000,\n",
       " ('remove_html_markup', 246): 100000,\n",
       " ('remove_html_markup', 247): 20000,\n",
       " ('remove_html_markup', 248): 80000,\n",
       " ('remove_html_markup', 250): 60000,\n",
       " ('remove_html_markup', 252): 60000,\n",
       " ('remove_html_markup', 249): 20000,\n",
       " ('remove_html_markup', 253): 30000,\n",
       " ('remove_html_markup', 255): 20000}"
      ]
     },
     "execution_count": 24,
     "metadata": {},
     "output_type": "execute_result"
    }
   ],
   "source": [
    "perf_tracer.hits"
   ]
  },
  {
   "cell_type": "markdown",
   "metadata": {
    "slideshow": {
     "slide_type": "subslide"
    }
   },
   "source": [
    "The `time` attribute collects how much time was spent in each line. Within the loop, again, the `for` statement takes the most time. The other lines show some variability, though."
   ]
  },
  {
   "cell_type": "code",
   "execution_count": 25,
   "metadata": {
    "execution": {
     "iopub.execute_input": "2023-01-07T16:07:56.404260Z",
     "iopub.status.busy": "2023-01-07T16:07:56.403932Z",
     "iopub.status.idle": "2023-01-07T16:07:56.405413Z",
     "shell.execute_reply": "2023-01-07T16:07:56.405650Z"
    },
    "slideshow": {
     "slide_type": "subslide"
    }
   },
   "outputs": [
    {
     "data": {
      "text/plain": [
       "{('__init__', 17): 2.0917010260745883e-05,\n",
       " ('__init__', 19): 1.291991793550551e-06,\n",
       " ('clock', 8): 9.169889381155372e-07,\n",
       " ('clock', 12): 1.6250123735517263e-06,\n",
       " ('__init__', 20): 1.7909915186464787e-06,\n",
       " ('remove_html_markup', 238): 0.010974757198709995,\n",
       " ('remove_html_markup', 239): 0.0104381723649567,\n",
       " ('remove_html_markup', 240): 0.010145924039534293,\n",
       " ('remove_html_markup', 241): 0.009527314367005602,\n",
       " ('remove_html_markup', 243): 0.09189522328961175,\n",
       " ('remove_html_markup', 244): 0.08114168611064088,\n",
       " ('remove_html_markup', 246): 0.07994154829066247,\n",
       " ('remove_html_markup', 247): 0.01637925633986015,\n",
       " ('remove_html_markup', 248): 0.06578675005584955,\n",
       " ('remove_html_markup', 250): 0.04780461259360891,\n",
       " ('remove_html_markup', 252): 0.05005790169525426,\n",
       " ('remove_html_markup', 249): 0.016681806766428053,\n",
       " ('remove_html_markup', 253): 0.023880703665781766,\n",
       " ('remove_html_markup', 255): 0.01605097684659995}"
      ]
     },
     "execution_count": 25,
     "metadata": {},
     "output_type": "execute_result"
    }
   ],
   "source": [
    "perf_tracer.time"
   ]
  },
  {
   "cell_type": "markdown",
   "metadata": {
    "slideshow": {
     "slide_type": "subslide"
    }
   },
   "source": [
    "For a full profiler, these numbers would now be sorted and printed in a table, much like `cProfile` does. However, we will borrow some material from previous chapters and annotate our code accordingly."
   ]
  },
  {
   "cell_type": "markdown",
   "metadata": {
    "slideshow": {
     "slide_type": "slide"
    }
   },
   "source": [
    "## Visualizing Performance Metrics\n",
    "\n",
    "In the [chapter on statistical debugging](StatisticalDebugger.ipynb), we have encountered the `CoverageCollector` class, which collects line and function coverage during execution, using a `collect()` method that is invoked for every line. We will repurpose this class to collect arbitrary _metrics_ on the lines executed, notably time taken."
   ]
  },
  {
   "cell_type": "markdown",
   "metadata": {
    "slideshow": {
     "slide_type": "subslide"
    }
   },
   "source": [
    "### Collecting Time Spent"
   ]
  },
  {
   "cell_type": "code",
   "execution_count": 26,
   "metadata": {
    "execution": {
     "iopub.execute_input": "2023-01-07T16:07:56.407589Z",
     "iopub.status.busy": "2023-01-07T16:07:56.407304Z",
     "iopub.status.idle": "2023-01-07T16:07:56.408490Z",
     "shell.execute_reply": "2023-01-07T16:07:56.408686Z"
    },
    "slideshow": {
     "slide_type": "skip"
    }
   },
   "outputs": [],
   "source": [
    "from StatisticalDebugger import CoverageCollector, SpectrumDebugger"
   ]
  },
  {
   "cell_type": "markdown",
   "metadata": {
    "slideshow": {
     "slide_type": "fragment"
    }
   },
   "source": [
    "The `MetricCollector` class is an abstract superclass that provides an interface to access a particular metric."
   ]
  },
  {
   "cell_type": "code",
   "execution_count": 27,
   "metadata": {
    "execution": {
     "iopub.execute_input": "2023-01-07T16:07:56.410305Z",
     "iopub.status.busy": "2023-01-07T16:07:56.410021Z",
     "iopub.status.idle": "2023-01-07T16:07:56.412028Z",
     "shell.execute_reply": "2023-01-07T16:07:56.412213Z"
    },
    "slideshow": {
     "slide_type": "fragment"
    }
   },
   "outputs": [],
   "source": [
    "class MetricCollector(CoverageCollector):\n",
    "    \"\"\"Abstract superclass for collecting line-specific metrics\"\"\"\n",
    "\n",
    "    def metric(self, event: Any) -> Optional[float]:\n",
    "        \"\"\"Return a metric for an event, or none.\"\"\"\n",
    "        return None\n",
    "\n",
    "    def all_metrics(self, func: str) -> List[float]:\n",
    "        \"\"\"Return all metric for a function `func`.\"\"\"\n",
    "        return []"
   ]
  },
  {
   "cell_type": "markdown",
   "metadata": {
    "slideshow": {
     "slide_type": "fragment"
    }
   },
   "source": [
    "Given these metrics, we can also compute sums and maxima for a single function."
   ]
  },
  {
   "cell_type": "code",
   "execution_count": 28,
   "metadata": {
    "execution": {
     "iopub.execute_input": "2023-01-07T16:07:56.414342Z",
     "iopub.status.busy": "2023-01-07T16:07:56.414041Z",
     "iopub.status.idle": "2023-01-07T16:07:56.415266Z",
     "shell.execute_reply": "2023-01-07T16:07:56.415457Z"
    },
    "slideshow": {
     "slide_type": "subslide"
    }
   },
   "outputs": [],
   "source": [
    "class MetricCollector(MetricCollector):\n",
    "    def total(self, func: str) -> float:\n",
    "        return sum(self.all_metrics(func))\n",
    "\n",
    "    def maximum(self, func: str) -> float:\n",
    "        return max(self.all_metrics(func))"
   ]
  },
  {
   "cell_type": "markdown",
   "metadata": {
    "slideshow": {
     "slide_type": "fragment"
    }
   },
   "source": [
    "Let us instantiate this superclass into `TimeCollector` – a subclass that measures time. This is modeled after our `PerformanceTracer` class, above; notably, the `time` attribute serves the same role."
   ]
  },
  {
   "cell_type": "code",
   "execution_count": 29,
   "metadata": {
    "execution": {
     "iopub.execute_input": "2023-01-07T16:07:56.418567Z",
     "iopub.status.busy": "2023-01-07T16:07:56.418255Z",
     "iopub.status.idle": "2023-01-07T16:07:56.419433Z",
     "shell.execute_reply": "2023-01-07T16:07:56.419614Z"
    },
    "slideshow": {
     "slide_type": "subslide"
    }
   },
   "outputs": [],
   "source": [
    "class TimeCollector(MetricCollector):\n",
    "    \"\"\"Collect time executed for each line\"\"\"\n",
    "\n",
    "    def __init__(self) -> None:\n",
    "        \"\"\"Constructor\"\"\"\n",
    "        super().__init__()\n",
    "        self.reset_timer()\n",
    "        self.time: Dict[Location, float] = {}\n",
    "        self.add_items_to_ignore([Timer.Timer, Timer.clock])\n",
    "\n",
    "    def collect(self, frame: FrameType, event: str, arg: Any) -> None:\n",
    "        \"\"\"Invoked for every line executed. Accumulate time spent.\"\"\"\n",
    "        t = self.timer.elapsed_time()\n",
    "        super().collect(frame, event, arg)\n",
    "        location = (frame.f_code.co_name, frame.f_lineno)\n",
    "\n",
    "        self.time.setdefault(location, 0.0)\n",
    "        self.time[location] += t\n",
    "\n",
    "        self.reset_timer()\n",
    "\n",
    "    def reset_timer(self) -> None:\n",
    "        self.timer = Timer.Timer()\n",
    "\n",
    "    def __enter__(self) -> Any:\n",
    "        super().__enter__()\n",
    "        self.reset_timer()\n",
    "        return self"
   ]
  },
  {
   "cell_type": "markdown",
   "metadata": {
    "slideshow": {
     "slide_type": "subslide"
    }
   },
   "source": [
    "The `metric()` and `all_metrics()` methods accumulate the metric (time taken) for an individual function:"
   ]
  },
  {
   "cell_type": "code",
   "execution_count": 30,
   "metadata": {
    "execution": {
     "iopub.execute_input": "2023-01-07T16:07:56.422065Z",
     "iopub.status.busy": "2023-01-07T16:07:56.421764Z",
     "iopub.status.idle": "2023-01-07T16:07:56.422958Z",
     "shell.execute_reply": "2023-01-07T16:07:56.423143Z"
    },
    "slideshow": {
     "slide_type": "fragment"
    }
   },
   "outputs": [],
   "source": [
    "class TimeCollector(TimeCollector):\n",
    "    def metric(self, location: Any) -> Optional[float]:\n",
    "        if location in self.time:\n",
    "            return self.time[location]\n",
    "        else:\n",
    "            return None\n",
    "\n",
    "    def all_metrics(self, func: str) -> List[float]:\n",
    "        return [time\n",
    "                for (func_name, lineno), time in self.time.items()\n",
    "                if func_name == func]"
   ]
  },
  {
   "cell_type": "markdown",
   "metadata": {
    "slideshow": {
     "slide_type": "fragment"
    }
   },
   "source": [
    "Here's how to use `TimeCollector()` – again, in a `with` block:"
   ]
  },
  {
   "cell_type": "code",
   "execution_count": 31,
   "metadata": {
    "execution": {
     "iopub.execute_input": "2023-01-07T16:07:56.440910Z",
     "iopub.status.busy": "2023-01-07T16:07:56.440623Z",
     "iopub.status.idle": "2023-01-07T16:07:56.441846Z",
     "shell.execute_reply": "2023-01-07T16:07:56.442068Z"
    },
    "slideshow": {
     "slide_type": "subslide"
    }
   },
   "outputs": [],
   "source": [
    "with TimeCollector() as collector:\n",
    "    for i in range(100):\n",
    "        s = remove_html_markup('<b>foo</b>')"
   ]
  },
  {
   "cell_type": "markdown",
   "metadata": {
    "slideshow": {
     "slide_type": "fragment"
    }
   },
   "source": [
    "The `time` attribute holds the time spent in each line:"
   ]
  },
  {
   "cell_type": "code",
   "execution_count": 32,
   "metadata": {
    "execution": {
     "iopub.execute_input": "2023-01-07T16:07:56.444017Z",
     "iopub.status.busy": "2023-01-07T16:07:56.443722Z",
     "iopub.status.idle": "2023-01-07T16:07:56.444909Z",
     "shell.execute_reply": "2023-01-07T16:07:56.445236Z"
    },
    "slideshow": {
     "slide_type": "subslide"
    }
   },
   "outputs": [
    {
     "name": "stdout",
     "output_type": "stream",
     "text": [
      "('remove_html_markup', 238) 0.0002041238476522267\n",
      "('remove_html_markup', 239) 0.00018666507094167173\n",
      "('remove_html_markup', 240) 0.0001732539531076327\n",
      "('remove_html_markup', 241) 0.00016020797193050385\n",
      "('remove_html_markup', 243) 0.0015378776879515499\n",
      "('remove_html_markup', 244) 0.00136912107700482\n",
      "('remove_html_markup', 246) 0.001360711277811788\n",
      "('remove_html_markup', 247) 0.0002760419883998111\n",
      "('remove_html_markup', 248) 0.0010976648627547547\n",
      "('remove_html_markup', 250) 0.000836128048831597\n",
      "('remove_html_markup', 252) 0.0008558650151826441\n",
      "('remove_html_markup', 249) 0.0002750398125499487\n",
      "('remove_html_markup', 253) 0.0004052431904710829\n",
      "('remove_html_markup', 255) 0.00027474717353470623\n"
     ]
    }
   ],
   "source": [
    "for location, time_spent in collector.time.items():\n",
    "    print(location, time_spent)"
   ]
  },
  {
   "cell_type": "markdown",
   "metadata": {
    "slideshow": {
     "slide_type": "subslide"
    }
   },
   "source": [
    "And we can also create a total for an entire function:"
   ]
  },
  {
   "cell_type": "code",
   "execution_count": 33,
   "metadata": {
    "execution": {
     "iopub.execute_input": "2023-01-07T16:07:56.447268Z",
     "iopub.status.busy": "2023-01-07T16:07:56.446894Z",
     "iopub.status.idle": "2023-01-07T16:07:56.448415Z",
     "shell.execute_reply": "2023-01-07T16:07:56.448688Z"
    },
    "slideshow": {
     "slide_type": "fragment"
    }
   },
   "outputs": [
    {
     "data": {
      "text/plain": [
       "0.009012690978124738"
      ]
     },
     "execution_count": 33,
     "metadata": {},
     "output_type": "execute_result"
    }
   ],
   "source": [
    "collector.total('remove_html_markup')"
   ]
  },
  {
   "cell_type": "markdown",
   "metadata": {
    "slideshow": {
     "slide_type": "subslide"
    }
   },
   "source": [
    "### Visualizing Time Spent\n",
    "\n",
    "Let us now go and visualize these numbers in a simple form. The idea is to assign each line a _color_ whose saturation indicates the time spent in that line relative to the time spent in the function overall  – the higher the fraction, the darker the line. We create a `MetricDebugger` class built as a specialization of `SpectrumDebugger`, in which `suspiciousness()` and `color()` are repurposed to show these metrics."
   ]
  },
  {
   "cell_type": "code",
   "execution_count": 34,
   "metadata": {
    "execution": {
     "iopub.execute_input": "2023-01-07T16:07:56.452910Z",
     "iopub.status.busy": "2023-01-07T16:07:56.452536Z",
     "iopub.status.idle": "2023-01-07T16:07:56.453733Z",
     "shell.execute_reply": "2023-01-07T16:07:56.453975Z"
    },
    "slideshow": {
     "slide_type": "subslide"
    }
   },
   "outputs": [],
   "source": [
    "class MetricDebugger(SpectrumDebugger):\n",
    "    \"\"\"Visualize a metric\"\"\"\n",
    "\n",
    "    def metric(self, location: Location) -> float:\n",
    "        sum = 0.0\n",
    "        for outcome in self.collectors:\n",
    "            for collector in self.collectors[outcome]:\n",
    "                assert isinstance(collector, MetricCollector)\n",
    "                m = collector.metric(location)\n",
    "                if m is not None:\n",
    "                    sum += m  # type: ignore\n",
    "\n",
    "        return sum\n",
    "\n",
    "    def total(self, func_name: str) -> float:\n",
    "        total = 0.0\n",
    "        for outcome in self.collectors:\n",
    "            for collector in self.collectors[outcome]:\n",
    "                assert isinstance(collector, MetricCollector)\n",
    "                total += sum(collector.all_metrics(func_name))\n",
    "\n",
    "        return total\n",
    "\n",
    "    def maximum(self, func_name: str) -> float:\n",
    "        maximum = 0.0\n",
    "        for outcome in self.collectors:\n",
    "            for collector in self.collectors[outcome]:\n",
    "                assert isinstance(collector, MetricCollector)\n",
    "                maximum = max(maximum, \n",
    "                              max(collector.all_metrics(func_name)))\n",
    "\n",
    "        return maximum\n",
    "\n",
    "    def suspiciousness(self, location: Location) -> float:\n",
    "        func_name, _ = location\n",
    "        return self.metric(location) / self.total(func_name)\n",
    "\n",
    "    def color(self, location: Location) -> str:\n",
    "        func_name, _ = location\n",
    "        hue = 240  # blue\n",
    "        saturation = 100  # fully saturated\n",
    "        darkness = self.metric(location) / self.maximum(func_name)\n",
    "        lightness = 100 - darkness * 25\n",
    "        return f\"hsl({hue}, {saturation}%, {lightness}%)\"\n",
    "\n",
    "    def tooltip(self, location: Location) -> str:\n",
    "        return f\"{super().tooltip(location)} {self.metric(location)}\""
   ]
  },
  {
   "cell_type": "markdown",
   "metadata": {
    "slideshow": {
     "slide_type": "subslide"
    }
   },
   "source": [
    "We can now introduce `PerformanceDebugger` as a subclass of `MetricDebugger`, using an arbitrary `MetricCollector` (such as `TimeCollector`) to obtain the metric we want to visualize."
   ]
  },
  {
   "cell_type": "code",
   "execution_count": 35,
   "metadata": {
    "execution": {
     "iopub.execute_input": "2023-01-07T16:07:56.455996Z",
     "iopub.status.busy": "2023-01-07T16:07:56.455715Z",
     "iopub.status.idle": "2023-01-07T16:07:56.456882Z",
     "shell.execute_reply": "2023-01-07T16:07:56.457104Z"
    },
    "slideshow": {
     "slide_type": "fragment"
    }
   },
   "outputs": [],
   "source": [
    "class PerformanceDebugger(MetricDebugger):\n",
    "    \"\"\"Collect and visualize a metric\"\"\"\n",
    "\n",
    "    def __init__(self, collector_class: Type, log: bool = False):\n",
    "        assert issubclass(collector_class, MetricCollector)\n",
    "        super().__init__(collector_class, log=log)"
   ]
  },
  {
   "cell_type": "markdown",
   "metadata": {
    "slideshow": {
     "slide_type": "fragment"
    }
   },
   "source": [
    "With `PerformanceDebugger`, we inherit all the capabilities of `SpectrumDebugger`, such as showing the (relative) percentage of time spent in a table. We see that the `for` condition and the following `assert` take most of the time, followed by the first condition."
   ]
  },
  {
   "cell_type": "code",
   "execution_count": 36,
   "metadata": {
    "execution": {
     "iopub.execute_input": "2023-01-07T16:07:56.476325Z",
     "iopub.status.busy": "2023-01-07T16:07:56.476023Z",
     "iopub.status.idle": "2023-01-07T16:07:56.477169Z",
     "shell.execute_reply": "2023-01-07T16:07:56.477404Z"
    },
    "slideshow": {
     "slide_type": "subslide"
    }
   },
   "outputs": [],
   "source": [
    "with PerformanceDebugger(TimeCollector) as debugger:\n",
    "    for i in range(100):\n",
    "        s = remove_html_markup('<b>foo</b>')"
   ]
  },
  {
   "cell_type": "code",
   "execution_count": 37,
   "metadata": {
    "execution": {
     "iopub.execute_input": "2023-01-07T16:07:56.479946Z",
     "iopub.status.busy": "2023-01-07T16:07:56.479644Z",
     "iopub.status.idle": "2023-01-07T16:07:56.480951Z",
     "shell.execute_reply": "2023-01-07T16:07:56.481188Z"
    },
    "slideshow": {
     "slide_type": "subslide"
    }
   },
   "outputs": [
    {
     "name": "stdout",
     "output_type": "stream",
     "text": [
      " 238   2% def remove_html_markup(s):  # type: ignore\n",
      " 239   2%     tag = False\n",
      " 240   1%     quote = False\n",
      " 241   1%     out = \"\"\n",
      " 242   0%\n",
      " 243  17%     for c in s:\n",
      " 244  15%         assert tag or not quote\n",
      " 245   0%\n",
      " 246  15%         if c == '<' and not quote:\n",
      " 247   3%             tag = True\n",
      " 248  12%         elif c == '>' and not quote:\n",
      " 249   3%             tag = False\n",
      " 250   9%         elif (c == '\"' or c == \"'\") and tag:\n",
      " 251   0%             quote = not quote\n",
      " 252   9%         elif not tag:\n",
      " 253   4%             out = out + c\n",
      " 254   0%\n",
      " 255   3%     return out\n",
      "\n"
     ]
    }
   ],
   "source": [
    "print(debugger)"
   ]
  },
  {
   "cell_type": "markdown",
   "metadata": {
    "slideshow": {
     "slide_type": "subslide"
    }
   },
   "source": [
    "However, we can also visualize these percentages, using shades of blue to indicate those lines most time spent in:"
   ]
  },
  {
   "cell_type": "code",
   "execution_count": 38,
   "metadata": {
    "execution": {
     "iopub.execute_input": "2023-01-07T16:07:56.484166Z",
     "iopub.status.busy": "2023-01-07T16:07:56.483821Z",
     "iopub.status.idle": "2023-01-07T16:07:56.485377Z",
     "shell.execute_reply": "2023-01-07T16:07:56.485620Z"
    },
    "slideshow": {
     "slide_type": "subslide"
    }
   },
   "outputs": [
    {
     "data": {
      "text/html": [
       "<pre style=\"background-color:hsl(240, 100%, 96.87665408854926%)\"\n",
       "                    title=\"Line 238:   2% 0.00022366904886439443\"> 238 def remove_html_markup(s):  # type: ignore</pre>\n",
       "<pre style=\"background-color:hsl(240, 100%, 96.97028606709601%)\"\n",
       "                    title=\"Line 239:   2% 0.00021696387557312846\"> 239     tag = False</pre>\n",
       "<pre style=\"background-color:hsl(240, 100%, 97.21119390404563%)\"\n",
       "                    title=\"Line 240:   1% 0.0001997119834413752\"> 240     quote = False</pre>\n",
       "<pre style=\"background-color:hsl(240, 100%, 97.41958000293916%)\"\n",
       "                    title=\"Line 241:   1% 0.00018478903803043067\"> 241     out = &quot;&quot;</pre>\n",
       "<pre style=\"background-color:hsl(240, 100%, 100.0%)\"\n",
       "                    title=\"Line 242:   0% 0.0\"> 242 &nbsp;</pre>\n",
       "<pre style=\"background-color:hsl(240, 100%, 75.0%)\"\n",
       "                    title=\"Line 243:  17% 0.0017903000116348267\"> 243     for c in s:</pre>\n",
       "<pre style=\"background-color:hsl(240, 100%, 78.03212821128896%)\"\n",
       "                    title=\"Line 244:  15% 0.00157316324475687\"> 244         assert tag or not quote</pre>\n",
       "<pre style=\"background-color:hsl(240, 100%, 100.0%)\"\n",
       "                    title=\"Line 245:   0% 0.0\"> 245 &nbsp;</pre>\n",
       "<pre style=\"background-color:hsl(240, 100%, 78.20030227960225%)\"\n",
       "                    title=\"Line 246:  15% 0.0015611199632985517\"> 246         if c == &#x27;&lt;&#x27; and not quote:</pre>\n",
       "<pre style=\"background-color:hsl(240, 100%, 95.56889977832775%)\"\n",
       "                    title=\"Line 247:   3% 0.0003173199511365965\"> 247             tag = True</pre>\n",
       "<pre style=\"background-color:hsl(240, 100%, 82.43574008229639%)\"\n",
       "                    title=\"Line 248:  12% 0.0012578117894008756\"> 248         elif c == &#x27;&gt;&#x27; and not quote:</pre>\n",
       "<pre style=\"background-color:hsl(240, 100%, 95.60545696411107%)\"\n",
       "                    title=\"Line 249:   3% 0.0003147020179312676\"> 249             tag = False</pre>\n",
       "<pre style=\"background-color:hsl(240, 100%, 86.89590999579934%)\"\n",
       "                    title=\"Line 250:   9% 0.0009384100994793698\"> 250         elif (c == &#x27;&quot;&#x27; or c == &quot;&#x27;&quot;) and tag:</pre>\n",
       "<pre style=\"background-color:hsl(240, 100%, 100.0%)\"\n",
       "                    title=\"Line 251:   0% 0.0\"> 251             quote = not quote</pre>\n",
       "<pre style=\"background-color:hsl(240, 100%, 86.36299761648685%)\"\n",
       "                    title=\"Line 252:   9% 0.0009765730210347101\"> 252         elif not tag:</pre>\n",
       "<pre style=\"background-color:hsl(240, 100%, 93.4781304296371%)\"\n",
       "                    title=\"Line 253:   4% 0.0004670441267080605\"> 253             out = out + c</pre>\n",
       "<pre style=\"background-color:hsl(240, 100%, 100.0%)\"\n",
       "                    title=\"Line 254:   0% 0.0\"> 254 &nbsp;</pre>\n",
       "<pre style=\"background-color:hsl(240, 100%, 95.63469673851128%)\"\n",
       "                    title=\"Line 255:   3% 0.00031260809919331223\"> 255     return out</pre>\n"
      ],
      "text/markdown": [
       "| `remove_html_markup` | `s='<b>foo</b>'` | \n",
       "| ---------------------- | ---- | \n",
       "| <samp style=\"background-color: hsl(240, 100%, 96.87665408854926%)\" title=\"  2% 0.00022366904886439443\">remove_html_markup:238</samp> |    X | \n",
       "| <samp style=\"background-color: hsl(240, 100%, 96.97028606709601%)\" title=\"  2% 0.00021696387557312846\">remove_html_markup:239</samp> |    X | \n",
       "| <samp style=\"background-color: hsl(240, 100%, 97.21119390404563%)\" title=\"  1% 0.0001997119834413752\">remove_html_markup:240</samp> |    X | \n",
       "| <samp style=\"background-color: hsl(240, 100%, 97.41958000293916%)\" title=\"  1% 0.00018478903803043067\">remove_html_markup:241</samp> |    X | \n",
       "| <samp style=\"background-color: hsl(240, 100%, 75.0%)\" title=\" 17% 0.0017903000116348267\">remove_html_markup:243</samp> |    X | \n",
       "| <samp style=\"background-color: hsl(240, 100%, 78.03212821128896%)\" title=\" 15% 0.00157316324475687\">remove_html_markup:244</samp> |    X | \n",
       "| <samp style=\"background-color: hsl(240, 100%, 78.20030227960225%)\" title=\" 15% 0.0015611199632985517\">remove_html_markup:246</samp> |    X | \n",
       "| <samp style=\"background-color: hsl(240, 100%, 95.56889977832775%)\" title=\"  3% 0.0003173199511365965\">remove_html_markup:247</samp> |    X | \n",
       "| <samp style=\"background-color: hsl(240, 100%, 82.43574008229639%)\" title=\" 12% 0.0012578117894008756\">remove_html_markup:248</samp> |    X | \n",
       "| <samp style=\"background-color: hsl(240, 100%, 95.60545696411107%)\" title=\"  3% 0.0003147020179312676\">remove_html_markup:249</samp> |    X | \n",
       "| <samp style=\"background-color: hsl(240, 100%, 86.89590999579934%)\" title=\"  9% 0.0009384100994793698\">remove_html_markup:250</samp> |    X | \n",
       "| <samp style=\"background-color: hsl(240, 100%, 86.36299761648685%)\" title=\"  9% 0.0009765730210347101\">remove_html_markup:252</samp> |    X | \n",
       "| <samp style=\"background-color: hsl(240, 100%, 93.4781304296371%)\" title=\"  4% 0.0004670441267080605\">remove_html_markup:253</samp> |    X | \n",
       "| <samp style=\"background-color: hsl(240, 100%, 95.63469673851128%)\" title=\"  3% 0.00031260809919331223\">remove_html_markup:255</samp> |    X | \n"
      ],
      "text/plain": [
       " 238   2% def remove_html_markup(s):  # type: ignore\n",
       " 239   2%     tag = False\n",
       " 240   1%     quote = False\n",
       " 241   1%     out = \"\"\n",
       " 242   0%\n",
       " 243  17%     for c in s:\n",
       " 244  15%         assert tag or not quote\n",
       " 245   0%\n",
       " 246  15%         if c == '<' and not quote:\n",
       " 247   3%             tag = True\n",
       " 248  12%         elif c == '>' and not quote:\n",
       " 249   3%             tag = False\n",
       " 250   9%         elif (c == '\"' or c == \"'\") and tag:\n",
       " 251   0%             quote = not quote\n",
       " 252   9%         elif not tag:\n",
       " 253   4%             out = out + c\n",
       " 254   0%\n",
       " 255   3%     return out"
      ]
     },
     "execution_count": 38,
     "metadata": {},
     "output_type": "execute_result"
    }
   ],
   "source": [
    "debugger"
   ]
  },
  {
   "cell_type": "markdown",
   "metadata": {
    "slideshow": {
     "slide_type": "subslide"
    }
   },
   "source": [
    "### Other Metrics\n",
    "\n",
    "Our framework is flexible enough to collect (and visualize) arbitrary metrics. This `HitCollector` class, for instance, collects how often a line is being executed."
   ]
  },
  {
   "cell_type": "code",
   "execution_count": 39,
   "metadata": {
    "execution": {
     "iopub.execute_input": "2023-01-07T16:07:56.488925Z",
     "iopub.status.busy": "2023-01-07T16:07:56.488600Z",
     "iopub.status.idle": "2023-01-07T16:07:56.489802Z",
     "shell.execute_reply": "2023-01-07T16:07:56.490002Z"
    },
    "slideshow": {
     "slide_type": "subslide"
    }
   },
   "outputs": [],
   "source": [
    "class HitCollector(MetricCollector):\n",
    "    \"\"\"Collect how often a line is executed\"\"\"\n",
    "\n",
    "    def __init__(self) -> None:\n",
    "        super().__init__()\n",
    "        self.hits: Dict[Location, int] = {}\n",
    "\n",
    "    def collect(self, frame: FrameType, event: str, arg: Any) -> None:\n",
    "        super().collect(frame, event, arg)\n",
    "        location = (frame.f_code.co_name, frame.f_lineno)\n",
    "\n",
    "        self.hits.setdefault(location, 0)\n",
    "        self.hits[location] += 1\n",
    "\n",
    "    def metric(self, location: Location) -> Optional[int]:\n",
    "        if location in self.hits:\n",
    "            return self.hits[location]\n",
    "        else:\n",
    "            return None\n",
    "\n",
    "    def all_metrics(self, func: str) -> List[float]:\n",
    "        return [hits\n",
    "                for (func_name, lineno), hits in self.hits.items()\n",
    "                if func_name == func]"
   ]
  },
  {
   "cell_type": "markdown",
   "metadata": {
    "slideshow": {
     "slide_type": "subslide"
    }
   },
   "source": [
    "We can plug in this class into `PerformanceDebugger` to obtain a distribution of lines executed:"
   ]
  },
  {
   "cell_type": "code",
   "execution_count": 40,
   "metadata": {
    "execution": {
     "iopub.execute_input": "2023-01-07T16:07:56.504479Z",
     "iopub.status.busy": "2023-01-07T16:07:56.504196Z",
     "iopub.status.idle": "2023-01-07T16:07:56.505399Z",
     "shell.execute_reply": "2023-01-07T16:07:56.505632Z"
    },
    "slideshow": {
     "slide_type": "fragment"
    }
   },
   "outputs": [],
   "source": [
    "with PerformanceDebugger(HitCollector) as debugger:\n",
    "    for i in range(100):\n",
    "        s = remove_html_markup('<b>foo</b>')"
   ]
  },
  {
   "cell_type": "markdown",
   "metadata": {
    "slideshow": {
     "slide_type": "fragment"
    }
   },
   "source": [
    "In total, during this call to `remove_html_markup()`, there are 6,400 lines executed:"
   ]
  },
  {
   "cell_type": "code",
   "execution_count": 41,
   "metadata": {
    "execution": {
     "iopub.execute_input": "2023-01-07T16:07:56.507658Z",
     "iopub.status.busy": "2023-01-07T16:07:56.507310Z",
     "iopub.status.idle": "2023-01-07T16:07:56.508896Z",
     "shell.execute_reply": "2023-01-07T16:07:56.509140Z"
    },
    "slideshow": {
     "slide_type": "fragment"
    }
   },
   "outputs": [
    {
     "data": {
      "text/plain": [
       "6400.0"
      ]
     },
     "execution_count": 41,
     "metadata": {},
     "output_type": "execute_result"
    }
   ],
   "source": [
    "debugger.total('remove_html_markup')"
   ]
  },
  {
   "cell_type": "markdown",
   "metadata": {
    "slideshow": {
     "slide_type": "fragment"
    }
   },
   "source": [
    "Again, we can visualize the distribution as a table and using colors. We can see how the shade gets lighter in the lower part of the loop as individual conditions have been met."
   ]
  },
  {
   "cell_type": "code",
   "execution_count": 42,
   "metadata": {
    "execution": {
     "iopub.execute_input": "2023-01-07T16:07:56.511306Z",
     "iopub.status.busy": "2023-01-07T16:07:56.511015Z",
     "iopub.status.idle": "2023-01-07T16:07:56.512323Z",
     "shell.execute_reply": "2023-01-07T16:07:56.512560Z"
    },
    "slideshow": {
     "slide_type": "subslide"
    }
   },
   "outputs": [
    {
     "name": "stdout",
     "output_type": "stream",
     "text": [
      " 238   1% def remove_html_markup(s):  # type: ignore\n",
      " 239   1%     tag = False\n",
      " 240   1%     quote = False\n",
      " 241   1%     out = \"\"\n",
      " 242   0%\n",
      " 243  17%     for c in s:\n",
      " 244  15%         assert tag or not quote\n",
      " 245   0%\n",
      " 246  15%         if c == '<' and not quote:\n",
      " 247   3%             tag = True\n",
      " 248  12%         elif c == '>' and not quote:\n",
      " 249   3%             tag = False\n",
      " 250   9%         elif (c == '\"' or c == \"'\") and tag:\n",
      " 251   0%             quote = not quote\n",
      " 252   9%         elif not tag:\n",
      " 253   4%             out = out + c\n",
      " 254   0%\n",
      " 255   3%     return out\n",
      "\n"
     ]
    }
   ],
   "source": [
    "print(debugger)"
   ]
  },
  {
   "cell_type": "code",
   "execution_count": 43,
   "metadata": {
    "execution": {
     "iopub.execute_input": "2023-01-07T16:07:56.515380Z",
     "iopub.status.busy": "2023-01-07T16:07:56.515034Z",
     "iopub.status.idle": "2023-01-07T16:07:56.516626Z",
     "shell.execute_reply": "2023-01-07T16:07:56.516862Z"
    },
    "slideshow": {
     "slide_type": "subslide"
    }
   },
   "outputs": [
    {
     "data": {
      "text/html": [
       "<pre style=\"background-color:hsl(240, 100%, 97.72727272727273%)\"\n",
       "                    title=\"Line 238:   1% 100.0\"> 238 def remove_html_markup(s):  # type: ignore</pre>\n",
       "<pre style=\"background-color:hsl(240, 100%, 97.72727272727273%)\"\n",
       "                    title=\"Line 239:   1% 100.0\"> 239     tag = False</pre>\n",
       "<pre style=\"background-color:hsl(240, 100%, 97.72727272727273%)\"\n",
       "                    title=\"Line 240:   1% 100.0\"> 240     quote = False</pre>\n",
       "<pre style=\"background-color:hsl(240, 100%, 97.72727272727273%)\"\n",
       "                    title=\"Line 241:   1% 100.0\"> 241     out = &quot;&quot;</pre>\n",
       "<pre style=\"background-color:hsl(240, 100%, 100.0%)\"\n",
       "                    title=\"Line 242:   0% 0.0\"> 242 &nbsp;</pre>\n",
       "<pre style=\"background-color:hsl(240, 100%, 75.0%)\"\n",
       "                    title=\"Line 243:  17% 1100.0\"> 243     for c in s:</pre>\n",
       "<pre style=\"background-color:hsl(240, 100%, 77.27272727272728%)\"\n",
       "                    title=\"Line 244:  15% 1000.0\"> 244         assert tag or not quote</pre>\n",
       "<pre style=\"background-color:hsl(240, 100%, 100.0%)\"\n",
       "                    title=\"Line 245:   0% 0.0\"> 245 &nbsp;</pre>\n",
       "<pre style=\"background-color:hsl(240, 100%, 77.27272727272728%)\"\n",
       "                    title=\"Line 246:  15% 1000.0\"> 246         if c == &#x27;&lt;&#x27; and not quote:</pre>\n",
       "<pre style=\"background-color:hsl(240, 100%, 95.45454545454545%)\"\n",
       "                    title=\"Line 247:   3% 200.0\"> 247             tag = True</pre>\n",
       "<pre style=\"background-color:hsl(240, 100%, 81.81818181818181%)\"\n",
       "                    title=\"Line 248:  12% 800.0\"> 248         elif c == &#x27;&gt;&#x27; and not quote:</pre>\n",
       "<pre style=\"background-color:hsl(240, 100%, 95.45454545454545%)\"\n",
       "                    title=\"Line 249:   3% 200.0\"> 249             tag = False</pre>\n",
       "<pre style=\"background-color:hsl(240, 100%, 86.36363636363636%)\"\n",
       "                    title=\"Line 250:   9% 600.0\"> 250         elif (c == &#x27;&quot;&#x27; or c == &quot;&#x27;&quot;) and tag:</pre>\n",
       "<pre style=\"background-color:hsl(240, 100%, 100.0%)\"\n",
       "                    title=\"Line 251:   0% 0.0\"> 251             quote = not quote</pre>\n",
       "<pre style=\"background-color:hsl(240, 100%, 86.36363636363636%)\"\n",
       "                    title=\"Line 252:   9% 600.0\"> 252         elif not tag:</pre>\n",
       "<pre style=\"background-color:hsl(240, 100%, 93.18181818181819%)\"\n",
       "                    title=\"Line 253:   4% 300.0\"> 253             out = out + c</pre>\n",
       "<pre style=\"background-color:hsl(240, 100%, 100.0%)\"\n",
       "                    title=\"Line 254:   0% 0.0\"> 254 &nbsp;</pre>\n",
       "<pre style=\"background-color:hsl(240, 100%, 95.45454545454545%)\"\n",
       "                    title=\"Line 255:   3% 200.0\"> 255     return out</pre>\n"
      ],
      "text/markdown": [
       "| `remove_html_markup` | `s='<b>foo</b>'` | \n",
       "| ---------------------- | ---- | \n",
       "| <samp style=\"background-color: hsl(240, 100%, 97.72727272727273%)\" title=\"  1% 100.0\">remove_html_markup:238</samp> |    X | \n",
       "| <samp style=\"background-color: hsl(240, 100%, 97.72727272727273%)\" title=\"  1% 100.0\">remove_html_markup:239</samp> |    X | \n",
       "| <samp style=\"background-color: hsl(240, 100%, 97.72727272727273%)\" title=\"  1% 100.0\">remove_html_markup:240</samp> |    X | \n",
       "| <samp style=\"background-color: hsl(240, 100%, 97.72727272727273%)\" title=\"  1% 100.0\">remove_html_markup:241</samp> |    X | \n",
       "| <samp style=\"background-color: hsl(240, 100%, 75.0%)\" title=\" 17% 1100.0\">remove_html_markup:243</samp> |    X | \n",
       "| <samp style=\"background-color: hsl(240, 100%, 77.27272727272728%)\" title=\" 15% 1000.0\">remove_html_markup:244</samp> |    X | \n",
       "| <samp style=\"background-color: hsl(240, 100%, 77.27272727272728%)\" title=\" 15% 1000.0\">remove_html_markup:246</samp> |    X | \n",
       "| <samp style=\"background-color: hsl(240, 100%, 95.45454545454545%)\" title=\"  3% 200.0\">remove_html_markup:247</samp> |    X | \n",
       "| <samp style=\"background-color: hsl(240, 100%, 81.81818181818181%)\" title=\" 12% 800.0\">remove_html_markup:248</samp> |    X | \n",
       "| <samp style=\"background-color: hsl(240, 100%, 95.45454545454545%)\" title=\"  3% 200.0\">remove_html_markup:249</samp> |    X | \n",
       "| <samp style=\"background-color: hsl(240, 100%, 86.36363636363636%)\" title=\"  9% 600.0\">remove_html_markup:250</samp> |    X | \n",
       "| <samp style=\"background-color: hsl(240, 100%, 86.36363636363636%)\" title=\"  9% 600.0\">remove_html_markup:252</samp> |    X | \n",
       "| <samp style=\"background-color: hsl(240, 100%, 93.18181818181819%)\" title=\"  4% 300.0\">remove_html_markup:253</samp> |    X | \n",
       "| <samp style=\"background-color: hsl(240, 100%, 95.45454545454545%)\" title=\"  3% 200.0\">remove_html_markup:255</samp> |    X | \n"
      ],
      "text/plain": [
       " 238   1% def remove_html_markup(s):  # type: ignore\n",
       " 239   1%     tag = False\n",
       " 240   1%     quote = False\n",
       " 241   1%     out = \"\"\n",
       " 242   0%\n",
       " 243  17%     for c in s:\n",
       " 244  15%         assert tag or not quote\n",
       " 245   0%\n",
       " 246  15%         if c == '<' and not quote:\n",
       " 247   3%             tag = True\n",
       " 248  12%         elif c == '>' and not quote:\n",
       " 249   3%             tag = False\n",
       " 250   9%         elif (c == '\"' or c == \"'\") and tag:\n",
       " 251   0%             quote = not quote\n",
       " 252   9%         elif not tag:\n",
       " 253   4%             out = out + c\n",
       " 254   0%\n",
       " 255   3%     return out"
      ]
     },
     "execution_count": 43,
     "metadata": {},
     "output_type": "execute_result"
    }
   ],
   "source": [
    "debugger"
   ]
  },
  {
   "cell_type": "markdown",
   "metadata": {
    "slideshow": {
     "slide_type": "slide"
    }
   },
   "source": [
    "## Integrating with Delta Debugging\n",
    "\n",
    "Besides identifying causes for performance issues in the code, one may also search for causes in the _input_, using [Delta Debugging](DeltaDebugger.ipynb). This can be useful if one does not immediately want to embark into investigating the code, but maybe first determine external influences that are related to performance issues."
   ]
  },
  {
   "cell_type": "markdown",
   "metadata": {
    "slideshow": {
     "slide_type": "fragment"
    }
   },
   "source": [
    "Here is a variant of `remove_html_markup()` that introduces a (rather obvious) performance issue."
   ]
  },
  {
   "cell_type": "code",
   "execution_count": 44,
   "metadata": {
    "execution": {
     "iopub.execute_input": "2023-01-07T16:07:56.518525Z",
     "iopub.status.busy": "2023-01-07T16:07:56.518231Z",
     "iopub.status.idle": "2023-01-07T16:07:56.519467Z",
     "shell.execute_reply": "2023-01-07T16:07:56.519658Z"
    },
    "slideshow": {
     "slide_type": "skip"
    }
   },
   "outputs": [],
   "source": [
    "import time"
   ]
  },
  {
   "cell_type": "code",
   "execution_count": 45,
   "metadata": {
    "execution": {
     "iopub.execute_input": "2023-01-07T16:07:56.522050Z",
     "iopub.status.busy": "2023-01-07T16:07:56.521748Z",
     "iopub.status.idle": "2023-01-07T16:07:56.523048Z",
     "shell.execute_reply": "2023-01-07T16:07:56.523244Z"
    },
    "slideshow": {
     "slide_type": "subslide"
    }
   },
   "outputs": [],
   "source": [
    "def remove_html_markup_ampersand(s: str) -> str:\n",
    "    tag = False\n",
    "    quote = False\n",
    "    out = \"\"\n",
    "\n",
    "    for c in s:\n",
    "        assert tag or not quote\n",
    "\n",
    "        if c == '&':\n",
    "            time.sleep(0.1)  # <-- the obvious performance issue\n",
    "\n",
    "        if c == '<' and not quote:\n",
    "            tag = True\n",
    "        elif c == '>' and not quote:\n",
    "            tag = False\n",
    "        elif (c == '\"' or c == \"'\") and tag:\n",
    "            quote = not quote\n",
    "        elif not tag:\n",
    "            out = out + c\n",
    "\n",
    "    return out"
   ]
  },
  {
   "cell_type": "markdown",
   "metadata": {
    "slideshow": {
     "slide_type": "subslide"
    }
   },
   "source": [
    "We can easily trigger this issue by measuring time taken:"
   ]
  },
  {
   "cell_type": "code",
   "execution_count": 46,
   "metadata": {
    "execution": {
     "iopub.execute_input": "2023-01-07T16:07:56.525110Z",
     "iopub.status.busy": "2023-01-07T16:07:56.524811Z",
     "iopub.status.idle": "2023-01-07T16:07:56.839386Z",
     "shell.execute_reply": "2023-01-07T16:07:56.840356Z"
    },
    "slideshow": {
     "slide_type": "fragment"
    }
   },
   "outputs": [
    {
     "data": {
      "text/plain": [
       "0.3079701670067152"
      ]
     },
     "execution_count": 46,
     "metadata": {},
     "output_type": "execute_result"
    }
   ],
   "source": [
    "with Timer.Timer() as t:\n",
    "    remove_html_markup_ampersand('&&&')\n",
    "t.elapsed_time()"
   ]
  },
  {
   "cell_type": "markdown",
   "metadata": {
    "slideshow": {
     "slide_type": "fragment"
    }
   },
   "source": [
    "Let us set up a test that checks whether the performance issue is present."
   ]
  },
  {
   "cell_type": "code",
   "execution_count": 47,
   "metadata": {
    "execution": {
     "iopub.execute_input": "2023-01-07T16:07:56.849640Z",
     "iopub.status.busy": "2023-01-07T16:07:56.847552Z",
     "iopub.status.idle": "2023-01-07T16:07:56.852275Z",
     "shell.execute_reply": "2023-01-07T16:07:56.853198Z"
    },
    "slideshow": {
     "slide_type": "fragment"
    }
   },
   "outputs": [],
   "source": [
    "def remove_html_test(s: str) -> None:\n",
    "    with Timer.Timer() as t:\n",
    "        remove_html_markup_ampersand(s)\n",
    "    assert t.elapsed_time() < 0.1"
   ]
  },
  {
   "cell_type": "markdown",
   "metadata": {
    "slideshow": {
     "slide_type": "fragment"
    }
   },
   "source": [
    "We can now apply delta debugging to determine a minimum input that causes the failure:"
   ]
  },
  {
   "cell_type": "code",
   "execution_count": 48,
   "metadata": {
    "execution": {
     "iopub.execute_input": "2023-01-07T16:07:56.858748Z",
     "iopub.status.busy": "2023-01-07T16:07:56.857892Z",
     "iopub.status.idle": "2023-01-07T16:07:56.860036Z",
     "shell.execute_reply": "2023-01-07T16:07:56.860321Z"
    },
    "slideshow": {
     "slide_type": "fragment"
    }
   },
   "outputs": [],
   "source": [
    "s_fail = '<b>foo&amp;</b>'"
   ]
  },
  {
   "cell_type": "code",
   "execution_count": 49,
   "metadata": {
    "execution": {
     "iopub.execute_input": "2023-01-07T16:07:56.863106Z",
     "iopub.status.busy": "2023-01-07T16:07:56.862680Z",
     "iopub.status.idle": "2023-01-07T16:07:56.970427Z",
     "shell.execute_reply": "2023-01-07T16:07:56.970178Z"
    },
    "slideshow": {
     "slide_type": "subslide"
    }
   },
   "outputs": [],
   "source": [
    "with DeltaDebugger.DeltaDebugger() as dd:\n",
    "    remove_html_test(s_fail)"
   ]
  },
  {
   "cell_type": "code",
   "execution_count": 50,
   "metadata": {
    "execution": {
     "iopub.execute_input": "2023-01-07T16:07:56.972588Z",
     "iopub.status.busy": "2023-01-07T16:07:56.972282Z",
     "iopub.status.idle": "2023-01-07T16:07:57.498871Z",
     "shell.execute_reply": "2023-01-07T16:07:57.499779Z"
    },
    "slideshow": {
     "slide_type": "fragment"
    }
   },
   "outputs": [
    {
     "data": {
      "text/plain": [
       "{'s': '&'}"
      ]
     },
     "execution_count": 50,
     "metadata": {},
     "output_type": "execute_result"
    }
   ],
   "source": [
    "dd.min_args()"
   ]
  },
  {
   "cell_type": "markdown",
   "metadata": {
    "slideshow": {
     "slide_type": "fragment"
    }
   },
   "source": [
    "For performance issues, however, a minimal input is often not enough to highlight the failure cause. This is because short inputs tend to take less processing time than longer inputs, which increases the risks of a spurious diagnosis. A better alternative is to compute a _maximum_ input where the issue does not occur:"
   ]
  },
  {
   "cell_type": "code",
   "execution_count": 51,
   "metadata": {
    "execution": {
     "iopub.execute_input": "2023-01-07T16:07:57.511839Z",
     "iopub.status.busy": "2023-01-07T16:07:57.510867Z",
     "iopub.status.idle": "2023-01-07T16:07:57.724254Z",
     "shell.execute_reply": "2023-01-07T16:07:57.724847Z"
    },
    "slideshow": {
     "slide_type": "fragment"
    }
   },
   "outputs": [],
   "source": [
    "s_pass = dd.max_args()"
   ]
  },
  {
   "cell_type": "code",
   "execution_count": 52,
   "metadata": {
    "execution": {
     "iopub.execute_input": "2023-01-07T16:07:57.731111Z",
     "iopub.status.busy": "2023-01-07T16:07:57.730295Z",
     "iopub.status.idle": "2023-01-07T16:07:57.736215Z",
     "shell.execute_reply": "2023-01-07T16:07:57.736794Z"
    },
    "slideshow": {
     "slide_type": "fragment"
    }
   },
   "outputs": [
    {
     "data": {
      "text/plain": [
       "{'s': '<b>fooamp;</b>'}"
      ]
     },
     "execution_count": 52,
     "metadata": {},
     "output_type": "execute_result"
    }
   ],
   "source": [
    "s_pass"
   ]
  },
  {
   "cell_type": "markdown",
   "metadata": {
    "slideshow": {
     "slide_type": "fragment"
    }
   },
   "source": [
    "We see that the culprit character (the `&`) is removed. This tells us the failure-inducing difference – or, more precisely, the cause for the performance issue."
   ]
  },
  {
   "cell_type": "markdown",
   "metadata": {
    "slideshow": {
     "slide_type": "slide"
    }
   },
   "source": [
    "## Synopsis"
   ]
  },
  {
   "cell_type": "markdown",
   "metadata": {
    "slideshow": {
     "slide_type": "fragment"
    }
   },
   "source": [
    "This chapter provides a class `PerformanceDebugger` that allows to measure and visualize the time taken per line in a function."
   ]
  },
  {
   "cell_type": "code",
   "execution_count": 53,
   "metadata": {
    "execution": {
     "iopub.execute_input": "2023-01-07T16:07:57.781238Z",
     "iopub.status.busy": "2023-01-07T16:07:57.748791Z",
     "iopub.status.idle": "2023-01-07T16:07:57.782864Z",
     "shell.execute_reply": "2023-01-07T16:07:57.783307Z"
    },
    "slideshow": {
     "slide_type": "fragment"
    }
   },
   "outputs": [],
   "source": [
    "with PerformanceDebugger(TimeCollector) as debugger:\n",
    "    for i in range(100):\n",
    "        s = remove_html_markup('<b>foo</b>')"
   ]
  },
  {
   "cell_type": "markdown",
   "metadata": {
    "slideshow": {
     "slide_type": "fragment"
    }
   },
   "source": [
    "The distribution of executed time within each function can be obtained by printing out the debugger:"
   ]
  },
  {
   "cell_type": "code",
   "execution_count": 54,
   "metadata": {
    "execution": {
     "iopub.execute_input": "2023-01-07T16:07:57.786405Z",
     "iopub.status.busy": "2023-01-07T16:07:57.785580Z",
     "iopub.status.idle": "2023-01-07T16:07:57.787912Z",
     "shell.execute_reply": "2023-01-07T16:07:57.788346Z"
    },
    "slideshow": {
     "slide_type": "subslide"
    }
   },
   "outputs": [
    {
     "name": "stdout",
     "output_type": "stream",
     "text": [
      " 238   2% def remove_html_markup(s):  # type: ignore\n",
      " 239   2%     tag = False\n",
      " 240   1%     quote = False\n",
      " 241   1%     out = \"\"\n",
      " 242   0%\n",
      " 243  17%     for c in s:\n",
      " 244  15%         assert tag or not quote\n",
      " 245   0%\n",
      " 246  14%         if c == '<' and not quote:\n",
      " 247   2%             tag = True\n",
      " 248  12%         elif c == '>' and not quote:\n",
      " 249   2%             tag = False\n",
      " 250   8%         elif (c == '\"' or c == \"'\") and tag:\n",
      " 251   0%             quote = not quote\n",
      " 252  10%         elif not tag:\n",
      " 253   4%             out = out + c\n",
      " 254   0%\n",
      " 255   3%     return out\n",
      "\n"
     ]
    }
   ],
   "source": [
    "print(debugger)"
   ]
  },
  {
   "cell_type": "markdown",
   "metadata": {
    "slideshow": {
     "slide_type": "subslide"
    }
   },
   "source": [
    "The sum of all percentages in a function should always be 100%."
   ]
  },
  {
   "cell_type": "markdown",
   "metadata": {
    "slideshow": {
     "slide_type": "fragment"
    }
   },
   "source": [
    "These percentages can also be visualized, where darker shades represent higher percentage values:"
   ]
  },
  {
   "cell_type": "code",
   "execution_count": 55,
   "metadata": {
    "execution": {
     "iopub.execute_input": "2023-01-07T16:07:57.792940Z",
     "iopub.status.busy": "2023-01-07T16:07:57.792338Z",
     "iopub.status.idle": "2023-01-07T16:07:57.794739Z",
     "shell.execute_reply": "2023-01-07T16:07:57.794981Z"
    },
    "slideshow": {
     "slide_type": "subslide"
    }
   },
   "outputs": [
    {
     "data": {
      "text/html": [
       "<pre style=\"background-color:hsl(240, 100%, 96.68060344645437%)\"\n",
       "                    title=\"Line 238:   2% 0.0005116260435897857\"> 238 def remove_html_markup(s):  # type: ignore</pre>\n",
       "<pre style=\"background-color:hsl(240, 100%, 97.02363400537863%)\"\n",
       "                    title=\"Line 239:   2% 0.00045875397336203605\"> 239     tag = False</pre>\n",
       "<pre style=\"background-color:hsl(240, 100%, 97.19880137243607%)\"\n",
       "                    title=\"Line 240:   1% 0.0004317550337873399\"> 240     quote = False</pre>\n",
       "<pre style=\"background-color:hsl(240, 100%, 97.33807145401597%)\"\n",
       "                    title=\"Line 241:   1% 0.00041028902342077345\"> 241     out = &quot;&quot;</pre>\n",
       "<pre style=\"background-color:hsl(240, 100%, 100.0%)\"\n",
       "                    title=\"Line 242:   0% 0.0\"> 242 &nbsp;</pre>\n",
       "<pre style=\"background-color:hsl(240, 100%, 75.0%)\"\n",
       "                    title=\"Line 243:  17% 0.0038533061306225136\"> 243     for c in s:</pre>\n",
       "<pre style=\"background-color:hsl(240, 100%, 76.87860175898172%)\"\n",
       "                    title=\"Line 244:  15% 0.003563753023627214\"> 244         assert tag or not quote</pre>\n",
       "<pre style=\"background-color:hsl(240, 100%, 100.0%)\"\n",
       "                    title=\"Line 245:   0% 0.0\"> 245 &nbsp;</pre>\n",
       "<pre style=\"background-color:hsl(240, 100%, 78.45649232950105%)\"\n",
       "                    title=\"Line 246:  14% 0.0033205492072738707\"> 246         if c == &#x27;&lt;&#x27; and not quote:</pre>\n",
       "<pre style=\"background-color:hsl(240, 100%, 95.63876342777229%)\"\n",
       "                    title=\"Line 247:   2% 0.0006722071848344058\"> 247             tag = True</pre>\n",
       "<pre style=\"background-color:hsl(240, 100%, 82.36611722086272%)\"\n",
       "                    title=\"Line 248:  12% 0.0027179499447811395\"> 248         elif c == &#x27;&gt;&#x27; and not quote:</pre>\n",
       "<pre style=\"background-color:hsl(240, 100%, 95.64659545979079%)\"\n",
       "                    title=\"Line 249:   2% 0.0006710000161547214\"> 249             tag = False</pre>\n",
       "<pre style=\"background-color:hsl(240, 100%, 86.89111214518556%)\"\n",
       "                    title=\"Line 250:   8% 0.002020502317463979\"> 250         elif (c == &#x27;&quot;&#x27; or c == &quot;&#x27;&quot;) and tag:</pre>\n",
       "<pre style=\"background-color:hsl(240, 100%, 100.0%)\"\n",
       "                    title=\"Line 251:   0% 0.0\"> 251             quote = not quote</pre>\n",
       "<pre style=\"background-color:hsl(240, 100%, 85.12423599026154%)\"\n",
       "                    title=\"Line 252:  10% 0.0022928349062567577\"> 252         elif not tag:</pre>\n",
       "<pre style=\"background-color:hsl(240, 100%, 93.58498325554304%)\"\n",
       "                    title=\"Line 253:   4% 0.000988760933978483\"> 253             out = out + c</pre>\n",
       "<pre style=\"background-color:hsl(240, 100%, 100.0%)\"\n",
       "                    title=\"Line 254:   0% 0.0\"> 254 &nbsp;</pre>\n",
       "<pre style=\"background-color:hsl(240, 100%, 95.27562842521348%)\"\n",
       "                    title=\"Line 255:   3% 0.0007281779980985448\"> 255     return out</pre>\n"
      ],
      "text/markdown": [
       "| `remove_html_markup` | `s='<b>foo</b>'` | \n",
       "| ---------------------- | ---- | \n",
       "| <samp style=\"background-color: hsl(240, 100%, 96.68060344645437%)\" title=\"  2% 0.0005116260435897857\">remove_html_markup:238</samp> |    X | \n",
       "| <samp style=\"background-color: hsl(240, 100%, 97.02363400537863%)\" title=\"  2% 0.00045875397336203605\">remove_html_markup:239</samp> |    X | \n",
       "| <samp style=\"background-color: hsl(240, 100%, 97.19880137243607%)\" title=\"  1% 0.0004317550337873399\">remove_html_markup:240</samp> |    X | \n",
       "| <samp style=\"background-color: hsl(240, 100%, 97.33807145401597%)\" title=\"  1% 0.00041028902342077345\">remove_html_markup:241</samp> |    X | \n",
       "| <samp style=\"background-color: hsl(240, 100%, 75.0%)\" title=\" 17% 0.0038533061306225136\">remove_html_markup:243</samp> |    X | \n",
       "| <samp style=\"background-color: hsl(240, 100%, 76.87860175898172%)\" title=\" 15% 0.003563753023627214\">remove_html_markup:244</samp> |    X | \n",
       "| <samp style=\"background-color: hsl(240, 100%, 78.45649232950105%)\" title=\" 14% 0.0033205492072738707\">remove_html_markup:246</samp> |    X | \n",
       "| <samp style=\"background-color: hsl(240, 100%, 95.63876342777229%)\" title=\"  2% 0.0006722071848344058\">remove_html_markup:247</samp> |    X | \n",
       "| <samp style=\"background-color: hsl(240, 100%, 82.36611722086272%)\" title=\" 12% 0.0027179499447811395\">remove_html_markup:248</samp> |    X | \n",
       "| <samp style=\"background-color: hsl(240, 100%, 95.64659545979079%)\" title=\"  2% 0.0006710000161547214\">remove_html_markup:249</samp> |    X | \n",
       "| <samp style=\"background-color: hsl(240, 100%, 86.89111214518556%)\" title=\"  8% 0.002020502317463979\">remove_html_markup:250</samp> |    X | \n",
       "| <samp style=\"background-color: hsl(240, 100%, 85.12423599026154%)\" title=\" 10% 0.0022928349062567577\">remove_html_markup:252</samp> |    X | \n",
       "| <samp style=\"background-color: hsl(240, 100%, 93.58498325554304%)\" title=\"  4% 0.000988760933978483\">remove_html_markup:253</samp> |    X | \n",
       "| <samp style=\"background-color: hsl(240, 100%, 95.27562842521348%)\" title=\"  3% 0.0007281779980985448\">remove_html_markup:255</samp> |    X | \n"
      ],
      "text/plain": [
       " 238   2% def remove_html_markup(s):  # type: ignore\n",
       " 239   2%     tag = False\n",
       " 240   1%     quote = False\n",
       " 241   1%     out = \"\"\n",
       " 242   0%\n",
       " 243  17%     for c in s:\n",
       " 244  15%         assert tag or not quote\n",
       " 245   0%\n",
       " 246  14%         if c == '<' and not quote:\n",
       " 247   2%             tag = True\n",
       " 248  12%         elif c == '>' and not quote:\n",
       " 249   2%             tag = False\n",
       " 250   8%         elif (c == '\"' or c == \"'\") and tag:\n",
       " 251   0%             quote = not quote\n",
       " 252  10%         elif not tag:\n",
       " 253   4%             out = out + c\n",
       " 254   0%\n",
       " 255   3%     return out"
      ]
     },
     "execution_count": 55,
     "metadata": {},
     "output_type": "execute_result"
    }
   ],
   "source": [
    "debugger"
   ]
  },
  {
   "cell_type": "markdown",
   "metadata": {
    "slideshow": {
     "slide_type": "subslide"
    }
   },
   "source": [
    "The abstract `MetricCollector` class allows subclassing to build more collectors, such as `HitCollector`."
   ]
  },
  {
   "cell_type": "code",
   "execution_count": 56,
   "metadata": {
    "execution": {
     "iopub.execute_input": "2023-01-07T16:07:57.797415Z",
     "iopub.status.busy": "2023-01-07T16:07:57.796936Z",
     "iopub.status.idle": "2023-01-07T16:07:57.798465Z",
     "shell.execute_reply": "2023-01-07T16:07:57.798727Z"
    },
    "slideshow": {
     "slide_type": "fragment"
    }
   },
   "outputs": [],
   "source": [
    "# ignore\n",
    "from ClassDiagram import display_class_hierarchy"
   ]
  },
  {
   "cell_type": "code",
   "execution_count": 57,
   "metadata": {
    "execution": {
     "iopub.execute_input": "2023-01-07T16:07:57.804824Z",
     "iopub.status.busy": "2023-01-07T16:07:57.804405Z",
     "iopub.status.idle": "2023-01-07T16:07:58.341757Z",
     "shell.execute_reply": "2023-01-07T16:07:58.342015Z"
    },
    "slideshow": {
     "slide_type": "fragment"
    }
   },
   "outputs": [
    {
     "data": {
      "image/svg+xml": [
       "<?xml version=\"1.0\" encoding=\"UTF-8\" standalone=\"no\"?>\n",
       "<!DOCTYPE svg PUBLIC \"-//W3C//DTD SVG 1.1//EN\"\n",
       " \"http://www.w3.org/Graphics/SVG/1.1/DTD/svg11.dtd\">\n",
       "<!-- Generated by graphviz version 7.0.2 (20221119.0110)\n",
       " -->\n",
       "<!-- Pages: 1 -->\n",
       "<svg width=\"557pt\" height=\"555pt\"\n",
       " viewBox=\"0.00 0.00 557.00 555.00\" xmlns=\"http://www.w3.org/2000/svg\" xmlns:xlink=\"http://www.w3.org/1999/xlink\">\n",
       "<g id=\"graph0\" class=\"graph\" transform=\"scale(1 1) rotate(0) translate(4 551)\">\n",
       "<g id=\"a_graph0\"><a xlink:title=\"PerformanceDebugger class hierarchy\">\n",
       "<polygon fill=\"white\" stroke=\"none\" points=\"-4,4 -4,-551 553,-551 553,4 -4,4\"/>\n",
       "</a>\n",
       "</g>\n",
       "<!-- PerformanceDebugger -->\n",
       "<g id=\"node1\" class=\"node\">\n",
       "<title>PerformanceDebugger</title>\n",
       "<g id=\"a_node1\"><a xlink:href=\"#\" xlink:title=\"class PerformanceDebugger:&#10;Collect and visualize a metric\">\n",
       "<polygon fill=\"none\" stroke=\"black\" points=\"0,-28 0,-70 162,-70 162,-28 0,-28\"/>\n",
       "<text text-anchor=\"start\" x=\"8\" y=\"-55.8\" font-family=\"Raleway, Helvetica, Arial, sans-serif\" font-weight=\"bold\" font-size=\"14.00\" fill=\"#6a0dad\">PerformanceDebugger</text>\n",
       "<polyline fill=\"none\" stroke=\"black\" points=\"0,-47 162,-47\"/>\n",
       "<g id=\"a_node1_0\"><a xlink:href=\"#\" xlink:title=\"PerformanceDebugger\">\n",
       "<g id=\"a_node1_1\"><a xlink:href=\"#\" xlink:title=\"__init__(self, collector_class: Type, log: bool = False):&#10;Constructor. Use instances of `collector_class` to collect events.\">\n",
       "<text text-anchor=\"start\" x=\"51\" y=\"-35.5\" font-family=\"'Fira Mono', 'Source Code Pro', 'Courier', monospace\" font-weight=\"bold\" font-style=\"italic\" font-size=\"10.00\">__init__()</text>\n",
       "</a>\n",
       "</g>\n",
       "</a>\n",
       "</g>\n",
       "</a>\n",
       "</g>\n",
       "</g>\n",
       "<!-- MetricDebugger -->\n",
       "<g id=\"node2\" class=\"node\">\n",
       "<title>MetricDebugger</title>\n",
       "<g id=\"a_node2\"><a xlink:href=\"#\" xlink:title=\"class MetricDebugger:&#10;Visualize a metric\">\n",
       "<polygon fill=\"none\" stroke=\"black\" points=\"21,-134.5 21,-231.5 141,-231.5 141,-134.5 21,-134.5\"/>\n",
       "<text text-anchor=\"start\" x=\"29\" y=\"-217.3\" font-family=\"Raleway, Helvetica, Arial, sans-serif\" font-weight=\"bold\" font-size=\"14.00\" fill=\"#6a0dad\">MetricDebugger</text>\n",
       "<polyline fill=\"none\" stroke=\"black\" points=\"21,-208.5 141,-208.5\"/>\n",
       "<g id=\"a_node2_2\"><a xlink:href=\"#\" xlink:title=\"MetricDebugger\">\n",
       "<g id=\"a_node2_3\"><a xlink:href=\"#\" xlink:title=\"color(self, location: Tuple[str, int]) &#45;&gt; str:&#10;Return a color for the given event, or None.&#10;To be overloaded in subclasses.\">\n",
       "<text text-anchor=\"start\" x=\"33\" y=\"-197.5\" font-family=\"'Fira Mono', 'Source Code Pro', 'Courier', monospace\" font-style=\"italic\" font-size=\"10.00\">color()</text>\n",
       "</a>\n",
       "</g>\n",
       "<g id=\"a_node2_4\"><a xlink:href=\"#\" xlink:title=\"maximum(self, func_name: str) &#45;&gt; float\">\n",
       "<text text-anchor=\"start\" x=\"33\" y=\"-185.5\" font-family=\"'Fira Mono', 'Source Code Pro', 'Courier', monospace\" font-size=\"10.00\">maximum()</text>\n",
       "</a>\n",
       "</g>\n",
       "<g id=\"a_node2_5\"><a xlink:href=\"#\" xlink:title=\"metric(self, location: Tuple[str, int]) &#45;&gt; float\">\n",
       "<text text-anchor=\"start\" x=\"33\" y=\"-174.5\" font-family=\"'Fira Mono', 'Source Code Pro', 'Courier', monospace\" font-size=\"10.00\">metric()</text>\n",
       "</a>\n",
       "</g>\n",
       "<g id=\"a_node2_6\"><a xlink:href=\"#\" xlink:title=\"suspiciousness(self, location: Tuple[str, int]) &#45;&gt; float:&#10;Return a suspiciousness value in the range [0, 1.0]&#10;for the given event, or `None` if unknown.&#10;To be overloaded in subclasses.\">\n",
       "<text text-anchor=\"start\" x=\"33\" y=\"-164.5\" font-family=\"'Fira Mono', 'Source Code Pro', 'Courier', monospace\" font-style=\"italic\" font-size=\"10.00\">suspiciousness()</text>\n",
       "</a>\n",
       "</g>\n",
       "<g id=\"a_node2_7\"><a xlink:href=\"#\" xlink:title=\"tooltip(self, location: Tuple[str, int]) &#45;&gt; str:&#10;Return a tooltip for the given event (default: percentage).&#10;To be overloaded in subclasses.\">\n",
       "<text text-anchor=\"start\" x=\"33\" y=\"-153.5\" font-family=\"'Fira Mono', 'Source Code Pro', 'Courier', monospace\" font-style=\"italic\" font-size=\"10.00\">tooltip()</text>\n",
       "</a>\n",
       "</g>\n",
       "<g id=\"a_node2_8\"><a xlink:href=\"#\" xlink:title=\"total(self, func_name: str) &#45;&gt; float\">\n",
       "<text text-anchor=\"start\" x=\"33\" y=\"-141.5\" font-family=\"'Fira Mono', 'Source Code Pro', 'Courier', monospace\" font-size=\"10.00\">total()</text>\n",
       "</a>\n",
       "</g>\n",
       "</a>\n",
       "</g>\n",
       "</a>\n",
       "</g>\n",
       "</g>\n",
       "<!-- PerformanceDebugger&#45;&gt;MetricDebugger -->\n",
       "<g id=\"edge1\" class=\"edge\">\n",
       "<title>PerformanceDebugger&#45;&gt;MetricDebugger</title>\n",
       "<path fill=\"none\" stroke=\"black\" d=\"M81,-69.76C81,-84 81,-104.02 81,-123.21\"/>\n",
       "<polygon fill=\"none\" stroke=\"black\" points=\"77.5,-123.16 81,-133.16 84.5,-123.16 77.5,-123.16\"/>\n",
       "</g>\n",
       "<!-- SpectrumDebugger -->\n",
       "<g id=\"node3\" class=\"node\">\n",
       "<title>SpectrumDebugger</title>\n",
       "<g id=\"a_node3\"><a xlink:href=\"StatisticalDebugger.ipynb\" xlink:title=\"class SpectrumDebugger:&#10;A class to collect events for passing and failing outcomes.\">\n",
       "<polygon fill=\"none\" stroke=\"black\" points=\"9.5,-268.5 9.5,-304.5 152.5,-304.5 152.5,-268.5 9.5,-268.5\"/>\n",
       "<text text-anchor=\"start\" x=\"17.5\" y=\"-283.8\" font-family=\"Raleway, Helvetica, Arial, sans-serif\" font-weight=\"bold\" font-size=\"14.00\" fill=\"#6a0dad\">SpectrumDebugger</text>\n",
       "</a>\n",
       "</g>\n",
       "</g>\n",
       "<!-- MetricDebugger&#45;&gt;SpectrumDebugger -->\n",
       "<g id=\"edge2\" class=\"edge\">\n",
       "<title>MetricDebugger&#45;&gt;SpectrumDebugger</title>\n",
       "<path fill=\"none\" stroke=\"black\" d=\"M81,-231.48C81,-240.39 81,-249.43 81,-257.51\"/>\n",
       "<polygon fill=\"none\" stroke=\"black\" points=\"77.5,-257.36 81,-267.36 84.5,-257.36 77.5,-257.36\"/>\n",
       "</g>\n",
       "<!-- DifferenceDebugger -->\n",
       "<g id=\"node4\" class=\"node\">\n",
       "<title>DifferenceDebugger</title>\n",
       "<g id=\"a_node4\"><a xlink:href=\"StatisticalDebugger.ipynb\" xlink:title=\"class DifferenceDebugger:&#10;A class to collect events for passing and failing outcomes.\">\n",
       "<polygon fill=\"none\" stroke=\"black\" points=\"8,-341.5 8,-394.5 154,-394.5 154,-341.5 8,-341.5\"/>\n",
       "<text text-anchor=\"start\" x=\"16\" y=\"-380.3\" font-family=\"Raleway, Helvetica, Arial, sans-serif\" font-weight=\"bold\" font-size=\"14.00\" fill=\"#6a0dad\">DifferenceDebugger</text>\n",
       "<polyline fill=\"none\" stroke=\"black\" points=\"8,-371.5 154,-371.5\"/>\n",
       "<g id=\"a_node4_9\"><a xlink:href=\"#\" xlink:title=\"DifferenceDebugger\">\n",
       "<g id=\"a_node4_10\"><a xlink:href=\"StatisticalDebugger.ipynb\" xlink:title=\"FAIL = &#39;FAIL&#39;\">\n",
       "<text text-anchor=\"start\" x=\"69\" y=\"-359.5\" font-family=\"'Fira Mono', 'Source Code Pro', 'Courier', monospace\" font-size=\"10.00\">FAIL</text>\n",
       "</a>\n",
       "</g>\n",
       "<g id=\"a_node4_11\"><a xlink:href=\"StatisticalDebugger.ipynb\" xlink:title=\"PASS = &#39;PASS&#39;\">\n",
       "<text text-anchor=\"start\" x=\"69\" y=\"-348.5\" font-family=\"'Fira Mono', 'Source Code Pro', 'Courier', monospace\" font-size=\"10.00\">PASS</text>\n",
       "</a>\n",
       "</g>\n",
       "</a>\n",
       "</g>\n",
       "</a>\n",
       "</g>\n",
       "</g>\n",
       "<!-- SpectrumDebugger&#45;&gt;DifferenceDebugger -->\n",
       "<g id=\"edge3\" class=\"edge\">\n",
       "<title>SpectrumDebugger&#45;&gt;DifferenceDebugger</title>\n",
       "<path fill=\"none\" stroke=\"black\" d=\"M81,-304.36C81,-311.99 81,-321.32 81,-330.43\"/>\n",
       "<polygon fill=\"none\" stroke=\"black\" points=\"77.5,-330.19 81,-340.19 84.5,-330.19 77.5,-330.19\"/>\n",
       "</g>\n",
       "<!-- StatisticalDebugger -->\n",
       "<g id=\"node5\" class=\"node\">\n",
       "<title>StatisticalDebugger</title>\n",
       "<g id=\"a_node5\"><a xlink:href=\"StatisticalDebugger.ipynb\" xlink:title=\"class StatisticalDebugger:&#10;A class to collect events for multiple outcomes.\">\n",
       "<polygon fill=\"none\" stroke=\"black\" points=\"11,-431.5 11,-467.5 151,-467.5 151,-431.5 11,-431.5\"/>\n",
       "<text text-anchor=\"start\" x=\"19\" y=\"-446.8\" font-family=\"Raleway, Helvetica, Arial, sans-serif\" font-weight=\"bold\" font-size=\"14.00\" fill=\"#6a0dad\">StatisticalDebugger</text>\n",
       "</a>\n",
       "</g>\n",
       "</g>\n",
       "<!-- DifferenceDebugger&#45;&gt;StatisticalDebugger -->\n",
       "<g id=\"edge4\" class=\"edge\">\n",
       "<title>DifferenceDebugger&#45;&gt;StatisticalDebugger</title>\n",
       "<path fill=\"none\" stroke=\"black\" d=\"M81,-394.15C81,-402.44 81,-411.71 81,-420.21\"/>\n",
       "<polygon fill=\"none\" stroke=\"black\" points=\"77.5,-420.03 81,-430.03 84.5,-420.03 77.5,-420.03\"/>\n",
       "</g>\n",
       "<!-- TimeCollector -->\n",
       "<g id=\"node6\" class=\"node\">\n",
       "<title>TimeCollector</title>\n",
       "<g id=\"a_node6\"><a xlink:href=\"#\" xlink:title=\"class TimeCollector:&#10;Collect time executed for each line\">\n",
       "<polygon fill=\"none\" stroke=\"black\" points=\"192.5,-0.5 192.5,-97.5 297.5,-97.5 297.5,-0.5 192.5,-0.5\"/>\n",
       "<text text-anchor=\"start\" x=\"200.5\" y=\"-83.3\" font-family=\"Raleway, Helvetica, Arial, sans-serif\" font-weight=\"bold\" font-size=\"14.00\" fill=\"#6a0dad\">TimeCollector</text>\n",
       "<polyline fill=\"none\" stroke=\"black\" points=\"192.5,-74.5 297.5,-74.5\"/>\n",
       "<g id=\"a_node6_12\"><a xlink:href=\"#\" xlink:title=\"TimeCollector\">\n",
       "<g id=\"a_node6_13\"><a xlink:href=\"#\" xlink:title=\"__enter__(self) &#45;&gt; Any:&#10;Called at begin of `with` block. Turn tracing on.\">\n",
       "<text text-anchor=\"start\" x=\"206\" y=\"-63.5\" font-family=\"'Fira Mono', 'Source Code Pro', 'Courier', monospace\" font-style=\"italic\" font-size=\"10.00\">__enter__()</text>\n",
       "</a>\n",
       "</g>\n",
       "<g id=\"a_node6_14\"><a xlink:href=\"#\" xlink:title=\"__init__(self) &#45;&gt; None:&#10;Constructor\">\n",
       "<text text-anchor=\"start\" x=\"206\" y=\"-52.5\" font-family=\"'Fira Mono', 'Source Code Pro', 'Courier', monospace\" font-style=\"italic\" font-size=\"10.00\">__init__()</text>\n",
       "</a>\n",
       "</g>\n",
       "<g id=\"a_node6_15\"><a xlink:href=\"#\" xlink:title=\"all_metrics(self, func: str) &#45;&gt; List[float]:&#10;Return all metric for a function `func`.\">\n",
       "<text text-anchor=\"start\" x=\"206\" y=\"-41.5\" font-family=\"'Fira Mono', 'Source Code Pro', 'Courier', monospace\" font-style=\"italic\" font-size=\"10.00\">all_metrics()</text>\n",
       "</a>\n",
       "</g>\n",
       "<g id=\"a_node6_16\"><a xlink:href=\"#\" xlink:title=\"collect(self, frame: frame, event: str, arg: Any) &#45;&gt; None:&#10;Invoked for every line executed. Accumulate time spent.\">\n",
       "<text text-anchor=\"start\" x=\"206\" y=\"-30.5\" font-family=\"'Fira Mono', 'Source Code Pro', 'Courier', monospace\" font-style=\"italic\" font-size=\"10.00\">collect()</text>\n",
       "</a>\n",
       "</g>\n",
       "<g id=\"a_node6_17\"><a xlink:href=\"#\" xlink:title=\"metric(self, location: Any) &#45;&gt; Optional[float]:&#10;Return a metric for an event, or none.\">\n",
       "<text text-anchor=\"start\" x=\"206\" y=\"-19.5\" font-family=\"'Fira Mono', 'Source Code Pro', 'Courier', monospace\" font-style=\"italic\" font-size=\"10.00\">metric()</text>\n",
       "</a>\n",
       "</g>\n",
       "<g id=\"a_node6_18\"><a xlink:href=\"#\" xlink:title=\"reset_timer(self) &#45;&gt; None\">\n",
       "<text text-anchor=\"start\" x=\"206\" y=\"-7.5\" font-family=\"'Fira Mono', 'Source Code Pro', 'Courier', monospace\" font-size=\"10.00\">reset_timer()</text>\n",
       "</a>\n",
       "</g>\n",
       "</a>\n",
       "</g>\n",
       "</a>\n",
       "</g>\n",
       "</g>\n",
       "<!-- MetricCollector -->\n",
       "<g id=\"node7\" class=\"node\">\n",
       "<title>MetricCollector</title>\n",
       "<g id=\"a_node7\"><a xlink:href=\"#\" xlink:title=\"class MetricCollector:&#10;Abstract superclass for collecting line&#45;specific metrics\">\n",
       "<polygon fill=\"none\" stroke=\"black\" points=\"199.5,-145.5 199.5,-220.5 312.5,-220.5 312.5,-145.5 199.5,-145.5\"/>\n",
       "<text text-anchor=\"start\" x=\"207.5\" y=\"-206.3\" font-family=\"Raleway, Helvetica, Arial, sans-serif\" font-weight=\"bold\" font-size=\"14.00\" fill=\"#6a0dad\">MetricCollector</text>\n",
       "<polyline fill=\"none\" stroke=\"black\" points=\"199.5,-197.5 312.5,-197.5\"/>\n",
       "<g id=\"a_node7_19\"><a xlink:href=\"#\" xlink:title=\"MetricCollector\">\n",
       "<g id=\"a_node7_20\"><a xlink:href=\"#\" xlink:title=\"all_metrics(self, func: str) &#45;&gt; List[float]:&#10;Return all metric for a function `func`.\">\n",
       "<text text-anchor=\"start\" x=\"217\" y=\"-186.5\" font-family=\"'Fira Mono', 'Source Code Pro', 'Courier', monospace\" font-style=\"italic\" font-size=\"10.00\">all_metrics()</text>\n",
       "</a>\n",
       "</g>\n",
       "<g id=\"a_node7_21\"><a xlink:href=\"#\" xlink:title=\"maximum(self, func: str) &#45;&gt; float\">\n",
       "<text text-anchor=\"start\" x=\"217\" y=\"-174.5\" font-family=\"'Fira Mono', 'Source Code Pro', 'Courier', monospace\" font-size=\"10.00\">maximum()</text>\n",
       "</a>\n",
       "</g>\n",
       "<g id=\"a_node7_22\"><a xlink:href=\"#\" xlink:title=\"metric(self, event: Any) &#45;&gt; Optional[float]:&#10;Return a metric for an event, or none.\">\n",
       "<text text-anchor=\"start\" x=\"217\" y=\"-164.5\" font-family=\"'Fira Mono', 'Source Code Pro', 'Courier', monospace\" font-style=\"italic\" font-size=\"10.00\">metric()</text>\n",
       "</a>\n",
       "</g>\n",
       "<g id=\"a_node7_23\"><a xlink:href=\"#\" xlink:title=\"total(self, func: str) &#45;&gt; float\">\n",
       "<text text-anchor=\"start\" x=\"217\" y=\"-152.5\" font-family=\"'Fira Mono', 'Source Code Pro', 'Courier', monospace\" font-size=\"10.00\">total()</text>\n",
       "</a>\n",
       "</g>\n",
       "</a>\n",
       "</g>\n",
       "</a>\n",
       "</g>\n",
       "</g>\n",
       "<!-- TimeCollector&#45;&gt;MetricCollector -->\n",
       "<g id=\"edge5\" class=\"edge\">\n",
       "<title>TimeCollector&#45;&gt;MetricCollector</title>\n",
       "<path fill=\"none\" stroke=\"black\" d=\"M248.94,-97.28C249.95,-109.39 251.03,-122.42 252.04,-134.53\"/>\n",
       "<polygon fill=\"none\" stroke=\"black\" points=\"248.54,-134.63 252.86,-144.31 255.52,-134.05 248.54,-134.63\"/>\n",
       "</g>\n",
       "<!-- CoverageCollector -->\n",
       "<g id=\"node8\" class=\"node\">\n",
       "<title>CoverageCollector</title>\n",
       "<g id=\"a_node8\"><a xlink:href=\"StatisticalDebugger.ipynb\" xlink:title=\"class CoverageCollector:&#10;A class to record covered locations during execution.\">\n",
       "<polygon fill=\"none\" stroke=\"black\" points=\"189,-268.5 189,-304.5 323,-304.5 323,-268.5 189,-268.5\"/>\n",
       "<text text-anchor=\"start\" x=\"197\" y=\"-283.8\" font-family=\"Raleway, Helvetica, Arial, sans-serif\" font-weight=\"bold\" font-size=\"14.00\" fill=\"#6a0dad\">CoverageCollector</text>\n",
       "</a>\n",
       "</g>\n",
       "</g>\n",
       "<!-- MetricCollector&#45;&gt;CoverageCollector -->\n",
       "<g id=\"edge6\" class=\"edge\">\n",
       "<title>MetricCollector&#45;&gt;CoverageCollector</title>\n",
       "<path fill=\"none\" stroke=\"black\" d=\"M256,-220.36C256,-232.47 256,-245.78 256,-257.19\"/>\n",
       "<polygon fill=\"none\" stroke=\"black\" points=\"252.5,-257.17 256,-267.17 259.5,-257.17 252.5,-257.17\"/>\n",
       "</g>\n",
       "<!-- Collector -->\n",
       "<g id=\"node9\" class=\"node\">\n",
       "<title>Collector</title>\n",
       "<g id=\"a_node9\"><a xlink:href=\"StatisticalDebugger.ipynb\" xlink:title=\"class Collector:&#10;A class to record events during execution.\">\n",
       "<polygon fill=\"none\" stroke=\"black\" points=\"195.5,-350 195.5,-386 268.5,-386 268.5,-350 195.5,-350\"/>\n",
       "<text text-anchor=\"start\" x=\"203.5\" y=\"-365.3\" font-family=\"Raleway, Helvetica, Arial, sans-serif\" font-weight=\"bold\" font-size=\"14.00\" fill=\"#6a0dad\">Collector</text>\n",
       "</a>\n",
       "</g>\n",
       "</g>\n",
       "<!-- CoverageCollector&#45;&gt;Collector -->\n",
       "<g id=\"edge7\" class=\"edge\">\n",
       "<title>CoverageCollector&#45;&gt;Collector</title>\n",
       "<path fill=\"none\" stroke=\"black\" d=\"M250.91,-304.36C247.86,-314.48 243.89,-327.6 240.39,-339.22\"/>\n",
       "<polygon fill=\"none\" stroke=\"black\" points=\"237.06,-338.13 237.52,-348.72 243.76,-340.15 237.06,-338.13\"/>\n",
       "</g>\n",
       "<!-- StackInspector -->\n",
       "<g id=\"node11\" class=\"node\">\n",
       "<title>StackInspector</title>\n",
       "<g id=\"a_node11\"><a xlink:href=\"StackInspector.ipynb\" xlink:title=\"class StackInspector:&#10;Provide functions to inspect the stack\">\n",
       "<polygon fill=\"none\" stroke=\"black\" points=\"184.5,-504.5 184.5,-546.5 351.5,-546.5 351.5,-504.5 184.5,-504.5\"/>\n",
       "<text text-anchor=\"start\" x=\"221\" y=\"-532.3\" font-family=\"Raleway, Helvetica, Arial, sans-serif\" font-weight=\"bold\" font-size=\"14.00\" fill=\"#6a0dad\">StackInspector</text>\n",
       "<polyline fill=\"none\" stroke=\"black\" points=\"184.5,-523.5 351.5,-523.5\"/>\n",
       "<g id=\"a_node11_24\"><a xlink:href=\"#\" xlink:title=\"StackInspector\">\n",
       "<g id=\"a_node11_25\"><a xlink:href=\"StackInspector.ipynb\" xlink:title=\"_generated_function_cache = {(&#39;remove_html_markup&#39;, 238): &lt;function remove_html_markup at 0x28fafecb0&gt;}\">\n",
       "<text text-anchor=\"start\" x=\"193\" y=\"-511\" font-family=\"'Fira Mono', 'Source Code Pro', 'Courier', monospace\" font-size=\"10.00\">_generated_function_cache</text>\n",
       "</a>\n",
       "</g>\n",
       "</a>\n",
       "</g>\n",
       "</a>\n",
       "</g>\n",
       "</g>\n",
       "<!-- CoverageCollector&#45;&gt;StackInspector -->\n",
       "<g id=\"edge10\" class=\"edge\">\n",
       "<title>CoverageCollector&#45;&gt;StackInspector</title>\n",
       "<path fill=\"none\" stroke=\"black\" d=\"M264.5,-304.36C269.21,-314.66 274.59,-328.25 277,-341 287.03,-394.02 279.87,-457.11 273.86,-493.8\"/>\n",
       "<polygon fill=\"none\" stroke=\"black\" points=\"270.49,-492.8 272.23,-503.25 277.38,-493.99 270.49,-492.8\"/>\n",
       "</g>\n",
       "<!-- Tracer -->\n",
       "<g id=\"node10\" class=\"node\">\n",
       "<title>Tracer</title>\n",
       "<g id=\"a_node10\"><a xlink:href=\"Tracer.ipynb\" xlink:title=\"class Tracer:&#10;A class for tracing a piece of code. Use as `with Tracer(): block()`\">\n",
       "<polygon fill=\"none\" stroke=\"black\" points=\"208,-431.5 208,-467.5 264,-467.5 264,-431.5 208,-431.5\"/>\n",
       "<text text-anchor=\"start\" x=\"216\" y=\"-446.8\" font-family=\"Raleway, Helvetica, Arial, sans-serif\" font-weight=\"bold\" font-size=\"14.00\" fill=\"#6a0dad\">Tracer</text>\n",
       "</a>\n",
       "</g>\n",
       "</g>\n",
       "<!-- Collector&#45;&gt;Tracer -->\n",
       "<g id=\"edge8\" class=\"edge\">\n",
       "<title>Collector&#45;&gt;Tracer</title>\n",
       "<path fill=\"none\" stroke=\"black\" d=\"M232.85,-385.86C233.35,-395.87 234,-408.83 234.58,-420.35\"/>\n",
       "<polygon fill=\"none\" stroke=\"black\" points=\"231.08,-420.34 235.08,-430.15 238.07,-419.99 231.08,-420.34\"/>\n",
       "</g>\n",
       "<!-- Tracer&#45;&gt;StackInspector -->\n",
       "<g id=\"edge9\" class=\"edge\">\n",
       "<title>Tracer&#45;&gt;StackInspector</title>\n",
       "<path fill=\"none\" stroke=\"black\" d=\"M243.26,-467.29C246.71,-475.26 250.93,-485.03 254.91,-494.23\"/>\n",
       "<polygon fill=\"none\" stroke=\"black\" points=\"251.62,-495.45 258.8,-503.23 258.05,-492.67 251.62,-495.45\"/>\n",
       "</g>\n",
       "<!-- HitCollector -->\n",
       "<g id=\"node12\" class=\"node\">\n",
       "<title>HitCollector</title>\n",
       "<g id=\"a_node12\"><a xlink:href=\"#\" xlink:title=\"class HitCollector:&#10;Collect how often a line is executed\">\n",
       "<polygon fill=\"none\" stroke=\"black\" points=\"315.5,-11.5 315.5,-86.5 410.5,-86.5 410.5,-11.5 315.5,-11.5\"/>\n",
       "<text text-anchor=\"start\" x=\"326\" y=\"-72.3\" font-family=\"Raleway, Helvetica, Arial, sans-serif\" font-weight=\"bold\" font-size=\"14.00\" fill=\"#6a0dad\">HitCollector</text>\n",
       "<polyline fill=\"none\" stroke=\"black\" points=\"315.5,-63.5 410.5,-63.5\"/>\n",
       "<g id=\"a_node12_26\"><a xlink:href=\"#\" xlink:title=\"HitCollector\">\n",
       "<g id=\"a_node12_27\"><a xlink:href=\"#\" xlink:title=\"__init__(self) &#45;&gt; None:&#10;Constructor.\">\n",
       "<text text-anchor=\"start\" x=\"324\" y=\"-52.5\" font-family=\"'Fira Mono', 'Source Code Pro', 'Courier', monospace\" font-style=\"italic\" font-size=\"10.00\">__init__()</text>\n",
       "</a>\n",
       "</g>\n",
       "<g id=\"a_node12_28\"><a xlink:href=\"#\" xlink:title=\"all_metrics(self, func: str) &#45;&gt; List[float]:&#10;Return all metric for a function `func`.\">\n",
       "<text text-anchor=\"start\" x=\"324\" y=\"-41.5\" font-family=\"'Fira Mono', 'Source Code Pro', 'Courier', monospace\" font-style=\"italic\" font-size=\"10.00\">all_metrics()</text>\n",
       "</a>\n",
       "</g>\n",
       "<g id=\"a_node12_29\"><a xlink:href=\"#\" xlink:title=\"collect(self, frame: frame, event: str, arg: Any) &#45;&gt; None:&#10;Save coverage for an observed event.\">\n",
       "<text text-anchor=\"start\" x=\"324\" y=\"-30.5\" font-family=\"'Fira Mono', 'Source Code Pro', 'Courier', monospace\" font-style=\"italic\" font-size=\"10.00\">collect()</text>\n",
       "</a>\n",
       "</g>\n",
       "<g id=\"a_node12_30\"><a xlink:href=\"#\" xlink:title=\"metric(self, location: Tuple[str, int]) &#45;&gt; Optional[int]:&#10;Return a metric for an event, or none.\">\n",
       "<text text-anchor=\"start\" x=\"324\" y=\"-19.5\" font-family=\"'Fira Mono', 'Source Code Pro', 'Courier', monospace\" font-style=\"italic\" font-size=\"10.00\">metric()</text>\n",
       "</a>\n",
       "</g>\n",
       "</a>\n",
       "</g>\n",
       "</a>\n",
       "</g>\n",
       "</g>\n",
       "<!-- HitCollector&#45;&gt;MetricCollector -->\n",
       "<g id=\"edge11\" class=\"edge\">\n",
       "<title>HitCollector&#45;&gt;MetricCollector</title>\n",
       "<path fill=\"none\" stroke=\"black\" d=\"M333.48,-86.42C320.85,-102 305.97,-120.36 292.64,-136.79\"/>\n",
       "<polygon fill=\"none\" stroke=\"black\" points=\"289.96,-134.55 286.38,-144.52 295.39,-138.96 289.96,-134.55\"/>\n",
       "</g>\n",
       "<!-- Legend -->\n",
       "<g id=\"node13\" class=\"node\">\n",
       "<title>Legend</title>\n",
       "<text text-anchor=\"start\" x=\"429\" y=\"-66.5\" font-family=\"Raleway, Helvetica, Arial, sans-serif\" font-weight=\"bold\" font-size=\"10.00\" fill=\"#6a0dad\">Legend</text>\n",
       "<text text-anchor=\"start\" x=\"429\" y=\"-56.5\" font-family=\"Raleway, Helvetica, Arial, sans-serif\" font-size=\"10.00\">• </text>\n",
       "<text text-anchor=\"start\" x=\"436\" y=\"-56.5\" font-family=\"'Fira Mono', 'Source Code Pro', 'Courier', monospace\" font-weight=\"bold\" font-size=\"8.00\">public_method()</text>\n",
       "<text text-anchor=\"start\" x=\"429\" y=\"-46.5\" font-family=\"Raleway, Helvetica, Arial, sans-serif\" font-size=\"10.00\">• </text>\n",
       "<text text-anchor=\"start\" x=\"436\" y=\"-46.5\" font-family=\"'Fira Mono', 'Source Code Pro', 'Courier', monospace\" font-size=\"8.00\">private_method()</text>\n",
       "<text text-anchor=\"start\" x=\"429\" y=\"-36.5\" font-family=\"Raleway, Helvetica, Arial, sans-serif\" font-size=\"10.00\">• </text>\n",
       "<text text-anchor=\"start\" x=\"436\" y=\"-36.5\" font-family=\"'Fira Mono', 'Source Code Pro', 'Courier', monospace\" font-style=\"italic\" font-size=\"8.00\">overloaded_method()</text>\n",
       "<text text-anchor=\"start\" x=\"429\" y=\"-27.3\" font-family=\"Helvetica,sans-Serif\" font-size=\"9.00\">Hover over names to see doc</text>\n",
       "</g>\n",
       "</g>\n",
       "</svg>\n"
      ],
      "text/plain": [
       "<graphviz.graphs.Digraph at 0x2a3f0d690>"
      ]
     },
     "execution_count": 57,
     "metadata": {},
     "output_type": "execute_result"
    }
   ],
   "source": [
    "# ignore\n",
    "display_class_hierarchy([PerformanceDebugger, TimeCollector, HitCollector],\n",
    "                        public_methods=[\n",
    "                            PerformanceDebugger.__init__,\n",
    "                        ],\n",
    "                        project='debuggingbook')"
   ]
  },
  {
   "cell_type": "markdown",
   "metadata": {
    "button": false,
    "new_sheet": true,
    "run_control": {
     "read_only": false
    },
    "slideshow": {
     "slide_type": "slide"
    }
   },
   "source": [
    "## Lessons Learned\n",
    "\n",
    "* To measure performance,\n",
    "    * instrument the code such that the time taken per function (or line) is collected; or\n",
    "    * sample the execution that at regular intervals, the active call stack is collected.\n",
    "* To make code performant, focus on efficient algorithms, efficient data types, and sufficient abstraction such that you can replace them by alternatives.\n",
    "* Beyond efficient algorithms and data types, do _not_ optimize before measuring."
   ]
  },
  {
   "cell_type": "markdown",
   "metadata": {
    "button": false,
    "new_sheet": false,
    "run_control": {
     "read_only": false
    },
    "slideshow": {
     "slide_type": "slide"
    }
   },
   "source": [
    "## Next Steps\n",
    "\n",
    "This chapter concludes the part on abstracting failures. The next part will focus on\n",
    "\n",
    "* [repairing code automatically](Repairer.ipynb)"
   ]
  },
  {
   "cell_type": "markdown",
   "metadata": {
    "slideshow": {
     "slide_type": "slide"
    }
   },
   "source": [
    "## Background\n",
    "\n",
    "[Scalene](https://github.com/plasma-umass/scalene) is a high-performance, high-precision CPU, GPU, and memory profiler for Python. In contrast to the standard Python `cProfile` profiler, it uses _sampling_ instead of instrumentation or relying on Python's tracing facilities; and it also supports line-by-line profiling. Scalene might be the tool of choice if you want to go beyond basic profiling.\n",
    "\n",
    "The Wikipedia articles on [profiling](https://en.wikipedia.org/wiki/Profiling_(computer_programming)) and [performance analysis tools](https://en.wikipedia.org/wiki/List_of_performance_analysis_tools) provide several additional resources on profiling tools and how to apply them in practice."
   ]
  },
  {
   "cell_type": "markdown",
   "metadata": {
    "button": false,
    "new_sheet": true,
    "run_control": {
     "read_only": false
    },
    "slideshow": {
     "slide_type": "slide"
    }
   },
   "source": [
    "## Exercises"
   ]
  },
  {
   "attachments": {},
   "cell_type": "markdown",
   "metadata": {
    "button": false,
    "new_sheet": false,
    "run_control": {
     "read_only": false
    },
    "slideshow": {
     "slide_type": "subslide"
    }
   },
   "source": [
    "### Exercise 1: Profiling Memory Usage\n",
    "\n",
    "The Python [`tracemalloc` module](https://docs.python.org/3/library/tracemalloc.html) allows tracking memory usage during execution. Between `tracemalloc.start()` and `tracemalloc.end()`, use `tracemalloc.get_traced_memory()` to obtain how much memory is currently being consumed:"
   ]
  },
  {
   "cell_type": "code",
   "execution_count": 58,
   "metadata": {
    "execution": {
     "iopub.execute_input": "2023-01-07T16:07:58.344554Z",
     "iopub.status.busy": "2023-01-07T16:07:58.344216Z",
     "iopub.status.idle": "2023-01-07T16:07:58.347089Z",
     "shell.execute_reply": "2023-01-07T16:07:58.347322Z"
    },
    "slideshow": {
     "slide_type": "skip"
    }
   },
   "outputs": [],
   "source": [
    "import tracemalloc"
   ]
  },
  {
   "cell_type": "code",
   "execution_count": 59,
   "metadata": {
    "execution": {
     "iopub.execute_input": "2023-01-07T16:07:58.350606Z",
     "iopub.status.busy": "2023-01-07T16:07:58.350291Z",
     "iopub.status.idle": "2023-01-07T16:07:58.351838Z",
     "shell.execute_reply": "2023-01-07T16:07:58.352096Z"
    },
    "slideshow": {
     "slide_type": "fragment"
    }
   },
   "outputs": [],
   "source": [
    "tracemalloc.start()"
   ]
  },
  {
   "cell_type": "code",
   "execution_count": 60,
   "metadata": {
    "execution": {
     "iopub.execute_input": "2023-01-07T16:07:58.355321Z",
     "iopub.status.busy": "2023-01-07T16:07:58.354861Z",
     "iopub.status.idle": "2023-01-07T16:07:58.357219Z",
     "shell.execute_reply": "2023-01-07T16:07:58.357613Z"
    },
    "slideshow": {
     "slide_type": "fragment"
    }
   },
   "outputs": [
    {
     "data": {
      "text/plain": [
       "19855"
      ]
     },
     "execution_count": 60,
     "metadata": {},
     "output_type": "execute_result"
    }
   ],
   "source": [
    "current_size, peak_size = tracemalloc.get_traced_memory()\n",
    "current_size"
   ]
  },
  {
   "cell_type": "code",
   "execution_count": 61,
   "metadata": {
    "execution": {
     "iopub.execute_input": "2023-01-07T16:07:58.361488Z",
     "iopub.status.busy": "2023-01-07T16:07:58.361026Z",
     "iopub.status.idle": "2023-01-07T16:07:58.362827Z",
     "shell.execute_reply": "2023-01-07T16:07:58.363091Z"
    },
    "slideshow": {
     "slide_type": "fragment"
    }
   },
   "outputs": [],
   "source": [
    "tracemalloc.stop()"
   ]
  },
  {
   "attachments": {},
   "cell_type": "markdown",
   "metadata": {
    "slideshow": {
     "slide_type": "subslide"
    }
   },
   "source": [
    "Create a subclass of `MetricCollector` named `MemoryCollector`. Make it measure the memory consumption before and after each line executed (0 if negative), and visualize the impact of individual lines on memory. Create an appropriate test program that (temporarily) consumes larger amounts of memory."
   ]
  },
  {
   "attachments": {},
   "cell_type": "markdown",
   "metadata": {
    "slideshow": {
     "slide_type": "slide"
    }
   },
   "source": [
    "## Exercise 2: Statistical Performance Debugging\n",
    "\n",
    "In a similar way as we integrated a binary \"performance test\" with delta debugging, we can also integrate such a test with other techniques. Combining a performance test with [Statistical Debugging](StatisticalDebugger.ipynb), for instance, will highlight those lines whose execution correlates with low performance. But then, the performance test need not be binary, as with functional pass/fail tests – you can also _weight_ individual lines by _how much_ they impact performance. Create a variant of `StatisticalDebugger` that reflects the impact of individual lines on an arbitrary (summarized) performance metric."
   ]
  }
 ],
 "metadata": {
  "ipub": {
   "bibliography": "fuzzingbook.bib",
   "toc": true
  },
  "kernelspec": {
   "display_name": "Python 3 (ipykernel)",
   "language": "python",
   "name": "python3"
  },
  "language_info": {
   "codemirror_mode": {
    "name": "ipython",
    "version": 3
   },
   "file_extension": ".py",
   "mimetype": "text/x-python",
   "name": "python",
   "nbconvert_exporter": "python",
   "pygments_lexer": "ipython3",
   "version": "3.10.2"
  },
  "toc": {
   "base_numbering": 1,
   "nav_menu": {},
   "number_sections": true,
   "sideBar": true,
   "skip_h1_title": true,
   "title_cell": "",
   "title_sidebar": "Contents",
   "toc_cell": false,
   "toc_position": {},
   "toc_section_display": true,
   "toc_window_display": true
  },
  "toc-autonumbering": false
 },
 "nbformat": 4,
 "nbformat_minor": 4
}