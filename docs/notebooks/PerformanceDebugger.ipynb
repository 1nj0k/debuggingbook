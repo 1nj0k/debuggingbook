{
 "cells": [
  {
   "cell_type": "markdown",
   "metadata": {
    "button": false,
    "new_sheet": false,
    "run_control": {
     "read_only": false
    },
    "slideshow": {
     "slide_type": "slide"
    }
   },
   "source": [
    "# Debugging Performance Issues\n",
    "\n",
    "Most chapters of this book deal with _functional_ issues – that is, issues related to the _functionality_ (or its absence) of the code in question. However, debugging can also involve _nonfunctional_ issues, however – performance, usability, reliability, and more. In this chapter, we give a short introduction on how to debug such nonfunctional issues, notably _performance_ issues."
   ]
  },
  {
   "cell_type": "code",
   "execution_count": 1,
   "metadata": {
    "execution": {
     "iopub.execute_input": "2021-12-13T16:17:59.540403Z",
     "iopub.status.busy": "2021-12-13T16:17:59.539777Z",
     "iopub.status.idle": "2021-12-13T16:17:59.661319Z",
     "shell.execute_reply": "2021-12-13T16:17:59.661719Z"
    },
    "slideshow": {
     "slide_type": "skip"
    }
   },
   "outputs": [
    {
     "data": {
      "text/html": [
       "\n",
       "        <iframe\n",
       "            width=\"640\"\n",
       "            height=\"360\"\n",
       "            src=\"https://www.youtube-nocookie.com/embed/0tMeB9G0uUI\"\n",
       "            frameborder=\"0\"\n",
       "            allowfullscreen\n",
       "            \n",
       "        ></iframe>\n",
       "        "
      ],
      "text/plain": [
       "<IPython.lib.display.IFrame at 0x1124b17c0>"
      ]
     },
     "execution_count": 1,
     "metadata": {},
     "output_type": "execute_result"
    }
   ],
   "source": [
    "from bookutils import YouTubeVideo\n",
    "YouTubeVideo(\"0tMeB9G0uUI\")"
   ]
  },
  {
   "cell_type": "markdown",
   "metadata": {
    "button": false,
    "new_sheet": false,
    "run_control": {
     "read_only": false
    },
    "slideshow": {
     "slide_type": "subslide"
    }
   },
   "source": [
    "**Prerequisites**\n",
    "\n",
    "* This chapter leverages visualization capabilities from [the chapter on statistical debugging](StatisticalDebugger.ipynb)\n",
    "* We also show how to debug nonfunctional issues using [delta debugging](DeltaDebugger.ipynb)."
   ]
  },
  {
   "cell_type": "code",
   "execution_count": 2,
   "metadata": {
    "button": false,
    "execution": {
     "iopub.execute_input": "2021-12-13T16:17:59.665821Z",
     "iopub.status.busy": "2021-12-13T16:17:59.665088Z",
     "iopub.status.idle": "2021-12-13T16:17:59.667278Z",
     "shell.execute_reply": "2021-12-13T16:17:59.667746Z"
    },
    "new_sheet": false,
    "run_control": {
     "read_only": false
    },
    "slideshow": {
     "slide_type": "skip"
    }
   },
   "outputs": [],
   "source": [
    "import bookutils"
   ]
  },
  {
   "cell_type": "code",
   "execution_count": 3,
   "metadata": {
    "execution": {
     "iopub.execute_input": "2021-12-13T16:17:59.671209Z",
     "iopub.status.busy": "2021-12-13T16:17:59.670617Z",
     "iopub.status.idle": "2021-12-13T16:18:03.381660Z",
     "shell.execute_reply": "2021-12-13T16:18:03.381189Z"
    },
    "slideshow": {
     "slide_type": "skip"
    }
   },
   "outputs": [],
   "source": [
    "import StatisticalDebugger\n",
    "import DeltaDebugger"
   ]
  },
  {
   "cell_type": "markdown",
   "metadata": {
    "slideshow": {
     "slide_type": "skip"
    }
   },
   "source": [
    "## Synopsis\n",
    "<!-- Automatically generated. Do not edit. -->\n",
    "\n",
    "To [use the code provided in this chapter](Importing.ipynb), write\n",
    "\n",
    "```python\n",
    ">>> from debuggingbook.PerformanceDebugger import <identifier>\n",
    "```\n",
    "\n",
    "and then make use of the following features.\n",
    "\n",
    "\n",
    "This chapter provides a class `PerformanceDebugger` that allows to measure and visualize the time taken per line in a function.\n",
    "\n",
    "```python\n",
    ">>> with PerformanceDebugger(TimeCollector) as debugger:\n",
    ">>>     for i in range(100):\n",
    ">>>         s = remove_html_markup('<b>foo</b>')\n",
    "```\n",
    "The distribution of executed time within each function can be obtained by printing out the debugger:\n",
    "\n",
    "```python\n",
    ">>> print(debugger)\n",
    " 238   2% def remove_html_markup(s):  # type: ignore\n",
    " 239   1%     tag = False\n",
    " 240   1%     quote = False\n",
    " 241   1%     out = \"\"\n",
    " 242   0%\n",
    " 243  16%     for c in s:\n",
    " 244  15%         assert tag or not quote\n",
    " 245   0%\n",
    " 246  15%         if c == '<' and not quote:\n",
    " 247   2%             tag = True\n",
    " 248  11%         elif c == '>' and not quote:\n",
    " 249   3%             tag = False\n",
    " 250   8%         elif (c == '\"' or c == \"'\") and tag:\n",
    " 251   0%             quote = not quote\n",
    " 252  11%         elif not tag:\n",
    " 253   4%             out = out + c\n",
    " 254   0%\n",
    " 255   3%     return out\n",
    "\n",
    "\n",
    "```\n",
    "The sum of all percentages in a function should always be 100%.\n",
    "\n",
    "These percentages can also be visualized, where darker shades represent higher percentage values:\n",
    "\n",
    "```python\n",
    ">>> debugger\n",
    "```\n",
    "<pre style=\"background-color:hsl(240, 100%, 96.56537086488727%)\"\n",
    "                    title=\"Line 238:   2% 0.000450075999992805\"> 238 def remove_html_markup(s):  # type: ignore</pre>\n",
    "<pre style=\"background-color:hsl(240, 100%, 97.03691923167042%)\"\n",
    "                    title=\"Line 239:   1% 0.0003882840002233934\"> 239     tag = False</pre>\n",
    "<pre style=\"background-color:hsl(240, 100%, 97.19823560027139%)\"\n",
    "                    title=\"Line 240:   1% 0.0003671450000410914\"> 240     quote = False</pre>\n",
    "<pre style=\"background-color:hsl(240, 100%, 97.33649804870912%)\"\n",
    "                    title=\"Line 241:   1% 0.0003490270003112528\"> 241     out = &quot;&quot;</pre>\n",
    "<pre style=\"background-color:hsl(240, 100%, 100.0%)\"\n",
    "                    title=\"Line 242:   0% 0.0\"> 242 &nbsp;</pre>\n",
    "<pre style=\"background-color:hsl(240, 100%, 75.0%)\"\n",
    "                    title=\"Line 243:  16% 0.003276015999745141\"> 243     for c in s:</pre>\n",
    "<pre style=\"background-color:hsl(240, 100%, 77.41669302109725%)\"\n",
    "                    title=\"Line 244:  15% 0.0029593309996016615\"> 244         assert tag or not quote</pre>\n",
    "<pre style=\"background-color:hsl(240, 100%, 100.0%)\"\n",
    "                    title=\"Line 245:   0% 0.0\"> 245 &nbsp;</pre>\n",
    "<pre style=\"background-color:hsl(240, 100%, 77.20013425471288%)\"\n",
    "                    title=\"Line 246:  15% 0.002987708998944072\"> 246         if c == &#x27;&lt;&#x27; and not quote:</pre>\n",
    "<pre style=\"background-color:hsl(240, 100%, 95.53504927673406%)\"\n",
    "                    title=\"Line 247:   2% 0.000585090000299715\"> 247             tag = True</pre>\n",
    "<pre style=\"background-color:hsl(240, 100%, 82.00740625243591%)\"\n",
    "                    title=\"Line 248:  11% 0.0023577609997573745\"> 248         elif c == &#x27;&gt;&#x27; and not quote:</pre>\n",
    "<pre style=\"background-color:hsl(240, 100%, 95.44803047853415%)\"\n",
    "                    title=\"Line 249:   3% 0.0005964929993069745\"> 249             tag = False</pre>\n",
    "<pre style=\"background-color:hsl(240, 100%, 86.8139380304797%)\"\n",
    "                    title=\"Line 250:   8% 0.0017279099994311764\"> 250         elif (c == &#x27;&quot;&#x27; or c == &quot;&#x27;&quot;) and tag:</pre>\n",
    "<pre style=\"background-color:hsl(240, 100%, 100.0%)\"\n",
    "                    title=\"Line 251:   0% 0.0\"> 251             quote = not quote</pre>\n",
    "<pre style=\"background-color:hsl(240, 100%, 83.46290891870828%)\"\n",
    "                    title=\"Line 252:  11% 0.002167030998862174\"> 252         elif not tag:</pre>\n",
    "<pre style=\"background-color:hsl(240, 100%, 93.33588419757938%)\"\n",
    "                    title=\"Line 253:   4% 0.0008732699997153759\"> 253             out = out + c</pre>\n",
    "<pre style=\"background-color:hsl(240, 100%, 100.0%)\"\n",
    "                    title=\"Line 254:   0% 0.0\"> 254 &nbsp;</pre>\n",
    "<pre style=\"background-color:hsl(240, 100%, 95.43511844361407%)\"\n",
    "                    title=\"Line 255:   3% 0.0005981850006264722\"> 255     return out</pre>\n",
    "\n",
    "\n",
    "The abstract `MetricCollector` class allows subclassing to build more collectors, such as `HitCollector`.\n",
    "\n",
    "![](PICS/PerformanceDebugger-synopsis-1.svg)\n",
    "\n"
   ]
  },
  {
   "cell_type": "markdown",
   "metadata": {
    "slideshow": {
     "slide_type": "slide"
    }
   },
   "source": [
    "## Measuring Performance\n",
    "\n",
    "The solution to debugging performance issues fits in two simple rules:\n",
    "\n",
    "1. _Measure_ performance\n",
    "2. _Break down_ how individual parts of your code contribute to performance.\n",
    "\n",
    "The first part, actually _measuring_ performance, is key here. Developers often take elaborated guesses on which aspects of their code impact performance, and think about all possible ways to optimize their code – and at the same time, making it harder to understand, harder to evolve, and harder to maintain. In most cases, such guesses are wrong. Instead, _measure_ performance of your program, _identify_ the very few parts that may need to get improved, and again _measure_ the impact of your changes."
   ]
  },
  {
   "cell_type": "markdown",
   "metadata": {
    "slideshow": {
     "slide_type": "subslide"
    }
   },
   "source": [
    "Almost all programming languages offer a way to measure performance and breaking it down to individual parts of the code – a means also known as *profiling*. Profiling works by measuring the execution time for each function (or even more fine-grained location) in your program. This can be achieved by\n",
    "\n",
    "1. _Instrumenting_ or _tracing_ code such that the current time at entry and exit of each function (or line), thus determining the time spent. In Python, this is achieved by profilers like [profile or cProfile](https://docs.python.org/3/library/profile.html)\n",
    "\n",
    "2. _Sampling_ the current function call stack at regular intervals, and thus assessing which functions are most active (= take the most time) during execution. For Python, the [scalene](https://github.com/plasma-umass/scalene) profiler works this way.\n",
    "\n",
    "Pretty much all programming languages support profiling, either through measuring, sampling, or both. As a rule of thumb, _interpreted_ languages more frequently support measuring (as it is easy to implement in an interpreter), while _compiled_ languages more frequently support sampling (because instrumentation requires recompilation). Python is lucky to support both methods."
   ]
  },
  {
   "cell_type": "markdown",
   "metadata": {
    "slideshow": {
     "slide_type": "subslide"
    }
   },
   "source": [
    "### Tracing Execution Profiles\n",
    "\n",
    "Let us illustrate profiling in a simple example. The `ChangeCounter` class (which we will encounter in the [chapter on mining version histories](ChangeCounter.ipynb) reads in a version history from a git repository. Yet, it takes more than a minute to read in the debugging book change history:"
   ]
  },
  {
   "cell_type": "code",
   "execution_count": 4,
   "metadata": {
    "execution": {
     "iopub.execute_input": "2021-12-13T16:18:03.386663Z",
     "iopub.status.busy": "2021-12-13T16:18:03.385718Z",
     "iopub.status.idle": "2021-12-13T16:18:05.688328Z",
     "shell.execute_reply": "2021-12-13T16:18:05.688826Z"
    },
    "slideshow": {
     "slide_type": "skip"
    }
   },
   "outputs": [],
   "source": [
    "from ChangeCounter import ChangeCounter, debuggingbook_change_counter  # minor dependency"
   ]
  },
  {
   "cell_type": "code",
   "execution_count": 5,
   "metadata": {
    "execution": {
     "iopub.execute_input": "2021-12-13T16:18:05.694455Z",
     "iopub.status.busy": "2021-12-13T16:18:05.693531Z",
     "iopub.status.idle": "2021-12-13T16:18:05.695879Z",
     "shell.execute_reply": "2021-12-13T16:18:05.696749Z"
    },
    "slideshow": {
     "slide_type": "skip"
    }
   },
   "outputs": [],
   "source": [
    "import Timer"
   ]
  },
  {
   "cell_type": "code",
   "execution_count": 6,
   "metadata": {
    "execution": {
     "iopub.execute_input": "2021-12-13T16:18:05.703253Z",
     "iopub.status.busy": "2021-12-13T16:18:05.702097Z",
     "iopub.status.idle": "2021-12-13T16:22:31.034961Z",
     "shell.execute_reply": "2021-12-13T16:22:31.030335Z"
    },
    "slideshow": {
     "slide_type": "fragment"
    }
   },
   "outputs": [],
   "source": [
    "with Timer.Timer() as t:\n",
    "    change_counter = debuggingbook_change_counter(ChangeCounter)"
   ]
  },
  {
   "cell_type": "code",
   "execution_count": 7,
   "metadata": {
    "execution": {
     "iopub.execute_input": "2021-12-13T16:22:31.057359Z",
     "iopub.status.busy": "2021-12-13T16:22:31.056385Z",
     "iopub.status.idle": "2021-12-13T16:22:31.063036Z",
     "shell.execute_reply": "2021-12-13T16:22:31.064079Z"
    },
    "slideshow": {
     "slide_type": "fragment"
    }
   },
   "outputs": [
    {
     "data": {
      "text/plain": [
       "265.281492511"
      ]
     },
     "execution_count": 7,
     "metadata": {},
     "output_type": "execute_result"
    }
   ],
   "source": [
    "t.elapsed_time()"
   ]
  },
  {
   "cell_type": "markdown",
   "metadata": {
    "slideshow": {
     "slide_type": "subslide"
    }
   },
   "source": [
    "The Python `profile` and `cProfile` modules offer a simple way to identify the most time-consuming functions. They are invoked using the `run()` function, whose argument is the command to be profiled. The output reports, for each function encountered:\n",
    "\n",
    "* How often it was called (`ncalls` column)\n",
    "* How much time was spent in the given function, _excluding_ time spent in calls to sub-functions (`tottime` column)\n",
    "* The fraction of `tottime` / `ncalls` (first `percall` column)\n",
    "* How much time was spent in the given function, _including_ time spent in calls to sub-functions (`cumtime` column)\n",
    "* The fraction of `cumtime` / `percall` (second `percall` column)\n",
    "\n",
    "Let us have a look at the profile we obtain:"
   ]
  },
  {
   "cell_type": "code",
   "execution_count": 8,
   "metadata": {
    "execution": {
     "iopub.execute_input": "2021-12-13T16:22:31.071354Z",
     "iopub.status.busy": "2021-12-13T16:22:31.069798Z",
     "iopub.status.idle": "2021-12-13T16:22:31.072433Z",
     "shell.execute_reply": "2021-12-13T16:22:31.073009Z"
    },
    "slideshow": {
     "slide_type": "skip"
    }
   },
   "outputs": [],
   "source": [
    "import cProfile"
   ]
  },
  {
   "cell_type": "code",
   "execution_count": 9,
   "metadata": {
    "execution": {
     "iopub.execute_input": "2021-12-13T16:22:31.078808Z",
     "iopub.status.busy": "2021-12-13T16:22:31.078080Z",
     "iopub.status.idle": "2021-12-13T16:26:44.774306Z",
     "shell.execute_reply": "2021-12-13T16:26:44.774874Z"
    },
    "slideshow": {
     "slide_type": "subslide"
    }
   },
   "outputs": [
    {
     "name": "stdout",
     "output_type": "stream",
     "text": [
      "         13617046 function calls (13519534 primitive calls) in 253.242 seconds\n",
      "\n",
      "   Ordered by: cumulative time\n",
      "\n",
      "   ncalls  tottime  percall  cumtime  percall filename:lineno(function)\n",
      "        1    0.000    0.000  253.242  253.242 {built-in method builtins.exec}\n",
      "        1    0.007    0.007  253.242  253.242 <string>:1(<module>)\n",
      "        1    0.002    0.002  253.235  253.235 ChangeCounter.ipynb:165(debuggingbook_change_counter)\n",
      "        1    0.000    0.000  253.233  253.233 ChangeCounter.ipynb:51(__init__)\n",
      "        1    2.858    2.858  253.233  253.233 ChangeCounter.ipynb:88(mine)\n",
      "      913    0.040    0.000  249.668    0.273 ChangeCounter.ipynb:99(mine_commit)\n",
      "      913    0.303    0.000  249.334    0.273 commit.py:657(modified_files)\n",
      "      913    0.061    0.000  249.029    0.273 commit.py:673(_get_modifications)\n",
      "      880    0.741    0.001  135.848    0.154 diff.py:95(diff)\n",
      "      880   14.678    0.017  116.095    0.132 diff.py:445(_index_from_patch_format)\n",
      "      913    0.148    0.000  112.935    0.124 commit.py:707(_parse_diff)\n",
      "    16546    0.913    0.000  110.417    0.007 commit.py:736(_get_decoded_sc_str)\n",
      "   689528   77.743    0.000   77.743    0.000 {method 'decode' of 'bytes' objects}\n",
      "      880    0.158    0.000   72.265    0.082 cmd.py:71(handle_process_output)\n",
      "     8854   71.269    0.008   71.269    0.008 {method 'acquire' of '_thread.lock' objects}\n",
      "     1762    0.017    0.000   71.074    0.040 threading.py:1021(join)\n",
      "     1762    0.022    0.000   71.052    0.040 threading.py:1059(_wait_for_tstate_lock)\n",
      "    53610    0.227    0.000   30.844    0.001 cmd.py:528(read)\n",
      "    45174    0.060    0.000   30.631    0.001 base.py:137(read)\n",
      "   107198   30.597    0.000   30.597    0.000 {method 'read' of '_io.BufferedReader' objects}\n",
      "     8273    0.232    0.000   27.387    0.003 diff.py:290(__init__)\n",
      "     7523    0.115    0.000   26.739    0.004 base.py:363(submodules)\n",
      "     7523    0.217    0.000   26.625    0.004 util.py:1092(list_items)\n",
      "17269/17266    0.059    0.000   26.380    0.002 {method 'extend' of 'list' objects}\n",
      "    22569    0.296    0.000   26.322    0.001 base.py:1228(iter_items)\n",
      "      901    0.401    0.000   19.654    0.022 cmd.py:1114(_call_process)\n",
      "      901    0.442    0.000   19.218    0.021 cmd.py:726(execute)\n",
      "      881    0.095    0.000   18.998    0.022 cmd.py:638(<lambda>)\n",
      "      901    0.267    0.000   18.150    0.020 subprocess.py:756(__init__)\n",
      "      901    0.348    0.000   17.819    0.020 subprocess.py:1661(_execute_child)\n",
      "      901   13.585    0.015   13.585    0.015 {built-in method _posixsubprocess.fork_exec}\n",
      "    83702    0.879    0.000   11.271    0.000 cmd.py:1235(__get_object_header)\n",
      "    39408    0.120    0.000    9.397    0.000 util.py:248(__getattr__)\n",
      "    53610    0.276    0.000    9.182    0.000 db.py:46(stream)\n",
      "    22569    0.069    0.000    9.103    0.000 base.py:527(commit)\n",
      "   137941    8.705    0.000    8.707    0.000 {method 'readline' of '_io.BufferedReader' objects}\n",
      "    53610    0.462    0.000    8.694    0.000 cmd.py:1263(stream_object_data)\n",
      "    22569    0.036    0.000    8.069    0.000 symbolic.py:212(_get_commit)\n",
      "    22569    0.073    0.000    8.033    0.000 symbolic.py:203(_get_object)\n",
      "52661/15046    0.087    0.000    7.399    0.000 tree.py:347(__getitem__)\n",
      "52661/15046    0.321    0.000    7.346    0.000 tree.py:245(join)\n",
      "    30092    0.121    0.000    6.481    0.000 tree.py:224(_set_cache_)\n",
      "    30092    0.083    0.000    5.984    0.000 symbolic.py:143(dereference_recursive)\n",
      "    60185    0.197    0.000    5.901    0.000 symbolic.py:196(_get_ref_info)\n",
      "    60185    0.546    0.000    5.704    0.000 symbolic.py:156(_get_ref_info_helper)\n",
      "    30092    0.219    0.000    5.129    0.000 base.py:75(new_from_sha)\n",
      "     7523    0.131    0.000    4.648    0.001 base.py:196(_config_parser)\n",
      "    30092    0.156    0.000    4.422    0.000 db.py:42(info)\n",
      "    30092    0.075    0.000    4.152    0.000 cmd.py:1243(get_object_header)\n",
      "    69680    3.359    0.000    3.481    0.000 {built-in method io.open}\n",
      "     7523    0.137    0.000    3.447    0.000 fun.py:191(rev_parse)\n",
      "    15082    0.043    0.000    3.347    0.000 base.py:129(data_stream)\n",
      "     7523    0.073    0.000    3.295    0.000 fun.py:121(name_to_object)\n",
      "      901    3.126    0.003    3.126    0.003 {built-in method posix.read}\n",
      "     9316    0.076    0.000    2.774    0.000 commit.py:196(_set_cache_)\n",
      "60302/52700    0.153    0.000    2.148    0.000 config.py:104(assure_data_present)\n",
      "     7523    0.135    0.000    1.850    0.000 util.py:72(__init__)\n",
      "     7561    0.080    0.000    1.723    0.000 config.py:281(__init__)\n",
      "     7561    0.135    0.000    1.638    0.000 configparser.py:601(__init__)\n",
      "      880    1.618    0.002    1.618    0.002 {method 'join' of 'bytes' objects}\n",
      "60302/52741    0.114    0.000    1.533    0.000 config.py:543(read)\n",
      "    30092    1.090    0.000    1.513    0.000 fun.py:59(tree_entries_from_data)\n",
      "     8273    0.012    0.000    1.309    0.000 commit.py:726(_get_decoded_str)\n",
      "     7561    0.305    0.000    1.239    0.000 configparser.py:1320(__init__)\n",
      "     8273    0.085    0.000    0.944    0.000 commit.py:153(__init__)\n",
      "     7561    0.394    0.000    0.880    0.000 config.py:391(_read)\n",
      "    83702    0.070    0.000    0.863    0.000 cmd.py:1221(_get_persistent_cmd)\n",
      "    15319    0.077    0.000    0.859    0.000 pathlib.py:1079(__new__)\n",
      "    60257    0.612    0.000    0.789    0.000 {method 'read' of '_io.TextIOWrapper' objects}\n",
      "    15321    0.040    0.000    0.775    0.000 pathlib.py:702(_from_parts)\n",
      "    15321    0.080    0.000    0.725    0.000 pathlib.py:682(_parse_args)\n",
      "      914    0.004    0.000    0.706    0.001 repository.py:201(traverse_commits)\n",
      "     8436    0.189    0.000    0.685    0.000 commit.py:525(_deserialize)\n",
      "    67821    0.656    0.000    0.656    0.000 {method '__exit__' of '_io._IOBase' objects}\n",
      "     7561    0.640    0.000    0.640    0.000 {built-in method builtins.dir}\n",
      "    83702    0.639    0.000    0.640    0.000 {method 'flush' of '_io.BufferedWriter' objects}\n",
      "    15321    0.121    0.000    0.624    0.000 pathlib.py:64(parse_parts)\n",
      "     9186    0.008    0.000    0.619    0.000 commit.py:564(committer_date)\n",
      "     9186    0.010    0.000    0.611    0.000 commit.py:209(committed_datetime)\n",
      "      917    0.025    0.000    0.532    0.001 repository.py:236(_iter_commits)\n",
      "  1036591    0.522    0.000    0.522    0.000 {method 'match' of 're.Pattern' objects}\n",
      "   137963    0.480    0.000    0.480    0.000 {method 'split' of 'str' objects}\n",
      "    87146    0.309    0.000    0.476    0.000 posixpath.py:71(join)\n",
      "     1762    0.021    0.000    0.466    0.000 threading.py:873(start)\n",
      "    83702    0.320    0.000    0.439    0.000 cmd.py:1185(_parse_object_header)\n",
      "    83702    0.261    0.000    0.429    0.000 cmd.py:1207(_prepare_ref)\n",
      "     1762    0.132    0.000    0.428    0.000 threading.py:795(__init__)\n",
      "    30129    0.094    0.000    0.417    0.000 configparser.py:765(get)\n",
      "   525732    0.263    0.000    0.399    0.000 cmd.py:466(__getattr__)\n",
      "      901    0.067    0.000    0.367    0.000 os.py:711(copy)\n",
      "   263305    0.198    0.000    0.364    0.000 compat.py:49(safe_decode)\n",
      "     1763    0.033    0.000    0.343    0.000 threading.py:556(wait)\n",
      "    16872    0.072    0.000    0.299    0.000 util.py:268(parse_actor_and_date)\n",
      "     1763    0.029    0.000    0.294    0.000 threading.py:280(wait)\n",
      "    30092    0.164    0.000    0.291    0.000 util.py:85(get_object_type_by_name)\n",
      "      901    0.097    0.000    0.291    0.000 subprocess.py:1207(_close_pipe_fds)\n",
      "    15317    0.189    0.000    0.277    0.000 util.py:69(mode_str_to_int)\n",
      "    15046    0.102    0.000    0.266    0.000 base.py:335(index)\n",
      "    61133    0.116    0.000    0.254    0.000 base.py:153(__init__)\n",
      "  1176399    0.235    0.000    0.242    0.000 {built-in method builtins.isinstance}\n",
      "   686883    0.241    0.000    0.242    0.000 {built-in method builtins.getattr}\n",
      "     7561    0.169    0.000    0.238    0.000 configparser.py:1243(__init__)\n",
      "    31005    0.077    0.000    0.231    0.000 tree.py:214(__init__)\n",
      "   100607    0.203    0.000    0.225    0.000 base.py:50(__init__)\n",
      "      921    0.166    0.000    0.205    0.000 cmd.py:463(__del__)\n",
      "    52697    0.155    0.000    0.202    0.000 util.py:163(join_path)\n",
      "    39474    0.115    0.000    0.201    0.000 commit.py:84(__init__)\n",
      "      901    0.026    0.000    0.196    0.000 util.py:412(remove_password_if_present)\n",
      "   172992    0.103    0.000    0.182    0.000 os.py:804(fsencode)\n",
      "    74820    0.078    0.000    0.180    0.000 os.py:674(__getitem__)\n",
      "    60257    0.123    0.000    0.177    0.000 codecs.py:319(decode)\n",
      "    30129    0.092    0.000    0.170    0.000 configparser.py:1142(_unify_values)\n",
      "    15046    0.041    0.000    0.164    0.000 base.py:117(__init__)\n",
      "     9186    0.029    0.000    0.150    0.000 util.py:167(from_timestamp)\n",
      "     8866    0.070    0.000    0.150    0.000 parse.py:437(urlsplit)\n",
      "     1762    0.019    0.000    0.149    0.000 _weakrefset.py:86(add)\n",
      "      901    0.041    0.000    0.146    0.000 os.py:619(get_exec_path)\n",
      "    30129    0.106    0.000    0.142    0.000 __init__.py:935(__getitem__)\n",
      "     7564    0.024    0.000    0.140    0.000 config.py:489(_has_includes)\n",
      "    48983    0.138    0.000    0.138    0.000 {method 'search' of 're.Pattern' objects}\n",
      "      881    0.031    0.000    0.138    0.000 util.py:383(finalize_process)\n",
      "     2665    0.130    0.000    0.130    0.000 {method 'add' of 'set' objects}\n",
      "     1822    0.071    0.000    0.127    0.000 contextlib.py:452(callback)\n",
      "      914    0.001    0.000    0.127    0.000 git.py:106(get_list_commits)\n",
      "    15046    0.028    0.000    0.123    0.000 base.py:157(_index_path)\n",
      "    60257    0.082    0.000    0.121    0.000 codecs.py:309(__init__)\n",
      "   477560    0.120    0.000    0.120    0.000 {built-in method builtins.len}\n",
      "    22570    0.055    0.000    0.118    0.000 base.py:342(head)\n",
      "    75684    0.025    0.000    0.118    0.000 _collections_abc.py:825(__iter__)\n",
      "      914    0.001    0.000    0.116    0.000 commit.py:318(_iter_from_process_or_stream)\n",
      "     1761    0.032    0.000    0.115    0.000 cmd.py:470(wait)\n",
      "    83831    0.115    0.000    0.115    0.000 {method 'write' of '_io.BufferedWriter' objects}\n",
      "     7561    0.042    0.000    0.114    0.000 config.py:492(_included_paths)\n",
      "    60185    0.082    0.000    0.103    0.000 symbolic.py:43(_git_dir)\n",
      "    75350    0.085    0.000    0.102    0.000 config.py:192(__getitem__)\n",
      "   331643    0.101    0.000    0.101    0.000 {method 'encode' of 'str' objects}\n",
      "    16546    0.017    0.000    0.101    0.000 diff.py:432(_pick_best_path)\n",
      "     1762    0.100    0.000    0.100    0.000 {built-in method _thread.start_new_thread}\n",
      "     1781    0.008    0.000    0.100    0.000 subprocess.py:1184(wait)\n",
      "   189586    0.099    0.000    0.099    0.000 {method 'endswith' of 'str' objects}\n",
      "    19822    0.020    0.000    0.097    0.000 subprocess.py:1749(<genexpr>)\n",
      "    15082    0.024    0.000    0.096    0.000 util.py:200(join_path_native)\n",
      "   154670    0.095    0.000    0.095    0.000 {method 'startswith' of 'str' objects}\n",
      "    15046    0.040    0.000    0.094    0.000 base.py:114(__init__)\n",
      "     1781    0.031    0.000    0.092    0.000 subprocess.py:1885(_wait)\n",
      "    75684    0.050    0.000    0.092    0.000 os.py:697(__iter__)\n",
      "    53168    0.091    0.000    0.092    0.000 config.py:180(__setitem__)\n",
      "    16872    0.033    0.000    0.091    0.000 util.py:665(_from_string)\n",
      "    53610    0.050    0.000    0.090    0.000 base.py:128(__new__)\n",
      "     8273    0.059    0.000    0.089    0.000 commit.py:907(_from_change_to_modification_type)\n",
      "     1763    0.014    0.000    0.086    0.000 threading.py:521(__init__)\n",
      "   468341    0.086    0.000    0.086    0.000 {method 'append' of 'list' objects}\n",
      "   149566    0.047    0.000    0.084    0.000 os.py:758(decode)\n",
      "    15046    0.066    0.000    0.084    0.000 symbolic.py:439(to_full_path)\n",
      "    16546    0.053    0.000    0.084    0.000 diff.py:54(decode_path)\n",
      "   100607    0.084    0.000    0.084    0.000 {method 'split' of 'bytes' objects}\n",
      "    58774    0.082    0.000    0.082    0.000 {built-in method sys.intern}\n",
      "   146694    0.081    0.000    0.081    0.000 {built-in method binascii.a2b_hex}\n",
      "     8273    0.007    0.000    0.076    0.000 ChangeCounter.ipynb:109(include)\n",
      "   108106    0.075    0.000    0.075    0.000 {built-in method __new__ of type object at 0x10f9da3c8}\n",
      "    91902    0.074    0.000    0.074    0.000 typing.py:269(inner)\n",
      "    89203    0.043    0.000    0.073    0.000 posixpath.py:41(_get_sep)\n",
      "    53610    0.072    0.000    0.072    0.000 cmd.py:517(__init__)\n",
      "     8273    0.015    0.000    0.068    0.000 ChangeCounter.ipynb:173(filter)\n",
      "    30093    0.047    0.000    0.068    0.000 <frozen importlib._bootstrap>:398(parent)\n",
      "    88851    0.064    0.000    0.064    0.000 {built-in method binascii.b2a_hex}\n",
      "    22571    0.052    0.000    0.063    0.000 head.py:38(__init__)\n",
      "     9186    0.055    0.000    0.062    0.000 {built-in method fromtimestamp}\n",
      "      901    0.059    0.000    0.060    0.000 warnings.py:458(__enter__)\n",
      "    74820    0.036    0.000    0.060    0.000 os.py:754(encode)\n",
      "    30093    0.042    0.000    0.059    0.000 <frozen importlib._bootstrap>:1033(_handle_fromlist)\n",
      "       74    0.003    0.000    0.059    0.001 base.py:108(__init__)\n",
      "       36    0.000    0.000    0.058    0.002 util.py:98(wrapper)\n",
      "      901    0.005    0.000    0.058    0.000 subprocess.py:1872(_try_wait)\n",
      "       36    0.001    0.000    0.058    0.002 base.py:1103(module)\n",
      "    60257    0.054    0.000    0.054    0.000 {built-in method _codecs.utf_8_decode}\n",
      "    30092    0.033    0.000    0.053    0.000 base.py:35(__new__)\n",
      "      941    0.053    0.000    0.053    0.000 {built-in method posix.waitpid}\n",
      "    15046    0.035    0.000    0.052    0.000 configparser.py:877(has_option)\n",
      "    20659    0.019    0.000    0.050    0.000 commit.py:227(new_path)\n",
      "    15279    0.050    0.000    0.050    0.000 {method 'get' of 'dict' objects}\n",
      "     1768    0.048    0.000    0.048    0.000 threading.py:228(__init__)\n",
      "    30562    0.046    0.000    0.046    0.000 config.py:183(add)\n",
      "    83569    0.046    0.000    0.046    0.000 {method 'group' of 're.Match' objects}\n",
      "   278220    0.046    0.000    0.046    0.000 {built-in method posix.fspath}\n",
      "    53610    0.043    0.000    0.043    0.000 base.py:132(__init__)\n",
      "    16872    0.042    0.000    0.042    0.000 util.py:110(utctz_to_altz)\n",
      "      549    0.009    0.000    0.041    0.000 ChangeCounter.ipynb:118(update_stats)\n",
      "      901    0.040    0.000    0.040    0.000 cmd.py:416(__init__)\n",
      "    60257    0.040    0.000    0.040    0.000 codecs.py:260(__init__)\n",
      "    76360    0.032    0.000    0.039    0.000 {built-in method builtins.hasattr}\n",
      "   160611    0.039    0.000    0.039    0.000 {method 'strip' of 'str' objects}\n",
      "    82660    0.038    0.000    0.038    0.000 {method 'startswith' of 'bytes' objects}\n",
      "      921    0.006    0.000    0.037    0.000 cmd.py:421(_terminate)\n",
      "    15084    0.031    0.000    0.036    0.000 configparser.py:644(sections)\n",
      "      901    0.024    0.000    0.035    0.000 contextlib.py:489(__exit__)\n",
      "    21853    0.024    0.000    0.035    0.000 base.py:105(__ne__)\n",
      "     9186    0.028    0.000    0.034    0.000 {method 'astimezone' of 'datetime.datetime' objects}\n",
      "     4430    0.034    0.000    0.034    0.000 {built-in method _thread.allocate_lock}\n",
      "     1822    0.026    0.000    0.034    0.000 contextlib.py:470(_push_exit_callback)\n",
      "       18    0.000    0.000    0.033    0.002 base.py:1121(module_exists)\n",
      "    90891    0.033    0.000    0.033    0.000 {method 'rstrip' of 'str' objects}\n",
      "    53610    0.032    0.000    0.032    0.000 cmd.py:604(__del__)\n",
      "     1762    0.029    0.000    0.032    0.000 threading.py:1209(_make_invoke_excepthook)\n",
      "    42017    0.031    0.000    0.031    0.000 {method 'groups' of 're.Match' objects}\n",
      "    20184    0.021    0.000    0.031    0.000 pathlib.py:742(__str__)\n",
      "      901    0.028    0.000    0.028    0.000 contextlib.py:408(__init__)\n",
      "       39    0.000    0.000    0.027    0.001 cmd.py:1273(clear_cache)\n",
      "    15637    0.020    0.000    0.027    0.000 diff.py:403(a_path)\n",
      "    30129    0.026    0.000    0.026    0.000 __init__.py:925(__init__)\n",
      "     9186    0.025    0.000    0.025    0.000 util.py:147(__init__)\n",
      "        2    0.000    0.000    0.025    0.012 {built-in method builtins.next}\n",
      "        2    0.002    0.001    0.025    0.012 repository.py:166(_prep_repo)\n",
      " 7944/901    0.016    0.000    0.024    0.000 cmd.py:1069(__unpack_args)\n",
      "    15046    0.020    0.000    0.024    0.000 util.py:34(sm_name)\n",
      "    30092    0.023    0.000    0.023    0.000 base.py:38(__init__)\n",
      "    38959    0.023    0.000    0.023    0.000 {method 'rpartition' of 'str' objects}\n",
      "     8273    0.017    0.000    0.022    0.000 commit.py:526(committer)\n",
      "    16872    0.021    0.000    0.021    0.000 util.py:646(__init__)\n",
      "      549    0.021    0.000    0.021    0.000 ChangeCounter.ipynb:134(update_size)\n",
      "    30129    0.021    0.000    0.021    0.000 base.py:296(common_dir)\n",
      "     7523    0.017    0.000    0.021    0.000 util.py:970(__new__)\n",
      "      901    0.006    0.000    0.021    0.000 subprocess.py:1568(_get_handles)\n",
      "      901    0.010    0.000    0.021    0.000 warnings.py:165(simplefilter)\n",
      "     2723    0.020    0.000    0.020    0.000 {built-in method posix.pipe}\n",
      "      913    0.013    0.000    0.020    0.000 conf.py:257(is_commit_filtered)\n",
      "     1822    0.020    0.000    0.020    0.000 contextlib.py:402(_create_cb_wrapper)\n",
      "    37825    0.019    0.000    0.019    0.000 {built-in method builtins.setattr}\n",
      "        1    0.001    0.001    0.019    0.019 contextlib.py:123(__exit__)\n",
      "    15991    0.014    0.000    0.019    0.000 diff.py:407(b_path)\n",
      "      901    0.019    0.000    0.019    0.000 {built-in method posix.access}\n",
      "   117216    0.019    0.000    0.019    0.000 typing.py:1353(cast)\n",
      "     8866    0.008    0.000    0.018    0.000 parse.py:155(password)\n",
      "     3625    0.018    0.000    0.018    0.000 {built-in method posix.close}\n",
      "      901    0.017    0.000    0.017    0.000 warnings.py:437(__init__)\n",
      "     7462    0.006    0.000    0.017    0.000 config.py:352(__del__)\n",
      "    75479    0.017    0.000    0.017    0.000 {function _OMD.__getitem__ at 0x13142aaf0}\n",
      "     1760    0.017    0.000    0.017    0.000 threading.py:750(_newname)\n",
      "   146/74    0.001    0.000    0.016    0.000 fun.py:85(find_submodule_git_dir)\n",
      "        2    0.000    0.000    0.016    0.008 git.py:73(clear)\n",
      "        1    0.004    0.004    0.016    0.016 _base.py:635(__exit__)\n",
      "     6827    0.011    0.000    0.015    0.000 diff.py:426(renamed_file)\n",
      "    15317    0.014    0.000    0.014    0.000 {method 'sub' of 're.Pattern' objects}\n",
      "    75738    0.014    0.000    0.014    0.000 config.py:387(optionxform)\n",
      "    15321    0.013    0.000    0.013    0.000 pathlib.py:303(splitroot)\n",
      "    42531    0.013    0.000    0.013    0.000 {method 'readline' of '_io.BytesIO' objects}\n",
      "     1776    0.009    0.000    0.013    0.000 threading.py:256(__enter__)\n",
      "     5149    0.007    0.000    0.012    0.000 base.py:123(hexsha)\n",
      "       37    0.000    0.000    0.012    0.000 base.py:240(__del__)\n",
      "       37    0.001    0.000    0.012    0.000 base.py:246(close)\n",
      "    22571    0.012    0.000    0.012    0.000 symbolic.py:65(__init__)\n",
      "    45838    0.012    0.000    0.012    0.000 {method 'lower' of 'str' objects}\n",
      "        1    0.002    0.002    0.011    0.011 thread.py:210(shutdown)\n",
      "    60184    0.011    0.000    0.011    0.000 {built-in method builtins.ord}\n",
      "     7463    0.009    0.000    0.011    0.000 config.py:364(release)\n",
      "    30092    0.011    0.000    0.011    0.000 base.py:52(type)\n",
      "     7798    0.006    0.000    0.011    0.000 pathlib.py:725(_format_parsed_parts)\n",
      "     1874    0.006    0.000    0.011    0.000 posixpath.py:150(dirname)\n",
      "     8866    0.008    0.000    0.010    0.000 parse.py:189(_userinfo)\n",
      "      901    0.006    0.000    0.010    0.000 warnings.py:181(_add_filter)\n",
      "     3524    0.008    0.000    0.010    0.000 threading.py:1338(current_thread)\n",
      "      183    0.001    0.000    0.010    0.000 fun.py:44(is_git_dir)\n",
      "     7523    0.007    0.000    0.010    0.000 base.py:99(__eq__)\n",
      "     8866    0.009    0.000    0.010    0.000 parse.py:114(_coerce_args)\n",
      "     3585    0.009    0.000    0.009    0.000 {method 'append' of 'collections.deque' objects}\n",
      "     5512    0.008    0.000    0.009    0.000 conf.py:45(get)\n",
      "       37    0.000    0.000    0.009    0.000 base.py:488(config_reader)\n",
      "        1    0.000    0.000    0.009    0.009 base.py:560(iter_commits)\n",
      "        1    0.000    0.000    0.009    0.009 commit.py:246(iter_items)\n",
      "      549    0.006    0.000    0.009    0.000 ChangeCounter.ipynb:142(update_changes)\n",
      "     8273    0.006    0.000    0.008    0.000 commit.py:591(msg)\n",
      "    54203    0.008    0.000    0.008    0.000 {method 'replace' of 'str' objects}\n",
      "     7523    0.008    0.000    0.008    0.000 util.py:973(__init__)\n",
      "    30092    0.008    0.000    0.008    0.000 base.py:42(binsha)\n",
      "     7561    0.006    0.000    0.008    0.000 configparser.py:1362(__iter__)\n",
      "     1762    0.006    0.000    0.008    0.000 threading.py:985(_stop)\n",
      "    27558    0.008    0.000    0.008    0.000 util.py:154(utcoffset)\n",
      "    30092    0.008    0.000    0.008    0.000 base.py:60(size)\n",
      "       78    0.000    0.000    0.008    0.000 parse.py:88(clear_cache)\n",
      "    15321    0.008    0.000    0.008    0.000 pathlib.py:1089(_init)\n",
      "      880    0.008    0.000    0.008    0.000 {method 'finditer' of 're.Pattern' objects}\n",
      "      156    0.008    0.000    0.008    0.000 {method 'clear' of 'dict' objects}\n",
      "    15082    0.007    0.000    0.007    0.000 util.py:194(to_native_path_linux)\n",
      "     1802    0.006    0.000    0.007    0.000 subprocess.py:1158(poll)\n",
      "      914    0.005    0.000    0.007    0.000 __init__.py:1436(info)\n",
      "     3524    0.007    0.000    0.007    0.000 threading.py:1127(daemon)\n",
      "      518    0.007    0.000    0.007    0.000 {built-in method posix.stat}\n",
      "      938    0.003    0.000    0.007    0.000 abc.py:117(__instancecheck__)\n",
      "    15118    0.007    0.000    0.007    0.000 base.py:290(working_tree_dir)\n",
      "    37805    0.006    0.000    0.006    0.000 {built-in method builtins.callable}\n",
      "     1762    0.005    0.000    0.006    0.000 _weakrefset.py:39(_remove)\n",
      "      913    0.003    0.000    0.006    0.000 commit.py:506(hash)\n",
      "     1822    0.002    0.000    0.006    0.000 contextlib.py:404(_exit_wrapper)\n",
      "        1    0.000    0.000    0.006    0.006 contextlib.py:114(__enter__)\n",
      "    30129    0.006    0.000    0.006    0.000 configparser.py:363(before_get)\n",
      "     9186    0.006    0.000    0.006    0.000 developer.py:24(__init__)\n",
      "     7523    0.006    0.000    0.006    0.000 fun.py:180(to_commit)\n",
      "      368    0.001    0.000    0.006    0.000 genericpath.py:39(isdir)\n",
      "        1    0.000    0.000    0.006    0.006 git.py:38(__init__)\n",
      "     1760    0.005    0.000    0.005    0.000 threading.py:1142(daemon)\n",
      "    36744    0.005    0.000    0.005    0.000 util.py:160(dst)\n",
      "      946    0.002    0.000    0.005    0.000 commit.py:600(parents)\n",
      "        1    0.000    0.000    0.005    0.005 git.py:82(_open_repository)\n",
      "     2365    0.003    0.000    0.005    0.000 __init__.py:1424(debug)\n",
      "     8170    0.005    0.000    0.005    0.000 {method 'join' of 'str' objects}\n",
      "    15084    0.005    0.000    0.005    0.000 {method 'keys' of 'collections.OrderedDict' objects}\n",
      "      371    0.003    0.000    0.004    0.000 posixpath.py:334(normpath)\n",
      "    18921    0.004    0.000    0.004    0.000 {method 'endswith' of 'bytes' objects}\n",
      "      923    0.003    0.000    0.004    0.000 cmd.py:180(dashify)\n",
      "     3279    0.004    0.000    0.004    0.000 __init__.py:1689(isEnabledFor)\n",
      "     1760    0.001    0.000    0.004    0.000 base.py:115(__str__)\n",
      "     7561    0.004    0.000    0.004    0.000 config.py:333(_acquire_lock)\n",
      "     1763    0.002    0.000    0.004    0.000 threading.py:271(_is_owned)\n",
      "      111    0.001    0.000    0.004    0.000 util.py:400(expand_path)\n",
      "      938    0.004    0.000    0.004    0.000 {built-in method _abc._abc_instancecheck}\n",
      "     7559    0.004    0.000    0.004    0.000 base.py:309(bare)\n",
      "     1763    0.002    0.000    0.004    0.000 threading.py:268(_acquire_restore)\n",
      "      901    0.004    0.000    0.004    0.000 {built-in method sys.exc_info}\n",
      "     1761    0.003    0.000    0.004    0.000 encoding.py:1(force_bytes)\n",
      "     8436    0.003    0.000    0.003    0.000 {method 'read' of '_io.BytesIO' objects}\n",
      "      905    0.003    0.000    0.003    0.000 {method 'remove' of 'list' objects}\n",
      "    15322    0.003    0.000    0.003    0.000 {method 'reverse' of 'list' objects}\n",
      "     9377    0.003    0.000    0.003    0.000 {method 'strip' of 'bytes' objects}\n",
      "     8273    0.003    0.000    0.003    0.000 {method 'end' of 're.Match' objects}\n",
      "      901    0.002    0.000    0.003    0.000 subprocess.py:1825(_handle_exitstatus)\n",
      "     1560    0.002    0.000    0.003    0.000 <string>:1(<lambda>)\n",
      "     7745    0.003    0.000    0.003    0.000 {method 'pop' of 'list' objects}\n",
      "      901    0.002    0.000    0.003    0.000 _collections_abc.py:775(keys)\n",
      "      913    0.002    0.000    0.003    0.000 commit.py:515(author)\n",
      "      901    0.003    0.000    0.003    0.000 subprocess.py:250(_cleanup)\n",
      "     7561    0.002    0.000    0.002    0.000 configparser.py:1190(converters)\n",
      "      901    0.002    0.000    0.002    0.000 subprocess.py:1045(__del__)\n",
      "     1776    0.002    0.000    0.002    0.000 threading.py:259(__exit__)\n",
      "     1802    0.002    0.000    0.002    0.000 {method 'close' of '_io.BufferedReader' objects}\n",
      "     7561    0.002    0.000    0.002    0.000 {built-in method builtins.iter}\n",
      "     6827    0.002    0.000    0.002    0.000 diff.py:411(rename_from)\n",
      "     1763    0.001    0.000    0.002    0.000 threading.py:265(_release_save)\n",
      "     3524    0.002    0.000    0.002    0.000 {built-in method _thread.get_ident}\n",
      "      902    0.002    0.000    0.002    0.000 {built-in method builtins.sorted}\n",
      "     6827    0.002    0.000    0.002    0.000 diff.py:415(rename_to)\n",
      "       37    0.000    0.000    0.002    0.000 configparser.py:826(getboolean)\n",
      "      880    0.002    0.000    0.002    0.000 base.py:90(_set_cache_)\n",
      "     7466    0.002    0.000    0.002    0.000 config.py:707(read_only)\n",
      "        3    0.000    0.000    0.002    0.001 config.py:659(write)\n",
      "     1761    0.002    0.000    0.002    0.000 cmd.py:632(__getattr__)\n",
      "      901    0.002    0.000    0.002    0.000 cmd.py:1148(<dictcomp>)\n",
      "      901    0.002    0.000    0.002    0.000 contextlib.py:486(__enter__)\n",
      "      901    0.002    0.000    0.002    0.000 warnings.py:477(__exit__)\n",
      "       37    0.000    0.000    0.002    0.000 configparser.py:805(_get_conv)\n",
      "      111    0.000    0.000    0.002    0.000 posixpath.py:373(abspath)\n",
      "      901    0.001    0.000    0.002    0.000 cmd.py:1058(transform_kwargs)\n",
      "     5284    0.002    0.000    0.002    0.000 threading.py:529(is_set)\n",
      "      2/1    0.000    0.000    0.002    0.002 config.py:117(flush_changes)\n",
      "     1822    0.002    0.000    0.002    0.000 {method 'pop' of 'collections.deque' objects}\n",
      "       37    0.000    0.000    0.002    0.000 configparser.py:802(_get)\n",
      "     7393    0.002    0.000    0.002    0.000 {method 'start' of 're.Match' objects}\n",
      "     2703    0.001    0.000    0.002    0.000 subprocess.py:1837(_internal_poll)\n",
      "       37    0.001    0.000    0.002    0.000 db.py:37(__init__)\n",
      "     8866    0.002    0.000    0.002    0.000 parse.py:103(_noop)\n",
      "     3565    0.001    0.000    0.001    0.000 {method 'release' of '_thread.lock' objects}\n",
      "     1768    0.001    0.000    0.001    0.000 {method '__enter__' of '_thread.lock' objects}\n",
      "       37    0.000    0.000    0.001    0.000 cmd.py:612(__init__)\n",
      "      113    0.000    0.000    0.001    0.000 genericpath.py:27(isfile)\n",
      "        1    0.000    0.000    0.001    0.001 config.py:791(set_value)\n",
      "     1560    0.001    0.000    0.001    0.000 {method 'find' of 'str' objects}\n",
      "     3605    0.001    0.000    0.001    0.000 {method 'items' of 'dict' objects}\n",
      "      973    0.001    0.000    0.001    0.000 {method 'rfind' of 'str' objects}\n",
      "     1770    0.001    0.000    0.001    0.000 {method '__exit__' of '_thread.RLock' objects}\n",
      "     3541    0.001    0.000    0.001    0.000 {method 'insert' of 'list' objects}\n",
      "      901    0.001    0.000    0.001    0.000 {method 'rfind' of 'bytes' objects}\n",
      "     2681    0.001    0.000    0.001    0.000 {method '__exit__' of '_thread.lock' objects}\n",
      "       37    0.000    0.000    0.001    0.000 genericpath.py:16(exists)\n",
      "      901    0.001    0.000    0.001    0.000 cmd.py:1156(<listcomp>)\n",
      "        2    0.000    0.000    0.001    0.000 pathlib.py:1209(resolve)\n",
      "       37    0.000    0.000    0.001    0.000 loose.py:77(__init__)\n",
      "      901    0.001    0.000    0.001    0.000 _collections_abc.py:802(__init__)\n",
      "     1762    0.001    0.000    0.001    0.000 {method 'discard' of 'set' objects}\n",
      "        2    0.000    0.000    0.001    0.000 pathlib.py:327(resolve)\n",
      "       37    0.000    0.000    0.001    0.000 re.py:198(search)\n",
      "        1    0.000    0.000    0.001    0.001 repository.py:230(<dictcomp>)\n",
      "        2    0.000    0.000    0.001    0.000 pathlib.py:331(_resolve)\n",
      "     2703    0.001    0.000    0.001    0.000 {built-in method _warnings._filters_mutated}\n",
      "        4    0.000    0.000    0.001    0.000 thread.py:155(submit)\n",
      "      913    0.000    0.000    0.001    0.000 git.py:130(get_commit_from_gitpython)\n",
      "        8    0.000    0.000    0.001    0.000 pathlib.py:461(readlink)\n",
      "        8    0.001    0.000    0.001    0.000 {built-in method posix.readlink}\n",
      "        1    0.000    0.000    0.001    0.001 git.py:88(_discover_main_branch)\n",
      "      901    0.001    0.000    0.001    0.000 cmd.py:1149(<dictcomp>)\n",
      "       20    0.000    0.000    0.001    0.000 subprocess.py:2072(terminate)\n",
      "        1    0.000    0.000    0.001    0.001 base.py:792(active_branch)\n",
      "       38    0.000    0.000    0.001    0.000 base.py:464(_get_config_path)\n",
      "        1    0.000    0.000    0.001    0.001 symbolic.py:288(_get_reference)\n",
      "     1760    0.001    0.000    0.001    0.000 threading.py:1113(is_alive)\n",
      "       72    0.000    0.000    0.001    0.000 _bootlocale.py:33(getpreferredencoding)\n",
      "        4    0.000    0.000    0.001    0.000 thread.py:174(_adjust_thread_count)\n",
      "       37    0.001    0.000    0.001    0.000 re.py:289(_compile)\n",
      "        4    0.001    0.000    0.001    0.000 _base.py:417(result)\n",
      "        1    0.001    0.001    0.001    0.001 symbolic.py:685(from_path)\n",
      "        3    0.000    0.000    0.001    0.000 config.py:615(_write)\n",
      "      901    0.001    0.000    0.001    0.000 {built-in method posix.WIFSTOPPED}\n",
      "        5    0.000    0.000    0.001    0.000 _base.py:201(as_completed)\n",
      "       20    0.001    0.000    0.001    0.000 {method 'close' of '_io.BufferedWriter' objects}\n",
      "      921    0.001    0.000    0.001    0.000 {method 'update' of 'dict' objects}\n",
      "        1    0.001    0.001    0.001    0.001 conf.py:191(build_args)\n",
      "       20    0.000    0.000    0.000    0.000 subprocess.py:2040(send_signal)\n",
      "       45    0.000    0.000    0.000    0.000 config.py:618(write_section)\n",
      "     1560    0.000    0.000    0.000    0.000 parse.py:419(_checknetloc)\n",
      "       37    0.000    0.000    0.000    0.000 _collections_abc.py:767(__contains__)\n",
      "      183    0.000    0.000    0.000    0.000 posixpath.py:60(isabs)\n",
      "       72    0.000    0.000    0.000    0.000 {built-in method _locale.nl_langinfo}\n",
      "      901    0.000    0.000    0.000    0.000 {built-in method posix.waitstatus_to_exitcode}\n",
      "       37    0.000    0.000    0.000    0.000 mman.py:408(collect)\n",
      "      901    0.000    0.000    0.000    0.000 {built-in method sys.audit}\n",
      "      880    0.000    0.000    0.000    0.000 util.py:257(_set_cache_)\n",
      "       36    0.000    0.000    0.000    0.000 base.py:197(abspath)\n",
      "     1766    0.000    0.000    0.000    0.000 {method 'locked' of '_thread.lock' objects}\n",
      "      913    0.000    0.000    0.000    0.000 commit.py:480(__init__)\n",
      "      111    0.000    0.000    0.000    0.000 posixpath.py:228(expanduser)\n",
      "      109    0.000    0.000    0.000    0.000 cmd.py:368(is_cygwin)\n",
      "       24    0.000    0.000    0.000    0.000 cmd.py:1042(transform_kwarg)\n",
      "      880    0.000    0.000    0.000    0.000 diff.py:86(_process_diff_args)\n",
      "        1    0.000    0.000    0.000    0.000 base.py:511(config_writer)\n",
      "       37    0.000    0.000    0.000    0.000 mman.py:303(_collect_lru_region)\n",
      "      901    0.000    0.000    0.000    0.000 {method 'pop' of 'dict' objects}\n",
      "      549    0.000    0.000    0.000    0.000 ChangeCounter.ipynb:152(update_elems)\n",
      "        1    0.000    0.000    0.000    0.000 thread.py:117(__init__)\n",
      "        6    0.000    0.000    0.000    0.000 _base.py:179(_yield_finished_futures)\n",
      "      111    0.000    0.000    0.000    0.000 posixpath.py:281(expandvars)\n",
      "       45    0.000    0.000    0.000    0.000 config.py:216(items_all)\n",
      "       37    0.000    0.000    0.000    0.000 configparser.py:1162(_convert_to_boolean)\n",
      "        4    0.000    0.000    0.000    0.000 util.py:878(_obtain_lock)\n",
      "        4    0.000    0.000    0.000    0.000 util.py:856(_obtain_lock_or_raise)\n",
      "       45    0.000    0.000    0.000    0.000 config.py:218(<listcomp>)\n",
      "       20    0.000    0.000    0.000    0.000 {built-in method posix.kill}\n",
      "        1    0.000    0.000    0.000    0.000 repository.py:246(_split_in_chunks)\n",
      "       85    0.000    0.000    0.000    0.000 config.py:786(_value_to_string)\n",
      "       36    0.000    0.000    0.000    0.000 base.py:266(__ne__)\n",
      "        4    0.000    0.000    0.000    0.000 threading.py:404(acquire)\n",
      "      331    0.000    0.000    0.000    0.000 {built-in method _stat.S_ISDIR}\n",
      "        1    0.000    0.000    0.000    0.000 {built-in method posix.open}\n",
      "        2    0.000    0.000    0.000    0.000 weakref.py:370(remove)\n",
      "      129    0.000    0.000    0.000    0.000 config.py:209(getall)\n",
      "        2    0.000    0.000    0.000    0.000 util.py:883(_release_lock)\n",
      "        1    0.000    0.000    0.000    0.000 util.py:139(rmfile)\n",
      "        2    0.000    0.000    0.000    0.000 threading.py:768(_maintain_shutdown_locks)\n",
      "        1    0.000    0.000    0.000    0.000 conf.py:77(sanity_check_filters)\n",
      "      109    0.000    0.000    0.000    0.000 util.py:347(is_cygwin_git)\n",
      "       36    0.000    0.000    0.000    0.000 base.py:261(__eq__)\n",
      "        3    0.000    0.000    0.000    0.000 config.py:212(items)\n",
      "        1    0.000    0.000    0.000    0.000 {built-in method posix.remove}\n",
      "        3    0.000    0.000    0.000    0.000 config.py:214(<listcomp>)\n",
      "        4    0.000    0.000    0.000    0.000 _base.py:317(__init__)\n",
      "       37    0.000    0.000    0.000    0.000 base.py:67(__init__)\n",
      "        1    0.000    0.000    0.000    0.000 repository.py:44(__init__)\n",
      "        1    0.000    0.000    0.000    0.000 threading.py:398(__init__)\n",
      "        1    0.000    0.000    0.000    0.000 _base.py:157(_create_and_install_waiters)\n",
      "        1    0.000    0.000    0.000    0.000 conf.py:287(_check_timezones)\n",
      "        5    0.000    0.000    0.000    0.000 {method 'put' of '_queue.SimpleQueue' objects}\n",
      "        2    0.000    0.000    0.000    0.000 repository.py:144(_is_remote)\n",
      "       85    0.000    0.000    0.000    0.000 encoding.py:11(force_text)\n",
      "       28    0.000    0.000    0.000    0.000 {method 'find' of 'bytes' objects}\n",
      "        1    0.000    0.000    0.000    0.000 conf.py:293(_replace_timezone)\n",
      "        1    0.000    0.000    0.000    0.000 conf.py:24(__init__)\n",
      "        1    0.000    0.000    0.000    0.000 reference.py:46(__init__)\n",
      "       75    0.000    0.000    0.000    0.000 {built-in method _stat.S_ISREG}\n",
      "       37    0.000    0.000    0.000    0.000 {method 'values' of 'dict' objects}\n",
      "        1    0.000    0.000    0.000    0.000 reference.py:100(name)\n",
      "        4    0.000    0.000    0.000    0.000 threading.py:82(RLock)\n",
      "        1    0.000    0.000    0.000    0.000 _base.py:79(__init__)\n",
      "       28    0.000    0.000    0.000    0.000 {method 'rstrip' of 'bytes' objects}\n",
      "        7    0.000    0.000    0.000    0.000 conf.py:36(set_value)\n",
      "        8    0.000    0.000    0.000    0.000 {method '__enter__' of '_thread.RLock' objects}\n",
      "        1    0.000    0.000    0.000    0.000 _base.py:63(__init__)\n",
      "        1    0.000    0.000    0.000    0.000 git.py:316(__del__)\n",
      "        4    0.000    0.000    0.000    0.000 _base.py:387(__get_result)\n",
      "        1    0.000    0.000    0.000    0.000 conf.py:65(_check_only_one_from_commit)\n",
      "       37    0.000    0.000    0.000    0.000 {built-in method builtins.issubclass}\n",
      "        5    0.000    0.000    0.000    0.000 {method 'remove' of 'set' objects}\n",
      "        1    0.000    0.000    0.000    0.000 {built-in method math.ceil}\n",
      "        1    0.000    0.000    0.000    0.000 {method 'replace' of 'datetime.datetime' objects}\n",
      "        2    0.000    0.000    0.000    0.000 pathlib.py:1566(expanduser)\n",
      "        4    0.000    0.000    0.000    0.000 thread.py:41(__init__)\n",
      "        3    0.000    0.000    0.000    0.000 config.py:699(_assure_writable)\n",
      "        2    0.000    0.000    0.000    0.000 conf.py:181(only_one_filter)\n",
      "        1    0.000    0.000    0.000    0.000 _base.py:146(__init__)\n",
      "        2    0.000    0.000    0.000    0.000 threading.py:778(<listcomp>)\n",
      "        1    0.000    0.000    0.000    0.000 _base.py:149(__enter__)\n",
      "        1    0.000    0.000    0.000    0.000 configparser.py:891(set)\n",
      "        1    0.000    0.000    0.000    0.000 conf.py:71(_check_only_one_to_commit)\n",
      "        1    0.000    0.000    0.000    0.000 conf.py:142(get_starting_commit)\n",
      "        2    0.000    0.000    0.000    0.000 weakref.py:428(__setitem__)\n",
      "        1    0.000    0.000    0.000    0.000 contextlib.py:261(helper)\n",
      "        8    0.000    0.000    0.000    0.000 util.py:851(_has_lock)\n",
      "        1    0.000    0.000    0.000    0.000 contextlib.py:86(__init__)\n",
      "        1    0.000    0.000    0.000    0.000 threading.py:546(clear)\n",
      "        1    0.000    0.000    0.000    0.000 util.py:844(__del__)\n",
      "        2    0.000    0.000    0.000    0.000 {method 'difference_update' of 'set' objects}\n",
      "        1    0.000    0.000    0.000    0.000 _base.py:153(__exit__)\n",
      "        3    0.000    0.000    0.000    0.000 git.py:62(repo)\n",
      "        1    0.000    0.000    0.000    0.000 conf.py:114(_check_correct_filters_order)\n",
      "        1    0.000    0.000    0.000    0.000 conf.py:165(get_ending_commit)\n",
      "        1    0.000    0.000    0.000    0.000 conf.py:54(_sanity_check_repos)\n",
      "        2    0.000    0.000    0.000    0.000 util.py:847(_lock_file_path)\n",
      "        4    0.000    0.000    0.000    0.000 _base.py:225(<genexpr>)\n",
      "        4    0.000    0.000    0.000    0.000 {method 'lstrip' of 'str' objects}\n",
      "        2    0.000    0.000    0.000    0.000 pathlib.py:1001(is_absolute)\n",
      "        1    0.000    0.000    0.000    0.000 pathlib.py:831(name)\n",
      "        4    0.000    0.000    0.000    0.000 {built-in method time.monotonic}\n",
      "        2    0.000    0.000    0.000    0.000 conf.py:189(<listcomp>)\n",
      "        4    0.000    0.000    0.000    0.000 {method 'acquire' of '_thread.RLock' objects}\n",
      "        2    0.000    0.000    0.000    0.000 {method 'remove' of 'collections.deque' objects}\n",
      "        1    0.000    0.000    0.000    0.000 util.py:840(__init__)\n",
      "        1    0.000    0.000    0.000    0.000 __init__.py:230(utcoffset)\n",
      "        1    0.000    0.000    0.000    0.000 configparser.py:663(has_section)\n",
      "        4    0.000    0.000    0.000    0.000 {method 'release' of '_thread.RLock' objects}\n",
      "        1    0.000    0.000    0.000    0.000 {method 'disable' of '_lsprof.Profiler' objects}\n",
      "        1    0.000    0.000    0.000    0.000 _base.py:632(__enter__)\n",
      "        1    0.000    0.000    0.000    0.000 configparser.py:366(before_set)\n",
      "\n",
      "\n"
     ]
    }
   ],
   "source": [
    "cProfile.run('debuggingbook_change_counter(ChangeCounter)', sort='cumulative')"
   ]
  },
  {
   "cell_type": "markdown",
   "metadata": {
    "slideshow": {
     "slide_type": "subslide"
    }
   },
   "source": [
    "Yes, that's an awful lot of functions, but we can quickly narrow things down. The `cumtime` column is sorted by largest values first. We see that the `debuggingbook_change_counter()` method at the top takes up all the time – but this is not surprising, since it it the method we called in the first place. This calls a method `mine()` in the `ChangeCounter` class, which does all the work."
   ]
  },
  {
   "cell_type": "markdown",
   "metadata": {
    "slideshow": {
     "slide_type": "fragment"
    }
   },
   "source": [
    "The next places are more interesting: almost all time is spent in a single method, named `modifications()`. This method determines the difference between two versions, which is an expensive operation; this is also supported by the observation that half of the time is spent in a `diff()` method."
   ]
  },
  {
   "cell_type": "markdown",
   "metadata": {
    "slideshow": {
     "slide_type": "subslide"
    }
   },
   "source": [
    "This profile thus already gets us a hint on how to improve performance: Rather than computing the diff between versions for _every_ version, we could do so _on demand_ (and possibly cache results so we don't have to compute them twice). Alas, this (slow) functionality is part of the \n",
    "underlying [PyDriller](https://pydriller.readthedocs.io/) Python package, so we cannot fix this within the `ChangeCounter` class. But we could file a bug with the developers, suggesting a patch to improve performance."
   ]
  },
  {
   "cell_type": "markdown",
   "metadata": {
    "slideshow": {
     "slide_type": "subslide"
    }
   },
   "source": [
    "### Sampling Execution Profiles\n",
    "\n",
    "Instrumenting code is _precise_, but it is also _slow_. An alternate way to measure performance is to _sample_ in regular intervals which functions are currently active – for instance, by examining the current function call stack. The more frequently a function is sampled as active, the more time is spent in that function."
   ]
  },
  {
   "cell_type": "markdown",
   "metadata": {
    "slideshow": {
     "slide_type": "subslide"
    }
   },
   "source": [
    "One profiler for Python that implements such sampling is [Scalene](https://github.com/plasma-umass/scalene) – a high-performance, high-precision CPU, GPU, and memory profiler for Python. We can invoke it on our example as follows:\n",
    "\n",
    "```sh\n",
    "$ scalene --html test.py > scalene-out.html\n",
    "```"
   ]
  },
  {
   "cell_type": "markdown",
   "metadata": {
    "slideshow": {
     "slide_type": "fragment"
    }
   },
   "source": [
    "where `test.py` is a script that again invokes\n",
    "\n",
    "```python\n",
    "debuggingbook_change_counter(ChangeCounter)\n",
    "```"
   ]
  },
  {
   "cell_type": "markdown",
   "metadata": {
    "slideshow": {
     "slide_type": "subslide"
    }
   },
   "source": [
    "The output of `scalene` is sent to a HTML file (here, `scalene-out.html`) which is organized by _lines_ – that is, for each line, we see how much it contributed to overall execution time. Opening the output `scalene-out.html` in a HTML browswer, we see these lines:"
   ]
  },
  {
   "cell_type": "markdown",
   "metadata": {
    "slideshow": {
     "slide_type": "fragment"
    }
   },
   "source": [
    "![](PICS/scalene-out.png)"
   ]
  },
  {
   "cell_type": "markdown",
   "metadata": {
    "slideshow": {
     "slide_type": "fragment"
    }
   },
   "source": [
    "As with `cProfile`, above, we identify the `mine()` method in the `ChangeCounter` class as the main performance hog – and in the `mine()` method, it is the iteration over all modifications that takes all the time. Adding the option `--profile-all` to `scalene` would extend the profile to all executed code, including the `pydriller` third-party library."
   ]
  },
  {
   "cell_type": "markdown",
   "metadata": {
    "slideshow": {
     "slide_type": "fragment"
    }
   },
   "source": [
    "Besides relying on sampling rather that tracing (which is more efficient) and breaking down execution time by line, `scalene` also provides additional information on memory usage and more. If `cProfile` is not sufficient, then `scalene` will bring profiling to the next level."
   ]
  },
  {
   "cell_type": "markdown",
   "metadata": {
    "slideshow": {
     "slide_type": "slide"
    }
   },
   "source": [
    "## Improving Performance"
   ]
  },
  {
   "cell_type": "markdown",
   "metadata": {
    "slideshow": {
     "slide_type": "fragment"
    }
   },
   "source": [
    "Identifying a culprit is not always that easy. Notably, when the first set of obvious performance hogs is fixed, it becomes more and more difficult to squeeze out additional performance – and, as stated above, such optimization may be in conflict with readability and maintainability of your code. Here are some simple ways to improve performance:"
   ]
  },
  {
   "cell_type": "markdown",
   "metadata": {
    "slideshow": {
     "slide_type": "subslide"
    }
   },
   "source": [
    "* **Efficient algorithms**. For many tasks, the simplest algorithm is not always the best performing one. Consider alternatives that may be more efficient, and _measure_ whether they pay off.\n",
    "\n",
    "* **Efficient data types**. Remember that certain operations, such as looking up whether an element is contained, may take different amounts of time depending on the data structure. In Python, a query like `x in xs` takes (mostly) constant time if `xs` is a set, but linear time if `xs` is a list; these differences become significant as the size of `xs` grows.\n",
    "\n",
    "* **Efficient modules**. In Python, most frequently used modules (or at least parts of) are implemented in C, which is way more efficient than plain Python. Rely on existing modules whenever possible. Or implement your own, _after_ having measured that this may pay off."
   ]
  },
  {
   "cell_type": "markdown",
   "metadata": {
    "slideshow": {
     "slide_type": "subslide"
    }
   },
   "source": [
    "These are all things you can already use during programming – and also set up your code such that exchanging, say, one data type by another will still be possible later. This is best achieved by hiding implementation details (such as the used data types) behind an abstract interface used by your clients."
   ]
  },
  {
   "cell_type": "markdown",
   "metadata": {
    "slideshow": {
     "slide_type": "fragment"
    }
   },
   "source": [
    "But beyond these points, remember the famous words by [Donald J. Knuth](https://en.wikipedia.org/wiki/Donald_Knuth):"
   ]
  },
  {
   "cell_type": "code",
   "execution_count": 10,
   "metadata": {
    "execution": {
     "iopub.execute_input": "2021-12-13T16:26:44.789991Z",
     "iopub.status.busy": "2021-12-13T16:26:44.789241Z",
     "iopub.status.idle": "2021-12-13T16:26:44.791338Z",
     "shell.execute_reply": "2021-12-13T16:26:44.791858Z"
    },
    "slideshow": {
     "slide_type": "skip"
    }
   },
   "outputs": [],
   "source": [
    "from bookutils import quiz"
   ]
  },
  {
   "cell_type": "code",
   "execution_count": 11,
   "metadata": {
    "execution": {
     "iopub.execute_input": "2021-12-13T16:26:44.828924Z",
     "iopub.status.busy": "2021-12-13T16:26:44.827744Z",
     "iopub.status.idle": "2021-12-13T16:26:44.832425Z",
     "shell.execute_reply": "2021-12-13T16:26:44.832823Z"
    },
    "slideshow": {
     "slide_type": "fragment"
    }
   },
   "outputs": [
    {
     "data": {
      "text/html": [
       "\n",
       "    \n",
       "    <script>\n",
       "    var bad_answers = new Map();\n",
       "\n",
       "    function answer(quiz_id) {\n",
       "        ans = 0;\n",
       "        for (i = 1;; i++) {\n",
       "            checkbox = document.getElementById(quiz_id + \"-\" + i.toString());\n",
       "            if (!checkbox)\n",
       "                break;\n",
       "            if (checkbox.checked)\n",
       "                ans |= (1 << i);\n",
       "        }\n",
       "        return ans;\n",
       "    }\n",
       "    function check_selection(quiz_id, correct_answer, multiple_choice, hint) {\n",
       "        given_answer = answer(quiz_id);\n",
       "        if (given_answer == correct_answer)\n",
       "        {\n",
       "            document.getElementById(quiz_id + \"-submit\").value = \"Correct!\";\n",
       "            document.getElementById(quiz_id + \"-hint\").innerHTML = \"\";\n",
       "\n",
       "            for (i = 1;; i++) {\n",
       "                checkbox = document.getElementById(quiz_id + \"-\" + i.toString());\n",
       "                label = document.getElementById(quiz_id + \"-\" + i.toString() + \"-label\")\n",
       "                if (!checkbox)\n",
       "                    break;\n",
       "    \n",
       "                if (checkbox.checked) {\n",
       "                    label.style.fontWeight = \"bold\";\n",
       "                }\n",
       "                else {\n",
       "                    label.style.textDecoration = \"line-through\";\n",
       "                }\n",
       "            }\n",
       "        }\n",
       "        else \n",
       "        {\n",
       "            document.getElementById(quiz_id + \"-submit\").value = \"Try again\";\n",
       "            \n",
       "            if (!bad_answers.has(quiz_id)) {\n",
       "                bad_answers.set(quiz_id, 1);\n",
       "            }\n",
       "            else {\n",
       "                bad_answers.set(quiz_id, bad_answers.get(quiz_id) + 1);\n",
       "            }\n",
       "\n",
       "            if (bad_answers.get(quiz_id) >= 2 && hint.length > 0) {\n",
       "                document.getElementById(quiz_id + \"-hint\").innerHTML = \n",
       "                    \"&nbsp;&nbsp;(Hint: <code>\" + hint + \"</code>)\";\n",
       "            }\n",
       "\n",
       "            if (!multiple_choice) {\n",
       "                for (i = 1;; i++) {\n",
       "                    checkbox = document.getElementById(quiz_id + \"-\" + i.toString());\n",
       "                    label = document.getElementById(quiz_id + \"-\" + i.toString() + \"-label\")\n",
       "\n",
       "                    if (!checkbox)\n",
       "                        break;\n",
       "                    if (checkbox.checked) {\n",
       "                        label.style.textDecoration = \"line-through\";\n",
       "                    }\n",
       "                }\n",
       "            }\n",
       "        }\n",
       "    }\n",
       "    function clear_selection(quiz_id) {\n",
       "        document.getElementById(quiz_id + \"-submit\").value = \"Submit\";\n",
       "        document.getElementById(quiz_id + \"-hint\").innerHTML = \"\";\n",
       "    }\n",
       "    </script>\n",
       "    \n",
       "    <div class=\"quiz\">\n",
       "    <h3 class=\"quiz_title\">Quiz</h3>\n",
       "    <p>\n",
       "    <div class=\"quiz_question\">Donald J. Knuth said: \"Premature optimization...\"</div>\n",
       "    </p>\n",
       "    <p>\n",
       "    <div class=\"quiz_options\" title=\"Pick a choice.\">\n",
       "    \n",
       "        <input type=\"radio\" name=\"76350a92-5c31-11ec-85eb-acde48001122\" id=\"76350a92-5c31-11ec-85eb-acde48001122-1\" onclick=\"clear_selection('76350a92-5c31-11ec-85eb-acde48001122')\">\n",
       "        <label id=\"76350a92-5c31-11ec-85eb-acde48001122-1-label\" for=\"76350a92-5c31-11ec-85eb-acde48001122-1\">... is the root of all evil</label><br>\n",
       "    \n",
       "        <input type=\"radio\" name=\"76350a92-5c31-11ec-85eb-acde48001122\" id=\"76350a92-5c31-11ec-85eb-acde48001122-2\" onclick=\"clear_selection('76350a92-5c31-11ec-85eb-acde48001122')\">\n",
       "        <label id=\"76350a92-5c31-11ec-85eb-acde48001122-2-label\" for=\"76350a92-5c31-11ec-85eb-acde48001122-2\">... requires lots of experience</label><br>\n",
       "    \n",
       "        <input type=\"radio\" name=\"76350a92-5c31-11ec-85eb-acde48001122\" id=\"76350a92-5c31-11ec-85eb-acde48001122-3\" onclick=\"clear_selection('76350a92-5c31-11ec-85eb-acde48001122')\">\n",
       "        <label id=\"76350a92-5c31-11ec-85eb-acde48001122-3-label\" for=\"76350a92-5c31-11ec-85eb-acde48001122-3\">... should be left to assembly programmers</label><br>\n",
       "    \n",
       "        <input type=\"radio\" name=\"76350a92-5c31-11ec-85eb-acde48001122\" id=\"76350a92-5c31-11ec-85eb-acde48001122-4\" onclick=\"clear_selection('76350a92-5c31-11ec-85eb-acde48001122')\">\n",
       "        <label id=\"76350a92-5c31-11ec-85eb-acde48001122-4-label\" for=\"76350a92-5c31-11ec-85eb-acde48001122-4\">... is the reason why TeX is so fast</label><br>\n",
       "    \n",
       "    </div>\n",
       "    </p>\n",
       "    <input id=\"76350a92-5c31-11ec-85eb-acde48001122-submit\" type=\"submit\" value=\"Submit\" onclick=\"check_selection('76350a92-5c31-11ec-85eb-acde48001122', 2, 0, 'len(&quot;METAFONT&quot;) - len(&quot;TeX&quot;) - len(&quot;CWEB&quot;)')\">\n",
       "    <span class=\"quiz_hint\" id=\"76350a92-5c31-11ec-85eb-acde48001122-hint\"></span>\n",
       "    </div>\n",
       "    "
      ],
      "text/plain": [
       "<IPython.core.display.HTML object>"
      ]
     },
     "execution_count": 11,
     "metadata": {},
     "output_type": "execute_result"
    }
   ],
   "source": [
    "quiz('Donald J. Knuth said: \"Premature optimization...\"',\n",
    "    [\n",
    "        \"... is the root of all evil\",\n",
    "        \"... requires lots of experience\",\n",
    "        \"... should be left to assembly programmers\",\n",
    "        \"... is the reason why TeX is so fast\",\n",
    "    ], 'len(\"METAFONT\") - len(\"TeX\") - len(\"CWEB\")')"
   ]
  },
  {
   "cell_type": "markdown",
   "metadata": {
    "slideshow": {
     "slide_type": "subslide"
    }
   },
   "source": [
    "This quote should always remind us that after a good design, you should always _first_ measure and _then_ optimize."
   ]
  },
  {
   "cell_type": "markdown",
   "metadata": {
    "slideshow": {
     "slide_type": "slide"
    }
   },
   "source": [
    "## Building a Profiler\n",
    "\n",
    "Having discussed profilers from a _user_ perspective, let us now dive into how they are actually implemented. It turns out we can use most of our existing infrastructure to implement a simple tracing profiler with only a few lines of code."
   ]
  },
  {
   "cell_type": "markdown",
   "metadata": {
    "slideshow": {
     "slide_type": "fragment"
    }
   },
   "source": [
    "The program we will apply our profiler on is – surprise! – our ongoing example, `remove_html_markup()`. Our aim is to understand how much time is spent _in each line of the code_ (such that we have a new feature on top of Python `cProfile`)."
   ]
  },
  {
   "cell_type": "code",
   "execution_count": 12,
   "metadata": {
    "execution": {
     "iopub.execute_input": "2021-12-13T16:26:44.839926Z",
     "iopub.status.busy": "2021-12-13T16:26:44.838835Z",
     "iopub.status.idle": "2021-12-13T16:26:44.840960Z",
     "shell.execute_reply": "2021-12-13T16:26:44.840489Z"
    },
    "slideshow": {
     "slide_type": "skip"
    }
   },
   "outputs": [],
   "source": [
    "from Intro_Debugging import remove_html_markup"
   ]
  },
  {
   "cell_type": "code",
   "execution_count": 13,
   "metadata": {
    "execution": {
     "iopub.execute_input": "2021-12-13T16:26:44.844867Z",
     "iopub.status.busy": "2021-12-13T16:26:44.844256Z",
     "iopub.status.idle": "2021-12-13T16:26:44.846495Z",
     "shell.execute_reply": "2021-12-13T16:26:44.847159Z"
    },
    "slideshow": {
     "slide_type": "fragment"
    }
   },
   "outputs": [],
   "source": [
    "# ignore\n",
    "from typing import Any, Optional, Type, Dict, Tuple, List"
   ]
  },
  {
   "cell_type": "code",
   "execution_count": 14,
   "metadata": {
    "execution": {
     "iopub.execute_input": "2021-12-13T16:26:44.850836Z",
     "iopub.status.busy": "2021-12-13T16:26:44.850183Z",
     "iopub.status.idle": "2021-12-13T16:26:44.852799Z",
     "shell.execute_reply": "2021-12-13T16:26:44.853329Z"
    },
    "slideshow": {
     "slide_type": "fragment"
    }
   },
   "outputs": [],
   "source": [
    "# ignore\n",
    "from bookutils import print_content"
   ]
  },
  {
   "cell_type": "code",
   "execution_count": 15,
   "metadata": {
    "execution": {
     "iopub.execute_input": "2021-12-13T16:26:44.857578Z",
     "iopub.status.busy": "2021-12-13T16:26:44.856841Z",
     "iopub.status.idle": "2021-12-13T16:26:44.859161Z",
     "shell.execute_reply": "2021-12-13T16:26:44.859701Z"
    },
    "slideshow": {
     "slide_type": "subslide"
    }
   },
   "outputs": [],
   "source": [
    "# ignore\n",
    "import inspect"
   ]
  },
  {
   "cell_type": "code",
   "execution_count": 16,
   "metadata": {
    "execution": {
     "iopub.execute_input": "2021-12-13T16:26:44.923893Z",
     "iopub.status.busy": "2021-12-13T16:26:44.884479Z",
     "iopub.status.idle": "2021-12-13T16:26:45.165070Z",
     "shell.execute_reply": "2021-12-13T16:26:45.165689Z"
    },
    "slideshow": {
     "slide_type": "subslide"
    }
   },
   "outputs": [
    {
     "name": "stdout",
     "output_type": "stream",
     "text": [
      "238  \u001b[34mdef\u001b[39;49;00m \u001b[32mremove_html_markup\u001b[39;49;00m(s):  \u001b[37m# type: ignore\u001b[39;49;00m\n",
      "239      tag = \u001b[34mFalse\u001b[39;49;00m\n",
      "240      quote = \u001b[34mFalse\u001b[39;49;00m\n",
      "241      out = \u001b[33m\"\u001b[39;49;00m\u001b[33m\"\u001b[39;49;00m\n",
      "242  \n",
      "243      \u001b[34mfor\u001b[39;49;00m c \u001b[35min\u001b[39;49;00m s:\n",
      "244          \u001b[34massert\u001b[39;49;00m tag \u001b[35mor\u001b[39;49;00m \u001b[35mnot\u001b[39;49;00m quote\n",
      "245  \n",
      "246          \u001b[34mif\u001b[39;49;00m c == \u001b[33m'\u001b[39;49;00m\u001b[33m<\u001b[39;49;00m\u001b[33m'\u001b[39;49;00m \u001b[35mand\u001b[39;49;00m \u001b[35mnot\u001b[39;49;00m quote:\n",
      "247              tag = \u001b[34mTrue\u001b[39;49;00m\n",
      "248          \u001b[34melif\u001b[39;49;00m c == \u001b[33m'\u001b[39;49;00m\u001b[33m>\u001b[39;49;00m\u001b[33m'\u001b[39;49;00m \u001b[35mand\u001b[39;49;00m \u001b[35mnot\u001b[39;49;00m quote:\n",
      "249              tag = \u001b[34mFalse\u001b[39;49;00m\n",
      "250          \u001b[34melif\u001b[39;49;00m (c == \u001b[33m'\u001b[39;49;00m\u001b[33m\"\u001b[39;49;00m\u001b[33m'\u001b[39;49;00m \u001b[35mor\u001b[39;49;00m c == \u001b[33m\"\u001b[39;49;00m\u001b[33m'\u001b[39;49;00m\u001b[33m\"\u001b[39;49;00m) \u001b[35mand\u001b[39;49;00m tag:\n",
      "251              quote = \u001b[35mnot\u001b[39;49;00m quote\n",
      "252          \u001b[34melif\u001b[39;49;00m \u001b[35mnot\u001b[39;49;00m tag:\n",
      "253              out = out + c\n",
      "254  \n",
      "255      \u001b[34mreturn\u001b[39;49;00m out"
     ]
    }
   ],
   "source": [
    "print_content(inspect.getsource(remove_html_markup), '.py',\n",
    "              start_line_number=238)"
   ]
  },
  {
   "cell_type": "markdown",
   "metadata": {
    "slideshow": {
     "slide_type": "subslide"
    }
   },
   "source": [
    "We introduce a class `PerformanceTracer` that tracks, for each line in the code:\n",
    "\n",
    "* how _often_ it was executed (`hits`), and\n",
    "* _how much time_ was spent during its execution (`time`).\n",
    "\n",
    "To this end, we make use of our `Timer` class, which measures time, and the `Tracer` class from [the chapter on tracing](Tracer.ipynb), which allows us to track every line of the program as it is being executed."
   ]
  },
  {
   "cell_type": "code",
   "execution_count": 17,
   "metadata": {
    "execution": {
     "iopub.execute_input": "2021-12-13T16:26:45.327390Z",
     "iopub.status.busy": "2021-12-13T16:26:45.325186Z",
     "iopub.status.idle": "2021-12-13T16:26:45.329229Z",
     "shell.execute_reply": "2021-12-13T16:26:45.329901Z"
    },
    "slideshow": {
     "slide_type": "skip"
    }
   },
   "outputs": [],
   "source": [
    "from Tracer import Tracer"
   ]
  },
  {
   "cell_type": "markdown",
   "metadata": {
    "slideshow": {
     "slide_type": "fragment"
    }
   },
   "source": [
    "In `PerfomanceTracker`, the attributes `hits` and `time` are mappings indexed by unique locations – that is, pairs of function name and line number."
   ]
  },
  {
   "cell_type": "code",
   "execution_count": 18,
   "metadata": {
    "execution": {
     "iopub.execute_input": "2021-12-13T16:26:45.335268Z",
     "iopub.status.busy": "2021-12-13T16:26:45.334248Z",
     "iopub.status.idle": "2021-12-13T16:26:45.336826Z",
     "shell.execute_reply": "2021-12-13T16:26:45.337602Z"
    },
    "slideshow": {
     "slide_type": "fragment"
    }
   },
   "outputs": [],
   "source": [
    "Location = Tuple[str, int]"
   ]
  },
  {
   "cell_type": "code",
   "execution_count": 19,
   "metadata": {
    "execution": {
     "iopub.execute_input": "2021-12-13T16:26:45.345751Z",
     "iopub.status.busy": "2021-12-13T16:26:45.344591Z",
     "iopub.status.idle": "2021-12-13T16:26:45.348232Z",
     "shell.execute_reply": "2021-12-13T16:26:45.347354Z"
    },
    "slideshow": {
     "slide_type": "subslide"
    }
   },
   "outputs": [],
   "source": [
    "class PerformanceTracer(Tracer):\n",
    "    \"\"\"Trace time and #hits for individual program lines\"\"\"\n",
    "\n",
    "    def __init__(self) -> None:\n",
    "        \"\"\"Constructor.\"\"\"\n",
    "        super().__init__()\n",
    "        self.reset_timer()\n",
    "        self.hits: Dict[Location, int] = {}\n",
    "        self.time: Dict[Location, float] = {}\n",
    "\n",
    "    def reset_timer(self) -> None:\n",
    "        self.timer = Timer.Timer()"
   ]
  },
  {
   "cell_type": "markdown",
   "metadata": {
    "slideshow": {
     "slide_type": "subslide"
    }
   },
   "source": [
    "As common in this book, we want to use `PerformanceTracer` in a `with`-block around the function call(s) to be tracked:\n",
    "\n",
    "```python\n",
    "with PerformanceTracer() as perf_tracer:\n",
    "    function(...)\n",
    "```"
   ]
  },
  {
   "cell_type": "markdown",
   "metadata": {
    "slideshow": {
     "slide_type": "fragment"
    }
   },
   "source": [
    "When entering the `with` block (`__enter__()`), we reset all timers. Also, coming from the `__enter__()` method of the superclass `Tracer`, we enable tracing through the `traceit()` method."
   ]
  },
  {
   "cell_type": "code",
   "execution_count": 20,
   "metadata": {
    "execution": {
     "iopub.execute_input": "2021-12-13T16:26:45.353713Z",
     "iopub.status.busy": "2021-12-13T16:26:45.352540Z",
     "iopub.status.idle": "2021-12-13T16:26:45.354833Z",
     "shell.execute_reply": "2021-12-13T16:26:45.355300Z"
    },
    "slideshow": {
     "slide_type": "skip"
    }
   },
   "outputs": [],
   "source": [
    "from types import FrameType"
   ]
  },
  {
   "cell_type": "code",
   "execution_count": 21,
   "metadata": {
    "execution": {
     "iopub.execute_input": "2021-12-13T16:26:45.361103Z",
     "iopub.status.busy": "2021-12-13T16:26:45.360174Z",
     "iopub.status.idle": "2021-12-13T16:26:45.362362Z",
     "shell.execute_reply": "2021-12-13T16:26:45.363355Z"
    },
    "slideshow": {
     "slide_type": "subslide"
    }
   },
   "outputs": [],
   "source": [
    "class PerformanceTracer(PerformanceTracer):\n",
    "    def __enter__(self) -> Any:\n",
    "        \"\"\"Enter a `with` block.\"\"\"\n",
    "        super().__enter__()\n",
    "        self.reset_timer()\n",
    "        return self"
   ]
  },
  {
   "cell_type": "markdown",
   "metadata": {
    "slideshow": {
     "slide_type": "fragment"
    }
   },
   "source": [
    "The `traceit()` method extracts the current location. It increases the corresponding `hits` value by 1, and adds the elapsed time to the corresponding `time`."
   ]
  },
  {
   "cell_type": "code",
   "execution_count": 22,
   "metadata": {
    "execution": {
     "iopub.execute_input": "2021-12-13T16:26:45.369436Z",
     "iopub.status.busy": "2021-12-13T16:26:45.368705Z",
     "iopub.status.idle": "2021-12-13T16:26:45.370489Z",
     "shell.execute_reply": "2021-12-13T16:26:45.371197Z"
    },
    "slideshow": {
     "slide_type": "subslide"
    }
   },
   "outputs": [],
   "source": [
    "class PerformanceTracer(PerformanceTracer):\n",
    "    def traceit(self, frame: FrameType, event: str, arg: Any) -> None:\n",
    "        \"\"\"Tracing function; called for every line.\"\"\"\n",
    "        t = self.timer.elapsed_time()\n",
    "        location = (frame.f_code.co_name, frame.f_lineno)\n",
    "\n",
    "        self.hits.setdefault(location, 0)\n",
    "        self.time.setdefault(location, 0.0)\n",
    "        self.hits[location] += 1\n",
    "        self.time[location] += t\n",
    "\n",
    "        self.reset_timer()"
   ]
  },
  {
   "cell_type": "markdown",
   "metadata": {
    "slideshow": {
     "slide_type": "fragment"
    }
   },
   "source": [
    "This is it already. We can now determine where most time is spent in `remove_html_markup()`. We invoke it 10,000 times such that we can average over runs:"
   ]
  },
  {
   "cell_type": "code",
   "execution_count": 23,
   "metadata": {
    "execution": {
     "iopub.execute_input": "2021-12-13T16:26:45.457837Z",
     "iopub.status.busy": "2021-12-13T16:26:45.421666Z",
     "iopub.status.idle": "2021-12-13T16:26:48.264647Z",
     "shell.execute_reply": "2021-12-13T16:26:48.265174Z"
    },
    "slideshow": {
     "slide_type": "subslide"
    }
   },
   "outputs": [],
   "source": [
    "with PerformanceTracer() as perf_tracer:\n",
    "    for i in range(10000):\n",
    "        s = remove_html_markup('<b>foo</b>')"
   ]
  },
  {
   "cell_type": "markdown",
   "metadata": {
    "slideshow": {
     "slide_type": "fragment"
    }
   },
   "source": [
    "Here are the hits. For every line executed, we see how often it was executed. The most executed line is the `for` loop with 110,000 hits – once for each of the 10 characters in `<b>foo</b>`, once for the final check, and all of this 10,000 times."
   ]
  },
  {
   "cell_type": "code",
   "execution_count": 24,
   "metadata": {
    "execution": {
     "iopub.execute_input": "2021-12-13T16:26:48.272865Z",
     "iopub.status.busy": "2021-12-13T16:26:48.272051Z",
     "iopub.status.idle": "2021-12-13T16:26:48.278593Z",
     "shell.execute_reply": "2021-12-13T16:26:48.279044Z"
    },
    "slideshow": {
     "slide_type": "subslide"
    }
   },
   "outputs": [
    {
     "data": {
      "text/plain": [
       "{('__init__', 17): 1,\n",
       " ('__init__', 19): 1,\n",
       " ('clock', 8): 1,\n",
       " ('clock', 12): 2,\n",
       " ('__init__', 20): 2,\n",
       " ('remove_html_markup', 238): 10000,\n",
       " ('remove_html_markup', 239): 10000,\n",
       " ('remove_html_markup', 240): 10000,\n",
       " ('remove_html_markup', 241): 10000,\n",
       " ('remove_html_markup', 243): 110000,\n",
       " ('remove_html_markup', 244): 100000,\n",
       " ('remove_html_markup', 246): 100000,\n",
       " ('remove_html_markup', 247): 20000,\n",
       " ('remove_html_markup', 248): 80000,\n",
       " ('remove_html_markup', 250): 60000,\n",
       " ('remove_html_markup', 252): 60000,\n",
       " ('remove_html_markup', 249): 20000,\n",
       " ('remove_html_markup', 253): 30000,\n",
       " ('remove_html_markup', 255): 20000}"
      ]
     },
     "execution_count": 24,
     "metadata": {},
     "output_type": "execute_result"
    }
   ],
   "source": [
    "perf_tracer.hits"
   ]
  },
  {
   "cell_type": "markdown",
   "metadata": {
    "slideshow": {
     "slide_type": "subslide"
    }
   },
   "source": [
    "The `time` attribute collects how much time was spent in each line. Within the loop, again, the `for` statement takes the most time. The other lines show some variability, though."
   ]
  },
  {
   "cell_type": "code",
   "execution_count": 25,
   "metadata": {
    "execution": {
     "iopub.execute_input": "2021-12-13T16:26:48.285595Z",
     "iopub.status.busy": "2021-12-13T16:26:48.284830Z",
     "iopub.status.idle": "2021-12-13T16:26:48.289515Z",
     "shell.execute_reply": "2021-12-13T16:26:48.289989Z"
    },
    "slideshow": {
     "slide_type": "subslide"
    }
   },
   "outputs": [
    {
     "data": {
      "text/plain": [
       "{('__init__', 17): 1.870500000222819e-05,\n",
       " ('__init__', 19): 2.4480000320181716e-06,\n",
       " ('clock', 8): 2.2600000875172555e-06,\n",
       " ('clock', 12): 3.109999966000032e-06,\n",
       " ('__init__', 20): 3.378999963388196e-06,\n",
       " ('remove_html_markup', 238): 0.049254157992436376,\n",
       " ('remove_html_markup', 239): 0.03388647299493641,\n",
       " ('remove_html_markup', 240): 0.03128634100482941,\n",
       " ('remove_html_markup', 241): 0.029055190995109115,\n",
       " ('remove_html_markup', 243): 0.2791856950101419,\n",
       " ('remove_html_markup', 244): 0.25138168199498523,\n",
       " ('remove_html_markup', 246): 0.2451579849856671,\n",
       " ('remove_html_markup', 247): 0.050344193996124886,\n",
       " ('remove_html_markup', 248): 0.19809605301009015,\n",
       " ('remove_html_markup', 250): 0.1484463910037448,\n",
       " ('remove_html_markup', 252): 0.15404164402104925,\n",
       " ('remove_html_markup', 249): 0.050089051001805274,\n",
       " ('remove_html_markup', 253): 0.07184278699617153,\n",
       " ('remove_html_markup', 255): 0.050572334001230956}"
      ]
     },
     "execution_count": 25,
     "metadata": {},
     "output_type": "execute_result"
    }
   ],
   "source": [
    "perf_tracer.time"
   ]
  },
  {
   "cell_type": "markdown",
   "metadata": {
    "slideshow": {
     "slide_type": "subslide"
    }
   },
   "source": [
    "For a full profiler, these numbers would now be sorted and printed in a table, much like `cProfile` does. However, we will borrow some material from previous chapters and annotate our code accordingly."
   ]
  },
  {
   "cell_type": "markdown",
   "metadata": {
    "slideshow": {
     "slide_type": "slide"
    }
   },
   "source": [
    "## Visualizing Performance Metrics\n",
    "\n",
    "In the [chapter on statistical debugging](StatisticalDebugger.ipynb), we have encountered the `CoverageCollector` class, which collects line and function coverage during execution, using a `collect()` method that is invoked for every line. We will repurpose this class to collect arbitrary _metrics_ on the lines executed, notably time taken."
   ]
  },
  {
   "cell_type": "markdown",
   "metadata": {
    "slideshow": {
     "slide_type": "subslide"
    }
   },
   "source": [
    "### Collecting Time Spent"
   ]
  },
  {
   "cell_type": "code",
   "execution_count": 26,
   "metadata": {
    "execution": {
     "iopub.execute_input": "2021-12-13T16:26:48.295402Z",
     "iopub.status.busy": "2021-12-13T16:26:48.294688Z",
     "iopub.status.idle": "2021-12-13T16:26:48.297038Z",
     "shell.execute_reply": "2021-12-13T16:26:48.298220Z"
    },
    "slideshow": {
     "slide_type": "skip"
    }
   },
   "outputs": [],
   "source": [
    "from StatisticalDebugger import CoverageCollector, SpectrumDebugger"
   ]
  },
  {
   "cell_type": "markdown",
   "metadata": {
    "slideshow": {
     "slide_type": "fragment"
    }
   },
   "source": [
    "The `MetricCollector` class is an abstract superclass that provides an interface to access a particular metric."
   ]
  },
  {
   "cell_type": "code",
   "execution_count": 27,
   "metadata": {
    "execution": {
     "iopub.execute_input": "2021-12-13T16:26:48.304350Z",
     "iopub.status.busy": "2021-12-13T16:26:48.303281Z",
     "iopub.status.idle": "2021-12-13T16:26:48.305701Z",
     "shell.execute_reply": "2021-12-13T16:26:48.306458Z"
    },
    "slideshow": {
     "slide_type": "fragment"
    }
   },
   "outputs": [],
   "source": [
    "class MetricCollector(CoverageCollector):\n",
    "    \"\"\"Abstract superclass for collecting line-specific metrics\"\"\"\n",
    "\n",
    "    def metric(self, event: Any) -> Optional[float]:\n",
    "        \"\"\"Return a metric for an event, or none.\"\"\"\n",
    "        return None\n",
    "\n",
    "    def all_metrics(self, func: str) -> List[float]:\n",
    "        \"\"\"Return all metric for a function `func`.\"\"\"\n",
    "        return []"
   ]
  },
  {
   "cell_type": "markdown",
   "metadata": {
    "slideshow": {
     "slide_type": "fragment"
    }
   },
   "source": [
    "Given these metrics, we can also compute sums and maxima for a single function."
   ]
  },
  {
   "cell_type": "code",
   "execution_count": 28,
   "metadata": {
    "execution": {
     "iopub.execute_input": "2021-12-13T16:26:48.313315Z",
     "iopub.status.busy": "2021-12-13T16:26:48.312365Z",
     "iopub.status.idle": "2021-12-13T16:26:48.314474Z",
     "shell.execute_reply": "2021-12-13T16:26:48.315019Z"
    },
    "slideshow": {
     "slide_type": "subslide"
    }
   },
   "outputs": [],
   "source": [
    "class MetricCollector(MetricCollector):\n",
    "    def total(self, func: str) -> float:\n",
    "        return sum(self.all_metrics(func))\n",
    "\n",
    "    def maximum(self, func: str) -> float:\n",
    "        return max(self.all_metrics(func))"
   ]
  },
  {
   "cell_type": "markdown",
   "metadata": {
    "slideshow": {
     "slide_type": "fragment"
    }
   },
   "source": [
    "Let us instantiate this superclass into `TimeCollector` – a subclass that measures time. This is modeled after our `PerformanceTracer` class, above; notably, the `time` attribute serves the same role."
   ]
  },
  {
   "cell_type": "code",
   "execution_count": 29,
   "metadata": {
    "execution": {
     "iopub.execute_input": "2021-12-13T16:26:48.324389Z",
     "iopub.status.busy": "2021-12-13T16:26:48.323160Z",
     "iopub.status.idle": "2021-12-13T16:26:48.326713Z",
     "shell.execute_reply": "2021-12-13T16:26:48.327548Z"
    },
    "slideshow": {
     "slide_type": "subslide"
    }
   },
   "outputs": [],
   "source": [
    "class TimeCollector(MetricCollector):\n",
    "    \"\"\"Collect time executed for each line\"\"\"\n",
    "\n",
    "    def __init__(self) -> None:\n",
    "        \"\"\"Constructor\"\"\"\n",
    "        super().__init__()\n",
    "        self.reset_timer()\n",
    "        self.time: Dict[Location, float] = {}\n",
    "        self.add_items_to_ignore([Timer.Timer, Timer.clock])\n",
    "\n",
    "    def collect(self, frame: FrameType, event: str, arg: Any) -> None:\n",
    "        \"\"\"Invoked for every line executed. Accumulate time spent.\"\"\"\n",
    "        t = self.timer.elapsed_time()\n",
    "        super().collect(frame, event, arg)\n",
    "        location = (frame.f_code.co_name, frame.f_lineno)\n",
    "\n",
    "        self.time.setdefault(location, 0.0)\n",
    "        self.time[location] += t\n",
    "\n",
    "        self.reset_timer()\n",
    "\n",
    "    def reset_timer(self) -> None:\n",
    "        self.timer = Timer.Timer()\n",
    "\n",
    "    def __enter__(self) -> Any:\n",
    "        super().__enter__()\n",
    "        self.reset_timer()\n",
    "        return self"
   ]
  },
  {
   "cell_type": "markdown",
   "metadata": {
    "slideshow": {
     "slide_type": "subslide"
    }
   },
   "source": [
    "The `metric()` and `all_metrics()` methods accumulate the metric (time taken) for an individual function:"
   ]
  },
  {
   "cell_type": "code",
   "execution_count": 30,
   "metadata": {
    "execution": {
     "iopub.execute_input": "2021-12-13T16:26:48.335361Z",
     "iopub.status.busy": "2021-12-13T16:26:48.334300Z",
     "iopub.status.idle": "2021-12-13T16:26:48.337472Z",
     "shell.execute_reply": "2021-12-13T16:26:48.338606Z"
    },
    "slideshow": {
     "slide_type": "fragment"
    }
   },
   "outputs": [],
   "source": [
    "class TimeCollector(TimeCollector):\n",
    "    def metric(self, location: Any) -> Optional[float]:\n",
    "        if location in self.time:\n",
    "            return self.time[location]\n",
    "        else:\n",
    "            return None\n",
    "\n",
    "    def all_metrics(self, func: str) -> List[float]:\n",
    "        return [time\n",
    "                for (func_name, lineno), time in self.time.items()\n",
    "                if func_name == func]"
   ]
  },
  {
   "cell_type": "markdown",
   "metadata": {
    "slideshow": {
     "slide_type": "fragment"
    }
   },
   "source": [
    "Here's how to use `TimeCollector()` – again, in a `with` block:"
   ]
  },
  {
   "cell_type": "code",
   "execution_count": 31,
   "metadata": {
    "execution": {
     "iopub.execute_input": "2021-12-13T16:26:48.398418Z",
     "iopub.status.busy": "2021-12-13T16:26:48.380947Z",
     "iopub.status.idle": "2021-12-13T16:26:48.400989Z",
     "shell.execute_reply": "2021-12-13T16:26:48.401571Z"
    },
    "slideshow": {
     "slide_type": "subslide"
    }
   },
   "outputs": [],
   "source": [
    "with TimeCollector() as collector:\n",
    "    for i in range(100):\n",
    "        s = remove_html_markup('<b>foo</b>')"
   ]
  },
  {
   "cell_type": "markdown",
   "metadata": {
    "slideshow": {
     "slide_type": "fragment"
    }
   },
   "source": [
    "The `time` attribute holds the time spent in each line:"
   ]
  },
  {
   "cell_type": "code",
   "execution_count": 32,
   "metadata": {
    "execution": {
     "iopub.execute_input": "2021-12-13T16:26:48.408333Z",
     "iopub.status.busy": "2021-12-13T16:26:48.407517Z",
     "iopub.status.idle": "2021-12-13T16:26:48.410195Z",
     "shell.execute_reply": "2021-12-13T16:26:48.410641Z"
    },
    "slideshow": {
     "slide_type": "subslide"
    }
   },
   "outputs": [
    {
     "name": "stdout",
     "output_type": "stream",
     "text": [
      "('remove_html_markup', 238) 0.0008628509999653033\n",
      "('remove_html_markup', 239) 0.0006048460003285072\n",
      "('remove_html_markup', 240) 0.0005791970007749114\n",
      "('remove_html_markup', 241) 0.0005212700001493431\n",
      "('remove_html_markup', 243) 0.005003136000368613\n",
      "('remove_html_markup', 244) 0.004228434000765446\n",
      "('remove_html_markup', 246) 0.004144397999652938\n",
      "('remove_html_markup', 247) 0.0008770930004402544\n",
      "('remove_html_markup', 248) 0.0033644369987086975\n",
      "('remove_html_markup', 250) 0.0027241950003826787\n",
      "('remove_html_markup', 252) 0.0029196739986900866\n",
      "('remove_html_markup', 249) 0.0008656280000423067\n",
      "('remove_html_markup', 253) 0.0013863690007838159\n",
      "('remove_html_markup', 255) 0.0009446449992083217\n"
     ]
    }
   ],
   "source": [
    "for location, time_spent in collector.time.items():\n",
    "    print(location, time_spent)"
   ]
  },
  {
   "cell_type": "markdown",
   "metadata": {
    "slideshow": {
     "slide_type": "subslide"
    }
   },
   "source": [
    "And we can also create a total for an entire function:"
   ]
  },
  {
   "cell_type": "code",
   "execution_count": 33,
   "metadata": {
    "execution": {
     "iopub.execute_input": "2021-12-13T16:26:48.415726Z",
     "iopub.status.busy": "2021-12-13T16:26:48.415041Z",
     "iopub.status.idle": "2021-12-13T16:26:48.418389Z",
     "shell.execute_reply": "2021-12-13T16:26:48.419049Z"
    },
    "slideshow": {
     "slide_type": "fragment"
    }
   },
   "outputs": [
    {
     "data": {
      "text/plain": [
       "0.029026173000261224"
      ]
     },
     "execution_count": 33,
     "metadata": {},
     "output_type": "execute_result"
    }
   ],
   "source": [
    "collector.total('remove_html_markup')"
   ]
  },
  {
   "cell_type": "markdown",
   "metadata": {
    "slideshow": {
     "slide_type": "subslide"
    }
   },
   "source": [
    "### Visualizing Time Spent\n",
    "\n",
    "Let us now go and visualize these numbers in a simple form. The idea is to assign each line a _color_ whose saturation indicates the time spent in that line relative to the time spent in the function overall  – the higher the fraction, the darker the line. We create a `MetricDebugger` class built as a specialization of `SpectrumDebugger`, in which `suspiciousness()` and `color()` are repurposed to show these metrics."
   ]
  },
  {
   "cell_type": "code",
   "execution_count": 34,
   "metadata": {
    "execution": {
     "iopub.execute_input": "2021-12-13T16:26:48.431910Z",
     "iopub.status.busy": "2021-12-13T16:26:48.428224Z",
     "iopub.status.idle": "2021-12-13T16:26:48.432721Z",
     "shell.execute_reply": "2021-12-13T16:26:48.433163Z"
    },
    "slideshow": {
     "slide_type": "subslide"
    }
   },
   "outputs": [],
   "source": [
    "class MetricDebugger(SpectrumDebugger):\n",
    "    \"\"\"Visualize a metric\"\"\"\n",
    "\n",
    "    def metric(self, location: Location) -> float:\n",
    "        sum = 0.0\n",
    "        for outcome in self.collectors:\n",
    "            for collector in self.collectors[outcome]:\n",
    "                assert isinstance(collector, MetricCollector)\n",
    "                m = collector.metric(location)\n",
    "                if m is not None:\n",
    "                    sum += m  # type: ignore\n",
    "\n",
    "        return sum\n",
    "\n",
    "    def total(self, func_name: str) -> float:\n",
    "        total = 0.0\n",
    "        for outcome in self.collectors:\n",
    "            for collector in self.collectors[outcome]:\n",
    "                assert isinstance(collector, MetricCollector)\n",
    "                total += sum(collector.all_metrics(func_name))\n",
    "\n",
    "        return total\n",
    "\n",
    "    def maximum(self, func_name: str) -> float:\n",
    "        maximum = 0.0\n",
    "        for outcome in self.collectors:\n",
    "            for collector in self.collectors[outcome]:\n",
    "                assert isinstance(collector, MetricCollector)\n",
    "                maximum = max(maximum, \n",
    "                              max(collector.all_metrics(func_name)))\n",
    "\n",
    "        return maximum\n",
    "\n",
    "    def suspiciousness(self, location: Location) -> float:\n",
    "        func_name, _ = location\n",
    "        return self.metric(location) / self.total(func_name)\n",
    "\n",
    "    def color(self, location: Location) -> str:\n",
    "        func_name, _ = location\n",
    "        hue = 240  # blue\n",
    "        saturation = 100  # fully saturated\n",
    "        darkness = self.metric(location) / self.maximum(func_name)\n",
    "        lightness = 100 - darkness * 25\n",
    "        return f\"hsl({hue}, {saturation}%, {lightness}%)\"\n",
    "\n",
    "    def tooltip(self, location: Location) -> str:\n",
    "        return f\"{super().tooltip(location)} {self.metric(location)}\""
   ]
  },
  {
   "cell_type": "markdown",
   "metadata": {
    "slideshow": {
     "slide_type": "subslide"
    }
   },
   "source": [
    "We can now introduce `PerformanceDebugger` as a subclass of `MetricDebugger`, using an arbitrary `MetricCollector` (such as `TimeCollector`) to obtain the metric we want to visualize."
   ]
  },
  {
   "cell_type": "code",
   "execution_count": 35,
   "metadata": {
    "execution": {
     "iopub.execute_input": "2021-12-13T16:26:48.439050Z",
     "iopub.status.busy": "2021-12-13T16:26:48.438020Z",
     "iopub.status.idle": "2021-12-13T16:26:48.440605Z",
     "shell.execute_reply": "2021-12-13T16:26:48.441381Z"
    },
    "slideshow": {
     "slide_type": "fragment"
    }
   },
   "outputs": [],
   "source": [
    "class PerformanceDebugger(MetricDebugger):\n",
    "    \"\"\"Collect and visualize a metric\"\"\"\n",
    "\n",
    "    def __init__(self, collector_class: Type, log: bool = False):\n",
    "        assert issubclass(collector_class, MetricCollector)\n",
    "        super().__init__(collector_class, log=log)"
   ]
  },
  {
   "cell_type": "markdown",
   "metadata": {
    "slideshow": {
     "slide_type": "fragment"
    }
   },
   "source": [
    "With `PerformanceDebugger`, we inherit all the capabilities of `SpectrumDebugger`, such as showing the (relative) percentage of time spent in a table. We see that the `for` condition and the following `assert` take most of the time, followed by the first condition."
   ]
  },
  {
   "cell_type": "code",
   "execution_count": 36,
   "metadata": {
    "execution": {
     "iopub.execute_input": "2021-12-13T16:26:48.503164Z",
     "iopub.status.busy": "2021-12-13T16:26:48.481101Z",
     "iopub.status.idle": "2021-12-13T16:26:48.505611Z",
     "shell.execute_reply": "2021-12-13T16:26:48.505001Z"
    },
    "slideshow": {
     "slide_type": "subslide"
    }
   },
   "outputs": [],
   "source": [
    "with PerformanceDebugger(TimeCollector) as debugger:\n",
    "    for i in range(100):\n",
    "        s = remove_html_markup('<b>foo</b>')"
   ]
  },
  {
   "cell_type": "code",
   "execution_count": 37,
   "metadata": {
    "execution": {
     "iopub.execute_input": "2021-12-13T16:26:48.513820Z",
     "iopub.status.busy": "2021-12-13T16:26:48.512972Z",
     "iopub.status.idle": "2021-12-13T16:26:48.516049Z",
     "shell.execute_reply": "2021-12-13T16:26:48.516705Z"
    },
    "slideshow": {
     "slide_type": "subslide"
    }
   },
   "outputs": [
    {
     "name": "stdout",
     "output_type": "stream",
     "text": [
      " 238   2% def remove_html_markup(s):  # type: ignore\n",
      " 239   1%     tag = False\n",
      " 240   1%     quote = False\n",
      " 241   1%     out = \"\"\n",
      " 242   0%\n",
      " 243  16%     for c in s:\n",
      " 244  14%         assert tag or not quote\n",
      " 245   0%\n",
      " 246  15%         if c == '<' and not quote:\n",
      " 247   2%             tag = True\n",
      " 248  13%         elif c == '>' and not quote:\n",
      " 249   2%             tag = False\n",
      " 250   8%         elif (c == '\"' or c == \"'\") and tag:\n",
      " 251   0%             quote = not quote\n",
      " 252   9%         elif not tag:\n",
      " 253   4%             out = out + c\n",
      " 254   0%\n",
      " 255   3%     return out\n",
      "\n"
     ]
    }
   ],
   "source": [
    "print(debugger)"
   ]
  },
  {
   "cell_type": "markdown",
   "metadata": {
    "slideshow": {
     "slide_type": "subslide"
    }
   },
   "source": [
    "However, we can also visualize these percentages, using shades of blue to indicate those lines most time spent in:"
   ]
  },
  {
   "cell_type": "code",
   "execution_count": 38,
   "metadata": {
    "execution": {
     "iopub.execute_input": "2021-12-13T16:26:48.526296Z",
     "iopub.status.busy": "2021-12-13T16:26:48.525191Z",
     "iopub.status.idle": "2021-12-13T16:26:48.530690Z",
     "shell.execute_reply": "2021-12-13T16:26:48.531227Z"
    },
    "slideshow": {
     "slide_type": "subslide"
    }
   },
   "outputs": [
    {
     "data": {
      "text/html": [
       "<pre style=\"background-color:hsl(240, 100%, 95.78708758580511%)\"\n",
       "                    title=\"Line 238:   2% 0.0008899399997517321\"> 238 def remove_html_markup(s):  # type: ignore</pre>\n",
       "<pre style=\"background-color:hsl(240, 100%, 97.1608783978912%)\"\n",
       "                    title=\"Line 239:   1% 0.0005997389998810831\"> 239     tag = False</pre>\n",
       "<pre style=\"background-color:hsl(240, 100%, 97.28589671517565%)\"\n",
       "                    title=\"Line 240:   1% 0.0005733300005204001\"> 240     quote = False</pre>\n",
       "<pre style=\"background-color:hsl(240, 100%, 97.38658737450002%)\"\n",
       "                    title=\"Line 241:   1% 0.0005520600009276677\"> 241     out = &quot;&quot;</pre>\n",
       "<pre style=\"background-color:hsl(240, 100%, 100.0%)\"\n",
       "                    title=\"Line 242:   0% 0.0\"> 242 &nbsp;</pre>\n",
       "<pre style=\"background-color:hsl(240, 100%, 75.0%)\"\n",
       "                    title=\"Line 243:  16% 0.005281025999693156\"> 243     for c in s:</pre>\n",
       "<pre style=\"background-color:hsl(240, 100%, 77.98241289019947%)\"\n",
       "                    title=\"Line 244:  14% 0.00465101799909462\"> 244         assert tag or not quote</pre>\n",
       "<pre style=\"background-color:hsl(240, 100%, 100.0%)\"\n",
       "                    title=\"Line 245:   0% 0.0\"> 245 &nbsp;</pre>\n",
       "<pre style=\"background-color:hsl(240, 100%, 76.41699263965884%)\"\n",
       "                    title=\"Line 246:  15% 0.00498169900083667\"> 246         if c == &#x27;&lt;&#x27; and not quote:</pre>\n",
       "<pre style=\"background-color:hsl(240, 100%, 95.89246009889766%)\"\n",
       "                    title=\"Line 247:   2% 0.0008676810004999425\"> 247             tag = True</pre>\n",
       "<pre style=\"background-color:hsl(240, 100%, 79.8958005522336%)\"\n",
       "                    title=\"Line 248:  13% 0.004246831999466849\"> 248         elif c == &#x27;&gt;&#x27; and not quote:</pre>\n",
       "<pre style=\"background-color:hsl(240, 100%, 95.66349891221604%)\"\n",
       "                    title=\"Line 249:   2% 0.0009160469996913889\"> 249             tag = False</pre>\n",
       "<pre style=\"background-color:hsl(240, 100%, 86.96533116281296%)\"\n",
       "                    title=\"Line 250:   8% 0.0027534570010629977\"> 250         elif (c == &#x27;&quot;&#x27; or c == &quot;&#x27;&quot;) and tag:</pre>\n",
       "<pre style=\"background-color:hsl(240, 100%, 100.0%)\"\n",
       "                    title=\"Line 251:   0% 0.0\"> 251             quote = not quote</pre>\n",
       "<pre style=\"background-color:hsl(240, 100%, 85.86457916480104%)\"\n",
       "                    title=\"Line 252:   9% 0.002985980997891602\"> 252         elif not tag:</pre>\n",
       "<pre style=\"background-color:hsl(240, 100%, 93.45717574442635%)\"\n",
       "                    title=\"Line 253:   4% 0.0013821130002042992\"> 253             out = out + c</pre>\n",
       "<pre style=\"background-color:hsl(240, 100%, 100.0%)\"\n",
       "                    title=\"Line 254:   0% 0.0\"> 254 &nbsp;</pre>\n",
       "<pre style=\"background-color:hsl(240, 100%, 94.93839359818325%)\"\n",
       "                    title=\"Line 255:   3% 0.001069219000328303\"> 255     return out</pre>\n"
      ],
      "text/markdown": [
       "| `remove_html_markup` | `s='<b>foo</b>'` | \n",
       "| ---------------------- | ---- | \n",
       "| <samp style=\"background-color: hsl(240, 100%, 95.78708758580511%)\" title=\"  2% 0.0008899399997517321\">remove_html_markup:238</samp> |    X | \n",
       "| <samp style=\"background-color: hsl(240, 100%, 97.1608783978912%)\" title=\"  1% 0.0005997389998810831\">remove_html_markup:239</samp> |    X | \n",
       "| <samp style=\"background-color: hsl(240, 100%, 97.28589671517565%)\" title=\"  1% 0.0005733300005204001\">remove_html_markup:240</samp> |    X | \n",
       "| <samp style=\"background-color: hsl(240, 100%, 97.38658737450002%)\" title=\"  1% 0.0005520600009276677\">remove_html_markup:241</samp> |    X | \n",
       "| <samp style=\"background-color: hsl(240, 100%, 75.0%)\" title=\" 16% 0.005281025999693156\">remove_html_markup:243</samp> |    X | \n",
       "| <samp style=\"background-color: hsl(240, 100%, 77.98241289019947%)\" title=\" 14% 0.00465101799909462\">remove_html_markup:244</samp> |    X | \n",
       "| <samp style=\"background-color: hsl(240, 100%, 76.41699263965884%)\" title=\" 15% 0.00498169900083667\">remove_html_markup:246</samp> |    X | \n",
       "| <samp style=\"background-color: hsl(240, 100%, 95.89246009889766%)\" title=\"  2% 0.0008676810004999425\">remove_html_markup:247</samp> |    X | \n",
       "| <samp style=\"background-color: hsl(240, 100%, 79.8958005522336%)\" title=\" 13% 0.004246831999466849\">remove_html_markup:248</samp> |    X | \n",
       "| <samp style=\"background-color: hsl(240, 100%, 95.66349891221604%)\" title=\"  2% 0.0009160469996913889\">remove_html_markup:249</samp> |    X | \n",
       "| <samp style=\"background-color: hsl(240, 100%, 86.96533116281296%)\" title=\"  8% 0.0027534570010629977\">remove_html_markup:250</samp> |    X | \n",
       "| <samp style=\"background-color: hsl(240, 100%, 85.86457916480104%)\" title=\"  9% 0.002985980997891602\">remove_html_markup:252</samp> |    X | \n",
       "| <samp style=\"background-color: hsl(240, 100%, 93.45717574442635%)\" title=\"  4% 0.0013821130002042992\">remove_html_markup:253</samp> |    X | \n",
       "| <samp style=\"background-color: hsl(240, 100%, 94.93839359818325%)\" title=\"  3% 0.001069219000328303\">remove_html_markup:255</samp> |    X | \n"
      ],
      "text/plain": [
       " 238   2% def remove_html_markup(s):  # type: ignore\n",
       " 239   1%     tag = False\n",
       " 240   1%     quote = False\n",
       " 241   1%     out = \"\"\n",
       " 242   0%\n",
       " 243  16%     for c in s:\n",
       " 244  14%         assert tag or not quote\n",
       " 245   0%\n",
       " 246  15%         if c == '<' and not quote:\n",
       " 247   2%             tag = True\n",
       " 248  13%         elif c == '>' and not quote:\n",
       " 249   2%             tag = False\n",
       " 250   8%         elif (c == '\"' or c == \"'\") and tag:\n",
       " 251   0%             quote = not quote\n",
       " 252   9%         elif not tag:\n",
       " 253   4%             out = out + c\n",
       " 254   0%\n",
       " 255   3%     return out"
      ]
     },
     "execution_count": 38,
     "metadata": {},
     "output_type": "execute_result"
    }
   ],
   "source": [
    "debugger"
   ]
  },
  {
   "cell_type": "markdown",
   "metadata": {
    "slideshow": {
     "slide_type": "subslide"
    }
   },
   "source": [
    "### Other Metrics\n",
    "\n",
    "Our framework is flexible enough to collect (and visualize) arbitrary metrics. This `HitCollector` class, for instance, collects how often a line is being executed."
   ]
  },
  {
   "cell_type": "code",
   "execution_count": 39,
   "metadata": {
    "execution": {
     "iopub.execute_input": "2021-12-13T16:26:48.542350Z",
     "iopub.status.busy": "2021-12-13T16:26:48.541323Z",
     "iopub.status.idle": "2021-12-13T16:26:48.543387Z",
     "shell.execute_reply": "2021-12-13T16:26:48.544023Z"
    },
    "slideshow": {
     "slide_type": "subslide"
    }
   },
   "outputs": [],
   "source": [
    "class HitCollector(MetricCollector):\n",
    "    \"\"\"Collect how often a line is executed\"\"\"\n",
    "\n",
    "    def __init__(self) -> None:\n",
    "        super().__init__()\n",
    "        self.hits: Dict[Location, int] = {}\n",
    "\n",
    "    def collect(self, frame: FrameType, event: str, arg: Any) -> None:\n",
    "        super().collect(frame, event, arg)\n",
    "        location = (frame.f_code.co_name, frame.f_lineno)\n",
    "\n",
    "        self.hits.setdefault(location, 0)\n",
    "        self.hits[location] += 1\n",
    "\n",
    "    def metric(self, location: Location) -> Optional[int]:\n",
    "        if location in self.hits:\n",
    "            return self.hits[location]\n",
    "        else:\n",
    "            return None\n",
    "\n",
    "    def all_metrics(self, func: str) -> List[float]:\n",
    "        return [hits\n",
    "                for (func_name, lineno), hits in self.hits.items()\n",
    "                if func_name == func]"
   ]
  },
  {
   "cell_type": "markdown",
   "metadata": {
    "slideshow": {
     "slide_type": "subslide"
    }
   },
   "source": [
    "We can plug in this class into `PerformanceDebugger` to obtain a distribution of lines executed:"
   ]
  },
  {
   "cell_type": "code",
   "execution_count": 40,
   "metadata": {
    "execution": {
     "iopub.execute_input": "2021-12-13T16:26:48.585462Z",
     "iopub.status.busy": "2021-12-13T16:26:48.584083Z",
     "iopub.status.idle": "2021-12-13T16:26:48.586684Z",
     "shell.execute_reply": "2021-12-13T16:26:48.587243Z"
    },
    "slideshow": {
     "slide_type": "fragment"
    }
   },
   "outputs": [],
   "source": [
    "with PerformanceDebugger(HitCollector) as debugger:\n",
    "    for i in range(100):\n",
    "        s = remove_html_markup('<b>foo</b>')"
   ]
  },
  {
   "cell_type": "markdown",
   "metadata": {
    "slideshow": {
     "slide_type": "fragment"
    }
   },
   "source": [
    "In total, during this call to `remove_html_markup()`, there are 6,400 lines executed:"
   ]
  },
  {
   "cell_type": "code",
   "execution_count": 41,
   "metadata": {
    "execution": {
     "iopub.execute_input": "2021-12-13T16:26:48.593354Z",
     "iopub.status.busy": "2021-12-13T16:26:48.592318Z",
     "iopub.status.idle": "2021-12-13T16:26:48.596714Z",
     "shell.execute_reply": "2021-12-13T16:26:48.597353Z"
    },
    "slideshow": {
     "slide_type": "fragment"
    }
   },
   "outputs": [
    {
     "data": {
      "text/plain": [
       "6400.0"
      ]
     },
     "execution_count": 41,
     "metadata": {},
     "output_type": "execute_result"
    }
   ],
   "source": [
    "debugger.total('remove_html_markup')"
   ]
  },
  {
   "cell_type": "markdown",
   "metadata": {
    "slideshow": {
     "slide_type": "fragment"
    }
   },
   "source": [
    "Again, we can visualize the distribution as a table and using colors. We can see how the shade gets lighter in the lower part of the loop as individual conditions have been met."
   ]
  },
  {
   "cell_type": "code",
   "execution_count": 42,
   "metadata": {
    "execution": {
     "iopub.execute_input": "2021-12-13T16:26:48.608309Z",
     "iopub.status.busy": "2021-12-13T16:26:48.603102Z",
     "iopub.status.idle": "2021-12-13T16:26:48.612070Z",
     "shell.execute_reply": "2021-12-13T16:26:48.612879Z"
    },
    "slideshow": {
     "slide_type": "subslide"
    }
   },
   "outputs": [
    {
     "name": "stdout",
     "output_type": "stream",
     "text": [
      " 238   1% def remove_html_markup(s):  # type: ignore\n",
      " 239   1%     tag = False\n",
      " 240   1%     quote = False\n",
      " 241   1%     out = \"\"\n",
      " 242   0%\n",
      " 243  17%     for c in s:\n",
      " 244  15%         assert tag or not quote\n",
      " 245   0%\n",
      " 246  15%         if c == '<' and not quote:\n",
      " 247   3%             tag = True\n",
      " 248  12%         elif c == '>' and not quote:\n",
      " 249   3%             tag = False\n",
      " 250   9%         elif (c == '\"' or c == \"'\") and tag:\n",
      " 251   0%             quote = not quote\n",
      " 252   9%         elif not tag:\n",
      " 253   4%             out = out + c\n",
      " 254   0%\n",
      " 255   3%     return out\n",
      "\n"
     ]
    }
   ],
   "source": [
    "print(debugger)"
   ]
  },
  {
   "cell_type": "code",
   "execution_count": 43,
   "metadata": {
    "execution": {
     "iopub.execute_input": "2021-12-13T16:26:48.627710Z",
     "iopub.status.busy": "2021-12-13T16:26:48.625519Z",
     "iopub.status.idle": "2021-12-13T16:26:48.633569Z",
     "shell.execute_reply": "2021-12-13T16:26:48.634085Z"
    },
    "slideshow": {
     "slide_type": "subslide"
    }
   },
   "outputs": [
    {
     "data": {
      "text/html": [
       "<pre style=\"background-color:hsl(240, 100%, 97.72727272727273%)\"\n",
       "                    title=\"Line 238:   1% 100.0\"> 238 def remove_html_markup(s):  # type: ignore</pre>\n",
       "<pre style=\"background-color:hsl(240, 100%, 97.72727272727273%)\"\n",
       "                    title=\"Line 239:   1% 100.0\"> 239     tag = False</pre>\n",
       "<pre style=\"background-color:hsl(240, 100%, 97.72727272727273%)\"\n",
       "                    title=\"Line 240:   1% 100.0\"> 240     quote = False</pre>\n",
       "<pre style=\"background-color:hsl(240, 100%, 97.72727272727273%)\"\n",
       "                    title=\"Line 241:   1% 100.0\"> 241     out = &quot;&quot;</pre>\n",
       "<pre style=\"background-color:hsl(240, 100%, 100.0%)\"\n",
       "                    title=\"Line 242:   0% 0.0\"> 242 &nbsp;</pre>\n",
       "<pre style=\"background-color:hsl(240, 100%, 75.0%)\"\n",
       "                    title=\"Line 243:  17% 1100.0\"> 243     for c in s:</pre>\n",
       "<pre style=\"background-color:hsl(240, 100%, 77.27272727272728%)\"\n",
       "                    title=\"Line 244:  15% 1000.0\"> 244         assert tag or not quote</pre>\n",
       "<pre style=\"background-color:hsl(240, 100%, 100.0%)\"\n",
       "                    title=\"Line 245:   0% 0.0\"> 245 &nbsp;</pre>\n",
       "<pre style=\"background-color:hsl(240, 100%, 77.27272727272728%)\"\n",
       "                    title=\"Line 246:  15% 1000.0\"> 246         if c == &#x27;&lt;&#x27; and not quote:</pre>\n",
       "<pre style=\"background-color:hsl(240, 100%, 95.45454545454545%)\"\n",
       "                    title=\"Line 247:   3% 200.0\"> 247             tag = True</pre>\n",
       "<pre style=\"background-color:hsl(240, 100%, 81.81818181818181%)\"\n",
       "                    title=\"Line 248:  12% 800.0\"> 248         elif c == &#x27;&gt;&#x27; and not quote:</pre>\n",
       "<pre style=\"background-color:hsl(240, 100%, 95.45454545454545%)\"\n",
       "                    title=\"Line 249:   3% 200.0\"> 249             tag = False</pre>\n",
       "<pre style=\"background-color:hsl(240, 100%, 86.36363636363636%)\"\n",
       "                    title=\"Line 250:   9% 600.0\"> 250         elif (c == &#x27;&quot;&#x27; or c == &quot;&#x27;&quot;) and tag:</pre>\n",
       "<pre style=\"background-color:hsl(240, 100%, 100.0%)\"\n",
       "                    title=\"Line 251:   0% 0.0\"> 251             quote = not quote</pre>\n",
       "<pre style=\"background-color:hsl(240, 100%, 86.36363636363636%)\"\n",
       "                    title=\"Line 252:   9% 600.0\"> 252         elif not tag:</pre>\n",
       "<pre style=\"background-color:hsl(240, 100%, 93.18181818181819%)\"\n",
       "                    title=\"Line 253:   4% 300.0\"> 253             out = out + c</pre>\n",
       "<pre style=\"background-color:hsl(240, 100%, 100.0%)\"\n",
       "                    title=\"Line 254:   0% 0.0\"> 254 &nbsp;</pre>\n",
       "<pre style=\"background-color:hsl(240, 100%, 95.45454545454545%)\"\n",
       "                    title=\"Line 255:   3% 200.0\"> 255     return out</pre>\n"
      ],
      "text/markdown": [
       "| `remove_html_markup` | `s='<b>foo</b>'` | \n",
       "| ---------------------- | ---- | \n",
       "| <samp style=\"background-color: hsl(240, 100%, 97.72727272727273%)\" title=\"  1% 100.0\">remove_html_markup:238</samp> |    X | \n",
       "| <samp style=\"background-color: hsl(240, 100%, 97.72727272727273%)\" title=\"  1% 100.0\">remove_html_markup:239</samp> |    X | \n",
       "| <samp style=\"background-color: hsl(240, 100%, 97.72727272727273%)\" title=\"  1% 100.0\">remove_html_markup:240</samp> |    X | \n",
       "| <samp style=\"background-color: hsl(240, 100%, 97.72727272727273%)\" title=\"  1% 100.0\">remove_html_markup:241</samp> |    X | \n",
       "| <samp style=\"background-color: hsl(240, 100%, 75.0%)\" title=\" 17% 1100.0\">remove_html_markup:243</samp> |    X | \n",
       "| <samp style=\"background-color: hsl(240, 100%, 77.27272727272728%)\" title=\" 15% 1000.0\">remove_html_markup:244</samp> |    X | \n",
       "| <samp style=\"background-color: hsl(240, 100%, 77.27272727272728%)\" title=\" 15% 1000.0\">remove_html_markup:246</samp> |    X | \n",
       "| <samp style=\"background-color: hsl(240, 100%, 95.45454545454545%)\" title=\"  3% 200.0\">remove_html_markup:247</samp> |    X | \n",
       "| <samp style=\"background-color: hsl(240, 100%, 81.81818181818181%)\" title=\" 12% 800.0\">remove_html_markup:248</samp> |    X | \n",
       "| <samp style=\"background-color: hsl(240, 100%, 95.45454545454545%)\" title=\"  3% 200.0\">remove_html_markup:249</samp> |    X | \n",
       "| <samp style=\"background-color: hsl(240, 100%, 86.36363636363636%)\" title=\"  9% 600.0\">remove_html_markup:250</samp> |    X | \n",
       "| <samp style=\"background-color: hsl(240, 100%, 86.36363636363636%)\" title=\"  9% 600.0\">remove_html_markup:252</samp> |    X | \n",
       "| <samp style=\"background-color: hsl(240, 100%, 93.18181818181819%)\" title=\"  4% 300.0\">remove_html_markup:253</samp> |    X | \n",
       "| <samp style=\"background-color: hsl(240, 100%, 95.45454545454545%)\" title=\"  3% 200.0\">remove_html_markup:255</samp> |    X | \n"
      ],
      "text/plain": [
       " 238   1% def remove_html_markup(s):  # type: ignore\n",
       " 239   1%     tag = False\n",
       " 240   1%     quote = False\n",
       " 241   1%     out = \"\"\n",
       " 242   0%\n",
       " 243  17%     for c in s:\n",
       " 244  15%         assert tag or not quote\n",
       " 245   0%\n",
       " 246  15%         if c == '<' and not quote:\n",
       " 247   3%             tag = True\n",
       " 248  12%         elif c == '>' and not quote:\n",
       " 249   3%             tag = False\n",
       " 250   9%         elif (c == '\"' or c == \"'\") and tag:\n",
       " 251   0%             quote = not quote\n",
       " 252   9%         elif not tag:\n",
       " 253   4%             out = out + c\n",
       " 254   0%\n",
       " 255   3%     return out"
      ]
     },
     "execution_count": 43,
     "metadata": {},
     "output_type": "execute_result"
    }
   ],
   "source": [
    "debugger"
   ]
  },
  {
   "cell_type": "markdown",
   "metadata": {
    "slideshow": {
     "slide_type": "slide"
    }
   },
   "source": [
    "## Integrating with Delta Debugging\n",
    "\n",
    "Besides identifying causes for performance issues in the code, one may also search for causes in the _input_, using [Delta Debugging](DeltaDebugger.ipynb). This can be useful if one does not immediately want to embark into investigating the code, but maybe first determine external influences that are related to performance issues."
   ]
  },
  {
   "cell_type": "markdown",
   "metadata": {
    "slideshow": {
     "slide_type": "fragment"
    }
   },
   "source": [
    "Here is a variant of `remove_html_markup()` that introduces a (rather obvious) performance issue."
   ]
  },
  {
   "cell_type": "code",
   "execution_count": 44,
   "metadata": {
    "execution": {
     "iopub.execute_input": "2021-12-13T16:26:48.640182Z",
     "iopub.status.busy": "2021-12-13T16:26:48.639400Z",
     "iopub.status.idle": "2021-12-13T16:26:48.641615Z",
     "shell.execute_reply": "2021-12-13T16:26:48.642076Z"
    },
    "slideshow": {
     "slide_type": "skip"
    }
   },
   "outputs": [],
   "source": [
    "import time"
   ]
  },
  {
   "cell_type": "code",
   "execution_count": 45,
   "metadata": {
    "execution": {
     "iopub.execute_input": "2021-12-13T16:26:48.648637Z",
     "iopub.status.busy": "2021-12-13T16:26:48.648010Z",
     "iopub.status.idle": "2021-12-13T16:26:48.649947Z",
     "shell.execute_reply": "2021-12-13T16:26:48.650598Z"
    },
    "slideshow": {
     "slide_type": "subslide"
    }
   },
   "outputs": [],
   "source": [
    "def remove_html_markup_ampersand(s: str) -> str:\n",
    "    tag = False\n",
    "    quote = False\n",
    "    out = \"\"\n",
    "\n",
    "    for c in s:\n",
    "        assert tag or not quote\n",
    "\n",
    "        if c == '&':\n",
    "            time.sleep(0.1)  # <-- the obvious performance issue\n",
    "\n",
    "        if c == '<' and not quote:\n",
    "            tag = True\n",
    "        elif c == '>' and not quote:\n",
    "            tag = False\n",
    "        elif (c == '\"' or c == \"'\") and tag:\n",
    "            quote = not quote\n",
    "        elif not tag:\n",
    "            out = out + c\n",
    "\n",
    "    return out"
   ]
  },
  {
   "cell_type": "markdown",
   "metadata": {
    "slideshow": {
     "slide_type": "subslide"
    }
   },
   "source": [
    "We can easily trigger this issue by measuring time taken:"
   ]
  },
  {
   "cell_type": "code",
   "execution_count": 46,
   "metadata": {
    "execution": {
     "iopub.execute_input": "2021-12-13T16:26:48.655639Z",
     "iopub.status.busy": "2021-12-13T16:26:48.654637Z",
     "iopub.status.idle": "2021-12-13T16:26:48.960236Z",
     "shell.execute_reply": "2021-12-13T16:26:48.960668Z"
    },
    "slideshow": {
     "slide_type": "fragment"
    }
   },
   "outputs": [
    {
     "data": {
      "text/plain": [
       "0.30237267400002565"
      ]
     },
     "execution_count": 46,
     "metadata": {},
     "output_type": "execute_result"
    }
   ],
   "source": [
    "with Timer.Timer() as t:\n",
    "    remove_html_markup_ampersand('&&&')\n",
    "t.elapsed_time()"
   ]
  },
  {
   "cell_type": "markdown",
   "metadata": {
    "slideshow": {
     "slide_type": "fragment"
    }
   },
   "source": [
    "Let us set up a test that checks whether the performance issue is present."
   ]
  },
  {
   "cell_type": "code",
   "execution_count": 47,
   "metadata": {
    "execution": {
     "iopub.execute_input": "2021-12-13T16:26:48.971235Z",
     "iopub.status.busy": "2021-12-13T16:26:48.970038Z",
     "iopub.status.idle": "2021-12-13T16:26:48.973042Z",
     "shell.execute_reply": "2021-12-13T16:26:48.973541Z"
    },
    "slideshow": {
     "slide_type": "fragment"
    }
   },
   "outputs": [],
   "source": [
    "def remove_html_test(s: str) -> None:\n",
    "    with Timer.Timer() as t:\n",
    "        remove_html_markup_ampersand(s)\n",
    "    assert t.elapsed_time() < 0.1"
   ]
  },
  {
   "cell_type": "markdown",
   "metadata": {
    "slideshow": {
     "slide_type": "fragment"
    }
   },
   "source": [
    "We can now apply delta debugging to determine a minimum input that causes the failure:"
   ]
  },
  {
   "cell_type": "code",
   "execution_count": 48,
   "metadata": {
    "execution": {
     "iopub.execute_input": "2021-12-13T16:26:48.978106Z",
     "iopub.status.busy": "2021-12-13T16:26:48.977229Z",
     "iopub.status.idle": "2021-12-13T16:26:48.979097Z",
     "shell.execute_reply": "2021-12-13T16:26:48.979812Z"
    },
    "slideshow": {
     "slide_type": "fragment"
    }
   },
   "outputs": [],
   "source": [
    "s_fail = '<b>foo&amp;</b>'"
   ]
  },
  {
   "cell_type": "code",
   "execution_count": 49,
   "metadata": {
    "execution": {
     "iopub.execute_input": "2021-12-13T16:26:48.984230Z",
     "iopub.status.busy": "2021-12-13T16:26:48.983494Z",
     "iopub.status.idle": "2021-12-13T16:26:49.088634Z",
     "shell.execute_reply": "2021-12-13T16:26:49.089240Z"
    },
    "slideshow": {
     "slide_type": "subslide"
    }
   },
   "outputs": [],
   "source": [
    "with DeltaDebugger.DeltaDebugger() as dd:\n",
    "    remove_html_test(s_fail)"
   ]
  },
  {
   "cell_type": "code",
   "execution_count": 50,
   "metadata": {
    "execution": {
     "iopub.execute_input": "2021-12-13T16:26:49.093010Z",
     "iopub.status.busy": "2021-12-13T16:26:49.092410Z",
     "iopub.status.idle": "2021-12-13T16:26:49.609607Z",
     "shell.execute_reply": "2021-12-13T16:26:49.609991Z"
    },
    "slideshow": {
     "slide_type": "fragment"
    }
   },
   "outputs": [
    {
     "data": {
      "text/plain": [
       "{'s': '&'}"
      ]
     },
     "execution_count": 50,
     "metadata": {},
     "output_type": "execute_result"
    }
   ],
   "source": [
    "dd.min_args()"
   ]
  },
  {
   "cell_type": "markdown",
   "metadata": {
    "slideshow": {
     "slide_type": "fragment"
    }
   },
   "source": [
    "For performance issues, however, a minimal input is often not enough to highlight the failure cause. This is because short inputs tend to take less processing time than longer inputs, which increases the risks of a spurious diagnosis. A better alternative is to compute a _maximum_ input where the issue does not occur:"
   ]
  },
  {
   "cell_type": "code",
   "execution_count": 51,
   "metadata": {
    "execution": {
     "iopub.execute_input": "2021-12-13T16:26:49.615118Z",
     "iopub.status.busy": "2021-12-13T16:26:49.614591Z",
     "iopub.status.idle": "2021-12-13T16:26:49.821380Z",
     "shell.execute_reply": "2021-12-13T16:26:49.821764Z"
    },
    "slideshow": {
     "slide_type": "fragment"
    }
   },
   "outputs": [],
   "source": [
    "s_pass = dd.max_args()"
   ]
  },
  {
   "cell_type": "code",
   "execution_count": 52,
   "metadata": {
    "execution": {
     "iopub.execute_input": "2021-12-13T16:26:49.825242Z",
     "iopub.status.busy": "2021-12-13T16:26:49.824678Z",
     "iopub.status.idle": "2021-12-13T16:26:49.827001Z",
     "shell.execute_reply": "2021-12-13T16:26:49.827368Z"
    },
    "slideshow": {
     "slide_type": "fragment"
    }
   },
   "outputs": [
    {
     "data": {
      "text/plain": [
       "{'s': '<b>fooamp;</b>'}"
      ]
     },
     "execution_count": 52,
     "metadata": {},
     "output_type": "execute_result"
    }
   ],
   "source": [
    "s_pass"
   ]
  },
  {
   "cell_type": "markdown",
   "metadata": {
    "slideshow": {
     "slide_type": "fragment"
    }
   },
   "source": [
    "We see that the culprit character (the `&`) is removed. This tells us the failure-inducing difference – or, more precisely, the cause for the performance issue."
   ]
  },
  {
   "cell_type": "markdown",
   "metadata": {
    "slideshow": {
     "slide_type": "slide"
    }
   },
   "source": [
    "## Synopsis"
   ]
  },
  {
   "cell_type": "markdown",
   "metadata": {
    "slideshow": {
     "slide_type": "fragment"
    }
   },
   "source": [
    "This chapter provides a class `PerformanceDebugger` that allows to measure and visualize the time taken per line in a function."
   ]
  },
  {
   "cell_type": "code",
   "execution_count": 53,
   "metadata": {
    "execution": {
     "iopub.execute_input": "2021-12-13T16:26:49.864688Z",
     "iopub.status.busy": "2021-12-13T16:26:49.835102Z",
     "iopub.status.idle": "2021-12-13T16:26:49.866372Z",
     "shell.execute_reply": "2021-12-13T16:26:49.866743Z"
    },
    "slideshow": {
     "slide_type": "fragment"
    }
   },
   "outputs": [],
   "source": [
    "with PerformanceDebugger(TimeCollector) as debugger:\n",
    "    for i in range(100):\n",
    "        s = remove_html_markup('<b>foo</b>')"
   ]
  },
  {
   "cell_type": "markdown",
   "metadata": {
    "slideshow": {
     "slide_type": "fragment"
    }
   },
   "source": [
    "The distribution of executed time within each function can be obtained by printing out the debugger:"
   ]
  },
  {
   "cell_type": "code",
   "execution_count": 54,
   "metadata": {
    "execution": {
     "iopub.execute_input": "2021-12-13T16:26:49.872725Z",
     "iopub.status.busy": "2021-12-13T16:26:49.872154Z",
     "iopub.status.idle": "2021-12-13T16:26:49.874387Z",
     "shell.execute_reply": "2021-12-13T16:26:49.874765Z"
    },
    "slideshow": {
     "slide_type": "subslide"
    }
   },
   "outputs": [
    {
     "name": "stdout",
     "output_type": "stream",
     "text": [
      " 238   2% def remove_html_markup(s):  # type: ignore\n",
      " 239   1%     tag = False\n",
      " 240   1%     quote = False\n",
      " 241   1%     out = \"\"\n",
      " 242   0%\n",
      " 243  16%     for c in s:\n",
      " 244  15%         assert tag or not quote\n",
      " 245   0%\n",
      " 246  15%         if c == '<' and not quote:\n",
      " 247   2%             tag = True\n",
      " 248  11%         elif c == '>' and not quote:\n",
      " 249   3%             tag = False\n",
      " 250   8%         elif (c == '\"' or c == \"'\") and tag:\n",
      " 251   0%             quote = not quote\n",
      " 252  11%         elif not tag:\n",
      " 253   4%             out = out + c\n",
      " 254   0%\n",
      " 255   3%     return out\n",
      "\n"
     ]
    }
   ],
   "source": [
    "print(debugger)"
   ]
  },
  {
   "cell_type": "markdown",
   "metadata": {
    "slideshow": {
     "slide_type": "subslide"
    }
   },
   "source": [
    "The sum of all percentages in a function should always be 100%."
   ]
  },
  {
   "cell_type": "markdown",
   "metadata": {
    "slideshow": {
     "slide_type": "fragment"
    }
   },
   "source": [
    "These percentages can also be visualized, where darker shades represent higher percentage values:"
   ]
  },
  {
   "cell_type": "code",
   "execution_count": 55,
   "metadata": {
    "execution": {
     "iopub.execute_input": "2021-12-13T16:26:49.879920Z",
     "iopub.status.busy": "2021-12-13T16:26:49.878454Z",
     "iopub.status.idle": "2021-12-13T16:26:49.882526Z",
     "shell.execute_reply": "2021-12-13T16:26:49.882898Z"
    },
    "slideshow": {
     "slide_type": "subslide"
    }
   },
   "outputs": [
    {
     "data": {
      "text/html": [
       "<pre style=\"background-color:hsl(240, 100%, 96.56537086488727%)\"\n",
       "                    title=\"Line 238:   2% 0.000450075999992805\"> 238 def remove_html_markup(s):  # type: ignore</pre>\n",
       "<pre style=\"background-color:hsl(240, 100%, 97.03691923167042%)\"\n",
       "                    title=\"Line 239:   1% 0.0003882840002233934\"> 239     tag = False</pre>\n",
       "<pre style=\"background-color:hsl(240, 100%, 97.19823560027139%)\"\n",
       "                    title=\"Line 240:   1% 0.0003671450000410914\"> 240     quote = False</pre>\n",
       "<pre style=\"background-color:hsl(240, 100%, 97.33649804870912%)\"\n",
       "                    title=\"Line 241:   1% 0.0003490270003112528\"> 241     out = &quot;&quot;</pre>\n",
       "<pre style=\"background-color:hsl(240, 100%, 100.0%)\"\n",
       "                    title=\"Line 242:   0% 0.0\"> 242 &nbsp;</pre>\n",
       "<pre style=\"background-color:hsl(240, 100%, 75.0%)\"\n",
       "                    title=\"Line 243:  16% 0.003276015999745141\"> 243     for c in s:</pre>\n",
       "<pre style=\"background-color:hsl(240, 100%, 77.41669302109725%)\"\n",
       "                    title=\"Line 244:  15% 0.0029593309996016615\"> 244         assert tag or not quote</pre>\n",
       "<pre style=\"background-color:hsl(240, 100%, 100.0%)\"\n",
       "                    title=\"Line 245:   0% 0.0\"> 245 &nbsp;</pre>\n",
       "<pre style=\"background-color:hsl(240, 100%, 77.20013425471288%)\"\n",
       "                    title=\"Line 246:  15% 0.002987708998944072\"> 246         if c == &#x27;&lt;&#x27; and not quote:</pre>\n",
       "<pre style=\"background-color:hsl(240, 100%, 95.53504927673406%)\"\n",
       "                    title=\"Line 247:   2% 0.000585090000299715\"> 247             tag = True</pre>\n",
       "<pre style=\"background-color:hsl(240, 100%, 82.00740625243591%)\"\n",
       "                    title=\"Line 248:  11% 0.0023577609997573745\"> 248         elif c == &#x27;&gt;&#x27; and not quote:</pre>\n",
       "<pre style=\"background-color:hsl(240, 100%, 95.44803047853415%)\"\n",
       "                    title=\"Line 249:   3% 0.0005964929993069745\"> 249             tag = False</pre>\n",
       "<pre style=\"background-color:hsl(240, 100%, 86.8139380304797%)\"\n",
       "                    title=\"Line 250:   8% 0.0017279099994311764\"> 250         elif (c == &#x27;&quot;&#x27; or c == &quot;&#x27;&quot;) and tag:</pre>\n",
       "<pre style=\"background-color:hsl(240, 100%, 100.0%)\"\n",
       "                    title=\"Line 251:   0% 0.0\"> 251             quote = not quote</pre>\n",
       "<pre style=\"background-color:hsl(240, 100%, 83.46290891870828%)\"\n",
       "                    title=\"Line 252:  11% 0.002167030998862174\"> 252         elif not tag:</pre>\n",
       "<pre style=\"background-color:hsl(240, 100%, 93.33588419757938%)\"\n",
       "                    title=\"Line 253:   4% 0.0008732699997153759\"> 253             out = out + c</pre>\n",
       "<pre style=\"background-color:hsl(240, 100%, 100.0%)\"\n",
       "                    title=\"Line 254:   0% 0.0\"> 254 &nbsp;</pre>\n",
       "<pre style=\"background-color:hsl(240, 100%, 95.43511844361407%)\"\n",
       "                    title=\"Line 255:   3% 0.0005981850006264722\"> 255     return out</pre>\n"
      ],
      "text/markdown": [
       "| `remove_html_markup` | `s='<b>foo</b>'` | \n",
       "| ---------------------- | ---- | \n",
       "| <samp style=\"background-color: hsl(240, 100%, 96.56537086488727%)\" title=\"  2% 0.000450075999992805\">remove_html_markup:238</samp> |    X | \n",
       "| <samp style=\"background-color: hsl(240, 100%, 97.03691923167042%)\" title=\"  1% 0.0003882840002233934\">remove_html_markup:239</samp> |    X | \n",
       "| <samp style=\"background-color: hsl(240, 100%, 97.19823560027139%)\" title=\"  1% 0.0003671450000410914\">remove_html_markup:240</samp> |    X | \n",
       "| <samp style=\"background-color: hsl(240, 100%, 97.33649804870912%)\" title=\"  1% 0.0003490270003112528\">remove_html_markup:241</samp> |    X | \n",
       "| <samp style=\"background-color: hsl(240, 100%, 75.0%)\" title=\" 16% 0.003276015999745141\">remove_html_markup:243</samp> |    X | \n",
       "| <samp style=\"background-color: hsl(240, 100%, 77.41669302109725%)\" title=\" 15% 0.0029593309996016615\">remove_html_markup:244</samp> |    X | \n",
       "| <samp style=\"background-color: hsl(240, 100%, 77.20013425471288%)\" title=\" 15% 0.002987708998944072\">remove_html_markup:246</samp> |    X | \n",
       "| <samp style=\"background-color: hsl(240, 100%, 95.53504927673406%)\" title=\"  2% 0.000585090000299715\">remove_html_markup:247</samp> |    X | \n",
       "| <samp style=\"background-color: hsl(240, 100%, 82.00740625243591%)\" title=\" 11% 0.0023577609997573745\">remove_html_markup:248</samp> |    X | \n",
       "| <samp style=\"background-color: hsl(240, 100%, 95.44803047853415%)\" title=\"  3% 0.0005964929993069745\">remove_html_markup:249</samp> |    X | \n",
       "| <samp style=\"background-color: hsl(240, 100%, 86.8139380304797%)\" title=\"  8% 0.0017279099994311764\">remove_html_markup:250</samp> |    X | \n",
       "| <samp style=\"background-color: hsl(240, 100%, 83.46290891870828%)\" title=\" 11% 0.002167030998862174\">remove_html_markup:252</samp> |    X | \n",
       "| <samp style=\"background-color: hsl(240, 100%, 93.33588419757938%)\" title=\"  4% 0.0008732699997153759\">remove_html_markup:253</samp> |    X | \n",
       "| <samp style=\"background-color: hsl(240, 100%, 95.43511844361407%)\" title=\"  3% 0.0005981850006264722\">remove_html_markup:255</samp> |    X | \n"
      ],
      "text/plain": [
       " 238   2% def remove_html_markup(s):  # type: ignore\n",
       " 239   1%     tag = False\n",
       " 240   1%     quote = False\n",
       " 241   1%     out = \"\"\n",
       " 242   0%\n",
       " 243  16%     for c in s:\n",
       " 244  15%         assert tag or not quote\n",
       " 245   0%\n",
       " 246  15%         if c == '<' and not quote:\n",
       " 247   2%             tag = True\n",
       " 248  11%         elif c == '>' and not quote:\n",
       " 249   3%             tag = False\n",
       " 250   8%         elif (c == '\"' or c == \"'\") and tag:\n",
       " 251   0%             quote = not quote\n",
       " 252  11%         elif not tag:\n",
       " 253   4%             out = out + c\n",
       " 254   0%\n",
       " 255   3%     return out"
      ]
     },
     "execution_count": 55,
     "metadata": {},
     "output_type": "execute_result"
    }
   ],
   "source": [
    "debugger"
   ]
  },
  {
   "cell_type": "markdown",
   "metadata": {
    "slideshow": {
     "slide_type": "subslide"
    }
   },
   "source": [
    "The abstract `MetricCollector` class allows subclassing to build more collectors, such as `HitCollector`."
   ]
  },
  {
   "cell_type": "code",
   "execution_count": 56,
   "metadata": {
    "execution": {
     "iopub.execute_input": "2021-12-13T16:26:49.885999Z",
     "iopub.status.busy": "2021-12-13T16:26:49.885486Z",
     "iopub.status.idle": "2021-12-13T16:26:49.887181Z",
     "shell.execute_reply": "2021-12-13T16:26:49.887595Z"
    },
    "slideshow": {
     "slide_type": "fragment"
    }
   },
   "outputs": [],
   "source": [
    "# ignore\n",
    "from ClassDiagram import display_class_hierarchy"
   ]
  },
  {
   "cell_type": "code",
   "execution_count": 57,
   "metadata": {
    "execution": {
     "iopub.execute_input": "2021-12-13T16:26:49.927890Z",
     "iopub.status.busy": "2021-12-13T16:26:49.926967Z",
     "iopub.status.idle": "2021-12-13T16:26:50.697554Z",
     "shell.execute_reply": "2021-12-13T16:26:50.697959Z"
    },
    "slideshow": {
     "slide_type": "fragment"
    }
   },
   "outputs": [
    {
     "data": {
      "image/svg+xml": [
       "<?xml version=\"1.0\" encoding=\"UTF-8\" standalone=\"no\"?>\n",
       "<!DOCTYPE svg PUBLIC \"-//W3C//DTD SVG 1.1//EN\"\n",
       " \"http://www.w3.org/Graphics/SVG/1.1/DTD/svg11.dtd\">\n",
       "<!-- Generated by graphviz version 2.49.3 (20211023.0002)\n",
       " -->\n",
       "<!-- Pages: 1 -->\n",
       "<svg width=\"606pt\" height=\"1037pt\"\n",
       " viewBox=\"0.00 0.00 606.00 1037.00\" xmlns=\"http://www.w3.org/2000/svg\" xmlns:xlink=\"http://www.w3.org/1999/xlink\">\n",
       "<g id=\"graph0\" class=\"graph\" transform=\"scale(1 1) rotate(0) translate(4 1033)\">\n",
       "<g id=\"a_graph0\"><a xlink:title=\"PerformanceDebugger class hierarchy\">\n",
       "<polygon fill=\"white\" stroke=\"transparent\" points=\"-4,4 -4,-1033 602,-1033 602,4 -4,4\"/>\n",
       "</a>\n",
       "</g>\n",
       "<!-- PerformanceDebugger -->\n",
       "<g id=\"node1\" class=\"node\">\n",
       "<title>PerformanceDebugger</title>\n",
       "<g id=\"a_node1\"><a xlink:href=\"#\" xlink:title=\"class PerformanceDebugger:&#10;Collect and visualize a metric\">\n",
       "<polygon fill=\"none\" stroke=\"black\" points=\"0,-28 0,-70 162,-70 162,-28 0,-28\"/>\n",
       "<text text-anchor=\"start\" x=\"8\" y=\"-55.8\" font-family=\"Raleway, Helvetica, Arial, sans-serif\" font-weight=\"bold\" font-size=\"14.00\" fill=\"#6a0dad\">PerformanceDebugger</text>\n",
       "<polyline fill=\"none\" stroke=\"black\" points=\"0,-47 162,-47 \"/>\n",
       "<g id=\"a_node1_0\"><a xlink:href=\"#\" xlink:title=\"PerformanceDebugger\">\n",
       "<g id=\"a_node1_1\"><a xlink:href=\"#\" xlink:title=\"__init__(self, collector_class: Type, log: bool = False):&#10;Constructor. Use instances of `collector_class` to collect events.\">\n",
       "<text text-anchor=\"start\" x=\"51\" y=\"-35.5\" font-family=\"'Fira Mono', 'Source Code Pro', 'Courier', monospace\" font-weight=\"bold\" font-style=\"italic\" font-size=\"10.00\">__init__()</text>\n",
       "</a>\n",
       "</g>\n",
       "</a>\n",
       "</g>\n",
       "</a>\n",
       "</g>\n",
       "</g>\n",
       "<!-- MetricDebugger -->\n",
       "<g id=\"node2\" class=\"node\">\n",
       "<title>MetricDebugger</title>\n",
       "<g id=\"a_node2\"><a xlink:href=\"#\" xlink:title=\"class MetricDebugger:&#10;Visualize a metric\">\n",
       "<polygon fill=\"none\" stroke=\"black\" points=\"21,-134.5 21,-231.5 141,-231.5 141,-134.5 21,-134.5\"/>\n",
       "<text text-anchor=\"start\" x=\"29\" y=\"-217.3\" font-family=\"Raleway, Helvetica, Arial, sans-serif\" font-weight=\"bold\" font-size=\"14.00\" fill=\"#6a0dad\">MetricDebugger</text>\n",
       "<polyline fill=\"none\" stroke=\"black\" points=\"21,-208.5 141,-208.5 \"/>\n",
       "<g id=\"a_node2_2\"><a xlink:href=\"#\" xlink:title=\"MetricDebugger\">\n",
       "<g id=\"a_node2_3\"><a xlink:href=\"#\" xlink:title=\"color(self, location: Tuple[str, int]) &#45;&gt; str:&#10;Return a color for the given event, or None.&#10;To be overloaded in subclasses.\">\n",
       "<text text-anchor=\"start\" x=\"33\" y=\"-197.5\" font-family=\"'Fira Mono', 'Source Code Pro', 'Courier', monospace\" font-style=\"italic\" font-size=\"10.00\">color()</text>\n",
       "</a>\n",
       "</g>\n",
       "<g id=\"a_node2_4\"><a xlink:href=\"#\" xlink:title=\"maximum(self, func_name: str) &#45;&gt; float\">\n",
       "<text text-anchor=\"start\" x=\"33\" y=\"-185.5\" font-family=\"'Fira Mono', 'Source Code Pro', 'Courier', monospace\" font-size=\"10.00\">maximum()</text>\n",
       "</a>\n",
       "</g>\n",
       "<g id=\"a_node2_5\"><a xlink:href=\"#\" xlink:title=\"metric(self, location: Tuple[str, int]) &#45;&gt; float\">\n",
       "<text text-anchor=\"start\" x=\"33\" y=\"-174.5\" font-family=\"'Fira Mono', 'Source Code Pro', 'Courier', monospace\" font-size=\"10.00\">metric()</text>\n",
       "</a>\n",
       "</g>\n",
       "<g id=\"a_node2_6\"><a xlink:href=\"#\" xlink:title=\"suspiciousness(self, location: Tuple[str, int]) &#45;&gt; float:&#10;Return a suspiciousness value in the range [0, 1.0]&#10;for the given event, or `None` if unknown.&#10;To be overloaded in subclasses.\">\n",
       "<text text-anchor=\"start\" x=\"33\" y=\"-164.5\" font-family=\"'Fira Mono', 'Source Code Pro', 'Courier', monospace\" font-style=\"italic\" font-size=\"10.00\">suspiciousness()</text>\n",
       "</a>\n",
       "</g>\n",
       "<g id=\"a_node2_7\"><a xlink:href=\"#\" xlink:title=\"tooltip(self, location: Tuple[str, int]) &#45;&gt; str:&#10;Return a tooltip for the given event (default: percentage).&#10;To be overloaded in subclasses.\">\n",
       "<text text-anchor=\"start\" x=\"33\" y=\"-153.5\" font-family=\"'Fira Mono', 'Source Code Pro', 'Courier', monospace\" font-style=\"italic\" font-size=\"10.00\">tooltip()</text>\n",
       "</a>\n",
       "</g>\n",
       "<g id=\"a_node2_8\"><a xlink:href=\"#\" xlink:title=\"total(self, func_name: str) &#45;&gt; float\">\n",
       "<text text-anchor=\"start\" x=\"33\" y=\"-141.5\" font-family=\"'Fira Mono', 'Source Code Pro', 'Courier', monospace\" font-size=\"10.00\">total()</text>\n",
       "</a>\n",
       "</g>\n",
       "</a>\n",
       "</g>\n",
       "</a>\n",
       "</g>\n",
       "</g>\n",
       "<!-- PerformanceDebugger&#45;&gt;MetricDebugger -->\n",
       "<g id=\"edge1\" class=\"edge\">\n",
       "<title>PerformanceDebugger&#45;&gt;MetricDebugger</title>\n",
       "<path fill=\"none\" stroke=\"black\" d=\"M81,-70.05C81,-84.54 81,-104.91 81,-124.3\"/>\n",
       "<polygon fill=\"none\" stroke=\"black\" points=\"77.5,-124.32 81,-134.32 84.5,-124.32 77.5,-124.32\"/>\n",
       "</g>\n",
       "<!-- SpectrumDebugger -->\n",
       "<g id=\"node3\" class=\"node\">\n",
       "<title>SpectrumDebugger</title>\n",
       "<g id=\"a_node3\"><a xlink:href=\"StatisticalDebugger.ipynb\" xlink:title=\"class SpectrumDebugger:&#10;A class to collect events for passing and failing outcomes.\">\n",
       "<polygon fill=\"none\" stroke=\"black\" points=\"10,-268.5 10,-376.5 152,-376.5 152,-268.5 10,-268.5\"/>\n",
       "<text text-anchor=\"start\" x=\"18\" y=\"-362.3\" font-family=\"Raleway, Helvetica, Arial, sans-serif\" font-weight=\"bold\" font-size=\"14.00\" fill=\"#6a0dad\">SpectrumDebugger</text>\n",
       "<polyline fill=\"none\" stroke=\"black\" points=\"10,-353.5 152,-353.5 \"/>\n",
       "<g id=\"a_node3_9\"><a xlink:href=\"#\" xlink:title=\"SpectrumDebugger\">\n",
       "<g id=\"a_node3_10\"><a xlink:href=\"StatisticalDebugger.ipynb\" xlink:title=\"__repr__(self) &#45;&gt; str:&#10;Show code as string\">\n",
       "<text text-anchor=\"start\" x=\"33\" y=\"-342\" font-family=\"'Fira Mono', 'Source Code Pro', 'Courier', monospace\" font-style=\"italic\" font-size=\"10.00\">__repr__()</text>\n",
       "</a>\n",
       "</g>\n",
       "<g id=\"a_node3_11\"><a xlink:href=\"StatisticalDebugger.ipynb\" xlink:title=\"__str__(self) &#45;&gt; str:&#10;Show code as string\">\n",
       "<text text-anchor=\"start\" x=\"33\" y=\"-330\" font-family=\"'Fira Mono', 'Source Code Pro', 'Courier', monospace\" font-size=\"10.00\">__str__()</text>\n",
       "</a>\n",
       "</g>\n",
       "<g id=\"a_node3_12\"><a xlink:href=\"StatisticalDebugger.ipynb\" xlink:title=\"_repr_html_(self) &#45;&gt; str:&#10;When output in Jupyter, visualize as HTML\">\n",
       "<text text-anchor=\"start\" x=\"33\" y=\"-319\" font-family=\"'Fira Mono', 'Source Code Pro', 'Courier', monospace\" font-size=\"10.00\">_repr_html_()</text>\n",
       "</a>\n",
       "</g>\n",
       "<g id=\"a_node3_13\"><a xlink:href=\"StatisticalDebugger.ipynb\" xlink:title=\"code(self, functions: Optional[Set[Callable]] = None, *, color: bool = False, suspiciousness: bool = False, line_numbers: bool = True) &#45;&gt; str:&#10;Return a listing of `functions` (default: covered functions).&#10;If `color` is True, render as HTML, using suspiciousness colors.&#10;If `suspiciousness` is True, include suspiciousness values.&#10;If `line_numbers` is True (default), include line numbers.\">\n",
       "<text text-anchor=\"start\" x=\"33\" y=\"-308\" font-family=\"'Fira Mono', 'Source Code Pro', 'Courier', monospace\" font-size=\"10.00\">code()</text>\n",
       "</a>\n",
       "</g>\n",
       "<g id=\"a_node3_14\"><a xlink:href=\"StatisticalDebugger.ipynb\" xlink:title=\"percentage(self, event: Any) &#45;&gt; str:&#10;Return the suspiciousness for the given event as percentage string.\">\n",
       "<text text-anchor=\"start\" x=\"33\" y=\"-297\" font-family=\"'Fira Mono', 'Source Code Pro', 'Courier', monospace\" font-size=\"10.00\">percentage()</text>\n",
       "</a>\n",
       "</g>\n",
       "<g id=\"a_node3_15\"><a xlink:href=\"StatisticalDebugger.ipynb\" xlink:title=\"suspiciousness(self, event: Any) &#45;&gt; Optional[float]:&#10;Return a suspiciousness value in the range [0, 1.0]&#10;for the given event, or `None` if unknown.&#10;To be overloaded in subclasses.\">\n",
       "<text text-anchor=\"start\" x=\"33\" y=\"-287\" font-family=\"'Fira Mono', 'Source Code Pro', 'Courier', monospace\" font-style=\"italic\" font-size=\"10.00\">suspiciousness()</text>\n",
       "</a>\n",
       "</g>\n",
       "<g id=\"a_node3_16\"><a xlink:href=\"StatisticalDebugger.ipynb\" xlink:title=\"tooltip(self, event: Any) &#45;&gt; str:&#10;Return a tooltip for the given event (default: percentage).&#10;To be overloaded in subclasses.\">\n",
       "<text text-anchor=\"start\" x=\"33\" y=\"-276\" font-family=\"'Fira Mono', 'Source Code Pro', 'Courier', monospace\" font-style=\"italic\" font-size=\"10.00\">tooltip()</text>\n",
       "</a>\n",
       "</g>\n",
       "</a>\n",
       "</g>\n",
       "</a>\n",
       "</g>\n",
       "</g>\n",
       "<!-- MetricDebugger&#45;&gt;SpectrumDebugger -->\n",
       "<g id=\"edge2\" class=\"edge\">\n",
       "<title>MetricDebugger&#45;&gt;SpectrumDebugger</title>\n",
       "<path fill=\"none\" stroke=\"black\" d=\"M81,-231.7C81,-240.18 81,-249.12 81,-257.96\"/>\n",
       "<polygon fill=\"none\" stroke=\"black\" points=\"77.5,-258.23 81,-268.23 84.5,-258.23 77.5,-258.23\"/>\n",
       "</g>\n",
       "<!-- DifferenceDebugger -->\n",
       "<g id=\"node4\" class=\"node\">\n",
       "<title>DifferenceDebugger</title>\n",
       "<g id=\"a_node4\"><a xlink:href=\"StatisticalDebugger.ipynb\" xlink:title=\"class DifferenceDebugger:&#10;A class to collect events for passing and failing outcomes.\">\n",
       "<polygon fill=\"none\" stroke=\"black\" points=\"9,-420.5 9,-591.5 153,-591.5 153,-420.5 9,-420.5\"/>\n",
       "<text text-anchor=\"start\" x=\"17\" y=\"-577.3\" font-family=\"Raleway, Helvetica, Arial, sans-serif\" font-weight=\"bold\" font-size=\"14.00\" fill=\"#6a0dad\">DifferenceDebugger</text>\n",
       "<polyline fill=\"none\" stroke=\"black\" points=\"9,-568.5 153,-568.5 \"/>\n",
       "<g id=\"a_node4_17\"><a xlink:href=\"#\" xlink:title=\"DifferenceDebugger\">\n",
       "<g id=\"a_node4_18\"><a xlink:href=\"StatisticalDebugger.ipynb\" xlink:title=\"FAIL = &#39;FAIL&#39;\">\n",
       "<text text-anchor=\"start\" x=\"69\" y=\"-556.5\" font-family=\"'Fira Mono', 'Source Code Pro', 'Courier', monospace\" font-size=\"10.00\">FAIL</text>\n",
       "</a>\n",
       "</g>\n",
       "<g id=\"a_node4_19\"><a xlink:href=\"StatisticalDebugger.ipynb\" xlink:title=\"PASS = &#39;PASS&#39;\">\n",
       "<text text-anchor=\"start\" x=\"69\" y=\"-545.5\" font-family=\"'Fira Mono', 'Source Code Pro', 'Courier', monospace\" font-size=\"10.00\">PASS</text>\n",
       "</a>\n",
       "</g>\n",
       "</a>\n",
       "</g>\n",
       "<polyline fill=\"none\" stroke=\"black\" points=\"9,-538.5 153,-538.5 \"/>\n",
       "<g id=\"a_node4_20\"><a xlink:href=\"#\" xlink:title=\"DifferenceDebugger\">\n",
       "<g id=\"a_node4_21\"><a xlink:href=\"StatisticalDebugger.ipynb\" xlink:title=\"__enter__(self) &#45;&gt; Any:&#10;Enter a `with` block. Collect coverage and outcome;&#10;classify as FAIL if the block raises an exception,&#10;and PASS if it does not.\">\n",
       "<text text-anchor=\"start\" x=\"27\" y=\"-526.5\" font-family=\"'Fira Mono', 'Source Code Pro', 'Courier', monospace\" font-size=\"10.00\">__enter__()</text>\n",
       "</a>\n",
       "</g>\n",
       "<g id=\"a_node4_22\"><a xlink:href=\"StatisticalDebugger.ipynb\" xlink:title=\"__exit__(self, exc_tp: Type, exc_value: BaseException, exc_traceback: traceback) &#45;&gt; Optional[bool]:&#10;Exit the `with` block.\">\n",
       "<text text-anchor=\"start\" x=\"27\" y=\"-515.5\" font-family=\"'Fira Mono', 'Source Code Pro', 'Courier', monospace\" font-size=\"10.00\">__exit__()</text>\n",
       "</a>\n",
       "</g>\n",
       "<g id=\"a_node4_23\"><a xlink:href=\"StatisticalDebugger.ipynb\" xlink:title=\"all_fail_events(self) &#45;&gt; Set[Any]:&#10;Return all events observed in failing runs.\">\n",
       "<text text-anchor=\"start\" x=\"27\" y=\"-504.5\" font-family=\"'Fira Mono', 'Source Code Pro', 'Courier', monospace\" font-size=\"10.00\">all_fail_events()</text>\n",
       "</a>\n",
       "</g>\n",
       "<g id=\"a_node4_24\"><a xlink:href=\"StatisticalDebugger.ipynb\" xlink:title=\"all_pass_events(self) &#45;&gt; Set[Any]:&#10;Return all events observed in passing runs.\">\n",
       "<text text-anchor=\"start\" x=\"27\" y=\"-493.5\" font-family=\"'Fira Mono', 'Source Code Pro', 'Courier', monospace\" font-size=\"10.00\">all_pass_events()</text>\n",
       "</a>\n",
       "</g>\n",
       "<g id=\"a_node4_25\"><a xlink:href=\"StatisticalDebugger.ipynb\" xlink:title=\"collect_fail(self, *args: Any, **kwargs: Any) &#45;&gt; StatisticalDebugger.Collector:&#10;Return a collector for failing runs.\">\n",
       "<text text-anchor=\"start\" x=\"27\" y=\"-482.5\" font-family=\"'Fira Mono', 'Source Code Pro', 'Courier', monospace\" font-size=\"10.00\">collect_fail()</text>\n",
       "</a>\n",
       "</g>\n",
       "<g id=\"a_node4_26\"><a xlink:href=\"StatisticalDebugger.ipynb\" xlink:title=\"collect_pass(self, *args: Any, **kwargs: Any) &#45;&gt; StatisticalDebugger.Collector:&#10;Return a collector for passing runs.\">\n",
       "<text text-anchor=\"start\" x=\"27\" y=\"-471.5\" font-family=\"'Fira Mono', 'Source Code Pro', 'Courier', monospace\" font-size=\"10.00\">collect_pass()</text>\n",
       "</a>\n",
       "</g>\n",
       "<g id=\"a_node4_27\"><a xlink:href=\"StatisticalDebugger.ipynb\" xlink:title=\"fail_collectors(self) &#45;&gt; List[StatisticalDebugger.Collector]\">\n",
       "<text text-anchor=\"start\" x=\"27\" y=\"-460.5\" font-family=\"'Fira Mono', 'Source Code Pro', 'Courier', monospace\" font-size=\"10.00\">fail_collectors()</text>\n",
       "</a>\n",
       "</g>\n",
       "<g id=\"a_node4_28\"><a xlink:href=\"StatisticalDebugger.ipynb\" xlink:title=\"only_fail_events(self) &#45;&gt; Set[Any]:&#10;Return all events observed only in failing runs.\">\n",
       "<text text-anchor=\"start\" x=\"27\" y=\"-449.5\" font-family=\"'Fira Mono', 'Source Code Pro', 'Courier', monospace\" font-size=\"10.00\">only_fail_events()</text>\n",
       "</a>\n",
       "</g>\n",
       "<g id=\"a_node4_29\"><a xlink:href=\"StatisticalDebugger.ipynb\" xlink:title=\"only_pass_events(self) &#45;&gt; Set[Any]:&#10;Return all events observed only in passing runs.\">\n",
       "<text text-anchor=\"start\" x=\"27\" y=\"-438.5\" font-family=\"'Fira Mono', 'Source Code Pro', 'Courier', monospace\" font-size=\"10.00\">only_pass_events()</text>\n",
       "</a>\n",
       "</g>\n",
       "<g id=\"a_node4_30\"><a xlink:href=\"StatisticalDebugger.ipynb\" xlink:title=\"pass_collectors(self) &#45;&gt; List[StatisticalDebugger.Collector]\">\n",
       "<text text-anchor=\"start\" x=\"27\" y=\"-427.5\" font-family=\"'Fira Mono', 'Source Code Pro', 'Courier', monospace\" font-size=\"10.00\">pass_collectors()</text>\n",
       "</a>\n",
       "</g>\n",
       "</a>\n",
       "</g>\n",
       "</a>\n",
       "</g>\n",
       "</g>\n",
       "<!-- SpectrumDebugger&#45;&gt;DifferenceDebugger -->\n",
       "<g id=\"edge3\" class=\"edge\">\n",
       "<title>SpectrumDebugger&#45;&gt;DifferenceDebugger</title>\n",
       "<path fill=\"none\" stroke=\"black\" d=\"M81,-376.97C81,-387.49 81,-398.81 81,-410.22\"/>\n",
       "<polygon fill=\"none\" stroke=\"black\" points=\"77.5,-410.24 81,-420.24 84.5,-410.24 77.5,-410.24\"/>\n",
       "</g>\n",
       "<!-- StatisticalDebugger -->\n",
       "<g id=\"node5\" class=\"node\">\n",
       "<title>StatisticalDebugger</title>\n",
       "<g id=\"a_node5\"><a xlink:href=\"StatisticalDebugger.ipynb\" xlink:title=\"class StatisticalDebugger:&#10;A class to collect events for multiple outcomes.\">\n",
       "<polygon fill=\"none\" stroke=\"black\" points=\"11.5,-635.5 11.5,-820.5 150.5,-820.5 150.5,-635.5 11.5,-635.5\"/>\n",
       "<text text-anchor=\"start\" x=\"19.5\" y=\"-806.3\" font-family=\"Raleway, Helvetica, Arial, sans-serif\" font-weight=\"bold\" font-size=\"14.00\" fill=\"#6a0dad\">StatisticalDebugger</text>\n",
       "<polyline fill=\"none\" stroke=\"black\" points=\"11.5,-797.5 150.5,-797.5 \"/>\n",
       "<g id=\"a_node5_31\"><a xlink:href=\"#\" xlink:title=\"StatisticalDebugger\">\n",
       "<g id=\"a_node5_32\"><a xlink:href=\"StatisticalDebugger.ipynb\" xlink:title=\"__init__(self, collector_class: Type = &lt;class &#39;StatisticalDebugger.CoverageCollector&#39;&gt;, log: bool = False):&#10;Constructor. Use instances of `collector_class` to collect events.\">\n",
       "<text text-anchor=\"start\" x=\"24\" y=\"-786.5\" font-family=\"'Fira Mono', 'Source Code Pro', 'Courier', monospace\" font-style=\"italic\" font-size=\"10.00\">__init__()</text>\n",
       "</a>\n",
       "</g>\n",
       "<g id=\"a_node5_33\"><a xlink:href=\"StatisticalDebugger.ipynb\" xlink:title=\"__repr__(self) &#45;&gt; str:&#10;Return repr(self).\">\n",
       "<text text-anchor=\"start\" x=\"24\" y=\"-775.5\" font-family=\"'Fira Mono', 'Source Code Pro', 'Courier', monospace\" font-style=\"italic\" font-size=\"10.00\">__repr__()</text>\n",
       "</a>\n",
       "</g>\n",
       "<g id=\"a_node5_34\"><a xlink:href=\"StatisticalDebugger.ipynb\" xlink:title=\"_repr_markdown_(self) &#45;&gt; str\">\n",
       "<text text-anchor=\"start\" x=\"24\" y=\"-763.5\" font-family=\"'Fira Mono', 'Source Code Pro', 'Courier', monospace\" font-size=\"10.00\">_repr_markdown_()</text>\n",
       "</a>\n",
       "</g>\n",
       "<g id=\"a_node5_35\"><a xlink:href=\"StatisticalDebugger.ipynb\" xlink:title=\"add_collector(self, outcome: str, collector: StatisticalDebugger.Collector) &#45;&gt; StatisticalDebugger.Collector\">\n",
       "<text text-anchor=\"start\" x=\"24\" y=\"-752.5\" font-family=\"'Fira Mono', 'Source Code Pro', 'Courier', monospace\" font-size=\"10.00\">add_collector()</text>\n",
       "</a>\n",
       "</g>\n",
       "<g id=\"a_node5_36\"><a xlink:href=\"StatisticalDebugger.ipynb\" xlink:title=\"all_events(self, outcome: Optional[str] = None) &#45;&gt; Set[Any]:&#10;Return a set of all events observed.\">\n",
       "<text text-anchor=\"start\" x=\"24\" y=\"-741.5\" font-family=\"'Fira Mono', 'Source Code Pro', 'Courier', monospace\" font-size=\"10.00\">all_events()</text>\n",
       "</a>\n",
       "</g>\n",
       "<g id=\"a_node5_37\"><a xlink:href=\"StatisticalDebugger.ipynb\" xlink:title=\"collect(self, outcome: str, *args: Any, **kwargs: Any) &#45;&gt; StatisticalDebugger.Collector:&#10;Return a collector for the given outcome.&#10;Additional args are passed to the collector.\">\n",
       "<text text-anchor=\"start\" x=\"24\" y=\"-730.5\" font-family=\"'Fira Mono', 'Source Code Pro', 'Courier', monospace\" font-size=\"10.00\">collect()</text>\n",
       "</a>\n",
       "</g>\n",
       "<g id=\"a_node5_38\"><a xlink:href=\"StatisticalDebugger.ipynb\" xlink:title=\"color(self, event: Any) &#45;&gt; Optional[str]:&#10;Return a color for the given event, or None.&#10;To be overloaded in subclasses.\">\n",
       "<text text-anchor=\"start\" x=\"24\" y=\"-720.5\" font-family=\"'Fira Mono', 'Source Code Pro', 'Courier', monospace\" font-style=\"italic\" font-size=\"10.00\">color()</text>\n",
       "</a>\n",
       "</g>\n",
       "<g id=\"a_node5_39\"><a xlink:href=\"StatisticalDebugger.ipynb\" xlink:title=\"coverage(self) &#45;&gt; Set[Tuple[Callable, int]]:&#10;Return a set of all (functions, line_numbers) observed\">\n",
       "<text text-anchor=\"start\" x=\"24\" y=\"-708.5\" font-family=\"'Fira Mono', 'Source Code Pro', 'Courier', monospace\" font-size=\"10.00\">coverage()</text>\n",
       "</a>\n",
       "</g>\n",
       "<g id=\"a_node5_40\"><a xlink:href=\"StatisticalDebugger.ipynb\" xlink:title=\"covered_functions(self) &#45;&gt; Set[Callable]:&#10;Return a set of all functions observed.\">\n",
       "<text text-anchor=\"start\" x=\"24\" y=\"-697.5\" font-family=\"'Fira Mono', 'Source Code Pro', 'Courier', monospace\" font-size=\"10.00\">covered_functions()</text>\n",
       "</a>\n",
       "</g>\n",
       "<g id=\"a_node5_41\"><a xlink:href=\"StatisticalDebugger.ipynb\" xlink:title=\"event_str(self, event: Any) &#45;&gt; str:&#10;Format the given event. To be overloaded in subclasses.\">\n",
       "<text text-anchor=\"start\" x=\"24\" y=\"-687.5\" font-family=\"'Fira Mono', 'Source Code Pro', 'Courier', monospace\" font-style=\"italic\" font-size=\"10.00\">event_str()</text>\n",
       "</a>\n",
       "</g>\n",
       "<g id=\"a_node5_42\"><a xlink:href=\"StatisticalDebugger.ipynb\" xlink:title=\"event_table(self, **_args: Any) &#45;&gt; Any:&#10;Print out event table in Markdown format.\">\n",
       "<text text-anchor=\"start\" x=\"24\" y=\"-675.5\" font-family=\"'Fira Mono', 'Source Code Pro', 'Courier', monospace\" font-size=\"10.00\">event_table()</text>\n",
       "</a>\n",
       "</g>\n",
       "<g id=\"a_node5_43\"><a xlink:href=\"StatisticalDebugger.ipynb\" xlink:title=\"event_table_text(self, *, args: bool = False, color: bool = False) &#45;&gt; str:&#10;Print out a table of events observed.&#10;If `args` is True, use arguments as headers.&#10;If `color` is True, use colors.\">\n",
       "<text text-anchor=\"start\" x=\"24\" y=\"-664.5\" font-family=\"'Fira Mono', 'Source Code Pro', 'Courier', monospace\" font-size=\"10.00\">event_table_text()</text>\n",
       "</a>\n",
       "</g>\n",
       "<g id=\"a_node5_44\"><a xlink:href=\"StatisticalDebugger.ipynb\" xlink:title=\"function(self) &#45;&gt; Optional[Callable]:&#10;Return the entry function from the events observed,&#10;or None if ambiguous.\">\n",
       "<text text-anchor=\"start\" x=\"24\" y=\"-653.5\" font-family=\"'Fira Mono', 'Source Code Pro', 'Courier', monospace\" font-size=\"10.00\">function()</text>\n",
       "</a>\n",
       "</g>\n",
       "<g id=\"a_node5_45\"><a xlink:href=\"StatisticalDebugger.ipynb\" xlink:title=\"tooltip(self, event: Any) &#45;&gt; Optional[str]:&#10;Return a tooltip string for the given event, or None.&#10;To be overloaded in subclasses.\">\n",
       "<text text-anchor=\"start\" x=\"24\" y=\"-643.5\" font-family=\"'Fira Mono', 'Source Code Pro', 'Courier', monospace\" font-style=\"italic\" font-size=\"10.00\">tooltip()</text>\n",
       "</a>\n",
       "</g>\n",
       "</a>\n",
       "</g>\n",
       "</a>\n",
       "</g>\n",
       "</g>\n",
       "<!-- DifferenceDebugger&#45;&gt;StatisticalDebugger -->\n",
       "<g id=\"edge4\" class=\"edge\">\n",
       "<title>DifferenceDebugger&#45;&gt;StatisticalDebugger</title>\n",
       "<path fill=\"none\" stroke=\"black\" d=\"M81,-591.74C81,-602.68 81,-613.97 81,-625.14\"/>\n",
       "<polygon fill=\"none\" stroke=\"black\" points=\"77.5,-625.36 81,-635.36 84.5,-625.36 77.5,-625.36\"/>\n",
       "</g>\n",
       "<!-- TimeCollector -->\n",
       "<g id=\"node6\" class=\"node\">\n",
       "<title>TimeCollector</title>\n",
       "<g id=\"a_node6\"><a xlink:href=\"#\" xlink:title=\"class TimeCollector:&#10;Collect time executed for each line\">\n",
       "<polygon fill=\"none\" stroke=\"black\" points=\"243.5,-0.5 243.5,-97.5 348.5,-97.5 348.5,-0.5 243.5,-0.5\"/>\n",
       "<text text-anchor=\"start\" x=\"251.5\" y=\"-83.3\" font-family=\"Raleway, Helvetica, Arial, sans-serif\" font-weight=\"bold\" font-size=\"14.00\" fill=\"#6a0dad\">TimeCollector</text>\n",
       "<polyline fill=\"none\" stroke=\"black\" points=\"243.5,-74.5 348.5,-74.5 \"/>\n",
       "<g id=\"a_node6_46\"><a xlink:href=\"#\" xlink:title=\"TimeCollector\">\n",
       "<g id=\"a_node6_47\"><a xlink:href=\"#\" xlink:title=\"__enter__(self) &#45;&gt; Any:&#10;Called at begin of `with` block. Turn tracing on.\">\n",
       "<text text-anchor=\"start\" x=\"257\" y=\"-63.5\" font-family=\"'Fira Mono', 'Source Code Pro', 'Courier', monospace\" font-style=\"italic\" font-size=\"10.00\">__enter__()</text>\n",
       "</a>\n",
       "</g>\n",
       "<g id=\"a_node6_48\"><a xlink:href=\"#\" xlink:title=\"__init__(self) &#45;&gt; None:&#10;Constructor\">\n",
       "<text text-anchor=\"start\" x=\"257\" y=\"-52.5\" font-family=\"'Fira Mono', 'Source Code Pro', 'Courier', monospace\" font-style=\"italic\" font-size=\"10.00\">__init__()</text>\n",
       "</a>\n",
       "</g>\n",
       "<g id=\"a_node6_49\"><a xlink:href=\"#\" xlink:title=\"all_metrics(self, func: str) &#45;&gt; List[float]:&#10;Return all metric for a function `func`.\">\n",
       "<text text-anchor=\"start\" x=\"257\" y=\"-41.5\" font-family=\"'Fira Mono', 'Source Code Pro', 'Courier', monospace\" font-style=\"italic\" font-size=\"10.00\">all_metrics()</text>\n",
       "</a>\n",
       "</g>\n",
       "<g id=\"a_node6_50\"><a xlink:href=\"#\" xlink:title=\"collect(self, frame: frame, event: str, arg: Any) &#45;&gt; None:&#10;Invoked for every line executed. Accumulate time spent.\">\n",
       "<text text-anchor=\"start\" x=\"257\" y=\"-30.5\" font-family=\"'Fira Mono', 'Source Code Pro', 'Courier', monospace\" font-style=\"italic\" font-size=\"10.00\">collect()</text>\n",
       "</a>\n",
       "</g>\n",
       "<g id=\"a_node6_51\"><a xlink:href=\"#\" xlink:title=\"metric(self, location: Any) &#45;&gt; Optional[float]:&#10;Return a metric for an event, or none.\">\n",
       "<text text-anchor=\"start\" x=\"257\" y=\"-19.5\" font-family=\"'Fira Mono', 'Source Code Pro', 'Courier', monospace\" font-style=\"italic\" font-size=\"10.00\">metric()</text>\n",
       "</a>\n",
       "</g>\n",
       "<g id=\"a_node6_52\"><a xlink:href=\"#\" xlink:title=\"reset_timer(self) &#45;&gt; None\">\n",
       "<text text-anchor=\"start\" x=\"257\" y=\"-7.5\" font-family=\"'Fira Mono', 'Source Code Pro', 'Courier', monospace\" font-size=\"10.00\">reset_timer()</text>\n",
       "</a>\n",
       "</g>\n",
       "</a>\n",
       "</g>\n",
       "</a>\n",
       "</g>\n",
       "</g>\n",
       "<!-- MetricCollector -->\n",
       "<g id=\"node7\" class=\"node\">\n",
       "<title>MetricCollector</title>\n",
       "<g id=\"a_node7\"><a xlink:href=\"#\" xlink:title=\"class MetricCollector:&#10;Abstract superclass for collecting line&#45;specific metrics\">\n",
       "<polygon fill=\"none\" stroke=\"black\" points=\"246,-145.5 246,-220.5 358,-220.5 358,-145.5 246,-145.5\"/>\n",
       "<text text-anchor=\"start\" x=\"254\" y=\"-206.3\" font-family=\"Raleway, Helvetica, Arial, sans-serif\" font-weight=\"bold\" font-size=\"14.00\" fill=\"#6a0dad\">MetricCollector</text>\n",
       "<polyline fill=\"none\" stroke=\"black\" points=\"246,-197.5 358,-197.5 \"/>\n",
       "<g id=\"a_node7_53\"><a xlink:href=\"#\" xlink:title=\"MetricCollector\">\n",
       "<g id=\"a_node7_54\"><a xlink:href=\"#\" xlink:title=\"all_metrics(self, func: str) &#45;&gt; List[float]:&#10;Return all metric for a function `func`.\">\n",
       "<text text-anchor=\"start\" x=\"263\" y=\"-186.5\" font-family=\"'Fira Mono', 'Source Code Pro', 'Courier', monospace\" font-style=\"italic\" font-size=\"10.00\">all_metrics()</text>\n",
       "</a>\n",
       "</g>\n",
       "<g id=\"a_node7_55\"><a xlink:href=\"#\" xlink:title=\"maximum(self, func: str) &#45;&gt; float\">\n",
       "<text text-anchor=\"start\" x=\"263\" y=\"-174.5\" font-family=\"'Fira Mono', 'Source Code Pro', 'Courier', monospace\" font-size=\"10.00\">maximum()</text>\n",
       "</a>\n",
       "</g>\n",
       "<g id=\"a_node7_56\"><a xlink:href=\"#\" xlink:title=\"metric(self, event: Any) &#45;&gt; Optional[float]:&#10;Return a metric for an event, or none.\">\n",
       "<text text-anchor=\"start\" x=\"263\" y=\"-164.5\" font-family=\"'Fira Mono', 'Source Code Pro', 'Courier', monospace\" font-style=\"italic\" font-size=\"10.00\">metric()</text>\n",
       "</a>\n",
       "</g>\n",
       "<g id=\"a_node7_57\"><a xlink:href=\"#\" xlink:title=\"total(self, func: str) &#45;&gt; float\">\n",
       "<text text-anchor=\"start\" x=\"263\" y=\"-152.5\" font-family=\"'Fira Mono', 'Source Code Pro', 'Courier', monospace\" font-size=\"10.00\">total()</text>\n",
       "</a>\n",
       "</g>\n",
       "</a>\n",
       "</g>\n",
       "</a>\n",
       "</g>\n",
       "</g>\n",
       "<!-- TimeCollector&#45;&gt;MetricCollector -->\n",
       "<g id=\"edge5\" class=\"edge\">\n",
       "<title>TimeCollector&#45;&gt;MetricCollector</title>\n",
       "<path fill=\"none\" stroke=\"black\" d=\"M298.17,-97.66C298.72,-109.76 299.31,-122.77 299.86,-134.85\"/>\n",
       "<polygon fill=\"none\" stroke=\"black\" points=\"296.38,-135.36 300.33,-145.19 303.37,-135.04 296.38,-135.36\"/>\n",
       "</g>\n",
       "<!-- CoverageCollector -->\n",
       "<g id=\"node8\" class=\"node\">\n",
       "<title>CoverageCollector</title>\n",
       "<g id=\"a_node8\"><a xlink:href=\"StatisticalDebugger.ipynb\" xlink:title=\"class CoverageCollector:&#10;A class to record covered locations during execution.\">\n",
       "<polygon fill=\"none\" stroke=\"black\" points=\"235,-279.5 235,-365.5 369,-365.5 369,-279.5 235,-279.5\"/>\n",
       "<text text-anchor=\"start\" x=\"243\" y=\"-351.3\" font-family=\"Raleway, Helvetica, Arial, sans-serif\" font-weight=\"bold\" font-size=\"14.00\" fill=\"#6a0dad\">CoverageCollector</text>\n",
       "<polyline fill=\"none\" stroke=\"black\" points=\"235,-342.5 369,-342.5 \"/>\n",
       "<g id=\"a_node8_58\"><a xlink:href=\"#\" xlink:title=\"CoverageCollector\">\n",
       "<g id=\"a_node8_59\"><a xlink:href=\"StatisticalDebugger.ipynb\" xlink:title=\"__init__(self) &#45;&gt; None:&#10;Constructor.\">\n",
       "<text text-anchor=\"start\" x=\"245\" y=\"-331\" font-family=\"'Fira Mono', 'Source Code Pro', 'Courier', monospace\" font-style=\"italic\" font-size=\"10.00\">__init__()</text>\n",
       "</a>\n",
       "</g>\n",
       "<g id=\"a_node8_60\"><a xlink:href=\"StatisticalDebugger.ipynb\" xlink:title=\"collect(self, frame: frame, event: str, arg: Any) &#45;&gt; None:&#10;Save coverage for an observed event.\">\n",
       "<text text-anchor=\"start\" x=\"245\" y=\"-320\" font-family=\"'Fira Mono', 'Source Code Pro', 'Courier', monospace\" font-style=\"italic\" font-size=\"10.00\">collect()</text>\n",
       "</a>\n",
       "</g>\n",
       "<g id=\"a_node8_61\"><a xlink:href=\"StatisticalDebugger.ipynb\" xlink:title=\"coverage(self) &#45;&gt; Set[Tuple[Callable, int]]:&#10;Return a set (function, lineno) with all locations covered.\">\n",
       "<text text-anchor=\"start\" x=\"245\" y=\"-309\" font-family=\"'Fira Mono', 'Source Code Pro', 'Courier', monospace\" font-style=\"italic\" font-size=\"10.00\">coverage()</text>\n",
       "</a>\n",
       "</g>\n",
       "<g id=\"a_node8_62\"><a xlink:href=\"StatisticalDebugger.ipynb\" xlink:title=\"covered_functions(self) &#45;&gt; Set[Callable]:&#10;Return a set with all functions covered.\">\n",
       "<text text-anchor=\"start\" x=\"245\" y=\"-298\" font-family=\"'Fira Mono', 'Source Code Pro', 'Courier', monospace\" font-style=\"italic\" font-size=\"10.00\">covered_functions()</text>\n",
       "</a>\n",
       "</g>\n",
       "<g id=\"a_node8_63\"><a xlink:href=\"StatisticalDebugger.ipynb\" xlink:title=\"events(self) &#45;&gt; Set[Tuple[str, int]]:&#10;Return the set of locations covered.&#10;Each location comes as a pair (`function_name`, `lineno`).\">\n",
       "<text text-anchor=\"start\" x=\"245\" y=\"-287\" font-family=\"'Fira Mono', 'Source Code Pro', 'Courier', monospace\" font-style=\"italic\" font-size=\"10.00\">events()</text>\n",
       "</a>\n",
       "</g>\n",
       "</a>\n",
       "</g>\n",
       "</a>\n",
       "</g>\n",
       "</g>\n",
       "<!-- MetricCollector&#45;&gt;CoverageCollector -->\n",
       "<g id=\"edge6\" class=\"edge\">\n",
       "<title>MetricCollector&#45;&gt;CoverageCollector</title>\n",
       "<path fill=\"none\" stroke=\"black\" d=\"M302,-220.85C302,-235.6 302,-252.86 302,-268.88\"/>\n",
       "<polygon fill=\"none\" stroke=\"black\" points=\"298.5,-269.2 302,-279.2 305.5,-269.2 298.5,-269.2\"/>\n",
       "</g>\n",
       "<!-- Collector -->\n",
       "<g id=\"node9\" class=\"node\">\n",
       "<title>Collector</title>\n",
       "<g id=\"a_node9\"><a xlink:href=\"StatisticalDebugger.ipynb\" xlink:title=\"class Collector:&#10;A class to record events during execution.\">\n",
       "<polygon fill=\"none\" stroke=\"black\" points=\"177.5,-413.5 177.5,-598.5 320.5,-598.5 320.5,-413.5 177.5,-413.5\"/>\n",
       "<text text-anchor=\"start\" x=\"220.5\" y=\"-584.3\" font-family=\"Raleway, Helvetica, Arial, sans-serif\" font-weight=\"bold\" font-size=\"14.00\" fill=\"#6a0dad\">Collector</text>\n",
       "<polyline fill=\"none\" stroke=\"black\" points=\"177.5,-575.5 320.5,-575.5 \"/>\n",
       "<g id=\"a_node9_64\"><a xlink:href=\"#\" xlink:title=\"Collector\">\n",
       "<g id=\"a_node9_65\"><a xlink:href=\"StatisticalDebugger.ipynb\" xlink:title=\"__exit__(self, exc_tp: Type, exc_value: BaseException, exc_traceback: traceback) &#45;&gt; Optional[bool]:&#10;Exit the `with` block.\">\n",
       "<text text-anchor=\"start\" x=\"186\" y=\"-564.5\" font-family=\"'Fira Mono', 'Source Code Pro', 'Courier', monospace\" font-style=\"italic\" font-size=\"10.00\">__exit__()</text>\n",
       "</a>\n",
       "</g>\n",
       "<g id=\"a_node9_66\"><a xlink:href=\"StatisticalDebugger.ipynb\" xlink:title=\"__init__(self) &#45;&gt; None:&#10;Constructor.\">\n",
       "<text text-anchor=\"start\" x=\"186\" y=\"-553.5\" font-family=\"'Fira Mono', 'Source Code Pro', 'Courier', monospace\" font-style=\"italic\" font-size=\"10.00\">__init__()</text>\n",
       "</a>\n",
       "</g>\n",
       "<g id=\"a_node9_67\"><a xlink:href=\"StatisticalDebugger.ipynb\" xlink:title=\"__repr__(self) &#45;&gt; str:&#10;Return a string representation of the collector\">\n",
       "<text text-anchor=\"start\" x=\"186\" y=\"-541.5\" font-family=\"'Fira Mono', 'Source Code Pro', 'Courier', monospace\" font-size=\"10.00\">__repr__()</text>\n",
       "</a>\n",
       "</g>\n",
       "<g id=\"a_node9_68\"><a xlink:href=\"StatisticalDebugger.ipynb\" xlink:title=\"add_items_to_ignore(self, items_to_ignore: List[Union[Type, Callable]]) &#45;&gt; None:&#10;Define additional classes and functions to ignore during collection&#10;(typically `Debugger` classes using these collectors).\">\n",
       "<text text-anchor=\"start\" x=\"186\" y=\"-530.5\" font-family=\"'Fira Mono', 'Source Code Pro', 'Courier', monospace\" font-size=\"10.00\">add_items_to_ignore()</text>\n",
       "</a>\n",
       "</g>\n",
       "<g id=\"a_node9_69\"><a xlink:href=\"StatisticalDebugger.ipynb\" xlink:title=\"args(self) &#45;&gt; Dict[str, Any]:&#10;Return a dict of argument names and values from the first call\">\n",
       "<text text-anchor=\"start\" x=\"186\" y=\"-519.5\" font-family=\"'Fira Mono', 'Source Code Pro', 'Courier', monospace\" font-size=\"10.00\">args()</text>\n",
       "</a>\n",
       "</g>\n",
       "<g id=\"a_node9_70\"><a xlink:href=\"StatisticalDebugger.ipynb\" xlink:title=\"argstring(self) &#45;&gt; str:&#10;Return the list of arguments from the first call,&#10;as a printable string\">\n",
       "<text text-anchor=\"start\" x=\"186\" y=\"-508.5\" font-family=\"'Fira Mono', 'Source Code Pro', 'Courier', monospace\" font-size=\"10.00\">argstring()</text>\n",
       "</a>\n",
       "</g>\n",
       "<g id=\"a_node9_71\"><a xlink:href=\"StatisticalDebugger.ipynb\" xlink:title=\"collect(self, frame: frame, event: str, arg: Any) &#45;&gt; None:&#10;Collector function. To be overloaded in subclasses.\">\n",
       "<text text-anchor=\"start\" x=\"186\" y=\"-498.5\" font-family=\"'Fira Mono', 'Source Code Pro', 'Courier', monospace\" font-style=\"italic\" font-size=\"10.00\">collect()</text>\n",
       "</a>\n",
       "</g>\n",
       "<g id=\"a_node9_72\"><a xlink:href=\"StatisticalDebugger.ipynb\" xlink:title=\"coverage(self) &#45;&gt; Set[Tuple[Callable, int]]:&#10;Return a set (function, lineno) with locations covered.&#10;To be overloaded in subclasses.\">\n",
       "<text text-anchor=\"start\" x=\"186\" y=\"-487.5\" font-family=\"'Fira Mono', 'Source Code Pro', 'Courier', monospace\" font-style=\"italic\" font-size=\"10.00\">coverage()</text>\n",
       "</a>\n",
       "</g>\n",
       "<g id=\"a_node9_73\"><a xlink:href=\"StatisticalDebugger.ipynb\" xlink:title=\"covered_functions(self) &#45;&gt; Set[Callable]:&#10;Set of covered functions. To be overloaded in subclasses.\">\n",
       "<text text-anchor=\"start\" x=\"186\" y=\"-476.5\" font-family=\"'Fira Mono', 'Source Code Pro', 'Courier', monospace\" font-style=\"italic\" font-size=\"10.00\">covered_functions()</text>\n",
       "</a>\n",
       "</g>\n",
       "<g id=\"a_node9_74\"><a xlink:href=\"StatisticalDebugger.ipynb\" xlink:title=\"events(self) &#45;&gt; Set:&#10;Return a collection of events. To be overridden in subclasses.\">\n",
       "<text text-anchor=\"start\" x=\"186\" y=\"-465.5\" font-family=\"'Fira Mono', 'Source Code Pro', 'Courier', monospace\" font-style=\"italic\" font-size=\"10.00\">events()</text>\n",
       "</a>\n",
       "</g>\n",
       "<g id=\"a_node9_75\"><a xlink:href=\"StatisticalDebugger.ipynb\" xlink:title=\"exception(self) &#45;&gt; Optional[Type]:&#10;Return the exception class from the first call,&#10;or None if no exception was raised.\">\n",
       "<text text-anchor=\"start\" x=\"186\" y=\"-453.5\" font-family=\"'Fira Mono', 'Source Code Pro', 'Courier', monospace\" font-size=\"10.00\">exception()</text>\n",
       "</a>\n",
       "</g>\n",
       "<g id=\"a_node9_76\"><a xlink:href=\"StatisticalDebugger.ipynb\" xlink:title=\"function(self) &#45;&gt; Callable:&#10;Return the function from the first call, as a function object\">\n",
       "<text text-anchor=\"start\" x=\"186\" y=\"-442.5\" font-family=\"'Fira Mono', 'Source Code Pro', 'Courier', monospace\" font-size=\"10.00\">function()</text>\n",
       "</a>\n",
       "</g>\n",
       "<g id=\"a_node9_77\"><a xlink:href=\"StatisticalDebugger.ipynb\" xlink:title=\"id(self) &#45;&gt; str:&#10;Return an identifier for the collector,&#10;created from the first call\">\n",
       "<text text-anchor=\"start\" x=\"186\" y=\"-431.5\" font-family=\"'Fira Mono', 'Source Code Pro', 'Courier', monospace\" font-size=\"10.00\">id()</text>\n",
       "</a>\n",
       "</g>\n",
       "<g id=\"a_node9_78\"><a xlink:href=\"StatisticalDebugger.ipynb\" xlink:title=\"traceit(self, frame: frame, event: str, arg: Any) &#45;&gt; None:&#10;Tracing function.&#10;Saves the first function and calls collect().\">\n",
       "<text text-anchor=\"start\" x=\"186\" y=\"-421.5\" font-family=\"'Fira Mono', 'Source Code Pro', 'Courier', monospace\" font-style=\"italic\" font-size=\"10.00\">traceit()</text>\n",
       "</a>\n",
       "</g>\n",
       "</a>\n",
       "</g>\n",
       "</a>\n",
       "</g>\n",
       "</g>\n",
       "<!-- CoverageCollector&#45;&gt;Collector -->\n",
       "<g id=\"edge7\" class=\"edge\">\n",
       "<title>CoverageCollector&#45;&gt;Collector</title>\n",
       "<path fill=\"none\" stroke=\"black\" d=\"M289.71,-365.6C286.34,-377.14 282.53,-390.18 278.63,-403.53\"/>\n",
       "<polygon fill=\"none\" stroke=\"black\" points=\"275.22,-402.71 275.78,-413.29 281.94,-404.67 275.22,-402.71\"/>\n",
       "</g>\n",
       "<!-- StackInspector -->\n",
       "<g id=\"node11\" class=\"node\">\n",
       "<title>StackInspector</title>\n",
       "<g id=\"a_node11\"><a xlink:href=\"StackInspector.ipynb\" xlink:title=\"class StackInspector:&#10;Provide functions to inspect the stack\">\n",
       "<polygon fill=\"none\" stroke=\"black\" points=\"215.5,-857.5 215.5,-1028.5 382.5,-1028.5 382.5,-857.5 215.5,-857.5\"/>\n",
       "<text text-anchor=\"start\" x=\"252.5\" y=\"-1014.3\" font-family=\"Raleway, Helvetica, Arial, sans-serif\" font-weight=\"bold\" font-size=\"14.00\" fill=\"#6a0dad\">StackInspector</text>\n",
       "<polyline fill=\"none\" stroke=\"black\" points=\"215.5,-1005.5 382.5,-1005.5 \"/>\n",
       "<g id=\"a_node11_79\"><a xlink:href=\"#\" xlink:title=\"StackInspector\">\n",
       "<g id=\"a_node11_80\"><a xlink:href=\"StackInspector.ipynb\" xlink:title=\"_generated_function_cache = {(&#39;remove_html_markup&#39;, 238): &lt;function remove_html_markup at 0x13434d160&gt;}\">\n",
       "<text text-anchor=\"start\" x=\"224\" y=\"-993\" font-family=\"'Fira Mono', 'Source Code Pro', 'Courier', monospace\" font-size=\"10.00\">_generated_function_cache</text>\n",
       "</a>\n",
       "</g>\n",
       "</a>\n",
       "</g>\n",
       "<polyline fill=\"none\" stroke=\"black\" points=\"215.5,-986.5 382.5,-986.5 \"/>\n",
       "<g id=\"a_node11_81\"><a xlink:href=\"#\" xlink:title=\"StackInspector\">\n",
       "<g id=\"a_node11_82\"><a xlink:href=\"StackInspector.ipynb\" xlink:title=\"caller_frame(self) &#45;&gt; frame:&#10;Return the frame of the caller.\">\n",
       "<text text-anchor=\"start\" x=\"242\" y=\"-974\" font-family=\"'Fira Mono', 'Source Code Pro', 'Courier', monospace\" font-size=\"10.00\">caller_frame()</text>\n",
       "</a>\n",
       "</g>\n",
       "<g id=\"a_node11_83\"><a xlink:href=\"StackInspector.ipynb\" xlink:title=\"caller_function(self) &#45;&gt; Callable:&#10;Return the calling function\">\n",
       "<text text-anchor=\"start\" x=\"242\" y=\"-963\" font-family=\"'Fira Mono', 'Source Code Pro', 'Courier', monospace\" font-size=\"10.00\">caller_function()</text>\n",
       "</a>\n",
       "</g>\n",
       "<g id=\"a_node11_84\"><a xlink:href=\"StackInspector.ipynb\" xlink:title=\"caller_globals(self) &#45;&gt; Dict[str, Any]:&#10;Return the globals() environment of the caller.\">\n",
       "<text text-anchor=\"start\" x=\"242\" y=\"-952\" font-family=\"'Fira Mono', 'Source Code Pro', 'Courier', monospace\" font-size=\"10.00\">caller_globals()</text>\n",
       "</a>\n",
       "</g>\n",
       "<g id=\"a_node11_85\"><a xlink:href=\"StackInspector.ipynb\" xlink:title=\"caller_locals(self) &#45;&gt; Dict[str, Any]:&#10;Return the locals() environment of the caller.\">\n",
       "<text text-anchor=\"start\" x=\"242\" y=\"-941\" font-family=\"'Fira Mono', 'Source Code Pro', 'Courier', monospace\" font-size=\"10.00\">caller_locals()</text>\n",
       "</a>\n",
       "</g>\n",
       "<g id=\"a_node11_86\"><a xlink:href=\"StackInspector.ipynb\" xlink:title=\"caller_location(self) &#45;&gt; Tuple[Callable, int]:&#10;Return the location (func, lineno) of the caller.\">\n",
       "<text text-anchor=\"start\" x=\"242\" y=\"-930\" font-family=\"'Fira Mono', 'Source Code Pro', 'Courier', monospace\" font-size=\"10.00\">caller_location()</text>\n",
       "</a>\n",
       "</g>\n",
       "<g id=\"a_node11_87\"><a xlink:href=\"StackInspector.ipynb\" xlink:title=\"create_function(self, frame: frame) &#45;&gt; Callable:&#10;Create function for given frame\">\n",
       "<text text-anchor=\"start\" x=\"242\" y=\"-919\" font-family=\"'Fira Mono', 'Source Code Pro', 'Courier', monospace\" font-size=\"10.00\">create_function()</text>\n",
       "</a>\n",
       "</g>\n",
       "<g id=\"a_node11_88\"><a xlink:href=\"StackInspector.ipynb\" xlink:title=\"is_internal_error(self, exc_tp: Type, exc_value: BaseException, exc_traceback: traceback) &#45;&gt; bool:&#10;Return True if exception was raised from `StackInspector` or a subclass.\">\n",
       "<text text-anchor=\"start\" x=\"242\" y=\"-908\" font-family=\"'Fira Mono', 'Source Code Pro', 'Courier', monospace\" font-size=\"10.00\">is_internal_error()</text>\n",
       "</a>\n",
       "</g>\n",
       "<g id=\"a_node11_89\"><a xlink:href=\"StackInspector.ipynb\" xlink:title=\"our_frame(self, frame: frame) &#45;&gt; bool:&#10;Return true if `frame` is in the current (inspecting) class.\">\n",
       "<text text-anchor=\"start\" x=\"242\" y=\"-897\" font-family=\"'Fira Mono', 'Source Code Pro', 'Courier', monospace\" font-size=\"10.00\">our_frame()</text>\n",
       "</a>\n",
       "</g>\n",
       "<g id=\"a_node11_90\"><a xlink:href=\"StackInspector.ipynb\" xlink:title=\"search_frame(self, name: str, frame: Optional[frame] = None) &#45;&gt; Tuple[Optional[frame], Optional[Callable]]:&#10;Return a pair (`frame`, `item`)&#10;in which the function `name` is defined as `item`.\">\n",
       "<text text-anchor=\"start\" x=\"242\" y=\"-886\" font-family=\"'Fira Mono', 'Source Code Pro', 'Courier', monospace\" font-size=\"10.00\">search_frame()</text>\n",
       "</a>\n",
       "</g>\n",
       "<g id=\"a_node11_91\"><a xlink:href=\"StackInspector.ipynb\" xlink:title=\"search_func(self, name: str, frame: Optional[frame] = None) &#45;&gt; Optional[Callable]:&#10;Search in callers for a definition of the function `name`\">\n",
       "<text text-anchor=\"start\" x=\"242\" y=\"-875\" font-family=\"'Fira Mono', 'Source Code Pro', 'Courier', monospace\" font-size=\"10.00\">search_func()</text>\n",
       "</a>\n",
       "</g>\n",
       "<g id=\"a_node11_92\"><a xlink:href=\"StackInspector.ipynb\" xlink:title=\"unknown(self) &#45;&gt; None\">\n",
       "<text text-anchor=\"start\" x=\"242\" y=\"-864\" font-family=\"'Fira Mono', 'Source Code Pro', 'Courier', monospace\" font-size=\"10.00\">unknown()</text>\n",
       "</a>\n",
       "</g>\n",
       "</a>\n",
       "</g>\n",
       "</a>\n",
       "</g>\n",
       "</g>\n",
       "<!-- CoverageCollector&#45;&gt;StackInspector -->\n",
       "<g id=\"edge10\" class=\"edge\">\n",
       "<title>CoverageCollector&#45;&gt;StackInspector</title>\n",
       "<path fill=\"none\" stroke=\"black\" d=\"M317.38,-365.73C322.05,-380.48 326.57,-397.28 329,-413 356.68,-592.21 356.07,-641.27 332,-821 330.85,-829.62 329.25,-838.5 327.37,-847.35\"/>\n",
       "<polygon fill=\"none\" stroke=\"black\" points=\"323.91,-846.78 325.15,-857.31 330.74,-848.31 323.91,-846.78\"/>\n",
       "</g>\n",
       "<!-- Tracer -->\n",
       "<g id=\"node10\" class=\"node\">\n",
       "<title>Tracer</title>\n",
       "<g id=\"a_node10\"><a xlink:href=\"Tracer.ipynb\" xlink:title=\"class Tracer:&#10;A class for tracing a piece of code. Use as `with Tracer(): block()`\">\n",
       "<polygon fill=\"none\" stroke=\"black\" points=\"168.5,-668.5 168.5,-787.5 323.5,-787.5 323.5,-668.5 168.5,-668.5\"/>\n",
       "<text text-anchor=\"start\" x=\"226.5\" y=\"-773.3\" font-family=\"Raleway, Helvetica, Arial, sans-serif\" font-weight=\"bold\" font-size=\"14.00\" fill=\"#6a0dad\">Tracer</text>\n",
       "<polyline fill=\"none\" stroke=\"black\" points=\"168.5,-764.5 323.5,-764.5 \"/>\n",
       "<g id=\"a_node10_93\"><a xlink:href=\"#\" xlink:title=\"Tracer\">\n",
       "<g id=\"a_node10_94\"><a xlink:href=\"Tracer.ipynb\" xlink:title=\"__enter__(self) &#45;&gt; Any:&#10;Called at begin of `with` block. Turn tracing on.\">\n",
       "<text text-anchor=\"start\" x=\"177\" y=\"-753.5\" font-family=\"'Fira Mono', 'Source Code Pro', 'Courier', monospace\" font-style=\"italic\" font-size=\"10.00\">__enter__()</text>\n",
       "</a>\n",
       "</g>\n",
       "<g id=\"a_node10_95\"><a xlink:href=\"Tracer.ipynb\" xlink:title=\"__exit__(self, exc_tp: Type, exc_value: BaseException, exc_traceback: traceback) &#45;&gt; Optional[bool]:&#10;Called at end of `with` block. Turn tracing off.&#10;Return `None` if ok, not `None` if internal error.\">\n",
       "<text text-anchor=\"start\" x=\"177\" y=\"-742.5\" font-family=\"'Fira Mono', 'Source Code Pro', 'Courier', monospace\" font-style=\"italic\" font-size=\"10.00\">__exit__()</text>\n",
       "</a>\n",
       "</g>\n",
       "<g id=\"a_node10_96\"><a xlink:href=\"Tracer.ipynb\" xlink:title=\"__init__(self, file: &lt;class &#39;TextIO&#39;&gt; = &lt;ipykernel.iostream.OutStream object at 0x1123a3f70&gt;) &#45;&gt; None:&#10;Create a new tracer.&#10;If `file` is given, output to `file` instead of stdout.\">\n",
       "<text text-anchor=\"start\" x=\"177\" y=\"-731.5\" font-family=\"'Fira Mono', 'Source Code Pro', 'Courier', monospace\" font-style=\"italic\" font-size=\"10.00\">__init__()</text>\n",
       "</a>\n",
       "</g>\n",
       "<g id=\"a_node10_97\"><a xlink:href=\"Tracer.ipynb\" xlink:title=\"_traceit(self, frame: frame, event: str, arg: Any) &#45;&gt; Optional[Callable]:&#10;Internal tracing function.\">\n",
       "<text text-anchor=\"start\" x=\"177\" y=\"-719.5\" font-family=\"'Fira Mono', 'Source Code Pro', 'Courier', monospace\" font-size=\"10.00\">_traceit()</text>\n",
       "</a>\n",
       "</g>\n",
       "<g id=\"a_node10_98\"><a xlink:href=\"Tracer.ipynb\" xlink:title=\"changed_vars(self, new_vars: Dict[str, Any]) &#45;&gt; Dict[str, Any]:&#10;Track changed variables, based on `new_vars` observed.\">\n",
       "<text text-anchor=\"start\" x=\"177\" y=\"-708.5\" font-family=\"'Fira Mono', 'Source Code Pro', 'Courier', monospace\" font-size=\"10.00\">changed_vars()</text>\n",
       "</a>\n",
       "</g>\n",
       "<g id=\"a_node10_99\"><a xlink:href=\"Tracer.ipynb\" xlink:title=\"log(self, *objects: Any, sep: str = &#39; &#39;, end: str = &#39;\\n&#39;, flush: bool = True) &#45;&gt; None:&#10;Like `print()`, but always sending to `file` given at initialization,&#10;and flushing by default.\">\n",
       "<text text-anchor=\"start\" x=\"177\" y=\"-697.5\" font-family=\"'Fira Mono', 'Source Code Pro', 'Courier', monospace\" font-size=\"10.00\">log()</text>\n",
       "</a>\n",
       "</g>\n",
       "<g id=\"a_node10_100\"><a xlink:href=\"Tracer.ipynb\" xlink:title=\"print_debugger_status(self, frame: frame, event: str, arg: Any) &#45;&gt; None:&#10;Show current source line and changed vars\">\n",
       "<text text-anchor=\"start\" x=\"177\" y=\"-686.5\" font-family=\"'Fira Mono', 'Source Code Pro', 'Courier', monospace\" font-size=\"10.00\">print_debugger_status()</text>\n",
       "</a>\n",
       "</g>\n",
       "<g id=\"a_node10_101\"><a xlink:href=\"Tracer.ipynb\" xlink:title=\"traceit(self, frame: frame, event: str, arg: Any) &#45;&gt; None:&#10;Tracing function; called at every line. To be overloaded in subclasses.\">\n",
       "<text text-anchor=\"start\" x=\"177\" y=\"-676.5\" font-family=\"'Fira Mono', 'Source Code Pro', 'Courier', monospace\" font-style=\"italic\" font-size=\"10.00\">traceit()</text>\n",
       "</a>\n",
       "</g>\n",
       "</a>\n",
       "</g>\n",
       "</a>\n",
       "</g>\n",
       "</g>\n",
       "<!-- Collector&#45;&gt;Tracer -->\n",
       "<g id=\"edge8\" class=\"edge\">\n",
       "<title>Collector&#45;&gt;Tracer</title>\n",
       "<path fill=\"none\" stroke=\"black\" d=\"M247.75,-598.71C247.48,-618.6 247.2,-639.32 246.94,-658.16\"/>\n",
       "<polygon fill=\"none\" stroke=\"black\" points=\"243.44,-658.36 246.8,-668.41 250.44,-658.46 243.44,-658.36\"/>\n",
       "</g>\n",
       "<!-- Tracer&#45;&gt;StackInspector -->\n",
       "<g id=\"edge9\" class=\"edge\">\n",
       "<title>Tracer&#45;&gt;StackInspector</title>\n",
       "<path fill=\"none\" stroke=\"black\" d=\"M260.62,-787.77C265.2,-806.18 270.38,-826.99 275.42,-847.23\"/>\n",
       "<polygon fill=\"none\" stroke=\"black\" points=\"272.07,-848.25 277.88,-857.11 278.86,-846.56 272.07,-848.25\"/>\n",
       "</g>\n",
       "<!-- HitCollector -->\n",
       "<g id=\"node12\" class=\"node\">\n",
       "<title>HitCollector</title>\n",
       "<g id=\"a_node12\"><a xlink:href=\"#\" xlink:title=\"class HitCollector:&#10;Collect how often a line is executed\">\n",
       "<polygon fill=\"none\" stroke=\"black\" points=\"366.5,-11.5 366.5,-86.5 461.5,-86.5 461.5,-11.5 366.5,-11.5\"/>\n",
       "<text text-anchor=\"start\" x=\"377\" y=\"-72.3\" font-family=\"Raleway, Helvetica, Arial, sans-serif\" font-weight=\"bold\" font-size=\"14.00\" fill=\"#6a0dad\">HitCollector</text>\n",
       "<polyline fill=\"none\" stroke=\"black\" points=\"366.5,-63.5 461.5,-63.5 \"/>\n",
       "<g id=\"a_node12_102\"><a xlink:href=\"#\" xlink:title=\"HitCollector\">\n",
       "<g id=\"a_node12_103\"><a xlink:href=\"#\" xlink:title=\"__init__(self) &#45;&gt; None:&#10;Constructor.\">\n",
       "<text text-anchor=\"start\" x=\"375\" y=\"-52.5\" font-family=\"'Fira Mono', 'Source Code Pro', 'Courier', monospace\" font-style=\"italic\" font-size=\"10.00\">__init__()</text>\n",
       "</a>\n",
       "</g>\n",
       "<g id=\"a_node12_104\"><a xlink:href=\"#\" xlink:title=\"all_metrics(self, func: str) &#45;&gt; List[float]:&#10;Return all metric for a function `func`.\">\n",
       "<text text-anchor=\"start\" x=\"375\" y=\"-41.5\" font-family=\"'Fira Mono', 'Source Code Pro', 'Courier', monospace\" font-style=\"italic\" font-size=\"10.00\">all_metrics()</text>\n",
       "</a>\n",
       "</g>\n",
       "<g id=\"a_node12_105\"><a xlink:href=\"#\" xlink:title=\"collect(self, frame: frame, event: str, arg: Any) &#45;&gt; None:&#10;Save coverage for an observed event.\">\n",
       "<text text-anchor=\"start\" x=\"375\" y=\"-30.5\" font-family=\"'Fira Mono', 'Source Code Pro', 'Courier', monospace\" font-style=\"italic\" font-size=\"10.00\">collect()</text>\n",
       "</a>\n",
       "</g>\n",
       "<g id=\"a_node12_106\"><a xlink:href=\"#\" xlink:title=\"metric(self, location: Tuple[str, int]) &#45;&gt; Optional[int]:&#10;Return a metric for an event, or none.\">\n",
       "<text text-anchor=\"start\" x=\"375\" y=\"-19.5\" font-family=\"'Fira Mono', 'Source Code Pro', 'Courier', monospace\" font-style=\"italic\" font-size=\"10.00\">metric()</text>\n",
       "</a>\n",
       "</g>\n",
       "</a>\n",
       "</g>\n",
       "</a>\n",
       "</g>\n",
       "</g>\n",
       "<!-- HitCollector&#45;&gt;MetricCollector -->\n",
       "<g id=\"edge11\" class=\"edge\">\n",
       "<title>HitCollector&#45;&gt;MetricCollector</title>\n",
       "<path fill=\"none\" stroke=\"black\" d=\"M382.8,-86.77C369.45,-102.5 353.75,-121.01 339.75,-137.51\"/>\n",
       "<polygon fill=\"none\" stroke=\"black\" points=\"336.83,-135.54 333.03,-145.43 342.17,-140.07 336.83,-135.54\"/>\n",
       "</g>\n",
       "<!-- Legend -->\n",
       "<g id=\"node13\" class=\"node\">\n",
       "<title>Legend</title>\n",
       "<text text-anchor=\"start\" x=\"480\" y=\"-66.5\" font-family=\"Raleway, Helvetica, Arial, sans-serif\" font-weight=\"bold\" font-size=\"10.00\" fill=\"#6a0dad\">Legend</text>\n",
       "<text text-anchor=\"start\" x=\"480\" y=\"-56.5\" font-family=\"Raleway, Helvetica, Arial, sans-serif\" font-size=\"10.00\">• </text>\n",
       "<text text-anchor=\"start\" x=\"487\" y=\"-56.5\" font-family=\"'Fira Mono', 'Source Code Pro', 'Courier', monospace\" font-weight=\"bold\" font-size=\"8.00\">public_method()</text>\n",
       "<text text-anchor=\"start\" x=\"480\" y=\"-46.5\" font-family=\"Raleway, Helvetica, Arial, sans-serif\" font-size=\"10.00\">• </text>\n",
       "<text text-anchor=\"start\" x=\"487\" y=\"-46.5\" font-family=\"'Fira Mono', 'Source Code Pro', 'Courier', monospace\" font-size=\"8.00\">private_method()</text>\n",
       "<text text-anchor=\"start\" x=\"480\" y=\"-36.5\" font-family=\"Raleway, Helvetica, Arial, sans-serif\" font-size=\"10.00\">• </text>\n",
       "<text text-anchor=\"start\" x=\"487\" y=\"-36.5\" font-family=\"'Fira Mono', 'Source Code Pro', 'Courier', monospace\" font-style=\"italic\" font-size=\"8.00\">overloaded_method()</text>\n",
       "<text text-anchor=\"start\" x=\"480\" y=\"-27.3\" font-family=\"Helvetica,sans-Serif\" font-size=\"9.00\">Hover over names to see doc</text>\n",
       "</g>\n",
       "</g>\n",
       "</svg>\n"
      ],
      "text/plain": [
       "<graphviz.dot.Digraph at 0x134e599d0>"
      ]
     },
     "execution_count": 57,
     "metadata": {},
     "output_type": "execute_result"
    }
   ],
   "source": [
    "# ignore\n",
    "display_class_hierarchy([PerformanceDebugger, TimeCollector, HitCollector],\n",
    "                        public_methods=[\n",
    "                            PerformanceDebugger.__init__,\n",
    "                        ],\n",
    "                        project='debuggingbook')"
   ]
  },
  {
   "cell_type": "markdown",
   "metadata": {
    "button": false,
    "new_sheet": true,
    "run_control": {
     "read_only": false
    },
    "slideshow": {
     "slide_type": "slide"
    }
   },
   "source": [
    "## Lessons Learned\n",
    "\n",
    "* To measure performance,\n",
    "    * instrument the code such that the time taken per function (or line) is collected; or\n",
    "    * sample the execution that at regular intervals, the active call stack is collected.\n",
    "* To make code performant, focus on efficient algorithms, efficient data types, and sufficient abstraction such that you can replace them by alternatives.\n",
    "* Beyond efficient algorithms and data types, do _not_ optimize before measuring."
   ]
  },
  {
   "cell_type": "markdown",
   "metadata": {
    "button": false,
    "new_sheet": false,
    "run_control": {
     "read_only": false
    },
    "slideshow": {
     "slide_type": "slide"
    }
   },
   "source": [
    "## Next Steps\n",
    "\n",
    "This chapter concludes the part on abstracting failures. The next part will focus on\n",
    "\n",
    "* [repairing code automatically](Repairer.ipynb)"
   ]
  },
  {
   "cell_type": "markdown",
   "metadata": {
    "slideshow": {
     "slide_type": "slide"
    }
   },
   "source": [
    "## Background\n",
    "\n",
    "[Scalene](https://github.com/plasma-umass/scalene) is a high-performance, high-precision CPU, GPU, and memory profiler for Python. In contrast to the standard Python `cProfile` profiler, it uses _sampling_ instead of instrumentation or relying on Python's tracing facilities; and it also supports line-by-line profiling. Scalene might be the tool of choice if you want to go beyond basic profiling.\n",
    "\n",
    "The Wikipedia articles on [profiling](https://en.wikipedia.org/wiki/Profiling_(computer_programming)) and [performance analysis tools](https://en.wikipedia.org/wiki/List_of_performance_analysis_tools) provide several additional resources on profiling tools and how to apply them in practice."
   ]
  },
  {
   "cell_type": "markdown",
   "metadata": {
    "button": false,
    "new_sheet": true,
    "run_control": {
     "read_only": false
    },
    "slideshow": {
     "slide_type": "slide"
    }
   },
   "source": [
    "## Exercises"
   ]
  },
  {
   "cell_type": "markdown",
   "metadata": {
    "button": false,
    "new_sheet": false,
    "run_control": {
     "read_only": false
    },
    "slideshow": {
     "slide_type": "subslide"
    }
   },
   "source": [
    "### Exercise 1: Profiling Memory Usage\n",
    "\n",
    "The Python [`tracemalloc` module](https://docs.python.org/3/library/tracemalloc.html) allows to track memory usage during execution. Between `tracemalloc.start()` and `tracemalloc.end()`, use `tracemalloc.get_traced_memory()` to obtain how much memory is currently being consumed:"
   ]
  },
  {
   "cell_type": "code",
   "execution_count": 58,
   "metadata": {
    "execution": {
     "iopub.execute_input": "2021-12-13T16:26:50.703485Z",
     "iopub.status.busy": "2021-12-13T16:26:50.702825Z",
     "iopub.status.idle": "2021-12-13T16:26:50.709232Z",
     "shell.execute_reply": "2021-12-13T16:26:50.709827Z"
    },
    "slideshow": {
     "slide_type": "skip"
    }
   },
   "outputs": [],
   "source": [
    "import tracemalloc"
   ]
  },
  {
   "cell_type": "code",
   "execution_count": 59,
   "metadata": {
    "execution": {
     "iopub.execute_input": "2021-12-13T16:26:50.714215Z",
     "iopub.status.busy": "2021-12-13T16:26:50.713647Z",
     "iopub.status.idle": "2021-12-13T16:26:50.715972Z",
     "shell.execute_reply": "2021-12-13T16:26:50.716339Z"
    },
    "slideshow": {
     "slide_type": "fragment"
    }
   },
   "outputs": [],
   "source": [
    "tracemalloc.start()"
   ]
  },
  {
   "cell_type": "code",
   "execution_count": 60,
   "metadata": {
    "execution": {
     "iopub.execute_input": "2021-12-13T16:26:50.723277Z",
     "iopub.status.busy": "2021-12-13T16:26:50.722733Z",
     "iopub.status.idle": "2021-12-13T16:26:50.726057Z",
     "shell.execute_reply": "2021-12-13T16:26:50.726500Z"
    },
    "slideshow": {
     "slide_type": "fragment"
    }
   },
   "outputs": [
    {
     "data": {
      "text/plain": [
       "17178"
      ]
     },
     "execution_count": 60,
     "metadata": {},
     "output_type": "execute_result"
    }
   ],
   "source": [
    "current_size, peak_size = tracemalloc.get_traced_memory()\n",
    "current_size"
   ]
  },
  {
   "cell_type": "code",
   "execution_count": 61,
   "metadata": {
    "execution": {
     "iopub.execute_input": "2021-12-13T16:26:50.731102Z",
     "iopub.status.busy": "2021-12-13T16:26:50.730578Z",
     "iopub.status.idle": "2021-12-13T16:26:50.732487Z",
     "shell.execute_reply": "2021-12-13T16:26:50.732928Z"
    },
    "slideshow": {
     "slide_type": "fragment"
    }
   },
   "outputs": [],
   "source": [
    "tracemalloc.stop()"
   ]
  },
  {
   "cell_type": "markdown",
   "metadata": {
    "slideshow": {
     "slide_type": "subslide"
    }
   },
   "source": [
    "Create a subclass of `MetricCollector` named `MemoryCollector`. Have it measure the memory consumption before and after each line executed (0 if negative), and visualize the impact of individual lines on memory. Create an appropriate test program that (temporarily) consumes larger amounts of memory."
   ]
  },
  {
   "cell_type": "markdown",
   "metadata": {
    "slideshow": {
     "slide_type": "slide"
    }
   },
   "source": [
    "## Exercise 2: Statistical Performance Debugging\n",
    "\n",
    "In a similar way as we integrated a binary \"performance test\" with delta debugging, we can also integrate such a test with other techniques. Combining a performance test with [Statistical Debugging](StatisticalDebugger.ipynb), for instance, will highlight those lines whose execution correlates with low performance. But then, the performance test need not be binary, as with functional pass/fail tests – you can also _weight_ individual lines by _how much_ they impact performance. Create a variant of `StatisticalDebugger` that reflects the impact of individual lines on an arbitrary (summarized) performance metric."
   ]
  }
 ],
 "metadata": {
  "ipub": {
   "bibliography": "fuzzingbook.bib",
   "toc": true
  },
  "kernelspec": {
   "display_name": "Python 3",
   "language": "python",
   "name": "python3"
  },
  "language_info": {
   "codemirror_mode": {
    "name": "ipython",
    "version": 3
   },
   "file_extension": ".py",
   "mimetype": "text/x-python",
   "name": "python",
   "nbconvert_exporter": "python",
   "pygments_lexer": "ipython3",
   "version": "3.9.7"
  },
  "toc": {
   "base_numbering": 1,
   "nav_menu": {},
   "number_sections": true,
   "sideBar": true,
   "skip_h1_title": true,
   "title_cell": "",
   "title_sidebar": "Contents",
   "toc_cell": false,
   "toc_position": {},
   "toc_section_display": true,
   "toc_window_display": true
  },
  "toc-autonumbering": false
 },
 "nbformat": 4,
 "nbformat_minor": 4
}