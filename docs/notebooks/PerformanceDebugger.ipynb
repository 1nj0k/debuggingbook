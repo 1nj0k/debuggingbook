{
 "cells": [
  {
   "cell_type": "markdown",
   "metadata": {
    "button": false,
    "new_sheet": false,
    "run_control": {
     "read_only": false
    },
    "slideshow": {
     "slide_type": "slide"
    }
   },
   "source": [
    "# Debugging Performance Issues\n",
    "\n",
    "Most chapters of this book deal with _functional_ issues – that is, issues related to the _functionality_ (or its absence) of the code in question. However, debugging can also involve _nonfunctional_ issues, however – performance, usability, reliability, and more. In this chapter, we give a short introduction on how to debug such nonfunctional issues, notably _performance_ issues."
   ]
  },
  {
   "cell_type": "code",
   "execution_count": 1,
   "metadata": {
    "execution": {
     "iopub.execute_input": "2021-05-12T20:59:43.759986Z",
     "iopub.status.busy": "2021-05-12T20:59:43.759422Z",
     "iopub.status.idle": "2021-05-12T20:59:43.924478Z",
     "shell.execute_reply": "2021-05-12T20:59:43.924874Z"
    },
    "slideshow": {
     "slide_type": "skip"
    }
   },
   "outputs": [
    {
     "data": {
      "text/html": [
       "\n",
       "        <iframe\n",
       "            width=\"640\"\n",
       "            height=\"360\"\n",
       "            src=\"https://www.youtube-nocookie.com/embed/0tMeB9G0uUI\"\n",
       "            frameborder=\"0\"\n",
       "            allowfullscreen\n",
       "        ></iframe>\n",
       "        "
      ],
      "text/plain": [
       "<IPython.lib.display.IFrame at 0x7fa89d9dbc18>"
      ]
     },
     "execution_count": 1,
     "metadata": {},
     "output_type": "execute_result"
    }
   ],
   "source": [
    "from bookutils import YouTubeVideo\n",
    "YouTubeVideo(\"0tMeB9G0uUI\")"
   ]
  },
  {
   "cell_type": "markdown",
   "metadata": {
    "button": false,
    "new_sheet": false,
    "run_control": {
     "read_only": false
    },
    "slideshow": {
     "slide_type": "subslide"
    }
   },
   "source": [
    "**Prerequisites**\n",
    "\n",
    "* This chapter leverages visualization capabilities from [the chapter on statistical debugging](StatisticalDebugger.ipynb)\n",
    "* We also show how to debug nonfunctional issues using [delta debugging](DeltaDebugger.ipynb)."
   ]
  },
  {
   "cell_type": "code",
   "execution_count": 2,
   "metadata": {
    "button": false,
    "execution": {
     "iopub.execute_input": "2021-05-12T20:59:43.928784Z",
     "iopub.status.busy": "2021-05-12T20:59:43.928061Z",
     "iopub.status.idle": "2021-05-12T20:59:43.930002Z",
     "shell.execute_reply": "2021-05-12T20:59:43.930390Z"
    },
    "new_sheet": false,
    "run_control": {
     "read_only": false
    },
    "slideshow": {
     "slide_type": "skip"
    }
   },
   "outputs": [],
   "source": [
    "import bookutils"
   ]
  },
  {
   "cell_type": "code",
   "execution_count": 3,
   "metadata": {
    "execution": {
     "iopub.execute_input": "2021-05-12T20:59:43.933629Z",
     "iopub.status.busy": "2021-05-12T20:59:43.932859Z",
     "iopub.status.idle": "2021-05-12T20:59:45.491103Z",
     "shell.execute_reply": "2021-05-12T20:59:45.491627Z"
    },
    "slideshow": {
     "slide_type": "skip"
    }
   },
   "outputs": [],
   "source": [
    "import StatisticalDebugger\n",
    "import DeltaDebugger"
   ]
  },
  {
   "cell_type": "markdown",
   "metadata": {
    "slideshow": {
     "slide_type": "skip"
    }
   },
   "source": [
    "## Synopsis\n",
    "<!-- Automatically generated. Do not edit. -->\n",
    "\n",
    "To [use the code provided in this chapter](Importing.ipynb), write\n",
    "\n",
    "```python\n",
    ">>> from debuggingbook.PerformanceDebugger import <identifier>\n",
    "```\n",
    "\n",
    "and then make use of the following features.\n",
    "\n",
    "\n",
    "This chapter provides a class `PerformanceDebugger` that allows to measure and visualize the time taken per line in a function.\n",
    "\n",
    "```python\n",
    ">>> with PerformanceDebugger(TimeCollector) as debugger:\n",
    ">>>     for i in range(100):\n",
    ">>>         s = remove_html_markup('<b>foo</b>')\n",
    "```\n",
    "The distribution of executed time within each function can be obtained by printing out the debugger:\n",
    "\n",
    "```python\n",
    ">>> print(debugger)\n",
    " 238   2% def remove_html_markup(s):  # type: ignore\n",
    " 239   1%     tag = False\n",
    " 240   1%     quote = False\n",
    " 241   1%     out = \"\"\n",
    " 242   0%\n",
    " 243  17%     for c in s:\n",
    " 244  15%         assert tag or not quote\n",
    " 245   0%\n",
    " 246  15%         if c == '<' and not quote:\n",
    " 247   3%             tag = True\n",
    " 248  12%         elif c == '>' and not quote:\n",
    " 249   3%             tag = False\n",
    " 250   9%         elif (c == '\"' or c == \"'\") and tag:\n",
    " 251   0%             quote = not quote\n",
    " 252   9%         elif not tag:\n",
    " 253   4%             out = out + c\n",
    " 254   0%\n",
    " 255   3%     return out\n",
    "\n",
    "\n",
    "```\n",
    "The sum of all percentages in a function should always be 100%.\n",
    "\n",
    "These percentages can also be visualized, where darker shades represent higher percentage values:\n",
    "\n",
    "```python\n",
    ">>> debugger\n",
    "```\n",
    "<pre style=\"background-color:hsl(240, 100%, 96.87265392601542%)\"\n",
    "                    title=\"Line 238:   2% 0.0004380527534522116\"> 238 def remove_html_markup(s):  # type: ignore</pre>\n",
    "<pre style=\"background-color:hsl(240, 100%, 97.26480799720122%)\"\n",
    "                    title=\"Line 239:   1% 0.00038312305696308613\"> 239     tag = False</pre>\n",
    "<pre style=\"background-color:hsl(240, 100%, 97.35272512640262%)\"\n",
    "                    title=\"Line 240:   1% 0.0003708083531819284\"> 240     quote = False</pre>\n",
    "<pre style=\"background-color:hsl(240, 100%, 97.48374041127123%)\"\n",
    "                    title=\"Line 241:   1% 0.00035245681647211313\"> 241     out = &quot;&quot;</pre>\n",
    "<pre style=\"background-color:hsl(240, 100%, 100.0%)\"\n",
    "                    title=\"Line 242:   0% 0.0\"> 242 &nbsp;</pre>\n",
    "<pre style=\"background-color:hsl(240, 100%, 75.0%)\"\n",
    "                    title=\"Line 243:  17% 0.003501793078612536\"> 243     for c in s:</pre>\n",
    "<pre style=\"background-color:hsl(240, 100%, 77.87629948344546%)\"\n",
    "                    title=\"Line 244:  15% 0.0030989048536866903\"> 244         assert tag or not quote</pre>\n",
    "<pre style=\"background-color:hsl(240, 100%, 100.0%)\"\n",
    "                    title=\"Line 245:   0% 0.0\"> 245 &nbsp;</pre>\n",
    "<pre style=\"background-color:hsl(240, 100%, 77.66782786342638%)\"\n",
    "                    title=\"Line 246:  15% 0.0031281058327294886\"> 246         if c == &#x27;&lt;&#x27; and not quote:</pre>\n",
    "<pre style=\"background-color:hsl(240, 100%, 95.54432714625133%)\"\n",
    "                    title=\"Line 247:   3% 0.0006241137743927538\"> 247             tag = True</pre>\n",
    "<pre style=\"background-color:hsl(240, 100%, 82.19179694891055%)\"\n",
    "                    title=\"Line 248:  12% 0.0024944256874732673\"> 248         elif c == &#x27;&gt;&#x27; and not quote:</pre>\n",
    "<pre style=\"background-color:hsl(240, 100%, 95.56172398739655%)\"\n",
    "                    title=\"Line 249:   3% 0.0006216769688762724\"> 249             tag = False</pre>\n",
    "<pre style=\"background-color:hsl(240, 100%, 86.87707619106652%)\"\n",
    "                    title=\"Line 250:   9% 0.0018381505506113172\"> 250         elif (c == &#x27;&quot;&#x27; or c == &quot;&#x27;&quot;) and tag:</pre>\n",
    "<pre style=\"background-color:hsl(240, 100%, 100.0%)\"\n",
    "                    title=\"Line 251:   0% 0.0\"> 251             quote = not quote</pre>\n",
    "<pre style=\"background-color:hsl(240, 100%, 86.43506494402368%)\"\n",
    "                    title=\"Line 252:   9% 0.0019000638276338577\"> 252         elif not tag:</pre>\n",
    "<pre style=\"background-color:hsl(240, 100%, 93.37617226509681%)\"\n",
    "                    title=\"Line 253:   4% 0.0009278109646402299\"> 253             out = out + c</pre>\n",
    "<pre style=\"background-color:hsl(240, 100%, 100.0%)\"\n",
    "                    title=\"Line 254:   0% 0.0\"> 254 &nbsp;</pre>\n",
    "<pre style=\"background-color:hsl(240, 100%, 95.63119333404111%)\"\n",
    "                    title=\"Line 255:   3% 0.0006119462777860463\"> 255     return out</pre>\n",
    "\n",
    "\n",
    "The abstract `MetricCollector` class allows subclassing to build more collectors, such as `HitCollector`.\n",
    "\n",
    "![](PICS/PerformanceDebugger-synopsis-1.svg)\n",
    "\n"
   ]
  },
  {
   "cell_type": "markdown",
   "metadata": {
    "slideshow": {
     "slide_type": "slide"
    }
   },
   "source": [
    "## Measuring Performance\n",
    "\n",
    "The solution to debugging performance issues fits in two simple rules:\n",
    "\n",
    "1. _Measure_ performance\n",
    "2. _Break down_ how individual parts of your code contribute to performance.\n",
    "\n",
    "The first part, actually _measuring_ performance, is key here. Developers often take elaborated guesses on which aspects of their code impact performance, and think about all possible ways to optimize their code – and at the same time, making it harder to understand, harder to evolve, and harder to maintain. In most cases, such guesses are wrong. Instead, _measure_ performance of your program, _identify_ the very few parts that may need to get improved, and again _measure_ the impact of your changes."
   ]
  },
  {
   "cell_type": "markdown",
   "metadata": {
    "slideshow": {
     "slide_type": "subslide"
    }
   },
   "source": [
    "Almost all programming languages offer a way to measure performance and breaking it down to individual parts of the code – a means also known as *profiling*. Profiling works by measuring the execution time for each function (or even more fine-grained location) in your program. This can be achieved by\n",
    "\n",
    "1. _Instrumenting_ or _tracing_ code such that the current time at entry and exit of each function (or line), thus determining the time spent. In Python, this is achieved by profilers like [profile or cProfile](https://docs.python.org/3/library/profile.html)\n",
    "\n",
    "2. _Sampling_ the current function call stack at regular intervals, and thus assessing which functions are most active (= take the most time) during execution. For Python, the [scalene](https://github.com/plasma-umass/scalene) profiler works this way.\n",
    "\n",
    "Pretty much all programming languages support profiling, either through measuring, sampling, or both. As a rule of thumb, _interpreted_ languages more frequently support measuring (as it is easy to implement in an interpreter), while _compiled_ languages more frequently support sampling (because instrumentation requires recompilation). Python is lucky to support both methods."
   ]
  },
  {
   "cell_type": "markdown",
   "metadata": {
    "slideshow": {
     "slide_type": "subslide"
    }
   },
   "source": [
    "### Tracing Execution Profiles\n",
    "\n",
    "Let us illustrate profiling in a simple example. The `ChangeCounter` class (which we will encounter in the [chapter on mining version histories](ChangeCounter.ipynb) reads in a version history from a git repository. Yet, it takes more than a minute to read in the debugging book change history:"
   ]
  },
  {
   "cell_type": "code",
   "execution_count": 4,
   "metadata": {
    "execution": {
     "iopub.execute_input": "2021-05-12T20:59:45.495720Z",
     "iopub.status.busy": "2021-05-12T20:59:45.494949Z",
     "iopub.status.idle": "2021-05-12T20:59:47.716532Z",
     "shell.execute_reply": "2021-05-12T20:59:47.717010Z"
    },
    "slideshow": {
     "slide_type": "skip"
    }
   },
   "outputs": [],
   "source": [
    "from ChangeCounter import ChangeCounter, debuggingbook_change_counter  # minor dependency"
   ]
  },
  {
   "cell_type": "code",
   "execution_count": 5,
   "metadata": {
    "execution": {
     "iopub.execute_input": "2021-05-12T20:59:47.720318Z",
     "iopub.status.busy": "2021-05-12T20:59:47.719714Z",
     "iopub.status.idle": "2021-05-12T20:59:47.721599Z",
     "shell.execute_reply": "2021-05-12T20:59:47.722004Z"
    },
    "slideshow": {
     "slide_type": "skip"
    }
   },
   "outputs": [],
   "source": [
    "import Timer"
   ]
  },
  {
   "cell_type": "code",
   "execution_count": 6,
   "metadata": {
    "execution": {
     "iopub.execute_input": "2021-05-12T20:59:47.725436Z",
     "iopub.status.busy": "2021-05-12T20:59:47.724865Z",
     "iopub.status.idle": "2021-05-12T21:01:47.150840Z",
     "shell.execute_reply": "2021-05-12T21:01:47.151655Z"
    },
    "slideshow": {
     "slide_type": "fragment"
    }
   },
   "outputs": [],
   "source": [
    "with Timer.Timer() as t:\n",
    "    change_counter = debuggingbook_change_counter(ChangeCounter)"
   ]
  },
  {
   "cell_type": "code",
   "execution_count": 7,
   "metadata": {
    "execution": {
     "iopub.execute_input": "2021-05-12T21:01:47.160623Z",
     "iopub.status.busy": "2021-05-12T21:01:47.160057Z",
     "iopub.status.idle": "2021-05-12T21:01:47.164296Z",
     "shell.execute_reply": "2021-05-12T21:01:47.164672Z"
    },
    "slideshow": {
     "slide_type": "fragment"
    }
   },
   "outputs": [
    {
     "data": {
      "text/plain": [
       "119.41162897599861"
      ]
     },
     "execution_count": 1,
     "metadata": {},
     "output_type": "execute_result"
    }
   ],
   "source": [
    "t.elapsed_time()"
   ]
  },
  {
   "cell_type": "markdown",
   "metadata": {
    "slideshow": {
     "slide_type": "subslide"
    }
   },
   "source": [
    "The Python `profile` and `cProfile` modules offer a simple way to identify the most time-consuming functions. They are invoked using the `run()` function, whose argument is the command to be profiled. The output reports, for each function encountered:\n",
    "\n",
    "* How often it was called (`ncalls` column)\n",
    "* How much time was spent in the given function, _excluding_ time spent in calls to sub-functions (`tottime` column)\n",
    "* The fraction of `tottime` / `ncalls` (first `percall` column)\n",
    "* How much time was spent in the given function, _including_ time spent in calls to sub-functions (`cumtime` column)\n",
    "* The fraction of `cumtime` / `percall` (second `percall` column)\n",
    "\n",
    "Let us have a look at the profile we obtain:"
   ]
  },
  {
   "cell_type": "code",
   "execution_count": 8,
   "metadata": {
    "execution": {
     "iopub.execute_input": "2021-05-12T21:01:47.168096Z",
     "iopub.status.busy": "2021-05-12T21:01:47.167411Z",
     "iopub.status.idle": "2021-05-12T21:01:47.169324Z",
     "shell.execute_reply": "2021-05-12T21:01:47.168937Z"
    },
    "slideshow": {
     "slide_type": "skip"
    }
   },
   "outputs": [],
   "source": [
    "import cProfile"
   ]
  },
  {
   "cell_type": "code",
   "execution_count": 9,
   "metadata": {
    "execution": {
     "iopub.execute_input": "2021-05-12T21:01:47.172739Z",
     "iopub.status.busy": "2021-05-12T21:01:47.172197Z",
     "iopub.status.idle": "2021-05-12T21:03:44.150780Z",
     "shell.execute_reply": "2021-05-12T21:03:44.151192Z"
    },
    "slideshow": {
     "slide_type": "subslide"
    }
   },
   "outputs": [
    {
     "name": "stdout",
     "output_type": "stream",
     "text": [
      "         8905180 function calls (8836276 primitive calls) in 116.670 seconds\n",
      "\n",
      "   Ordered by: cumulative time\n",
      "\n",
      "   ncalls  tottime  percall  cumtime  percall filename:lineno(function)\n",
      "        1    0.000    0.000  116.670  116.670 {built-in method builtins.exec}\n",
      "        1    0.000    0.000  116.670  116.670 <string>:1(<module>)\n",
      "        1    0.000    0.000  116.670  116.670 ChangeCounter.ipynb:155(debuggingbook_change_counter)\n",
      "        1    0.000    0.000  116.670  116.670 ChangeCounter.ipynb:48(__init__)\n",
      "        1    1.614    1.614  116.670  116.670 ChangeCounter.ipynb:85(mine)\n",
      "      662    0.120    0.000  114.639    0.173 commit.py:657(modified_files)\n",
      "      662    0.036    0.000  114.519    0.173 commit.py:673(_get_modifications)\n",
      "      636    0.198    0.000   61.542    0.097 diff.py:71(diff)\n",
      "      662    0.076    0.000   52.932    0.080 commit.py:707(_parse_diff)\n",
      "      636    5.667    0.009   52.726    0.083 diff.py:412(_index_from_patch_format)\n",
      "    11956    0.353    0.000   52.034    0.004 commit.py:736(_get_decoded_sc_str)\n",
      "   477976   36.482    0.000   36.482    0.000 {method 'decode' of 'bytes' objects}\n",
      "      636    0.065    0.000   34.676    0.055 cmd.py:59(handle_process_output)\n",
      "     6389   33.934    0.005   33.934    0.005 {method 'acquire' of '_thread.lock' objects}\n",
      "     1276    0.015    0.000   33.770    0.026 threading.py:1024(join)\n",
      "     1276    0.007    0.000   33.753    0.026 threading.py:1062(_wait_for_tstate_lock)\n",
      "    37871    0.085    0.000   15.227    0.000 cmd.py:435(read)\n",
      "    75720   15.134    0.000   15.135    0.000 {method 'read' of '_io.BufferedReader' objects}\n",
      "    31894    0.022    0.000   15.090    0.000 base.py:137(read)\n",
      "     5978    0.097    0.000   11.541    0.002 diff.py:258(__init__)\n",
      "     5315    0.035    0.000   11.359    0.002 base.py:332(submodules)\n",
      "     5315    0.041    0.000   11.324    0.002 util.py:919(list_items)\n",
      "12329/12326    0.023    0.000   11.272    0.001 {method 'extend' of 'list' objects}\n",
      "    15945    0.136    0.000   11.248    0.001 base.py:1174(iter_items)\n",
      "      641    0.298    0.000    8.628    0.013 cmd.py:946(_call_process)\n",
      "      637    0.054    0.000    8.618    0.014 cmd.py:545(<lambda>)\n",
      "      641    0.158    0.000    8.307    0.013 cmd.py:583(execute)\n",
      "      641    0.187    0.000    7.926    0.012 subprocess.py:608(__init__)\n",
      "      641    0.147    0.000    7.700    0.012 subprocess.py:1228(_execute_child)\n",
      "      641    5.840    0.009    5.840    0.009 {built-in method _posixsubprocess.fork_exec}\n",
      "    15945    0.027    0.000    3.905    0.000 base.py:472(commit)\n",
      "    59131    0.267    0.000    3.560    0.000 cmd.py:1060(__get_object_header)\n",
      "    15945    0.014    0.000    3.392    0.000 symbolic.py:192(_get_commit)\n",
      "    15945    0.029    0.000    3.378    0.000 symbolic.py:183(_get_object)\n",
      "    27237    0.059    0.000    3.073    0.000 util.py:248(__getattr__)\n",
      "    21260    0.029    0.000    2.654    0.000 symbolic.py:125(dereference_recursive)\n",
      "    42521    0.081    0.000    2.625    0.000 symbolic.py:176(_get_ref_info)\n",
      "    97151    2.615    0.000    2.616    0.000 {method 'readline' of '_io.BufferedReader' objects}\n",
      "    42521    0.489    0.000    2.544    0.000 symbolic.py:137(_get_ref_info_helper)\n",
      "    37871    0.114    0.000    2.453    0.000 db.py:40(stream)\n",
      "37205/10630    0.038    0.000    2.329    0.000 tree.py:287(__getitem__)\n",
      "37205/10630    0.134    0.000    2.307    0.000 tree.py:210(join)\n",
      "     5315    0.061    0.000    2.288    0.000 base.py:171(_config_parser)\n",
      "    37871    0.125    0.000    2.221    0.000 cmd.py:1085(stream_object_data)\n",
      "    21260    0.084    0.000    2.126    0.000 base.py:54(new_from_sha)\n",
      "    21260    0.048    0.000    1.954    0.000 tree.py:190(_set_cache_)\n",
      "    21260    0.077    0.000    1.790    0.000 db.py:36(info)\n",
      "    21260    0.029    0.000    1.651    0.000 cmd.py:1065(get_object_header)\n",
      "    49144    1.547    0.000    1.598    0.000 {built-in method io.open}\n",
      "     5315    0.041    0.000    1.581    0.000 fun.py:175(rev_parse)\n",
      "     5315    0.072    0.000    1.535    0.000 fun.py:106(name_to_object)\n",
      "42542/37212    0.065    0.000    1.534    0.000 config.py:79(assure_data_present)\n",
      "      641    1.446    0.002    1.446    0.002 {built-in method posix.read}\n",
      "     5315    0.099    0.000    1.061    0.000 util.py:56(__init__)\n",
      "     5977    0.029    0.000    1.049    0.000 commit.py:139(_set_cache_)\n",
      "     5321    0.056    0.000    0.964    0.000 config.py:255(__init__)\n",
      "     5321    0.073    0.000    0.905    0.000 configparser.py:600(__init__)\n",
      "    10634    0.016    0.000    0.892    0.000 base.py:108(data_stream)\n",
      "      636    0.750    0.001    0.750    0.001 {method 'join' of 'bytes' objects}\n",
      "    21265    0.042    0.000    0.731    0.000 configparser.py:765(get)\n",
      "42542/37221    0.076    0.000    0.715    0.000 config.py:507(read)\n",
      "     5321    0.124    0.000    0.704    0.000 configparser.py:1296(__init__)\n",
      "    21260    0.463    0.000    0.669    0.000 fun.py:41(tree_entries_from_data)\n",
      "    21265    0.583    0.000    0.599    0.000 __init__.py:877(__getitem__)\n",
      "     1276    0.020    0.000    0.513    0.000 threading.py:828(start)\n",
      "     5978    0.004    0.000    0.441    0.000 commit.py:726(_get_decoded_str)\n",
      "     5321    0.424    0.000    0.424    0.000 {built-in method builtins.dir}\n",
      "     5321    0.195    0.000    0.412    0.000 config.py:356(_read)\n",
      "     5978    0.048    0.000    0.335    0.000 commit.py:153(__init__)\n",
      "    42529    0.244    0.000    0.322    0.000 {method 'read' of '_io.TextIOWrapper' objects}\n",
      "     5977    0.078    0.000    0.288    0.000 commit.py:445(_deserialize)\n",
      "    10853    0.027    0.000    0.287    0.000 pathlib.py:998(__new__)\n",
      "     1276    0.094    0.000    0.277    0.000 threading.py:757(__init__)\n",
      "    10855    0.021    0.000    0.254    0.000 pathlib.py:651(_from_parts)\n",
      "     1276    0.253    0.000    0.253    0.000 {built-in method _thread.start_new_thread}\n",
      "   734536    0.251    0.000    0.251    0.000 {method 'match' of '_sre.SRE_Pattern' objects}\n",
      "      663    0.002    0.000    0.245    0.000 repository.py:201(traverse_commits)\n",
      "     1276    0.009    0.000    0.240    0.000 threading.py:533(wait)\n",
      "     6640    0.005    0.000    0.229    0.000 commit.py:564(committer_date)\n",
      "     1276    0.019    0.000    0.229    0.000 threading.py:263(wait)\n",
      "    10855    0.101    0.000    0.229    0.000 pathlib.py:631(_parse_args)\n",
      "     6640    0.005    0.000    0.225    0.000 commit.py:152(committed_datetime)\n",
      "    58161    0.146    0.000    0.221    0.000 posixpath.py:75(join)\n",
      "    59131    0.219    0.000    0.220    0.000 {method 'flush' of '_io.BufferedWriter' objects}\n",
      "      641    0.035    0.000    0.209    0.000 os.py:701(copy)\n",
      "   180710    0.093    0.000    0.179    0.000 compat.py:27(safe_decode)\n",
      "      666    0.014    0.000    0.178    0.000 repository.py:236(_iter_commits)\n",
      "    21260    0.102    0.000    0.178    0.000 util.py:44(get_object_type_by_name)\n",
      "    59131    0.121    0.000    0.173    0.000 cmd.py:1013(_parse_object_header)\n",
      "    59131    0.079    0.000    0.156    0.000 cmd.py:1035(_prepare_ref)\n",
      "   331438    0.138    0.000    0.138    0.000 {built-in method builtins.getattr}\n",
      "   217810    0.078    0.000    0.137    0.000 cmd.py:384(__getattr__)\n",
      "    11954    0.034    0.000    0.132    0.000 util.py:221(parse_actor_and_date)\n",
      "    81057    0.071    0.000    0.129    0.000 base.py:132(__init__)\n",
      "     1276    0.009    0.000    0.119    0.000 _weakrefset.py:81(add)\n",
      "     5321    0.078    0.000    0.118    0.000 configparser.py:1219(__init__)\n",
      "    10855    0.063    0.000    0.117    0.000 pathlib.py:51(parse_parts)\n",
      "   804567    0.114    0.000    0.114    0.000 {built-in method builtins.isinstance}\n",
      "    59131    0.028    0.000    0.111    0.000 cmd.py:1048(_get_persistent_cmd)\n",
      "     1921    0.110    0.000    0.110    0.000 {method 'add' of 'set' objects}\n",
      "   114739    0.051    0.000    0.103    0.000 os.py:794(fsencode)\n",
      "    59260    0.102    0.000    0.102    0.000 {method 'write' of '_io.BufferedWriter' objects}\n",
      "    71111    0.092    0.000    0.100    0.000 base.py:29(__init__)\n",
      "     6640    0.024    0.000    0.095    0.000 util.py:124(from_timestamp)\n",
      "    50644    0.037    0.000    0.092    0.000 os.py:664(__getitem__)\n",
      "    21922    0.031    0.000    0.087    0.000 tree.py:181(__init__)\n",
      "      641    0.014    0.000    0.087    0.000 os.py:607(get_exec_path)\n",
      "    21265    0.051    0.000    0.085    0.000 configparser.py:1131(_unify_values)\n",
      "    27925    0.037    0.000    0.079    0.000 commit.py:71(__init__)\n",
      "    42529    0.050    0.000    0.078    0.000 codecs.py:318(decode)\n",
      "    51280    0.019    0.000    0.072    0.000 _collections_abc.py:719(__iter__)\n",
      "    10630    0.013    0.000    0.070    0.000 base.py:304(index)\n",
      "   224643    0.069    0.000    0.069    0.000 {method 'encode' of 'str' objects}\n",
      "    34587    0.062    0.000    0.062    0.000 {method 'search' of '_sre.SRE_Pattern' objects}\n",
      "      641    0.060    0.000    0.061    0.000 warnings.py:449(__enter__)\n",
      "    37209    0.043    0.000    0.060    0.000 util.py:127(join_path)\n",
      "     5324    0.007    0.000    0.059    0.000 config.py:454(_has_includes)\n",
      "   103667    0.058    0.000    0.058    0.000 {built-in method binascii.a2b_hex}\n",
      "    96988    0.057    0.000    0.057    0.000 {method 'split' of 'str' objects}\n",
      "    10630    0.014    0.000    0.057    0.000 base.py:96(__init__)\n",
      "    42521    0.046    0.000    0.054    0.000 symbolic.py:26(_git_dir)\n",
      "    51280    0.033    0.000    0.053    0.000 os.py:687(__iter__)\n",
      "    11956    0.009    0.000    0.053    0.000 diff.py:399(_pick_best_path)\n",
      "    42529    0.034    0.000    0.052    0.000 codecs.py:308(__init__)\n",
      "     5321    0.013    0.000    0.051    0.000 config.py:457(_included_paths)\n",
      "    21261    0.028    0.000    0.048    0.000 <frozen importlib._bootstrap>:997(_handle_fromlist)\n",
      "     1277    0.010    0.000    0.047    0.000 threading.py:498(__init__)\n",
      "     5978    0.004    0.000    0.046    0.000 ChangeCounter.ipynb:99(include)\n",
      "    11956    0.030    0.000    0.045    0.000 diff.py:31(decode_path)\n",
      "   336045    0.044    0.000    0.044    0.000 {built-in method builtins.len}\n",
      "    37344    0.043    0.000    0.044    0.000 config.py:155(__setitem__)\n",
      "      663    0.000    0.000    0.043    0.000 git.py:106(get_list_commits)\n",
      "    10630    0.009    0.000    0.042    0.000 base.py:136(_index_path)\n",
      "     5978    0.016    0.000    0.042    0.000 ChangeCounter.ipynb:163(filter)\n",
      "    37871    0.024    0.000    0.042    0.000 base.py:128(__new__)\n",
      "    53206    0.033    0.000    0.041    0.000 config.py:168(__getitem__)\n",
      "    71111    0.041    0.000    0.041    0.000 {method 'split' of 'bytes' objects}\n",
      "     1277    0.017    0.000    0.041    0.000 subprocess.py:1434(wait)\n",
      "    15946    0.017    0.000    0.040    0.000 base.py:311(head)\n",
      "   101278    0.019    0.000    0.040    0.000 os.py:746(decode)\n",
      "    10897    0.007    0.000    0.039    0.000 subprocess.py:1284(<genexpr>)\n",
      "     1273    0.011    0.000    0.039    0.000 cmd.py:387(wait)\n",
      "    10851    0.039    0.000    0.039    0.000 util.py:29(mode_str_to_int)\n",
      "   310629    0.039    0.000    0.039    0.000 {method 'append' of 'list' objects}\n",
      "    10630    0.016    0.000    0.038    0.000 base.py:98(__init__)\n",
      "      637    0.002    0.000    0.038    0.000 util.py:326(finalize_process)\n",
      "    11954    0.016    0.000    0.038    0.000 util.py:561(_from_string)\n",
      "      663    0.001    0.000    0.036    0.000 commit.py:248(_iter_from_process_or_stream)\n",
      "    63127    0.036    0.000    0.036    0.000 {built-in method binascii.b2a_hex}\n",
      "    75301    0.036    0.000    0.036    0.000 {built-in method __new__ of type object at 0x108db7ea8}\n",
      "     6640    0.025    0.000    0.036    0.000 {built-in method fromtimestamp}\n",
      "    50644    0.018    0.000    0.035    0.000 os.py:742(encode)\n",
      "    58833    0.021    0.000    0.035    0.000 posixpath.py:41(_get_sep)\n",
      "   108472    0.033    0.000    0.033    0.000 {method 'startswith' of 'str' objects}\n",
      "    10634    0.011    0.000    0.033    0.000 util.py:160(join_path_native)\n",
      "    41310    0.032    0.000    0.032    0.000 {built-in method sys.intern}\n",
      "     5978    0.019    0.000    0.032    0.000 commit.py:907(_from_change_to_modification_type)\n",
      "   133615    0.032    0.000    0.032    0.000 {method 'endswith' of 'str' objects}\n",
      "    73775    0.030    0.000    0.030    0.000 {built-in method builtins.hasattr}\n",
      "    42529    0.028    0.000    0.028    0.000 {built-in method _codecs.utf_8_decode}\n",
      "    10630    0.022    0.000    0.028    0.000 symbolic.py:410(to_full_path)\n",
      "   184523    0.027    0.000    0.027    0.000 {built-in method posix.fspath}\n",
      "    21260    0.016    0.000    0.027    0.000 base.py:35(__new__)\n",
      "    21261    0.019    0.000    0.027    0.000 <frozen importlib._bootstrap>:416(parent)\n",
      "    10630    0.018    0.000    0.025    0.000 configparser.py:876(has_option)\n",
      "    14929    0.010    0.000    0.025    0.000 commit.py:227(new_path)\n",
      "     1284    0.024    0.000    0.024    0.000 threading.py:215(__init__)\n",
      "    15947    0.017    0.000    0.023    0.000 head.py:25(__init__)\n",
      "    10636    0.018    0.000    0.023    0.000 configparser.py:644(sections)\n",
      "      645    0.003    0.000    0.022    0.000 cmd.py:345(__del__)\n",
      "    37871    0.022    0.000    0.022    0.000 cmd.py:424(__init__)\n",
      "      641    0.002    0.000    0.022    0.000 subprocess.py:1421(_try_wait)\n",
      "     3197    0.021    0.000    0.021    0.000 {built-in method _thread.allocate_lock}\n",
      "    58641    0.021    0.000    0.021    0.000 {method 'group' of '_sre.SRE_Match' objects}\n",
      "    29886    0.021    0.000    0.021    0.000 {method 'groups' of '_sre.SRE_Match' objects}\n",
      "        2    0.000    0.000    0.021    0.010 {built-in method builtins.next}\n",
      "        2    0.000    0.000    0.021    0.010 repository.py:166(_prep_repo)\n",
      "      645    0.020    0.000    0.020    0.000 {built-in method posix.waitpid}\n",
      "     6640    0.019    0.000    0.019    0.000 util.py:104(__init__)\n",
      "    21362    0.018    0.000    0.019    0.000 config.py:158(add)\n",
      "    42529    0.018    0.000    0.018    0.000 codecs.py:259(__init__)\n",
      "    11954    0.017    0.000    0.017    0.000 util.py:68(utctz_to_altz)\n",
      "        7    0.000    0.000    0.017    0.002 cmd.py:1094(clear_cache)\n",
      "      369    0.003    0.000    0.017    0.000 ChangeCounter.ipynb:108(update_stats)\n",
      "        1    0.000    0.000    0.017    0.017 contextlib.py:85(__exit__)\n",
      "     6640    0.014    0.000    0.016    0.000 {method 'astimezone' of 'datetime.datetime' objects}\n",
      "        2    0.000    0.000    0.016    0.008 git.py:73(clear)\n",
      "     2626    0.014    0.000    0.016    0.000 __init__.py:1544(isEnabledFor)\n",
      "     2569    0.016    0.000    0.016    0.000 {built-in method posix.close}\n",
      "   112716    0.016    0.000    0.016    0.000 {method 'strip' of 'str' objects}\n",
      "    15287    0.010    0.000    0.015    0.000 base.py:84(__ne__)\n",
      "      663    0.003    0.000    0.015    0.000 __init__.py:1298(info)\n",
      "    14491    0.009    0.000    0.015    0.000 pathlib.py:691(__str__)\n",
      "    21265    0.014    0.000    0.014    0.000 __init__.py:867(__init__)\n",
      "    37871    0.014    0.000    0.014    0.000 cmd.py:511(__del__)\n",
      "    63899    0.014    0.000    0.014    0.000 {method 'rstrip' of 'str' objects}\n",
      "    55421    0.014    0.000    0.014    0.000 {method 'startswith' of 'bytes' objects}\n",
      "    21260    0.013    0.000    0.013    0.000 base.py:38(__init__)\n",
      "      641    0.007    0.000    0.013    0.000 subprocess.py:1174(_get_handles)\n",
      " 5732/641    0.008    0.000    0.012    0.000 cmd.py:915(__unpack_args)\n",
      "    11143    0.009    0.000    0.012    0.000 diff.py:370(a_path)\n",
      "      641    0.011    0.000    0.011    0.000 cmd.py:341(__init__)\n",
      "    19920    0.011    0.000    0.011    0.000 util.py:111(utcoffset)\n",
      "    10630    0.009    0.000    0.011    0.000 util.py:18(sm_name)\n",
      "      369    0.010    0.000    0.010    0.000 ChangeCounter.ipynb:124(update_size)\n",
      "      641    0.009    0.000    0.010    0.000 _collections_abc.py:672(keys)\n",
      "    26609    0.010    0.000    0.010    0.000 {built-in method builtins.setattr}\n",
      "      662    0.002    0.000    0.010    0.000 conf.py:257(is_commit_filtered)\n",
      "     1281    0.010    0.000    0.010    0.000 {method 'append' of 'collections.deque' objects}\n",
      "     5978    0.007    0.000    0.010    0.000 commit.py:526(committer)\n",
      "    11447    0.006    0.000    0.009    0.000 diff.py:374(b_path)\n",
      "     1927    0.009    0.000    0.009    0.000 {built-in method posix.pipe}\n",
      "     1276    0.008    0.000    0.009    0.000 _weakrefset.py:38(_remove)\n",
      "     4006    0.008    0.000    0.009    0.000 conf.py:45(get)\n",
      "      636    0.008    0.000    0.008    0.000 {method 'finditer' of '_sre.SRE_Pattern' objects}\n",
      "    21265    0.008    0.000    0.008    0.000 base.py:271(common_dir)\n",
      "     5315    0.007    0.000    0.008    0.000 util.py:851(__new__)\n",
      "    53335    0.008    0.000    0.008    0.000 {function _OMD.__getitem__ at 0x7fa8a2331ea0}\n",
      "    10851    0.008    0.000    0.008    0.000 {method 'sub' of '_sre.SRE_Pattern' objects}\n",
      "     1272    0.008    0.000    0.008    0.000 threading.py:727(_newname)\n",
      "    21261    0.007    0.000    0.007    0.000 {method 'rpartition' of 'str' objects}\n",
      "     2552    0.006    0.000    0.007    0.000 threading.py:1230(current_thread)\n",
      "        5    0.000    0.000    0.007    0.001 base.py:88(__init__)\n",
      "     4674    0.005    0.000    0.007    0.000 diff.py:393(renamed_file)\n",
      "     3996    0.003    0.000    0.007    0.000 base.py:102(hexsha)\n",
      "    30142    0.007    0.000    0.007    0.000 {method 'readline' of '_io.BytesIO' objects}\n",
      "      641    0.004    0.000    0.006    0.000 cmd.py:903(transform_kwargs)\n",
      "    15947    0.006    0.000    0.006    0.000 symbolic.py:48(__init__)\n",
      "    10855    0.006    0.000    0.006    0.000 pathlib.py:282(splitroot)\n",
      "        4    0.000    0.000    0.006    0.002 util.py:63(wrapper)\n",
      "        4    0.000    0.000    0.006    0.002 base.py:1049(module)\n",
      "    53258    0.006    0.000    0.006    0.000 config.py:352(optionxform)\n",
      "        1    0.000    0.000    0.006    0.006 base.py:504(iter_commits)\n",
      "        1    0.000    0.000    0.006    0.006 commit.py:186(iter_items)\n",
      "     5247    0.003    0.000    0.006    0.000 config.py:318(__del__)\n",
      "     1963    0.002    0.000    0.006    0.000 __init__.py:1286(debug)\n",
      "     5540    0.003    0.000    0.006    0.000 pathlib.py:674(_format_parsed_parts)\n",
      "      641    0.003    0.000    0.006    0.000 warnings.py:143(simplefilter)\n",
      "    10855    0.005    0.000    0.005    0.000 pathlib.py:1008(_init)\n",
      "    32046    0.005    0.000    0.005    0.000 {method 'lower' of 'str' objects}\n",
      "     1272    0.003    0.000    0.005    0.000 threading.py:1147(setDaemon)\n",
      "    11954    0.005    0.000    0.005    0.000 util.py:542(__init__)\n",
      "    42520    0.005    0.000    0.005    0.000 {built-in method builtins.ord}\n",
      "        2    0.000    0.000    0.005    0.002 base.py:1067(module_exists)\n",
      "    10636    0.004    0.000    0.005    0.000 {method 'keys' of 'collections.OrderedDict' objects}\n",
      "     5315    0.003    0.000    0.004    0.000 base.py:78(__eq__)\n",
      "    21260    0.004    0.000    0.004    0.000 base.py:52(type)\n",
      "     5321    0.003    0.000    0.004    0.000 configparser.py:1338(__iter__)\n",
      "        1    0.000    0.000    0.004    0.004 contextlib.py:79(__enter__)\n",
      "     5978    0.003    0.000    0.004    0.000 commit.py:591(msg)\n",
      "      641    0.004    0.000    0.004    0.000 warnings.py:428(__init__)\n",
      "      662    0.002    0.000    0.004    0.000 commit.py:506(hash)\n",
      "    21260    0.003    0.000    0.003    0.000 base.py:42(binsha)\n",
      "        1    0.000    0.000    0.003    0.003 git.py:38(__init__)\n",
      "        1    0.000    0.000    0.003    0.003 git.py:82(_open_repository)\n",
      "     1276    0.003    0.000    0.003    0.000 threading.py:1120(daemon)\n",
      "    21260    0.003    0.000    0.003    0.000 base.py:60(size)\n",
      "     5315    0.003    0.000    0.003    0.000 util.py:854(__init__)\n",
      "      649    0.001    0.000    0.003    0.000 posixpath.py:154(dirname)\n",
      "     1273    0.003    0.000    0.003    0.000 encoding.py:1(force_bytes)\n",
      "     6640    0.003    0.000    0.003    0.000 developer.py:24(__init__)\n",
      "      641    0.001    0.000    0.003    0.000 warnings.py:159(_add_filter)\n",
      "    21265    0.003    0.000    0.003    0.000 configparser.py:362(before_get)\n",
      "     5248    0.002    0.000    0.003    0.000 config.py:330(release)\n",
      "      369    0.002    0.000    0.003    0.000 ChangeCounter.ipynb:132(update_changes)\n",
      "    26605    0.003    0.000    0.003    0.000 {built-in method builtins.callable}\n",
      "     5315    0.003    0.000    0.003    0.000 fun.py:164(to_commit)\n",
      "     1283    0.003    0.000    0.003    0.000 {built-in method builtins.sorted}\n",
      "      688    0.001    0.000    0.003    0.000 commit.py:600(parents)\n",
      "    26560    0.003    0.000    0.003    0.000 util.py:117(dst)\n",
      "    18/10    0.000    0.000    0.002    0.000 fun.py:70(find_submodule_git_dir)\n",
      "     1276    0.002    0.000    0.002    0.000 threading.py:1136(daemon)\n",
      "     5592    0.002    0.000    0.002    0.000 {method 'join' of 'str' objects}\n",
      "     5319    0.002    0.000    0.002    0.000 base.py:265(working_tree_dir)\n",
      "     1272    0.001    0.000    0.002    0.000 base.py:94(__str__)\n",
      "     5319    0.002    0.000    0.002    0.000 base.py:278(bare)\n",
      "     2626    0.002    0.000    0.002    0.000 __init__.py:1530(getEffectiveLevel)\n",
      "      641    0.002    0.000    0.002    0.000 subprocess.py:872(poll)\n",
      "      641    0.001    0.000    0.002    0.000 subprocess.py:1368(_handle_exitstatus)\n",
      "     5321    0.002    0.000    0.002    0.000 config.py:299(_acquire_lock)\n",
      "     5345    0.002    0.000    0.002    0.000 {method 'pop' of 'list' objects}\n",
      "     1276    0.002    0.000    0.002    0.000 threading.py:966(_stop)\n",
      "     1289    0.001    0.000    0.002    0.000 threading.py:239(__enter__)\n",
      "      645    0.002    0.000    0.002    0.000 {method 'remove' of 'list' objects}\n",
      "     5977    0.002    0.000    0.002    0.000 {method 'read' of '_io.BytesIO' objects}\n",
      "      641    0.002    0.000    0.002    0.000 _collections_abc.py:698(__init__)\n",
      "    10256    0.002    0.000    0.002    0.000 {method 'endswith' of 'bytes' objects}\n",
      "     5978    0.002    0.000    0.002    0.000 {method 'end' of '_sre.SRE_Match' objects}\n",
      "        1    0.000    0.000    0.002    0.002 repository.py:230(<dictcomp>)\n",
      "        4    0.000    0.000    0.002    0.000 thread.py:114(submit)\n",
      "     6660    0.002    0.000    0.002    0.000 {method 'strip' of 'bytes' objects}\n",
      "    10855    0.001    0.000    0.001    0.000 {method 'reverse' of 'list' objects}\n",
      "     5321    0.001    0.000    0.001    0.000 {built-in method builtins.iter}\n",
      "     1281    0.001    0.000    0.001    0.000 threading.py:254(_is_owned)\n",
      "    10634    0.001    0.000    0.001    0.000 util.py:155(to_native_path_linux)\n",
      "     5321    0.001    0.000    0.001    0.000 configparser.py:1179(converters)\n",
      "     1276    0.001    0.000    0.001    0.000 threading.py:251(_acquire_restore)\n",
      "        4    0.000    0.000    0.001    0.000 thread.py:127(_adjust_thread_count)\n",
      "     4647    0.001    0.000    0.001    0.000 {method 'get' of 'dict' objects}\n",
      "      662    0.001    0.000    0.001    0.000 commit.py:515(author)\n",
      "      641    0.001    0.000    0.001    0.000 subprocess.py:778(__del__)\n",
      "     4674    0.001    0.000    0.001    0.000 diff.py:378(rename_from)\n",
      "     1273    0.001    0.000    0.001    0.000 cmd.py:539(__getattr__)\n",
      "     1276    0.001    0.000    0.001    0.000 threading.py:248(_release_save)\n",
      "     1282    0.001    0.000    0.001    0.000 {method 'close' of '_io.BufferedReader' objects}\n",
      "     1289    0.001    0.000    0.001    0.000 threading.py:242(__exit__)\n",
      "      647    0.000    0.000    0.001    0.000 cmd.py:118(dashify)\n",
      "     5342    0.001    0.000    0.001    0.000 {method 'start' of '_sre.SRE_Match' objects}\n",
      "     3828    0.001    0.000    0.001    0.000 threading.py:506(is_set)\n",
      "        3    0.000    0.000    0.001    0.000 config.py:610(write)\n",
      "      641    0.001    0.000    0.001    0.000 warnings.py:468(__exit__)\n",
      "     4674    0.001    0.000    0.001    0.000 diff.py:382(rename_to)\n",
      "        5    0.000    0.000    0.001    0.000 base.py:217(__del__)\n",
      "        5    0.000    0.000    0.001    0.000 base.py:223(close)\n",
      "      641    0.001    0.000    0.001    0.000 cmd.py:977(<dictcomp>)\n",
      "     2549    0.001    0.000    0.001    0.000 {method 'insert' of 'list' objects}\n",
      "     2552    0.001    0.000    0.001    0.000 {built-in method _thread.get_ident}\n",
      "     5251    0.001    0.000    0.001    0.000 config.py:655(read_only)\n",
      "       23    0.000    0.000    0.001    0.000 fun.py:29(is_git_dir)\n",
      "        5    0.000    0.000    0.001    0.000 base.py:436(config_reader)\n",
      "      641    0.001    0.000    0.001    0.000 subprocess.py:203(_cleanup)\n",
      "     2560    0.001    0.000    0.001    0.000 {method 'release' of '_thread.lock' objects}\n",
      "      2/1    0.000    0.000    0.001    0.001 config.py:92(flush_changes)\n",
      "      641    0.001    0.000    0.001    0.000 cmd.py:984(<listcomp>)\n",
      "        1    0.000    0.000    0.001    0.001 base.py:457(config_writer)\n",
      "     1281    0.001    0.000    0.001    0.000 {method '__enter__' of '_thread.lock' objects}\n",
      "      731    0.001    0.000    0.001    0.000 {method 'replace' of 'str' objects}\n",
      "      641    0.001    0.000    0.001    0.000 {method 'rfind' of 'bytes' objects}\n",
      "      662    0.000    0.000    0.001    0.000 git.py:130(get_commit_from_gitpython)\n",
      "       70    0.001    0.000    0.001    0.000 {built-in method posix.stat}\n",
      "      641    0.001    0.000    0.001    0.000 {built-in method posix.WIFSIGNALED}\n",
      "     1282    0.000    0.000    0.001    0.000 subprocess.py:1386(_internal_poll)\n",
      "     1276    0.000    0.000    0.000    0.000 {method 'discard' of 'set' objects}\n",
      "        1    0.000    0.000    0.000    0.000 _base.py:610(__exit__)\n",
      "        2    0.000    0.000    0.000    0.000 pathlib.py:1133(resolve)\n",
      "     2565    0.000    0.000    0.000    0.000 {method 'items' of 'dict' objects}\n",
      "        3    0.000    0.000    0.000    0.000 config.py:571(_write)\n",
      "        4    0.000    0.000    0.000    0.000 util.py:762(_obtain_lock)\n",
      "        1    0.000    0.000    0.000    0.000 thread.py:146(shutdown)\n",
      "        4    0.000    0.000    0.000    0.000 util.py:740(_obtain_lock_or_raise)\n",
      "        1    0.000    0.000    0.000    0.000 {built-in method posix.open}\n",
      "     1923    0.000    0.000    0.000    0.000 {built-in method _warnings._filters_mutated}\n",
      "        2    0.000    0.000    0.000    0.000 pathlib.py:303(resolve)\n",
      "       48    0.000    0.000    0.000    0.000 genericpath.py:39(isdir)\n",
      "       45    0.000    0.000    0.000    0.000 config.py:574(write_section)\n",
      "        1    0.000    0.000    0.000    0.000 config.py:738(set_value)\n",
      "      645    0.000    0.000    0.000    0.000 {method 'update' of 'dict' objects}\n",
      "        2    0.000    0.000    0.000    0.000 pathlib.py:307(_resolve)\n",
      "      641    0.000    0.000    0.000    0.000 cmd.py:978(<dictcomp>)\n",
      "       51    0.000    0.000    0.000    0.000 posixpath.py:338(normpath)\n",
      "       15    0.000    0.000    0.000    0.000 util.py:332(expand_path)\n",
      "        8    0.000    0.000    0.000    0.000 pathlib.py:439(readlink)\n",
      "        8    0.000    0.000    0.000    0.000 {built-in method posix.readlink}\n",
      "     1281    0.000    0.000    0.000    0.000 {method '__exit__' of '_thread.lock' objects}\n",
      "        5    0.000    0.000    0.000    0.000 _base.py:196(as_completed)\n",
      "      662    0.000    0.000    0.000    0.000 commit.py:480(__init__)\n",
      "      638    0.000    0.000    0.000    0.000 {built-in method posix.WIFEXITED}\n",
      "      641    0.000    0.000    0.000    0.000 {method 'items' of 'collections.OrderedDict' objects}\n",
      "        1    0.000    0.000    0.000    0.000 repository.py:246(_split_in_chunks)\n",
      "      638    0.000    0.000    0.000    0.000 {built-in method posix.WEXITSTATUS}\n",
      "      641    0.000    0.000    0.000    0.000 {method 'pop' of 'dict' objects}\n",
      "        5    0.000    0.000    0.000    0.000 db.py:31(__init__)\n",
      "       15    0.000    0.000    0.000    0.000 posixpath.py:376(abspath)\n",
      "     1276    0.000    0.000    0.000    0.000 {method 'locked' of '_thread.lock' objects}\n",
      "        5    0.000    0.000    0.000    0.000 _base.py:174(_yield_finished_futures)\n",
      "        1    0.000    0.000    0.000    0.000 git.py:88(_discover_main_branch)\n",
      "        5    0.000    0.000    0.000    0.000 configparser.py:826(getboolean)\n",
      "      636    0.000    0.000    0.000    0.000 diff.py:63(_process_diff_args)\n",
      "        1    0.000    0.000    0.000    0.000 thread.py:91(__init__)\n",
      "        1    0.000    0.000    0.000    0.000 base.py:713(active_branch)\n",
      "        5    0.000    0.000    0.000    0.000 cmd.py:519(__init__)\n",
      "        1    0.000    0.000    0.000    0.000 symbolic.py:266(_get_reference)\n",
      "        5    0.000    0.000    0.000    0.000 loose.py:77(__init__)\n",
      "        5    0.000    0.000    0.000    0.000 queue.py:115(put)\n",
      "       17    0.000    0.000    0.000    0.000 genericpath.py:27(isfile)\n",
      "        5    0.000    0.000    0.000    0.000 configparser.py:805(_get_conv)\n",
      "       45    0.000    0.000    0.000    0.000 config.py:192(items_all)\n",
      "        5    0.000    0.000    0.000    0.000 configparser.py:802(_get)\n",
      "      369    0.000    0.000    0.000    0.000 ChangeCounter.ipynb:142(update_elems)\n",
      "        5    0.000    0.000    0.000    0.000 genericpath.py:16(exists)\n",
      "       45    0.000    0.000    0.000    0.000 config.py:194(<listcomp>)\n",
      "       85    0.000    0.000    0.000    0.000 config.py:733(_value_to_string)\n",
      "        4    0.000    0.000    0.000    0.000 weakref.py:356(remove)\n",
      "        6    0.000    0.000    0.000    0.000 base.py:418(_get_config_path)\n",
      "        2    0.000    0.000    0.000    0.000 util.py:767(_release_lock)\n",
      "        4    0.000    0.000    0.000    0.000 {method 'close' of '_io.BufferedWriter' objects}\n",
      "        5    0.000    0.000    0.000    0.000 base.py:108(__init__)\n",
      "        1    0.000    0.000    0.000    0.000 util.py:103(rmfile)\n",
      "        5    0.000    0.000    0.000    0.000 _collections_abc.py:664(__contains__)\n",
      "        4    0.000    0.000    0.000    0.000 subprocess.py:1602(terminate)\n",
      "        4    0.000    0.000    0.000    0.000 _base.py:312(__init__)\n",
      "      129    0.000    0.000    0.000    0.000 config.py:185(getall)\n",
      "        5    0.000    0.000    0.000    0.000 mman.py:410(collect)\n",
      "        1    0.000    0.000    0.000    0.000 {built-in method posix.remove}\n",
      "        1    0.000    0.000    0.000    0.000 queue.py:27(__init__)\n",
      "        3    0.000    0.000    0.000    0.000 config.py:188(items)\n",
      "        5    0.000    0.000    0.000    0.000 queue.py:206(_put)\n",
      "        5    0.000    0.000    0.000    0.000 mman.py:305(_collect_lru_region)\n",
      "        3    0.000    0.000    0.000    0.000 config.py:190(<listcomp>)\n",
      "        5    0.000    0.000    0.000    0.000 re.py:179(search)\n",
      "       15    0.000    0.000    0.000    0.000 posixpath.py:232(expanduser)\n",
      "        4    0.000    0.000    0.000    0.000 _base.py:405(result)\n",
      "        8    0.000    0.000    0.000    0.000 cmd.py:887(transform_kwarg)\n",
      "       23    0.000    0.000    0.000    0.000 posixpath.py:64(isabs)\n",
      "        4    0.000    0.000    0.000    0.000 subprocess.py:1596(send_signal)\n",
      "        1    0.000    0.000    0.000    0.000 conf.py:77(sanity_check_filters)\n",
      "        5    0.000    0.000    0.000    0.000 threading.py:334(notify)\n",
      "        1    0.000    0.000    0.000    0.000 repository.py:44(__init__)\n",
      "        8    0.000    0.000    0.000    0.000 _bootlocale.py:23(getpreferredencoding)\n",
      "       13    0.000    0.000    0.000    0.000 cmd.py:306(is_cygwin)\n",
      "       85    0.000    0.000    0.000    0.000 encoding.py:11(force_text)\n",
      "        4    0.000    0.000    0.000    0.000 {built-in method posix.kill}\n",
      "        5    0.000    0.000    0.000    0.000 re.py:286(_compile)\n",
      "        1    0.000    0.000    0.000    0.000 symbolic.py:650(from_path)\n",
      "        4    0.000    0.000    0.000    0.000 weakref.py:406(__setitem__)\n",
      "        1    0.000    0.000    0.000    0.000 _base.py:152(_create_and_install_waiters)\n",
      "        1    0.000    0.000    0.000    0.000 conf.py:24(__init__)\n",
      "       15    0.000    0.000    0.000    0.000 posixpath.py:285(expandvars)\n",
      "        7    0.000    0.000    0.000    0.000 conf.py:36(set_value)\n",
      "        1    0.000    0.000    0.000    0.000 conf.py:287(_check_timezones)\n",
      "        1    0.000    0.000    0.000    0.000 conf.py:191(build_args)\n",
      "        4    0.000    0.000    0.000    0.000 base.py:174(abspath)\n",
      "        5    0.000    0.000    0.000    0.000 base.py:67(__init__)\n",
      "        1    0.000    0.000    0.000    0.000 configparser.py:890(set)\n",
      "        1    0.000    0.000    0.000    0.000 conf.py:293(_replace_timezone)\n",
      "        3    0.000    0.000    0.000    0.000 {built-in method posix.WTERMSIG}\n",
      "       13    0.000    0.000    0.000    0.000 util.py:292(is_cygwin_git)\n",
      "       21    0.000    0.000    0.000    0.000 {method 'rstrip' of 'bytes' objects}\n",
      "        8    0.000    0.000    0.000    0.000 {built-in method _locale.nl_langinfo}\n",
      "        1    0.000    0.000    0.000    0.000 {method 'replace' of 'datetime.datetime' objects}\n",
      "       21    0.000    0.000    0.000    0.000 {method 'find' of 'bytes' objects}\n",
      "        1    0.000    0.000    0.000    0.000 _base.py:74(__init__)\n",
      "        5    0.000    0.000    0.000    0.000 configparser.py:1151(_convert_to_boolean)\n",
      "        1    0.000    0.000    0.000    0.000 conf.py:65(_check_only_one_from_commit)\n",
      "        1    0.000    0.000    0.000    0.000 pathlib.py:777(name)\n",
      "        1    0.000    0.000    0.000    0.000 _base.py:141(__init__)\n",
      "        4    0.000    0.000    0.000    0.000 base.py:243(__ne__)\n",
      "        2    0.000    0.000    0.000    0.000 pathlib.py:1434(expanduser)\n",
      "        1    0.000    0.000    0.000    0.000 _base.py:58(__init__)\n",
      "        4    0.000    0.000    0.000    0.000 _base.py:382(__get_result)\n",
      "        1    0.000    0.000    0.000    0.000 git.py:316(__del__)\n",
      "        8    0.000    0.000    0.000    0.000 {method '__enter__' of '_thread.RLock' objects}\n",
      "        1    0.000    0.000    0.000    0.000 {built-in method math.ceil}\n",
      "        2    0.000    0.000    0.000    0.000 repository.py:144(_is_remote)\n",
      "        1    0.000    0.000    0.000    0.000 conf.py:165(get_ending_commit)\n",
      "        4    0.000    0.000    0.000    0.000 threading.py:74(RLock)\n",
      "        4    0.000    0.000    0.000    0.000 thread.py:45(__init__)\n",
      "        8    0.000    0.000    0.000    0.000 util.py:735(_has_lock)\n",
      "        4    0.000    0.000    0.000    0.000 base.py:238(__eq__)\n",
      "        1    0.000    0.000    0.000    0.000 contextlib.py:59(__init__)\n",
      "        1    0.000    0.000    0.000    0.000 contextlib.py:157(helper)\n",
      "        1    0.000    0.000    0.000    0.000 _base.py:148(__exit__)\n",
      "        1    0.000    0.000    0.000    0.000 queue.py:199(_init)\n",
      "        1    0.000    0.000    0.000    0.000 util.py:728(__del__)\n",
      "        2    0.000    0.000    0.000    0.000 util.py:731(_lock_file_path)\n",
      "        1    0.000    0.000    0.000    0.000 reference.py:35(__init__)\n",
      "        8    0.000    0.000    0.000    0.000 {method 'rfind' of 'str' objects}\n",
      "        5    0.000    0.000    0.000    0.000 {built-in method builtins.issubclass}\n",
      "       43    0.000    0.000    0.000    0.000 {built-in method _stat.S_ISDIR}\n",
      "        1    0.000    0.000    0.000    0.000 _base.py:144(__enter__)\n",
      "        1    0.000    0.000    0.000    0.000 conf.py:71(_check_only_one_to_commit)\n",
      "        2    0.000    0.000    0.000    0.000 conf.py:181(only_one_filter)\n",
      "        3    0.000    0.000    0.000    0.000 config.py:647(_assure_writable)\n",
      "        1    0.000    0.000    0.000    0.000 reference.py:86(name)\n",
      "        4    0.000    0.000    0.000    0.000 {method 'lstrip' of 'str' objects}\n",
      "        4    0.000    0.000    0.000    0.000 {method 'remove' of 'collections.deque' objects}\n",
      "       11    0.000    0.000    0.000    0.000 {built-in method _stat.S_ISREG}\n",
      "        1    0.000    0.000    0.000    0.000 conf.py:54(_sanity_check_repos)\n",
      "        1    0.000    0.000    0.000    0.000 conf.py:114(_check_correct_filters_order)\n",
      "        1    0.000    0.000    0.000    0.000 conf.py:142(get_starting_commit)\n",
      "        5    0.000    0.000    0.000    0.000 {method 'values' of 'dict' objects}\n",
      "        4    0.000    0.000    0.000    0.000 {method 'acquire' of '_thread.RLock' objects}\n",
      "        8    0.000    0.000    0.000    0.000 {method '__exit__' of '_thread.RLock' objects}\n",
      "        2    0.000    0.000    0.000    0.000 pathlib.py:919(is_absolute)\n",
      "        5    0.000    0.000    0.000    0.000 _base.py:221(<genexpr>)\n",
      "        1    0.000    0.000    0.000    0.000 configparser.py:365(before_set)\n",
      "        3    0.000    0.000    0.000    0.000 git.py:62(repo)\n",
      "        2    0.000    0.000    0.000    0.000 conf.py:189(<listcomp>)\n",
      "        1    0.000    0.000    0.000    0.000 util.py:724(__init__)\n",
      "        4    0.000    0.000    0.000    0.000 {method 'remove' of 'set' objects}\n",
      "        4    0.000    0.000    0.000    0.000 {method 'release' of '_thread.RLock' objects}\n",
      "        1    0.000    0.000    0.000    0.000 {method 'disable' of '_lsprof.Profiler' objects}\n",
      "        1    0.000    0.000    0.000    0.000 _base.py:607(__enter__)\n",
      "        1    0.000    0.000    0.000    0.000 configparser.py:663(has_section)\n",
      "        1    0.000    0.000    0.000    0.000 __init__.py:230(utcoffset)\n",
      "        8    0.000    0.000    0.000    0.000 cmd.py:906(<lambda>)\n",
      "\n",
      "\n"
     ]
    }
   ],
   "source": [
    "cProfile.run('debuggingbook_change_counter(ChangeCounter)', sort='cumulative')"
   ]
  },
  {
   "cell_type": "markdown",
   "metadata": {
    "slideshow": {
     "slide_type": "subslide"
    }
   },
   "source": [
    "Yes, that's an awful lot of functions, but we can quickly narrow things down. The `cumtime` column is sorted by largest values first. We see that the `debuggingbook_change_counter()` method at the top takes up all the time – but this is not surprising, since it it the method we called in the first place. This calls a method `mine()` in the `ChangeCounter` class, which does all the work."
   ]
  },
  {
   "cell_type": "markdown",
   "metadata": {
    "slideshow": {
     "slide_type": "fragment"
    }
   },
   "source": [
    "The next places are more interesting: almost all time is spent in a single method, named `modifications()`. This method determines the difference between two versions, which is an expensive operation; this is also supported by the observation that half of the time is spent in a `diff()` method."
   ]
  },
  {
   "cell_type": "markdown",
   "metadata": {
    "slideshow": {
     "slide_type": "subslide"
    }
   },
   "source": [
    "This profile thus already gets us a hint on how to improve performance: Rather than computing the diff between versions for _every_ version, we could do so _on demand_ (and possibly cache results so we don't have to compute them twice). Alas, this (slow) functionality is part of the \n",
    "underlying [PyDriller](https://pydriller.readthedocs.io/) Python package, so we cannot fix this within the `ChangeCounter` class. But we could file a bug with the developers, suggesting a patch to improve performance."
   ]
  },
  {
   "cell_type": "markdown",
   "metadata": {
    "slideshow": {
     "slide_type": "subslide"
    }
   },
   "source": [
    "### Sampling Execution Profiles\n",
    "\n",
    "Instrumenting code is _precise_, but it is also _slow_. An alternate way to measure performance is to _sample_ in regular intervals which functions are currently active – for instance, by examining the current function call stack. The more frequently a function is sampled as active, the more time is spent in that function."
   ]
  },
  {
   "cell_type": "markdown",
   "metadata": {
    "slideshow": {
     "slide_type": "subslide"
    }
   },
   "source": [
    "One profiler for Python that implements such sampling is [Scalene](https://github.com/plasma-umass/scalene) – a high-performance, high-precision CPU, GPU, and memory profiler for Python. We can invoke it on our example as follows:\n",
    "\n",
    "```sh\n",
    "$ scalene --html test.py > scalene-out.html\n",
    "```"
   ]
  },
  {
   "cell_type": "markdown",
   "metadata": {
    "slideshow": {
     "slide_type": "fragment"
    }
   },
   "source": [
    "where `test.py` is a script that again invokes\n",
    "\n",
    "```python\n",
    "debuggingbook_change_counter(ChangeCounter)\n",
    "```"
   ]
  },
  {
   "cell_type": "markdown",
   "metadata": {
    "slideshow": {
     "slide_type": "subslide"
    }
   },
   "source": [
    "The output of `scalene` is sent to a HTML file (here, `scalene-out.html`) which is organized by _lines_ – that is, for each line, we see how much it contributed to overall execution time. Opening the output `scalene-out.html` in a HTML browswer, we see these lines:"
   ]
  },
  {
   "cell_type": "markdown",
   "metadata": {
    "slideshow": {
     "slide_type": "fragment"
    }
   },
   "source": [
    "![](PICS/scalene-out.png)"
   ]
  },
  {
   "cell_type": "markdown",
   "metadata": {
    "slideshow": {
     "slide_type": "fragment"
    }
   },
   "source": [
    "As with `cProfile`, above, we identify the `mine()` method in the `ChangeCounter` class as the main performance hog – and in the `mine()` method, it is the iteration over all modifications that takes all the time. Adding the option `--profile-all` to `scalene` would extend the profile to all executed code, including the `pydriller` third-party library."
   ]
  },
  {
   "cell_type": "markdown",
   "metadata": {
    "slideshow": {
     "slide_type": "fragment"
    }
   },
   "source": [
    "Besides relying on sampling rather that tracing (which is more efficient) and breaking down execution time by line, `scalene` also provides additional information on memory usage and more. If `cProfile` is not sufficient, then `scalene` will bring profiling to the next level."
   ]
  },
  {
   "cell_type": "markdown",
   "metadata": {
    "slideshow": {
     "slide_type": "slide"
    }
   },
   "source": [
    "## Improving Performance"
   ]
  },
  {
   "cell_type": "markdown",
   "metadata": {
    "slideshow": {
     "slide_type": "fragment"
    }
   },
   "source": [
    "Identifying a culprit is not always that easy. Notably, when the first set of obvious performance hogs is fixed, it becomes more and more difficult to squeeze out additional performance – and, as stated above, such optimization may be in conflict with readability and maintainability of your code. Here are some simple ways to improve performance:"
   ]
  },
  {
   "cell_type": "markdown",
   "metadata": {
    "slideshow": {
     "slide_type": "subslide"
    }
   },
   "source": [
    "* **Efficient algorithms**. For many tasks, the simplest algorithm is not always the best performing one. Consider alternatives that may be more efficient, and _measure_ whether they pay off.\n",
    "\n",
    "* **Efficient data types**. Remember that certain operations, such as looking up whether an element is contained, may take different amounts of time depending on the data structure. In Python, a query like `x in xs` takes (mostly) constant time if `xs` is a set, but linear time if `xs` is a list; these differences become significant as the size of `xs` grows.\n",
    "\n",
    "* **Efficient modules**. In Python, most frequently used modules (or at least parts of) are implemented in C, which is way more efficient than plain Python. Rely on existing modules whenever possible. Or implement your own, _after_ having measured that this may pay off."
   ]
  },
  {
   "cell_type": "markdown",
   "metadata": {
    "slideshow": {
     "slide_type": "subslide"
    }
   },
   "source": [
    "These are all things you can already use during programming – and also set up your code such that exchanging, say, one data type by another will still be possible later. This is best achieved by hiding implementation details (such as the used data types) behind an abstract interface used by your clients."
   ]
  },
  {
   "cell_type": "markdown",
   "metadata": {
    "slideshow": {
     "slide_type": "fragment"
    }
   },
   "source": [
    "But beyond these points, remember the famous words by [Donald J. Knuth](https://en.wikipedia.org/wiki/Donald_Knuth):"
   ]
  },
  {
   "cell_type": "code",
   "execution_count": 10,
   "metadata": {
    "execution": {
     "iopub.execute_input": "2021-05-12T21:03:44.158358Z",
     "iopub.status.busy": "2021-05-12T21:03:44.157788Z",
     "iopub.status.idle": "2021-05-12T21:03:44.159079Z",
     "shell.execute_reply": "2021-05-12T21:03:44.159538Z"
    },
    "slideshow": {
     "slide_type": "skip"
    }
   },
   "outputs": [],
   "source": [
    "from bookutils import quiz"
   ]
  },
  {
   "cell_type": "code",
   "execution_count": 11,
   "metadata": {
    "execution": {
     "iopub.execute_input": "2021-05-12T21:03:44.164491Z",
     "iopub.status.busy": "2021-05-12T21:03:44.163400Z",
     "iopub.status.idle": "2021-05-12T21:03:44.232299Z",
     "shell.execute_reply": "2021-05-12T21:03:44.232841Z"
    },
    "slideshow": {
     "slide_type": "fragment"
    }
   },
   "outputs": [
    {
     "data": {
      "text/html": [
       "\n",
       "    \n",
       "    <script>\n",
       "    var bad_answers = new Map();\n",
       "\n",
       "    function answer(quiz_id) {\n",
       "        ans = 0;\n",
       "        for (i = 1;; i++) {\n",
       "            checkbox = document.getElementById(quiz_id + \"-\" + i.toString());\n",
       "            if (!checkbox)\n",
       "                break;\n",
       "            if (checkbox.checked)\n",
       "                ans |= (1 << i);\n",
       "        }\n",
       "        return ans;\n",
       "    }\n",
       "    function check_selection(quiz_id, correct_answer, multiple_choice, hint) {\n",
       "        given_answer = answer(quiz_id);\n",
       "        if (given_answer == correct_answer)\n",
       "        {\n",
       "            document.getElementById(quiz_id + \"-submit\").value = \"Correct!\";\n",
       "            document.getElementById(quiz_id + \"-hint\").innerHTML = \"\";\n",
       "\n",
       "            for (i = 1;; i++) {\n",
       "                checkbox = document.getElementById(quiz_id + \"-\" + i.toString());\n",
       "                label = document.getElementById(quiz_id + \"-\" + i.toString() + \"-label\")\n",
       "                if (!checkbox)\n",
       "                    break;\n",
       "    \n",
       "                if (checkbox.checked) {\n",
       "                    label.style.fontWeight = \"bold\";\n",
       "                }\n",
       "                else {\n",
       "                    label.style.textDecoration = \"line-through\";\n",
       "                }\n",
       "            }\n",
       "        }\n",
       "        else \n",
       "        {\n",
       "            document.getElementById(quiz_id + \"-submit\").value = \"Try again\";\n",
       "            \n",
       "            if (!bad_answers.has(quiz_id)) {\n",
       "                bad_answers.set(quiz_id, 1);\n",
       "            }\n",
       "            else {\n",
       "                bad_answers.set(quiz_id, bad_answers.get(quiz_id) + 1);\n",
       "            }\n",
       "\n",
       "            if (bad_answers.get(quiz_id) >= 2 && hint.length > 0) {\n",
       "                document.getElementById(quiz_id + \"-hint\").innerHTML = \n",
       "                    \"&nbsp;&nbsp;(Hint: <code>\" + hint + \"</code>)\";\n",
       "            }\n",
       "\n",
       "            if (!multiple_choice) {\n",
       "                for (i = 1;; i++) {\n",
       "                    checkbox = document.getElementById(quiz_id + \"-\" + i.toString());\n",
       "                    label = document.getElementById(quiz_id + \"-\" + i.toString() + \"-label\")\n",
       "\n",
       "                    if (!checkbox)\n",
       "                        break;\n",
       "                    if (checkbox.checked) {\n",
       "                        label.style.textDecoration = \"line-through\";\n",
       "                    }\n",
       "                }\n",
       "            }\n",
       "        }\n",
       "    }\n",
       "    function clear_selection(quiz_id) {\n",
       "        document.getElementById(quiz_id + \"-submit\").value = \"Submit\";\n",
       "        document.getElementById(quiz_id + \"-hint\").innerHTML = \"\";\n",
       "    }\n",
       "    </script>\n",
       "    \n",
       "    <div class=\"quiz\">\n",
       "    <h3 class=\"quiz_title\">Quiz</h3>\n",
       "    <p>\n",
       "    <div class=\"quiz_question\">Donald J. Knuth said: \"Premature optimization...\"</div>\n",
       "    </p>\n",
       "    <p>\n",
       "    <div class=\"quiz_options\" title=\"Pick a choice.\">\n",
       "    \n",
       "        <input type=\"radio\" name=\"894e6350-b365-11eb-9d84-acde48001122\" id=\"894e6350-b365-11eb-9d84-acde48001122-1\" onclick=\"clear_selection('894e6350-b365-11eb-9d84-acde48001122')\">\n",
       "        <label id=\"894e6350-b365-11eb-9d84-acde48001122-1-label\" for=\"894e6350-b365-11eb-9d84-acde48001122-1\">... is the root of all evil</label><br>\n",
       "    \n",
       "        <input type=\"radio\" name=\"894e6350-b365-11eb-9d84-acde48001122\" id=\"894e6350-b365-11eb-9d84-acde48001122-2\" onclick=\"clear_selection('894e6350-b365-11eb-9d84-acde48001122')\">\n",
       "        <label id=\"894e6350-b365-11eb-9d84-acde48001122-2-label\" for=\"894e6350-b365-11eb-9d84-acde48001122-2\">... requires lots of experience</label><br>\n",
       "    \n",
       "        <input type=\"radio\" name=\"894e6350-b365-11eb-9d84-acde48001122\" id=\"894e6350-b365-11eb-9d84-acde48001122-3\" onclick=\"clear_selection('894e6350-b365-11eb-9d84-acde48001122')\">\n",
       "        <label id=\"894e6350-b365-11eb-9d84-acde48001122-3-label\" for=\"894e6350-b365-11eb-9d84-acde48001122-3\">... should be left to assembly programmers</label><br>\n",
       "    \n",
       "        <input type=\"radio\" name=\"894e6350-b365-11eb-9d84-acde48001122\" id=\"894e6350-b365-11eb-9d84-acde48001122-4\" onclick=\"clear_selection('894e6350-b365-11eb-9d84-acde48001122')\">\n",
       "        <label id=\"894e6350-b365-11eb-9d84-acde48001122-4-label\" for=\"894e6350-b365-11eb-9d84-acde48001122-4\">... is the reason why TeX is so fast</label><br>\n",
       "    \n",
       "    </div>\n",
       "    </p>\n",
       "    <input id=\"894e6350-b365-11eb-9d84-acde48001122-submit\" type=\"submit\" value=\"Submit\" onclick=\"check_selection('894e6350-b365-11eb-9d84-acde48001122', 2, 0, 'len(&quot;METAFONT&quot;) - len(&quot;TeX&quot;) - len(&quot;CWEB&quot;)')\">\n",
       "    <span class=\"quiz_hint\" id=\"894e6350-b365-11eb-9d84-acde48001122-hint\"></span>\n",
       "    </div>\n",
       "    "
      ],
      "text/plain": [
       "<IPython.core.display.HTML object>"
      ]
     },
     "execution_count": 1,
     "metadata": {},
     "output_type": "execute_result"
    }
   ],
   "source": [
    "quiz('Donald J. Knuth said: \"Premature optimization...\"',\n",
    "    [\n",
    "        \"... is the root of all evil\",\n",
    "        \"... requires lots of experience\",\n",
    "        \"... should be left to assembly programmers\",\n",
    "        \"... is the reason why TeX is so fast\",\n",
    "    ], 'len(\"METAFONT\") - len(\"TeX\") - len(\"CWEB\")')"
   ]
  },
  {
   "cell_type": "markdown",
   "metadata": {
    "slideshow": {
     "slide_type": "subslide"
    }
   },
   "source": [
    "This quote should always remind us that after a good design, you should always _first_ measure and _then_ optimize."
   ]
  },
  {
   "cell_type": "markdown",
   "metadata": {
    "slideshow": {
     "slide_type": "slide"
    }
   },
   "source": [
    "## Building a Profiler\n",
    "\n",
    "Having discussed profilers from a _user_ perspective, let us now dive into how they are actually implemented. It turns out we can use most of our existing infrastructure to implement a simple tracing profiler with only a few lines of code."
   ]
  },
  {
   "cell_type": "markdown",
   "metadata": {
    "slideshow": {
     "slide_type": "fragment"
    }
   },
   "source": [
    "The program we will apply our profiler on is – surprise! – our ongoing example, `remove_html_markup()`. Our aim is to understand how much time is spent _in each line of the code_ (such that we have a new feature on top of Python `cProfile`)."
   ]
  },
  {
   "cell_type": "code",
   "execution_count": 12,
   "metadata": {
    "execution": {
     "iopub.execute_input": "2021-05-12T21:03:44.237192Z",
     "iopub.status.busy": "2021-05-12T21:03:44.236664Z",
     "iopub.status.idle": "2021-05-12T21:03:44.238678Z",
     "shell.execute_reply": "2021-05-12T21:03:44.239058Z"
    },
    "slideshow": {
     "slide_type": "skip"
    }
   },
   "outputs": [],
   "source": [
    "from Intro_Debugging import remove_html_markup"
   ]
  },
  {
   "cell_type": "code",
   "execution_count": 13,
   "metadata": {
    "execution": {
     "iopub.execute_input": "2021-05-12T21:03:44.244624Z",
     "iopub.status.busy": "2021-05-12T21:03:44.244067Z",
     "iopub.status.idle": "2021-05-12T21:03:44.246278Z",
     "shell.execute_reply": "2021-05-12T21:03:44.246684Z"
    },
    "slideshow": {
     "slide_type": "fragment"
    }
   },
   "outputs": [],
   "source": [
    "# ignore\n",
    "from typing import Any, Optional, Type, Dict, Tuple, List"
   ]
  },
  {
   "cell_type": "code",
   "execution_count": 14,
   "metadata": {
    "execution": {
     "iopub.execute_input": "2021-05-12T21:03:44.249821Z",
     "iopub.status.busy": "2021-05-12T21:03:44.249233Z",
     "iopub.status.idle": "2021-05-12T21:03:44.251269Z",
     "shell.execute_reply": "2021-05-12T21:03:44.251739Z"
    },
    "slideshow": {
     "slide_type": "fragment"
    }
   },
   "outputs": [],
   "source": [
    "# ignore\n",
    "from bookutils import print_content"
   ]
  },
  {
   "cell_type": "code",
   "execution_count": 15,
   "metadata": {
    "execution": {
     "iopub.execute_input": "2021-05-12T21:03:44.254786Z",
     "iopub.status.busy": "2021-05-12T21:03:44.254246Z",
     "iopub.status.idle": "2021-05-12T21:03:44.256342Z",
     "shell.execute_reply": "2021-05-12T21:03:44.256902Z"
    },
    "slideshow": {
     "slide_type": "subslide"
    }
   },
   "outputs": [],
   "source": [
    "# ignore\n",
    "import inspect"
   ]
  },
  {
   "cell_type": "code",
   "execution_count": 16,
   "metadata": {
    "execution": {
     "iopub.execute_input": "2021-05-12T21:03:44.304024Z",
     "iopub.status.busy": "2021-05-12T21:03:44.259531Z",
     "iopub.status.idle": "2021-05-12T21:03:44.577397Z",
     "shell.execute_reply": "2021-05-12T21:03:44.577776Z"
    },
    "slideshow": {
     "slide_type": "subslide"
    }
   },
   "outputs": [
    {
     "name": "stdout",
     "output_type": "stream",
     "text": [
      "238  \u001b[34mdef\u001b[39;49;00m \u001b[32mremove_html_markup\u001b[39;49;00m(s):  \u001b[37m# type: ignore\u001b[39;49;00m\n",
      "239      tag = \u001b[34mFalse\u001b[39;49;00m\n",
      "240      quote = \u001b[34mFalse\u001b[39;49;00m\n",
      "241      out = \u001b[33m\"\u001b[39;49;00m\u001b[33m\"\u001b[39;49;00m\n",
      "242  \n",
      "243      \u001b[34mfor\u001b[39;49;00m c \u001b[35min\u001b[39;49;00m s:\n",
      "244          \u001b[34massert\u001b[39;49;00m tag \u001b[35mor\u001b[39;49;00m \u001b[35mnot\u001b[39;49;00m quote\n",
      "245  \n",
      "246          \u001b[34mif\u001b[39;49;00m c == \u001b[33m'\u001b[39;49;00m\u001b[33m<\u001b[39;49;00m\u001b[33m'\u001b[39;49;00m \u001b[35mand\u001b[39;49;00m \u001b[35mnot\u001b[39;49;00m quote:\n",
      "247              tag = \u001b[34mTrue\u001b[39;49;00m\n",
      "248          \u001b[34melif\u001b[39;49;00m c == \u001b[33m'\u001b[39;49;00m\u001b[33m>\u001b[39;49;00m\u001b[33m'\u001b[39;49;00m \u001b[35mand\u001b[39;49;00m \u001b[35mnot\u001b[39;49;00m quote:\n",
      "249              tag = \u001b[34mFalse\u001b[39;49;00m\n",
      "250          \u001b[34melif\u001b[39;49;00m (c == \u001b[33m'\u001b[39;49;00m\u001b[33m\"\u001b[39;49;00m\u001b[33m'\u001b[39;49;00m \u001b[35mor\u001b[39;49;00m c == \u001b[33m\"\u001b[39;49;00m\u001b[33m'\u001b[39;49;00m\u001b[33m\"\u001b[39;49;00m) \u001b[35mand\u001b[39;49;00m tag:\n",
      "251              quote = \u001b[35mnot\u001b[39;49;00m quote\n",
      "252          \u001b[34melif\u001b[39;49;00m \u001b[35mnot\u001b[39;49;00m tag:\n",
      "253              out = out + c\n",
      "254  \n",
      "255      \u001b[34mreturn\u001b[39;49;00m out"
     ]
    }
   ],
   "source": [
    "print_content(inspect.getsource(remove_html_markup), '.py',\n",
    "              start_line_number=238)"
   ]
  },
  {
   "cell_type": "markdown",
   "metadata": {
    "slideshow": {
     "slide_type": "subslide"
    }
   },
   "source": [
    "We introduce a class `PerformanceTracer` that tracks, for each line in the code:\n",
    "\n",
    "* how _often_ it was executed (`hits`), and\n",
    "* _how much time_ was spent during its execution (`time`).\n",
    "\n",
    "To this end, we make use of our `Timer` class, which measures time, and the `Tracer` class from [the chapter on tracing](Tracer.ipynb), which allows us to track every line of the program as it is being executed."
   ]
  },
  {
   "cell_type": "code",
   "execution_count": 17,
   "metadata": {
    "execution": {
     "iopub.execute_input": "2021-05-12T21:03:44.584959Z",
     "iopub.status.busy": "2021-05-12T21:03:44.584422Z",
     "iopub.status.idle": "2021-05-12T21:03:44.586209Z",
     "shell.execute_reply": "2021-05-12T21:03:44.586610Z"
    },
    "slideshow": {
     "slide_type": "skip"
    }
   },
   "outputs": [],
   "source": [
    "from Tracer import Tracer"
   ]
  },
  {
   "cell_type": "markdown",
   "metadata": {
    "slideshow": {
     "slide_type": "fragment"
    }
   },
   "source": [
    "In `PerfomanceTracker`, the attributes `hits` and `time` are mappings indexed by unique locations – that is, pairs of function name and line number."
   ]
  },
  {
   "cell_type": "code",
   "execution_count": 18,
   "metadata": {
    "execution": {
     "iopub.execute_input": "2021-05-12T21:03:44.590709Z",
     "iopub.status.busy": "2021-05-12T21:03:44.590173Z",
     "iopub.status.idle": "2021-05-12T21:03:44.591994Z",
     "shell.execute_reply": "2021-05-12T21:03:44.592829Z"
    },
    "slideshow": {
     "slide_type": "fragment"
    }
   },
   "outputs": [],
   "source": [
    "Location = Tuple[str, int]"
   ]
  },
  {
   "cell_type": "code",
   "execution_count": 19,
   "metadata": {
    "execution": {
     "iopub.execute_input": "2021-05-12T21:03:44.597831Z",
     "iopub.status.busy": "2021-05-12T21:03:44.597283Z",
     "iopub.status.idle": "2021-05-12T21:03:44.599369Z",
     "shell.execute_reply": "2021-05-12T21:03:44.599793Z"
    },
    "slideshow": {
     "slide_type": "subslide"
    }
   },
   "outputs": [],
   "source": [
    "class PerformanceTracer(Tracer):\n",
    "    \"\"\"Trace time and #hits for individual program lines\"\"\"\n",
    "\n",
    "    def __init__(self) -> None:\n",
    "        \"\"\"Constructor.\"\"\"\n",
    "        super().__init__()\n",
    "        self.reset_timer()\n",
    "        self.hits: Dict[Location, int] = {}\n",
    "        self.time: Dict[Location, float] = {}\n",
    "\n",
    "    def reset_timer(self) -> None:\n",
    "        self.timer = Timer.Timer()"
   ]
  },
  {
   "cell_type": "markdown",
   "metadata": {
    "slideshow": {
     "slide_type": "subslide"
    }
   },
   "source": [
    "As common in this book, we want to use `PerformanceTracer` in a `with`-block around the function call(s) to be tracked:\n",
    "\n",
    "```python\n",
    "with PerformanceTracer() as perf_tracer:\n",
    "    function(...)\n",
    "```"
   ]
  },
  {
   "cell_type": "markdown",
   "metadata": {
    "slideshow": {
     "slide_type": "fragment"
    }
   },
   "source": [
    "When entering the `with` block (`__enter__()`), we reset all timers. Also, coming from the `__enter__()` method of the superclass `Tracer`, we enable tracing through the `traceit()` method."
   ]
  },
  {
   "cell_type": "code",
   "execution_count": 20,
   "metadata": {
    "execution": {
     "iopub.execute_input": "2021-05-12T21:03:44.604393Z",
     "iopub.status.busy": "2021-05-12T21:03:44.603693Z",
     "iopub.status.idle": "2021-05-12T21:03:44.605294Z",
     "shell.execute_reply": "2021-05-12T21:03:44.609166Z"
    },
    "slideshow": {
     "slide_type": "skip"
    }
   },
   "outputs": [],
   "source": [
    "from types import FrameType"
   ]
  },
  {
   "cell_type": "code",
   "execution_count": 21,
   "metadata": {
    "execution": {
     "iopub.execute_input": "2021-05-12T21:03:44.614883Z",
     "iopub.status.busy": "2021-05-12T21:03:44.613413Z",
     "iopub.status.idle": "2021-05-12T21:03:44.616495Z",
     "shell.execute_reply": "2021-05-12T21:03:44.617013Z"
    },
    "slideshow": {
     "slide_type": "subslide"
    }
   },
   "outputs": [],
   "source": [
    "class PerformanceTracer(PerformanceTracer):\n",
    "    def __enter__(self) -> Any:\n",
    "        \"\"\"Enter a `with` block.\"\"\"\n",
    "        super().__enter__()\n",
    "        self.reset_timer()\n",
    "        return self"
   ]
  },
  {
   "cell_type": "markdown",
   "metadata": {
    "slideshow": {
     "slide_type": "fragment"
    }
   },
   "source": [
    "The `traceit()` method extracts the current location. It increases the corresponding `hits` value by 1, and adds the elapsed time to the corresponding `time`."
   ]
  },
  {
   "cell_type": "code",
   "execution_count": 22,
   "metadata": {
    "execution": {
     "iopub.execute_input": "2021-05-12T21:03:44.623046Z",
     "iopub.status.busy": "2021-05-12T21:03:44.622311Z",
     "iopub.status.idle": "2021-05-12T21:03:44.623915Z",
     "shell.execute_reply": "2021-05-12T21:03:44.624367Z"
    },
    "slideshow": {
     "slide_type": "subslide"
    }
   },
   "outputs": [],
   "source": [
    "class PerformanceTracer(PerformanceTracer):\n",
    "    def traceit(self, frame: FrameType, event: str, arg: Any) -> None:\n",
    "        \"\"\"Tracing function; called for every line.\"\"\"\n",
    "        t = self.timer.elapsed_time()\n",
    "        location = (frame.f_code.co_name, frame.f_lineno)\n",
    "\n",
    "        self.hits.setdefault(location, 0)\n",
    "        self.time.setdefault(location, 0.0)\n",
    "        self.hits[location] += 1\n",
    "        self.time[location] += t\n",
    "\n",
    "        self.reset_timer()"
   ]
  },
  {
   "cell_type": "markdown",
   "metadata": {
    "slideshow": {
     "slide_type": "fragment"
    }
   },
   "source": [
    "This is it already. We can now determine where most time is spent in `remove_html_markup()`. We invoke it 10,000 times such that we can average over runs:"
   ]
  },
  {
   "cell_type": "code",
   "execution_count": 23,
   "metadata": {
    "execution": {
     "iopub.execute_input": "2021-05-12T21:03:44.707602Z",
     "iopub.status.busy": "2021-05-12T21:03:44.669167Z",
     "iopub.status.idle": "2021-05-12T21:03:46.358560Z",
     "shell.execute_reply": "2021-05-12T21:03:46.358953Z"
    },
    "slideshow": {
     "slide_type": "subslide"
    }
   },
   "outputs": [],
   "source": [
    "with PerformanceTracer() as perf_tracer:\n",
    "    for i in range(10000):\n",
    "        s = remove_html_markup('<b>foo</b>')"
   ]
  },
  {
   "cell_type": "markdown",
   "metadata": {
    "slideshow": {
     "slide_type": "fragment"
    }
   },
   "source": [
    "Here are the hits. For every line executed, we see how often it was executed. The most executed line is the `for` loop with 110,000 hits – once for each of the 10 characters in `<b>foo</b>`, once for the final check, and all of this 10,000 times."
   ]
  },
  {
   "cell_type": "code",
   "execution_count": 24,
   "metadata": {
    "execution": {
     "iopub.execute_input": "2021-05-12T21:03:46.363445Z",
     "iopub.status.busy": "2021-05-12T21:03:46.362831Z",
     "iopub.status.idle": "2021-05-12T21:03:46.365189Z",
     "shell.execute_reply": "2021-05-12T21:03:46.365628Z"
    },
    "slideshow": {
     "slide_type": "subslide"
    }
   },
   "outputs": [
    {
     "data": {
      "text/plain": [
       "{('__init__', 17): 1,\n",
       " ('__init__', 19): 1,\n",
       " ('clock', 8): 1,\n",
       " ('clock', 12): 2,\n",
       " ('__init__', 20): 2,\n",
       " ('remove_html_markup', 238): 10000,\n",
       " ('remove_html_markup', 239): 10000,\n",
       " ('remove_html_markup', 240): 10000,\n",
       " ('remove_html_markup', 241): 10000,\n",
       " ('remove_html_markup', 243): 110000,\n",
       " ('remove_html_markup', 244): 100000,\n",
       " ('remove_html_markup', 246): 100000,\n",
       " ('remove_html_markup', 247): 20000,\n",
       " ('remove_html_markup', 248): 80000,\n",
       " ('remove_html_markup', 250): 60000,\n",
       " ('remove_html_markup', 252): 60000,\n",
       " ('remove_html_markup', 249): 20000,\n",
       " ('remove_html_markup', 253): 30000,\n",
       " ('remove_html_markup', 255): 20000}"
      ]
     },
     "execution_count": 1,
     "metadata": {},
     "output_type": "execute_result"
    }
   ],
   "source": [
    "perf_tracer.hits"
   ]
  },
  {
   "cell_type": "markdown",
   "metadata": {
    "slideshow": {
     "slide_type": "subslide"
    }
   },
   "source": [
    "The `time` attribute collects how much time was spent in each line. Within the loop, again, the `for` statement takes the most time. The other lines show some variability, though."
   ]
  },
  {
   "cell_type": "code",
   "execution_count": 25,
   "metadata": {
    "execution": {
     "iopub.execute_input": "2021-05-12T21:03:46.369723Z",
     "iopub.status.busy": "2021-05-12T21:03:46.369186Z",
     "iopub.status.idle": "2021-05-12T21:03:46.372338Z",
     "shell.execute_reply": "2021-05-12T21:03:46.372725Z"
    },
    "slideshow": {
     "slide_type": "subslide"
    }
   },
   "outputs": [
    {
     "data": {
      "text/plain": [
       "{('__init__', 17): 5.4240983445197344e-05,\n",
       " ('__init__', 19): 2.3809843696653843e-06,\n",
       " ('clock', 8): 1.7840065993368626e-06,\n",
       " ('clock', 12): 3.0869850888848305e-06,\n",
       " ('__init__', 20): 2.929999027401209e-06,\n",
       " ('remove_html_markup', 238): 0.02127087244298309,\n",
       " ('remove_html_markup', 239): 0.018630327947903425,\n",
       " ('remove_html_markup', 240): 0.018167152476962656,\n",
       " ('remove_html_markup', 241): 0.01714005059329793,\n",
       " ('remove_html_markup', 243): 0.1672052821959369,\n",
       " ('remove_html_markup', 244): 0.14991725439904258,\n",
       " ('remove_html_markup', 246): 0.14920810249168426,\n",
       " ('remove_html_markup', 247): 0.031229564978275448,\n",
       " ('remove_html_markup', 248): 0.12070710194529966,\n",
       " ('remove_html_markup', 250): 0.08990808750968426,\n",
       " ('remove_html_markup', 252): 0.09339771594386548,\n",
       " ('remove_html_markup', 249): 0.03039472782984376,\n",
       " ('remove_html_markup', 253): 0.04532772093079984,\n",
       " ('remove_html_markup', 255): 0.030583136365748942}"
      ]
     },
     "execution_count": 1,
     "metadata": {},
     "output_type": "execute_result"
    }
   ],
   "source": [
    "perf_tracer.time"
   ]
  },
  {
   "cell_type": "markdown",
   "metadata": {
    "slideshow": {
     "slide_type": "subslide"
    }
   },
   "source": [
    "For a full profiler, these numbers would now be sorted and printed in a table, much like `cProfile` does. However, we will borrow some material from previous chapters and annotate our code accordingly."
   ]
  },
  {
   "cell_type": "markdown",
   "metadata": {
    "slideshow": {
     "slide_type": "slide"
    }
   },
   "source": [
    "## Visualizing Performance Metrics\n",
    "\n",
    "In the [chapter on statistical debugging](StatisticalDebugger.ipynb), we have encountered the `CoverageCollector` class, which collects line and function coverage during execution, using a `collect()` method that is invoked for every line. We will repurpose this class to collect arbitrary _metrics_ on the lines executed, notably time taken."
   ]
  },
  {
   "cell_type": "markdown",
   "metadata": {
    "slideshow": {
     "slide_type": "subslide"
    }
   },
   "source": [
    "### Collecting Time Spent"
   ]
  },
  {
   "cell_type": "code",
   "execution_count": 26,
   "metadata": {
    "execution": {
     "iopub.execute_input": "2021-05-12T21:03:46.376143Z",
     "iopub.status.busy": "2021-05-12T21:03:46.375612Z",
     "iopub.status.idle": "2021-05-12T21:03:46.377326Z",
     "shell.execute_reply": "2021-05-12T21:03:46.377763Z"
    },
    "slideshow": {
     "slide_type": "skip"
    }
   },
   "outputs": [],
   "source": [
    "from StatisticalDebugger import CoverageCollector, SpectrumDebugger"
   ]
  },
  {
   "cell_type": "markdown",
   "metadata": {
    "slideshow": {
     "slide_type": "fragment"
    }
   },
   "source": [
    "The `MetricCollector` class is an abstract superclass that provides an interface to access a particular metric."
   ]
  },
  {
   "cell_type": "code",
   "execution_count": 27,
   "metadata": {
    "execution": {
     "iopub.execute_input": "2021-05-12T21:03:46.382330Z",
     "iopub.status.busy": "2021-05-12T21:03:46.381796Z",
     "iopub.status.idle": "2021-05-12T21:03:46.384063Z",
     "shell.execute_reply": "2021-05-12T21:03:46.383659Z"
    },
    "slideshow": {
     "slide_type": "fragment"
    }
   },
   "outputs": [],
   "source": [
    "class MetricCollector(CoverageCollector):\n",
    "    \"\"\"Abstract superclass for collecting line-specific metrics\"\"\"\n",
    "\n",
    "    def metric(self, event: Any) -> Optional[float]:\n",
    "        \"\"\"Return a metric for an event, or none.\"\"\"\n",
    "        return None\n",
    "\n",
    "    def all_metrics(self, func: str) -> List[float]:\n",
    "        \"\"\"Return all metric for a function `func`.\"\"\"\n",
    "        return []"
   ]
  },
  {
   "cell_type": "markdown",
   "metadata": {
    "slideshow": {
     "slide_type": "fragment"
    }
   },
   "source": [
    "Given these metrics, we can also compute sums and maxima for a single function."
   ]
  },
  {
   "cell_type": "code",
   "execution_count": 28,
   "metadata": {
    "execution": {
     "iopub.execute_input": "2021-05-12T21:03:46.388039Z",
     "iopub.status.busy": "2021-05-12T21:03:46.387521Z",
     "iopub.status.idle": "2021-05-12T21:03:46.389290Z",
     "shell.execute_reply": "2021-05-12T21:03:46.389658Z"
    },
    "slideshow": {
     "slide_type": "subslide"
    }
   },
   "outputs": [],
   "source": [
    "class MetricCollector(MetricCollector):\n",
    "    def total(self, func: str) -> float:\n",
    "        return sum(self.all_metrics(func))\n",
    "\n",
    "    def maximum(self, func: str) -> float:\n",
    "        return max(self.all_metrics(func))"
   ]
  },
  {
   "cell_type": "markdown",
   "metadata": {
    "slideshow": {
     "slide_type": "fragment"
    }
   },
   "source": [
    "Let us instantiate this superclass into `TimeCollector` – a subclass that measures time. This is modeled after our `PerformanceTracer` class, above; notably, the `time` attribute serves the same role."
   ]
  },
  {
   "cell_type": "code",
   "execution_count": 29,
   "metadata": {
    "execution": {
     "iopub.execute_input": "2021-05-12T21:03:46.396725Z",
     "iopub.status.busy": "2021-05-12T21:03:46.395937Z",
     "iopub.status.idle": "2021-05-12T21:03:46.397737Z",
     "shell.execute_reply": "2021-05-12T21:03:46.398170Z"
    },
    "slideshow": {
     "slide_type": "subslide"
    }
   },
   "outputs": [],
   "source": [
    "class TimeCollector(MetricCollector):\n",
    "    \"\"\"Collect time executed for each line\"\"\"\n",
    "\n",
    "    def __init__(self) -> None:\n",
    "        \"\"\"Constructor\"\"\"\n",
    "        super().__init__()\n",
    "        self.reset_timer()\n",
    "        self.time: Dict[Location, float] = {}\n",
    "        self.add_items_to_ignore([Timer.Timer, Timer.clock])\n",
    "\n",
    "    def collect(self, frame: FrameType, event: str, arg: Any) -> None:\n",
    "        \"\"\"Invoked for every line executed. Accumulate time spent.\"\"\"\n",
    "        t = self.timer.elapsed_time()\n",
    "        super().collect(frame, event, arg)\n",
    "        location = (frame.f_code.co_name, frame.f_lineno)\n",
    "\n",
    "        self.time.setdefault(location, 0.0)\n",
    "        self.time[location] += t\n",
    "\n",
    "        self.reset_timer()\n",
    "\n",
    "    def reset_timer(self) -> None:\n",
    "        self.timer = Timer.Timer()\n",
    "\n",
    "    def __enter__(self) -> Any:\n",
    "        super().__enter__()\n",
    "        self.reset_timer()\n",
    "        return self"
   ]
  },
  {
   "cell_type": "markdown",
   "metadata": {
    "slideshow": {
     "slide_type": "subslide"
    }
   },
   "source": [
    "The `metric()` and `all_metrics()` methods accumulate the metric (time taken) for an individual function:"
   ]
  },
  {
   "cell_type": "code",
   "execution_count": 30,
   "metadata": {
    "execution": {
     "iopub.execute_input": "2021-05-12T21:03:46.403375Z",
     "iopub.status.busy": "2021-05-12T21:03:46.402850Z",
     "iopub.status.idle": "2021-05-12T21:03:46.404522Z",
     "shell.execute_reply": "2021-05-12T21:03:46.404950Z"
    },
    "slideshow": {
     "slide_type": "fragment"
    }
   },
   "outputs": [],
   "source": [
    "class TimeCollector(TimeCollector):\n",
    "    def metric(self, location: Any) -> Optional[float]:\n",
    "        if location in self.time:\n",
    "            return self.time[location]\n",
    "        else:\n",
    "            return None\n",
    "\n",
    "    def all_metrics(self, func: str) -> List[float]:\n",
    "        return [time\n",
    "                for (func_name, lineno), time in self.time.items()\n",
    "                if func_name == func]"
   ]
  },
  {
   "cell_type": "markdown",
   "metadata": {
    "slideshow": {
     "slide_type": "fragment"
    }
   },
   "source": [
    "Here's how to use `TimeCollector()` – again, in a `with` block:"
   ]
  },
  {
   "cell_type": "code",
   "execution_count": 31,
   "metadata": {
    "execution": {
     "iopub.execute_input": "2021-05-12T21:03:46.440213Z",
     "iopub.status.busy": "2021-05-12T21:03:46.439576Z",
     "iopub.status.idle": "2021-05-12T21:03:46.442010Z",
     "shell.execute_reply": "2021-05-12T21:03:46.442382Z"
    },
    "slideshow": {
     "slide_type": "subslide"
    }
   },
   "outputs": [],
   "source": [
    "with TimeCollector() as collector:\n",
    "    for i in range(100):\n",
    "        s = remove_html_markup('<b>foo</b>')"
   ]
  },
  {
   "cell_type": "markdown",
   "metadata": {
    "slideshow": {
     "slide_type": "fragment"
    }
   },
   "source": [
    "The `time` attribute holds the time spent in each line:"
   ]
  },
  {
   "cell_type": "code",
   "execution_count": 32,
   "metadata": {
    "execution": {
     "iopub.execute_input": "2021-05-12T21:03:46.446559Z",
     "iopub.status.busy": "2021-05-12T21:03:46.445834Z",
     "iopub.status.idle": "2021-05-12T21:03:46.449302Z",
     "shell.execute_reply": "2021-05-12T21:03:46.448923Z"
    },
    "slideshow": {
     "slide_type": "subslide"
    }
   },
   "outputs": [
    {
     "name": "stdout",
     "output_type": "stream",
     "text": [
      "('remove_html_markup', 238) 0.0003932802937924862\n",
      "('remove_html_markup', 239) 0.00033365131821483374\n",
      "('remove_html_markup', 240) 0.000323458865750581\n",
      "('remove_html_markup', 241) 0.00030716409673914313\n",
      "('remove_html_markup', 243) 0.0030666382517665625\n",
      "('remove_html_markup', 244) 0.002931984723545611\n",
      "('remove_html_markup', 246) 0.0026442765374667943\n",
      "('remove_html_markup', 247) 0.0005960568669252098\n",
      "('remove_html_markup', 248) 0.002201218332629651\n",
      "('remove_html_markup', 250) 0.001543596328701824\n",
      "('remove_html_markup', 252) 0.0016278380062431097\n",
      "('remove_html_markup', 249) 0.0005285704974085093\n",
      "('remove_html_markup', 253) 0.0008605641196481884\n",
      "('remove_html_markup', 255) 0.0005066157318651676\n"
     ]
    }
   ],
   "source": [
    "for location, time_spent in collector.time.items():\n",
    "    print(location, time_spent)"
   ]
  },
  {
   "cell_type": "markdown",
   "metadata": {
    "slideshow": {
     "slide_type": "subslide"
    }
   },
   "source": [
    "And we can also create a total for an entire function:"
   ]
  },
  {
   "cell_type": "code",
   "execution_count": 33,
   "metadata": {
    "execution": {
     "iopub.execute_input": "2021-05-12T21:03:46.453062Z",
     "iopub.status.busy": "2021-05-12T21:03:46.452436Z",
     "iopub.status.idle": "2021-05-12T21:03:46.454855Z",
     "shell.execute_reply": "2021-05-12T21:03:46.455229Z"
    },
    "slideshow": {
     "slide_type": "fragment"
    }
   },
   "outputs": [
    {
     "data": {
      "text/plain": [
       "0.01786491397069767"
      ]
     },
     "execution_count": 1,
     "metadata": {},
     "output_type": "execute_result"
    }
   ],
   "source": [
    "collector.total('remove_html_markup')"
   ]
  },
  {
   "cell_type": "markdown",
   "metadata": {
    "slideshow": {
     "slide_type": "subslide"
    }
   },
   "source": [
    "### Visualizing Time Spent\n",
    "\n",
    "Let us now go and visualize these numbers in a simple form. The idea is to assign each line a _color_ whose saturation indicates the time spent in that line relative to the time spent in the function overall  – the higher the fraction, the darker the line. We create a `MetricDebugger` class built as a specialization of `SpectrumDebugger`, in which `suspiciousness()` and `color()` are repurposed to show these metrics."
   ]
  },
  {
   "cell_type": "code",
   "execution_count": 34,
   "metadata": {
    "execution": {
     "iopub.execute_input": "2021-05-12T21:03:46.463604Z",
     "iopub.status.busy": "2021-05-12T21:03:46.463007Z",
     "iopub.status.idle": "2021-05-12T21:03:46.465041Z",
     "shell.execute_reply": "2021-05-12T21:03:46.465420Z"
    },
    "slideshow": {
     "slide_type": "subslide"
    }
   },
   "outputs": [],
   "source": [
    "class MetricDebugger(SpectrumDebugger):\n",
    "    \"\"\"Visualize a metric\"\"\"\n",
    "\n",
    "    def metric(self, location: Location) -> float:\n",
    "        sum = 0.0\n",
    "        for outcome in self.collectors:\n",
    "            for collector in self.collectors[outcome]:\n",
    "                assert isinstance(collector, MetricCollector)\n",
    "                m = collector.metric(location)\n",
    "                if m is not None:\n",
    "                    sum += m  # type: ignore\n",
    "\n",
    "        return sum\n",
    "\n",
    "    def total(self, func_name: str) -> float:\n",
    "        total = 0.0\n",
    "        for outcome in self.collectors:\n",
    "            for collector in self.collectors[outcome]:\n",
    "                assert isinstance(collector, MetricCollector)\n",
    "                total += sum(collector.all_metrics(func_name))\n",
    "\n",
    "        return total\n",
    "\n",
    "    def maximum(self, func_name: str) -> float:\n",
    "        maximum = 0.0\n",
    "        for outcome in self.collectors:\n",
    "            for collector in self.collectors[outcome]:\n",
    "                assert isinstance(collector, MetricCollector)\n",
    "                maximum = max(maximum, \n",
    "                              max(collector.all_metrics(func_name)))\n",
    "\n",
    "        return maximum\n",
    "\n",
    "    def suspiciousness(self, location: Location) -> float:\n",
    "        func_name, _ = location\n",
    "        return self.metric(location) / self.total(func_name)\n",
    "\n",
    "    def color(self, location: Location) -> str:\n",
    "        func_name, _ = location\n",
    "        hue = 240  # blue\n",
    "        saturation = 100  # fully saturated\n",
    "        darkness = self.metric(location) / self.maximum(func_name)\n",
    "        lightness = 100 - darkness * 25\n",
    "        return f\"hsl({hue}, {saturation}%, {lightness}%)\"\n",
    "\n",
    "    def tooltip(self, location: Location) -> str:\n",
    "        return f\"{super().tooltip(location)} {self.metric(location)}\""
   ]
  },
  {
   "cell_type": "markdown",
   "metadata": {
    "slideshow": {
     "slide_type": "subslide"
    }
   },
   "source": [
    "We can now introduce `PerformanceDebugger` as a subclass of `MetricDebugger`, using an arbitrary `MetricCollector` (such as `TimeCollector`) to obtain the metric we want to visualize."
   ]
  },
  {
   "cell_type": "code",
   "execution_count": 35,
   "metadata": {
    "execution": {
     "iopub.execute_input": "2021-05-12T21:03:46.469807Z",
     "iopub.status.busy": "2021-05-12T21:03:46.469281Z",
     "iopub.status.idle": "2021-05-12T21:03:46.471066Z",
     "shell.execute_reply": "2021-05-12T21:03:46.471443Z"
    },
    "slideshow": {
     "slide_type": "fragment"
    }
   },
   "outputs": [],
   "source": [
    "class PerformanceDebugger(MetricDebugger):\n",
    "    \"\"\"Collect and visualize a metric\"\"\"\n",
    "\n",
    "    def __init__(self, collector_class: Type, log: bool = False):\n",
    "        assert issubclass(collector_class, MetricCollector)\n",
    "        super().__init__(collector_class, log=log)"
   ]
  },
  {
   "cell_type": "markdown",
   "metadata": {
    "slideshow": {
     "slide_type": "fragment"
    }
   },
   "source": [
    "With `PerformanceDebugger`, we inherit all the capabilities of `SpectrumDebugger`, such as showing the (relative) percentage of time spent in a table. We see that the `for` condition and the following `assert` take most of the time, followed by the first condition."
   ]
  },
  {
   "cell_type": "code",
   "execution_count": 36,
   "metadata": {
    "execution": {
     "iopub.execute_input": "2021-05-12T21:03:46.510218Z",
     "iopub.status.busy": "2021-05-12T21:03:46.509626Z",
     "iopub.status.idle": "2021-05-12T21:03:46.511765Z",
     "shell.execute_reply": "2021-05-12T21:03:46.512132Z"
    },
    "slideshow": {
     "slide_type": "subslide"
    }
   },
   "outputs": [],
   "source": [
    "with PerformanceDebugger(TimeCollector) as debugger:\n",
    "    for i in range(100):\n",
    "        s = remove_html_markup('<b>foo</b>')"
   ]
  },
  {
   "cell_type": "code",
   "execution_count": 37,
   "metadata": {
    "execution": {
     "iopub.execute_input": "2021-05-12T21:03:46.517763Z",
     "iopub.status.busy": "2021-05-12T21:03:46.517021Z",
     "iopub.status.idle": "2021-05-12T21:03:46.519293Z",
     "shell.execute_reply": "2021-05-12T21:03:46.519727Z"
    },
    "slideshow": {
     "slide_type": "subslide"
    }
   },
   "outputs": [
    {
     "name": "stdout",
     "output_type": "stream",
     "text": [
      " 238   2% def remove_html_markup(s):  # type: ignore\n",
      " 239   2%     tag = False\n",
      " 240   1%     quote = False\n",
      " 241   1%     out = \"\"\n",
      " 242   0%\n",
      " 243  16%     for c in s:\n",
      " 244  15%         assert tag or not quote\n",
      " 245   0%\n",
      " 246  15%         if c == '<' and not quote:\n",
      " 247   2%             tag = True\n",
      " 248  12%         elif c == '>' and not quote:\n",
      " 249   3%             tag = False\n",
      " 250   9%         elif (c == '\"' or c == \"'\") and tag:\n",
      " 251   0%             quote = not quote\n",
      " 252   9%         elif not tag:\n",
      " 253   4%             out = out + c\n",
      " 254   0%\n",
      " 255   3%     return out\n",
      "\n"
     ]
    }
   ],
   "source": [
    "print(debugger)"
   ]
  },
  {
   "cell_type": "markdown",
   "metadata": {
    "slideshow": {
     "slide_type": "subslide"
    }
   },
   "source": [
    "However, we can also visualize these percentages, using shades of blue to indicate those lines most time spent in:"
   ]
  },
  {
   "cell_type": "code",
   "execution_count": 38,
   "metadata": {
    "execution": {
     "iopub.execute_input": "2021-05-12T21:03:46.524915Z",
     "iopub.status.busy": "2021-05-12T21:03:46.523508Z",
     "iopub.status.idle": "2021-05-12T21:03:46.527016Z",
     "shell.execute_reply": "2021-05-12T21:03:46.527391Z"
    },
    "slideshow": {
     "slide_type": "subslide"
    }
   },
   "outputs": [
    {
     "data": {
      "text/html": [
       "<pre style=\"background-color:hsl(240, 100%, 96.72950439538717%)\"\n",
       "                    title=\"Line 238:   2% 0.00043516390724107623\"> 238 def remove_html_markup(s):  # type: ignore</pre>\n",
       "<pre style=\"background-color:hsl(240, 100%, 96.95450843010399%)\"\n",
       "                    title=\"Line 239:   2% 0.0004052254371345043\"> 239     tag = False</pre>\n",
       "<pre style=\"background-color:hsl(240, 100%, 97.21927693290058%)\"\n",
       "                    title=\"Line 240:   1% 0.00036999600706622005\"> 240     quote = False</pre>\n",
       "<pre style=\"background-color:hsl(240, 100%, 97.32597579120915%)\"\n",
       "                    title=\"Line 241:   1% 0.0003557989257387817\"> 241     out = &quot;&quot;</pre>\n",
       "<pre style=\"background-color:hsl(240, 100%, 100.0%)\"\n",
       "                    title=\"Line 242:   0% 0.0\"> 242 &nbsp;</pre>\n",
       "<pre style=\"background-color:hsl(240, 100%, 75.0%)\"\n",
       "                    title=\"Line 243:  16% 0.0033264370285905898\"> 243     for c in s:</pre>\n",
       "<pre style=\"background-color:hsl(240, 100%, 76.8972500108622%)\"\n",
       "                    title=\"Line 244:  15% 0.0030739937210455537\"> 244         assert tag or not quote</pre>\n",
       "<pre style=\"background-color:hsl(240, 100%, 100.0%)\"\n",
       "                    title=\"Line 245:   0% 0.0\"> 245 &nbsp;</pre>\n",
       "<pre style=\"background-color:hsl(240, 100%, 77.09480983443041%)\"\n",
       "                    title=\"Line 246:  15% 0.003047706908546388\"> 246         if c == &#x27;&lt;&#x27; and not quote:</pre>\n",
       "<pre style=\"background-color:hsl(240, 100%, 95.5286417822937%)\"\n",
       "                    title=\"Line 247:   2% 0.0005949476617388427\"> 247             tag = True</pre>\n",
       "<pre style=\"background-color:hsl(240, 100%, 81.42670500098228%)\"\n",
       "                    title=\"Line 248:  12% 0.002471315849106759\"> 248         elif c == &#x27;&gt;&#x27; and not quote:</pre>\n",
       "<pre style=\"background-color:hsl(240, 100%, 94.37671197675961%)\"\n",
       "                    title=\"Line 249:   3% 0.0007482205401174724\"> 249             tag = False</pre>\n",
       "<pre style=\"background-color:hsl(240, 100%, 85.86066411045067%)\"\n",
       "                    title=\"Line 250:   9% 0.0018813444185070693\"> 250         elif (c == &#x27;&quot;&#x27; or c == &quot;&#x27;&quot;) and tag:</pre>\n",
       "<pre style=\"background-color:hsl(240, 100%, 100.0%)\"\n",
       "                    title=\"Line 251:   0% 0.0\"> 251             quote = not quote</pre>\n",
       "<pre style=\"background-color:hsl(240, 100%, 85.283642298237%)\"\n",
       "                    title=\"Line 252:   9% 0.001958121487405151\"> 252         elif not tag:</pre>\n",
       "<pre style=\"background-color:hsl(240, 100%, 93.30586716156627%)\"\n",
       "                    title=\"Line 253:   4% 0.0008907044539228082\"> 253             out = out + c</pre>\n",
       "<pre style=\"background-color:hsl(240, 100%, 100.0%)\"\n",
       "                    title=\"Line 254:   0% 0.0\"> 254 &nbsp;</pre>\n",
       "<pre style=\"background-color:hsl(240, 100%, 95.34276439530352%)\"\n",
       "                    title=\"Line 255:   3% 0.0006196800386533141\"> 255     return out</pre>\n"
      ],
      "text/markdown": [
       "| `remove_html_markup` | `s='<b>foo</b>'` | \n",
       "| ---------------------- | ---- | \n",
       "| <samp style=\"background-color: hsl(240, 100%, 96.72950439538717%)\" title=\"  2% 0.00043516390724107623\">remove_html_markup:238</samp> |    X | \n",
       "| <samp style=\"background-color: hsl(240, 100%, 96.95450843010399%)\" title=\"  2% 0.0004052254371345043\">remove_html_markup:239</samp> |    X | \n",
       "| <samp style=\"background-color: hsl(240, 100%, 97.21927693290058%)\" title=\"  1% 0.00036999600706622005\">remove_html_markup:240</samp> |    X | \n",
       "| <samp style=\"background-color: hsl(240, 100%, 97.32597579120915%)\" title=\"  1% 0.0003557989257387817\">remove_html_markup:241</samp> |    X | \n",
       "| <samp style=\"background-color: hsl(240, 100%, 75.0%)\" title=\" 16% 0.0033264370285905898\">remove_html_markup:243</samp> |    X | \n",
       "| <samp style=\"background-color: hsl(240, 100%, 76.8972500108622%)\" title=\" 15% 0.0030739937210455537\">remove_html_markup:244</samp> |    X | \n",
       "| <samp style=\"background-color: hsl(240, 100%, 77.09480983443041%)\" title=\" 15% 0.003047706908546388\">remove_html_markup:246</samp> |    X | \n",
       "| <samp style=\"background-color: hsl(240, 100%, 95.5286417822937%)\" title=\"  2% 0.0005949476617388427\">remove_html_markup:247</samp> |    X | \n",
       "| <samp style=\"background-color: hsl(240, 100%, 81.42670500098228%)\" title=\" 12% 0.002471315849106759\">remove_html_markup:248</samp> |    X | \n",
       "| <samp style=\"background-color: hsl(240, 100%, 94.37671197675961%)\" title=\"  3% 0.0007482205401174724\">remove_html_markup:249</samp> |    X | \n",
       "| <samp style=\"background-color: hsl(240, 100%, 85.86066411045067%)\" title=\"  9% 0.0018813444185070693\">remove_html_markup:250</samp> |    X | \n",
       "| <samp style=\"background-color: hsl(240, 100%, 85.283642298237%)\" title=\"  9% 0.001958121487405151\">remove_html_markup:252</samp> |    X | \n",
       "| <samp style=\"background-color: hsl(240, 100%, 93.30586716156627%)\" title=\"  4% 0.0008907044539228082\">remove_html_markup:253</samp> |    X | \n",
       "| <samp style=\"background-color: hsl(240, 100%, 95.34276439530352%)\" title=\"  3% 0.0006196800386533141\">remove_html_markup:255</samp> |    X | \n"
      ],
      "text/plain": [
       " 238   2% def remove_html_markup(s):  # type: ignore\n",
       " 239   2%     tag = False\n",
       " 240   1%     quote = False\n",
       " 241   1%     out = \"\"\n",
       " 242   0%\n",
       " 243  16%     for c in s:\n",
       " 244  15%         assert tag or not quote\n",
       " 245   0%\n",
       " 246  15%         if c == '<' and not quote:\n",
       " 247   2%             tag = True\n",
       " 248  12%         elif c == '>' and not quote:\n",
       " 249   3%             tag = False\n",
       " 250   9%         elif (c == '\"' or c == \"'\") and tag:\n",
       " 251   0%             quote = not quote\n",
       " 252   9%         elif not tag:\n",
       " 253   4%             out = out + c\n",
       " 254   0%\n",
       " 255   3%     return out"
      ]
     },
     "execution_count": 1,
     "metadata": {},
     "output_type": "execute_result"
    }
   ],
   "source": [
    "debugger"
   ]
  },
  {
   "cell_type": "markdown",
   "metadata": {
    "slideshow": {
     "slide_type": "subslide"
    }
   },
   "source": [
    "### Other Metrics\n",
    "\n",
    "Our framework is flexible enough to collect (and visualize) arbitrary metrics. This `HitCollector` class, for instance, collects how often a line is being executed."
   ]
  },
  {
   "cell_type": "code",
   "execution_count": 39,
   "metadata": {
    "execution": {
     "iopub.execute_input": "2021-05-12T21:03:46.533853Z",
     "iopub.status.busy": "2021-05-12T21:03:46.533330Z",
     "iopub.status.idle": "2021-05-12T21:03:46.535453Z",
     "shell.execute_reply": "2021-05-12T21:03:46.535827Z"
    },
    "slideshow": {
     "slide_type": "subslide"
    }
   },
   "outputs": [],
   "source": [
    "class HitCollector(MetricCollector):\n",
    "    \"\"\"Collect how often a line is executed\"\"\"\n",
    "\n",
    "    def __init__(self) -> None:\n",
    "        super().__init__()\n",
    "        self.hits: Dict[Location, int] = {}\n",
    "\n",
    "    def collect(self, frame: FrameType, event: str, arg: Any) -> None:\n",
    "        super().collect(frame, event, arg)\n",
    "        location = (frame.f_code.co_name, frame.f_lineno)\n",
    "\n",
    "        self.hits.setdefault(location, 0)\n",
    "        self.hits[location] += 1\n",
    "\n",
    "    def metric(self, location: Location) -> Optional[int]:\n",
    "        if location in self.hits:\n",
    "            return self.hits[location]\n",
    "        else:\n",
    "            return None\n",
    "\n",
    "    def all_metrics(self, func: str) -> List[float]:\n",
    "        return [hits\n",
    "                for (func_name, lineno), hits in self.hits.items()\n",
    "                if func_name == func]"
   ]
  },
  {
   "cell_type": "markdown",
   "metadata": {
    "slideshow": {
     "slide_type": "subslide"
    }
   },
   "source": [
    "We can plug in this class into `PerformanceDebugger` to obtain a distribution of lines executed:"
   ]
  },
  {
   "cell_type": "code",
   "execution_count": 40,
   "metadata": {
    "execution": {
     "iopub.execute_input": "2021-05-12T21:03:46.561799Z",
     "iopub.status.busy": "2021-05-12T21:03:46.561281Z",
     "iopub.status.idle": "2021-05-12T21:03:46.563374Z",
     "shell.execute_reply": "2021-05-12T21:03:46.563801Z"
    },
    "slideshow": {
     "slide_type": "fragment"
    }
   },
   "outputs": [],
   "source": [
    "with PerformanceDebugger(HitCollector) as debugger:\n",
    "    for i in range(100):\n",
    "        s = remove_html_markup('<b>foo</b>')"
   ]
  },
  {
   "cell_type": "markdown",
   "metadata": {
    "slideshow": {
     "slide_type": "fragment"
    }
   },
   "source": [
    "In total, during this call to `remove_html_markup()`, there are 6,400 lines executed:"
   ]
  },
  {
   "cell_type": "code",
   "execution_count": 41,
   "metadata": {
    "execution": {
     "iopub.execute_input": "2021-05-12T21:03:46.568102Z",
     "iopub.status.busy": "2021-05-12T21:03:46.567088Z",
     "iopub.status.idle": "2021-05-12T21:03:46.570591Z",
     "shell.execute_reply": "2021-05-12T21:03:46.571140Z"
    },
    "slideshow": {
     "slide_type": "fragment"
    }
   },
   "outputs": [
    {
     "data": {
      "text/plain": [
       "6400.0"
      ]
     },
     "execution_count": 1,
     "metadata": {},
     "output_type": "execute_result"
    }
   ],
   "source": [
    "debugger.total('remove_html_markup')"
   ]
  },
  {
   "cell_type": "markdown",
   "metadata": {
    "slideshow": {
     "slide_type": "fragment"
    }
   },
   "source": [
    "Again, we can visualize the distribution as a table and using colors. We can see how the shade gets lighter in the lower part of the loop as individual conditions have been met."
   ]
  },
  {
   "cell_type": "code",
   "execution_count": 42,
   "metadata": {
    "execution": {
     "iopub.execute_input": "2021-05-12T21:03:46.574952Z",
     "iopub.status.busy": "2021-05-12T21:03:46.574380Z",
     "iopub.status.idle": "2021-05-12T21:03:46.576458Z",
     "shell.execute_reply": "2021-05-12T21:03:46.576846Z"
    },
    "slideshow": {
     "slide_type": "subslide"
    }
   },
   "outputs": [
    {
     "name": "stdout",
     "output_type": "stream",
     "text": [
      " 238   1% def remove_html_markup(s):  # type: ignore\n",
      " 239   1%     tag = False\n",
      " 240   1%     quote = False\n",
      " 241   1%     out = \"\"\n",
      " 242   0%\n",
      " 243  17%     for c in s:\n",
      " 244  15%         assert tag or not quote\n",
      " 245   0%\n",
      " 246  15%         if c == '<' and not quote:\n",
      " 247   3%             tag = True\n",
      " 248  12%         elif c == '>' and not quote:\n",
      " 249   3%             tag = False\n",
      " 250   9%         elif (c == '\"' or c == \"'\") and tag:\n",
      " 251   0%             quote = not quote\n",
      " 252   9%         elif not tag:\n",
      " 253   4%             out = out + c\n",
      " 254   0%\n",
      " 255   3%     return out\n",
      "\n"
     ]
    }
   ],
   "source": [
    "print(debugger)"
   ]
  },
  {
   "cell_type": "code",
   "execution_count": 43,
   "metadata": {
    "execution": {
     "iopub.execute_input": "2021-05-12T21:03:46.581803Z",
     "iopub.status.busy": "2021-05-12T21:03:46.581242Z",
     "iopub.status.idle": "2021-05-12T21:03:46.583715Z",
     "shell.execute_reply": "2021-05-12T21:03:46.584097Z"
    },
    "slideshow": {
     "slide_type": "subslide"
    }
   },
   "outputs": [
    {
     "data": {
      "text/html": [
       "<pre style=\"background-color:hsl(240, 100%, 97.72727272727273%)\"\n",
       "                    title=\"Line 238:   1% 100.0\"> 238 def remove_html_markup(s):  # type: ignore</pre>\n",
       "<pre style=\"background-color:hsl(240, 100%, 97.72727272727273%)\"\n",
       "                    title=\"Line 239:   1% 100.0\"> 239     tag = False</pre>\n",
       "<pre style=\"background-color:hsl(240, 100%, 97.72727272727273%)\"\n",
       "                    title=\"Line 240:   1% 100.0\"> 240     quote = False</pre>\n",
       "<pre style=\"background-color:hsl(240, 100%, 97.72727272727273%)\"\n",
       "                    title=\"Line 241:   1% 100.0\"> 241     out = &quot;&quot;</pre>\n",
       "<pre style=\"background-color:hsl(240, 100%, 100.0%)\"\n",
       "                    title=\"Line 242:   0% 0.0\"> 242 &nbsp;</pre>\n",
       "<pre style=\"background-color:hsl(240, 100%, 75.0%)\"\n",
       "                    title=\"Line 243:  17% 1100.0\"> 243     for c in s:</pre>\n",
       "<pre style=\"background-color:hsl(240, 100%, 77.27272727272728%)\"\n",
       "                    title=\"Line 244:  15% 1000.0\"> 244         assert tag or not quote</pre>\n",
       "<pre style=\"background-color:hsl(240, 100%, 100.0%)\"\n",
       "                    title=\"Line 245:   0% 0.0\"> 245 &nbsp;</pre>\n",
       "<pre style=\"background-color:hsl(240, 100%, 77.27272727272728%)\"\n",
       "                    title=\"Line 246:  15% 1000.0\"> 246         if c == &#x27;&lt;&#x27; and not quote:</pre>\n",
       "<pre style=\"background-color:hsl(240, 100%, 95.45454545454545%)\"\n",
       "                    title=\"Line 247:   3% 200.0\"> 247             tag = True</pre>\n",
       "<pre style=\"background-color:hsl(240, 100%, 81.81818181818181%)\"\n",
       "                    title=\"Line 248:  12% 800.0\"> 248         elif c == &#x27;&gt;&#x27; and not quote:</pre>\n",
       "<pre style=\"background-color:hsl(240, 100%, 95.45454545454545%)\"\n",
       "                    title=\"Line 249:   3% 200.0\"> 249             tag = False</pre>\n",
       "<pre style=\"background-color:hsl(240, 100%, 86.36363636363636%)\"\n",
       "                    title=\"Line 250:   9% 600.0\"> 250         elif (c == &#x27;&quot;&#x27; or c == &quot;&#x27;&quot;) and tag:</pre>\n",
       "<pre style=\"background-color:hsl(240, 100%, 100.0%)\"\n",
       "                    title=\"Line 251:   0% 0.0\"> 251             quote = not quote</pre>\n",
       "<pre style=\"background-color:hsl(240, 100%, 86.36363636363636%)\"\n",
       "                    title=\"Line 252:   9% 600.0\"> 252         elif not tag:</pre>\n",
       "<pre style=\"background-color:hsl(240, 100%, 93.18181818181819%)\"\n",
       "                    title=\"Line 253:   4% 300.0\"> 253             out = out + c</pre>\n",
       "<pre style=\"background-color:hsl(240, 100%, 100.0%)\"\n",
       "                    title=\"Line 254:   0% 0.0\"> 254 &nbsp;</pre>\n",
       "<pre style=\"background-color:hsl(240, 100%, 95.45454545454545%)\"\n",
       "                    title=\"Line 255:   3% 200.0\"> 255     return out</pre>\n"
      ],
      "text/markdown": [
       "| `remove_html_markup` | `s='<b>foo</b>'` | \n",
       "| ---------------------- | ---- | \n",
       "| <samp style=\"background-color: hsl(240, 100%, 97.72727272727273%)\" title=\"  1% 100.0\">remove_html_markup:238</samp> |    X | \n",
       "| <samp style=\"background-color: hsl(240, 100%, 97.72727272727273%)\" title=\"  1% 100.0\">remove_html_markup:239</samp> |    X | \n",
       "| <samp style=\"background-color: hsl(240, 100%, 97.72727272727273%)\" title=\"  1% 100.0\">remove_html_markup:240</samp> |    X | \n",
       "| <samp style=\"background-color: hsl(240, 100%, 97.72727272727273%)\" title=\"  1% 100.0\">remove_html_markup:241</samp> |    X | \n",
       "| <samp style=\"background-color: hsl(240, 100%, 75.0%)\" title=\" 17% 1100.0\">remove_html_markup:243</samp> |    X | \n",
       "| <samp style=\"background-color: hsl(240, 100%, 77.27272727272728%)\" title=\" 15% 1000.0\">remove_html_markup:244</samp> |    X | \n",
       "| <samp style=\"background-color: hsl(240, 100%, 77.27272727272728%)\" title=\" 15% 1000.0\">remove_html_markup:246</samp> |    X | \n",
       "| <samp style=\"background-color: hsl(240, 100%, 95.45454545454545%)\" title=\"  3% 200.0\">remove_html_markup:247</samp> |    X | \n",
       "| <samp style=\"background-color: hsl(240, 100%, 81.81818181818181%)\" title=\" 12% 800.0\">remove_html_markup:248</samp> |    X | \n",
       "| <samp style=\"background-color: hsl(240, 100%, 95.45454545454545%)\" title=\"  3% 200.0\">remove_html_markup:249</samp> |    X | \n",
       "| <samp style=\"background-color: hsl(240, 100%, 86.36363636363636%)\" title=\"  9% 600.0\">remove_html_markup:250</samp> |    X | \n",
       "| <samp style=\"background-color: hsl(240, 100%, 86.36363636363636%)\" title=\"  9% 600.0\">remove_html_markup:252</samp> |    X | \n",
       "| <samp style=\"background-color: hsl(240, 100%, 93.18181818181819%)\" title=\"  4% 300.0\">remove_html_markup:253</samp> |    X | \n",
       "| <samp style=\"background-color: hsl(240, 100%, 95.45454545454545%)\" title=\"  3% 200.0\">remove_html_markup:255</samp> |    X | \n"
      ],
      "text/plain": [
       " 238   1% def remove_html_markup(s):  # type: ignore\n",
       " 239   1%     tag = False\n",
       " 240   1%     quote = False\n",
       " 241   1%     out = \"\"\n",
       " 242   0%\n",
       " 243  17%     for c in s:\n",
       " 244  15%         assert tag or not quote\n",
       " 245   0%\n",
       " 246  15%         if c == '<' and not quote:\n",
       " 247   3%             tag = True\n",
       " 248  12%         elif c == '>' and not quote:\n",
       " 249   3%             tag = False\n",
       " 250   9%         elif (c == '\"' or c == \"'\") and tag:\n",
       " 251   0%             quote = not quote\n",
       " 252   9%         elif not tag:\n",
       " 253   4%             out = out + c\n",
       " 254   0%\n",
       " 255   3%     return out"
      ]
     },
     "execution_count": 1,
     "metadata": {},
     "output_type": "execute_result"
    }
   ],
   "source": [
    "debugger"
   ]
  },
  {
   "cell_type": "markdown",
   "metadata": {
    "slideshow": {
     "slide_type": "slide"
    }
   },
   "source": [
    "## Integrating with Delta Debugging\n",
    "\n",
    "Besides identifying causes for performance issues in the code, one may also search for causes in the _input_, using [Delta Debugging](DeltaDebugger.ipynb). This can be useful if one does not immediately want to embark into investigating the code, but maybe first determine external influences that are related to performance issues."
   ]
  },
  {
   "cell_type": "markdown",
   "metadata": {
    "slideshow": {
     "slide_type": "fragment"
    }
   },
   "source": [
    "Here is a variant of `remove_html_markup()` that introduces a (rather obvious) performance issue."
   ]
  },
  {
   "cell_type": "code",
   "execution_count": 44,
   "metadata": {
    "execution": {
     "iopub.execute_input": "2021-05-12T21:03:46.587140Z",
     "iopub.status.busy": "2021-05-12T21:03:46.586604Z",
     "iopub.status.idle": "2021-05-12T21:03:46.588016Z",
     "shell.execute_reply": "2021-05-12T21:03:46.588931Z"
    },
    "slideshow": {
     "slide_type": "skip"
    }
   },
   "outputs": [],
   "source": [
    "import time"
   ]
  },
  {
   "cell_type": "code",
   "execution_count": 45,
   "metadata": {
    "execution": {
     "iopub.execute_input": "2021-05-12T21:03:46.593634Z",
     "iopub.status.busy": "2021-05-12T21:03:46.593059Z",
     "iopub.status.idle": "2021-05-12T21:03:46.594886Z",
     "shell.execute_reply": "2021-05-12T21:03:46.595257Z"
    },
    "slideshow": {
     "slide_type": "subslide"
    }
   },
   "outputs": [],
   "source": [
    "def remove_html_markup_ampersand(s: str) -> str:\n",
    "    tag = False\n",
    "    quote = False\n",
    "    out = \"\"\n",
    "\n",
    "    for c in s:\n",
    "        assert tag or not quote\n",
    "\n",
    "        if c == '&':\n",
    "            time.sleep(0.1)  # <-- the obvious performance issue\n",
    "\n",
    "        if c == '<' and not quote:\n",
    "            tag = True\n",
    "        elif c == '>' and not quote:\n",
    "            tag = False\n",
    "        elif (c == '\"' or c == \"'\") and tag:\n",
    "            quote = not quote\n",
    "        elif not tag:\n",
    "            out = out + c\n",
    "\n",
    "    return out"
   ]
  },
  {
   "cell_type": "markdown",
   "metadata": {
    "slideshow": {
     "slide_type": "subslide"
    }
   },
   "source": [
    "We can easily trigger this issue by measuring time taken:"
   ]
  },
  {
   "cell_type": "code",
   "execution_count": 46,
   "metadata": {
    "execution": {
     "iopub.execute_input": "2021-05-12T21:03:46.598262Z",
     "iopub.status.busy": "2021-05-12T21:03:46.597743Z",
     "iopub.status.idle": "2021-05-12T21:03:46.915070Z",
     "shell.execute_reply": "2021-05-12T21:03:46.915737Z"
    },
    "slideshow": {
     "slide_type": "fragment"
    }
   },
   "outputs": [
    {
     "data": {
      "text/plain": [
       "0.31192738900426775"
      ]
     },
     "execution_count": 1,
     "metadata": {},
     "output_type": "execute_result"
    }
   ],
   "source": [
    "with Timer.Timer() as t:\n",
    "    remove_html_markup_ampersand('&&&')\n",
    "t.elapsed_time()"
   ]
  },
  {
   "cell_type": "markdown",
   "metadata": {
    "slideshow": {
     "slide_type": "fragment"
    }
   },
   "source": [
    "Let us set up a test that checks whether the performance issue is present."
   ]
  },
  {
   "cell_type": "code",
   "execution_count": 47,
   "metadata": {
    "execution": {
     "iopub.execute_input": "2021-05-12T21:03:46.920916Z",
     "iopub.status.busy": "2021-05-12T21:03:46.920182Z",
     "iopub.status.idle": "2021-05-12T21:03:46.922051Z",
     "shell.execute_reply": "2021-05-12T21:03:46.922534Z"
    },
    "slideshow": {
     "slide_type": "fragment"
    }
   },
   "outputs": [],
   "source": [
    "def remove_html_test(s: str) -> None:\n",
    "    with Timer.Timer() as t:\n",
    "        remove_html_markup_ampersand(s)\n",
    "    assert t.elapsed_time() < 0.1"
   ]
  },
  {
   "cell_type": "markdown",
   "metadata": {
    "slideshow": {
     "slide_type": "fragment"
    }
   },
   "source": [
    "We can now apply delta debugging to determine a minimum input that causes the failure:"
   ]
  },
  {
   "cell_type": "code",
   "execution_count": 48,
   "metadata": {
    "execution": {
     "iopub.execute_input": "2021-05-12T21:03:46.926105Z",
     "iopub.status.busy": "2021-05-12T21:03:46.925430Z",
     "iopub.status.idle": "2021-05-12T21:03:46.927104Z",
     "shell.execute_reply": "2021-05-12T21:03:46.927562Z"
    },
    "slideshow": {
     "slide_type": "fragment"
    }
   },
   "outputs": [],
   "source": [
    "s_fail = '<b>foo&amp;</b>'"
   ]
  },
  {
   "cell_type": "code",
   "execution_count": 49,
   "metadata": {
    "execution": {
     "iopub.execute_input": "2021-05-12T21:03:46.930646Z",
     "iopub.status.busy": "2021-05-12T21:03:46.930086Z",
     "iopub.status.idle": "2021-05-12T21:03:47.036425Z",
     "shell.execute_reply": "2021-05-12T21:03:47.037149Z"
    },
    "slideshow": {
     "slide_type": "subslide"
    }
   },
   "outputs": [],
   "source": [
    "with DeltaDebugger.DeltaDebugger() as dd:\n",
    "    remove_html_test(s_fail)"
   ]
  },
  {
   "cell_type": "code",
   "execution_count": 50,
   "metadata": {
    "execution": {
     "iopub.execute_input": "2021-05-12T21:03:47.042352Z",
     "iopub.status.busy": "2021-05-12T21:03:47.041533Z",
     "iopub.status.idle": "2021-05-12T21:03:47.563057Z",
     "shell.execute_reply": "2021-05-12T21:03:47.563679Z"
    },
    "slideshow": {
     "slide_type": "fragment"
    }
   },
   "outputs": [
    {
     "data": {
      "text/plain": [
       "{'s': '&'}"
      ]
     },
     "execution_count": 1,
     "metadata": {},
     "output_type": "execute_result"
    }
   ],
   "source": [
    "dd.min_args()"
   ]
  },
  {
   "cell_type": "markdown",
   "metadata": {
    "slideshow": {
     "slide_type": "fragment"
    }
   },
   "source": [
    "For performance issues, however, a minimal input is often not enough to highlight the failure cause. This is because short inputs tend to take less processing time than longer inputs, which increases the risks of a spurious diagnosis. A better alternative is to compute a _maximum_ input where the issue does not occur:"
   ]
  },
  {
   "cell_type": "code",
   "execution_count": 51,
   "metadata": {
    "execution": {
     "iopub.execute_input": "2021-05-12T21:03:47.568116Z",
     "iopub.status.busy": "2021-05-12T21:03:47.567261Z",
     "iopub.status.idle": "2021-05-12T21:03:47.779125Z",
     "shell.execute_reply": "2021-05-12T21:03:47.780054Z"
    },
    "slideshow": {
     "slide_type": "fragment"
    }
   },
   "outputs": [],
   "source": [
    "s_pass = dd.max_args()"
   ]
  },
  {
   "cell_type": "code",
   "execution_count": 52,
   "metadata": {
    "execution": {
     "iopub.execute_input": "2021-05-12T21:03:47.785405Z",
     "iopub.status.busy": "2021-05-12T21:03:47.784551Z",
     "iopub.status.idle": "2021-05-12T21:03:47.787721Z",
     "shell.execute_reply": "2021-05-12T21:03:47.788188Z"
    },
    "slideshow": {
     "slide_type": "fragment"
    }
   },
   "outputs": [
    {
     "data": {
      "text/plain": [
       "{'s': '<b>fooamp;</b>'}"
      ]
     },
     "execution_count": 1,
     "metadata": {},
     "output_type": "execute_result"
    }
   ],
   "source": [
    "s_pass"
   ]
  },
  {
   "cell_type": "markdown",
   "metadata": {
    "slideshow": {
     "slide_type": "fragment"
    }
   },
   "source": [
    "We see that the culprit character (the `&`) is removed. This tells us the failure-inducing difference – or, more precisely, the cause for the performance issue."
   ]
  },
  {
   "cell_type": "markdown",
   "metadata": {
    "slideshow": {
     "slide_type": "slide"
    }
   },
   "source": [
    "## Synopsis"
   ]
  },
  {
   "cell_type": "markdown",
   "metadata": {
    "slideshow": {
     "slide_type": "fragment"
    }
   },
   "source": [
    "This chapter provides a class `PerformanceDebugger` that allows to measure and visualize the time taken per line in a function."
   ]
  },
  {
   "cell_type": "code",
   "execution_count": 53,
   "metadata": {
    "execution": {
     "iopub.execute_input": "2021-05-12T21:03:47.826873Z",
     "iopub.status.busy": "2021-05-12T21:03:47.826319Z",
     "iopub.status.idle": "2021-05-12T21:03:47.828208Z",
     "shell.execute_reply": "2021-05-12T21:03:47.828646Z"
    },
    "slideshow": {
     "slide_type": "fragment"
    }
   },
   "outputs": [],
   "source": [
    "with PerformanceDebugger(TimeCollector) as debugger:\n",
    "    for i in range(100):\n",
    "        s = remove_html_markup('<b>foo</b>')"
   ]
  },
  {
   "cell_type": "markdown",
   "metadata": {
    "slideshow": {
     "slide_type": "fragment"
    }
   },
   "source": [
    "The distribution of executed time within each function can be obtained by printing out the debugger:"
   ]
  },
  {
   "cell_type": "code",
   "execution_count": 54,
   "metadata": {
    "execution": {
     "iopub.execute_input": "2021-05-12T21:03:47.832593Z",
     "iopub.status.busy": "2021-05-12T21:03:47.831986Z",
     "iopub.status.idle": "2021-05-12T21:03:47.834178Z",
     "shell.execute_reply": "2021-05-12T21:03:47.834552Z"
    },
    "slideshow": {
     "slide_type": "subslide"
    }
   },
   "outputs": [
    {
     "name": "stdout",
     "output_type": "stream",
     "text": [
      " 238   2% def remove_html_markup(s):  # type: ignore\n",
      " 239   1%     tag = False\n",
      " 240   1%     quote = False\n",
      " 241   1%     out = \"\"\n",
      " 242   0%\n",
      " 243  17%     for c in s:\n",
      " 244  15%         assert tag or not quote\n",
      " 245   0%\n",
      " 246  15%         if c == '<' and not quote:\n",
      " 247   3%             tag = True\n",
      " 248  12%         elif c == '>' and not quote:\n",
      " 249   3%             tag = False\n",
      " 250   9%         elif (c == '\"' or c == \"'\") and tag:\n",
      " 251   0%             quote = not quote\n",
      " 252   9%         elif not tag:\n",
      " 253   4%             out = out + c\n",
      " 254   0%\n",
      " 255   3%     return out\n",
      "\n"
     ]
    }
   ],
   "source": [
    "print(debugger)"
   ]
  },
  {
   "cell_type": "markdown",
   "metadata": {
    "slideshow": {
     "slide_type": "subslide"
    }
   },
   "source": [
    "The sum of all percentages in a function should always be 100%."
   ]
  },
  {
   "cell_type": "markdown",
   "metadata": {
    "slideshow": {
     "slide_type": "fragment"
    }
   },
   "source": [
    "These percentages can also be visualized, where darker shades represent higher percentage values:"
   ]
  },
  {
   "cell_type": "code",
   "execution_count": 55,
   "metadata": {
    "execution": {
     "iopub.execute_input": "2021-05-12T21:03:47.839858Z",
     "iopub.status.busy": "2021-05-12T21:03:47.839285Z",
     "iopub.status.idle": "2021-05-12T21:03:47.841492Z",
     "shell.execute_reply": "2021-05-12T21:03:47.841867Z"
    },
    "slideshow": {
     "slide_type": "subslide"
    }
   },
   "outputs": [
    {
     "data": {
      "text/html": [
       "<pre style=\"background-color:hsl(240, 100%, 96.87265392601542%)\"\n",
       "                    title=\"Line 238:   2% 0.0004380527534522116\"> 238 def remove_html_markup(s):  # type: ignore</pre>\n",
       "<pre style=\"background-color:hsl(240, 100%, 97.26480799720122%)\"\n",
       "                    title=\"Line 239:   1% 0.00038312305696308613\"> 239     tag = False</pre>\n",
       "<pre style=\"background-color:hsl(240, 100%, 97.35272512640262%)\"\n",
       "                    title=\"Line 240:   1% 0.0003708083531819284\"> 240     quote = False</pre>\n",
       "<pre style=\"background-color:hsl(240, 100%, 97.48374041127123%)\"\n",
       "                    title=\"Line 241:   1% 0.00035245681647211313\"> 241     out = &quot;&quot;</pre>\n",
       "<pre style=\"background-color:hsl(240, 100%, 100.0%)\"\n",
       "                    title=\"Line 242:   0% 0.0\"> 242 &nbsp;</pre>\n",
       "<pre style=\"background-color:hsl(240, 100%, 75.0%)\"\n",
       "                    title=\"Line 243:  17% 0.003501793078612536\"> 243     for c in s:</pre>\n",
       "<pre style=\"background-color:hsl(240, 100%, 77.87629948344546%)\"\n",
       "                    title=\"Line 244:  15% 0.0030989048536866903\"> 244         assert tag or not quote</pre>\n",
       "<pre style=\"background-color:hsl(240, 100%, 100.0%)\"\n",
       "                    title=\"Line 245:   0% 0.0\"> 245 &nbsp;</pre>\n",
       "<pre style=\"background-color:hsl(240, 100%, 77.66782786342638%)\"\n",
       "                    title=\"Line 246:  15% 0.0031281058327294886\"> 246         if c == &#x27;&lt;&#x27; and not quote:</pre>\n",
       "<pre style=\"background-color:hsl(240, 100%, 95.54432714625133%)\"\n",
       "                    title=\"Line 247:   3% 0.0006241137743927538\"> 247             tag = True</pre>\n",
       "<pre style=\"background-color:hsl(240, 100%, 82.19179694891055%)\"\n",
       "                    title=\"Line 248:  12% 0.0024944256874732673\"> 248         elif c == &#x27;&gt;&#x27; and not quote:</pre>\n",
       "<pre style=\"background-color:hsl(240, 100%, 95.56172398739655%)\"\n",
       "                    title=\"Line 249:   3% 0.0006216769688762724\"> 249             tag = False</pre>\n",
       "<pre style=\"background-color:hsl(240, 100%, 86.87707619106652%)\"\n",
       "                    title=\"Line 250:   9% 0.0018381505506113172\"> 250         elif (c == &#x27;&quot;&#x27; or c == &quot;&#x27;&quot;) and tag:</pre>\n",
       "<pre style=\"background-color:hsl(240, 100%, 100.0%)\"\n",
       "                    title=\"Line 251:   0% 0.0\"> 251             quote = not quote</pre>\n",
       "<pre style=\"background-color:hsl(240, 100%, 86.43506494402368%)\"\n",
       "                    title=\"Line 252:   9% 0.0019000638276338577\"> 252         elif not tag:</pre>\n",
       "<pre style=\"background-color:hsl(240, 100%, 93.37617226509681%)\"\n",
       "                    title=\"Line 253:   4% 0.0009278109646402299\"> 253             out = out + c</pre>\n",
       "<pre style=\"background-color:hsl(240, 100%, 100.0%)\"\n",
       "                    title=\"Line 254:   0% 0.0\"> 254 &nbsp;</pre>\n",
       "<pre style=\"background-color:hsl(240, 100%, 95.63119333404111%)\"\n",
       "                    title=\"Line 255:   3% 0.0006119462777860463\"> 255     return out</pre>\n"
      ],
      "text/markdown": [
       "| `remove_html_markup` | `s='<b>foo</b>'` | \n",
       "| ---------------------- | ---- | \n",
       "| <samp style=\"background-color: hsl(240, 100%, 96.87265392601542%)\" title=\"  2% 0.0004380527534522116\">remove_html_markup:238</samp> |    X | \n",
       "| <samp style=\"background-color: hsl(240, 100%, 97.26480799720122%)\" title=\"  1% 0.00038312305696308613\">remove_html_markup:239</samp> |    X | \n",
       "| <samp style=\"background-color: hsl(240, 100%, 97.35272512640262%)\" title=\"  1% 0.0003708083531819284\">remove_html_markup:240</samp> |    X | \n",
       "| <samp style=\"background-color: hsl(240, 100%, 97.48374041127123%)\" title=\"  1% 0.00035245681647211313\">remove_html_markup:241</samp> |    X | \n",
       "| <samp style=\"background-color: hsl(240, 100%, 75.0%)\" title=\" 17% 0.003501793078612536\">remove_html_markup:243</samp> |    X | \n",
       "| <samp style=\"background-color: hsl(240, 100%, 77.87629948344546%)\" title=\" 15% 0.0030989048536866903\">remove_html_markup:244</samp> |    X | \n",
       "| <samp style=\"background-color: hsl(240, 100%, 77.66782786342638%)\" title=\" 15% 0.0031281058327294886\">remove_html_markup:246</samp> |    X | \n",
       "| <samp style=\"background-color: hsl(240, 100%, 95.54432714625133%)\" title=\"  3% 0.0006241137743927538\">remove_html_markup:247</samp> |    X | \n",
       "| <samp style=\"background-color: hsl(240, 100%, 82.19179694891055%)\" title=\" 12% 0.0024944256874732673\">remove_html_markup:248</samp> |    X | \n",
       "| <samp style=\"background-color: hsl(240, 100%, 95.56172398739655%)\" title=\"  3% 0.0006216769688762724\">remove_html_markup:249</samp> |    X | \n",
       "| <samp style=\"background-color: hsl(240, 100%, 86.87707619106652%)\" title=\"  9% 0.0018381505506113172\">remove_html_markup:250</samp> |    X | \n",
       "| <samp style=\"background-color: hsl(240, 100%, 86.43506494402368%)\" title=\"  9% 0.0019000638276338577\">remove_html_markup:252</samp> |    X | \n",
       "| <samp style=\"background-color: hsl(240, 100%, 93.37617226509681%)\" title=\"  4% 0.0009278109646402299\">remove_html_markup:253</samp> |    X | \n",
       "| <samp style=\"background-color: hsl(240, 100%, 95.63119333404111%)\" title=\"  3% 0.0006119462777860463\">remove_html_markup:255</samp> |    X | \n"
      ],
      "text/plain": [
       " 238   2% def remove_html_markup(s):  # type: ignore\n",
       " 239   1%     tag = False\n",
       " 240   1%     quote = False\n",
       " 241   1%     out = \"\"\n",
       " 242   0%\n",
       " 243  17%     for c in s:\n",
       " 244  15%         assert tag or not quote\n",
       " 245   0%\n",
       " 246  15%         if c == '<' and not quote:\n",
       " 247   3%             tag = True\n",
       " 248  12%         elif c == '>' and not quote:\n",
       " 249   3%             tag = False\n",
       " 250   9%         elif (c == '\"' or c == \"'\") and tag:\n",
       " 251   0%             quote = not quote\n",
       " 252   9%         elif not tag:\n",
       " 253   4%             out = out + c\n",
       " 254   0%\n",
       " 255   3%     return out"
      ]
     },
     "execution_count": 1,
     "metadata": {},
     "output_type": "execute_result"
    }
   ],
   "source": [
    "debugger"
   ]
  },
  {
   "cell_type": "markdown",
   "metadata": {
    "slideshow": {
     "slide_type": "subslide"
    }
   },
   "source": [
    "The abstract `MetricCollector` class allows subclassing to build more collectors, such as `HitCollector`."
   ]
  },
  {
   "cell_type": "code",
   "execution_count": 56,
   "metadata": {
    "execution": {
     "iopub.execute_input": "2021-05-12T21:03:47.845781Z",
     "iopub.status.busy": "2021-05-12T21:03:47.845198Z",
     "iopub.status.idle": "2021-05-12T21:03:47.846384Z",
     "shell.execute_reply": "2021-05-12T21:03:47.846750Z"
    },
    "slideshow": {
     "slide_type": "fragment"
    }
   },
   "outputs": [],
   "source": [
    "# ignore\n",
    "from ClassDiagram import display_class_hierarchy"
   ]
  },
  {
   "cell_type": "code",
   "execution_count": 57,
   "metadata": {
    "execution": {
     "iopub.execute_input": "2021-05-12T21:03:47.885387Z",
     "iopub.status.busy": "2021-05-12T21:03:47.884818Z",
     "iopub.status.idle": "2021-05-12T21:03:48.702591Z",
     "shell.execute_reply": "2021-05-12T21:03:48.703008Z"
    },
    "slideshow": {
     "slide_type": "fragment"
    }
   },
   "outputs": [
    {
     "data": {
      "image/svg+xml": [
       "<?xml version=\"1.0\" encoding=\"UTF-8\" standalone=\"no\"?>\n",
       "<!DOCTYPE svg PUBLIC \"-//W3C//DTD SVG 1.1//EN\"\n",
       " \"http://www.w3.org/Graphics/SVG/1.1/DTD/svg11.dtd\">\n",
       "<!-- Generated by graphviz version 2.40.1 (20161225.0304)\n",
       " -->\n",
       "<!-- Title: %3 Pages: 1 -->\n",
       "<svg width=\"625pt\" height=\"1037pt\"\n",
       " viewBox=\"0.00 0.00 624.50 1037.00\" xmlns=\"http://www.w3.org/2000/svg\" xmlns:xlink=\"http://www.w3.org/1999/xlink\">\n",
       "<g id=\"graph0\" class=\"graph\" transform=\"scale(1 1) rotate(0) translate(4 1033)\">\n",
       "<title>%3</title>\n",
       "<g id=\"a_graph0\"><a xlink:title=\"PerformanceDebugger class hierarchy\">\n",
       "<polygon fill=\"#ffffff\" stroke=\"transparent\" points=\"-4,4 -4,-1033 620.5,-1033 620.5,4 -4,4\"/>\n",
       "</a>\n",
       "</g>\n",
       "<!-- PerformanceDebugger -->\n",
       "<g id=\"node1\" class=\"node\">\n",
       "<title>PerformanceDebugger</title>\n",
       "<g id=\"a_node1\"><a xlink:href=\"#\" xlink:title=\"class PerformanceDebugger:&#10;Collect and visualize a metric\">\n",
       "<polygon fill=\"none\" stroke=\"#000000\" points=\"0,-28 0,-70 171,-70 171,-28 0,-28\"/>\n",
       "<text text-anchor=\"start\" x=\"8\" y=\"-55.8\" font-family=\"Raleway, Helvetica, Arial, sans-serif\" font-weight=\"bold\" font-size=\"14.00\" fill=\"#6a0dad\">PerformanceDebugger</text>\n",
       "<polyline fill=\"none\" stroke=\"#000000\" points=\"0,-47 171,-47 \"/>\n",
       "<g id=\"a_node1_0\"><a xlink:href=\"#\" xlink:title=\"PerformanceDebugger\">\n",
       "<g id=\"a_node1_1\"><a xlink:href=\"#\" xlink:title=\"__init__(self, collector_class:Type, log:bool=False):&#10;Constructor. Use instances of `collector_class` to collect events.\">\n",
       "<text text-anchor=\"start\" x=\"55.5\" y=\"-35.5\" font-family=\"'Fira Mono', 'Source Code Pro', 'Courier', monospace\" font-weight=\"bold\" font-style=\"italic\" font-size=\"10.00\" fill=\"#000000\">__init__()</text>\n",
       "</a>\n",
       "</g>\n",
       "</a>\n",
       "</g>\n",
       "</a>\n",
       "</g>\n",
       "</g>\n",
       "<!-- MetricDebugger -->\n",
       "<g id=\"node2\" class=\"node\">\n",
       "<title>MetricDebugger</title>\n",
       "<g id=\"a_node2\"><a xlink:href=\"#\" xlink:title=\"class MetricDebugger:&#10;Visualize a metric\">\n",
       "<polygon fill=\"none\" stroke=\"#000000\" points=\"22,-134.5 22,-231.5 149,-231.5 149,-134.5 22,-134.5\"/>\n",
       "<text text-anchor=\"start\" x=\"30\" y=\"-217.3\" font-family=\"Raleway, Helvetica, Arial, sans-serif\" font-weight=\"bold\" font-size=\"14.00\" fill=\"#6a0dad\">MetricDebugger</text>\n",
       "<polyline fill=\"none\" stroke=\"#000000\" points=\"22,-208.5 149,-208.5 \"/>\n",
       "<g id=\"a_node2_2\"><a xlink:href=\"#\" xlink:title=\"MetricDebugger\">\n",
       "<g id=\"a_node2_3\"><a xlink:href=\"#\" xlink:title=\"color(self, location:Tuple[str, int]) &#45;&gt; str:&#10;Return a color for the given event, or None.&#10;To be overloaded in subclasses.\">\n",
       "<text text-anchor=\"start\" x=\"37.5\" y=\"-197.5\" font-family=\"'Fira Mono', 'Source Code Pro', 'Courier', monospace\" font-style=\"italic\" font-size=\"10.00\" fill=\"#000000\">color()</text>\n",
       "</a>\n",
       "</g>\n",
       "<g id=\"a_node2_4\"><a xlink:href=\"#\" xlink:title=\"maximum(self, func_name:str) &#45;&gt; float\">\n",
       "<text text-anchor=\"start\" x=\"37.5\" y=\"-185.5\" font-family=\"'Fira Mono', 'Source Code Pro', 'Courier', monospace\" font-size=\"10.00\" fill=\"#000000\">maximum()</text>\n",
       "</a>\n",
       "</g>\n",
       "<g id=\"a_node2_5\"><a xlink:href=\"#\" xlink:title=\"metric(self, location:Tuple[str, int]) &#45;&gt; float\">\n",
       "<text text-anchor=\"start\" x=\"37.5\" y=\"-174.5\" font-family=\"'Fira Mono', 'Source Code Pro', 'Courier', monospace\" font-size=\"10.00\" fill=\"#000000\">metric()</text>\n",
       "</a>\n",
       "</g>\n",
       "<g id=\"a_node2_6\"><a xlink:href=\"#\" xlink:title=\"suspiciousness(self, location:Tuple[str, int]) &#45;&gt; float:&#10;Return a suspiciousness value in the range [0, 1.0]&#10;for the given event, or `None` if unknown.&#10;To be overloaded in subclasses.\">\n",
       "<text text-anchor=\"start\" x=\"37.5\" y=\"-164.5\" font-family=\"'Fira Mono', 'Source Code Pro', 'Courier', monospace\" font-style=\"italic\" font-size=\"10.00\" fill=\"#000000\">suspiciousness()</text>\n",
       "</a>\n",
       "</g>\n",
       "<g id=\"a_node2_7\"><a xlink:href=\"#\" xlink:title=\"tooltip(self, location:Tuple[str, int]) &#45;&gt; str:&#10;Return a tooltip for the given event (default: percentage).&#10;To be overloaded in subclasses.\">\n",
       "<text text-anchor=\"start\" x=\"37.5\" y=\"-153.5\" font-family=\"'Fira Mono', 'Source Code Pro', 'Courier', monospace\" font-style=\"italic\" font-size=\"10.00\" fill=\"#000000\">tooltip()</text>\n",
       "</a>\n",
       "</g>\n",
       "<g id=\"a_node2_8\"><a xlink:href=\"#\" xlink:title=\"total(self, func_name:str) &#45;&gt; float\">\n",
       "<text text-anchor=\"start\" x=\"37.5\" y=\"-141.5\" font-family=\"'Fira Mono', 'Source Code Pro', 'Courier', monospace\" font-size=\"10.00\" fill=\"#000000\">total()</text>\n",
       "</a>\n",
       "</g>\n",
       "</a>\n",
       "</g>\n",
       "</a>\n",
       "</g>\n",
       "</g>\n",
       "<!-- PerformanceDebugger&#45;&gt;MetricDebugger -->\n",
       "<g id=\"edge1\" class=\"edge\">\n",
       "<title>PerformanceDebugger&#45;&gt;MetricDebugger</title>\n",
       "<path fill=\"none\" stroke=\"#000000\" d=\"M85.5,-70.2327C85.5,-84.808 85.5,-104.9186 85.5,-124.1251\"/>\n",
       "<polygon fill=\"none\" stroke=\"#000000\" points=\"82.0001,-124.3557 85.5,-134.3557 89.0001,-124.3557 82.0001,-124.3557\"/>\n",
       "</g>\n",
       "<!-- SpectrumDebugger -->\n",
       "<g id=\"node3\" class=\"node\">\n",
       "<title>SpectrumDebugger</title>\n",
       "<g id=\"a_node3\"><a xlink:href=\"StatisticalDebugger.ipynb\" xlink:title=\"class SpectrumDebugger:&#10;A class to collect events for passing and failing outcomes.\">\n",
       "<polygon fill=\"none\" stroke=\"#000000\" points=\"10.5,-268.5 10.5,-376.5 160.5,-376.5 160.5,-268.5 10.5,-268.5\"/>\n",
       "<text text-anchor=\"start\" x=\"18.5\" y=\"-362.3\" font-family=\"Raleway, Helvetica, Arial, sans-serif\" font-weight=\"bold\" font-size=\"14.00\" fill=\"#6a0dad\">SpectrumDebugger</text>\n",
       "<polyline fill=\"none\" stroke=\"#000000\" points=\"10.5,-353.5 160.5,-353.5 \"/>\n",
       "<g id=\"a_node3_9\"><a xlink:href=\"#\" xlink:title=\"SpectrumDebugger\">\n",
       "<g id=\"a_node3_10\"><a xlink:href=\"StatisticalDebugger.ipynb\" xlink:title=\"__repr__(self) &#45;&gt; str:&#10;Show code as string\">\n",
       "<text text-anchor=\"start\" x=\"37.5\" y=\"-342\" font-family=\"'Fira Mono', 'Source Code Pro', 'Courier', monospace\" font-style=\"italic\" font-size=\"10.00\" fill=\"#000000\">__repr__()</text>\n",
       "</a>\n",
       "</g>\n",
       "<g id=\"a_node3_11\"><a xlink:href=\"StatisticalDebugger.ipynb\" xlink:title=\"__str__(self) &#45;&gt; str:&#10;Show code as string\">\n",
       "<text text-anchor=\"start\" x=\"37.5\" y=\"-330\" font-family=\"'Fira Mono', 'Source Code Pro', 'Courier', monospace\" font-size=\"10.00\" fill=\"#000000\">__str__()</text>\n",
       "</a>\n",
       "</g>\n",
       "<g id=\"a_node3_12\"><a xlink:href=\"StatisticalDebugger.ipynb\" xlink:title=\"_repr_html_(self) &#45;&gt; str:&#10;When output in Jupyter, visualize as HTML\">\n",
       "<text text-anchor=\"start\" x=\"37.5\" y=\"-319\" font-family=\"'Fira Mono', 'Source Code Pro', 'Courier', monospace\" font-size=\"10.00\" fill=\"#000000\">_repr_html_()</text>\n",
       "</a>\n",
       "</g>\n",
       "<g id=\"a_node3_13\"><a xlink:href=\"StatisticalDebugger.ipynb\" xlink:title=\"code(self, functions:Union[Set[Callable], NoneType]=None, *, color:bool=False, suspiciousness:bool=False, line_numbers:bool=True) &#45;&gt; str:&#10;Return a listing of `functions` (default: covered functions).&#10;If `color` is True, render as HTML, using suspiciousness colors.&#10;If `suspiciousness` is True, include suspiciousness values.&#10;If `line_numbers` is True (default), include line numbers.\">\n",
       "<text text-anchor=\"start\" x=\"37.5\" y=\"-308\" font-family=\"'Fira Mono', 'Source Code Pro', 'Courier', monospace\" font-size=\"10.00\" fill=\"#000000\">code()</text>\n",
       "</a>\n",
       "</g>\n",
       "<g id=\"a_node3_14\"><a xlink:href=\"StatisticalDebugger.ipynb\" xlink:title=\"percentage(self, event:Any) &#45;&gt; str:&#10;Return the suspiciousness for the given event as percentage string.\">\n",
       "<text text-anchor=\"start\" x=\"37.5\" y=\"-297\" font-family=\"'Fira Mono', 'Source Code Pro', 'Courier', monospace\" font-size=\"10.00\" fill=\"#000000\">percentage()</text>\n",
       "</a>\n",
       "</g>\n",
       "<g id=\"a_node3_15\"><a xlink:href=\"StatisticalDebugger.ipynb\" xlink:title=\"suspiciousness(self, event:Any) &#45;&gt; Union[float, NoneType]:&#10;Return a suspiciousness value in the range [0, 1.0]&#10;for the given event, or `None` if unknown.&#10;To be overloaded in subclasses.\">\n",
       "<text text-anchor=\"start\" x=\"37.5\" y=\"-287\" font-family=\"'Fira Mono', 'Source Code Pro', 'Courier', monospace\" font-style=\"italic\" font-size=\"10.00\" fill=\"#000000\">suspiciousness()</text>\n",
       "</a>\n",
       "</g>\n",
       "<g id=\"a_node3_16\"><a xlink:href=\"StatisticalDebugger.ipynb\" xlink:title=\"tooltip(self, event:Any) &#45;&gt; str:&#10;Return a tooltip for the given event (default: percentage).&#10;To be overloaded in subclasses.\">\n",
       "<text text-anchor=\"start\" x=\"37.5\" y=\"-276\" font-family=\"'Fira Mono', 'Source Code Pro', 'Courier', monospace\" font-style=\"italic\" font-size=\"10.00\" fill=\"#000000\">tooltip()</text>\n",
       "</a>\n",
       "</g>\n",
       "</a>\n",
       "</g>\n",
       "</a>\n",
       "</g>\n",
       "</g>\n",
       "<!-- MetricDebugger&#45;&gt;SpectrumDebugger -->\n",
       "<g id=\"edge2\" class=\"edge\">\n",
       "<title>MetricDebugger&#45;&gt;SpectrumDebugger</title>\n",
       "<path fill=\"none\" stroke=\"#000000\" d=\"M85.5,-231.7903C85.5,-240.2611 85.5,-249.1866 85.5,-257.9997\"/>\n",
       "<polygon fill=\"none\" stroke=\"#000000\" points=\"82.0001,-258.2598 85.5,-268.2599 89.0001,-258.2599 82.0001,-258.2598\"/>\n",
       "</g>\n",
       "<!-- DifferenceDebugger -->\n",
       "<g id=\"node4\" class=\"node\">\n",
       "<title>DifferenceDebugger</title>\n",
       "<g id=\"a_node4\"><a xlink:href=\"StatisticalDebugger.ipynb\" xlink:title=\"class DifferenceDebugger:&#10;A class to collect events for passing and failing outcomes.\">\n",
       "<polygon fill=\"none\" stroke=\"#000000\" points=\"8.5,-420.5 8.5,-591.5 162.5,-591.5 162.5,-420.5 8.5,-420.5\"/>\n",
       "<text text-anchor=\"start\" x=\"16.5\" y=\"-577.3\" font-family=\"Raleway, Helvetica, Arial, sans-serif\" font-weight=\"bold\" font-size=\"14.00\" fill=\"#6a0dad\">DifferenceDebugger</text>\n",
       "<polyline fill=\"none\" stroke=\"#000000\" points=\"8.5,-568.5 162.5,-568.5 \"/>\n",
       "<g id=\"a_node4_17\"><a xlink:href=\"#\" xlink:title=\"DifferenceDebugger\">\n",
       "<g id=\"a_node4_18\"><a xlink:href=\"StatisticalDebugger.ipynb\" xlink:title=\"FAIL = &#39;FAIL&#39;\">\n",
       "<text text-anchor=\"start\" x=\"73.5\" y=\"-556.5\" font-family=\"'Fira Mono', 'Source Code Pro', 'Courier', monospace\" font-size=\"10.00\" fill=\"#000000\">FAIL</text>\n",
       "</a>\n",
       "</g>\n",
       "<g id=\"a_node4_19\"><a xlink:href=\"StatisticalDebugger.ipynb\" xlink:title=\"PASS = &#39;PASS&#39;\">\n",
       "<text text-anchor=\"start\" x=\"73.5\" y=\"-545.5\" font-family=\"'Fira Mono', 'Source Code Pro', 'Courier', monospace\" font-size=\"10.00\" fill=\"#000000\">PASS</text>\n",
       "</a>\n",
       "</g>\n",
       "</a>\n",
       "</g>\n",
       "<polyline fill=\"none\" stroke=\"#000000\" points=\"8.5,-538.5 162.5,-538.5 \"/>\n",
       "<g id=\"a_node4_20\"><a xlink:href=\"#\" xlink:title=\"DifferenceDebugger\">\n",
       "<g id=\"a_node4_21\"><a xlink:href=\"StatisticalDebugger.ipynb\" xlink:title=\"__enter__(self) &#45;&gt; Any:&#10;Enter a `with` block. Collect coverage and outcome;&#10;classify as FAIL if the block raises an exception,&#10;and PASS if it does not.\">\n",
       "<text text-anchor=\"start\" x=\"31.5\" y=\"-526.5\" font-family=\"'Fira Mono', 'Source Code Pro', 'Courier', monospace\" font-size=\"10.00\" fill=\"#000000\">__enter__()</text>\n",
       "</a>\n",
       "</g>\n",
       "<g id=\"a_node4_22\"><a xlink:href=\"StatisticalDebugger.ipynb\" xlink:title=\"__exit__(self, exc_tp:Type, exc_value:BaseException, exc_traceback:traceback) &#45;&gt; Union[bool, NoneType]:&#10;Exit the `with` block.\">\n",
       "<text text-anchor=\"start\" x=\"31.5\" y=\"-515.5\" font-family=\"'Fira Mono', 'Source Code Pro', 'Courier', monospace\" font-size=\"10.00\" fill=\"#000000\">__exit__()</text>\n",
       "</a>\n",
       "</g>\n",
       "<g id=\"a_node4_23\"><a xlink:href=\"StatisticalDebugger.ipynb\" xlink:title=\"all_fail_events(self) &#45;&gt; Set[Any]:&#10;Return all events observed in failing runs.\">\n",
       "<text text-anchor=\"start\" x=\"31.5\" y=\"-504.5\" font-family=\"'Fira Mono', 'Source Code Pro', 'Courier', monospace\" font-size=\"10.00\" fill=\"#000000\">all_fail_events()</text>\n",
       "</a>\n",
       "</g>\n",
       "<g id=\"a_node4_24\"><a xlink:href=\"StatisticalDebugger.ipynb\" xlink:title=\"all_pass_events(self) &#45;&gt; Set[Any]:&#10;Return all events observed in passing runs.\">\n",
       "<text text-anchor=\"start\" x=\"31.5\" y=\"-493.5\" font-family=\"'Fira Mono', 'Source Code Pro', 'Courier', monospace\" font-size=\"10.00\" fill=\"#000000\">all_pass_events()</text>\n",
       "</a>\n",
       "</g>\n",
       "<g id=\"a_node4_25\"><a xlink:href=\"StatisticalDebugger.ipynb\" xlink:title=\"collect_fail(self, *args:Any, **kwargs:Any) &#45;&gt; StatisticalDebugger.Collector:&#10;Return a collector for failing runs.\">\n",
       "<text text-anchor=\"start\" x=\"31.5\" y=\"-482.5\" font-family=\"'Fira Mono', 'Source Code Pro', 'Courier', monospace\" font-size=\"10.00\" fill=\"#000000\">collect_fail()</text>\n",
       "</a>\n",
       "</g>\n",
       "<g id=\"a_node4_26\"><a xlink:href=\"StatisticalDebugger.ipynb\" xlink:title=\"collect_pass(self, *args:Any, **kwargs:Any) &#45;&gt; StatisticalDebugger.Collector:&#10;Return a collector for passing runs.\">\n",
       "<text text-anchor=\"start\" x=\"31.5\" y=\"-471.5\" font-family=\"'Fira Mono', 'Source Code Pro', 'Courier', monospace\" font-size=\"10.00\" fill=\"#000000\">collect_pass()</text>\n",
       "</a>\n",
       "</g>\n",
       "<g id=\"a_node4_27\"><a xlink:href=\"StatisticalDebugger.ipynb\" xlink:title=\"fail_collectors(self) &#45;&gt; List[StatisticalDebugger.Collector]\">\n",
       "<text text-anchor=\"start\" x=\"31.5\" y=\"-460.5\" font-family=\"'Fira Mono', 'Source Code Pro', 'Courier', monospace\" font-size=\"10.00\" fill=\"#000000\">fail_collectors()</text>\n",
       "</a>\n",
       "</g>\n",
       "<g id=\"a_node4_28\"><a xlink:href=\"StatisticalDebugger.ipynb\" xlink:title=\"only_fail_events(self) &#45;&gt; Set[Any]:&#10;Return all events observed only in failing runs.\">\n",
       "<text text-anchor=\"start\" x=\"31.5\" y=\"-449.5\" font-family=\"'Fira Mono', 'Source Code Pro', 'Courier', monospace\" font-size=\"10.00\" fill=\"#000000\">only_fail_events()</text>\n",
       "</a>\n",
       "</g>\n",
       "<g id=\"a_node4_29\"><a xlink:href=\"StatisticalDebugger.ipynb\" xlink:title=\"only_pass_events(self) &#45;&gt; Set[Any]:&#10;Return all events observed only in passing runs.\">\n",
       "<text text-anchor=\"start\" x=\"31.5\" y=\"-438.5\" font-family=\"'Fira Mono', 'Source Code Pro', 'Courier', monospace\" font-size=\"10.00\" fill=\"#000000\">only_pass_events()</text>\n",
       "</a>\n",
       "</g>\n",
       "<g id=\"a_node4_30\"><a xlink:href=\"StatisticalDebugger.ipynb\" xlink:title=\"pass_collectors(self) &#45;&gt; List[StatisticalDebugger.Collector]\">\n",
       "<text text-anchor=\"start\" x=\"31.5\" y=\"-427.5\" font-family=\"'Fira Mono', 'Source Code Pro', 'Courier', monospace\" font-size=\"10.00\" fill=\"#000000\">pass_collectors()</text>\n",
       "</a>\n",
       "</g>\n",
       "</a>\n",
       "</g>\n",
       "</a>\n",
       "</g>\n",
       "</g>\n",
       "<!-- SpectrumDebugger&#45;&gt;DifferenceDebugger -->\n",
       "<g id=\"edge3\" class=\"edge\">\n",
       "<title>SpectrumDebugger&#45;&gt;DifferenceDebugger</title>\n",
       "<path fill=\"none\" stroke=\"#000000\" d=\"M85.5,-376.5636C85.5,-387.1932 85.5,-398.6398 85.5,-410.1724\"/>\n",
       "<polygon fill=\"none\" stroke=\"#000000\" points=\"82.0001,-410.3108 85.5,-420.3108 89.0001,-410.3109 82.0001,-410.3108\"/>\n",
       "</g>\n",
       "<!-- StatisticalDebugger -->\n",
       "<g id=\"node5\" class=\"node\">\n",
       "<title>StatisticalDebugger</title>\n",
       "<g id=\"a_node5\"><a xlink:href=\"StatisticalDebugger.ipynb\" xlink:title=\"class StatisticalDebugger:&#10;A class to collect events for multiple outcomes.\">\n",
       "<polygon fill=\"none\" stroke=\"#000000\" points=\"10,-635.5 10,-820.5 161,-820.5 161,-635.5 10,-635.5\"/>\n",
       "<text text-anchor=\"start\" x=\"18\" y=\"-806.3\" font-family=\"Raleway, Helvetica, Arial, sans-serif\" font-weight=\"bold\" font-size=\"14.00\" fill=\"#6a0dad\">StatisticalDebugger</text>\n",
       "<polyline fill=\"none\" stroke=\"#000000\" points=\"10,-797.5 161,-797.5 \"/>\n",
       "<g id=\"a_node5_31\"><a xlink:href=\"#\" xlink:title=\"StatisticalDebugger\">\n",
       "<g id=\"a_node5_32\"><a xlink:href=\"StatisticalDebugger.ipynb\" xlink:title=\"__init__(self, collector_class:Type=&lt;class &#39;StatisticalDebugger.CoverageCollector&#39;&gt;, log:bool=False):&#10;Constructor. Use instances of `collector_class` to collect events.\">\n",
       "<text text-anchor=\"start\" x=\"28.5\" y=\"-786.5\" font-family=\"'Fira Mono', 'Source Code Pro', 'Courier', monospace\" font-style=\"italic\" font-size=\"10.00\" fill=\"#000000\">__init__()</text>\n",
       "</a>\n",
       "</g>\n",
       "<g id=\"a_node5_33\"><a xlink:href=\"StatisticalDebugger.ipynb\" xlink:title=\"__repr__(self) &#45;&gt; str:&#10;Return repr(self).\">\n",
       "<text text-anchor=\"start\" x=\"28.5\" y=\"-775.5\" font-family=\"'Fira Mono', 'Source Code Pro', 'Courier', monospace\" font-style=\"italic\" font-size=\"10.00\" fill=\"#000000\">__repr__()</text>\n",
       "</a>\n",
       "</g>\n",
       "<g id=\"a_node5_34\"><a xlink:href=\"StatisticalDebugger.ipynb\" xlink:title=\"_repr_markdown_(self) &#45;&gt; str\">\n",
       "<text text-anchor=\"start\" x=\"28.5\" y=\"-763.5\" font-family=\"'Fira Mono', 'Source Code Pro', 'Courier', monospace\" font-size=\"10.00\" fill=\"#000000\">_repr_markdown_()</text>\n",
       "</a>\n",
       "</g>\n",
       "<g id=\"a_node5_35\"><a xlink:href=\"StatisticalDebugger.ipynb\" xlink:title=\"add_collector(self, outcome:str, collector:StatisticalDebugger.Collector) &#45;&gt; StatisticalDebugger.Collector\">\n",
       "<text text-anchor=\"start\" x=\"28.5\" y=\"-752.5\" font-family=\"'Fira Mono', 'Source Code Pro', 'Courier', monospace\" font-size=\"10.00\" fill=\"#000000\">add_collector()</text>\n",
       "</a>\n",
       "</g>\n",
       "<g id=\"a_node5_36\"><a xlink:href=\"StatisticalDebugger.ipynb\" xlink:title=\"all_events(self, outcome:Union[str, NoneType]=None) &#45;&gt; Set[Any]:&#10;Return a set of all events observed.\">\n",
       "<text text-anchor=\"start\" x=\"28.5\" y=\"-741.5\" font-family=\"'Fira Mono', 'Source Code Pro', 'Courier', monospace\" font-size=\"10.00\" fill=\"#000000\">all_events()</text>\n",
       "</a>\n",
       "</g>\n",
       "<g id=\"a_node5_37\"><a xlink:href=\"StatisticalDebugger.ipynb\" xlink:title=\"collect(self, outcome:str, *args:Any, **kwargs:Any) &#45;&gt; StatisticalDebugger.Collector:&#10;Return a collector for the given outcome.&#10;Additional args are passed to the collector.\">\n",
       "<text text-anchor=\"start\" x=\"28.5\" y=\"-730.5\" font-family=\"'Fira Mono', 'Source Code Pro', 'Courier', monospace\" font-size=\"10.00\" fill=\"#000000\">collect()</text>\n",
       "</a>\n",
       "</g>\n",
       "<g id=\"a_node5_38\"><a xlink:href=\"StatisticalDebugger.ipynb\" xlink:title=\"color(self, event:Any) &#45;&gt; Union[str, NoneType]:&#10;Return a color for the given event, or None.&#10;To be overloaded in subclasses.\">\n",
       "<text text-anchor=\"start\" x=\"28.5\" y=\"-720.5\" font-family=\"'Fira Mono', 'Source Code Pro', 'Courier', monospace\" font-style=\"italic\" font-size=\"10.00\" fill=\"#000000\">color()</text>\n",
       "</a>\n",
       "</g>\n",
       "<g id=\"a_node5_39\"><a xlink:href=\"StatisticalDebugger.ipynb\" xlink:title=\"coverage(self) &#45;&gt; Set[Tuple[Callable, int]]:&#10;Return a set of all (functions, line_numbers) observed\">\n",
       "<text text-anchor=\"start\" x=\"28.5\" y=\"-708.5\" font-family=\"'Fira Mono', 'Source Code Pro', 'Courier', monospace\" font-size=\"10.00\" fill=\"#000000\">coverage()</text>\n",
       "</a>\n",
       "</g>\n",
       "<g id=\"a_node5_40\"><a xlink:href=\"StatisticalDebugger.ipynb\" xlink:title=\"covered_functions(self) &#45;&gt; Set[Callable]:&#10;Return a set of all functions observed.\">\n",
       "<text text-anchor=\"start\" x=\"28.5\" y=\"-697.5\" font-family=\"'Fira Mono', 'Source Code Pro', 'Courier', monospace\" font-size=\"10.00\" fill=\"#000000\">covered_functions()</text>\n",
       "</a>\n",
       "</g>\n",
       "<g id=\"a_node5_41\"><a xlink:href=\"StatisticalDebugger.ipynb\" xlink:title=\"event_str(self, event:Any) &#45;&gt; str:&#10;Format the given event. To be overloaded in subclasses.\">\n",
       "<text text-anchor=\"start\" x=\"28.5\" y=\"-687.5\" font-family=\"'Fira Mono', 'Source Code Pro', 'Courier', monospace\" font-style=\"italic\" font-size=\"10.00\" fill=\"#000000\">event_str()</text>\n",
       "</a>\n",
       "</g>\n",
       "<g id=\"a_node5_42\"><a xlink:href=\"StatisticalDebugger.ipynb\" xlink:title=\"event_table(self, **_args:Any) &#45;&gt; Any:&#10;Print out event table in Markdown format.\">\n",
       "<text text-anchor=\"start\" x=\"28.5\" y=\"-675.5\" font-family=\"'Fira Mono', 'Source Code Pro', 'Courier', monospace\" font-size=\"10.00\" fill=\"#000000\">event_table()</text>\n",
       "</a>\n",
       "</g>\n",
       "<g id=\"a_node5_43\"><a xlink:href=\"StatisticalDebugger.ipynb\" xlink:title=\"event_table_text(self, *, args:bool=False, color:bool=False) &#45;&gt; str:&#10;Print out a table of events observed.&#10;If `args` is True, use arguments as headers.&#10;If `color` is True, use colors.\">\n",
       "<text text-anchor=\"start\" x=\"28.5\" y=\"-664.5\" font-family=\"'Fira Mono', 'Source Code Pro', 'Courier', monospace\" font-size=\"10.00\" fill=\"#000000\">event_table_text()</text>\n",
       "</a>\n",
       "</g>\n",
       "<g id=\"a_node5_44\"><a xlink:href=\"StatisticalDebugger.ipynb\" xlink:title=\"function(self) &#45;&gt; Union[Callable, NoneType]:&#10;Return the entry function from the events observed,&#10;or None if ambiguous.\">\n",
       "<text text-anchor=\"start\" x=\"28.5\" y=\"-653.5\" font-family=\"'Fira Mono', 'Source Code Pro', 'Courier', monospace\" font-size=\"10.00\" fill=\"#000000\">function()</text>\n",
       "</a>\n",
       "</g>\n",
       "<g id=\"a_node5_45\"><a xlink:href=\"StatisticalDebugger.ipynb\" xlink:title=\"tooltip(self, event:Any) &#45;&gt; Union[str, NoneType]:&#10;Return a tooltip string for the given event, or None.&#10;To be overloaded in subclasses.\">\n",
       "<text text-anchor=\"start\" x=\"28.5\" y=\"-643.5\" font-family=\"'Fira Mono', 'Source Code Pro', 'Courier', monospace\" font-style=\"italic\" font-size=\"10.00\" fill=\"#000000\">tooltip()</text>\n",
       "</a>\n",
       "</g>\n",
       "</a>\n",
       "</g>\n",
       "</a>\n",
       "</g>\n",
       "</g>\n",
       "<!-- DifferenceDebugger&#45;&gt;StatisticalDebugger -->\n",
       "<g id=\"edge4\" class=\"edge\">\n",
       "<title>DifferenceDebugger&#45;&gt;StatisticalDebugger</title>\n",
       "<path fill=\"none\" stroke=\"#000000\" d=\"M85.5,-591.5134C85.5,-602.455 85.5,-613.7458 85.5,-624.9287\"/>\n",
       "<polygon fill=\"none\" stroke=\"#000000\" points=\"82.0001,-625.1552 85.5,-635.1553 89.0001,-625.1553 82.0001,-625.1552\"/>\n",
       "</g>\n",
       "<!-- TimeCollector -->\n",
       "<g id=\"node6\" class=\"node\">\n",
       "<title>TimeCollector</title>\n",
       "<g id=\"a_node6\"><a xlink:href=\"#\" xlink:title=\"class TimeCollector:&#10;Collect time executed for each line\">\n",
       "<polygon fill=\"none\" stroke=\"#000000\" points=\"251,-.5 251,-97.5 364,-97.5 364,-.5 251,-.5\"/>\n",
       "<text text-anchor=\"start\" x=\"259\" y=\"-83.3\" font-family=\"Raleway, Helvetica, Arial, sans-serif\" font-weight=\"bold\" font-size=\"14.00\" fill=\"#6a0dad\">TimeCollector</text>\n",
       "<polyline fill=\"none\" stroke=\"#000000\" points=\"251,-74.5 364,-74.5 \"/>\n",
       "<g id=\"a_node6_46\"><a xlink:href=\"#\" xlink:title=\"TimeCollector\">\n",
       "<g id=\"a_node6_47\"><a xlink:href=\"#\" xlink:title=\"__enter__(self) &#45;&gt; Any:&#10;Called at begin of `with` block. Turn tracing on.\">\n",
       "<text text-anchor=\"start\" x=\"268.5\" y=\"-63.5\" font-family=\"'Fira Mono', 'Source Code Pro', 'Courier', monospace\" font-style=\"italic\" font-size=\"10.00\" fill=\"#000000\">__enter__()</text>\n",
       "</a>\n",
       "</g>\n",
       "<g id=\"a_node6_48\"><a xlink:href=\"#\" xlink:title=\"__init__(self) &#45;&gt; None:&#10;Constructor\">\n",
       "<text text-anchor=\"start\" x=\"268.5\" y=\"-52.5\" font-family=\"'Fira Mono', 'Source Code Pro', 'Courier', monospace\" font-style=\"italic\" font-size=\"10.00\" fill=\"#000000\">__init__()</text>\n",
       "</a>\n",
       "</g>\n",
       "<g id=\"a_node6_49\"><a xlink:href=\"#\" xlink:title=\"all_metrics(self, func:str) &#45;&gt; List[float]:&#10;Return all metric for a function `func`.\">\n",
       "<text text-anchor=\"start\" x=\"268.5\" y=\"-41.5\" font-family=\"'Fira Mono', 'Source Code Pro', 'Courier', monospace\" font-style=\"italic\" font-size=\"10.00\" fill=\"#000000\">all_metrics()</text>\n",
       "</a>\n",
       "</g>\n",
       "<g id=\"a_node6_50\"><a xlink:href=\"#\" xlink:title=\"collect(self, frame:frame, event:str, arg:Any) &#45;&gt; None:&#10;Invoked for every line executed. Accumulate time spent.\">\n",
       "<text text-anchor=\"start\" x=\"268.5\" y=\"-30.5\" font-family=\"'Fira Mono', 'Source Code Pro', 'Courier', monospace\" font-style=\"italic\" font-size=\"10.00\" fill=\"#000000\">collect()</text>\n",
       "</a>\n",
       "</g>\n",
       "<g id=\"a_node6_51\"><a xlink:href=\"#\" xlink:title=\"metric(self, location:Any) &#45;&gt; Union[float, NoneType]:&#10;Return a metric for an event, or none.\">\n",
       "<text text-anchor=\"start\" x=\"268.5\" y=\"-19.5\" font-family=\"'Fira Mono', 'Source Code Pro', 'Courier', monospace\" font-style=\"italic\" font-size=\"10.00\" fill=\"#000000\">metric()</text>\n",
       "</a>\n",
       "</g>\n",
       "<g id=\"a_node6_52\"><a xlink:href=\"#\" xlink:title=\"reset_timer(self) &#45;&gt; None\">\n",
       "<text text-anchor=\"start\" x=\"268.5\" y=\"-7.5\" font-family=\"'Fira Mono', 'Source Code Pro', 'Courier', monospace\" font-size=\"10.00\" fill=\"#000000\">reset_timer()</text>\n",
       "</a>\n",
       "</g>\n",
       "</a>\n",
       "</g>\n",
       "</a>\n",
       "</g>\n",
       "</g>\n",
       "<!-- MetricCollector -->\n",
       "<g id=\"node7\" class=\"node\">\n",
       "<title>MetricCollector</title>\n",
       "<g id=\"a_node7\"><a xlink:href=\"#\" xlink:title=\"class MetricCollector:&#10;Abstract superclass for collecting line&#45;specific metrics\">\n",
       "<polygon fill=\"none\" stroke=\"#000000\" points=\"251.5,-145.5 251.5,-220.5 373.5,-220.5 373.5,-145.5 251.5,-145.5\"/>\n",
       "<text text-anchor=\"start\" x=\"259.5\" y=\"-206.3\" font-family=\"Raleway, Helvetica, Arial, sans-serif\" font-weight=\"bold\" font-size=\"14.00\" fill=\"#6a0dad\">MetricCollector</text>\n",
       "<polyline fill=\"none\" stroke=\"#000000\" points=\"251.5,-197.5 373.5,-197.5 \"/>\n",
       "<g id=\"a_node7_53\"><a xlink:href=\"#\" xlink:title=\"MetricCollector\">\n",
       "<g id=\"a_node7_54\"><a xlink:href=\"#\" xlink:title=\"all_metrics(self, func:str) &#45;&gt; List[float]:&#10;Return all metric for a function `func`.\">\n",
       "<text text-anchor=\"start\" x=\"273.5\" y=\"-186.5\" font-family=\"'Fira Mono', 'Source Code Pro', 'Courier', monospace\" font-style=\"italic\" font-size=\"10.00\" fill=\"#000000\">all_metrics()</text>\n",
       "</a>\n",
       "</g>\n",
       "<g id=\"a_node7_55\"><a xlink:href=\"#\" xlink:title=\"maximum(self, func:str) &#45;&gt; float\">\n",
       "<text text-anchor=\"start\" x=\"273.5\" y=\"-174.5\" font-family=\"'Fira Mono', 'Source Code Pro', 'Courier', monospace\" font-size=\"10.00\" fill=\"#000000\">maximum()</text>\n",
       "</a>\n",
       "</g>\n",
       "<g id=\"a_node7_56\"><a xlink:href=\"#\" xlink:title=\"metric(self, event:Any) &#45;&gt; Union[float, NoneType]:&#10;Return a metric for an event, or none.\">\n",
       "<text text-anchor=\"start\" x=\"273.5\" y=\"-164.5\" font-family=\"'Fira Mono', 'Source Code Pro', 'Courier', monospace\" font-style=\"italic\" font-size=\"10.00\" fill=\"#000000\">metric()</text>\n",
       "</a>\n",
       "</g>\n",
       "<g id=\"a_node7_57\"><a xlink:href=\"#\" xlink:title=\"total(self, func:str) &#45;&gt; float\">\n",
       "<text text-anchor=\"start\" x=\"273.5\" y=\"-152.5\" font-family=\"'Fira Mono', 'Source Code Pro', 'Courier', monospace\" font-size=\"10.00\" fill=\"#000000\">total()</text>\n",
       "</a>\n",
       "</g>\n",
       "</a>\n",
       "</g>\n",
       "</a>\n",
       "</g>\n",
       "</g>\n",
       "<!-- TimeCollector&#45;&gt;MetricCollector -->\n",
       "<g id=\"edge5\" class=\"edge\">\n",
       "<title>TimeCollector&#45;&gt;MetricCollector</title>\n",
       "<path fill=\"none\" stroke=\"#000000\" d=\"M309.3193,-97.7561C309.7774,-110.0332 310.2685,-123.195 310.7244,-135.4139\"/>\n",
       "<polygon fill=\"none\" stroke=\"#000000\" points=\"307.2271,-135.5534 311.0976,-145.4159 314.2222,-135.2923 307.2271,-135.5534\"/>\n",
       "</g>\n",
       "<!-- CoverageCollector -->\n",
       "<g id=\"node8\" class=\"node\">\n",
       "<title>CoverageCollector</title>\n",
       "<g id=\"a_node8\"><a xlink:href=\"StatisticalDebugger.ipynb\" xlink:title=\"class CoverageCollector:&#10;A class to record covered locations during execution.\">\n",
       "<polygon fill=\"none\" stroke=\"#000000\" points=\"240.5,-279.5 240.5,-365.5 384.5,-365.5 384.5,-279.5 240.5,-279.5\"/>\n",
       "<text text-anchor=\"start\" x=\"248.5\" y=\"-351.3\" font-family=\"Raleway, Helvetica, Arial, sans-serif\" font-weight=\"bold\" font-size=\"14.00\" fill=\"#6a0dad\">CoverageCollector</text>\n",
       "<polyline fill=\"none\" stroke=\"#000000\" points=\"240.5,-342.5 384.5,-342.5 \"/>\n",
       "<g id=\"a_node8_58\"><a xlink:href=\"#\" xlink:title=\"CoverageCollector\">\n",
       "<g id=\"a_node8_59\"><a xlink:href=\"StatisticalDebugger.ipynb\" xlink:title=\"__init__(self) &#45;&gt; None:&#10;Constructor.\">\n",
       "<text text-anchor=\"start\" x=\"255.5\" y=\"-331\" font-family=\"'Fira Mono', 'Source Code Pro', 'Courier', monospace\" font-style=\"italic\" font-size=\"10.00\" fill=\"#000000\">__init__()</text>\n",
       "</a>\n",
       "</g>\n",
       "<g id=\"a_node8_60\"><a xlink:href=\"StatisticalDebugger.ipynb\" xlink:title=\"collect(self, frame:frame, event:str, arg:Any) &#45;&gt; None:&#10;Save coverage for an observed event.\">\n",
       "<text text-anchor=\"start\" x=\"255.5\" y=\"-320\" font-family=\"'Fira Mono', 'Source Code Pro', 'Courier', monospace\" font-style=\"italic\" font-size=\"10.00\" fill=\"#000000\">collect()</text>\n",
       "</a>\n",
       "</g>\n",
       "<g id=\"a_node8_61\"><a xlink:href=\"StatisticalDebugger.ipynb\" xlink:title=\"coverage(self) &#45;&gt; Set[Tuple[Callable, int]]:&#10;Return a set (function, lineno) with all locations covered.\">\n",
       "<text text-anchor=\"start\" x=\"255.5\" y=\"-309\" font-family=\"'Fira Mono', 'Source Code Pro', 'Courier', monospace\" font-style=\"italic\" font-size=\"10.00\" fill=\"#000000\">coverage()</text>\n",
       "</a>\n",
       "</g>\n",
       "<g id=\"a_node8_62\"><a xlink:href=\"StatisticalDebugger.ipynb\" xlink:title=\"covered_functions(self) &#45;&gt; Set[Callable]:&#10;Return a set with all functions covered.\">\n",
       "<text text-anchor=\"start\" x=\"255.5\" y=\"-298\" font-family=\"'Fira Mono', 'Source Code Pro', 'Courier', monospace\" font-style=\"italic\" font-size=\"10.00\" fill=\"#000000\">covered_functions()</text>\n",
       "</a>\n",
       "</g>\n",
       "<g id=\"a_node8_63\"><a xlink:href=\"StatisticalDebugger.ipynb\" xlink:title=\"events(self) &#45;&gt; Set[Tuple[str, int]]:&#10;Return the set of locations covered.&#10;Each location comes as a pair (`function_name`, `lineno`).\">\n",
       "<text text-anchor=\"start\" x=\"255.5\" y=\"-287\" font-family=\"'Fira Mono', 'Source Code Pro', 'Courier', monospace\" font-style=\"italic\" font-size=\"10.00\" fill=\"#000000\">events()</text>\n",
       "</a>\n",
       "</g>\n",
       "</a>\n",
       "</g>\n",
       "</a>\n",
       "</g>\n",
       "</g>\n",
       "<!-- MetricCollector&#45;&gt;CoverageCollector -->\n",
       "<g id=\"edge6\" class=\"edge\">\n",
       "<title>MetricCollector&#45;&gt;CoverageCollector</title>\n",
       "<path fill=\"none\" stroke=\"#000000\" d=\"M312.5,-220.7507C312.5,-235.5776 312.5,-252.8674 312.5,-268.9426\"/>\n",
       "<polygon fill=\"none\" stroke=\"#000000\" points=\"309.0001,-269.2928 312.5,-279.2929 316.0001,-269.2929 309.0001,-269.2928\"/>\n",
       "</g>\n",
       "<!-- Collector -->\n",
       "<g id=\"node9\" class=\"node\">\n",
       "<title>Collector</title>\n",
       "<g id=\"a_node9\"><a xlink:href=\"StatisticalDebugger.ipynb\" xlink:title=\"class Collector:&#10;A class to record events during execution.\">\n",
       "<polygon fill=\"none\" stroke=\"#000000\" points=\"188,-413.5 188,-598.5 331,-598.5 331,-413.5 188,-413.5\"/>\n",
       "<text text-anchor=\"start\" x=\"228\" y=\"-584.3\" font-family=\"Raleway, Helvetica, Arial, sans-serif\" font-weight=\"bold\" font-size=\"14.00\" fill=\"#6a0dad\">Collector</text>\n",
       "<polyline fill=\"none\" stroke=\"#000000\" points=\"188,-575.5 331,-575.5 \"/>\n",
       "<g id=\"a_node9_64\"><a xlink:href=\"#\" xlink:title=\"Collector\">\n",
       "<g id=\"a_node9_65\"><a xlink:href=\"StatisticalDebugger.ipynb\" xlink:title=\"__exit__(self, exc_tp:Type, exc_value:BaseException, exc_traceback:traceback) &#45;&gt; Union[bool, NoneType]:&#10;Exit the `with` block.\">\n",
       "<text text-anchor=\"start\" x=\"196.5\" y=\"-564.5\" font-family=\"'Fira Mono', 'Source Code Pro', 'Courier', monospace\" font-style=\"italic\" font-size=\"10.00\" fill=\"#000000\">__exit__()</text>\n",
       "</a>\n",
       "</g>\n",
       "<g id=\"a_node9_66\"><a xlink:href=\"StatisticalDebugger.ipynb\" xlink:title=\"__init__(self) &#45;&gt; None:&#10;Constructor.\">\n",
       "<text text-anchor=\"start\" x=\"196.5\" y=\"-553.5\" font-family=\"'Fira Mono', 'Source Code Pro', 'Courier', monospace\" font-style=\"italic\" font-size=\"10.00\" fill=\"#000000\">__init__()</text>\n",
       "</a>\n",
       "</g>\n",
       "<g id=\"a_node9_67\"><a xlink:href=\"StatisticalDebugger.ipynb\" xlink:title=\"__repr__(self) &#45;&gt; str:&#10;Return a string representation of the collector\">\n",
       "<text text-anchor=\"start\" x=\"196.5\" y=\"-541.5\" font-family=\"'Fira Mono', 'Source Code Pro', 'Courier', monospace\" font-size=\"10.00\" fill=\"#000000\">__repr__()</text>\n",
       "</a>\n",
       "</g>\n",
       "<g id=\"a_node9_68\"><a xlink:href=\"StatisticalDebugger.ipynb\" xlink:title=\"add_items_to_ignore(self, items_to_ignore:List[Union[Type, Callable]]) &#45;&gt; None:&#10;Define additional classes and functions to ignore during collection&#10;(typically `Debugger` classes using these collectors).\">\n",
       "<text text-anchor=\"start\" x=\"196.5\" y=\"-530.5\" font-family=\"'Fira Mono', 'Source Code Pro', 'Courier', monospace\" font-size=\"10.00\" fill=\"#000000\">add_items_to_ignore()</text>\n",
       "</a>\n",
       "</g>\n",
       "<g id=\"a_node9_69\"><a xlink:href=\"StatisticalDebugger.ipynb\" xlink:title=\"args(self) &#45;&gt; Dict[str, Any]:&#10;Return a dict of argument names and values from the first call\">\n",
       "<text text-anchor=\"start\" x=\"196.5\" y=\"-519.5\" font-family=\"'Fira Mono', 'Source Code Pro', 'Courier', monospace\" font-size=\"10.00\" fill=\"#000000\">args()</text>\n",
       "</a>\n",
       "</g>\n",
       "<g id=\"a_node9_70\"><a xlink:href=\"StatisticalDebugger.ipynb\" xlink:title=\"argstring(self) &#45;&gt; str:&#10;Return the list of arguments from the first call,&#10;as a printable string\">\n",
       "<text text-anchor=\"start\" x=\"196.5\" y=\"-508.5\" font-family=\"'Fira Mono', 'Source Code Pro', 'Courier', monospace\" font-size=\"10.00\" fill=\"#000000\">argstring()</text>\n",
       "</a>\n",
       "</g>\n",
       "<g id=\"a_node9_71\"><a xlink:href=\"StatisticalDebugger.ipynb\" xlink:title=\"collect(self, frame:frame, event:str, arg:Any) &#45;&gt; None:&#10;Collector function. To be overloaded in subclasses.\">\n",
       "<text text-anchor=\"start\" x=\"196.5\" y=\"-498.5\" font-family=\"'Fira Mono', 'Source Code Pro', 'Courier', monospace\" font-style=\"italic\" font-size=\"10.00\" fill=\"#000000\">collect()</text>\n",
       "</a>\n",
       "</g>\n",
       "<g id=\"a_node9_72\"><a xlink:href=\"StatisticalDebugger.ipynb\" xlink:title=\"coverage(self) &#45;&gt; Set[Tuple[Callable, int]]:&#10;Return a set (function, lineno) with locations covered.&#10;To be overloaded in subclasses.\">\n",
       "<text text-anchor=\"start\" x=\"196.5\" y=\"-487.5\" font-family=\"'Fira Mono', 'Source Code Pro', 'Courier', monospace\" font-style=\"italic\" font-size=\"10.00\" fill=\"#000000\">coverage()</text>\n",
       "</a>\n",
       "</g>\n",
       "<g id=\"a_node9_73\"><a xlink:href=\"StatisticalDebugger.ipynb\" xlink:title=\"covered_functions(self) &#45;&gt; Set[Callable]:&#10;Set of covered functions. To be overloaded in subclasses.\">\n",
       "<text text-anchor=\"start\" x=\"196.5\" y=\"-476.5\" font-family=\"'Fira Mono', 'Source Code Pro', 'Courier', monospace\" font-style=\"italic\" font-size=\"10.00\" fill=\"#000000\">covered_functions()</text>\n",
       "</a>\n",
       "</g>\n",
       "<g id=\"a_node9_74\"><a xlink:href=\"StatisticalDebugger.ipynb\" xlink:title=\"events(self) &#45;&gt; Set:&#10;Return a collection of events. To be overridden in subclasses.\">\n",
       "<text text-anchor=\"start\" x=\"196.5\" y=\"-465.5\" font-family=\"'Fira Mono', 'Source Code Pro', 'Courier', monospace\" font-style=\"italic\" font-size=\"10.00\" fill=\"#000000\">events()</text>\n",
       "</a>\n",
       "</g>\n",
       "<g id=\"a_node9_75\"><a xlink:href=\"StatisticalDebugger.ipynb\" xlink:title=\"exception(self) &#45;&gt; Union[Type, NoneType]:&#10;Return the exception class from the first call,&#10;or None if no exception was raised.\">\n",
       "<text text-anchor=\"start\" x=\"196.5\" y=\"-453.5\" font-family=\"'Fira Mono', 'Source Code Pro', 'Courier', monospace\" font-size=\"10.00\" fill=\"#000000\">exception()</text>\n",
       "</a>\n",
       "</g>\n",
       "<g id=\"a_node9_76\"><a xlink:href=\"StatisticalDebugger.ipynb\" xlink:title=\"function(self) &#45;&gt; Callable:&#10;Return the function from the first call, as a function object\">\n",
       "<text text-anchor=\"start\" x=\"196.5\" y=\"-442.5\" font-family=\"'Fira Mono', 'Source Code Pro', 'Courier', monospace\" font-size=\"10.00\" fill=\"#000000\">function()</text>\n",
       "</a>\n",
       "</g>\n",
       "<g id=\"a_node9_77\"><a xlink:href=\"StatisticalDebugger.ipynb\" xlink:title=\"id(self) &#45;&gt; str:&#10;Return an identifier for the collector,&#10;created from the first call\">\n",
       "<text text-anchor=\"start\" x=\"196.5\" y=\"-431.5\" font-family=\"'Fira Mono', 'Source Code Pro', 'Courier', monospace\" font-size=\"10.00\" fill=\"#000000\">id()</text>\n",
       "</a>\n",
       "</g>\n",
       "<g id=\"a_node9_78\"><a xlink:href=\"StatisticalDebugger.ipynb\" xlink:title=\"traceit(self, frame:frame, event:str, arg:Any) &#45;&gt; None:&#10;Tracing function.&#10;Saves the first function and calls collect().\">\n",
       "<text text-anchor=\"start\" x=\"196.5\" y=\"-421.5\" font-family=\"'Fira Mono', 'Source Code Pro', 'Courier', monospace\" font-style=\"italic\" font-size=\"10.00\" fill=\"#000000\">traceit()</text>\n",
       "</a>\n",
       "</g>\n",
       "</a>\n",
       "</g>\n",
       "</a>\n",
       "</g>\n",
       "</g>\n",
       "<!-- CoverageCollector&#45;&gt;Collector -->\n",
       "<g id=\"edge7\" class=\"edge\">\n",
       "<title>CoverageCollector&#45;&gt;Collector</title>\n",
       "<path fill=\"none\" stroke=\"#000000\" d=\"M300.0739,-365.5226C296.7255,-377.1155 292.9548,-390.1706 289.0954,-403.533\"/>\n",
       "<polygon fill=\"none\" stroke=\"#000000\" points=\"285.6865,-402.7223 286.2742,-413.3008 292.4116,-404.6647 285.6865,-402.7223\"/>\n",
       "</g>\n",
       "<!-- StackInspector -->\n",
       "<g id=\"node11\" class=\"node\">\n",
       "<title>StackInspector</title>\n",
       "<g id=\"a_node11\"><a xlink:href=\"StackInspector.ipynb\" xlink:title=\"class StackInspector:&#10;Provide functions to inspect the stack\">\n",
       "<polygon fill=\"none\" stroke=\"#000000\" points=\"226,-857.5 226,-1028.5 393,-1028.5 393,-857.5 226,-857.5\"/>\n",
       "<text text-anchor=\"start\" x=\"258.5\" y=\"-1014.3\" font-family=\"Raleway, Helvetica, Arial, sans-serif\" font-weight=\"bold\" font-size=\"14.00\" fill=\"#6a0dad\">StackInspector</text>\n",
       "<polyline fill=\"none\" stroke=\"#000000\" points=\"226,-1005.5 393,-1005.5 \"/>\n",
       "<g id=\"a_node11_79\"><a xlink:href=\"#\" xlink:title=\"StackInspector\">\n",
       "<g id=\"a_node11_80\"><a xlink:href=\"StackInspector.ipynb\" xlink:title=\"_generated_function_cache = {(&#39;remove_html_markup&#39;, 238): &lt;function remove_html_markup at 0x7fa8000f3510&gt;}\">\n",
       "<text text-anchor=\"start\" x=\"234.5\" y=\"-993\" font-family=\"'Fira Mono', 'Source Code Pro', 'Courier', monospace\" font-size=\"10.00\" fill=\"#000000\">_generated_function_cache</text>\n",
       "</a>\n",
       "</g>\n",
       "</a>\n",
       "</g>\n",
       "<polyline fill=\"none\" stroke=\"#000000\" points=\"226,-986.5 393,-986.5 \"/>\n",
       "<g id=\"a_node11_81\"><a xlink:href=\"#\" xlink:title=\"StackInspector\">\n",
       "<g id=\"a_node11_82\"><a xlink:href=\"StackInspector.ipynb\" xlink:title=\"caller_frame(self) &#45;&gt; frame:&#10;Return the frame of the caller.\">\n",
       "<text text-anchor=\"start\" x=\"252.5\" y=\"-974\" font-family=\"'Fira Mono', 'Source Code Pro', 'Courier', monospace\" font-size=\"10.00\" fill=\"#000000\">caller_frame()</text>\n",
       "</a>\n",
       "</g>\n",
       "<g id=\"a_node11_83\"><a xlink:href=\"StackInspector.ipynb\" xlink:title=\"caller_function(self) &#45;&gt; Callable:&#10;Return the calling function\">\n",
       "<text text-anchor=\"start\" x=\"252.5\" y=\"-963\" font-family=\"'Fira Mono', 'Source Code Pro', 'Courier', monospace\" font-size=\"10.00\" fill=\"#000000\">caller_function()</text>\n",
       "</a>\n",
       "</g>\n",
       "<g id=\"a_node11_84\"><a xlink:href=\"StackInspector.ipynb\" xlink:title=\"caller_globals(self) &#45;&gt; Dict[str, Any]:&#10;Return the globals() environment of the caller.\">\n",
       "<text text-anchor=\"start\" x=\"252.5\" y=\"-952\" font-family=\"'Fira Mono', 'Source Code Pro', 'Courier', monospace\" font-size=\"10.00\" fill=\"#000000\">caller_globals()</text>\n",
       "</a>\n",
       "</g>\n",
       "<g id=\"a_node11_85\"><a xlink:href=\"StackInspector.ipynb\" xlink:title=\"caller_locals(self) &#45;&gt; Dict[str, Any]:&#10;Return the locals() environment of the caller.\">\n",
       "<text text-anchor=\"start\" x=\"252.5\" y=\"-941\" font-family=\"'Fira Mono', 'Source Code Pro', 'Courier', monospace\" font-size=\"10.00\" fill=\"#000000\">caller_locals()</text>\n",
       "</a>\n",
       "</g>\n",
       "<g id=\"a_node11_86\"><a xlink:href=\"StackInspector.ipynb\" xlink:title=\"caller_location(self) &#45;&gt; Tuple[Callable, int]:&#10;Return the location (func, lineno) of the caller.\">\n",
       "<text text-anchor=\"start\" x=\"252.5\" y=\"-930\" font-family=\"'Fira Mono', 'Source Code Pro', 'Courier', monospace\" font-size=\"10.00\" fill=\"#000000\">caller_location()</text>\n",
       "</a>\n",
       "</g>\n",
       "<g id=\"a_node11_87\"><a xlink:href=\"StackInspector.ipynb\" xlink:title=\"create_function(self, frame:frame) &#45;&gt; Callable:&#10;Create function for given frame\">\n",
       "<text text-anchor=\"start\" x=\"252.5\" y=\"-919\" font-family=\"'Fira Mono', 'Source Code Pro', 'Courier', monospace\" font-size=\"10.00\" fill=\"#000000\">create_function()</text>\n",
       "</a>\n",
       "</g>\n",
       "<g id=\"a_node11_88\"><a xlink:href=\"StackInspector.ipynb\" xlink:title=\"is_internal_error(self, exc_tp:Type, exc_value:BaseException, exc_traceback:traceback) &#45;&gt; bool:&#10;Return True if exception was raised from `StackInspector` or a subclass.\">\n",
       "<text text-anchor=\"start\" x=\"252.5\" y=\"-908\" font-family=\"'Fira Mono', 'Source Code Pro', 'Courier', monospace\" font-size=\"10.00\" fill=\"#000000\">is_internal_error()</text>\n",
       "</a>\n",
       "</g>\n",
       "<g id=\"a_node11_89\"><a xlink:href=\"StackInspector.ipynb\" xlink:title=\"our_frame(self, frame:frame) &#45;&gt; bool:&#10;Return true if `frame` is in the current (inspecting) class.\">\n",
       "<text text-anchor=\"start\" x=\"252.5\" y=\"-897\" font-family=\"'Fira Mono', 'Source Code Pro', 'Courier', monospace\" font-size=\"10.00\" fill=\"#000000\">our_frame()</text>\n",
       "</a>\n",
       "</g>\n",
       "<g id=\"a_node11_90\"><a xlink:href=\"StackInspector.ipynb\" xlink:title=\"search_frame(self, name:str, frame:Union[frame, NoneType]=None) &#45;&gt; Tuple[Union[frame, NoneType], Union[Callable, NoneType]]:&#10;Return a pair (`frame`, `item`)&#10;in which the function `name` is defined as `item`.\">\n",
       "<text text-anchor=\"start\" x=\"252.5\" y=\"-886\" font-family=\"'Fira Mono', 'Source Code Pro', 'Courier', monospace\" font-size=\"10.00\" fill=\"#000000\">search_frame()</text>\n",
       "</a>\n",
       "</g>\n",
       "<g id=\"a_node11_91\"><a xlink:href=\"StackInspector.ipynb\" xlink:title=\"search_func(self, name:str, frame:Union[frame, NoneType]=None) &#45;&gt; Union[Callable, NoneType]:&#10;Search in callers for a definition of the function `name`\">\n",
       "<text text-anchor=\"start\" x=\"252.5\" y=\"-875\" font-family=\"'Fira Mono', 'Source Code Pro', 'Courier', monospace\" font-size=\"10.00\" fill=\"#000000\">search_func()</text>\n",
       "</a>\n",
       "</g>\n",
       "<g id=\"a_node11_92\"><a xlink:href=\"StackInspector.ipynb\" xlink:title=\"unknown(self) &#45;&gt; None\">\n",
       "<text text-anchor=\"start\" x=\"252.5\" y=\"-864\" font-family=\"'Fira Mono', 'Source Code Pro', 'Courier', monospace\" font-size=\"10.00\" fill=\"#000000\">unknown()</text>\n",
       "</a>\n",
       "</g>\n",
       "</a>\n",
       "</g>\n",
       "</a>\n",
       "</g>\n",
       "</g>\n",
       "<!-- CoverageCollector&#45;&gt;StackInspector -->\n",
       "<g id=\"edge10\" class=\"edge\">\n",
       "<title>CoverageCollector&#45;&gt;StackInspector</title>\n",
       "<path fill=\"none\" stroke=\"#000000\" d=\"M328.0265,-365.673C332.6376,-380.4778 337.0962,-397.2785 339.5,-413 366.9079,-592.255 366.3825,-641.2413 342.5,-821 341.3557,-829.6127 339.7759,-838.4799 337.9226,-847.3169\"/>\n",
       "<polygon fill=\"none\" stroke=\"#000000\" points=\"334.4644,-846.7461 335.7227,-857.266 341.2993,-848.2575 334.4644,-846.7461\"/>\n",
       "</g>\n",
       "<!-- Tracer -->\n",
       "<g id=\"node10\" class=\"node\">\n",
       "<title>Tracer</title>\n",
       "<g id=\"a_node10\"><a xlink:href=\"Tracer.ipynb\" xlink:title=\"class Tracer:&#10;A class for tracing a piece of code. Use as `with Tracer(): block()`\">\n",
       "<polygon fill=\"none\" stroke=\"#000000\" points=\"179,-668.5 179,-787.5 334,-787.5 334,-668.5 179,-668.5\"/>\n",
       "<text text-anchor=\"start\" x=\"234.5\" y=\"-773.3\" font-family=\"Raleway, Helvetica, Arial, sans-serif\" font-weight=\"bold\" font-size=\"14.00\" fill=\"#6a0dad\">Tracer</text>\n",
       "<polyline fill=\"none\" stroke=\"#000000\" points=\"179,-764.5 334,-764.5 \"/>\n",
       "<g id=\"a_node10_93\"><a xlink:href=\"#\" xlink:title=\"Tracer\">\n",
       "<g id=\"a_node10_94\"><a xlink:href=\"Tracer.ipynb\" xlink:title=\"__enter__(self) &#45;&gt; Any:&#10;Called at begin of `with` block. Turn tracing on.\">\n",
       "<text text-anchor=\"start\" x=\"187.5\" y=\"-753.5\" font-family=\"'Fira Mono', 'Source Code Pro', 'Courier', monospace\" font-style=\"italic\" font-size=\"10.00\" fill=\"#000000\">__enter__()</text>\n",
       "</a>\n",
       "</g>\n",
       "<g id=\"a_node10_95\"><a xlink:href=\"Tracer.ipynb\" xlink:title=\"__exit__(self, exc_tp:Type, exc_value:BaseException, exc_traceback:traceback) &#45;&gt; Union[bool, NoneType]:&#10;Called at end of `with` block. Turn tracing off.&#10;Return `None` if ok, not `None` if internal error.\">\n",
       "<text text-anchor=\"start\" x=\"187.5\" y=\"-742.5\" font-family=\"'Fira Mono', 'Source Code Pro', 'Courier', monospace\" font-style=\"italic\" font-size=\"10.00\" fill=\"#000000\">__exit__()</text>\n",
       "</a>\n",
       "</g>\n",
       "<g id=\"a_node10_96\"><a xlink:href=\"Tracer.ipynb\" xlink:title=\"__init__(self, file:TextIO=&lt;ipykernel.iostream.OutStream object at 0x7fa89d91c278&gt;) &#45;&gt; None:&#10;Create a new tracer.&#10;If `file` is given, output to `file` instead of stdout.\">\n",
       "<text text-anchor=\"start\" x=\"187.5\" y=\"-731.5\" font-family=\"'Fira Mono', 'Source Code Pro', 'Courier', monospace\" font-style=\"italic\" font-size=\"10.00\" fill=\"#000000\">__init__()</text>\n",
       "</a>\n",
       "</g>\n",
       "<g id=\"a_node10_97\"><a xlink:href=\"Tracer.ipynb\" xlink:title=\"_traceit(self, frame:frame, event:str, arg:Any) &#45;&gt; Union[Callable, NoneType]:&#10;Internal tracing function.\">\n",
       "<text text-anchor=\"start\" x=\"187.5\" y=\"-719.5\" font-family=\"'Fira Mono', 'Source Code Pro', 'Courier', monospace\" font-size=\"10.00\" fill=\"#000000\">_traceit()</text>\n",
       "</a>\n",
       "</g>\n",
       "<g id=\"a_node10_98\"><a xlink:href=\"Tracer.ipynb\" xlink:title=\"changed_vars(self, new_vars:Dict[str, Any]) &#45;&gt; Dict[str, Any]:&#10;Track changed variables, based on `new_vars` observed.\">\n",
       "<text text-anchor=\"start\" x=\"187.5\" y=\"-708.5\" font-family=\"'Fira Mono', 'Source Code Pro', 'Courier', monospace\" font-size=\"10.00\" fill=\"#000000\">changed_vars()</text>\n",
       "</a>\n",
       "</g>\n",
       "<g id=\"a_node10_99\"><a xlink:href=\"Tracer.ipynb\" xlink:title=\"log(self, *objects:Any, sep:str=&#39; &#39;, end:str=&#39;\\n&#39;, flush:bool=True) &#45;&gt; None:&#10;Like `print()`, but always sending to `file` given at initialization,&#10;and flushing by default.\">\n",
       "<text text-anchor=\"start\" x=\"187.5\" y=\"-697.5\" font-family=\"'Fira Mono', 'Source Code Pro', 'Courier', monospace\" font-size=\"10.00\" fill=\"#000000\">log()</text>\n",
       "</a>\n",
       "</g>\n",
       "<g id=\"a_node10_100\"><a xlink:href=\"Tracer.ipynb\" xlink:title=\"print_debugger_status(self, frame:frame, event:str, arg:Any) &#45;&gt; None:&#10;Show current source line and changed vars\">\n",
       "<text text-anchor=\"start\" x=\"187.5\" y=\"-686.5\" font-family=\"'Fira Mono', 'Source Code Pro', 'Courier', monospace\" font-size=\"10.00\" fill=\"#000000\">print_debugger_status()</text>\n",
       "</a>\n",
       "</g>\n",
       "<g id=\"a_node10_101\"><a xlink:href=\"Tracer.ipynb\" xlink:title=\"traceit(self, frame:frame, event:str, arg:Any) &#45;&gt; None:&#10;Tracing function; called at every line. To be overloaded in subclasses.\">\n",
       "<text text-anchor=\"start\" x=\"187.5\" y=\"-676.5\" font-family=\"'Fira Mono', 'Source Code Pro', 'Courier', monospace\" font-style=\"italic\" font-size=\"10.00\" fill=\"#000000\">traceit()</text>\n",
       "</a>\n",
       "</g>\n",
       "</a>\n",
       "</g>\n",
       "</a>\n",
       "</g>\n",
       "</g>\n",
       "<!-- Collector&#45;&gt;Tracer -->\n",
       "<g id=\"edge8\" class=\"edge\">\n",
       "<title>Collector&#45;&gt;Tracer</title>\n",
       "<path fill=\"none\" stroke=\"#000000\" d=\"M258.2495,-598.5404C257.9796,-618.5084 257.6987,-639.2964 257.443,-658.2211\"/>\n",
       "<polygon fill=\"none\" stroke=\"#000000\" points=\"253.9433,-658.1822 257.3077,-668.2286 260.9426,-658.2768 253.9433,-658.1822\"/>\n",
       "</g>\n",
       "<!-- Tracer&#45;&gt;StackInspector -->\n",
       "<g id=\"edge9\" class=\"edge\">\n",
       "<title>Tracer&#45;&gt;StackInspector</title>\n",
       "<path fill=\"none\" stroke=\"#000000\" d=\"M271.1931,-787.604C275.7476,-806.08 280.8871,-826.9287 285.8877,-847.2142\"/>\n",
       "<polygon fill=\"none\" stroke=\"#000000\" points=\"282.5364,-848.2429 288.3282,-857.1145 289.333,-846.5674 282.5364,-848.2429\"/>\n",
       "</g>\n",
       "<!-- HitCollector -->\n",
       "<g id=\"node12\" class=\"node\">\n",
       "<title>HitCollector</title>\n",
       "<g id=\"a_node12\"><a xlink:href=\"#\" xlink:title=\"class HitCollector:&#10;Collect how often a line is executed\">\n",
       "<polygon fill=\"none\" stroke=\"#000000\" points=\"382.5,-11.5 382.5,-86.5 480.5,-86.5 480.5,-11.5 382.5,-11.5\"/>\n",
       "<text text-anchor=\"start\" x=\"390.5\" y=\"-72.3\" font-family=\"Raleway, Helvetica, Arial, sans-serif\" font-weight=\"bold\" font-size=\"14.00\" fill=\"#6a0dad\">HitCollector</text>\n",
       "<polyline fill=\"none\" stroke=\"#000000\" points=\"382.5,-63.5 480.5,-63.5 \"/>\n",
       "<g id=\"a_node12_102\"><a xlink:href=\"#\" xlink:title=\"HitCollector\">\n",
       "<g id=\"a_node12_103\"><a xlink:href=\"#\" xlink:title=\"__init__(self) &#45;&gt; None:&#10;Constructor.\">\n",
       "<text text-anchor=\"start\" x=\"392.5\" y=\"-52.5\" font-family=\"'Fira Mono', 'Source Code Pro', 'Courier', monospace\" font-style=\"italic\" font-size=\"10.00\" fill=\"#000000\">__init__()</text>\n",
       "</a>\n",
       "</g>\n",
       "<g id=\"a_node12_104\"><a xlink:href=\"#\" xlink:title=\"all_metrics(self, func:str) &#45;&gt; List[float]:&#10;Return all metric for a function `func`.\">\n",
       "<text text-anchor=\"start\" x=\"392.5\" y=\"-41.5\" font-family=\"'Fira Mono', 'Source Code Pro', 'Courier', monospace\" font-style=\"italic\" font-size=\"10.00\" fill=\"#000000\">all_metrics()</text>\n",
       "</a>\n",
       "</g>\n",
       "<g id=\"a_node12_105\"><a xlink:href=\"#\" xlink:title=\"collect(self, frame:frame, event:str, arg:Any) &#45;&gt; None:&#10;Save coverage for an observed event.\">\n",
       "<text text-anchor=\"start\" x=\"392.5\" y=\"-30.5\" font-family=\"'Fira Mono', 'Source Code Pro', 'Courier', monospace\" font-style=\"italic\" font-size=\"10.00\" fill=\"#000000\">collect()</text>\n",
       "</a>\n",
       "</g>\n",
       "<g id=\"a_node12_106\"><a xlink:href=\"#\" xlink:title=\"metric(self, location:Tuple[str, int]) &#45;&gt; Union[int, NoneType]:&#10;Return a metric for an event, or none.\">\n",
       "<text text-anchor=\"start\" x=\"392.5\" y=\"-19.5\" font-family=\"'Fira Mono', 'Source Code Pro', 'Courier', monospace\" font-style=\"italic\" font-size=\"10.00\" fill=\"#000000\">metric()</text>\n",
       "</a>\n",
       "</g>\n",
       "</a>\n",
       "</g>\n",
       "</a>\n",
       "</g>\n",
       "</g>\n",
       "<!-- HitCollector&#45;&gt;MetricCollector -->\n",
       "<g id=\"edge11\" class=\"edge\">\n",
       "<title>HitCollector&#45;&gt;MetricCollector</title>\n",
       "<path fill=\"none\" stroke=\"#000000\" d=\"M398.0352,-86.6831C384.0929,-102.3828 367.7749,-120.7576 353.151,-137.2249\"/>\n",
       "<polygon fill=\"none\" stroke=\"#000000\" points=\"350.1491,-135.3342 346.1259,-145.1355 355.3832,-139.9824 350.1491,-135.3342\"/>\n",
       "</g>\n",
       "<!-- Legend -->\n",
       "<g id=\"node13\" class=\"node\">\n",
       "<title>Legend</title>\n",
       "<text text-anchor=\"start\" x=\"498.5\" y=\"-66.5\" font-family=\"Raleway, Helvetica, Arial, sans-serif\" font-weight=\"bold\" font-size=\"10.00\" fill=\"#6a0dad\">Legend</text>\n",
       "<text text-anchor=\"start\" x=\"498.5\" y=\"-56.5\" font-family=\"Raleway, Helvetica, Arial, sans-serif\" font-size=\"10.00\" fill=\"#000000\">• </text>\n",
       "<text text-anchor=\"start\" x=\"505.5\" y=\"-56.5\" font-family=\"'Fira Mono', 'Source Code Pro', 'Courier', monospace\" font-weight=\"bold\" font-size=\"8.00\" fill=\"#000000\">public_method()</text>\n",
       "<text text-anchor=\"start\" x=\"498.5\" y=\"-46.5\" font-family=\"Raleway, Helvetica, Arial, sans-serif\" font-size=\"10.00\" fill=\"#000000\">• </text>\n",
       "<text text-anchor=\"start\" x=\"505.5\" y=\"-46.5\" font-family=\"'Fira Mono', 'Source Code Pro', 'Courier', monospace\" font-size=\"8.00\" fill=\"#000000\">private_method()</text>\n",
       "<text text-anchor=\"start\" x=\"498.5\" y=\"-36.5\" font-family=\"Raleway, Helvetica, Arial, sans-serif\" font-size=\"10.00\" fill=\"#000000\">• </text>\n",
       "<text text-anchor=\"start\" x=\"505.5\" y=\"-36.5\" font-family=\"'Fira Mono', 'Source Code Pro', 'Courier', monospace\" font-style=\"italic\" font-size=\"8.00\" fill=\"#000000\">overloaded_method()</text>\n",
       "<text text-anchor=\"start\" x=\"498.5\" y=\"-27.3\" font-family=\"Helvetica,sans-Serif\" font-size=\"9.00\" fill=\"#000000\">Hover over names to see doc</text>\n",
       "</g>\n",
       "</g>\n",
       "</svg>\n"
      ],
      "text/plain": [
       "<graphviz.dot.Digraph at 0x7fa777c65198>"
      ]
     },
     "execution_count": 1,
     "metadata": {},
     "output_type": "execute_result"
    }
   ],
   "source": [
    "# ignore\n",
    "display_class_hierarchy([PerformanceDebugger, TimeCollector, HitCollector],\n",
    "                        public_methods=[\n",
    "                            PerformanceDebugger.__init__,\n",
    "                        ],\n",
    "                        project='debuggingbook')"
   ]
  },
  {
   "cell_type": "markdown",
   "metadata": {
    "button": false,
    "new_sheet": true,
    "run_control": {
     "read_only": false
    },
    "slideshow": {
     "slide_type": "slide"
    }
   },
   "source": [
    "## Lessons Learned\n",
    "\n",
    "* To measure performance,\n",
    "    * instrument the code such that the time taken per function (or line) is collected; or\n",
    "    * sample the execution that at regular intervals, the active call stack is collected.\n",
    "* To make code performant, focus on efficient algorithms, efficient data types, and sufficient abstraction such that you can replace them by alternatives.\n",
    "* Beyond efficient algorithms and data types, do _not_ optimize before measuring."
   ]
  },
  {
   "cell_type": "markdown",
   "metadata": {
    "button": false,
    "new_sheet": false,
    "run_control": {
     "read_only": false
    },
    "slideshow": {
     "slide_type": "slide"
    }
   },
   "source": [
    "## Next Steps\n",
    "\n",
    "This chapter concludes the part on abstracting failures. The next part will focus on\n",
    "\n",
    "* [repairing code automatically](Repairer.ipynb)"
   ]
  },
  {
   "cell_type": "markdown",
   "metadata": {
    "slideshow": {
     "slide_type": "slide"
    }
   },
   "source": [
    "## Background\n",
    "\n",
    "[Scalene](https://github.com/plasma-umass/scalene) is a high-performance, high-precision CPU, GPU, and memory profiler for Python. In contrast to the standard Python `cProfile` profiler, it uses _sampling_ instead of instrumentation or relying on Python's tracing facilities; and it also supports line-by-line profiling. Scalene might be the tool of choice if you want to go beyond basic profiling.\n",
    "\n",
    "The Wikipedia articles on [profiling](https://en.wikipedia.org/wiki/Profiling_(computer_programming)) and [performance analysis tools](https://en.wikipedia.org/wiki/List_of_performance_analysis_tools) provide several additional resources on profiling tools and how to apply them in practice."
   ]
  },
  {
   "cell_type": "markdown",
   "metadata": {
    "button": false,
    "new_sheet": true,
    "run_control": {
     "read_only": false
    },
    "slideshow": {
     "slide_type": "slide"
    }
   },
   "source": [
    "## Exercises"
   ]
  },
  {
   "cell_type": "markdown",
   "metadata": {
    "button": false,
    "new_sheet": false,
    "run_control": {
     "read_only": false
    },
    "slideshow": {
     "slide_type": "subslide"
    }
   },
   "source": [
    "### Exercise 1: Profiling Memory Usage\n",
    "\n",
    "The Python [`tracemalloc` module](https://docs.python.org/3/library/tracemalloc.html) allows to track memory usage during execution. Between `tracemalloc.start()` and `tracemalloc.end()`, use `tracemalloc.get_traced_memory()` to obtain how much memory is currently being consumed:"
   ]
  },
  {
   "cell_type": "code",
   "execution_count": 58,
   "metadata": {
    "execution": {
     "iopub.execute_input": "2021-05-12T21:03:48.707627Z",
     "iopub.status.busy": "2021-05-12T21:03:48.707037Z",
     "iopub.status.idle": "2021-05-12T21:03:48.711264Z",
     "shell.execute_reply": "2021-05-12T21:03:48.711674Z"
    },
    "slideshow": {
     "slide_type": "skip"
    }
   },
   "outputs": [],
   "source": [
    "import tracemalloc"
   ]
  },
  {
   "cell_type": "code",
   "execution_count": 59,
   "metadata": {
    "execution": {
     "iopub.execute_input": "2021-05-12T21:03:48.716177Z",
     "iopub.status.busy": "2021-05-12T21:03:48.715630Z",
     "iopub.status.idle": "2021-05-12T21:03:48.717921Z",
     "shell.execute_reply": "2021-05-12T21:03:48.718307Z"
    },
    "slideshow": {
     "slide_type": "fragment"
    }
   },
   "outputs": [],
   "source": [
    "tracemalloc.start()"
   ]
  },
  {
   "cell_type": "code",
   "execution_count": 60,
   "metadata": {
    "execution": {
     "iopub.execute_input": "2021-05-12T21:03:48.724003Z",
     "iopub.status.busy": "2021-05-12T21:03:48.723422Z",
     "iopub.status.idle": "2021-05-12T21:03:48.726128Z",
     "shell.execute_reply": "2021-05-12T21:03:48.726516Z"
    },
    "slideshow": {
     "slide_type": "fragment"
    }
   },
   "outputs": [
    {
     "data": {
      "text/plain": [
       "18507"
      ]
     },
     "execution_count": 1,
     "metadata": {},
     "output_type": "execute_result"
    }
   ],
   "source": [
    "current_size, peak_size = tracemalloc.get_traced_memory()\n",
    "current_size"
   ]
  },
  {
   "cell_type": "code",
   "execution_count": 61,
   "metadata": {
    "execution": {
     "iopub.execute_input": "2021-05-12T21:03:48.730752Z",
     "iopub.status.busy": "2021-05-12T21:03:48.730226Z",
     "iopub.status.idle": "2021-05-12T21:03:48.732041Z",
     "shell.execute_reply": "2021-05-12T21:03:48.732501Z"
    },
    "slideshow": {
     "slide_type": "fragment"
    }
   },
   "outputs": [],
   "source": [
    "tracemalloc.stop()"
   ]
  },
  {
   "cell_type": "markdown",
   "metadata": {
    "slideshow": {
     "slide_type": "subslide"
    }
   },
   "source": [
    "Create a subclass of `MetricCollector` named `MemoryCollector`. Have it measure the memory consumption before and after each line executed (0 if negative), and visualize the impact of individual lines on memory. Create an appropriate test program that (temporarily) consumes larger amounts of memory."
   ]
  },
  {
   "cell_type": "markdown",
   "metadata": {
    "slideshow": {
     "slide_type": "slide"
    }
   },
   "source": [
    "## Exercise 2: Statistical Performance Debugging\n",
    "\n",
    "In a similar way as we integrated a binary \"performance test\" with delta debugging, we can also integrate such a test with other techniques. Combining a performance test with [Statistical Debugging](StatisticalDebugger.ipynb), for instance, will highlight those lines whose execution correlates with low performance. But then, the performance test need not be binary, as with functional pass/fail tests – you can also _weight_ individual lines by _how much_ they impact performance. Create a variant of `StatisticalDebugger` that reflects the impact of individual lines on an arbitrary (summarized) performance metric."
   ]
  }
 ],
 "metadata": {
  "ipub": {
   "bibliography": "fuzzingbook.bib",
   "toc": true
  },
  "kernelspec": {
   "display_name": "Python 3",
   "language": "python",
   "name": "python3"
  },
  "language_info": {
   "codemirror_mode": {
    "name": "ipython",
    "version": 3
   },
   "file_extension": ".py",
   "mimetype": "text/x-python",
   "name": "python",
   "nbconvert_exporter": "python",
   "pygments_lexer": "ipython3",
   "version": "3.6.10"
  },
  "toc": {
   "base_numbering": 1,
   "nav_menu": {},
   "number_sections": true,
   "sideBar": true,
   "skip_h1_title": true,
   "title_cell": "",
   "title_sidebar": "Contents",
   "toc_cell": false,
   "toc_position": {},
   "toc_section_display": true,
   "toc_window_display": true
  },
  "toc-autonumbering": false
 },
 "nbformat": 4,
 "nbformat_minor": 4
}