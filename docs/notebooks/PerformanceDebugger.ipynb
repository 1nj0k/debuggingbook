{
 "cells": [
  {
   "cell_type": "markdown",
   "metadata": {
    "button": false,
    "new_sheet": false,
    "run_control": {
     "read_only": false
    },
    "slideshow": {
     "slide_type": "slide"
    }
   },
   "source": [
    "# Debugging Performance Issues\n",
    "\n",
    "Most chapters of this book deal with _functional_ issues – that is, issues related to the _functionality_ (or its absence) of the code in question. However, debugging can also involve _nonfunctional_ issues, however – performance, usability, reliability, and more. In this chapter, we give a short introduction on how to debug such nonfunctional issues, notably _performance_ issues."
   ]
  },
  {
   "cell_type": "code",
   "execution_count": 1,
   "metadata": {
    "execution": {
     "iopub.execute_input": "2022-11-22T12:41:23.508370Z",
     "iopub.status.busy": "2022-11-22T12:41:23.508010Z",
     "iopub.status.idle": "2022-11-22T12:41:23.576008Z",
     "shell.execute_reply": "2022-11-22T12:41:23.576220Z"
    },
    "slideshow": {
     "slide_type": "skip"
    }
   },
   "outputs": [
    {
     "data": {
      "text/html": [
       "\n",
       "        <iframe\n",
       "            width=\"640\"\n",
       "            height=\"360\"\n",
       "            src=\"https://www.youtube-nocookie.com/embed/0tMeB9G0uUI\"\n",
       "            frameborder=\"0\"\n",
       "            allowfullscreen\n",
       "        ></iframe>\n",
       "        "
      ],
      "text/plain": [
       "<IPython.lib.display.IFrame at 0x107e3f340>"
      ]
     },
     "execution_count": 1,
     "metadata": {},
     "output_type": "execute_result"
    }
   ],
   "source": [
    "from bookutils import YouTubeVideo\n",
    "YouTubeVideo(\"0tMeB9G0uUI\")"
   ]
  },
  {
   "cell_type": "markdown",
   "metadata": {
    "button": false,
    "new_sheet": false,
    "run_control": {
     "read_only": false
    },
    "slideshow": {
     "slide_type": "subslide"
    }
   },
   "source": [
    "**Prerequisites**\n",
    "\n",
    "* This chapter leverages visualization capabilities from [the chapter on statistical debugging](StatisticalDebugger.ipynb).\n",
    "* We also show how to debug nonfunctional issues using [delta debugging](DeltaDebugger.ipynb)."
   ]
  },
  {
   "cell_type": "code",
   "execution_count": 2,
   "metadata": {
    "button": false,
    "execution": {
     "iopub.execute_input": "2022-11-22T12:41:23.579105Z",
     "iopub.status.busy": "2022-11-22T12:41:23.578794Z",
     "iopub.status.idle": "2022-11-22T12:41:23.579999Z",
     "shell.execute_reply": "2022-11-22T12:41:23.580244Z"
    },
    "new_sheet": false,
    "run_control": {
     "read_only": false
    },
    "slideshow": {
     "slide_type": "skip"
    }
   },
   "outputs": [],
   "source": [
    "import bookutils"
   ]
  },
  {
   "cell_type": "code",
   "execution_count": 3,
   "metadata": {
    "execution": {
     "iopub.execute_input": "2022-11-22T12:41:23.582243Z",
     "iopub.status.busy": "2022-11-22T12:41:23.581946Z",
     "iopub.status.idle": "2022-11-22T12:41:24.178516Z",
     "shell.execute_reply": "2022-11-22T12:41:24.178742Z"
    },
    "slideshow": {
     "slide_type": "skip"
    }
   },
   "outputs": [],
   "source": [
    "import StatisticalDebugger\n",
    "import DeltaDebugger"
   ]
  },
  {
   "cell_type": "markdown",
   "metadata": {
    "slideshow": {
     "slide_type": "skip"
    }
   },
   "source": [
    "## Synopsis\n",
    "<!-- Automatically generated. Do not edit. -->\n",
    "\n",
    "To [use the code provided in this chapter](Importing.ipynb), write\n",
    "\n",
    "```python\n",
    ">>> from debuggingbook.PerformanceDebugger import <identifier>\n",
    "```\n",
    "\n",
    "and then make use of the following features.\n",
    "\n",
    "\n",
    "This chapter provides a class `PerformanceDebugger` that allows to measure and visualize the time taken per line in a function.\n",
    "\n",
    "```python\n",
    ">>> with PerformanceDebugger(TimeCollector) as debugger:\n",
    ">>>     for i in range(100):\n",
    ">>>         s = remove_html_markup('<b>foo</b>')\n",
    "```\n",
    "The distribution of executed time within each function can be obtained by printing out the debugger:\n",
    "\n",
    "```python\n",
    ">>> print(debugger)\n",
    " 238   2% def remove_html_markup(s):  # type: ignore\n",
    " 239   2%     tag = False\n",
    " 240   1%     quote = False\n",
    " 241   1%     out = \"\"\n",
    " 242   0%\n",
    " 243  17%     for c in s:\n",
    " 244  15%         assert tag or not quote\n",
    " 245   0%\n",
    " 246  15%         if c == '<' and not quote:\n",
    " 247   3%             tag = True\n",
    " 248  12%         elif c == '>' and not quote:\n",
    " 249   3%             tag = False\n",
    " 250   9%         elif (c == '\"' or c == \"'\") and tag:\n",
    " 251   0%             quote = not quote\n",
    " 252   9%         elif not tag:\n",
    " 253   4%             out = out + c\n",
    " 254   0%\n",
    " 255   3%     return out\n",
    "\n",
    "\n",
    "```\n",
    "The sum of all percentages in a function should always be 100%.\n",
    "\n",
    "These percentages can also be visualized, where darker shades represent higher percentage values:\n",
    "\n",
    "```python\n",
    ">>> debugger\n",
    "```\n",
    "<pre style=\"background-color:hsl(240, 100%, 96.83300432031088%)\"\n",
    "                    title=\"Line 238:   2% 0.00023283500195248052\"> 238 def remove_html_markup(s):  # type: ignore</pre>\n",
    "<pre style=\"background-color:hsl(240, 100%, 97.05913644484993%)\"\n",
    "                    title=\"Line 239:   2% 0.0002162099481211044\"> 239     tag = False</pre>\n",
    "<pre style=\"background-color:hsl(240, 100%, 97.23882940577403%)\"\n",
    "                    title=\"Line 240:   1% 0.00020299906464060768\"> 240     quote = False</pre>\n",
    "<pre style=\"background-color:hsl(240, 100%, 97.33793333616299%)\"\n",
    "                    title=\"Line 241:   1% 0.000195713022549171\"> 241     out = &quot;&quot;</pre>\n",
    "<pre style=\"background-color:hsl(240, 100%, 100.0%)\"\n",
    "                    title=\"Line 242:   0% 0.0\"> 242 &nbsp;</pre>\n",
    "<pre style=\"background-color:hsl(240, 100%, 75.0%)\"\n",
    "                    title=\"Line 243:  17% 0.0018379801040282473\"> 243     for c in s:</pre>\n",
    "<pre style=\"background-color:hsl(240, 100%, 77.49183769647307%)\"\n",
    "                    title=\"Line 244:  15% 0.0016547821796848439\"> 244         assert tag or not quote</pre>\n",
    "<pre style=\"background-color:hsl(240, 100%, 100.0%)\"\n",
    "                    title=\"Line 245:   0% 0.0\"> 245 &nbsp;</pre>\n",
    "<pre style=\"background-color:hsl(240, 100%, 77.84572017562785%)\"\n",
    "                    title=\"Line 246:  15% 0.0016287650214508176\"> 246         if c == &#x27;&lt;&#x27; and not quote:</pre>\n",
    "<pre style=\"background-color:hsl(240, 100%, 95.50571871123645%)\"\n",
    "                    title=\"Line 247:   3% 0.0003304159836261533\"> 247             tag = True</pre>\n",
    "<pre style=\"background-color:hsl(240, 100%, 82.15881083945104%)\"\n",
    "                    title=\"Line 248:  12% 0.0013116700283717364\"> 248         elif c == &#x27;&gt;&#x27; and not quote:</pre>\n",
    "<pre style=\"background-color:hsl(240, 100%, 95.50178864213255%)\"\n",
    "                    title=\"Line 249:   3% 0.00033070491917897016\"> 249             tag = False</pre>\n",
    "<pre style=\"background-color:hsl(240, 100%, 86.62476081415949%)\"\n",
    "                    title=\"Line 250:   9% 0.000983336940407753\"> 250         elif (c == &#x27;&quot;&#x27; or c == &quot;&#x27;&quot;) and tag:</pre>\n",
    "<pre style=\"background-color:hsl(240, 100%, 100.0%)\"\n",
    "                    title=\"Line 251:   0% 0.0\"> 251             quote = not quote</pre>\n",
    "<pre style=\"background-color:hsl(240, 100%, 86.35322432247375%)\"\n",
    "                    title=\"Line 252:   9% 0.0010033000871771947\"> 252         elif not tag:</pre>\n",
    "<pre style=\"background-color:hsl(240, 100%, 93.33729212259169%)\"\n",
    "                    title=\"Line 253:   4% 0.0004898369807051495\"> 253             out = out + c</pre>\n",
    "<pre style=\"background-color:hsl(240, 100%, 100.0%)\"\n",
    "                    title=\"Line 254:   0% 0.0\"> 254 &nbsp;</pre>\n",
    "<pre style=\"background-color:hsl(240, 100%, 95.5431779277264%)\"\n",
    "                    title=\"Line 255:   3% 0.00032766201184131205\"> 255     return out</pre>\n",
    "\n",
    "\n",
    "The abstract `MetricCollector` class allows subclassing to build more collectors, such as `HitCollector`.\n",
    "\n",
    "![](PICS/PerformanceDebugger-synopsis-1.svg)\n",
    "\n"
   ]
  },
  {
   "cell_type": "markdown",
   "metadata": {
    "slideshow": {
     "slide_type": "slide"
    }
   },
   "source": [
    "## Measuring Performance\n",
    "\n",
    "The solution to debugging performance issues fits in two simple rules:\n",
    "\n",
    "1. _Measure_ performance\n",
    "2. _Break down_ how individual parts of your code contribute to performance.\n",
    "\n",
    "The first part, actually _measuring_ performance, is key here. Developers often take elaborated guesses on which aspects of their code impact performance, and think about all possible ways to optimize their code – and at the same time, making it harder to understand, harder to evolve, and harder to maintain. In most cases, such guesses are wrong. Instead, _measure_ performance of your program, _identify_ the very few parts that may need to get improved, and again _measure_ the impact of your changes."
   ]
  },
  {
   "cell_type": "markdown",
   "metadata": {
    "slideshow": {
     "slide_type": "subslide"
    }
   },
   "source": [
    "Almost all programming languages offer a way to measure performance and breaking it down to individual parts of the code – a means also known as *profiling*. Profiling works by measuring the execution time for each function (or even more fine-grained location) in your program. This can be achieved by\n",
    "\n",
    "1. _Instrumenting_ or _tracing_ code such that the current time at entry and exit of each function (or line), thus determining the time spent. In Python, this is achieved by profilers like [profile or cProfile](https://docs.python.org/3/library/profile.html)\n",
    "\n",
    "2. _Sampling_ the current function call stack at regular intervals, and thus assessing which functions are most active (= take the most time) during execution. For Python, the [scalene](https://github.com/plasma-umass/scalene) profiler works this way.\n",
    "\n",
    "Pretty much all programming languages support profiling, either through measuring, sampling, or both. As a rule of thumb, _interpreted_ languages more frequently support measuring (as it is easy to implement in an interpreter), while _compiled_ languages more frequently support sampling (because instrumentation requires recompilation). Python is lucky to support both methods."
   ]
  },
  {
   "cell_type": "markdown",
   "metadata": {
    "slideshow": {
     "slide_type": "subslide"
    }
   },
   "source": [
    "### Tracing Execution Profiles\n",
    "\n",
    "Let us illustrate profiling in a simple example. The `ChangeCounter` class (which we will encounter in the [chapter on mining version histories](ChangeCounter.ipynb) reads in a version history from a git repository. Yet, it takes more than a minute to read in the debugging book change history:"
   ]
  },
  {
   "cell_type": "code",
   "execution_count": 4,
   "metadata": {
    "execution": {
     "iopub.execute_input": "2022-11-22T12:41:24.181131Z",
     "iopub.status.busy": "2022-11-22T12:41:24.180794Z",
     "iopub.status.idle": "2022-11-22T12:41:25.784824Z",
     "shell.execute_reply": "2022-11-22T12:41:25.785039Z"
    },
    "slideshow": {
     "slide_type": "skip"
    }
   },
   "outputs": [],
   "source": [
    "from ChangeCounter import ChangeCounter, debuggingbook_change_counter  # minor dependency"
   ]
  },
  {
   "cell_type": "code",
   "execution_count": 5,
   "metadata": {
    "execution": {
     "iopub.execute_input": "2022-11-22T12:41:25.786864Z",
     "iopub.status.busy": "2022-11-22T12:41:25.786564Z",
     "iopub.status.idle": "2022-11-22T12:41:25.787820Z",
     "shell.execute_reply": "2022-11-22T12:41:25.788013Z"
    },
    "slideshow": {
     "slide_type": "skip"
    }
   },
   "outputs": [],
   "source": [
    "import Timer"
   ]
  },
  {
   "cell_type": "code",
   "execution_count": 6,
   "metadata": {
    "execution": {
     "iopub.execute_input": "2022-11-22T12:41:25.790040Z",
     "iopub.status.busy": "2022-11-22T12:41:25.789732Z",
     "iopub.status.idle": "2022-11-22T12:43:51.173733Z",
     "shell.execute_reply": "2022-11-22T12:43:51.174122Z"
    },
    "slideshow": {
     "slide_type": "fragment"
    }
   },
   "outputs": [],
   "source": [
    "with Timer.Timer() as t:\n",
    "    change_counter = debuggingbook_change_counter(ChangeCounter)"
   ]
  },
  {
   "cell_type": "code",
   "execution_count": 7,
   "metadata": {
    "execution": {
     "iopub.execute_input": "2022-11-22T12:43:51.177289Z",
     "iopub.status.busy": "2022-11-22T12:43:51.176934Z",
     "iopub.status.idle": "2022-11-22T12:43:51.179149Z",
     "shell.execute_reply": "2022-11-22T12:43:51.179347Z"
    },
    "slideshow": {
     "slide_type": "fragment"
    }
   },
   "outputs": [
    {
     "data": {
      "text/plain": [
       "145.38137945899507"
      ]
     },
     "execution_count": 7,
     "metadata": {},
     "output_type": "execute_result"
    }
   ],
   "source": [
    "t.elapsed_time()"
   ]
  },
  {
   "cell_type": "markdown",
   "metadata": {
    "slideshow": {
     "slide_type": "subslide"
    }
   },
   "source": [
    "The Python `profile` and `cProfile` modules offer a simple way to identify the most time-consuming functions. They are invoked using the `run()` function, whose argument is the command to be profiled. The output reports, for each function encountered:\n",
    "\n",
    "* How often it was called (`ncalls` column)\n",
    "* How much time was spent in the given function, _excluding_ time spent in calls to sub-functions (`tottime` column)\n",
    "* The fraction of `tottime` / `ncalls` (first `percall` column)\n",
    "* How much time was spent in the given function, _including_ time spent in calls to sub-functions (`cumtime` column)\n",
    "* The fraction of `cumtime` / `percall` (second `percall` column)\n",
    "\n",
    "Let us have a look at the profile we obtain:"
   ]
  },
  {
   "cell_type": "code",
   "execution_count": 8,
   "metadata": {
    "execution": {
     "iopub.execute_input": "2022-11-22T12:43:51.181107Z",
     "iopub.status.busy": "2022-11-22T12:43:51.180797Z",
     "iopub.status.idle": "2022-11-22T12:43:51.181963Z",
     "shell.execute_reply": "2022-11-22T12:43:51.182164Z"
    },
    "slideshow": {
     "slide_type": "skip"
    }
   },
   "outputs": [],
   "source": [
    "import cProfile"
   ]
  },
  {
   "cell_type": "code",
   "execution_count": 9,
   "metadata": {
    "execution": {
     "iopub.execute_input": "2022-11-22T12:43:51.184057Z",
     "iopub.status.busy": "2022-11-22T12:43:51.183741Z",
     "iopub.status.idle": "2022-11-22T12:46:20.078050Z",
     "shell.execute_reply": "2022-11-22T12:46:20.078442Z"
    },
    "slideshow": {
     "slide_type": "subslide"
    }
   },
   "outputs": [
    {
     "name": "stdout",
     "output_type": "stream",
     "text": [
      "         16635742 function calls (16519013 primitive calls) in 148.650 seconds\n",
      "\n",
      "   Ordered by: cumulative time\n",
      "\n",
      "   ncalls  tottime  percall  cumtime  percall filename:lineno(function)\n",
      "        1    0.000    0.000  148.650  148.650 {built-in method builtins.exec}\n",
      "        1    0.000    0.000  148.650  148.650 <string>:1(<module>)\n",
      "        1    0.000    0.000  148.650  148.650 ChangeCounter.ipynb:165(debuggingbook_change_counter)\n",
      "        1    0.005    0.005  148.650  148.650 ChangeCounter.ipynb:51(__init__)\n",
      "        1    1.295    1.295  148.644  148.644 ChangeCounter.ipynb:88(mine)\n",
      "     1009    0.016    0.000  146.981    0.146 ChangeCounter.ipynb:99(mine_commit)\n",
      "     1009    0.045    0.000  146.823    0.146 commit.py:657(modified_files)\n",
      "     1009    0.020    0.000  146.777    0.145 commit.py:673(_get_modifications)\n",
      "      974    0.184    0.000   74.952    0.077 diff.py:95(diff)\n",
      "     1009    0.045    0.000   71.778    0.071 commit.py:707(_parse_diff)\n",
      "    19628    0.170    0.000   71.000    0.004 commit.py:736(_get_decoded_sc_str)\n",
      "      974   11.793    0.012   69.421    0.071 diff.py:445(_index_from_patch_format)\n",
      "   854116   48.844    0.000   48.844    0.000 {method 'decode' of 'bytes' objects}\n",
      "      974    0.063    0.000   47.078    0.048 cmd.py:71(handle_process_output)\n",
      "     9814   46.633    0.005   46.633    0.005 {method 'acquire' of '_thread.lock' objects}\n",
      "     1950    0.020    0.000   46.574    0.024 threading.py:1057(join)\n",
      "     1950    0.010    0.000   46.552    0.024 threading.py:1095(_wait_for_tstate_lock)\n",
      "    64405    0.075    0.000   21.129    0.000 cmd.py:528(read)\n",
      "    54346    0.019    0.000   21.093    0.000 base.py:137(read)\n",
      "   128788   21.048    0.000   21.048    0.000 {method 'read' of '_io.BufferedReader' objects}\n",
      "     9814    0.074    0.000    9.963    0.001 diff.py:290(__init__)\n",
      "     9050    0.010    0.000    9.716    0.001 base.py:363(submodules)\n",
      "     9050    0.036    0.000    9.706    0.001 util.py:1092(list_items)\n",
      "19872/19869    0.025    0.000    9.656    0.000 {method 'extend' of 'list' objects}\n",
      "    27150    0.109    0.000    9.631    0.000 base.py:1228(iter_items)\n",
      "     1009    0.078    0.000    5.479    0.005 cmd.py:1114(_call_process)\n",
      "     1009    0.224    0.000    5.386    0.005 cmd.py:726(execute)\n",
      "      975    0.043    0.000    5.351    0.005 cmd.py:638(<lambda>)\n",
      "     1009    0.141    0.000    4.886    0.005 subprocess.py:753(__init__)\n",
      "     1009    0.156    0.000    4.704    0.005 subprocess.py:1682(_execute_child)\n",
      "   100605    0.323    0.000    4.644    0.000 cmd.py:1235(__get_object_header)\n",
      "    64405    0.105    0.000    3.971    0.000 db.py:46(stream)\n",
      "    64405    0.168    0.000    3.799    0.000 cmd.py:1263(stream_object_data)\n",
      "   166079    3.771    0.000    3.772    0.000 {method 'readline' of '_io.BufferedReader' objects}\n",
      "    47233    0.043    0.000    3.734    0.000 util.py:248(__getattr__)\n",
      "63350/18100    0.037    0.000    3.008    0.000 tree.py:347(__getitem__)\n",
      "63350/18100    0.129    0.000    2.989    0.000 tree.py:245(join)\n",
      "    27150    0.027    0.000    2.927    0.000 base.py:527(commit)\n",
      "    36200    0.043    0.000    2.648    0.000 tree.py:224(_set_cache_)\n",
      "    27150    0.014    0.000    2.598    0.000 symbolic.py:212(_get_commit)\n",
      "    27150    0.028    0.000    2.584    0.000 symbolic.py:203(_get_object)\n",
      "     1009    2.107    0.002    2.107    0.002 {built-in method _posixsubprocess.fork_exec}\n",
      "     1009    2.087    0.002    2.087    0.002 {built-in method posix.read}\n",
      "    36200    0.026    0.000    1.886    0.000 symbolic.py:143(dereference_recursive)\n",
      "    72401    0.051    0.000    1.860    0.000 symbolic.py:196(_get_ref_info)\n",
      "    72401    0.190    0.000    1.808    0.000 symbolic.py:156(_get_ref_info_helper)\n",
      "     9050    0.037    0.000    1.754    0.000 base.py:196(_config_parser)\n",
      "    36200    0.076    0.000    1.674    0.000 base.py:75(new_from_sha)\n",
      "    18146    0.017    0.000    1.616    0.000 base.py:129(data_stream)\n",
      "    36200    0.058    0.000    1.400    0.000 db.py:42(info)\n",
      "    36200    0.027    0.000    1.302    0.000 cmd.py:1243(get_object_header)\n",
      "    83765    1.092    0.000    1.134    0.000 {built-in method io.open}\n",
      "     9050    0.045    0.000    1.098    0.000 fun.py:191(rev_parse)\n",
      "     9050    0.032    0.000    1.047    0.000 fun.py:121(name_to_object)\n",
      "    11033    0.031    0.000    1.034    0.000 commit.py:196(_set_cache_)\n",
      "72602/63417    0.054    0.000    0.903    0.000 config.py:104(assure_data_present)\n",
      "     9050    0.025    0.000    0.855    0.000 util.py:72(__init__)\n",
      "     9116    0.051    0.000    0.837    0.000 config.py:281(__init__)\n",
      "     9116    0.044    0.000    0.782    0.000 configparser.py:601(__init__)\n",
      "    36200    0.549    0.000    0.725    0.000 fun.py:59(tree_entries_from_data)\n",
      "72602/63486    0.053    0.000    0.671    0.000 config.py:543(read)\n",
      "     9116    0.144    0.000    0.606    0.000 configparser.py:1321(__init__)\n",
      "      974    0.525    0.001    0.525    0.001 {method 'join' of 'bytes' objects}\n",
      "     9814    0.003    0.000    0.473    0.000 commit.py:726(_get_decoded_str)\n",
      "     9116    0.177    0.000    0.446    0.000 config.py:391(_read)\n",
      "     1010    0.002    0.000    0.368    0.000 repository.py:201(traverse_commits)\n",
      "     9116    0.318    0.000    0.318    0.000 {built-in method builtins.dir}\n",
      "    10823    0.005    0.000    0.312    0.000 commit.py:564(committer_date)\n",
      "    10823    0.005    0.000    0.307    0.000 commit.py:209(committed_datetime)\n",
      "    72529    0.229    0.000    0.286    0.000 {method 'read' of '_io.TextIOWrapper' objects}\n",
      "    10059    0.078    0.000    0.278    0.000 commit.py:525(_deserialize)\n",
      "     1013    0.013    0.000    0.255    0.000 repository.py:236(_iter_commits)\n",
      "     9814    0.033    0.000    0.224    0.000 commit.py:153(__init__)\n",
      "     1950    0.012    0.000    0.212    0.000 threading.py:909(start)\n",
      "  1250066    0.208    0.000    0.208    0.000 {method 'match' of 're.Pattern' objects}\n",
      "   100605    0.206    0.000    0.206    0.000 {method 'flush' of '_io.BufferedWriter' objects}\n",
      "   100605    0.023    0.000    0.206    0.000 cmd.py:1221(_get_persistent_cmd)\n",
      "    18386    0.019    0.000    0.191    0.000 pathlib.py:955(__new__)\n",
      "     1009    0.032    0.000    0.186    0.000 os.py:711(copy)\n",
      "   105575    0.116    0.000    0.179    0.000 posixpath.py:71(join)\n",
      "   100605    0.123    0.000    0.176    0.000 cmd.py:1207(_prepare_ref)\n",
      "    18388    0.016    0.000    0.172    0.000 pathlib.py:587(_from_parts)\n",
      "     1950    0.060    0.000    0.164    0.000 threading.py:820(__init__)\n",
      "    36265    0.045    0.000    0.159    0.000 configparser.py:766(get)\n",
      "   316750    0.091    0.000    0.153    0.000 compat.py:49(safe_decode)\n",
      "    18388    0.052    0.000    0.153    0.000 pathlib.py:567(_parse_args)\n",
      "   100605    0.112    0.000    0.151    0.000 cmd.py:1185(_parse_object_header)\n",
      "     1009    0.049    0.000    0.149    0.000 subprocess.py:1222(_close_pipe_fds)\n",
      "   631837    0.098    0.000    0.149    0.000 cmd.py:466(__getattr__)\n",
      "     1951    0.013    0.000    0.142    0.000 threading.py:582(wait)\n",
      "    64179    0.123    0.000    0.124    0.000 config.py:180(__setitem__)\n",
      "     9116    0.073    0.000    0.122    0.000 configparser.py:1244(__init__)\n",
      "    20118    0.029    0.000    0.120    0.000 util.py:268(parse_actor_and_date)\n",
      "     1951    0.010    0.000    0.120    0.000 threading.py:288(wait)\n",
      "   120758    0.092    0.000    0.116    0.000 base.py:50(__init__)\n",
      "    36200    0.061    0.000    0.114    0.000 util.py:85(get_object_type_by_name)\n",
      "    81648    0.112    0.000    0.112    0.000 {method '__exit__' of '_io._IOBase' objects}\n",
      "    73455    0.047    0.000    0.111    0.000 base.py:153(__init__)\n",
      "    18384    0.074    0.000    0.108    0.000 util.py:69(mode_str_to_int)\n",
      "825681/825680    0.099    0.000    0.100    0.000 {built-in method builtins.getattr}\n",
      "     1010    0.000    0.000    0.100    0.000 git.py:106(get_list_commits)\n",
      "   102983    0.042    0.000    0.094    0.000 os.py:674(__getitem__)\n",
      "   234088    0.057    0.000    0.094    0.000 os.py:804(fsencode)\n",
      "    18388    0.051    0.000    0.093    0.000 pathlib.py:56(parse_parts)\n",
      "    47303    0.038    0.000    0.090    0.000 commit.py:84(__init__)\n",
      "  1453959    0.086    0.000    0.090    0.000 {built-in method builtins.isinstance}\n",
      "    37209    0.027    0.000    0.087    0.000 tree.py:214(__init__)\n",
      "     1010    0.001    0.000    0.086    0.000 commit.py:318(_iter_from_process_or_stream)\n",
      "    10823    0.012    0.000    0.083    0.000 util.py:167(from_timestamp)\n",
      "     1009    0.014    0.000    0.073    0.000 util.py:412(remove_password_if_present)\n",
      "    63414    0.050    0.000    0.068    0.000 util.py:163(join_path)\n",
      "    36265    0.036    0.000    0.067    0.000 configparser.py:1143(_unify_values)\n",
      "    18100    0.011    0.000    0.067    0.000 base.py:335(index)\n",
      "     2052    0.032    0.000    0.063    0.000 contextlib.py:496(callback)\n",
      "     1950    0.057    0.000    0.057    0.000 {built-in method _thread.start_new_thread}\n",
      "    72529    0.044    0.000    0.057    0.000 codecs.py:319(decode)\n",
      "   103927    0.011    0.000    0.057    0.000 _collections_abc.py:877(__iter__)\n",
      "    18100    0.013    0.000    0.056    0.000 base.py:117(__init__)\n",
      "    58655    0.055    0.000    0.056    0.000 {method 'search' of 're.Pattern' objects}\n",
      "     1951    0.006    0.000    0.055    0.000 threading.py:538(__init__)\n",
      "      975    0.018    0.000    0.051    0.000 util.py:383(finalize_process)\n",
      "     9119    0.009    0.000    0.049    0.000 config.py:489(_has_includes)\n",
      "    24216    0.010    0.000    0.047    0.000 subprocess.py:1770(<genexpr>)\n",
      "     1009    0.014    0.000    0.047    0.000 os.py:619(get_exec_path)\n",
      "     9848    0.026    0.000    0.046    0.000 parse.py:437(urlsplit)\n",
      "    18100    0.014    0.000    0.046    0.000 base.py:114(__init__)\n",
      "   103927    0.025    0.000    0.045    0.000 os.py:697(__iter__)\n",
      "    20118    0.018    0.000    0.044    0.000 util.py:665(_from_string)\n",
      "    18100    0.011    0.000    0.043    0.000 base.py:157(_index_path)\n",
      "   437808    0.042    0.000    0.042    0.000 {method 'encode' of 'str' objects}\n",
      "   573789    0.042    0.000    0.042    0.000 {built-in method builtins.len}\n",
      "    72529    0.028    0.000    0.042    0.000 codecs.py:309(__init__)\n",
      "    36265    0.026    0.000    0.041    0.000 __init__.py:976(__getitem__)\n",
      "   205836    0.024    0.000    0.040    0.000 os.py:758(decode)\n",
      "    90676    0.033    0.000    0.040    0.000 config.py:192(__getitem__)\n",
      "    10823    0.037    0.000    0.040    0.000 {built-in method fromtimestamp}\n",
      "    19628    0.008    0.000    0.040    0.000 diff.py:432(_pick_best_path)\n",
      "     9116    0.011    0.000    0.039    0.000 config.py:492(_included_paths)\n",
      "    72401    0.029    0.000    0.039    0.000 symbolic.py:43(_git_dir)\n",
      "     1035    0.008    0.000    0.038    0.000 cmd.py:463(__del__)\n",
      "    27151    0.014    0.000    0.038    0.000 base.py:342(head)\n",
      "   166308    0.037    0.000    0.037    0.000 {method 'split' of 'str' objects}\n",
      "     9814    0.003    0.000    0.037    0.000 ChangeCounter.ipynb:109(include)\n",
      "     1949    0.016    0.000    0.036    0.000 cmd.py:470(wait)\n",
      "     9814    0.009    0.000    0.034    0.000 ChangeCounter.ipynb:173(filter)\n",
      "   228287    0.033    0.000    0.033    0.000 {method 'endswith' of 'str' objects}\n",
      "   186699    0.033    0.000    0.033    0.000 {method 'startswith' of 'str' objects}\n",
      "       65    0.001    0.000    0.033    0.001 base.py:108(__init__)\n",
      "       64    0.000    0.000    0.033    0.001 util.py:98(wrapper)\n",
      "       64    0.000    0.000    0.033    0.001 base.py:1103(module)\n",
      "    18164    0.010    0.000    0.033    0.000 util.py:200(join_path_native)\n",
      "     1979    0.003    0.000    0.033    0.000 subprocess.py:1199(wait)\n",
      "    64405    0.021    0.000    0.032    0.000 base.py:128(__new__)\n",
      "    19628    0.020    0.000    0.032    0.000 diff.py:54(decode_path)\n",
      "   102983    0.020    0.000    0.032    0.000 os.py:754(encode)\n",
      "   574723    0.030    0.000    0.030    0.000 {method 'append' of 'list' objects}\n",
      "     1979    0.004    0.000    0.030    0.000 subprocess.py:1906(_wait)\n",
      "     1956    0.028    0.000    0.029    0.000 threading.py:236(__init__)\n",
      "   108048    0.019    0.000    0.029    0.000 posixpath.py:41(_get_sep)\n",
      "   110304    0.028    0.000    0.028    0.000 typing.py:305(inner)\n",
      "     1035    0.008    0.000    0.028    0.000 cmd.py:421(_terminate)\n",
      "     9814    0.014    0.000    0.028    0.000 commit.py:907(_from_change_to_modification_type)\n",
      "    18100    0.022    0.000    0.027    0.000 symbolic.py:439(to_full_path)\n",
      "    36201    0.020    0.000    0.027    0.000 <frozen importlib._bootstrap>:1053(_handle_fromlist)\n",
      "    36201    0.020    0.000    0.026    0.000 <frozen importlib._bootstrap>:404(parent)\n",
      "    70426    0.025    0.000    0.025    0.000 {built-in method sys.intern}\n",
      "   120758    0.025    0.000    0.025    0.000 {method 'split' of 'bytes' objects}\n",
      "   100737    0.025    0.000    0.025    0.000 {method 'write' of '_io.BufferedWriter' objects}\n",
      "     1004    0.003    0.000    0.024    0.000 subprocess.py:1893(_try_wait)\n",
      "    24205    0.008    0.000    0.024    0.000 commit.py:227(new_path)\n",
      "    27152    0.017    0.000    0.023    0.000 head.py:38(__init__)\n",
      "   176113    0.023    0.000    0.023    0.000 {built-in method binascii.a2b_hex}\n",
      "   129782    0.022    0.000    0.022    0.000 {built-in method __new__ of type object at 0x104dbb0a0}\n",
      "     4914    0.022    0.000    0.022    0.000 {built-in method _thread.allocate_lock}\n",
      "     1009    0.016    0.000    0.022    0.000 contextlib.py:533(__exit__)\n",
      "    36200    0.015    0.000    0.022    0.000 base.py:35(__new__)\n",
      "    18100    0.014    0.000    0.022    0.000 configparser.py:878(has_option)\n",
      "     1009    0.012    0.000    0.021    0.000 subprocess.py:1583(_get_handles)\n",
      "     1064    0.021    0.000    0.021    0.000 {built-in method posix.waitpid}\n",
      "       32    0.000    0.000    0.020    0.001 base.py:1121(module_exists)\n",
      "    64405    0.020    0.000    0.020    0.000 cmd.py:517(__init__)\n",
      "    10823    0.016    0.000    0.019    0.000 {method 'astimezone' of 'datetime.datetime' objects}\n",
      "   100928    0.018    0.000    0.018    0.000 {method 'group' of 're.Match' objects}\n",
      "    36994    0.018    0.000    0.018    0.000 config.py:183(add)\n",
      "     1009    0.017    0.000    0.018    0.000 warnings.py:458(__enter__)\n",
      "     1950    0.018    0.000    0.018    0.000 threading.py:1294(_make_invoke_excepthook)\n",
      "   361764    0.017    0.000    0.017    0.000 {built-in method posix.fspath}\n",
      "    65403    0.017    0.000    0.017    0.000 typing.py:1408(_no_init_or_replace_init)\n",
      "       60    0.000    0.000    0.017    0.000 cmd.py:1273(clear_cache)\n",
      "   106158    0.016    0.000    0.016    0.000 {built-in method binascii.b2a_hex}\n",
      "    23731    0.012    0.000    0.016    0.000 pathlib.py:619(__str__)\n",
      "     2052    0.016    0.000    0.016    0.000 contextlib.py:446(_create_cb_wrapper)\n",
      "    20118    0.015    0.000    0.015    0.000 util.py:110(utctz_to_altz)\n",
      "    26430    0.011    0.000    0.015    0.000 base.py:105(__ne__)\n",
      "   193958    0.015    0.000    0.015    0.000 {method 'strip' of 'str' objects}\n",
      "     2052    0.010    0.000    0.015    0.000 contextlib.py:514(_push_exit_callback)\n",
      "    64405    0.015    0.000    0.015    0.000 base.py:132(__init__)\n",
      "    99491    0.014    0.000    0.014    0.000 {method 'startswith' of 'bytes' objects}\n",
      "    72529    0.014    0.000    0.014    0.000 codecs.py:260(__init__)\n",
      "    91870    0.011    0.000    0.014    0.000 {built-in method builtins.hasattr}\n",
      "     1009    0.014    0.000    0.014    0.000 contextlib.py:452(__init__)\n",
      "    72529    0.014    0.000    0.014    0.000 {built-in method _codecs.utf_8_decode}\n",
      "    18166    0.011    0.000    0.013    0.000 configparser.py:644(sections)\n",
      "     1950    0.010    0.000    0.013    0.000 _weakrefset.py:86(add)\n",
      "        1    0.000    0.000    0.013    0.013 base.py:560(iter_commits)\n",
      "        1    0.000    0.000    0.013    0.013 commit.py:246(iter_items)\n",
      "     3061    0.012    0.000    0.012    0.000 {built-in method posix.pipe}\n",
      "    10823    0.012    0.000    0.012    0.000 util.py:147(__init__)\n",
      "    36265    0.012    0.000    0.012    0.000 __init__.py:966(__init__)\n",
      "     9848    0.005    0.000    0.012    0.000 parse.py:155(password)\n",
      "    50050    0.012    0.000    0.012    0.000 {method 'groups' of 're.Match' objects}\n",
      "    64405    0.012    0.000    0.012    0.000 cmd.py:604(__del__)\n",
      "    45614    0.011    0.000    0.011    0.000 {built-in method builtins.setattr}\n",
      "        2    0.000    0.000    0.011    0.006 {built-in method builtins.next}\n",
      "        2    0.000    0.000    0.011    0.006 repository.py:166(_prep_repo)\n",
      "   109651    0.011    0.000    0.011    0.000 {method 'rstrip' of 'str' objects}\n",
      "     3900    0.011    0.000    0.011    0.000 threading.py:1176(daemon)\n",
      "     1009    0.006    0.000    0.010    0.000 warnings.py:165(simplefilter)\n",
      "8804/1009    0.007    0.000    0.010    0.000 cmd.py:1069(__unpack_args)\n",
      "  258/130    0.001    0.000    0.010    0.000 fun.py:85(find_submodule_git_dir)\n",
      "     1948    0.009    0.000    0.010    0.000 threading.py:1191(daemon)\n",
      "    36265    0.010    0.000    0.010    0.000 base.py:296(common_dir)\n",
      "    18100    0.008    0.000    0.010    0.000 util.py:34(sm_name)\n",
      "       58    0.000    0.000    0.009    0.000 base.py:240(__del__)\n",
      "     1009    0.009    0.000    0.009    0.000 {built-in method posix.access}\n",
      "       58    0.000    0.000    0.009    0.000 base.py:246(close)\n",
      "     9814    0.006    0.000    0.009    0.000 commit.py:526(committer)\n",
      "    18702    0.007    0.000    0.009    0.000 diff.py:403(a_path)\n",
      "     4071    0.009    0.000    0.009    0.000 {built-in method posix.close}\n",
      "     1951    0.008    0.000    0.009    0.000 threading.py:279(_is_owned)\n",
      "    16945    0.008    0.000    0.008    0.000 {method 'get' of 'dict' objects}\n",
      "    36200    0.008    0.000    0.008    0.000 base.py:38(__init__)\n",
      "   140551    0.008    0.000    0.008    0.000 typing.py:1715(cast)\n",
      "     4003    0.008    0.000    0.008    0.000 {method 'append' of 'collections.deque' objects}\n",
      "        1    0.000    0.000    0.008    0.008 contextlib.py:139(__exit__)\n",
      "     8350    0.006    0.000    0.008    0.000 diff.py:426(renamed_file)\n",
      "        2    0.000    0.000    0.008    0.004 git.py:73(clear)\n",
      "      595    0.002    0.000    0.008    0.000 ChangeCounter.ipynb:118(update_stats)\n",
      "     9050    0.007    0.000    0.008    0.000 util.py:970(__new__)\n",
      "     1964    0.007    0.000    0.008    0.000 threading.py:264(__enter__)\n",
      "      974    0.007    0.000    0.007    0.000 {method 'finditer' of 're.Pattern' objects}\n",
      "    90808    0.007    0.000    0.007    0.000 {function _OMD.__getitem__ at 0x12a872170}\n",
      "    91360    0.007    0.000    0.007    0.000 config.py:387(optionxform)\n",
      "    46049    0.007    0.000    0.007    0.000 {method 'rpartition' of 'str' objects}\n",
      "    27152    0.007    0.000    0.007    0.000 symbolic.py:65(__init__)\n",
      "     9050    0.007    0.000    0.007    0.000 util.py:973(__init__)\n",
      "     1009    0.007    0.000    0.007    0.000 cmd.py:416(__init__)\n",
      "    19072    0.005    0.000    0.007    0.000 diff.py:407(b_path)\n",
      "     9848    0.006    0.000    0.007    0.000 parse.py:189(_userinfo)\n",
      "     1044    0.005    0.000    0.006    0.000 commit.py:600(parents)\n",
      "       65    0.000    0.000    0.006    0.000 base.py:488(config_reader)\n",
      "      323    0.001    0.000    0.006    0.000 fun.py:44(is_git_dir)\n",
      "    18384    0.006    0.000    0.006    0.000 {method 'sub' of 're.Pattern' objects}\n",
      "     1009    0.003    0.000    0.006    0.000 commit.py:506(hash)\n",
      "    18228    0.005    0.000    0.005    0.000 base.py:290(working_tree_dir)\n",
      "     5553    0.004    0.000    0.005    0.000 base.py:123(hexsha)\n",
      "     1009    0.002    0.000    0.005    0.000 conf.py:257(is_commit_filtered)\n",
      "    50659    0.005    0.000    0.005    0.000 {method 'readline' of '_io.BytesIO' objects}\n",
      "     1948    0.005    0.000    0.005    0.000 threading.py:775(_newname)\n",
      "     8946    0.002    0.000    0.005    0.000 config.py:352(__del__)\n",
      "    72400    0.005    0.000    0.005    0.000 {built-in method builtins.ord}\n",
      "    36200    0.005    0.000    0.005    0.000 base.py:52(type)\n",
      "    18388    0.005    0.000    0.005    0.000 pathlib.py:239(splitroot)\n",
      "     1950    0.003    0.000    0.005    0.000 threading.py:1021(_stop)\n",
      "     3900    0.004    0.000    0.005    0.000 threading.py:1423(current_thread)\n",
      "    55478    0.005    0.000    0.005    0.000 {method 'lower' of 'str' objects}\n",
      "     9116    0.004    0.000    0.005    0.000 configparser.py:1363(__iter__)\n",
      "     2146    0.003    0.000    0.004    0.000 posixpath.py:150(dirname)\n",
      "     9848    0.004    0.000    0.004    0.000 parse.py:114(_coerce_args)\n",
      "      912    0.004    0.000    0.004    0.000 {built-in method posix.stat}\n",
      "     9338    0.002    0.000    0.004    0.000 pathlib.py:606(_format_parsed_parts)\n",
      "    36200    0.004    0.000    0.004    0.000 base.py:42(binsha)\n",
      "     9050    0.003    0.000    0.004    0.000 base.py:99(__eq__)\n",
      "     1950    0.004    0.000    0.004    0.000 _weakrefset.py:39(_remove)\n",
      "     1009    0.002    0.000    0.004    0.000 warnings.py:181(_add_filter)\n",
      "     9814    0.003    0.000    0.004    0.000 commit.py:591(msg)\n",
      "    60220    0.004    0.000    0.004    0.000 {method 'replace' of 'str' objects}\n",
      "    32469    0.004    0.000    0.004    0.000 util.py:154(utcoffset)\n",
      "     2010    0.003    0.000    0.004    0.000 subprocess.py:1173(poll)\n",
      "      648    0.000    0.000    0.003    0.000 genericpath.py:39(isdir)\n",
      "    20118    0.003    0.000    0.003    0.000 util.py:646(__init__)\n",
      "    10823    0.003    0.000    0.003    0.000 developer.py:24(__init__)\n",
      "     1074    0.000    0.000    0.003    0.000 abc.py:117(__instancecheck__)\n",
      "     8947    0.002    0.000    0.003    0.000 config.py:364(release)\n",
      "    36200    0.003    0.000    0.003    0.000 base.py:60(size)\n",
      "     6088    0.003    0.000    0.003    0.000 conf.py:45(get)\n",
      "     9050    0.003    0.000    0.003    0.000 fun.py:180(to_commit)\n",
      "     1948    0.003    0.000    0.003    0.000 threading.py:1162(is_alive)\n",
      "        1    0.000    0.000    0.003    0.003 contextlib.py:130(__enter__)\n",
      "     1009    0.003    0.000    0.003    0.000 {built-in method sys.exc_info}\n",
      "     9116    0.002    0.000    0.003    0.000 config.py:333(_acquire_lock)\n",
      "    36265    0.003    0.000    0.003    0.000 configparser.py:363(before_get)\n",
      "     1074    0.003    0.000    0.003    0.000 {built-in method _abc._abc_instancecheck}\n",
      "        1    0.000    0.000    0.003    0.003 git.py:38(__init__)\n",
      "      595    0.002    0.000    0.003    0.000 ChangeCounter.ipynb:142(update_changes)\n",
      "    18164    0.003    0.000    0.003    0.000 util.py:194(to_native_path_linux)\n",
      "     2961    0.003    0.000    0.003    0.000 {method 'add' of 'set' objects}\n",
      "      595    0.003    0.000    0.003    0.000 ChangeCounter.ipynb:134(update_size)\n",
      "     1009    0.002    0.000    0.003    0.000 _collections_abc.py:828(keys)\n",
      "    43292    0.003    0.000    0.003    0.000 util.py:160(dst)\n",
      "    45580    0.003    0.000    0.003    0.000 {built-in method builtins.callable}\n",
      "        1    0.000    0.000    0.003    0.003 git.py:82(_open_repository)\n",
      "      651    0.002    0.000    0.003    0.000 posixpath.py:337(normpath)\n",
      "      195    0.001    0.000    0.002    0.000 util.py:400(expand_path)\n",
      "     1009    0.002    0.000    0.002    0.000 warnings.py:437(__init__)\n",
      "    23207    0.002    0.000    0.002    0.000 {method 'endswith' of 'bytes' objects}\n",
      "     1005    0.002    0.000    0.002    0.000 subprocess.py:1060(__del__)\n",
      "     1010    0.002    0.000    0.002    0.000 __init__.py:1467(info)\n",
      "     9990    0.002    0.000    0.002    0.000 {method 'join' of 'str' objects}\n",
      "     2052    0.001    0.000    0.002    0.000 contextlib.py:448(_exit_wrapper)\n",
      "     5848    0.002    0.000    0.002    0.000 threading.py:546(is_set)\n",
      "     2491    0.001    0.000    0.002    0.000 __init__.py:1455(debug)\n",
      "       87    0.000    0.000    0.002    0.000 parse.py:88(clear_cache)\n",
      "    18166    0.002    0.000    0.002    0.000 {method 'keys' of 'collections.OrderedDict' objects}\n",
      "     1948    0.001    0.000    0.002    0.000 base.py:115(__str__)\n",
      "      174    0.002    0.000    0.002    0.000 {method 'clear' of 'dict' objects}\n",
      "     1013    0.002    0.000    0.002    0.000 {method 'remove' of 'list' objects}\n",
      "     8350    0.002    0.000    0.002    0.000 diff.py:411(rename_from)\n",
      "     1949    0.001    0.000    0.002    0.000 encoding.py:1(force_bytes)\n",
      "     9116    0.001    0.000    0.001    0.000 configparser.py:1191(converters)\n",
      "     3015    0.001    0.000    0.001    0.000 subprocess.py:1858(_internal_poll)\n",
      "     1005    0.001    0.000    0.001    0.000 subprocess.py:1846(_handle_exitstatus)\n",
      "       65    0.000    0.000    0.001    0.000 configparser.py:827(getboolean)\n",
      "     9114    0.001    0.000    0.001    0.000 base.py:309(bare)\n",
      "     1951    0.001    0.000    0.001    0.000 threading.py:276(_acquire_restore)\n",
      "     3501    0.001    0.000    0.001    0.000 __init__.py:1724(isEnabledFor)\n",
      "    10059    0.001    0.000    0.001    0.000 {method 'read' of '_io.BytesIO' objects}\n",
      "    11097    0.001    0.000    0.001    0.000 {method 'strip' of 'bytes' objects}\n",
      "       65    0.000    0.000    0.001    0.000 configparser.py:806(_get_conv)\n",
      "        1    0.000    0.000    0.001    0.001 base.py:511(config_writer)\n",
      "     1964    0.001    0.000    0.001    0.000 threading.py:267(__exit__)\n",
      "     9814    0.001    0.000    0.001    0.000 {method 'end' of 're.Match' objects}\n",
      "     1010    0.001    0.000    0.001    0.000 {built-in method builtins.sorted}\n",
      "      197    0.000    0.000    0.001    0.000 posixpath.py:376(abspath)\n",
      "    18389    0.001    0.000    0.001    0.000 {method 'reverse' of 'list' objects}\n",
      "        4    0.000    0.000    0.001    0.000 util.py:878(_obtain_lock)\n",
      "        4    0.000    0.000    0.001    0.000 util.py:856(_obtain_lock_or_raise)\n",
      "       65    0.000    0.000    0.001    0.000 configparser.py:803(_get)\n",
      "        1    0.001    0.001    0.001    0.001 {built-in method posix.open}\n",
      "     1045    0.000    0.000    0.001    0.000 cmd.py:180(dashify)\n",
      "     1009    0.001    0.000    0.001    0.000 cmd.py:1148(<dictcomp>)\n",
      "     9440    0.001    0.000    0.001    0.000 {method 'pop' of 'list' objects}\n",
      "     1949    0.001    0.000    0.001    0.000 cmd.py:632(__getattr__)\n",
      "     8350    0.001    0.000    0.001    0.000 diff.py:415(rename_to)\n",
      "      974    0.001    0.000    0.001    0.000 base.py:90(_set_cache_)\n",
      "     1739    0.001    0.000    0.001    0.000 <string>:1(<lambda>)\n",
      "     8950    0.001    0.000    0.001    0.000 config.py:707(read_only)\n",
      "       30    0.000    0.000    0.001    0.000 subprocess.py:2093(terminate)\n",
      "     1009    0.001    0.000    0.001    0.000 commit.py:515(author)\n",
      "      197    0.000    0.000    0.001    0.000 genericpath.py:27(isfile)\n",
      "     1009    0.001    0.000    0.001    0.000 warnings.py:477(__exit__)\n",
      "     1951    0.001    0.000    0.001    0.000 threading.py:273(_release_save)\n",
      "     9116    0.001    0.000    0.001    0.000 {built-in method builtins.iter}\n",
      "       65    0.000    0.000    0.001    0.000 cmd.py:612(__init__)\n",
      "     8840    0.001    0.000    0.001    0.000 {method 'start' of 're.Match' objects}\n",
      "       30    0.000    0.000    0.001    0.000 subprocess.py:2061(send_signal)\n",
      "     1009    0.001    0.000    0.001    0.000 cmd.py:1156(<listcomp>)\n",
      "     9848    0.001    0.000    0.001    0.000 parse.py:103(_noop)\n",
      "     1009    0.001    0.000    0.001    0.000 cmd.py:1058(transform_kwargs)\n",
      "     1137    0.001    0.000    0.001    0.000 {method 'rfind' of 'str' objects}\n",
      "     2052    0.001    0.000    0.001    0.000 {method 'pop' of 'collections.deque' objects}\n",
      "     2010    0.001    0.000    0.001    0.000 {method 'close' of '_io.BufferedReader' objects}\n",
      "       65    0.000    0.000    0.001    0.000 genericpath.py:16(exists)\n",
      "     1009    0.001    0.000    0.001    0.000 contextlib.py:530(__enter__)\n",
      "     1739    0.001    0.000    0.001    0.000 {method 'find' of 'str' objects}\n",
      "     1009    0.001    0.000    0.001    0.000 subprocess.py:246(_cleanup)\n",
      "     3900    0.001    0.000    0.001    0.000 {built-in method _thread.get_ident}\n",
      "        3    0.000    0.000    0.001    0.000 config.py:659(write)\n",
      "     1009    0.000    0.000    0.000    0.000 {method 'rfind' of 'bytes' objects}\n",
      "       65    0.000    0.000    0.000    0.000 db.py:37(__init__)\n",
      "     1950    0.000    0.000    0.000    0.000 {method 'discard' of 'set' objects}\n",
      "        2    0.000    0.000    0.000    0.000 pathlib.py:1062(resolve)\n",
      "     4037    0.000    0.000    0.000    0.000 {method 'items' of 'dict' objects}\n",
      "     1009    0.000    0.000    0.000    0.000 git.py:130(get_commit_from_gitpython)\n",
      "     3961    0.000    0.000    0.000    0.000 {method 'release' of '_thread.lock' objects}\n",
      "     1009    0.000    0.000    0.000    0.000 _collections_abc.py:854(__init__)\n",
      "     1956    0.000    0.000    0.000    0.000 {method '__enter__' of '_thread.lock' objects}\n",
      "        1    0.000    0.000    0.000    0.000 repository.py:230(<dictcomp>)\n",
      "      2/1    0.000    0.000    0.000    0.000 config.py:117(flush_changes)\n",
      "        4    0.000    0.000    0.000    0.000 thread.py:161(submit)\n",
      "     3931    0.000    0.000    0.000    0.000 {method 'insert' of 'list' objects}\n",
      "       66    0.000    0.000    0.000    0.000 base.py:464(_get_config_path)\n",
      "        2    0.000    0.000    0.000    0.000 posixpath.py:391(realpath)\n",
      "        2    0.000    0.000    0.000    0.000 posixpath.py:400(_joinrealpath)\n",
      "     1958    0.000    0.000    0.000    0.000 {method '__exit__' of '_thread.RLock' objects}\n",
      "        4    0.000    0.000    0.000    0.000 thread.py:180(_adjust_thread_count)\n",
      "       65    0.000    0.000    0.000    0.000 loose.py:77(__init__)\n",
      "     2972    0.000    0.000    0.000    0.000 {method '__exit__' of '_thread.lock' objects}\n",
      "       65    0.000    0.000    0.000    0.000 re.py:197(search)\n",
      "        8    0.000    0.000    0.000    0.000 {built-in method posix.lstat}\n",
      "      327    0.000    0.000    0.000    0.000 posixpath.py:60(isabs)\n",
      "        3    0.000    0.000    0.000    0.000 config.py:615(_write)\n",
      "       65    0.000    0.000    0.000    0.000 _collections_abc.py:820(__contains__)\n",
      "       30    0.000    0.000    0.000    0.000 {method 'close' of '_io.BufferedWriter' objects}\n",
      "     3027    0.000    0.000    0.000    0.000 {built-in method _warnings._filters_mutated}\n",
      "       45    0.000    0.000    0.000    0.000 config.py:618(write_section)\n",
      "        1    0.000    0.000    0.000    0.000 config.py:791(set_value)\n",
      "     1009    0.000    0.000    0.000    0.000 cmd.py:1149(<dictcomp>)\n",
      "       65    0.000    0.000    0.000    0.000 re.py:288(_compile)\n",
      "     1739    0.000    0.000    0.000    0.000 parse.py:419(_checknetloc)\n",
      "       29    0.000    0.000    0.000    0.000 {built-in method posix.kill}\n",
      "     1009    0.000    0.000    0.000    0.000 commit.py:480(__init__)\n",
      "       64    0.000    0.000    0.000    0.000 base.py:197(abspath)\n",
      "     1043    0.000    0.000    0.000    0.000 {method 'update' of 'dict' objects}\n",
      "     1005    0.000    0.000    0.000    0.000 {built-in method posix.waitstatus_to_exitcode}\n",
      "      195    0.000    0.000    0.000    0.000 posixpath.py:228(expanduser)\n",
      "       65    0.000    0.000    0.000    0.000 base.py:113(__init__)\n",
      "      193    0.000    0.000    0.000    0.000 cmd.py:368(is_cygwin)\n",
      "      974    0.000    0.000    0.000    0.000 util.py:257(_set_cache_)\n",
      "       58    0.000    0.000    0.000    0.000 mman.py:408(collect)\n",
      "      974    0.000    0.000    0.000    0.000 diff.py:86(_process_diff_args)\n",
      "     1009    0.000    0.000    0.000    0.000 {built-in method sys.audit}\n",
      "     1005    0.000    0.000    0.000    0.000 {built-in method posix.WIFSTOPPED}\n",
      "        5    0.000    0.000    0.000    0.000 _base.py:201(as_completed)\n",
      "        1    0.000    0.000    0.000    0.000 _base.py:636(__exit__)\n",
      "        1    0.000    0.000    0.000    0.000 thread.py:216(shutdown)\n",
      "       58    0.000    0.000    0.000    0.000 mman.py:303(_collect_lru_region)\n",
      "      195    0.000    0.000    0.000    0.000 posixpath.py:284(expandvars)\n",
      "     1009    0.000    0.000    0.000    0.000 {method 'pop' of 'dict' objects}\n",
      "     1954    0.000    0.000    0.000    0.000 {method 'locked' of '_thread.lock' objects}\n",
      "       38    0.000    0.000    0.000    0.000 cmd.py:1042(transform_kwarg)\n",
      "       45    0.000    0.000    0.000    0.000 config.py:216(items_all)\n",
      "       65    0.000    0.000    0.000    0.000 configparser.py:1163(_convert_to_boolean)\n",
      "        1    0.000    0.000    0.000    0.000 git.py:88(_discover_main_branch)\n",
      "       64    0.000    0.000    0.000    0.000 base.py:266(__ne__)\n",
      "        1    0.000    0.000    0.000    0.000 base.py:792(active_branch)\n",
      "       45    0.000    0.000    0.000    0.000 config.py:218(<listcomp>)\n",
      "        1    0.000    0.000    0.000    0.000 symbolic.py:288(_get_reference)\n",
      "        4    0.000    0.000    0.000    0.000 threading.py:421(acquire)\n",
      "       88    0.000    0.000    0.000    0.000 config.py:786(_value_to_string)\n",
      "      595    0.000    0.000    0.000    0.000 ChangeCounter.ipynb:152(update_elems)\n",
      "        2    0.000    0.000    0.000    0.000 pathlib.py:1090(stat)\n",
      "        1    0.000    0.000    0.000    0.000 thread.py:123(__init__)\n",
      "      583    0.000    0.000    0.000    0.000 {built-in method _stat.S_ISDIR}\n",
      "        2    0.000    0.000    0.000    0.000 util.py:883(_release_lock)\n",
      "        1    0.000    0.000    0.000    0.000 util.py:139(rmfile)\n",
      "        2    0.000    0.000    0.000    0.000 weakref.py:370(remove)\n",
      "      132    0.000    0.000    0.000    0.000 config.py:209(getall)\n",
      "        6    0.000    0.000    0.000    0.000 _base.py:179(_yield_finished_futures)\n",
      "      193    0.000    0.000    0.000    0.000 util.py:347(is_cygwin_git)\n",
      "       64    0.000    0.000    0.000    0.000 base.py:261(__eq__)\n",
      "        1    0.000    0.000    0.000    0.000 {built-in method posix.remove}\n",
      "        1    0.000    0.000    0.000    0.000 conf.py:77(sanity_check_filters)\n",
      "        4    0.000    0.000    0.000    0.000 _base.py:418(result)\n",
      "       65    0.000    0.000    0.000    0.000 base.py:70(__init__)\n",
      "        1    0.000    0.000    0.000    0.000 repository.py:246(_split_in_chunks)\n",
      "        4    0.000    0.000    0.000    0.000 _base.py:318(__init__)\n",
      "        3    0.000    0.000    0.000    0.000 config.py:212(items)\n",
      "        3    0.000    0.000    0.000    0.000 config.py:214(<listcomp>)\n",
      "        1    0.000    0.000    0.000    0.000 conf.py:287(_check_timezones)\n",
      "        1    0.000    0.000    0.000    0.000 repository.py:44(__init__)\n",
      "       88    0.000    0.000    0.000    0.000 encoding.py:11(force_text)\n",
      "        1    0.000    0.000    0.000    0.000 threading.py:415(__init__)\n",
      "        2    0.000    0.000    0.000    0.000 threading.py:793(_maintain_shutdown_locks)\n",
      "        1    0.000    0.000    0.000    0.000 symbolic.py:685(from_path)\n",
      "        5    0.000    0.000    0.000    0.000 {method 'put' of '_queue.SimpleQueue' objects}\n",
      "        1    0.000    0.000    0.000    0.000 conf.py:293(_replace_timezone)\n",
      "      131    0.000    0.000    0.000    0.000 {built-in method _stat.S_ISREG}\n",
      "        4    0.000    0.000    0.000    0.000 pathlib.py:629(__fspath__)\n",
      "        1    0.000    0.000    0.000    0.000 _base.py:157(_create_and_install_waiters)\n",
      "        1    0.000    0.000    0.000    0.000 conf.py:24(__init__)\n",
      "        7    0.000    0.000    0.000    0.000 conf.py:36(set_value)\n",
      "        1    0.000    0.000    0.000    0.000 conf.py:191(build_args)\n",
      "       29    0.000    0.000    0.000    0.000 {method 'find' of 'bytes' objects}\n",
      "        4    0.000    0.000    0.000    0.000 _base.py:388(__get_result)\n",
      "        1    0.000    0.000    0.000    0.000 {built-in method math.ceil}\n",
      "       58    0.000    0.000    0.000    0.000 {method 'values' of 'dict' objects}\n",
      "        1    0.000    0.000    0.000    0.000 _base.py:79(__init__)\n",
      "        1    0.000    0.000    0.000    0.000 _base.py:146(__init__)\n",
      "       29    0.000    0.000    0.000    0.000 {method 'rstrip' of 'bytes' objects}\n",
      "        4    0.000    0.000    0.000    0.000 thread.py:47(__init__)\n",
      "        4    0.000    0.000    0.000    0.000 threading.py:90(RLock)\n",
      "        1    0.000    0.000    0.000    0.000 _base.py:63(__init__)\n",
      "       65    0.000    0.000    0.000    0.000 {built-in method builtins.issubclass}\n",
      "        1    0.000    0.000    0.000    0.000 git.py:316(__del__)\n",
      "        1    0.000    0.000    0.000    0.000 _base.py:149(__enter__)\n",
      "        2    0.000    0.000    0.000    0.000 weakref.py:428(__setitem__)\n",
      "        1    0.000    0.000    0.000    0.000 configparser.py:892(set)\n",
      "        1    0.000    0.000    0.000    0.000 conf.py:65(_check_only_one_from_commit)\n",
      "        1    0.000    0.000    0.000    0.000 contextlib.py:279(helper)\n",
      "        2    0.000    0.000    0.000    0.000 repository.py:144(_is_remote)\n",
      "        8    0.000    0.000    0.000    0.000 {method '__enter__' of '_thread.RLock' objects}\n",
      "        1    0.000    0.000    0.000    0.000 reference.py:46(__init__)\n",
      "        3    0.000    0.000    0.000    0.000 git.py:62(repo)\n",
      "        1    0.000    0.000    0.000    0.000 contextlib.py:102(__init__)\n",
      "        8    0.000    0.000    0.000    0.000 {method 'partition' of 'str' objects}\n",
      "        1    0.000    0.000    0.000    0.000 {method 'replace' of 'datetime.datetime' objects}\n",
      "        1    0.000    0.000    0.000    0.000 conf.py:71(_check_only_one_to_commit)\n",
      "        1    0.000    0.000    0.000    0.000 util.py:844(__del__)\n",
      "        2    0.000    0.000    0.000    0.000 conf.py:181(only_one_filter)\n",
      "        2    0.000    0.000    0.000    0.000 threading.py:803(<listcomp>)\n",
      "        1    0.000    0.000    0.000    0.000 _base.py:153(__exit__)\n",
      "        8    0.000    0.000    0.000    0.000 util.py:851(_has_lock)\n",
      "        1    0.000    0.000    0.000    0.000 threading.py:572(clear)\n",
      "        1    0.000    0.000    0.000    0.000 reference.py:100(name)\n",
      "        3    0.000    0.000    0.000    0.000 config.py:699(_assure_writable)\n",
      "        4    0.000    0.000    0.000    0.000 _base.py:225(<genexpr>)\n",
      "        8    0.000    0.000    0.000    0.000 {built-in method _stat.S_ISLNK}\n",
      "        2    0.000    0.000    0.000    0.000 util.py:847(_lock_file_path)\n",
      "        1    0.000    0.000    0.000    0.000 conf.py:54(_sanity_check_repos)\n",
      "        4    0.000    0.000    0.000    0.000 {method 'lstrip' of 'str' objects}\n",
      "        2    0.000    0.000    0.000    0.000 {method 'difference_update' of 'set' objects}\n",
      "        1    0.000    0.000    0.000    0.000 pathlib.py:708(name)\n",
      "        2    0.000    0.000    0.000    0.000 pathlib.py:1430(expanduser)\n",
      "        1    0.000    0.000    0.000    0.000 conf.py:114(_check_correct_filters_order)\n",
      "        5    0.000    0.000    0.000    0.000 {method 'remove' of 'set' objects}\n",
      "        1    0.000    0.000    0.000    0.000 conf.py:142(get_starting_commit)\n",
      "        4    0.000    0.000    0.000    0.000 {built-in method time.monotonic}\n",
      "        2    0.000    0.000    0.000    0.000 conf.py:189(<listcomp>)\n",
      "        1    0.000    0.000    0.000    0.000 conf.py:165(get_ending_commit)\n",
      "        4    0.000    0.000    0.000    0.000 {method 'acquire' of '_thread.RLock' objects}\n",
      "        1    0.000    0.000    0.000    0.000 configparser.py:663(has_section)\n",
      "        4    0.000    0.000    0.000    0.000 {method 'release' of '_thread.RLock' objects}\n",
      "        2    0.000    0.000    0.000    0.000 {method 'remove' of 'collections.deque' objects}\n",
      "        1    0.000    0.000    0.000    0.000 util.py:840(__init__)\n",
      "        1    0.000    0.000    0.000    0.000 {method 'disable' of '_lsprof.Profiler' objects}\n",
      "        1    0.000    0.000    0.000    0.000 __init__.py:230(utcoffset)\n",
      "        1    0.000    0.000    0.000    0.000 _base.py:633(__enter__)\n",
      "        1    0.000    0.000    0.000    0.000 configparser.py:366(before_set)\n",
      "\n",
      "\n"
     ]
    }
   ],
   "source": [
    "cProfile.run('debuggingbook_change_counter(ChangeCounter)', sort='cumulative')"
   ]
  },
  {
   "cell_type": "markdown",
   "metadata": {
    "slideshow": {
     "slide_type": "subslide"
    }
   },
   "source": [
    "Yes, that's an awful lot of functions, but we can quickly narrow things down. The `cumtime` column is sorted by largest values first. We see that the `debuggingbook_change_counter()` method at the top takes up all the time – but this is not surprising, since it it the method we called in the first place. This calls a method `mine()` in the `ChangeCounter` class, which does all the work."
   ]
  },
  {
   "cell_type": "markdown",
   "metadata": {
    "slideshow": {
     "slide_type": "fragment"
    }
   },
   "source": [
    "The next places are more interesting: almost all time is spent in a single method, named `modifications()`. This method determines the difference between two versions, which is an expensive operation; this is also supported by the observation that half of the time is spent in a `diff()` method."
   ]
  },
  {
   "cell_type": "markdown",
   "metadata": {
    "slideshow": {
     "slide_type": "subslide"
    }
   },
   "source": [
    "This profile thus already gets us a hint on how to improve performance: Rather than computing the diff between versions for _every_ version, we could do so _on demand_ (and possibly cache results so we don't have to compute them twice). Alas, this (slow) functionality is part of the \n",
    "underlying [PyDriller](https://pydriller.readthedocs.io/) Python package, so we cannot fix this within the `ChangeCounter` class. But we could file a bug with the developers, suggesting a patch to improve performance."
   ]
  },
  {
   "cell_type": "markdown",
   "metadata": {
    "slideshow": {
     "slide_type": "subslide"
    }
   },
   "source": [
    "### Sampling Execution Profiles\n",
    "\n",
    "Instrumenting code is _precise_, but it is also _slow_. An alternate way to measure performance is to _sample_ in regular intervals which functions are currently active – for instance, by examining the current function call stack. The more frequently a function is sampled as active, the more time is spent in that function."
   ]
  },
  {
   "cell_type": "markdown",
   "metadata": {
    "slideshow": {
     "slide_type": "subslide"
    }
   },
   "source": [
    "One profiler for Python that implements such sampling is [Scalene](https://github.com/plasma-umass/scalene) – a high-performance, high-precision CPU, GPU, and memory profiler for Python. We can invoke it on our example as follows:\n",
    "\n",
    "```sh\n",
    "$ scalene --html test.py > scalene-out.html\n",
    "```"
   ]
  },
  {
   "cell_type": "markdown",
   "metadata": {
    "slideshow": {
     "slide_type": "fragment"
    }
   },
   "source": [
    "where `test.py` is a script that again invokes\n",
    "\n",
    "```python\n",
    "debuggingbook_change_counter(ChangeCounter)\n",
    "```"
   ]
  },
  {
   "cell_type": "markdown",
   "metadata": {
    "slideshow": {
     "slide_type": "subslide"
    }
   },
   "source": [
    "The output of `scalene` is sent to a HTML file (here, `scalene-out.html`) which is organized by _lines_ – that is, for each line, we see how much it contributed to overall execution time. Opening the output `scalene-out.html` in a HTML browswer, we see these lines:"
   ]
  },
  {
   "cell_type": "markdown",
   "metadata": {
    "slideshow": {
     "slide_type": "fragment"
    }
   },
   "source": [
    "![](PICS/scalene-out.png)"
   ]
  },
  {
   "cell_type": "markdown",
   "metadata": {
    "slideshow": {
     "slide_type": "fragment"
    }
   },
   "source": [
    "As with `cProfile`, above, we identify the `mine()` method in the `ChangeCounter` class as the main performance hog – and in the `mine()` method, it is the iteration over all modifications that takes all the time. Adding the option `--profile-all` to `scalene` would extend the profile to all executed code, including the `pydriller` third-party library."
   ]
  },
  {
   "cell_type": "markdown",
   "metadata": {
    "slideshow": {
     "slide_type": "fragment"
    }
   },
   "source": [
    "Besides relying on sampling rather that tracing (which is more efficient) and breaking down execution time by line, `scalene` also provides additional information on memory usage and more. If `cProfile` is not sufficient, then `scalene` will bring profiling to the next level."
   ]
  },
  {
   "cell_type": "markdown",
   "metadata": {
    "slideshow": {
     "slide_type": "slide"
    }
   },
   "source": [
    "## Improving Performance"
   ]
  },
  {
   "cell_type": "markdown",
   "metadata": {
    "slideshow": {
     "slide_type": "fragment"
    }
   },
   "source": [
    "Identifying a culprit is not always that easy. Notably, when the first set of obvious performance hogs is fixed, it becomes more and more difficult to squeeze out additional performance – and, as stated above, such optimization may be in conflict with readability and maintainability of your code. Here are some simple ways to improve performance:"
   ]
  },
  {
   "cell_type": "markdown",
   "metadata": {
    "slideshow": {
     "slide_type": "subslide"
    }
   },
   "source": [
    "* **Efficient algorithms**. For many tasks, the simplest algorithm is not always the best performing one. Consider alternatives that may be more efficient, and _measure_ whether they pay off.\n",
    "\n",
    "* **Efficient data types**. Remember that certain operations, such as looking up whether an element is contained, may take different amounts of time depending on the data structure. In Python, a query like `x in xs` takes (mostly) constant time if `xs` is a set, but linear time if `xs` is a list; these differences become significant as the size of `xs` grows.\n",
    "\n",
    "* **Efficient modules**. In Python, most frequently used modules (or at least parts of) are implemented in C, which is way more efficient than plain Python. Rely on existing modules whenever possible. Or implement your own, _after_ having measured that this may pay off."
   ]
  },
  {
   "cell_type": "markdown",
   "metadata": {
    "slideshow": {
     "slide_type": "subslide"
    }
   },
   "source": [
    "These are all things you can already use during programming – and also set up your code such that exchanging, say, one data type by another will still be possible later. This is best achieved by hiding implementation details (such as the used data types) behind an abstract interface used by your clients."
   ]
  },
  {
   "cell_type": "markdown",
   "metadata": {
    "slideshow": {
     "slide_type": "fragment"
    }
   },
   "source": [
    "But beyond these points, remember the famous words by [Donald J. Knuth](https://en.wikipedia.org/wiki/Donald_Knuth):"
   ]
  },
  {
   "cell_type": "code",
   "execution_count": 10,
   "metadata": {
    "execution": {
     "iopub.execute_input": "2022-11-22T12:46:20.082866Z",
     "iopub.status.busy": "2022-11-22T12:46:20.082383Z",
     "iopub.status.idle": "2022-11-22T12:46:20.083474Z",
     "shell.execute_reply": "2022-11-22T12:46:20.083790Z"
    },
    "slideshow": {
     "slide_type": "skip"
    }
   },
   "outputs": [],
   "source": [
    "from bookutils import quiz"
   ]
  },
  {
   "cell_type": "code",
   "execution_count": 11,
   "metadata": {
    "execution": {
     "iopub.execute_input": "2022-11-22T12:46:20.089018Z",
     "iopub.status.busy": "2022-11-22T12:46:20.088508Z",
     "iopub.status.idle": "2022-11-22T12:46:20.090334Z",
     "shell.execute_reply": "2022-11-22T12:46:20.090536Z"
    },
    "slideshow": {
     "slide_type": "fragment"
    }
   },
   "outputs": [
    {
     "data": {
      "text/html": [
       "\n",
       "    \n",
       "    <script>\n",
       "    var bad_answers = new Map();\n",
       "\n",
       "    function answer(quiz_id) {\n",
       "        ans = 0;\n",
       "        for (i = 1;; i++) {\n",
       "            checkbox = document.getElementById(quiz_id + \"-\" + i.toString());\n",
       "            if (!checkbox)\n",
       "                break;\n",
       "            if (checkbox.checked)\n",
       "                ans |= (1 << i);\n",
       "        }\n",
       "        return ans;\n",
       "    }\n",
       "    function check_selection(quiz_id, correct_answer, multiple_choice, hint) {\n",
       "        given_answer = answer(quiz_id);\n",
       "        if (given_answer == correct_answer)\n",
       "        {\n",
       "            document.getElementById(quiz_id + \"-submit\").value = \"Correct!\";\n",
       "            document.getElementById(quiz_id + \"-hint\").innerHTML = \"\";\n",
       "\n",
       "            for (i = 1;; i++) {\n",
       "                checkbox = document.getElementById(quiz_id + \"-\" + i.toString());\n",
       "                label = document.getElementById(quiz_id + \"-\" + i.toString() + \"-label\")\n",
       "                if (!checkbox)\n",
       "                    break;\n",
       "    \n",
       "                if (checkbox.checked) {\n",
       "                    label.style.fontWeight = \"bold\";\n",
       "                }\n",
       "                else {\n",
       "                    label.style.textDecoration = \"line-through\";\n",
       "                }\n",
       "            }\n",
       "        }\n",
       "        else \n",
       "        {\n",
       "            document.getElementById(quiz_id + \"-submit\").value = \"Try again\";\n",
       "            \n",
       "            if (!bad_answers.has(quiz_id)) {\n",
       "                bad_answers.set(quiz_id, 1);\n",
       "            }\n",
       "            else {\n",
       "                bad_answers.set(quiz_id, bad_answers.get(quiz_id) + 1);\n",
       "            }\n",
       "\n",
       "            if (bad_answers.get(quiz_id) >= 2 && hint.length > 0) {\n",
       "                document.getElementById(quiz_id + \"-hint\").innerHTML = \n",
       "                    \"&nbsp;&nbsp;(Hint: <code>\" + hint + \"</code>)\";\n",
       "            }\n",
       "\n",
       "            if (!multiple_choice) {\n",
       "                for (i = 1;; i++) {\n",
       "                    checkbox = document.getElementById(quiz_id + \"-\" + i.toString());\n",
       "                    label = document.getElementById(quiz_id + \"-\" + i.toString() + \"-label\")\n",
       "\n",
       "                    if (!checkbox)\n",
       "                        break;\n",
       "                    if (checkbox.checked) {\n",
       "                        label.style.textDecoration = \"line-through\";\n",
       "                    }\n",
       "                }\n",
       "            }\n",
       "        }\n",
       "    }\n",
       "    function clear_selection(quiz_id) {\n",
       "        document.getElementById(quiz_id + \"-submit\").value = \"Submit\";\n",
       "        document.getElementById(quiz_id + \"-hint\").innerHTML = \"\";\n",
       "    }\n",
       "    </script>\n",
       "    \n",
       "    <div class=\"quiz\">\n",
       "    <h3 class=\"quiz_title\">Quiz</h3>\n",
       "    <p>\n",
       "    <div class=\"quiz_question\">Donald J. Knuth said: \"Premature optimization...\"</div>\n",
       "    </p>\n",
       "    <p>\n",
       "    <div class=\"quiz_options\" title=\"Pick a choice.\">\n",
       "    \n",
       "        <input type=\"radio\" name=\"a9c3fa44-6a63-11ed-8504-6298cf1a578f\" id=\"a9c3fa44-6a63-11ed-8504-6298cf1a578f-1\" onclick=\"clear_selection('a9c3fa44-6a63-11ed-8504-6298cf1a578f')\">\n",
       "        <label id=\"a9c3fa44-6a63-11ed-8504-6298cf1a578f-1-label\" for=\"a9c3fa44-6a63-11ed-8504-6298cf1a578f-1\">... is the root of all evil</label><br>\n",
       "    \n",
       "        <input type=\"radio\" name=\"a9c3fa44-6a63-11ed-8504-6298cf1a578f\" id=\"a9c3fa44-6a63-11ed-8504-6298cf1a578f-2\" onclick=\"clear_selection('a9c3fa44-6a63-11ed-8504-6298cf1a578f')\">\n",
       "        <label id=\"a9c3fa44-6a63-11ed-8504-6298cf1a578f-2-label\" for=\"a9c3fa44-6a63-11ed-8504-6298cf1a578f-2\">... requires lots of experience</label><br>\n",
       "    \n",
       "        <input type=\"radio\" name=\"a9c3fa44-6a63-11ed-8504-6298cf1a578f\" id=\"a9c3fa44-6a63-11ed-8504-6298cf1a578f-3\" onclick=\"clear_selection('a9c3fa44-6a63-11ed-8504-6298cf1a578f')\">\n",
       "        <label id=\"a9c3fa44-6a63-11ed-8504-6298cf1a578f-3-label\" for=\"a9c3fa44-6a63-11ed-8504-6298cf1a578f-3\">... should be left to assembly programmers</label><br>\n",
       "    \n",
       "        <input type=\"radio\" name=\"a9c3fa44-6a63-11ed-8504-6298cf1a578f\" id=\"a9c3fa44-6a63-11ed-8504-6298cf1a578f-4\" onclick=\"clear_selection('a9c3fa44-6a63-11ed-8504-6298cf1a578f')\">\n",
       "        <label id=\"a9c3fa44-6a63-11ed-8504-6298cf1a578f-4-label\" for=\"a9c3fa44-6a63-11ed-8504-6298cf1a578f-4\">... is the reason why TeX is so fast</label><br>\n",
       "    \n",
       "    </div>\n",
       "    </p>\n",
       "    <input id=\"a9c3fa44-6a63-11ed-8504-6298cf1a578f-submit\" type=\"submit\" value=\"Submit\" onclick=\"check_selection('a9c3fa44-6a63-11ed-8504-6298cf1a578f', 2, 0, 'len(&quot;METAFONT&quot;) - len(&quot;TeX&quot;) - len(&quot;CWEB&quot;)')\">\n",
       "    <span class=\"quiz_hint\" id=\"a9c3fa44-6a63-11ed-8504-6298cf1a578f-hint\"></span>\n",
       "    </div>\n",
       "    "
      ],
      "text/plain": [
       "<IPython.core.display.HTML object>"
      ]
     },
     "execution_count": 11,
     "metadata": {},
     "output_type": "execute_result"
    }
   ],
   "source": [
    "quiz('Donald J. Knuth said: \"Premature optimization...\"',\n",
    "    [\n",
    "        \"... is the root of all evil\",\n",
    "        \"... requires lots of experience\",\n",
    "        \"... should be left to assembly programmers\",\n",
    "        \"... is the reason why TeX is so fast\",\n",
    "    ], 'len(\"METAFONT\") - len(\"TeX\") - len(\"CWEB\")')"
   ]
  },
  {
   "cell_type": "markdown",
   "metadata": {
    "slideshow": {
     "slide_type": "subslide"
    }
   },
   "source": [
    "This quote should always remind us that after a good design, you should always _first_ measure and _then_ optimize."
   ]
  },
  {
   "cell_type": "markdown",
   "metadata": {
    "slideshow": {
     "slide_type": "slide"
    }
   },
   "source": [
    "## Building a Profiler\n",
    "\n",
    "Having discussed profilers from a _user_ perspective, let us now dive into how they are actually implemented. It turns out we can use most of our existing infrastructure to implement a simple tracing profiler with only a few lines of code."
   ]
  },
  {
   "cell_type": "markdown",
   "metadata": {
    "slideshow": {
     "slide_type": "fragment"
    }
   },
   "source": [
    "The program we will apply our profiler on is – surprise! – our ongoing example, `remove_html_markup()`. Our aim is to understand how much time is spent _in each line of the code_ (such that we have a new feature on top of Python `cProfile`)."
   ]
  },
  {
   "cell_type": "code",
   "execution_count": 12,
   "metadata": {
    "execution": {
     "iopub.execute_input": "2022-11-22T12:46:20.093376Z",
     "iopub.status.busy": "2022-11-22T12:46:20.092861Z",
     "iopub.status.idle": "2022-11-22T12:46:20.094101Z",
     "shell.execute_reply": "2022-11-22T12:46:20.094305Z"
    },
    "slideshow": {
     "slide_type": "skip"
    }
   },
   "outputs": [],
   "source": [
    "from Intro_Debugging import remove_html_markup"
   ]
  },
  {
   "cell_type": "code",
   "execution_count": 13,
   "metadata": {
    "execution": {
     "iopub.execute_input": "2022-11-22T12:46:20.096206Z",
     "iopub.status.busy": "2022-11-22T12:46:20.095917Z",
     "iopub.status.idle": "2022-11-22T12:46:20.097644Z",
     "shell.execute_reply": "2022-11-22T12:46:20.098129Z"
    },
    "slideshow": {
     "slide_type": "fragment"
    }
   },
   "outputs": [],
   "source": [
    "# ignore\n",
    "from typing import Any, Optional, Type, Dict, Tuple, List"
   ]
  },
  {
   "cell_type": "code",
   "execution_count": 14,
   "metadata": {
    "execution": {
     "iopub.execute_input": "2022-11-22T12:46:20.100268Z",
     "iopub.status.busy": "2022-11-22T12:46:20.099729Z",
     "iopub.status.idle": "2022-11-22T12:46:20.101003Z",
     "shell.execute_reply": "2022-11-22T12:46:20.101244Z"
    },
    "slideshow": {
     "slide_type": "fragment"
    }
   },
   "outputs": [],
   "source": [
    "# ignore\n",
    "from bookutils import print_content"
   ]
  },
  {
   "cell_type": "code",
   "execution_count": 15,
   "metadata": {
    "execution": {
     "iopub.execute_input": "2022-11-22T12:46:20.102934Z",
     "iopub.status.busy": "2022-11-22T12:46:20.102664Z",
     "iopub.status.idle": "2022-11-22T12:46:20.103964Z",
     "shell.execute_reply": "2022-11-22T12:46:20.104129Z"
    },
    "slideshow": {
     "slide_type": "subslide"
    }
   },
   "outputs": [],
   "source": [
    "# ignore\n",
    "import inspect"
   ]
  },
  {
   "cell_type": "code",
   "execution_count": 16,
   "metadata": {
    "execution": {
     "iopub.execute_input": "2022-11-22T12:46:20.106301Z",
     "iopub.status.busy": "2022-11-22T12:46:20.106004Z",
     "iopub.status.idle": "2022-11-22T12:46:20.254525Z",
     "shell.execute_reply": "2022-11-22T12:46:20.254731Z"
    },
    "slideshow": {
     "slide_type": "subslide"
    }
   },
   "outputs": [
    {
     "name": "stdout",
     "output_type": "stream",
     "text": [
      "238  \u001b[34mdef\u001b[39;49;00m \u001b[32mremove_html_markup\u001b[39;49;00m(s):  \u001b[37m# type: ignore\u001b[39;49;00m\n",
      "239      tag = \u001b[34mFalse\u001b[39;49;00m\n",
      "240      quote = \u001b[34mFalse\u001b[39;49;00m\n",
      "241      out = \u001b[33m\"\u001b[39;49;00m\u001b[33m\"\u001b[39;49;00m\n",
      "242  \n",
      "243      \u001b[34mfor\u001b[39;49;00m c \u001b[35min\u001b[39;49;00m s:\n",
      "244          \u001b[34massert\u001b[39;49;00m tag \u001b[35mor\u001b[39;49;00m \u001b[35mnot\u001b[39;49;00m quote\n",
      "245  \n",
      "246          \u001b[34mif\u001b[39;49;00m c == \u001b[33m'\u001b[39;49;00m\u001b[33m<\u001b[39;49;00m\u001b[33m'\u001b[39;49;00m \u001b[35mand\u001b[39;49;00m \u001b[35mnot\u001b[39;49;00m quote:\n",
      "247              tag = \u001b[34mTrue\u001b[39;49;00m\n",
      "248          \u001b[34melif\u001b[39;49;00m c == \u001b[33m'\u001b[39;49;00m\u001b[33m>\u001b[39;49;00m\u001b[33m'\u001b[39;49;00m \u001b[35mand\u001b[39;49;00m \u001b[35mnot\u001b[39;49;00m quote:\n",
      "249              tag = \u001b[34mFalse\u001b[39;49;00m\n",
      "250          \u001b[34melif\u001b[39;49;00m (c == \u001b[33m'\u001b[39;49;00m\u001b[33m\"\u001b[39;49;00m\u001b[33m'\u001b[39;49;00m \u001b[35mor\u001b[39;49;00m c == \u001b[33m\"\u001b[39;49;00m\u001b[33m'\u001b[39;49;00m\u001b[33m\"\u001b[39;49;00m) \u001b[35mand\u001b[39;49;00m tag:\n",
      "251              quote = \u001b[35mnot\u001b[39;49;00m quote\n",
      "252          \u001b[34melif\u001b[39;49;00m \u001b[35mnot\u001b[39;49;00m tag:\n",
      "253              out = out + c\n",
      "254  \n",
      "255      \u001b[34mreturn\u001b[39;49;00m out"
     ]
    }
   ],
   "source": [
    "print_content(inspect.getsource(remove_html_markup), '.py',\n",
    "              start_line_number=238)"
   ]
  },
  {
   "cell_type": "markdown",
   "metadata": {
    "slideshow": {
     "slide_type": "subslide"
    }
   },
   "source": [
    "We introduce a class `PerformanceTracer` that tracks, for each line in the code:\n",
    "\n",
    "* how _often_ it was executed (`hits`), and\n",
    "* _how much time_ was spent during its execution (`time`).\n",
    "\n",
    "To this end, we make use of our `Timer` class, which measures time, and the `Tracer` class from [the chapter on tracing](Tracer.ipynb), which allows us to track every line of the program as it is being executed."
   ]
  },
  {
   "cell_type": "code",
   "execution_count": 17,
   "metadata": {
    "execution": {
     "iopub.execute_input": "2022-11-22T12:46:20.257123Z",
     "iopub.status.busy": "2022-11-22T12:46:20.256496Z",
     "iopub.status.idle": "2022-11-22T12:46:20.257595Z",
     "shell.execute_reply": "2022-11-22T12:46:20.257815Z"
    },
    "slideshow": {
     "slide_type": "skip"
    }
   },
   "outputs": [],
   "source": [
    "from Tracer import Tracer"
   ]
  },
  {
   "cell_type": "markdown",
   "metadata": {
    "slideshow": {
     "slide_type": "fragment"
    }
   },
   "source": [
    "In `PerfomanceTracker`, the attributes `hits` and `time` are mappings indexed by unique locations – that is, pairs of function name and line number."
   ]
  },
  {
   "cell_type": "code",
   "execution_count": 18,
   "metadata": {
    "execution": {
     "iopub.execute_input": "2022-11-22T12:46:20.259575Z",
     "iopub.status.busy": "2022-11-22T12:46:20.259290Z",
     "iopub.status.idle": "2022-11-22T12:46:20.260670Z",
     "shell.execute_reply": "2022-11-22T12:46:20.260474Z"
    },
    "slideshow": {
     "slide_type": "fragment"
    }
   },
   "outputs": [],
   "source": [
    "Location = Tuple[str, int]"
   ]
  },
  {
   "cell_type": "code",
   "execution_count": 19,
   "metadata": {
    "execution": {
     "iopub.execute_input": "2022-11-22T12:46:20.263371Z",
     "iopub.status.busy": "2022-11-22T12:46:20.263081Z",
     "iopub.status.idle": "2022-11-22T12:46:20.264196Z",
     "shell.execute_reply": "2022-11-22T12:46:20.264378Z"
    },
    "slideshow": {
     "slide_type": "subslide"
    }
   },
   "outputs": [],
   "source": [
    "class PerformanceTracer(Tracer):\n",
    "    \"\"\"Trace time and #hits for individual program lines\"\"\"\n",
    "\n",
    "    def __init__(self) -> None:\n",
    "        \"\"\"Constructor.\"\"\"\n",
    "        super().__init__()\n",
    "        self.reset_timer()\n",
    "        self.hits: Dict[Location, int] = {}\n",
    "        self.time: Dict[Location, float] = {}\n",
    "\n",
    "    def reset_timer(self) -> None:\n",
    "        self.timer = Timer.Timer()"
   ]
  },
  {
   "cell_type": "markdown",
   "metadata": {
    "slideshow": {
     "slide_type": "subslide"
    }
   },
   "source": [
    "As common in this book, we want to use `PerformanceTracer` in a `with`-block around the function call(s) to be tracked:\n",
    "\n",
    "```python\n",
    "with PerformanceTracer() as perf_tracer:\n",
    "    function(...)\n",
    "```"
   ]
  },
  {
   "cell_type": "markdown",
   "metadata": {
    "slideshow": {
     "slide_type": "fragment"
    }
   },
   "source": [
    "When entering the `with` block (`__enter__()`), we reset all timers. Also, coming from the `__enter__()` method of the superclass `Tracer`, we enable tracing through the `traceit()` method."
   ]
  },
  {
   "cell_type": "code",
   "execution_count": 20,
   "metadata": {
    "execution": {
     "iopub.execute_input": "2022-11-22T12:46:20.266246Z",
     "iopub.status.busy": "2022-11-22T12:46:20.265944Z",
     "iopub.status.idle": "2022-11-22T12:46:20.267081Z",
     "shell.execute_reply": "2022-11-22T12:46:20.267268Z"
    },
    "slideshow": {
     "slide_type": "skip"
    }
   },
   "outputs": [],
   "source": [
    "from types import FrameType"
   ]
  },
  {
   "cell_type": "code",
   "execution_count": 21,
   "metadata": {
    "execution": {
     "iopub.execute_input": "2022-11-22T12:46:20.270431Z",
     "iopub.status.busy": "2022-11-22T12:46:20.269643Z",
     "iopub.status.idle": "2022-11-22T12:46:20.271056Z",
     "shell.execute_reply": "2022-11-22T12:46:20.271245Z"
    },
    "slideshow": {
     "slide_type": "subslide"
    }
   },
   "outputs": [],
   "source": [
    "class PerformanceTracer(PerformanceTracer):\n",
    "    def __enter__(self) -> Any:\n",
    "        \"\"\"Enter a `with` block.\"\"\"\n",
    "        super().__enter__()\n",
    "        self.reset_timer()\n",
    "        return self"
   ]
  },
  {
   "cell_type": "markdown",
   "metadata": {
    "slideshow": {
     "slide_type": "fragment"
    }
   },
   "source": [
    "The `traceit()` method extracts the current location. It increases the corresponding `hits` value by 1, and adds the elapsed time to the corresponding `time`."
   ]
  },
  {
   "cell_type": "code",
   "execution_count": 22,
   "metadata": {
    "execution": {
     "iopub.execute_input": "2022-11-22T12:46:20.274526Z",
     "iopub.status.busy": "2022-11-22T12:46:20.273944Z",
     "iopub.status.idle": "2022-11-22T12:46:20.274831Z",
     "shell.execute_reply": "2022-11-22T12:46:20.275129Z"
    },
    "slideshow": {
     "slide_type": "subslide"
    }
   },
   "outputs": [],
   "source": [
    "class PerformanceTracer(PerformanceTracer):\n",
    "    def traceit(self, frame: FrameType, event: str, arg: Any) -> None:\n",
    "        \"\"\"Tracing function; called for every line.\"\"\"\n",
    "        t = self.timer.elapsed_time()\n",
    "        location = (frame.f_code.co_name, frame.f_lineno)\n",
    "\n",
    "        self.hits.setdefault(location, 0)\n",
    "        self.time.setdefault(location, 0.0)\n",
    "        self.hits[location] += 1\n",
    "        self.time[location] += t\n",
    "\n",
    "        self.reset_timer()"
   ]
  },
  {
   "cell_type": "markdown",
   "metadata": {
    "slideshow": {
     "slide_type": "fragment"
    }
   },
   "source": [
    "This is it already. We can now determine where most time is spent in `remove_html_markup()`. We invoke it 10,000 times such that we can average over runs:"
   ]
  },
  {
   "cell_type": "code",
   "execution_count": 23,
   "metadata": {
    "execution": {
     "iopub.execute_input": "2022-11-22T12:46:20.384542Z",
     "iopub.status.busy": "2022-11-22T12:46:20.340128Z",
     "iopub.status.idle": "2022-11-22T12:46:21.189037Z",
     "shell.execute_reply": "2022-11-22T12:46:21.189256Z"
    },
    "slideshow": {
     "slide_type": "subslide"
    }
   },
   "outputs": [],
   "source": [
    "with PerformanceTracer() as perf_tracer:\n",
    "    for i in range(10000):\n",
    "        s = remove_html_markup('<b>foo</b>')"
   ]
  },
  {
   "cell_type": "markdown",
   "metadata": {
    "slideshow": {
     "slide_type": "fragment"
    }
   },
   "source": [
    "Here are the hits. For every line executed, we see how often it was executed. The most executed line is the `for` loop with 110,000 hits – once for each of the 10 characters in `<b>foo</b>`, once for the final check, and all of this 10,000 times."
   ]
  },
  {
   "cell_type": "code",
   "execution_count": 24,
   "metadata": {
    "execution": {
     "iopub.execute_input": "2022-11-22T12:46:21.192548Z",
     "iopub.status.busy": "2022-11-22T12:46:21.192249Z",
     "iopub.status.idle": "2022-11-22T12:46:21.193509Z",
     "shell.execute_reply": "2022-11-22T12:46:21.193736Z"
    },
    "slideshow": {
     "slide_type": "subslide"
    }
   },
   "outputs": [
    {
     "data": {
      "text/plain": [
       "{('__init__', 17): 1,\n",
       " ('__init__', 19): 1,\n",
       " ('clock', 8): 1,\n",
       " ('clock', 12): 2,\n",
       " ('__init__', 20): 2,\n",
       " ('remove_html_markup', 238): 10000,\n",
       " ('remove_html_markup', 239): 10000,\n",
       " ('remove_html_markup', 240): 10000,\n",
       " ('remove_html_markup', 241): 10000,\n",
       " ('remove_html_markup', 243): 110000,\n",
       " ('remove_html_markup', 244): 100000,\n",
       " ('remove_html_markup', 246): 100000,\n",
       " ('remove_html_markup', 247): 20000,\n",
       " ('remove_html_markup', 248): 80000,\n",
       " ('remove_html_markup', 250): 60000,\n",
       " ('remove_html_markup', 252): 60000,\n",
       " ('remove_html_markup', 249): 20000,\n",
       " ('remove_html_markup', 253): 30000,\n",
       " ('remove_html_markup', 255): 20000}"
      ]
     },
     "execution_count": 24,
     "metadata": {},
     "output_type": "execute_result"
    }
   ],
   "source": [
    "perf_tracer.hits"
   ]
  },
  {
   "cell_type": "markdown",
   "metadata": {
    "slideshow": {
     "slide_type": "subslide"
    }
   },
   "source": [
    "The `time` attribute collects how much time was spent in each line. Within the loop, again, the `for` statement takes the most time. The other lines show some variability, though."
   ]
  },
  {
   "cell_type": "code",
   "execution_count": 25,
   "metadata": {
    "execution": {
     "iopub.execute_input": "2022-11-22T12:46:21.196464Z",
     "iopub.status.busy": "2022-11-22T12:46:21.196136Z",
     "iopub.status.idle": "2022-11-22T12:46:21.197460Z",
     "shell.execute_reply": "2022-11-22T12:46:21.197644Z"
    },
    "slideshow": {
     "slide_type": "subslide"
    }
   },
   "outputs": [
    {
     "data": {
      "text/plain": [
       "{('__init__', 17): 1.233400689670816e-05,\n",
       " ('__init__', 19): 1.291002263315022e-06,\n",
       " ('clock', 8): 1.0000003385357559e-06,\n",
       " ('clock', 12): 1.7090060282498598e-06,\n",
       " ('__init__', 20): 1.959000655915588e-06,\n",
       " ('remove_html_markup', 238): 0.011620960969594307,\n",
       " ('remove_html_markup', 239): 0.010714518059103284,\n",
       " ('remove_html_markup', 240): 0.01045121818606276,\n",
       " ('remove_html_markup', 241): 0.009976064211514313,\n",
       " ('remove_html_markup', 243): 0.09455397892452311,\n",
       " ('remove_html_markup', 244): 0.08413135898445034,\n",
       " ('remove_html_markup', 246): 0.08299456690292573,\n",
       " ('remove_html_markup', 247): 0.01694821073760977,\n",
       " ('remove_html_markup', 248): 0.06687395934568485,\n",
       " ('remove_html_markup', 250): 0.04967423358175438,\n",
       " ('remove_html_markup', 252): 0.051723005417443346,\n",
       " ('remove_html_markup', 249): 0.01694674774626037,\n",
       " ('remove_html_markup', 253): 0.02475032446818659,\n",
       " ('remove_html_markup', 255): 0.016634827850793954}"
      ]
     },
     "execution_count": 25,
     "metadata": {},
     "output_type": "execute_result"
    }
   ],
   "source": [
    "perf_tracer.time"
   ]
  },
  {
   "cell_type": "markdown",
   "metadata": {
    "slideshow": {
     "slide_type": "subslide"
    }
   },
   "source": [
    "For a full profiler, these numbers would now be sorted and printed in a table, much like `cProfile` does. However, we will borrow some material from previous chapters and annotate our code accordingly."
   ]
  },
  {
   "cell_type": "markdown",
   "metadata": {
    "slideshow": {
     "slide_type": "slide"
    }
   },
   "source": [
    "## Visualizing Performance Metrics\n",
    "\n",
    "In the [chapter on statistical debugging](StatisticalDebugger.ipynb), we have encountered the `CoverageCollector` class, which collects line and function coverage during execution, using a `collect()` method that is invoked for every line. We will repurpose this class to collect arbitrary _metrics_ on the lines executed, notably time taken."
   ]
  },
  {
   "cell_type": "markdown",
   "metadata": {
    "slideshow": {
     "slide_type": "subslide"
    }
   },
   "source": [
    "### Collecting Time Spent"
   ]
  },
  {
   "cell_type": "code",
   "execution_count": 26,
   "metadata": {
    "execution": {
     "iopub.execute_input": "2022-11-22T12:46:21.201251Z",
     "iopub.status.busy": "2022-11-22T12:46:21.199822Z",
     "iopub.status.idle": "2022-11-22T12:46:21.201692Z",
     "shell.execute_reply": "2022-11-22T12:46:21.201498Z"
    },
    "slideshow": {
     "slide_type": "skip"
    }
   },
   "outputs": [],
   "source": [
    "from StatisticalDebugger import CoverageCollector, SpectrumDebugger"
   ]
  },
  {
   "cell_type": "markdown",
   "metadata": {
    "slideshow": {
     "slide_type": "fragment"
    }
   },
   "source": [
    "The `MetricCollector` class is an abstract superclass that provides an interface to access a particular metric."
   ]
  },
  {
   "cell_type": "code",
   "execution_count": 27,
   "metadata": {
    "execution": {
     "iopub.execute_input": "2022-11-22T12:46:21.204374Z",
     "iopub.status.busy": "2022-11-22T12:46:21.204026Z",
     "iopub.status.idle": "2022-11-22T12:46:21.205351Z",
     "shell.execute_reply": "2022-11-22T12:46:21.205581Z"
    },
    "slideshow": {
     "slide_type": "fragment"
    }
   },
   "outputs": [],
   "source": [
    "class MetricCollector(CoverageCollector):\n",
    "    \"\"\"Abstract superclass for collecting line-specific metrics\"\"\"\n",
    "\n",
    "    def metric(self, event: Any) -> Optional[float]:\n",
    "        \"\"\"Return a metric for an event, or none.\"\"\"\n",
    "        return None\n",
    "\n",
    "    def all_metrics(self, func: str) -> List[float]:\n",
    "        \"\"\"Return all metric for a function `func`.\"\"\"\n",
    "        return []"
   ]
  },
  {
   "cell_type": "markdown",
   "metadata": {
    "slideshow": {
     "slide_type": "fragment"
    }
   },
   "source": [
    "Given these metrics, we can also compute sums and maxima for a single function."
   ]
  },
  {
   "cell_type": "code",
   "execution_count": 28,
   "metadata": {
    "execution": {
     "iopub.execute_input": "2022-11-22T12:46:21.208790Z",
     "iopub.status.busy": "2022-11-22T12:46:21.208479Z",
     "iopub.status.idle": "2022-11-22T12:46:21.210382Z",
     "shell.execute_reply": "2022-11-22T12:46:21.210736Z"
    },
    "slideshow": {
     "slide_type": "subslide"
    }
   },
   "outputs": [],
   "source": [
    "class MetricCollector(MetricCollector):\n",
    "    def total(self, func: str) -> float:\n",
    "        return sum(self.all_metrics(func))\n",
    "\n",
    "    def maximum(self, func: str) -> float:\n",
    "        return max(self.all_metrics(func))"
   ]
  },
  {
   "cell_type": "markdown",
   "metadata": {
    "slideshow": {
     "slide_type": "fragment"
    }
   },
   "source": [
    "Let us instantiate this superclass into `TimeCollector` – a subclass that measures time. This is modeled after our `PerformanceTracer` class, above; notably, the `time` attribute serves the same role."
   ]
  },
  {
   "cell_type": "code",
   "execution_count": 29,
   "metadata": {
    "execution": {
     "iopub.execute_input": "2022-11-22T12:46:21.214960Z",
     "iopub.status.busy": "2022-11-22T12:46:21.214111Z",
     "iopub.status.idle": "2022-11-22T12:46:21.215364Z",
     "shell.execute_reply": "2022-11-22T12:46:21.215864Z"
    },
    "slideshow": {
     "slide_type": "subslide"
    }
   },
   "outputs": [],
   "source": [
    "class TimeCollector(MetricCollector):\n",
    "    \"\"\"Collect time executed for each line\"\"\"\n",
    "\n",
    "    def __init__(self) -> None:\n",
    "        \"\"\"Constructor\"\"\"\n",
    "        super().__init__()\n",
    "        self.reset_timer()\n",
    "        self.time: Dict[Location, float] = {}\n",
    "        self.add_items_to_ignore([Timer.Timer, Timer.clock])\n",
    "\n",
    "    def collect(self, frame: FrameType, event: str, arg: Any) -> None:\n",
    "        \"\"\"Invoked for every line executed. Accumulate time spent.\"\"\"\n",
    "        t = self.timer.elapsed_time()\n",
    "        super().collect(frame, event, arg)\n",
    "        location = (frame.f_code.co_name, frame.f_lineno)\n",
    "\n",
    "        self.time.setdefault(location, 0.0)\n",
    "        self.time[location] += t\n",
    "\n",
    "        self.reset_timer()\n",
    "\n",
    "    def reset_timer(self) -> None:\n",
    "        self.timer = Timer.Timer()\n",
    "\n",
    "    def __enter__(self) -> Any:\n",
    "        super().__enter__()\n",
    "        self.reset_timer()\n",
    "        return self"
   ]
  },
  {
   "cell_type": "markdown",
   "metadata": {
    "slideshow": {
     "slide_type": "subslide"
    }
   },
   "source": [
    "The `metric()` and `all_metrics()` methods accumulate the metric (time taken) for an individual function:"
   ]
  },
  {
   "cell_type": "code",
   "execution_count": 30,
   "metadata": {
    "execution": {
     "iopub.execute_input": "2022-11-22T12:46:21.218621Z",
     "iopub.status.busy": "2022-11-22T12:46:21.218297Z",
     "iopub.status.idle": "2022-11-22T12:46:21.219594Z",
     "shell.execute_reply": "2022-11-22T12:46:21.219809Z"
    },
    "slideshow": {
     "slide_type": "fragment"
    }
   },
   "outputs": [],
   "source": [
    "class TimeCollector(TimeCollector):\n",
    "    def metric(self, location: Any) -> Optional[float]:\n",
    "        if location in self.time:\n",
    "            return self.time[location]\n",
    "        else:\n",
    "            return None\n",
    "\n",
    "    def all_metrics(self, func: str) -> List[float]:\n",
    "        return [time\n",
    "                for (func_name, lineno), time in self.time.items()\n",
    "                if func_name == func]"
   ]
  },
  {
   "cell_type": "markdown",
   "metadata": {
    "slideshow": {
     "slide_type": "fragment"
    }
   },
   "source": [
    "Here's how to use `TimeCollector()` – again, in a `with` block:"
   ]
  },
  {
   "cell_type": "code",
   "execution_count": 31,
   "metadata": {
    "execution": {
     "iopub.execute_input": "2022-11-22T12:46:21.239275Z",
     "iopub.status.busy": "2022-11-22T12:46:21.238956Z",
     "iopub.status.idle": "2022-11-22T12:46:21.240627Z",
     "shell.execute_reply": "2022-11-22T12:46:21.240831Z"
    },
    "slideshow": {
     "slide_type": "subslide"
    }
   },
   "outputs": [],
   "source": [
    "with TimeCollector() as collector:\n",
    "    for i in range(100):\n",
    "        s = remove_html_markup('<b>foo</b>')"
   ]
  },
  {
   "cell_type": "markdown",
   "metadata": {
    "slideshow": {
     "slide_type": "fragment"
    }
   },
   "source": [
    "The `time` attribute holds the time spent in each line:"
   ]
  },
  {
   "cell_type": "code",
   "execution_count": 32,
   "metadata": {
    "execution": {
     "iopub.execute_input": "2022-11-22T12:46:21.243507Z",
     "iopub.status.busy": "2022-11-22T12:46:21.243196Z",
     "iopub.status.idle": "2022-11-22T12:46:21.244674Z",
     "shell.execute_reply": "2022-11-22T12:46:21.244928Z"
    },
    "slideshow": {
     "slide_type": "subslide"
    }
   },
   "outputs": [
    {
     "name": "stdout",
     "output_type": "stream",
     "text": [
      "('remove_html_markup', 238) 0.00021371001639636233\n",
      "('remove_html_markup', 239) 0.00019354101095814258\n",
      "('remove_html_markup', 240) 0.0001796239521354437\n",
      "('remove_html_markup', 241) 0.0001747029964462854\n",
      "('remove_html_markup', 243) 0.0016372580284951255\n",
      "('remove_html_markup', 244) 0.0014735000950167887\n",
      "('remove_html_markup', 246) 0.001445082169084344\n",
      "('remove_html_markup', 247) 0.00029479103977791965\n",
      "('remove_html_markup', 248) 0.0011634669644990936\n",
      "('remove_html_markup', 250) 0.0008734470466151834\n",
      "('remove_html_markup', 252) 0.000892800155270379\n",
      "('remove_html_markup', 249) 0.00029225501930341125\n",
      "('remove_html_markup', 253) 0.00043449211079860106\n",
      "('remove_html_markup', 255) 0.0002931628987425938\n"
     ]
    }
   ],
   "source": [
    "for location, time_spent in collector.time.items():\n",
    "    print(location, time_spent)"
   ]
  },
  {
   "cell_type": "markdown",
   "metadata": {
    "slideshow": {
     "slide_type": "subslide"
    }
   },
   "source": [
    "And we can also create a total for an entire function:"
   ]
  },
  {
   "cell_type": "code",
   "execution_count": 33,
   "metadata": {
    "execution": {
     "iopub.execute_input": "2022-11-22T12:46:21.247193Z",
     "iopub.status.busy": "2022-11-22T12:46:21.246866Z",
     "iopub.status.idle": "2022-11-22T12:46:21.248396Z",
     "shell.execute_reply": "2022-11-22T12:46:21.248612Z"
    },
    "slideshow": {
     "slide_type": "fragment"
    }
   },
   "outputs": [
    {
     "data": {
      "text/plain": [
       "0.009561833503539674"
      ]
     },
     "execution_count": 33,
     "metadata": {},
     "output_type": "execute_result"
    }
   ],
   "source": [
    "collector.total('remove_html_markup')"
   ]
  },
  {
   "cell_type": "markdown",
   "metadata": {
    "slideshow": {
     "slide_type": "subslide"
    }
   },
   "source": [
    "### Visualizing Time Spent\n",
    "\n",
    "Let us now go and visualize these numbers in a simple form. The idea is to assign each line a _color_ whose saturation indicates the time spent in that line relative to the time spent in the function overall  – the higher the fraction, the darker the line. We create a `MetricDebugger` class built as a specialization of `SpectrumDebugger`, in which `suspiciousness()` and `color()` are repurposed to show these metrics."
   ]
  },
  {
   "cell_type": "code",
   "execution_count": 34,
   "metadata": {
    "execution": {
     "iopub.execute_input": "2022-11-22T12:46:21.252793Z",
     "iopub.status.busy": "2022-11-22T12:46:21.252449Z",
     "iopub.status.idle": "2022-11-22T12:46:21.253720Z",
     "shell.execute_reply": "2022-11-22T12:46:21.254038Z"
    },
    "slideshow": {
     "slide_type": "subslide"
    }
   },
   "outputs": [],
   "source": [
    "class MetricDebugger(SpectrumDebugger):\n",
    "    \"\"\"Visualize a metric\"\"\"\n",
    "\n",
    "    def metric(self, location: Location) -> float:\n",
    "        sum = 0.0\n",
    "        for outcome in self.collectors:\n",
    "            for collector in self.collectors[outcome]:\n",
    "                assert isinstance(collector, MetricCollector)\n",
    "                m = collector.metric(location)\n",
    "                if m is not None:\n",
    "                    sum += m  # type: ignore\n",
    "\n",
    "        return sum\n",
    "\n",
    "    def total(self, func_name: str) -> float:\n",
    "        total = 0.0\n",
    "        for outcome in self.collectors:\n",
    "            for collector in self.collectors[outcome]:\n",
    "                assert isinstance(collector, MetricCollector)\n",
    "                total += sum(collector.all_metrics(func_name))\n",
    "\n",
    "        return total\n",
    "\n",
    "    def maximum(self, func_name: str) -> float:\n",
    "        maximum = 0.0\n",
    "        for outcome in self.collectors:\n",
    "            for collector in self.collectors[outcome]:\n",
    "                assert isinstance(collector, MetricCollector)\n",
    "                maximum = max(maximum, \n",
    "                              max(collector.all_metrics(func_name)))\n",
    "\n",
    "        return maximum\n",
    "\n",
    "    def suspiciousness(self, location: Location) -> float:\n",
    "        func_name, _ = location\n",
    "        return self.metric(location) / self.total(func_name)\n",
    "\n",
    "    def color(self, location: Location) -> str:\n",
    "        func_name, _ = location\n",
    "        hue = 240  # blue\n",
    "        saturation = 100  # fully saturated\n",
    "        darkness = self.metric(location) / self.maximum(func_name)\n",
    "        lightness = 100 - darkness * 25\n",
    "        return f\"hsl({hue}, {saturation}%, {lightness}%)\"\n",
    "\n",
    "    def tooltip(self, location: Location) -> str:\n",
    "        return f\"{super().tooltip(location)} {self.metric(location)}\""
   ]
  },
  {
   "cell_type": "markdown",
   "metadata": {
    "slideshow": {
     "slide_type": "subslide"
    }
   },
   "source": [
    "We can now introduce `PerformanceDebugger` as a subclass of `MetricDebugger`, using an arbitrary `MetricCollector` (such as `TimeCollector`) to obtain the metric we want to visualize."
   ]
  },
  {
   "cell_type": "code",
   "execution_count": 35,
   "metadata": {
    "execution": {
     "iopub.execute_input": "2022-11-22T12:46:21.256468Z",
     "iopub.status.busy": "2022-11-22T12:46:21.256172Z",
     "iopub.status.idle": "2022-11-22T12:46:21.257476Z",
     "shell.execute_reply": "2022-11-22T12:46:21.257669Z"
    },
    "slideshow": {
     "slide_type": "fragment"
    }
   },
   "outputs": [],
   "source": [
    "class PerformanceDebugger(MetricDebugger):\n",
    "    \"\"\"Collect and visualize a metric\"\"\"\n",
    "\n",
    "    def __init__(self, collector_class: Type, log: bool = False):\n",
    "        assert issubclass(collector_class, MetricCollector)\n",
    "        super().__init__(collector_class, log=log)"
   ]
  },
  {
   "cell_type": "markdown",
   "metadata": {
    "slideshow": {
     "slide_type": "fragment"
    }
   },
   "source": [
    "With `PerformanceDebugger`, we inherit all the capabilities of `SpectrumDebugger`, such as showing the (relative) percentage of time spent in a table. We see that the `for` condition and the following `assert` take most of the time, followed by the first condition."
   ]
  },
  {
   "cell_type": "code",
   "execution_count": 36,
   "metadata": {
    "execution": {
     "iopub.execute_input": "2022-11-22T12:46:21.279129Z",
     "iopub.status.busy": "2022-11-22T12:46:21.278790Z",
     "iopub.status.idle": "2022-11-22T12:46:21.280002Z",
     "shell.execute_reply": "2022-11-22T12:46:21.280284Z"
    },
    "slideshow": {
     "slide_type": "subslide"
    }
   },
   "outputs": [],
   "source": [
    "with PerformanceDebugger(TimeCollector) as debugger:\n",
    "    for i in range(100):\n",
    "        s = remove_html_markup('<b>foo</b>')"
   ]
  },
  {
   "cell_type": "code",
   "execution_count": 37,
   "metadata": {
    "execution": {
     "iopub.execute_input": "2022-11-22T12:46:21.283480Z",
     "iopub.status.busy": "2022-11-22T12:46:21.283133Z",
     "iopub.status.idle": "2022-11-22T12:46:21.284303Z",
     "shell.execute_reply": "2022-11-22T12:46:21.284495Z"
    },
    "slideshow": {
     "slide_type": "subslide"
    }
   },
   "outputs": [
    {
     "name": "stdout",
     "output_type": "stream",
     "text": [
      " 238   2% def remove_html_markup(s):  # type: ignore\n",
      " 239   1%     tag = False\n",
      " 240   1%     quote = False\n",
      " 241   1%     out = \"\"\n",
      " 242   0%\n",
      " 243  17%     for c in s:\n",
      " 244  14%         assert tag or not quote\n",
      " 245   0%\n",
      " 246  14%         if c == '<' and not quote:\n",
      " 247   3%             tag = True\n",
      " 248  11%         elif c == '>' and not quote:\n",
      " 249   2%             tag = False\n",
      " 250   8%         elif (c == '\"' or c == \"'\") and tag:\n",
      " 251   0%             quote = not quote\n",
      " 252   9%         elif not tag:\n",
      " 253   4%             out = out + c\n",
      " 254   0%\n",
      " 255   4%     return out\n",
      "\n"
     ]
    }
   ],
   "source": [
    "print(debugger)"
   ]
  },
  {
   "cell_type": "markdown",
   "metadata": {
    "slideshow": {
     "slide_type": "subslide"
    }
   },
   "source": [
    "However, we can also visualize these percentages, using shades of blue to indicate those lines most time spent in:"
   ]
  },
  {
   "cell_type": "code",
   "execution_count": 38,
   "metadata": {
    "execution": {
     "iopub.execute_input": "2022-11-22T12:46:21.287906Z",
     "iopub.status.busy": "2022-11-22T12:46:21.287511Z",
     "iopub.status.idle": "2022-11-22T12:46:21.289415Z",
     "shell.execute_reply": "2022-11-22T12:46:21.289589Z"
    },
    "slideshow": {
     "slide_type": "subslide"
    }
   },
   "outputs": [
    {
     "data": {
      "text/html": [
       "<pre style=\"background-color:hsl(240, 100%, 96.64146618381584%)\"\n",
       "                    title=\"Line 238:   2% 0.0002633349795360118\"> 238 def remove_html_markup(s):  # type: ignore</pre>\n",
       "<pre style=\"background-color:hsl(240, 100%, 97.16169576221839%)\"\n",
       "                    title=\"Line 239:   1% 0.00022254496434470639\"> 239     tag = False</pre>\n",
       "<pre style=\"background-color:hsl(240, 100%, 97.31527758896279%)\"\n",
       "                    title=\"Line 240:   1% 0.00021050296345492825\"> 240     quote = False</pre>\n",
       "<pre style=\"background-color:hsl(240, 100%, 97.46412679706114%)\"\n",
       "                    title=\"Line 241:   1% 0.00019883203640347347\"> 241     out = &quot;&quot;</pre>\n",
       "<pre style=\"background-color:hsl(240, 100%, 100.0%)\"\n",
       "                    title=\"Line 242:   0% 0.0\"> 242 &nbsp;</pre>\n",
       "<pre style=\"background-color:hsl(240, 100%, 75.0%)\"\n",
       "                    title=\"Line 243:  17% 0.0019601930034696124\"> 243     for c in s:</pre>\n",
       "<pre style=\"background-color:hsl(240, 100%, 78.34625053647945%)\"\n",
       "                    title=\"Line 244:  14% 0.0016978211278910749\"> 244         assert tag or not quote</pre>\n",
       "<pre style=\"background-color:hsl(240, 100%, 100.0%)\"\n",
       "                    title=\"Line 245:   0% 0.0\"> 245 &nbsp;</pre>\n",
       "<pre style=\"background-color:hsl(240, 100%, 78.6006266543866%)\"\n",
       "                    title=\"Line 246:  14% 0.0016778760764282197\"> 246         if c == &#x27;&lt;&#x27; and not quote:</pre>\n",
       "<pre style=\"background-color:hsl(240, 100%, 95.64357943723597%)\"\n",
       "                    title=\"Line 247:   3% 0.0003415770042920485\"> 247             tag = True</pre>\n",
       "<pre style=\"background-color:hsl(240, 100%, 82.7391097573141%)\"\n",
       "                    title=\"Line 248:  11% 0.001353387051494792\"> 248         elif c == &#x27;&gt;&#x27; and not quote:</pre>\n",
       "<pre style=\"background-color:hsl(240, 100%, 95.67971270220926%)\"\n",
       "                    title=\"Line 249:   2% 0.00033874387736432254\"> 249             tag = False</pre>\n",
       "<pre style=\"background-color:hsl(240, 100%, 87.06646461787585%)\"\n",
       "                    title=\"Line 250:   8% 0.0010140890226466581\"> 250         elif (c == &#x27;&quot;&#x27; or c == &quot;&#x27;&quot;) and tag:</pre>\n",
       "<pre style=\"background-color:hsl(240, 100%, 100.0%)\"\n",
       "                    title=\"Line 251:   0% 0.0\"> 251             quote = not quote</pre>\n",
       "<pre style=\"background-color:hsl(240, 100%, 86.79397862433912%)\"\n",
       "                    title=\"Line 252:   9% 0.0010354540281696245\"> 252         elif not tag:</pre>\n",
       "<pre style=\"background-color:hsl(240, 100%, 93.44939424801241%)\"\n",
       "                    title=\"Line 253:   4% 0.0005136180625413544\"> 253             out = out + c</pre>\n",
       "<pre style=\"background-color:hsl(240, 100%, 100.0%)\"\n",
       "                    title=\"Line 254:   0% 0.0\"> 254 &nbsp;</pre>\n",
       "<pre style=\"background-color:hsl(240, 100%, 93.56037870228813%)\"\n",
       "                    title=\"Line 255:   4% 0.0005049160245107487\"> 255     return out</pre>\n"
      ],
      "text/markdown": [
       "| `remove_html_markup` | `s='<b>foo</b>'` | \n",
       "| ---------------------- | ---- | \n",
       "| <samp style=\"background-color: hsl(240, 100%, 96.64146618381584%)\" title=\"  2% 0.0002633349795360118\">remove_html_markup:238</samp> |    X | \n",
       "| <samp style=\"background-color: hsl(240, 100%, 97.16169576221839%)\" title=\"  1% 0.00022254496434470639\">remove_html_markup:239</samp> |    X | \n",
       "| <samp style=\"background-color: hsl(240, 100%, 97.31527758896279%)\" title=\"  1% 0.00021050296345492825\">remove_html_markup:240</samp> |    X | \n",
       "| <samp style=\"background-color: hsl(240, 100%, 97.46412679706114%)\" title=\"  1% 0.00019883203640347347\">remove_html_markup:241</samp> |    X | \n",
       "| <samp style=\"background-color: hsl(240, 100%, 75.0%)\" title=\" 17% 0.0019601930034696124\">remove_html_markup:243</samp> |    X | \n",
       "| <samp style=\"background-color: hsl(240, 100%, 78.34625053647945%)\" title=\" 14% 0.0016978211278910749\">remove_html_markup:244</samp> |    X | \n",
       "| <samp style=\"background-color: hsl(240, 100%, 78.6006266543866%)\" title=\" 14% 0.0016778760764282197\">remove_html_markup:246</samp> |    X | \n",
       "| <samp style=\"background-color: hsl(240, 100%, 95.64357943723597%)\" title=\"  3% 0.0003415770042920485\">remove_html_markup:247</samp> |    X | \n",
       "| <samp style=\"background-color: hsl(240, 100%, 82.7391097573141%)\" title=\" 11% 0.001353387051494792\">remove_html_markup:248</samp> |    X | \n",
       "| <samp style=\"background-color: hsl(240, 100%, 95.67971270220926%)\" title=\"  2% 0.00033874387736432254\">remove_html_markup:249</samp> |    X | \n",
       "| <samp style=\"background-color: hsl(240, 100%, 87.06646461787585%)\" title=\"  8% 0.0010140890226466581\">remove_html_markup:250</samp> |    X | \n",
       "| <samp style=\"background-color: hsl(240, 100%, 86.79397862433912%)\" title=\"  9% 0.0010354540281696245\">remove_html_markup:252</samp> |    X | \n",
       "| <samp style=\"background-color: hsl(240, 100%, 93.44939424801241%)\" title=\"  4% 0.0005136180625413544\">remove_html_markup:253</samp> |    X | \n",
       "| <samp style=\"background-color: hsl(240, 100%, 93.56037870228813%)\" title=\"  4% 0.0005049160245107487\">remove_html_markup:255</samp> |    X | \n"
      ],
      "text/plain": [
       " 238   2% def remove_html_markup(s):  # type: ignore\n",
       " 239   1%     tag = False\n",
       " 240   1%     quote = False\n",
       " 241   1%     out = \"\"\n",
       " 242   0%\n",
       " 243  17%     for c in s:\n",
       " 244  14%         assert tag or not quote\n",
       " 245   0%\n",
       " 246  14%         if c == '<' and not quote:\n",
       " 247   3%             tag = True\n",
       " 248  11%         elif c == '>' and not quote:\n",
       " 249   2%             tag = False\n",
       " 250   8%         elif (c == '\"' or c == \"'\") and tag:\n",
       " 251   0%             quote = not quote\n",
       " 252   9%         elif not tag:\n",
       " 253   4%             out = out + c\n",
       " 254   0%\n",
       " 255   4%     return out"
      ]
     },
     "execution_count": 38,
     "metadata": {},
     "output_type": "execute_result"
    }
   ],
   "source": [
    "debugger"
   ]
  },
  {
   "cell_type": "markdown",
   "metadata": {
    "slideshow": {
     "slide_type": "subslide"
    }
   },
   "source": [
    "### Other Metrics\n",
    "\n",
    "Our framework is flexible enough to collect (and visualize) arbitrary metrics. This `HitCollector` class, for instance, collects how often a line is being executed."
   ]
  },
  {
   "cell_type": "code",
   "execution_count": 39,
   "metadata": {
    "execution": {
     "iopub.execute_input": "2022-11-22T12:46:21.293541Z",
     "iopub.status.busy": "2022-11-22T12:46:21.293200Z",
     "iopub.status.idle": "2022-11-22T12:46:21.294202Z",
     "shell.execute_reply": "2022-11-22T12:46:21.294649Z"
    },
    "slideshow": {
     "slide_type": "subslide"
    }
   },
   "outputs": [],
   "source": [
    "class HitCollector(MetricCollector):\n",
    "    \"\"\"Collect how often a line is executed\"\"\"\n",
    "\n",
    "    def __init__(self) -> None:\n",
    "        super().__init__()\n",
    "        self.hits: Dict[Location, int] = {}\n",
    "\n",
    "    def collect(self, frame: FrameType, event: str, arg: Any) -> None:\n",
    "        super().collect(frame, event, arg)\n",
    "        location = (frame.f_code.co_name, frame.f_lineno)\n",
    "\n",
    "        self.hits.setdefault(location, 0)\n",
    "        self.hits[location] += 1\n",
    "\n",
    "    def metric(self, location: Location) -> Optional[int]:\n",
    "        if location in self.hits:\n",
    "            return self.hits[location]\n",
    "        else:\n",
    "            return None\n",
    "\n",
    "    def all_metrics(self, func: str) -> List[float]:\n",
    "        return [hits\n",
    "                for (func_name, lineno), hits in self.hits.items()\n",
    "                if func_name == func]"
   ]
  },
  {
   "cell_type": "markdown",
   "metadata": {
    "slideshow": {
     "slide_type": "subslide"
    }
   },
   "source": [
    "We can plug in this class into `PerformanceDebugger` to obtain a distribution of lines executed:"
   ]
  },
  {
   "cell_type": "code",
   "execution_count": 40,
   "metadata": {
    "execution": {
     "iopub.execute_input": "2022-11-22T12:46:21.309681Z",
     "iopub.status.busy": "2022-11-22T12:46:21.309066Z",
     "iopub.status.idle": "2022-11-22T12:46:21.310422Z",
     "shell.execute_reply": "2022-11-22T12:46:21.310575Z"
    },
    "slideshow": {
     "slide_type": "fragment"
    }
   },
   "outputs": [],
   "source": [
    "with PerformanceDebugger(HitCollector) as debugger:\n",
    "    for i in range(100):\n",
    "        s = remove_html_markup('<b>foo</b>')"
   ]
  },
  {
   "cell_type": "markdown",
   "metadata": {
    "slideshow": {
     "slide_type": "fragment"
    }
   },
   "source": [
    "In total, during this call to `remove_html_markup()`, there are 6,400 lines executed:"
   ]
  },
  {
   "cell_type": "code",
   "execution_count": 41,
   "metadata": {
    "execution": {
     "iopub.execute_input": "2022-11-22T12:46:21.312961Z",
     "iopub.status.busy": "2022-11-22T12:46:21.312628Z",
     "iopub.status.idle": "2022-11-22T12:46:21.314260Z",
     "shell.execute_reply": "2022-11-22T12:46:21.314453Z"
    },
    "slideshow": {
     "slide_type": "fragment"
    }
   },
   "outputs": [
    {
     "data": {
      "text/plain": [
       "6400.0"
      ]
     },
     "execution_count": 41,
     "metadata": {},
     "output_type": "execute_result"
    }
   ],
   "source": [
    "debugger.total('remove_html_markup')"
   ]
  },
  {
   "cell_type": "markdown",
   "metadata": {
    "slideshow": {
     "slide_type": "fragment"
    }
   },
   "source": [
    "Again, we can visualize the distribution as a table and using colors. We can see how the shade gets lighter in the lower part of the loop as individual conditions have been met."
   ]
  },
  {
   "cell_type": "code",
   "execution_count": 42,
   "metadata": {
    "execution": {
     "iopub.execute_input": "2022-11-22T12:46:21.317120Z",
     "iopub.status.busy": "2022-11-22T12:46:21.316744Z",
     "iopub.status.idle": "2022-11-22T12:46:21.318302Z",
     "shell.execute_reply": "2022-11-22T12:46:21.318506Z"
    },
    "slideshow": {
     "slide_type": "subslide"
    }
   },
   "outputs": [
    {
     "name": "stdout",
     "output_type": "stream",
     "text": [
      " 238   1% def remove_html_markup(s):  # type: ignore\n",
      " 239   1%     tag = False\n",
      " 240   1%     quote = False\n",
      " 241   1%     out = \"\"\n",
      " 242   0%\n",
      " 243  17%     for c in s:\n",
      " 244  15%         assert tag or not quote\n",
      " 245   0%\n",
      " 246  15%         if c == '<' and not quote:\n",
      " 247   3%             tag = True\n",
      " 248  12%         elif c == '>' and not quote:\n",
      " 249   3%             tag = False\n",
      " 250   9%         elif (c == '\"' or c == \"'\") and tag:\n",
      " 251   0%             quote = not quote\n",
      " 252   9%         elif not tag:\n",
      " 253   4%             out = out + c\n",
      " 254   0%\n",
      " 255   3%     return out\n",
      "\n"
     ]
    }
   ],
   "source": [
    "print(debugger)"
   ]
  },
  {
   "cell_type": "code",
   "execution_count": 43,
   "metadata": {
    "execution": {
     "iopub.execute_input": "2022-11-22T12:46:21.321640Z",
     "iopub.status.busy": "2022-11-22T12:46:21.320651Z",
     "iopub.status.idle": "2022-11-22T12:46:21.323320Z",
     "shell.execute_reply": "2022-11-22T12:46:21.323506Z"
    },
    "slideshow": {
     "slide_type": "subslide"
    }
   },
   "outputs": [
    {
     "data": {
      "text/html": [
       "<pre style=\"background-color:hsl(240, 100%, 97.72727272727273%)\"\n",
       "                    title=\"Line 238:   1% 100.0\"> 238 def remove_html_markup(s):  # type: ignore</pre>\n",
       "<pre style=\"background-color:hsl(240, 100%, 97.72727272727273%)\"\n",
       "                    title=\"Line 239:   1% 100.0\"> 239     tag = False</pre>\n",
       "<pre style=\"background-color:hsl(240, 100%, 97.72727272727273%)\"\n",
       "                    title=\"Line 240:   1% 100.0\"> 240     quote = False</pre>\n",
       "<pre style=\"background-color:hsl(240, 100%, 97.72727272727273%)\"\n",
       "                    title=\"Line 241:   1% 100.0\"> 241     out = &quot;&quot;</pre>\n",
       "<pre style=\"background-color:hsl(240, 100%, 100.0%)\"\n",
       "                    title=\"Line 242:   0% 0.0\"> 242 &nbsp;</pre>\n",
       "<pre style=\"background-color:hsl(240, 100%, 75.0%)\"\n",
       "                    title=\"Line 243:  17% 1100.0\"> 243     for c in s:</pre>\n",
       "<pre style=\"background-color:hsl(240, 100%, 77.27272727272728%)\"\n",
       "                    title=\"Line 244:  15% 1000.0\"> 244         assert tag or not quote</pre>\n",
       "<pre style=\"background-color:hsl(240, 100%, 100.0%)\"\n",
       "                    title=\"Line 245:   0% 0.0\"> 245 &nbsp;</pre>\n",
       "<pre style=\"background-color:hsl(240, 100%, 77.27272727272728%)\"\n",
       "                    title=\"Line 246:  15% 1000.0\"> 246         if c == &#x27;&lt;&#x27; and not quote:</pre>\n",
       "<pre style=\"background-color:hsl(240, 100%, 95.45454545454545%)\"\n",
       "                    title=\"Line 247:   3% 200.0\"> 247             tag = True</pre>\n",
       "<pre style=\"background-color:hsl(240, 100%, 81.81818181818181%)\"\n",
       "                    title=\"Line 248:  12% 800.0\"> 248         elif c == &#x27;&gt;&#x27; and not quote:</pre>\n",
       "<pre style=\"background-color:hsl(240, 100%, 95.45454545454545%)\"\n",
       "                    title=\"Line 249:   3% 200.0\"> 249             tag = False</pre>\n",
       "<pre style=\"background-color:hsl(240, 100%, 86.36363636363636%)\"\n",
       "                    title=\"Line 250:   9% 600.0\"> 250         elif (c == &#x27;&quot;&#x27; or c == &quot;&#x27;&quot;) and tag:</pre>\n",
       "<pre style=\"background-color:hsl(240, 100%, 100.0%)\"\n",
       "                    title=\"Line 251:   0% 0.0\"> 251             quote = not quote</pre>\n",
       "<pre style=\"background-color:hsl(240, 100%, 86.36363636363636%)\"\n",
       "                    title=\"Line 252:   9% 600.0\"> 252         elif not tag:</pre>\n",
       "<pre style=\"background-color:hsl(240, 100%, 93.18181818181819%)\"\n",
       "                    title=\"Line 253:   4% 300.0\"> 253             out = out + c</pre>\n",
       "<pre style=\"background-color:hsl(240, 100%, 100.0%)\"\n",
       "                    title=\"Line 254:   0% 0.0\"> 254 &nbsp;</pre>\n",
       "<pre style=\"background-color:hsl(240, 100%, 95.45454545454545%)\"\n",
       "                    title=\"Line 255:   3% 200.0\"> 255     return out</pre>\n"
      ],
      "text/markdown": [
       "| `remove_html_markup` | `s='<b>foo</b>'` | \n",
       "| ---------------------- | ---- | \n",
       "| <samp style=\"background-color: hsl(240, 100%, 97.72727272727273%)\" title=\"  1% 100.0\">remove_html_markup:238</samp> |    X | \n",
       "| <samp style=\"background-color: hsl(240, 100%, 97.72727272727273%)\" title=\"  1% 100.0\">remove_html_markup:239</samp> |    X | \n",
       "| <samp style=\"background-color: hsl(240, 100%, 97.72727272727273%)\" title=\"  1% 100.0\">remove_html_markup:240</samp> |    X | \n",
       "| <samp style=\"background-color: hsl(240, 100%, 97.72727272727273%)\" title=\"  1% 100.0\">remove_html_markup:241</samp> |    X | \n",
       "| <samp style=\"background-color: hsl(240, 100%, 75.0%)\" title=\" 17% 1100.0\">remove_html_markup:243</samp> |    X | \n",
       "| <samp style=\"background-color: hsl(240, 100%, 77.27272727272728%)\" title=\" 15% 1000.0\">remove_html_markup:244</samp> |    X | \n",
       "| <samp style=\"background-color: hsl(240, 100%, 77.27272727272728%)\" title=\" 15% 1000.0\">remove_html_markup:246</samp> |    X | \n",
       "| <samp style=\"background-color: hsl(240, 100%, 95.45454545454545%)\" title=\"  3% 200.0\">remove_html_markup:247</samp> |    X | \n",
       "| <samp style=\"background-color: hsl(240, 100%, 81.81818181818181%)\" title=\" 12% 800.0\">remove_html_markup:248</samp> |    X | \n",
       "| <samp style=\"background-color: hsl(240, 100%, 95.45454545454545%)\" title=\"  3% 200.0\">remove_html_markup:249</samp> |    X | \n",
       "| <samp style=\"background-color: hsl(240, 100%, 86.36363636363636%)\" title=\"  9% 600.0\">remove_html_markup:250</samp> |    X | \n",
       "| <samp style=\"background-color: hsl(240, 100%, 86.36363636363636%)\" title=\"  9% 600.0\">remove_html_markup:252</samp> |    X | \n",
       "| <samp style=\"background-color: hsl(240, 100%, 93.18181818181819%)\" title=\"  4% 300.0\">remove_html_markup:253</samp> |    X | \n",
       "| <samp style=\"background-color: hsl(240, 100%, 95.45454545454545%)\" title=\"  3% 200.0\">remove_html_markup:255</samp> |    X | \n"
      ],
      "text/plain": [
       " 238   1% def remove_html_markup(s):  # type: ignore\n",
       " 239   1%     tag = False\n",
       " 240   1%     quote = False\n",
       " 241   1%     out = \"\"\n",
       " 242   0%\n",
       " 243  17%     for c in s:\n",
       " 244  15%         assert tag or not quote\n",
       " 245   0%\n",
       " 246  15%         if c == '<' and not quote:\n",
       " 247   3%             tag = True\n",
       " 248  12%         elif c == '>' and not quote:\n",
       " 249   3%             tag = False\n",
       " 250   9%         elif (c == '\"' or c == \"'\") and tag:\n",
       " 251   0%             quote = not quote\n",
       " 252   9%         elif not tag:\n",
       " 253   4%             out = out + c\n",
       " 254   0%\n",
       " 255   3%     return out"
      ]
     },
     "execution_count": 43,
     "metadata": {},
     "output_type": "execute_result"
    }
   ],
   "source": [
    "debugger"
   ]
  },
  {
   "cell_type": "markdown",
   "metadata": {
    "slideshow": {
     "slide_type": "slide"
    }
   },
   "source": [
    "## Integrating with Delta Debugging\n",
    "\n",
    "Besides identifying causes for performance issues in the code, one may also search for causes in the _input_, using [Delta Debugging](DeltaDebugger.ipynb). This can be useful if one does not immediately want to embark into investigating the code, but maybe first determine external influences that are related to performance issues."
   ]
  },
  {
   "cell_type": "markdown",
   "metadata": {
    "slideshow": {
     "slide_type": "fragment"
    }
   },
   "source": [
    "Here is a variant of `remove_html_markup()` that introduces a (rather obvious) performance issue."
   ]
  },
  {
   "cell_type": "code",
   "execution_count": 44,
   "metadata": {
    "execution": {
     "iopub.execute_input": "2022-11-22T12:46:21.325655Z",
     "iopub.status.busy": "2022-11-22T12:46:21.325319Z",
     "iopub.status.idle": "2022-11-22T12:46:21.326480Z",
     "shell.execute_reply": "2022-11-22T12:46:21.326683Z"
    },
    "slideshow": {
     "slide_type": "skip"
    }
   },
   "outputs": [],
   "source": [
    "import time"
   ]
  },
  {
   "cell_type": "code",
   "execution_count": 45,
   "metadata": {
    "execution": {
     "iopub.execute_input": "2022-11-22T12:46:21.329426Z",
     "iopub.status.busy": "2022-11-22T12:46:21.329116Z",
     "iopub.status.idle": "2022-11-22T12:46:21.330487Z",
     "shell.execute_reply": "2022-11-22T12:46:21.330677Z"
    },
    "slideshow": {
     "slide_type": "subslide"
    }
   },
   "outputs": [],
   "source": [
    "def remove_html_markup_ampersand(s: str) -> str:\n",
    "    tag = False\n",
    "    quote = False\n",
    "    out = \"\"\n",
    "\n",
    "    for c in s:\n",
    "        assert tag or not quote\n",
    "\n",
    "        if c == '&':\n",
    "            time.sleep(0.1)  # <-- the obvious performance issue\n",
    "\n",
    "        if c == '<' and not quote:\n",
    "            tag = True\n",
    "        elif c == '>' and not quote:\n",
    "            tag = False\n",
    "        elif (c == '\"' or c == \"'\") and tag:\n",
    "            quote = not quote\n",
    "        elif not tag:\n",
    "            out = out + c\n",
    "\n",
    "    return out"
   ]
  },
  {
   "cell_type": "markdown",
   "metadata": {
    "slideshow": {
     "slide_type": "subslide"
    }
   },
   "source": [
    "We can easily trigger this issue by measuring time taken:"
   ]
  },
  {
   "cell_type": "code",
   "execution_count": 46,
   "metadata": {
    "execution": {
     "iopub.execute_input": "2022-11-22T12:46:21.332573Z",
     "iopub.status.busy": "2022-11-22T12:46:21.332287Z",
     "iopub.status.idle": "2022-11-22T12:46:21.644729Z",
     "shell.execute_reply": "2022-11-22T12:46:21.644922Z"
    },
    "slideshow": {
     "slide_type": "fragment"
    }
   },
   "outputs": [
    {
     "data": {
      "text/plain": [
       "0.310284250001132"
      ]
     },
     "execution_count": 46,
     "metadata": {},
     "output_type": "execute_result"
    }
   ],
   "source": [
    "with Timer.Timer() as t:\n",
    "    remove_html_markup_ampersand('&&&')\n",
    "t.elapsed_time()"
   ]
  },
  {
   "cell_type": "markdown",
   "metadata": {
    "slideshow": {
     "slide_type": "fragment"
    }
   },
   "source": [
    "Let us set up a test that checks whether the performance issue is present."
   ]
  },
  {
   "cell_type": "code",
   "execution_count": 47,
   "metadata": {
    "execution": {
     "iopub.execute_input": "2022-11-22T12:46:21.648372Z",
     "iopub.status.busy": "2022-11-22T12:46:21.648065Z",
     "iopub.status.idle": "2022-11-22T12:46:21.649688Z",
     "shell.execute_reply": "2022-11-22T12:46:21.649914Z"
    },
    "slideshow": {
     "slide_type": "fragment"
    }
   },
   "outputs": [],
   "source": [
    "def remove_html_test(s: str) -> None:\n",
    "    with Timer.Timer() as t:\n",
    "        remove_html_markup_ampersand(s)\n",
    "    assert t.elapsed_time() < 0.1"
   ]
  },
  {
   "cell_type": "markdown",
   "metadata": {
    "slideshow": {
     "slide_type": "fragment"
    }
   },
   "source": [
    "We can now apply delta debugging to determine a minimum input that causes the failure:"
   ]
  },
  {
   "cell_type": "code",
   "execution_count": 48,
   "metadata": {
    "execution": {
     "iopub.execute_input": "2022-11-22T12:46:21.652202Z",
     "iopub.status.busy": "2022-11-22T12:46:21.651913Z",
     "iopub.status.idle": "2022-11-22T12:46:21.653366Z",
     "shell.execute_reply": "2022-11-22T12:46:21.653602Z"
    },
    "slideshow": {
     "slide_type": "fragment"
    }
   },
   "outputs": [],
   "source": [
    "s_fail = '<b>foo&amp;</b>'"
   ]
  },
  {
   "cell_type": "code",
   "execution_count": 49,
   "metadata": {
    "execution": {
     "iopub.execute_input": "2022-11-22T12:46:21.656296Z",
     "iopub.status.busy": "2022-11-22T12:46:21.656013Z",
     "iopub.status.idle": "2022-11-22T12:46:21.760972Z",
     "shell.execute_reply": "2022-11-22T12:46:21.761149Z"
    },
    "slideshow": {
     "slide_type": "subslide"
    }
   },
   "outputs": [],
   "source": [
    "with DeltaDebugger.DeltaDebugger() as dd:\n",
    "    remove_html_test(s_fail)"
   ]
  },
  {
   "cell_type": "code",
   "execution_count": 50,
   "metadata": {
    "execution": {
     "iopub.execute_input": "2022-11-22T12:46:21.763066Z",
     "iopub.status.busy": "2022-11-22T12:46:21.762769Z",
     "iopub.status.idle": "2022-11-22T12:46:22.287071Z",
     "shell.execute_reply": "2022-11-22T12:46:22.287285Z"
    },
    "slideshow": {
     "slide_type": "fragment"
    }
   },
   "outputs": [
    {
     "data": {
      "text/plain": [
       "{'s': '&'}"
      ]
     },
     "execution_count": 50,
     "metadata": {},
     "output_type": "execute_result"
    }
   ],
   "source": [
    "dd.min_args()"
   ]
  },
  {
   "cell_type": "markdown",
   "metadata": {
    "slideshow": {
     "slide_type": "fragment"
    }
   },
   "source": [
    "For performance issues, however, a minimal input is often not enough to highlight the failure cause. This is because short inputs tend to take less processing time than longer inputs, which increases the risks of a spurious diagnosis. A better alternative is to compute a _maximum_ input where the issue does not occur:"
   ]
  },
  {
   "cell_type": "code",
   "execution_count": 51,
   "metadata": {
    "execution": {
     "iopub.execute_input": "2022-11-22T12:46:22.289665Z",
     "iopub.status.busy": "2022-11-22T12:46:22.289346Z",
     "iopub.status.idle": "2022-11-22T12:46:22.498527Z",
     "shell.execute_reply": "2022-11-22T12:46:22.498728Z"
    },
    "slideshow": {
     "slide_type": "fragment"
    }
   },
   "outputs": [],
   "source": [
    "s_pass = dd.max_args()"
   ]
  },
  {
   "cell_type": "code",
   "execution_count": 52,
   "metadata": {
    "execution": {
     "iopub.execute_input": "2022-11-22T12:46:22.501355Z",
     "iopub.status.busy": "2022-11-22T12:46:22.500986Z",
     "iopub.status.idle": "2022-11-22T12:46:22.502504Z",
     "shell.execute_reply": "2022-11-22T12:46:22.502692Z"
    },
    "slideshow": {
     "slide_type": "fragment"
    }
   },
   "outputs": [
    {
     "data": {
      "text/plain": [
       "{'s': '<b>fooamp;</b>'}"
      ]
     },
     "execution_count": 52,
     "metadata": {},
     "output_type": "execute_result"
    }
   ],
   "source": [
    "s_pass"
   ]
  },
  {
   "cell_type": "markdown",
   "metadata": {
    "slideshow": {
     "slide_type": "fragment"
    }
   },
   "source": [
    "We see that the culprit character (the `&`) is removed. This tells us the failure-inducing difference – or, more precisely, the cause for the performance issue."
   ]
  },
  {
   "cell_type": "markdown",
   "metadata": {
    "slideshow": {
     "slide_type": "slide"
    }
   },
   "source": [
    "## Synopsis"
   ]
  },
  {
   "cell_type": "markdown",
   "metadata": {
    "slideshow": {
     "slide_type": "fragment"
    }
   },
   "source": [
    "This chapter provides a class `PerformanceDebugger` that allows to measure and visualize the time taken per line in a function."
   ]
  },
  {
   "cell_type": "code",
   "execution_count": 53,
   "metadata": {
    "execution": {
     "iopub.execute_input": "2022-11-22T12:46:22.522435Z",
     "iopub.status.busy": "2022-11-22T12:46:22.522162Z",
     "iopub.status.idle": "2022-11-22T12:46:22.523419Z",
     "shell.execute_reply": "2022-11-22T12:46:22.523650Z"
    },
    "slideshow": {
     "slide_type": "fragment"
    }
   },
   "outputs": [],
   "source": [
    "with PerformanceDebugger(TimeCollector) as debugger:\n",
    "    for i in range(100):\n",
    "        s = remove_html_markup('<b>foo</b>')"
   ]
  },
  {
   "cell_type": "markdown",
   "metadata": {
    "slideshow": {
     "slide_type": "fragment"
    }
   },
   "source": [
    "The distribution of executed time within each function can be obtained by printing out the debugger:"
   ]
  },
  {
   "cell_type": "code",
   "execution_count": 54,
   "metadata": {
    "execution": {
     "iopub.execute_input": "2022-11-22T12:46:22.525881Z",
     "iopub.status.busy": "2022-11-22T12:46:22.525562Z",
     "iopub.status.idle": "2022-11-22T12:46:22.527317Z",
     "shell.execute_reply": "2022-11-22T12:46:22.527496Z"
    },
    "slideshow": {
     "slide_type": "subslide"
    }
   },
   "outputs": [
    {
     "name": "stdout",
     "output_type": "stream",
     "text": [
      " 238   2% def remove_html_markup(s):  # type: ignore\n",
      " 239   2%     tag = False\n",
      " 240   1%     quote = False\n",
      " 241   1%     out = \"\"\n",
      " 242   0%\n",
      " 243  17%     for c in s:\n",
      " 244  15%         assert tag or not quote\n",
      " 245   0%\n",
      " 246  15%         if c == '<' and not quote:\n",
      " 247   3%             tag = True\n",
      " 248  12%         elif c == '>' and not quote:\n",
      " 249   3%             tag = False\n",
      " 250   9%         elif (c == '\"' or c == \"'\") and tag:\n",
      " 251   0%             quote = not quote\n",
      " 252   9%         elif not tag:\n",
      " 253   4%             out = out + c\n",
      " 254   0%\n",
      " 255   3%     return out\n",
      "\n"
     ]
    }
   ],
   "source": [
    "print(debugger)"
   ]
  },
  {
   "cell_type": "markdown",
   "metadata": {
    "slideshow": {
     "slide_type": "subslide"
    }
   },
   "source": [
    "The sum of all percentages in a function should always be 100%."
   ]
  },
  {
   "cell_type": "markdown",
   "metadata": {
    "slideshow": {
     "slide_type": "fragment"
    }
   },
   "source": [
    "These percentages can also be visualized, where darker shades represent higher percentage values:"
   ]
  },
  {
   "cell_type": "code",
   "execution_count": 55,
   "metadata": {
    "execution": {
     "iopub.execute_input": "2022-11-22T12:46:22.529424Z",
     "iopub.status.busy": "2022-11-22T12:46:22.528957Z",
     "iopub.status.idle": "2022-11-22T12:46:22.531540Z",
     "shell.execute_reply": "2022-11-22T12:46:22.531758Z"
    },
    "slideshow": {
     "slide_type": "subslide"
    }
   },
   "outputs": [
    {
     "data": {
      "text/html": [
       "<pre style=\"background-color:hsl(240, 100%, 96.83300432031088%)\"\n",
       "                    title=\"Line 238:   2% 0.00023283500195248052\"> 238 def remove_html_markup(s):  # type: ignore</pre>\n",
       "<pre style=\"background-color:hsl(240, 100%, 97.05913644484993%)\"\n",
       "                    title=\"Line 239:   2% 0.0002162099481211044\"> 239     tag = False</pre>\n",
       "<pre style=\"background-color:hsl(240, 100%, 97.23882940577403%)\"\n",
       "                    title=\"Line 240:   1% 0.00020299906464060768\"> 240     quote = False</pre>\n",
       "<pre style=\"background-color:hsl(240, 100%, 97.33793333616299%)\"\n",
       "                    title=\"Line 241:   1% 0.000195713022549171\"> 241     out = &quot;&quot;</pre>\n",
       "<pre style=\"background-color:hsl(240, 100%, 100.0%)\"\n",
       "                    title=\"Line 242:   0% 0.0\"> 242 &nbsp;</pre>\n",
       "<pre style=\"background-color:hsl(240, 100%, 75.0%)\"\n",
       "                    title=\"Line 243:  17% 0.0018379801040282473\"> 243     for c in s:</pre>\n",
       "<pre style=\"background-color:hsl(240, 100%, 77.49183769647307%)\"\n",
       "                    title=\"Line 244:  15% 0.0016547821796848439\"> 244         assert tag or not quote</pre>\n",
       "<pre style=\"background-color:hsl(240, 100%, 100.0%)\"\n",
       "                    title=\"Line 245:   0% 0.0\"> 245 &nbsp;</pre>\n",
       "<pre style=\"background-color:hsl(240, 100%, 77.84572017562785%)\"\n",
       "                    title=\"Line 246:  15% 0.0016287650214508176\"> 246         if c == &#x27;&lt;&#x27; and not quote:</pre>\n",
       "<pre style=\"background-color:hsl(240, 100%, 95.50571871123645%)\"\n",
       "                    title=\"Line 247:   3% 0.0003304159836261533\"> 247             tag = True</pre>\n",
       "<pre style=\"background-color:hsl(240, 100%, 82.15881083945104%)\"\n",
       "                    title=\"Line 248:  12% 0.0013116700283717364\"> 248         elif c == &#x27;&gt;&#x27; and not quote:</pre>\n",
       "<pre style=\"background-color:hsl(240, 100%, 95.50178864213255%)\"\n",
       "                    title=\"Line 249:   3% 0.00033070491917897016\"> 249             tag = False</pre>\n",
       "<pre style=\"background-color:hsl(240, 100%, 86.62476081415949%)\"\n",
       "                    title=\"Line 250:   9% 0.000983336940407753\"> 250         elif (c == &#x27;&quot;&#x27; or c == &quot;&#x27;&quot;) and tag:</pre>\n",
       "<pre style=\"background-color:hsl(240, 100%, 100.0%)\"\n",
       "                    title=\"Line 251:   0% 0.0\"> 251             quote = not quote</pre>\n",
       "<pre style=\"background-color:hsl(240, 100%, 86.35322432247375%)\"\n",
       "                    title=\"Line 252:   9% 0.0010033000871771947\"> 252         elif not tag:</pre>\n",
       "<pre style=\"background-color:hsl(240, 100%, 93.33729212259169%)\"\n",
       "                    title=\"Line 253:   4% 0.0004898369807051495\"> 253             out = out + c</pre>\n",
       "<pre style=\"background-color:hsl(240, 100%, 100.0%)\"\n",
       "                    title=\"Line 254:   0% 0.0\"> 254 &nbsp;</pre>\n",
       "<pre style=\"background-color:hsl(240, 100%, 95.5431779277264%)\"\n",
       "                    title=\"Line 255:   3% 0.00032766201184131205\"> 255     return out</pre>\n"
      ],
      "text/markdown": [
       "| `remove_html_markup` | `s='<b>foo</b>'` | \n",
       "| ---------------------- | ---- | \n",
       "| <samp style=\"background-color: hsl(240, 100%, 96.83300432031088%)\" title=\"  2% 0.00023283500195248052\">remove_html_markup:238</samp> |    X | \n",
       "| <samp style=\"background-color: hsl(240, 100%, 97.05913644484993%)\" title=\"  2% 0.0002162099481211044\">remove_html_markup:239</samp> |    X | \n",
       "| <samp style=\"background-color: hsl(240, 100%, 97.23882940577403%)\" title=\"  1% 0.00020299906464060768\">remove_html_markup:240</samp> |    X | \n",
       "| <samp style=\"background-color: hsl(240, 100%, 97.33793333616299%)\" title=\"  1% 0.000195713022549171\">remove_html_markup:241</samp> |    X | \n",
       "| <samp style=\"background-color: hsl(240, 100%, 75.0%)\" title=\" 17% 0.0018379801040282473\">remove_html_markup:243</samp> |    X | \n",
       "| <samp style=\"background-color: hsl(240, 100%, 77.49183769647307%)\" title=\" 15% 0.0016547821796848439\">remove_html_markup:244</samp> |    X | \n",
       "| <samp style=\"background-color: hsl(240, 100%, 77.84572017562785%)\" title=\" 15% 0.0016287650214508176\">remove_html_markup:246</samp> |    X | \n",
       "| <samp style=\"background-color: hsl(240, 100%, 95.50571871123645%)\" title=\"  3% 0.0003304159836261533\">remove_html_markup:247</samp> |    X | \n",
       "| <samp style=\"background-color: hsl(240, 100%, 82.15881083945104%)\" title=\" 12% 0.0013116700283717364\">remove_html_markup:248</samp> |    X | \n",
       "| <samp style=\"background-color: hsl(240, 100%, 95.50178864213255%)\" title=\"  3% 0.00033070491917897016\">remove_html_markup:249</samp> |    X | \n",
       "| <samp style=\"background-color: hsl(240, 100%, 86.62476081415949%)\" title=\"  9% 0.000983336940407753\">remove_html_markup:250</samp> |    X | \n",
       "| <samp style=\"background-color: hsl(240, 100%, 86.35322432247375%)\" title=\"  9% 0.0010033000871771947\">remove_html_markup:252</samp> |    X | \n",
       "| <samp style=\"background-color: hsl(240, 100%, 93.33729212259169%)\" title=\"  4% 0.0004898369807051495\">remove_html_markup:253</samp> |    X | \n",
       "| <samp style=\"background-color: hsl(240, 100%, 95.5431779277264%)\" title=\"  3% 0.00032766201184131205\">remove_html_markup:255</samp> |    X | \n"
      ],
      "text/plain": [
       " 238   2% def remove_html_markup(s):  # type: ignore\n",
       " 239   2%     tag = False\n",
       " 240   1%     quote = False\n",
       " 241   1%     out = \"\"\n",
       " 242   0%\n",
       " 243  17%     for c in s:\n",
       " 244  15%         assert tag or not quote\n",
       " 245   0%\n",
       " 246  15%         if c == '<' and not quote:\n",
       " 247   3%             tag = True\n",
       " 248  12%         elif c == '>' and not quote:\n",
       " 249   3%             tag = False\n",
       " 250   9%         elif (c == '\"' or c == \"'\") and tag:\n",
       " 251   0%             quote = not quote\n",
       " 252   9%         elif not tag:\n",
       " 253   4%             out = out + c\n",
       " 254   0%\n",
       " 255   3%     return out"
      ]
     },
     "execution_count": 55,
     "metadata": {},
     "output_type": "execute_result"
    }
   ],
   "source": [
    "debugger"
   ]
  },
  {
   "cell_type": "markdown",
   "metadata": {
    "slideshow": {
     "slide_type": "subslide"
    }
   },
   "source": [
    "The abstract `MetricCollector` class allows subclassing to build more collectors, such as `HitCollector`."
   ]
  },
  {
   "cell_type": "code",
   "execution_count": 56,
   "metadata": {
    "execution": {
     "iopub.execute_input": "2022-11-22T12:46:22.533645Z",
     "iopub.status.busy": "2022-11-22T12:46:22.533367Z",
     "iopub.status.idle": "2022-11-22T12:46:22.534650Z",
     "shell.execute_reply": "2022-11-22T12:46:22.534841Z"
    },
    "slideshow": {
     "slide_type": "fragment"
    }
   },
   "outputs": [],
   "source": [
    "# ignore\n",
    "from ClassDiagram import display_class_hierarchy"
   ]
  },
  {
   "cell_type": "code",
   "execution_count": 57,
   "metadata": {
    "execution": {
     "iopub.execute_input": "2022-11-22T12:46:22.540512Z",
     "iopub.status.busy": "2022-11-22T12:46:22.540238Z",
     "iopub.status.idle": "2022-11-22T12:46:23.091558Z",
     "shell.execute_reply": "2022-11-22T12:46:23.091753Z"
    },
    "slideshow": {
     "slide_type": "fragment"
    }
   },
   "outputs": [
    {
     "data": {
      "image/svg+xml": [
       "<?xml version=\"1.0\" encoding=\"UTF-8\" standalone=\"no\"?>\n",
       "<!DOCTYPE svg PUBLIC \"-//W3C//DTD SVG 1.1//EN\"\n",
       " \"http://www.w3.org/Graphics/SVG/1.1/DTD/svg11.dtd\">\n",
       "<!-- Generated by graphviz version 5.0.0 (20220707.1540)\n",
       " -->\n",
       "<!-- Pages: 1 -->\n",
       "<svg width=\"557pt\" height=\"555pt\"\n",
       " viewBox=\"0.00 0.00 557.00 555.00\" xmlns=\"http://www.w3.org/2000/svg\" xmlns:xlink=\"http://www.w3.org/1999/xlink\">\n",
       "<g id=\"graph0\" class=\"graph\" transform=\"scale(1 1) rotate(0) translate(4 551)\">\n",
       "<g id=\"a_graph0\"><a xlink:title=\"PerformanceDebugger class hierarchy\">\n",
       "<polygon fill=\"white\" stroke=\"transparent\" points=\"-4,4 -4,-551 553,-551 553,4 -4,4\"/>\n",
       "</a>\n",
       "</g>\n",
       "<!-- PerformanceDebugger -->\n",
       "<g id=\"node1\" class=\"node\">\n",
       "<title>PerformanceDebugger</title>\n",
       "<g id=\"a_node1\"><a xlink:href=\"#\" xlink:title=\"class PerformanceDebugger:&#10;Collect and visualize a metric\">\n",
       "<polygon fill=\"none\" stroke=\"black\" points=\"0,-28 0,-70 162,-70 162,-28 0,-28\"/>\n",
       "<text text-anchor=\"start\" x=\"8\" y=\"-55.8\" font-family=\"Raleway, Helvetica, Arial, sans-serif\" font-weight=\"bold\" font-size=\"14.00\" fill=\"#6a0dad\">PerformanceDebugger</text>\n",
       "<polyline fill=\"none\" stroke=\"black\" points=\"0,-47 162,-47 \"/>\n",
       "<g id=\"a_node1_0\"><a xlink:href=\"#\" xlink:title=\"PerformanceDebugger\">\n",
       "<g id=\"a_node1_1\"><a xlink:href=\"#\" xlink:title=\"__init__(self, collector_class: Type, log: bool = False):&#10;Constructor. Use instances of `collector_class` to collect events.\">\n",
       "<text text-anchor=\"start\" x=\"51\" y=\"-35.5\" font-family=\"'Fira Mono', 'Source Code Pro', 'Courier', monospace\" font-weight=\"bold\" font-style=\"italic\" font-size=\"10.00\">__init__()</text>\n",
       "</a>\n",
       "</g>\n",
       "</a>\n",
       "</g>\n",
       "</a>\n",
       "</g>\n",
       "</g>\n",
       "<!-- MetricDebugger -->\n",
       "<g id=\"node2\" class=\"node\">\n",
       "<title>MetricDebugger</title>\n",
       "<g id=\"a_node2\"><a xlink:href=\"#\" xlink:title=\"class MetricDebugger:&#10;Visualize a metric\">\n",
       "<polygon fill=\"none\" stroke=\"black\" points=\"21,-134.5 21,-231.5 141,-231.5 141,-134.5 21,-134.5\"/>\n",
       "<text text-anchor=\"start\" x=\"29\" y=\"-217.3\" font-family=\"Raleway, Helvetica, Arial, sans-serif\" font-weight=\"bold\" font-size=\"14.00\" fill=\"#6a0dad\">MetricDebugger</text>\n",
       "<polyline fill=\"none\" stroke=\"black\" points=\"21,-208.5 141,-208.5 \"/>\n",
       "<g id=\"a_node2_2\"><a xlink:href=\"#\" xlink:title=\"MetricDebugger\">\n",
       "<g id=\"a_node2_3\"><a xlink:href=\"#\" xlink:title=\"color(self, location: Tuple[str, int]) &#45;&gt; str:&#10;Return a color for the given event, or None.&#10;To be overloaded in subclasses.\">\n",
       "<text text-anchor=\"start\" x=\"33\" y=\"-197.5\" font-family=\"'Fira Mono', 'Source Code Pro', 'Courier', monospace\" font-style=\"italic\" font-size=\"10.00\">color()</text>\n",
       "</a>\n",
       "</g>\n",
       "<g id=\"a_node2_4\"><a xlink:href=\"#\" xlink:title=\"maximum(self, func_name: str) &#45;&gt; float\">\n",
       "<text text-anchor=\"start\" x=\"33\" y=\"-185.5\" font-family=\"'Fira Mono', 'Source Code Pro', 'Courier', monospace\" font-size=\"10.00\">maximum()</text>\n",
       "</a>\n",
       "</g>\n",
       "<g id=\"a_node2_5\"><a xlink:href=\"#\" xlink:title=\"metric(self, location: Tuple[str, int]) &#45;&gt; float\">\n",
       "<text text-anchor=\"start\" x=\"33\" y=\"-174.5\" font-family=\"'Fira Mono', 'Source Code Pro', 'Courier', monospace\" font-size=\"10.00\">metric()</text>\n",
       "</a>\n",
       "</g>\n",
       "<g id=\"a_node2_6\"><a xlink:href=\"#\" xlink:title=\"suspiciousness(self, location: Tuple[str, int]) &#45;&gt; float:&#10;Return a suspiciousness value in the range [0, 1.0]&#10;for the given event, or `None` if unknown.&#10;To be overloaded in subclasses.\">\n",
       "<text text-anchor=\"start\" x=\"33\" y=\"-164.5\" font-family=\"'Fira Mono', 'Source Code Pro', 'Courier', monospace\" font-style=\"italic\" font-size=\"10.00\">suspiciousness()</text>\n",
       "</a>\n",
       "</g>\n",
       "<g id=\"a_node2_7\"><a xlink:href=\"#\" xlink:title=\"tooltip(self, location: Tuple[str, int]) &#45;&gt; str:&#10;Return a tooltip for the given event (default: percentage).&#10;To be overloaded in subclasses.\">\n",
       "<text text-anchor=\"start\" x=\"33\" y=\"-153.5\" font-family=\"'Fira Mono', 'Source Code Pro', 'Courier', monospace\" font-style=\"italic\" font-size=\"10.00\">tooltip()</text>\n",
       "</a>\n",
       "</g>\n",
       "<g id=\"a_node2_8\"><a xlink:href=\"#\" xlink:title=\"total(self, func_name: str) &#45;&gt; float\">\n",
       "<text text-anchor=\"start\" x=\"33\" y=\"-141.5\" font-family=\"'Fira Mono', 'Source Code Pro', 'Courier', monospace\" font-size=\"10.00\">total()</text>\n",
       "</a>\n",
       "</g>\n",
       "</a>\n",
       "</g>\n",
       "</a>\n",
       "</g>\n",
       "</g>\n",
       "<!-- PerformanceDebugger&#45;&gt;MetricDebugger -->\n",
       "<g id=\"edge1\" class=\"edge\">\n",
       "<title>PerformanceDebugger&#45;&gt;MetricDebugger</title>\n",
       "<path fill=\"none\" stroke=\"black\" d=\"M81,-70.05C81,-84.54 81,-104.91 81,-124.3\"/>\n",
       "<polygon fill=\"none\" stroke=\"black\" points=\"77.5,-124.32 81,-134.32 84.5,-124.32 77.5,-124.32\"/>\n",
       "</g>\n",
       "<!-- SpectrumDebugger -->\n",
       "<g id=\"node3\" class=\"node\">\n",
       "<title>SpectrumDebugger</title>\n",
       "<g id=\"a_node3\"><a xlink:href=\"StatisticalDebugger.ipynb\" xlink:title=\"class SpectrumDebugger:&#10;A class to collect events for passing and failing outcomes.\">\n",
       "<polygon fill=\"none\" stroke=\"black\" points=\"9.5,-268.5 9.5,-304.5 152.5,-304.5 152.5,-268.5 9.5,-268.5\"/>\n",
       "<text text-anchor=\"start\" x=\"17.5\" y=\"-283.8\" font-family=\"Raleway, Helvetica, Arial, sans-serif\" font-weight=\"bold\" font-size=\"14.00\" fill=\"#6a0dad\">SpectrumDebugger</text>\n",
       "</a>\n",
       "</g>\n",
       "</g>\n",
       "<!-- MetricDebugger&#45;&gt;SpectrumDebugger -->\n",
       "<g id=\"edge2\" class=\"edge\">\n",
       "<title>MetricDebugger&#45;&gt;SpectrumDebugger</title>\n",
       "<path fill=\"none\" stroke=\"black\" d=\"M81,-231.78C81,-240.69 81,-249.72 81,-257.77\"/>\n",
       "<polygon fill=\"none\" stroke=\"black\" points=\"77.5,-258.03 81,-268.03 84.5,-258.03 77.5,-258.03\"/>\n",
       "</g>\n",
       "<!-- DifferenceDebugger -->\n",
       "<g id=\"node4\" class=\"node\">\n",
       "<title>DifferenceDebugger</title>\n",
       "<g id=\"a_node4\"><a xlink:href=\"StatisticalDebugger.ipynb\" xlink:title=\"class DifferenceDebugger:&#10;A class to collect events for passing and failing outcomes.\">\n",
       "<polygon fill=\"none\" stroke=\"black\" points=\"8,-341.5 8,-394.5 154,-394.5 154,-341.5 8,-341.5\"/>\n",
       "<text text-anchor=\"start\" x=\"16\" y=\"-380.3\" font-family=\"Raleway, Helvetica, Arial, sans-serif\" font-weight=\"bold\" font-size=\"14.00\" fill=\"#6a0dad\">DifferenceDebugger</text>\n",
       "<polyline fill=\"none\" stroke=\"black\" points=\"8,-371.5 154,-371.5 \"/>\n",
       "<g id=\"a_node4_9\"><a xlink:href=\"#\" xlink:title=\"DifferenceDebugger\">\n",
       "<g id=\"a_node4_10\"><a xlink:href=\"StatisticalDebugger.ipynb\" xlink:title=\"FAIL = &#39;FAIL&#39;\">\n",
       "<text text-anchor=\"start\" x=\"69\" y=\"-359.5\" font-family=\"'Fira Mono', 'Source Code Pro', 'Courier', monospace\" font-size=\"10.00\">FAIL</text>\n",
       "</a>\n",
       "</g>\n",
       "<g id=\"a_node4_11\"><a xlink:href=\"StatisticalDebugger.ipynb\" xlink:title=\"PASS = &#39;PASS&#39;\">\n",
       "<text text-anchor=\"start\" x=\"69\" y=\"-348.5\" font-family=\"'Fira Mono', 'Source Code Pro', 'Courier', monospace\" font-size=\"10.00\">PASS</text>\n",
       "</a>\n",
       "</g>\n",
       "</a>\n",
       "</g>\n",
       "</a>\n",
       "</g>\n",
       "</g>\n",
       "<!-- SpectrumDebugger&#45;&gt;DifferenceDebugger -->\n",
       "<g id=\"edge3\" class=\"edge\">\n",
       "<title>SpectrumDebugger&#45;&gt;DifferenceDebugger</title>\n",
       "<path fill=\"none\" stroke=\"black\" d=\"M81,-304.75C81,-312.51 81,-321.99 81,-331.18\"/>\n",
       "<polygon fill=\"none\" stroke=\"black\" points=\"77.5,-331.32 81,-341.32 84.5,-331.32 77.5,-331.32\"/>\n",
       "</g>\n",
       "<!-- StatisticalDebugger -->\n",
       "<g id=\"node5\" class=\"node\">\n",
       "<title>StatisticalDebugger</title>\n",
       "<g id=\"a_node5\"><a xlink:href=\"StatisticalDebugger.ipynb\" xlink:title=\"class StatisticalDebugger:&#10;A class to collect events for multiple outcomes.\">\n",
       "<polygon fill=\"none\" stroke=\"black\" points=\"11,-431.5 11,-467.5 151,-467.5 151,-431.5 11,-431.5\"/>\n",
       "<text text-anchor=\"start\" x=\"19\" y=\"-446.8\" font-family=\"Raleway, Helvetica, Arial, sans-serif\" font-weight=\"bold\" font-size=\"14.00\" fill=\"#6a0dad\">StatisticalDebugger</text>\n",
       "</a>\n",
       "</g>\n",
       "</g>\n",
       "<!-- DifferenceDebugger&#45;&gt;StatisticalDebugger -->\n",
       "<g id=\"edge4\" class=\"edge\">\n",
       "<title>DifferenceDebugger&#45;&gt;StatisticalDebugger</title>\n",
       "<path fill=\"none\" stroke=\"black\" d=\"M81,-394.59C81,-403.02 81,-412.42 81,-420.98\"/>\n",
       "<polygon fill=\"none\" stroke=\"black\" points=\"77.5,-421.24 81,-431.24 84.5,-421.24 77.5,-421.24\"/>\n",
       "</g>\n",
       "<!-- TimeCollector -->\n",
       "<g id=\"node6\" class=\"node\">\n",
       "<title>TimeCollector</title>\n",
       "<g id=\"a_node6\"><a xlink:href=\"#\" xlink:title=\"class TimeCollector:&#10;Collect time executed for each line\">\n",
       "<polygon fill=\"none\" stroke=\"black\" points=\"192.5,-0.5 192.5,-97.5 297.5,-97.5 297.5,-0.5 192.5,-0.5\"/>\n",
       "<text text-anchor=\"start\" x=\"200.5\" y=\"-83.3\" font-family=\"Raleway, Helvetica, Arial, sans-serif\" font-weight=\"bold\" font-size=\"14.00\" fill=\"#6a0dad\">TimeCollector</text>\n",
       "<polyline fill=\"none\" stroke=\"black\" points=\"192.5,-74.5 297.5,-74.5 \"/>\n",
       "<g id=\"a_node6_12\"><a xlink:href=\"#\" xlink:title=\"TimeCollector\">\n",
       "<g id=\"a_node6_13\"><a xlink:href=\"#\" xlink:title=\"__enter__(self) &#45;&gt; Any:&#10;Called at begin of `with` block. Turn tracing on.\">\n",
       "<text text-anchor=\"start\" x=\"206\" y=\"-63.5\" font-family=\"'Fira Mono', 'Source Code Pro', 'Courier', monospace\" font-style=\"italic\" font-size=\"10.00\">__enter__()</text>\n",
       "</a>\n",
       "</g>\n",
       "<g id=\"a_node6_14\"><a xlink:href=\"#\" xlink:title=\"__init__(self) &#45;&gt; None:&#10;Constructor\">\n",
       "<text text-anchor=\"start\" x=\"206\" y=\"-52.5\" font-family=\"'Fira Mono', 'Source Code Pro', 'Courier', monospace\" font-style=\"italic\" font-size=\"10.00\">__init__()</text>\n",
       "</a>\n",
       "</g>\n",
       "<g id=\"a_node6_15\"><a xlink:href=\"#\" xlink:title=\"all_metrics(self, func: str) &#45;&gt; List[float]:&#10;Return all metric for a function `func`.\">\n",
       "<text text-anchor=\"start\" x=\"206\" y=\"-41.5\" font-family=\"'Fira Mono', 'Source Code Pro', 'Courier', monospace\" font-style=\"italic\" font-size=\"10.00\">all_metrics()</text>\n",
       "</a>\n",
       "</g>\n",
       "<g id=\"a_node6_16\"><a xlink:href=\"#\" xlink:title=\"collect(self, frame: frame, event: str, arg: Any) &#45;&gt; None:&#10;Invoked for every line executed. Accumulate time spent.\">\n",
       "<text text-anchor=\"start\" x=\"206\" y=\"-30.5\" font-family=\"'Fira Mono', 'Source Code Pro', 'Courier', monospace\" font-style=\"italic\" font-size=\"10.00\">collect()</text>\n",
       "</a>\n",
       "</g>\n",
       "<g id=\"a_node6_17\"><a xlink:href=\"#\" xlink:title=\"metric(self, location: Any) &#45;&gt; Optional[float]:&#10;Return a metric for an event, or none.\">\n",
       "<text text-anchor=\"start\" x=\"206\" y=\"-19.5\" font-family=\"'Fira Mono', 'Source Code Pro', 'Courier', monospace\" font-style=\"italic\" font-size=\"10.00\">metric()</text>\n",
       "</a>\n",
       "</g>\n",
       "<g id=\"a_node6_18\"><a xlink:href=\"#\" xlink:title=\"reset_timer(self) &#45;&gt; None\">\n",
       "<text text-anchor=\"start\" x=\"206\" y=\"-7.5\" font-family=\"'Fira Mono', 'Source Code Pro', 'Courier', monospace\" font-size=\"10.00\">reset_timer()</text>\n",
       "</a>\n",
       "</g>\n",
       "</a>\n",
       "</g>\n",
       "</a>\n",
       "</g>\n",
       "</g>\n",
       "<!-- MetricCollector -->\n",
       "<g id=\"node7\" class=\"node\">\n",
       "<title>MetricCollector</title>\n",
       "<g id=\"a_node7\"><a xlink:href=\"#\" xlink:title=\"class MetricCollector:&#10;Abstract superclass for collecting line&#45;specific metrics\">\n",
       "<polygon fill=\"none\" stroke=\"black\" points=\"199.5,-145.5 199.5,-220.5 312.5,-220.5 312.5,-145.5 199.5,-145.5\"/>\n",
       "<text text-anchor=\"start\" x=\"207.5\" y=\"-206.3\" font-family=\"Raleway, Helvetica, Arial, sans-serif\" font-weight=\"bold\" font-size=\"14.00\" fill=\"#6a0dad\">MetricCollector</text>\n",
       "<polyline fill=\"none\" stroke=\"black\" points=\"199.5,-197.5 312.5,-197.5 \"/>\n",
       "<g id=\"a_node7_19\"><a xlink:href=\"#\" xlink:title=\"MetricCollector\">\n",
       "<g id=\"a_node7_20\"><a xlink:href=\"#\" xlink:title=\"all_metrics(self, func: str) &#45;&gt; List[float]:&#10;Return all metric for a function `func`.\">\n",
       "<text text-anchor=\"start\" x=\"217\" y=\"-186.5\" font-family=\"'Fira Mono', 'Source Code Pro', 'Courier', monospace\" font-style=\"italic\" font-size=\"10.00\">all_metrics()</text>\n",
       "</a>\n",
       "</g>\n",
       "<g id=\"a_node7_21\"><a xlink:href=\"#\" xlink:title=\"maximum(self, func: str) &#45;&gt; float\">\n",
       "<text text-anchor=\"start\" x=\"217\" y=\"-174.5\" font-family=\"'Fira Mono', 'Source Code Pro', 'Courier', monospace\" font-size=\"10.00\">maximum()</text>\n",
       "</a>\n",
       "</g>\n",
       "<g id=\"a_node7_22\"><a xlink:href=\"#\" xlink:title=\"metric(self, event: Any) &#45;&gt; Optional[float]:&#10;Return a metric for an event, or none.\">\n",
       "<text text-anchor=\"start\" x=\"217\" y=\"-164.5\" font-family=\"'Fira Mono', 'Source Code Pro', 'Courier', monospace\" font-style=\"italic\" font-size=\"10.00\">metric()</text>\n",
       "</a>\n",
       "</g>\n",
       "<g id=\"a_node7_23\"><a xlink:href=\"#\" xlink:title=\"total(self, func: str) &#45;&gt; float\">\n",
       "<text text-anchor=\"start\" x=\"217\" y=\"-152.5\" font-family=\"'Fira Mono', 'Source Code Pro', 'Courier', monospace\" font-size=\"10.00\">total()</text>\n",
       "</a>\n",
       "</g>\n",
       "</a>\n",
       "</g>\n",
       "</a>\n",
       "</g>\n",
       "</g>\n",
       "<!-- TimeCollector&#45;&gt;MetricCollector -->\n",
       "<g id=\"edge5\" class=\"edge\">\n",
       "<title>TimeCollector&#45;&gt;MetricCollector</title>\n",
       "<path fill=\"none\" stroke=\"black\" d=\"M248.97,-97.66C249.99,-109.89 251.09,-123.03 252.1,-135.22\"/>\n",
       "<polygon fill=\"none\" stroke=\"black\" points=\"248.61,-135.51 252.93,-145.19 255.59,-134.93 248.61,-135.51\"/>\n",
       "</g>\n",
       "<!-- CoverageCollector -->\n",
       "<g id=\"node8\" class=\"node\">\n",
       "<title>CoverageCollector</title>\n",
       "<g id=\"a_node8\"><a xlink:href=\"StatisticalDebugger.ipynb\" xlink:title=\"class CoverageCollector:&#10;A class to record covered locations during execution.\">\n",
       "<polygon fill=\"none\" stroke=\"black\" points=\"189,-268.5 189,-304.5 323,-304.5 323,-268.5 189,-268.5\"/>\n",
       "<text text-anchor=\"start\" x=\"197\" y=\"-283.8\" font-family=\"Raleway, Helvetica, Arial, sans-serif\" font-weight=\"bold\" font-size=\"14.00\" fill=\"#6a0dad\">CoverageCollector</text>\n",
       "</a>\n",
       "</g>\n",
       "</g>\n",
       "<!-- MetricCollector&#45;&gt;CoverageCollector -->\n",
       "<g id=\"edge6\" class=\"edge\">\n",
       "<title>MetricCollector&#45;&gt;CoverageCollector</title>\n",
       "<path fill=\"none\" stroke=\"black\" d=\"M256,-220.64C256,-232.95 256,-246.46 256,-257.95\"/>\n",
       "<polygon fill=\"none\" stroke=\"black\" points=\"252.5,-258.24 256,-268.24 259.5,-258.24 252.5,-258.24\"/>\n",
       "</g>\n",
       "<!-- Collector -->\n",
       "<g id=\"node9\" class=\"node\">\n",
       "<title>Collector</title>\n",
       "<g id=\"a_node9\"><a xlink:href=\"StatisticalDebugger.ipynb\" xlink:title=\"class Collector:&#10;A class to record events during execution.\">\n",
       "<polygon fill=\"none\" stroke=\"black\" points=\"195.5,-350 195.5,-386 268.5,-386 268.5,-350 195.5,-350\"/>\n",
       "<text text-anchor=\"start\" x=\"203.5\" y=\"-365.3\" font-family=\"Raleway, Helvetica, Arial, sans-serif\" font-weight=\"bold\" font-size=\"14.00\" fill=\"#6a0dad\">Collector</text>\n",
       "</a>\n",
       "</g>\n",
       "</g>\n",
       "<!-- CoverageCollector&#45;&gt;Collector -->\n",
       "<g id=\"edge7\" class=\"edge\">\n",
       "<title>CoverageCollector&#45;&gt;Collector</title>\n",
       "<path fill=\"none\" stroke=\"black\" d=\"M250.79,-304.75C247.68,-315.06 243.66,-328.39 240.13,-340.07\"/>\n",
       "<polygon fill=\"none\" stroke=\"black\" points=\"236.74,-339.2 237.2,-349.78 243.44,-341.22 236.74,-339.2\"/>\n",
       "</g>\n",
       "<!-- StackInspector -->\n",
       "<g id=\"node11\" class=\"node\">\n",
       "<title>StackInspector</title>\n",
       "<g id=\"a_node11\"><a xlink:href=\"StackInspector.ipynb\" xlink:title=\"class StackInspector:&#10;Provide functions to inspect the stack\">\n",
       "<polygon fill=\"none\" stroke=\"black\" points=\"184.5,-504.5 184.5,-546.5 351.5,-546.5 351.5,-504.5 184.5,-504.5\"/>\n",
       "<text text-anchor=\"start\" x=\"221\" y=\"-532.3\" font-family=\"Raleway, Helvetica, Arial, sans-serif\" font-weight=\"bold\" font-size=\"14.00\" fill=\"#6a0dad\">StackInspector</text>\n",
       "<polyline fill=\"none\" stroke=\"black\" points=\"184.5,-523.5 351.5,-523.5 \"/>\n",
       "<g id=\"a_node11_24\"><a xlink:href=\"#\" xlink:title=\"StackInspector\">\n",
       "<g id=\"a_node11_25\"><a xlink:href=\"StackInspector.ipynb\" xlink:title=\"_generated_function_cache = {(&#39;remove_html_markup&#39;, 238): &lt;function remove_html_markup at 0x15a921f30&gt;}\">\n",
       "<text text-anchor=\"start\" x=\"193\" y=\"-511\" font-family=\"'Fira Mono', 'Source Code Pro', 'Courier', monospace\" font-size=\"10.00\">_generated_function_cache</text>\n",
       "</a>\n",
       "</g>\n",
       "</a>\n",
       "</g>\n",
       "</a>\n",
       "</g>\n",
       "</g>\n",
       "<!-- CoverageCollector&#45;&gt;StackInspector -->\n",
       "<g id=\"edge10\" class=\"edge\">\n",
       "<title>CoverageCollector&#45;&gt;StackInspector</title>\n",
       "<path fill=\"none\" stroke=\"black\" d=\"M264.72,-304.84C269.38,-315.08 274.63,-328.45 277,-341 287.09,-394.34 279.79,-457.86 273.76,-494.45\"/>\n",
       "<polygon fill=\"none\" stroke=\"black\" points=\"270.28,-494.02 272.03,-504.47 277.18,-495.21 270.28,-494.02\"/>\n",
       "</g>\n",
       "<!-- Tracer -->\n",
       "<g id=\"node10\" class=\"node\">\n",
       "<title>Tracer</title>\n",
       "<g id=\"a_node10\"><a xlink:href=\"Tracer.ipynb\" xlink:title=\"class Tracer:&#10;A class for tracing a piece of code. Use as `with Tracer(): block()`\">\n",
       "<polygon fill=\"none\" stroke=\"black\" points=\"208,-431.5 208,-467.5 264,-467.5 264,-431.5 208,-431.5\"/>\n",
       "<text text-anchor=\"start\" x=\"216\" y=\"-446.8\" font-family=\"Raleway, Helvetica, Arial, sans-serif\" font-weight=\"bold\" font-size=\"14.00\" fill=\"#6a0dad\">Tracer</text>\n",
       "</a>\n",
       "</g>\n",
       "</g>\n",
       "<!-- Collector&#45;&gt;Tracer -->\n",
       "<g id=\"edge8\" class=\"edge\">\n",
       "<title>Collector&#45;&gt;Tracer</title>\n",
       "<path fill=\"none\" stroke=\"black\" d=\"M232.87,-386.25C233.38,-396.46 234.04,-409.62 234.63,-421.21\"/>\n",
       "<polygon fill=\"none\" stroke=\"black\" points=\"231.14,-421.47 235.13,-431.28 238.13,-421.12 231.14,-421.47\"/>\n",
       "</g>\n",
       "<!-- Tracer&#45;&gt;StackInspector -->\n",
       "<g id=\"edge9\" class=\"edge\">\n",
       "<title>Tracer&#45;&gt;StackInspector</title>\n",
       "<path fill=\"none\" stroke=\"black\" d=\"M243.42,-467.66C246.93,-475.78 251.22,-485.69 255.23,-494.96\"/>\n",
       "<polygon fill=\"none\" stroke=\"black\" points=\"252.07,-496.49 259.26,-504.28 258.5,-493.71 252.07,-496.49\"/>\n",
       "</g>\n",
       "<!-- HitCollector -->\n",
       "<g id=\"node12\" class=\"node\">\n",
       "<title>HitCollector</title>\n",
       "<g id=\"a_node12\"><a xlink:href=\"#\" xlink:title=\"class HitCollector:&#10;Collect how often a line is executed\">\n",
       "<polygon fill=\"none\" stroke=\"black\" points=\"315.5,-11.5 315.5,-86.5 410.5,-86.5 410.5,-11.5 315.5,-11.5\"/>\n",
       "<text text-anchor=\"start\" x=\"326\" y=\"-72.3\" font-family=\"Raleway, Helvetica, Arial, sans-serif\" font-weight=\"bold\" font-size=\"14.00\" fill=\"#6a0dad\">HitCollector</text>\n",
       "<polyline fill=\"none\" stroke=\"black\" points=\"315.5,-63.5 410.5,-63.5 \"/>\n",
       "<g id=\"a_node12_26\"><a xlink:href=\"#\" xlink:title=\"HitCollector\">\n",
       "<g id=\"a_node12_27\"><a xlink:href=\"#\" xlink:title=\"__init__(self) &#45;&gt; None:&#10;Constructor.\">\n",
       "<text text-anchor=\"start\" x=\"324\" y=\"-52.5\" font-family=\"'Fira Mono', 'Source Code Pro', 'Courier', monospace\" font-style=\"italic\" font-size=\"10.00\">__init__()</text>\n",
       "</a>\n",
       "</g>\n",
       "<g id=\"a_node12_28\"><a xlink:href=\"#\" xlink:title=\"all_metrics(self, func: str) &#45;&gt; List[float]:&#10;Return all metric for a function `func`.\">\n",
       "<text text-anchor=\"start\" x=\"324\" y=\"-41.5\" font-family=\"'Fira Mono', 'Source Code Pro', 'Courier', monospace\" font-style=\"italic\" font-size=\"10.00\">all_metrics()</text>\n",
       "</a>\n",
       "</g>\n",
       "<g id=\"a_node12_29\"><a xlink:href=\"#\" xlink:title=\"collect(self, frame: frame, event: str, arg: Any) &#45;&gt; None:&#10;Save coverage for an observed event.\">\n",
       "<text text-anchor=\"start\" x=\"324\" y=\"-30.5\" font-family=\"'Fira Mono', 'Source Code Pro', 'Courier', monospace\" font-style=\"italic\" font-size=\"10.00\">collect()</text>\n",
       "</a>\n",
       "</g>\n",
       "<g id=\"a_node12_30\"><a xlink:href=\"#\" xlink:title=\"metric(self, location: Tuple[str, int]) &#45;&gt; Optional[int]:&#10;Return a metric for an event, or none.\">\n",
       "<text text-anchor=\"start\" x=\"324\" y=\"-19.5\" font-family=\"'Fira Mono', 'Source Code Pro', 'Courier', monospace\" font-style=\"italic\" font-size=\"10.00\">metric()</text>\n",
       "</a>\n",
       "</g>\n",
       "</a>\n",
       "</g>\n",
       "</a>\n",
       "</g>\n",
       "</g>\n",
       "<!-- HitCollector&#45;&gt;MetricCollector -->\n",
       "<g id=\"edge11\" class=\"edge\">\n",
       "<title>HitCollector&#45;&gt;MetricCollector</title>\n",
       "<path fill=\"none\" stroke=\"black\" d=\"M333.19,-86.77C320.44,-102.5 305.44,-121.01 292.06,-137.51\"/>\n",
       "<polygon fill=\"none\" stroke=\"black\" points=\"289.22,-135.46 285.65,-145.43 294.66,-139.86 289.22,-135.46\"/>\n",
       "</g>\n",
       "<!-- Legend -->\n",
       "<g id=\"node13\" class=\"node\">\n",
       "<title>Legend</title>\n",
       "<text text-anchor=\"start\" x=\"429\" y=\"-66.5\" font-family=\"Raleway, Helvetica, Arial, sans-serif\" font-weight=\"bold\" font-size=\"10.00\" fill=\"#6a0dad\">Legend</text>\n",
       "<text text-anchor=\"start\" x=\"429\" y=\"-56.5\" font-family=\"Raleway, Helvetica, Arial, sans-serif\" font-size=\"10.00\">• </text>\n",
       "<text text-anchor=\"start\" x=\"436\" y=\"-56.5\" font-family=\"'Fira Mono', 'Source Code Pro', 'Courier', monospace\" font-weight=\"bold\" font-size=\"8.00\">public_method()</text>\n",
       "<text text-anchor=\"start\" x=\"429\" y=\"-46.5\" font-family=\"Raleway, Helvetica, Arial, sans-serif\" font-size=\"10.00\">• </text>\n",
       "<text text-anchor=\"start\" x=\"436\" y=\"-46.5\" font-family=\"'Fira Mono', 'Source Code Pro', 'Courier', monospace\" font-size=\"8.00\">private_method()</text>\n",
       "<text text-anchor=\"start\" x=\"429\" y=\"-36.5\" font-family=\"Raleway, Helvetica, Arial, sans-serif\" font-size=\"10.00\">• </text>\n",
       "<text text-anchor=\"start\" x=\"436\" y=\"-36.5\" font-family=\"'Fira Mono', 'Source Code Pro', 'Courier', monospace\" font-style=\"italic\" font-size=\"8.00\">overloaded_method()</text>\n",
       "<text text-anchor=\"start\" x=\"429\" y=\"-27.3\" font-family=\"Helvetica,sans-Serif\" font-size=\"9.00\">Hover over names to see doc</text>\n",
       "</g>\n",
       "</g>\n",
       "</svg>\n"
      ],
      "text/plain": [
       "<graphviz.graphs.Digraph at 0x15acdcdc0>"
      ]
     },
     "execution_count": 57,
     "metadata": {},
     "output_type": "execute_result"
    }
   ],
   "source": [
    "# ignore\n",
    "display_class_hierarchy([PerformanceDebugger, TimeCollector, HitCollector],\n",
    "                        public_methods=[\n",
    "                            PerformanceDebugger.__init__,\n",
    "                        ],\n",
    "                        project='debuggingbook')"
   ]
  },
  {
   "cell_type": "markdown",
   "metadata": {
    "button": false,
    "new_sheet": true,
    "run_control": {
     "read_only": false
    },
    "slideshow": {
     "slide_type": "slide"
    }
   },
   "source": [
    "## Lessons Learned\n",
    "\n",
    "* To measure performance,\n",
    "    * instrument the code such that the time taken per function (or line) is collected; or\n",
    "    * sample the execution that at regular intervals, the active call stack is collected.\n",
    "* To make code performant, focus on efficient algorithms, efficient data types, and sufficient abstraction such that you can replace them by alternatives.\n",
    "* Beyond efficient algorithms and data types, do _not_ optimize before measuring."
   ]
  },
  {
   "cell_type": "markdown",
   "metadata": {
    "button": false,
    "new_sheet": false,
    "run_control": {
     "read_only": false
    },
    "slideshow": {
     "slide_type": "slide"
    }
   },
   "source": [
    "## Next Steps\n",
    "\n",
    "This chapter concludes the part on abstracting failures. The next part will focus on\n",
    "\n",
    "* [repairing code automatically](Repairer.ipynb)"
   ]
  },
  {
   "cell_type": "markdown",
   "metadata": {
    "slideshow": {
     "slide_type": "slide"
    }
   },
   "source": [
    "## Background\n",
    "\n",
    "[Scalene](https://github.com/plasma-umass/scalene) is a high-performance, high-precision CPU, GPU, and memory profiler for Python. In contrast to the standard Python `cProfile` profiler, it uses _sampling_ instead of instrumentation or relying on Python's tracing facilities; and it also supports line-by-line profiling. Scalene might be the tool of choice if you want to go beyond basic profiling.\n",
    "\n",
    "The Wikipedia articles on [profiling](https://en.wikipedia.org/wiki/Profiling_(computer_programming)) and [performance analysis tools](https://en.wikipedia.org/wiki/List_of_performance_analysis_tools) provide several additional resources on profiling tools and how to apply them in practice."
   ]
  },
  {
   "cell_type": "markdown",
   "metadata": {
    "button": false,
    "new_sheet": true,
    "run_control": {
     "read_only": false
    },
    "slideshow": {
     "slide_type": "slide"
    }
   },
   "source": [
    "## Exercises"
   ]
  },
  {
   "cell_type": "markdown",
   "metadata": {
    "button": false,
    "new_sheet": false,
    "run_control": {
     "read_only": false
    },
    "slideshow": {
     "slide_type": "subslide"
    }
   },
   "source": [
    "### Exercise 1: Profiling Memory Usage\n",
    "\n",
    "The Python [`tracemalloc` module](https://docs.python.org/3/library/tracemalloc.html) allows to track memory usage during execution. Between `tracemalloc.start()` and `tracemalloc.end()`, use `tracemalloc.get_traced_memory()` to obtain how much memory is currently being consumed:"
   ]
  },
  {
   "cell_type": "code",
   "execution_count": 58,
   "metadata": {
    "execution": {
     "iopub.execute_input": "2022-11-22T12:46:23.094265Z",
     "iopub.status.busy": "2022-11-22T12:46:23.093933Z",
     "iopub.status.idle": "2022-11-22T12:46:23.097459Z",
     "shell.execute_reply": "2022-11-22T12:46:23.097645Z"
    },
    "slideshow": {
     "slide_type": "skip"
    }
   },
   "outputs": [],
   "source": [
    "import tracemalloc"
   ]
  },
  {
   "cell_type": "code",
   "execution_count": 59,
   "metadata": {
    "execution": {
     "iopub.execute_input": "2022-11-22T12:46:23.099503Z",
     "iopub.status.busy": "2022-11-22T12:46:23.099198Z",
     "iopub.status.idle": "2022-11-22T12:46:23.100650Z",
     "shell.execute_reply": "2022-11-22T12:46:23.100835Z"
    },
    "slideshow": {
     "slide_type": "fragment"
    }
   },
   "outputs": [],
   "source": [
    "tracemalloc.start()"
   ]
  },
  {
   "cell_type": "code",
   "execution_count": 60,
   "metadata": {
    "execution": {
     "iopub.execute_input": "2022-11-22T12:46:23.103563Z",
     "iopub.status.busy": "2022-11-22T12:46:23.103253Z",
     "iopub.status.idle": "2022-11-22T12:46:23.105102Z",
     "shell.execute_reply": "2022-11-22T12:46:23.105384Z"
    },
    "slideshow": {
     "slide_type": "fragment"
    }
   },
   "outputs": [
    {
     "data": {
      "text/plain": [
       "19550"
      ]
     },
     "execution_count": 60,
     "metadata": {},
     "output_type": "execute_result"
    }
   ],
   "source": [
    "current_size, peak_size = tracemalloc.get_traced_memory()\n",
    "current_size"
   ]
  },
  {
   "cell_type": "code",
   "execution_count": 61,
   "metadata": {
    "execution": {
     "iopub.execute_input": "2022-11-22T12:46:23.107633Z",
     "iopub.status.busy": "2022-11-22T12:46:23.107346Z",
     "iopub.status.idle": "2022-11-22T12:46:23.108382Z",
     "shell.execute_reply": "2022-11-22T12:46:23.108556Z"
    },
    "slideshow": {
     "slide_type": "fragment"
    }
   },
   "outputs": [],
   "source": [
    "tracemalloc.stop()"
   ]
  },
  {
   "cell_type": "markdown",
   "metadata": {
    "slideshow": {
     "slide_type": "subslide"
    }
   },
   "source": [
    "Create a subclass of `MetricCollector` named `MemoryCollector`. Have it measure the memory consumption before and after each line executed (0 if negative), and visualize the impact of individual lines on memory. Create an appropriate test program that (temporarily) consumes larger amounts of memory."
   ]
  },
  {
   "cell_type": "markdown",
   "metadata": {
    "slideshow": {
     "slide_type": "slide"
    }
   },
   "source": [
    "## Exercise 2: Statistical Performance Debugging\n",
    "\n",
    "In a similar way as we integrated a binary \"performance test\" with delta debugging, we can also integrate such a test with other techniques. Combining a performance test with [Statistical Debugging](StatisticalDebugger.ipynb), for instance, will highlight those lines whose execution correlates with low performance. But then, the performance test need not be binary, as with functional pass/fail tests – you can also _weight_ individual lines by _how much_ they impact performance. Create a variant of `StatisticalDebugger` that reflects the impact of individual lines on an arbitrary (summarized) performance metric."
   ]
  }
 ],
 "metadata": {
  "ipub": {
   "bibliography": "fuzzingbook.bib",
   "toc": true
  },
  "kernelspec": {
   "display_name": "Python 3 (ipykernel)",
   "language": "python",
   "name": "python3"
  },
  "language_info": {
   "codemirror_mode": {
    "name": "ipython",
    "version": 3
   },
   "file_extension": ".py",
   "mimetype": "text/x-python",
   "name": "python",
   "nbconvert_exporter": "python",
   "pygments_lexer": "ipython3",
   "version": "3.10.2"
  },
  "toc": {
   "base_numbering": 1,
   "nav_menu": {},
   "number_sections": true,
   "sideBar": true,
   "skip_h1_title": true,
   "title_cell": "",
   "title_sidebar": "Contents",
   "toc_cell": false,
   "toc_position": {},
   "toc_section_display": true,
   "toc_window_display": true
  },
  "toc-autonumbering": false
 },
 "nbformat": 4,
 "nbformat_minor": 4
}