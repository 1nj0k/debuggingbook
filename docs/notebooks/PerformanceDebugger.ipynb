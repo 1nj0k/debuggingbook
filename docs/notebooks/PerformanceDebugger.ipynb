{
 "cells": [
  {
   "cell_type": "markdown",
   "metadata": {
    "button": false,
    "new_sheet": false,
    "run_control": {
     "read_only": false
    },
    "slideshow": {
     "slide_type": "slide"
    }
   },
   "source": [
    "# Debugging Performance Issues\n",
    "\n",
    "Most chapters of this book deal with _functional_ issues – that is, issues related to the _functionality_ (or its absence) of the code in question. However, debugging can also involve _nonfunctional_ issues, however – performance, usability, reliability, and more. In this chapter, we give a short introduction on how to debug such nonfunctional issues, notably _performance_ issues."
   ]
  },
  {
   "cell_type": "code",
   "execution_count": 1,
   "metadata": {
    "execution": {
     "iopub.execute_input": "2021-05-12T11:16:46.477018Z",
     "iopub.status.busy": "2021-05-12T11:16:46.476452Z",
     "iopub.status.idle": "2021-05-12T11:16:46.626569Z",
     "shell.execute_reply": "2021-05-12T11:16:46.627088Z"
    },
    "slideshow": {
     "slide_type": "skip"
    }
   },
   "outputs": [
    {
     "data": {
      "text/html": [
       "\n",
       "        <iframe\n",
       "            width=\"640\"\n",
       "            height=\"360\"\n",
       "            src=\"https://www.youtube-nocookie.com/embed/0tMeB9G0uUI\"\n",
       "            frameborder=\"0\"\n",
       "            allowfullscreen\n",
       "        ></iframe>\n",
       "        "
      ],
      "text/plain": [
       "<IPython.lib.display.IFrame at 0x7fd26b8d2b38>"
      ]
     },
     "execution_count": 1,
     "metadata": {},
     "output_type": "execute_result"
    }
   ],
   "source": [
    "from bookutils import YouTubeVideo\n",
    "YouTubeVideo(\"0tMeB9G0uUI\")"
   ]
  },
  {
   "cell_type": "markdown",
   "metadata": {
    "button": false,
    "new_sheet": false,
    "run_control": {
     "read_only": false
    },
    "slideshow": {
     "slide_type": "subslide"
    }
   },
   "source": [
    "**Prerequisites**\n",
    "\n",
    "* This chapter leverages visualization capabilities from [the chapter on statistical debugging](StatisticalDebugger.ipynb)\n",
    "* We also show how to debug nonfunctional issues using [delta debugging](DeltaDebugger.ipynb)."
   ]
  },
  {
   "cell_type": "code",
   "execution_count": 2,
   "metadata": {
    "button": false,
    "execution": {
     "iopub.execute_input": "2021-05-12T11:16:46.630871Z",
     "iopub.status.busy": "2021-05-12T11:16:46.629986Z",
     "iopub.status.idle": "2021-05-12T11:16:46.632025Z",
     "shell.execute_reply": "2021-05-12T11:16:46.632509Z"
    },
    "new_sheet": false,
    "run_control": {
     "read_only": false
    },
    "slideshow": {
     "slide_type": "skip"
    }
   },
   "outputs": [],
   "source": [
    "import bookutils"
   ]
  },
  {
   "cell_type": "code",
   "execution_count": 3,
   "metadata": {
    "execution": {
     "iopub.execute_input": "2021-05-12T11:16:46.635737Z",
     "iopub.status.busy": "2021-05-12T11:16:46.635170Z",
     "iopub.status.idle": "2021-05-12T11:16:48.228032Z",
     "shell.execute_reply": "2021-05-12T11:16:48.228480Z"
    },
    "slideshow": {
     "slide_type": "skip"
    }
   },
   "outputs": [],
   "source": [
    "import StatisticalDebugger\n",
    "import DeltaDebugger"
   ]
  },
  {
   "cell_type": "markdown",
   "metadata": {
    "slideshow": {
     "slide_type": "skip"
    }
   },
   "source": [
    "## Synopsis\n",
    "<!-- Automatically generated. Do not edit. -->\n",
    "\n",
    "To [use the code provided in this chapter](Importing.ipynb), write\n",
    "\n",
    "```python\n",
    ">>> from debuggingbook.PerformanceDebugger import <identifier>\n",
    "```\n",
    "\n",
    "and then make use of the following features.\n",
    "\n",
    "\n",
    "This chapter provides a class `PerformanceDebugger` that allows to measure and visualize the time taken per line in a function.\n",
    "\n",
    "```python\n",
    ">>> with PerformanceDebugger(TimeCollector) as debugger:\n",
    ">>>     for i in range(100):\n",
    ">>>         s = remove_html_markup('<b>foo</b>')\n",
    "```\n",
    "The distribution of executed time within each function can be obtained by printing out the debugger:\n",
    "\n",
    "```python\n",
    ">>> print(debugger)\n",
    " 238   2% def remove_html_markup(s):  # type: ignore\n",
    " 239   2%     tag = False\n",
    " 240   2%     quote = False\n",
    " 241   1%     out = \"\"\n",
    " 242   0%\n",
    " 243  17%     for c in s:\n",
    " 244  15%         assert tag or not quote\n",
    " 245   0%\n",
    " 246  15%         if c == '<' and not quote:\n",
    " 247   3%             tag = True\n",
    " 248  12%         elif c == '>' and not quote:\n",
    " 249   3%             tag = False\n",
    " 250   8%         elif (c == '\"' or c == \"'\") and tag:\n",
    " 251   0%             quote = not quote\n",
    " 252   9%         elif not tag:\n",
    " 253   4%             out = out + c\n",
    " 254   0%\n",
    " 255   3%     return out\n",
    "\n",
    "\n",
    "```\n",
    "The sum of all percentages in a function should always be 100%.\n",
    "\n",
    "These percentages can also be visualized, where darker shades represent higher percentage values:\n",
    "\n",
    "```python\n",
    ">>> debugger\n",
    "```\n",
    "<pre style=\"background-color:hsl(240, 100%, 96.79936353117168%)\"\n",
    "                    title=\"Line 238:   2% 0.0005251426482573152\"> 238 def remove_html_markup(s):  # type: ignore</pre>\n",
    "<pre style=\"background-color:hsl(240, 100%, 96.97751523117745%)\"\n",
    "                    title=\"Line 239:   2% 0.0004959125071763992\"> 239     tag = False</pre>\n",
    "<pre style=\"background-color:hsl(240, 100%, 96.95267644894055%)\"\n",
    "                    title=\"Line 240:   2% 0.0004999879165552557\"> 240     quote = False</pre>\n",
    "<pre style=\"background-color:hsl(240, 100%, 97.28120255877737%)\"\n",
    "                    title=\"Line 241:   1% 0.00044608517782762647\"> 241     out = &quot;&quot;</pre>\n",
    "<pre style=\"background-color:hsl(240, 100%, 100.0%)\"\n",
    "                    title=\"Line 242:   0% 0.0\"> 242 &nbsp;</pre>\n",
    "<pre style=\"background-color:hsl(240, 100%, 75.0%)\"\n",
    "                    title=\"Line 243:  17% 0.004101861093658954\"> 243     for c in s:</pre>\n",
    "<pre style=\"background-color:hsl(240, 100%, 77.67396098254623%)\"\n",
    "                    title=\"Line 244:  15% 0.003663132432848215\"> 244         assert tag or not quote</pre>\n",
    "<pre style=\"background-color:hsl(240, 100%, 100.0%)\"\n",
    "                    title=\"Line 245:   0% 0.0\"> 245 &nbsp;</pre>\n",
    "<pre style=\"background-color:hsl(240, 100%, 77.74125221122456%)\"\n",
    "                    title=\"Line 246:  15% 0.0036520916619338095\"> 246         if c == &#x27;&lt;&#x27; and not quote:</pre>\n",
    "<pre style=\"background-color:hsl(240, 100%, 95.15615223376909%)\"\n",
    "                    title=\"Line 247:   3% 0.0007947516278363764\"> 247             tag = True</pre>\n",
    "<pre style=\"background-color:hsl(240, 100%, 82.21935560518243%)\"\n",
    "                    title=\"Line 248:  12% 0.002917349338531494\"> 248         elif c == &#x27;&gt;&#x27; and not quote:</pre>\n",
    "<pre style=\"background-color:hsl(240, 100%, 95.50023260438422%)\"\n",
    "                    title=\"Line 249:   3% 0.0007382968324236572\"> 249             tag = False</pre>\n",
    "<pre style=\"background-color:hsl(240, 100%, 86.91943891931476%)\"\n",
    "                    title=\"Line 250:   8% 0.0021461857832036912\"> 250         elif (c == &#x27;&quot;&#x27; or c == &quot;&#x27;&quot;) and tag:</pre>\n",
    "<pre style=\"background-color:hsl(240, 100%, 100.0%)\"\n",
    "                    title=\"Line 251:   0% 0.0\"> 251             quote = not quote</pre>\n",
    "<pre style=\"background-color:hsl(240, 100%, 86.39609076201361%)\"\n",
    "                    title=\"Line 252:   9% 0.00223205384099856\"> 252         elif not tag:</pre>\n",
    "<pre style=\"background-color:hsl(240, 100%, 93.48968156223528%)\"\n",
    "                    title=\"Line 253:   4% 0.0010681768762879074\"> 253             out = out + c</pre>\n",
    "<pre style=\"background-color:hsl(240, 100%, 100.0%)\"\n",
    "                    title=\"Line 254:   0% 0.0\"> 254 &nbsp;</pre>\n",
    "<pre style=\"background-color:hsl(240, 100%, 95.35931406689116%)\"\n",
    "                    title=\"Line 255:   3% 0.0007614179630763829\"> 255     return out</pre>\n",
    "\n",
    "The abstract `MetricCollector` class allows subclassing to build more collectors, such as `HitCollector`.\n",
    "\n",
    "![](PICS/PerformanceDebugger-synopsis-1.svg)\n"
   ]
  },
  {
   "cell_type": "markdown",
   "metadata": {
    "slideshow": {
     "slide_type": "slide"
    }
   },
   "source": [
    "## Measuring Performance\n",
    "\n",
    "The solution to debugging performance issues fits in two simple rules:\n",
    "\n",
    "1. _Measure_ performance\n",
    "2. _Break down_ how individual parts of your code contribute to performance.\n",
    "\n",
    "The first part, actually _measuring_ performance, is key here. Developers often take elaborated guesses on which aspects of their code impact performance, and think about all possible ways to optimize their code – and at the same time, making it harder to understand, harder to evolve, and harder to maintain. In most cases, such guesses are wrong. Instead, _measure_ performance of your program, _identify_ the very few parts that may need to get improved, and again _measure_ the impact of your changes."
   ]
  },
  {
   "cell_type": "markdown",
   "metadata": {
    "slideshow": {
     "slide_type": "subslide"
    }
   },
   "source": [
    "Almost all programming languages offer a way to measure performance and breaking it down to individual parts of the code – a means also known as *profiling*. Profiling works by measuring the execution time for each function (or even more fine-grained location) in your program. This can be achieved by\n",
    "\n",
    "1. _Measuring_ the current time at entry and exit of each function (or line), thus determining the time spent. In Python, this is achieved by profilers like [profile or cProfile](https://docs.python.org/3/library/profile.html)\n",
    "\n",
    "2. _Sampling_ the current function call stack at regular intervals, and thus assessing which functions are most active (= take the most time) during execution. For Python, the [scalene](https://github.com/plasma-umass/scalene) profiler works this way.\n",
    "\n",
    "Pretty much all programming languages support profiling, either through measuring, sampling, or both. As a rule of thumb, _interpreted_ languages more frequently support measuring (as it is easy to implement in an interpreter), while _compiled_ languages more frequently support sampling (because instrumentation requires recompilation). Python is lucky to support both methods."
   ]
  },
  {
   "cell_type": "markdown",
   "metadata": {
    "slideshow": {
     "slide_type": "slide"
    }
   },
   "source": [
    "## Simple Python Profiling\n",
    "\n",
    "Let us illustrate profiling in a simple example. The `ChangeCounter` class (which we will encounter in the [chapter on mining version histories](ChangeCounter.ipynb) reads in a version history from a git repository. Yet, it takes more than a minute to read in the debugging book change history:"
   ]
  },
  {
   "cell_type": "code",
   "execution_count": 4,
   "metadata": {
    "execution": {
     "iopub.execute_input": "2021-05-12T11:16:48.231920Z",
     "iopub.status.busy": "2021-05-12T11:16:48.231352Z",
     "iopub.status.idle": "2021-05-12T11:16:49.729963Z",
     "shell.execute_reply": "2021-05-12T11:16:49.730359Z"
    },
    "slideshow": {
     "slide_type": "skip"
    }
   },
   "outputs": [],
   "source": [
    "from ChangeCounter import ChangeCounter, debuggingbook_change_counter  # minor dependency"
   ]
  },
  {
   "cell_type": "code",
   "execution_count": 5,
   "metadata": {
    "execution": {
     "iopub.execute_input": "2021-05-12T11:16:49.734081Z",
     "iopub.status.busy": "2021-05-12T11:16:49.733194Z",
     "iopub.status.idle": "2021-05-12T11:16:49.735280Z",
     "shell.execute_reply": "2021-05-12T11:16:49.735727Z"
    },
    "slideshow": {
     "slide_type": "skip"
    }
   },
   "outputs": [],
   "source": [
    "import Timer"
   ]
  },
  {
   "cell_type": "code",
   "execution_count": 6,
   "metadata": {
    "execution": {
     "iopub.execute_input": "2021-05-12T11:16:49.738926Z",
     "iopub.status.busy": "2021-05-12T11:16:49.738414Z",
     "iopub.status.idle": "2021-05-12T11:18:31.380174Z",
     "shell.execute_reply": "2021-05-12T11:18:31.380711Z"
    },
    "slideshow": {
     "slide_type": "fragment"
    }
   },
   "outputs": [],
   "source": [
    "with Timer.Timer() as t:\n",
    "    change_counter = debuggingbook_change_counter(ChangeCounter)"
   ]
  },
  {
   "cell_type": "code",
   "execution_count": 7,
   "metadata": {
    "execution": {
     "iopub.execute_input": "2021-05-12T11:18:31.386850Z",
     "iopub.status.busy": "2021-05-12T11:18:31.386258Z",
     "iopub.status.idle": "2021-05-12T11:18:31.388723Z",
     "shell.execute_reply": "2021-05-12T11:18:31.389090Z"
    },
    "slideshow": {
     "slide_type": "fragment"
    }
   },
   "outputs": [
    {
     "data": {
      "text/plain": [
       "101.62500352499774"
      ]
     },
     "execution_count": 1,
     "metadata": {},
     "output_type": "execute_result"
    }
   ],
   "source": [
    "t.elapsed_time()"
   ]
  },
  {
   "cell_type": "markdown",
   "metadata": {
    "slideshow": {
     "slide_type": "subslide"
    }
   },
   "source": [
    "The Python `profile` and `cProfile` modules offer a simple way to identify the most time-consuming functions. They are invoked using the `run()` function, whose argument is the command to be profiled. The output reports, for each function encountered:\n",
    "\n",
    "* How often it was called (`ncalls` column)\n",
    "* How much time was spent in the given function, _excluding_ time spent in calls to sub-functions (`tottime` column)\n",
    "* The fraction of `tottime` / `ncalls` (first `percall` column)\n",
    "* How much time was spent in the given function, _including_ time spent in calls to sub-functions (`cumtime` column)\n",
    "* The fraction of `cumtime` / `percall` (second `percall` column)\n",
    "\n",
    "Let us have a look at the profile we obtain:"
   ]
  },
  {
   "cell_type": "code",
   "execution_count": 8,
   "metadata": {
    "execution": {
     "iopub.execute_input": "2021-05-12T11:18:31.392086Z",
     "iopub.status.busy": "2021-05-12T11:18:31.391577Z",
     "iopub.status.idle": "2021-05-12T11:18:31.393097Z",
     "shell.execute_reply": "2021-05-12T11:18:31.393527Z"
    },
    "slideshow": {
     "slide_type": "skip"
    }
   },
   "outputs": [],
   "source": [
    "import cProfile"
   ]
  },
  {
   "cell_type": "code",
   "execution_count": 9,
   "metadata": {
    "execution": {
     "iopub.execute_input": "2021-05-12T11:18:31.397153Z",
     "iopub.status.busy": "2021-05-12T11:18:31.396602Z",
     "iopub.status.idle": "2021-05-12T11:20:09.403289Z",
     "shell.execute_reply": "2021-05-12T11:20:09.403730Z"
    },
    "slideshow": {
     "slide_type": "subslide"
    }
   },
   "outputs": [
    {
     "name": "stdout",
     "output_type": "stream",
     "text": [
      "         8333836 function calls (8269556 primitive calls) in 97.711 seconds\n",
      "\n",
      "   Ordered by: cumulative time\n",
      "\n",
      "   ncalls  tottime  percall  cumtime  percall filename:lineno(function)\n",
      "        1    0.000    0.000   97.711   97.711 {built-in method builtins.exec}\n",
      "        1    0.000    0.000   97.711   97.711 <string>:1(<module>)\n",
      "        1    0.000    0.000   97.711   97.711 ChangeCounter.ipynb:149(debuggingbook_change_counter)\n",
      "        1    0.000    0.000   97.711   97.711 ChangeCounter.ipynb:44(__init__)\n",
      "        1    1.376    1.376   97.711   97.711 ChangeCounter.ipynb:81(mine)\n",
      "      639    0.115    0.000   95.990    0.150 commit.py:556(modifications)\n",
      "      639    0.047    0.000   95.875    0.150 commit.py:572(_get_modifications)\n",
      "      613    0.159    0.000   48.532    0.079 diff.py:71(diff)\n",
      "      639    0.053    0.000   47.283    0.074 commit.py:606(_parse_diff)\n",
      "    11216    0.380    0.000   46.518    0.004 commit.py:634(_get_decoded_sc_str)\n",
      "      613    5.286    0.009   44.900    0.073 diff.py:412(_index_from_patch_format)\n",
      "   448611   32.419    0.000   32.419    0.000 {method 'decode' of 'bytes' objects}\n",
      "      613    0.073    0.000   28.345    0.046 cmd.py:59(handle_process_output)\n",
      "     6134   27.739    0.005   27.739    0.005 {method 'acquire' of '_thread.lock' objects}\n",
      "     1226    0.005    0.000   27.647    0.023 threading.py:1024(join)\n",
      "     1226    0.006    0.000   27.640    0.023 threading.py:1062(_wait_for_tstate_lock)\n",
      "    35261    0.081    0.000   13.692    0.000 cmd.py:435(read)\n",
      "    70500   13.605    0.000   13.606    0.000 {method 'read' of '_io.BufferedReader' objects}\n",
      "    29677    0.020    0.000   13.587    0.000 base.py:137(read)\n",
      "     5608    0.099    0.000   10.462    0.002 diff.py:258(__init__)\n",
      "     4945    0.008    0.000   10.284    0.002 base.py:332(submodules)\n",
      "     4945    0.035    0.000   10.276    0.002 util.py:919(list_items)\n",
      "11706/11703    0.023    0.000   10.229    0.001 {method 'extend' of 'list' objects}\n",
      "    14835    0.124    0.000   10.207    0.001 base.py:1174(iter_items)\n",
      "    14835    0.026    0.000    3.714    0.000 base.py:472(commit)\n",
      "    55041    0.261    0.000    3.479    0.000 cmd.py:1060(__get_object_header)\n",
      "      614    0.023    0.000    3.474    0.006 cmd.py:545(<lambda>)\n",
      "      618    0.214    0.000    3.472    0.006 cmd.py:946(_call_process)\n",
      "    14835    0.015    0.000    3.267    0.000 symbolic.py:192(_get_commit)\n",
      "    14835    0.028    0.000    3.252    0.000 symbolic.py:183(_get_object)\n",
      "      618    0.162    0.000    3.236    0.005 cmd.py:583(execute)\n",
      "    25364    0.067    0.000    2.968    0.000 util.py:248(__getattr__)\n",
      "      618    0.193    0.000    2.881    0.005 subprocess.py:608(__init__)\n",
      "      618    0.137    0.000    2.660    0.004 subprocess.py:1228(_execute_child)\n",
      "    90448    2.563    0.000    2.563    0.000 {method 'readline' of '_io.BufferedReader' objects}\n",
      "    19780    0.028    0.000    2.520    0.000 symbolic.py:125(dereference_recursive)\n",
      "    39561    0.081    0.000    2.492    0.000 symbolic.py:176(_get_ref_info)\n",
      "    39561    0.462    0.000    2.411    0.000 symbolic.py:137(_get_ref_info_helper)\n",
      "    35261    0.112    0.000    2.380    0.000 db.py:40(stream)\n",
      "34615/9890    0.037    0.000    2.251    0.000 tree.py:287(__getitem__)\n",
      "34615/9890    0.134    0.000    2.230    0.000 tree.py:210(join)\n",
      "    35261    0.123    0.000    2.159    0.000 cmd.py:1085(stream_object_data)\n",
      "     4945    0.061    0.000    2.108    0.000 base.py:171(_config_parser)\n",
      "    19780    0.083    0.000    2.012    0.000 base.py:54(new_from_sha)\n",
      "    19780    0.043    0.000    1.890    0.000 tree.py:190(_set_cache_)\n",
      "    19780    0.065    0.000    1.704    0.000 db.py:36(info)\n",
      "    19780    0.025    0.000    1.583    0.000 cmd.py:1065(get_object_header)\n",
      "    45768    1.464    0.000    1.512    0.000 {built-in method io.open}\n",
      "     4945    0.038    0.000    1.450    0.000 fun.py:175(rev_parse)\n",
      "      618    1.425    0.002    1.425    0.002 {built-in method _posixsubprocess.fork_exec}\n",
      "     4945    0.070    0.000    1.406    0.000 fun.py:106(name_to_object)\n",
      "     5584    0.037    0.000    1.002    0.000 commit.py:139(_set_cache_)\n",
      "39582/34622    0.063    0.000    0.963    0.000 config.py:79(assure_data_present)\n",
      "     4945    0.027    0.000    0.942    0.000 util.py:56(__init__)\n",
      "     4951    0.057    0.000    0.916    0.000 config.py:255(__init__)\n",
      "      618    0.858    0.001    0.858    0.001 {built-in method posix.read}\n",
      "     4951    0.085    0.000    0.855    0.000 configparser.py:600(__init__)\n",
      "     9897    0.014    0.000    0.803    0.000 base.py:108(data_stream)\n",
      "      613    0.726    0.001    0.726    0.001 {method 'join' of 'bytes' objects}\n",
      "39582/34631    0.082    0.000    0.690    0.000 config.py:507(read)\n",
      "     4951    0.123    0.000    0.666    0.000 configparser.py:1296(__init__)\n",
      "    19780    0.424    0.000    0.625    0.000 fun.py:41(tree_entries_from_data)\n",
      "     1226    0.018    0.000    0.411    0.000 threading.py:828(start)\n",
      "     4951    0.403    0.000    0.403    0.000 {built-in method builtins.dir}\n",
      "     4951    0.181    0.000    0.382    0.000 config.py:356(_read)\n",
      "     5608    0.003    0.000    0.365    0.000 commit.py:626(_get_decoded_str)\n",
      "     5608    0.043    0.000    0.306    0.000 commit.py:141(__init__)\n",
      "    39569    0.232    0.000    0.305    0.000 {method 'read' of '_io.TextIOWrapper' objects}\n",
      "     5584    0.077    0.000    0.269    0.000 commit.py:445(_deserialize)\n",
      "    10113    0.023    0.000    0.263    0.000 pathlib.py:998(__new__)\n",
      "    10115    0.025    0.000    0.236    0.000 pathlib.py:651(_from_parts)\n",
      "     1226    0.234    0.000    0.234    0.000 {built-in method _thread.start_new_thread}\n",
      "   683476    0.230    0.000    0.230    0.000 {method 'match' of '_sre.SRE_Pattern' objects}\n",
      "    55041    0.221    0.000    0.221    0.000 {method 'flush' of '_io.BufferedWriter' objects}\n",
      "    54463    0.138    0.000    0.213    0.000 posixpath.py:75(join)\n",
      "    10115    0.033    0.000    0.207    0.000 pathlib.py:631(_parse_args)\n",
      "      640    0.011    0.000    0.204    0.000 repository_mining.py:197(traverse_commits)\n",
      "    19785    0.041    0.000    0.189    0.000 configparser.py:765(get)\n",
      "     6247    0.004    0.000    0.184    0.000 commit.py:499(committer_date)\n",
      "     6247    0.005    0.000    0.180    0.000 commit.py:152(committed_datetime)\n",
      "      618    0.032    0.000    0.179    0.000 os.py:701(copy)\n",
      "   168130    0.095    0.000    0.178    0.000 compat.py:27(safe_decode)\n",
      "    55041    0.124    0.000    0.175    0.000 cmd.py:1013(_parse_object_header)\n",
      "    10115    0.057    0.000    0.164    0.000 pathlib.py:51(parse_parts)\n",
      "     1226    0.005    0.000    0.159    0.000 threading.py:533(wait)\n",
      "    55041    0.081    0.000    0.156    0.000 cmd.py:1035(_prepare_ref)\n",
      "     1226    0.085    0.000    0.154    0.000 threading.py:757(__init__)\n",
      "    19780    0.073    0.000    0.151    0.000 util.py:44(get_object_type_by_name)\n",
      "     1226    0.016    0.000    0.151    0.000 threading.py:263(wait)\n",
      "    11168    0.029    0.000    0.122    0.000 util.py:221(parse_actor_and_date)\n",
      "   202838    0.074    0.000    0.119    0.000 cmd.py:384(__getattr__)\n",
      "    75467    0.064    0.000    0.119    0.000 base.py:132(__init__)\n",
      "   755120    0.109    0.000    0.109    0.000 {built-in method builtins.isinstance}\n",
      "   308630    0.102    0.000    0.102    0.000 {built-in method builtins.getattr}\n",
      "    66235    0.089    0.000    0.097    0.000 base.py:29(__init__)\n",
      "    19785    0.064    0.000    0.096    0.000 configparser.py:1131(_unify_values)\n",
      "   110622    0.049    0.000    0.093    0.000 os.py:794(fsencode)\n",
      "     4951    0.057    0.000    0.093    0.000 configparser.py:1219(__init__)\n",
      "    48827    0.038    0.000    0.090    0.000 os.py:664(__getitem__)\n",
      "    38712    0.087    0.000    0.087    0.000 {built-in method sys.intern}\n",
      "      618    0.013    0.000    0.079    0.000 os.py:607(get_exec_path)\n",
      "     6247    0.016    0.000    0.079    0.000 util.py:124(from_timestamp)\n",
      "    26029    0.036    0.000    0.078    0.000 commit.py:71(__init__)\n",
      "    20419    0.025    0.000    0.077    0.000 tree.py:181(__init__)\n",
      "    39569    0.047    0.000    0.073    0.000 codecs.py:318(decode)\n",
      "     9890    0.014    0.000    0.068    0.000 base.py:304(index)\n",
      "    55041    0.025    0.000    0.065    0.000 cmd.py:1048(_get_persistent_cmd)\n",
      "    55170    0.064    0.000    0.064    0.000 {method 'write' of '_io.BufferedWriter' objects}\n",
      "   214619    0.061    0.000    0.061    0.000 {method 'encode' of 'str' objects}\n",
      "     4954    0.010    0.000    0.059    0.000 config.py:454(_has_includes)\n",
      "    34619    0.041    0.000    0.058    0.000 util.py:127(join_path)\n",
      "    32275    0.056    0.000    0.056    0.000 {method 'search' of '_sre.SRE_Pattern' objects}\n",
      "    90284    0.055    0.000    0.055    0.000 {method 'split' of 'str' objects}\n",
      "    96551    0.054    0.000    0.054    0.000 {built-in method binascii.a2b_hex}\n",
      "     9890    0.014    0.000    0.054    0.000 base.py:96(__init__)\n",
      "      618    0.053    0.000    0.053    0.000 warnings.py:449(__enter__)\n",
      "    39561    0.045    0.000    0.053    0.000 symbolic.py:26(_git_dir)\n",
      "    11216    0.006    0.000    0.053    0.000 diff.py:399(_pick_best_path)\n",
      "    49440    0.011    0.000    0.053    0.000 _collections_abc.py:719(__iter__)\n",
      "    19781    0.025    0.000    0.051    0.000 <frozen importlib._bootstrap>:997(_handle_fromlist)\n",
      "      614    0.003    0.000    0.050    0.000 util.py:326(finalize_process)\n",
      "     1227    0.023    0.000    0.050    0.000 cmd.py:387(wait)\n",
      "     4951    0.013    0.000    0.049    0.000 config.py:457(_included_paths)\n",
      "    39569    0.032    0.000    0.048    0.000 codecs.py:308(__init__)\n",
      "    19785    0.032    0.000    0.047    0.000 __init__.py:877(__getitem__)\n",
      "    14836    0.023    0.000    0.047    0.000 base.py:311(head)\n",
      "    11216    0.032    0.000    0.046    0.000 diff.py:31(decode_path)\n",
      "   312880    0.043    0.000    0.043    0.000 {built-in method builtins.len}\n",
      "    49440    0.021    0.000    0.041    0.000 os.py:687(__iter__)\n",
      "    34754    0.040    0.000    0.041    0.000 config.py:155(__setitem__)\n",
      "    66235    0.040    0.000    0.040    0.000 {method 'split' of 'bytes' objects}\n",
      "     9890    0.009    0.000    0.040    0.000 base.py:136(_index_path)\n",
      "     1231    0.017    0.000    0.039    0.000 subprocess.py:1434(wait)\n",
      "    97644    0.018    0.000    0.039    0.000 os.py:746(decode)\n",
      "    35261    0.022    0.000    0.039    0.000 base.py:128(__new__)\n",
      "    49506    0.031    0.000    0.039    0.000 config.py:168(__getitem__)\n",
      "     5608    0.003    0.000    0.038    0.000 ChangeCounter.ipynb:95(include)\n",
      "    11168    0.016    0.000    0.038    0.000 util.py:561(_from_string)\n",
      "    10111    0.037    0.000    0.037    0.000 util.py:29(mode_str_to_int)\n",
      "    10506    0.007    0.000    0.037    0.000 subprocess.py:1284(<genexpr>)\n",
      "     1226    0.007    0.000    0.036    0.000 threading.py:498(__init__)\n",
      "    55112    0.023    0.000    0.036    0.000 posixpath.py:41(_get_sep)\n",
      "     6247    0.026    0.000    0.036    0.000 {built-in method fromtimestamp}\n",
      "     5608    0.010    0.000    0.035    0.000 ChangeCounter.ipynb:157(filter)\n",
      "     9890    0.013    0.000    0.035    0.000 base.py:98(__init__)\n",
      "    68598    0.034    0.000    0.034    0.000 {built-in method builtins.hasattr}\n",
      "    58942    0.034    0.000    0.034    0.000 {built-in method binascii.b2a_hex}\n",
      "    70101    0.034    0.000    0.034    0.000 {built-in method __new__ of type object at 0x10aa4eea8}\n",
      "    48827    0.016    0.000    0.033    0.000 os.py:742(encode)\n",
      "   291431    0.033    0.000    0.033    0.000 {method 'append' of 'list' objects}\n",
      "      640    0.003    0.000    0.033    0.000 git_repository.py:103(get_list_commits)\n",
      "   101024    0.032    0.000    0.032    0.000 {method 'startswith' of 'str' objects}\n",
      "   124345    0.031    0.000    0.031    0.000 {method 'endswith' of 'str' objects}\n",
      "     9894    0.010    0.000    0.031    0.000 util.py:160(join_path_native)\n",
      "     5608    0.017    0.000    0.029    0.000 commit.py:794(_from_change_to_modification_type)\n",
      "     9890    0.021    0.000    0.028    0.000 symbolic.py:410(to_full_path)\n",
      "     3070    0.028    0.000    0.028    0.000 {built-in method _thread.allocate_lock}\n",
      "   175945    0.027    0.000    0.027    0.000 {built-in method posix.fspath}\n",
      "    19781    0.019    0.000    0.027    0.000 <frozen importlib._bootstrap>:416(parent)\n",
      "    39569    0.026    0.000    0.026    0.000 {built-in method _codecs.utf_8_decode}\n",
      "    35261    0.025    0.000    0.025    0.000 cmd.py:424(__init__)\n",
      "    14837    0.019    0.000    0.024    0.000 head.py:25(__init__)\n",
      "    14048    0.010    0.000    0.024    0.000 commit.py:199(new_path)\n",
      "     9890    0.017    0.000    0.024    0.000 configparser.py:876(has_option)\n",
      "    19780    0.013    0.000    0.023    0.000 base.py:35(__new__)\n",
      "      622    0.002    0.000    0.022    0.000 cmd.py:345(__del__)\n",
      "    54571    0.021    0.000    0.021    0.000 {method 'group' of '_sre.SRE_Match' objects}\n",
      "     9896    0.015    0.000    0.021    0.000 configparser.py:644(sections)\n",
      "      618    0.002    0.000    0.021    0.000 subprocess.py:1421(_try_wait)\n",
      "      622    0.019    0.000    0.019    0.000 {built-in method posix.waitpid}\n",
      "     2577    0.016    0.000    0.019    0.000 __init__.py:1544(isEnabledFor)\n",
      "    27944    0.018    0.000    0.018    0.000 {method 'groups' of '_sre.SRE_Match' objects}\n",
      "    11168    0.018    0.000    0.018    0.000 util.py:68(utctz_to_altz)\n",
      "    19882    0.018    0.000    0.018    0.000 config.py:158(add)\n",
      "      639    0.005    0.000    0.018    0.000 conf.py:257(is_commit_filtered)\n",
      "        2    0.000    0.000    0.017    0.008 {built-in method builtins.next}\n",
      "        2    0.002    0.001    0.017    0.008 repository_mining.py:162(_prep_repo)\n",
      "      640    0.003    0.000    0.017    0.000 __init__.py:1298(info)\n",
      "      640    0.003    0.000    0.017    0.000 commit.py:248(_iter_from_process_or_stream)\n",
      "    39569    0.016    0.000    0.016    0.000 codecs.py:259(__init__)\n",
      "     1226    0.006    0.000    0.016    0.000 _weakrefset.py:81(add)\n",
      "     6247    0.013    0.000    0.016    0.000 {method 'astimezone' of 'datetime.datetime' objects}\n",
      "        7    0.000    0.000    0.015    0.002 cmd.py:1094(clear_cache)\n",
      "     2477    0.015    0.000    0.015    0.000 {built-in method posix.close}\n",
      "   104946    0.015    0.000    0.015    0.000 {method 'strip' of 'str' objects}\n",
      "        1    0.000    0.000    0.015    0.015 contextlib.py:85(__exit__)\n",
      "        2    0.000    0.000    0.015    0.007 git_repository.py:70(clear)\n",
      "    14180    0.010    0.000    0.014    0.000 base.py:84(__ne__)\n",
      "    13610    0.009    0.000    0.014    0.000 pathlib.py:691(__str__)\n",
      "    35261    0.014    0.000    0.014    0.000 cmd.py:511(__del__)\n",
      "    19785    0.014    0.000    0.014    0.000 __init__.py:867(__init__)\n",
      "     3866    0.013    0.000    0.014    0.000 conf.py:45(get)\n",
      "    59459    0.014    0.000    0.014    0.000 {method 'rstrip' of 'str' objects}\n",
      "     1226    0.014    0.000    0.014    0.000 {method 'append' of 'collections.deque' objects}\n",
      "    24759    0.014    0.000    0.014    0.000 {built-in method builtins.setattr}\n",
      "    52024    0.013    0.000    0.013    0.000 {method 'startswith' of 'bytes' objects}\n",
      "    19780    0.013    0.000    0.013    0.000 base.py:38(__init__)\n",
      "      346    0.006    0.000    0.012    0.000 ChangeCounter.ipynb:104(update_stats)\n",
      " 5525/618    0.007    0.000    0.012    0.000 cmd.py:915(__unpack_args)\n",
      "      618    0.012    0.000    0.012    0.000 cmd.py:341(__init__)\n",
      "     1226    0.012    0.000    0.012    0.000 threading.py:215(__init__)\n",
      "     6247    0.012    0.000    0.012    0.000 util.py:104(__init__)\n",
      "    10406    0.008    0.000    0.011    0.000 diff.py:370(a_path)\n",
      "     1844    0.011    0.000    0.011    0.000 {method 'add' of 'set' objects}\n",
      "     9890    0.008    0.000    0.010    0.000 util.py:18(sm_name)\n",
      "    18741    0.010    0.000    0.010    0.000 util.py:111(utcoffset)\n",
      "     1226    0.009    0.000    0.009    0.000 threading.py:727(_newname)\n",
      "     5608    0.007    0.000    0.009    0.000 commit.py:462(committer)\n",
      "      618    0.003    0.000    0.009    0.000 subprocess.py:1174(_get_handles)\n",
      "     1858    0.009    0.000    0.009    0.000 {built-in method posix.pipe}\n",
      "     4945    0.007    0.000    0.008    0.000 util.py:851(__new__)\n",
      "    19785    0.008    0.000    0.008    0.000 base.py:271(common_dir)\n",
      "    10111    0.008    0.000    0.008    0.000 {method 'sub' of '_sre.SRE_Pattern' objects}\n",
      "    49635    0.008    0.000    0.008    0.000 {function _OMD.__getitem__ at 0x7fd26e9ef048}\n",
      "    10707    0.005    0.000    0.008    0.000 diff.py:374(b_path)\n",
      "    19781    0.007    0.000    0.007    0.000 {method 'rpartition' of 'str' objects}\n",
      "     3901    0.003    0.000    0.007    0.000 base.py:102(hexsha)\n",
      "     4307    0.005    0.000    0.007    0.000 diff.py:393(renamed_file)\n",
      "      613    0.007    0.000    0.007    0.000 {method 'finditer' of '_sre.SRE_Pattern' objects}\n",
      "    28177    0.007    0.000    0.007    0.000 {method 'readline' of '_io.BytesIO' objects}\n",
      "      618    0.004    0.000    0.006    0.000 cmd.py:903(transform_kwargs)\n",
      "     1937    0.001    0.000    0.006    0.000 __init__.py:1286(debug)\n",
      "    49558    0.006    0.000    0.006    0.000 config.py:352(optionxform)\n",
      "     2452    0.005    0.000    0.006    0.000 threading.py:1230(current_thread)\n",
      "        1    0.000    0.000    0.006    0.006 base.py:504(iter_commits)\n",
      "        1    0.000    0.000    0.006    0.006 commit.py:186(iter_items)\n",
      "      618    0.003    0.000    0.006    0.000 warnings.py:143(simplefilter)\n",
      "    10115    0.005    0.000    0.005    0.000 pathlib.py:282(splitroot)\n",
      "    14837    0.005    0.000    0.005    0.000 symbolic.py:48(__init__)\n",
      "     5170    0.003    0.000    0.005    0.000 pathlib.py:674(_format_parsed_parts)\n",
      "     9896    0.005    0.000    0.005    0.000 {method 'keys' of 'collections.OrderedDict' objects}\n",
      "    39560    0.005    0.000    0.005    0.000 {built-in method builtins.ord}\n",
      "    29826    0.005    0.000    0.005    0.000 {method 'lower' of 'str' objects}\n",
      "        5    0.000    0.000    0.005    0.001 base.py:88(__init__)\n",
      "    11168    0.005    0.000    0.005    0.000 util.py:542(__init__)\n",
      "     4945    0.003    0.000    0.004    0.000 base.py:78(__eq__)\n",
      "    19780    0.004    0.000    0.004    0.000 base.py:52(type)\n",
      "    10115    0.004    0.000    0.004    0.000 pathlib.py:1008(_init)\n",
      "     4945    0.004    0.000    0.004    0.000 util.py:854(__init__)\n",
      "      618    0.003    0.000    0.004    0.000 _collections_abc.py:672(keys)\n",
      "      618    0.004    0.000    0.004    0.000 warnings.py:428(__init__)\n",
      "     4951    0.003    0.000    0.004    0.000 configparser.py:1338(__iter__)\n",
      "      618    0.004    0.000    0.004    0.000 subprocess.py:872(poll)\n",
      "     1226    0.002    0.000    0.004    0.000 threading.py:1147(setDaemon)\n",
      "        4    0.000    0.000    0.004    0.001 util.py:63(wrapper)\n",
      "        4    0.000    0.000    0.004    0.001 base.py:1049(module)\n",
      "     5608    0.003    0.000    0.004    0.000 commit.py:526(msg)\n",
      "     4932    0.001    0.000    0.004    0.000 config.py:318(__del__)\n",
      "      639    0.002    0.000    0.004    0.000 git_repository.py:127(get_commit_from_gitpython)\n",
      "     1226    0.003    0.000    0.004    0.000 threading.py:966(_stop)\n",
      "    19780    0.004    0.000    0.004    0.000 base.py:42(binsha)\n",
      "      665    0.001    0.000    0.003    0.000 commit.py:535(parents)\n",
      "        3    0.000    0.000    0.003    0.001 git_repository.py:59(repo)\n",
      "        1    0.000    0.000    0.003    0.003 git_repository.py:79(_open_repository)\n",
      "     1226    0.003    0.000    0.003    0.000 _weakrefset.py:38(_remove)\n",
      "      626    0.001    0.000    0.003    0.000 posixpath.py:154(dirname)\n",
      "    19780    0.003    0.000    0.003    0.000 base.py:60(size)\n",
      "      618    0.001    0.000    0.003    0.000 warnings.py:159(_add_filter)\n",
      "     1236    0.003    0.000    0.003    0.000 {built-in method builtins.sorted}\n",
      "     4945    0.003    0.000    0.003    0.000 fun.py:164(to_commit)\n",
      "     4933    0.002    0.000    0.003    0.000 config.py:330(release)\n",
      "      346    0.003    0.000    0.003    0.000 ChangeCounter.ipynb:120(update_size)\n",
      "    19785    0.003    0.000    0.003    0.000 configparser.py:362(before_get)\n",
      "    24988    0.003    0.000    0.003    0.000 util.py:117(dst)\n",
      "    24755    0.003    0.000    0.003    0.000 {built-in method builtins.callable}\n",
      "     1227    0.002    0.000    0.003    0.000 encoding.py:1(force_bytes)\n",
      "     1226    0.001    0.000    0.002    0.000 base.py:94(__str__)\n",
      "     4949    0.002    0.000    0.002    0.000 base.py:278(bare)\n",
      "      639    0.001    0.000    0.002    0.000 commit.py:443(hash)\n",
      "     6247    0.002    0.000    0.002    0.000 developer.py:24(__init__)\n",
      "     2577    0.002    0.000    0.002    0.000 __init__.py:1530(getEffectiveLevel)\n",
      "     1226    0.002    0.000    0.002    0.000 threading.py:1120(daemon)\n",
      "     1226    0.002    0.000    0.002    0.000 threading.py:1136(daemon)\n",
      "      346    0.002    0.000    0.002    0.000 ChangeCounter.ipynb:128(update_changes)\n",
      "     1226    0.002    0.000    0.002    0.000 threading.py:239(__enter__)\n",
      "        1    0.000    0.000    0.002    0.002 contextlib.py:79(__enter__)\n",
      "     4971    0.002    0.000    0.002    0.000 {method 'pop' of 'list' objects}\n",
      "     4951    0.002    0.000    0.002    0.000 config.py:299(_acquire_lock)\n",
      "        2    0.000    0.000    0.002    0.001 base.py:1067(module_exists)\n",
      "     4949    0.002    0.000    0.002    0.000 base.py:265(working_tree_dir)\n",
      "     5222    0.002    0.000    0.002    0.000 {method 'join' of 'str' objects}\n",
      "      618    0.001    0.000    0.002    0.000 subprocess.py:1368(_handle_exitstatus)\n",
      "     6244    0.002    0.000    0.002    0.000 {method 'strip' of 'bytes' objects}\n",
      "      618    0.002    0.000    0.002    0.000 {method 'remove' of 'list' objects}\n",
      "     9888    0.002    0.000    0.002    0.000 {method 'endswith' of 'bytes' objects}\n",
      "     4951    0.001    0.000    0.001    0.000 {built-in method builtins.iter}\n",
      "     5584    0.001    0.000    0.001    0.000 {method 'read' of '_io.BytesIO' objects}\n",
      "    10115    0.001    0.000    0.001    0.000 {method 'reverse' of 'list' objects}\n",
      "     5608    0.001    0.000    0.001    0.000 {method 'end' of '_sre.SRE_Match' objects}\n",
      "     4484    0.001    0.000    0.001    0.000 {method 'get' of 'dict' objects}\n",
      "     1226    0.001    0.000    0.001    0.000 threading.py:254(_is_owned)\n",
      "      639    0.001    0.000    0.001    0.000 commit.py:430(__init__)\n",
      "     9894    0.001    0.000    0.001    0.000 util.py:155(to_native_path_linux)\n",
      "     1226    0.001    0.000    0.001    0.000 threading.py:251(_acquire_restore)\n",
      "     4951    0.001    0.000    0.001    0.000 configparser.py:1179(converters)\n",
      "     4307    0.001    0.000    0.001    0.000 diff.py:378(rename_from)\n",
      "      618    0.001    0.000    0.001    0.000 subprocess.py:778(__del__)\n",
      "    18/10    0.000    0.000    0.001    0.000 fun.py:70(find_submodule_git_dir)\n",
      "     1227    0.001    0.000    0.001    0.000 cmd.py:539(__getattr__)\n",
      "      639    0.001    0.000    0.001    0.000 commit.py:452(author)\n",
      "      624    0.000    0.000    0.001    0.000 cmd.py:118(dashify)\n",
      "        3    0.000    0.000    0.001    0.000 config.py:610(write)\n",
      "      618    0.001    0.000    0.001    0.000 _collections_abc.py:698(__init__)\n",
      "     4995    0.001    0.000    0.001    0.000 {method 'start' of '_sre.SRE_Match' objects}\n",
      "      618    0.001    0.000    0.001    0.000 warnings.py:468(__exit__)\n",
      "     1226    0.001    0.000    0.001    0.000 threading.py:248(_release_save)\n",
      "     2457    0.001    0.000    0.001    0.000 {method 'insert' of 'list' objects}\n",
      "     4307    0.001    0.000    0.001    0.000 diff.py:382(rename_to)\n",
      "      618    0.001    0.000    0.001    0.000 cmd.py:977(<dictcomp>)\n",
      "     3678    0.001    0.000    0.001    0.000 threading.py:506(is_set)\n",
      "        5    0.000    0.000    0.001    0.000 base.py:217(__del__)\n",
      "        5    0.000    0.000    0.001    0.000 base.py:223(close)\n",
      "      618    0.001    0.000    0.001    0.000 subprocess.py:203(_cleanup)\n",
      "     1226    0.001    0.000    0.001    0.000 threading.py:242(__exit__)\n",
      "     2452    0.001    0.000    0.001    0.000 {built-in method _thread.get_ident}\n",
      "       23    0.000    0.000    0.001    0.000 fun.py:29(is_git_dir)\n",
      "        5    0.000    0.000    0.001    0.000 base.py:436(config_reader)\n",
      "      2/1    0.000    0.000    0.001    0.001 config.py:92(flush_changes)\n",
      "     2456    0.001    0.000    0.001    0.000 {method 'release' of '_thread.lock' objects}\n",
      "     1236    0.001    0.000    0.001    0.000 {method 'close' of '_io.BufferedReader' objects}\n",
      "     4936    0.001    0.000    0.001    0.000 config.py:655(read_only)\n",
      "      618    0.001    0.000    0.001    0.000 cmd.py:984(<listcomp>)\n",
      "      708    0.001    0.000    0.001    0.000 {method 'replace' of 'str' objects}\n",
      "      618    0.001    0.000    0.001    0.000 {method 'rfind' of 'bytes' objects}\n",
      "       70    0.001    0.000    0.001    0.000 {built-in method posix.stat}\n",
      "      618    0.001    0.000    0.001    0.000 {built-in method posix.WIFSIGNALED}\n",
      "        1    0.000    0.000    0.001    0.001 base.py:457(config_writer)\n",
      "     1226    0.001    0.000    0.001    0.000 {method '__enter__' of '_thread.lock' objects}\n",
      "     1236    0.000    0.000    0.001    0.000 subprocess.py:1386(_internal_poll)\n",
      "     1226    0.000    0.000    0.000    0.000 {method 'discard' of 'set' objects}\n",
      "        2    0.000    0.000    0.000    0.000 pathlib.py:1133(resolve)\n",
      "        3    0.000    0.000    0.000    0.000 config.py:571(_write)\n",
      "     2473    0.000    0.000    0.000    0.000 {method 'items' of 'dict' objects}\n",
      "        2    0.000    0.000    0.000    0.000 pathlib.py:303(resolve)\n",
      "       48    0.000    0.000    0.000    0.000 genericpath.py:39(isdir)\n",
      "      618    0.000    0.000    0.000    0.000 cmd.py:978(<dictcomp>)\n",
      "        4    0.000    0.000    0.000    0.000 util.py:762(_obtain_lock)\n",
      "        4    0.000    0.000    0.000    0.000 util.py:740(_obtain_lock_or_raise)\n",
      "       45    0.000    0.000    0.000    0.000 config.py:574(write_section)\n",
      "        1    0.000    0.000    0.000    0.000 config.py:738(set_value)\n",
      "        2    0.000    0.000    0.000    0.000 pathlib.py:307(_resolve)\n",
      "        1    0.000    0.000    0.000    0.000 {built-in method posix.open}\n",
      "       51    0.000    0.000    0.000    0.000 posixpath.py:338(normpath)\n",
      "      622    0.000    0.000    0.000    0.000 {method 'update' of 'dict' objects}\n",
      "     1854    0.000    0.000    0.000    0.000 {built-in method _warnings._filters_mutated}\n",
      "        8    0.000    0.000    0.000    0.000 pathlib.py:439(readlink)\n",
      "        8    0.000    0.000    0.000    0.000 {built-in method posix.readlink}\n",
      "       15    0.000    0.000    0.000    0.000 util.py:332(expand_path)\n",
      "        1    0.000    0.000    0.000    0.000 git_repository.py:38(__init__)\n",
      "      616    0.000    0.000    0.000    0.000 {built-in method posix.WIFEXITED}\n",
      "     1226    0.000    0.000    0.000    0.000 {method '__exit__' of '_thread.lock' objects}\n",
      "      618    0.000    0.000    0.000    0.000 {method 'items' of 'collections.OrderedDict' objects}\n",
      "      616    0.000    0.000    0.000    0.000 {built-in method posix.WEXITSTATUS}\n",
      "        5    0.000    0.000    0.000    0.000 cmd.py:519(__init__)\n",
      "     1226    0.000    0.000    0.000    0.000 {method 'locked' of '_thread.lock' objects}\n",
      "       17    0.000    0.000    0.000    0.000 genericpath.py:27(isfile)\n",
      "      613    0.000    0.000    0.000    0.000 diff.py:63(_process_diff_args)\n",
      "       15    0.000    0.000    0.000    0.000 posixpath.py:376(abspath)\n",
      "        5    0.000    0.000    0.000    0.000 configparser.py:826(getboolean)\n",
      "      618    0.000    0.000    0.000    0.000 {method 'pop' of 'dict' objects}\n",
      "        5    0.000    0.000    0.000    0.000 configparser.py:805(_get_conv)\n",
      "        5    0.000    0.000    0.000    0.000 db.py:31(__init__)\n",
      "        1    0.000    0.000    0.000    0.000 git_repository.py:85(_discover_main_branch)\n",
      "       45    0.000    0.000    0.000    0.000 config.py:192(items_all)\n",
      "        1    0.000    0.000    0.000    0.000 base.py:713(active_branch)\n",
      "        5    0.000    0.000    0.000    0.000 configparser.py:802(_get)\n",
      "        1    0.000    0.000    0.000    0.000 symbolic.py:266(_get_reference)\n",
      "       45    0.000    0.000    0.000    0.000 config.py:194(<listcomp>)\n",
      "       85    0.000    0.000    0.000    0.000 config.py:733(_value_to_string)\n",
      "        5    0.000    0.000    0.000    0.000 loose.py:77(__init__)\n",
      "      346    0.000    0.000    0.000    0.000 ChangeCounter.ipynb:138(update_elems)\n",
      "        5    0.000    0.000    0.000    0.000 genericpath.py:16(exists)\n",
      "        6    0.000    0.000    0.000    0.000 base.py:418(_get_config_path)\n",
      "        2    0.000    0.000    0.000    0.000 util.py:767(_release_lock)\n",
      "        4    0.000    0.000    0.000    0.000 subprocess.py:1602(terminate)\n",
      "        1    0.000    0.000    0.000    0.000 util.py:103(rmfile)\n",
      "        1    0.000    0.000    0.000    0.000 conf.py:77(sanity_check_filters)\n",
      "      129    0.000    0.000    0.000    0.000 config.py:185(getall)\n",
      "        5    0.000    0.000    0.000    0.000 base.py:108(__init__)\n",
      "        4    0.000    0.000    0.000    0.000 {method 'close' of '_io.BufferedWriter' objects}\n",
      "        4    0.000    0.000    0.000    0.000 subprocess.py:1596(send_signal)\n",
      "        8    0.000    0.000    0.000    0.000 _bootlocale.py:23(getpreferredencoding)\n",
      "        4    0.000    0.000    0.000    0.000 {built-in method posix.kill}\n",
      "        5    0.000    0.000    0.000    0.000 _collections_abc.py:664(__contains__)\n",
      "        1    0.000    0.000    0.000    0.000 {built-in method posix.remove}\n",
      "        8    0.000    0.000    0.000    0.000 cmd.py:887(transform_kwarg)\n",
      "        3    0.000    0.000    0.000    0.000 config.py:188(items)\n",
      "       23    0.000    0.000    0.000    0.000 posixpath.py:64(isabs)\n",
      "        1    0.000    0.000    0.000    0.000 repository_mining.py:42(__init__)\n",
      "        3    0.000    0.000    0.000    0.000 config.py:190(<listcomp>)\n",
      "        5    0.000    0.000    0.000    0.000 mman.py:410(collect)\n",
      "        5    0.000    0.000    0.000    0.000 re.py:179(search)\n",
      "       85    0.000    0.000    0.000    0.000 encoding.py:11(force_text)\n",
      "        7    0.000    0.000    0.000    0.000 conf.py:36(set_value)\n",
      "        5    0.000    0.000    0.000    0.000 mman.py:305(_collect_lru_region)\n",
      "       15    0.000    0.000    0.000    0.000 posixpath.py:232(expanduser)\n",
      "        1    0.000    0.000    0.000    0.000 symbolic.py:650(from_path)\n",
      "        1    0.000    0.000    0.000    0.000 conf.py:24(__init__)\n",
      "        5    0.000    0.000    0.000    0.000 re.py:286(_compile)\n",
      "        1    0.000    0.000    0.000    0.000 conf.py:65(_check_only_one_from_commit)\n",
      "       15    0.000    0.000    0.000    0.000 posixpath.py:285(expandvars)\n",
      "        1    0.000    0.000    0.000    0.000 conf.py:287(_check_timezones)\n",
      "        4    0.000    0.000    0.000    0.000 base.py:174(abspath)\n",
      "        1    0.000    0.000    0.000    0.000 conf.py:191(build_args)\n",
      "        1    0.000    0.000    0.000    0.000 conf.py:293(_replace_timezone)\n",
      "        8    0.000    0.000    0.000    0.000 {built-in method _locale.nl_langinfo}\n",
      "        5    0.000    0.000    0.000    0.000 configparser.py:1151(_convert_to_boolean)\n",
      "       13    0.000    0.000    0.000    0.000 cmd.py:306(is_cygwin)\n",
      "        2    0.000    0.000    0.000    0.000 conf.py:181(only_one_filter)\n",
      "        1    0.000    0.000    0.000    0.000 {method 'replace' of 'datetime.datetime' objects}\n",
      "       21    0.000    0.000    0.000    0.000 {method 'rstrip' of 'bytes' objects}\n",
      "       43    0.000    0.000    0.000    0.000 {built-in method _stat.S_ISDIR}\n",
      "        2    0.000    0.000    0.000    0.000 pathlib.py:1434(expanduser)\n",
      "        4    0.000    0.000    0.000    0.000 base.py:243(__ne__)\n",
      "        5    0.000    0.000    0.000    0.000 base.py:67(__init__)\n",
      "       21    0.000    0.000    0.000    0.000 {method 'find' of 'bytes' objects}\n",
      "        1    0.000    0.000    0.000    0.000 pathlib.py:777(name)\n",
      "        1    0.000    0.000    0.000    0.000 __init__.py:230(utcoffset)\n",
      "        1    0.000    0.000    0.000    0.000 git_repository.py:313(__del__)\n",
      "        1    0.000    0.000    0.000    0.000 configparser.py:890(set)\n",
      "        2    0.000    0.000    0.000    0.000 repository_mining.py:140(_is_remote)\n",
      "        1    0.000    0.000    0.000    0.000 reference.py:35(__init__)\n",
      "       13    0.000    0.000    0.000    0.000 util.py:292(is_cygwin_git)\n",
      "        8    0.000    0.000    0.000    0.000 {method 'rfind' of 'str' objects}\n",
      "        1    0.000    0.000    0.000    0.000 contextlib.py:157(helper)\n",
      "        4    0.000    0.000    0.000    0.000 base.py:238(__eq__)\n",
      "        1    0.000    0.000    0.000    0.000 conf.py:71(_check_only_one_to_commit)\n",
      "        5    0.000    0.000    0.000    0.000 {method 'values' of 'dict' objects}\n",
      "        1    0.000    0.000    0.000    0.000 contextlib.py:59(__init__)\n",
      "        3    0.000    0.000    0.000    0.000 config.py:647(_assure_writable)\n",
      "        8    0.000    0.000    0.000    0.000 util.py:735(_has_lock)\n",
      "        4    0.000    0.000    0.000    0.000 {method 'lstrip' of 'str' objects}\n",
      "        1    0.000    0.000    0.000    0.000 reference.py:86(name)\n",
      "        1    0.000    0.000    0.000    0.000 conf.py:54(_sanity_check_repos)\n",
      "        1    0.000    0.000    0.000    0.000 conf.py:114(_check_correct_filters_order)\n",
      "        1    0.000    0.000    0.000    0.000 conf.py:142(get_starting_commit)\n",
      "        1    0.000    0.000    0.000    0.000 conf.py:165(get_ending_commit)\n",
      "        8    0.000    0.000    0.000    0.000 cmd.py:906(<lambda>)\n",
      "        1    0.000    0.000    0.000    0.000 util.py:728(__del__)\n",
      "        2    0.000    0.000    0.000    0.000 util.py:731(_lock_file_path)\n",
      "        2    0.000    0.000    0.000    0.000 {built-in method posix.WTERMSIG}\n",
      "        2    0.000    0.000    0.000    0.000 pathlib.py:919(is_absolute)\n",
      "        1    0.000    0.000    0.000    0.000 configparser.py:663(has_section)\n",
      "        5    0.000    0.000    0.000    0.000 {built-in method builtins.issubclass}\n",
      "       11    0.000    0.000    0.000    0.000 {built-in method _stat.S_ISREG}\n",
      "        1    0.000    0.000    0.000    0.000 {method 'disable' of '_lsprof.Profiler' objects}\n",
      "        1    0.000    0.000    0.000    0.000 configparser.py:365(before_set)\n",
      "        2    0.000    0.000    0.000    0.000 conf.py:189(<listcomp>)\n",
      "        1    0.000    0.000    0.000    0.000 util.py:724(__init__)\n",
      "\n",
      "\n"
     ]
    }
   ],
   "source": [
    "cProfile.run('debuggingbook_change_counter(ChangeCounter)', sort='cumulative')"
   ]
  },
  {
   "cell_type": "markdown",
   "metadata": {
    "slideshow": {
     "slide_type": "subslide"
    }
   },
   "source": [
    "Yes, that's an awful lot of functions, but we can quickly narrow things down. The `cumtime` column is sorted by largest values first. We see that the `debuggingbook_change_counter()` method at the top takes up all the time – but this is not surprising, since it it the method we called in the first place."
   ]
  },
  {
   "cell_type": "markdown",
   "metadata": {
    "slideshow": {
     "slide_type": "fragment"
    }
   },
   "source": [
    "The next places are more interesting: almost all time is spent in a single method, named `modifications()`. This method determines the difference between two versions, which is an expensive operation; this is also supported by the observation that half of the time is spent in a `diff()` method."
   ]
  },
  {
   "cell_type": "markdown",
   "metadata": {
    "slideshow": {
     "slide_type": "subslide"
    }
   },
   "source": [
    "This profile thus already gets us a hint on how to improve performance: Rather than computing the diff between versions for _every_ version, we could do so _on demand_ (and possibly cache results so we don't have to compute them twice). Alas, this (slow) functionality is part of the \n",
    "underlying [PyDriller](https://pydriller.readthedocs.io/) Python package, so we cannot fix this within the `ChangeCounter` class. But we could file a bug with the developers, suggesting a patch to improve performance."
   ]
  },
  {
   "cell_type": "markdown",
   "metadata": {
    "slideshow": {
     "slide_type": "fragment"
    }
   },
   "source": [
    "Identifying a culprit is not always that easy. Notably, when the first set of obvious performance hogs is fixed, it becomes more and more difficult to squeeze out additional performance – and, as stated above, such optimization may be in conflict with readability and maintainability of your code. Here are some simple ways to improve performance:"
   ]
  },
  {
   "cell_type": "markdown",
   "metadata": {
    "slideshow": {
     "slide_type": "subslide"
    }
   },
   "source": [
    "* **Efficient algorithms**. For many tasks, the simplest algorithm is not always the best performing one. Consider alternatives that may be more efficient, and _measure_ whether they pay off.\n",
    "\n",
    "* **Efficient data types**. Remember that certain operations, such as looking up whether an element is contained, may take different amounts of time depending on the data structure. In Python, a query like `x in xs` takes (mostly) constant time if `xs` is a set, but linear time if `xs` is a list; these differences become significant as the size of `xs` grows.\n",
    "\n",
    "* **Efficient modules**. In Python, most frequently used modules (or at least parts of) are implemented in C, which is way more efficient than plain Python. Rely on existing modules whenever possible. Or implement your own, _after_ having measured that this may pay off."
   ]
  },
  {
   "cell_type": "markdown",
   "metadata": {
    "slideshow": {
     "slide_type": "subslide"
    }
   },
   "source": [
    "These are all things you can already use during programming – and also set up your code such that exchanging, say, one data type by another will still be possible later. This is best achieved by hiding implementation details (such as the used data types) behind an abstract interface used by your clients."
   ]
  },
  {
   "cell_type": "markdown",
   "metadata": {
    "slideshow": {
     "slide_type": "fragment"
    }
   },
   "source": [
    "But beyond these points, remember the famous words by [Donald J. Knuth](https://en.wikipedia.org/wiki/Donald_Knuth):"
   ]
  },
  {
   "cell_type": "code",
   "execution_count": 10,
   "metadata": {
    "execution": {
     "iopub.execute_input": "2021-05-12T11:20:09.407821Z",
     "iopub.status.busy": "2021-05-12T11:20:09.407275Z",
     "iopub.status.idle": "2021-05-12T11:20:09.409149Z",
     "shell.execute_reply": "2021-05-12T11:20:09.409607Z"
    },
    "slideshow": {
     "slide_type": "skip"
    }
   },
   "outputs": [],
   "source": [
    "from bookutils import quiz"
   ]
  },
  {
   "cell_type": "code",
   "execution_count": 11,
   "metadata": {
    "execution": {
     "iopub.execute_input": "2021-05-12T11:20:09.415017Z",
     "iopub.status.busy": "2021-05-12T11:20:09.414403Z",
     "iopub.status.idle": "2021-05-12T11:20:09.439395Z",
     "shell.execute_reply": "2021-05-12T11:20:09.439892Z"
    },
    "slideshow": {
     "slide_type": "fragment"
    }
   },
   "outputs": [
    {
     "data": {
      "text/html": [
       "\n",
       "    \n",
       "    <script>\n",
       "    var bad_answers = new Map();\n",
       "\n",
       "    function answer(quiz_id) {\n",
       "        ans = 0;\n",
       "        for (i = 1;; i++) {\n",
       "            checkbox = document.getElementById(quiz_id + \"-\" + i.toString());\n",
       "            if (!checkbox)\n",
       "                break;\n",
       "            if (checkbox.checked)\n",
       "                ans |= (1 << i);\n",
       "        }\n",
       "        return ans;\n",
       "    }\n",
       "    function check_selection(quiz_id, correct_answer, multiple_choice, hint) {\n",
       "        given_answer = answer(quiz_id);\n",
       "        if (given_answer == correct_answer)\n",
       "        {\n",
       "            document.getElementById(quiz_id + \"-submit\").value = \"Correct!\";\n",
       "            document.getElementById(quiz_id + \"-hint\").innerHTML = \"\";\n",
       "\n",
       "            for (i = 1;; i++) {\n",
       "                checkbox = document.getElementById(quiz_id + \"-\" + i.toString());\n",
       "                label = document.getElementById(quiz_id + \"-\" + i.toString() + \"-label\")\n",
       "                if (!checkbox)\n",
       "                    break;\n",
       "    \n",
       "                if (checkbox.checked) {\n",
       "                    label.style.fontWeight = \"bold\";\n",
       "                }\n",
       "                else {\n",
       "                    label.style.textDecoration = \"line-through\";\n",
       "                }\n",
       "            }\n",
       "        }\n",
       "        else \n",
       "        {\n",
       "            document.getElementById(quiz_id + \"-submit\").value = \"Try again\";\n",
       "            \n",
       "            if (!bad_answers.has(quiz_id)) {\n",
       "                bad_answers.set(quiz_id, 1);\n",
       "            }\n",
       "            else {\n",
       "                bad_answers.set(quiz_id, bad_answers.get(quiz_id) + 1);\n",
       "            }\n",
       "\n",
       "            if (bad_answers.get(quiz_id) >= 2 && hint.length > 0) {\n",
       "                document.getElementById(quiz_id + \"-hint\").innerHTML = \n",
       "                    \"&nbsp;&nbsp;(Hint: <code>\" + hint + \"</code>)\";\n",
       "            }\n",
       "\n",
       "            if (!multiple_choice) {\n",
       "                for (i = 1;; i++) {\n",
       "                    checkbox = document.getElementById(quiz_id + \"-\" + i.toString());\n",
       "                    label = document.getElementById(quiz_id + \"-\" + i.toString() + \"-label\")\n",
       "\n",
       "                    if (!checkbox)\n",
       "                        break;\n",
       "                    if (checkbox.checked) {\n",
       "                        label.style.textDecoration = \"line-through\";\n",
       "                    }\n",
       "                }\n",
       "            }\n",
       "        }\n",
       "    }\n",
       "    function clear_selection(quiz_id) {\n",
       "        document.getElementById(quiz_id + \"-submit\").value = \"Submit\";\n",
       "        document.getElementById(quiz_id + \"-hint\").innerHTML = \"\";\n",
       "    }\n",
       "    </script>\n",
       "    \n",
       "    <div class=\"quiz\">\n",
       "    <h3 class=\"quiz_title\">Quiz</h3>\n",
       "    <p>\n",
       "    <div class=\"quiz_question\">Donald J. Knuth said: \"Premature optimization...\"</div>\n",
       "    </p>\n",
       "    <p>\n",
       "    <div class=\"quiz_options\" title=\"Pick a choice.\">\n",
       "    \n",
       "        <input type=\"radio\" name=\"02e39ef8-b314-11eb-9d84-acde48001122\" id=\"02e39ef8-b314-11eb-9d84-acde48001122-1\" onclick=\"clear_selection('02e39ef8-b314-11eb-9d84-acde48001122')\">\n",
       "        <label id=\"02e39ef8-b314-11eb-9d84-acde48001122-1-label\" for=\"02e39ef8-b314-11eb-9d84-acde48001122-1\">... is the root of all evil</label><br>\n",
       "    \n",
       "        <input type=\"radio\" name=\"02e39ef8-b314-11eb-9d84-acde48001122\" id=\"02e39ef8-b314-11eb-9d84-acde48001122-2\" onclick=\"clear_selection('02e39ef8-b314-11eb-9d84-acde48001122')\">\n",
       "        <label id=\"02e39ef8-b314-11eb-9d84-acde48001122-2-label\" for=\"02e39ef8-b314-11eb-9d84-acde48001122-2\">... requires lots of experience</label><br>\n",
       "    \n",
       "        <input type=\"radio\" name=\"02e39ef8-b314-11eb-9d84-acde48001122\" id=\"02e39ef8-b314-11eb-9d84-acde48001122-3\" onclick=\"clear_selection('02e39ef8-b314-11eb-9d84-acde48001122')\">\n",
       "        <label id=\"02e39ef8-b314-11eb-9d84-acde48001122-3-label\" for=\"02e39ef8-b314-11eb-9d84-acde48001122-3\">... should be left to assembly programmers</label><br>\n",
       "    \n",
       "        <input type=\"radio\" name=\"02e39ef8-b314-11eb-9d84-acde48001122\" id=\"02e39ef8-b314-11eb-9d84-acde48001122-4\" onclick=\"clear_selection('02e39ef8-b314-11eb-9d84-acde48001122')\">\n",
       "        <label id=\"02e39ef8-b314-11eb-9d84-acde48001122-4-label\" for=\"02e39ef8-b314-11eb-9d84-acde48001122-4\">... is the reason why TeX is so fast</label><br>\n",
       "    \n",
       "    </div>\n",
       "    </p>\n",
       "    <input id=\"02e39ef8-b314-11eb-9d84-acde48001122-submit\" type=\"submit\" value=\"Submit\" onclick=\"check_selection('02e39ef8-b314-11eb-9d84-acde48001122', 2, 0, 'len(&quot;METAFONT&quot;) - len(&quot;TeX&quot;) - len(&quot;CWEB&quot;)')\">\n",
       "    <span class=\"quiz_hint\" id=\"02e39ef8-b314-11eb-9d84-acde48001122-hint\"></span>\n",
       "    </div>\n",
       "    "
      ],
      "text/plain": [
       "<IPython.core.display.HTML object>"
      ]
     },
     "execution_count": 1,
     "metadata": {},
     "output_type": "execute_result"
    }
   ],
   "source": [
    "quiz('Donald J. Knuth said: \"Premature optimization...\"',\n",
    "    [\n",
    "        \"... is the root of all evil\",\n",
    "        \"... requires lots of experience\",\n",
    "        \"... should be left to assembly programmers\",\n",
    "        \"... is the reason why TeX is so fast\",\n",
    "    ], 'len(\"METAFONT\") - len(\"TeX\") - len(\"CWEB\")')"
   ]
  },
  {
   "cell_type": "markdown",
   "metadata": {
    "slideshow": {
     "slide_type": "subslide"
    }
   },
   "source": [
    "This quote should always remind us that after a good design, you should always _first_ measure and _then_ optimize."
   ]
  },
  {
   "cell_type": "markdown",
   "metadata": {
    "slideshow": {
     "slide_type": "slide"
    }
   },
   "source": [
    "## How Profilers Work\n",
    "\n",
    "Having discussed profilers from a _user_ perspective, let us now dive into how they are actually implemented. It turns out we can use most of our existing infrastructure to implement a simple profiler with only a few lines of code."
   ]
  },
  {
   "cell_type": "markdown",
   "metadata": {
    "slideshow": {
     "slide_type": "fragment"
    }
   },
   "source": [
    "The program we will apply our profiler on is – surprise! – our ongoing example, `remove_html_markup()`. Our aim is to understand how much time is spent _in each line of the code_ (such that we have a new feature on top of Python `cProfile`)."
   ]
  },
  {
   "cell_type": "code",
   "execution_count": 12,
   "metadata": {
    "execution": {
     "iopub.execute_input": "2021-05-12T11:20:09.443753Z",
     "iopub.status.busy": "2021-05-12T11:20:09.443156Z",
     "iopub.status.idle": "2021-05-12T11:20:09.445038Z",
     "shell.execute_reply": "2021-05-12T11:20:09.445576Z"
    },
    "slideshow": {
     "slide_type": "skip"
    }
   },
   "outputs": [],
   "source": [
    "from Intro_Debugging import remove_html_markup"
   ]
  },
  {
   "cell_type": "code",
   "execution_count": 13,
   "metadata": {
    "execution": {
     "iopub.execute_input": "2021-05-12T11:20:09.449055Z",
     "iopub.status.busy": "2021-05-12T11:20:09.448491Z",
     "iopub.status.idle": "2021-05-12T11:20:09.450504Z",
     "shell.execute_reply": "2021-05-12T11:20:09.450942Z"
    },
    "slideshow": {
     "slide_type": "fragment"
    }
   },
   "outputs": [],
   "source": [
    "# ignore\n",
    "from typing import Any, Optional, Type, Dict, Tuple, List"
   ]
  },
  {
   "cell_type": "code",
   "execution_count": 14,
   "metadata": {
    "execution": {
     "iopub.execute_input": "2021-05-12T11:20:09.454020Z",
     "iopub.status.busy": "2021-05-12T11:20:09.453500Z",
     "iopub.status.idle": "2021-05-12T11:20:09.455246Z",
     "shell.execute_reply": "2021-05-12T11:20:09.455723Z"
    },
    "slideshow": {
     "slide_type": "fragment"
    }
   },
   "outputs": [],
   "source": [
    "# ignore\n",
    "from bookutils import print_content"
   ]
  },
  {
   "cell_type": "code",
   "execution_count": 15,
   "metadata": {
    "execution": {
     "iopub.execute_input": "2021-05-12T11:20:09.458623Z",
     "iopub.status.busy": "2021-05-12T11:20:09.458108Z",
     "iopub.status.idle": "2021-05-12T11:20:09.459889Z",
     "shell.execute_reply": "2021-05-12T11:20:09.460351Z"
    },
    "slideshow": {
     "slide_type": "subslide"
    }
   },
   "outputs": [],
   "source": [
    "# ignore\n",
    "import inspect"
   ]
  },
  {
   "cell_type": "code",
   "execution_count": 16,
   "metadata": {
    "execution": {
     "iopub.execute_input": "2021-05-12T11:20:09.463620Z",
     "iopub.status.busy": "2021-05-12T11:20:09.463101Z",
     "iopub.status.idle": "2021-05-12T11:20:09.757110Z",
     "shell.execute_reply": "2021-05-12T11:20:09.757601Z"
    },
    "slideshow": {
     "slide_type": "subslide"
    }
   },
   "outputs": [
    {
     "name": "stdout",
     "output_type": "stream",
     "text": [
      "238  \u001b[34mdef\u001b[39;49;00m \u001b[32mremove_html_markup\u001b[39;49;00m(s):  \u001b[37m# type: ignore\u001b[39;49;00m\n",
      "239      tag = \u001b[34mFalse\u001b[39;49;00m\n",
      "240      quote = \u001b[34mFalse\u001b[39;49;00m\n",
      "241      out = \u001b[33m\"\u001b[39;49;00m\u001b[33m\"\u001b[39;49;00m\n",
      "242  \n",
      "243      \u001b[34mfor\u001b[39;49;00m c \u001b[35min\u001b[39;49;00m s:\n",
      "244          \u001b[34massert\u001b[39;49;00m tag \u001b[35mor\u001b[39;49;00m \u001b[35mnot\u001b[39;49;00m quote\n",
      "245  \n",
      "246          \u001b[34mif\u001b[39;49;00m c == \u001b[33m'\u001b[39;49;00m\u001b[33m<\u001b[39;49;00m\u001b[33m'\u001b[39;49;00m \u001b[35mand\u001b[39;49;00m \u001b[35mnot\u001b[39;49;00m quote:\n",
      "247              tag = \u001b[34mTrue\u001b[39;49;00m\n",
      "248          \u001b[34melif\u001b[39;49;00m c == \u001b[33m'\u001b[39;49;00m\u001b[33m>\u001b[39;49;00m\u001b[33m'\u001b[39;49;00m \u001b[35mand\u001b[39;49;00m \u001b[35mnot\u001b[39;49;00m quote:\n",
      "249              tag = \u001b[34mFalse\u001b[39;49;00m\n",
      "250          \u001b[34melif\u001b[39;49;00m (c == \u001b[33m'\u001b[39;49;00m\u001b[33m\"\u001b[39;49;00m\u001b[33m'\u001b[39;49;00m \u001b[35mor\u001b[39;49;00m c == \u001b[33m\"\u001b[39;49;00m\u001b[33m'\u001b[39;49;00m\u001b[33m\"\u001b[39;49;00m) \u001b[35mand\u001b[39;49;00m tag:\n",
      "251              quote = \u001b[35mnot\u001b[39;49;00m quote\n",
      "252          \u001b[34melif\u001b[39;49;00m \u001b[35mnot\u001b[39;49;00m tag:\n",
      "253              out = out + c\n",
      "254  \n",
      "255      \u001b[34mreturn\u001b[39;49;00m out"
     ]
    }
   ],
   "source": [
    "print_content(inspect.getsource(remove_html_markup), '.py',\n",
    "              start_line_number=238)"
   ]
  },
  {
   "cell_type": "markdown",
   "metadata": {
    "slideshow": {
     "slide_type": "subslide"
    }
   },
   "source": [
    "We introduce a class `PerformanceTracer` that tracks, for each line in the code:\n",
    "\n",
    "* how _often_ it was executed (`hits`), and\n",
    "* _how much time_ was spent during its execution (`time`).\n",
    "\n",
    "To this end, we make use of our `Timer` class, which measures time, and the `Tracer` class from [the chapter on tracing](Tracer.ipynb), which allows us to track every line of the program as it is being executed."
   ]
  },
  {
   "cell_type": "code",
   "execution_count": 17,
   "metadata": {
    "execution": {
     "iopub.execute_input": "2021-05-12T11:20:09.764734Z",
     "iopub.status.busy": "2021-05-12T11:20:09.764201Z",
     "iopub.status.idle": "2021-05-12T11:20:09.766662Z",
     "shell.execute_reply": "2021-05-12T11:20:09.767452Z"
    },
    "slideshow": {
     "slide_type": "skip"
    }
   },
   "outputs": [],
   "source": [
    "from Tracer import Tracer"
   ]
  },
  {
   "cell_type": "markdown",
   "metadata": {
    "slideshow": {
     "slide_type": "fragment"
    }
   },
   "source": [
    "In `PerfomanceTracker`, the attributes `hits` and `time` are mappings indexed by unique locations – that is, pairs of function name and line number."
   ]
  },
  {
   "cell_type": "code",
   "execution_count": 18,
   "metadata": {
    "execution": {
     "iopub.execute_input": "2021-05-12T11:20:09.772758Z",
     "iopub.status.busy": "2021-05-12T11:20:09.772236Z",
     "iopub.status.idle": "2021-05-12T11:20:09.773791Z",
     "shell.execute_reply": "2021-05-12T11:20:09.774163Z"
    },
    "slideshow": {
     "slide_type": "fragment"
    }
   },
   "outputs": [],
   "source": [
    "Location = Tuple[str, int]"
   ]
  },
  {
   "cell_type": "code",
   "execution_count": 19,
   "metadata": {
    "execution": {
     "iopub.execute_input": "2021-05-12T11:20:09.778792Z",
     "iopub.status.busy": "2021-05-12T11:20:09.778250Z",
     "iopub.status.idle": "2021-05-12T11:20:09.780425Z",
     "shell.execute_reply": "2021-05-12T11:20:09.780038Z"
    },
    "slideshow": {
     "slide_type": "subslide"
    }
   },
   "outputs": [],
   "source": [
    "class PerformanceTracer(Tracer):\n",
    "    \"\"\"Trace time and #hits for individual program lines\"\"\"\n",
    "\n",
    "    def __init__(self) -> None:\n",
    "        \"\"\"Constructor.\"\"\"\n",
    "        super().__init__()\n",
    "        self.reset_timer()\n",
    "        self.hits: Dict[Location, int] = {}\n",
    "        self.time: Dict[Location, float] = {}\n",
    "\n",
    "    def reset_timer(self) -> None:\n",
    "        self.timer = Timer.Timer()"
   ]
  },
  {
   "cell_type": "markdown",
   "metadata": {
    "slideshow": {
     "slide_type": "subslide"
    }
   },
   "source": [
    "As common in this book, we want to use `PerformanceTracer` in a `with`-block around the function call(s) to be tracked:\n",
    "\n",
    "```python\n",
    "with PerformanceTracer() as perf_tracer:\n",
    "    function(...)\n",
    "```"
   ]
  },
  {
   "cell_type": "markdown",
   "metadata": {
    "slideshow": {
     "slide_type": "fragment"
    }
   },
   "source": [
    "When entering the `with` block (`__enter__()`), we reset all timers. Also, coming from the `__enter__()` method of the superclass `Tracer`, we enable tracing through the `traceit()` method."
   ]
  },
  {
   "cell_type": "code",
   "execution_count": 20,
   "metadata": {
    "execution": {
     "iopub.execute_input": "2021-05-12T11:20:09.783792Z",
     "iopub.status.busy": "2021-05-12T11:20:09.783202Z",
     "iopub.status.idle": "2021-05-12T11:20:09.784739Z",
     "shell.execute_reply": "2021-05-12T11:20:09.785114Z"
    },
    "slideshow": {
     "slide_type": "skip"
    }
   },
   "outputs": [],
   "source": [
    "from types import FrameType"
   ]
  },
  {
   "cell_type": "code",
   "execution_count": 21,
   "metadata": {
    "execution": {
     "iopub.execute_input": "2021-05-12T11:20:09.788600Z",
     "iopub.status.busy": "2021-05-12T11:20:09.788083Z",
     "iopub.status.idle": "2021-05-12T11:20:09.790075Z",
     "shell.execute_reply": "2021-05-12T11:20:09.789695Z"
    },
    "slideshow": {
     "slide_type": "subslide"
    }
   },
   "outputs": [],
   "source": [
    "class PerformanceTracer(PerformanceTracer):\n",
    "    def __enter__(self) -> Any:\n",
    "        \"\"\"Enter a `with` block.\"\"\"\n",
    "        super().__enter__()\n",
    "        self.reset_timer()\n",
    "        return self"
   ]
  },
  {
   "cell_type": "markdown",
   "metadata": {
    "slideshow": {
     "slide_type": "fragment"
    }
   },
   "source": [
    "The `traceit()` method extracts the current location. It increases the corresponding `hits` value by 1, and adds the elapsed time to the corresponding `time`."
   ]
  },
  {
   "cell_type": "code",
   "execution_count": 22,
   "metadata": {
    "execution": {
     "iopub.execute_input": "2021-05-12T11:20:09.794808Z",
     "iopub.status.busy": "2021-05-12T11:20:09.794288Z",
     "iopub.status.idle": "2021-05-12T11:20:09.795857Z",
     "shell.execute_reply": "2021-05-12T11:20:09.796285Z"
    },
    "slideshow": {
     "slide_type": "subslide"
    }
   },
   "outputs": [],
   "source": [
    "class PerformanceTracer(PerformanceTracer):\n",
    "    def traceit(self, frame: FrameType, event: str, arg: Any) -> None:\n",
    "        \"\"\"Tracing function; called for every line.\"\"\"\n",
    "        t = self.timer.elapsed_time()\n",
    "        location = (frame.f_code.co_name, frame.f_lineno)\n",
    "\n",
    "        self.hits.setdefault(location, 0)\n",
    "        self.time.setdefault(location, 0.0)\n",
    "        self.hits[location] += 1\n",
    "        self.time[location] += t\n",
    "\n",
    "        self.reset_timer()"
   ]
  },
  {
   "cell_type": "markdown",
   "metadata": {
    "slideshow": {
     "slide_type": "fragment"
    }
   },
   "source": [
    "This is it already. We can now determine where most time is spent in `remove_html_markup()`. We invoke it 10,000 times such that we can average over runs:"
   ]
  },
  {
   "cell_type": "code",
   "execution_count": 23,
   "metadata": {
    "execution": {
     "iopub.execute_input": "2021-05-12T11:20:09.880487Z",
     "iopub.status.busy": "2021-05-12T11:20:09.839384Z",
     "iopub.status.idle": "2021-05-12T11:20:11.557286Z",
     "shell.execute_reply": "2021-05-12T11:20:11.557735Z"
    },
    "slideshow": {
     "slide_type": "subslide"
    }
   },
   "outputs": [],
   "source": [
    "with PerformanceTracer() as perf_tracer:\n",
    "    for i in range(10000):\n",
    "        s = remove_html_markup('<b>foo</b>')"
   ]
  },
  {
   "cell_type": "markdown",
   "metadata": {
    "slideshow": {
     "slide_type": "fragment"
    }
   },
   "source": [
    "Here are the hits. For every line executed, we see how often it was executed. The most executed line is the `for` loop with 110,000 hits – once for each of the 10 characters in `<b>foo</b>`, once for the final check, and all of this 10,000 times."
   ]
  },
  {
   "cell_type": "code",
   "execution_count": 24,
   "metadata": {
    "execution": {
     "iopub.execute_input": "2021-05-12T11:20:11.562255Z",
     "iopub.status.busy": "2021-05-12T11:20:11.561708Z",
     "iopub.status.idle": "2021-05-12T11:20:11.563881Z",
     "shell.execute_reply": "2021-05-12T11:20:11.564252Z"
    },
    "slideshow": {
     "slide_type": "subslide"
    }
   },
   "outputs": [
    {
     "data": {
      "text/plain": [
       "{('__init__', 17): 1,\n",
       " ('__init__', 19): 1,\n",
       " ('clock', 8): 1,\n",
       " ('clock', 12): 2,\n",
       " ('__init__', 20): 2,\n",
       " ('remove_html_markup', 238): 10000,\n",
       " ('remove_html_markup', 239): 10000,\n",
       " ('remove_html_markup', 240): 10000,\n",
       " ('remove_html_markup', 241): 10000,\n",
       " ('remove_html_markup', 243): 110000,\n",
       " ('remove_html_markup', 244): 100000,\n",
       " ('remove_html_markup', 246): 100000,\n",
       " ('remove_html_markup', 247): 20000,\n",
       " ('remove_html_markup', 248): 80000,\n",
       " ('remove_html_markup', 250): 60000,\n",
       " ('remove_html_markup', 252): 60000,\n",
       " ('remove_html_markup', 249): 20000,\n",
       " ('remove_html_markup', 253): 30000,\n",
       " ('remove_html_markup', 255): 20000}"
      ]
     },
     "execution_count": 1,
     "metadata": {},
     "output_type": "execute_result"
    }
   ],
   "source": [
    "perf_tracer.hits"
   ]
  },
  {
   "cell_type": "markdown",
   "metadata": {
    "slideshow": {
     "slide_type": "subslide"
    }
   },
   "source": [
    "The `time` attribute collects how much time was spent in each line. Within the loop, again, the `for` statement takes the most time. The other lines show some variability, though."
   ]
  },
  {
   "cell_type": "code",
   "execution_count": 25,
   "metadata": {
    "execution": {
     "iopub.execute_input": "2021-05-12T11:20:11.568929Z",
     "iopub.status.busy": "2021-05-12T11:20:11.568250Z",
     "iopub.status.idle": "2021-05-12T11:20:11.570506Z",
     "shell.execute_reply": "2021-05-12T11:20:11.570883Z"
    },
    "slideshow": {
     "slide_type": "subslide"
    }
   },
   "outputs": [
    {
     "data": {
      "text/plain": [
       "{('__init__', 17): 0.00010573701001703739,\n",
       " ('__init__', 19): 2.5730114430189133e-06,\n",
       " ('clock', 8): 1.7519923858344555e-06,\n",
       " ('clock', 12): 5.300971679389477e-06,\n",
       " ('__init__', 20): 3.0609662644565105e-06,\n",
       " ('remove_html_markup', 238): 0.021622544154524803,\n",
       " ('remove_html_markup', 239): 0.01897368609206751,\n",
       " ('remove_html_markup', 240): 0.018594276625663042,\n",
       " ('remove_html_markup', 241): 0.017784752941224724,\n",
       " ('remove_html_markup', 243): 0.16969479905674234,\n",
       " ('remove_html_markup', 244): 0.15451103885425255,\n",
       " ('remove_html_markup', 246): 0.15268402104265988,\n",
       " ('remove_html_markup', 247): 0.03143431863281876,\n",
       " ('remove_html_markup', 248): 0.12242539011640474,\n",
       " ('remove_html_markup', 250): 0.09244469943223521,\n",
       " ('remove_html_markup', 252): 0.09488270827569067,\n",
       " ('remove_html_markup', 249): 0.03160766267683357,\n",
       " ('remove_html_markup', 253): 0.046134753501974046,\n",
       " ('remove_html_markup', 255): 0.03095178317744285}"
      ]
     },
     "execution_count": 1,
     "metadata": {},
     "output_type": "execute_result"
    }
   ],
   "source": [
    "perf_tracer.time"
   ]
  },
  {
   "cell_type": "markdown",
   "metadata": {
    "slideshow": {
     "slide_type": "subslide"
    }
   },
   "source": [
    "For a full profiler, these numbers would now be sorted and printed in a table, much like `cProfile` does. However, we will borrow some material from previous chapters and annotate our code accordingly."
   ]
  },
  {
   "cell_type": "markdown",
   "metadata": {
    "slideshow": {
     "slide_type": "slide"
    }
   },
   "source": [
    "## Visualizing Performance Metrics\n",
    "\n",
    "In the [chapter on statistical debugging](StatisticalDebugger.ipynb), we have encountered the `CoverageCollector` class, which collects line and function coverage during execution, using a `collect()` method that is invoked for every line. We will repurpose this class to collect arbitrary _metrics_ on the lines executed, notably time taken."
   ]
  },
  {
   "cell_type": "markdown",
   "metadata": {
    "slideshow": {
     "slide_type": "subslide"
    }
   },
   "source": [
    "### Collecting Time Spent"
   ]
  },
  {
   "cell_type": "code",
   "execution_count": 26,
   "metadata": {
    "execution": {
     "iopub.execute_input": "2021-05-12T11:20:11.574294Z",
     "iopub.status.busy": "2021-05-12T11:20:11.573777Z",
     "iopub.status.idle": "2021-05-12T11:20:11.575337Z",
     "shell.execute_reply": "2021-05-12T11:20:11.575706Z"
    },
    "slideshow": {
     "slide_type": "skip"
    }
   },
   "outputs": [],
   "source": [
    "from StatisticalDebugger import CoverageCollector, SpectrumDebugger"
   ]
  },
  {
   "cell_type": "markdown",
   "metadata": {
    "slideshow": {
     "slide_type": "fragment"
    }
   },
   "source": [
    "The `MetricCollector` class is an abstract superclass that provides an interface to access a particular metric."
   ]
  },
  {
   "cell_type": "code",
   "execution_count": 27,
   "metadata": {
    "execution": {
     "iopub.execute_input": "2021-05-12T11:20:11.579794Z",
     "iopub.status.busy": "2021-05-12T11:20:11.579264Z",
     "iopub.status.idle": "2021-05-12T11:20:11.580952Z",
     "shell.execute_reply": "2021-05-12T11:20:11.581330Z"
    },
    "slideshow": {
     "slide_type": "fragment"
    }
   },
   "outputs": [],
   "source": [
    "class MetricCollector(CoverageCollector):\n",
    "    \"\"\"Abstract superclass for collecting line-specific metrics\"\"\"\n",
    "\n",
    "    def metric(self, event: Any) -> Optional[float]:\n",
    "        \"\"\"Return a metric for an event, or none.\"\"\"\n",
    "        return None\n",
    "\n",
    "    def all_metrics(self, func: str) -> List[float]:\n",
    "        \"\"\"Return all metric for a function `func`.\"\"\"\n",
    "        return []"
   ]
  },
  {
   "cell_type": "markdown",
   "metadata": {
    "slideshow": {
     "slide_type": "fragment"
    }
   },
   "source": [
    "Given these metrics, we can also compute sums and maxima for a single function."
   ]
  },
  {
   "cell_type": "code",
   "execution_count": 28,
   "metadata": {
    "execution": {
     "iopub.execute_input": "2021-05-12T11:20:11.585263Z",
     "iopub.status.busy": "2021-05-12T11:20:11.584716Z",
     "iopub.status.idle": "2021-05-12T11:20:11.586350Z",
     "shell.execute_reply": "2021-05-12T11:20:11.586786Z"
    },
    "slideshow": {
     "slide_type": "subslide"
    }
   },
   "outputs": [],
   "source": [
    "class MetricCollector(MetricCollector):\n",
    "    def total(self, func: str) -> float:\n",
    "        return sum(self.all_metrics(func))\n",
    "\n",
    "    def maximum(self, func: str) -> float:\n",
    "        return max(self.all_metrics(func))"
   ]
  },
  {
   "cell_type": "markdown",
   "metadata": {
    "slideshow": {
     "slide_type": "fragment"
    }
   },
   "source": [
    "Let us instantiate this superclass into `TimeCollector` – a subclass that measures time. This is modeled after our `PerformanceTracer` class, above; notably, the `time` attribute serves the same role."
   ]
  },
  {
   "cell_type": "code",
   "execution_count": 29,
   "metadata": {
    "execution": {
     "iopub.execute_input": "2021-05-12T11:20:11.592988Z",
     "iopub.status.busy": "2021-05-12T11:20:11.592415Z",
     "iopub.status.idle": "2021-05-12T11:20:11.594247Z",
     "shell.execute_reply": "2021-05-12T11:20:11.594692Z"
    },
    "slideshow": {
     "slide_type": "subslide"
    }
   },
   "outputs": [],
   "source": [
    "class TimeCollector(MetricCollector):\n",
    "    \"\"\"Collect time executed for each line\"\"\"\n",
    "\n",
    "    def __init__(self) -> None:\n",
    "        \"\"\"Constructor\"\"\"\n",
    "        super().__init__()\n",
    "        self.reset_timer()\n",
    "        self.time: Dict[Location, float] = {}\n",
    "        self.add_items_to_ignore([Timer.Timer, Timer.clock])\n",
    "\n",
    "    def collect(self, frame: FrameType, event: str, arg: Any) -> None:\n",
    "        \"\"\"Invoked for every line executed. Accumulate time spent.\"\"\"\n",
    "        t = self.timer.elapsed_time()\n",
    "        super().collect(frame, event, arg)\n",
    "        location = (frame.f_code.co_name, frame.f_lineno)\n",
    "\n",
    "        self.time.setdefault(location, 0.0)\n",
    "        self.time[location] += t\n",
    "\n",
    "        self.reset_timer()\n",
    "\n",
    "    def reset_timer(self) -> None:\n",
    "        self.timer = Timer.Timer()\n",
    "\n",
    "    def __enter__(self) -> Any:\n",
    "        super().__enter__()\n",
    "        self.reset_timer()\n",
    "        return self"
   ]
  },
  {
   "cell_type": "markdown",
   "metadata": {
    "slideshow": {
     "slide_type": "subslide"
    }
   },
   "source": [
    "The `metric()` and `all_metrics()` methods accumulate the metric (time taken) for an individual function:"
   ]
  },
  {
   "cell_type": "code",
   "execution_count": 30,
   "metadata": {
    "execution": {
     "iopub.execute_input": "2021-05-12T11:20:11.599218Z",
     "iopub.status.busy": "2021-05-12T11:20:11.598698Z",
     "iopub.status.idle": "2021-05-12T11:20:11.600297Z",
     "shell.execute_reply": "2021-05-12T11:20:11.600705Z"
    },
    "slideshow": {
     "slide_type": "fragment"
    }
   },
   "outputs": [],
   "source": [
    "class TimeCollector(TimeCollector):\n",
    "    def metric(self, location: Any) -> Optional[float]:\n",
    "        if location in self.time:\n",
    "            return self.time[location]\n",
    "        else:\n",
    "            return None\n",
    "\n",
    "    def all_metrics(self, func: str) -> List[float]:\n",
    "        return [time\n",
    "                for (func_name, lineno), time in self.time.items()\n",
    "                if func_name == func]"
   ]
  },
  {
   "cell_type": "markdown",
   "metadata": {
    "slideshow": {
     "slide_type": "fragment"
    }
   },
   "source": [
    "Here's how to use `TimeCollector()` – again, in a `with` block:"
   ]
  },
  {
   "cell_type": "code",
   "execution_count": 31,
   "metadata": {
    "execution": {
     "iopub.execute_input": "2021-05-12T11:20:11.638683Z",
     "iopub.status.busy": "2021-05-12T11:20:11.637990Z",
     "iopub.status.idle": "2021-05-12T11:20:11.640195Z",
     "shell.execute_reply": "2021-05-12T11:20:11.639747Z"
    },
    "slideshow": {
     "slide_type": "subslide"
    }
   },
   "outputs": [],
   "source": [
    "with TimeCollector() as collector:\n",
    "    for i in range(100):\n",
    "        s = remove_html_markup('<b>foo</b>')"
   ]
  },
  {
   "cell_type": "markdown",
   "metadata": {
    "slideshow": {
     "slide_type": "fragment"
    }
   },
   "source": [
    "The `time` attribute holds the time spent in each line:"
   ]
  },
  {
   "cell_type": "code",
   "execution_count": 32,
   "metadata": {
    "execution": {
     "iopub.execute_input": "2021-05-12T11:20:11.643788Z",
     "iopub.status.busy": "2021-05-12T11:20:11.643204Z",
     "iopub.status.idle": "2021-05-12T11:20:11.645213Z",
     "shell.execute_reply": "2021-05-12T11:20:11.645600Z"
    },
    "slideshow": {
     "slide_type": "subslide"
    }
   },
   "outputs": [
    {
     "name": "stdout",
     "output_type": "stream",
     "text": [
      "('remove_html_markup', 238) 0.0004528973367996514\n",
      "('remove_html_markup', 239) 0.0003596637980081141\n",
      "('remove_html_markup', 240) 0.00034792820224538445\n",
      "('remove_html_markup', 241) 0.0003328269231133163\n",
      "('remove_html_markup', 243) 0.0033065922325477004\n",
      "('remove_html_markup', 244) 0.0029156729578971863\n",
      "('remove_html_markup', 246) 0.0030195002327673137\n",
      "('remove_html_markup', 247) 0.0005884370766580105\n",
      "('remove_html_markup', 248) 0.002304078545421362\n",
      "('remove_html_markup', 250) 0.0017487118020653725\n",
      "('remove_html_markup', 252) 0.0018038801499642432\n",
      "('remove_html_markup', 249) 0.0006499901646748185\n",
      "('remove_html_markup', 253) 0.0008588775526732206\n",
      "('remove_html_markup', 255) 0.0006055250996723771\n"
     ]
    }
   ],
   "source": [
    "for location, time_spent in collector.time.items():\n",
    "    print(location, time_spent)"
   ]
  },
  {
   "cell_type": "markdown",
   "metadata": {
    "slideshow": {
     "slide_type": "subslide"
    }
   },
   "source": [
    "And we can also create a total for an entire function:"
   ]
  },
  {
   "cell_type": "code",
   "execution_count": 33,
   "metadata": {
    "execution": {
     "iopub.execute_input": "2021-05-12T11:20:11.649138Z",
     "iopub.status.busy": "2021-05-12T11:20:11.648579Z",
     "iopub.status.idle": "2021-05-12T11:20:11.650877Z",
     "shell.execute_reply": "2021-05-12T11:20:11.651306Z"
    },
    "slideshow": {
     "slide_type": "fragment"
    }
   },
   "outputs": [
    {
     "data": {
      "text/plain": [
       "0.01929458207450807"
      ]
     },
     "execution_count": 1,
     "metadata": {},
     "output_type": "execute_result"
    }
   ],
   "source": [
    "collector.total('remove_html_markup')"
   ]
  },
  {
   "cell_type": "markdown",
   "metadata": {
    "slideshow": {
     "slide_type": "subslide"
    }
   },
   "source": [
    "### Visualizing Time Spent\n",
    "\n",
    "Let us now go and visualize these numbers. The idea is to assign each line a color whose saturation indicates the time spent in that line relative to the time spent in the function overall  – the higher the fraction, the darker the line. We create a `MetricDebugger` class built as a specialization of `SpectrumDebugger`, in which `suspiciousness()` and `color()` are repurposed to show these metrics."
   ]
  },
  {
   "cell_type": "code",
   "execution_count": 34,
   "metadata": {
    "execution": {
     "iopub.execute_input": "2021-05-12T11:20:11.659987Z",
     "iopub.status.busy": "2021-05-12T11:20:11.659381Z",
     "iopub.status.idle": "2021-05-12T11:20:11.661106Z",
     "shell.execute_reply": "2021-05-12T11:20:11.661486Z"
    },
    "slideshow": {
     "slide_type": "subslide"
    }
   },
   "outputs": [],
   "source": [
    "class MetricDebugger(SpectrumDebugger):\n",
    "    \"\"\"Visualize a metric\"\"\"\n",
    "\n",
    "    def metric(self, location: Location) -> float:\n",
    "        sum = 0.0\n",
    "        for outcome in self.collectors:\n",
    "            for collector in self.collectors[outcome]:\n",
    "                assert isinstance(collector, MetricCollector)\n",
    "                m = collector.metric(location)\n",
    "                if m is not None:\n",
    "                    sum += m  # type: ignore\n",
    "\n",
    "        return sum\n",
    "\n",
    "    def total(self, func_name: str) -> float:\n",
    "        total = 0.0\n",
    "        for outcome in self.collectors:\n",
    "            for collector in self.collectors[outcome]:\n",
    "                assert isinstance(collector, MetricCollector)\n",
    "                total += sum(collector.all_metrics(func_name))\n",
    "\n",
    "        return total\n",
    "\n",
    "    def maximum(self, func_name: str) -> float:\n",
    "        maximum = 0.0\n",
    "        for outcome in self.collectors:\n",
    "            for collector in self.collectors[outcome]:\n",
    "                assert isinstance(collector, MetricCollector)\n",
    "                maximum = max(maximum, \n",
    "                              max(collector.all_metrics(func_name)))\n",
    "\n",
    "        return maximum\n",
    "\n",
    "    def suspiciousness(self, location: Location) -> float:\n",
    "        func_name, _ = location\n",
    "        return self.metric(location) / self.total(func_name)\n",
    "\n",
    "    def color(self, location: Location) -> str:\n",
    "        func_name, _ = location\n",
    "        hue = 240  # blue\n",
    "        saturation = 100  # fully saturated\n",
    "        darkness = self.metric(location) / self.maximum(func_name)\n",
    "        lightness = 100 - darkness * 25\n",
    "        return f\"hsl({hue}, {saturation}%, {lightness}%)\"\n",
    "\n",
    "    def tooltip(self, location: Location) -> str:\n",
    "        return f\"{super().tooltip(location)} {self.metric(location)}\""
   ]
  },
  {
   "cell_type": "markdown",
   "metadata": {
    "slideshow": {
     "slide_type": "subslide"
    }
   },
   "source": [
    "We can now introduce `PerformanceDebugger` as a subclass of `MetricDebugger`, using an arbitrary `MetricCollector` (such as `TimeCollector`) to obtain the metric we want to visualize."
   ]
  },
  {
   "cell_type": "code",
   "execution_count": 35,
   "metadata": {
    "execution": {
     "iopub.execute_input": "2021-05-12T11:20:11.665311Z",
     "iopub.status.busy": "2021-05-12T11:20:11.664738Z",
     "iopub.status.idle": "2021-05-12T11:20:11.666361Z",
     "shell.execute_reply": "2021-05-12T11:20:11.666792Z"
    },
    "slideshow": {
     "slide_type": "fragment"
    }
   },
   "outputs": [],
   "source": [
    "class PerformanceDebugger(MetricDebugger):\n",
    "    \"\"\"Collect and visualize a metric\"\"\"\n",
    "\n",
    "    def __init__(self, collector_class: Type, log: bool = False):\n",
    "        assert issubclass(collector_class, MetricCollector)\n",
    "        super().__init__(collector_class, log=log)"
   ]
  },
  {
   "cell_type": "markdown",
   "metadata": {
    "slideshow": {
     "slide_type": "fragment"
    }
   },
   "source": [
    "With `PerformanceDebugger`, we inherit all the capabilities of `SpectrumDebugger`, such as showing the (relative) percentage of time spent in a table. We see that the `for` condition and the following `assert` take most of the time, followed by the first condition."
   ]
  },
  {
   "cell_type": "code",
   "execution_count": 36,
   "metadata": {
    "execution": {
     "iopub.execute_input": "2021-05-12T11:20:11.706434Z",
     "iopub.status.busy": "2021-05-12T11:20:11.705831Z",
     "iopub.status.idle": "2021-05-12T11:20:11.707961Z",
     "shell.execute_reply": "2021-05-12T11:20:11.707565Z"
    },
    "slideshow": {
     "slide_type": "subslide"
    }
   },
   "outputs": [],
   "source": [
    "with PerformanceDebugger(TimeCollector) as debugger:\n",
    "    for i in range(100):\n",
    "        s = remove_html_markup('<b>foo</b>')"
   ]
  },
  {
   "cell_type": "code",
   "execution_count": 37,
   "metadata": {
    "execution": {
     "iopub.execute_input": "2021-05-12T11:20:11.713121Z",
     "iopub.status.busy": "2021-05-12T11:20:11.712520Z",
     "iopub.status.idle": "2021-05-12T11:20:11.714923Z",
     "shell.execute_reply": "2021-05-12T11:20:11.714518Z"
    },
    "slideshow": {
     "slide_type": "subslide"
    }
   },
   "outputs": [
    {
     "name": "stdout",
     "output_type": "stream",
     "text": [
      " 238   2% def remove_html_markup(s):  # type: ignore\n",
      " 239   1%     tag = False\n",
      " 240   1%     quote = False\n",
      " 241   1%     out = \"\"\n",
      " 242   0%\n",
      " 243  16%     for c in s:\n",
      " 244  15%         assert tag or not quote\n",
      " 245   0%\n",
      " 246  15%         if c == '<' and not quote:\n",
      " 247   3%             tag = True\n",
      " 248  12%         elif c == '>' and not quote:\n",
      " 249   2%             tag = False\n",
      " 250   8%         elif (c == '\"' or c == \"'\") and tag:\n",
      " 251   0%             quote = not quote\n",
      " 252   9%         elif not tag:\n",
      " 253   4%             out = out + c\n",
      " 254   0%\n",
      " 255   3%     return out\n",
      "\n"
     ]
    }
   ],
   "source": [
    "print(debugger)"
   ]
  },
  {
   "cell_type": "markdown",
   "metadata": {
    "slideshow": {
     "slide_type": "subslide"
    }
   },
   "source": [
    "However, we can also visualize these percentages, using shades of blue to indicate those lines most time spent in:"
   ]
  },
  {
   "cell_type": "code",
   "execution_count": 38,
   "metadata": {
    "execution": {
     "iopub.execute_input": "2021-05-12T11:20:11.720082Z",
     "iopub.status.busy": "2021-05-12T11:20:11.719543Z",
     "iopub.status.idle": "2021-05-12T11:20:11.721821Z",
     "shell.execute_reply": "2021-05-12T11:20:11.722194Z"
    },
    "slideshow": {
     "slide_type": "subslide"
    }
   },
   "outputs": [
    {
     "data": {
      "text/html": [
       "<pre style=\"background-color:hsl(240, 100%, 95.7805732783244%)\"\n",
       "                    title=\"Line 238:   2% 0.0006028003990650177\"> 238 def remove_html_markup(s):  # type: ignore</pre>\n",
       "<pre style=\"background-color:hsl(240, 100%, 97.16629946305068%)\"\n",
       "                    title=\"Line 239:   1% 0.0004048312548547983\"> 239     tag = False</pre>\n",
       "<pre style=\"background-color:hsl(240, 100%, 97.31614487507635%)\"\n",
       "                    title=\"Line 240:   1% 0.00038342387415468693\"> 240     quote = False</pre>\n",
       "<pre style=\"background-color:hsl(240, 100%, 97.20387815780497%)\"\n",
       "                    title=\"Line 241:   1% 0.0003994626458734274\"> 241     out = &quot;&quot;</pre>\n",
       "<pre style=\"background-color:hsl(240, 100%, 100.0%)\"\n",
       "                    title=\"Line 242:   0% 0.0\"> 242 &nbsp;</pre>\n",
       "<pre style=\"background-color:hsl(240, 100%, 75.0%)\"\n",
       "                    title=\"Line 243:  16% 0.0035715776029974222\"> 243     for c in s:</pre>\n",
       "<pre style=\"background-color:hsl(240, 100%, 77.58858177438846%)\"\n",
       "                    title=\"Line 244:  15% 0.003201764775440097\"> 244         assert tag or not quote</pre>\n",
       "<pre style=\"background-color:hsl(240, 100%, 100.0%)\"\n",
       "                    title=\"Line 245:   0% 0.0\"> 245 &nbsp;</pre>\n",
       "<pre style=\"background-color:hsl(240, 100%, 77.75518383247145%)\"\n",
       "                    title=\"Line 246:  15% 0.0031779634882695973\"> 246         if c == &#x27;&lt;&#x27; and not quote:</pre>\n",
       "<pre style=\"background-color:hsl(240, 100%, 95.14030984675233%)\"\n",
       "                    title=\"Line 247:   3% 0.0006942704203538597\"> 247             tag = True</pre>\n",
       "<pre style=\"background-color:hsl(240, 100%, 82.2941496533627%)\"\n",
       "                    title=\"Line 248:  12% 0.0025295127416029572\"> 248         elif c == &#x27;&gt;&#x27; and not quote:</pre>\n",
       "<pre style=\"background-color:hsl(240, 100%, 95.59565449934873%)\"\n",
       "                    title=\"Line 249:   2% 0.0006292184698395431\"> 249             tag = False</pre>\n",
       "<pre style=\"background-color:hsl(240, 100%, 86.79737228149321%)\"\n",
       "                    title=\"Line 250:   8% 0.001886168378405273\"> 250         elif (c == &#x27;&quot;&#x27; or c == &quot;&#x27;&quot;) and tag:</pre>\n",
       "<pre style=\"background-color:hsl(240, 100%, 100.0%)\"\n",
       "                    title=\"Line 251:   0% 0.0\"> 251             quote = not quote</pre>\n",
       "<pre style=\"background-color:hsl(240, 100%, 86.31387946225406%)\"\n",
       "                    title=\"Line 252:   9% 0.0019552416633814573\"> 252         elif not tag:</pre>\n",
       "<pre style=\"background-color:hsl(240, 100%, 93.3453820220317%)\"\n",
       "                    title=\"Line 253:   4% 0.0009506993810646236\"> 253             out = out + c</pre>\n",
       "<pre style=\"background-color:hsl(240, 100%, 100.0%)\"\n",
       "                    title=\"Line 254:   0% 0.0\"> 254 &nbsp;</pre>\n",
       "<pre style=\"background-color:hsl(240, 100%, 95.51831202722276%)\"\n",
       "                    title=\"Line 255:   3% 0.0006402678554877639\"> 255     return out</pre>\n"
      ],
      "text/markdown": [
       "| `remove_html_markup` | `s='<b>foo</b>'` | \n",
       "| ---------------------- | ---- | \n",
       "| <samp style=\"background-color: hsl(240, 100%, 95.7805732783244%)\" title=\"  2% 0.0006028003990650177\">remove_html_markup:238</samp> |    X | \n",
       "| <samp style=\"background-color: hsl(240, 100%, 97.16629946305068%)\" title=\"  1% 0.0004048312548547983\">remove_html_markup:239</samp> |    X | \n",
       "| <samp style=\"background-color: hsl(240, 100%, 97.31614487507635%)\" title=\"  1% 0.00038342387415468693\">remove_html_markup:240</samp> |    X | \n",
       "| <samp style=\"background-color: hsl(240, 100%, 97.20387815780497%)\" title=\"  1% 0.0003994626458734274\">remove_html_markup:241</samp> |    X | \n",
       "| <samp style=\"background-color: hsl(240, 100%, 75.0%)\" title=\" 16% 0.0035715776029974222\">remove_html_markup:243</samp> |    X | \n",
       "| <samp style=\"background-color: hsl(240, 100%, 77.58858177438846%)\" title=\" 15% 0.003201764775440097\">remove_html_markup:244</samp> |    X | \n",
       "| <samp style=\"background-color: hsl(240, 100%, 77.75518383247145%)\" title=\" 15% 0.0031779634882695973\">remove_html_markup:246</samp> |    X | \n",
       "| <samp style=\"background-color: hsl(240, 100%, 95.14030984675233%)\" title=\"  3% 0.0006942704203538597\">remove_html_markup:247</samp> |    X | \n",
       "| <samp style=\"background-color: hsl(240, 100%, 82.2941496533627%)\" title=\" 12% 0.0025295127416029572\">remove_html_markup:248</samp> |    X | \n",
       "| <samp style=\"background-color: hsl(240, 100%, 95.59565449934873%)\" title=\"  2% 0.0006292184698395431\">remove_html_markup:249</samp> |    X | \n",
       "| <samp style=\"background-color: hsl(240, 100%, 86.79737228149321%)\" title=\"  8% 0.001886168378405273\">remove_html_markup:250</samp> |    X | \n",
       "| <samp style=\"background-color: hsl(240, 100%, 86.31387946225406%)\" title=\"  9% 0.0019552416633814573\">remove_html_markup:252</samp> |    X | \n",
       "| <samp style=\"background-color: hsl(240, 100%, 93.3453820220317%)\" title=\"  4% 0.0009506993810646236\">remove_html_markup:253</samp> |    X | \n",
       "| <samp style=\"background-color: hsl(240, 100%, 95.51831202722276%)\" title=\"  3% 0.0006402678554877639\">remove_html_markup:255</samp> |    X | \n"
      ],
      "text/plain": [
       " 238   2% def remove_html_markup(s):  # type: ignore\n",
       " 239   1%     tag = False\n",
       " 240   1%     quote = False\n",
       " 241   1%     out = \"\"\n",
       " 242   0%\n",
       " 243  16%     for c in s:\n",
       " 244  15%         assert tag or not quote\n",
       " 245   0%\n",
       " 246  15%         if c == '<' and not quote:\n",
       " 247   3%             tag = True\n",
       " 248  12%         elif c == '>' and not quote:\n",
       " 249   2%             tag = False\n",
       " 250   8%         elif (c == '\"' or c == \"'\") and tag:\n",
       " 251   0%             quote = not quote\n",
       " 252   9%         elif not tag:\n",
       " 253   4%             out = out + c\n",
       " 254   0%\n",
       " 255   3%     return out"
      ]
     },
     "execution_count": 1,
     "metadata": {},
     "output_type": "execute_result"
    }
   ],
   "source": [
    "debugger"
   ]
  },
  {
   "cell_type": "markdown",
   "metadata": {
    "slideshow": {
     "slide_type": "subslide"
    }
   },
   "source": [
    "### Other Metrics\n",
    "\n",
    "Our framework is flexible enough to collect (and visualize) arbitrary metrics. This `HitCollector` class, for instance, collects how often a line is being executed."
   ]
  },
  {
   "cell_type": "code",
   "execution_count": 39,
   "metadata": {
    "execution": {
     "iopub.execute_input": "2021-05-12T11:20:11.728252Z",
     "iopub.status.busy": "2021-05-12T11:20:11.727724Z",
     "iopub.status.idle": "2021-05-12T11:20:11.729360Z",
     "shell.execute_reply": "2021-05-12T11:20:11.729785Z"
    },
    "slideshow": {
     "slide_type": "subslide"
    }
   },
   "outputs": [],
   "source": [
    "class HitCollector(MetricCollector):\n",
    "    \"\"\"Collect how often a line is executed\"\"\"\n",
    "\n",
    "    def __init__(self) -> None:\n",
    "        super().__init__()\n",
    "        self.hits: Dict[Location, int] = {}\n",
    "\n",
    "    def collect(self, frame: FrameType, event: str, arg: Any) -> None:\n",
    "        super().collect(frame, event, arg)\n",
    "        location = (frame.f_code.co_name, frame.f_lineno)\n",
    "\n",
    "        self.hits.setdefault(location, 0)\n",
    "        self.hits[location] += 1\n",
    "\n",
    "    def metric(self, location: Location) -> Optional[int]:\n",
    "        if location in self.hits:\n",
    "            return self.hits[location]\n",
    "        else:\n",
    "            return None\n",
    "\n",
    "    def all_metrics(self, func: str) -> List[float]:\n",
    "        return [hits\n",
    "                for (func_name, lineno), hits in self.hits.items()\n",
    "                if func_name == func]"
   ]
  },
  {
   "cell_type": "markdown",
   "metadata": {
    "slideshow": {
     "slide_type": "subslide"
    }
   },
   "source": [
    "We can plug in this class into `PerformanceDebugger` to obtain a distribution of lines executed:"
   ]
  },
  {
   "cell_type": "code",
   "execution_count": 40,
   "metadata": {
    "execution": {
     "iopub.execute_input": "2021-05-12T11:20:11.757154Z",
     "iopub.status.busy": "2021-05-12T11:20:11.756351Z",
     "iopub.status.idle": "2021-05-12T11:20:11.758370Z",
     "shell.execute_reply": "2021-05-12T11:20:11.758792Z"
    },
    "slideshow": {
     "slide_type": "fragment"
    }
   },
   "outputs": [],
   "source": [
    "with PerformanceDebugger(HitCollector) as debugger:\n",
    "    for i in range(100):\n",
    "        s = remove_html_markup('<b>foo</b>')"
   ]
  },
  {
   "cell_type": "markdown",
   "metadata": {
    "slideshow": {
     "slide_type": "fragment"
    }
   },
   "source": [
    "In total, during this call to `remove_html_markup()`, there are 6,400 lines executed:"
   ]
  },
  {
   "cell_type": "code",
   "execution_count": 41,
   "metadata": {
    "execution": {
     "iopub.execute_input": "2021-05-12T11:20:11.763317Z",
     "iopub.status.busy": "2021-05-12T11:20:11.762713Z",
     "iopub.status.idle": "2021-05-12T11:20:11.764764Z",
     "shell.execute_reply": "2021-05-12T11:20:11.765184Z"
    },
    "slideshow": {
     "slide_type": "fragment"
    }
   },
   "outputs": [
    {
     "data": {
      "text/plain": [
       "6400.0"
      ]
     },
     "execution_count": 1,
     "metadata": {},
     "output_type": "execute_result"
    }
   ],
   "source": [
    "debugger.total('remove_html_markup')"
   ]
  },
  {
   "cell_type": "markdown",
   "metadata": {
    "slideshow": {
     "slide_type": "fragment"
    }
   },
   "source": [
    "Again, we can visualize the distribution as a table and using colors. We can see how the shade gets lighter in the lower part of the loop as individual conditions have been met."
   ]
  },
  {
   "cell_type": "code",
   "execution_count": 42,
   "metadata": {
    "execution": {
     "iopub.execute_input": "2021-05-12T11:20:11.769569Z",
     "iopub.status.busy": "2021-05-12T11:20:11.769015Z",
     "iopub.status.idle": "2021-05-12T11:20:11.771162Z",
     "shell.execute_reply": "2021-05-12T11:20:11.771590Z"
    },
    "slideshow": {
     "slide_type": "subslide"
    }
   },
   "outputs": [
    {
     "name": "stdout",
     "output_type": "stream",
     "text": [
      " 238   1% def remove_html_markup(s):  # type: ignore\n",
      " 239   1%     tag = False\n",
      " 240   1%     quote = False\n",
      " 241   1%     out = \"\"\n",
      " 242   0%\n",
      " 243  17%     for c in s:\n",
      " 244  15%         assert tag or not quote\n",
      " 245   0%\n",
      " 246  15%         if c == '<' and not quote:\n",
      " 247   3%             tag = True\n",
      " 248  12%         elif c == '>' and not quote:\n",
      " 249   3%             tag = False\n",
      " 250   9%         elif (c == '\"' or c == \"'\") and tag:\n",
      " 251   0%             quote = not quote\n",
      " 252   9%         elif not tag:\n",
      " 253   4%             out = out + c\n",
      " 254   0%\n",
      " 255   3%     return out\n",
      "\n"
     ]
    }
   ],
   "source": [
    "print(debugger)"
   ]
  },
  {
   "cell_type": "code",
   "execution_count": 43,
   "metadata": {
    "execution": {
     "iopub.execute_input": "2021-05-12T11:20:11.776723Z",
     "iopub.status.busy": "2021-05-12T11:20:11.776126Z",
     "iopub.status.idle": "2021-05-12T11:20:11.778491Z",
     "shell.execute_reply": "2021-05-12T11:20:11.778894Z"
    },
    "slideshow": {
     "slide_type": "subslide"
    }
   },
   "outputs": [
    {
     "data": {
      "text/html": [
       "<pre style=\"background-color:hsl(240, 100%, 97.72727272727273%)\"\n",
       "                    title=\"Line 238:   1% 100.0\"> 238 def remove_html_markup(s):  # type: ignore</pre>\n",
       "<pre style=\"background-color:hsl(240, 100%, 97.72727272727273%)\"\n",
       "                    title=\"Line 239:   1% 100.0\"> 239     tag = False</pre>\n",
       "<pre style=\"background-color:hsl(240, 100%, 97.72727272727273%)\"\n",
       "                    title=\"Line 240:   1% 100.0\"> 240     quote = False</pre>\n",
       "<pre style=\"background-color:hsl(240, 100%, 97.72727272727273%)\"\n",
       "                    title=\"Line 241:   1% 100.0\"> 241     out = &quot;&quot;</pre>\n",
       "<pre style=\"background-color:hsl(240, 100%, 100.0%)\"\n",
       "                    title=\"Line 242:   0% 0.0\"> 242 &nbsp;</pre>\n",
       "<pre style=\"background-color:hsl(240, 100%, 75.0%)\"\n",
       "                    title=\"Line 243:  17% 1100.0\"> 243     for c in s:</pre>\n",
       "<pre style=\"background-color:hsl(240, 100%, 77.27272727272728%)\"\n",
       "                    title=\"Line 244:  15% 1000.0\"> 244         assert tag or not quote</pre>\n",
       "<pre style=\"background-color:hsl(240, 100%, 100.0%)\"\n",
       "                    title=\"Line 245:   0% 0.0\"> 245 &nbsp;</pre>\n",
       "<pre style=\"background-color:hsl(240, 100%, 77.27272727272728%)\"\n",
       "                    title=\"Line 246:  15% 1000.0\"> 246         if c == &#x27;&lt;&#x27; and not quote:</pre>\n",
       "<pre style=\"background-color:hsl(240, 100%, 95.45454545454545%)\"\n",
       "                    title=\"Line 247:   3% 200.0\"> 247             tag = True</pre>\n",
       "<pre style=\"background-color:hsl(240, 100%, 81.81818181818181%)\"\n",
       "                    title=\"Line 248:  12% 800.0\"> 248         elif c == &#x27;&gt;&#x27; and not quote:</pre>\n",
       "<pre style=\"background-color:hsl(240, 100%, 95.45454545454545%)\"\n",
       "                    title=\"Line 249:   3% 200.0\"> 249             tag = False</pre>\n",
       "<pre style=\"background-color:hsl(240, 100%, 86.36363636363636%)\"\n",
       "                    title=\"Line 250:   9% 600.0\"> 250         elif (c == &#x27;&quot;&#x27; or c == &quot;&#x27;&quot;) and tag:</pre>\n",
       "<pre style=\"background-color:hsl(240, 100%, 100.0%)\"\n",
       "                    title=\"Line 251:   0% 0.0\"> 251             quote = not quote</pre>\n",
       "<pre style=\"background-color:hsl(240, 100%, 86.36363636363636%)\"\n",
       "                    title=\"Line 252:   9% 600.0\"> 252         elif not tag:</pre>\n",
       "<pre style=\"background-color:hsl(240, 100%, 93.18181818181819%)\"\n",
       "                    title=\"Line 253:   4% 300.0\"> 253             out = out + c</pre>\n",
       "<pre style=\"background-color:hsl(240, 100%, 100.0%)\"\n",
       "                    title=\"Line 254:   0% 0.0\"> 254 &nbsp;</pre>\n",
       "<pre style=\"background-color:hsl(240, 100%, 95.45454545454545%)\"\n",
       "                    title=\"Line 255:   3% 200.0\"> 255     return out</pre>\n"
      ],
      "text/markdown": [
       "| `remove_html_markup` | `s='<b>foo</b>'` | \n",
       "| ---------------------- | ---- | \n",
       "| <samp style=\"background-color: hsl(240, 100%, 97.72727272727273%)\" title=\"  1% 100.0\">remove_html_markup:238</samp> |    X | \n",
       "| <samp style=\"background-color: hsl(240, 100%, 97.72727272727273%)\" title=\"  1% 100.0\">remove_html_markup:239</samp> |    X | \n",
       "| <samp style=\"background-color: hsl(240, 100%, 97.72727272727273%)\" title=\"  1% 100.0\">remove_html_markup:240</samp> |    X | \n",
       "| <samp style=\"background-color: hsl(240, 100%, 97.72727272727273%)\" title=\"  1% 100.0\">remove_html_markup:241</samp> |    X | \n",
       "| <samp style=\"background-color: hsl(240, 100%, 75.0%)\" title=\" 17% 1100.0\">remove_html_markup:243</samp> |    X | \n",
       "| <samp style=\"background-color: hsl(240, 100%, 77.27272727272728%)\" title=\" 15% 1000.0\">remove_html_markup:244</samp> |    X | \n",
       "| <samp style=\"background-color: hsl(240, 100%, 77.27272727272728%)\" title=\" 15% 1000.0\">remove_html_markup:246</samp> |    X | \n",
       "| <samp style=\"background-color: hsl(240, 100%, 95.45454545454545%)\" title=\"  3% 200.0\">remove_html_markup:247</samp> |    X | \n",
       "| <samp style=\"background-color: hsl(240, 100%, 81.81818181818181%)\" title=\" 12% 800.0\">remove_html_markup:248</samp> |    X | \n",
       "| <samp style=\"background-color: hsl(240, 100%, 95.45454545454545%)\" title=\"  3% 200.0\">remove_html_markup:249</samp> |    X | \n",
       "| <samp style=\"background-color: hsl(240, 100%, 86.36363636363636%)\" title=\"  9% 600.0\">remove_html_markup:250</samp> |    X | \n",
       "| <samp style=\"background-color: hsl(240, 100%, 86.36363636363636%)\" title=\"  9% 600.0\">remove_html_markup:252</samp> |    X | \n",
       "| <samp style=\"background-color: hsl(240, 100%, 93.18181818181819%)\" title=\"  4% 300.0\">remove_html_markup:253</samp> |    X | \n",
       "| <samp style=\"background-color: hsl(240, 100%, 95.45454545454545%)\" title=\"  3% 200.0\">remove_html_markup:255</samp> |    X | \n"
      ],
      "text/plain": [
       " 238   1% def remove_html_markup(s):  # type: ignore\n",
       " 239   1%     tag = False\n",
       " 240   1%     quote = False\n",
       " 241   1%     out = \"\"\n",
       " 242   0%\n",
       " 243  17%     for c in s:\n",
       " 244  15%         assert tag or not quote\n",
       " 245   0%\n",
       " 246  15%         if c == '<' and not quote:\n",
       " 247   3%             tag = True\n",
       " 248  12%         elif c == '>' and not quote:\n",
       " 249   3%             tag = False\n",
       " 250   9%         elif (c == '\"' or c == \"'\") and tag:\n",
       " 251   0%             quote = not quote\n",
       " 252   9%         elif not tag:\n",
       " 253   4%             out = out + c\n",
       " 254   0%\n",
       " 255   3%     return out"
      ]
     },
     "execution_count": 1,
     "metadata": {},
     "output_type": "execute_result"
    }
   ],
   "source": [
    "debugger"
   ]
  },
  {
   "cell_type": "markdown",
   "metadata": {
    "slideshow": {
     "slide_type": "slide"
    }
   },
   "source": [
    "## Integrating with Delta Debugging\n",
    "\n",
    "Besides identifying causes for performance issues in the code, one may also search for causes in the _input_, using [Delta Debugging](DeltaDebugger.ipynb). This can be useful if one does not immediately want to embark into investigating the code, but maybe first determine external influences that are related to performance issues."
   ]
  },
  {
   "cell_type": "markdown",
   "metadata": {
    "slideshow": {
     "slide_type": "fragment"
    }
   },
   "source": [
    "Here is a variant of `remove_html_markup()` that introduces a (rather obvious) performance issue."
   ]
  },
  {
   "cell_type": "code",
   "execution_count": 44,
   "metadata": {
    "execution": {
     "iopub.execute_input": "2021-05-12T11:20:11.781997Z",
     "iopub.status.busy": "2021-05-12T11:20:11.781493Z",
     "iopub.status.idle": "2021-05-12T11:20:11.783153Z",
     "shell.execute_reply": "2021-05-12T11:20:11.783599Z"
    },
    "slideshow": {
     "slide_type": "skip"
    }
   },
   "outputs": [],
   "source": [
    "import time"
   ]
  },
  {
   "cell_type": "code",
   "execution_count": 45,
   "metadata": {
    "execution": {
     "iopub.execute_input": "2021-05-12T11:20:11.788595Z",
     "iopub.status.busy": "2021-05-12T11:20:11.787963Z",
     "iopub.status.idle": "2021-05-12T11:20:11.790007Z",
     "shell.execute_reply": "2021-05-12T11:20:11.790385Z"
    },
    "slideshow": {
     "slide_type": "subslide"
    }
   },
   "outputs": [],
   "source": [
    "def remove_html_markup_ampersand(s: str) -> str:\n",
    "    tag = False\n",
    "    quote = False\n",
    "    out = \"\"\n",
    "\n",
    "    for c in s:\n",
    "        assert tag or not quote\n",
    "\n",
    "        if c == '&':\n",
    "            time.sleep(0.1)  # <-- the obvious performance issue\n",
    "\n",
    "        if c == '<' and not quote:\n",
    "            tag = True\n",
    "        elif c == '>' and not quote:\n",
    "            tag = False\n",
    "        elif (c == '\"' or c == \"'\") and tag:\n",
    "            quote = not quote\n",
    "        elif not tag:\n",
    "            out = out + c\n",
    "\n",
    "    return out"
   ]
  },
  {
   "cell_type": "markdown",
   "metadata": {
    "slideshow": {
     "slide_type": "subslide"
    }
   },
   "source": [
    "We can easily trigger this issue by measuring time taken:"
   ]
  },
  {
   "cell_type": "code",
   "execution_count": 46,
   "metadata": {
    "execution": {
     "iopub.execute_input": "2021-05-12T11:20:11.793492Z",
     "iopub.status.busy": "2021-05-12T11:20:11.792986Z",
     "iopub.status.idle": "2021-05-12T11:20:12.107533Z",
     "shell.execute_reply": "2021-05-12T11:20:12.108085Z"
    },
    "slideshow": {
     "slide_type": "fragment"
    }
   },
   "outputs": [
    {
     "data": {
      "text/plain": [
       "0.3119012310053222"
      ]
     },
     "execution_count": 1,
     "metadata": {},
     "output_type": "execute_result"
    }
   ],
   "source": [
    "with Timer.Timer() as t:\n",
    "    remove_html_markup_ampersand('&&&')\n",
    "t.elapsed_time()"
   ]
  },
  {
   "cell_type": "markdown",
   "metadata": {
    "slideshow": {
     "slide_type": "fragment"
    }
   },
   "source": [
    "Let us set up a test that checks whether the performance issue is present."
   ]
  },
  {
   "cell_type": "code",
   "execution_count": 47,
   "metadata": {
    "execution": {
     "iopub.execute_input": "2021-05-12T11:20:12.112043Z",
     "iopub.status.busy": "2021-05-12T11:20:12.111320Z",
     "iopub.status.idle": "2021-05-12T11:20:12.112913Z",
     "shell.execute_reply": "2021-05-12T11:20:12.113281Z"
    },
    "slideshow": {
     "slide_type": "fragment"
    }
   },
   "outputs": [],
   "source": [
    "def remove_html_test(s: str) -> None:\n",
    "    with Timer.Timer() as t:\n",
    "        remove_html_markup_ampersand(s)\n",
    "    assert t.elapsed_time() < 0.1"
   ]
  },
  {
   "cell_type": "markdown",
   "metadata": {
    "slideshow": {
     "slide_type": "fragment"
    }
   },
   "source": [
    "We can now apply delta debugging to determine a minimum input that causes the failure:"
   ]
  },
  {
   "cell_type": "code",
   "execution_count": 48,
   "metadata": {
    "execution": {
     "iopub.execute_input": "2021-05-12T11:20:12.116594Z",
     "iopub.status.busy": "2021-05-12T11:20:12.116012Z",
     "iopub.status.idle": "2021-05-12T11:20:12.117510Z",
     "shell.execute_reply": "2021-05-12T11:20:12.117902Z"
    },
    "slideshow": {
     "slide_type": "fragment"
    }
   },
   "outputs": [],
   "source": [
    "s_fail = '<b>foo&amp;</b>'"
   ]
  },
  {
   "cell_type": "code",
   "execution_count": 49,
   "metadata": {
    "execution": {
     "iopub.execute_input": "2021-05-12T11:20:12.122434Z",
     "iopub.status.busy": "2021-05-12T11:20:12.121917Z",
     "iopub.status.idle": "2021-05-12T11:20:12.225283Z",
     "shell.execute_reply": "2021-05-12T11:20:12.225666Z"
    },
    "slideshow": {
     "slide_type": "subslide"
    }
   },
   "outputs": [],
   "source": [
    "with DeltaDebugger.DeltaDebugger() as dd:\n",
    "    remove_html_test(s_fail)"
   ]
  },
  {
   "cell_type": "code",
   "execution_count": 50,
   "metadata": {
    "execution": {
     "iopub.execute_input": "2021-05-12T11:20:12.229611Z",
     "iopub.status.busy": "2021-05-12T11:20:12.228967Z",
     "iopub.status.idle": "2021-05-12T11:20:12.751014Z",
     "shell.execute_reply": "2021-05-12T11:20:12.751631Z"
    },
    "slideshow": {
     "slide_type": "fragment"
    }
   },
   "outputs": [
    {
     "data": {
      "text/plain": [
       "{'s': '&'}"
      ]
     },
     "execution_count": 1,
     "metadata": {},
     "output_type": "execute_result"
    }
   ],
   "source": [
    "dd.min_args()"
   ]
  },
  {
   "cell_type": "markdown",
   "metadata": {
    "slideshow": {
     "slide_type": "fragment"
    }
   },
   "source": [
    "For performance issues, however, a minimal input is often not enough to highlight the failure cause. This is because short inputs tend to take less processing time than longer inputs, which increases the risks of a spurious diagnosis. A better alternative is to compute a _maximum_ input where the issue does not occur:"
   ]
  },
  {
   "cell_type": "code",
   "execution_count": 51,
   "metadata": {
    "execution": {
     "iopub.execute_input": "2021-05-12T11:20:12.757162Z",
     "iopub.status.busy": "2021-05-12T11:20:12.756418Z",
     "iopub.status.idle": "2021-05-12T11:20:12.961733Z",
     "shell.execute_reply": "2021-05-12T11:20:12.962190Z"
    },
    "slideshow": {
     "slide_type": "fragment"
    }
   },
   "outputs": [],
   "source": [
    "s_pass = dd.max_args()"
   ]
  },
  {
   "cell_type": "code",
   "execution_count": 52,
   "metadata": {
    "execution": {
     "iopub.execute_input": "2021-05-12T11:20:12.965833Z",
     "iopub.status.busy": "2021-05-12T11:20:12.965283Z",
     "iopub.status.idle": "2021-05-12T11:20:12.967331Z",
     "shell.execute_reply": "2021-05-12T11:20:12.967794Z"
    },
    "slideshow": {
     "slide_type": "fragment"
    }
   },
   "outputs": [
    {
     "data": {
      "text/plain": [
       "{'s': '<b>fooamp;</b>'}"
      ]
     },
     "execution_count": 1,
     "metadata": {},
     "output_type": "execute_result"
    }
   ],
   "source": [
    "s_pass"
   ]
  },
  {
   "cell_type": "markdown",
   "metadata": {
    "slideshow": {
     "slide_type": "fragment"
    }
   },
   "source": [
    "We see that the culprit character (the `&`) is removed. This tells us the failure-inducing difference – or, more precisely, the cause for the performance issue."
   ]
  },
  {
   "cell_type": "markdown",
   "metadata": {
    "slideshow": {
     "slide_type": "slide"
    }
   },
   "source": [
    "## Synopsis"
   ]
  },
  {
   "cell_type": "markdown",
   "metadata": {
    "slideshow": {
     "slide_type": "fragment"
    }
   },
   "source": [
    "This chapter provides a class `PerformanceDebugger` that allows to measure and visualize the time taken per line in a function."
   ]
  },
  {
   "cell_type": "code",
   "execution_count": 53,
   "metadata": {
    "execution": {
     "iopub.execute_input": "2021-05-12T11:20:13.013038Z",
     "iopub.status.busy": "2021-05-12T11:20:13.008622Z",
     "iopub.status.idle": "2021-05-12T11:20:13.014682Z",
     "shell.execute_reply": "2021-05-12T11:20:13.015356Z"
    },
    "slideshow": {
     "slide_type": "fragment"
    }
   },
   "outputs": [],
   "source": [
    "with PerformanceDebugger(TimeCollector) as debugger:\n",
    "    for i in range(100):\n",
    "        s = remove_html_markup('<b>foo</b>')"
   ]
  },
  {
   "cell_type": "markdown",
   "metadata": {
    "slideshow": {
     "slide_type": "fragment"
    }
   },
   "source": [
    "The distribution of executed time within each function can be obtained by printing out the debugger:"
   ]
  },
  {
   "cell_type": "code",
   "execution_count": 54,
   "metadata": {
    "execution": {
     "iopub.execute_input": "2021-05-12T11:20:13.020910Z",
     "iopub.status.busy": "2021-05-12T11:20:13.019732Z",
     "iopub.status.idle": "2021-05-12T11:20:13.023550Z",
     "shell.execute_reply": "2021-05-12T11:20:13.024256Z"
    },
    "slideshow": {
     "slide_type": "subslide"
    }
   },
   "outputs": [
    {
     "name": "stdout",
     "output_type": "stream",
     "text": [
      " 238   2% def remove_html_markup(s):  # type: ignore\n",
      " 239   2%     tag = False\n",
      " 240   2%     quote = False\n",
      " 241   1%     out = \"\"\n",
      " 242   0%\n",
      " 243  17%     for c in s:\n",
      " 244  15%         assert tag or not quote\n",
      " 245   0%\n",
      " 246  15%         if c == '<' and not quote:\n",
      " 247   3%             tag = True\n",
      " 248  12%         elif c == '>' and not quote:\n",
      " 249   3%             tag = False\n",
      " 250   8%         elif (c == '\"' or c == \"'\") and tag:\n",
      " 251   0%             quote = not quote\n",
      " 252   9%         elif not tag:\n",
      " 253   4%             out = out + c\n",
      " 254   0%\n",
      " 255   3%     return out\n",
      "\n"
     ]
    }
   ],
   "source": [
    "print(debugger)"
   ]
  },
  {
   "cell_type": "markdown",
   "metadata": {
    "slideshow": {
     "slide_type": "subslide"
    }
   },
   "source": [
    "The sum of all percentages in a function should always be 100%."
   ]
  },
  {
   "cell_type": "markdown",
   "metadata": {
    "slideshow": {
     "slide_type": "fragment"
    }
   },
   "source": [
    "These percentages can also be visualized, where darker shades represent higher percentage values:"
   ]
  },
  {
   "cell_type": "code",
   "execution_count": 55,
   "metadata": {
    "execution": {
     "iopub.execute_input": "2021-05-12T11:20:13.031786Z",
     "iopub.status.busy": "2021-05-12T11:20:13.031072Z",
     "iopub.status.idle": "2021-05-12T11:20:13.033470Z",
     "shell.execute_reply": "2021-05-12T11:20:13.033845Z"
    },
    "slideshow": {
     "slide_type": "subslide"
    }
   },
   "outputs": [
    {
     "data": {
      "text/html": [
       "<pre style=\"background-color:hsl(240, 100%, 96.79936353117168%)\"\n",
       "                    title=\"Line 238:   2% 0.0005251426482573152\"> 238 def remove_html_markup(s):  # type: ignore</pre>\n",
       "<pre style=\"background-color:hsl(240, 100%, 96.97751523117745%)\"\n",
       "                    title=\"Line 239:   2% 0.0004959125071763992\"> 239     tag = False</pre>\n",
       "<pre style=\"background-color:hsl(240, 100%, 96.95267644894055%)\"\n",
       "                    title=\"Line 240:   2% 0.0004999879165552557\"> 240     quote = False</pre>\n",
       "<pre style=\"background-color:hsl(240, 100%, 97.28120255877737%)\"\n",
       "                    title=\"Line 241:   1% 0.00044608517782762647\"> 241     out = &quot;&quot;</pre>\n",
       "<pre style=\"background-color:hsl(240, 100%, 100.0%)\"\n",
       "                    title=\"Line 242:   0% 0.0\"> 242 &nbsp;</pre>\n",
       "<pre style=\"background-color:hsl(240, 100%, 75.0%)\"\n",
       "                    title=\"Line 243:  17% 0.004101861093658954\"> 243     for c in s:</pre>\n",
       "<pre style=\"background-color:hsl(240, 100%, 77.67396098254623%)\"\n",
       "                    title=\"Line 244:  15% 0.003663132432848215\"> 244         assert tag or not quote</pre>\n",
       "<pre style=\"background-color:hsl(240, 100%, 100.0%)\"\n",
       "                    title=\"Line 245:   0% 0.0\"> 245 &nbsp;</pre>\n",
       "<pre style=\"background-color:hsl(240, 100%, 77.74125221122456%)\"\n",
       "                    title=\"Line 246:  15% 0.0036520916619338095\"> 246         if c == &#x27;&lt;&#x27; and not quote:</pre>\n",
       "<pre style=\"background-color:hsl(240, 100%, 95.15615223376909%)\"\n",
       "                    title=\"Line 247:   3% 0.0007947516278363764\"> 247             tag = True</pre>\n",
       "<pre style=\"background-color:hsl(240, 100%, 82.21935560518243%)\"\n",
       "                    title=\"Line 248:  12% 0.002917349338531494\"> 248         elif c == &#x27;&gt;&#x27; and not quote:</pre>\n",
       "<pre style=\"background-color:hsl(240, 100%, 95.50023260438422%)\"\n",
       "                    title=\"Line 249:   3% 0.0007382968324236572\"> 249             tag = False</pre>\n",
       "<pre style=\"background-color:hsl(240, 100%, 86.91943891931476%)\"\n",
       "                    title=\"Line 250:   8% 0.0021461857832036912\"> 250         elif (c == &#x27;&quot;&#x27; or c == &quot;&#x27;&quot;) and tag:</pre>\n",
       "<pre style=\"background-color:hsl(240, 100%, 100.0%)\"\n",
       "                    title=\"Line 251:   0% 0.0\"> 251             quote = not quote</pre>\n",
       "<pre style=\"background-color:hsl(240, 100%, 86.39609076201361%)\"\n",
       "                    title=\"Line 252:   9% 0.00223205384099856\"> 252         elif not tag:</pre>\n",
       "<pre style=\"background-color:hsl(240, 100%, 93.48968156223528%)\"\n",
       "                    title=\"Line 253:   4% 0.0010681768762879074\"> 253             out = out + c</pre>\n",
       "<pre style=\"background-color:hsl(240, 100%, 100.0%)\"\n",
       "                    title=\"Line 254:   0% 0.0\"> 254 &nbsp;</pre>\n",
       "<pre style=\"background-color:hsl(240, 100%, 95.35931406689116%)\"\n",
       "                    title=\"Line 255:   3% 0.0007614179630763829\"> 255     return out</pre>\n"
      ],
      "text/markdown": [
       "| `remove_html_markup` | `s='<b>foo</b>'` | \n",
       "| ---------------------- | ---- | \n",
       "| <samp style=\"background-color: hsl(240, 100%, 96.79936353117168%)\" title=\"  2% 0.0005251426482573152\">remove_html_markup:238</samp> |    X | \n",
       "| <samp style=\"background-color: hsl(240, 100%, 96.97751523117745%)\" title=\"  2% 0.0004959125071763992\">remove_html_markup:239</samp> |    X | \n",
       "| <samp style=\"background-color: hsl(240, 100%, 96.95267644894055%)\" title=\"  2% 0.0004999879165552557\">remove_html_markup:240</samp> |    X | \n",
       "| <samp style=\"background-color: hsl(240, 100%, 97.28120255877737%)\" title=\"  1% 0.00044608517782762647\">remove_html_markup:241</samp> |    X | \n",
       "| <samp style=\"background-color: hsl(240, 100%, 75.0%)\" title=\" 17% 0.004101861093658954\">remove_html_markup:243</samp> |    X | \n",
       "| <samp style=\"background-color: hsl(240, 100%, 77.67396098254623%)\" title=\" 15% 0.003663132432848215\">remove_html_markup:244</samp> |    X | \n",
       "| <samp style=\"background-color: hsl(240, 100%, 77.74125221122456%)\" title=\" 15% 0.0036520916619338095\">remove_html_markup:246</samp> |    X | \n",
       "| <samp style=\"background-color: hsl(240, 100%, 95.15615223376909%)\" title=\"  3% 0.0007947516278363764\">remove_html_markup:247</samp> |    X | \n",
       "| <samp style=\"background-color: hsl(240, 100%, 82.21935560518243%)\" title=\" 12% 0.002917349338531494\">remove_html_markup:248</samp> |    X | \n",
       "| <samp style=\"background-color: hsl(240, 100%, 95.50023260438422%)\" title=\"  3% 0.0007382968324236572\">remove_html_markup:249</samp> |    X | \n",
       "| <samp style=\"background-color: hsl(240, 100%, 86.91943891931476%)\" title=\"  8% 0.0021461857832036912\">remove_html_markup:250</samp> |    X | \n",
       "| <samp style=\"background-color: hsl(240, 100%, 86.39609076201361%)\" title=\"  9% 0.00223205384099856\">remove_html_markup:252</samp> |    X | \n",
       "| <samp style=\"background-color: hsl(240, 100%, 93.48968156223528%)\" title=\"  4% 0.0010681768762879074\">remove_html_markup:253</samp> |    X | \n",
       "| <samp style=\"background-color: hsl(240, 100%, 95.35931406689116%)\" title=\"  3% 0.0007614179630763829\">remove_html_markup:255</samp> |    X | \n"
      ],
      "text/plain": [
       " 238   2% def remove_html_markup(s):  # type: ignore\n",
       " 239   2%     tag = False\n",
       " 240   2%     quote = False\n",
       " 241   1%     out = \"\"\n",
       " 242   0%\n",
       " 243  17%     for c in s:\n",
       " 244  15%         assert tag or not quote\n",
       " 245   0%\n",
       " 246  15%         if c == '<' and not quote:\n",
       " 247   3%             tag = True\n",
       " 248  12%         elif c == '>' and not quote:\n",
       " 249   3%             tag = False\n",
       " 250   8%         elif (c == '\"' or c == \"'\") and tag:\n",
       " 251   0%             quote = not quote\n",
       " 252   9%         elif not tag:\n",
       " 253   4%             out = out + c\n",
       " 254   0%\n",
       " 255   3%     return out"
      ]
     },
     "execution_count": 1,
     "metadata": {},
     "output_type": "execute_result"
    }
   ],
   "source": [
    "debugger"
   ]
  },
  {
   "cell_type": "markdown",
   "metadata": {
    "slideshow": {
     "slide_type": "subslide"
    }
   },
   "source": [
    "The abstract `MetricCollector` class allows subclassing to build more collectors, such as `HitCollector`."
   ]
  },
  {
   "cell_type": "code",
   "execution_count": 56,
   "metadata": {
    "execution": {
     "iopub.execute_input": "2021-05-12T11:20:13.037903Z",
     "iopub.status.busy": "2021-05-12T11:20:13.036818Z",
     "iopub.status.idle": "2021-05-12T11:20:13.039324Z",
     "shell.execute_reply": "2021-05-12T11:20:13.039757Z"
    },
    "slideshow": {
     "slide_type": "fragment"
    }
   },
   "outputs": [],
   "source": [
    "# ignore\n",
    "from ClassDiagram import display_class_hierarchy"
   ]
  },
  {
   "cell_type": "code",
   "execution_count": 57,
   "metadata": {
    "execution": {
     "iopub.execute_input": "2021-05-12T11:20:13.086582Z",
     "iopub.status.busy": "2021-05-12T11:20:13.079839Z",
     "iopub.status.idle": "2021-05-12T11:20:14.079156Z",
     "shell.execute_reply": "2021-05-12T11:20:14.079648Z"
    },
    "slideshow": {
     "slide_type": "fragment"
    }
   },
   "outputs": [
    {
     "data": {
      "image/svg+xml": [
       "<?xml version=\"1.0\" encoding=\"UTF-8\" standalone=\"no\"?>\n",
       "<!DOCTYPE svg PUBLIC \"-//W3C//DTD SVG 1.1//EN\"\n",
       " \"http://www.w3.org/Graphics/SVG/1.1/DTD/svg11.dtd\">\n",
       "<!-- Generated by graphviz version 2.40.1 (20161225.0304)\n",
       " -->\n",
       "<!-- Title: %3 Pages: 1 -->\n",
       "<svg width=\"625pt\" height=\"1037pt\"\n",
       " viewBox=\"0.00 0.00 624.50 1037.00\" xmlns=\"http://www.w3.org/2000/svg\" xmlns:xlink=\"http://www.w3.org/1999/xlink\">\n",
       "<g id=\"graph0\" class=\"graph\" transform=\"scale(1 1) rotate(0) translate(4 1033)\">\n",
       "<title>%3</title>\n",
       "<g id=\"a_graph0\"><a xlink:title=\"PerformanceDebugger class hierarchy\">\n",
       "<polygon fill=\"#ffffff\" stroke=\"transparent\" points=\"-4,4 -4,-1033 620.5,-1033 620.5,4 -4,4\"/>\n",
       "</a>\n",
       "</g>\n",
       "<!-- PerformanceDebugger -->\n",
       "<g id=\"node1\" class=\"node\">\n",
       "<title>PerformanceDebugger</title>\n",
       "<g id=\"a_node1\"><a xlink:href=\"#\" xlink:title=\"class PerformanceDebugger:&#10;Collect and visualize a metric\">\n",
       "<polygon fill=\"none\" stroke=\"#000000\" points=\"0,-28 0,-70 171,-70 171,-28 0,-28\"/>\n",
       "<text text-anchor=\"start\" x=\"8\" y=\"-55.8\" font-family=\"Raleway, Helvetica, Arial, sans-serif\" font-weight=\"bold\" font-size=\"14.00\" fill=\"#6a0dad\">PerformanceDebugger</text>\n",
       "<polyline fill=\"none\" stroke=\"#000000\" points=\"0,-47 171,-47 \"/>\n",
       "<g id=\"a_node1_0\"><a xlink:href=\"#\" xlink:title=\"PerformanceDebugger\">\n",
       "<g id=\"a_node1_1\"><a xlink:href=\"#\" xlink:title=\"__init__(self, collector_class:Type, log:bool=False):&#10;Constructor. Use instances of `collector_class` to collect events.\">\n",
       "<text text-anchor=\"start\" x=\"55.5\" y=\"-35.5\" font-family=\"'Fira Mono', 'Source Code Pro', 'Courier', monospace\" font-weight=\"bold\" font-style=\"italic\" font-size=\"10.00\" fill=\"#000000\">__init__()</text>\n",
       "</a>\n",
       "</g>\n",
       "</a>\n",
       "</g>\n",
       "</a>\n",
       "</g>\n",
       "</g>\n",
       "<!-- MetricDebugger -->\n",
       "<g id=\"node2\" class=\"node\">\n",
       "<title>MetricDebugger</title>\n",
       "<g id=\"a_node2\"><a xlink:href=\"#\" xlink:title=\"class MetricDebugger:&#10;Visualize a metric\">\n",
       "<polygon fill=\"none\" stroke=\"#000000\" points=\"22,-134.5 22,-231.5 149,-231.5 149,-134.5 22,-134.5\"/>\n",
       "<text text-anchor=\"start\" x=\"30\" y=\"-217.3\" font-family=\"Raleway, Helvetica, Arial, sans-serif\" font-weight=\"bold\" font-size=\"14.00\" fill=\"#6a0dad\">MetricDebugger</text>\n",
       "<polyline fill=\"none\" stroke=\"#000000\" points=\"22,-208.5 149,-208.5 \"/>\n",
       "<g id=\"a_node2_2\"><a xlink:href=\"#\" xlink:title=\"MetricDebugger\">\n",
       "<g id=\"a_node2_3\"><a xlink:href=\"#\" xlink:title=\"color(self, location:Tuple[str, int]) &#45;&gt; str:&#10;Return a color for the given event, or None.&#10;To be overloaded in subclasses.\">\n",
       "<text text-anchor=\"start\" x=\"37.5\" y=\"-197.5\" font-family=\"'Fira Mono', 'Source Code Pro', 'Courier', monospace\" font-style=\"italic\" font-size=\"10.00\" fill=\"#000000\">color()</text>\n",
       "</a>\n",
       "</g>\n",
       "<g id=\"a_node2_4\"><a xlink:href=\"#\" xlink:title=\"maximum(self, func_name:str) &#45;&gt; float\">\n",
       "<text text-anchor=\"start\" x=\"37.5\" y=\"-185.5\" font-family=\"'Fira Mono', 'Source Code Pro', 'Courier', monospace\" font-size=\"10.00\" fill=\"#000000\">maximum()</text>\n",
       "</a>\n",
       "</g>\n",
       "<g id=\"a_node2_5\"><a xlink:href=\"#\" xlink:title=\"metric(self, location:Tuple[str, int]) &#45;&gt; float\">\n",
       "<text text-anchor=\"start\" x=\"37.5\" y=\"-174.5\" font-family=\"'Fira Mono', 'Source Code Pro', 'Courier', monospace\" font-size=\"10.00\" fill=\"#000000\">metric()</text>\n",
       "</a>\n",
       "</g>\n",
       "<g id=\"a_node2_6\"><a xlink:href=\"#\" xlink:title=\"suspiciousness(self, location:Tuple[str, int]) &#45;&gt; float:&#10;Return a suspiciousness value in the range [0, 1.0]&#10;for the given event, or `None` if unknown.&#10;To be overloaded in subclasses.\">\n",
       "<text text-anchor=\"start\" x=\"37.5\" y=\"-164.5\" font-family=\"'Fira Mono', 'Source Code Pro', 'Courier', monospace\" font-style=\"italic\" font-size=\"10.00\" fill=\"#000000\">suspiciousness()</text>\n",
       "</a>\n",
       "</g>\n",
       "<g id=\"a_node2_7\"><a xlink:href=\"#\" xlink:title=\"tooltip(self, location:Tuple[str, int]) &#45;&gt; str:&#10;Return a tooltip for the given event (default: percentage).&#10;To be overloaded in subclasses.\">\n",
       "<text text-anchor=\"start\" x=\"37.5\" y=\"-153.5\" font-family=\"'Fira Mono', 'Source Code Pro', 'Courier', monospace\" font-style=\"italic\" font-size=\"10.00\" fill=\"#000000\">tooltip()</text>\n",
       "</a>\n",
       "</g>\n",
       "<g id=\"a_node2_8\"><a xlink:href=\"#\" xlink:title=\"total(self, func_name:str) &#45;&gt; float\">\n",
       "<text text-anchor=\"start\" x=\"37.5\" y=\"-141.5\" font-family=\"'Fira Mono', 'Source Code Pro', 'Courier', monospace\" font-size=\"10.00\" fill=\"#000000\">total()</text>\n",
       "</a>\n",
       "</g>\n",
       "</a>\n",
       "</g>\n",
       "</a>\n",
       "</g>\n",
       "</g>\n",
       "<!-- PerformanceDebugger&#45;&gt;MetricDebugger -->\n",
       "<g id=\"edge1\" class=\"edge\">\n",
       "<title>PerformanceDebugger&#45;&gt;MetricDebugger</title>\n",
       "<path fill=\"none\" stroke=\"#000000\" d=\"M85.5,-70.2327C85.5,-84.808 85.5,-104.9186 85.5,-124.1251\"/>\n",
       "<polygon fill=\"none\" stroke=\"#000000\" points=\"82.0001,-124.3557 85.5,-134.3557 89.0001,-124.3557 82.0001,-124.3557\"/>\n",
       "</g>\n",
       "<!-- SpectrumDebugger -->\n",
       "<g id=\"node3\" class=\"node\">\n",
       "<title>SpectrumDebugger</title>\n",
       "<g id=\"a_node3\"><a xlink:href=\"StatisticalDebugger.ipynb\" xlink:title=\"class SpectrumDebugger:&#10;A class to collect events for passing and failing outcomes.\">\n",
       "<polygon fill=\"none\" stroke=\"#000000\" points=\"10.5,-268.5 10.5,-376.5 160.5,-376.5 160.5,-268.5 10.5,-268.5\"/>\n",
       "<text text-anchor=\"start\" x=\"18.5\" y=\"-362.3\" font-family=\"Raleway, Helvetica, Arial, sans-serif\" font-weight=\"bold\" font-size=\"14.00\" fill=\"#6a0dad\">SpectrumDebugger</text>\n",
       "<polyline fill=\"none\" stroke=\"#000000\" points=\"10.5,-353.5 160.5,-353.5 \"/>\n",
       "<g id=\"a_node3_9\"><a xlink:href=\"#\" xlink:title=\"SpectrumDebugger\">\n",
       "<g id=\"a_node3_10\"><a xlink:href=\"StatisticalDebugger.ipynb\" xlink:title=\"__repr__(self) &#45;&gt; str:&#10;Show code as string\">\n",
       "<text text-anchor=\"start\" x=\"37.5\" y=\"-342\" font-family=\"'Fira Mono', 'Source Code Pro', 'Courier', monospace\" font-style=\"italic\" font-size=\"10.00\" fill=\"#000000\">__repr__()</text>\n",
       "</a>\n",
       "</g>\n",
       "<g id=\"a_node3_11\"><a xlink:href=\"StatisticalDebugger.ipynb\" xlink:title=\"__str__(self) &#45;&gt; str:&#10;Show code as string\">\n",
       "<text text-anchor=\"start\" x=\"37.5\" y=\"-330\" font-family=\"'Fira Mono', 'Source Code Pro', 'Courier', monospace\" font-size=\"10.00\" fill=\"#000000\">__str__()</text>\n",
       "</a>\n",
       "</g>\n",
       "<g id=\"a_node3_12\"><a xlink:href=\"StatisticalDebugger.ipynb\" xlink:title=\"_repr_html_(self) &#45;&gt; str:&#10;When output in Jupyter, visualize as HTML\">\n",
       "<text text-anchor=\"start\" x=\"37.5\" y=\"-319\" font-family=\"'Fira Mono', 'Source Code Pro', 'Courier', monospace\" font-size=\"10.00\" fill=\"#000000\">_repr_html_()</text>\n",
       "</a>\n",
       "</g>\n",
       "<g id=\"a_node3_13\"><a xlink:href=\"StatisticalDebugger.ipynb\" xlink:title=\"code(self, functions:Union[Set[Callable], NoneType]=None, *, color:bool=False, suspiciousness:bool=False, line_numbers:bool=True) &#45;&gt; str:&#10;Return a listing of `functions` (default: covered functions).&#10;If `color` is True, render as HTML, using suspiciousness colors.&#10;If `suspiciousness` is True, include suspiciousness values.&#10;If `line_numbers` is True (default), include line numbers.\">\n",
       "<text text-anchor=\"start\" x=\"37.5\" y=\"-308\" font-family=\"'Fira Mono', 'Source Code Pro', 'Courier', monospace\" font-size=\"10.00\" fill=\"#000000\">code()</text>\n",
       "</a>\n",
       "</g>\n",
       "<g id=\"a_node3_14\"><a xlink:href=\"StatisticalDebugger.ipynb\" xlink:title=\"percentage(self, event:Any) &#45;&gt; str:&#10;Return the suspiciousness for the given event as percentage string.\">\n",
       "<text text-anchor=\"start\" x=\"37.5\" y=\"-297\" font-family=\"'Fira Mono', 'Source Code Pro', 'Courier', monospace\" font-size=\"10.00\" fill=\"#000000\">percentage()</text>\n",
       "</a>\n",
       "</g>\n",
       "<g id=\"a_node3_15\"><a xlink:href=\"StatisticalDebugger.ipynb\" xlink:title=\"suspiciousness(self, event:Any) &#45;&gt; Union[float, NoneType]:&#10;Return a suspiciousness value in the range [0, 1.0]&#10;for the given event, or `None` if unknown.&#10;To be overloaded in subclasses.\">\n",
       "<text text-anchor=\"start\" x=\"37.5\" y=\"-287\" font-family=\"'Fira Mono', 'Source Code Pro', 'Courier', monospace\" font-style=\"italic\" font-size=\"10.00\" fill=\"#000000\">suspiciousness()</text>\n",
       "</a>\n",
       "</g>\n",
       "<g id=\"a_node3_16\"><a xlink:href=\"StatisticalDebugger.ipynb\" xlink:title=\"tooltip(self, event:Any) &#45;&gt; str:&#10;Return a tooltip for the given event (default: percentage).&#10;To be overloaded in subclasses.\">\n",
       "<text text-anchor=\"start\" x=\"37.5\" y=\"-276\" font-family=\"'Fira Mono', 'Source Code Pro', 'Courier', monospace\" font-style=\"italic\" font-size=\"10.00\" fill=\"#000000\">tooltip()</text>\n",
       "</a>\n",
       "</g>\n",
       "</a>\n",
       "</g>\n",
       "</a>\n",
       "</g>\n",
       "</g>\n",
       "<!-- MetricDebugger&#45;&gt;SpectrumDebugger -->\n",
       "<g id=\"edge2\" class=\"edge\">\n",
       "<title>MetricDebugger&#45;&gt;SpectrumDebugger</title>\n",
       "<path fill=\"none\" stroke=\"#000000\" d=\"M85.5,-231.7903C85.5,-240.2611 85.5,-249.1866 85.5,-257.9997\"/>\n",
       "<polygon fill=\"none\" stroke=\"#000000\" points=\"82.0001,-258.2598 85.5,-268.2599 89.0001,-258.2599 82.0001,-258.2598\"/>\n",
       "</g>\n",
       "<!-- DifferenceDebugger -->\n",
       "<g id=\"node4\" class=\"node\">\n",
       "<title>DifferenceDebugger</title>\n",
       "<g id=\"a_node4\"><a xlink:href=\"StatisticalDebugger.ipynb\" xlink:title=\"class DifferenceDebugger:&#10;A class to collect events for passing and failing outcomes.\">\n",
       "<polygon fill=\"none\" stroke=\"#000000\" points=\"8.5,-420.5 8.5,-591.5 162.5,-591.5 162.5,-420.5 8.5,-420.5\"/>\n",
       "<text text-anchor=\"start\" x=\"16.5\" y=\"-577.3\" font-family=\"Raleway, Helvetica, Arial, sans-serif\" font-weight=\"bold\" font-size=\"14.00\" fill=\"#6a0dad\">DifferenceDebugger</text>\n",
       "<polyline fill=\"none\" stroke=\"#000000\" points=\"8.5,-568.5 162.5,-568.5 \"/>\n",
       "<g id=\"a_node4_17\"><a xlink:href=\"#\" xlink:title=\"DifferenceDebugger\">\n",
       "<g id=\"a_node4_18\"><a xlink:href=\"StatisticalDebugger.ipynb\" xlink:title=\"FAIL = &#39;FAIL&#39;\">\n",
       "<text text-anchor=\"start\" x=\"73.5\" y=\"-556.5\" font-family=\"'Fira Mono', 'Source Code Pro', 'Courier', monospace\" font-size=\"10.00\" fill=\"#000000\">FAIL</text>\n",
       "</a>\n",
       "</g>\n",
       "<g id=\"a_node4_19\"><a xlink:href=\"StatisticalDebugger.ipynb\" xlink:title=\"PASS = &#39;PASS&#39;\">\n",
       "<text text-anchor=\"start\" x=\"73.5\" y=\"-545.5\" font-family=\"'Fira Mono', 'Source Code Pro', 'Courier', monospace\" font-size=\"10.00\" fill=\"#000000\">PASS</text>\n",
       "</a>\n",
       "</g>\n",
       "</a>\n",
       "</g>\n",
       "<polyline fill=\"none\" stroke=\"#000000\" points=\"8.5,-538.5 162.5,-538.5 \"/>\n",
       "<g id=\"a_node4_20\"><a xlink:href=\"#\" xlink:title=\"DifferenceDebugger\">\n",
       "<g id=\"a_node4_21\"><a xlink:href=\"StatisticalDebugger.ipynb\" xlink:title=\"__enter__(self) &#45;&gt; Any:&#10;Enter a `with` block. Collect coverage and outcome;&#10;classify as FAIL if the block raises an exception,&#10;and PASS if it does not.\">\n",
       "<text text-anchor=\"start\" x=\"31.5\" y=\"-526.5\" font-family=\"'Fira Mono', 'Source Code Pro', 'Courier', monospace\" font-size=\"10.00\" fill=\"#000000\">__enter__()</text>\n",
       "</a>\n",
       "</g>\n",
       "<g id=\"a_node4_22\"><a xlink:href=\"StatisticalDebugger.ipynb\" xlink:title=\"__exit__(self, exc_tp:Type, exc_value:BaseException, exc_traceback:traceback) &#45;&gt; Union[bool, NoneType]:&#10;Exit the `with` block.\">\n",
       "<text text-anchor=\"start\" x=\"31.5\" y=\"-515.5\" font-family=\"'Fira Mono', 'Source Code Pro', 'Courier', monospace\" font-size=\"10.00\" fill=\"#000000\">__exit__()</text>\n",
       "</a>\n",
       "</g>\n",
       "<g id=\"a_node4_23\"><a xlink:href=\"StatisticalDebugger.ipynb\" xlink:title=\"all_fail_events(self) &#45;&gt; Set[Any]:&#10;Return all events observed in failing runs.\">\n",
       "<text text-anchor=\"start\" x=\"31.5\" y=\"-504.5\" font-family=\"'Fira Mono', 'Source Code Pro', 'Courier', monospace\" font-size=\"10.00\" fill=\"#000000\">all_fail_events()</text>\n",
       "</a>\n",
       "</g>\n",
       "<g id=\"a_node4_24\"><a xlink:href=\"StatisticalDebugger.ipynb\" xlink:title=\"all_pass_events(self) &#45;&gt; Set[Any]:&#10;Return all events observed in passing runs.\">\n",
       "<text text-anchor=\"start\" x=\"31.5\" y=\"-493.5\" font-family=\"'Fira Mono', 'Source Code Pro', 'Courier', monospace\" font-size=\"10.00\" fill=\"#000000\">all_pass_events()</text>\n",
       "</a>\n",
       "</g>\n",
       "<g id=\"a_node4_25\"><a xlink:href=\"StatisticalDebugger.ipynb\" xlink:title=\"collect_fail(self, *args:Any, **kwargs:Any) &#45;&gt; StatisticalDebugger.Collector:&#10;Return a collector for failing runs.\">\n",
       "<text text-anchor=\"start\" x=\"31.5\" y=\"-482.5\" font-family=\"'Fira Mono', 'Source Code Pro', 'Courier', monospace\" font-size=\"10.00\" fill=\"#000000\">collect_fail()</text>\n",
       "</a>\n",
       "</g>\n",
       "<g id=\"a_node4_26\"><a xlink:href=\"StatisticalDebugger.ipynb\" xlink:title=\"collect_pass(self, *args:Any, **kwargs:Any) &#45;&gt; StatisticalDebugger.Collector:&#10;Return a collector for passing runs.\">\n",
       "<text text-anchor=\"start\" x=\"31.5\" y=\"-471.5\" font-family=\"'Fira Mono', 'Source Code Pro', 'Courier', monospace\" font-size=\"10.00\" fill=\"#000000\">collect_pass()</text>\n",
       "</a>\n",
       "</g>\n",
       "<g id=\"a_node4_27\"><a xlink:href=\"StatisticalDebugger.ipynb\" xlink:title=\"fail_collectors(self) &#45;&gt; List[StatisticalDebugger.Collector]\">\n",
       "<text text-anchor=\"start\" x=\"31.5\" y=\"-460.5\" font-family=\"'Fira Mono', 'Source Code Pro', 'Courier', monospace\" font-size=\"10.00\" fill=\"#000000\">fail_collectors()</text>\n",
       "</a>\n",
       "</g>\n",
       "<g id=\"a_node4_28\"><a xlink:href=\"StatisticalDebugger.ipynb\" xlink:title=\"only_fail_events(self) &#45;&gt; Set[Any]:&#10;Return all events observed only in failing runs.\">\n",
       "<text text-anchor=\"start\" x=\"31.5\" y=\"-449.5\" font-family=\"'Fira Mono', 'Source Code Pro', 'Courier', monospace\" font-size=\"10.00\" fill=\"#000000\">only_fail_events()</text>\n",
       "</a>\n",
       "</g>\n",
       "<g id=\"a_node4_29\"><a xlink:href=\"StatisticalDebugger.ipynb\" xlink:title=\"only_pass_events(self) &#45;&gt; Set[Any]:&#10;Return all events observed only in passing runs.\">\n",
       "<text text-anchor=\"start\" x=\"31.5\" y=\"-438.5\" font-family=\"'Fira Mono', 'Source Code Pro', 'Courier', monospace\" font-size=\"10.00\" fill=\"#000000\">only_pass_events()</text>\n",
       "</a>\n",
       "</g>\n",
       "<g id=\"a_node4_30\"><a xlink:href=\"StatisticalDebugger.ipynb\" xlink:title=\"pass_collectors(self) &#45;&gt; List[StatisticalDebugger.Collector]\">\n",
       "<text text-anchor=\"start\" x=\"31.5\" y=\"-427.5\" font-family=\"'Fira Mono', 'Source Code Pro', 'Courier', monospace\" font-size=\"10.00\" fill=\"#000000\">pass_collectors()</text>\n",
       "</a>\n",
       "</g>\n",
       "</a>\n",
       "</g>\n",
       "</a>\n",
       "</g>\n",
       "</g>\n",
       "<!-- SpectrumDebugger&#45;&gt;DifferenceDebugger -->\n",
       "<g id=\"edge3\" class=\"edge\">\n",
       "<title>SpectrumDebugger&#45;&gt;DifferenceDebugger</title>\n",
       "<path fill=\"none\" stroke=\"#000000\" d=\"M85.5,-376.5636C85.5,-387.1932 85.5,-398.6398 85.5,-410.1724\"/>\n",
       "<polygon fill=\"none\" stroke=\"#000000\" points=\"82.0001,-410.3108 85.5,-420.3108 89.0001,-410.3109 82.0001,-410.3108\"/>\n",
       "</g>\n",
       "<!-- StatisticalDebugger -->\n",
       "<g id=\"node5\" class=\"node\">\n",
       "<title>StatisticalDebugger</title>\n",
       "<g id=\"a_node5\"><a xlink:href=\"StatisticalDebugger.ipynb\" xlink:title=\"class StatisticalDebugger:&#10;A class to collect events for multiple outcomes.\">\n",
       "<polygon fill=\"none\" stroke=\"#000000\" points=\"10,-635.5 10,-820.5 161,-820.5 161,-635.5 10,-635.5\"/>\n",
       "<text text-anchor=\"start\" x=\"18\" y=\"-806.3\" font-family=\"Raleway, Helvetica, Arial, sans-serif\" font-weight=\"bold\" font-size=\"14.00\" fill=\"#6a0dad\">StatisticalDebugger</text>\n",
       "<polyline fill=\"none\" stroke=\"#000000\" points=\"10,-797.5 161,-797.5 \"/>\n",
       "<g id=\"a_node5_31\"><a xlink:href=\"#\" xlink:title=\"StatisticalDebugger\">\n",
       "<g id=\"a_node5_32\"><a xlink:href=\"StatisticalDebugger.ipynb\" xlink:title=\"__init__(self, collector_class:Type=&lt;class &#39;StatisticalDebugger.CoverageCollector&#39;&gt;, log:bool=False):&#10;Constructor. Use instances of `collector_class` to collect events.\">\n",
       "<text text-anchor=\"start\" x=\"28.5\" y=\"-786.5\" font-family=\"'Fira Mono', 'Source Code Pro', 'Courier', monospace\" font-style=\"italic\" font-size=\"10.00\" fill=\"#000000\">__init__()</text>\n",
       "</a>\n",
       "</g>\n",
       "<g id=\"a_node5_33\"><a xlink:href=\"StatisticalDebugger.ipynb\" xlink:title=\"__repr__(self) &#45;&gt; str:&#10;Return repr(self).\">\n",
       "<text text-anchor=\"start\" x=\"28.5\" y=\"-775.5\" font-family=\"'Fira Mono', 'Source Code Pro', 'Courier', monospace\" font-style=\"italic\" font-size=\"10.00\" fill=\"#000000\">__repr__()</text>\n",
       "</a>\n",
       "</g>\n",
       "<g id=\"a_node5_34\"><a xlink:href=\"StatisticalDebugger.ipynb\" xlink:title=\"_repr_markdown_(self) &#45;&gt; str\">\n",
       "<text text-anchor=\"start\" x=\"28.5\" y=\"-763.5\" font-family=\"'Fira Mono', 'Source Code Pro', 'Courier', monospace\" font-size=\"10.00\" fill=\"#000000\">_repr_markdown_()</text>\n",
       "</a>\n",
       "</g>\n",
       "<g id=\"a_node5_35\"><a xlink:href=\"StatisticalDebugger.ipynb\" xlink:title=\"add_collector(self, outcome:str, collector:StatisticalDebugger.Collector) &#45;&gt; StatisticalDebugger.Collector\">\n",
       "<text text-anchor=\"start\" x=\"28.5\" y=\"-752.5\" font-family=\"'Fira Mono', 'Source Code Pro', 'Courier', monospace\" font-size=\"10.00\" fill=\"#000000\">add_collector()</text>\n",
       "</a>\n",
       "</g>\n",
       "<g id=\"a_node5_36\"><a xlink:href=\"StatisticalDebugger.ipynb\" xlink:title=\"all_events(self, outcome:Union[str, NoneType]=None) &#45;&gt; Set[Any]:&#10;Return a set of all events observed.\">\n",
       "<text text-anchor=\"start\" x=\"28.5\" y=\"-741.5\" font-family=\"'Fira Mono', 'Source Code Pro', 'Courier', monospace\" font-size=\"10.00\" fill=\"#000000\">all_events()</text>\n",
       "</a>\n",
       "</g>\n",
       "<g id=\"a_node5_37\"><a xlink:href=\"StatisticalDebugger.ipynb\" xlink:title=\"collect(self, outcome:str, *args:Any, **kwargs:Any) &#45;&gt; StatisticalDebugger.Collector:&#10;Return a collector for the given outcome.&#10;Additional args are passed to the collector.\">\n",
       "<text text-anchor=\"start\" x=\"28.5\" y=\"-730.5\" font-family=\"'Fira Mono', 'Source Code Pro', 'Courier', monospace\" font-size=\"10.00\" fill=\"#000000\">collect()</text>\n",
       "</a>\n",
       "</g>\n",
       "<g id=\"a_node5_38\"><a xlink:href=\"StatisticalDebugger.ipynb\" xlink:title=\"color(self, event:Any) &#45;&gt; Union[str, NoneType]:&#10;Return a color for the given event, or None.&#10;To be overloaded in subclasses.\">\n",
       "<text text-anchor=\"start\" x=\"28.5\" y=\"-720.5\" font-family=\"'Fira Mono', 'Source Code Pro', 'Courier', monospace\" font-style=\"italic\" font-size=\"10.00\" fill=\"#000000\">color()</text>\n",
       "</a>\n",
       "</g>\n",
       "<g id=\"a_node5_39\"><a xlink:href=\"StatisticalDebugger.ipynb\" xlink:title=\"coverage(self) &#45;&gt; Set[Tuple[Callable, int]]:&#10;Return a set of all (functions, line_numbers) observed\">\n",
       "<text text-anchor=\"start\" x=\"28.5\" y=\"-708.5\" font-family=\"'Fira Mono', 'Source Code Pro', 'Courier', monospace\" font-size=\"10.00\" fill=\"#000000\">coverage()</text>\n",
       "</a>\n",
       "</g>\n",
       "<g id=\"a_node5_40\"><a xlink:href=\"StatisticalDebugger.ipynb\" xlink:title=\"covered_functions(self) &#45;&gt; Set[Callable]:&#10;Return a set of all functions observed.\">\n",
       "<text text-anchor=\"start\" x=\"28.5\" y=\"-697.5\" font-family=\"'Fira Mono', 'Source Code Pro', 'Courier', monospace\" font-size=\"10.00\" fill=\"#000000\">covered_functions()</text>\n",
       "</a>\n",
       "</g>\n",
       "<g id=\"a_node5_41\"><a xlink:href=\"StatisticalDebugger.ipynb\" xlink:title=\"event_str(self, event:Any) &#45;&gt; str:&#10;Format the given event. To be overloaded in subclasses.\">\n",
       "<text text-anchor=\"start\" x=\"28.5\" y=\"-687.5\" font-family=\"'Fira Mono', 'Source Code Pro', 'Courier', monospace\" font-style=\"italic\" font-size=\"10.00\" fill=\"#000000\">event_str()</text>\n",
       "</a>\n",
       "</g>\n",
       "<g id=\"a_node5_42\"><a xlink:href=\"StatisticalDebugger.ipynb\" xlink:title=\"event_table(self, **_args:Any) &#45;&gt; Any:&#10;Print out event table in Markdown format.\">\n",
       "<text text-anchor=\"start\" x=\"28.5\" y=\"-675.5\" font-family=\"'Fira Mono', 'Source Code Pro', 'Courier', monospace\" font-size=\"10.00\" fill=\"#000000\">event_table()</text>\n",
       "</a>\n",
       "</g>\n",
       "<g id=\"a_node5_43\"><a xlink:href=\"StatisticalDebugger.ipynb\" xlink:title=\"event_table_text(self, *, args:bool=False, color:bool=False) &#45;&gt; str:&#10;Print out a table of events observed.&#10;If `args` is True, use arguments as headers.&#10;If `color` is True, use colors.\">\n",
       "<text text-anchor=\"start\" x=\"28.5\" y=\"-664.5\" font-family=\"'Fira Mono', 'Source Code Pro', 'Courier', monospace\" font-size=\"10.00\" fill=\"#000000\">event_table_text()</text>\n",
       "</a>\n",
       "</g>\n",
       "<g id=\"a_node5_44\"><a xlink:href=\"StatisticalDebugger.ipynb\" xlink:title=\"function(self) &#45;&gt; Union[Callable, NoneType]:&#10;Return the entry function from the events observed,&#10;or None if ambiguous.\">\n",
       "<text text-anchor=\"start\" x=\"28.5\" y=\"-653.5\" font-family=\"'Fira Mono', 'Source Code Pro', 'Courier', monospace\" font-size=\"10.00\" fill=\"#000000\">function()</text>\n",
       "</a>\n",
       "</g>\n",
       "<g id=\"a_node5_45\"><a xlink:href=\"StatisticalDebugger.ipynb\" xlink:title=\"tooltip(self, event:Any) &#45;&gt; Union[str, NoneType]:&#10;Return a tooltip string for the given event, or None.&#10;To be overloaded in subclasses.\">\n",
       "<text text-anchor=\"start\" x=\"28.5\" y=\"-643.5\" font-family=\"'Fira Mono', 'Source Code Pro', 'Courier', monospace\" font-style=\"italic\" font-size=\"10.00\" fill=\"#000000\">tooltip()</text>\n",
       "</a>\n",
       "</g>\n",
       "</a>\n",
       "</g>\n",
       "</a>\n",
       "</g>\n",
       "</g>\n",
       "<!-- DifferenceDebugger&#45;&gt;StatisticalDebugger -->\n",
       "<g id=\"edge4\" class=\"edge\">\n",
       "<title>DifferenceDebugger&#45;&gt;StatisticalDebugger</title>\n",
       "<path fill=\"none\" stroke=\"#000000\" d=\"M85.5,-591.5134C85.5,-602.455 85.5,-613.7458 85.5,-624.9287\"/>\n",
       "<polygon fill=\"none\" stroke=\"#000000\" points=\"82.0001,-625.1552 85.5,-635.1553 89.0001,-625.1553 82.0001,-625.1552\"/>\n",
       "</g>\n",
       "<!-- TimeCollector -->\n",
       "<g id=\"node6\" class=\"node\">\n",
       "<title>TimeCollector</title>\n",
       "<g id=\"a_node6\"><a xlink:href=\"#\" xlink:title=\"class TimeCollector:&#10;Collect time executed for each line\">\n",
       "<polygon fill=\"none\" stroke=\"#000000\" points=\"251,-.5 251,-97.5 364,-97.5 364,-.5 251,-.5\"/>\n",
       "<text text-anchor=\"start\" x=\"259\" y=\"-83.3\" font-family=\"Raleway, Helvetica, Arial, sans-serif\" font-weight=\"bold\" font-size=\"14.00\" fill=\"#6a0dad\">TimeCollector</text>\n",
       "<polyline fill=\"none\" stroke=\"#000000\" points=\"251,-74.5 364,-74.5 \"/>\n",
       "<g id=\"a_node6_46\"><a xlink:href=\"#\" xlink:title=\"TimeCollector\">\n",
       "<g id=\"a_node6_47\"><a xlink:href=\"#\" xlink:title=\"__enter__(self) &#45;&gt; Any:&#10;Called at begin of `with` block. Turn tracing on.\">\n",
       "<text text-anchor=\"start\" x=\"268.5\" y=\"-63.5\" font-family=\"'Fira Mono', 'Source Code Pro', 'Courier', monospace\" font-style=\"italic\" font-size=\"10.00\" fill=\"#000000\">__enter__()</text>\n",
       "</a>\n",
       "</g>\n",
       "<g id=\"a_node6_48\"><a xlink:href=\"#\" xlink:title=\"__init__(self) &#45;&gt; None:&#10;Constructor\">\n",
       "<text text-anchor=\"start\" x=\"268.5\" y=\"-52.5\" font-family=\"'Fira Mono', 'Source Code Pro', 'Courier', monospace\" font-style=\"italic\" font-size=\"10.00\" fill=\"#000000\">__init__()</text>\n",
       "</a>\n",
       "</g>\n",
       "<g id=\"a_node6_49\"><a xlink:href=\"#\" xlink:title=\"all_metrics(self, func:str) &#45;&gt; List[float]:&#10;Return all metric for a function `func`.\">\n",
       "<text text-anchor=\"start\" x=\"268.5\" y=\"-41.5\" font-family=\"'Fira Mono', 'Source Code Pro', 'Courier', monospace\" font-style=\"italic\" font-size=\"10.00\" fill=\"#000000\">all_metrics()</text>\n",
       "</a>\n",
       "</g>\n",
       "<g id=\"a_node6_50\"><a xlink:href=\"#\" xlink:title=\"collect(self, frame:frame, event:str, arg:Any) &#45;&gt; None:&#10;Invoked for every line executed. Accumulate time spent.\">\n",
       "<text text-anchor=\"start\" x=\"268.5\" y=\"-30.5\" font-family=\"'Fira Mono', 'Source Code Pro', 'Courier', monospace\" font-style=\"italic\" font-size=\"10.00\" fill=\"#000000\">collect()</text>\n",
       "</a>\n",
       "</g>\n",
       "<g id=\"a_node6_51\"><a xlink:href=\"#\" xlink:title=\"metric(self, location:Any) &#45;&gt; Union[float, NoneType]:&#10;Return a metric for an event, or none.\">\n",
       "<text text-anchor=\"start\" x=\"268.5\" y=\"-19.5\" font-family=\"'Fira Mono', 'Source Code Pro', 'Courier', monospace\" font-style=\"italic\" font-size=\"10.00\" fill=\"#000000\">metric()</text>\n",
       "</a>\n",
       "</g>\n",
       "<g id=\"a_node6_52\"><a xlink:href=\"#\" xlink:title=\"reset_timer(self) &#45;&gt; None\">\n",
       "<text text-anchor=\"start\" x=\"268.5\" y=\"-7.5\" font-family=\"'Fira Mono', 'Source Code Pro', 'Courier', monospace\" font-size=\"10.00\" fill=\"#000000\">reset_timer()</text>\n",
       "</a>\n",
       "</g>\n",
       "</a>\n",
       "</g>\n",
       "</a>\n",
       "</g>\n",
       "</g>\n",
       "<!-- MetricCollector -->\n",
       "<g id=\"node7\" class=\"node\">\n",
       "<title>MetricCollector</title>\n",
       "<g id=\"a_node7\"><a xlink:href=\"#\" xlink:title=\"class MetricCollector:&#10;Abstract superclass for collecting line&#45;specific metrics\">\n",
       "<polygon fill=\"none\" stroke=\"#000000\" points=\"251.5,-145.5 251.5,-220.5 373.5,-220.5 373.5,-145.5 251.5,-145.5\"/>\n",
       "<text text-anchor=\"start\" x=\"259.5\" y=\"-206.3\" font-family=\"Raleway, Helvetica, Arial, sans-serif\" font-weight=\"bold\" font-size=\"14.00\" fill=\"#6a0dad\">MetricCollector</text>\n",
       "<polyline fill=\"none\" stroke=\"#000000\" points=\"251.5,-197.5 373.5,-197.5 \"/>\n",
       "<g id=\"a_node7_53\"><a xlink:href=\"#\" xlink:title=\"MetricCollector\">\n",
       "<g id=\"a_node7_54\"><a xlink:href=\"#\" xlink:title=\"all_metrics(self, func:str) &#45;&gt; List[float]:&#10;Return all metric for a function `func`.\">\n",
       "<text text-anchor=\"start\" x=\"273.5\" y=\"-186.5\" font-family=\"'Fira Mono', 'Source Code Pro', 'Courier', monospace\" font-style=\"italic\" font-size=\"10.00\" fill=\"#000000\">all_metrics()</text>\n",
       "</a>\n",
       "</g>\n",
       "<g id=\"a_node7_55\"><a xlink:href=\"#\" xlink:title=\"maximum(self, func:str) &#45;&gt; float\">\n",
       "<text text-anchor=\"start\" x=\"273.5\" y=\"-174.5\" font-family=\"'Fira Mono', 'Source Code Pro', 'Courier', monospace\" font-size=\"10.00\" fill=\"#000000\">maximum()</text>\n",
       "</a>\n",
       "</g>\n",
       "<g id=\"a_node7_56\"><a xlink:href=\"#\" xlink:title=\"metric(self, event:Any) &#45;&gt; Union[float, NoneType]:&#10;Return a metric for an event, or none.\">\n",
       "<text text-anchor=\"start\" x=\"273.5\" y=\"-164.5\" font-family=\"'Fira Mono', 'Source Code Pro', 'Courier', monospace\" font-style=\"italic\" font-size=\"10.00\" fill=\"#000000\">metric()</text>\n",
       "</a>\n",
       "</g>\n",
       "<g id=\"a_node7_57\"><a xlink:href=\"#\" xlink:title=\"total(self, func:str) &#45;&gt; float\">\n",
       "<text text-anchor=\"start\" x=\"273.5\" y=\"-152.5\" font-family=\"'Fira Mono', 'Source Code Pro', 'Courier', monospace\" font-size=\"10.00\" fill=\"#000000\">total()</text>\n",
       "</a>\n",
       "</g>\n",
       "</a>\n",
       "</g>\n",
       "</a>\n",
       "</g>\n",
       "</g>\n",
       "<!-- TimeCollector&#45;&gt;MetricCollector -->\n",
       "<g id=\"edge5\" class=\"edge\">\n",
       "<title>TimeCollector&#45;&gt;MetricCollector</title>\n",
       "<path fill=\"none\" stroke=\"#000000\" d=\"M309.3193,-97.7561C309.7774,-110.0332 310.2685,-123.195 310.7244,-135.4139\"/>\n",
       "<polygon fill=\"none\" stroke=\"#000000\" points=\"307.2271,-135.5534 311.0976,-145.4159 314.2222,-135.2923 307.2271,-135.5534\"/>\n",
       "</g>\n",
       "<!-- CoverageCollector -->\n",
       "<g id=\"node8\" class=\"node\">\n",
       "<title>CoverageCollector</title>\n",
       "<g id=\"a_node8\"><a xlink:href=\"StatisticalDebugger.ipynb\" xlink:title=\"class CoverageCollector:&#10;A class to record covered locations during execution.\">\n",
       "<polygon fill=\"none\" stroke=\"#000000\" points=\"240.5,-279.5 240.5,-365.5 384.5,-365.5 384.5,-279.5 240.5,-279.5\"/>\n",
       "<text text-anchor=\"start\" x=\"248.5\" y=\"-351.3\" font-family=\"Raleway, Helvetica, Arial, sans-serif\" font-weight=\"bold\" font-size=\"14.00\" fill=\"#6a0dad\">CoverageCollector</text>\n",
       "<polyline fill=\"none\" stroke=\"#000000\" points=\"240.5,-342.5 384.5,-342.5 \"/>\n",
       "<g id=\"a_node8_58\"><a xlink:href=\"#\" xlink:title=\"CoverageCollector\">\n",
       "<g id=\"a_node8_59\"><a xlink:href=\"StatisticalDebugger.ipynb\" xlink:title=\"__init__(self) &#45;&gt; None:&#10;Constructor.\">\n",
       "<text text-anchor=\"start\" x=\"255.5\" y=\"-331\" font-family=\"'Fira Mono', 'Source Code Pro', 'Courier', monospace\" font-style=\"italic\" font-size=\"10.00\" fill=\"#000000\">__init__()</text>\n",
       "</a>\n",
       "</g>\n",
       "<g id=\"a_node8_60\"><a xlink:href=\"StatisticalDebugger.ipynb\" xlink:title=\"collect(self, frame:frame, event:str, arg:Any) &#45;&gt; None:&#10;Save coverage for an observed event.\">\n",
       "<text text-anchor=\"start\" x=\"255.5\" y=\"-320\" font-family=\"'Fira Mono', 'Source Code Pro', 'Courier', monospace\" font-style=\"italic\" font-size=\"10.00\" fill=\"#000000\">collect()</text>\n",
       "</a>\n",
       "</g>\n",
       "<g id=\"a_node8_61\"><a xlink:href=\"StatisticalDebugger.ipynb\" xlink:title=\"coverage(self) &#45;&gt; Set[Tuple[Callable, int]]:&#10;Return a set (function, lineno) with all locations covered.\">\n",
       "<text text-anchor=\"start\" x=\"255.5\" y=\"-309\" font-family=\"'Fira Mono', 'Source Code Pro', 'Courier', monospace\" font-style=\"italic\" font-size=\"10.00\" fill=\"#000000\">coverage()</text>\n",
       "</a>\n",
       "</g>\n",
       "<g id=\"a_node8_62\"><a xlink:href=\"StatisticalDebugger.ipynb\" xlink:title=\"covered_functions(self) &#45;&gt; Set[Callable]:&#10;Return a set with all functions covered.\">\n",
       "<text text-anchor=\"start\" x=\"255.5\" y=\"-298\" font-family=\"'Fira Mono', 'Source Code Pro', 'Courier', monospace\" font-style=\"italic\" font-size=\"10.00\" fill=\"#000000\">covered_functions()</text>\n",
       "</a>\n",
       "</g>\n",
       "<g id=\"a_node8_63\"><a xlink:href=\"StatisticalDebugger.ipynb\" xlink:title=\"events(self) &#45;&gt; Set[Tuple[str, int]]:&#10;Return the set of locations covered.&#10;Each location comes as a pair (`function_name`, `lineno`).\">\n",
       "<text text-anchor=\"start\" x=\"255.5\" y=\"-287\" font-family=\"'Fira Mono', 'Source Code Pro', 'Courier', monospace\" font-style=\"italic\" font-size=\"10.00\" fill=\"#000000\">events()</text>\n",
       "</a>\n",
       "</g>\n",
       "</a>\n",
       "</g>\n",
       "</a>\n",
       "</g>\n",
       "</g>\n",
       "<!-- MetricCollector&#45;&gt;CoverageCollector -->\n",
       "<g id=\"edge6\" class=\"edge\">\n",
       "<title>MetricCollector&#45;&gt;CoverageCollector</title>\n",
       "<path fill=\"none\" stroke=\"#000000\" d=\"M312.5,-220.7507C312.5,-235.5776 312.5,-252.8674 312.5,-268.9426\"/>\n",
       "<polygon fill=\"none\" stroke=\"#000000\" points=\"309.0001,-269.2928 312.5,-279.2929 316.0001,-269.2929 309.0001,-269.2928\"/>\n",
       "</g>\n",
       "<!-- Collector -->\n",
       "<g id=\"node9\" class=\"node\">\n",
       "<title>Collector</title>\n",
       "<g id=\"a_node9\"><a xlink:href=\"StatisticalDebugger.ipynb\" xlink:title=\"class Collector:&#10;A class to record events during execution.\">\n",
       "<polygon fill=\"none\" stroke=\"#000000\" points=\"188,-413.5 188,-598.5 331,-598.5 331,-413.5 188,-413.5\"/>\n",
       "<text text-anchor=\"start\" x=\"228\" y=\"-584.3\" font-family=\"Raleway, Helvetica, Arial, sans-serif\" font-weight=\"bold\" font-size=\"14.00\" fill=\"#6a0dad\">Collector</text>\n",
       "<polyline fill=\"none\" stroke=\"#000000\" points=\"188,-575.5 331,-575.5 \"/>\n",
       "<g id=\"a_node9_64\"><a xlink:href=\"#\" xlink:title=\"Collector\">\n",
       "<g id=\"a_node9_65\"><a xlink:href=\"StatisticalDebugger.ipynb\" xlink:title=\"__exit__(self, exc_tp:Type, exc_value:BaseException, exc_traceback:traceback) &#45;&gt; Union[bool, NoneType]:&#10;Exit the `with` block.\">\n",
       "<text text-anchor=\"start\" x=\"196.5\" y=\"-564.5\" font-family=\"'Fira Mono', 'Source Code Pro', 'Courier', monospace\" font-style=\"italic\" font-size=\"10.00\" fill=\"#000000\">__exit__()</text>\n",
       "</a>\n",
       "</g>\n",
       "<g id=\"a_node9_66\"><a xlink:href=\"StatisticalDebugger.ipynb\" xlink:title=\"__init__(self) &#45;&gt; None:&#10;Constructor.\">\n",
       "<text text-anchor=\"start\" x=\"196.5\" y=\"-553.5\" font-family=\"'Fira Mono', 'Source Code Pro', 'Courier', monospace\" font-style=\"italic\" font-size=\"10.00\" fill=\"#000000\">__init__()</text>\n",
       "</a>\n",
       "</g>\n",
       "<g id=\"a_node9_67\"><a xlink:href=\"StatisticalDebugger.ipynb\" xlink:title=\"__repr__(self) &#45;&gt; str:&#10;Return a string representation of the collector\">\n",
       "<text text-anchor=\"start\" x=\"196.5\" y=\"-541.5\" font-family=\"'Fira Mono', 'Source Code Pro', 'Courier', monospace\" font-size=\"10.00\" fill=\"#000000\">__repr__()</text>\n",
       "</a>\n",
       "</g>\n",
       "<g id=\"a_node9_68\"><a xlink:href=\"StatisticalDebugger.ipynb\" xlink:title=\"add_items_to_ignore(self, items_to_ignore:List[Union[Type, Callable]]) &#45;&gt; None:&#10;Define additional classes and functions to ignore during collection&#10;(typically `Debugger` classes using these collectors).\">\n",
       "<text text-anchor=\"start\" x=\"196.5\" y=\"-530.5\" font-family=\"'Fira Mono', 'Source Code Pro', 'Courier', monospace\" font-size=\"10.00\" fill=\"#000000\">add_items_to_ignore()</text>\n",
       "</a>\n",
       "</g>\n",
       "<g id=\"a_node9_69\"><a xlink:href=\"StatisticalDebugger.ipynb\" xlink:title=\"args(self) &#45;&gt; Dict[str, Any]:&#10;Return a dict of argument names and values from the first call\">\n",
       "<text text-anchor=\"start\" x=\"196.5\" y=\"-519.5\" font-family=\"'Fira Mono', 'Source Code Pro', 'Courier', monospace\" font-size=\"10.00\" fill=\"#000000\">args()</text>\n",
       "</a>\n",
       "</g>\n",
       "<g id=\"a_node9_70\"><a xlink:href=\"StatisticalDebugger.ipynb\" xlink:title=\"argstring(self) &#45;&gt; str:&#10;Return the list of arguments from the first call,&#10;as a printable string\">\n",
       "<text text-anchor=\"start\" x=\"196.5\" y=\"-508.5\" font-family=\"'Fira Mono', 'Source Code Pro', 'Courier', monospace\" font-size=\"10.00\" fill=\"#000000\">argstring()</text>\n",
       "</a>\n",
       "</g>\n",
       "<g id=\"a_node9_71\"><a xlink:href=\"StatisticalDebugger.ipynb\" xlink:title=\"collect(self, frame:frame, event:str, arg:Any) &#45;&gt; None:&#10;Collector function. To be overloaded in subclasses.\">\n",
       "<text text-anchor=\"start\" x=\"196.5\" y=\"-498.5\" font-family=\"'Fira Mono', 'Source Code Pro', 'Courier', monospace\" font-style=\"italic\" font-size=\"10.00\" fill=\"#000000\">collect()</text>\n",
       "</a>\n",
       "</g>\n",
       "<g id=\"a_node9_72\"><a xlink:href=\"StatisticalDebugger.ipynb\" xlink:title=\"coverage(self) &#45;&gt; Set[Tuple[Callable, int]]:&#10;Return a set (function, lineno) with locations covered.&#10;To be overloaded in subclasses.\">\n",
       "<text text-anchor=\"start\" x=\"196.5\" y=\"-487.5\" font-family=\"'Fira Mono', 'Source Code Pro', 'Courier', monospace\" font-style=\"italic\" font-size=\"10.00\" fill=\"#000000\">coverage()</text>\n",
       "</a>\n",
       "</g>\n",
       "<g id=\"a_node9_73\"><a xlink:href=\"StatisticalDebugger.ipynb\" xlink:title=\"covered_functions(self) &#45;&gt; Set[Callable]:&#10;Set of covered functions. To be overloaded in subclasses.\">\n",
       "<text text-anchor=\"start\" x=\"196.5\" y=\"-476.5\" font-family=\"'Fira Mono', 'Source Code Pro', 'Courier', monospace\" font-style=\"italic\" font-size=\"10.00\" fill=\"#000000\">covered_functions()</text>\n",
       "</a>\n",
       "</g>\n",
       "<g id=\"a_node9_74\"><a xlink:href=\"StatisticalDebugger.ipynb\" xlink:title=\"events(self) &#45;&gt; Set:&#10;Return a collection of events. To be overridden in subclasses.\">\n",
       "<text text-anchor=\"start\" x=\"196.5\" y=\"-465.5\" font-family=\"'Fira Mono', 'Source Code Pro', 'Courier', monospace\" font-style=\"italic\" font-size=\"10.00\" fill=\"#000000\">events()</text>\n",
       "</a>\n",
       "</g>\n",
       "<g id=\"a_node9_75\"><a xlink:href=\"StatisticalDebugger.ipynb\" xlink:title=\"exception(self) &#45;&gt; Union[Type, NoneType]:&#10;Return the exception class from the first call,&#10;or None if no exception was raised.\">\n",
       "<text text-anchor=\"start\" x=\"196.5\" y=\"-453.5\" font-family=\"'Fira Mono', 'Source Code Pro', 'Courier', monospace\" font-size=\"10.00\" fill=\"#000000\">exception()</text>\n",
       "</a>\n",
       "</g>\n",
       "<g id=\"a_node9_76\"><a xlink:href=\"StatisticalDebugger.ipynb\" xlink:title=\"function(self) &#45;&gt; Callable:&#10;Return the function from the first call, as a function object\">\n",
       "<text text-anchor=\"start\" x=\"196.5\" y=\"-442.5\" font-family=\"'Fira Mono', 'Source Code Pro', 'Courier', monospace\" font-size=\"10.00\" fill=\"#000000\">function()</text>\n",
       "</a>\n",
       "</g>\n",
       "<g id=\"a_node9_77\"><a xlink:href=\"StatisticalDebugger.ipynb\" xlink:title=\"id(self) &#45;&gt; str:&#10;Return an identifier for the collector,&#10;created from the first call\">\n",
       "<text text-anchor=\"start\" x=\"196.5\" y=\"-431.5\" font-family=\"'Fira Mono', 'Source Code Pro', 'Courier', monospace\" font-size=\"10.00\" fill=\"#000000\">id()</text>\n",
       "</a>\n",
       "</g>\n",
       "<g id=\"a_node9_78\"><a xlink:href=\"StatisticalDebugger.ipynb\" xlink:title=\"traceit(self, frame:frame, event:str, arg:Any) &#45;&gt; None:&#10;Tracing function.&#10;Saves the first function and calls collect().\">\n",
       "<text text-anchor=\"start\" x=\"196.5\" y=\"-421.5\" font-family=\"'Fira Mono', 'Source Code Pro', 'Courier', monospace\" font-style=\"italic\" font-size=\"10.00\" fill=\"#000000\">traceit()</text>\n",
       "</a>\n",
       "</g>\n",
       "</a>\n",
       "</g>\n",
       "</a>\n",
       "</g>\n",
       "</g>\n",
       "<!-- CoverageCollector&#45;&gt;Collector -->\n",
       "<g id=\"edge7\" class=\"edge\">\n",
       "<title>CoverageCollector&#45;&gt;Collector</title>\n",
       "<path fill=\"none\" stroke=\"#000000\" d=\"M300.0739,-365.5226C296.7255,-377.1155 292.9548,-390.1706 289.0954,-403.533\"/>\n",
       "<polygon fill=\"none\" stroke=\"#000000\" points=\"285.6865,-402.7223 286.2742,-413.3008 292.4116,-404.6647 285.6865,-402.7223\"/>\n",
       "</g>\n",
       "<!-- StackInspector -->\n",
       "<g id=\"node11\" class=\"node\">\n",
       "<title>StackInspector</title>\n",
       "<g id=\"a_node11\"><a xlink:href=\"StackInspector.ipynb\" xlink:title=\"class StackInspector:&#10;Provide functions to inspect the stack\">\n",
       "<polygon fill=\"none\" stroke=\"#000000\" points=\"226,-857.5 226,-1028.5 393,-1028.5 393,-857.5 226,-857.5\"/>\n",
       "<text text-anchor=\"start\" x=\"258.5\" y=\"-1014.3\" font-family=\"Raleway, Helvetica, Arial, sans-serif\" font-weight=\"bold\" font-size=\"14.00\" fill=\"#6a0dad\">StackInspector</text>\n",
       "<polyline fill=\"none\" stroke=\"#000000\" points=\"226,-1005.5 393,-1005.5 \"/>\n",
       "<g id=\"a_node11_79\"><a xlink:href=\"#\" xlink:title=\"StackInspector\">\n",
       "<g id=\"a_node11_80\"><a xlink:href=\"StackInspector.ipynb\" xlink:title=\"_generated_function_cache = {(&#39;remove_html_markup&#39;, 238): &lt;function remove_html_markup at 0x7fd2359f3950&gt;}\">\n",
       "<text text-anchor=\"start\" x=\"234.5\" y=\"-993\" font-family=\"'Fira Mono', 'Source Code Pro', 'Courier', monospace\" font-size=\"10.00\" fill=\"#000000\">_generated_function_cache</text>\n",
       "</a>\n",
       "</g>\n",
       "</a>\n",
       "</g>\n",
       "<polyline fill=\"none\" stroke=\"#000000\" points=\"226,-986.5 393,-986.5 \"/>\n",
       "<g id=\"a_node11_81\"><a xlink:href=\"#\" xlink:title=\"StackInspector\">\n",
       "<g id=\"a_node11_82\"><a xlink:href=\"StackInspector.ipynb\" xlink:title=\"caller_frame(self) &#45;&gt; frame:&#10;Return the frame of the caller.\">\n",
       "<text text-anchor=\"start\" x=\"252.5\" y=\"-974\" font-family=\"'Fira Mono', 'Source Code Pro', 'Courier', monospace\" font-size=\"10.00\" fill=\"#000000\">caller_frame()</text>\n",
       "</a>\n",
       "</g>\n",
       "<g id=\"a_node11_83\"><a xlink:href=\"StackInspector.ipynb\" xlink:title=\"caller_function(self) &#45;&gt; Callable:&#10;Return the calling function\">\n",
       "<text text-anchor=\"start\" x=\"252.5\" y=\"-963\" font-family=\"'Fira Mono', 'Source Code Pro', 'Courier', monospace\" font-size=\"10.00\" fill=\"#000000\">caller_function()</text>\n",
       "</a>\n",
       "</g>\n",
       "<g id=\"a_node11_84\"><a xlink:href=\"StackInspector.ipynb\" xlink:title=\"caller_globals(self) &#45;&gt; Dict[str, Any]:&#10;Return the globals() environment of the caller.\">\n",
       "<text text-anchor=\"start\" x=\"252.5\" y=\"-952\" font-family=\"'Fira Mono', 'Source Code Pro', 'Courier', monospace\" font-size=\"10.00\" fill=\"#000000\">caller_globals()</text>\n",
       "</a>\n",
       "</g>\n",
       "<g id=\"a_node11_85\"><a xlink:href=\"StackInspector.ipynb\" xlink:title=\"caller_locals(self) &#45;&gt; Dict[str, Any]:&#10;Return the locals() environment of the caller.\">\n",
       "<text text-anchor=\"start\" x=\"252.5\" y=\"-941\" font-family=\"'Fira Mono', 'Source Code Pro', 'Courier', monospace\" font-size=\"10.00\" fill=\"#000000\">caller_locals()</text>\n",
       "</a>\n",
       "</g>\n",
       "<g id=\"a_node11_86\"><a xlink:href=\"StackInspector.ipynb\" xlink:title=\"caller_location(self) &#45;&gt; Tuple[Callable, int]:&#10;Return the location (func, lineno) of the caller.\">\n",
       "<text text-anchor=\"start\" x=\"252.5\" y=\"-930\" font-family=\"'Fira Mono', 'Source Code Pro', 'Courier', monospace\" font-size=\"10.00\" fill=\"#000000\">caller_location()</text>\n",
       "</a>\n",
       "</g>\n",
       "<g id=\"a_node11_87\"><a xlink:href=\"StackInspector.ipynb\" xlink:title=\"create_function(self, frame:frame) &#45;&gt; Callable:&#10;Create function for given frame\">\n",
       "<text text-anchor=\"start\" x=\"252.5\" y=\"-919\" font-family=\"'Fira Mono', 'Source Code Pro', 'Courier', monospace\" font-size=\"10.00\" fill=\"#000000\">create_function()</text>\n",
       "</a>\n",
       "</g>\n",
       "<g id=\"a_node11_88\"><a xlink:href=\"StackInspector.ipynb\" xlink:title=\"is_internal_error(self, exc_tp:Type, exc_value:BaseException, exc_traceback:traceback) &#45;&gt; bool:&#10;Return True if exception was raised from `StackInspector` or a subclass.\">\n",
       "<text text-anchor=\"start\" x=\"252.5\" y=\"-908\" font-family=\"'Fira Mono', 'Source Code Pro', 'Courier', monospace\" font-size=\"10.00\" fill=\"#000000\">is_internal_error()</text>\n",
       "</a>\n",
       "</g>\n",
       "<g id=\"a_node11_89\"><a xlink:href=\"StackInspector.ipynb\" xlink:title=\"our_frame(self, frame:frame) &#45;&gt; bool:&#10;Return true if `frame` is in the current (inspecting) class.\">\n",
       "<text text-anchor=\"start\" x=\"252.5\" y=\"-897\" font-family=\"'Fira Mono', 'Source Code Pro', 'Courier', monospace\" font-size=\"10.00\" fill=\"#000000\">our_frame()</text>\n",
       "</a>\n",
       "</g>\n",
       "<g id=\"a_node11_90\"><a xlink:href=\"StackInspector.ipynb\" xlink:title=\"search_frame(self, name:str, frame:Union[frame, NoneType]=None) &#45;&gt; Tuple[Union[frame, NoneType], Union[Callable, NoneType]]:&#10;Return a pair (`frame`, `item`)&#10;in which the function `name` is defined as `item`.\">\n",
       "<text text-anchor=\"start\" x=\"252.5\" y=\"-886\" font-family=\"'Fira Mono', 'Source Code Pro', 'Courier', monospace\" font-size=\"10.00\" fill=\"#000000\">search_frame()</text>\n",
       "</a>\n",
       "</g>\n",
       "<g id=\"a_node11_91\"><a xlink:href=\"StackInspector.ipynb\" xlink:title=\"search_func(self, name:str, frame:Union[frame, NoneType]=None) &#45;&gt; Union[Callable, NoneType]:&#10;Search in callers for a definition of the function `name`\">\n",
       "<text text-anchor=\"start\" x=\"252.5\" y=\"-875\" font-family=\"'Fira Mono', 'Source Code Pro', 'Courier', monospace\" font-size=\"10.00\" fill=\"#000000\">search_func()</text>\n",
       "</a>\n",
       "</g>\n",
       "<g id=\"a_node11_92\"><a xlink:href=\"StackInspector.ipynb\" xlink:title=\"unknown(self) &#45;&gt; None\">\n",
       "<text text-anchor=\"start\" x=\"252.5\" y=\"-864\" font-family=\"'Fira Mono', 'Source Code Pro', 'Courier', monospace\" font-size=\"10.00\" fill=\"#000000\">unknown()</text>\n",
       "</a>\n",
       "</g>\n",
       "</a>\n",
       "</g>\n",
       "</a>\n",
       "</g>\n",
       "</g>\n",
       "<!-- CoverageCollector&#45;&gt;StackInspector -->\n",
       "<g id=\"edge10\" class=\"edge\">\n",
       "<title>CoverageCollector&#45;&gt;StackInspector</title>\n",
       "<path fill=\"none\" stroke=\"#000000\" d=\"M328.0265,-365.673C332.6376,-380.4778 337.0962,-397.2785 339.5,-413 366.9079,-592.255 366.3825,-641.2413 342.5,-821 341.3557,-829.6127 339.7759,-838.4799 337.9226,-847.3169\"/>\n",
       "<polygon fill=\"none\" stroke=\"#000000\" points=\"334.4644,-846.7461 335.7227,-857.266 341.2993,-848.2575 334.4644,-846.7461\"/>\n",
       "</g>\n",
       "<!-- Tracer -->\n",
       "<g id=\"node10\" class=\"node\">\n",
       "<title>Tracer</title>\n",
       "<g id=\"a_node10\"><a xlink:href=\"Tracer.ipynb\" xlink:title=\"class Tracer:&#10;A class for tracing a piece of code. Use as `with Tracer(): block()`\">\n",
       "<polygon fill=\"none\" stroke=\"#000000\" points=\"179,-668.5 179,-787.5 334,-787.5 334,-668.5 179,-668.5\"/>\n",
       "<text text-anchor=\"start\" x=\"234.5\" y=\"-773.3\" font-family=\"Raleway, Helvetica, Arial, sans-serif\" font-weight=\"bold\" font-size=\"14.00\" fill=\"#6a0dad\">Tracer</text>\n",
       "<polyline fill=\"none\" stroke=\"#000000\" points=\"179,-764.5 334,-764.5 \"/>\n",
       "<g id=\"a_node10_93\"><a xlink:href=\"#\" xlink:title=\"Tracer\">\n",
       "<g id=\"a_node10_94\"><a xlink:href=\"Tracer.ipynb\" xlink:title=\"__enter__(self) &#45;&gt; Any:&#10;Called at begin of `with` block. Turn tracing on.\">\n",
       "<text text-anchor=\"start\" x=\"187.5\" y=\"-753.5\" font-family=\"'Fira Mono', 'Source Code Pro', 'Courier', monospace\" font-style=\"italic\" font-size=\"10.00\" fill=\"#000000\">__enter__()</text>\n",
       "</a>\n",
       "</g>\n",
       "<g id=\"a_node10_95\"><a xlink:href=\"Tracer.ipynb\" xlink:title=\"__exit__(self, exc_tp:Type, exc_value:BaseException, exc_traceback:traceback) &#45;&gt; Union[bool, NoneType]:&#10;Called at end of `with` block. Turn tracing off.&#10;Return `None` if ok, not `None` if internal error.\">\n",
       "<text text-anchor=\"start\" x=\"187.5\" y=\"-742.5\" font-family=\"'Fira Mono', 'Source Code Pro', 'Courier', monospace\" font-style=\"italic\" font-size=\"10.00\" fill=\"#000000\">__exit__()</text>\n",
       "</a>\n",
       "</g>\n",
       "<g id=\"a_node10_96\"><a xlink:href=\"Tracer.ipynb\" xlink:title=\"__init__(self, file:TextIO=&lt;ipykernel.iostream.OutStream object at 0x7fd26b813278&gt;) &#45;&gt; None:&#10;Create a new tracer.&#10;If `file` is given, output to `file` instead of stdout.\">\n",
       "<text text-anchor=\"start\" x=\"187.5\" y=\"-731.5\" font-family=\"'Fira Mono', 'Source Code Pro', 'Courier', monospace\" font-style=\"italic\" font-size=\"10.00\" fill=\"#000000\">__init__()</text>\n",
       "</a>\n",
       "</g>\n",
       "<g id=\"a_node10_97\"><a xlink:href=\"Tracer.ipynb\" xlink:title=\"_traceit(self, frame:frame, event:str, arg:Any) &#45;&gt; Union[Callable, NoneType]:&#10;Internal tracing function.\">\n",
       "<text text-anchor=\"start\" x=\"187.5\" y=\"-719.5\" font-family=\"'Fira Mono', 'Source Code Pro', 'Courier', monospace\" font-size=\"10.00\" fill=\"#000000\">_traceit()</text>\n",
       "</a>\n",
       "</g>\n",
       "<g id=\"a_node10_98\"><a xlink:href=\"Tracer.ipynb\" xlink:title=\"changed_vars(self, new_vars:Dict[str, Any]) &#45;&gt; Dict[str, Any]:&#10;Track changed variables, based on `new_vars` observed.\">\n",
       "<text text-anchor=\"start\" x=\"187.5\" y=\"-708.5\" font-family=\"'Fira Mono', 'Source Code Pro', 'Courier', monospace\" font-size=\"10.00\" fill=\"#000000\">changed_vars()</text>\n",
       "</a>\n",
       "</g>\n",
       "<g id=\"a_node10_99\"><a xlink:href=\"Tracer.ipynb\" xlink:title=\"log(self, *objects:Any, sep:str=&#39; &#39;, end:str=&#39;\\n&#39;, flush:bool=True) &#45;&gt; None:&#10;Like `print()`, but always sending to `file` given at initialization,&#10;and flushing by default.\">\n",
       "<text text-anchor=\"start\" x=\"187.5\" y=\"-697.5\" font-family=\"'Fira Mono', 'Source Code Pro', 'Courier', monospace\" font-size=\"10.00\" fill=\"#000000\">log()</text>\n",
       "</a>\n",
       "</g>\n",
       "<g id=\"a_node10_100\"><a xlink:href=\"Tracer.ipynb\" xlink:title=\"print_debugger_status(self, frame:frame, event:str, arg:Any) &#45;&gt; None:&#10;Show current source line and changed vars\">\n",
       "<text text-anchor=\"start\" x=\"187.5\" y=\"-686.5\" font-family=\"'Fira Mono', 'Source Code Pro', 'Courier', monospace\" font-size=\"10.00\" fill=\"#000000\">print_debugger_status()</text>\n",
       "</a>\n",
       "</g>\n",
       "<g id=\"a_node10_101\"><a xlink:href=\"Tracer.ipynb\" xlink:title=\"traceit(self, frame:frame, event:str, arg:Any) &#45;&gt; None:&#10;Tracing function; called at every line. To be overloaded in subclasses.\">\n",
       "<text text-anchor=\"start\" x=\"187.5\" y=\"-676.5\" font-family=\"'Fira Mono', 'Source Code Pro', 'Courier', monospace\" font-style=\"italic\" font-size=\"10.00\" fill=\"#000000\">traceit()</text>\n",
       "</a>\n",
       "</g>\n",
       "</a>\n",
       "</g>\n",
       "</a>\n",
       "</g>\n",
       "</g>\n",
       "<!-- Collector&#45;&gt;Tracer -->\n",
       "<g id=\"edge8\" class=\"edge\">\n",
       "<title>Collector&#45;&gt;Tracer</title>\n",
       "<path fill=\"none\" stroke=\"#000000\" d=\"M258.2495,-598.5404C257.9796,-618.5084 257.6987,-639.2964 257.443,-658.2211\"/>\n",
       "<polygon fill=\"none\" stroke=\"#000000\" points=\"253.9433,-658.1822 257.3077,-668.2286 260.9426,-658.2768 253.9433,-658.1822\"/>\n",
       "</g>\n",
       "<!-- Tracer&#45;&gt;StackInspector -->\n",
       "<g id=\"edge9\" class=\"edge\">\n",
       "<title>Tracer&#45;&gt;StackInspector</title>\n",
       "<path fill=\"none\" stroke=\"#000000\" d=\"M271.1931,-787.604C275.7476,-806.08 280.8871,-826.9287 285.8877,-847.2142\"/>\n",
       "<polygon fill=\"none\" stroke=\"#000000\" points=\"282.5364,-848.2429 288.3282,-857.1145 289.333,-846.5674 282.5364,-848.2429\"/>\n",
       "</g>\n",
       "<!-- HitCollector -->\n",
       "<g id=\"node12\" class=\"node\">\n",
       "<title>HitCollector</title>\n",
       "<g id=\"a_node12\"><a xlink:href=\"#\" xlink:title=\"class HitCollector:&#10;Collect how often a line is executed\">\n",
       "<polygon fill=\"none\" stroke=\"#000000\" points=\"382.5,-11.5 382.5,-86.5 480.5,-86.5 480.5,-11.5 382.5,-11.5\"/>\n",
       "<text text-anchor=\"start\" x=\"390.5\" y=\"-72.3\" font-family=\"Raleway, Helvetica, Arial, sans-serif\" font-weight=\"bold\" font-size=\"14.00\" fill=\"#6a0dad\">HitCollector</text>\n",
       "<polyline fill=\"none\" stroke=\"#000000\" points=\"382.5,-63.5 480.5,-63.5 \"/>\n",
       "<g id=\"a_node12_102\"><a xlink:href=\"#\" xlink:title=\"HitCollector\">\n",
       "<g id=\"a_node12_103\"><a xlink:href=\"#\" xlink:title=\"__init__(self) &#45;&gt; None:&#10;Constructor.\">\n",
       "<text text-anchor=\"start\" x=\"392.5\" y=\"-52.5\" font-family=\"'Fira Mono', 'Source Code Pro', 'Courier', monospace\" font-style=\"italic\" font-size=\"10.00\" fill=\"#000000\">__init__()</text>\n",
       "</a>\n",
       "</g>\n",
       "<g id=\"a_node12_104\"><a xlink:href=\"#\" xlink:title=\"all_metrics(self, func:str) &#45;&gt; List[float]:&#10;Return all metric for a function `func`.\">\n",
       "<text text-anchor=\"start\" x=\"392.5\" y=\"-41.5\" font-family=\"'Fira Mono', 'Source Code Pro', 'Courier', monospace\" font-style=\"italic\" font-size=\"10.00\" fill=\"#000000\">all_metrics()</text>\n",
       "</a>\n",
       "</g>\n",
       "<g id=\"a_node12_105\"><a xlink:href=\"#\" xlink:title=\"collect(self, frame:frame, event:str, arg:Any) &#45;&gt; None:&#10;Save coverage for an observed event.\">\n",
       "<text text-anchor=\"start\" x=\"392.5\" y=\"-30.5\" font-family=\"'Fira Mono', 'Source Code Pro', 'Courier', monospace\" font-style=\"italic\" font-size=\"10.00\" fill=\"#000000\">collect()</text>\n",
       "</a>\n",
       "</g>\n",
       "<g id=\"a_node12_106\"><a xlink:href=\"#\" xlink:title=\"metric(self, location:Tuple[str, int]) &#45;&gt; Union[int, NoneType]:&#10;Return a metric for an event, or none.\">\n",
       "<text text-anchor=\"start\" x=\"392.5\" y=\"-19.5\" font-family=\"'Fira Mono', 'Source Code Pro', 'Courier', monospace\" font-style=\"italic\" font-size=\"10.00\" fill=\"#000000\">metric()</text>\n",
       "</a>\n",
       "</g>\n",
       "</a>\n",
       "</g>\n",
       "</a>\n",
       "</g>\n",
       "</g>\n",
       "<!-- HitCollector&#45;&gt;MetricCollector -->\n",
       "<g id=\"edge11\" class=\"edge\">\n",
       "<title>HitCollector&#45;&gt;MetricCollector</title>\n",
       "<path fill=\"none\" stroke=\"#000000\" d=\"M398.0352,-86.6831C384.0929,-102.3828 367.7749,-120.7576 353.151,-137.2249\"/>\n",
       "<polygon fill=\"none\" stroke=\"#000000\" points=\"350.1491,-135.3342 346.1259,-145.1355 355.3832,-139.9824 350.1491,-135.3342\"/>\n",
       "</g>\n",
       "<!-- Legend -->\n",
       "<g id=\"node13\" class=\"node\">\n",
       "<title>Legend</title>\n",
       "<text text-anchor=\"start\" x=\"498.5\" y=\"-66.5\" font-family=\"Raleway, Helvetica, Arial, sans-serif\" font-weight=\"bold\" font-size=\"10.00\" fill=\"#6a0dad\">Legend</text>\n",
       "<text text-anchor=\"start\" x=\"498.5\" y=\"-56.5\" font-family=\"Raleway, Helvetica, Arial, sans-serif\" font-size=\"10.00\" fill=\"#000000\">• </text>\n",
       "<text text-anchor=\"start\" x=\"505.5\" y=\"-56.5\" font-family=\"'Fira Mono', 'Source Code Pro', 'Courier', monospace\" font-weight=\"bold\" font-size=\"8.00\" fill=\"#000000\">public_method()</text>\n",
       "<text text-anchor=\"start\" x=\"498.5\" y=\"-46.5\" font-family=\"Raleway, Helvetica, Arial, sans-serif\" font-size=\"10.00\" fill=\"#000000\">• </text>\n",
       "<text text-anchor=\"start\" x=\"505.5\" y=\"-46.5\" font-family=\"'Fira Mono', 'Source Code Pro', 'Courier', monospace\" font-size=\"8.00\" fill=\"#000000\">private_method()</text>\n",
       "<text text-anchor=\"start\" x=\"498.5\" y=\"-36.5\" font-family=\"Raleway, Helvetica, Arial, sans-serif\" font-size=\"10.00\" fill=\"#000000\">• </text>\n",
       "<text text-anchor=\"start\" x=\"505.5\" y=\"-36.5\" font-family=\"'Fira Mono', 'Source Code Pro', 'Courier', monospace\" font-style=\"italic\" font-size=\"8.00\" fill=\"#000000\">overloaded_method()</text>\n",
       "<text text-anchor=\"start\" x=\"498.5\" y=\"-27.3\" font-family=\"Helvetica,sans-Serif\" font-size=\"9.00\" fill=\"#000000\">Hover over names to see doc</text>\n",
       "</g>\n",
       "</g>\n",
       "</svg>\n"
      ],
      "text/plain": [
       "<graphviz.dot.Digraph at 0x7fd2359f4c18>"
      ]
     },
     "execution_count": 1,
     "metadata": {},
     "output_type": "execute_result"
    }
   ],
   "source": [
    "# ignore\n",
    "display_class_hierarchy([PerformanceDebugger, TimeCollector, HitCollector],\n",
    "                        public_methods=[\n",
    "                            PerformanceDebugger.__init__,\n",
    "                        ],\n",
    "                        project='debuggingbook')"
   ]
  },
  {
   "cell_type": "markdown",
   "metadata": {
    "button": false,
    "new_sheet": true,
    "run_control": {
     "read_only": false
    },
    "slideshow": {
     "slide_type": "slide"
    }
   },
   "source": [
    "## Lessons Learned\n",
    "\n",
    "* To measure performance,\n",
    "    * instrument the code such that the time taken per function (or line) is collected; or\n",
    "    * sample the execution that at regular intervals, the active call stack is collected.\n",
    "* To make code performant, focus on efficient algorithms, efficient data types, and sufficient abstraction such that you can replace them by alternatives.\n",
    "* Beyond efficient algorithms and data types, do _not_ optimize before measuring."
   ]
  },
  {
   "cell_type": "markdown",
   "metadata": {
    "button": false,
    "new_sheet": false,
    "run_control": {
     "read_only": false
    },
    "slideshow": {
     "slide_type": "slide"
    }
   },
   "source": [
    "## Next Steps\n",
    "\n",
    "This chapter concludes the part on abstracting failures. The next part will focus on\n",
    "\n",
    "* [repairing code automatically](Repairer.ipynb)"
   ]
  },
  {
   "cell_type": "markdown",
   "metadata": {
    "slideshow": {
     "slide_type": "slide"
    }
   },
   "source": [
    "## Background\n",
    "\n",
    "[Scalene](https://github.com/plasma-umass/scalene) is a high-performance, high-precision CPU, GPU, and memory profiler for Python. In contrast to the standard Python `cProfile` profiler, it uses _sampling_ instead of instrumentation or relying on Python's tracing facilities; and it also supports line-by-line profiling. Scalene might be the tool of choice if you want to go beyond basic profiling.\n",
    "\n",
    "The Wikipedia articles on [profiling](https://en.wikipedia.org/wiki/Profiling_(computer_programming)) and [performance analysis tools](https://en.wikipedia.org/wiki/List_of_performance_analysis_tools) provide several additional resources on profiling tools and how to apply them in practice."
   ]
  },
  {
   "cell_type": "markdown",
   "metadata": {
    "button": false,
    "new_sheet": true,
    "run_control": {
     "read_only": false
    },
    "slideshow": {
     "slide_type": "slide"
    }
   },
   "source": [
    "## Exercises"
   ]
  },
  {
   "cell_type": "markdown",
   "metadata": {
    "button": false,
    "new_sheet": false,
    "run_control": {
     "read_only": false
    },
    "slideshow": {
     "slide_type": "subslide"
    }
   },
   "source": [
    "### Exercise 1: Profiling Memory Usage\n",
    "\n",
    "The Python [`tracemalloc` module](https://docs.python.org/3/library/tracemalloc.html) allows to track memory usage during execution. Between `tracemalloc.start()` and `tracemalloc.end()`, use `tracemalloc.get_traced_memory()` to obtain how much memory is currently being consumed:"
   ]
  },
  {
   "cell_type": "code",
   "execution_count": 58,
   "metadata": {
    "execution": {
     "iopub.execute_input": "2021-05-12T11:20:14.084437Z",
     "iopub.status.busy": "2021-05-12T11:20:14.083696Z",
     "iopub.status.idle": "2021-05-12T11:20:14.088775Z",
     "shell.execute_reply": "2021-05-12T11:20:14.089270Z"
    },
    "slideshow": {
     "slide_type": "skip"
    }
   },
   "outputs": [],
   "source": [
    "import tracemalloc"
   ]
  },
  {
   "cell_type": "code",
   "execution_count": 59,
   "metadata": {
    "execution": {
     "iopub.execute_input": "2021-05-12T11:20:14.095443Z",
     "iopub.status.busy": "2021-05-12T11:20:14.094692Z",
     "iopub.status.idle": "2021-05-12T11:20:14.101224Z",
     "shell.execute_reply": "2021-05-12T11:20:14.101720Z"
    },
    "slideshow": {
     "slide_type": "fragment"
    }
   },
   "outputs": [],
   "source": [
    "tracemalloc.start()"
   ]
  },
  {
   "cell_type": "code",
   "execution_count": 60,
   "metadata": {
    "execution": {
     "iopub.execute_input": "2021-05-12T11:20:14.110175Z",
     "iopub.status.busy": "2021-05-12T11:20:14.109422Z",
     "iopub.status.idle": "2021-05-12T11:20:14.112782Z",
     "shell.execute_reply": "2021-05-12T11:20:14.113229Z"
    },
    "slideshow": {
     "slide_type": "fragment"
    }
   },
   "outputs": [
    {
     "data": {
      "text/plain": [
       "17363"
      ]
     },
     "execution_count": 1,
     "metadata": {},
     "output_type": "execute_result"
    }
   ],
   "source": [
    "current_size, peak_size = tracemalloc.get_traced_memory()\n",
    "current_size"
   ]
  },
  {
   "cell_type": "code",
   "execution_count": 61,
   "metadata": {
    "execution": {
     "iopub.execute_input": "2021-05-12T11:20:14.117671Z",
     "iopub.status.busy": "2021-05-12T11:20:14.117069Z",
     "iopub.status.idle": "2021-05-12T11:20:14.118794Z",
     "shell.execute_reply": "2021-05-12T11:20:14.119377Z"
    },
    "slideshow": {
     "slide_type": "fragment"
    }
   },
   "outputs": [],
   "source": [
    "tracemalloc.stop()"
   ]
  },
  {
   "cell_type": "markdown",
   "metadata": {
    "slideshow": {
     "slide_type": "subslide"
    }
   },
   "source": [
    "Create a subclass of `MetricCollector` named `MemoryCollector`. Have it measure the memory consumption before and after each line executed (0 if negative), and visualize the impact of individual lines on memory. Create an appropriate test program that (temporarily) consumes larger amounts of memory."
   ]
  },
  {
   "cell_type": "markdown",
   "metadata": {
    "slideshow": {
     "slide_type": "slide"
    }
   },
   "source": [
    "## Exercise 2: Statistical Performance Debugging\n",
    "\n",
    "In a similar way as we integrated a binary \"performance test\" with delta debugging, we can also integrate such a test with other techniques. Combining a performance test with [Statistical Debugging](StatisticalDebugger.ipynb), for instance, will highlight those lines whose execution correlates with low performance. But then, the performance test need not be binary, as with functional pass/fail tests – you can also _weight_ individual lines by _how much_ they impact performance. Create a variant of `StatisticalDebugger` that reflects the impact of individual lines on an arbitrary (summarized) performance metric."
   ]
  }
 ],
 "metadata": {
  "ipub": {
   "bibliography": "fuzzingbook.bib",
   "toc": true
  },
  "kernelspec": {
   "display_name": "Python 3",
   "language": "python",
   "name": "python3"
  },
  "language_info": {
   "codemirror_mode": {
    "name": "ipython",
    "version": 3
   },
   "file_extension": ".py",
   "mimetype": "text/x-python",
   "name": "python",
   "nbconvert_exporter": "python",
   "pygments_lexer": "ipython3",
   "version": "3.6.10"
  },
  "toc": {
   "base_numbering": 1,
   "nav_menu": {},
   "number_sections": true,
   "sideBar": true,
   "skip_h1_title": true,
   "title_cell": "",
   "title_sidebar": "Contents",
   "toc_cell": false,
   "toc_position": {},
   "toc_section_display": true,
   "toc_window_display": true
  },
  "toc-autonumbering": false
 },
 "nbformat": 4,
 "nbformat_minor": 4
}