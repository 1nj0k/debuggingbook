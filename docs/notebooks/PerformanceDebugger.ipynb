{
 "cells": [
  {
   "cell_type": "markdown",
   "metadata": {
    "button": false,
    "new_sheet": false,
    "run_control": {
     "read_only": false
    },
    "slideshow": {
     "slide_type": "slide"
    }
   },
   "source": [
    "# Debugging Performance Issues\n",
    "\n",
    "Most chapters of this book deal with _functional_ issues – that is, issues related to the _functionality_ (or its absence) of the code in question. However, debugging can also involve _nonfunctional_ issues, however – performance, usability, reliability, and more. In this chapter, we give a short introduction on how to debug such nonfunctional issues, notably _performance_ issues."
   ]
  },
  {
   "cell_type": "code",
   "execution_count": 1,
   "metadata": {
    "execution": {
     "iopub.execute_input": "2022-01-24T09:48:46.416243Z",
     "iopub.status.busy": "2022-01-24T09:48:46.415101Z",
     "iopub.status.idle": "2022-01-24T09:48:46.588446Z",
     "shell.execute_reply": "2022-01-24T09:48:46.588907Z"
    },
    "slideshow": {
     "slide_type": "skip"
    }
   },
   "outputs": [
    {
     "data": {
      "text/html": [
       "\n",
       "        <iframe\n",
       "            width=\"640\"\n",
       "            height=\"360\"\n",
       "            src=\"https://www.youtube-nocookie.com/embed/0tMeB9G0uUI\"\n",
       "            frameborder=\"0\"\n",
       "            allowfullscreen\n",
       "            \n",
       "        ></iframe>\n",
       "        "
      ],
      "text/plain": [
       "<IPython.lib.display.IFrame at 0x1106c94f0>"
      ]
     },
     "execution_count": 1,
     "metadata": {},
     "output_type": "execute_result"
    }
   ],
   "source": [
    "from bookutils import YouTubeVideo\n",
    "YouTubeVideo(\"0tMeB9G0uUI\")"
   ]
  },
  {
   "cell_type": "markdown",
   "metadata": {
    "button": false,
    "new_sheet": false,
    "run_control": {
     "read_only": false
    },
    "slideshow": {
     "slide_type": "subslide"
    }
   },
   "source": [
    "**Prerequisites**\n",
    "\n",
    "* This chapter leverages visualization capabilities from [the chapter on statistical debugging](StatisticalDebugger.ipynb)\n",
    "* We also show how to debug nonfunctional issues using [delta debugging](DeltaDebugger.ipynb)."
   ]
  },
  {
   "cell_type": "code",
   "execution_count": 2,
   "metadata": {
    "button": false,
    "execution": {
     "iopub.execute_input": "2022-01-24T09:48:46.594425Z",
     "iopub.status.busy": "2022-01-24T09:48:46.593194Z",
     "iopub.status.idle": "2022-01-24T09:48:46.598266Z",
     "shell.execute_reply": "2022-01-24T09:48:46.597633Z"
    },
    "new_sheet": false,
    "run_control": {
     "read_only": false
    },
    "slideshow": {
     "slide_type": "skip"
    }
   },
   "outputs": [],
   "source": [
    "import bookutils"
   ]
  },
  {
   "cell_type": "code",
   "execution_count": 3,
   "metadata": {
    "execution": {
     "iopub.execute_input": "2022-01-24T09:48:46.603593Z",
     "iopub.status.busy": "2022-01-24T09:48:46.602486Z",
     "iopub.status.idle": "2022-01-24T09:48:50.756987Z",
     "shell.execute_reply": "2022-01-24T09:48:50.757590Z"
    },
    "slideshow": {
     "slide_type": "skip"
    }
   },
   "outputs": [],
   "source": [
    "import StatisticalDebugger\n",
    "import DeltaDebugger"
   ]
  },
  {
   "cell_type": "markdown",
   "metadata": {
    "slideshow": {
     "slide_type": "skip"
    }
   },
   "source": [
    "## Synopsis\n",
    "<!-- Automatically generated. Do not edit. -->\n",
    "\n",
    "To [use the code provided in this chapter](Importing.ipynb), write\n",
    "\n",
    "```python\n",
    ">>> from debuggingbook.PerformanceDebugger import <identifier>\n",
    "```\n",
    "\n",
    "and then make use of the following features.\n",
    "\n",
    "\n",
    "This chapter provides a class `PerformanceDebugger` that allows to measure and visualize the time taken per line in a function.\n",
    "\n",
    "```python\n",
    ">>> with PerformanceDebugger(TimeCollector) as debugger:\n",
    ">>>     for i in range(100):\n",
    ">>>         s = remove_html_markup('<b>foo</b>')\n",
    "```\n",
    "The distribution of executed time within each function can be obtained by printing out the debugger:\n",
    "\n",
    "```python\n",
    ">>> print(debugger)\n",
    " 238   2% def remove_html_markup(s):  # type: ignore\n",
    " 239   1%     tag = False\n",
    " 240   1%     quote = False\n",
    " 241   1%     out = \"\"\n",
    " 242   0%\n",
    " 243  16%     for c in s:\n",
    " 244  15%         assert tag or not quote\n",
    " 245   0%\n",
    " 246  15%         if c == '<' and not quote:\n",
    " 247   3%             tag = True\n",
    " 248  12%         elif c == '>' and not quote:\n",
    " 249   2%             tag = False\n",
    " 250   8%         elif (c == '\"' or c == \"'\") and tag:\n",
    " 251   0%             quote = not quote\n",
    " 252   9%         elif not tag:\n",
    " 253   4%             out = out + c\n",
    " 254   0%\n",
    " 255   3%     return out\n",
    "\n",
    "\n",
    "```\n",
    "The sum of all percentages in a function should always be 100%.\n",
    "\n",
    "These percentages can also be visualized, where darker shades represent higher percentage values:\n",
    "\n",
    "```python\n",
    ">>> debugger\n",
    "```\n",
    "<pre style=\"background-color:hsl(240, 100%, 95.65201649890105%)\"\n",
    "                    title=\"Line 238:   2% 0.0008970930005034461\"> 238 def remove_html_markup(s):  # type: ignore</pre>\n",
    "<pre style=\"background-color:hsl(240, 100%, 97.00715263574288%)\"\n",
    "                    title=\"Line 239:   1% 0.0006174960004727836\"> 239     tag = False</pre>\n",
    "<pre style=\"background-color:hsl(240, 100%, 97.21329935953095%)\"\n",
    "                    title=\"Line 240:   1% 0.0005749630003037964\"> 240     quote = False</pre>\n",
    "<pre style=\"background-color:hsl(240, 100%, 97.18064197292676%)\"\n",
    "                    title=\"Line 241:   1% 0.000581701000328394\"> 241     out = &quot;&quot;</pre>\n",
    "<pre style=\"background-color:hsl(240, 100%, 100.0%)\"\n",
    "                    title=\"Line 242:   0% 0.0\"> 242 &nbsp;</pre>\n",
    "<pre style=\"background-color:hsl(240, 100%, 75.0%)\"\n",
    "                    title=\"Line 243:  16% 0.005158098002652878\"> 243     for c in s:</pre>\n",
    "<pre style=\"background-color:hsl(240, 100%, 76.84503089033086%)\"\n",
    "                    title=\"Line 244:  15% 0.004777423996642938\"> 244         assert tag or not quote</pre>\n",
    "<pre style=\"background-color:hsl(240, 100%, 100.0%)\"\n",
    "                    title=\"Line 245:   0% 0.0\"> 245 &nbsp;</pre>\n",
    "<pre style=\"background-color:hsl(240, 100%, 77.20745127920223%)\"\n",
    "                    title=\"Line 246:  15% 0.004702648001284615\"> 246         if c == &#x27;&lt;&#x27; and not quote:</pre>\n",
    "<pre style=\"background-color:hsl(240, 100%, 94.80921553420649%)\"\n",
    "                    title=\"Line 247:   3% 0.001070982999408443\"> 247             tag = True</pre>\n",
    "<pre style=\"background-color:hsl(240, 100%, 81.73925253796143%)\"\n",
    "                    title=\"Line 248:  12% 0.0037676290004355906\"> 248         elif c == &#x27;&gt;&#x27; and not quote:</pre>\n",
    "<pre style=\"background-color:hsl(240, 100%, 95.705190170606%)\"\n",
    "                    title=\"Line 249:   2% 0.000886122000110845\"> 249             tag = False</pre>\n",
    "<pre style=\"background-color:hsl(240, 100%, 87.07441192365002%)\"\n",
    "                    title=\"Line 250:   8% 0.0026668580015893895\"> 250         elif (c == &#x27;&quot;&#x27; or c == &quot;&#x27;&quot;) and tag:</pre>\n",
    "<pre style=\"background-color:hsl(240, 100%, 100.0%)\"\n",
    "                    title=\"Line 251:   0% 0.0\"> 251             quote = not quote</pre>\n",
    "<pre style=\"background-color:hsl(240, 100%, 85.27082561570336%)\"\n",
    "                    title=\"Line 252:   9% 0.003038980998894658\"> 252         elif not tag:</pre>\n",
    "<pre style=\"background-color:hsl(240, 100%, 93.36403166514923%)\"\n",
    "                    title=\"Line 253:   4% 0.0013691590005464604\"> 253             out = out + c</pre>\n",
    "<pre style=\"background-color:hsl(240, 100%, 100.0%)\"\n",
    "                    title=\"Line 254:   0% 0.0\"> 254 &nbsp;</pre>\n",
    "<pre style=\"background-color:hsl(240, 100%, 95.3315010734817%)\"\n",
    "                    title=\"Line 255:   3% 0.0009632229995304442\"> 255     return out</pre>\n",
    "\n",
    "\n",
    "The abstract `MetricCollector` class allows subclassing to build more collectors, such as `HitCollector`.\n",
    "\n",
    "![](PICS/PerformanceDebugger-synopsis-1.svg)\n",
    "\n"
   ]
  },
  {
   "cell_type": "markdown",
   "metadata": {
    "slideshow": {
     "slide_type": "slide"
    }
   },
   "source": [
    "## Measuring Performance\n",
    "\n",
    "The solution to debugging performance issues fits in two simple rules:\n",
    "\n",
    "1. _Measure_ performance\n",
    "2. _Break down_ how individual parts of your code contribute to performance.\n",
    "\n",
    "The first part, actually _measuring_ performance, is key here. Developers often take elaborated guesses on which aspects of their code impact performance, and think about all possible ways to optimize their code – and at the same time, making it harder to understand, harder to evolve, and harder to maintain. In most cases, such guesses are wrong. Instead, _measure_ performance of your program, _identify_ the very few parts that may need to get improved, and again _measure_ the impact of your changes."
   ]
  },
  {
   "cell_type": "markdown",
   "metadata": {
    "slideshow": {
     "slide_type": "subslide"
    }
   },
   "source": [
    "Almost all programming languages offer a way to measure performance and breaking it down to individual parts of the code – a means also known as *profiling*. Profiling works by measuring the execution time for each function (or even more fine-grained location) in your program. This can be achieved by\n",
    "\n",
    "1. _Instrumenting_ or _tracing_ code such that the current time at entry and exit of each function (or line), thus determining the time spent. In Python, this is achieved by profilers like [profile or cProfile](https://docs.python.org/3/library/profile.html)\n",
    "\n",
    "2. _Sampling_ the current function call stack at regular intervals, and thus assessing which functions are most active (= take the most time) during execution. For Python, the [scalene](https://github.com/plasma-umass/scalene) profiler works this way.\n",
    "\n",
    "Pretty much all programming languages support profiling, either through measuring, sampling, or both. As a rule of thumb, _interpreted_ languages more frequently support measuring (as it is easy to implement in an interpreter), while _compiled_ languages more frequently support sampling (because instrumentation requires recompilation). Python is lucky to support both methods."
   ]
  },
  {
   "cell_type": "markdown",
   "metadata": {
    "slideshow": {
     "slide_type": "subslide"
    }
   },
   "source": [
    "### Tracing Execution Profiles\n",
    "\n",
    "Let us illustrate profiling in a simple example. The `ChangeCounter` class (which we will encounter in the [chapter on mining version histories](ChangeCounter.ipynb) reads in a version history from a git repository. Yet, it takes more than a minute to read in the debugging book change history:"
   ]
  },
  {
   "cell_type": "code",
   "execution_count": 4,
   "metadata": {
    "execution": {
     "iopub.execute_input": "2022-01-24T09:48:50.764034Z",
     "iopub.status.busy": "2022-01-24T09:48:50.762964Z",
     "iopub.status.idle": "2022-01-24T09:48:53.328308Z",
     "shell.execute_reply": "2022-01-24T09:48:53.331539Z"
    },
    "slideshow": {
     "slide_type": "skip"
    }
   },
   "outputs": [],
   "source": [
    "from ChangeCounter import ChangeCounter, debuggingbook_change_counter  # minor dependency"
   ]
  },
  {
   "cell_type": "code",
   "execution_count": 5,
   "metadata": {
    "execution": {
     "iopub.execute_input": "2022-01-24T09:48:53.339038Z",
     "iopub.status.busy": "2022-01-24T09:48:53.338070Z",
     "iopub.status.idle": "2022-01-24T09:48:53.341286Z",
     "shell.execute_reply": "2022-01-24T09:48:53.342001Z"
    },
    "slideshow": {
     "slide_type": "skip"
    }
   },
   "outputs": [],
   "source": [
    "import Timer"
   ]
  },
  {
   "cell_type": "code",
   "execution_count": 6,
   "metadata": {
    "execution": {
     "iopub.execute_input": "2022-01-24T09:48:53.349050Z",
     "iopub.status.busy": "2022-01-24T09:48:53.348012Z",
     "iopub.status.idle": "2022-01-24T09:54:05.841802Z",
     "shell.execute_reply": "2022-01-24T09:54:05.837283Z"
    },
    "slideshow": {
     "slide_type": "fragment"
    }
   },
   "outputs": [],
   "source": [
    "with Timer.Timer() as t:\n",
    "    change_counter = debuggingbook_change_counter(ChangeCounter)"
   ]
  },
  {
   "cell_type": "code",
   "execution_count": 7,
   "metadata": {
    "execution": {
     "iopub.execute_input": "2022-01-24T09:54:05.861837Z",
     "iopub.status.busy": "2022-01-24T09:54:05.860957Z",
     "iopub.status.idle": "2022-01-24T09:54:05.871149Z",
     "shell.execute_reply": "2022-01-24T09:54:05.872262Z"
    },
    "slideshow": {
     "slide_type": "fragment"
    }
   },
   "outputs": [
    {
     "data": {
      "text/plain": [
       "312.441752222"
      ]
     },
     "execution_count": 7,
     "metadata": {},
     "output_type": "execute_result"
    }
   ],
   "source": [
    "t.elapsed_time()"
   ]
  },
  {
   "cell_type": "markdown",
   "metadata": {
    "slideshow": {
     "slide_type": "subslide"
    }
   },
   "source": [
    "The Python `profile` and `cProfile` modules offer a simple way to identify the most time-consuming functions. They are invoked using the `run()` function, whose argument is the command to be profiled. The output reports, for each function encountered:\n",
    "\n",
    "* How often it was called (`ncalls` column)\n",
    "* How much time was spent in the given function, _excluding_ time spent in calls to sub-functions (`tottime` column)\n",
    "* The fraction of `tottime` / `ncalls` (first `percall` column)\n",
    "* How much time was spent in the given function, _including_ time spent in calls to sub-functions (`cumtime` column)\n",
    "* The fraction of `cumtime` / `percall` (second `percall` column)\n",
    "\n",
    "Let us have a look at the profile we obtain:"
   ]
  },
  {
   "cell_type": "code",
   "execution_count": 8,
   "metadata": {
    "execution": {
     "iopub.execute_input": "2022-01-24T09:54:05.877824Z",
     "iopub.status.busy": "2022-01-24T09:54:05.876935Z",
     "iopub.status.idle": "2022-01-24T09:54:05.879116Z",
     "shell.execute_reply": "2022-01-24T09:54:05.879813Z"
    },
    "slideshow": {
     "slide_type": "skip"
    }
   },
   "outputs": [],
   "source": [
    "import cProfile"
   ]
  },
  {
   "cell_type": "code",
   "execution_count": 9,
   "metadata": {
    "execution": {
     "iopub.execute_input": "2022-01-24T09:54:05.885066Z",
     "iopub.status.busy": "2022-01-24T09:54:05.884420Z",
     "iopub.status.idle": "2022-01-24T09:58:56.737554Z",
     "shell.execute_reply": "2022-01-24T09:58:56.739140Z"
    },
    "slideshow": {
     "slide_type": "subslide"
    }
   },
   "outputs": [
    {
     "name": "stdout",
     "output_type": "stream",
     "text": [
      "         14765609 function calls (14660283 primitive calls) in 290.056 seconds\n",
      "\n",
      "   Ordered by: cumulative time\n",
      "\n",
      "   ncalls  tottime  percall  cumtime  percall filename:lineno(function)\n",
      "        1    0.000    0.000  290.056  290.056 {built-in method builtins.exec}\n",
      "        1    0.001    0.001  290.056  290.056 <string>:1(<module>)\n",
      "        1    0.000    0.000  290.056  290.056 ChangeCounter.ipynb:165(debuggingbook_change_counter)\n",
      "        1    0.000    0.000  290.056  290.056 ChangeCounter.ipynb:51(__init__)\n",
      "        1    3.115    3.115  290.055  290.055 ChangeCounter.ipynb:88(mine)\n",
      "      934    0.035    0.000  286.216    0.306 ChangeCounter.ipynb:99(mine_commit)\n",
      "      934    0.362    0.000  285.845    0.306 commit.py:657(modified_files)\n",
      "      934    0.053    0.000  285.481    0.306 commit.py:673(_get_modifications)\n",
      "      901    0.868    0.001  161.890    0.180 diff.py:95(diff)\n",
      "      901   17.201    0.019  134.976    0.150 diff.py:445(_index_from_patch_format)\n",
      "      934    0.253    0.000  123.373    0.132 commit.py:707(_parse_diff)\n",
      "    17836    1.235    0.000  120.773    0.007 commit.py:736(_get_decoded_sc_str)\n",
      "      901    0.183    0.000   83.700    0.093 cmd.py:71(handle_process_output)\n",
      "   751588   83.685    0.000   83.685    0.000 {method 'decode' of 'bytes' objects}\n",
      "     9076   82.581    0.009   82.581    0.009 {method 'acquire' of '_thread.lock' objects}\n",
      "     1804    0.024    0.000   82.435    0.046 threading.py:1021(join)\n",
      "     1804    0.025    0.000   82.406    0.046 threading.py:1059(_wait_for_tstate_lock)\n",
      "    58074    0.256    0.000   34.366    0.001 cmd.py:528(read)\n",
      "    48984    0.067    0.000   34.140    0.001 base.py:137(read)\n",
      "   116126   34.090    0.000   34.090    0.000 {method 'read' of '_io.BufferedReader' objects}\n",
      "     8918    0.247    0.000   31.983    0.004 diff.py:290(__init__)\n",
      "     8156    0.113    0.000   29.500    0.004 base.py:363(submodules)\n",
      "     8156    0.184    0.000   29.387    0.004 util.py:1092(list_items)\n",
      "18148/18145    0.070    0.000   29.175    0.002 {method 'extend' of 'list' objects}\n",
      "    24468    0.324    0.000   29.104    0.001 base.py:1228(iter_items)\n",
      "      927    0.506    0.001   27.115    0.029 cmd.py:1114(_call_process)\n",
      "      927    0.487    0.001   26.576    0.029 cmd.py:726(execute)\n",
      "      902    0.118    0.000   26.032    0.029 cmd.py:638(<lambda>)\n",
      "      927    0.289    0.000   25.428    0.027 subprocess.py:756(__init__)\n",
      "      927    0.369    0.000   25.069    0.027 subprocess.py:1661(_execute_child)\n",
      "      927   20.072    0.022   20.072    0.022 {built-in method _posixsubprocess.fork_exec}\n",
      "    90698    1.926    0.000   13.485    0.000 cmd.py:1235(__get_object_header)\n",
      "    58074    0.315    0.000   11.677    0.000 db.py:46(stream)\n",
      "    42615    0.142    0.000   11.309    0.000 util.py:248(__getattr__)\n",
      "    58074    0.496    0.000   11.130    0.000 cmd.py:1263(stream_object_data)\n",
      "   149551    9.628    0.000    9.633    0.000 {method 'readline' of '_io.BufferedReader' objects}\n",
      "    24468    0.065    0.000    9.554    0.000 base.py:527(commit)\n",
      "57092/16312    0.089    0.000    9.181    0.001 tree.py:347(__getitem__)\n",
      "57092/16312    0.349    0.000    9.130    0.001 tree.py:245(join)\n",
      "    24468    0.048    0.000    8.364    0.000 symbolic.py:212(_get_commit)\n",
      "    24468    0.078    0.000    8.315    0.000 symbolic.py:203(_get_object)\n",
      "    32624    0.133    0.000    8.192    0.000 tree.py:224(_set_cache_)\n",
      "    32624    0.072    0.000    6.052    0.000 symbolic.py:143(dereference_recursive)\n",
      "    65249    0.188    0.000    5.980    0.000 symbolic.py:196(_get_ref_info)\n",
      "    65249    0.564    0.000    5.792    0.000 symbolic.py:156(_get_ref_info_helper)\n",
      "    32624    0.225    0.000    5.557    0.000 base.py:75(new_from_sha)\n",
      "     8156    0.119    0.000    4.933    0.001 base.py:196(_config_parser)\n",
      "    32624    0.166    0.000    4.714    0.000 db.py:42(info)\n",
      "    32624    0.088    0.000    4.427    0.000 cmd.py:1243(get_object_header)\n",
      "    16360    0.044    0.000    4.317    0.000 base.py:129(data_stream)\n",
      "      927    3.812    0.004    3.812    0.004 {built-in method posix.read}\n",
      "     8156    0.132    0.000    3.775    0.000 fun.py:191(rev_parse)\n",
      "     8204    0.106    0.000    3.668    0.000 config.py:281(__init__)\n",
      "    75474    3.504    0.000    3.629    0.000 {built-in method io.open}\n",
      "     8156    0.183    0.000    3.626    0.000 fun.py:121(name_to_object)\n",
      "     8204    0.134    0.000    3.555    0.000 configparser.py:601(__init__)\n",
      "     9991    0.084    0.000    2.952    0.000 commit.py:196(_set_cache_)\n",
      "65396/57141    0.167    0.000    2.259    0.000 config.py:104(assure_data_present)\n",
      "     8204    0.169    0.000    2.011    0.000 configparser.py:1243(__init__)\n",
      "   744277    2.004    0.000    2.005    0.000 {built-in method builtins.getattr}\n",
      "     8156    0.076    0.000    1.972    0.000 util.py:72(__init__)\n",
      "      901    1.923    0.002    1.923    0.002 {method 'join' of 'bytes' objects}\n",
      "       46    0.000    0.000    1.854    0.040 util.py:98(wrapper)\n",
      "       46    0.002    0.000    1.853    0.040 base.py:1103(module)\n",
      "       94    0.004    0.000    1.852    0.020 base.py:108(__init__)\n",
      "       23    0.000    0.000    1.818    0.079 base.py:1121(module_exists)\n",
      "       47    0.000    0.000    1.773    0.038 base.py:488(config_reader)\n",
      "    32624    1.200    0.000    1.658    0.000 fun.py:59(tree_entries_from_data)\n",
      "65396/57192    0.131    0.000    1.643    0.000 config.py:543(read)\n",
      "     8918    0.011    0.000    1.538    0.000 commit.py:726(_get_decoded_str)\n",
      "     8204    0.316    0.000    1.361    0.000 configparser.py:1320(__init__)\n",
      "    90698    0.063    0.000    1.305    0.000 cmd.py:1221(_get_persistent_cmd)\n",
      "     8204    0.437    0.000    0.952    0.000 config.py:391(_read)\n",
      "    65341    0.600    0.000    0.802    0.000 {method 'read' of '_io.TextIOWrapper' objects}\n",
      "     8204    0.730    0.000    0.730    0.000 {built-in method builtins.dir}\n",
      "      935    0.003    0.000    0.724    0.001 repository.py:201(traverse_commits)\n",
      "     9090    0.208    0.000    0.718    0.000 commit.py:525(_deserialize)\n",
      "     8918    0.122    0.000    0.690    0.000 commit.py:153(__init__)\n",
      "    90698    0.652    0.000    0.652    0.000 {method 'flush' of '_io.BufferedWriter' objects}\n",
      "     9852    0.009    0.000    0.622    0.000 commit.py:564(committer_date)\n",
      "     9852    0.011    0.000    0.612    0.000 commit.py:209(committed_datetime)\n",
      "    16597    0.084    0.000    0.569    0.000 pathlib.py:1079(__new__)\n",
      "  1124842    0.559    0.000    0.559    0.000 {method 'match' of 're.Pattern' objects}\n",
      "    73548    0.535    0.000    0.535    0.000 {method '__exit__' of '_io._IOBase' objects}\n",
      "      938    0.041    0.000    0.530    0.001 repository.py:236(_iter_commits)\n",
      "    93529    0.325    0.000    0.503    0.000 posixpath.py:71(join)\n",
      "    90698    0.348    0.000    0.479    0.000 cmd.py:1185(_parse_object_header)\n",
      "    16599    0.050    0.000    0.476    0.000 pathlib.py:702(_from_parts)\n",
      "     1804    0.151    0.000    0.470    0.000 threading.py:795(__init__)\n",
      "     1804    0.041    0.000    0.457    0.000 threading.py:873(start)\n",
      "    90698    0.275    0.000    0.454    0.000 cmd.py:1207(_prepare_ref)\n",
      "   569640    0.296    0.000    0.437    0.000 cmd.py:466(__getattr__)\n",
      "    32624    0.263    0.000    0.421    0.000 util.py:85(get_object_type_by_name)\n",
      "    16599    0.091    0.000    0.415    0.000 pathlib.py:682(_parse_args)\n",
      "      927    0.074    0.000    0.414    0.000 os.py:711(copy)\n",
      "    32671    0.092    0.000    0.403    0.000 configparser.py:765(get)\n",
      "   285460    0.212    0.000    0.392    0.000 compat.py:49(safe_decode)\n",
      "    18180    0.080    0.000    0.305    0.000 util.py:268(parse_actor_and_date)\n",
      "    16599    0.132    0.000    0.300    0.000 pathlib.py:64(parse_parts)\n",
      "      927    0.107    0.000    0.297    0.000 subprocess.py:1207(_close_pipe_fds)\n",
      "     1805    0.041    0.000    0.295    0.000 threading.py:556(wait)\n",
      "    16595    0.201    0.000    0.293    0.000 util.py:69(mode_str_to_int)\n",
      "    66230    0.122    0.000    0.283    0.000 base.py:153(__init__)\n",
      "    90827    0.276    0.000    0.276    0.000 {method 'write' of '_io.BufferedWriter' objects}\n",
      "  1278831    0.250    0.000    0.257    0.000 {built-in method builtins.isinstance}\n",
      "   108911    0.229    0.000    0.252    0.000 base.py:50(__init__)\n",
      "     1806    0.017    0.000    0.245    0.000 threading.py:280(wait)\n",
      "    33558    0.076    0.000    0.242    0.000 tree.py:214(__init__)\n",
      "    83477    0.102    0.000    0.215    0.000 os.py:674(__getitem__)\n",
      "    57138    0.162    0.000    0.212    0.000 util.py:163(join_path)\n",
      "    65341    0.145    0.000    0.202    0.000 codecs.py:319(decode)\n",
      "    42681    0.109    0.000    0.202    0.000 commit.py:84(__init__)\n",
      "      952    0.144    0.000    0.199    0.000 cmd.py:463(__del__)\n",
      "   190962    0.110    0.000    0.197    0.000 os.py:804(fsencode)\n",
      "    16312    0.027    0.000    0.190    0.000 base.py:335(index)\n",
      "      927    0.030    0.000    0.181    0.000 util.py:412(remove_password_if_present)\n",
      "    32671    0.091    0.000    0.174    0.000 configparser.py:1142(_unify_values)\n",
      "      927    0.040    0.000    0.171    0.000 os.py:619(get_exec_path)\n",
      "    16312    0.040    0.000    0.164    0.000 base.py:117(__init__)\n",
      "     1804    0.023    0.000    0.163    0.000 _weakrefset.py:86(add)\n",
      "     9852    0.031    0.000    0.163    0.000 util.py:167(from_timestamp)\n",
      "      935    0.001    0.000    0.155    0.000 git.py:106(get_list_commits)\n",
      "    52911    0.145    0.000    0.145    0.000 {method 'search' of 're.Pattern' objects}\n",
      "      935    0.002    0.000    0.145    0.000 commit.py:318(_iter_from_process_or_stream)\n",
      "     2733    0.139    0.000    0.139    0.000 {method 'add' of 'set' objects}\n",
      "     8207    0.017    0.000    0.138    0.000 config.py:489(_has_includes)\n",
      "   517254    0.132    0.000    0.132    0.000 {built-in method builtins.len}\n",
      "     1879    0.079    0.000    0.128    0.000 contextlib.py:452(callback)\n",
      "    32671    0.083    0.000    0.124    0.000 __init__.py:935(__getitem__)\n",
      "    16312    0.027    0.000    0.124    0.000 base.py:157(_index_path)\n",
      "    65341    0.081    0.000    0.123    0.000 codecs.py:309(__init__)\n",
      "    57717    0.122    0.000    0.122    0.000 config.py:180(__setitem__)\n",
      "    63454    0.122    0.000    0.122    0.000 {built-in method sys.intern}\n",
      "    24469    0.054    0.000    0.120    0.000 base.py:342(head)\n",
      "     1804    0.120    0.000    0.120    0.000 {built-in method _thread.start_new_thread}\n",
      "     8204    0.038    0.000    0.120    0.000 config.py:492(_included_paths)\n",
      "    84357    0.027    0.000    0.119    0.000 _collections_abc.py:825(__iter__)\n",
      "     9091    0.063    0.000    0.119    0.000 parse.py:437(urlsplit)\n",
      "    65249    0.096    0.000    0.119    0.000 symbolic.py:43(_git_dir)\n",
      "   149653    0.116    0.000    0.116    0.000 {method 'split' of 'str' objects}\n",
      "    17836    0.023    0.000    0.113    0.000 diff.py:432(_pick_best_path)\n",
      "   365266    0.112    0.000    0.112    0.000 {method 'encode' of 'str' objects}\n",
      "    81700    0.090    0.000    0.108    0.000 config.py:192(__getitem__)\n",
      "    16312    0.042    0.000    0.107    0.000 base.py:114(__init__)\n",
      "   205594    0.104    0.000    0.104    0.000 {method 'endswith' of 'str' objects}\n",
      "      902    0.019    0.000    0.103    0.000 util.py:383(finalize_process)\n",
      "    58074    0.055    0.000    0.099    0.000 base.py:128(__new__)\n",
      "   167835    0.098    0.000    0.098    0.000 {method 'startswith' of 'str' objects}\n",
      "    16358    0.025    0.000    0.097    0.000 util.py:200(join_path_native)\n",
      "    20394    0.019    0.000    0.097    0.000 subprocess.py:1749(<genexpr>)\n",
      "     1826    0.017    0.000    0.096    0.000 subprocess.py:1184(wait)\n",
      "     8918    0.022    0.000    0.095    0.000 ChangeCounter.ipynb:109(include)\n",
      "     1803    0.028    0.000    0.095    0.000 cmd.py:470(wait)\n",
      "     1805    0.010    0.000    0.093    0.000 threading.py:521(__init__)\n",
      "    84357    0.048    0.000    0.093    0.000 os.py:697(__iter__)\n",
      "   108911    0.092    0.000    0.092    0.000 {method 'split' of 'bytes' objects}\n",
      "   508552    0.092    0.000    0.092    0.000 {method 'append' of 'list' objects}\n",
      "   166860    0.051    0.000    0.092    0.000 os.py:758(decode)\n",
      "    17836    0.056    0.000    0.090    0.000 diff.py:54(decode_path)\n",
      "    16312    0.073    0.000    0.090    0.000 symbolic.py:439(to_full_path)\n",
      "    32625    0.067    0.000    0.089    0.000 <frozen importlib._bootstrap>:398(parent)\n",
      "     8918    0.048    0.000    0.088    0.000 commit.py:907(_from_change_to_modification_type)\n",
      "   158829    0.088    0.000    0.088    0.000 {built-in method binascii.a2b_hex}\n",
      "    18180    0.033    0.000    0.082    0.000 util.py:665(_from_string)\n",
      "   117065    0.081    0.000    0.081    0.000 {built-in method __new__ of type object at 0x10da733c8}\n",
      "     1826    0.031    0.000    0.079    0.000 subprocess.py:1885(_wait)\n",
      "    95708    0.047    0.000    0.079    0.000 posixpath.py:41(_get_sep)\n",
      "    99570    0.078    0.000    0.078    0.000 typing.py:269(inner)\n",
      "    82752    0.068    0.000    0.075    0.000 {built-in method builtins.hasattr}\n",
      "      927    0.072    0.000    0.074    0.000 warnings.py:458(__enter__)\n",
      "    58074    0.073    0.000    0.073    0.000 cmd.py:517(__init__)\n",
      "     8918    0.014    0.000    0.073    0.000 ChangeCounter.ipynb:173(filter)\n",
      "     9852    0.063    0.000    0.069    0.000 {built-in method fromtimestamp}\n",
      "    32625    0.048    0.000    0.069    0.000 <frozen importlib._bootstrap>:1033(_handle_fromlist)\n",
      "    95943    0.068    0.000    0.068    0.000 {built-in method binascii.b2a_hex}\n",
      "    24470    0.053    0.000    0.066    0.000 head.py:38(__init__)\n",
      "    83477    0.040    0.000    0.066    0.000 os.py:754(encode)\n",
      "    32624    0.039    0.000    0.061    0.000 base.py:35(__new__)\n",
      "    65341    0.057    0.000    0.057    0.000 {built-in method _codecs.utf_8_decode}\n",
      "    22044    0.021    0.000    0.056    0.000 commit.py:227(new_path)\n",
      "    16312    0.037    0.000    0.055    0.000 configparser.py:877(has_option)\n",
      "     1810    0.052    0.000    0.053    0.000 threading.py:228(__init__)\n",
      "    90734    0.052    0.000    0.052    0.000 {method 'group' of 're.Match' objects}\n",
      "      952    0.006    0.000    0.051    0.000 cmd.py:421(_terminate)\n",
      "   304163    0.051    0.000    0.051    0.000 {built-in method posix.fspath}\n",
      "    33210    0.047    0.000    0.047    0.000 config.py:183(add)\n",
      "    58074    0.047    0.000    0.047    0.000 base.py:132(__init__)\n",
      "      557    0.004    0.000    0.046    0.000 ChangeCounter.ipynb:118(update_stats)\n",
      "      925    0.003    0.000    0.044    0.000 subprocess.py:1872(_try_wait)\n",
      "    65341    0.043    0.000    0.043    0.000 codecs.py:260(__init__)\n",
      "    16360    0.037    0.000    0.043    0.000 configparser.py:644(sections)\n",
      "       48    0.000    0.000    0.042    0.001 cmd.py:1273(clear_cache)\n",
      "    18180    0.042    0.000    0.042    0.000 util.py:110(utctz_to_altz)\n",
      "      927    0.042    0.000    0.042    0.000 cmd.py:416(__init__)\n",
      "      973    0.041    0.000    0.041    0.000 {built-in method posix.waitpid}\n",
      "    88369    0.040    0.000    0.040    0.000 {method 'startswith' of 'bytes' objects}\n",
      "   174372    0.040    0.000    0.040    0.000 {method 'strip' of 'str' objects}\n",
      "    45278    0.039    0.000    0.039    0.000 {method 'groups' of 're.Match' objects}\n",
      "    23752    0.026    0.000    0.039    0.000 base.py:105(__ne__)\n",
      "      927    0.024    0.000    0.038    0.000 contextlib.py:489(__exit__)\n",
      "    98643    0.037    0.000    0.037    0.000 {method 'rstrip' of 'str' objects}\n",
      "     1804    0.035    0.000    0.035    0.000 threading.py:1209(_make_invoke_excepthook)\n",
      "     4541    0.035    0.000    0.035    0.000 {built-in method _thread.allocate_lock}\n",
      "     9852    0.029    0.000    0.035    0.000 {method 'astimezone' of 'datetime.datetime' objects}\n",
      "    21569    0.024    0.000    0.035    0.000 pathlib.py:742(__str__)\n",
      "    41045    0.034    0.000    0.034    0.000 {built-in method builtins.setattr}\n",
      "    58074    0.034    0.000    0.034    0.000 cmd.py:604(__del__)\n",
      "      927    0.012    0.000    0.032    0.000 warnings.py:165(simplefilter)\n",
      "        2    0.000    0.000    0.031    0.016 {built-in method builtins.next}\n",
      "        2    0.000    0.000    0.031    0.016 repository.py:166(_prep_repo)\n",
      "      557    0.031    0.000    0.031    0.000 ChangeCounter.ipynb:134(update_size)\n",
      "    16915    0.022    0.000    0.030    0.000 diff.py:403(a_path)\n",
      "     9091    0.017    0.000    0.030    0.000 parse.py:155(password)\n",
      "   186/94    0.002    0.000    0.029    0.000 fun.py:85(find_submodule_git_dir)\n",
      "    32671    0.028    0.000    0.028    0.000 __init__.py:925(__init__)\n",
      "    16312    0.023    0.000    0.028    0.000 util.py:34(sm_name)\n",
      "     9852    0.027    0.000    0.027    0.000 util.py:147(__init__)\n",
      "    15656    0.027    0.000    0.027    0.000 {method 'get' of 'dict' objects}\n",
      "        1    0.000    0.000    0.026    0.026 contextlib.py:123(__exit__)\n",
      "        2    0.000    0.000    0.026    0.013 git.py:73(clear)\n",
      "     1879    0.025    0.000    0.025    0.000 contextlib.py:402(_create_cb_wrapper)\n",
      "    41716    0.024    0.000    0.024    0.000 {method 'rpartition' of 'str' objects}\n",
      "    32624    0.024    0.000    0.024    0.000 base.py:38(__init__)\n",
      "     1879    0.013    0.000    0.023    0.000 contextlib.py:470(_push_exit_callback)\n",
      "    32671    0.023    0.000    0.023    0.000 base.py:296(common_dir)\n",
      "      927    0.008    0.000    0.023    0.000 subprocess.py:1568(_get_handles)\n",
      "     8918    0.019    0.000    0.023    0.000 commit.py:526(committer)\n",
      "     8156    0.019    0.000    0.023    0.000 util.py:970(__new__)\n",
      "     7460    0.018    0.000    0.022    0.000 diff.py:426(renamed_file)\n",
      " 8138/927    0.014    0.000    0.022    0.000 cmd.py:1069(__unpack_args)\n",
      "   126871    0.021    0.000    0.021    0.000 typing.py:1353(cast)\n",
      "     2806    0.021    0.000    0.021    0.000 {built-in method posix.pipe}\n",
      "      927    0.020    0.000    0.020    0.000 contextlib.py:408(__init__)\n",
      "      927    0.016    0.000    0.020    0.000 warnings.py:181(_add_filter)\n",
      "     3734    0.020    0.000    0.020    0.000 {built-in method posix.close}\n",
      "    17281    0.015    0.000    0.019    0.000 diff.py:407(b_path)\n",
      "      927    0.019    0.000    0.019    0.000 {built-in method posix.access}\n",
      "     3685    0.019    0.000    0.019    0.000 {method 'append' of 'collections.deque' objects}\n",
      "    81829    0.018    0.000    0.018    0.000 {function _OMD.__getitem__ at 0x123ac1d30}\n",
      "       46    0.000    0.000    0.018    0.000 base.py:240(__del__)\n",
      "       46    0.001    0.000    0.018    0.000 base.py:246(close)\n",
      "     1802    0.018    0.000    0.018    0.000 threading.py:750(_newname)\n",
      "      927    0.017    0.000    0.017    0.000 warnings.py:437(__init__)\n",
      "    16595    0.016    0.000    0.016    0.000 {method 'sub' of 're.Pattern' objects}\n",
      "      233    0.002    0.000    0.016    0.000 fun.py:44(is_git_dir)\n",
      "     1802    0.015    0.000    0.016    0.000 threading.py:1142(daemon)\n",
      "    16599    0.015    0.000    0.015    0.000 pathlib.py:303(splitroot)\n",
      "    82194    0.014    0.000    0.014    0.000 config.py:387(optionxform)\n",
      "    45801    0.014    0.000    0.014    0.000 {method 'readline' of '_io.BytesIO' objects}\n",
      "     9091    0.011    0.000    0.013    0.000 parse.py:189(_userinfo)\n",
      "     8131    0.006    0.000    0.013    0.000 config.py:352(__del__)\n",
      "    24470    0.013    0.000    0.013    0.000 symbolic.py:65(__init__)\n",
      "     5245    0.007    0.000    0.013    0.000 base.py:123(hexsha)\n",
      "     1946    0.007    0.000    0.013    0.000 posixpath.py:150(dirname)\n",
      "    18180    0.012    0.000    0.012    0.000 util.py:646(__init__)\n",
      "      934    0.008    0.000    0.012    0.000 conf.py:257(is_commit_filtered)\n",
      "    49808    0.012    0.000    0.012    0.000 {method 'lower' of 'str' objects}\n",
      "    65248    0.012    0.000    0.012    0.000 {built-in method builtins.ord}\n",
      "     3608    0.009    0.000    0.011    0.000 threading.py:1338(current_thread)\n",
      "     8443    0.006    0.000    0.011    0.000 pathlib.py:725(_format_parsed_parts)\n",
      "    32624    0.011    0.000    0.011    0.000 base.py:52(type)\n",
      "     8156    0.008    0.000    0.011    0.000 base.py:99(__eq__)\n",
      "      658    0.010    0.000    0.010    0.000 {built-in method posix.stat}\n",
      "     9091    0.009    0.000    0.010    0.000 parse.py:114(_coerce_args)\n",
      "      934    0.006    0.000    0.010    0.000 commit.py:506(hash)\n",
      "     8918    0.007    0.000    0.009    0.000 commit.py:591(msg)\n",
      "      557    0.008    0.000    0.009    0.000 ChangeCounter.ipynb:142(update_changes)\n",
      "        1    0.000    0.000    0.009    0.009 base.py:560(iter_commits)\n",
      "        1    0.000    0.000    0.009    0.009 commit.py:246(iter_items)\n",
      "    55584    0.009    0.000    0.009    0.000 {method 'replace' of 'str' objects}\n",
      "     8204    0.006    0.000    0.009    0.000 configparser.py:1362(__iter__)\n",
      "    16599    0.009    0.000    0.009    0.000 pathlib.py:1089(_init)\n",
      "    32624    0.009    0.000    0.009    0.000 base.py:60(size)\n",
      "    32624    0.009    0.000    0.009    0.000 base.py:42(binsha)\n",
      "      901    0.008    0.000    0.008    0.000 {method 'finditer' of 're.Pattern' objects}\n",
      "     8156    0.008    0.000    0.008    0.000 util.py:973(__init__)\n",
      "      468    0.001    0.000    0.008    0.000 genericpath.py:39(isdir)\n",
      "    16358    0.008    0.000    0.008    0.000 util.py:194(to_native_path_linux)\n",
      "    41020    0.007    0.000    0.007    0.000 {built-in method builtins.callable}\n",
      "     1804    0.006    0.000    0.007    0.000 _weakrefset.py:39(_remove)\n",
      "      974    0.003    0.000    0.007    0.000 abc.py:117(__instancecheck__)\n",
      "     8132    0.005    0.000    0.007    0.000 config.py:364(release)\n",
      "     8156    0.007    0.000    0.007    0.000 fun.py:180(to_commit)\n",
      "      927    0.006    0.000    0.007    0.000 _collections_abc.py:775(keys)\n",
      "       81    0.000    0.000    0.007    0.000 parse.py:88(clear_cache)\n",
      "    16404    0.007    0.000    0.007    0.000 base.py:290(working_tree_dir)\n",
      "     1804    0.005    0.000    0.007    0.000 threading.py:985(_stop)\n",
      "    29556    0.007    0.000    0.007    0.000 util.py:154(utcoffset)\n",
      "      162    0.007    0.000    0.007    0.000 {method 'clear' of 'dict' objects}\n",
      "     1818    0.005    0.000    0.007    0.000 threading.py:256(__enter__)\n",
      "      935    0.004    0.000    0.006    0.000 __init__.py:1436(info)\n",
      "      471    0.004    0.000    0.006    0.000 posixpath.py:334(normpath)\n",
      "    32671    0.006    0.000    0.006    0.000 configparser.py:363(before_get)\n",
      "      141    0.001    0.000    0.006    0.000 util.py:400(expand_path)\n",
      "     1854    0.005    0.000    0.006    0.000 subprocess.py:1158(poll)\n",
      "      927    0.006    0.000    0.006    0.000 {built-in method sys.exc_info}\n",
      "     5638    0.004    0.000    0.006    0.000 conf.py:45(get)\n",
      "     1879    0.002    0.000    0.006    0.000 contextlib.py:404(_exit_wrapper)\n",
      "        1    0.000    0.000    0.006    0.006 contextlib.py:114(__enter__)\n",
      "    39408    0.006    0.000    0.006    0.000 util.py:160(dst)\n",
      "     8915    0.005    0.000    0.005    0.000 {method 'join' of 'str' objects}\n",
      "    16360    0.005    0.000    0.005    0.000 {method 'keys' of 'collections.OrderedDict' objects}\n",
      "     2403    0.003    0.000    0.005    0.000 __init__.py:1424(debug)\n",
      "     8204    0.004    0.000    0.005    0.000 config.py:333(_acquire_lock)\n",
      "        1    0.000    0.000    0.005    0.005 git.py:38(__init__)\n",
      "      967    0.002    0.000    0.005    0.000 commit.py:600(parents)\n",
      "     3338    0.005    0.000    0.005    0.000 __init__.py:1689(isEnabledFor)\n",
      "     9852    0.005    0.000    0.005    0.000 developer.py:24(__init__)\n",
      "        1    0.000    0.000    0.005    0.005 git.py:82(_open_repository)\n",
      "    19467    0.004    0.000    0.004    0.000 {method 'endswith' of 'bytes' objects}\n",
      "      974    0.004    0.000    0.004    0.000 {built-in method _abc._abc_instancecheck}\n",
      "     1806    0.002    0.000    0.004    0.000 threading.py:271(_is_owned)\n",
      "      954    0.003    0.000    0.004    0.000 cmd.py:180(dashify)\n",
      "      927    0.004    0.000    0.004    0.000 subprocess.py:1045(__del__)\n",
      "     1802    0.001    0.000    0.004    0.000 base.py:115(__str__)\n",
      "     3608    0.004    0.000    0.004    0.000 threading.py:1127(daemon)\n",
      "      931    0.004    0.000    0.004    0.000 {method 'remove' of 'list' objects}\n",
      "     8202    0.004    0.000    0.004    0.000 base.py:309(bare)\n",
      "     9090    0.004    0.000    0.004    0.000 {method 'read' of '_io.BytesIO' objects}\n",
      "     1806    0.002    0.000    0.004    0.000 threading.py:268(_acquire_restore)\n",
      "     1854    0.004    0.000    0.004    0.000 {method 'close' of '_io.BufferedReader' objects}\n",
      "    10052    0.003    0.000    0.003    0.000 {method 'strip' of 'bytes' objects}\n",
      "     8918    0.003    0.000    0.003    0.000 {method 'end' of 're.Match' objects}\n",
      "     1803    0.003    0.000    0.003    0.000 encoding.py:1(force_bytes)\n",
      "      143    0.001    0.000    0.003    0.000 genericpath.py:27(isfile)\n",
      "       47    0.002    0.000    0.003    0.000 db.py:37(__init__)\n",
      "    16600    0.003    0.000    0.003    0.000 {method 'reverse' of 'list' objects}\n",
      "      141    0.000    0.000    0.003    0.000 posixpath.py:373(abspath)\n",
      "      927    0.003    0.000    0.003    0.000 subprocess.py:250(_cleanup)\n",
      "     8204    0.003    0.000    0.003    0.000 configparser.py:1190(converters)\n",
      "     8436    0.003    0.000    0.003    0.000 {method 'pop' of 'list' objects}\n",
      "      927    0.002    0.000    0.003    0.000 subprocess.py:1825(_handle_exitstatus)\n",
      "     3709    0.003    0.000    0.003    0.000 {method 'items' of 'dict' objects}\n",
      "       47    0.000    0.000    0.003    0.000 configparser.py:826(getboolean)\n",
      "     1612    0.002    0.000    0.003    0.000 <string>:1(<lambda>)\n",
      "     8204    0.003    0.000    0.003    0.000 {built-in method builtins.iter}\n",
      "     3608    0.002    0.000    0.002    0.000 {built-in method _thread.get_ident}\n",
      "       47    0.000    0.000    0.002    0.000 configparser.py:805(_get_conv)\n",
      "      928    0.002    0.000    0.002    0.000 {built-in method builtins.sorted}\n",
      "     7460    0.002    0.000    0.002    0.000 diff.py:411(rename_from)\n",
      "       47    0.000    0.000    0.002    0.000 cmd.py:612(__init__)\n",
      "       25    0.002    0.000    0.002    0.000 {method 'close' of '_io.BufferedWriter' objects}\n",
      "      934    0.002    0.000    0.002    0.000 commit.py:515(author)\n",
      "     1806    0.002    0.000    0.002    0.000 threading.py:265(_release_save)\n",
      "      901    0.002    0.000    0.002    0.000 base.py:90(_set_cache_)\n",
      "     1818    0.002    0.000    0.002    0.000 threading.py:259(__exit__)\n",
      "     1019    0.002    0.000    0.002    0.000 {method 'rfind' of 'str' objects}\n",
      "       47    0.001    0.000    0.002    0.000 configparser.py:802(_get)\n",
      "      927    0.001    0.000    0.002    0.000 cmd.py:1058(transform_kwargs)\n",
      "      927    0.002    0.000    0.002    0.000 cmd.py:1148(<dictcomp>)\n",
      "     7460    0.002    0.000    0.002    0.000 diff.py:415(rename_to)\n",
      "      927    0.002    0.000    0.002    0.000 warnings.py:477(__exit__)\n",
      "     2781    0.002    0.000    0.002    0.000 {built-in method _warnings._filters_mutated}\n",
      "     1879    0.002    0.000    0.002    0.000 {method 'pop' of 'collections.deque' objects}\n",
      "     1803    0.002    0.000    0.002    0.000 cmd.py:632(__getattr__)\n",
      "     8017    0.002    0.000    0.002    0.000 {method 'start' of 're.Match' objects}\n",
      "        5    0.001    0.000    0.002    0.000 _base.py:201(as_completed)\n",
      "     8135    0.002    0.000    0.002    0.000 config.py:707(read_only)\n",
      "     2781    0.001    0.000    0.002    0.000 subprocess.py:1837(_internal_poll)\n",
      "     1810    0.002    0.000    0.002    0.000 {method '__enter__' of '_thread.lock' objects}\n",
      "     5410    0.002    0.000    0.002    0.000 threading.py:529(is_set)\n",
      "     9091    0.002    0.000    0.002    0.000 parse.py:103(_noop)\n",
      "       47    0.000    0.000    0.001    0.000 genericpath.py:16(exists)\n",
      "        3    0.000    0.000    0.001    0.000 config.py:659(write)\n",
      "       47    0.000    0.000    0.001    0.000 _collections_abc.py:767(__contains__)\n",
      "       47    0.000    0.000    0.001    0.000 re.py:198(search)\n",
      "     3658    0.001    0.000    0.001    0.000 {method 'release' of '_thread.lock' objects}\n",
      "     1612    0.001    0.000    0.001    0.000 {method 'find' of 'str' objects}\n",
      "       47    0.000    0.000    0.001    0.000 loose.py:77(__init__)\n",
      "     1812    0.001    0.000    0.001    0.000 {method '__exit__' of '_thread.RLock' objects}\n",
      "      927    0.001    0.000    0.001    0.000 _collections_abc.py:802(__init__)\n",
      "      927    0.001    0.000    0.001    0.000 contextlib.py:486(__enter__)\n",
      "      927    0.001    0.000    0.001    0.000 {method 'rfind' of 'bytes' objects}\n",
      "        1    0.000    0.000    0.001    0.001 repository.py:230(<dictcomp>)\n",
      "        4    0.000    0.000    0.001    0.000 thread.py:155(submit)\n",
      "      2/1    0.000    0.000    0.001    0.001 config.py:117(flush_changes)\n",
      "       47    0.001    0.000    0.001    0.000 re.py:289(_compile)\n",
      "     3630    0.001    0.000    0.001    0.000 {method 'insert' of 'list' objects}\n",
      "     2747    0.001    0.000    0.001    0.000 {method '__exit__' of '_thread.lock' objects}\n",
      "      927    0.001    0.000    0.001    0.000 cmd.py:1156(<listcomp>)\n",
      "     1804    0.001    0.000    0.001    0.000 {method 'discard' of 'set' objects}\n",
      "        4    0.000    0.000    0.001    0.000 thread.py:174(_adjust_thread_count)\n",
      "        6    0.001    0.000    0.001    0.000 _base.py:179(_yield_finished_futures)\n",
      "       48    0.000    0.000    0.001    0.000 base.py:464(_get_config_path)\n",
      "        1    0.000    0.000    0.001    0.001 _base.py:635(__exit__)\n",
      "        1    0.000    0.000    0.001    0.001 thread.py:210(shutdown)\n",
      "        1    0.000    0.000    0.001    0.001 base.py:511(config_writer)\n",
      "      934    0.000    0.000    0.001    0.000 git.py:130(get_commit_from_gitpython)\n",
      "       92    0.000    0.000    0.001    0.000 _bootlocale.py:33(getpreferredencoding)\n",
      "        2    0.000    0.000    0.001    0.000 pathlib.py:1209(resolve)\n",
      "        4    0.000    0.000    0.001    0.000 util.py:878(_obtain_lock)\n",
      "        1    0.000    0.000    0.001    0.001 config.py:791(set_value)\n",
      "        4    0.000    0.000    0.001    0.000 util.py:856(_obtain_lock_or_raise)\n",
      "        2    0.000    0.000    0.001    0.000 pathlib.py:327(resolve)\n",
      "        1    0.001    0.001    0.001    0.001 {built-in method posix.open}\n",
      "      233    0.000    0.000    0.001    0.000 posixpath.py:60(isabs)\n",
      "     1802    0.001    0.000    0.001    0.000 threading.py:1113(is_alive)\n",
      "        2    0.000    0.000    0.001    0.000 pathlib.py:331(_resolve)\n",
      "      927    0.001    0.000    0.001    0.000 {built-in method posix.WIFSTOPPED}\n",
      "        8    0.000    0.000    0.001    0.000 pathlib.py:461(readlink)\n",
      "        8    0.001    0.000    0.001    0.000 {built-in method posix.readlink}\n",
      "      952    0.001    0.000    0.001    0.000 {method 'update' of 'dict' objects}\n",
      "        3    0.000    0.000    0.001    0.000 config.py:615(_write)\n",
      "      139    0.000    0.000    0.001    0.000 cmd.py:368(is_cygwin)\n",
      "       46    0.000    0.000    0.001    0.000 mman.py:408(collect)\n",
      "       23    0.000    0.000    0.001    0.000 subprocess.py:2072(terminate)\n",
      "      927    0.001    0.000    0.001    0.000 cmd.py:1149(<dictcomp>)\n",
      "       92    0.001    0.000    0.001    0.000 {built-in method _locale.nl_langinfo}\n",
      "     1612    0.000    0.000    0.000    0.000 parse.py:419(_checknetloc)\n",
      "       45    0.000    0.000    0.000    0.000 config.py:618(write_section)\n",
      "      927    0.000    0.000    0.000    0.000 {built-in method posix.waitstatus_to_exitcode}\n",
      "       46    0.000    0.000    0.000    0.000 base.py:197(abspath)\n",
      "      927    0.000    0.000    0.000    0.000 {built-in method sys.audit}\n",
      "      934    0.000    0.000    0.000    0.000 commit.py:480(__init__)\n",
      "      141    0.000    0.000    0.000    0.000 posixpath.py:228(expanduser)\n",
      "       46    0.000    0.000    0.000    0.000 mman.py:303(_collect_lru_region)\n",
      "       23    0.000    0.000    0.000    0.000 subprocess.py:2040(send_signal)\n",
      "      901    0.000    0.000    0.000    0.000 util.py:257(_set_cache_)\n",
      "       29    0.000    0.000    0.000    0.000 cmd.py:1042(transform_kwarg)\n",
      "     1809    0.000    0.000    0.000    0.000 {method 'locked' of '_thread.lock' objects}\n",
      "      141    0.000    0.000    0.000    0.000 posixpath.py:281(expandvars)\n",
      "      901    0.000    0.000    0.000    0.000 diff.py:86(_process_diff_args)\n",
      "       47    0.000    0.000    0.000    0.000 configparser.py:1162(_convert_to_boolean)\n",
      "        1    0.000    0.000    0.000    0.000 git.py:88(_discover_main_branch)\n",
      "      927    0.000    0.000    0.000    0.000 {method 'pop' of 'dict' objects}\n",
      "        1    0.000    0.000    0.000    0.000 thread.py:117(__init__)\n",
      "        1    0.000    0.000    0.000    0.000 base.py:792(active_branch)\n",
      "      557    0.000    0.000    0.000    0.000 ChangeCounter.ipynb:152(update_elems)\n",
      "       46    0.000    0.000    0.000    0.000 base.py:266(__ne__)\n",
      "        1    0.000    0.000    0.000    0.000 symbolic.py:288(_get_reference)\n",
      "       23    0.000    0.000    0.000    0.000 {built-in method posix.kill}\n",
      "       45    0.000    0.000    0.000    0.000 config.py:216(items_all)\n",
      "      421    0.000    0.000    0.000    0.000 {built-in method _stat.S_ISDIR}\n",
      "       45    0.000    0.000    0.000    0.000 config.py:218(<listcomp>)\n",
      "       85    0.000    0.000    0.000    0.000 config.py:786(_value_to_string)\n",
      "       47    0.000    0.000    0.000    0.000 base.py:67(__init__)\n",
      "        1    0.000    0.000    0.000    0.000 repository.py:246(_split_in_chunks)\n",
      "        1    0.000    0.000    0.000    0.000 _base.py:157(_create_and_install_waiters)\n",
      "      139    0.000    0.000    0.000    0.000 util.py:347(is_cygwin_git)\n",
      "        1    0.000    0.000    0.000    0.000 repository.py:44(__init__)\n",
      "       46    0.000    0.000    0.000    0.000 base.py:261(__eq__)\n",
      "        4    0.000    0.000    0.000    0.000 _base.py:417(result)\n",
      "      129    0.000    0.000    0.000    0.000 config.py:209(getall)\n",
      "        1    0.000    0.000    0.000    0.000 symbolic.py:685(from_path)\n",
      "        2    0.000    0.000    0.000    0.000 util.py:883(_release_lock)\n",
      "        4    0.000    0.000    0.000    0.000 threading.py:404(acquire)\n",
      "        1    0.000    0.000    0.000    0.000 conf.py:77(sanity_check_filters)\n",
      "        1    0.000    0.000    0.000    0.000 util.py:139(rmfile)\n",
      "        2    0.000    0.000    0.000    0.000 weakref.py:370(remove)\n",
      "        1    0.000    0.000    0.000    0.000 threading.py:398(__init__)\n",
      "        1    0.000    0.000    0.000    0.000 conf.py:24(__init__)\n",
      "        3    0.000    0.000    0.000    0.000 config.py:212(items)\n",
      "        2    0.000    0.000    0.000    0.000 weakref.py:428(__setitem__)\n",
      "        1    0.000    0.000    0.000    0.000 {built-in method posix.remove}\n",
      "        3    0.000    0.000    0.000    0.000 config.py:214(<listcomp>)\n",
      "        4    0.000    0.000    0.000    0.000 _base.py:317(__init__)\n",
      "        1    0.000    0.000    0.000    0.000 conf.py:287(_check_timezones)\n",
      "        1    0.000    0.000    0.000    0.000 _base.py:79(__init__)\n",
      "       85    0.000    0.000    0.000    0.000 encoding.py:11(force_text)\n",
      "        4    0.000    0.000    0.000    0.000 thread.py:41(__init__)\n",
      "       95    0.000    0.000    0.000    0.000 {built-in method _stat.S_ISREG}\n",
      "        2    0.000    0.000    0.000    0.000 threading.py:768(_maintain_shutdown_locks)\n",
      "        1    0.000    0.000    0.000    0.000 conf.py:293(_replace_timezone)\n",
      "       28    0.000    0.000    0.000    0.000 {method 'rstrip' of 'bytes' objects}\n",
      "        1    0.000    0.000    0.000    0.000 conf.py:191(build_args)\n",
      "        1    0.000    0.000    0.000    0.000 conf.py:54(_sanity_check_repos)\n",
      "        1    0.000    0.000    0.000    0.000 _base.py:63(__init__)\n",
      "       28    0.000    0.000    0.000    0.000 {method 'find' of 'bytes' objects}\n",
      "        5    0.000    0.000    0.000    0.000 {method 'put' of '_queue.SimpleQueue' objects}\n",
      "        8    0.000    0.000    0.000    0.000 {method '__enter__' of '_thread.RLock' objects}\n",
      "       46    0.000    0.000    0.000    0.000 {method 'values' of 'dict' objects}\n",
      "        1    0.000    0.000    0.000    0.000 {method 'replace' of 'datetime.datetime' objects}\n",
      "        1    0.000    0.000    0.000    0.000 conf.py:65(_check_only_one_from_commit)\n",
      "        4    0.000    0.000    0.000    0.000 threading.py:82(RLock)\n",
      "        2    0.000    0.000    0.000    0.000 pathlib.py:1566(expanduser)\n",
      "        1    0.000    0.000    0.000    0.000 _base.py:146(__init__)\n",
      "        4    0.000    0.000    0.000    0.000 _base.py:387(__get_result)\n",
      "        2    0.000    0.000    0.000    0.000 conf.py:181(only_one_filter)\n",
      "       47    0.000    0.000    0.000    0.000 {built-in method builtins.issubclass}\n",
      "        1    0.000    0.000    0.000    0.000 _base.py:149(__enter__)\n",
      "        7    0.000    0.000    0.000    0.000 conf.py:36(set_value)\n",
      "        1    0.000    0.000    0.000    0.000 git.py:316(__del__)\n",
      "        2    0.000    0.000    0.000    0.000 repository.py:144(_is_remote)\n",
      "        1    0.000    0.000    0.000    0.000 {built-in method math.ceil}\n",
      "        5    0.000    0.000    0.000    0.000 {method 'remove' of 'set' objects}\n",
      "        1    0.000    0.000    0.000    0.000 configparser.py:891(set)\n",
      "        1    0.000    0.000    0.000    0.000 reference.py:46(__init__)\n",
      "        1    0.000    0.000    0.000    0.000 contextlib.py:261(helper)\n",
      "        2    0.000    0.000    0.000    0.000 threading.py:778(<listcomp>)\n",
      "        1    0.000    0.000    0.000    0.000 contextlib.py:86(__init__)\n",
      "        8    0.000    0.000    0.000    0.000 util.py:851(_has_lock)\n",
      "        1    0.000    0.000    0.000    0.000 conf.py:71(_check_only_one_to_commit)\n",
      "        1    0.000    0.000    0.000    0.000 _base.py:153(__exit__)\n",
      "        1    0.000    0.000    0.000    0.000 util.py:844(__del__)\n",
      "        1    0.000    0.000    0.000    0.000 reference.py:100(name)\n",
      "        3    0.000    0.000    0.000    0.000 config.py:699(_assure_writable)\n",
      "        1    0.000    0.000    0.000    0.000 threading.py:546(clear)\n",
      "        2    0.000    0.000    0.000    0.000 util.py:847(_lock_file_path)\n",
      "        2    0.000    0.000    0.000    0.000 {method 'difference_update' of 'set' objects}\n",
      "        1    0.000    0.000    0.000    0.000 pathlib.py:831(name)\n",
      "        4    0.000    0.000    0.000    0.000 _base.py:225(<genexpr>)\n",
      "        3    0.000    0.000    0.000    0.000 git.py:62(repo)\n",
      "        4    0.000    0.000    0.000    0.000 {method 'lstrip' of 'str' objects}\n",
      "        1    0.000    0.000    0.000    0.000 conf.py:165(get_ending_commit)\n",
      "        2    0.000    0.000    0.000    0.000 pathlib.py:1001(is_absolute)\n",
      "        4    0.000    0.000    0.000    0.000 {built-in method time.monotonic}\n",
      "        1    0.000    0.000    0.000    0.000 conf.py:142(get_starting_commit)\n",
      "        1    0.000    0.000    0.000    0.000 conf.py:114(_check_correct_filters_order)\n",
      "        4    0.000    0.000    0.000    0.000 {method 'acquire' of '_thread.RLock' objects}\n",
      "        2    0.000    0.000    0.000    0.000 {method 'remove' of 'collections.deque' objects}\n",
      "        2    0.000    0.000    0.000    0.000 conf.py:189(<listcomp>)\n",
      "        1    0.000    0.000    0.000    0.000 configparser.py:663(has_section)\n",
      "        4    0.000    0.000    0.000    0.000 {method 'release' of '_thread.RLock' objects}\n",
      "        1    0.000    0.000    0.000    0.000 util.py:840(__init__)\n",
      "        1    0.000    0.000    0.000    0.000 {method 'disable' of '_lsprof.Profiler' objects}\n",
      "        1    0.000    0.000    0.000    0.000 __init__.py:230(utcoffset)\n",
      "        1    0.000    0.000    0.000    0.000 _base.py:632(__enter__)\n",
      "        1    0.000    0.000    0.000    0.000 configparser.py:366(before_set)\n",
      "\n",
      "\n"
     ]
    }
   ],
   "source": [
    "cProfile.run('debuggingbook_change_counter(ChangeCounter)', sort='cumulative')"
   ]
  },
  {
   "cell_type": "markdown",
   "metadata": {
    "slideshow": {
     "slide_type": "subslide"
    }
   },
   "source": [
    "Yes, that's an awful lot of functions, but we can quickly narrow things down. The `cumtime` column is sorted by largest values first. We see that the `debuggingbook_change_counter()` method at the top takes up all the time – but this is not surprising, since it it the method we called in the first place. This calls a method `mine()` in the `ChangeCounter` class, which does all the work."
   ]
  },
  {
   "cell_type": "markdown",
   "metadata": {
    "slideshow": {
     "slide_type": "fragment"
    }
   },
   "source": [
    "The next places are more interesting: almost all time is spent in a single method, named `modifications()`. This method determines the difference between two versions, which is an expensive operation; this is also supported by the observation that half of the time is spent in a `diff()` method."
   ]
  },
  {
   "cell_type": "markdown",
   "metadata": {
    "slideshow": {
     "slide_type": "subslide"
    }
   },
   "source": [
    "This profile thus already gets us a hint on how to improve performance: Rather than computing the diff between versions for _every_ version, we could do so _on demand_ (and possibly cache results so we don't have to compute them twice). Alas, this (slow) functionality is part of the \n",
    "underlying [PyDriller](https://pydriller.readthedocs.io/) Python package, so we cannot fix this within the `ChangeCounter` class. But we could file a bug with the developers, suggesting a patch to improve performance."
   ]
  },
  {
   "cell_type": "markdown",
   "metadata": {
    "slideshow": {
     "slide_type": "subslide"
    }
   },
   "source": [
    "### Sampling Execution Profiles\n",
    "\n",
    "Instrumenting code is _precise_, but it is also _slow_. An alternate way to measure performance is to _sample_ in regular intervals which functions are currently active – for instance, by examining the current function call stack. The more frequently a function is sampled as active, the more time is spent in that function."
   ]
  },
  {
   "cell_type": "markdown",
   "metadata": {
    "slideshow": {
     "slide_type": "subslide"
    }
   },
   "source": [
    "One profiler for Python that implements such sampling is [Scalene](https://github.com/plasma-umass/scalene) – a high-performance, high-precision CPU, GPU, and memory profiler for Python. We can invoke it on our example as follows:\n",
    "\n",
    "```sh\n",
    "$ scalene --html test.py > scalene-out.html\n",
    "```"
   ]
  },
  {
   "cell_type": "markdown",
   "metadata": {
    "slideshow": {
     "slide_type": "fragment"
    }
   },
   "source": [
    "where `test.py` is a script that again invokes\n",
    "\n",
    "```python\n",
    "debuggingbook_change_counter(ChangeCounter)\n",
    "```"
   ]
  },
  {
   "cell_type": "markdown",
   "metadata": {
    "slideshow": {
     "slide_type": "subslide"
    }
   },
   "source": [
    "The output of `scalene` is sent to a HTML file (here, `scalene-out.html`) which is organized by _lines_ – that is, for each line, we see how much it contributed to overall execution time. Opening the output `scalene-out.html` in a HTML browswer, we see these lines:"
   ]
  },
  {
   "cell_type": "markdown",
   "metadata": {
    "slideshow": {
     "slide_type": "fragment"
    }
   },
   "source": [
    "![](PICS/scalene-out.png)"
   ]
  },
  {
   "cell_type": "markdown",
   "metadata": {
    "slideshow": {
     "slide_type": "fragment"
    }
   },
   "source": [
    "As with `cProfile`, above, we identify the `mine()` method in the `ChangeCounter` class as the main performance hog – and in the `mine()` method, it is the iteration over all modifications that takes all the time. Adding the option `--profile-all` to `scalene` would extend the profile to all executed code, including the `pydriller` third-party library."
   ]
  },
  {
   "cell_type": "markdown",
   "metadata": {
    "slideshow": {
     "slide_type": "fragment"
    }
   },
   "source": [
    "Besides relying on sampling rather that tracing (which is more efficient) and breaking down execution time by line, `scalene` also provides additional information on memory usage and more. If `cProfile` is not sufficient, then `scalene` will bring profiling to the next level."
   ]
  },
  {
   "cell_type": "markdown",
   "metadata": {
    "slideshow": {
     "slide_type": "slide"
    }
   },
   "source": [
    "## Improving Performance"
   ]
  },
  {
   "cell_type": "markdown",
   "metadata": {
    "slideshow": {
     "slide_type": "fragment"
    }
   },
   "source": [
    "Identifying a culprit is not always that easy. Notably, when the first set of obvious performance hogs is fixed, it becomes more and more difficult to squeeze out additional performance – and, as stated above, such optimization may be in conflict with readability and maintainability of your code. Here are some simple ways to improve performance:"
   ]
  },
  {
   "cell_type": "markdown",
   "metadata": {
    "slideshow": {
     "slide_type": "subslide"
    }
   },
   "source": [
    "* **Efficient algorithms**. For many tasks, the simplest algorithm is not always the best performing one. Consider alternatives that may be more efficient, and _measure_ whether they pay off.\n",
    "\n",
    "* **Efficient data types**. Remember that certain operations, such as looking up whether an element is contained, may take different amounts of time depending on the data structure. In Python, a query like `x in xs` takes (mostly) constant time if `xs` is a set, but linear time if `xs` is a list; these differences become significant as the size of `xs` grows.\n",
    "\n",
    "* **Efficient modules**. In Python, most frequently used modules (or at least parts of) are implemented in C, which is way more efficient than plain Python. Rely on existing modules whenever possible. Or implement your own, _after_ having measured that this may pay off."
   ]
  },
  {
   "cell_type": "markdown",
   "metadata": {
    "slideshow": {
     "slide_type": "subslide"
    }
   },
   "source": [
    "These are all things you can already use during programming – and also set up your code such that exchanging, say, one data type by another will still be possible later. This is best achieved by hiding implementation details (such as the used data types) behind an abstract interface used by your clients."
   ]
  },
  {
   "cell_type": "markdown",
   "metadata": {
    "slideshow": {
     "slide_type": "fragment"
    }
   },
   "source": [
    "But beyond these points, remember the famous words by [Donald J. Knuth](https://en.wikipedia.org/wiki/Donald_Knuth):"
   ]
  },
  {
   "cell_type": "code",
   "execution_count": 10,
   "metadata": {
    "execution": {
     "iopub.execute_input": "2022-01-24T09:58:56.752698Z",
     "iopub.status.busy": "2022-01-24T09:58:56.751516Z",
     "iopub.status.idle": "2022-01-24T09:58:56.755428Z",
     "shell.execute_reply": "2022-01-24T09:58:56.756928Z"
    },
    "slideshow": {
     "slide_type": "skip"
    }
   },
   "outputs": [],
   "source": [
    "from bookutils import quiz"
   ]
  },
  {
   "cell_type": "code",
   "execution_count": 11,
   "metadata": {
    "execution": {
     "iopub.execute_input": "2022-01-24T09:58:56.777051Z",
     "iopub.status.busy": "2022-01-24T09:58:56.775986Z",
     "iopub.status.idle": "2022-01-24T09:58:56.785017Z",
     "shell.execute_reply": "2022-01-24T09:58:56.785973Z"
    },
    "slideshow": {
     "slide_type": "fragment"
    }
   },
   "outputs": [
    {
     "data": {
      "text/html": [
       "\n",
       "    \n",
       "    <script>\n",
       "    var bad_answers = new Map();\n",
       "\n",
       "    function answer(quiz_id) {\n",
       "        ans = 0;\n",
       "        for (i = 1;; i++) {\n",
       "            checkbox = document.getElementById(quiz_id + \"-\" + i.toString());\n",
       "            if (!checkbox)\n",
       "                break;\n",
       "            if (checkbox.checked)\n",
       "                ans |= (1 << i);\n",
       "        }\n",
       "        return ans;\n",
       "    }\n",
       "    function check_selection(quiz_id, correct_answer, multiple_choice, hint) {\n",
       "        given_answer = answer(quiz_id);\n",
       "        if (given_answer == correct_answer)\n",
       "        {\n",
       "            document.getElementById(quiz_id + \"-submit\").value = \"Correct!\";\n",
       "            document.getElementById(quiz_id + \"-hint\").innerHTML = \"\";\n",
       "\n",
       "            for (i = 1;; i++) {\n",
       "                checkbox = document.getElementById(quiz_id + \"-\" + i.toString());\n",
       "                label = document.getElementById(quiz_id + \"-\" + i.toString() + \"-label\")\n",
       "                if (!checkbox)\n",
       "                    break;\n",
       "    \n",
       "                if (checkbox.checked) {\n",
       "                    label.style.fontWeight = \"bold\";\n",
       "                }\n",
       "                else {\n",
       "                    label.style.textDecoration = \"line-through\";\n",
       "                }\n",
       "            }\n",
       "        }\n",
       "        else \n",
       "        {\n",
       "            document.getElementById(quiz_id + \"-submit\").value = \"Try again\";\n",
       "            \n",
       "            if (!bad_answers.has(quiz_id)) {\n",
       "                bad_answers.set(quiz_id, 1);\n",
       "            }\n",
       "            else {\n",
       "                bad_answers.set(quiz_id, bad_answers.get(quiz_id) + 1);\n",
       "            }\n",
       "\n",
       "            if (bad_answers.get(quiz_id) >= 2 && hint.length > 0) {\n",
       "                document.getElementById(quiz_id + \"-hint\").innerHTML = \n",
       "                    \"&nbsp;&nbsp;(Hint: <code>\" + hint + \"</code>)\";\n",
       "            }\n",
       "\n",
       "            if (!multiple_choice) {\n",
       "                for (i = 1;; i++) {\n",
       "                    checkbox = document.getElementById(quiz_id + \"-\" + i.toString());\n",
       "                    label = document.getElementById(quiz_id + \"-\" + i.toString() + \"-label\")\n",
       "\n",
       "                    if (!checkbox)\n",
       "                        break;\n",
       "                    if (checkbox.checked) {\n",
       "                        label.style.textDecoration = \"line-through\";\n",
       "                    }\n",
       "                }\n",
       "            }\n",
       "        }\n",
       "    }\n",
       "    function clear_selection(quiz_id) {\n",
       "        document.getElementById(quiz_id + \"-submit\").value = \"Submit\";\n",
       "        document.getElementById(quiz_id + \"-hint\").innerHTML = \"\";\n",
       "    }\n",
       "    </script>\n",
       "    \n",
       "    <div class=\"quiz\">\n",
       "    <h3 class=\"quiz_title\">Quiz</h3>\n",
       "    <p>\n",
       "    <div class=\"quiz_question\">Donald J. Knuth said: \"Premature optimization...\"</div>\n",
       "    </p>\n",
       "    <p>\n",
       "    <div class=\"quiz_options\" title=\"Pick a choice.\">\n",
       "    \n",
       "        <input type=\"radio\" name=\"3eba14f4-7cfc-11ec-875d-acde48001122\" id=\"3eba14f4-7cfc-11ec-875d-acde48001122-1\" onclick=\"clear_selection('3eba14f4-7cfc-11ec-875d-acde48001122')\">\n",
       "        <label id=\"3eba14f4-7cfc-11ec-875d-acde48001122-1-label\" for=\"3eba14f4-7cfc-11ec-875d-acde48001122-1\">... is the root of all evil</label><br>\n",
       "    \n",
       "        <input type=\"radio\" name=\"3eba14f4-7cfc-11ec-875d-acde48001122\" id=\"3eba14f4-7cfc-11ec-875d-acde48001122-2\" onclick=\"clear_selection('3eba14f4-7cfc-11ec-875d-acde48001122')\">\n",
       "        <label id=\"3eba14f4-7cfc-11ec-875d-acde48001122-2-label\" for=\"3eba14f4-7cfc-11ec-875d-acde48001122-2\">... requires lots of experience</label><br>\n",
       "    \n",
       "        <input type=\"radio\" name=\"3eba14f4-7cfc-11ec-875d-acde48001122\" id=\"3eba14f4-7cfc-11ec-875d-acde48001122-3\" onclick=\"clear_selection('3eba14f4-7cfc-11ec-875d-acde48001122')\">\n",
       "        <label id=\"3eba14f4-7cfc-11ec-875d-acde48001122-3-label\" for=\"3eba14f4-7cfc-11ec-875d-acde48001122-3\">... should be left to assembly programmers</label><br>\n",
       "    \n",
       "        <input type=\"radio\" name=\"3eba14f4-7cfc-11ec-875d-acde48001122\" id=\"3eba14f4-7cfc-11ec-875d-acde48001122-4\" onclick=\"clear_selection('3eba14f4-7cfc-11ec-875d-acde48001122')\">\n",
       "        <label id=\"3eba14f4-7cfc-11ec-875d-acde48001122-4-label\" for=\"3eba14f4-7cfc-11ec-875d-acde48001122-4\">... is the reason why TeX is so fast</label><br>\n",
       "    \n",
       "    </div>\n",
       "    </p>\n",
       "    <input id=\"3eba14f4-7cfc-11ec-875d-acde48001122-submit\" type=\"submit\" value=\"Submit\" onclick=\"check_selection('3eba14f4-7cfc-11ec-875d-acde48001122', 2, 0, 'len(&quot;METAFONT&quot;) - len(&quot;TeX&quot;) - len(&quot;CWEB&quot;)')\">\n",
       "    <span class=\"quiz_hint\" id=\"3eba14f4-7cfc-11ec-875d-acde48001122-hint\"></span>\n",
       "    </div>\n",
       "    "
      ],
      "text/plain": [
       "<IPython.core.display.HTML object>"
      ]
     },
     "execution_count": 11,
     "metadata": {},
     "output_type": "execute_result"
    }
   ],
   "source": [
    "quiz('Donald J. Knuth said: \"Premature optimization...\"',\n",
    "    [\n",
    "        \"... is the root of all evil\",\n",
    "        \"... requires lots of experience\",\n",
    "        \"... should be left to assembly programmers\",\n",
    "        \"... is the reason why TeX is so fast\",\n",
    "    ], 'len(\"METAFONT\") - len(\"TeX\") - len(\"CWEB\")')"
   ]
  },
  {
   "cell_type": "markdown",
   "metadata": {
    "slideshow": {
     "slide_type": "subslide"
    }
   },
   "source": [
    "This quote should always remind us that after a good design, you should always _first_ measure and _then_ optimize."
   ]
  },
  {
   "cell_type": "markdown",
   "metadata": {
    "slideshow": {
     "slide_type": "slide"
    }
   },
   "source": [
    "## Building a Profiler\n",
    "\n",
    "Having discussed profilers from a _user_ perspective, let us now dive into how they are actually implemented. It turns out we can use most of our existing infrastructure to implement a simple tracing profiler with only a few lines of code."
   ]
  },
  {
   "cell_type": "markdown",
   "metadata": {
    "slideshow": {
     "slide_type": "fragment"
    }
   },
   "source": [
    "The program we will apply our profiler on is – surprise! – our ongoing example, `remove_html_markup()`. Our aim is to understand how much time is spent _in each line of the code_ (such that we have a new feature on top of Python `cProfile`)."
   ]
  },
  {
   "cell_type": "code",
   "execution_count": 12,
   "metadata": {
    "execution": {
     "iopub.execute_input": "2022-01-24T09:58:56.796424Z",
     "iopub.status.busy": "2022-01-24T09:58:56.795164Z",
     "iopub.status.idle": "2022-01-24T09:58:56.799107Z",
     "shell.execute_reply": "2022-01-24T09:58:56.800240Z"
    },
    "slideshow": {
     "slide_type": "skip"
    }
   },
   "outputs": [],
   "source": [
    "from Intro_Debugging import remove_html_markup"
   ]
  },
  {
   "cell_type": "code",
   "execution_count": 13,
   "metadata": {
    "execution": {
     "iopub.execute_input": "2022-01-24T09:58:56.807386Z",
     "iopub.status.busy": "2022-01-24T09:58:56.806228Z",
     "iopub.status.idle": "2022-01-24T09:58:56.809452Z",
     "shell.execute_reply": "2022-01-24T09:58:56.810410Z"
    },
    "slideshow": {
     "slide_type": "fragment"
    }
   },
   "outputs": [],
   "source": [
    "# ignore\n",
    "from typing import Any, Optional, Type, Dict, Tuple, List"
   ]
  },
  {
   "cell_type": "code",
   "execution_count": 14,
   "metadata": {
    "execution": {
     "iopub.execute_input": "2022-01-24T09:58:56.818482Z",
     "iopub.status.busy": "2022-01-24T09:58:56.817469Z",
     "iopub.status.idle": "2022-01-24T09:58:56.820747Z",
     "shell.execute_reply": "2022-01-24T09:58:56.821751Z"
    },
    "slideshow": {
     "slide_type": "fragment"
    }
   },
   "outputs": [],
   "source": [
    "# ignore\n",
    "from bookutils import print_content"
   ]
  },
  {
   "cell_type": "code",
   "execution_count": 15,
   "metadata": {
    "execution": {
     "iopub.execute_input": "2022-01-24T09:58:56.828208Z",
     "iopub.status.busy": "2022-01-24T09:58:56.827187Z",
     "iopub.status.idle": "2022-01-24T09:58:56.831554Z",
     "shell.execute_reply": "2022-01-24T09:58:56.833463Z"
    },
    "slideshow": {
     "slide_type": "subslide"
    }
   },
   "outputs": [],
   "source": [
    "# ignore\n",
    "import inspect"
   ]
  },
  {
   "cell_type": "code",
   "execution_count": 16,
   "metadata": {
    "execution": {
     "iopub.execute_input": "2022-01-24T09:58:56.890686Z",
     "iopub.status.busy": "2022-01-24T09:58:56.845065Z",
     "iopub.status.idle": "2022-01-24T09:58:57.368332Z",
     "shell.execute_reply": "2022-01-24T09:58:57.371241Z"
    },
    "slideshow": {
     "slide_type": "subslide"
    }
   },
   "outputs": [
    {
     "name": "stdout",
     "output_type": "stream",
     "text": [
      "238  \u001b[34mdef\u001b[39;49;00m \u001b[32mremove_html_markup\u001b[39;49;00m(s):  \u001b[37m# type: ignore\u001b[39;49;00m\n",
      "239      tag = \u001b[34mFalse\u001b[39;49;00m\n",
      "240      quote = \u001b[34mFalse\u001b[39;49;00m\n",
      "241      out = \u001b[33m\"\u001b[39;49;00m\u001b[33m\"\u001b[39;49;00m\n",
      "242  \n",
      "243      \u001b[34mfor\u001b[39;49;00m c \u001b[35min\u001b[39;49;00m s:\n",
      "244          \u001b[34massert\u001b[39;49;00m tag \u001b[35mor\u001b[39;49;00m \u001b[35mnot\u001b[39;49;00m quote\n",
      "245  \n",
      "246          \u001b[34mif\u001b[39;49;00m c == \u001b[33m'\u001b[39;49;00m\u001b[33m<\u001b[39;49;00m\u001b[33m'\u001b[39;49;00m \u001b[35mand\u001b[39;49;00m \u001b[35mnot\u001b[39;49;00m quote:\n",
      "247              tag = \u001b[34mTrue\u001b[39;49;00m\n",
      "248          \u001b[34melif\u001b[39;49;00m c == \u001b[33m'\u001b[39;49;00m\u001b[33m>\u001b[39;49;00m\u001b[33m'\u001b[39;49;00m \u001b[35mand\u001b[39;49;00m \u001b[35mnot\u001b[39;49;00m quote:\n",
      "249              tag = \u001b[34mFalse\u001b[39;49;00m\n",
      "250          \u001b[34melif\u001b[39;49;00m (c == \u001b[33m'\u001b[39;49;00m\u001b[33m\"\u001b[39;49;00m\u001b[33m'\u001b[39;49;00m \u001b[35mor\u001b[39;49;00m c == \u001b[33m\"\u001b[39;49;00m\u001b[33m'\u001b[39;49;00m\u001b[33m\"\u001b[39;49;00m) \u001b[35mand\u001b[39;49;00m tag:\n",
      "251              quote = \u001b[35mnot\u001b[39;49;00m quote\n",
      "252          \u001b[34melif\u001b[39;49;00m \u001b[35mnot\u001b[39;49;00m tag:\n",
      "253              out = out + c\n",
      "254  \n",
      "255      \u001b[34mreturn\u001b[39;49;00m out"
     ]
    }
   ],
   "source": [
    "print_content(inspect.getsource(remove_html_markup), '.py',\n",
    "              start_line_number=238)"
   ]
  },
  {
   "cell_type": "markdown",
   "metadata": {
    "slideshow": {
     "slide_type": "subslide"
    }
   },
   "source": [
    "We introduce a class `PerformanceTracer` that tracks, for each line in the code:\n",
    "\n",
    "* how _often_ it was executed (`hits`), and\n",
    "* _how much time_ was spent during its execution (`time`).\n",
    "\n",
    "To this end, we make use of our `Timer` class, which measures time, and the `Tracer` class from [the chapter on tracing](Tracer.ipynb), which allows us to track every line of the program as it is being executed."
   ]
  },
  {
   "cell_type": "code",
   "execution_count": 17,
   "metadata": {
    "execution": {
     "iopub.execute_input": "2022-01-24T09:58:57.383705Z",
     "iopub.status.busy": "2022-01-24T09:58:57.382103Z",
     "iopub.status.idle": "2022-01-24T09:58:57.385759Z",
     "shell.execute_reply": "2022-01-24T09:58:57.386389Z"
    },
    "slideshow": {
     "slide_type": "skip"
    }
   },
   "outputs": [],
   "source": [
    "from Tracer import Tracer"
   ]
  },
  {
   "cell_type": "markdown",
   "metadata": {
    "slideshow": {
     "slide_type": "fragment"
    }
   },
   "source": [
    "In `PerfomanceTracker`, the attributes `hits` and `time` are mappings indexed by unique locations – that is, pairs of function name and line number."
   ]
  },
  {
   "cell_type": "code",
   "execution_count": 18,
   "metadata": {
    "execution": {
     "iopub.execute_input": "2022-01-24T09:58:57.394171Z",
     "iopub.status.busy": "2022-01-24T09:58:57.392391Z",
     "iopub.status.idle": "2022-01-24T09:58:57.395629Z",
     "shell.execute_reply": "2022-01-24T09:58:57.396589Z"
    },
    "slideshow": {
     "slide_type": "fragment"
    }
   },
   "outputs": [],
   "source": [
    "Location = Tuple[str, int]"
   ]
  },
  {
   "cell_type": "code",
   "execution_count": 19,
   "metadata": {
    "execution": {
     "iopub.execute_input": "2022-01-24T09:58:57.404729Z",
     "iopub.status.busy": "2022-01-24T09:58:57.403890Z",
     "iopub.status.idle": "2022-01-24T09:58:57.406130Z",
     "shell.execute_reply": "2022-01-24T09:58:57.407416Z"
    },
    "slideshow": {
     "slide_type": "subslide"
    }
   },
   "outputs": [],
   "source": [
    "class PerformanceTracer(Tracer):\n",
    "    \"\"\"Trace time and #hits for individual program lines\"\"\"\n",
    "\n",
    "    def __init__(self) -> None:\n",
    "        \"\"\"Constructor.\"\"\"\n",
    "        super().__init__()\n",
    "        self.reset_timer()\n",
    "        self.hits: Dict[Location, int] = {}\n",
    "        self.time: Dict[Location, float] = {}\n",
    "\n",
    "    def reset_timer(self) -> None:\n",
    "        self.timer = Timer.Timer()"
   ]
  },
  {
   "cell_type": "markdown",
   "metadata": {
    "slideshow": {
     "slide_type": "subslide"
    }
   },
   "source": [
    "As common in this book, we want to use `PerformanceTracer` in a `with`-block around the function call(s) to be tracked:\n",
    "\n",
    "```python\n",
    "with PerformanceTracer() as perf_tracer:\n",
    "    function(...)\n",
    "```"
   ]
  },
  {
   "cell_type": "markdown",
   "metadata": {
    "slideshow": {
     "slide_type": "fragment"
    }
   },
   "source": [
    "When entering the `with` block (`__enter__()`), we reset all timers. Also, coming from the `__enter__()` method of the superclass `Tracer`, we enable tracing through the `traceit()` method."
   ]
  },
  {
   "cell_type": "code",
   "execution_count": 20,
   "metadata": {
    "execution": {
     "iopub.execute_input": "2022-01-24T09:58:57.414192Z",
     "iopub.status.busy": "2022-01-24T09:58:57.412849Z",
     "iopub.status.idle": "2022-01-24T09:58:57.415431Z",
     "shell.execute_reply": "2022-01-24T09:58:57.416050Z"
    },
    "slideshow": {
     "slide_type": "skip"
    }
   },
   "outputs": [],
   "source": [
    "from types import FrameType"
   ]
  },
  {
   "cell_type": "code",
   "execution_count": 21,
   "metadata": {
    "execution": {
     "iopub.execute_input": "2022-01-24T09:58:57.424143Z",
     "iopub.status.busy": "2022-01-24T09:58:57.422970Z",
     "iopub.status.idle": "2022-01-24T09:58:57.425782Z",
     "shell.execute_reply": "2022-01-24T09:58:57.426554Z"
    },
    "slideshow": {
     "slide_type": "subslide"
    }
   },
   "outputs": [],
   "source": [
    "class PerformanceTracer(PerformanceTracer):\n",
    "    def __enter__(self) -> Any:\n",
    "        \"\"\"Enter a `with` block.\"\"\"\n",
    "        super().__enter__()\n",
    "        self.reset_timer()\n",
    "        return self"
   ]
  },
  {
   "cell_type": "markdown",
   "metadata": {
    "slideshow": {
     "slide_type": "fragment"
    }
   },
   "source": [
    "The `traceit()` method extracts the current location. It increases the corresponding `hits` value by 1, and adds the elapsed time to the corresponding `time`."
   ]
  },
  {
   "cell_type": "code",
   "execution_count": 22,
   "metadata": {
    "execution": {
     "iopub.execute_input": "2022-01-24T09:58:57.437135Z",
     "iopub.status.busy": "2022-01-24T09:58:57.436207Z",
     "iopub.status.idle": "2022-01-24T09:58:57.438678Z",
     "shell.execute_reply": "2022-01-24T09:58:57.439711Z"
    },
    "slideshow": {
     "slide_type": "subslide"
    }
   },
   "outputs": [],
   "source": [
    "class PerformanceTracer(PerformanceTracer):\n",
    "    def traceit(self, frame: FrameType, event: str, arg: Any) -> None:\n",
    "        \"\"\"Tracing function; called for every line.\"\"\"\n",
    "        t = self.timer.elapsed_time()\n",
    "        location = (frame.f_code.co_name, frame.f_lineno)\n",
    "\n",
    "        self.hits.setdefault(location, 0)\n",
    "        self.time.setdefault(location, 0.0)\n",
    "        self.hits[location] += 1\n",
    "        self.time[location] += t\n",
    "\n",
    "        self.reset_timer()"
   ]
  },
  {
   "cell_type": "markdown",
   "metadata": {
    "slideshow": {
     "slide_type": "fragment"
    }
   },
   "source": [
    "This is it already. We can now determine where most time is spent in `remove_html_markup()`. We invoke it 10,000 times such that we can average over runs:"
   ]
  },
  {
   "cell_type": "code",
   "execution_count": 23,
   "metadata": {
    "execution": {
     "iopub.execute_input": "2022-01-24T09:58:57.541983Z",
     "iopub.status.busy": "2022-01-24T09:58:57.498316Z",
     "iopub.status.idle": "2022-01-24T09:59:01.583134Z",
     "shell.execute_reply": "2022-01-24T09:59:01.583831Z"
    },
    "slideshow": {
     "slide_type": "subslide"
    }
   },
   "outputs": [],
   "source": [
    "with PerformanceTracer() as perf_tracer:\n",
    "    for i in range(10000):\n",
    "        s = remove_html_markup('<b>foo</b>')"
   ]
  },
  {
   "cell_type": "markdown",
   "metadata": {
    "slideshow": {
     "slide_type": "fragment"
    }
   },
   "source": [
    "Here are the hits. For every line executed, we see how often it was executed. The most executed line is the `for` loop with 110,000 hits – once for each of the 10 characters in `<b>foo</b>`, once for the final check, and all of this 10,000 times."
   ]
  },
  {
   "cell_type": "code",
   "execution_count": 24,
   "metadata": {
    "execution": {
     "iopub.execute_input": "2022-01-24T09:59:01.590974Z",
     "iopub.status.busy": "2022-01-24T09:59:01.590041Z",
     "iopub.status.idle": "2022-01-24T09:59:01.594513Z",
     "shell.execute_reply": "2022-01-24T09:59:01.595039Z"
    },
    "slideshow": {
     "slide_type": "subslide"
    }
   },
   "outputs": [
    {
     "data": {
      "text/plain": [
       "{('__init__', 17): 1,\n",
       " ('__init__', 19): 1,\n",
       " ('clock', 8): 1,\n",
       " ('clock', 12): 2,\n",
       " ('__init__', 20): 2,\n",
       " ('remove_html_markup', 238): 10000,\n",
       " ('remove_html_markup', 239): 10000,\n",
       " ('remove_html_markup', 240): 10000,\n",
       " ('remove_html_markup', 241): 10000,\n",
       " ('remove_html_markup', 243): 110000,\n",
       " ('remove_html_markup', 244): 100000,\n",
       " ('remove_html_markup', 246): 100000,\n",
       " ('remove_html_markup', 247): 20000,\n",
       " ('remove_html_markup', 248): 80000,\n",
       " ('remove_html_markup', 250): 60000,\n",
       " ('remove_html_markup', 252): 60000,\n",
       " ('remove_html_markup', 249): 20000,\n",
       " ('remove_html_markup', 253): 30000,\n",
       " ('remove_html_markup', 255): 20000}"
      ]
     },
     "execution_count": 24,
     "metadata": {},
     "output_type": "execute_result"
    }
   ],
   "source": [
    "perf_tracer.hits"
   ]
  },
  {
   "cell_type": "markdown",
   "metadata": {
    "slideshow": {
     "slide_type": "subslide"
    }
   },
   "source": [
    "The `time` attribute collects how much time was spent in each line. Within the loop, again, the `for` statement takes the most time. The other lines show some variability, though."
   ]
  },
  {
   "cell_type": "code",
   "execution_count": 25,
   "metadata": {
    "execution": {
     "iopub.execute_input": "2022-01-24T09:59:01.602925Z",
     "iopub.status.busy": "2022-01-24T09:59:01.601815Z",
     "iopub.status.idle": "2022-01-24T09:59:01.605771Z",
     "shell.execute_reply": "2022-01-24T09:59:01.606587Z"
    },
    "slideshow": {
     "slide_type": "subslide"
    }
   },
   "outputs": [
    {
     "data": {
      "text/plain": [
       "{('__init__', 17): 3.796600003624917e-05,\n",
       " ('__init__', 19): 4.663000026994268e-06,\n",
       " ('clock', 8): 4.119999971408106e-06,\n",
       " ('clock', 12): 6.640000037805294e-06,\n",
       " ('__init__', 20): 2.149700003428734e-05,\n",
       " ('remove_html_markup', 238): 0.06302068500212954,\n",
       " ('remove_html_markup', 239): 0.04504818200007321,\n",
       " ('remove_html_markup', 240): 0.03802822699594799,\n",
       " ('remove_html_markup', 241): 0.036285636000911836,\n",
       " ('remove_html_markup', 243): 0.38461856999015254,\n",
       " ('remove_html_markup', 244): 0.3136394279748629,\n",
       " ('remove_html_markup', 246): 0.41882973497524745,\n",
       " ('remove_html_markup', 247): 0.06675210799915021,\n",
       " ('remove_html_markup', 248): 0.25051351302170133,\n",
       " ('remove_html_markup', 250): 0.18024258101081614,\n",
       " ('remove_html_markup', 252): 0.19610473199838907,\n",
       " ('remove_html_markup', 249): 0.062170259007302775,\n",
       " ('remove_html_markup', 253): 0.12061479300280098,\n",
       " ('remove_html_markup', 255): 0.06108727599144004}"
      ]
     },
     "execution_count": 25,
     "metadata": {},
     "output_type": "execute_result"
    }
   ],
   "source": [
    "perf_tracer.time"
   ]
  },
  {
   "cell_type": "markdown",
   "metadata": {
    "slideshow": {
     "slide_type": "subslide"
    }
   },
   "source": [
    "For a full profiler, these numbers would now be sorted and printed in a table, much like `cProfile` does. However, we will borrow some material from previous chapters and annotate our code accordingly."
   ]
  },
  {
   "cell_type": "markdown",
   "metadata": {
    "slideshow": {
     "slide_type": "slide"
    }
   },
   "source": [
    "## Visualizing Performance Metrics\n",
    "\n",
    "In the [chapter on statistical debugging](StatisticalDebugger.ipynb), we have encountered the `CoverageCollector` class, which collects line and function coverage during execution, using a `collect()` method that is invoked for every line. We will repurpose this class to collect arbitrary _metrics_ on the lines executed, notably time taken."
   ]
  },
  {
   "cell_type": "markdown",
   "metadata": {
    "slideshow": {
     "slide_type": "subslide"
    }
   },
   "source": [
    "### Collecting Time Spent"
   ]
  },
  {
   "cell_type": "code",
   "execution_count": 26,
   "metadata": {
    "execution": {
     "iopub.execute_input": "2022-01-24T09:59:01.613553Z",
     "iopub.status.busy": "2022-01-24T09:59:01.612305Z",
     "iopub.status.idle": "2022-01-24T09:59:01.616015Z",
     "shell.execute_reply": "2022-01-24T09:59:01.615323Z"
    },
    "slideshow": {
     "slide_type": "skip"
    }
   },
   "outputs": [],
   "source": [
    "from StatisticalDebugger import CoverageCollector, SpectrumDebugger"
   ]
  },
  {
   "cell_type": "markdown",
   "metadata": {
    "slideshow": {
     "slide_type": "fragment"
    }
   },
   "source": [
    "The `MetricCollector` class is an abstract superclass that provides an interface to access a particular metric."
   ]
  },
  {
   "cell_type": "code",
   "execution_count": 27,
   "metadata": {
    "execution": {
     "iopub.execute_input": "2022-01-24T09:59:01.622015Z",
     "iopub.status.busy": "2022-01-24T09:59:01.621216Z",
     "iopub.status.idle": "2022-01-24T09:59:01.623212Z",
     "shell.execute_reply": "2022-01-24T09:59:01.624158Z"
    },
    "slideshow": {
     "slide_type": "fragment"
    }
   },
   "outputs": [],
   "source": [
    "class MetricCollector(CoverageCollector):\n",
    "    \"\"\"Abstract superclass for collecting line-specific metrics\"\"\"\n",
    "\n",
    "    def metric(self, event: Any) -> Optional[float]:\n",
    "        \"\"\"Return a metric for an event, or none.\"\"\"\n",
    "        return None\n",
    "\n",
    "    def all_metrics(self, func: str) -> List[float]:\n",
    "        \"\"\"Return all metric for a function `func`.\"\"\"\n",
    "        return []"
   ]
  },
  {
   "cell_type": "markdown",
   "metadata": {
    "slideshow": {
     "slide_type": "fragment"
    }
   },
   "source": [
    "Given these metrics, we can also compute sums and maxima for a single function."
   ]
  },
  {
   "cell_type": "code",
   "execution_count": 28,
   "metadata": {
    "execution": {
     "iopub.execute_input": "2022-01-24T09:59:01.634852Z",
     "iopub.status.busy": "2022-01-24T09:59:01.633829Z",
     "iopub.status.idle": "2022-01-24T09:59:01.637352Z",
     "shell.execute_reply": "2022-01-24T09:59:01.636395Z"
    },
    "slideshow": {
     "slide_type": "subslide"
    }
   },
   "outputs": [],
   "source": [
    "class MetricCollector(MetricCollector):\n",
    "    def total(self, func: str) -> float:\n",
    "        return sum(self.all_metrics(func))\n",
    "\n",
    "    def maximum(self, func: str) -> float:\n",
    "        return max(self.all_metrics(func))"
   ]
  },
  {
   "cell_type": "markdown",
   "metadata": {
    "slideshow": {
     "slide_type": "fragment"
    }
   },
   "source": [
    "Let us instantiate this superclass into `TimeCollector` – a subclass that measures time. This is modeled after our `PerformanceTracer` class, above; notably, the `time` attribute serves the same role."
   ]
  },
  {
   "cell_type": "code",
   "execution_count": 29,
   "metadata": {
    "execution": {
     "iopub.execute_input": "2022-01-24T09:59:01.648308Z",
     "iopub.status.busy": "2022-01-24T09:59:01.647245Z",
     "iopub.status.idle": "2022-01-24T09:59:01.650661Z",
     "shell.execute_reply": "2022-01-24T09:59:01.650046Z"
    },
    "slideshow": {
     "slide_type": "subslide"
    }
   },
   "outputs": [],
   "source": [
    "class TimeCollector(MetricCollector):\n",
    "    \"\"\"Collect time executed for each line\"\"\"\n",
    "\n",
    "    def __init__(self) -> None:\n",
    "        \"\"\"Constructor\"\"\"\n",
    "        super().__init__()\n",
    "        self.reset_timer()\n",
    "        self.time: Dict[Location, float] = {}\n",
    "        self.add_items_to_ignore([Timer.Timer, Timer.clock])\n",
    "\n",
    "    def collect(self, frame: FrameType, event: str, arg: Any) -> None:\n",
    "        \"\"\"Invoked for every line executed. Accumulate time spent.\"\"\"\n",
    "        t = self.timer.elapsed_time()\n",
    "        super().collect(frame, event, arg)\n",
    "        location = (frame.f_code.co_name, frame.f_lineno)\n",
    "\n",
    "        self.time.setdefault(location, 0.0)\n",
    "        self.time[location] += t\n",
    "\n",
    "        self.reset_timer()\n",
    "\n",
    "    def reset_timer(self) -> None:\n",
    "        self.timer = Timer.Timer()\n",
    "\n",
    "    def __enter__(self) -> Any:\n",
    "        super().__enter__()\n",
    "        self.reset_timer()\n",
    "        return self"
   ]
  },
  {
   "cell_type": "markdown",
   "metadata": {
    "slideshow": {
     "slide_type": "subslide"
    }
   },
   "source": [
    "The `metric()` and `all_metrics()` methods accumulate the metric (time taken) for an individual function:"
   ]
  },
  {
   "cell_type": "code",
   "execution_count": 30,
   "metadata": {
    "execution": {
     "iopub.execute_input": "2022-01-24T09:59:01.658492Z",
     "iopub.status.busy": "2022-01-24T09:59:01.657579Z",
     "iopub.status.idle": "2022-01-24T09:59:01.660101Z",
     "shell.execute_reply": "2022-01-24T09:59:01.660749Z"
    },
    "slideshow": {
     "slide_type": "fragment"
    }
   },
   "outputs": [],
   "source": [
    "class TimeCollector(TimeCollector):\n",
    "    def metric(self, location: Any) -> Optional[float]:\n",
    "        if location in self.time:\n",
    "            return self.time[location]\n",
    "        else:\n",
    "            return None\n",
    "\n",
    "    def all_metrics(self, func: str) -> List[float]:\n",
    "        return [time\n",
    "                for (func_name, lineno), time in self.time.items()\n",
    "                if func_name == func]"
   ]
  },
  {
   "cell_type": "markdown",
   "metadata": {
    "slideshow": {
     "slide_type": "fragment"
    }
   },
   "source": [
    "Here's how to use `TimeCollector()` – again, in a `with` block:"
   ]
  },
  {
   "cell_type": "code",
   "execution_count": 31,
   "metadata": {
    "execution": {
     "iopub.execute_input": "2022-01-24T09:59:01.722583Z",
     "iopub.status.busy": "2022-01-24T09:59:01.705133Z",
     "iopub.status.idle": "2022-01-24T09:59:01.724811Z",
     "shell.execute_reply": "2022-01-24T09:59:01.725313Z"
    },
    "slideshow": {
     "slide_type": "subslide"
    }
   },
   "outputs": [],
   "source": [
    "with TimeCollector() as collector:\n",
    "    for i in range(100):\n",
    "        s = remove_html_markup('<b>foo</b>')"
   ]
  },
  {
   "cell_type": "markdown",
   "metadata": {
    "slideshow": {
     "slide_type": "fragment"
    }
   },
   "source": [
    "The `time` attribute holds the time spent in each line:"
   ]
  },
  {
   "cell_type": "code",
   "execution_count": 32,
   "metadata": {
    "execution": {
     "iopub.execute_input": "2022-01-24T09:59:01.732176Z",
     "iopub.status.busy": "2022-01-24T09:59:01.730535Z",
     "iopub.status.idle": "2022-01-24T09:59:01.737067Z",
     "shell.execute_reply": "2022-01-24T09:59:01.737591Z"
    },
    "slideshow": {
     "slide_type": "subslide"
    }
   },
   "outputs": [
    {
     "name": "stdout",
     "output_type": "stream",
     "text": [
      "('remove_html_markup', 238) 0.0008912959993949698\n",
      "('remove_html_markup', 239) 0.0005870309995543721\n",
      "('remove_html_markup', 240) 0.0005346510005210803\n",
      "('remove_html_markup', 241) 0.0005234099998006059\n",
      "('remove_html_markup', 243) 0.00502358299934258\n",
      "('remove_html_markup', 244) 0.004232055000102264\n",
      "('remove_html_markup', 246) 0.004178196999873762\n",
      "('remove_html_markup', 247) 0.0008983730004956669\n",
      "('remove_html_markup', 248) 0.0036941050008181264\n",
      "('remove_html_markup', 250) 0.0025269600017736593\n",
      "('remove_html_markup', 252) 0.002639149000856378\n",
      "('remove_html_markup', 249) 0.0008779499986530936\n",
      "('remove_html_markup', 253) 0.001283531999661136\n",
      "('remove_html_markup', 255) 0.0009228349999830243\n"
     ]
    }
   ],
   "source": [
    "for location, time_spent in collector.time.items():\n",
    "    print(location, time_spent)"
   ]
  },
  {
   "cell_type": "markdown",
   "metadata": {
    "slideshow": {
     "slide_type": "subslide"
    }
   },
   "source": [
    "And we can also create a total for an entire function:"
   ]
  },
  {
   "cell_type": "code",
   "execution_count": 33,
   "metadata": {
    "execution": {
     "iopub.execute_input": "2022-01-24T09:59:01.745172Z",
     "iopub.status.busy": "2022-01-24T09:59:01.744185Z",
     "iopub.status.idle": "2022-01-24T09:59:01.748055Z",
     "shell.execute_reply": "2022-01-24T09:59:01.748665Z"
    },
    "slideshow": {
     "slide_type": "fragment"
    }
   },
   "outputs": [
    {
     "data": {
      "text/plain": [
       "0.02881312700083072"
      ]
     },
     "execution_count": 33,
     "metadata": {},
     "output_type": "execute_result"
    }
   ],
   "source": [
    "collector.total('remove_html_markup')"
   ]
  },
  {
   "cell_type": "markdown",
   "metadata": {
    "slideshow": {
     "slide_type": "subslide"
    }
   },
   "source": [
    "### Visualizing Time Spent\n",
    "\n",
    "Let us now go and visualize these numbers in a simple form. The idea is to assign each line a _color_ whose saturation indicates the time spent in that line relative to the time spent in the function overall  – the higher the fraction, the darker the line. We create a `MetricDebugger` class built as a specialization of `SpectrumDebugger`, in which `suspiciousness()` and `color()` are repurposed to show these metrics."
   ]
  },
  {
   "cell_type": "code",
   "execution_count": 34,
   "metadata": {
    "execution": {
     "iopub.execute_input": "2022-01-24T09:59:01.762979Z",
     "iopub.status.busy": "2022-01-24T09:59:01.760645Z",
     "iopub.status.idle": "2022-01-24T09:59:01.764017Z",
     "shell.execute_reply": "2022-01-24T09:59:01.764725Z"
    },
    "slideshow": {
     "slide_type": "subslide"
    }
   },
   "outputs": [],
   "source": [
    "class MetricDebugger(SpectrumDebugger):\n",
    "    \"\"\"Visualize a metric\"\"\"\n",
    "\n",
    "    def metric(self, location: Location) -> float:\n",
    "        sum = 0.0\n",
    "        for outcome in self.collectors:\n",
    "            for collector in self.collectors[outcome]:\n",
    "                assert isinstance(collector, MetricCollector)\n",
    "                m = collector.metric(location)\n",
    "                if m is not None:\n",
    "                    sum += m  # type: ignore\n",
    "\n",
    "        return sum\n",
    "\n",
    "    def total(self, func_name: str) -> float:\n",
    "        total = 0.0\n",
    "        for outcome in self.collectors:\n",
    "            for collector in self.collectors[outcome]:\n",
    "                assert isinstance(collector, MetricCollector)\n",
    "                total += sum(collector.all_metrics(func_name))\n",
    "\n",
    "        return total\n",
    "\n",
    "    def maximum(self, func_name: str) -> float:\n",
    "        maximum = 0.0\n",
    "        for outcome in self.collectors:\n",
    "            for collector in self.collectors[outcome]:\n",
    "                assert isinstance(collector, MetricCollector)\n",
    "                maximum = max(maximum, \n",
    "                              max(collector.all_metrics(func_name)))\n",
    "\n",
    "        return maximum\n",
    "\n",
    "    def suspiciousness(self, location: Location) -> float:\n",
    "        func_name, _ = location\n",
    "        return self.metric(location) / self.total(func_name)\n",
    "\n",
    "    def color(self, location: Location) -> str:\n",
    "        func_name, _ = location\n",
    "        hue = 240  # blue\n",
    "        saturation = 100  # fully saturated\n",
    "        darkness = self.metric(location) / self.maximum(func_name)\n",
    "        lightness = 100 - darkness * 25\n",
    "        return f\"hsl({hue}, {saturation}%, {lightness}%)\"\n",
    "\n",
    "    def tooltip(self, location: Location) -> str:\n",
    "        return f\"{super().tooltip(location)} {self.metric(location)}\""
   ]
  },
  {
   "cell_type": "markdown",
   "metadata": {
    "slideshow": {
     "slide_type": "subslide"
    }
   },
   "source": [
    "We can now introduce `PerformanceDebugger` as a subclass of `MetricDebugger`, using an arbitrary `MetricCollector` (such as `TimeCollector`) to obtain the metric we want to visualize."
   ]
  },
  {
   "cell_type": "code",
   "execution_count": 35,
   "metadata": {
    "execution": {
     "iopub.execute_input": "2022-01-24T09:59:01.771643Z",
     "iopub.status.busy": "2022-01-24T09:59:01.770568Z",
     "iopub.status.idle": "2022-01-24T09:59:01.774131Z",
     "shell.execute_reply": "2022-01-24T09:59:01.773496Z"
    },
    "slideshow": {
     "slide_type": "fragment"
    }
   },
   "outputs": [],
   "source": [
    "class PerformanceDebugger(MetricDebugger):\n",
    "    \"\"\"Collect and visualize a metric\"\"\"\n",
    "\n",
    "    def __init__(self, collector_class: Type, log: bool = False):\n",
    "        assert issubclass(collector_class, MetricCollector)\n",
    "        super().__init__(collector_class, log=log)"
   ]
  },
  {
   "cell_type": "markdown",
   "metadata": {
    "slideshow": {
     "slide_type": "fragment"
    }
   },
   "source": [
    "With `PerformanceDebugger`, we inherit all the capabilities of `SpectrumDebugger`, such as showing the (relative) percentage of time spent in a table. We see that the `for` condition and the following `assert` take most of the time, followed by the first condition."
   ]
  },
  {
   "cell_type": "code",
   "execution_count": 36,
   "metadata": {
    "execution": {
     "iopub.execute_input": "2022-01-24T09:59:01.840052Z",
     "iopub.status.busy": "2022-01-24T09:59:01.816489Z",
     "iopub.status.idle": "2022-01-24T09:59:01.842810Z",
     "shell.execute_reply": "2022-01-24T09:59:01.843579Z"
    },
    "slideshow": {
     "slide_type": "subslide"
    }
   },
   "outputs": [],
   "source": [
    "with PerformanceDebugger(TimeCollector) as debugger:\n",
    "    for i in range(100):\n",
    "        s = remove_html_markup('<b>foo</b>')"
   ]
  },
  {
   "cell_type": "code",
   "execution_count": 37,
   "metadata": {
    "execution": {
     "iopub.execute_input": "2022-01-24T09:59:01.851992Z",
     "iopub.status.busy": "2022-01-24T09:59:01.850972Z",
     "iopub.status.idle": "2022-01-24T09:59:01.857629Z",
     "shell.execute_reply": "2022-01-24T09:59:01.858220Z"
    },
    "slideshow": {
     "slide_type": "subslide"
    }
   },
   "outputs": [
    {
     "name": "stdout",
     "output_type": "stream",
     "text": [
      " 238   2% def remove_html_markup(s):  # type: ignore\n",
      " 239   1%     tag = False\n",
      " 240   1%     quote = False\n",
      " 241   1%     out = \"\"\n",
      " 242   0%\n",
      " 243  17%     for c in s:\n",
      " 244  15%         assert tag or not quote\n",
      " 245   0%\n",
      " 246  14%         if c == '<' and not quote:\n",
      " 247   2%             tag = True\n",
      " 248  12%         elif c == '>' and not quote:\n",
      " 249   3%             tag = False\n",
      " 250   9%         elif (c == '\"' or c == \"'\") and tag:\n",
      " 251   0%             quote = not quote\n",
      " 252   8%         elif not tag:\n",
      " 253   4%             out = out + c\n",
      " 254   0%\n",
      " 255   3%     return out\n",
      "\n"
     ]
    }
   ],
   "source": [
    "print(debugger)"
   ]
  },
  {
   "cell_type": "markdown",
   "metadata": {
    "slideshow": {
     "slide_type": "subslide"
    }
   },
   "source": [
    "However, we can also visualize these percentages, using shades of blue to indicate those lines most time spent in:"
   ]
  },
  {
   "cell_type": "code",
   "execution_count": 38,
   "metadata": {
    "execution": {
     "iopub.execute_input": "2022-01-24T09:59:01.867785Z",
     "iopub.status.busy": "2022-01-24T09:59:01.866684Z",
     "iopub.status.idle": "2022-01-24T09:59:01.871640Z",
     "shell.execute_reply": "2022-01-24T09:59:01.872609Z"
    },
    "slideshow": {
     "slide_type": "subslide"
    }
   },
   "outputs": [
    {
     "data": {
      "text/html": [
       "<pre style=\"background-color:hsl(240, 100%, 95.94647107841847%)\"\n",
       "                    title=\"Line 238:   2% 0.0009033380000573743\"> 238 def remove_html_markup(s):  # type: ignore</pre>\n",
       "<pre style=\"background-color:hsl(240, 100%, 97.25360176039658%)\"\n",
       "                    title=\"Line 239:   1% 0.0006120409996128728\"> 239     tag = False</pre>\n",
       "<pre style=\"background-color:hsl(240, 100%, 97.27573301917565%)\"\n",
       "                    title=\"Line 240:   1% 0.0006071089990200562\"> 240     quote = False</pre>\n",
       "<pre style=\"background-color:hsl(240, 100%, 97.59296563407314%)\"\n",
       "                    title=\"Line 241:   1% 0.0005364130001908052\"> 241     out = &quot;&quot;</pre>\n",
       "<pre style=\"background-color:hsl(240, 100%, 100.0%)\"\n",
       "                    title=\"Line 242:   0% 0.0\"> 242 &nbsp;</pre>\n",
       "<pre style=\"background-color:hsl(240, 100%, 75.0%)\"\n",
       "                    title=\"Line 243:  17% 0.005571305999865217\"> 243     for c in s:</pre>\n",
       "<pre style=\"background-color:hsl(240, 100%, 77.01079423232777%)\"\n",
       "                    title=\"Line 244:  15% 0.005123196001022734\"> 244         assert tag or not quote</pre>\n",
       "<pre style=\"background-color:hsl(240, 100%, 100.0%)\"\n",
       "                    title=\"Line 245:   0% 0.0\"> 245 &nbsp;</pre>\n",
       "<pre style=\"background-color:hsl(240, 100%, 79.06649266947507%)\"\n",
       "                    title=\"Line 246:  14% 0.004665078999551042\"> 246         if c == &#x27;&lt;&#x27; and not quote:</pre>\n",
       "<pre style=\"background-color:hsl(240, 100%, 96.00094214745764%)\"\n",
       "                    title=\"Line 247:   2% 0.0008911990003070969\"> 247             tag = True</pre>\n",
       "<pre style=\"background-color:hsl(240, 100%, 81.80642474681616%)\"\n",
       "                    title=\"Line 248:  12% 0.004054478998682498\"> 248         elif c == &#x27;&gt;&#x27; and not quote:</pre>\n",
       "<pre style=\"background-color:hsl(240, 100%, 95.35435228191987%)\"\n",
       "                    title=\"Line 249:   3% 0.0010352930001999994\"> 249             tag = False</pre>\n",
       "<pre style=\"background-color:hsl(240, 100%, 86.35951336648124%)\"\n",
       "                    title=\"Line 250:   9% 0.0030398130008961743\"> 250         elif (c == &#x27;&quot;&#x27; or c == &quot;&#x27;&quot;) and tag:</pre>\n",
       "<pre style=\"background-color:hsl(240, 100%, 100.0%)\"\n",
       "                    title=\"Line 251:   0% 0.0\"> 251             quote = not quote</pre>\n",
       "<pre style=\"background-color:hsl(240, 100%, 87.06516480341661%)\"\n",
       "                    title=\"Line 252:   8% 0.002882556997519714\"> 252         elif not tag:</pre>\n",
       "<pre style=\"background-color:hsl(240, 100%, 93.82569365670388%)\"\n",
       "                    title=\"Line 253:   4% 0.0013759579990164639\"> 253             out = out + c</pre>\n",
       "<pre style=\"background-color:hsl(240, 100%, 100.0%)\"\n",
       "                    title=\"Line 254:   0% 0.0\"> 254 &nbsp;</pre>\n",
       "<pre style=\"background-color:hsl(240, 100%, 95.65219986254002%)\"\n",
       "                    title=\"Line 255:   3% 0.0009689169996818237\"> 255     return out</pre>\n"
      ],
      "text/markdown": [
       "| `remove_html_markup` | `s='<b>foo</b>'` | \n",
       "| ---------------------- | ---- | \n",
       "| <samp style=\"background-color: hsl(240, 100%, 95.94647107841847%)\" title=\"  2% 0.0009033380000573743\">remove_html_markup:238</samp> |    X | \n",
       "| <samp style=\"background-color: hsl(240, 100%, 97.25360176039658%)\" title=\"  1% 0.0006120409996128728\">remove_html_markup:239</samp> |    X | \n",
       "| <samp style=\"background-color: hsl(240, 100%, 97.27573301917565%)\" title=\"  1% 0.0006071089990200562\">remove_html_markup:240</samp> |    X | \n",
       "| <samp style=\"background-color: hsl(240, 100%, 97.59296563407314%)\" title=\"  1% 0.0005364130001908052\">remove_html_markup:241</samp> |    X | \n",
       "| <samp style=\"background-color: hsl(240, 100%, 75.0%)\" title=\" 17% 0.005571305999865217\">remove_html_markup:243</samp> |    X | \n",
       "| <samp style=\"background-color: hsl(240, 100%, 77.01079423232777%)\" title=\" 15% 0.005123196001022734\">remove_html_markup:244</samp> |    X | \n",
       "| <samp style=\"background-color: hsl(240, 100%, 79.06649266947507%)\" title=\" 14% 0.004665078999551042\">remove_html_markup:246</samp> |    X | \n",
       "| <samp style=\"background-color: hsl(240, 100%, 96.00094214745764%)\" title=\"  2% 0.0008911990003070969\">remove_html_markup:247</samp> |    X | \n",
       "| <samp style=\"background-color: hsl(240, 100%, 81.80642474681616%)\" title=\" 12% 0.004054478998682498\">remove_html_markup:248</samp> |    X | \n",
       "| <samp style=\"background-color: hsl(240, 100%, 95.35435228191987%)\" title=\"  3% 0.0010352930001999994\">remove_html_markup:249</samp> |    X | \n",
       "| <samp style=\"background-color: hsl(240, 100%, 86.35951336648124%)\" title=\"  9% 0.0030398130008961743\">remove_html_markup:250</samp> |    X | \n",
       "| <samp style=\"background-color: hsl(240, 100%, 87.06516480341661%)\" title=\"  8% 0.002882556997519714\">remove_html_markup:252</samp> |    X | \n",
       "| <samp style=\"background-color: hsl(240, 100%, 93.82569365670388%)\" title=\"  4% 0.0013759579990164639\">remove_html_markup:253</samp> |    X | \n",
       "| <samp style=\"background-color: hsl(240, 100%, 95.65219986254002%)\" title=\"  3% 0.0009689169996818237\">remove_html_markup:255</samp> |    X | \n"
      ],
      "text/plain": [
       " 238   2% def remove_html_markup(s):  # type: ignore\n",
       " 239   1%     tag = False\n",
       " 240   1%     quote = False\n",
       " 241   1%     out = \"\"\n",
       " 242   0%\n",
       " 243  17%     for c in s:\n",
       " 244  15%         assert tag or not quote\n",
       " 245   0%\n",
       " 246  14%         if c == '<' and not quote:\n",
       " 247   2%             tag = True\n",
       " 248  12%         elif c == '>' and not quote:\n",
       " 249   3%             tag = False\n",
       " 250   9%         elif (c == '\"' or c == \"'\") and tag:\n",
       " 251   0%             quote = not quote\n",
       " 252   8%         elif not tag:\n",
       " 253   4%             out = out + c\n",
       " 254   0%\n",
       " 255   3%     return out"
      ]
     },
     "execution_count": 38,
     "metadata": {},
     "output_type": "execute_result"
    }
   ],
   "source": [
    "debugger"
   ]
  },
  {
   "cell_type": "markdown",
   "metadata": {
    "slideshow": {
     "slide_type": "subslide"
    }
   },
   "source": [
    "### Other Metrics\n",
    "\n",
    "Our framework is flexible enough to collect (and visualize) arbitrary metrics. This `HitCollector` class, for instance, collects how often a line is being executed."
   ]
  },
  {
   "cell_type": "code",
   "execution_count": 39,
   "metadata": {
    "execution": {
     "iopub.execute_input": "2022-01-24T09:59:01.884975Z",
     "iopub.status.busy": "2022-01-24T09:59:01.884057Z",
     "iopub.status.idle": "2022-01-24T09:59:01.886178Z",
     "shell.execute_reply": "2022-01-24T09:59:01.886705Z"
    },
    "slideshow": {
     "slide_type": "subslide"
    }
   },
   "outputs": [],
   "source": [
    "class HitCollector(MetricCollector):\n",
    "    \"\"\"Collect how often a line is executed\"\"\"\n",
    "\n",
    "    def __init__(self) -> None:\n",
    "        super().__init__()\n",
    "        self.hits: Dict[Location, int] = {}\n",
    "\n",
    "    def collect(self, frame: FrameType, event: str, arg: Any) -> None:\n",
    "        super().collect(frame, event, arg)\n",
    "        location = (frame.f_code.co_name, frame.f_lineno)\n",
    "\n",
    "        self.hits.setdefault(location, 0)\n",
    "        self.hits[location] += 1\n",
    "\n",
    "    def metric(self, location: Location) -> Optional[int]:\n",
    "        if location in self.hits:\n",
    "            return self.hits[location]\n",
    "        else:\n",
    "            return None\n",
    "\n",
    "    def all_metrics(self, func: str) -> List[float]:\n",
    "        return [hits\n",
    "                for (func_name, lineno), hits in self.hits.items()\n",
    "                if func_name == func]"
   ]
  },
  {
   "cell_type": "markdown",
   "metadata": {
    "slideshow": {
     "slide_type": "subslide"
    }
   },
   "source": [
    "We can plug in this class into `PerformanceDebugger` to obtain a distribution of lines executed:"
   ]
  },
  {
   "cell_type": "code",
   "execution_count": 40,
   "metadata": {
    "execution": {
     "iopub.execute_input": "2022-01-24T09:59:01.928307Z",
     "iopub.status.busy": "2022-01-24T09:59:01.927446Z",
     "iopub.status.idle": "2022-01-24T09:59:01.929306Z",
     "shell.execute_reply": "2022-01-24T09:59:01.932565Z"
    },
    "slideshow": {
     "slide_type": "fragment"
    }
   },
   "outputs": [],
   "source": [
    "with PerformanceDebugger(HitCollector) as debugger:\n",
    "    for i in range(100):\n",
    "        s = remove_html_markup('<b>foo</b>')"
   ]
  },
  {
   "cell_type": "markdown",
   "metadata": {
    "slideshow": {
     "slide_type": "fragment"
    }
   },
   "source": [
    "In total, during this call to `remove_html_markup()`, there are 6,400 lines executed:"
   ]
  },
  {
   "cell_type": "code",
   "execution_count": 41,
   "metadata": {
    "execution": {
     "iopub.execute_input": "2022-01-24T09:59:01.938434Z",
     "iopub.status.busy": "2022-01-24T09:59:01.937390Z",
     "iopub.status.idle": "2022-01-24T09:59:01.941535Z",
     "shell.execute_reply": "2022-01-24T09:59:01.942298Z"
    },
    "slideshow": {
     "slide_type": "fragment"
    }
   },
   "outputs": [
    {
     "data": {
      "text/plain": [
       "6400.0"
      ]
     },
     "execution_count": 41,
     "metadata": {},
     "output_type": "execute_result"
    }
   ],
   "source": [
    "debugger.total('remove_html_markup')"
   ]
  },
  {
   "cell_type": "markdown",
   "metadata": {
    "slideshow": {
     "slide_type": "fragment"
    }
   },
   "source": [
    "Again, we can visualize the distribution as a table and using colors. We can see how the shade gets lighter in the lower part of the loop as individual conditions have been met."
   ]
  },
  {
   "cell_type": "code",
   "execution_count": 42,
   "metadata": {
    "execution": {
     "iopub.execute_input": "2022-01-24T09:59:01.948573Z",
     "iopub.status.busy": "2022-01-24T09:59:01.946802Z",
     "iopub.status.idle": "2022-01-24T09:59:01.953464Z",
     "shell.execute_reply": "2022-01-24T09:59:01.953992Z"
    },
    "slideshow": {
     "slide_type": "subslide"
    }
   },
   "outputs": [
    {
     "name": "stdout",
     "output_type": "stream",
     "text": [
      " 238   1% def remove_html_markup(s):  # type: ignore\n",
      " 239   1%     tag = False\n",
      " 240   1%     quote = False\n",
      " 241   1%     out = \"\"\n",
      " 242   0%\n",
      " 243  17%     for c in s:\n",
      " 244  15%         assert tag or not quote\n",
      " 245   0%\n",
      " 246  15%         if c == '<' and not quote:\n",
      " 247   3%             tag = True\n",
      " 248  12%         elif c == '>' and not quote:\n",
      " 249   3%             tag = False\n",
      " 250   9%         elif (c == '\"' or c == \"'\") and tag:\n",
      " 251   0%             quote = not quote\n",
      " 252   9%         elif not tag:\n",
      " 253   4%             out = out + c\n",
      " 254   0%\n",
      " 255   3%     return out\n",
      "\n"
     ]
    }
   ],
   "source": [
    "print(debugger)"
   ]
  },
  {
   "cell_type": "code",
   "execution_count": 43,
   "metadata": {
    "execution": {
     "iopub.execute_input": "2022-01-24T09:59:01.962990Z",
     "iopub.status.busy": "2022-01-24T09:59:01.956630Z",
     "iopub.status.idle": "2022-01-24T09:59:01.967024Z",
     "shell.execute_reply": "2022-01-24T09:59:01.967559Z"
    },
    "slideshow": {
     "slide_type": "subslide"
    }
   },
   "outputs": [
    {
     "data": {
      "text/html": [
       "<pre style=\"background-color:hsl(240, 100%, 97.72727272727273%)\"\n",
       "                    title=\"Line 238:   1% 100.0\"> 238 def remove_html_markup(s):  # type: ignore</pre>\n",
       "<pre style=\"background-color:hsl(240, 100%, 97.72727272727273%)\"\n",
       "                    title=\"Line 239:   1% 100.0\"> 239     tag = False</pre>\n",
       "<pre style=\"background-color:hsl(240, 100%, 97.72727272727273%)\"\n",
       "                    title=\"Line 240:   1% 100.0\"> 240     quote = False</pre>\n",
       "<pre style=\"background-color:hsl(240, 100%, 97.72727272727273%)\"\n",
       "                    title=\"Line 241:   1% 100.0\"> 241     out = &quot;&quot;</pre>\n",
       "<pre style=\"background-color:hsl(240, 100%, 100.0%)\"\n",
       "                    title=\"Line 242:   0% 0.0\"> 242 &nbsp;</pre>\n",
       "<pre style=\"background-color:hsl(240, 100%, 75.0%)\"\n",
       "                    title=\"Line 243:  17% 1100.0\"> 243     for c in s:</pre>\n",
       "<pre style=\"background-color:hsl(240, 100%, 77.27272727272728%)\"\n",
       "                    title=\"Line 244:  15% 1000.0\"> 244         assert tag or not quote</pre>\n",
       "<pre style=\"background-color:hsl(240, 100%, 100.0%)\"\n",
       "                    title=\"Line 245:   0% 0.0\"> 245 &nbsp;</pre>\n",
       "<pre style=\"background-color:hsl(240, 100%, 77.27272727272728%)\"\n",
       "                    title=\"Line 246:  15% 1000.0\"> 246         if c == &#x27;&lt;&#x27; and not quote:</pre>\n",
       "<pre style=\"background-color:hsl(240, 100%, 95.45454545454545%)\"\n",
       "                    title=\"Line 247:   3% 200.0\"> 247             tag = True</pre>\n",
       "<pre style=\"background-color:hsl(240, 100%, 81.81818181818181%)\"\n",
       "                    title=\"Line 248:  12% 800.0\"> 248         elif c == &#x27;&gt;&#x27; and not quote:</pre>\n",
       "<pre style=\"background-color:hsl(240, 100%, 95.45454545454545%)\"\n",
       "                    title=\"Line 249:   3% 200.0\"> 249             tag = False</pre>\n",
       "<pre style=\"background-color:hsl(240, 100%, 86.36363636363636%)\"\n",
       "                    title=\"Line 250:   9% 600.0\"> 250         elif (c == &#x27;&quot;&#x27; or c == &quot;&#x27;&quot;) and tag:</pre>\n",
       "<pre style=\"background-color:hsl(240, 100%, 100.0%)\"\n",
       "                    title=\"Line 251:   0% 0.0\"> 251             quote = not quote</pre>\n",
       "<pre style=\"background-color:hsl(240, 100%, 86.36363636363636%)\"\n",
       "                    title=\"Line 252:   9% 600.0\"> 252         elif not tag:</pre>\n",
       "<pre style=\"background-color:hsl(240, 100%, 93.18181818181819%)\"\n",
       "                    title=\"Line 253:   4% 300.0\"> 253             out = out + c</pre>\n",
       "<pre style=\"background-color:hsl(240, 100%, 100.0%)\"\n",
       "                    title=\"Line 254:   0% 0.0\"> 254 &nbsp;</pre>\n",
       "<pre style=\"background-color:hsl(240, 100%, 95.45454545454545%)\"\n",
       "                    title=\"Line 255:   3% 200.0\"> 255     return out</pre>\n"
      ],
      "text/markdown": [
       "| `remove_html_markup` | `s='<b>foo</b>'` | \n",
       "| ---------------------- | ---- | \n",
       "| <samp style=\"background-color: hsl(240, 100%, 97.72727272727273%)\" title=\"  1% 100.0\">remove_html_markup:238</samp> |    X | \n",
       "| <samp style=\"background-color: hsl(240, 100%, 97.72727272727273%)\" title=\"  1% 100.0\">remove_html_markup:239</samp> |    X | \n",
       "| <samp style=\"background-color: hsl(240, 100%, 97.72727272727273%)\" title=\"  1% 100.0\">remove_html_markup:240</samp> |    X | \n",
       "| <samp style=\"background-color: hsl(240, 100%, 97.72727272727273%)\" title=\"  1% 100.0\">remove_html_markup:241</samp> |    X | \n",
       "| <samp style=\"background-color: hsl(240, 100%, 75.0%)\" title=\" 17% 1100.0\">remove_html_markup:243</samp> |    X | \n",
       "| <samp style=\"background-color: hsl(240, 100%, 77.27272727272728%)\" title=\" 15% 1000.0\">remove_html_markup:244</samp> |    X | \n",
       "| <samp style=\"background-color: hsl(240, 100%, 77.27272727272728%)\" title=\" 15% 1000.0\">remove_html_markup:246</samp> |    X | \n",
       "| <samp style=\"background-color: hsl(240, 100%, 95.45454545454545%)\" title=\"  3% 200.0\">remove_html_markup:247</samp> |    X | \n",
       "| <samp style=\"background-color: hsl(240, 100%, 81.81818181818181%)\" title=\" 12% 800.0\">remove_html_markup:248</samp> |    X | \n",
       "| <samp style=\"background-color: hsl(240, 100%, 95.45454545454545%)\" title=\"  3% 200.0\">remove_html_markup:249</samp> |    X | \n",
       "| <samp style=\"background-color: hsl(240, 100%, 86.36363636363636%)\" title=\"  9% 600.0\">remove_html_markup:250</samp> |    X | \n",
       "| <samp style=\"background-color: hsl(240, 100%, 86.36363636363636%)\" title=\"  9% 600.0\">remove_html_markup:252</samp> |    X | \n",
       "| <samp style=\"background-color: hsl(240, 100%, 93.18181818181819%)\" title=\"  4% 300.0\">remove_html_markup:253</samp> |    X | \n",
       "| <samp style=\"background-color: hsl(240, 100%, 95.45454545454545%)\" title=\"  3% 200.0\">remove_html_markup:255</samp> |    X | \n"
      ],
      "text/plain": [
       " 238   1% def remove_html_markup(s):  # type: ignore\n",
       " 239   1%     tag = False\n",
       " 240   1%     quote = False\n",
       " 241   1%     out = \"\"\n",
       " 242   0%\n",
       " 243  17%     for c in s:\n",
       " 244  15%         assert tag or not quote\n",
       " 245   0%\n",
       " 246  15%         if c == '<' and not quote:\n",
       " 247   3%             tag = True\n",
       " 248  12%         elif c == '>' and not quote:\n",
       " 249   3%             tag = False\n",
       " 250   9%         elif (c == '\"' or c == \"'\") and tag:\n",
       " 251   0%             quote = not quote\n",
       " 252   9%         elif not tag:\n",
       " 253   4%             out = out + c\n",
       " 254   0%\n",
       " 255   3%     return out"
      ]
     },
     "execution_count": 43,
     "metadata": {},
     "output_type": "execute_result"
    }
   ],
   "source": [
    "debugger"
   ]
  },
  {
   "cell_type": "markdown",
   "metadata": {
    "slideshow": {
     "slide_type": "slide"
    }
   },
   "source": [
    "## Integrating with Delta Debugging\n",
    "\n",
    "Besides identifying causes for performance issues in the code, one may also search for causes in the _input_, using [Delta Debugging](DeltaDebugger.ipynb). This can be useful if one does not immediately want to embark into investigating the code, but maybe first determine external influences that are related to performance issues."
   ]
  },
  {
   "cell_type": "markdown",
   "metadata": {
    "slideshow": {
     "slide_type": "fragment"
    }
   },
   "source": [
    "Here is a variant of `remove_html_markup()` that introduces a (rather obvious) performance issue."
   ]
  },
  {
   "cell_type": "code",
   "execution_count": 44,
   "metadata": {
    "execution": {
     "iopub.execute_input": "2022-01-24T09:59:01.974137Z",
     "iopub.status.busy": "2022-01-24T09:59:01.972837Z",
     "iopub.status.idle": "2022-01-24T09:59:01.976230Z",
     "shell.execute_reply": "2022-01-24T09:59:01.977301Z"
    },
    "slideshow": {
     "slide_type": "skip"
    }
   },
   "outputs": [],
   "source": [
    "import time"
   ]
  },
  {
   "cell_type": "code",
   "execution_count": 45,
   "metadata": {
    "execution": {
     "iopub.execute_input": "2022-01-24T09:59:01.984954Z",
     "iopub.status.busy": "2022-01-24T09:59:01.984040Z",
     "iopub.status.idle": "2022-01-24T09:59:01.986163Z",
     "shell.execute_reply": "2022-01-24T09:59:01.987118Z"
    },
    "slideshow": {
     "slide_type": "subslide"
    }
   },
   "outputs": [],
   "source": [
    "def remove_html_markup_ampersand(s: str) -> str:\n",
    "    tag = False\n",
    "    quote = False\n",
    "    out = \"\"\n",
    "\n",
    "    for c in s:\n",
    "        assert tag or not quote\n",
    "\n",
    "        if c == '&':\n",
    "            time.sleep(0.1)  # <-- the obvious performance issue\n",
    "\n",
    "        if c == '<' and not quote:\n",
    "            tag = True\n",
    "        elif c == '>' and not quote:\n",
    "            tag = False\n",
    "        elif (c == '\"' or c == \"'\") and tag:\n",
    "            quote = not quote\n",
    "        elif not tag:\n",
    "            out = out + c\n",
    "\n",
    "    return out"
   ]
  },
  {
   "cell_type": "markdown",
   "metadata": {
    "slideshow": {
     "slide_type": "subslide"
    }
   },
   "source": [
    "We can easily trigger this issue by measuring time taken:"
   ]
  },
  {
   "cell_type": "code",
   "execution_count": 46,
   "metadata": {
    "execution": {
     "iopub.execute_input": "2022-01-24T09:59:01.992283Z",
     "iopub.status.busy": "2022-01-24T09:59:01.991227Z",
     "iopub.status.idle": "2022-01-24T09:59:02.305141Z",
     "shell.execute_reply": "2022-01-24T09:59:02.305789Z"
    },
    "slideshow": {
     "slide_type": "fragment"
    }
   },
   "outputs": [
    {
     "data": {
      "text/plain": [
       "0.30934712300006595"
      ]
     },
     "execution_count": 46,
     "metadata": {},
     "output_type": "execute_result"
    }
   ],
   "source": [
    "with Timer.Timer() as t:\n",
    "    remove_html_markup_ampersand('&&&')\n",
    "t.elapsed_time()"
   ]
  },
  {
   "cell_type": "markdown",
   "metadata": {
    "slideshow": {
     "slide_type": "fragment"
    }
   },
   "source": [
    "Let us set up a test that checks whether the performance issue is present."
   ]
  },
  {
   "cell_type": "code",
   "execution_count": 47,
   "metadata": {
    "execution": {
     "iopub.execute_input": "2022-01-24T09:59:02.311597Z",
     "iopub.status.busy": "2022-01-24T09:59:02.310538Z",
     "iopub.status.idle": "2022-01-24T09:59:02.313683Z",
     "shell.execute_reply": "2022-01-24T09:59:02.314181Z"
    },
    "slideshow": {
     "slide_type": "fragment"
    }
   },
   "outputs": [],
   "source": [
    "def remove_html_test(s: str) -> None:\n",
    "    with Timer.Timer() as t:\n",
    "        remove_html_markup_ampersand(s)\n",
    "    assert t.elapsed_time() < 0.1"
   ]
  },
  {
   "cell_type": "markdown",
   "metadata": {
    "slideshow": {
     "slide_type": "fragment"
    }
   },
   "source": [
    "We can now apply delta debugging to determine a minimum input that causes the failure:"
   ]
  },
  {
   "cell_type": "code",
   "execution_count": 48,
   "metadata": {
    "execution": {
     "iopub.execute_input": "2022-01-24T09:59:02.319052Z",
     "iopub.status.busy": "2022-01-24T09:59:02.318290Z",
     "iopub.status.idle": "2022-01-24T09:59:02.320251Z",
     "shell.execute_reply": "2022-01-24T09:59:02.320697Z"
    },
    "slideshow": {
     "slide_type": "fragment"
    }
   },
   "outputs": [],
   "source": [
    "s_fail = '<b>foo&amp;</b>'"
   ]
  },
  {
   "cell_type": "code",
   "execution_count": 49,
   "metadata": {
    "execution": {
     "iopub.execute_input": "2022-01-24T09:59:02.326744Z",
     "iopub.status.busy": "2022-01-24T09:59:02.325462Z",
     "iopub.status.idle": "2022-01-24T09:59:02.429786Z",
     "shell.execute_reply": "2022-01-24T09:59:02.430272Z"
    },
    "slideshow": {
     "slide_type": "subslide"
    }
   },
   "outputs": [],
   "source": [
    "with DeltaDebugger.DeltaDebugger() as dd:\n",
    "    remove_html_test(s_fail)"
   ]
  },
  {
   "cell_type": "code",
   "execution_count": 50,
   "metadata": {
    "execution": {
     "iopub.execute_input": "2022-01-24T09:59:02.436006Z",
     "iopub.status.busy": "2022-01-24T09:59:02.435083Z",
     "iopub.status.idle": "2022-01-24T09:59:02.957324Z",
     "shell.execute_reply": "2022-01-24T09:59:02.957981Z"
    },
    "slideshow": {
     "slide_type": "fragment"
    }
   },
   "outputs": [
    {
     "data": {
      "text/plain": [
       "{'s': '&'}"
      ]
     },
     "execution_count": 50,
     "metadata": {},
     "output_type": "execute_result"
    }
   ],
   "source": [
    "dd.min_args()"
   ]
  },
  {
   "cell_type": "markdown",
   "metadata": {
    "slideshow": {
     "slide_type": "fragment"
    }
   },
   "source": [
    "For performance issues, however, a minimal input is often not enough to highlight the failure cause. This is because short inputs tend to take less processing time than longer inputs, which increases the risks of a spurious diagnosis. A better alternative is to compute a _maximum_ input where the issue does not occur:"
   ]
  },
  {
   "cell_type": "code",
   "execution_count": 51,
   "metadata": {
    "execution": {
     "iopub.execute_input": "2022-01-24T09:59:02.964133Z",
     "iopub.status.busy": "2022-01-24T09:59:02.963324Z",
     "iopub.status.idle": "2022-01-24T09:59:03.173944Z",
     "shell.execute_reply": "2022-01-24T09:59:03.174686Z"
    },
    "slideshow": {
     "slide_type": "fragment"
    }
   },
   "outputs": [],
   "source": [
    "s_pass = dd.max_args()"
   ]
  },
  {
   "cell_type": "code",
   "execution_count": 52,
   "metadata": {
    "execution": {
     "iopub.execute_input": "2022-01-24T09:59:03.180180Z",
     "iopub.status.busy": "2022-01-24T09:59:03.179026Z",
     "iopub.status.idle": "2022-01-24T09:59:03.185092Z",
     "shell.execute_reply": "2022-01-24T09:59:03.185635Z"
    },
    "slideshow": {
     "slide_type": "fragment"
    }
   },
   "outputs": [
    {
     "data": {
      "text/plain": [
       "{'s': '<b>fooamp;</b>'}"
      ]
     },
     "execution_count": 52,
     "metadata": {},
     "output_type": "execute_result"
    }
   ],
   "source": [
    "s_pass"
   ]
  },
  {
   "cell_type": "markdown",
   "metadata": {
    "slideshow": {
     "slide_type": "fragment"
    }
   },
   "source": [
    "We see that the culprit character (the `&`) is removed. This tells us the failure-inducing difference – or, more precisely, the cause for the performance issue."
   ]
  },
  {
   "cell_type": "markdown",
   "metadata": {
    "slideshow": {
     "slide_type": "slide"
    }
   },
   "source": [
    "## Synopsis"
   ]
  },
  {
   "cell_type": "markdown",
   "metadata": {
    "slideshow": {
     "slide_type": "fragment"
    }
   },
   "source": [
    "This chapter provides a class `PerformanceDebugger` that allows to measure and visualize the time taken per line in a function."
   ]
  },
  {
   "cell_type": "code",
   "execution_count": 53,
   "metadata": {
    "execution": {
     "iopub.execute_input": "2022-01-24T09:59:03.248860Z",
     "iopub.status.busy": "2022-01-24T09:59:03.240335Z",
     "iopub.status.idle": "2022-01-24T09:59:03.251502Z",
     "shell.execute_reply": "2022-01-24T09:59:03.252477Z"
    },
    "slideshow": {
     "slide_type": "fragment"
    }
   },
   "outputs": [],
   "source": [
    "with PerformanceDebugger(TimeCollector) as debugger:\n",
    "    for i in range(100):\n",
    "        s = remove_html_markup('<b>foo</b>')"
   ]
  },
  {
   "cell_type": "markdown",
   "metadata": {
    "slideshow": {
     "slide_type": "fragment"
    }
   },
   "source": [
    "The distribution of executed time within each function can be obtained by printing out the debugger:"
   ]
  },
  {
   "cell_type": "code",
   "execution_count": 54,
   "metadata": {
    "execution": {
     "iopub.execute_input": "2022-01-24T09:59:03.259831Z",
     "iopub.status.busy": "2022-01-24T09:59:03.258577Z",
     "iopub.status.idle": "2022-01-24T09:59:03.262739Z",
     "shell.execute_reply": "2022-01-24T09:59:03.263365Z"
    },
    "slideshow": {
     "slide_type": "subslide"
    }
   },
   "outputs": [
    {
     "name": "stdout",
     "output_type": "stream",
     "text": [
      " 238   2% def remove_html_markup(s):  # type: ignore\n",
      " 239   1%     tag = False\n",
      " 240   1%     quote = False\n",
      " 241   1%     out = \"\"\n",
      " 242   0%\n",
      " 243  16%     for c in s:\n",
      " 244  15%         assert tag or not quote\n",
      " 245   0%\n",
      " 246  15%         if c == '<' and not quote:\n",
      " 247   3%             tag = True\n",
      " 248  12%         elif c == '>' and not quote:\n",
      " 249   2%             tag = False\n",
      " 250   8%         elif (c == '\"' or c == \"'\") and tag:\n",
      " 251   0%             quote = not quote\n",
      " 252   9%         elif not tag:\n",
      " 253   4%             out = out + c\n",
      " 254   0%\n",
      " 255   3%     return out\n",
      "\n"
     ]
    }
   ],
   "source": [
    "print(debugger)"
   ]
  },
  {
   "cell_type": "markdown",
   "metadata": {
    "slideshow": {
     "slide_type": "subslide"
    }
   },
   "source": [
    "The sum of all percentages in a function should always be 100%."
   ]
  },
  {
   "cell_type": "markdown",
   "metadata": {
    "slideshow": {
     "slide_type": "fragment"
    }
   },
   "source": [
    "These percentages can also be visualized, where darker shades represent higher percentage values:"
   ]
  },
  {
   "cell_type": "code",
   "execution_count": 55,
   "metadata": {
    "execution": {
     "iopub.execute_input": "2022-01-24T09:59:03.274207Z",
     "iopub.status.busy": "2022-01-24T09:59:03.273316Z",
     "iopub.status.idle": "2022-01-24T09:59:03.278125Z",
     "shell.execute_reply": "2022-01-24T09:59:03.279016Z"
    },
    "slideshow": {
     "slide_type": "subslide"
    }
   },
   "outputs": [
    {
     "data": {
      "text/html": [
       "<pre style=\"background-color:hsl(240, 100%, 95.65201649890105%)\"\n",
       "                    title=\"Line 238:   2% 0.0008970930005034461\"> 238 def remove_html_markup(s):  # type: ignore</pre>\n",
       "<pre style=\"background-color:hsl(240, 100%, 97.00715263574288%)\"\n",
       "                    title=\"Line 239:   1% 0.0006174960004727836\"> 239     tag = False</pre>\n",
       "<pre style=\"background-color:hsl(240, 100%, 97.21329935953095%)\"\n",
       "                    title=\"Line 240:   1% 0.0005749630003037964\"> 240     quote = False</pre>\n",
       "<pre style=\"background-color:hsl(240, 100%, 97.18064197292676%)\"\n",
       "                    title=\"Line 241:   1% 0.000581701000328394\"> 241     out = &quot;&quot;</pre>\n",
       "<pre style=\"background-color:hsl(240, 100%, 100.0%)\"\n",
       "                    title=\"Line 242:   0% 0.0\"> 242 &nbsp;</pre>\n",
       "<pre style=\"background-color:hsl(240, 100%, 75.0%)\"\n",
       "                    title=\"Line 243:  16% 0.005158098002652878\"> 243     for c in s:</pre>\n",
       "<pre style=\"background-color:hsl(240, 100%, 76.84503089033086%)\"\n",
       "                    title=\"Line 244:  15% 0.004777423996642938\"> 244         assert tag or not quote</pre>\n",
       "<pre style=\"background-color:hsl(240, 100%, 100.0%)\"\n",
       "                    title=\"Line 245:   0% 0.0\"> 245 &nbsp;</pre>\n",
       "<pre style=\"background-color:hsl(240, 100%, 77.20745127920223%)\"\n",
       "                    title=\"Line 246:  15% 0.004702648001284615\"> 246         if c == &#x27;&lt;&#x27; and not quote:</pre>\n",
       "<pre style=\"background-color:hsl(240, 100%, 94.80921553420649%)\"\n",
       "                    title=\"Line 247:   3% 0.001070982999408443\"> 247             tag = True</pre>\n",
       "<pre style=\"background-color:hsl(240, 100%, 81.73925253796143%)\"\n",
       "                    title=\"Line 248:  12% 0.0037676290004355906\"> 248         elif c == &#x27;&gt;&#x27; and not quote:</pre>\n",
       "<pre style=\"background-color:hsl(240, 100%, 95.705190170606%)\"\n",
       "                    title=\"Line 249:   2% 0.000886122000110845\"> 249             tag = False</pre>\n",
       "<pre style=\"background-color:hsl(240, 100%, 87.07441192365002%)\"\n",
       "                    title=\"Line 250:   8% 0.0026668580015893895\"> 250         elif (c == &#x27;&quot;&#x27; or c == &quot;&#x27;&quot;) and tag:</pre>\n",
       "<pre style=\"background-color:hsl(240, 100%, 100.0%)\"\n",
       "                    title=\"Line 251:   0% 0.0\"> 251             quote = not quote</pre>\n",
       "<pre style=\"background-color:hsl(240, 100%, 85.27082561570336%)\"\n",
       "                    title=\"Line 252:   9% 0.003038980998894658\"> 252         elif not tag:</pre>\n",
       "<pre style=\"background-color:hsl(240, 100%, 93.36403166514923%)\"\n",
       "                    title=\"Line 253:   4% 0.0013691590005464604\"> 253             out = out + c</pre>\n",
       "<pre style=\"background-color:hsl(240, 100%, 100.0%)\"\n",
       "                    title=\"Line 254:   0% 0.0\"> 254 &nbsp;</pre>\n",
       "<pre style=\"background-color:hsl(240, 100%, 95.3315010734817%)\"\n",
       "                    title=\"Line 255:   3% 0.0009632229995304442\"> 255     return out</pre>\n"
      ],
      "text/markdown": [
       "| `remove_html_markup` | `s='<b>foo</b>'` | \n",
       "| ---------------------- | ---- | \n",
       "| <samp style=\"background-color: hsl(240, 100%, 95.65201649890105%)\" title=\"  2% 0.0008970930005034461\">remove_html_markup:238</samp> |    X | \n",
       "| <samp style=\"background-color: hsl(240, 100%, 97.00715263574288%)\" title=\"  1% 0.0006174960004727836\">remove_html_markup:239</samp> |    X | \n",
       "| <samp style=\"background-color: hsl(240, 100%, 97.21329935953095%)\" title=\"  1% 0.0005749630003037964\">remove_html_markup:240</samp> |    X | \n",
       "| <samp style=\"background-color: hsl(240, 100%, 97.18064197292676%)\" title=\"  1% 0.000581701000328394\">remove_html_markup:241</samp> |    X | \n",
       "| <samp style=\"background-color: hsl(240, 100%, 75.0%)\" title=\" 16% 0.005158098002652878\">remove_html_markup:243</samp> |    X | \n",
       "| <samp style=\"background-color: hsl(240, 100%, 76.84503089033086%)\" title=\" 15% 0.004777423996642938\">remove_html_markup:244</samp> |    X | \n",
       "| <samp style=\"background-color: hsl(240, 100%, 77.20745127920223%)\" title=\" 15% 0.004702648001284615\">remove_html_markup:246</samp> |    X | \n",
       "| <samp style=\"background-color: hsl(240, 100%, 94.80921553420649%)\" title=\"  3% 0.001070982999408443\">remove_html_markup:247</samp> |    X | \n",
       "| <samp style=\"background-color: hsl(240, 100%, 81.73925253796143%)\" title=\" 12% 0.0037676290004355906\">remove_html_markup:248</samp> |    X | \n",
       "| <samp style=\"background-color: hsl(240, 100%, 95.705190170606%)\" title=\"  2% 0.000886122000110845\">remove_html_markup:249</samp> |    X | \n",
       "| <samp style=\"background-color: hsl(240, 100%, 87.07441192365002%)\" title=\"  8% 0.0026668580015893895\">remove_html_markup:250</samp> |    X | \n",
       "| <samp style=\"background-color: hsl(240, 100%, 85.27082561570336%)\" title=\"  9% 0.003038980998894658\">remove_html_markup:252</samp> |    X | \n",
       "| <samp style=\"background-color: hsl(240, 100%, 93.36403166514923%)\" title=\"  4% 0.0013691590005464604\">remove_html_markup:253</samp> |    X | \n",
       "| <samp style=\"background-color: hsl(240, 100%, 95.3315010734817%)\" title=\"  3% 0.0009632229995304442\">remove_html_markup:255</samp> |    X | \n"
      ],
      "text/plain": [
       " 238   2% def remove_html_markup(s):  # type: ignore\n",
       " 239   1%     tag = False\n",
       " 240   1%     quote = False\n",
       " 241   1%     out = \"\"\n",
       " 242   0%\n",
       " 243  16%     for c in s:\n",
       " 244  15%         assert tag or not quote\n",
       " 245   0%\n",
       " 246  15%         if c == '<' and not quote:\n",
       " 247   3%             tag = True\n",
       " 248  12%         elif c == '>' and not quote:\n",
       " 249   2%             tag = False\n",
       " 250   8%         elif (c == '\"' or c == \"'\") and tag:\n",
       " 251   0%             quote = not quote\n",
       " 252   9%         elif not tag:\n",
       " 253   4%             out = out + c\n",
       " 254   0%\n",
       " 255   3%     return out"
      ]
     },
     "execution_count": 55,
     "metadata": {},
     "output_type": "execute_result"
    }
   ],
   "source": [
    "debugger"
   ]
  },
  {
   "cell_type": "markdown",
   "metadata": {
    "slideshow": {
     "slide_type": "subslide"
    }
   },
   "source": [
    "The abstract `MetricCollector` class allows subclassing to build more collectors, such as `HitCollector`."
   ]
  },
  {
   "cell_type": "code",
   "execution_count": 56,
   "metadata": {
    "execution": {
     "iopub.execute_input": "2022-01-24T09:59:03.285709Z",
     "iopub.status.busy": "2022-01-24T09:59:03.284629Z",
     "iopub.status.idle": "2022-01-24T09:59:03.287178Z",
     "shell.execute_reply": "2022-01-24T09:59:03.287621Z"
    },
    "slideshow": {
     "slide_type": "fragment"
    }
   },
   "outputs": [],
   "source": [
    "# ignore\n",
    "from ClassDiagram import display_class_hierarchy"
   ]
  },
  {
   "cell_type": "code",
   "execution_count": 57,
   "metadata": {
    "execution": {
     "iopub.execute_input": "2022-01-24T09:59:03.305075Z",
     "iopub.status.busy": "2022-01-24T09:59:03.304224Z",
     "iopub.status.idle": "2022-01-24T09:59:04.792589Z",
     "shell.execute_reply": "2022-01-24T09:59:04.793498Z"
    },
    "slideshow": {
     "slide_type": "fragment"
    }
   },
   "outputs": [
    {
     "data": {
      "image/svg+xml": [
       "<?xml version=\"1.0\" encoding=\"UTF-8\" standalone=\"no\"?>\n",
       "<!DOCTYPE svg PUBLIC \"-//W3C//DTD SVG 1.1//EN\"\n",
       " \"http://www.w3.org/Graphics/SVG/1.1/DTD/svg11.dtd\">\n",
       "<!-- Generated by graphviz version 2.49.3 (20211023.0002)\n",
       " -->\n",
       "<!-- Pages: 1 -->\n",
       "<svg width=\"554pt\" height=\"555pt\"\n",
       " viewBox=\"0.00 0.00 554.00 555.00\" xmlns=\"http://www.w3.org/2000/svg\" xmlns:xlink=\"http://www.w3.org/1999/xlink\">\n",
       "<g id=\"graph0\" class=\"graph\" transform=\"scale(1 1) rotate(0) translate(4 551)\">\n",
       "<g id=\"a_graph0\"><a xlink:title=\"PerformanceDebugger class hierarchy\">\n",
       "<polygon fill=\"white\" stroke=\"transparent\" points=\"-4,4 -4,-551 550,-551 550,4 -4,4\"/>\n",
       "</a>\n",
       "</g>\n",
       "<!-- PerformanceDebugger -->\n",
       "<g id=\"node1\" class=\"node\">\n",
       "<title>PerformanceDebugger</title>\n",
       "<g id=\"a_node1\"><a xlink:href=\"#\" xlink:title=\"class PerformanceDebugger:&#10;Collect and visualize a metric\">\n",
       "<polygon fill=\"none\" stroke=\"black\" points=\"0,-28 0,-70 162,-70 162,-28 0,-28\"/>\n",
       "<text text-anchor=\"start\" x=\"8\" y=\"-55.8\" font-family=\"Raleway, Helvetica, Arial, sans-serif\" font-weight=\"bold\" font-size=\"14.00\" fill=\"#6a0dad\">PerformanceDebugger</text>\n",
       "<polyline fill=\"none\" stroke=\"black\" points=\"0,-47 162,-47 \"/>\n",
       "<g id=\"a_node1_0\"><a xlink:href=\"#\" xlink:title=\"PerformanceDebugger\">\n",
       "<g id=\"a_node1_1\"><a xlink:href=\"#\" xlink:title=\"__init__(self, collector_class: Type, log: bool = False):&#10;Constructor. Use instances of `collector_class` to collect events.\">\n",
       "<text text-anchor=\"start\" x=\"51\" y=\"-35.5\" font-family=\"'Fira Mono', 'Source Code Pro', 'Courier', monospace\" font-weight=\"bold\" font-style=\"italic\" font-size=\"10.00\">__init__()</text>\n",
       "</a>\n",
       "</g>\n",
       "</a>\n",
       "</g>\n",
       "</a>\n",
       "</g>\n",
       "</g>\n",
       "<!-- MetricDebugger -->\n",
       "<g id=\"node2\" class=\"node\">\n",
       "<title>MetricDebugger</title>\n",
       "<g id=\"a_node2\"><a xlink:href=\"#\" xlink:title=\"class MetricDebugger:&#10;Visualize a metric\">\n",
       "<polygon fill=\"none\" stroke=\"black\" points=\"21,-134.5 21,-231.5 141,-231.5 141,-134.5 21,-134.5\"/>\n",
       "<text text-anchor=\"start\" x=\"29\" y=\"-217.3\" font-family=\"Raleway, Helvetica, Arial, sans-serif\" font-weight=\"bold\" font-size=\"14.00\" fill=\"#6a0dad\">MetricDebugger</text>\n",
       "<polyline fill=\"none\" stroke=\"black\" points=\"21,-208.5 141,-208.5 \"/>\n",
       "<g id=\"a_node2_2\"><a xlink:href=\"#\" xlink:title=\"MetricDebugger\">\n",
       "<g id=\"a_node2_3\"><a xlink:href=\"#\" xlink:title=\"color(self, location: Tuple[str, int]) &#45;&gt; str:&#10;Return a color for the given event, or None.&#10;To be overloaded in subclasses.\">\n",
       "<text text-anchor=\"start\" x=\"33\" y=\"-197.5\" font-family=\"'Fira Mono', 'Source Code Pro', 'Courier', monospace\" font-style=\"italic\" font-size=\"10.00\">color()</text>\n",
       "</a>\n",
       "</g>\n",
       "<g id=\"a_node2_4\"><a xlink:href=\"#\" xlink:title=\"maximum(self, func_name: str) &#45;&gt; float\">\n",
       "<text text-anchor=\"start\" x=\"33\" y=\"-185.5\" font-family=\"'Fira Mono', 'Source Code Pro', 'Courier', monospace\" font-size=\"10.00\">maximum()</text>\n",
       "</a>\n",
       "</g>\n",
       "<g id=\"a_node2_5\"><a xlink:href=\"#\" xlink:title=\"metric(self, location: Tuple[str, int]) &#45;&gt; float\">\n",
       "<text text-anchor=\"start\" x=\"33\" y=\"-174.5\" font-family=\"'Fira Mono', 'Source Code Pro', 'Courier', monospace\" font-size=\"10.00\">metric()</text>\n",
       "</a>\n",
       "</g>\n",
       "<g id=\"a_node2_6\"><a xlink:href=\"#\" xlink:title=\"suspiciousness(self, location: Tuple[str, int]) &#45;&gt; float:&#10;Return a suspiciousness value in the range [0, 1.0]&#10;for the given event, or `None` if unknown.&#10;To be overloaded in subclasses.\">\n",
       "<text text-anchor=\"start\" x=\"33\" y=\"-164.5\" font-family=\"'Fira Mono', 'Source Code Pro', 'Courier', monospace\" font-style=\"italic\" font-size=\"10.00\">suspiciousness()</text>\n",
       "</a>\n",
       "</g>\n",
       "<g id=\"a_node2_7\"><a xlink:href=\"#\" xlink:title=\"tooltip(self, location: Tuple[str, int]) &#45;&gt; str:&#10;Return a tooltip for the given event (default: percentage).&#10;To be overloaded in subclasses.\">\n",
       "<text text-anchor=\"start\" x=\"33\" y=\"-153.5\" font-family=\"'Fira Mono', 'Source Code Pro', 'Courier', monospace\" font-style=\"italic\" font-size=\"10.00\">tooltip()</text>\n",
       "</a>\n",
       "</g>\n",
       "<g id=\"a_node2_8\"><a xlink:href=\"#\" xlink:title=\"total(self, func_name: str) &#45;&gt; float\">\n",
       "<text text-anchor=\"start\" x=\"33\" y=\"-141.5\" font-family=\"'Fira Mono', 'Source Code Pro', 'Courier', monospace\" font-size=\"10.00\">total()</text>\n",
       "</a>\n",
       "</g>\n",
       "</a>\n",
       "</g>\n",
       "</a>\n",
       "</g>\n",
       "</g>\n",
       "<!-- PerformanceDebugger&#45;&gt;MetricDebugger -->\n",
       "<g id=\"edge1\" class=\"edge\">\n",
       "<title>PerformanceDebugger&#45;&gt;MetricDebugger</title>\n",
       "<path fill=\"none\" stroke=\"black\" d=\"M81,-70.05C81,-84.54 81,-104.91 81,-124.3\"/>\n",
       "<polygon fill=\"none\" stroke=\"black\" points=\"77.5,-124.32 81,-134.32 84.5,-124.32 77.5,-124.32\"/>\n",
       "</g>\n",
       "<!-- SpectrumDebugger -->\n",
       "<g id=\"node3\" class=\"node\">\n",
       "<title>SpectrumDebugger</title>\n",
       "<g id=\"a_node3\"><a xlink:href=\"StatisticalDebugger.ipynb\" xlink:title=\"class SpectrumDebugger:&#10;A class to collect events for passing and failing outcomes.\">\n",
       "<polygon fill=\"none\" stroke=\"black\" points=\"10,-268.5 10,-304.5 152,-304.5 152,-268.5 10,-268.5\"/>\n",
       "<text text-anchor=\"start\" x=\"18\" y=\"-283.8\" font-family=\"Raleway, Helvetica, Arial, sans-serif\" font-weight=\"bold\" font-size=\"14.00\" fill=\"#6a0dad\">SpectrumDebugger</text>\n",
       "</a>\n",
       "</g>\n",
       "</g>\n",
       "<!-- MetricDebugger&#45;&gt;SpectrumDebugger -->\n",
       "<g id=\"edge2\" class=\"edge\">\n",
       "<title>MetricDebugger&#45;&gt;SpectrumDebugger</title>\n",
       "<path fill=\"none\" stroke=\"black\" d=\"M81,-231.78C81,-240.69 81,-249.72 81,-257.77\"/>\n",
       "<polygon fill=\"none\" stroke=\"black\" points=\"77.5,-258.03 81,-268.03 84.5,-258.03 77.5,-258.03\"/>\n",
       "</g>\n",
       "<!-- DifferenceDebugger -->\n",
       "<g id=\"node4\" class=\"node\">\n",
       "<title>DifferenceDebugger</title>\n",
       "<g id=\"a_node4\"><a xlink:href=\"StatisticalDebugger.ipynb\" xlink:title=\"class DifferenceDebugger:&#10;A class to collect events for passing and failing outcomes.\">\n",
       "<polygon fill=\"none\" stroke=\"black\" points=\"9,-341.5 9,-394.5 153,-394.5 153,-341.5 9,-341.5\"/>\n",
       "<text text-anchor=\"start\" x=\"17\" y=\"-380.3\" font-family=\"Raleway, Helvetica, Arial, sans-serif\" font-weight=\"bold\" font-size=\"14.00\" fill=\"#6a0dad\">DifferenceDebugger</text>\n",
       "<polyline fill=\"none\" stroke=\"black\" points=\"9,-371.5 153,-371.5 \"/>\n",
       "<g id=\"a_node4_9\"><a xlink:href=\"#\" xlink:title=\"DifferenceDebugger\">\n",
       "<g id=\"a_node4_10\"><a xlink:href=\"StatisticalDebugger.ipynb\" xlink:title=\"FAIL = &#39;FAIL&#39;\">\n",
       "<text text-anchor=\"start\" x=\"69\" y=\"-359.5\" font-family=\"'Fira Mono', 'Source Code Pro', 'Courier', monospace\" font-size=\"10.00\">FAIL</text>\n",
       "</a>\n",
       "</g>\n",
       "<g id=\"a_node4_11\"><a xlink:href=\"StatisticalDebugger.ipynb\" xlink:title=\"PASS = &#39;PASS&#39;\">\n",
       "<text text-anchor=\"start\" x=\"69\" y=\"-348.5\" font-family=\"'Fira Mono', 'Source Code Pro', 'Courier', monospace\" font-size=\"10.00\">PASS</text>\n",
       "</a>\n",
       "</g>\n",
       "</a>\n",
       "</g>\n",
       "</a>\n",
       "</g>\n",
       "</g>\n",
       "<!-- SpectrumDebugger&#45;&gt;DifferenceDebugger -->\n",
       "<g id=\"edge3\" class=\"edge\">\n",
       "<title>SpectrumDebugger&#45;&gt;DifferenceDebugger</title>\n",
       "<path fill=\"none\" stroke=\"black\" d=\"M81,-304.75C81,-312.51 81,-321.99 81,-331.18\"/>\n",
       "<polygon fill=\"none\" stroke=\"black\" points=\"77.5,-331.32 81,-341.32 84.5,-331.32 77.5,-331.32\"/>\n",
       "</g>\n",
       "<!-- StatisticalDebugger -->\n",
       "<g id=\"node5\" class=\"node\">\n",
       "<title>StatisticalDebugger</title>\n",
       "<g id=\"a_node5\"><a xlink:href=\"StatisticalDebugger.ipynb\" xlink:title=\"class StatisticalDebugger:&#10;A class to collect events for multiple outcomes.\">\n",
       "<polygon fill=\"none\" stroke=\"black\" points=\"11.5,-431.5 11.5,-467.5 150.5,-467.5 150.5,-431.5 11.5,-431.5\"/>\n",
       "<text text-anchor=\"start\" x=\"19.5\" y=\"-446.8\" font-family=\"Raleway, Helvetica, Arial, sans-serif\" font-weight=\"bold\" font-size=\"14.00\" fill=\"#6a0dad\">StatisticalDebugger</text>\n",
       "</a>\n",
       "</g>\n",
       "</g>\n",
       "<!-- DifferenceDebugger&#45;&gt;StatisticalDebugger -->\n",
       "<g id=\"edge4\" class=\"edge\">\n",
       "<title>DifferenceDebugger&#45;&gt;StatisticalDebugger</title>\n",
       "<path fill=\"none\" stroke=\"black\" d=\"M81,-394.59C81,-403.02 81,-412.42 81,-420.98\"/>\n",
       "<polygon fill=\"none\" stroke=\"black\" points=\"77.5,-421.24 81,-431.24 84.5,-421.24 77.5,-421.24\"/>\n",
       "</g>\n",
       "<!-- TimeCollector -->\n",
       "<g id=\"node6\" class=\"node\">\n",
       "<title>TimeCollector</title>\n",
       "<g id=\"a_node6\"><a xlink:href=\"#\" xlink:title=\"class TimeCollector:&#10;Collect time executed for each line\">\n",
       "<polygon fill=\"none\" stroke=\"black\" points=\"191.5,-0.5 191.5,-97.5 296.5,-97.5 296.5,-0.5 191.5,-0.5\"/>\n",
       "<text text-anchor=\"start\" x=\"199.5\" y=\"-83.3\" font-family=\"Raleway, Helvetica, Arial, sans-serif\" font-weight=\"bold\" font-size=\"14.00\" fill=\"#6a0dad\">TimeCollector</text>\n",
       "<polyline fill=\"none\" stroke=\"black\" points=\"191.5,-74.5 296.5,-74.5 \"/>\n",
       "<g id=\"a_node6_12\"><a xlink:href=\"#\" xlink:title=\"TimeCollector\">\n",
       "<g id=\"a_node6_13\"><a xlink:href=\"#\" xlink:title=\"__enter__(self) &#45;&gt; Any:&#10;Called at begin of `with` block. Turn tracing on.\">\n",
       "<text text-anchor=\"start\" x=\"205\" y=\"-63.5\" font-family=\"'Fira Mono', 'Source Code Pro', 'Courier', monospace\" font-style=\"italic\" font-size=\"10.00\">__enter__()</text>\n",
       "</a>\n",
       "</g>\n",
       "<g id=\"a_node6_14\"><a xlink:href=\"#\" xlink:title=\"__init__(self) &#45;&gt; None:&#10;Constructor\">\n",
       "<text text-anchor=\"start\" x=\"205\" y=\"-52.5\" font-family=\"'Fira Mono', 'Source Code Pro', 'Courier', monospace\" font-style=\"italic\" font-size=\"10.00\">__init__()</text>\n",
       "</a>\n",
       "</g>\n",
       "<g id=\"a_node6_15\"><a xlink:href=\"#\" xlink:title=\"all_metrics(self, func: str) &#45;&gt; List[float]:&#10;Return all metric for a function `func`.\">\n",
       "<text text-anchor=\"start\" x=\"205\" y=\"-41.5\" font-family=\"'Fira Mono', 'Source Code Pro', 'Courier', monospace\" font-style=\"italic\" font-size=\"10.00\">all_metrics()</text>\n",
       "</a>\n",
       "</g>\n",
       "<g id=\"a_node6_16\"><a xlink:href=\"#\" xlink:title=\"collect(self, frame: frame, event: str, arg: Any) &#45;&gt; None:&#10;Invoked for every line executed. Accumulate time spent.\">\n",
       "<text text-anchor=\"start\" x=\"205\" y=\"-30.5\" font-family=\"'Fira Mono', 'Source Code Pro', 'Courier', monospace\" font-style=\"italic\" font-size=\"10.00\">collect()</text>\n",
       "</a>\n",
       "</g>\n",
       "<g id=\"a_node6_17\"><a xlink:href=\"#\" xlink:title=\"metric(self, location: Any) &#45;&gt; Optional[float]:&#10;Return a metric for an event, or none.\">\n",
       "<text text-anchor=\"start\" x=\"205\" y=\"-19.5\" font-family=\"'Fira Mono', 'Source Code Pro', 'Courier', monospace\" font-style=\"italic\" font-size=\"10.00\">metric()</text>\n",
       "</a>\n",
       "</g>\n",
       "<g id=\"a_node6_18\"><a xlink:href=\"#\" xlink:title=\"reset_timer(self) &#45;&gt; None\">\n",
       "<text text-anchor=\"start\" x=\"205\" y=\"-7.5\" font-family=\"'Fira Mono', 'Source Code Pro', 'Courier', monospace\" font-size=\"10.00\">reset_timer()</text>\n",
       "</a>\n",
       "</g>\n",
       "</a>\n",
       "</g>\n",
       "</a>\n",
       "</g>\n",
       "</g>\n",
       "<!-- MetricCollector -->\n",
       "<g id=\"node7\" class=\"node\">\n",
       "<title>MetricCollector</title>\n",
       "<g id=\"a_node7\"><a xlink:href=\"#\" xlink:title=\"class MetricCollector:&#10;Abstract superclass for collecting line&#45;specific metrics\">\n",
       "<polygon fill=\"none\" stroke=\"black\" points=\"199,-145.5 199,-220.5 311,-220.5 311,-145.5 199,-145.5\"/>\n",
       "<text text-anchor=\"start\" x=\"207\" y=\"-206.3\" font-family=\"Raleway, Helvetica, Arial, sans-serif\" font-weight=\"bold\" font-size=\"14.00\" fill=\"#6a0dad\">MetricCollector</text>\n",
       "<polyline fill=\"none\" stroke=\"black\" points=\"199,-197.5 311,-197.5 \"/>\n",
       "<g id=\"a_node7_19\"><a xlink:href=\"#\" xlink:title=\"MetricCollector\">\n",
       "<g id=\"a_node7_20\"><a xlink:href=\"#\" xlink:title=\"all_metrics(self, func: str) &#45;&gt; List[float]:&#10;Return all metric for a function `func`.\">\n",
       "<text text-anchor=\"start\" x=\"216\" y=\"-186.5\" font-family=\"'Fira Mono', 'Source Code Pro', 'Courier', monospace\" font-style=\"italic\" font-size=\"10.00\">all_metrics()</text>\n",
       "</a>\n",
       "</g>\n",
       "<g id=\"a_node7_21\"><a xlink:href=\"#\" xlink:title=\"maximum(self, func: str) &#45;&gt; float\">\n",
       "<text text-anchor=\"start\" x=\"216\" y=\"-174.5\" font-family=\"'Fira Mono', 'Source Code Pro', 'Courier', monospace\" font-size=\"10.00\">maximum()</text>\n",
       "</a>\n",
       "</g>\n",
       "<g id=\"a_node7_22\"><a xlink:href=\"#\" xlink:title=\"metric(self, event: Any) &#45;&gt; Optional[float]:&#10;Return a metric for an event, or none.\">\n",
       "<text text-anchor=\"start\" x=\"216\" y=\"-164.5\" font-family=\"'Fira Mono', 'Source Code Pro', 'Courier', monospace\" font-style=\"italic\" font-size=\"10.00\">metric()</text>\n",
       "</a>\n",
       "</g>\n",
       "<g id=\"a_node7_23\"><a xlink:href=\"#\" xlink:title=\"total(self, func: str) &#45;&gt; float\">\n",
       "<text text-anchor=\"start\" x=\"216\" y=\"-152.5\" font-family=\"'Fira Mono', 'Source Code Pro', 'Courier', monospace\" font-size=\"10.00\">total()</text>\n",
       "</a>\n",
       "</g>\n",
       "</a>\n",
       "</g>\n",
       "</a>\n",
       "</g>\n",
       "</g>\n",
       "<!-- TimeCollector&#45;&gt;MetricCollector -->\n",
       "<g id=\"edge5\" class=\"edge\">\n",
       "<title>TimeCollector&#45;&gt;MetricCollector</title>\n",
       "<path fill=\"none\" stroke=\"black\" d=\"M247.97,-97.66C248.99,-109.89 250.09,-123.03 251.1,-135.22\"/>\n",
       "<polygon fill=\"none\" stroke=\"black\" points=\"247.61,-135.51 251.93,-145.19 254.59,-134.93 247.61,-135.51\"/>\n",
       "</g>\n",
       "<!-- CoverageCollector -->\n",
       "<g id=\"node8\" class=\"node\">\n",
       "<title>CoverageCollector</title>\n",
       "<g id=\"a_node8\"><a xlink:href=\"StatisticalDebugger.ipynb\" xlink:title=\"class CoverageCollector:&#10;A class to record covered locations during execution.\">\n",
       "<polygon fill=\"none\" stroke=\"black\" points=\"188,-268.5 188,-304.5 322,-304.5 322,-268.5 188,-268.5\"/>\n",
       "<text text-anchor=\"start\" x=\"196\" y=\"-283.8\" font-family=\"Raleway, Helvetica, Arial, sans-serif\" font-weight=\"bold\" font-size=\"14.00\" fill=\"#6a0dad\">CoverageCollector</text>\n",
       "</a>\n",
       "</g>\n",
       "</g>\n",
       "<!-- MetricCollector&#45;&gt;CoverageCollector -->\n",
       "<g id=\"edge6\" class=\"edge\">\n",
       "<title>MetricCollector&#45;&gt;CoverageCollector</title>\n",
       "<path fill=\"none\" stroke=\"black\" d=\"M255,-220.64C255,-232.95 255,-246.46 255,-257.95\"/>\n",
       "<polygon fill=\"none\" stroke=\"black\" points=\"251.5,-258.24 255,-268.24 258.5,-258.24 251.5,-258.24\"/>\n",
       "</g>\n",
       "<!-- Collector -->\n",
       "<g id=\"node9\" class=\"node\">\n",
       "<title>Collector</title>\n",
       "<g id=\"a_node9\"><a xlink:href=\"StatisticalDebugger.ipynb\" xlink:title=\"class Collector:&#10;A class to record events during execution.\">\n",
       "<polygon fill=\"none\" stroke=\"black\" points=\"194.5,-350 194.5,-386 267.5,-386 267.5,-350 194.5,-350\"/>\n",
       "<text text-anchor=\"start\" x=\"202.5\" y=\"-365.3\" font-family=\"Raleway, Helvetica, Arial, sans-serif\" font-weight=\"bold\" font-size=\"14.00\" fill=\"#6a0dad\">Collector</text>\n",
       "</a>\n",
       "</g>\n",
       "</g>\n",
       "<!-- CoverageCollector&#45;&gt;Collector -->\n",
       "<g id=\"edge7\" class=\"edge\">\n",
       "<title>CoverageCollector&#45;&gt;Collector</title>\n",
       "<path fill=\"none\" stroke=\"black\" d=\"M249.79,-304.75C246.68,-315.06 242.66,-328.39 239.13,-340.07\"/>\n",
       "<polygon fill=\"none\" stroke=\"black\" points=\"235.74,-339.2 236.2,-349.78 242.44,-341.22 235.74,-339.2\"/>\n",
       "</g>\n",
       "<!-- StackInspector -->\n",
       "<g id=\"node11\" class=\"node\">\n",
       "<title>StackInspector</title>\n",
       "<g id=\"a_node11\"><a xlink:href=\"StackInspector.ipynb\" xlink:title=\"class StackInspector:&#10;Provide functions to inspect the stack\">\n",
       "<polygon fill=\"none\" stroke=\"black\" points=\"183.5,-504.5 183.5,-546.5 350.5,-546.5 350.5,-504.5 183.5,-504.5\"/>\n",
       "<text text-anchor=\"start\" x=\"220.5\" y=\"-532.3\" font-family=\"Raleway, Helvetica, Arial, sans-serif\" font-weight=\"bold\" font-size=\"14.00\" fill=\"#6a0dad\">StackInspector</text>\n",
       "<polyline fill=\"none\" stroke=\"black\" points=\"183.5,-523.5 350.5,-523.5 \"/>\n",
       "<g id=\"a_node11_24\"><a xlink:href=\"#\" xlink:title=\"StackInspector\">\n",
       "<g id=\"a_node11_25\"><a xlink:href=\"StackInspector.ipynb\" xlink:title=\"_generated_function_cache = {(&#39;remove_html_markup&#39;, 238): &lt;function remove_html_markup at 0x12e758e50&gt;}\">\n",
       "<text text-anchor=\"start\" x=\"192\" y=\"-511\" font-family=\"'Fira Mono', 'Source Code Pro', 'Courier', monospace\" font-size=\"10.00\">_generated_function_cache</text>\n",
       "</a>\n",
       "</g>\n",
       "</a>\n",
       "</g>\n",
       "</a>\n",
       "</g>\n",
       "</g>\n",
       "<!-- CoverageCollector&#45;&gt;StackInspector -->\n",
       "<g id=\"edge10\" class=\"edge\">\n",
       "<title>CoverageCollector&#45;&gt;StackInspector</title>\n",
       "<path fill=\"none\" stroke=\"black\" d=\"M263.72,-304.84C268.38,-315.08 273.63,-328.45 276,-341 286.09,-394.34 278.79,-457.86 272.76,-494.45\"/>\n",
       "<polygon fill=\"none\" stroke=\"black\" points=\"269.28,-494.02 271.03,-504.47 276.18,-495.21 269.28,-494.02\"/>\n",
       "</g>\n",
       "<!-- Tracer -->\n",
       "<g id=\"node10\" class=\"node\">\n",
       "<title>Tracer</title>\n",
       "<g id=\"a_node10\"><a xlink:href=\"Tracer.ipynb\" xlink:title=\"class Tracer:&#10;A class for tracing a piece of code. Use as `with Tracer(): block()`\">\n",
       "<polygon fill=\"none\" stroke=\"black\" points=\"207.5,-431.5 207.5,-467.5 262.5,-467.5 262.5,-431.5 207.5,-431.5\"/>\n",
       "<text text-anchor=\"start\" x=\"215.5\" y=\"-446.8\" font-family=\"Raleway, Helvetica, Arial, sans-serif\" font-weight=\"bold\" font-size=\"14.00\" fill=\"#6a0dad\">Tracer</text>\n",
       "</a>\n",
       "</g>\n",
       "</g>\n",
       "<!-- Collector&#45;&gt;Tracer -->\n",
       "<g id=\"edge8\" class=\"edge\">\n",
       "<title>Collector&#45;&gt;Tracer</title>\n",
       "<path fill=\"none\" stroke=\"black\" d=\"M231.87,-386.25C232.38,-396.46 233.04,-409.62 233.63,-421.21\"/>\n",
       "<polygon fill=\"none\" stroke=\"black\" points=\"230.14,-421.47 234.13,-431.28 237.13,-421.12 230.14,-421.47\"/>\n",
       "</g>\n",
       "<!-- Tracer&#45;&gt;StackInspector -->\n",
       "<g id=\"edge9\" class=\"edge\">\n",
       "<title>Tracer&#45;&gt;StackInspector</title>\n",
       "<path fill=\"none\" stroke=\"black\" d=\"M242.42,-467.66C245.93,-475.78 250.22,-485.69 254.23,-494.96\"/>\n",
       "<polygon fill=\"none\" stroke=\"black\" points=\"251.07,-496.49 258.26,-504.28 257.5,-493.71 251.07,-496.49\"/>\n",
       "</g>\n",
       "<!-- HitCollector -->\n",
       "<g id=\"node12\" class=\"node\">\n",
       "<title>HitCollector</title>\n",
       "<g id=\"a_node12\"><a xlink:href=\"#\" xlink:title=\"class HitCollector:&#10;Collect how often a line is executed\">\n",
       "<polygon fill=\"none\" stroke=\"black\" points=\"314.5,-11.5 314.5,-86.5 409.5,-86.5 409.5,-11.5 314.5,-11.5\"/>\n",
       "<text text-anchor=\"start\" x=\"325\" y=\"-72.3\" font-family=\"Raleway, Helvetica, Arial, sans-serif\" font-weight=\"bold\" font-size=\"14.00\" fill=\"#6a0dad\">HitCollector</text>\n",
       "<polyline fill=\"none\" stroke=\"black\" points=\"314.5,-63.5 409.5,-63.5 \"/>\n",
       "<g id=\"a_node12_26\"><a xlink:href=\"#\" xlink:title=\"HitCollector\">\n",
       "<g id=\"a_node12_27\"><a xlink:href=\"#\" xlink:title=\"__init__(self) &#45;&gt; None:&#10;Constructor.\">\n",
       "<text text-anchor=\"start\" x=\"323\" y=\"-52.5\" font-family=\"'Fira Mono', 'Source Code Pro', 'Courier', monospace\" font-style=\"italic\" font-size=\"10.00\">__init__()</text>\n",
       "</a>\n",
       "</g>\n",
       "<g id=\"a_node12_28\"><a xlink:href=\"#\" xlink:title=\"all_metrics(self, func: str) &#45;&gt; List[float]:&#10;Return all metric for a function `func`.\">\n",
       "<text text-anchor=\"start\" x=\"323\" y=\"-41.5\" font-family=\"'Fira Mono', 'Source Code Pro', 'Courier', monospace\" font-style=\"italic\" font-size=\"10.00\">all_metrics()</text>\n",
       "</a>\n",
       "</g>\n",
       "<g id=\"a_node12_29\"><a xlink:href=\"#\" xlink:title=\"collect(self, frame: frame, event: str, arg: Any) &#45;&gt; None:&#10;Save coverage for an observed event.\">\n",
       "<text text-anchor=\"start\" x=\"323\" y=\"-30.5\" font-family=\"'Fira Mono', 'Source Code Pro', 'Courier', monospace\" font-style=\"italic\" font-size=\"10.00\">collect()</text>\n",
       "</a>\n",
       "</g>\n",
       "<g id=\"a_node12_30\"><a xlink:href=\"#\" xlink:title=\"metric(self, location: Tuple[str, int]) &#45;&gt; Optional[int]:&#10;Return a metric for an event, or none.\">\n",
       "<text text-anchor=\"start\" x=\"323\" y=\"-19.5\" font-family=\"'Fira Mono', 'Source Code Pro', 'Courier', monospace\" font-style=\"italic\" font-size=\"10.00\">metric()</text>\n",
       "</a>\n",
       "</g>\n",
       "</a>\n",
       "</g>\n",
       "</a>\n",
       "</g>\n",
       "</g>\n",
       "<!-- HitCollector&#45;&gt;MetricCollector -->\n",
       "<g id=\"edge11\" class=\"edge\">\n",
       "<title>HitCollector&#45;&gt;MetricCollector</title>\n",
       "<path fill=\"none\" stroke=\"black\" d=\"M332.19,-86.77C319.44,-102.5 304.44,-121.01 291.06,-137.51\"/>\n",
       "<polygon fill=\"none\" stroke=\"black\" points=\"288.22,-135.46 284.65,-145.43 293.66,-139.86 288.22,-135.46\"/>\n",
       "</g>\n",
       "<!-- Legend -->\n",
       "<g id=\"node13\" class=\"node\">\n",
       "<title>Legend</title>\n",
       "<text text-anchor=\"start\" x=\"428\" y=\"-66.5\" font-family=\"Raleway, Helvetica, Arial, sans-serif\" font-weight=\"bold\" font-size=\"10.00\" fill=\"#6a0dad\">Legend</text>\n",
       "<text text-anchor=\"start\" x=\"428\" y=\"-56.5\" font-family=\"Raleway, Helvetica, Arial, sans-serif\" font-size=\"10.00\">• </text>\n",
       "<text text-anchor=\"start\" x=\"435\" y=\"-56.5\" font-family=\"'Fira Mono', 'Source Code Pro', 'Courier', monospace\" font-weight=\"bold\" font-size=\"8.00\">public_method()</text>\n",
       "<text text-anchor=\"start\" x=\"428\" y=\"-46.5\" font-family=\"Raleway, Helvetica, Arial, sans-serif\" font-size=\"10.00\">• </text>\n",
       "<text text-anchor=\"start\" x=\"435\" y=\"-46.5\" font-family=\"'Fira Mono', 'Source Code Pro', 'Courier', monospace\" font-size=\"8.00\">private_method()</text>\n",
       "<text text-anchor=\"start\" x=\"428\" y=\"-36.5\" font-family=\"Raleway, Helvetica, Arial, sans-serif\" font-size=\"10.00\">• </text>\n",
       "<text text-anchor=\"start\" x=\"435\" y=\"-36.5\" font-family=\"'Fira Mono', 'Source Code Pro', 'Courier', monospace\" font-style=\"italic\" font-size=\"8.00\">overloaded_method()</text>\n",
       "<text text-anchor=\"start\" x=\"428\" y=\"-27.3\" font-family=\"Helvetica,sans-Serif\" font-size=\"9.00\">Hover over names to see doc</text>\n",
       "</g>\n",
       "</g>\n",
       "</svg>\n"
      ],
      "text/plain": [
       "<graphviz.dot.Digraph at 0x12f1a80d0>"
      ]
     },
     "execution_count": 57,
     "metadata": {},
     "output_type": "execute_result"
    }
   ],
   "source": [
    "# ignore\n",
    "display_class_hierarchy([PerformanceDebugger, TimeCollector, HitCollector],\n",
    "                        public_methods=[\n",
    "                            PerformanceDebugger.__init__,\n",
    "                        ],\n",
    "                        project='debuggingbook')"
   ]
  },
  {
   "cell_type": "markdown",
   "metadata": {
    "button": false,
    "new_sheet": true,
    "run_control": {
     "read_only": false
    },
    "slideshow": {
     "slide_type": "slide"
    }
   },
   "source": [
    "## Lessons Learned\n",
    "\n",
    "* To measure performance,\n",
    "    * instrument the code such that the time taken per function (or line) is collected; or\n",
    "    * sample the execution that at regular intervals, the active call stack is collected.\n",
    "* To make code performant, focus on efficient algorithms, efficient data types, and sufficient abstraction such that you can replace them by alternatives.\n",
    "* Beyond efficient algorithms and data types, do _not_ optimize before measuring."
   ]
  },
  {
   "cell_type": "markdown",
   "metadata": {
    "button": false,
    "new_sheet": false,
    "run_control": {
     "read_only": false
    },
    "slideshow": {
     "slide_type": "slide"
    }
   },
   "source": [
    "## Next Steps\n",
    "\n",
    "This chapter concludes the part on abstracting failures. The next part will focus on\n",
    "\n",
    "* [repairing code automatically](Repairer.ipynb)"
   ]
  },
  {
   "cell_type": "markdown",
   "metadata": {
    "slideshow": {
     "slide_type": "slide"
    }
   },
   "source": [
    "## Background\n",
    "\n",
    "[Scalene](https://github.com/plasma-umass/scalene) is a high-performance, high-precision CPU, GPU, and memory profiler for Python. In contrast to the standard Python `cProfile` profiler, it uses _sampling_ instead of instrumentation or relying on Python's tracing facilities; and it also supports line-by-line profiling. Scalene might be the tool of choice if you want to go beyond basic profiling.\n",
    "\n",
    "The Wikipedia articles on [profiling](https://en.wikipedia.org/wiki/Profiling_(computer_programming)) and [performance analysis tools](https://en.wikipedia.org/wiki/List_of_performance_analysis_tools) provide several additional resources on profiling tools and how to apply them in practice."
   ]
  },
  {
   "cell_type": "markdown",
   "metadata": {
    "button": false,
    "new_sheet": true,
    "run_control": {
     "read_only": false
    },
    "slideshow": {
     "slide_type": "slide"
    }
   },
   "source": [
    "## Exercises"
   ]
  },
  {
   "cell_type": "markdown",
   "metadata": {
    "button": false,
    "new_sheet": false,
    "run_control": {
     "read_only": false
    },
    "slideshow": {
     "slide_type": "subslide"
    }
   },
   "source": [
    "### Exercise 1: Profiling Memory Usage\n",
    "\n",
    "The Python [`tracemalloc` module](https://docs.python.org/3/library/tracemalloc.html) allows to track memory usage during execution. Between `tracemalloc.start()` and `tracemalloc.end()`, use `tracemalloc.get_traced_memory()` to obtain how much memory is currently being consumed:"
   ]
  },
  {
   "cell_type": "code",
   "execution_count": 58,
   "metadata": {
    "execution": {
     "iopub.execute_input": "2022-01-24T09:59:04.802649Z",
     "iopub.status.busy": "2022-01-24T09:59:04.801460Z",
     "iopub.status.idle": "2022-01-24T09:59:04.806182Z",
     "shell.execute_reply": "2022-01-24T09:59:04.807002Z"
    },
    "slideshow": {
     "slide_type": "skip"
    }
   },
   "outputs": [],
   "source": [
    "import tracemalloc"
   ]
  },
  {
   "cell_type": "code",
   "execution_count": 59,
   "metadata": {
    "execution": {
     "iopub.execute_input": "2022-01-24T09:59:04.815964Z",
     "iopub.status.busy": "2022-01-24T09:59:04.814659Z",
     "iopub.status.idle": "2022-01-24T09:59:04.818674Z",
     "shell.execute_reply": "2022-01-24T09:59:04.819695Z"
    },
    "slideshow": {
     "slide_type": "fragment"
    }
   },
   "outputs": [],
   "source": [
    "tracemalloc.start()"
   ]
  },
  {
   "cell_type": "code",
   "execution_count": 60,
   "metadata": {
    "execution": {
     "iopub.execute_input": "2022-01-24T09:59:04.831134Z",
     "iopub.status.busy": "2022-01-24T09:59:04.829923Z",
     "iopub.status.idle": "2022-01-24T09:59:04.837080Z",
     "shell.execute_reply": "2022-01-24T09:59:04.838008Z"
    },
    "slideshow": {
     "slide_type": "fragment"
    }
   },
   "outputs": [
    {
     "data": {
      "text/plain": [
       "17280"
      ]
     },
     "execution_count": 60,
     "metadata": {},
     "output_type": "execute_result"
    }
   ],
   "source": [
    "current_size, peak_size = tracemalloc.get_traced_memory()\n",
    "current_size"
   ]
  },
  {
   "cell_type": "code",
   "execution_count": 61,
   "metadata": {
    "execution": {
     "iopub.execute_input": "2022-01-24T09:59:04.847095Z",
     "iopub.status.busy": "2022-01-24T09:59:04.846105Z",
     "iopub.status.idle": "2022-01-24T09:59:04.848130Z",
     "shell.execute_reply": "2022-01-24T09:59:04.848903Z"
    },
    "slideshow": {
     "slide_type": "fragment"
    }
   },
   "outputs": [],
   "source": [
    "tracemalloc.stop()"
   ]
  },
  {
   "cell_type": "markdown",
   "metadata": {
    "slideshow": {
     "slide_type": "subslide"
    }
   },
   "source": [
    "Create a subclass of `MetricCollector` named `MemoryCollector`. Have it measure the memory consumption before and after each line executed (0 if negative), and visualize the impact of individual lines on memory. Create an appropriate test program that (temporarily) consumes larger amounts of memory."
   ]
  },
  {
   "cell_type": "markdown",
   "metadata": {
    "slideshow": {
     "slide_type": "slide"
    }
   },
   "source": [
    "## Exercise 2: Statistical Performance Debugging\n",
    "\n",
    "In a similar way as we integrated a binary \"performance test\" with delta debugging, we can also integrate such a test with other techniques. Combining a performance test with [Statistical Debugging](StatisticalDebugger.ipynb), for instance, will highlight those lines whose execution correlates with low performance. But then, the performance test need not be binary, as with functional pass/fail tests – you can also _weight_ individual lines by _how much_ they impact performance. Create a variant of `StatisticalDebugger` that reflects the impact of individual lines on an arbitrary (summarized) performance metric."
   ]
  }
 ],
 "metadata": {
  "ipub": {
   "bibliography": "fuzzingbook.bib",
   "toc": true
  },
  "kernelspec": {
   "display_name": "Python 3",
   "language": "python",
   "name": "python3"
  },
  "language_info": {
   "codemirror_mode": {
    "name": "ipython",
    "version": 3
   },
   "file_extension": ".py",
   "mimetype": "text/x-python",
   "name": "python",
   "nbconvert_exporter": "python",
   "pygments_lexer": "ipython3",
   "version": "3.9.7"
  },
  "toc": {
   "base_numbering": 1,
   "nav_menu": {},
   "number_sections": true,
   "sideBar": true,
   "skip_h1_title": true,
   "title_cell": "",
   "title_sidebar": "Contents",
   "toc_cell": false,
   "toc_position": {},
   "toc_section_display": true,
   "toc_window_display": true
  },
  "toc-autonumbering": false
 },
 "nbformat": 4,
 "nbformat_minor": 4
}