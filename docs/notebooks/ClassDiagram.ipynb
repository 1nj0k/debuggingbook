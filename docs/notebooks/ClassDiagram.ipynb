{
 "cells": [
  {
   "cell_type": "markdown",
   "metadata": {
    "button": false,
    "new_sheet": false,
    "run_control": {
     "read_only": false
    },
    "slideshow": {
     "slide_type": "slide"
    }
   },
   "source": [
    "# Class Diagrams\n",
    "\n",
    "This is a simple viewer for class diagrams.  Customized towards the book."
   ]
  },
  {
   "cell_type": "markdown",
   "metadata": {
    "button": false,
    "new_sheet": false,
    "run_control": {
     "read_only": false
    },
    "slideshow": {
     "slide_type": "subslide"
    }
   },
   "source": [
    "**Prerequisites**\n",
    "\n",
    "* _Refer to earlier chapters as notebooks here, as here:_ [Earlier Chapter](Debugger.ipynb)."
   ]
  },
  {
   "cell_type": "code",
   "execution_count": 1,
   "metadata": {
    "button": false,
    "new_sheet": false,
    "run_control": {
     "read_only": false
    },
    "slideshow": {
     "slide_type": "skip"
    }
   },
   "outputs": [],
   "source": [
    "import bookutils"
   ]
  },
  {
   "cell_type": "markdown",
   "metadata": {
    "slideshow": {
     "slide_type": "slide"
    }
   },
   "source": [
    "## Synopsis\n",
    "<!-- Automatically generated. Do not edit. -->\n",
    "\n",
    "To [use the code provided in this chapter](Importing.ipynb), write\n",
    "\n",
    "```python\n",
    ">>> from debuggingbook.ClassDiagram import <identifier>\n",
    "```\n",
    "\n",
    "and then make use of the following features.\n",
    "\n",
    "\n",
    "The function `display_class_hierarchy()` function shows the class hierarchy for the given class (or list of classes). The keyword parameter `public_methods`, if given, is a list of \"public\" methods to be used by clients (default: all methods with docstrings).\n",
    "\n",
    "```python\n",
    ">>> display_class_hierarchy(D_Class)\n",
    "```\n",
    "\n",
    "![](PICS/ClassDiagram-synopsis-1.svg)\n",
    "```\n",
    "\n",
    ">>> display_class_hierarchy([A_Class, B_Class],\n",
    ">>>                         public_methods=[\n",
    ">>>                             A_Class.quux,\n",
    ">>>                         ])\n",
    "```\n",
    "\n",
    "![](PICS/ClassDiagram-synopsis-2.svg)\n",
    "\n",
    "Enjoy!\n",
    "\n"
   ]
  },
  {
   "cell_type": "markdown",
   "metadata": {
    "button": false,
    "new_sheet": true,
    "run_control": {
     "read_only": false
    },
    "slideshow": {
     "slide_type": "slide"
    }
   },
   "source": [
    "## Getting a Class Hierarchy"
   ]
  },
  {
   "cell_type": "markdown",
   "metadata": {
    "slideshow": {
     "slide_type": "fragment"
    }
   },
   "source": [
    "Using `mro()`, we can access the class hierarchy.  We make sure to avoid duplicates created by `class X(X)`."
   ]
  },
  {
   "cell_type": "code",
   "execution_count": 2,
   "metadata": {
    "slideshow": {
     "slide_type": "fragment"
    }
   },
   "outputs": [],
   "source": [
    "def class_hierarchy(cls):\n",
    "    superclasses = cls.mro()\n",
    "    hierarchy = []\n",
    "    last_superclass_name = \"\"\n",
    "    for superclass in superclasses:\n",
    "        if superclass.__name__ != last_superclass_name:\n",
    "            hierarchy.append(superclass)\n",
    "            last_superclass_name = superclass.__name__\n",
    "    return hierarchy"
   ]
  },
  {
   "cell_type": "markdown",
   "metadata": {
    "slideshow": {
     "slide_type": "fragment"
    }
   },
   "source": [
    "Here's an example:"
   ]
  },
  {
   "cell_type": "code",
   "execution_count": 3,
   "metadata": {
    "slideshow": {
     "slide_type": "subslide"
    }
   },
   "outputs": [],
   "source": [
    "class A_Class:\n",
    "    \"\"\"A Class which does A thing right.\n",
    "    Comes with a longer docstring.\"\"\"\n",
    "    def foo(self):\n",
    "        \"\"\"The Adventures of the glorious Foo\"\"\"\n",
    "        pass\n",
    "\n",
    "    def quux(self):\n",
    "        \"\"\"A method that is not used.\"\"\"\n",
    "        pass"
   ]
  },
  {
   "cell_type": "code",
   "execution_count": 4,
   "metadata": {
    "slideshow": {
     "slide_type": "subslide"
    }
   },
   "outputs": [],
   "source": [
    "class B_Class(A_Class):\n",
    "    \"\"\"A subclass inheriting some methods.\"\"\"\n",
    "    def foo(self, fight=False):\n",
    "        \"\"\"A WW2 foo fighter.\"\"\"\n",
    "        pass\n",
    "    def bar(self, qux=None, bartender=42):\n",
    "        \"\"\"A qux walks into a bar.\n",
    "        `bartender` is an optional attribute.\"\"\"\n",
    "        pass"
   ]
  },
  {
   "cell_type": "code",
   "execution_count": 5,
   "metadata": {
    "slideshow": {
     "slide_type": "fragment"
    }
   },
   "outputs": [],
   "source": [
    "class C_Class:\n",
    "    def qux(self):\n",
    "        pass"
   ]
  },
  {
   "cell_type": "code",
   "execution_count": 6,
   "metadata": {
    "slideshow": {
     "slide_type": "subslide"
    }
   },
   "outputs": [],
   "source": [
    "class D_Class(B_Class, C_Class):\n",
    "    \"\"\"A subclass inheriting from multiple superclasses.\n",
    "    Comes with a fairly long, but meaningless documentation.\"\"\"\n",
    "    def foo(self):\n",
    "        B_Class.foo(self)"
   ]
  },
  {
   "cell_type": "code",
   "execution_count": 7,
   "metadata": {
    "slideshow": {
     "slide_type": "fragment"
    }
   },
   "outputs": [
    {
     "data": {
      "text/plain": [
       "[__main__.D_Class,\n",
       " __main__.B_Class,\n",
       " __main__.A_Class,\n",
       " __main__.C_Class,\n",
       " object]"
      ]
     },
     "execution_count": 7,
     "metadata": {},
     "output_type": "execute_result"
    }
   ],
   "source": [
    "class_hierarchy(D_Class)"
   ]
  },
  {
   "cell_type": "markdown",
   "metadata": {
    "slideshow": {
     "slide_type": "slide"
    }
   },
   "source": [
    "## Getting a Class Tree"
   ]
  },
  {
   "cell_type": "markdown",
   "metadata": {
    "slideshow": {
     "slide_type": "fragment"
    }
   },
   "source": [
    "We can use `__bases__` to obtain the immediate base classes."
   ]
  },
  {
   "cell_type": "code",
   "execution_count": 8,
   "metadata": {
    "slideshow": {
     "slide_type": "fragment"
    }
   },
   "outputs": [
    {
     "data": {
      "text/plain": [
       "(__main__.B_Class, __main__.C_Class)"
      ]
     },
     "execution_count": 8,
     "metadata": {},
     "output_type": "execute_result"
    }
   ],
   "source": [
    "D_Class.__bases__"
   ]
  },
  {
   "cell_type": "code",
   "execution_count": 9,
   "metadata": {
    "slideshow": {
     "slide_type": "fragment"
    }
   },
   "outputs": [],
   "source": [
    "def class_tree(cls):\n",
    "    def base_tree(base):\n",
    "        while base.__name__ == cls.__name__:\n",
    "            base = base.__bases__[0]\n",
    "        return class_tree(base)\n",
    "\n",
    "    ret = []\n",
    "    for base in cls.__bases__:\n",
    "        ret.append((cls, base_tree(base)))\n",
    "    return ret"
   ]
  },
  {
   "cell_type": "code",
   "execution_count": 10,
   "metadata": {
    "slideshow": {
     "slide_type": "subslide"
    }
   },
   "outputs": [
    {
     "data": {
      "text/plain": [
       "[(__main__.D_Class, [(__main__.B_Class, [(__main__.A_Class, [])])]),\n",
       " (__main__.D_Class, [(__main__.C_Class, [])])]"
      ]
     },
     "execution_count": 10,
     "metadata": {},
     "output_type": "execute_result"
    }
   ],
   "source": [
    "class_tree(D_Class)"
   ]
  },
  {
   "cell_type": "markdown",
   "metadata": {
    "slideshow": {
     "slide_type": "fragment"
    }
   },
   "source": [
    "Not perfect yet (multiple instances of same class), but we're getting there."
   ]
  },
  {
   "cell_type": "markdown",
   "metadata": {
    "slideshow": {
     "slide_type": "fragment"
    }
   },
   "source": [
    "`class_set()` flattens the tree into a set:"
   ]
  },
  {
   "cell_type": "code",
   "execution_count": 11,
   "metadata": {
    "slideshow": {
     "slide_type": "subslide"
    }
   },
   "outputs": [],
   "source": [
    "def class_set(classes):\n",
    "    if not isinstance(classes, list):\n",
    "        classes = [classes]\n",
    "\n",
    "    ret = set()\n",
    "    def traverse_tree(tree):\n",
    "        for (cls, subtrees) in tree:\n",
    "            ret.add(cls)\n",
    "            for subtree in subtrees:\n",
    "                traverse_tree(subtrees)\n",
    "\n",
    "    for cls in classes:\n",
    "        traverse_tree(class_tree(cls))\n",
    "\n",
    "    return ret"
   ]
  },
  {
   "cell_type": "code",
   "execution_count": 12,
   "metadata": {
    "slideshow": {
     "slide_type": "subslide"
    }
   },
   "outputs": [
    {
     "data": {
      "text/plain": [
       "{__main__.A_Class, __main__.B_Class, __main__.C_Class, __main__.D_Class}"
      ]
     },
     "execution_count": 12,
     "metadata": {},
     "output_type": "execute_result"
    }
   ],
   "source": [
    "class_set(D_Class)"
   ]
  },
  {
   "cell_type": "code",
   "execution_count": 13,
   "metadata": {
    "slideshow": {
     "slide_type": "fragment"
    }
   },
   "outputs": [
    {
     "data": {
      "text/plain": [
       "{__main__.A_Class, __main__.B_Class, __main__.C_Class}"
      ]
     },
     "execution_count": 13,
     "metadata": {},
     "output_type": "execute_result"
    }
   ],
   "source": [
    "class_set([B_Class, C_Class])"
   ]
  },
  {
   "cell_type": "markdown",
   "metadata": {
    "button": false,
    "new_sheet": false,
    "run_control": {
     "read_only": false
    },
    "slideshow": {
     "slide_type": "slide"
    }
   },
   "source": [
    "## Getting methods"
   ]
  },
  {
   "cell_type": "code",
   "execution_count": 14,
   "metadata": {
    "slideshow": {
     "slide_type": "skip"
    }
   },
   "outputs": [],
   "source": [
    "import inspect"
   ]
  },
  {
   "cell_type": "code",
   "execution_count": 15,
   "metadata": {
    "slideshow": {
     "slide_type": "subslide"
    }
   },
   "outputs": [],
   "source": [
    "def class_methods(cls):\n",
    "    def _class_methods(cls):\n",
    "        all_methods = inspect.getmembers(cls, lambda m: inspect.isfunction(m))\n",
    "        for base in cls.__bases__:\n",
    "            all_methods += _class_methods(base)\n",
    "\n",
    "        return all_methods\n",
    "\n",
    "    unique_methods = []\n",
    "    methods_seen = set()\n",
    "    for (name, fun) in _class_methods(cls):\n",
    "        if name not in methods_seen:\n",
    "            unique_methods.append((name, fun))\n",
    "            methods_seen.add(name)\n",
    "\n",
    "    return unique_methods"
   ]
  },
  {
   "cell_type": "code",
   "execution_count": 16,
   "metadata": {
    "slideshow": {
     "slide_type": "subslide"
    }
   },
   "outputs": [
    {
     "data": {
      "text/plain": [
       "[('bar', <function __main__.B_Class.bar(self, qux=None, bartender=42)>),\n",
       " ('foo', <function __main__.D_Class.foo(self)>),\n",
       " ('quux', <function __main__.A_Class.quux(self)>),\n",
       " ('qux', <function __main__.C_Class.qux(self)>)]"
      ]
     },
     "execution_count": 16,
     "metadata": {},
     "output_type": "execute_result"
    }
   ],
   "source": [
    "class_methods(D_Class)"
   ]
  },
  {
   "cell_type": "markdown",
   "metadata": {
    "slideshow": {
     "slide_type": "fragment"
    }
   },
   "source": [
    "We're only interested in \n",
    "\n",
    "* functions _defined_ in that class\n",
    "* functions that come with a docstring"
   ]
  },
  {
   "cell_type": "code",
   "execution_count": 17,
   "metadata": {
    "slideshow": {
     "slide_type": "fragment"
    }
   },
   "outputs": [],
   "source": [
    "def public_class_methods(cls):\n",
    "    return [(name, method) for (name, method) in class_methods(cls) \n",
    "            if method.__qualname__.startswith(cls.__name__)]"
   ]
  },
  {
   "cell_type": "code",
   "execution_count": 18,
   "metadata": {
    "slideshow": {
     "slide_type": "subslide"
    }
   },
   "outputs": [],
   "source": [
    "def doc_class_methods(cls):\n",
    "    return [(name, method) for (name, method) in public_class_methods(cls) \n",
    "            if method.__doc__ is not None]"
   ]
  },
  {
   "cell_type": "code",
   "execution_count": 19,
   "metadata": {
    "slideshow": {
     "slide_type": "fragment"
    }
   },
   "outputs": [
    {
     "data": {
      "text/plain": [
       "[('foo', <function __main__.D_Class.foo(self)>)]"
      ]
     },
     "execution_count": 19,
     "metadata": {},
     "output_type": "execute_result"
    }
   ],
   "source": [
    "public_class_methods(D_Class)"
   ]
  },
  {
   "cell_type": "code",
   "execution_count": 20,
   "metadata": {
    "slideshow": {
     "slide_type": "fragment"
    }
   },
   "outputs": [
    {
     "data": {
      "text/plain": [
       "[]"
      ]
     },
     "execution_count": 20,
     "metadata": {},
     "output_type": "execute_result"
    }
   ],
   "source": [
    "doc_class_methods(D_Class)"
   ]
  },
  {
   "cell_type": "code",
   "execution_count": 21,
   "metadata": {
    "slideshow": {
     "slide_type": "subslide"
    }
   },
   "outputs": [],
   "source": [
    "def overloaded_class_methods(classes):\n",
    "    all_methods = {}\n",
    "    for cls in class_set(classes):\n",
    "        for (name, method) in class_methods(cls):\n",
    "            if method.__qualname__.startswith(cls.__name__):\n",
    "                all_methods.setdefault(name, set())\n",
    "                all_methods[name].add(cls)\n",
    "            \n",
    "    return [name for name in all_methods if len(all_methods[name]) >= 2]"
   ]
  },
  {
   "cell_type": "code",
   "execution_count": 22,
   "metadata": {
    "slideshow": {
     "slide_type": "fragment"
    }
   },
   "outputs": [
    {
     "data": {
      "text/plain": [
       "['foo']"
      ]
     },
     "execution_count": 22,
     "metadata": {},
     "output_type": "execute_result"
    }
   ],
   "source": [
    "overloaded_class_methods(D_Class)"
   ]
  },
  {
   "cell_type": "markdown",
   "metadata": {
    "slideshow": {
     "slide_type": "slide"
    }
   },
   "source": [
    "## Drawing Class Hierarchy with Method Names"
   ]
  },
  {
   "cell_type": "code",
   "execution_count": 23,
   "metadata": {
    "slideshow": {
     "slide_type": "skip"
    }
   },
   "outputs": [],
   "source": [
    "import html"
   ]
  },
  {
   "cell_type": "code",
   "execution_count": 24,
   "metadata": {
    "slideshow": {
     "slide_type": "skip"
    }
   },
   "outputs": [],
   "source": [
    "import re"
   ]
  },
  {
   "cell_type": "code",
   "execution_count": 25,
   "metadata": {
    "slideshow": {
     "slide_type": "fragment"
    }
   },
   "outputs": [],
   "source": [
    "def escape(text):\n",
    "    text = html.escape(text)\n",
    "    assert '<' not in text\n",
    "    assert '>' not in text\n",
    "    text = text.replace('{', '&#x7b;')\n",
    "    text = text.replace('|', '&#x7c;')\n",
    "    text = text.replace('}', '&#x7d;')\n",
    "    return text"
   ]
  },
  {
   "cell_type": "code",
   "execution_count": 26,
   "metadata": {
    "slideshow": {
     "slide_type": "fragment"
    }
   },
   "outputs": [
    {
     "data": {
      "text/plain": [
       "'f(foo=&#x7b;&#x7d;)'"
      ]
     },
     "execution_count": 26,
     "metadata": {},
     "output_type": "execute_result"
    }
   ],
   "source": [
    "escape(\"f(foo={})\")"
   ]
  },
  {
   "cell_type": "code",
   "execution_count": 27,
   "metadata": {
    "slideshow": {
     "slide_type": "subslide"
    }
   },
   "outputs": [],
   "source": [
    "def escape_doc(docstring):\n",
    "    DOC_INDENT = 4\n",
    "    docstring = \"&#x0a;\".join(\n",
    "        ' ' * DOC_INDENT + escape(line).strip()\n",
    "        for line in docstring.split('\\n')\n",
    "    )\n",
    "    return docstring"
   ]
  },
  {
   "cell_type": "code",
   "execution_count": 28,
   "metadata": {
    "slideshow": {
     "slide_type": "fragment"
    }
   },
   "outputs": [
    {
     "name": "stdout",
     "output_type": "stream",
     "text": [
      "    &#x27;Hello&#x0a;    &#x7b;You&#x7c;Me&#x7d;&#x27;\n"
     ]
    }
   ],
   "source": [
    "print(escape_doc(\"'Hello\\n    {You|Me}'\"))"
   ]
  },
  {
   "cell_type": "code",
   "execution_count": 29,
   "metadata": {
    "slideshow": {
     "slide_type": "skip"
    }
   },
   "outputs": [],
   "source": [
    "from inspect import signature"
   ]
  },
  {
   "cell_type": "code",
   "execution_count": 30,
   "metadata": {
    "slideshow": {
     "slide_type": "skip"
    }
   },
   "outputs": [],
   "source": [
    "import warnings"
   ]
  },
  {
   "cell_type": "code",
   "execution_count": 31,
   "metadata": {
    "slideshow": {
     "slide_type": "subslide"
    }
   },
   "outputs": [],
   "source": [
    "def display_class_hierarchy(classes, \n",
    "                            public_methods=None,\n",
    "                            include_methods=True,\n",
    "                            include_legend=True,\n",
    "                            project='fuzzingbook'):\n",
    "    \"\"\"Visualize a class hierarchy.\n",
    "`classes` is a Python class (or a list of classes) to be visualized.\n",
    "`public_methods`, if given, is a list of methods to be shown as \"public\" (bold).\n",
    "  (Default: all methods with a docstring)\n",
    "`include_methods`: if True, include all methods (default)\n",
    "`include_legend`: if True, include a legend (default)\n",
    "    \"\"\"\n",
    "    from graphviz import Digraph\n",
    "\n",
    "    if project == 'debuggingbook':\n",
    "        CLASS_FONT = 'Raleway, Helvetica, Arial, sans-serif'\n",
    "        CLASS_COLOR = '#6A0DAD'  # HTML 'purple'\n",
    "    else:\n",
    "        CLASS_FONT = 'Patua One, Helvetica, sans-serif'\n",
    "        CLASS_COLOR = '#B03A2E'\n",
    "\n",
    "    METHOD_FONT = \"'Fira Mono', 'Source Code Pro', 'Courier', monospace\"\n",
    "    METHOD_COLOR = 'black'\n",
    "\n",
    "    if isinstance(classes, list):\n",
    "        starting_class = classes[0]\n",
    "    else:\n",
    "        starting_class = classes\n",
    "        classes = [starting_class]\n",
    "\n",
    "    title = starting_class.__name__ + \" class hierarchy\"\n",
    "\n",
    "    dot = Digraph(comment=title)\n",
    "    dot.attr('node', shape='record', fontname=CLASS_FONT)\n",
    "    dot.attr('graph', rankdir='BT', tooltip=title)\n",
    "    dot.attr('edge', arrowhead='empty')\n",
    "    edges = set()\n",
    "    overloaded_methods = set()\n",
    "\n",
    "    def method_string(method_name, public, overloaded, fontsize=10):\n",
    "        method_string = f'<font face=\"{METHOD_FONT}\" point-size=\"{str(fontsize)}\">'\n",
    "\n",
    "        if overloaded:\n",
    "            name = f'<i>{method_name}()</i>'\n",
    "        else:\n",
    "            name = f'{method_name}()'\n",
    "\n",
    "        if public:\n",
    "            method_string += f'<b>{name}</b>'\n",
    "        else:\n",
    "            method_string += f'<font color=\"{METHOD_COLOR}\">' \\\n",
    "                             f'{name}</font>'\n",
    "\n",
    "        method_string += '</font>'\n",
    "        return method_string\n",
    "\n",
    "    def is_overloaded(method_name, f):\n",
    "        return (method_name in overloaded_methods or\n",
    "                (f.__doc__ is not None and \"in subclasses\" in f.__doc__))\n",
    "\n",
    "    def is_public(method_name, f):\n",
    "        if public_methods:\n",
    "            return method_name in public_methods or f in public_methods\n",
    "        else:\n",
    "            return f.__doc__ is not None\n",
    "\n",
    "    def class_methods_string(cls, url):\n",
    "        methods = public_class_methods(cls)\n",
    "        # return \"<br/>\".join([name + \"()\" for (name, f) in methods])\n",
    "        if len(methods) == 0:\n",
    "            return \"\"\n",
    "\n",
    "        methods_string = f'<table border=\"0\" cellpadding=\"0\" ' \\\n",
    "                         f'cellspacing=\"0\" ' \\\n",
    "                         f'align=\"left\" tooltip=\"{cls.__name__}\" href=\"#\">'\n",
    "\n",
    "        for public in [True, False]:\n",
    "            for (name, f) in methods:\n",
    "                if public != is_public(name, f):\n",
    "                    continue\n",
    "                    \n",
    "                if is_public(name, f) and not f.__doc__:\n",
    "                    warnings.warn(f\"{f.__qualname__}() is listed as public,\"\n",
    "                                  f\" but has no docstring\")\n",
    "\n",
    "                overloaded = is_overloaded(name, f)\n",
    "\n",
    "                method_doc = escape(name + str(inspect.signature(f)))\n",
    "                if f.__doc__:\n",
    "                    method_doc += \":&#x0a;\" + escape_doc(f.__doc__)\n",
    "\n",
    "                # Tooltips are only shown if a href is present, too\n",
    "                tooltip = f' tooltip=\"{method_doc}\"'\n",
    "                href = f' href=\"{url}\"'\n",
    "                methods_string += f'<tr><td align=\"left\" border=\"0\"' \\\n",
    "                                  f'{tooltip}{href}>'\n",
    "\n",
    "                methods_string += method_string(name, public, overloaded)\n",
    "\n",
    "                methods_string += '</td></tr>'\n",
    "\n",
    "        methods_string += '</table>'\n",
    "        return methods_string\n",
    "\n",
    "    def display_class_node(cls):\n",
    "        name = cls.__name__\n",
    "        if cls.__module__ == '__main__':\n",
    "            url = '#'\n",
    "        else:\n",
    "            url = cls.__module__ + '.ipynb'\n",
    "\n",
    "        if include_methods:\n",
    "            methods = class_methods_string(cls, url)\n",
    "            spec = '<{<b><font color=\"' + CLASS_COLOR + '\">' + \\\n",
    "                cls.__name__ + '</font></b>|' + methods + '}>'\n",
    "        else:\n",
    "            spec = '<' + cls.__name__ + '>'\n",
    "\n",
    "        class_doc = escape('class ' + cls.__name__)\n",
    "        if cls.__doc__:\n",
    "            class_doc += ':&#x0a;' + escape_doc(cls.__doc__)\n",
    "\n",
    "        dot.node(name, spec, tooltip=class_doc, href=url)\n",
    "\n",
    "    def display_class_tree(trees):\n",
    "        for tree in trees:\n",
    "            (cls, subtrees) = tree\n",
    "            display_class_node(cls)\n",
    "            for subtree in subtrees:\n",
    "                (subcls, _) = subtree\n",
    "\n",
    "                if (cls, subcls) not in edges:\n",
    "                    dot.edge(cls.__name__, subcls.__name__)\n",
    "                    edges.add((cls, subcls))\n",
    "\n",
    "            display_class_tree(subtrees)\n",
    "\n",
    "    def display_legend():\n",
    "        fontsize = 8.0\n",
    "\n",
    "        label = f'<b><font color=\"{CLASS_COLOR}\">Legend</font></b><br align=\"left\"/>' \n",
    "        \n",
    "        for item in [\n",
    "            method_string(\"public_method\",\n",
    "                            public=True, overloaded=False, fontsize=fontsize),\n",
    "            method_string(\"private_method\",\n",
    "                            public=False, overloaded=False, fontsize=fontsize),\n",
    "            method_string(\"overloaded_method\",\n",
    "                            public=False, overloaded=True, fontsize=fontsize)\n",
    "        ]:\n",
    "            label += '&bull;&nbsp;' + item + '<br align=\"left\"/>'\n",
    "        \n",
    "        label += f'<font face=\"Helvetica\" point-size=\"{str(fontsize + 1)}\">' \\\n",
    "                 'Hover over names to see doc' \\\n",
    "                 '</font><br align=\"left\"/>'\n",
    "\n",
    "        dot.node('Legend', label=f'<{label}>', shape='plain', fontsize=str(fontsize + 2))\n",
    "\n",
    "    for cls in classes:\n",
    "        tree = class_tree(cls)\n",
    "        overloaded_methods = overloaded_class_methods(cls)\n",
    "        display_class_tree(tree)\n",
    "        \n",
    "    if include_legend:\n",
    "        display_legend()\n",
    "\n",
    "    return dot"
   ]
  },
  {
   "cell_type": "code",
   "execution_count": 32,
   "metadata": {
    "slideshow": {
     "slide_type": "subslide"
    }
   },
   "outputs": [
    {
     "data": {
      "image/svg+xml": [
       "<?xml version=\"1.0\" encoding=\"UTF-8\" standalone=\"no\"?>\n",
       "<!DOCTYPE svg PUBLIC \"-//W3C//DTD SVG 1.1//EN\"\n",
       " \"http://www.w3.org/Graphics/SVG/1.1/DTD/svg11.dtd\">\n",
       "<!-- Generated by graphviz version 2.40.1 (20161225.0304)\n",
       " -->\n",
       "<!-- Title: %3 Pages: 1 -->\n",
       "<svg width=\"257pt\" height=\"237pt\"\n",
       " viewBox=\"0.00 0.00 256.50 237.00\" xmlns=\"http://www.w3.org/2000/svg\" xmlns:xlink=\"http://www.w3.org/1999/xlink\">\n",
       "<g id=\"graph0\" class=\"graph\" transform=\"scale(1 1) rotate(0) translate(4 233)\">\n",
       "<title>%3</title>\n",
       "<g id=\"a_graph0\"><a xlink:title=\"D_Class class hierarchy\">\n",
       "<polygon fill=\"#ffffff\" stroke=\"transparent\" points=\"-4,4 -4,-233 252.5,-233 252.5,4 -4,4\"/>\n",
       "</a>\n",
       "</g>\n",
       "<!-- D_Class -->\n",
       "<g id=\"node1\" class=\"node\">\n",
       "<title>D_Class</title>\n",
       "<g id=\"a_node1\"><a xlink:href=\"#\" xlink:title=\"class D_Class:&#10; &#160;&#160;&#160;A subclass inheriting from multiple superclasses.&#10; &#160;&#160;&#160;Comes with a fairly long, but meaningless documentation.\">\n",
       "<polygon fill=\"none\" stroke=\"#000000\" points=\"43,-3.5 43,-45.5 112,-45.5 112,-3.5 43,-3.5\"/>\n",
       "<text text-anchor=\"start\" x=\"51\" y=\"-31.3\" font-family=\"Raleway, Helvetica, Arial, sans-serif\" font-weight=\"bold\" font-size=\"14.00\" fill=\"#6a0dad\">D_Class</text>\n",
       "<polyline fill=\"none\" stroke=\"#000000\" points=\"43,-22.5 112,-22.5 \"/>\n",
       "<g id=\"a_node1_0\"><a xlink:href=\"#\" xlink:title=\"D_Class\">\n",
       "<g id=\"a_node1_1\"><a xlink:href=\"#\" xlink:title=\"foo(self)\">\n",
       "<text text-anchor=\"start\" x=\"62.5\" y=\"-11\" font-family=\"'Fira Mono', 'Source Code Pro', 'Courier', monospace\" font-style=\"italic\" font-size=\"10.00\" fill=\"#000000\">foo()</text>\n",
       "</a>\n",
       "</g>\n",
       "</a>\n",
       "</g>\n",
       "</a>\n",
       "</g>\n",
       "</g>\n",
       "<!-- B_Class -->\n",
       "<g id=\"node2\" class=\"node\">\n",
       "<title>B_Class</title>\n",
       "<g id=\"a_node2\"><a xlink:href=\"#\" xlink:title=\"class B_Class:&#10; &#160;&#160;&#160;A subclass inheriting some methods.\">\n",
       "<polygon fill=\"none\" stroke=\"#000000\" points=\"0,-85.5 0,-138.5 69,-138.5 69,-85.5 0,-85.5\"/>\n",
       "<text text-anchor=\"start\" x=\"8\" y=\"-124.3\" font-family=\"Raleway, Helvetica, Arial, sans-serif\" font-weight=\"bold\" font-size=\"14.00\" fill=\"#6a0dad\">B_Class</text>\n",
       "<polyline fill=\"none\" stroke=\"#000000\" points=\"0,-115.5 69,-115.5 \"/>\n",
       "<g id=\"a_node2_2\"><a xlink:href=\"#\" xlink:title=\"B_Class\">\n",
       "<g id=\"a_node2_3\"><a xlink:href=\"#\" xlink:title=\"bar(self, qux=None, bartender=42):&#10; &#160;&#160;&#160;A qux walks into a bar.&#10; &#160;&#160;&#160;`bartender` is an optional attribute.\">\n",
       "<text text-anchor=\"start\" x=\"19.5\" y=\"-104.5\" font-family=\"'Fira Mono', 'Source Code Pro', 'Courier', monospace\" font-weight=\"bold\" font-size=\"10.00\" fill=\"#000000\">bar()</text>\n",
       "</a>\n",
       "</g>\n",
       "<g id=\"a_node2_4\"><a xlink:href=\"#\" xlink:title=\"foo(self, fight=False):&#10; &#160;&#160;&#160;A WW2 foo fighter.\">\n",
       "<text text-anchor=\"start\" x=\"19.5\" y=\"-93.5\" font-family=\"'Fira Mono', 'Source Code Pro', 'Courier', monospace\" font-weight=\"bold\" font-style=\"italic\" font-size=\"10.00\" fill=\"#000000\">foo()</text>\n",
       "</a>\n",
       "</g>\n",
       "</a>\n",
       "</g>\n",
       "</a>\n",
       "</g>\n",
       "</g>\n",
       "<!-- D_Class&#45;&gt;B_Class -->\n",
       "<g id=\"edge1\" class=\"edge\">\n",
       "<title>D_Class&#45;&gt;B_Class</title>\n",
       "<path fill=\"none\" stroke=\"#000000\" d=\"M67.0909,-45.6813C62.5998,-54.8201 57.2197,-65.7681 52.1373,-76.1102\"/>\n",
       "<polygon fill=\"none\" stroke=\"#000000\" points=\"48.8569,-74.8499 47.5875,-85.3684 55.1393,-77.9373 48.8569,-74.8499\"/>\n",
       "</g>\n",
       "<!-- C_Class -->\n",
       "<g id=\"node4\" class=\"node\">\n",
       "<title>C_Class</title>\n",
       "<g id=\"a_node4\"><a xlink:href=\"#\" xlink:title=\"class C_Class\">\n",
       "<polygon fill=\"none\" stroke=\"#000000\" points=\"87,-91 87,-133 156,-133 156,-91 87,-91\"/>\n",
       "<text text-anchor=\"start\" x=\"95\" y=\"-118.8\" font-family=\"Raleway, Helvetica, Arial, sans-serif\" font-weight=\"bold\" font-size=\"14.00\" fill=\"#6a0dad\">C_Class</text>\n",
       "<polyline fill=\"none\" stroke=\"#000000\" points=\"87,-110 156,-110 \"/>\n",
       "<g id=\"a_node4_5\"><a xlink:href=\"#\" xlink:title=\"C_Class\">\n",
       "<g id=\"a_node4_6\"><a xlink:href=\"#\" xlink:title=\"qux(self)\">\n",
       "<text text-anchor=\"start\" x=\"106.5\" y=\"-97.5\" font-family=\"'Fira Mono', 'Source Code Pro', 'Courier', monospace\" font-size=\"10.00\" fill=\"#000000\">qux()</text>\n",
       "</a>\n",
       "</g>\n",
       "</a>\n",
       "</g>\n",
       "</a>\n",
       "</g>\n",
       "</g>\n",
       "<!-- D_Class&#45;&gt;C_Class -->\n",
       "<g id=\"edge3\" class=\"edge\">\n",
       "<title>D_Class&#45;&gt;C_Class</title>\n",
       "<path fill=\"none\" stroke=\"#000000\" d=\"M88.1512,-45.6813C93.5697,-56.4568 100.253,-69.7475 106.2104,-81.5945\"/>\n",
       "<polygon fill=\"none\" stroke=\"#000000\" points=\"103.1749,-83.3488 110.7944,-90.7105 109.4287,-80.204 103.1749,-83.3488\"/>\n",
       "</g>\n",
       "<!-- A_Class -->\n",
       "<g id=\"node3\" class=\"node\">\n",
       "<title>A_Class</title>\n",
       "<g id=\"a_node3\"><a xlink:href=\"#\" xlink:title=\"class A_Class:&#10; &#160;&#160;&#160;A Class which does A thing right.&#10; &#160;&#160;&#160;Comes with a longer docstring.\">\n",
       "<polygon fill=\"none\" stroke=\"#000000\" points=\".5,-175.5 .5,-228.5 68.5,-228.5 68.5,-175.5 .5,-175.5\"/>\n",
       "<text text-anchor=\"start\" x=\"8.5\" y=\"-214.3\" font-family=\"Raleway, Helvetica, Arial, sans-serif\" font-weight=\"bold\" font-size=\"14.00\" fill=\"#6a0dad\">A_Class</text>\n",
       "<polyline fill=\"none\" stroke=\"#000000\" points=\".5,-205.5 68.5,-205.5 \"/>\n",
       "<g id=\"a_node3_7\"><a xlink:href=\"#\" xlink:title=\"A_Class\">\n",
       "<g id=\"a_node3_8\"><a xlink:href=\"#\" xlink:title=\"foo(self):&#10; &#160;&#160;&#160;The Adventures of the glorious Foo\">\n",
       "<text text-anchor=\"start\" x=\"16.5\" y=\"-194.5\" font-family=\"'Fira Mono', 'Source Code Pro', 'Courier', monospace\" font-weight=\"bold\" font-style=\"italic\" font-size=\"10.00\" fill=\"#000000\">foo()</text>\n",
       "</a>\n",
       "</g>\n",
       "<g id=\"a_node3_9\"><a xlink:href=\"#\" xlink:title=\"quux(self):&#10; &#160;&#160;&#160;A method that is not used.\">\n",
       "<text text-anchor=\"start\" x=\"16.5\" y=\"-183.5\" font-family=\"'Fira Mono', 'Source Code Pro', 'Courier', monospace\" font-weight=\"bold\" font-size=\"10.00\" fill=\"#000000\">quux()</text>\n",
       "</a>\n",
       "</g>\n",
       "</a>\n",
       "</g>\n",
       "</a>\n",
       "</g>\n",
       "</g>\n",
       "<!-- B_Class&#45;&gt;A_Class -->\n",
       "<g id=\"edge2\" class=\"edge\">\n",
       "<title>B_Class&#45;&gt;A_Class</title>\n",
       "<path fill=\"none\" stroke=\"#000000\" d=\"M34.5,-138.5162C34.5,-146.8642 34.5,-156.2395 34.5,-165.1704\"/>\n",
       "<polygon fill=\"none\" stroke=\"#000000\" points=\"31.0001,-165.3623 34.5,-175.3623 38.0001,-165.3624 31.0001,-165.3623\"/>\n",
       "</g>\n",
       "<!-- Legend -->\n",
       "<g id=\"node5\" class=\"node\">\n",
       "<title>Legend</title>\n",
       "<text text-anchor=\"start\" x=\"130.5\" y=\"-42\" font-family=\"Raleway, Helvetica, Arial, sans-serif\" font-weight=\"bold\" font-size=\"10.00\" fill=\"#6a0dad\">Legend</text>\n",
       "<text text-anchor=\"start\" x=\"130.5\" y=\"-32\" font-family=\"Raleway, Helvetica, Arial, sans-serif\" font-size=\"10.00\" fill=\"#000000\">• </text>\n",
       "<text text-anchor=\"start\" x=\"137.5\" y=\"-32\" font-family=\"'Fira Mono', 'Source Code Pro', 'Courier', monospace\" font-weight=\"bold\" font-size=\"8.00\" fill=\"#000000\">public_method()</text>\n",
       "<text text-anchor=\"start\" x=\"130.5\" y=\"-22\" font-family=\"Raleway, Helvetica, Arial, sans-serif\" font-size=\"10.00\" fill=\"#000000\">• </text>\n",
       "<text text-anchor=\"start\" x=\"137.5\" y=\"-22\" font-family=\"'Fira Mono', 'Source Code Pro', 'Courier', monospace\" font-size=\"8.00\" fill=\"#000000\">private_method()</text>\n",
       "<text text-anchor=\"start\" x=\"130.5\" y=\"-12\" font-family=\"Raleway, Helvetica, Arial, sans-serif\" font-size=\"10.00\" fill=\"#000000\">• </text>\n",
       "<text text-anchor=\"start\" x=\"137.5\" y=\"-12\" font-family=\"'Fira Mono', 'Source Code Pro', 'Courier', monospace\" font-style=\"italic\" font-size=\"8.00\" fill=\"#000000\">overloaded_method()</text>\n",
       "<text text-anchor=\"start\" x=\"130.5\" y=\"-2.8\" font-family=\"Helvetica,sans-Serif\" font-size=\"9.00\" fill=\"#000000\">Hover over names to see doc</text>\n",
       "</g>\n",
       "</g>\n",
       "</svg>\n"
      ],
      "text/plain": [
       "<graphviz.dot.Digraph at 0x7fc5d70aeb00>"
      ]
     },
     "execution_count": 32,
     "metadata": {},
     "output_type": "execute_result"
    }
   ],
   "source": [
    "display_class_hierarchy(D_Class, project='debuggingbook')"
   ]
  },
  {
   "cell_type": "code",
   "execution_count": 33,
   "metadata": {
    "slideshow": {
     "slide_type": "fragment"
    }
   },
   "outputs": [
    {
     "data": {
      "image/svg+xml": [
       "<?xml version=\"1.0\" encoding=\"UTF-8\" standalone=\"no\"?>\n",
       "<!DOCTYPE svg PUBLIC \"-//W3C//DTD SVG 1.1//EN\"\n",
       " \"http://www.w3.org/Graphics/SVG/1.1/DTD/svg11.dtd\">\n",
       "<!-- Generated by graphviz version 2.40.1 (20161225.0304)\n",
       " -->\n",
       "<!-- Title: %3 Pages: 1 -->\n",
       "<svg width=\"252pt\" height=\"237pt\"\n",
       " viewBox=\"0.00 0.00 252.00 237.00\" xmlns=\"http://www.w3.org/2000/svg\" xmlns:xlink=\"http://www.w3.org/1999/xlink\">\n",
       "<g id=\"graph0\" class=\"graph\" transform=\"scale(1 1) rotate(0) translate(4 233)\">\n",
       "<title>%3</title>\n",
       "<g id=\"a_graph0\"><a xlink:title=\"D_Class class hierarchy\">\n",
       "<polygon fill=\"#ffffff\" stroke=\"transparent\" points=\"-4,4 -4,-233 248,-233 248,4 -4,4\"/>\n",
       "</a>\n",
       "</g>\n",
       "<!-- D_Class -->\n",
       "<g id=\"node1\" class=\"node\">\n",
       "<title>D_Class</title>\n",
       "<g id=\"a_node1\"><a xlink:href=\"#\" xlink:title=\"class D_Class:&#10; &#160;&#160;&#160;A subclass inheriting from multiple superclasses.&#10; &#160;&#160;&#160;Comes with a fairly long, but meaningless documentation.\">\n",
       "<polygon fill=\"none\" stroke=\"#000000\" points=\"42,-3.5 42,-45.5 108,-45.5 108,-3.5 42,-3.5\"/>\n",
       "<text text-anchor=\"start\" x=\"50\" y=\"-31.3\" font-family=\"Patua One, Helvetica, sans-serif\" font-weight=\"bold\" font-size=\"14.00\" fill=\"#b03a2e\">D_Class</text>\n",
       "<polyline fill=\"none\" stroke=\"#000000\" points=\"42,-22.5 108,-22.5 \"/>\n",
       "<g id=\"a_node1_0\"><a xlink:href=\"#\" xlink:title=\"D_Class\">\n",
       "<g id=\"a_node1_1\"><a xlink:href=\"#\" xlink:title=\"foo(self)\">\n",
       "<text text-anchor=\"start\" x=\"60\" y=\"-11\" font-family=\"'Fira Mono', 'Source Code Pro', 'Courier', monospace\" font-style=\"italic\" font-size=\"10.00\" fill=\"#000000\">foo()</text>\n",
       "</a>\n",
       "</g>\n",
       "</a>\n",
       "</g>\n",
       "</a>\n",
       "</g>\n",
       "</g>\n",
       "<!-- B_Class -->\n",
       "<g id=\"node2\" class=\"node\">\n",
       "<title>B_Class</title>\n",
       "<g id=\"a_node2\"><a xlink:href=\"#\" xlink:title=\"class B_Class:&#10; &#160;&#160;&#160;A subclass inheriting some methods.\">\n",
       "<polygon fill=\"none\" stroke=\"#000000\" points=\"0,-85.5 0,-138.5 66,-138.5 66,-85.5 0,-85.5\"/>\n",
       "<text text-anchor=\"start\" x=\"8\" y=\"-124.3\" font-family=\"Patua One, Helvetica, sans-serif\" font-weight=\"bold\" font-size=\"14.00\" fill=\"#b03a2e\">B_Class</text>\n",
       "<polyline fill=\"none\" stroke=\"#000000\" points=\"0,-115.5 66,-115.5 \"/>\n",
       "<g id=\"a_node2_2\"><a xlink:href=\"#\" xlink:title=\"B_Class\">\n",
       "<g id=\"a_node2_3\"><a xlink:href=\"#\" xlink:title=\"bar(self, qux=None, bartender=42):&#10; &#160;&#160;&#160;A qux walks into a bar.&#10; &#160;&#160;&#160;`bartender` is an optional attribute.\">\n",
       "<text text-anchor=\"start\" x=\"18\" y=\"-104.5\" font-family=\"'Fira Mono', 'Source Code Pro', 'Courier', monospace\" font-weight=\"bold\" font-size=\"10.00\" fill=\"#000000\">bar()</text>\n",
       "</a>\n",
       "</g>\n",
       "<g id=\"a_node2_4\"><a xlink:href=\"#\" xlink:title=\"foo(self, fight=False):&#10; &#160;&#160;&#160;A WW2 foo fighter.\">\n",
       "<text text-anchor=\"start\" x=\"18\" y=\"-93.5\" font-family=\"'Fira Mono', 'Source Code Pro', 'Courier', monospace\" font-weight=\"bold\" font-style=\"italic\" font-size=\"10.00\" fill=\"#000000\">foo()</text>\n",
       "</a>\n",
       "</g>\n",
       "</a>\n",
       "</g>\n",
       "</a>\n",
       "</g>\n",
       "</g>\n",
       "<!-- D_Class&#45;&gt;B_Class -->\n",
       "<g id=\"edge1\" class=\"edge\">\n",
       "<title>D_Class&#45;&gt;B_Class</title>\n",
       "<path fill=\"none\" stroke=\"#000000\" d=\"M64.833,-45.6813C60.4464,-54.8201 55.1913,-65.7681 50.2271,-76.1102\"/>\n",
       "<polygon fill=\"none\" stroke=\"#000000\" points=\"46.9552,-74.8386 45.7832,-85.3684 53.2659,-77.8678 46.9552,-74.8386\"/>\n",
       "</g>\n",
       "<!-- C_Class -->\n",
       "<g id=\"node4\" class=\"node\">\n",
       "<title>C_Class</title>\n",
       "<g id=\"a_node4\"><a xlink:href=\"#\" xlink:title=\"class C_Class\">\n",
       "<polygon fill=\"none\" stroke=\"#000000\" points=\"84.5,-91 84.5,-133 149.5,-133 149.5,-91 84.5,-91\"/>\n",
       "<text text-anchor=\"start\" x=\"92.5\" y=\"-118.8\" font-family=\"Patua One, Helvetica, sans-serif\" font-weight=\"bold\" font-size=\"14.00\" fill=\"#b03a2e\">C_Class</text>\n",
       "<polyline fill=\"none\" stroke=\"#000000\" points=\"84.5,-110 149.5,-110 \"/>\n",
       "<g id=\"a_node4_5\"><a xlink:href=\"#\" xlink:title=\"C_Class\">\n",
       "<g id=\"a_node4_6\"><a xlink:href=\"#\" xlink:title=\"qux(self)\">\n",
       "<text text-anchor=\"start\" x=\"102\" y=\"-97.5\" font-family=\"'Fira Mono', 'Source Code Pro', 'Courier', monospace\" font-size=\"10.00\" fill=\"#000000\">qux()</text>\n",
       "</a>\n",
       "</g>\n",
       "</a>\n",
       "</g>\n",
       "</a>\n",
       "</g>\n",
       "</g>\n",
       "<!-- D_Class&#45;&gt;C_Class -->\n",
       "<g id=\"edge3\" class=\"edge\">\n",
       "<title>D_Class&#45;&gt;C_Class</title>\n",
       "<path fill=\"none\" stroke=\"#000000\" d=\"M85.167,-45.6813C90.3392,-56.4568 96.7188,-69.7475 102.4054,-81.5945\"/>\n",
       "<polygon fill=\"none\" stroke=\"#000000\" points=\"99.2983,-83.2098 106.781,-90.7105 105.609,-80.1807 99.2983,-83.2098\"/>\n",
       "</g>\n",
       "<!-- A_Class -->\n",
       "<g id=\"node3\" class=\"node\">\n",
       "<title>A_Class</title>\n",
       "<g id=\"a_node3\"><a xlink:href=\"#\" xlink:title=\"class A_Class:&#10; &#160;&#160;&#160;A Class which does A thing right.&#10; &#160;&#160;&#160;Comes with a longer docstring.\">\n",
       "<polygon fill=\"none\" stroke=\"#000000\" points=\"0,-175.5 0,-228.5 66,-228.5 66,-175.5 0,-175.5\"/>\n",
       "<text text-anchor=\"start\" x=\"8\" y=\"-214.3\" font-family=\"Patua One, Helvetica, sans-serif\" font-weight=\"bold\" font-size=\"14.00\" fill=\"#b03a2e\">A_Class</text>\n",
       "<polyline fill=\"none\" stroke=\"#000000\" points=\"0,-205.5 66,-205.5 \"/>\n",
       "<g id=\"a_node3_7\"><a xlink:href=\"#\" xlink:title=\"A_Class\">\n",
       "<g id=\"a_node3_8\"><a xlink:href=\"#\" xlink:title=\"foo(self):&#10; &#160;&#160;&#160;The Adventures of the glorious Foo\">\n",
       "<text text-anchor=\"start\" x=\"15\" y=\"-194.5\" font-family=\"'Fira Mono', 'Source Code Pro', 'Courier', monospace\" font-weight=\"bold\" font-style=\"italic\" font-size=\"10.00\" fill=\"#000000\">foo()</text>\n",
       "</a>\n",
       "</g>\n",
       "<g id=\"a_node3_9\"><a xlink:href=\"#\" xlink:title=\"quux(self):&#10; &#160;&#160;&#160;A method that is not used.\">\n",
       "<text text-anchor=\"start\" x=\"15\" y=\"-183.5\" font-family=\"'Fira Mono', 'Source Code Pro', 'Courier', monospace\" font-weight=\"bold\" font-size=\"10.00\" fill=\"#000000\">quux()</text>\n",
       "</a>\n",
       "</g>\n",
       "</a>\n",
       "</g>\n",
       "</a>\n",
       "</g>\n",
       "</g>\n",
       "<!-- B_Class&#45;&gt;A_Class -->\n",
       "<g id=\"edge2\" class=\"edge\">\n",
       "<title>B_Class&#45;&gt;A_Class</title>\n",
       "<path fill=\"none\" stroke=\"#000000\" d=\"M33,-138.5162C33,-146.8642 33,-156.2395 33,-165.1704\"/>\n",
       "<polygon fill=\"none\" stroke=\"#000000\" points=\"29.5001,-165.3623 33,-175.3623 36.5001,-165.3624 29.5001,-165.3623\"/>\n",
       "</g>\n",
       "<!-- Legend -->\n",
       "<g id=\"node5\" class=\"node\">\n",
       "<title>Legend</title>\n",
       "<text text-anchor=\"start\" x=\"126\" y=\"-42\" font-family=\"Patua One, Helvetica, sans-serif\" font-weight=\"bold\" font-size=\"10.00\" fill=\"#b03a2e\">Legend</text>\n",
       "<text text-anchor=\"start\" x=\"126\" y=\"-32\" font-family=\"Patua One, Helvetica, sans-serif\" font-size=\"10.00\" fill=\"#000000\">• </text>\n",
       "<text text-anchor=\"start\" x=\"132\" y=\"-32\" font-family=\"'Fira Mono', 'Source Code Pro', 'Courier', monospace\" font-weight=\"bold\" font-size=\"8.00\" fill=\"#000000\">public_method()</text>\n",
       "<text text-anchor=\"start\" x=\"126\" y=\"-22\" font-family=\"Patua One, Helvetica, sans-serif\" font-size=\"10.00\" fill=\"#000000\">• </text>\n",
       "<text text-anchor=\"start\" x=\"132\" y=\"-22\" font-family=\"'Fira Mono', 'Source Code Pro', 'Courier', monospace\" font-size=\"8.00\" fill=\"#000000\">private_method()</text>\n",
       "<text text-anchor=\"start\" x=\"126\" y=\"-12\" font-family=\"Patua One, Helvetica, sans-serif\" font-size=\"10.00\" fill=\"#000000\">• </text>\n",
       "<text text-anchor=\"start\" x=\"132\" y=\"-12\" font-family=\"'Fira Mono', 'Source Code Pro', 'Courier', monospace\" font-style=\"italic\" font-size=\"8.00\" fill=\"#000000\">overloaded_method()</text>\n",
       "<text text-anchor=\"start\" x=\"126\" y=\"-2.8\" font-family=\"Helvetica,sans-Serif\" font-size=\"9.00\" fill=\"#000000\">Hover over names to see doc</text>\n",
       "</g>\n",
       "</g>\n",
       "</svg>\n"
      ],
      "text/plain": [
       "<graphviz.dot.Digraph at 0x7fc5d74e0b38>"
      ]
     },
     "execution_count": 33,
     "metadata": {},
     "output_type": "execute_result"
    }
   ],
   "source": [
    "display_class_hierarchy(D_Class, project='fuzzingbook')"
   ]
  },
  {
   "cell_type": "markdown",
   "metadata": {
    "slideshow": {
     "slide_type": "slide"
    }
   },
   "source": [
    "## Synopsis"
   ]
  },
  {
   "cell_type": "markdown",
   "metadata": {
    "slideshow": {
     "slide_type": "fragment"
    }
   },
   "source": [
    "The function `display_class_hierarchy()` function shows the class hierarchy for the given class (or list of classes). The keyword parameter `public_methods`, if given, is a list of \"public\" methods to be used by clients (default: all methods with docstrings)."
   ]
  },
  {
   "cell_type": "code",
   "execution_count": 34,
   "metadata": {
    "slideshow": {
     "slide_type": "fragment"
    }
   },
   "outputs": [
    {
     "data": {
      "image/svg+xml": [
       "<?xml version=\"1.0\" encoding=\"UTF-8\" standalone=\"no\"?>\n",
       "<!DOCTYPE svg PUBLIC \"-//W3C//DTD SVG 1.1//EN\"\n",
       " \"http://www.w3.org/Graphics/SVG/1.1/DTD/svg11.dtd\">\n",
       "<!-- Generated by graphviz version 2.40.1 (20161225.0304)\n",
       " -->\n",
       "<!-- Title: %3 Pages: 1 -->\n",
       "<svg width=\"252pt\" height=\"237pt\"\n",
       " viewBox=\"0.00 0.00 252.00 237.00\" xmlns=\"http://www.w3.org/2000/svg\" xmlns:xlink=\"http://www.w3.org/1999/xlink\">\n",
       "<g id=\"graph0\" class=\"graph\" transform=\"scale(1 1) rotate(0) translate(4 233)\">\n",
       "<title>%3</title>\n",
       "<g id=\"a_graph0\"><a xlink:title=\"D_Class class hierarchy\">\n",
       "<polygon fill=\"#ffffff\" stroke=\"transparent\" points=\"-4,4 -4,-233 248,-233 248,4 -4,4\"/>\n",
       "</a>\n",
       "</g>\n",
       "<!-- D_Class -->\n",
       "<g id=\"node1\" class=\"node\">\n",
       "<title>D_Class</title>\n",
       "<g id=\"a_node1\"><a xlink:href=\"#\" xlink:title=\"class D_Class:&#10; &#160;&#160;&#160;A subclass inheriting from multiple superclasses.&#10; &#160;&#160;&#160;Comes with a fairly long, but meaningless documentation.\">\n",
       "<polygon fill=\"none\" stroke=\"#000000\" points=\"42,-3.5 42,-45.5 108,-45.5 108,-3.5 42,-3.5\"/>\n",
       "<text text-anchor=\"start\" x=\"50\" y=\"-31.3\" font-family=\"Patua One, Helvetica, sans-serif\" font-weight=\"bold\" font-size=\"14.00\" fill=\"#b03a2e\">D_Class</text>\n",
       "<polyline fill=\"none\" stroke=\"#000000\" points=\"42,-22.5 108,-22.5 \"/>\n",
       "<g id=\"a_node1_0\"><a xlink:href=\"#\" xlink:title=\"D_Class\">\n",
       "<g id=\"a_node1_1\"><a xlink:href=\"#\" xlink:title=\"foo(self)\">\n",
       "<text text-anchor=\"start\" x=\"60\" y=\"-11\" font-family=\"'Fira Mono', 'Source Code Pro', 'Courier', monospace\" font-style=\"italic\" font-size=\"10.00\" fill=\"#000000\">foo()</text>\n",
       "</a>\n",
       "</g>\n",
       "</a>\n",
       "</g>\n",
       "</a>\n",
       "</g>\n",
       "</g>\n",
       "<!-- B_Class -->\n",
       "<g id=\"node2\" class=\"node\">\n",
       "<title>B_Class</title>\n",
       "<g id=\"a_node2\"><a xlink:href=\"#\" xlink:title=\"class B_Class:&#10; &#160;&#160;&#160;A subclass inheriting some methods.\">\n",
       "<polygon fill=\"none\" stroke=\"#000000\" points=\"0,-85.5 0,-138.5 66,-138.5 66,-85.5 0,-85.5\"/>\n",
       "<text text-anchor=\"start\" x=\"8\" y=\"-124.3\" font-family=\"Patua One, Helvetica, sans-serif\" font-weight=\"bold\" font-size=\"14.00\" fill=\"#b03a2e\">B_Class</text>\n",
       "<polyline fill=\"none\" stroke=\"#000000\" points=\"0,-115.5 66,-115.5 \"/>\n",
       "<g id=\"a_node2_2\"><a xlink:href=\"#\" xlink:title=\"B_Class\">\n",
       "<g id=\"a_node2_3\"><a xlink:href=\"#\" xlink:title=\"bar(self, qux=None, bartender=42):&#10; &#160;&#160;&#160;A qux walks into a bar.&#10; &#160;&#160;&#160;`bartender` is an optional attribute.\">\n",
       "<text text-anchor=\"start\" x=\"18\" y=\"-104.5\" font-family=\"'Fira Mono', 'Source Code Pro', 'Courier', monospace\" font-weight=\"bold\" font-size=\"10.00\" fill=\"#000000\">bar()</text>\n",
       "</a>\n",
       "</g>\n",
       "<g id=\"a_node2_4\"><a xlink:href=\"#\" xlink:title=\"foo(self, fight=False):&#10; &#160;&#160;&#160;A WW2 foo fighter.\">\n",
       "<text text-anchor=\"start\" x=\"18\" y=\"-93.5\" font-family=\"'Fira Mono', 'Source Code Pro', 'Courier', monospace\" font-weight=\"bold\" font-style=\"italic\" font-size=\"10.00\" fill=\"#000000\">foo()</text>\n",
       "</a>\n",
       "</g>\n",
       "</a>\n",
       "</g>\n",
       "</a>\n",
       "</g>\n",
       "</g>\n",
       "<!-- D_Class&#45;&gt;B_Class -->\n",
       "<g id=\"edge1\" class=\"edge\">\n",
       "<title>D_Class&#45;&gt;B_Class</title>\n",
       "<path fill=\"none\" stroke=\"#000000\" d=\"M64.833,-45.6813C60.4464,-54.8201 55.1913,-65.7681 50.2271,-76.1102\"/>\n",
       "<polygon fill=\"none\" stroke=\"#000000\" points=\"46.9552,-74.8386 45.7832,-85.3684 53.2659,-77.8678 46.9552,-74.8386\"/>\n",
       "</g>\n",
       "<!-- C_Class -->\n",
       "<g id=\"node4\" class=\"node\">\n",
       "<title>C_Class</title>\n",
       "<g id=\"a_node4\"><a xlink:href=\"#\" xlink:title=\"class C_Class\">\n",
       "<polygon fill=\"none\" stroke=\"#000000\" points=\"84.5,-91 84.5,-133 149.5,-133 149.5,-91 84.5,-91\"/>\n",
       "<text text-anchor=\"start\" x=\"92.5\" y=\"-118.8\" font-family=\"Patua One, Helvetica, sans-serif\" font-weight=\"bold\" font-size=\"14.00\" fill=\"#b03a2e\">C_Class</text>\n",
       "<polyline fill=\"none\" stroke=\"#000000\" points=\"84.5,-110 149.5,-110 \"/>\n",
       "<g id=\"a_node4_5\"><a xlink:href=\"#\" xlink:title=\"C_Class\">\n",
       "<g id=\"a_node4_6\"><a xlink:href=\"#\" xlink:title=\"qux(self)\">\n",
       "<text text-anchor=\"start\" x=\"102\" y=\"-97.5\" font-family=\"'Fira Mono', 'Source Code Pro', 'Courier', monospace\" font-size=\"10.00\" fill=\"#000000\">qux()</text>\n",
       "</a>\n",
       "</g>\n",
       "</a>\n",
       "</g>\n",
       "</a>\n",
       "</g>\n",
       "</g>\n",
       "<!-- D_Class&#45;&gt;C_Class -->\n",
       "<g id=\"edge3\" class=\"edge\">\n",
       "<title>D_Class&#45;&gt;C_Class</title>\n",
       "<path fill=\"none\" stroke=\"#000000\" d=\"M85.167,-45.6813C90.3392,-56.4568 96.7188,-69.7475 102.4054,-81.5945\"/>\n",
       "<polygon fill=\"none\" stroke=\"#000000\" points=\"99.2983,-83.2098 106.781,-90.7105 105.609,-80.1807 99.2983,-83.2098\"/>\n",
       "</g>\n",
       "<!-- A_Class -->\n",
       "<g id=\"node3\" class=\"node\">\n",
       "<title>A_Class</title>\n",
       "<g id=\"a_node3\"><a xlink:href=\"#\" xlink:title=\"class A_Class:&#10; &#160;&#160;&#160;A Class which does A thing right.&#10; &#160;&#160;&#160;Comes with a longer docstring.\">\n",
       "<polygon fill=\"none\" stroke=\"#000000\" points=\"0,-175.5 0,-228.5 66,-228.5 66,-175.5 0,-175.5\"/>\n",
       "<text text-anchor=\"start\" x=\"8\" y=\"-214.3\" font-family=\"Patua One, Helvetica, sans-serif\" font-weight=\"bold\" font-size=\"14.00\" fill=\"#b03a2e\">A_Class</text>\n",
       "<polyline fill=\"none\" stroke=\"#000000\" points=\"0,-205.5 66,-205.5 \"/>\n",
       "<g id=\"a_node3_7\"><a xlink:href=\"#\" xlink:title=\"A_Class\">\n",
       "<g id=\"a_node3_8\"><a xlink:href=\"#\" xlink:title=\"foo(self):&#10; &#160;&#160;&#160;The Adventures of the glorious Foo\">\n",
       "<text text-anchor=\"start\" x=\"15\" y=\"-194.5\" font-family=\"'Fira Mono', 'Source Code Pro', 'Courier', monospace\" font-weight=\"bold\" font-style=\"italic\" font-size=\"10.00\" fill=\"#000000\">foo()</text>\n",
       "</a>\n",
       "</g>\n",
       "<g id=\"a_node3_9\"><a xlink:href=\"#\" xlink:title=\"quux(self):&#10; &#160;&#160;&#160;A method that is not used.\">\n",
       "<text text-anchor=\"start\" x=\"15\" y=\"-183.5\" font-family=\"'Fira Mono', 'Source Code Pro', 'Courier', monospace\" font-weight=\"bold\" font-size=\"10.00\" fill=\"#000000\">quux()</text>\n",
       "</a>\n",
       "</g>\n",
       "</a>\n",
       "</g>\n",
       "</a>\n",
       "</g>\n",
       "</g>\n",
       "<!-- B_Class&#45;&gt;A_Class -->\n",
       "<g id=\"edge2\" class=\"edge\">\n",
       "<title>B_Class&#45;&gt;A_Class</title>\n",
       "<path fill=\"none\" stroke=\"#000000\" d=\"M33,-138.5162C33,-146.8642 33,-156.2395 33,-165.1704\"/>\n",
       "<polygon fill=\"none\" stroke=\"#000000\" points=\"29.5001,-165.3623 33,-175.3623 36.5001,-165.3624 29.5001,-165.3623\"/>\n",
       "</g>\n",
       "<!-- Legend -->\n",
       "<g id=\"node5\" class=\"node\">\n",
       "<title>Legend</title>\n",
       "<text text-anchor=\"start\" x=\"126\" y=\"-42\" font-family=\"Patua One, Helvetica, sans-serif\" font-weight=\"bold\" font-size=\"10.00\" fill=\"#b03a2e\">Legend</text>\n",
       "<text text-anchor=\"start\" x=\"126\" y=\"-32\" font-family=\"Patua One, Helvetica, sans-serif\" font-size=\"10.00\" fill=\"#000000\">• </text>\n",
       "<text text-anchor=\"start\" x=\"132\" y=\"-32\" font-family=\"'Fira Mono', 'Source Code Pro', 'Courier', monospace\" font-weight=\"bold\" font-size=\"8.00\" fill=\"#000000\">public_method()</text>\n",
       "<text text-anchor=\"start\" x=\"126\" y=\"-22\" font-family=\"Patua One, Helvetica, sans-serif\" font-size=\"10.00\" fill=\"#000000\">• </text>\n",
       "<text text-anchor=\"start\" x=\"132\" y=\"-22\" font-family=\"'Fira Mono', 'Source Code Pro', 'Courier', monospace\" font-size=\"8.00\" fill=\"#000000\">private_method()</text>\n",
       "<text text-anchor=\"start\" x=\"126\" y=\"-12\" font-family=\"Patua One, Helvetica, sans-serif\" font-size=\"10.00\" fill=\"#000000\">• </text>\n",
       "<text text-anchor=\"start\" x=\"132\" y=\"-12\" font-family=\"'Fira Mono', 'Source Code Pro', 'Courier', monospace\" font-style=\"italic\" font-size=\"8.00\" fill=\"#000000\">overloaded_method()</text>\n",
       "<text text-anchor=\"start\" x=\"126\" y=\"-2.8\" font-family=\"Helvetica,sans-Serif\" font-size=\"9.00\" fill=\"#000000\">Hover over names to see doc</text>\n",
       "</g>\n",
       "</g>\n",
       "</svg>\n"
      ],
      "text/plain": [
       "<graphviz.dot.Digraph at 0x7fc5d751dc88>"
      ]
     },
     "execution_count": 34,
     "metadata": {},
     "output_type": "execute_result"
    }
   ],
   "source": [
    "display_class_hierarchy(D_Class)"
   ]
  },
  {
   "cell_type": "code",
   "execution_count": 35,
   "metadata": {
    "slideshow": {
     "slide_type": "fragment"
    }
   },
   "outputs": [
    {
     "data": {
      "image/svg+xml": [
       "<?xml version=\"1.0\" encoding=\"UTF-8\" standalone=\"no\"?>\n",
       "<!DOCTYPE svg PUBLIC \"-//W3C//DTD SVG 1.1//EN\"\n",
       " \"http://www.w3.org/Graphics/SVG/1.1/DTD/svg11.dtd\">\n",
       "<!-- Generated by graphviz version 2.40.1 (20161225.0304)\n",
       " -->\n",
       "<!-- Title: %3 Pages: 1 -->\n",
       "<svg width=\"210pt\" height=\"152pt\"\n",
       " viewBox=\"0.00 0.00 210.00 152.00\" xmlns=\"http://www.w3.org/2000/svg\" xmlns:xlink=\"http://www.w3.org/1999/xlink\">\n",
       "<g id=\"graph0\" class=\"graph\" transform=\"scale(1 1) rotate(0) translate(4 148)\">\n",
       "<title>%3</title>\n",
       "<g id=\"a_graph0\"><a xlink:title=\"A_Class class hierarchy\">\n",
       "<polygon fill=\"#ffffff\" stroke=\"transparent\" points=\"-4,4 -4,-148 206,-148 206,4 -4,4\"/>\n",
       "</a>\n",
       "</g>\n",
       "<!-- A_Class -->\n",
       "<g id=\"node1\" class=\"node\">\n",
       "<title>A_Class</title>\n",
       "<g id=\"a_node1\"><a xlink:href=\"#\" xlink:title=\"class A_Class:&#10; &#160;&#160;&#160;A Class which does A thing right.&#10; &#160;&#160;&#160;Comes with a longer docstring.\">\n",
       "<polygon fill=\"none\" stroke=\"#000000\" points=\"0,-90.5 0,-143.5 66,-143.5 66,-90.5 0,-90.5\"/>\n",
       "<text text-anchor=\"start\" x=\"8\" y=\"-129.3\" font-family=\"Patua One, Helvetica, sans-serif\" font-weight=\"bold\" font-size=\"14.00\" fill=\"#b03a2e\">A_Class</text>\n",
       "<polyline fill=\"none\" stroke=\"#000000\" points=\"0,-120.5 66,-120.5 \"/>\n",
       "<g id=\"a_node1_0\"><a xlink:href=\"#\" xlink:title=\"A_Class\">\n",
       "<g id=\"a_node1_1\"><a xlink:href=\"#\" xlink:title=\"quux(self):&#10; &#160;&#160;&#160;A method that is not used.\">\n",
       "<text text-anchor=\"start\" x=\"15\" y=\"-109.5\" font-family=\"'Fira Mono', 'Source Code Pro', 'Courier', monospace\" font-weight=\"bold\" font-size=\"10.00\" fill=\"#000000\">quux()</text>\n",
       "</a>\n",
       "</g>\n",
       "<g id=\"a_node1_2\"><a xlink:href=\"#\" xlink:title=\"foo(self):&#10; &#160;&#160;&#160;The Adventures of the glorious Foo\">\n",
       "<text text-anchor=\"start\" x=\"15\" y=\"-98.5\" font-family=\"'Fira Mono', 'Source Code Pro', 'Courier', monospace\" font-style=\"italic\" font-size=\"10.00\" fill=\"#000000\">foo()</text>\n",
       "</a>\n",
       "</g>\n",
       "</a>\n",
       "</g>\n",
       "</a>\n",
       "</g>\n",
       "</g>\n",
       "<!-- B_Class -->\n",
       "<g id=\"node2\" class=\"node\">\n",
       "<title>B_Class</title>\n",
       "<g id=\"a_node2\"><a xlink:href=\"#\" xlink:title=\"class B_Class:&#10; &#160;&#160;&#160;A subclass inheriting some methods.\">\n",
       "<polygon fill=\"none\" stroke=\"#000000\" points=\"0,-.5 0,-53.5 66,-53.5 66,-.5 0,-.5\"/>\n",
       "<text text-anchor=\"start\" x=\"8\" y=\"-39.3\" font-family=\"Patua One, Helvetica, sans-serif\" font-weight=\"bold\" font-size=\"14.00\" fill=\"#b03a2e\">B_Class</text>\n",
       "<polyline fill=\"none\" stroke=\"#000000\" points=\"0,-30.5 66,-30.5 \"/>\n",
       "<g id=\"a_node2_3\"><a xlink:href=\"#\" xlink:title=\"B_Class\">\n",
       "<g id=\"a_node2_4\"><a xlink:href=\"#\" xlink:title=\"bar(self, qux=None, bartender=42):&#10; &#160;&#160;&#160;A qux walks into a bar.&#10; &#160;&#160;&#160;`bartender` is an optional attribute.\">\n",
       "<text text-anchor=\"start\" x=\"18\" y=\"-18.5\" font-family=\"'Fira Mono', 'Source Code Pro', 'Courier', monospace\" font-size=\"10.00\" fill=\"#000000\">bar()</text>\n",
       "</a>\n",
       "</g>\n",
       "<g id=\"a_node2_5\"><a xlink:href=\"#\" xlink:title=\"foo(self, fight=False):&#10; &#160;&#160;&#160;A WW2 foo fighter.\">\n",
       "<text text-anchor=\"start\" x=\"18\" y=\"-8.5\" font-family=\"'Fira Mono', 'Source Code Pro', 'Courier', monospace\" font-style=\"italic\" font-size=\"10.00\" fill=\"#000000\">foo()</text>\n",
       "</a>\n",
       "</g>\n",
       "</a>\n",
       "</g>\n",
       "</a>\n",
       "</g>\n",
       "</g>\n",
       "<!-- B_Class&#45;&gt;A_Class -->\n",
       "<g id=\"edge1\" class=\"edge\">\n",
       "<title>B_Class&#45;&gt;A_Class</title>\n",
       "<path fill=\"none\" stroke=\"#000000\" d=\"M33,-53.5162C33,-61.8642 33,-71.2395 33,-80.1704\"/>\n",
       "<polygon fill=\"none\" stroke=\"#000000\" points=\"29.5001,-80.3623 33,-90.3623 36.5001,-80.3624 29.5001,-80.3623\"/>\n",
       "</g>\n",
       "<!-- Legend -->\n",
       "<g id=\"node3\" class=\"node\">\n",
       "<title>Legend</title>\n",
       "<text text-anchor=\"start\" x=\"84\" y=\"-44.5\" font-family=\"Patua One, Helvetica, sans-serif\" font-weight=\"bold\" font-size=\"10.00\" fill=\"#b03a2e\">Legend</text>\n",
       "<text text-anchor=\"start\" x=\"84\" y=\"-34.5\" font-family=\"Patua One, Helvetica, sans-serif\" font-size=\"10.00\" fill=\"#000000\">• </text>\n",
       "<text text-anchor=\"start\" x=\"90\" y=\"-34.5\" font-family=\"'Fira Mono', 'Source Code Pro', 'Courier', monospace\" font-weight=\"bold\" font-size=\"8.00\" fill=\"#000000\">public_method()</text>\n",
       "<text text-anchor=\"start\" x=\"84\" y=\"-24.5\" font-family=\"Patua One, Helvetica, sans-serif\" font-size=\"10.00\" fill=\"#000000\">• </text>\n",
       "<text text-anchor=\"start\" x=\"90\" y=\"-24.5\" font-family=\"'Fira Mono', 'Source Code Pro', 'Courier', monospace\" font-size=\"8.00\" fill=\"#000000\">private_method()</text>\n",
       "<text text-anchor=\"start\" x=\"84\" y=\"-14.5\" font-family=\"Patua One, Helvetica, sans-serif\" font-size=\"10.00\" fill=\"#000000\">• </text>\n",
       "<text text-anchor=\"start\" x=\"90\" y=\"-14.5\" font-family=\"'Fira Mono', 'Source Code Pro', 'Courier', monospace\" font-style=\"italic\" font-size=\"8.00\" fill=\"#000000\">overloaded_method()</text>\n",
       "<text text-anchor=\"start\" x=\"84\" y=\"-5.3\" font-family=\"Helvetica,sans-Serif\" font-size=\"9.00\" fill=\"#000000\">Hover over names to see doc</text>\n",
       "</g>\n",
       "</g>\n",
       "</svg>\n"
      ],
      "text/plain": [
       "<graphviz.dot.Digraph at 0x7fc5d751dac8>"
      ]
     },
     "execution_count": 35,
     "metadata": {},
     "output_type": "execute_result"
    }
   ],
   "source": [
    "display_class_hierarchy([A_Class, B_Class],\n",
    "                        public_methods=[\n",
    "                            A_Class.quux,\n",
    "                        ])"
   ]
  },
  {
   "cell_type": "markdown",
   "metadata": {
    "slideshow": {
     "slide_type": "fragment"
    }
   },
   "source": [
    "Enjoy!"
   ]
  }
 ],
 "metadata": {
  "ipub": {
   "bibliography": "fuzzingbook.bib",
   "toc": true
  },
  "kernelspec": {
   "display_name": "Python 3",
   "language": "python",
   "name": "python3"
  },
  "language_info": {
   "codemirror_mode": {
    "name": "ipython",
    "version": 3
   },
   "file_extension": ".py",
   "mimetype": "text/x-python",
   "name": "python",
   "nbconvert_exporter": "python",
   "pygments_lexer": "ipython3",
   "version": "3.6.10"
  },
  "toc": {
   "base_numbering": 1,
   "nav_menu": {},
   "number_sections": true,
   "sideBar": true,
   "skip_h1_title": true,
   "title_cell": "",
   "title_sidebar": "Contents",
   "toc_cell": false,
   "toc_position": {},
   "toc_section_display": true,
   "toc_window_display": true
  },
  "toc-autonumbering": false
 },
 "nbformat": 4,
 "nbformat_minor": 4
}