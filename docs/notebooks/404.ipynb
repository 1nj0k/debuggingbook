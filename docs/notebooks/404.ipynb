{
 "cells": [
  {
   "attachments": {},
   "cell_type": "markdown",
   "metadata": {
    "button": false,
    "new_sheet": false,
    "run_control": {
     "read_only": false
    },
    "slideshow": {
     "slide_type": "slide"
    }
   },
   "source": [
    "# Oh, no!  We are not ready yet!\n",
    "\n",
    "We're sorry - this page does not exist (yet)."
   ]
  },
  {
   "cell_type": "markdown",
   "metadata": {
    "button": false,
    "new_sheet": false,
    "run_control": {
     "read_only": false
    },
    "slideshow": {
     "slide_type": "slide"
    }
   },
   "source": [
    "## Finding Content\n",
    "\n",
    "Most likely, you have been looking for material that is not yet written or not yet published.  Go to the [home page](__SITE_HTML__) or choose from this list of chapters:\n",
    "\n",
    "<ol start=\"0\">\n",
    "               <__STRUCTURED_ALL_CHAPTERS_MENU__>\n",
    "</ol>"
   ]
  },
  {
   "cell_type": "markdown",
   "metadata": {
    "button": false,
    "new_sheet": false,
    "run_control": {
     "read_only": false
    },
    "slideshow": {
     "slide_type": "fragment"
    }
   },
   "source": [
    "If you think this is an error, please [report an issue](__GITHUB_HTML__/issues/)."
   ]
  },
  {
   "cell_type": "markdown",
   "metadata": {
    "button": false,
    "new_sheet": false,
    "run_control": {
     "read_only": false
    },
    "slideshow": {
     "slide_type": "slide"
    }
   },
   "source": [
    "## Getting Informed About New Content\n",
    "\n",
    "New chapters are coming out every week.  To get notified when a new chapter (or this one) comes out, <a href=\"https://mastodon.social/invite/P27cijZH\">follow us on Mastodon</a>.\n",
    "\n",
    "<iframe allowfullscreen sandbox=\"allow-top-navigation allow-scripts allow-popups allow-popups-to-escape-sandbox\" width=\"400\" height=\"800\" src=\"http://mastofeed.com/apiv2/feed?userurl=https%3A%2F%2Fmastodon.social%2Fusers%2FTheDebuggingBook&theme=auto&size=100&header=false&replies=false&boosts=false\"></iframe>"
   ]
  },
  {
   "cell_type": "markdown",
   "metadata": {
    "slideshow": {
     "slide_type": "slide"
    }
   },
   "source": [
    "## Error Details"
   ]
  },
  {
   "cell_type": "code",
   "execution_count": 1,
   "metadata": {
    "execution": {
     "iopub.execute_input": "2023-10-24T10:01:23.308174Z",
     "iopub.status.busy": "2023-10-24T10:01:23.307849Z",
     "iopub.status.idle": "2023-10-24T10:01:23.360864Z",
     "shell.execute_reply": "2023-10-24T10:01:23.360522Z"
    },
    "slideshow": {
     "slide_type": "skip"
    }
   },
   "outputs": [],
   "source": [
    "import bookutils"
   ]
  },
  {
   "cell_type": "code",
   "execution_count": 2,
   "metadata": {
    "execution": {
     "iopub.execute_input": "2023-10-24T10:01:23.362983Z",
     "iopub.status.busy": "2023-10-24T10:01:23.362807Z",
     "iopub.status.idle": "2023-10-24T10:01:23.365137Z",
     "shell.execute_reply": "2023-10-24T10:01:23.364819Z"
    },
    "slideshow": {
     "slide_type": "fragment"
    }
   },
   "outputs": [],
   "source": [
    "class NotFoundError(Exception):\n",
    "    def __init__(self, value: str = \"404\") -> None:\n",
    "        self.value = value\n",
    "\n",
    "    def __str__(self) -> str:\n",
    "        return repr(self.value)"
   ]
  },
  {
   "cell_type": "code",
   "execution_count": 3,
   "metadata": {
    "execution": {
     "iopub.execute_input": "2023-10-24T10:01:23.367162Z",
     "iopub.status.busy": "2023-10-24T10:01:23.366968Z",
     "iopub.status.idle": "2023-10-24T10:01:23.397415Z",
     "shell.execute_reply": "2023-10-24T10:01:23.396981Z"
    },
    "slideshow": {
     "slide_type": "skip"
    }
   },
   "outputs": [
    {
     "name": "stderr",
     "output_type": "stream",
     "text": [
      "Traceback (most recent call last):\n",
      "  File \"/var/folders/n2/xd9445p97rb3xh7m1dfx8_4h0006ts/T/ipykernel_69536/1830731544.py\", line 4, in <cell line: 3>\n",
      "    raise NotFoundError\n",
      "NotFoundError: '404' (expected)\n"
     ]
    }
   ],
   "source": [
    "from ExpectError import ExpectError\n",
    "\n",
    "with ExpectError():\n",
    "    raise NotFoundError"
   ]
  }
 ],
 "metadata": {
  "ipub": {
   "bibliography": "fuzzingbook.bib",
   "toc": true
  },
  "kernelspec": {
   "display_name": "Python 3",
   "language": "python",
   "name": "python3"
  },
  "language_info": {
   "codemirror_mode": {
    "name": "ipython",
    "version": 3
   },
   "file_extension": ".py",
   "mimetype": "text/x-python",
   "name": "python",
   "nbconvert_exporter": "python",
   "pygments_lexer": "ipython3",
   "version": "3.10.2"
  },
  "toc": {
   "base_numbering": 1,
   "nav_menu": {},
   "number_sections": true,
   "sideBar": true,
   "skip_h1_title": true,
   "title_cell": "",
   "title_sidebar": "Contents",
   "toc_cell": false,
   "toc_position": {},
   "toc_section_display": true,
   "toc_window_display": true
  },
  "toc-autonumbering": false
 },
 "nbformat": 4,
 "nbformat_minor": 4
}
