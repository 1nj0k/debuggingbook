{
 "cells": [
  {
   "cell_type": "markdown",
   "metadata": {
    "button": false,
    "new_sheet": false,
    "run_control": {
     "read_only": false
    },
    "slideshow": {
     "slide_type": "slide"
    }
   },
   "source": [
    "# Oh no!  We are not ready yet!\n",
    "\n",
    "We're sorry - this page does not exist (yet).  "
   ]
  },
  {
   "cell_type": "markdown",
   "metadata": {
    "button": false,
    "new_sheet": false,
    "run_control": {
     "read_only": false
    },
    "slideshow": {
     "slide_type": "slide"
    }
   },
   "source": [
    "## Finding Content\n",
    "\n",
    "Most likely, you have been looking for material that is not yet written or not yet published.  Go to the [home page](__SITE_HTML__) or choose from this list of chapters:\n",
    "\n",
    "<ol start=\"0\">\n",
    "               <__STRUCTURED_ALL_CHAPTERS_MENU__>\n",
    "</ol>"
   ]
  },
  {
   "cell_type": "markdown",
   "metadata": {
    "button": false,
    "new_sheet": false,
    "run_control": {
     "read_only": false
    },
    "slideshow": {
     "slide_type": "fragment"
    }
   },
   "source": [
    "If you think this is an error, please [report an issue](__GITHUB_HTML__/issues/)."
   ]
  },
  {
   "cell_type": "markdown",
   "metadata": {
    "button": false,
    "new_sheet": false,
    "run_control": {
     "read_only": false
    },
    "slideshow": {
     "slide_type": "slide"
    }
   },
   "source": [
    "## Getting Informed About New Content\n",
    "\n",
    "New chapters are coming out every week.  To get notified when a new chapter (or this one) comes out, <a href=\"https://twitter.com/Debugging_Book?ref_src=twsrc%5Etfw\" data-show-count=\"false\">follow us on Twitter</a>.\n",
    "\n",
    "<a class=\"twitter-timeline\" data-width=\"500\" data-chrome=\"noheader nofooter noborders transparent\" data-link-color=\"#A93226\" data-align=\"center\" href=\"https://twitter.com/Debugging_Book?ref_src=twsrc%5Etfw\">News from @Debugging_Book</a> <script async src=\"https://platform.twitter.com/widgets.js\" charset=\"utf-8\"></script>"
   ]
  },
  {
   "cell_type": "markdown",
   "metadata": {
    "slideshow": {
     "slide_type": "slide"
    }
   },
   "source": [
    "## Error Details"
   ]
  },
  {
   "cell_type": "code",
   "execution_count": 1,
   "metadata": {
    "execution": {
     "iopub.execute_input": "2021-03-11T16:27:06.544749Z",
     "iopub.status.busy": "2021-03-11T16:27:06.544004Z",
     "iopub.status.idle": "2021-03-11T16:27:06.683627Z",
     "shell.execute_reply": "2021-03-11T16:27:06.684055Z"
    },
    "slideshow": {
     "slide_type": "skip"
    }
   },
   "outputs": [],
   "source": [
    "import bookutils"
   ]
  },
  {
   "cell_type": "code",
   "execution_count": 2,
   "metadata": {
    "execution": {
     "iopub.execute_input": "2021-03-11T16:27:06.687983Z",
     "iopub.status.busy": "2021-03-11T16:27:06.687433Z",
     "iopub.status.idle": "2021-03-11T16:27:06.689039Z",
     "shell.execute_reply": "2021-03-11T16:27:06.689500Z"
    },
    "slideshow": {
     "slide_type": "fragment"
    }
   },
   "outputs": [],
   "source": [
    "class NotFoundError(Exception):\n",
    "    def __init__(self, value: str = \"404\") -> None:\n",
    "        self.value = value\n",
    "\n",
    "    def __str__(self) -> str:\n",
    "        return repr(self.value)"
   ]
  },
  {
   "cell_type": "code",
   "execution_count": 3,
   "metadata": {
    "execution": {
     "iopub.execute_input": "2021-03-11T16:27:06.692690Z",
     "iopub.status.busy": "2021-03-11T16:27:06.692130Z",
     "iopub.status.idle": "2021-03-11T16:27:06.712601Z",
     "shell.execute_reply": "2021-03-11T16:27:06.713220Z"
    },
    "slideshow": {
     "slide_type": "skip"
    }
   },
   "outputs": [
    {
     "name": "stderr",
     "output_type": "stream",
     "text": [
      "Traceback (most recent call last):\n",
      "  File \"<ipython-input-1-f7cd072299fb>\", line 4, in <module>\n",
      "    raise NotFoundError\n",
      "NotFoundError: '404' (expected)\n"
     ]
    }
   ],
   "source": [
    "from ExpectError import ExpectError\n",
    "\n",
    "with ExpectError():\n",
    "    raise NotFoundError"
   ]
  }
 ],
 "metadata": {
  "ipub": {
   "bibliography": "fuzzingbook.bib",
   "toc": true
  },
  "kernelspec": {
   "display_name": "Python 3",
   "language": "python",
   "name": "python3"
  },
  "language_info": {
   "codemirror_mode": {
    "name": "ipython",
    "version": 3
   },
   "file_extension": ".py",
   "mimetype": "text/x-python",
   "name": "python",
   "nbconvert_exporter": "python",
   "pygments_lexer": "ipython3",
   "version": "3.6.10"
  },
  "toc": {
   "base_numbering": 1,
   "nav_menu": {},
   "number_sections": true,
   "sideBar": true,
   "skip_h1_title": true,
   "title_cell": "",
   "title_sidebar": "Contents",
   "toc_cell": false,
   "toc_position": {},
   "toc_section_display": true,
   "toc_window_display": true
  },
  "toc-autonumbering": false
 },
 "nbformat": 4,
 "nbformat_minor": 4
}
