{
 "cells": [
  {
   "cell_type": "markdown",
   "metadata": {
    "button": false,
    "new_sheet": false,
    "run_control": {
     "read_only": false
    },
    "slideshow": {
     "slide_type": "slide"
    }
   },
   "source": [
    "# Timer\n",
    "\n",
    "The code in this notebook helps with measuring time."
   ]
  },
  {
   "cell_type": "markdown",
   "metadata": {
    "button": false,
    "new_sheet": false,
    "run_control": {
     "read_only": false
    },
    "slideshow": {
     "slide_type": "subslide"
    }
   },
   "source": [
    "**Prerequisites**\n",
    "\n",
    "* This notebook needs some understanding on advanced concepts in Python, notably \n",
    "    * classes\n",
    "    * the Python `with` statement\n",
    "    * measuring time"
   ]
  },
  {
   "cell_type": "markdown",
   "metadata": {
    "slideshow": {
     "slide_type": "slide"
    }
   },
   "source": [
    "## Synopsis\n",
    "<!-- Automatically generated. Do not edit. -->\n",
    "\n",
    "To [use the code provided in this chapter](Importing.ipynb), write\n",
    "\n",
    "```python\n",
    ">>> from debuggingbook.Timer import <identifier>\n",
    "```\n",
    "\n",
    "and then make use of the following features.\n",
    "\n",
    "\n",
    "The `Timer` class allows you to measure elapsed real time.  Its typical usage is in conjunction with a `with` clause:\n",
    "\n",
    "```python\n",
    ">>> with Timer() as t:\n",
    ">>>     some_long_running_function()\n",
    ">>> t.elapsed_time()\n",
    "\n",
    "0.04500656999880448\n",
    "```\n"
   ]
  },
  {
   "cell_type": "markdown",
   "metadata": {
    "button": false,
    "new_sheet": false,
    "run_control": {
     "read_only": false
    },
    "slideshow": {
     "slide_type": "slide"
    }
   },
   "source": [
    "## Measuring Time\n",
    "\n",
    "The class `Timer` allows to measure the elapsed time during some code execution."
   ]
  },
  {
   "cell_type": "code",
   "execution_count": 1,
   "metadata": {
    "button": false,
    "execution": {
     "iopub.execute_input": "2021-03-11T21:54:27.372164Z",
     "iopub.status.busy": "2021-03-11T21:54:27.371243Z",
     "iopub.status.idle": "2021-03-11T21:54:27.512712Z",
     "shell.execute_reply": "2021-03-11T21:54:27.513270Z"
    },
    "new_sheet": false,
    "run_control": {
     "read_only": false
    },
    "slideshow": {
     "slide_type": "skip"
    }
   },
   "outputs": [],
   "source": [
    "import bookutils"
   ]
  },
  {
   "cell_type": "code",
   "execution_count": 2,
   "metadata": {
    "button": false,
    "execution": {
     "iopub.execute_input": "2021-03-11T21:54:27.516824Z",
     "iopub.status.busy": "2021-03-11T21:54:27.516119Z",
     "iopub.status.idle": "2021-03-11T21:54:27.517930Z",
     "shell.execute_reply": "2021-03-11T21:54:27.518343Z"
    },
    "new_sheet": false,
    "run_control": {
     "read_only": false
    },
    "slideshow": {
     "slide_type": "skip"
    }
   },
   "outputs": [],
   "source": [
    "import time"
   ]
  },
  {
   "cell_type": "code",
   "execution_count": 3,
   "metadata": {
    "button": false,
    "execution": {
     "iopub.execute_input": "2021-03-11T21:54:27.521750Z",
     "iopub.status.busy": "2021-03-11T21:54:27.521078Z",
     "iopub.status.idle": "2021-03-11T21:54:27.522768Z",
     "shell.execute_reply": "2021-03-11T21:54:27.523211Z"
    },
    "new_sheet": false,
    "run_control": {
     "read_only": false
    },
    "slideshow": {
     "slide_type": "fragment"
    }
   },
   "outputs": [],
   "source": [
    "def clock() -> float:\n",
    "    return time.perf_counter()"
   ]
  },
  {
   "cell_type": "code",
   "execution_count": 4,
   "metadata": {
    "execution": {
     "iopub.execute_input": "2021-03-11T21:54:27.526399Z",
     "iopub.status.busy": "2021-03-11T21:54:27.525871Z",
     "iopub.status.idle": "2021-03-11T21:54:27.527326Z",
     "shell.execute_reply": "2021-03-11T21:54:27.527812Z"
    },
    "slideshow": {
     "slide_type": "skip"
    }
   },
   "outputs": [],
   "source": [
    "from types import TracebackType\n",
    "from typing import Type, Any"
   ]
  },
  {
   "cell_type": "code",
   "execution_count": 5,
   "metadata": {
    "button": false,
    "execution": {
     "iopub.execute_input": "2021-03-11T21:54:27.532722Z",
     "iopub.status.busy": "2021-03-11T21:54:27.532184Z",
     "iopub.status.idle": "2021-03-11T21:54:27.533825Z",
     "shell.execute_reply": "2021-03-11T21:54:27.534273Z"
    },
    "new_sheet": false,
    "run_control": {
     "read_only": false
    },
    "slideshow": {
     "slide_type": "subslide"
    }
   },
   "outputs": [],
   "source": [
    "class Timer(object):\n",
    "    def __enter__(self) -> Any:\n",
    "        \"\"\"Begin of `with` block\"\"\"\n",
    "        self.start_time = clock()\n",
    "        self.end_time = None\n",
    "        return self\n",
    "\n",
    "    def __exit__(self, exc_type: Type, exc_value: BaseException,\n",
    "                 tb: TracebackType) -> None:\n",
    "        \"\"\"End of `with` block\"\"\"\n",
    "        self.end_time = clock()  # type: ignore\n",
    "\n",
    "    def elapsed_time(self) -> float:\n",
    "        \"\"\"Return elapsed time in seconds\"\"\"\n",
    "        if self.end_time is None:\n",
    "            # still running\n",
    "            return clock() - self.start_time\n",
    "        else:\n",
    "            return self.end_time - self.start_time  # type: ignore"
   ]
  },
  {
   "cell_type": "markdown",
   "metadata": {
    "button": false,
    "new_sheet": false,
    "run_control": {
     "read_only": false
    },
    "slideshow": {
     "slide_type": "subslide"
    }
   },
   "source": [
    "Here's an example:"
   ]
  },
  {
   "cell_type": "code",
   "execution_count": 6,
   "metadata": {
    "button": false,
    "execution": {
     "iopub.execute_input": "2021-03-11T21:54:27.537786Z",
     "iopub.status.busy": "2021-03-11T21:54:27.537055Z",
     "iopub.status.idle": "2021-03-11T21:54:27.538862Z",
     "shell.execute_reply": "2021-03-11T21:54:27.539238Z"
    },
    "new_sheet": false,
    "run_control": {
     "read_only": false
    },
    "slideshow": {
     "slide_type": "fragment"
    }
   },
   "outputs": [],
   "source": [
    "def some_long_running_function() -> None:\n",
    "    i = 1000000\n",
    "    while i > 0:\n",
    "        i -= 1"
   ]
  },
  {
   "cell_type": "code",
   "execution_count": 7,
   "metadata": {
    "button": false,
    "execution": {
     "iopub.execute_input": "2021-03-11T21:54:27.586035Z",
     "iopub.status.busy": "2021-03-11T21:54:27.580670Z",
     "iopub.status.idle": "2021-03-11T21:54:27.589630Z",
     "shell.execute_reply": "2021-03-11T21:54:27.590020Z"
    },
    "new_sheet": false,
    "run_control": {
     "read_only": false
    },
    "slideshow": {
     "slide_type": "fragment"
    }
   },
   "outputs": [
    {
     "name": "stdout",
     "output_type": "stream",
     "text": [
      "Stopping total time:\n",
      "0.04351720999693498\n"
     ]
    }
   ],
   "source": [
    "print(\"Stopping total time:\")\n",
    "with Timer() as t:\n",
    "    some_long_running_function()\n",
    "print(t.elapsed_time())"
   ]
  },
  {
   "cell_type": "code",
   "execution_count": 8,
   "metadata": {
    "button": false,
    "execution": {
     "iopub.execute_input": "2021-03-11T21:54:27.595316Z",
     "iopub.status.busy": "2021-03-11T21:54:27.594649Z",
     "iopub.status.idle": "2021-03-11T21:54:27.597121Z",
     "shell.execute_reply": "2021-03-11T21:54:27.597555Z"
    },
    "new_sheet": false,
    "run_control": {
     "read_only": false
    },
    "slideshow": {
     "slide_type": "subslide"
    }
   },
   "outputs": [
    {
     "name": "stdout",
     "output_type": "stream",
     "text": [
      "Stopping time in between:\n",
      "2.4040054995566607e-06\n",
      "4.010600969195366e-05\n",
      "5.140999564900994e-05\n",
      "8.685700595378876e-05\n",
      "9.755301289260387e-05\n",
      "0.00010771001689136028\n",
      "0.00011786300456151366\n",
      "0.00013510099961422384\n",
      "0.0001523079990874976\n",
      "0.0001632350031286478\n"
     ]
    }
   ],
   "source": [
    "print(\"Stopping time in between:\")\n",
    "with Timer() as t:\n",
    "    for i in range(10):\n",
    "        print(t.elapsed_time())"
   ]
  },
  {
   "cell_type": "markdown",
   "metadata": {
    "button": false,
    "new_sheet": false,
    "run_control": {
     "read_only": false
    },
    "slideshow": {
     "slide_type": "subslide"
    }
   },
   "source": [
    "That's it, folks – enjoy!"
   ]
  },
  {
   "cell_type": "markdown",
   "metadata": {
    "slideshow": {
     "slide_type": "slide"
    }
   },
   "source": [
    "## Synopsis\n",
    "\n",
    "The `Timer` class allows you to measure elapsed real time.  Its typical usage is in conjunction with a `with` clause:"
   ]
  },
  {
   "cell_type": "code",
   "execution_count": 9,
   "metadata": {
    "execution": {
     "iopub.execute_input": "2021-03-11T21:54:27.650488Z",
     "iopub.status.busy": "2021-03-11T21:54:27.640107Z",
     "iopub.status.idle": "2021-03-11T21:54:27.653051Z",
     "shell.execute_reply": "2021-03-11T21:54:27.653499Z"
    },
    "slideshow": {
     "slide_type": "fragment"
    }
   },
   "outputs": [
    {
     "data": {
      "text/plain": [
       "0.04500656999880448"
      ]
     },
     "execution_count": 1,
     "metadata": {},
     "output_type": "execute_result"
    }
   ],
   "source": [
    "with Timer() as t:\n",
    "    some_long_running_function()\n",
    "t.elapsed_time()"
   ]
  },
  {
   "cell_type": "markdown",
   "metadata": {
    "button": false,
    "new_sheet": true,
    "run_control": {
     "read_only": false
    },
    "slideshow": {
     "slide_type": "slide"
    }
   },
   "source": [
    "## Lessons Learned\n",
    "\n",
    "* With the `Timer` class, it is very easy to measure elapsed time."
   ]
  }
 ],
 "metadata": {
  "ipub": {
   "bibliography": "fuzzingbook.bib",
   "toc": true
  },
  "kernelspec": {
   "display_name": "Python 3",
   "language": "python",
   "name": "python3"
  },
  "language_info": {
   "codemirror_mode": {
    "name": "ipython",
    "version": 3
   },
   "file_extension": ".py",
   "mimetype": "text/x-python",
   "name": "python",
   "nbconvert_exporter": "python",
   "pygments_lexer": "ipython3",
   "version": "3.6.10"
  },
  "toc": {
   "base_numbering": 1,
   "nav_menu": {},
   "number_sections": true,
   "sideBar": true,
   "skip_h1_title": true,
   "title_cell": "",
   "title_sidebar": "Contents",
   "toc_cell": false,
   "toc_position": {},
   "toc_section_display": true,
   "toc_window_display": true
  },
  "toc-autonumbering": false
 },
 "nbformat": 4,
 "nbformat_minor": 4
}