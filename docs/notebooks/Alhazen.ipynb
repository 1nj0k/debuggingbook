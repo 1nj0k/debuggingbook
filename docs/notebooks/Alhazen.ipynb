{
 "cells": [
  {
   "cell_type": "markdown",
   "metadata": {
    "button": false,
    "new_sheet": false,
    "run_control": {
     "read_only": false
    },
    "slideshow": {
     "slide_type": "slide"
    }
   },
   "source": [
    "# Learning from Failures\n",
    "\n",
    "Given the many executions we can generate, it is only natural that these executions would also be subject to _machine learning_ in order to learn which features of the input (or the execution) would be associated with failures.\n",
    "\n",
    "In this chapter, we study the _Alhazen_ approach, one of the first of this kind.\n",
    "Alhazen by Kampmann et al. \\cite{Kampmann2020} automatically learns the associations between the failure of a program and _features of the input data_, say \"The error occurs whenever the `<expr>` element is negative\"\n",
    "\n",
    "This chapter is based on an Alhazen implementation contributed by [Martin Eberlein](https://martineberlein.github.io) of TU Berlin. Thanks a lot, Martin!"
   ]
  },
  {
   "cell_type": "code",
   "execution_count": 1,
   "metadata": {
    "execution": {
     "iopub.execute_input": "2025-01-16T09:37:13.026784Z",
     "iopub.status.busy": "2025-01-16T09:37:13.026647Z",
     "iopub.status.idle": "2025-01-16T09:37:13.029158Z",
     "shell.execute_reply": "2025-01-16T09:37:13.028862Z"
    },
    "slideshow": {
     "slide_type": "subslide"
    }
   },
   "outputs": [],
   "source": [
    "# from bookutils import YouTubeVideo\n",
    "# YouTubeVideo(\"w4u5gCgPlmg\")"
   ]
  },
  {
   "cell_type": "markdown",
   "metadata": {
    "button": false,
    "new_sheet": false,
    "run_control": {
     "read_only": false
    },
    "slideshow": {
     "slide_type": "subslide"
    }
   },
   "source": [
    "**Prerequisites**\n",
    "\n",
    "* This chapter extends the ideas from [the chapter on Generalizing Failure Circumstances](DDSetDebugger.ipynb)."
   ]
  },
  {
   "cell_type": "code",
   "execution_count": 2,
   "metadata": {
    "button": false,
    "execution": {
     "iopub.execute_input": "2025-01-16T09:37:13.030707Z",
     "iopub.status.busy": "2025-01-16T09:37:13.030575Z",
     "iopub.status.idle": "2025-01-16T09:37:13.096564Z",
     "shell.execute_reply": "2025-01-16T09:37:13.096284Z"
    },
    "new_sheet": false,
    "run_control": {
     "read_only": false
    },
    "slideshow": {
     "slide_type": "skip"
    }
   },
   "outputs": [],
   "source": [
    "import bookutils.setup"
   ]
  },
  {
   "cell_type": "markdown",
   "metadata": {
    "slideshow": {
     "slide_type": "slide"
    }
   },
   "source": [
    "## Synopsis\n",
    "<!-- Automatically generated. Do not edit. -->\n",
    "\n",
    "To [use the code provided in this chapter](Importing.ipynb), write\n",
    "\n",
    "```python\n",
    ">>> from debuggingbook.Alhazen import <identifier>\n",
    "```\n",
    "\n",
    "and then make use of the following features.\n",
    "\n",
    "\n",
    "This chapter provides an implementation of the _Alhazen_ approach \\cite{Kampmann2020}, which trains machine learning _classifiers_ from input features.\n",
    "Given a test function, a grammar, and a set of inputs, the `Alhazen` class produces a decision tree that _characterizes failure circumstances_:\n",
    "\n",
    "```python\n",
    ">>> alhazen = Alhazen(sample_runner, CALC_GRAMMAR, initial_sample_list,\n",
    ">>>                   max_iterations=20)\n",
    ">>> alhazen.run()\n",
    "```\n",
    "The final decision tree can be accessed using `last_tree()`:\n",
    "\n",
    "```python\n",
    ">>> # alhazen.last_tree()\n",
    "```\n",
    "We can visualize the resulting decision tree using `Alhazen.show_decision_tree()`:\n",
    "\n",
    "```python\n",
    ">>> alhazen.show_decision_tree()\n",
    "```\n",
    "![](PICS/Alhazen-synopsis-1.svg)\n",
    "\n",
    "A decision tree is read from top to bottom.\n",
    "Decision nodes (with two children) come with a _predicate_ on top.\n",
    "This predicate is either\n",
    "\n",
    "* _numeric_, such as `<value> > 20`, indicating the numeric value of the given symbol, or\n",
    "* _existential_, such as `<digit> == '1'`, which has a _negative_ value when False, and a _positive_ value when True.\n",
    "\n",
    "If the predicate evaluates to `True`, follow the left path; if it evaluates to `False`, follow the right path.\n",
    "A leaf node (no children) will give you the final decision `class = BUG` or `class = NO_BUG`.\n",
    "\n",
    "So if the predicate states `<function> == 'sqrt' <= 0.5`, this means that\n",
    "\n",
    "* If the function is _not_ `sqrt` (the predicate `<function> == 'sqrt'` is negative, see above, and hence less than 0.5), follow the left (`True`) path.\n",
    "* If the function _is_ `sqrt` (the predicate `<function> == 'sqrt'` is positive), follow the right (`False`) path.\n",
    "\n",
    "The `samples` field shows the number of sample inputs that contributed to this decision.\n",
    "The `gini` field (aka Gini impurity) indicates how many samples fall into the displayed class (`BUG` or `NO_BUG`).\n",
    "A `gini` value of `0.0` means _purity_ - all samples fall into the displayed class.\n",
    "The _saturation_ of nodes also indicates purity – the higher the saturation, the higher the purity.\n",
    "\n",
    "There is also a text version available, with much fewer (but hopefully still essential) details:\n",
    "\n",
    "```python\n",
    ">>> print(alhazen.friendly_decision_tree())\n",
    "if <lead-digit> <= 4.5000:\n",
    "  if <function> == 'sqrt':\n",
    "    if <term> == '-<value>':\n",
    "      if <integer> <= 42.5000:\n",
    "        BUG\n",
    "      else:\n",
    "        NO_BUG\n",
    "    else:\n",
    "      NO_BUG\n",
    "  else:\n",
    "    NO_BUG\n",
    "else:\n",
    "  NO_BUG\n",
    "\n",
    "\n",
    "```\n",
    "In both representations, we see that the present failure is associated with a negative value for the `sqrt` function and precise boundaries for its value.\n",
    "In fact, the error conditions are given in the source code:\n",
    "\n",
    "```python\n",
    ">>> import inspect\n",
    ">>> print(inspect.getsource(task_sqrt))\n",
    "def task_sqrt(x):\n",
    "    \"\"\"Computes the square root of x, using the Newton-Raphson method\"\"\"\n",
    "    if x <= -12 and x >= -42:\n",
    "        x = 0  # Guess where the bug is :-)\n",
    "    else:\n",
    "        x = 1\n",
    "    x = max(x, 0)\n",
    "    approx = None\n",
    "    guess = x / 2\n",
    "    while approx != guess:\n",
    "        approx = guess\n",
    "        guess = (approx + x / approx) / 2\n",
    "    return approx\n",
    "\n",
    "\n",
    "```\n",
    "Try out Alhazen on your own code and your own examples!\n",
    "\n"
   ]
  },
  {
   "cell_type": "markdown",
   "metadata": {
    "button": false,
    "new_sheet": true,
    "run_control": {
     "read_only": false
    },
    "slideshow": {
     "slide_type": "slide"
    }
   },
   "source": [
    "## Machine Learning for Automated Debugging\n",
    "\n",
    "When diagnosing why a program fails, the first step is to determine the circumstances under which the program fails.\n",
    "In past chapters, we have examined approaches that [correlate execution features with failures](StatisticalDebugger.ipynb)\n",
    "as well as tools that systematically _generate inputs_ to [reduce failure-inducing inputs](DeltaDebugger.ipynb) or [generalize failure circumstances](DDSetDebugger.ipynb).\n",
    "In this chapter, we will go one step further and make use of full-fledged _machine learning_ to identify failure circumstances (and causes)."
   ]
  },
  {
   "cell_type": "markdown",
   "metadata": {
    "slideshow": {
     "slide_type": "subslide"
    }
   },
   "source": [
    "### The Alhazen Approach"
   ]
  },
  {
   "cell_type": "markdown",
   "metadata": {
    "slideshow": {
     "slide_type": "subslide"
    }
   },
   "source": [
    "In 2020, Kampmann et al. \\cite{Kampmann2020} presented one of the first approaches to automatically learn circumstances of (failing) program behavior.\n",
    "Their approach associates the program’s failure with the _syntactical features_ of the input data, allowing them to learn and extract the properties that result in the specific behavior.\n",
    "\n",
    "Their reference implementation _Alhazen_ can generate a diagnosis and explain why, for instance, a particular bug occurs.\n",
    "Alhazen forms a hypothetical model based on the observed inputs.\n",
    "Additional test inputs are generated and executed to refine or refute the hypothesis, eventually obtaining a prediction model of the circumstances of why the behavior in question takes place."
   ]
  },
  {
   "cell_type": "markdown",
   "metadata": {
    "slideshow": {
     "slide_type": "subslide"
    }
   },
   "source": [
    "The tool is named after [Ḥasan Ibn al-Haytham](https://en.wikipedia.org/wiki/Ibn_al-Haytham) (latinized name: Alhazen).\n",
    "Often referred to as the \"Father of modern optics\", Ibn al-Haytham made significant contributions to the principles of optics and visual perception.\n",
    "Most notably, he was an early proponent of the concept that a hypothesis must be supported by experiments, and thus\n",
    "one of the inventors of the _scientific method_, the key process in the Alhazen tool."
   ]
  },
  {
   "cell_type": "markdown",
   "metadata": {
    "slideshow": {
     "slide_type": "fragment"
    }
   },
   "source": [
    "\n",
    "![title](PICS/Alhazen.png)"
   ]
  },
  {
   "cell_type": "markdown",
   "metadata": {
    "slideshow": {
     "slide_type": "subslide"
    }
   },
   "source": [
    "Let us give a high-level description of how Alhazen works, illustrated above.\n",
    "\n",
    "Alhazen is given an _input grammar_ and a number of _input files_ (whose format is given by the grammar),\n",
    "and produces a _decision tree_ – a machine learning model that explains under which circumstances the program fails.\n",
    "\n",
    "Alhazen determines and refines these decision trees in five steps:\n",
    "\n",
    "1. For each input file, Alhazen extracts a number of _input features_ that apply.\n",
    "   These input features are predicates over the individual elements of the input grammar, such as `<expr> > 0` (an `<expr>` element is larger than zero) or `exists(<minus-sign>)` (the input contains a minus sign).\n",
    "2. The test outcomes of the input files _label_ these input files as _buggy_ or _non-buggy_.\n",
    "   From the respective input features and the labels, Alhazen trains a _decision tree_ that associates these features with the labels - that is, the decision tree explains which features lead to _buggy_ or _non-buggy_.\n",
    "3. As it is typically trained on few samples only, the initial classification model may be imprecise.\n",
    "   Hence, Alhazen extracts further _requirements_ for additional test cases that may help in increasing precision, such as `<digit> == '6'` (we need more inputs in which the `<digit>` field has a value of `6`.)\n",
    "4. Satisfying these requirements, Alhazen then generates additional inputs...\n",
    "5. ...which it executes, thus again labeling them as _buggy_ or _non-buggy_.\n",
    "   From the new inputs, we can again extract the features, and repeat the cycle.\n",
    "\n",
    "The whole process keeps on refining decision trees with more and more inputs.\n",
    "Eventually, the decision trees are supposed to be precise enough that they can become _theory_ - that is, an explanation of why the program fails with high predictive power for future inputs."
   ]
  },
  {
   "cell_type": "markdown",
   "metadata": {
    "slideshow": {
     "slide_type": "subslide"
    }
   },
   "source": [
    "The Alhazen process thus automates the _scientific method of debugging_:\n",
    "\n",
    "* making initial _observations_ (Steps 1 and 2),\n",
    "* coming up with _hypotheses_ that explain the observations (Step 3),\n",
    "* designing _experiments_ to further _support_ or _refute_ the hypotheses (Steps 4 and 5),\n",
    "* and repeating the entire process until we have a _predicting theory_ on why the program fails."
   ]
  },
  {
   "cell_type": "markdown",
   "metadata": {
    "slideshow": {
     "slide_type": "subslide"
    }
   },
   "source": [
    "### Structure of this Chapter\n",
    "\n",
    "In the remainder of this chapter, we will first introduce [grammars](#Inputs-and-Grammars).\n",
    "\n",
    "We then explore and implement the individual steps of Alhazen:\n",
    "\n",
    "* [Step 1: Extracting Features](#Step-1:-Extracting-Features)\n",
    "* [Step 2: Train Classification Model](#Step-2:-Train-Classification-Model)\n",
    "* [Step 3: Extract Feature Requirements](#Step-3:-Extract-Feature-Requirements)\n",
    "* [Step 4: Generating New Samples](#Step-4:-Generating-New-Samples)\n",
    "* [Step 5: Executing New Inputs](#Step-5:-Generating-New-Inputs)\n",
    "\n",
    "After this is done, we can compose all these into a single `Alhazen` class and [run it on a sample input](#A-Sample-Run).\n",
    "If you want to see Alhazen in action first (before going into all the details, check out the sample run.)"
   ]
  },
  {
   "cell_type": "markdown",
   "metadata": {
    "button": false,
    "new_sheet": false,
    "run_control": {
     "read_only": false
    },
    "slideshow": {
     "slide_type": "slide"
    }
   },
   "source": [
    "## Inputs and Grammars"
   ]
  },
  {
   "cell_type": "markdown",
   "metadata": {
    "slideshow": {
     "slide_type": "fragment"
    }
   },
   "source": [
    "Alhazen heavily builds on _grammars_ as a means to decompose inputs into individual elements, such that it can reason about these elements, and also generate new ones automatically.\n",
    "\n",
    "To work with grammars, we use the framework provided by [The Fuzzing Book](https://www.fuzzingbook.org).\n",
    "For a more detailed description of Grammars and how to use them for production, have a look at the chapter [\"Fuzzing with Grammars\"](https://www.fuzzingbook.org/html/Grammars.html)"
   ]
  },
  {
   "cell_type": "code",
   "execution_count": 3,
   "metadata": {
    "execution": {
     "iopub.execute_input": "2025-01-16T09:37:13.098663Z",
     "iopub.status.busy": "2025-01-16T09:37:13.098514Z",
     "iopub.status.idle": "2025-01-16T09:37:13.100405Z",
     "shell.execute_reply": "2025-01-16T09:37:13.100090Z"
    },
    "slideshow": {
     "slide_type": "skip"
    }
   },
   "outputs": [],
   "source": [
    "from typing import List, Tuple, Dict, Any, Optional"
   ]
  },
  {
   "cell_type": "code",
   "execution_count": 4,
   "metadata": {
    "execution": {
     "iopub.execute_input": "2025-01-16T09:37:13.101780Z",
     "iopub.status.busy": "2025-01-16T09:37:13.101675Z",
     "iopub.status.idle": "2025-01-16T09:37:13.123656Z",
     "shell.execute_reply": "2025-01-16T09:37:13.123383Z"
    },
    "slideshow": {
     "slide_type": "skip"
    }
   },
   "outputs": [],
   "source": [
    "from fuzzingbook.Grammars import Grammar, EXPR_GRAMMAR, reachable_nonterminals, is_valid_grammar\n",
    "from fuzzingbook.GrammarFuzzer import GrammarFuzzer, expansion_to_children, DerivationTree, tree_to_string, display_tree, is_nonterminal\n",
    "from fuzzingbook.Parser import EarleyParser"
   ]
  },
  {
   "cell_type": "markdown",
   "metadata": {
    "slideshow": {
     "slide_type": "fragment"
    }
   },
   "source": [
    "Let us build a simple grammar for a calculator.\n",
    "The calculator code is listed below."
   ]
  },
  {
   "cell_type": "code",
   "execution_count": 5,
   "metadata": {
    "execution": {
     "iopub.execute_input": "2025-01-16T09:37:13.125171Z",
     "iopub.status.busy": "2025-01-16T09:37:13.125069Z",
     "iopub.status.idle": "2025-01-16T09:37:13.126845Z",
     "shell.execute_reply": "2025-01-16T09:37:13.126591Z"
    },
    "slideshow": {
     "slide_type": "skip"
    }
   },
   "outputs": [],
   "source": [
    "from math import tan as rtan\n",
    "from math import cos as rcos\n",
    "from math import sin as rsin"
   ]
  },
  {
   "cell_type": "code",
   "execution_count": 6,
   "metadata": {
    "execution": {
     "iopub.execute_input": "2025-01-16T09:37:13.128182Z",
     "iopub.status.busy": "2025-01-16T09:37:13.128073Z",
     "iopub.status.idle": "2025-01-16T09:37:13.130738Z",
     "shell.execute_reply": "2025-01-16T09:37:13.130431Z"
    },
    "slideshow": {
     "slide_type": "subslide"
    }
   },
   "outputs": [],
   "source": [
    "\"\"\"\n",
    "This file contains the code under test for the example bug.\n",
    "The sqrt() method fails on x <= 0.\n",
    "\"\"\"\n",
    "def task_sqrt(x):\n",
    "    \"\"\"Computes the square root of x, using the Newton-Raphson method\"\"\"\n",
    "    if x <= -12 and x >= -42:\n",
    "        x = 0  # Guess where the bug is :-)\n",
    "    else:\n",
    "        x = 1\n",
    "    x = max(x, 0)\n",
    "    approx = None\n",
    "    guess = x / 2\n",
    "    while approx != guess:\n",
    "        approx = guess\n",
    "        guess = (approx + x / approx) / 2\n",
    "    return approx\n",
    "\n",
    "\n",
    "def task_tan(x):\n",
    "    return rtan(x)\n",
    "\n",
    "\n",
    "def task_cos(x):\n",
    "    return rcos(x)\n",
    "\n",
    "\n",
    "def task_sin(x):\n",
    "    return rsin(x)"
   ]
  },
  {
   "cell_type": "markdown",
   "metadata": {
    "slideshow": {
     "slide_type": "subslide"
    }
   },
   "source": [
    "\n",
    "\n",
    "The language consists of functions (`<function>`) that are being invoked on a numerical value (`<term>`)."
   ]
  },
  {
   "cell_type": "code",
   "execution_count": 7,
   "metadata": {
    "execution": {
     "iopub.execute_input": "2025-01-16T09:37:13.132211Z",
     "iopub.status.busy": "2025-01-16T09:37:13.132090Z",
     "iopub.status.idle": "2025-01-16T09:37:13.134413Z",
     "shell.execute_reply": "2025-01-16T09:37:13.134108Z"
    },
    "slideshow": {
     "slide_type": "subslide"
    }
   },
   "outputs": [],
   "source": [
    "CALC_GRAMMAR: Grammar = {\n",
    "    \"<start>\":\n",
    "        [\"<function>(<term>)\"],\n",
    "\n",
    "    \"<function>\":\n",
    "        [\"sqrt\", \"tan\", \"cos\", \"sin\"],\n",
    "\n",
    "    \"<term>\": [\"-<value>\", \"<value>\"],\n",
    "\n",
    "    \"<value>\":\n",
    "        [\"<integer>.<digits>\",\n",
    "         \"<integer>\"],\n",
    "\n",
    "    \"<integer>\":\n",
    "        [\"<lead-digit><digits>\", \"<digit>\"],\n",
    "\n",
    "    \"<digits>\":\n",
    "        [\"<digit><digits>\", \"<digit>\"],\n",
    "\n",
    "    \"<lead-digit>\":  # First digit cannot be zero\n",
    "        [\"1\", \"2\", \"3\", \"4\", \"5\", \"6\", \"7\", \"8\", \"9\"],\n",
    "\n",
    "    \"<digit>\":\n",
    "        [\"0\", \"1\", \"2\", \"3\", \"4\", \"5\", \"6\", \"7\", \"8\", \"9\"],\n",
    "}"
   ]
  },
  {
   "cell_type": "markdown",
   "metadata": {
    "slideshow": {
     "slide_type": "subslide"
    }
   },
   "source": [
    "We see that the `CALC_GRAMMAR` consists of several production rules. The calculator subject will only accept inputs that conform to this grammar definition."
   ]
  },
  {
   "cell_type": "markdown",
   "metadata": {
    "slideshow": {
     "slide_type": "fragment"
    }
   },
   "source": [
    "Let us load two initial input samples:\n",
    "- `sqrt(-16)`\n",
    "- `sqrt(4)`"
   ]
  },
  {
   "cell_type": "code",
   "execution_count": 8,
   "metadata": {
    "execution": {
     "iopub.execute_input": "2025-01-16T09:37:13.135794Z",
     "iopub.status.busy": "2025-01-16T09:37:13.135705Z",
     "iopub.status.idle": "2025-01-16T09:37:13.137612Z",
     "shell.execute_reply": "2025-01-16T09:37:13.137365Z"
    },
    "slideshow": {
     "slide_type": "fragment"
    }
   },
   "outputs": [],
   "source": [
    "# Load initial input files\n",
    "initial_sample_list = ['sqrt(-16)', 'sqrt(4)']"
   ]
  },
  {
   "cell_type": "markdown",
   "metadata": {
    "slideshow": {
     "slide_type": "fragment"
    }
   },
   "source": [
    "Let's execute our two input samples and observe the calculator's behavior.\n",
    "We implement the function `sample_runner(sample)` that lets us execute the calculator for a single sample. `sample_runner(sample)` returns an `OracleResult` for the sample."
   ]
  },
  {
   "cell_type": "code",
   "execution_count": 9,
   "metadata": {
    "execution": {
     "iopub.execute_input": "2025-01-16T09:37:13.138851Z",
     "iopub.status.busy": "2025-01-16T09:37:13.138775Z",
     "iopub.status.idle": "2025-01-16T09:37:13.140566Z",
     "shell.execute_reply": "2025-01-16T09:37:13.140306Z"
    },
    "slideshow": {
     "slide_type": "skip"
    }
   },
   "outputs": [],
   "source": [
    "from enum import Enum"
   ]
  },
  {
   "cell_type": "code",
   "execution_count": 10,
   "metadata": {
    "execution": {
     "iopub.execute_input": "2025-01-16T09:37:13.141856Z",
     "iopub.status.busy": "2025-01-16T09:37:13.141761Z",
     "iopub.status.idle": "2025-01-16T09:37:13.143595Z",
     "shell.execute_reply": "2025-01-16T09:37:13.143372Z"
    },
    "slideshow": {
     "slide_type": "subslide"
    }
   },
   "outputs": [],
   "source": [
    "class OracleResult(Enum):\n",
    "    BUG = \"BUG\"\n",
    "    NO_BUG = \"NO_BUG\"\n",
    "    UNDEF = \"UNDEF\"\n",
    "\n",
    "    def __str__(self):\n",
    "        return self.value"
   ]
  },
  {
   "cell_type": "code",
   "execution_count": 11,
   "metadata": {
    "execution": {
     "iopub.execute_input": "2025-01-16T09:37:13.144694Z",
     "iopub.status.busy": "2025-01-16T09:37:13.144599Z",
     "iopub.status.idle": "2025-01-16T09:37:13.146117Z",
     "shell.execute_reply": "2025-01-16T09:37:13.145892Z"
    },
    "slideshow": {
     "slide_type": "skip"
    }
   },
   "outputs": [],
   "source": [
    "import sys"
   ]
  },
  {
   "cell_type": "code",
   "execution_count": 12,
   "metadata": {
    "execution": {
     "iopub.execute_input": "2025-01-16T09:37:13.147290Z",
     "iopub.status.busy": "2025-01-16T09:37:13.147194Z",
     "iopub.status.idle": "2025-01-16T09:37:13.149249Z",
     "shell.execute_reply": "2025-01-16T09:37:13.149012Z"
    },
    "slideshow": {
     "slide_type": "subslide"
    }
   },
   "outputs": [],
   "source": [
    "SUBJECT = \"calculator\"\n",
    "\n",
    "def sample_runner(sample):\n",
    "    testcode = sample\n",
    "\n",
    "    try:\n",
    "        # Simply execute the calculator code, with the functions replaced\n",
    "        exec(testcode, {\"sqrt\": task_sqrt, \"tan\": task_tan, \"sin\": task_sin, \"cos\": task_cos}, {})\n",
    "        return OracleResult.NO_BUG\n",
    "    except ZeroDivisionError:\n",
    "        return OracleResult.BUG\n",
    "    except Exception as e:\n",
    "        print(e, file=sys.stderr)\n",
    "        return OracleResult.UNDEF"
   ]
  },
  {
   "cell_type": "markdown",
   "metadata": {
    "slideshow": {
     "slide_type": "fragment"
    }
   },
   "source": [
    "Let's test the function:"
   ]
  },
  {
   "cell_type": "code",
   "execution_count": 13,
   "metadata": {
    "execution": {
     "iopub.execute_input": "2025-01-16T09:37:13.150455Z",
     "iopub.status.busy": "2025-01-16T09:37:13.150363Z",
     "iopub.status.idle": "2025-01-16T09:37:13.153622Z",
     "shell.execute_reply": "2025-01-16T09:37:13.153349Z"
    },
    "slideshow": {
     "slide_type": "subslide"
    }
   },
   "outputs": [
    {
     "data": {
      "text/plain": [
       "<OracleResult.BUG: 'BUG'>"
      ]
     },
     "execution_count": 13,
     "metadata": {},
     "output_type": "execute_result"
    }
   ],
   "source": [
    "sample = \"sqrt(-16)\"\n",
    "sample_runner(sample)"
   ]
  },
  {
   "cell_type": "markdown",
   "metadata": {
    "slideshow": {
     "slide_type": "fragment"
    }
   },
   "source": [
    "As expected, the sample `sqrt(-16)` triggers the calculator bug. Let's try some more samples:"
   ]
  },
  {
   "cell_type": "code",
   "execution_count": 14,
   "metadata": {
    "execution": {
     "iopub.execute_input": "2025-01-16T09:37:13.175857Z",
     "iopub.status.busy": "2025-01-16T09:37:13.175712Z",
     "iopub.status.idle": "2025-01-16T09:37:13.177707Z",
     "shell.execute_reply": "2025-01-16T09:37:13.177426Z"
    },
    "slideshow": {
     "slide_type": "fragment"
    }
   },
   "outputs": [],
   "source": [
    "assert sample_runner(\"sqrt(-23)\") == OracleResult.BUG\n",
    "assert sample_runner(\"sqrt(44)\") == OracleResult.NO_BUG\n",
    "assert sample_runner(\"cos(-9)\") == OracleResult.NO_BUG"
   ]
  },
  {
   "cell_type": "markdown",
   "metadata": {
    "slideshow": {
     "slide_type": "fragment"
    }
   },
   "source": [
    "What happens if we parse inputs to calculator that do not conform to its input format?"
   ]
  },
  {
   "cell_type": "code",
   "execution_count": 15,
   "metadata": {
    "execution": {
     "iopub.execute_input": "2025-01-16T09:37:13.179105Z",
     "iopub.status.busy": "2025-01-16T09:37:13.178990Z",
     "iopub.status.idle": "2025-01-16T09:37:13.181366Z",
     "shell.execute_reply": "2025-01-16T09:37:13.181140Z"
    },
    "slideshow": {
     "slide_type": "fragment"
    }
   },
   "outputs": [
    {
     "name": "stderr",
     "output_type": "stream",
     "text": [
      "name 'undef_function' is not defined\n"
     ]
    },
    {
     "data": {
      "text/plain": [
       "<OracleResult.UNDEF: 'UNDEF'>"
      ]
     },
     "execution_count": 15,
     "metadata": {},
     "output_type": "execute_result"
    }
   ],
   "source": [
    "sample_runner(\"undef_function(QUERY)\")"
   ]
  },
  {
   "cell_type": "markdown",
   "metadata": {
    "slideshow": {
     "slide_type": "subslide"
    }
   },
   "source": [
    "The function `sample_runner(sample)` returns an `OracleResult.UNDEF` whenever the runner is not able to execute the sample."
   ]
  },
  {
   "cell_type": "markdown",
   "metadata": {
    "slideshow": {
     "slide_type": "fragment"
    }
   },
   "source": [
    "Finally, we provide the function `execute_samples(sample_list)` that obtains the oracle/label for a list of samples.\n",
    "We use the `pandas` module to place these in a data frame."
   ]
  },
  {
   "cell_type": "code",
   "execution_count": 16,
   "metadata": {
    "execution": {
     "iopub.execute_input": "2025-01-16T09:37:13.182767Z",
     "iopub.status.busy": "2025-01-16T09:37:13.182662Z",
     "iopub.status.idle": "2025-01-16T09:37:13.497354Z",
     "shell.execute_reply": "2025-01-16T09:37:13.497033Z"
    },
    "slideshow": {
     "slide_type": "skip"
    }
   },
   "outputs": [],
   "source": [
    "import pandas\n",
    "import numpy\n",
    "import matplotlib"
   ]
  },
  {
   "cell_type": "code",
   "execution_count": 17,
   "metadata": {
    "execution": {
     "iopub.execute_input": "2025-01-16T09:37:13.499010Z",
     "iopub.status.busy": "2025-01-16T09:37:13.498860Z",
     "iopub.status.idle": "2025-01-16T09:37:13.501096Z",
     "shell.execute_reply": "2025-01-16T09:37:13.500753Z"
    },
    "slideshow": {
     "slide_type": "fragment"
    }
   },
   "outputs": [],
   "source": [
    "# Executes a list of samples and return the execution outcome (label)\n",
    "# The function returns a pandas dataframe\n",
    "def execute_samples(sample_list):\n",
    "    data = []\n",
    "    for sample in sample_list:\n",
    "        result = sample_runner(sample)\n",
    "        data.append({\"oracle\": result })\n",
    "\n",
    "    return pandas.DataFrame.from_records(data)"
   ]
  },
  {
   "cell_type": "markdown",
   "metadata": {
    "slideshow": {
     "slide_type": "subslide"
    }
   },
   "source": [
    "Let us define a bigger list of samples to execute..."
   ]
  },
  {
   "cell_type": "code",
   "execution_count": 18,
   "metadata": {
    "execution": {
     "iopub.execute_input": "2025-01-16T09:37:13.502626Z",
     "iopub.status.busy": "2025-01-16T09:37:13.502494Z",
     "iopub.status.idle": "2025-01-16T09:37:13.504412Z",
     "shell.execute_reply": "2025-01-16T09:37:13.504062Z"
    },
    "slideshow": {
     "slide_type": "fragment"
    }
   },
   "outputs": [],
   "source": [
    "sample_list = [\"sqrt(-20)\", \"cos(2)\", \"sqrt(-100)\", \"undef_function(foo)\"]"
   ]
  },
  {
   "cell_type": "markdown",
   "metadata": {
    "slideshow": {
     "slide_type": "fragment"
    }
   },
   "source": [
    "... and obtain the execution outcome"
   ]
  },
  {
   "cell_type": "code",
   "execution_count": 19,
   "metadata": {
    "execution": {
     "iopub.execute_input": "2025-01-16T09:37:13.505895Z",
     "iopub.status.busy": "2025-01-16T09:37:13.505784Z",
     "iopub.status.idle": "2025-01-16T09:37:13.513337Z",
     "shell.execute_reply": "2025-01-16T09:37:13.513092Z"
    },
    "slideshow": {
     "slide_type": "fragment"
    }
   },
   "outputs": [
    {
     "name": "stderr",
     "output_type": "stream",
     "text": [
      "name 'undef_function' is not defined\n"
     ]
    },
    {
     "data": {
      "text/html": [
       "<div>\n",
       "<style scoped>\n",
       "    .dataframe tbody tr th:only-of-type {\n",
       "        vertical-align: middle;\n",
       "    }\n",
       "\n",
       "    .dataframe tbody tr th {\n",
       "        vertical-align: top;\n",
       "    }\n",
       "\n",
       "    .dataframe thead th {\n",
       "        text-align: right;\n",
       "    }\n",
       "</style>\n",
       "<table border=\"1\" class=\"dataframe\">\n",
       "  <thead>\n",
       "    <tr style=\"text-align: right;\">\n",
       "      <th></th>\n",
       "      <th>oracle</th>\n",
       "    </tr>\n",
       "  </thead>\n",
       "  <tbody>\n",
       "    <tr>\n",
       "      <th>0</th>\n",
       "      <td>BUG</td>\n",
       "    </tr>\n",
       "    <tr>\n",
       "      <th>1</th>\n",
       "      <td>NO_BUG</td>\n",
       "    </tr>\n",
       "    <tr>\n",
       "      <th>2</th>\n",
       "      <td>NO_BUG</td>\n",
       "    </tr>\n",
       "    <tr>\n",
       "      <th>3</th>\n",
       "      <td>UNDEF</td>\n",
       "    </tr>\n",
       "  </tbody>\n",
       "</table>\n",
       "</div>"
      ],
      "text/plain": [
       "   oracle\n",
       "0     BUG\n",
       "1  NO_BUG\n",
       "2  NO_BUG\n",
       "3   UNDEF"
      ]
     },
     "execution_count": 19,
     "metadata": {},
     "output_type": "execute_result"
    }
   ],
   "source": [
    "labels = execute_samples(sample_list)\n",
    "labels"
   ]
  },
  {
   "cell_type": "markdown",
   "metadata": {
    "slideshow": {
     "slide_type": "fragment"
    }
   },
   "source": [
    "We can combine these with the `sample_list`:"
   ]
  },
  {
   "cell_type": "code",
   "execution_count": 20,
   "metadata": {
    "execution": {
     "iopub.execute_input": "2025-01-16T09:37:13.514532Z",
     "iopub.status.busy": "2025-01-16T09:37:13.514454Z",
     "iopub.status.idle": "2025-01-16T09:37:13.516665Z",
     "shell.execute_reply": "2025-01-16T09:37:13.516426Z"
    },
    "slideshow": {
     "slide_type": "subslide"
    }
   },
   "outputs": [
    {
     "name": "stdout",
     "output_type": "stream",
     "text": [
      "sqrt(-20)                     BUG\n",
      "cos(2)                        NO_BUG\n",
      "sqrt(-100)                    NO_BUG\n",
      "undef_function(foo)           UNDEF\n"
     ]
    }
   ],
   "source": [
    "for i, row in enumerate(labels['oracle']): print(sample_list[i].ljust(30) + str(row))"
   ]
  },
  {
   "cell_type": "markdown",
   "metadata": {
    "slideshow": {
     "slide_type": "fragment"
    }
   },
   "source": [
    "We can remove the undefined input samples like this:"
   ]
  },
  {
   "cell_type": "code",
   "execution_count": 21,
   "metadata": {
    "execution": {
     "iopub.execute_input": "2025-01-16T09:37:13.517881Z",
     "iopub.status.busy": "2025-01-16T09:37:13.517788Z",
     "iopub.status.idle": "2025-01-16T09:37:13.522239Z",
     "shell.execute_reply": "2025-01-16T09:37:13.522004Z"
    },
    "slideshow": {
     "slide_type": "fragment"
    }
   },
   "outputs": [
    {
     "data": {
      "text/html": [
       "<div>\n",
       "<style scoped>\n",
       "    .dataframe tbody tr th:only-of-type {\n",
       "        vertical-align: middle;\n",
       "    }\n",
       "\n",
       "    .dataframe tbody tr th {\n",
       "        vertical-align: top;\n",
       "    }\n",
       "\n",
       "    .dataframe thead th {\n",
       "        text-align: right;\n",
       "    }\n",
       "</style>\n",
       "<table border=\"1\" class=\"dataframe\">\n",
       "  <thead>\n",
       "    <tr style=\"text-align: right;\">\n",
       "      <th></th>\n",
       "      <th>oracle</th>\n",
       "    </tr>\n",
       "  </thead>\n",
       "  <tbody>\n",
       "    <tr>\n",
       "      <th>0</th>\n",
       "      <td>BUG</td>\n",
       "    </tr>\n",
       "    <tr>\n",
       "      <th>1</th>\n",
       "      <td>NO_BUG</td>\n",
       "    </tr>\n",
       "    <tr>\n",
       "      <th>2</th>\n",
       "      <td>NO_BUG</td>\n",
       "    </tr>\n",
       "  </tbody>\n",
       "</table>\n",
       "</div>"
      ],
      "text/plain": [
       "   oracle\n",
       "0     BUG\n",
       "1  NO_BUG\n",
       "2  NO_BUG"
      ]
     },
     "execution_count": 21,
     "metadata": {},
     "output_type": "execute_result"
    }
   ],
   "source": [
    "clean_data = labels.drop(labels[labels.oracle.astype(str) == \"UNDEF\"].index)\n",
    "clean_data"
   ]
  },
  {
   "cell_type": "markdown",
   "metadata": {
    "slideshow": {
     "slide_type": "fragment"
    }
   },
   "source": [
    "We can combine sample and labels by iterating over the obtained oracle:"
   ]
  },
  {
   "cell_type": "code",
   "execution_count": 22,
   "metadata": {
    "execution": {
     "iopub.execute_input": "2025-01-16T09:37:13.523366Z",
     "iopub.status.busy": "2025-01-16T09:37:13.523273Z",
     "iopub.status.idle": "2025-01-16T09:37:13.525443Z",
     "shell.execute_reply": "2025-01-16T09:37:13.525188Z"
    },
    "slideshow": {
     "slide_type": "subslide"
    }
   },
   "outputs": [
    {
     "name": "stdout",
     "output_type": "stream",
     "text": [
      "sqrt(-20)                     BUG\n",
      "cos(2)                        NO_BUG\n",
      "sqrt(-100)                    NO_BUG\n",
      "undef_function(foo)           UNDEF\n"
     ]
    },
    {
     "name": "stderr",
     "output_type": "stream",
     "text": [
      "name 'undef_function' is not defined\n"
     ]
    }
   ],
   "source": [
    "oracle = execute_samples(sample_list)\n",
    "for i, row in enumerate(oracle['oracle']):\n",
    "    print(sample_list[i].ljust(30) + str(row))"
   ]
  },
  {
   "cell_type": "markdown",
   "metadata": {
    "slideshow": {
     "slide_type": "subslide"
    }
   },
   "source": [
    "We observe that the sample `sqrt(-16)` triggers a bug in the calculator, whereas the sample `sqrt(4)` does not show unusual behavior. Of course, we want to know why the sample fails the program. In a typical use case, the developers of the calculator program would now try other input samples and evaluate if similar inputs also trigger the program's failure. Let's try some more input samples; maybe we can refine our understanding of why the calculator crashes:"
   ]
  },
  {
   "cell_type": "markdown",
   "metadata": {
    "slideshow": {
     "slide_type": "fragment"
    }
   },
   "source": [
    "Our guesses - maybe the failure is also in the `cos()` or `tan()` function?"
   ]
  },
  {
   "cell_type": "code",
   "execution_count": 23,
   "metadata": {
    "execution": {
     "iopub.execute_input": "2025-01-16T09:37:13.526810Z",
     "iopub.status.busy": "2025-01-16T09:37:13.526697Z",
     "iopub.status.idle": "2025-01-16T09:37:13.528413Z",
     "shell.execute_reply": "2025-01-16T09:37:13.528182Z"
    },
    "slideshow": {
     "slide_type": "fragment"
    }
   },
   "outputs": [],
   "source": [
    "guess_samples = ['cos(-16)', 'tan(-16)', 'sqrt(-100)', 'sqrt(-20.23412431234123)']"
   ]
  },
  {
   "cell_type": "markdown",
   "metadata": {
    "slideshow": {
     "slide_type": "fragment"
    }
   },
   "source": [
    "Let's obtain the execution outcome for each of our guesses:\n"
   ]
  },
  {
   "cell_type": "code",
   "execution_count": 24,
   "metadata": {
    "execution": {
     "iopub.execute_input": "2025-01-16T09:37:13.529663Z",
     "iopub.status.busy": "2025-01-16T09:37:13.529556Z",
     "iopub.status.idle": "2025-01-16T09:37:13.531585Z",
     "shell.execute_reply": "2025-01-16T09:37:13.531286Z"
    },
    "slideshow": {
     "slide_type": "fragment"
    }
   },
   "outputs": [],
   "source": [
    "guess_oracle = execute_samples(guess_samples)"
   ]
  },
  {
   "cell_type": "markdown",
   "metadata": {
    "slideshow": {
     "slide_type": "fragment"
    }
   },
   "source": [
    "Here come the results:"
   ]
  },
  {
   "cell_type": "code",
   "execution_count": 25,
   "metadata": {
    "execution": {
     "iopub.execute_input": "2025-01-16T09:37:13.532956Z",
     "iopub.status.busy": "2025-01-16T09:37:13.532852Z",
     "iopub.status.idle": "2025-01-16T09:37:13.534815Z",
     "shell.execute_reply": "2025-01-16T09:37:13.534588Z"
    },
    "slideshow": {
     "slide_type": "subslide"
    }
   },
   "outputs": [
    {
     "name": "stdout",
     "output_type": "stream",
     "text": [
      "cos(-16)                      NO_BUG\n",
      "tan(-16)                      NO_BUG\n",
      "sqrt(-100)                    NO_BUG\n",
      "sqrt(-20.23412431234123)      BUG\n"
     ]
    }
   ],
   "source": [
    "for i, row in enumerate(guess_oracle['oracle']):\n",
    "    print(guess_samples[i].ljust(30) + str(row))"
   ]
  },
  {
   "cell_type": "markdown",
   "metadata": {
    "slideshow": {
     "slide_type": "fragment"
    }
   },
   "source": [
    "It looks like the failure only occurs in the `sqrt()` function, however, only for specific `x` values.\n",
    "We could now try other values for `x` and repeat the process.\n",
    "However, this would be highly time-consuming and not an efficient debugging technique for a larger and more complex test subject."
   ]
  },
  {
   "cell_type": "markdown",
   "metadata": {
    "slideshow": {
     "slide_type": "subslide"
    }
   },
   "source": [
    "Wouldn't it be great if there was a tool that automatically does this for us? \n",
    "And this is exactly what _Alhazen_ is there for.\n",
    "It helps us explain why specific input features cause a program to fail."
   ]
  },
  {
   "cell_type": "markdown",
   "metadata": {
    "slideshow": {
     "slide_type": "slide"
    }
   },
   "source": [
    "## Step 1: Extracting Features"
   ]
  },
  {
   "cell_type": "markdown",
   "metadata": {
    "slideshow": {
     "slide_type": "subslide"
    }
   },
   "source": [
    "In this section, we are concerned with the problem of extracting semantic features from inputs. In particular, Alhazen defines various features based on the input grammar, such as *existence* and *numeric interpretation*. These features are then extracted from the parse trees of the inputs (see Section 3 of \\cite{Kampmann2020} for more details).\n",
    "\n",
    "The implementation of the feature extraction module consists of the following three tasks:\n",
    "1. Implementation of individual _feature classes_, whose instances allow deriving specific feature values from inputs\n",
    "2. _Extraction of features from the grammar_ through instantiation of the aforementioned feature classes\n",
    "3. Computation of _feature vectors_ from a set of inputs, which will then be used as input for the decision tree"
   ]
  },
  {
   "cell_type": "markdown",
   "metadata": {
    "slideshow": {
     "slide_type": "subslide"
    }
   },
   "source": [
    "### Internal and \"Friendly\" Feature Names\n",
    "\n",
    "We use two kinds of _names_ for features:\n",
    "\n",
    "* _internal_ names have the form `<SYMBOL>@N` and refer to the `N`-th expansion of symbol (starting with 0).\n",
    "  In `CALC_GRAMMAR`, for instance, `<function>@0` refers to the expansion of `<function>` to `\"sqrt\"`\n",
    "* _friendly_ names are more user-friendly (hence the name).\n",
    "  The above feature `<function>@0` has the \"friendly\" name `<function> == \"sqrt\"`.\n",
    "\n",
    "We use internal names in all our interaction with the machine learner, as they are unambiguous and do not contain whitespace.\n",
    "When showing the final results, we switch to \"friendly\" names."
   ]
  },
  {
   "cell_type": "markdown",
   "metadata": {
    "slideshow": {
     "slide_type": "subslide"
    }
   },
   "source": [
    "### Implementing Feature Classes"
   ]
  },
  {
   "cell_type": "code",
   "execution_count": 26,
   "metadata": {
    "execution": {
     "iopub.execute_input": "2025-01-16T09:37:13.536273Z",
     "iopub.status.busy": "2025-01-16T09:37:13.536179Z",
     "iopub.status.idle": "2025-01-16T09:37:13.537738Z",
     "shell.execute_reply": "2025-01-16T09:37:13.537519Z"
    },
    "slideshow": {
     "slide_type": "skip"
    }
   },
   "outputs": [],
   "source": [
    "from abc import ABC, abstractmethod"
   ]
  },
  {
   "cell_type": "code",
   "execution_count": 27,
   "metadata": {
    "execution": {
     "iopub.execute_input": "2025-01-16T09:37:13.538861Z",
     "iopub.status.busy": "2025-01-16T09:37:13.538762Z",
     "iopub.status.idle": "2025-01-16T09:37:13.541523Z",
     "shell.execute_reply": "2025-01-16T09:37:13.541268Z"
    },
    "slideshow": {
     "slide_type": "subslide"
    }
   },
   "outputs": [],
   "source": [
    "class Feature(ABC):\n",
    "    '''\n",
    "    The abstract base class for grammar features.\n",
    "\n",
    "    Args:\n",
    "        name : A unique identifier name for this feature. Should not contain Whitespaces.\n",
    "               e.g., 'type(<feature>@1)'\n",
    "        rule : The production rule (e.g., '<function>' or '<value>').\n",
    "        key  : The feature key (e.g., the chosen alternative or rule itself).\n",
    "    '''\n",
    "\n",
    "    def __init__(self, name: str, rule: str, key: str, /,\n",
    "                 friendly_name: str = None) -> None:\n",
    "        self.name = name\n",
    "        self.rule = rule\n",
    "        self.key = key\n",
    "        self._friendly_name = friendly_name or name\n",
    "        super().__init__()\n",
    "\n",
    "    def __repr__(self) -> str:\n",
    "        '''Returns a printable string representation of the feature.'''\n",
    "        return self.name_rep()\n",
    "\n",
    "    @abstractmethod\n",
    "    def name_rep(self) -> str:\n",
    "        pass\n",
    "\n",
    "    def friendly_name(self) -> str:\n",
    "        return self._friendly_name\n",
    "\n",
    "    @abstractmethod\n",
    "    def get_feature_value(self, derivation_tree) -> float:\n",
    "        '''Returns the feature value for a given derivation tree of an input.'''\n",
    "        pass\n",
    "\n",
    "    def replace(self, new_key: str) -> 'Feature':\n",
    "        '''Returns a new feature with the same name but a different key.'''\n",
    "        return self.__class__(self.name, self.rule, new_key)"
   ]
  },
  {
   "cell_type": "code",
   "execution_count": 28,
   "metadata": {
    "execution": {
     "iopub.execute_input": "2025-01-16T09:37:13.542731Z",
     "iopub.status.busy": "2025-01-16T09:37:13.542630Z",
     "iopub.status.idle": "2025-01-16T09:37:13.546090Z",
     "shell.execute_reply": "2025-01-16T09:37:13.545815Z"
    },
    "slideshow": {
     "slide_type": "subslide"
    }
   },
   "outputs": [],
   "source": [
    "class ExistenceFeature(Feature):\n",
    "    '''\n",
    "    This class represents existence features of a grammar. Existence features indicate\n",
    "    whether a particular production rule was used in the derivation sequence of an input.\n",
    "    For a given production rule P -> A | B, a production existence feature for P and\n",
    "    alternative existence features for each alternative (i.e., A and B) are defined.\n",
    "\n",
    "    name : A unique identifier name for this feature. Should not contain Whitespaces.\n",
    "           e.g., 'exist(<digit>@1)'\n",
    "    rule : The production rule.\n",
    "    key  : The feature key, equal to the rule attribute for production features,\n",
    "           or equal to the corresponding alternative for alternative features.\n",
    "    '''\n",
    "    def __init__(self, name: str, rule: str, key: str,\n",
    "                 friendly_name: str = None) -> None:\n",
    "        super().__init__(name, rule, key, friendly_name=friendly_name)\n",
    "\n",
    "    def name_rep(self) -> str:\n",
    "        if self.rule == self.key:\n",
    "            return f\"exists({self.rule})\"\n",
    "        else:\n",
    "            return f\"exists({self.rule} == {self.key})\"\n",
    "\n",
    "    def get_feature_value(self, derivation_tree) -> float:\n",
    "        '''Returns the feature value for a given derivation tree of an input.'''\n",
    "        raise NotImplementedError\n",
    "\n",
    "    def get_feature_value(self, derivation_tree: DerivationTree) -> float:\n",
    "        '''Counts the number of times this feature was matched in the derivation tree.'''\n",
    "        (node, children) = derivation_tree\n",
    "\n",
    "        # The local match count (1 if the feature is matched for the current node, 0 if not)\n",
    "        count = 0\n",
    "\n",
    "        # First check if the current node can be matched with the rule\n",
    "        if node == self.rule:\n",
    "\n",
    "            # Production existance feature\n",
    "            if self.rule == self.key:\n",
    "                count = 1\n",
    "\n",
    "            # Production alternative existance feature\n",
    "            # We compare the children of the expansion with the actual children\n",
    "            else:\n",
    "                expansion_children = list(map(lambda x: x[0], expansion_to_children(self.key)))\n",
    "                node_children = list(map(lambda x: x[0], children))\n",
    "                if expansion_children == node_children:\n",
    "                    count= 1\n",
    "\n",
    "        # Recursively compute the counts for all children and return the sum for the whole tree\n",
    "        for child in children:\n",
    "            count = max(count, self.get_feature_value(child)) \n",
    "\n",
    "        return count"
   ]
  },
  {
   "cell_type": "code",
   "execution_count": 29,
   "metadata": {
    "execution": {
     "iopub.execute_input": "2025-01-16T09:37:13.547350Z",
     "iopub.status.busy": "2025-01-16T09:37:13.547251Z",
     "iopub.status.idle": "2025-01-16T09:37:13.548913Z",
     "shell.execute_reply": "2025-01-16T09:37:13.548671Z"
    },
    "slideshow": {
     "slide_type": "skip"
    }
   },
   "outputs": [],
   "source": [
    "from numpy import nanmax, isnan"
   ]
  },
  {
   "cell_type": "code",
   "execution_count": 30,
   "metadata": {
    "execution": {
     "iopub.execute_input": "2025-01-16T09:37:13.550129Z",
     "iopub.status.busy": "2025-01-16T09:37:13.550033Z",
     "iopub.status.idle": "2025-01-16T09:37:13.552998Z",
     "shell.execute_reply": "2025-01-16T09:37:13.552770Z"
    },
    "slideshow": {
     "slide_type": "subslide"
    }
   },
   "outputs": [],
   "source": [
    "class NumericInterpretation(Feature):\n",
    "    '''\n",
    "    This class represents numeric interpretation features of a grammar. These features\n",
    "    are defined for productions that only derive words composed of the characters\n",
    "    [0-9], '.', and '-'. The returned feature value corresponds to the maximum\n",
    "    floating-point number interpretation of the derived words of a production.\n",
    "\n",
    "    name : A unique identifier name for this feature. Should not contain Whitespaces.\n",
    "           e.g., 'num(<integer>)'\n",
    "    rule : The production rule.\n",
    "    '''\n",
    "    def __init__(self, name: str, rule: str, /, \n",
    "                 friendly_name: str = None) -> None:\n",
    "        super().__init__(name, rule, rule, friendly_name=friendly_name)\n",
    "\n",
    "    def name_rep(self) -> str:\n",
    "        return f\"num({self.key})\"\n",
    "\n",
    "    def get_feature_value(self, derivation_tree) -> float:\n",
    "        '''Returns the feature value for a given derivation tree of an input.'''\n",
    "        raise NotImplementedError\n",
    "\n",
    "    def get_feature_value(self, derivation_tree: DerivationTree) -> float:\n",
    "        '''Determines the maximum float of this feature in the derivation tree.'''\n",
    "        (node, children) = derivation_tree\n",
    "\n",
    "        value = float('nan')\n",
    "        if node == self.rule:\n",
    "            try:\n",
    "                #print(self.name, float(tree_to_string(derivation_tree)))\n",
    "                value = float(tree_to_string(derivation_tree))\n",
    "            except ValueError:\n",
    "                #print(self.name, float(tree_to_string(derivation_tree)), \"err\")\n",
    "                pass\n",
    "\n",
    "        # Return maximum value encountered in tree, ignoring all NaNs\n",
    "        tree_values = [value] + [self.get_feature_value(c) for c in children]\n",
    "        if all(isnan(tree_values)):\n",
    "            return value\n",
    "        else:\n",
    "            return nanmax(tree_values)"
   ]
  },
  {
   "cell_type": "markdown",
   "metadata": {
    "slideshow": {
     "slide_type": "subslide"
    }
   },
   "source": [
    "### Extracting Feature Sets from Grammars"
   ]
  },
  {
   "cell_type": "code",
   "execution_count": 31,
   "metadata": {
    "execution": {
     "iopub.execute_input": "2025-01-16T09:37:13.554129Z",
     "iopub.status.busy": "2025-01-16T09:37:13.554056Z",
     "iopub.status.idle": "2025-01-16T09:37:13.556411Z",
     "shell.execute_reply": "2025-01-16T09:37:13.556133Z"
    },
    "slideshow": {
     "slide_type": "subslide"
    }
   },
   "outputs": [],
   "source": [
    "def extract_existence_features(grammar: Grammar) -> List[ExistenceFeature]:\n",
    "    '''\n",
    "        Extracts all existence features from the grammar and returns them as a list.\n",
    "        grammar : The input grammar.\n",
    "    '''\n",
    "\n",
    "    features = []\n",
    "\n",
    "    for rule in grammar:\n",
    "        # add the rule\n",
    "        features.append(ExistenceFeature(f\"exists({rule})\", rule, rule))\n",
    "        # add all alternatives\n",
    "        for count, expansion in enumerate(grammar[rule]):\n",
    "            name = f\"exists({rule}@{count})\"\n",
    "            friendly_name = f\"{rule} == {repr(expansion)}\"\n",
    "            feature = ExistenceFeature(name, rule, expansion,\n",
    "                                       friendly_name=friendly_name)\n",
    "            features.append(feature)\n",
    "\n",
    "    return features"
   ]
  },
  {
   "cell_type": "code",
   "execution_count": 32,
   "metadata": {
    "execution": {
     "iopub.execute_input": "2025-01-16T09:37:13.557909Z",
     "iopub.status.busy": "2025-01-16T09:37:13.557795Z",
     "iopub.status.idle": "2025-01-16T09:37:13.559521Z",
     "shell.execute_reply": "2025-01-16T09:37:13.559273Z"
    },
    "slideshow": {
     "slide_type": "skip"
    }
   },
   "outputs": [],
   "source": [
    "from collections import defaultdict\n",
    "import re"
   ]
  },
  {
   "cell_type": "code",
   "execution_count": 33,
   "metadata": {
    "execution": {
     "iopub.execute_input": "2025-01-16T09:37:13.560767Z",
     "iopub.status.busy": "2025-01-16T09:37:13.560666Z",
     "iopub.status.idle": "2025-01-16T09:37:13.563852Z",
     "shell.execute_reply": "2025-01-16T09:37:13.563620Z"
    },
    "slideshow": {
     "slide_type": "subslide"
    }
   },
   "outputs": [],
   "source": [
    "# Regex for non-terminal symbols in expansions\n",
    "RE_NONTERMINAL = re.compile(r'(<[^<> ]*>)')\n",
    "\n",
    "def extract_numeric_features(grammar: Grammar) -> List[NumericInterpretation]:\n",
    "    '''\n",
    "        Extracts all numeric interpretation features from the grammar and returns them as a list.\n",
    "\n",
    "        grammar : The input grammar.\n",
    "    '''\n",
    "\n",
    "    features = []\n",
    "\n",
    "    # Mapping from non-terminals to derivable terminal chars\n",
    "    derivable_chars = defaultdict(set)\n",
    "\n",
    "    for rule in grammar:\n",
    "        for expansion in grammar[rule]:\n",
    "            # Remove non-terminal symbols and whitespace from expansion\n",
    "            terminals = re.sub(RE_NONTERMINAL, '', expansion).replace(' ', '')\n",
    "\n",
    "            # Add each terminal char to the set of derivable chars\n",
    "            for c in terminals:\n",
    "                derivable_chars[rule].add(c)\n",
    "\n",
    "    # Repeatedly update the mapping until convergence\n",
    "    while True:\n",
    "        updated = False\n",
    "        for rule in grammar:\n",
    "            for r in reachable_nonterminals(grammar, rule):\n",
    "                before = len(derivable_chars[rule])\n",
    "                derivable_chars[rule].update(derivable_chars[r])\n",
    "                after = len(derivable_chars[rule])\n",
    "\n",
    "                # Set of derivable chars was updated\n",
    "                if after > before:\n",
    "                    updated = True\n",
    "\n",
    "        if not updated:\n",
    "            break\n",
    "\n",
    "    numeric_chars = set(['0','1','2','3','4','5','6','7','8','9','.','-'])\n",
    "\n",
    "    for key in derivable_chars:\n",
    "        # Check if derivable chars contain only numeric chars\n",
    "        if len(derivable_chars[key] - numeric_chars) == 0:\n",
    "            name = f\"num({key})\"\n",
    "            friendly_name = f\"{key}\"\n",
    "\n",
    "            features.append(NumericInterpretation(f\"num({key})\", key,\n",
    "                                                  friendly_name=friendly_name))\n",
    "\n",
    "    return features"
   ]
  },
  {
   "cell_type": "code",
   "execution_count": 34,
   "metadata": {
    "execution": {
     "iopub.execute_input": "2025-01-16T09:37:13.564983Z",
     "iopub.status.busy": "2025-01-16T09:37:13.564892Z",
     "iopub.status.idle": "2025-01-16T09:37:13.566626Z",
     "shell.execute_reply": "2025-01-16T09:37:13.566334Z"
    },
    "slideshow": {
     "slide_type": "subslide"
    }
   },
   "outputs": [],
   "source": [
    "def extract_all_features(grammar: Grammar) -> List[Feature]:\n",
    "    return (extract_existence_features(grammar)\n",
    "            + extract_numeric_features(grammar))"
   ]
  },
  {
   "cell_type": "markdown",
   "metadata": {
    "slideshow": {
     "slide_type": "fragment"
    }
   },
   "source": [
    "Here are all the features from our calculator grammar:"
   ]
  },
  {
   "cell_type": "code",
   "execution_count": 35,
   "metadata": {
    "execution": {
     "iopub.execute_input": "2025-01-16T09:37:13.567877Z",
     "iopub.status.busy": "2025-01-16T09:37:13.567780Z",
     "iopub.status.idle": "2025-01-16T09:37:13.570250Z",
     "shell.execute_reply": "2025-01-16T09:37:13.569976Z"
    },
    "slideshow": {
     "slide_type": "subslide"
    }
   },
   "outputs": [
    {
     "data": {
      "text/plain": [
       "[exists(<start>),\n",
       " exists(<start> == <function>(<term>)),\n",
       " exists(<function>),\n",
       " exists(<function> == sqrt),\n",
       " exists(<function> == tan),\n",
       " exists(<function> == cos),\n",
       " exists(<function> == sin),\n",
       " exists(<term>),\n",
       " exists(<term> == -<value>),\n",
       " exists(<term> == <value>),\n",
       " exists(<value>),\n",
       " exists(<value> == <integer>.<digits>),\n",
       " exists(<value> == <integer>),\n",
       " exists(<integer>),\n",
       " exists(<integer> == <lead-digit><digits>),\n",
       " exists(<integer> == <digit>),\n",
       " exists(<digits>),\n",
       " exists(<digits> == <digit><digits>),\n",
       " exists(<digits> == <digit>),\n",
       " exists(<lead-digit>),\n",
       " exists(<lead-digit> == 1),\n",
       " exists(<lead-digit> == 2),\n",
       " exists(<lead-digit> == 3),\n",
       " exists(<lead-digit> == 4),\n",
       " exists(<lead-digit> == 5),\n",
       " exists(<lead-digit> == 6),\n",
       " exists(<lead-digit> == 7),\n",
       " exists(<lead-digit> == 8),\n",
       " exists(<lead-digit> == 9),\n",
       " exists(<digit>),\n",
       " exists(<digit> == 0),\n",
       " exists(<digit> == 1),\n",
       " exists(<digit> == 2),\n",
       " exists(<digit> == 3),\n",
       " exists(<digit> == 4),\n",
       " exists(<digit> == 5),\n",
       " exists(<digit> == 6),\n",
       " exists(<digit> == 7),\n",
       " exists(<digit> == 8),\n",
       " exists(<digit> == 9),\n",
       " num(<term>),\n",
       " num(<value>),\n",
       " num(<lead-digit>),\n",
       " num(<digit>),\n",
       " num(<integer>),\n",
       " num(<digits>)]"
      ]
     },
     "execution_count": 35,
     "metadata": {},
     "output_type": "execute_result"
    }
   ],
   "source": [
    "extract_all_features(CALC_GRAMMAR)"
   ]
  },
  {
   "cell_type": "markdown",
   "metadata": {
    "slideshow": {
     "slide_type": "subslide"
    }
   },
   "source": [
    "The `friendly` representation is a bit more concise and more readable:"
   ]
  },
  {
   "cell_type": "code",
   "execution_count": 36,
   "metadata": {
    "execution": {
     "iopub.execute_input": "2025-01-16T09:37:13.571733Z",
     "iopub.status.busy": "2025-01-16T09:37:13.571613Z",
     "iopub.status.idle": "2025-01-16T09:37:13.574302Z",
     "shell.execute_reply": "2025-01-16T09:37:13.574064Z"
    },
    "slideshow": {
     "slide_type": "subslide"
    }
   },
   "outputs": [
    {
     "data": {
      "text/plain": [
       "['exists(<start>)',\n",
       " \"<start> == '<function>(<term>)'\",\n",
       " 'exists(<function>)',\n",
       " \"<function> == 'sqrt'\",\n",
       " \"<function> == 'tan'\",\n",
       " \"<function> == 'cos'\",\n",
       " \"<function> == 'sin'\",\n",
       " 'exists(<term>)',\n",
       " \"<term> == '-<value>'\",\n",
       " \"<term> == '<value>'\",\n",
       " 'exists(<value>)',\n",
       " \"<value> == '<integer>.<digits>'\",\n",
       " \"<value> == '<integer>'\",\n",
       " 'exists(<integer>)',\n",
       " \"<integer> == '<lead-digit><digits>'\",\n",
       " \"<integer> == '<digit>'\",\n",
       " 'exists(<digits>)',\n",
       " \"<digits> == '<digit><digits>'\",\n",
       " \"<digits> == '<digit>'\",\n",
       " 'exists(<lead-digit>)',\n",
       " \"<lead-digit> == '1'\",\n",
       " \"<lead-digit> == '2'\",\n",
       " \"<lead-digit> == '3'\",\n",
       " \"<lead-digit> == '4'\",\n",
       " \"<lead-digit> == '5'\",\n",
       " \"<lead-digit> == '6'\",\n",
       " \"<lead-digit> == '7'\",\n",
       " \"<lead-digit> == '8'\",\n",
       " \"<lead-digit> == '9'\",\n",
       " 'exists(<digit>)',\n",
       " \"<digit> == '0'\",\n",
       " \"<digit> == '1'\",\n",
       " \"<digit> == '2'\",\n",
       " \"<digit> == '3'\",\n",
       " \"<digit> == '4'\",\n",
       " \"<digit> == '5'\",\n",
       " \"<digit> == '6'\",\n",
       " \"<digit> == '7'\",\n",
       " \"<digit> == '8'\",\n",
       " \"<digit> == '9'\",\n",
       " '<term>',\n",
       " '<value>',\n",
       " '<lead-digit>',\n",
       " '<digit>',\n",
       " '<integer>',\n",
       " '<digits>']"
      ]
     },
     "execution_count": 36,
     "metadata": {},
     "output_type": "execute_result"
    }
   ],
   "source": [
    "[f.friendly_name() for f in extract_all_features(CALC_GRAMMAR)]"
   ]
  },
  {
   "cell_type": "markdown",
   "metadata": {
    "slideshow": {
     "slide_type": "subslide"
    }
   },
   "source": [
    "### Extracting Feature Values from Inputs"
   ]
  },
  {
   "cell_type": "markdown",
   "metadata": {
    "slideshow": {
     "slide_type": "fragment"
    }
   },
   "source": [
    "This is a rather slow implementation.\n",
    "For many grammars with many syntactically features, the feature collection can be optimized."
   ]
  },
  {
   "cell_type": "code",
   "execution_count": 37,
   "metadata": {
    "execution": {
     "iopub.execute_input": "2025-01-16T09:37:13.575648Z",
     "iopub.status.busy": "2025-01-16T09:37:13.575553Z",
     "iopub.status.idle": "2025-01-16T09:37:13.578210Z",
     "shell.execute_reply": "2025-01-16T09:37:13.577972Z"
    },
    "slideshow": {
     "slide_type": "subslide"
    }
   },
   "outputs": [],
   "source": [
    "def collect_features(sample_list: List[str],\n",
    "                     grammar: Grammar) -> pandas.DataFrame:\n",
    "\n",
    "    data = []\n",
    "\n",
    "    # parse grammar and extract features\n",
    "    all_features = extract_all_features(grammar)\n",
    "\n",
    "    # iterate over all samples\n",
    "    for sample in sample_list:\n",
    "        parsed_features = {}\n",
    "        parsed_features[\"sample\"] = sample\n",
    "        # initate dictionary\n",
    "        for feature in all_features:\n",
    "            parsed_features[feature.name] = 0\n",
    "\n",
    "        # Obtain the parse tree for each input file\n",
    "        earley = EarleyParser(grammar)\n",
    "        for tree in earley.parse(sample):\n",
    "\n",
    "            for feature in all_features:\n",
    "                parsed_features[feature.name] = feature.get_feature_value(tree)\n",
    "\n",
    "        data.append(parsed_features)\n",
    "\n",
    "    return pandas.DataFrame.from_records(data)"
   ]
  },
  {
   "cell_type": "code",
   "execution_count": 38,
   "metadata": {
    "execution": {
     "iopub.execute_input": "2025-01-16T09:37:13.579370Z",
     "iopub.status.busy": "2025-01-16T09:37:13.579275Z",
     "iopub.status.idle": "2025-01-16T09:37:13.589674Z",
     "shell.execute_reply": "2025-01-16T09:37:13.589397Z"
    },
    "slideshow": {
     "slide_type": "subslide"
    }
   },
   "outputs": [
    {
     "data": {
      "text/html": [
       "<div>\n",
       "<style scoped>\n",
       "    .dataframe tbody tr th:only-of-type {\n",
       "        vertical-align: middle;\n",
       "    }\n",
       "\n",
       "    .dataframe tbody tr th {\n",
       "        vertical-align: top;\n",
       "    }\n",
       "\n",
       "    .dataframe thead th {\n",
       "        text-align: right;\n",
       "    }\n",
       "</style>\n",
       "<table border=\"1\" class=\"dataframe\">\n",
       "  <thead>\n",
       "    <tr style=\"text-align: right;\">\n",
       "      <th></th>\n",
       "      <th>sample</th>\n",
       "      <th>exists(&lt;start&gt;)</th>\n",
       "      <th>exists(&lt;start&gt;@0)</th>\n",
       "      <th>exists(&lt;function&gt;)</th>\n",
       "      <th>exists(&lt;function&gt;@0)</th>\n",
       "      <th>exists(&lt;function&gt;@1)</th>\n",
       "      <th>exists(&lt;function&gt;@2)</th>\n",
       "      <th>exists(&lt;function&gt;@3)</th>\n",
       "      <th>exists(&lt;term&gt;)</th>\n",
       "      <th>exists(&lt;term&gt;@0)</th>\n",
       "      <th>...</th>\n",
       "      <th>exists(&lt;digit&gt;@6)</th>\n",
       "      <th>exists(&lt;digit&gt;@7)</th>\n",
       "      <th>exists(&lt;digit&gt;@8)</th>\n",
       "      <th>exists(&lt;digit&gt;@9)</th>\n",
       "      <th>num(&lt;term&gt;)</th>\n",
       "      <th>num(&lt;value&gt;)</th>\n",
       "      <th>num(&lt;lead-digit&gt;)</th>\n",
       "      <th>num(&lt;digit&gt;)</th>\n",
       "      <th>num(&lt;integer&gt;)</th>\n",
       "      <th>num(&lt;digits&gt;)</th>\n",
       "    </tr>\n",
       "  </thead>\n",
       "  <tbody>\n",
       "    <tr>\n",
       "      <th>0</th>\n",
       "      <td>sqrt(-900)</td>\n",
       "      <td>1</td>\n",
       "      <td>1</td>\n",
       "      <td>1</td>\n",
       "      <td>1</td>\n",
       "      <td>0</td>\n",
       "      <td>0</td>\n",
       "      <td>0</td>\n",
       "      <td>1</td>\n",
       "      <td>1</td>\n",
       "      <td>...</td>\n",
       "      <td>0</td>\n",
       "      <td>0</td>\n",
       "      <td>0</td>\n",
       "      <td>0</td>\n",
       "      <td>-900.00</td>\n",
       "      <td>900.00</td>\n",
       "      <td>9.0</td>\n",
       "      <td>0.0</td>\n",
       "      <td>900.0</td>\n",
       "      <td>0.0</td>\n",
       "    </tr>\n",
       "    <tr>\n",
       "      <th>1</th>\n",
       "      <td>sin(24)</td>\n",
       "      <td>1</td>\n",
       "      <td>1</td>\n",
       "      <td>1</td>\n",
       "      <td>0</td>\n",
       "      <td>0</td>\n",
       "      <td>0</td>\n",
       "      <td>1</td>\n",
       "      <td>1</td>\n",
       "      <td>0</td>\n",
       "      <td>...</td>\n",
       "      <td>0</td>\n",
       "      <td>0</td>\n",
       "      <td>0</td>\n",
       "      <td>0</td>\n",
       "      <td>24.00</td>\n",
       "      <td>24.00</td>\n",
       "      <td>2.0</td>\n",
       "      <td>4.0</td>\n",
       "      <td>24.0</td>\n",
       "      <td>4.0</td>\n",
       "    </tr>\n",
       "    <tr>\n",
       "      <th>2</th>\n",
       "      <td>cos(-3.14)</td>\n",
       "      <td>1</td>\n",
       "      <td>1</td>\n",
       "      <td>1</td>\n",
       "      <td>0</td>\n",
       "      <td>0</td>\n",
       "      <td>1</td>\n",
       "      <td>0</td>\n",
       "      <td>1</td>\n",
       "      <td>1</td>\n",
       "      <td>...</td>\n",
       "      <td>0</td>\n",
       "      <td>0</td>\n",
       "      <td>0</td>\n",
       "      <td>0</td>\n",
       "      <td>-3.14</td>\n",
       "      <td>3.14</td>\n",
       "      <td>NaN</td>\n",
       "      <td>4.0</td>\n",
       "      <td>3.0</td>\n",
       "      <td>14.0</td>\n",
       "    </tr>\n",
       "  </tbody>\n",
       "</table>\n",
       "<p>3 rows × 47 columns</p>\n",
       "</div>"
      ],
      "text/plain": [
       "       sample  exists(<start>)  exists(<start>@0)  exists(<function>)  \\\n",
       "0  sqrt(-900)                1                  1                   1   \n",
       "1     sin(24)                1                  1                   1   \n",
       "2  cos(-3.14)                1                  1                   1   \n",
       "\n",
       "   exists(<function>@0)  exists(<function>@1)  exists(<function>@2)  \\\n",
       "0                     1                     0                     0   \n",
       "1                     0                     0                     0   \n",
       "2                     0                     0                     1   \n",
       "\n",
       "   exists(<function>@3)  exists(<term>)  exists(<term>@0)  ...  \\\n",
       "0                     0               1                 1  ...   \n",
       "1                     1               1                 0  ...   \n",
       "2                     0               1                 1  ...   \n",
       "\n",
       "   exists(<digit>@6)  exists(<digit>@7)  exists(<digit>@8)  exists(<digit>@9)  \\\n",
       "0                  0                  0                  0                  0   \n",
       "1                  0                  0                  0                  0   \n",
       "2                  0                  0                  0                  0   \n",
       "\n",
       "   num(<term>)  num(<value>)  num(<lead-digit>)  num(<digit>)  num(<integer>)  \\\n",
       "0      -900.00        900.00                9.0           0.0           900.0   \n",
       "1        24.00         24.00                2.0           4.0            24.0   \n",
       "2        -3.14          3.14                NaN           4.0             3.0   \n",
       "\n",
       "   num(<digits>)  \n",
       "0            0.0  \n",
       "1            4.0  \n",
       "2           14.0  \n",
       "\n",
       "[3 rows x 47 columns]"
      ]
     },
     "execution_count": 38,
     "metadata": {},
     "output_type": "execute_result"
    }
   ],
   "source": [
    "sample_list = [\"sqrt(-900)\", \"sin(24)\", \"cos(-3.14)\"]\n",
    "collect_features(sample_list, CALC_GRAMMAR)"
   ]
  },
  {
   "cell_type": "code",
   "execution_count": 39,
   "metadata": {
    "execution": {
     "iopub.execute_input": "2025-01-16T09:37:13.591098Z",
     "iopub.status.busy": "2025-01-16T09:37:13.590995Z",
     "iopub.status.idle": "2025-01-16T09:37:13.593461Z",
     "shell.execute_reply": "2025-01-16T09:37:13.593165Z"
    },
    "slideshow": {
     "slide_type": "subslide"
    }
   },
   "outputs": [],
   "source": [
    "# TODO: handle multiple trees\n",
    "def compute_feature_values(sample: str, grammar: Grammar, features: List[Feature]) -> Dict[str, float]:\n",
    "    '''\n",
    "        Extracts all feature values from an input.\n",
    "\n",
    "        sample   : The input.\n",
    "        grammar  : The input grammar.\n",
    "        features : The list of input features extracted from the grammar.\n",
    "\n",
    "    '''\n",
    "    earley = EarleyParser(CALC_GRAMMAR)\n",
    "\n",
    "    features = {}\n",
    "    for tree in earley.parse(sample):\n",
    "        for feature in extract_all_features(CALC_GRAMMAR):\n",
    "            features[feature.name_rep()] = feature.get_feature_value(tree)\n",
    "    return features"
   ]
  },
  {
   "cell_type": "code",
   "execution_count": 40,
   "metadata": {
    "execution": {
     "iopub.execute_input": "2025-01-16T09:37:13.594833Z",
     "iopub.status.busy": "2025-01-16T09:37:13.594729Z",
     "iopub.status.idle": "2025-01-16T09:37:13.600777Z",
     "shell.execute_reply": "2025-01-16T09:37:13.600471Z"
    },
    "slideshow": {
     "slide_type": "subslide"
    }
   },
   "outputs": [
    {
     "name": "stdout",
     "output_type": "stream",
     "text": [
      "Features of sqrt(-900):\n",
      "    exists(<start>): 1\n",
      "    exists(<start> == <function>(<term>)): 1\n",
      "    exists(<function>): 1\n",
      "    exists(<function> == sqrt): 1\n",
      "    exists(<function> == tan): 0\n",
      "    exists(<function> == cos): 0\n",
      "    exists(<function> == sin): 0\n",
      "    exists(<term>): 1\n",
      "    exists(<term> == -<value>): 1\n",
      "    exists(<term> == <value>): 0\n",
      "    exists(<value>): 1\n",
      "    exists(<value> == <integer>.<digits>): 0\n",
      "    exists(<value> == <integer>): 1\n",
      "    exists(<integer>): 1\n",
      "    exists(<integer> == <lead-digit><digits>): 1\n",
      "    exists(<integer> == <digit>): 0\n",
      "    exists(<digits>): 1\n",
      "    exists(<digits> == <digit><digits>): 1\n",
      "    exists(<digits> == <digit>): 1\n",
      "    exists(<lead-digit>): 1\n",
      "    exists(<lead-digit> == 1): 0\n",
      "    exists(<lead-digit> == 2): 0\n",
      "    exists(<lead-digit> == 3): 0\n",
      "    exists(<lead-digit> == 4): 0\n",
      "    exists(<lead-digit> == 5): 0\n",
      "    exists(<lead-digit> == 6): 0\n",
      "    exists(<lead-digit> == 7): 0\n",
      "    exists(<lead-digit> == 8): 0\n",
      "    exists(<lead-digit> == 9): 1\n",
      "    exists(<digit>): 1\n",
      "    exists(<digit> == 0): 1\n",
      "    exists(<digit> == 1): 0\n",
      "    exists(<digit> == 2): 0\n",
      "    exists(<digit> == 3): 0\n",
      "    exists(<digit> == 4): 0\n",
      "    exists(<digit> == 5): 0\n",
      "    exists(<digit> == 6): 0\n",
      "    exists(<digit> == 7): 0\n",
      "    exists(<digit> == 8): 0\n",
      "    exists(<digit> == 9): 0\n",
      "    num(<term>): -900.0\n",
      "    num(<value>): 900.0\n",
      "    num(<lead-digit>): 9.0\n",
      "    num(<digit>): 0.0\n",
      "    num(<integer>): 900.0\n",
      "    num(<digits>): 0.0\n",
      "Features of sin(24):\n",
      "    exists(<start>): 1\n",
      "    exists(<start> == <function>(<term>)): 1\n",
      "    exists(<function>): 1\n",
      "    exists(<function> == sqrt): 0\n",
      "    exists(<function> == tan): 0\n",
      "    exists(<function> == cos): 0\n",
      "    exists(<function> == sin): 1\n",
      "    exists(<term>): 1\n",
      "    exists(<term> == -<value>): 0\n",
      "    exists(<term> == <value>): 1\n",
      "    exists(<value>): 1\n",
      "    exists(<value> == <integer>.<digits>): 0\n",
      "    exists(<value> == <integer>): 1\n",
      "    exists(<integer>): 1\n",
      "    exists(<integer> == <lead-digit><digits>): 1\n",
      "    exists(<integer> == <digit>): 0\n",
      "    exists(<digits>): 1\n",
      "    exists(<digits> == <digit><digits>): 0\n",
      "    exists(<digits> == <digit>): 1\n",
      "    exists(<lead-digit>): 1\n",
      "    exists(<lead-digit> == 1): 0\n",
      "    exists(<lead-digit> == 2): 1\n",
      "    exists(<lead-digit> == 3): 0\n",
      "    exists(<lead-digit> == 4): 0\n",
      "    exists(<lead-digit> == 5): 0\n",
      "    exists(<lead-digit> == 6): 0\n",
      "    exists(<lead-digit> == 7): 0\n",
      "    exists(<lead-digit> == 8): 0\n",
      "    exists(<lead-digit> == 9): 0\n",
      "    exists(<digit>): 1\n",
      "    exists(<digit> == 0): 0\n",
      "    exists(<digit> == 1): 0\n",
      "    exists(<digit> == 2): 0\n",
      "    exists(<digit> == 3): 0\n",
      "    exists(<digit> == 4): 1\n",
      "    exists(<digit> == 5): 0\n",
      "    exists(<digit> == 6): 0\n",
      "    exists(<digit> == 7): 0\n",
      "    exists(<digit> == 8): 0\n",
      "    exists(<digit> == 9): 0\n",
      "    num(<term>): 24.0\n",
      "    num(<value>): 24.0\n",
      "    num(<lead-digit>): 2.0\n",
      "    num(<digit>): 4.0\n",
      "    num(<integer>): 24.0\n",
      "    num(<digits>): 4.0\n",
      "Features of cos(-3.14):\n",
      "    exists(<start>): 1\n",
      "    exists(<start> == <function>(<term>)): 1\n",
      "    exists(<function>): 1\n",
      "    exists(<function> == sqrt): 0\n",
      "    exists(<function> == tan): 0\n",
      "    exists(<function> == cos): 1\n",
      "    exists(<function> == sin): 0\n",
      "    exists(<term>): 1\n",
      "    exists(<term> == -<value>): 1\n",
      "    exists(<term> == <value>): 0\n",
      "    exists(<value>): 1\n",
      "    exists(<value> == <integer>.<digits>): 1\n",
      "    exists(<value> == <integer>): 0\n",
      "    exists(<integer>): 1\n",
      "    exists(<integer> == <lead-digit><digits>): 0\n",
      "    exists(<integer> == <digit>): 1\n",
      "    exists(<digits>): 1\n",
      "    exists(<digits> == <digit><digits>): 1\n",
      "    exists(<digits> == <digit>): 1\n",
      "    exists(<lead-digit>): 0\n",
      "    exists(<lead-digit> == 1): 0\n",
      "    exists(<lead-digit> == 2): 0\n",
      "    exists(<lead-digit> == 3): 0\n",
      "    exists(<lead-digit> == 4): 0\n",
      "    exists(<lead-digit> == 5): 0\n",
      "    exists(<lead-digit> == 6): 0\n",
      "    exists(<lead-digit> == 7): 0\n",
      "    exists(<lead-digit> == 8): 0\n",
      "    exists(<lead-digit> == 9): 0\n",
      "    exists(<digit>): 1\n",
      "    exists(<digit> == 0): 0\n",
      "    exists(<digit> == 1): 1\n",
      "    exists(<digit> == 2): 0\n",
      "    exists(<digit> == 3): 1\n",
      "    exists(<digit> == 4): 1\n",
      "    exists(<digit> == 5): 0\n",
      "    exists(<digit> == 6): 0\n",
      "    exists(<digit> == 7): 0\n",
      "    exists(<digit> == 8): 0\n",
      "    exists(<digit> == 9): 0\n",
      "    num(<term>): -3.14\n",
      "    num(<value>): 3.14\n",
      "    num(<lead-digit>): nan\n",
      "    num(<digit>): 4.0\n",
      "    num(<integer>): 3.0\n",
      "    num(<digits>): 14.0\n"
     ]
    }
   ],
   "source": [
    "all_features = extract_all_features(CALC_GRAMMAR)\n",
    "for sample in sample_list:\n",
    "    print(f\"Features of {sample}:\")\n",
    "    features = compute_feature_values(sample, CALC_GRAMMAR, all_features)\n",
    "    for feature, value in features.items():\n",
    "        print(f\"    {feature}: {value}\")"
   ]
  },
  {
   "cell_type": "markdown",
   "metadata": {
    "slideshow": {
     "slide_type": "subslide"
    }
   },
   "source": [
    "### Excursion: Transforming Grammars"
   ]
  },
  {
   "cell_type": "markdown",
   "metadata": {
    "slideshow": {
     "slide_type": "fragment"
    }
   },
   "source": [
    "Alhazen requires grammars to be transformed, such that for each non-terminal symbol in the grammar, the word derived by this symbol in the input is added as an alternative to the symbol (as written in \\cite{Kampmann2020}). Here, we iterate through the derivation tree of the input and add the derived word of each nonterminal as alternatives to the grammar."
   ]
  },
  {
   "cell_type": "code",
   "execution_count": 41,
   "metadata": {
    "execution": {
     "iopub.execute_input": "2025-01-16T09:37:13.602570Z",
     "iopub.status.busy": "2025-01-16T09:37:13.602431Z",
     "iopub.status.idle": "2025-01-16T09:37:13.604130Z",
     "shell.execute_reply": "2025-01-16T09:37:13.603871Z"
    },
    "slideshow": {
     "slide_type": "skip"
    }
   },
   "outputs": [],
   "source": [
    "import random"
   ]
  },
  {
   "cell_type": "code",
   "execution_count": 42,
   "metadata": {
    "execution": {
     "iopub.execute_input": "2025-01-16T09:37:13.605412Z",
     "iopub.status.busy": "2025-01-16T09:37:13.605309Z",
     "iopub.status.idle": "2025-01-16T09:37:14.100936Z",
     "shell.execute_reply": "2025-01-16T09:37:14.100544Z"
    },
    "slideshow": {
     "slide_type": "fragment"
    }
   },
   "outputs": [
    {
     "data": {
      "image/svg+xml": [
       "<?xml version=\"1.0\" encoding=\"UTF-8\" standalone=\"no\"?>\n",
       "<!DOCTYPE svg PUBLIC \"-//W3C//DTD SVG 1.1//EN\"\n",
       " \"http://www.w3.org/Graphics/SVG/1.1/DTD/svg11.dtd\">\n",
       "<!-- Generated by graphviz version 12.2.1 (20241206.2353)\n",
       " -->\n",
       "<!-- Pages: 1 -->\n",
       "<svg width=\"225pt\" height=\"374pt\"\n",
       " viewBox=\"0.00 0.00 225.00 374.00\" xmlns=\"http://www.w3.org/2000/svg\" xmlns:xlink=\"http://www.w3.org/1999/xlink\">\n",
       "<g id=\"graph0\" class=\"graph\" transform=\"scale(1 1) rotate(0) translate(4 370)\">\n",
       "<polygon fill=\"white\" stroke=\"none\" points=\"-4,4 -4,-370 221,-370 221,4 -4,4\"/>\n",
       "<!-- 0 -->\n",
       "<g id=\"node1\" class=\"node\">\n",
       "<title>0</title>\n",
       "<text text-anchor=\"middle\" x=\"132\" y=\"-352.7\" font-family=\"Times,serif\" font-size=\"14.00\">&lt;start&gt;</text>\n",
       "</g>\n",
       "<!-- 1 -->\n",
       "<g id=\"node2\" class=\"node\">\n",
       "<title>1</title>\n",
       "<text text-anchor=\"middle\" x=\"132\" y=\"-302.45\" font-family=\"Times,serif\" font-size=\"14.00\">&lt;expr&gt;</text>\n",
       "</g>\n",
       "<!-- 0&#45;&gt;1 -->\n",
       "<g id=\"edge1\" class=\"edge\">\n",
       "<title>0&#45;&gt;1</title>\n",
       "<path fill=\"none\" stroke=\"black\" d=\"M132,-351.96C132,-345.74 132,-335.65 132,-326.89\"/>\n",
       "<polygon fill=\"black\" stroke=\"black\" points=\"135.5,-327.1 132,-317.1 128.5,-327.1 135.5,-327.1\"/>\n",
       "</g>\n",
       "<!-- 2 -->\n",
       "<g id=\"node3\" class=\"node\">\n",
       "<title>2</title>\n",
       "<text text-anchor=\"middle\" x=\"82\" y=\"-252.2\" font-family=\"Times,serif\" font-size=\"14.00\">&lt;term&gt;</text>\n",
       "</g>\n",
       "<!-- 1&#45;&gt;2 -->\n",
       "<g id=\"edge2\" class=\"edge\">\n",
       "<title>1&#45;&gt;2</title>\n",
       "<path fill=\"none\" stroke=\"black\" d=\"M125.87,-301.71C118.52,-294.62 105.98,-282.51 96.18,-273.06\"/>\n",
       "<polygon fill=\"black\" stroke=\"black\" points=\"98.9,-270.82 89.27,-266.39 94.04,-275.85 98.9,-270.82\"/>\n",
       "</g>\n",
       "<!-- 13 -->\n",
       "<g id=\"node14\" class=\"node\">\n",
       "<title>13</title>\n",
       "<text text-anchor=\"middle\" x=\"132\" y=\"-252.2\" font-family=\"Times,serif\" font-size=\"14.00\"> + </text>\n",
       "</g>\n",
       "<!-- 1&#45;&gt;13 -->\n",
       "<g id=\"edge13\" class=\"edge\">\n",
       "<title>1&#45;&gt;13</title>\n",
       "<path fill=\"none\" stroke=\"black\" d=\"M132,-301.71C132,-295.49 132,-285.4 132,-276.64\"/>\n",
       "<polygon fill=\"black\" stroke=\"black\" points=\"135.5,-276.85 132,-266.85 128.5,-276.85 135.5,-276.85\"/>\n",
       "</g>\n",
       "<!-- 14 -->\n",
       "<g id=\"node15\" class=\"node\">\n",
       "<title>14</title>\n",
       "<text text-anchor=\"middle\" x=\"180\" y=\"-252.2\" font-family=\"Times,serif\" font-size=\"14.00\">&lt;expr&gt;</text>\n",
       "</g>\n",
       "<!-- 1&#45;&gt;14 -->\n",
       "<g id=\"edge14\" class=\"edge\">\n",
       "<title>1&#45;&gt;14</title>\n",
       "<path fill=\"none\" stroke=\"black\" d=\"M137.89,-301.71C144.87,-294.69 156.74,-282.76 166.1,-273.35\"/>\n",
       "<polygon fill=\"black\" stroke=\"black\" points=\"168.43,-275.97 173,-266.41 163.46,-271.03 168.43,-275.97\"/>\n",
       "</g>\n",
       "<!-- 3 -->\n",
       "<g id=\"node4\" class=\"node\">\n",
       "<title>3</title>\n",
       "<text text-anchor=\"middle\" x=\"27\" y=\"-201.95\" font-family=\"Times,serif\" font-size=\"14.00\">&lt;factor&gt;</text>\n",
       "</g>\n",
       "<!-- 2&#45;&gt;3 -->\n",
       "<g id=\"edge3\" class=\"edge\">\n",
       "<title>2&#45;&gt;3</title>\n",
       "<path fill=\"none\" stroke=\"black\" d=\"M75.26,-251.46C67.09,-244.3 53.09,-232.01 42.27,-222.52\"/>\n",
       "<polygon fill=\"black\" stroke=\"black\" points=\"44.76,-220.05 34.94,-216.09 40.15,-225.31 44.76,-220.05\"/>\n",
       "</g>\n",
       "<!-- 7 -->\n",
       "<g id=\"node8\" class=\"node\">\n",
       "<title>7</title>\n",
       "<text text-anchor=\"middle\" x=\"76\" y=\"-201.95\" font-family=\"Times,serif\" font-size=\"14.00\"> * </text>\n",
       "</g>\n",
       "<!-- 2&#45;&gt;7 -->\n",
       "<g id=\"edge7\" class=\"edge\">\n",
       "<title>2&#45;&gt;7</title>\n",
       "<path fill=\"none\" stroke=\"black\" d=\"M81.26,-251.46C80.49,-245.24 79.24,-235.15 78.15,-226.39\"/>\n",
       "<polygon fill=\"black\" stroke=\"black\" points=\"81.64,-226.08 76.93,-216.59 74.69,-226.95 81.64,-226.08\"/>\n",
       "</g>\n",
       "<!-- 8 -->\n",
       "<g id=\"node9\" class=\"node\">\n",
       "<title>8</title>\n",
       "<text text-anchor=\"middle\" x=\"122\" y=\"-201.95\" font-family=\"Times,serif\" font-size=\"14.00\">&lt;term&gt;</text>\n",
       "</g>\n",
       "<!-- 2&#45;&gt;8 -->\n",
       "<g id=\"edge8\" class=\"edge\">\n",
       "<title>2&#45;&gt;8</title>\n",
       "<path fill=\"none\" stroke=\"black\" d=\"M86.9,-251.46C92.6,-244.59 102.21,-233 109.93,-223.68\"/>\n",
       "<polygon fill=\"black\" stroke=\"black\" points=\"112.4,-226.19 116.09,-216.25 107.01,-221.72 112.4,-226.19\"/>\n",
       "</g>\n",
       "<!-- 4 -->\n",
       "<g id=\"node5\" class=\"node\">\n",
       "<title>4</title>\n",
       "<text text-anchor=\"middle\" x=\"27\" y=\"-151.7\" font-family=\"Times,serif\" font-size=\"14.00\">&lt;integer&gt;</text>\n",
       "</g>\n",
       "<!-- 3&#45;&gt;4 -->\n",
       "<g id=\"edge4\" class=\"edge\">\n",
       "<title>3&#45;&gt;4</title>\n",
       "<path fill=\"none\" stroke=\"black\" d=\"M27,-201.21C27,-194.99 27,-184.9 27,-176.14\"/>\n",
       "<polygon fill=\"black\" stroke=\"black\" points=\"30.5,-176.35 27,-166.35 23.5,-176.35 30.5,-176.35\"/>\n",
       "</g>\n",
       "<!-- 5 -->\n",
       "<g id=\"node6\" class=\"node\">\n",
       "<title>5</title>\n",
       "<text text-anchor=\"middle\" x=\"27\" y=\"-101.45\" font-family=\"Times,serif\" font-size=\"14.00\">&lt;digit&gt;</text>\n",
       "</g>\n",
       "<!-- 4&#45;&gt;5 -->\n",
       "<g id=\"edge5\" class=\"edge\">\n",
       "<title>4&#45;&gt;5</title>\n",
       "<path fill=\"none\" stroke=\"black\" d=\"M27,-150.96C27,-144.74 27,-134.65 27,-125.89\"/>\n",
       "<polygon fill=\"black\" stroke=\"black\" points=\"30.5,-126.1 27,-116.1 23.5,-126.1 30.5,-126.1\"/>\n",
       "</g>\n",
       "<!-- 6 -->\n",
       "<g id=\"node7\" class=\"node\">\n",
       "<title>6</title>\n",
       "<text text-anchor=\"middle\" x=\"27\" y=\"-51.2\" font-family=\"Times,serif\" font-size=\"14.00\">6 (54)</text>\n",
       "</g>\n",
       "<!-- 5&#45;&gt;6 -->\n",
       "<g id=\"edge6\" class=\"edge\">\n",
       "<title>5&#45;&gt;6</title>\n",
       "<path fill=\"none\" stroke=\"black\" d=\"M27,-100.71C27,-94.49 27,-84.4 27,-75.64\"/>\n",
       "<polygon fill=\"black\" stroke=\"black\" points=\"30.5,-75.85 27,-65.85 23.5,-75.85 30.5,-75.85\"/>\n",
       "</g>\n",
       "<!-- 9 -->\n",
       "<g id=\"node10\" class=\"node\">\n",
       "<title>9</title>\n",
       "<text text-anchor=\"middle\" x=\"120\" y=\"-151.7\" font-family=\"Times,serif\" font-size=\"14.00\">&lt;factor&gt;</text>\n",
       "</g>\n",
       "<!-- 8&#45;&gt;9 -->\n",
       "<g id=\"edge9\" class=\"edge\">\n",
       "<title>8&#45;&gt;9</title>\n",
       "<path fill=\"none\" stroke=\"black\" d=\"M121.75,-201.21C121.5,-194.99 121.08,-184.9 120.72,-176.14\"/>\n",
       "<polygon fill=\"black\" stroke=\"black\" points=\"124.22,-176.2 120.31,-166.35 117.23,-176.49 124.22,-176.2\"/>\n",
       "</g>\n",
       "<!-- 10 -->\n",
       "<g id=\"node11\" class=\"node\">\n",
       "<title>10</title>\n",
       "<text text-anchor=\"middle\" x=\"118\" y=\"-101.45\" font-family=\"Times,serif\" font-size=\"14.00\">&lt;integer&gt;</text>\n",
       "</g>\n",
       "<!-- 9&#45;&gt;10 -->\n",
       "<g id=\"edge10\" class=\"edge\">\n",
       "<title>9&#45;&gt;10</title>\n",
       "<path fill=\"none\" stroke=\"black\" d=\"M119.75,-150.96C119.5,-144.74 119.08,-134.65 118.72,-125.89\"/>\n",
       "<polygon fill=\"black\" stroke=\"black\" points=\"122.22,-125.95 118.31,-116.1 115.23,-126.24 122.22,-125.95\"/>\n",
       "</g>\n",
       "<!-- 11 -->\n",
       "<g id=\"node12\" class=\"node\">\n",
       "<title>11</title>\n",
       "<text text-anchor=\"middle\" x=\"118\" y=\"-51.2\" font-family=\"Times,serif\" font-size=\"14.00\">&lt;digit&gt;</text>\n",
       "</g>\n",
       "<!-- 10&#45;&gt;11 -->\n",
       "<g id=\"edge11\" class=\"edge\">\n",
       "<title>10&#45;&gt;11</title>\n",
       "<path fill=\"none\" stroke=\"black\" d=\"M118,-100.71C118,-94.49 118,-84.4 118,-75.64\"/>\n",
       "<polygon fill=\"black\" stroke=\"black\" points=\"121.5,-75.85 118,-65.85 114.5,-75.85 121.5,-75.85\"/>\n",
       "</g>\n",
       "<!-- 12 -->\n",
       "<g id=\"node13\" class=\"node\">\n",
       "<title>12</title>\n",
       "<text text-anchor=\"middle\" x=\"118\" y=\"-0.95\" font-family=\"Times,serif\" font-size=\"14.00\">3 (51)</text>\n",
       "</g>\n",
       "<!-- 11&#45;&gt;12 -->\n",
       "<g id=\"edge12\" class=\"edge\">\n",
       "<title>11&#45;&gt;12</title>\n",
       "<path fill=\"none\" stroke=\"black\" d=\"M118,-50.46C118,-44.24 118,-34.15 118,-25.39\"/>\n",
       "<polygon fill=\"black\" stroke=\"black\" points=\"121.5,-25.6 118,-15.6 114.5,-25.6 121.5,-25.6\"/>\n",
       "</g>\n",
       "<!-- 15 -->\n",
       "<g id=\"node16\" class=\"node\">\n",
       "<title>15</title>\n",
       "<text text-anchor=\"middle\" x=\"185\" y=\"-201.95\" font-family=\"Times,serif\" font-size=\"14.00\">&lt;term&gt;</text>\n",
       "</g>\n",
       "<!-- 14&#45;&gt;15 -->\n",
       "<g id=\"edge15\" class=\"edge\">\n",
       "<title>14&#45;&gt;15</title>\n",
       "<path fill=\"none\" stroke=\"black\" d=\"M180.61,-251.46C181.26,-245.24 182.3,-235.15 183.21,-226.39\"/>\n",
       "<polygon fill=\"black\" stroke=\"black\" points=\"186.68,-226.9 184.23,-216.6 179.71,-226.18 186.68,-226.9\"/>\n",
       "</g>\n",
       "<!-- 16 -->\n",
       "<g id=\"node17\" class=\"node\">\n",
       "<title>16</title>\n",
       "<text text-anchor=\"middle\" x=\"187\" y=\"-151.7\" font-family=\"Times,serif\" font-size=\"14.00\">&lt;factor&gt;</text>\n",
       "</g>\n",
       "<!-- 15&#45;&gt;16 -->\n",
       "<g id=\"edge16\" class=\"edge\">\n",
       "<title>15&#45;&gt;16</title>\n",
       "<path fill=\"none\" stroke=\"black\" d=\"M185.25,-201.21C185.5,-194.99 185.92,-184.9 186.28,-176.14\"/>\n",
       "<polygon fill=\"black\" stroke=\"black\" points=\"189.77,-176.49 186.69,-166.35 182.78,-176.2 189.77,-176.49\"/>\n",
       "</g>\n",
       "<!-- 17 -->\n",
       "<g id=\"node18\" class=\"node\">\n",
       "<title>17</title>\n",
       "<text text-anchor=\"middle\" x=\"190\" y=\"-101.45\" font-family=\"Times,serif\" font-size=\"14.00\">&lt;integer&gt;</text>\n",
       "</g>\n",
       "<!-- 16&#45;&gt;17 -->\n",
       "<g id=\"edge17\" class=\"edge\">\n",
       "<title>16&#45;&gt;17</title>\n",
       "<path fill=\"none\" stroke=\"black\" d=\"M187.37,-150.96C187.75,-144.74 188.38,-134.65 188.93,-125.89\"/>\n",
       "<polygon fill=\"black\" stroke=\"black\" points=\"192.41,-126.3 189.54,-116.1 185.42,-125.86 192.41,-126.3\"/>\n",
       "</g>\n",
       "<!-- 18 -->\n",
       "<g id=\"node19\" class=\"node\">\n",
       "<title>18</title>\n",
       "<text text-anchor=\"middle\" x=\"190\" y=\"-51.2\" font-family=\"Times,serif\" font-size=\"14.00\">&lt;digit&gt;</text>\n",
       "</g>\n",
       "<!-- 17&#45;&gt;18 -->\n",
       "<g id=\"edge18\" class=\"edge\">\n",
       "<title>17&#45;&gt;18</title>\n",
       "<path fill=\"none\" stroke=\"black\" d=\"M190,-100.71C190,-94.49 190,-84.4 190,-75.64\"/>\n",
       "<polygon fill=\"black\" stroke=\"black\" points=\"193.5,-75.85 190,-65.85 186.5,-75.85 193.5,-75.85\"/>\n",
       "</g>\n",
       "<!-- 19 -->\n",
       "<g id=\"node20\" class=\"node\">\n",
       "<title>19</title>\n",
       "<text text-anchor=\"middle\" x=\"190\" y=\"-0.95\" font-family=\"Times,serif\" font-size=\"14.00\">9 (57)</text>\n",
       "</g>\n",
       "<!-- 18&#45;&gt;19 -->\n",
       "<g id=\"edge19\" class=\"edge\">\n",
       "<title>18&#45;&gt;19</title>\n",
       "<path fill=\"none\" stroke=\"black\" d=\"M190,-50.46C190,-44.24 190,-34.15 190,-25.39\"/>\n",
       "<polygon fill=\"black\" stroke=\"black\" points=\"193.5,-25.6 190,-15.6 186.5,-25.6 193.5,-25.6\"/>\n",
       "</g>\n",
       "</g>\n",
       "</svg>\n"
      ],
      "text/plain": [
       "<graphviz.graphs.Digraph at 0x10d55a4e0>"
      ]
     },
     "execution_count": 42,
     "metadata": {},
     "output_type": "execute_result"
    }
   ],
   "source": [
    "# For this example, fix the random seed so that the produced output is deterministic\n",
    "random.seed(24)\n",
    "f = GrammarFuzzer(EXPR_GRAMMAR, max_nonterminals=3)\n",
    "test_input = f.fuzz()\n",
    "assert(test_input == tree_to_string(f.derivation_tree))\n",
    "\n",
    "display_tree(f.derivation_tree)"
   ]
  },
  {
   "cell_type": "markdown",
   "metadata": {
    "slideshow": {
     "slide_type": "subslide"
    }
   },
   "source": [
    "Let us write a function `transform_grammar()` that given a sample input and a grammar, transforms it according to Kampmann et al."
   ]
  },
  {
   "cell_type": "markdown",
   "metadata": {
    "slideshow": {
     "slide_type": "fragment"
    }
   },
   "source": [
    "```python\n",
    "\n",
    "def transform_grammar(sample: str,\n",
    "                     grammar: Grammar) -> Grammar\n",
    "\n",
    "```"
   ]
  },
  {
   "cell_type": "markdown",
   "metadata": {
    "slideshow": {
     "slide_type": "fragment"
    }
   },
   "source": [
    "The function requires the following input parameter:\n",
    "- `sample`: an input sample \n",
    "- `grammar`: the grammar that should be transformed/extended"
   ]
  },
  {
   "cell_type": "markdown",
   "metadata": {
    "slideshow": {
     "slide_type": "fragment"
    }
   },
   "source": [
    "The function returns the transformed and extended grammar."
   ]
  },
  {
   "cell_type": "code",
   "execution_count": 43,
   "metadata": {
    "execution": {
     "iopub.execute_input": "2025-01-16T09:37:14.102669Z",
     "iopub.status.busy": "2025-01-16T09:37:14.102546Z",
     "iopub.status.idle": "2025-01-16T09:37:14.105023Z",
     "shell.execute_reply": "2025-01-16T09:37:14.104784Z"
    },
    "slideshow": {
     "slide_type": "subslide"
    }
   },
   "outputs": [],
   "source": [
    "# Recursively iterate through the derivation tree and for each non-terminal,\n",
    "# add the derived word to the grammar\n",
    "\n",
    "def extend_grammar(derivation_tree, grammar):\n",
    "    (node, children) = derivation_tree\n",
    "\n",
    "    if is_nonterminal(node):\n",
    "        assert(node in grammar)\n",
    "        word = tree_to_string(derivation_tree)\n",
    "\n",
    "        # Only add to grammar if not already existent\n",
    "        if word not in grammar[node]:\n",
    "            grammar[node].append(word)\n",
    "\n",
    "    for child in children:\n",
    "        extend_grammar(child, grammar)"
   ]
  },
  {
   "cell_type": "code",
   "execution_count": 44,
   "metadata": {
    "execution": {
     "iopub.execute_input": "2025-01-16T09:37:14.106378Z",
     "iopub.status.busy": "2025-01-16T09:37:14.106274Z",
     "iopub.status.idle": "2025-01-16T09:37:14.107728Z",
     "shell.execute_reply": "2025-01-16T09:37:14.107506Z"
    },
    "slideshow": {
     "slide_type": "skip"
    }
   },
   "outputs": [],
   "source": [
    "import copy"
   ]
  },
  {
   "cell_type": "code",
   "execution_count": 45,
   "metadata": {
    "execution": {
     "iopub.execute_input": "2025-01-16T09:37:14.108967Z",
     "iopub.status.busy": "2025-01-16T09:37:14.108888Z",
     "iopub.status.idle": "2025-01-16T09:37:14.110907Z",
     "shell.execute_reply": "2025-01-16T09:37:14.110624Z"
    },
    "slideshow": {
     "slide_type": "subslide"
    }
   },
   "outputs": [],
   "source": [
    "def transform_grammar(sample: str,\n",
    "                      grammar: Grammar) -> Grammar:\n",
    "    # copy of the grammar\n",
    "    transformed_grammar = copy.deepcopy(grammar)\n",
    "\n",
    "    # parse sample\n",
    "    earley = EarleyParser(grammar)\n",
    "    for derivation_tree in earley.parse(sample):\n",
    "        extend_grammar(derivation_tree, transformed_grammar)\n",
    "\n",
    "    return transformed_grammar"
   ]
  },
  {
   "cell_type": "markdown",
   "metadata": {
    "slideshow": {
     "slide_type": "fragment"
    }
   },
   "source": [
    "Here is an example of a transformed grammar:"
   ]
  },
  {
   "cell_type": "code",
   "execution_count": 46,
   "metadata": {
    "execution": {
     "iopub.execute_input": "2025-01-16T09:37:14.112498Z",
     "iopub.status.busy": "2025-01-16T09:37:14.112394Z",
     "iopub.status.idle": "2025-01-16T09:37:14.115274Z",
     "shell.execute_reply": "2025-01-16T09:37:14.115043Z"
    },
    "slideshow": {
     "slide_type": "subslide"
    }
   },
   "outputs": [
    {
     "name": "stdout",
     "output_type": "stream",
     "text": [
      "<start>    ['<expr>', '1 + 2']\n",
      "<expr>     ['<term> + <expr>', '<term> - <expr>', '<term>', '1 + 2', '2']\n",
      "<term>     ['<factor> * <term>', '<factor> / <term>', '<factor>', '1', '2']\n",
      "<factor>   ['+<factor>', '-<factor>', '(<expr>)', '<integer>.<integer>', '<integer>', '1', '2']\n",
      "<integer>  ['<digit><integer>', '<digit>', '1', '2']\n",
      "<digit>    ['0', '1', '2', '3', '4', '5', '6', '7', '8', '9']\n"
     ]
    }
   ],
   "source": [
    "transformed_grammar = transform_grammar(\"1 + 2\", EXPR_GRAMMAR)\n",
    "for rule in transformed_grammar:\n",
    "    print(rule.ljust(10), transformed_grammar[rule])"
   ]
  },
  {
   "cell_type": "markdown",
   "metadata": {
    "slideshow": {
     "slide_type": "subslide"
    }
   },
   "source": [
    "### End of Excursion"
   ]
  },
  {
   "cell_type": "markdown",
   "metadata": {
    "slideshow": {
     "slide_type": "slide"
    }
   },
   "source": [
    "## Step 2: Train Classification Model\n",
    "\n",
    "Now that we have all the input features and the test outcomes, we can start training a machine learner from these.\n",
    "Although other machine learning models have much higher accuracy, we use _decision trees_ as machine learning models because they are easy to interpret by humans.\n",
    "This is crucial as it will be these very same humans that have to fix the code."
   ]
  },
  {
   "cell_type": "markdown",
   "metadata": {
    "slideshow": {
     "slide_type": "fragment"
    }
   },
   "source": [
    "Before we start with our actual implementation, let us first illustrate how training such a classifier works, again using our calculator as an example."
   ]
  },
  {
   "cell_type": "markdown",
   "metadata": {
    "slideshow": {
     "slide_type": "subslide"
    }
   },
   "source": [
    "### Decision Trees"
   ]
  },
  {
   "cell_type": "markdown",
   "metadata": {
    "slideshow": {
     "slide_type": "fragment"
    }
   },
   "source": [
    "We will use `scikit-learn` as the machine learning library.\n",
    "The `DecisionTreeClassifier` can then learn the syntactical input features that are responsible for the bug-triggering behavior of our Calculator."
   ]
  },
  {
   "cell_type": "code",
   "execution_count": 47,
   "metadata": {
    "execution": {
     "iopub.execute_input": "2025-01-16T09:37:14.116761Z",
     "iopub.status.busy": "2025-01-16T09:37:14.116656Z",
     "iopub.status.idle": "2025-01-16T09:37:14.652323Z",
     "shell.execute_reply": "2025-01-16T09:37:14.651968Z"
    },
    "slideshow": {
     "slide_type": "skip"
    }
   },
   "outputs": [],
   "source": [
    "import sklearn\n",
    "from sklearn.tree import DecisionTreeClassifier\n",
    "from sklearn.feature_extraction import DictVectorizer"
   ]
  },
  {
   "cell_type": "markdown",
   "metadata": {
    "slideshow": {
     "slide_type": "fragment"
    }
   },
   "source": [
    "First, we transform the individual input features (represented as Python dictionaries) into a NumPy array.\n",
    "For this example, we use the following four features (`function-sqrt`, `function-cos`, `function-sin`, `number`) to describe an input feature.\n",
    "(Please note that this is an extremely reduced example; this is not the complete list of features that should be extracted from the `CALC_GRAMMAR` Grammar.)"
   ]
  },
  {
   "cell_type": "markdown",
   "metadata": {
    "slideshow": {
     "slide_type": "subslide"
    }
   },
   "source": [
    "The features `function-sqrt`, `function-cos`, `function-sin` state whether the function _sqrt_, _cos_, or _sin_ was used.\n",
    "A `1` is given if the sample contains the respective function, otherwise the feature contains a `0`."
   ]
  },
  {
   "cell_type": "markdown",
   "metadata": {
    "slideshow": {
     "slide_type": "fragment"
    }
   },
   "source": [
    "For each `<function>(x)`, the `number` feature describes which value was used for `x`. For instance, the first input `sqrt(-900)` corresponds to 'function-sqrt': 1 and 'number': -900."
   ]
  },
  {
   "cell_type": "code",
   "execution_count": 48,
   "metadata": {
    "execution": {
     "iopub.execute_input": "2025-01-16T09:37:14.654852Z",
     "iopub.status.busy": "2025-01-16T09:37:14.654661Z",
     "iopub.status.idle": "2025-01-16T09:37:14.657569Z",
     "shell.execute_reply": "2025-01-16T09:37:14.657266Z"
    },
    "slideshow": {
     "slide_type": "subslide"
    }
   },
   "outputs": [],
   "source": [
    "# Features for each input, one dict per input\n",
    "features = [\n",
    "    {'function-sqrt': 1, 'function-cos': 0, 'function-sin': 0, 'number': -900}, # sqrt(-900)\n",
    "    {'function-sqrt': 0, 'function-cos': 1, 'function-sin': 0, 'number': 300}, # cos(300)\n",
    "    {'function-sqrt': 1, 'function-cos': 0, 'function-sin': 0, 'number': -1}, # sqrt(-1)\n",
    "    {'function-sqrt': 0, 'function-cos': 1, 'function-sin': 0, 'number': -10}, # cos(-10)\n",
    "    {'function-sqrt': 0, 'function-cos': 0, 'function-sin': 1, 'number': 36}, # sin(36)\n",
    "    {'function-sqrt': 0, 'function-cos': 0, 'function-sin': 1, 'number': -58}, # sin(-58)\n",
    "    {'function-sqrt': 1, 'function-cos': 0, 'function-sin': 0, 'number': 27}, # sqrt(27)\n",
    "]"
   ]
  },
  {
   "cell_type": "markdown",
   "metadata": {
    "slideshow": {
     "slide_type": "fragment"
    }
   },
   "source": [
    "We define a list of labels (or oracles) that state whether the specific input file resulted in a bug or not. We use the `OracleResult`-Class to keep everything tidy and clean."
   ]
  },
  {
   "cell_type": "code",
   "execution_count": 49,
   "metadata": {
    "execution": {
     "iopub.execute_input": "2025-01-16T09:37:14.659218Z",
     "iopub.status.busy": "2025-01-16T09:37:14.659097Z",
     "iopub.status.idle": "2025-01-16T09:37:14.663263Z",
     "shell.execute_reply": "2025-01-16T09:37:14.662830Z"
    },
    "slideshow": {
     "slide_type": "subslide"
    }
   },
   "outputs": [],
   "source": [
    "# Labels for each input\n",
    "oracle = [\n",
    "    OracleResult.BUG,\n",
    "    OracleResult.NO_BUG,\n",
    "    OracleResult.BUG,\n",
    "    OracleResult.NO_BUG,\n",
    "    OracleResult.NO_BUG,\n",
    "    OracleResult.NO_BUG,\n",
    "    OracleResult.NO_BUG\n",
    "]\n",
    "\n",
    "# Transform to numpy array\n",
    "vec = DictVectorizer()\n",
    "X = vec.fit_transform(features).toarray()"
   ]
  },
  {
   "cell_type": "markdown",
   "metadata": {
    "slideshow": {
     "slide_type": "subslide"
    }
   },
   "source": [
    "Using the feature array and labels, we can now train a decision tree classifier as follows:"
   ]
  },
  {
   "cell_type": "code",
   "execution_count": 50,
   "metadata": {
    "execution": {
     "iopub.execute_input": "2025-01-16T09:37:14.664932Z",
     "iopub.status.busy": "2025-01-16T09:37:14.664748Z",
     "iopub.status.idle": "2025-01-16T09:37:14.669133Z",
     "shell.execute_reply": "2025-01-16T09:37:14.668842Z"
    },
    "slideshow": {
     "slide_type": "fragment"
    }
   },
   "outputs": [],
   "source": [
    "# Fix the random state to produce a deterministic result (for illustration purposes only)\n",
    "clf = DecisionTreeClassifier(random_state=10)\n",
    "\n",
    "# sci-kit learn requires an array of strings\n",
    "oracle_clean = [str(c) for c in oracle]\n",
    "clf = clf.fit(X, oracle_clean)"
   ]
  },
  {
   "cell_type": "markdown",
   "metadata": {
    "slideshow": {
     "slide_type": "fragment"
    }
   },
   "source": [
    "Let's have a look at the learned decision tree:"
   ]
  },
  {
   "cell_type": "code",
   "execution_count": 51,
   "metadata": {
    "execution": {
     "iopub.execute_input": "2025-01-16T09:37:14.670792Z",
     "iopub.status.busy": "2025-01-16T09:37:14.670672Z",
     "iopub.status.idle": "2025-01-16T09:37:14.672485Z",
     "shell.execute_reply": "2025-01-16T09:37:14.672205Z"
    },
    "slideshow": {
     "slide_type": "skip"
    }
   },
   "outputs": [],
   "source": [
    "import graphviz"
   ]
  },
  {
   "cell_type": "code",
   "execution_count": 52,
   "metadata": {
    "execution": {
     "iopub.execute_input": "2025-01-16T09:37:14.674005Z",
     "iopub.status.busy": "2025-01-16T09:37:14.673913Z",
     "iopub.status.idle": "2025-01-16T09:37:14.675992Z",
     "shell.execute_reply": "2025-01-16T09:37:14.675723Z"
    },
    "slideshow": {
     "slide_type": "fragment"
    }
   },
   "outputs": [],
   "source": [
    "def show_decision_tree(clf, feature_names):\n",
    "    dot_data = sklearn.tree.export_graphviz(clf, out_file=None, \n",
    "                                    feature_names=feature_names,\n",
    "                                    class_names=[\"BUG\", \"NO_BUG\"],  \n",
    "                                    filled=True, rounded=True)  \n",
    "    return graphviz.Source(dot_data)"
   ]
  },
  {
   "cell_type": "code",
   "execution_count": 53,
   "metadata": {
    "execution": {
     "iopub.execute_input": "2025-01-16T09:37:14.677538Z",
     "iopub.status.busy": "2025-01-16T09:37:14.677414Z",
     "iopub.status.idle": "2025-01-16T09:37:15.208727Z",
     "shell.execute_reply": "2025-01-16T09:37:15.208334Z"
    },
    "slideshow": {
     "slide_type": "subslide"
    }
   },
   "outputs": [
    {
     "data": {
      "image/svg+xml": [
       "<?xml version=\"1.0\" encoding=\"UTF-8\" standalone=\"no\"?>\n",
       "<!DOCTYPE svg PUBLIC \"-//W3C//DTD SVG 1.1//EN\"\n",
       " \"http://www.w3.org/Graphics/SVG/1.1/DTD/svg11.dtd\">\n",
       "<!-- Generated by graphviz version 12.2.1 (20241206.2353)\n",
       " -->\n",
       "<!-- Title: Tree Pages: 1 -->\n",
       "<svg width=\"327pt\" height=\"314pt\"\n",
       " viewBox=\"0.00 0.00 327.00 314.00\" xmlns=\"http://www.w3.org/2000/svg\" xmlns:xlink=\"http://www.w3.org/1999/xlink\">\n",
       "<g id=\"graph0\" class=\"graph\" transform=\"scale(1 1) rotate(0) translate(4 310)\">\n",
       "<title>Tree</title>\n",
       "<polygon fill=\"white\" stroke=\"none\" points=\"-4,4 -4,-310 323,-310 323,4 -4,4\"/>\n",
       "<!-- 0 -->\n",
       "<g id=\"node1\" class=\"node\">\n",
       "<title>0</title>\n",
       "<path fill=\"#88c4ef\" stroke=\"black\" d=\"M182,-306C182,-306 73,-306 73,-306 67,-306 61,-300 61,-294 61,-294 61,-235 61,-235 61,-229 67,-223 73,-223 73,-223 182,-223 182,-223 188,-223 194,-229 194,-235 194,-235 194,-294 194,-294 194,-300 188,-306 182,-306\"/>\n",
       "<text text-anchor=\"middle\" x=\"127.5\" y=\"-288.7\" font-family=\"Helvetica,sans-Serif\" font-size=\"14.00\">function&#45;sqrt &lt;= 0.5</text>\n",
       "<text text-anchor=\"middle\" x=\"127.5\" y=\"-273.7\" font-family=\"Helvetica,sans-Serif\" font-size=\"14.00\">gini = 0.408</text>\n",
       "<text text-anchor=\"middle\" x=\"127.5\" y=\"-258.7\" font-family=\"Helvetica,sans-Serif\" font-size=\"14.00\">samples = 7</text>\n",
       "<text text-anchor=\"middle\" x=\"127.5\" y=\"-243.7\" font-family=\"Helvetica,sans-Serif\" font-size=\"14.00\">value = [2, 5]</text>\n",
       "<text text-anchor=\"middle\" x=\"127.5\" y=\"-228.7\" font-family=\"Helvetica,sans-Serif\" font-size=\"14.00\">class = NO_BUG</text>\n",
       "</g>\n",
       "<!-- 1 -->\n",
       "<g id=\"node2\" class=\"node\">\n",
       "<title>1</title>\n",
       "<path fill=\"#399de5\" stroke=\"black\" d=\"M109,-179.5C109,-179.5 12,-179.5 12,-179.5 6,-179.5 0,-173.5 0,-167.5 0,-167.5 0,-123.5 0,-123.5 0,-117.5 6,-111.5 12,-111.5 12,-111.5 109,-111.5 109,-111.5 115,-111.5 121,-117.5 121,-123.5 121,-123.5 121,-167.5 121,-167.5 121,-173.5 115,-179.5 109,-179.5\"/>\n",
       "<text text-anchor=\"middle\" x=\"60.5\" y=\"-162.2\" font-family=\"Helvetica,sans-Serif\" font-size=\"14.00\">gini = 0.0</text>\n",
       "<text text-anchor=\"middle\" x=\"60.5\" y=\"-147.2\" font-family=\"Helvetica,sans-Serif\" font-size=\"14.00\">samples = 4</text>\n",
       "<text text-anchor=\"middle\" x=\"60.5\" y=\"-132.2\" font-family=\"Helvetica,sans-Serif\" font-size=\"14.00\">value = [0, 4]</text>\n",
       "<text text-anchor=\"middle\" x=\"60.5\" y=\"-117.2\" font-family=\"Helvetica,sans-Serif\" font-size=\"14.00\">class = NO_BUG</text>\n",
       "</g>\n",
       "<!-- 0&#45;&gt;1 -->\n",
       "<g id=\"edge1\" class=\"edge\">\n",
       "<title>0&#45;&gt;1</title>\n",
       "<path fill=\"none\" stroke=\"black\" d=\"M104.07,-222.58C98,-211.99 91.46,-200.56 85.33,-189.85\"/>\n",
       "<polygon fill=\"black\" stroke=\"black\" points=\"88.36,-188.11 80.36,-181.17 82.29,-191.59 88.36,-188.11\"/>\n",
       "<text text-anchor=\"middle\" x=\"73.05\" y=\"-198.19\" font-family=\"Helvetica,sans-Serif\" font-size=\"14.00\">True</text>\n",
       "</g>\n",
       "<!-- 2 -->\n",
       "<g id=\"node3\" class=\"node\">\n",
       "<title>2</title>\n",
       "<path fill=\"#f2c09c\" stroke=\"black\" d=\"M239.88,-187C239.88,-187 151.12,-187 151.12,-187 145.12,-187 139.12,-181 139.12,-175 139.12,-175 139.12,-116 139.12,-116 139.12,-110 145.12,-104 151.12,-104 151.12,-104 239.88,-104 239.88,-104 245.88,-104 251.88,-110 251.88,-116 251.88,-116 251.88,-175 251.88,-175 251.88,-181 245.88,-187 239.88,-187\"/>\n",
       "<text text-anchor=\"middle\" x=\"195.5\" y=\"-169.7\" font-family=\"Helvetica,sans-Serif\" font-size=\"14.00\">number &lt;= 13.0</text>\n",
       "<text text-anchor=\"middle\" x=\"195.5\" y=\"-154.7\" font-family=\"Helvetica,sans-Serif\" font-size=\"14.00\">gini = 0.444</text>\n",
       "<text text-anchor=\"middle\" x=\"195.5\" y=\"-139.7\" font-family=\"Helvetica,sans-Serif\" font-size=\"14.00\">samples = 3</text>\n",
       "<text text-anchor=\"middle\" x=\"195.5\" y=\"-124.7\" font-family=\"Helvetica,sans-Serif\" font-size=\"14.00\">value = [2, 1]</text>\n",
       "<text text-anchor=\"middle\" x=\"195.5\" y=\"-109.7\" font-family=\"Helvetica,sans-Serif\" font-size=\"14.00\">class = BUG</text>\n",
       "</g>\n",
       "<!-- 0&#45;&gt;2 -->\n",
       "<g id=\"edge2\" class=\"edge\">\n",
       "<title>0&#45;&gt;2</title>\n",
       "<path fill=\"none\" stroke=\"black\" d=\"M151.28,-222.58C156.07,-214.34 161.16,-205.58 166.12,-197.06\"/>\n",
       "<polygon fill=\"black\" stroke=\"black\" points=\"169.09,-198.91 171.08,-188.51 163.03,-195.4 169.09,-198.91\"/>\n",
       "<text text-anchor=\"middle\" x=\"178.25\" y=\"-205.57\" font-family=\"Helvetica,sans-Serif\" font-size=\"14.00\">False</text>\n",
       "</g>\n",
       "<!-- 3 -->\n",
       "<g id=\"node4\" class=\"node\">\n",
       "<title>3</title>\n",
       "<path fill=\"#e58139\" stroke=\"black\" d=\"M167.5,-68C167.5,-68 97.5,-68 97.5,-68 91.5,-68 85.5,-62 85.5,-56 85.5,-56 85.5,-12 85.5,-12 85.5,-6 91.5,0 97.5,0 97.5,0 167.5,0 167.5,0 173.5,0 179.5,-6 179.5,-12 179.5,-12 179.5,-56 179.5,-56 179.5,-62 173.5,-68 167.5,-68\"/>\n",
       "<text text-anchor=\"middle\" x=\"132.5\" y=\"-50.7\" font-family=\"Helvetica,sans-Serif\" font-size=\"14.00\">gini = 0.0</text>\n",
       "<text text-anchor=\"middle\" x=\"132.5\" y=\"-35.7\" font-family=\"Helvetica,sans-Serif\" font-size=\"14.00\">samples = 2</text>\n",
       "<text text-anchor=\"middle\" x=\"132.5\" y=\"-20.7\" font-family=\"Helvetica,sans-Serif\" font-size=\"14.00\">value = [2, 0]</text>\n",
       "<text text-anchor=\"middle\" x=\"132.5\" y=\"-5.7\" font-family=\"Helvetica,sans-Serif\" font-size=\"14.00\">class = BUG</text>\n",
       "</g>\n",
       "<!-- 2&#45;&gt;3 -->\n",
       "<g id=\"edge3\" class=\"edge\">\n",
       "<title>2&#45;&gt;3</title>\n",
       "<path fill=\"none\" stroke=\"black\" d=\"M172.04,-103.73C167.21,-95.34 162.12,-86.47 157.24,-78.01\"/>\n",
       "<polygon fill=\"black\" stroke=\"black\" points=\"160.43,-76.53 152.41,-69.61 154.37,-80.02 160.43,-76.53\"/>\n",
       "</g>\n",
       "<!-- 4 -->\n",
       "<g id=\"node5\" class=\"node\">\n",
       "<title>4</title>\n",
       "<path fill=\"#399de5\" stroke=\"black\" d=\"M307,-68C307,-68 210,-68 210,-68 204,-68 198,-62 198,-56 198,-56 198,-12 198,-12 198,-6 204,0 210,0 210,0 307,0 307,0 313,0 319,-6 319,-12 319,-12 319,-56 319,-56 319,-62 313,-68 307,-68\"/>\n",
       "<text text-anchor=\"middle\" x=\"258.5\" y=\"-50.7\" font-family=\"Helvetica,sans-Serif\" font-size=\"14.00\">gini = 0.0</text>\n",
       "<text text-anchor=\"middle\" x=\"258.5\" y=\"-35.7\" font-family=\"Helvetica,sans-Serif\" font-size=\"14.00\">samples = 1</text>\n",
       "<text text-anchor=\"middle\" x=\"258.5\" y=\"-20.7\" font-family=\"Helvetica,sans-Serif\" font-size=\"14.00\">value = [0, 1]</text>\n",
       "<text text-anchor=\"middle\" x=\"258.5\" y=\"-5.7\" font-family=\"Helvetica,sans-Serif\" font-size=\"14.00\">class = NO_BUG</text>\n",
       "</g>\n",
       "<!-- 2&#45;&gt;4 -->\n",
       "<g id=\"edge4\" class=\"edge\">\n",
       "<title>2&#45;&gt;4</title>\n",
       "<path fill=\"none\" stroke=\"black\" d=\"M218.96,-103.73C223.79,-95.34 228.88,-86.47 233.76,-78.01\"/>\n",
       "<polygon fill=\"black\" stroke=\"black\" points=\"236.63,-80.02 238.59,-69.61 230.57,-76.53 236.63,-80.02\"/>\n",
       "</g>\n",
       "</g>\n",
       "</svg>\n"
      ],
      "text/plain": [
       "<graphviz.sources.Source at 0x10f732cc0>"
      ]
     },
     "execution_count": 53,
     "metadata": {},
     "output_type": "execute_result"
    }
   ],
   "source": [
    "show_decision_tree(clf, vec.get_feature_names_out())"
   ]
  },
  {
   "cell_type": "markdown",
   "metadata": {
    "slideshow": {
     "slide_type": "fragment"
    }
   },
   "source": [
    "Here is a much reduced textual variant, still retaining the essential features:"
   ]
  },
  {
   "cell_type": "code",
   "execution_count": 54,
   "metadata": {
    "execution": {
     "iopub.execute_input": "2025-01-16T09:37:15.210606Z",
     "iopub.status.busy": "2025-01-16T09:37:15.210397Z",
     "iopub.status.idle": "2025-01-16T09:37:15.212591Z",
     "shell.execute_reply": "2025-01-16T09:37:15.212294Z"
    },
    "slideshow": {
     "slide_type": "skip"
    }
   },
   "outputs": [],
   "source": [
    "import math"
   ]
  },
  {
   "cell_type": "code",
   "execution_count": 55,
   "metadata": {
    "execution": {
     "iopub.execute_input": "2025-01-16T09:37:15.214114Z",
     "iopub.status.busy": "2025-01-16T09:37:15.214001Z",
     "iopub.status.idle": "2025-01-16T09:37:15.217785Z",
     "shell.execute_reply": "2025-01-16T09:37:15.217302Z"
    },
    "slideshow": {
     "slide_type": "subslide"
    }
   },
   "outputs": [],
   "source": [
    "def friendly_decision_tree(clf, feature_names,\n",
    "                           class_names = ['NO_BUG', 'BUG'],\n",
    "                           indent=0):\n",
    "    def _tree(index, indent):\n",
    "        s = \"\"\n",
    "        feature = clf.tree_.feature[index]\n",
    "        feature_name = feature_names[feature]\n",
    "        threshold = clf.tree_.threshold[index]\n",
    "        value = clf.tree_.value[index]\n",
    "        class_ = int(value[0][0])\n",
    "        class_name = class_names[class_]\n",
    "        left = clf.tree_.children_left[index]\n",
    "        right = clf.tree_.children_right[index]\n",
    "        if left == right:\n",
    "            # Leaf node\n",
    "            s += \" \" * indent + class_name + \"\\n\"\n",
    "        else:\n",
    "            if math.isclose(threshold, 0.5):\n",
    "                s += \" \" * indent + f\"if {feature_name}:\\n\"\n",
    "                s += _tree(right, indent + 2)\n",
    "                s += \" \" * indent + f\"else:\\n\"\n",
    "                s += _tree(left, indent + 2)\n",
    "            else:\n",
    "                s += \" \" * indent + f\"if {feature_name} <= {threshold:.4f}:\\n\"\n",
    "                s += _tree(left, indent + 2)\n",
    "                s += \" \" * indent + f\"else:\\n\"\n",
    "                s += _tree(right, indent + 2)\n",
    "        return s\n",
    "\n",
    "    ROOT_INDEX = 0\n",
    "    return _tree(ROOT_INDEX, indent)"
   ]
  },
  {
   "cell_type": "code",
   "execution_count": 56,
   "metadata": {
    "execution": {
     "iopub.execute_input": "2025-01-16T09:37:15.219487Z",
     "iopub.status.busy": "2025-01-16T09:37:15.219352Z",
     "iopub.status.idle": "2025-01-16T09:37:15.221804Z",
     "shell.execute_reply": "2025-01-16T09:37:15.221466Z"
    },
    "slideshow": {
     "slide_type": "subslide"
    }
   },
   "outputs": [
    {
     "name": "stdout",
     "output_type": "stream",
     "text": [
      "if function-sqrt:\n",
      "  if number <= 13.0000:\n",
      "    BUG\n",
      "  else:\n",
      "    NO_BUG\n",
      "else:\n",
      "  NO_BUG\n",
      "\n"
     ]
    }
   ],
   "source": [
    "print(friendly_decision_tree(clf, vec.get_feature_names_out()))"
   ]
  },
  {
   "cell_type": "markdown",
   "metadata": {
    "slideshow": {
     "slide_type": "fragment"
    }
   },
   "source": [
    "We can see that our initial hypothesis is that the feature `function-sqrt` must be greater than 0.5 (i.e., present) and the feature `number` must be less or equal than 13 in order to produce a bug. The decision rule is not yet perfect, thus we need to refine our decision tree!"
   ]
  },
  {
   "cell_type": "markdown",
   "metadata": {
    "slideshow": {
     "slide_type": "subslide"
    }
   },
   "source": [
    "### Learning a Decision Tree"
   ]
  },
  {
   "cell_type": "markdown",
   "metadata": {
    "slideshow": {
     "slide_type": "fragment"
    }
   },
   "source": [
    "For _Alhazen's_ second step (Train Classification Model), we write a function `train_tree(data)` that trains a decision tree on a given data frame:"
   ]
  },
  {
   "cell_type": "markdown",
   "metadata": {
    "slideshow": {
     "slide_type": "fragment"
    }
   },
   "source": [
    "```python\n",
    "\n",
    "def train_tree(data: pandas.core.frame.DataFrame) -> sklearn.tree._classes.DecisionTreeClassifier\n",
    "\n",
    "```"
   ]
  },
  {
   "cell_type": "markdown",
   "metadata": {
    "slideshow": {
     "slide_type": "subslide"
    }
   },
   "source": [
    "The function requires the following parameter:\n",
    "\n",
    "- data: a `pandas` data frame containing the parsed and extracted features and the outcome of the executed input sample (oracle).\n",
    "\n",
    "For instance, the data frame may look similar to this:"
   ]
  },
  {
   "cell_type": "markdown",
   "metadata": {
    "slideshow": {
     "slide_type": "fragment"
    }
   },
   "source": [
    "| feature_1     | feature_2     | ...    |oracle|\n",
    "| ------------- |-------------|-------------|-----|\n",
    "| 1     | 0 | ...| 'BUG' |\n",
    "| 0     | 1 | ...| 'NO_BUG' |"
   ]
  },
  {
   "cell_type": "markdown",
   "metadata": {
    "slideshow": {
     "slide_type": "subslide"
    }
   },
   "source": [
    "**Note:** Each row of `data['oracle']` is of type `OracleResult`.\n",
    "However, sci-kit learn requires an array of strings.\n",
    "We have to convert them to learn the decision tree."
   ]
  },
  {
   "cell_type": "markdown",
   "metadata": {
    "slideshow": {
     "slide_type": "subslide"
    }
   },
   "source": [
    "**OUTPUT**: the function returns a learned decision tree of type `_sklearn.tree._classes.DecisionTreeClassifier_`."
   ]
  },
  {
   "cell_type": "code",
   "execution_count": 57,
   "metadata": {
    "execution": {
     "iopub.execute_input": "2025-01-16T09:37:15.223624Z",
     "iopub.status.busy": "2025-01-16T09:37:15.223466Z",
     "iopub.status.idle": "2025-01-16T09:37:15.226241Z",
     "shell.execute_reply": "2025-01-16T09:37:15.225778Z"
    },
    "slideshow": {
     "slide_type": "subslide"
    }
   },
   "outputs": [],
   "source": [
    "def train_tree(data):\n",
    "    sample_bug_count = len(data[(data[\"oracle\"].astype(str) == \"BUG\")])\n",
    "    assert sample_bug_count > 0, \"No bug samples found\"\n",
    "    sample_count = len(data)\n",
    "\n",
    "    clf = DecisionTreeClassifier(min_samples_leaf=1,\n",
    "                                     min_samples_split=2,  # minimal value\n",
    "                                     max_features=None,\n",
    "                                     max_depth=5, # max depth of the decision tree\n",
    "                                     class_weight={str(\"BUG\"): (1.0/sample_bug_count),\n",
    "                                                   str(\"NO_BUG\"):\n",
    "                                                       (1.0/(sample_count - sample_bug_count))})\n",
    "    clf = clf.fit(data.drop('oracle', axis=1), data['oracle'].astype(str))\n",
    "    # MARTIN: This is optional, but is a nice extesion that results in nicer decision trees\n",
    "    # clf = treetools.remove_infeasible(clf, features)\n",
    "    return clf"
   ]
  },
  {
   "cell_type": "markdown",
   "metadata": {
    "slideshow": {
     "slide_type": "slide"
    }
   },
   "source": [
    "## Step 3: Extract Feature Requirements"
   ]
  },
  {
   "cell_type": "markdown",
   "metadata": {
    "slideshow": {
     "slide_type": "fragment"
    }
   },
   "source": [
    "In this section, we will extract the learned features from the decision tree.\n",
    "Again, let us first test this manually on our calculator example."
   ]
  },
  {
   "cell_type": "code",
   "execution_count": 58,
   "metadata": {
    "execution": {
     "iopub.execute_input": "2025-01-16T09:37:15.228070Z",
     "iopub.status.busy": "2025-01-16T09:37:15.227937Z",
     "iopub.status.idle": "2025-01-16T09:37:15.233909Z",
     "shell.execute_reply": "2025-01-16T09:37:15.233602Z"
    },
    "slideshow": {
     "slide_type": "subslide"
    }
   },
   "outputs": [],
   "source": [
    "# Features for each input, one dict per input\n",
    "features = [\n",
    "    {'function-sqrt': 1, 'function-cos': 0, 'function-sin': 0, 'number': -900},\n",
    "    {'function-sqrt': 0, 'function-cos': 1, 'function-sin': 0, 'number': 300},\n",
    "    {'function-sqrt': 1, 'function-cos': 0, 'function-sin': 0, 'number': -1},\n",
    "    {'function-sqrt': 0, 'function-cos': 1, 'function-sin': 0, 'number': -10},\n",
    "    {'function-sqrt': 0, 'function-cos': 0, 'function-sin': 1, 'number': 36},\n",
    "    {'function-sqrt': 0, 'function-cos': 0, 'function-sin': 1, 'number': -58},\n",
    "    {'function-sqrt': 1, 'function-cos': 0, 'function-sin': 0, 'number': 27},\n",
    "]\n",
    "\n",
    "# Labels for each input\n",
    "oracle = [\n",
    "    \"BUG\",\n",
    "    \"NO_BUG\",\n",
    "    \"BUG\",\n",
    "    \"NO_BUG\",\n",
    "    \"NO_BUG\",\n",
    "    \"NO_BUG\",\n",
    "    \"NO_BUG\"\n",
    "]\n",
    "\n",
    "# We can use the sklearn DictVectorizer to transform the features to numpy array:\n",
    "# Notice: Use the correct labeling of the feature_names\n",
    "\n",
    "# vec = DictVectorizer()\n",
    "# X_vec = vec.fit_transform(features).toarray()\n",
    "# feature_names = vec.get_feature_names_out()\n",
    "\n",
    "# We can also use a pandas DataFrame and directly parse it to the decision tree learner\n",
    "feature_names = ['function-sqrt', 'function-cos', 'function-sin', 'number']\n",
    "X_data = pandas.DataFrame.from_records(features)\n",
    "\n",
    "# Fix the random state to produce a deterministic result (for illustration purposes only)\n",
    "clf = DecisionTreeClassifier(random_state=10)\n",
    "\n",
    "# Train with DictVectorizer\n",
    "# **Note:** The sklearn `DictVectorizer` uses an internal sort function as default. This will result in different feature_name indices. If you want to use the `Dictvectorizer` please ensure that you only access the feature_names with the function `vec.get_feature_names_out()`.\n",
    "# We recommend that you use the `pandas` data frame, since this is also the format used in the feedback loop.\n",
    "# clf = clf.fit(X_vec, oracle)\n",
    "\n",
    "# Train with Pandas Dataframe\n",
    "clf = clf.fit(X_data, oracle)\n",
    "\n",
    "dot_data = sklearn.tree.export_graphviz(clf, out_file=None,\n",
    "                                feature_names=feature_names,\n",
    "                                class_names=[\"BUG\", \"NO BUG\"],\n",
    "                                filled=True, rounded=True)\n",
    "graph = graphviz.Source(dot_data)"
   ]
  },
  {
   "cell_type": "code",
   "execution_count": 59,
   "metadata": {
    "execution": {
     "iopub.execute_input": "2025-01-16T09:37:15.235346Z",
     "iopub.status.busy": "2025-01-16T09:37:15.235229Z",
     "iopub.status.idle": "2025-01-16T09:37:15.633538Z",
     "shell.execute_reply": "2025-01-16T09:37:15.633151Z"
    },
    "slideshow": {
     "slide_type": "subslide"
    }
   },
   "outputs": [
    {
     "data": {
      "image/svg+xml": [
       "<?xml version=\"1.0\" encoding=\"UTF-8\" standalone=\"no\"?>\n",
       "<!DOCTYPE svg PUBLIC \"-//W3C//DTD SVG 1.1//EN\"\n",
       " \"http://www.w3.org/Graphics/SVG/1.1/DTD/svg11.dtd\">\n",
       "<!-- Generated by graphviz version 12.2.1 (20241206.2353)\n",
       " -->\n",
       "<!-- Title: Tree Pages: 1 -->\n",
       "<svg width=\"320pt\" height=\"314pt\"\n",
       " viewBox=\"0.00 0.00 320.25 314.00\" xmlns=\"http://www.w3.org/2000/svg\" xmlns:xlink=\"http://www.w3.org/1999/xlink\">\n",
       "<g id=\"graph0\" class=\"graph\" transform=\"scale(1 1) rotate(0) translate(4 310)\">\n",
       "<title>Tree</title>\n",
       "<polygon fill=\"white\" stroke=\"none\" points=\"-4,4 -4,-310 316.25,-310 316.25,4 -4,4\"/>\n",
       "<!-- 0 -->\n",
       "<g id=\"node1\" class=\"node\">\n",
       "<title>0</title>\n",
       "<path fill=\"#88c4ef\" stroke=\"black\" d=\"M179.12,-306C179.12,-306 70.12,-306 70.12,-306 64.12,-306 58.12,-300 58.12,-294 58.12,-294 58.12,-235 58.12,-235 58.12,-229 64.12,-223 70.12,-223 70.12,-223 179.12,-223 179.12,-223 185.12,-223 191.12,-229 191.12,-235 191.12,-235 191.12,-294 191.12,-294 191.12,-300 185.12,-306 179.12,-306\"/>\n",
       "<text text-anchor=\"middle\" x=\"124.62\" y=\"-288.7\" font-family=\"Helvetica,sans-Serif\" font-size=\"14.00\">function&#45;sqrt &lt;= 0.5</text>\n",
       "<text text-anchor=\"middle\" x=\"124.62\" y=\"-273.7\" font-family=\"Helvetica,sans-Serif\" font-size=\"14.00\">gini = 0.408</text>\n",
       "<text text-anchor=\"middle\" x=\"124.62\" y=\"-258.7\" font-family=\"Helvetica,sans-Serif\" font-size=\"14.00\">samples = 7</text>\n",
       "<text text-anchor=\"middle\" x=\"124.62\" y=\"-243.7\" font-family=\"Helvetica,sans-Serif\" font-size=\"14.00\">value = [2, 5]</text>\n",
       "<text text-anchor=\"middle\" x=\"124.62\" y=\"-228.7\" font-family=\"Helvetica,sans-Serif\" font-size=\"14.00\">class = NO BUG</text>\n",
       "</g>\n",
       "<!-- 1 -->\n",
       "<g id=\"node2\" class=\"node\">\n",
       "<title>1</title>\n",
       "<path fill=\"#399de5\" stroke=\"black\" d=\"M105.25,-179.5C105.25,-179.5 12,-179.5 12,-179.5 6,-179.5 0,-173.5 0,-167.5 0,-167.5 0,-123.5 0,-123.5 0,-117.5 6,-111.5 12,-111.5 12,-111.5 105.25,-111.5 105.25,-111.5 111.25,-111.5 117.25,-117.5 117.25,-123.5 117.25,-123.5 117.25,-167.5 117.25,-167.5 117.25,-173.5 111.25,-179.5 105.25,-179.5\"/>\n",
       "<text text-anchor=\"middle\" x=\"58.62\" y=\"-162.2\" font-family=\"Helvetica,sans-Serif\" font-size=\"14.00\">gini = 0.0</text>\n",
       "<text text-anchor=\"middle\" x=\"58.62\" y=\"-147.2\" font-family=\"Helvetica,sans-Serif\" font-size=\"14.00\">samples = 4</text>\n",
       "<text text-anchor=\"middle\" x=\"58.62\" y=\"-132.2\" font-family=\"Helvetica,sans-Serif\" font-size=\"14.00\">value = [0, 4]</text>\n",
       "<text text-anchor=\"middle\" x=\"58.62\" y=\"-117.2\" font-family=\"Helvetica,sans-Serif\" font-size=\"14.00\">class = NO BUG</text>\n",
       "</g>\n",
       "<!-- 0&#45;&gt;1 -->\n",
       "<g id=\"edge1\" class=\"edge\">\n",
       "<title>0&#45;&gt;1</title>\n",
       "<path fill=\"none\" stroke=\"black\" d=\"M101.54,-222.58C95.57,-211.99 89.12,-200.56 83.08,-189.85\"/>\n",
       "<polygon fill=\"black\" stroke=\"black\" points=\"86.15,-188.17 78.19,-181.18 80.05,-191.61 86.15,-188.17\"/>\n",
       "<text text-anchor=\"middle\" x=\"70.73\" y=\"-198.14\" font-family=\"Helvetica,sans-Serif\" font-size=\"14.00\">True</text>\n",
       "</g>\n",
       "<!-- 2 -->\n",
       "<g id=\"node3\" class=\"node\">\n",
       "<title>2</title>\n",
       "<path fill=\"#f2c09c\" stroke=\"black\" d=\"M236,-187C236,-187 147.25,-187 147.25,-187 141.25,-187 135.25,-181 135.25,-175 135.25,-175 135.25,-116 135.25,-116 135.25,-110 141.25,-104 147.25,-104 147.25,-104 236,-104 236,-104 242,-104 248,-110 248,-116 248,-116 248,-175 248,-175 248,-181 242,-187 236,-187\"/>\n",
       "<text text-anchor=\"middle\" x=\"191.62\" y=\"-169.7\" font-family=\"Helvetica,sans-Serif\" font-size=\"14.00\">number &lt;= 13.0</text>\n",
       "<text text-anchor=\"middle\" x=\"191.62\" y=\"-154.7\" font-family=\"Helvetica,sans-Serif\" font-size=\"14.00\">gini = 0.444</text>\n",
       "<text text-anchor=\"middle\" x=\"191.62\" y=\"-139.7\" font-family=\"Helvetica,sans-Serif\" font-size=\"14.00\">samples = 3</text>\n",
       "<text text-anchor=\"middle\" x=\"191.62\" y=\"-124.7\" font-family=\"Helvetica,sans-Serif\" font-size=\"14.00\">value = [2, 1]</text>\n",
       "<text text-anchor=\"middle\" x=\"191.62\" y=\"-109.7\" font-family=\"Helvetica,sans-Serif\" font-size=\"14.00\">class = BUG</text>\n",
       "</g>\n",
       "<!-- 0&#45;&gt;2 -->\n",
       "<g id=\"edge2\" class=\"edge\">\n",
       "<title>0&#45;&gt;2</title>\n",
       "<path fill=\"none\" stroke=\"black\" d=\"M148.06,-222.58C152.78,-214.34 157.79,-205.58 162.67,-197.06\"/>\n",
       "<polygon fill=\"black\" stroke=\"black\" points=\"165.63,-198.93 167.57,-188.51 159.56,-195.45 165.63,-198.93\"/>\n",
       "<text text-anchor=\"middle\" x=\"174.87\" y=\"-205.53\" font-family=\"Helvetica,sans-Serif\" font-size=\"14.00\">False</text>\n",
       "</g>\n",
       "<!-- 3 -->\n",
       "<g id=\"node4\" class=\"node\">\n",
       "<title>3</title>\n",
       "<path fill=\"#e58139\" stroke=\"black\" d=\"M164.62,-68C164.62,-68 94.62,-68 94.62,-68 88.62,-68 82.62,-62 82.62,-56 82.62,-56 82.62,-12 82.62,-12 82.62,-6 88.62,0 94.62,0 94.62,0 164.62,0 164.62,0 170.62,0 176.62,-6 176.62,-12 176.62,-12 176.62,-56 176.62,-56 176.62,-62 170.62,-68 164.62,-68\"/>\n",
       "<text text-anchor=\"middle\" x=\"129.62\" y=\"-50.7\" font-family=\"Helvetica,sans-Serif\" font-size=\"14.00\">gini = 0.0</text>\n",
       "<text text-anchor=\"middle\" x=\"129.62\" y=\"-35.7\" font-family=\"Helvetica,sans-Serif\" font-size=\"14.00\">samples = 2</text>\n",
       "<text text-anchor=\"middle\" x=\"129.62\" y=\"-20.7\" font-family=\"Helvetica,sans-Serif\" font-size=\"14.00\">value = [2, 0]</text>\n",
       "<text text-anchor=\"middle\" x=\"129.62\" y=\"-5.7\" font-family=\"Helvetica,sans-Serif\" font-size=\"14.00\">class = BUG</text>\n",
       "</g>\n",
       "<!-- 2&#45;&gt;3 -->\n",
       "<g id=\"edge3\" class=\"edge\">\n",
       "<title>2&#45;&gt;3</title>\n",
       "<path fill=\"none\" stroke=\"black\" d=\"M168.54,-103.73C163.84,-95.43 158.88,-86.67 154.13,-78.28\"/>\n",
       "<polygon fill=\"black\" stroke=\"black\" points=\"157.2,-76.59 149.23,-69.62 151.11,-80.04 157.2,-76.59\"/>\n",
       "</g>\n",
       "<!-- 4 -->\n",
       "<g id=\"node5\" class=\"node\">\n",
       "<title>4</title>\n",
       "<path fill=\"#399de5\" stroke=\"black\" d=\"M300.25,-68C300.25,-68 207,-68 207,-68 201,-68 195,-62 195,-56 195,-56 195,-12 195,-12 195,-6 201,0 207,0 207,0 300.25,0 300.25,0 306.25,0 312.25,-6 312.25,-12 312.25,-12 312.25,-56 312.25,-56 312.25,-62 306.25,-68 300.25,-68\"/>\n",
       "<text text-anchor=\"middle\" x=\"253.62\" y=\"-50.7\" font-family=\"Helvetica,sans-Serif\" font-size=\"14.00\">gini = 0.0</text>\n",
       "<text text-anchor=\"middle\" x=\"253.62\" y=\"-35.7\" font-family=\"Helvetica,sans-Serif\" font-size=\"14.00\">samples = 1</text>\n",
       "<text text-anchor=\"middle\" x=\"253.62\" y=\"-20.7\" font-family=\"Helvetica,sans-Serif\" font-size=\"14.00\">value = [0, 1]</text>\n",
       "<text text-anchor=\"middle\" x=\"253.62\" y=\"-5.7\" font-family=\"Helvetica,sans-Serif\" font-size=\"14.00\">class = NO BUG</text>\n",
       "</g>\n",
       "<!-- 2&#45;&gt;4 -->\n",
       "<g id=\"edge4\" class=\"edge\">\n",
       "<title>2&#45;&gt;4</title>\n",
       "<path fill=\"none\" stroke=\"black\" d=\"M214.71,-103.73C219.41,-95.43 224.37,-86.67 229.12,-78.28\"/>\n",
       "<polygon fill=\"black\" stroke=\"black\" points=\"232.14,-80.04 234.02,-69.62 226.05,-76.59 232.14,-80.04\"/>\n",
       "</g>\n",
       "</g>\n",
       "</svg>\n"
      ],
      "text/plain": [
       "<graphviz.sources.Source at 0x10e6c63f0>"
      ]
     },
     "execution_count": 59,
     "metadata": {},
     "output_type": "execute_result"
    }
   ],
   "source": [
    "graph"
   ]
  },
  {
   "cell_type": "code",
   "execution_count": 60,
   "metadata": {
    "execution": {
     "iopub.execute_input": "2025-01-16T09:37:15.635414Z",
     "iopub.status.busy": "2025-01-16T09:37:15.635186Z",
     "iopub.status.idle": "2025-01-16T09:37:15.637522Z",
     "shell.execute_reply": "2025-01-16T09:37:15.637281Z"
    },
    "slideshow": {
     "slide_type": "fragment"
    }
   },
   "outputs": [
    {
     "name": "stdout",
     "output_type": "stream",
     "text": [
      "if function-sqrt:\n",
      "  if number <= 13.0000:\n",
      "    BUG\n",
      "  else:\n",
      "    NO_BUG\n",
      "else:\n",
      "  NO_BUG\n",
      "\n"
     ]
    }
   ],
   "source": [
    "print(friendly_decision_tree(clf, feature_names, class_names = ['NO_BUG', 'BUG']))"
   ]
  },
  {
   "cell_type": "markdown",
   "metadata": {
    "slideshow": {
     "slide_type": "subslide"
    }
   },
   "source": [
    "### Excursion: Tree helper functions"
   ]
  },
  {
   "cell_type": "markdown",
   "metadata": {
    "slideshow": {
     "slide_type": "fragment"
    }
   },
   "source": [
    "We bundle several functions that are helpful when working with decision trees."
   ]
  },
  {
   "cell_type": "code",
   "execution_count": 61,
   "metadata": {
    "execution": {
     "iopub.execute_input": "2025-01-16T09:37:15.639045Z",
     "iopub.status.busy": "2025-01-16T09:37:15.638896Z",
     "iopub.status.idle": "2025-01-16T09:37:15.651516Z",
     "shell.execute_reply": "2025-01-16T09:37:15.651176Z"
    },
    "slideshow": {
     "slide_type": "subslide"
    }
   },
   "outputs": [],
   "source": [
    "def all_path(clf, node=0):\n",
    "    \"\"\"Iterate over all path in a decision tree. Path will be represented as\n",
    "    a list of integers, each integer is the index of a node in the clf.tree_ structure.\"\"\"\n",
    "    left = clf.tree_.children_left[node]\n",
    "    right = clf.tree_.children_right[node]\n",
    "\n",
    "    if left == right:\n",
    "        yield [node]\n",
    "    else:\n",
    "        for path in all_path(clf, left):\n",
    "            yield [node] + path\n",
    "        for path in all_path(clf, right):\n",
    "            yield [node] + path\n",
    "\n",
    "\n",
    "def path_samples(clf, path):\n",
    "    \"\"\"Returns the number of samples for this path. \"\"\"\n",
    "    return clf.tree_.n_node_samples[path[-1]]\n",
    "\n",
    "\n",
    "def generic_feature_names(clf):\n",
    "    \"\"\"Gives a list of feature names of the form f1, f2, ...\"\"\"\n",
    "    return [\"f{}\".format(f) for f in range(0, clf.tree_.n_features)]\n",
    "\n",
    "\n",
    "def box(clf, path, data=None, feature_names=None):\n",
    "    \"\"\"For a decision tree classifier clf and a path path (as returned, e.g. by all_path),\n",
    "    this method gives a pandas DataFrame with the min and max of each feature value on the given path.\"\"\"\n",
    "\n",
    "    if feature_names is None:\n",
    "        feature_names = generic_feature_names(clf)\n",
    "    check_for_duplicates(feature_names)\n",
    "    if data is None:\n",
    "        bounds = pandas.DataFrame([{'feature': c, 'min': -numpy.inf, 'max': numpy.inf} for c in feature_names],\n",
    "                                  columns=['feature', 'min', 'max']).set_index(['feature']).transpose()\n",
    "    else:\n",
    "        bounds = pandas.DataFrame([{'feature': c, 'min': data[c].min(), 'max': data[c].max()} for c in feature_names],\n",
    "                                  columns=['feature', 'min', 'max']).set_index(['feature']).transpose()\n",
    "\n",
    "    for pos in range(0, len(path) - 1):\n",
    "        node = path[pos]\n",
    "        child = path[pos + 1]\n",
    "        feature = feature_names[clf.tree_.feature[node]]\n",
    "        threshold = clf.tree_.threshold[node]\n",
    "\n",
    "        if child == clf.tree_.children_left[node]:\n",
    "            bounds.at['max', feature] = threshold\n",
    "        else:\n",
    "            bounds.at['min', feature] = threshold\n",
    "    return bounds\n",
    "\n",
    "\n",
    "def rectangles(clf, colormap, data, feature_names=None):\n",
    "    \"\"\"yields matplotlib.patches rectangle objects. Each object represents a leaf of the tree.\"\"\"\n",
    "    if feature_names is None:\n",
    "        feature_names = ['in_x', 'in_y']\n",
    "    if 2 != len(feature_names):\n",
    "        raise AssertionError(\"Rectangles can only be generated if there are at most 2 features.\")\n",
    "\n",
    "    x_feature = feature_names[0]\n",
    "    y_feature = feature_names[1]\n",
    "\n",
    "    for path in all_path(clf):\n",
    "        b = box(clf, path, data=data, feature_names=feature_names)\n",
    "        p = prediction_for_path(clf, path)\n",
    "        c = colormap[p]\n",
    "        rect = matplotlib.patches.Rectangle((b[x_feature]['min'], \n",
    "                                             b[y_feature]['min']),\n",
    "                             # coordinates\n",
    "                             b[x_feature]['max'] - b[x_feature]['min'],  # width\n",
    "                             b[y_feature]['max'] - b[y_feature]['min'],  # height\n",
    "                             alpha=.2, facecolor=c, edgecolor='k')\n",
    "        yield rect\n",
    "\n",
    "\n",
    "def prediction_for_path(clf, path) -> OracleResult:\n",
    "    last_value = clf.tree_.value[path[-1]][0]\n",
    "    p_class = numpy.argmax(last_value)\n",
    "    return OracleResult(clf.classes_[p_class])\n",
    "\n",
    "\n",
    "def rule(clf, path, feature_names, class_names=None):\n",
    "    \"\"\"Creates a rule from one path in the decision tree.\"\"\"\n",
    "    bounds = box(clf, path, feature_names=feature_names)\n",
    "    prediction = prediction_for_path(clf, path)\n",
    "    if class_names is not None:\n",
    "        prediction = class_names[prediction]\n",
    "\n",
    "    feature_rules = []\n",
    "    for fname in feature_names:\n",
    "        min_ = bounds[fname]['min']\n",
    "        max_ = bounds[fname]['max']\n",
    "\n",
    "        if numpy.isinf(min_) and numpy.isinf(max_):\n",
    "            pass  # no rule if both are unbound\n",
    "        elif numpy.isinf(min_):\n",
    "            feature_rules.append(\"{} <= {:.4f}\".format(fname, max_))\n",
    "        elif numpy.isinf(max_):\n",
    "            feature_rules.append(\"{} > {:.4f}\".format(fname, min_))\n",
    "        else:\n",
    "            feature_rules.append(\"{} in {:.4f} to {:.4f}\".format(fname, min_, max_))\n",
    "\n",
    "    return \" AND \".join(feature_rules), prediction, clf.tree_.impurity[path[-1]], clf.tree_.n_node_samples[path[-1]]\n",
    "\n",
    "\n",
    "def rules(clf, class_names=None, feature_names=None):\n",
    "    \"\"\"Formats Decision trees in a rule-like representation.\"\"\"\n",
    "\n",
    "    if feature_names is None:\n",
    "        feature_names = generic_feature_names(clf)\n",
    "\n",
    "    samples = clf.tree_.n_node_samples[0]\n",
    "    return \"\\n\".join([\"IF {2} THEN PREDICT '{3}' ({0}: {4:.4f}, support: {5} / {1})\"\n",
    "                     .format(clf.criterion, samples,\n",
    "                             *rule(clf, path, feature_names, class_names=class_names)) for path in all_path(clf)])\n",
    "\n",
    "\n",
    "def grouped_rules(clf, class_names=None, feature_names=None):\n",
    "    \"\"\"Formats decision trees in a rule-like representation, grouped by class.\"\"\"\n",
    "\n",
    "    if feature_names is None:\n",
    "        feature_names = generic_feature_names(clf)\n",
    "\n",
    "    rules = {}\n",
    "    for path in all_path(clf):\n",
    "        rulestr, clz, impurity, support = rule(clf, path, class_names=class_names, feature_names=feature_names)\n",
    "        if clz not in rules:\n",
    "            rules[clz] = []\n",
    "        rules[clz].append((rulestr, impurity, support))\n",
    "\n",
    "    res = \"\"\n",
    "    samples = clf.tree_.n_node_samples[0]\n",
    "    for clz in rules:\n",
    "        rulelist = rules[clz]\n",
    "        res = res + \"\\n{}:\\n\\t\".format(clz)\n",
    "        rl = [\"{} ({}: {:.4f}, support: {}/{})\".format(r, clf.criterion, impurity, support, samples) for r, impurity, support in rulelist]\n",
    "        res = res + \"\\n\\tor \".join(rl)\n",
    "    return res.lstrip()\n",
    "\n",
    "\n",
    "def check_for_duplicates(names):\n",
    "    seen = set()\n",
    "    for name in names:\n",
    "        if name in seen:\n",
    "            raise AssertionError(\"Duplicate name: {}\".format(name))\n",
    "        seen.add(name)\n",
    "\n",
    "\n",
    "def is_leaf(clf, node: int) -> bool:\n",
    "    \"\"\"returns true if the given node is a leaf.\"\"\"\n",
    "    return clf.tree_.children_left[node] == clf.tree_.children_right[node]\n",
    "\n",
    "\n",
    "def leaf_label(clf, node: int) -> int:\n",
    "    \"\"\"returns the index of the class at this node. The node must be a leaf.\"\"\"\n",
    "    assert(is_leaf(clf, node))\n",
    "    occs = clf.tree_.value[node][0]\n",
    "    idx = 0\n",
    "    maxi = occs[idx]\n",
    "    for i, o in zip(range(0, len(occs)), occs):\n",
    "        if maxi < o:\n",
    "            maxi = o\n",
    "            idx = i\n",
    "    return idx\n",
    "\n",
    "\n",
    "def find_existence_index(features: List[Feature], feature: Feature):\n",
    "    for idx, f in enumerate(features):\n",
    "        if isinstance(f, ExistenceFeature) and f.key() == feature.key():\n",
    "            return idx\n",
    "    raise AssertionError(\"There is no existence feature with this key!\")\n",
    "\n",
    "\n",
    "def remove_infeasible(clf, features: List[Feature]):\n",
    "    for node in range(0, clf.tree_.node_count):\n",
    "        if not is_leaf(clf, node):\n",
    "            feature = features[clf.tree_.feature[node]]\n",
    "            threshold = clf.tree_.threshold[node]\n",
    "            if not feature.is_feasible(threshold):\n",
    "                clf.tree_.feature[node] = find_existence_index(features, feature)\n",
    "                clf.tree_.threshold[node] = 0.5\n",
    "    return clf\n",
    "\n",
    "\n",
    "def iterate_nodes(clf):\n",
    "    stack = [0]\n",
    "    while 0 != len(stack):\n",
    "        node = stack.pop()\n",
    "        yield node\n",
    "        if not is_leaf(clf, node):\n",
    "            stack.append(clf.tree_.children_left[node])\n",
    "            stack.append(clf.tree_.children_right[node])\n",
    "\n",
    "\n",
    "def count_nodes(clf):\n",
    "    return len(list(iterate_nodes(clf)))\n",
    "\n",
    "\n",
    "def count_leaves(clf):\n",
    "    return len([n for n in iterate_nodes(clf) if is_leaf(clf, n)])\n",
    "\n",
    "\n",
    "def list_features(clf):\n",
    "    return [clf.tree_.feature[node] for node in iterate_nodes(clf)]\n",
    "\n",
    "\n",
    "def remove_unequal_decisions(clf):\n",
    "    \"\"\"\n",
    "    This method rewrites a decision tree classifier to remove nodes where the same\n",
    "    decision is taken on both sides.\n",
    "\n",
    "    :param clf: a decision tree classifier\n",
    "    :return: the same classifier, rewritten\n",
    "    \"\"\"\n",
    "    changed = True\n",
    "    while changed:\n",
    "        changed = False\n",
    "        for node in range(0, clf.tree_.node_count):\n",
    "            if not is_leaf(clf, node) and (is_leaf(clf, clf.tree_.children_left[node]) and is_leaf(clf, clf.tree_.children_right[node])):\n",
    "                # both children of this node are leaves\n",
    "                left_label = leaf_label(clf, clf.tree_.children_left[node])\n",
    "                right_label = leaf_label(clf, clf.tree_.children_right[node])\n",
    "                if left_label == right_label:\n",
    "                    clf.tree_.children_left[node] = -1\n",
    "                    clf.tree_.children_right[node] = -1\n",
    "                    clf.tree_.feature[node] = -2\n",
    "                    changed = True\n",
    "                    assert(left_label == leaf_label(clf, node))\n",
    "    return clf\n"
   ]
  },
  {
   "cell_type": "markdown",
   "metadata": {
    "slideshow": {
     "slide_type": "subslide"
    }
   },
   "source": [
    "### End of Excursion"
   ]
  },
  {
   "cell_type": "markdown",
   "metadata": {
    "slideshow": {
     "slide_type": "subslide"
    }
   },
   "source": [
    "### Excursion: Converting Trees to Paths"
   ]
  },
  {
   "cell_type": "markdown",
   "metadata": {
    "slideshow": {
     "slide_type": "fragment"
    }
   },
   "source": [
    "We bundle a number of helper functions that extract paths from trees."
   ]
  },
  {
   "cell_type": "code",
   "execution_count": 62,
   "metadata": {
    "execution": {
     "iopub.execute_input": "2025-01-16T09:37:15.653207Z",
     "iopub.status.busy": "2025-01-16T09:37:15.653033Z",
     "iopub.status.idle": "2025-01-16T09:37:15.659264Z",
     "shell.execute_reply": "2025-01-16T09:37:15.658971Z"
    },
    "slideshow": {
     "slide_type": "subslide"
    }
   },
   "outputs": [],
   "source": [
    "class TreeRequirement:\n",
    "    def __init__(self, feature: Feature, mini, maxi):\n",
    "        self.__feature: Feature = feature\n",
    "        self.__mini = mini\n",
    "        self.__maxi = maxi\n",
    "\n",
    "    def feature(self) -> Feature:\n",
    "        return self.__feature\n",
    "\n",
    "    def select(self, data):\n",
    "        \"\"\"Returns a vector of booleans, suitable for selecting in a pandas data frame.\"\"\"\n",
    "        if self.__mini is None:\n",
    "            return data[self.__feature.name()] <= self.__maxi\n",
    "        if self.__maxi is None:\n",
    "            return self.__mini <= data[self.__feature.name()]\n",
    "        return (self.__mini <= data[self.__feature.name()]) & (data[self.__feature.name()] <= self.__maxi)\n",
    "\n",
    "    def mini(self):\n",
    "        return self.__mini\n",
    "\n",
    "    def maxi(self):\n",
    "        return self.__maxi\n",
    "\n",
    "    def get_key(self) -> str:\n",
    "        return self.__feature.key()\n",
    "\n",
    "    def is_binary(self) -> bool:\n",
    "        return self.__feature.is_binary()\n",
    "\n",
    "    def get_str(self, bounds) -> str:\n",
    "        if self.is_binary():\n",
    "            if self.__mini < 0 <= self.__maxi:\n",
    "                # feature is NOT included\n",
    "                return f\"!{self.__feature.name()}\"\n",
    "            if self.__mini < 1 <= self.__maxi:\n",
    "                # feature is included\n",
    "                return self.__feature.name()\n",
    "            raise AssertionError(\"How is this possible?\")\n",
    "        else:\n",
    "            if (not numpy.isinf(self.__mini)) and (not numpy.isinf(self.__maxi)):\n",
    "                return f\"{self.__feature.name()} in [{self.__mini}, {self.__maxi}]\"\n",
    "            elif not numpy.isinf(self.__maxi):\n",
    "                return f\"{self.__feature.name()} <= {self.__maxi}\"\n",
    "            else:\n",
    "                return f\"{self.__feature.name()} > {self.__mini}\"\n",
    "\n",
    "    def get_str_ext(self) -> str:\n",
    "        if (not numpy.isinf(self.__mini)) and (not numpy.isinf(self.__maxi)):\n",
    "            return f\"{self.__feature} in [{self.__mini}, {self.__maxi}]\"\n",
    "        elif not numpy.isinf(self.__maxi):\n",
    "            return f\"{self.__feature} <= {self.__maxi}\"\n",
    "        else:\n",
    "            return f\"{self.__feature} > {self.__mini}\"\n",
    "\n",
    "    def get_neg(self, bounds) -> List[str]:\n",
    "        if self.is_binary():\n",
    "            if self.__mini < 0 <= self.__maxi:\n",
    "                # feature is NOT included, so, the negated condition is to include it\n",
    "                return [self.__feature.name()]\n",
    "            if self.__mini < 1 <= self.__maxi:\n",
    "                # feature is included, so exclude it\n",
    "                return [f\"!{self.__feature.name()}\"]\n",
    "            raise AssertionError(\"How is this possible?\")\n",
    "        else:\n",
    "            if (not numpy.isinf(self.__mini)) and (not numpy.isinf(self.__maxi)):\n",
    "                return [f\"{self.__feature.name()} in [{bounds.at['min', self.__feature.name()]},{self.__mini}]\",\n",
    "                        f\"{self.__feature.name()} in [{self.__maxi}, {bounds.at['max', self.__feature.name()]}]\"]\n",
    "            elif not numpy.isinf(self.__maxi):\n",
    "                return [f\"{self.__feature.name()} <= {self.__maxi}\"]\n",
    "            else:\n",
    "                return [f\"{self.__feature.name()} > {self.__mini}\"]\n",
    "\n",
    "    def get_neg_ext(self, bounds) -> List[str]:\n",
    "        if (not numpy.isinf(self.__mini)) and (not numpy.isinf(self.__maxi)):\n",
    "            return [f\"{self.__feature} in [{bounds.at['min', self.__feature]},{self.__mini}]\",\n",
    "                    f\"{self.__feature} in [{self.__maxi}, {bounds.at['max', self.__feature]}]\"]\n",
    "        elif not numpy.isinf(self.__maxi):\n",
    "            return [f\"{self.__feature} > {self.__maxi}\"]\n",
    "        else:\n",
    "            return [f\"{self.__feature} <= {self.__mini}\"]"
   ]
  },
  {
   "cell_type": "code",
   "execution_count": 63,
   "metadata": {
    "execution": {
     "iopub.execute_input": "2025-01-16T09:37:15.660903Z",
     "iopub.status.busy": "2025-01-16T09:37:15.660803Z",
     "iopub.status.idle": "2025-01-16T09:37:15.662639Z",
     "shell.execute_reply": "2025-01-16T09:37:15.662383Z"
    },
    "slideshow": {
     "slide_type": "skip"
    }
   },
   "outputs": [],
   "source": [
    "from pathlib import Path"
   ]
  },
  {
   "cell_type": "code",
   "execution_count": 64,
   "metadata": {
    "execution": {
     "iopub.execute_input": "2025-01-16T09:37:15.663972Z",
     "iopub.status.busy": "2025-01-16T09:37:15.663879Z",
     "iopub.status.idle": "2025-01-16T09:37:15.667671Z",
     "shell.execute_reply": "2025-01-16T09:37:15.667276Z"
    },
    "slideshow": {
     "slide_type": "subslide"
    }
   },
   "outputs": [],
   "source": [
    "class TreePath:\n",
    "    def __init__(self, samplefile: Optional[Path], is_bug: bool, requirements: List[TreeRequirement]):\n",
    "        self.__sample = samplefile\n",
    "        self.__is_bug = is_bug\n",
    "        self.__requirements: List[TreeRequirement] = requirements\n",
    "\n",
    "    def is_bug(self) -> bool:\n",
    "        return self.__is_bug\n",
    "\n",
    "    def get(self, idx):\n",
    "        return self.__requirements[idx]\n",
    "\n",
    "    def find_sample(self, data):\n",
    "        for req in self.__requirements:\n",
    "            data = data[req.select(data)]\n",
    "        if 0 != len(data):\n",
    "            return data[\"abs_file\"][0]\n",
    "        return None\n",
    "\n",
    "    def __len__(self) -> int:\n",
    "        return len(self.__requirements)\n",
    "\n",
    "\n",
    "def lower_middle(start, end):\n",
    "    if start == end:\n",
    "        return start - abs(start)\n",
    "    return start + ((end - start)/2)\n",
    "\n",
    "\n",
    "def upper_middle(start, end):\n",
    "    if start == end:\n",
    "        return end + abs(end)\n",
    "    return start + ((end - start)/2)\n",
    "\n",
    "\n",
    "def min_digits(mini):\n",
    "    return int(\"1\" + \"\".join([0] * int(mini-1)))\n",
    "\n",
    "\n",
    "def max_digits(maxi):\n",
    "    return int(\"\".join([9] * int(maxi)))"
   ]
  },
  {
   "cell_type": "code",
   "execution_count": 65,
   "metadata": {
    "execution": {
     "iopub.execute_input": "2025-01-16T09:37:15.669153Z",
     "iopub.status.busy": "2025-01-16T09:37:15.668998Z",
     "iopub.status.idle": "2025-01-16T09:37:15.671558Z",
     "shell.execute_reply": "2025-01-16T09:37:15.671286Z"
    },
    "slideshow": {
     "slide_type": "subslide"
    }
   },
   "outputs": [],
   "source": [
    "def tree_to_paths(tree, features: List[Feature]):\n",
    "    paths = []\n",
    "    # go through tree leaf by leaf\n",
    "    for path in all_path(tree):\n",
    "        requirements = []\n",
    "        is_bug = OracleResult.BUG == prediction_for_path(tree, path)\n",
    "        # find the requirements\n",
    "        box_ = box(tree, path, feature_names=features).transpose()\n",
    "        for feature, row in box_.iterrows():\n",
    "            mini = row['min']\n",
    "            maxi = row['max']\n",
    "            if (not numpy.isinf(mini)) or (not numpy.isinf(maxi)):\n",
    "                requirements.append(TreeRequirement(feature, mini, maxi))\n",
    "        paths.append(TreePath(None, is_bug, requirements))\n",
    "\n",
    "    return paths"
   ]
  },
  {
   "cell_type": "code",
   "execution_count": 66,
   "metadata": {
    "execution": {
     "iopub.execute_input": "2025-01-16T09:37:15.672871Z",
     "iopub.status.busy": "2025-01-16T09:37:15.672761Z",
     "iopub.status.idle": "2025-01-16T09:37:15.677072Z",
     "shell.execute_reply": "2025-01-16T09:37:15.676705Z"
    },
    "slideshow": {
     "slide_type": "subslide"
    }
   },
   "outputs": [],
   "source": [
    "# We provide a functionallity to extract the paths from a decision tree.\n",
    "all_paths = tree_to_paths(clf, feature_names)"
   ]
  },
  {
   "cell_type": "markdown",
   "metadata": {
    "slideshow": {
     "slide_type": "fragment"
    }
   },
   "source": [
    "Here is an example:"
   ]
  },
  {
   "cell_type": "code",
   "execution_count": 67,
   "metadata": {
    "execution": {
     "iopub.execute_input": "2025-01-16T09:37:15.678726Z",
     "iopub.status.busy": "2025-01-16T09:37:15.678595Z",
     "iopub.status.idle": "2025-01-16T09:37:15.680746Z",
     "shell.execute_reply": "2025-01-16T09:37:15.680462Z"
    },
    "slideshow": {
     "slide_type": "fragment"
    }
   },
   "outputs": [
    {
     "name": "stdout",
     "output_type": "stream",
     "text": [
      "Path 0: function-sqrt <= 0.5, is_bug: False\n",
      "Path 1: function-sqrt > 0.5 number <= 13.0, is_bug: True\n",
      "Path 2: function-sqrt > 0.5 number > 13.0, is_bug: False\n"
     ]
    }
   ],
   "source": [
    "for count, path in enumerate(all_paths):\n",
    "    string_path = path.get(0).get_str_ext()\n",
    "    for box_ in range(1, len(path)):\n",
    "        string_path += \" \" + path.get(box_).get_str_ext()\n",
    "    print(f\"Path {count}: {string_path}, is_bug: {path.is_bug()}\")"
   ]
  },
  {
   "cell_type": "markdown",
   "metadata": {
    "slideshow": {
     "slide_type": "subslide"
    }
   },
   "source": [
    "### End of Excursion"
   ]
  },
  {
   "cell_type": "markdown",
   "metadata": {
    "slideshow": {
     "slide_type": "slide"
    }
   },
   "source": [
    "## Step 4: Generating New Samples"
   ]
  },
  {
   "cell_type": "markdown",
   "metadata": {
    "slideshow": {
     "slide_type": "fragment"
    }
   },
   "source": [
    "The next step is to generate new samples.\n",
    "For this purpose, we _negate_ the requirements on a path to refine and refute the decision tree."
   ]
  },
  {
   "cell_type": "markdown",
   "metadata": {
    "slideshow": {
     "slide_type": "subslide"
    }
   },
   "source": [
    "### Negating Requirements"
   ]
  },
  {
   "cell_type": "markdown",
   "metadata": {
    "slideshow": {
     "slide_type": "fragment"
    }
   },
   "source": [
    "First we will determine some boundaries to obtain better path negations."
   ]
  },
  {
   "cell_type": "code",
   "execution_count": 68,
   "metadata": {
    "execution": {
     "iopub.execute_input": "2025-01-16T09:37:15.682178Z",
     "iopub.status.busy": "2025-01-16T09:37:15.682092Z",
     "iopub.status.idle": "2025-01-16T09:37:15.685341Z",
     "shell.execute_reply": "2025-01-16T09:37:15.685001Z"
    },
    "slideshow": {
     "slide_type": "fragment"
    }
   },
   "outputs": [],
   "source": [
    "x = pandas.DataFrame.from_records(features)\n",
    "bounds = pandas.DataFrame([{'feature': c, 'min': x[c].min(), 'max': x[c].max()}\n",
    "                           for c in feature_names],\n",
    "                          columns=['feature', 'min', 'max']).set_index(['feature']).transpose()"
   ]
  },
  {
   "cell_type": "markdown",
   "metadata": {
    "slideshow": {
     "slide_type": "fragment"
    }
   },
   "source": [
    "We can use the function `path.get(i).get_neg_ext(bounds)` to obtain a negation for a single requirement on a path (indexed with `i`)."
   ]
  },
  {
   "cell_type": "markdown",
   "metadata": {
    "slideshow": {
     "slide_type": "fragment"
    }
   },
   "source": [
    "Let's verify if we can negate a whole path."
   ]
  },
  {
   "cell_type": "code",
   "execution_count": 69,
   "metadata": {
    "execution": {
     "iopub.execute_input": "2025-01-16T09:37:15.686799Z",
     "iopub.status.busy": "2025-01-16T09:37:15.686689Z",
     "iopub.status.idle": "2025-01-16T09:37:15.688889Z",
     "shell.execute_reply": "2025-01-16T09:37:15.688598Z"
    },
    "slideshow": {
     "slide_type": "subslide"
    }
   },
   "outputs": [
    {
     "name": "stdout",
     "output_type": "stream",
     "text": [
      "Path 0: function-sqrt > 0.5, is_bug: False\n",
      "Path 1: function-sqrt <= 0.5 number > 13.0, is_bug: True\n",
      "Path 2: function-sqrt <= 0.5 number <= 13.0, is_bug: False\n"
     ]
    }
   ],
   "source": [
    "for count, path in enumerate(all_paths):\n",
    "    negated_string_path = path.get(0).get_neg_ext(bounds)[0]\n",
    "    for box_ in range(1, len(path)):\n",
    "        negated_string_path += \" \" + str(path.get(box_).get_neg_ext(bounds)[0])\n",
    "    print(f\"Path {count}: {negated_string_path}, is_bug: {path.is_bug()}\")"
   ]
  },
  {
   "cell_type": "markdown",
   "metadata": {
    "slideshow": {
     "slide_type": "subslide"
    }
   },
   "source": [
    "### Systematically Negating Paths"
   ]
  },
  {
   "cell_type": "markdown",
   "metadata": {
    "slideshow": {
     "slide_type": "fragment"
    }
   },
   "source": [
    "We will use the Decision tree and extract new input specifications to refine or refute our hypothesis (See Section 4.1 \"Extracting Prediction Paths\" in \\cite{Kampmann2020}).\n",
    "These input specifications will be parsed to the input generator that tries to generate new inputs that fulfill the defined input specifications."
   ]
  },
  {
   "cell_type": "code",
   "execution_count": 70,
   "metadata": {
    "execution": {
     "iopub.execute_input": "2025-01-16T09:37:15.690484Z",
     "iopub.status.busy": "2025-01-16T09:37:15.690346Z",
     "iopub.status.idle": "2025-01-16T09:37:15.693623Z",
     "shell.execute_reply": "2025-01-16T09:37:15.693311Z"
    },
    "slideshow": {
     "slide_type": "subslide"
    }
   },
   "outputs": [],
   "source": [
    "def extracting_prediction_paths(clf, feature_names, data):\n",
    "    # determine the bounds\n",
    "    bounds = pandas.DataFrame([{'feature': c, 'min': data[c].min(), 'max': data[c].max()}\n",
    "                           for c in feature_names],\n",
    "                          columns=['feature', 'min', 'max']).set_index(['feature']).transpose()\n",
    "\n",
    "    # go through tree leaf by leaf\n",
    "    all_reqs = set()\n",
    "    for path in tree_to_paths(clf, feature_names):\n",
    "        # generate conditions\n",
    "        for i in range(0, len(path)+1):\n",
    "            reqs_list = []\n",
    "            bins = format(i, \"#0{}b\".format(len(path)+2))[2:]\n",
    "            for p, b in zip(range(0, len(bins)), bins):\n",
    "                r = path.get(p)\n",
    "                if '1' == b:\n",
    "                    reqs_list.append(r.get_neg_ext(bounds))\n",
    "                else:\n",
    "                    reqs_list.append([r.get_str_ext()])\n",
    "            for reqs in all_combinations(reqs_list):\n",
    "                all_reqs.add(\", \".join(sorted(reqs)))\n",
    "    return all_reqs\n",
    "\n",
    "def all_combinations(reqs_lists):\n",
    "    result = [[]]\n",
    "    for reqs in reqs_lists:\n",
    "        t = []\n",
    "        for r in reqs:\n",
    "            for i in result:\n",
    "                t.append(i+[r])\n",
    "        result = t\n",
    "    return result"
   ]
  },
  {
   "cell_type": "markdown",
   "metadata": {
    "slideshow": {
     "slide_type": "subslide"
    }
   },
   "source": [
    "We will use the Decision tree and extract new input specifications to refine or refute our hypothesis (See paper Section 4.1 - Extracting Prediction Paths). These input specifications will be parsed to the input generator that tries to generate new inputs that fulfill the defined input specifications."
   ]
  },
  {
   "cell_type": "code",
   "execution_count": 71,
   "metadata": {
    "execution": {
     "iopub.execute_input": "2025-01-16T09:37:15.695074Z",
     "iopub.status.busy": "2025-01-16T09:37:15.694981Z",
     "iopub.status.idle": "2025-01-16T09:37:15.698407Z",
     "shell.execute_reply": "2025-01-16T09:37:15.698087Z"
    },
    "slideshow": {
     "slide_type": "fragment"
    }
   },
   "outputs": [],
   "source": [
    "new_prediction_paths = extracting_prediction_paths(clf, feature_names, data=x)"
   ]
  },
  {
   "cell_type": "code",
   "execution_count": 72,
   "metadata": {
    "execution": {
     "iopub.execute_input": "2025-01-16T09:37:15.699880Z",
     "iopub.status.busy": "2025-01-16T09:37:15.699779Z",
     "iopub.status.idle": "2025-01-16T09:37:15.701832Z",
     "shell.execute_reply": "2025-01-16T09:37:15.701520Z"
    },
    "slideshow": {
     "slide_type": "fragment"
    }
   },
   "outputs": [
    {
     "name": "stdout",
     "output_type": "stream",
     "text": [
      "function-sqrt > 0.5, number <= 13.0\n",
      "function-sqrt > 0.5, number > 13.0\n",
      "function-sqrt <= 0.5, number <= 13.0\n",
      "function-sqrt <= 0.5\n",
      "function-sqrt > 0.5\n",
      "function-sqrt <= 0.5, number > 13.0\n"
     ]
    }
   ],
   "source": [
    "for path in new_prediction_paths:\n",
    "    print(path)"
   ]
  },
  {
   "cell_type": "markdown",
   "metadata": {
    "slideshow": {
     "slide_type": "subslide"
    }
   },
   "source": [
    "### Input Specification Parser"
   ]
  },
  {
   "cell_type": "markdown",
   "metadata": {
    "slideshow": {
     "slide_type": "fragment"
    }
   },
   "source": [
    "Once we have input specifications, we must again extract them from the decision tree so we can interpret them."
   ]
  },
  {
   "cell_type": "code",
   "execution_count": 73,
   "metadata": {
    "execution": {
     "iopub.execute_input": "2025-01-16T09:37:15.703483Z",
     "iopub.status.busy": "2025-01-16T09:37:15.703356Z",
     "iopub.status.idle": "2025-01-16T09:37:15.705145Z",
     "shell.execute_reply": "2025-01-16T09:37:15.704854Z"
    },
    "slideshow": {
     "slide_type": "skip"
    }
   },
   "outputs": [],
   "source": [
    "import string"
   ]
  },
  {
   "cell_type": "code",
   "execution_count": 74,
   "metadata": {
    "execution": {
     "iopub.execute_input": "2025-01-16T09:37:15.706540Z",
     "iopub.status.busy": "2025-01-16T09:37:15.706415Z",
     "iopub.status.idle": "2025-01-16T09:37:15.709090Z",
     "shell.execute_reply": "2025-01-16T09:37:15.708707Z"
    },
    "slideshow": {
     "slide_type": "subslide"
    }
   },
   "outputs": [],
   "source": [
    "SPEC_GRAMMAR: Grammar = {\n",
    "    \"<start>\":\n",
    "        [\"<req_list>\"],\n",
    "\n",
    "    \"<req_list>\": \n",
    "        [\"<req>\", \"<req>\"\", \"\"<req_list>\"],\n",
    "\n",
    "    \"<req>\":\n",
    "        [\"<feature>\"\" \"\"<quant>\"\" \"\"<num>\"],\n",
    "\n",
    "    \"<feature>\": [\"exists(<string>)\",\n",
    "                  \"num(<string>)\",\n",
    "                  # currently not used\n",
    "                  \"char(<string>)\",\n",
    "                  \"length(<string>)\"],\n",
    "\n",
    "    \"<quant>\":\n",
    "        [\"<\", \">\", \"<=\", \">=\"],\n",
    "\n",
    "    \"<num>\": [\"-<value>\", \"<value>\"],\n",
    "\n",
    "    \"<value>\":\n",
    "        [\"<integer>.<integer>\",\n",
    "         \"<integer>\"],\n",
    "\n",
    "    \"<integer>\":\n",
    "        [\"<digit><integer>\", \"<digit>\"],\n",
    "\n",
    "    \"<digit>\":\n",
    "        [\"0\", \"1\", \"2\", \"3\", \"4\", \"5\", \"6\", \"7\", \"8\", \"9\"],\n",
    "\n",
    "    '<string>': ['<letters>'],\n",
    "    '<letters>': ['<letter><letters>', '<letter>'],\n",
    "    '<letter>': list(string.ascii_letters + string.digits + string.punctuation)\n",
    "}\n",
    "\n",
    "assert is_valid_grammar(SPEC_GRAMMAR)"
   ]
  },
  {
   "cell_type": "markdown",
   "metadata": {
    "slideshow": {
     "slide_type": "subslide"
    }
   },
   "source": [
    "### Excursion: Validating the Parser"
   ]
  },
  {
   "cell_type": "markdown",
   "metadata": {
    "slideshow": {
     "slide_type": "fragment"
    }
   },
   "source": [
    "Let's validate our grammar, by using the grammar to produce 100 sample requirement specifications"
   ]
  },
  {
   "cell_type": "code",
   "execution_count": 75,
   "metadata": {
    "execution": {
     "iopub.execute_input": "2025-01-16T09:37:15.711307Z",
     "iopub.status.busy": "2025-01-16T09:37:15.710974Z",
     "iopub.status.idle": "2025-01-16T09:37:15.729651Z",
     "shell.execute_reply": "2025-01-16T09:37:15.729329Z"
    },
    "slideshow": {
     "slide_type": "subslide"
    }
   },
   "outputs": [
    {
     "name": "stdout",
     "output_type": "stream",
     "text": [
      "char(o/vy) >= 7\n",
      "exists(E) <= 822.9\n",
      "length(VnMoy) > -6460.3, exists(T) > 6, num(b) >= -1.03\n",
      "length(f) >= -7677, char(O:t) < -6\n",
      "length(x`) <= 08\n",
      "num(@) >= 1.695, exists(=7&) > 23\n",
      "exists(rV) >= -5.9, exists(|) <= 6969.0\n",
      "length(bd) >= 4.8\n",
      "num(8) <= 44.870, length(8xz') <= 13\n",
      "exists(H) >= 0.4, num(#) > 1, exists(Q) >= -600.19\n"
     ]
    }
   ],
   "source": [
    "g = GrammarFuzzer(SPEC_GRAMMAR, max_nonterminals=100)\n",
    "earley = EarleyParser(SPEC_GRAMMAR)\n",
    "for i in range(10):\n",
    "    sample = g.fuzz()\n",
    "    print(sample)"
   ]
  },
  {
   "cell_type": "code",
   "execution_count": 76,
   "metadata": {
    "execution": {
     "iopub.execute_input": "2025-01-16T09:37:15.731005Z",
     "iopub.status.busy": "2025-01-16T09:37:15.730893Z",
     "iopub.status.idle": "2025-01-16T09:37:16.350211Z",
     "shell.execute_reply": "2025-01-16T09:37:16.349909Z"
    },
    "slideshow": {
     "slide_type": "subslide"
    }
   },
   "outputs": [],
   "source": [
    "g = GrammarFuzzer(SPEC_GRAMMAR, max_nonterminals= 100)\n",
    "earley = EarleyParser(SPEC_GRAMMAR)\n",
    "for i in range(100):\n",
    "    sample = g.fuzz()\n",
    "    for tree in earley.parse(sample):\n",
    "        assert tree_to_string(tree) == sample, f\"{tree_to_string(tree)} and {sample} are not equal\""
   ]
  },
  {
   "cell_type": "markdown",
   "metadata": {
    "slideshow": {
     "slide_type": "fragment"
    }
   },
   "source": [
    "Let's also try with some real requirement specifications:"
   ]
  },
  {
   "cell_type": "code",
   "execution_count": 77,
   "metadata": {
    "execution": {
     "iopub.execute_input": "2025-01-16T09:37:16.351747Z",
     "iopub.status.busy": "2025-01-16T09:37:16.351654Z",
     "iopub.status.idle": "2025-01-16T09:37:16.397501Z",
     "shell.execute_reply": "2025-01-16T09:37:16.397199Z"
    },
    "slideshow": {
     "slide_type": "subslide"
    }
   },
   "outputs": [],
   "source": [
    "earley = EarleyParser(SPEC_GRAMMAR)\n",
    "teststrings = ['exists(<function>@0) > 0.5, exists(<term>@0) <= 0.5, exists(<value>@1) <= 0.5',\n",
    "               'exists(<digit>@9) <= 0.5, exists(<function>@0) > 0.5, num(<term>) > 0.05000000074505806',\n",
    "               'exists(<digit>@2) <= 0.5, exists(<function>@0) < 0.5, num(<term>) <= 0.05000000074505806',\n",
    "               'exists(<function>@0) > 0.5, num(<term>) > -3965678.1875']\n",
    "for count, sample in enumerate(teststrings):\n",
    "    for tree in earley.parse(sample):\n",
    "        assert tree_to_string(tree) == teststrings[count], \\\n",
    "        f\"{tree_to_string(tree)} and {teststrings[count]} are not equal\""
   ]
  },
  {
   "cell_type": "markdown",
   "metadata": {
    "slideshow": {
     "slide_type": "subslide"
    }
   },
   "source": [
    "### End of Excursion"
   ]
  },
  {
   "cell_type": "markdown",
   "metadata": {
    "slideshow": {
     "slide_type": "subslide"
    }
   },
   "source": [
    "### Retrieving New input Specifications\n",
    "\n",
    "The following classes represent requirements for the test cases to be generated."
   ]
  },
  {
   "cell_type": "code",
   "execution_count": 78,
   "metadata": {
    "execution": {
     "iopub.execute_input": "2025-01-16T09:37:16.399062Z",
     "iopub.status.busy": "2025-01-16T09:37:16.398964Z",
     "iopub.status.idle": "2025-01-16T09:37:16.402257Z",
     "shell.execute_reply": "2025-01-16T09:37:16.401992Z"
    },
    "slideshow": {
     "slide_type": "subslide"
    }
   },
   "outputs": [],
   "source": [
    "class SpecRequirement:\n",
    "    '''\n",
    "    This class represents a requirement for a new input sample that should be generated.\n",
    "    This class contains the feature that should be fullfiled (Feature), a quantifier\n",
    "    (\"<\", \">\", \"<=\", \">=\") and a value. For instance exist(feature) >= 0.5 states that\n",
    "    the syntactical existence feature should be used to produce a new input.\n",
    "\n",
    "    feature  : Is the associated feature class\n",
    "    quant    : The quantifier\n",
    "    value    : The value of the requirement. Note that for existence features this value\n",
    "                is allways between 0 and 1.\n",
    "    '''\n",
    "\n",
    "    def __init__(self, feature: Feature, quantificator, value):\n",
    "        self.feature: Feature = feature\n",
    "        self.quant = quantificator\n",
    "        self.value = value\n",
    "\n",
    "    def __str__(self):\n",
    "        return f\"Requirement({self.feature.name} {self.quant} {self.value})\"\n",
    "\n",
    "    def __repr__(self):\n",
    "        return f\"Requirement({self.feature.name}, {self.quant}, {self.value})\"\n",
    "\n",
    "    def friendly(self):\n",
    "        def value(x):\n",
    "            try:\n",
    "                return float(x)\n",
    "            except Exception:\n",
    "                return None\n",
    "\n",
    "        if isinstance(self.feature, ExistenceFeature):\n",
    "            if value(self.value) > 0:\n",
    "                return f\"{self.feature.friendly_name()}\"\n",
    "            elif value(self.value) < 0:\n",
    "                return f\"not {self.feature.friendly_name()}\"\n",
    "\n",
    "        return f\"{self.feature.friendly_name()} {self.quant} {self.value}\""
   ]
  },
  {
   "cell_type": "code",
   "execution_count": 79,
   "metadata": {
    "execution": {
     "iopub.execute_input": "2025-01-16T09:37:16.403565Z",
     "iopub.status.busy": "2025-01-16T09:37:16.403476Z",
     "iopub.status.idle": "2025-01-16T09:37:16.405911Z",
     "shell.execute_reply": "2025-01-16T09:37:16.405674Z"
    },
    "slideshow": {
     "slide_type": "subslide"
    }
   },
   "outputs": [],
   "source": [
    "class InputSpecification:\n",
    "    '''\n",
    "    This class represents a complete input specification of a new input. A input specification\n",
    "    consists of one or more requirements.\n",
    "    requirements  : Is a list of all requirements that must be used.\n",
    "    '''\n",
    "\n",
    "    def __init__(self, requirements: List[SpecRequirement]):\n",
    "        self.requirements: List[SpecRequirement] = requirements\n",
    "\n",
    "    def __str__(self):\n",
    "        s = \", \".join(str(r) for r in self.requirements)\n",
    "        return f\"InputSpecification({s})\"\n",
    "\n",
    "    def friendly(self):\n",
    "        return \" and \".join(r.friendly() for r in self.requirements)\n",
    "\n",
    "    def __repr__(self):\n",
    "        return self.__str__()"
   ]
  },
  {
   "cell_type": "code",
   "execution_count": 80,
   "metadata": {
    "execution": {
     "iopub.execute_input": "2025-01-16T09:37:16.407180Z",
     "iopub.status.busy": "2025-01-16T09:37:16.407092Z",
     "iopub.status.idle": "2025-01-16T09:37:16.409479Z",
     "shell.execute_reply": "2025-01-16T09:37:16.409198Z"
    },
    "slideshow": {
     "slide_type": "subslide"
    }
   },
   "outputs": [],
   "source": [
    "def get_all_subtrees(derivation_tree, non_terminal):\n",
    "    '''\n",
    "    Iteratively returns a list of subtrees that start with a given non_terminal.\n",
    "    '''\n",
    "\n",
    "    subtrees = []\n",
    "    (node, children) = derivation_tree\n",
    "\n",
    "    if node == non_terminal:\n",
    "        subtrees.append(derivation_tree)\n",
    "\n",
    "    for child in children:\n",
    "        subtrees = subtrees + get_all_subtrees(child, non_terminal)\n",
    "\n",
    "    return subtrees"
   ]
  },
  {
   "cell_type": "code",
   "execution_count": 81,
   "metadata": {
    "execution": {
     "iopub.execute_input": "2025-01-16T09:37:16.410820Z",
     "iopub.status.busy": "2025-01-16T09:37:16.410728Z",
     "iopub.status.idle": "2025-01-16T09:37:16.413327Z",
     "shell.execute_reply": "2025-01-16T09:37:16.413067Z"
    },
    "slideshow": {
     "slide_type": "subslide"
    }
   },
   "outputs": [],
   "source": [
    "def create_new_input_specification(derivation_tree, all_features) -> InputSpecification:\n",
    "    '''\n",
    "    This function creates a new input specification for a parsed decision tree path.\n",
    "    The input derivation_tree corresponds to a already negated path in the decision tree.\n",
    "    '''\n",
    "\n",
    "    requirement_list = []\n",
    "\n",
    "    for req in get_all_subtrees(derivation_tree, '<req>'):\n",
    "        feature_name = tree_to_string(get_all_subtrees(req, '<feature>')[0])\n",
    "        quant = tree_to_string(get_all_subtrees(req, '<quant>')[0])\n",
    "        value = tree_to_string(get_all_subtrees(req, '<num>')[0])\n",
    "\n",
    "        feature_class = None\n",
    "        for f in all_features:\n",
    "            if f.name == feature_name:\n",
    "                feature_class = f\n",
    "\n",
    "        requirement_list.append(SpecRequirement(feature_class, quant, value))\n",
    "\n",
    "    return InputSpecification(requirement_list)"
   ]
  },
  {
   "cell_type": "code",
   "execution_count": 82,
   "metadata": {
    "execution": {
     "iopub.execute_input": "2025-01-16T09:37:16.414681Z",
     "iopub.status.busy": "2025-01-16T09:37:16.414587Z",
     "iopub.status.idle": "2025-01-16T09:37:16.417047Z",
     "shell.execute_reply": "2025-01-16T09:37:16.416808Z"
    },
    "slideshow": {
     "slide_type": "subslide"
    }
   },
   "outputs": [],
   "source": [
    "def get_all_input_specifications(dec_tree,\n",
    "                                 all_features: List[Feature],\n",
    "                                 feature_names: List[str],\n",
    "                                 data) -> List[InputSpecification]:\n",
    "    '''\n",
    "    Returns a complete list new input specification that were extracted from a learned decision tree.\n",
    "\n",
    "    INPUT:\n",
    "        - dec_tree       : The learned decision tree.\n",
    "        - all_features   : A list of all features\n",
    "        - feature_names  : The list of the feature names (feature.name)\n",
    "        - data.          : The data that was used to learn the decision tree\n",
    "\n",
    "    OUTPUT:\n",
    "        - Returns a list of InputSpecifications\n",
    "    '''\n",
    "    prediction_paths = extracting_prediction_paths(dec_tree, feature_names, data)\n",
    "    input_specifications = []\n",
    "\n",
    "    # parse all extracted paths\n",
    "    for r in prediction_paths:\n",
    "        earley = EarleyParser(SPEC_GRAMMAR)\n",
    "        try:\n",
    "            for tree in earley.parse(r):\n",
    "                input_specifications.append(create_new_input_specification(tree, all_features))\n",
    "        except SyntaxError:\n",
    "            # Catch Parsing Syntax Errors: num(<term>) in [-900, 0] will fail; Might fix later\n",
    "            # For now, inputs following that form will be ignored\n",
    "            pass\n",
    "\n",
    "    return input_specifications"
   ]
  },
  {
   "cell_type": "markdown",
   "metadata": {
    "slideshow": {
     "slide_type": "subslide"
    }
   },
   "source": [
    "### Excursion: Testing Specifications"
   ]
  },
  {
   "cell_type": "code",
   "execution_count": 83,
   "metadata": {
    "execution": {
     "iopub.execute_input": "2025-01-16T09:37:16.418369Z",
     "iopub.status.busy": "2025-01-16T09:37:16.418286Z",
     "iopub.status.idle": "2025-01-16T09:37:16.492872Z",
     "shell.execute_reply": "2025-01-16T09:37:16.492553Z"
    },
    "slideshow": {
     "slide_type": "subslide"
    }
   },
   "outputs": [],
   "source": [
    "sample_prediction_paths = ['exists(<function>@0) > 0.5, num(<term>) <= -38244758.0',\n",
    "                        'exists(<digit>@7) <= 0.5, exists(<function>@0) > 0.5, num(<term>) <= 0.05000000074505806',\n",
    "                        'exists(<digit>) > 1.5, exists(<function>@0) > 0.5, num(<term>) <= 0.21850000321865082', \n",
    "                        'exists(<function>@0) > 0.5']\n",
    "\n",
    "expected_input_specifications = ['InputSpecification(Requirement(exists(<function>@0) > 0.5), Requirement(num(<term>) <= -38244758.0))',\n",
    "                                 'InputSpecification(Requirement(exists(<digit>@7) <= 0.5), Requirement(exists(<function>@0) > 0.5), Requirement(num(<term>) <= 0.05000000074505806))',\n",
    "                                 'InputSpecification(Requirement(exists(<digit>) > 1.5), Requirement(exists(<function>@0) > 0.5), Requirement(num(<term>) <= 0.21850000321865082))',\n",
    "                                 'InputSpecification(Requirement(exists(<function>@0) > 0.5))']\n",
    "\n",
    "all_features = extract_all_features(CALC_GRAMMAR)\n",
    "\n",
    "earley = EarleyParser(SPEC_GRAMMAR)\n",
    "for count, sample in enumerate(sample_prediction_paths):\n",
    "    for tree in earley.parse(sample):\n",
    "        input_specification = create_new_input_specification(tree, all_features)\n",
    "        assert str(input_specification) == expected_input_specifications[count], \\\n",
    "            f\"{str(input_specification)} is not equal to {expected_input_specifications[count]}\""
   ]
  },
  {
   "cell_type": "markdown",
   "metadata": {
    "slideshow": {
     "slide_type": "subslide"
    }
   },
   "source": [
    "If no assertion is triggered, then everything seems to work."
   ]
  },
  {
   "cell_type": "markdown",
   "metadata": {
    "slideshow": {
     "slide_type": "subslide"
    }
   },
   "source": [
    "### End of Excursion"
   ]
  },
  {
   "cell_type": "markdown",
   "metadata": {
    "slideshow": {
     "slide_type": "fragment"
    }
   },
   "source": [
    "We implement a _Grammar-Based Input Generator_ that generates new input samples from a List of `InputSpecifications`.\n",
    "The input specifications are extracted from the decision tree boundaries in the previous Step 3: `RequirementExtraction`.\n",
    "\n",
    "An `InputSpecification` consists of **1 to n** many predicates or requirements (e.g. `<feature> >= value`, or `num(<term>) <= 13`).\n",
    "We generate a new input for each `InputSpecification`.\n",
    "The new input fulfills all the given requirements of an `InputSpecification`."
   ]
  },
  {
   "cell_type": "markdown",
   "metadata": {
    "slideshow": {
     "slide_type": "subslide"
    }
   },
   "source": [
    "For further details, please refer to Section 4.4 and 4.5 of \\cite{Kampmann2020} and the Chapter [Efficient Grammar Fuzzing](https://www.fuzzingbook.org/html/GrammarFuzzer.html) in the Fuzzing Book."
   ]
  },
  {
   "cell_type": "markdown",
   "metadata": {
    "slideshow": {
     "slide_type": "fragment"
    }
   },
   "source": [
    "We define a function `generate_samples()` with the following input parameters:\n",
    "- `grammar`: the grammar used to produce new inputs (e.g. the CALCULATOR-Grammar)\n",
    "- `new_input_specification`: a List of new inputs specifications (type `List[InputSpecification]`)\n",
    "- `timeout`: a max time budget. Return the generated inputs when the time budget is exceeded."
   ]
  },
  {
   "cell_type": "markdown",
   "metadata": {
    "slideshow": {
     "slide_type": "fragment"
    }
   },
   "source": [
    "The function returns a list of new inputs that are specified by the given input specifications."
   ]
  },
  {
   "cell_type": "code",
   "execution_count": 84,
   "metadata": {
    "execution": {
     "iopub.execute_input": "2025-01-16T09:37:16.494658Z",
     "iopub.status.busy": "2025-01-16T09:37:16.494560Z",
     "iopub.status.idle": "2025-01-16T09:37:16.496441Z",
     "shell.execute_reply": "2025-01-16T09:37:16.496190Z"
    },
    "slideshow": {
     "slide_type": "skip"
    }
   },
   "outputs": [],
   "source": [
    "import time\n",
    "import copy\n",
    "from copy import deepcopy\n",
    "import random\n",
    "from itertools import chain"
   ]
  },
  {
   "cell_type": "code",
   "execution_count": 85,
   "metadata": {
    "execution": {
     "iopub.execute_input": "2025-01-16T09:37:16.497775Z",
     "iopub.status.busy": "2025-01-16T09:37:16.497655Z",
     "iopub.status.idle": "2025-01-16T09:37:16.501245Z",
     "shell.execute_reply": "2025-01-16T09:37:16.500973Z"
    },
    "slideshow": {
     "slide_type": "subslide"
    }
   },
   "outputs": [],
   "source": [
    "def best_trees(forest, spec, grammar):\n",
    "    samples = [tree_to_string(tree) for tree in forest]\n",
    "    fulfilled_fractions= []\n",
    "    for sample in samples:\n",
    "        gen_features = collect_features([sample], grammar)\n",
    "\n",
    "        # calculate percentage of fulfilled requirements (used to rank the sample)\n",
    "        fulfilled_count = 0\n",
    "        total_count = len(spec.requirements)\n",
    "        for req in spec.requirements:\n",
    "            # for now, interpret requirement(exists(<...>) <= number) as false and requirement(exists(<...>) > number) as true\n",
    "            if isinstance(req.feature, ExistenceFeature):\n",
    "                expected = 1.0 if req.quant == '>' or req.quant == '>=' else 0.0\n",
    "                actual = gen_features[req.feature.name][0]\n",
    "                if actual == expected:\n",
    "                    fulfilled_count += 1\n",
    "                else:\n",
    "                    pass\n",
    "                    # print(f'{req.feature} expected: {expected}, actual:{actual}')\n",
    "            elif isinstance(req.feature, NumericInterpretation):\n",
    "                expected_value = float(req.value)\n",
    "                actual_value = gen_features[req.feature.name][0]\n",
    "                fulfilled = False\n",
    "                if req.quant == '<':\n",
    "                    fulfilled = actual_value < expected_value\n",
    "                elif req.quant == '<=':\n",
    "                    fulfilled = actual_value <= expected_value\n",
    "                elif req.quant == '>':\n",
    "                    fulfilled = actual_value > expected_value\n",
    "                elif req.quant == '>=':\n",
    "                    fulfilled = actual_value >= expected_value\n",
    "\n",
    "                if fulfilled:\n",
    "                    fulfilled_count += 1\n",
    "                else:\n",
    "                    pass\n",
    "                    # print(f'{req.feature} expected: {expected_value}, actual:{actual_value}')\n",
    "        fulfilled_fractions.append(fulfilled_count / total_count)\n",
    "        # print(f'Fraction of fulfilled requirements: {fulfilled_count / total_count}')\n",
    "    max_frac = max(fulfilled_fractions)\n",
    "    best_chosen = []\n",
    "    if max_frac == 1.0:\n",
    "        return True, forest[fulfilled_fractions.index(1.0)]\n",
    "\n",
    "    for i, t in enumerate(forest):\n",
    "        if fulfilled_fractions[i] == max_frac:\n",
    "            best_chosen.append(t)\n",
    "    return False, best_chosen\n"
   ]
  },
  {
   "cell_type": "code",
   "execution_count": 86,
   "metadata": {
    "execution": {
     "iopub.execute_input": "2025-01-16T09:37:16.502600Z",
     "iopub.status.busy": "2025-01-16T09:37:16.502511Z",
     "iopub.status.idle": "2025-01-16T09:37:16.507114Z",
     "shell.execute_reply": "2025-01-16T09:37:16.506842Z"
    },
    "slideshow": {
     "slide_type": "subslide"
    }
   },
   "outputs": [],
   "source": [
    "# well, not perfect and probably not very robust. but it works :)\n",
    "def generate_samples_advanced(grammar: Grammar,\n",
    "                     new_input_specifications: List[InputSpecification],\n",
    "                     timeout: int) -> List[str]:\n",
    "\n",
    "    # if there are no input specifications: generate some random samples\n",
    "    if len(new_input_specifications) == 0:\n",
    "        fuzzer = GrammarFuzzer(grammar)\n",
    "        samples = [fuzzer.fuzz() for _ in range(100)]\n",
    "        return samples\n",
    "\n",
    "    final_samples = []\n",
    "    each_spec_timeout = timeout / len(new_input_specifications)\n",
    "\n",
    "    rhs_nonterminals = grammar.keys()# list(chain(*[nonterminals(expansion) for expansion in grammar[rule]]))\n",
    "\n",
    "    fuzzer = GrammarFuzzer(grammar)\n",
    "\n",
    "    for spec in new_input_specifications:\n",
    "        done = False\n",
    "        starttime = time.time()\n",
    "        best_chosen = [fuzzer.fuzz_tree() for _ in range(100)]\n",
    "        done, best_chosen = best_trees(best_chosen, spec, grammar)\n",
    "        if done:\n",
    "            final_samples.append(tree_to_string(best_chosen))\n",
    "\n",
    "        while not done and time.time() - starttime < each_spec_timeout:\n",
    "            # split in prefix, postfix and try to reach targets\n",
    "            for tree in best_chosen:\n",
    "                prefix_len = random.randint(1, 3)\n",
    "                curr = tree\n",
    "                valid = True\n",
    "                for i in range(prefix_len):\n",
    "                    nt, children = curr\n",
    "                    poss_desc_idxs = []\n",
    "                    for c_idx, c in enumerate(children):\n",
    "                        s, _ = c\n",
    "                        possible_descend = s in rhs_nonterminals\n",
    "                        if possible_descend:\n",
    "                            poss_desc_idxs.append(c_idx)\n",
    "                    if len(poss_desc_idxs) < 1:\n",
    "                        valid = False\n",
    "                        break\n",
    "                    desc = random.randint(0, len(poss_desc_idxs) - 1)\n",
    "                    curr = children[poss_desc_idxs[desc]]\n",
    "                if valid:\n",
    "                    nt, _ = curr\n",
    "                    for req in spec.requirements:\n",
    "                        if isinstance(req.feature, NumericInterpretation) and nt == req.feature.key:\n",
    "                            # hacky: generate a derivation tree for this numeric interpretation\n",
    "                            hacky_grammar = copy.deepcopy(grammar)\n",
    "                            hacky_grammar[\"<start>\"] = [nt]\n",
    "                            parser = EarleyParser(hacky_grammar)\n",
    "                            try:\n",
    "                                test = parser.parse(req.value)\n",
    "                                x = list(test)[0]\n",
    "                                _, s = x\n",
    "                                # print(str(s[0]))\n",
    "                                # replace curr in tree with this new tree\n",
    "                                curr = s[0]\n",
    "                            except SyntaxError:\n",
    "                                pass\n",
    "            done, best_chosen = best_trees(best_chosen, spec, grammar)\n",
    "            if done:\n",
    "                final_samples.append(tree_to_string(best_chosen))\n",
    "        if not done:\n",
    "            final_samples.extend([tree_to_string(t) for t in best_chosen])\n",
    "\n",
    "    return final_samples"
   ]
  },
  {
   "cell_type": "markdown",
   "metadata": {
    "slideshow": {
     "slide_type": "subslide"
    }
   },
   "source": [
    "Here's another interesting generator function:"
   ]
  },
  {
   "cell_type": "code",
   "execution_count": 87,
   "metadata": {
    "execution": {
     "iopub.execute_input": "2025-01-16T09:37:16.508448Z",
     "iopub.status.busy": "2025-01-16T09:37:16.508361Z",
     "iopub.status.idle": "2025-01-16T09:37:16.510351Z",
     "shell.execute_reply": "2025-01-16T09:37:16.510141Z"
    },
    "slideshow": {
     "slide_type": "fragment"
    }
   },
   "outputs": [],
   "source": [
    "def generate_samples_random(grammar, new_input_specifications, num):\n",
    "    f = GrammarFuzzer(grammar ,max_nonterminals=50, log=False)\n",
    "    data = []\n",
    "    for _ in range(num):\n",
    "        new_input = f.fuzz()\n",
    "        data.append(new_input)\n",
    "\n",
    "    return data"
   ]
  },
  {
   "cell_type": "code",
   "execution_count": 88,
   "metadata": {
    "execution": {
     "iopub.execute_input": "2025-01-16T09:37:16.511613Z",
     "iopub.status.busy": "2025-01-16T09:37:16.511525Z",
     "iopub.status.idle": "2025-01-16T09:37:16.512997Z",
     "shell.execute_reply": "2025-01-16T09:37:16.512776Z"
    },
    "slideshow": {
     "slide_type": "fragment"
    }
   },
   "outputs": [],
   "source": [
    "generate_samples = generate_samples_advanced"
   ]
  },
  {
   "cell_type": "markdown",
   "metadata": {
    "slideshow": {
     "slide_type": "subslide"
    }
   },
   "source": [
    "### Excursion: Some Tests"
   ]
  },
  {
   "cell_type": "code",
   "execution_count": 89,
   "metadata": {
    "execution": {
     "iopub.execute_input": "2025-01-16T09:37:16.514276Z",
     "iopub.status.busy": "2025-01-16T09:37:16.514190Z",
     "iopub.status.idle": "2025-01-16T09:37:16.680537Z",
     "shell.execute_reply": "2025-01-16T09:37:16.679474Z"
    },
    "slideshow": {
     "slide_type": "subslide"
    }
   },
   "outputs": [
    {
     "name": "stdout",
     "output_type": "stream",
     "text": [
      "--generating samples--\n"
     ]
    },
    {
     "data": {
      "text/plain": [
       "['sqrt(-81743)']"
      ]
     },
     "execution_count": 89,
     "metadata": {},
     "output_type": "execute_result"
    }
   ],
   "source": [
    "exsqrt = ExistenceFeature('exists(<function>@0)', '<function>', 'sqrt')\n",
    "exdigit = ExistenceFeature('exists(<digit>)', '<digit>', '<digit>')\n",
    "\n",
    "reqDigit = SpecRequirement(exdigit, '>', '0.5')\n",
    "fbdDigit = SpecRequirement(exdigit, '<=', '0.5')\n",
    "\n",
    "req0 = SpecRequirement(exsqrt, '>', '-6.0')\n",
    "testspec0 = InputSpecification([req0, reqDigit])\n",
    "req1 = SpecRequirement(exsqrt, '<=', '-6.0')\n",
    "testspec1 = InputSpecification([req1, fbdDigit])\n",
    "\n",
    "numterm = NumericInterpretation('num(<term>)', '<term>')\n",
    "req2 = SpecRequirement(numterm, '<', '-31.0')\n",
    "testspec2 = InputSpecification([req2, req0, reqDigit])\n",
    "\n",
    "print('--generating samples--')\n",
    "# samples = generate_samples(CALC_GRAMMAR, [testspec0, testspec1], 10)\n",
    "samples = generate_samples(CALC_GRAMMAR, [testspec2], 10)\n",
    "samples"
   ]
  },
  {
   "cell_type": "markdown",
   "metadata": {
    "slideshow": {
     "slide_type": "subslide"
    }
   },
   "source": [
    "### End of Excursion"
   ]
  },
  {
   "cell_type": "markdown",
   "metadata": {
    "slideshow": {
     "slide_type": "slide"
    }
   },
   "source": [
    "## Step 5: Executing New Inputs"
   ]
  },
  {
   "cell_type": "markdown",
   "metadata": {
    "slideshow": {
     "slide_type": "fragment"
    }
   },
   "source": [
    "We are almost done! All that is left is putting the above pieces together and create a _loop_ around them."
   ]
  },
  {
   "cell_type": "markdown",
   "metadata": {
    "slideshow": {
     "slide_type": "subslide"
    }
   },
   "source": [
    "### The Alhazen Class\n",
    "\n",
    "We implement a class `Alhazen` that serves as main entry point for our approach."
   ]
  },
  {
   "cell_type": "code",
   "execution_count": 90,
   "metadata": {
    "execution": {
     "iopub.execute_input": "2025-01-16T09:37:16.688624Z",
     "iopub.status.busy": "2025-01-16T09:37:16.688461Z",
     "iopub.status.idle": "2025-01-16T09:37:16.699230Z",
     "shell.execute_reply": "2025-01-16T09:37:16.697549Z"
    },
    "slideshow": {
     "slide_type": "subslide"
    }
   },
   "outputs": [],
   "source": [
    "class Alhazen:\n",
    "    def __init__(self,\n",
    "                 runner: Any,\n",
    "                 grammar: Grammar,\n",
    "                 initial_inputs: List[str], /,\n",
    "                 verbose: bool = False,\n",
    "                 max_iterations: int = 10,\n",
    "                 generator_timeout: int = 10):\n",
    "        self._initial_inputs = initial_inputs\n",
    "        self._runner = runner\n",
    "        self._grammar = grammar\n",
    "        self._verbose = verbose\n",
    "        self._max_iter = max_iterations\n",
    "        self._previous_samples = None\n",
    "        self._data = None\n",
    "        self._trees = []\n",
    "        self._generator_timeout = generator_timeout\n",
    "        self._setup()"
   ]
  },
  {
   "cell_type": "code",
   "execution_count": 91,
   "metadata": {
    "execution": {
     "iopub.execute_input": "2025-01-16T09:37:16.702132Z",
     "iopub.status.busy": "2025-01-16T09:37:16.701966Z",
     "iopub.status.idle": "2025-01-16T09:37:16.706512Z",
     "shell.execute_reply": "2025-01-16T09:37:16.705718Z"
    },
    "slideshow": {
     "slide_type": "subslide"
    }
   },
   "outputs": [],
   "source": [
    "class Alhazen(Alhazen):\n",
    "    def _setup(self):\n",
    "        self._previous_samples = self._initial_inputs\n",
    "\n",
    "        self._all_features = extract_all_features(self._grammar)\n",
    "        self._feature_names = [f.name for f in self._all_features]\n",
    "        if self._verbose:\n",
    "            print(\"Features:\", \", \".join(f.friendly_name()\n",
    "                                         for f in self._all_features))"
   ]
  },
  {
   "cell_type": "code",
   "execution_count": 92,
   "metadata": {
    "execution": {
     "iopub.execute_input": "2025-01-16T09:37:16.708598Z",
     "iopub.status.busy": "2025-01-16T09:37:16.708488Z",
     "iopub.status.idle": "2025-01-16T09:37:16.715708Z",
     "shell.execute_reply": "2025-01-16T09:37:16.715220Z"
    },
    "slideshow": {
     "slide_type": "subslide"
    }
   },
   "outputs": [],
   "source": [
    "class Alhazen(Alhazen):\n",
    "    def _add_new_data(self, exec_data, feature_data):\n",
    "        joined_data = exec_data.join(feature_data.drop(['sample'], axis=1))\n",
    "\n",
    "        # Only add valid data\n",
    "        new_data = joined_data[(joined_data['oracle'] != OracleResult.UNDEF)]\n",
    "        new_data = joined_data.drop(joined_data[joined_data.oracle.astype(str) == \"UNDEF\"].index)\n",
    "        if 0 != len(new_data):\n",
    "            if self._data is None:\n",
    "                self._data = new_data\n",
    "            else:\n",
    "                self._data = pandas.concat([self._data, new_data], sort=False)"
   ]
  },
  {
   "cell_type": "code",
   "execution_count": 93,
   "metadata": {
    "execution": {
     "iopub.execute_input": "2025-01-16T09:37:16.717940Z",
     "iopub.status.busy": "2025-01-16T09:37:16.717791Z",
     "iopub.status.idle": "2025-01-16T09:37:16.727597Z",
     "shell.execute_reply": "2025-01-16T09:37:16.726061Z"
    },
    "slideshow": {
     "slide_type": "subslide"
    }
   },
   "outputs": [],
   "source": [
    "class Alhazen(Alhazen):\n",
    "    def execute_samples(self, sample_list = None):\n",
    "        if sample_list is None:\n",
    "            sample_list = self._initial_inputs\n",
    "\n",
    "        data = []\n",
    "        for sample in sample_list:\n",
    "            result = self._runner(sample)\n",
    "            data.append({\"oracle\": result })\n",
    "\n",
    "        return pandas.DataFrame.from_records(data)"
   ]
  },
  {
   "cell_type": "code",
   "execution_count": 94,
   "metadata": {
    "execution": {
     "iopub.execute_input": "2025-01-16T09:37:16.730177Z",
     "iopub.status.busy": "2025-01-16T09:37:16.730013Z",
     "iopub.status.idle": "2025-01-16T09:37:16.733719Z",
     "shell.execute_reply": "2025-01-16T09:37:16.732977Z"
    },
    "slideshow": {
     "slide_type": "subslide"
    }
   },
   "outputs": [],
   "source": [
    "class Alhazen(Alhazen):\n",
    "    def run(self):\n",
    "        for iteration in range(1, self._max_iter + 1):\n",
    "            if self._verbose:\n",
    "                print(f\"\\nIteration #{iteration}\")\n",
    "            self._iterate(self._previous_samples)"
   ]
  },
  {
   "cell_type": "code",
   "execution_count": 95,
   "metadata": {
    "execution": {
     "iopub.execute_input": "2025-01-16T09:37:16.737768Z",
     "iopub.status.busy": "2025-01-16T09:37:16.737594Z",
     "iopub.status.idle": "2025-01-16T09:37:16.741927Z",
     "shell.execute_reply": "2025-01-16T09:37:16.740843Z"
    },
    "slideshow": {
     "slide_type": "fragment"
    }
   },
   "outputs": [],
   "source": [
    "class Alhazen(Alhazen):\n",
    "    def all_trees(self, /, prune: bool = True):\n",
    "        trees = self._trees\n",
    "        if prune:\n",
    "            trees = [remove_unequal_decisions(tree) for tree in self._trees]\n",
    "        return trees\n",
    "\n",
    "    def last_tree(self, /, prune: bool = True):\n",
    "        return self.all_trees(prune=prune)[-1]"
   ]
  },
  {
   "cell_type": "code",
   "execution_count": 96,
   "metadata": {
    "execution": {
     "iopub.execute_input": "2025-01-16T09:37:16.744849Z",
     "iopub.status.busy": "2025-01-16T09:37:16.744647Z",
     "iopub.status.idle": "2025-01-16T09:37:16.748984Z",
     "shell.execute_reply": "2025-01-16T09:37:16.748274Z"
    },
    "slideshow": {
     "slide_type": "subslide"
    }
   },
   "outputs": [],
   "source": [
    "class Alhazen(Alhazen):\n",
    "    def _iterate(self, sample_list):\n",
    "        # Run samples, obtain test outcomes\n",
    "        exec_data = self.execute_samples(sample_list)\n",
    "\n",
    "        # Step 1: Extract features from the new samples\n",
    "        feature_data = collect_features(sample_list, self._grammar)\n",
    "\n",
    "        # Combine the new data with the already existing data\n",
    "        self._add_new_data(exec_data, feature_data)\n",
    "        # display(self._data)\n",
    "\n",
    "        # Step 2: Train the Decision Tree Classifier\n",
    "        dec_tree = train_tree(self._data)\n",
    "        self._trees.append(dec_tree)\n",
    "\n",
    "        if self._verbose:\n",
    "            print(\"  Decision Tree:\")\n",
    "            all_features = extract_all_features(self._grammar)\n",
    "            all_feature_names = [f.friendly_name() for f in all_features]\n",
    "            print(friendly_decision_tree(dec_tree, all_feature_names, indent=4))\n",
    "\n",
    "        # Step 3: Extract new requirements from the tree\n",
    "        new_input_specifications = get_all_input_specifications(dec_tree,\n",
    "                                                self._all_features,\n",
    "                                                self._feature_names,\n",
    "                                                self._data.drop(['oracle'], axis=1))\n",
    "        if self._verbose:\n",
    "            print(f\"  New input specifications:\")\n",
    "            for spec in new_input_specifications:\n",
    "                print(f\"    {spec.friendly()}\")\n",
    "\n",
    "        # Step 4: Generate new inputs according to the new input specifications\n",
    "        new_samples = generate_samples(self._grammar,\n",
    "                                       new_input_specifications,\n",
    "                                       self._generator_timeout)\n",
    "        if self._verbose:\n",
    "            print(f\"  New samples:\")\n",
    "            print(f\"    {', '.join(new_samples)}\")\n",
    "\n",
    "        self._previous_samples = new_samples"
   ]
  },
  {
   "cell_type": "code",
   "execution_count": 97,
   "metadata": {
    "execution": {
     "iopub.execute_input": "2025-01-16T09:37:16.751834Z",
     "iopub.status.busy": "2025-01-16T09:37:16.751543Z",
     "iopub.status.idle": "2025-01-16T09:37:16.754498Z",
     "shell.execute_reply": "2025-01-16T09:37:16.754210Z"
    },
    "slideshow": {
     "slide_type": "subslide"
    }
   },
   "outputs": [],
   "source": [
    "class Alhazen(Alhazen):\n",
    "    def all_feature_names(self, friendly: bool = True) -> List[str]:\n",
    "        if friendly:\n",
    "            all_feature_names = [f.friendly_name() for f in self._all_features]\n",
    "        else:\n",
    "            all_feature_names = [f.name for f in self._all_features]\n",
    "        return all_feature_names"
   ]
  },
  {
   "cell_type": "code",
   "execution_count": 98,
   "metadata": {
    "execution": {
     "iopub.execute_input": "2025-01-16T09:37:16.755895Z",
     "iopub.status.busy": "2025-01-16T09:37:16.755777Z",
     "iopub.status.idle": "2025-01-16T09:37:16.757868Z",
     "shell.execute_reply": "2025-01-16T09:37:16.757612Z"
    },
    "slideshow": {
     "slide_type": "fragment"
    }
   },
   "outputs": [],
   "source": [
    "class Alhazen(Alhazen):\n",
    "    def show_decision_tree(self, tree = None, friendly: bool = True):\n",
    "        return show_decision_tree(tree or self.last_tree(),\n",
    "                                  self.all_feature_names())"
   ]
  },
  {
   "cell_type": "code",
   "execution_count": 99,
   "metadata": {
    "execution": {
     "iopub.execute_input": "2025-01-16T09:37:16.759565Z",
     "iopub.status.busy": "2025-01-16T09:37:16.759394Z",
     "iopub.status.idle": "2025-01-16T09:37:16.762627Z",
     "shell.execute_reply": "2025-01-16T09:37:16.762268Z"
    },
    "slideshow": {
     "slide_type": "fragment"
    }
   },
   "outputs": [],
   "source": [
    "class Alhazen(Alhazen):\n",
    "    def friendly_decision_tree(self, tree = None):\n",
    "        return friendly_decision_tree(tree or self.last_tree(),\n",
    "                                      self.all_feature_names())"
   ]
  },
  {
   "cell_type": "markdown",
   "metadata": {
    "slideshow": {
     "slide_type": "slide"
    }
   },
   "source": [
    "## A Sample Run"
   ]
  },
  {
   "cell_type": "markdown",
   "metadata": {
    "slideshow": {
     "slide_type": "fragment"
    }
   },
   "source": [
    "We can finally run _Alhazen_!"
   ]
  },
  {
   "cell_type": "markdown",
   "metadata": {
    "slideshow": {
     "slide_type": "fragment"
    }
   },
   "source": [
    "Set the number of refinement iterations and the timeout for the input generator.\n",
    "The execution time of Alhazen mainly depends on the number of iterations."
   ]
  },
  {
   "cell_type": "code",
   "execution_count": 100,
   "metadata": {
    "execution": {
     "iopub.execute_input": "2025-01-16T09:37:16.764362Z",
     "iopub.status.busy": "2025-01-16T09:37:16.764247Z",
     "iopub.status.idle": "2025-01-16T09:37:16.766600Z",
     "shell.execute_reply": "2025-01-16T09:37:16.766146Z"
    },
    "slideshow": {
     "slide_type": "fragment"
    }
   },
   "outputs": [],
   "source": [
    "MAX_ITERATIONS = 20\n",
    "GENERATOR_TIMEOUT = 10 # timeout in seconds"
   ]
  },
  {
   "cell_type": "markdown",
   "metadata": {
    "slideshow": {
     "slide_type": "fragment"
    }
   },
   "source": [
    "We initialize Alhazen with the previously used `initial_sample_list`:"
   ]
  },
  {
   "cell_type": "code",
   "execution_count": 101,
   "metadata": {
    "execution": {
     "iopub.execute_input": "2025-01-16T09:37:16.768549Z",
     "iopub.status.busy": "2025-01-16T09:37:16.768423Z",
     "iopub.status.idle": "2025-01-16T09:37:16.771403Z",
     "shell.execute_reply": "2025-01-16T09:37:16.770736Z"
    },
    "slideshow": {
     "slide_type": "fragment"
    }
   },
   "outputs": [
    {
     "data": {
      "text/plain": [
       "['sqrt(-16)', 'sqrt(4)']"
      ]
     },
     "execution_count": 101,
     "metadata": {},
     "output_type": "execute_result"
    }
   ],
   "source": [
    "initial_sample_list"
   ]
  },
  {
   "cell_type": "markdown",
   "metadata": {
    "slideshow": {
     "slide_type": "subslide"
    }
   },
   "source": [
    "And here we go! When initialized with `verbose=True`, Alhazen prints its progress during execution, issuing for each iteration\n",
    "\n",
    "* the last decision tree\n",
    "* the new input specification resulting from the tree\n",
    "* the new samples satisfying the input specification."
   ]
  },
  {
   "cell_type": "code",
   "execution_count": 102,
   "metadata": {
    "execution": {
     "iopub.execute_input": "2025-01-16T09:37:16.773125Z",
     "iopub.status.busy": "2025-01-16T09:37:16.772991Z",
     "iopub.status.idle": "2025-01-16T09:38:28.403812Z",
     "shell.execute_reply": "2025-01-16T09:38:28.403528Z"
    },
    "slideshow": {
     "slide_type": "subslide"
    }
   },
   "outputs": [
    {
     "name": "stdout",
     "output_type": "stream",
     "text": [
      "Features: exists(<start>), <start> == '<function>(<term>)', exists(<function>), <function> == 'sqrt', <function> == 'tan', <function> == 'cos', <function> == 'sin', exists(<term>), <term> == '-<value>', <term> == '<value>', exists(<value>), <value> == '<integer>.<digits>', <value> == '<integer>', exists(<integer>), <integer> == '<lead-digit><digits>', <integer> == '<digit>', exists(<digits>), <digits> == '<digit><digits>', <digits> == '<digit>', exists(<lead-digit>), <lead-digit> == '1', <lead-digit> == '2', <lead-digit> == '3', <lead-digit> == '4', <lead-digit> == '5', <lead-digit> == '6', <lead-digit> == '7', <lead-digit> == '8', <lead-digit> == '9', exists(<digit>), <digit> == '0', <digit> == '1', <digit> == '2', <digit> == '3', <digit> == '4', <digit> == '5', <digit> == '6', <digit> == '7', <digit> == '8', <digit> == '9', <term>, <value>, <lead-digit>, <digit>, <integer>, <digits>\n",
      "\n",
      "Iteration #1\n",
      "  Decision Tree:\n",
      "    if <value> <= 10.0000:\n",
      "      NO_BUG\n",
      "    else:\n",
      "      BUG\n",
      "\n",
      "  New input specifications:\n",
      "    <value> <= 10.0\n",
      "    <value> > 10.0\n"
     ]
    },
    {
     "name": "stdout",
     "output_type": "stream",
     "text": [
      "  New samples:\n",
      "    sqrt(-5), sin(87)\n",
      "\n",
      "Iteration #2\n",
      "  Decision Tree:\n",
      "    if <digit> == '6':\n",
      "      BUG\n",
      "    else:\n",
      "      NO_BUG\n",
      "\n",
      "  New input specifications:\n",
      "    <digit> == '6'\n",
      "    <digit> == '6'\n"
     ]
    },
    {
     "name": "stdout",
     "output_type": "stream",
     "text": [
      "  New samples:\n",
      "    sqrt(-8), tan(-856427.34926)\n",
      "\n",
      "Iteration #3\n",
      "  Decision Tree:\n",
      "    if <lead-digit> == '1':\n",
      "      BUG\n",
      "    else:\n",
      "      NO_BUG\n",
      "\n",
      "  New input specifications:\n",
      "    <lead-digit> == '1'\n",
      "    <lead-digit> == '1'\n"
     ]
    },
    {
     "name": "stdout",
     "output_type": "stream",
     "text": [
      "  New samples:\n",
      "    sin(-17.6), sqrt(-9)\n",
      "\n",
      "Iteration #4\n",
      "  Decision Tree:\n",
      "    if <digits> <= 6.5000:\n",
      "      BUG\n",
      "    else:\n",
      "      NO_BUG\n",
      "\n",
      "  New input specifications:\n",
      "    <digits> <= 6.5\n",
      "    <digits> > 6.5\n"
     ]
    },
    {
     "name": "stdout",
     "output_type": "stream",
     "text": [
      "  New samples:\n",
      "    tan(-94), cos(8.8)\n",
      "\n",
      "Iteration #5\n",
      "  Decision Tree:\n",
      "    if <lead-digit> == '1':\n",
      "      if <term> <= -16.8000:\n",
      "        NO_BUG\n",
      "      else:\n",
      "        BUG\n",
      "    else:\n",
      "      if exists(<lead-digit>):\n",
      "        NO_BUG\n",
      "      else:\n",
      "        NO_BUG\n",
      "\n",
      "  New input specifications:\n",
      "    exists(<lead-digit>) and <lead-digit> == '1'\n",
      "    exists(<lead-digit>) and <lead-digit> == '1'\n",
      "    exists(<lead-digit>) and <lead-digit> == '1'\n",
      "    <lead-digit> == '1' and <term> <= -16.800000190734863\n",
      "    exists(<lead-digit>) and <lead-digit> == '1'\n",
      "    <lead-digit> == '1' and <term> > -16.800000190734863\n",
      "    <lead-digit> == '1' and <term> <= -16.800000190734863\n",
      "    <lead-digit> == '1' and <term> > -16.800000190734863\n"
     ]
    },
    {
     "name": "stdout",
     "output_type": "stream",
     "text": [
      "  New samples:\n",
      "    tan(4.9), cos(-4), cos(3.6), sin(-9.3171), cos(6), tan(4), cos(-0.27723), sqrt(-7), sin(-2.581), cos(-1), sqrt(-3), sin(-3.3), tan(-4.3), sqrt(-5.24), sqrt(-18.163), sqrt(-0), tan(1.9), sqrt(-4), tan(6.0074), sin(0), tan(-7.3), tan(-6), cos(5.9), sqrt(0), sin(7.870508), cos(-0.36), tan(8), sin(-5.16483458), tan(-8.1), sqrt(0.80), tan(8.6), sin(-2.5), sin(3.3), sqrt(-14), sqrt(-1416), sin(7), tan(2), tan(-8), sin(3.00660), sqrt(4.42), cos(-3.9), sqrt(-6.74), tan(-9), tan(-5.5), tan(0), cos(-133.4), sqrt(-2), tan(5.7784375), cos(-9), sin(-1573), sqrt(-4), sin(5.04), sin(1.00), sqrt(-5), cos(0), tan(-1.90), cos(-2), cos(-3.6), tan(8.67), cos(-0.23977), cos(5.9), cos(16.2), tan(-3.368), sqrt(90495), sin(-12.3), sin(-41.3), tan(1), sin(15.93), sin(-125.98), tan(-8)\n",
      "\n",
      "Iteration #6\n",
      "  Decision Tree:\n",
      "    if <term> <= -13.1500:\n",
      "      if <integer> <= 29.5000:\n",
      "        if <function> == 'sqrt':\n",
      "          BUG\n",
      "        else:\n",
      "          NO_BUG\n",
      "      else:\n",
      "        NO_BUG\n",
      "    else:\n",
      "      NO_BUG\n",
      "\n"
     ]
    },
    {
     "name": "stdout",
     "output_type": "stream",
     "text": [
      "  New input specifications:\n",
      "    <function> == 'sqrt' and <integer> <= 29.5 and <term> > -13.150000095367432\n",
      "    <function> == 'sqrt' and <integer> <= 29.5 and <term> > -13.150000095367432\n",
      "    <function> == 'sqrt' and <integer> > 29.5 and <term> <= -13.150000095367432\n",
      "    <integer> > 29.5 and <term> <= -13.150000095367432\n",
      "    <term> > -13.150000095367432\n",
      "    <function> == 'sqrt' and <integer> <= 29.5 and <term> <= -13.150000095367432\n",
      "    <term> <= -13.150000095367432\n",
      "    <integer> <= 29.5 and <term> <= -13.150000095367432\n",
      "    <integer> > 29.5 and <term> > -13.150000095367432\n",
      "    <function> == 'sqrt' and <integer> <= 29.5 and <term> <= -13.150000095367432\n",
      "    <function> == 'sqrt' and <integer> > 29.5 and <term> > -13.150000095367432\n",
      "    <function> == 'sqrt' and <integer> > 29.5 and <term> > -13.150000095367432\n",
      "    <function> == 'sqrt' and <integer> > 29.5 and <term> <= -13.150000095367432\n"
     ]
    },
    {
     "name": "stdout",
     "output_type": "stream",
     "text": [
      "  New samples:\n",
      "    sqrt(7), tan(-5), cos(-8499.700), sqrt(-82.9), sqrt(75572), tan(-21.261), cos(-90), sqrt(-26), sin(8161.86), sqrt(3.43430260), sqrt(-467), tan(-27.441), sqrt(8), sqrt(5), sqrt(-7), sqrt(-13), sqrt(0), sqrt(-18111), sqrt(-5009), sqrt(-2), sqrt(-6476), sqrt(6), sqrt(-8), sqrt(-214.433), sqrt(8.1), sqrt(2.02), sqrt(-491), sqrt(-3), sqrt(-4), sqrt(-48.56), sqrt(8), sqrt(-9.1851), tan(8253), sqrt(211124), sqrt(-59.50573)\n",
      "\n",
      "Iteration #7\n",
      "  Decision Tree:\n",
      "    if <lead-digit> <= 3.0000:\n",
      "      if <function> == 'sqrt':\n",
      "        if <value> <= 120.2165:\n",
      "          if <value> == '<integer>':\n",
      "            BUG\n",
      "          else:\n",
      "            BUG\n",
      "        else:\n",
      "          NO_BUG\n",
      "      else:\n",
      "        NO_BUG\n",
      "    else:\n",
      "      NO_BUG\n",
      "\n"
     ]
    },
    {
     "name": "stdout",
     "output_type": "stream",
     "text": [
      "  New input specifications:\n",
      "    <function> == 'sqrt' and <lead-digit> <= 3.0 and <value> <= 120.21649932861328\n",
      "    <function> == 'sqrt' and <value> == '<integer>' and <lead-digit> <= 3.0 and <value> <= 120.21649932861328\n",
      "    <function> == 'sqrt' and <value> == '<integer>' and <lead-digit> > 3.0 and <value> <= 120.21649932861328\n",
      "    <function> == 'sqrt' and <lead-digit> > 3.0\n",
      "    <function> == 'sqrt' and <value> == '<integer>' and <lead-digit> > 3.0 and <value> > 120.21649932861328\n",
      "    <function> == 'sqrt' and <lead-digit> <= 3.0\n",
      "    <function> == 'sqrt' and <lead-digit> <= 3.0\n",
      "    <function> == 'sqrt' and <value> == '<integer>' and <lead-digit> <= 3.0 and <value> > 120.21649932861328\n",
      "    <lead-digit> <= 3.0\n",
      "    <function> == 'sqrt' and <value> == '<integer>' and <lead-digit> > 3.0 and <value> > 120.21649932861328\n",
      "    <function> == 'sqrt' and <lead-digit> > 3.0 and <value> > 120.21649932861328\n",
      "    <function> == 'sqrt' and <lead-digit> > 3.0 and <value> <= 120.21649932861328\n",
      "    <function> == 'sqrt' and <value> == '<integer>' and <lead-digit> <= 3.0 and <value> <= 120.21649932861328\n",
      "    <function> == 'sqrt' and <value> == '<integer>' and <lead-digit> <= 3.0 and <value> > 120.21649932861328\n",
      "    <function> == 'sqrt' and <lead-digit> <= 3.0 and <value> > 120.21649932861328\n",
      "    <lead-digit> > 3.0\n",
      "    <function> == 'sqrt' and <value> == '<integer>' and <lead-digit> > 3.0 and <value> <= 120.21649932861328\n"
     ]
    },
    {
     "name": "stdout",
     "output_type": "stream",
     "text": [
      "  New samples:\n",
      "    sqrt(31.86), sqrt(94.33), sqrt(-97.1), sqrt(-266.21529), sqrt(62.4), sin(-31.96), sqrt(-1.4), sin(30.9), sqrt(36), cos(-28.86), sqrt(-9.1), sqrt(75.627), sqrt(80.74), cos(58), sqrt(-18717.5562), tan(52699772746.0), sin(866384.7), sqrt(-49003), sqrt(-81.3), cos(5252.70), tan(989.723), sin(-529943.62), sqrt(-758237), tan(9324170.3), sin(-67719.6460), sqrt(54.37483), sqrt(6807), tan(9902.6), sqrt(34293.162), cos(-947.7), cos(940.94), cos(-253308.45), sqrt(301), sqrt(206.6), cos(133.8296), sqrt(5684), sqrt(-654), sqrt(-92.8), sqrt(-93), tan(35), sqrt(6), sqrt(-8), sqrt(6), sqrt(6), sqrt(-6), sqrt(-7), sqrt(93), tan(-23), sqrt(8), sqrt(17.50), cos(-15), sqrt(48), sqrt(0), tan(33), sqrt(165086), sqrt(395), sqrt(130.3), tan(-681146.8633), sqrt(80)\n",
      "\n",
      "Iteration #8\n",
      "  Decision Tree:\n",
      "    if <lead-digit> <= 2.5000:\n",
      "      if <integer> <= 26.5000:\n",
      "        if <function> == 'sqrt':\n",
      "          if <term> == '-<value>':\n",
      "            BUG\n",
      "          else:\n",
      "            NO_BUG\n",
      "        else:\n",
      "          if <function> == 'sin':\n",
      "            NO_BUG\n",
      "          else:\n",
      "            NO_BUG\n",
      "      else:\n",
      "        NO_BUG\n",
      "    else:\n",
      "      if <digit> == '4':\n",
      "        NO_BUG\n",
      "      else:\n",
      "        NO_BUG\n",
      "\n"
     ]
    },
    {
     "name": "stdout",
     "output_type": "stream",
     "text": [
      "  New input specifications:\n",
      "    <digit> == '4' and <lead-digit> <= 2.5\n",
      "    <function> == 'sqrt' and <function> == 'sin' and <integer> > 26.5 and <lead-digit> <= 2.5\n",
      "    <function> == 'sqrt' and <term> == '-<value>' and <integer> > 26.5 and <lead-digit> > 2.5\n",
      "    <digit> == '4' and <lead-digit> > 2.5\n",
      "    <function> == 'sqrt' and <function> == 'sin' and <integer> <= 26.5 and <lead-digit> <= 2.5\n",
      "    <digit> == '4' and <lead-digit> > 2.5\n",
      "    <function> == 'sqrt' and <term> == '-<value>' and <integer> <= 26.5 and <lead-digit> <= 2.5\n",
      "    <function> == 'sqrt' and <term> == '-<value>' and <integer> > 26.5 and <lead-digit> > 2.5\n",
      "    <integer> <= 26.5 and <lead-digit> <= 2.5\n",
      "    <function> == 'sqrt' and <term> == '-<value>' and <integer> <= 26.5 and <lead-digit> > 2.5\n",
      "    <digit> == '4' and <lead-digit> <= 2.5\n",
      "    <integer> > 26.5 and <lead-digit> > 2.5\n",
      "    <function> == 'sqrt' and <term> == '-<value>' and <integer> > 26.5 and <lead-digit> <= 2.5\n",
      "    <function> == 'sqrt' and <function> == 'sin' and <integer> > 26.5 and <lead-digit> > 2.5\n",
      "    <integer> > 26.5 and <lead-digit> <= 2.5\n",
      "    <function> == 'sqrt' and <function> == 'sin' and <integer> > 26.5 and <lead-digit> > 2.5\n",
      "    <function> == 'sqrt' and <term> == '-<value>' and <integer> > 26.5 and <lead-digit> <= 2.5\n",
      "    <function> == 'sqrt' and <term> == '-<value>' and <integer> <= 26.5 and <lead-digit> <= 2.5\n",
      "    <function> == 'sqrt' and <term> == '-<value>' and <integer> <= 26.5 and <lead-digit> > 2.5\n",
      "    <function> == 'sqrt' and <function> == 'sin' and <integer> <= 26.5 and <lead-digit> <= 2.5\n",
      "    <function> == 'sqrt' and <function> == 'sin' and <integer> > 26.5 and <lead-digit> <= 2.5\n",
      "    <function> == 'sqrt' and <function> == 'sin' and <integer> <= 26.5 and <lead-digit> > 2.5\n",
      "    <function> == 'sqrt' and <function> == 'sin' and <integer> <= 26.5 and <lead-digit> > 2.5\n"
     ]
    },
    {
     "name": "stdout",
     "output_type": "stream",
     "text": [
      "  New samples:\n",
      "    tan(-27.45437), sin(14570937.16), sqrt(-7144), sqrt(-4591134), cos(13), sin(5), sin(-9), sin(29.2), cos(-14), sin(177), sin(-3), sin(1), sin(187.709), sin(1327), sin(-8), sin(5.7575), sin(-6.098), sqrt(-63), sqrt(1), cos(14), sin(22.79), sqrt(-21.210), tan(21.5), sin(14.85), sqrt(13172.9), tan(19.581), sqrt(4.59), tan(12.4), sqrt(9288.343), cos(-10), sqrt(3.53), sqrt(45719), sqrt(1), sqrt(58.8), sqrt(9172), sqrt(1), sqrt(12.6), sqrt(96229), sqrt(5.5), sqrt(44), cos(-13.65), cos(495.9), cos(170), sqrt(85524), sqrt(39), tan(64.5), tan(-1618), sin(3349), sqrt(2797), sqrt(-30), sqrt(-7889.4), sin(-184), sqrt(-15), sin(-28), sqrt(-16), sqrt(-57.0906), sqrt(-3.04), sqrt(-6.2), sqrt(-3), sqrt(-2.7), sqrt(-47.3), sqrt(-6), sqrt(-59), sqrt(-7.6), sqrt(-8.36), sqrt(-42.8), sqrt(-7.77), sqrt(-90), sqrt(-7.064), cos(26.0), cos(-27719790.4), sin(-9.83), sin(-899), sin(8), sin(2.04105), sin(8), sin(469.8), sin(-6.0996), sin(6), sin(2.8), sin(-77.78), sin(0.3), sin(9), sin(-861.51), sin(-82.39), sin(69.3), sin(5), sin(-70.928), cos(3), cos(-6.2), tan(7.54), tan(-920.56), tan(-682527.274), tan(7327), cos(-4.11978), cos(8.4), cos(8), cos(-62.1), tan(-8.7), cos(693.00), cos(-3), tan(7), cos(17), cos(4), tan(3.755999), tan(-5), tan(5.8), tan(-8.7), tan(2.8013), tan(-74), cos(73.1), tan(-8), cos(-598), cos(-12.3), cos(521.2), tan(6), cos(616.382), tan(-5.80), cos(6234.2), tan(-0), tan(-9.3), cos(-804167687.8), tan(0.0), cos(6.1), cos(-18.4), cos(-3.5737), cos(67.6), cos(-1.5), cos(92.52), tan(-427208894.1), cos(853219), cos(-0), cos(2), tan(384), cos(2), cos(37), cos(0), tan(-8345.3), cos(-32.2)\n",
      "\n",
      "Iteration #9\n",
      "  Decision Tree:\n",
      "    if <lead-digit> <= 3.5000:\n",
      "      if <function> == 'sqrt':\n",
      "        if <integer> <= 30.5000:\n",
      "          if <term> == '<value>':\n",
      "            if <digit> == '2':\n",
      "              NO_BUG\n",
      "            else:\n",
      "              NO_BUG\n",
      "          else:\n",
      "            BUG\n",
      "        else:\n",
      "          NO_BUG\n",
      "      else:\n",
      "        NO_BUG\n",
      "    else:\n",
      "      if <lead-digit> == '7':\n",
      "        NO_BUG\n",
      "      else:\n",
      "        NO_BUG\n",
      "\n"
     ]
    },
    {
     "name": "stdout",
     "output_type": "stream",
     "text": [
      "  New input specifications:\n",
      "    <digit> == '2' and <function> == 'sqrt' and <term> == '<value>' and <integer> > 30.5 and <lead-digit> > 3.5\n",
      "    <function> == 'sqrt' and <lead-digit> <= 3.5\n",
      "    <digit> == '2' and <function> == 'sqrt' and <term> == '<value>' and <integer> > 30.5 and <lead-digit> > 3.5\n",
      "    <digit> == '2' and <function> == 'sqrt' and <term> == '<value>' and <integer> <= 30.5 and <lead-digit> <= 3.5\n",
      "    <lead-digit> == '7' and <lead-digit> > 3.5\n",
      "    <digit> == '2' and <function> == 'sqrt' and <term> == '<value>' and <integer> > 30.5 and <lead-digit> <= 3.5\n",
      "    <function> == 'sqrt' and <integer> <= 30.5 and <lead-digit> > 3.5\n",
      "    <lead-digit> == '7' and <lead-digit> <= 3.5\n",
      "    <function> == 'sqrt' and <term> == '<value>' and <integer> <= 30.5 and <lead-digit> <= 3.5\n",
      "    <lead-digit> == '7' and <lead-digit> > 3.5\n",
      "    <function> == 'sqrt' and <term> == '<value>' and <integer> > 30.5 and <lead-digit> <= 3.5\n",
      "    <function> == 'sqrt' and <lead-digit> <= 3.5\n",
      "    <function> == 'sqrt' and <term> == '<value>' and <integer> <= 30.5 and <lead-digit> <= 3.5\n",
      "    <digit> == '2' and <function> == 'sqrt' and <term> == '<value>' and <integer> <= 30.5 and <lead-digit> > 3.5\n",
      "    <lead-digit> == '7' and <lead-digit> <= 3.5\n",
      "    <digit> == '2' and <function> == 'sqrt' and <term> == '<value>' and <integer> > 30.5 and <lead-digit> <= 3.5\n",
      "    <function> == 'sqrt' and <integer> > 30.5 and <lead-digit> > 3.5\n",
      "    <function> == 'sqrt' and <integer> > 30.5 and <lead-digit> <= 3.5\n",
      "    <function> == 'sqrt' and <term> == '<value>' and <integer> <= 30.5 and <lead-digit> > 3.5\n",
      "    <function> == 'sqrt' and <integer> <= 30.5 and <lead-digit> <= 3.5\n",
      "    <digit> == '2' and <function> == 'sqrt' and <term> == '<value>' and <integer> <= 30.5 and <lead-digit> > 3.5\n",
      "    <function> == 'sqrt' and <lead-digit> > 3.5\n",
      "    <digit> == '2' and <function> == 'sqrt' and <term> == '<value>' and <integer> <= 30.5 and <lead-digit> <= 3.5\n",
      "    <function> == 'sqrt' and <term> == '<value>' and <integer> > 30.5 and <lead-digit> > 3.5\n"
     ]
    },
    {
     "name": "stdout",
     "output_type": "stream",
     "text": [
      "  New samples:\n",
      "    sqrt(852), sqrt(38.986), sqrt(63), sqrt(5), sqrt(9), sqrt(7.34), cos(26.44), sqrt(3), sqrt(4.31), sqrt(190.15), sqrt(0), sqrt(-59), sqrt(35.7969), sqrt(-1.605300), sqrt(14), sqrt(-0), sqrt(-5), sqrt(-85.9), sqrt(583), sqrt(-96), sqrt(-8.0), sqrt(-6), sqrt(7), sqrt(6), sqrt(-4), sqrt(-837739), sqrt(-8.5), sqrt(-4), sqrt(-8.07), sqrt(-0.8711), sqrt(3.02), sqrt(-4.47), sqrt(-21), sqrt(8.52), sqrt(-0), sqrt(6.0), sqrt(6.3), sqrt(-80), sqrt(-9), sin(-31.14), sqrt(20.3), tan(-704), sqrt(-10178.7107), cos(-21578), sqrt(-10.9), sqrt(6.6), sqrt(6.1459105974), sqrt(535), sqrt(6.541), sqrt(7.9), sqrt(7.0), cos(2069.4), sqrt(-71.1), cos(129), tan(3701.9), tan(13.648), tan(35.0), sin(-75), tan(28.64), tan(37589.7500), tan(-271.270), cos(-18.163805), sin(270.998), sin(21), cos(100.76), sqrt(29), tan(14.0), sin(2631.3), tan(35.3), sqrt(334), sin(112), sqrt(36), sqrt(181.13), sqrt(-1720.2), cos(2263), sqrt(81.02), sqrt(-749), sqrt(95082.0), sqrt(-75.7), sqrt(-6853.5418911), sqrt(871.80), sqrt(75), sin(34011), tan(-248), sqrt(18.72080), cos(327), sqrt(807.6), sqrt(91.153), sqrt(81047), sqrt(-11.86), sin(273), sqrt(6439), tan(-342.8), tan(2624649.5), sqrt(-4), sqrt(-5.81), sqrt(-0), sqrt(-7.6), sqrt(-566), sqrt(-43.3372), sqrt(27.23), cos(45.520), tan(2.538), sqrt(5), sqrt(7.5), sqrt(5.8), cos(52.2), sin(2), sin(22), sin(802), tan(2.184), sqrt(63), tan(966112), sqrt(9), cos(2.815), sqrt(64), sqrt(8), sqrt(4.4), sin(700273), sqrt(30), tan(82.40), cos(-51228.85), sqrt(2.946), sqrt(302552.5), sqrt(-88)\n",
      "\n",
      "Iteration #10\n",
      "  Decision Tree:\n",
      "    if <term> <= -12.6500:\n",
      "      if <value> <= 30.5700:\n",
      "        if <function> == 'sqrt':\n",
      "          BUG\n",
      "        else:\n",
      "          NO_BUG\n",
      "      else:\n",
      "        NO_BUG\n",
      "    else:\n",
      "      NO_BUG\n",
      "\n"
     ]
    },
    {
     "name": "stdout",
     "output_type": "stream",
     "text": [
      "  New input specifications:\n",
      "    <function> == 'sqrt' and <term> > -12.650000095367432 and <value> <= 30.56999969482422\n",
      "    <function> == 'sqrt' and <term> > -12.650000095367432 and <value> > 30.56999969482422\n",
      "    <term> <= -12.650000095367432 and <value> > 30.56999969482422\n",
      "    <term> > -12.650000095367432\n",
      "    <term> <= -12.650000095367432 and <value> <= 30.56999969482422\n",
      "    <function> == 'sqrt' and <term> > -12.650000095367432 and <value> > 30.56999969482422\n",
      "    <function> == 'sqrt' and <term> <= -12.650000095367432 and <value> <= 30.56999969482422\n",
      "    <term> > -12.650000095367432 and <value> > 30.56999969482422\n",
      "    <function> == 'sqrt' and <term> <= -12.650000095367432 and <value> > 30.56999969482422\n",
      "    <function> == 'sqrt' and <term> <= -12.650000095367432 and <value> > 30.56999969482422\n",
      "    <function> == 'sqrt' and <term> > -12.650000095367432 and <value> <= 30.56999969482422\n",
      "    <function> == 'sqrt' and <term> <= -12.650000095367432 and <value> <= 30.56999969482422\n",
      "    <term> <= -12.650000095367432\n"
     ]
    },
    {
     "name": "stdout",
     "output_type": "stream",
     "text": [
      "  New samples:\n",
      "    sqrt(9), tan(46.7), cos(-9124), tan(-5), sqrt(-14), sqrt(380), cos(-19.61), cos(355.6), sqrt(-89), sin(-3500), tan(-8.18), sqrt(-14.680), cos(-381226)\n",
      "\n",
      "Iteration #11\n",
      "  Decision Tree:\n",
      "    if <term> <= -12.6500:\n",
      "      if <term> <= -30.5700:\n",
      "        if <function> == 'cos':\n",
      "          NO_BUG\n",
      "        else:\n",
      "          NO_BUG\n",
      "      else:\n",
      "        if <function> == 'sqrt':\n",
      "          if <value> == '<integer>':\n",
      "            BUG\n",
      "          else:\n",
      "            BUG\n",
      "        else:\n",
      "          NO_BUG\n",
      "    else:\n",
      "      if <function> == 'cos':\n",
      "        NO_BUG\n",
      "      else:\n",
      "        NO_BUG\n",
      "\n",
      "  New input specifications:\n",
      "    <function> == 'cos' and <term> <= -30.56999969482422\n",
      "    <function> == 'cos' and <term> <= -30.56999969482422\n",
      "    <function> == 'cos' and <term> > -30.56999969482422\n",
      "    <function> == 'cos' and <term> > -12.650000095367432\n",
      "    <function> == 'cos' and <term> <= -12.650000095367432\n",
      "    <function> == 'cos' and <term> <= -12.650000095367432\n",
      "    <function> == 'cos' and <term> > -12.650000095367432\n",
      "    <function> == 'cos' and <term> > -30.56999969482422\n"
     ]
    },
    {
     "name": "stdout",
     "output_type": "stream",
     "text": [
      "  New samples:\n",
      "    tan(-89.6), cos(-40.55), cos(48.9), tan(6), sin(-13), cos(-426), cos(-4), sqrt(752.6)\n",
      "\n",
      "Iteration #12\n",
      "  Decision Tree:\n",
      "    if <term> <= -12.6500:\n",
      "      if <value> <= 30.5700:\n",
      "        if <function> == 'sqrt':\n",
      "          if <digit>:\n",
      "            BUG\n",
      "          else:\n",
      "            BUG\n",
      "        else:\n",
      "          if <function> == 'sin':\n",
      "            NO_BUG\n",
      "          else:\n",
      "            NO_BUG\n",
      "      else:\n",
      "        NO_BUG\n",
      "    else:\n",
      "      if <lead-digit> == '2':\n",
      "        NO_BUG\n",
      "      else:\n",
      "        NO_BUG\n",
      "\n"
     ]
    },
    {
     "name": "stdout",
     "output_type": "stream",
     "text": [
      "  New input specifications:\n",
      "    <function> == 'sqrt' and <function> == 'sin' and <term> > -12.650000095367432 and <value> <= 30.56999969482422\n",
      "    <term> <= -12.650000095367432 and <value> > 30.56999969482422\n",
      "    <function> == 'sqrt' and <digit> <= 0.5 and <term> > -12.650000095367432 and <value> <= 30.56999969482422\n",
      "    <function> == 'sqrt' and <function> == 'sin' and <term> > -12.650000095367432 and <value> > 30.56999969482422\n",
      "    <lead-digit> == '2' and <term> <= -12.650000095367432\n",
      "    <function> == 'sqrt' and <function> == 'sin' and <term> <= -12.650000095367432 and <value> <= 30.56999969482422\n",
      "    <function> == 'sqrt' and <digit> <= 0.5 and <term> <= -12.650000095367432 and <value> > 30.56999969482422\n",
      "    <lead-digit> == '2' and <term> > -12.650000095367432\n",
      "    <term> <= -12.650000095367432 and <value> <= 30.56999969482422\n",
      "    <function> == 'sqrt' and <digit> > 0.5 and <term> <= -12.650000095367432 and <value> <= 30.56999969482422\n",
      "    <function> == 'sqrt' and <digit> <= 0.5 and <term> <= -12.650000095367432 and <value> <= 30.56999969482422\n",
      "    <function> == 'sqrt' and <function> == 'sin' and <term> <= -12.650000095367432 and <value> > 30.56999969482422\n",
      "    <lead-digit> == '2' and <term> <= -12.650000095367432\n",
      "    <function> == 'sqrt' and <digit> > 0.5 and <term> > -12.650000095367432 and <value> <= 30.56999969482422\n",
      "    <lead-digit> == '2' and <term> > -12.650000095367432\n",
      "    <function> == 'sqrt' and <function> == 'sin' and <term> <= -12.650000095367432 and <value> > 30.56999969482422\n",
      "    <function> == 'sqrt' and <function> == 'sin' and <term> > -12.650000095367432 and <value> <= 30.56999969482422\n",
      "    <function> == 'sqrt' and <function> == 'sin' and <term> <= -12.650000095367432 and <value> <= 30.56999969482422\n",
      "    <function> == 'sqrt' and <digit> > 0.5 and <term> <= -12.650000095367432 and <value> > 30.56999969482422\n",
      "    <term> > -12.650000095367432 and <value> > 30.56999969482422\n",
      "    <function> == 'sqrt' and <function> == 'sin' and <term> > -12.650000095367432 and <value> > 30.56999969482422\n"
     ]
    },
    {
     "name": "stdout",
     "output_type": "stream",
     "text": [
      "  New samples:\n",
      "    sin(-9.6), tan(-23166), sqrt(24), sqrt(1), sqrt(-9), sqrt(-6.45), sqrt(-6.23), sqrt(-5), sqrt(7.2), sqrt(-0.1327703), sqrt(6.13), sqrt(-7.8), sqrt(0.9), sqrt(-2.7), sqrt(-0.2), cos(0), sqrt(4), sqrt(-3), sqrt(6.9), sqrt(-3.6), cos(90), tan(-1909.0), sin(-2), sin(-2.46), sin(-3), sin(2.2969), sin(-77), sin(-4), sin(-526.6), sin(-6.7), sin(-1.1), sin(-6.818660), sin(1), sin(3.6), sin(0.5166), sin(-57), sin(-91.7), sin(3), sin(24), sin(0), sin(1), sqrt(-21519), sqrt(-9676), sqrt(-56834.63), sqrt(-652.6), cos(273.8), sqrt(-13.5), sqrt(-60.405), cos(-26), sqrt(8.15), sqrt(9), sqrt(-2.0), sqrt(-0.37), sqrt(5.34), sqrt(-80.14), sqrt(2), sqrt(-3.87), sqrt(6.424), sqrt(-88), sqrt(-726), sqrt(-44), sqrt(-6), sqrt(-0.9), sqrt(-7.0), sqrt(-6.1), sqrt(-7), sqrt(-3), sqrt(2.22), sqrt(-0), cos(-937266), tan(-29.27), sqrt(4), sqrt(-7), sin(-187), cos(2), cos(-53423), cos(-95), tan(9.40150), cos(-5.99), cos(-75), tan(-229), tan(4), sqrt(-14), cos(-6.726), tan(-5.44), cos(9), tan(7.19), cos(-95.7), cos(2), cos(-42), tan(-4), cos(7), tan(-64573), tan(27), tan(-58), tan(-96), tan(-3.62579926), tan(-98), tan(7), cos(-4739675), cos(-38.5), tan(0.2), tan(-7340), tan(-11.4), tan(4.61), tan(-40128), cos(-0), cos(1), tan(0.8), tan(6.3), cos(-8665.8), cos(7.8010), cos(-217.06), sqrt(-720), sin(384), sin(40.789)\n",
      "\n",
      "Iteration #13\n",
      "  Decision Tree:\n",
      "    if <lead-digit> <= 3.5000:\n",
      "      if <function> == 'sqrt':\n",
      "        if <term> <= -12.4300:\n",
      "          if <term> <= -122.2165:\n",
      "            NO_BUG\n",
      "          else:\n",
      "            BUG\n",
      "        else:\n",
      "          if <digit> == '8':\n",
      "            NO_BUG\n",
      "          else:\n",
      "            NO_BUG\n",
      "      else:\n",
      "        NO_BUG\n",
      "    else:\n",
      "      NO_BUG\n",
      "\n"
     ]
    },
    {
     "name": "stdout",
     "output_type": "stream",
     "text": [
      "  New input specifications:\n",
      "    <function> == 'sqrt' and <lead-digit> <= 3.5\n",
      "    <digit> == '8' and <function> == 'sqrt' and <lead-digit> > 3.5 and <term> > -12.429999828338623\n",
      "    <function> == 'sqrt' and <lead-digit> <= 3.5 and <term> > -122.21649932861328\n",
      "    <function> == 'sqrt' and <lead-digit> <= 3.5\n",
      "    <function> == 'sqrt' and <lead-digit> > 3.5 and <term> > -122.21649932861328\n",
      "    <function> == 'sqrt' and <lead-digit> > 3.5 and <term> <= -122.21649932861328\n",
      "    <lead-digit> <= 3.5\n",
      "    <digit> == '8' and <function> == 'sqrt' and <lead-digit> <= 3.5 and <term> > -12.429999828338623\n",
      "    <digit> == '8' and <function> == 'sqrt' and <lead-digit> > 3.5 and <term> > -12.429999828338623\n",
      "    <function> == 'sqrt' and <lead-digit> <= 3.5 and <term> <= -122.21649932861328\n",
      "    <lead-digit> > 3.5\n",
      "    <digit> == '8' and <function> == 'sqrt' and <lead-digit> <= 3.5 and <term> <= -12.429999828338623\n",
      "    <digit> == '8' and <function> == 'sqrt' and <lead-digit> <= 3.5 and <term> <= -12.429999828338623\n",
      "    <digit> == '8' and <function> == 'sqrt' and <lead-digit> > 3.5 and <term> <= -12.429999828338623\n",
      "    <function> == 'sqrt' and <lead-digit> > 3.5\n",
      "    <digit> == '8' and <function> == 'sqrt' and <lead-digit> > 3.5 and <term> <= -12.429999828338623\n",
      "    <digit> == '8' and <function> == 'sqrt' and <lead-digit> <= 3.5 and <term> > -12.429999828338623\n"
     ]
    },
    {
     "name": "stdout",
     "output_type": "stream",
     "text": [
      "  New samples:\n",
      "    sqrt(-35.8), sqrt(914), sqrt(-18), cos(25), sqrt(79.48886), sqrt(-52844.30), sin(-323.24), tan(308), sqrt(-8), sqrt(-10.2), sqrt(37), sqrt(4830), sqrt(-17.381), sqrt(8), sqrt(-8), sqrt(3705), sqrt(78), sqrt(-3320.8), sqrt(9066.8), cos(59.8), sqrt(97), sqrt(72), sqrt(86), tan(767.8), sin(58), sqrt(8.9), tan(875.482), sqrt(995), sin(489.0), sqrt(-928.2534), sqrt(-608165.2), sqrt(-6908.0), sin(5028), sqrt(-261.71), tan(55.4), sqrt(-26), cos(-28.806), sqrt(-376), tan(-248), sqrt(3081.64), sqrt(-87.378), tan(-52.18), sqrt(-52.1), sqrt(36)\n",
      "\n",
      "Iteration #14\n",
      "  Decision Tree:\n",
      "    if <lead-digit> <= 3.5000:\n",
      "      if <function> == 'sqrt':\n",
      "        if <term> <= -12.4300:\n",
      "          if <integer> <= 124.5000:\n",
      "            BUG\n",
      "          else:\n",
      "            NO_BUG\n",
      "        else:\n",
      "          NO_BUG\n",
      "      else:\n",
      "        NO_BUG\n",
      "    else:\n",
      "      if <term> == '-<value>':\n",
      "        NO_BUG\n",
      "      else:\n",
      "        NO_BUG\n",
      "\n"
     ]
    },
    {
     "name": "stdout",
     "output_type": "stream",
     "text": [
      "  New input specifications:\n",
      "    <function> == 'sqrt' and <lead-digit> <= 3.5\n",
      "    <function> == 'sqrt' and <lead-digit> > 3.5 and <term> <= -12.429999828338623\n",
      "    <function> == 'sqrt' and <integer> <= 124.5 and <lead-digit> <= 3.5 and <term> > -12.429999828338623\n",
      "    <function> == 'sqrt' and <integer> > 124.5 and <lead-digit> > 3.5 and <term> <= -12.429999828338623\n",
      "    <function> == 'sqrt' and <lead-digit> <= 3.5 and <term> > -12.429999828338623\n",
      "    <function> == 'sqrt' and <lead-digit> > 3.5 and <term> > -12.429999828338623\n",
      "    <term> == '-<value>' and <lead-digit> <= 3.5\n",
      "    <function> == 'sqrt' and <integer> > 124.5 and <lead-digit> <= 3.5 and <term> <= -12.429999828338623\n",
      "    <term> == '-<value>' and <lead-digit> <= 3.5\n",
      "    <function> == 'sqrt' and <integer> > 124.5 and <lead-digit> <= 3.5 and <term> > -12.429999828338623\n",
      "    <function> == 'sqrt' and <lead-digit> > 3.5\n",
      "    <function> == 'sqrt' and <lead-digit> <= 3.5 and <term> <= -12.429999828338623\n",
      "    <function> == 'sqrt' and <lead-digit> <= 3.5\n",
      "    <term> == '-<value>' and <lead-digit> > 3.5\n",
      "    <function> == 'sqrt' and <integer> <= 124.5 and <lead-digit> > 3.5 and <term> <= -12.429999828338623\n",
      "    <function> == 'sqrt' and <integer> <= 124.5 and <lead-digit> <= 3.5 and <term> <= -12.429999828338623\n",
      "    <term> == '-<value>' and <lead-digit> > 3.5\n"
     ]
    },
    {
     "name": "stdout",
     "output_type": "stream",
     "text": [
      "  New samples:\n",
      "    sqrt(22.6449), sqrt(-479.3), sqrt(26), sqrt(-57832.9), sqrt(32), sqrt(91.13), sin(-34132), sqrt(-1153), sin(3814.1), sqrt(-376), sqrt(537), sqrt(699.1), tan(176.399), sin(183), sqrt(44283653.785), sqrt(444), cos(250.91), sin(220.31), sqrt(26), sqrt(968), tan(-45), tan(-27.14), sqrt(24.6), sqrt(-97.9), tan(-38.6), sqrt(-97), sqrt(-8467995767.3), tan(-38), sqrt(-57), cos(-35.5), sqrt(-48), tan(-113.77), sqrt(29), sqrt(-53340), cos(-26), tan(18), sqrt(58.660), sqrt(-74.6), sqrt(-30.2), sqrt(-67987)\n",
      "\n",
      "Iteration #15\n",
      "  Decision Tree:\n",
      "    if <lead-digit> <= 3.5000:\n",
      "      if <function> == 'sqrt':\n",
      "        if <term> <= -12.4300:\n",
      "          if <integer> <= 124.5000:\n",
      "            if <digit> == '2':\n",
      "              BUG\n",
      "            else:\n",
      "              BUG\n",
      "          else:\n",
      "            NO_BUG\n",
      "        else:\n",
      "          if <term> == '<value>':\n",
      "            NO_BUG\n",
      "          else:\n",
      "            NO_BUG\n",
      "      else:\n",
      "        NO_BUG\n",
      "    else:\n",
      "      NO_BUG\n",
      "\n"
     ]
    },
    {
     "name": "stdout",
     "output_type": "stream",
     "text": [
      "  New input specifications:\n",
      "    <function> == 'sqrt' and <lead-digit> <= 3.5\n",
      "    <function> == 'sqrt' and <integer> > 124.5 and <lead-digit> > 3.5 and <term> <= -12.429999828338623\n",
      "    <digit> == '2' and <function> == 'sqrt' and <integer> <= 124.5 and <lead-digit> <= 3.5 and <term> > -12.429999828338623\n",
      "    <function> == 'sqrt' and <integer> <= 124.5 and <lead-digit> > 3.5 and <term> <= -12.429999828338623\n",
      "    <digit> == '2' and <function> == 'sqrt' and <integer> <= 124.5 and <lead-digit> > 3.5 and <term> <= -12.429999828338623\n",
      "    <function> == 'sqrt' and <term> == '<value>' and <lead-digit> <= 3.5 and <term> > -12.429999828338623\n",
      "    <function> == 'sqrt' and <term> == '<value>' and <lead-digit> > 3.5 and <term> > -12.429999828338623\n",
      "    <digit> == '2' and <function> == 'sqrt' and <integer> <= 124.5 and <lead-digit> <= 3.5 and <term> <= -12.429999828338623\n",
      "    <digit> == '2' and <function> == 'sqrt' and <integer> > 124.5 and <lead-digit> <= 3.5 and <term> > -12.429999828338623\n",
      "    <function> == 'sqrt' and <term> == '<value>' and <lead-digit> <= 3.5 and <term> <= -12.429999828338623\n",
      "    <function> == 'sqrt' and <term> == '<value>' and <lead-digit> > 3.5 and <term> <= -12.429999828338623\n",
      "    <digit> == '2' and <function> == 'sqrt' and <integer> <= 124.5 and <lead-digit> <= 3.5 and <term> <= -12.429999828338623\n",
      "    <digit> == '2' and <function> == 'sqrt' and <integer> > 124.5 and <lead-digit> > 3.5 and <term> <= -12.429999828338623\n",
      "    <digit> == '2' and <function> == 'sqrt' and <integer> <= 124.5 and <lead-digit> <= 3.5 and <term> > -12.429999828338623\n",
      "    <function> == 'sqrt' and <lead-digit> <= 3.5\n",
      "    <lead-digit> <= 3.5\n",
      "    <function> == 'sqrt' and <term> == '<value>' and <lead-digit> > 3.5 and <term> <= -12.429999828338623\n",
      "    <function> == 'sqrt' and <integer> > 124.5 and <lead-digit> <= 3.5 and <term> > -12.429999828338623\n",
      "    <digit> == '2' and <function> == 'sqrt' and <integer> <= 124.5 and <lead-digit> > 3.5 and <term> <= -12.429999828338623\n",
      "    <lead-digit> > 3.5\n",
      "    <digit> == '2' and <function> == 'sqrt' and <integer> > 124.5 and <lead-digit> <= 3.5 and <term> <= -12.429999828338623\n",
      "    <function> == 'sqrt' and <term> == '<value>' and <lead-digit> > 3.5 and <term> > -12.429999828338623\n",
      "    <function> == 'sqrt' and <integer> <= 124.5 and <lead-digit> <= 3.5 and <term> <= -12.429999828338623\n",
      "    <function> == 'sqrt' and <term> == '<value>' and <lead-digit> <= 3.5 and <term> > -12.429999828338623\n",
      "    <digit> == '2' and <function> == 'sqrt' and <integer> > 124.5 and <lead-digit> > 3.5 and <term> <= -12.429999828338623\n",
      "    <function> == 'sqrt' and <term> == '<value>' and <lead-digit> <= 3.5 and <term> <= -12.429999828338623\n",
      "    <function> == 'sqrt' and <integer> > 124.5 and <lead-digit> <= 3.5 and <term> <= -12.429999828338623\n",
      "    <function> == 'sqrt' and <lead-digit> > 3.5\n",
      "    <digit> == '2' and <function> == 'sqrt' and <integer> > 124.5 and <lead-digit> <= 3.5 and <term> > -12.429999828338623\n",
      "    <digit> == '2' and <function> == 'sqrt' and <integer> > 124.5 and <lead-digit> <= 3.5 and <term> <= -12.429999828338623\n"
     ]
    },
    {
     "name": "stdout",
     "output_type": "stream",
     "text": [
      "  New samples:\n",
      "    sqrt(-290.0), sin(-640), sin(-427.742), tan(-8057.4001), sqrt(-99.5), sqrt(-97), cos(-8943.880), tan(-51906.83), sqrt(694.91), tan(-926), sin(-764.2), tan(-9279), sin(-9921), sqrt(785), cos(-490), cos(-511), cos(-4581.7), sqrt(925.21469), cos(-789), sqrt(25.9), sqrt(7.5682), sqrt(-22.7), sqrt(-22), sqrt(2), sqrt(1214), sqrt(-91.9), sqrt(-78.2), sqrt(-0), sqrt(21.3), sqrt(-2.7), sqrt(19.36), sqrt(-0.6), sqrt(-7.7), sqrt(-6), sqrt(-9), sqrt(-7.83), sqrt(-5), sqrt(-9), sqrt(-4), sqrt(-3), sqrt(-4), sqrt(-8), sqrt(-921), sqrt(-5.42), sqrt(-816), sqrt(-480.4), sqrt(88933), sqrt(-0), sqrt(77), sqrt(875), sqrt(-5), sqrt(-8.7), sqrt(-3), sqrt(-3.3), sqrt(-59), sin(-31.4082), sqrt(-15), sqrt(218), sqrt(-272.1), sqrt(-25.0), sqrt(3273), sqrt(36), sqrt(-313), sqrt(-455.9), sqrt(-77.7), sqrt(-81), sqrt(-962820), sqrt(-43.2), sqrt(-72), sqrt(936.9), sqrt(-30.97), sqrt(-562.3), sin(-484866), sqrt(-96), sqrt(905), sqrt(-84.17756), sqrt(-437278), sqrt(16), tan(-1674), cos(11.58), sqrt(-60), cos(1185637.6), sin(294.7), sqrt(751.1), sin(133), sqrt(-80.603156080), cos(89), sqrt(-128374.92579), sqrt(459.5), sqrt(-28), sqrt(346), sqrt(-5320.5), sqrt(-166.3), sqrt(-2705), cos(-69.86), sqrt(742963.3), sin(3791.62), sin(322), tan(320), sqrt(-708), sqrt(-30.9), sqrt(-20.83), sqrt(261)\n",
      "\n",
      "Iteration #16\n",
      "  Decision Tree:\n",
      "    if <lead-digit> <= 3.5000:\n",
      "      if <term> <= -12.6500:\n",
      "        if <function> == 'sqrt':\n",
      "          if <term> <= -101.0500:\n",
      "            NO_BUG\n",
      "          else:\n",
      "            BUG\n",
      "        else:\n",
      "          if <digits> == '<digit><digits>':\n",
      "            NO_BUG\n",
      "          else:\n",
      "            NO_BUG\n",
      "      else:\n",
      "        NO_BUG\n",
      "    else:\n",
      "      if <value> == '<integer>.<digits>':\n",
      "        NO_BUG\n",
      "      else:\n",
      "        NO_BUG\n",
      "\n"
     ]
    },
    {
     "name": "stdout",
     "output_type": "stream",
     "text": [
      "  New input specifications:\n",
      "    <function> == 'sqrt' and <lead-digit> > 3.5 and <term> > -101.05000114440918\n",
      "    <value> == '<integer>.<digits>' and <lead-digit> <= 3.5\n",
      "    <digits> == '<digit><digits>' and <function> == 'sqrt' and <lead-digit> > 3.5 and <term> <= -12.650000095367432\n",
      "    <digits> == '<digit><digits>' and <function> == 'sqrt' and <lead-digit> <= 3.5 and <term> > -12.650000095367432\n",
      "    <digits> == '<digit><digits>' and <function> == 'sqrt' and <lead-digit> <= 3.5 and <term> > -12.650000095367432\n",
      "    <value> == '<integer>.<digits>' and <lead-digit> > 3.5\n",
      "    <function> == 'sqrt' and <lead-digit> <= 3.5 and <term> > -101.05000114440918\n",
      "    <digits> == '<digit><digits>' and <function> == 'sqrt' and <lead-digit> <= 3.5 and <term> <= -12.650000095367432\n",
      "    <lead-digit> > 3.5 and <term> > -12.650000095367432\n",
      "    <digits> == '<digit><digits>' and <function> == 'sqrt' and <lead-digit> > 3.5 and <term> > -12.650000095367432\n",
      "    <digits> == '<digit><digits>' and <function> == 'sqrt' and <lead-digit> > 3.5 and <term> > -12.650000095367432\n",
      "    <value> == '<integer>.<digits>' and <lead-digit> <= 3.5\n",
      "    <value> == '<integer>.<digits>' and <lead-digit> > 3.5\n",
      "    <function> == 'sqrt' and <lead-digit> > 3.5 and <term> <= -101.05000114440918\n",
      "    <lead-digit> <= 3.5 and <term> <= -12.650000095367432\n",
      "    <digits> == '<digit><digits>' and <function> == 'sqrt' and <lead-digit> <= 3.5 and <term> <= -12.650000095367432\n",
      "    <function> == 'sqrt' and <lead-digit> <= 3.5 and <term> <= -101.05000114440918\n",
      "    <lead-digit> <= 3.5 and <term> > -12.650000095367432\n",
      "    <digits> == '<digit><digits>' and <function> == 'sqrt' and <lead-digit> > 3.5 and <term> <= -12.650000095367432\n"
     ]
    },
    {
     "name": "stdout",
     "output_type": "stream",
     "text": [
      "  New samples:\n",
      "    sqrt(-57), sqrt(-10), tan(-7109), sin(35.4), cos(1588), cos(89.1), sqrt(284), tan(-25), sqrt(969.25), cos(98.74), tan(71), tan(28.0), sin(742), sqrt(-4995), sqrt(-27.78), cos(-17.020), sqrt(-1107), sin(32), cos(-78)\n",
      "\n",
      "Iteration #17\n",
      "  Decision Tree:\n",
      "    if <lead-digit> <= 3.5000:\n",
      "      if <term> <= -12.6500:\n",
      "        if <function> == 'sqrt':\n",
      "          if <integer> <= 100.5000:\n",
      "            BUG\n",
      "          else:\n",
      "            NO_BUG\n",
      "        else:\n",
      "          if <lead-digit> == '3':\n",
      "            NO_BUG\n",
      "          else:\n",
      "            NO_BUG\n",
      "      else:\n",
      "        if <term> == '<value>':\n",
      "          NO_BUG\n",
      "        else:\n",
      "          NO_BUG\n",
      "    else:\n",
      "      if <lead-digit> == '8':\n",
      "        NO_BUG\n",
      "      else:\n",
      "        NO_BUG\n",
      "\n"
     ]
    },
    {
     "name": "stdout",
     "output_type": "stream",
     "text": [
      "  New input specifications:\n",
      "    <lead-digit> == '8' and <lead-digit> <= 3.5\n",
      "    <term> == '<value>' and <lead-digit> > 3.5 and <term> > -12.650000095367432\n",
      "    <function> == 'sqrt' and <lead-digit> == '3' and <lead-digit> <= 3.5 and <term> <= -12.650000095367432\n",
      "    <function> == 'sqrt' and <integer> > 100.5 and <lead-digit> > 3.5 and <term> <= -12.650000095367432\n",
      "    <term> == '<value>' and <lead-digit> > 3.5 and <term> <= -12.650000095367432\n",
      "    <function> == 'sqrt' and <lead-digit> == '3' and <lead-digit> <= 3.5 and <term> > -12.650000095367432\n",
      "    <function> == 'sqrt' and <lead-digit> == '3' and <lead-digit> > 3.5 and <term> > -12.650000095367432\n",
      "    <term> == '<value>' and <lead-digit> <= 3.5 and <term> <= -12.650000095367432\n",
      "    <term> == '<value>' and <lead-digit> <= 3.5 and <term> > -12.650000095367432\n",
      "    <function> == 'sqrt' and <lead-digit> == '3' and <lead-digit> <= 3.5 and <term> > -12.650000095367432\n",
      "    <function> == 'sqrt' and <lead-digit> == '3' and <lead-digit> > 3.5 and <term> <= -12.650000095367432\n",
      "    <function> == 'sqrt' and <integer> > 100.5 and <lead-digit> <= 3.5 and <term> > -12.650000095367432\n",
      "    <function> == 'sqrt' and <integer> <= 100.5 and <lead-digit> <= 3.5 and <term> <= -12.650000095367432\n",
      "    <function> == 'sqrt' and <integer> > 100.5 and <lead-digit> <= 3.5 and <term> <= -12.650000095367432\n",
      "    <term> == '<value>' and <lead-digit> > 3.5 and <term> > -12.650000095367432\n",
      "    <function> == 'sqrt' and <integer> <= 100.5 and <lead-digit> <= 3.5 and <term> > -12.650000095367432\n",
      "    <term> == '<value>' and <lead-digit> <= 3.5 and <term> <= -12.650000095367432\n",
      "    <lead-digit> == '8' and <lead-digit> <= 3.5\n",
      "    <function> == 'sqrt' and <lead-digit> == '3' and <lead-digit> <= 3.5 and <term> <= -12.650000095367432\n",
      "    <function> == 'sqrt' and <lead-digit> == '3' and <lead-digit> > 3.5 and <term> > -12.650000095367432\n",
      "    <function> == 'sqrt' and <integer> <= 100.5 and <lead-digit> > 3.5 and <term> <= -12.650000095367432\n",
      "    <lead-digit> == '8' and <lead-digit> > 3.5\n",
      "    <term> == '<value>' and <lead-digit> <= 3.5 and <term> > -12.650000095367432\n",
      "    <lead-digit> == '8' and <lead-digit> > 3.5\n",
      "    <function> == 'sqrt' and <lead-digit> == '3' and <lead-digit> > 3.5 and <term> <= -12.650000095367432\n",
      "    <term> == '<value>' and <lead-digit> > 3.5 and <term> <= -12.650000095367432\n"
     ]
    },
    {
     "name": "stdout",
     "output_type": "stream",
     "text": [
      "  New samples:\n",
      "    sqrt(264.0), tan(-46), sin(-7), cos(6420.1), cos(8792.6), tan(69.2), cos(-0.9), tan(-4399), sin(75.09), cos(778955), cos(-3.71), sqrt(46.8), cos(45), cos(-8), cos(66.7), sqrt(-3), sqrt(84), cos(-40), cos(-3.410695), sin(54), sin(-9), cos(-556.05626), cos(8279378650.9), sqrt(-3), sin(-759), sqrt(53104.36), sin(-722), sqrt(-3.7), cos(6849.54), sin(-82.8), tan(-7085.6), tan(-7.65), sqrt(-775.8024), sqrt(-76), cos(-4), tan(-2), sqrt(-5), tan(79579), sqrt(9297.6), sin(72845), tan(618), cos(581.1), tan(54.90), sin(49), sin(-2), sin(-880.082), tan(-1), cos(-591.4700168), sin(-5245.12763), sqrt(-4079), cos(6156474), sqrt(93.2), tan(-4), sin(-0.981), tan(-767.3), sqrt(5816.6084), sqrt(4115), sqrt(6045.7), sqrt(-6), sin(-66189.4229), tan(-0), cos(-4.09), tan(-2.3), tan(59.9), sqrt(93), tan(-46), sqrt(-1), sin(-7), cos(-11496.7), sqrt(-784), sqrt(-82.5023), tan(31), sin(58), tan(61.71), sin(55.5), sin(9218.7), sin(7694), cos(33), sin(42), cos(59), sin(36), tan(90608), tan(50951.2), sin(49), sin(3582), cos(-119), sqrt(-2.1), sqrt(-0), cos(-1), tan(-8.4), sin(-4.684), sqrt(-9.1), tan(-0), tan(-7.7), sqrt(-8), sqrt(-7), tan(-6.6), sin(33.5), sqrt(-1.8), cos(38), cos(2339.493), sqrt(-9.88), tan(-4.98), tan(-2), cos(2546), sin(378.3), sin(1590.20), cos(33), tan(-228.97), sin(-15844), sin(-2), sin(-4), sin(-27), cos(-1), sin(-2), sin(-9), tan(-0.34), sin(-9), cos(-4), cos(143925), tan(-7.30), cos(-8), cos(-4), cos(-7), sqrt(2436), sin(-6.76), sqrt(11), sqrt(-0), sin(114917.7), tan(-93.4), sqrt(391848.738), sqrt(-19.32733), sqrt(-1441), tan(832.39), sqrt(9), sqrt(133), sqrt(-1.118), sqrt(73), sqrt(-7.5), sqrt(-2), sqrt(6), sqrt(1345), sqrt(-14), sqrt(-5), sqrt(309.3), sqrt(3371), sqrt(52), sqrt(-5), sqrt(4.61), sqrt(0.2), tan(-34), tan(342.430), sqrt(-30.17), sin(108.303), sqrt(12.22), sin(16.9), tan(-38.58), tan(-23619.952), tan(3243974.966), sqrt(-26), cos(17171), tan(-34), cos(-35.26), sin(14), sqrt(84.8), sqrt(84.021), tan(-334.3), tan(306.7), cos(-3765), sin(-8197), sin(-3000), sin(-2273), sin(24430.588), cos(11.8), sqrt(-12.2), tan(-892702), tan(327), tan(11), sqrt(-37), tan(-231), cos(26), sin(182.6), sqrt(-33), tan(862), sin(-875.65), sin(-13), sqrt(21), cos(-16.086551), tan(-37), cos(-32287.0), tan(42), sqrt(-49.6), tan(8150), tan(22), cos(-7309.36), tan(-34), sin(-63.12), cos(-61301107.3), sin(-82.686), cos(-6106), cos(-449.37), cos(-4813), sin(-309.74), tan(-57.71), cos(-3099.18), sin(-6302915.0), cos(-84152), sin(-87.8), tan(-53.9), sqrt(8094.1), sqrt(-93), sin(78), sin(-980.324274), sqrt(-55.6), sqrt(73), cos(9563.326), sin(773), sin(-79), cos(-931), sqrt(-821), tan(-71.3), sqrt(-92), sqrt(-719.7), tan(-77.4), sin(64.748), sqrt(-66.9462), tan(884), sqrt(54.6), sin(-54.4), sqrt(570827), cos(-586.468), tan(-68), cos(-48.6380), cos(-60), sqrt(-64.93), sqrt(97.57208), sqrt(9134), sin(-54.561), sin(666), tan(8101.160), sin(-58.2), tan(95), sqrt(713985.36), sqrt(-9061.7)\n",
      "\n",
      "Iteration #18\n"
     ]
    },
    {
     "name": "stdout",
     "output_type": "stream",
     "text": [
      "  Decision Tree:\n",
      "    if <lead-digit> <= 3.5000:\n",
      "      if <function> == 'sqrt':\n",
      "        if <term> <= -12.0300:\n",
      "          if <term> <= -101.6500:\n",
      "            NO_BUG\n",
      "          else:\n",
      "            BUG\n",
      "        else:\n",
      "          NO_BUG\n",
      "      else:\n",
      "        NO_BUG\n",
      "    else:\n",
      "      NO_BUG\n",
      "\n"
     ]
    },
    {
     "name": "stdout",
     "output_type": "stream",
     "text": [
      "  New input specifications:\n",
      "    <function> == 'sqrt' and <lead-digit> <= 3.5\n",
      "    <function> == 'sqrt' and <lead-digit> <= 3.5 and <term> > -12.029999732971191\n",
      "    <function> == 'sqrt' and <lead-digit> > 3.5 and <term> > -101.6500015258789\n",
      "    <function> == 'sqrt' and <lead-digit> <= 3.5\n",
      "    <lead-digit> <= 3.5\n",
      "    <function> == 'sqrt' and <lead-digit> <= 3.5 and <term> <= -12.029999732971191\n",
      "    <function> == 'sqrt' and <lead-digit> > 3.5 and <term> > -12.029999732971191\n",
      "    <lead-digit> > 3.5\n",
      "    <function> == 'sqrt' and <lead-digit> <= 3.5 and <term> > -101.6500015258789\n",
      "    <function> == 'sqrt' and <lead-digit> > 3.5 and <term> <= -101.6500015258789\n",
      "    <function> == 'sqrt' and <lead-digit> > 3.5\n",
      "    <function> == 'sqrt' and <lead-digit> <= 3.5 and <term> <= -101.6500015258789\n",
      "    <function> == 'sqrt' and <lead-digit> > 3.5 and <term> <= -12.029999732971191\n"
     ]
    },
    {
     "name": "stdout",
     "output_type": "stream",
     "text": [
      "  New samples:\n",
      "    sqrt(-22.33), cos(31.362191), sin(2973), sqrt(5.6), cos(12), sqrt(-6.8), sqrt(-33), sqrt(2.209365), tan(26.7), sqrt(3), sqrt(6.6), sin(386.5496), sin(291.83), sqrt(55), sqrt(0), sqrt(-25.0), sqrt(49713.4), sin(3864.20), sqrt(-0.325), tan(10), sqrt(-34), sqrt(-5), sqrt(452), cos(-171.6), cos(-14.9), sqrt(-192), sqrt(71.4), sin(-562), sqrt(39470), sqrt(-81415), sin(8003.8), sqrt(2587.63), sqrt(-695.7), cos(-357.27), sqrt(-4154.51), sin(-174.148), sqrt(1501.94), sqrt(-402), sqrt(-49.0)\n",
      "\n",
      "Iteration #19\n",
      "  Decision Tree:\n",
      "    if <lead-digit> <= 3.5000:\n",
      "      if <function> == 'sqrt':\n",
      "        if <term> <= -12.0300:\n",
      "          if <term> <= -101.6500:\n",
      "            NO_BUG\n",
      "          else:\n",
      "            BUG\n",
      "        else:\n",
      "          NO_BUG\n",
      "      else:\n",
      "        NO_BUG\n",
      "    else:\n",
      "      NO_BUG\n",
      "\n"
     ]
    },
    {
     "name": "stdout",
     "output_type": "stream",
     "text": [
      "  New input specifications:\n",
      "    <function> == 'sqrt' and <lead-digit> <= 3.5\n",
      "    <function> == 'sqrt' and <lead-digit> <= 3.5 and <term> > -12.029999732971191\n",
      "    <function> == 'sqrt' and <lead-digit> > 3.5 and <term> > -101.6500015258789\n",
      "    <function> == 'sqrt' and <lead-digit> <= 3.5\n",
      "    <lead-digit> <= 3.5\n",
      "    <function> == 'sqrt' and <lead-digit> <= 3.5 and <term> <= -12.029999732971191\n",
      "    <function> == 'sqrt' and <lead-digit> > 3.5 and <term> > -12.029999732971191\n",
      "    <lead-digit> > 3.5\n",
      "    <function> == 'sqrt' and <lead-digit> <= 3.5 and <term> > -101.6500015258789\n",
      "    <function> == 'sqrt' and <lead-digit> > 3.5 and <term> <= -101.6500015258789\n",
      "    <function> == 'sqrt' and <lead-digit> > 3.5\n",
      "    <function> == 'sqrt' and <lead-digit> <= 3.5 and <term> <= -101.6500015258789\n",
      "    <function> == 'sqrt' and <lead-digit> > 3.5 and <term> <= -12.029999732971191\n"
     ]
    },
    {
     "name": "stdout",
     "output_type": "stream",
     "text": [
      "  New samples:\n",
      "    sqrt(16.60), sqrt(39.95), sqrt(436.52), sin(-38), cos(1755.1138), sqrt(-34.837), sqrt(64.4), sqrt(-91542.4), sqrt(179), sqrt(-652.2), cos(-747), sqrt(-2559), sqrt(-73.0)\n",
      "\n",
      "Iteration #20\n",
      "  Decision Tree:\n",
      "    if <lead-digit> <= 3.5000:\n",
      "      if <function> == 'sqrt':\n",
      "        if <term> <= -12.0300:\n",
      "          if <term> <= -101.6500:\n",
      "            NO_BUG\n",
      "          else:\n",
      "            if <digit> == '2':\n",
      "              BUG\n",
      "            else:\n",
      "              BUG\n",
      "        else:\n",
      "          if <digit> == '7':\n",
      "            NO_BUG\n",
      "          else:\n",
      "            NO_BUG\n",
      "      else:\n",
      "        if <lead-digit> <= 1.5000:\n",
      "          NO_BUG\n",
      "        else:\n",
      "          NO_BUG\n",
      "    else:\n",
      "      if <lead-digit> == '6':\n",
      "        NO_BUG\n",
      "      else:\n",
      "        NO_BUG\n",
      "\n"
     ]
    },
    {
     "name": "stdout",
     "output_type": "stream",
     "text": [
      "  New input specifications:\n",
      "    <digit> == '7' and <function> == 'sqrt' and <lead-digit> > 3.5 and <term> > -12.029999732971191\n",
      "    <function> == 'sqrt' and <lead-digit> <= 1.5\n",
      "    <digit> == '7' and <function> == 'sqrt' and <lead-digit> > 3.5 and <term> <= -12.029999732971191\n",
      "    <function> == 'sqrt' and <lead-digit> > 1.5\n",
      "    <digit> == '7' and <function> == 'sqrt' and <lead-digit> <= 3.5 and <term> <= -12.029999732971191\n",
      "    <function> == 'sqrt' and <lead-digit> > 3.5 and <term> > -101.6500015258789\n",
      "    <digit> == '7' and <function> == 'sqrt' and <lead-digit> > 3.5 and <term> <= -12.029999732971191\n",
      "    <lead-digit> == '6' and <lead-digit> > 3.5\n",
      "    <lead-digit> == '6' and <lead-digit> <= 3.5\n",
      "    <digit> == '7' and <function> == 'sqrt' and <lead-digit> <= 3.5 and <term> > -12.029999732971191\n",
      "    <digit> == '7' and <function> == 'sqrt' and <lead-digit> > 3.5 and <term> > -12.029999732971191\n",
      "    <function> == 'sqrt' and <lead-digit> <= 3.5 and <term> > -101.6500015258789\n",
      "    <digit> == '7' and <function> == 'sqrt' and <lead-digit> <= 3.5 and <term> <= -12.029999732971191\n",
      "    <digit> == '7' and <function> == 'sqrt' and <lead-digit> <= 3.5 and <term> > -12.029999732971191\n",
      "    <lead-digit> == '6' and <lead-digit> > 3.5\n",
      "    <function> == 'sqrt' and <lead-digit> > 3.5 and <term> <= -101.6500015258789\n",
      "    <function> == 'sqrt' and <lead-digit> <= 1.5\n",
      "    <lead-digit> == '6' and <lead-digit> <= 3.5\n",
      "    <function> == 'sqrt' and <lead-digit> <= 3.5 and <term> <= -101.6500015258789\n"
     ]
    },
    {
     "name": "stdout",
     "output_type": "stream",
     "text": [
      "  New samples:\n",
      "    sqrt(63367), tan(1457), sqrt(-47), cos(-51662.53), sqrt(-15), sqrt(-41.7317), sqrt(405.1), sqrt(-61), tan(63.4), sqrt(27), sin(26.1124), sqrt(13), sin(385), sin(67.5862), cos(38), sqrt(-14), tan(-636435), sqrt(-143), sin(205063.27), cos(15.9), tan(1985), sqrt(-24), sqrt(123), tan(35.12), sqrt(-6.7), sin(12738.6), sqrt(58.8588466745), sqrt(79.723), sqrt(86), sqrt(-14), sqrt(-121), sqrt(21), tan(75), sqrt(-535.2), sqrt(15.3), sin(-172), sqrt(-181)\n"
     ]
    }
   ],
   "source": [
    "alhazen = Alhazen(sample_runner, CALC_GRAMMAR, initial_sample_list,\n",
    "                  verbose=True,\n",
    "                  max_iterations=MAX_ITERATIONS,\n",
    "                  generator_timeout=GENERATOR_TIMEOUT)\n",
    "alhazen.run()"
   ]
  },
  {
   "cell_type": "markdown",
   "metadata": {
    "slideshow": {
     "slide_type": "subslide"
    }
   },
   "source": [
    "To access the final decision tree learned by Alhazen, use:"
   ]
  },
  {
   "cell_type": "code",
   "execution_count": 103,
   "metadata": {
    "execution": {
     "iopub.execute_input": "2025-01-16T09:38:28.405299Z",
     "iopub.status.busy": "2025-01-16T09:38:28.405209Z",
     "iopub.status.idle": "2025-01-16T09:38:28.415017Z",
     "shell.execute_reply": "2025-01-16T09:38:28.414728Z"
    },
    "slideshow": {
     "slide_type": "fragment"
    }
   },
   "outputs": [
    {
     "data": {
      "text/html": [
       "<style>#sk-container-id-1 {\n",
       "  /* Definition of color scheme common for light and dark mode */\n",
       "  --sklearn-color-text: #000;\n",
       "  --sklearn-color-text-muted: #666;\n",
       "  --sklearn-color-line: gray;\n",
       "  /* Definition of color scheme for unfitted estimators */\n",
       "  --sklearn-color-unfitted-level-0: #fff5e6;\n",
       "  --sklearn-color-unfitted-level-1: #f6e4d2;\n",
       "  --sklearn-color-unfitted-level-2: #ffe0b3;\n",
       "  --sklearn-color-unfitted-level-3: chocolate;\n",
       "  /* Definition of color scheme for fitted estimators */\n",
       "  --sklearn-color-fitted-level-0: #f0f8ff;\n",
       "  --sklearn-color-fitted-level-1: #d4ebff;\n",
       "  --sklearn-color-fitted-level-2: #b3dbfd;\n",
       "  --sklearn-color-fitted-level-3: cornflowerblue;\n",
       "\n",
       "  /* Specific color for light theme */\n",
       "  --sklearn-color-text-on-default-background: var(--sg-text-color, var(--theme-code-foreground, var(--jp-content-font-color1, black)));\n",
       "  --sklearn-color-background: var(--sg-background-color, var(--theme-background, var(--jp-layout-color0, white)));\n",
       "  --sklearn-color-border-box: var(--sg-text-color, var(--theme-code-foreground, var(--jp-content-font-color1, black)));\n",
       "  --sklearn-color-icon: #696969;\n",
       "\n",
       "  @media (prefers-color-scheme: dark) {\n",
       "    /* Redefinition of color scheme for dark theme */\n",
       "    --sklearn-color-text-on-default-background: var(--sg-text-color, var(--theme-code-foreground, var(--jp-content-font-color1, white)));\n",
       "    --sklearn-color-background: var(--sg-background-color, var(--theme-background, var(--jp-layout-color0, #111)));\n",
       "    --sklearn-color-border-box: var(--sg-text-color, var(--theme-code-foreground, var(--jp-content-font-color1, white)));\n",
       "    --sklearn-color-icon: #878787;\n",
       "  }\n",
       "}\n",
       "\n",
       "#sk-container-id-1 {\n",
       "  color: var(--sklearn-color-text);\n",
       "}\n",
       "\n",
       "#sk-container-id-1 pre {\n",
       "  padding: 0;\n",
       "}\n",
       "\n",
       "#sk-container-id-1 input.sk-hidden--visually {\n",
       "  border: 0;\n",
       "  clip: rect(1px 1px 1px 1px);\n",
       "  clip: rect(1px, 1px, 1px, 1px);\n",
       "  height: 1px;\n",
       "  margin: -1px;\n",
       "  overflow: hidden;\n",
       "  padding: 0;\n",
       "  position: absolute;\n",
       "  width: 1px;\n",
       "}\n",
       "\n",
       "#sk-container-id-1 div.sk-dashed-wrapped {\n",
       "  border: 1px dashed var(--sklearn-color-line);\n",
       "  margin: 0 0.4em 0.5em 0.4em;\n",
       "  box-sizing: border-box;\n",
       "  padding-bottom: 0.4em;\n",
       "  background-color: var(--sklearn-color-background);\n",
       "}\n",
       "\n",
       "#sk-container-id-1 div.sk-container {\n",
       "  /* jupyter's `normalize.less` sets `[hidden] { display: none; }`\n",
       "     but bootstrap.min.css set `[hidden] { display: none !important; }`\n",
       "     so we also need the `!important` here to be able to override the\n",
       "     default hidden behavior on the sphinx rendered scikit-learn.org.\n",
       "     See: https://github.com/scikit-learn/scikit-learn/issues/21755 */\n",
       "  display: inline-block !important;\n",
       "  position: relative;\n",
       "}\n",
       "\n",
       "#sk-container-id-1 div.sk-text-repr-fallback {\n",
       "  display: none;\n",
       "}\n",
       "\n",
       "div.sk-parallel-item,\n",
       "div.sk-serial,\n",
       "div.sk-item {\n",
       "  /* draw centered vertical line to link estimators */\n",
       "  background-image: linear-gradient(var(--sklearn-color-text-on-default-background), var(--sklearn-color-text-on-default-background));\n",
       "  background-size: 2px 100%;\n",
       "  background-repeat: no-repeat;\n",
       "  background-position: center center;\n",
       "}\n",
       "\n",
       "/* Parallel-specific style estimator block */\n",
       "\n",
       "#sk-container-id-1 div.sk-parallel-item::after {\n",
       "  content: \"\";\n",
       "  width: 100%;\n",
       "  border-bottom: 2px solid var(--sklearn-color-text-on-default-background);\n",
       "  flex-grow: 1;\n",
       "}\n",
       "\n",
       "#sk-container-id-1 div.sk-parallel {\n",
       "  display: flex;\n",
       "  align-items: stretch;\n",
       "  justify-content: center;\n",
       "  background-color: var(--sklearn-color-background);\n",
       "  position: relative;\n",
       "}\n",
       "\n",
       "#sk-container-id-1 div.sk-parallel-item {\n",
       "  display: flex;\n",
       "  flex-direction: column;\n",
       "}\n",
       "\n",
       "#sk-container-id-1 div.sk-parallel-item:first-child::after {\n",
       "  align-self: flex-end;\n",
       "  width: 50%;\n",
       "}\n",
       "\n",
       "#sk-container-id-1 div.sk-parallel-item:last-child::after {\n",
       "  align-self: flex-start;\n",
       "  width: 50%;\n",
       "}\n",
       "\n",
       "#sk-container-id-1 div.sk-parallel-item:only-child::after {\n",
       "  width: 0;\n",
       "}\n",
       "\n",
       "/* Serial-specific style estimator block */\n",
       "\n",
       "#sk-container-id-1 div.sk-serial {\n",
       "  display: flex;\n",
       "  flex-direction: column;\n",
       "  align-items: center;\n",
       "  background-color: var(--sklearn-color-background);\n",
       "  padding-right: 1em;\n",
       "  padding-left: 1em;\n",
       "}\n",
       "\n",
       "\n",
       "/* Toggleable style: style used for estimator/Pipeline/ColumnTransformer box that is\n",
       "clickable and can be expanded/collapsed.\n",
       "- Pipeline and ColumnTransformer use this feature and define the default style\n",
       "- Estimators will overwrite some part of the style using the `sk-estimator` class\n",
       "*/\n",
       "\n",
       "/* Pipeline and ColumnTransformer style (default) */\n",
       "\n",
       "#sk-container-id-1 div.sk-toggleable {\n",
       "  /* Default theme specific background. It is overwritten whether we have a\n",
       "  specific estimator or a Pipeline/ColumnTransformer */\n",
       "  background-color: var(--sklearn-color-background);\n",
       "}\n",
       "\n",
       "/* Toggleable label */\n",
       "#sk-container-id-1 label.sk-toggleable__label {\n",
       "  cursor: pointer;\n",
       "  display: flex;\n",
       "  width: 100%;\n",
       "  margin-bottom: 0;\n",
       "  padding: 0.5em;\n",
       "  box-sizing: border-box;\n",
       "  text-align: center;\n",
       "  align-items: start;\n",
       "  justify-content: space-between;\n",
       "  gap: 0.5em;\n",
       "}\n",
       "\n",
       "#sk-container-id-1 label.sk-toggleable__label .caption {\n",
       "  font-size: 0.6rem;\n",
       "  font-weight: lighter;\n",
       "  color: var(--sklearn-color-text-muted);\n",
       "}\n",
       "\n",
       "#sk-container-id-1 label.sk-toggleable__label-arrow:before {\n",
       "  /* Arrow on the left of the label */\n",
       "  content: \"▸\";\n",
       "  float: left;\n",
       "  margin-right: 0.25em;\n",
       "  color: var(--sklearn-color-icon);\n",
       "}\n",
       "\n",
       "#sk-container-id-1 label.sk-toggleable__label-arrow:hover:before {\n",
       "  color: var(--sklearn-color-text);\n",
       "}\n",
       "\n",
       "/* Toggleable content - dropdown */\n",
       "\n",
       "#sk-container-id-1 div.sk-toggleable__content {\n",
       "  max-height: 0;\n",
       "  max-width: 0;\n",
       "  overflow: hidden;\n",
       "  text-align: left;\n",
       "  /* unfitted */\n",
       "  background-color: var(--sklearn-color-unfitted-level-0);\n",
       "}\n",
       "\n",
       "#sk-container-id-1 div.sk-toggleable__content.fitted {\n",
       "  /* fitted */\n",
       "  background-color: var(--sklearn-color-fitted-level-0);\n",
       "}\n",
       "\n",
       "#sk-container-id-1 div.sk-toggleable__content pre {\n",
       "  margin: 0.2em;\n",
       "  border-radius: 0.25em;\n",
       "  color: var(--sklearn-color-text);\n",
       "  /* unfitted */\n",
       "  background-color: var(--sklearn-color-unfitted-level-0);\n",
       "}\n",
       "\n",
       "#sk-container-id-1 div.sk-toggleable__content.fitted pre {\n",
       "  /* unfitted */\n",
       "  background-color: var(--sklearn-color-fitted-level-0);\n",
       "}\n",
       "\n",
       "#sk-container-id-1 input.sk-toggleable__control:checked~div.sk-toggleable__content {\n",
       "  /* Expand drop-down */\n",
       "  max-height: 200px;\n",
       "  max-width: 100%;\n",
       "  overflow: auto;\n",
       "}\n",
       "\n",
       "#sk-container-id-1 input.sk-toggleable__control:checked~label.sk-toggleable__label-arrow:before {\n",
       "  content: \"▾\";\n",
       "}\n",
       "\n",
       "/* Pipeline/ColumnTransformer-specific style */\n",
       "\n",
       "#sk-container-id-1 div.sk-label input.sk-toggleable__control:checked~label.sk-toggleable__label {\n",
       "  color: var(--sklearn-color-text);\n",
       "  background-color: var(--sklearn-color-unfitted-level-2);\n",
       "}\n",
       "\n",
       "#sk-container-id-1 div.sk-label.fitted input.sk-toggleable__control:checked~label.sk-toggleable__label {\n",
       "  background-color: var(--sklearn-color-fitted-level-2);\n",
       "}\n",
       "\n",
       "/* Estimator-specific style */\n",
       "\n",
       "/* Colorize estimator box */\n",
       "#sk-container-id-1 div.sk-estimator input.sk-toggleable__control:checked~label.sk-toggleable__label {\n",
       "  /* unfitted */\n",
       "  background-color: var(--sklearn-color-unfitted-level-2);\n",
       "}\n",
       "\n",
       "#sk-container-id-1 div.sk-estimator.fitted input.sk-toggleable__control:checked~label.sk-toggleable__label {\n",
       "  /* fitted */\n",
       "  background-color: var(--sklearn-color-fitted-level-2);\n",
       "}\n",
       "\n",
       "#sk-container-id-1 div.sk-label label.sk-toggleable__label,\n",
       "#sk-container-id-1 div.sk-label label {\n",
       "  /* The background is the default theme color */\n",
       "  color: var(--sklearn-color-text-on-default-background);\n",
       "}\n",
       "\n",
       "/* On hover, darken the color of the background */\n",
       "#sk-container-id-1 div.sk-label:hover label.sk-toggleable__label {\n",
       "  color: var(--sklearn-color-text);\n",
       "  background-color: var(--sklearn-color-unfitted-level-2);\n",
       "}\n",
       "\n",
       "/* Label box, darken color on hover, fitted */\n",
       "#sk-container-id-1 div.sk-label.fitted:hover label.sk-toggleable__label.fitted {\n",
       "  color: var(--sklearn-color-text);\n",
       "  background-color: var(--sklearn-color-fitted-level-2);\n",
       "}\n",
       "\n",
       "/* Estimator label */\n",
       "\n",
       "#sk-container-id-1 div.sk-label label {\n",
       "  font-family: monospace;\n",
       "  font-weight: bold;\n",
       "  display: inline-block;\n",
       "  line-height: 1.2em;\n",
       "}\n",
       "\n",
       "#sk-container-id-1 div.sk-label-container {\n",
       "  text-align: center;\n",
       "}\n",
       "\n",
       "/* Estimator-specific */\n",
       "#sk-container-id-1 div.sk-estimator {\n",
       "  font-family: monospace;\n",
       "  border: 1px dotted var(--sklearn-color-border-box);\n",
       "  border-radius: 0.25em;\n",
       "  box-sizing: border-box;\n",
       "  margin-bottom: 0.5em;\n",
       "  /* unfitted */\n",
       "  background-color: var(--sklearn-color-unfitted-level-0);\n",
       "}\n",
       "\n",
       "#sk-container-id-1 div.sk-estimator.fitted {\n",
       "  /* fitted */\n",
       "  background-color: var(--sklearn-color-fitted-level-0);\n",
       "}\n",
       "\n",
       "/* on hover */\n",
       "#sk-container-id-1 div.sk-estimator:hover {\n",
       "  /* unfitted */\n",
       "  background-color: var(--sklearn-color-unfitted-level-2);\n",
       "}\n",
       "\n",
       "#sk-container-id-1 div.sk-estimator.fitted:hover {\n",
       "  /* fitted */\n",
       "  background-color: var(--sklearn-color-fitted-level-2);\n",
       "}\n",
       "\n",
       "/* Specification for estimator info (e.g. \"i\" and \"?\") */\n",
       "\n",
       "/* Common style for \"i\" and \"?\" */\n",
       "\n",
       ".sk-estimator-doc-link,\n",
       "a:link.sk-estimator-doc-link,\n",
       "a:visited.sk-estimator-doc-link {\n",
       "  float: right;\n",
       "  font-size: smaller;\n",
       "  line-height: 1em;\n",
       "  font-family: monospace;\n",
       "  background-color: var(--sklearn-color-background);\n",
       "  border-radius: 1em;\n",
       "  height: 1em;\n",
       "  width: 1em;\n",
       "  text-decoration: none !important;\n",
       "  margin-left: 0.5em;\n",
       "  text-align: center;\n",
       "  /* unfitted */\n",
       "  border: var(--sklearn-color-unfitted-level-1) 1pt solid;\n",
       "  color: var(--sklearn-color-unfitted-level-1);\n",
       "}\n",
       "\n",
       ".sk-estimator-doc-link.fitted,\n",
       "a:link.sk-estimator-doc-link.fitted,\n",
       "a:visited.sk-estimator-doc-link.fitted {\n",
       "  /* fitted */\n",
       "  border: var(--sklearn-color-fitted-level-1) 1pt solid;\n",
       "  color: var(--sklearn-color-fitted-level-1);\n",
       "}\n",
       "\n",
       "/* On hover */\n",
       "div.sk-estimator:hover .sk-estimator-doc-link:hover,\n",
       ".sk-estimator-doc-link:hover,\n",
       "div.sk-label-container:hover .sk-estimator-doc-link:hover,\n",
       ".sk-estimator-doc-link:hover {\n",
       "  /* unfitted */\n",
       "  background-color: var(--sklearn-color-unfitted-level-3);\n",
       "  color: var(--sklearn-color-background);\n",
       "  text-decoration: none;\n",
       "}\n",
       "\n",
       "div.sk-estimator.fitted:hover .sk-estimator-doc-link.fitted:hover,\n",
       ".sk-estimator-doc-link.fitted:hover,\n",
       "div.sk-label-container:hover .sk-estimator-doc-link.fitted:hover,\n",
       ".sk-estimator-doc-link.fitted:hover {\n",
       "  /* fitted */\n",
       "  background-color: var(--sklearn-color-fitted-level-3);\n",
       "  color: var(--sklearn-color-background);\n",
       "  text-decoration: none;\n",
       "}\n",
       "\n",
       "/* Span, style for the box shown on hovering the info icon */\n",
       ".sk-estimator-doc-link span {\n",
       "  display: none;\n",
       "  z-index: 9999;\n",
       "  position: relative;\n",
       "  font-weight: normal;\n",
       "  right: .2ex;\n",
       "  padding: .5ex;\n",
       "  margin: .5ex;\n",
       "  width: min-content;\n",
       "  min-width: 20ex;\n",
       "  max-width: 50ex;\n",
       "  color: var(--sklearn-color-text);\n",
       "  box-shadow: 2pt 2pt 4pt #999;\n",
       "  /* unfitted */\n",
       "  background: var(--sklearn-color-unfitted-level-0);\n",
       "  border: .5pt solid var(--sklearn-color-unfitted-level-3);\n",
       "}\n",
       "\n",
       ".sk-estimator-doc-link.fitted span {\n",
       "  /* fitted */\n",
       "  background: var(--sklearn-color-fitted-level-0);\n",
       "  border: var(--sklearn-color-fitted-level-3);\n",
       "}\n",
       "\n",
       ".sk-estimator-doc-link:hover span {\n",
       "  display: block;\n",
       "}\n",
       "\n",
       "/* \"?\"-specific style due to the `<a>` HTML tag */\n",
       "\n",
       "#sk-container-id-1 a.estimator_doc_link {\n",
       "  float: right;\n",
       "  font-size: 1rem;\n",
       "  line-height: 1em;\n",
       "  font-family: monospace;\n",
       "  background-color: var(--sklearn-color-background);\n",
       "  border-radius: 1rem;\n",
       "  height: 1rem;\n",
       "  width: 1rem;\n",
       "  text-decoration: none;\n",
       "  /* unfitted */\n",
       "  color: var(--sklearn-color-unfitted-level-1);\n",
       "  border: var(--sklearn-color-unfitted-level-1) 1pt solid;\n",
       "}\n",
       "\n",
       "#sk-container-id-1 a.estimator_doc_link.fitted {\n",
       "  /* fitted */\n",
       "  border: var(--sklearn-color-fitted-level-1) 1pt solid;\n",
       "  color: var(--sklearn-color-fitted-level-1);\n",
       "}\n",
       "\n",
       "/* On hover */\n",
       "#sk-container-id-1 a.estimator_doc_link:hover {\n",
       "  /* unfitted */\n",
       "  background-color: var(--sklearn-color-unfitted-level-3);\n",
       "  color: var(--sklearn-color-background);\n",
       "  text-decoration: none;\n",
       "}\n",
       "\n",
       "#sk-container-id-1 a.estimator_doc_link.fitted:hover {\n",
       "  /* fitted */\n",
       "  background-color: var(--sklearn-color-fitted-level-3);\n",
       "}\n",
       "</style><div id=\"sk-container-id-1\" class=\"sk-top-container\"><div class=\"sk-text-repr-fallback\"><pre>DecisionTreeClassifier(class_weight={&#x27;BUG&#x27;: 0.025,\n",
       "                                     &#x27;NO_BUG&#x27;: 0.0009643201542912247},\n",
       "                       max_depth=5)</pre><b>In a Jupyter environment, please rerun this cell to show the HTML representation or trust the notebook. <br />On GitHub, the HTML representation is unable to render, please try loading this page with nbviewer.org.</b></div><div class=\"sk-container\" hidden><div class=\"sk-item\"><div class=\"sk-estimator fitted sk-toggleable\"><input class=\"sk-toggleable__control sk-hidden--visually\" id=\"sk-estimator-id-1\" type=\"checkbox\" checked><label for=\"sk-estimator-id-1\" class=\"sk-toggleable__label fitted sk-toggleable__label-arrow\"><div><div>DecisionTreeClassifier</div></div><div><a class=\"sk-estimator-doc-link fitted\" rel=\"noreferrer\" target=\"_blank\" href=\"https://scikit-learn.org/1.6/modules/generated/sklearn.tree.DecisionTreeClassifier.html\">?<span>Documentation for DecisionTreeClassifier</span></a><span class=\"sk-estimator-doc-link fitted\">i<span>Fitted</span></span></div></label><div class=\"sk-toggleable__content fitted\"><pre>DecisionTreeClassifier(class_weight={&#x27;BUG&#x27;: 0.025,\n",
       "                                     &#x27;NO_BUG&#x27;: 0.0009643201542912247},\n",
       "                       max_depth=5)</pre></div> </div></div></div></div>"
      ],
      "text/plain": [
       "DecisionTreeClassifier(class_weight={'BUG': 0.025,\n",
       "                                     'NO_BUG': 0.0009643201542912247},\n",
       "                       max_depth=5)"
      ]
     },
     "execution_count": 103,
     "metadata": {},
     "output_type": "execute_result"
    }
   ],
   "source": [
    "alhazen.last_tree()"
   ]
  },
  {
   "cell_type": "markdown",
   "metadata": {
    "slideshow": {
     "slide_type": "fragment"
    }
   },
   "source": [
    "Let's display it:"
   ]
  },
  {
   "cell_type": "code",
   "execution_count": 104,
   "metadata": {
    "execution": {
     "iopub.execute_input": "2025-01-16T09:38:28.416417Z",
     "iopub.status.busy": "2025-01-16T09:38:28.416329Z",
     "iopub.status.idle": "2025-01-16T09:38:28.864610Z",
     "shell.execute_reply": "2025-01-16T09:38:28.864220Z"
    },
    "slideshow": {
     "slide_type": "fragment"
    }
   },
   "outputs": [
    {
     "data": {
      "image/svg+xml": [
       "<?xml version=\"1.0\" encoding=\"UTF-8\" standalone=\"no\"?>\n",
       "<!DOCTYPE svg PUBLIC \"-//W3C//DTD SVG 1.1//EN\"\n",
       " \"http://www.w3.org/Graphics/SVG/1.1/DTD/svg11.dtd\">\n",
       "<!-- Generated by graphviz version 12.2.1 (20241206.2353)\n",
       " -->\n",
       "<!-- Title: Tree Pages: 1 -->\n",
       "<svg width=\"384pt\" height=\"552pt\"\n",
       " viewBox=\"0.00 0.00 383.50 552.00\" xmlns=\"http://www.w3.org/2000/svg\" xmlns:xlink=\"http://www.w3.org/1999/xlink\">\n",
       "<g id=\"graph0\" class=\"graph\" transform=\"scale(1 1) rotate(0) translate(4 548)\">\n",
       "<title>Tree</title>\n",
       "<polygon fill=\"white\" stroke=\"none\" points=\"-4,4 -4,-548 379.5,-548 379.5,4 -4,4\"/>\n",
       "<!-- 0 -->\n",
       "<g id=\"node1\" class=\"node\">\n",
       "<title>0</title>\n",
       "<path fill=\"#ffffff\" stroke=\"black\" d=\"M276.75,-544C276.75,-544 170.75,-544 170.75,-544 164.75,-544 158.75,-538 158.75,-532 158.75,-532 158.75,-473 158.75,-473 158.75,-467 164.75,-461 170.75,-461 170.75,-461 276.75,-461 276.75,-461 282.75,-461 288.75,-467 288.75,-473 288.75,-473 288.75,-532 288.75,-532 288.75,-538 282.75,-544 276.75,-544\"/>\n",
       "<text text-anchor=\"middle\" x=\"223.75\" y=\"-526.7\" font-family=\"Helvetica,sans-Serif\" font-size=\"14.00\">&lt;lead&#45;digit&gt; &lt;= 3.5</text>\n",
       "<text text-anchor=\"middle\" x=\"223.75\" y=\"-511.7\" font-family=\"Helvetica,sans-Serif\" font-size=\"14.00\">gini = 0.5</text>\n",
       "<text text-anchor=\"middle\" x=\"223.75\" y=\"-496.7\" font-family=\"Helvetica,sans-Serif\" font-size=\"14.00\">samples = 1077</text>\n",
       "<text text-anchor=\"middle\" x=\"223.75\" y=\"-481.7\" font-family=\"Helvetica,sans-Serif\" font-size=\"14.00\">value = [1.0, 1.0]</text>\n",
       "<text text-anchor=\"middle\" x=\"223.75\" y=\"-466.7\" font-family=\"Helvetica,sans-Serif\" font-size=\"14.00\">class = NO_BUG</text>\n",
       "</g>\n",
       "<!-- 1 -->\n",
       "<g id=\"node2\" class=\"node\">\n",
       "<title>1</title>\n",
       "<path fill=\"#eca36f\" stroke=\"black\" d=\"M214.25,-425C214.25,-425 63.25,-425 63.25,-425 57.25,-425 51.25,-419 51.25,-413 51.25,-413 51.25,-354 51.25,-354 51.25,-348 57.25,-342 63.25,-342 63.25,-342 214.25,-342 214.25,-342 220.25,-342 226.25,-348 226.25,-354 226.25,-354 226.25,-413 226.25,-413 226.25,-419 220.25,-425 214.25,-425\"/>\n",
       "<text text-anchor=\"middle\" x=\"138.75\" y=\"-407.7\" font-family=\"Helvetica,sans-Serif\" font-size=\"14.00\">&lt;function&gt; == &#39;sqrt&#39; &lt;= 0.5</text>\n",
       "<text text-anchor=\"middle\" x=\"138.75\" y=\"-392.7\" font-family=\"Helvetica,sans-Serif\" font-size=\"14.00\">gini = 0.335</text>\n",
       "<text text-anchor=\"middle\" x=\"138.75\" y=\"-377.7\" font-family=\"Helvetica,sans-Serif\" font-size=\"14.00\">samples = 321</text>\n",
       "<text text-anchor=\"middle\" x=\"138.75\" y=\"-362.7\" font-family=\"Helvetica,sans-Serif\" font-size=\"14.00\">value = [1.0, 0.271]</text>\n",
       "<text text-anchor=\"middle\" x=\"138.75\" y=\"-347.7\" font-family=\"Helvetica,sans-Serif\" font-size=\"14.00\">class = BUG</text>\n",
       "</g>\n",
       "<!-- 0&#45;&gt;1 -->\n",
       "<g id=\"edge1\" class=\"edge\">\n",
       "<title>0&#45;&gt;1</title>\n",
       "<path fill=\"none\" stroke=\"black\" d=\"M194.02,-460.58C187.9,-452.16 181.4,-443.2 175.08,-434.5\"/>\n",
       "<polygon fill=\"black\" stroke=\"black\" points=\"177.92,-432.46 169.21,-426.42 172.25,-436.57 177.92,-432.46\"/>\n",
       "<text text-anchor=\"middle\" x=\"164.41\" y=\"-444.09\" font-family=\"Helvetica,sans-Serif\" font-size=\"14.00\">True</text>\n",
       "</g>\n",
       "<!-- 14 -->\n",
       "<g id=\"node9\" class=\"node\">\n",
       "<title>14</title>\n",
       "<path fill=\"#399de5\" stroke=\"black\" d=\"M363.5,-417.5C363.5,-417.5 256,-417.5 256,-417.5 250,-417.5 244,-411.5 244,-405.5 244,-405.5 244,-361.5 244,-361.5 244,-355.5 250,-349.5 256,-349.5 256,-349.5 363.5,-349.5 363.5,-349.5 369.5,-349.5 375.5,-355.5 375.5,-361.5 375.5,-361.5 375.5,-405.5 375.5,-405.5 375.5,-411.5 369.5,-417.5 363.5,-417.5\"/>\n",
       "<text text-anchor=\"middle\" x=\"309.75\" y=\"-400.2\" font-family=\"Helvetica,sans-Serif\" font-size=\"14.00\">gini = 0.0</text>\n",
       "<text text-anchor=\"middle\" x=\"309.75\" y=\"-385.2\" font-family=\"Helvetica,sans-Serif\" font-size=\"14.00\">samples = 756</text>\n",
       "<text text-anchor=\"middle\" x=\"309.75\" y=\"-370.2\" font-family=\"Helvetica,sans-Serif\" font-size=\"14.00\">value = [0.0, 0.729]</text>\n",
       "<text text-anchor=\"middle\" x=\"309.75\" y=\"-355.2\" font-family=\"Helvetica,sans-Serif\" font-size=\"14.00\">class = NO_BUG</text>\n",
       "</g>\n",
       "<!-- 0&#45;&gt;14 -->\n",
       "<g id=\"edge8\" class=\"edge\">\n",
       "<title>0&#45;&gt;14</title>\n",
       "<path fill=\"none\" stroke=\"black\" d=\"M253.83,-460.58C261.85,-449.66 270.54,-437.85 278.61,-426.86\"/>\n",
       "<polygon fill=\"black\" stroke=\"black\" points=\"281.23,-429.21 284.33,-419.08 275.59,-425.07 281.23,-429.21\"/>\n",
       "<text text-anchor=\"middle\" x=\"289\" y=\"-436.77\" font-family=\"Helvetica,sans-Serif\" font-size=\"14.00\">False</text>\n",
       "</g>\n",
       "<!-- 2 -->\n",
       "<g id=\"node3\" class=\"node\">\n",
       "<title>2</title>\n",
       "<path fill=\"#399de5\" stroke=\"black\" d=\"M119.5,-298.5C119.5,-298.5 12,-298.5 12,-298.5 6,-298.5 0,-292.5 0,-286.5 0,-286.5 0,-242.5 0,-242.5 0,-236.5 6,-230.5 12,-230.5 12,-230.5 119.5,-230.5 119.5,-230.5 125.5,-230.5 131.5,-236.5 131.5,-242.5 131.5,-242.5 131.5,-286.5 131.5,-286.5 131.5,-292.5 125.5,-298.5 119.5,-298.5\"/>\n",
       "<text text-anchor=\"middle\" x=\"65.75\" y=\"-281.2\" font-family=\"Helvetica,sans-Serif\" font-size=\"14.00\">gini = 0.0</text>\n",
       "<text text-anchor=\"middle\" x=\"65.75\" y=\"-266.2\" font-family=\"Helvetica,sans-Serif\" font-size=\"14.00\">samples = 188</text>\n",
       "<text text-anchor=\"middle\" x=\"65.75\" y=\"-251.2\" font-family=\"Helvetica,sans-Serif\" font-size=\"14.00\">value = [0.0, 0.181]</text>\n",
       "<text text-anchor=\"middle\" x=\"65.75\" y=\"-236.2\" font-family=\"Helvetica,sans-Serif\" font-size=\"14.00\">class = NO_BUG</text>\n",
       "</g>\n",
       "<!-- 1&#45;&gt;2 -->\n",
       "<g id=\"edge2\" class=\"edge\">\n",
       "<title>1&#45;&gt;2</title>\n",
       "<path fill=\"none\" stroke=\"black\" d=\"M113.22,-341.58C106.54,-330.88 99.33,-319.32 92.59,-308.52\"/>\n",
       "<polygon fill=\"black\" stroke=\"black\" points=\"95.63,-306.78 87.37,-300.15 89.69,-310.48 95.63,-306.78\"/>\n",
       "</g>\n",
       "<!-- 5 -->\n",
       "<g id=\"node4\" class=\"node\">\n",
       "<title>5</title>\n",
       "<path fill=\"#e78c4b\" stroke=\"black\" d=\"M261.75,-306C261.75,-306 161.75,-306 161.75,-306 155.75,-306 149.75,-300 149.75,-294 149.75,-294 149.75,-235 149.75,-235 149.75,-229 155.75,-223 161.75,-223 161.75,-223 261.75,-223 261.75,-223 267.75,-223 273.75,-229 273.75,-235 273.75,-235 273.75,-294 273.75,-294 273.75,-300 267.75,-306 261.75,-306\"/>\n",
       "<text text-anchor=\"middle\" x=\"211.75\" y=\"-288.7\" font-family=\"Helvetica,sans-Serif\" font-size=\"14.00\">&lt;term&gt; &lt;= &#45;12.03</text>\n",
       "<text text-anchor=\"middle\" x=\"211.75\" y=\"-273.7\" font-family=\"Helvetica,sans-Serif\" font-size=\"14.00\">gini = 0.151</text>\n",
       "<text text-anchor=\"middle\" x=\"211.75\" y=\"-258.7\" font-family=\"Helvetica,sans-Serif\" font-size=\"14.00\">samples = 133</text>\n",
       "<text text-anchor=\"middle\" x=\"211.75\" y=\"-243.7\" font-family=\"Helvetica,sans-Serif\" font-size=\"14.00\">value = [1.0, 0.09]</text>\n",
       "<text text-anchor=\"middle\" x=\"211.75\" y=\"-228.7\" font-family=\"Helvetica,sans-Serif\" font-size=\"14.00\">class = BUG</text>\n",
       "</g>\n",
       "<!-- 1&#45;&gt;5 -->\n",
       "<g id=\"edge3\" class=\"edge\">\n",
       "<title>1&#45;&gt;5</title>\n",
       "<path fill=\"none\" stroke=\"black\" d=\"M164.28,-341.58C169.48,-333.25 175,-324.39 180.38,-315.78\"/>\n",
       "<polygon fill=\"black\" stroke=\"black\" points=\"183.23,-317.82 185.55,-307.48 177.29,-314.12 183.23,-317.82\"/>\n",
       "</g>\n",
       "<!-- 6 -->\n",
       "<g id=\"node5\" class=\"node\">\n",
       "<title>6</title>\n",
       "<path fill=\"#e6843d\" stroke=\"black\" d=\"M190.5,-187C190.5,-187 83,-187 83,-187 77,-187 71,-181 71,-175 71,-175 71,-116 71,-116 71,-110 77,-104 83,-104 83,-104 190.5,-104 190.5,-104 196.5,-104 202.5,-110 202.5,-116 202.5,-116 202.5,-175 202.5,-175 202.5,-181 196.5,-187 190.5,-187\"/>\n",
       "<text text-anchor=\"middle\" x=\"136.75\" y=\"-169.7\" font-family=\"Helvetica,sans-Serif\" font-size=\"14.00\">&lt;term&gt; &lt;= &#45;101.65</text>\n",
       "<text text-anchor=\"middle\" x=\"136.75\" y=\"-154.7\" font-family=\"Helvetica,sans-Serif\" font-size=\"14.00\">gini = 0.042</text>\n",
       "<text text-anchor=\"middle\" x=\"136.75\" y=\"-139.7\" font-family=\"Helvetica,sans-Serif\" font-size=\"14.00\">samples = 63</text>\n",
       "<text text-anchor=\"middle\" x=\"136.75\" y=\"-124.7\" font-family=\"Helvetica,sans-Serif\" font-size=\"14.00\">value = [1.0, 0.022]</text>\n",
       "<text text-anchor=\"middle\" x=\"136.75\" y=\"-109.7\" font-family=\"Helvetica,sans-Serif\" font-size=\"14.00\">class = BUG</text>\n",
       "</g>\n",
       "<!-- 5&#45;&gt;6 -->\n",
       "<g id=\"edge4\" class=\"edge\">\n",
       "<title>5&#45;&gt;6</title>\n",
       "<path fill=\"none\" stroke=\"black\" d=\"M185.52,-222.58C180.18,-214.25 174.5,-205.39 168.98,-196.78\"/>\n",
       "<polygon fill=\"black\" stroke=\"black\" points=\"172,-195 163.66,-188.47 166.11,-198.78 172,-195\"/>\n",
       "</g>\n",
       "<!-- 11 -->\n",
       "<g id=\"node8\" class=\"node\">\n",
       "<title>11</title>\n",
       "<path fill=\"#399de5\" stroke=\"black\" d=\"M340.5,-179.5C340.5,-179.5 233,-179.5 233,-179.5 227,-179.5 221,-173.5 221,-167.5 221,-167.5 221,-123.5 221,-123.5 221,-117.5 227,-111.5 233,-111.5 233,-111.5 340.5,-111.5 340.5,-111.5 346.5,-111.5 352.5,-117.5 352.5,-123.5 352.5,-123.5 352.5,-167.5 352.5,-167.5 352.5,-173.5 346.5,-179.5 340.5,-179.5\"/>\n",
       "<text text-anchor=\"middle\" x=\"286.75\" y=\"-162.2\" font-family=\"Helvetica,sans-Serif\" font-size=\"14.00\">gini = 0.0</text>\n",
       "<text text-anchor=\"middle\" x=\"286.75\" y=\"-147.2\" font-family=\"Helvetica,sans-Serif\" font-size=\"14.00\">samples = 70</text>\n",
       "<text text-anchor=\"middle\" x=\"286.75\" y=\"-132.2\" font-family=\"Helvetica,sans-Serif\" font-size=\"14.00\">value = [0.0, 0.068]</text>\n",
       "<text text-anchor=\"middle\" x=\"286.75\" y=\"-117.2\" font-family=\"Helvetica,sans-Serif\" font-size=\"14.00\">class = NO_BUG</text>\n",
       "</g>\n",
       "<!-- 5&#45;&gt;11 -->\n",
       "<g id=\"edge7\" class=\"edge\">\n",
       "<title>5&#45;&gt;11</title>\n",
       "<path fill=\"none\" stroke=\"black\" d=\"M237.98,-222.58C244.84,-211.88 252.25,-200.32 259.17,-189.52\"/>\n",
       "<polygon fill=\"black\" stroke=\"black\" points=\"262.1,-191.44 264.55,-181.14 256.2,-187.67 262.1,-191.44\"/>\n",
       "</g>\n",
       "<!-- 7 -->\n",
       "<g id=\"node6\" class=\"node\">\n",
       "<title>7</title>\n",
       "<path fill=\"#399de5\" stroke=\"black\" d=\"M119.5,-68C119.5,-68 12,-68 12,-68 6,-68 0,-62 0,-56 0,-56 0,-12 0,-12 0,-6 6,0 12,0 12,0 119.5,0 119.5,0 125.5,0 131.5,-6 131.5,-12 131.5,-12 131.5,-56 131.5,-56 131.5,-62 125.5,-68 119.5,-68\"/>\n",
       "<text text-anchor=\"middle\" x=\"65.75\" y=\"-50.7\" font-family=\"Helvetica,sans-Serif\" font-size=\"14.00\">gini = 0.0</text>\n",
       "<text text-anchor=\"middle\" x=\"65.75\" y=\"-35.7\" font-family=\"Helvetica,sans-Serif\" font-size=\"14.00\">samples = 23</text>\n",
       "<text text-anchor=\"middle\" x=\"65.75\" y=\"-20.7\" font-family=\"Helvetica,sans-Serif\" font-size=\"14.00\">value = [0.0, 0.022]</text>\n",
       "<text text-anchor=\"middle\" x=\"65.75\" y=\"-5.7\" font-family=\"Helvetica,sans-Serif\" font-size=\"14.00\">class = NO_BUG</text>\n",
       "</g>\n",
       "<!-- 6&#45;&gt;7 -->\n",
       "<g id=\"edge5\" class=\"edge\">\n",
       "<title>6&#45;&gt;7</title>\n",
       "<path fill=\"none\" stroke=\"black\" d=\"M110.31,-103.73C104.81,-95.24 99,-86.28 93.46,-77.73\"/>\n",
       "<polygon fill=\"black\" stroke=\"black\" points=\"96.54,-76.06 88.16,-69.57 90.67,-79.86 96.54,-76.06\"/>\n",
       "</g>\n",
       "<!-- 8 -->\n",
       "<g id=\"node7\" class=\"node\">\n",
       "<title>8</title>\n",
       "<path fill=\"#e58139\" stroke=\"black\" d=\"M254,-68C254,-68 161.5,-68 161.5,-68 155.5,-68 149.5,-62 149.5,-56 149.5,-56 149.5,-12 149.5,-12 149.5,-6 155.5,0 161.5,0 161.5,0 254,0 254,0 260,0 266,-6 266,-12 266,-12 266,-56 266,-56 266,-62 260,-68 254,-68\"/>\n",
       "<text text-anchor=\"middle\" x=\"207.75\" y=\"-50.7\" font-family=\"Helvetica,sans-Serif\" font-size=\"14.00\">gini = 0.0</text>\n",
       "<text text-anchor=\"middle\" x=\"207.75\" y=\"-35.7\" font-family=\"Helvetica,sans-Serif\" font-size=\"14.00\">samples = 40</text>\n",
       "<text text-anchor=\"middle\" x=\"207.75\" y=\"-20.7\" font-family=\"Helvetica,sans-Serif\" font-size=\"14.00\">value = [1.0, 0.0]</text>\n",
       "<text text-anchor=\"middle\" x=\"207.75\" y=\"-5.7\" font-family=\"Helvetica,sans-Serif\" font-size=\"14.00\">class = BUG</text>\n",
       "</g>\n",
       "<!-- 6&#45;&gt;8 -->\n",
       "<g id=\"edge6\" class=\"edge\">\n",
       "<title>6&#45;&gt;8</title>\n",
       "<path fill=\"none\" stroke=\"black\" d=\"M163.19,-103.73C168.69,-95.24 174.5,-86.28 180.04,-77.73\"/>\n",
       "<polygon fill=\"black\" stroke=\"black\" points=\"182.83,-79.86 185.34,-69.57 176.96,-76.06 182.83,-79.86\"/>\n",
       "</g>\n",
       "</g>\n",
       "</svg>\n"
      ],
      "text/plain": [
       "<graphviz.sources.Source at 0x11b8c9550>"
      ]
     },
     "execution_count": 104,
     "metadata": {},
     "output_type": "execute_result"
    }
   ],
   "source": [
    "alhazen.show_decision_tree()"
   ]
  },
  {
   "cell_type": "markdown",
   "metadata": {
    "slideshow": {
     "slide_type": "fragment"
    }
   },
   "source": [
    "We can also view the tree as text:"
   ]
  },
  {
   "cell_type": "code",
   "execution_count": 105,
   "metadata": {
    "execution": {
     "iopub.execute_input": "2025-01-16T09:38:28.865994Z",
     "iopub.status.busy": "2025-01-16T09:38:28.865879Z",
     "iopub.status.idle": "2025-01-16T09:38:28.868235Z",
     "shell.execute_reply": "2025-01-16T09:38:28.868031Z"
    },
    "slideshow": {
     "slide_type": "subslide"
    }
   },
   "outputs": [
    {
     "name": "stdout",
     "output_type": "stream",
     "text": [
      "if <lead-digit> <= 3.5000:\n",
      "  if <function> == 'sqrt':\n",
      "    if <term> <= -12.0300:\n",
      "      if <term> <= -101.6500:\n",
      "        NO_BUG\n",
      "      else:\n",
      "        BUG\n",
      "    else:\n",
      "      NO_BUG\n",
      "  else:\n",
      "    NO_BUG\n",
      "else:\n",
      "  NO_BUG\n",
      "\n"
     ]
    }
   ],
   "source": [
    "print(alhazen.friendly_decision_tree())"
   ]
  },
  {
   "cell_type": "markdown",
   "metadata": {
    "slideshow": {
     "slide_type": "subslide"
    }
   },
   "source": [
    "In both views, we see that the failure is related to the `sqrt()` function being called with a negative value.\n",
    "But what's the deal with the `<lead-digit>` and `<value>` fields?\n",
    "For this, let's have a look at our sqrt function code:"
   ]
  },
  {
   "cell_type": "code",
   "execution_count": 106,
   "metadata": {
    "execution": {
     "iopub.execute_input": "2025-01-16T09:38:28.869381Z",
     "iopub.status.busy": "2025-01-16T09:38:28.869293Z",
     "iopub.status.idle": "2025-01-16T09:38:28.870808Z",
     "shell.execute_reply": "2025-01-16T09:38:28.870609Z"
    },
    "slideshow": {
     "slide_type": "skip"
    }
   },
   "outputs": [],
   "source": [
    "import inspect"
   ]
  },
  {
   "cell_type": "code",
   "execution_count": 107,
   "metadata": {
    "execution": {
     "iopub.execute_input": "2025-01-16T09:38:28.871948Z",
     "iopub.status.busy": "2025-01-16T09:38:28.871878Z",
     "iopub.status.idle": "2025-01-16T09:38:28.873986Z",
     "shell.execute_reply": "2025-01-16T09:38:28.873763Z"
    },
    "slideshow": {
     "slide_type": "subslide"
    }
   },
   "outputs": [
    {
     "name": "stdout",
     "output_type": "stream",
     "text": [
      "def task_sqrt(x):\n",
      "    \"\"\"Computes the square root of x, using the Newton-Raphson method\"\"\"\n",
      "    if x <= -12 and x >= -42:\n",
      "        x = 0  # Guess where the bug is :-)\n",
      "    else:\n",
      "        x = 1\n",
      "    x = max(x, 0)\n",
      "    approx = None\n",
      "    guess = x / 2\n",
      "    while approx != guess:\n",
      "        approx = guess\n",
      "        guess = (approx + x / approx) / 2\n",
      "    return approx\n",
      "\n"
     ]
    }
   ],
   "source": [
    "\n",
    "print(inspect.getsource(task_sqrt))"
   ]
  },
  {
   "cell_type": "markdown",
   "metadata": {
    "slideshow": {
     "slide_type": "subslide"
    }
   },
   "source": [
    "We see that Alhazen has correctly determined the boundaries of `x` for the bug - the `<lead-digit>` value must be `4` or less (otherwise, the value of `x` will not trigger the bug); and `<value>` and `<term>` correctly reflect the boundaries.\n",
    "(Note that `<term>` comes with a sign, whereas `<value>` has no sign.)\n",
    "Not too bad for a machine learning approach :-)"
   ]
  },
  {
   "cell_type": "markdown",
   "metadata": {
    "slideshow": {
     "slide_type": "slide"
    }
   },
   "source": [
    "## Synopsis"
   ]
  },
  {
   "cell_type": "markdown",
   "metadata": {
    "slideshow": {
     "slide_type": "fragment"
    }
   },
   "source": [
    "This chapter provides an implementation of the _Alhazen_ approach \\cite{Kampmann2020}, which trains machine learning _classifiers_ from input features.\n",
    "Given a test function, a grammar, and a set of inputs, the `Alhazen` class produces a decision tree that _characterizes failure circumstances_:"
   ]
  },
  {
   "cell_type": "code",
   "execution_count": 108,
   "metadata": {
    "execution": {
     "iopub.execute_input": "2025-01-16T09:38:28.875227Z",
     "iopub.status.busy": "2025-01-16T09:38:28.875146Z",
     "iopub.status.idle": "2025-01-16T09:39:37.541820Z",
     "shell.execute_reply": "2025-01-16T09:39:37.541453Z"
    },
    "slideshow": {
     "slide_type": "fragment"
    }
   },
   "outputs": [],
   "source": [
    "alhazen = Alhazen(sample_runner, CALC_GRAMMAR, initial_sample_list,\n",
    "                  max_iterations=20)\n",
    "alhazen.run()"
   ]
  },
  {
   "cell_type": "markdown",
   "metadata": {
    "slideshow": {
     "slide_type": "fragment"
    }
   },
   "source": [
    "The final decision tree can be accessed using `last_tree()`:"
   ]
  },
  {
   "cell_type": "code",
   "execution_count": 109,
   "metadata": {
    "execution": {
     "iopub.execute_input": "2025-01-16T09:39:37.544652Z",
     "iopub.status.busy": "2025-01-16T09:39:37.544534Z",
     "iopub.status.idle": "2025-01-16T09:39:37.546120Z",
     "shell.execute_reply": "2025-01-16T09:39:37.545899Z"
    },
    "slideshow": {
     "slide_type": "fragment"
    }
   },
   "outputs": [],
   "source": [
    "# alhazen.last_tree()"
   ]
  },
  {
   "cell_type": "markdown",
   "metadata": {
    "slideshow": {
     "slide_type": "fragment"
    }
   },
   "source": [
    "We can visualize the resulting decision tree using `Alhazen.show_decision_tree()`:"
   ]
  },
  {
   "cell_type": "code",
   "execution_count": 110,
   "metadata": {
    "execution": {
     "iopub.execute_input": "2025-01-16T09:39:37.547396Z",
     "iopub.status.busy": "2025-01-16T09:39:37.547302Z",
     "iopub.status.idle": "2025-01-16T09:39:37.986128Z",
     "shell.execute_reply": "2025-01-16T09:39:37.985729Z"
    },
    "slideshow": {
     "slide_type": "subslide"
    }
   },
   "outputs": [
    {
     "data": {
      "image/svg+xml": [
       "<?xml version=\"1.0\" encoding=\"UTF-8\" standalone=\"no\"?>\n",
       "<!DOCTYPE svg PUBLIC \"-//W3C//DTD SVG 1.1//EN\"\n",
       " \"http://www.w3.org/Graphics/SVG/1.1/DTD/svg11.dtd\">\n",
       "<!-- Generated by graphviz version 12.2.1 (20241206.2353)\n",
       " -->\n",
       "<!-- Title: Tree Pages: 1 -->\n",
       "<svg width=\"463pt\" height=\"552pt\"\n",
       " viewBox=\"0.00 0.00 462.50 552.00\" xmlns=\"http://www.w3.org/2000/svg\" xmlns:xlink=\"http://www.w3.org/1999/xlink\">\n",
       "<g id=\"graph0\" class=\"graph\" transform=\"scale(1 1) rotate(0) translate(4 548)\">\n",
       "<title>Tree</title>\n",
       "<polygon fill=\"white\" stroke=\"none\" points=\"-4,4 -4,-548 458.5,-548 458.5,4 -4,4\"/>\n",
       "<!-- 0 -->\n",
       "<g id=\"node1\" class=\"node\">\n",
       "<title>0</title>\n",
       "<path fill=\"#ffffff\" stroke=\"black\" d=\"M291.75,-544C291.75,-544 185.75,-544 185.75,-544 179.75,-544 173.75,-538 173.75,-532 173.75,-532 173.75,-473 173.75,-473 173.75,-467 179.75,-461 185.75,-461 185.75,-461 291.75,-461 291.75,-461 297.75,-461 303.75,-467 303.75,-473 303.75,-473 303.75,-532 303.75,-532 303.75,-538 297.75,-544 291.75,-544\"/>\n",
       "<text text-anchor=\"middle\" x=\"238.75\" y=\"-526.7\" font-family=\"Helvetica,sans-Serif\" font-size=\"14.00\">&lt;lead&#45;digit&gt; &lt;= 4.5</text>\n",
       "<text text-anchor=\"middle\" x=\"238.75\" y=\"-511.7\" font-family=\"Helvetica,sans-Serif\" font-size=\"14.00\">gini = 0.5</text>\n",
       "<text text-anchor=\"middle\" x=\"238.75\" y=\"-496.7\" font-family=\"Helvetica,sans-Serif\" font-size=\"14.00\">samples = 975</text>\n",
       "<text text-anchor=\"middle\" x=\"238.75\" y=\"-481.7\" font-family=\"Helvetica,sans-Serif\" font-size=\"14.00\">value = [1.0, 1.0]</text>\n",
       "<text text-anchor=\"middle\" x=\"238.75\" y=\"-466.7\" font-family=\"Helvetica,sans-Serif\" font-size=\"14.00\">class = NO_BUG</text>\n",
       "</g>\n",
       "<!-- 1 -->\n",
       "<g id=\"node2\" class=\"node\">\n",
       "<title>1</title>\n",
       "<path fill=\"#edaa79\" stroke=\"black\" d=\"M229.25,-425C229.25,-425 78.25,-425 78.25,-425 72.25,-425 66.25,-419 66.25,-413 66.25,-413 66.25,-354 66.25,-354 66.25,-348 72.25,-342 78.25,-342 78.25,-342 229.25,-342 229.25,-342 235.25,-342 241.25,-348 241.25,-354 241.25,-354 241.25,-413 241.25,-413 241.25,-419 235.25,-425 229.25,-425\"/>\n",
       "<text text-anchor=\"middle\" x=\"153.75\" y=\"-407.7\" font-family=\"Helvetica,sans-Serif\" font-size=\"14.00\">&lt;function&gt; == &#39;sqrt&#39; &lt;= 0.5</text>\n",
       "<text text-anchor=\"middle\" x=\"153.75\" y=\"-392.7\" font-family=\"Helvetica,sans-Serif\" font-size=\"14.00\">gini = 0.37</text>\n",
       "<text text-anchor=\"middle\" x=\"153.75\" y=\"-377.7\" font-family=\"Helvetica,sans-Serif\" font-size=\"14.00\">samples = 338</text>\n",
       "<text text-anchor=\"middle\" x=\"153.75\" y=\"-362.7\" font-family=\"Helvetica,sans-Serif\" font-size=\"14.00\">value = [1.0, 0.325]</text>\n",
       "<text text-anchor=\"middle\" x=\"153.75\" y=\"-347.7\" font-family=\"Helvetica,sans-Serif\" font-size=\"14.00\">class = BUG</text>\n",
       "</g>\n",
       "<!-- 0&#45;&gt;1 -->\n",
       "<g id=\"edge1\" class=\"edge\">\n",
       "<title>0&#45;&gt;1</title>\n",
       "<path fill=\"none\" stroke=\"black\" d=\"M209.02,-460.58C202.9,-452.16 196.4,-443.2 190.08,-434.5\"/>\n",
       "<polygon fill=\"black\" stroke=\"black\" points=\"192.92,-432.46 184.21,-426.42 187.25,-436.57 192.92,-432.46\"/>\n",
       "<text text-anchor=\"middle\" x=\"179.41\" y=\"-444.09\" font-family=\"Helvetica,sans-Serif\" font-size=\"14.00\">True</text>\n",
       "</g>\n",
       "<!-- 14 -->\n",
       "<g id=\"node9\" class=\"node\">\n",
       "<title>14</title>\n",
       "<path fill=\"#399de5\" stroke=\"black\" d=\"M378.5,-417.5C378.5,-417.5 271,-417.5 271,-417.5 265,-417.5 259,-411.5 259,-405.5 259,-405.5 259,-361.5 259,-361.5 259,-355.5 265,-349.5 271,-349.5 271,-349.5 378.5,-349.5 378.5,-349.5 384.5,-349.5 390.5,-355.5 390.5,-361.5 390.5,-361.5 390.5,-405.5 390.5,-405.5 390.5,-411.5 384.5,-417.5 378.5,-417.5\"/>\n",
       "<text text-anchor=\"middle\" x=\"324.75\" y=\"-400.2\" font-family=\"Helvetica,sans-Serif\" font-size=\"14.00\">gini = 0.0</text>\n",
       "<text text-anchor=\"middle\" x=\"324.75\" y=\"-385.2\" font-family=\"Helvetica,sans-Serif\" font-size=\"14.00\">samples = 637</text>\n",
       "<text text-anchor=\"middle\" x=\"324.75\" y=\"-370.2\" font-family=\"Helvetica,sans-Serif\" font-size=\"14.00\">value = [0.0, 0.675]</text>\n",
       "<text text-anchor=\"middle\" x=\"324.75\" y=\"-355.2\" font-family=\"Helvetica,sans-Serif\" font-size=\"14.00\">class = NO_BUG</text>\n",
       "</g>\n",
       "<!-- 0&#45;&gt;14 -->\n",
       "<g id=\"edge8\" class=\"edge\">\n",
       "<title>0&#45;&gt;14</title>\n",
       "<path fill=\"none\" stroke=\"black\" d=\"M268.83,-460.58C276.85,-449.66 285.54,-437.85 293.61,-426.86\"/>\n",
       "<polygon fill=\"black\" stroke=\"black\" points=\"296.23,-429.21 299.33,-419.08 290.59,-425.07 296.23,-429.21\"/>\n",
       "<text text-anchor=\"middle\" x=\"304\" y=\"-436.77\" font-family=\"Helvetica,sans-Serif\" font-size=\"14.00\">False</text>\n",
       "</g>\n",
       "<!-- 2 -->\n",
       "<g id=\"node3\" class=\"node\">\n",
       "<title>2</title>\n",
       "<path fill=\"#399de5\" stroke=\"black\" d=\"M119.5,-298.5C119.5,-298.5 12,-298.5 12,-298.5 6,-298.5 0,-292.5 0,-286.5 0,-286.5 0,-242.5 0,-242.5 0,-236.5 6,-230.5 12,-230.5 12,-230.5 119.5,-230.5 119.5,-230.5 125.5,-230.5 131.5,-236.5 131.5,-242.5 131.5,-242.5 131.5,-286.5 131.5,-286.5 131.5,-292.5 125.5,-298.5 119.5,-298.5\"/>\n",
       "<text text-anchor=\"middle\" x=\"65.75\" y=\"-281.2\" font-family=\"Helvetica,sans-Serif\" font-size=\"14.00\">gini = 0.0</text>\n",
       "<text text-anchor=\"middle\" x=\"65.75\" y=\"-266.2\" font-family=\"Helvetica,sans-Serif\" font-size=\"14.00\">samples = 196</text>\n",
       "<text text-anchor=\"middle\" x=\"65.75\" y=\"-251.2\" font-family=\"Helvetica,sans-Serif\" font-size=\"14.00\">value = [0.0, 0.208]</text>\n",
       "<text text-anchor=\"middle\" x=\"65.75\" y=\"-236.2\" font-family=\"Helvetica,sans-Serif\" font-size=\"14.00\">class = NO_BUG</text>\n",
       "</g>\n",
       "<!-- 1&#45;&gt;2 -->\n",
       "<g id=\"edge2\" class=\"edge\">\n",
       "<title>1&#45;&gt;2</title>\n",
       "<path fill=\"none\" stroke=\"black\" d=\"M122.97,-341.58C114.76,-330.66 105.88,-318.85 97.61,-307.86\"/>\n",
       "<polygon fill=\"black\" stroke=\"black\" points=\"100.56,-305.96 91.75,-300.07 94.97,-310.17 100.56,-305.96\"/>\n",
       "</g>\n",
       "<!-- 5 -->\n",
       "<g id=\"node4\" class=\"node\">\n",
       "<title>5</title>\n",
       "<path fill=\"#e89050\" stroke=\"black\" d=\"M323.88,-306C323.88,-306 161.62,-306 161.62,-306 155.62,-306 149.62,-300 149.62,-294 149.62,-294 149.62,-235 149.62,-235 149.62,-229 155.62,-223 161.62,-223 161.62,-223 323.88,-223 323.88,-223 329.88,-223 335.88,-229 335.88,-235 335.88,-235 335.88,-294 335.88,-294 335.88,-300 329.88,-306 323.88,-306\"/>\n",
       "<text text-anchor=\"middle\" x=\"242.75\" y=\"-288.7\" font-family=\"Helvetica,sans-Serif\" font-size=\"14.00\">&lt;term&gt; == &#39;&#45;&lt;value&gt;&#39; &lt;= 0.5</text>\n",
       "<text text-anchor=\"middle\" x=\"242.75\" y=\"-273.7\" font-family=\"Helvetica,sans-Serif\" font-size=\"14.00\">gini = 0.188</text>\n",
       "<text text-anchor=\"middle\" x=\"242.75\" y=\"-258.7\" font-family=\"Helvetica,sans-Serif\" font-size=\"14.00\">samples = 142</text>\n",
       "<text text-anchor=\"middle\" x=\"242.75\" y=\"-243.7\" font-family=\"Helvetica,sans-Serif\" font-size=\"14.00\">value = [1.0, 0.118]</text>\n",
       "<text text-anchor=\"middle\" x=\"242.75\" y=\"-228.7\" font-family=\"Helvetica,sans-Serif\" font-size=\"14.00\">class = BUG</text>\n",
       "</g>\n",
       "<!-- 1&#45;&gt;5 -->\n",
       "<g id=\"edge3\" class=\"edge\">\n",
       "<title>1&#45;&gt;5</title>\n",
       "<path fill=\"none\" stroke=\"black\" d=\"M184.88,-341.58C191.35,-333.07 198.24,-324.01 204.92,-315.23\"/>\n",
       "<polygon fill=\"black\" stroke=\"black\" points=\"207.6,-317.48 210.87,-307.4 202.03,-313.24 207.6,-317.48\"/>\n",
       "</g>\n",
       "<!-- 6 -->\n",
       "<g id=\"node5\" class=\"node\">\n",
       "<title>6</title>\n",
       "<path fill=\"#399de5\" stroke=\"black\" d=\"M221.5,-179.5C221.5,-179.5 114,-179.5 114,-179.5 108,-179.5 102,-173.5 102,-167.5 102,-167.5 102,-123.5 102,-123.5 102,-117.5 108,-111.5 114,-111.5 114,-111.5 221.5,-111.5 221.5,-111.5 227.5,-111.5 233.5,-117.5 233.5,-123.5 233.5,-123.5 233.5,-167.5 233.5,-167.5 233.5,-173.5 227.5,-179.5 221.5,-179.5\"/>\n",
       "<text text-anchor=\"middle\" x=\"167.75\" y=\"-162.2\" font-family=\"Helvetica,sans-Serif\" font-size=\"14.00\">gini = 0.0</text>\n",
       "<text text-anchor=\"middle\" x=\"167.75\" y=\"-147.2\" font-family=\"Helvetica,sans-Serif\" font-size=\"14.00\">samples = 79</text>\n",
       "<text text-anchor=\"middle\" x=\"167.75\" y=\"-132.2\" font-family=\"Helvetica,sans-Serif\" font-size=\"14.00\">value = [0.0, 0.084]</text>\n",
       "<text text-anchor=\"middle\" x=\"167.75\" y=\"-117.2\" font-family=\"Helvetica,sans-Serif\" font-size=\"14.00\">class = NO_BUG</text>\n",
       "</g>\n",
       "<!-- 5&#45;&gt;6 -->\n",
       "<g id=\"edge4\" class=\"edge\">\n",
       "<title>5&#45;&gt;6</title>\n",
       "<path fill=\"none\" stroke=\"black\" d=\"M216.52,-222.58C209.66,-211.88 202.25,-200.32 195.33,-189.52\"/>\n",
       "<polygon fill=\"black\" stroke=\"black\" points=\"198.3,-187.67 189.95,-181.14 192.4,-191.44 198.3,-187.67\"/>\n",
       "</g>\n",
       "<!-- 9 -->\n",
       "<g id=\"node6\" class=\"node\">\n",
       "<title>9</title>\n",
       "<path fill=\"#e68540\" stroke=\"black\" d=\"M371.5,-187C371.5,-187 264,-187 264,-187 258,-187 252,-181 252,-175 252,-175 252,-116 252,-116 252,-110 258,-104 264,-104 264,-104 371.5,-104 371.5,-104 377.5,-104 383.5,-110 383.5,-116 383.5,-116 383.5,-175 383.5,-175 383.5,-181 377.5,-187 371.5,-187\"/>\n",
       "<text text-anchor=\"middle\" x=\"317.75\" y=\"-169.7\" font-family=\"Helvetica,sans-Serif\" font-size=\"14.00\">&lt;integer&gt; &lt;= 42.5</text>\n",
       "<text text-anchor=\"middle\" x=\"317.75\" y=\"-154.7\" font-family=\"Helvetica,sans-Serif\" font-size=\"14.00\">gini = 0.063</text>\n",
       "<text text-anchor=\"middle\" x=\"317.75\" y=\"-139.7\" font-family=\"Helvetica,sans-Serif\" font-size=\"14.00\">samples = 63</text>\n",
       "<text text-anchor=\"middle\" x=\"317.75\" y=\"-124.7\" font-family=\"Helvetica,sans-Serif\" font-size=\"14.00\">value = [1.0, 0.034]</text>\n",
       "<text text-anchor=\"middle\" x=\"317.75\" y=\"-109.7\" font-family=\"Helvetica,sans-Serif\" font-size=\"14.00\">class = BUG</text>\n",
       "</g>\n",
       "<!-- 5&#45;&gt;9 -->\n",
       "<g id=\"edge5\" class=\"edge\">\n",
       "<title>5&#45;&gt;9</title>\n",
       "<path fill=\"none\" stroke=\"black\" d=\"M268.98,-222.58C274.32,-214.25 280,-205.39 285.52,-196.78\"/>\n",
       "<polygon fill=\"black\" stroke=\"black\" points=\"288.39,-198.78 290.84,-188.47 282.5,-195 288.39,-198.78\"/>\n",
       "</g>\n",
       "<!-- 10 -->\n",
       "<g id=\"node7\" class=\"node\">\n",
       "<title>10</title>\n",
       "<path fill=\"#e58139\" stroke=\"black\" d=\"M293,-68C293,-68 200.5,-68 200.5,-68 194.5,-68 188.5,-62 188.5,-56 188.5,-56 188.5,-12 188.5,-12 188.5,-6 194.5,0 200.5,0 200.5,0 293,0 293,0 299,0 305,-6 305,-12 305,-12 305,-56 305,-56 305,-62 299,-68 293,-68\"/>\n",
       "<text text-anchor=\"middle\" x=\"246.75\" y=\"-50.7\" font-family=\"Helvetica,sans-Serif\" font-size=\"14.00\">gini = 0.0</text>\n",
       "<text text-anchor=\"middle\" x=\"246.75\" y=\"-35.7\" font-family=\"Helvetica,sans-Serif\" font-size=\"14.00\">samples = 31</text>\n",
       "<text text-anchor=\"middle\" x=\"246.75\" y=\"-20.7\" font-family=\"Helvetica,sans-Serif\" font-size=\"14.00\">value = [1.0, 0.0]</text>\n",
       "<text text-anchor=\"middle\" x=\"246.75\" y=\"-5.7\" font-family=\"Helvetica,sans-Serif\" font-size=\"14.00\">class = BUG</text>\n",
       "</g>\n",
       "<!-- 9&#45;&gt;10 -->\n",
       "<g id=\"edge6\" class=\"edge\">\n",
       "<title>9&#45;&gt;10</title>\n",
       "<path fill=\"none\" stroke=\"black\" d=\"M291.31,-103.73C285.81,-95.24 280,-86.28 274.46,-77.73\"/>\n",
       "<polygon fill=\"black\" stroke=\"black\" points=\"277.54,-76.06 269.16,-69.57 271.67,-79.86 277.54,-76.06\"/>\n",
       "</g>\n",
       "<!-- 11 -->\n",
       "<g id=\"node8\" class=\"node\">\n",
       "<title>11</title>\n",
       "<path fill=\"#399de5\" stroke=\"black\" d=\"M442.5,-68C442.5,-68 335,-68 335,-68 329,-68 323,-62 323,-56 323,-56 323,-12 323,-12 323,-6 329,0 335,0 335,0 442.5,0 442.5,0 448.5,0 454.5,-6 454.5,-12 454.5,-12 454.5,-56 454.5,-56 454.5,-62 448.5,-68 442.5,-68\"/>\n",
       "<text text-anchor=\"middle\" x=\"388.75\" y=\"-50.7\" font-family=\"Helvetica,sans-Serif\" font-size=\"14.00\">gini = 0.0</text>\n",
       "<text text-anchor=\"middle\" x=\"388.75\" y=\"-35.7\" font-family=\"Helvetica,sans-Serif\" font-size=\"14.00\">samples = 32</text>\n",
       "<text text-anchor=\"middle\" x=\"388.75\" y=\"-20.7\" font-family=\"Helvetica,sans-Serif\" font-size=\"14.00\">value = [0.0, 0.034]</text>\n",
       "<text text-anchor=\"middle\" x=\"388.75\" y=\"-5.7\" font-family=\"Helvetica,sans-Serif\" font-size=\"14.00\">class = NO_BUG</text>\n",
       "</g>\n",
       "<!-- 9&#45;&gt;11 -->\n",
       "<g id=\"edge7\" class=\"edge\">\n",
       "<title>9&#45;&gt;11</title>\n",
       "<path fill=\"none\" stroke=\"black\" d=\"M344.19,-103.73C349.69,-95.24 355.5,-86.28 361.04,-77.73\"/>\n",
       "<polygon fill=\"black\" stroke=\"black\" points=\"363.83,-79.86 366.34,-69.57 357.96,-76.06 363.83,-79.86\"/>\n",
       "</g>\n",
       "</g>\n",
       "</svg>\n"
      ],
      "text/plain": [
       "<graphviz.sources.Source at 0x11b771250>"
      ]
     },
     "execution_count": 110,
     "metadata": {},
     "output_type": "execute_result"
    }
   ],
   "source": [
    "alhazen.show_decision_tree()"
   ]
  },
  {
   "cell_type": "markdown",
   "metadata": {
    "slideshow": {
     "slide_type": "subslide"
    }
   },
   "source": [
    "A decision tree is read from top to bottom.\n",
    "Decision nodes (with two children) come with a _predicate_ on top.\n",
    "This predicate is either\n",
    "\n",
    "* _numeric_, such as `<value> > 20`, indicating the numeric value of the given symbol, or\n",
    "* _existential_, such as `<digit> == '1'`, which has a _negative_ value when False, and a _positive_ value when True.\n",
    "\n",
    "If the predicate evaluates to `True`, follow the left path; if it evaluates to `False`, follow the right path.\n",
    "A leaf node (no children) will give you the final decision `class = BUG` or `class = NO_BUG`.\n",
    "\n",
    "So if the predicate states `<function> == 'sqrt' <= 0.5`, this means that\n",
    "\n",
    "* If the function is _not_ `sqrt` (the predicate `<function> == 'sqrt'` is negative, see above, and hence less than 0.5), follow the left (`True`) path.\n",
    "* If the function _is_ `sqrt` (the predicate `<function> == 'sqrt'` is positive), follow the right (`False`) path.\n",
    "\n",
    "The `samples` field shows the number of sample inputs that contributed to this decision.\n",
    "The `gini` field (aka Gini impurity) indicates how many samples fall into the displayed class (`BUG` or `NO_BUG`).\n",
    "A `gini` value of `0.0` means _purity_ - all samples fall into the displayed class.\n",
    "The _saturation_ of nodes also indicates purity – the higher the saturation, the higher the purity."
   ]
  },
  {
   "cell_type": "markdown",
   "metadata": {
    "slideshow": {
     "slide_type": "subslide"
    }
   },
   "source": [
    "There is also a text version available, with much fewer (but hopefully still essential) details:"
   ]
  },
  {
   "cell_type": "code",
   "execution_count": 111,
   "metadata": {
    "execution": {
     "iopub.execute_input": "2025-01-16T09:39:37.987744Z",
     "iopub.status.busy": "2025-01-16T09:39:37.987623Z",
     "iopub.status.idle": "2025-01-16T09:39:37.990149Z",
     "shell.execute_reply": "2025-01-16T09:39:37.989910Z"
    },
    "slideshow": {
     "slide_type": "subslide"
    }
   },
   "outputs": [
    {
     "name": "stdout",
     "output_type": "stream",
     "text": [
      "if <lead-digit> <= 4.5000:\n",
      "  if <function> == 'sqrt':\n",
      "    if <term> == '-<value>':\n",
      "      if <integer> <= 42.5000:\n",
      "        BUG\n",
      "      else:\n",
      "        NO_BUG\n",
      "    else:\n",
      "      NO_BUG\n",
      "  else:\n",
      "    NO_BUG\n",
      "else:\n",
      "  NO_BUG\n",
      "\n"
     ]
    }
   ],
   "source": [
    "print(alhazen.friendly_decision_tree())"
   ]
  },
  {
   "cell_type": "markdown",
   "metadata": {
    "slideshow": {
     "slide_type": "subslide"
    }
   },
   "source": [
    "In both representations, we see that the present failure is associated with a negative value for the `sqrt` function and precise boundaries for its value.\n",
    "In fact, the error conditions are given in the source code:"
   ]
  },
  {
   "cell_type": "code",
   "execution_count": 112,
   "metadata": {
    "execution": {
     "iopub.execute_input": "2025-01-16T09:39:37.991587Z",
     "iopub.status.busy": "2025-01-16T09:39:37.991473Z",
     "iopub.status.idle": "2025-01-16T09:39:37.993087Z",
     "shell.execute_reply": "2025-01-16T09:39:37.992858Z"
    },
    "slideshow": {
     "slide_type": "skip"
    }
   },
   "outputs": [],
   "source": [
    "import inspect"
   ]
  },
  {
   "cell_type": "code",
   "execution_count": 113,
   "metadata": {
    "execution": {
     "iopub.execute_input": "2025-01-16T09:39:37.994377Z",
     "iopub.status.busy": "2025-01-16T09:39:37.994287Z",
     "iopub.status.idle": "2025-01-16T09:39:37.996311Z",
     "shell.execute_reply": "2025-01-16T09:39:37.996079Z"
    },
    "slideshow": {
     "slide_type": "subslide"
    }
   },
   "outputs": [
    {
     "name": "stdout",
     "output_type": "stream",
     "text": [
      "def task_sqrt(x):\n",
      "    \"\"\"Computes the square root of x, using the Newton-Raphson method\"\"\"\n",
      "    if x <= -12 and x >= -42:\n",
      "        x = 0  # Guess where the bug is :-)\n",
      "    else:\n",
      "        x = 1\n",
      "    x = max(x, 0)\n",
      "    approx = None\n",
      "    guess = x / 2\n",
      "    while approx != guess:\n",
      "        approx = guess\n",
      "        guess = (approx + x / approx) / 2\n",
      "    return approx\n",
      "\n"
     ]
    }
   ],
   "source": [
    "print(inspect.getsource(task_sqrt))"
   ]
  },
  {
   "cell_type": "markdown",
   "metadata": {
    "slideshow": {
     "slide_type": "subslide"
    }
   },
   "source": [
    "Try out Alhazen on your own code and your own examples!"
   ]
  },
  {
   "cell_type": "markdown",
   "metadata": {
    "button": false,
    "new_sheet": true,
    "run_control": {
     "read_only": false
    },
    "slideshow": {
     "slide_type": "slide"
    }
   },
   "source": [
    "## Lessons Learned\n",
    "\n",
    "* Training _machine learners from input features_ can give important insights on failure circumstances.\n",
    "* Generating _additional inputs_ based on feedback from the machine learner can greatly enhance precision.\n",
    "* Applying machine learners on input and execution features is still at its infancy."
   ]
  },
  {
   "cell_type": "markdown",
   "metadata": {
    "button": false,
    "new_sheet": false,
    "run_control": {
     "read_only": false
    },
    "slideshow": {
     "slide_type": "slide"
    }
   },
   "source": [
    "## Next Steps\n",
    "\n",
    "Our [next chapter](Repairer.ipynb) introduces _automated repair_ of programs, building on the fault localization and generalization mechanisms introduced so far."
   ]
  },
  {
   "cell_type": "markdown",
   "metadata": {
    "slideshow": {
     "slide_type": "slide"
    }
   },
   "source": [
    "## Background\n",
    "\n",
    "This chapter is built on the Alhazen paper by Kampmann et al. \\cite{Kampmann2020}.\n",
    "\n",
    "In \\cite{Eberlein2023}, Eberlein et al. introduced _Avicenna_, a new interpretation of Alhazen that makes use of the ISLa framework \\cite{Steinhoefel2022} to learn and produce input features.\n",
    "Avicenna improves over Alhazen in terms of performance, expressiveness, and precision."
   ]
  }
 ],
 "metadata": {
  "ipub": {
   "bibliography": "fuzzingbook.bib",
   "toc": true
  },
  "kernelspec": {
   "display_name": "3.12.8",
   "language": "python",
   "name": "python3"
  },
  "language_info": {
   "codemirror_mode": {
    "name": "ipython",
    "version": 3
   },
   "file_extension": ".py",
   "mimetype": "text/x-python",
   "name": "python",
   "nbconvert_exporter": "python",
   "pygments_lexer": "ipython3",
   "version": "3.12.8"
  },
  "toc": {
   "base_numbering": 1,
   "nav_menu": {},
   "number_sections": true,
   "sideBar": true,
   "skip_h1_title": true,
   "title_cell": "",
   "title_sidebar": "Contents",
   "toc_cell": false,
   "toc_position": {},
   "toc_section_display": true,
   "toc_window_display": true
  },
  "toc-autonumbering": false
 },
 "nbformat": 4,
 "nbformat_minor": 4
}