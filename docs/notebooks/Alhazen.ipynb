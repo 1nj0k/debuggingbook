{
 "cells": [
  {
   "cell_type": "markdown",
   "metadata": {
    "button": false,
    "new_sheet": false,
    "run_control": {
     "read_only": false
    },
    "slideshow": {
     "slide_type": "slide"
    }
   },
   "source": [
    "# Learning from Failures\n",
    "\n",
    "Given the many executions we can generate, it is only natural that these executions would also be subject to _machine learning_ in order to learn which features of the input (or the execution) would be associated with failures.\n",
    "\n",
    "In this chapter, we study the _Alhazen_ approach, one of the first of this kind.\n",
    "Alhazen by Kampmann et al. \\cite{Kampmann2020} automatically learns the associations between the failure of a program and _features of the input data_, say \"The error occurs whenever the `<expr>` element is negative\"\n",
    "\n",
    "This chapter is based on an Alhazen implementation contributed by [Martin Eberlein](https://martineberlein.github.io) of TU Berlin. Thanks a lot, Martin!"
   ]
  },
  {
   "cell_type": "code",
   "execution_count": 1,
   "metadata": {
    "execution": {
     "iopub.execute_input": "2025-01-13T14:55:26.236470Z",
     "iopub.status.busy": "2025-01-13T14:55:26.236062Z",
     "iopub.status.idle": "2025-01-13T14:55:26.241164Z",
     "shell.execute_reply": "2025-01-13T14:55:26.240427Z"
    },
    "slideshow": {
     "slide_type": "subslide"
    }
   },
   "outputs": [],
   "source": [
    "# from bookutils import YouTubeVideo\n",
    "# YouTubeVideo(\"w4u5gCgPlmg\")"
   ]
  },
  {
   "cell_type": "markdown",
   "metadata": {
    "button": false,
    "new_sheet": false,
    "run_control": {
     "read_only": false
    },
    "slideshow": {
     "slide_type": "subslide"
    }
   },
   "source": [
    "**Prerequisites**\n",
    "\n",
    "* This chapter extends the ideas from [the chapter on Generalizing Failure Circumstances](DDSetDebugger.ipynb)."
   ]
  },
  {
   "cell_type": "code",
   "execution_count": 2,
   "metadata": {
    "button": false,
    "execution": {
     "iopub.execute_input": "2025-01-13T14:55:26.245809Z",
     "iopub.status.busy": "2025-01-13T14:55:26.245405Z",
     "iopub.status.idle": "2025-01-13T14:55:26.317300Z",
     "shell.execute_reply": "2025-01-13T14:55:26.316982Z"
    },
    "new_sheet": false,
    "run_control": {
     "read_only": false
    },
    "slideshow": {
     "slide_type": "skip"
    }
   },
   "outputs": [],
   "source": [
    "import bookutils.setup"
   ]
  },
  {
   "cell_type": "markdown",
   "metadata": {
    "slideshow": {
     "slide_type": "slide"
    }
   },
   "source": [
    "## Synopsis\n",
    "<!-- Automatically generated. Do not edit. -->\n",
    "\n",
    "To [use the code provided in this chapter](Importing.ipynb), write\n",
    "\n",
    "```python\n",
    ">>> from debuggingbook.Alhazen import <identifier>\n",
    "```\n",
    "\n",
    "and then make use of the following features.\n",
    "\n",
    "\n",
    "This chapter provides an implementation of the _Alhazen_ approach \\cite{Kampmann2020}, which trains machine learning _classifiers_ from input features.\n",
    "Given a test function, a grammar, and a set of inputs, the `Alhazen` class produces a decision tree that _characterizes failure circumstances_:\n",
    "\n",
    "```python\n",
    ">>> alhazen = Alhazen(sample_runner, CALC_GRAMMAR, initial_sample_list,\n",
    ">>>                   max_iterations=20)\n",
    ">>> alhazen.run()\n",
    "```\n",
    "The final decision tree can be accessed using `last_tree()`:\n",
    "\n",
    "```python\n",
    ">>> # alhazen.last_tree()\n",
    "```\n",
    "We can visualize the resulting decision tree using `Alhazen.show_decision_tree()`:\n",
    "\n",
    "```python\n",
    ">>> alhazen.show_decision_tree()\n",
    "```\n",
    "![](PICS/Alhazen-synopsis-1.svg)\n",
    "\n",
    "A decision tree is read from top to bottom.\n",
    "Decision nodes (with two children) come with a _predicate_ on top.\n",
    "This predicate is either\n",
    "\n",
    "* _numeric_, such as `<value> > 20`, indicating the numeric value of the given symbol, or\n",
    "* _existential_, such as `<digit> == '1'`, which has a _negative_ value when False, and a _positive_ value when True.\n",
    "\n",
    "If the predicate evaluates to `True`, follow the left path; if it evaluates to `False`, follow the right path.\n",
    "A leaf node (no children) will give you the final decision `class = BUG` or `class = NO_BUG`.\n",
    "\n",
    "So if the predicate states `<function> == 'sqrt' <= 0.5`, this means that\n",
    "\n",
    "* If the function is _not_ `sqrt` (the predicate `<function> == 'sqrt'` is negative, see above, and hence less than 0.5), follow the left (`True`) path.\n",
    "* If the function _is_ `sqrt` (the predicate `<function> == 'sqrt'` is positive), follow the right (`False`) path.\n",
    "\n",
    "The `samples` field shows the number of sample inputs that contributed to this decision.\n",
    "The `gini` field (aka Gini impurity) indicates how many samples fall into the displayed class (`BUG` or `NO_BUG`).\n",
    "A `gini` value of `0.0` means _purity_ - all samples fall into the displayed class.\n",
    "The _saturation_ of nodes also indicates purity – the higher the saturation, the higher the purity.\n",
    "\n",
    "There is also a text version available, with much fewer (but hopefully still essential) details:\n",
    "\n",
    "```python\n",
    ">>> print(alhazen.friendly_decision_tree())\n",
    "if <lead-digit> <= 4.5000:\n",
    "  if <function> == 'sqrt':\n",
    "    if <value> <= 42.1600:\n",
    "      if <term> == '-<value>':\n",
    "        BUG\n",
    "      else:\n",
    "        NO_BUG\n",
    "    else:\n",
    "      NO_BUG\n",
    "  else:\n",
    "    NO_BUG\n",
    "else:\n",
    "  NO_BUG\n",
    "\n",
    "\n",
    "```\n",
    "In both representations, we see that the present failure is associated with a negative value for the `sqrt` function and precise boundaries for its value.\n",
    "In fact, the error conditions are given in the source code:\n",
    "\n",
    "```python\n",
    ">>> import inspect\n",
    ">>> print(inspect.getsource(task_sqrt))\n",
    "def task_sqrt(x):\n",
    "    \"\"\"Computes the square root of x, using the Newton-Raphson method\"\"\"\n",
    "    if x <= -12 and x >= -42:\n",
    "        x = 0  # Guess where the bug is :-)\n",
    "    else:\n",
    "        x = 1\n",
    "    x = max(x, 0)\n",
    "    approx = None\n",
    "    guess = x / 2\n",
    "    while approx != guess:\n",
    "        approx = guess\n",
    "        guess = (approx + x / approx) / 2\n",
    "    return approx\n",
    "\n",
    "\n",
    "```\n",
    "Try out Alhazen on your own code and your own examples!\n",
    "\n"
   ]
  },
  {
   "cell_type": "markdown",
   "metadata": {
    "button": false,
    "new_sheet": true,
    "run_control": {
     "read_only": false
    },
    "slideshow": {
     "slide_type": "slide"
    }
   },
   "source": [
    "## Machine Learning for Automated Debugging\n",
    "\n",
    "When diagnosing why a program fails, the first step is to determine the circumstances under which the program fails.\n",
    "In past chapters, we have examined approaches that [correlate execution features with failures](StatisticalDebugger.ipynb)\n",
    "as well as tools that systematically _generate inputs_ to [reduce failure-inducing inputs](DeltaDebugger.ipynb) or [generalize failure circumstances](DDSetDebugger.ipynb).\n",
    "In this chapter, we will go one step further and make use of full-fledged _machine learning_ to identify failure circumstances (and causes)."
   ]
  },
  {
   "cell_type": "markdown",
   "metadata": {
    "slideshow": {
     "slide_type": "subslide"
    }
   },
   "source": [
    "### The Alhazen Approach"
   ]
  },
  {
   "cell_type": "markdown",
   "metadata": {
    "slideshow": {
     "slide_type": "subslide"
    }
   },
   "source": [
    "In 2020, Kampmann et al. \\cite{Kampmann2020} presented one of the first approaches to automatically learn circumstances of (failing) program behavior.\n",
    "Their approach associates the program’s failure with the _syntactical features_ of the input data, allowing them to learn and extract the properties that result in the specific behavior.\n",
    "\n",
    "Their reference implementation _Alhazen_ can generate a diagnosis and explain why, for instance, a particular bug occurs.\n",
    "Alhazen forms a hypothetical model based on the observed inputs.\n",
    "Additional test inputs are generated and executed to refine or refute the hypothesis, eventually obtaining a prediction model of the circumstances of why the behavior in question takes place."
   ]
  },
  {
   "cell_type": "markdown",
   "metadata": {
    "slideshow": {
     "slide_type": "subslide"
    }
   },
   "source": [
    "The tool is named after [Ḥasan Ibn al-Haytham](https://en.wikipedia.org/wiki/Ibn_al-Haytham) (latinized name: Alhazen).\n",
    "Often referred to as the \"Father of modern optics\", Ibn al-Haytham made significant contributions to the principles of optics and visual perception.\n",
    "Most notably, he was an early proponent of the concept that a hypothesis must be supported by experiments, and thus\n",
    "one of the inventors of the _scientific method_, the key process in the Alhazen tool."
   ]
  },
  {
   "cell_type": "markdown",
   "metadata": {
    "slideshow": {
     "slide_type": "fragment"
    }
   },
   "source": [
    "\n",
    "![title](PICS/Alhazen.png)"
   ]
  },
  {
   "cell_type": "markdown",
   "metadata": {
    "slideshow": {
     "slide_type": "subslide"
    }
   },
   "source": [
    "Let us give a high-level description of how Alhazen works, illustrated above.\n",
    "\n",
    "Alhazen is given an _input grammar_ and a number of _input files_ (whose format is given by the grammar),\n",
    "and produces a _decision tree_ – a machine learning model that explains under which circumstances the program fails.\n",
    "\n",
    "Alhazen determines and refines these decision trees in five steps:\n",
    "\n",
    "1. For each input file, Alhazen extracts a number of _input features_ that apply.\n",
    "   These input features are predicates over the individual elements of the input grammar, such as `<expr> > 0` (an `<expr>` element is larger than zero) or `exists(<minus-sign>)` (the input contains a minus sign).\n",
    "2. The test outcomes of the input files _label_ these input files as _buggy_ or _non-buggy_.\n",
    "   From the respective input features and the labels, Alhazen trains a _decision tree_ that associates these features with the labels - that is, the decision tree explains which features lead to _buggy_ or _non-buggy_.\n",
    "3. As it is typically trained on few samples only, the initial classification model may be imprecise.\n",
    "   Hence, Alhazen extracts further _requirements_ for additional test cases that may help in increasing precision, such as `<digit> == '6'` (we need more inputs in which the `<digit>` field has a value of `6`.)\n",
    "4. Satisfying these requirements, Alhazen then generates additional inputs...\n",
    "5. ...which it executes, thus again labeling them as _buggy_ or _non-buggy_.\n",
    "   From the new inputs, we can again extract the features, and repeat the cycle.\n",
    "\n",
    "The whole process keeps on refining decision trees with more and more inputs.\n",
    "Eventually, the decision trees are supposed to be precise enough that they can become _theory_ - that is, an explanation of why the program fails with high predictive power for future inputs."
   ]
  },
  {
   "cell_type": "markdown",
   "metadata": {
    "slideshow": {
     "slide_type": "subslide"
    }
   },
   "source": [
    "The Alhazen process thus automates the _scientific method of debugging_:\n",
    "\n",
    "* making initial _observations_ (Steps 1 and 2),\n",
    "* coming up with _hypotheses_ that explain the observations (Step 3),\n",
    "* designing _experiments_ to further _support_ or _refute_ the hypotheses (Steps 4 and 5),\n",
    "* and repeating the entire process until we have a _predicting theory_ on why the program fails."
   ]
  },
  {
   "cell_type": "markdown",
   "metadata": {
    "slideshow": {
     "slide_type": "subslide"
    }
   },
   "source": [
    "### Structure of this Chapter\n",
    "\n",
    "In the remainder of this chapter, we will first introduce [grammars](#Inputs-and-Grammars).\n",
    "\n",
    "We then explore and implement the individual steps of Alhazen:\n",
    "\n",
    "* [Step 1: Extracting Features](#Step-1:-Extracting-Features)\n",
    "* [Step 2: Train Classification Model](#Step-2:-Train-Classification-Model)\n",
    "* [Step 3: Extract Feature Requirements](#Step-3:-Extract-Feature-Requirements)\n",
    "* [Step 4: Generating New Samples](#Step-4:-Generating-New-Samples)\n",
    "* [Step 5: Executing New Inputs](#Step-5:-Generating-New-Inputs)\n",
    "\n",
    "After this is done, we can compose all these into a single `Alhazen` class and [run it on a sample input](#A-Sample-Run).\n",
    "If you want to see Alhazen in action first (before going into all the details, check out the sample run.)"
   ]
  },
  {
   "cell_type": "markdown",
   "metadata": {
    "button": false,
    "new_sheet": false,
    "run_control": {
     "read_only": false
    },
    "slideshow": {
     "slide_type": "slide"
    }
   },
   "source": [
    "## Inputs and Grammars"
   ]
  },
  {
   "cell_type": "markdown",
   "metadata": {
    "slideshow": {
     "slide_type": "fragment"
    }
   },
   "source": [
    "Alhazen heavily builds on _grammars_ as a means to decompose inputs into individual elements, such that it can reason about these elements, and also generate new ones automatically.\n",
    "\n",
    "To work with grammars, we use the framework provided by [The Fuzzing Book](https://www.fuzzingbook.org).\n",
    "For a more detailed description of Grammars and how to use them for production, have a look at the chapter [\"Fuzzing with Grammars\"](https://www.fuzzingbook.org/html/Grammars.html)"
   ]
  },
  {
   "cell_type": "code",
   "execution_count": 3,
   "metadata": {
    "execution": {
     "iopub.execute_input": "2025-01-13T14:55:26.319370Z",
     "iopub.status.busy": "2025-01-13T14:55:26.319254Z",
     "iopub.status.idle": "2025-01-13T14:55:26.320992Z",
     "shell.execute_reply": "2025-01-13T14:55:26.320730Z"
    },
    "slideshow": {
     "slide_type": "skip"
    }
   },
   "outputs": [],
   "source": [
    "from typing import List, Tuple, Dict, Any, Optional"
   ]
  },
  {
   "cell_type": "code",
   "execution_count": 4,
   "metadata": {
    "execution": {
     "iopub.execute_input": "2025-01-13T14:55:26.322529Z",
     "iopub.status.busy": "2025-01-13T14:55:26.322413Z",
     "iopub.status.idle": "2025-01-13T14:55:26.343612Z",
     "shell.execute_reply": "2025-01-13T14:55:26.343244Z"
    },
    "slideshow": {
     "slide_type": "skip"
    }
   },
   "outputs": [],
   "source": [
    "from fuzzingbook.Grammars import Grammar, EXPR_GRAMMAR, reachable_nonterminals, is_valid_grammar\n",
    "from fuzzingbook.GrammarFuzzer import GrammarFuzzer, expansion_to_children, DerivationTree, tree_to_string, display_tree, is_nonterminal\n",
    "from fuzzingbook.Parser import EarleyParser"
   ]
  },
  {
   "cell_type": "markdown",
   "metadata": {
    "slideshow": {
     "slide_type": "fragment"
    }
   },
   "source": [
    "Let us build a simple grammar for a calculator.\n",
    "The calculator code is listed below."
   ]
  },
  {
   "cell_type": "code",
   "execution_count": 5,
   "metadata": {
    "execution": {
     "iopub.execute_input": "2025-01-13T14:55:26.345492Z",
     "iopub.status.busy": "2025-01-13T14:55:26.345335Z",
     "iopub.status.idle": "2025-01-13T14:55:26.347391Z",
     "shell.execute_reply": "2025-01-13T14:55:26.347032Z"
    },
    "slideshow": {
     "slide_type": "skip"
    }
   },
   "outputs": [],
   "source": [
    "from math import tan as rtan\n",
    "from math import cos as rcos\n",
    "from math import sin as rsin"
   ]
  },
  {
   "cell_type": "code",
   "execution_count": 6,
   "metadata": {
    "execution": {
     "iopub.execute_input": "2025-01-13T14:55:26.348988Z",
     "iopub.status.busy": "2025-01-13T14:55:26.348758Z",
     "iopub.status.idle": "2025-01-13T14:55:26.351559Z",
     "shell.execute_reply": "2025-01-13T14:55:26.351260Z"
    },
    "slideshow": {
     "slide_type": "subslide"
    }
   },
   "outputs": [],
   "source": [
    "\"\"\"\n",
    "This file contains the code under test for the example bug.\n",
    "The sqrt() method fails on x <= 0.\n",
    "\"\"\"\n",
    "def task_sqrt(x):\n",
    "    \"\"\"Computes the square root of x, using the Newton-Raphson method\"\"\"\n",
    "    if x <= -12 and x >= -42:\n",
    "        x = 0  # Guess where the bug is :-)\n",
    "    else:\n",
    "        x = 1\n",
    "    x = max(x, 0)\n",
    "    approx = None\n",
    "    guess = x / 2\n",
    "    while approx != guess:\n",
    "        approx = guess\n",
    "        guess = (approx + x / approx) / 2\n",
    "    return approx\n",
    "\n",
    "\n",
    "def task_tan(x):\n",
    "    return rtan(x)\n",
    "\n",
    "\n",
    "def task_cos(x):\n",
    "    return rcos(x)\n",
    "\n",
    "\n",
    "def task_sin(x):\n",
    "    return rsin(x)"
   ]
  },
  {
   "cell_type": "markdown",
   "metadata": {
    "slideshow": {
     "slide_type": "subslide"
    }
   },
   "source": [
    "\n",
    "\n",
    "The language consists of functions (`<function>`) that are being invoked on a numerical value (`<term>`)."
   ]
  },
  {
   "cell_type": "code",
   "execution_count": 7,
   "metadata": {
    "execution": {
     "iopub.execute_input": "2025-01-13T14:55:26.353273Z",
     "iopub.status.busy": "2025-01-13T14:55:26.353109Z",
     "iopub.status.idle": "2025-01-13T14:55:26.355616Z",
     "shell.execute_reply": "2025-01-13T14:55:26.355168Z"
    },
    "slideshow": {
     "slide_type": "subslide"
    }
   },
   "outputs": [],
   "source": [
    "CALC_GRAMMAR: Grammar = {\n",
    "    \"<start>\":\n",
    "        [\"<function>(<term>)\"],\n",
    "\n",
    "    \"<function>\":\n",
    "        [\"sqrt\", \"tan\", \"cos\", \"sin\"],\n",
    "\n",
    "    \"<term>\": [\"-<value>\", \"<value>\"],\n",
    "\n",
    "    \"<value>\":\n",
    "        [\"<integer>.<digits>\",\n",
    "         \"<integer>\"],\n",
    "\n",
    "    \"<integer>\":\n",
    "        [\"<lead-digit><digits>\", \"<digit>\"],\n",
    "\n",
    "    \"<digits>\":\n",
    "        [\"<digit><digits>\", \"<digit>\"],\n",
    "\n",
    "    \"<lead-digit>\":  # First digit cannot be zero\n",
    "        [\"1\", \"2\", \"3\", \"4\", \"5\", \"6\", \"7\", \"8\", \"9\"],\n",
    "\n",
    "    \"<digit>\":\n",
    "        [\"0\", \"1\", \"2\", \"3\", \"4\", \"5\", \"6\", \"7\", \"8\", \"9\"],\n",
    "}"
   ]
  },
  {
   "cell_type": "markdown",
   "metadata": {
    "slideshow": {
     "slide_type": "subslide"
    }
   },
   "source": [
    "We see that the `CALC_GRAMMAR` consists of several production rules. The calculator subject will only accept inputs that conform to this grammar definition."
   ]
  },
  {
   "cell_type": "markdown",
   "metadata": {
    "slideshow": {
     "slide_type": "fragment"
    }
   },
   "source": [
    "Let us load two initial input samples:\n",
    "- `sqrt(-16)`\n",
    "- `sqrt(4)`"
   ]
  },
  {
   "cell_type": "code",
   "execution_count": 8,
   "metadata": {
    "execution": {
     "iopub.execute_input": "2025-01-13T14:55:26.357707Z",
     "iopub.status.busy": "2025-01-13T14:55:26.357529Z",
     "iopub.status.idle": "2025-01-13T14:55:26.359691Z",
     "shell.execute_reply": "2025-01-13T14:55:26.359381Z"
    },
    "slideshow": {
     "slide_type": "fragment"
    }
   },
   "outputs": [],
   "source": [
    "# Load initial input files\n",
    "initial_sample_list = ['sqrt(-16)', 'sqrt(4)']"
   ]
  },
  {
   "cell_type": "markdown",
   "metadata": {
    "slideshow": {
     "slide_type": "fragment"
    }
   },
   "source": [
    "Let's execute our two input samples and observe the calculator's behavior.\n",
    "We implement the function `sample_runner(sample)` that lets us execute the calculator for a single sample. `sample_runner(sample)` returns an `OracleResult` for the sample."
   ]
  },
  {
   "cell_type": "code",
   "execution_count": 9,
   "metadata": {
    "execution": {
     "iopub.execute_input": "2025-01-13T14:55:26.361255Z",
     "iopub.status.busy": "2025-01-13T14:55:26.361141Z",
     "iopub.status.idle": "2025-01-13T14:55:26.362818Z",
     "shell.execute_reply": "2025-01-13T14:55:26.362539Z"
    },
    "slideshow": {
     "slide_type": "skip"
    }
   },
   "outputs": [],
   "source": [
    "from enum import Enum"
   ]
  },
  {
   "cell_type": "code",
   "execution_count": 10,
   "metadata": {
    "execution": {
     "iopub.execute_input": "2025-01-13T14:55:26.364126Z",
     "iopub.status.busy": "2025-01-13T14:55:26.364039Z",
     "iopub.status.idle": "2025-01-13T14:55:26.366109Z",
     "shell.execute_reply": "2025-01-13T14:55:26.365875Z"
    },
    "slideshow": {
     "slide_type": "subslide"
    }
   },
   "outputs": [],
   "source": [
    "class OracleResult(Enum):\n",
    "    BUG = \"BUG\"\n",
    "    NO_BUG = \"NO_BUG\"\n",
    "    UNDEF = \"UNDEF\"\n",
    "\n",
    "    def __str__(self):\n",
    "        return self.value"
   ]
  },
  {
   "cell_type": "code",
   "execution_count": 11,
   "metadata": {
    "execution": {
     "iopub.execute_input": "2025-01-13T14:55:26.367290Z",
     "iopub.status.busy": "2025-01-13T14:55:26.367204Z",
     "iopub.status.idle": "2025-01-13T14:55:26.368960Z",
     "shell.execute_reply": "2025-01-13T14:55:26.368566Z"
    },
    "slideshow": {
     "slide_type": "skip"
    }
   },
   "outputs": [],
   "source": [
    "import sys"
   ]
  },
  {
   "cell_type": "code",
   "execution_count": 12,
   "metadata": {
    "execution": {
     "iopub.execute_input": "2025-01-13T14:55:26.370507Z",
     "iopub.status.busy": "2025-01-13T14:55:26.370410Z",
     "iopub.status.idle": "2025-01-13T14:55:26.372865Z",
     "shell.execute_reply": "2025-01-13T14:55:26.372592Z"
    },
    "slideshow": {
     "slide_type": "subslide"
    }
   },
   "outputs": [],
   "source": [
    "SUBJECT = \"calculator\"\n",
    "\n",
    "def sample_runner(sample):\n",
    "    testcode = sample\n",
    "\n",
    "    try:\n",
    "        # Simply execute the calculator code, with the functions replaced\n",
    "        exec(testcode, {\"sqrt\": task_sqrt, \"tan\": task_tan, \"sin\": task_sin, \"cos\": task_cos}, {})\n",
    "        return OracleResult.NO_BUG\n",
    "    except ZeroDivisionError:\n",
    "        return OracleResult.BUG\n",
    "    except Exception as e:\n",
    "        print(e, file=sys.stderr)\n",
    "        return OracleResult.UNDEF"
   ]
  },
  {
   "cell_type": "markdown",
   "metadata": {
    "slideshow": {
     "slide_type": "fragment"
    }
   },
   "source": [
    "Let's test the function:"
   ]
  },
  {
   "cell_type": "code",
   "execution_count": 13,
   "metadata": {
    "execution": {
     "iopub.execute_input": "2025-01-13T14:55:26.374372Z",
     "iopub.status.busy": "2025-01-13T14:55:26.374269Z",
     "iopub.status.idle": "2025-01-13T14:55:26.377663Z",
     "shell.execute_reply": "2025-01-13T14:55:26.377388Z"
    },
    "slideshow": {
     "slide_type": "subslide"
    }
   },
   "outputs": [
    {
     "data": {
      "text/plain": [
       "<OracleResult.BUG: 'BUG'>"
      ]
     },
     "execution_count": 13,
     "metadata": {},
     "output_type": "execute_result"
    }
   ],
   "source": [
    "sample = \"sqrt(-16)\"\n",
    "sample_runner(sample)"
   ]
  },
  {
   "cell_type": "markdown",
   "metadata": {
    "slideshow": {
     "slide_type": "fragment"
    }
   },
   "source": [
    "As expected, the sample `sqrt(-16)` triggers the calculator bug. Let's try some more samples:"
   ]
  },
  {
   "cell_type": "code",
   "execution_count": 14,
   "metadata": {
    "execution": {
     "iopub.execute_input": "2025-01-13T14:55:26.400167Z",
     "iopub.status.busy": "2025-01-13T14:55:26.400029Z",
     "iopub.status.idle": "2025-01-13T14:55:26.402080Z",
     "shell.execute_reply": "2025-01-13T14:55:26.401800Z"
    },
    "slideshow": {
     "slide_type": "fragment"
    }
   },
   "outputs": [],
   "source": [
    "assert sample_runner(\"sqrt(-23)\") == OracleResult.BUG\n",
    "assert sample_runner(\"sqrt(44)\") == OracleResult.NO_BUG\n",
    "assert sample_runner(\"cos(-9)\") == OracleResult.NO_BUG"
   ]
  },
  {
   "cell_type": "markdown",
   "metadata": {
    "slideshow": {
     "slide_type": "fragment"
    }
   },
   "source": [
    "What happens if we parse inputs to calculator that do not conform to its input format?"
   ]
  },
  {
   "cell_type": "code",
   "execution_count": 15,
   "metadata": {
    "execution": {
     "iopub.execute_input": "2025-01-13T14:55:26.403986Z",
     "iopub.status.busy": "2025-01-13T14:55:26.403626Z",
     "iopub.status.idle": "2025-01-13T14:55:26.406428Z",
     "shell.execute_reply": "2025-01-13T14:55:26.406088Z"
    },
    "slideshow": {
     "slide_type": "fragment"
    }
   },
   "outputs": [
    {
     "name": "stderr",
     "output_type": "stream",
     "text": [
      "name 'undef_function' is not defined\n"
     ]
    },
    {
     "data": {
      "text/plain": [
       "<OracleResult.UNDEF: 'UNDEF'>"
      ]
     },
     "execution_count": 15,
     "metadata": {},
     "output_type": "execute_result"
    }
   ],
   "source": [
    "sample_runner(\"undef_function(QUERY)\")"
   ]
  },
  {
   "cell_type": "markdown",
   "metadata": {
    "slideshow": {
     "slide_type": "subslide"
    }
   },
   "source": [
    "The function `sample_runner(sample)` returns an `OracleResult.UNDEF` whenever the runner is not able to execute the sample."
   ]
  },
  {
   "cell_type": "markdown",
   "metadata": {
    "slideshow": {
     "slide_type": "fragment"
    }
   },
   "source": [
    "Finally, we provide the function `execute_samples(sample_list)` that obtains the oracle/label for a list of samples.\n",
    "We use the `pandas` module to place these in a data frame."
   ]
  },
  {
   "cell_type": "code",
   "execution_count": 16,
   "metadata": {
    "execution": {
     "iopub.execute_input": "2025-01-13T14:55:26.408198Z",
     "iopub.status.busy": "2025-01-13T14:55:26.408063Z",
     "iopub.status.idle": "2025-01-13T14:55:26.744367Z",
     "shell.execute_reply": "2025-01-13T14:55:26.744052Z"
    },
    "slideshow": {
     "slide_type": "skip"
    }
   },
   "outputs": [],
   "source": [
    "import pandas\n",
    "import numpy\n",
    "import matplotlib"
   ]
  },
  {
   "cell_type": "code",
   "execution_count": 17,
   "metadata": {
    "execution": {
     "iopub.execute_input": "2025-01-13T14:55:26.746419Z",
     "iopub.status.busy": "2025-01-13T14:55:26.746116Z",
     "iopub.status.idle": "2025-01-13T14:55:26.748352Z",
     "shell.execute_reply": "2025-01-13T14:55:26.748101Z"
    },
    "slideshow": {
     "slide_type": "fragment"
    }
   },
   "outputs": [],
   "source": [
    "# Executes a list of samples and return the execution outcome (label)\n",
    "# The function returns a pandas dataframe\n",
    "def execute_samples(sample_list):\n",
    "    data = []\n",
    "    for sample in sample_list:\n",
    "        result = sample_runner(sample)\n",
    "        data.append({\"oracle\": result })\n",
    "\n",
    "    return pandas.DataFrame.from_records(data)"
   ]
  },
  {
   "cell_type": "markdown",
   "metadata": {
    "slideshow": {
     "slide_type": "subslide"
    }
   },
   "source": [
    "Let us define a bigger list of samples to execute..."
   ]
  },
  {
   "cell_type": "code",
   "execution_count": 18,
   "metadata": {
    "execution": {
     "iopub.execute_input": "2025-01-13T14:55:26.749942Z",
     "iopub.status.busy": "2025-01-13T14:55:26.749793Z",
     "iopub.status.idle": "2025-01-13T14:55:26.751616Z",
     "shell.execute_reply": "2025-01-13T14:55:26.751313Z"
    },
    "slideshow": {
     "slide_type": "fragment"
    }
   },
   "outputs": [],
   "source": [
    "sample_list = [\"sqrt(-20)\", \"cos(2)\", \"sqrt(-100)\", \"undef_function(foo)\"]"
   ]
  },
  {
   "cell_type": "markdown",
   "metadata": {
    "slideshow": {
     "slide_type": "fragment"
    }
   },
   "source": [
    "... and obtain the execution outcome"
   ]
  },
  {
   "cell_type": "code",
   "execution_count": 19,
   "metadata": {
    "execution": {
     "iopub.execute_input": "2025-01-13T14:55:26.753480Z",
     "iopub.status.busy": "2025-01-13T14:55:26.753355Z",
     "iopub.status.idle": "2025-01-13T14:55:26.761420Z",
     "shell.execute_reply": "2025-01-13T14:55:26.761052Z"
    },
    "slideshow": {
     "slide_type": "fragment"
    }
   },
   "outputs": [
    {
     "name": "stderr",
     "output_type": "stream",
     "text": [
      "name 'undef_function' is not defined\n"
     ]
    },
    {
     "data": {
      "text/html": [
       "<div>\n",
       "<style scoped>\n",
       "    .dataframe tbody tr th:only-of-type {\n",
       "        vertical-align: middle;\n",
       "    }\n",
       "\n",
       "    .dataframe tbody tr th {\n",
       "        vertical-align: top;\n",
       "    }\n",
       "\n",
       "    .dataframe thead th {\n",
       "        text-align: right;\n",
       "    }\n",
       "</style>\n",
       "<table border=\"1\" class=\"dataframe\">\n",
       "  <thead>\n",
       "    <tr style=\"text-align: right;\">\n",
       "      <th></th>\n",
       "      <th>oracle</th>\n",
       "    </tr>\n",
       "  </thead>\n",
       "  <tbody>\n",
       "    <tr>\n",
       "      <th>0</th>\n",
       "      <td>BUG</td>\n",
       "    </tr>\n",
       "    <tr>\n",
       "      <th>1</th>\n",
       "      <td>NO_BUG</td>\n",
       "    </tr>\n",
       "    <tr>\n",
       "      <th>2</th>\n",
       "      <td>NO_BUG</td>\n",
       "    </tr>\n",
       "    <tr>\n",
       "      <th>3</th>\n",
       "      <td>UNDEF</td>\n",
       "    </tr>\n",
       "  </tbody>\n",
       "</table>\n",
       "</div>"
      ],
      "text/plain": [
       "   oracle\n",
       "0     BUG\n",
       "1  NO_BUG\n",
       "2  NO_BUG\n",
       "3   UNDEF"
      ]
     },
     "execution_count": 19,
     "metadata": {},
     "output_type": "execute_result"
    }
   ],
   "source": [
    "labels = execute_samples(sample_list)\n",
    "labels"
   ]
  },
  {
   "cell_type": "markdown",
   "metadata": {
    "slideshow": {
     "slide_type": "fragment"
    }
   },
   "source": [
    "We can combine these with the `sample_list`:"
   ]
  },
  {
   "cell_type": "code",
   "execution_count": 20,
   "metadata": {
    "execution": {
     "iopub.execute_input": "2025-01-13T14:55:26.763249Z",
     "iopub.status.busy": "2025-01-13T14:55:26.763126Z",
     "iopub.status.idle": "2025-01-13T14:55:26.765320Z",
     "shell.execute_reply": "2025-01-13T14:55:26.765062Z"
    },
    "slideshow": {
     "slide_type": "subslide"
    }
   },
   "outputs": [
    {
     "name": "stdout",
     "output_type": "stream",
     "text": [
      "sqrt(-20)                     BUG\n",
      "cos(2)                        NO_BUG\n",
      "sqrt(-100)                    NO_BUG\n",
      "undef_function(foo)           UNDEF\n"
     ]
    }
   ],
   "source": [
    "for i, row in enumerate(labels['oracle']): print(sample_list[i].ljust(30) + str(row))"
   ]
  },
  {
   "cell_type": "markdown",
   "metadata": {
    "slideshow": {
     "slide_type": "fragment"
    }
   },
   "source": [
    "We can remove the undefined input samples like this:"
   ]
  },
  {
   "cell_type": "code",
   "execution_count": 21,
   "metadata": {
    "execution": {
     "iopub.execute_input": "2025-01-13T14:55:26.766979Z",
     "iopub.status.busy": "2025-01-13T14:55:26.766849Z",
     "iopub.status.idle": "2025-01-13T14:55:26.772474Z",
     "shell.execute_reply": "2025-01-13T14:55:26.772197Z"
    },
    "slideshow": {
     "slide_type": "fragment"
    }
   },
   "outputs": [
    {
     "data": {
      "text/html": [
       "<div>\n",
       "<style scoped>\n",
       "    .dataframe tbody tr th:only-of-type {\n",
       "        vertical-align: middle;\n",
       "    }\n",
       "\n",
       "    .dataframe tbody tr th {\n",
       "        vertical-align: top;\n",
       "    }\n",
       "\n",
       "    .dataframe thead th {\n",
       "        text-align: right;\n",
       "    }\n",
       "</style>\n",
       "<table border=\"1\" class=\"dataframe\">\n",
       "  <thead>\n",
       "    <tr style=\"text-align: right;\">\n",
       "      <th></th>\n",
       "      <th>oracle</th>\n",
       "    </tr>\n",
       "  </thead>\n",
       "  <tbody>\n",
       "    <tr>\n",
       "      <th>0</th>\n",
       "      <td>BUG</td>\n",
       "    </tr>\n",
       "    <tr>\n",
       "      <th>1</th>\n",
       "      <td>NO_BUG</td>\n",
       "    </tr>\n",
       "    <tr>\n",
       "      <th>2</th>\n",
       "      <td>NO_BUG</td>\n",
       "    </tr>\n",
       "  </tbody>\n",
       "</table>\n",
       "</div>"
      ],
      "text/plain": [
       "   oracle\n",
       "0     BUG\n",
       "1  NO_BUG\n",
       "2  NO_BUG"
      ]
     },
     "execution_count": 21,
     "metadata": {},
     "output_type": "execute_result"
    }
   ],
   "source": [
    "clean_data = labels.drop(labels[labels.oracle.astype(str) == \"UNDEF\"].index)\n",
    "clean_data"
   ]
  },
  {
   "cell_type": "markdown",
   "metadata": {
    "slideshow": {
     "slide_type": "fragment"
    }
   },
   "source": [
    "We can combine sample and labels by iterating over the obtained oracle:"
   ]
  },
  {
   "cell_type": "code",
   "execution_count": 22,
   "metadata": {
    "execution": {
     "iopub.execute_input": "2025-01-13T14:55:26.773791Z",
     "iopub.status.busy": "2025-01-13T14:55:26.773694Z",
     "iopub.status.idle": "2025-01-13T14:55:26.775911Z",
     "shell.execute_reply": "2025-01-13T14:55:26.775671Z"
    },
    "slideshow": {
     "slide_type": "subslide"
    }
   },
   "outputs": [
    {
     "name": "stdout",
     "output_type": "stream",
     "text": [
      "sqrt(-20)                     BUG\n",
      "cos(2)                        NO_BUG\n",
      "sqrt(-100)                    NO_BUG\n",
      "undef_function(foo)           UNDEF\n"
     ]
    },
    {
     "name": "stderr",
     "output_type": "stream",
     "text": [
      "name 'undef_function' is not defined\n"
     ]
    }
   ],
   "source": [
    "oracle = execute_samples(sample_list)\n",
    "for i, row in enumerate(oracle['oracle']):\n",
    "    print(sample_list[i].ljust(30) + str(row))"
   ]
  },
  {
   "cell_type": "markdown",
   "metadata": {
    "slideshow": {
     "slide_type": "subslide"
    }
   },
   "source": [
    "We observe that the sample `sqrt(-16)` triggers a bug in the calculator, whereas the sample `sqrt(4)` does not show unusual behavior. Of course, we want to know why the sample fails the program. In a typical use case, the developers of the calculator program would now try other input samples and evaluate if similar inputs also trigger the program's failure. Let's try some more input samples; maybe we can refine our understanding of why the calculator crashes:"
   ]
  },
  {
   "cell_type": "markdown",
   "metadata": {
    "slideshow": {
     "slide_type": "fragment"
    }
   },
   "source": [
    "Our guesses - maybe the failure is also in the `cos()` or `tan()` function?"
   ]
  },
  {
   "cell_type": "code",
   "execution_count": 23,
   "metadata": {
    "execution": {
     "iopub.execute_input": "2025-01-13T14:55:26.777337Z",
     "iopub.status.busy": "2025-01-13T14:55:26.777150Z",
     "iopub.status.idle": "2025-01-13T14:55:26.778890Z",
     "shell.execute_reply": "2025-01-13T14:55:26.778626Z"
    },
    "slideshow": {
     "slide_type": "fragment"
    }
   },
   "outputs": [],
   "source": [
    "guess_samples = ['cos(-16)', 'tan(-16)', 'sqrt(-100)', 'sqrt(-20.23412431234123)']"
   ]
  },
  {
   "cell_type": "markdown",
   "metadata": {
    "slideshow": {
     "slide_type": "fragment"
    }
   },
   "source": [
    "Let's obtain the execution outcome for each of our guesses:\n"
   ]
  },
  {
   "cell_type": "code",
   "execution_count": 24,
   "metadata": {
    "execution": {
     "iopub.execute_input": "2025-01-13T14:55:26.780542Z",
     "iopub.status.busy": "2025-01-13T14:55:26.780412Z",
     "iopub.status.idle": "2025-01-13T14:55:26.782446Z",
     "shell.execute_reply": "2025-01-13T14:55:26.782182Z"
    },
    "slideshow": {
     "slide_type": "fragment"
    }
   },
   "outputs": [],
   "source": [
    "guess_oracle = execute_samples(guess_samples)"
   ]
  },
  {
   "cell_type": "markdown",
   "metadata": {
    "slideshow": {
     "slide_type": "fragment"
    }
   },
   "source": [
    "Here come the results:"
   ]
  },
  {
   "cell_type": "code",
   "execution_count": 25,
   "metadata": {
    "execution": {
     "iopub.execute_input": "2025-01-13T14:55:26.784539Z",
     "iopub.status.busy": "2025-01-13T14:55:26.784415Z",
     "iopub.status.idle": "2025-01-13T14:55:26.786726Z",
     "shell.execute_reply": "2025-01-13T14:55:26.786401Z"
    },
    "slideshow": {
     "slide_type": "subslide"
    }
   },
   "outputs": [
    {
     "name": "stdout",
     "output_type": "stream",
     "text": [
      "cos(-16)                      NO_BUG\n",
      "tan(-16)                      NO_BUG\n",
      "sqrt(-100)                    NO_BUG\n",
      "sqrt(-20.23412431234123)      BUG\n"
     ]
    }
   ],
   "source": [
    "for i, row in enumerate(guess_oracle['oracle']):\n",
    "    print(guess_samples[i].ljust(30) + str(row))"
   ]
  },
  {
   "cell_type": "markdown",
   "metadata": {
    "slideshow": {
     "slide_type": "fragment"
    }
   },
   "source": [
    "It looks like the failure only occurs in the `sqrt()` function, however, only for specific `x` values.\n",
    "We could now try other values for `x` and repeat the process.\n",
    "However, this would be highly time-consuming and not an efficient debugging technique for a larger and more complex test subject."
   ]
  },
  {
   "cell_type": "markdown",
   "metadata": {
    "slideshow": {
     "slide_type": "subslide"
    }
   },
   "source": [
    "Wouldn't it be great if there was a tool that automatically does this for us? \n",
    "And this is exactly what _Alhazen_ is there for.\n",
    "It helps us explain why specific input features cause a program to fail."
   ]
  },
  {
   "cell_type": "markdown",
   "metadata": {
    "slideshow": {
     "slide_type": "slide"
    }
   },
   "source": [
    "## Step 1: Extracting Features"
   ]
  },
  {
   "cell_type": "markdown",
   "metadata": {
    "slideshow": {
     "slide_type": "subslide"
    }
   },
   "source": [
    "In this section, we are concerned with the problem of extracting semantic features from inputs. In particular, Alhazen defines various features based on the input grammar, such as *existence* and *numeric interpretation*. These features are then extracted from the parse trees of the inputs (see Section 3 of \\cite{Kampmann2020} for more details).\n",
    "\n",
    "The implementation of the feature extraction module consists of the following three tasks:\n",
    "1. Implementation of individual _feature classes_, whose instances allow deriving specific feature values from inputs\n",
    "2. _Extraction of features from the grammar_ through instantiation of the aforementioned feature classes\n",
    "3. Computation of _feature vectors_ from a set of inputs, which will then be used as input for the decision tree"
   ]
  },
  {
   "cell_type": "markdown",
   "metadata": {
    "slideshow": {
     "slide_type": "subslide"
    }
   },
   "source": [
    "### Internal and \"Friendly\" Feature Names\n",
    "\n",
    "We use two kinds of _names_ for features:\n",
    "\n",
    "* _internal_ names have the form `<SYMBOL>@N` and refer to the `N`-th expansion of symbol (starting with 0).\n",
    "  In `CALC_GRAMMAR`, for instance, `<function>@0` refers to the expansion of `<function>` to `\"sqrt\"`\n",
    "* _friendly_ names are more user-friendly (hence the name).\n",
    "  The above feature `<function>@0` has the \"friendly\" name `<function> == \"sqrt\"`.\n",
    "\n",
    "We use internal names in all our interaction with the machine learner, as they are unambiguous and do not contain whitespace.\n",
    "When showing the final results, we switch to \"friendly\" names."
   ]
  },
  {
   "cell_type": "markdown",
   "metadata": {
    "slideshow": {
     "slide_type": "subslide"
    }
   },
   "source": [
    "### Implementing Feature Classes"
   ]
  },
  {
   "cell_type": "code",
   "execution_count": 26,
   "metadata": {
    "execution": {
     "iopub.execute_input": "2025-01-13T14:55:26.788456Z",
     "iopub.status.busy": "2025-01-13T14:55:26.788351Z",
     "iopub.status.idle": "2025-01-13T14:55:26.789963Z",
     "shell.execute_reply": "2025-01-13T14:55:26.789701Z"
    },
    "slideshow": {
     "slide_type": "skip"
    }
   },
   "outputs": [],
   "source": [
    "from abc import ABC, abstractmethod"
   ]
  },
  {
   "cell_type": "code",
   "execution_count": 27,
   "metadata": {
    "execution": {
     "iopub.execute_input": "2025-01-13T14:55:26.791652Z",
     "iopub.status.busy": "2025-01-13T14:55:26.791557Z",
     "iopub.status.idle": "2025-01-13T14:55:26.794477Z",
     "shell.execute_reply": "2025-01-13T14:55:26.794137Z"
    },
    "slideshow": {
     "slide_type": "subslide"
    }
   },
   "outputs": [],
   "source": [
    "class Feature(ABC):\n",
    "    '''\n",
    "    The abstract base class for grammar features.\n",
    "\n",
    "    Args:\n",
    "        name : A unique identifier name for this feature. Should not contain Whitespaces.\n",
    "               e.g., 'type(<feature>@1)'\n",
    "        rule : The production rule (e.g., '<function>' or '<value>').\n",
    "        key  : The feature key (e.g., the chosen alternative or rule itself).\n",
    "    '''\n",
    "\n",
    "    def __init__(self, name: str, rule: str, key: str, /,\n",
    "                 friendly_name: str = None) -> None:\n",
    "        self.name = name\n",
    "        self.rule = rule\n",
    "        self.key = key\n",
    "        self._friendly_name = friendly_name or name\n",
    "        super().__init__()\n",
    "\n",
    "    def __repr__(self) -> str:\n",
    "        '''Returns a printable string representation of the feature.'''\n",
    "        return self.name_rep()\n",
    "\n",
    "    @abstractmethod\n",
    "    def name_rep(self) -> str:\n",
    "        pass\n",
    "\n",
    "    def friendly_name(self) -> str:\n",
    "        return self._friendly_name\n",
    "\n",
    "    @abstractmethod\n",
    "    def get_feature_value(self, derivation_tree) -> float:\n",
    "        '''Returns the feature value for a given derivation tree of an input.'''\n",
    "        pass\n",
    "\n",
    "    def replace(self, new_key: str) -> 'Feature':\n",
    "        '''Returns a new feature with the same name but a different key.'''\n",
    "        return self.__class__(self.name, self.rule, new_key)"
   ]
  },
  {
   "cell_type": "code",
   "execution_count": 28,
   "metadata": {
    "execution": {
     "iopub.execute_input": "2025-01-13T14:55:26.795990Z",
     "iopub.status.busy": "2025-01-13T14:55:26.795873Z",
     "iopub.status.idle": "2025-01-13T14:55:26.799570Z",
     "shell.execute_reply": "2025-01-13T14:55:26.799249Z"
    },
    "slideshow": {
     "slide_type": "subslide"
    }
   },
   "outputs": [],
   "source": [
    "class ExistenceFeature(Feature):\n",
    "    '''\n",
    "    This class represents existence features of a grammar. Existence features indicate\n",
    "    whether a particular production rule was used in the derivation sequence of an input.\n",
    "    For a given production rule P -> A | B, a production existence feature for P and\n",
    "    alternative existence features for each alternative (i.e., A and B) are defined.\n",
    "\n",
    "    name : A unique identifier name for this feature. Should not contain Whitespaces.\n",
    "           e.g., 'exist(<digit>@1)'\n",
    "    rule : The production rule.\n",
    "    key  : The feature key, equal to the rule attribute for production features,\n",
    "           or equal to the corresponding alternative for alternative features.\n",
    "    '''\n",
    "    def __init__(self, name: str, rule: str, key: str,\n",
    "                 friendly_name: str = None) -> None:\n",
    "        super().__init__(name, rule, key, friendly_name=friendly_name)\n",
    "\n",
    "    def name_rep(self) -> str:\n",
    "        if self.rule == self.key:\n",
    "            return f\"exists({self.rule})\"\n",
    "        else:\n",
    "            return f\"exists({self.rule} == {self.key})\"\n",
    "\n",
    "    def get_feature_value(self, derivation_tree) -> float:\n",
    "        '''Returns the feature value for a given derivation tree of an input.'''\n",
    "        raise NotImplementedError\n",
    "\n",
    "    def get_feature_value(self, derivation_tree: DerivationTree) -> float:\n",
    "        '''Counts the number of times this feature was matched in the derivation tree.'''\n",
    "        (node, children) = derivation_tree\n",
    "\n",
    "        # The local match count (1 if the feature is matched for the current node, 0 if not)\n",
    "        count = 0\n",
    "\n",
    "        # First check if the current node can be matched with the rule\n",
    "        if node == self.rule:\n",
    "\n",
    "            # Production existance feature\n",
    "            if self.rule == self.key:\n",
    "                count = 1\n",
    "\n",
    "            # Production alternative existance feature\n",
    "            # We compare the children of the expansion with the actual children\n",
    "            else:\n",
    "                expansion_children = list(map(lambda x: x[0], expansion_to_children(self.key)))\n",
    "                node_children = list(map(lambda x: x[0], children))\n",
    "                if expansion_children == node_children:\n",
    "                    count= 1\n",
    "\n",
    "        # Recursively compute the counts for all children and return the sum for the whole tree\n",
    "        for child in children:\n",
    "            count = max(count, self.get_feature_value(child)) \n",
    "\n",
    "        return count"
   ]
  },
  {
   "cell_type": "code",
   "execution_count": 29,
   "metadata": {
    "execution": {
     "iopub.execute_input": "2025-01-13T14:55:26.801110Z",
     "iopub.status.busy": "2025-01-13T14:55:26.801010Z",
     "iopub.status.idle": "2025-01-13T14:55:26.802757Z",
     "shell.execute_reply": "2025-01-13T14:55:26.802496Z"
    },
    "slideshow": {
     "slide_type": "skip"
    }
   },
   "outputs": [],
   "source": [
    "from numpy import nanmax, isnan"
   ]
  },
  {
   "cell_type": "code",
   "execution_count": 30,
   "metadata": {
    "execution": {
     "iopub.execute_input": "2025-01-13T14:55:26.804254Z",
     "iopub.status.busy": "2025-01-13T14:55:26.804158Z",
     "iopub.status.idle": "2025-01-13T14:55:26.807402Z",
     "shell.execute_reply": "2025-01-13T14:55:26.807089Z"
    },
    "slideshow": {
     "slide_type": "subslide"
    }
   },
   "outputs": [],
   "source": [
    "class NumericInterpretation(Feature):\n",
    "    '''\n",
    "    This class represents numeric interpretation features of a grammar. These features\n",
    "    are defined for productions that only derive words composed of the characters\n",
    "    [0-9], '.', and '-'. The returned feature value corresponds to the maximum\n",
    "    floating-point number interpretation of the derived words of a production.\n",
    "\n",
    "    name : A unique identifier name for this feature. Should not contain Whitespaces.\n",
    "           e.g., 'num(<integer>)'\n",
    "    rule : The production rule.\n",
    "    '''\n",
    "    def __init__(self, name: str, rule: str, /, \n",
    "                 friendly_name: str = None) -> None:\n",
    "        super().__init__(name, rule, rule, friendly_name=friendly_name)\n",
    "\n",
    "    def name_rep(self) -> str:\n",
    "        return f\"num({self.key})\"\n",
    "\n",
    "    def get_feature_value(self, derivation_tree) -> float:\n",
    "        '''Returns the feature value for a given derivation tree of an input.'''\n",
    "        raise NotImplementedError\n",
    "\n",
    "    def get_feature_value(self, derivation_tree: DerivationTree) -> float:\n",
    "        '''Determines the maximum float of this feature in the derivation tree.'''\n",
    "        (node, children) = derivation_tree\n",
    "\n",
    "        value = float('nan')\n",
    "        if node == self.rule:\n",
    "            try:\n",
    "                #print(self.name, float(tree_to_string(derivation_tree)))\n",
    "                value = float(tree_to_string(derivation_tree))\n",
    "            except ValueError:\n",
    "                #print(self.name, float(tree_to_string(derivation_tree)), \"err\")\n",
    "                pass\n",
    "\n",
    "        # Return maximum value encountered in tree, ignoring all NaNs\n",
    "        tree_values = [value] + [self.get_feature_value(c) for c in children]\n",
    "        if all(isnan(tree_values)):\n",
    "            return value\n",
    "        else:\n",
    "            return nanmax(tree_values)"
   ]
  },
  {
   "cell_type": "markdown",
   "metadata": {
    "slideshow": {
     "slide_type": "subslide"
    }
   },
   "source": [
    "### Extracting Feature Sets from Grammars"
   ]
  },
  {
   "cell_type": "code",
   "execution_count": 31,
   "metadata": {
    "execution": {
     "iopub.execute_input": "2025-01-13T14:55:26.809098Z",
     "iopub.status.busy": "2025-01-13T14:55:26.808957Z",
     "iopub.status.idle": "2025-01-13T14:55:26.811211Z",
     "shell.execute_reply": "2025-01-13T14:55:26.810930Z"
    },
    "slideshow": {
     "slide_type": "subslide"
    }
   },
   "outputs": [],
   "source": [
    "def extract_existence_features(grammar: Grammar) -> List[ExistenceFeature]:\n",
    "    '''\n",
    "        Extracts all existence features from the grammar and returns them as a list.\n",
    "        grammar : The input grammar.\n",
    "    '''\n",
    "\n",
    "    features = []\n",
    "\n",
    "    for rule in grammar:\n",
    "        # add the rule\n",
    "        features.append(ExistenceFeature(f\"exists({rule})\", rule, rule))\n",
    "        # add all alternatives\n",
    "        for count, expansion in enumerate(grammar[rule]):\n",
    "            name = f\"exists({rule}@{count})\"\n",
    "            friendly_name = f\"{rule} == {repr(expansion)}\"\n",
    "            feature = ExistenceFeature(name, rule, expansion,\n",
    "                                       friendly_name=friendly_name)\n",
    "            features.append(feature)\n",
    "\n",
    "    return features"
   ]
  },
  {
   "cell_type": "code",
   "execution_count": 32,
   "metadata": {
    "execution": {
     "iopub.execute_input": "2025-01-13T14:55:26.812572Z",
     "iopub.status.busy": "2025-01-13T14:55:26.812459Z",
     "iopub.status.idle": "2025-01-13T14:55:26.814428Z",
     "shell.execute_reply": "2025-01-13T14:55:26.814060Z"
    },
    "slideshow": {
     "slide_type": "skip"
    }
   },
   "outputs": [],
   "source": [
    "from collections import defaultdict\n",
    "import re"
   ]
  },
  {
   "cell_type": "code",
   "execution_count": 33,
   "metadata": {
    "execution": {
     "iopub.execute_input": "2025-01-13T14:55:26.816185Z",
     "iopub.status.busy": "2025-01-13T14:55:26.816057Z",
     "iopub.status.idle": "2025-01-13T14:55:26.819523Z",
     "shell.execute_reply": "2025-01-13T14:55:26.819165Z"
    },
    "slideshow": {
     "slide_type": "subslide"
    }
   },
   "outputs": [],
   "source": [
    "# Regex for non-terminal symbols in expansions\n",
    "RE_NONTERMINAL = re.compile(r'(<[^<> ]*>)')\n",
    "\n",
    "def extract_numeric_features(grammar: Grammar) -> List[NumericInterpretation]:\n",
    "    '''\n",
    "        Extracts all numeric interpretation features from the grammar and returns them as a list.\n",
    "\n",
    "        grammar : The input grammar.\n",
    "    '''\n",
    "\n",
    "    features = []\n",
    "\n",
    "    # Mapping from non-terminals to derivable terminal chars\n",
    "    derivable_chars = defaultdict(set)\n",
    "\n",
    "    for rule in grammar:\n",
    "        for expansion in grammar[rule]:\n",
    "            # Remove non-terminal symbols and whitespace from expansion\n",
    "            terminals = re.sub(RE_NONTERMINAL, '', expansion).replace(' ', '')\n",
    "\n",
    "            # Add each terminal char to the set of derivable chars\n",
    "            for c in terminals:\n",
    "                derivable_chars[rule].add(c)\n",
    "\n",
    "    # Repeatedly update the mapping until convergence\n",
    "    while True:\n",
    "        updated = False\n",
    "        for rule in grammar:\n",
    "            for r in reachable_nonterminals(grammar, rule):\n",
    "                before = len(derivable_chars[rule])\n",
    "                derivable_chars[rule].update(derivable_chars[r])\n",
    "                after = len(derivable_chars[rule])\n",
    "\n",
    "                # Set of derivable chars was updated\n",
    "                if after > before:\n",
    "                    updated = True\n",
    "\n",
    "        if not updated:\n",
    "            break\n",
    "\n",
    "    numeric_chars = set(['0','1','2','3','4','5','6','7','8','9','.','-'])\n",
    "\n",
    "    for key in derivable_chars:\n",
    "        # Check if derivable chars contain only numeric chars\n",
    "        if len(derivable_chars[key] - numeric_chars) == 0:\n",
    "            name = f\"num({key})\"\n",
    "            friendly_name = f\"{key}\"\n",
    "\n",
    "            features.append(NumericInterpretation(f\"num({key})\", key,\n",
    "                                                  friendly_name=friendly_name))\n",
    "\n",
    "    return features"
   ]
  },
  {
   "cell_type": "code",
   "execution_count": 34,
   "metadata": {
    "execution": {
     "iopub.execute_input": "2025-01-13T14:55:26.820844Z",
     "iopub.status.busy": "2025-01-13T14:55:26.820756Z",
     "iopub.status.idle": "2025-01-13T14:55:26.822678Z",
     "shell.execute_reply": "2025-01-13T14:55:26.822412Z"
    },
    "slideshow": {
     "slide_type": "subslide"
    }
   },
   "outputs": [],
   "source": [
    "def extract_all_features(grammar: Grammar) -> List[Feature]:\n",
    "    return (extract_existence_features(grammar)\n",
    "            + extract_numeric_features(grammar))"
   ]
  },
  {
   "cell_type": "markdown",
   "metadata": {
    "slideshow": {
     "slide_type": "fragment"
    }
   },
   "source": [
    "Here are all the features from our calculator grammar:"
   ]
  },
  {
   "cell_type": "code",
   "execution_count": 35,
   "metadata": {
    "execution": {
     "iopub.execute_input": "2025-01-13T14:55:26.824141Z",
     "iopub.status.busy": "2025-01-13T14:55:26.824048Z",
     "iopub.status.idle": "2025-01-13T14:55:26.827000Z",
     "shell.execute_reply": "2025-01-13T14:55:26.826663Z"
    },
    "slideshow": {
     "slide_type": "subslide"
    }
   },
   "outputs": [
    {
     "data": {
      "text/plain": [
       "[exists(<start>),\n",
       " exists(<start> == <function>(<term>)),\n",
       " exists(<function>),\n",
       " exists(<function> == sqrt),\n",
       " exists(<function> == tan),\n",
       " exists(<function> == cos),\n",
       " exists(<function> == sin),\n",
       " exists(<term>),\n",
       " exists(<term> == -<value>),\n",
       " exists(<term> == <value>),\n",
       " exists(<value>),\n",
       " exists(<value> == <integer>.<digits>),\n",
       " exists(<value> == <integer>),\n",
       " exists(<integer>),\n",
       " exists(<integer> == <lead-digit><digits>),\n",
       " exists(<integer> == <digit>),\n",
       " exists(<digits>),\n",
       " exists(<digits> == <digit><digits>),\n",
       " exists(<digits> == <digit>),\n",
       " exists(<lead-digit>),\n",
       " exists(<lead-digit> == 1),\n",
       " exists(<lead-digit> == 2),\n",
       " exists(<lead-digit> == 3),\n",
       " exists(<lead-digit> == 4),\n",
       " exists(<lead-digit> == 5),\n",
       " exists(<lead-digit> == 6),\n",
       " exists(<lead-digit> == 7),\n",
       " exists(<lead-digit> == 8),\n",
       " exists(<lead-digit> == 9),\n",
       " exists(<digit>),\n",
       " exists(<digit> == 0),\n",
       " exists(<digit> == 1),\n",
       " exists(<digit> == 2),\n",
       " exists(<digit> == 3),\n",
       " exists(<digit> == 4),\n",
       " exists(<digit> == 5),\n",
       " exists(<digit> == 6),\n",
       " exists(<digit> == 7),\n",
       " exists(<digit> == 8),\n",
       " exists(<digit> == 9),\n",
       " num(<term>),\n",
       " num(<value>),\n",
       " num(<lead-digit>),\n",
       " num(<digit>),\n",
       " num(<digits>),\n",
       " num(<integer>)]"
      ]
     },
     "execution_count": 35,
     "metadata": {},
     "output_type": "execute_result"
    }
   ],
   "source": [
    "extract_all_features(CALC_GRAMMAR)"
   ]
  },
  {
   "cell_type": "markdown",
   "metadata": {
    "slideshow": {
     "slide_type": "subslide"
    }
   },
   "source": [
    "The `friendly` representation is a bit more concise and more readable:"
   ]
  },
  {
   "cell_type": "code",
   "execution_count": 36,
   "metadata": {
    "execution": {
     "iopub.execute_input": "2025-01-13T14:55:26.828632Z",
     "iopub.status.busy": "2025-01-13T14:55:26.828493Z",
     "iopub.status.idle": "2025-01-13T14:55:26.831325Z",
     "shell.execute_reply": "2025-01-13T14:55:26.830968Z"
    },
    "slideshow": {
     "slide_type": "subslide"
    }
   },
   "outputs": [
    {
     "data": {
      "text/plain": [
       "['exists(<start>)',\n",
       " \"<start> == '<function>(<term>)'\",\n",
       " 'exists(<function>)',\n",
       " \"<function> == 'sqrt'\",\n",
       " \"<function> == 'tan'\",\n",
       " \"<function> == 'cos'\",\n",
       " \"<function> == 'sin'\",\n",
       " 'exists(<term>)',\n",
       " \"<term> == '-<value>'\",\n",
       " \"<term> == '<value>'\",\n",
       " 'exists(<value>)',\n",
       " \"<value> == '<integer>.<digits>'\",\n",
       " \"<value> == '<integer>'\",\n",
       " 'exists(<integer>)',\n",
       " \"<integer> == '<lead-digit><digits>'\",\n",
       " \"<integer> == '<digit>'\",\n",
       " 'exists(<digits>)',\n",
       " \"<digits> == '<digit><digits>'\",\n",
       " \"<digits> == '<digit>'\",\n",
       " 'exists(<lead-digit>)',\n",
       " \"<lead-digit> == '1'\",\n",
       " \"<lead-digit> == '2'\",\n",
       " \"<lead-digit> == '3'\",\n",
       " \"<lead-digit> == '4'\",\n",
       " \"<lead-digit> == '5'\",\n",
       " \"<lead-digit> == '6'\",\n",
       " \"<lead-digit> == '7'\",\n",
       " \"<lead-digit> == '8'\",\n",
       " \"<lead-digit> == '9'\",\n",
       " 'exists(<digit>)',\n",
       " \"<digit> == '0'\",\n",
       " \"<digit> == '1'\",\n",
       " \"<digit> == '2'\",\n",
       " \"<digit> == '3'\",\n",
       " \"<digit> == '4'\",\n",
       " \"<digit> == '5'\",\n",
       " \"<digit> == '6'\",\n",
       " \"<digit> == '7'\",\n",
       " \"<digit> == '8'\",\n",
       " \"<digit> == '9'\",\n",
       " '<term>',\n",
       " '<value>',\n",
       " '<lead-digit>',\n",
       " '<digit>',\n",
       " '<digits>',\n",
       " '<integer>']"
      ]
     },
     "execution_count": 36,
     "metadata": {},
     "output_type": "execute_result"
    }
   ],
   "source": [
    "[f.friendly_name() for f in extract_all_features(CALC_GRAMMAR)]"
   ]
  },
  {
   "cell_type": "markdown",
   "metadata": {
    "slideshow": {
     "slide_type": "subslide"
    }
   },
   "source": [
    "### Extracting Feature Values from Inputs"
   ]
  },
  {
   "cell_type": "markdown",
   "metadata": {
    "slideshow": {
     "slide_type": "fragment"
    }
   },
   "source": [
    "This is a rather slow implementation.\n",
    "For many grammars with many syntactically features, the feature collection can be optimized."
   ]
  },
  {
   "cell_type": "code",
   "execution_count": 37,
   "metadata": {
    "execution": {
     "iopub.execute_input": "2025-01-13T14:55:26.832803Z",
     "iopub.status.busy": "2025-01-13T14:55:26.832688Z",
     "iopub.status.idle": "2025-01-13T14:55:26.835189Z",
     "shell.execute_reply": "2025-01-13T14:55:26.834954Z"
    },
    "slideshow": {
     "slide_type": "subslide"
    }
   },
   "outputs": [],
   "source": [
    "def collect_features(sample_list: List[str],\n",
    "                     grammar: Grammar) -> pandas.DataFrame:\n",
    "\n",
    "    data = []\n",
    "\n",
    "    # parse grammar and extract features\n",
    "    all_features = extract_all_features(grammar)\n",
    "\n",
    "    # iterate over all samples\n",
    "    for sample in sample_list:\n",
    "        parsed_features = {}\n",
    "        parsed_features[\"sample\"] = sample\n",
    "        # initate dictionary\n",
    "        for feature in all_features:\n",
    "            parsed_features[feature.name] = 0\n",
    "\n",
    "        # Obtain the parse tree for each input file\n",
    "        earley = EarleyParser(grammar)\n",
    "        for tree in earley.parse(sample):\n",
    "\n",
    "            for feature in all_features:\n",
    "                parsed_features[feature.name] = feature.get_feature_value(tree)\n",
    "\n",
    "        data.append(parsed_features)\n",
    "\n",
    "    return pandas.DataFrame.from_records(data)"
   ]
  },
  {
   "cell_type": "code",
   "execution_count": 38,
   "metadata": {
    "execution": {
     "iopub.execute_input": "2025-01-13T14:55:26.836728Z",
     "iopub.status.busy": "2025-01-13T14:55:26.836576Z",
     "iopub.status.idle": "2025-01-13T14:55:26.847244Z",
     "shell.execute_reply": "2025-01-13T14:55:26.846943Z"
    },
    "slideshow": {
     "slide_type": "subslide"
    }
   },
   "outputs": [
    {
     "data": {
      "text/html": [
       "<div>\n",
       "<style scoped>\n",
       "    .dataframe tbody tr th:only-of-type {\n",
       "        vertical-align: middle;\n",
       "    }\n",
       "\n",
       "    .dataframe tbody tr th {\n",
       "        vertical-align: top;\n",
       "    }\n",
       "\n",
       "    .dataframe thead th {\n",
       "        text-align: right;\n",
       "    }\n",
       "</style>\n",
       "<table border=\"1\" class=\"dataframe\">\n",
       "  <thead>\n",
       "    <tr style=\"text-align: right;\">\n",
       "      <th></th>\n",
       "      <th>sample</th>\n",
       "      <th>exists(&lt;start&gt;)</th>\n",
       "      <th>exists(&lt;start&gt;@0)</th>\n",
       "      <th>exists(&lt;function&gt;)</th>\n",
       "      <th>exists(&lt;function&gt;@0)</th>\n",
       "      <th>exists(&lt;function&gt;@1)</th>\n",
       "      <th>exists(&lt;function&gt;@2)</th>\n",
       "      <th>exists(&lt;function&gt;@3)</th>\n",
       "      <th>exists(&lt;term&gt;)</th>\n",
       "      <th>exists(&lt;term&gt;@0)</th>\n",
       "      <th>...</th>\n",
       "      <th>exists(&lt;digit&gt;@6)</th>\n",
       "      <th>exists(&lt;digit&gt;@7)</th>\n",
       "      <th>exists(&lt;digit&gt;@8)</th>\n",
       "      <th>exists(&lt;digit&gt;@9)</th>\n",
       "      <th>num(&lt;term&gt;)</th>\n",
       "      <th>num(&lt;value&gt;)</th>\n",
       "      <th>num(&lt;lead-digit&gt;)</th>\n",
       "      <th>num(&lt;digit&gt;)</th>\n",
       "      <th>num(&lt;digits&gt;)</th>\n",
       "      <th>num(&lt;integer&gt;)</th>\n",
       "    </tr>\n",
       "  </thead>\n",
       "  <tbody>\n",
       "    <tr>\n",
       "      <th>0</th>\n",
       "      <td>sqrt(-900)</td>\n",
       "      <td>1</td>\n",
       "      <td>1</td>\n",
       "      <td>1</td>\n",
       "      <td>1</td>\n",
       "      <td>0</td>\n",
       "      <td>0</td>\n",
       "      <td>0</td>\n",
       "      <td>1</td>\n",
       "      <td>1</td>\n",
       "      <td>...</td>\n",
       "      <td>0</td>\n",
       "      <td>0</td>\n",
       "      <td>0</td>\n",
       "      <td>0</td>\n",
       "      <td>-900.00</td>\n",
       "      <td>900.00</td>\n",
       "      <td>9.0</td>\n",
       "      <td>0.0</td>\n",
       "      <td>0.0</td>\n",
       "      <td>900.0</td>\n",
       "    </tr>\n",
       "    <tr>\n",
       "      <th>1</th>\n",
       "      <td>sin(24)</td>\n",
       "      <td>1</td>\n",
       "      <td>1</td>\n",
       "      <td>1</td>\n",
       "      <td>0</td>\n",
       "      <td>0</td>\n",
       "      <td>0</td>\n",
       "      <td>1</td>\n",
       "      <td>1</td>\n",
       "      <td>0</td>\n",
       "      <td>...</td>\n",
       "      <td>0</td>\n",
       "      <td>0</td>\n",
       "      <td>0</td>\n",
       "      <td>0</td>\n",
       "      <td>24.00</td>\n",
       "      <td>24.00</td>\n",
       "      <td>2.0</td>\n",
       "      <td>4.0</td>\n",
       "      <td>4.0</td>\n",
       "      <td>24.0</td>\n",
       "    </tr>\n",
       "    <tr>\n",
       "      <th>2</th>\n",
       "      <td>cos(-3.14)</td>\n",
       "      <td>1</td>\n",
       "      <td>1</td>\n",
       "      <td>1</td>\n",
       "      <td>0</td>\n",
       "      <td>0</td>\n",
       "      <td>1</td>\n",
       "      <td>0</td>\n",
       "      <td>1</td>\n",
       "      <td>1</td>\n",
       "      <td>...</td>\n",
       "      <td>0</td>\n",
       "      <td>0</td>\n",
       "      <td>0</td>\n",
       "      <td>0</td>\n",
       "      <td>-3.14</td>\n",
       "      <td>3.14</td>\n",
       "      <td>NaN</td>\n",
       "      <td>4.0</td>\n",
       "      <td>14.0</td>\n",
       "      <td>3.0</td>\n",
       "    </tr>\n",
       "  </tbody>\n",
       "</table>\n",
       "<p>3 rows × 47 columns</p>\n",
       "</div>"
      ],
      "text/plain": [
       "       sample  exists(<start>)  exists(<start>@0)  exists(<function>)  \\\n",
       "0  sqrt(-900)                1                  1                   1   \n",
       "1     sin(24)                1                  1                   1   \n",
       "2  cos(-3.14)                1                  1                   1   \n",
       "\n",
       "   exists(<function>@0)  exists(<function>@1)  exists(<function>@2)  \\\n",
       "0                     1                     0                     0   \n",
       "1                     0                     0                     0   \n",
       "2                     0                     0                     1   \n",
       "\n",
       "   exists(<function>@3)  exists(<term>)  exists(<term>@0)  ...  \\\n",
       "0                     0               1                 1  ...   \n",
       "1                     1               1                 0  ...   \n",
       "2                     0               1                 1  ...   \n",
       "\n",
       "   exists(<digit>@6)  exists(<digit>@7)  exists(<digit>@8)  exists(<digit>@9)  \\\n",
       "0                  0                  0                  0                  0   \n",
       "1                  0                  0                  0                  0   \n",
       "2                  0                  0                  0                  0   \n",
       "\n",
       "   num(<term>)  num(<value>)  num(<lead-digit>)  num(<digit>)  num(<digits>)  \\\n",
       "0      -900.00        900.00                9.0           0.0            0.0   \n",
       "1        24.00         24.00                2.0           4.0            4.0   \n",
       "2        -3.14          3.14                NaN           4.0           14.0   \n",
       "\n",
       "   num(<integer>)  \n",
       "0           900.0  \n",
       "1            24.0  \n",
       "2             3.0  \n",
       "\n",
       "[3 rows x 47 columns]"
      ]
     },
     "execution_count": 38,
     "metadata": {},
     "output_type": "execute_result"
    }
   ],
   "source": [
    "sample_list = [\"sqrt(-900)\", \"sin(24)\", \"cos(-3.14)\"]\n",
    "collect_features(sample_list, CALC_GRAMMAR)"
   ]
  },
  {
   "cell_type": "code",
   "execution_count": 39,
   "metadata": {
    "execution": {
     "iopub.execute_input": "2025-01-13T14:55:26.848646Z",
     "iopub.status.busy": "2025-01-13T14:55:26.848531Z",
     "iopub.status.idle": "2025-01-13T14:55:26.850797Z",
     "shell.execute_reply": "2025-01-13T14:55:26.850524Z"
    },
    "slideshow": {
     "slide_type": "subslide"
    }
   },
   "outputs": [],
   "source": [
    "# TODO: handle multiple trees\n",
    "def compute_feature_values(sample: str, grammar: Grammar, features: List[Feature]) -> Dict[str, float]:\n",
    "    '''\n",
    "        Extracts all feature values from an input.\n",
    "\n",
    "        sample   : The input.\n",
    "        grammar  : The input grammar.\n",
    "        features : The list of input features extracted from the grammar.\n",
    "\n",
    "    '''\n",
    "    earley = EarleyParser(CALC_GRAMMAR)\n",
    "\n",
    "    features = {}\n",
    "    for tree in earley.parse(sample):\n",
    "        for feature in extract_all_features(CALC_GRAMMAR):\n",
    "            features[feature.name_rep()] = feature.get_feature_value(tree)\n",
    "    return features"
   ]
  },
  {
   "cell_type": "code",
   "execution_count": 40,
   "metadata": {
    "execution": {
     "iopub.execute_input": "2025-01-13T14:55:26.852456Z",
     "iopub.status.busy": "2025-01-13T14:55:26.852307Z",
     "iopub.status.idle": "2025-01-13T14:55:26.858391Z",
     "shell.execute_reply": "2025-01-13T14:55:26.858079Z"
    },
    "slideshow": {
     "slide_type": "subslide"
    }
   },
   "outputs": [
    {
     "name": "stdout",
     "output_type": "stream",
     "text": [
      "Features of sqrt(-900):\n",
      "    exists(<start>): 1\n",
      "    exists(<start> == <function>(<term>)): 1\n",
      "    exists(<function>): 1\n",
      "    exists(<function> == sqrt): 1\n",
      "    exists(<function> == tan): 0\n",
      "    exists(<function> == cos): 0\n",
      "    exists(<function> == sin): 0\n",
      "    exists(<term>): 1\n",
      "    exists(<term> == -<value>): 1\n",
      "    exists(<term> == <value>): 0\n",
      "    exists(<value>): 1\n",
      "    exists(<value> == <integer>.<digits>): 0\n",
      "    exists(<value> == <integer>): 1\n",
      "    exists(<integer>): 1\n",
      "    exists(<integer> == <lead-digit><digits>): 1\n",
      "    exists(<integer> == <digit>): 0\n",
      "    exists(<digits>): 1\n",
      "    exists(<digits> == <digit><digits>): 1\n",
      "    exists(<digits> == <digit>): 1\n",
      "    exists(<lead-digit>): 1\n",
      "    exists(<lead-digit> == 1): 0\n",
      "    exists(<lead-digit> == 2): 0\n",
      "    exists(<lead-digit> == 3): 0\n",
      "    exists(<lead-digit> == 4): 0\n",
      "    exists(<lead-digit> == 5): 0\n",
      "    exists(<lead-digit> == 6): 0\n",
      "    exists(<lead-digit> == 7): 0\n",
      "    exists(<lead-digit> == 8): 0\n",
      "    exists(<lead-digit> == 9): 1\n",
      "    exists(<digit>): 1\n",
      "    exists(<digit> == 0): 1\n",
      "    exists(<digit> == 1): 0\n",
      "    exists(<digit> == 2): 0\n",
      "    exists(<digit> == 3): 0\n",
      "    exists(<digit> == 4): 0\n",
      "    exists(<digit> == 5): 0\n",
      "    exists(<digit> == 6): 0\n",
      "    exists(<digit> == 7): 0\n",
      "    exists(<digit> == 8): 0\n",
      "    exists(<digit> == 9): 0\n",
      "    num(<term>): -900.0\n",
      "    num(<value>): 900.0\n",
      "    num(<lead-digit>): 9.0\n",
      "    num(<digit>): 0.0\n",
      "    num(<digits>): 0.0\n",
      "    num(<integer>): 900.0\n",
      "Features of sin(24):\n",
      "    exists(<start>): 1\n",
      "    exists(<start> == <function>(<term>)): 1\n",
      "    exists(<function>): 1\n",
      "    exists(<function> == sqrt): 0\n",
      "    exists(<function> == tan): 0\n",
      "    exists(<function> == cos): 0\n",
      "    exists(<function> == sin): 1\n",
      "    exists(<term>): 1\n",
      "    exists(<term> == -<value>): 0\n",
      "    exists(<term> == <value>): 1\n",
      "    exists(<value>): 1\n",
      "    exists(<value> == <integer>.<digits>): 0\n",
      "    exists(<value> == <integer>): 1\n",
      "    exists(<integer>): 1\n",
      "    exists(<integer> == <lead-digit><digits>): 1\n",
      "    exists(<integer> == <digit>): 0\n",
      "    exists(<digits>): 1\n",
      "    exists(<digits> == <digit><digits>): 0\n",
      "    exists(<digits> == <digit>): 1\n",
      "    exists(<lead-digit>): 1\n",
      "    exists(<lead-digit> == 1): 0\n",
      "    exists(<lead-digit> == 2): 1\n",
      "    exists(<lead-digit> == 3): 0\n",
      "    exists(<lead-digit> == 4): 0\n",
      "    exists(<lead-digit> == 5): 0\n",
      "    exists(<lead-digit> == 6): 0\n",
      "    exists(<lead-digit> == 7): 0\n",
      "    exists(<lead-digit> == 8): 0\n",
      "    exists(<lead-digit> == 9): 0\n",
      "    exists(<digit>): 1\n",
      "    exists(<digit> == 0): 0\n",
      "    exists(<digit> == 1): 0\n",
      "    exists(<digit> == 2): 0\n",
      "    exists(<digit> == 3): 0\n",
      "    exists(<digit> == 4): 1\n",
      "    exists(<digit> == 5): 0\n",
      "    exists(<digit> == 6): 0\n",
      "    exists(<digit> == 7): 0\n",
      "    exists(<digit> == 8): 0\n",
      "    exists(<digit> == 9): 0\n",
      "    num(<term>): 24.0\n",
      "    num(<value>): 24.0\n",
      "    num(<lead-digit>): 2.0\n",
      "    num(<digit>): 4.0\n",
      "    num(<digits>): 4.0\n",
      "    num(<integer>): 24.0\n",
      "Features of cos(-3.14):\n",
      "    exists(<start>): 1\n",
      "    exists(<start> == <function>(<term>)): 1\n",
      "    exists(<function>): 1\n",
      "    exists(<function> == sqrt): 0\n",
      "    exists(<function> == tan): 0\n",
      "    exists(<function> == cos): 1\n",
      "    exists(<function> == sin): 0\n",
      "    exists(<term>): 1\n",
      "    exists(<term> == -<value>): 1\n",
      "    exists(<term> == <value>): 0\n",
      "    exists(<value>): 1\n",
      "    exists(<value> == <integer>.<digits>): 1\n",
      "    exists(<value> == <integer>): 0\n",
      "    exists(<integer>): 1\n",
      "    exists(<integer> == <lead-digit><digits>): 0\n",
      "    exists(<integer> == <digit>): 1\n",
      "    exists(<digits>): 1\n",
      "    exists(<digits> == <digit><digits>): 1\n",
      "    exists(<digits> == <digit>): 1\n",
      "    exists(<lead-digit>): 0\n",
      "    exists(<lead-digit> == 1): 0\n",
      "    exists(<lead-digit> == 2): 0\n",
      "    exists(<lead-digit> == 3): 0\n",
      "    exists(<lead-digit> == 4): 0\n",
      "    exists(<lead-digit> == 5): 0\n",
      "    exists(<lead-digit> == 6): 0\n",
      "    exists(<lead-digit> == 7): 0\n",
      "    exists(<lead-digit> == 8): 0\n",
      "    exists(<lead-digit> == 9): 0\n",
      "    exists(<digit>): 1\n",
      "    exists(<digit> == 0): 0\n",
      "    exists(<digit> == 1): 1\n",
      "    exists(<digit> == 2): 0\n",
      "    exists(<digit> == 3): 1\n",
      "    exists(<digit> == 4): 1\n",
      "    exists(<digit> == 5): 0\n",
      "    exists(<digit> == 6): 0\n",
      "    exists(<digit> == 7): 0\n",
      "    exists(<digit> == 8): 0\n",
      "    exists(<digit> == 9): 0\n",
      "    num(<term>): -3.14\n",
      "    num(<value>): 3.14\n",
      "    num(<lead-digit>): nan\n",
      "    num(<digit>): 4.0\n",
      "    num(<digits>): 14.0\n",
      "    num(<integer>): 3.0\n"
     ]
    }
   ],
   "source": [
    "all_features = extract_all_features(CALC_GRAMMAR)\n",
    "for sample in sample_list:\n",
    "    print(f\"Features of {sample}:\")\n",
    "    features = compute_feature_values(sample, CALC_GRAMMAR, all_features)\n",
    "    for feature, value in features.items():\n",
    "        print(f\"    {feature}: {value}\")"
   ]
  },
  {
   "cell_type": "markdown",
   "metadata": {
    "slideshow": {
     "slide_type": "subslide"
    }
   },
   "source": [
    "### Excursion: Transforming Grammars"
   ]
  },
  {
   "cell_type": "markdown",
   "metadata": {
    "slideshow": {
     "slide_type": "fragment"
    }
   },
   "source": [
    "Alhazen requires grammars to be transformed, such that for each non-terminal symbol in the grammar, the word derived by this symbol in the input is added as an alternative to the symbol (as written in \\cite{Kampmann2020}). Here, we iterate through the derivation tree of the input and add the derived word of each nonterminal as alternatives to the grammar."
   ]
  },
  {
   "cell_type": "code",
   "execution_count": 41,
   "metadata": {
    "execution": {
     "iopub.execute_input": "2025-01-13T14:55:26.859823Z",
     "iopub.status.busy": "2025-01-13T14:55:26.859685Z",
     "iopub.status.idle": "2025-01-13T14:55:26.861302Z",
     "shell.execute_reply": "2025-01-13T14:55:26.861044Z"
    },
    "slideshow": {
     "slide_type": "skip"
    }
   },
   "outputs": [],
   "source": [
    "import random"
   ]
  },
  {
   "cell_type": "code",
   "execution_count": 42,
   "metadata": {
    "execution": {
     "iopub.execute_input": "2025-01-13T14:55:26.862593Z",
     "iopub.status.busy": "2025-01-13T14:55:26.862501Z",
     "iopub.status.idle": "2025-01-13T14:55:27.338887Z",
     "shell.execute_reply": "2025-01-13T14:55:27.338509Z"
    },
    "slideshow": {
     "slide_type": "fragment"
    }
   },
   "outputs": [
    {
     "data": {
      "image/svg+xml": [
       "<?xml version=\"1.0\" encoding=\"UTF-8\" standalone=\"no\"?>\n",
       "<!DOCTYPE svg PUBLIC \"-//W3C//DTD SVG 1.1//EN\"\n",
       " \"http://www.w3.org/Graphics/SVG/1.1/DTD/svg11.dtd\">\n",
       "<!-- Generated by graphviz version 12.2.1 (20241206.2353)\n",
       " -->\n",
       "<!-- Pages: 1 -->\n",
       "<svg width=\"225pt\" height=\"374pt\"\n",
       " viewBox=\"0.00 0.00 225.00 374.00\" xmlns=\"http://www.w3.org/2000/svg\" xmlns:xlink=\"http://www.w3.org/1999/xlink\">\n",
       "<g id=\"graph0\" class=\"graph\" transform=\"scale(1 1) rotate(0) translate(4 370)\">\n",
       "<polygon fill=\"white\" stroke=\"none\" points=\"-4,4 -4,-370 221,-370 221,4 -4,4\"/>\n",
       "<!-- 0 -->\n",
       "<g id=\"node1\" class=\"node\">\n",
       "<title>0</title>\n",
       "<text text-anchor=\"middle\" x=\"132\" y=\"-352.7\" font-family=\"Times,serif\" font-size=\"14.00\">&lt;start&gt;</text>\n",
       "</g>\n",
       "<!-- 1 -->\n",
       "<g id=\"node2\" class=\"node\">\n",
       "<title>1</title>\n",
       "<text text-anchor=\"middle\" x=\"132\" y=\"-302.45\" font-family=\"Times,serif\" font-size=\"14.00\">&lt;expr&gt;</text>\n",
       "</g>\n",
       "<!-- 0&#45;&gt;1 -->\n",
       "<g id=\"edge1\" class=\"edge\">\n",
       "<title>0&#45;&gt;1</title>\n",
       "<path fill=\"none\" stroke=\"black\" d=\"M132,-351.96C132,-345.74 132,-335.65 132,-326.89\"/>\n",
       "<polygon fill=\"black\" stroke=\"black\" points=\"135.5,-327.1 132,-317.1 128.5,-327.1 135.5,-327.1\"/>\n",
       "</g>\n",
       "<!-- 2 -->\n",
       "<g id=\"node3\" class=\"node\">\n",
       "<title>2</title>\n",
       "<text text-anchor=\"middle\" x=\"82\" y=\"-252.2\" font-family=\"Times,serif\" font-size=\"14.00\">&lt;term&gt;</text>\n",
       "</g>\n",
       "<!-- 1&#45;&gt;2 -->\n",
       "<g id=\"edge2\" class=\"edge\">\n",
       "<title>1&#45;&gt;2</title>\n",
       "<path fill=\"none\" stroke=\"black\" d=\"M125.87,-301.71C118.52,-294.62 105.98,-282.51 96.18,-273.06\"/>\n",
       "<polygon fill=\"black\" stroke=\"black\" points=\"98.9,-270.82 89.27,-266.39 94.04,-275.85 98.9,-270.82\"/>\n",
       "</g>\n",
       "<!-- 13 -->\n",
       "<g id=\"node14\" class=\"node\">\n",
       "<title>13</title>\n",
       "<text text-anchor=\"middle\" x=\"132\" y=\"-252.2\" font-family=\"Times,serif\" font-size=\"14.00\"> + </text>\n",
       "</g>\n",
       "<!-- 1&#45;&gt;13 -->\n",
       "<g id=\"edge13\" class=\"edge\">\n",
       "<title>1&#45;&gt;13</title>\n",
       "<path fill=\"none\" stroke=\"black\" d=\"M132,-301.71C132,-295.49 132,-285.4 132,-276.64\"/>\n",
       "<polygon fill=\"black\" stroke=\"black\" points=\"135.5,-276.85 132,-266.85 128.5,-276.85 135.5,-276.85\"/>\n",
       "</g>\n",
       "<!-- 14 -->\n",
       "<g id=\"node15\" class=\"node\">\n",
       "<title>14</title>\n",
       "<text text-anchor=\"middle\" x=\"180\" y=\"-252.2\" font-family=\"Times,serif\" font-size=\"14.00\">&lt;expr&gt;</text>\n",
       "</g>\n",
       "<!-- 1&#45;&gt;14 -->\n",
       "<g id=\"edge14\" class=\"edge\">\n",
       "<title>1&#45;&gt;14</title>\n",
       "<path fill=\"none\" stroke=\"black\" d=\"M137.89,-301.71C144.87,-294.69 156.74,-282.76 166.1,-273.35\"/>\n",
       "<polygon fill=\"black\" stroke=\"black\" points=\"168.43,-275.97 173,-266.41 163.46,-271.03 168.43,-275.97\"/>\n",
       "</g>\n",
       "<!-- 3 -->\n",
       "<g id=\"node4\" class=\"node\">\n",
       "<title>3</title>\n",
       "<text text-anchor=\"middle\" x=\"27\" y=\"-201.95\" font-family=\"Times,serif\" font-size=\"14.00\">&lt;factor&gt;</text>\n",
       "</g>\n",
       "<!-- 2&#45;&gt;3 -->\n",
       "<g id=\"edge3\" class=\"edge\">\n",
       "<title>2&#45;&gt;3</title>\n",
       "<path fill=\"none\" stroke=\"black\" d=\"M75.26,-251.46C67.09,-244.3 53.09,-232.01 42.27,-222.52\"/>\n",
       "<polygon fill=\"black\" stroke=\"black\" points=\"44.76,-220.05 34.94,-216.09 40.15,-225.31 44.76,-220.05\"/>\n",
       "</g>\n",
       "<!-- 7 -->\n",
       "<g id=\"node8\" class=\"node\">\n",
       "<title>7</title>\n",
       "<text text-anchor=\"middle\" x=\"76\" y=\"-201.95\" font-family=\"Times,serif\" font-size=\"14.00\"> * </text>\n",
       "</g>\n",
       "<!-- 2&#45;&gt;7 -->\n",
       "<g id=\"edge7\" class=\"edge\">\n",
       "<title>2&#45;&gt;7</title>\n",
       "<path fill=\"none\" stroke=\"black\" d=\"M81.26,-251.46C80.49,-245.24 79.24,-235.15 78.15,-226.39\"/>\n",
       "<polygon fill=\"black\" stroke=\"black\" points=\"81.64,-226.08 76.93,-216.59 74.69,-226.95 81.64,-226.08\"/>\n",
       "</g>\n",
       "<!-- 8 -->\n",
       "<g id=\"node9\" class=\"node\">\n",
       "<title>8</title>\n",
       "<text text-anchor=\"middle\" x=\"122\" y=\"-201.95\" font-family=\"Times,serif\" font-size=\"14.00\">&lt;term&gt;</text>\n",
       "</g>\n",
       "<!-- 2&#45;&gt;8 -->\n",
       "<g id=\"edge8\" class=\"edge\">\n",
       "<title>2&#45;&gt;8</title>\n",
       "<path fill=\"none\" stroke=\"black\" d=\"M86.9,-251.46C92.6,-244.59 102.21,-233 109.93,-223.68\"/>\n",
       "<polygon fill=\"black\" stroke=\"black\" points=\"112.4,-226.19 116.09,-216.25 107.01,-221.72 112.4,-226.19\"/>\n",
       "</g>\n",
       "<!-- 4 -->\n",
       "<g id=\"node5\" class=\"node\">\n",
       "<title>4</title>\n",
       "<text text-anchor=\"middle\" x=\"27\" y=\"-151.7\" font-family=\"Times,serif\" font-size=\"14.00\">&lt;integer&gt;</text>\n",
       "</g>\n",
       "<!-- 3&#45;&gt;4 -->\n",
       "<g id=\"edge4\" class=\"edge\">\n",
       "<title>3&#45;&gt;4</title>\n",
       "<path fill=\"none\" stroke=\"black\" d=\"M27,-201.21C27,-194.99 27,-184.9 27,-176.14\"/>\n",
       "<polygon fill=\"black\" stroke=\"black\" points=\"30.5,-176.35 27,-166.35 23.5,-176.35 30.5,-176.35\"/>\n",
       "</g>\n",
       "<!-- 5 -->\n",
       "<g id=\"node6\" class=\"node\">\n",
       "<title>5</title>\n",
       "<text text-anchor=\"middle\" x=\"27\" y=\"-101.45\" font-family=\"Times,serif\" font-size=\"14.00\">&lt;digit&gt;</text>\n",
       "</g>\n",
       "<!-- 4&#45;&gt;5 -->\n",
       "<g id=\"edge5\" class=\"edge\">\n",
       "<title>4&#45;&gt;5</title>\n",
       "<path fill=\"none\" stroke=\"black\" d=\"M27,-150.96C27,-144.74 27,-134.65 27,-125.89\"/>\n",
       "<polygon fill=\"black\" stroke=\"black\" points=\"30.5,-126.1 27,-116.1 23.5,-126.1 30.5,-126.1\"/>\n",
       "</g>\n",
       "<!-- 6 -->\n",
       "<g id=\"node7\" class=\"node\">\n",
       "<title>6</title>\n",
       "<text text-anchor=\"middle\" x=\"27\" y=\"-51.2\" font-family=\"Times,serif\" font-size=\"14.00\">6 (54)</text>\n",
       "</g>\n",
       "<!-- 5&#45;&gt;6 -->\n",
       "<g id=\"edge6\" class=\"edge\">\n",
       "<title>5&#45;&gt;6</title>\n",
       "<path fill=\"none\" stroke=\"black\" d=\"M27,-100.71C27,-94.49 27,-84.4 27,-75.64\"/>\n",
       "<polygon fill=\"black\" stroke=\"black\" points=\"30.5,-75.85 27,-65.85 23.5,-75.85 30.5,-75.85\"/>\n",
       "</g>\n",
       "<!-- 9 -->\n",
       "<g id=\"node10\" class=\"node\">\n",
       "<title>9</title>\n",
       "<text text-anchor=\"middle\" x=\"120\" y=\"-151.7\" font-family=\"Times,serif\" font-size=\"14.00\">&lt;factor&gt;</text>\n",
       "</g>\n",
       "<!-- 8&#45;&gt;9 -->\n",
       "<g id=\"edge9\" class=\"edge\">\n",
       "<title>8&#45;&gt;9</title>\n",
       "<path fill=\"none\" stroke=\"black\" d=\"M121.75,-201.21C121.5,-194.99 121.08,-184.9 120.72,-176.14\"/>\n",
       "<polygon fill=\"black\" stroke=\"black\" points=\"124.22,-176.2 120.31,-166.35 117.23,-176.49 124.22,-176.2\"/>\n",
       "</g>\n",
       "<!-- 10 -->\n",
       "<g id=\"node11\" class=\"node\">\n",
       "<title>10</title>\n",
       "<text text-anchor=\"middle\" x=\"118\" y=\"-101.45\" font-family=\"Times,serif\" font-size=\"14.00\">&lt;integer&gt;</text>\n",
       "</g>\n",
       "<!-- 9&#45;&gt;10 -->\n",
       "<g id=\"edge10\" class=\"edge\">\n",
       "<title>9&#45;&gt;10</title>\n",
       "<path fill=\"none\" stroke=\"black\" d=\"M119.75,-150.96C119.5,-144.74 119.08,-134.65 118.72,-125.89\"/>\n",
       "<polygon fill=\"black\" stroke=\"black\" points=\"122.22,-125.95 118.31,-116.1 115.23,-126.24 122.22,-125.95\"/>\n",
       "</g>\n",
       "<!-- 11 -->\n",
       "<g id=\"node12\" class=\"node\">\n",
       "<title>11</title>\n",
       "<text text-anchor=\"middle\" x=\"118\" y=\"-51.2\" font-family=\"Times,serif\" font-size=\"14.00\">&lt;digit&gt;</text>\n",
       "</g>\n",
       "<!-- 10&#45;&gt;11 -->\n",
       "<g id=\"edge11\" class=\"edge\">\n",
       "<title>10&#45;&gt;11</title>\n",
       "<path fill=\"none\" stroke=\"black\" d=\"M118,-100.71C118,-94.49 118,-84.4 118,-75.64\"/>\n",
       "<polygon fill=\"black\" stroke=\"black\" points=\"121.5,-75.85 118,-65.85 114.5,-75.85 121.5,-75.85\"/>\n",
       "</g>\n",
       "<!-- 12 -->\n",
       "<g id=\"node13\" class=\"node\">\n",
       "<title>12</title>\n",
       "<text text-anchor=\"middle\" x=\"118\" y=\"-0.95\" font-family=\"Times,serif\" font-size=\"14.00\">3 (51)</text>\n",
       "</g>\n",
       "<!-- 11&#45;&gt;12 -->\n",
       "<g id=\"edge12\" class=\"edge\">\n",
       "<title>11&#45;&gt;12</title>\n",
       "<path fill=\"none\" stroke=\"black\" d=\"M118,-50.46C118,-44.24 118,-34.15 118,-25.39\"/>\n",
       "<polygon fill=\"black\" stroke=\"black\" points=\"121.5,-25.6 118,-15.6 114.5,-25.6 121.5,-25.6\"/>\n",
       "</g>\n",
       "<!-- 15 -->\n",
       "<g id=\"node16\" class=\"node\">\n",
       "<title>15</title>\n",
       "<text text-anchor=\"middle\" x=\"185\" y=\"-201.95\" font-family=\"Times,serif\" font-size=\"14.00\">&lt;term&gt;</text>\n",
       "</g>\n",
       "<!-- 14&#45;&gt;15 -->\n",
       "<g id=\"edge15\" class=\"edge\">\n",
       "<title>14&#45;&gt;15</title>\n",
       "<path fill=\"none\" stroke=\"black\" d=\"M180.61,-251.46C181.26,-245.24 182.3,-235.15 183.21,-226.39\"/>\n",
       "<polygon fill=\"black\" stroke=\"black\" points=\"186.68,-226.9 184.23,-216.6 179.71,-226.18 186.68,-226.9\"/>\n",
       "</g>\n",
       "<!-- 16 -->\n",
       "<g id=\"node17\" class=\"node\">\n",
       "<title>16</title>\n",
       "<text text-anchor=\"middle\" x=\"187\" y=\"-151.7\" font-family=\"Times,serif\" font-size=\"14.00\">&lt;factor&gt;</text>\n",
       "</g>\n",
       "<!-- 15&#45;&gt;16 -->\n",
       "<g id=\"edge16\" class=\"edge\">\n",
       "<title>15&#45;&gt;16</title>\n",
       "<path fill=\"none\" stroke=\"black\" d=\"M185.25,-201.21C185.5,-194.99 185.92,-184.9 186.28,-176.14\"/>\n",
       "<polygon fill=\"black\" stroke=\"black\" points=\"189.77,-176.49 186.69,-166.35 182.78,-176.2 189.77,-176.49\"/>\n",
       "</g>\n",
       "<!-- 17 -->\n",
       "<g id=\"node18\" class=\"node\">\n",
       "<title>17</title>\n",
       "<text text-anchor=\"middle\" x=\"190\" y=\"-101.45\" font-family=\"Times,serif\" font-size=\"14.00\">&lt;integer&gt;</text>\n",
       "</g>\n",
       "<!-- 16&#45;&gt;17 -->\n",
       "<g id=\"edge17\" class=\"edge\">\n",
       "<title>16&#45;&gt;17</title>\n",
       "<path fill=\"none\" stroke=\"black\" d=\"M187.37,-150.96C187.75,-144.74 188.38,-134.65 188.93,-125.89\"/>\n",
       "<polygon fill=\"black\" stroke=\"black\" points=\"192.41,-126.3 189.54,-116.1 185.42,-125.86 192.41,-126.3\"/>\n",
       "</g>\n",
       "<!-- 18 -->\n",
       "<g id=\"node19\" class=\"node\">\n",
       "<title>18</title>\n",
       "<text text-anchor=\"middle\" x=\"190\" y=\"-51.2\" font-family=\"Times,serif\" font-size=\"14.00\">&lt;digit&gt;</text>\n",
       "</g>\n",
       "<!-- 17&#45;&gt;18 -->\n",
       "<g id=\"edge18\" class=\"edge\">\n",
       "<title>17&#45;&gt;18</title>\n",
       "<path fill=\"none\" stroke=\"black\" d=\"M190,-100.71C190,-94.49 190,-84.4 190,-75.64\"/>\n",
       "<polygon fill=\"black\" stroke=\"black\" points=\"193.5,-75.85 190,-65.85 186.5,-75.85 193.5,-75.85\"/>\n",
       "</g>\n",
       "<!-- 19 -->\n",
       "<g id=\"node20\" class=\"node\">\n",
       "<title>19</title>\n",
       "<text text-anchor=\"middle\" x=\"190\" y=\"-0.95\" font-family=\"Times,serif\" font-size=\"14.00\">9 (57)</text>\n",
       "</g>\n",
       "<!-- 18&#45;&gt;19 -->\n",
       "<g id=\"edge19\" class=\"edge\">\n",
       "<title>18&#45;&gt;19</title>\n",
       "<path fill=\"none\" stroke=\"black\" d=\"M190,-50.46C190,-44.24 190,-34.15 190,-25.39\"/>\n",
       "<polygon fill=\"black\" stroke=\"black\" points=\"193.5,-25.6 190,-15.6 186.5,-25.6 193.5,-25.6\"/>\n",
       "</g>\n",
       "</g>\n",
       "</svg>\n"
      ],
      "text/plain": [
       "<graphviz.graphs.Digraph at 0x111b5d670>"
      ]
     },
     "execution_count": 42,
     "metadata": {},
     "output_type": "execute_result"
    }
   ],
   "source": [
    "# For this example, fix the random seed so that the produced output is deterministic\n",
    "random.seed(24)\n",
    "f = GrammarFuzzer(EXPR_GRAMMAR, max_nonterminals=3)\n",
    "test_input = f.fuzz()\n",
    "assert(test_input == tree_to_string(f.derivation_tree))\n",
    "\n",
    "display_tree(f.derivation_tree)"
   ]
  },
  {
   "cell_type": "markdown",
   "metadata": {
    "slideshow": {
     "slide_type": "subslide"
    }
   },
   "source": [
    "Let us write a function `transform_grammar()` that given a sample input and a grammar, transforms it according to Kampmann et al."
   ]
  },
  {
   "cell_type": "markdown",
   "metadata": {
    "slideshow": {
     "slide_type": "fragment"
    }
   },
   "source": [
    "```python\n",
    "\n",
    "def transform_grammar(sample: str,\n",
    "                     grammar: Grammar) -> Grammar\n",
    "\n",
    "```"
   ]
  },
  {
   "cell_type": "markdown",
   "metadata": {
    "slideshow": {
     "slide_type": "fragment"
    }
   },
   "source": [
    "The function requires the following input parameter:\n",
    "- `sample`: an input sample \n",
    "- `grammar`: the grammar that should be transformed/extended"
   ]
  },
  {
   "cell_type": "markdown",
   "metadata": {
    "slideshow": {
     "slide_type": "fragment"
    }
   },
   "source": [
    "The function returns the transformed and extended grammar."
   ]
  },
  {
   "cell_type": "code",
   "execution_count": 43,
   "metadata": {
    "execution": {
     "iopub.execute_input": "2025-01-13T14:55:27.341557Z",
     "iopub.status.busy": "2025-01-13T14:55:27.341355Z",
     "iopub.status.idle": "2025-01-13T14:55:27.344324Z",
     "shell.execute_reply": "2025-01-13T14:55:27.343838Z"
    },
    "slideshow": {
     "slide_type": "subslide"
    }
   },
   "outputs": [],
   "source": [
    "# Recursively iterate through the derivation tree and for each non-terminal,\n",
    "# add the derived word to the grammar\n",
    "\n",
    "def extend_grammar(derivation_tree, grammar):\n",
    "    (node, children) = derivation_tree\n",
    "\n",
    "    if is_nonterminal(node):\n",
    "        assert(node in grammar)\n",
    "        word = tree_to_string(derivation_tree)\n",
    "\n",
    "        # Only add to grammar if not already existent\n",
    "        if word not in grammar[node]:\n",
    "            grammar[node].append(word)\n",
    "\n",
    "    for child in children:\n",
    "        extend_grammar(child, grammar)"
   ]
  },
  {
   "cell_type": "code",
   "execution_count": 44,
   "metadata": {
    "execution": {
     "iopub.execute_input": "2025-01-13T14:55:27.346495Z",
     "iopub.status.busy": "2025-01-13T14:55:27.346314Z",
     "iopub.status.idle": "2025-01-13T14:55:27.348549Z",
     "shell.execute_reply": "2025-01-13T14:55:27.348223Z"
    },
    "slideshow": {
     "slide_type": "skip"
    }
   },
   "outputs": [],
   "source": [
    "import copy"
   ]
  },
  {
   "cell_type": "code",
   "execution_count": 45,
   "metadata": {
    "execution": {
     "iopub.execute_input": "2025-01-13T14:55:27.349996Z",
     "iopub.status.busy": "2025-01-13T14:55:27.349895Z",
     "iopub.status.idle": "2025-01-13T14:55:27.352173Z",
     "shell.execute_reply": "2025-01-13T14:55:27.351854Z"
    },
    "slideshow": {
     "slide_type": "subslide"
    }
   },
   "outputs": [],
   "source": [
    "def transform_grammar(sample: str,\n",
    "                      grammar: Grammar) -> Grammar:\n",
    "    # copy of the grammar\n",
    "    transformed_grammar = copy.deepcopy(grammar)\n",
    "\n",
    "    # parse sample\n",
    "    earley = EarleyParser(grammar)\n",
    "    for derivation_tree in earley.parse(sample):\n",
    "        extend_grammar(derivation_tree, transformed_grammar)\n",
    "\n",
    "    return transformed_grammar"
   ]
  },
  {
   "cell_type": "markdown",
   "metadata": {
    "slideshow": {
     "slide_type": "fragment"
    }
   },
   "source": [
    "Here is an example of a transformed grammar:"
   ]
  },
  {
   "cell_type": "code",
   "execution_count": 46,
   "metadata": {
    "execution": {
     "iopub.execute_input": "2025-01-13T14:55:27.353622Z",
     "iopub.status.busy": "2025-01-13T14:55:27.353531Z",
     "iopub.status.idle": "2025-01-13T14:55:27.356443Z",
     "shell.execute_reply": "2025-01-13T14:55:27.356135Z"
    },
    "slideshow": {
     "slide_type": "subslide"
    }
   },
   "outputs": [
    {
     "name": "stdout",
     "output_type": "stream",
     "text": [
      "<start>    ['<expr>', '1 + 2']\n",
      "<expr>     ['<term> + <expr>', '<term> - <expr>', '<term>', '1 + 2', '2']\n",
      "<term>     ['<factor> * <term>', '<factor> / <term>', '<factor>', '1', '2']\n",
      "<factor>   ['+<factor>', '-<factor>', '(<expr>)', '<integer>.<integer>', '<integer>', '1', '2']\n",
      "<integer>  ['<digit><integer>', '<digit>', '1', '2']\n",
      "<digit>    ['0', '1', '2', '3', '4', '5', '6', '7', '8', '9']\n"
     ]
    }
   ],
   "source": [
    "transformed_grammar = transform_grammar(\"1 + 2\", EXPR_GRAMMAR)\n",
    "for rule in transformed_grammar:\n",
    "    print(rule.ljust(10), transformed_grammar[rule])"
   ]
  },
  {
   "cell_type": "markdown",
   "metadata": {
    "slideshow": {
     "slide_type": "subslide"
    }
   },
   "source": [
    "### End of Excursion"
   ]
  },
  {
   "cell_type": "markdown",
   "metadata": {
    "slideshow": {
     "slide_type": "slide"
    }
   },
   "source": [
    "## Step 2: Train Classification Model\n",
    "\n",
    "Now that we have all the input features and the test outcomes, we can start training a machine learner from these.\n",
    "Although other machine learning models have much higher accuracy, we use _decision trees_ as machine learning models because they are easy to interpret by humans.\n",
    "This is crucial as it will be these very same humans that have to fix the code."
   ]
  },
  {
   "cell_type": "markdown",
   "metadata": {
    "slideshow": {
     "slide_type": "fragment"
    }
   },
   "source": [
    "Before we start with our actual implementation, let us first illustrate how training such a classifier works, again using our calculator as an example."
   ]
  },
  {
   "cell_type": "markdown",
   "metadata": {
    "slideshow": {
     "slide_type": "subslide"
    }
   },
   "source": [
    "### Decision Trees"
   ]
  },
  {
   "cell_type": "markdown",
   "metadata": {
    "slideshow": {
     "slide_type": "fragment"
    }
   },
   "source": [
    "We will use `scikit-learn` as the machine learning library.\n",
    "The `DecisionTreeClassifier` can then learn the syntactical input features that are responsible for the bug-triggering behavior of our Calculator."
   ]
  },
  {
   "cell_type": "code",
   "execution_count": 47,
   "metadata": {
    "execution": {
     "iopub.execute_input": "2025-01-13T14:55:27.358198Z",
     "iopub.status.busy": "2025-01-13T14:55:27.358078Z",
     "iopub.status.idle": "2025-01-13T14:55:27.893971Z",
     "shell.execute_reply": "2025-01-13T14:55:27.893669Z"
    },
    "slideshow": {
     "slide_type": "skip"
    }
   },
   "outputs": [],
   "source": [
    "import sklearn\n",
    "from sklearn.tree import DecisionTreeClassifier\n",
    "from sklearn.feature_extraction import DictVectorizer"
   ]
  },
  {
   "cell_type": "markdown",
   "metadata": {
    "slideshow": {
     "slide_type": "fragment"
    }
   },
   "source": [
    "First, we transform the individual input features (represented as Python dictionaries) into a NumPy array.\n",
    "For this example, we use the following four features (`function-sqrt`, `function-cos`, `function-sin`, `number`) to describe an input feature.\n",
    "(Please note that this is an extremely reduced example; this is not the complete list of features that should be extracted from the `CALC_GRAMMAR` Grammar.)"
   ]
  },
  {
   "cell_type": "markdown",
   "metadata": {
    "slideshow": {
     "slide_type": "subslide"
    }
   },
   "source": [
    "The features `function-sqrt`, `function-cos`, `function-sin` state whether the function _sqrt_, _cos_, or _sin_ was used.\n",
    "A `1` is given if the sample contains the respective function, otherwise the feature contains a `0`."
   ]
  },
  {
   "cell_type": "markdown",
   "metadata": {
    "slideshow": {
     "slide_type": "fragment"
    }
   },
   "source": [
    "For each `<function>(x)`, the `number` feature describes which value was used for `x`. For instance, the first input `sqrt(-900)` corresponds to 'function-sqrt': 1 and 'number': -900."
   ]
  },
  {
   "cell_type": "code",
   "execution_count": 48,
   "metadata": {
    "execution": {
     "iopub.execute_input": "2025-01-13T14:55:27.895864Z",
     "iopub.status.busy": "2025-01-13T14:55:27.895731Z",
     "iopub.status.idle": "2025-01-13T14:55:27.898366Z",
     "shell.execute_reply": "2025-01-13T14:55:27.897934Z"
    },
    "slideshow": {
     "slide_type": "subslide"
    }
   },
   "outputs": [],
   "source": [
    "# Features for each input, one dict per input\n",
    "features = [\n",
    "    {'function-sqrt': 1, 'function-cos': 0, 'function-sin': 0, 'number': -900}, # sqrt(-900)\n",
    "    {'function-sqrt': 0, 'function-cos': 1, 'function-sin': 0, 'number': 300}, # cos(300)\n",
    "    {'function-sqrt': 1, 'function-cos': 0, 'function-sin': 0, 'number': -1}, # sqrt(-1)\n",
    "    {'function-sqrt': 0, 'function-cos': 1, 'function-sin': 0, 'number': -10}, # cos(-10)\n",
    "    {'function-sqrt': 0, 'function-cos': 0, 'function-sin': 1, 'number': 36}, # sin(36)\n",
    "    {'function-sqrt': 0, 'function-cos': 0, 'function-sin': 1, 'number': -58}, # sin(-58)\n",
    "    {'function-sqrt': 1, 'function-cos': 0, 'function-sin': 0, 'number': 27}, # sqrt(27)\n",
    "]"
   ]
  },
  {
   "cell_type": "markdown",
   "metadata": {
    "slideshow": {
     "slide_type": "fragment"
    }
   },
   "source": [
    "We define a list of labels (or oracles) that state whether the specific input file resulted in a bug or not. We use the `OracleResult`-Class to keep everything tidy and clean."
   ]
  },
  {
   "cell_type": "code",
   "execution_count": 49,
   "metadata": {
    "execution": {
     "iopub.execute_input": "2025-01-13T14:55:27.899882Z",
     "iopub.status.busy": "2025-01-13T14:55:27.899767Z",
     "iopub.status.idle": "2025-01-13T14:55:27.903001Z",
     "shell.execute_reply": "2025-01-13T14:55:27.902738Z"
    },
    "slideshow": {
     "slide_type": "subslide"
    }
   },
   "outputs": [],
   "source": [
    "# Labels for each input\n",
    "oracle = [\n",
    "    OracleResult.BUG,\n",
    "    OracleResult.NO_BUG,\n",
    "    OracleResult.BUG,\n",
    "    OracleResult.NO_BUG,\n",
    "    OracleResult.NO_BUG,\n",
    "    OracleResult.NO_BUG,\n",
    "    OracleResult.NO_BUG\n",
    "]\n",
    "\n",
    "# Transform to numpy array\n",
    "vec = DictVectorizer()\n",
    "X = vec.fit_transform(features).toarray()"
   ]
  },
  {
   "cell_type": "markdown",
   "metadata": {
    "slideshow": {
     "slide_type": "subslide"
    }
   },
   "source": [
    "Using the feature array and labels, we can now train a decision tree classifier as follows:"
   ]
  },
  {
   "cell_type": "code",
   "execution_count": 50,
   "metadata": {
    "execution": {
     "iopub.execute_input": "2025-01-13T14:55:27.904305Z",
     "iopub.status.busy": "2025-01-13T14:55:27.904196Z",
     "iopub.status.idle": "2025-01-13T14:55:27.907009Z",
     "shell.execute_reply": "2025-01-13T14:55:27.906767Z"
    },
    "slideshow": {
     "slide_type": "fragment"
    }
   },
   "outputs": [],
   "source": [
    "# Fix the random state to produce a deterministic result (for illustration purposes only)\n",
    "clf = DecisionTreeClassifier(random_state=10)\n",
    "\n",
    "# sci-kit learn requires an array of strings\n",
    "oracle_clean = [str(c) for c in oracle]\n",
    "clf = clf.fit(X, oracle_clean)"
   ]
  },
  {
   "cell_type": "markdown",
   "metadata": {
    "slideshow": {
     "slide_type": "fragment"
    }
   },
   "source": [
    "Let's have a look at the learned decision tree:"
   ]
  },
  {
   "cell_type": "code",
   "execution_count": 51,
   "metadata": {
    "execution": {
     "iopub.execute_input": "2025-01-13T14:55:27.908320Z",
     "iopub.status.busy": "2025-01-13T14:55:27.908222Z",
     "iopub.status.idle": "2025-01-13T14:55:27.909946Z",
     "shell.execute_reply": "2025-01-13T14:55:27.909581Z"
    },
    "slideshow": {
     "slide_type": "skip"
    }
   },
   "outputs": [],
   "source": [
    "import graphviz"
   ]
  },
  {
   "cell_type": "code",
   "execution_count": 52,
   "metadata": {
    "execution": {
     "iopub.execute_input": "2025-01-13T14:55:27.911325Z",
     "iopub.status.busy": "2025-01-13T14:55:27.911211Z",
     "iopub.status.idle": "2025-01-13T14:55:27.913122Z",
     "shell.execute_reply": "2025-01-13T14:55:27.912873Z"
    },
    "slideshow": {
     "slide_type": "fragment"
    }
   },
   "outputs": [],
   "source": [
    "def show_decision_tree(clf, feature_names):\n",
    "    dot_data = sklearn.tree.export_graphviz(clf, out_file=None, \n",
    "                                    feature_names=feature_names,\n",
    "                                    class_names=[\"BUG\", \"NO_BUG\"],  \n",
    "                                    filled=True, rounded=True)  \n",
    "    return graphviz.Source(dot_data)"
   ]
  },
  {
   "cell_type": "code",
   "execution_count": 53,
   "metadata": {
    "execution": {
     "iopub.execute_input": "2025-01-13T14:55:27.914295Z",
     "iopub.status.busy": "2025-01-13T14:55:27.914197Z",
     "iopub.status.idle": "2025-01-13T14:55:28.347108Z",
     "shell.execute_reply": "2025-01-13T14:55:28.346676Z"
    },
    "slideshow": {
     "slide_type": "subslide"
    }
   },
   "outputs": [
    {
     "data": {
      "image/svg+xml": [
       "<?xml version=\"1.0\" encoding=\"UTF-8\" standalone=\"no\"?>\n",
       "<!DOCTYPE svg PUBLIC \"-//W3C//DTD SVG 1.1//EN\"\n",
       " \"http://www.w3.org/Graphics/SVG/1.1/DTD/svg11.dtd\">\n",
       "<!-- Generated by graphviz version 12.2.1 (20241206.2353)\n",
       " -->\n",
       "<!-- Title: Tree Pages: 1 -->\n",
       "<svg width=\"327pt\" height=\"314pt\"\n",
       " viewBox=\"0.00 0.00 327.00 314.00\" xmlns=\"http://www.w3.org/2000/svg\" xmlns:xlink=\"http://www.w3.org/1999/xlink\">\n",
       "<g id=\"graph0\" class=\"graph\" transform=\"scale(1 1) rotate(0) translate(4 310)\">\n",
       "<title>Tree</title>\n",
       "<polygon fill=\"white\" stroke=\"none\" points=\"-4,4 -4,-310 323,-310 323,4 -4,4\"/>\n",
       "<!-- 0 -->\n",
       "<g id=\"node1\" class=\"node\">\n",
       "<title>0</title>\n",
       "<path fill=\"#88c4ef\" stroke=\"black\" d=\"M182,-306C182,-306 73,-306 73,-306 67,-306 61,-300 61,-294 61,-294 61,-235 61,-235 61,-229 67,-223 73,-223 73,-223 182,-223 182,-223 188,-223 194,-229 194,-235 194,-235 194,-294 194,-294 194,-300 188,-306 182,-306\"/>\n",
       "<text text-anchor=\"middle\" x=\"127.5\" y=\"-288.7\" font-family=\"Helvetica,sans-Serif\" font-size=\"14.00\">function&#45;sqrt &lt;= 0.5</text>\n",
       "<text text-anchor=\"middle\" x=\"127.5\" y=\"-273.7\" font-family=\"Helvetica,sans-Serif\" font-size=\"14.00\">gini = 0.408</text>\n",
       "<text text-anchor=\"middle\" x=\"127.5\" y=\"-258.7\" font-family=\"Helvetica,sans-Serif\" font-size=\"14.00\">samples = 7</text>\n",
       "<text text-anchor=\"middle\" x=\"127.5\" y=\"-243.7\" font-family=\"Helvetica,sans-Serif\" font-size=\"14.00\">value = [2, 5]</text>\n",
       "<text text-anchor=\"middle\" x=\"127.5\" y=\"-228.7\" font-family=\"Helvetica,sans-Serif\" font-size=\"14.00\">class = NO_BUG</text>\n",
       "</g>\n",
       "<!-- 1 -->\n",
       "<g id=\"node2\" class=\"node\">\n",
       "<title>1</title>\n",
       "<path fill=\"#399de5\" stroke=\"black\" d=\"M109,-179.5C109,-179.5 12,-179.5 12,-179.5 6,-179.5 0,-173.5 0,-167.5 0,-167.5 0,-123.5 0,-123.5 0,-117.5 6,-111.5 12,-111.5 12,-111.5 109,-111.5 109,-111.5 115,-111.5 121,-117.5 121,-123.5 121,-123.5 121,-167.5 121,-167.5 121,-173.5 115,-179.5 109,-179.5\"/>\n",
       "<text text-anchor=\"middle\" x=\"60.5\" y=\"-162.2\" font-family=\"Helvetica,sans-Serif\" font-size=\"14.00\">gini = 0.0</text>\n",
       "<text text-anchor=\"middle\" x=\"60.5\" y=\"-147.2\" font-family=\"Helvetica,sans-Serif\" font-size=\"14.00\">samples = 4</text>\n",
       "<text text-anchor=\"middle\" x=\"60.5\" y=\"-132.2\" font-family=\"Helvetica,sans-Serif\" font-size=\"14.00\">value = [0, 4]</text>\n",
       "<text text-anchor=\"middle\" x=\"60.5\" y=\"-117.2\" font-family=\"Helvetica,sans-Serif\" font-size=\"14.00\">class = NO_BUG</text>\n",
       "</g>\n",
       "<!-- 0&#45;&gt;1 -->\n",
       "<g id=\"edge1\" class=\"edge\">\n",
       "<title>0&#45;&gt;1</title>\n",
       "<path fill=\"none\" stroke=\"black\" d=\"M104.07,-222.58C98,-211.99 91.46,-200.56 85.33,-189.85\"/>\n",
       "<polygon fill=\"black\" stroke=\"black\" points=\"88.36,-188.11 80.36,-181.17 82.29,-191.59 88.36,-188.11\"/>\n",
       "<text text-anchor=\"middle\" x=\"73.05\" y=\"-198.19\" font-family=\"Helvetica,sans-Serif\" font-size=\"14.00\">True</text>\n",
       "</g>\n",
       "<!-- 2 -->\n",
       "<g id=\"node3\" class=\"node\">\n",
       "<title>2</title>\n",
       "<path fill=\"#f2c09c\" stroke=\"black\" d=\"M239.88,-187C239.88,-187 151.12,-187 151.12,-187 145.12,-187 139.12,-181 139.12,-175 139.12,-175 139.12,-116 139.12,-116 139.12,-110 145.12,-104 151.12,-104 151.12,-104 239.88,-104 239.88,-104 245.88,-104 251.88,-110 251.88,-116 251.88,-116 251.88,-175 251.88,-175 251.88,-181 245.88,-187 239.88,-187\"/>\n",
       "<text text-anchor=\"middle\" x=\"195.5\" y=\"-169.7\" font-family=\"Helvetica,sans-Serif\" font-size=\"14.00\">number &lt;= 13.0</text>\n",
       "<text text-anchor=\"middle\" x=\"195.5\" y=\"-154.7\" font-family=\"Helvetica,sans-Serif\" font-size=\"14.00\">gini = 0.444</text>\n",
       "<text text-anchor=\"middle\" x=\"195.5\" y=\"-139.7\" font-family=\"Helvetica,sans-Serif\" font-size=\"14.00\">samples = 3</text>\n",
       "<text text-anchor=\"middle\" x=\"195.5\" y=\"-124.7\" font-family=\"Helvetica,sans-Serif\" font-size=\"14.00\">value = [2, 1]</text>\n",
       "<text text-anchor=\"middle\" x=\"195.5\" y=\"-109.7\" font-family=\"Helvetica,sans-Serif\" font-size=\"14.00\">class = BUG</text>\n",
       "</g>\n",
       "<!-- 0&#45;&gt;2 -->\n",
       "<g id=\"edge2\" class=\"edge\">\n",
       "<title>0&#45;&gt;2</title>\n",
       "<path fill=\"none\" stroke=\"black\" d=\"M151.28,-222.58C156.07,-214.34 161.16,-205.58 166.12,-197.06\"/>\n",
       "<polygon fill=\"black\" stroke=\"black\" points=\"169.09,-198.91 171.08,-188.51 163.03,-195.4 169.09,-198.91\"/>\n",
       "<text text-anchor=\"middle\" x=\"178.25\" y=\"-205.57\" font-family=\"Helvetica,sans-Serif\" font-size=\"14.00\">False</text>\n",
       "</g>\n",
       "<!-- 3 -->\n",
       "<g id=\"node4\" class=\"node\">\n",
       "<title>3</title>\n",
       "<path fill=\"#e58139\" stroke=\"black\" d=\"M167.5,-68C167.5,-68 97.5,-68 97.5,-68 91.5,-68 85.5,-62 85.5,-56 85.5,-56 85.5,-12 85.5,-12 85.5,-6 91.5,0 97.5,0 97.5,0 167.5,0 167.5,0 173.5,0 179.5,-6 179.5,-12 179.5,-12 179.5,-56 179.5,-56 179.5,-62 173.5,-68 167.5,-68\"/>\n",
       "<text text-anchor=\"middle\" x=\"132.5\" y=\"-50.7\" font-family=\"Helvetica,sans-Serif\" font-size=\"14.00\">gini = 0.0</text>\n",
       "<text text-anchor=\"middle\" x=\"132.5\" y=\"-35.7\" font-family=\"Helvetica,sans-Serif\" font-size=\"14.00\">samples = 2</text>\n",
       "<text text-anchor=\"middle\" x=\"132.5\" y=\"-20.7\" font-family=\"Helvetica,sans-Serif\" font-size=\"14.00\">value = [2, 0]</text>\n",
       "<text text-anchor=\"middle\" x=\"132.5\" y=\"-5.7\" font-family=\"Helvetica,sans-Serif\" font-size=\"14.00\">class = BUG</text>\n",
       "</g>\n",
       "<!-- 2&#45;&gt;3 -->\n",
       "<g id=\"edge3\" class=\"edge\">\n",
       "<title>2&#45;&gt;3</title>\n",
       "<path fill=\"none\" stroke=\"black\" d=\"M172.04,-103.73C167.21,-95.34 162.12,-86.47 157.24,-78.01\"/>\n",
       "<polygon fill=\"black\" stroke=\"black\" points=\"160.43,-76.53 152.41,-69.61 154.37,-80.02 160.43,-76.53\"/>\n",
       "</g>\n",
       "<!-- 4 -->\n",
       "<g id=\"node5\" class=\"node\">\n",
       "<title>4</title>\n",
       "<path fill=\"#399de5\" stroke=\"black\" d=\"M307,-68C307,-68 210,-68 210,-68 204,-68 198,-62 198,-56 198,-56 198,-12 198,-12 198,-6 204,0 210,0 210,0 307,0 307,0 313,0 319,-6 319,-12 319,-12 319,-56 319,-56 319,-62 313,-68 307,-68\"/>\n",
       "<text text-anchor=\"middle\" x=\"258.5\" y=\"-50.7\" font-family=\"Helvetica,sans-Serif\" font-size=\"14.00\">gini = 0.0</text>\n",
       "<text text-anchor=\"middle\" x=\"258.5\" y=\"-35.7\" font-family=\"Helvetica,sans-Serif\" font-size=\"14.00\">samples = 1</text>\n",
       "<text text-anchor=\"middle\" x=\"258.5\" y=\"-20.7\" font-family=\"Helvetica,sans-Serif\" font-size=\"14.00\">value = [0, 1]</text>\n",
       "<text text-anchor=\"middle\" x=\"258.5\" y=\"-5.7\" font-family=\"Helvetica,sans-Serif\" font-size=\"14.00\">class = NO_BUG</text>\n",
       "</g>\n",
       "<!-- 2&#45;&gt;4 -->\n",
       "<g id=\"edge4\" class=\"edge\">\n",
       "<title>2&#45;&gt;4</title>\n",
       "<path fill=\"none\" stroke=\"black\" d=\"M218.96,-103.73C223.79,-95.34 228.88,-86.47 233.76,-78.01\"/>\n",
       "<polygon fill=\"black\" stroke=\"black\" points=\"236.63,-80.02 238.59,-69.61 230.57,-76.53 236.63,-80.02\"/>\n",
       "</g>\n",
       "</g>\n",
       "</svg>\n"
      ],
      "text/plain": [
       "<graphviz.sources.Source at 0x116c8acc0>"
      ]
     },
     "execution_count": 53,
     "metadata": {},
     "output_type": "execute_result"
    }
   ],
   "source": [
    "show_decision_tree(clf, vec.get_feature_names_out())"
   ]
  },
  {
   "cell_type": "markdown",
   "metadata": {
    "slideshow": {
     "slide_type": "fragment"
    }
   },
   "source": [
    "Here is a much reduced textual variant, still retaining the essential features:"
   ]
  },
  {
   "cell_type": "code",
   "execution_count": 54,
   "metadata": {
    "execution": {
     "iopub.execute_input": "2025-01-13T14:55:28.348861Z",
     "iopub.status.busy": "2025-01-13T14:55:28.348709Z",
     "iopub.status.idle": "2025-01-13T14:55:28.350726Z",
     "shell.execute_reply": "2025-01-13T14:55:28.350467Z"
    },
    "slideshow": {
     "slide_type": "skip"
    }
   },
   "outputs": [],
   "source": [
    "import math"
   ]
  },
  {
   "cell_type": "code",
   "execution_count": 55,
   "metadata": {
    "execution": {
     "iopub.execute_input": "2025-01-13T14:55:28.352130Z",
     "iopub.status.busy": "2025-01-13T14:55:28.352018Z",
     "iopub.status.idle": "2025-01-13T14:55:28.355247Z",
     "shell.execute_reply": "2025-01-13T14:55:28.354952Z"
    },
    "slideshow": {
     "slide_type": "subslide"
    }
   },
   "outputs": [],
   "source": [
    "def friendly_decision_tree(clf, feature_names,\n",
    "                           class_names = ['NO_BUG', 'BUG'],\n",
    "                           indent=0):\n",
    "    def _tree(index, indent):\n",
    "        s = \"\"\n",
    "        feature = clf.tree_.feature[index]\n",
    "        feature_name = feature_names[feature]\n",
    "        threshold = clf.tree_.threshold[index]\n",
    "        value = clf.tree_.value[index]\n",
    "        class_ = int(value[0][0])\n",
    "        class_name = class_names[class_]\n",
    "        left = clf.tree_.children_left[index]\n",
    "        right = clf.tree_.children_right[index]\n",
    "        if left == right:\n",
    "            # Leaf node\n",
    "            s += \" \" * indent + class_name + \"\\n\"\n",
    "        else:\n",
    "            if math.isclose(threshold, 0.5):\n",
    "                s += \" \" * indent + f\"if {feature_name}:\\n\"\n",
    "                s += _tree(right, indent + 2)\n",
    "                s += \" \" * indent + f\"else:\\n\"\n",
    "                s += _tree(left, indent + 2)\n",
    "            else:\n",
    "                s += \" \" * indent + f\"if {feature_name} <= {threshold:.4f}:\\n\"\n",
    "                s += _tree(left, indent + 2)\n",
    "                s += \" \" * indent + f\"else:\\n\"\n",
    "                s += _tree(right, indent + 2)\n",
    "        return s\n",
    "\n",
    "    ROOT_INDEX = 0\n",
    "    return _tree(ROOT_INDEX, indent)"
   ]
  },
  {
   "cell_type": "code",
   "execution_count": 56,
   "metadata": {
    "execution": {
     "iopub.execute_input": "2025-01-13T14:55:28.356850Z",
     "iopub.status.busy": "2025-01-13T14:55:28.356738Z",
     "iopub.status.idle": "2025-01-13T14:55:28.358848Z",
     "shell.execute_reply": "2025-01-13T14:55:28.358577Z"
    },
    "slideshow": {
     "slide_type": "subslide"
    }
   },
   "outputs": [
    {
     "name": "stdout",
     "output_type": "stream",
     "text": [
      "if function-sqrt:\n",
      "  if number <= 13.0000:\n",
      "    BUG\n",
      "  else:\n",
      "    NO_BUG\n",
      "else:\n",
      "  NO_BUG\n",
      "\n"
     ]
    }
   ],
   "source": [
    "print(friendly_decision_tree(clf, vec.get_feature_names_out()))"
   ]
  },
  {
   "cell_type": "markdown",
   "metadata": {
    "slideshow": {
     "slide_type": "fragment"
    }
   },
   "source": [
    "We can see that our initial hypothesis is that the feature `function-sqrt` must be greater than 0.5 (i.e., present) and the feature `number` must be less or equal than 13 in order to produce a bug. The decision rule is not yet perfect, thus we need to refine our decision tree!"
   ]
  },
  {
   "cell_type": "markdown",
   "metadata": {
    "slideshow": {
     "slide_type": "subslide"
    }
   },
   "source": [
    "### Learning a Decision Tree"
   ]
  },
  {
   "cell_type": "markdown",
   "metadata": {
    "slideshow": {
     "slide_type": "fragment"
    }
   },
   "source": [
    "For _Alhazen's_ second step (Train Classification Model), we write a function `train_tree(data)` that trains a decision tree on a given data frame:"
   ]
  },
  {
   "cell_type": "markdown",
   "metadata": {
    "slideshow": {
     "slide_type": "fragment"
    }
   },
   "source": [
    "```python\n",
    "\n",
    "def train_tree(data: pandas.core.frame.DataFrame) -> sklearn.tree._classes.DecisionTreeClassifier\n",
    "\n",
    "```"
   ]
  },
  {
   "cell_type": "markdown",
   "metadata": {
    "slideshow": {
     "slide_type": "subslide"
    }
   },
   "source": [
    "The function requires the following parameter:\n",
    "\n",
    "- data: a `pandas` data frame containing the parsed and extracted features and the outcome of the executed input sample (oracle).\n",
    "\n",
    "For instance, the data frame may look similar to this:"
   ]
  },
  {
   "cell_type": "markdown",
   "metadata": {
    "slideshow": {
     "slide_type": "fragment"
    }
   },
   "source": [
    "| feature_1     | feature_2     | ...    |oracle|\n",
    "| ------------- |-------------|-------------|-----|\n",
    "| 1     | 0 | ...| 'BUG' |\n",
    "| 0     | 1 | ...| 'NO_BUG' |"
   ]
  },
  {
   "cell_type": "markdown",
   "metadata": {
    "slideshow": {
     "slide_type": "subslide"
    }
   },
   "source": [
    "**Note:** Each row of `data['oracle']` is of type `OracleResult`.\n",
    "However, sci-kit learn requires an array of strings.\n",
    "We have to convert them to learn the decision tree."
   ]
  },
  {
   "cell_type": "markdown",
   "metadata": {
    "slideshow": {
     "slide_type": "subslide"
    }
   },
   "source": [
    "**OUTPUT**: the function returns a learned decision tree of type `_sklearn.tree._classes.DecisionTreeClassifier_`."
   ]
  },
  {
   "cell_type": "code",
   "execution_count": 57,
   "metadata": {
    "execution": {
     "iopub.execute_input": "2025-01-13T14:55:28.360485Z",
     "iopub.status.busy": "2025-01-13T14:55:28.360392Z",
     "iopub.status.idle": "2025-01-13T14:55:28.362803Z",
     "shell.execute_reply": "2025-01-13T14:55:28.362536Z"
    },
    "slideshow": {
     "slide_type": "subslide"
    }
   },
   "outputs": [],
   "source": [
    "def train_tree(data):\n",
    "    sample_bug_count = len(data[(data[\"oracle\"].astype(str) == \"BUG\")])\n",
    "    assert sample_bug_count > 0, \"No bug samples found\"\n",
    "    sample_count = len(data)\n",
    "\n",
    "    clf = DecisionTreeClassifier(min_samples_leaf=1,\n",
    "                                     min_samples_split=2,  # minimal value\n",
    "                                     max_features=None,\n",
    "                                     max_depth=5, # max depth of the decision tree\n",
    "                                     class_weight={str(\"BUG\"): (1.0/sample_bug_count),\n",
    "                                                   str(\"NO_BUG\"):\n",
    "                                                       (1.0/(sample_count - sample_bug_count))})\n",
    "    clf = clf.fit(data.drop('oracle', axis=1), data['oracle'].astype(str))\n",
    "    # MARTIN: This is optional, but is a nice extesion that results in nicer decision trees\n",
    "    # clf = treetools.remove_infeasible(clf, features)\n",
    "    return clf"
   ]
  },
  {
   "cell_type": "markdown",
   "metadata": {
    "slideshow": {
     "slide_type": "slide"
    }
   },
   "source": [
    "## Step 3: Extract Feature Requirements"
   ]
  },
  {
   "cell_type": "markdown",
   "metadata": {
    "slideshow": {
     "slide_type": "fragment"
    }
   },
   "source": [
    "In this section, we will extract the learned features from the decision tree.\n",
    "Again, let us first test this manually on our calculator example."
   ]
  },
  {
   "cell_type": "code",
   "execution_count": 58,
   "metadata": {
    "execution": {
     "iopub.execute_input": "2025-01-13T14:55:28.364258Z",
     "iopub.status.busy": "2025-01-13T14:55:28.364159Z",
     "iopub.status.idle": "2025-01-13T14:55:28.370540Z",
     "shell.execute_reply": "2025-01-13T14:55:28.370105Z"
    },
    "slideshow": {
     "slide_type": "subslide"
    }
   },
   "outputs": [],
   "source": [
    "# Features for each input, one dict per input\n",
    "features = [\n",
    "    {'function-sqrt': 1, 'function-cos': 0, 'function-sin': 0, 'number': -900},\n",
    "    {'function-sqrt': 0, 'function-cos': 1, 'function-sin': 0, 'number': 300},\n",
    "    {'function-sqrt': 1, 'function-cos': 0, 'function-sin': 0, 'number': -1},\n",
    "    {'function-sqrt': 0, 'function-cos': 1, 'function-sin': 0, 'number': -10},\n",
    "    {'function-sqrt': 0, 'function-cos': 0, 'function-sin': 1, 'number': 36},\n",
    "    {'function-sqrt': 0, 'function-cos': 0, 'function-sin': 1, 'number': -58},\n",
    "    {'function-sqrt': 1, 'function-cos': 0, 'function-sin': 0, 'number': 27},\n",
    "]\n",
    "\n",
    "# Labels for each input\n",
    "oracle = [\n",
    "    \"BUG\",\n",
    "    \"NO_BUG\",\n",
    "    \"BUG\",\n",
    "    \"NO_BUG\",\n",
    "    \"NO_BUG\",\n",
    "    \"NO_BUG\",\n",
    "    \"NO_BUG\"\n",
    "]\n",
    "\n",
    "# We can use the sklearn DictVectorizer to transform the features to numpy array:\n",
    "# Notice: Use the correct labeling of the feature_names\n",
    "\n",
    "# vec = DictVectorizer()\n",
    "# X_vec = vec.fit_transform(features).toarray()\n",
    "# feature_names = vec.get_feature_names_out()\n",
    "\n",
    "# We can also use a pandas DataFrame and directly parse it to the decision tree learner\n",
    "feature_names = ['function-sqrt', 'function-cos', 'function-sin', 'number']\n",
    "X_data = pandas.DataFrame.from_records(features)\n",
    "\n",
    "# Fix the random state to produce a deterministic result (for illustration purposes only)\n",
    "clf = DecisionTreeClassifier(random_state=10)\n",
    "\n",
    "# Train with DictVectorizer\n",
    "# **Note:** The sklearn `DictVectorizer` uses an internal sort function as default. This will result in different feature_name indices. If you want to use the `Dictvectorizer` please ensure that you only access the feature_names with the function `vec.get_feature_names_out()`.\n",
    "# We recommend that you use the `pandas` data frame, since this is also the format used in the feedback loop.\n",
    "# clf = clf.fit(X_vec, oracle)\n",
    "\n",
    "# Train with Pandas Dataframe\n",
    "clf = clf.fit(X_data, oracle)\n",
    "\n",
    "dot_data = sklearn.tree.export_graphviz(clf, out_file=None,\n",
    "                                feature_names=feature_names,\n",
    "                                class_names=[\"BUG\", \"NO BUG\"],\n",
    "                                filled=True, rounded=True)\n",
    "graph = graphviz.Source(dot_data)"
   ]
  },
  {
   "cell_type": "code",
   "execution_count": 59,
   "metadata": {
    "execution": {
     "iopub.execute_input": "2025-01-13T14:55:28.372536Z",
     "iopub.status.busy": "2025-01-13T14:55:28.372369Z",
     "iopub.status.idle": "2025-01-13T14:55:28.752808Z",
     "shell.execute_reply": "2025-01-13T14:55:28.752493Z"
    },
    "slideshow": {
     "slide_type": "subslide"
    }
   },
   "outputs": [
    {
     "data": {
      "image/svg+xml": [
       "<?xml version=\"1.0\" encoding=\"UTF-8\" standalone=\"no\"?>\n",
       "<!DOCTYPE svg PUBLIC \"-//W3C//DTD SVG 1.1//EN\"\n",
       " \"http://www.w3.org/Graphics/SVG/1.1/DTD/svg11.dtd\">\n",
       "<!-- Generated by graphviz version 12.2.1 (20241206.2353)\n",
       " -->\n",
       "<!-- Title: Tree Pages: 1 -->\n",
       "<svg width=\"320pt\" height=\"314pt\"\n",
       " viewBox=\"0.00 0.00 320.25 314.00\" xmlns=\"http://www.w3.org/2000/svg\" xmlns:xlink=\"http://www.w3.org/1999/xlink\">\n",
       "<g id=\"graph0\" class=\"graph\" transform=\"scale(1 1) rotate(0) translate(4 310)\">\n",
       "<title>Tree</title>\n",
       "<polygon fill=\"white\" stroke=\"none\" points=\"-4,4 -4,-310 316.25,-310 316.25,4 -4,4\"/>\n",
       "<!-- 0 -->\n",
       "<g id=\"node1\" class=\"node\">\n",
       "<title>0</title>\n",
       "<path fill=\"#88c4ef\" stroke=\"black\" d=\"M179.12,-306C179.12,-306 70.12,-306 70.12,-306 64.12,-306 58.12,-300 58.12,-294 58.12,-294 58.12,-235 58.12,-235 58.12,-229 64.12,-223 70.12,-223 70.12,-223 179.12,-223 179.12,-223 185.12,-223 191.12,-229 191.12,-235 191.12,-235 191.12,-294 191.12,-294 191.12,-300 185.12,-306 179.12,-306\"/>\n",
       "<text text-anchor=\"middle\" x=\"124.62\" y=\"-288.7\" font-family=\"Helvetica,sans-Serif\" font-size=\"14.00\">function&#45;sqrt &lt;= 0.5</text>\n",
       "<text text-anchor=\"middle\" x=\"124.62\" y=\"-273.7\" font-family=\"Helvetica,sans-Serif\" font-size=\"14.00\">gini = 0.408</text>\n",
       "<text text-anchor=\"middle\" x=\"124.62\" y=\"-258.7\" font-family=\"Helvetica,sans-Serif\" font-size=\"14.00\">samples = 7</text>\n",
       "<text text-anchor=\"middle\" x=\"124.62\" y=\"-243.7\" font-family=\"Helvetica,sans-Serif\" font-size=\"14.00\">value = [2, 5]</text>\n",
       "<text text-anchor=\"middle\" x=\"124.62\" y=\"-228.7\" font-family=\"Helvetica,sans-Serif\" font-size=\"14.00\">class = NO BUG</text>\n",
       "</g>\n",
       "<!-- 1 -->\n",
       "<g id=\"node2\" class=\"node\">\n",
       "<title>1</title>\n",
       "<path fill=\"#399de5\" stroke=\"black\" d=\"M105.25,-179.5C105.25,-179.5 12,-179.5 12,-179.5 6,-179.5 0,-173.5 0,-167.5 0,-167.5 0,-123.5 0,-123.5 0,-117.5 6,-111.5 12,-111.5 12,-111.5 105.25,-111.5 105.25,-111.5 111.25,-111.5 117.25,-117.5 117.25,-123.5 117.25,-123.5 117.25,-167.5 117.25,-167.5 117.25,-173.5 111.25,-179.5 105.25,-179.5\"/>\n",
       "<text text-anchor=\"middle\" x=\"58.62\" y=\"-162.2\" font-family=\"Helvetica,sans-Serif\" font-size=\"14.00\">gini = 0.0</text>\n",
       "<text text-anchor=\"middle\" x=\"58.62\" y=\"-147.2\" font-family=\"Helvetica,sans-Serif\" font-size=\"14.00\">samples = 4</text>\n",
       "<text text-anchor=\"middle\" x=\"58.62\" y=\"-132.2\" font-family=\"Helvetica,sans-Serif\" font-size=\"14.00\">value = [0, 4]</text>\n",
       "<text text-anchor=\"middle\" x=\"58.62\" y=\"-117.2\" font-family=\"Helvetica,sans-Serif\" font-size=\"14.00\">class = NO BUG</text>\n",
       "</g>\n",
       "<!-- 0&#45;&gt;1 -->\n",
       "<g id=\"edge1\" class=\"edge\">\n",
       "<title>0&#45;&gt;1</title>\n",
       "<path fill=\"none\" stroke=\"black\" d=\"M101.54,-222.58C95.57,-211.99 89.12,-200.56 83.08,-189.85\"/>\n",
       "<polygon fill=\"black\" stroke=\"black\" points=\"86.15,-188.17 78.19,-181.18 80.05,-191.61 86.15,-188.17\"/>\n",
       "<text text-anchor=\"middle\" x=\"70.73\" y=\"-198.14\" font-family=\"Helvetica,sans-Serif\" font-size=\"14.00\">True</text>\n",
       "</g>\n",
       "<!-- 2 -->\n",
       "<g id=\"node3\" class=\"node\">\n",
       "<title>2</title>\n",
       "<path fill=\"#f2c09c\" stroke=\"black\" d=\"M236,-187C236,-187 147.25,-187 147.25,-187 141.25,-187 135.25,-181 135.25,-175 135.25,-175 135.25,-116 135.25,-116 135.25,-110 141.25,-104 147.25,-104 147.25,-104 236,-104 236,-104 242,-104 248,-110 248,-116 248,-116 248,-175 248,-175 248,-181 242,-187 236,-187\"/>\n",
       "<text text-anchor=\"middle\" x=\"191.62\" y=\"-169.7\" font-family=\"Helvetica,sans-Serif\" font-size=\"14.00\">number &lt;= 13.0</text>\n",
       "<text text-anchor=\"middle\" x=\"191.62\" y=\"-154.7\" font-family=\"Helvetica,sans-Serif\" font-size=\"14.00\">gini = 0.444</text>\n",
       "<text text-anchor=\"middle\" x=\"191.62\" y=\"-139.7\" font-family=\"Helvetica,sans-Serif\" font-size=\"14.00\">samples = 3</text>\n",
       "<text text-anchor=\"middle\" x=\"191.62\" y=\"-124.7\" font-family=\"Helvetica,sans-Serif\" font-size=\"14.00\">value = [2, 1]</text>\n",
       "<text text-anchor=\"middle\" x=\"191.62\" y=\"-109.7\" font-family=\"Helvetica,sans-Serif\" font-size=\"14.00\">class = BUG</text>\n",
       "</g>\n",
       "<!-- 0&#45;&gt;2 -->\n",
       "<g id=\"edge2\" class=\"edge\">\n",
       "<title>0&#45;&gt;2</title>\n",
       "<path fill=\"none\" stroke=\"black\" d=\"M148.06,-222.58C152.78,-214.34 157.79,-205.58 162.67,-197.06\"/>\n",
       "<polygon fill=\"black\" stroke=\"black\" points=\"165.63,-198.93 167.57,-188.51 159.56,-195.45 165.63,-198.93\"/>\n",
       "<text text-anchor=\"middle\" x=\"174.87\" y=\"-205.53\" font-family=\"Helvetica,sans-Serif\" font-size=\"14.00\">False</text>\n",
       "</g>\n",
       "<!-- 3 -->\n",
       "<g id=\"node4\" class=\"node\">\n",
       "<title>3</title>\n",
       "<path fill=\"#e58139\" stroke=\"black\" d=\"M164.62,-68C164.62,-68 94.62,-68 94.62,-68 88.62,-68 82.62,-62 82.62,-56 82.62,-56 82.62,-12 82.62,-12 82.62,-6 88.62,0 94.62,0 94.62,0 164.62,0 164.62,0 170.62,0 176.62,-6 176.62,-12 176.62,-12 176.62,-56 176.62,-56 176.62,-62 170.62,-68 164.62,-68\"/>\n",
       "<text text-anchor=\"middle\" x=\"129.62\" y=\"-50.7\" font-family=\"Helvetica,sans-Serif\" font-size=\"14.00\">gini = 0.0</text>\n",
       "<text text-anchor=\"middle\" x=\"129.62\" y=\"-35.7\" font-family=\"Helvetica,sans-Serif\" font-size=\"14.00\">samples = 2</text>\n",
       "<text text-anchor=\"middle\" x=\"129.62\" y=\"-20.7\" font-family=\"Helvetica,sans-Serif\" font-size=\"14.00\">value = [2, 0]</text>\n",
       "<text text-anchor=\"middle\" x=\"129.62\" y=\"-5.7\" font-family=\"Helvetica,sans-Serif\" font-size=\"14.00\">class = BUG</text>\n",
       "</g>\n",
       "<!-- 2&#45;&gt;3 -->\n",
       "<g id=\"edge3\" class=\"edge\">\n",
       "<title>2&#45;&gt;3</title>\n",
       "<path fill=\"none\" stroke=\"black\" d=\"M168.54,-103.73C163.84,-95.43 158.88,-86.67 154.13,-78.28\"/>\n",
       "<polygon fill=\"black\" stroke=\"black\" points=\"157.2,-76.59 149.23,-69.62 151.11,-80.04 157.2,-76.59\"/>\n",
       "</g>\n",
       "<!-- 4 -->\n",
       "<g id=\"node5\" class=\"node\">\n",
       "<title>4</title>\n",
       "<path fill=\"#399de5\" stroke=\"black\" d=\"M300.25,-68C300.25,-68 207,-68 207,-68 201,-68 195,-62 195,-56 195,-56 195,-12 195,-12 195,-6 201,0 207,0 207,0 300.25,0 300.25,0 306.25,0 312.25,-6 312.25,-12 312.25,-12 312.25,-56 312.25,-56 312.25,-62 306.25,-68 300.25,-68\"/>\n",
       "<text text-anchor=\"middle\" x=\"253.62\" y=\"-50.7\" font-family=\"Helvetica,sans-Serif\" font-size=\"14.00\">gini = 0.0</text>\n",
       "<text text-anchor=\"middle\" x=\"253.62\" y=\"-35.7\" font-family=\"Helvetica,sans-Serif\" font-size=\"14.00\">samples = 1</text>\n",
       "<text text-anchor=\"middle\" x=\"253.62\" y=\"-20.7\" font-family=\"Helvetica,sans-Serif\" font-size=\"14.00\">value = [0, 1]</text>\n",
       "<text text-anchor=\"middle\" x=\"253.62\" y=\"-5.7\" font-family=\"Helvetica,sans-Serif\" font-size=\"14.00\">class = NO BUG</text>\n",
       "</g>\n",
       "<!-- 2&#45;&gt;4 -->\n",
       "<g id=\"edge4\" class=\"edge\">\n",
       "<title>2&#45;&gt;4</title>\n",
       "<path fill=\"none\" stroke=\"black\" d=\"M214.71,-103.73C219.41,-95.43 224.37,-86.67 229.12,-78.28\"/>\n",
       "<polygon fill=\"black\" stroke=\"black\" points=\"232.14,-80.04 234.02,-69.62 226.05,-76.59 232.14,-80.04\"/>\n",
       "</g>\n",
       "</g>\n",
       "</svg>\n"
      ],
      "text/plain": [
       "<graphviz.sources.Source at 0x116d0ce30>"
      ]
     },
     "execution_count": 59,
     "metadata": {},
     "output_type": "execute_result"
    }
   ],
   "source": [
    "graph"
   ]
  },
  {
   "cell_type": "code",
   "execution_count": 60,
   "metadata": {
    "execution": {
     "iopub.execute_input": "2025-01-13T14:55:28.754190Z",
     "iopub.status.busy": "2025-01-13T14:55:28.754070Z",
     "iopub.status.idle": "2025-01-13T14:55:28.756176Z",
     "shell.execute_reply": "2025-01-13T14:55:28.755937Z"
    },
    "slideshow": {
     "slide_type": "fragment"
    }
   },
   "outputs": [
    {
     "name": "stdout",
     "output_type": "stream",
     "text": [
      "if function-sqrt:\n",
      "  if number <= 13.0000:\n",
      "    BUG\n",
      "  else:\n",
      "    NO_BUG\n",
      "else:\n",
      "  NO_BUG\n",
      "\n"
     ]
    }
   ],
   "source": [
    "print(friendly_decision_tree(clf, feature_names, class_names = ['NO_BUG', 'BUG']))"
   ]
  },
  {
   "cell_type": "markdown",
   "metadata": {
    "slideshow": {
     "slide_type": "subslide"
    }
   },
   "source": [
    "### Excursion: Tree helper functions"
   ]
  },
  {
   "cell_type": "markdown",
   "metadata": {
    "slideshow": {
     "slide_type": "fragment"
    }
   },
   "source": [
    "We bundle several functions that are helpful when working with decision trees."
   ]
  },
  {
   "cell_type": "code",
   "execution_count": 61,
   "metadata": {
    "execution": {
     "iopub.execute_input": "2025-01-13T14:55:28.757521Z",
     "iopub.status.busy": "2025-01-13T14:55:28.757427Z",
     "iopub.status.idle": "2025-01-13T14:55:28.768946Z",
     "shell.execute_reply": "2025-01-13T14:55:28.768726Z"
    },
    "slideshow": {
     "slide_type": "subslide"
    }
   },
   "outputs": [],
   "source": [
    "def all_path(clf, node=0):\n",
    "    \"\"\"Iterate over all path in a decision tree. Path will be represented as\n",
    "    a list of integers, each integer is the index of a node in the clf.tree_ structure.\"\"\"\n",
    "    left = clf.tree_.children_left[node]\n",
    "    right = clf.tree_.children_right[node]\n",
    "\n",
    "    if left == right:\n",
    "        yield [node]\n",
    "    else:\n",
    "        for path in all_path(clf, left):\n",
    "            yield [node] + path\n",
    "        for path in all_path(clf, right):\n",
    "            yield [node] + path\n",
    "\n",
    "\n",
    "def path_samples(clf, path):\n",
    "    \"\"\"Returns the number of samples for this path. \"\"\"\n",
    "    return clf.tree_.n_node_samples[path[-1]]\n",
    "\n",
    "\n",
    "def generic_feature_names(clf):\n",
    "    \"\"\"Gives a list of feature names of the form f1, f2, ...\"\"\"\n",
    "    return [\"f{}\".format(f) for f in range(0, clf.tree_.n_features)]\n",
    "\n",
    "\n",
    "def box(clf, path, data=None, feature_names=None):\n",
    "    \"\"\"For a decision tree classifier clf and a path path (as returned, e.g. by all_path),\n",
    "    this method gives a pandas DataFrame with the min and max of each feature value on the given path.\"\"\"\n",
    "\n",
    "    if feature_names is None:\n",
    "        feature_names = generic_feature_names(clf)\n",
    "    check_for_duplicates(feature_names)\n",
    "    if data is None:\n",
    "        bounds = pandas.DataFrame([{'feature': c, 'min': -numpy.inf, 'max': numpy.inf} for c in feature_names],\n",
    "                                  columns=['feature', 'min', 'max']).set_index(['feature']).transpose()\n",
    "    else:\n",
    "        bounds = pandas.DataFrame([{'feature': c, 'min': data[c].min(), 'max': data[c].max()} for c in feature_names],\n",
    "                                  columns=['feature', 'min', 'max']).set_index(['feature']).transpose()\n",
    "\n",
    "    for pos in range(0, len(path) - 1):\n",
    "        node = path[pos]\n",
    "        child = path[pos + 1]\n",
    "        feature = feature_names[clf.tree_.feature[node]]\n",
    "        threshold = clf.tree_.threshold[node]\n",
    "\n",
    "        if child == clf.tree_.children_left[node]:\n",
    "            bounds.at['max', feature] = threshold\n",
    "        else:\n",
    "            bounds.at['min', feature] = threshold\n",
    "    return bounds\n",
    "\n",
    "\n",
    "def rectangles(clf, colormap, data, feature_names=None):\n",
    "    \"\"\"yields matplotlib.patches rectangle objects. Each object represents a leaf of the tree.\"\"\"\n",
    "    if feature_names is None:\n",
    "        feature_names = ['in_x', 'in_y']\n",
    "    if 2 != len(feature_names):\n",
    "        raise AssertionError(\"Rectangles can only be generated if there are at most 2 features.\")\n",
    "\n",
    "    x_feature = feature_names[0]\n",
    "    y_feature = feature_names[1]\n",
    "\n",
    "    for path in all_path(clf):\n",
    "        b = box(clf, path, data=data, feature_names=feature_names)\n",
    "        p = prediction_for_path(clf, path)\n",
    "        c = colormap[p]\n",
    "        rect = matplotlib.patches.Rectangle((b[x_feature]['min'], \n",
    "                                             b[y_feature]['min']),\n",
    "                             # coordinates\n",
    "                             b[x_feature]['max'] - b[x_feature]['min'],  # width\n",
    "                             b[y_feature]['max'] - b[y_feature]['min'],  # height\n",
    "                             alpha=.2, facecolor=c, edgecolor='k')\n",
    "        yield rect\n",
    "\n",
    "\n",
    "def prediction_for_path(clf, path) -> OracleResult:\n",
    "    last_value = clf.tree_.value[path[-1]][0]\n",
    "    p_class = numpy.argmax(last_value)\n",
    "    return OracleResult(clf.classes_[p_class])\n",
    "\n",
    "\n",
    "def rule(clf, path, feature_names, class_names=None):\n",
    "    \"\"\"Creates a rule from one path in the decision tree.\"\"\"\n",
    "    bounds = box(clf, path, feature_names=feature_names)\n",
    "    prediction = prediction_for_path(clf, path)\n",
    "    if class_names is not None:\n",
    "        prediction = class_names[prediction]\n",
    "\n",
    "    feature_rules = []\n",
    "    for fname in feature_names:\n",
    "        min_ = bounds[fname]['min']\n",
    "        max_ = bounds[fname]['max']\n",
    "\n",
    "        if numpy.isinf(min_) and numpy.isinf(max_):\n",
    "            pass  # no rule if both are unbound\n",
    "        elif numpy.isinf(min_):\n",
    "            feature_rules.append(\"{} <= {:.4f}\".format(fname, max_))\n",
    "        elif numpy.isinf(max_):\n",
    "            feature_rules.append(\"{} > {:.4f}\".format(fname, min_))\n",
    "        else:\n",
    "            feature_rules.append(\"{} in {:.4f} to {:.4f}\".format(fname, min_, max_))\n",
    "\n",
    "    return \" AND \".join(feature_rules), prediction, clf.tree_.impurity[path[-1]], clf.tree_.n_node_samples[path[-1]]\n",
    "\n",
    "\n",
    "def rules(clf, class_names=None, feature_names=None):\n",
    "    \"\"\"Formats Decision trees in a rule-like representation.\"\"\"\n",
    "\n",
    "    if feature_names is None:\n",
    "        feature_names = generic_feature_names(clf)\n",
    "\n",
    "    samples = clf.tree_.n_node_samples[0]\n",
    "    return \"\\n\".join([\"IF {2} THEN PREDICT '{3}' ({0}: {4:.4f}, support: {5} / {1})\"\n",
    "                     .format(clf.criterion, samples,\n",
    "                             *rule(clf, path, feature_names, class_names=class_names)) for path in all_path(clf)])\n",
    "\n",
    "\n",
    "def grouped_rules(clf, class_names=None, feature_names=None):\n",
    "    \"\"\"Formats decision trees in a rule-like representation, grouped by class.\"\"\"\n",
    "\n",
    "    if feature_names is None:\n",
    "        feature_names = generic_feature_names(clf)\n",
    "\n",
    "    rules = {}\n",
    "    for path in all_path(clf):\n",
    "        rulestr, clz, impurity, support = rule(clf, path, class_names=class_names, feature_names=feature_names)\n",
    "        if clz not in rules:\n",
    "            rules[clz] = []\n",
    "        rules[clz].append((rulestr, impurity, support))\n",
    "\n",
    "    res = \"\"\n",
    "    samples = clf.tree_.n_node_samples[0]\n",
    "    for clz in rules:\n",
    "        rulelist = rules[clz]\n",
    "        res = res + \"\\n{}:\\n\\t\".format(clz)\n",
    "        rl = [\"{} ({}: {:.4f}, support: {}/{})\".format(r, clf.criterion, impurity, support, samples) for r, impurity, support in rulelist]\n",
    "        res = res + \"\\n\\tor \".join(rl)\n",
    "    return res.lstrip()\n",
    "\n",
    "\n",
    "def check_for_duplicates(names):\n",
    "    seen = set()\n",
    "    for name in names:\n",
    "        if name in seen:\n",
    "            raise AssertionError(\"Duplicate name: {}\".format(name))\n",
    "        seen.add(name)\n",
    "\n",
    "\n",
    "def is_leaf(clf, node: int) -> bool:\n",
    "    \"\"\"returns true if the given node is a leaf.\"\"\"\n",
    "    return clf.tree_.children_left[node] == clf.tree_.children_right[node]\n",
    "\n",
    "\n",
    "def leaf_label(clf, node: int) -> int:\n",
    "    \"\"\"returns the index of the class at this node. The node must be a leaf.\"\"\"\n",
    "    assert(is_leaf(clf, node))\n",
    "    occs = clf.tree_.value[node][0]\n",
    "    idx = 0\n",
    "    maxi = occs[idx]\n",
    "    for i, o in zip(range(0, len(occs)), occs):\n",
    "        if maxi < o:\n",
    "            maxi = o\n",
    "            idx = i\n",
    "    return idx\n",
    "\n",
    "\n",
    "def find_existence_index(features: List[Feature], feature: Feature):\n",
    "    for idx, f in enumerate(features):\n",
    "        if isinstance(f, ExistenceFeature) and f.key() == feature.key():\n",
    "            return idx\n",
    "    raise AssertionError(\"There is no existence feature with this key!\")\n",
    "\n",
    "\n",
    "def remove_infeasible(clf, features: List[Feature]):\n",
    "    for node in range(0, clf.tree_.node_count):\n",
    "        if not is_leaf(clf, node):\n",
    "            feature = features[clf.tree_.feature[node]]\n",
    "            threshold = clf.tree_.threshold[node]\n",
    "            if not feature.is_feasible(threshold):\n",
    "                clf.tree_.feature[node] = find_existence_index(features, feature)\n",
    "                clf.tree_.threshold[node] = 0.5\n",
    "    return clf\n",
    "\n",
    "\n",
    "def iterate_nodes(clf):\n",
    "    stack = [0]\n",
    "    while 0 != len(stack):\n",
    "        node = stack.pop()\n",
    "        yield node\n",
    "        if not is_leaf(clf, node):\n",
    "            stack.append(clf.tree_.children_left[node])\n",
    "            stack.append(clf.tree_.children_right[node])\n",
    "\n",
    "\n",
    "def count_nodes(clf):\n",
    "    return len(list(iterate_nodes(clf)))\n",
    "\n",
    "\n",
    "def count_leaves(clf):\n",
    "    return len([n for n in iterate_nodes(clf) if is_leaf(clf, n)])\n",
    "\n",
    "\n",
    "def list_features(clf):\n",
    "    return [clf.tree_.feature[node] for node in iterate_nodes(clf)]\n",
    "\n",
    "\n",
    "def remove_unequal_decisions(clf):\n",
    "    \"\"\"\n",
    "    This method rewrites a decision tree classifier to remove nodes where the same\n",
    "    decision is taken on both sides.\n",
    "\n",
    "    :param clf: a decision tree classifier\n",
    "    :return: the same classifier, rewritten\n",
    "    \"\"\"\n",
    "    changed = True\n",
    "    while changed:\n",
    "        changed = False\n",
    "        for node in range(0, clf.tree_.node_count):\n",
    "            if not is_leaf(clf, node) and (is_leaf(clf, clf.tree_.children_left[node]) and is_leaf(clf, clf.tree_.children_right[node])):\n",
    "                # both children of this node are leaves\n",
    "                left_label = leaf_label(clf, clf.tree_.children_left[node])\n",
    "                right_label = leaf_label(clf, clf.tree_.children_right[node])\n",
    "                if left_label == right_label:\n",
    "                    clf.tree_.children_left[node] = -1\n",
    "                    clf.tree_.children_right[node] = -1\n",
    "                    clf.tree_.feature[node] = -2\n",
    "                    changed = True\n",
    "                    assert(left_label == leaf_label(clf, node))\n",
    "    return clf\n"
   ]
  },
  {
   "cell_type": "markdown",
   "metadata": {
    "slideshow": {
     "slide_type": "subslide"
    }
   },
   "source": [
    "### End of Excursion"
   ]
  },
  {
   "cell_type": "markdown",
   "metadata": {
    "slideshow": {
     "slide_type": "subslide"
    }
   },
   "source": [
    "### Excursion: Converting Trees to Paths"
   ]
  },
  {
   "cell_type": "markdown",
   "metadata": {
    "slideshow": {
     "slide_type": "fragment"
    }
   },
   "source": [
    "We bundle a number of helper functions that extract paths from trees."
   ]
  },
  {
   "cell_type": "code",
   "execution_count": 62,
   "metadata": {
    "execution": {
     "iopub.execute_input": "2025-01-13T14:55:28.770341Z",
     "iopub.status.busy": "2025-01-13T14:55:28.770260Z",
     "iopub.status.idle": "2025-01-13T14:55:28.775940Z",
     "shell.execute_reply": "2025-01-13T14:55:28.775689Z"
    },
    "slideshow": {
     "slide_type": "subslide"
    }
   },
   "outputs": [],
   "source": [
    "class TreeRequirement:\n",
    "    def __init__(self, feature: Feature, mini, maxi):\n",
    "        self.__feature: Feature = feature\n",
    "        self.__mini = mini\n",
    "        self.__maxi = maxi\n",
    "\n",
    "    def feature(self) -> Feature:\n",
    "        return self.__feature\n",
    "\n",
    "    def select(self, data):\n",
    "        \"\"\"Returns a vector of booleans, suitable for selecting in a pandas data frame.\"\"\"\n",
    "        if self.__mini is None:\n",
    "            return data[self.__feature.name()] <= self.__maxi\n",
    "        if self.__maxi is None:\n",
    "            return self.__mini <= data[self.__feature.name()]\n",
    "        return (self.__mini <= data[self.__feature.name()]) & (data[self.__feature.name()] <= self.__maxi)\n",
    "\n",
    "    def mini(self):\n",
    "        return self.__mini\n",
    "\n",
    "    def maxi(self):\n",
    "        return self.__maxi\n",
    "\n",
    "    def get_key(self) -> str:\n",
    "        return self.__feature.key()\n",
    "\n",
    "    def is_binary(self) -> bool:\n",
    "        return self.__feature.is_binary()\n",
    "\n",
    "    def get_str(self, bounds) -> str:\n",
    "        if self.is_binary():\n",
    "            if self.__mini < 0 <= self.__maxi:\n",
    "                # feature is NOT included\n",
    "                return f\"!{self.__feature.name()}\"\n",
    "            if self.__mini < 1 <= self.__maxi:\n",
    "                # feature is included\n",
    "                return self.__feature.name()\n",
    "            raise AssertionError(\"How is this possible?\")\n",
    "        else:\n",
    "            if (not numpy.isinf(self.__mini)) and (not numpy.isinf(self.__maxi)):\n",
    "                return f\"{self.__feature.name()} in [{self.__mini}, {self.__maxi}]\"\n",
    "            elif not numpy.isinf(self.__maxi):\n",
    "                return f\"{self.__feature.name()} <= {self.__maxi}\"\n",
    "            else:\n",
    "                return f\"{self.__feature.name()} > {self.__mini}\"\n",
    "\n",
    "    def get_str_ext(self) -> str:\n",
    "        if (not numpy.isinf(self.__mini)) and (not numpy.isinf(self.__maxi)):\n",
    "            return f\"{self.__feature} in [{self.__mini}, {self.__maxi}]\"\n",
    "        elif not numpy.isinf(self.__maxi):\n",
    "            return f\"{self.__feature} <= {self.__maxi}\"\n",
    "        else:\n",
    "            return f\"{self.__feature} > {self.__mini}\"\n",
    "\n",
    "    def get_neg(self, bounds) -> List[str]:\n",
    "        if self.is_binary():\n",
    "            if self.__mini < 0 <= self.__maxi:\n",
    "                # feature is NOT included, so, the negated condition is to include it\n",
    "                return [self.__feature.name()]\n",
    "            if self.__mini < 1 <= self.__maxi:\n",
    "                # feature is included, so exclude it\n",
    "                return [f\"!{self.__feature.name()}\"]\n",
    "            raise AssertionError(\"How is this possible?\")\n",
    "        else:\n",
    "            if (not numpy.isinf(self.__mini)) and (not numpy.isinf(self.__maxi)):\n",
    "                return [f\"{self.__feature.name()} in [{bounds.at['min', self.__feature.name()]},{self.__mini}]\",\n",
    "                        f\"{self.__feature.name()} in [{self.__maxi}, {bounds.at['max', self.__feature.name()]}]\"]\n",
    "            elif not numpy.isinf(self.__maxi):\n",
    "                return [f\"{self.__feature.name()} <= {self.__maxi}\"]\n",
    "            else:\n",
    "                return [f\"{self.__feature.name()} > {self.__mini}\"]\n",
    "\n",
    "    def get_neg_ext(self, bounds) -> List[str]:\n",
    "        if (not numpy.isinf(self.__mini)) and (not numpy.isinf(self.__maxi)):\n",
    "            return [f\"{self.__feature} in [{bounds.at['min', self.__feature]},{self.__mini}]\",\n",
    "                    f\"{self.__feature} in [{self.__maxi}, {bounds.at['max', self.__feature]}]\"]\n",
    "        elif not numpy.isinf(self.__maxi):\n",
    "            return [f\"{self.__feature} > {self.__maxi}\"]\n",
    "        else:\n",
    "            return [f\"{self.__feature} <= {self.__mini}\"]"
   ]
  },
  {
   "cell_type": "code",
   "execution_count": 63,
   "metadata": {
    "execution": {
     "iopub.execute_input": "2025-01-13T14:55:28.777049Z",
     "iopub.status.busy": "2025-01-13T14:55:28.776951Z",
     "iopub.status.idle": "2025-01-13T14:55:28.778479Z",
     "shell.execute_reply": "2025-01-13T14:55:28.778261Z"
    },
    "slideshow": {
     "slide_type": "skip"
    }
   },
   "outputs": [],
   "source": [
    "from pathlib import Path"
   ]
  },
  {
   "cell_type": "code",
   "execution_count": 64,
   "metadata": {
    "execution": {
     "iopub.execute_input": "2025-01-13T14:55:28.779668Z",
     "iopub.status.busy": "2025-01-13T14:55:28.779586Z",
     "iopub.status.idle": "2025-01-13T14:55:28.782762Z",
     "shell.execute_reply": "2025-01-13T14:55:28.782561Z"
    },
    "slideshow": {
     "slide_type": "subslide"
    }
   },
   "outputs": [],
   "source": [
    "class TreePath:\n",
    "    def __init__(self, samplefile: Optional[Path], is_bug: bool, requirements: List[TreeRequirement]):\n",
    "        self.__sample = samplefile\n",
    "        self.__is_bug = is_bug\n",
    "        self.__requirements: List[TreeRequirement] = requirements\n",
    "\n",
    "    def is_bug(self) -> bool:\n",
    "        return self.__is_bug\n",
    "\n",
    "    def get(self, idx):\n",
    "        return self.__requirements[idx]\n",
    "\n",
    "    def find_sample(self, data):\n",
    "        for req in self.__requirements:\n",
    "            data = data[req.select(data)]\n",
    "        if 0 != len(data):\n",
    "            return data[\"abs_file\"][0]\n",
    "        return None\n",
    "\n",
    "    def __len__(self) -> int:\n",
    "        return len(self.__requirements)\n",
    "\n",
    "\n",
    "def lower_middle(start, end):\n",
    "    if start == end:\n",
    "        return start - abs(start)\n",
    "    return start + ((end - start)/2)\n",
    "\n",
    "\n",
    "def upper_middle(start, end):\n",
    "    if start == end:\n",
    "        return end + abs(end)\n",
    "    return start + ((end - start)/2)\n",
    "\n",
    "\n",
    "def min_digits(mini):\n",
    "    return int(\"1\" + \"\".join([0] * int(mini-1)))\n",
    "\n",
    "\n",
    "def max_digits(maxi):\n",
    "    return int(\"\".join([9] * int(maxi)))"
   ]
  },
  {
   "cell_type": "code",
   "execution_count": 65,
   "metadata": {
    "execution": {
     "iopub.execute_input": "2025-01-13T14:55:28.784058Z",
     "iopub.status.busy": "2025-01-13T14:55:28.783974Z",
     "iopub.status.idle": "2025-01-13T14:55:28.786631Z",
     "shell.execute_reply": "2025-01-13T14:55:28.786294Z"
    },
    "slideshow": {
     "slide_type": "subslide"
    }
   },
   "outputs": [],
   "source": [
    "def tree_to_paths(tree, features: List[Feature]):\n",
    "    paths = []\n",
    "    # go through tree leaf by leaf\n",
    "    for path in all_path(tree):\n",
    "        requirements = []\n",
    "        is_bug = OracleResult.BUG == prediction_for_path(tree, path)\n",
    "        # find the requirements\n",
    "        box_ = box(tree, path, feature_names=features).transpose()\n",
    "        for feature, row in box_.iterrows():\n",
    "            mini = row['min']\n",
    "            maxi = row['max']\n",
    "            if (not numpy.isinf(mini)) or (not numpy.isinf(maxi)):\n",
    "                requirements.append(TreeRequirement(feature, mini, maxi))\n",
    "        paths.append(TreePath(None, is_bug, requirements))\n",
    "\n",
    "    return paths"
   ]
  },
  {
   "cell_type": "code",
   "execution_count": 66,
   "metadata": {
    "execution": {
     "iopub.execute_input": "2025-01-13T14:55:28.788317Z",
     "iopub.status.busy": "2025-01-13T14:55:28.788193Z",
     "iopub.status.idle": "2025-01-13T14:55:28.792888Z",
     "shell.execute_reply": "2025-01-13T14:55:28.792631Z"
    },
    "slideshow": {
     "slide_type": "subslide"
    }
   },
   "outputs": [],
   "source": [
    "# We provide a functionallity to extract the paths from a decision tree.\n",
    "all_paths = tree_to_paths(clf, feature_names)"
   ]
  },
  {
   "cell_type": "markdown",
   "metadata": {
    "slideshow": {
     "slide_type": "fragment"
    }
   },
   "source": [
    "Here is an example:"
   ]
  },
  {
   "cell_type": "code",
   "execution_count": 67,
   "metadata": {
    "execution": {
     "iopub.execute_input": "2025-01-13T14:55:28.794180Z",
     "iopub.status.busy": "2025-01-13T14:55:28.794094Z",
     "iopub.status.idle": "2025-01-13T14:55:28.796204Z",
     "shell.execute_reply": "2025-01-13T14:55:28.795955Z"
    },
    "slideshow": {
     "slide_type": "fragment"
    }
   },
   "outputs": [
    {
     "name": "stdout",
     "output_type": "stream",
     "text": [
      "Path 0: function-sqrt <= 0.5, is_bug: False\n",
      "Path 1: function-sqrt > 0.5 number <= 13.0, is_bug: True\n",
      "Path 2: function-sqrt > 0.5 number > 13.0, is_bug: False\n"
     ]
    }
   ],
   "source": [
    "for count, path in enumerate(all_paths):\n",
    "    string_path = path.get(0).get_str_ext()\n",
    "    for box_ in range(1, len(path)):\n",
    "        string_path += \" \" + path.get(box_).get_str_ext()\n",
    "    print(f\"Path {count}: {string_path}, is_bug: {path.is_bug()}\")"
   ]
  },
  {
   "cell_type": "markdown",
   "metadata": {
    "slideshow": {
     "slide_type": "subslide"
    }
   },
   "source": [
    "### End of Excursion"
   ]
  },
  {
   "cell_type": "markdown",
   "metadata": {
    "slideshow": {
     "slide_type": "slide"
    }
   },
   "source": [
    "## Step 4: Generating New Samples"
   ]
  },
  {
   "cell_type": "markdown",
   "metadata": {
    "slideshow": {
     "slide_type": "fragment"
    }
   },
   "source": [
    "The next step is to generate new samples.\n",
    "For this purpose, we _negate_ the requirements on a path to refine and refute the decision tree."
   ]
  },
  {
   "cell_type": "markdown",
   "metadata": {
    "slideshow": {
     "slide_type": "subslide"
    }
   },
   "source": [
    "### Negating Requirements"
   ]
  },
  {
   "cell_type": "markdown",
   "metadata": {
    "slideshow": {
     "slide_type": "fragment"
    }
   },
   "source": [
    "First we will determine some boundaries to obtain better path negations."
   ]
  },
  {
   "cell_type": "code",
   "execution_count": 68,
   "metadata": {
    "execution": {
     "iopub.execute_input": "2025-01-13T14:55:28.797543Z",
     "iopub.status.busy": "2025-01-13T14:55:28.797463Z",
     "iopub.status.idle": "2025-01-13T14:55:28.800180Z",
     "shell.execute_reply": "2025-01-13T14:55:28.799965Z"
    },
    "slideshow": {
     "slide_type": "fragment"
    }
   },
   "outputs": [],
   "source": [
    "x = pandas.DataFrame.from_records(features)\n",
    "bounds = pandas.DataFrame([{'feature': c, 'min': x[c].min(), 'max': x[c].max()}\n",
    "                           for c in feature_names],\n",
    "                          columns=['feature', 'min', 'max']).set_index(['feature']).transpose()"
   ]
  },
  {
   "cell_type": "markdown",
   "metadata": {
    "slideshow": {
     "slide_type": "fragment"
    }
   },
   "source": [
    "We can use the function `path.get(i).get_neg_ext(bounds)` to obtain a negation for a single requirement on a path (indexed with `i`)."
   ]
  },
  {
   "cell_type": "markdown",
   "metadata": {
    "slideshow": {
     "slide_type": "fragment"
    }
   },
   "source": [
    "Let's verify if we can negate a whole path."
   ]
  },
  {
   "cell_type": "code",
   "execution_count": 69,
   "metadata": {
    "execution": {
     "iopub.execute_input": "2025-01-13T14:55:28.801471Z",
     "iopub.status.busy": "2025-01-13T14:55:28.801389Z",
     "iopub.status.idle": "2025-01-13T14:55:28.803396Z",
     "shell.execute_reply": "2025-01-13T14:55:28.803178Z"
    },
    "slideshow": {
     "slide_type": "subslide"
    }
   },
   "outputs": [
    {
     "name": "stdout",
     "output_type": "stream",
     "text": [
      "Path 0: function-sqrt > 0.5, is_bug: False\n",
      "Path 1: function-sqrt <= 0.5 number > 13.0, is_bug: True\n",
      "Path 2: function-sqrt <= 0.5 number <= 13.0, is_bug: False\n"
     ]
    }
   ],
   "source": [
    "for count, path in enumerate(all_paths):\n",
    "    negated_string_path = path.get(0).get_neg_ext(bounds)[0]\n",
    "    for box_ in range(1, len(path)):\n",
    "        negated_string_path += \" \" + str(path.get(box_).get_neg_ext(bounds)[0])\n",
    "    print(f\"Path {count}: {negated_string_path}, is_bug: {path.is_bug()}\")"
   ]
  },
  {
   "cell_type": "markdown",
   "metadata": {
    "slideshow": {
     "slide_type": "subslide"
    }
   },
   "source": [
    "### Systematically Negating Paths"
   ]
  },
  {
   "cell_type": "markdown",
   "metadata": {
    "slideshow": {
     "slide_type": "fragment"
    }
   },
   "source": [
    "We will use the Decision tree and extract new input specifications to refine or refute our hypothesis (See Section 4.1 \"Extracting Prediction Paths\" in \\cite{Kampmann2020}).\n",
    "These input specifications will be parsed to the input generator that tries to generate new inputs that fulfill the defined input specifications."
   ]
  },
  {
   "cell_type": "code",
   "execution_count": 70,
   "metadata": {
    "execution": {
     "iopub.execute_input": "2025-01-13T14:55:28.805154Z",
     "iopub.status.busy": "2025-01-13T14:55:28.805074Z",
     "iopub.status.idle": "2025-01-13T14:55:28.807951Z",
     "shell.execute_reply": "2025-01-13T14:55:28.807745Z"
    },
    "slideshow": {
     "slide_type": "subslide"
    }
   },
   "outputs": [],
   "source": [
    "def extracting_prediction_paths(clf, feature_names, data):\n",
    "    # determine the bounds\n",
    "    bounds = pandas.DataFrame([{'feature': c, 'min': data[c].min(), 'max': data[c].max()}\n",
    "                           for c in feature_names],\n",
    "                          columns=['feature', 'min', 'max']).set_index(['feature']).transpose()\n",
    "\n",
    "    # go through tree leaf by leaf\n",
    "    all_reqs = set()\n",
    "    for path in tree_to_paths(clf, feature_names):\n",
    "        # generate conditions\n",
    "        for i in range(0, len(path)+1):\n",
    "            reqs_list = []\n",
    "            bins = format(i, \"#0{}b\".format(len(path)+2))[2:]\n",
    "            for p, b in zip(range(0, len(bins)), bins):\n",
    "                r = path.get(p)\n",
    "                if '1' == b:\n",
    "                    reqs_list.append(r.get_neg_ext(bounds))\n",
    "                else:\n",
    "                    reqs_list.append([r.get_str_ext()])\n",
    "            for reqs in all_combinations(reqs_list):\n",
    "                all_reqs.add(\", \".join(sorted(reqs)))\n",
    "    return all_reqs\n",
    "\n",
    "def all_combinations(reqs_lists):\n",
    "    result = [[]]\n",
    "    for reqs in reqs_lists:\n",
    "        t = []\n",
    "        for r in reqs:\n",
    "            for i in result:\n",
    "                t.append(i+[r])\n",
    "        result = t\n",
    "    return result"
   ]
  },
  {
   "cell_type": "markdown",
   "metadata": {
    "slideshow": {
     "slide_type": "subslide"
    }
   },
   "source": [
    "We will use the Decision tree and extract new input specifications to refine or refute our hypothesis (See paper Section 4.1 - Extracting Prediction Paths). These input specifications will be parsed to the input generator that tries to generate new inputs that fulfill the defined input specifications."
   ]
  },
  {
   "cell_type": "code",
   "execution_count": 71,
   "metadata": {
    "execution": {
     "iopub.execute_input": "2025-01-13T14:55:28.809219Z",
     "iopub.status.busy": "2025-01-13T14:55:28.809117Z",
     "iopub.status.idle": "2025-01-13T14:55:28.812490Z",
     "shell.execute_reply": "2025-01-13T14:55:28.812213Z"
    },
    "slideshow": {
     "slide_type": "fragment"
    }
   },
   "outputs": [],
   "source": [
    "new_prediction_paths = extracting_prediction_paths(clf, feature_names, data=x)"
   ]
  },
  {
   "cell_type": "code",
   "execution_count": 72,
   "metadata": {
    "execution": {
     "iopub.execute_input": "2025-01-13T14:55:28.813796Z",
     "iopub.status.busy": "2025-01-13T14:55:28.813708Z",
     "iopub.status.idle": "2025-01-13T14:55:28.815357Z",
     "shell.execute_reply": "2025-01-13T14:55:28.815132Z"
    },
    "slideshow": {
     "slide_type": "fragment"
    }
   },
   "outputs": [
    {
     "name": "stdout",
     "output_type": "stream",
     "text": [
      "function-sqrt > 0.5, number > 13.0\n",
      "function-sqrt <= 0.5, number > 13.0\n",
      "function-sqrt > 0.5, number <= 13.0\n",
      "function-sqrt <= 0.5\n",
      "function-sqrt <= 0.5, number <= 13.0\n",
      "function-sqrt > 0.5\n"
     ]
    }
   ],
   "source": [
    "for path in new_prediction_paths:\n",
    "    print(path)"
   ]
  },
  {
   "cell_type": "markdown",
   "metadata": {
    "slideshow": {
     "slide_type": "subslide"
    }
   },
   "source": [
    "### Input Specification Parser"
   ]
  },
  {
   "cell_type": "markdown",
   "metadata": {
    "slideshow": {
     "slide_type": "fragment"
    }
   },
   "source": [
    "Once we have input specifications, we must again extract them from the decision tree so we can interpret them."
   ]
  },
  {
   "cell_type": "code",
   "execution_count": 73,
   "metadata": {
    "execution": {
     "iopub.execute_input": "2025-01-13T14:55:28.816704Z",
     "iopub.status.busy": "2025-01-13T14:55:28.816620Z",
     "iopub.status.idle": "2025-01-13T14:55:28.818228Z",
     "shell.execute_reply": "2025-01-13T14:55:28.818004Z"
    },
    "slideshow": {
     "slide_type": "skip"
    }
   },
   "outputs": [],
   "source": [
    "import string"
   ]
  },
  {
   "cell_type": "code",
   "execution_count": 74,
   "metadata": {
    "execution": {
     "iopub.execute_input": "2025-01-13T14:55:28.819435Z",
     "iopub.status.busy": "2025-01-13T14:55:28.819344Z",
     "iopub.status.idle": "2025-01-13T14:55:28.821706Z",
     "shell.execute_reply": "2025-01-13T14:55:28.821479Z"
    },
    "slideshow": {
     "slide_type": "subslide"
    }
   },
   "outputs": [],
   "source": [
    "SPEC_GRAMMAR: Grammar = {\n",
    "    \"<start>\":\n",
    "        [\"<req_list>\"],\n",
    "\n",
    "    \"<req_list>\": \n",
    "        [\"<req>\", \"<req>\"\", \"\"<req_list>\"],\n",
    "\n",
    "    \"<req>\":\n",
    "        [\"<feature>\"\" \"\"<quant>\"\" \"\"<num>\"],\n",
    "\n",
    "    \"<feature>\": [\"exists(<string>)\",\n",
    "                  \"num(<string>)\",\n",
    "                  # currently not used\n",
    "                  \"char(<string>)\",\n",
    "                  \"length(<string>)\"],\n",
    "\n",
    "    \"<quant>\":\n",
    "        [\"<\", \">\", \"<=\", \">=\"],\n",
    "\n",
    "    \"<num>\": [\"-<value>\", \"<value>\"],\n",
    "\n",
    "    \"<value>\":\n",
    "        [\"<integer>.<integer>\",\n",
    "         \"<integer>\"],\n",
    "\n",
    "    \"<integer>\":\n",
    "        [\"<digit><integer>\", \"<digit>\"],\n",
    "\n",
    "    \"<digit>\":\n",
    "        [\"0\", \"1\", \"2\", \"3\", \"4\", \"5\", \"6\", \"7\", \"8\", \"9\"],\n",
    "\n",
    "    '<string>': ['<letters>'],\n",
    "    '<letters>': ['<letter><letters>', '<letter>'],\n",
    "    '<letter>': list(string.ascii_letters + string.digits + string.punctuation)\n",
    "}\n",
    "\n",
    "assert is_valid_grammar(SPEC_GRAMMAR)"
   ]
  },
  {
   "cell_type": "markdown",
   "metadata": {
    "slideshow": {
     "slide_type": "subslide"
    }
   },
   "source": [
    "### Excursion: Validating the Parser"
   ]
  },
  {
   "cell_type": "markdown",
   "metadata": {
    "slideshow": {
     "slide_type": "fragment"
    }
   },
   "source": [
    "Let's validate our grammar, by using the grammar to produce 100 sample requirement specifications"
   ]
  },
  {
   "cell_type": "code",
   "execution_count": 75,
   "metadata": {
    "execution": {
     "iopub.execute_input": "2025-01-13T14:55:28.822947Z",
     "iopub.status.busy": "2025-01-13T14:55:28.822855Z",
     "iopub.status.idle": "2025-01-13T14:55:28.840332Z",
     "shell.execute_reply": "2025-01-13T14:55:28.840108Z"
    },
    "slideshow": {
     "slide_type": "subslide"
    }
   },
   "outputs": [
    {
     "name": "stdout",
     "output_type": "stream",
     "text": [
      "char(o/vy) >= 7\n",
      "exists(E) <= 822.9\n",
      "length(VnMoy) > -6460.3, exists(T) > 6, num(b) >= -1.03\n",
      "length(f) >= -7677, char(O:t) < -6\n",
      "length(x`) <= 08\n",
      "num(@) >= 1.695, exists(=7&) > 23\n",
      "exists(rV) >= -5.9, exists(|) <= 6969.0\n",
      "length(bd) >= 4.8\n",
      "num(8) <= 44.870, length(8xz') <= 13\n",
      "exists(H) >= 0.4, num(#) > 1, exists(Q) >= -600.19\n"
     ]
    }
   ],
   "source": [
    "g = GrammarFuzzer(SPEC_GRAMMAR, max_nonterminals=100)\n",
    "earley = EarleyParser(SPEC_GRAMMAR)\n",
    "for i in range(10):\n",
    "    sample = g.fuzz()\n",
    "    print(sample)"
   ]
  },
  {
   "cell_type": "code",
   "execution_count": 76,
   "metadata": {
    "execution": {
     "iopub.execute_input": "2025-01-13T14:55:28.841562Z",
     "iopub.status.busy": "2025-01-13T14:55:28.841471Z",
     "iopub.status.idle": "2025-01-13T14:55:29.436494Z",
     "shell.execute_reply": "2025-01-13T14:55:29.436182Z"
    },
    "slideshow": {
     "slide_type": "subslide"
    }
   },
   "outputs": [],
   "source": [
    "g = GrammarFuzzer(SPEC_GRAMMAR, max_nonterminals= 100)\n",
    "earley = EarleyParser(SPEC_GRAMMAR)\n",
    "for i in range(100):\n",
    "    sample = g.fuzz()\n",
    "    for tree in earley.parse(sample):\n",
    "        assert tree_to_string(tree) == sample, f\"{tree_to_string(tree)} and {sample} are not equal\""
   ]
  },
  {
   "cell_type": "markdown",
   "metadata": {
    "slideshow": {
     "slide_type": "fragment"
    }
   },
   "source": [
    "Let's also try with some real requirement specifications:"
   ]
  },
  {
   "cell_type": "code",
   "execution_count": 77,
   "metadata": {
    "execution": {
     "iopub.execute_input": "2025-01-13T14:55:29.438044Z",
     "iopub.status.busy": "2025-01-13T14:55:29.437953Z",
     "iopub.status.idle": "2025-01-13T14:55:29.482720Z",
     "shell.execute_reply": "2025-01-13T14:55:29.482448Z"
    },
    "slideshow": {
     "slide_type": "subslide"
    }
   },
   "outputs": [],
   "source": [
    "earley = EarleyParser(SPEC_GRAMMAR)\n",
    "teststrings = ['exists(<function>@0) > 0.5, exists(<term>@0) <= 0.5, exists(<value>@1) <= 0.5',\n",
    "               'exists(<digit>@9) <= 0.5, exists(<function>@0) > 0.5, num(<term>) > 0.05000000074505806',\n",
    "               'exists(<digit>@2) <= 0.5, exists(<function>@0) < 0.5, num(<term>) <= 0.05000000074505806',\n",
    "               'exists(<function>@0) > 0.5, num(<term>) > -3965678.1875']\n",
    "for count, sample in enumerate(teststrings):\n",
    "    for tree in earley.parse(sample):\n",
    "        assert tree_to_string(tree) == teststrings[count], \\\n",
    "        f\"{tree_to_string(tree)} and {teststrings[count]} are not equal\""
   ]
  },
  {
   "cell_type": "markdown",
   "metadata": {
    "slideshow": {
     "slide_type": "subslide"
    }
   },
   "source": [
    "### End of Excursion"
   ]
  },
  {
   "cell_type": "markdown",
   "metadata": {
    "slideshow": {
     "slide_type": "subslide"
    }
   },
   "source": [
    "### Retrieving New input Specifications\n",
    "\n",
    "The following classes represent requirements for the test cases to be generated."
   ]
  },
  {
   "cell_type": "code",
   "execution_count": 78,
   "metadata": {
    "execution": {
     "iopub.execute_input": "2025-01-13T14:55:29.484312Z",
     "iopub.status.busy": "2025-01-13T14:55:29.484222Z",
     "iopub.status.idle": "2025-01-13T14:55:29.487296Z",
     "shell.execute_reply": "2025-01-13T14:55:29.487027Z"
    },
    "slideshow": {
     "slide_type": "subslide"
    }
   },
   "outputs": [],
   "source": [
    "class SpecRequirement:\n",
    "    '''\n",
    "    This class represents a requirement for a new input sample that should be generated.\n",
    "    This class contains the feature that should be fullfiled (Feature), a quantifier\n",
    "    (\"<\", \">\", \"<=\", \">=\") and a value. For instance exist(feature) >= 0.5 states that\n",
    "    the syntactical existence feature should be used to produce a new input.\n",
    "\n",
    "    feature  : Is the associated feature class\n",
    "    quant    : The quantifier\n",
    "    value    : The value of the requirement. Note that for existence features this value\n",
    "                is allways between 0 and 1.\n",
    "    '''\n",
    "\n",
    "    def __init__(self, feature: Feature, quantificator, value):\n",
    "        self.feature: Feature = feature\n",
    "        self.quant = quantificator\n",
    "        self.value = value\n",
    "\n",
    "    def __str__(self):\n",
    "        return f\"Requirement({self.feature.name} {self.quant} {self.value})\"\n",
    "\n",
    "    def __repr__(self):\n",
    "        return f\"Requirement({self.feature.name}, {self.quant}, {self.value})\"\n",
    "\n",
    "    def friendly(self):\n",
    "        def value(x):\n",
    "            try:\n",
    "                return float(x)\n",
    "            except Exception:\n",
    "                return None\n",
    "\n",
    "        if isinstance(self.feature, ExistenceFeature):\n",
    "            if value(self.value) > 0:\n",
    "                return f\"{self.feature.friendly_name()}\"\n",
    "            elif value(self.value) < 0:\n",
    "                return f\"not {self.feature.friendly_name()}\"\n",
    "\n",
    "        return f\"{self.feature.friendly_name()} {self.quant} {self.value}\""
   ]
  },
  {
   "cell_type": "code",
   "execution_count": 79,
   "metadata": {
    "execution": {
     "iopub.execute_input": "2025-01-13T14:55:29.488526Z",
     "iopub.status.busy": "2025-01-13T14:55:29.488448Z",
     "iopub.status.idle": "2025-01-13T14:55:29.490725Z",
     "shell.execute_reply": "2025-01-13T14:55:29.490498Z"
    },
    "slideshow": {
     "slide_type": "subslide"
    }
   },
   "outputs": [],
   "source": [
    "class InputSpecification:\n",
    "    '''\n",
    "    This class represents a complete input specification of a new input. A input specification\n",
    "    consists of one or more requirements.\n",
    "    requirements  : Is a list of all requirements that must be used.\n",
    "    '''\n",
    "\n",
    "    def __init__(self, requirements: List[SpecRequirement]):\n",
    "        self.requirements: List[SpecRequirement] = requirements\n",
    "\n",
    "    def __str__(self):\n",
    "        s = \", \".join(str(r) for r in self.requirements)\n",
    "        return f\"InputSpecification({s})\"\n",
    "\n",
    "    def friendly(self):\n",
    "        return \" and \".join(r.friendly() for r in self.requirements)\n",
    "\n",
    "    def __repr__(self):\n",
    "        return self.__str__()"
   ]
  },
  {
   "cell_type": "code",
   "execution_count": 80,
   "metadata": {
    "execution": {
     "iopub.execute_input": "2025-01-13T14:55:29.491954Z",
     "iopub.status.busy": "2025-01-13T14:55:29.491869Z",
     "iopub.status.idle": "2025-01-13T14:55:29.493793Z",
     "shell.execute_reply": "2025-01-13T14:55:29.493577Z"
    },
    "slideshow": {
     "slide_type": "subslide"
    }
   },
   "outputs": [],
   "source": [
    "def get_all_subtrees(derivation_tree, non_terminal):\n",
    "    '''\n",
    "    Iteratively returns a list of subtrees that start with a given non_terminal.\n",
    "    '''\n",
    "\n",
    "    subtrees = []\n",
    "    (node, children) = derivation_tree\n",
    "\n",
    "    if node == non_terminal:\n",
    "        subtrees.append(derivation_tree)\n",
    "\n",
    "    for child in children:\n",
    "        subtrees = subtrees + get_all_subtrees(child, non_terminal)\n",
    "\n",
    "    return subtrees"
   ]
  },
  {
   "cell_type": "code",
   "execution_count": 81,
   "metadata": {
    "execution": {
     "iopub.execute_input": "2025-01-13T14:55:29.494935Z",
     "iopub.status.busy": "2025-01-13T14:55:29.494860Z",
     "iopub.status.idle": "2025-01-13T14:55:29.497063Z",
     "shell.execute_reply": "2025-01-13T14:55:29.496845Z"
    },
    "slideshow": {
     "slide_type": "subslide"
    }
   },
   "outputs": [],
   "source": [
    "def create_new_input_specification(derivation_tree, all_features) -> InputSpecification:\n",
    "    '''\n",
    "    This function creates a new input specification for a parsed decision tree path.\n",
    "    The input derivation_tree corresponds to a already negated path in the decision tree.\n",
    "    '''\n",
    "\n",
    "    requirement_list = []\n",
    "\n",
    "    for req in get_all_subtrees(derivation_tree, '<req>'):\n",
    "        feature_name = tree_to_string(get_all_subtrees(req, '<feature>')[0])\n",
    "        quant = tree_to_string(get_all_subtrees(req, '<quant>')[0])\n",
    "        value = tree_to_string(get_all_subtrees(req, '<num>')[0])\n",
    "\n",
    "        feature_class = None\n",
    "        for f in all_features:\n",
    "            if f.name == feature_name:\n",
    "                feature_class = f\n",
    "\n",
    "        requirement_list.append(SpecRequirement(feature_class, quant, value))\n",
    "\n",
    "    return InputSpecification(requirement_list)"
   ]
  },
  {
   "cell_type": "code",
   "execution_count": 82,
   "metadata": {
    "execution": {
     "iopub.execute_input": "2025-01-13T14:55:29.498176Z",
     "iopub.status.busy": "2025-01-13T14:55:29.498102Z",
     "iopub.status.idle": "2025-01-13T14:55:29.500302Z",
     "shell.execute_reply": "2025-01-13T14:55:29.500087Z"
    },
    "slideshow": {
     "slide_type": "subslide"
    }
   },
   "outputs": [],
   "source": [
    "def get_all_input_specifications(dec_tree,\n",
    "                                 all_features: List[Feature],\n",
    "                                 feature_names: List[str],\n",
    "                                 data) -> List[InputSpecification]:\n",
    "    '''\n",
    "    Returns a complete list new input specification that were extracted from a learned decision tree.\n",
    "\n",
    "    INPUT:\n",
    "        - dec_tree       : The learned decision tree.\n",
    "        - all_features   : A list of all features\n",
    "        - feature_names  : The list of the feature names (feature.name)\n",
    "        - data.          : The data that was used to learn the decision tree\n",
    "\n",
    "    OUTPUT:\n",
    "        - Returns a list of InputSpecifications\n",
    "    '''\n",
    "    prediction_paths = extracting_prediction_paths(dec_tree, feature_names, data)\n",
    "    input_specifications = []\n",
    "\n",
    "    # parse all extracted paths\n",
    "    for r in prediction_paths:\n",
    "        earley = EarleyParser(SPEC_GRAMMAR)\n",
    "        try:\n",
    "            for tree in earley.parse(r):\n",
    "                input_specifications.append(create_new_input_specification(tree, all_features))\n",
    "        except SyntaxError:\n",
    "            # Catch Parsing Syntax Errors: num(<term>) in [-900, 0] will fail; Might fix later\n",
    "            # For now, inputs following that form will be ignored\n",
    "            pass\n",
    "\n",
    "    return input_specifications"
   ]
  },
  {
   "cell_type": "markdown",
   "metadata": {
    "slideshow": {
     "slide_type": "subslide"
    }
   },
   "source": [
    "### Excursion: Testing Specifications"
   ]
  },
  {
   "cell_type": "code",
   "execution_count": 83,
   "metadata": {
    "execution": {
     "iopub.execute_input": "2025-01-13T14:55:29.501539Z",
     "iopub.status.busy": "2025-01-13T14:55:29.501461Z",
     "iopub.status.idle": "2025-01-13T14:55:29.608001Z",
     "shell.execute_reply": "2025-01-13T14:55:29.607720Z"
    },
    "slideshow": {
     "slide_type": "subslide"
    }
   },
   "outputs": [],
   "source": [
    "sample_prediction_paths = ['exists(<function>@0) > 0.5, num(<term>) <= -38244758.0',\n",
    "                        'exists(<digit>@7) <= 0.5, exists(<function>@0) > 0.5, num(<term>) <= 0.05000000074505806',\n",
    "                        'exists(<digit>) > 1.5, exists(<function>@0) > 0.5, num(<term>) <= 0.21850000321865082', \n",
    "                        'exists(<function>@0) > 0.5']\n",
    "\n",
    "expected_input_specifications = ['InputSpecification(Requirement(exists(<function>@0) > 0.5), Requirement(num(<term>) <= -38244758.0))',\n",
    "                                 'InputSpecification(Requirement(exists(<digit>@7) <= 0.5), Requirement(exists(<function>@0) > 0.5), Requirement(num(<term>) <= 0.05000000074505806))',\n",
    "                                 'InputSpecification(Requirement(exists(<digit>) > 1.5), Requirement(exists(<function>@0) > 0.5), Requirement(num(<term>) <= 0.21850000321865082))',\n",
    "                                 'InputSpecification(Requirement(exists(<function>@0) > 0.5))']\n",
    "\n",
    "all_features = extract_all_features(CALC_GRAMMAR)\n",
    "\n",
    "earley = EarleyParser(SPEC_GRAMMAR)\n",
    "for count, sample in enumerate(sample_prediction_paths):\n",
    "    for tree in earley.parse(sample):\n",
    "        input_specification = create_new_input_specification(tree, all_features)\n",
    "        assert str(input_specification) == expected_input_specifications[count], \\\n",
    "            f\"{str(input_specification)} is not equal to {expected_input_specifications[count]}\""
   ]
  },
  {
   "cell_type": "markdown",
   "metadata": {
    "slideshow": {
     "slide_type": "subslide"
    }
   },
   "source": [
    "If no assertion is triggered, then everything seems to work."
   ]
  },
  {
   "cell_type": "markdown",
   "metadata": {
    "slideshow": {
     "slide_type": "subslide"
    }
   },
   "source": [
    "### End of Excursion"
   ]
  },
  {
   "cell_type": "markdown",
   "metadata": {
    "slideshow": {
     "slide_type": "fragment"
    }
   },
   "source": [
    "We implement a _Grammar-Based Input Generator_ that generates new input samples from a List of `InputSpecifications`.\n",
    "The input specifications are extracted from the decision tree boundaries in the previous Step 3: `RequirementExtraction`.\n",
    "\n",
    "An `InputSpecification` consists of **1 to n** many predicates or requirements (e.g. `<feature> >= value`, or `num(<term>) <= 13`).\n",
    "We generate a new input for each `InputSpecification`.\n",
    "The new input fulfills all the given requirements of an `InputSpecification`."
   ]
  },
  {
   "cell_type": "markdown",
   "metadata": {
    "slideshow": {
     "slide_type": "subslide"
    }
   },
   "source": [
    "For further details, please refer to Section 4.4 and 4.5 of \\cite{Kampmann2020} and the Chapter [Efficient Grammar Fuzzing](https://www.fuzzingbook.org/html/GrammarFuzzer.html) in the Fuzzing Book."
   ]
  },
  {
   "cell_type": "markdown",
   "metadata": {
    "slideshow": {
     "slide_type": "fragment"
    }
   },
   "source": [
    "We define a function `generate_samples()` with the following input parameters:\n",
    "- `grammar`: the grammar used to produce new inputs (e.g. the CALCULATOR-Grammar)\n",
    "- `new_input_specification`: a List of new inputs specifications (type `List[InputSpecification]`)\n",
    "- `timeout`: a max time budget. Return the generated inputs when the time budget is exceeded."
   ]
  },
  {
   "cell_type": "markdown",
   "metadata": {
    "slideshow": {
     "slide_type": "fragment"
    }
   },
   "source": [
    "The function returns a list of new inputs that are specified by the given input specifications."
   ]
  },
  {
   "cell_type": "code",
   "execution_count": 84,
   "metadata": {
    "execution": {
     "iopub.execute_input": "2025-01-13T14:55:29.609788Z",
     "iopub.status.busy": "2025-01-13T14:55:29.609698Z",
     "iopub.status.idle": "2025-01-13T14:55:29.611465Z",
     "shell.execute_reply": "2025-01-13T14:55:29.611225Z"
    },
    "slideshow": {
     "slide_type": "skip"
    }
   },
   "outputs": [],
   "source": [
    "import time\n",
    "import copy\n",
    "from copy import deepcopy\n",
    "import random\n",
    "from itertools import chain"
   ]
  },
  {
   "cell_type": "code",
   "execution_count": 85,
   "metadata": {
    "execution": {
     "iopub.execute_input": "2025-01-13T14:55:29.612855Z",
     "iopub.status.busy": "2025-01-13T14:55:29.612780Z",
     "iopub.status.idle": "2025-01-13T14:55:29.616213Z",
     "shell.execute_reply": "2025-01-13T14:55:29.615979Z"
    },
    "slideshow": {
     "slide_type": "subslide"
    }
   },
   "outputs": [],
   "source": [
    "def best_trees(forest, spec):\n",
    "    samples = [tree_to_string(tree) for tree in forest]\n",
    "    fulfilled_fractions= []\n",
    "    for sample in samples:\n",
    "        gen_features = collect_features([sample], CALC_GRAMMAR)\n",
    "\n",
    "        # calculate percentage of fulfilled requirements (used to rank the sample)\n",
    "        fulfilled_count = 0\n",
    "        total_count = len(spec.requirements)\n",
    "        for req in spec.requirements:\n",
    "            # for now, interpret requirement(exists(<...>) <= number) as false and requirement(exists(<...>) > number) as true\n",
    "            if isinstance(req.feature, ExistenceFeature):\n",
    "                expected = 1.0 if req.quant == '>' or req.quant == '>=' else 0.0\n",
    "                actual = gen_features[req.feature.name][0]\n",
    "                if actual == expected:\n",
    "                    fulfilled_count += 1\n",
    "                else:\n",
    "                    pass\n",
    "                    # print(f'{req.feature} expected: {expected}, actual:{actual}')\n",
    "            elif isinstance(req.feature, NumericInterpretation):\n",
    "                expected_value = float(req.value)\n",
    "                actual_value = gen_features[req.feature.name][0]\n",
    "                fulfilled = False\n",
    "                if req.quant == '<':\n",
    "                    fulfilled = actual_value < expected_value\n",
    "                elif req.quant == '<=':\n",
    "                    fulfilled = actual_value <= expected_value\n",
    "                elif req.quant == '>':\n",
    "                    fulfilled = actual_value > expected_value\n",
    "                elif req.quant == '>=':\n",
    "                    fulfilled = actual_value >= expected_value\n",
    "\n",
    "                if fulfilled:\n",
    "                    fulfilled_count += 1\n",
    "                else:\n",
    "                    pass\n",
    "                    # print(f'{req.feature} expected: {expected_value}, actual:{actual_value}')\n",
    "        fulfilled_fractions.append(fulfilled_count / total_count)\n",
    "        # print(f'Fraction of fulfilled requirements: {fulfilled_count / total_count}')\n",
    "    max_frac = max(fulfilled_fractions)\n",
    "    best_chosen = []\n",
    "    if max_frac == 1.0:\n",
    "        return True, forest[fulfilled_fractions.index(1.0)]\n",
    "\n",
    "    for i, t in enumerate(forest):\n",
    "        if fulfilled_fractions[i] == max_frac:\n",
    "            best_chosen.append(t)\n",
    "    return False, best_chosen\n"
   ]
  },
  {
   "cell_type": "code",
   "execution_count": 86,
   "metadata": {
    "execution": {
     "iopub.execute_input": "2025-01-13T14:55:29.617449Z",
     "iopub.status.busy": "2025-01-13T14:55:29.617366Z",
     "iopub.status.idle": "2025-01-13T14:55:29.621538Z",
     "shell.execute_reply": "2025-01-13T14:55:29.621313Z"
    },
    "slideshow": {
     "slide_type": "subslide"
    }
   },
   "outputs": [],
   "source": [
    "# well, not perfect and probably not very robust. but it works :)\n",
    "def generate_samples_advanced(grammar: Grammar,\n",
    "                     new_input_specifications: List[InputSpecification],\n",
    "                     timeout: int) -> List[str]:\n",
    "\n",
    "    # if there are no input specifications: generate some random samples\n",
    "    if len(new_input_specifications) == 0:\n",
    "        fuzzer = GrammarFuzzer(grammar)\n",
    "        samples = [fuzzer.fuzz() for _ in range(100)]\n",
    "        return samples\n",
    "\n",
    "    final_samples = []\n",
    "    each_spec_timeout = timeout / len(new_input_specifications)\n",
    "\n",
    "    rhs_nonterminals = grammar.keys()# list(chain(*[nonterminals(expansion) for expansion in grammar[rule]]))\n",
    "\n",
    "    fuzzer = GrammarFuzzer(grammar)\n",
    "\n",
    "    for spec in new_input_specifications:\n",
    "        done = False\n",
    "        starttime = time.time()\n",
    "        best_chosen = [fuzzer.fuzz_tree() for _ in range(100)]\n",
    "        done, best_chosen = best_trees(best_chosen, spec)\n",
    "        if done:\n",
    "            final_samples.append(tree_to_string(best_chosen))\n",
    "\n",
    "        while not done and time.time() - starttime < each_spec_timeout:\n",
    "            # split in prefix, postfix and try to reach targets\n",
    "            for tree in best_chosen:\n",
    "                prefix_len = random.randint(1, 3)\n",
    "                curr = tree\n",
    "                valid = True\n",
    "                for i in range(prefix_len):\n",
    "                    nt, children = curr\n",
    "                    poss_desc_idxs = []\n",
    "                    for c_idx, c in enumerate(children):\n",
    "                        s, _ = c\n",
    "                        possible_descend = s in rhs_nonterminals\n",
    "                        if possible_descend:\n",
    "                            poss_desc_idxs.append(c_idx)\n",
    "                    if len(poss_desc_idxs) < 1:\n",
    "                        valid = False\n",
    "                        break\n",
    "                    desc = random.randint(0, len(poss_desc_idxs) - 1)\n",
    "                    curr = children[poss_desc_idxs[desc]]\n",
    "                if valid:\n",
    "                    nt, _ = curr\n",
    "                    for req in spec.requirements:\n",
    "                        if isinstance(req.feature, NumericInterpretation) and nt == req.feature.key:\n",
    "                            # hacky: generate a derivation tree for this numeric interpretation\n",
    "                            hacky_grammar = copy.deepcopy(grammar)\n",
    "                            hacky_grammar[\"<start>\"] = [nt]\n",
    "                            parser = EarleyParser(hacky_grammar)\n",
    "                            try:\n",
    "                                test = parser.parse(req.value)\n",
    "                                x = list(test)[0]\n",
    "                                _, s = x\n",
    "                                # print(str(s[0]))\n",
    "                                # replace curr in tree with this new tree\n",
    "                                curr = s[0]\n",
    "                            except SyntaxError:\n",
    "                                pass\n",
    "            done, best_chosen = best_trees(best_chosen, spec)\n",
    "            if done:\n",
    "                final_samples.append(tree_to_string(best_chosen))\n",
    "        if not done:\n",
    "            final_samples.extend([tree_to_string(t) for t in best_chosen])\n",
    "\n",
    "    return final_samples"
   ]
  },
  {
   "cell_type": "markdown",
   "metadata": {
    "slideshow": {
     "slide_type": "subslide"
    }
   },
   "source": [
    "Here's another interesting generator function:"
   ]
  },
  {
   "cell_type": "code",
   "execution_count": 87,
   "metadata": {
    "execution": {
     "iopub.execute_input": "2025-01-13T14:55:29.622759Z",
     "iopub.status.busy": "2025-01-13T14:55:29.622675Z",
     "iopub.status.idle": "2025-01-13T14:55:29.624774Z",
     "shell.execute_reply": "2025-01-13T14:55:29.624425Z"
    },
    "slideshow": {
     "slide_type": "fragment"
    }
   },
   "outputs": [],
   "source": [
    "def generate_samples_random(grammar, new_input_specifications, num):\n",
    "    f = GrammarFuzzer(grammar ,max_nonterminals=50, log=False)\n",
    "    data = []\n",
    "    for _ in range(num):\n",
    "        new_input = f.fuzz()\n",
    "        data.append(new_input)\n",
    "\n",
    "    return data"
   ]
  },
  {
   "cell_type": "code",
   "execution_count": 88,
   "metadata": {
    "execution": {
     "iopub.execute_input": "2025-01-13T14:55:29.626101Z",
     "iopub.status.busy": "2025-01-13T14:55:29.626005Z",
     "iopub.status.idle": "2025-01-13T14:55:29.627675Z",
     "shell.execute_reply": "2025-01-13T14:55:29.627444Z"
    },
    "slideshow": {
     "slide_type": "fragment"
    }
   },
   "outputs": [],
   "source": [
    "generate_samples = generate_samples_advanced"
   ]
  },
  {
   "cell_type": "markdown",
   "metadata": {
    "slideshow": {
     "slide_type": "subslide"
    }
   },
   "source": [
    "### Excursion: Some Tests"
   ]
  },
  {
   "cell_type": "code",
   "execution_count": 89,
   "metadata": {
    "execution": {
     "iopub.execute_input": "2025-01-13T14:55:29.628923Z",
     "iopub.status.busy": "2025-01-13T14:55:29.628837Z",
     "iopub.status.idle": "2025-01-13T14:55:29.779974Z",
     "shell.execute_reply": "2025-01-13T14:55:29.779723Z"
    },
    "slideshow": {
     "slide_type": "subslide"
    }
   },
   "outputs": [
    {
     "name": "stdout",
     "output_type": "stream",
     "text": [
      "--generating samples--\n"
     ]
    },
    {
     "data": {
      "text/plain": [
       "['sqrt(-81743)']"
      ]
     },
     "execution_count": 89,
     "metadata": {},
     "output_type": "execute_result"
    }
   ],
   "source": [
    "exsqrt = ExistenceFeature('exists(<function>@0)', '<function>', 'sqrt')\n",
    "exdigit = ExistenceFeature('exists(<digit>)', '<digit>', '<digit>')\n",
    "\n",
    "reqDigit = SpecRequirement(exdigit, '>', '0.5')\n",
    "fbdDigit = SpecRequirement(exdigit, '<=', '0.5')\n",
    "\n",
    "req0 = SpecRequirement(exsqrt, '>', '-6.0')\n",
    "testspec0 = InputSpecification([req0, reqDigit])\n",
    "req1 = SpecRequirement(exsqrt, '<=', '-6.0')\n",
    "testspec1 = InputSpecification([req1, fbdDigit])\n",
    "\n",
    "numterm = NumericInterpretation('num(<term>)', '<term>')\n",
    "req2 = SpecRequirement(numterm, '<', '-31.0')\n",
    "testspec2 = InputSpecification([req2, req0, reqDigit])\n",
    "\n",
    "print('--generating samples--')\n",
    "# samples = generate_samples(CALC_GRAMMAR, [testspec0, testspec1], 10)\n",
    "samples = generate_samples(CALC_GRAMMAR, [testspec2], 10)\n",
    "samples"
   ]
  },
  {
   "cell_type": "markdown",
   "metadata": {
    "slideshow": {
     "slide_type": "subslide"
    }
   },
   "source": [
    "### End of Excursion"
   ]
  },
  {
   "cell_type": "markdown",
   "metadata": {
    "slideshow": {
     "slide_type": "slide"
    }
   },
   "source": [
    "## Step 5: Executing New Inputs"
   ]
  },
  {
   "cell_type": "markdown",
   "metadata": {
    "slideshow": {
     "slide_type": "fragment"
    }
   },
   "source": [
    "We are almost done! All that is left is putting the above pieces together and create a _loop_ around them."
   ]
  },
  {
   "cell_type": "markdown",
   "metadata": {
    "slideshow": {
     "slide_type": "subslide"
    }
   },
   "source": [
    "### The Alhazen Class\n",
    "\n",
    "We implement a class `Alhazen` that serves as main entry point for our approach."
   ]
  },
  {
   "cell_type": "code",
   "execution_count": 90,
   "metadata": {
    "execution": {
     "iopub.execute_input": "2025-01-13T14:55:29.781491Z",
     "iopub.status.busy": "2025-01-13T14:55:29.781389Z",
     "iopub.status.idle": "2025-01-13T14:55:29.783475Z",
     "shell.execute_reply": "2025-01-13T14:55:29.783272Z"
    },
    "slideshow": {
     "slide_type": "subslide"
    }
   },
   "outputs": [],
   "source": [
    "class Alhazen:\n",
    "    def __init__(self,\n",
    "                 runner: Any,\n",
    "                 grammar: Grammar,\n",
    "                 initial_inputs: List[str], /,\n",
    "                 verbose: bool = False,\n",
    "                 max_iterations: int = 10,\n",
    "                 generator_timeout: int = 10):\n",
    "        self._initial_inputs = initial_inputs\n",
    "        self._runner = runner\n",
    "        self._grammar = grammar\n",
    "        self._verbose = verbose\n",
    "        self._max_iter = max_iterations\n",
    "        self._previous_samples = None\n",
    "        self._data = None\n",
    "        self._trees = []\n",
    "        self._generator_timeout = generator_timeout\n",
    "        self._setup()"
   ]
  },
  {
   "cell_type": "code",
   "execution_count": 91,
   "metadata": {
    "execution": {
     "iopub.execute_input": "2025-01-13T14:55:29.784722Z",
     "iopub.status.busy": "2025-01-13T14:55:29.784622Z",
     "iopub.status.idle": "2025-01-13T14:55:29.786579Z",
     "shell.execute_reply": "2025-01-13T14:55:29.786382Z"
    },
    "slideshow": {
     "slide_type": "subslide"
    }
   },
   "outputs": [],
   "source": [
    "class Alhazen(Alhazen):\n",
    "    def _setup(self):\n",
    "        self._previous_samples = self._initial_inputs\n",
    "\n",
    "        self._all_features = extract_all_features(self._grammar)\n",
    "        self._feature_names = [f.name for f in self._all_features]\n",
    "        if self._verbose:\n",
    "            print(\"Features:\", \", \".join(f.friendly_name()\n",
    "                                         for f in self._all_features))"
   ]
  },
  {
   "cell_type": "code",
   "execution_count": 92,
   "metadata": {
    "execution": {
     "iopub.execute_input": "2025-01-13T14:55:29.787725Z",
     "iopub.status.busy": "2025-01-13T14:55:29.787628Z",
     "iopub.status.idle": "2025-01-13T14:55:29.789735Z",
     "shell.execute_reply": "2025-01-13T14:55:29.789523Z"
    },
    "slideshow": {
     "slide_type": "subslide"
    }
   },
   "outputs": [],
   "source": [
    "class Alhazen(Alhazen):\n",
    "    def _add_new_data(self, exec_data, feature_data):\n",
    "        joined_data = exec_data.join(feature_data.drop(['sample'], axis=1))\n",
    "\n",
    "        # Only add valid data\n",
    "        new_data = joined_data[(joined_data['oracle'] != OracleResult.UNDEF)]\n",
    "        new_data = joined_data.drop(joined_data[joined_data.oracle.astype(str) == \"UNDEF\"].index)\n",
    "        if 0 != len(new_data):\n",
    "            if self._data is None:\n",
    "                self._data = new_data\n",
    "            else:\n",
    "                self._data = pandas.concat([self._data, new_data], sort=False)"
   ]
  },
  {
   "cell_type": "code",
   "execution_count": 93,
   "metadata": {
    "execution": {
     "iopub.execute_input": "2025-01-13T14:55:29.790897Z",
     "iopub.status.busy": "2025-01-13T14:55:29.790795Z",
     "iopub.status.idle": "2025-01-13T14:55:29.792658Z",
     "shell.execute_reply": "2025-01-13T14:55:29.792447Z"
    },
    "slideshow": {
     "slide_type": "subslide"
    }
   },
   "outputs": [],
   "source": [
    "class Alhazen(Alhazen):\n",
    "    def execute_samples(self, sample_list = None):\n",
    "        if sample_list is None:\n",
    "            sample_list = self._initial_inputs\n",
    "\n",
    "        data = []\n",
    "        for sample in sample_list:\n",
    "            result = self._runner(sample)\n",
    "            data.append({\"oracle\": result })\n",
    "\n",
    "        return pandas.DataFrame.from_records(data)"
   ]
  },
  {
   "cell_type": "code",
   "execution_count": 94,
   "metadata": {
    "execution": {
     "iopub.execute_input": "2025-01-13T14:55:29.793838Z",
     "iopub.status.busy": "2025-01-13T14:55:29.793765Z",
     "iopub.status.idle": "2025-01-13T14:55:29.795631Z",
     "shell.execute_reply": "2025-01-13T14:55:29.795403Z"
    },
    "slideshow": {
     "slide_type": "subslide"
    }
   },
   "outputs": [],
   "source": [
    "class Alhazen(Alhazen):\n",
    "    def run(self):\n",
    "        for iteration in range(1, self._max_iter + 1):\n",
    "            if self._verbose:\n",
    "                print(f\"\\nIteration #{iteration}\")\n",
    "            self._iterate(self._previous_samples)"
   ]
  },
  {
   "cell_type": "code",
   "execution_count": 95,
   "metadata": {
    "execution": {
     "iopub.execute_input": "2025-01-13T14:55:29.796763Z",
     "iopub.status.busy": "2025-01-13T14:55:29.796686Z",
     "iopub.status.idle": "2025-01-13T14:55:29.798705Z",
     "shell.execute_reply": "2025-01-13T14:55:29.798501Z"
    },
    "slideshow": {
     "slide_type": "fragment"
    }
   },
   "outputs": [],
   "source": [
    "class Alhazen(Alhazen):\n",
    "    def all_trees(self, /, prune: bool = True):\n",
    "        trees = self._trees\n",
    "        if prune:\n",
    "            trees = [remove_unequal_decisions(tree) for tree in self._trees]\n",
    "        return trees\n",
    "\n",
    "    def last_tree(self, /, prune: bool = True):\n",
    "        return self.all_trees(prune=prune)[-1]"
   ]
  },
  {
   "cell_type": "code",
   "execution_count": 96,
   "metadata": {
    "execution": {
     "iopub.execute_input": "2025-01-13T14:55:29.799891Z",
     "iopub.status.busy": "2025-01-13T14:55:29.799819Z",
     "iopub.status.idle": "2025-01-13T14:55:29.802715Z",
     "shell.execute_reply": "2025-01-13T14:55:29.802493Z"
    },
    "slideshow": {
     "slide_type": "subslide"
    }
   },
   "outputs": [],
   "source": [
    "class Alhazen(Alhazen):\n",
    "    def _iterate(self, sample_list):\n",
    "        # Run samples, obtain test outcomes\n",
    "        exec_data = self.execute_samples(sample_list)\n",
    "\n",
    "        # Step 1: Extract features from the new samples\n",
    "        feature_data = collect_features(sample_list, self._grammar)\n",
    "\n",
    "        # Combine the new data with the already existing data\n",
    "        self._add_new_data(exec_data, feature_data)\n",
    "        # display(self._data)\n",
    "\n",
    "        # Step 2: Train the Decision Tree Classifier\n",
    "        dec_tree = train_tree(self._data)\n",
    "        self._trees.append(dec_tree)\n",
    "\n",
    "        if self._verbose:\n",
    "            print(\"  Decision Tree:\")\n",
    "            all_features = extract_all_features(self._grammar)\n",
    "            all_feature_names = [f.friendly_name() for f in all_features]\n",
    "            print(friendly_decision_tree(dec_tree, all_feature_names, indent=4))\n",
    "\n",
    "        # Step 3: Extract new requirements from the tree\n",
    "        new_input_specifications = get_all_input_specifications(dec_tree,\n",
    "                                                self._all_features,\n",
    "                                                self._feature_names,\n",
    "                                                self._data.drop(['oracle'], axis=1))\n",
    "        if self._verbose:\n",
    "            print(f\"  New input specifications:\")\n",
    "            for spec in new_input_specifications:\n",
    "                print(f\"    {spec.friendly()}\")\n",
    "\n",
    "        # Step 4: Generate new inputs according to the new input specifications\n",
    "        new_samples = generate_samples(self._grammar,\n",
    "                                       new_input_specifications,\n",
    "                                       self._generator_timeout)\n",
    "        if self._verbose:\n",
    "            print(f\"  New samples:\")\n",
    "            print(f\"    {', '.join(new_samples)}\")\n",
    "\n",
    "        self._previous_samples = new_samples"
   ]
  },
  {
   "cell_type": "code",
   "execution_count": 97,
   "metadata": {
    "execution": {
     "iopub.execute_input": "2025-01-13T14:55:29.804019Z",
     "iopub.status.busy": "2025-01-13T14:55:29.803925Z",
     "iopub.status.idle": "2025-01-13T14:55:29.805990Z",
     "shell.execute_reply": "2025-01-13T14:55:29.805771Z"
    },
    "slideshow": {
     "slide_type": "subslide"
    }
   },
   "outputs": [],
   "source": [
    "class Alhazen(Alhazen):\n",
    "    def all_feature_names(self, friendly: bool = True) -> List[str]:\n",
    "        if friendly:\n",
    "            all_feature_names = [f.friendly_name() for f in self._all_features]\n",
    "        else:\n",
    "            all_feature_names = [f.name for f in self._all_features]\n",
    "        return all_feature_names"
   ]
  },
  {
   "cell_type": "code",
   "execution_count": 98,
   "metadata": {
    "execution": {
     "iopub.execute_input": "2025-01-13T14:55:29.807125Z",
     "iopub.status.busy": "2025-01-13T14:55:29.807046Z",
     "iopub.status.idle": "2025-01-13T14:55:29.808754Z",
     "shell.execute_reply": "2025-01-13T14:55:29.808548Z"
    },
    "slideshow": {
     "slide_type": "fragment"
    }
   },
   "outputs": [],
   "source": [
    "class Alhazen(Alhazen):\n",
    "    def show_decision_tree(self, tree = None, friendly: bool = True):\n",
    "        return show_decision_tree(tree or self.last_tree(),\n",
    "                                  self.all_feature_names())"
   ]
  },
  {
   "cell_type": "code",
   "execution_count": 99,
   "metadata": {
    "execution": {
     "iopub.execute_input": "2025-01-13T14:55:29.809868Z",
     "iopub.status.busy": "2025-01-13T14:55:29.809795Z",
     "iopub.status.idle": "2025-01-13T14:55:29.811427Z",
     "shell.execute_reply": "2025-01-13T14:55:29.811214Z"
    },
    "slideshow": {
     "slide_type": "fragment"
    }
   },
   "outputs": [],
   "source": [
    "class Alhazen(Alhazen):\n",
    "    def friendly_decision_tree(self, tree = None):\n",
    "        return friendly_decision_tree(tree or self.last_tree(),\n",
    "                                      self.all_feature_names())"
   ]
  },
  {
   "cell_type": "markdown",
   "metadata": {
    "slideshow": {
     "slide_type": "slide"
    }
   },
   "source": [
    "## A Sample Run"
   ]
  },
  {
   "cell_type": "markdown",
   "metadata": {
    "slideshow": {
     "slide_type": "fragment"
    }
   },
   "source": [
    "We can finally run _Alhazen_!"
   ]
  },
  {
   "cell_type": "markdown",
   "metadata": {
    "slideshow": {
     "slide_type": "fragment"
    }
   },
   "source": [
    "Set the number of refinement iterations and the timeout for the input generator.\n",
    "The execution time of Alhazen mainly depends on the number of iterations."
   ]
  },
  {
   "cell_type": "code",
   "execution_count": 100,
   "metadata": {
    "execution": {
     "iopub.execute_input": "2025-01-13T14:55:29.812710Z",
     "iopub.status.busy": "2025-01-13T14:55:29.812630Z",
     "iopub.status.idle": "2025-01-13T14:55:29.814163Z",
     "shell.execute_reply": "2025-01-13T14:55:29.813952Z"
    },
    "slideshow": {
     "slide_type": "fragment"
    }
   },
   "outputs": [],
   "source": [
    "MAX_ITERATIONS = 20\n",
    "GENERATOR_TIMEOUT = 10 # timeout in seconds"
   ]
  },
  {
   "cell_type": "markdown",
   "metadata": {
    "slideshow": {
     "slide_type": "fragment"
    }
   },
   "source": [
    "We initialize Alhazen with the previously used `initial_sample_list`:"
   ]
  },
  {
   "cell_type": "code",
   "execution_count": 101,
   "metadata": {
    "execution": {
     "iopub.execute_input": "2025-01-13T14:55:29.815338Z",
     "iopub.status.busy": "2025-01-13T14:55:29.815242Z",
     "iopub.status.idle": "2025-01-13T14:55:29.817134Z",
     "shell.execute_reply": "2025-01-13T14:55:29.816921Z"
    },
    "slideshow": {
     "slide_type": "fragment"
    }
   },
   "outputs": [
    {
     "data": {
      "text/plain": [
       "['sqrt(-16)', 'sqrt(4)']"
      ]
     },
     "execution_count": 101,
     "metadata": {},
     "output_type": "execute_result"
    }
   ],
   "source": [
    "initial_sample_list"
   ]
  },
  {
   "cell_type": "markdown",
   "metadata": {
    "slideshow": {
     "slide_type": "subslide"
    }
   },
   "source": [
    "And here we go! When initialized with `verbose=True`, Alhazen prints its progress during execution, issuing for each iteration\n",
    "\n",
    "* the last decision tree\n",
    "* the new input specification resulting from the tree\n",
    "* the new samples satisfying the input specification."
   ]
  },
  {
   "cell_type": "code",
   "execution_count": 102,
   "metadata": {
    "execution": {
     "iopub.execute_input": "2025-01-13T14:55:29.818285Z",
     "iopub.status.busy": "2025-01-13T14:55:29.818212Z",
     "iopub.status.idle": "2025-01-13T14:56:35.211788Z",
     "shell.execute_reply": "2025-01-13T14:56:35.211499Z"
    },
    "slideshow": {
     "slide_type": "subslide"
    }
   },
   "outputs": [
    {
     "name": "stdout",
     "output_type": "stream",
     "text": [
      "Features: exists(<start>), <start> == '<function>(<term>)', exists(<function>), <function> == 'sqrt', <function> == 'tan', <function> == 'cos', <function> == 'sin', exists(<term>), <term> == '-<value>', <term> == '<value>', exists(<value>), <value> == '<integer>.<digits>', <value> == '<integer>', exists(<integer>), <integer> == '<lead-digit><digits>', <integer> == '<digit>', exists(<digits>), <digits> == '<digit><digits>', <digits> == '<digit>', exists(<lead-digit>), <lead-digit> == '1', <lead-digit> == '2', <lead-digit> == '3', <lead-digit> == '4', <lead-digit> == '5', <lead-digit> == '6', <lead-digit> == '7', <lead-digit> == '8', <lead-digit> == '9', exists(<digit>), <digit> == '0', <digit> == '1', <digit> == '2', <digit> == '3', <digit> == '4', <digit> == '5', <digit> == '6', <digit> == '7', <digit> == '8', <digit> == '9', <term>, <value>, <lead-digit>, <digit>, <digits>, <integer>\n",
      "\n",
      "Iteration #1\n",
      "  Decision Tree:\n",
      "    if <integer> == '<lead-digit><digits>':\n",
      "      BUG\n",
      "    else:\n",
      "      NO_BUG\n",
      "\n",
      "  New input specifications:\n",
      "    <integer> == '<lead-digit><digits>'\n",
      "    <integer> == '<lead-digit><digits>'\n"
     ]
    },
    {
     "name": "stdout",
     "output_type": "stream",
     "text": [
      "  New samples:\n",
      "    tan(85), sqrt(8.90)\n",
      "\n",
      "Iteration #2\n",
      "  Decision Tree:\n",
      "    if <term> <= -6.0000:\n",
      "      BUG\n",
      "    else:\n",
      "      NO_BUG\n",
      "\n",
      "  New input specifications:\n",
      "    <term> > -6.0\n",
      "    <term> <= -6.0\n"
     ]
    },
    {
     "name": "stdout",
     "output_type": "stream",
     "text": [
      "  New samples:\n",
      "    sin(19), tan(-856427.34926)\n",
      "\n",
      "Iteration #3\n",
      "  Decision Tree:\n",
      "    if <digit> == '6':\n",
      "      if <digit> == '7':\n",
      "        NO_BUG\n",
      "      else:\n",
      "        BUG\n",
      "    else:\n",
      "      NO_BUG\n",
      "\n",
      "  New input specifications:\n",
      "    <digit> == '6' and <digit> == '7'\n",
      "    <digit> == '6' and <digit> == '7'\n",
      "    <digit> == '6'\n",
      "    <digit> == '6'\n",
      "    <digit> == '6' and <digit> == '7'\n",
      "    <digit> == '6' and <digit> == '7'\n"
     ]
    },
    {
     "name": "stdout",
     "output_type": "stream",
     "text": [
      "  New samples:\n",
      "    tan(-6.12), sqrt(-9), sqrt(-7.274), sqrt(-6.9217), tan(6.0074), cos(-637.88)\n",
      "\n",
      "Iteration #4\n",
      "  Decision Tree:\n",
      "    if <digits> <= 7.5000:\n",
      "      if <function> == 'sqrt':\n",
      "        BUG\n",
      "      else:\n",
      "        NO_BUG\n",
      "    else:\n",
      "      NO_BUG\n",
      "\n",
      "  New input specifications:\n",
      "    <digits> > 7.5\n",
      "    <function> == 'sqrt' and <digits> > 7.5\n",
      "    <function> == 'sqrt' and <digits> > 7.5\n",
      "    <digits> <= 7.5\n",
      "    <function> == 'sqrt' and <digits> <= 7.5\n",
      "    <function> == 'sqrt' and <digits> <= 7.5\n"
     ]
    },
    {
     "name": "stdout",
     "output_type": "stream",
     "text": [
      "  New samples:\n",
      "    tan(-66.4333), tan(2.96), sqrt(-422.2), tan(-64.0), sin(-81), sqrt(-4.5)\n",
      "\n",
      "Iteration #5\n",
      "  Decision Tree:\n",
      "    if <lead-digit> == '1':\n",
      "      if <digit> == '6':\n",
      "        BUG\n",
      "      else:\n",
      "        NO_BUG\n",
      "    else:\n",
      "      NO_BUG\n",
      "\n",
      "  New input specifications:\n",
      "    <digit> == '6' and <lead-digit> == '1'\n",
      "    <digit> == '6' and <lead-digit> == '1'\n",
      "    <digit> == '6' and <lead-digit> == '1'\n",
      "    <digit> == '6' and <lead-digit> == '1'\n",
      "    <lead-digit> == '1'\n",
      "    <lead-digit> == '1'\n"
     ]
    },
    {
     "name": "stdout",
     "output_type": "stream",
     "text": [
      "  New samples:\n",
      "    tan(-5.92726), sin(-405862), tan(-96), sin(-31640.20), sqrt(190.5), cos(6.301), tan(-33.64), cos(7560), cos(0.6), tan(8962), cos(1550), cos(55.6), cos(604.6), tan(67.8162), sin(3896.4), sin(-6.32), sqrt(77.12663), sin(-307940.6), cos(17.3593), tan(6), tan(456.4), sqrt(-7803.659), tan(-74.536), tan(6541.86), cos(-28), sqrt(14.800), sqrt(5743), tan(-12)\n",
      "\n",
      "Iteration #6\n",
      "  Decision Tree:\n",
      "    if <lead-digit> <= 1.5000:\n",
      "      if <term> <= -14.0000:\n",
      "        BUG\n",
      "      else:\n",
      "        NO_BUG\n",
      "    else:\n",
      "      NO_BUG\n",
      "\n",
      "  New input specifications:\n",
      "    <lead-digit> <= 1.5 and <term> <= -14.0\n",
      "    <lead-digit> <= 1.5 and <term> > -14.0\n",
      "    <lead-digit> > 1.5\n",
      "    <lead-digit> > 1.5 and <term> <= -14.0\n",
      "    <lead-digit> > 1.5 and <term> > -14.0\n",
      "    <lead-digit> <= 1.5\n"
     ]
    },
    {
     "name": "stdout",
     "output_type": "stream",
     "text": [
      "  New samples:\n",
      "    sqrt(-155.9), cos(14102), cos(-4699), tan(-7144), tan(55589), sin(14.4)\n",
      "\n",
      "Iteration #7\n",
      "  Decision Tree:\n",
      "    if <lead-digit> <= 1.5000:\n",
      "      if <digit> == '6':\n",
      "        BUG\n",
      "      else:\n",
      "        if <digits> <= 3.0000:\n",
      "          NO_BUG\n",
      "        else:\n",
      "          NO_BUG\n",
      "    else:\n",
      "      NO_BUG\n",
      "\n",
      "  New input specifications:\n",
      "    <digit> == '6' and <digits> > 3.0 and <lead-digit> > 1.5\n",
      "    <digit> == '6' and <lead-digit> <= 1.5\n",
      "    <digit> == '6' and <digits> <= 3.0 and <lead-digit> > 1.5\n",
      "    <digit> == '6' and <digits> <= 3.0 and <lead-digit> <= 1.5\n",
      "    <digit> == '6' and <digits> > 3.0 and <lead-digit> <= 1.5\n",
      "    <lead-digit> > 1.5\n",
      "    <digit> == '6' and <lead-digit> <= 1.5\n",
      "    <digit> == '6' and <lead-digit> > 1.5\n",
      "    <lead-digit> <= 1.5\n"
     ]
    },
    {
     "name": "stdout",
     "output_type": "stream",
     "text": [
      "  New samples:\n",
      "    sin(74), tan(-193.5), tan(91), sqrt(11), sin(-17), cos(943.1164), tan(7.6), sin(-67719.6460), sin(-6.7), tan(-5.26), tan(9902.6), sin(-6), sqrt(34293.162), cos(36.48), tan(188), sqrt(-6), cos(-6.6), sqrt(46.1713), cos(-6), sqrt(-6.2), cos(-6), cos(976), cos(2076), tan(-2.6), tan(-9282611668.09), sqrt(867), tan(6.0356), tan(-56.3984), tan(175.17)\n",
      "\n",
      "Iteration #8\n",
      "  Decision Tree:\n",
      "    if <lead-digit> == '1':\n",
      "      if <digit> == '6':\n",
      "        BUG\n",
      "      else:\n",
      "        NO_BUG\n",
      "    else:\n",
      "      NO_BUG\n",
      "\n",
      "  New input specifications:\n",
      "    <digit> == '6' and <lead-digit> == '1'\n",
      "    <digit> == '6' and <lead-digit> == '1'\n",
      "    <digit> == '6' and <lead-digit> == '1'\n",
      "    <digit> == '6' and <lead-digit> == '1'\n",
      "    <lead-digit> == '1'\n",
      "    <lead-digit> == '1'\n"
     ]
    },
    {
     "name": "stdout",
     "output_type": "stream",
     "text": [
      "  New samples:\n",
      "    sqrt(99236), cos(11.516695), tan(-1), sin(17813), cos(9), tan(183.92)\n",
      "\n",
      "Iteration #9\n",
      "  Decision Tree:\n",
      "    if <lead-digit> <= 1.5000:\n",
      "      if <digit> == '6':\n",
      "        if <integer> <= 13.5000:\n",
      "          NO_BUG\n",
      "        else:\n",
      "          BUG\n",
      "      else:\n",
      "        NO_BUG\n",
      "    else:\n",
      "      if <value> <= 0.8000:\n",
      "        NO_BUG\n",
      "      else:\n",
      "        NO_BUG\n",
      "\n",
      "  New input specifications:\n",
      "    <lead-digit> <= 1.5 and <value> <= 0.800000011920929\n",
      "    <lead-digit> <= 1.5 and <value> > 0.800000011920929\n",
      "    <digit> == '6' and <lead-digit> <= 1.5\n",
      "    <digit> == '6' and <lead-digit> > 1.5\n",
      "    <lead-digit> > 1.5 and <value> <= 0.800000011920929\n",
      "    <lead-digit> > 1.5 and <value> > 0.800000011920929\n",
      "    <digit> == '6' and <lead-digit> <= 1.5\n",
      "    <digit> == '6' and <integer> > 13.5 and <lead-digit> <= 1.5\n",
      "    <digit> == '6' and <integer> <= 13.5 and <lead-digit> > 1.5\n",
      "    <digit> == '6' and <integer> > 13.5 and <lead-digit> > 1.5\n",
      "    <digit> == '6' and <integer> <= 13.5 and <lead-digit> <= 1.5\n"
     ]
    },
    {
     "name": "stdout",
     "output_type": "stream",
     "text": [
      "  New samples:\n",
      "    sin(182.41), cos(-18464.84), sqrt(-1098), tan(-181.653), sqrt(130.3), sqrt(-198.1), tan(-0.68), cos(129.8), tan(1038), sin(-151.74), tan(-47), tan(-27.45437), sqrt(-30), sin(23), sin(-0), sin(695889.5), sqrt(-45), sqrt(676.5), cos(-53.09), sin(68412.55), sqrt(-2768359), sin(0), sqrt(-8252.8), tan(-91139.9733), cos(453), sin(-36), tan(0.3), tan(-675742.6), tan(712), sqrt(-8365), sqrt(51.3), sin(57.8), sqrt(-50.634), tan(0), sqrt(-59), cos(-0.7), sqrt(5752), tan(65), tan(-90787), cos(-0.0), sqrt(-672355824.15), tan(-48), cos(9048.3), cos(-61.7), tan(90), cos(545.587), sin(-35.0), tan(3643), tan(73.8304), tan(-68), sin(50), sin(6649.232), cos(-386.8), cos(-918.0), sqrt(-76), sqrt(68.00657), tan(-20.7), tan(-67.10), sin(44.50), sqrt(-26), sin(71.9), tan(-47.129), cos(-674), tan(28.0), sqrt(829958.0), sqrt(54.3), cos(43), cos(-3951781), sin(18694946), cos(-1611), sin(-6.098), cos(-6), sqrt(-23.6126), sqrt(-1.06), sin(-3436071), cos(-2876), tan(-79.69), cos(-78.6), sqrt(656.7), tan(37566.9), sin(6.5), cos(-96), sin(8.568), cos(-26), cos(-8.516), tan(6), cos(-6), sqrt(616371.7), sqrt(-5.56), sqrt(-6.532), sin(-6.05), cos(87.6), tan(726.207), sqrt(-7.630743), tan(-1.60), sin(-606.21), cos(-38456), tan(-7.96), tan(-16), tan(16413), cos(-1645), sqrt(-6), cos(-6.1), cos(-167.1), cos(6), tan(-6.70), sqrt(-5.613)\n",
      "\n",
      "Iteration #10\n",
      "  Decision Tree:\n",
      "    if <function> == 'sqrt':\n",
      "      if <lead-digit> <= 3.5000:\n",
      "        if <digit> == '6':\n",
      "          if <digit> == '9':\n",
      "            if <lead-digit> == '2':\n",
      "              NO_BUG\n",
      "            else:\n",
      "              NO_BUG\n",
      "          else:\n",
      "            BUG\n",
      "        else:\n",
      "          if <term> <= -648.0500:\n",
      "            NO_BUG\n",
      "          else:\n",
      "            NO_BUG\n",
      "      else:\n",
      "        if <lead-digit> == '3':\n",
      "          BUG\n",
      "        else:\n",
      "          if <lead-digit> == '6':\n",
      "            NO_BUG\n",
      "          else:\n",
      "            NO_BUG\n",
      "    else:\n",
      "      if <lead-digit> == '3':\n",
      "        NO_BUG\n",
      "      else:\n",
      "        NO_BUG\n",
      "\n"
     ]
    },
    {
     "name": "stdout",
     "output_type": "stream",
     "text": [
      "  New input specifications:\n",
      "    <function> == 'sqrt' and <lead-digit> == '3' and <lead-digit> > 3.5\n",
      "    <function> == 'sqrt' and <lead-digit> == '3' and <lead-digit> == '6' and <lead-digit> > 3.5\n",
      "    <digit> == '6' and <function> == 'sqrt' and <lead-digit> > 3.5 and <term> <= -648.0500030517578\n",
      "    <digit> == '6' and <function> == 'sqrt' and <lead-digit> <= 3.5 and <term> > -648.0500030517578\n",
      "    <digit> == '6' and <digit> == '9' and <function> == 'sqrt' and <lead-digit> <= 3.5\n",
      "    <digit> == '6' and <function> == 'sqrt' and <lead-digit> <= 3.5 and <term> <= -648.0500030517578\n",
      "    <digit> == '6' and <digit> == '9' and <function> == 'sqrt' and <lead-digit> > 3.5\n",
      "    <function> == 'sqrt' and <lead-digit> == '3' and <lead-digit> == '6' and <lead-digit> > 3.5\n",
      "    <digit> == '6' and <digit> == '9' and <function> == 'sqrt' and <lead-digit> == '2' and <lead-digit> > 3.5\n",
      "    <digit> == '6' and <digit> == '9' and <function> == 'sqrt' and <lead-digit> == '2' and <lead-digit> <= 3.5\n",
      "    <digit> == '6' and <function> == 'sqrt' and <lead-digit> <= 3.5 and <term> > -648.0500030517578\n",
      "    <function> == 'sqrt' and <lead-digit> == '3' and <lead-digit> == '6' and <lead-digit> > 3.5\n",
      "    <function> == 'sqrt' and <lead-digit> == '3' and <lead-digit> > 3.5\n",
      "    <digit> == '6' and <digit> == '9' and <function> == 'sqrt' and <lead-digit> == '2' and <lead-digit> > 3.5\n",
      "    <function> == 'sqrt' and <lead-digit> == '3' and <lead-digit> == '6' and <lead-digit> <= 3.5\n",
      "    <function> == 'sqrt' and <lead-digit> == '3' and <lead-digit> <= 3.5\n",
      "    <function> == 'sqrt' and <lead-digit> == '3' and <lead-digit> == '6' and <lead-digit> > 3.5\n",
      "    <digit> == '6' and <digit> == '9' and <function> == 'sqrt' and <lead-digit> == '2' and <lead-digit> <= 3.5\n",
      "    <digit> == '6' and <digit> == '9' and <function> == 'sqrt' and <lead-digit> > 3.5\n",
      "    <digit> == '6' and <digit> == '9' and <function> == 'sqrt' and <lead-digit> == '2' and <lead-digit> <= 3.5\n",
      "    <function> == 'sqrt' and <lead-digit> == '3'\n",
      "    <digit> == '6' and <digit> == '9' and <function> == 'sqrt' and <lead-digit> <= 3.5\n",
      "    <digit> == '6' and <function> == 'sqrt' and <lead-digit> <= 3.5 and <term> <= -648.0500030517578\n",
      "    <digit> == '6' and <digit> == '9' and <function> == 'sqrt' and <lead-digit> == '2' and <lead-digit> <= 3.5\n",
      "    <digit> == '6' and <digit> == '9' and <function> == 'sqrt' and <lead-digit> <= 3.5\n",
      "    <digit> == '6' and <digit> == '9' and <function> == 'sqrt' and <lead-digit> == '2' and <lead-digit> > 3.5\n",
      "    <function> == 'sqrt' and <lead-digit> == '3' and <lead-digit> <= 3.5\n",
      "    <function> == 'sqrt' and <lead-digit> == '3'\n",
      "    <function> == 'sqrt' and <lead-digit> == '3' and <lead-digit> == '6' and <lead-digit> <= 3.5\n",
      "    <function> == 'sqrt' and <lead-digit> == '3'\n",
      "    <digit> == '6' and <digit> == '9' and <function> == 'sqrt' and <lead-digit> == '2' and <lead-digit> > 3.5\n",
      "    <digit> == '6' and <digit> == '9' and <function> == 'sqrt' and <lead-digit> == '2' and <lead-digit> > 3.5\n",
      "    <digit> == '6' and <digit> == '9' and <function> == 'sqrt' and <lead-digit> == '2' and <lead-digit> <= 3.5\n",
      "    <digit> == '6' and <digit> == '9' and <function> == 'sqrt' and <lead-digit> == '2' and <lead-digit> <= 3.5\n",
      "    <function> == 'sqrt' and <lead-digit> == '3'\n",
      "    <digit> == '6' and <digit> == '9' and <function> == 'sqrt' and <lead-digit> == '2' and <lead-digit> > 3.5\n",
      "    <digit> == '6' and <function> == 'sqrt' and <lead-digit> > 3.5 and <term> > -648.0500030517578\n"
     ]
    },
    {
     "name": "stdout",
     "output_type": "stream",
     "text": [
      "  New samples:\n",
      "    sqrt(43.914867), sqrt(96229), sqrt(-80), sqrt(44), sqrt(8610.2), sqrt(-81.22), sqrt(-7845), sqrt(-7142), sqrt(-614), sqrt(-89.9), sqrt(81), sqrt(72.2), sqrt(-99), sqrt(5132), tan(-84394.4), sin(-7428), sin(-9488), sqrt(55), sqrt(-34), sqrt(6.8), tan(1365.82), sqrt(-7.946), sqrt(76), sqrt(-0.897631), cos(-24.46325), sqrt(-6.1), sqrt(2.6), sqrt(664.5), sqrt(25.89), sqrt(29), sqrt(-106.6), sqrt(-350162), sqrt(-8867), sqrt(56), cos(-5169487), sqrt(-63590), tan(-898.6), sqrt(-451750.63), sqrt(-63429923.1), sqrt(-7889.4), sqrt(-29.221), sqrt(39303.4), sqrt(540), sqrt(-37.2), sqrt(-31), sqrt(86), sqrt(7689.7), sqrt(604), sqrt(34), sqrt(79445622.5), sqrt(-8995), tan(15), cos(-17514909), cos(1115), sin(-1954.81), tan(-21), tan(-20.0), sqrt(421), sin(1418), sqrt(-0.48), sqrt(6), sqrt(-5.43), cos(-12.3), sqrt(-47), sin(-10.53), sqrt(445.94), cos(-180.84), sqrt(6.3729394), sqrt(9), sqrt(40.7), cos(-18.4), sqrt(5), tan(192), sqrt(-3.7), sqrt(0), sqrt(-36.0), sqrt(-62), sqrt(-274.2), sqrt(-252.4), sqrt(914.88), sqrt(420), cos(-51.6), sin(46.4583), sqrt(-8741), sqrt(67.415), tan(66.8), sqrt(-98145), sqrt(-91705.70), tan(568.0), sqrt(-384.6), sqrt(5.096), sqrt(-60), sqrt(14), sin(-3784.2), sqrt(34588), sin(-37780), tan(-12813.7), sqrt(-2456.213221), sqrt(-17069), sqrt(67.30396), sqrt(-15), cos(-39), sqrt(-10.9), sqrt(-64), sqrt(-24), sqrt(-691), sqrt(-69), sqrt(2597.81), sqrt(-252802), cos(8891), sqrt(-6676.8), sqrt(599), sqrt(-46.8), sqrt(534883.0467), sqrt(66), sqrt(-164), sqrt(18.72080), sqrt(6439), sqrt(9), sqrt(5.939), sqrt(-549), sqrt(143.8823), sqrt(49.4), sqrt(313), sqrt(56.04), sqrt(63)\n",
      "\n",
      "Iteration #11\n",
      "  Decision Tree:\n",
      "    if <lead-digit> <= 3.5000:\n",
      "      if <function> == 'sqrt':\n",
      "        if <value> <= 71.9000:\n",
      "          if <term> <= -12.9500:\n",
      "            BUG\n",
      "          else:\n",
      "            if <digit> == '4':\n",
      "              NO_BUG\n",
      "            else:\n",
      "              NO_BUG\n",
      "        else:\n",
      "          NO_BUG\n",
      "      else:\n",
      "        if <digits>:\n",
      "          NO_BUG\n",
      "        else:\n",
      "          NO_BUG\n",
      "    else:\n",
      "      if <lead-digit> <= 4.5000:\n",
      "        NO_BUG\n",
      "      else:\n",
      "        NO_BUG\n",
      "\n"
     ]
    },
    {
     "name": "stdout",
     "output_type": "stream",
     "text": [
      "  New input specifications:\n",
      "    <function> == 'sqrt' and <lead-digit> > 3.5 and <value> <= 71.89999961853027\n",
      "    <digit> == '4' and <function> == 'sqrt' and <lead-digit> > 3.5 and <term> > -12.949999809265137 and <value> > 71.89999961853027\n",
      "    <lead-digit> > 4.5\n",
      "    <lead-digit> <= 4.5\n",
      "    <function> == 'sqrt' and <lead-digit> <= 3.5 and <value> > 71.89999961853027\n",
      "    <function> == 'sqrt' and <lead-digit> <= 3.5 and <term> <= -12.949999809265137 and <value> > 71.89999961853027\n",
      "    <function> == 'sqrt' and <digits> <= 0.5 and <lead-digit> > 3.5\n",
      "    <digit> == '4' and <function> == 'sqrt' and <lead-digit> <= 3.5 and <term> > -12.949999809265137 and <value> <= 71.89999961853027\n",
      "    <function> == 'sqrt' and <lead-digit> > 3.5 and <term> <= -12.949999809265137 and <value> > 71.89999961853027\n",
      "    <digit> == '4' and <function> == 'sqrt' and <lead-digit> <= 3.5 and <term> > -12.949999809265137 and <value> > 71.89999961853027\n",
      "    <digit> == '4' and <function> == 'sqrt' and <lead-digit> > 3.5 and <term> <= -12.949999809265137 and <value> <= 71.89999961853027\n",
      "    <digit> == '4' and <function> == 'sqrt' and <lead-digit> <= 3.5 and <term> <= -12.949999809265137 and <value> <= 71.89999961853027\n",
      "    <digit> == '4' and <function> == 'sqrt' and <lead-digit> > 3.5 and <term> <= -12.949999809265137 and <value> <= 71.89999961853027\n",
      "    <digit> == '4' and <function> == 'sqrt' and <lead-digit> <= 3.5 and <term> <= -12.949999809265137 and <value> <= 71.89999961853027\n",
      "    <function> == 'sqrt' and <lead-digit> > 3.5 and <value> > 71.89999961853027\n",
      "    <digit> == '4' and <function> == 'sqrt' and <lead-digit> <= 3.5 and <term> > -12.949999809265137 and <value> <= 71.89999961853027\n",
      "    <function> == 'sqrt' and <digits> > 0.5 and <lead-digit> <= 3.5\n",
      "    <digit> == '4' and <function> == 'sqrt' and <lead-digit> > 3.5 and <term> > -12.949999809265137 and <value> > 71.89999961853027\n",
      "    <function> == 'sqrt' and <digits> > 0.5 and <lead-digit> > 3.5\n",
      "    <digit> == '4' and <function> == 'sqrt' and <lead-digit> > 3.5 and <term> > -12.949999809265137 and <value> <= 71.89999961853027\n",
      "    <digit> == '4' and <function> == 'sqrt' and <lead-digit> <= 3.5 and <term> > -12.949999809265137 and <value> > 71.89999961853027\n",
      "    <function> == 'sqrt' and <lead-digit> <= 3.5 and <term> <= -12.949999809265137 and <value> <= 71.89999961853027\n",
      "    <digit> == '4' and <function> == 'sqrt' and <lead-digit> > 3.5 and <term> > -12.949999809265137 and <value> <= 71.89999961853027\n",
      "    <function> == 'sqrt' and <lead-digit> <= 3.5 and <term> > -12.949999809265137 and <value> <= 71.89999961853027\n",
      "    <function> == 'sqrt' and <lead-digit> <= 3.5 and <value> <= 71.89999961853027\n",
      "    <function> == 'sqrt' and <digits> <= 0.5 and <lead-digit> <= 3.5\n",
      "    <function> == 'sqrt' and <lead-digit> > 3.5 and <term> <= -12.949999809265137 and <value> <= 71.89999961853027\n"
     ]
    },
    {
     "name": "stdout",
     "output_type": "stream",
     "text": [
      "  New samples:\n",
      "    sqrt(-60.0), sqrt(768), sqrt(55.593), cos(-43.12), sqrt(350), sqrt(-39.74), sin(-129), sqrt(190), sin(-11083), cos(-275), cos(-382.2825), sqrt(-448849.0), sqrt(-8670.1), sqrt(-60204.20), cos(-209465), sqrt(-30.78), tan(461), sin(73), tan(-30), tan(-754930.3), cos(-95), tan(-85), sin(86.6), cos(-94.8), cos(844.0), cos(785), cos(546), sin(4313), cos(-59.7), sin(20), tan(-994.79), cos(582.1), tan(450), sin(807994), cos(-59), tan(8957), tan(-7172103), sin(-68), tan(-56), tan(-9857), tan(1.0), sin(97), sin(93.461), sin(55.0), sin(-79), cos(-6313), sin(-678.5), sqrt(3.534), sqrt(42.4), sqrt(6.346), sqrt(-4.7), sqrt(152.4), sqrt(367574), sqrt(-85), tan(167), sqrt(7667.0), cos(3316), sqrt(866.8), cos(355.6), sqrt(26), sqrt(-10.8), sqrt(9933.3), sqrt(659), sin(3109.98), sqrt(-84.0), tan(-54), sqrt(-47.93), sin(-44.0), cos(-66.64), sqrt(69.44), sqrt(-37), sqrt(-493.09), sqrt(61.038), tan(-57), cos(-51), sqrt(-7518.99), sqrt(48.2), sqrt(-518), sqrt(-739), sqrt(-77.0), sqrt(-22.0), sqrt(-9357.495957044), sin(31), sin(35.11), sin(13), tan(29.23), sqrt(6), sqrt(-0), sqrt(-22.6), sqrt(-1), sin(27.77), sqrt(-7), tan(-11), sqrt(7.5), sqrt(9), sqrt(-1), sqrt(-1.061), sin(12), sqrt(-9), sqrt(-2.3), cos(225), cos(73.427), sqrt(8175501), sqrt(8263129818), cos(5400.5), cos(443), tan(-50.78), sqrt(68.2), sqrt(14901.9771971), sqrt(-35), sqrt(-71.49), sin(44), sqrt(-54.9), sqrt(-4.1), sqrt(53.56), sin(54), sqrt(9.97), sqrt(-4.82904), sqrt(0), sqrt(-7), cos(31), sqrt(-2), sqrt(-9.753), sin(26), sin(13.7876), sqrt(5.940), sqrt(8), sqrt(-3.59442), sqrt(4), sqrt(8.6), sqrt(309.0), sqrt(-35.10), sqrt(-8.39), sqrt(-15.82), sqrt(-24), sqrt(-8), cos(20), sqrt(33), sin(31296.19), tan(306), cos(-9.0), sin(-38403.17), cos(-17), sin(35.45), tan(13), tan(-1.0), tan(-398.97), cos(293.06), cos(-372.2), tan(-38), cos(36.1), sqrt(-62.4)\n",
      "\n",
      "Iteration #12\n",
      "  Decision Tree:\n",
      "    if <lead-digit> <= 3.5000:\n",
      "      if <function> == 'sqrt':\n",
      "        if <integer> <= 72.5000:\n",
      "          if <term> <= -12.9500:\n",
      "            BUG\n",
      "          else:\n",
      "            if <digit> == '2':\n",
      "              NO_BUG\n",
      "            else:\n",
      "              NO_BUG\n",
      "        else:\n",
      "          if <lead-digit> == '2':\n",
      "            NO_BUG\n",
      "          else:\n",
      "            NO_BUG\n",
      "      else:\n",
      "        NO_BUG\n",
      "    else:\n",
      "      if <value> == '<integer>':\n",
      "        NO_BUG\n",
      "      else:\n",
      "        NO_BUG\n",
      "\n"
     ]
    },
    {
     "name": "stdout",
     "output_type": "stream",
     "text": [
      "  New input specifications:\n",
      "    <digit> == '2' and <function> == 'sqrt' and <integer> <= 72.5 and <lead-digit> > 3.5 and <term> > -12.949999809265137\n",
      "    <function> == 'sqrt' and <lead-digit> == '2' and <integer> <= 72.5 and <lead-digit> <= 3.5\n",
      "    <function> == 'sqrt' and <integer> > 72.5 and <lead-digit> <= 3.5 and <term> <= -12.949999809265137\n",
      "    <digit> == '2' and <function> == 'sqrt' and <integer> <= 72.5 and <lead-digit> <= 3.5 and <term> <= -12.949999809265137\n",
      "    <value> == '<integer>' and <lead-digit> <= 3.5\n",
      "    <digit> == '2' and <function> == 'sqrt' and <integer> > 72.5 and <lead-digit> <= 3.5 and <term> > -12.949999809265137\n",
      "    <function> == 'sqrt' and <lead-digit> <= 3.5\n",
      "    <digit> == '2' and <function> == 'sqrt' and <integer> > 72.5 and <lead-digit> > 3.5 and <term> > -12.949999809265137\n",
      "    <digit> == '2' and <function> == 'sqrt' and <integer> <= 72.5 and <lead-digit> <= 3.5 and <term> > -12.949999809265137\n",
      "    <function> == 'sqrt' and <lead-digit> == '2' and <integer> <= 72.5 and <lead-digit> > 3.5\n",
      "    <digit> == '2' and <function> == 'sqrt' and <integer> > 72.5 and <lead-digit> <= 3.5 and <term> > -12.949999809265137\n",
      "    <function> == 'sqrt' and <lead-digit> > 3.5\n",
      "    <value> == '<integer>' and <lead-digit> > 3.5\n",
      "    <function> == 'sqrt' and <lead-digit> <= 3.5\n",
      "    <function> == 'sqrt' and <lead-digit> == '2' and <integer> <= 72.5 and <lead-digit> > 3.5\n",
      "    <value> == '<integer>' and <lead-digit> <= 3.5\n",
      "    <function> == 'sqrt' and <lead-digit> == '2' and <integer> > 72.5 and <lead-digit> > 3.5\n",
      "    <function> == 'sqrt' and <integer> <= 72.5 and <lead-digit> <= 3.5 and <term> > -12.949999809265137\n",
      "    <function> == 'sqrt' and <lead-digit> == '2' and <integer> <= 72.5 and <lead-digit> <= 3.5\n",
      "    <function> == 'sqrt' and <integer> <= 72.5 and <lead-digit> <= 3.5 and <term> <= -12.949999809265137\n",
      "    <function> == 'sqrt' and <integer> <= 72.5 and <lead-digit> > 3.5 and <term> <= -12.949999809265137\n",
      "    <function> == 'sqrt' and <integer> > 72.5 and <lead-digit> > 3.5 and <term> <= -12.949999809265137\n",
      "    <digit> == '2' and <function> == 'sqrt' and <integer> <= 72.5 and <lead-digit> <= 3.5 and <term> > -12.949999809265137\n",
      "    <function> == 'sqrt' and <lead-digit> == '2' and <integer> > 72.5 and <lead-digit> <= 3.5\n",
      "    <digit> == '2' and <function> == 'sqrt' and <integer> <= 72.5 and <lead-digit> > 3.5 and <term> > -12.949999809265137\n",
      "    <digit> == '2' and <function> == 'sqrt' and <integer> > 72.5 and <lead-digit> > 3.5 and <term> > -12.949999809265137\n",
      "    <value> == '<integer>' and <lead-digit> > 3.5\n",
      "    <function> == 'sqrt' and <lead-digit> == '2' and <integer> > 72.5 and <lead-digit> > 3.5\n",
      "    <digit> == '2' and <function> == 'sqrt' and <integer> > 72.5 and <lead-digit> <= 3.5 and <term> <= -12.949999809265137\n",
      "    <digit> == '2' and <function> == 'sqrt' and <integer> > 72.5 and <lead-digit> <= 3.5 and <term> <= -12.949999809265137\n",
      "    <function> == 'sqrt' and <lead-digit> == '2' and <integer> > 72.5 and <lead-digit> <= 3.5\n",
      "    <digit> == '2' and <function> == 'sqrt' and <integer> <= 72.5 and <lead-digit> <= 3.5 and <term> <= -12.949999809265137\n"
     ]
    },
    {
     "name": "stdout",
     "output_type": "stream",
     "text": [
      "  New samples:\n",
      "    sqrt(7), sqrt(36.4), sqrt(8), sqrt(7), sqrt(-63.7), sqrt(-9), sqrt(583), sqrt(91.3), sqrt(6), sqrt(6.48), sqrt(7.73), sin(44.89543), sqrt(-1), sqrt(-0), sqrt(-8.464), sqrt(-41), sqrt(-3.04), sqrt(-8), sqrt(7.8), sqrt(3.7), sqrt(19), sqrt(-21519), sqrt(-24.186), tan(38051), cos(2196), cos(103.61), tan(3638.351), sqrt(905.4), cos(24788), sqrt(-269245), sqrt(98.94), sqrt(-2.93), sqrt(27), sqrt(-37.2), sqrt(2), sin(12.9), sqrt(-60.4), sqrt(127.7), cos(-56), sin(-46), tan(26.48), sqrt(55), sqrt(-62), cos(-215.3), sqrt(-96.4), sqrt(97), sqrt(680.890597), sqrt(681.0), sin(-10), sqrt(-3), sqrt(66.58), sqrt(4.6), sqrt(6), sqrt(4), sqrt(-9.2), sqrt(2.4), sqrt(-9.2901), sqrt(-7), sqrt(-2.49), sqrt(1), sqrt(3.7), sqrt(6.5), sqrt(-35.8), sqrt(-0), sqrt(6.1), sqrt(-5), sqrt(-5), sqrt(-4.0), sqrt(-4.46), sqrt(50.5), sqrt(-8.9), sqrt(6.8), sqrt(19.4), sqrt(13), tan(20), sin(26), sin(22), cos(20.4), sin(24), sqrt(34.15), sqrt(16.48), sqrt(-18), sqrt(-68), sqrt(-97163), sqrt(39.8), tan(-285.9), sin(226), tan(2117), sqrt(-2), sqrt(741.2), sqrt(-2), cos(52721), sqrt(97), sqrt(72), sqrt(86), cos(811.02), tan(875.482), tan(622.324), sqrt(995), sqrt(-928.2534), sqrt(-608165.2), cos(82047.9), tan(-88.7), sqrt(89866.3), sqrt(-28), sqrt(-26), sin(-255.0341), cos(-2787), cos(-3747), sqrt(-9483058854135952), sqrt(-179), sqrt(371), sqrt(-30962.7), sqrt(12.172), tan(-32.1)\n",
      "\n",
      "Iteration #13\n",
      "  Decision Tree:\n",
      "    if <term> <= -13.6500:\n",
      "      if <term> <= -42.0600:\n",
      "        if <digit> == '2':\n",
      "          NO_BUG\n",
      "        else:\n",
      "          NO_BUG\n",
      "      else:\n",
      "        if <function> == 'sqrt':\n",
      "          BUG\n",
      "        else:\n",
      "          NO_BUG\n",
      "    else:\n",
      "      NO_BUG\n",
      "\n",
      "  New input specifications:\n",
      "    <digit> == '2' and <term> > -42.05999946594238\n",
      "    <term> > -13.650000095367432\n",
      "    <digit> == '2' and <term> > -42.05999946594238\n",
      "    <digit> == '2' and <term> <= -42.05999946594238\n",
      "    <digit> == '2' and <term> <= -42.05999946594238\n",
      "    <term> <= -13.650000095367432\n"
     ]
    },
    {
     "name": "stdout",
     "output_type": "stream",
     "text": [
      "  New samples:\n",
      "    cos(-0.24), sqrt(8.24), sqrt(-7), tan(-43452), cos(-75.487638), tan(-1347)\n",
      "\n",
      "Iteration #14\n",
      "  Decision Tree:\n",
      "    if <term> <= -13.6500:\n",
      "      if <integer> <= 42.0000:\n",
      "        if <function> == 'sqrt':\n",
      "          BUG\n",
      "        else:\n",
      "          NO_BUG\n",
      "      else:\n",
      "        NO_BUG\n",
      "    else:\n",
      "      NO_BUG\n",
      "\n",
      "  New input specifications:\n",
      "    <term> > -13.650000095367432\n",
      "    <function> == 'sqrt' and <integer> <= 42.0 and <term> <= -13.650000095367432\n",
      "    <function> == 'sqrt' and <integer> <= 42.0 and <term> > -13.650000095367432\n",
      "    <integer> > 42.0 and <term> <= -13.650000095367432\n",
      "    <function> == 'sqrt' and <integer> <= 42.0 and <term> > -13.650000095367432\n",
      "    <function> == 'sqrt' and <integer> > 42.0 and <term> <= -13.650000095367432\n",
      "    <function> == 'sqrt' and <integer> > 42.0 and <term> > -13.650000095367432\n",
      "    <function> == 'sqrt' and <integer> > 42.0 and <term> <= -13.650000095367432\n",
      "    <function> == 'sqrt' and <integer> > 42.0 and <term> > -13.650000095367432\n",
      "    <integer> > 42.0 and <term> > -13.650000095367432\n",
      "    <term> <= -13.650000095367432\n",
      "    <integer> <= 42.0 and <term> <= -13.650000095367432\n",
      "    <function> == 'sqrt' and <integer> <= 42.0 and <term> <= -13.650000095367432\n"
     ]
    },
    {
     "name": "stdout",
     "output_type": "stream",
     "text": [
      "  New samples:\n",
      "    sin(27), tan(-14), sin(2), cos(-73.1), sqrt(-0.204), sqrt(-4704560.3), tan(774), tan(-484), sqrt(84), sin(41132.11), cos(-2421.70), cos(-26.77), sqrt(-30.2)\n",
      "\n",
      "Iteration #15\n",
      "  Decision Tree:\n",
      "    if <term> <= -14.5000:\n",
      "      if <value> <= 42.0600:\n",
      "        if <function> == 'sqrt':\n",
      "          if <digit> == '8':\n",
      "            BUG\n",
      "          else:\n",
      "            BUG\n",
      "        else:\n",
      "          NO_BUG\n",
      "      else:\n",
      "        NO_BUG\n",
      "    else:\n",
      "      NO_BUG\n",
      "\n"
     ]
    },
    {
     "name": "stdout",
     "output_type": "stream",
     "text": [
      "  New input specifications:\n",
      "    <digit> == '8' and <function> == 'sqrt' and <term> > -14.5 and <value> > 42.05999946594238\n",
      "    <digit> == '8' and <function> == 'sqrt' and <term> > -14.5 and <value> > 42.05999946594238\n",
      "    <term> <= -14.5 and <value> <= 42.05999946594238\n",
      "    <digit> == '8' and <function> == 'sqrt' and <term> <= -14.5 and <value> <= 42.05999946594238\n",
      "    <function> == 'sqrt' and <term> > -14.5 and <value> <= 42.05999946594238\n",
      "    <function> == 'sqrt' and <term> <= -14.5 and <value> > 42.05999946594238\n",
      "    <term> <= -14.5 and <value> > 42.05999946594238\n",
      "    <digit> == '8' and <function> == 'sqrt' and <term> <= -14.5 and <value> <= 42.05999946594238\n",
      "    <term> > -14.5 and <value> > 42.05999946594238\n",
      "    <digit> == '8' and <function> == 'sqrt' and <term> > -14.5 and <value> <= 42.05999946594238\n",
      "    <digit> == '8' and <function> == 'sqrt' and <term> <= -14.5 and <value> > 42.05999946594238\n",
      "    <term> <= -14.5\n",
      "    <digit> == '8' and <function> == 'sqrt' and <term> <= -14.5 and <value> > 42.05999946594238\n",
      "    <term> > -14.5\n",
      "    <function> == 'sqrt' and <term> <= -14.5 and <value> <= 42.05999946594238\n",
      "    <digit> == '8' and <function> == 'sqrt' and <term> > -14.5 and <value> <= 42.05999946594238\n",
      "    <function> == 'sqrt' and <term> > -14.5 and <value> > 42.05999946594238\n"
     ]
    },
    {
     "name": "stdout",
     "output_type": "stream",
     "text": [
      "  New samples:\n",
      "    sqrt(872043.7), sqrt(51.8), cos(-22), sqrt(-22), tan(-1.8), tan(-7836), sqrt(-84.36), sqrt(-8.7), tan(-28), sqrt(-23.3), sqrt(5.4096873), sin(70248.8), sqrt(-1.4841), sqrt(-313), sin(-76.2), sin(-85.85), sin(-322488.0), sqrt(685), sqrt(-562.3), cos(-565242386), tan(-87.8), cos(-981.24), sin(-484866), tan(-18656.6), sin(-932865.6), cos(-84.8), tan(-762282), sqrt(-96), sqrt(50.8), tan(-38), sqrt(7.7597451), cos(63.098)\n",
      "\n",
      "Iteration #16\n",
      "  Decision Tree:\n",
      "    if <term> <= -14.5000:\n",
      "      if <term> <= -42.0600:\n",
      "        if <function> == 'sqrt':\n",
      "          NO_BUG\n",
      "        else:\n",
      "          NO_BUG\n",
      "      else:\n",
      "        if <function> == 'sqrt':\n",
      "          if <value> == '<integer>.<digits>':\n",
      "            BUG\n",
      "          else:\n",
      "            BUG\n",
      "        else:\n",
      "          NO_BUG\n",
      "    else:\n",
      "      NO_BUG\n",
      "\n",
      "  New input specifications:\n",
      "    <function> == 'sqrt' and <term> > -42.05999946594238\n",
      "    <term> <= -14.5\n",
      "    <function> == 'sqrt' and <term> <= -42.05999946594238\n",
      "    <term> > -14.5\n",
      "    <function> == 'sqrt' and <term> <= -42.05999946594238\n",
      "    <function> == 'sqrt' and <term> > -42.05999946594238\n"
     ]
    },
    {
     "name": "stdout",
     "output_type": "stream",
     "text": [
      "  New samples:\n",
      "    tan(-8), tan(-3907.26), sqrt(-9340.1), tan(-2.46), sin(-95), sqrt(-9.1)\n",
      "\n",
      "Iteration #17\n",
      "  Decision Tree:\n",
      "    if <term> <= -14.5000:\n",
      "      if <value> <= 42.0600:\n",
      "        if <function> == 'sqrt':\n",
      "          BUG\n",
      "        else:\n",
      "          NO_BUG\n",
      "      else:\n",
      "        if <lead-digit> == '2':\n",
      "          NO_BUG\n",
      "        else:\n",
      "          NO_BUG\n",
      "    else:\n",
      "      if <digit> == '8':\n",
      "        NO_BUG\n",
      "      else:\n",
      "        NO_BUG\n",
      "\n"
     ]
    },
    {
     "name": "stdout",
     "output_type": "stream",
     "text": [
      "  New input specifications:\n",
      "    <lead-digit> == '2' and <term> <= -14.5 and <value> > 42.05999946594238\n",
      "    <function> == 'sqrt' and <term> > -14.5 and <value> <= 42.05999946594238\n",
      "    <lead-digit> == '2' and <term> <= -14.5 and <value> <= 42.05999946594238\n",
      "    <function> == 'sqrt' and <term> > -14.5 and <value> > 42.05999946594238\n",
      "    <function> == 'sqrt' and <term> > -14.5 and <value> > 42.05999946594238\n",
      "    <lead-digit> == '2' and <term> > -14.5 and <value> > 42.05999946594238\n",
      "    <function> == 'sqrt' and <term> > -14.5 and <value> <= 42.05999946594238\n",
      "    <function> == 'sqrt' and <term> <= -14.5 and <value> > 42.05999946594238\n",
      "    <lead-digit> == '2' and <term> <= -14.5 and <value> <= 42.05999946594238\n",
      "    <digit> == '8' and <term> <= -14.5\n",
      "    <digit> == '8' and <term> <= -14.5\n",
      "    <lead-digit> == '2' and <term> > -14.5 and <value> <= 42.05999946594238\n",
      "    <digit> == '8' and <term> > -14.5\n",
      "    <function> == 'sqrt' and <term> <= -14.5 and <value> > 42.05999946594238\n",
      "    <function> == 'sqrt' and <term> <= -14.5 and <value> <= 42.05999946594238\n",
      "    <lead-digit> == '2' and <term> <= -14.5 and <value> > 42.05999946594238\n",
      "    <lead-digit> == '2' and <term> > -14.5 and <value> <= 42.05999946594238\n",
      "    <digit> == '8' and <term> > -14.5\n",
      "    <lead-digit> == '2' and <term> > -14.5 and <value> > 42.05999946594238\n",
      "    <function> == 'sqrt' and <term> <= -14.5 and <value> <= 42.05999946594238\n"
     ]
    },
    {
     "name": "stdout",
     "output_type": "stream",
     "text": [
      "  New samples:\n",
      "    cos(-52), sin(-59), cos(-9402.691), sin(-721), sqrt(-86.80), sin(-46.5), sqrt(-78), sin(-1511.1), sqrt(-70), sin(-948), sin(2856.261), sqrt(-16586), cos(-53), cos(-35227020), sqrt(-7533), sin(-84), sqrt(-76.6), sqrt(-832.9), cos(-4026.6), tan(-420.18286), sin(-29.90), tan(-44.78), sqrt(9.97), sqrt(-27.63), sqrt(-4.1), sqrt(2), sin(88.8), sqrt(-6.950005), cos(76), tan(96), sin(349), cos(909109), sqrt(-8), tan(3031.0), sqrt(-2), sqrt(-2), sqrt(-0), sin(7349), sin(77), tan(957.4), tan(45.97), sqrt(-44), tan(44), sqrt(-1), cos(880.72), sin(88), sqrt(-2705), cos(6980.3), sqrt(-6553.975), sqrt(-6), sqrt(0.5), sqrt(31), sin(967), sqrt(9.15), sqrt(38), sqrt(-76), sqrt(-57), sin(61), cos(422), cos(2741), tan(913081.7), sqrt(7.0), tan(3176), sin(239.795058), sin(-6), sin(-8524.5), sqrt(-34.7), tan(-50.2), sin(-2249.448), cos(-1.12), tan(1.8647), sqrt(6), sqrt(-14.424), cos(-1), cos(-8), sqrt(-6.3), sin(-1), sin(-2.54116), sqrt(-4), sin(9.52), cos(-24.5), sqrt(1.54), tan(-7), sqrt(3), cos(-6.53), tan(4.71), sqrt(8.4296), sin(-9.6796664), tan(-3.8), sin(41.7), cos(3.9), cos(2), tan(8.9), sqrt(-0.6), cos(-4), cos(-2), tan(-5.9), sin(8.9), sqrt(-2.2), sin(29661.0), sin(-6.61), cos(1), sqrt(4), sqrt(14), cos(7), sqrt(-9), sqrt(-6.044), cos(-6), cos(-7), sqrt(-6.4), sqrt(-14), sqrt(-3), cos(7), cos(-8.471), sin(-3.83), sqrt(-1), sin(1.6), sqrt(2.1), sqrt(-4.9), cos(-1.75), sqrt(-77), cos(-16), sqrt(-70), sin(1), sin(24.650685), cos(448), sqrt(-22.251)\n",
      "\n",
      "Iteration #18\n",
      "  Decision Tree:\n",
      "    if <lead-digit> <= 3.5000:\n",
      "      if <function> == 'sqrt':\n",
      "        if <term> <= -12.4500:\n",
      "          if <value> <= 73.1700:\n",
      "            BUG\n",
      "          else:\n",
      "            if <digit> == '5':\n",
      "              NO_BUG\n",
      "            else:\n",
      "              NO_BUG\n",
      "        else:\n",
      "          NO_BUG\n",
      "      else:\n",
      "        NO_BUG\n",
      "    else:\n",
      "      if <lead-digit> <= 3.5000:\n",
      "        BUG\n",
      "      else:\n",
      "        if <digits> <= 1.5000:\n",
      "          if <lead-digit> == '4':\n",
      "            BUG\n",
      "          else:\n",
      "            if <function> == 'tan':\n",
      "              NO_BUG\n",
      "            else:\n",
      "              NO_BUG\n",
      "        else:\n",
      "          if <lead-digit> == '8':\n",
      "            NO_BUG\n",
      "          else:\n",
      "            NO_BUG\n",
      "\n"
     ]
    },
    {
     "name": "stdout",
     "output_type": "stream",
     "text": [
      "  New input specifications:\n",
      "    <digit> == '5' and <function> == 'sqrt' and <lead-digit> <= 3.5 and <term> <= -12.449999809265137 and <value> <= 73.17000007629395\n",
      "    <digit> == '5' and <function> == 'sqrt' and <lead-digit> <= 3.5 and <term> > -12.449999809265137 and <value> > 73.17000007629395\n",
      "    <lead-digit> == '4' and <digits> > 1.5 and <lead-digit> <= 3.5\n",
      "    <function> == 'sqrt' and <lead-digit> <= 3.5 and <term> > -12.449999809265137 and <value> <= 73.17000007629395\n",
      "    <function> == 'tan' and <lead-digit> == '4' and <digits> > 1.5 and <lead-digit> <= 3.5\n",
      "    <digit> == '5' and <function> == 'sqrt' and <lead-digit> <= 3.5 and <term> <= -12.449999809265137 and <value> > 73.17000007629395\n",
      "    <digit> == '5' and <function> == 'sqrt' and <lead-digit> <= 3.5 and <term> <= -12.449999809265137 and <value> > 73.17000007629395\n",
      "    <lead-digit> == '8' and <digits> <= 1.5 and <lead-digit> > 3.5\n",
      "    <function> == 'sqrt' and <lead-digit> <= 3.5 and <term> > -12.449999809265137\n",
      "    <lead-digit> == '8' and <digits> > 1.5 and <lead-digit> > 3.5\n",
      "    <lead-digit> == '8' and <digits> <= 1.5 and <lead-digit> <= 3.5\n",
      "    <lead-digit> == '8' and <digits> > 1.5 and <lead-digit> <= 3.5\n",
      "    <lead-digit> == '8' and <digits> <= 1.5 and <lead-digit> > 3.5\n",
      "    <digit> == '5' and <function> == 'sqrt' and <lead-digit> > 3.5 and <term> > -12.449999809265137 and <value> > 73.17000007629395\n",
      "    <lead-digit> == '8' and <digits> <= 1.5 and <lead-digit> <= 3.5\n",
      "    <function> == 'sqrt' and <lead-digit> > 3.5 and <term> <= -12.449999809265137\n",
      "    <function> == 'tan' and <lead-digit> == '4' and <digits> > 1.5 and <lead-digit> > 3.5\n",
      "    <function> == 'sqrt' and <lead-digit> <= 3.5\n",
      "    <function> == 'sqrt' and <lead-digit> > 3.5 and <term> > -12.449999809265137\n",
      "    <function> == 'sqrt' and <lead-digit> <= 3.5 and <term> <= -12.449999809265137\n",
      "    <function> == 'tan' and <lead-digit> == '4' and <digits> <= 1.5 and <lead-digit> > 3.5\n",
      "    <digit> == '5' and <function> == 'sqrt' and <lead-digit> <= 3.5 and <term> <= -12.449999809265137 and <value> <= 73.17000007629395\n",
      "    <function> == 'sqrt' and <lead-digit> > 3.5 and <term> <= -12.449999809265137 and <value> > 73.17000007629395\n",
      "    <digit> == '5' and <function> == 'sqrt' and <lead-digit> > 3.5 and <term> <= -12.449999809265137 and <value> > 73.17000007629395\n",
      "    <function> == 'sqrt' and <lead-digit> > 3.5 and <term> <= -12.449999809265137 and <value> <= 73.17000007629395\n",
      "    <function> == 'tan' and <lead-digit> == '4' and <digits> <= 1.5 and <lead-digit> > 3.5\n",
      "    <digit> == '5' and <function> == 'sqrt' and <lead-digit> > 3.5 and <term> <= -12.449999809265137 and <value> <= 73.17000007629395\n",
      "    <function> == 'sqrt' and <lead-digit> > 3.5\n",
      "    <function> == 'tan' and <lead-digit> == '4' and <digits> <= 1.5 and <lead-digit> <= 3.5\n",
      "    <function> == 'tan' and <lead-digit> == '4' and <digits> <= 1.5 and <lead-digit> > 3.5\n",
      "    <lead-digit> == '4' and <digits> > 1.5 and <lead-digit> > 3.5\n",
      "    <function> == 'sqrt' and <lead-digit> <= 3.5\n",
      "    <lead-digit> == '4' and <digits> <= 1.5 and <lead-digit> <= 3.5\n",
      "    <lead-digit> == '8' and <digits> > 1.5 and <lead-digit> <= 3.5\n",
      "    <function> == 'tan' and <lead-digit> == '4' and <digits> <= 1.5 and <lead-digit> <= 3.5\n",
      "    <function> == 'sqrt' and <lead-digit> <= 3.5 and <term> <= -12.449999809265137 and <value> > 73.17000007629395\n",
      "    <digit> == '5' and <function> == 'sqrt' and <lead-digit> > 3.5 and <term> <= -12.449999809265137 and <value> > 73.17000007629395\n",
      "    <function> == 'sqrt' and <lead-digit> <= 3.5 and <term> <= -12.449999809265137 and <value> <= 73.17000007629395\n",
      "    <digit> == '5' and <function> == 'sqrt' and <lead-digit> > 3.5 and <term> <= -12.449999809265137 and <value> <= 73.17000007629395\n",
      "    <digit> == '5' and <function> == 'sqrt' and <lead-digit> <= 3.5 and <term> > -12.449999809265137 and <value> > 73.17000007629395\n",
      "    <lead-digit> == '8' and <digits> > 1.5 and <lead-digit> > 3.5\n",
      "    <function> == 'tan' and <lead-digit> == '4' and <digits> <= 1.5 and <lead-digit> > 3.5\n",
      "    <function> == 'tan' and <lead-digit> == '4' and <digits> > 1.5 and <lead-digit> > 3.5\n",
      "    <function> == 'tan' and <lead-digit> == '4' and <digits> > 1.5 and <lead-digit> <= 3.5\n",
      "    <lead-digit> == '4' and <digits> <= 1.5 and <lead-digit> > 3.5\n",
      "    <digit> == '5' and <function> == 'sqrt' and <lead-digit> > 3.5 and <term> > -12.449999809265137 and <value> > 73.17000007629395\n"
     ]
    },
    {
     "name": "stdout",
     "output_type": "stream",
     "text": [
      "  New samples:\n",
      "    sqrt(-29.0), sqrt(32.56602), tan(-35), sin(-13.548), sqrt(-27.78), sqrt(389), cos(49.2), cos(3569), tan(16), cos(44.6), cos(-38), tan(495.14), cos(-17.020), cos(-483584.3), tan(-24), sin(468.0), sin(30.73), sqrt(47.9), sqrt(-29.38), sqrt(409058), sin(-472960), sin(-37), sin(15), tan(435.2), tan(344430.632), tan(-21672), sqrt(425), tan(-11.3), sqrt(8.22), sqrt(6.7), cos(25.3), tan(10.8), sqrt(2), sqrt(-2.72), sqrt(-6), sqrt(5.4), sqrt(179.7267), sqrt(-9), sqrt(-17.1), sqrt(-9), sqrt(-34), sqrt(0.81668), sqrt(48), sqrt(20992865), sin(32), cos(-10.3), sqrt(5.732), sqrt(7.9), tan(-12.4), sqrt(-2479.7), sqrt(-575.53), sqrt(-30.815), tan(-220.5), sqrt(-16.25), tan(-8803005), sqrt(89.8), sin(83), tan(87.7395), sqrt(26), cos(-82942), tan(-871), tan(1.0), sin(18567.357), tan(-124.88), sin(17.3), cos(-4.1), tan(107), tan(-88.3), tan(-60), tan(-391.3), sin(8384.972), sqrt(152), sqrt(-299.9), sin(1611), sqrt(-87.39), cos(13), tan(8667.1), sqrt(37), sin(90), cos(-401), tan(199.5), cos(108437), sqrt(3651.5708), tan(25), sqrt(-85.03), cos(2696), tan(-28), sqrt(-21.379), cos(-35.137), tan(-35), sin(384997211.2963), tan(82.1940390222), tan(-12.5), sqrt(-22.913), sin(88), sin(-129596745.52), cos(-8139), sqrt(-2486.760), sin(86), tan(-281.2), sqrt(849.84), cos(-26.5), tan(18), sqrt(837535159.386617), sin(209.39), sqrt(-85), tan(-843.0), sin(9421.1), sin(-573.5), tan(-995.820), sin(7694), sin(-55), sqrt(5109.1), sqrt(-51906418), cos(-80), tan(-4701), sin(42), cos(59), sqrt(42.99), tan(90608), tan(-766), tan(-695), tan(50951.2), sin(49), sqrt(5867.278), tan(43.6), tan(6212.716), sin(471.3), cos(4579391), sqrt(7542.3), sin(75.5), tan(10), sin(9.0), cos(-5239273), sqrt(6205), sqrt(11), sqrt(-41.4), tan(83.6), sqrt(-11.70), sqrt(78.3), sqrt(-23.0), sqrt(-1.1), sin(-754), cos(56), sin(-54595.7), sin(-87.8), cos(69.1), sin(65), cos(-90.9), sin(-2.1), sin(-83430.544), sqrt(867), sin(79), sin(68.40), cos(7066), sin(52.1), cos(69.32), sqrt(-8557), sin(-36), sqrt(-178902233), tan(-38), sqrt(-381.9), cos(-17), cos(-16.89), tan(-24), sqrt(-70), cos(-38.67), cos(-17), sqrt(-80), sqrt(-965), sqrt(-50.81), cos(61), sqrt(49.857), cos(80), cos(-461929.7), sqrt(-49.6), sqrt(-56), sqrt(-43), sin(-526.5), sqrt(-101), cos(70), sin(71), tan(-87), tan(698.27), tan(-63), tan(547784), tan(99), sqrt(-71), tan(-78), tan(-7428.1), sqrt(90), tan(-921), cos(-449.37), sin(1062941), sqrt(1000), sqrt(1811), tan(-6.1), tan(-31.94), tan(81), tan(-214), tan(-16), tan(22), tan(232.36), sqrt(-100384.236), sqrt(-960.2), sqrt(-3549.5), sqrt(-1149093), sin(-22.2), sqrt(-192), sin(-12.7), tan(-22), sqrt(-97), cos(-42.28), sqrt(-5379.4), sqrt(71.4), sqrt(-88.6), sqrt(-10757), sqrt(75.1927), sqrt(362490), tan(446.468), tan(428), tan(-498.0), sqrt(-8678000), sin(-133), sqrt(41), sqrt(5291)\n",
      "\n",
      "Iteration #19\n"
     ]
    },
    {
     "name": "stdout",
     "output_type": "stream",
     "text": [
      "  Decision Tree:\n",
      "    if <term> <= -13.7740:\n",
      "      if <term> <= -41.8400:\n",
      "        NO_BUG\n",
      "      else:\n",
      "        if <function> == 'sqrt':\n",
      "          BUG\n",
      "        else:\n",
      "          NO_BUG\n",
      "    else:\n",
      "      if <lead-digit> == '8':\n",
      "        NO_BUG\n",
      "      else:\n",
      "        NO_BUG\n",
      "\n",
      "  New input specifications:\n",
      "    <term> > -41.84000015258789\n",
      "    <lead-digit> == '8' and <term> <= -13.77400016784668\n",
      "    <lead-digit> == '8' and <term> > -13.77400016784668\n",
      "    <lead-digit> == '8' and <term> <= -13.77400016784668\n",
      "    <term> <= -41.84000015258789\n",
      "    <lead-digit> == '8' and <term> > -13.77400016784668\n"
     ]
    },
    {
     "name": "stdout",
     "output_type": "stream",
     "text": [
      "  New samples:\n",
      "    sqrt(9.7), tan(-85), tan(875462.937723), sqrt(-62.59), cos(-46), sin(1.7)\n",
      "\n",
      "Iteration #20\n",
      "  Decision Tree:\n",
      "    if <term> <= -13.7740:\n",
      "      if <integer> <= 41.5000:\n",
      "        if <function> == 'sqrt':\n",
      "          BUG\n",
      "        else:\n",
      "          NO_BUG\n",
      "      else:\n",
      "        NO_BUG\n",
      "    else:\n",
      "      NO_BUG\n",
      "\n",
      "  New input specifications:\n",
      "    <function> == 'sqrt' and <integer> > 41.5 and <term> <= -13.77400016784668\n",
      "    <integer> > 41.5 and <term> <= -13.77400016784668\n",
      "    <term> > -13.77400016784668\n",
      "    <function> == 'sqrt' and <integer> <= 41.5 and <term> <= -13.77400016784668\n",
      "    <function> == 'sqrt' and <integer> > 41.5 and <term> > -13.77400016784668\n",
      "    <function> == 'sqrt' and <integer> > 41.5 and <term> <= -13.77400016784668\n",
      "    <integer> <= 41.5 and <term> <= -13.77400016784668\n",
      "    <integer> > 41.5 and <term> > -13.77400016784668\n",
      "    <function> == 'sqrt' and <integer> <= 41.5 and <term> > -13.77400016784668\n",
      "    <term> <= -13.77400016784668\n",
      "    <function> == 'sqrt' and <integer> <= 41.5 and <term> <= -13.77400016784668\n",
      "    <function> == 'sqrt' and <integer> <= 41.5 and <term> > -13.77400016784668\n",
      "    <function> == 'sqrt' and <integer> > 41.5 and <term> > -13.77400016784668\n"
     ]
    },
    {
     "name": "stdout",
     "output_type": "stream",
     "text": [
      "  New samples:\n",
      "    sqrt(-929), sqrt(-9069.0), cos(3.31), cos(-22), cos(42), cos(-476.2), tan(-37), sin(8180), cos(-4.5), tan(-96.08), sqrt(-23), sqrt(0), sqrt(73.3)\n"
     ]
    }
   ],
   "source": [
    "alhazen = Alhazen(sample_runner, CALC_GRAMMAR, initial_sample_list,\n",
    "                  verbose=True,\n",
    "                  max_iterations=MAX_ITERATIONS,\n",
    "                  generator_timeout=GENERATOR_TIMEOUT)\n",
    "alhazen.run()"
   ]
  },
  {
   "cell_type": "markdown",
   "metadata": {
    "slideshow": {
     "slide_type": "subslide"
    }
   },
   "source": [
    "To access the final decision tree learned by Alhazen, use:"
   ]
  },
  {
   "cell_type": "code",
   "execution_count": 103,
   "metadata": {
    "execution": {
     "iopub.execute_input": "2025-01-13T14:56:35.213659Z",
     "iopub.status.busy": "2025-01-13T14:56:35.213527Z",
     "iopub.status.idle": "2025-01-13T14:56:35.218324Z",
     "shell.execute_reply": "2025-01-13T14:56:35.218073Z"
    },
    "slideshow": {
     "slide_type": "fragment"
    }
   },
   "outputs": [
    {
     "data": {
      "text/html": [
       "<style>#sk-container-id-1 {\n",
       "  /* Definition of color scheme common for light and dark mode */\n",
       "  --sklearn-color-text: #000;\n",
       "  --sklearn-color-text-muted: #666;\n",
       "  --sklearn-color-line: gray;\n",
       "  /* Definition of color scheme for unfitted estimators */\n",
       "  --sklearn-color-unfitted-level-0: #fff5e6;\n",
       "  --sklearn-color-unfitted-level-1: #f6e4d2;\n",
       "  --sklearn-color-unfitted-level-2: #ffe0b3;\n",
       "  --sklearn-color-unfitted-level-3: chocolate;\n",
       "  /* Definition of color scheme for fitted estimators */\n",
       "  --sklearn-color-fitted-level-0: #f0f8ff;\n",
       "  --sklearn-color-fitted-level-1: #d4ebff;\n",
       "  --sklearn-color-fitted-level-2: #b3dbfd;\n",
       "  --sklearn-color-fitted-level-3: cornflowerblue;\n",
       "\n",
       "  /* Specific color for light theme */\n",
       "  --sklearn-color-text-on-default-background: var(--sg-text-color, var(--theme-code-foreground, var(--jp-content-font-color1, black)));\n",
       "  --sklearn-color-background: var(--sg-background-color, var(--theme-background, var(--jp-layout-color0, white)));\n",
       "  --sklearn-color-border-box: var(--sg-text-color, var(--theme-code-foreground, var(--jp-content-font-color1, black)));\n",
       "  --sklearn-color-icon: #696969;\n",
       "\n",
       "  @media (prefers-color-scheme: dark) {\n",
       "    /* Redefinition of color scheme for dark theme */\n",
       "    --sklearn-color-text-on-default-background: var(--sg-text-color, var(--theme-code-foreground, var(--jp-content-font-color1, white)));\n",
       "    --sklearn-color-background: var(--sg-background-color, var(--theme-background, var(--jp-layout-color0, #111)));\n",
       "    --sklearn-color-border-box: var(--sg-text-color, var(--theme-code-foreground, var(--jp-content-font-color1, white)));\n",
       "    --sklearn-color-icon: #878787;\n",
       "  }\n",
       "}\n",
       "\n",
       "#sk-container-id-1 {\n",
       "  color: var(--sklearn-color-text);\n",
       "}\n",
       "\n",
       "#sk-container-id-1 pre {\n",
       "  padding: 0;\n",
       "}\n",
       "\n",
       "#sk-container-id-1 input.sk-hidden--visually {\n",
       "  border: 0;\n",
       "  clip: rect(1px 1px 1px 1px);\n",
       "  clip: rect(1px, 1px, 1px, 1px);\n",
       "  height: 1px;\n",
       "  margin: -1px;\n",
       "  overflow: hidden;\n",
       "  padding: 0;\n",
       "  position: absolute;\n",
       "  width: 1px;\n",
       "}\n",
       "\n",
       "#sk-container-id-1 div.sk-dashed-wrapped {\n",
       "  border: 1px dashed var(--sklearn-color-line);\n",
       "  margin: 0 0.4em 0.5em 0.4em;\n",
       "  box-sizing: border-box;\n",
       "  padding-bottom: 0.4em;\n",
       "  background-color: var(--sklearn-color-background);\n",
       "}\n",
       "\n",
       "#sk-container-id-1 div.sk-container {\n",
       "  /* jupyter's `normalize.less` sets `[hidden] { display: none; }`\n",
       "     but bootstrap.min.css set `[hidden] { display: none !important; }`\n",
       "     so we also need the `!important` here to be able to override the\n",
       "     default hidden behavior on the sphinx rendered scikit-learn.org.\n",
       "     See: https://github.com/scikit-learn/scikit-learn/issues/21755 */\n",
       "  display: inline-block !important;\n",
       "  position: relative;\n",
       "}\n",
       "\n",
       "#sk-container-id-1 div.sk-text-repr-fallback {\n",
       "  display: none;\n",
       "}\n",
       "\n",
       "div.sk-parallel-item,\n",
       "div.sk-serial,\n",
       "div.sk-item {\n",
       "  /* draw centered vertical line to link estimators */\n",
       "  background-image: linear-gradient(var(--sklearn-color-text-on-default-background), var(--sklearn-color-text-on-default-background));\n",
       "  background-size: 2px 100%;\n",
       "  background-repeat: no-repeat;\n",
       "  background-position: center center;\n",
       "}\n",
       "\n",
       "/* Parallel-specific style estimator block */\n",
       "\n",
       "#sk-container-id-1 div.sk-parallel-item::after {\n",
       "  content: \"\";\n",
       "  width: 100%;\n",
       "  border-bottom: 2px solid var(--sklearn-color-text-on-default-background);\n",
       "  flex-grow: 1;\n",
       "}\n",
       "\n",
       "#sk-container-id-1 div.sk-parallel {\n",
       "  display: flex;\n",
       "  align-items: stretch;\n",
       "  justify-content: center;\n",
       "  background-color: var(--sklearn-color-background);\n",
       "  position: relative;\n",
       "}\n",
       "\n",
       "#sk-container-id-1 div.sk-parallel-item {\n",
       "  display: flex;\n",
       "  flex-direction: column;\n",
       "}\n",
       "\n",
       "#sk-container-id-1 div.sk-parallel-item:first-child::after {\n",
       "  align-self: flex-end;\n",
       "  width: 50%;\n",
       "}\n",
       "\n",
       "#sk-container-id-1 div.sk-parallel-item:last-child::after {\n",
       "  align-self: flex-start;\n",
       "  width: 50%;\n",
       "}\n",
       "\n",
       "#sk-container-id-1 div.sk-parallel-item:only-child::after {\n",
       "  width: 0;\n",
       "}\n",
       "\n",
       "/* Serial-specific style estimator block */\n",
       "\n",
       "#sk-container-id-1 div.sk-serial {\n",
       "  display: flex;\n",
       "  flex-direction: column;\n",
       "  align-items: center;\n",
       "  background-color: var(--sklearn-color-background);\n",
       "  padding-right: 1em;\n",
       "  padding-left: 1em;\n",
       "}\n",
       "\n",
       "\n",
       "/* Toggleable style: style used for estimator/Pipeline/ColumnTransformer box that is\n",
       "clickable and can be expanded/collapsed.\n",
       "- Pipeline and ColumnTransformer use this feature and define the default style\n",
       "- Estimators will overwrite some part of the style using the `sk-estimator` class\n",
       "*/\n",
       "\n",
       "/* Pipeline and ColumnTransformer style (default) */\n",
       "\n",
       "#sk-container-id-1 div.sk-toggleable {\n",
       "  /* Default theme specific background. It is overwritten whether we have a\n",
       "  specific estimator or a Pipeline/ColumnTransformer */\n",
       "  background-color: var(--sklearn-color-background);\n",
       "}\n",
       "\n",
       "/* Toggleable label */\n",
       "#sk-container-id-1 label.sk-toggleable__label {\n",
       "  cursor: pointer;\n",
       "  display: flex;\n",
       "  width: 100%;\n",
       "  margin-bottom: 0;\n",
       "  padding: 0.5em;\n",
       "  box-sizing: border-box;\n",
       "  text-align: center;\n",
       "  align-items: start;\n",
       "  justify-content: space-between;\n",
       "  gap: 0.5em;\n",
       "}\n",
       "\n",
       "#sk-container-id-1 label.sk-toggleable__label .caption {\n",
       "  font-size: 0.6rem;\n",
       "  font-weight: lighter;\n",
       "  color: var(--sklearn-color-text-muted);\n",
       "}\n",
       "\n",
       "#sk-container-id-1 label.sk-toggleable__label-arrow:before {\n",
       "  /* Arrow on the left of the label */\n",
       "  content: \"▸\";\n",
       "  float: left;\n",
       "  margin-right: 0.25em;\n",
       "  color: var(--sklearn-color-icon);\n",
       "}\n",
       "\n",
       "#sk-container-id-1 label.sk-toggleable__label-arrow:hover:before {\n",
       "  color: var(--sklearn-color-text);\n",
       "}\n",
       "\n",
       "/* Toggleable content - dropdown */\n",
       "\n",
       "#sk-container-id-1 div.sk-toggleable__content {\n",
       "  max-height: 0;\n",
       "  max-width: 0;\n",
       "  overflow: hidden;\n",
       "  text-align: left;\n",
       "  /* unfitted */\n",
       "  background-color: var(--sklearn-color-unfitted-level-0);\n",
       "}\n",
       "\n",
       "#sk-container-id-1 div.sk-toggleable__content.fitted {\n",
       "  /* fitted */\n",
       "  background-color: var(--sklearn-color-fitted-level-0);\n",
       "}\n",
       "\n",
       "#sk-container-id-1 div.sk-toggleable__content pre {\n",
       "  margin: 0.2em;\n",
       "  border-radius: 0.25em;\n",
       "  color: var(--sklearn-color-text);\n",
       "  /* unfitted */\n",
       "  background-color: var(--sklearn-color-unfitted-level-0);\n",
       "}\n",
       "\n",
       "#sk-container-id-1 div.sk-toggleable__content.fitted pre {\n",
       "  /* unfitted */\n",
       "  background-color: var(--sklearn-color-fitted-level-0);\n",
       "}\n",
       "\n",
       "#sk-container-id-1 input.sk-toggleable__control:checked~div.sk-toggleable__content {\n",
       "  /* Expand drop-down */\n",
       "  max-height: 200px;\n",
       "  max-width: 100%;\n",
       "  overflow: auto;\n",
       "}\n",
       "\n",
       "#sk-container-id-1 input.sk-toggleable__control:checked~label.sk-toggleable__label-arrow:before {\n",
       "  content: \"▾\";\n",
       "}\n",
       "\n",
       "/* Pipeline/ColumnTransformer-specific style */\n",
       "\n",
       "#sk-container-id-1 div.sk-label input.sk-toggleable__control:checked~label.sk-toggleable__label {\n",
       "  color: var(--sklearn-color-text);\n",
       "  background-color: var(--sklearn-color-unfitted-level-2);\n",
       "}\n",
       "\n",
       "#sk-container-id-1 div.sk-label.fitted input.sk-toggleable__control:checked~label.sk-toggleable__label {\n",
       "  background-color: var(--sklearn-color-fitted-level-2);\n",
       "}\n",
       "\n",
       "/* Estimator-specific style */\n",
       "\n",
       "/* Colorize estimator box */\n",
       "#sk-container-id-1 div.sk-estimator input.sk-toggleable__control:checked~label.sk-toggleable__label {\n",
       "  /* unfitted */\n",
       "  background-color: var(--sklearn-color-unfitted-level-2);\n",
       "}\n",
       "\n",
       "#sk-container-id-1 div.sk-estimator.fitted input.sk-toggleable__control:checked~label.sk-toggleable__label {\n",
       "  /* fitted */\n",
       "  background-color: var(--sklearn-color-fitted-level-2);\n",
       "}\n",
       "\n",
       "#sk-container-id-1 div.sk-label label.sk-toggleable__label,\n",
       "#sk-container-id-1 div.sk-label label {\n",
       "  /* The background is the default theme color */\n",
       "  color: var(--sklearn-color-text-on-default-background);\n",
       "}\n",
       "\n",
       "/* On hover, darken the color of the background */\n",
       "#sk-container-id-1 div.sk-label:hover label.sk-toggleable__label {\n",
       "  color: var(--sklearn-color-text);\n",
       "  background-color: var(--sklearn-color-unfitted-level-2);\n",
       "}\n",
       "\n",
       "/* Label box, darken color on hover, fitted */\n",
       "#sk-container-id-1 div.sk-label.fitted:hover label.sk-toggleable__label.fitted {\n",
       "  color: var(--sklearn-color-text);\n",
       "  background-color: var(--sklearn-color-fitted-level-2);\n",
       "}\n",
       "\n",
       "/* Estimator label */\n",
       "\n",
       "#sk-container-id-1 div.sk-label label {\n",
       "  font-family: monospace;\n",
       "  font-weight: bold;\n",
       "  display: inline-block;\n",
       "  line-height: 1.2em;\n",
       "}\n",
       "\n",
       "#sk-container-id-1 div.sk-label-container {\n",
       "  text-align: center;\n",
       "}\n",
       "\n",
       "/* Estimator-specific */\n",
       "#sk-container-id-1 div.sk-estimator {\n",
       "  font-family: monospace;\n",
       "  border: 1px dotted var(--sklearn-color-border-box);\n",
       "  border-radius: 0.25em;\n",
       "  box-sizing: border-box;\n",
       "  margin-bottom: 0.5em;\n",
       "  /* unfitted */\n",
       "  background-color: var(--sklearn-color-unfitted-level-0);\n",
       "}\n",
       "\n",
       "#sk-container-id-1 div.sk-estimator.fitted {\n",
       "  /* fitted */\n",
       "  background-color: var(--sklearn-color-fitted-level-0);\n",
       "}\n",
       "\n",
       "/* on hover */\n",
       "#sk-container-id-1 div.sk-estimator:hover {\n",
       "  /* unfitted */\n",
       "  background-color: var(--sklearn-color-unfitted-level-2);\n",
       "}\n",
       "\n",
       "#sk-container-id-1 div.sk-estimator.fitted:hover {\n",
       "  /* fitted */\n",
       "  background-color: var(--sklearn-color-fitted-level-2);\n",
       "}\n",
       "\n",
       "/* Specification for estimator info (e.g. \"i\" and \"?\") */\n",
       "\n",
       "/* Common style for \"i\" and \"?\" */\n",
       "\n",
       ".sk-estimator-doc-link,\n",
       "a:link.sk-estimator-doc-link,\n",
       "a:visited.sk-estimator-doc-link {\n",
       "  float: right;\n",
       "  font-size: smaller;\n",
       "  line-height: 1em;\n",
       "  font-family: monospace;\n",
       "  background-color: var(--sklearn-color-background);\n",
       "  border-radius: 1em;\n",
       "  height: 1em;\n",
       "  width: 1em;\n",
       "  text-decoration: none !important;\n",
       "  margin-left: 0.5em;\n",
       "  text-align: center;\n",
       "  /* unfitted */\n",
       "  border: var(--sklearn-color-unfitted-level-1) 1pt solid;\n",
       "  color: var(--sklearn-color-unfitted-level-1);\n",
       "}\n",
       "\n",
       ".sk-estimator-doc-link.fitted,\n",
       "a:link.sk-estimator-doc-link.fitted,\n",
       "a:visited.sk-estimator-doc-link.fitted {\n",
       "  /* fitted */\n",
       "  border: var(--sklearn-color-fitted-level-1) 1pt solid;\n",
       "  color: var(--sklearn-color-fitted-level-1);\n",
       "}\n",
       "\n",
       "/* On hover */\n",
       "div.sk-estimator:hover .sk-estimator-doc-link:hover,\n",
       ".sk-estimator-doc-link:hover,\n",
       "div.sk-label-container:hover .sk-estimator-doc-link:hover,\n",
       ".sk-estimator-doc-link:hover {\n",
       "  /* unfitted */\n",
       "  background-color: var(--sklearn-color-unfitted-level-3);\n",
       "  color: var(--sklearn-color-background);\n",
       "  text-decoration: none;\n",
       "}\n",
       "\n",
       "div.sk-estimator.fitted:hover .sk-estimator-doc-link.fitted:hover,\n",
       ".sk-estimator-doc-link.fitted:hover,\n",
       "div.sk-label-container:hover .sk-estimator-doc-link.fitted:hover,\n",
       ".sk-estimator-doc-link.fitted:hover {\n",
       "  /* fitted */\n",
       "  background-color: var(--sklearn-color-fitted-level-3);\n",
       "  color: var(--sklearn-color-background);\n",
       "  text-decoration: none;\n",
       "}\n",
       "\n",
       "/* Span, style for the box shown on hovering the info icon */\n",
       ".sk-estimator-doc-link span {\n",
       "  display: none;\n",
       "  z-index: 9999;\n",
       "  position: relative;\n",
       "  font-weight: normal;\n",
       "  right: .2ex;\n",
       "  padding: .5ex;\n",
       "  margin: .5ex;\n",
       "  width: min-content;\n",
       "  min-width: 20ex;\n",
       "  max-width: 50ex;\n",
       "  color: var(--sklearn-color-text);\n",
       "  box-shadow: 2pt 2pt 4pt #999;\n",
       "  /* unfitted */\n",
       "  background: var(--sklearn-color-unfitted-level-0);\n",
       "  border: .5pt solid var(--sklearn-color-unfitted-level-3);\n",
       "}\n",
       "\n",
       ".sk-estimator-doc-link.fitted span {\n",
       "  /* fitted */\n",
       "  background: var(--sklearn-color-fitted-level-0);\n",
       "  border: var(--sklearn-color-fitted-level-3);\n",
       "}\n",
       "\n",
       ".sk-estimator-doc-link:hover span {\n",
       "  display: block;\n",
       "}\n",
       "\n",
       "/* \"?\"-specific style due to the `<a>` HTML tag */\n",
       "\n",
       "#sk-container-id-1 a.estimator_doc_link {\n",
       "  float: right;\n",
       "  font-size: 1rem;\n",
       "  line-height: 1em;\n",
       "  font-family: monospace;\n",
       "  background-color: var(--sklearn-color-background);\n",
       "  border-radius: 1rem;\n",
       "  height: 1rem;\n",
       "  width: 1rem;\n",
       "  text-decoration: none;\n",
       "  /* unfitted */\n",
       "  color: var(--sklearn-color-unfitted-level-1);\n",
       "  border: var(--sklearn-color-unfitted-level-1) 1pt solid;\n",
       "}\n",
       "\n",
       "#sk-container-id-1 a.estimator_doc_link.fitted {\n",
       "  /* fitted */\n",
       "  border: var(--sklearn-color-fitted-level-1) 1pt solid;\n",
       "  color: var(--sklearn-color-fitted-level-1);\n",
       "}\n",
       "\n",
       "/* On hover */\n",
       "#sk-container-id-1 a.estimator_doc_link:hover {\n",
       "  /* unfitted */\n",
       "  background-color: var(--sklearn-color-unfitted-level-3);\n",
       "  color: var(--sklearn-color-background);\n",
       "  text-decoration: none;\n",
       "}\n",
       "\n",
       "#sk-container-id-1 a.estimator_doc_link.fitted:hover {\n",
       "  /* fitted */\n",
       "  background-color: var(--sklearn-color-fitted-level-3);\n",
       "}\n",
       "</style><div id=\"sk-container-id-1\" class=\"sk-top-container\"><div class=\"sk-text-repr-fallback\"><pre>DecisionTreeClassifier(class_weight={&#x27;BUG&#x27;: 0.021739130434782608,\n",
       "                                     &#x27;NO_BUG&#x27;: 0.0010449320794148381},\n",
       "                       max_depth=5)</pre><b>In a Jupyter environment, please rerun this cell to show the HTML representation or trust the notebook. <br />On GitHub, the HTML representation is unable to render, please try loading this page with nbviewer.org.</b></div><div class=\"sk-container\" hidden><div class=\"sk-item\"><div class=\"sk-estimator fitted sk-toggleable\"><input class=\"sk-toggleable__control sk-hidden--visually\" id=\"sk-estimator-id-1\" type=\"checkbox\" checked><label for=\"sk-estimator-id-1\" class=\"sk-toggleable__label fitted sk-toggleable__label-arrow\"><div><div>DecisionTreeClassifier</div></div><div><a class=\"sk-estimator-doc-link fitted\" rel=\"noreferrer\" target=\"_blank\" href=\"https://scikit-learn.org/1.6/modules/generated/sklearn.tree.DecisionTreeClassifier.html\">?<span>Documentation for DecisionTreeClassifier</span></a><span class=\"sk-estimator-doc-link fitted\">i<span>Fitted</span></span></div></label><div class=\"sk-toggleable__content fitted\"><pre>DecisionTreeClassifier(class_weight={&#x27;BUG&#x27;: 0.021739130434782608,\n",
       "                                     &#x27;NO_BUG&#x27;: 0.0010449320794148381},\n",
       "                       max_depth=5)</pre></div> </div></div></div></div>"
      ],
      "text/plain": [
       "DecisionTreeClassifier(class_weight={'BUG': 0.021739130434782608,\n",
       "                                     'NO_BUG': 0.0010449320794148381},\n",
       "                       max_depth=5)"
      ]
     },
     "execution_count": 103,
     "metadata": {},
     "output_type": "execute_result"
    }
   ],
   "source": [
    "alhazen.last_tree()"
   ]
  },
  {
   "cell_type": "markdown",
   "metadata": {
    "slideshow": {
     "slide_type": "fragment"
    }
   },
   "source": [
    "Let's display it:"
   ]
  },
  {
   "cell_type": "code",
   "execution_count": 104,
   "metadata": {
    "execution": {
     "iopub.execute_input": "2025-01-13T14:56:35.219577Z",
     "iopub.status.busy": "2025-01-13T14:56:35.219482Z",
     "iopub.status.idle": "2025-01-13T14:56:35.714997Z",
     "shell.execute_reply": "2025-01-13T14:56:35.714512Z"
    },
    "slideshow": {
     "slide_type": "fragment"
    }
   },
   "outputs": [
    {
     "data": {
      "image/svg+xml": [
       "<?xml version=\"1.0\" encoding=\"UTF-8\" standalone=\"no\"?>\n",
       "<!DOCTYPE svg PUBLIC \"-//W3C//DTD SVG 1.1//EN\"\n",
       " \"http://www.w3.org/Graphics/SVG/1.1/DTD/svg11.dtd\">\n",
       "<!-- Generated by graphviz version 12.2.1 (20241206.2353)\n",
       " -->\n",
       "<!-- Title: Tree Pages: 1 -->\n",
       "<svg width=\"446pt\" height=\"433pt\"\n",
       " viewBox=\"0.00 0.00 445.50 433.00\" xmlns=\"http://www.w3.org/2000/svg\" xmlns:xlink=\"http://www.w3.org/1999/xlink\">\n",
       "<g id=\"graph0\" class=\"graph\" transform=\"scale(1 1) rotate(0) translate(4 429)\">\n",
       "<title>Tree</title>\n",
       "<polygon fill=\"white\" stroke=\"none\" points=\"-4,4 -4,-429 441.5,-429 441.5,4 -4,4\"/>\n",
       "<!-- 0 -->\n",
       "<g id=\"node1\" class=\"node\">\n",
       "<title>0</title>\n",
       "<path fill=\"#ffffff\" stroke=\"black\" d=\"M349.75,-425C349.75,-425 243.75,-425 243.75,-425 237.75,-425 231.75,-419 231.75,-413 231.75,-413 231.75,-354 231.75,-354 231.75,-348 237.75,-342 243.75,-342 243.75,-342 349.75,-342 349.75,-342 355.75,-342 361.75,-348 361.75,-354 361.75,-354 361.75,-413 361.75,-413 361.75,-419 355.75,-425 349.75,-425\"/>\n",
       "<text text-anchor=\"middle\" x=\"296.75\" y=\"-407.7\" font-family=\"Helvetica,sans-Serif\" font-size=\"14.00\">&lt;term&gt; &lt;= &#45;13.774</text>\n",
       "<text text-anchor=\"middle\" x=\"296.75\" y=\"-392.7\" font-family=\"Helvetica,sans-Serif\" font-size=\"14.00\">gini = 0.5</text>\n",
       "<text text-anchor=\"middle\" x=\"296.75\" y=\"-377.7\" font-family=\"Helvetica,sans-Serif\" font-size=\"14.00\">samples = 1003</text>\n",
       "<text text-anchor=\"middle\" x=\"296.75\" y=\"-362.7\" font-family=\"Helvetica,sans-Serif\" font-size=\"14.00\">value = [1.0, 1.0]</text>\n",
       "<text text-anchor=\"middle\" x=\"296.75\" y=\"-347.7\" font-family=\"Helvetica,sans-Serif\" font-size=\"14.00\">class = BUG</text>\n",
       "</g>\n",
       "<!-- 1 -->\n",
       "<g id=\"node2\" class=\"node\">\n",
       "<title>1</title>\n",
       "<path fill=\"#eeae80\" stroke=\"black\" d=\"M275.5,-306C275.5,-306 168,-306 168,-306 162,-306 156,-300 156,-294 156,-294 156,-235 156,-235 156,-229 162,-223 168,-223 168,-223 275.5,-223 275.5,-223 281.5,-223 287.5,-229 287.5,-235 287.5,-235 287.5,-294 287.5,-294 287.5,-300 281.5,-306 275.5,-306\"/>\n",
       "<text text-anchor=\"middle\" x=\"221.75\" y=\"-288.7\" font-family=\"Helvetica,sans-Serif\" font-size=\"14.00\">&lt;integer&gt; &lt;= 41.5</text>\n",
       "<text text-anchor=\"middle\" x=\"221.75\" y=\"-273.7\" font-family=\"Helvetica,sans-Serif\" font-size=\"14.00\">gini = 0.389</text>\n",
       "<text text-anchor=\"middle\" x=\"221.75\" y=\"-258.7\" font-family=\"Helvetica,sans-Serif\" font-size=\"14.00\">samples = 390</text>\n",
       "<text text-anchor=\"middle\" x=\"221.75\" y=\"-243.7\" font-family=\"Helvetica,sans-Serif\" font-size=\"14.00\">value = [1.0, 0.359]</text>\n",
       "<text text-anchor=\"middle\" x=\"221.75\" y=\"-228.7\" font-family=\"Helvetica,sans-Serif\" font-size=\"14.00\">class = BUG</text>\n",
       "</g>\n",
       "<!-- 0&#45;&gt;1 -->\n",
       "<g id=\"edge1\" class=\"edge\">\n",
       "<title>0&#45;&gt;1</title>\n",
       "<path fill=\"none\" stroke=\"black\" d=\"M270.52,-341.58C265.18,-333.25 259.5,-324.39 253.98,-315.78\"/>\n",
       "<polygon fill=\"black\" stroke=\"black\" points=\"257,-314 248.66,-307.47 251.11,-317.78 257,-314\"/>\n",
       "<text text-anchor=\"middle\" x=\"242.5\" y=\"-324.82\" font-family=\"Helvetica,sans-Serif\" font-size=\"14.00\">True</text>\n",
       "</g>\n",
       "<!-- 6 -->\n",
       "<g id=\"node7\" class=\"node\">\n",
       "<title>6</title>\n",
       "<path fill=\"#399de5\" stroke=\"black\" d=\"M425.5,-298.5C425.5,-298.5 318,-298.5 318,-298.5 312,-298.5 306,-292.5 306,-286.5 306,-286.5 306,-242.5 306,-242.5 306,-236.5 312,-230.5 318,-230.5 318,-230.5 425.5,-230.5 425.5,-230.5 431.5,-230.5 437.5,-236.5 437.5,-242.5 437.5,-242.5 437.5,-286.5 437.5,-286.5 437.5,-292.5 431.5,-298.5 425.5,-298.5\"/>\n",
       "<text text-anchor=\"middle\" x=\"371.75\" y=\"-281.2\" font-family=\"Helvetica,sans-Serif\" font-size=\"14.00\">gini = &#45;0.0</text>\n",
       "<text text-anchor=\"middle\" x=\"371.75\" y=\"-266.2\" font-family=\"Helvetica,sans-Serif\" font-size=\"14.00\">samples = 613</text>\n",
       "<text text-anchor=\"middle\" x=\"371.75\" y=\"-251.2\" font-family=\"Helvetica,sans-Serif\" font-size=\"14.00\">value = [0.0, 0.641]</text>\n",
       "<text text-anchor=\"middle\" x=\"371.75\" y=\"-236.2\" font-family=\"Helvetica,sans-Serif\" font-size=\"14.00\">class = NO_BUG</text>\n",
       "</g>\n",
       "<!-- 0&#45;&gt;6 -->\n",
       "<g id=\"edge6\" class=\"edge\">\n",
       "<title>0&#45;&gt;6</title>\n",
       "<path fill=\"none\" stroke=\"black\" d=\"M322.98,-341.58C329.84,-330.88 337.25,-319.32 344.17,-308.52\"/>\n",
       "<polygon fill=\"black\" stroke=\"black\" points=\"347.1,-310.44 349.55,-300.14 341.2,-306.67 347.1,-310.44\"/>\n",
       "<text text-anchor=\"middle\" x=\"355.71\" y=\"-317.48\" font-family=\"Helvetica,sans-Serif\" font-size=\"14.00\">False</text>\n",
       "</g>\n",
       "<!-- 2 -->\n",
       "<g id=\"node3\" class=\"node\">\n",
       "<title>2</title>\n",
       "<path fill=\"#e68743\" stroke=\"black\" d=\"M212.25,-187C212.25,-187 61.25,-187 61.25,-187 55.25,-187 49.25,-181 49.25,-175 49.25,-175 49.25,-116 49.25,-116 49.25,-110 55.25,-104 61.25,-104 61.25,-104 212.25,-104 212.25,-104 218.25,-104 224.25,-110 224.25,-116 224.25,-116 224.25,-175 224.25,-175 224.25,-181 218.25,-187 212.25,-187\"/>\n",
       "<text text-anchor=\"middle\" x=\"136.75\" y=\"-169.7\" font-family=\"Helvetica,sans-Serif\" font-size=\"14.00\">&lt;function&gt; == &#39;sqrt&#39; &lt;= 0.5</text>\n",
       "<text text-anchor=\"middle\" x=\"136.75\" y=\"-154.7\" font-family=\"Helvetica,sans-Serif\" font-size=\"14.00\">gini = 0.088</text>\n",
       "<text text-anchor=\"middle\" x=\"136.75\" y=\"-139.7\" font-family=\"Helvetica,sans-Serif\" font-size=\"14.00\">samples = 92</text>\n",
       "<text text-anchor=\"middle\" x=\"136.75\" y=\"-124.7\" font-family=\"Helvetica,sans-Serif\" font-size=\"14.00\">value = [1.0, 0.048]</text>\n",
       "<text text-anchor=\"middle\" x=\"136.75\" y=\"-109.7\" font-family=\"Helvetica,sans-Serif\" font-size=\"14.00\">class = BUG</text>\n",
       "</g>\n",
       "<!-- 1&#45;&gt;2 -->\n",
       "<g id=\"edge2\" class=\"edge\">\n",
       "<title>1&#45;&gt;2</title>\n",
       "<path fill=\"none\" stroke=\"black\" d=\"M192.02,-222.58C185.9,-214.16 179.4,-205.2 173.08,-196.5\"/>\n",
       "<polygon fill=\"black\" stroke=\"black\" points=\"175.92,-194.46 167.21,-188.42 170.25,-198.57 175.92,-194.46\"/>\n",
       "</g>\n",
       "<!-- 5 -->\n",
       "<g id=\"node6\" class=\"node\">\n",
       "<title>5</title>\n",
       "<path fill=\"#399de5\" stroke=\"black\" d=\"M361.5,-179.5C361.5,-179.5 254,-179.5 254,-179.5 248,-179.5 242,-173.5 242,-167.5 242,-167.5 242,-123.5 242,-123.5 242,-117.5 248,-111.5 254,-111.5 254,-111.5 361.5,-111.5 361.5,-111.5 367.5,-111.5 373.5,-117.5 373.5,-123.5 373.5,-123.5 373.5,-167.5 373.5,-167.5 373.5,-173.5 367.5,-179.5 361.5,-179.5\"/>\n",
       "<text text-anchor=\"middle\" x=\"307.75\" y=\"-162.2\" font-family=\"Helvetica,sans-Serif\" font-size=\"14.00\">gini = &#45;0.0</text>\n",
       "<text text-anchor=\"middle\" x=\"307.75\" y=\"-147.2\" font-family=\"Helvetica,sans-Serif\" font-size=\"14.00\">samples = 298</text>\n",
       "<text text-anchor=\"middle\" x=\"307.75\" y=\"-132.2\" font-family=\"Helvetica,sans-Serif\" font-size=\"14.00\">value = [0.0, 0.311]</text>\n",
       "<text text-anchor=\"middle\" x=\"307.75\" y=\"-117.2\" font-family=\"Helvetica,sans-Serif\" font-size=\"14.00\">class = NO_BUG</text>\n",
       "</g>\n",
       "<!-- 1&#45;&gt;5 -->\n",
       "<g id=\"edge5\" class=\"edge\">\n",
       "<title>1&#45;&gt;5</title>\n",
       "<path fill=\"none\" stroke=\"black\" d=\"M251.83,-222.58C259.85,-211.66 268.54,-199.85 276.61,-188.86\"/>\n",
       "<polygon fill=\"black\" stroke=\"black\" points=\"279.23,-191.21 282.33,-181.08 273.59,-187.07 279.23,-191.21\"/>\n",
       "</g>\n",
       "<!-- 3 -->\n",
       "<g id=\"node4\" class=\"node\">\n",
       "<title>3</title>\n",
       "<path fill=\"#399de5\" stroke=\"black\" d=\"M119.5,-68C119.5,-68 12,-68 12,-68 6,-68 0,-62 0,-56 0,-56 0,-12 0,-12 0,-6 6,0 12,0 12,0 119.5,0 119.5,0 125.5,0 131.5,-6 131.5,-12 131.5,-12 131.5,-56 131.5,-56 131.5,-62 125.5,-68 119.5,-68\"/>\n",
       "<text text-anchor=\"middle\" x=\"65.75\" y=\"-50.7\" font-family=\"Helvetica,sans-Serif\" font-size=\"14.00\">gini = 0.0</text>\n",
       "<text text-anchor=\"middle\" x=\"65.75\" y=\"-35.7\" font-family=\"Helvetica,sans-Serif\" font-size=\"14.00\">samples = 46</text>\n",
       "<text text-anchor=\"middle\" x=\"65.75\" y=\"-20.7\" font-family=\"Helvetica,sans-Serif\" font-size=\"14.00\">value = [0.0, 0.048]</text>\n",
       "<text text-anchor=\"middle\" x=\"65.75\" y=\"-5.7\" font-family=\"Helvetica,sans-Serif\" font-size=\"14.00\">class = NO_BUG</text>\n",
       "</g>\n",
       "<!-- 2&#45;&gt;3 -->\n",
       "<g id=\"edge3\" class=\"edge\">\n",
       "<title>2&#45;&gt;3</title>\n",
       "<path fill=\"none\" stroke=\"black\" d=\"M110.31,-103.73C104.81,-95.24 99,-86.28 93.46,-77.73\"/>\n",
       "<polygon fill=\"black\" stroke=\"black\" points=\"96.54,-76.06 88.16,-69.57 90.67,-79.86 96.54,-76.06\"/>\n",
       "</g>\n",
       "<!-- 4 -->\n",
       "<g id=\"node5\" class=\"node\">\n",
       "<title>4</title>\n",
       "<path fill=\"#e58139\" stroke=\"black\" d=\"M254,-68C254,-68 161.5,-68 161.5,-68 155.5,-68 149.5,-62 149.5,-56 149.5,-56 149.5,-12 149.5,-12 149.5,-6 155.5,0 161.5,0 161.5,0 254,0 254,0 260,0 266,-6 266,-12 266,-12 266,-56 266,-56 266,-62 260,-68 254,-68\"/>\n",
       "<text text-anchor=\"middle\" x=\"207.75\" y=\"-50.7\" font-family=\"Helvetica,sans-Serif\" font-size=\"14.00\">gini = &#45;0.0</text>\n",
       "<text text-anchor=\"middle\" x=\"207.75\" y=\"-35.7\" font-family=\"Helvetica,sans-Serif\" font-size=\"14.00\">samples = 46</text>\n",
       "<text text-anchor=\"middle\" x=\"207.75\" y=\"-20.7\" font-family=\"Helvetica,sans-Serif\" font-size=\"14.00\">value = [1.0, 0.0]</text>\n",
       "<text text-anchor=\"middle\" x=\"207.75\" y=\"-5.7\" font-family=\"Helvetica,sans-Serif\" font-size=\"14.00\">class = BUG</text>\n",
       "</g>\n",
       "<!-- 2&#45;&gt;4 -->\n",
       "<g id=\"edge4\" class=\"edge\">\n",
       "<title>2&#45;&gt;4</title>\n",
       "<path fill=\"none\" stroke=\"black\" d=\"M163.19,-103.73C168.69,-95.24 174.5,-86.28 180.04,-77.73\"/>\n",
       "<polygon fill=\"black\" stroke=\"black\" points=\"182.83,-79.86 185.34,-69.57 176.96,-76.06 182.83,-79.86\"/>\n",
       "</g>\n",
       "</g>\n",
       "</svg>\n"
      ],
      "text/plain": [
       "<graphviz.sources.Source at 0x111b56f90>"
      ]
     },
     "execution_count": 104,
     "metadata": {},
     "output_type": "execute_result"
    }
   ],
   "source": [
    "alhazen.show_decision_tree()"
   ]
  },
  {
   "cell_type": "markdown",
   "metadata": {
    "slideshow": {
     "slide_type": "fragment"
    }
   },
   "source": [
    "We can also view the tree as text:"
   ]
  },
  {
   "cell_type": "code",
   "execution_count": 105,
   "metadata": {
    "execution": {
     "iopub.execute_input": "2025-01-13T14:56:35.716668Z",
     "iopub.status.busy": "2025-01-13T14:56:35.716535Z",
     "iopub.status.idle": "2025-01-13T14:56:35.719552Z",
     "shell.execute_reply": "2025-01-13T14:56:35.719240Z"
    },
    "slideshow": {
     "slide_type": "subslide"
    }
   },
   "outputs": [
    {
     "name": "stdout",
     "output_type": "stream",
     "text": [
      "if <term> <= -13.7740:\n",
      "  if <integer> <= 41.5000:\n",
      "    if <function> == 'sqrt':\n",
      "      BUG\n",
      "    else:\n",
      "      NO_BUG\n",
      "  else:\n",
      "    NO_BUG\n",
      "else:\n",
      "  NO_BUG\n",
      "\n"
     ]
    }
   ],
   "source": [
    "print(alhazen.friendly_decision_tree())"
   ]
  },
  {
   "cell_type": "markdown",
   "metadata": {
    "slideshow": {
     "slide_type": "subslide"
    }
   },
   "source": [
    "In both views, we see that the failure is related to the `sqrt()` function being called with a negative value.\n",
    "But what's the deal with the `<lead-digit>` and `<value>` fields?\n",
    "For this, let's have a look at our sqrt function code:"
   ]
  },
  {
   "cell_type": "code",
   "execution_count": 106,
   "metadata": {
    "execution": {
     "iopub.execute_input": "2025-01-13T14:56:35.720989Z",
     "iopub.status.busy": "2025-01-13T14:56:35.720893Z",
     "iopub.status.idle": "2025-01-13T14:56:35.722509Z",
     "shell.execute_reply": "2025-01-13T14:56:35.722258Z"
    },
    "slideshow": {
     "slide_type": "skip"
    }
   },
   "outputs": [],
   "source": [
    "import inspect"
   ]
  },
  {
   "cell_type": "code",
   "execution_count": 107,
   "metadata": {
    "execution": {
     "iopub.execute_input": "2025-01-13T14:56:35.723648Z",
     "iopub.status.busy": "2025-01-13T14:56:35.723557Z",
     "iopub.status.idle": "2025-01-13T14:56:35.725961Z",
     "shell.execute_reply": "2025-01-13T14:56:35.725697Z"
    },
    "slideshow": {
     "slide_type": "subslide"
    }
   },
   "outputs": [
    {
     "name": "stdout",
     "output_type": "stream",
     "text": [
      "def task_sqrt(x):\n",
      "    \"\"\"Computes the square root of x, using the Newton-Raphson method\"\"\"\n",
      "    if x <= -12 and x >= -42:\n",
      "        x = 0  # Guess where the bug is :-)\n",
      "    else:\n",
      "        x = 1\n",
      "    x = max(x, 0)\n",
      "    approx = None\n",
      "    guess = x / 2\n",
      "    while approx != guess:\n",
      "        approx = guess\n",
      "        guess = (approx + x / approx) / 2\n",
      "    return approx\n",
      "\n"
     ]
    }
   ],
   "source": [
    "\n",
    "print(inspect.getsource(task_sqrt))"
   ]
  },
  {
   "cell_type": "markdown",
   "metadata": {
    "slideshow": {
     "slide_type": "subslide"
    }
   },
   "source": [
    "We see that Alhazen has correctly determined the boundaries of `x` for the bug - the `<lead-digit>` value must be `4` or less (otherwise, the value of `x` will not trigger the bug); and `<value>` and `<term>` correctly reflect the boundaries.\n",
    "(Note that `<term>` comes with a sign, whereas `<value>` has no sign.)\n",
    "Not too bad for a machine learning approach :-)"
   ]
  },
  {
   "cell_type": "markdown",
   "metadata": {
    "slideshow": {
     "slide_type": "slide"
    }
   },
   "source": [
    "## Synopsis"
   ]
  },
  {
   "cell_type": "markdown",
   "metadata": {
    "slideshow": {
     "slide_type": "fragment"
    }
   },
   "source": [
    "This chapter provides an implementation of the _Alhazen_ approach \\cite{Kampmann2020}, which trains machine learning _classifiers_ from input features.\n",
    "Given a test function, a grammar, and a set of inputs, the `Alhazen` class produces a decision tree that _characterizes failure circumstances_:"
   ]
  },
  {
   "cell_type": "code",
   "execution_count": 108,
   "metadata": {
    "execution": {
     "iopub.execute_input": "2025-01-13T14:56:35.727412Z",
     "iopub.status.busy": "2025-01-13T14:56:35.727306Z",
     "iopub.status.idle": "2025-01-13T14:57:29.978164Z",
     "shell.execute_reply": "2025-01-13T14:57:29.977826Z"
    },
    "slideshow": {
     "slide_type": "fragment"
    }
   },
   "outputs": [],
   "source": [
    "alhazen = Alhazen(sample_runner, CALC_GRAMMAR, initial_sample_list,\n",
    "                  max_iterations=20)\n",
    "alhazen.run()"
   ]
  },
  {
   "cell_type": "markdown",
   "metadata": {
    "slideshow": {
     "slide_type": "fragment"
    }
   },
   "source": [
    "The final decision tree can be accessed using `last_tree()`:"
   ]
  },
  {
   "cell_type": "code",
   "execution_count": 109,
   "metadata": {
    "execution": {
     "iopub.execute_input": "2025-01-13T14:57:29.980081Z",
     "iopub.status.busy": "2025-01-13T14:57:29.979954Z",
     "iopub.status.idle": "2025-01-13T14:57:29.981811Z",
     "shell.execute_reply": "2025-01-13T14:57:29.981470Z"
    },
    "slideshow": {
     "slide_type": "fragment"
    }
   },
   "outputs": [],
   "source": [
    "# alhazen.last_tree()"
   ]
  },
  {
   "cell_type": "markdown",
   "metadata": {
    "slideshow": {
     "slide_type": "fragment"
    }
   },
   "source": [
    "We can visualize the resulting decision tree using `Alhazen.show_decision_tree()`:"
   ]
  },
  {
   "cell_type": "code",
   "execution_count": 110,
   "metadata": {
    "execution": {
     "iopub.execute_input": "2025-01-13T14:57:29.983806Z",
     "iopub.status.busy": "2025-01-13T14:57:29.983691Z",
     "iopub.status.idle": "2025-01-13T14:57:30.578667Z",
     "shell.execute_reply": "2025-01-13T14:57:30.578311Z"
    },
    "slideshow": {
     "slide_type": "subslide"
    }
   },
   "outputs": [
    {
     "data": {
      "image/svg+xml": [
       "<?xml version=\"1.0\" encoding=\"UTF-8\" standalone=\"no\"?>\n",
       "<!DOCTYPE svg PUBLIC \"-//W3C//DTD SVG 1.1//EN\"\n",
       " \"http://www.w3.org/Graphics/SVG/1.1/DTD/svg11.dtd\">\n",
       "<!-- Generated by graphviz version 12.2.1 (20241206.2353)\n",
       " -->\n",
       "<!-- Title: Tree Pages: 1 -->\n",
       "<svg width=\"398pt\" height=\"552pt\"\n",
       " viewBox=\"0.00 0.00 397.50 552.00\" xmlns=\"http://www.w3.org/2000/svg\" xmlns:xlink=\"http://www.w3.org/1999/xlink\">\n",
       "<g id=\"graph0\" class=\"graph\" transform=\"scale(1 1) rotate(0) translate(4 548)\">\n",
       "<title>Tree</title>\n",
       "<polygon fill=\"white\" stroke=\"none\" points=\"-4,4 -4,-548 393.5,-548 393.5,4 -4,4\"/>\n",
       "<!-- 0 -->\n",
       "<g id=\"node1\" class=\"node\">\n",
       "<title>0</title>\n",
       "<path fill=\"#ffffff\" stroke=\"black\" d=\"M290.75,-544C290.75,-544 184.75,-544 184.75,-544 178.75,-544 172.75,-538 172.75,-532 172.75,-532 172.75,-473 172.75,-473 172.75,-467 178.75,-461 184.75,-461 184.75,-461 290.75,-461 290.75,-461 296.75,-461 302.75,-467 302.75,-473 302.75,-473 302.75,-532 302.75,-532 302.75,-538 296.75,-544 290.75,-544\"/>\n",
       "<text text-anchor=\"middle\" x=\"237.75\" y=\"-526.7\" font-family=\"Helvetica,sans-Serif\" font-size=\"14.00\">&lt;lead&#45;digit&gt; &lt;= 4.5</text>\n",
       "<text text-anchor=\"middle\" x=\"237.75\" y=\"-511.7\" font-family=\"Helvetica,sans-Serif\" font-size=\"14.00\">gini = 0.5</text>\n",
       "<text text-anchor=\"middle\" x=\"237.75\" y=\"-496.7\" font-family=\"Helvetica,sans-Serif\" font-size=\"14.00\">samples = 668</text>\n",
       "<text text-anchor=\"middle\" x=\"237.75\" y=\"-481.7\" font-family=\"Helvetica,sans-Serif\" font-size=\"14.00\">value = [1.0, 1.0]</text>\n",
       "<text text-anchor=\"middle\" x=\"237.75\" y=\"-466.7\" font-family=\"Helvetica,sans-Serif\" font-size=\"14.00\">class = BUG</text>\n",
       "</g>\n",
       "<!-- 1 -->\n",
       "<g id=\"node2\" class=\"node\">\n",
       "<title>1</title>\n",
       "<path fill=\"#eda775\" stroke=\"black\" d=\"M228.25,-425C228.25,-425 77.25,-425 77.25,-425 71.25,-425 65.25,-419 65.25,-413 65.25,-413 65.25,-354 65.25,-354 65.25,-348 71.25,-342 77.25,-342 77.25,-342 228.25,-342 228.25,-342 234.25,-342 240.25,-348 240.25,-354 240.25,-354 240.25,-413 240.25,-413 240.25,-419 234.25,-425 228.25,-425\"/>\n",
       "<text text-anchor=\"middle\" x=\"152.75\" y=\"-407.7\" font-family=\"Helvetica,sans-Serif\" font-size=\"14.00\">&lt;function&gt; == &#39;sqrt&#39; &lt;= 0.5</text>\n",
       "<text text-anchor=\"middle\" x=\"152.75\" y=\"-392.7\" font-family=\"Helvetica,sans-Serif\" font-size=\"14.00\">gini = 0.356</text>\n",
       "<text text-anchor=\"middle\" x=\"152.75\" y=\"-377.7\" font-family=\"Helvetica,sans-Serif\" font-size=\"14.00\">samples = 220</text>\n",
       "<text text-anchor=\"middle\" x=\"152.75\" y=\"-362.7\" font-family=\"Helvetica,sans-Serif\" font-size=\"14.00\">value = [1.0, 0.302]</text>\n",
       "<text text-anchor=\"middle\" x=\"152.75\" y=\"-347.7\" font-family=\"Helvetica,sans-Serif\" font-size=\"14.00\">class = BUG</text>\n",
       "</g>\n",
       "<!-- 0&#45;&gt;1 -->\n",
       "<g id=\"edge1\" class=\"edge\">\n",
       "<title>0&#45;&gt;1</title>\n",
       "<path fill=\"none\" stroke=\"black\" d=\"M208.02,-460.58C201.9,-452.16 195.4,-443.2 189.08,-434.5\"/>\n",
       "<polygon fill=\"black\" stroke=\"black\" points=\"191.92,-432.46 183.21,-426.42 186.25,-436.57 191.92,-432.46\"/>\n",
       "<text text-anchor=\"middle\" x=\"178.41\" y=\"-444.09\" font-family=\"Helvetica,sans-Serif\" font-size=\"14.00\">True</text>\n",
       "</g>\n",
       "<!-- 10 -->\n",
       "<g id=\"node9\" class=\"node\">\n",
       "<title>10</title>\n",
       "<path fill=\"#399de5\" stroke=\"black\" d=\"M377.5,-417.5C377.5,-417.5 270,-417.5 270,-417.5 264,-417.5 258,-411.5 258,-405.5 258,-405.5 258,-361.5 258,-361.5 258,-355.5 264,-349.5 270,-349.5 270,-349.5 377.5,-349.5 377.5,-349.5 383.5,-349.5 389.5,-355.5 389.5,-361.5 389.5,-361.5 389.5,-405.5 389.5,-405.5 389.5,-411.5 383.5,-417.5 377.5,-417.5\"/>\n",
       "<text text-anchor=\"middle\" x=\"323.75\" y=\"-400.2\" font-family=\"Helvetica,sans-Serif\" font-size=\"14.00\">gini = &#45;0.0</text>\n",
       "<text text-anchor=\"middle\" x=\"323.75\" y=\"-385.2\" font-family=\"Helvetica,sans-Serif\" font-size=\"14.00\">samples = 448</text>\n",
       "<text text-anchor=\"middle\" x=\"323.75\" y=\"-370.2\" font-family=\"Helvetica,sans-Serif\" font-size=\"14.00\">value = [0.0, 0.698]</text>\n",
       "<text text-anchor=\"middle\" x=\"323.75\" y=\"-355.2\" font-family=\"Helvetica,sans-Serif\" font-size=\"14.00\">class = NO_BUG</text>\n",
       "</g>\n",
       "<!-- 0&#45;&gt;10 -->\n",
       "<g id=\"edge8\" class=\"edge\">\n",
       "<title>0&#45;&gt;10</title>\n",
       "<path fill=\"none\" stroke=\"black\" d=\"M267.83,-460.58C275.85,-449.66 284.54,-437.85 292.61,-426.86\"/>\n",
       "<polygon fill=\"black\" stroke=\"black\" points=\"295.23,-429.21 298.33,-419.08 289.59,-425.07 295.23,-429.21\"/>\n",
       "<text text-anchor=\"middle\" x=\"303\" y=\"-436.77\" font-family=\"Helvetica,sans-Serif\" font-size=\"14.00\">False</text>\n",
       "</g>\n",
       "<!-- 2 -->\n",
       "<g id=\"node3\" class=\"node\">\n",
       "<title>2</title>\n",
       "<path fill=\"#399de5\" stroke=\"black\" d=\"M129.75,-298.5C129.75,-298.5 29.75,-298.5 29.75,-298.5 23.75,-298.5 17.75,-292.5 17.75,-286.5 17.75,-286.5 17.75,-242.5 17.75,-242.5 17.75,-236.5 23.75,-230.5 29.75,-230.5 29.75,-230.5 129.75,-230.5 129.75,-230.5 135.75,-230.5 141.75,-236.5 141.75,-242.5 141.75,-242.5 141.75,-286.5 141.75,-286.5 141.75,-292.5 135.75,-298.5 129.75,-298.5\"/>\n",
       "<text text-anchor=\"middle\" x=\"79.75\" y=\"-281.2\" font-family=\"Helvetica,sans-Serif\" font-size=\"14.00\">gini = 0.0</text>\n",
       "<text text-anchor=\"middle\" x=\"79.75\" y=\"-266.2\" font-family=\"Helvetica,sans-Serif\" font-size=\"14.00\">samples = 122</text>\n",
       "<text text-anchor=\"middle\" x=\"79.75\" y=\"-251.2\" font-family=\"Helvetica,sans-Serif\" font-size=\"14.00\">value = [0.0, 0.19]</text>\n",
       "<text text-anchor=\"middle\" x=\"79.75\" y=\"-236.2\" font-family=\"Helvetica,sans-Serif\" font-size=\"14.00\">class = NO_BUG</text>\n",
       "</g>\n",
       "<!-- 1&#45;&gt;2 -->\n",
       "<g id=\"edge2\" class=\"edge\">\n",
       "<title>1&#45;&gt;2</title>\n",
       "<path fill=\"none\" stroke=\"black\" d=\"M127.22,-341.58C120.54,-330.88 113.33,-319.32 106.59,-308.52\"/>\n",
       "<polygon fill=\"black\" stroke=\"black\" points=\"109.63,-306.78 101.37,-300.15 103.69,-310.48 109.63,-306.78\"/>\n",
       "</g>\n",
       "<!-- 5 -->\n",
       "<g id=\"node4\" class=\"node\">\n",
       "<title>5</title>\n",
       "<path fill=\"#e88f4f\" stroke=\"black\" d=\"M279.5,-306C279.5,-306 172,-306 172,-306 166,-306 160,-300 160,-294 160,-294 160,-235 160,-235 160,-229 166,-223 172,-223 172,-223 279.5,-223 279.5,-223 285.5,-223 291.5,-229 291.5,-235 291.5,-235 291.5,-294 291.5,-294 291.5,-300 285.5,-306 279.5,-306\"/>\n",
       "<text text-anchor=\"middle\" x=\"225.75\" y=\"-288.7\" font-family=\"Helvetica,sans-Serif\" font-size=\"14.00\">&lt;value&gt; &lt;= 42.16</text>\n",
       "<text text-anchor=\"middle\" x=\"225.75\" y=\"-273.7\" font-family=\"Helvetica,sans-Serif\" font-size=\"14.00\">gini = 0.181</text>\n",
       "<text text-anchor=\"middle\" x=\"225.75\" y=\"-258.7\" font-family=\"Helvetica,sans-Serif\" font-size=\"14.00\">samples = 98</text>\n",
       "<text text-anchor=\"middle\" x=\"225.75\" y=\"-243.7\" font-family=\"Helvetica,sans-Serif\" font-size=\"14.00\">value = [1.0, 0.112]</text>\n",
       "<text text-anchor=\"middle\" x=\"225.75\" y=\"-228.7\" font-family=\"Helvetica,sans-Serif\" font-size=\"14.00\">class = BUG</text>\n",
       "</g>\n",
       "<!-- 1&#45;&gt;5 -->\n",
       "<g id=\"edge3\" class=\"edge\">\n",
       "<title>1&#45;&gt;5</title>\n",
       "<path fill=\"none\" stroke=\"black\" d=\"M178.28,-341.58C183.48,-333.25 189,-324.39 194.38,-315.78\"/>\n",
       "<polygon fill=\"black\" stroke=\"black\" points=\"197.23,-317.82 199.55,-307.48 191.29,-314.12 197.23,-317.82\"/>\n",
       "</g>\n",
       "<!-- 6 -->\n",
       "<g id=\"node5\" class=\"node\">\n",
       "<title>6</title>\n",
       "<path fill=\"#e6843e\" stroke=\"black\" d=\"M217.88,-187C217.88,-187 55.62,-187 55.62,-187 49.62,-187 43.62,-181 43.62,-175 43.62,-175 43.62,-116 43.62,-116 43.62,-110 49.62,-104 55.62,-104 55.62,-104 217.88,-104 217.88,-104 223.88,-104 229.88,-110 229.88,-116 229.88,-116 229.88,-175 229.88,-175 229.88,-181 223.88,-187 217.88,-187\"/>\n",
       "<text text-anchor=\"middle\" x=\"136.75\" y=\"-169.7\" font-family=\"Helvetica,sans-Serif\" font-size=\"14.00\">&lt;term&gt; == &#39;&#45;&lt;value&gt;&#39; &lt;= 0.5</text>\n",
       "<text text-anchor=\"middle\" x=\"136.75\" y=\"-154.7\" font-family=\"Helvetica,sans-Serif\" font-size=\"14.00\">gini = 0.047</text>\n",
       "<text text-anchor=\"middle\" x=\"136.75\" y=\"-139.7\" font-family=\"Helvetica,sans-Serif\" font-size=\"14.00\">samples = 42</text>\n",
       "<text text-anchor=\"middle\" x=\"136.75\" y=\"-124.7\" font-family=\"Helvetica,sans-Serif\" font-size=\"14.00\">value = [1.0, 0.025]</text>\n",
       "<text text-anchor=\"middle\" x=\"136.75\" y=\"-109.7\" font-family=\"Helvetica,sans-Serif\" font-size=\"14.00\">class = BUG</text>\n",
       "</g>\n",
       "<!-- 5&#45;&gt;6 -->\n",
       "<g id=\"edge4\" class=\"edge\">\n",
       "<title>5&#45;&gt;6</title>\n",
       "<path fill=\"none\" stroke=\"black\" d=\"M194.62,-222.58C188.15,-214.07 181.26,-205.01 174.58,-196.23\"/>\n",
       "<polygon fill=\"black\" stroke=\"black\" points=\"177.47,-194.24 168.63,-188.4 171.9,-198.48 177.47,-194.24\"/>\n",
       "</g>\n",
       "<!-- 9 -->\n",
       "<g id=\"node8\" class=\"node\">\n",
       "<title>9</title>\n",
       "<path fill=\"#399de5\" stroke=\"black\" d=\"M367.5,-179.5C367.5,-179.5 260,-179.5 260,-179.5 254,-179.5 248,-173.5 248,-167.5 248,-167.5 248,-123.5 248,-123.5 248,-117.5 254,-111.5 260,-111.5 260,-111.5 367.5,-111.5 367.5,-111.5 373.5,-111.5 379.5,-117.5 379.5,-123.5 379.5,-123.5 379.5,-167.5 379.5,-167.5 379.5,-173.5 373.5,-179.5 367.5,-179.5\"/>\n",
       "<text text-anchor=\"middle\" x=\"313.75\" y=\"-162.2\" font-family=\"Helvetica,sans-Serif\" font-size=\"14.00\">gini = &#45;0.0</text>\n",
       "<text text-anchor=\"middle\" x=\"313.75\" y=\"-147.2\" font-family=\"Helvetica,sans-Serif\" font-size=\"14.00\">samples = 56</text>\n",
       "<text text-anchor=\"middle\" x=\"313.75\" y=\"-132.2\" font-family=\"Helvetica,sans-Serif\" font-size=\"14.00\">value = [0.0, 0.087]</text>\n",
       "<text text-anchor=\"middle\" x=\"313.75\" y=\"-117.2\" font-family=\"Helvetica,sans-Serif\" font-size=\"14.00\">class = NO_BUG</text>\n",
       "</g>\n",
       "<!-- 5&#45;&gt;9 -->\n",
       "<g id=\"edge7\" class=\"edge\">\n",
       "<title>5&#45;&gt;9</title>\n",
       "<path fill=\"none\" stroke=\"black\" d=\"M256.53,-222.58C264.74,-211.66 273.62,-199.85 281.89,-188.86\"/>\n",
       "<polygon fill=\"black\" stroke=\"black\" points=\"284.53,-191.17 287.75,-181.07 278.94,-186.96 284.53,-191.17\"/>\n",
       "</g>\n",
       "<!-- 7 -->\n",
       "<g id=\"node6\" class=\"node\">\n",
       "<title>7</title>\n",
       "<path fill=\"#399de5\" stroke=\"black\" d=\"M119.5,-68C119.5,-68 12,-68 12,-68 6,-68 0,-62 0,-56 0,-56 0,-12 0,-12 0,-6 6,0 12,0 12,0 119.5,0 119.5,0 125.5,0 131.5,-6 131.5,-12 131.5,-12 131.5,-56 131.5,-56 131.5,-62 125.5,-68 119.5,-68\"/>\n",
       "<text text-anchor=\"middle\" x=\"65.75\" y=\"-50.7\" font-family=\"Helvetica,sans-Serif\" font-size=\"14.00\">gini = 0.0</text>\n",
       "<text text-anchor=\"middle\" x=\"65.75\" y=\"-35.7\" font-family=\"Helvetica,sans-Serif\" font-size=\"14.00\">samples = 16</text>\n",
       "<text text-anchor=\"middle\" x=\"65.75\" y=\"-20.7\" font-family=\"Helvetica,sans-Serif\" font-size=\"14.00\">value = [0.0, 0.025]</text>\n",
       "<text text-anchor=\"middle\" x=\"65.75\" y=\"-5.7\" font-family=\"Helvetica,sans-Serif\" font-size=\"14.00\">class = NO_BUG</text>\n",
       "</g>\n",
       "<!-- 6&#45;&gt;7 -->\n",
       "<g id=\"edge5\" class=\"edge\">\n",
       "<title>6&#45;&gt;7</title>\n",
       "<path fill=\"none\" stroke=\"black\" d=\"M110.31,-103.73C104.81,-95.24 99,-86.28 93.46,-77.73\"/>\n",
       "<polygon fill=\"black\" stroke=\"black\" points=\"96.54,-76.06 88.16,-69.57 90.67,-79.86 96.54,-76.06\"/>\n",
       "</g>\n",
       "<!-- 8 -->\n",
       "<g id=\"node7\" class=\"node\">\n",
       "<title>8</title>\n",
       "<path fill=\"#e58139\" stroke=\"black\" d=\"M254,-68C254,-68 161.5,-68 161.5,-68 155.5,-68 149.5,-62 149.5,-56 149.5,-56 149.5,-12 149.5,-12 149.5,-6 155.5,0 161.5,0 161.5,0 254,0 254,0 260,0 266,-6 266,-12 266,-12 266,-56 266,-56 266,-62 260,-68 254,-68\"/>\n",
       "<text text-anchor=\"middle\" x=\"207.75\" y=\"-50.7\" font-family=\"Helvetica,sans-Serif\" font-size=\"14.00\">gini = &#45;0.0</text>\n",
       "<text text-anchor=\"middle\" x=\"207.75\" y=\"-35.7\" font-family=\"Helvetica,sans-Serif\" font-size=\"14.00\">samples = 26</text>\n",
       "<text text-anchor=\"middle\" x=\"207.75\" y=\"-20.7\" font-family=\"Helvetica,sans-Serif\" font-size=\"14.00\">value = [1.0, 0.0]</text>\n",
       "<text text-anchor=\"middle\" x=\"207.75\" y=\"-5.7\" font-family=\"Helvetica,sans-Serif\" font-size=\"14.00\">class = BUG</text>\n",
       "</g>\n",
       "<!-- 6&#45;&gt;8 -->\n",
       "<g id=\"edge6\" class=\"edge\">\n",
       "<title>6&#45;&gt;8</title>\n",
       "<path fill=\"none\" stroke=\"black\" d=\"M163.19,-103.73C168.69,-95.24 174.5,-86.28 180.04,-77.73\"/>\n",
       "<polygon fill=\"black\" stroke=\"black\" points=\"182.83,-79.86 185.34,-69.57 176.96,-76.06 182.83,-79.86\"/>\n",
       "</g>\n",
       "</g>\n",
       "</svg>\n"
      ],
      "text/plain": [
       "<graphviz.sources.Source at 0x117ab5460>"
      ]
     },
     "execution_count": 110,
     "metadata": {},
     "output_type": "execute_result"
    }
   ],
   "source": [
    "alhazen.show_decision_tree()"
   ]
  },
  {
   "cell_type": "markdown",
   "metadata": {
    "slideshow": {
     "slide_type": "subslide"
    }
   },
   "source": [
    "A decision tree is read from top to bottom.\n",
    "Decision nodes (with two children) come with a _predicate_ on top.\n",
    "This predicate is either\n",
    "\n",
    "* _numeric_, such as `<value> > 20`, indicating the numeric value of the given symbol, or\n",
    "* _existential_, such as `<digit> == '1'`, which has a _negative_ value when False, and a _positive_ value when True.\n",
    "\n",
    "If the predicate evaluates to `True`, follow the left path; if it evaluates to `False`, follow the right path.\n",
    "A leaf node (no children) will give you the final decision `class = BUG` or `class = NO_BUG`.\n",
    "\n",
    "So if the predicate states `<function> == 'sqrt' <= 0.5`, this means that\n",
    "\n",
    "* If the function is _not_ `sqrt` (the predicate `<function> == 'sqrt'` is negative, see above, and hence less than 0.5), follow the left (`True`) path.\n",
    "* If the function _is_ `sqrt` (the predicate `<function> == 'sqrt'` is positive), follow the right (`False`) path.\n",
    "\n",
    "The `samples` field shows the number of sample inputs that contributed to this decision.\n",
    "The `gini` field (aka Gini impurity) indicates how many samples fall into the displayed class (`BUG` or `NO_BUG`).\n",
    "A `gini` value of `0.0` means _purity_ - all samples fall into the displayed class.\n",
    "The _saturation_ of nodes also indicates purity – the higher the saturation, the higher the purity."
   ]
  },
  {
   "cell_type": "markdown",
   "metadata": {
    "slideshow": {
     "slide_type": "subslide"
    }
   },
   "source": [
    "There is also a text version available, with much fewer (but hopefully still essential) details:"
   ]
  },
  {
   "cell_type": "code",
   "execution_count": 111,
   "metadata": {
    "execution": {
     "iopub.execute_input": "2025-01-13T14:57:30.580347Z",
     "iopub.status.busy": "2025-01-13T14:57:30.580217Z",
     "iopub.status.idle": "2025-01-13T14:57:30.583032Z",
     "shell.execute_reply": "2025-01-13T14:57:30.582646Z"
    },
    "slideshow": {
     "slide_type": "subslide"
    }
   },
   "outputs": [
    {
     "name": "stdout",
     "output_type": "stream",
     "text": [
      "if <lead-digit> <= 4.5000:\n",
      "  if <function> == 'sqrt':\n",
      "    if <value> <= 42.1600:\n",
      "      if <term> == '-<value>':\n",
      "        BUG\n",
      "      else:\n",
      "        NO_BUG\n",
      "    else:\n",
      "      NO_BUG\n",
      "  else:\n",
      "    NO_BUG\n",
      "else:\n",
      "  NO_BUG\n",
      "\n"
     ]
    }
   ],
   "source": [
    "print(alhazen.friendly_decision_tree())"
   ]
  },
  {
   "cell_type": "markdown",
   "metadata": {
    "slideshow": {
     "slide_type": "subslide"
    }
   },
   "source": [
    "In both representations, we see that the present failure is associated with a negative value for the `sqrt` function and precise boundaries for its value.\n",
    "In fact, the error conditions are given in the source code:"
   ]
  },
  {
   "cell_type": "code",
   "execution_count": 112,
   "metadata": {
    "execution": {
     "iopub.execute_input": "2025-01-13T14:57:30.584496Z",
     "iopub.status.busy": "2025-01-13T14:57:30.584397Z",
     "iopub.status.idle": "2025-01-13T14:57:30.585876Z",
     "shell.execute_reply": "2025-01-13T14:57:30.585663Z"
    },
    "slideshow": {
     "slide_type": "skip"
    }
   },
   "outputs": [],
   "source": [
    "import inspect"
   ]
  },
  {
   "cell_type": "code",
   "execution_count": 113,
   "metadata": {
    "execution": {
     "iopub.execute_input": "2025-01-13T14:57:30.587057Z",
     "iopub.status.busy": "2025-01-13T14:57:30.586959Z",
     "iopub.status.idle": "2025-01-13T14:57:30.588840Z",
     "shell.execute_reply": "2025-01-13T14:57:30.588637Z"
    },
    "slideshow": {
     "slide_type": "subslide"
    }
   },
   "outputs": [
    {
     "name": "stdout",
     "output_type": "stream",
     "text": [
      "def task_sqrt(x):\n",
      "    \"\"\"Computes the square root of x, using the Newton-Raphson method\"\"\"\n",
      "    if x <= -12 and x >= -42:\n",
      "        x = 0  # Guess where the bug is :-)\n",
      "    else:\n",
      "        x = 1\n",
      "    x = max(x, 0)\n",
      "    approx = None\n",
      "    guess = x / 2\n",
      "    while approx != guess:\n",
      "        approx = guess\n",
      "        guess = (approx + x / approx) / 2\n",
      "    return approx\n",
      "\n"
     ]
    }
   ],
   "source": [
    "print(inspect.getsource(task_sqrt))"
   ]
  },
  {
   "cell_type": "markdown",
   "metadata": {
    "slideshow": {
     "slide_type": "subslide"
    }
   },
   "source": [
    "Try out Alhazen on your own code and your own examples!"
   ]
  },
  {
   "cell_type": "markdown",
   "metadata": {
    "button": false,
    "new_sheet": true,
    "run_control": {
     "read_only": false
    },
    "slideshow": {
     "slide_type": "slide"
    }
   },
   "source": [
    "## Lessons Learned\n",
    "\n",
    "* Training _machine learners from input features_ can give important insights on failure circumstances.\n",
    "* Generating _additional inputs_ based on feedback from the machine learner can greatly enhance precision.\n",
    "* Applying machine learners on input and execution features is still at its infancy."
   ]
  },
  {
   "cell_type": "markdown",
   "metadata": {
    "button": false,
    "new_sheet": false,
    "run_control": {
     "read_only": false
    },
    "slideshow": {
     "slide_type": "slide"
    }
   },
   "source": [
    "## Next Steps\n",
    "\n",
    "Our [next chapter](Repairer.ipynb) introduces _automated repair_ of programs, building on the fault localization and generalization mechanisms introduced so far."
   ]
  },
  {
   "cell_type": "markdown",
   "metadata": {
    "slideshow": {
     "slide_type": "slide"
    }
   },
   "source": [
    "## Background\n",
    "\n",
    "This chapter is built on the Alhazen paper by Kampmann et al. \\cite{Kampmann2020}.\n",
    "\n",
    "In \\cite{Eberlein2023}, Eberlein et al. introduced _Avicenna_, a new interpretation of Alhazen that makes use of the ISLa framework \\cite{Steinhoefel2022} to learn and produce input features.\n",
    "Avicenna improves over Alhazen in terms of performance, expressiveness, and precision."
   ]
  }
 ],
 "metadata": {
  "ipub": {
   "bibliography": "fuzzingbook.bib",
   "toc": true
  },
  "kernelspec": {
   "display_name": "3.12.8",
   "language": "python",
   "name": "python3"
  },
  "language_info": {
   "codemirror_mode": {
    "name": "ipython",
    "version": 3
   },
   "file_extension": ".py",
   "mimetype": "text/x-python",
   "name": "python",
   "nbconvert_exporter": "python",
   "pygments_lexer": "ipython3",
   "version": "3.12.8"
  },
  "toc": {
   "base_numbering": 1,
   "nav_menu": {},
   "number_sections": true,
   "sideBar": true,
   "skip_h1_title": true,
   "title_cell": "",
   "title_sidebar": "Contents",
   "toc_cell": false,
   "toc_position": {},
   "toc_section_display": true,
   "toc_window_display": true
  },
  "toc-autonumbering": false
 },
 "nbformat": 4,
 "nbformat_minor": 4
}