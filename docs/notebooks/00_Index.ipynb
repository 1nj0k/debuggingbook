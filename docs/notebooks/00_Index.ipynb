{
 "cells": [
  {
   "cell_type": "markdown",
   "id": "technical-extreme",
   "metadata": {},
   "source": [
    "# Index"
   ]
  },
  {
   "cell_type": "markdown",
   "id": "prescription-horizon",
   "metadata": {},
   "source": [
    "## A - E"
   ]
  },
  {
   "cell_type": "markdown",
   "id": "certain-renaissance",
   "metadata": {},
   "source": [
    "### A\n",
    "\n",
    "* `A_Class` class &mdash; [Class Diagrams (Getting a Class Hierarchy)](ClassDiagram.ipynb#Getting-a-Class-Hierarchy), [Class Diagrams (Getting a Class Hierarchy)](ClassDiagram.ipynb#Getting-a-Class-Hierarchy)\n"
   ]
  },
  {
   "cell_type": "markdown",
   "id": "proper-stylus",
   "metadata": {},
   "source": [
    "### B\n",
    "\n",
    "* `bar()` &mdash; [Class Diagrams (Getting a Class Hierarchy)](ClassDiagram.ipynb#Getting-a-Class-Hierarchy)\n",
    "* `B_Class` class &mdash; [Class Diagrams (Getting a Class Hierarchy)](ClassDiagram.ipynb#Getting-a-Class-Hierarchy)\n"
   ]
  },
  {
   "cell_type": "markdown",
   "id": "acquired-fishing",
   "metadata": {},
   "source": [
    "### C\n",
    "\n",
    "* `callee()` &mdash; [Inspecting Call Stacks (Synopsis)](StackInspector.ipynb#Synopsis)\n",
    "* `caller()` &mdash; [Inspecting Call Stacks (Synopsis)](StackInspector.ipynb#Synopsis)\n",
    "* `caller_frame()` &mdash; [Inspecting Call Stacks (Synopsis)](StackInspector.ipynb#Synopsis)\n",
    "* `caller_function()` &mdash; [Inspecting Call Stacks (Synopsis)](StackInspector.ipynb#Synopsis)\n",
    "* `caller_globals()` &mdash; [Inspecting Call Stacks (Synopsis)](StackInspector.ipynb#Synopsis)\n",
    "* `caller_locals()` &mdash; [Inspecting Call Stacks (Synopsis)](StackInspector.ipynb#Synopsis)\n",
    "* `caller_location()` &mdash; [Inspecting Call Stacks (Synopsis)](StackInspector.ipynb#Synopsis)\n",
    "* `cancel()` &mdash; [Error Handling (Catching Timeouts)](ExpectError.ipynb#Catching-Timeouts)\n",
    "* `check_time()` &mdash; [Error Handling (Catching Timeouts)](ExpectError.ipynb#Catching-Timeouts)\n",
    "* `CLASS_COLOR` &mdash; [Class Diagrams (Drawing Class Hierarchy with Method Names)](ClassDiagram.ipynb#Drawing-Class-Hierarchy-with-Method-Names), [Class Diagrams (Drawing Class Hierarchy with Method Names)](ClassDiagram.ipynb#Drawing-Class-Hierarchy-with-Method-Names)\n",
    "* `CLASS_FONT` &mdash; [Class Diagrams (Drawing Class Hierarchy with Method Names)](ClassDiagram.ipynb#Drawing-Class-Hierarchy-with-Method-Names), [Class Diagrams (Drawing Class Hierarchy with Method Names)](ClassDiagram.ipynb#Drawing-Class-Hierarchy-with-Method-Names)\n",
    "* `class_hierarchy()` &mdash; [Class Diagrams (Getting a Class Hierarchy)](ClassDiagram.ipynb#Getting-a-Class-Hierarchy)\n",
    "* `class_items()` &mdash; [Class Diagrams (Getting Methods and Variables)](ClassDiagram.ipynb#Getting-Methods-and-Variables)\n",
    "* `_class_items()` &mdash; [Class Diagrams (Getting Methods and Variables)](ClassDiagram.ipynb#Getting-Methods-and-Variables)\n",
    "* `class_methods()` &mdash; [Class Diagrams (Getting Methods and Variables)](ClassDiagram.ipynb#Getting-Methods-and-Variables)\n",
    "* `class_methods_string()` &mdash; [Class Diagrams (Drawing Class Hierarchy with Method Names)](ClassDiagram.ipynb#Drawing-Class-Hierarchy-with-Method-Names)\n",
    "* `class_set()` &mdash; [Class Diagrams (Getting a Class Tree)](ClassDiagram.ipynb#Getting-a-Class-Tree)\n",
    "* `class_tree()` &mdash; [Class Diagrams (Getting a Class Tree)](ClassDiagram.ipynb#Getting-a-Class-Tree)\n",
    "* `class_vars()` &mdash; [Class Diagrams (Getting Methods and Variables)](ClassDiagram.ipynb#Getting-Methods-and-Variables)\n",
    "* `class_vars_string()` &mdash; [Class Diagrams (Drawing Class Hierarchy with Method Names)](ClassDiagram.ipynb#Drawing-Class-Hierarchy-with-Method-Names)\n",
    "* `clock()` &mdash; [Timer (Measuring Time)](Timer.ipynb#Measuring-Time)\n",
    "* `create_function()` &mdash; [Inspecting Call Stacks (Synopsis)](StackInspector.ipynb#Synopsis)\n",
    "* `C_Class` class &mdash; [Class Diagrams (Getting a Class Hierarchy)](ClassDiagram.ipynb#Getting-a-Class-Hierarchy)\n"
   ]
  },
  {
   "cell_type": "markdown",
   "id": "referenced-sequence",
   "metadata": {},
   "source": [
    "### D\n",
    "\n",
    "* `defined_in()` &mdash; [Class Diagrams (Getting Methods and Variables)](ClassDiagram.ipynb#Getting-Methods-and-Variables)\n",
    "* `display_class_hierarchy()` &mdash; [Class Diagrams (Drawing Class Hierarchy with Method Names)](ClassDiagram.ipynb#Drawing-Class-Hierarchy-with-Method-Names)\n",
    "* `display_class_node()` &mdash; [Class Diagrams (Drawing Class Hierarchy with Method Names)](ClassDiagram.ipynb#Drawing-Class-Hierarchy-with-Method-Names)\n",
    "* `display_class_trees()` &mdash; [Class Diagrams (Drawing Class Hierarchy with Method Names)](ClassDiagram.ipynb#Drawing-Class-Hierarchy-with-Method-Names)\n",
    "* `display_legend()` &mdash; [Class Diagrams (Drawing Class Hierarchy with Method Names)](ClassDiagram.ipynb#Drawing-Class-Hierarchy-with-Method-Names)\n",
    "* `docstring()` &mdash; [Class Diagrams (Getting Docs)](ClassDiagram.ipynb#Getting-Docs)\n",
    "* `doc_class_methods()` &mdash; [Class Diagrams (Getting Methods and Variables)](ClassDiagram.ipynb#Getting-Methods-and-Variables)\n",
    "* `DOC_INDENT` &mdash; [Class Diagrams (Getting Docs)](ClassDiagram.ipynb#Getting-Docs)\n",
    "* `D_Class` class &mdash; [Class Diagrams (Getting a Class Hierarchy)](ClassDiagram.ipynb#Getting-a-Class-Hierarchy), [Class Diagrams (Getting a Class Hierarchy)](ClassDiagram.ipynb#Getting-a-Class-Hierarchy)\n"
   ]
  },
  {
   "cell_type": "markdown",
   "id": "technical-atlantic",
   "metadata": {},
   "source": [
    "### E\n",
    "\n",
    "* `elapsed_time()` &mdash; [Timer (Measuring Time)](Timer.ipynb#Measuring-Time)\n",
    "* `__enter__()` &mdash; [Error Handling (Catching Errors)](ExpectError.ipynb#Catching-Errors), [Error Handling (Catching Timeouts)](ExpectError.ipynb#Catching-Timeouts), [Timer (Measuring Time)](Timer.ipynb#Measuring-Time)\n",
    "* `escape()` &mdash; [Class Diagrams (Getting Docs)](ClassDiagram.ipynb#Getting-Docs)\n",
    "* `escape_doc()` &mdash; [Class Diagrams (Getting Docs)](ClassDiagram.ipynb#Getting-Docs)\n",
    "* `__exit__()` &mdash; [Error Handling (Catching Errors)](ExpectError.ipynb#Catching-Errors), [Error Handling (Catching Timeouts)](ExpectError.ipynb#Catching-Timeouts), [Timer (Measuring Time)](Timer.ipynb#Measuring-Time)\n",
    "* `ExpectError` class &mdash; [Error Handling (Catching Errors)](ExpectError.ipynb#Catching-Errors)\n",
    "* `ExpectTimeout` class &mdash; [Error Handling (Catching Timeouts)](ExpectError.ipynb#Catching-Timeouts)\n"
   ]
  },
  {
   "cell_type": "markdown",
   "id": "collaborative-afternoon",
   "metadata": {},
   "source": [
    "## F - O"
   ]
  },
  {
   "cell_type": "markdown",
   "id": "recent-macintosh",
   "metadata": {},
   "source": [
    "### F\n",
    "\n",
    "* `fail_test()` &mdash; [Error Handling (Catching Errors)](ExpectError.ipynb#Catching-Errors)\n",
    "* `foo()` &mdash; [Class Diagrams (Getting a Class Hierarchy)](ClassDiagram.ipynb#Getting-a-Class-Hierarchy), [Class Diagrams (Getting a Class Hierarchy)](ClassDiagram.ipynb#Getting-a-Class-Hierarchy), [Class Diagrams (Getting a Class Hierarchy)](ClassDiagram.ipynb#Getting-a-Class-Hierarchy)\n"
   ]
  },
  {
   "cell_type": "markdown",
   "id": "female-replica",
   "metadata": {},
   "source": [
    "### I\n",
    "\n",
    "* `__init__()` &mdash; [Error Handling (Catching Errors)](ExpectError.ipynb#Catching-Errors), [Error Handling (Catching Timeouts)](ExpectError.ipynb#Catching-Timeouts)\n",
    "* `is_abstract()` &mdash; [Class Diagrams (Drawing Class Hierarchy with Method Names)](ClassDiagram.ipynb#Drawing-Class-Hierarchy-with-Method-Names)\n",
    "* `is_internal_error()` &mdash; [Inspecting Call Stacks (Synopsis)](StackInspector.ipynb#Synopsis)\n",
    "* `is_overloaded()` &mdash; [Class Diagrams (Drawing Class Hierarchy with Method Names)](ClassDiagram.ipynb#Drawing-Class-Hierarchy-with-Method-Names)\n",
    "* `is_public()` &mdash; [Class Diagrams (Drawing Class Hierarchy with Method Names)](ClassDiagram.ipynb#Drawing-Class-Hierarchy-with-Method-Names)\n",
    "* `is_var()` &mdash; [Class Diagrams (Getting Methods and Variables)](ClassDiagram.ipynb#Getting-Methods-and-Variables)\n"
   ]
  },
  {
   "cell_type": "markdown",
   "id": "surrounded-bridal",
   "metadata": {},
   "source": [
    "### L\n",
    "\n",
    "* `long_running_test()` &mdash; [Error Handling (Catching Timeouts)](ExpectError.ipynb#Catching-Timeouts)\n"
   ]
  },
  {
   "cell_type": "markdown",
   "id": "bigger-robert",
   "metadata": {},
   "source": [
    "### M\n",
    "\n",
    "* `METHOD_COLOR` &mdash; [Class Diagrams (Drawing Class Hierarchy with Method Names)](ClassDiagram.ipynb#Drawing-Class-Hierarchy-with-Method-Names)\n",
    "* `METHOD_FONT` &mdash; [Class Diagrams (Drawing Class Hierarchy with Method Names)](ClassDiagram.ipynb#Drawing-Class-Hierarchy-with-Method-Names)\n",
    "* `method_string()` &mdash; [Class Diagrams (Drawing Class Hierarchy with Method Names)](ClassDiagram.ipynb#Drawing-Class-Hierarchy-with-Method-Names)\n"
   ]
  },
  {
   "cell_type": "markdown",
   "id": "ultimate-newspaper",
   "metadata": {},
   "source": [
    "### O\n",
    "\n",
    "* `our_frame()` &mdash; [Inspecting Call Stacks (Synopsis)](StackInspector.ipynb#Synopsis)\n",
    "* `overloaded_class_methods()` &mdash; [Class Diagrams (Getting Methods and Variables)](ClassDiagram.ipynb#Getting-Methods-and-Variables)\n"
   ]
  },
  {
   "cell_type": "markdown",
   "id": "hairy-afghanistan",
   "metadata": {},
   "source": [
    "## P - U"
   ]
  },
  {
   "cell_type": "markdown",
   "id": "fifty-capture",
   "metadata": {},
   "source": [
    "### P\n",
    "\n",
    "* `public_class_methods()` &mdash; [Class Diagrams (Getting Methods and Variables)](ClassDiagram.ipynb#Getting-Methods-and-Variables)\n"
   ]
  },
  {
   "cell_type": "markdown",
   "id": "concerned-bachelor",
   "metadata": {},
   "source": [
    "### Q\n",
    "\n",
    "* `quux()` &mdash; [Class Diagrams (Getting a Class Hierarchy)](ClassDiagram.ipynb#Getting-a-Class-Hierarchy)\n",
    "* `qux()` &mdash; [Class Diagrams (Getting a Class Hierarchy)](ClassDiagram.ipynb#Getting-a-Class-Hierarchy)\n"
   ]
  },
  {
   "cell_type": "markdown",
   "id": "available-combat",
   "metadata": {},
   "source": [
    "### S\n",
    "\n",
    "* `search_frame()` &mdash; [Inspecting Call Stacks (Synopsis)](StackInspector.ipynb#Synopsis)\n",
    "* `search_func()` &mdash; [Inspecting Call Stacks (Synopsis)](StackInspector.ipynb#Synopsis)\n",
    "* `search_superclasses()` &mdash; [Class Diagrams (Getting Methods and Variables)](ClassDiagram.ipynb#Getting-Methods-and-Variables)\n",
    "* `second()` &mdash; [Class Diagrams (Getting a Class Hierarchy)](ClassDiagram.ipynb#Getting-a-Class-Hierarchy)\n",
    "* `some_long_running_function()` &mdash; [Timer (Measuring Time)](Timer.ipynb#Measuring-Time)\n",
    "* `StackInspectorDemo` class &mdash; [Inspecting Call Stacks (Synopsis)](StackInspector.ipynb#Synopsis)\n",
    "* `StackInspector` class &mdash; [Inspecting Call Stacks (Synopsis)](StackInspector.ipynb#Synopsis), [Inspecting Call Stacks (Synopsis)](StackInspector.ipynb#Synopsis), [Inspecting Call Stacks (Synopsis)](StackInspector.ipynb#Synopsis)\n"
   ]
  },
  {
   "cell_type": "markdown",
   "id": "visible-defeat",
   "metadata": {},
   "source": [
    "### T\n",
    "\n",
    "* `test()` &mdash; [Inspecting Call Stacks (Synopsis)](StackInspector.ipynb#Synopsis)\n",
    "* `Timer` class &mdash; [Timer (Measuring Time)](Timer.ipynb#Measuring-Time)\n",
    "* `traverse_tree()` &mdash; [Class Diagrams (Getting a Class Tree)](ClassDiagram.ipynb#Getting-a-Class-Tree)\n"
   ]
  },
  {
   "cell_type": "markdown",
   "id": "great-commonwealth",
   "metadata": {},
   "source": [
    "### U\n",
    "\n",
    "* `unknown()` &mdash; [Class Diagrams (Getting Docs)](ClassDiagram.ipynb#Getting-Docs), [Inspecting Call Stacks (Synopsis)](StackInspector.ipynb#Synopsis)\n"
   ]
  },
  {
   "cell_type": "markdown",
   "id": "worst-statistics",
   "metadata": {},
   "source": [
    "## V - V"
   ]
  },
  {
   "cell_type": "markdown",
   "id": "simplified-insurance",
   "metadata": {},
   "source": [
    "### V\n",
    "\n",
    "* `var_string()` &mdash; [Class Diagrams (Drawing Class Hierarchy with Method Names)](ClassDiagram.ipynb#Drawing-Class-Hierarchy-with-Method-Names)\n",
    "* `VAR` &mdash; [Class Diagrams (Getting a Class Hierarchy)](ClassDiagram.ipynb#Getting-a-Class-Hierarchy)\n"
   ]
  }
 ],
 "metadata": {
  "kernelspec": {
   "display_name": "Python 3",
   "language": "python",
   "name": "python3"
  },
  "language_info": {
   "codemirror_mode": {
    "name": "ipython",
    "version": 3
   },
   "file_extension": ".py",
   "mimetype": "text/x-python",
   "name": "python",
   "nbconvert_exporter": "python",
   "pygments_lexer": "ipython3",
   "version": "3.6.6"
  },
  "toc-autonumbering": false
 },
 "nbformat": 4,
 "nbformat_minor": 5
}