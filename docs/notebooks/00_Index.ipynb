{
 "cells": [
  {
   "cell_type": "markdown",
   "id": "strategic-combat",
   "metadata": {},
   "source": [
    "# Index"
   ]
  },
  {
   "cell_type": "markdown",
   "id": "applied-terrain",
   "metadata": {},
   "source": [
    "## A - E"
   ]
  },
  {
   "cell_type": "markdown",
   "id": "disturbed-compilation",
   "metadata": {},
   "source": [
    "### A\n",
    "\n",
    "* abstract syntax tree &mdash; [Tracing Executions (Exercise 2: Syntax-Based Instrumentation)](Tracer.ipynb#Exercise-2:-Syntax-Based-Instrumentation)\n",
    "* _actual_ `<assert.h>` header file &mdash; [Asserting Expectations (Assertion Diagnostics)](Assertions.ipynb#Assertion-Diagnostics)\n",
    "* Address Sanitizer](http://clang.llvm.org/docs/AddressSanitizer.html) discussed in this chapter was developed at Google; the [paper by Serebryany &mdash; [Asserting Expectations (Background)](Assertions.ipynb#Background)\n",
    "* `advance()` &mdash; [Asserting Expectations (End of Excursion)](Assertions.ipynb#End-of-Excursion), [Asserting Expectations (End of Excursion)](Assertions.ipynb#End-of-Excursion)\n",
    "* `allocate()` &mdash; [Asserting Expectations (Excursion: Dynamic Memory in C)](Assertions.ipynb#Excursion:-Dynamic-Memory-in-C), [Asserting Expectations (Excursion: Managed Memory)](Assertions.ipynb#Excursion:-Managed-Memory)\n",
    "* `AMBER` &mdash; [Asserting Expectations (Consider Leaving Some Assertions On)](Assertions.ipynb#Consider-Leaving-Some-Assertions-On)\n",
    "* `assign_command()` &mdash; [How Debuggers Work (Exercise 1: Changing State)](Debugger.ipynb#Exercise-1:-Changing-State)\n",
    "* AST &mdash; [Tracing Executions (Exercise 2: Syntax-Based Instrumentation)](Tracer.ipynb#Exercise-2:-Syntax-Based-Instrumentation)\n",
    "* `A_Class` class &mdash; [Class Diagrams (Getting a Class Hierarchy)](ClassDiagram.ipynb#Getting-a-Class-Hierarchy), [Class Diagrams (Getting a Class Hierarchy)](ClassDiagram.ipynb#Getting-a-Class-Hierarchy)\n"
   ]
  },
  {
   "cell_type": "markdown",
   "id": "communist-karen",
   "metadata": {},
   "source": [
    "### B\n",
    "\n",
    "* `bar()` &mdash; [Class Diagrams (Getting a Class Hierarchy)](ClassDiagram.ipynb#Getting-a-Class-Hierarchy)\n",
    "* `BetterTime` class &mdash; [Asserting Expectations (End of Excursion)](Assertions.ipynb#End-of-Excursion)\n",
    "* `BLACK` &mdash; [Asserting Expectations (Large Data Structures)](Assertions.ipynb#Large-Data-Structures)\n",
    "* `BLOCK_LIST_START` &mdash; [Asserting Expectations (Excursion: Dynamic Memory in C)](Assertions.ipynb#Excursion:-Dynamic-Memory-in-C)\n",
    "* `break_command()` &mdash; [How Debuggers Work (Setting Breakpoints)](Debugger.ipynb#Setting-Breakpoints)\n",
    "* bug &mdash; [Introduction to Debugging (From Defect to Failure)](Intro_Debugging.ipynb#From-Defect-to-Failure), [Introduction to Debugging (Lessons Learned)](Intro_Debugging.ipynb#Lessons-Learned)\n",
    "* `B_Class` class &mdash; [Class Diagrams (Getting a Class Hierarchy)](ClassDiagram.ipynb#Getting-a-Class-Hierarchy)\n"
   ]
  },
  {
   "cell_type": "markdown",
   "id": "acquired-bosnia",
   "metadata": {},
   "source": [
    "### C\n",
    "\n",
    "* call stack &mdash; [Inspecting Call Stacks (Inspecting Call Stacks)](StackInspector.ipynb#Inspecting-Call-Stacks)\n",
    "* `callee()` &mdash; [Inspecting Call Stacks (Synopsis)](StackInspector.ipynb#Synopsis)\n",
    "* `caller()` &mdash; [Inspecting Call Stacks (Synopsis)](StackInspector.ipynb#Synopsis)\n",
    "* `caller_frame()` &mdash; [Inspecting Call Stacks (Inspecting Call Stacks)](StackInspector.ipynb#Inspecting-Call-Stacks)\n",
    "* `caller_function()` &mdash; [Inspecting Call Stacks (Inspecting Call Stacks)](StackInspector.ipynb#Inspecting-Call-Stacks)\n",
    "* `caller_globals()` &mdash; [Inspecting Call Stacks (Inspecting Call Stacks)](StackInspector.ipynb#Inspecting-Call-Stacks)\n",
    "* `caller_locals()` &mdash; [Inspecting Call Stacks (Inspecting Call Stacks)](StackInspector.ipynb#Inspecting-Call-Stacks)\n",
    "* `caller_location()` &mdash; [Inspecting Call Stacks (Inspecting Call Stacks)](StackInspector.ipynb#Inspecting-Call-Stacks)\n",
    "* `cancel()` &mdash; [Error Handling (Catching Timeouts)](ExpectError.ipynb#Catching-Timeouts)\n",
    "* cause-effect chain &mdash; [Introduction to Debugging (From Defect to Failure)](Intro_Debugging.ipynb#From-Defect-to-Failure)\n",
    "* `changed_vars()` &mdash; [Tracing Executions (Tracing Variable Changes)](Tracer.ipynb#Tracing-Variable-Changes)\n",
    "* \"Checking a Large Routine\" &mdash; [Asserting Expectations (Background)](Assertions.ipynb#Background)\n",
    "* `check_time()` &mdash; [Error Handling (Catching Timeouts)](ExpectError.ipynb#Catching-Timeouts)\n",
    "* `CLASS_COLOR` &mdash; [Class Diagrams (Drawing Class Hierarchy with Method Names)](ClassDiagram.ipynb#Drawing-Class-Hierarchy-with-Method-Names), [Class Diagrams (Drawing Class Hierarchy with Method Names)](ClassDiagram.ipynb#Drawing-Class-Hierarchy-with-Method-Names)\n",
    "* `CLASS_FONT` &mdash; [Class Diagrams (Drawing Class Hierarchy with Method Names)](ClassDiagram.ipynb#Drawing-Class-Hierarchy-with-Method-Names), [Class Diagrams (Drawing Class Hierarchy with Method Names)](ClassDiagram.ipynb#Drawing-Class-Hierarchy-with-Method-Names)\n",
    "* `class_hierarchy()` &mdash; [Class Diagrams (Getting a Class Hierarchy)](ClassDiagram.ipynb#Getting-a-Class-Hierarchy)\n",
    "* `class_items()` &mdash; [Class Diagrams (Getting Methods and Variables)](ClassDiagram.ipynb#Getting-Methods-and-Variables)\n",
    "* `_class_items()` &mdash; [Class Diagrams (Getting Methods and Variables)](ClassDiagram.ipynb#Getting-Methods-and-Variables)\n",
    "* `class_methods()` &mdash; [Class Diagrams (Getting Methods and Variables)](ClassDiagram.ipynb#Getting-Methods-and-Variables)\n",
    "* `class_methods_string()` &mdash; [Class Diagrams (Drawing Class Hierarchy with Method Names)](ClassDiagram.ipynb#Drawing-Class-Hierarchy-with-Method-Names)\n",
    "* `class_set()` &mdash; [Class Diagrams (Getting a Class Tree)](ClassDiagram.ipynb#Getting-a-Class-Tree)\n",
    "* `class_tree()` &mdash; [Class Diagrams (Getting a Class Tree)](ClassDiagram.ipynb#Getting-a-Class-Tree)\n",
    "* `class_vars()` &mdash; [Class Diagrams (Getting Methods and Variables)](ClassDiagram.ipynb#Getting-Methods-and-Variables)\n",
    "* `class_vars_string()` &mdash; [Class Diagrams (Drawing Class Hierarchy with Method Names)](ClassDiagram.ipynb#Drawing-Class-Hierarchy-with-Method-Names)\n",
    "* `clock()` &mdash; [Timer (Measuring Time)](Timer.ipynb#Measuring-Time)\n",
    "* `commands()` &mdash; [How Debuggers Work (Excursion: Implementing execute())](Debugger.ipynb#Excursion:-Implementing-execute())\n",
    "* `command_method()` &mdash; [How Debuggers Work (Excursion: Implementing execute())](Debugger.ipynb#Excursion:-Implementing-execute())\n",
    "* `ConditionalTracer` class &mdash; [Tracing Executions (Conditional Tracing)](Tracer.ipynb#Conditional-Tracing), [Tracing Executions (Conditional Tracing)](Tracer.ipynb#Conditional-Tracing), [Tracing Executions (Conditional Tracing)](Tracer.ipynb#Conditional-Tracing), [Tracing Executions (Conditional Tracing)](Tracer.ipynb#Conditional-Tracing), [Tracing Executions (Conditional Tracing)](Tracer.ipynb#Conditional-Tracing)\n",
    "* `CONDITION` &mdash; [How Debuggers Work (Watchpoints (\"watch\"))](Debugger.ipynb#Watchpoints-(\"watch\"))\n",
    "* `continue_command()` &mdash; [How Debuggers Work (Debugger Interaction)](Debugger.ipynb#Debugger-Interaction)\n",
    "* `create_function()` &mdash; [Inspecting Call Stacks (Inspecting Call Stacks)](StackInspector.ipynb#Inspecting-Call-Stacks)\n",
    "* `C_Class` class &mdash; [Class Diagrams (Getting a Class Hierarchy)](ClassDiagram.ipynb#Getting-a-Class-Hierarchy)\n"
   ]
  },
  {
   "cell_type": "markdown",
   "id": "synthetic-terrorism",
   "metadata": {},
   "source": [
    "### D\n",
    "\n",
    "* Daniel Lemire puts it &mdash; [Asserting Expectations (Checking Memory Usage with Memory Sanitizer)](Assertions.ipynb#Checking-Memory-Usage-with-Memory-Sanitizer)\n",
    "* Debugger API](https://developer.mozilla.org/en-US/docs/Tools/Debugger-API) and Google's [chrome.debugger API &mdash; [Tracing Executions (High-Level Debugging Interfaces)](Tracer.ipynb#High-Level-Debugging-Interfaces)\n",
    "* debuggers &mdash; [How Debuggers Work (Debuggers)](Debugger.ipynb#Debuggers)\n",
    "* `Debugger` class &mdash; [How Debuggers Work (Debugger Interaction)](Debugger.ipynb#Debugger-Interaction), [How Debuggers Work (Debugger Interaction)](Debugger.ipynb#Debugger-Interaction), [How Debuggers Work (Debugger Interaction)](Debugger.ipynb#Debugger-Interaction), [How Debuggers Work (Debugger Interaction)](Debugger.ipynb#Debugger-Interaction), [How Debuggers Work (Debugger Interaction)](Debugger.ipynb#Debugger-Interaction), [How Debuggers Work (Debugger Interaction)](Debugger.ipynb#Debugger-Interaction), [How Debuggers Work (Debugger Interaction)](Debugger.ipynb#Debugger-Interaction), [How Debuggers Work (Excursion: Implementing execute())](Debugger.ipynb#Excursion:-Implementing-execute()), [How Debuggers Work (Excursion: Implementing execute())](Debugger.ipynb#Excursion:-Implementing-execute()), [How Debuggers Work (Excursion: Implementing execute())](Debugger.ipynb#Excursion:-Implementing-execute()), [How Debuggers Work (Excursion: Implementing execute())](Debugger.ipynb#Excursion:-Implementing-execute()), [How Debuggers Work (Printing Values)](Debugger.ipynb#Printing-Values), [How Debuggers Work (Printing Values)](Debugger.ipynb#Printing-Values), [How Debuggers Work (Listing Source Code)](Debugger.ipynb#Listing-Source-Code), [How Debuggers Work (Setting Breakpoints)](Debugger.ipynb#Setting-Breakpoints), [How Debuggers Work (Deleting Breakpoints)](Debugger.ipynb#Deleting-Breakpoints), [How Debuggers Work (Listings with Benefits)](Debugger.ipynb#Listings-with-Benefits), [How Debuggers Work (Quitting)](Debugger.ipynb#Quitting), [How Debuggers Work (Exercise 1: Changing State)](Debugger.ipynb#Exercise-1:-Changing-State)\n",
    "* debugging information &mdash; [Tracing Executions (Low-Level Debugging Interfaces)](Tracer.ipynb#Low-Level-Debugging-Interfaces)\n",
    "* `defined_in()` &mdash; [Class Diagrams (Getting Methods and Variables)](ClassDiagram.ipynb#Getting-Methods-and-Variables)\n",
    "* `delete()` &mdash; [Asserting Expectations (Large Data Structures)](Assertions.ipynb#Large-Data-Structures)\n",
    "* `delete_command()` &mdash; [How Debuggers Work (Deleting Breakpoints)](Debugger.ipynb#Deleting-Breakpoints)\n",
    "* description of red-black trees on Wikipedia &mdash; [Asserting Expectations (Large Data Structures)](Assertions.ipynb#Large-Data-Structures)\n",
    "* diagnosis &mdash; [Introduction to Debugging (Fixing the Bug)](Intro_Debugging.ipynb#Fixing-the-Bug)\n",
    "* `display_class_hierarchy()` &mdash; [Class Diagrams (Drawing Class Hierarchy with Method Names)](ClassDiagram.ipynb#Drawing-Class-Hierarchy-with-Method-Names)\n",
    "* `display_class_node()` &mdash; [Class Diagrams (Drawing Class Hierarchy with Method Names)](ClassDiagram.ipynb#Drawing-Class-Hierarchy-with-Method-Names)\n",
    "* `display_class_trees()` &mdash; [Class Diagrams (Drawing Class Hierarchy with Method Names)](ClassDiagram.ipynb#Drawing-Class-Hierarchy-with-Method-Names)\n",
    "* `display_legend()` &mdash; [Class Diagrams (Drawing Class Hierarchy with Method Names)](ClassDiagram.ipynb#Drawing-Class-Hierarchy-with-Method-Names)\n",
    "* `docstring()` &mdash; [Class Diagrams (Getting Docs)](ClassDiagram.ipynb#Getting-Docs)\n",
    "* `doc_class_methods()` &mdash; [Class Diagrams (Getting Methods and Variables)](ClassDiagram.ipynb#Getting-Methods-and-Variables)\n",
    "* `DOC_INDENT` &mdash; [Class Diagrams (Getting Docs)](ClassDiagram.ipynb#Getting-Docs)\n",
    "* `do_report()` &mdash; [Tracing Executions (Conditional Tracing)](Tracer.ipynb#Conditional-Tracing), [Tracing Executions (Watching Events)](Tracer.ipynb#Watching-Events)\n",
    "* `DynamicMemory` class &mdash; [Asserting Expectations (Excursion: Dynamic Memory in C)](Assertions.ipynb#Excursion:-Dynamic-Memory-in-C), [Asserting Expectations (Excursion: Dynamic Memory in C)](Assertions.ipynb#Excursion:-Dynamic-Memory-in-C)\n",
    "* `D_Class` class &mdash; [Class Diagrams (Getting a Class Hierarchy)](ClassDiagram.ipynb#Getting-a-Class-Hierarchy), [Class Diagrams (Getting a Class Hierarchy)](ClassDiagram.ipynb#Getting-a-Class-Hierarchy)\n"
   ]
  },
  {
   "cell_type": "markdown",
   "id": "cordless-resort",
   "metadata": {},
   "source": [
    "### E\n",
    "\n",
    "* `elapsed_time()` &mdash; [Timer (Measuring Time)](Timer.ipynb#Measuring-Time)\n",
    "* `__enter__()` &mdash; [Tracing Executions (A Tracer Class)](Tracer.ipynb#A-Tracer-Class), [Asserting Expectations (Exercise 1 – Storage Assertions)](Assertions.ipynb#Exercise-1-–-Storage-Assertions), [Asserting Expectations (Task 2 – Global Consistency)](Assertions.ipynb#Task-2-–-Global-Consistency), [Error Handling (Catching Errors)](ExpectError.ipynb#Catching-Errors), [Error Handling (Catching Timeouts)](ExpectError.ipynb#Catching-Timeouts), [Timer (Measuring Time)](Timer.ipynb#Measuring-Time)\n",
    "* `equalNumberOfBlackNodesOnSubtrees()` &mdash; [Asserting Expectations (Large Data Structures)](Assertions.ipynb#Large-Data-Structures)\n",
    "* error &mdash; [Introduction to Debugging (From Defect to Failure)](Intro_Debugging.ipynb#From-Defect-to-Failure)\n",
    "* `escape()` &mdash; [Class Diagrams (Getting Docs)](ClassDiagram.ipynb#Getting-Docs)\n",
    "* `escape_doc()` &mdash; [Class Diagrams (Getting Docs)](ClassDiagram.ipynb#Getting-Docs)\n",
    "* `eval_in_context()` &mdash; [Tracing Executions (Conditional Tracing)](Tracer.ipynb#Conditional-Tracing), [Tracing Executions (Conditional Tracing)](Tracer.ipynb#Conditional-Tracing)\n",
    "* `events_changed()` &mdash; [Tracing Executions (Watching Events)](Tracer.ipynb#Watching-Events)\n",
    "* `EventTracer` class &mdash; [Tracing Executions (Watching Events)](Tracer.ipynb#Watching-Events), [Tracing Executions (Watching Events)](Tracer.ipynb#Watching-Events), [Tracing Executions (Watching Events)](Tracer.ipynb#Watching-Events)\n",
    "* `execute()` &mdash; [How Debuggers Work (Debugger Interaction)](Debugger.ipynb#Debugger-Interaction), [How Debuggers Work (Excursion: Implementing execute())](Debugger.ipynb#Excursion:-Implementing-execute())\n",
    "* execution log &mdash; [Tracing Executions (Tracing Python Programs)](Tracer.ipynb#Tracing-Python-Programs)\n",
    "* `execution_diagram()` &mdash; [Introduction to Debugging (From Defect to Failure)](Intro_Debugging.ipynb#From-Defect-to-Failure)\n",
    "* `__exit__()` &mdash; [Tracing Executions (A Tracer Class)](Tracer.ipynb#A-Tracer-Class), [Asserting Expectations (Exercise 1 – Storage Assertions)](Assertions.ipynb#Exercise-1-–-Storage-Assertions), [Asserting Expectations (Task 2 – Global Consistency)](Assertions.ipynb#Task-2-–-Global-Consistency), [Error Handling (Catching Errors)](ExpectError.ipynb#Catching-Errors), [Error Handling (Catching Timeouts)](ExpectError.ipynb#Catching-Timeouts), [Timer (Measuring Time)](Timer.ipynb#Measuring-Time)\n",
    "* `ExpectError` class &mdash; [Error Handling (Catching Errors)](ExpectError.ipynb#Catching-Errors)\n",
    "* `ExpectTimeout` class &mdash; [Error Handling (Catching Timeouts)](ExpectError.ipynb#Catching-Timeouts)\n"
   ]
  },
  {
   "cell_type": "markdown",
   "id": "regular-journalist",
   "metadata": {},
   "source": [
    "## F - J"
   ]
  },
  {
   "cell_type": "markdown",
   "id": "efficient-hypothesis",
   "metadata": {},
   "source": [
    "### F\n",
    "\n",
    "* `fail()` &mdash; [Tracing Executions (Exercise 1: Exception Handling)](Tracer.ipynb#Exercise-1:-Exception-Handling)\n",
    "* failure &mdash; [Introduction to Debugging (From Defect to Failure)](Intro_Debugging.ipynb#From-Defect-to-Failure)\n",
    "* `FAIL_COLOR` &mdash; [Introduction to Debugging (Visualizing Code)](Intro_Debugging.ipynb#Visualizing-Code)\n",
    "* `fail_test()` &mdash; [Error Handling (Catching Errors)](ExpectError.ipynb#Catching-Errors)\n",
    "* `FAIL` &mdash; [Introduction to Debugging (Visualizing Code)](Intro_Debugging.ipynb#Visualizing-Code)\n",
    "* fault &mdash; [Introduction to Debugging (From Defect to Failure)](Intro_Debugging.ipynb#From-Defect-to-Failure)\n",
    "* First actual case of bug being found &mdash; [Introduction to Debugging (Debugging Aftermath)](Intro_Debugging.ipynb#Debugging-Aftermath)\n",
    "* `FONT_NAME` &mdash; [Introduction to Debugging (Visualizing Code)](Intro_Debugging.ipynb#Visualizing-Code)\n",
    "* `foo()` &mdash; [Tracing Executions (Exercise 2: Syntax-Based Instrumentation)](Tracer.ipynb#Exercise-2:-Syntax-Based-Instrumentation), [Class Diagrams (Getting a Class Hierarchy)](ClassDiagram.ipynb#Getting-a-Class-Hierarchy), [Class Diagrams (Getting a Class Hierarchy)](ClassDiagram.ipynb#Getting-a-Class-Hierarchy), [Class Diagrams (Getting a Class Hierarchy)](ClassDiagram.ipynb#Getting-a-Class-Hierarchy)\n",
    "* `free()` &mdash; [Asserting Expectations (Excursion: Dynamic Memory in C)](Assertions.ipynb#Excursion:-Dynamic-Memory-in-C), [Asserting Expectations (Excursion: Managed Memory)](Assertions.ipynb#Excursion:-Managed-Memory)\n",
    "* `fun()` &mdash; [Asserting Expectations (Assertion Diagnostics)](Assertions.ipynb#Assertion-Diagnostics)\n",
    "* `FUNCTION` &mdash; [How Debuggers Work (Named breakpoints (\"break\"))](Debugger.ipynb#Named-breakpoints-(\"break\"))\n"
   ]
  },
  {
   "cell_type": "markdown",
   "id": "internal-remark",
   "metadata": {},
   "source": [
    "### G\n",
    "\n",
    "* GDB, the GNU debugger](https://www.gnu.org/software/gdb/), whose interface in turn goes back to earlier command-line debuggers such as [dbx &mdash; [How Debuggers Work (Background)](Debugger.ipynb#Background)\n",
    "* `__getitem__()` &mdash; [Asserting Expectations (Excursion: A C Memory Model Simulator)](Assertions.ipynb#Excursion:-A-C-Memory-Model-Simulator), [Asserting Expectations (Exercise 1 – Storage Assertions)](Assertions.ipynb#Exercise-1-–-Storage-Assertions), [Asserting Expectations (Task 2 – Global Consistency)](Assertions.ipynb#Task-2-–-Global-Consistency)\n",
    "* `graph()` &mdash; [Introduction to Debugging (Visualizing Code)](Intro_Debugging.ipynb#Visualizing-Code)\n",
    "* `GREEN` &mdash; [Asserting Expectations (Consider Leaving Some Assertions On)](Assertions.ipynb#Consider-Leaving-Some-Assertions-On)\n"
   ]
  },
  {
   "cell_type": "markdown",
   "id": "loaded-devil",
   "metadata": {},
   "source": [
    "### H\n",
    "\n",
    "* hardware breakpoints &mdash; [Tracing Executions (Tracing Binary Executables)](Tracer.ipynb#Tracing-Binary-Executables)\n",
    "* hardware watchpoints &mdash; [Tracing Executions (Tracing Binary Executables)](Tracer.ipynb#Tracing-Binary-Executables)\n",
    "* `help_command()` &mdash; [How Debuggers Work (Excursion: Implementing execute())](Debugger.ipynb#Excursion:-Implementing-execute()), [How Debuggers Work (Excursion: Implementing execute())](Debugger.ipynb#Excursion:-Implementing-execute())\n",
    "* `hours()` &mdash; [Asserting Expectations (Times and Time Bombs)](Assertions.ipynb#Times-and-Time-Bombs), [Asserting Expectations (Excursion: Checked Getters and Setters in Python)](Assertions.ipynb#Excursion:-Checked-Getters-and-Setters-in-Python), [Asserting Expectations (Excursion: Checked Getters and Setters in Python)](Assertions.ipynb#Excursion:-Checked-Getters-and-Setters-in-Python)\n"
   ]
  },
  {
   "cell_type": "markdown",
   "id": "advance-toolbox",
   "metadata": {},
   "source": [
    "### I\n",
    "\n",
    "* infection &mdash; [Introduction to Debugging (From Defect to Failure)](Intro_Debugging.ipynb#From-Defect-to-Failure), [Introduction to Debugging (Lessons Learned)](Intro_Debugging.ipynb#Lessons-Learned)\n",
    "* `__init__()` &mdash; [Tracing Executions (A Tracer Class)](Tracer.ipynb#A-Tracer-Class), [Tracing Executions (Tracing Variable Changes)](Tracer.ipynb#Tracing-Variable-Changes), [Tracing Executions (Conditional Tracing)](Tracer.ipynb#Conditional-Tracing), [Tracing Executions (Watching Events)](Tracer.ipynb#Watching-Events), [How Debuggers Work (Debugger Interaction)](Debugger.ipynb#Debugger-Interaction), [Asserting Expectations (Times and Time Bombs)](Assertions.ipynb#Times-and-Time-Bombs), [Asserting Expectations (Times and Time Bombs)](Assertions.ipynb#Times-and-Time-Bombs), [Asserting Expectations (End of Excursion)](Assertions.ipynb#End-of-Excursion), [Asserting Expectations (Large Data Structures)](Assertions.ipynb#Large-Data-Structures), [Asserting Expectations (Large Data Structures)](Assertions.ipynb#Large-Data-Structures), [Asserting Expectations (Large Data Structures)](Assertions.ipynb#Large-Data-Structures), [Asserting Expectations (Excursion: A C Memory Model Simulator)](Assertions.ipynb#Excursion:-A-C-Memory-Model-Simulator), [Asserting Expectations (Excursion: Dynamic Memory in C)](Assertions.ipynb#Excursion:-Dynamic-Memory-in-C), [Asserting Expectations (Excursion: Managed Memory)](Assertions.ipynb#Excursion:-Managed-Memory), [Asserting Expectations (Exercise 1 – Storage Assertions)](Assertions.ipynb#Exercise-1-–-Storage-Assertions), [Asserting Expectations (Task 2 – Global Consistency)](Assertions.ipynb#Task-2-–-Global-Consistency), [Error Handling (Catching Errors)](ExpectError.ipynb#Catching-Errors), [Error Handling (Catching Timeouts)](ExpectError.ipynb#Catching-Timeouts)\n",
    "* `InjectPass` class &mdash; [Tracing Executions (Exercise 2: Syntax-Based Instrumentation)](Tracer.ipynb#Exercise-2:-Syntax-Based-Instrumentation)\n",
    "* `insert()` &mdash; [Asserting Expectations (Large Data Structures)](Assertions.ipynb#Large-Data-Structures)\n",
    "* `insert_tracer()` &mdash; [Tracing Executions (Efficient Tracing)](Tracer.ipynb#Efficient-Tracing)\n",
    "* `interaction_loop()` &mdash; [How Debuggers Work (Debugger Interaction)](Debugger.ipynb#Debugger-Interaction)\n",
    "* ISO 8601 format &mdash; [Asserting Expectations (Times and Time Bombs)](Assertions.ipynb#Times-and-Time-Bombs)\n",
    "* `is_abstract()` &mdash; [Class Diagrams (Drawing Class Hierarchy with Method Names)](ClassDiagram.ipynb#Drawing-Class-Hierarchy-with-Method-Names)\n",
    "* `is_internal_error()` &mdash; [Inspecting Call Stacks (Inspecting Call Stacks)](StackInspector.ipynb#Inspecting-Call-Stacks)\n",
    "* `is_overloaded()` &mdash; [Class Diagrams (Drawing Class Hierarchy with Method Names)](ClassDiagram.ipynb#Drawing-Class-Hierarchy-with-Method-Names)\n",
    "* `is_public()` &mdash; [Class Diagrams (Drawing Class Hierarchy with Method Names)](ClassDiagram.ipynb#Drawing-Class-Hierarchy-with-Method-Names)\n",
    "* `is_var()` &mdash; [Class Diagrams (Getting Methods and Variables)](ClassDiagram.ipynb#Getting-Methods-and-Variables)\n",
    "* its documentation in the Python reference &mdash; [Tracing Executions (Tracing Python Programs)](Tracer.ipynb#Tracing-Python-Programs)\n"
   ]
  },
  {
   "cell_type": "markdown",
   "id": "younger-sport",
   "metadata": {},
   "source": [
    "### J\n",
    "\n",
    "* Java Debug Interface](https://docs.oracle.com/javase/8/docs/jdk/api/jpda/jdi/) (JDI) is a _high-level interface_ for implementing a debugger (or tracer) on top of Java. [This introduction to JDI &mdash; [Tracing Executions (High-Level Debugging Interfaces)](Tracer.ipynb#High-Level-Debugging-Interfaces)\n"
   ]
  },
  {
   "cell_type": "markdown",
   "id": "serious-transition",
   "metadata": {},
   "source": [
    "## L - P"
   ]
  },
  {
   "cell_type": "markdown",
   "id": "sophisticated-ministry",
   "metadata": {},
   "source": [
    "### L\n",
    "\n",
    "* `LINE` &mdash; [How Debuggers Work (Execute until line (\"until\"))](Debugger.ipynb#Execute-until-line-(\"until\")), [How Debuggers Work (Execute until line (\"until\"))](Debugger.ipynb#Execute-until-line-(\"until\"))\n",
    "* `list_command()` &mdash; [How Debuggers Work (Listing Source Code)](Debugger.ipynb#Listing-Source-Code), [How Debuggers Work (Listings with Benefits)](Debugger.ipynb#Listings-with-Benefits)\n",
    "* `log()` &mdash; [Tracing Executions (A Tracer Class)](Tracer.ipynb#A-Tracer-Class)\n",
    "* `long_running_test()` &mdash; [Error Handling (Catching Timeouts)](ExpectError.ipynb#Catching-Timeouts)\n"
   ]
  },
  {
   "cell_type": "markdown",
   "id": "civic-eleven",
   "metadata": {},
   "source": [
    "### M\n",
    "\n",
    "* malfunction &mdash; [Introduction to Debugging (From Defect to Failure)](Intro_Debugging.ipynb#From-Defect-to-Failure), [Introduction to Debugging (Lessons Learned)](Intro_Debugging.ipynb#Lessons-Learned)\n",
    "* `ManagedMemory` class &mdash; [Asserting Expectations (Excursion: Managed Memory)](Assertions.ipynb#Excursion:-Managed-Memory), [Asserting Expectations (Excursion: Managed Memory)](Assertions.ipynb#Excursion:-Managed-Memory), [Asserting Expectations (Excursion: Managed Memory)](Assertions.ipynb#Excursion:-Managed-Memory), [Asserting Expectations (Excursion: Managed Memory)](Assertions.ipynb#Excursion:-Managed-Memory)\n",
    "* Master Mind Board Grame &mdash; [Introduction to Debugging (Keep a Log)](Intro_Debugging.ipynb#Keep-a-Log)\n",
    "* `Memory` class &mdash; [Asserting Expectations (Excursion: A C Memory Model Simulator)](Assertions.ipynb#Excursion:-A-C-Memory-Model-Simulator), [Asserting Expectations (Excursion: A C Memory Model Simulator)](Assertions.ipynb#Excursion:-A-C-Memory-Model-Simulator), [Asserting Expectations (Excursion: A C Memory Model Simulator)](Assertions.ipynb#Excursion:-A-C-Memory-Model-Simulator)\n",
    "* `METHOD_COLOR` &mdash; [Class Diagrams (Drawing Class Hierarchy with Method Names)](ClassDiagram.ipynb#Drawing-Class-Hierarchy-with-Method-Names)\n",
    "* `METHOD_FONT` &mdash; [Class Diagrams (Drawing Class Hierarchy with Method Names)](ClassDiagram.ipynb#Drawing-Class-Hierarchy-with-Method-Names)\n",
    "* `method_string()` &mdash; [Class Diagrams (Drawing Class Hierarchy with Method Names)](ClassDiagram.ipynb#Drawing-Class-Hierarchy-with-Method-Names)\n",
    "* `minutes()` &mdash; [Asserting Expectations (Times and Time Bombs)](Assertions.ipynb#Times-and-Time-Bombs)\n",
    "* `MyTime` class &mdash; [Asserting Expectations (Excursion: Checked Getters and Setters in Python)](Assertions.ipynb#Excursion:-Checked-Getters-and-Setters-in-Python)\n",
    "* `my_own_assert()` &mdash; [Asserting Expectations (Assertions)](Assertions.ipynb#Assertions)\n",
    "* `my_square_root()` &mdash; [Asserting Expectations (Synopsis)](Assertions.ipynb#Synopsis)\n"
   ]
  },
  {
   "cell_type": "markdown",
   "id": "adjusted-therapist",
   "metadata": {},
   "source": [
    "### N\n",
    "\n",
    "* `NAME` &mdash; [How Debuggers Work (Synopsis)](Debugger.ipynb#Synopsis), [How Debuggers Work (Printing Values)](Debugger.ipynb#Printing-Values), [How Debuggers Work (Synopsis)](Debugger.ipynb#Synopsis)\n",
    "* `NDEBUG` &mdash; [Asserting Expectations (Assertion Diagnostics)](Assertions.ipynb#Assertion-Diagnostics), [Asserting Expectations (Assertion Diagnostics)](Assertions.ipynb#Assertion-Diagnostics)\n",
    "* Newton–Raphson method &mdash; [Asserting Expectations (Checking Results)](Assertions.ipynb#Checking-Results)\n"
   ]
  },
  {
   "cell_type": "markdown",
   "id": "major-tuesday",
   "metadata": {},
   "source": [
    "### O\n",
    "\n",
    "* official Python `ast` reference](http://docs.python.org/3/library/ast) is complete, but a bit brief; the documentation [\"Green Tree Snakes - the missing Python AST docs\" &mdash; [Tracing Executions (Exercise 2: Syntax-Based Instrumentation)](Tracer.ipynb#Exercise-2:-Syntax-Based-Instrumentation)\n",
    "* `our_frame()` &mdash; [Inspecting Call Stacks (Inspecting Call Stacks)](StackInspector.ipynb#Inspecting-Call-Stacks)\n",
    "* `overloaded_class_methods()` &mdash; [Class Diagrams (Getting Methods and Variables)](ClassDiagram.ipynb#Getting-Methods-and-Variables)\n"
   ]
  },
  {
   "cell_type": "markdown",
   "id": "noticed-shepherd",
   "metadata": {},
   "source": [
    "### P\n",
    "\n",
    "* `parentsAreConsistent()` &mdash; [Asserting Expectations (Large Data Structures)](Assertions.ipynb#Large-Data-Structures)\n",
    "* `PASS_COLOR` &mdash; [Introduction to Debugging (Visualizing Code)](Intro_Debugging.ipynb#Visualizing-Code)\n",
    "* `PASS` &mdash; [Introduction to Debugging (Visualizing Code)](Intro_Debugging.ipynb#Visualizing-Code)\n",
    "* `print_command()` &mdash; [How Debuggers Work (Printing Values)](Debugger.ipynb#Printing-Values), [How Debuggers Work (Printing Values)](Debugger.ipynb#Printing-Values)\n",
    "* `print_debugger_status()` &mdash; [Tracing Executions (Tracing Variable Changes)](Tracer.ipynb#Tracing-Variable-Changes), [Tracing Executions (Exercise 1: Exception Handling)](Tracer.ipynb#Exercise-1:-Exception-Handling)\n",
    "* ptrace() &mdash; [Tracing Executions (Low-Level Debugging Interfaces)](Tracer.ipynb#Low-Level-Debugging-Interfaces)\n",
    "* `public_class_methods()` &mdash; [Class Diagrams (Getting Methods and Variables)](ClassDiagram.ipynb#Getting-Methods-and-Variables)\n",
    "* Python tutorial &mdash; [Introduction to Debugging (Understanding Python Programs)](Intro_Debugging.ipynb#Understanding-Python-Programs)\n"
   ]
  },
  {
   "cell_type": "markdown",
   "id": "mexican-subscription",
   "metadata": {},
   "source": [
    "## Q - U"
   ]
  },
  {
   "cell_type": "markdown",
   "id": "peaceful-brooks",
   "metadata": {},
   "source": [
    "### Q\n",
    "\n",
    "* `quit_command()` &mdash; [How Debuggers Work (Quitting)](Debugger.ipynb#Quitting)\n",
    "* `quux()` &mdash; [Class Diagrams (Getting a Class Hierarchy)](ClassDiagram.ipynb#Getting-a-Class-Hierarchy)\n",
    "* `qux()` &mdash; [Class Diagrams (Getting a Class Hierarchy)](ClassDiagram.ipynb#Getting-a-Class-Hierarchy)\n"
   ]
  },
  {
   "cell_type": "markdown",
   "id": "ongoing-sharing",
   "metadata": {},
   "source": [
    "### R\n",
    "\n",
    "* `read()` &mdash; [Asserting Expectations (Excursion: A C Memory Model Simulator)](Assertions.ipynb#Excursion:-A-C-Memory-Model-Simulator), [Asserting Expectations (Excursion: Managed Memory)](Assertions.ipynb#Excursion:-Managed-Memory)\n",
    "* record+replay \"rr\" debugger &mdash; [How Debuggers Work (Background)](Debugger.ipynb#Background)\n",
    "* red-black search tree &mdash; [Asserting Expectations (Large Data Structures)](Assertions.ipynb#Large-Data-Structures)\n",
    "* Red-Black Tree &mdash; [Asserting Expectations (Large Data Structures)](Assertions.ipynb#Large-Data-Structures)\n",
    "* `RedBlackNode` class &mdash; [Asserting Expectations (Large Data Structures)](Assertions.ipynb#Large-Data-Structures)\n",
    "* `RedBlackTree` class &mdash; [Asserting Expectations (Large Data Structures)](Assertions.ipynb#Large-Data-Structures), [Asserting Expectations (Large Data Structures)](Assertions.ipynb#Large-Data-Structures), [Asserting Expectations (Large Data Structures)](Assertions.ipynb#Large-Data-Structures), [Asserting Expectations (Large Data Structures)](Assertions.ipynb#Large-Data-Structures), [Asserting Expectations (Large Data Structures)](Assertions.ipynb#Large-Data-Structures), [Asserting Expectations (Large Data Structures)](Assertions.ipynb#Large-Data-Structures)\n",
    "* `redNodesHaveOnlyBlackChildren()` &mdash; [Asserting Expectations (Large Data Structures)](Assertions.ipynb#Large-Data-Structures)\n",
    "* `RED` &mdash; [Asserting Expectations (Large Data Structures)](Assertions.ipynb#Large-Data-Structures), [Asserting Expectations (Consider Leaving Some Assertions On)](Assertions.ipynb#Consider-Leaving-Some-Assertions-On)\n",
    "* `remove_html_markup()` &mdash; [Introduction to Debugging (Your Task: Remove HTML Markup)](Intro_Debugging.ipynb#Your-Task:-Remove-HTML-Markup), [Introduction to Debugging (A First Fix)](Intro_Debugging.ipynb#A-First-Fix), [Introduction to Debugging (Fixing the Code)](Intro_Debugging.ipynb#Fixing-the-Code), [Introduction to Debugging (Add Assertions)](Intro_Debugging.ipynb#Add-Assertions), [How Debuggers Work (Debugger Interaction)](Debugger.ipynb#Debugger-Interaction), [Asserting Expectations (Partial Checks)](Assertions.ipynb#Partial-Checks), [Asserting Expectations (Partial Checks)](Assertions.ipynb#Partial-Checks)\n",
    "* `remove_html_markup_fixed()` &mdash; [Introduction to Debugging (Use the Most Obvious Fix)](Intro_Debugging.ipynb#Use-the-Most-Obvious-Fix)\n",
    "* `remove_html_markup_traced()` &mdash; [Tracing Executions (Tracing Python Programs)](Tracer.ipynb#Tracing-Python-Programs)\n",
    "* `remove_html_markup_without_quotes()` &mdash; [Introduction to Debugging (Debugging into Existence)](Intro_Debugging.ipynb#Debugging-into-Existence)\n",
    "* `remove_html_markup_with_print()` &mdash; [Introduction to Debugging (Printf Debugging)](Intro_Debugging.ipynb#Printf-Debugging)\n",
    "* `remove_html_markup_with_proper_quotes()` &mdash; [Introduction to Debugging (Part 3: Fix the Problem)](Intro_Debugging.ipynb#Part-3:-Fix-the-Problem)\n",
    "* `remove_html_markup_with_quote_assert()` &mdash; [Introduction to Debugging (Refuting a Hypothesis)](Intro_Debugging.ipynb#Refuting-a-Hypothesis)\n",
    "* `remove_html_markup_with_tag_assert()` &mdash; [Introduction to Debugging (Refining a Hypothesis)](Intro_Debugging.ipynb#Refining-a-Hypothesis)\n",
    "* `repOK()` &mdash; [Asserting Expectations (End of Excursion)](Assertions.ipynb#End-of-Excursion), [Asserting Expectations (End of Excursion)](Assertions.ipynb#End-of-Excursion), [Asserting Expectations (Large Data Structures)](Assertions.ipynb#Large-Data-Structures), [Asserting Expectations (Large Data Structures)](Assertions.ipynb#Large-Data-Structures), [Asserting Expectations (Task 2 – Global Consistency)](Assertions.ipynb#Task-2-–-Global-Consistency)\n",
    "* `_repr_markdown_()` &mdash; [Asserting Expectations (Excursion: A C Memory Model Simulator)](Assertions.ipynb#Excursion:-A-C-Memory-Model-Simulator)\n",
    "* `__repr__()` &mdash; [Asserting Expectations (Times and Time Bombs)](Assertions.ipynb#Times-and-Time-Bombs), [Asserting Expectations (Excursion: A C Memory Model Simulator)](Assertions.ipynb#Excursion:-A-C-Memory-Model-Simulator), [Asserting Expectations (Excursion: A C Memory Model Simulator)](Assertions.ipynb#Excursion:-A-C-Memory-Model-Simulator)\n",
    "* `rootHasNoParent()` &mdash; [Asserting Expectations (Large Data Structures)](Assertions.ipynb#Large-Data-Structures)\n",
    "* `rootIsBlack()` &mdash; [Asserting Expectations (Large Data Structures)](Assertions.ipynb#Large-Data-Structures)\n",
    "* rubber duck debugging &mdash; [Introduction to Debugging (Rubberducking)](Intro_Debugging.ipynb#Rubberducking)\n",
    "* Rubber duck debugging &mdash; [Introduction to Debugging (Rubberducking)](Intro_Debugging.ipynb#Rubberducking)\n",
    "* rubberducking &mdash; [Introduction to Debugging (Rubberducking)](Intro_Debugging.ipynb#Rubberducking)\n"
   ]
  },
  {
   "cell_type": "markdown",
   "id": "grateful-colleague",
   "metadata": {},
   "source": [
    "### S\n",
    "\n",
    "* scientific method &mdash; [Introduction to Debugging (The Scientific Method)](Intro_Debugging.ipynb#The-Scientific-Method)\n",
    "* `search_frame()` &mdash; [Inspecting Call Stacks (Inspecting Call Stacks)](StackInspector.ipynb#Inspecting-Call-Stacks)\n",
    "* `search_func()` &mdash; [Inspecting Call Stacks (Inspecting Call Stacks)](StackInspector.ipynb#Inspecting-Call-Stacks)\n",
    "* `search_superclasses()` &mdash; [Class Diagrams (Getting Methods and Variables)](ClassDiagram.ipynb#Getting-Methods-and-Variables)\n",
    "* `second()` &mdash; [Class Diagrams (Getting a Class Hierarchy)](ClassDiagram.ipynb#Getting-a-Class-Hierarchy)\n",
    "* `seconds()` &mdash; [Asserting Expectations (Times and Time Bombs)](Assertions.ipynb#Times-and-Time-Bombs)\n",
    "* `seconds_since_midnight()` &mdash; [Asserting Expectations (End of Excursion)](Assertions.ipynb#End-of-Excursion)\n",
    "* `__setitem__()` &mdash; [Asserting Expectations (Excursion: A C Memory Model Simulator)](Assertions.ipynb#Excursion:-A-C-Memory-Model-Simulator), [Asserting Expectations (Exercise 1 – Storage Assertions)](Assertions.ipynb#Exercise-1-–-Storage-Assertions), [Asserting Expectations (Task 1 – Local Consistency)](Assertions.ipynb#Task-1-–-Local-Consistency), [Asserting Expectations (Task 2 – Global Consistency)](Assertions.ipynb#Task-2-–-Global-Consistency)\n",
    "* `set_hours()` &mdash; [Asserting Expectations (Invariant Checkers)](Assertions.ipynb#Invariant-Checkers), [Asserting Expectations (End of Excursion)](Assertions.ipynb#End-of-Excursion)\n",
    "* `ShadowStorage` class &mdash; [Asserting Expectations (Task 2 – Global Consistency)](Assertions.ipynb#Task-2-–-Global-Consistency)\n",
    "* `shelve` &mdash; [Asserting Expectations (Exercise 1 – Storage Assertions)](Assertions.ipynb#Exercise-1-–-Storage-Assertions)\n",
    "* `show_allocated()` &mdash; [Asserting Expectations (Excursion: Managed Memory)](Assertions.ipynb#Excursion:-Managed-Memory)\n",
    "* `show_contents()` &mdash; [Asserting Expectations (Excursion: A C Memory Model Simulator)](Assertions.ipynb#Excursion:-A-C-Memory-Model-Simulator), [Asserting Expectations (Excursion: Managed Memory)](Assertions.ipynb#Excursion:-Managed-Memory)\n",
    "* `show_header()` &mdash; [Asserting Expectations (Excursion: A C Memory Model Simulator)](Assertions.ipynb#Excursion:-A-C-Memory-Model-Simulator), [Asserting Expectations (Excursion: Dynamic Memory in C)](Assertions.ipynb#Excursion:-Dynamic-Memory-in-C)\n",
    "* `show_initialized()` &mdash; [Asserting Expectations (Excursion: Managed Memory)](Assertions.ipynb#Excursion:-Managed-Memory)\n",
    "* `show_sep()` &mdash; [Asserting Expectations (Excursion: A C Memory Model Simulator)](Assertions.ipynb#Excursion:-A-C-Memory-Model-Simulator)\n",
    "* `slider()` &mdash; [How Debuggers Work (Part 3: Graphical User Interface)](Debugger.ipynb#Part-3:-Graphical-User-Interface)\n",
    "* `some_extreme_function()` &mdash; [Tracing Executions (Efficient Tracing)](Tracer.ipynb#Efficient-Tracing)\n",
    "* `some_long_running_function()` &mdash; [Timer (Measuring Time)](Timer.ipynb#Measuring-Time)\n",
    "* `some_obscure_function()` &mdash; [Asserting Expectations (Assertions and Documentation)](Assertions.ipynb#Assertions-and-Documentation)\n",
    "* `square_root()` &mdash; [Asserting Expectations (Checking Preconditions)](Assertions.ipynb#Checking-Preconditions), [Asserting Expectations (Checking Preconditions)](Assertions.ipynb#Checking-Preconditions), [Asserting Expectations (Checking Results)](Assertions.ipynb#Checking-Results), [Asserting Expectations (Checking Results)](Assertions.ipynb#Checking-Results), [Asserting Expectations (Checking Results)](Assertions.ipynb#Checking-Results), [Asserting Expectations (Checking Results)](Assertions.ipynb#Checking-Results)\n",
    "* `StackInspectorDemo` class &mdash; [Inspecting Call Stacks (Synopsis)](StackInspector.ipynb#Synopsis)\n",
    "* `StackInspector` class &mdash; [Inspecting Call Stacks (Inspecting Call Stacks)](StackInspector.ipynb#Inspecting-Call-Stacks), [Inspecting Call Stacks (Inspecting Call Stacks)](StackInspector.ipynb#Inspecting-Call-Stacks), [Inspecting Call Stacks (Inspecting Call Stacks)](StackInspector.ipynb#Inspecting-Call-Stacks), [Inspecting Call Stacks (Inspecting Call Stacks)](StackInspector.ipynb#Inspecting-Call-Stacks), [Inspecting Call Stacks (Inspecting Call Stacks)](StackInspector.ipynb#Inspecting-Call-Stacks), [Inspecting Call Stacks (Inspecting Call Stacks)](StackInspector.ipynb#Inspecting-Call-Stacks), [Inspecting Call Stacks (Inspecting Call Stacks)](StackInspector.ipynb#Inspecting-Call-Stacks)\n",
    "* `STEP_COLOR` &mdash; [Introduction to Debugging (Visualizing Code)](Intro_Debugging.ipynb#Visualizing-Code)\n",
    "* `step_command()` &mdash; [How Debuggers Work (Debugger Interaction)](Debugger.ipynb#Debugger-Interaction)\n",
    "* `stop_here()` &mdash; [How Debuggers Work (Debugger Interaction)](Debugger.ipynb#Debugger-Interaction)\n",
    "* `Storage` class &mdash; [Asserting Expectations (Exercise 1 – Storage Assertions)](Assertions.ipynb#Exercise-1-–-Storage-Assertions), [Asserting Expectations (Task 1 – Local Consistency)](Assertions.ipynb#Task-1-–-Local-Consistency)\n"
   ]
  },
  {
   "cell_type": "markdown",
   "id": "norman-north",
   "metadata": {},
   "source": [
    "### T\n",
    "\n",
    "* test &mdash; [Introduction to Debugging (Running a Function)](Intro_Debugging.ipynb#Running-a-Function)\n",
    "* `test()` &mdash; [Inspecting Call Stacks (Synopsis)](StackInspector.ipynb#Synopsis)\n",
    "* `test_square_root()` &mdash; [Asserting Expectations (Assertions)](Assertions.ipynb#Assertions)\n",
    "* the etymology of the word \"bug\"](http://www.catb.org/~esr/jargon/html/B/bug.html) in [The Jargon File](http://www.catb.org/~esr/jargon/). Also check out the [Wikipedia entry on debugging &mdash; [Introduction to Debugging (Debugging Aftermath)](Intro_Debugging.ipynb#Debugging-Aftermath)\n",
    "* the GNU command-line debugger (GDB) &mdash; [How Debuggers Work (Exercise 2: More Commands)](Debugger.ipynb#Exercise-2:-More-Commands)\n",
    "* theory &mdash; [Introduction to Debugging (The Scientific Method)](Intro_Debugging.ipynb#The-Scientific-Method), [Introduction to Debugging (Fixing the Bug)](Intro_Debugging.ipynb#Fixing-the-Bug)\n",
    "* this blog post &mdash; [How Debuggers Work (Exercise 1: Changing State)](Debugger.ipynb#Exercise-1:-Changing-State)\n",
    "* `Timer` class &mdash; [Timer (Measuring Time)](Timer.ipynb#Measuring-Time)\n",
    "* `Time` class &mdash; [Asserting Expectations (Times and Time Bombs)](Assertions.ipynb#Times-and-Time-Bombs), [Asserting Expectations (Times and Time Bombs)](Assertions.ipynb#Times-and-Time-Bombs), [Asserting Expectations (Times and Time Bombs)](Assertions.ipynb#Times-and-Time-Bombs), [Asserting Expectations (Times and Time Bombs)](Assertions.ipynb#Times-and-Time-Bombs), [Asserting Expectations (Invariant Checkers)](Assertions.ipynb#Invariant-Checkers), [Asserting Expectations (End of Excursion)](Assertions.ipynb#End-of-Excursion), [Asserting Expectations (End of Excursion)](Assertions.ipynb#End-of-Excursion), [Asserting Expectations (End of Excursion)](Assertions.ipynb#End-of-Excursion), [Asserting Expectations (End of Excursion)](Assertions.ipynb#End-of-Excursion)\n",
    "* trace &mdash; [Tracing Executions (Tracing Python Programs)](Tracer.ipynb#Tracing-Python-Programs)\n",
    "* `traceit()` &mdash; [Tracing Executions (Tracing Python Programs)](Tracer.ipynb#Tracing-Python-Programs), [Tracing Executions (Tracing Python Programs)](Tracer.ipynb#Tracing-Python-Programs), [Tracing Executions (Tracing Python Programs)](Tracer.ipynb#Tracing-Python-Programs), [Tracing Executions (Tracing Python Programs)](Tracer.ipynb#Tracing-Python-Programs), [Tracing Executions (A Tracer Class)](Tracer.ipynb#A-Tracer-Class), [Tracing Executions (Accessing Source Code)](Tracer.ipynb#Accessing-Source-Code), [Tracing Executions (Tracing Calls and Returns)](Tracer.ipynb#Tracing-Calls-and-Returns), [Tracing Executions (Tracing Variable Changes)](Tracer.ipynb#Tracing-Variable-Changes), [Tracing Executions (Conditional Tracing)](Tracer.ipynb#Conditional-Tracing), [How Debuggers Work (Debugger Interaction)](Debugger.ipynb#Debugger-Interaction)\n",
    "* `_traceit()` &mdash; [Tracing Executions (A Tracer Class)](Tracer.ipynb#A-Tracer-Class)\n",
    "* `TRACER_CODE` &mdash; [Tracing Executions (Efficient Tracing)](Tracer.ipynb#Efficient-Tracing)\n",
    "* `TRACER` &mdash; [Tracing Executions (Efficient Tracing)](Tracer.ipynb#Efficient-Tracing), [Tracing Executions (Efficient Tracing)](Tracer.ipynb#Efficient-Tracing)\n",
    "* `Tracer` class &mdash; [Tracing Executions (A Tracer Class)](Tracer.ipynb#A-Tracer-Class), [Tracing Executions (Accessing Source Code)](Tracer.ipynb#Accessing-Source-Code), [Tracing Executions (Tracing Calls and Returns)](Tracer.ipynb#Tracing-Calls-and-Returns), [Tracing Executions (Tracing Variable Changes)](Tracer.ipynb#Tracing-Variable-Changes), [Tracing Executions (Tracing Variable Changes)](Tracer.ipynb#Tracing-Variable-Changes), [Tracing Executions (Exercise 1: Exception Handling)](Tracer.ipynb#Exercise-1:-Exception-Handling)\n",
    "* tracing function &mdash; [Tracing Executions (Tracing Python Programs)](Tracer.ipynb#Tracing-Python-Programs)\n",
    "* `traverse_tree()` &mdash; [Class Diagrams (Getting a Class Tree)](ClassDiagram.ipynb#Getting-a-Class-Tree)\n",
    "* `treeIsAcyclic()` &mdash; [Asserting Expectations (Large Data Structures)](Assertions.ipynb#Large-Data-Structures)\n"
   ]
  },
  {
   "cell_type": "markdown",
   "id": "aggregate-western",
   "metadata": {},
   "source": [
    "### U\n",
    "\n",
    "* `unknown()` &mdash; [Class Diagrams (Getting Docs)](ClassDiagram.ipynb#Getting-Docs), [Inspecting Call Stacks (Inspecting Call Stacks)](StackInspector.ipynb#Inspecting-Call-Stacks)\n"
   ]
  },
  {
   "cell_type": "markdown",
   "id": "mighty-conflict",
   "metadata": {},
   "source": [
    "## V - W"
   ]
  },
  {
   "cell_type": "markdown",
   "id": "fantastic-taiwan",
   "metadata": {},
   "source": [
    "### V\n",
    "\n",
    "* Valgrind &mdash; [Asserting Expectations (Checking Memory Usage with Valgrind)](Assertions.ipynb#Checking-Memory-Usage-with-Valgrind)\n",
    "* Valgrind](https://valgrind.org) originated as an academic tool which has seen lots of industrial usage. A [list of papers &mdash; [Asserting Expectations (Background)](Assertions.ipynb#Background)\n",
    "* `VALUE` &mdash; [How Debuggers Work (Exercise 1: Changing State)](Debugger.ipynb#Exercise-1:-Changing-State)\n",
    "* `var_string()` &mdash; [Class Diagrams (Drawing Class Hierarchy with Method Names)](ClassDiagram.ipynb#Drawing-Class-Hierarchy-with-Method-Names)\n",
    "* `VAR` &mdash; [How Debuggers Work (Exercise 1: Changing State)](Debugger.ipynb#Exercise-1:-Changing-State), [Class Diagrams (Getting a Class Hierarchy)](ClassDiagram.ipynb#Getting-a-Class-Hierarchy)\n",
    "* `visit_FunctionDef()` &mdash; [Tracing Executions (Exercise 2: Syntax-Based Instrumentation)](Tracer.ipynb#Exercise-2:-Syntax-Based-Instrumentation)\n"
   ]
  },
  {
   "cell_type": "markdown",
   "id": "artificial-escape",
   "metadata": {},
   "source": [
    "### W\n",
    "\n",
    "* watchpoints &mdash; [Tracing Executions (Watching Events)](Tracer.ipynb#Watching-Events)\n",
    "* `write()` &mdash; [Asserting Expectations (Excursion: A C Memory Model Simulator)](Assertions.ipynb#Excursion:-A-C-Memory-Model-Simulator), [Asserting Expectations (Excursion: Managed Memory)](Assertions.ipynb#Excursion:-Managed-Memory)\n"
   ]
  }
 ],
 "metadata": {
  "kernelspec": {
   "display_name": "Python 3",
   "language": "python",
   "name": "python3"
  },
  "language_info": {
   "codemirror_mode": {
    "name": "ipython",
    "version": 3
   },
   "file_extension": ".py",
   "mimetype": "text/x-python",
   "name": "python",
   "nbconvert_exporter": "python",
   "pygments_lexer": "ipython3",
   "version": "3.6.6"
  },
  "toc-autonumbering": false
 },
 "nbformat": 4,
 "nbformat_minor": 5
}