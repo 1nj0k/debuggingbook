{
 "cells": [
  {
   "cell_type": "markdown",
   "id": "tribal-ending",
   "metadata": {},
   "source": [
    "# Index"
   ]
  },
  {
   "cell_type": "markdown",
   "id": "deadly-compromise",
   "metadata": {},
   "source": [
    "## A - E"
   ]
  },
  {
   "cell_type": "markdown",
   "id": "answering-dakota",
   "metadata": {},
   "source": [
    "### A\n",
    "\n",
    "* `A_Class` class &mdash; [Class Diagrams (Getting a Class Hierarchy)](ClassDiagram.ipynb#Getting-a-Class-Hierarchy), [Class Diagrams (Getting a Class Hierarchy)](ClassDiagram.ipynb#Getting-a-Class-Hierarchy)\n"
   ]
  },
  {
   "cell_type": "markdown",
   "id": "functional-allowance",
   "metadata": {},
   "source": [
    "### B\n",
    "\n",
    "* `bar()` &mdash; [Class Diagrams (Getting a Class Hierarchy)](ClassDiagram.ipynb#Getting-a-Class-Hierarchy)\n",
    "* `B_Class` class &mdash; [Class Diagrams (Getting a Class Hierarchy)](ClassDiagram.ipynb#Getting-a-Class-Hierarchy)\n"
   ]
  },
  {
   "cell_type": "markdown",
   "id": "confirmed-astrology",
   "metadata": {},
   "source": [
    "### C\n",
    "\n",
    "* `cancel()` &mdash; [Error Handling (Catching Timeouts)](ExpectError.ipynb#Catching-Timeouts)\n",
    "* `check_time()` &mdash; [Error Handling (Catching Timeouts)](ExpectError.ipynb#Catching-Timeouts)\n",
    "* `CLASS_COLOR` &mdash; [Class Diagrams (Drawing Class Hierarchy with Method Names)](ClassDiagram.ipynb#Drawing-Class-Hierarchy-with-Method-Names), [Class Diagrams (Drawing Class Hierarchy with Method Names)](ClassDiagram.ipynb#Drawing-Class-Hierarchy-with-Method-Names)\n",
    "* `CLASS_FONT` &mdash; [Class Diagrams (Drawing Class Hierarchy with Method Names)](ClassDiagram.ipynb#Drawing-Class-Hierarchy-with-Method-Names), [Class Diagrams (Drawing Class Hierarchy with Method Names)](ClassDiagram.ipynb#Drawing-Class-Hierarchy-with-Method-Names)\n",
    "* `class_hierarchy()` &mdash; [Class Diagrams (Getting a Class Hierarchy)](ClassDiagram.ipynb#Getting-a-Class-Hierarchy)\n",
    "* `class_items()` &mdash; [Class Diagrams (Getting Methods and Variables)](ClassDiagram.ipynb#Getting-Methods-and-Variables)\n",
    "* `_class_items()` &mdash; [Class Diagrams (Getting Methods and Variables)](ClassDiagram.ipynb#Getting-Methods-and-Variables)\n",
    "* `class_methods()` &mdash; [Class Diagrams (Getting Methods and Variables)](ClassDiagram.ipynb#Getting-Methods-and-Variables)\n",
    "* `class_methods_string()` &mdash; [Class Diagrams (Drawing Class Hierarchy with Method Names)](ClassDiagram.ipynb#Drawing-Class-Hierarchy-with-Method-Names)\n",
    "* `class_set()` &mdash; [Class Diagrams (Getting a Class Tree)](ClassDiagram.ipynb#Getting-a-Class-Tree)\n",
    "* `class_tree()` &mdash; [Class Diagrams (Getting a Class Tree)](ClassDiagram.ipynb#Getting-a-Class-Tree)\n",
    "* `class_vars()` &mdash; [Class Diagrams (Getting Methods and Variables)](ClassDiagram.ipynb#Getting-Methods-and-Variables)\n",
    "* `class_vars_string()` &mdash; [Class Diagrams (Drawing Class Hierarchy with Method Names)](ClassDiagram.ipynb#Drawing-Class-Hierarchy-with-Method-Names)\n",
    "* `clock()` &mdash; [Timer (Measuring Time)](Timer.ipynb#Measuring-Time)\n",
    "* `C_Class` class &mdash; [Class Diagrams (Getting a Class Hierarchy)](ClassDiagram.ipynb#Getting-a-Class-Hierarchy)\n"
   ]
  },
  {
   "cell_type": "markdown",
   "id": "promotional-continuity",
   "metadata": {},
   "source": [
    "### D\n",
    "\n",
    "* `defined_in()` &mdash; [Class Diagrams (Getting Methods and Variables)](ClassDiagram.ipynb#Getting-Methods-and-Variables)\n",
    "* `display_class_hierarchy()` &mdash; [Class Diagrams (Drawing Class Hierarchy with Method Names)](ClassDiagram.ipynb#Drawing-Class-Hierarchy-with-Method-Names)\n",
    "* `display_class_node()` &mdash; [Class Diagrams (Drawing Class Hierarchy with Method Names)](ClassDiagram.ipynb#Drawing-Class-Hierarchy-with-Method-Names)\n",
    "* `display_class_trees()` &mdash; [Class Diagrams (Drawing Class Hierarchy with Method Names)](ClassDiagram.ipynb#Drawing-Class-Hierarchy-with-Method-Names)\n",
    "* `display_legend()` &mdash; [Class Diagrams (Drawing Class Hierarchy with Method Names)](ClassDiagram.ipynb#Drawing-Class-Hierarchy-with-Method-Names)\n",
    "* `docstring()` &mdash; [Class Diagrams (Getting Docs)](ClassDiagram.ipynb#Getting-Docs)\n",
    "* `doc_class_methods()` &mdash; [Class Diagrams (Getting Methods and Variables)](ClassDiagram.ipynb#Getting-Methods-and-Variables)\n",
    "* `DOC_INDENT` &mdash; [Class Diagrams (Getting Docs)](ClassDiagram.ipynb#Getting-Docs)\n",
    "* `D_Class` class &mdash; [Class Diagrams (Getting a Class Hierarchy)](ClassDiagram.ipynb#Getting-a-Class-Hierarchy), [Class Diagrams (Getting a Class Hierarchy)](ClassDiagram.ipynb#Getting-a-Class-Hierarchy)\n"
   ]
  },
  {
   "cell_type": "markdown",
   "id": "generous-usage",
   "metadata": {},
   "source": [
    "### E\n",
    "\n",
    "* `elapsed_time()` &mdash; [Timer (Measuring Time)](Timer.ipynb#Measuring-Time)\n",
    "* `__enter__()` &mdash; [Error Handling (Catching Errors)](ExpectError.ipynb#Catching-Errors), [Error Handling (Catching Timeouts)](ExpectError.ipynb#Catching-Timeouts), [Timer (Measuring Time)](Timer.ipynb#Measuring-Time)\n",
    "* `escape()` &mdash; [Class Diagrams (Getting Docs)](ClassDiagram.ipynb#Getting-Docs)\n",
    "* `escape_doc()` &mdash; [Class Diagrams (Getting Docs)](ClassDiagram.ipynb#Getting-Docs)\n",
    "* `__exit__()` &mdash; [Error Handling (Catching Errors)](ExpectError.ipynb#Catching-Errors), [Error Handling (Catching Timeouts)](ExpectError.ipynb#Catching-Timeouts), [Timer (Measuring Time)](Timer.ipynb#Measuring-Time)\n",
    "* `ExpectError` class &mdash; [Error Handling (Catching Errors)](ExpectError.ipynb#Catching-Errors)\n",
    "* `ExpectTimeout` class &mdash; [Error Handling (Catching Timeouts)](ExpectError.ipynb#Catching-Timeouts)\n"
   ]
  },
  {
   "cell_type": "markdown",
   "id": "saved-luther",
   "metadata": {},
   "source": [
    "## F - O"
   ]
  },
  {
   "cell_type": "markdown",
   "id": "approximate-feeding",
   "metadata": {},
   "source": [
    "### F\n",
    "\n",
    "* `fail_test()` &mdash; [Error Handling (Catching Errors)](ExpectError.ipynb#Catching-Errors)\n",
    "* `foo()` &mdash; [Class Diagrams (Getting a Class Hierarchy)](ClassDiagram.ipynb#Getting-a-Class-Hierarchy), [Class Diagrams (Getting a Class Hierarchy)](ClassDiagram.ipynb#Getting-a-Class-Hierarchy), [Class Diagrams (Getting a Class Hierarchy)](ClassDiagram.ipynb#Getting-a-Class-Hierarchy)\n"
   ]
  },
  {
   "cell_type": "markdown",
   "id": "lucky-intermediate",
   "metadata": {},
   "source": [
    "### I\n",
    "\n",
    "* `__init__()` &mdash; [Error Handling (Catching Errors)](ExpectError.ipynb#Catching-Errors), [Error Handling (Catching Timeouts)](ExpectError.ipynb#Catching-Timeouts)\n",
    "* `is_abstract()` &mdash; [Class Diagrams (Drawing Class Hierarchy with Method Names)](ClassDiagram.ipynb#Drawing-Class-Hierarchy-with-Method-Names)\n",
    "* `is_overloaded()` &mdash; [Class Diagrams (Drawing Class Hierarchy with Method Names)](ClassDiagram.ipynb#Drawing-Class-Hierarchy-with-Method-Names)\n",
    "* `is_public()` &mdash; [Class Diagrams (Drawing Class Hierarchy with Method Names)](ClassDiagram.ipynb#Drawing-Class-Hierarchy-with-Method-Names)\n",
    "* `is_var()` &mdash; [Class Diagrams (Getting Methods and Variables)](ClassDiagram.ipynb#Getting-Methods-and-Variables)\n"
   ]
  },
  {
   "cell_type": "markdown",
   "id": "incorporate-presence",
   "metadata": {},
   "source": [
    "### L\n",
    "\n",
    "* `long_running_test()` &mdash; [Error Handling (Catching Timeouts)](ExpectError.ipynb#Catching-Timeouts)\n"
   ]
  },
  {
   "cell_type": "markdown",
   "id": "impossible-salem",
   "metadata": {},
   "source": [
    "### M\n",
    "\n",
    "* `METHOD_COLOR` &mdash; [Class Diagrams (Drawing Class Hierarchy with Method Names)](ClassDiagram.ipynb#Drawing-Class-Hierarchy-with-Method-Names)\n",
    "* `METHOD_FONT` &mdash; [Class Diagrams (Drawing Class Hierarchy with Method Names)](ClassDiagram.ipynb#Drawing-Class-Hierarchy-with-Method-Names)\n",
    "* `method_string()` &mdash; [Class Diagrams (Drawing Class Hierarchy with Method Names)](ClassDiagram.ipynb#Drawing-Class-Hierarchy-with-Method-Names)\n"
   ]
  },
  {
   "cell_type": "markdown",
   "id": "deadly-wheel",
   "metadata": {},
   "source": [
    "### O\n",
    "\n",
    "* `overloaded_class_methods()` &mdash; [Class Diagrams (Getting Methods and Variables)](ClassDiagram.ipynb#Getting-Methods-and-Variables)\n"
   ]
  },
  {
   "cell_type": "markdown",
   "id": "hungarian-bridal",
   "metadata": {},
   "source": [
    "## P - U"
   ]
  },
  {
   "cell_type": "markdown",
   "id": "purple-antenna",
   "metadata": {},
   "source": [
    "### P\n",
    "\n",
    "* `public_class_methods()` &mdash; [Class Diagrams (Getting Methods and Variables)](ClassDiagram.ipynb#Getting-Methods-and-Variables)\n"
   ]
  },
  {
   "cell_type": "markdown",
   "id": "acoustic-receipt",
   "metadata": {},
   "source": [
    "### Q\n",
    "\n",
    "* `quux()` &mdash; [Class Diagrams (Getting a Class Hierarchy)](ClassDiagram.ipynb#Getting-a-Class-Hierarchy)\n",
    "* `qux()` &mdash; [Class Diagrams (Getting a Class Hierarchy)](ClassDiagram.ipynb#Getting-a-Class-Hierarchy)\n"
   ]
  },
  {
   "cell_type": "markdown",
   "id": "flexible-painting",
   "metadata": {},
   "source": [
    "### S\n",
    "\n",
    "* `search_superclasses()` &mdash; [Class Diagrams (Getting Methods and Variables)](ClassDiagram.ipynb#Getting-Methods-and-Variables)\n",
    "* `second()` &mdash; [Class Diagrams (Getting a Class Hierarchy)](ClassDiagram.ipynb#Getting-a-Class-Hierarchy)\n",
    "* `some_long_running_function()` &mdash; [Timer (Measuring Time)](Timer.ipynb#Measuring-Time)\n"
   ]
  },
  {
   "cell_type": "markdown",
   "id": "positive-procedure",
   "metadata": {},
   "source": [
    "### T\n",
    "\n",
    "* `Timer` class &mdash; [Timer (Measuring Time)](Timer.ipynb#Measuring-Time)\n",
    "* `traverse_tree()` &mdash; [Class Diagrams (Getting a Class Tree)](ClassDiagram.ipynb#Getting-a-Class-Tree)\n"
   ]
  },
  {
   "cell_type": "markdown",
   "id": "computational-tribe",
   "metadata": {},
   "source": [
    "### U\n",
    "\n",
    "* `unknown()` &mdash; [Class Diagrams (Getting Docs)](ClassDiagram.ipynb#Getting-Docs)\n"
   ]
  },
  {
   "cell_type": "markdown",
   "id": "concerned-director",
   "metadata": {},
   "source": [
    "## V - V"
   ]
  },
  {
   "cell_type": "markdown",
   "id": "chronic-campus",
   "metadata": {},
   "source": [
    "### V\n",
    "\n",
    "* `var_string()` &mdash; [Class Diagrams (Drawing Class Hierarchy with Method Names)](ClassDiagram.ipynb#Drawing-Class-Hierarchy-with-Method-Names)\n",
    "* `VAR` &mdash; [Class Diagrams (Getting a Class Hierarchy)](ClassDiagram.ipynb#Getting-a-Class-Hierarchy)\n"
   ]
  }
 ],
 "metadata": {
  "kernelspec": {
   "display_name": "Python 3",
   "language": "python",
   "name": "python3"
  },
  "language_info": {
   "codemirror_mode": {
    "name": "ipython",
    "version": 3
   },
   "file_extension": ".py",
   "mimetype": "text/x-python",
   "name": "python",
   "nbconvert_exporter": "python",
   "pygments_lexer": "ipython3",
   "version": "3.6.6"
  },
  "toc-autonumbering": false
 },
 "nbformat": 4,
 "nbformat_minor": 5
}