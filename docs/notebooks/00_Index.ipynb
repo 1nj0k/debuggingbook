{
 "cells": [
  {
   "cell_type": "markdown",
   "id": "interesting-latest",
   "metadata": {},
   "source": [
    "# Index"
   ]
  },
  {
   "cell_type": "markdown",
   "id": "bigger-snapshot",
   "metadata": {},
   "source": [
    "## A - E"
   ]
  },
  {
   "cell_type": "markdown",
   "id": "reasonable-still",
   "metadata": {},
   "source": [
    "### A\n",
    "\n",
    "* abstract syntax tree &mdash; [Tracing Executions (Exercise 2: Syntax-Based Instrumentation)](Tracer.ipynb#Exercise-2:-Syntax-Based-Instrumentation)\n",
    "* `assign_command()` &mdash; [How Debuggers Work (Exercise 1: Changing State)](Debugger.ipynb#Exercise-1:-Changing-State)\n",
    "* AST &mdash; [Tracing Executions (Exercise 2: Syntax-Based Instrumentation)](Tracer.ipynb#Exercise-2:-Syntax-Based-Instrumentation)\n",
    "* `A_Class` class &mdash; [Class Diagrams (Getting a Class Hierarchy)](ClassDiagram.ipynb#Getting-a-Class-Hierarchy), [Class Diagrams (Getting a Class Hierarchy)](ClassDiagram.ipynb#Getting-a-Class-Hierarchy)\n"
   ]
  },
  {
   "cell_type": "markdown",
   "id": "continuing-effort",
   "metadata": {},
   "source": [
    "### B\n",
    "\n",
    "* `bar()` &mdash; [Class Diagrams (Getting a Class Hierarchy)](ClassDiagram.ipynb#Getting-a-Class-Hierarchy)\n",
    "* `break_command()` &mdash; [How Debuggers Work (Setting Breakpoints)](Debugger.ipynb#Setting-Breakpoints)\n",
    "* bug &mdash; [Introduction to Debugging (From Defect to Failure)](Intro_Debugging.ipynb#From-Defect-to-Failure), [Introduction to Debugging (Lessons Learned)](Intro_Debugging.ipynb#Lessons-Learned)\n",
    "* `B_Class` class &mdash; [Class Diagrams (Getting a Class Hierarchy)](ClassDiagram.ipynb#Getting-a-Class-Hierarchy)\n"
   ]
  },
  {
   "cell_type": "markdown",
   "id": "obvious-korea",
   "metadata": {},
   "source": [
    "### C\n",
    "\n",
    "* call stack &mdash; [Inspecting Call Stacks (Inspecting Call Stacks)](StackInspector.ipynb#Inspecting-Call-Stacks)\n",
    "* `callee()` &mdash; [Inspecting Call Stacks (Synopsis)](StackInspector.ipynb#Synopsis)\n",
    "* `caller()` &mdash; [Inspecting Call Stacks (Synopsis)](StackInspector.ipynb#Synopsis)\n",
    "* `caller_frame()` &mdash; [Inspecting Call Stacks (Inspecting Call Stacks)](StackInspector.ipynb#Inspecting-Call-Stacks)\n",
    "* `caller_function()` &mdash; [Inspecting Call Stacks (Inspecting Call Stacks)](StackInspector.ipynb#Inspecting-Call-Stacks)\n",
    "* `caller_globals()` &mdash; [Inspecting Call Stacks (Inspecting Call Stacks)](StackInspector.ipynb#Inspecting-Call-Stacks)\n",
    "* `caller_locals()` &mdash; [Inspecting Call Stacks (Inspecting Call Stacks)](StackInspector.ipynb#Inspecting-Call-Stacks)\n",
    "* `caller_location()` &mdash; [Inspecting Call Stacks (Inspecting Call Stacks)](StackInspector.ipynb#Inspecting-Call-Stacks)\n",
    "* `cancel()` &mdash; [Error Handling (Catching Timeouts)](ExpectError.ipynb#Catching-Timeouts)\n",
    "* cause-effect chain &mdash; [Introduction to Debugging (From Defect to Failure)](Intro_Debugging.ipynb#From-Defect-to-Failure)\n",
    "* `changed_vars()` &mdash; [Tracing Executions (Tracing Variable Changes)](Tracer.ipynb#Tracing-Variable-Changes)\n",
    "* `check_time()` &mdash; [Error Handling (Catching Timeouts)](ExpectError.ipynb#Catching-Timeouts)\n",
    "* `CLASS_COLOR` &mdash; [Class Diagrams (Drawing Class Hierarchy with Method Names)](ClassDiagram.ipynb#Drawing-Class-Hierarchy-with-Method-Names), [Class Diagrams (Drawing Class Hierarchy with Method Names)](ClassDiagram.ipynb#Drawing-Class-Hierarchy-with-Method-Names)\n",
    "* `CLASS_FONT` &mdash; [Class Diagrams (Drawing Class Hierarchy with Method Names)](ClassDiagram.ipynb#Drawing-Class-Hierarchy-with-Method-Names), [Class Diagrams (Drawing Class Hierarchy with Method Names)](ClassDiagram.ipynb#Drawing-Class-Hierarchy-with-Method-Names)\n",
    "* `class_hierarchy()` &mdash; [Class Diagrams (Getting a Class Hierarchy)](ClassDiagram.ipynb#Getting-a-Class-Hierarchy)\n",
    "* `class_items()` &mdash; [Class Diagrams (Getting Methods and Variables)](ClassDiagram.ipynb#Getting-Methods-and-Variables)\n",
    "* `_class_items()` &mdash; [Class Diagrams (Getting Methods and Variables)](ClassDiagram.ipynb#Getting-Methods-and-Variables)\n",
    "* `class_methods()` &mdash; [Class Diagrams (Getting Methods and Variables)](ClassDiagram.ipynb#Getting-Methods-and-Variables)\n",
    "* `class_methods_string()` &mdash; [Class Diagrams (Drawing Class Hierarchy with Method Names)](ClassDiagram.ipynb#Drawing-Class-Hierarchy-with-Method-Names)\n",
    "* `class_set()` &mdash; [Class Diagrams (Getting a Class Tree)](ClassDiagram.ipynb#Getting-a-Class-Tree)\n",
    "* `class_tree()` &mdash; [Class Diagrams (Getting a Class Tree)](ClassDiagram.ipynb#Getting-a-Class-Tree)\n",
    "* `class_vars()` &mdash; [Class Diagrams (Getting Methods and Variables)](ClassDiagram.ipynb#Getting-Methods-and-Variables)\n",
    "* `class_vars_string()` &mdash; [Class Diagrams (Drawing Class Hierarchy with Method Names)](ClassDiagram.ipynb#Drawing-Class-Hierarchy-with-Method-Names)\n",
    "* `clock()` &mdash; [Timer (Measuring Time)](Timer.ipynb#Measuring-Time)\n",
    "* `commands()` &mdash; [How Debuggers Work (Excursion: Implementing execute())](Debugger.ipynb#Excursion:-Implementing-execute())\n",
    "* `command_method()` &mdash; [How Debuggers Work (Excursion: Implementing execute())](Debugger.ipynb#Excursion:-Implementing-execute())\n",
    "* `ConditionalTracer` class &mdash; [Tracing Executions (Conditional Tracing)](Tracer.ipynb#Conditional-Tracing), [Tracing Executions (Conditional Tracing)](Tracer.ipynb#Conditional-Tracing), [Tracing Executions (Conditional Tracing)](Tracer.ipynb#Conditional-Tracing), [Tracing Executions (Conditional Tracing)](Tracer.ipynb#Conditional-Tracing), [Tracing Executions (Conditional Tracing)](Tracer.ipynb#Conditional-Tracing)\n",
    "* `CONDITION` &mdash; [How Debuggers Work (Watchpoints (\"watch\"))](Debugger.ipynb#Watchpoints-(\"watch\"))\n",
    "* `continue_command()` &mdash; [How Debuggers Work (Debugger Interaction)](Debugger.ipynb#Debugger-Interaction)\n",
    "* `create_function()` &mdash; [Inspecting Call Stacks (Inspecting Call Stacks)](StackInspector.ipynb#Inspecting-Call-Stacks)\n",
    "* `C_Class` class &mdash; [Class Diagrams (Getting a Class Hierarchy)](ClassDiagram.ipynb#Getting-a-Class-Hierarchy)\n"
   ]
  },
  {
   "cell_type": "markdown",
   "id": "important-bible",
   "metadata": {},
   "source": [
    "### D\n",
    "\n",
    "* Debugger API](https://developer.mozilla.org/en-US/docs/Tools/Debugger-API) and Google's [chrome.debugger API &mdash; [Tracing Executions (High-Level Debugging Interfaces)](Tracer.ipynb#High-Level-Debugging-Interfaces)\n",
    "* debuggers &mdash; [How Debuggers Work (Debuggers)](Debugger.ipynb#Debuggers)\n",
    "* `Debugger` class &mdash; [How Debuggers Work (Debugger Interaction)](Debugger.ipynb#Debugger-Interaction), [How Debuggers Work (Debugger Interaction)](Debugger.ipynb#Debugger-Interaction), [How Debuggers Work (Debugger Interaction)](Debugger.ipynb#Debugger-Interaction), [How Debuggers Work (Debugger Interaction)](Debugger.ipynb#Debugger-Interaction), [How Debuggers Work (Debugger Interaction)](Debugger.ipynb#Debugger-Interaction), [How Debuggers Work (Debugger Interaction)](Debugger.ipynb#Debugger-Interaction), [How Debuggers Work (Debugger Interaction)](Debugger.ipynb#Debugger-Interaction), [How Debuggers Work (Excursion: Implementing execute())](Debugger.ipynb#Excursion:-Implementing-execute()), [How Debuggers Work (Excursion: Implementing execute())](Debugger.ipynb#Excursion:-Implementing-execute()), [How Debuggers Work (Excursion: Implementing execute())](Debugger.ipynb#Excursion:-Implementing-execute()), [How Debuggers Work (Excursion: Implementing execute())](Debugger.ipynb#Excursion:-Implementing-execute()), [How Debuggers Work (Printing Values)](Debugger.ipynb#Printing-Values), [How Debuggers Work (Printing Values)](Debugger.ipynb#Printing-Values), [How Debuggers Work (Listing Source Code)](Debugger.ipynb#Listing-Source-Code), [How Debuggers Work (Setting Breakpoints)](Debugger.ipynb#Setting-Breakpoints), [How Debuggers Work (Deleting Breakpoints)](Debugger.ipynb#Deleting-Breakpoints), [How Debuggers Work (Listings with Benefits)](Debugger.ipynb#Listings-with-Benefits), [How Debuggers Work (Quitting)](Debugger.ipynb#Quitting), [How Debuggers Work (Exercise 1: Changing State)](Debugger.ipynb#Exercise-1:-Changing-State)\n",
    "* debugging information &mdash; [Tracing Executions (Low-Level Debugging Interfaces)](Tracer.ipynb#Low-Level-Debugging-Interfaces)\n",
    "* `defined_in()` &mdash; [Class Diagrams (Getting Methods and Variables)](ClassDiagram.ipynb#Getting-Methods-and-Variables)\n",
    "* `delete_command()` &mdash; [How Debuggers Work (Deleting Breakpoints)](Debugger.ipynb#Deleting-Breakpoints)\n",
    "* diagnosis &mdash; [Introduction to Debugging (Fixing the Bug)](Intro_Debugging.ipynb#Fixing-the-Bug)\n",
    "* `display_class_hierarchy()` &mdash; [Class Diagrams (Drawing Class Hierarchy with Method Names)](ClassDiagram.ipynb#Drawing-Class-Hierarchy-with-Method-Names)\n",
    "* `display_class_node()` &mdash; [Class Diagrams (Drawing Class Hierarchy with Method Names)](ClassDiagram.ipynb#Drawing-Class-Hierarchy-with-Method-Names)\n",
    "* `display_class_trees()` &mdash; [Class Diagrams (Drawing Class Hierarchy with Method Names)](ClassDiagram.ipynb#Drawing-Class-Hierarchy-with-Method-Names)\n",
    "* `display_legend()` &mdash; [Class Diagrams (Drawing Class Hierarchy with Method Names)](ClassDiagram.ipynb#Drawing-Class-Hierarchy-with-Method-Names)\n",
    "* `docstring()` &mdash; [Class Diagrams (Getting Docs)](ClassDiagram.ipynb#Getting-Docs)\n",
    "* `doc_class_methods()` &mdash; [Class Diagrams (Getting Methods and Variables)](ClassDiagram.ipynb#Getting-Methods-and-Variables)\n",
    "* `DOC_INDENT` &mdash; [Class Diagrams (Getting Docs)](ClassDiagram.ipynb#Getting-Docs)\n",
    "* `do_report()` &mdash; [Tracing Executions (Conditional Tracing)](Tracer.ipynb#Conditional-Tracing), [Tracing Executions (Watching Events)](Tracer.ipynb#Watching-Events)\n",
    "* `D_Class` class &mdash; [Class Diagrams (Getting a Class Hierarchy)](ClassDiagram.ipynb#Getting-a-Class-Hierarchy), [Class Diagrams (Getting a Class Hierarchy)](ClassDiagram.ipynb#Getting-a-Class-Hierarchy)\n"
   ]
  },
  {
   "cell_type": "markdown",
   "id": "commercial-robert",
   "metadata": {},
   "source": [
    "### E\n",
    "\n",
    "* `elapsed_time()` &mdash; [Timer (Measuring Time)](Timer.ipynb#Measuring-Time)\n",
    "* `__enter__()` &mdash; [Tracing Executions (A Tracer Class)](Tracer.ipynb#A-Tracer-Class), [Error Handling (Catching Errors)](ExpectError.ipynb#Catching-Errors), [Error Handling (Catching Timeouts)](ExpectError.ipynb#Catching-Timeouts), [Timer (Measuring Time)](Timer.ipynb#Measuring-Time)\n",
    "* error &mdash; [Introduction to Debugging (From Defect to Failure)](Intro_Debugging.ipynb#From-Defect-to-Failure)\n",
    "* `escape()` &mdash; [Class Diagrams (Getting Docs)](ClassDiagram.ipynb#Getting-Docs)\n",
    "* `escape_doc()` &mdash; [Class Diagrams (Getting Docs)](ClassDiagram.ipynb#Getting-Docs)\n",
    "* `eval_in_context()` &mdash; [Tracing Executions (Conditional Tracing)](Tracer.ipynb#Conditional-Tracing), [Tracing Executions (Conditional Tracing)](Tracer.ipynb#Conditional-Tracing)\n",
    "* `events_changed()` &mdash; [Tracing Executions (Watching Events)](Tracer.ipynb#Watching-Events)\n",
    "* `EventTracer` class &mdash; [Tracing Executions (Watching Events)](Tracer.ipynb#Watching-Events), [Tracing Executions (Watching Events)](Tracer.ipynb#Watching-Events), [Tracing Executions (Watching Events)](Tracer.ipynb#Watching-Events)\n",
    "* `execute()` &mdash; [How Debuggers Work (Debugger Interaction)](Debugger.ipynb#Debugger-Interaction), [How Debuggers Work (Excursion: Implementing execute())](Debugger.ipynb#Excursion:-Implementing-execute())\n",
    "* execution log &mdash; [Tracing Executions (Tracing Python Programs)](Tracer.ipynb#Tracing-Python-Programs)\n",
    "* `execution_diagram()` &mdash; [Introduction to Debugging (From Defect to Failure)](Intro_Debugging.ipynb#From-Defect-to-Failure)\n",
    "* `__exit__()` &mdash; [Tracing Executions (A Tracer Class)](Tracer.ipynb#A-Tracer-Class), [Error Handling (Catching Errors)](ExpectError.ipynb#Catching-Errors), [Error Handling (Catching Timeouts)](ExpectError.ipynb#Catching-Timeouts), [Timer (Measuring Time)](Timer.ipynb#Measuring-Time)\n",
    "* `ExpectError` class &mdash; [Error Handling (Catching Errors)](ExpectError.ipynb#Catching-Errors)\n",
    "* `ExpectTimeout` class &mdash; [Error Handling (Catching Timeouts)](ExpectError.ipynb#Catching-Timeouts)\n"
   ]
  },
  {
   "cell_type": "markdown",
   "id": "center-promise",
   "metadata": {},
   "source": [
    "## F - J"
   ]
  },
  {
   "cell_type": "markdown",
   "id": "indie-pearl",
   "metadata": {},
   "source": [
    "### F\n",
    "\n",
    "* `fail()` &mdash; [Tracing Executions (Exercise 1: Exception Handling)](Tracer.ipynb#Exercise-1:-Exception-Handling)\n",
    "* failure &mdash; [Introduction to Debugging (From Defect to Failure)](Intro_Debugging.ipynb#From-Defect-to-Failure)\n",
    "* `FAIL_COLOR` &mdash; [Introduction to Debugging (Visualizing Code)](Intro_Debugging.ipynb#Visualizing-Code)\n",
    "* `fail_test()` &mdash; [Error Handling (Catching Errors)](ExpectError.ipynb#Catching-Errors)\n",
    "* `FAIL` &mdash; [Introduction to Debugging (Visualizing Code)](Intro_Debugging.ipynb#Visualizing-Code)\n",
    "* fault &mdash; [Introduction to Debugging (From Defect to Failure)](Intro_Debugging.ipynb#From-Defect-to-Failure)\n",
    "* First actual case of bug being found &mdash; [Introduction to Debugging (Debugging Aftermath)](Intro_Debugging.ipynb#Debugging-Aftermath)\n",
    "* `FONT_NAME` &mdash; [Introduction to Debugging (Visualizing Code)](Intro_Debugging.ipynb#Visualizing-Code)\n",
    "* `foo()` &mdash; [Tracing Executions (Exercise 2: Syntax-Based Instrumentation)](Tracer.ipynb#Exercise-2:-Syntax-Based-Instrumentation), [Class Diagrams (Getting a Class Hierarchy)](ClassDiagram.ipynb#Getting-a-Class-Hierarchy), [Class Diagrams (Getting a Class Hierarchy)](ClassDiagram.ipynb#Getting-a-Class-Hierarchy), [Class Diagrams (Getting a Class Hierarchy)](ClassDiagram.ipynb#Getting-a-Class-Hierarchy)\n",
    "* `FUNCTION` &mdash; [How Debuggers Work (Named breakpoints (\"break\"))](Debugger.ipynb#Named-breakpoints-(\"break\"))\n"
   ]
  },
  {
   "cell_type": "markdown",
   "id": "auburn-ability",
   "metadata": {},
   "source": [
    "### G\n",
    "\n",
    "* GDB, the GNU debugger](https://www.gnu.org/software/gdb/), whose interface in turn goes back to earlier command-line debuggers such as [dbx &mdash; [How Debuggers Work (Background)](Debugger.ipynb#Background)\n",
    "* `graph()` &mdash; [Introduction to Debugging (Visualizing Code)](Intro_Debugging.ipynb#Visualizing-Code)\n"
   ]
  },
  {
   "cell_type": "markdown",
   "id": "duplicate-somerset",
   "metadata": {},
   "source": [
    "### H\n",
    "\n",
    "* hardware breakpoints &mdash; [Tracing Executions (Tracing Binary Executables)](Tracer.ipynb#Tracing-Binary-Executables)\n",
    "* hardware watchpoints &mdash; [Tracing Executions (Tracing Binary Executables)](Tracer.ipynb#Tracing-Binary-Executables)\n",
    "* `help_command()` &mdash; [How Debuggers Work (Excursion: Implementing execute())](Debugger.ipynb#Excursion:-Implementing-execute()), [How Debuggers Work (Excursion: Implementing execute())](Debugger.ipynb#Excursion:-Implementing-execute())\n"
   ]
  },
  {
   "cell_type": "markdown",
   "id": "cellular-terminology",
   "metadata": {},
   "source": [
    "### I\n",
    "\n",
    "* infection &mdash; [Introduction to Debugging (From Defect to Failure)](Intro_Debugging.ipynb#From-Defect-to-Failure), [Introduction to Debugging (Lessons Learned)](Intro_Debugging.ipynb#Lessons-Learned)\n",
    "* `__init__()` &mdash; [Tracing Executions (A Tracer Class)](Tracer.ipynb#A-Tracer-Class), [Tracing Executions (Tracing Variable Changes)](Tracer.ipynb#Tracing-Variable-Changes), [Tracing Executions (Conditional Tracing)](Tracer.ipynb#Conditional-Tracing), [Tracing Executions (Watching Events)](Tracer.ipynb#Watching-Events), [How Debuggers Work (Debugger Interaction)](Debugger.ipynb#Debugger-Interaction), [Error Handling (Catching Errors)](ExpectError.ipynb#Catching-Errors), [Error Handling (Catching Timeouts)](ExpectError.ipynb#Catching-Timeouts)\n",
    "* `InjectPass` class &mdash; [Tracing Executions (Exercise 2: Syntax-Based Instrumentation)](Tracer.ipynb#Exercise-2:-Syntax-Based-Instrumentation)\n",
    "* `insert_tracer()` &mdash; [Tracing Executions (Efficient Tracing)](Tracer.ipynb#Efficient-Tracing)\n",
    "* `interaction_loop()` &mdash; [How Debuggers Work (Debugger Interaction)](Debugger.ipynb#Debugger-Interaction)\n",
    "* `is_abstract()` &mdash; [Class Diagrams (Drawing Class Hierarchy with Method Names)](ClassDiagram.ipynb#Drawing-Class-Hierarchy-with-Method-Names)\n",
    "* `is_internal_error()` &mdash; [Inspecting Call Stacks (Inspecting Call Stacks)](StackInspector.ipynb#Inspecting-Call-Stacks)\n",
    "* `is_overloaded()` &mdash; [Class Diagrams (Drawing Class Hierarchy with Method Names)](ClassDiagram.ipynb#Drawing-Class-Hierarchy-with-Method-Names)\n",
    "* `is_public()` &mdash; [Class Diagrams (Drawing Class Hierarchy with Method Names)](ClassDiagram.ipynb#Drawing-Class-Hierarchy-with-Method-Names)\n",
    "* `is_var()` &mdash; [Class Diagrams (Getting Methods and Variables)](ClassDiagram.ipynb#Getting-Methods-and-Variables)\n",
    "* its documentation in the Python reference &mdash; [Tracing Executions (Tracing Python Programs)](Tracer.ipynb#Tracing-Python-Programs)\n"
   ]
  },
  {
   "cell_type": "markdown",
   "id": "played-pharmacy",
   "metadata": {},
   "source": [
    "### J\n",
    "\n",
    "* Java Debug Interface](https://docs.oracle.com/javase/8/docs/jdk/api/jpda/jdi/) (JDI) is a _high-level interface_ for implementing a debugger (or tracer) on top of Java. [This introduction to JDI &mdash; [Tracing Executions (High-Level Debugging Interfaces)](Tracer.ipynb#High-Level-Debugging-Interfaces)\n"
   ]
  },
  {
   "cell_type": "markdown",
   "id": "nonprofit-martin",
   "metadata": {},
   "source": [
    "## L - P"
   ]
  },
  {
   "cell_type": "markdown",
   "id": "refined-array",
   "metadata": {},
   "source": [
    "### L\n",
    "\n",
    "* `LINE` &mdash; [How Debuggers Work (Execute until line (\"until\"))](Debugger.ipynb#Execute-until-line-(\"until\")), [How Debuggers Work (Execute until line (\"until\"))](Debugger.ipynb#Execute-until-line-(\"until\"))\n",
    "* `list_command()` &mdash; [How Debuggers Work (Listing Source Code)](Debugger.ipynb#Listing-Source-Code), [How Debuggers Work (Listings with Benefits)](Debugger.ipynb#Listings-with-Benefits)\n",
    "* `log()` &mdash; [Tracing Executions (A Tracer Class)](Tracer.ipynb#A-Tracer-Class)\n",
    "* `long_running_test()` &mdash; [Error Handling (Catching Timeouts)](ExpectError.ipynb#Catching-Timeouts)\n"
   ]
  },
  {
   "cell_type": "markdown",
   "id": "drawn-protein",
   "metadata": {},
   "source": [
    "### M\n",
    "\n",
    "* malfunction &mdash; [Introduction to Debugging (From Defect to Failure)](Intro_Debugging.ipynb#From-Defect-to-Failure), [Introduction to Debugging (Lessons Learned)](Intro_Debugging.ipynb#Lessons-Learned)\n",
    "* Master Mind Board Grame &mdash; [Introduction to Debugging (Keep a Log)](Intro_Debugging.ipynb#Keep-a-Log)\n",
    "* `METHOD_COLOR` &mdash; [Class Diagrams (Drawing Class Hierarchy with Method Names)](ClassDiagram.ipynb#Drawing-Class-Hierarchy-with-Method-Names)\n",
    "* `METHOD_FONT` &mdash; [Class Diagrams (Drawing Class Hierarchy with Method Names)](ClassDiagram.ipynb#Drawing-Class-Hierarchy-with-Method-Names)\n",
    "* `method_string()` &mdash; [Class Diagrams (Drawing Class Hierarchy with Method Names)](ClassDiagram.ipynb#Drawing-Class-Hierarchy-with-Method-Names)\n"
   ]
  },
  {
   "cell_type": "markdown",
   "id": "anonymous-involvement",
   "metadata": {},
   "source": [
    "### N\n",
    "\n",
    "* `NAME` &mdash; [How Debuggers Work (Synopsis)](Debugger.ipynb#Synopsis), [How Debuggers Work (Printing Values)](Debugger.ipynb#Printing-Values), [How Debuggers Work (Synopsis)](Debugger.ipynb#Synopsis)\n"
   ]
  },
  {
   "cell_type": "markdown",
   "id": "maritime-dimension",
   "metadata": {},
   "source": [
    "### O\n",
    "\n",
    "* official Python `ast` reference](http://docs.python.org/3/library/ast) is complete, but a bit brief; the documentation [\"Green Tree Snakes - the missing Python AST docs\" &mdash; [Tracing Executions (Exercise 2: Syntax-Based Instrumentation)](Tracer.ipynb#Exercise-2:-Syntax-Based-Instrumentation)\n",
    "* `our_frame()` &mdash; [Inspecting Call Stacks (Inspecting Call Stacks)](StackInspector.ipynb#Inspecting-Call-Stacks)\n",
    "* `overloaded_class_methods()` &mdash; [Class Diagrams (Getting Methods and Variables)](ClassDiagram.ipynb#Getting-Methods-and-Variables)\n"
   ]
  },
  {
   "cell_type": "markdown",
   "id": "sticky-bread",
   "metadata": {},
   "source": [
    "### P\n",
    "\n",
    "* `PASS_COLOR` &mdash; [Introduction to Debugging (Visualizing Code)](Intro_Debugging.ipynb#Visualizing-Code)\n",
    "* `PASS` &mdash; [Introduction to Debugging (Visualizing Code)](Intro_Debugging.ipynb#Visualizing-Code)\n",
    "* `print_command()` &mdash; [How Debuggers Work (Printing Values)](Debugger.ipynb#Printing-Values), [How Debuggers Work (Printing Values)](Debugger.ipynb#Printing-Values)\n",
    "* `print_debugger_status()` &mdash; [Tracing Executions (Tracing Variable Changes)](Tracer.ipynb#Tracing-Variable-Changes), [Tracing Executions (Exercise 1: Exception Handling)](Tracer.ipynb#Exercise-1:-Exception-Handling)\n",
    "* ptrace() &mdash; [Tracing Executions (Low-Level Debugging Interfaces)](Tracer.ipynb#Low-Level-Debugging-Interfaces)\n",
    "* `public_class_methods()` &mdash; [Class Diagrams (Getting Methods and Variables)](ClassDiagram.ipynb#Getting-Methods-and-Variables)\n",
    "* Python tutorial &mdash; [Introduction to Debugging (Understanding Python Programs)](Intro_Debugging.ipynb#Understanding-Python-Programs)\n"
   ]
  },
  {
   "cell_type": "markdown",
   "id": "pleased-lafayette",
   "metadata": {},
   "source": [
    "## Q - U"
   ]
  },
  {
   "cell_type": "markdown",
   "id": "appreciated-yield",
   "metadata": {},
   "source": [
    "### Q\n",
    "\n",
    "* `quit_command()` &mdash; [How Debuggers Work (Quitting)](Debugger.ipynb#Quitting)\n",
    "* `quux()` &mdash; [Class Diagrams (Getting a Class Hierarchy)](ClassDiagram.ipynb#Getting-a-Class-Hierarchy)\n",
    "* `qux()` &mdash; [Class Diagrams (Getting a Class Hierarchy)](ClassDiagram.ipynb#Getting-a-Class-Hierarchy)\n"
   ]
  },
  {
   "cell_type": "markdown",
   "id": "executive-subsection",
   "metadata": {},
   "source": [
    "### R\n",
    "\n",
    "* record+replay \"rr\" debugger &mdash; [How Debuggers Work (Background)](Debugger.ipynb#Background)\n",
    "* `remove_html_markup()` &mdash; [Introduction to Debugging (Your Task: Remove HTML Markup)](Intro_Debugging.ipynb#Your-Task:-Remove-HTML-Markup), [Introduction to Debugging (A First Fix)](Intro_Debugging.ipynb#A-First-Fix), [Introduction to Debugging (Fixing the Code)](Intro_Debugging.ipynb#Fixing-the-Code), [Introduction to Debugging (Add Assertions)](Intro_Debugging.ipynb#Add-Assertions), [How Debuggers Work (Debugger Interaction)](Debugger.ipynb#Debugger-Interaction)\n",
    "* `remove_html_markup_fixed()` &mdash; [Introduction to Debugging (Use the Most Obvious Fix)](Intro_Debugging.ipynb#Use-the-Most-Obvious-Fix)\n",
    "* `remove_html_markup_traced()` &mdash; [Tracing Executions (Tracing Python Programs)](Tracer.ipynb#Tracing-Python-Programs)\n",
    "* `remove_html_markup_without_quotes()` &mdash; [Introduction to Debugging (Debugging into Existence)](Intro_Debugging.ipynb#Debugging-into-Existence)\n",
    "* `remove_html_markup_with_print()` &mdash; [Introduction to Debugging (Printf Debugging)](Intro_Debugging.ipynb#Printf-Debugging)\n",
    "* `remove_html_markup_with_proper_quotes()` &mdash; [Introduction to Debugging (Part 3: Fix the Problem)](Intro_Debugging.ipynb#Part-3:-Fix-the-Problem)\n",
    "* `remove_html_markup_with_quote_assert()` &mdash; [Introduction to Debugging (Refuting a Hypothesis)](Intro_Debugging.ipynb#Refuting-a-Hypothesis)\n",
    "* `remove_html_markup_with_tag_assert()` &mdash; [Introduction to Debugging (Refining a Hypothesis)](Intro_Debugging.ipynb#Refining-a-Hypothesis)\n",
    "* rubber duck debugging &mdash; [Introduction to Debugging (Rubberducking)](Intro_Debugging.ipynb#Rubberducking)\n",
    "* Rubber duck debugging &mdash; [Introduction to Debugging (Rubberducking)](Intro_Debugging.ipynb#Rubberducking)\n",
    "* rubberducking &mdash; [Introduction to Debugging (Rubberducking)](Intro_Debugging.ipynb#Rubberducking)\n"
   ]
  },
  {
   "cell_type": "markdown",
   "id": "together-bikini",
   "metadata": {},
   "source": [
    "### S\n",
    "\n",
    "* scientific method &mdash; [Introduction to Debugging (The Scientific Method)](Intro_Debugging.ipynb#The-Scientific-Method)\n",
    "* `search_frame()` &mdash; [Inspecting Call Stacks (Inspecting Call Stacks)](StackInspector.ipynb#Inspecting-Call-Stacks)\n",
    "* `search_func()` &mdash; [Inspecting Call Stacks (Inspecting Call Stacks)](StackInspector.ipynb#Inspecting-Call-Stacks)\n",
    "* `search_superclasses()` &mdash; [Class Diagrams (Getting Methods and Variables)](ClassDiagram.ipynb#Getting-Methods-and-Variables)\n",
    "* `second()` &mdash; [Class Diagrams (Getting a Class Hierarchy)](ClassDiagram.ipynb#Getting-a-Class-Hierarchy)\n",
    "* `slider()` &mdash; [How Debuggers Work (Part 3: Graphical User Interface)](Debugger.ipynb#Part-3:-Graphical-User-Interface)\n",
    "* `some_extreme_function()` &mdash; [Tracing Executions (Efficient Tracing)](Tracer.ipynb#Efficient-Tracing)\n",
    "* `some_long_running_function()` &mdash; [Timer (Measuring Time)](Timer.ipynb#Measuring-Time)\n",
    "* `StackInspectorDemo` class &mdash; [Inspecting Call Stacks (Synopsis)](StackInspector.ipynb#Synopsis)\n",
    "* `StackInspector` class &mdash; [Inspecting Call Stacks (Inspecting Call Stacks)](StackInspector.ipynb#Inspecting-Call-Stacks), [Inspecting Call Stacks (Inspecting Call Stacks)](StackInspector.ipynb#Inspecting-Call-Stacks), [Inspecting Call Stacks (Inspecting Call Stacks)](StackInspector.ipynb#Inspecting-Call-Stacks), [Inspecting Call Stacks (Inspecting Call Stacks)](StackInspector.ipynb#Inspecting-Call-Stacks), [Inspecting Call Stacks (Inspecting Call Stacks)](StackInspector.ipynb#Inspecting-Call-Stacks), [Inspecting Call Stacks (Inspecting Call Stacks)](StackInspector.ipynb#Inspecting-Call-Stacks), [Inspecting Call Stacks (Inspecting Call Stacks)](StackInspector.ipynb#Inspecting-Call-Stacks)\n",
    "* `STEP_COLOR` &mdash; [Introduction to Debugging (Visualizing Code)](Intro_Debugging.ipynb#Visualizing-Code)\n",
    "* `step_command()` &mdash; [How Debuggers Work (Debugger Interaction)](Debugger.ipynb#Debugger-Interaction)\n",
    "* `stop_here()` &mdash; [How Debuggers Work (Debugger Interaction)](Debugger.ipynb#Debugger-Interaction)\n"
   ]
  },
  {
   "cell_type": "markdown",
   "id": "nuclear-specific",
   "metadata": {},
   "source": [
    "### T\n",
    "\n",
    "* test &mdash; [Introduction to Debugging (Running a Function)](Intro_Debugging.ipynb#Running-a-Function)\n",
    "* `test()` &mdash; [Inspecting Call Stacks (Synopsis)](StackInspector.ipynb#Synopsis)\n",
    "* the etymology of the word \"bug\"](http://www.catb.org/~esr/jargon/html/B/bug.html) in [The Jargon File](http://www.catb.org/~esr/jargon/). Also check out the [Wikipedia entry on debugging &mdash; [Introduction to Debugging (Debugging Aftermath)](Intro_Debugging.ipynb#Debugging-Aftermath)\n",
    "* the GNU command-line debugger (GDB) &mdash; [How Debuggers Work (Exercise 2: More Commands)](Debugger.ipynb#Exercise-2:-More-Commands)\n",
    "* theory &mdash; [Introduction to Debugging (The Scientific Method)](Intro_Debugging.ipynb#The-Scientific-Method), [Introduction to Debugging (Fixing the Bug)](Intro_Debugging.ipynb#Fixing-the-Bug)\n",
    "* this blog post &mdash; [How Debuggers Work (Exercise 1: Changing State)](Debugger.ipynb#Exercise-1:-Changing-State)\n",
    "* `Timer` class &mdash; [Timer (Measuring Time)](Timer.ipynb#Measuring-Time)\n",
    "* trace &mdash; [Tracing Executions (Tracing Python Programs)](Tracer.ipynb#Tracing-Python-Programs)\n",
    "* `traceit()` &mdash; [Tracing Executions (Tracing Python Programs)](Tracer.ipynb#Tracing-Python-Programs), [Tracing Executions (Tracing Python Programs)](Tracer.ipynb#Tracing-Python-Programs), [Tracing Executions (Tracing Python Programs)](Tracer.ipynb#Tracing-Python-Programs), [Tracing Executions (Tracing Python Programs)](Tracer.ipynb#Tracing-Python-Programs), [Tracing Executions (A Tracer Class)](Tracer.ipynb#A-Tracer-Class), [Tracing Executions (Accessing Source Code)](Tracer.ipynb#Accessing-Source-Code), [Tracing Executions (Tracing Calls and Returns)](Tracer.ipynb#Tracing-Calls-and-Returns), [Tracing Executions (Tracing Variable Changes)](Tracer.ipynb#Tracing-Variable-Changes), [Tracing Executions (Conditional Tracing)](Tracer.ipynb#Conditional-Tracing), [How Debuggers Work (Debugger Interaction)](Debugger.ipynb#Debugger-Interaction)\n",
    "* `_traceit()` &mdash; [Tracing Executions (A Tracer Class)](Tracer.ipynb#A-Tracer-Class)\n",
    "* `TRACER_CODE` &mdash; [Tracing Executions (Efficient Tracing)](Tracer.ipynb#Efficient-Tracing)\n",
    "* `TRACER` &mdash; [Tracing Executions (Efficient Tracing)](Tracer.ipynb#Efficient-Tracing), [Tracing Executions (Efficient Tracing)](Tracer.ipynb#Efficient-Tracing)\n",
    "* `Tracer` class &mdash; [Tracing Executions (A Tracer Class)](Tracer.ipynb#A-Tracer-Class), [Tracing Executions (Accessing Source Code)](Tracer.ipynb#Accessing-Source-Code), [Tracing Executions (Tracing Calls and Returns)](Tracer.ipynb#Tracing-Calls-and-Returns), [Tracing Executions (Tracing Variable Changes)](Tracer.ipynb#Tracing-Variable-Changes), [Tracing Executions (Tracing Variable Changes)](Tracer.ipynb#Tracing-Variable-Changes), [Tracing Executions (Exercise 1: Exception Handling)](Tracer.ipynb#Exercise-1:-Exception-Handling)\n",
    "* tracing function &mdash; [Tracing Executions (Tracing Python Programs)](Tracer.ipynb#Tracing-Python-Programs)\n",
    "* `traverse_tree()` &mdash; [Class Diagrams (Getting a Class Tree)](ClassDiagram.ipynb#Getting-a-Class-Tree)\n"
   ]
  },
  {
   "cell_type": "markdown",
   "id": "distributed-bargain",
   "metadata": {},
   "source": [
    "### U\n",
    "\n",
    "* `unknown()` &mdash; [Class Diagrams (Getting Docs)](ClassDiagram.ipynb#Getting-Docs), [Inspecting Call Stacks (Inspecting Call Stacks)](StackInspector.ipynb#Inspecting-Call-Stacks)\n"
   ]
  },
  {
   "cell_type": "markdown",
   "id": "arranged-memorial",
   "metadata": {},
   "source": [
    "## V - W"
   ]
  },
  {
   "cell_type": "markdown",
   "id": "floppy-lawrence",
   "metadata": {},
   "source": [
    "### V\n",
    "\n",
    "* `VALUE` &mdash; [How Debuggers Work (Exercise 1: Changing State)](Debugger.ipynb#Exercise-1:-Changing-State)\n",
    "* `var_string()` &mdash; [Class Diagrams (Drawing Class Hierarchy with Method Names)](ClassDiagram.ipynb#Drawing-Class-Hierarchy-with-Method-Names)\n",
    "* `VAR` &mdash; [How Debuggers Work (Exercise 1: Changing State)](Debugger.ipynb#Exercise-1:-Changing-State), [Class Diagrams (Getting a Class Hierarchy)](ClassDiagram.ipynb#Getting-a-Class-Hierarchy)\n",
    "* `visit_FunctionDef()` &mdash; [Tracing Executions (Exercise 2: Syntax-Based Instrumentation)](Tracer.ipynb#Exercise-2:-Syntax-Based-Instrumentation)\n"
   ]
  },
  {
   "cell_type": "markdown",
   "id": "working-turkey",
   "metadata": {},
   "source": [
    "### W\n",
    "\n",
    "* watchpoints &mdash; [Tracing Executions (Watching Events)](Tracer.ipynb#Watching-Events)\n"
   ]
  }
 ],
 "metadata": {
  "kernelspec": {
   "display_name": "Python 3",
   "language": "python",
   "name": "python3"
  },
  "language_info": {
   "codemirror_mode": {
    "name": "ipython",
    "version": 3
   },
   "file_extension": ".py",
   "mimetype": "text/x-python",
   "name": "python",
   "nbconvert_exporter": "python",
   "pygments_lexer": "ipython3",
   "version": "3.6.6"
  },
  "toc-autonumbering": false
 },
 "nbformat": 4,
 "nbformat_minor": 5
}