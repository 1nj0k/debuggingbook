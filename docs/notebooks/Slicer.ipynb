{
 "cells": [
  {
   "cell_type": "markdown",
   "metadata": {
    "button": false,
    "new_sheet": false,
    "run_control": {
     "read_only": false
    },
    "slideshow": {
     "slide_type": "slide"
    }
   },
   "source": [
    "# Tracking Failure Origins\n",
    "\n",
    "The question of \"Where does this value come from?\" is fundamental for debugging. Which earlier variables could possibly have influenced the current erroneous state? And how did their values come to be?\n",
    "\n",
    "When programmers read code during debugging, they scan it for potential _origins_ of given values. This can be a tedious experience, notably, if the origins spread across multiple separate locations, possibly even in different modules. In this chapter, we thus investigate means to _determine such origins_ automatically – by collecting data and control dependencies during program execution."
   ]
  },
  {
   "cell_type": "code",
   "execution_count": 1,
   "metadata": {
    "execution": {
     "iopub.execute_input": "2023-01-07T16:02:43.423796Z",
     "iopub.status.busy": "2023-01-07T16:02:43.423426Z",
     "iopub.status.idle": "2023-01-07T16:02:43.492556Z",
     "shell.execute_reply": "2023-01-07T16:02:43.492986Z"
    },
    "slideshow": {
     "slide_type": "skip"
    }
   },
   "outputs": [
    {
     "data": {
      "text/html": [
       "\n",
       "        <iframe\n",
       "            width=\"640\"\n",
       "            height=\"360\"\n",
       "            src=\"https://www.youtube-nocookie.com/embed/sjf3cOR0lcI\"\n",
       "            frameborder=\"0\"\n",
       "            allowfullscreen\n",
       "            \n",
       "        ></iframe>\n",
       "        "
      ],
      "text/plain": [
       "<IPython.lib.display.IFrame at 0x1077cdde0>"
      ]
     },
     "execution_count": 1,
     "metadata": {},
     "output_type": "execute_result"
    }
   ],
   "source": [
    "from bookutils import YouTubeVideo\n",
    "YouTubeVideo(\"sjf3cOR0lcI\")"
   ]
  },
  {
   "cell_type": "markdown",
   "metadata": {
    "button": false,
    "new_sheet": false,
    "run_control": {
     "read_only": false
    },
    "slideshow": {
     "slide_type": "subslide"
    }
   },
   "source": [
    "**Prerequisites**\n",
    "\n",
    "* You should have read the [Introduction to Debugging](Intro_Debugging).\n",
    "* To understand how to compute dependencies automatically (the second half of this chapter), you will need\n",
    "    * advanced knowledge of Python semantics\n",
    "    * knowledge on how to instrument and transform code\n",
    "    * knowledge on how an interpreter works"
   ]
  },
  {
   "cell_type": "code",
   "execution_count": 2,
   "metadata": {
    "button": false,
    "execution": {
     "iopub.execute_input": "2023-01-07T16:02:43.496121Z",
     "iopub.status.busy": "2023-01-07T16:02:43.495703Z",
     "iopub.status.idle": "2023-01-07T16:02:43.497106Z",
     "shell.execute_reply": "2023-01-07T16:02:43.497386Z"
    },
    "new_sheet": false,
    "run_control": {
     "read_only": false
    },
    "slideshow": {
     "slide_type": "skip"
    }
   },
   "outputs": [],
   "source": [
    "import bookutils"
   ]
  },
  {
   "cell_type": "code",
   "execution_count": 3,
   "metadata": {
    "execution": {
     "iopub.execute_input": "2023-01-07T16:02:43.499755Z",
     "iopub.status.busy": "2023-01-07T16:02:43.499351Z",
     "iopub.status.idle": "2023-01-07T16:02:43.501067Z",
     "shell.execute_reply": "2023-01-07T16:02:43.501512Z"
    },
    "slideshow": {
     "slide_type": "skip"
    }
   },
   "outputs": [],
   "source": [
    "from bookutils import quiz, next_inputs, print_content"
   ]
  },
  {
   "cell_type": "code",
   "execution_count": 4,
   "metadata": {
    "execution": {
     "iopub.execute_input": "2023-01-07T16:02:43.508322Z",
     "iopub.status.busy": "2023-01-07T16:02:43.507808Z",
     "iopub.status.idle": "2023-01-07T16:02:43.509761Z",
     "shell.execute_reply": "2023-01-07T16:02:43.510030Z"
    },
    "slideshow": {
     "slide_type": "skip"
    }
   },
   "outputs": [],
   "source": [
    "import inspect\n",
    "import warnings"
   ]
  },
  {
   "cell_type": "code",
   "execution_count": 5,
   "metadata": {
    "execution": {
     "iopub.execute_input": "2023-01-07T16:02:43.512353Z",
     "iopub.status.busy": "2023-01-07T16:02:43.511971Z",
     "iopub.status.idle": "2023-01-07T16:02:43.513813Z",
     "shell.execute_reply": "2023-01-07T16:02:43.514093Z"
    },
    "slideshow": {
     "slide_type": "fragment"
    }
   },
   "outputs": [],
   "source": [
    "# ignore\n",
    "from typing import Set, List, Tuple, Any, Callable, Dict, Optional\n",
    "from typing import Union, Type, Generator, cast"
   ]
  },
  {
   "attachments": {},
   "cell_type": "markdown",
   "metadata": {
    "slideshow": {
     "slide_type": "skip"
    }
   },
   "source": [
    "## Synopsis\n",
    "<!-- Automatically generated. Do not edit. -->\n",
    "\n",
    "To [use the code provided in this chapter](Importing.ipynb), write\n",
    "\n",
    "```python\n",
    ">>> from debuggingbook.Slicer import <identifier>\n",
    "```\n",
    "\n",
    "and then make use of the following features.\n",
    "\n",
    "\n",
    "This chapter provides a `Slicer` class to automatically determine and visualize dynamic flows and dependencies. When we say that a variable $x$ _depends_ on a variable $y$ (and that $y$ _flows_ into $x$), we distinguish two kinds of dependencies:\n",
    "\n",
    "* **Data dependency**: $x$ is assigned a value computed from $y$.\n",
    "* **Control dependency**: A statement involving $x$ is executed _only_ because a _condition_ involving $y$ was evaluated, influencing the execution path.\n",
    "\n",
    "Such dependencies are crucial for debugging, as they allow to determine the origins of individual values (and notably incorrect values). \n",
    "\n",
    "To determine dynamic dependencies in a function `func`, use\n",
    "\n",
    "```python\n",
    "with Slicer() as slicer:\n",
    "    <Some call to func()>\n",
    "```\n",
    "\n",
    "and then `slicer.graph()` or `slicer.code()` to examine dependencies.\n",
    "\n",
    "You can also explicitly specify the functions to be instrumented, as in \n",
    "\n",
    "```python\n",
    "with Slicer(func, func_1, func_2) as slicer:\n",
    "    <Some call to func()>\n",
    "```\n",
    "\n",
    "Here is an example. The `demo()` function computes some number from `x`:\n",
    "\n",
    "```python\n",
    ">>> def demo(x: int) -> int:\n",
    ">>>     z = x\n",
    ">>>     while x <= z <= 64:\n",
    ">>>         z *= 2\n",
    ">>>     return z\n",
    "```\n",
    "By using `with Slicer()`, we first instrument `demo()` and then execute it:\n",
    "\n",
    "```python\n",
    ">>> with Slicer() as slicer:\n",
    ">>>     demo(10)\n",
    "```\n",
    "After execution is complete, you can output `slicer` to visualize the dependencies and flows as graph. Data dependencies are shown as black solid edges; control dependencies are shown as grey dashed edges. The arrows indicate influence: If $y$ depends on $x$ (and thus $x$ flows into $y$), then we have an arrow $x \\rightarrow y$.\n",
    "We see how the parameter `x` flows into `z`, which is returned after some computation that is control dependent on a `<test>` involving `z`.\n",
    "\n",
    "```python\n",
    ">>> slicer\n",
    "```\n",
    "![](PICS/Slicer-synopsis-1.svg)\n",
    "\n",
    "An alternate representation is `slicer.code()`, annotating the instrumented source code with (backward) dependencies. Data dependencies are shown with `<=`, control dependencies with `<-`; locations (lines) are shown in parentheses.\n",
    "\n",
    "```python\n",
    ">>> slicer.code()\n",
    "*    1 def demo(x: int) -> int:\n",
    "*    2     z = x  # <= x (1)\n",
    "*    3     while x <= z <= 64:  # <= x (1), z (2), z (4)\n",
    "*    4         z *= 2  # <= z (2), z (4); <- <test> (3)\n",
    "*    5     return z  # <= z (4)\n",
    "\n",
    "```\n",
    "Dependencies can also be retrieved programmatically. The `dependencies()` method returns a `Dependencies` object encapsulating the dependency graph.\n",
    "\n",
    "The method `all_vars()` returns all variables in the dependency graph. Each variable is encoded as a pair (_name_, _location_) where _location_ is a pair (_codename_, _lineno_).\n",
    "\n",
    "```python\n",
    ">>> slicer.dependencies().all_vars()\n",
    "{('<demo() return value>', (<function __main__.demo(x: int) -> int>, 5)),\n",
    " ('<test>', (<function __main__.demo(x: int) -> int>, 3)),\n",
    " ('x', (<function __main__.demo(x: int) -> int>, 1)),\n",
    " ('z', (<function __main__.demo(x: int) -> int>, 2)),\n",
    " ('z', (<function __main__.demo(x: int) -> int>, 4))}\n",
    "```\n",
    "`code()` and `graph()` methods can also be applied on dependencies. The method `backward_slice(var)` returns a backward slice for the given variable (again given as a pair (_name_, _location_)). To retrieve where `z` in Line 2 came from, use:\n",
    "\n",
    "```python\n",
    ">>> _, start_demo = inspect.getsourcelines(demo)\n",
    ">>> start_demo\n",
    "1\n",
    ">>> slicer.dependencies().backward_slice(('z', (demo, start_demo + 1))).graph()  # type: ignore\n",
    "```\n",
    "![](PICS/Slicer-synopsis-2.svg)\n",
    "\n",
    "Here are the classes defined in this chapter. A `Slicer` instruments a program, using a `DependencyTracker` at run time to collect `Dependencies`.\n",
    "\n",
    "![](PICS/Slicer-synopsis-3.svg)\n",
    "\n"
   ]
  },
  {
   "cell_type": "markdown",
   "metadata": {
    "button": false,
    "new_sheet": true,
    "run_control": {
     "read_only": false
    },
    "slideshow": {
     "slide_type": "slide"
    }
   },
   "source": [
    "## Dependencies\n",
    "\n",
    "In the [Introduction to debugging](Intro_Debugging.ipynb), we have seen how faults in a program state propagate to eventually become visible as failures. This induces a debugging strategy called _tracking origins_:"
   ]
  },
  {
   "cell_type": "markdown",
   "metadata": {
    "button": false,
    "new_sheet": true,
    "run_control": {
     "read_only": false
    },
    "slideshow": {
     "slide_type": "subslide"
    }
   },
   "source": [
    "1. We start with a single faulty state _f_ – the failure.\n",
    "2. We determine _f_'s _origins_ – the parts of earlier states that could have caused the faulty state _f_.\n",
    "3. For each of these origins _e_, we determine whether they are faulty or not.\n",
    "4. For each of the faulty origins, we in turn determine _their_ origins.\n",
    "5. If we find a part of the state that is faulty, yet has only correct origins, we have found the defect."
   ]
  },
  {
   "cell_type": "markdown",
   "metadata": {
    "button": false,
    "new_sheet": true,
    "run_control": {
     "read_only": false
    },
    "slideshow": {
     "slide_type": "subslide"
    }
   },
   "source": [
    "In all generality, a \"part of the state\" can be anything that can influence the program – some configuration setting, some database content, or the state of a device. Almost always, though, it is through _individual variables_ that a part of the state manifests itself.\n",
    "\n",
    "The good news is that variables do not take arbitrary values at arbitrary times – instead, they are set and accessed at precise moments in time, as determined by the program's semantics. This allows us to determine their _origins_ by reading program code."
   ]
  },
  {
   "cell_type": "markdown",
   "metadata": {
    "button": false,
    "new_sheet": true,
    "run_control": {
     "read_only": false
    },
    "slideshow": {
     "slide_type": "fragment"
    }
   },
   "source": [
    "Let us assume you have a piece of code that reads as follows. The `middle()` function is supposed to return the \"middle\" number of three values `x`, `y`, and `z` – that is, the one number that neither is the minimum nor the maximum."
   ]
  },
  {
   "cell_type": "code",
   "execution_count": 6,
   "metadata": {
    "execution": {
     "iopub.execute_input": "2023-01-07T16:02:43.517122Z",
     "iopub.status.busy": "2023-01-07T16:02:43.516740Z",
     "iopub.status.idle": "2023-01-07T16:02:43.517789Z",
     "shell.execute_reply": "2023-01-07T16:02:43.518189Z"
    },
    "slideshow": {
     "slide_type": "subslide"
    }
   },
   "outputs": [],
   "source": [
    "def middle(x, y, z):  # type: ignore\n",
    "    if y < z:\n",
    "        if x < y:\n",
    "            return y\n",
    "        elif x < z:\n",
    "            return y\n",
    "    else:\n",
    "        if x > y:\n",
    "            return y\n",
    "        elif x > z:\n",
    "            return x\n",
    "    return z"
   ]
  },
  {
   "cell_type": "markdown",
   "metadata": {
    "slideshow": {
     "slide_type": "fragment"
    }
   },
   "source": [
    "In most cases, `middle()` runs just fine:"
   ]
  },
  {
   "cell_type": "code",
   "execution_count": 7,
   "metadata": {
    "execution": {
     "iopub.execute_input": "2023-01-07T16:02:43.520464Z",
     "iopub.status.busy": "2023-01-07T16:02:43.520101Z",
     "iopub.status.idle": "2023-01-07T16:02:43.521846Z",
     "shell.execute_reply": "2023-01-07T16:02:43.522076Z"
    },
    "slideshow": {
     "slide_type": "subslide"
    }
   },
   "outputs": [
    {
     "data": {
      "text/plain": [
       "2"
      ]
     },
     "execution_count": 7,
     "metadata": {},
     "output_type": "execute_result"
    }
   ],
   "source": [
    "m = middle(1, 2, 3)\n",
    "m"
   ]
  },
  {
   "cell_type": "markdown",
   "metadata": {
    "slideshow": {
     "slide_type": "fragment"
    }
   },
   "source": [
    "In others, however, it returns the wrong value:"
   ]
  },
  {
   "cell_type": "code",
   "execution_count": 8,
   "metadata": {
    "execution": {
     "iopub.execute_input": "2023-01-07T16:02:43.524700Z",
     "iopub.status.busy": "2023-01-07T16:02:43.524307Z",
     "iopub.status.idle": "2023-01-07T16:02:43.526112Z",
     "shell.execute_reply": "2023-01-07T16:02:43.526503Z"
    },
    "slideshow": {
     "slide_type": "fragment"
    }
   },
   "outputs": [
    {
     "data": {
      "text/plain": [
       "1"
      ]
     },
     "execution_count": 8,
     "metadata": {},
     "output_type": "execute_result"
    }
   ],
   "source": [
    "m = middle(2, 1, 3)\n",
    "m"
   ]
  },
  {
   "cell_type": "markdown",
   "metadata": {
    "slideshow": {
     "slide_type": "subslide"
    }
   },
   "source": [
    "This is a typical debugging situation: You see a value that is erroneous; and you want to find out where it came from. \n",
    "\n",
    "* In our case, we see that the erroneous value was returned from `middle()`, so we identify the five `return` statements in `middle()` that the value could have come from.\n",
    "* The value returned is the value of `y`, and neither `x`, `y`, nor `z` are altered during the execution of `middle()`. Hence, it must be one of the three `return y` statements that is the origin of `m`. But which one?\n",
    "\n",
    "For our small example, we can fire up an interactive debugger and simply step through the function; this reveals us the conditions evaluated and the `return` statement executed."
   ]
  },
  {
   "cell_type": "code",
   "execution_count": 9,
   "metadata": {
    "execution": {
     "iopub.execute_input": "2023-01-07T16:02:43.529174Z",
     "iopub.status.busy": "2023-01-07T16:02:43.528692Z",
     "iopub.status.idle": "2023-01-07T16:02:43.654475Z",
     "shell.execute_reply": "2023-01-07T16:02:43.654752Z"
    },
    "slideshow": {
     "slide_type": "skip"
    }
   },
   "outputs": [],
   "source": [
    "import Debugger  # minor dependency"
   ]
  },
  {
   "cell_type": "code",
   "execution_count": 10,
   "metadata": {
    "execution": {
     "iopub.execute_input": "2023-01-07T16:02:43.658320Z",
     "iopub.status.busy": "2023-01-07T16:02:43.657892Z",
     "iopub.status.idle": "2023-01-07T16:02:43.659274Z",
     "shell.execute_reply": "2023-01-07T16:02:43.659526Z"
    },
    "slideshow": {
     "slide_type": "subslide"
    }
   },
   "outputs": [],
   "source": [
    "# ignore\n",
    "next_inputs([\"step\", \"step\", \"step\", \"step\", \"quit\"]);"
   ]
  },
  {
   "cell_type": "code",
   "execution_count": 11,
   "metadata": {
    "execution": {
     "iopub.execute_input": "2023-01-07T16:02:43.662758Z",
     "iopub.status.busy": "2023-01-07T16:02:43.662220Z",
     "iopub.status.idle": "2023-01-07T16:02:43.735053Z",
     "shell.execute_reply": "2023-01-07T16:02:43.735446Z"
    },
    "slideshow": {
     "slide_type": "subslide"
    }
   },
   "outputs": [
    {
     "name": "stdout",
     "output_type": "stream",
     "text": [
      "Calling middle(x = 2, y = 1, z = 3)\n"
     ]
    },
    {
     "data": {
      "text/html": [
       "<samp>(debugger) <b>step</b></samp>"
      ],
      "text/plain": [
       "<IPython.core.display.HTML object>"
      ]
     },
     "metadata": {},
     "output_type": "display_data"
    },
    {
     "name": "stdout",
     "output_type": "stream",
     "text": [
      "2     if y < z:\n"
     ]
    },
    {
     "data": {
      "text/html": [
       "<samp>(debugger) <b>step</b></samp>"
      ],
      "text/plain": [
       "<IPython.core.display.HTML object>"
      ]
     },
     "metadata": {},
     "output_type": "display_data"
    },
    {
     "name": "stdout",
     "output_type": "stream",
     "text": [
      "3         if x < y:\n"
     ]
    },
    {
     "data": {
      "text/html": [
       "<samp>(debugger) <b>step</b></samp>"
      ],
      "text/plain": [
       "<IPython.core.display.HTML object>"
      ]
     },
     "metadata": {},
     "output_type": "display_data"
    },
    {
     "name": "stdout",
     "output_type": "stream",
     "text": [
      "5         elif x < z:\n"
     ]
    },
    {
     "data": {
      "text/html": [
       "<samp>(debugger) <b>step</b></samp>"
      ],
      "text/plain": [
       "<IPython.core.display.HTML object>"
      ]
     },
     "metadata": {},
     "output_type": "display_data"
    },
    {
     "name": "stdout",
     "output_type": "stream",
     "text": [
      "6             return y\n"
     ]
    },
    {
     "data": {
      "text/html": [
       "<samp>(debugger) <b>quit</b></samp>"
      ],
      "text/plain": [
       "<IPython.core.display.HTML object>"
      ]
     },
     "metadata": {},
     "output_type": "display_data"
    }
   ],
   "source": [
    "with Debugger.Debugger():\n",
    "    middle(2, 1, 3)"
   ]
  },
  {
   "cell_type": "markdown",
   "metadata": {
    "slideshow": {
     "slide_type": "subslide"
    }
   },
   "source": [
    "We now see that it was the second `return` statement that returned the incorrect value. But why was it executed after all? To this end, we can resort to the `middle()` source code and have a look at those conditions that caused the `return y` statement to be executed. Indeed, the conditions `y < z`, `x > y`, and finally `x < z` again are _origins_ of the returned value – and in turn have `x`, `y`, and `z` as origins."
   ]
  },
  {
   "cell_type": "markdown",
   "metadata": {
    "slideshow": {
     "slide_type": "subslide"
    }
   },
   "source": [
    "In our above reasoning about origins, we have encountered two kinds of origins:\n",
    "\n",
    "* earlier _data values_ (such as the value of `y` being returned) and\n",
    "* earlier _control conditions_ (such as the `if` conditions governing the `return y` statement).\n",
    "\n",
    "The later parts of the state that can be influenced by such origins are said to be _dependent_ on these origins. Speaking of variables, a variable $x$ _depends_ on the value of a variable $y$ (written as $x \\leftarrow y$) if a change in $y$ could affect the value of $x$."
   ]
  },
  {
   "cell_type": "markdown",
   "metadata": {
    "slideshow": {
     "slide_type": "subslide"
    }
   },
   "source": [
    "We distinguish two kinds of dependencies $x \\leftarrow y$, aligned with the two kinds of origins as outlined above:\n",
    "\n",
    "* **Data dependency**: $x$ is assigned a value computed from $y$. In our example, `m` is data dependent on the return value of `middle()`.\n",
    "* **Control dependency**: A statement involving $x$ is executed _only_ because a _condition_ involving $y$ was evaluated, influencing the execution path. In our example, the value returned by `return y` is control dependent on the several conditions along its path, which involve `x`, `y`, and `z`."
   ]
  },
  {
   "cell_type": "markdown",
   "metadata": {
    "slideshow": {
     "slide_type": "fragment"
    }
   },
   "source": [
    "Let us examine these dependencies in more detail."
   ]
  },
  {
   "cell_type": "markdown",
   "metadata": {
    "slideshow": {
     "slide_type": "subslide"
    }
   },
   "source": [
    "### Excursion: Visualizing Dependencies"
   ]
  },
  {
   "cell_type": "markdown",
   "metadata": {
    "slideshow": {
     "slide_type": "fragment"
    }
   },
   "source": [
    "Note: This is an excursion, diverting away from the main flow of the chapter. Unless you know what you are doing, you are encouraged to skip this part."
   ]
  },
  {
   "cell_type": "markdown",
   "metadata": {
    "slideshow": {
     "slide_type": "fragment"
    }
   },
   "source": [
    "To illustrate our examples, we introduce a `Dependencies` class that captures dependencies between variables at specific locations."
   ]
  },
  {
   "cell_type": "markdown",
   "metadata": {
    "slideshow": {
     "slide_type": "subslide"
    }
   },
   "source": [
    "#### A Class for Dependencies"
   ]
  },
  {
   "cell_type": "markdown",
   "metadata": {
    "slideshow": {
     "slide_type": "fragment"
    }
   },
   "source": [
    "`Dependencies` holds two dependency graphs. `data` holds data dependencies, `control` holds control dependencies."
   ]
  },
  {
   "cell_type": "markdown",
   "metadata": {
    "slideshow": {
     "slide_type": "subslide"
    }
   },
   "source": [
    "Each of the two is organized as a dictionary holding _nodes_ as keys and sets of nodes as values. Each node comes as a tuple\n",
    "\n",
    "```python\n",
    "(variable_name, location)\n",
    " ```\n",
    " \n",
    "where `variable_name` is a string and `location` is a pair\n",
    "\n",
    "\n",
    "```python\n",
    "(func, lineno)\n",
    " ```\n",
    " \n",
    "denoting a unique location in the code."
   ]
  },
  {
   "cell_type": "markdown",
   "metadata": {
    "slideshow": {
     "slide_type": "subslide"
    }
   },
   "source": [
    "This is also reflected in the following type definitions:"
   ]
  },
  {
   "cell_type": "code",
   "execution_count": 12,
   "metadata": {
    "execution": {
     "iopub.execute_input": "2023-01-07T16:02:43.738078Z",
     "iopub.status.busy": "2023-01-07T16:02:43.737759Z",
     "iopub.status.idle": "2023-01-07T16:02:43.739035Z",
     "shell.execute_reply": "2023-01-07T16:02:43.739236Z"
    },
    "slideshow": {
     "slide_type": "fragment"
    }
   },
   "outputs": [],
   "source": [
    "Location = Tuple[Callable, int]\n",
    "Node = Tuple[str, Location]\n",
    "Dependency = Dict[Node, Set[Node]]"
   ]
  },
  {
   "cell_type": "markdown",
   "metadata": {
    "slideshow": {
     "slide_type": "fragment"
    }
   },
   "source": [
    "In this chapter, for many purposes, we need to lookup a function's location, source code, or simply definition. The class `StackInspector` provides a number of convenience functions for this purpose."
   ]
  },
  {
   "cell_type": "code",
   "execution_count": 13,
   "metadata": {
    "execution": {
     "iopub.execute_input": "2023-01-07T16:02:43.741663Z",
     "iopub.status.busy": "2023-01-07T16:02:43.741355Z",
     "iopub.status.idle": "2023-01-07T16:02:43.742962Z",
     "shell.execute_reply": "2023-01-07T16:02:43.743260Z"
    },
    "slideshow": {
     "slide_type": "skip"
    }
   },
   "outputs": [],
   "source": [
    "from StackInspector import StackInspector"
   ]
  },
  {
   "cell_type": "markdown",
   "metadata": {
    "slideshow": {
     "slide_type": "fragment"
    }
   },
   "source": [
    "The `Dependencies` class builds on `StackInspector` to capture dependencies."
   ]
  },
  {
   "cell_type": "code",
   "execution_count": 14,
   "metadata": {
    "execution": {
     "iopub.execute_input": "2023-01-07T16:02:43.746656Z",
     "iopub.status.busy": "2023-01-07T16:02:43.746287Z",
     "iopub.status.idle": "2023-01-07T16:02:43.747331Z",
     "shell.execute_reply": "2023-01-07T16:02:43.747536Z"
    },
    "slideshow": {
     "slide_type": "subslide"
    }
   },
   "outputs": [],
   "source": [
    "class Dependencies(StackInspector):\n",
    "    \"\"\"A dependency graph\"\"\"\n",
    "\n",
    "    def __init__(self, \n",
    "                 data: Optional[Dependency] = None,\n",
    "                 control: Optional[Dependency] = None) -> None:\n",
    "        \"\"\"\n",
    "        Create a dependency graph from `data` and `control`.\n",
    "        Both `data` and `control` are dictionaries\n",
    "        holding _nodes_ as keys and sets of nodes as values.\n",
    "        Each node comes as a tuple (variable_name, location)\n",
    "        where `variable_name` is a string \n",
    "        and `location` is a pair (function, lineno)\n",
    "        where `function` is a callable and `lineno` is a line number\n",
    "        denoting a unique location in the code.\n",
    "        \"\"\"\n",
    "\n",
    "        if data is None:\n",
    "            data = {}\n",
    "        if control is None:\n",
    "            control = {}\n",
    "\n",
    "        self.data = data\n",
    "        self.control = control\n",
    "\n",
    "        for var in self.data:\n",
    "            self.control.setdefault(var, set())\n",
    "        for var in self.control:\n",
    "            self.data.setdefault(var, set())\n",
    "\n",
    "        self.validate()"
   ]
  },
  {
   "cell_type": "markdown",
   "metadata": {
    "slideshow": {
     "slide_type": "subslide"
    }
   },
   "source": [
    "The `validate()` method checks for consistency."
   ]
  },
  {
   "cell_type": "code",
   "execution_count": 15,
   "metadata": {
    "execution": {
     "iopub.execute_input": "2023-01-07T16:02:43.750354Z",
     "iopub.status.busy": "2023-01-07T16:02:43.750028Z",
     "iopub.status.idle": "2023-01-07T16:02:43.751064Z",
     "shell.execute_reply": "2023-01-07T16:02:43.751396Z"
    },
    "slideshow": {
     "slide_type": "fragment"
    }
   },
   "outputs": [],
   "source": [
    "class Dependencies(Dependencies):\n",
    "    def validate(self) -> None:\n",
    "        \"\"\"Check dependency structure.\"\"\"\n",
    "        assert isinstance(self.data, dict)\n",
    "        assert isinstance(self.control, dict)\n",
    "\n",
    "        for node in (self.data.keys()) | set(self.control.keys()):\n",
    "            var_name, location = node\n",
    "            assert isinstance(var_name, str)\n",
    "            func, lineno = location\n",
    "            assert callable(func)\n",
    "            assert isinstance(lineno, int)"
   ]
  },
  {
   "cell_type": "markdown",
   "metadata": {
    "slideshow": {
     "slide_type": "fragment"
    }
   },
   "source": [
    "The `source()` method returns the source code for a given node."
   ]
  },
  {
   "cell_type": "code",
   "execution_count": 16,
   "metadata": {
    "execution": {
     "iopub.execute_input": "2023-01-07T16:02:43.754664Z",
     "iopub.status.busy": "2023-01-07T16:02:43.754324Z",
     "iopub.status.idle": "2023-01-07T16:02:43.755338Z",
     "shell.execute_reply": "2023-01-07T16:02:43.755582Z"
    },
    "ipub": {
     "ignore": true
    },
    "slideshow": {
     "slide_type": "subslide"
    }
   },
   "outputs": [],
   "source": [
    "class Dependencies(Dependencies):\n",
    "    def _source(self, node: Node) -> str:\n",
    "        # Return source line, or ''\n",
    "        (name, location) = node\n",
    "        func, lineno = location\n",
    "        if not func:  # type: ignore\n",
    "            # No source\n",
    "            return ''\n",
    "\n",
    "        try:\n",
    "            source_lines, first_lineno = inspect.getsourcelines(func)\n",
    "        except OSError:\n",
    "            warnings.warn(f\"Couldn't find source \"\n",
    "                          f\"for {func} ({func.__name__})\")\n",
    "            return ''\n",
    "\n",
    "        try:\n",
    "            line = source_lines[lineno - first_lineno].strip()\n",
    "        except IndexError:\n",
    "            return ''\n",
    "\n",
    "        return line\n",
    "\n",
    "    def source(self, node: Node) -> str:\n",
    "        \"\"\"Return the source code for a given node.\"\"\"\n",
    "        line = self._source(node)\n",
    "        if line:\n",
    "            return line\n",
    "\n",
    "        (name, location) = node\n",
    "        func, lineno = location\n",
    "        code_name = func.__name__\n",
    "\n",
    "        if code_name.startswith('<'):\n",
    "            return code_name\n",
    "        else:\n",
    "            return f'<{code_name}()>'"
   ]
  },
  {
   "cell_type": "code",
   "execution_count": 17,
   "metadata": {
    "execution": {
     "iopub.execute_input": "2023-01-07T16:02:43.757551Z",
     "iopub.status.busy": "2023-01-07T16:02:43.757146Z",
     "iopub.status.idle": "2023-01-07T16:02:43.759555Z",
     "shell.execute_reply": "2023-01-07T16:02:43.759799Z"
    },
    "slideshow": {
     "slide_type": "subslide"
    }
   },
   "outputs": [
    {
     "data": {
      "text/plain": [
       "'def middle(x, y, z):  # type: ignore'"
      ]
     },
     "execution_count": 17,
     "metadata": {},
     "output_type": "execute_result"
    }
   ],
   "source": [
    "test_deps = Dependencies()\n",
    "test_deps.source(('z', (middle, 1)))"
   ]
  },
  {
   "cell_type": "markdown",
   "metadata": {
    "slideshow": {
     "slide_type": "subslide"
    }
   },
   "source": [
    "#### Drawing Dependencies"
   ]
  },
  {
   "cell_type": "markdown",
   "metadata": {
    "slideshow": {
     "slide_type": "fragment"
    }
   },
   "source": [
    "Both data and control form a graph between nodes, and can be visualized as such. We use the `graphviz` package for creating such visualizations."
   ]
  },
  {
   "cell_type": "code",
   "execution_count": 18,
   "metadata": {
    "execution": {
     "iopub.execute_input": "2023-01-07T16:02:43.762028Z",
     "iopub.status.busy": "2023-01-07T16:02:43.761717Z",
     "iopub.status.idle": "2023-01-07T16:02:43.762907Z",
     "shell.execute_reply": "2023-01-07T16:02:43.763157Z"
    },
    "ipub": {
     "ignore": true
    },
    "slideshow": {
     "slide_type": "skip"
    }
   },
   "outputs": [],
   "source": [
    "from graphviz import Digraph"
   ]
  },
  {
   "cell_type": "markdown",
   "metadata": {
    "slideshow": {
     "slide_type": "fragment"
    }
   },
   "source": [
    "`make_graph()` sets the basic graph attributes."
   ]
  },
  {
   "cell_type": "code",
   "execution_count": 19,
   "metadata": {
    "execution": {
     "iopub.execute_input": "2023-01-07T16:02:43.765021Z",
     "iopub.status.busy": "2023-01-07T16:02:43.764727Z",
     "iopub.status.idle": "2023-01-07T16:02:43.765939Z",
     "shell.execute_reply": "2023-01-07T16:02:43.766191Z"
    },
    "slideshow": {
     "slide_type": "skip"
    }
   },
   "outputs": [],
   "source": [
    "import html"
   ]
  },
  {
   "cell_type": "code",
   "execution_count": 20,
   "metadata": {
    "execution": {
     "iopub.execute_input": "2023-01-07T16:02:43.768382Z",
     "iopub.status.busy": "2023-01-07T16:02:43.767294Z",
     "iopub.status.idle": "2023-01-07T16:02:43.769715Z",
     "shell.execute_reply": "2023-01-07T16:02:43.770075Z"
    },
    "slideshow": {
     "slide_type": "subslide"
    }
   },
   "outputs": [],
   "source": [
    "class Dependencies(Dependencies):\n",
    "    NODE_COLOR = 'peachpuff'\n",
    "    FONT_NAME = 'Courier'  # 'Fira Mono' may produce warnings in 'dot'\n",
    "\n",
    "    def make_graph(self,\n",
    "                   name: str = \"dependencies\",\n",
    "                   comment: str = \"Dependencies\") -> Digraph:\n",
    "        return Digraph(name=name, comment=comment,\n",
    "            graph_attr={\n",
    "            },\n",
    "            node_attr={\n",
    "                'style': 'filled',\n",
    "                'shape': 'box',\n",
    "                'fillcolor': self.NODE_COLOR,\n",
    "                'fontname': self.FONT_NAME\n",
    "            },\n",
    "            edge_attr={\n",
    "                'fontname': self.FONT_NAME\n",
    "            })"
   ]
  },
  {
   "cell_type": "markdown",
   "metadata": {
    "slideshow": {
     "slide_type": "subslide"
    }
   },
   "source": [
    "`graph()` returns a graph visualization."
   ]
  },
  {
   "cell_type": "code",
   "execution_count": 21,
   "metadata": {
    "execution": {
     "iopub.execute_input": "2023-01-07T16:02:43.772776Z",
     "iopub.status.busy": "2023-01-07T16:02:43.772472Z",
     "iopub.status.idle": "2023-01-07T16:02:43.773662Z",
     "shell.execute_reply": "2023-01-07T16:02:43.773895Z"
    },
    "slideshow": {
     "slide_type": "subslide"
    }
   },
   "outputs": [],
   "source": [
    "class Dependencies(Dependencies):\n",
    "    def graph(self, *, mode: str = 'flow') -> Digraph:\n",
    "        \"\"\"\n",
    "        Draw dependencies. `mode` is either\n",
    "        * `'flow'`: arrows indicate information flow (from A to B); or\n",
    "        * `'depend'`: arrows indicate dependencies (B depends on A)\n",
    "        \"\"\"\n",
    "        self.validate()\n",
    "\n",
    "        g = self.make_graph()\n",
    "        self.draw_dependencies(g, mode)\n",
    "        self.add_hierarchy(g)\n",
    "        return g\n",
    "\n",
    "    def _repr_mimebundle_(self, include: Any = None, exclude: Any = None) -> Any:\n",
    "        \"\"\"If the object is output in Jupyter, render dependencies as a SVG graph\"\"\"\n",
    "        return self.graph()._repr_mimebundle_(include, exclude)"
   ]
  },
  {
   "cell_type": "markdown",
   "metadata": {
    "slideshow": {
     "slide_type": "subslide"
    }
   },
   "source": [
    "The main part of graph drawing takes place in two methods, `draw_dependencies()` and `add_hierarchy()`."
   ]
  },
  {
   "cell_type": "markdown",
   "metadata": {
    "slideshow": {
     "slide_type": "fragment"
    }
   },
   "source": [
    "`draw_dependencies()` processes through the graph, adding nodes and edges from the dependencies."
   ]
  },
  {
   "cell_type": "code",
   "execution_count": 22,
   "metadata": {
    "execution": {
     "iopub.execute_input": "2023-01-07T16:02:43.777555Z",
     "iopub.status.busy": "2023-01-07T16:02:43.776957Z",
     "iopub.status.idle": "2023-01-07T16:02:43.778546Z",
     "shell.execute_reply": "2023-01-07T16:02:43.779106Z"
    },
    "slideshow": {
     "slide_type": "subslide"
    }
   },
   "outputs": [],
   "source": [
    "class Dependencies(Dependencies):\n",
    "    def all_vars(self) -> Set[Node]:\n",
    "        \"\"\"Return a set of all variables (as `var_name`, `location`) in the dependencies\"\"\"\n",
    "        all_vars = set()\n",
    "        for var in self.data:\n",
    "            all_vars.add(var)\n",
    "            for source in self.data[var]:\n",
    "                all_vars.add(source)\n",
    "\n",
    "        for var in self.control:\n",
    "            all_vars.add(var)\n",
    "            for source in self.control[var]:\n",
    "                all_vars.add(source)\n",
    "\n",
    "        return all_vars"
   ]
  },
  {
   "cell_type": "code",
   "execution_count": 23,
   "metadata": {
    "execution": {
     "iopub.execute_input": "2023-01-07T16:02:43.782933Z",
     "iopub.status.busy": "2023-01-07T16:02:43.782587Z",
     "iopub.status.idle": "2023-01-07T16:02:43.783924Z",
     "shell.execute_reply": "2023-01-07T16:02:43.784177Z"
    },
    "slideshow": {
     "slide_type": "subslide"
    }
   },
   "outputs": [],
   "source": [
    "class Dependencies(Dependencies):\n",
    "    def draw_edge(self, g: Digraph, mode: str,\n",
    "                  node_from: str, node_to: str, **kwargs: Any) -> None:\n",
    "        if mode == 'flow':\n",
    "            g.edge(node_from, node_to, **kwargs)\n",
    "        elif mode == 'depend':\n",
    "            g.edge(node_from, node_to, dir=\"back\", **kwargs)\n",
    "        else:\n",
    "            raise ValueError(\"`mode` must be 'flow' or 'depend'\")\n",
    "\n",
    "    def draw_dependencies(self, g: Digraph, mode: str) -> None:\n",
    "        for var in self.all_vars():\n",
    "            g.node(self.id(var),\n",
    "                   label=self.label(var),\n",
    "                   tooltip=self.tooltip(var))\n",
    "\n",
    "            if var in self.data:\n",
    "                for source in self.data[var]:\n",
    "                    self.draw_edge(g, mode, self.id(source), self.id(var))\n",
    "\n",
    "            if var in self.control:\n",
    "                for source in self.control[var]:\n",
    "                    self.draw_edge(g, mode, self.id(source), self.id(var),\n",
    "                                   style='dashed', color='grey')"
   ]
  },
  {
   "cell_type": "markdown",
   "metadata": {
    "slideshow": {
     "slide_type": "subslide"
    }
   },
   "source": [
    "`draw_dependencies()` makes use of a few helper functions."
   ]
  },
  {
   "cell_type": "code",
   "execution_count": 24,
   "metadata": {
    "execution": {
     "iopub.execute_input": "2023-01-07T16:02:43.787896Z",
     "iopub.status.busy": "2023-01-07T16:02:43.787514Z",
     "iopub.status.idle": "2023-01-07T16:02:43.788851Z",
     "shell.execute_reply": "2023-01-07T16:02:43.789106Z"
    },
    "slideshow": {
     "slide_type": "subslide"
    }
   },
   "outputs": [],
   "source": [
    "class Dependencies(Dependencies):\n",
    "    def id(self, var: Node) -> str:\n",
    "        \"\"\"Return a unique ID for `var`.\"\"\"\n",
    "        id = \"\"\n",
    "        # Avoid non-identifier characters\n",
    "        for c in repr(var):\n",
    "            if c.isalnum() or c == '_':\n",
    "                id += c\n",
    "            if c == ':' or c == ',':\n",
    "                id += '_'\n",
    "        return id\n",
    "\n",
    "    def label(self, var: Node) -> str:\n",
    "        \"\"\"Render node `var` using HTML style.\"\"\"\n",
    "        (name, location) = var\n",
    "        source = self.source(var)\n",
    "\n",
    "        title = html.escape(name)\n",
    "        if name.startswith('<'):\n",
    "            title = f'<I>{title}</I>'\n",
    "\n",
    "        label = f'<B>{title}</B>'\n",
    "        if source:\n",
    "            label += (f'<FONT POINT-SIZE=\"9.0\"><BR/><BR/>'\n",
    "                      f'{html.escape(source)}'\n",
    "                      f'</FONT>')\n",
    "        label = f'<{label}>'\n",
    "        return label\n",
    "\n",
    "    def tooltip(self, var: Node) -> str:\n",
    "        \"\"\"Return a tooltip for node `var`.\"\"\"\n",
    "        (name, location) = var\n",
    "        func, lineno = location\n",
    "        return f\"{func.__name__}:{lineno}\""
   ]
  },
  {
   "cell_type": "markdown",
   "metadata": {
    "slideshow": {
     "slide_type": "subslide"
    }
   },
   "source": [
    "In the second part of graph drawing, `add_hierarchy()` adds invisible edges to ensure that nodes with lower line numbers are drawn above nodes with higher line numbers."
   ]
  },
  {
   "cell_type": "code",
   "execution_count": 25,
   "metadata": {
    "execution": {
     "iopub.execute_input": "2023-01-07T16:02:43.792238Z",
     "iopub.status.busy": "2023-01-07T16:02:43.791814Z",
     "iopub.status.idle": "2023-01-07T16:02:43.793260Z",
     "shell.execute_reply": "2023-01-07T16:02:43.793643Z"
    },
    "slideshow": {
     "slide_type": "subslide"
    }
   },
   "outputs": [],
   "source": [
    "class Dependencies(Dependencies):\n",
    "    def add_hierarchy(self, g: Digraph) -> Digraph:\n",
    "        \"\"\"Add invisible edges for a proper hierarchy.\"\"\"\n",
    "        functions = self.all_functions()\n",
    "        for func in functions:\n",
    "            last_var = None\n",
    "            last_lineno = 0\n",
    "            for (lineno, var) in functions[func]:\n",
    "                if last_var is not None and lineno > last_lineno:\n",
    "                    g.edge(self.id(last_var),\n",
    "                           self.id(var),\n",
    "                           style='invis')\n",
    "\n",
    "                last_var = var\n",
    "                last_lineno = lineno\n",
    "\n",
    "        return g"
   ]
  },
  {
   "cell_type": "code",
   "execution_count": 26,
   "metadata": {
    "execution": {
     "iopub.execute_input": "2023-01-07T16:02:43.796930Z",
     "iopub.status.busy": "2023-01-07T16:02:43.796599Z",
     "iopub.status.idle": "2023-01-07T16:02:43.798325Z",
     "shell.execute_reply": "2023-01-07T16:02:43.798674Z"
    },
    "slideshow": {
     "slide_type": "subslide"
    }
   },
   "outputs": [],
   "source": [
    "class Dependencies(Dependencies):\n",
    "    def all_functions(self) -> Dict[Callable, List[Tuple[int, Node]]]:\n",
    "        \"\"\"\n",
    "        Return mapping \n",
    "        {`function`: [(`lineno`, `var`), (`lineno`, `var`), ...], ...}\n",
    "        for all functions in the dependencies.\n",
    "        \"\"\"\n",
    "        functions: Dict[Callable, List[Tuple[int, Node]]] = {}\n",
    "        for var in self.all_vars():\n",
    "            (name, location) = var\n",
    "            func, lineno = location\n",
    "            if func not in functions:\n",
    "                functions[func] = []\n",
    "            functions[func].append((lineno, var))\n",
    "\n",
    "        for func in functions:\n",
    "            functions[func].sort()\n",
    "\n",
    "        return functions"
   ]
  },
  {
   "cell_type": "markdown",
   "metadata": {
    "slideshow": {
     "slide_type": "subslide"
    }
   },
   "source": [
    "Here comes the graph in all its glory:"
   ]
  },
  {
   "cell_type": "code",
   "execution_count": 27,
   "metadata": {
    "execution": {
     "iopub.execute_input": "2023-01-07T16:02:43.802828Z",
     "iopub.status.busy": "2023-01-07T16:02:43.802514Z",
     "iopub.status.idle": "2023-01-07T16:02:43.803940Z",
     "shell.execute_reply": "2023-01-07T16:02:43.804135Z"
    },
    "slideshow": {
     "slide_type": "fragment"
    }
   },
   "outputs": [],
   "source": [
    "def middle_deps() -> Dependencies:\n",
    "    return Dependencies({('z', (middle, 1)): set(), ('y', (middle, 1)): set(), ('x', (middle, 1)): set(), ('<test>', (middle, 2)): {('y', (middle, 1)), ('z', (middle, 1))}, ('<test>', (middle, 3)): {('y', (middle, 1)), ('x', (middle, 1))}, ('<test>', (middle, 5)): {('z', (middle, 1)), ('x', (middle, 1))}, ('<middle() return value>', (middle, 6)): {('y', (middle, 1))}}, {('z', (middle, 1)): set(), ('y', (middle, 1)): set(), ('x', (middle, 1)): set(), ('<test>', (middle, 2)): set(), ('<test>', (middle, 3)): {('<test>', (middle, 2))}, ('<test>', (middle, 5)): {('<test>', (middle, 3))}, ('<middle() return value>', (middle, 6)): {('<test>', (middle, 5))}})"
   ]
  },
  {
   "cell_type": "code",
   "execution_count": 28,
   "metadata": {
    "execution": {
     "iopub.execute_input": "2023-01-07T16:02:43.810669Z",
     "iopub.status.busy": "2023-01-07T16:02:43.810297Z",
     "iopub.status.idle": "2023-01-07T16:02:44.179826Z",
     "shell.execute_reply": "2023-01-07T16:02:44.180041Z"
    },
    "slideshow": {
     "slide_type": "fragment"
    }
   },
   "outputs": [
    {
     "data": {
      "image/svg+xml": [
       "<?xml version=\"1.0\" encoding=\"UTF-8\" standalone=\"no\"?>\n",
       "<!DOCTYPE svg PUBLIC \"-//W3C//DTD SVG 1.1//EN\"\n",
       " \"http://www.w3.org/Graphics/SVG/1.1/DTD/svg11.dtd\">\n",
       "<!-- Generated by graphviz version 7.0.2 (20221119.0110)\n",
       " -->\n",
       "<!-- Title: dependencies Pages: 1 -->\n",
       "<svg width=\"464pt\" height=\"352pt\"\n",
       " viewBox=\"0.00 0.00 464.16 352.00\" xmlns=\"http://www.w3.org/2000/svg\" xmlns:xlink=\"http://www.w3.org/1999/xlink\">\n",
       "<g id=\"graph0\" class=\"graph\" transform=\"scale(1 1) rotate(0) translate(4 348)\">\n",
       "<title>dependencies</title>\n",
       "<polygon fill=\"white\" stroke=\"none\" points=\"-4,4 -4,-348 460.16,-348 460.16,4 -4,4\"/>\n",
       "<!-- y_functionmiddleat0x107aa6200_1 -->\n",
       "<g id=\"node1\" class=\"node\">\n",
       "<title>y_functionmiddleat0x107aa6200_1</title>\n",
       "<g id=\"a_node1\"><a xlink:title=\"middle:1\">\n",
       "<polygon fill=\"peachpuff\" stroke=\"black\" points=\"456.16,-344 250.16,-344 250.16,-304 456.16,-304 456.16,-344\"/>\n",
       "<text text-anchor=\"start\" x=\"348.66\" y=\"-329.8\" font-family=\"Courier,monospace\" font-weight=\"bold\" font-size=\"14.00\">y</text>\n",
       "<text text-anchor=\"start\" x=\"258.16\" y=\"-310.8\" font-family=\"Courier,monospace\" font-size=\"9.00\">def middle(x, y, z): &#160;# type: ignore</text>\n",
       "</a>\n",
       "</g>\n",
       "</g>\n",
       "<!-- middlereturnvalue_functionmiddleat0x107aa6200_6 -->\n",
       "<g id=\"node2\" class=\"node\">\n",
       "<title>middlereturnvalue_functionmiddleat0x107aa6200_6</title>\n",
       "<g id=\"a_node2\"><a xlink:title=\"middle:6\">\n",
       "<polygon fill=\"peachpuff\" stroke=\"black\" points=\"376.16,-40 170.16,-40 170.16,0 376.16,0 376.16,-40\"/>\n",
       "<text text-anchor=\"start\" x=\"178.16\" y=\"-25.8\" font-family=\"Courier,monospace\" font-weight=\"bold\" font-style=\"italic\" font-size=\"14.00\">&lt;middle() return value&gt;</text>\n",
       "<text text-anchor=\"start\" x=\"251.66\" y=\"-6.8\" font-family=\"Courier,monospace\" font-size=\"9.00\">return y</text>\n",
       "</a>\n",
       "</g>\n",
       "</g>\n",
       "<!-- y_functionmiddleat0x107aa6200_1&#45;&gt;middlereturnvalue_functionmiddleat0x107aa6200_6 -->\n",
       "<g id=\"edge1\" class=\"edge\">\n",
       "<title>y_functionmiddleat0x107aa6200_1&#45;&gt;middlereturnvalue_functionmiddleat0x107aa6200_6</title>\n",
       "<path fill=\"none\" stroke=\"black\" d=\"M354.03,-303.76C355.23,-260.86 354.1,-154.97 319.16,-76 314.83,-66.22 308.22,-56.81 301.36,-48.62\"/>\n",
       "<polygon fill=\"black\" stroke=\"black\" points=\"304.17,-46.52 294.91,-41.39 298.95,-51.18 304.17,-46.52\"/>\n",
       "</g>\n",
       "<!-- test_functionmiddleat0x107aa6200_3 -->\n",
       "<g id=\"node6\" class=\"node\">\n",
       "<title>test_functionmiddleat0x107aa6200_3</title>\n",
       "<g id=\"a_node6\"><a xlink:title=\"middle:3\">\n",
       "<polygon fill=\"peachpuff\" stroke=\"black\" points=\"306.16,-192 240.16,-192 240.16,-152 306.16,-152 306.16,-192\"/>\n",
       "<text text-anchor=\"start\" x=\"248.16\" y=\"-177.8\" font-family=\"Courier,monospace\" font-weight=\"bold\" font-style=\"italic\" font-size=\"14.00\">&lt;test&gt;</text>\n",
       "<text text-anchor=\"start\" x=\"249.16\" y=\"-158.8\" font-family=\"Courier,monospace\" font-size=\"9.00\">if x &lt; y:</text>\n",
       "</a>\n",
       "</g>\n",
       "</g>\n",
       "<!-- y_functionmiddleat0x107aa6200_1&#45;&gt;test_functionmiddleat0x107aa6200_3 -->\n",
       "<g id=\"edge6\" class=\"edge\">\n",
       "<title>y_functionmiddleat0x107aa6200_1&#45;&gt;test_functionmiddleat0x107aa6200_3</title>\n",
       "<path fill=\"none\" stroke=\"black\" d=\"M347.17,-303.74C340.67,-284.03 329.28,-252.87 315.16,-228 309.98,-218.89 303.46,-209.61 297.11,-201.32\"/>\n",
       "<polygon fill=\"black\" stroke=\"black\" points=\"299.99,-199.31 291.04,-193.65 294.5,-203.66 299.99,-199.31\"/>\n",
       "</g>\n",
       "<!-- test_functionmiddleat0x107aa6200_2 -->\n",
       "<g id=\"node7\" class=\"node\">\n",
       "<title>test_functionmiddleat0x107aa6200_2</title>\n",
       "<g id=\"a_node7\"><a xlink:title=\"middle:2\">\n",
       "<polygon fill=\"peachpuff\" stroke=\"black\" points=\"306.16,-268 240.16,-268 240.16,-228 306.16,-228 306.16,-268\"/>\n",
       "<text text-anchor=\"start\" x=\"248.16\" y=\"-253.8\" font-family=\"Courier,monospace\" font-weight=\"bold\" font-style=\"italic\" font-size=\"14.00\">&lt;test&gt;</text>\n",
       "<text text-anchor=\"start\" x=\"249.16\" y=\"-234.8\" font-family=\"Courier,monospace\" font-size=\"9.00\">if y &lt; z:</text>\n",
       "</a>\n",
       "</g>\n",
       "</g>\n",
       "<!-- y_functionmiddleat0x107aa6200_1&#45;&gt;test_functionmiddleat0x107aa6200_2 -->\n",
       "<g id=\"edge9\" class=\"edge\">\n",
       "<title>y_functionmiddleat0x107aa6200_1&#45;&gt;test_functionmiddleat0x107aa6200_2</title>\n",
       "<path fill=\"none\" stroke=\"black\" d=\"M332.14,-303.56C323.04,-295.14 312.24,-285.16 302.39,-276.04\"/>\n",
       "<polygon fill=\"black\" stroke=\"black\" points=\"304.86,-273.56 295.15,-269.34 300.11,-278.7 304.86,-273.56\"/>\n",
       "</g>\n",
       "<!-- test_functionmiddleat0x107aa6200_5 -->\n",
       "<g id=\"node3\" class=\"node\">\n",
       "<title>test_functionmiddleat0x107aa6200_5</title>\n",
       "<g id=\"a_node3\"><a xlink:title=\"middle:5\">\n",
       "<polygon fill=\"peachpuff\" stroke=\"black\" points=\"310.16,-116 236.16,-116 236.16,-76 310.16,-76 310.16,-116\"/>\n",
       "<text text-anchor=\"start\" x=\"248.16\" y=\"-101.8\" font-family=\"Courier,monospace\" font-weight=\"bold\" font-style=\"italic\" font-size=\"14.00\">&lt;test&gt;</text>\n",
       "<text text-anchor=\"start\" x=\"244.16\" y=\"-82.8\" font-family=\"Courier,monospace\" font-size=\"9.00\">elif x &lt; z:</text>\n",
       "</a>\n",
       "</g>\n",
       "</g>\n",
       "<!-- test_functionmiddleat0x107aa6200_5&#45;&gt;middlereturnvalue_functionmiddleat0x107aa6200_6 -->\n",
       "<g id=\"edge2\" class=\"edge\">\n",
       "<title>test_functionmiddleat0x107aa6200_5&#45;&gt;middlereturnvalue_functionmiddleat0x107aa6200_6</title>\n",
       "<path fill=\"none\" stroke=\"grey\" stroke-dasharray=\"5,2\" d=\"M267.13,-75.56C266.48,-68.25 266.27,-59.75 266.49,-51.67\"/>\n",
       "<polygon fill=\"grey\" stroke=\"grey\" points=\"269.98,-52.01 267.06,-41.82 262.99,-51.61 269.98,-52.01\"/>\n",
       "</g>\n",
       "<!-- test_functionmiddleat0x107aa6200_5&#45;&gt;middlereturnvalue_functionmiddleat0x107aa6200_6 -->\n",
       "<!-- z_functionmiddleat0x107aa6200_1 -->\n",
       "<g id=\"node4\" class=\"node\">\n",
       "<title>z_functionmiddleat0x107aa6200_1</title>\n",
       "<g id=\"a_node4\"><a xlink:title=\"middle:1\">\n",
       "<polygon fill=\"peachpuff\" stroke=\"black\" points=\"232.16,-344 26.16,-344 26.16,-304 232.16,-304 232.16,-344\"/>\n",
       "<text text-anchor=\"start\" x=\"124.66\" y=\"-329.8\" font-family=\"Courier,monospace\" font-weight=\"bold\" font-size=\"14.00\">z</text>\n",
       "<text text-anchor=\"start\" x=\"34.16\" y=\"-310.8\" font-family=\"Courier,monospace\" font-size=\"9.00\">def middle(x, y, z): &#160;# type: ignore</text>\n",
       "</a>\n",
       "</g>\n",
       "</g>\n",
       "<!-- z_functionmiddleat0x107aa6200_1&#45;&gt;test_functionmiddleat0x107aa6200_5 -->\n",
       "<g id=\"edge3\" class=\"edge\">\n",
       "<title>z_functionmiddleat0x107aa6200_1&#45;&gt;test_functionmiddleat0x107aa6200_5</title>\n",
       "<path fill=\"none\" stroke=\"black\" d=\"M51.33,-303.64C33.93,-295.53 17.56,-284.1 7.16,-268 -2.49,-253.07 -2.24,-243.09 7.16,-228 54.77,-151.47 161.7,-118.34 224.52,-105.05\"/>\n",
       "<polygon fill=\"black\" stroke=\"black\" points=\"225.12,-108.5 234.23,-103.09 223.74,-101.64 225.12,-108.5\"/>\n",
       "</g>\n",
       "<!-- z_functionmiddleat0x107aa6200_1&#45;&gt;test_functionmiddleat0x107aa6200_2 -->\n",
       "<g id=\"edge10\" class=\"edge\">\n",
       "<title>z_functionmiddleat0x107aa6200_1&#45;&gt;test_functionmiddleat0x107aa6200_2</title>\n",
       "<path fill=\"none\" stroke=\"black\" d=\"M160.97,-303.56C181.28,-292.61 207.77,-279.01 229.96,-268.12\"/>\n",
       "<polygon fill=\"black\" stroke=\"black\" points=\"231.31,-271.35 238.78,-263.83 228.25,-265.06 231.31,-271.35\"/>\n",
       "</g>\n",
       "<!-- z_functionmiddleat0x107aa6200_1&#45;&gt;test_functionmiddleat0x107aa6200_2 -->\n",
       "<!-- x_functionmiddleat0x107aa6200_1 -->\n",
       "<g id=\"node5\" class=\"node\">\n",
       "<title>x_functionmiddleat0x107aa6200_1</title>\n",
       "<g id=\"a_node5\"><a xlink:title=\"middle:1\">\n",
       "<polygon fill=\"peachpuff\" stroke=\"black\" points=\"222.16,-268 16.16,-268 16.16,-228 222.16,-228 222.16,-268\"/>\n",
       "<text text-anchor=\"start\" x=\"114.66\" y=\"-253.8\" font-family=\"Courier,monospace\" font-weight=\"bold\" font-size=\"14.00\">x</text>\n",
       "<text text-anchor=\"start\" x=\"24.16\" y=\"-234.8\" font-family=\"Courier,monospace\" font-size=\"9.00\">def middle(x, y, z): &#160;# type: ignore</text>\n",
       "</a>\n",
       "</g>\n",
       "</g>\n",
       "<!-- x_functionmiddleat0x107aa6200_1&#45;&gt;test_functionmiddleat0x107aa6200_5 -->\n",
       "<g id=\"edge4\" class=\"edge\">\n",
       "<title>x_functionmiddleat0x107aa6200_1&#45;&gt;test_functionmiddleat0x107aa6200_5</title>\n",
       "<path fill=\"none\" stroke=\"black\" d=\"M138.97,-227.7C166,-201.37 214.57,-154.07 245.26,-124.17\"/>\n",
       "<polygon fill=\"black\" stroke=\"black\" points=\"247.61,-126.77 252.33,-117.28 242.72,-121.75 247.61,-126.77\"/>\n",
       "</g>\n",
       "<!-- x_functionmiddleat0x107aa6200_1&#45;&gt;test_functionmiddleat0x107aa6200_3 -->\n",
       "<g id=\"edge7\" class=\"edge\">\n",
       "<title>x_functionmiddleat0x107aa6200_1&#45;&gt;test_functionmiddleat0x107aa6200_3</title>\n",
       "<path fill=\"none\" stroke=\"black\" d=\"M159.62,-227.56C181.06,-217.25 207.43,-204.58 229.35,-194.05\"/>\n",
       "<polygon fill=\"black\" stroke=\"black\" points=\"230.85,-197.21 238.35,-189.72 227.82,-190.9 230.85,-197.21\"/>\n",
       "</g>\n",
       "<!-- test_functionmiddleat0x107aa6200_3&#45;&gt;test_functionmiddleat0x107aa6200_5 -->\n",
       "<g id=\"edge5\" class=\"edge\">\n",
       "<title>test_functionmiddleat0x107aa6200_3&#45;&gt;test_functionmiddleat0x107aa6200_5</title>\n",
       "<path fill=\"none\" stroke=\"grey\" stroke-dasharray=\"5,2\" d=\"M267.13,-151.56C266.48,-144.25 266.27,-135.75 266.49,-127.67\"/>\n",
       "<polygon fill=\"grey\" stroke=\"grey\" points=\"269.98,-128.01 267.06,-117.82 262.99,-127.61 269.98,-128.01\"/>\n",
       "</g>\n",
       "<!-- test_functionmiddleat0x107aa6200_3&#45;&gt;test_functionmiddleat0x107aa6200_5 -->\n",
       "<!-- test_functionmiddleat0x107aa6200_2&#45;&gt;test_functionmiddleat0x107aa6200_3 -->\n",
       "<g id=\"edge8\" class=\"edge\">\n",
       "<title>test_functionmiddleat0x107aa6200_2&#45;&gt;test_functionmiddleat0x107aa6200_3</title>\n",
       "<path fill=\"none\" stroke=\"grey\" stroke-dasharray=\"5,2\" d=\"M267.13,-227.56C266.48,-220.25 266.27,-211.75 266.49,-203.67\"/>\n",
       "<polygon fill=\"grey\" stroke=\"grey\" points=\"269.98,-204.01 267.06,-193.82 262.99,-203.61 269.98,-204.01\"/>\n",
       "</g>\n",
       "<!-- test_functionmiddleat0x107aa6200_2&#45;&gt;test_functionmiddleat0x107aa6200_3 -->\n",
       "</g>\n",
       "</svg>\n"
      ],
      "text/plain": [
       "<__main__.Dependencies at 0x107ae5660>"
      ]
     },
     "execution_count": 28,
     "metadata": {},
     "output_type": "execute_result"
    }
   ],
   "source": [
    "middle_deps()"
   ]
  },
  {
   "cell_type": "markdown",
   "metadata": {
    "slideshow": {
     "slide_type": "fragment"
    }
   },
   "source": [
    "By default, the arrow direction indicates _flows_ – an arrow _A_ → _B_ indicates that information from _A_ _flows_ into _B_ (and thus the state in _A_ _causes_ the state in _B_). By setting the extra keyword parameter `mode` to `depend` instead of `flow` (default), you can reverse these arrows; then an arrow _A_ → _B_ indicates _A_ _depends_ on _B_."
   ]
  },
  {
   "cell_type": "code",
   "execution_count": 29,
   "metadata": {
    "execution": {
     "iopub.execute_input": "2023-01-07T16:02:44.183142Z",
     "iopub.status.busy": "2023-01-07T16:02:44.182408Z",
     "iopub.status.idle": "2023-01-07T16:02:44.491141Z",
     "shell.execute_reply": "2023-01-07T16:02:44.491507Z"
    },
    "slideshow": {
     "slide_type": "fragment"
    }
   },
   "outputs": [
    {
     "data": {
      "image/svg+xml": [
       "<?xml version=\"1.0\" encoding=\"UTF-8\" standalone=\"no\"?>\n",
       "<!DOCTYPE svg PUBLIC \"-//W3C//DTD SVG 1.1//EN\"\n",
       " \"http://www.w3.org/Graphics/SVG/1.1/DTD/svg11.dtd\">\n",
       "<!-- Generated by graphviz version 7.0.2 (20221119.0110)\n",
       " -->\n",
       "<!-- Title: dependencies Pages: 1 -->\n",
       "<svg width=\"464pt\" height=\"352pt\"\n",
       " viewBox=\"0.00 0.00 464.16 352.00\" xmlns=\"http://www.w3.org/2000/svg\" xmlns:xlink=\"http://www.w3.org/1999/xlink\">\n",
       "<g id=\"graph0\" class=\"graph\" transform=\"scale(1 1) rotate(0) translate(4 348)\">\n",
       "<title>dependencies</title>\n",
       "<polygon fill=\"white\" stroke=\"none\" points=\"-4,4 -4,-348 460.16,-348 460.16,4 -4,4\"/>\n",
       "<!-- y_functionmiddleat0x107aa6200_1 -->\n",
       "<g id=\"node1\" class=\"node\">\n",
       "<title>y_functionmiddleat0x107aa6200_1</title>\n",
       "<g id=\"a_node1\"><a xlink:title=\"middle:1\">\n",
       "<polygon fill=\"peachpuff\" stroke=\"black\" points=\"456.16,-344 250.16,-344 250.16,-304 456.16,-304 456.16,-344\"/>\n",
       "<text text-anchor=\"start\" x=\"348.66\" y=\"-329.8\" font-family=\"Courier,monospace\" font-weight=\"bold\" font-size=\"14.00\">y</text>\n",
       "<text text-anchor=\"start\" x=\"258.16\" y=\"-310.8\" font-family=\"Courier,monospace\" font-size=\"9.00\">def middle(x, y, z): &#160;# type: ignore</text>\n",
       "</a>\n",
       "</g>\n",
       "</g>\n",
       "<!-- middlereturnvalue_functionmiddleat0x107aa6200_6 -->\n",
       "<g id=\"node2\" class=\"node\">\n",
       "<title>middlereturnvalue_functionmiddleat0x107aa6200_6</title>\n",
       "<g id=\"a_node2\"><a xlink:title=\"middle:6\">\n",
       "<polygon fill=\"peachpuff\" stroke=\"black\" points=\"376.16,-40 170.16,-40 170.16,0 376.16,0 376.16,-40\"/>\n",
       "<text text-anchor=\"start\" x=\"178.16\" y=\"-25.8\" font-family=\"Courier,monospace\" font-weight=\"bold\" font-style=\"italic\" font-size=\"14.00\">&lt;middle() return value&gt;</text>\n",
       "<text text-anchor=\"start\" x=\"251.66\" y=\"-6.8\" font-family=\"Courier,monospace\" font-size=\"9.00\">return y</text>\n",
       "</a>\n",
       "</g>\n",
       "</g>\n",
       "<!-- y_functionmiddleat0x107aa6200_1&#45;&gt;middlereturnvalue_functionmiddleat0x107aa6200_6 -->\n",
       "<g id=\"edge1\" class=\"edge\">\n",
       "<title>y_functionmiddleat0x107aa6200_1&#45;&gt;middlereturnvalue_functionmiddleat0x107aa6200_6</title>\n",
       "<path fill=\"none\" stroke=\"black\" d=\"M354.25,-292.29C354.83,-244.07 351.31,-148.64 319.16,-76 313.26,-62.68 303.15,-50.05 293.9,-40.26\"/>\n",
       "<polygon fill=\"black\" stroke=\"black\" points=\"350.76,-292.18 354.06,-302.24 357.75,-292.31 350.76,-292.18\"/>\n",
       "</g>\n",
       "<!-- test_functionmiddleat0x107aa6200_3 -->\n",
       "<g id=\"node6\" class=\"node\">\n",
       "<title>test_functionmiddleat0x107aa6200_3</title>\n",
       "<g id=\"a_node6\"><a xlink:title=\"middle:3\">\n",
       "<polygon fill=\"peachpuff\" stroke=\"black\" points=\"306.16,-192 240.16,-192 240.16,-152 306.16,-152 306.16,-192\"/>\n",
       "<text text-anchor=\"start\" x=\"248.16\" y=\"-177.8\" font-family=\"Courier,monospace\" font-weight=\"bold\" font-style=\"italic\" font-size=\"14.00\">&lt;test&gt;</text>\n",
       "<text text-anchor=\"start\" x=\"249.16\" y=\"-158.8\" font-family=\"Courier,monospace\" font-size=\"9.00\">if x &lt; y:</text>\n",
       "</a>\n",
       "</g>\n",
       "</g>\n",
       "<!-- y_functionmiddleat0x107aa6200_1&#45;&gt;test_functionmiddleat0x107aa6200_3 -->\n",
       "<g id=\"edge6\" class=\"edge\">\n",
       "<title>y_functionmiddleat0x107aa6200_1&#45;&gt;test_functionmiddleat0x107aa6200_3</title>\n",
       "<path fill=\"none\" stroke=\"black\" d=\"M343.49,-292.92C336.76,-273.74 326.9,-248.69 315.16,-228 308.04,-215.46 298.36,-202.59 290.1,-192.46\"/>\n",
       "<polygon fill=\"black\" stroke=\"black\" points=\"340.15,-293.97 346.69,-302.3 346.78,-291.71 340.15,-293.97\"/>\n",
       "</g>\n",
       "<!-- test_functionmiddleat0x107aa6200_2 -->\n",
       "<g id=\"node7\" class=\"node\">\n",
       "<title>test_functionmiddleat0x107aa6200_2</title>\n",
       "<g id=\"a_node7\"><a xlink:title=\"middle:2\">\n",
       "<polygon fill=\"peachpuff\" stroke=\"black\" points=\"306.16,-268 240.16,-268 240.16,-228 306.16,-228 306.16,-268\"/>\n",
       "<text text-anchor=\"start\" x=\"248.16\" y=\"-253.8\" font-family=\"Courier,monospace\" font-weight=\"bold\" font-style=\"italic\" font-size=\"14.00\">&lt;test&gt;</text>\n",
       "<text text-anchor=\"start\" x=\"249.16\" y=\"-234.8\" font-family=\"Courier,monospace\" font-size=\"9.00\">if y &lt; z:</text>\n",
       "</a>\n",
       "</g>\n",
       "</g>\n",
       "<!-- y_functionmiddleat0x107aa6200_1&#45;&gt;test_functionmiddleat0x107aa6200_2 -->\n",
       "<g id=\"edge9\" class=\"edge\">\n",
       "<title>y_functionmiddleat0x107aa6200_1&#45;&gt;test_functionmiddleat0x107aa6200_2</title>\n",
       "<path fill=\"none\" stroke=\"black\" d=\"M323.77,-295.82C313.91,-286.69 303.11,-276.71 294.03,-268.31\"/>\n",
       "<polygon fill=\"black\" stroke=\"black\" points=\"321.31,-298.31 331.03,-302.53 326.06,-293.17 321.31,-298.31\"/>\n",
       "</g>\n",
       "<!-- test_functionmiddleat0x107aa6200_5 -->\n",
       "<g id=\"node3\" class=\"node\">\n",
       "<title>test_functionmiddleat0x107aa6200_5</title>\n",
       "<g id=\"a_node3\"><a xlink:title=\"middle:5\">\n",
       "<polygon fill=\"peachpuff\" stroke=\"black\" points=\"310.16,-116 236.16,-116 236.16,-76 310.16,-76 310.16,-116\"/>\n",
       "<text text-anchor=\"start\" x=\"248.16\" y=\"-101.8\" font-family=\"Courier,monospace\" font-weight=\"bold\" font-style=\"italic\" font-size=\"14.00\">&lt;test&gt;</text>\n",
       "<text text-anchor=\"start\" x=\"244.16\" y=\"-82.8\" font-family=\"Courier,monospace\" font-size=\"9.00\">elif x &lt; z:</text>\n",
       "</a>\n",
       "</g>\n",
       "</g>\n",
       "<!-- test_functionmiddleat0x107aa6200_5&#45;&gt;middlereturnvalue_functionmiddleat0x107aa6200_6 -->\n",
       "<g id=\"edge2\" class=\"edge\">\n",
       "<title>test_functionmiddleat0x107aa6200_5&#45;&gt;middlereturnvalue_functionmiddleat0x107aa6200_6</title>\n",
       "<path fill=\"none\" stroke=\"grey\" stroke-dasharray=\"5,2\" d=\"M266.49,-64.19C266.27,-56.1 266.49,-47.61 267.14,-40.31\"/>\n",
       "<polygon fill=\"grey\" stroke=\"grey\" points=\"262.99,-64.26 267.05,-74.05 269.98,-63.86 262.99,-64.26\"/>\n",
       "</g>\n",
       "<!-- test_functionmiddleat0x107aa6200_5&#45;&gt;middlereturnvalue_functionmiddleat0x107aa6200_6 -->\n",
       "<!-- z_functionmiddleat0x107aa6200_1 -->\n",
       "<g id=\"node4\" class=\"node\">\n",
       "<title>z_functionmiddleat0x107aa6200_1</title>\n",
       "<g id=\"a_node4\"><a xlink:title=\"middle:1\">\n",
       "<polygon fill=\"peachpuff\" stroke=\"black\" points=\"232.16,-344 26.16,-344 26.16,-304 232.16,-304 232.16,-344\"/>\n",
       "<text text-anchor=\"start\" x=\"124.66\" y=\"-329.8\" font-family=\"Courier,monospace\" font-weight=\"bold\" font-size=\"14.00\">z</text>\n",
       "<text text-anchor=\"start\" x=\"34.16\" y=\"-310.8\" font-family=\"Courier,monospace\" font-size=\"9.00\">def middle(x, y, z): &#160;# type: ignore</text>\n",
       "</a>\n",
       "</g>\n",
       "</g>\n",
       "<!-- z_functionmiddleat0x107aa6200_1&#45;&gt;test_functionmiddleat0x107aa6200_5 -->\n",
       "<g id=\"edge3\" class=\"edge\">\n",
       "<title>z_functionmiddleat0x107aa6200_1&#45;&gt;test_functionmiddleat0x107aa6200_5</title>\n",
       "<path fill=\"none\" stroke=\"black\" d=\"M41.29,-298.5C27.76,-290.89 15.53,-280.96 7.16,-268 -2.49,-253.07 -2.24,-243.09 7.16,-228 57.74,-146.7 175.24,-114.39 235.71,-102.79\"/>\n",
       "<polygon fill=\"black\" stroke=\"black\" points=\"39.49,-301.51 49.99,-302.95 42.68,-295.28 39.49,-301.51\"/>\n",
       "</g>\n",
       "<!-- z_functionmiddleat0x107aa6200_1&#45;&gt;test_functionmiddleat0x107aa6200_2 -->\n",
       "<g id=\"edge10\" class=\"edge\">\n",
       "<title>z_functionmiddleat0x107aa6200_1&#45;&gt;test_functionmiddleat0x107aa6200_2</title>\n",
       "<path fill=\"none\" stroke=\"black\" d=\"M171.04,-298.18C193.05,-286.53 219.58,-273.06 240.14,-263.17\"/>\n",
       "<polygon fill=\"black\" stroke=\"black\" points=\"169.48,-295.05 162.3,-302.84 172.77,-301.22 169.48,-295.05\"/>\n",
       "</g>\n",
       "<!-- z_functionmiddleat0x107aa6200_1&#45;&gt;test_functionmiddleat0x107aa6200_2 -->\n",
       "<!-- x_functionmiddleat0x107aa6200_1 -->\n",
       "<g id=\"node5\" class=\"node\">\n",
       "<title>x_functionmiddleat0x107aa6200_1</title>\n",
       "<g id=\"a_node5\"><a xlink:title=\"middle:1\">\n",
       "<polygon fill=\"peachpuff\" stroke=\"black\" points=\"222.16,-268 16.16,-268 16.16,-228 222.16,-228 222.16,-268\"/>\n",
       "<text text-anchor=\"start\" x=\"114.66\" y=\"-253.8\" font-family=\"Courier,monospace\" font-weight=\"bold\" font-size=\"14.00\">x</text>\n",
       "<text text-anchor=\"start\" x=\"24.16\" y=\"-234.8\" font-family=\"Courier,monospace\" font-size=\"9.00\">def middle(x, y, z): &#160;# type: ignore</text>\n",
       "</a>\n",
       "</g>\n",
       "</g>\n",
       "<!-- x_functionmiddleat0x107aa6200_1&#45;&gt;test_functionmiddleat0x107aa6200_5 -->\n",
       "<g id=\"edge4\" class=\"edge\">\n",
       "<title>x_functionmiddleat0x107aa6200_1&#45;&gt;test_functionmiddleat0x107aa6200_5</title>\n",
       "<path fill=\"none\" stroke=\"black\" d=\"M147.14,-219.75C177.87,-189.82 226.43,-142.52 253.41,-116.23\"/>\n",
       "<polygon fill=\"black\" stroke=\"black\" points=\"144.78,-217.16 140.06,-226.64 149.66,-222.17 144.78,-217.16\"/>\n",
       "</g>\n",
       "<!-- x_functionmiddleat0x107aa6200_1&#45;&gt;test_functionmiddleat0x107aa6200_3 -->\n",
       "<g id=\"edge7\" class=\"edge\">\n",
       "<title>x_functionmiddleat0x107aa6200_1&#45;&gt;test_functionmiddleat0x107aa6200_3</title>\n",
       "<path fill=\"none\" stroke=\"black\" d=\"M169.88,-222.63C192.83,-211.6 219.31,-198.87 239.72,-189.07\"/>\n",
       "<polygon fill=\"black\" stroke=\"black\" points=\"168.48,-219.42 160.98,-226.9 171.51,-225.73 168.48,-219.42\"/>\n",
       "</g>\n",
       "<!-- test_functionmiddleat0x107aa6200_3&#45;&gt;test_functionmiddleat0x107aa6200_5 -->\n",
       "<g id=\"edge5\" class=\"edge\">\n",
       "<title>test_functionmiddleat0x107aa6200_3&#45;&gt;test_functionmiddleat0x107aa6200_5</title>\n",
       "<path fill=\"none\" stroke=\"grey\" stroke-dasharray=\"5,2\" d=\"M266.49,-140.19C266.27,-132.1 266.49,-123.61 267.14,-116.31\"/>\n",
       "<polygon fill=\"grey\" stroke=\"grey\" points=\"262.99,-140.26 267.05,-150.05 269.98,-139.86 262.99,-140.26\"/>\n",
       "</g>\n",
       "<!-- test_functionmiddleat0x107aa6200_3&#45;&gt;test_functionmiddleat0x107aa6200_5 -->\n",
       "<!-- test_functionmiddleat0x107aa6200_2&#45;&gt;test_functionmiddleat0x107aa6200_3 -->\n",
       "<g id=\"edge8\" class=\"edge\">\n",
       "<title>test_functionmiddleat0x107aa6200_2&#45;&gt;test_functionmiddleat0x107aa6200_3</title>\n",
       "<path fill=\"none\" stroke=\"grey\" stroke-dasharray=\"5,2\" d=\"M266.49,-216.19C266.27,-208.1 266.49,-199.61 267.14,-192.31\"/>\n",
       "<polygon fill=\"grey\" stroke=\"grey\" points=\"262.99,-216.26 267.05,-226.05 269.98,-215.86 262.99,-216.26\"/>\n",
       "</g>\n",
       "<!-- test_functionmiddleat0x107aa6200_2&#45;&gt;test_functionmiddleat0x107aa6200_3 -->\n",
       "</g>\n",
       "</svg>\n"
      ],
      "text/plain": [
       "<graphviz.graphs.Digraph at 0x107ae4310>"
      ]
     },
     "execution_count": 29,
     "metadata": {},
     "output_type": "execute_result"
    }
   ],
   "source": [
    "middle_deps().graph(mode='depend')"
   ]
  },
  {
   "cell_type": "markdown",
   "metadata": {
    "slideshow": {
     "slide_type": "subslide"
    }
   },
   "source": [
    "#### Slices\n",
    "\n",
    "The method `backward_slice(*critera, mode='cd')` returns a subset of dependencies, following dependencies backward from the given *slicing criteria* `criteria`. These criteria can be\n",
    "\n",
    "* variable names (such as `<test>`); or\n",
    "* `(function, lineno)` pairs (such as `(middle, 3)`); or\n",
    "* `(var_name, (function, lineno))` (such as `(`x`, (middle, 1))`) locations.\n",
    "\n",
    "The extra parameter `mode` controls which dependencies are to be followed:\n",
    "\n",
    "* **`d`** = data dependencies\n",
    "* **`c`** = control dependencies"
   ]
  },
  {
   "cell_type": "code",
   "execution_count": 30,
   "metadata": {
    "execution": {
     "iopub.execute_input": "2023-01-07T16:02:44.495294Z",
     "iopub.status.busy": "2023-01-07T16:02:44.494760Z",
     "iopub.status.idle": "2023-01-07T16:02:44.496676Z",
     "shell.execute_reply": "2023-01-07T16:02:44.497061Z"
    },
    "slideshow": {
     "slide_type": "subslide"
    }
   },
   "outputs": [],
   "source": [
    "Criterion = Union[str, Location, Node]"
   ]
  },
  {
   "cell_type": "code",
   "execution_count": 31,
   "metadata": {
    "execution": {
     "iopub.execute_input": "2023-01-07T16:02:44.502935Z",
     "iopub.status.busy": "2023-01-07T16:02:44.502569Z",
     "iopub.status.idle": "2023-01-07T16:02:44.503865Z",
     "shell.execute_reply": "2023-01-07T16:02:44.504056Z"
    },
    "slideshow": {
     "slide_type": "subslide"
    }
   },
   "outputs": [],
   "source": [
    "class Dependencies(Dependencies):\n",
    "    def expand_criteria(self, criteria: List[Criterion]) -> List[Node]:\n",
    "        \"\"\"Return list of vars matched by `criteria`.\"\"\"\n",
    "        all_vars = []\n",
    "        for criterion in criteria:\n",
    "            criterion_var = None\n",
    "            criterion_func = None\n",
    "            criterion_lineno = None\n",
    "\n",
    "            if isinstance(criterion, str):\n",
    "                criterion_var = criterion\n",
    "            elif len(criterion) == 2 and callable(criterion[0]):\n",
    "                criterion_func, criterion_lineno = criterion\n",
    "            elif len(criterion) == 2 and isinstance(criterion[0], str):\n",
    "                criterion_var = criterion[0]\n",
    "                criterion_func, criterion_lineno = criterion[1]\n",
    "            else:\n",
    "                raise ValueError(\"Invalid argument\")\n",
    "\n",
    "            for var in self.all_vars():\n",
    "                (var_name, location) = var\n",
    "                func, lineno = location\n",
    "\n",
    "                name_matches = (criterion_func is None or\n",
    "                                criterion_func == func or\n",
    "                                criterion_func.__name__ == func.__name__)\n",
    "\n",
    "                location_matches = (criterion_lineno is None or\n",
    "                                    criterion_lineno == lineno)\n",
    "\n",
    "                var_matches = (criterion_var is None or\n",
    "                               criterion_var == var_name)\n",
    "\n",
    "                if name_matches and location_matches and var_matches:\n",
    "                    all_vars.append(var)\n",
    "\n",
    "        return all_vars\n",
    "\n",
    "    def backward_slice(self, *criteria: Criterion, \n",
    "                       mode: str = 'cd', depth: int = -1) -> Dependencies:\n",
    "        \"\"\"\n",
    "        Create a backward slice from nodes `criteria`.\n",
    "        `mode` can contain 'c' (draw control dependencies)\n",
    "        and 'd' (draw data dependencies) (default: 'cd')\n",
    "        \"\"\"\n",
    "        data = {}\n",
    "        control = {}\n",
    "        queue = self.expand_criteria(criteria)  # type: ignore\n",
    "        seen = set()\n",
    "\n",
    "        while len(queue) > 0 and depth != 0:\n",
    "            var = queue[0]\n",
    "            queue = queue[1:]\n",
    "            seen.add(var)\n",
    "\n",
    "            if 'd' in mode:\n",
    "                # Follow data dependencies\n",
    "                data[var] = self.data[var]\n",
    "                for next_var in data[var]:\n",
    "                    if next_var not in seen:\n",
    "                        queue.append(next_var)\n",
    "            else:\n",
    "                data[var] = set()\n",
    "\n",
    "            if 'c' in mode:\n",
    "                # Follow control dependencies\n",
    "                control[var] = self.control[var]\n",
    "                for next_var in control[var]:\n",
    "                    if next_var not in seen:\n",
    "                        queue.append(next_var)\n",
    "            else:\n",
    "                control[var] = set()\n",
    "\n",
    "            depth -= 1\n",
    "\n",
    "        return Dependencies(data, control)"
   ]
  },
  {
   "cell_type": "markdown",
   "metadata": {
    "slideshow": {
     "slide_type": "subslide"
    }
   },
   "source": [
    "### End of Excursion"
   ]
  },
  {
   "cell_type": "markdown",
   "metadata": {
    "slideshow": {
     "slide_type": "subslide"
    }
   },
   "source": [
    "### Data Dependencies\n",
    "\n",
    "Here is an example of a data dependency in our `middle()` program. The value `y` returned by `middle()` comes from the value `y` as originally passed as argument. We use arrows $x \\leftarrow y$ to indicate that a variable $x$ depends on an earlier variable $y$:"
   ]
  },
  {
   "cell_type": "code",
   "execution_count": 32,
   "metadata": {
    "execution": {
     "iopub.execute_input": "2023-01-07T16:02:44.508893Z",
     "iopub.status.busy": "2023-01-07T16:02:44.508246Z",
     "iopub.status.idle": "2023-01-07T16:02:44.780855Z",
     "shell.execute_reply": "2023-01-07T16:02:44.781079Z"
    },
    "slideshow": {
     "slide_type": "fragment"
    }
   },
   "outputs": [
    {
     "data": {
      "image/svg+xml": [
       "<?xml version=\"1.0\" encoding=\"UTF-8\" standalone=\"no\"?>\n",
       "<!DOCTYPE svg PUBLIC \"-//W3C//DTD SVG 1.1//EN\"\n",
       " \"http://www.w3.org/Graphics/SVG/1.1/DTD/svg11.dtd\">\n",
       "<!-- Generated by graphviz version 7.0.2 (20221119.0110)\n",
       " -->\n",
       "<!-- Title: dependencies Pages: 1 -->\n",
       "<svg width=\"214pt\" height=\"124pt\"\n",
       " viewBox=\"0.00 0.00 214.00 124.00\" xmlns=\"http://www.w3.org/2000/svg\" xmlns:xlink=\"http://www.w3.org/1999/xlink\">\n",
       "<g id=\"graph0\" class=\"graph\" transform=\"scale(1 1) rotate(0) translate(4 120)\">\n",
       "<title>dependencies</title>\n",
       "<polygon fill=\"white\" stroke=\"none\" points=\"-4,4 -4,-120 210,-120 210,4 -4,4\"/>\n",
       "<!-- y_functionmiddleat0x107aa6200_1 -->\n",
       "<g id=\"node1\" class=\"node\">\n",
       "<title>y_functionmiddleat0x107aa6200_1</title>\n",
       "<g id=\"a_node1\"><a xlink:title=\"middle:1\">\n",
       "<polygon fill=\"peachpuff\" stroke=\"black\" points=\"206,-116 0,-116 0,-76 206,-76 206,-116\"/>\n",
       "<text text-anchor=\"start\" x=\"98.5\" y=\"-101.8\" font-family=\"Courier,monospace\" font-weight=\"bold\" font-size=\"14.00\">y</text>\n",
       "<text text-anchor=\"start\" x=\"8\" y=\"-82.8\" font-family=\"Courier,monospace\" font-size=\"9.00\">def middle(x, y, z): &#160;# type: ignore</text>\n",
       "</a>\n",
       "</g>\n",
       "</g>\n",
       "<!-- middlereturnvalue_functionmiddleat0x107aa6200_6 -->\n",
       "<g id=\"node2\" class=\"node\">\n",
       "<title>middlereturnvalue_functionmiddleat0x107aa6200_6</title>\n",
       "<g id=\"a_node2\"><a xlink:title=\"middle:6\">\n",
       "<polygon fill=\"peachpuff\" stroke=\"black\" points=\"206,-40 0,-40 0,0 206,0 206,-40\"/>\n",
       "<text text-anchor=\"start\" x=\"8\" y=\"-25.8\" font-family=\"Courier,monospace\" font-weight=\"bold\" font-style=\"italic\" font-size=\"14.00\">&lt;middle() return value&gt;</text>\n",
       "<text text-anchor=\"start\" x=\"81.5\" y=\"-6.8\" font-family=\"Courier,monospace\" font-size=\"9.00\">return y</text>\n",
       "</a>\n",
       "</g>\n",
       "</g>\n",
       "<!-- y_functionmiddleat0x107aa6200_1&#45;&gt;middlereturnvalue_functionmiddleat0x107aa6200_6 -->\n",
       "<g id=\"edge1\" class=\"edge\">\n",
       "<title>y_functionmiddleat0x107aa6200_1&#45;&gt;middlereturnvalue_functionmiddleat0x107aa6200_6</title>\n",
       "<path fill=\"none\" stroke=\"black\" d=\"M96.98,-75.56C96.32,-68.25 96.11,-59.75 96.34,-51.67\"/>\n",
       "<polygon fill=\"black\" stroke=\"black\" points=\"99.82,-52.01 96.9,-41.82 92.84,-51.61 99.82,-52.01\"/>\n",
       "</g>\n",
       "<!-- y_functionmiddleat0x107aa6200_1&#45;&gt;middlereturnvalue_functionmiddleat0x107aa6200_6 -->\n",
       "</g>\n",
       "</svg>\n"
      ],
      "text/plain": [
       "<__main__.Dependencies at 0x107d540a0>"
      ]
     },
     "execution_count": 32,
     "metadata": {},
     "output_type": "execute_result"
    }
   ],
   "source": [
    "# ignore\n",
    "middle_deps().backward_slice('<middle() return value>', mode='d')  # type: ignore"
   ]
  },
  {
   "cell_type": "markdown",
   "metadata": {
    "slideshow": {
     "slide_type": "fragment"
    }
   },
   "source": [
    "Here, we can see that the value `y` in the return statement is data dependent on the value of `y` as passed to `middle()`. An alternate interpretation of this graph is a *data flow*: The value of `y` in the upper node _flows_ into the value of `y` in the lower node."
   ]
  },
  {
   "cell_type": "markdown",
   "metadata": {
    "slideshow": {
     "slide_type": "subslide"
    }
   },
   "source": [
    "Since we consider the values of variables at specific locations in the program, such data dependencies can also be interpreted as dependencies between _statements_ – the above `return` statement thus is data dependent on the initialization of `y` in the upper node."
   ]
  },
  {
   "attachments": {},
   "cell_type": "markdown",
   "metadata": {
    "slideshow": {
     "slide_type": "subslide"
    }
   },
   "source": [
    "### Control Dependencies\n",
    "\n",
    "Here is an example of a control dependency. The execution of the above `return` statement is controlled by the earlier test `x < z`. We use gray dashed lines to indicate control dependencies:"
   ]
  },
  {
   "cell_type": "code",
   "execution_count": 33,
   "metadata": {
    "execution": {
     "iopub.execute_input": "2023-01-07T16:02:44.784347Z",
     "iopub.status.busy": "2023-01-07T16:02:44.783921Z",
     "iopub.status.idle": "2023-01-07T16:02:45.136386Z",
     "shell.execute_reply": "2023-01-07T16:02:45.136659Z"
    },
    "slideshow": {
     "slide_type": "fragment"
    }
   },
   "outputs": [
    {
     "data": {
      "image/svg+xml": [
       "<?xml version=\"1.0\" encoding=\"UTF-8\" standalone=\"no\"?>\n",
       "<!DOCTYPE svg PUBLIC \"-//W3C//DTD SVG 1.1//EN\"\n",
       " \"http://www.w3.org/Graphics/SVG/1.1/DTD/svg11.dtd\">\n",
       "<!-- Generated by graphviz version 7.0.2 (20221119.0110)\n",
       " -->\n",
       "<!-- Title: dependencies Pages: 1 -->\n",
       "<svg width=\"214pt\" height=\"124pt\"\n",
       " viewBox=\"0.00 0.00 214.00 124.00\" xmlns=\"http://www.w3.org/2000/svg\" xmlns:xlink=\"http://www.w3.org/1999/xlink\">\n",
       "<g id=\"graph0\" class=\"graph\" transform=\"scale(1 1) rotate(0) translate(4 120)\">\n",
       "<title>dependencies</title>\n",
       "<polygon fill=\"white\" stroke=\"none\" points=\"-4,4 -4,-120 210,-120 210,4 -4,4\"/>\n",
       "<!-- test_functionmiddleat0x107aa6200_5 -->\n",
       "<g id=\"node1\" class=\"node\">\n",
       "<title>test_functionmiddleat0x107aa6200_5</title>\n",
       "<g id=\"a_node1\"><a xlink:title=\"middle:5\">\n",
       "<polygon fill=\"peachpuff\" stroke=\"black\" points=\"140,-116 66,-116 66,-76 140,-76 140,-116\"/>\n",
       "<text text-anchor=\"start\" x=\"78\" y=\"-101.8\" font-family=\"Courier,monospace\" font-weight=\"bold\" font-style=\"italic\" font-size=\"14.00\">&lt;test&gt;</text>\n",
       "<text text-anchor=\"start\" x=\"74\" y=\"-82.8\" font-family=\"Courier,monospace\" font-size=\"9.00\">elif x &lt; z:</text>\n",
       "</a>\n",
       "</g>\n",
       "</g>\n",
       "<!-- middlereturnvalue_functionmiddleat0x107aa6200_6 -->\n",
       "<g id=\"node2\" class=\"node\">\n",
       "<title>middlereturnvalue_functionmiddleat0x107aa6200_6</title>\n",
       "<g id=\"a_node2\"><a xlink:title=\"middle:6\">\n",
       "<polygon fill=\"peachpuff\" stroke=\"black\" points=\"206,-40 0,-40 0,0 206,0 206,-40\"/>\n",
       "<text text-anchor=\"start\" x=\"8\" y=\"-25.8\" font-family=\"Courier,monospace\" font-weight=\"bold\" font-style=\"italic\" font-size=\"14.00\">&lt;middle() return value&gt;</text>\n",
       "<text text-anchor=\"start\" x=\"81.5\" y=\"-6.8\" font-family=\"Courier,monospace\" font-size=\"9.00\">return y</text>\n",
       "</a>\n",
       "</g>\n",
       "</g>\n",
       "<!-- test_functionmiddleat0x107aa6200_5&#45;&gt;middlereturnvalue_functionmiddleat0x107aa6200_6 -->\n",
       "<g id=\"edge1\" class=\"edge\">\n",
       "<title>test_functionmiddleat0x107aa6200_5&#45;&gt;middlereturnvalue_functionmiddleat0x107aa6200_6</title>\n",
       "<path fill=\"none\" stroke=\"grey\" stroke-dasharray=\"5,2\" d=\"M96.98,-75.56C96.32,-68.25 96.11,-59.75 96.34,-51.67\"/>\n",
       "<polygon fill=\"grey\" stroke=\"grey\" points=\"99.82,-52.01 96.9,-41.82 92.84,-51.61 99.82,-52.01\"/>\n",
       "</g>\n",
       "<!-- test_functionmiddleat0x107aa6200_5&#45;&gt;middlereturnvalue_functionmiddleat0x107aa6200_6 -->\n",
       "</g>\n",
       "</svg>\n"
      ],
      "text/plain": [
       "<__main__.Dependencies at 0x107d57400>"
      ]
     },
     "execution_count": 33,
     "metadata": {},
     "output_type": "execute_result"
    }
   ],
   "source": [
    "# ignore\n",
    "middle_deps().backward_slice('<middle() return value>', mode='c', depth=1)  # type: ignore"
   ]
  },
  {
   "cell_type": "markdown",
   "metadata": {
    "slideshow": {
     "slide_type": "fragment"
    }
   },
   "source": [
    "This test in turn is controlled by earlier tests, so the full chain of control dependencies looks like this:"
   ]
  },
  {
   "cell_type": "code",
   "execution_count": 34,
   "metadata": {
    "execution": {
     "iopub.execute_input": "2023-01-07T16:02:45.139539Z",
     "iopub.status.busy": "2023-01-07T16:02:45.139230Z",
     "iopub.status.idle": "2023-01-07T16:02:45.466251Z",
     "shell.execute_reply": "2023-01-07T16:02:45.466498Z"
    },
    "slideshow": {
     "slide_type": "fragment"
    }
   },
   "outputs": [
    {
     "data": {
      "image/svg+xml": [
       "<?xml version=\"1.0\" encoding=\"UTF-8\" standalone=\"no\"?>\n",
       "<!DOCTYPE svg PUBLIC \"-//W3C//DTD SVG 1.1//EN\"\n",
       " \"http://www.w3.org/Graphics/SVG/1.1/DTD/svg11.dtd\">\n",
       "<!-- Generated by graphviz version 7.0.2 (20221119.0110)\n",
       " -->\n",
       "<!-- Title: dependencies Pages: 1 -->\n",
       "<svg width=\"214pt\" height=\"276pt\"\n",
       " viewBox=\"0.00 0.00 214.00 276.00\" xmlns=\"http://www.w3.org/2000/svg\" xmlns:xlink=\"http://www.w3.org/1999/xlink\">\n",
       "<g id=\"graph0\" class=\"graph\" transform=\"scale(1 1) rotate(0) translate(4 272)\">\n",
       "<title>dependencies</title>\n",
       "<polygon fill=\"white\" stroke=\"none\" points=\"-4,4 -4,-272 210,-272 210,4 -4,4\"/>\n",
       "<!-- test_functionmiddleat0x107aa6200_5 -->\n",
       "<g id=\"node1\" class=\"node\">\n",
       "<title>test_functionmiddleat0x107aa6200_5</title>\n",
       "<g id=\"a_node1\"><a xlink:title=\"middle:5\">\n",
       "<polygon fill=\"peachpuff\" stroke=\"black\" points=\"140,-116 66,-116 66,-76 140,-76 140,-116\"/>\n",
       "<text text-anchor=\"start\" x=\"78\" y=\"-101.8\" font-family=\"Courier,monospace\" font-weight=\"bold\" font-style=\"italic\" font-size=\"14.00\">&lt;test&gt;</text>\n",
       "<text text-anchor=\"start\" x=\"74\" y=\"-82.8\" font-family=\"Courier,monospace\" font-size=\"9.00\">elif x &lt; z:</text>\n",
       "</a>\n",
       "</g>\n",
       "</g>\n",
       "<!-- middlereturnvalue_functionmiddleat0x107aa6200_6 -->\n",
       "<g id=\"node3\" class=\"node\">\n",
       "<title>middlereturnvalue_functionmiddleat0x107aa6200_6</title>\n",
       "<g id=\"a_node3\"><a xlink:title=\"middle:6\">\n",
       "<polygon fill=\"peachpuff\" stroke=\"black\" points=\"206,-40 0,-40 0,0 206,0 206,-40\"/>\n",
       "<text text-anchor=\"start\" x=\"8\" y=\"-25.8\" font-family=\"Courier,monospace\" font-weight=\"bold\" font-style=\"italic\" font-size=\"14.00\">&lt;middle() return value&gt;</text>\n",
       "<text text-anchor=\"start\" x=\"81.5\" y=\"-6.8\" font-family=\"Courier,monospace\" font-size=\"9.00\">return y</text>\n",
       "</a>\n",
       "</g>\n",
       "</g>\n",
       "<!-- test_functionmiddleat0x107aa6200_5&#45;&gt;middlereturnvalue_functionmiddleat0x107aa6200_6 -->\n",
       "<g id=\"edge2\" class=\"edge\">\n",
       "<title>test_functionmiddleat0x107aa6200_5&#45;&gt;middlereturnvalue_functionmiddleat0x107aa6200_6</title>\n",
       "<path fill=\"none\" stroke=\"grey\" stroke-dasharray=\"5,2\" d=\"M96.98,-75.56C96.32,-68.25 96.11,-59.75 96.34,-51.67\"/>\n",
       "<polygon fill=\"grey\" stroke=\"grey\" points=\"99.82,-52.01 96.9,-41.82 92.84,-51.61 99.82,-52.01\"/>\n",
       "</g>\n",
       "<!-- test_functionmiddleat0x107aa6200_5&#45;&gt;middlereturnvalue_functionmiddleat0x107aa6200_6 -->\n",
       "<!-- test_functionmiddleat0x107aa6200_3 -->\n",
       "<g id=\"node2\" class=\"node\">\n",
       "<title>test_functionmiddleat0x107aa6200_3</title>\n",
       "<g id=\"a_node2\"><a xlink:title=\"middle:3\">\n",
       "<polygon fill=\"peachpuff\" stroke=\"black\" points=\"136,-192 70,-192 70,-152 136,-152 136,-192\"/>\n",
       "<text text-anchor=\"start\" x=\"78\" y=\"-177.8\" font-family=\"Courier,monospace\" font-weight=\"bold\" font-style=\"italic\" font-size=\"14.00\">&lt;test&gt;</text>\n",
       "<text text-anchor=\"start\" x=\"79\" y=\"-158.8\" font-family=\"Courier,monospace\" font-size=\"9.00\">if x &lt; y:</text>\n",
       "</a>\n",
       "</g>\n",
       "</g>\n",
       "<!-- test_functionmiddleat0x107aa6200_3&#45;&gt;test_functionmiddleat0x107aa6200_5 -->\n",
       "<g id=\"edge1\" class=\"edge\">\n",
       "<title>test_functionmiddleat0x107aa6200_3&#45;&gt;test_functionmiddleat0x107aa6200_5</title>\n",
       "<path fill=\"none\" stroke=\"grey\" stroke-dasharray=\"5,2\" d=\"M96.98,-151.56C96.32,-144.25 96.11,-135.75 96.34,-127.67\"/>\n",
       "<polygon fill=\"grey\" stroke=\"grey\" points=\"99.82,-128.01 96.9,-117.82 92.84,-127.61 99.82,-128.01\"/>\n",
       "</g>\n",
       "<!-- test_functionmiddleat0x107aa6200_3&#45;&gt;test_functionmiddleat0x107aa6200_5 -->\n",
       "<!-- test_functionmiddleat0x107aa6200_2 -->\n",
       "<g id=\"node4\" class=\"node\">\n",
       "<title>test_functionmiddleat0x107aa6200_2</title>\n",
       "<g id=\"a_node4\"><a xlink:title=\"middle:2\">\n",
       "<polygon fill=\"peachpuff\" stroke=\"black\" points=\"136,-268 70,-268 70,-228 136,-228 136,-268\"/>\n",
       "<text text-anchor=\"start\" x=\"78\" y=\"-253.8\" font-family=\"Courier,monospace\" font-weight=\"bold\" font-style=\"italic\" font-size=\"14.00\">&lt;test&gt;</text>\n",
       "<text text-anchor=\"start\" x=\"79\" y=\"-234.8\" font-family=\"Courier,monospace\" font-size=\"9.00\">if y &lt; z:</text>\n",
       "</a>\n",
       "</g>\n",
       "</g>\n",
       "<!-- test_functionmiddleat0x107aa6200_2&#45;&gt;test_functionmiddleat0x107aa6200_3 -->\n",
       "<g id=\"edge3\" class=\"edge\">\n",
       "<title>test_functionmiddleat0x107aa6200_2&#45;&gt;test_functionmiddleat0x107aa6200_3</title>\n",
       "<path fill=\"none\" stroke=\"grey\" stroke-dasharray=\"5,2\" d=\"M96.98,-227.56C96.32,-220.25 96.11,-211.75 96.34,-203.67\"/>\n",
       "<polygon fill=\"grey\" stroke=\"grey\" points=\"99.82,-204.01 96.9,-193.82 92.84,-203.61 99.82,-204.01\"/>\n",
       "</g>\n",
       "<!-- test_functionmiddleat0x107aa6200_2&#45;&gt;test_functionmiddleat0x107aa6200_3 -->\n",
       "</g>\n",
       "</svg>\n"
      ],
      "text/plain": [
       "<__main__.Dependencies at 0x107d54640>"
      ]
     },
     "execution_count": 34,
     "metadata": {},
     "output_type": "execute_result"
    }
   ],
   "source": [
    "# ignore\n",
    "middle_deps().backward_slice('<middle() return value>', mode='c')  # type: ignore"
   ]
  },
  {
   "cell_type": "markdown",
   "metadata": {
    "slideshow": {
     "slide_type": "subslide"
    }
   },
   "source": [
    "### Dependency Graphs\n",
    "\n",
    "The above `<test>` values (and their statements) are in turn also dependent on earlier data, namely the `x`, `y`, and `z` values as originally passed. We can draw all data and control dependencies in a single graph, called a _program dependency graph_:"
   ]
  },
  {
   "cell_type": "code",
   "execution_count": 35,
   "metadata": {
    "execution": {
     "iopub.execute_input": "2023-01-07T16:02:45.471495Z",
     "iopub.status.busy": "2023-01-07T16:02:45.470707Z",
     "iopub.status.idle": "2023-01-07T16:02:45.880126Z",
     "shell.execute_reply": "2023-01-07T16:02:45.880404Z"
    },
    "slideshow": {
     "slide_type": "fragment"
    }
   },
   "outputs": [
    {
     "data": {
      "image/svg+xml": [
       "<?xml version=\"1.0\" encoding=\"UTF-8\" standalone=\"no\"?>\n",
       "<!DOCTYPE svg PUBLIC \"-//W3C//DTD SVG 1.1//EN\"\n",
       " \"http://www.w3.org/Graphics/SVG/1.1/DTD/svg11.dtd\">\n",
       "<!-- Generated by graphviz version 7.0.2 (20221119.0110)\n",
       " -->\n",
       "<!-- Title: dependencies Pages: 1 -->\n",
       "<svg width=\"464pt\" height=\"352pt\"\n",
       " viewBox=\"0.00 0.00 464.16 352.00\" xmlns=\"http://www.w3.org/2000/svg\" xmlns:xlink=\"http://www.w3.org/1999/xlink\">\n",
       "<g id=\"graph0\" class=\"graph\" transform=\"scale(1 1) rotate(0) translate(4 348)\">\n",
       "<title>dependencies</title>\n",
       "<polygon fill=\"white\" stroke=\"none\" points=\"-4,4 -4,-348 460.16,-348 460.16,4 -4,4\"/>\n",
       "<!-- y_functionmiddleat0x107aa6200_1 -->\n",
       "<g id=\"node1\" class=\"node\">\n",
       "<title>y_functionmiddleat0x107aa6200_1</title>\n",
       "<g id=\"a_node1\"><a xlink:title=\"middle:1\">\n",
       "<polygon fill=\"peachpuff\" stroke=\"black\" points=\"456.16,-344 250.16,-344 250.16,-304 456.16,-304 456.16,-344\"/>\n",
       "<text text-anchor=\"start\" x=\"348.66\" y=\"-329.8\" font-family=\"Courier,monospace\" font-weight=\"bold\" font-size=\"14.00\">y</text>\n",
       "<text text-anchor=\"start\" x=\"258.16\" y=\"-310.8\" font-family=\"Courier,monospace\" font-size=\"9.00\">def middle(x, y, z): &#160;# type: ignore</text>\n",
       "</a>\n",
       "</g>\n",
       "</g>\n",
       "<!-- middlereturnvalue_functionmiddleat0x107aa6200_6 -->\n",
       "<g id=\"node2\" class=\"node\">\n",
       "<title>middlereturnvalue_functionmiddleat0x107aa6200_6</title>\n",
       "<g id=\"a_node2\"><a xlink:title=\"middle:6\">\n",
       "<polygon fill=\"peachpuff\" stroke=\"black\" points=\"376.16,-40 170.16,-40 170.16,0 376.16,0 376.16,-40\"/>\n",
       "<text text-anchor=\"start\" x=\"178.16\" y=\"-25.8\" font-family=\"Courier,monospace\" font-weight=\"bold\" font-style=\"italic\" font-size=\"14.00\">&lt;middle() return value&gt;</text>\n",
       "<text text-anchor=\"start\" x=\"251.66\" y=\"-6.8\" font-family=\"Courier,monospace\" font-size=\"9.00\">return y</text>\n",
       "</a>\n",
       "</g>\n",
       "</g>\n",
       "<!-- y_functionmiddleat0x107aa6200_1&#45;&gt;middlereturnvalue_functionmiddleat0x107aa6200_6 -->\n",
       "<g id=\"edge1\" class=\"edge\">\n",
       "<title>y_functionmiddleat0x107aa6200_1&#45;&gt;middlereturnvalue_functionmiddleat0x107aa6200_6</title>\n",
       "<path fill=\"none\" stroke=\"black\" d=\"M354.03,-303.76C355.23,-260.86 354.1,-154.97 319.16,-76 314.83,-66.22 308.22,-56.81 301.36,-48.62\"/>\n",
       "<polygon fill=\"black\" stroke=\"black\" points=\"304.17,-46.52 294.91,-41.39 298.95,-51.18 304.17,-46.52\"/>\n",
       "</g>\n",
       "<!-- test_functionmiddleat0x107aa6200_3 -->\n",
       "<g id=\"node6\" class=\"node\">\n",
       "<title>test_functionmiddleat0x107aa6200_3</title>\n",
       "<g id=\"a_node6\"><a xlink:title=\"middle:3\">\n",
       "<polygon fill=\"peachpuff\" stroke=\"black\" points=\"306.16,-192 240.16,-192 240.16,-152 306.16,-152 306.16,-192\"/>\n",
       "<text text-anchor=\"start\" x=\"248.16\" y=\"-177.8\" font-family=\"Courier,monospace\" font-weight=\"bold\" font-style=\"italic\" font-size=\"14.00\">&lt;test&gt;</text>\n",
       "<text text-anchor=\"start\" x=\"249.16\" y=\"-158.8\" font-family=\"Courier,monospace\" font-size=\"9.00\">if x &lt; y:</text>\n",
       "</a>\n",
       "</g>\n",
       "</g>\n",
       "<!-- y_functionmiddleat0x107aa6200_1&#45;&gt;test_functionmiddleat0x107aa6200_3 -->\n",
       "<g id=\"edge6\" class=\"edge\">\n",
       "<title>y_functionmiddleat0x107aa6200_1&#45;&gt;test_functionmiddleat0x107aa6200_3</title>\n",
       "<path fill=\"none\" stroke=\"black\" d=\"M347.17,-303.74C340.67,-284.03 329.28,-252.87 315.16,-228 309.98,-218.89 303.46,-209.61 297.11,-201.32\"/>\n",
       "<polygon fill=\"black\" stroke=\"black\" points=\"299.99,-199.31 291.04,-193.65 294.5,-203.66 299.99,-199.31\"/>\n",
       "</g>\n",
       "<!-- test_functionmiddleat0x107aa6200_2 -->\n",
       "<g id=\"node7\" class=\"node\">\n",
       "<title>test_functionmiddleat0x107aa6200_2</title>\n",
       "<g id=\"a_node7\"><a xlink:title=\"middle:2\">\n",
       "<polygon fill=\"peachpuff\" stroke=\"black\" points=\"306.16,-268 240.16,-268 240.16,-228 306.16,-228 306.16,-268\"/>\n",
       "<text text-anchor=\"start\" x=\"248.16\" y=\"-253.8\" font-family=\"Courier,monospace\" font-weight=\"bold\" font-style=\"italic\" font-size=\"14.00\">&lt;test&gt;</text>\n",
       "<text text-anchor=\"start\" x=\"249.16\" y=\"-234.8\" font-family=\"Courier,monospace\" font-size=\"9.00\">if y &lt; z:</text>\n",
       "</a>\n",
       "</g>\n",
       "</g>\n",
       "<!-- y_functionmiddleat0x107aa6200_1&#45;&gt;test_functionmiddleat0x107aa6200_2 -->\n",
       "<g id=\"edge9\" class=\"edge\">\n",
       "<title>y_functionmiddleat0x107aa6200_1&#45;&gt;test_functionmiddleat0x107aa6200_2</title>\n",
       "<path fill=\"none\" stroke=\"black\" d=\"M332.14,-303.56C323.04,-295.14 312.24,-285.16 302.39,-276.04\"/>\n",
       "<polygon fill=\"black\" stroke=\"black\" points=\"304.86,-273.56 295.15,-269.34 300.11,-278.7 304.86,-273.56\"/>\n",
       "</g>\n",
       "<!-- test_functionmiddleat0x107aa6200_5 -->\n",
       "<g id=\"node3\" class=\"node\">\n",
       "<title>test_functionmiddleat0x107aa6200_5</title>\n",
       "<g id=\"a_node3\"><a xlink:title=\"middle:5\">\n",
       "<polygon fill=\"peachpuff\" stroke=\"black\" points=\"310.16,-116 236.16,-116 236.16,-76 310.16,-76 310.16,-116\"/>\n",
       "<text text-anchor=\"start\" x=\"248.16\" y=\"-101.8\" font-family=\"Courier,monospace\" font-weight=\"bold\" font-style=\"italic\" font-size=\"14.00\">&lt;test&gt;</text>\n",
       "<text text-anchor=\"start\" x=\"244.16\" y=\"-82.8\" font-family=\"Courier,monospace\" font-size=\"9.00\">elif x &lt; z:</text>\n",
       "</a>\n",
       "</g>\n",
       "</g>\n",
       "<!-- test_functionmiddleat0x107aa6200_5&#45;&gt;middlereturnvalue_functionmiddleat0x107aa6200_6 -->\n",
       "<g id=\"edge2\" class=\"edge\">\n",
       "<title>test_functionmiddleat0x107aa6200_5&#45;&gt;middlereturnvalue_functionmiddleat0x107aa6200_6</title>\n",
       "<path fill=\"none\" stroke=\"grey\" stroke-dasharray=\"5,2\" d=\"M267.13,-75.56C266.48,-68.25 266.27,-59.75 266.49,-51.67\"/>\n",
       "<polygon fill=\"grey\" stroke=\"grey\" points=\"269.98,-52.01 267.06,-41.82 262.99,-51.61 269.98,-52.01\"/>\n",
       "</g>\n",
       "<!-- test_functionmiddleat0x107aa6200_5&#45;&gt;middlereturnvalue_functionmiddleat0x107aa6200_6 -->\n",
       "<!-- z_functionmiddleat0x107aa6200_1 -->\n",
       "<g id=\"node4\" class=\"node\">\n",
       "<title>z_functionmiddleat0x107aa6200_1</title>\n",
       "<g id=\"a_node4\"><a xlink:title=\"middle:1\">\n",
       "<polygon fill=\"peachpuff\" stroke=\"black\" points=\"232.16,-344 26.16,-344 26.16,-304 232.16,-304 232.16,-344\"/>\n",
       "<text text-anchor=\"start\" x=\"124.66\" y=\"-329.8\" font-family=\"Courier,monospace\" font-weight=\"bold\" font-size=\"14.00\">z</text>\n",
       "<text text-anchor=\"start\" x=\"34.16\" y=\"-310.8\" font-family=\"Courier,monospace\" font-size=\"9.00\">def middle(x, y, z): &#160;# type: ignore</text>\n",
       "</a>\n",
       "</g>\n",
       "</g>\n",
       "<!-- z_functionmiddleat0x107aa6200_1&#45;&gt;test_functionmiddleat0x107aa6200_5 -->\n",
       "<g id=\"edge3\" class=\"edge\">\n",
       "<title>z_functionmiddleat0x107aa6200_1&#45;&gt;test_functionmiddleat0x107aa6200_5</title>\n",
       "<path fill=\"none\" stroke=\"black\" d=\"M51.33,-303.64C33.93,-295.53 17.56,-284.1 7.16,-268 -2.49,-253.07 -2.24,-243.09 7.16,-228 54.77,-151.47 161.7,-118.34 224.52,-105.05\"/>\n",
       "<polygon fill=\"black\" stroke=\"black\" points=\"225.12,-108.5 234.23,-103.09 223.74,-101.64 225.12,-108.5\"/>\n",
       "</g>\n",
       "<!-- z_functionmiddleat0x107aa6200_1&#45;&gt;test_functionmiddleat0x107aa6200_2 -->\n",
       "<g id=\"edge10\" class=\"edge\">\n",
       "<title>z_functionmiddleat0x107aa6200_1&#45;&gt;test_functionmiddleat0x107aa6200_2</title>\n",
       "<path fill=\"none\" stroke=\"black\" d=\"M160.97,-303.56C181.28,-292.61 207.77,-279.01 229.96,-268.12\"/>\n",
       "<polygon fill=\"black\" stroke=\"black\" points=\"231.31,-271.35 238.78,-263.83 228.25,-265.06 231.31,-271.35\"/>\n",
       "</g>\n",
       "<!-- z_functionmiddleat0x107aa6200_1&#45;&gt;test_functionmiddleat0x107aa6200_2 -->\n",
       "<!-- x_functionmiddleat0x107aa6200_1 -->\n",
       "<g id=\"node5\" class=\"node\">\n",
       "<title>x_functionmiddleat0x107aa6200_1</title>\n",
       "<g id=\"a_node5\"><a xlink:title=\"middle:1\">\n",
       "<polygon fill=\"peachpuff\" stroke=\"black\" points=\"222.16,-268 16.16,-268 16.16,-228 222.16,-228 222.16,-268\"/>\n",
       "<text text-anchor=\"start\" x=\"114.66\" y=\"-253.8\" font-family=\"Courier,monospace\" font-weight=\"bold\" font-size=\"14.00\">x</text>\n",
       "<text text-anchor=\"start\" x=\"24.16\" y=\"-234.8\" font-family=\"Courier,monospace\" font-size=\"9.00\">def middle(x, y, z): &#160;# type: ignore</text>\n",
       "</a>\n",
       "</g>\n",
       "</g>\n",
       "<!-- x_functionmiddleat0x107aa6200_1&#45;&gt;test_functionmiddleat0x107aa6200_5 -->\n",
       "<g id=\"edge4\" class=\"edge\">\n",
       "<title>x_functionmiddleat0x107aa6200_1&#45;&gt;test_functionmiddleat0x107aa6200_5</title>\n",
       "<path fill=\"none\" stroke=\"black\" d=\"M138.97,-227.7C166,-201.37 214.57,-154.07 245.26,-124.17\"/>\n",
       "<polygon fill=\"black\" stroke=\"black\" points=\"247.61,-126.77 252.33,-117.28 242.72,-121.75 247.61,-126.77\"/>\n",
       "</g>\n",
       "<!-- x_functionmiddleat0x107aa6200_1&#45;&gt;test_functionmiddleat0x107aa6200_3 -->\n",
       "<g id=\"edge7\" class=\"edge\">\n",
       "<title>x_functionmiddleat0x107aa6200_1&#45;&gt;test_functionmiddleat0x107aa6200_3</title>\n",
       "<path fill=\"none\" stroke=\"black\" d=\"M159.62,-227.56C181.06,-217.25 207.43,-204.58 229.35,-194.05\"/>\n",
       "<polygon fill=\"black\" stroke=\"black\" points=\"230.85,-197.21 238.35,-189.72 227.82,-190.9 230.85,-197.21\"/>\n",
       "</g>\n",
       "<!-- test_functionmiddleat0x107aa6200_3&#45;&gt;test_functionmiddleat0x107aa6200_5 -->\n",
       "<g id=\"edge5\" class=\"edge\">\n",
       "<title>test_functionmiddleat0x107aa6200_3&#45;&gt;test_functionmiddleat0x107aa6200_5</title>\n",
       "<path fill=\"none\" stroke=\"grey\" stroke-dasharray=\"5,2\" d=\"M267.13,-151.56C266.48,-144.25 266.27,-135.75 266.49,-127.67\"/>\n",
       "<polygon fill=\"grey\" stroke=\"grey\" points=\"269.98,-128.01 267.06,-117.82 262.99,-127.61 269.98,-128.01\"/>\n",
       "</g>\n",
       "<!-- test_functionmiddleat0x107aa6200_3&#45;&gt;test_functionmiddleat0x107aa6200_5 -->\n",
       "<!-- test_functionmiddleat0x107aa6200_2&#45;&gt;test_functionmiddleat0x107aa6200_3 -->\n",
       "<g id=\"edge8\" class=\"edge\">\n",
       "<title>test_functionmiddleat0x107aa6200_2&#45;&gt;test_functionmiddleat0x107aa6200_3</title>\n",
       "<path fill=\"none\" stroke=\"grey\" stroke-dasharray=\"5,2\" d=\"M267.13,-227.56C266.48,-220.25 266.27,-211.75 266.49,-203.67\"/>\n",
       "<polygon fill=\"grey\" stroke=\"grey\" points=\"269.98,-204.01 267.06,-193.82 262.99,-203.61 269.98,-204.01\"/>\n",
       "</g>\n",
       "<!-- test_functionmiddleat0x107aa6200_2&#45;&gt;test_functionmiddleat0x107aa6200_3 -->\n",
       "</g>\n",
       "</svg>\n"
      ],
      "text/plain": [
       "<__main__.Dependencies at 0x107d54040>"
      ]
     },
     "execution_count": 35,
     "metadata": {},
     "output_type": "execute_result"
    }
   ],
   "source": [
    "# ignore\n",
    "middle_deps()"
   ]
  },
  {
   "cell_type": "markdown",
   "metadata": {
    "slideshow": {
     "slide_type": "fragment"
    }
   },
   "source": [
    "This graph now gives us an idea on how to proceed to track the origins of the `middle()` return value at the bottom. Its value can come from any of the origins – namely the initialization of `y` at the function call, or from the `<test>` that controls it. This test in turn depends on `x` and `z` and their associated statements, which we now can check one after the other."
   ]
  },
  {
   "cell_type": "markdown",
   "metadata": {
    "slideshow": {
     "slide_type": "subslide"
    }
   },
   "source": [
    "Note that all these dependencies in the graph are _dynamic_ dependencies – that is, they refer to statements actually evaluated in the run at hand, as well as the decisions made in that very run. There also are _static_ dependency graphs coming from static analysis of the code; but for debugging, _dynamic_ dependencies specific to the failing run are more useful."
   ]
  },
  {
   "cell_type": "markdown",
   "metadata": {
    "slideshow": {
     "slide_type": "subslide"
    }
   },
   "source": [
    "### Showing Dependencies with Code\n",
    "\n",
    "While a graph gives us a representation about which possible data and control flows to track, integrating dependencies with actual program code results in a compact representation that is easy to reason about."
   ]
  },
  {
   "cell_type": "markdown",
   "metadata": {
    "slideshow": {
     "slide_type": "subslide"
    }
   },
   "source": [
    "#### Excursion: Listing Dependencies"
   ]
  },
  {
   "cell_type": "markdown",
   "metadata": {
    "slideshow": {
     "slide_type": "subslide"
    }
   },
   "source": [
    "To show dependencies as text, we introduce a method `format_var()` that shows a single node (a variable) as text. By default, a node is referenced as\n",
    "\n",
    "```python\n",
    "NAME (FUNCTION:LINENO)\n",
    "```\n",
    "\n",
    "However, within a given function, it makes no sense to re-state the function name again and again, so we have a shorthand\n",
    "\n",
    "```python\n",
    "NAME (LINENO)\n",
    "```\n",
    "\n",
    "to state a dependency to variable `NAME` in line `LINENO`."
   ]
  },
  {
   "cell_type": "code",
   "execution_count": 36,
   "metadata": {
    "execution": {
     "iopub.execute_input": "2023-01-07T16:02:45.884142Z",
     "iopub.status.busy": "2023-01-07T16:02:45.883820Z",
     "iopub.status.idle": "2023-01-07T16:02:45.884987Z",
     "shell.execute_reply": "2023-01-07T16:02:45.885296Z"
    },
    "slideshow": {
     "slide_type": "subslide"
    }
   },
   "outputs": [],
   "source": [
    "class Dependencies(Dependencies):\n",
    "    def format_var(self, var: Node, current_func: Optional[Callable] = None) -> str:\n",
    "        \"\"\"Return string for `var` in `current_func`.\"\"\"\n",
    "        name, location = var\n",
    "        func, lineno = location\n",
    "        if current_func and (func == current_func or func.__name__ == current_func.__name__):\n",
    "            return f\"{name} ({lineno})\"\n",
    "        else:\n",
    "            return f\"{name} ({func.__name__}:{lineno})\""
   ]
  },
  {
   "cell_type": "markdown",
   "metadata": {
    "slideshow": {
     "slide_type": "fragment"
    }
   },
   "source": [
    "`format_var()` is used extensively in the `__str__()` string representation of dependencies, listing all nodes and their data (`<=`) and control (`<-`) dependencies."
   ]
  },
  {
   "cell_type": "code",
   "execution_count": 37,
   "metadata": {
    "execution": {
     "iopub.execute_input": "2023-01-07T16:02:45.890335Z",
     "iopub.status.busy": "2023-01-07T16:02:45.889836Z",
     "iopub.status.idle": "2023-01-07T16:02:45.891227Z",
     "shell.execute_reply": "2023-01-07T16:02:45.891565Z"
    },
    "slideshow": {
     "slide_type": "subslide"
    }
   },
   "outputs": [],
   "source": [
    "class Dependencies(Dependencies):\n",
    "    def __str__(self) -> str:\n",
    "        \"\"\"Return string representation of dependencies\"\"\"\n",
    "        self.validate()\n",
    "\n",
    "        out = \"\"\n",
    "        for func in self.all_functions():\n",
    "            code_name = func.__name__\n",
    "\n",
    "            if out != \"\":\n",
    "                out += \"\\n\"\n",
    "            out += f\"{code_name}():\\n\"\n",
    "\n",
    "            all_vars = list(set(self.data.keys()) | set(self.control.keys()))\n",
    "            all_vars.sort(key=lambda var: var[1][1])\n",
    "\n",
    "            for var in all_vars:\n",
    "                (name, location) = var\n",
    "                var_func, var_lineno = location\n",
    "                var_code_name = var_func.__name__\n",
    "\n",
    "                if var_code_name != code_name:\n",
    "                    continue\n",
    "\n",
    "                all_deps = \"\"\n",
    "                for (source, arrow) in [(self.data, \"<=\"), (self.control, \"<-\")]:\n",
    "                    deps = \"\"\n",
    "                    for data_dep in source[var]:\n",
    "                        if deps == \"\":\n",
    "                            deps = f\" {arrow} \"\n",
    "                        else:\n",
    "                            deps += \", \"\n",
    "                        deps += self.format_var(data_dep, func)\n",
    "\n",
    "                    if deps != \"\":\n",
    "                        if all_deps != \"\":\n",
    "                            all_deps += \";\"\n",
    "                        all_deps += deps\n",
    "\n",
    "                if all_deps == \"\":\n",
    "                    continue\n",
    "\n",
    "                out += (\"    \" + \n",
    "                        self.format_var(var, func) +\n",
    "                        all_deps + \"\\n\")\n",
    "\n",
    "        return out"
   ]
  },
  {
   "cell_type": "markdown",
   "metadata": {
    "slideshow": {
     "slide_type": "subslide"
    }
   },
   "source": [
    "Here is a compact string representation of dependencies. We see how the (last) `middle() return value` has a data dependency to `y` in Line 1, and to the `<test>` in Line 5."
   ]
  },
  {
   "cell_type": "code",
   "execution_count": 38,
   "metadata": {
    "execution": {
     "iopub.execute_input": "2023-01-07T16:02:45.899824Z",
     "iopub.status.busy": "2023-01-07T16:02:45.899276Z",
     "iopub.status.idle": "2023-01-07T16:02:45.901917Z",
     "shell.execute_reply": "2023-01-07T16:02:45.902339Z"
    },
    "slideshow": {
     "slide_type": "fragment"
    }
   },
   "outputs": [
    {
     "name": "stdout",
     "output_type": "stream",
     "text": [
      "middle():\n",
      "    <test> (2) <= y (1), z (1)\n",
      "    <test> (3) <= y (1), x (1); <- <test> (2)\n",
      "    <test> (5) <= z (1), x (1); <- <test> (3)\n",
      "    <middle() return value> (6) <= y (1); <- <test> (5)\n",
      "\n"
     ]
    }
   ],
   "source": [
    "print(middle_deps())"
   ]
  },
  {
   "cell_type": "markdown",
   "metadata": {
    "slideshow": {
     "slide_type": "fragment"
    }
   },
   "source": [
    "The `__repr__()` method shows a raw form of dependencies, useful for creating dependencies from scratch."
   ]
  },
  {
   "cell_type": "code",
   "execution_count": 39,
   "metadata": {
    "execution": {
     "iopub.execute_input": "2023-01-07T16:02:45.907350Z",
     "iopub.status.busy": "2023-01-07T16:02:45.906828Z",
     "iopub.status.idle": "2023-01-07T16:02:45.908405Z",
     "shell.execute_reply": "2023-01-07T16:02:45.908695Z"
    },
    "slideshow": {
     "slide_type": "subslide"
    }
   },
   "outputs": [],
   "source": [
    "class Dependencies(Dependencies):\n",
    "    def repr_var(self, var: Node) -> str:\n",
    "        name, location = var\n",
    "        func, lineno = location\n",
    "        return f\"({repr(name)}, ({func.__name__}, {lineno}))\"\n",
    "\n",
    "    def repr_deps(self, var_set: Set[Node]) -> str:\n",
    "        if len(var_set) == 0:\n",
    "            return \"set()\"\n",
    "\n",
    "        return (\"{\" +\n",
    "                \", \".join(f\"{self.repr_var(var)}\"\n",
    "                          for var in var_set) +\n",
    "                \"}\")\n",
    "\n",
    "    def repr_dependencies(self, vars: Dependency) -> str:\n",
    "        return (\"{\\n        \" +\n",
    "                \",\\n        \".join(\n",
    "                    f\"{self.repr_var(var)}: {self.repr_deps(vars[var])}\"\n",
    "                    for var in vars) +\n",
    "                \"}\")\n",
    "\n",
    "    def __repr__(self) -> str:\n",
    "        \"\"\"Represent dependencies as a Python expression\"\"\"\n",
    "        # Useful for saving and restoring values\n",
    "        return (f\"Dependencies(\\n\" +\n",
    "                f\"    data={self.repr_dependencies(self.data)},\\n\" +\n",
    "                f\" control={self.repr_dependencies(self.control)})\")"
   ]
  },
  {
   "cell_type": "code",
   "execution_count": 40,
   "metadata": {
    "execution": {
     "iopub.execute_input": "2023-01-07T16:02:45.911203Z",
     "iopub.status.busy": "2023-01-07T16:02:45.910759Z",
     "iopub.status.idle": "2023-01-07T16:02:45.912574Z",
     "shell.execute_reply": "2023-01-07T16:02:45.912878Z"
    },
    "slideshow": {
     "slide_type": "subslide"
    }
   },
   "outputs": [
    {
     "name": "stdout",
     "output_type": "stream",
     "text": [
      "Dependencies(\n",
      "    data={\n",
      "        ('z', (middle, 1)): set(),\n",
      "        ('y', (middle, 1)): set(),\n",
      "        ('x', (middle, 1)): set(),\n",
      "        ('<test>', (middle, 2)): {('y', (middle, 1)), ('z', (middle, 1))},\n",
      "        ('<test>', (middle, 3)): {('y', (middle, 1)), ('x', (middle, 1))},\n",
      "        ('<test>', (middle, 5)): {('z', (middle, 1)), ('x', (middle, 1))},\n",
      "        ('<middle() return value>', (middle, 6)): {('y', (middle, 1))}},\n",
      " control={\n",
      "        ('z', (middle, 1)): set(),\n",
      "        ('y', (middle, 1)): set(),\n",
      "        ('x', (middle, 1)): set(),\n",
      "        ('<test>', (middle, 2)): set(),\n",
      "        ('<test>', (middle, 3)): {('<test>', (middle, 2))},\n",
      "        ('<test>', (middle, 5)): {('<test>', (middle, 3))},\n",
      "        ('<middle() return value>', (middle, 6)): {('<test>', (middle, 5))}})\n"
     ]
    }
   ],
   "source": [
    "print(repr(middle_deps()))"
   ]
  },
  {
   "cell_type": "markdown",
   "metadata": {
    "slideshow": {
     "slide_type": "subslide"
    }
   },
   "source": [
    "An even more useful representation comes when integrating these dependencies as comments into the code. The method `code(item_1, item_2, ...)` lists the given (function) items, including their dependencies; `code()` lists _all_ functions contained in the dependencies."
   ]
  },
  {
   "cell_type": "code",
   "execution_count": 41,
   "metadata": {
    "execution": {
     "iopub.execute_input": "2023-01-07T16:02:45.918634Z",
     "iopub.status.busy": "2023-01-07T16:02:45.918259Z",
     "iopub.status.idle": "2023-01-07T16:02:45.919657Z",
     "shell.execute_reply": "2023-01-07T16:02:45.919938Z"
    },
    "slideshow": {
     "slide_type": "subslide"
    }
   },
   "outputs": [],
   "source": [
    "class Dependencies(Dependencies):\n",
    "    def code(self, *items: Callable, mode: str = 'cd') -> None:\n",
    "        \"\"\"\n",
    "        List `items` on standard output, including dependencies as comments. \n",
    "        If `items` is empty, all included functions are listed.\n",
    "        `mode` can contain 'c' (draw control dependencies) and 'd' (draw data dependencies)\n",
    "        (default: 'cd').\n",
    "        \"\"\"\n",
    "\n",
    "        if len(items) == 0:\n",
    "            items = cast(Tuple[Callable], self.all_functions().keys())\n",
    "\n",
    "        for i, item in enumerate(items):\n",
    "            if i > 0:\n",
    "                print()\n",
    "            self._code(item, mode)\n",
    "\n",
    "    def _code(self, item: Callable, mode: str) -> None:\n",
    "        # The functions in dependencies may be (instrumented) copies\n",
    "        # of the original function. Find the function with the same name.\n",
    "        func = item\n",
    "        for fn in self.all_functions():\n",
    "            if fn == item or fn.__name__ == item.__name__:\n",
    "                func = fn\n",
    "                break\n",
    "\n",
    "        all_vars = self.all_vars()\n",
    "        slice_locations = set(location for (name, location) in all_vars)\n",
    "\n",
    "        source_lines, first_lineno = inspect.getsourcelines(func)\n",
    "\n",
    "        n = first_lineno\n",
    "        for line in source_lines:\n",
    "            line_location = (func, n)\n",
    "            if line_location in slice_locations:\n",
    "                prefix = \"* \"\n",
    "            else:\n",
    "                prefix = \"  \"\n",
    "\n",
    "            print(f\"{prefix}{n:4} \", end=\"\")\n",
    "\n",
    "            comment = \"\"\n",
    "            for (mode_control, source, arrow) in [\n",
    "                ('d', self.data, '<='),\n",
    "                ('c', self.control, '<-')\n",
    "            ]:\n",
    "                if mode_control not in mode:\n",
    "                    continue\n",
    "\n",
    "                deps = \"\"\n",
    "                for var in source:\n",
    "                    name, location = var\n",
    "                    if location == line_location:\n",
    "                        for dep_var in source[var]:\n",
    "                            if deps == \"\":\n",
    "                                deps = arrow + \" \"\n",
    "                            else:\n",
    "                                deps += \", \"\n",
    "                            deps += self.format_var(dep_var, item)\n",
    "\n",
    "                if deps != \"\":\n",
    "                    if comment != \"\":\n",
    "                        comment += \"; \"\n",
    "                    comment += deps\n",
    "\n",
    "            if comment != \"\":\n",
    "                line = line.rstrip() + \"  # \" + comment\n",
    "\n",
    "            print_content(line.rstrip(), '.py')\n",
    "            print()\n",
    "            n += 1"
   ]
  },
  {
   "cell_type": "markdown",
   "metadata": {
    "slideshow": {
     "slide_type": "subslide"
    }
   },
   "source": [
    "#### End of Excursion"
   ]
  },
  {
   "cell_type": "markdown",
   "metadata": {
    "slideshow": {
     "slide_type": "subslide"
    }
   },
   "source": [
    "The following listing shows such an integration. For each executed line (`*`), we see its data (`<=`) and control (`<-`) dependencies, listing the associated variables and line numbers. The comment\n",
    "\n",
    "```python\n",
    "# <= y (1); <- <test> (5)\n",
    "```\n",
    "\n",
    "for Line 6, for instance, states that the return value is data dependent on the value of `y` in Line 1, and control dependent on the test in Line 5.\n",
    "\n",
    "Again, one can easily follow these dependencies back to track where a value came from (data dependencies) and why a statement was executed (control dependency)."
   ]
  },
  {
   "cell_type": "code",
   "execution_count": 42,
   "metadata": {
    "execution": {
     "iopub.execute_input": "2023-01-07T16:02:45.946930Z",
     "iopub.status.busy": "2023-01-07T16:02:45.921971Z",
     "iopub.status.idle": "2023-01-07T16:02:46.367757Z",
     "shell.execute_reply": "2023-01-07T16:02:46.368006Z"
    },
    "slideshow": {
     "slide_type": "subslide"
    }
   },
   "outputs": [
    {
     "name": "stdout",
     "output_type": "stream",
     "text": [
      "*    1 \u001b[34mdef\u001b[39;49;00m \u001b[32mmiddle\u001b[39;49;00m(x, y, z):  \u001b[37m# type: ignore\u001b[39;49;00m\u001b[37m\u001b[39;49;00m\n",
      "*    2     \u001b[34mif\u001b[39;49;00m y < z:  \u001b[37m# <= y (1), z (1)\u001b[39;49;00m\u001b[37m\u001b[39;49;00m\n",
      "*    3         \u001b[34mif\u001b[39;49;00m x < y:  \u001b[37m# <= y (1), x (1); <- <test> (2)\u001b[39;49;00m\u001b[37m\u001b[39;49;00m\n",
      "     4             \u001b[34mreturn\u001b[39;49;00m y\u001b[37m\u001b[39;49;00m\n",
      "*    5         \u001b[34melif\u001b[39;49;00m x < z:  \u001b[37m# <= z (1), x (1); <- <test> (3)\u001b[39;49;00m\u001b[37m\u001b[39;49;00m\n",
      "*    6             \u001b[34mreturn\u001b[39;49;00m y  \u001b[37m# <= y (1); <- <test> (5)\u001b[39;49;00m\u001b[37m\u001b[39;49;00m\n",
      "     7     \u001b[34melse\u001b[39;49;00m:\u001b[37m\u001b[39;49;00m\n",
      "     8         \u001b[34mif\u001b[39;49;00m x > y:\u001b[37m\u001b[39;49;00m\n",
      "     9             \u001b[34mreturn\u001b[39;49;00m y\u001b[37m\u001b[39;49;00m\n",
      "    10         \u001b[34melif\u001b[39;49;00m x > z:\u001b[37m\u001b[39;49;00m\n",
      "    11             \u001b[34mreturn\u001b[39;49;00m x\u001b[37m\u001b[39;49;00m\n",
      "    12     \u001b[34mreturn\u001b[39;49;00m z\u001b[37m\u001b[39;49;00m\n"
     ]
    }
   ],
   "source": [
    "# ignore\n",
    "middle_deps().code()  # type: ignore"
   ]
  },
  {
   "cell_type": "markdown",
   "metadata": {
    "slideshow": {
     "slide_type": "subslide"
    }
   },
   "source": [
    "One important aspect of dependencies is that they not only point to specific sources and causes of failures – but that they also _rule out_ parts of program and state as failures.\n",
    "\n",
    "* In the above code, Lines 8 and later have no influence on the output, simply because they were not executed.\n",
    "* Furthermore, we see that we can start our investigation with Line 6, because that is the last one executed.\n",
    "* The data dependencies tell us that no statement has interfered with the value of `y` between the function call and its return.\n",
    "* Hence, the error must be in the conditions or the final `return` statement.\n",
    "\n",
    "With this in mind, recall that our original invocation was `middle(2, 1, 3)`. Why and how is the above code wrong?"
   ]
  },
  {
   "cell_type": "code",
   "execution_count": 43,
   "metadata": {
    "execution": {
     "iopub.execute_input": "2023-01-07T16:02:46.372688Z",
     "iopub.status.busy": "2023-01-07T16:02:46.369239Z",
     "iopub.status.idle": "2023-01-07T16:02:46.374189Z",
     "shell.execute_reply": "2023-01-07T16:02:46.374445Z"
    },
    "slideshow": {
     "slide_type": "subslide"
    }
   },
   "outputs": [
    {
     "data": {
      "text/html": [
       "\n",
       "    \n",
       "    <script>\n",
       "    var bad_answers = new Map();\n",
       "\n",
       "    function answer(quiz_id) {\n",
       "        ans = 0;\n",
       "        for (i = 1;; i++) {\n",
       "            checkbox = document.getElementById(quiz_id + \"-\" + i.toString());\n",
       "            if (!checkbox)\n",
       "                break;\n",
       "            if (checkbox.checked)\n",
       "                ans |= (1 << i);\n",
       "        }\n",
       "        return ans;\n",
       "    }\n",
       "    function check_selection(quiz_id, correct_answer, multiple_choice, hint) {\n",
       "        given_answer = answer(quiz_id);\n",
       "        if (given_answer == correct_answer)\n",
       "        {\n",
       "            document.getElementById(quiz_id + \"-submit\").value = \"Correct!\";\n",
       "            document.getElementById(quiz_id + \"-hint\").innerHTML = \"\";\n",
       "\n",
       "            for (i = 1;; i++) {\n",
       "                checkbox = document.getElementById(quiz_id + \"-\" + i.toString());\n",
       "                label = document.getElementById(quiz_id + \"-\" + i.toString() + \"-label\")\n",
       "                if (!checkbox)\n",
       "                    break;\n",
       "    \n",
       "                if (checkbox.checked) {\n",
       "                    label.style.fontWeight = \"bold\";\n",
       "                }\n",
       "                else {\n",
       "                    label.style.textDecoration = \"line-through\";\n",
       "                }\n",
       "            }\n",
       "        }\n",
       "        else \n",
       "        {\n",
       "            document.getElementById(quiz_id + \"-submit\").value = \"Try again\";\n",
       "            \n",
       "            if (!bad_answers.has(quiz_id)) {\n",
       "                bad_answers.set(quiz_id, 1);\n",
       "            }\n",
       "            else {\n",
       "                bad_answers.set(quiz_id, bad_answers.get(quiz_id) + 1);\n",
       "            }\n",
       "\n",
       "            if (bad_answers.get(quiz_id) >= 2 && hint.length > 0) {\n",
       "                document.getElementById(quiz_id + \"-hint\").innerHTML = \n",
       "                    \"&nbsp;&nbsp;(Hint: <code>\" + hint + \"</code>)\";\n",
       "            }\n",
       "\n",
       "            if (!multiple_choice) {\n",
       "                for (i = 1;; i++) {\n",
       "                    checkbox = document.getElementById(quiz_id + \"-\" + i.toString());\n",
       "                    label = document.getElementById(quiz_id + \"-\" + i.toString() + \"-label\")\n",
       "\n",
       "                    if (!checkbox)\n",
       "                        break;\n",
       "                    if (checkbox.checked) {\n",
       "                        label.style.textDecoration = \"line-through\";\n",
       "                    }\n",
       "                }\n",
       "            }\n",
       "        }\n",
       "    }\n",
       "    function clear_selection(quiz_id) {\n",
       "        document.getElementById(quiz_id + \"-submit\").value = \"Submit\";\n",
       "        document.getElementById(quiz_id + \"-hint\").innerHTML = \"\";\n",
       "    }\n",
       "    </script>\n",
       "    \n",
       "    <div class=\"quiz\">\n",
       "    <h3 class=\"quiz_title\">Quiz</h3>\n",
       "    <p>\n",
       "    <div class=\"quiz_question\">Which of the following <code>middle()</code> code lines should be fixed?</div>\n",
       "    </p>\n",
       "    <p>\n",
       "    <div class=\"quiz_options\" title=\"Pick a choice.\">\n",
       "    \n",
       "        <input type=\"radio\" name=\"b9f0b852-8ea4-11ed-b688-6298cf1a5790\" id=\"b9f0b852-8ea4-11ed-b688-6298cf1a5790-1\" onclick=\"clear_selection('b9f0b852-8ea4-11ed-b688-6298cf1a5790')\">\n",
       "        <label id=\"b9f0b852-8ea4-11ed-b688-6298cf1a5790-1-label\" for=\"b9f0b852-8ea4-11ed-b688-6298cf1a5790-1\">Line 2: <code>if y &lt; z:</code></label><br>\n",
       "    \n",
       "        <input type=\"radio\" name=\"b9f0b852-8ea4-11ed-b688-6298cf1a5790\" id=\"b9f0b852-8ea4-11ed-b688-6298cf1a5790-2\" onclick=\"clear_selection('b9f0b852-8ea4-11ed-b688-6298cf1a5790')\">\n",
       "        <label id=\"b9f0b852-8ea4-11ed-b688-6298cf1a5790-2-label\" for=\"b9f0b852-8ea4-11ed-b688-6298cf1a5790-2\">Line 3: <code>if x &lt; y:</code></label><br>\n",
       "    \n",
       "        <input type=\"radio\" name=\"b9f0b852-8ea4-11ed-b688-6298cf1a5790\" id=\"b9f0b852-8ea4-11ed-b688-6298cf1a5790-3\" onclick=\"clear_selection('b9f0b852-8ea4-11ed-b688-6298cf1a5790')\">\n",
       "        <label id=\"b9f0b852-8ea4-11ed-b688-6298cf1a5790-3-label\" for=\"b9f0b852-8ea4-11ed-b688-6298cf1a5790-3\">Line 5: <code>elif x &lt; z:</code></label><br>\n",
       "    \n",
       "        <input type=\"radio\" name=\"b9f0b852-8ea4-11ed-b688-6298cf1a5790\" id=\"b9f0b852-8ea4-11ed-b688-6298cf1a5790-4\" onclick=\"clear_selection('b9f0b852-8ea4-11ed-b688-6298cf1a5790')\">\n",
       "        <label id=\"b9f0b852-8ea4-11ed-b688-6298cf1a5790-4-label\" for=\"b9f0b852-8ea4-11ed-b688-6298cf1a5790-4\">Line 6: <code>return z</code></label><br>\n",
       "    \n",
       "    </div>\n",
       "    </p>\n",
       "    <input id=\"b9f0b852-8ea4-11ed-b688-6298cf1a5790-submit\" type=\"submit\" value=\"Submit\" onclick=\"check_selection('b9f0b852-8ea4-11ed-b688-6298cf1a5790', 16, 0, '(1 ** 0 + 1 ** 1) ** (1 ** 2 + 1 ** 3)')\">\n",
       "    <span class=\"quiz_hint\" id=\"b9f0b852-8ea4-11ed-b688-6298cf1a5790-hint\"></span>\n",
       "    </div>\n",
       "    "
      ],
      "text/plain": [
       "<IPython.core.display.HTML object>"
      ]
     },
     "execution_count": 43,
     "metadata": {},
     "output_type": "execute_result"
    }
   ],
   "source": [
    "quiz(\"Which of the following `middle()` code lines should be fixed?\",\n",
    "    [\n",
    "        \"Line 2: `if y < z:`\",\n",
    "        \"Line 3: `if x < y:`\",\n",
    "        \"Line 5: `elif x < z:`\",\n",
    "        \"Line 6: `return z`\",\n",
    "    ], '(1 ** 0 + 1 ** 1) ** (1 ** 2 + 1 ** 3)')"
   ]
  },
  {
   "cell_type": "markdown",
   "metadata": {
    "slideshow": {
     "slide_type": "fragment"
    }
   },
   "source": [
    "Indeed, from the controlling conditions, we see that `y < z`, `x >= y`, and `x < z` all hold. Hence, `y <= x < z` holds, and it is `x`, not `y`, that should be returned."
   ]
  },
  {
   "cell_type": "markdown",
   "metadata": {
    "slideshow": {
     "slide_type": "slide"
    }
   },
   "source": [
    "## Slices\n",
    "\n",
    "Given a dependency graph for a particular variable, we can identify the subset of the program that could have influenced it – the so-called _slice_. In the above code listing, these code locations are highlighted with `*` characters. Only these locations are part of the slice."
   ]
  },
  {
   "attachments": {},
   "cell_type": "markdown",
   "metadata": {
    "slideshow": {
     "slide_type": "subslide"
    }
   },
   "source": [
    "Slices are central to debugging for two reasons:\n",
    "\n",
    "* First, they _rule out_ those locations of the program that could _not_ have an effect on the failure. Hence, these locations need not be investigated as it comes to searching for the defect. Nor do they need to be considered for a fix, as any change outside the program slice by construction cannot affect the failure.\n",
    "* Second, they bring together possible origins that may be scattered across the code. Many dependencies in program code are _non-local_, with references to functions, classes, and modules defined in other locations, files, or libraries. A slice brings together all those locations in a single whole."
   ]
  },
  {
   "cell_type": "markdown",
   "metadata": {
    "slideshow": {
     "slide_type": "subslide"
    }
   },
   "source": [
    "Here is an example of a slice – this time for our well-known `remove_html_markup()` function from [the introduction to debugging](Intro_Debugging.ipynb):"
   ]
  },
  {
   "cell_type": "code",
   "execution_count": 44,
   "metadata": {
    "execution": {
     "iopub.execute_input": "2023-01-07T16:02:46.376639Z",
     "iopub.status.busy": "2023-01-07T16:02:46.376248Z",
     "iopub.status.idle": "2023-01-07T16:02:46.377520Z",
     "shell.execute_reply": "2023-01-07T16:02:46.377789Z"
    },
    "slideshow": {
     "slide_type": "skip"
    }
   },
   "outputs": [],
   "source": [
    "from Intro_Debugging import remove_html_markup"
   ]
  },
  {
   "cell_type": "code",
   "execution_count": 45,
   "metadata": {
    "execution": {
     "iopub.execute_input": "2023-01-07T16:02:46.402271Z",
     "iopub.status.busy": "2023-01-07T16:02:46.385972Z",
     "iopub.status.idle": "2023-01-07T16:02:46.418220Z",
     "shell.execute_reply": "2023-01-07T16:02:46.418488Z"
    },
    "slideshow": {
     "slide_type": "subslide"
    }
   },
   "outputs": [
    {
     "name": "stdout",
     "output_type": "stream",
     "text": [
      "\u001b[34mdef\u001b[39;49;00m \u001b[32mremove_html_markup\u001b[39;49;00m(s):  \u001b[37m# type: ignore\u001b[39;49;00m\u001b[37m\u001b[39;49;00m\n",
      "    tag = \u001b[34mFalse\u001b[39;49;00m\u001b[37m\u001b[39;49;00m\n",
      "    quote = \u001b[34mFalse\u001b[39;49;00m\u001b[37m\u001b[39;49;00m\n",
      "    out = \u001b[33m\"\u001b[39;49;00m\u001b[33m\"\u001b[39;49;00m\u001b[37m\u001b[39;49;00m\n",
      "\u001b[37m\u001b[39;49;00m\n",
      "    \u001b[34mfor\u001b[39;49;00m c \u001b[35min\u001b[39;49;00m s:\u001b[37m\u001b[39;49;00m\n",
      "        \u001b[34massert\u001b[39;49;00m tag \u001b[35mor\u001b[39;49;00m \u001b[35mnot\u001b[39;49;00m quote\u001b[37m\u001b[39;49;00m\n",
      "\u001b[37m\u001b[39;49;00m\n",
      "        \u001b[34mif\u001b[39;49;00m c == \u001b[33m'\u001b[39;49;00m\u001b[33m<\u001b[39;49;00m\u001b[33m'\u001b[39;49;00m \u001b[35mand\u001b[39;49;00m \u001b[35mnot\u001b[39;49;00m quote:\u001b[37m\u001b[39;49;00m\n",
      "            tag = \u001b[34mTrue\u001b[39;49;00m\u001b[37m\u001b[39;49;00m\n",
      "        \u001b[34melif\u001b[39;49;00m c == \u001b[33m'\u001b[39;49;00m\u001b[33m>\u001b[39;49;00m\u001b[33m'\u001b[39;49;00m \u001b[35mand\u001b[39;49;00m \u001b[35mnot\u001b[39;49;00m quote:\u001b[37m\u001b[39;49;00m\n",
      "            tag = \u001b[34mFalse\u001b[39;49;00m\u001b[37m\u001b[39;49;00m\n",
      "        \u001b[34melif\u001b[39;49;00m (c == \u001b[33m'\u001b[39;49;00m\u001b[33m\"\u001b[39;49;00m\u001b[33m'\u001b[39;49;00m \u001b[35mor\u001b[39;49;00m c == \u001b[33m\"\u001b[39;49;00m\u001b[33m'\u001b[39;49;00m\u001b[33m\"\u001b[39;49;00m) \u001b[35mand\u001b[39;49;00m tag:\u001b[37m\u001b[39;49;00m\n",
      "            quote = \u001b[35mnot\u001b[39;49;00m quote\u001b[37m\u001b[39;49;00m\n",
      "        \u001b[34melif\u001b[39;49;00m \u001b[35mnot\u001b[39;49;00m tag:\u001b[37m\u001b[39;49;00m\n",
      "            out = out + c\u001b[37m\u001b[39;49;00m\n",
      "\u001b[37m\u001b[39;49;00m\n",
      "    \u001b[34mreturn\u001b[39;49;00m out\u001b[37m\u001b[39;49;00m"
     ]
    }
   ],
   "source": [
    "print_content(inspect.getsource(remove_html_markup), '.py')"
   ]
  },
  {
   "cell_type": "markdown",
   "metadata": {
    "slideshow": {
     "slide_type": "subslide"
    }
   },
   "source": [
    "When we invoke `remove_html_markup()` as follows..."
   ]
  },
  {
   "cell_type": "code",
   "execution_count": 46,
   "metadata": {
    "execution": {
     "iopub.execute_input": "2023-01-07T16:02:46.420866Z",
     "iopub.status.busy": "2023-01-07T16:02:46.420527Z",
     "iopub.status.idle": "2023-01-07T16:02:46.422200Z",
     "shell.execute_reply": "2023-01-07T16:02:46.422375Z"
    },
    "slideshow": {
     "slide_type": "fragment"
    }
   },
   "outputs": [
    {
     "data": {
      "text/plain": [
       "'bar'"
      ]
     },
     "execution_count": 46,
     "metadata": {},
     "output_type": "execute_result"
    }
   ],
   "source": [
    "remove_html_markup('<foo>bar</foo>')"
   ]
  },
  {
   "cell_type": "markdown",
   "metadata": {
    "slideshow": {
     "slide_type": "fragment"
    }
   },
   "source": [
    "... we obtain the following dependencies:"
   ]
  },
  {
   "cell_type": "code",
   "execution_count": 47,
   "metadata": {
    "execution": {
     "iopub.execute_input": "2023-01-07T16:02:46.428079Z",
     "iopub.status.busy": "2023-01-07T16:02:46.427598Z",
     "iopub.status.idle": "2023-01-07T16:02:46.429028Z",
     "shell.execute_reply": "2023-01-07T16:02:46.429276Z"
    },
    "slideshow": {
     "slide_type": "fragment"
    }
   },
   "outputs": [],
   "source": [
    "# ignore\n",
    "def remove_html_markup_deps() -> Dependencies:\n",
    "    return Dependencies({('s', (remove_html_markup, 136)): set(), ('tag', (remove_html_markup, 137)): set(), ('quote', (remove_html_markup, 138)): set(), ('out', (remove_html_markup, 139)): set(), ('c', (remove_html_markup, 141)): {('s', (remove_html_markup, 136))}, ('<test>', (remove_html_markup, 144)): {('quote', (remove_html_markup, 138)), ('c', (remove_html_markup, 141))}, ('tag', (remove_html_markup, 145)): set(), ('<test>', (remove_html_markup, 146)): {('quote', (remove_html_markup, 138)), ('c', (remove_html_markup, 141))}, ('<test>', (remove_html_markup, 148)): {('c', (remove_html_markup, 141))}, ('<test>', (remove_html_markup, 150)): {('tag', (remove_html_markup, 147)), ('tag', (remove_html_markup, 145))}, ('tag', (remove_html_markup, 147)): set(), ('out', (remove_html_markup, 151)): {('out', (remove_html_markup, 151)), ('c', (remove_html_markup, 141)), ('out', (remove_html_markup, 139))}, ('<remove_html_markup() return value>', (remove_html_markup, 153)): {('<test>', (remove_html_markup, 146)), ('out', (remove_html_markup, 151))}}, {('s', (remove_html_markup, 136)): set(), ('tag', (remove_html_markup, 137)): set(), ('quote', (remove_html_markup, 138)): set(), ('out', (remove_html_markup, 139)): set(), ('c', (remove_html_markup, 141)): set(), ('<test>', (remove_html_markup, 144)): set(), ('tag', (remove_html_markup, 145)): {('<test>', (remove_html_markup, 144))}, ('<test>', (remove_html_markup, 146)): {('<test>', (remove_html_markup, 144))}, ('<test>', (remove_html_markup, 148)): {('<test>', (remove_html_markup, 146))}, ('<test>', (remove_html_markup, 150)): {('<test>', (remove_html_markup, 148))}, ('tag', (remove_html_markup, 147)): {('<test>', (remove_html_markup, 146))}, ('out', (remove_html_markup, 151)): {('<test>', (remove_html_markup, 150))}, ('<remove_html_markup() return value>', (remove_html_markup, 153)): set()})"
   ]
  },
  {
   "cell_type": "code",
   "execution_count": 48,
   "metadata": {
    "execution": {
     "iopub.execute_input": "2023-01-07T16:02:46.438717Z",
     "iopub.status.busy": "2023-01-07T16:02:46.438367Z",
     "iopub.status.idle": "2023-01-07T16:02:46.766987Z",
     "shell.execute_reply": "2023-01-07T16:02:46.767365Z"
    },
    "slideshow": {
     "slide_type": "fragment"
    }
   },
   "outputs": [
    {
     "data": {
      "image/svg+xml": [
       "<?xml version=\"1.0\" encoding=\"UTF-8\" standalone=\"no\"?>\n",
       "<!DOCTYPE svg PUBLIC \"-//W3C//DTD SVG 1.1//EN\"\n",
       " \"http://www.w3.org/Graphics/SVG/1.1/DTD/svg11.dtd\">\n",
       "<!-- Generated by graphviz version 7.0.2 (20221119.0110)\n",
       " -->\n",
       "<!-- Title: dependencies Pages: 1 -->\n",
       "<svg width=\"395pt\" height=\"960pt\"\n",
       " viewBox=\"0.00 0.00 395.04 960.00\" xmlns=\"http://www.w3.org/2000/svg\" xmlns:xlink=\"http://www.w3.org/1999/xlink\">\n",
       "<g id=\"graph0\" class=\"graph\" transform=\"scale(1 1) rotate(0) translate(4 956)\">\n",
       "<title>dependencies</title>\n",
       "<polygon fill=\"white\" stroke=\"none\" points=\"-4,4 -4,-956 391.04,-956 391.04,4 -4,4\"/>\n",
       "<!-- test_functionremove_html_markupat0x107aa6a70_144 -->\n",
       "<g id=\"node1\" class=\"node\">\n",
       "<title>test_functionremove_html_markupat0x107aa6a70_144</title>\n",
       "<g id=\"a_node1\"><a xlink:title=\"remove_html_markup:144\">\n",
       "<polygon fill=\"peachpuff\" stroke=\"black\" points=\"255.04,-572 123.04,-572 123.04,-532 255.04,-532 255.04,-572\"/>\n",
       "<text text-anchor=\"start\" x=\"164.04\" y=\"-557.8\" font-family=\"Courier,monospace\" font-weight=\"bold\" font-style=\"italic\" font-size=\"14.00\">&lt;test&gt;</text>\n",
       "<text text-anchor=\"start\" x=\"131.04\" y=\"-538.8\" font-family=\"Courier,monospace\" font-size=\"9.00\">&lt;remove_html_markup()&gt;</text>\n",
       "</a>\n",
       "</g>\n",
       "</g>\n",
       "<!-- test_functionremove_html_markupat0x107aa6a70_146 -->\n",
       "<g id=\"node4\" class=\"node\">\n",
       "<title>test_functionremove_html_markupat0x107aa6a70_146</title>\n",
       "<g id=\"a_node4\"><a xlink:title=\"remove_html_markup:146\">\n",
       "<polygon fill=\"peachpuff\" stroke=\"black\" points=\"161.04,-420 29.04,-420 29.04,-380 161.04,-380 161.04,-420\"/>\n",
       "<text text-anchor=\"start\" x=\"70.04\" y=\"-405.8\" font-family=\"Courier,monospace\" font-weight=\"bold\" font-style=\"italic\" font-size=\"14.00\">&lt;test&gt;</text>\n",
       "<text text-anchor=\"start\" x=\"37.04\" y=\"-386.8\" font-family=\"Courier,monospace\" font-size=\"9.00\">&lt;remove_html_markup()&gt;</text>\n",
       "</a>\n",
       "</g>\n",
       "</g>\n",
       "<!-- test_functionremove_html_markupat0x107aa6a70_144&#45;&gt;test_functionremove_html_markupat0x107aa6a70_146 -->\n",
       "<g id=\"edge5\" class=\"edge\">\n",
       "<title>test_functionremove_html_markupat0x107aa6a70_144&#45;&gt;test_functionremove_html_markupat0x107aa6a70_146</title>\n",
       "<path fill=\"none\" stroke=\"grey\" stroke-dasharray=\"5,2\" d=\"M151.83,-531.6C137.95,-522.57 123.33,-510.57 114.04,-496 101.83,-476.86 97.21,-451.49 95.58,-431.78\"/>\n",
       "<polygon fill=\"grey\" stroke=\"grey\" points=\"99.07,-431.64 94.99,-421.86 92.09,-432.05 99.07,-431.64\"/>\n",
       "</g>\n",
       "<!-- tag_functionremove_html_markupat0x107aa6a70_145 -->\n",
       "<g id=\"node12\" class=\"node\">\n",
       "<title>tag_functionremove_html_markupat0x107aa6a70_145</title>\n",
       "<g id=\"a_node12\"><a xlink:title=\"remove_html_markup:145\">\n",
       "<polygon fill=\"peachpuff\" stroke=\"black\" points=\"255.04,-496 123.04,-496 123.04,-456 255.04,-456 255.04,-496\"/>\n",
       "<text text-anchor=\"start\" x=\"176.54\" y=\"-481.8\" font-family=\"Courier,monospace\" font-weight=\"bold\" font-size=\"14.00\">tag</text>\n",
       "<text text-anchor=\"start\" x=\"131.04\" y=\"-462.8\" font-family=\"Courier,monospace\" font-size=\"9.00\">&lt;remove_html_markup()&gt;</text>\n",
       "</a>\n",
       "</g>\n",
       "</g>\n",
       "<!-- test_functionremove_html_markupat0x107aa6a70_144&#45;&gt;tag_functionremove_html_markupat0x107aa6a70_145 -->\n",
       "<g id=\"edge17\" class=\"edge\">\n",
       "<title>test_functionremove_html_markupat0x107aa6a70_144&#45;&gt;tag_functionremove_html_markupat0x107aa6a70_145</title>\n",
       "<path fill=\"none\" stroke=\"grey\" stroke-dasharray=\"5,2\" d=\"M183.02,-531.56C182.36,-524.25 182.15,-515.75 182.38,-507.67\"/>\n",
       "<polygon fill=\"grey\" stroke=\"grey\" points=\"185.86,-508.01 182.94,-497.82 178.87,-507.61 185.86,-508.01\"/>\n",
       "</g>\n",
       "<!-- test_functionremove_html_markupat0x107aa6a70_144&#45;&gt;tag_functionremove_html_markupat0x107aa6a70_145 -->\n",
       "<!-- quote_functionremove_html_markupat0x107aa6a70_138 -->\n",
       "<g id=\"node2\" class=\"node\">\n",
       "<title>quote_functionremove_html_markupat0x107aa6a70_138</title>\n",
       "<g id=\"a_node2\"><a xlink:title=\"remove_html_markup:138\">\n",
       "<polygon fill=\"peachpuff\" stroke=\"black\" points=\"199.04,-800 67.04,-800 67.04,-760 199.04,-760 199.04,-800\"/>\n",
       "<text text-anchor=\"start\" x=\"112.04\" y=\"-785.8\" font-family=\"Courier,monospace\" font-weight=\"bold\" font-size=\"14.00\">quote</text>\n",
       "<text text-anchor=\"start\" x=\"75.04\" y=\"-766.8\" font-family=\"Courier,monospace\" font-size=\"9.00\">&lt;remove_html_markup()&gt;</text>\n",
       "</a>\n",
       "</g>\n",
       "</g>\n",
       "<!-- quote_functionremove_html_markupat0x107aa6a70_138&#45;&gt;test_functionremove_html_markupat0x107aa6a70_144 -->\n",
       "<g id=\"edge1\" class=\"edge\">\n",
       "<title>quote_functionremove_html_markupat0x107aa6a70_138&#45;&gt;test_functionremove_html_markupat0x107aa6a70_144</title>\n",
       "<path fill=\"none\" stroke=\"black\" d=\"M132.24,-759.6C131.54,-727.15 132.86,-660.3 152.04,-608 155.39,-598.86 160.57,-589.75 166,-581.66\"/>\n",
       "<polygon fill=\"black\" stroke=\"black\" points=\"168.8,-583.75 171.76,-573.58 163.1,-579.69 168.8,-583.75\"/>\n",
       "</g>\n",
       "<!-- quote_functionremove_html_markupat0x107aa6a70_138&#45;&gt;test_functionremove_html_markupat0x107aa6a70_146 -->\n",
       "<g id=\"edge3\" class=\"edge\">\n",
       "<title>quote_functionremove_html_markupat0x107aa6a70_138&#45;&gt;test_functionremove_html_markupat0x107aa6a70_146</title>\n",
       "<path fill=\"none\" stroke=\"black\" d=\"M104.57,-759.54C70.8,-733.91 19.04,-685.42 19.04,-629 19.04,-629 19.04,-629 19.04,-551 19.04,-504.37 48.62,-457.54 70.87,-428.91\"/>\n",
       "<polygon fill=\"black\" stroke=\"black\" points=\"73.32,-431.45 76.85,-421.46 67.86,-427.07 73.32,-431.45\"/>\n",
       "</g>\n",
       "<!-- out_functionremove_html_markupat0x107aa6a70_139 -->\n",
       "<g id=\"node9\" class=\"node\">\n",
       "<title>out_functionremove_html_markupat0x107aa6a70_139</title>\n",
       "<g id=\"a_node9\"><a xlink:title=\"remove_html_markup:139\">\n",
       "<polygon fill=\"peachpuff\" stroke=\"black\" points=\"387.04,-724 255.04,-724 255.04,-684 387.04,-684 387.04,-724\"/>\n",
       "<text text-anchor=\"start\" x=\"308.54\" y=\"-709.8\" font-family=\"Courier,monospace\" font-weight=\"bold\" font-size=\"14.00\">out</text>\n",
       "<text text-anchor=\"start\" x=\"263.04\" y=\"-690.8\" font-family=\"Courier,monospace\" font-size=\"9.00\">&lt;remove_html_markup()&gt;</text>\n",
       "</a>\n",
       "</g>\n",
       "</g>\n",
       "<!-- quote_functionremove_html_markupat0x107aa6a70_138&#45;&gt;out_functionremove_html_markupat0x107aa6a70_139 -->\n",
       "<!-- c_functionremove_html_markupat0x107aa6a70_141 -->\n",
       "<g id=\"node3\" class=\"node\">\n",
       "<title>c_functionremove_html_markupat0x107aa6a70_141</title>\n",
       "<g id=\"a_node3\"><a xlink:title=\"remove_html_markup:141\">\n",
       "<polygon fill=\"peachpuff\" stroke=\"black\" points=\"293.04,-648 161.04,-648 161.04,-608 293.04,-608 293.04,-648\"/>\n",
       "<text text-anchor=\"start\" x=\"222.54\" y=\"-633.8\" font-family=\"Courier,monospace\" font-weight=\"bold\" font-size=\"14.00\">c</text>\n",
       "<text text-anchor=\"start\" x=\"169.04\" y=\"-614.8\" font-family=\"Courier,monospace\" font-size=\"9.00\">&lt;remove_html_markup()&gt;</text>\n",
       "</a>\n",
       "</g>\n",
       "</g>\n",
       "<!-- c_functionremove_html_markupat0x107aa6a70_141&#45;&gt;test_functionremove_html_markupat0x107aa6a70_144 -->\n",
       "<g id=\"edge2\" class=\"edge\">\n",
       "<title>c_functionremove_html_markupat0x107aa6a70_141&#45;&gt;test_functionremove_html_markupat0x107aa6a70_144</title>\n",
       "<path fill=\"none\" stroke=\"black\" d=\"M211.03,-607.56C206.42,-599.91 201.62,-590.96 197.58,-582.55\"/>\n",
       "<polygon fill=\"black\" stroke=\"black\" points=\"200.89,-581.35 193.57,-573.69 194.51,-584.24 200.89,-581.35\"/>\n",
       "</g>\n",
       "<!-- c_functionremove_html_markupat0x107aa6a70_141&#45;&gt;test_functionremove_html_markupat0x107aa6a70_144 -->\n",
       "<!-- c_functionremove_html_markupat0x107aa6a70_141&#45;&gt;test_functionremove_html_markupat0x107aa6a70_146 -->\n",
       "<g id=\"edge4\" class=\"edge\">\n",
       "<title>c_functionremove_html_markupat0x107aa6a70_141&#45;&gt;test_functionremove_html_markupat0x107aa6a70_146</title>\n",
       "<path fill=\"none\" stroke=\"black\" d=\"M163.19,-607.53C145.03,-599.2 126.75,-587.68 114.04,-572 81.78,-532.22 84.21,-469.03 89.33,-431.62\"/>\n",
       "<polygon fill=\"black\" stroke=\"black\" points=\"92.76,-432.36 90.82,-421.94 85.84,-431.3 92.76,-432.36\"/>\n",
       "</g>\n",
       "<!-- test_functionremove_html_markupat0x107aa6a70_148 -->\n",
       "<g id=\"node7\" class=\"node\">\n",
       "<title>test_functionremove_html_markupat0x107aa6a70_148</title>\n",
       "<g id=\"a_node7\"><a xlink:title=\"remove_html_markup:148\">\n",
       "<polygon fill=\"peachpuff\" stroke=\"black\" points=\"255.04,-268 123.04,-268 123.04,-228 255.04,-228 255.04,-268\"/>\n",
       "<text text-anchor=\"start\" x=\"164.04\" y=\"-253.8\" font-family=\"Courier,monospace\" font-weight=\"bold\" font-style=\"italic\" font-size=\"14.00\">&lt;test&gt;</text>\n",
       "<text text-anchor=\"start\" x=\"131.04\" y=\"-234.8\" font-family=\"Courier,monospace\" font-size=\"9.00\">&lt;remove_html_markup()&gt;</text>\n",
       "</a>\n",
       "</g>\n",
       "</g>\n",
       "<!-- c_functionremove_html_markupat0x107aa6a70_141&#45;&gt;test_functionremove_html_markupat0x107aa6a70_148 -->\n",
       "<g id=\"edge6\" class=\"edge\">\n",
       "<title>c_functionremove_html_markupat0x107aa6a70_141&#45;&gt;test_functionremove_html_markupat0x107aa6a70_148</title>\n",
       "<path fill=\"none\" stroke=\"black\" d=\"M244.25,-607.61C251.91,-597.69 260.08,-584.99 264.04,-572 279.08,-522.69 272.95,-506.78 264.04,-456 252.5,-390.27 221.82,-317.92 203.47,-278.55\"/>\n",
       "<polygon fill=\"black\" stroke=\"black\" points=\"206.73,-277.26 199.29,-269.72 200.4,-280.26 206.73,-277.26\"/>\n",
       "</g>\n",
       "<!-- out_functionremove_html_markupat0x107aa6a70_151 -->\n",
       "<g id=\"node8\" class=\"node\">\n",
       "<title>out_functionremove_html_markupat0x107aa6a70_151</title>\n",
       "<g id=\"a_node8\"><a xlink:title=\"remove_html_markup:151\">\n",
       "<polygon fill=\"peachpuff\" stroke=\"black\" points=\"255.04,-116 123.04,-116 123.04,-76 255.04,-76 255.04,-116\"/>\n",
       "<text text-anchor=\"start\" x=\"176.54\" y=\"-101.8\" font-family=\"Courier,monospace\" font-weight=\"bold\" font-size=\"14.00\">out</text>\n",
       "<text text-anchor=\"start\" x=\"131.04\" y=\"-82.8\" font-family=\"Courier,monospace\" font-size=\"9.00\">&lt;remove_html_markup()&gt;</text>\n",
       "</a>\n",
       "</g>\n",
       "</g>\n",
       "<!-- c_functionremove_html_markupat0x107aa6a70_141&#45;&gt;out_functionremove_html_markupat0x107aa6a70_151 -->\n",
       "<g id=\"edge10\" class=\"edge\">\n",
       "<title>c_functionremove_html_markupat0x107aa6a70_141&#45;&gt;out_functionremove_html_markupat0x107aa6a70_151</title>\n",
       "<path fill=\"none\" stroke=\"black\" d=\"M250.33,-607.59C261.04,-597.77 273.28,-585.15 282.04,-572 307.34,-534.01 321.04,-522.64 321.04,-477 321.04,-477 321.04,-477 321.04,-247 321.04,-192.64 271.57,-148.62 233.2,-122.65\"/>\n",
       "<polygon fill=\"black\" stroke=\"black\" points=\"235.27,-119.82 224.99,-117.27 231.43,-125.68 235.27,-119.82\"/>\n",
       "</g>\n",
       "<!-- test_functionremove_html_markupat0x107aa6a70_146&#45;&gt;test_functionremove_html_markupat0x107aa6a70_148 -->\n",
       "<g id=\"edge7\" class=\"edge\">\n",
       "<title>test_functionremove_html_markupat0x107aa6a70_146&#45;&gt;test_functionremove_html_markupat0x107aa6a70_148</title>\n",
       "<path fill=\"none\" stroke=\"grey\" stroke-dasharray=\"5,2\" d=\"M132.24,-379.6C146.12,-370.57 160.75,-358.57 170.04,-344 182.25,-324.86 186.86,-299.49 188.5,-279.78\"/>\n",
       "<polygon fill=\"grey\" stroke=\"grey\" points=\"191.99,-280.05 189.09,-269.86 185,-279.64 191.99,-280.05\"/>\n",
       "</g>\n",
       "<!-- remove_html_markupreturnvalue_functionremove_html_markupat0x107aa6a70_153 -->\n",
       "<g id=\"node11\" class=\"node\">\n",
       "<title>remove_html_markupreturnvalue_functionremove_html_markupat0x107aa6a70_153</title>\n",
       "<g id=\"a_node11\"><a xlink:title=\"remove_html_markup:153\">\n",
       "<polygon fill=\"peachpuff\" stroke=\"black\" points=\"341.54,-40 36.54,-40 36.54,0 341.54,0 341.54,-40\"/>\n",
       "<text text-anchor=\"start\" x=\"44.54\" y=\"-25.8\" font-family=\"Courier,monospace\" font-weight=\"bold\" font-style=\"italic\" font-size=\"14.00\">&lt;remove_html_markup() return value&gt;</text>\n",
       "<text text-anchor=\"start\" x=\"131.04\" y=\"-6.8\" font-family=\"Courier,monospace\" font-size=\"9.00\">&lt;remove_html_markup()&gt;</text>\n",
       "</a>\n",
       "</g>\n",
       "</g>\n",
       "<!-- test_functionremove_html_markupat0x107aa6a70_146&#45;&gt;remove_html_markupreturnvalue_functionremove_html_markupat0x107aa6a70_153 -->\n",
       "<g id=\"edge13\" class=\"edge\">\n",
       "<title>test_functionremove_html_markupat0x107aa6a70_146&#45;&gt;remove_html_markupreturnvalue_functionremove_html_markupat0x107aa6a70_153</title>\n",
       "<path fill=\"none\" stroke=\"black\" d=\"M57.83,-379.6C43.95,-370.57 29.33,-358.57 20.04,-344 -3.11,-307.7 1.04,-292.06 1.04,-249 1.04,-249 1.04,-249 1.04,-171 1.04,-108.56 65.18,-67.89 118.53,-44.86\"/>\n",
       "<polygon fill=\"black\" stroke=\"black\" points=\"119.75,-48.14 127.64,-41.07 117.06,-41.68 119.75,-48.14\"/>\n",
       "</g>\n",
       "<!-- tag_functionremove_html_markupat0x107aa6a70_147 -->\n",
       "<g id=\"node13\" class=\"node\">\n",
       "<title>tag_functionremove_html_markupat0x107aa6a70_147</title>\n",
       "<g id=\"a_node13\"><a xlink:title=\"remove_html_markup:147\">\n",
       "<polygon fill=\"peachpuff\" stroke=\"black\" points=\"161.04,-344 29.04,-344 29.04,-304 161.04,-304 161.04,-344\"/>\n",
       "<text text-anchor=\"start\" x=\"82.54\" y=\"-329.8\" font-family=\"Courier,monospace\" font-weight=\"bold\" font-size=\"14.00\">tag</text>\n",
       "<text text-anchor=\"start\" x=\"37.04\" y=\"-310.8\" font-family=\"Courier,monospace\" font-size=\"9.00\">&lt;remove_html_markup()&gt;</text>\n",
       "</a>\n",
       "</g>\n",
       "</g>\n",
       "<!-- test_functionremove_html_markupat0x107aa6a70_146&#45;&gt;tag_functionremove_html_markupat0x107aa6a70_147 -->\n",
       "<g id=\"edge19\" class=\"edge\">\n",
       "<title>test_functionremove_html_markupat0x107aa6a70_146&#45;&gt;tag_functionremove_html_markupat0x107aa6a70_147</title>\n",
       "<path fill=\"none\" stroke=\"grey\" stroke-dasharray=\"5,2\" d=\"M89.02,-379.56C88.36,-372.25 88.15,-363.75 88.38,-355.67\"/>\n",
       "<polygon fill=\"grey\" stroke=\"grey\" points=\"91.86,-356.01 88.94,-345.82 84.87,-355.61 91.86,-356.01\"/>\n",
       "</g>\n",
       "<!-- test_functionremove_html_markupat0x107aa6a70_146&#45;&gt;tag_functionremove_html_markupat0x107aa6a70_147 -->\n",
       "<!-- s_functionremove_html_markupat0x107aa6a70_136 -->\n",
       "<g id=\"node5\" class=\"node\">\n",
       "<title>s_functionremove_html_markupat0x107aa6a70_136</title>\n",
       "<g id=\"a_node5\"><a xlink:title=\"remove_html_markup:136\">\n",
       "<polygon fill=\"peachpuff\" stroke=\"black\" points=\"246.04,-952 114.04,-952 114.04,-912 246.04,-912 246.04,-952\"/>\n",
       "<text text-anchor=\"start\" x=\"175.54\" y=\"-937.8\" font-family=\"Courier,monospace\" font-weight=\"bold\" font-size=\"14.00\">s</text>\n",
       "<text text-anchor=\"start\" x=\"122.04\" y=\"-918.8\" font-family=\"Courier,monospace\" font-size=\"9.00\">&lt;remove_html_markup()&gt;</text>\n",
       "</a>\n",
       "</g>\n",
       "</g>\n",
       "<!-- s_functionremove_html_markupat0x107aa6a70_136&#45;&gt;c_functionremove_html_markupat0x107aa6a70_141 -->\n",
       "<g id=\"edge18\" class=\"edge\">\n",
       "<title>s_functionremove_html_markupat0x107aa6a70_136&#45;&gt;c_functionremove_html_markupat0x107aa6a70_141</title>\n",
       "<path fill=\"none\" stroke=\"black\" d=\"M192.26,-911.66C198.09,-901.45 204.53,-888.48 208.04,-876 229.28,-800.39 229.88,-706.97 228.49,-659.62\"/>\n",
       "<polygon fill=\"black\" stroke=\"black\" points=\"231.99,-659.73 228.14,-649.86 225,-659.98 231.99,-659.73\"/>\n",
       "</g>\n",
       "<!-- tag_functionremove_html_markupat0x107aa6a70_137 -->\n",
       "<g id=\"node6\" class=\"node\">\n",
       "<title>tag_functionremove_html_markupat0x107aa6a70_137</title>\n",
       "<g id=\"a_node6\"><a xlink:title=\"remove_html_markup:137\">\n",
       "<polygon fill=\"peachpuff\" stroke=\"black\" points=\"199.04,-876 67.04,-876 67.04,-836 199.04,-836 199.04,-876\"/>\n",
       "<text text-anchor=\"start\" x=\"120.54\" y=\"-861.8\" font-family=\"Courier,monospace\" font-weight=\"bold\" font-size=\"14.00\">tag</text>\n",
       "<text text-anchor=\"start\" x=\"75.04\" y=\"-842.8\" font-family=\"Courier,monospace\" font-size=\"9.00\">&lt;remove_html_markup()&gt;</text>\n",
       "</a>\n",
       "</g>\n",
       "</g>\n",
       "<!-- s_functionremove_html_markupat0x107aa6a70_136&#45;&gt;tag_functionremove_html_markupat0x107aa6a70_137 -->\n",
       "<!-- tag_functionremove_html_markupat0x107aa6a70_137&#45;&gt;quote_functionremove_html_markupat0x107aa6a70_138 -->\n",
       "<!-- test_functionremove_html_markupat0x107aa6a70_150 -->\n",
       "<g id=\"node10\" class=\"node\">\n",
       "<title>test_functionremove_html_markupat0x107aa6a70_150</title>\n",
       "<g id=\"a_node10\"><a xlink:title=\"remove_html_markup:150\">\n",
       "<polygon fill=\"peachpuff\" stroke=\"black\" points=\"255.04,-192 123.04,-192 123.04,-152 255.04,-152 255.04,-192\"/>\n",
       "<text text-anchor=\"start\" x=\"164.04\" y=\"-177.8\" font-family=\"Courier,monospace\" font-weight=\"bold\" font-style=\"italic\" font-size=\"14.00\">&lt;test&gt;</text>\n",
       "<text text-anchor=\"start\" x=\"131.04\" y=\"-158.8\" font-family=\"Courier,monospace\" font-size=\"9.00\">&lt;remove_html_markup()&gt;</text>\n",
       "</a>\n",
       "</g>\n",
       "</g>\n",
       "<!-- test_functionremove_html_markupat0x107aa6a70_148&#45;&gt;test_functionremove_html_markupat0x107aa6a70_150 -->\n",
       "<g id=\"edge16\" class=\"edge\">\n",
       "<title>test_functionremove_html_markupat0x107aa6a70_148&#45;&gt;test_functionremove_html_markupat0x107aa6a70_150</title>\n",
       "<path fill=\"none\" stroke=\"grey\" stroke-dasharray=\"5,2\" d=\"M183.02,-227.56C182.36,-220.25 182.15,-211.75 182.38,-203.67\"/>\n",
       "<polygon fill=\"grey\" stroke=\"grey\" points=\"185.86,-204.01 182.94,-193.82 178.87,-203.61 185.86,-204.01\"/>\n",
       "</g>\n",
       "<!-- test_functionremove_html_markupat0x107aa6a70_148&#45;&gt;test_functionremove_html_markupat0x107aa6a70_150 -->\n",
       "<!-- out_functionremove_html_markupat0x107aa6a70_151&#45;&gt;out_functionremove_html_markupat0x107aa6a70_151 -->\n",
       "<g id=\"edge8\" class=\"edge\">\n",
       "<title>out_functionremove_html_markupat0x107aa6a70_151&#45;&gt;out_functionremove_html_markupat0x107aa6a70_151</title>\n",
       "<path fill=\"none\" stroke=\"black\" d=\"M255.24,-109.12C265.81,-107.2 273.04,-102.83 273.04,-96 273.04,-91.84 270.35,-88.59 265.86,-86.25\"/>\n",
       "<polygon fill=\"black\" stroke=\"black\" points=\"267.27,-83.03 256.68,-83.34 265.15,-89.7 267.27,-83.03\"/>\n",
       "</g>\n",
       "<!-- out_functionremove_html_markupat0x107aa6a70_151&#45;&gt;remove_html_markupreturnvalue_functionremove_html_markupat0x107aa6a70_153 -->\n",
       "<g id=\"edge12\" class=\"edge\">\n",
       "<title>out_functionremove_html_markupat0x107aa6a70_151&#45;&gt;remove_html_markupreturnvalue_functionremove_html_markupat0x107aa6a70_153</title>\n",
       "<path fill=\"none\" stroke=\"black\" d=\"M183.02,-75.56C182.36,-68.25 182.15,-59.75 182.38,-51.67\"/>\n",
       "<polygon fill=\"black\" stroke=\"black\" points=\"185.86,-52.01 182.94,-41.82 178.87,-51.61 185.86,-52.01\"/>\n",
       "</g>\n",
       "<!-- out_functionremove_html_markupat0x107aa6a70_151&#45;&gt;remove_html_markupreturnvalue_functionremove_html_markupat0x107aa6a70_153 -->\n",
       "<!-- out_functionremove_html_markupat0x107aa6a70_139&#45;&gt;c_functionremove_html_markupat0x107aa6a70_141 -->\n",
       "<!-- out_functionremove_html_markupat0x107aa6a70_139&#45;&gt;out_functionremove_html_markupat0x107aa6a70_151 -->\n",
       "<g id=\"edge9\" class=\"edge\">\n",
       "<title>out_functionremove_html_markupat0x107aa6a70_139&#45;&gt;out_functionremove_html_markupat0x107aa6a70_151</title>\n",
       "<path fill=\"none\" stroke=\"black\" d=\"M329.28,-683.5C340.46,-655.26 359.04,-601.09 359.04,-553 359.04,-553 359.04,-553 359.04,-247 359.04,-186.92 298.6,-145.16 249.8,-121.23\"/>\n",
       "<polygon fill=\"black\" stroke=\"black\" points=\"251.49,-118.16 240.95,-117.04 248.49,-124.48 251.49,-118.16\"/>\n",
       "</g>\n",
       "<!-- test_functionremove_html_markupat0x107aa6a70_150&#45;&gt;out_functionremove_html_markupat0x107aa6a70_151 -->\n",
       "<g id=\"edge11\" class=\"edge\">\n",
       "<title>test_functionremove_html_markupat0x107aa6a70_150&#45;&gt;out_functionremove_html_markupat0x107aa6a70_151</title>\n",
       "<path fill=\"none\" stroke=\"grey\" stroke-dasharray=\"5,2\" d=\"M183.02,-151.56C182.36,-144.25 182.15,-135.75 182.38,-127.67\"/>\n",
       "<polygon fill=\"grey\" stroke=\"grey\" points=\"185.86,-128.01 182.94,-117.82 178.87,-127.61 185.86,-128.01\"/>\n",
       "</g>\n",
       "<!-- test_functionremove_html_markupat0x107aa6a70_150&#45;&gt;out_functionremove_html_markupat0x107aa6a70_151 -->\n",
       "<!-- tag_functionremove_html_markupat0x107aa6a70_145&#45;&gt;test_functionremove_html_markupat0x107aa6a70_146 -->\n",
       "<!-- tag_functionremove_html_markupat0x107aa6a70_145&#45;&gt;test_functionremove_html_markupat0x107aa6a70_150 -->\n",
       "<g id=\"edge14\" class=\"edge\">\n",
       "<title>tag_functionremove_html_markupat0x107aa6a70_145&#45;&gt;test_functionremove_html_markupat0x107aa6a70_150</title>\n",
       "<path fill=\"none\" stroke=\"black\" d=\"M204.53,-455.55C236.67,-412.68 304.35,-307.55 264.04,-228 258.17,-216.41 248.58,-206.68 238.19,-198.78\"/>\n",
       "<polygon fill=\"black\" stroke=\"black\" points=\"240.38,-196.03 230.17,-193.17 236.36,-201.77 240.38,-196.03\"/>\n",
       "</g>\n",
       "<!-- tag_functionremove_html_markupat0x107aa6a70_147&#45;&gt;test_functionremove_html_markupat0x107aa6a70_148 -->\n",
       "<!-- tag_functionremove_html_markupat0x107aa6a70_147&#45;&gt;test_functionremove_html_markupat0x107aa6a70_150 -->\n",
       "<g id=\"edge15\" class=\"edge\">\n",
       "<title>tag_functionremove_html_markupat0x107aa6a70_147&#45;&gt;test_functionremove_html_markupat0x107aa6a70_150</title>\n",
       "<path fill=\"none\" stroke=\"black\" d=\"M94.9,-303.65C95.62,-283.31 99.3,-251.12 114.04,-228 121.3,-216.62 131.81,-206.81 142.68,-198.75\"/>\n",
       "<polygon fill=\"black\" stroke=\"black\" points=\"144.37,-201.84 150.59,-193.27 140.38,-196.09 144.37,-201.84\"/>\n",
       "</g>\n",
       "</g>\n",
       "</svg>\n"
      ],
      "text/plain": [
       "<graphviz.graphs.Digraph at 0x107e81a20>"
      ]
     },
     "execution_count": 48,
     "metadata": {},
     "output_type": "execute_result"
    }
   ],
   "source": [
    "# ignore\n",
    "remove_html_markup_deps().graph()"
   ]
  },
  {
   "cell_type": "markdown",
   "metadata": {
    "slideshow": {
     "slide_type": "subslide"
    }
   },
   "source": [
    "Again, we can read such a graph _forward_ (starting from, say, `s`) or _backward_ (starting from the return value). Starting forward, we see how the passed string `s` flows into the `for` loop, breaking `s` into individual characters `c` that are then checked on various occasions, before flowing into the `out` return value. We also see how the various `if` conditions are all influenced by `c`, `tag`, and `quote`."
   ]
  },
  {
   "cell_type": "code",
   "execution_count": 49,
   "metadata": {
    "execution": {
     "iopub.execute_input": "2023-01-07T16:02:46.773360Z",
     "iopub.status.busy": "2023-01-07T16:02:46.772938Z",
     "iopub.status.idle": "2023-01-07T16:02:46.774653Z",
     "shell.execute_reply": "2023-01-07T16:02:46.774935Z"
    },
    "slideshow": {
     "slide_type": "fragment"
    }
   },
   "outputs": [
    {
     "data": {
      "text/html": [
       "\n",
       "    \n",
       "    <script>\n",
       "    var bad_answers = new Map();\n",
       "\n",
       "    function answer(quiz_id) {\n",
       "        ans = 0;\n",
       "        for (i = 1;; i++) {\n",
       "            checkbox = document.getElementById(quiz_id + \"-\" + i.toString());\n",
       "            if (!checkbox)\n",
       "                break;\n",
       "            if (checkbox.checked)\n",
       "                ans |= (1 << i);\n",
       "        }\n",
       "        return ans;\n",
       "    }\n",
       "    function check_selection(quiz_id, correct_answer, multiple_choice, hint) {\n",
       "        given_answer = answer(quiz_id);\n",
       "        if (given_answer == correct_answer)\n",
       "        {\n",
       "            document.getElementById(quiz_id + \"-submit\").value = \"Correct!\";\n",
       "            document.getElementById(quiz_id + \"-hint\").innerHTML = \"\";\n",
       "\n",
       "            for (i = 1;; i++) {\n",
       "                checkbox = document.getElementById(quiz_id + \"-\" + i.toString());\n",
       "                label = document.getElementById(quiz_id + \"-\" + i.toString() + \"-label\")\n",
       "                if (!checkbox)\n",
       "                    break;\n",
       "    \n",
       "                if (checkbox.checked) {\n",
       "                    label.style.fontWeight = \"bold\";\n",
       "                }\n",
       "                else {\n",
       "                    label.style.textDecoration = \"line-through\";\n",
       "                }\n",
       "            }\n",
       "        }\n",
       "        else \n",
       "        {\n",
       "            document.getElementById(quiz_id + \"-submit\").value = \"Try again\";\n",
       "            \n",
       "            if (!bad_answers.has(quiz_id)) {\n",
       "                bad_answers.set(quiz_id, 1);\n",
       "            }\n",
       "            else {\n",
       "                bad_answers.set(quiz_id, bad_answers.get(quiz_id) + 1);\n",
       "            }\n",
       "\n",
       "            if (bad_answers.get(quiz_id) >= 2 && hint.length > 0) {\n",
       "                document.getElementById(quiz_id + \"-hint\").innerHTML = \n",
       "                    \"&nbsp;&nbsp;(Hint: <code>\" + hint + \"</code>)\";\n",
       "            }\n",
       "\n",
       "            if (!multiple_choice) {\n",
       "                for (i = 1;; i++) {\n",
       "                    checkbox = document.getElementById(quiz_id + \"-\" + i.toString());\n",
       "                    label = document.getElementById(quiz_id + \"-\" + i.toString() + \"-label\")\n",
       "\n",
       "                    if (!checkbox)\n",
       "                        break;\n",
       "                    if (checkbox.checked) {\n",
       "                        label.style.textDecoration = \"line-through\";\n",
       "                    }\n",
       "                }\n",
       "            }\n",
       "        }\n",
       "    }\n",
       "    function clear_selection(quiz_id) {\n",
       "        document.getElementById(quiz_id + \"-submit\").value = \"Submit\";\n",
       "        document.getElementById(quiz_id + \"-hint\").innerHTML = \"\";\n",
       "    }\n",
       "    </script>\n",
       "    \n",
       "    <div class=\"quiz\">\n",
       "    <h3 class=\"quiz_title\">Quiz</h3>\n",
       "    <p>\n",
       "    <div class=\"quiz_question\">Why does the first line <code>tag = False</code> not influence anything?</div>\n",
       "    </p>\n",
       "    <p>\n",
       "    <div class=\"quiz_options\" title=\"Pick a choice.\">\n",
       "    \n",
       "        <input type=\"radio\" name=\"ba2db4dc-8ea4-11ed-b688-6298cf1a5790\" id=\"ba2db4dc-8ea4-11ed-b688-6298cf1a5790-1\" onclick=\"clear_selection('ba2db4dc-8ea4-11ed-b688-6298cf1a5790')\">\n",
       "        <label id=\"ba2db4dc-8ea4-11ed-b688-6298cf1a5790-1-label\" for=\"ba2db4dc-8ea4-11ed-b688-6298cf1a5790-1\">Because the input contains only tags</label><br>\n",
       "    \n",
       "        <input type=\"radio\" name=\"ba2db4dc-8ea4-11ed-b688-6298cf1a5790\" id=\"ba2db4dc-8ea4-11ed-b688-6298cf1a5790-2\" onclick=\"clear_selection('ba2db4dc-8ea4-11ed-b688-6298cf1a5790')\">\n",
       "        <label id=\"ba2db4dc-8ea4-11ed-b688-6298cf1a5790-2-label\" for=\"ba2db4dc-8ea4-11ed-b688-6298cf1a5790-2\">Because <code>tag</code> is set to True with the first character</label><br>\n",
       "    \n",
       "        <input type=\"radio\" name=\"ba2db4dc-8ea4-11ed-b688-6298cf1a5790\" id=\"ba2db4dc-8ea4-11ed-b688-6298cf1a5790-3\" onclick=\"clear_selection('ba2db4dc-8ea4-11ed-b688-6298cf1a5790')\">\n",
       "        <label id=\"ba2db4dc-8ea4-11ed-b688-6298cf1a5790-3-label\" for=\"ba2db4dc-8ea4-11ed-b688-6298cf1a5790-3\">Because <code>tag</code> is not read by any variable</label><br>\n",
       "    \n",
       "        <input type=\"radio\" name=\"ba2db4dc-8ea4-11ed-b688-6298cf1a5790\" id=\"ba2db4dc-8ea4-11ed-b688-6298cf1a5790-4\" onclick=\"clear_selection('ba2db4dc-8ea4-11ed-b688-6298cf1a5790')\">\n",
       "        <label id=\"ba2db4dc-8ea4-11ed-b688-6298cf1a5790-4-label\" for=\"ba2db4dc-8ea4-11ed-b688-6298cf1a5790-4\">Because the input contains no tags</label><br>\n",
       "    \n",
       "    </div>\n",
       "    </p>\n",
       "    <input id=\"ba2db4dc-8ea4-11ed-b688-6298cf1a5790-submit\" type=\"submit\" value=\"Submit\" onclick=\"check_selection('ba2db4dc-8ea4-11ed-b688-6298cf1a5790', 4, 0, '(1 &lt;&lt; 1 + 1 &gt;&gt; 1)')\">\n",
       "    <span class=\"quiz_hint\" id=\"ba2db4dc-8ea4-11ed-b688-6298cf1a5790-hint\"></span>\n",
       "    </div>\n",
       "    "
      ],
      "text/plain": [
       "<IPython.core.display.HTML object>"
      ]
     },
     "execution_count": 49,
     "metadata": {},
     "output_type": "execute_result"
    }
   ],
   "source": [
    "quiz(\"Why does the first line `tag = False` not influence anything?\",\n",
    "    [\n",
    "        \"Because the input contains only tags\",\n",
    "        \"Because `tag` is set to True with the first character\",\n",
    "        \"Because `tag` is not read by any variable\",\n",
    "        \"Because the input contains no tags\",\n",
    "    ], '(1 << 1 + 1 >> 1)')"
   ]
  },
  {
   "cell_type": "markdown",
   "metadata": {
    "slideshow": {
     "slide_type": "subslide"
    }
   },
   "source": [
    "Which are the locations that set `tag` to True? To this end, we compute the slice of `tag` at `tag = True`:"
   ]
  },
  {
   "cell_type": "code",
   "execution_count": 50,
   "metadata": {
    "execution": {
     "iopub.execute_input": "2023-01-07T16:02:46.780059Z",
     "iopub.status.busy": "2023-01-07T16:02:46.779629Z",
     "iopub.status.idle": "2023-01-07T16:02:47.098674Z",
     "shell.execute_reply": "2023-01-07T16:02:47.099050Z"
    },
    "slideshow": {
     "slide_type": "subslide"
    }
   },
   "outputs": [
    {
     "data": {
      "image/svg+xml": [
       "<?xml version=\"1.0\" encoding=\"UTF-8\" standalone=\"no\"?>\n",
       "<!DOCTYPE svg PUBLIC \"-//W3C//DTD SVG 1.1//EN\"\n",
       " \"http://www.w3.org/Graphics/SVG/1.1/DTD/svg11.dtd\">\n",
       "<!-- Generated by graphviz version 7.0.2 (20221119.0110)\n",
       " -->\n",
       "<!-- Title: dependencies Pages: 1 -->\n",
       "<svg width=\"234pt\" height=\"352pt\"\n",
       " viewBox=\"0.00 0.00 234.00 352.00\" xmlns=\"http://www.w3.org/2000/svg\" xmlns:xlink=\"http://www.w3.org/1999/xlink\">\n",
       "<g id=\"graph0\" class=\"graph\" transform=\"scale(1 1) rotate(0) translate(4 348)\">\n",
       "<title>dependencies</title>\n",
       "<polygon fill=\"white\" stroke=\"none\" points=\"-4,4 -4,-348 230,-348 230,4 -4,4\"/>\n",
       "<!-- test_functionremove_html_markupat0x107aa6a70_144 -->\n",
       "<g id=\"node1\" class=\"node\">\n",
       "<title>test_functionremove_html_markupat0x107aa6a70_144</title>\n",
       "<g id=\"a_node1\"><a xlink:title=\"remove_html_markup:144\">\n",
       "<polygon fill=\"peachpuff\" stroke=\"black\" points=\"226,-116 94,-116 94,-76 226,-76 226,-116\"/>\n",
       "<text text-anchor=\"start\" x=\"135\" y=\"-101.8\" font-family=\"Courier,monospace\" font-weight=\"bold\" font-style=\"italic\" font-size=\"14.00\">&lt;test&gt;</text>\n",
       "<text text-anchor=\"start\" x=\"102\" y=\"-82.8\" font-family=\"Courier,monospace\" font-size=\"9.00\">&lt;remove_html_markup()&gt;</text>\n",
       "</a>\n",
       "</g>\n",
       "</g>\n",
       "<!-- tag_functionremove_html_markupat0x107aa6a70_145 -->\n",
       "<g id=\"node5\" class=\"node\">\n",
       "<title>tag_functionremove_html_markupat0x107aa6a70_145</title>\n",
       "<g id=\"a_node5\"><a xlink:title=\"remove_html_markup:145\">\n",
       "<polygon fill=\"peachpuff\" stroke=\"black\" points=\"226,-40 94,-40 94,0 226,0 226,-40\"/>\n",
       "<text text-anchor=\"start\" x=\"147.5\" y=\"-25.8\" font-family=\"Courier,monospace\" font-weight=\"bold\" font-size=\"14.00\">tag</text>\n",
       "<text text-anchor=\"start\" x=\"102\" y=\"-6.8\" font-family=\"Courier,monospace\" font-size=\"9.00\">&lt;remove_html_markup()&gt;</text>\n",
       "</a>\n",
       "</g>\n",
       "</g>\n",
       "<!-- test_functionremove_html_markupat0x107aa6a70_144&#45;&gt;tag_functionremove_html_markupat0x107aa6a70_145 -->\n",
       "<g id=\"edge3\" class=\"edge\">\n",
       "<title>test_functionremove_html_markupat0x107aa6a70_144&#45;&gt;tag_functionremove_html_markupat0x107aa6a70_145</title>\n",
       "<path fill=\"none\" stroke=\"grey\" stroke-dasharray=\"5,2\" d=\"M153.98,-75.56C153.32,-68.25 153.11,-59.75 153.34,-51.67\"/>\n",
       "<polygon fill=\"grey\" stroke=\"grey\" points=\"156.82,-52.01 153.9,-41.82 149.84,-51.61 156.82,-52.01\"/>\n",
       "</g>\n",
       "<!-- test_functionremove_html_markupat0x107aa6a70_144&#45;&gt;tag_functionremove_html_markupat0x107aa6a70_145 -->\n",
       "<!-- quote_functionremove_html_markupat0x107aa6a70_138 -->\n",
       "<g id=\"node2\" class=\"node\">\n",
       "<title>quote_functionremove_html_markupat0x107aa6a70_138</title>\n",
       "<g id=\"a_node2\"><a xlink:title=\"remove_html_markup:138\">\n",
       "<polygon fill=\"peachpuff\" stroke=\"black\" points=\"132,-268 0,-268 0,-228 132,-228 132,-268\"/>\n",
       "<text text-anchor=\"start\" x=\"45\" y=\"-253.8\" font-family=\"Courier,monospace\" font-weight=\"bold\" font-size=\"14.00\">quote</text>\n",
       "<text text-anchor=\"start\" x=\"8\" y=\"-234.8\" font-family=\"Courier,monospace\" font-size=\"9.00\">&lt;remove_html_markup()&gt;</text>\n",
       "</a>\n",
       "</g>\n",
       "</g>\n",
       "<!-- quote_functionremove_html_markupat0x107aa6a70_138&#45;&gt;test_functionremove_html_markupat0x107aa6a70_144 -->\n",
       "<g id=\"edge1\" class=\"edge\">\n",
       "<title>quote_functionremove_html_markupat0x107aa6a70_138&#45;&gt;test_functionremove_html_markupat0x107aa6a70_144</title>\n",
       "<path fill=\"none\" stroke=\"black\" d=\"M65.86,-227.65C66.59,-207.31 70.26,-175.12 85,-152 92.26,-140.62 102.77,-130.81 113.64,-122.75\"/>\n",
       "<polygon fill=\"black\" stroke=\"black\" points=\"115.33,-125.84 121.55,-117.27 111.34,-120.09 115.33,-125.84\"/>\n",
       "</g>\n",
       "<!-- c_functionremove_html_markupat0x107aa6a70_141 -->\n",
       "<g id=\"node3\" class=\"node\">\n",
       "<title>c_functionremove_html_markupat0x107aa6a70_141</title>\n",
       "<g id=\"a_node3\"><a xlink:title=\"remove_html_markup:141\">\n",
       "<polygon fill=\"peachpuff\" stroke=\"black\" points=\"226,-192 94,-192 94,-152 226,-152 226,-192\"/>\n",
       "<text text-anchor=\"start\" x=\"155.5\" y=\"-177.8\" font-family=\"Courier,monospace\" font-weight=\"bold\" font-size=\"14.00\">c</text>\n",
       "<text text-anchor=\"start\" x=\"102\" y=\"-158.8\" font-family=\"Courier,monospace\" font-size=\"9.00\">&lt;remove_html_markup()&gt;</text>\n",
       "</a>\n",
       "</g>\n",
       "</g>\n",
       "<!-- quote_functionremove_html_markupat0x107aa6a70_138&#45;&gt;c_functionremove_html_markupat0x107aa6a70_141 -->\n",
       "<!-- c_functionremove_html_markupat0x107aa6a70_141&#45;&gt;test_functionremove_html_markupat0x107aa6a70_144 -->\n",
       "<g id=\"edge2\" class=\"edge\">\n",
       "<title>c_functionremove_html_markupat0x107aa6a70_141&#45;&gt;test_functionremove_html_markupat0x107aa6a70_144</title>\n",
       "<path fill=\"none\" stroke=\"black\" d=\"M153.98,-151.56C153.32,-144.25 153.11,-135.75 153.34,-127.67\"/>\n",
       "<polygon fill=\"black\" stroke=\"black\" points=\"156.82,-128.01 153.9,-117.82 149.84,-127.61 156.82,-128.01\"/>\n",
       "</g>\n",
       "<!-- c_functionremove_html_markupat0x107aa6a70_141&#45;&gt;test_functionremove_html_markupat0x107aa6a70_144 -->\n",
       "<!-- s_functionremove_html_markupat0x107aa6a70_136 -->\n",
       "<g id=\"node4\" class=\"node\">\n",
       "<title>s_functionremove_html_markupat0x107aa6a70_136</title>\n",
       "<g id=\"a_node4\"><a xlink:title=\"remove_html_markup:136\">\n",
       "<polygon fill=\"peachpuff\" stroke=\"black\" points=\"179,-344 47,-344 47,-304 179,-304 179,-344\"/>\n",
       "<text text-anchor=\"start\" x=\"108.5\" y=\"-329.8\" font-family=\"Courier,monospace\" font-weight=\"bold\" font-size=\"14.00\">s</text>\n",
       "<text text-anchor=\"start\" x=\"55\" y=\"-310.8\" font-family=\"Courier,monospace\" font-size=\"9.00\">&lt;remove_html_markup()&gt;</text>\n",
       "</a>\n",
       "</g>\n",
       "</g>\n",
       "<!-- s_functionremove_html_markupat0x107aa6a70_136&#45;&gt;quote_functionremove_html_markupat0x107aa6a70_138 -->\n",
       "<!-- s_functionremove_html_markupat0x107aa6a70_136&#45;&gt;c_functionremove_html_markupat0x107aa6a70_141 -->\n",
       "<g id=\"edge4\" class=\"edge\">\n",
       "<title>s_functionremove_html_markupat0x107aa6a70_136&#45;&gt;c_functionremove_html_markupat0x107aa6a70_141</title>\n",
       "<path fill=\"none\" stroke=\"black\" d=\"M124.46,-303.72C130.15,-293.42 136.71,-280.35 141,-268 148.27,-247.05 153.1,-222.47 156.06,-203.57\"/>\n",
       "<polygon fill=\"black\" stroke=\"black\" points=\"159.5,-204.23 157.49,-193.83 152.58,-203.22 159.5,-204.23\"/>\n",
       "</g>\n",
       "</g>\n",
       "</svg>\n"
      ],
      "text/plain": [
       "Dependencies(\n",
       "    data={\n",
       "        ('tag', (remove_html_markup, 145)): set(),\n",
       "        ('<test>', (remove_html_markup, 144)): {('quote', (remove_html_markup, 138)), ('c', (remove_html_markup, 141))},\n",
       "        ('quote', (remove_html_markup, 138)): set(),\n",
       "        ('c', (remove_html_markup, 141)): {('s', (remove_html_markup, 136))},\n",
       "        ('s', (remove_html_markup, 136)): set()},\n",
       " control={\n",
       "        ('tag', (remove_html_markup, 145)): {('<test>', (remove_html_markup, 144))},\n",
       "        ('<test>', (remove_html_markup, 144)): set(),\n",
       "        ('quote', (remove_html_markup, 138)): set(),\n",
       "        ('c', (remove_html_markup, 141)): set(),\n",
       "        ('s', (remove_html_markup, 136)): set()})"
      ]
     },
     "execution_count": 50,
     "metadata": {},
     "output_type": "execute_result"
    }
   ],
   "source": [
    "# ignore\n",
    "tag_deps = Dependencies({('tag', (remove_html_markup, 145)): set(), ('<test>', (remove_html_markup, 144)): {('quote', (remove_html_markup, 138)), ('c', (remove_html_markup, 141))}, ('quote', (remove_html_markup, 138)): set(), ('c', (remove_html_markup, 141)): {('s', (remove_html_markup, 136))}, ('s', (remove_html_markup, 136)): set()}, {('tag', (remove_html_markup, 145)): {('<test>', (remove_html_markup, 144))}, ('<test>', (remove_html_markup, 144)): set(), ('quote', (remove_html_markup, 138)): set(), ('c', (remove_html_markup, 141)): set(), ('s', (remove_html_markup, 136)): set()})\n",
    "tag_deps"
   ]
  },
  {
   "cell_type": "markdown",
   "metadata": {
    "slideshow": {
     "slide_type": "subslide"
    }
   },
   "source": [
    "We see where the value of `tag` comes from: from the characters `c` in `s` as well as `quote`, which all cause it to be set. Again, we can combine these dependencies and the listing in a single, compact view. Note, again, that there are no other locations in the code that could possibly have affected `tag` in our run."
   ]
  },
  {
   "cell_type": "code",
   "execution_count": 51,
   "metadata": {
    "execution": {
     "iopub.execute_input": "2023-01-07T16:02:47.102561Z",
     "iopub.status.busy": "2023-01-07T16:02:47.102164Z",
     "iopub.status.idle": "2023-01-07T16:02:47.684000Z",
     "shell.execute_reply": "2023-01-07T16:02:47.684363Z"
    },
    "slideshow": {
     "slide_type": "subslide"
    }
   },
   "outputs": [
    {
     "name": "stdout",
     "output_type": "stream",
     "text": [
      "   238 \u001b[34mdef\u001b[39;49;00m \u001b[32mremove_html_markup\u001b[39;49;00m(s):  \u001b[37m# type: ignore\u001b[39;49;00m\u001b[37m\u001b[39;49;00m\n",
      "   239     tag = \u001b[34mFalse\u001b[39;49;00m\u001b[37m\u001b[39;49;00m\n",
      "   240     quote = \u001b[34mFalse\u001b[39;49;00m\u001b[37m\u001b[39;49;00m\n",
      "   241     out = \u001b[33m\"\u001b[39;49;00m\u001b[33m\"\u001b[39;49;00m\u001b[37m\u001b[39;49;00m\n",
      "   242 \u001b[37m\u001b[39;49;00m\n",
      "   243     \u001b[34mfor\u001b[39;49;00m c \u001b[35min\u001b[39;49;00m s:\u001b[37m\u001b[39;49;00m\n",
      "   244         \u001b[34massert\u001b[39;49;00m tag \u001b[35mor\u001b[39;49;00m \u001b[35mnot\u001b[39;49;00m quote\u001b[37m\u001b[39;49;00m\n",
      "   245 \u001b[37m\u001b[39;49;00m\n",
      "   246         \u001b[34mif\u001b[39;49;00m c == \u001b[33m'\u001b[39;49;00m\u001b[33m<\u001b[39;49;00m\u001b[33m'\u001b[39;49;00m \u001b[35mand\u001b[39;49;00m \u001b[35mnot\u001b[39;49;00m quote:\u001b[37m\u001b[39;49;00m\n",
      "   247             tag = \u001b[34mTrue\u001b[39;49;00m\u001b[37m\u001b[39;49;00m\n",
      "   248         \u001b[34melif\u001b[39;49;00m c == \u001b[33m'\u001b[39;49;00m\u001b[33m>\u001b[39;49;00m\u001b[33m'\u001b[39;49;00m \u001b[35mand\u001b[39;49;00m \u001b[35mnot\u001b[39;49;00m quote:\u001b[37m\u001b[39;49;00m\n",
      "   249             tag = \u001b[34mFalse\u001b[39;49;00m\u001b[37m\u001b[39;49;00m\n",
      "   250         \u001b[34melif\u001b[39;49;00m (c == \u001b[33m'\u001b[39;49;00m\u001b[33m\"\u001b[39;49;00m\u001b[33m'\u001b[39;49;00m \u001b[35mor\u001b[39;49;00m c == \u001b[33m\"\u001b[39;49;00m\u001b[33m'\u001b[39;49;00m\u001b[33m\"\u001b[39;49;00m) \u001b[35mand\u001b[39;49;00m tag:\u001b[37m\u001b[39;49;00m\n",
      "   251             quote = \u001b[35mnot\u001b[39;49;00m quote\u001b[37m\u001b[39;49;00m\n",
      "   252         \u001b[34melif\u001b[39;49;00m \u001b[35mnot\u001b[39;49;00m tag:\u001b[37m\u001b[39;49;00m\n",
      "   253             out = out + c\u001b[37m\u001b[39;49;00m\n",
      "   254 \u001b[37m\u001b[39;49;00m\n",
      "   255     \u001b[34mreturn\u001b[39;49;00m out\u001b[37m\u001b[39;49;00m\n"
     ]
    }
   ],
   "source": [
    "# ignore\n",
    "tag_deps.code()"
   ]
  },
  {
   "cell_type": "code",
   "execution_count": 52,
   "metadata": {
    "execution": {
     "iopub.execute_input": "2023-01-07T16:02:47.688971Z",
     "iopub.status.busy": "2023-01-07T16:02:47.688614Z",
     "iopub.status.idle": "2023-01-07T16:02:47.690241Z",
     "shell.execute_reply": "2023-01-07T16:02:47.690553Z"
    },
    "slideshow": {
     "slide_type": "subslide"
    }
   },
   "outputs": [
    {
     "data": {
      "text/html": [
       "\n",
       "    \n",
       "    <script>\n",
       "    var bad_answers = new Map();\n",
       "\n",
       "    function answer(quiz_id) {\n",
       "        ans = 0;\n",
       "        for (i = 1;; i++) {\n",
       "            checkbox = document.getElementById(quiz_id + \"-\" + i.toString());\n",
       "            if (!checkbox)\n",
       "                break;\n",
       "            if (checkbox.checked)\n",
       "                ans |= (1 << i);\n",
       "        }\n",
       "        return ans;\n",
       "    }\n",
       "    function check_selection(quiz_id, correct_answer, multiple_choice, hint) {\n",
       "        given_answer = answer(quiz_id);\n",
       "        if (given_answer == correct_answer)\n",
       "        {\n",
       "            document.getElementById(quiz_id + \"-submit\").value = \"Correct!\";\n",
       "            document.getElementById(quiz_id + \"-hint\").innerHTML = \"\";\n",
       "\n",
       "            for (i = 1;; i++) {\n",
       "                checkbox = document.getElementById(quiz_id + \"-\" + i.toString());\n",
       "                label = document.getElementById(quiz_id + \"-\" + i.toString() + \"-label\")\n",
       "                if (!checkbox)\n",
       "                    break;\n",
       "    \n",
       "                if (checkbox.checked) {\n",
       "                    label.style.fontWeight = \"bold\";\n",
       "                }\n",
       "                else {\n",
       "                    label.style.textDecoration = \"line-through\";\n",
       "                }\n",
       "            }\n",
       "        }\n",
       "        else \n",
       "        {\n",
       "            document.getElementById(quiz_id + \"-submit\").value = \"Try again\";\n",
       "            \n",
       "            if (!bad_answers.has(quiz_id)) {\n",
       "                bad_answers.set(quiz_id, 1);\n",
       "            }\n",
       "            else {\n",
       "                bad_answers.set(quiz_id, bad_answers.get(quiz_id) + 1);\n",
       "            }\n",
       "\n",
       "            if (bad_answers.get(quiz_id) >= 2 && hint.length > 0) {\n",
       "                document.getElementById(quiz_id + \"-hint\").innerHTML = \n",
       "                    \"&nbsp;&nbsp;(Hint: <code>\" + hint + \"</code>)\";\n",
       "            }\n",
       "\n",
       "            if (!multiple_choice) {\n",
       "                for (i = 1;; i++) {\n",
       "                    checkbox = document.getElementById(quiz_id + \"-\" + i.toString());\n",
       "                    label = document.getElementById(quiz_id + \"-\" + i.toString() + \"-label\")\n",
       "\n",
       "                    if (!checkbox)\n",
       "                        break;\n",
       "                    if (checkbox.checked) {\n",
       "                        label.style.textDecoration = \"line-through\";\n",
       "                    }\n",
       "                }\n",
       "            }\n",
       "        }\n",
       "    }\n",
       "    function clear_selection(quiz_id) {\n",
       "        document.getElementById(quiz_id + \"-submit\").value = \"Submit\";\n",
       "        document.getElementById(quiz_id + \"-hint\").innerHTML = \"\";\n",
       "    }\n",
       "    </script>\n",
       "    \n",
       "    <div class=\"quiz\">\n",
       "    <h3 class=\"quiz_title\">Quiz</h3>\n",
       "    <p>\n",
       "    <div class=\"quiz_question\">How does the slice of <code>tag = True</code> change for a different value of <code>s</code>?</div>\n",
       "    </p>\n",
       "    <p>\n",
       "    <div class=\"quiz_options\" title=\"Check all that apply.\">\n",
       "    \n",
       "        <input type=\"checkbox\" name=\"bab98f7a-8ea4-11ed-b688-6298cf1a5790\" id=\"bab98f7a-8ea4-11ed-b688-6298cf1a5790-1\" onclick=\"clear_selection('bab98f7a-8ea4-11ed-b688-6298cf1a5790')\">\n",
       "        <label id=\"bab98f7a-8ea4-11ed-b688-6298cf1a5790-1-label\" for=\"bab98f7a-8ea4-11ed-b688-6298cf1a5790-1\">Not at all</label><br>\n",
       "    \n",
       "        <input type=\"checkbox\" name=\"bab98f7a-8ea4-11ed-b688-6298cf1a5790\" id=\"bab98f7a-8ea4-11ed-b688-6298cf1a5790-2\" onclick=\"clear_selection('bab98f7a-8ea4-11ed-b688-6298cf1a5790')\">\n",
       "        <label id=\"bab98f7a-8ea4-11ed-b688-6298cf1a5790-2-label\" for=\"bab98f7a-8ea4-11ed-b688-6298cf1a5790-2\">If <code>s</code> contains a quote, the <code>quote</code> slice is included, too</label><br>\n",
       "    \n",
       "        <input type=\"checkbox\" name=\"bab98f7a-8ea4-11ed-b688-6298cf1a5790\" id=\"bab98f7a-8ea4-11ed-b688-6298cf1a5790-3\" onclick=\"clear_selection('bab98f7a-8ea4-11ed-b688-6298cf1a5790')\">\n",
       "        <label id=\"bab98f7a-8ea4-11ed-b688-6298cf1a5790-3-label\" for=\"bab98f7a-8ea4-11ed-b688-6298cf1a5790-3\">If <code>s</code> contains no HTML tag, the slice will be empty</label><br>\n",
       "    \n",
       "    </div>\n",
       "    </p>\n",
       "    <input id=\"bab98f7a-8ea4-11ed-b688-6298cf1a5790-submit\" type=\"submit\" value=\"Submit\" onclick=\"check_selection('bab98f7a-8ea4-11ed-b688-6298cf1a5790', 12, 1, '[1, 2, 3][1:]')\">\n",
       "    <span class=\"quiz_hint\" id=\"bab98f7a-8ea4-11ed-b688-6298cf1a5790-hint\"></span>\n",
       "    </div>\n",
       "    "
      ],
      "text/plain": [
       "<IPython.core.display.HTML object>"
      ]
     },
     "execution_count": 52,
     "metadata": {},
     "output_type": "execute_result"
    }
   ],
   "source": [
    "quiz(\"How does the slice of `tag = True` change \"\n",
    "     \"for a different value of `s`?\",\n",
    "    [\n",
    "        \"Not at all\",\n",
    "        \"If `s` contains a quote, the `quote` slice is included, too\",\n",
    "        \"If `s` contains no HTML tag, the slice will be empty\"\n",
    "    ], '[1, 2, 3][1:]')"
   ]
  },
  {
   "cell_type": "markdown",
   "metadata": {
    "slideshow": {
     "slide_type": "fragment"
    }
   },
   "source": [
    "Indeed, our dynamic slices reflect dependencies as they occurred within a single execution. As the execution changes, so do the dependencies."
   ]
  },
  {
   "cell_type": "markdown",
   "metadata": {
    "slideshow": {
     "slide_type": "slide"
    }
   },
   "source": [
    "## Tracking Techniques\n",
    "\n",
    "For the remainder of this chapter, let us investigate means to _determine such dependencies_ automatically – by _collecting_ them during program execution. The idea is that with a single Python call, we can collect the dependencies for some computation, and present them to programmers – as graphs or as code annotations, as shown above."
   ]
  },
  {
   "cell_type": "markdown",
   "metadata": {
    "slideshow": {
     "slide_type": "fragment"
    }
   },
   "source": [
    "To track dependencies, for every variable, we need to keep track of its _origins_ – where it obtained its value, and which tests controlled its assignments. There are two ways to do so:\n",
    "\n",
    "* Wrapping Data Objects\n",
    "* Wrapping Data Accesses"
   ]
  },
  {
   "cell_type": "markdown",
   "metadata": {
    "slideshow": {
     "slide_type": "subslide"
    }
   },
   "source": [
    "### Wrapping Data Objects"
   ]
  },
  {
   "cell_type": "markdown",
   "metadata": {
    "slideshow": {
     "slide_type": "subslide"
    }
   },
   "source": [
    "One way to track origins is to _wrap_ each value in a class that stores both a value and the origin of the value. If a variable `x` is initialized to zero in Line 3, for instance, we could store it as\n",
    "```\n",
    "x = (value=0, origin=<Line 3>)\n",
    "```\n",
    "and if it is copied in, say, Line 5 to another variable `y`, we could store this as\n",
    "```\n",
    "y = (value=0, origin=<Line 3, Line 5>)\n",
    "```\n",
    "Such a scheme would allow us to track origins and dependencies right within the variable."
   ]
  },
  {
   "cell_type": "markdown",
   "metadata": {
    "slideshow": {
     "slide_type": "subslide"
    }
   },
   "source": [
    "In a language like Python, it is actually possibly to subclass from basic types. Here's how we create a `MyInt` subclass of `int`:"
   ]
  },
  {
   "cell_type": "code",
   "execution_count": 53,
   "metadata": {
    "execution": {
     "iopub.execute_input": "2023-01-07T16:02:47.693304Z",
     "iopub.status.busy": "2023-01-07T16:02:47.692970Z",
     "iopub.status.idle": "2023-01-07T16:02:47.694576Z",
     "shell.execute_reply": "2023-01-07T16:02:47.694849Z"
    },
    "slideshow": {
     "slide_type": "fragment"
    }
   },
   "outputs": [],
   "source": [
    "class MyInt(int):\n",
    "    def __new__(cls: Type, value: Any, *args: Any, **kwargs: Any) -> Any:\n",
    "        return super(cls, cls).__new__(cls, value)\n",
    "\n",
    "    def __repr__(self) -> str:\n",
    "        return f\"{int(self)}\""
   ]
  },
  {
   "cell_type": "code",
   "execution_count": 54,
   "metadata": {
    "execution": {
     "iopub.execute_input": "2023-01-07T16:02:47.697303Z",
     "iopub.status.busy": "2023-01-07T16:02:47.696847Z",
     "iopub.status.idle": "2023-01-07T16:02:47.698248Z",
     "shell.execute_reply": "2023-01-07T16:02:47.698546Z"
    },
    "slideshow": {
     "slide_type": "fragment"
    }
   },
   "outputs": [],
   "source": [
    "n: MyInt = MyInt(5)"
   ]
  },
  {
   "cell_type": "markdown",
   "metadata": {
    "slideshow": {
     "slide_type": "fragment"
    }
   },
   "source": [
    "We can access `n` just like any integer:"
   ]
  },
  {
   "cell_type": "code",
   "execution_count": 55,
   "metadata": {
    "execution": {
     "iopub.execute_input": "2023-01-07T16:02:47.700736Z",
     "iopub.status.busy": "2023-01-07T16:02:47.700428Z",
     "iopub.status.idle": "2023-01-07T16:02:47.701852Z",
     "shell.execute_reply": "2023-01-07T16:02:47.702181Z"
    },
    "slideshow": {
     "slide_type": "fragment"
    }
   },
   "outputs": [
    {
     "data": {
      "text/plain": [
       "(5, 6)"
      ]
     },
     "execution_count": 55,
     "metadata": {},
     "output_type": "execute_result"
    }
   ],
   "source": [
    "n, n + 1"
   ]
  },
  {
   "cell_type": "markdown",
   "metadata": {
    "slideshow": {
     "slide_type": "fragment"
    }
   },
   "source": [
    "However, we can also add extra attributes to it:"
   ]
  },
  {
   "cell_type": "code",
   "execution_count": 56,
   "metadata": {
    "execution": {
     "iopub.execute_input": "2023-01-07T16:02:47.704134Z",
     "iopub.status.busy": "2023-01-07T16:02:47.703849Z",
     "iopub.status.idle": "2023-01-07T16:02:47.705026Z",
     "shell.execute_reply": "2023-01-07T16:02:47.705282Z"
    },
    "slideshow": {
     "slide_type": "fragment"
    }
   },
   "outputs": [],
   "source": [
    "n.origin = \"Line 5\"  # type: ignore"
   ]
  },
  {
   "cell_type": "code",
   "execution_count": 57,
   "metadata": {
    "execution": {
     "iopub.execute_input": "2023-01-07T16:02:47.707478Z",
     "iopub.status.busy": "2023-01-07T16:02:47.707073Z",
     "iopub.status.idle": "2023-01-07T16:02:47.708497Z",
     "shell.execute_reply": "2023-01-07T16:02:47.708745Z"
    },
    "slideshow": {
     "slide_type": "subslide"
    }
   },
   "outputs": [
    {
     "data": {
      "text/plain": [
       "'Line 5'"
      ]
     },
     "execution_count": 57,
     "metadata": {},
     "output_type": "execute_result"
    }
   ],
   "source": [
    "n.origin  # type: ignore"
   ]
  },
  {
   "cell_type": "markdown",
   "metadata": {
    "slideshow": {
     "slide_type": "subslide"
    }
   },
   "source": [
    "Such a \"wrapping\" scheme has the advantage of _leaving program code untouched_ – simply pass \"wrapped\" objects instead of the original values. However, it also has a number of drawbacks.\n",
    "\n",
    "* First, we must make sure that the \"wrapper\" objects are still compatible with the original values – notably by converting them back whenever needed. (What happens if an internal Python function expects an `int` and gets a `MyInt` instead?)\n",
    "* Second, we have to make sure that origins do not get lost during computations – which involves overloading operators such as `+`, `-`, `*`, and so on. (Right now, `MyInt(1) + 1` gives us an `int` object, not a `MyInt`.)\n",
    "* Third, we have to do this for _all_ data types of a language, which is pretty tedious.\n",
    "* Fourth and last, however, we want to track whenever a value is assigned to another variable. Python has no support for this, and thus our dependencies will necessarily be incomplete."
   ]
  },
  {
   "cell_type": "markdown",
   "metadata": {
    "slideshow": {
     "slide_type": "subslide"
    }
   },
   "source": [
    "### Wrapping Data Accesses"
   ]
  },
  {
   "attachments": {},
   "cell_type": "markdown",
   "metadata": {
    "slideshow": {
     "slide_type": "subslide"
    }
   },
   "source": [
    "An alternate way of tracking origins is to _instrument_ the source code such that all _data read and write operations are tracked_. That is, the original data stays unchanged, but we change the code instead.\n",
    "\n",
    "In essence, for every occurrence of a variable `x` being _read_, we replace it with\n",
    "\n",
    "```python\n",
    "_data.get('x', x)  # returns x\n",
    "```\n",
    "\n",
    "and for every occurrence of a value being _written_ to `x`, we replace the value with\n",
    "\n",
    "```python\n",
    "_data.set('x', value)  # returns value\n",
    "```\n",
    "\n",
    "and let the `_data` object track these reads and writes.\n",
    "\n",
    "Hence, an assignment such as\n",
    "\n",
    "```python\n",
    "a = b + c\n",
    "```\n",
    "\n",
    "would get rewritten to\n",
    "\n",
    "```python\n",
    "a = _data.set('a', _data.get('b', b) + _data.get('c', c))\n",
    "```\n",
    "\n",
    "and with every access to `_data`, we would track \n",
    "\n",
    "1. the current _location_ in the code, and \n",
    "2. whether the respective variable was read or written.\n",
    "\n",
    "For the above statement, we could deduce that `b` and `c` were read, and `a` was written – which makes `a` data dependent on `b` and `c`."
   ]
  },
  {
   "cell_type": "markdown",
   "metadata": {
    "slideshow": {
     "slide_type": "subslide"
    }
   },
   "source": [
    "The advantage of such instrumentation is that it works with _arbitrary objects_ (in Python, that is) – we do not care whether `a`, `b`, and `c` would be integers, floats, strings, lists or any other type for which `+` would be defined. Also, the code semantics remain entirely unchanged.\n",
    "\n",
    "The disadvantage, however, is that it takes a bit of effort to exactly separate reads and writes into individual groups, and that a number of language features have to be handled separately. This is what we do in the remainder of this chapter."
   ]
  },
  {
   "cell_type": "markdown",
   "metadata": {
    "slideshow": {
     "slide_type": "slide"
    }
   },
   "source": [
    "## A Data Tracker\n",
    "\n",
    "To implement `_data` accesses as shown above, we introduce the `DataTracker` class. As its name suggests, it keeps track of variables being read and written, and provides methods to determine the code location where this took place."
   ]
  },
  {
   "cell_type": "code",
   "execution_count": 58,
   "metadata": {
    "execution": {
     "iopub.execute_input": "2023-01-07T16:02:47.711055Z",
     "iopub.status.busy": "2023-01-07T16:02:47.710733Z",
     "iopub.status.idle": "2023-01-07T16:02:47.711921Z",
     "shell.execute_reply": "2023-01-07T16:02:47.712220Z"
    },
    "slideshow": {
     "slide_type": "fragment"
    }
   },
   "outputs": [],
   "source": [
    "class DataTracker(StackInspector):\n",
    "    \"\"\"Track data accesses during execution\"\"\"\n",
    "\n",
    "    def __init__(self, log: bool = False) -> None:\n",
    "        \"\"\"Constructor. If `log` is set, turn on logging.\"\"\"\n",
    "        self.log = log"
   ]
  },
  {
   "cell_type": "markdown",
   "metadata": {
    "slideshow": {
     "slide_type": "subslide"
    }
   },
   "source": [
    "`set()` is invoked when a variable is set, as in\n",
    "\n",
    "```python\n",
    "pi = _data.set('pi', 3.1415)\n",
    "```\n",
    "\n",
    "By default, we simply log the access using name and value. (`loads` will be used later.)"
   ]
  },
  {
   "cell_type": "code",
   "execution_count": 59,
   "metadata": {
    "execution": {
     "iopub.execute_input": "2023-01-07T16:02:47.714882Z",
     "iopub.status.busy": "2023-01-07T16:02:47.714513Z",
     "iopub.status.idle": "2023-01-07T16:02:47.715714Z",
     "shell.execute_reply": "2023-01-07T16:02:47.716041Z"
    },
    "slideshow": {
     "slide_type": "subslide"
    }
   },
   "outputs": [],
   "source": [
    "class DataTracker(DataTracker):\n",
    "    def set(self, name: str, value: Any, loads: Optional[Set[str]] = None) -> Any:\n",
    "        \"\"\"Track setting `name` to `value`.\"\"\"\n",
    "        if self.log:\n",
    "            caller_func, lineno = self.caller_location()\n",
    "            print(f\"{caller_func.__name__}:{lineno}: setting {name}\")\n",
    "\n",
    "        return value"
   ]
  },
  {
   "cell_type": "markdown",
   "metadata": {
    "slideshow": {
     "slide_type": "fragment"
    }
   },
   "source": [
    "`get()` is invoked when a variable is retrieved, as in\n",
    "\n",
    "```python\n",
    "print(_data.get('pi', pi))\n",
    "```\n",
    "By default, we simply log the access."
   ]
  },
  {
   "cell_type": "code",
   "execution_count": 60,
   "metadata": {
    "execution": {
     "iopub.execute_input": "2023-01-07T16:02:47.718497Z",
     "iopub.status.busy": "2023-01-07T16:02:47.718196Z",
     "iopub.status.idle": "2023-01-07T16:02:47.719589Z",
     "shell.execute_reply": "2023-01-07T16:02:47.719818Z"
    },
    "slideshow": {
     "slide_type": "subslide"
    }
   },
   "outputs": [],
   "source": [
    "class DataTracker(DataTracker):\n",
    "    def get(self, name: str, value: Any) -> Any:\n",
    "        \"\"\"Track getting `value` from `name`.\"\"\"\n",
    "\n",
    "        if self.log:\n",
    "            caller_func, lineno = self.caller_location()\n",
    "            print(f\"{caller_func.__name__}:{lineno}: getting {name}\")\n",
    "\n",
    "        return value"
   ]
  },
  {
   "cell_type": "markdown",
   "metadata": {
    "slideshow": {
     "slide_type": "fragment"
    }
   },
   "source": [
    "Here's an example of a logging `DataTracker`:"
   ]
  },
  {
   "cell_type": "code",
   "execution_count": 61,
   "metadata": {
    "execution": {
     "iopub.execute_input": "2023-01-07T16:02:47.722530Z",
     "iopub.status.busy": "2023-01-07T16:02:47.722036Z",
     "iopub.status.idle": "2023-01-07T16:02:47.723896Z",
     "shell.execute_reply": "2023-01-07T16:02:47.724171Z"
    },
    "slideshow": {
     "slide_type": "fragment"
    }
   },
   "outputs": [
    {
     "name": "stdout",
     "output_type": "stream",
     "text": [
      "<cell line: 2>:2: setting x\n"
     ]
    }
   ],
   "source": [
    "_test_data = DataTracker(log=True)\n",
    "x = _test_data.set('x', 1)"
   ]
  },
  {
   "cell_type": "code",
   "execution_count": 62,
   "metadata": {
    "execution": {
     "iopub.execute_input": "2023-01-07T16:02:47.726906Z",
     "iopub.status.busy": "2023-01-07T16:02:47.726502Z",
     "iopub.status.idle": "2023-01-07T16:02:47.728558Z",
     "shell.execute_reply": "2023-01-07T16:02:47.728786Z"
    },
    "slideshow": {
     "slide_type": "subslide"
    }
   },
   "outputs": [
    {
     "name": "stdout",
     "output_type": "stream",
     "text": [
      "<cell line: 1>:1: getting x\n"
     ]
    },
    {
     "data": {
      "text/plain": [
       "1"
      ]
     },
     "execution_count": 62,
     "metadata": {},
     "output_type": "execute_result"
    }
   ],
   "source": [
    "_test_data.get('x', x)"
   ]
  },
  {
   "cell_type": "markdown",
   "metadata": {
    "slideshow": {
     "slide_type": "slide"
    }
   },
   "source": [
    "## Instrumenting Source Code\n",
    "\n",
    "How do we transform source code such that read and write accesses to variables would be automatically rewritten?  To this end, we inspect the internal representation of source code, namely the _abstract syntax trees_ (ASTs). An AST represents the code as a tree, with specific node types for each syntactical element."
   ]
  },
  {
   "cell_type": "code",
   "execution_count": 63,
   "metadata": {
    "execution": {
     "iopub.execute_input": "2023-01-07T16:02:47.731675Z",
     "iopub.status.busy": "2023-01-07T16:02:47.731355Z",
     "iopub.status.idle": "2023-01-07T16:02:47.732627Z",
     "shell.execute_reply": "2023-01-07T16:02:47.732879Z"
    },
    "slideshow": {
     "slide_type": "skip"
    }
   },
   "outputs": [],
   "source": [
    "import ast"
   ]
  },
  {
   "cell_type": "code",
   "execution_count": 64,
   "metadata": {
    "execution": {
     "iopub.execute_input": "2023-01-07T16:02:47.739699Z",
     "iopub.status.busy": "2023-01-07T16:02:47.739057Z",
     "iopub.status.idle": "2023-01-07T16:02:47.741103Z",
     "shell.execute_reply": "2023-01-07T16:02:47.741495Z"
    },
    "slideshow": {
     "slide_type": "skip"
    }
   },
   "outputs": [],
   "source": [
    "from bookutils import show_ast"
   ]
  },
  {
   "cell_type": "markdown",
   "metadata": {
    "slideshow": {
     "slide_type": "fragment"
    }
   },
   "source": [
    "Here is the tree representation for our `middle()` function. It starts with a `FunctionDef` node at the top (with the name `\"middle\"` and the three arguments `x`, `y`, `z` as children), followed by a subtree for each of the `If` statements, each of which contains a branch for when their condition evaluates to `True` and a branch for when their condition evaluates to `False`."
   ]
  },
  {
   "cell_type": "code",
   "execution_count": 65,
   "metadata": {
    "execution": {
     "iopub.execute_input": "2023-01-07T16:02:47.746762Z",
     "iopub.status.busy": "2023-01-07T16:02:47.745192Z",
     "iopub.status.idle": "2023-01-07T16:02:48.076430Z",
     "shell.execute_reply": "2023-01-07T16:02:48.076884Z"
    },
    "slideshow": {
     "slide_type": "subslide"
    }
   },
   "outputs": [
    {
     "data": {
      "image/svg+xml": [
       "<svg xmlns=\"http://www.w3.org/2000/svg\" xmlns:xlink=\"http://www.w3.org/1999/xlink\" width=\"1862pt\" height=\"476pt\" viewBox=\"0.00 0.00 1862.00 476.00\">\n",
       "<g id=\"graph0\" class=\"graph\" transform=\"scale(1 1) rotate(0) translate(4 472)\">\n",
       "<polygon fill=\"white\" stroke=\"none\" points=\"-4,4 -4,-472 1858,-472 1858,4 -4,4\"/>\n",
       "<!-- 0 -->\n",
       "<g id=\"node1\" class=\"node\">\n",
       "<title>0</title>\n",
       "<text text-anchor=\"start\" x=\"197.5\" y=\"-447.3\" font-family=\"Courier,monospace\" font-weight=\"bold\" font-size=\"14.00\" fill=\"#004080\">FunctionDef</text>\n",
       "</g>\n",
       "<!-- 1 -->\n",
       "<g id=\"node2\" class=\"node\">\n",
       "<title>1</title>\n",
       "<text text-anchor=\"middle\" x=\"66\" y=\"-374.3\" font-family=\"Courier,monospace\" font-size=\"14.00\" fill=\"#008040\">&quot;middle&quot;</text>\n",
       "</g>\n",
       "<!-- 0&#45;&#45;1 -->\n",
       "<g id=\"edge1\" class=\"edge\">\n",
       "<title>0--1</title>\n",
       "<path fill=\"none\" stroke=\"black\" d=\"M247,-431C247,-431 173.67,-413.49 116,-396 113.19,-395.15 110.31,-394.24 107.4,-393.31\"/>\n",
       "</g>\n",
       "<!-- 2 -->\n",
       "<g id=\"node3\" class=\"node\">\n",
       "<title>2</title>\n",
       "<text text-anchor=\"start\" x=\"133.5\" y=\"-375.3\" font-family=\"Courier,monospace\" font-weight=\"bold\" font-size=\"14.00\" fill=\"#004080\">arguments</text>\n",
       "</g>\n",
       "<!-- 0&#45;&#45;2 -->\n",
       "<g id=\"edge2\" class=\"edge\">\n",
       "<title>0--2</title>\n",
       "<path fill=\"none\" stroke=\"black\" d=\"M247,-431C247,-431 217.68,-410.94 195.47,-395.74\"/>\n",
       "</g>\n",
       "<!-- 9 -->\n",
       "<g id=\"node10\" class=\"node\">\n",
       "<title>9</title>\n",
       "<text text-anchor=\"start\" x=\"464.5\" y=\"-375.3\" font-family=\"Courier,monospace\" font-weight=\"bold\" font-size=\"14.00\" fill=\"#004080\">If</text>\n",
       "</g>\n",
       "<!-- 0&#45;&#45;9 -->\n",
       "<g id=\"edge9\" class=\"edge\">\n",
       "<title>0--9</title>\n",
       "<path fill=\"none\" stroke=\"black\" d=\"M247,-431C247,-431 386.32,-398.94 446.19,-385.17\"/>\n",
       "</g>\n",
       "<!-- 70 -->\n",
       "<g id=\"node71\" class=\"node\">\n",
       "<title>70</title>\n",
       "<text text-anchor=\"start\" x=\"1129\" y=\"-375.3\" font-family=\"Courier,monospace\" font-weight=\"bold\" font-size=\"14.00\" fill=\"#004080\">Return</text>\n",
       "</g>\n",
       "<!-- 0&#45;&#45;70 -->\n",
       "<g id=\"edge70\" class=\"edge\">\n",
       "<title>0--70</title>\n",
       "<path fill=\"none\" stroke=\"black\" d=\"M247,-431C247,-431 958.58,-390.2 1121.18,-380.88\"/>\n",
       "</g>\n",
       "<!-- 3 -->\n",
       "<g id=\"node4\" class=\"node\">\n",
       "<title>3</title>\n",
       "<text text-anchor=\"start\" x=\"14.5\" y=\"-303.3\" font-family=\"Courier,monospace\" font-weight=\"bold\" font-size=\"14.00\" fill=\"#004080\">arg</text>\n",
       "</g>\n",
       "<!-- 2&#45;&#45;3 -->\n",
       "<g id=\"edge3\" class=\"edge\">\n",
       "<title>2--3</title>\n",
       "<path fill=\"none\" stroke=\"black\" d=\"M158,-359C158,-359 104.5,-341.4 63,-324 59.94,-322.72 56.76,-321.32 53.62,-319.89\"/>\n",
       "</g>\n",
       "<!-- 5 -->\n",
       "<g id=\"node6\" class=\"node\">\n",
       "<title>5</title>\n",
       "<text text-anchor=\"start\" x=\"86.5\" y=\"-303.3\" font-family=\"Courier,monospace\" font-weight=\"bold\" font-size=\"14.00\" fill=\"#004080\">arg</text>\n",
       "</g>\n",
       "<!-- 2&#45;&#45;5 -->\n",
       "<g id=\"edge5\" class=\"edge\">\n",
       "<title>2--5</title>\n",
       "<path fill=\"none\" stroke=\"black\" d=\"M158,-359C158,-359 135.24,-338.94 117.99,-323.74\"/>\n",
       "</g>\n",
       "<!-- 7 -->\n",
       "<g id=\"node8\" class=\"node\">\n",
       "<title>7</title>\n",
       "<text text-anchor=\"start\" x=\"158.5\" y=\"-303.3\" font-family=\"Courier,monospace\" font-weight=\"bold\" font-size=\"14.00\" fill=\"#004080\">arg</text>\n",
       "</g>\n",
       "<!-- 2&#45;&#45;7 -->\n",
       "<g id=\"edge7\" class=\"edge\">\n",
       "<title>2--7</title>\n",
       "<path fill=\"none\" stroke=\"black\" d=\"M158,-359C158,-359 163.01,-338.94 166.82,-323.74\"/>\n",
       "</g>\n",
       "<!-- 4 -->\n",
       "<g id=\"node5\" class=\"node\">\n",
       "<title>4</title>\n",
       "<text text-anchor=\"middle\" x=\"27\" y=\"-230.3\" font-family=\"Courier,monospace\" font-size=\"14.00\" fill=\"#008040\">&quot;x&quot;</text>\n",
       "</g>\n",
       "<!-- 3&#45;&#45;4 -->\n",
       "<g id=\"edge4\" class=\"edge\">\n",
       "<title>3--4</title>\n",
       "<path fill=\"none\" stroke=\"black\" d=\"M27,-288.05C27,-277.05 27,-262.76 27,-251.79\"/>\n",
       "</g>\n",
       "<!-- 6 -->\n",
       "<g id=\"node7\" class=\"node\">\n",
       "<title>6</title>\n",
       "<text text-anchor=\"middle\" x=\"99\" y=\"-230.3\" font-family=\"Courier,monospace\" font-size=\"14.00\" fill=\"#008040\">&quot;y&quot;</text>\n",
       "</g>\n",
       "<!-- 5&#45;&#45;6 -->\n",
       "<g id=\"edge6\" class=\"edge\">\n",
       "<title>5--6</title>\n",
       "<path fill=\"none\" stroke=\"black\" d=\"M99,-288.05C99,-277.05 99,-262.76 99,-251.79\"/>\n",
       "</g>\n",
       "<!-- 8 -->\n",
       "<g id=\"node9\" class=\"node\">\n",
       "<title>8</title>\n",
       "<text text-anchor=\"middle\" x=\"171\" y=\"-230.3\" font-family=\"Courier,monospace\" font-size=\"14.00\" fill=\"#008040\">&quot;z&quot;</text>\n",
       "</g>\n",
       "<!-- 7&#45;&#45;8 -->\n",
       "<g id=\"edge8\" class=\"edge\">\n",
       "<title>7--8</title>\n",
       "<path fill=\"none\" stroke=\"black\" d=\"M171,-288.05C171,-277.05 171,-262.76 171,-251.79\"/>\n",
       "</g>\n",
       "<!-- 10 -->\n",
       "<g id=\"node11\" class=\"node\">\n",
       "<title>10</title>\n",
       "<text text-anchor=\"start\" x=\"322\" y=\"-303.3\" font-family=\"Courier,monospace\" font-weight=\"bold\" font-size=\"14.00\" fill=\"#004080\">Compare</text>\n",
       "</g>\n",
       "<!-- 9&#45;&#45;10 -->\n",
       "<g id=\"edge10\" class=\"edge\">\n",
       "<title>9--10</title>\n",
       "<path fill=\"none\" stroke=\"black\" d=\"M490,-359C490,-359 429.06,-336.2 387.88,-320.8\"/>\n",
       "</g>\n",
       "<!-- 18 -->\n",
       "<g id=\"node19\" class=\"node\">\n",
       "<title>18</title>\n",
       "<text text-anchor=\"start\" x=\"594.5\" y=\"-303.3\" font-family=\"Courier,monospace\" font-weight=\"bold\" font-size=\"14.00\" fill=\"#004080\">If</text>\n",
       "</g>\n",
       "<!-- 9&#45;&#45;18 -->\n",
       "<g id=\"edge18\" class=\"edge\">\n",
       "<title>9--18</title>\n",
       "<path fill=\"none\" stroke=\"black\" d=\"M490,-359C490,-359 542.8,-334.7 576.22,-319.32\"/>\n",
       "</g>\n",
       "<!-- 44 -->\n",
       "<g id=\"node45\" class=\"node\">\n",
       "<title>44</title>\n",
       "<text text-anchor=\"start\" x=\"1314.5\" y=\"-303.3\" font-family=\"Courier,monospace\" font-weight=\"bold\" font-size=\"14.00\" fill=\"#004080\">If</text>\n",
       "</g>\n",
       "<!-- 9&#45;&#45;44 -->\n",
       "<g id=\"edge44\" class=\"edge\">\n",
       "<title>9--44</title>\n",
       "<path fill=\"none\" stroke=\"black\" d=\"M490,-359C490,-359 1153.65,-317.57 1296.23,-308.67\"/>\n",
       "</g>\n",
       "<!-- 11 -->\n",
       "<g id=\"node12\" class=\"node\">\n",
       "<title>11</title>\n",
       "<text text-anchor=\"start\" x=\"226\" y=\"-231.3\" font-family=\"Courier,monospace\" font-weight=\"bold\" font-size=\"14.00\" fill=\"#004080\">Name</text>\n",
       "</g>\n",
       "<!-- 10&#45;&#45;11 -->\n",
       "<g id=\"edge11\" class=\"edge\">\n",
       "<title>10--11</title>\n",
       "<path fill=\"none\" stroke=\"black\" d=\"M345,-287C345,-287 300.02,-264.07 269.8,-248.66\"/>\n",
       "</g>\n",
       "<!-- 14 -->\n",
       "<g id=\"node15\" class=\"node\">\n",
       "<title>14</title>\n",
       "<text text-anchor=\"middle\" x=\"315\" y=\"-230.3\" font-family=\"Courier,monospace\" font-size=\"14.00\" fill=\"#008040\">Lt</text>\n",
       "</g>\n",
       "<!-- 10&#45;&#45;14 -->\n",
       "<g id=\"edge14\" class=\"edge\">\n",
       "<title>10--14</title>\n",
       "<path fill=\"none\" stroke=\"black\" d=\"M345,-287C345,-287 333.43,-266.94 324.66,-251.74\"/>\n",
       "</g>\n",
       "<!-- 15 -->\n",
       "<g id=\"node16\" class=\"node\">\n",
       "<title>15</title>\n",
       "<text text-anchor=\"start\" x=\"370\" y=\"-231.3\" font-family=\"Courier,monospace\" font-weight=\"bold\" font-size=\"14.00\" fill=\"#004080\">Name</text>\n",
       "</g>\n",
       "<!-- 10&#45;&#45;15 -->\n",
       "<g id=\"edge15\" class=\"edge\">\n",
       "<title>10--15</title>\n",
       "<path fill=\"none\" stroke=\"black\" d=\"M345,-287C345,-287 361.2,-266.94 373.48,-251.74\"/>\n",
       "</g>\n",
       "<!-- 12 -->\n",
       "<g id=\"node13\" class=\"node\">\n",
       "<title>12</title>\n",
       "<text text-anchor=\"middle\" x=\"171\" y=\"-158.3\" font-family=\"Courier,monospace\" font-size=\"14.00\" fill=\"#008040\">&quot;y&quot;</text>\n",
       "</g>\n",
       "<!-- 11&#45;&#45;12 -->\n",
       "<g id=\"edge12\" class=\"edge\">\n",
       "<title>11--12</title>\n",
       "<path fill=\"none\" stroke=\"black\" d=\"M236,-215C236,-215 210.93,-194.94 191.92,-179.74\"/>\n",
       "</g>\n",
       "<!-- 13 -->\n",
       "<g id=\"node14\" class=\"node\">\n",
       "<title>13</title>\n",
       "<text text-anchor=\"middle\" x=\"243\" y=\"-158.3\" font-family=\"Courier,monospace\" font-size=\"14.00\" fill=\"#008040\">Load</text>\n",
       "</g>\n",
       "<!-- 11&#45;&#45;13 -->\n",
       "<g id=\"edge13\" class=\"edge\">\n",
       "<title>11--13</title>\n",
       "<path fill=\"none\" stroke=\"black\" d=\"M236,-215C236,-215 238.7,-194.94 240.75,-179.74\"/>\n",
       "</g>\n",
       "<!-- 16 -->\n",
       "<g id=\"node17\" class=\"node\">\n",
       "<title>16</title>\n",
       "<text text-anchor=\"middle\" x=\"315\" y=\"-158.3\" font-family=\"Courier,monospace\" font-size=\"14.00\" fill=\"#008040\">&quot;z&quot;</text>\n",
       "</g>\n",
       "<!-- 15&#45;&#45;16 -->\n",
       "<g id=\"edge16\" class=\"edge\">\n",
       "<title>15--16</title>\n",
       "<path fill=\"none\" stroke=\"black\" d=\"M380,-215C380,-215 354.93,-194.94 335.92,-179.74\"/>\n",
       "</g>\n",
       "<!-- 17 -->\n",
       "<g id=\"node18\" class=\"node\">\n",
       "<title>17</title>\n",
       "<text text-anchor=\"middle\" x=\"387\" y=\"-158.3\" font-family=\"Courier,monospace\" font-size=\"14.00\" fill=\"#008040\">Load</text>\n",
       "</g>\n",
       "<!-- 15&#45;&#45;17 -->\n",
       "<g id=\"edge17\" class=\"edge\">\n",
       "<title>15--17</title>\n",
       "<path fill=\"none\" stroke=\"black\" d=\"M380,-215C380,-215 382.7,-194.94 384.75,-179.74\"/>\n",
       "</g>\n",
       "<!-- 19 -->\n",
       "<g id=\"node20\" class=\"node\">\n",
       "<title>19</title>\n",
       "<text text-anchor=\"start\" x=\"516\" y=\"-231.3\" font-family=\"Courier,monospace\" font-weight=\"bold\" font-size=\"14.00\" fill=\"#004080\">Compare</text>\n",
       "</g>\n",
       "<!-- 18&#45;&#45;19 -->\n",
       "<g id=\"edge19\" class=\"edge\">\n",
       "<title>18--19</title>\n",
       "<path fill=\"none\" stroke=\"black\" d=\"M613,-287C613,-287 586.77,-266.94 566.89,-251.74\"/>\n",
       "</g>\n",
       "<!-- 27 -->\n",
       "<g id=\"node28\" class=\"node\">\n",
       "<title>27</title>\n",
       "<text text-anchor=\"start\" x=\"636\" y=\"-231.3\" font-family=\"Courier,monospace\" font-weight=\"bold\" font-size=\"14.00\" fill=\"#004080\">Return</text>\n",
       "</g>\n",
       "<!-- 18&#45;&#45;27 -->\n",
       "<g id=\"edge27\" class=\"edge\">\n",
       "<title>18--27</title>\n",
       "<path fill=\"none\" stroke=\"black\" d=\"M613,-287C613,-287 631.52,-266.94 645.55,-251.74\"/>\n",
       "</g>\n",
       "<!-- 31 -->\n",
       "<g id=\"node32\" class=\"node\">\n",
       "<title>31</title>\n",
       "<text text-anchor=\"start\" x=\"882.5\" y=\"-231.3\" font-family=\"Courier,monospace\" font-weight=\"bold\" font-size=\"14.00\" fill=\"#004080\">If</text>\n",
       "</g>\n",
       "<!-- 18&#45;&#45;31 -->\n",
       "<g id=\"edge31\" class=\"edge\">\n",
       "<title>18--31</title>\n",
       "<path fill=\"none\" stroke=\"black\" d=\"M613,-287C613,-287 794.32,-253.08 864.09,-240.03\"/>\n",
       "</g>\n",
       "<!-- 20 -->\n",
       "<g id=\"node21\" class=\"node\">\n",
       "<title>20</title>\n",
       "<text text-anchor=\"start\" x=\"442\" y=\"-159.3\" font-family=\"Courier,monospace\" font-weight=\"bold\" font-size=\"14.00\" fill=\"#004080\">Name</text>\n",
       "</g>\n",
       "<!-- 19&#45;&#45;20 -->\n",
       "<g id=\"edge20\" class=\"edge\">\n",
       "<title>19--20</title>\n",
       "<path fill=\"none\" stroke=\"black\" d=\"M543,-215C543,-215 510.19,-194.69 485.58,-179.45\"/>\n",
       "</g>\n",
       "<!-- 23 -->\n",
       "<g id=\"node24\" class=\"node\">\n",
       "<title>23</title>\n",
       "<text text-anchor=\"middle\" x=\"531\" y=\"-158.3\" font-family=\"Courier,monospace\" font-size=\"14.00\" fill=\"#008040\">Lt</text>\n",
       "</g>\n",
       "<!-- 19&#45;&#45;23 -->\n",
       "<g id=\"edge23\" class=\"edge\">\n",
       "<title>19--23</title>\n",
       "<path fill=\"none\" stroke=\"black\" d=\"M543,-215C543,-215 538.37,-194.94 534.86,-179.74\"/>\n",
       "</g>\n",
       "<!-- 24 -->\n",
       "<g id=\"node25\" class=\"node\">\n",
       "<title>24</title>\n",
       "<text text-anchor=\"start\" x=\"586\" y=\"-159.3\" font-family=\"Courier,monospace\" font-weight=\"bold\" font-size=\"14.00\" fill=\"#004080\">Name</text>\n",
       "</g>\n",
       "<!-- 19&#45;&#45;24 -->\n",
       "<g id=\"edge24\" class=\"edge\">\n",
       "<title>19--24</title>\n",
       "<path fill=\"none\" stroke=\"black\" d=\"M543,-215C543,-215 566.15,-194.94 583.69,-179.74\"/>\n",
       "</g>\n",
       "<!-- 21 -->\n",
       "<g id=\"node22\" class=\"node\">\n",
       "<title>21</title>\n",
       "<text text-anchor=\"middle\" x=\"387\" y=\"-86.3\" font-family=\"Courier,monospace\" font-size=\"14.00\" fill=\"#008040\">&quot;x&quot;</text>\n",
       "</g>\n",
       "<!-- 20&#45;&#45;21 -->\n",
       "<g id=\"edge21\" class=\"edge\">\n",
       "<title>20--21</title>\n",
       "<path fill=\"none\" stroke=\"black\" d=\"M452,-143C452,-143 426.93,-122.94 407.92,-107.74\"/>\n",
       "</g>\n",
       "<!-- 22 -->\n",
       "<g id=\"node23\" class=\"node\">\n",
       "<title>22</title>\n",
       "<text text-anchor=\"middle\" x=\"459\" y=\"-86.3\" font-family=\"Courier,monospace\" font-size=\"14.00\" fill=\"#008040\">Load</text>\n",
       "</g>\n",
       "<!-- 20&#45;&#45;22 -->\n",
       "<g id=\"edge22\" class=\"edge\">\n",
       "<title>20--22</title>\n",
       "<path fill=\"none\" stroke=\"black\" d=\"M452,-143C452,-143 454.7,-122.94 456.75,-107.74\"/>\n",
       "</g>\n",
       "<!-- 25 -->\n",
       "<g id=\"node26\" class=\"node\">\n",
       "<title>25</title>\n",
       "<text text-anchor=\"middle\" x=\"531\" y=\"-86.3\" font-family=\"Courier,monospace\" font-size=\"14.00\" fill=\"#008040\">&quot;y&quot;</text>\n",
       "</g>\n",
       "<!-- 24&#45;&#45;25 -->\n",
       "<g id=\"edge25\" class=\"edge\">\n",
       "<title>24--25</title>\n",
       "<path fill=\"none\" stroke=\"black\" d=\"M596,-143C596,-143 570.93,-122.94 551.92,-107.74\"/>\n",
       "</g>\n",
       "<!-- 26 -->\n",
       "<g id=\"node27\" class=\"node\">\n",
       "<title>26</title>\n",
       "<text text-anchor=\"middle\" x=\"603\" y=\"-86.3\" font-family=\"Courier,monospace\" font-size=\"14.00\" fill=\"#008040\">Load</text>\n",
       "</g>\n",
       "<!-- 24&#45;&#45;26 -->\n",
       "<g id=\"edge26\" class=\"edge\">\n",
       "<title>24--26</title>\n",
       "<path fill=\"none\" stroke=\"black\" d=\"M596,-143C596,-143 598.7,-122.94 600.75,-107.74\"/>\n",
       "</g>\n",
       "<!-- 28 -->\n",
       "<g id=\"node29\" class=\"node\">\n",
       "<title>28</title>\n",
       "<text text-anchor=\"start\" x=\"658\" y=\"-159.3\" font-family=\"Courier,monospace\" font-weight=\"bold\" font-size=\"14.00\" fill=\"#004080\">Name</text>\n",
       "</g>\n",
       "<!-- 27&#45;&#45;28 -->\n",
       "<g id=\"edge28\" class=\"edge\">\n",
       "<title>27--28</title>\n",
       "<path fill=\"none\" stroke=\"black\" d=\"M664.39,-216.05C666.59,-205.05 669.45,-190.76 671.64,-179.79\"/>\n",
       "</g>\n",
       "<!-- 29 -->\n",
       "<g id=\"node30\" class=\"node\">\n",
       "<title>29</title>\n",
       "<text text-anchor=\"middle\" x=\"675\" y=\"-86.3\" font-family=\"Courier,monospace\" font-size=\"14.00\" fill=\"#008040\">&quot;y&quot;</text>\n",
       "</g>\n",
       "<!-- 28&#45;&#45;29 -->\n",
       "<g id=\"edge29\" class=\"edge\">\n",
       "<title>28--29</title>\n",
       "<path fill=\"none\" stroke=\"black\" d=\"M682,-143C682,-143 679.3,-122.94 677.25,-107.74\"/>\n",
       "</g>\n",
       "<!-- 30 -->\n",
       "<g id=\"node31\" class=\"node\">\n",
       "<title>30</title>\n",
       "<text text-anchor=\"middle\" x=\"747\" y=\"-86.3\" font-family=\"Courier,monospace\" font-size=\"14.00\" fill=\"#008040\">Load</text>\n",
       "</g>\n",
       "<!-- 28&#45;&#45;30 -->\n",
       "<g id=\"edge30\" class=\"edge\">\n",
       "<title>28--30</title>\n",
       "<path fill=\"none\" stroke=\"black\" d=\"M682,-143C682,-143 707.07,-122.94 726.08,-107.74\"/>\n",
       "</g>\n",
       "<!-- 32 -->\n",
       "<g id=\"node33\" class=\"node\">\n",
       "<title>32</title>\n",
       "<text text-anchor=\"start\" x=\"862\" y=\"-159.3\" font-family=\"Courier,monospace\" font-weight=\"bold\" font-size=\"14.00\" fill=\"#004080\">Compare</text>\n",
       "</g>\n",
       "<!-- 31&#45;&#45;32 -->\n",
       "<g id=\"edge32\" class=\"edge\">\n",
       "<title>31--32</title>\n",
       "<path fill=\"none\" stroke=\"black\" d=\"M901,-215C901,-215 897.14,-194.94 894.22,-179.74\"/>\n",
       "</g>\n",
       "<!-- 40 -->\n",
       "<g id=\"node41\" class=\"node\">\n",
       "<title>40</title>\n",
       "<text text-anchor=\"start\" x=\"982\" y=\"-159.3\" font-family=\"Courier,monospace\" font-weight=\"bold\" font-size=\"14.00\" fill=\"#004080\">Return</text>\n",
       "</g>\n",
       "<!-- 31&#45;&#45;40 -->\n",
       "<g id=\"edge40\" class=\"edge\">\n",
       "<title>31--40</title>\n",
       "<path fill=\"none\" stroke=\"black\" d=\"M901,-215C901,-215 942.93,-194.43 974.04,-179.17\"/>\n",
       "</g>\n",
       "<!-- 33 -->\n",
       "<g id=\"node34\" class=\"node\">\n",
       "<title>33</title>\n",
       "<text text-anchor=\"start\" x=\"802\" y=\"-87.3\" font-family=\"Courier,monospace\" font-weight=\"bold\" font-size=\"14.00\" fill=\"#004080\">Name</text>\n",
       "</g>\n",
       "<!-- 32&#45;&#45;33 -->\n",
       "<g id=\"edge33\" class=\"edge\">\n",
       "<title>32--33</title>\n",
       "<path fill=\"none\" stroke=\"black\" d=\"M891,-143C891,-143 863.23,-122.94 842.18,-107.74\"/>\n",
       "</g>\n",
       "<!-- 36 -->\n",
       "<g id=\"node37\" class=\"node\">\n",
       "<title>36</title>\n",
       "<text text-anchor=\"middle\" x=\"891\" y=\"-86.3\" font-family=\"Courier,monospace\" font-size=\"14.00\" fill=\"#008040\">Lt</text>\n",
       "</g>\n",
       "<!-- 32&#45;&#45;36 -->\n",
       "<g id=\"edge36\" class=\"edge\">\n",
       "<title>32--36</title>\n",
       "<path fill=\"none\" stroke=\"black\" d=\"M891,-143C891,-143 891,-122.94 891,-107.74\"/>\n",
       "</g>\n",
       "<!-- 37 -->\n",
       "<g id=\"node38\" class=\"node\">\n",
       "<title>37</title>\n",
       "<text text-anchor=\"start\" x=\"946\" y=\"-87.3\" font-family=\"Courier,monospace\" font-weight=\"bold\" font-size=\"14.00\" fill=\"#004080\">Name</text>\n",
       "</g>\n",
       "<!-- 32&#45;&#45;37 -->\n",
       "<g id=\"edge37\" class=\"edge\">\n",
       "<title>32--37</title>\n",
       "<path fill=\"none\" stroke=\"black\" d=\"M891,-143C891,-143 918.77,-122.94 939.82,-107.74\"/>\n",
       "</g>\n",
       "<!-- 34 -->\n",
       "<g id=\"node35\" class=\"node\">\n",
       "<title>34</title>\n",
       "<text text-anchor=\"middle\" x=\"747\" y=\"-14.3\" font-family=\"Courier,monospace\" font-size=\"14.00\" fill=\"#008040\">&quot;x&quot;</text>\n",
       "</g>\n",
       "<!-- 33&#45;&#45;34 -->\n",
       "<g id=\"edge34\" class=\"edge\">\n",
       "<title>33--34</title>\n",
       "<path fill=\"none\" stroke=\"black\" d=\"M812,-71C812,-71 786.93,-50.94 767.92,-35.74\"/>\n",
       "</g>\n",
       "<!-- 35 -->\n",
       "<g id=\"node36\" class=\"node\">\n",
       "<title>35</title>\n",
       "<text text-anchor=\"middle\" x=\"819\" y=\"-14.3\" font-family=\"Courier,monospace\" font-size=\"14.00\" fill=\"#008040\">Load</text>\n",
       "</g>\n",
       "<!-- 33&#45;&#45;35 -->\n",
       "<g id=\"edge35\" class=\"edge\">\n",
       "<title>33--35</title>\n",
       "<path fill=\"none\" stroke=\"black\" d=\"M812,-71C812,-71 814.7,-50.94 816.75,-35.74\"/>\n",
       "</g>\n",
       "<!-- 38 -->\n",
       "<g id=\"node39\" class=\"node\">\n",
       "<title>38</title>\n",
       "<text text-anchor=\"middle\" x=\"891\" y=\"-14.3\" font-family=\"Courier,monospace\" font-size=\"14.00\" fill=\"#008040\">&quot;z&quot;</text>\n",
       "</g>\n",
       "<!-- 37&#45;&#45;38 -->\n",
       "<g id=\"edge38\" class=\"edge\">\n",
       "<title>37--38</title>\n",
       "<path fill=\"none\" stroke=\"black\" d=\"M956,-71C956,-71 930.93,-50.94 911.92,-35.74\"/>\n",
       "</g>\n",
       "<!-- 39 -->\n",
       "<g id=\"node40\" class=\"node\">\n",
       "<title>39</title>\n",
       "<text text-anchor=\"middle\" x=\"963\" y=\"-14.3\" font-family=\"Courier,monospace\" font-size=\"14.00\" fill=\"#008040\">Load</text>\n",
       "</g>\n",
       "<!-- 37&#45;&#45;39 -->\n",
       "<g id=\"edge39\" class=\"edge\">\n",
       "<title>37--39</title>\n",
       "<path fill=\"none\" stroke=\"black\" d=\"M956,-71C956,-71 958.7,-50.94 960.75,-35.74\"/>\n",
       "</g>\n",
       "<!-- 41 -->\n",
       "<g id=\"node42\" class=\"node\">\n",
       "<title>41</title>\n",
       "<text text-anchor=\"start\" x=\"1018\" y=\"-87.3\" font-family=\"Courier,monospace\" font-weight=\"bold\" font-size=\"14.00\" fill=\"#004080\">Name</text>\n",
       "</g>\n",
       "<!-- 40&#45;&#45;41 -->\n",
       "<g id=\"edge41\" class=\"edge\">\n",
       "<title>40--41</title>\n",
       "<path fill=\"none\" stroke=\"black\" d=\"M1013.78,-144.05C1018.18,-133.05 1023.89,-118.76 1028.28,-107.79\"/>\n",
       "</g>\n",
       "<!-- 42 -->\n",
       "<g id=\"node43\" class=\"node\">\n",
       "<title>42</title>\n",
       "<text text-anchor=\"middle\" x=\"1035\" y=\"-14.3\" font-family=\"Courier,monospace\" font-size=\"14.00\" fill=\"#008040\">&quot;y&quot;</text>\n",
       "</g>\n",
       "<!-- 41&#45;&#45;42 -->\n",
       "<g id=\"edge42\" class=\"edge\">\n",
       "<title>41--42</title>\n",
       "<path fill=\"none\" stroke=\"black\" d=\"M1042,-71C1042,-71 1039.3,-50.94 1037.25,-35.74\"/>\n",
       "</g>\n",
       "<!-- 43 -->\n",
       "<g id=\"node44\" class=\"node\">\n",
       "<title>43</title>\n",
       "<text text-anchor=\"middle\" x=\"1107\" y=\"-14.3\" font-family=\"Courier,monospace\" font-size=\"14.00\" fill=\"#008040\">Load</text>\n",
       "</g>\n",
       "<!-- 41&#45;&#45;43 -->\n",
       "<g id=\"edge43\" class=\"edge\">\n",
       "<title>41--43</title>\n",
       "<path fill=\"none\" stroke=\"black\" d=\"M1042,-71C1042,-71 1067.07,-50.94 1086.08,-35.74\"/>\n",
       "</g>\n",
       "<!-- 45 -->\n",
       "<g id=\"node46\" class=\"node\">\n",
       "<title>45</title>\n",
       "<text text-anchor=\"start\" x=\"1236\" y=\"-231.3\" font-family=\"Courier,monospace\" font-weight=\"bold\" font-size=\"14.00\" fill=\"#004080\">Compare</text>\n",
       "</g>\n",
       "<!-- 44&#45;&#45;45 -->\n",
       "<g id=\"edge45\" class=\"edge\">\n",
       "<title>44--45</title>\n",
       "<path fill=\"none\" stroke=\"black\" d=\"M1332,-287C1332,-287 1306.15,-266.94 1286.57,-251.74\"/>\n",
       "</g>\n",
       "<!-- 53 -->\n",
       "<g id=\"node54\" class=\"node\">\n",
       "<title>53</title>\n",
       "<text text-anchor=\"start\" x=\"1356\" y=\"-231.3\" font-family=\"Courier,monospace\" font-weight=\"bold\" font-size=\"14.00\" fill=\"#004080\">Return</text>\n",
       "</g>\n",
       "<!-- 44&#45;&#45;53 -->\n",
       "<g id=\"edge53\" class=\"edge\">\n",
       "<title>44--53</title>\n",
       "<path fill=\"none\" stroke=\"black\" d=\"M1332,-287C1332,-287 1350.9,-266.94 1365.23,-251.74\"/>\n",
       "</g>\n",
       "<!-- 57 -->\n",
       "<g id=\"node58\" class=\"node\">\n",
       "<title>57</title>\n",
       "<text text-anchor=\"start\" x=\"1533.5\" y=\"-231.3\" font-family=\"Courier,monospace\" font-weight=\"bold\" font-size=\"14.00\" fill=\"#004080\">If</text>\n",
       "</g>\n",
       "<!-- 44&#45;&#45;57 -->\n",
       "<g id=\"edge57\" class=\"edge\">\n",
       "<title>44--57</title>\n",
       "<path fill=\"none\" stroke=\"black\" d=\"M1332,-287C1332,-287 1458.9,-255.58 1515.4,-241.59\"/>\n",
       "</g>\n",
       "<!-- 46 -->\n",
       "<g id=\"node47\" class=\"node\">\n",
       "<title>46</title>\n",
       "<text text-anchor=\"start\" x=\"1162\" y=\"-159.3\" font-family=\"Courier,monospace\" font-weight=\"bold\" font-size=\"14.00\" fill=\"#004080\">Name</text>\n",
       "</g>\n",
       "<!-- 45&#45;&#45;46 -->\n",
       "<g id=\"edge46\" class=\"edge\">\n",
       "<title>45--46</title>\n",
       "<path fill=\"none\" stroke=\"black\" d=\"M1263,-215C1263,-215 1230.19,-194.69 1205.58,-179.45\"/>\n",
       "</g>\n",
       "<!-- 49 -->\n",
       "<g id=\"node50\" class=\"node\">\n",
       "<title>49</title>\n",
       "<text text-anchor=\"middle\" x=\"1251\" y=\"-158.3\" font-family=\"Courier,monospace\" font-size=\"14.00\" fill=\"#008040\">Gt</text>\n",
       "</g>\n",
       "<!-- 45&#45;&#45;49 -->\n",
       "<g id=\"edge49\" class=\"edge\">\n",
       "<title>45--49</title>\n",
       "<path fill=\"none\" stroke=\"black\" d=\"M1263,-215C1263,-215 1258.37,-194.94 1254.86,-179.74\"/>\n",
       "</g>\n",
       "<!-- 50 -->\n",
       "<g id=\"node51\" class=\"node\">\n",
       "<title>50</title>\n",
       "<text text-anchor=\"start\" x=\"1306\" y=\"-159.3\" font-family=\"Courier,monospace\" font-weight=\"bold\" font-size=\"14.00\" fill=\"#004080\">Name</text>\n",
       "</g>\n",
       "<!-- 45&#45;&#45;50 -->\n",
       "<g id=\"edge50\" class=\"edge\">\n",
       "<title>45--50</title>\n",
       "<path fill=\"none\" stroke=\"black\" d=\"M1263,-215C1263,-215 1286.15,-194.94 1303.69,-179.74\"/>\n",
       "</g>\n",
       "<!-- 47 -->\n",
       "<g id=\"node48\" class=\"node\">\n",
       "<title>47</title>\n",
       "<text text-anchor=\"middle\" x=\"1107\" y=\"-86.3\" font-family=\"Courier,monospace\" font-size=\"14.00\" fill=\"#008040\">&quot;x&quot;</text>\n",
       "</g>\n",
       "<!-- 46&#45;&#45;47 -->\n",
       "<g id=\"edge47\" class=\"edge\">\n",
       "<title>46--47</title>\n",
       "<path fill=\"none\" stroke=\"black\" d=\"M1172,-143C1172,-143 1146.93,-122.94 1127.92,-107.74\"/>\n",
       "</g>\n",
       "<!-- 48 -->\n",
       "<g id=\"node49\" class=\"node\">\n",
       "<title>48</title>\n",
       "<text text-anchor=\"middle\" x=\"1179\" y=\"-86.3\" font-family=\"Courier,monospace\" font-size=\"14.00\" fill=\"#008040\">Load</text>\n",
       "</g>\n",
       "<!-- 46&#45;&#45;48 -->\n",
       "<g id=\"edge48\" class=\"edge\">\n",
       "<title>46--48</title>\n",
       "<path fill=\"none\" stroke=\"black\" d=\"M1172,-143C1172,-143 1174.7,-122.94 1176.75,-107.74\"/>\n",
       "</g>\n",
       "<!-- 51 -->\n",
       "<g id=\"node52\" class=\"node\">\n",
       "<title>51</title>\n",
       "<text text-anchor=\"middle\" x=\"1251\" y=\"-86.3\" font-family=\"Courier,monospace\" font-size=\"14.00\" fill=\"#008040\">&quot;y&quot;</text>\n",
       "</g>\n",
       "<!-- 50&#45;&#45;51 -->\n",
       "<g id=\"edge51\" class=\"edge\">\n",
       "<title>50--51</title>\n",
       "<path fill=\"none\" stroke=\"black\" d=\"M1316,-143C1316,-143 1290.93,-122.94 1271.92,-107.74\"/>\n",
       "</g>\n",
       "<!-- 52 -->\n",
       "<g id=\"node53\" class=\"node\">\n",
       "<title>52</title>\n",
       "<text text-anchor=\"middle\" x=\"1323\" y=\"-86.3\" font-family=\"Courier,monospace\" font-size=\"14.00\" fill=\"#008040\">Load</text>\n",
       "</g>\n",
       "<!-- 50&#45;&#45;52 -->\n",
       "<g id=\"edge52\" class=\"edge\">\n",
       "<title>50--52</title>\n",
       "<path fill=\"none\" stroke=\"black\" d=\"M1316,-143C1316,-143 1318.7,-122.94 1320.75,-107.74\"/>\n",
       "</g>\n",
       "<!-- 54 -->\n",
       "<g id=\"node55\" class=\"node\">\n",
       "<title>54</title>\n",
       "<text text-anchor=\"start\" x=\"1378\" y=\"-159.3\" font-family=\"Courier,monospace\" font-weight=\"bold\" font-size=\"14.00\" fill=\"#004080\">Name</text>\n",
       "</g>\n",
       "<!-- 53&#45;&#45;54 -->\n",
       "<g id=\"edge54\" class=\"edge\">\n",
       "<title>53--54</title>\n",
       "<path fill=\"none\" stroke=\"black\" d=\"M1384.39,-216.05C1386.59,-205.05 1389.45,-190.76 1391.64,-179.79\"/>\n",
       "</g>\n",
       "<!-- 55 -->\n",
       "<g id=\"node56\" class=\"node\">\n",
       "<title>55</title>\n",
       "<text text-anchor=\"middle\" x=\"1395\" y=\"-86.3\" font-family=\"Courier,monospace\" font-size=\"14.00\" fill=\"#008040\">&quot;y&quot;</text>\n",
       "</g>\n",
       "<!-- 54&#45;&#45;55 -->\n",
       "<g id=\"edge55\" class=\"edge\">\n",
       "<title>54--55</title>\n",
       "<path fill=\"none\" stroke=\"black\" d=\"M1402,-143C1402,-143 1399.3,-122.94 1397.25,-107.74\"/>\n",
       "</g>\n",
       "<!-- 56 -->\n",
       "<g id=\"node57\" class=\"node\">\n",
       "<title>56</title>\n",
       "<text text-anchor=\"middle\" x=\"1467\" y=\"-86.3\" font-family=\"Courier,monospace\" font-size=\"14.00\" fill=\"#008040\">Load</text>\n",
       "</g>\n",
       "<!-- 54&#45;&#45;56 -->\n",
       "<g id=\"edge56\" class=\"edge\">\n",
       "<title>54--56</title>\n",
       "<path fill=\"none\" stroke=\"black\" d=\"M1402,-143C1402,-143 1427.07,-122.94 1446.08,-107.74\"/>\n",
       "</g>\n",
       "<!-- 58 -->\n",
       "<g id=\"node59\" class=\"node\">\n",
       "<title>58</title>\n",
       "<text text-anchor=\"start\" x=\"1548\" y=\"-159.3\" font-family=\"Courier,monospace\" font-weight=\"bold\" font-size=\"14.00\" fill=\"#004080\">Compare</text>\n",
       "</g>\n",
       "<!-- 57&#45;&#45;58 -->\n",
       "<g id=\"edge58\" class=\"edge\">\n",
       "<title>57--58</title>\n",
       "<path fill=\"none\" stroke=\"black\" d=\"M1561,-215C1561,-215 1567.17,-194.94 1571.85,-179.74\"/>\n",
       "</g>\n",
       "<!-- 66 -->\n",
       "<g id=\"node67\" class=\"node\">\n",
       "<title>66</title>\n",
       "<text text-anchor=\"start\" x=\"1685\" y=\"-159.3\" font-family=\"Courier,monospace\" font-weight=\"bold\" font-size=\"14.00\" fill=\"#004080\">Return</text>\n",
       "</g>\n",
       "<!-- 57&#45;&#45;66 -->\n",
       "<g id=\"edge66\" class=\"edge\">\n",
       "<title>57--66</title>\n",
       "<path fill=\"none\" stroke=\"black\" d=\"M1561,-215C1561,-215 1633.44,-189.72 1677.3,-174.41\"/>\n",
       "</g>\n",
       "<!-- 59 -->\n",
       "<g id=\"node60\" class=\"node\">\n",
       "<title>59</title>\n",
       "<text text-anchor=\"start\" x=\"1522\" y=\"-87.3\" font-family=\"Courier,monospace\" font-weight=\"bold\" font-size=\"14.00\" fill=\"#004080\">Name</text>\n",
       "</g>\n",
       "<!-- 58&#45;&#45;59 -->\n",
       "<g id=\"edge59\" class=\"edge\">\n",
       "<title>58--59</title>\n",
       "<path fill=\"none\" stroke=\"black\" d=\"M1583,-143C1583,-143 1566.03,-122.94 1553.16,-107.74\"/>\n",
       "</g>\n",
       "<!-- 62 -->\n",
       "<g id=\"node63\" class=\"node\">\n",
       "<title>62</title>\n",
       "<text text-anchor=\"middle\" x=\"1611\" y=\"-86.3\" font-family=\"Courier,monospace\" font-size=\"14.00\" fill=\"#008040\">Gt</text>\n",
       "</g>\n",
       "<!-- 58&#45;&#45;62 -->\n",
       "<g id=\"edge62\" class=\"edge\">\n",
       "<title>58--62</title>\n",
       "<path fill=\"none\" stroke=\"black\" d=\"M1583,-143C1583,-143 1593.8,-122.94 1601.99,-107.74\"/>\n",
       "</g>\n",
       "<!-- 63 -->\n",
       "<g id=\"node64\" class=\"node\">\n",
       "<title>63</title>\n",
       "<text text-anchor=\"start\" x=\"1666\" y=\"-87.3\" font-family=\"Courier,monospace\" font-weight=\"bold\" font-size=\"14.00\" fill=\"#004080\">Name</text>\n",
       "</g>\n",
       "<!-- 58&#45;&#45;63 -->\n",
       "<g id=\"edge63\" class=\"edge\">\n",
       "<title>58--63</title>\n",
       "<path fill=\"none\" stroke=\"black\" d=\"M1583,-143C1583,-143 1626.58,-120.34 1656.2,-104.94\"/>\n",
       "</g>\n",
       "<!-- 60 -->\n",
       "<g id=\"node61\" class=\"node\">\n",
       "<title>60</title>\n",
       "<text text-anchor=\"middle\" x=\"1467\" y=\"-14.3\" font-family=\"Courier,monospace\" font-size=\"14.00\" fill=\"#008040\">&quot;x&quot;</text>\n",
       "</g>\n",
       "<!-- 59&#45;&#45;60 -->\n",
       "<g id=\"edge60\" class=\"edge\">\n",
       "<title>59--60</title>\n",
       "<path fill=\"none\" stroke=\"black\" d=\"M1532,-71C1532,-71 1506.93,-50.94 1487.92,-35.74\"/>\n",
       "</g>\n",
       "<!-- 61 -->\n",
       "<g id=\"node62\" class=\"node\">\n",
       "<title>61</title>\n",
       "<text text-anchor=\"middle\" x=\"1539\" y=\"-14.3\" font-family=\"Courier,monospace\" font-size=\"14.00\" fill=\"#008040\">Load</text>\n",
       "</g>\n",
       "<!-- 59&#45;&#45;61 -->\n",
       "<g id=\"edge61\" class=\"edge\">\n",
       "<title>59--61</title>\n",
       "<path fill=\"none\" stroke=\"black\" d=\"M1532,-71C1532,-71 1534.7,-50.94 1536.75,-35.74\"/>\n",
       "</g>\n",
       "<!-- 64 -->\n",
       "<g id=\"node65\" class=\"node\">\n",
       "<title>64</title>\n",
       "<text text-anchor=\"middle\" x=\"1611\" y=\"-14.3\" font-family=\"Courier,monospace\" font-size=\"14.00\" fill=\"#008040\">&quot;z&quot;</text>\n",
       "</g>\n",
       "<!-- 63&#45;&#45;64 -->\n",
       "<g id=\"edge64\" class=\"edge\">\n",
       "<title>63--64</title>\n",
       "<path fill=\"none\" stroke=\"black\" d=\"M1676,-71C1676,-71 1650.93,-50.94 1631.92,-35.74\"/>\n",
       "</g>\n",
       "<!-- 65 -->\n",
       "<g id=\"node66\" class=\"node\">\n",
       "<title>65</title>\n",
       "<text text-anchor=\"middle\" x=\"1683\" y=\"-14.3\" font-family=\"Courier,monospace\" font-size=\"14.00\" fill=\"#008040\">Load</text>\n",
       "</g>\n",
       "<!-- 63&#45;&#45;65 -->\n",
       "<g id=\"edge65\" class=\"edge\">\n",
       "<title>63--65</title>\n",
       "<path fill=\"none\" stroke=\"black\" d=\"M1676,-71C1676,-71 1678.7,-50.94 1680.75,-35.74\"/>\n",
       "</g>\n",
       "<!-- 67 -->\n",
       "<g id=\"node68\" class=\"node\">\n",
       "<title>67</title>\n",
       "<text text-anchor=\"start\" x=\"1738\" y=\"-87.3\" font-family=\"Courier,monospace\" font-weight=\"bold\" font-size=\"14.00\" fill=\"#004080\">Name</text>\n",
       "</g>\n",
       "<!-- 66&#45;&#45;67 -->\n",
       "<g id=\"edge67\" class=\"edge\">\n",
       "<title>66--67</title>\n",
       "<path fill=\"none\" stroke=\"black\" d=\"M1720.89,-144.05C1727.97,-133.05 1737.15,-118.76 1744.21,-107.79\"/>\n",
       "</g>\n",
       "<!-- 68 -->\n",
       "<g id=\"node69\" class=\"node\">\n",
       "<title>68</title>\n",
       "<text text-anchor=\"middle\" x=\"1755\" y=\"-14.3\" font-family=\"Courier,monospace\" font-size=\"14.00\" fill=\"#008040\">&quot;x&quot;</text>\n",
       "</g>\n",
       "<!-- 67&#45;&#45;68 -->\n",
       "<g id=\"edge68\" class=\"edge\">\n",
       "<title>67--68</title>\n",
       "<path fill=\"none\" stroke=\"black\" d=\"M1762,-71C1762,-71 1759.3,-50.94 1757.25,-35.74\"/>\n",
       "</g>\n",
       "<!-- 69 -->\n",
       "<g id=\"node70\" class=\"node\">\n",
       "<title>69</title>\n",
       "<text text-anchor=\"middle\" x=\"1827\" y=\"-14.3\" font-family=\"Courier,monospace\" font-size=\"14.00\" fill=\"#008040\">Load</text>\n",
       "</g>\n",
       "<!-- 67&#45;&#45;69 -->\n",
       "<g id=\"edge69\" class=\"edge\">\n",
       "<title>67--69</title>\n",
       "<path fill=\"none\" stroke=\"black\" d=\"M1762,-71C1762,-71 1787.07,-50.94 1806.08,-35.74\"/>\n",
       "</g>\n",
       "<!-- 71 -->\n",
       "<g id=\"node72\" class=\"node\">\n",
       "<title>71</title>\n",
       "<text text-anchor=\"start\" x=\"1597\" y=\"-303.3\" font-family=\"Courier,monospace\" font-weight=\"bold\" font-size=\"14.00\" fill=\"#004080\">Name</text>\n",
       "</g>\n",
       "<!-- 70&#45;&#45;71 -->\n",
       "<g id=\"edge71\" class=\"edge\">\n",
       "<title>70--71</title>\n",
       "<path fill=\"none\" stroke=\"black\" d=\"M1186.71,-372.02C1273.33,-358.84 1507.44,-323.22 1587.06,-311.1\"/>\n",
       "</g>\n",
       "<!-- 72 -->\n",
       "<g id=\"node73\" class=\"node\">\n",
       "<title>72</title>\n",
       "<text text-anchor=\"middle\" x=\"1614\" y=\"-230.3\" font-family=\"Courier,monospace\" font-size=\"14.00\" fill=\"#008040\">&quot;z&quot;</text>\n",
       "</g>\n",
       "<!-- 71&#45;&#45;72 -->\n",
       "<g id=\"edge72\" class=\"edge\">\n",
       "<title>71--72</title>\n",
       "<path fill=\"none\" stroke=\"black\" d=\"M1621,-287C1621,-287 1618.3,-266.94 1616.25,-251.74\"/>\n",
       "</g>\n",
       "<!-- 73 -->\n",
       "<g id=\"node74\" class=\"node\">\n",
       "<title>73</title>\n",
       "<text text-anchor=\"middle\" x=\"1686\" y=\"-230.3\" font-family=\"Courier,monospace\" font-size=\"14.00\" fill=\"#008040\">Load</text>\n",
       "</g>\n",
       "<!-- 71&#45;&#45;73 -->\n",
       "<g id=\"edge73\" class=\"edge\">\n",
       "<title>71--73</title>\n",
       "<path fill=\"none\" stroke=\"black\" d=\"M1621,-287C1621,-287 1646.07,-266.94 1665.08,-251.74\"/>\n",
       "</g>\n",
       "</g>\n",
       "</svg>"
      ],
      "text/plain": [
       "<IPython.core.display.SVG object>"
      ]
     },
     "metadata": {},
     "output_type": "display_data"
    }
   ],
   "source": [
    "middle_tree = ast.parse(inspect.getsource(middle))\n",
    "show_ast(middle_tree)"
   ]
  },
  {
   "cell_type": "markdown",
   "metadata": {
    "slideshow": {
     "slide_type": "fragment"
    }
   },
   "source": [
    "At the very bottom of the tree, you can see a number of `Name` nodes, referring individual variables. These are the ones we want to transform."
   ]
  },
  {
   "cell_type": "markdown",
   "metadata": {
    "slideshow": {
     "slide_type": "subslide"
    }
   },
   "source": [
    "### Tracking Variable Accesses\n",
    "\n",
    "Our goal is to _traverse_ the tree, identify all `Name` nodes, and convert them to respective `_data` accesses.\n",
    "To this end, we manipulate the AST through the `ast` Python module `ast`. The [official Python `ast` reference](http://docs.python.org/3/library/ast) is complete, but a bit brief; the documentation [\"Green Tree Snakes - the missing Python AST docs\"](https://greentreesnakes.readthedocs.io/en/latest/) provides an excellent introduction."
   ]
  },
  {
   "cell_type": "markdown",
   "metadata": {
    "slideshow": {
     "slide_type": "fragment"
    }
   },
   "source": [
    "The Python `ast` module provides a class `NodeTransformer` that allows such transformations. By subclassing from it, we provide a method `visit_Name()` that will be invoked for all `Name` nodes – and replace it by a new subtree from `make_get_data()`:"
   ]
  },
  {
   "cell_type": "code",
   "execution_count": 66,
   "metadata": {
    "execution": {
     "iopub.execute_input": "2023-01-07T16:02:48.079626Z",
     "iopub.status.busy": "2023-01-07T16:02:48.079212Z",
     "iopub.status.idle": "2023-01-07T16:02:48.080594Z",
     "shell.execute_reply": "2023-01-07T16:02:48.080802Z"
    },
    "slideshow": {
     "slide_type": "skip"
    }
   },
   "outputs": [],
   "source": [
    "from ast import NodeTransformer, NodeVisitor, Name, AST"
   ]
  },
  {
   "cell_type": "code",
   "execution_count": 67,
   "metadata": {
    "execution": {
     "iopub.execute_input": "2023-01-07T16:02:48.082796Z",
     "iopub.status.busy": "2023-01-07T16:02:48.082434Z",
     "iopub.status.idle": "2023-01-07T16:02:48.083754Z",
     "shell.execute_reply": "2023-01-07T16:02:48.084053Z"
    },
    "slideshow": {
     "slide_type": "skip"
    }
   },
   "outputs": [],
   "source": [
    "import typing"
   ]
  },
  {
   "cell_type": "code",
   "execution_count": 68,
   "metadata": {
    "execution": {
     "iopub.execute_input": "2023-01-07T16:02:48.085973Z",
     "iopub.status.busy": "2023-01-07T16:02:48.085556Z",
     "iopub.status.idle": "2023-01-07T16:02:48.087497Z",
     "shell.execute_reply": "2023-01-07T16:02:48.087946Z"
    },
    "slideshow": {
     "slide_type": "fragment"
    }
   },
   "outputs": [],
   "source": [
    "DATA_TRACKER = '_data'"
   ]
  },
  {
   "cell_type": "code",
   "execution_count": 69,
   "metadata": {
    "execution": {
     "iopub.execute_input": "2023-01-07T16:02:48.090667Z",
     "iopub.status.busy": "2023-01-07T16:02:48.090317Z",
     "iopub.status.idle": "2023-01-07T16:02:48.091744Z",
     "shell.execute_reply": "2023-01-07T16:02:48.092003Z"
    },
    "slideshow": {
     "slide_type": "subslide"
    }
   },
   "outputs": [],
   "source": [
    "def is_internal(id: str) -> bool:\n",
    "    \"\"\"Return True if `id` is a built-in function or type\"\"\"\n",
    "    return (id in dir(__builtins__) or id in dir(typing))"
   ]
  },
  {
   "cell_type": "code",
   "execution_count": 70,
   "metadata": {
    "execution": {
     "iopub.execute_input": "2023-01-07T16:02:48.094455Z",
     "iopub.status.busy": "2023-01-07T16:02:48.094053Z",
     "iopub.status.idle": "2023-01-07T16:02:48.095401Z",
     "shell.execute_reply": "2023-01-07T16:02:48.095605Z"
    },
    "slideshow": {
     "slide_type": "fragment"
    }
   },
   "outputs": [],
   "source": [
    "assert is_internal('int')\n",
    "assert is_internal('None')\n",
    "assert is_internal('Tuple')"
   ]
  },
  {
   "cell_type": "code",
   "execution_count": 71,
   "metadata": {
    "execution": {
     "iopub.execute_input": "2023-01-07T16:02:48.098111Z",
     "iopub.status.busy": "2023-01-07T16:02:48.097765Z",
     "iopub.status.idle": "2023-01-07T16:02:48.098966Z",
     "shell.execute_reply": "2023-01-07T16:02:48.099161Z"
    },
    "slideshow": {
     "slide_type": "subslide"
    }
   },
   "outputs": [],
   "source": [
    "class TrackGetTransformer(NodeTransformer):\n",
    "    def visit_Name(self, node: Name) -> AST:\n",
    "        self.generic_visit(node)\n",
    "\n",
    "        if is_internal(node.id):\n",
    "            # Do not change built-in names and types\n",
    "            return node\n",
    "\n",
    "        if node.id == DATA_TRACKER:\n",
    "            # Do not change own accesses\n",
    "            return node\n",
    "\n",
    "        if not isinstance(node.ctx, Load):\n",
    "            # Only change loads (not stores, not deletions)\n",
    "            return node\n",
    "\n",
    "        new_node = make_get_data(node.id)\n",
    "        ast.copy_location(new_node, node)\n",
    "        return new_node"
   ]
  },
  {
   "cell_type": "markdown",
   "metadata": {
    "slideshow": {
     "slide_type": "subslide"
    }
   },
   "source": [
    "Our function `make_get_data(id, method)` returns a new subtree equivalent to the Python code `_data.method('id', id)`."
   ]
  },
  {
   "cell_type": "code",
   "execution_count": 72,
   "metadata": {
    "execution": {
     "iopub.execute_input": "2023-01-07T16:02:48.101103Z",
     "iopub.status.busy": "2023-01-07T16:02:48.100796Z",
     "iopub.status.idle": "2023-01-07T16:02:48.102016Z",
     "shell.execute_reply": "2023-01-07T16:02:48.102314Z"
    },
    "slideshow": {
     "slide_type": "skip"
    }
   },
   "outputs": [],
   "source": [
    "from ast import Module, Load, Store, \\\n",
    "    Attribute, With, withitem, keyword, Call, Expr, \\\n",
    "    Assign, AugAssign, AnnAssign, Assert"
   ]
  },
  {
   "cell_type": "code",
   "execution_count": 73,
   "metadata": {
    "execution": {
     "iopub.execute_input": "2023-01-07T16:02:48.104167Z",
     "iopub.status.busy": "2023-01-07T16:02:48.103838Z",
     "iopub.status.idle": "2023-01-07T16:02:48.105265Z",
     "shell.execute_reply": "2023-01-07T16:02:48.105525Z"
    },
    "slideshow": {
     "slide_type": "fragment"
    }
   },
   "outputs": [],
   "source": [
    "# Starting with Python 3.8, these will become Constant.\n",
    "# from ast import Num, Str, NameConstant\n",
    "# Use `ast.Num`, `ast.Str`, and `ast.NameConstant` for compatibility"
   ]
  },
  {
   "cell_type": "code",
   "execution_count": 74,
   "metadata": {
    "execution": {
     "iopub.execute_input": "2023-01-07T16:02:48.107954Z",
     "iopub.status.busy": "2023-01-07T16:02:48.107632Z",
     "iopub.status.idle": "2023-01-07T16:02:48.108879Z",
     "shell.execute_reply": "2023-01-07T16:02:48.109311Z"
    },
    "slideshow": {
     "slide_type": "fragment"
    }
   },
   "outputs": [],
   "source": [
    "def make_get_data(id: str, method: str = 'get') -> Call:\n",
    "    return Call(func=Attribute(value=Name(id=DATA_TRACKER, ctx=Load()), \n",
    "                               attr=method, ctx=Load()),\n",
    "                args=[ast.Str(s=id), Name(id=id, ctx=Load())],\n",
    "                keywords=[])"
   ]
  },
  {
   "cell_type": "markdown",
   "metadata": {
    "slideshow": {
     "slide_type": "fragment"
    }
   },
   "source": [
    "This is the tree that `make_get_data()` produces:"
   ]
  },
  {
   "cell_type": "code",
   "execution_count": 75,
   "metadata": {
    "execution": {
     "iopub.execute_input": "2023-01-07T16:02:48.111630Z",
     "iopub.status.busy": "2023-01-07T16:02:48.111258Z",
     "iopub.status.idle": "2023-01-07T16:02:48.380263Z",
     "shell.execute_reply": "2023-01-07T16:02:48.380590Z"
    },
    "slideshow": {
     "slide_type": "fragment"
    }
   },
   "outputs": [
    {
     "data": {
      "image/svg+xml": [
       "<svg xmlns=\"http://www.w3.org/2000/svg\" xmlns:xlink=\"http://www.w3.org/1999/xlink\" width=\"484pt\" height=\"260pt\" viewBox=\"0.00 0.00 484.00 260.00\">\n",
       "<g id=\"graph0\" class=\"graph\" transform=\"scale(1 1) rotate(0) translate(4 256)\">\n",
       "<polygon fill=\"white\" stroke=\"none\" points=\"-4,4 -4,-256 480,-256 480,4 -4,4\"/>\n",
       "<!-- 0 -->\n",
       "<g id=\"node1\" class=\"node\">\n",
       "<title>0</title>\n",
       "<text text-anchor=\"start\" x=\"277\" y=\"-231.3\" font-family=\"Courier,monospace\" font-weight=\"bold\" font-size=\"14.00\" fill=\"#004080\">Call</text>\n",
       "</g>\n",
       "<!-- 1 -->\n",
       "<g id=\"node2\" class=\"node\">\n",
       "<title>1</title>\n",
       "<text text-anchor=\"start\" x=\"138.5\" y=\"-159.3\" font-family=\"Courier,monospace\" font-weight=\"bold\" font-size=\"14.00\" fill=\"#004080\">Attribute</text>\n",
       "</g>\n",
       "<!-- 0&#45;&#45;1 -->\n",
       "<g id=\"edge1\" class=\"edge\">\n",
       "<title>0--1</title>\n",
       "<path fill=\"none\" stroke=\"black\" d=\"M293,-215C293,-215 248.15,-195.07 213.99,-179.88\"/>\n",
       "</g>\n",
       "<!-- 7 -->\n",
       "<g id=\"node8\" class=\"node\">\n",
       "<title>7</title>\n",
       "<text text-anchor=\"start\" x=\"260.5\" y=\"-159.3\" font-family=\"Courier,monospace\" font-weight=\"bold\" font-size=\"14.00\" fill=\"#004080\">Constant</text>\n",
       "</g>\n",
       "<!-- 0&#45;&#45;7 -->\n",
       "<g id=\"edge7\" class=\"edge\">\n",
       "<title>0--7</title>\n",
       "<path fill=\"none\" stroke=\"black\" d=\"M293,-215C293,-215 293.39,-194.94 293.68,-179.74\"/>\n",
       "</g>\n",
       "<!-- 9 -->\n",
       "<g id=\"node10\" class=\"node\">\n",
       "<title>9</title>\n",
       "<text text-anchor=\"start\" x=\"364\" y=\"-159.3\" font-family=\"Courier,monospace\" font-weight=\"bold\" font-size=\"14.00\" fill=\"#004080\">Name</text>\n",
       "</g>\n",
       "<!-- 0&#45;&#45;9 -->\n",
       "<g id=\"edge9\" class=\"edge\">\n",
       "<title>0--9</title>\n",
       "<path fill=\"none\" stroke=\"black\" d=\"M293,-215C293,-215 328.24,-194.18 354.12,-178.88\"/>\n",
       "</g>\n",
       "<!-- 2 -->\n",
       "<g id=\"node3\" class=\"node\">\n",
       "<title>2</title>\n",
       "<text text-anchor=\"start\" x=\"61\" y=\"-87.3\" font-family=\"Courier,monospace\" font-weight=\"bold\" font-size=\"14.00\" fill=\"#004080\">Name</text>\n",
       "</g>\n",
       "<!-- 1&#45;&#45;2 -->\n",
       "<g id=\"edge2\" class=\"edge\">\n",
       "<title>1--2</title>\n",
       "<path fill=\"none\" stroke=\"black\" d=\"M172,-143C172,-143 132.71,-121.27 104.94,-105.9\"/>\n",
       "</g>\n",
       "<!-- 5 -->\n",
       "<g id=\"node6\" class=\"node\">\n",
       "<title>5</title>\n",
       "<text text-anchor=\"middle\" x=\"152\" y=\"-86.3\" font-family=\"Courier,monospace\" font-size=\"14.00\" fill=\"#008040\">&quot;get&quot;</text>\n",
       "</g>\n",
       "<!-- 1&#45;&#45;5 -->\n",
       "<g id=\"edge5\" class=\"edge\">\n",
       "<title>1--5</title>\n",
       "<path fill=\"none\" stroke=\"black\" d=\"M172,-143C172,-143 164.28,-122.94 158.44,-107.74\"/>\n",
       "</g>\n",
       "<!-- 6 -->\n",
       "<g id=\"node7\" class=\"node\">\n",
       "<title>6</title>\n",
       "<text text-anchor=\"middle\" x=\"226\" y=\"-86.3\" font-family=\"Courier,monospace\" font-size=\"14.00\" fill=\"#008040\">Load</text>\n",
       "</g>\n",
       "<!-- 1&#45;&#45;6 -->\n",
       "<g id=\"edge6\" class=\"edge\">\n",
       "<title>1--6</title>\n",
       "<path fill=\"none\" stroke=\"black\" d=\"M172,-143C172,-143 192.83,-122.94 208.62,-107.74\"/>\n",
       "</g>\n",
       "<!-- 3 -->\n",
       "<g id=\"node4\" class=\"node\">\n",
       "<title>3</title>\n",
       "<text text-anchor=\"middle\" x=\"37\" y=\"-14.3\" font-family=\"Courier,monospace\" font-size=\"14.00\" fill=\"#008040\">&quot;_data&quot;</text>\n",
       "</g>\n",
       "<!-- 2&#45;&#45;3 -->\n",
       "<g id=\"edge3\" class=\"edge\">\n",
       "<title>2--3</title>\n",
       "<path fill=\"none\" stroke=\"black\" d=\"M78,-71C78,-71 62.18,-50.94 50.2,-35.74\"/>\n",
       "</g>\n",
       "<!-- 4 -->\n",
       "<g id=\"node5\" class=\"node\">\n",
       "<title>4</title>\n",
       "<text text-anchor=\"middle\" x=\"119\" y=\"-14.3\" font-family=\"Courier,monospace\" font-size=\"14.00\" fill=\"#008040\">Load</text>\n",
       "</g>\n",
       "<!-- 2&#45;&#45;4 -->\n",
       "<g id=\"edge4\" class=\"edge\">\n",
       "<title>2--4</title>\n",
       "<path fill=\"none\" stroke=\"black\" d=\"M78,-71C78,-71 93.82,-50.94 105.8,-35.74\"/>\n",
       "</g>\n",
       "<!-- 8 -->\n",
       "<g id=\"node9\" class=\"node\">\n",
       "<title>8</title>\n",
       "<text text-anchor=\"middle\" x=\"298\" y=\"-86.3\" font-family=\"Courier,monospace\" font-size=\"14.00\" fill=\"#008040\">&quot;x&quot;</text>\n",
       "</g>\n",
       "<!-- 7&#45;&#45;8 -->\n",
       "<g id=\"edge8\" class=\"edge\">\n",
       "<title>7--8</title>\n",
       "<path fill=\"none\" stroke=\"black\" d=\"M294.97,-144.05C295.6,-133.05 296.41,-118.76 297.04,-107.79\"/>\n",
       "</g>\n",
       "<!-- 10 -->\n",
       "<g id=\"node11\" class=\"node\">\n",
       "<title>10</title>\n",
       "<text text-anchor=\"middle\" x=\"377\" y=\"-86.3\" font-family=\"Courier,monospace\" font-size=\"14.00\" fill=\"#008040\">&quot;x&quot;</text>\n",
       "</g>\n",
       "<!-- 9&#45;&#45;10 -->\n",
       "<g id=\"edge10\" class=\"edge\">\n",
       "<title>9--10</title>\n",
       "<path fill=\"none\" stroke=\"black\" d=\"M388,-143C388,-143 383.76,-122.94 380.54,-107.74\"/>\n",
       "</g>\n",
       "<!-- 11 -->\n",
       "<g id=\"node12\" class=\"node\">\n",
       "<title>11</title>\n",
       "<text text-anchor=\"middle\" x=\"449\" y=\"-86.3\" font-family=\"Courier,monospace\" font-size=\"14.00\" fill=\"#008040\">Load</text>\n",
       "</g>\n",
       "<!-- 9&#45;&#45;11 -->\n",
       "<g id=\"edge11\" class=\"edge\">\n",
       "<title>9--11</title>\n",
       "<path fill=\"none\" stroke=\"black\" d=\"M388,-143C388,-143 411.53,-122.94 429.36,-107.74\"/>\n",
       "</g>\n",
       "</g>\n",
       "</svg>"
      ],
      "text/plain": [
       "<IPython.core.display.SVG object>"
      ]
     },
     "metadata": {},
     "output_type": "display_data"
    }
   ],
   "source": [
    "show_ast(Module(body=[make_get_data(\"x\")]))"
   ]
  },
  {
   "cell_type": "markdown",
   "metadata": {
    "slideshow": {
     "slide_type": "subslide"
    }
   },
   "source": [
    "How do we know that this is a correct subtree? We can carefully read the [official Python `ast` reference](http://docs.python.org/3/library/ast) and then proceed by trial and error (and apply [delta debugging](DeltaDebugger.ipynb) to determine error causes). Or – pro tip! – we can simply take a piece of Python code, parse it and use `ast.dump()` to print out how to construct the resulting AST:"
   ]
  },
  {
   "cell_type": "code",
   "execution_count": 76,
   "metadata": {
    "execution": {
     "iopub.execute_input": "2023-01-07T16:02:48.383495Z",
     "iopub.status.busy": "2023-01-07T16:02:48.383045Z",
     "iopub.status.idle": "2023-01-07T16:02:48.384702Z",
     "shell.execute_reply": "2023-01-07T16:02:48.385005Z"
    },
    "slideshow": {
     "slide_type": "fragment"
    }
   },
   "outputs": [
    {
     "name": "stdout",
     "output_type": "stream",
     "text": [
      "Module(body=[Expr(value=Call(func=Attribute(value=Name(id='_data', ctx=Load()), attr='get', ctx=Load()), args=[Constant(value='x'), Name(id='x', ctx=Load())], keywords=[]))], type_ignores=[])\n"
     ]
    }
   ],
   "source": [
    "print(ast.dump(ast.parse(\"_data.get('x', x)\")))"
   ]
  },
  {
   "cell_type": "markdown",
   "metadata": {
    "slideshow": {
     "slide_type": "fragment"
    }
   },
   "source": [
    "If you compare the above output with the code of `make_get_data()`, above, you will find out where the source of `make_get_data()` comes from."
   ]
  },
  {
   "cell_type": "markdown",
   "metadata": {
    "slideshow": {
     "slide_type": "fragment"
    }
   },
   "source": [
    "Let us put `TrackGetTransformer` to action. Its `visit()` method calls `visit_Name()`, which then in turn transforms the `Name` nodes as we want it. This happens in place."
   ]
  },
  {
   "cell_type": "code",
   "execution_count": 77,
   "metadata": {
    "execution": {
     "iopub.execute_input": "2023-01-07T16:02:48.388199Z",
     "iopub.status.busy": "2023-01-07T16:02:48.387736Z",
     "iopub.status.idle": "2023-01-07T16:02:48.389287Z",
     "shell.execute_reply": "2023-01-07T16:02:48.389508Z"
    },
    "slideshow": {
     "slide_type": "subslide"
    }
   },
   "outputs": [],
   "source": [
    "TrackGetTransformer().visit(middle_tree);"
   ]
  },
  {
   "cell_type": "markdown",
   "metadata": {
    "slideshow": {
     "slide_type": "fragment"
    }
   },
   "source": [
    "To see the effect of our transformations, we introduce a method `dump_tree()` which outputs the tree – and also compiles it to check for any inconsistencies."
   ]
  },
  {
   "cell_type": "code",
   "execution_count": 78,
   "metadata": {
    "execution": {
     "iopub.execute_input": "2023-01-07T16:02:48.391995Z",
     "iopub.status.busy": "2023-01-07T16:02:48.391613Z",
     "iopub.status.idle": "2023-01-07T16:02:48.393094Z",
     "shell.execute_reply": "2023-01-07T16:02:48.393315Z"
    },
    "slideshow": {
     "slide_type": "fragment"
    }
   },
   "outputs": [],
   "source": [
    "def dump_tree(tree: AST) -> None:\n",
    "    print_content(ast.unparse(tree), '.py')\n",
    "    ast.fix_missing_locations(tree)  # Must run this before compiling\n",
    "    _ = compile(tree, '<dump_tree>', 'exec')"
   ]
  },
  {
   "cell_type": "markdown",
   "metadata": {
    "slideshow": {
     "slide_type": "fragment"
    }
   },
   "source": [
    "We see that our transformer has properly replaced all variable accesses:"
   ]
  },
  {
   "cell_type": "code",
   "execution_count": 79,
   "metadata": {
    "execution": {
     "iopub.execute_input": "2023-01-07T16:02:48.419712Z",
     "iopub.status.busy": "2023-01-07T16:02:48.419386Z",
     "iopub.status.idle": "2023-01-07T16:02:48.430280Z",
     "shell.execute_reply": "2023-01-07T16:02:48.430556Z"
    },
    "slideshow": {
     "slide_type": "subslide"
    }
   },
   "outputs": [
    {
     "name": "stdout",
     "output_type": "stream",
     "text": [
      "\u001b[34mdef\u001b[39;49;00m \u001b[32mmiddle\u001b[39;49;00m(x, y, z):\u001b[37m\u001b[39;49;00m\n",
      "    \u001b[34mif\u001b[39;49;00m _data.get(\u001b[33m'\u001b[39;49;00m\u001b[33my\u001b[39;49;00m\u001b[33m'\u001b[39;49;00m, y) < _data.get(\u001b[33m'\u001b[39;49;00m\u001b[33mz\u001b[39;49;00m\u001b[33m'\u001b[39;49;00m, z):\u001b[37m\u001b[39;49;00m\n",
      "        \u001b[34mif\u001b[39;49;00m _data.get(\u001b[33m'\u001b[39;49;00m\u001b[33mx\u001b[39;49;00m\u001b[33m'\u001b[39;49;00m, x) < _data.get(\u001b[33m'\u001b[39;49;00m\u001b[33my\u001b[39;49;00m\u001b[33m'\u001b[39;49;00m, y):\u001b[37m\u001b[39;49;00m\n",
      "            \u001b[34mreturn\u001b[39;49;00m _data.get(\u001b[33m'\u001b[39;49;00m\u001b[33my\u001b[39;49;00m\u001b[33m'\u001b[39;49;00m, y)\u001b[37m\u001b[39;49;00m\n",
      "        \u001b[34melif\u001b[39;49;00m _data.get(\u001b[33m'\u001b[39;49;00m\u001b[33mx\u001b[39;49;00m\u001b[33m'\u001b[39;49;00m, x) < _data.get(\u001b[33m'\u001b[39;49;00m\u001b[33mz\u001b[39;49;00m\u001b[33m'\u001b[39;49;00m, z):\u001b[37m\u001b[39;49;00m\n",
      "            \u001b[34mreturn\u001b[39;49;00m _data.get(\u001b[33m'\u001b[39;49;00m\u001b[33my\u001b[39;49;00m\u001b[33m'\u001b[39;49;00m, y)\u001b[37m\u001b[39;49;00m\n",
      "    \u001b[34melif\u001b[39;49;00m _data.get(\u001b[33m'\u001b[39;49;00m\u001b[33mx\u001b[39;49;00m\u001b[33m'\u001b[39;49;00m, x) > _data.get(\u001b[33m'\u001b[39;49;00m\u001b[33my\u001b[39;49;00m\u001b[33m'\u001b[39;49;00m, y):\u001b[37m\u001b[39;49;00m\n",
      "        \u001b[34mreturn\u001b[39;49;00m _data.get(\u001b[33m'\u001b[39;49;00m\u001b[33my\u001b[39;49;00m\u001b[33m'\u001b[39;49;00m, y)\u001b[37m\u001b[39;49;00m\n",
      "    \u001b[34melif\u001b[39;49;00m _data.get(\u001b[33m'\u001b[39;49;00m\u001b[33mx\u001b[39;49;00m\u001b[33m'\u001b[39;49;00m, x) > _data.get(\u001b[33m'\u001b[39;49;00m\u001b[33mz\u001b[39;49;00m\u001b[33m'\u001b[39;49;00m, z):\u001b[37m\u001b[39;49;00m\n",
      "        \u001b[34mreturn\u001b[39;49;00m _data.get(\u001b[33m'\u001b[39;49;00m\u001b[33mx\u001b[39;49;00m\u001b[33m'\u001b[39;49;00m, x)\u001b[37m\u001b[39;49;00m\n",
      "    \u001b[34mreturn\u001b[39;49;00m _data.get(\u001b[33m'\u001b[39;49;00m\u001b[33mz\u001b[39;49;00m\u001b[33m'\u001b[39;49;00m, z)\u001b[37m\u001b[39;49;00m"
     ]
    }
   ],
   "source": [
    "dump_tree(middle_tree)"
   ]
  },
  {
   "cell_type": "markdown",
   "metadata": {
    "slideshow": {
     "slide_type": "subslide"
    }
   },
   "source": [
    "Let us now execute this code together with the `DataTracker()` class we previously introduced. The class `DataTrackerTester()` takes a (transformed) tree and a function. Using it as\n",
    "\n",
    "```python\n",
    "with DataTrackerTester(tree, func):\n",
    "    func(...)\n",
    "```\n",
    "\n",
    "first executes the code in _tree_ (possibly instrumenting `func`) and then the `with` body. At the end, `func` is restored to its previous (non-instrumented) version."
   ]
  },
  {
   "cell_type": "code",
   "execution_count": 80,
   "metadata": {
    "execution": {
     "iopub.execute_input": "2023-01-07T16:02:48.432930Z",
     "iopub.status.busy": "2023-01-07T16:02:48.432560Z",
     "iopub.status.idle": "2023-01-07T16:02:48.433864Z",
     "shell.execute_reply": "2023-01-07T16:02:48.434119Z"
    },
    "slideshow": {
     "slide_type": "skip"
    }
   },
   "outputs": [],
   "source": [
    "from types import TracebackType"
   ]
  },
  {
   "cell_type": "code",
   "execution_count": 81,
   "metadata": {
    "execution": {
     "iopub.execute_input": "2023-01-07T16:02:48.437906Z",
     "iopub.status.busy": "2023-01-07T16:02:48.437421Z",
     "iopub.status.idle": "2023-01-07T16:02:48.439110Z",
     "shell.execute_reply": "2023-01-07T16:02:48.439565Z"
    },
    "slideshow": {
     "slide_type": "subslide"
    }
   },
   "outputs": [],
   "source": [
    "class DataTrackerTester:\n",
    "    def __init__(self, tree: AST, func: Callable, log: bool = True) -> None:\n",
    "        \"\"\"Constructor. Execute the code in `tree` while instrumenting `func`.\"\"\"\n",
    "        # We pass the source file of `func` such that we can retrieve it\n",
    "        # when accessing the location of the new compiled code\n",
    "        source = cast(str, inspect.getsourcefile(func))\n",
    "        self.code = compile(tree, source, 'exec')\n",
    "        self.func = func\n",
    "        self.log = log\n",
    "\n",
    "    def make_data_tracker(self) -> Any:\n",
    "        return DataTracker(log=self.log)\n",
    "\n",
    "    def __enter__(self) -> Any:\n",
    "        \"\"\"Rewrite function\"\"\"\n",
    "        tracker = self.make_data_tracker()\n",
    "        globals()[DATA_TRACKER] = tracker\n",
    "        exec(self.code, globals())\n",
    "        return tracker\n",
    "\n",
    "    def __exit__(self, exc_type: Type, exc_value: BaseException,\n",
    "                 traceback: TracebackType) -> Optional[bool]:\n",
    "        \"\"\"Restore function\"\"\"\n",
    "        globals()[self.func.__name__] = self.func\n",
    "        del globals()[DATA_TRACKER]\n",
    "        return None"
   ]
  },
  {
   "cell_type": "markdown",
   "metadata": {
    "slideshow": {
     "slide_type": "subslide"
    }
   },
   "source": [
    "Here is our `middle()` function:"
   ]
  },
  {
   "cell_type": "code",
   "execution_count": 82,
   "metadata": {
    "execution": {
     "iopub.execute_input": "2023-01-07T16:02:48.465469Z",
     "iopub.status.busy": "2023-01-07T16:02:48.465074Z",
     "iopub.status.idle": "2023-01-07T16:02:48.476767Z",
     "shell.execute_reply": "2023-01-07T16:02:48.477273Z"
    },
    "slideshow": {
     "slide_type": "fragment"
    }
   },
   "outputs": [
    {
     "name": "stdout",
     "output_type": "stream",
     "text": [
      " 1  \u001b[34mdef\u001b[39;49;00m \u001b[32mmiddle\u001b[39;49;00m(x, y, z):  \u001b[37m# type: ignore\u001b[39;49;00m\u001b[37m\u001b[39;49;00m\n",
      " 2      \u001b[34mif\u001b[39;49;00m y < z:\u001b[37m\u001b[39;49;00m\n",
      " 3          \u001b[34mif\u001b[39;49;00m x < y:\u001b[37m\u001b[39;49;00m\n",
      " 4              \u001b[34mreturn\u001b[39;49;00m y\u001b[37m\u001b[39;49;00m\n",
      " 5          \u001b[34melif\u001b[39;49;00m x < z:\u001b[37m\u001b[39;49;00m\n",
      " 6              \u001b[34mreturn\u001b[39;49;00m y\u001b[37m\u001b[39;49;00m\n",
      " 7      \u001b[34melse\u001b[39;49;00m:\u001b[37m\u001b[39;49;00m\n",
      " 8          \u001b[34mif\u001b[39;49;00m x > y:\u001b[37m\u001b[39;49;00m\n",
      " 9              \u001b[34mreturn\u001b[39;49;00m y\u001b[37m\u001b[39;49;00m\n",
      "10          \u001b[34melif\u001b[39;49;00m x > z:\u001b[37m\u001b[39;49;00m\n",
      "11              \u001b[34mreturn\u001b[39;49;00m x\u001b[37m\u001b[39;49;00m\n",
      "12      \u001b[34mreturn\u001b[39;49;00m z\u001b[37m\u001b[39;49;00m"
     ]
    }
   ],
   "source": [
    "print_content(inspect.getsource(middle), '.py', start_line_number=1)"
   ]
  },
  {
   "cell_type": "markdown",
   "metadata": {
    "slideshow": {
     "slide_type": "subslide"
    }
   },
   "source": [
    "And here is our instrumented `middle_tree` executed with a `DataTracker` object. We see how the `middle()` tests access one argument after another."
   ]
  },
  {
   "cell_type": "code",
   "execution_count": 83,
   "metadata": {
    "execution": {
     "iopub.execute_input": "2023-01-07T16:02:48.481079Z",
     "iopub.status.busy": "2023-01-07T16:02:48.480363Z",
     "iopub.status.idle": "2023-01-07T16:02:48.482373Z",
     "shell.execute_reply": "2023-01-07T16:02:48.483130Z"
    },
    "slideshow": {
     "slide_type": "fragment"
    }
   },
   "outputs": [
    {
     "name": "stdout",
     "output_type": "stream",
     "text": [
      "middle:2: getting y\n",
      "middle:2: getting z\n",
      "middle:3: getting x\n",
      "middle:3: getting y\n",
      "middle:5: getting x\n",
      "middle:5: getting z\n",
      "middle:6: getting y\n"
     ]
    }
   ],
   "source": [
    "with DataTrackerTester(middle_tree, middle):\n",
    "    middle(2, 1, 3)"
   ]
  },
  {
   "cell_type": "markdown",
   "metadata": {
    "slideshow": {
     "slide_type": "fragment"
    }
   },
   "source": [
    "After `DataTrackerTester` is done, `middle` is reverted to its non-instrumented version:"
   ]
  },
  {
   "cell_type": "code",
   "execution_count": 84,
   "metadata": {
    "execution": {
     "iopub.execute_input": "2023-01-07T16:02:48.486079Z",
     "iopub.status.busy": "2023-01-07T16:02:48.485670Z",
     "iopub.status.idle": "2023-01-07T16:02:48.487288Z",
     "shell.execute_reply": "2023-01-07T16:02:48.487486Z"
    },
    "slideshow": {
     "slide_type": "subslide"
    }
   },
   "outputs": [
    {
     "data": {
      "text/plain": [
       "1"
      ]
     },
     "execution_count": 84,
     "metadata": {},
     "output_type": "execute_result"
    }
   ],
   "source": [
    "middle(2, 1, 3)"
   ]
  },
  {
   "cell_type": "markdown",
   "metadata": {
    "slideshow": {
     "slide_type": "fragment"
    }
   },
   "source": [
    "For a complete picture of what happens during executions, we implement a number of additional code transformers."
   ]
  },
  {
   "cell_type": "markdown",
   "metadata": {
    "slideshow": {
     "slide_type": "fragment"
    }
   },
   "source": [
    "For each assignment statement `x = y`, we change it to `x = _data.set('x', y)`. This allows to __track assignments__."
   ]
  },
  {
   "cell_type": "markdown",
   "metadata": {
    "slideshow": {
     "slide_type": "subslide"
    }
   },
   "source": [
    "### Excursion: Tracking Assignments and Assertions"
   ]
  },
  {
   "cell_type": "markdown",
   "metadata": {
    "slideshow": {
     "slide_type": "fragment"
    }
   },
   "source": [
    "For the remaining transformers, we follow the same steps as for `TrackGetTransformer`, except that our `visit_...()` methods focus on different nodes, and return different subtrees. Here, we focus on assignment nodes."
   ]
  },
  {
   "cell_type": "markdown",
   "metadata": {
    "slideshow": {
     "slide_type": "fragment"
    }
   },
   "source": [
    "We want to transform assignments `x = value` into `_data.set('x', value)` to track assignments to `x`."
   ]
  },
  {
   "attachments": {},
   "cell_type": "markdown",
   "metadata": {
    "slideshow": {
     "slide_type": "fragment"
    }
   },
   "source": [
    "If the left-hand side of the assignment is more complex, as in `x[y] = value`, we want to ensure the read access to `x` and `y` is also tracked. By transforming `x[y] = value` into `_data.set('x', value, loads=(x, y))`, we ensure that `x` and `y` are marked as read (as the otherwise ignored `loads` argument would be changed to `_data.get()` calls for `x` and `y`)."
   ]
  },
  {
   "cell_type": "markdown",
   "metadata": {
    "slideshow": {
     "slide_type": "fragment"
    }
   },
   "source": [
    "Using `ast.dump()`, we reveal what the corresponding syntax tree has to look like:"
   ]
  },
  {
   "cell_type": "code",
   "execution_count": 85,
   "metadata": {
    "execution": {
     "iopub.execute_input": "2023-01-07T16:02:48.489875Z",
     "iopub.status.busy": "2023-01-07T16:02:48.489452Z",
     "iopub.status.idle": "2023-01-07T16:02:48.490786Z",
     "shell.execute_reply": "2023-01-07T16:02:48.491034Z"
    },
    "slideshow": {
     "slide_type": "subslide"
    }
   },
   "outputs": [
    {
     "name": "stdout",
     "output_type": "stream",
     "text": [
      "Module(body=[Expr(value=Call(func=Attribute(value=Name(id='_data', ctx=Load()), attr='set', ctx=Load()), args=[Constant(value='x'), Name(id='value', ctx=Load())], keywords=[keyword(arg='loads', value=Tuple(elts=[Name(id='a', ctx=Load()), Name(id='b', ctx=Load())], ctx=Load()))]))], type_ignores=[])\n"
     ]
    }
   ],
   "source": [
    "print(ast.dump(ast.parse(\"_data.set('x', value, loads=(a, b))\")))"
   ]
  },
  {
   "cell_type": "markdown",
   "metadata": {
    "slideshow": {
     "slide_type": "fragment"
    }
   },
   "source": [
    "Using this structure, we can write a function `make_set_data()` which constructs such a subtree."
   ]
  },
  {
   "cell_type": "code",
   "execution_count": 86,
   "metadata": {
    "execution": {
     "iopub.execute_input": "2023-01-07T16:02:48.494354Z",
     "iopub.status.busy": "2023-01-07T16:02:48.494000Z",
     "iopub.status.idle": "2023-01-07T16:02:48.495187Z",
     "shell.execute_reply": "2023-01-07T16:02:48.495432Z"
    },
    "slideshow": {
     "slide_type": "subslide"
    }
   },
   "outputs": [],
   "source": [
    "def make_set_data(id: str, value: Any, \n",
    "                  loads: Optional[Set[str]] = None, method: str = 'set') -> Call:\n",
    "    \"\"\"\n",
    "    Construct a subtree _data.`method`('`id`', `value`). \n",
    "    If `loads` is set to [X1, X2, ...], make it\n",
    "    _data.`method`('`id`', `value`, loads=(X1, X2, ...))\n",
    "    \"\"\"\n",
    "\n",
    "    keywords=[]\n",
    "\n",
    "    if loads:\n",
    "        keywords = [\n",
    "            keyword(arg='loads',\n",
    "                    value=ast.Tuple(\n",
    "                        elts=[Name(id=load, ctx=Load()) for load in loads],\n",
    "                        ctx=Load()\n",
    "                    ))\n",
    "        ]\n",
    "\n",
    "    new_node = Call(func=Attribute(value=Name(id=DATA_TRACKER, ctx=Load()),\n",
    "                                   attr=method, ctx=Load()),\n",
    "                    args=[ast.Str(s=id), value],\n",
    "                    keywords=keywords)\n",
    "\n",
    "    ast.copy_location(new_node, value)\n",
    "\n",
    "    return new_node"
   ]
  },
  {
   "attachments": {},
   "cell_type": "markdown",
   "metadata": {
    "slideshow": {
     "slide_type": "subslide"
    }
   },
   "source": [
    "The problem is, however: How do we get the name of the variable being assigned to? The left-hand side of an assignment can be a complex expression such as `x[i]`. We use the leftmost name of the left-hand side as name to be assigned to."
   ]
  },
  {
   "cell_type": "code",
   "execution_count": 87,
   "metadata": {
    "execution": {
     "iopub.execute_input": "2023-01-07T16:02:48.498045Z",
     "iopub.status.busy": "2023-01-07T16:02:48.497541Z",
     "iopub.status.idle": "2023-01-07T16:02:48.498932Z",
     "shell.execute_reply": "2023-01-07T16:02:48.499413Z"
    },
    "slideshow": {
     "slide_type": "fragment"
    }
   },
   "outputs": [],
   "source": [
    "class LeftmostNameVisitor(NodeVisitor):\n",
    "    def __init__(self) -> None:\n",
    "        super().__init__()\n",
    "        self.leftmost_name: Optional[str] = None\n",
    "\n",
    "    def visit_Name(self, node: Name) -> None:\n",
    "        if self.leftmost_name is None:\n",
    "            self.leftmost_name = node.id\n",
    "        self.generic_visit(node)"
   ]
  },
  {
   "cell_type": "code",
   "execution_count": 88,
   "metadata": {
    "execution": {
     "iopub.execute_input": "2023-01-07T16:02:48.502147Z",
     "iopub.status.busy": "2023-01-07T16:02:48.501129Z",
     "iopub.status.idle": "2023-01-07T16:02:48.503376Z",
     "shell.execute_reply": "2023-01-07T16:02:48.503614Z"
    },
    "slideshow": {
     "slide_type": "subslide"
    }
   },
   "outputs": [],
   "source": [
    "def leftmost_name(tree: AST) -> Optional[str]:\n",
    "    visitor = LeftmostNameVisitor()\n",
    "    visitor.visit(tree)\n",
    "    return visitor.leftmost_name"
   ]
  },
  {
   "cell_type": "code",
   "execution_count": 89,
   "metadata": {
    "execution": {
     "iopub.execute_input": "2023-01-07T16:02:48.505923Z",
     "iopub.status.busy": "2023-01-07T16:02:48.505570Z",
     "iopub.status.idle": "2023-01-07T16:02:48.507345Z",
     "shell.execute_reply": "2023-01-07T16:02:48.507593Z"
    },
    "slideshow": {
     "slide_type": "fragment"
    }
   },
   "outputs": [
    {
     "data": {
      "text/plain": [
       "'a'"
      ]
     },
     "execution_count": 89,
     "metadata": {},
     "output_type": "execute_result"
    }
   ],
   "source": [
    "leftmost_name(ast.parse('a[x] = 25'))"
   ]
  },
  {
   "cell_type": "markdown",
   "metadata": {
    "slideshow": {
     "slide_type": "fragment"
    }
   },
   "source": [
    "Python also allows _tuple assignments_, as in `(a, b, c) = (1, 2, 3)`. We extract all variables being stored (that is, expressions whose `ctx` attribute is `Store()`) and extract their (leftmost) names."
   ]
  },
  {
   "cell_type": "code",
   "execution_count": 90,
   "metadata": {
    "execution": {
     "iopub.execute_input": "2023-01-07T16:02:48.510215Z",
     "iopub.status.busy": "2023-01-07T16:02:48.509903Z",
     "iopub.status.idle": "2023-01-07T16:02:48.511113Z",
     "shell.execute_reply": "2023-01-07T16:02:48.511319Z"
    },
    "slideshow": {
     "slide_type": "subslide"
    }
   },
   "outputs": [],
   "source": [
    "class StoreVisitor(NodeVisitor):\n",
    "    def __init__(self) -> None:\n",
    "        super().__init__()\n",
    "        self.names: Set[str] = set()\n",
    "\n",
    "    def visit(self, node: AST) -> None:\n",
    "        if hasattr(node, 'ctx') and isinstance(node.ctx, Store):  # type: ignore\n",
    "            name = leftmost_name(node)\n",
    "            if name:\n",
    "                self.names.add(name)\n",
    "\n",
    "        self.generic_visit(node)"
   ]
  },
  {
   "cell_type": "code",
   "execution_count": 91,
   "metadata": {
    "execution": {
     "iopub.execute_input": "2023-01-07T16:02:48.513335Z",
     "iopub.status.busy": "2023-01-07T16:02:48.513028Z",
     "iopub.status.idle": "2023-01-07T16:02:48.514252Z",
     "shell.execute_reply": "2023-01-07T16:02:48.514510Z"
    },
    "slideshow": {
     "slide_type": "subslide"
    }
   },
   "outputs": [],
   "source": [
    "def store_names(tree: AST) -> Set[str]:\n",
    "    visitor = StoreVisitor()\n",
    "    visitor.visit(tree)\n",
    "    return visitor.names"
   ]
  },
  {
   "cell_type": "code",
   "execution_count": 92,
   "metadata": {
    "execution": {
     "iopub.execute_input": "2023-01-07T16:02:48.516797Z",
     "iopub.status.busy": "2023-01-07T16:02:48.516438Z",
     "iopub.status.idle": "2023-01-07T16:02:48.517907Z",
     "shell.execute_reply": "2023-01-07T16:02:48.518136Z"
    },
    "slideshow": {
     "slide_type": "fragment"
    }
   },
   "outputs": [
    {
     "data": {
      "text/plain": [
       "{'a', 'b', 'c'}"
      ]
     },
     "execution_count": 92,
     "metadata": {},
     "output_type": "execute_result"
    }
   ],
   "source": [
    "store_names(ast.parse('a[x], b[y], c = 1, 2, 3'))"
   ]
  },
  {
   "cell_type": "markdown",
   "metadata": {
    "slideshow": {
     "slide_type": "fragment"
    }
   },
   "source": [
    "For complex assignments, we also want to access the names read in the left hand side of an expression."
   ]
  },
  {
   "cell_type": "code",
   "execution_count": 93,
   "metadata": {
    "execution": {
     "iopub.execute_input": "2023-01-07T16:02:48.520658Z",
     "iopub.status.busy": "2023-01-07T16:02:48.520318Z",
     "iopub.status.idle": "2023-01-07T16:02:48.521555Z",
     "shell.execute_reply": "2023-01-07T16:02:48.521801Z"
    },
    "slideshow": {
     "slide_type": "subslide"
    }
   },
   "outputs": [],
   "source": [
    "class LoadVisitor(NodeVisitor):\n",
    "    def __init__(self) -> None:\n",
    "        super().__init__()\n",
    "        self.names: Set[str] = set()\n",
    "\n",
    "    def visit(self, node: AST) -> None:\n",
    "        if hasattr(node, 'ctx') and isinstance(node.ctx, Load):  # type: ignore\n",
    "            name = leftmost_name(node)\n",
    "            if name is not None:\n",
    "                self.names.add(name)\n",
    "\n",
    "        self.generic_visit(node)"
   ]
  },
  {
   "cell_type": "code",
   "execution_count": 94,
   "metadata": {
    "execution": {
     "iopub.execute_input": "2023-01-07T16:02:48.523876Z",
     "iopub.status.busy": "2023-01-07T16:02:48.523509Z",
     "iopub.status.idle": "2023-01-07T16:02:48.524651Z",
     "shell.execute_reply": "2023-01-07T16:02:48.524972Z"
    },
    "slideshow": {
     "slide_type": "subslide"
    }
   },
   "outputs": [],
   "source": [
    "def load_names(tree: AST) -> Set[str]:\n",
    "    visitor = LoadVisitor()\n",
    "    visitor.visit(tree)\n",
    "    return visitor.names"
   ]
  },
  {
   "cell_type": "code",
   "execution_count": 95,
   "metadata": {
    "execution": {
     "iopub.execute_input": "2023-01-07T16:02:48.527284Z",
     "iopub.status.busy": "2023-01-07T16:02:48.526896Z",
     "iopub.status.idle": "2023-01-07T16:02:48.528609Z",
     "shell.execute_reply": "2023-01-07T16:02:48.528817Z"
    },
    "slideshow": {
     "slide_type": "fragment"
    }
   },
   "outputs": [
    {
     "data": {
      "text/plain": [
       "{'a', 'b', 'x', 'y'}"
      ]
     },
     "execution_count": 95,
     "metadata": {},
     "output_type": "execute_result"
    }
   ],
   "source": [
    "load_names(ast.parse('a[x], b[y], c = 1, 2, 3'))"
   ]
  },
  {
   "cell_type": "markdown",
   "metadata": {
    "slideshow": {
     "slide_type": "fragment"
    }
   },
   "source": [
    "With this, we can now define `TrackSetTransformer` as a transformer for regular assignments. Note that in Python, an assignment can have multiple targets, as in `a = b = c`; we assign the data dependencies of `c` to them all."
   ]
  },
  {
   "cell_type": "code",
   "execution_count": 96,
   "metadata": {
    "execution": {
     "iopub.execute_input": "2023-01-07T16:02:48.531755Z",
     "iopub.status.busy": "2023-01-07T16:02:48.531423Z",
     "iopub.status.idle": "2023-01-07T16:02:48.532992Z",
     "shell.execute_reply": "2023-01-07T16:02:48.533192Z"
    },
    "slideshow": {
     "slide_type": "subslide"
    }
   },
   "outputs": [],
   "source": [
    "class TrackSetTransformer(NodeTransformer):\n",
    "    def visit_Assign(self, node: Assign) -> Assign:\n",
    "        value = ast.unparse(node.value)\n",
    "        if value.startswith(DATA_TRACKER + '.set'):\n",
    "            return node  # Do not apply twice\n",
    "\n",
    "        for target in node.targets:\n",
    "            loads = load_names(target)\n",
    "            for store_name in store_names(target):\n",
    "                node.value = make_set_data(store_name, node.value, \n",
    "                                           loads=loads)\n",
    "                loads = set()\n",
    "\n",
    "        return node"
   ]
  },
  {
   "cell_type": "markdown",
   "metadata": {
    "slideshow": {
     "slide_type": "subslide"
    }
   },
   "source": [
    "The special form of \"augmented assign\" needs special treatment. We change statements of the form `x += y` to `x += _data.augment('x', y)`."
   ]
  },
  {
   "cell_type": "code",
   "execution_count": 97,
   "metadata": {
    "execution": {
     "iopub.execute_input": "2023-01-07T16:02:48.535714Z",
     "iopub.status.busy": "2023-01-07T16:02:48.535392Z",
     "iopub.status.idle": "2023-01-07T16:02:48.536753Z",
     "shell.execute_reply": "2023-01-07T16:02:48.537264Z"
    },
    "slideshow": {
     "slide_type": "fragment"
    }
   },
   "outputs": [],
   "source": [
    "class TrackSetTransformer(TrackSetTransformer):\n",
    "    def visit_AugAssign(self, node: AugAssign) -> AugAssign:\n",
    "        value = ast.unparse(node.value)\n",
    "        if value.startswith(DATA_TRACKER):\n",
    "            return node  # Do not apply twice\n",
    "\n",
    "        id = cast(str, leftmost_name(node.target))\n",
    "        node.value = make_set_data(id, node.value, method='augment')\n",
    "\n",
    "        return node"
   ]
  },
  {
   "cell_type": "markdown",
   "metadata": {
    "slideshow": {
     "slide_type": "fragment"
    }
   },
   "source": [
    "The corresponding `augment()` method uses a combination of `set()` and `get()` to reflect the semantics."
   ]
  },
  {
   "cell_type": "code",
   "execution_count": 98,
   "metadata": {
    "execution": {
     "iopub.execute_input": "2023-01-07T16:02:48.539825Z",
     "iopub.status.busy": "2023-01-07T16:02:48.539486Z",
     "iopub.status.idle": "2023-01-07T16:02:48.540642Z",
     "shell.execute_reply": "2023-01-07T16:02:48.540911Z"
    },
    "slideshow": {
     "slide_type": "subslide"
    }
   },
   "outputs": [],
   "source": [
    "class DataTracker(DataTracker):\n",
    "    def augment(self, name: str, value: Any) -> Any:\n",
    "        \"\"\"\n",
    "        Track augmenting `name` with `value`.\n",
    "        To be overloaded in subclasses.\n",
    "        \"\"\"\n",
    "        self.set(name, self.get(name, value))\n",
    "        return value"
   ]
  },
  {
   "cell_type": "markdown",
   "metadata": {
    "slideshow": {
     "slide_type": "fragment"
    }
   },
   "source": [
    "\"Annotated\" assignments come with a type, as in `x: int = 3`. We treat them like regular assignments."
   ]
  },
  {
   "cell_type": "code",
   "execution_count": 99,
   "metadata": {
    "execution": {
     "iopub.execute_input": "2023-01-07T16:02:48.543744Z",
     "iopub.status.busy": "2023-01-07T16:02:48.543426Z",
     "iopub.status.idle": "2023-01-07T16:02:48.544774Z",
     "shell.execute_reply": "2023-01-07T16:02:48.545077Z"
    },
    "slideshow": {
     "slide_type": "subslide"
    }
   },
   "outputs": [],
   "source": [
    "class TrackSetTransformer(TrackSetTransformer):\n",
    "    def visit_AnnAssign(self, node: AnnAssign) -> AnnAssign:\n",
    "        if node.value is None:\n",
    "            return node  # just <var>: <type> without value\n",
    "\n",
    "        value = ast.unparse(node.value)\n",
    "        if value.startswith(DATA_TRACKER + '.set'):\n",
    "            return node  # Do not apply twice\n",
    "\n",
    "        loads = load_names(node.target)\n",
    "        for store_name in store_names(node.target):\n",
    "            node.value = make_set_data(store_name, node.value, \n",
    "                                       loads=loads)\n",
    "            loads = set()\n",
    "\n",
    "        return node"
   ]
  },
  {
   "cell_type": "markdown",
   "metadata": {
    "slideshow": {
     "slide_type": "subslide"
    }
   },
   "source": [
    "Finally, we treat _assertions_ just as if they were assignments to special variables:"
   ]
  },
  {
   "cell_type": "code",
   "execution_count": 100,
   "metadata": {
    "execution": {
     "iopub.execute_input": "2023-01-07T16:02:48.548227Z",
     "iopub.status.busy": "2023-01-07T16:02:48.547803Z",
     "iopub.status.idle": "2023-01-07T16:02:48.548994Z",
     "shell.execute_reply": "2023-01-07T16:02:48.549250Z"
    },
    "slideshow": {
     "slide_type": "fragment"
    }
   },
   "outputs": [],
   "source": [
    "class TrackSetTransformer(TrackSetTransformer):\n",
    "    def visit_Assert(self, node: Assert) -> Assert:\n",
    "        value = ast.unparse(node.test)\n",
    "        if value.startswith(DATA_TRACKER + '.set'):\n",
    "            return node  # Do not apply twice\n",
    "\n",
    "        loads = load_names(node.test)\n",
    "        node.test = make_set_data(\"<assertion>\", node.test, loads=loads)\n",
    "        return node"
   ]
  },
  {
   "cell_type": "markdown",
   "metadata": {
    "slideshow": {
     "slide_type": "fragment"
    }
   },
   "source": [
    "Here's all of these transformers in action. Our original function has a number of assignments:"
   ]
  },
  {
   "cell_type": "code",
   "execution_count": 101,
   "metadata": {
    "execution": {
     "iopub.execute_input": "2023-01-07T16:02:48.551598Z",
     "iopub.status.busy": "2023-01-07T16:02:48.551277Z",
     "iopub.status.idle": "2023-01-07T16:02:48.552687Z",
     "shell.execute_reply": "2023-01-07T16:02:48.552880Z"
    },
    "slideshow": {
     "slide_type": "subslide"
    }
   },
   "outputs": [],
   "source": [
    "def assign_test(x: int) -> Tuple[int, str]:  # type: ignore\n",
    "    forty_two: int = 42\n",
    "    forty_two = forty_two = 42\n",
    "    a, b = 1, 2\n",
    "    c = d = [a, b]\n",
    "    c[d[a]].attr = 47  # type: ignore\n",
    "    a *= b + 1\n",
    "    assert a > 0\n",
    "    return forty_two, \"Forty-Two\""
   ]
  },
  {
   "cell_type": "code",
   "execution_count": 102,
   "metadata": {
    "execution": {
     "iopub.execute_input": "2023-01-07T16:02:48.555145Z",
     "iopub.status.busy": "2023-01-07T16:02:48.554847Z",
     "iopub.status.idle": "2023-01-07T16:02:48.555943Z",
     "shell.execute_reply": "2023-01-07T16:02:48.556241Z"
    },
    "slideshow": {
     "slide_type": "fragment"
    }
   },
   "outputs": [],
   "source": [
    "assign_tree = ast.parse(inspect.getsource(assign_test))"
   ]
  },
  {
   "cell_type": "code",
   "execution_count": 103,
   "metadata": {
    "execution": {
     "iopub.execute_input": "2023-01-07T16:02:48.582240Z",
     "iopub.status.busy": "2023-01-07T16:02:48.581703Z",
     "iopub.status.idle": "2023-01-07T16:02:48.591793Z",
     "shell.execute_reply": "2023-01-07T16:02:48.592221Z"
    },
    "slideshow": {
     "slide_type": "subslide"
    }
   },
   "outputs": [
    {
     "name": "stdout",
     "output_type": "stream",
     "text": [
      "\u001b[34mdef\u001b[39;49;00m \u001b[32massign_test\u001b[39;49;00m(x: \u001b[36mint\u001b[39;49;00m) -> Tuple[\u001b[36mint\u001b[39;49;00m, \u001b[36mstr\u001b[39;49;00m]:\u001b[37m\u001b[39;49;00m\n",
      "    forty_two: \u001b[36mint\u001b[39;49;00m = _data.set(\u001b[33m'\u001b[39;49;00m\u001b[33mforty_two\u001b[39;49;00m\u001b[33m'\u001b[39;49;00m, \u001b[34m42\u001b[39;49;00m)\u001b[37m\u001b[39;49;00m\n",
      "    forty_two = forty_two = _data.set(\u001b[33m'\u001b[39;49;00m\u001b[33mforty_two\u001b[39;49;00m\u001b[33m'\u001b[39;49;00m, _data.set(\u001b[33m'\u001b[39;49;00m\u001b[33mforty_two\u001b[39;49;00m\u001b[33m'\u001b[39;49;00m, \u001b[34m42\u001b[39;49;00m))\u001b[37m\u001b[39;49;00m\n",
      "    (a, b) = _data.set(\u001b[33m'\u001b[39;49;00m\u001b[33mb\u001b[39;49;00m\u001b[33m'\u001b[39;49;00m, _data.set(\u001b[33m'\u001b[39;49;00m\u001b[33ma\u001b[39;49;00m\u001b[33m'\u001b[39;49;00m, (\u001b[34m1\u001b[39;49;00m, \u001b[34m2\u001b[39;49;00m)))\u001b[37m\u001b[39;49;00m\n",
      "    c = d = _data.set(\u001b[33m'\u001b[39;49;00m\u001b[33md\u001b[39;49;00m\u001b[33m'\u001b[39;49;00m, _data.set(\u001b[33m'\u001b[39;49;00m\u001b[33mc\u001b[39;49;00m\u001b[33m'\u001b[39;49;00m, [a, b]))\u001b[37m\u001b[39;49;00m\n",
      "    c[d[a]].attr = _data.set(\u001b[33m'\u001b[39;49;00m\u001b[33mc\u001b[39;49;00m\u001b[33m'\u001b[39;49;00m, \u001b[34m47\u001b[39;49;00m, loads=(a, c, d))\u001b[37m\u001b[39;49;00m\n",
      "    a *= _data.augment(\u001b[33m'\u001b[39;49;00m\u001b[33ma\u001b[39;49;00m\u001b[33m'\u001b[39;49;00m, b + \u001b[34m1\u001b[39;49;00m)\u001b[37m\u001b[39;49;00m\n",
      "    \u001b[34massert\u001b[39;49;00m _data.set(\u001b[33m'\u001b[39;49;00m\u001b[33m<assertion>\u001b[39;49;00m\u001b[33m'\u001b[39;49;00m, a > \u001b[34m0\u001b[39;49;00m, loads=(a,))\u001b[37m\u001b[39;49;00m\n",
      "    \u001b[34mreturn\u001b[39;49;00m (forty_two, \u001b[33m'\u001b[39;49;00m\u001b[33mForty-Two\u001b[39;49;00m\u001b[33m'\u001b[39;49;00m)\u001b[37m\u001b[39;49;00m"
     ]
    }
   ],
   "source": [
    "TrackSetTransformer().visit(assign_tree)\n",
    "dump_tree(assign_tree)"
   ]
  },
  {
   "cell_type": "markdown",
   "metadata": {
    "slideshow": {
     "slide_type": "fragment"
    }
   },
   "source": [
    "If we later apply our transformer for data accesses, we can see that we track all variable reads and writes."
   ]
  },
  {
   "cell_type": "code",
   "execution_count": 104,
   "metadata": {
    "execution": {
     "iopub.execute_input": "2023-01-07T16:02:48.617472Z",
     "iopub.status.busy": "2023-01-07T16:02:48.617134Z",
     "iopub.status.idle": "2023-01-07T16:02:48.628511Z",
     "shell.execute_reply": "2023-01-07T16:02:48.628849Z"
    },
    "slideshow": {
     "slide_type": "subslide"
    }
   },
   "outputs": [
    {
     "name": "stdout",
     "output_type": "stream",
     "text": [
      "\u001b[34mdef\u001b[39;49;00m \u001b[32massign_test\u001b[39;49;00m(x: \u001b[36mint\u001b[39;49;00m) -> Tuple[\u001b[36mint\u001b[39;49;00m, \u001b[36mstr\u001b[39;49;00m]:\u001b[37m\u001b[39;49;00m\n",
      "    forty_two: \u001b[36mint\u001b[39;49;00m = _data.set(\u001b[33m'\u001b[39;49;00m\u001b[33mforty_two\u001b[39;49;00m\u001b[33m'\u001b[39;49;00m, \u001b[34m42\u001b[39;49;00m)\u001b[37m\u001b[39;49;00m\n",
      "    forty_two = forty_two = _data.set(\u001b[33m'\u001b[39;49;00m\u001b[33mforty_two\u001b[39;49;00m\u001b[33m'\u001b[39;49;00m, _data.set(\u001b[33m'\u001b[39;49;00m\u001b[33mforty_two\u001b[39;49;00m\u001b[33m'\u001b[39;49;00m, \u001b[34m42\u001b[39;49;00m))\u001b[37m\u001b[39;49;00m\n",
      "    (a, b) = _data.set(\u001b[33m'\u001b[39;49;00m\u001b[33mb\u001b[39;49;00m\u001b[33m'\u001b[39;49;00m, _data.set(\u001b[33m'\u001b[39;49;00m\u001b[33ma\u001b[39;49;00m\u001b[33m'\u001b[39;49;00m, (\u001b[34m1\u001b[39;49;00m, \u001b[34m2\u001b[39;49;00m)))\u001b[37m\u001b[39;49;00m\n",
      "    c = d = _data.set(\u001b[33m'\u001b[39;49;00m\u001b[33md\u001b[39;49;00m\u001b[33m'\u001b[39;49;00m, _data.set(\u001b[33m'\u001b[39;49;00m\u001b[33mc\u001b[39;49;00m\u001b[33m'\u001b[39;49;00m, [_data.get(\u001b[33m'\u001b[39;49;00m\u001b[33ma\u001b[39;49;00m\u001b[33m'\u001b[39;49;00m, a), _data.get(\u001b[33m'\u001b[39;49;00m\u001b[33mb\u001b[39;49;00m\u001b[33m'\u001b[39;49;00m, b)]))\u001b[37m\u001b[39;49;00m\n",
      "    _data.get(\u001b[33m'\u001b[39;49;00m\u001b[33mc\u001b[39;49;00m\u001b[33m'\u001b[39;49;00m, c)[_data.get(\u001b[33m'\u001b[39;49;00m\u001b[33md\u001b[39;49;00m\u001b[33m'\u001b[39;49;00m, d)[_data.get(\u001b[33m'\u001b[39;49;00m\u001b[33ma\u001b[39;49;00m\u001b[33m'\u001b[39;49;00m, a)]].attr = _data.set(\u001b[33m'\u001b[39;49;00m\u001b[33mc\u001b[39;49;00m\u001b[33m'\u001b[39;49;00m, \u001b[34m47\u001b[39;49;00m, loads=(_data.get(\u001b[33m'\u001b[39;49;00m\u001b[33ma\u001b[39;49;00m\u001b[33m'\u001b[39;49;00m, a), _data.get(\u001b[33m'\u001b[39;49;00m\u001b[33mc\u001b[39;49;00m\u001b[33m'\u001b[39;49;00m, c), _data.get(\u001b[33m'\u001b[39;49;00m\u001b[33md\u001b[39;49;00m\u001b[33m'\u001b[39;49;00m, d)))\u001b[37m\u001b[39;49;00m\n",
      "    a *= _data.augment(\u001b[33m'\u001b[39;49;00m\u001b[33ma\u001b[39;49;00m\u001b[33m'\u001b[39;49;00m, _data.get(\u001b[33m'\u001b[39;49;00m\u001b[33mb\u001b[39;49;00m\u001b[33m'\u001b[39;49;00m, b) + \u001b[34m1\u001b[39;49;00m)\u001b[37m\u001b[39;49;00m\n",
      "    \u001b[34massert\u001b[39;49;00m _data.set(\u001b[33m'\u001b[39;49;00m\u001b[33m<assertion>\u001b[39;49;00m\u001b[33m'\u001b[39;49;00m, _data.get(\u001b[33m'\u001b[39;49;00m\u001b[33ma\u001b[39;49;00m\u001b[33m'\u001b[39;49;00m, a) > \u001b[34m0\u001b[39;49;00m, loads=(_data.get(\u001b[33m'\u001b[39;49;00m\u001b[33ma\u001b[39;49;00m\u001b[33m'\u001b[39;49;00m, a),))\u001b[37m\u001b[39;49;00m\n",
      "    \u001b[34mreturn\u001b[39;49;00m (_data.get(\u001b[33m'\u001b[39;49;00m\u001b[33mforty_two\u001b[39;49;00m\u001b[33m'\u001b[39;49;00m, forty_two), \u001b[33m'\u001b[39;49;00m\u001b[33mForty-Two\u001b[39;49;00m\u001b[33m'\u001b[39;49;00m)\u001b[37m\u001b[39;49;00m"
     ]
    }
   ],
   "source": [
    "TrackGetTransformer().visit(assign_tree)\n",
    "dump_tree(assign_tree)"
   ]
  },
  {
   "cell_type": "markdown",
   "metadata": {
    "slideshow": {
     "slide_type": "subslide"
    }
   },
   "source": [
    "### End of Excursion"
   ]
  },
  {
   "cell_type": "markdown",
   "metadata": {
    "slideshow": {
     "slide_type": "fragment"
    }
   },
   "source": [
    "Each return statement `return x` is transformed to `return _data.set('<return_value>', x)`. This allows to __track return values__."
   ]
  },
  {
   "cell_type": "markdown",
   "metadata": {
    "slideshow": {
     "slide_type": "subslide"
    }
   },
   "source": [
    "### Excursion: Tracking Return Values"
   ]
  },
  {
   "cell_type": "markdown",
   "metadata": {
    "slideshow": {
     "slide_type": "fragment"
    }
   },
   "source": [
    "Our `TrackReturnTransformer` also makes use of `make_set_data()`."
   ]
  },
  {
   "cell_type": "code",
   "execution_count": 105,
   "metadata": {
    "execution": {
     "iopub.execute_input": "2023-01-07T16:02:48.633502Z",
     "iopub.status.busy": "2023-01-07T16:02:48.633095Z",
     "iopub.status.idle": "2023-01-07T16:02:48.634303Z",
     "shell.execute_reply": "2023-01-07T16:02:48.634534Z"
    },
    "slideshow": {
     "slide_type": "subslide"
    }
   },
   "outputs": [],
   "source": [
    "class TrackReturnTransformer(NodeTransformer):\n",
    "    def __init__(self) -> None:\n",
    "        self.function_name: Optional[str] = None\n",
    "        super().__init__()\n",
    "\n",
    "    def visit_FunctionDef(self, node: Union[ast.FunctionDef, ast.AsyncFunctionDef]) -> AST:\n",
    "        outer_name = self.function_name\n",
    "        self.function_name = node.name  # Save current name\n",
    "        self.generic_visit(node)\n",
    "        self.function_name = outer_name\n",
    "        return node\n",
    "\n",
    "    def visit_AsyncFunctionDef(self, node: ast.AsyncFunctionDef) -> AST:\n",
    "        return self.visit_FunctionDef(node)\n",
    "\n",
    "    def return_value(self, tp: str = \"return\") -> str:\n",
    "        if self.function_name is None:\n",
    "            return f\"<{tp} value>\"\n",
    "        else:\n",
    "            return f\"<{self.function_name}() {tp} value>\"\n",
    "\n",
    "    def visit_return_or_yield(self, node: Union[ast.Return, ast.Yield, ast.YieldFrom],\n",
    "                              tp: str = \"return\") -> AST:\n",
    "\n",
    "        if node.value is not None:\n",
    "            value = ast.unparse(node.value)\n",
    "            if not value.startswith(DATA_TRACKER + '.set'):\n",
    "                node.value = make_set_data(self.return_value(tp), node.value)\n",
    "\n",
    "        return node\n",
    "\n",
    "    def visit_Return(self, node: ast.Return) -> AST:\n",
    "        return self.visit_return_or_yield(node, tp=\"return\")\n",
    "\n",
    "    def visit_Yield(self, node: ast.Yield) -> AST:\n",
    "        return self.visit_return_or_yield(node, tp=\"yield\")\n",
    "\n",
    "    def visit_YieldFrom(self, node: ast.YieldFrom) -> AST:\n",
    "        return self.visit_return_or_yield(node, tp=\"yield\")"
   ]
  },
  {
   "cell_type": "markdown",
   "metadata": {
    "slideshow": {
     "slide_type": "subslide"
    }
   },
   "source": [
    "This is the effect of `TrackReturnTransformer`. We see that all return values are saved, and thus all locations of the corresponding return statements are tracked."
   ]
  },
  {
   "cell_type": "code",
   "execution_count": 106,
   "metadata": {
    "execution": {
     "iopub.execute_input": "2023-01-07T16:02:48.658467Z",
     "iopub.status.busy": "2023-01-07T16:02:48.658121Z",
     "iopub.status.idle": "2023-01-07T16:02:48.668303Z",
     "shell.execute_reply": "2023-01-07T16:02:48.668611Z"
    },
    "slideshow": {
     "slide_type": "subslide"
    }
   },
   "outputs": [
    {
     "name": "stdout",
     "output_type": "stream",
     "text": [
      "\u001b[34mdef\u001b[39;49;00m \u001b[32mmiddle\u001b[39;49;00m(x, y, z):\u001b[37m\u001b[39;49;00m\n",
      "    \u001b[34mif\u001b[39;49;00m _data.get(\u001b[33m'\u001b[39;49;00m\u001b[33my\u001b[39;49;00m\u001b[33m'\u001b[39;49;00m, y) < _data.get(\u001b[33m'\u001b[39;49;00m\u001b[33mz\u001b[39;49;00m\u001b[33m'\u001b[39;49;00m, z):\u001b[37m\u001b[39;49;00m\n",
      "        \u001b[34mif\u001b[39;49;00m _data.get(\u001b[33m'\u001b[39;49;00m\u001b[33mx\u001b[39;49;00m\u001b[33m'\u001b[39;49;00m, x) < _data.get(\u001b[33m'\u001b[39;49;00m\u001b[33my\u001b[39;49;00m\u001b[33m'\u001b[39;49;00m, y):\u001b[37m\u001b[39;49;00m\n",
      "            \u001b[34mreturn\u001b[39;49;00m _data.set(\u001b[33m'\u001b[39;49;00m\u001b[33m<middle() return value>\u001b[39;49;00m\u001b[33m'\u001b[39;49;00m, _data.get(\u001b[33m'\u001b[39;49;00m\u001b[33my\u001b[39;49;00m\u001b[33m'\u001b[39;49;00m, y))\u001b[37m\u001b[39;49;00m\n",
      "        \u001b[34melif\u001b[39;49;00m _data.get(\u001b[33m'\u001b[39;49;00m\u001b[33mx\u001b[39;49;00m\u001b[33m'\u001b[39;49;00m, x) < _data.get(\u001b[33m'\u001b[39;49;00m\u001b[33mz\u001b[39;49;00m\u001b[33m'\u001b[39;49;00m, z):\u001b[37m\u001b[39;49;00m\n",
      "            \u001b[34mreturn\u001b[39;49;00m _data.set(\u001b[33m'\u001b[39;49;00m\u001b[33m<middle() return value>\u001b[39;49;00m\u001b[33m'\u001b[39;49;00m, _data.get(\u001b[33m'\u001b[39;49;00m\u001b[33my\u001b[39;49;00m\u001b[33m'\u001b[39;49;00m, y))\u001b[37m\u001b[39;49;00m\n",
      "    \u001b[34melif\u001b[39;49;00m _data.get(\u001b[33m'\u001b[39;49;00m\u001b[33mx\u001b[39;49;00m\u001b[33m'\u001b[39;49;00m, x) > _data.get(\u001b[33m'\u001b[39;49;00m\u001b[33my\u001b[39;49;00m\u001b[33m'\u001b[39;49;00m, y):\u001b[37m\u001b[39;49;00m\n",
      "        \u001b[34mreturn\u001b[39;49;00m _data.set(\u001b[33m'\u001b[39;49;00m\u001b[33m<middle() return value>\u001b[39;49;00m\u001b[33m'\u001b[39;49;00m, _data.get(\u001b[33m'\u001b[39;49;00m\u001b[33my\u001b[39;49;00m\u001b[33m'\u001b[39;49;00m, y))\u001b[37m\u001b[39;49;00m\n",
      "    \u001b[34melif\u001b[39;49;00m _data.get(\u001b[33m'\u001b[39;49;00m\u001b[33mx\u001b[39;49;00m\u001b[33m'\u001b[39;49;00m, x) > _data.get(\u001b[33m'\u001b[39;49;00m\u001b[33mz\u001b[39;49;00m\u001b[33m'\u001b[39;49;00m, z):\u001b[37m\u001b[39;49;00m\n",
      "        \u001b[34mreturn\u001b[39;49;00m _data.set(\u001b[33m'\u001b[39;49;00m\u001b[33m<middle() return value>\u001b[39;49;00m\u001b[33m'\u001b[39;49;00m, _data.get(\u001b[33m'\u001b[39;49;00m\u001b[33mx\u001b[39;49;00m\u001b[33m'\u001b[39;49;00m, x))\u001b[37m\u001b[39;49;00m\n",
      "    \u001b[34mreturn\u001b[39;49;00m _data.set(\u001b[33m'\u001b[39;49;00m\u001b[33m<middle() return value>\u001b[39;49;00m\u001b[33m'\u001b[39;49;00m, _data.get(\u001b[33m'\u001b[39;49;00m\u001b[33mz\u001b[39;49;00m\u001b[33m'\u001b[39;49;00m, z))\u001b[37m\u001b[39;49;00m"
     ]
    }
   ],
   "source": [
    "TrackReturnTransformer().visit(middle_tree)\n",
    "dump_tree(middle_tree)"
   ]
  },
  {
   "cell_type": "code",
   "execution_count": 107,
   "metadata": {
    "execution": {
     "iopub.execute_input": "2023-01-07T16:02:48.671033Z",
     "iopub.status.busy": "2023-01-07T16:02:48.670727Z",
     "iopub.status.idle": "2023-01-07T16:02:48.672009Z",
     "shell.execute_reply": "2023-01-07T16:02:48.672219Z"
    },
    "slideshow": {
     "slide_type": "subslide"
    }
   },
   "outputs": [
    {
     "name": "stdout",
     "output_type": "stream",
     "text": [
      "middle:2: getting y\n",
      "middle:2: getting z\n",
      "middle:3: getting x\n",
      "middle:3: getting y\n",
      "middle:5: getting x\n",
      "middle:5: getting z\n",
      "middle:6: getting y\n",
      "middle:6: setting <middle() return value>\n"
     ]
    }
   ],
   "source": [
    "with DataTrackerTester(middle_tree, middle):\n",
    "    middle(2, 1, 3)"
   ]
  },
  {
   "cell_type": "markdown",
   "metadata": {
    "slideshow": {
     "slide_type": "subslide"
    }
   },
   "source": [
    "### End of Excursion"
   ]
  },
  {
   "cell_type": "markdown",
   "metadata": {
    "slideshow": {
     "slide_type": "subslide"
    }
   },
   "source": [
    "To track __control dependencies__, for every block controlled by an `if`, `while`, or `for`:\n",
    "\n",
    "1. We wrap their tests in a `_data.test()` wrapper. This allows us to assign pseudo-variables like `<test>` which hold the conditions.\n",
    "2. We wrap their controlled blocks in a `with` statement. This allows us to track the variables read right before the `with` (= the controlling variables), and to restore the current controlling variables when the block is left.\n",
    "\n",
    "A statement\n",
    "\n",
    "```python\n",
    "if cond:\n",
    "    body\n",
    "```\n",
    "\n",
    "thus becomes\n",
    "\n",
    "```python\n",
    "if _data.test(cond):\n",
    "    with _data:\n",
    "        body\n",
    "```"
   ]
  },
  {
   "cell_type": "markdown",
   "metadata": {
    "slideshow": {
     "slide_type": "subslide"
    }
   },
   "source": [
    "### Excursion: Tracking Control"
   ]
  },
  {
   "cell_type": "markdown",
   "metadata": {
    "slideshow": {
     "slide_type": "fragment"
    }
   },
   "source": [
    "To modify control statements, we traverse the tree, looking for `If` nodes:"
   ]
  },
  {
   "cell_type": "code",
   "execution_count": 108,
   "metadata": {
    "execution": {
     "iopub.execute_input": "2023-01-07T16:02:48.674696Z",
     "iopub.status.busy": "2023-01-07T16:02:48.674394Z",
     "iopub.status.idle": "2023-01-07T16:02:48.675813Z",
     "shell.execute_reply": "2023-01-07T16:02:48.676091Z"
    },
    "slideshow": {
     "slide_type": "fragment"
    }
   },
   "outputs": [],
   "source": [
    "class TrackControlTransformer(NodeTransformer):\n",
    "    def visit_If(self, node: ast.If) -> ast.If:\n",
    "        self.generic_visit(node)\n",
    "        node.test = self.make_test(node.test)\n",
    "        node.body = self.make_with(node.body)\n",
    "        node.orelse = self.make_with(node.orelse)\n",
    "        return node"
   ]
  },
  {
   "cell_type": "markdown",
   "metadata": {
    "slideshow": {
     "slide_type": "fragment"
    }
   },
   "source": [
    "The subtrees come from helper functions `make_with()` and `make_test()`. Again, all these subtrees are obtained via `ast.dump()`."
   ]
  },
  {
   "cell_type": "code",
   "execution_count": 109,
   "metadata": {
    "execution": {
     "iopub.execute_input": "2023-01-07T16:02:48.681370Z",
     "iopub.status.busy": "2023-01-07T16:02:48.680838Z",
     "iopub.status.idle": "2023-01-07T16:02:48.682808Z",
     "shell.execute_reply": "2023-01-07T16:02:48.683074Z"
    },
    "slideshow": {
     "slide_type": "subslide"
    }
   },
   "outputs": [],
   "source": [
    "class TrackControlTransformer(TrackControlTransformer):\n",
    "    def make_with(self, block: List[ast.stmt]) -> List[ast.stmt]:\n",
    "        \"\"\"Create a subtree 'with _data: `block`'\"\"\"\n",
    "        if len(block) == 0:\n",
    "            return []\n",
    "\n",
    "        block_as_text = ast.unparse(block[0])\n",
    "        if block_as_text.startswith('with ' + DATA_TRACKER):\n",
    "            return block  # Do not apply twice\n",
    "\n",
    "        new_node = With(\n",
    "            items=[\n",
    "                withitem(\n",
    "                    context_expr=Name(id=DATA_TRACKER, ctx=Load()),\n",
    "                    optional_vars=None)\n",
    "            ],\n",
    "            body=block\n",
    "        )\n",
    "        ast.copy_location(new_node, block[0])\n",
    "        return [new_node]"
   ]
  },
  {
   "cell_type": "code",
   "execution_count": 110,
   "metadata": {
    "execution": {
     "iopub.execute_input": "2023-01-07T16:02:48.685831Z",
     "iopub.status.busy": "2023-01-07T16:02:48.684648Z",
     "iopub.status.idle": "2023-01-07T16:02:48.687110Z",
     "shell.execute_reply": "2023-01-07T16:02:48.687310Z"
    },
    "slideshow": {
     "slide_type": "subslide"
    }
   },
   "outputs": [],
   "source": [
    "class TrackControlTransformer(TrackControlTransformer):\n",
    "    def make_test(self, test: ast.expr) -> ast.expr:\n",
    "        test_as_text = ast.unparse(test)\n",
    "        if test_as_text.startswith(DATA_TRACKER + '.test'):\n",
    "            return test  # Do not apply twice\n",
    "\n",
    "        new_test = Call(func=Attribute(value=Name(id=DATA_TRACKER, ctx=Load()),\n",
    "                                       attr='test',\n",
    "                                       ctx=Load()),\n",
    "                         args=[test],\n",
    "                         keywords=[])\n",
    "        ast.copy_location(new_test, test)\n",
    "        return new_test"
   ]
  },
  {
   "cell_type": "markdown",
   "metadata": {
    "slideshow": {
     "slide_type": "fragment"
    }
   },
   "source": [
    "`while` loops are handled just like `if` constructs."
   ]
  },
  {
   "cell_type": "code",
   "execution_count": 111,
   "metadata": {
    "execution": {
     "iopub.execute_input": "2023-01-07T16:02:48.689652Z",
     "iopub.status.busy": "2023-01-07T16:02:48.689356Z",
     "iopub.status.idle": "2023-01-07T16:02:48.690502Z",
     "shell.execute_reply": "2023-01-07T16:02:48.690807Z"
    },
    "slideshow": {
     "slide_type": "subslide"
    }
   },
   "outputs": [],
   "source": [
    "class TrackControlTransformer(TrackControlTransformer):\n",
    "    def visit_While(self, node: ast.While) -> ast.While:\n",
    "        self.generic_visit(node)\n",
    "        node.test = self.make_test(node.test)\n",
    "        node.body = self.make_with(node.body)\n",
    "        node.orelse = self.make_with(node.orelse)\n",
    "        return node"
   ]
  },
  {
   "cell_type": "markdown",
   "metadata": {
    "slideshow": {
     "slide_type": "fragment"
    }
   },
   "source": [
    "`for` loops gets a different treatment, as there is no condition that would control the body. Still, we ensure that setting the iterator variable is properly tracked."
   ]
  },
  {
   "cell_type": "code",
   "execution_count": 112,
   "metadata": {
    "execution": {
     "iopub.execute_input": "2023-01-07T16:02:48.693861Z",
     "iopub.status.busy": "2023-01-07T16:02:48.693506Z",
     "iopub.status.idle": "2023-01-07T16:02:48.694809Z",
     "shell.execute_reply": "2023-01-07T16:02:48.695056Z"
    },
    "slideshow": {
     "slide_type": "subslide"
    }
   },
   "outputs": [],
   "source": [
    "class TrackControlTransformer(TrackControlTransformer):\n",
    "    # regular `for` loop\n",
    "    def visit_For(self, node: Union[ast.For, ast.AsyncFor]) -> AST:\n",
    "        self.generic_visit(node)\n",
    "        id = ast.unparse(node.target).strip()\n",
    "        node.iter = make_set_data(id, node.iter)\n",
    "\n",
    "        # Uncomment if you want iterators to control their bodies\n",
    "        # node.body = self.make_with(node.body)\n",
    "        # node.orelse = self.make_with(node.orelse)\n",
    "        return node\n",
    "\n",
    "    # `for` loops in async functions\n",
    "    def visit_AsyncFor(self, node: ast.AsyncFor) -> AST:\n",
    "        return self.visit_For(node)\n",
    "\n",
    "    # `for` clause in comprehensions\n",
    "    def visit_comprehension(self, node: ast.comprehension) -> AST:\n",
    "        self.generic_visit(node)\n",
    "        id = ast.unparse(node.target).strip()\n",
    "        node.iter = make_set_data(id, node.iter)\n",
    "        return node"
   ]
  },
  {
   "cell_type": "markdown",
   "metadata": {
    "slideshow": {
     "slide_type": "subslide"
    }
   },
   "source": [
    "Here is the effect of `TrackControlTransformer`:"
   ]
  },
  {
   "cell_type": "code",
   "execution_count": 113,
   "metadata": {
    "execution": {
     "iopub.execute_input": "2023-01-07T16:02:48.720638Z",
     "iopub.status.busy": "2023-01-07T16:02:48.720259Z",
     "iopub.status.idle": "2023-01-07T16:02:48.731747Z",
     "shell.execute_reply": "2023-01-07T16:02:48.731954Z"
    },
    "slideshow": {
     "slide_type": "subslide"
    }
   },
   "outputs": [
    {
     "name": "stdout",
     "output_type": "stream",
     "text": [
      "\u001b[34mdef\u001b[39;49;00m \u001b[32mmiddle\u001b[39;49;00m(x, y, z):\u001b[37m\u001b[39;49;00m\n",
      "    \u001b[34mif\u001b[39;49;00m _data.test(_data.get(\u001b[33m'\u001b[39;49;00m\u001b[33my\u001b[39;49;00m\u001b[33m'\u001b[39;49;00m, y) < _data.get(\u001b[33m'\u001b[39;49;00m\u001b[33mz\u001b[39;49;00m\u001b[33m'\u001b[39;49;00m, z)):\u001b[37m\u001b[39;49;00m\n",
      "        \u001b[34mwith\u001b[39;49;00m _data:\u001b[37m\u001b[39;49;00m\n",
      "            \u001b[34mif\u001b[39;49;00m _data.test(_data.get(\u001b[33m'\u001b[39;49;00m\u001b[33mx\u001b[39;49;00m\u001b[33m'\u001b[39;49;00m, x) < _data.get(\u001b[33m'\u001b[39;49;00m\u001b[33my\u001b[39;49;00m\u001b[33m'\u001b[39;49;00m, y)):\u001b[37m\u001b[39;49;00m\n",
      "                \u001b[34mwith\u001b[39;49;00m _data:\u001b[37m\u001b[39;49;00m\n",
      "                    \u001b[34mreturn\u001b[39;49;00m _data.set(\u001b[33m'\u001b[39;49;00m\u001b[33m<middle() return value>\u001b[39;49;00m\u001b[33m'\u001b[39;49;00m, _data.get(\u001b[33m'\u001b[39;49;00m\u001b[33my\u001b[39;49;00m\u001b[33m'\u001b[39;49;00m, y))\u001b[37m\u001b[39;49;00m\n",
      "            \u001b[34melse\u001b[39;49;00m:\u001b[37m\u001b[39;49;00m\n",
      "                \u001b[34mwith\u001b[39;49;00m _data:\u001b[37m\u001b[39;49;00m\n",
      "                    \u001b[34mif\u001b[39;49;00m _data.test(_data.get(\u001b[33m'\u001b[39;49;00m\u001b[33mx\u001b[39;49;00m\u001b[33m'\u001b[39;49;00m, x) < _data.get(\u001b[33m'\u001b[39;49;00m\u001b[33mz\u001b[39;49;00m\u001b[33m'\u001b[39;49;00m, z)):\u001b[37m\u001b[39;49;00m\n",
      "                        \u001b[34mwith\u001b[39;49;00m _data:\u001b[37m\u001b[39;49;00m\n",
      "                            \u001b[34mreturn\u001b[39;49;00m _data.set(\u001b[33m'\u001b[39;49;00m\u001b[33m<middle() return value>\u001b[39;49;00m\u001b[33m'\u001b[39;49;00m, _data.get(\u001b[33m'\u001b[39;49;00m\u001b[33my\u001b[39;49;00m\u001b[33m'\u001b[39;49;00m, y))\u001b[37m\u001b[39;49;00m\n",
      "    \u001b[34melse\u001b[39;49;00m:\u001b[37m\u001b[39;49;00m\n",
      "        \u001b[34mwith\u001b[39;49;00m _data:\u001b[37m\u001b[39;49;00m\n",
      "            \u001b[34mif\u001b[39;49;00m _data.test(_data.get(\u001b[33m'\u001b[39;49;00m\u001b[33mx\u001b[39;49;00m\u001b[33m'\u001b[39;49;00m, x) > _data.get(\u001b[33m'\u001b[39;49;00m\u001b[33my\u001b[39;49;00m\u001b[33m'\u001b[39;49;00m, y)):\u001b[37m\u001b[39;49;00m\n",
      "                \u001b[34mwith\u001b[39;49;00m _data:\u001b[37m\u001b[39;49;00m\n",
      "                    \u001b[34mreturn\u001b[39;49;00m _data.set(\u001b[33m'\u001b[39;49;00m\u001b[33m<middle() return value>\u001b[39;49;00m\u001b[33m'\u001b[39;49;00m, _data.get(\u001b[33m'\u001b[39;49;00m\u001b[33my\u001b[39;49;00m\u001b[33m'\u001b[39;49;00m, y))\u001b[37m\u001b[39;49;00m\n",
      "            \u001b[34melse\u001b[39;49;00m:\u001b[37m\u001b[39;49;00m\n",
      "                \u001b[34mwith\u001b[39;49;00m _data:\u001b[37m\u001b[39;49;00m\n",
      "                    \u001b[34mif\u001b[39;49;00m _data.test(_data.get(\u001b[33m'\u001b[39;49;00m\u001b[33mx\u001b[39;49;00m\u001b[33m'\u001b[39;49;00m, x) > _data.get(\u001b[33m'\u001b[39;49;00m\u001b[33mz\u001b[39;49;00m\u001b[33m'\u001b[39;49;00m, z)):\u001b[37m\u001b[39;49;00m\n",
      "                        \u001b[34mwith\u001b[39;49;00m _data:\u001b[37m\u001b[39;49;00m\n",
      "                            \u001b[34mreturn\u001b[39;49;00m _data.set(\u001b[33m'\u001b[39;49;00m\u001b[33m<middle() return value>\u001b[39;49;00m\u001b[33m'\u001b[39;49;00m, _data.get(\u001b[33m'\u001b[39;49;00m\u001b[33mx\u001b[39;49;00m\u001b[33m'\u001b[39;49;00m, x))\u001b[37m\u001b[39;49;00m\n",
      "    \u001b[34mreturn\u001b[39;49;00m _data.set(\u001b[33m'\u001b[39;49;00m\u001b[33m<middle() return value>\u001b[39;49;00m\u001b[33m'\u001b[39;49;00m, _data.get(\u001b[33m'\u001b[39;49;00m\u001b[33mz\u001b[39;49;00m\u001b[33m'\u001b[39;49;00m, z))\u001b[37m\u001b[39;49;00m"
     ]
    }
   ],
   "source": [
    "TrackControlTransformer().visit(middle_tree)\n",
    "dump_tree(middle_tree)"
   ]
  },
  {
   "cell_type": "markdown",
   "metadata": {
    "slideshow": {
     "slide_type": "subslide"
    }
   },
   "source": [
    "We extend `DataTracker` to also log these events:"
   ]
  },
  {
   "cell_type": "code",
   "execution_count": 114,
   "metadata": {
    "execution": {
     "iopub.execute_input": "2023-01-07T16:02:48.734645Z",
     "iopub.status.busy": "2023-01-07T16:02:48.734266Z",
     "iopub.status.idle": "2023-01-07T16:02:48.735581Z",
     "shell.execute_reply": "2023-01-07T16:02:48.735783Z"
    },
    "slideshow": {
     "slide_type": "fragment"
    }
   },
   "outputs": [],
   "source": [
    "class DataTracker(DataTracker):\n",
    "    def test(self, cond: AST) -> AST:\n",
    "        \"\"\"Test condition `cond`. To be overloaded in subclasses.\"\"\"\n",
    "        if self.log:\n",
    "            caller_func, lineno = self.caller_location()\n",
    "            print(f\"{caller_func.__name__}:{lineno}: testing condition\")\n",
    "\n",
    "        return cond"
   ]
  },
  {
   "cell_type": "code",
   "execution_count": 115,
   "metadata": {
    "execution": {
     "iopub.execute_input": "2023-01-07T16:02:48.738562Z",
     "iopub.status.busy": "2023-01-07T16:02:48.738206Z",
     "iopub.status.idle": "2023-01-07T16:02:48.739434Z",
     "shell.execute_reply": "2023-01-07T16:02:48.739724Z"
    },
    "slideshow": {
     "slide_type": "subslide"
    }
   },
   "outputs": [],
   "source": [
    "class DataTracker(DataTracker):\n",
    "    def __enter__(self) -> Any:\n",
    "        \"\"\"Enter `with` block. To be overloaded in subclasses.\"\"\"\n",
    "        if self.log:\n",
    "            caller_func, lineno = self.caller_location()\n",
    "            print(f\"{caller_func.__name__}:{lineno}: entering block\")\n",
    "        return self\n",
    "\n",
    "    def __exit__(self, exc_type: Type, exc_value: BaseException, \n",
    "                 traceback: TracebackType) -> Optional[bool]:\n",
    "        \"\"\"Exit `with` block. To be overloaded in subclasses.\"\"\"\n",
    "        if self.log:\n",
    "            caller_func, lineno = self.caller_location()\n",
    "            print(f\"{caller_func.__name__}:{lineno}: exiting block\")\n",
    "        return None"
   ]
  },
  {
   "cell_type": "code",
   "execution_count": 116,
   "metadata": {
    "execution": {
     "iopub.execute_input": "2023-01-07T16:02:48.741713Z",
     "iopub.status.busy": "2023-01-07T16:02:48.741269Z",
     "iopub.status.idle": "2023-01-07T16:02:48.743293Z",
     "shell.execute_reply": "2023-01-07T16:02:48.743526Z"
    },
    "slideshow": {
     "slide_type": "subslide"
    }
   },
   "outputs": [
    {
     "name": "stdout",
     "output_type": "stream",
     "text": [
      "middle:2: getting y\n",
      "middle:2: getting z\n",
      "middle:2: testing condition\n",
      "middle:3: entering block\n",
      "middle:3: getting x\n",
      "middle:3: getting y\n",
      "middle:3: testing condition\n",
      "middle:5: entering block\n",
      "middle:5: getting x\n",
      "middle:5: getting z\n",
      "middle:5: testing condition\n",
      "middle:6: entering block\n",
      "middle:6: getting y\n",
      "middle:6: setting <middle() return value>\n",
      "middle:6: exiting block\n",
      "middle:5: exiting block\n",
      "middle:3: exiting block\n"
     ]
    }
   ],
   "source": [
    "with DataTrackerTester(middle_tree, middle):\n",
    "    middle(2, 1, 3)"
   ]
  },
  {
   "cell_type": "markdown",
   "metadata": {
    "slideshow": {
     "slide_type": "subslide"
    }
   },
   "source": [
    "### End of Excursion"
   ]
  },
  {
   "cell_type": "markdown",
   "metadata": {
    "slideshow": {
     "slide_type": "subslide"
    }
   },
   "source": [
    "We also want to be able to __track calls__ across multiple functions. To this end, we wrap each call\n",
    "\n",
    "```python\n",
    "func(arg1, arg2, ...)\n",
    "```\n",
    "\n",
    "into\n",
    "\n",
    "```python\n",
    "_data.ret(_data.call(func)(_data.arg(arg1), _data.arg(arg2), ...))\n",
    "```\n",
    "\n",
    "each of which simply pass through their given argument, but which allow to track the beginning of calls (`call()`), the computation of arguments (`arg()`), and the return of the call (`ret()`), respectively."
   ]
  },
  {
   "cell_type": "markdown",
   "metadata": {
    "slideshow": {
     "slide_type": "subslide"
    }
   },
   "source": [
    "### Excursion: Tracking Calls and Arguments"
   ]
  },
  {
   "cell_type": "markdown",
   "metadata": {
    "slideshow": {
     "slide_type": "fragment"
    }
   },
   "source": [
    "Our `TrackCallTransformer` visits all `Call` nodes, applying the transformations as shown above."
   ]
  },
  {
   "cell_type": "code",
   "execution_count": 117,
   "metadata": {
    "execution": {
     "iopub.execute_input": "2023-01-07T16:02:48.748198Z",
     "iopub.status.busy": "2023-01-07T16:02:48.747821Z",
     "iopub.status.idle": "2023-01-07T16:02:48.749269Z",
     "shell.execute_reply": "2023-01-07T16:02:48.749477Z"
    },
    "slideshow": {
     "slide_type": "subslide"
    }
   },
   "outputs": [],
   "source": [
    "class TrackCallTransformer(NodeTransformer):\n",
    "    def make_call(self, node: AST, func: str, \n",
    "                  pos: Optional[int] = None, kw: Optional[str] = None) -> Call:\n",
    "        \"\"\"Return _data.call(`func`)(`node`)\"\"\"\n",
    "        keywords = []\n",
    "\n",
    "        # `Num()` and `Str()` are deprecated in favor of `Constant()`\n",
    "        if pos:\n",
    "            keywords.append(keyword(arg='pos', value=ast.Num(pos)))\n",
    "        if kw:\n",
    "            keywords.append(keyword(arg='kw', value=ast.Str(kw)))\n",
    "\n",
    "        return Call(func=Attribute(value=Name(id=DATA_TRACKER,\n",
    "                                              ctx=Load()),\n",
    "                                   attr=func,\n",
    "                                   ctx=Load()),\n",
    "                     args=[node],\n",
    "                     keywords=keywords)\n",
    "\n",
    "    def visit_Call(self, node: Call) -> Call:\n",
    "        self.generic_visit(node)\n",
    "\n",
    "        call_as_text = ast.unparse(node)\n",
    "        if call_as_text.startswith(DATA_TRACKER + '.ret'):\n",
    "            return node  # Already applied\n",
    "\n",
    "        func_as_text = ast.unparse(node)\n",
    "        if func_as_text.startswith(DATA_TRACKER + '.'):\n",
    "            return node  # Own function\n",
    "\n",
    "        new_args = []\n",
    "        for n, arg in enumerate(node.args):\n",
    "            new_args.append(self.make_call(arg, 'arg', pos=n + 1))\n",
    "        node.args = cast(List[ast.expr], new_args)\n",
    "\n",
    "        for kw in node.keywords:\n",
    "            id = kw.arg if hasattr(kw, 'arg') else None\n",
    "            kw.value = self.make_call(kw.value, 'arg', kw=id)\n",
    "\n",
    "        node.func = self.make_call(node.func, 'call')\n",
    "        return self.make_call(node, 'ret')"
   ]
  },
  {
   "cell_type": "markdown",
   "metadata": {
    "slideshow": {
     "slide_type": "subslide"
    }
   },
   "source": [
    "Our example function `middle()` does not contain any calls, but here is a function that invokes `middle()` twice:"
   ]
  },
  {
   "cell_type": "code",
   "execution_count": 118,
   "metadata": {
    "execution": {
     "iopub.execute_input": "2023-01-07T16:02:48.751625Z",
     "iopub.status.busy": "2023-01-07T16:02:48.751284Z",
     "iopub.status.idle": "2023-01-07T16:02:48.752673Z",
     "shell.execute_reply": "2023-01-07T16:02:48.752877Z"
    },
    "slideshow": {
     "slide_type": "fragment"
    }
   },
   "outputs": [],
   "source": [
    "def test_call() -> int:\n",
    "    x = middle(1, 2, z=middle(1, 2, 3))\n",
    "    return x"
   ]
  },
  {
   "cell_type": "code",
   "execution_count": 119,
   "metadata": {
    "execution": {
     "iopub.execute_input": "2023-01-07T16:02:48.754746Z",
     "iopub.status.busy": "2023-01-07T16:02:48.754420Z",
     "iopub.status.idle": "2023-01-07T16:02:48.791794Z",
     "shell.execute_reply": "2023-01-07T16:02:48.792099Z"
    },
    "slideshow": {
     "slide_type": "fragment"
    }
   },
   "outputs": [
    {
     "name": "stdout",
     "output_type": "stream",
     "text": [
      "\u001b[34mdef\u001b[39;49;00m \u001b[32mtest_call\u001b[39;49;00m() -> \u001b[36mint\u001b[39;49;00m:\u001b[37m\u001b[39;49;00m\n",
      "    x = middle(\u001b[34m1\u001b[39;49;00m, \u001b[34m2\u001b[39;49;00m, z=middle(\u001b[34m1\u001b[39;49;00m, \u001b[34m2\u001b[39;49;00m, \u001b[34m3\u001b[39;49;00m))\u001b[37m\u001b[39;49;00m\n",
      "    \u001b[34mreturn\u001b[39;49;00m x\u001b[37m\u001b[39;49;00m"
     ]
    }
   ],
   "source": [
    "call_tree = ast.parse(inspect.getsource(test_call))\n",
    "dump_tree(call_tree)"
   ]
  },
  {
   "cell_type": "markdown",
   "metadata": {
    "slideshow": {
     "slide_type": "fragment"
    }
   },
   "source": [
    "If we invoke `TrackCallTransformer` on this testing function, we get the following transformed code:"
   ]
  },
  {
   "cell_type": "code",
   "execution_count": 120,
   "metadata": {
    "execution": {
     "iopub.execute_input": "2023-01-07T16:02:48.794741Z",
     "iopub.status.busy": "2023-01-07T16:02:48.794384Z",
     "iopub.status.idle": "2023-01-07T16:02:48.795815Z",
     "shell.execute_reply": "2023-01-07T16:02:48.796029Z"
    },
    "slideshow": {
     "slide_type": "fragment"
    }
   },
   "outputs": [],
   "source": [
    "TrackCallTransformer().visit(call_tree);"
   ]
  },
  {
   "cell_type": "code",
   "execution_count": 121,
   "metadata": {
    "execution": {
     "iopub.execute_input": "2023-01-07T16:02:48.820673Z",
     "iopub.status.busy": "2023-01-07T16:02:48.820344Z",
     "iopub.status.idle": "2023-01-07T16:02:48.830266Z",
     "shell.execute_reply": "2023-01-07T16:02:48.830607Z"
    },
    "slideshow": {
     "slide_type": "subslide"
    }
   },
   "outputs": [
    {
     "name": "stdout",
     "output_type": "stream",
     "text": [
      "\u001b[34mdef\u001b[39;49;00m \u001b[32mtest_call\u001b[39;49;00m() -> \u001b[36mint\u001b[39;49;00m:\u001b[37m\u001b[39;49;00m\n",
      "    x = _data.ret(_data.call(middle)(_data.arg(\u001b[34m1\u001b[39;49;00m, pos=\u001b[34m1\u001b[39;49;00m), _data.arg(\u001b[34m2\u001b[39;49;00m, pos=\u001b[34m2\u001b[39;49;00m), z=_data.arg(_data.ret(_data.call(middle)(_data.arg(\u001b[34m1\u001b[39;49;00m, pos=\u001b[34m1\u001b[39;49;00m), _data.arg(\u001b[34m2\u001b[39;49;00m, pos=\u001b[34m2\u001b[39;49;00m), _data.arg(\u001b[34m3\u001b[39;49;00m, pos=\u001b[34m3\u001b[39;49;00m))), kw=\u001b[33m'\u001b[39;49;00m\u001b[33mz\u001b[39;49;00m\u001b[33m'\u001b[39;49;00m)))\u001b[37m\u001b[39;49;00m\n",
      "    \u001b[34mreturn\u001b[39;49;00m x\u001b[37m\u001b[39;49;00m"
     ]
    }
   ],
   "source": [
    "dump_tree(call_tree)"
   ]
  },
  {
   "cell_type": "code",
   "execution_count": 122,
   "metadata": {
    "execution": {
     "iopub.execute_input": "2023-01-07T16:02:48.832830Z",
     "iopub.status.busy": "2023-01-07T16:02:48.832429Z",
     "iopub.status.idle": "2023-01-07T16:02:48.833638Z",
     "shell.execute_reply": "2023-01-07T16:02:48.833978Z"
    },
    "slideshow": {
     "slide_type": "fragment"
    }
   },
   "outputs": [],
   "source": [
    "def f() -> bool:\n",
    "    return math.isclose(1, 1.0)"
   ]
  },
  {
   "cell_type": "code",
   "execution_count": 123,
   "metadata": {
    "execution": {
     "iopub.execute_input": "2023-01-07T16:02:48.857558Z",
     "iopub.status.busy": "2023-01-07T16:02:48.857242Z",
     "iopub.status.idle": "2023-01-07T16:02:48.866069Z",
     "shell.execute_reply": "2023-01-07T16:02:48.866418Z"
    },
    "slideshow": {
     "slide_type": "fragment"
    }
   },
   "outputs": [
    {
     "name": "stdout",
     "output_type": "stream",
     "text": [
      "\u001b[34mdef\u001b[39;49;00m \u001b[32mf\u001b[39;49;00m() -> \u001b[36mbool\u001b[39;49;00m:\u001b[37m\u001b[39;49;00m\n",
      "    \u001b[34mreturn\u001b[39;49;00m math.isclose(\u001b[34m1\u001b[39;49;00m, \u001b[34m1.0\u001b[39;49;00m)\u001b[37m\u001b[39;49;00m"
     ]
    }
   ],
   "source": [
    "f_tree = ast.parse(inspect.getsource(f))\n",
    "dump_tree(f_tree)"
   ]
  },
  {
   "cell_type": "code",
   "execution_count": 124,
   "metadata": {
    "execution": {
     "iopub.execute_input": "2023-01-07T16:02:48.868598Z",
     "iopub.status.busy": "2023-01-07T16:02:48.868270Z",
     "iopub.status.idle": "2023-01-07T16:02:48.869495Z",
     "shell.execute_reply": "2023-01-07T16:02:48.869834Z"
    },
    "slideshow": {
     "slide_type": "fragment"
    }
   },
   "outputs": [],
   "source": [
    "TrackCallTransformer().visit(f_tree);"
   ]
  },
  {
   "cell_type": "code",
   "execution_count": 125,
   "metadata": {
    "execution": {
     "iopub.execute_input": "2023-01-07T16:02:48.877912Z",
     "iopub.status.busy": "2023-01-07T16:02:48.877475Z",
     "iopub.status.idle": "2023-01-07T16:02:48.902687Z",
     "shell.execute_reply": "2023-01-07T16:02:48.902895Z"
    },
    "slideshow": {
     "slide_type": "fragment"
    }
   },
   "outputs": [
    {
     "name": "stdout",
     "output_type": "stream",
     "text": [
      "\u001b[34mdef\u001b[39;49;00m \u001b[32mf\u001b[39;49;00m() -> \u001b[36mbool\u001b[39;49;00m:\u001b[37m\u001b[39;49;00m\n",
      "    \u001b[34mreturn\u001b[39;49;00m _data.ret(_data.call(math.isclose)(_data.arg(\u001b[34m1\u001b[39;49;00m, pos=\u001b[34m1\u001b[39;49;00m), _data.arg(\u001b[34m1.0\u001b[39;49;00m, pos=\u001b[34m2\u001b[39;49;00m)))\u001b[37m\u001b[39;49;00m"
     ]
    }
   ],
   "source": [
    "dump_tree(f_tree)"
   ]
  },
  {
   "cell_type": "markdown",
   "metadata": {
    "slideshow": {
     "slide_type": "subslide"
    }
   },
   "source": [
    "As before, our default `arg()`, `ret()`, and `call()` methods simply log the event and pass through the given value."
   ]
  },
  {
   "cell_type": "code",
   "execution_count": 126,
   "metadata": {
    "execution": {
     "iopub.execute_input": "2023-01-07T16:02:48.905864Z",
     "iopub.status.busy": "2023-01-07T16:02:48.905540Z",
     "iopub.status.idle": "2023-01-07T16:02:48.906977Z",
     "shell.execute_reply": "2023-01-07T16:02:48.907343Z"
    },
    "slideshow": {
     "slide_type": "subslide"
    }
   },
   "outputs": [],
   "source": [
    "class DataTracker(DataTracker):\n",
    "    def arg(self, value: Any, pos: Optional[int] = None, kw: Optional[str] = None) -> Any:\n",
    "        \"\"\"\n",
    "        Track `value` being passed as argument.\n",
    "        `pos` (if given) is the argument position (starting with 1).\n",
    "        `kw` (if given) is the argument keyword.\n",
    "        \"\"\"\n",
    "\n",
    "        if self.log:\n",
    "            caller_func, lineno = self.caller_location()\n",
    "            info = \"\"\n",
    "            if pos:\n",
    "                info += f\" #{pos}\"\n",
    "            if kw:\n",
    "                info += f\" {repr(kw)}\"\n",
    "\n",
    "            print(f\"{caller_func.__name__}:{lineno}: pushing arg{info}\")\n",
    "\n",
    "        return value"
   ]
  },
  {
   "cell_type": "code",
   "execution_count": 127,
   "metadata": {
    "execution": {
     "iopub.execute_input": "2023-01-07T16:02:48.910757Z",
     "iopub.status.busy": "2023-01-07T16:02:48.910022Z",
     "iopub.status.idle": "2023-01-07T16:02:48.911857Z",
     "shell.execute_reply": "2023-01-07T16:02:48.912317Z"
    },
    "slideshow": {
     "slide_type": "subslide"
    }
   },
   "outputs": [],
   "source": [
    "class DataTracker(DataTracker):\n",
    "    def ret(self, value: Any) -> Any:\n",
    "        \"\"\"Track `value` being used as return value.\"\"\"\n",
    "        if self.log:\n",
    "            caller_func, lineno = self.caller_location()\n",
    "            print(f\"{caller_func.__name__}:{lineno}: returned from call\")\n",
    "\n",
    "        return value"
   ]
  },
  {
   "cell_type": "code",
   "execution_count": 128,
   "metadata": {
    "execution": {
     "iopub.execute_input": "2023-01-07T16:02:48.915281Z",
     "iopub.status.busy": "2023-01-07T16:02:48.914922Z",
     "iopub.status.idle": "2023-01-07T16:02:48.916250Z",
     "shell.execute_reply": "2023-01-07T16:02:48.916509Z"
    },
    "slideshow": {
     "slide_type": "subslide"
    }
   },
   "outputs": [],
   "source": [
    "class DataTracker(DataTracker):\n",
    "    def instrument_call(self, func: Callable) -> Callable:\n",
    "        \"\"\"Instrument a call to `func`. To be implemented in subclasses.\"\"\"\n",
    "        return func\n",
    "\n",
    "    def call(self, func: Callable) -> Callable:\n",
    "        \"\"\"Track a call to `func`.\"\"\"\n",
    "        if self.log:\n",
    "            caller_func, lineno = self.caller_location()\n",
    "            print(f\"{caller_func.__name__}:{lineno}: calling {func}\")\n",
    "\n",
    "        return self.instrument_call(func)"
   ]
  },
  {
   "cell_type": "code",
   "execution_count": 129,
   "metadata": {
    "execution": {
     "iopub.execute_input": "2023-01-07T16:02:48.940416Z",
     "iopub.status.busy": "2023-01-07T16:02:48.940101Z",
     "iopub.status.idle": "2023-01-07T16:02:48.949490Z",
     "shell.execute_reply": "2023-01-07T16:02:48.949694Z"
    },
    "slideshow": {
     "slide_type": "subslide"
    }
   },
   "outputs": [
    {
     "name": "stdout",
     "output_type": "stream",
     "text": [
      "\u001b[34mdef\u001b[39;49;00m \u001b[32mtest_call\u001b[39;49;00m() -> \u001b[36mint\u001b[39;49;00m:\u001b[37m\u001b[39;49;00m\n",
      "    x = _data.ret(_data.call(middle)(_data.arg(\u001b[34m1\u001b[39;49;00m, pos=\u001b[34m1\u001b[39;49;00m), _data.arg(\u001b[34m2\u001b[39;49;00m, pos=\u001b[34m2\u001b[39;49;00m), z=_data.arg(_data.ret(_data.call(middle)(_data.arg(\u001b[34m1\u001b[39;49;00m, pos=\u001b[34m1\u001b[39;49;00m), _data.arg(\u001b[34m2\u001b[39;49;00m, pos=\u001b[34m2\u001b[39;49;00m), _data.arg(\u001b[34m3\u001b[39;49;00m, pos=\u001b[34m3\u001b[39;49;00m))), kw=\u001b[33m'\u001b[39;49;00m\u001b[33mz\u001b[39;49;00m\u001b[33m'\u001b[39;49;00m)))\u001b[37m\u001b[39;49;00m\n",
      "    \u001b[34mreturn\u001b[39;49;00m x\u001b[37m\u001b[39;49;00m"
     ]
    }
   ],
   "source": [
    "dump_tree(call_tree)"
   ]
  },
  {
   "cell_type": "code",
   "execution_count": 130,
   "metadata": {
    "execution": {
     "iopub.execute_input": "2023-01-07T16:02:48.951622Z",
     "iopub.status.busy": "2023-01-07T16:02:48.951285Z",
     "iopub.status.idle": "2023-01-07T16:02:48.953108Z",
     "shell.execute_reply": "2023-01-07T16:02:48.953338Z"
    },
    "slideshow": {
     "slide_type": "subslide"
    }
   },
   "outputs": [
    {
     "name": "stdout",
     "output_type": "stream",
     "text": [
      "test_call:2: calling <function middle at 0x107aa6200>\n",
      "test_call:2: pushing arg #1\n",
      "test_call:2: pushing arg #2\n",
      "test_call:2: calling <function middle at 0x107aa6200>\n",
      "test_call:2: pushing arg #1\n",
      "test_call:2: pushing arg #2\n",
      "test_call:2: pushing arg #3\n",
      "test_call:2: returned from call\n",
      "test_call:2: pushing arg 'z'\n",
      "test_call:2: returned from call\n"
     ]
    }
   ],
   "source": [
    "with DataTrackerTester(call_tree, test_call):\n",
    "    test_call()"
   ]
  },
  {
   "cell_type": "code",
   "execution_count": 131,
   "metadata": {
    "execution": {
     "iopub.execute_input": "2023-01-07T16:02:48.955607Z",
     "iopub.status.busy": "2023-01-07T16:02:48.954677Z",
     "iopub.status.idle": "2023-01-07T16:02:48.957254Z",
     "shell.execute_reply": "2023-01-07T16:02:48.957482Z"
    },
    "slideshow": {
     "slide_type": "fragment"
    }
   },
   "outputs": [
    {
     "data": {
      "text/plain": [
       "2"
      ]
     },
     "execution_count": 131,
     "metadata": {},
     "output_type": "execute_result"
    }
   ],
   "source": [
    "test_call()"
   ]
  },
  {
   "cell_type": "markdown",
   "metadata": {
    "slideshow": {
     "slide_type": "subslide"
    }
   },
   "source": [
    "### End of Excursion"
   ]
  },
  {
   "cell_type": "markdown",
   "metadata": {
    "slideshow": {
     "slide_type": "fragment"
    }
   },
   "source": [
    "On the receiving end, for each function argument `x`, we insert a call `_data.param('x', x, [position info])` to initialize `x`. This is useful for __tracking parameters across function calls.__"
   ]
  },
  {
   "cell_type": "markdown",
   "metadata": {
    "slideshow": {
     "slide_type": "subslide"
    }
   },
   "source": [
    "### Excursion: Tracking Parameters"
   ]
  },
  {
   "cell_type": "markdown",
   "metadata": {
    "slideshow": {
     "slide_type": "fragment"
    }
   },
   "source": [
    "Again, we use `ast.dump()` to determine the correct syntax tree:"
   ]
  },
  {
   "cell_type": "code",
   "execution_count": 132,
   "metadata": {
    "execution": {
     "iopub.execute_input": "2023-01-07T16:02:48.959762Z",
     "iopub.status.busy": "2023-01-07T16:02:48.959407Z",
     "iopub.status.idle": "2023-01-07T16:02:48.961009Z",
     "shell.execute_reply": "2023-01-07T16:02:48.961346Z"
    },
    "slideshow": {
     "slide_type": "fragment"
    }
   },
   "outputs": [
    {
     "name": "stdout",
     "output_type": "stream",
     "text": [
      "Module(body=[Expr(value=Call(func=Attribute(value=Name(id='_data', ctx=Load()), attr='param', ctx=Load()), args=[Constant(value='x'), Name(id='x', ctx=Load())], keywords=[keyword(arg='pos', value=Constant(value=1)), keyword(arg='last', value=Constant(value=True))]))], type_ignores=[])\n"
     ]
    }
   ],
   "source": [
    "print(ast.dump(ast.parse(\"_data.param('x', x, pos=1, last=True)\")))"
   ]
  },
  {
   "cell_type": "code",
   "execution_count": 133,
   "metadata": {
    "execution": {
     "iopub.execute_input": "2023-01-07T16:02:48.965921Z",
     "iopub.status.busy": "2023-01-07T16:02:48.965526Z",
     "iopub.status.idle": "2023-01-07T16:02:48.966824Z",
     "shell.execute_reply": "2023-01-07T16:02:48.967025Z"
    },
    "slideshow": {
     "slide_type": "subslide"
    }
   },
   "outputs": [],
   "source": [
    "class TrackParamsTransformer(NodeTransformer):\n",
    "    def visit_FunctionDef(self, node: ast.FunctionDef) -> ast.FunctionDef:\n",
    "        self.generic_visit(node)\n",
    "\n",
    "        named_args = []\n",
    "        for child in ast.iter_child_nodes(node.args):\n",
    "            if isinstance(child, ast.arg):\n",
    "                named_args.append(child)\n",
    "\n",
    "        create_stmts = []\n",
    "        for n, child in enumerate(named_args):\n",
    "            keywords=[keyword(arg='pos', value=ast.Num(n=n + 1))]\n",
    "            if child is node.args.vararg:\n",
    "                keywords.append(keyword(arg='vararg', value=ast.Str(s='*')))\n",
    "            if child is node.args.kwarg:\n",
    "                keywords.append(keyword(arg='vararg', value=ast.Str(s='**')))\n",
    "            if n == len(named_args) - 1:\n",
    "                keywords.append(keyword(arg='last',\n",
    "                                        value=ast.NameConstant(value=True)))\n",
    "\n",
    "            create_stmt = Expr(\n",
    "                value=Call(\n",
    "                    func=Attribute(value=Name(id=DATA_TRACKER, ctx=Load()),\n",
    "                                   attr='param', ctx=Load()),\n",
    "                    args=[ast.Str(s=child.arg),\n",
    "                          Name(id=child.arg, ctx=Load())\n",
    "                         ],\n",
    "                    keywords=keywords\n",
    "                )\n",
    "            )\n",
    "            ast.copy_location(create_stmt, node)\n",
    "            create_stmts.append(create_stmt)\n",
    "\n",
    "        node.body = cast(List[ast.stmt], create_stmts) + node.body\n",
    "        return node"
   ]
  },
  {
   "cell_type": "markdown",
   "metadata": {
    "slideshow": {
     "slide_type": "subslide"
    }
   },
   "source": [
    "This is the effect of `TrackParamsTransformer()`. You see how the first three parameters are all initialized."
   ]
  },
  {
   "cell_type": "code",
   "execution_count": 134,
   "metadata": {
    "execution": {
     "iopub.execute_input": "2023-01-07T16:02:48.994073Z",
     "iopub.status.busy": "2023-01-07T16:02:48.985681Z",
     "iopub.status.idle": "2023-01-07T16:02:49.004362Z",
     "shell.execute_reply": "2023-01-07T16:02:49.004615Z"
    },
    "slideshow": {
     "slide_type": "subslide"
    }
   },
   "outputs": [
    {
     "name": "stdout",
     "output_type": "stream",
     "text": [
      "\u001b[34mdef\u001b[39;49;00m \u001b[32mmiddle\u001b[39;49;00m(x, y, z):\u001b[37m\u001b[39;49;00m\n",
      "    _data.param(\u001b[33m'\u001b[39;49;00m\u001b[33mx\u001b[39;49;00m\u001b[33m'\u001b[39;49;00m, x, pos=\u001b[34m1\u001b[39;49;00m)\u001b[37m\u001b[39;49;00m\n",
      "    _data.param(\u001b[33m'\u001b[39;49;00m\u001b[33my\u001b[39;49;00m\u001b[33m'\u001b[39;49;00m, y, pos=\u001b[34m2\u001b[39;49;00m)\u001b[37m\u001b[39;49;00m\n",
      "    _data.param(\u001b[33m'\u001b[39;49;00m\u001b[33mz\u001b[39;49;00m\u001b[33m'\u001b[39;49;00m, z, pos=\u001b[34m3\u001b[39;49;00m, last=\u001b[34mTrue\u001b[39;49;00m)\u001b[37m\u001b[39;49;00m\n",
      "    \u001b[34mif\u001b[39;49;00m _data.test(_data.get(\u001b[33m'\u001b[39;49;00m\u001b[33my\u001b[39;49;00m\u001b[33m'\u001b[39;49;00m, y) < _data.get(\u001b[33m'\u001b[39;49;00m\u001b[33mz\u001b[39;49;00m\u001b[33m'\u001b[39;49;00m, z)):\u001b[37m\u001b[39;49;00m\n",
      "        \u001b[34mwith\u001b[39;49;00m _data:\u001b[37m\u001b[39;49;00m\n",
      "            \u001b[34mif\u001b[39;49;00m _data.test(_data.get(\u001b[33m'\u001b[39;49;00m\u001b[33mx\u001b[39;49;00m\u001b[33m'\u001b[39;49;00m, x) < _data.get(\u001b[33m'\u001b[39;49;00m\u001b[33my\u001b[39;49;00m\u001b[33m'\u001b[39;49;00m, y)):\u001b[37m\u001b[39;49;00m\n",
      "                \u001b[34mwith\u001b[39;49;00m _data:\u001b[37m\u001b[39;49;00m\n",
      "                    \u001b[34mreturn\u001b[39;49;00m _data.set(\u001b[33m'\u001b[39;49;00m\u001b[33m<middle() return value>\u001b[39;49;00m\u001b[33m'\u001b[39;49;00m, _data.get(\u001b[33m'\u001b[39;49;00m\u001b[33my\u001b[39;49;00m\u001b[33m'\u001b[39;49;00m, y))\u001b[37m\u001b[39;49;00m\n",
      "            \u001b[34melse\u001b[39;49;00m:\u001b[37m\u001b[39;49;00m\n",
      "                \u001b[34mwith\u001b[39;49;00m _data:\u001b[37m\u001b[39;49;00m\n",
      "                    \u001b[34mif\u001b[39;49;00m _data.test(_data.get(\u001b[33m'\u001b[39;49;00m\u001b[33mx\u001b[39;49;00m\u001b[33m'\u001b[39;49;00m, x) < _data.get(\u001b[33m'\u001b[39;49;00m\u001b[33mz\u001b[39;49;00m\u001b[33m'\u001b[39;49;00m, z)):\u001b[37m\u001b[39;49;00m\n",
      "                        \u001b[34mwith\u001b[39;49;00m _data:\u001b[37m\u001b[39;49;00m\n",
      "                            \u001b[34mreturn\u001b[39;49;00m _data.set(\u001b[33m'\u001b[39;49;00m\u001b[33m<middle() return value>\u001b[39;49;00m\u001b[33m'\u001b[39;49;00m, _data.get(\u001b[33m'\u001b[39;49;00m\u001b[33my\u001b[39;49;00m\u001b[33m'\u001b[39;49;00m, y))\u001b[37m\u001b[39;49;00m\n",
      "    \u001b[34melse\u001b[39;49;00m:\u001b[37m\u001b[39;49;00m\n",
      "        \u001b[34mwith\u001b[39;49;00m _data:\u001b[37m\u001b[39;49;00m\n",
      "            \u001b[34mif\u001b[39;49;00m _data.test(_data.get(\u001b[33m'\u001b[39;49;00m\u001b[33mx\u001b[39;49;00m\u001b[33m'\u001b[39;49;00m, x) > _data.get(\u001b[33m'\u001b[39;49;00m\u001b[33my\u001b[39;49;00m\u001b[33m'\u001b[39;49;00m, y)):\u001b[37m\u001b[39;49;00m\n",
      "                \u001b[34mwith\u001b[39;49;00m _data:\u001b[37m\u001b[39;49;00m\n",
      "                    \u001b[34mreturn\u001b[39;49;00m _data.set(\u001b[33m'\u001b[39;49;00m\u001b[33m<middle() return value>\u001b[39;49;00m\u001b[33m'\u001b[39;49;00m, _data.get(\u001b[33m'\u001b[39;49;00m\u001b[33my\u001b[39;49;00m\u001b[33m'\u001b[39;49;00m, y))\u001b[37m\u001b[39;49;00m\n",
      "            \u001b[34melse\u001b[39;49;00m:\u001b[37m\u001b[39;49;00m\n",
      "                \u001b[34mwith\u001b[39;49;00m _data:\u001b[37m\u001b[39;49;00m\n",
      "                    \u001b[34mif\u001b[39;49;00m _data.test(_data.get(\u001b[33m'\u001b[39;49;00m\u001b[33mx\u001b[39;49;00m\u001b[33m'\u001b[39;49;00m, x) > _data.get(\u001b[33m'\u001b[39;49;00m\u001b[33mz\u001b[39;49;00m\u001b[33m'\u001b[39;49;00m, z)):\u001b[37m\u001b[39;49;00m\n",
      "                        \u001b[34mwith\u001b[39;49;00m _data:\u001b[37m\u001b[39;49;00m\n",
      "                            \u001b[34mreturn\u001b[39;49;00m _data.set(\u001b[33m'\u001b[39;49;00m\u001b[33m<middle() return value>\u001b[39;49;00m\u001b[33m'\u001b[39;49;00m, _data.get(\u001b[33m'\u001b[39;49;00m\u001b[33mx\u001b[39;49;00m\u001b[33m'\u001b[39;49;00m, x))\u001b[37m\u001b[39;49;00m\n",
      "    \u001b[34mreturn\u001b[39;49;00m _data.set(\u001b[33m'\u001b[39;49;00m\u001b[33m<middle() return value>\u001b[39;49;00m\u001b[33m'\u001b[39;49;00m, _data.get(\u001b[33m'\u001b[39;49;00m\u001b[33mz\u001b[39;49;00m\u001b[33m'\u001b[39;49;00m, z))\u001b[37m\u001b[39;49;00m"
     ]
    }
   ],
   "source": [
    "TrackParamsTransformer().visit(middle_tree)\n",
    "dump_tree(middle_tree)"
   ]
  },
  {
   "cell_type": "markdown",
   "metadata": {
    "slideshow": {
     "slide_type": "subslide"
    }
   },
   "source": [
    "By default, the `DataTracker` `param()` method simply calls `set()` to set variables."
   ]
  },
  {
   "cell_type": "code",
   "execution_count": 135,
   "metadata": {
    "execution": {
     "iopub.execute_input": "2023-01-07T16:02:49.007502Z",
     "iopub.status.busy": "2023-01-07T16:02:49.007205Z",
     "iopub.status.idle": "2023-01-07T16:02:49.008360Z",
     "shell.execute_reply": "2023-01-07T16:02:49.008637Z"
    },
    "slideshow": {
     "slide_type": "subslide"
    }
   },
   "outputs": [],
   "source": [
    "class DataTracker(DataTracker):\n",
    "    def param(self, name: str, value: Any, \n",
    "              pos: Optional[int] = None, vararg: str = '', last: bool = False) -> Any:\n",
    "        \"\"\"\n",
    "        At the beginning of a function, track parameter `name` being set to `value`.\n",
    "        `pos` is the position of the argument (starting with 1).\n",
    "        `vararg` is \"*\" if `name` is a vararg parameter (as in *args),\n",
    "        and \"**\" is `name` is a kwargs parameter (as in *kwargs).\n",
    "        `last` is True if `name` is the last parameter.\n",
    "        \"\"\"\n",
    "        if self.log:\n",
    "            caller_func, lineno = self.caller_location()\n",
    "            info = \"\"\n",
    "            if pos is not None:\n",
    "                info += f\" #{pos}\"\n",
    "\n",
    "            print(f\"{caller_func.__name__}:{lineno}: initializing {vararg}{name}{info}\")\n",
    "\n",
    "        return self.set(name, value)"
   ]
  },
  {
   "cell_type": "code",
   "execution_count": 136,
   "metadata": {
    "execution": {
     "iopub.execute_input": "2023-01-07T16:02:49.011927Z",
     "iopub.status.busy": "2023-01-07T16:02:49.011368Z",
     "iopub.status.idle": "2023-01-07T16:02:49.013546Z",
     "shell.execute_reply": "2023-01-07T16:02:49.013915Z"
    },
    "slideshow": {
     "slide_type": "subslide"
    }
   },
   "outputs": [
    {
     "name": "stdout",
     "output_type": "stream",
     "text": [
      "middle:1: initializing x #1\n",
      "middle:1: setting x\n",
      "middle:1: initializing y #2\n",
      "middle:1: setting y\n",
      "middle:1: initializing z #3\n",
      "middle:1: setting z\n",
      "middle:2: getting y\n",
      "middle:2: getting z\n",
      "middle:2: testing condition\n",
      "middle:3: entering block\n",
      "middle:3: getting x\n",
      "middle:3: getting y\n",
      "middle:3: testing condition\n",
      "middle:5: entering block\n",
      "middle:5: getting x\n",
      "middle:5: getting z\n",
      "middle:5: testing condition\n",
      "middle:6: entering block\n",
      "middle:6: getting y\n",
      "middle:6: setting <middle() return value>\n",
      "middle:6: exiting block\n",
      "middle:5: exiting block\n",
      "middle:3: exiting block\n"
     ]
    }
   ],
   "source": [
    "with DataTrackerTester(middle_tree, middle):\n",
    "    middle(2, 1, 3)"
   ]
  },
  {
   "cell_type": "code",
   "execution_count": 137,
   "metadata": {
    "execution": {
     "iopub.execute_input": "2023-01-07T16:02:49.016079Z",
     "iopub.status.busy": "2023-01-07T16:02:49.015743Z",
     "iopub.status.idle": "2023-01-07T16:02:49.016994Z",
     "shell.execute_reply": "2023-01-07T16:02:49.017191Z"
    },
    "slideshow": {
     "slide_type": "subslide"
    }
   },
   "outputs": [],
   "source": [
    "def args_test(x, *args, **kwargs):  # type: ignore\n",
    "    print(x, *args, **kwargs)"
   ]
  },
  {
   "cell_type": "code",
   "execution_count": 138,
   "metadata": {
    "execution": {
     "iopub.execute_input": "2023-01-07T16:02:49.040636Z",
     "iopub.status.busy": "2023-01-07T16:02:49.018720Z",
     "iopub.status.idle": "2023-01-07T16:02:49.050787Z",
     "shell.execute_reply": "2023-01-07T16:02:49.051027Z"
    },
    "slideshow": {
     "slide_type": "fragment"
    }
   },
   "outputs": [
    {
     "name": "stdout",
     "output_type": "stream",
     "text": [
      "\u001b[34mdef\u001b[39;49;00m \u001b[32margs_test\u001b[39;49;00m(x, *args, **kwargs):\u001b[37m\u001b[39;49;00m\n",
      "    _data.param(\u001b[33m'\u001b[39;49;00m\u001b[33mx\u001b[39;49;00m\u001b[33m'\u001b[39;49;00m, x, pos=\u001b[34m1\u001b[39;49;00m)\u001b[37m\u001b[39;49;00m\n",
      "    _data.param(\u001b[33m'\u001b[39;49;00m\u001b[33margs\u001b[39;49;00m\u001b[33m'\u001b[39;49;00m, args, pos=\u001b[34m2\u001b[39;49;00m, vararg=\u001b[33m'\u001b[39;49;00m\u001b[33m*\u001b[39;49;00m\u001b[33m'\u001b[39;49;00m)\u001b[37m\u001b[39;49;00m\n",
      "    _data.param(\u001b[33m'\u001b[39;49;00m\u001b[33mkwargs\u001b[39;49;00m\u001b[33m'\u001b[39;49;00m, kwargs, pos=\u001b[34m3\u001b[39;49;00m, vararg=\u001b[33m'\u001b[39;49;00m\u001b[33m**\u001b[39;49;00m\u001b[33m'\u001b[39;49;00m, last=\u001b[34mTrue\u001b[39;49;00m)\u001b[37m\u001b[39;49;00m\n",
      "    \u001b[36mprint\u001b[39;49;00m(x, *args, **kwargs)\u001b[37m\u001b[39;49;00m"
     ]
    }
   ],
   "source": [
    "args_tree = ast.parse(inspect.getsource(args_test))\n",
    "TrackParamsTransformer().visit(args_tree)\n",
    "dump_tree(args_tree)"
   ]
  },
  {
   "cell_type": "code",
   "execution_count": 139,
   "metadata": {
    "execution": {
     "iopub.execute_input": "2023-01-07T16:02:49.053383Z",
     "iopub.status.busy": "2023-01-07T16:02:49.053048Z",
     "iopub.status.idle": "2023-01-07T16:02:49.054469Z",
     "shell.execute_reply": "2023-01-07T16:02:49.054747Z"
    },
    "slideshow": {
     "slide_type": "subslide"
    }
   },
   "outputs": [
    {
     "name": "stdout",
     "output_type": "stream",
     "text": [
      "args_test:1: initializing x #1\n",
      "args_test:1: setting x\n",
      "args_test:1: initializing *args #2\n",
      "args_test:1: setting args\n",
      "args_test:1: initializing **kwargs #3\n",
      "args_test:1: setting kwargs\n",
      "1 2 3\n"
     ]
    }
   ],
   "source": [
    "with DataTrackerTester(args_tree, args_test):\n",
    "    args_test(1, 2, 3)"
   ]
  },
  {
   "cell_type": "markdown",
   "metadata": {
    "slideshow": {
     "slide_type": "subslide"
    }
   },
   "source": [
    "### End of Excursion"
   ]
  },
  {
   "cell_type": "markdown",
   "metadata": {
    "slideshow": {
     "slide_type": "fragment"
    }
   },
   "source": [
    "What do we obtain after we have applied all these transformers on `middle()`? We see that the code now contains quite a load of instrumentation."
   ]
  },
  {
   "cell_type": "code",
   "execution_count": 140,
   "metadata": {
    "execution": {
     "iopub.execute_input": "2023-01-07T16:02:49.079600Z",
     "iopub.status.busy": "2023-01-07T16:02:49.079234Z",
     "iopub.status.idle": "2023-01-07T16:02:49.097742Z",
     "shell.execute_reply": "2023-01-07T16:02:49.098013Z"
    },
    "slideshow": {
     "slide_type": "subslide"
    }
   },
   "outputs": [
    {
     "name": "stdout",
     "output_type": "stream",
     "text": [
      "\u001b[34mdef\u001b[39;49;00m \u001b[32mmiddle\u001b[39;49;00m(x, y, z):\u001b[37m\u001b[39;49;00m\n",
      "    _data.param(\u001b[33m'\u001b[39;49;00m\u001b[33mx\u001b[39;49;00m\u001b[33m'\u001b[39;49;00m, x, pos=\u001b[34m1\u001b[39;49;00m)\u001b[37m\u001b[39;49;00m\n",
      "    _data.param(\u001b[33m'\u001b[39;49;00m\u001b[33my\u001b[39;49;00m\u001b[33m'\u001b[39;49;00m, y, pos=\u001b[34m2\u001b[39;49;00m)\u001b[37m\u001b[39;49;00m\n",
      "    _data.param(\u001b[33m'\u001b[39;49;00m\u001b[33mz\u001b[39;49;00m\u001b[33m'\u001b[39;49;00m, z, pos=\u001b[34m3\u001b[39;49;00m, last=\u001b[34mTrue\u001b[39;49;00m)\u001b[37m\u001b[39;49;00m\n",
      "    \u001b[34mif\u001b[39;49;00m _data.test(_data.get(\u001b[33m'\u001b[39;49;00m\u001b[33my\u001b[39;49;00m\u001b[33m'\u001b[39;49;00m, y) < _data.get(\u001b[33m'\u001b[39;49;00m\u001b[33mz\u001b[39;49;00m\u001b[33m'\u001b[39;49;00m, z)):\u001b[37m\u001b[39;49;00m\n",
      "        \u001b[34mwith\u001b[39;49;00m _data:\u001b[37m\u001b[39;49;00m\n",
      "            \u001b[34mif\u001b[39;49;00m _data.test(_data.get(\u001b[33m'\u001b[39;49;00m\u001b[33mx\u001b[39;49;00m\u001b[33m'\u001b[39;49;00m, x) < _data.get(\u001b[33m'\u001b[39;49;00m\u001b[33my\u001b[39;49;00m\u001b[33m'\u001b[39;49;00m, y)):\u001b[37m\u001b[39;49;00m\n",
      "                \u001b[34mwith\u001b[39;49;00m _data:\u001b[37m\u001b[39;49;00m\n",
      "                    \u001b[34mreturn\u001b[39;49;00m _data.set(\u001b[33m'\u001b[39;49;00m\u001b[33m<middle() return value>\u001b[39;49;00m\u001b[33m'\u001b[39;49;00m, _data.get(\u001b[33m'\u001b[39;49;00m\u001b[33my\u001b[39;49;00m\u001b[33m'\u001b[39;49;00m, y))\u001b[37m\u001b[39;49;00m\n",
      "            \u001b[34melse\u001b[39;49;00m:\u001b[37m\u001b[39;49;00m\n",
      "                \u001b[34mwith\u001b[39;49;00m _data:\u001b[37m\u001b[39;49;00m\n",
      "                    \u001b[34mif\u001b[39;49;00m _data.test(_data.get(\u001b[33m'\u001b[39;49;00m\u001b[33mx\u001b[39;49;00m\u001b[33m'\u001b[39;49;00m, x) < _data.get(\u001b[33m'\u001b[39;49;00m\u001b[33mz\u001b[39;49;00m\u001b[33m'\u001b[39;49;00m, z)):\u001b[37m\u001b[39;49;00m\n",
      "                        \u001b[34mwith\u001b[39;49;00m _data:\u001b[37m\u001b[39;49;00m\n",
      "                            \u001b[34mreturn\u001b[39;49;00m _data.set(\u001b[33m'\u001b[39;49;00m\u001b[33m<middle() return value>\u001b[39;49;00m\u001b[33m'\u001b[39;49;00m, _data.get(\u001b[33m'\u001b[39;49;00m\u001b[33my\u001b[39;49;00m\u001b[33m'\u001b[39;49;00m, y))\u001b[37m\u001b[39;49;00m\n",
      "    \u001b[34melse\u001b[39;49;00m:\u001b[37m\u001b[39;49;00m\n",
      "        \u001b[34mwith\u001b[39;49;00m _data:\u001b[37m\u001b[39;49;00m\n",
      "            \u001b[34mif\u001b[39;49;00m _data.test(_data.get(\u001b[33m'\u001b[39;49;00m\u001b[33mx\u001b[39;49;00m\u001b[33m'\u001b[39;49;00m, x) > _data.get(\u001b[33m'\u001b[39;49;00m\u001b[33my\u001b[39;49;00m\u001b[33m'\u001b[39;49;00m, y)):\u001b[37m\u001b[39;49;00m\n",
      "                \u001b[34mwith\u001b[39;49;00m _data:\u001b[37m\u001b[39;49;00m\n",
      "                    \u001b[34mreturn\u001b[39;49;00m _data.set(\u001b[33m'\u001b[39;49;00m\u001b[33m<middle() return value>\u001b[39;49;00m\u001b[33m'\u001b[39;49;00m, _data.get(\u001b[33m'\u001b[39;49;00m\u001b[33my\u001b[39;49;00m\u001b[33m'\u001b[39;49;00m, y))\u001b[37m\u001b[39;49;00m\n",
      "            \u001b[34melse\u001b[39;49;00m:\u001b[37m\u001b[39;49;00m\n",
      "                \u001b[34mwith\u001b[39;49;00m _data:\u001b[37m\u001b[39;49;00m\n",
      "                    \u001b[34mif\u001b[39;49;00m _data.test(_data.get(\u001b[33m'\u001b[39;49;00m\u001b[33mx\u001b[39;49;00m\u001b[33m'\u001b[39;49;00m, x) > _data.get(\u001b[33m'\u001b[39;49;00m\u001b[33mz\u001b[39;49;00m\u001b[33m'\u001b[39;49;00m, z)):\u001b[37m\u001b[39;49;00m\n",
      "                        \u001b[34mwith\u001b[39;49;00m _data:\u001b[37m\u001b[39;49;00m\n",
      "                            \u001b[34mreturn\u001b[39;49;00m _data.set(\u001b[33m'\u001b[39;49;00m\u001b[33m<middle() return value>\u001b[39;49;00m\u001b[33m'\u001b[39;49;00m, _data.get(\u001b[33m'\u001b[39;49;00m\u001b[33mx\u001b[39;49;00m\u001b[33m'\u001b[39;49;00m, x))\u001b[37m\u001b[39;49;00m\n",
      "    \u001b[34mreturn\u001b[39;49;00m _data.set(\u001b[33m'\u001b[39;49;00m\u001b[33m<middle() return value>\u001b[39;49;00m\u001b[33m'\u001b[39;49;00m, _data.get(\u001b[33m'\u001b[39;49;00m\u001b[33mz\u001b[39;49;00m\u001b[33m'\u001b[39;49;00m, z))\u001b[37m\u001b[39;49;00m"
     ]
    }
   ],
   "source": [
    "dump_tree(middle_tree)"
   ]
  },
  {
   "cell_type": "markdown",
   "metadata": {
    "slideshow": {
     "slide_type": "subslide"
    }
   },
   "source": [
    "And when we execute this code, we see that we can track quite a number of events, while the code semantics stay unchanged."
   ]
  },
  {
   "cell_type": "code",
   "execution_count": 141,
   "metadata": {
    "execution": {
     "iopub.execute_input": "2023-01-07T16:02:49.101193Z",
     "iopub.status.busy": "2023-01-07T16:02:49.100762Z",
     "iopub.status.idle": "2023-01-07T16:02:49.102526Z",
     "shell.execute_reply": "2023-01-07T16:02:49.102902Z"
    },
    "slideshow": {
     "slide_type": "subslide"
    }
   },
   "outputs": [
    {
     "name": "stdout",
     "output_type": "stream",
     "text": [
      "middle:1: initializing x #1\n",
      "middle:1: setting x\n",
      "middle:1: initializing y #2\n",
      "middle:1: setting y\n",
      "middle:1: initializing z #3\n",
      "middle:1: setting z\n",
      "middle:2: getting y\n",
      "middle:2: getting z\n",
      "middle:2: testing condition\n",
      "middle:3: entering block\n",
      "middle:3: getting x\n",
      "middle:3: getting y\n",
      "middle:3: testing condition\n",
      "middle:5: entering block\n",
      "middle:5: getting x\n",
      "middle:5: getting z\n",
      "middle:5: testing condition\n",
      "middle:6: entering block\n",
      "middle:6: getting y\n",
      "middle:6: setting <middle() return value>\n",
      "middle:6: exiting block\n",
      "middle:5: exiting block\n",
      "middle:3: exiting block\n"
     ]
    },
    {
     "data": {
      "text/plain": [
       "1"
      ]
     },
     "execution_count": 141,
     "metadata": {},
     "output_type": "execute_result"
    }
   ],
   "source": [
    "with DataTrackerTester(middle_tree, middle):\n",
    "    m = middle(2, 1, 3)\n",
    "m"
   ]
  },
  {
   "cell_type": "markdown",
   "metadata": {
    "slideshow": {
     "slide_type": "subslide"
    }
   },
   "source": [
    "### Excursion: Transformer Stress Test"
   ]
  },
  {
   "cell_type": "markdown",
   "metadata": {
    "slideshow": {
     "slide_type": "fragment"
    }
   },
   "source": [
    "We stress test our transformers by instrumenting, transforming, and compiling a number of modules."
   ]
  },
  {
   "cell_type": "code",
   "execution_count": 142,
   "metadata": {
    "execution": {
     "iopub.execute_input": "2023-01-07T16:02:49.105199Z",
     "iopub.status.busy": "2023-01-07T16:02:49.104867Z",
     "iopub.status.idle": "2023-01-07T16:02:49.131897Z",
     "shell.execute_reply": "2023-01-07T16:02:49.132117Z"
    },
    "slideshow": {
     "slide_type": "skip"
    }
   },
   "outputs": [],
   "source": [
    "import Assertions  # minor dependency\n",
    "import Debugger  # minor dependency"
   ]
  },
  {
   "cell_type": "code",
   "execution_count": 143,
   "metadata": {
    "execution": {
     "iopub.execute_input": "2023-01-07T16:02:49.207760Z",
     "iopub.status.busy": "2023-01-07T16:02:49.147145Z",
     "iopub.status.idle": "2023-01-07T16:02:50.199235Z",
     "shell.execute_reply": "2023-01-07T16:02:50.199603Z"
    },
    "slideshow": {
     "slide_type": "subslide"
    }
   },
   "outputs": [
    {
     "name": "stdout",
     "output_type": "stream",
     "text": [
      "'Assertions' instrumented successfully.\n",
      "'Debugger' instrumented successfully.\n",
      "'inspect' instrumented successfully.\n",
      "'ast' instrumented successfully.\n"
     ]
    }
   ],
   "source": [
    "for module in [Assertions, Debugger, inspect, ast]:\n",
    "    module_tree = ast.parse(inspect.getsource(module))\n",
    "    TrackCallTransformer().visit(module_tree)\n",
    "    TrackSetTransformer().visit(module_tree)\n",
    "    TrackGetTransformer().visit(module_tree)\n",
    "    TrackControlTransformer().visit(module_tree)\n",
    "    TrackReturnTransformer().visit(module_tree)\n",
    "    TrackParamsTransformer().visit(module_tree)\n",
    "    # dump_tree(module_tree)\n",
    "    ast.fix_missing_locations(module_tree)  # Must run this before compiling\n",
    "    module_code = compile(module_tree, '<stress_test>', 'exec')\n",
    "    print(f\"{repr(module.__name__)} instrumented successfully.\")"
   ]
  },
  {
   "cell_type": "markdown",
   "metadata": {
    "slideshow": {
     "slide_type": "subslide"
    }
   },
   "source": [
    "### End of Excursion"
   ]
  },
  {
   "cell_type": "markdown",
   "metadata": {
    "slideshow": {
     "slide_type": "fragment"
    }
   },
   "source": [
    "Our next step will now be not only to _log_ these events, but to actually construct _dependencies_ from them."
   ]
  },
  {
   "cell_type": "markdown",
   "metadata": {
    "slideshow": {
     "slide_type": "slide"
    }
   },
   "source": [
    "## Tracking Dependencies"
   ]
  },
  {
   "cell_type": "markdown",
   "metadata": {
    "slideshow": {
     "slide_type": "fragment"
    }
   },
   "source": [
    "To construct dependencies from variable accesses, we subclass `DataTracker` into `DependencyTracker` – a class that actually keeps track of all these dependencies.  Its constructor initializes a number of variables we will discuss below."
   ]
  },
  {
   "cell_type": "code",
   "execution_count": 144,
   "metadata": {
    "execution": {
     "iopub.execute_input": "2023-01-07T16:02:50.203432Z",
     "iopub.status.busy": "2023-01-07T16:02:50.202959Z",
     "iopub.status.idle": "2023-01-07T16:02:50.204537Z",
     "shell.execute_reply": "2023-01-07T16:02:50.204837Z"
    },
    "slideshow": {
     "slide_type": "subslide"
    }
   },
   "outputs": [],
   "source": [
    "class DependencyTracker(DataTracker):\n",
    "    \"\"\"Track dependencies during execution\"\"\"\n",
    "\n",
    "    def __init__(self, *args: Any, **kwargs: Any) -> None:\n",
    "        \"\"\"Constructor. Arguments are passed to DataTracker.__init__()\"\"\"\n",
    "        super().__init__(*args, **kwargs)\n",
    "\n",
    "        self.origins: Dict[str, Location] = {}  # Where current variables were last set\n",
    "        self.data_dependencies: Dependency = {}  # As with Dependencies, above\n",
    "        self.control_dependencies: Dependency = {}\n",
    "\n",
    "        self.last_read: List[str] = []  # List of last read variables\n",
    "        self.last_checked_location = (StackInspector.unknown, 1)\n",
    "        self._ignore_location_change = False\n",
    "\n",
    "        self.data: List[List[str]] = [[]]  # Data stack\n",
    "        self.control: List[List[str]] = [[]]  # Control stack\n",
    "\n",
    "        self.frames: List[Dict[Union[int, str], Any]] = [{}]  # Argument stack\n",
    "        self.args: Dict[Union[int, str], Any] = {}  # Current args"
   ]
  },
  {
   "cell_type": "markdown",
   "metadata": {
    "slideshow": {
     "slide_type": "subslide"
    }
   },
   "source": [
    "### Data Dependencies\n",
    "\n",
    "The first job of our `DependencyTracker` is to construct dependencies between _read_ and _written_ variables."
   ]
  },
  {
   "cell_type": "markdown",
   "metadata": {
    "slideshow": {
     "slide_type": "subslide"
    }
   },
   "source": [
    "#### Reading Variables\n",
    "\n",
    "As in `DataTracker`, the key method of `DependencyTracker` again is `get()`, invoked as `_data.get('x', x)` whenever a variable `x` is read. First and foremost, it appends the name of the read variable to the list `last_read`."
   ]
  },
  {
   "cell_type": "code",
   "execution_count": 145,
   "metadata": {
    "execution": {
     "iopub.execute_input": "2023-01-07T16:02:50.207749Z",
     "iopub.status.busy": "2023-01-07T16:02:50.207402Z",
     "iopub.status.idle": "2023-01-07T16:02:50.208862Z",
     "shell.execute_reply": "2023-01-07T16:02:50.209093Z"
    },
    "slideshow": {
     "slide_type": "fragment"
    }
   },
   "outputs": [],
   "source": [
    "class DependencyTracker(DependencyTracker):\n",
    "    def get(self, name: str, value: Any) -> Any:\n",
    "        \"\"\"Track a read access for variable `name` with value `value`\"\"\"\n",
    "        self.check_location()\n",
    "        self.last_read.append(name)\n",
    "        return super().get(name, value)\n",
    "\n",
    "    def check_location(self) -> None:\n",
    "        pass  # More on that below"
   ]
  },
  {
   "cell_type": "code",
   "execution_count": 146,
   "metadata": {
    "execution": {
     "iopub.execute_input": "2023-01-07T16:02:50.211616Z",
     "iopub.status.busy": "2023-01-07T16:02:50.211077Z",
     "iopub.status.idle": "2023-01-07T16:02:50.212454Z",
     "shell.execute_reply": "2023-01-07T16:02:50.212661Z"
    },
    "slideshow": {
     "slide_type": "subslide"
    }
   },
   "outputs": [],
   "source": [
    "x = 5\n",
    "y = 3"
   ]
  },
  {
   "cell_type": "code",
   "execution_count": 147,
   "metadata": {
    "execution": {
     "iopub.execute_input": "2023-01-07T16:02:50.215215Z",
     "iopub.status.busy": "2023-01-07T16:02:50.214809Z",
     "iopub.status.idle": "2023-01-07T16:02:50.216783Z",
     "shell.execute_reply": "2023-01-07T16:02:50.216987Z"
    },
    "slideshow": {
     "slide_type": "fragment"
    }
   },
   "outputs": [
    {
     "name": "stdout",
     "output_type": "stream",
     "text": [
      "<cell line: 2>:2: getting x\n",
      "<cell line: 2>:2: getting y\n"
     ]
    },
    {
     "data": {
      "text/plain": [
       "8"
      ]
     },
     "execution_count": 147,
     "metadata": {},
     "output_type": "execute_result"
    }
   ],
   "source": [
    "_test_data = DependencyTracker(log=True)\n",
    "_test_data.get('x', x) + _test_data.get('y', y)"
   ]
  },
  {
   "cell_type": "code",
   "execution_count": 148,
   "metadata": {
    "execution": {
     "iopub.execute_input": "2023-01-07T16:02:50.219239Z",
     "iopub.status.busy": "2023-01-07T16:02:50.218838Z",
     "iopub.status.idle": "2023-01-07T16:02:50.220289Z",
     "shell.execute_reply": "2023-01-07T16:02:50.220501Z"
    },
    "slideshow": {
     "slide_type": "fragment"
    }
   },
   "outputs": [
    {
     "data": {
      "text/plain": [
       "['x', 'y']"
      ]
     },
     "execution_count": 148,
     "metadata": {},
     "output_type": "execute_result"
    }
   ],
   "source": [
    "_test_data.last_read"
   ]
  },
  {
   "cell_type": "markdown",
   "metadata": {
    "slideshow": {
     "slide_type": "subslide"
    }
   },
   "source": [
    "#### Checking Locations"
   ]
  },
  {
   "cell_type": "markdown",
   "metadata": {
    "slideshow": {
     "slide_type": "fragment"
    }
   },
   "source": [
    "However, before appending the read variable to `last_read`, `_data.get()` does one more thing. By invoking `check_location()`, it clears the `last_read` list if we have reached a new line in the execution. This avoids situations such as\n",
    "\n",
    "```python\n",
    "x\n",
    "y\n",
    "z = a + b\n",
    "```\n",
    "where `x` and `y` are, well, read, but do not affect the last line. Therefore, with every new line, the list of last read lines is cleared."
   ]
  },
  {
   "cell_type": "code",
   "execution_count": 149,
   "metadata": {
    "execution": {
     "iopub.execute_input": "2023-01-07T16:02:50.223982Z",
     "iopub.status.busy": "2023-01-07T16:02:50.223602Z",
     "iopub.status.idle": "2023-01-07T16:02:50.224876Z",
     "shell.execute_reply": "2023-01-07T16:02:50.225145Z"
    },
    "slideshow": {
     "slide_type": "subslide"
    }
   },
   "outputs": [],
   "source": [
    "class DependencyTracker(DependencyTracker):\n",
    "    def clear_read(self) -> None:\n",
    "        \"\"\"Clear set of read variables\"\"\"\n",
    "        if self.log:\n",
    "            direct_caller = inspect.currentframe().f_back.f_code.co_name  # type: ignore\n",
    "            caller_func, lineno = self.caller_location()\n",
    "            print(f\"{caller_func.__name__}:{lineno}: \"\n",
    "                  f\"clearing read variables {self.last_read} \"\n",
    "                  f\"(from {direct_caller})\")\n",
    "\n",
    "        self.last_read = []\n",
    "\n",
    "    def check_location(self) -> None:\n",
    "        \"\"\"If we are in a new location, clear set of read variables\"\"\"\n",
    "        location = self.caller_location()\n",
    "        func, lineno = location\n",
    "        last_func, last_lineno = self.last_checked_location\n",
    "\n",
    "        if self.last_checked_location != location:\n",
    "            if self._ignore_location_change:\n",
    "                self._ignore_location_change = False\n",
    "            elif func.__name__.startswith('<'):\n",
    "                # Entering list comprehension, eval(), exec(), ...\n",
    "                pass\n",
    "            elif last_func.__name__.startswith('<'):\n",
    "                # Exiting list comprehension, eval(), exec(), ...\n",
    "                pass\n",
    "            else:\n",
    "                # Standard case\n",
    "                self.clear_read()\n",
    "\n",
    "        self.last_checked_location = location"
   ]
  },
  {
   "cell_type": "markdown",
   "metadata": {
    "slideshow": {
     "slide_type": "subslide"
    }
   },
   "source": [
    "Two methods can suppress this reset of the `last_read` list: \n",
    "\n",
    "* `ignore_next_location_change()` suppresses the reset for the next line. This is useful when returning from a function, when the return value is still in the list of \"read\" variables.\n",
    "* `ignore_location_change()` suppresses the reset for the current line. This is useful if we already have returned from a function call."
   ]
  },
  {
   "cell_type": "code",
   "execution_count": 150,
   "metadata": {
    "execution": {
     "iopub.execute_input": "2023-01-07T16:02:50.227944Z",
     "iopub.status.busy": "2023-01-07T16:02:50.227502Z",
     "iopub.status.idle": "2023-01-07T16:02:50.228790Z",
     "shell.execute_reply": "2023-01-07T16:02:50.229067Z"
    },
    "slideshow": {
     "slide_type": "fragment"
    }
   },
   "outputs": [],
   "source": [
    "class DependencyTracker(DependencyTracker):\n",
    "    def ignore_next_location_change(self) -> None:\n",
    "        self._ignore_location_change = True\n",
    "\n",
    "    def ignore_location_change(self) -> None:\n",
    "        self.last_checked_location = self.caller_location()"
   ]
  },
  {
   "cell_type": "markdown",
   "metadata": {
    "slideshow": {
     "slide_type": "subslide"
    }
   },
   "source": [
    "Watch how `DependencyTracker` resets `last_read` when a new line is executed:"
   ]
  },
  {
   "cell_type": "code",
   "execution_count": 151,
   "metadata": {
    "execution": {
     "iopub.execute_input": "2023-01-07T16:02:50.231326Z",
     "iopub.status.busy": "2023-01-07T16:02:50.230910Z",
     "iopub.status.idle": "2023-01-07T16:02:50.233089Z",
     "shell.execute_reply": "2023-01-07T16:02:50.233461Z"
    },
    "slideshow": {
     "slide_type": "fragment"
    }
   },
   "outputs": [],
   "source": [
    "_test_data = DependencyTracker()"
   ]
  },
  {
   "cell_type": "code",
   "execution_count": 152,
   "metadata": {
    "execution": {
     "iopub.execute_input": "2023-01-07T16:02:50.236120Z",
     "iopub.status.busy": "2023-01-07T16:02:50.235653Z",
     "iopub.status.idle": "2023-01-07T16:02:50.237597Z",
     "shell.execute_reply": "2023-01-07T16:02:50.237811Z"
    },
    "slideshow": {
     "slide_type": "fragment"
    }
   },
   "outputs": [
    {
     "data": {
      "text/plain": [
       "8"
      ]
     },
     "execution_count": 152,
     "metadata": {},
     "output_type": "execute_result"
    }
   ],
   "source": [
    "_test_data.get('x', x) + _test_data.get('y', y)"
   ]
  },
  {
   "cell_type": "code",
   "execution_count": 153,
   "metadata": {
    "execution": {
     "iopub.execute_input": "2023-01-07T16:02:50.240487Z",
     "iopub.status.busy": "2023-01-07T16:02:50.239745Z",
     "iopub.status.idle": "2023-01-07T16:02:50.252117Z",
     "shell.execute_reply": "2023-01-07T16:02:50.253693Z"
    },
    "slideshow": {
     "slide_type": "fragment"
    }
   },
   "outputs": [
    {
     "data": {
      "text/plain": [
       "['x', 'y']"
      ]
     },
     "execution_count": 153,
     "metadata": {},
     "output_type": "execute_result"
    }
   ],
   "source": [
    "_test_data.last_read"
   ]
  },
  {
   "cell_type": "code",
   "execution_count": 154,
   "metadata": {
    "execution": {
     "iopub.execute_input": "2023-01-07T16:02:50.256597Z",
     "iopub.status.busy": "2023-01-07T16:02:50.256183Z",
     "iopub.status.idle": "2023-01-07T16:02:50.258197Z",
     "shell.execute_reply": "2023-01-07T16:02:50.258914Z"
    },
    "slideshow": {
     "slide_type": "fragment"
    }
   },
   "outputs": [
    {
     "data": {
      "text/plain": [
       "41"
      ]
     },
     "execution_count": 154,
     "metadata": {},
     "output_type": "execute_result"
    }
   ],
   "source": [
    "a = 42\n",
    "b = -1\n",
    "_test_data.get('a', a) + _test_data.get('b', b)"
   ]
  },
  {
   "cell_type": "code",
   "execution_count": 155,
   "metadata": {
    "execution": {
     "iopub.execute_input": "2023-01-07T16:02:50.262634Z",
     "iopub.status.busy": "2023-01-07T16:02:50.262131Z",
     "iopub.status.idle": "2023-01-07T16:02:50.263966Z",
     "shell.execute_reply": "2023-01-07T16:02:50.264227Z"
    },
    "slideshow": {
     "slide_type": "fragment"
    }
   },
   "outputs": [
    {
     "data": {
      "text/plain": [
       "['x', 'y', 'a', 'b']"
      ]
     },
     "execution_count": 155,
     "metadata": {},
     "output_type": "execute_result"
    }
   ],
   "source": [
    "_test_data.last_read"
   ]
  },
  {
   "attachments": {},
   "cell_type": "markdown",
   "metadata": {
    "slideshow": {
     "slide_type": "subslide"
    }
   },
   "source": [
    "#### Setting Variables\n",
    "\n",
    "The method `set()` creates dependencies. It is invoked as `_data.set('x', value)` whenever a variable `x` is set. \n",
    "\n",
    "First and foremost, it takes the list of variables read `last_read`, and for each of the variables $v$, it takes their origin $o$ (the place where they were last set) and appends the pair ($v$, $o$) to the list of data dependencies. It then does a similar thing with control dependencies (more on these below), and finally marks (in `self.origins`) the current location of $v$."
   ]
  },
  {
   "cell_type": "code",
   "execution_count": 156,
   "metadata": {
    "execution": {
     "iopub.execute_input": "2023-01-07T16:02:50.266762Z",
     "iopub.status.busy": "2023-01-07T16:02:50.266358Z",
     "iopub.status.idle": "2023-01-07T16:02:50.268112Z",
     "shell.execute_reply": "2023-01-07T16:02:50.268337Z"
    },
    "slideshow": {
     "slide_type": "skip"
    }
   },
   "outputs": [],
   "source": [
    "import itertools"
   ]
  },
  {
   "cell_type": "code",
   "execution_count": 157,
   "metadata": {
    "execution": {
     "iopub.execute_input": "2023-01-07T16:02:50.273152Z",
     "iopub.status.busy": "2023-01-07T16:02:50.272755Z",
     "iopub.status.idle": "2023-01-07T16:02:50.274094Z",
     "shell.execute_reply": "2023-01-07T16:02:50.274355Z"
    },
    "slideshow": {
     "slide_type": "subslide"
    }
   },
   "outputs": [],
   "source": [
    "class DependencyTracker(DependencyTracker):\n",
    "    TEST = '<test>'  # Name of pseudo-variables for testing conditions\n",
    "\n",
    "    def set(self, name: str, value: Any, loads: Optional[Set[str]] = None) -> Any:\n",
    "        \"\"\"Add a dependency for `name` = `value`\"\"\"\n",
    "\n",
    "        def add_dependencies(dependencies: Set[Node], \n",
    "                             vars_read: List[str], tp: str) -> None:\n",
    "            \"\"\"Add origins of `vars_read` to `dependencies`.\"\"\"\n",
    "            for var_read in vars_read:\n",
    "                if var_read in self.origins:\n",
    "                    if var_read == self.TEST and tp == \"data\":\n",
    "                        # Can't have data dependencies on conditions\n",
    "                        continue\n",
    "\n",
    "                    origin = self.origins[var_read]\n",
    "                    dependencies.add((var_read, origin))\n",
    "\n",
    "                    if self.log:\n",
    "                        origin_func, origin_lineno = origin\n",
    "                        caller_func, lineno = self.caller_location()\n",
    "                        print(f\"{caller_func.__name__}:{lineno}: \"\n",
    "                              f\"new {tp} dependency: \"\n",
    "                              f\"{name} <= {var_read} \"\n",
    "                              f\"({origin_func.__name__}:{origin_lineno})\")\n",
    "\n",
    "        self.check_location()\n",
    "        ret = super().set(name, value)\n",
    "        location = self.caller_location()\n",
    "\n",
    "        add_dependencies(self.data_dependencies.setdefault\n",
    "                         ((name, location), set()),\n",
    "                         self.last_read, tp=\"data\")\n",
    "        add_dependencies(self.control_dependencies.setdefault\n",
    "                         ((name, location), set()),\n",
    "                         cast(List[str], itertools.chain.from_iterable(self.control)),\n",
    "                         tp=\"control\")\n",
    "\n",
    "        self.origins[name] = location\n",
    "\n",
    "        # Reset read info for next line\n",
    "        self.last_read = [name]\n",
    "\n",
    "        # Next line is a new location\n",
    "        self._ignore_location_change = False\n",
    "\n",
    "        return ret\n",
    "\n",
    "    def dependencies(self) -> Dependencies:\n",
    "        \"\"\"Return dependencies\"\"\"\n",
    "        return Dependencies(self.data_dependencies,\n",
    "                            self.control_dependencies)"
   ]
  },
  {
   "cell_type": "markdown",
   "metadata": {
    "slideshow": {
     "slide_type": "subslide"
    }
   },
   "source": [
    "Let us illustrate `set()` by example. Here's a set of variables read and written:"
   ]
  },
  {
   "cell_type": "code",
   "execution_count": 158,
   "metadata": {
    "execution": {
     "iopub.execute_input": "2023-01-07T16:02:50.277013Z",
     "iopub.status.busy": "2023-01-07T16:02:50.276655Z",
     "iopub.status.idle": "2023-01-07T16:02:50.278304Z",
     "shell.execute_reply": "2023-01-07T16:02:50.278586Z"
    },
    "slideshow": {
     "slide_type": "fragment"
    }
   },
   "outputs": [],
   "source": [
    "_test_data = DependencyTracker()\n",
    "x = _test_data.set('x', 1)\n",
    "y = _test_data.set('y', _test_data.get('x', x))\n",
    "z = _test_data.set('z', _test_data.get('x', x) + _test_data.get('y', y))"
   ]
  },
  {
   "cell_type": "markdown",
   "metadata": {
    "slideshow": {
     "slide_type": "fragment"
    }
   },
   "source": [
    "The attribute `origins` saves for each variable where it was last written:"
   ]
  },
  {
   "cell_type": "code",
   "execution_count": 159,
   "metadata": {
    "execution": {
     "iopub.execute_input": "2023-01-07T16:02:50.281211Z",
     "iopub.status.busy": "2023-01-07T16:02:50.280745Z",
     "iopub.status.idle": "2023-01-07T16:02:50.282659Z",
     "shell.execute_reply": "2023-01-07T16:02:50.283021Z"
    },
    "slideshow": {
     "slide_type": "fragment"
    }
   },
   "outputs": [
    {
     "data": {
      "text/plain": [
       "{'x': (<function __main__.<cell line: 2>()>, 2),\n",
       " 'y': (<function __main__.<cell line: 3>()>, 3),\n",
       " 'z': (<function __main__.<cell line: 4>()>, 4)}"
      ]
     },
     "execution_count": 159,
     "metadata": {},
     "output_type": "execute_result"
    }
   ],
   "source": [
    "_test_data.origins"
   ]
  },
  {
   "cell_type": "markdown",
   "metadata": {
    "slideshow": {
     "slide_type": "fragment"
    }
   },
   "source": [
    "The attribute `data_dependencies` tracks for each variable the variables it was read from:"
   ]
  },
  {
   "cell_type": "code",
   "execution_count": 160,
   "metadata": {
    "execution": {
     "iopub.execute_input": "2023-01-07T16:02:50.285668Z",
     "iopub.status.busy": "2023-01-07T16:02:50.285203Z",
     "iopub.status.idle": "2023-01-07T16:02:50.286694Z",
     "shell.execute_reply": "2023-01-07T16:02:50.286946Z"
    },
    "slideshow": {
     "slide_type": "subslide"
    }
   },
   "outputs": [
    {
     "data": {
      "text/plain": [
       "{('x', (<function __main__.<cell line: 2>()>, 2)): set(),\n",
       " ('y',\n",
       "  (<function __main__.<cell line: 3>()>, 3)): {('x',\n",
       "   (<function __main__.<cell line: 2>()>, 2))},\n",
       " ('z',\n",
       "  (<function __main__.<cell line: 4>()>, 4)): {('x',\n",
       "   (<function __main__.<cell line: 2>()>, 2)), ('y',\n",
       "   (<function __main__.<cell line: 3>()>, 3))}}"
      ]
     },
     "execution_count": 160,
     "metadata": {},
     "output_type": "execute_result"
    }
   ],
   "source": [
    "_test_data.data_dependencies"
   ]
  },
  {
   "cell_type": "markdown",
   "metadata": {
    "slideshow": {
     "slide_type": "fragment"
    }
   },
   "source": [
    "Hence, the above code already gives us a small dependency graph:"
   ]
  },
  {
   "cell_type": "code",
   "execution_count": 161,
   "metadata": {
    "execution": {
     "iopub.execute_input": "2023-01-07T16:02:50.288921Z",
     "iopub.status.busy": "2023-01-07T16:02:50.288511Z",
     "iopub.status.idle": "2023-01-07T16:02:50.565968Z",
     "shell.execute_reply": "2023-01-07T16:02:50.566242Z"
    },
    "slideshow": {
     "slide_type": "fragment"
    }
   },
   "outputs": [
    {
     "data": {
      "image/svg+xml": [
       "<?xml version=\"1.0\" encoding=\"UTF-8\" standalone=\"no\"?>\n",
       "<!DOCTYPE svg PUBLIC \"-//W3C//DTD SVG 1.1//EN\"\n",
       " \"http://www.w3.org/Graphics/SVG/1.1/DTD/svg11.dtd\">\n",
       "<!-- Generated by graphviz version 7.0.2 (20221119.0110)\n",
       " -->\n",
       "<!-- Title: dependencies Pages: 1 -->\n",
       "<svg width=\"135pt\" height=\"200pt\"\n",
       " viewBox=\"0.00 0.00 135.00 200.00\" xmlns=\"http://www.w3.org/2000/svg\" xmlns:xlink=\"http://www.w3.org/1999/xlink\">\n",
       "<g id=\"graph0\" class=\"graph\" transform=\"scale(1 1) rotate(0) translate(4 196)\">\n",
       "<title>dependencies</title>\n",
       "<polygon fill=\"white\" stroke=\"none\" points=\"-4,4 -4,-196 131,-196 131,4 -4,4\"/>\n",
       "<!-- x_functioncellline_2at0x107e48ee0_2 -->\n",
       "<g id=\"node1\" class=\"node\">\n",
       "<title>x_functioncellline_2at0x107e48ee0_2</title>\n",
       "<g id=\"a_node1\"><a xlink:title=\"&lt;cell line: 2&gt;:2\">\n",
       "<polygon fill=\"peachpuff\" stroke=\"black\" points=\"90,-192 0,-192 0,-152 90,-152 90,-192\"/>\n",
       "<text text-anchor=\"start\" x=\"40.5\" y=\"-177.8\" font-family=\"Courier,monospace\" font-weight=\"bold\" font-size=\"14.00\">x</text>\n",
       "<text text-anchor=\"start\" x=\"8\" y=\"-158.8\" font-family=\"Courier,monospace\" font-size=\"9.00\">&lt;cell line: 2&gt;</text>\n",
       "</a>\n",
       "</g>\n",
       "</g>\n",
       "<!-- z_functioncellline_4at0x11935be20_4 -->\n",
       "<g id=\"node2\" class=\"node\">\n",
       "<title>z_functioncellline_4at0x11935be20_4</title>\n",
       "<g id=\"a_node2\"><a xlink:title=\"&lt;cell line: 4&gt;:4\">\n",
       "<polygon fill=\"peachpuff\" stroke=\"black\" points=\"90,-40 0,-40 0,0 90,0 90,-40\"/>\n",
       "<text text-anchor=\"start\" x=\"40.5\" y=\"-25.8\" font-family=\"Courier,monospace\" font-weight=\"bold\" font-size=\"14.00\">z</text>\n",
       "<text text-anchor=\"start\" x=\"8\" y=\"-6.8\" font-family=\"Courier,monospace\" font-size=\"9.00\">&lt;cell line: 4&gt;</text>\n",
       "</a>\n",
       "</g>\n",
       "</g>\n",
       "<!-- x_functioncellline_2at0x107e48ee0_2&#45;&gt;z_functioncellline_4at0x11935be20_4 -->\n",
       "<g id=\"edge1\" class=\"edge\">\n",
       "<title>x_functioncellline_2at0x107e48ee0_2&#45;&gt;z_functioncellline_4at0x11935be20_4</title>\n",
       "<path fill=\"none\" stroke=\"black\" d=\"M37.49,-151.73C33.83,-141.33 29.84,-128.16 28,-116 25.35,-98.42 25.35,-93.58 28,-76 29.25,-67.74 31.49,-59.01 33.95,-50.99\"/>\n",
       "<polygon fill=\"black\" stroke=\"black\" points=\"37.21,-52.3 37.01,-41.71 30.56,-50.11 37.21,-52.3\"/>\n",
       "</g>\n",
       "<!-- y_functioncellline_3at0x11935bac0_3 -->\n",
       "<g id=\"node3\" class=\"node\">\n",
       "<title>y_functioncellline_3at0x11935bac0_3</title>\n",
       "<g id=\"a_node3\"><a xlink:title=\"&lt;cell line: 3&gt;:3\">\n",
       "<polygon fill=\"peachpuff\" stroke=\"black\" points=\"127,-116 37,-116 37,-76 127,-76 127,-116\"/>\n",
       "<text text-anchor=\"start\" x=\"77.5\" y=\"-101.8\" font-family=\"Courier,monospace\" font-weight=\"bold\" font-size=\"14.00\">y</text>\n",
       "<text text-anchor=\"start\" x=\"45\" y=\"-82.8\" font-family=\"Courier,monospace\" font-size=\"9.00\">&lt;cell line: 3&gt;</text>\n",
       "</a>\n",
       "</g>\n",
       "</g>\n",
       "<!-- x_functioncellline_2at0x107e48ee0_2&#45;&gt;y_functioncellline_3at0x11935bac0_3 -->\n",
       "<g id=\"edge3\" class=\"edge\">\n",
       "<title>x_functioncellline_2at0x107e48ee0_2&#45;&gt;y_functioncellline_3at0x11935bac0_3</title>\n",
       "<path fill=\"none\" stroke=\"black\" d=\"M54.72,-151.56C58.55,-143.91 63.02,-134.96 67.23,-126.55\"/>\n",
       "<polygon fill=\"black\" stroke=\"black\" points=\"70.33,-128.18 71.67,-117.67 64.06,-125.05 70.33,-128.18\"/>\n",
       "</g>\n",
       "<!-- y_functioncellline_3at0x11935bac0_3&#45;&gt;z_functioncellline_4at0x11935be20_4 -->\n",
       "<g id=\"edge2\" class=\"edge\">\n",
       "<title>y_functioncellline_3at0x11935bac0_3&#45;&gt;z_functioncellline_4at0x11935be20_4</title>\n",
       "<path fill=\"none\" stroke=\"black\" d=\"M72.28,-75.56C68.45,-67.91 63.98,-58.96 59.77,-50.55\"/>\n",
       "<polygon fill=\"black\" stroke=\"black\" points=\"62.94,-49.05 55.33,-41.67 56.67,-52.18 62.94,-49.05\"/>\n",
       "</g>\n",
       "</g>\n",
       "</svg>\n"
      ],
      "text/plain": [
       "<graphviz.graphs.Digraph at 0x11afaaa40>"
      ]
     },
     "execution_count": 161,
     "metadata": {},
     "output_type": "execute_result"
    }
   ],
   "source": [
    "# ignore\n",
    "_test_data.dependencies().graph()"
   ]
  },
  {
   "cell_type": "markdown",
   "metadata": {
    "slideshow": {
     "slide_type": "subslide"
    }
   },
   "source": [
    "In the remainder of this section, we define methods to\n",
    "\n",
    "* track control dependencies (`test()`, `__enter__()`, `__exit__()`)\n",
    "* track function calls and returns (`call()`, `ret()`)\n",
    "* track function arguments (`arg()`, `param()`)\n",
    "* check the validity of our dependencies (`validate()`).\n",
    "\n",
    "Like our `get()` and `set()` methods above, these work by refining the appropriate methods defined in the `DataTracker` class, building on our `NodeTransformer` transformations."
   ]
  },
  {
   "cell_type": "markdown",
   "metadata": {
    "slideshow": {
     "slide_type": "subslide"
    }
   },
   "source": [
    "### Excursion: Control Dependencies"
   ]
  },
  {
   "cell_type": "markdown",
   "metadata": {
    "slideshow": {
     "slide_type": "fragment"
    }
   },
   "source": [
    "Let us detail control dependencies. As discussed with `DataTracker()`, we invoke `test()` methods for all control conditions, and place the controlled blocks into `with` clauses."
   ]
  },
  {
   "cell_type": "markdown",
   "metadata": {
    "slideshow": {
     "slide_type": "fragment"
    }
   },
   "source": [
    "The `test()` method simply sets a `<test>` variable; this also places it in `last_read`."
   ]
  },
  {
   "cell_type": "code",
   "execution_count": 162,
   "metadata": {
    "execution": {
     "iopub.execute_input": "2023-01-07T16:02:50.568892Z",
     "iopub.status.busy": "2023-01-07T16:02:50.568580Z",
     "iopub.status.idle": "2023-01-07T16:02:50.569723Z",
     "shell.execute_reply": "2023-01-07T16:02:50.569926Z"
    },
    "slideshow": {
     "slide_type": "fragment"
    }
   },
   "outputs": [],
   "source": [
    "class DependencyTracker(DependencyTracker):\n",
    "    def test(self, value: Any) -> Any:\n",
    "        \"\"\"Track a test for condition `value`\"\"\"\n",
    "        self.set(self.TEST, value)\n",
    "        return super().test(value)"
   ]
  },
  {
   "attachments": {},
   "cell_type": "markdown",
   "metadata": {
    "slideshow": {
     "slide_type": "fragment"
    }
   },
   "source": [
    "When entering a `with` block, the set of `last_read` variables holds the `<test>` variable read. We save it in the `control` stack, with the effect of any further variables written now being marked as controlled by `<test>`."
   ]
  },
  {
   "cell_type": "code",
   "execution_count": 163,
   "metadata": {
    "execution": {
     "iopub.execute_input": "2023-01-07T16:02:50.572010Z",
     "iopub.status.busy": "2023-01-07T16:02:50.571729Z",
     "iopub.status.idle": "2023-01-07T16:02:50.572931Z",
     "shell.execute_reply": "2023-01-07T16:02:50.573225Z"
    },
    "slideshow": {
     "slide_type": "subslide"
    }
   },
   "outputs": [],
   "source": [
    "class DependencyTracker(DependencyTracker):\n",
    "    def __enter__(self) -> Any:\n",
    "        \"\"\"Track entering an if/while/for block\"\"\"\n",
    "        self.control.append(self.last_read)\n",
    "        self.clear_read()\n",
    "        return super().__enter__()"
   ]
  },
  {
   "cell_type": "markdown",
   "metadata": {
    "slideshow": {
     "slide_type": "fragment"
    }
   },
   "source": [
    "When we exit the `with` block, we restore earlier `last_read` values, preparing for `else` blocks."
   ]
  },
  {
   "cell_type": "code",
   "execution_count": 164,
   "metadata": {
    "execution": {
     "iopub.execute_input": "2023-01-07T16:02:50.575868Z",
     "iopub.status.busy": "2023-01-07T16:02:50.575500Z",
     "iopub.status.idle": "2023-01-07T16:02:50.576907Z",
     "shell.execute_reply": "2023-01-07T16:02:50.577114Z"
    },
    "slideshow": {
     "slide_type": "subslide"
    }
   },
   "outputs": [],
   "source": [
    "class DependencyTracker(DependencyTracker):\n",
    "    def __exit__(self, exc_type: Type, exc_value: BaseException,\n",
    "                 traceback: TracebackType) -> Optional[bool]:\n",
    "        \"\"\"Track exiting an if/while/for block\"\"\"\n",
    "        self.clear_read()\n",
    "        self.last_read = self.control.pop()\n",
    "        self.ignore_next_location_change()\n",
    "        return super().__exit__(exc_type, exc_value, traceback)"
   ]
  },
  {
   "cell_type": "markdown",
   "metadata": {
    "slideshow": {
     "slide_type": "fragment"
    }
   },
   "source": [
    "Here's an example of all these parts in action:"
   ]
  },
  {
   "cell_type": "code",
   "execution_count": 165,
   "metadata": {
    "execution": {
     "iopub.execute_input": "2023-01-07T16:02:50.579709Z",
     "iopub.status.busy": "2023-01-07T16:02:50.579394Z",
     "iopub.status.idle": "2023-01-07T16:02:50.580590Z",
     "shell.execute_reply": "2023-01-07T16:02:50.580851Z"
    },
    "slideshow": {
     "slide_type": "fragment"
    }
   },
   "outputs": [],
   "source": [
    "_test_data = DependencyTracker()\n",
    "x = _test_data.set('x', 1)\n",
    "y = _test_data.set('y', _test_data.get('x', x))"
   ]
  },
  {
   "cell_type": "code",
   "execution_count": 166,
   "metadata": {
    "execution": {
     "iopub.execute_input": "2023-01-07T16:02:50.583280Z",
     "iopub.status.busy": "2023-01-07T16:02:50.582989Z",
     "iopub.status.idle": "2023-01-07T16:02:50.584106Z",
     "shell.execute_reply": "2023-01-07T16:02:50.584425Z"
    },
    "slideshow": {
     "slide_type": "subslide"
    }
   },
   "outputs": [],
   "source": [
    "if _test_data.test(_test_data.get('x', x) >= _test_data.get('y', y)):\n",
    "    with _test_data:\n",
    "        z = _test_data.set('z',\n",
    "                           _test_data.get('x', x) + _test_data.get('y', y))"
   ]
  },
  {
   "cell_type": "code",
   "execution_count": 167,
   "metadata": {
    "execution": {
     "iopub.execute_input": "2023-01-07T16:02:50.587307Z",
     "iopub.status.busy": "2023-01-07T16:02:50.586873Z",
     "iopub.status.idle": "2023-01-07T16:02:50.588353Z",
     "shell.execute_reply": "2023-01-07T16:02:50.588570Z"
    },
    "slideshow": {
     "slide_type": "fragment"
    }
   },
   "outputs": [
    {
     "data": {
      "text/plain": [
       "{('x', (<function __main__.<cell line: 2>()>, 2)): set(),\n",
       " ('y', (<function __main__.<cell line: 3>()>, 3)): set(),\n",
       " ('<test>', (<function __main__.<cell line: 1>()>, 1)): set(),\n",
       " ('z',\n",
       "  (<function __main__.<cell line: 1>()>, 3)): {('<test>',\n",
       "   (<function __main__.<cell line: 1>()>, 1))}}"
      ]
     },
     "execution_count": 167,
     "metadata": {},
     "output_type": "execute_result"
    }
   ],
   "source": [
    "_test_data.control_dependencies"
   ]
  },
  {
   "cell_type": "markdown",
   "metadata": {
    "slideshow": {
     "slide_type": "fragment"
    }
   },
   "source": [
    "The control dependency for `z` is reflected in the dependency graph:"
   ]
  },
  {
   "cell_type": "code",
   "execution_count": 168,
   "metadata": {
    "execution": {
     "iopub.execute_input": "2023-01-07T16:02:50.594010Z",
     "iopub.status.busy": "2023-01-07T16:02:50.593690Z",
     "iopub.status.idle": "2023-01-07T16:02:50.876325Z",
     "shell.execute_reply": "2023-01-07T16:02:50.876610Z"
    },
    "slideshow": {
     "slide_type": "subslide"
    }
   },
   "outputs": [
    {
     "data": {
      "image/svg+xml": [
       "<?xml version=\"1.0\" encoding=\"UTF-8\" standalone=\"no\"?>\n",
       "<!DOCTYPE svg PUBLIC \"-//W3C//DTD SVG 1.1//EN\"\n",
       " \"http://www.w3.org/Graphics/SVG/1.1/DTD/svg11.dtd\">\n",
       "<!-- Generated by graphviz version 7.0.2 (20221119.0110)\n",
       " -->\n",
       "<!-- Title: dependencies Pages: 1 -->\n",
       "<svg width=\"182pt\" height=\"276pt\"\n",
       " viewBox=\"0.00 0.00 181.99 276.00\" xmlns=\"http://www.w3.org/2000/svg\" xmlns:xlink=\"http://www.w3.org/1999/xlink\">\n",
       "<g id=\"graph0\" class=\"graph\" transform=\"scale(1 1) rotate(0) translate(4 272)\">\n",
       "<title>dependencies</title>\n",
       "<polygon fill=\"white\" stroke=\"none\" points=\"-4,4 -4,-272 177.99,-272 177.99,4 -4,4\"/>\n",
       "<!-- x_functioncellline_2at0x107e48ee0_2 -->\n",
       "<g id=\"node1\" class=\"node\">\n",
       "<title>x_functioncellline_2at0x107e48ee0_2</title>\n",
       "<g id=\"a_node1\"><a xlink:title=\"&lt;cell line: 2&gt;:2\">\n",
       "<polygon fill=\"peachpuff\" stroke=\"black\" points=\"163,-268 73,-268 73,-228 163,-228 163,-268\"/>\n",
       "<text text-anchor=\"start\" x=\"113.5\" y=\"-253.8\" font-family=\"Courier,monospace\" font-weight=\"bold\" font-size=\"14.00\">x</text>\n",
       "<text text-anchor=\"start\" x=\"81\" y=\"-234.8\" font-family=\"Courier,monospace\" font-size=\"9.00\">&lt;cell line: 2&gt;</text>\n",
       "</a>\n",
       "</g>\n",
       "</g>\n",
       "<!-- y_functioncellline_3at0x11935bac0_3 -->\n",
       "<g id=\"node2\" class=\"node\">\n",
       "<title>y_functioncellline_3at0x11935bac0_3</title>\n",
       "<g id=\"a_node2\"><a xlink:title=\"&lt;cell line: 3&gt;:3\">\n",
       "<polygon fill=\"peachpuff\" stroke=\"black\" points=\"90,-192 0,-192 0,-152 90,-152 90,-192\"/>\n",
       "<text text-anchor=\"start\" x=\"40.5\" y=\"-177.8\" font-family=\"Courier,monospace\" font-weight=\"bold\" font-size=\"14.00\">y</text>\n",
       "<text text-anchor=\"start\" x=\"8\" y=\"-158.8\" font-family=\"Courier,monospace\" font-size=\"9.00\">&lt;cell line: 3&gt;</text>\n",
       "</a>\n",
       "</g>\n",
       "</g>\n",
       "<!-- x_functioncellline_2at0x107e48ee0_2&#45;&gt;y_functioncellline_3at0x11935bac0_3 -->\n",
       "<g id=\"edge1\" class=\"edge\">\n",
       "<title>x_functioncellline_2at0x107e48ee0_2&#45;&gt;y_functioncellline_3at0x11935bac0_3</title>\n",
       "<path fill=\"none\" stroke=\"black\" d=\"M98.82,-227.56C90.61,-219.23 80.87,-209.36 71.95,-200.32\"/>\n",
       "<polygon fill=\"black\" stroke=\"black\" points=\"74.63,-198.05 65.11,-193.39 69.65,-202.97 74.63,-198.05\"/>\n",
       "</g>\n",
       "<!-- z_functioncellline_1at0x11afa0430_3 -->\n",
       "<g id=\"node3\" class=\"node\">\n",
       "<title>z_functioncellline_1at0x11afa0430_3</title>\n",
       "<g id=\"a_node3\"><a xlink:title=\"&lt;cell line: 1&gt;:3\">\n",
       "<polygon fill=\"peachpuff\" stroke=\"black\" points=\"135,-40 45,-40 45,0 135,0 135,-40\"/>\n",
       "<text text-anchor=\"start\" x=\"85.5\" y=\"-25.8\" font-family=\"Courier,monospace\" font-weight=\"bold\" font-size=\"14.00\">z</text>\n",
       "<text text-anchor=\"start\" x=\"53\" y=\"-6.8\" font-family=\"Courier,monospace\" font-size=\"9.00\">&lt;cell line: 1&gt;</text>\n",
       "</a>\n",
       "</g>\n",
       "</g>\n",
       "<!-- x_functioncellline_2at0x107e48ee0_2&#45;&gt;z_functioncellline_1at0x11afa0430_3 -->\n",
       "<g id=\"edge2\" class=\"edge\">\n",
       "<title>x_functioncellline_2at0x107e48ee0_2&#45;&gt;z_functioncellline_1at0x11afa0430_3</title>\n",
       "<path fill=\"none\" stroke=\"black\" d=\"M132.07,-227.62C153.95,-194.93 191.02,-127.36 165,-76 159.13,-64.41 149.54,-54.68 139.16,-46.78\"/>\n",
       "<polygon fill=\"black\" stroke=\"black\" points=\"141.34,-44.03 131.14,-41.17 137.33,-49.77 141.34,-44.03\"/>\n",
       "</g>\n",
       "<!-- test_functioncellline_1at0x107e4a950_1 -->\n",
       "<g id=\"node4\" class=\"node\">\n",
       "<title>test_functioncellline_1at0x107e4a950_1</title>\n",
       "<g id=\"a_node4\"><a xlink:title=\"&lt;cell line: 1&gt;:1\">\n",
       "<polygon fill=\"peachpuff\" stroke=\"black\" points=\"156,-116 24,-116 24,-76 156,-76 156,-116\"/>\n",
       "<text text-anchor=\"start\" x=\"65\" y=\"-101.8\" font-family=\"Courier,monospace\" font-weight=\"bold\" font-style=\"italic\" font-size=\"14.00\">&lt;test&gt;</text>\n",
       "<text text-anchor=\"start\" x=\"32\" y=\"-82.8\" font-family=\"Courier,monospace\" font-size=\"9.00\">_test_data.get(&#39;x&#39;, x)</text>\n",
       "</a>\n",
       "</g>\n",
       "</g>\n",
       "<!-- x_functioncellline_2at0x107e48ee0_2&#45;&gt;test_functioncellline_1at0x107e4a950_1 -->\n",
       "<g id=\"edge5\" class=\"edge\">\n",
       "<title>x_functioncellline_2at0x107e48ee0_2&#45;&gt;test_functioncellline_1at0x107e4a950_1</title>\n",
       "<path fill=\"none\" stroke=\"black\" d=\"M114.4,-227.7C109.65,-202.27 101.25,-157.28 95.65,-127.29\"/>\n",
       "<polygon fill=\"black\" stroke=\"black\" points=\"99.14,-126.9 93.87,-117.72 92.26,-128.19 99.14,-126.9\"/>\n",
       "</g>\n",
       "<!-- y_functioncellline_3at0x11935bac0_3&#45;&gt;z_functioncellline_1at0x11afa0430_3 -->\n",
       "<g id=\"edge3\" class=\"edge\">\n",
       "<title>y_functioncellline_3at0x11935bac0_3&#45;&gt;z_functioncellline_1at0x11afa0430_3</title>\n",
       "<path fill=\"none\" stroke=\"black\" d=\"M30.47,-151.72C17.52,-132.01 2.41,-100.84 15,-76 20.87,-64.41 30.46,-54.68 40.84,-46.78\"/>\n",
       "<polygon fill=\"black\" stroke=\"black\" points=\"42.67,-49.77 48.86,-41.17 38.66,-44.03 42.67,-49.77\"/>\n",
       "</g>\n",
       "<!-- y_functioncellline_3at0x11935bac0_3&#45;&gt;test_functioncellline_1at0x107e4a950_1 -->\n",
       "<g id=\"edge6\" class=\"edge\">\n",
       "<title>y_functioncellline_3at0x11935bac0_3&#45;&gt;test_functioncellline_1at0x107e4a950_1</title>\n",
       "<path fill=\"none\" stroke=\"black\" d=\"M56.82,-151.56C61.58,-143.74 67.16,-134.56 72.37,-125.98\"/>\n",
       "<polygon fill=\"black\" stroke=\"black\" points=\"75.26,-127.97 77.47,-117.61 69.28,-124.33 75.26,-127.97\"/>\n",
       "</g>\n",
       "<!-- test_functioncellline_1at0x107e4a950_1&#45;&gt;z_functioncellline_1at0x11afa0430_3 -->\n",
       "<g id=\"edge4\" class=\"edge\">\n",
       "<title>test_functioncellline_1at0x107e4a950_1&#45;&gt;z_functioncellline_1at0x11afa0430_3</title>\n",
       "<path fill=\"none\" stroke=\"grey\" stroke-dasharray=\"5,2\" d=\"M90,-75.56C90,-68.25 90,-59.75 90,-51.67\"/>\n",
       "<polygon fill=\"grey\" stroke=\"grey\" points=\"93.5,-51.83 90,-41.83 86.5,-51.83 93.5,-51.83\"/>\n",
       "</g>\n",
       "</g>\n",
       "</svg>\n"
      ],
      "text/plain": [
       "Dependencies(\n",
       "    data={\n",
       "        ('x', (<cell line: 2>, 2)): set(),\n",
       "        ('y', (<cell line: 3>, 3)): {('x', (<cell line: 2>, 2))},\n",
       "        ('<test>', (<cell line: 1>, 1)): {('x', (<cell line: 2>, 2)), ('y', (<cell line: 3>, 3))},\n",
       "        ('z', (<cell line: 1>, 3)): {('x', (<cell line: 2>, 2)), ('y', (<cell line: 3>, 3))}},\n",
       " control={\n",
       "        ('x', (<cell line: 2>, 2)): set(),\n",
       "        ('y', (<cell line: 3>, 3)): set(),\n",
       "        ('<test>', (<cell line: 1>, 1)): set(),\n",
       "        ('z', (<cell line: 1>, 3)): {('<test>', (<cell line: 1>, 1))}})"
      ]
     },
     "execution_count": 168,
     "metadata": {},
     "output_type": "execute_result"
    }
   ],
   "source": [
    "# ignore\n",
    "_test_data.dependencies()"
   ]
  },
  {
   "cell_type": "markdown",
   "metadata": {
    "slideshow": {
     "slide_type": "subslide"
    }
   },
   "source": [
    "### End of Excursion"
   ]
  },
  {
   "cell_type": "markdown",
   "metadata": {
    "slideshow": {
     "slide_type": "subslide"
    }
   },
   "source": [
    "### Excursion: Calls and Returns"
   ]
  },
  {
   "cell_type": "code",
   "execution_count": 169,
   "metadata": {
    "execution": {
     "iopub.execute_input": "2023-01-07T16:02:50.879108Z",
     "iopub.status.busy": "2023-01-07T16:02:50.878800Z",
     "iopub.status.idle": "2023-01-07T16:02:50.879921Z",
     "shell.execute_reply": "2023-01-07T16:02:50.880287Z"
    },
    "slideshow": {
     "slide_type": "skip"
    }
   },
   "outputs": [],
   "source": [
    "import copy"
   ]
  },
  {
   "cell_type": "markdown",
   "metadata": {
    "slideshow": {
     "slide_type": "fragment"
    }
   },
   "source": [
    "To handle complex expressions involving functions, we introduce a _data stack_. Every time we invoke a function `func` (`call()` is invoked), we save the list of current variables read `last_read` on the `data` stack; when we return (`ret()` is invoked), we restore `last_read`. This also ensures that only those variables read while evaluating arguments will flow into the function call."
   ]
  },
  {
   "cell_type": "code",
   "execution_count": 170,
   "metadata": {
    "execution": {
     "iopub.execute_input": "2023-01-07T16:02:50.883377Z",
     "iopub.status.busy": "2023-01-07T16:02:50.883030Z",
     "iopub.status.idle": "2023-01-07T16:02:50.884237Z",
     "shell.execute_reply": "2023-01-07T16:02:50.884426Z"
    },
    "slideshow": {
     "slide_type": "subslide"
    }
   },
   "outputs": [],
   "source": [
    "class DependencyTracker(DependencyTracker):\n",
    "    def call(self, func: Callable) -> Callable:\n",
    "        \"\"\"Track a call of function `func`\"\"\"\n",
    "        func = super().call(func)\n",
    "\n",
    "        if inspect.isgeneratorfunction(func):\n",
    "            return self.call_generator(func)\n",
    "\n",
    "        # Save context\n",
    "        if self.log:\n",
    "            caller_func, lineno = self.caller_location()\n",
    "            print(f\"{caller_func.__name__}:{lineno}: \"\n",
    "                  f\"saving read variables {self.last_read}\")\n",
    "\n",
    "        self.data.append(self.last_read)\n",
    "        self.clear_read()\n",
    "        self.ignore_next_location_change()\n",
    "\n",
    "        self.frames.append(self.args)\n",
    "        self.args = {}\n",
    "\n",
    "        return func"
   ]
  },
  {
   "cell_type": "code",
   "execution_count": 171,
   "metadata": {
    "execution": {
     "iopub.execute_input": "2023-01-07T16:02:50.887547Z",
     "iopub.status.busy": "2023-01-07T16:02:50.887223Z",
     "iopub.status.idle": "2023-01-07T16:02:50.888437Z",
     "shell.execute_reply": "2023-01-07T16:02:50.888684Z"
    },
    "slideshow": {
     "slide_type": "subslide"
    }
   },
   "outputs": [],
   "source": [
    "class DependencyTracker(DependencyTracker):\n",
    "    def ret(self, value: Any) -> Any:\n",
    "        \"\"\"Track a function return\"\"\"\n",
    "        value = super().ret(value)\n",
    "\n",
    "        if self.in_generator():\n",
    "            return self.ret_generator(value)\n",
    "\n",
    "        # Restore old context and add return value\n",
    "        ret_name = None\n",
    "        for var in self.last_read:\n",
    "            if var.startswith(\"<\"):  # \"<return value>\"\n",
    "                ret_name = var\n",
    "\n",
    "        self.last_read = self.data.pop()\n",
    "        if ret_name:\n",
    "            self.last_read.append(ret_name)\n",
    "\n",
    "        if self.args:\n",
    "            # We return from an uninstrumented function:\n",
    "            # Make return value depend on all args\n",
    "            for key, deps in self.args.items():\n",
    "                self.last_read += deps\n",
    "\n",
    "        self.ignore_location_change()\n",
    "\n",
    "        self.args = self.frames.pop()\n",
    "\n",
    "        if self.log:\n",
    "            caller_func, lineno = self.caller_location()\n",
    "            print(f\"{caller_func.__name__}:{lineno}: \"\n",
    "                  f\"restored read variables {self.last_read}\")\n",
    "\n",
    "        return value"
   ]
  },
  {
   "cell_type": "markdown",
   "metadata": {
    "slideshow": {
     "slide_type": "subslide"
    }
   },
   "source": [
    "Generator functions (those which `yield` a value) are not \"called\" in the sense that Python transfers control to them; instead, a \"call\" to a generator function creates a generator that is evaluated on demand. We mark generator function \"calls\" by saving `None` on the stacks. When the generator function returns the generator, we wrap the generator such that the arguments are being restored when it is invoked."
   ]
  },
  {
   "cell_type": "code",
   "execution_count": 172,
   "metadata": {
    "execution": {
     "iopub.execute_input": "2023-01-07T16:02:50.892580Z",
     "iopub.status.busy": "2023-01-07T16:02:50.892224Z",
     "iopub.status.idle": "2023-01-07T16:02:50.893340Z",
     "shell.execute_reply": "2023-01-07T16:02:50.893748Z"
    },
    "slideshow": {
     "slide_type": "subslide"
    }
   },
   "outputs": [],
   "source": [
    "class DependencyTracker(DependencyTracker):\n",
    "    def in_generator(self) -> bool:\n",
    "        \"\"\"True if we are calling a generator function\"\"\"\n",
    "        return len(self.data) > 0 and self.data[-1] is None\n",
    "\n",
    "    def call_generator(self, func: Callable) -> Callable:\n",
    "        \"\"\"Track a call of a generator function\"\"\"\n",
    "        # Mark the fact that we're in a generator with `None` values\n",
    "        self.data.append(None)  # type: ignore\n",
    "        self.frames.append(None)  # type: ignore\n",
    "        assert self.in_generator()\n",
    "\n",
    "        self.clear_read()\n",
    "        return func\n",
    "\n",
    "    def ret_generator(self, generator: Any) -> Any:\n",
    "        \"\"\"Track the return of a generator function\"\"\"\n",
    "        # Pop the two 'None' values pushed earlier\n",
    "        self.data.pop()\n",
    "        self.frames.pop()\n",
    "\n",
    "        if self.log:\n",
    "            caller_func, lineno = self.caller_location()\n",
    "            print(f\"{caller_func.__name__}:{lineno}: \"\n",
    "                  f\"wrapping generator {generator} (args={self.args})\")\n",
    "\n",
    "        # At this point, we already have collected the args.\n",
    "        # The returned generator depends on all of them.\n",
    "        for arg in self.args:\n",
    "            self.last_read += self.args[arg]\n",
    "\n",
    "        # Wrap the generator such that the args are restored \n",
    "        # when it is actually invoked, such that we can map them\n",
    "        # to parameters.\n",
    "        saved_args = copy.deepcopy(self.args)\n",
    "\n",
    "        def wrapper() -> Generator[Any, None, None]:\n",
    "            self.args = saved_args\n",
    "            if self.log:\n",
    "                caller_func, lineno = self.caller_location()\n",
    "                print(f\"{caller_func.__name__}:{lineno}: \"\n",
    "                  f\"calling generator (args={self.args})\")\n",
    "\n",
    "            self.ignore_next_location_change()\n",
    "            yield from generator\n",
    "\n",
    "        return wrapper()"
   ]
  },
  {
   "cell_type": "markdown",
   "metadata": {
    "slideshow": {
     "slide_type": "subslide"
    }
   },
   "source": [
    "We see an example of how function calls and returns work in conjunction with function arguments, discussed in the next section."
   ]
  },
  {
   "cell_type": "markdown",
   "metadata": {
    "slideshow": {
     "slide_type": "subslide"
    }
   },
   "source": [
    "### End of Excursion"
   ]
  },
  {
   "cell_type": "markdown",
   "metadata": {
    "slideshow": {
     "slide_type": "subslide"
    }
   },
   "source": [
    "### Excursion: Function Arguments"
   ]
  },
  {
   "cell_type": "markdown",
   "metadata": {
    "slideshow": {
     "slide_type": "fragment"
    }
   },
   "source": [
    "Finally, we handle parameters and arguments. The `args` stack holds the current stack of function arguments, holding the `last_read` variable for each argument."
   ]
  },
  {
   "cell_type": "code",
   "execution_count": 173,
   "metadata": {
    "execution": {
     "iopub.execute_input": "2023-01-07T16:02:50.896700Z",
     "iopub.status.busy": "2023-01-07T16:02:50.896410Z",
     "iopub.status.idle": "2023-01-07T16:02:50.897611Z",
     "shell.execute_reply": "2023-01-07T16:02:50.897937Z"
    },
    "slideshow": {
     "slide_type": "subslide"
    }
   },
   "outputs": [],
   "source": [
    "class DependencyTracker(DependencyTracker):\n",
    "    def arg(self, value: Any, pos: Optional[int] = None, kw: Optional[str] = None) -> Any:\n",
    "        \"\"\"\n",
    "        Track passing an argument `value`\n",
    "        (with given position `pos` 1..n or keyword `kw`)\n",
    "        \"\"\"\n",
    "        if self.log:\n",
    "            caller_func, lineno = self.caller_location()\n",
    "            print(f\"{caller_func.__name__}:{lineno}: \"\n",
    "                  f\"saving args read {self.last_read}\")\n",
    "\n",
    "        if pos:\n",
    "            self.args[pos] = self.last_read\n",
    "        if kw:\n",
    "            self.args[kw] = self.last_read\n",
    "\n",
    "        self.clear_read()\n",
    "        return super().arg(value, pos, kw)"
   ]
  },
  {
   "cell_type": "markdown",
   "metadata": {
    "slideshow": {
     "slide_type": "subslide"
    }
   },
   "source": [
    "When accessing the arguments (with `param()`), we can retrieve this set of read variables for each argument."
   ]
  },
  {
   "cell_type": "code",
   "execution_count": 174,
   "metadata": {
    "execution": {
     "iopub.execute_input": "2023-01-07T16:02:50.901771Z",
     "iopub.status.busy": "2023-01-07T16:02:50.901253Z",
     "iopub.status.idle": "2023-01-07T16:02:50.902561Z",
     "shell.execute_reply": "2023-01-07T16:02:50.902765Z"
    },
    "slideshow": {
     "slide_type": "subslide"
    }
   },
   "outputs": [],
   "source": [
    "class DependencyTracker(DependencyTracker):\n",
    "    def param(self, name: str, value: Any,\n",
    "              pos: Optional[int] = None, vararg: str = \"\", last: bool = False) -> Any:\n",
    "        \"\"\"\n",
    "        Track getting a parameter `name` with value `value`\n",
    "        (with given position `pos`).\n",
    "        vararg parameters are indicated by setting `varargs` to \n",
    "        '*' (*args) or '**' (**kwargs)\n",
    "        \"\"\"\n",
    "        self.clear_read()\n",
    "\n",
    "        if vararg == '*':\n",
    "            # We over-approximate by setting `args` to _all_ positional args\n",
    "            for index in self.args:\n",
    "                if isinstance(index, int) and pos is not None and index >= pos:\n",
    "                    self.last_read += self.args[index]\n",
    "        elif vararg == '**':\n",
    "            # We over-approximate by setting `kwargs` to _all_ passed keyword args\n",
    "            for index in self.args:\n",
    "                if isinstance(index, str):\n",
    "                    self.last_read += self.args[index]\n",
    "        elif name in self.args:\n",
    "            self.last_read = self.args[name]\n",
    "        elif pos in self.args:\n",
    "            self.last_read = self.args[pos]\n",
    "\n",
    "        if self.log:\n",
    "            caller_func, lineno = self.caller_location()\n",
    "            print(f\"{caller_func.__name__}:{lineno}: \"\n",
    "                  f\"restored params read {self.last_read}\")\n",
    "\n",
    "        self.ignore_location_change()\n",
    "        ret = super().param(name, value, pos)\n",
    "\n",
    "        if last:\n",
    "            self.clear_read()\n",
    "            self.args = {}  # Mark `args` as processed\n",
    "\n",
    "        return ret"
   ]
  },
  {
   "cell_type": "markdown",
   "metadata": {
    "slideshow": {
     "slide_type": "subslide"
    }
   },
   "source": [
    "Let us illustrate all these on a small example."
   ]
  },
  {
   "cell_type": "code",
   "execution_count": 175,
   "metadata": {
    "execution": {
     "iopub.execute_input": "2023-01-07T16:02:50.905603Z",
     "iopub.status.busy": "2023-01-07T16:02:50.905268Z",
     "iopub.status.idle": "2023-01-07T16:02:50.906550Z",
     "shell.execute_reply": "2023-01-07T16:02:50.906958Z"
    },
    "slideshow": {
     "slide_type": "subslide"
    }
   },
   "outputs": [],
   "source": [
    "def call_test() -> int:\n",
    "    c = 47\n",
    "\n",
    "    def sq(n: int) -> int:\n",
    "        return n * n\n",
    "\n",
    "    def gen(e: int) -> Generator[int, None, None]:\n",
    "        yield e * c\n",
    "\n",
    "    def just_x(x: Any, y: Any) -> Any:\n",
    "        return x\n",
    "\n",
    "    a = 42\n",
    "    b = gen(a)\n",
    "    d = list(b)[0]\n",
    "\n",
    "    xs = [1, 2, 3, 4]\n",
    "    ys = [sq(elem) for elem in xs if elem > 2]\n",
    "\n",
    "    return just_x(just_x(d, y=b), ys[0])"
   ]
  },
  {
   "cell_type": "code",
   "execution_count": 176,
   "metadata": {
    "execution": {
     "iopub.execute_input": "2023-01-07T16:02:50.909145Z",
     "iopub.status.busy": "2023-01-07T16:02:50.908750Z",
     "iopub.status.idle": "2023-01-07T16:02:50.910532Z",
     "shell.execute_reply": "2023-01-07T16:02:50.910774Z"
    },
    "slideshow": {
     "slide_type": "subslide"
    }
   },
   "outputs": [
    {
     "data": {
      "text/plain": [
       "1974"
      ]
     },
     "execution_count": 176,
     "metadata": {},
     "output_type": "execute_result"
    }
   ],
   "source": [
    "call_test()"
   ]
  },
  {
   "cell_type": "markdown",
   "metadata": {
    "slideshow": {
     "slide_type": "fragment"
    }
   },
   "source": [
    "We apply all our transformers on this code:"
   ]
  },
  {
   "cell_type": "code",
   "execution_count": 177,
   "metadata": {
    "execution": {
     "iopub.execute_input": "2023-01-07T16:02:50.939521Z",
     "iopub.status.busy": "2023-01-07T16:02:50.939206Z",
     "iopub.status.idle": "2023-01-07T16:02:50.952590Z",
     "shell.execute_reply": "2023-01-07T16:02:50.952838Z"
    },
    "slideshow": {
     "slide_type": "subslide"
    }
   },
   "outputs": [
    {
     "name": "stdout",
     "output_type": "stream",
     "text": [
      "\u001b[34mdef\u001b[39;49;00m \u001b[32mcall_test\u001b[39;49;00m() -> \u001b[36mint\u001b[39;49;00m:\u001b[37m\u001b[39;49;00m\n",
      "    c = _data.set(\u001b[33m'\u001b[39;49;00m\u001b[33mc\u001b[39;49;00m\u001b[33m'\u001b[39;49;00m, \u001b[34m47\u001b[39;49;00m)\u001b[37m\u001b[39;49;00m\n",
      "\u001b[37m\u001b[39;49;00m\n",
      "    \u001b[34mdef\u001b[39;49;00m \u001b[32msq\u001b[39;49;00m(n: \u001b[36mint\u001b[39;49;00m) -> \u001b[36mint\u001b[39;49;00m:\u001b[37m\u001b[39;49;00m\n",
      "        _data.param(\u001b[33m'\u001b[39;49;00m\u001b[33mn\u001b[39;49;00m\u001b[33m'\u001b[39;49;00m, n, pos=\u001b[34m1\u001b[39;49;00m, last=\u001b[34mTrue\u001b[39;49;00m)\u001b[37m\u001b[39;49;00m\n",
      "        \u001b[34mreturn\u001b[39;49;00m _data.set(\u001b[33m'\u001b[39;49;00m\u001b[33m<sq() return value>\u001b[39;49;00m\u001b[33m'\u001b[39;49;00m, _data.get(\u001b[33m'\u001b[39;49;00m\u001b[33mn\u001b[39;49;00m\u001b[33m'\u001b[39;49;00m, n) * _data.get(\u001b[33m'\u001b[39;49;00m\u001b[33mn\u001b[39;49;00m\u001b[33m'\u001b[39;49;00m, n))\u001b[37m\u001b[39;49;00m\n",
      "\u001b[37m\u001b[39;49;00m\n",
      "    \u001b[34mdef\u001b[39;49;00m \u001b[32mgen\u001b[39;49;00m(e: \u001b[36mint\u001b[39;49;00m) -> Generator[\u001b[36mint\u001b[39;49;00m, \u001b[34mNone\u001b[39;49;00m, \u001b[34mNone\u001b[39;49;00m]:\u001b[37m\u001b[39;49;00m\n",
      "        _data.param(\u001b[33m'\u001b[39;49;00m\u001b[33me\u001b[39;49;00m\u001b[33m'\u001b[39;49;00m, e, pos=\u001b[34m1\u001b[39;49;00m, last=\u001b[34mTrue\u001b[39;49;00m)\u001b[37m\u001b[39;49;00m\n",
      "        \u001b[34myield\u001b[39;49;00m _data.set(\u001b[33m'\u001b[39;49;00m\u001b[33m<gen() yield value>\u001b[39;49;00m\u001b[33m'\u001b[39;49;00m, _data.get(\u001b[33m'\u001b[39;49;00m\u001b[33me\u001b[39;49;00m\u001b[33m'\u001b[39;49;00m, e) * _data.get(\u001b[33m'\u001b[39;49;00m\u001b[33mc\u001b[39;49;00m\u001b[33m'\u001b[39;49;00m, c))\u001b[37m\u001b[39;49;00m\n",
      "\u001b[37m\u001b[39;49;00m\n",
      "    \u001b[34mdef\u001b[39;49;00m \u001b[32mjust_x\u001b[39;49;00m(x: Any, y: Any) -> Any:\u001b[37m\u001b[39;49;00m\n",
      "        _data.param(\u001b[33m'\u001b[39;49;00m\u001b[33mx\u001b[39;49;00m\u001b[33m'\u001b[39;49;00m, x, pos=\u001b[34m1\u001b[39;49;00m)\u001b[37m\u001b[39;49;00m\n",
      "        _data.param(\u001b[33m'\u001b[39;49;00m\u001b[33my\u001b[39;49;00m\u001b[33m'\u001b[39;49;00m, y, pos=\u001b[34m2\u001b[39;49;00m, last=\u001b[34mTrue\u001b[39;49;00m)\u001b[37m\u001b[39;49;00m\n",
      "        \u001b[34mreturn\u001b[39;49;00m _data.set(\u001b[33m'\u001b[39;49;00m\u001b[33m<just_x() return value>\u001b[39;49;00m\u001b[33m'\u001b[39;49;00m, _data.get(\u001b[33m'\u001b[39;49;00m\u001b[33mx\u001b[39;49;00m\u001b[33m'\u001b[39;49;00m, x))\u001b[37m\u001b[39;49;00m\n",
      "    a = _data.set(\u001b[33m'\u001b[39;49;00m\u001b[33ma\u001b[39;49;00m\u001b[33m'\u001b[39;49;00m, \u001b[34m42\u001b[39;49;00m)\u001b[37m\u001b[39;49;00m\n",
      "    b = _data.set(\u001b[33m'\u001b[39;49;00m\u001b[33mb\u001b[39;49;00m\u001b[33m'\u001b[39;49;00m, _data.ret(_data.call(_data.get(\u001b[33m'\u001b[39;49;00m\u001b[33mgen\u001b[39;49;00m\u001b[33m'\u001b[39;49;00m, gen))(_data.arg(_data.get(\u001b[33m'\u001b[39;49;00m\u001b[33ma\u001b[39;49;00m\u001b[33m'\u001b[39;49;00m, a), pos=\u001b[34m1\u001b[39;49;00m))))\u001b[37m\u001b[39;49;00m\n",
      "    d = _data.set(\u001b[33m'\u001b[39;49;00m\u001b[33md\u001b[39;49;00m\u001b[33m'\u001b[39;49;00m, _data.ret(_data.call(\u001b[36mlist\u001b[39;49;00m)(_data.arg(_data.get(\u001b[33m'\u001b[39;49;00m\u001b[33mb\u001b[39;49;00m\u001b[33m'\u001b[39;49;00m, b), pos=\u001b[34m1\u001b[39;49;00m)))[\u001b[34m0\u001b[39;49;00m])\u001b[37m\u001b[39;49;00m\n",
      "    xs = _data.set(\u001b[33m'\u001b[39;49;00m\u001b[33mxs\u001b[39;49;00m\u001b[33m'\u001b[39;49;00m, [\u001b[34m1\u001b[39;49;00m, \u001b[34m2\u001b[39;49;00m, \u001b[34m3\u001b[39;49;00m, \u001b[34m4\u001b[39;49;00m])\u001b[37m\u001b[39;49;00m\n",
      "    ys = _data.set(\u001b[33m'\u001b[39;49;00m\u001b[33mys\u001b[39;49;00m\u001b[33m'\u001b[39;49;00m, [_data.ret(_data.call(_data.get(\u001b[33m'\u001b[39;49;00m\u001b[33msq\u001b[39;49;00m\u001b[33m'\u001b[39;49;00m, sq))(_data.arg(_data.get(\u001b[33m'\u001b[39;49;00m\u001b[33melem\u001b[39;49;00m\u001b[33m'\u001b[39;49;00m, elem), pos=\u001b[34m1\u001b[39;49;00m))) \u001b[34mfor\u001b[39;49;00m elem \u001b[35min\u001b[39;49;00m _data.set(\u001b[33m'\u001b[39;49;00m\u001b[33melem\u001b[39;49;00m\u001b[33m'\u001b[39;49;00m, _data.get(\u001b[33m'\u001b[39;49;00m\u001b[33mxs\u001b[39;49;00m\u001b[33m'\u001b[39;49;00m, xs)) \u001b[34mif\u001b[39;49;00m _data.get(\u001b[33m'\u001b[39;49;00m\u001b[33melem\u001b[39;49;00m\u001b[33m'\u001b[39;49;00m, elem) > \u001b[34m2\u001b[39;49;00m])\u001b[37m\u001b[39;49;00m\n",
      "    \u001b[34mreturn\u001b[39;49;00m _data.set(\u001b[33m'\u001b[39;49;00m\u001b[33m<call_test() return value>\u001b[39;49;00m\u001b[33m'\u001b[39;49;00m, _data.ret(_data.call(_data.get(\u001b[33m'\u001b[39;49;00m\u001b[33mjust_x\u001b[39;49;00m\u001b[33m'\u001b[39;49;00m, just_x))(_data.arg(_data.ret(_data.call(_data.get(\u001b[33m'\u001b[39;49;00m\u001b[33mjust_x\u001b[39;49;00m\u001b[33m'\u001b[39;49;00m, just_x))(_data.arg(_data.get(\u001b[33m'\u001b[39;49;00m\u001b[33md\u001b[39;49;00m\u001b[33m'\u001b[39;49;00m, d), pos=\u001b[34m1\u001b[39;49;00m), y=_data.arg(_data.get(\u001b[33m'\u001b[39;49;00m\u001b[33mb\u001b[39;49;00m\u001b[33m'\u001b[39;49;00m, b), kw=\u001b[33m'\u001b[39;49;00m\u001b[33my\u001b[39;49;00m\u001b[33m'\u001b[39;49;00m))), pos=\u001b[34m1\u001b[39;49;00m), _data.arg(_data.get(\u001b[33m'\u001b[39;49;00m\u001b[33mys\u001b[39;49;00m\u001b[33m'\u001b[39;49;00m, ys)[\u001b[34m0\u001b[39;49;00m], pos=\u001b[34m2\u001b[39;49;00m))))\u001b[37m\u001b[39;49;00m"
     ]
    }
   ],
   "source": [
    "call_tree = ast.parse(inspect.getsource(call_test))\n",
    "TrackCallTransformer().visit(call_tree)\n",
    "TrackSetTransformer().visit(call_tree)\n",
    "TrackGetTransformer().visit(call_tree)\n",
    "TrackControlTransformer().visit(call_tree)\n",
    "TrackReturnTransformer().visit(call_tree)\n",
    "TrackParamsTransformer().visit(call_tree)\n",
    "dump_tree(call_tree)"
   ]
  },
  {
   "cell_type": "markdown",
   "metadata": {
    "slideshow": {
     "slide_type": "subslide"
    }
   },
   "source": [
    "Again, we capture the dependencies:"
   ]
  },
  {
   "cell_type": "code",
   "execution_count": 178,
   "metadata": {
    "execution": {
     "iopub.execute_input": "2023-01-07T16:02:50.954939Z",
     "iopub.status.busy": "2023-01-07T16:02:50.954666Z",
     "iopub.status.idle": "2023-01-07T16:02:50.955833Z",
     "shell.execute_reply": "2023-01-07T16:02:50.956074Z"
    },
    "slideshow": {
     "slide_type": "fragment"
    }
   },
   "outputs": [],
   "source": [
    "class DependencyTrackerTester(DataTrackerTester):\n",
    "    def make_data_tracker(self) -> DependencyTracker:\n",
    "        return DependencyTracker(log=self.log)"
   ]
  },
  {
   "cell_type": "code",
   "execution_count": 179,
   "metadata": {
    "execution": {
     "iopub.execute_input": "2023-01-07T16:02:50.959432Z",
     "iopub.status.busy": "2023-01-07T16:02:50.959072Z",
     "iopub.status.idle": "2023-01-07T16:02:50.960350Z",
     "shell.execute_reply": "2023-01-07T16:02:50.960600Z"
    },
    "slideshow": {
     "slide_type": "fragment"
    }
   },
   "outputs": [],
   "source": [
    "with DependencyTrackerTester(call_tree, call_test, log=False) as call_deps:\n",
    "    call_test()"
   ]
  },
  {
   "cell_type": "markdown",
   "metadata": {
    "slideshow": {
     "slide_type": "fragment"
    }
   },
   "source": [
    "We see how \n",
    "\n",
    "* `a` flows into the generator `b` and into the parameter `e` of `gen()`.\n",
    "* `xs` flows into `elem` which in turn flows into the parameter `n` of `sq()`. Both flow into `ys`.\n",
    "* `just_x()` returns only its `x` argument."
   ]
  },
  {
   "cell_type": "code",
   "execution_count": 180,
   "metadata": {
    "execution": {
     "iopub.execute_input": "2023-01-07T16:02:50.963110Z",
     "iopub.status.busy": "2023-01-07T16:02:50.962752Z",
     "iopub.status.idle": "2023-01-07T16:02:51.259200Z",
     "shell.execute_reply": "2023-01-07T16:02:51.259471Z"
    },
    "slideshow": {
     "slide_type": "subslide"
    }
   },
   "outputs": [
    {
     "data": {
      "image/svg+xml": [
       "<?xml version=\"1.0\" encoding=\"UTF-8\" standalone=\"no\"?>\n",
       "<!DOCTYPE svg PUBLIC \"-//W3C//DTD SVG 1.1//EN\"\n",
       " \"http://www.w3.org/Graphics/SVG/1.1/DTD/svg11.dtd\">\n",
       "<!-- Generated by graphviz version 7.0.2 (20221119.0110)\n",
       " -->\n",
       "<!-- Title: dependencies Pages: 1 -->\n",
       "<svg width=\"740pt\" height=\"656pt\"\n",
       " viewBox=\"0.00 0.00 740.00 656.00\" xmlns=\"http://www.w3.org/2000/svg\" xmlns:xlink=\"http://www.w3.org/1999/xlink\">\n",
       "<g id=\"graph0\" class=\"graph\" transform=\"scale(1 1) rotate(0) translate(4 652)\">\n",
       "<title>dependencies</title>\n",
       "<polygon fill=\"white\" stroke=\"none\" points=\"-4,4 -4,-652 736,-652 736,4 -4,4\"/>\n",
       "<!-- genyieldvalue_functioncall_testlocalsgenat0x11afa0700_8 -->\n",
       "<g id=\"node1\" class=\"node\">\n",
       "<title>genyieldvalue_functioncall_testlocalsgenat0x11afa0700_8</title>\n",
       "<g id=\"a_node1\"><a xlink:title=\"gen:8\">\n",
       "<polygon fill=\"peachpuff\" stroke=\"black\" points=\"614,-420 441,-420 441,-380 614,-380 614,-420\"/>\n",
       "<text text-anchor=\"start\" x=\"449\" y=\"-405.8\" font-family=\"Courier,monospace\" font-weight=\"bold\" font-style=\"italic\" font-size=\"14.00\">&lt;gen() yield value&gt;</text>\n",
       "<text text-anchor=\"start\" x=\"498.5\" y=\"-386.8\" font-family=\"Courier,monospace\" font-size=\"9.00\">yield e * c</text>\n",
       "</a>\n",
       "</g>\n",
       "</g>\n",
       "<!-- d_functioncall_testat0x107e49510_15 -->\n",
       "<g id=\"node10\" class=\"node\">\n",
       "<title>d_functioncall_testat0x107e49510_15</title>\n",
       "<g id=\"a_node10\"><a xlink:title=\"call_test:15\">\n",
       "<polygon fill=\"peachpuff\" stroke=\"black\" points=\"489.5,-344 399.5,-344 399.5,-304 489.5,-304 489.5,-344\"/>\n",
       "<text text-anchor=\"start\" x=\"440\" y=\"-329.8\" font-family=\"Courier,monospace\" font-weight=\"bold\" font-size=\"14.00\">d</text>\n",
       "<text text-anchor=\"start\" x=\"407.5\" y=\"-310.8\" font-family=\"Courier,monospace\" font-size=\"9.00\">d = list(b)[0]</text>\n",
       "</a>\n",
       "</g>\n",
       "</g>\n",
       "<!-- genyieldvalue_functioncall_testlocalsgenat0x11afa0700_8&#45;&gt;d_functioncall_testat0x107e49510_15 -->\n",
       "<g id=\"edge7\" class=\"edge\">\n",
       "<title>genyieldvalue_functioncall_testlocalsgenat0x11afa0700_8&#45;&gt;d_functioncall_testat0x107e49510_15</title>\n",
       "<path fill=\"none\" stroke=\"black\" d=\"M505.69,-379.56C496.16,-371.06 484.83,-360.95 474.52,-351.76\"/>\n",
       "<polygon fill=\"black\" stroke=\"black\" points=\"477.08,-349.36 467.29,-345.32 472.43,-354.59 477.08,-349.36\"/>\n",
       "</g>\n",
       "<!-- c_functioncall_testat0x107e49510_2 -->\n",
       "<g id=\"node2\" class=\"node\">\n",
       "<title>c_functioncall_testat0x107e49510_2</title>\n",
       "<g id=\"a_node2\"><a xlink:title=\"call_test:2\">\n",
       "<polygon fill=\"peachpuff\" stroke=\"black\" points=\"549.5,-648 495.5,-648 495.5,-608 549.5,-608 549.5,-648\"/>\n",
       "<text text-anchor=\"start\" x=\"518\" y=\"-633.8\" font-family=\"Courier,monospace\" font-weight=\"bold\" font-size=\"14.00\">c</text>\n",
       "<text text-anchor=\"start\" x=\"506.5\" y=\"-614.8\" font-family=\"Courier,monospace\" font-size=\"9.00\">c = 47</text>\n",
       "</a>\n",
       "</g>\n",
       "</g>\n",
       "<!-- c_functioncall_testat0x107e49510_2&#45;&gt;genyieldvalue_functioncall_testlocalsgenat0x11afa0700_8 -->\n",
       "<g id=\"edge1\" class=\"edge\">\n",
       "<title>c_functioncall_testat0x107e49510_2&#45;&gt;genyieldvalue_functioncall_testlocalsgenat0x11afa0700_8</title>\n",
       "<path fill=\"none\" stroke=\"black\" d=\"M549.85,-611.79C584.32,-590.87 641.9,-549.62 665.5,-496 672.66,-479.73 675.48,-470.71 665.5,-456 655.43,-441.15 640.65,-430.31 624.45,-422.4\"/>\n",
       "<polygon fill=\"black\" stroke=\"black\" points=\"626.15,-419.32 615.6,-418.45 623.31,-425.72 626.15,-419.32\"/>\n",
       "</g>\n",
       "<!-- a_functioncall_testat0x107e49510_13 -->\n",
       "<g id=\"node13\" class=\"node\">\n",
       "<title>a_functioncall_testat0x107e49510_13</title>\n",
       "<g id=\"a_node13\"><a xlink:title=\"call_test:13\">\n",
       "<polygon fill=\"peachpuff\" stroke=\"black\" points=\"471.5,-572 417.5,-572 417.5,-532 471.5,-532 471.5,-572\"/>\n",
       "<text text-anchor=\"start\" x=\"440\" y=\"-557.8\" font-family=\"Courier,monospace\" font-weight=\"bold\" font-size=\"14.00\">a</text>\n",
       "<text text-anchor=\"start\" x=\"428.5\" y=\"-538.8\" font-family=\"Courier,monospace\" font-size=\"9.00\">a = 42</text>\n",
       "</a>\n",
       "</g>\n",
       "</g>\n",
       "<!-- c_functioncall_testat0x107e49510_2&#45;&gt;a_functioncall_testat0x107e49510_13 -->\n",
       "<!-- e_functioncall_testlocalsgenat0x11afa0700_7 -->\n",
       "<g id=\"node3\" class=\"node\">\n",
       "<title>e_functioncall_testlocalsgenat0x11afa0700_7</title>\n",
       "<g id=\"a_node3\"><a xlink:title=\"gen:7\">\n",
       "<polygon fill=\"peachpuff\" stroke=\"black\" points=\"656.5,-496 398.5,-496 398.5,-456 656.5,-456 656.5,-496\"/>\n",
       "<text text-anchor=\"start\" x=\"523\" y=\"-481.8\" font-family=\"Courier,monospace\" font-weight=\"bold\" font-size=\"14.00\">e</text>\n",
       "<text text-anchor=\"start\" x=\"406.5\" y=\"-462.8\" font-family=\"Courier,monospace\" font-size=\"9.00\">def gen(e: int) &#45;&gt; Generator[int, None, None]:</text>\n",
       "</a>\n",
       "</g>\n",
       "</g>\n",
       "<!-- e_functioncall_testlocalsgenat0x11afa0700_7&#45;&gt;genyieldvalue_functioncall_testlocalsgenat0x11afa0700_8 -->\n",
       "<g id=\"edge2\" class=\"edge\">\n",
       "<title>e_functioncall_testlocalsgenat0x11afa0700_7&#45;&gt;genyieldvalue_functioncall_testlocalsgenat0x11afa0700_8</title>\n",
       "<path fill=\"none\" stroke=\"black\" d=\"M521.48,-455.56C520.82,-448.25 520.61,-439.75 520.84,-431.67\"/>\n",
       "<polygon fill=\"black\" stroke=\"black\" points=\"524.32,-432.01 521.4,-421.82 517.34,-431.61 524.32,-432.01\"/>\n",
       "</g>\n",
       "<!-- e_functioncall_testlocalsgenat0x11afa0700_7&#45;&gt;genyieldvalue_functioncall_testlocalsgenat0x11afa0700_8 -->\n",
       "<!-- xs_functioncall_testat0x107e49510_17 -->\n",
       "<g id=\"node4\" class=\"node\">\n",
       "<title>xs_functioncall_testat0x107e49510_17</title>\n",
       "<g id=\"a_node4\"><a xlink:title=\"call_test:17\">\n",
       "<polygon fill=\"peachpuff\" stroke=\"black\" points=\"666.5,-268 560.5,-268 560.5,-228 666.5,-228 666.5,-268\"/>\n",
       "<text text-anchor=\"start\" x=\"605\" y=\"-253.8\" font-family=\"Courier,monospace\" font-weight=\"bold\" font-size=\"14.00\">xs</text>\n",
       "<text text-anchor=\"start\" x=\"568.5\" y=\"-234.8\" font-family=\"Courier,monospace\" font-size=\"9.00\">xs = [1, 2, 3, 4]</text>\n",
       "</a>\n",
       "</g>\n",
       "</g>\n",
       "<!-- elem_functioncall_testat0x107e49510_18 -->\n",
       "<g id=\"node5\" class=\"node\">\n",
       "<title>elem_functioncall_testat0x107e49510_18</title>\n",
       "<g id=\"a_node5\"><a xlink:title=\"call_test:18\">\n",
       "<polygon fill=\"peachpuff\" stroke=\"black\" points=\"732,-192 495,-192 495,-152 732,-152 732,-192\"/>\n",
       "<text text-anchor=\"start\" x=\"596.5\" y=\"-177.8\" font-family=\"Courier,monospace\" font-weight=\"bold\" font-size=\"14.00\">elem</text>\n",
       "<text text-anchor=\"start\" x=\"503\" y=\"-158.8\" font-family=\"Courier,monospace\" font-size=\"9.00\">ys = [sq(elem) for elem in xs if elem &gt; 2]</text>\n",
       "</a>\n",
       "</g>\n",
       "</g>\n",
       "<!-- xs_functioncall_testat0x107e49510_17&#45;&gt;elem_functioncall_testat0x107e49510_18 -->\n",
       "<g id=\"edge3\" class=\"edge\">\n",
       "<title>xs_functioncall_testat0x107e49510_17&#45;&gt;elem_functioncall_testat0x107e49510_18</title>\n",
       "<path fill=\"none\" stroke=\"black\" d=\"M607.48,-227.56C606.82,-220.25 606.61,-211.75 606.84,-203.67\"/>\n",
       "<polygon fill=\"black\" stroke=\"black\" points=\"610.32,-204.01 607.4,-193.82 603.34,-203.61 610.32,-204.01\"/>\n",
       "</g>\n",
       "<!-- xs_functioncall_testat0x107e49510_17&#45;&gt;elem_functioncall_testat0x107e49510_18 -->\n",
       "<!-- n_functioncall_testlocalssqat0x107ba4f70_4 -->\n",
       "<g id=\"node12\" class=\"node\">\n",
       "<title>n_functioncall_testlocalssqat0x107ba4f70_4</title>\n",
       "<g id=\"a_node12\"><a xlink:title=\"sq:4\">\n",
       "<polygon fill=\"peachpuff\" stroke=\"black\" points=\"679.5,-116 547.5,-116 547.5,-76 679.5,-76 679.5,-116\"/>\n",
       "<text text-anchor=\"start\" x=\"609\" y=\"-101.8\" font-family=\"Courier,monospace\" font-weight=\"bold\" font-size=\"14.00\">n</text>\n",
       "<text text-anchor=\"start\" x=\"555.5\" y=\"-82.8\" font-family=\"Courier,monospace\" font-size=\"9.00\">def sq(n: int) &#45;&gt; int:</text>\n",
       "</a>\n",
       "</g>\n",
       "</g>\n",
       "<!-- elem_functioncall_testat0x107e49510_18&#45;&gt;n_functioncall_testlocalssqat0x107ba4f70_4 -->\n",
       "<g id=\"edge10\" class=\"edge\">\n",
       "<title>elem_functioncall_testat0x107e49510_18&#45;&gt;n_functioncall_testlocalssqat0x107ba4f70_4</title>\n",
       "<path fill=\"none\" stroke=\"black\" d=\"M613.5,-151.56C613.5,-144.25 613.5,-135.75 613.5,-127.67\"/>\n",
       "<polygon fill=\"black\" stroke=\"black\" points=\"617,-127.83 613.5,-117.83 610,-127.83 617,-127.83\"/>\n",
       "</g>\n",
       "<!-- call_testreturnvalue_functioncall_testat0x107e49510_20 -->\n",
       "<g id=\"node6\" class=\"node\">\n",
       "<title>call_testreturnvalue_functioncall_testat0x107e49510_20</title>\n",
       "<g id=\"a_node6\"><a xlink:title=\"call_test:20\">\n",
       "<polygon fill=\"peachpuff\" stroke=\"black\" points=\"288,-116 57,-116 57,-76 288,-76 288,-116\"/>\n",
       "<text text-anchor=\"start\" x=\"65\" y=\"-101.8\" font-family=\"Courier,monospace\" font-weight=\"bold\" font-style=\"italic\" font-size=\"14.00\">&lt;call_test() return value&gt;</text>\n",
       "<text text-anchor=\"start\" x=\"77.5\" y=\"-82.8\" font-family=\"Courier,monospace\" font-size=\"9.00\">return just_x(just_x(d, y=b), ys[0])</text>\n",
       "</a>\n",
       "</g>\n",
       "</g>\n",
       "<!-- just_xreturnvalue_functioncall_testlocalsjust_xat0x11afa0d30_11 -->\n",
       "<g id=\"node7\" class=\"node\">\n",
       "<title>just_xreturnvalue_functioncall_testlocalsjust_xat0x11afa0d30_11</title>\n",
       "<g id=\"a_node7\"><a xlink:title=\"just_x:11\">\n",
       "<polygon fill=\"peachpuff\" stroke=\"black\" points=\"409.5,-192 203.5,-192 203.5,-152 409.5,-152 409.5,-192\"/>\n",
       "<text text-anchor=\"start\" x=\"211.5\" y=\"-177.8\" font-family=\"Courier,monospace\" font-weight=\"bold\" font-style=\"italic\" font-size=\"14.00\">&lt;just_x() return value&gt;</text>\n",
       "<text text-anchor=\"start\" x=\"285\" y=\"-158.8\" font-family=\"Courier,monospace\" font-size=\"9.00\">return x</text>\n",
       "</a>\n",
       "</g>\n",
       "</g>\n",
       "<!-- just_xreturnvalue_functioncall_testlocalsjust_xat0x11afa0d30_11&#45;&gt;call_testreturnvalue_functioncall_testat0x107e49510_20 -->\n",
       "<g id=\"edge4\" class=\"edge\">\n",
       "<title>just_xreturnvalue_functioncall_testlocalsjust_xat0x11afa0d30_11&#45;&gt;call_testreturnvalue_functioncall_testat0x107e49510_20</title>\n",
       "<path fill=\"none\" stroke=\"black\" d=\"M271.29,-151.56C254.83,-142.47 235.03,-131.53 217.49,-121.85\"/>\n",
       "<polygon fill=\"black\" stroke=\"black\" points=\"219.24,-118.81 208.8,-117.04 215.86,-124.94 219.24,-118.81\"/>\n",
       "</g>\n",
       "<!-- x_functioncall_testlocalsjust_xat0x11afa0d30_10 -->\n",
       "<g id=\"node9\" class=\"node\">\n",
       "<title>x_functioncall_testlocalsjust_xat0x11afa0d30_10</title>\n",
       "<g id=\"a_node9\"><a xlink:title=\"just_x:10\">\n",
       "<polygon fill=\"peachpuff\" stroke=\"black\" points=\"542,-268 347,-268 347,-228 542,-228 542,-268\"/>\n",
       "<text text-anchor=\"start\" x=\"440\" y=\"-253.8\" font-family=\"Courier,monospace\" font-weight=\"bold\" font-size=\"14.00\">x</text>\n",
       "<text text-anchor=\"start\" x=\"355\" y=\"-234.8\" font-family=\"Courier,monospace\" font-size=\"9.00\">def just_x(x: Any, y: Any) &#45;&gt; Any:</text>\n",
       "</a>\n",
       "</g>\n",
       "</g>\n",
       "<!-- just_xreturnvalue_functioncall_testlocalsjust_xat0x11afa0d30_11&#45;&gt;x_functioncall_testlocalsjust_xat0x11afa0d30_10 -->\n",
       "<g id=\"edge9\" class=\"edge\">\n",
       "<title>just_xreturnvalue_functioncall_testlocalsjust_xat0x11afa0d30_11&#45;&gt;x_functioncall_testlocalsjust_xat0x11afa0d30_10</title>\n",
       "<path fill=\"none\" stroke=\"black\" d=\"M348.78,-192.44C366.48,-201.5 386.91,-212.38 404.37,-222.04\"/>\n",
       "<polygon fill=\"black\" stroke=\"black\" points=\"402.51,-225 412.94,-226.82 405.92,-218.89 402.51,-225\"/>\n",
       "</g>\n",
       "<!-- ys_functioncall_testat0x107e49510_18 -->\n",
       "<g id=\"node8\" class=\"node\">\n",
       "<title>ys_functioncall_testat0x107e49510_18</title>\n",
       "<g id=\"a_node8\"><a xlink:title=\"call_test:18\">\n",
       "<polygon fill=\"peachpuff\" stroke=\"black\" points=\"237,-344 0,-344 0,-304 237,-304 237,-344\"/>\n",
       "<text text-anchor=\"start\" x=\"110\" y=\"-329.8\" font-family=\"Courier,monospace\" font-weight=\"bold\" font-size=\"14.00\">ys</text>\n",
       "<text text-anchor=\"start\" x=\"8\" y=\"-310.8\" font-family=\"Courier,monospace\" font-size=\"9.00\">ys = [sq(elem) for elem in xs if elem &gt; 2]</text>\n",
       "</a>\n",
       "</g>\n",
       "</g>\n",
       "<!-- ys_functioncall_testat0x107e49510_18&#45;&gt;call_testreturnvalue_functioncall_testat0x107e49510_20 -->\n",
       "<!-- y_functioncall_testlocalsjust_xat0x11afa0d30_10 -->\n",
       "<g id=\"node14\" class=\"node\">\n",
       "<title>y_functioncall_testlocalsjust_xat0x11afa0d30_10</title>\n",
       "<g id=\"a_node14\"><a xlink:title=\"just_x:10\">\n",
       "<polygon fill=\"peachpuff\" stroke=\"black\" points=\"329,-268 134,-268 134,-228 329,-228 329,-268\"/>\n",
       "<text text-anchor=\"start\" x=\"227\" y=\"-253.8\" font-family=\"Courier,monospace\" font-weight=\"bold\" font-size=\"14.00\">y</text>\n",
       "<text text-anchor=\"start\" x=\"142\" y=\"-234.8\" font-family=\"Courier,monospace\" font-size=\"9.00\">def just_x(x: Any, y: Any) &#45;&gt; Any:</text>\n",
       "</a>\n",
       "</g>\n",
       "</g>\n",
       "<!-- ys_functioncall_testat0x107e49510_18&#45;&gt;y_functioncall_testlocalsjust_xat0x11afa0d30_10 -->\n",
       "<g id=\"edge12\" class=\"edge\">\n",
       "<title>ys_functioncall_testat0x107e49510_18&#45;&gt;y_functioncall_testlocalsjust_xat0x11afa0d30_10</title>\n",
       "<path fill=\"none\" stroke=\"black\" d=\"M148.19,-303.56C161.81,-294.63 178.15,-283.94 192.73,-274.39\"/>\n",
       "<polygon fill=\"black\" stroke=\"black\" points=\"194.29,-277.55 200.74,-269.14 190.46,-271.69 194.29,-277.55\"/>\n",
       "</g>\n",
       "<!-- x_functioncall_testlocalsjust_xat0x11afa0d30_10&#45;&gt;just_xreturnvalue_functioncall_testlocalsjust_xat0x11afa0d30_11 -->\n",
       "<g id=\"edge5\" class=\"edge\">\n",
       "<title>x_functioncall_testlocalsjust_xat0x11afa0d30_10&#45;&gt;just_xreturnvalue_functioncall_testlocalsjust_xat0x11afa0d30_11</title>\n",
       "<path fill=\"none\" stroke=\"black\" d=\"M402.22,-227.56C384.45,-218.47 363.93,-207.53 346.42,-197.85\"/>\n",
       "<polygon fill=\"black\" stroke=\"black\" points=\"348.26,-194.87 337.83,-193.05 344.85,-200.98 348.26,-194.87\"/>\n",
       "</g>\n",
       "<!-- d_functioncall_testat0x107e49510_15&#45;&gt;xs_functioncall_testat0x107e49510_17 -->\n",
       "<!-- d_functioncall_testat0x107e49510_15&#45;&gt;x_functioncall_testlocalsjust_xat0x11afa0d30_10 -->\n",
       "<g id=\"edge8\" class=\"edge\">\n",
       "<title>d_functioncall_testat0x107e49510_15&#45;&gt;x_functioncall_testlocalsjust_xat0x11afa0d30_10</title>\n",
       "<path fill=\"none\" stroke=\"black\" d=\"M444.5,-303.56C444.5,-296.25 444.5,-287.75 444.5,-279.67\"/>\n",
       "<polygon fill=\"black\" stroke=\"black\" points=\"448,-279.83 444.5,-269.83 441,-279.83 448,-279.83\"/>\n",
       "</g>\n",
       "<!-- b_functioncall_testat0x107e49510_14 -->\n",
       "<g id=\"node11\" class=\"node\">\n",
       "<title>b_functioncall_testat0x107e49510_14</title>\n",
       "<g id=\"a_node11\"><a xlink:title=\"call_test:14\">\n",
       "<polygon fill=\"peachpuff\" stroke=\"black\" points=\"396,-420 327,-420 327,-380 396,-380 396,-420\"/>\n",
       "<text text-anchor=\"start\" x=\"357\" y=\"-405.8\" font-family=\"Courier,monospace\" font-weight=\"bold\" font-size=\"14.00\">b</text>\n",
       "<text text-anchor=\"start\" x=\"335\" y=\"-386.8\" font-family=\"Courier,monospace\" font-size=\"9.00\">b = gen(a)</text>\n",
       "</a>\n",
       "</g>\n",
       "</g>\n",
       "<!-- b_functioncall_testat0x107e49510_14&#45;&gt;d_functioncall_testat0x107e49510_15 -->\n",
       "<g id=\"edge6\" class=\"edge\">\n",
       "<title>b_functioncall_testat0x107e49510_14&#45;&gt;d_functioncall_testat0x107e49510_15</title>\n",
       "<path fill=\"none\" stroke=\"black\" d=\"M377.28,-379.56C386.14,-370.97 397.45,-360.75 408.29,-351.49\"/>\n",
       "<polygon fill=\"black\" stroke=\"black\" points=\"410.26,-354.4 415.67,-345.29 405.76,-349.04 410.26,-354.4\"/>\n",
       "</g>\n",
       "<!-- b_functioncall_testat0x107e49510_14&#45;&gt;d_functioncall_testat0x107e49510_15 -->\n",
       "<!-- b_functioncall_testat0x107e49510_14&#45;&gt;y_functioncall_testlocalsjust_xat0x11afa0d30_10 -->\n",
       "<g id=\"edge11\" class=\"edge\">\n",
       "<title>b_functioncall_testat0x107e49510_14&#45;&gt;y_functioncall_testlocalsjust_xat0x11afa0d30_10</title>\n",
       "<path fill=\"none\" stroke=\"black\" d=\"M344.77,-379.7C322.05,-353.48 281.31,-306.47 255.38,-276.55\"/>\n",
       "<polygon fill=\"black\" stroke=\"black\" points=\"258.35,-274.64 249.16,-269.37 253.06,-279.22 258.35,-274.64\"/>\n",
       "</g>\n",
       "<!-- sqreturnvalue_functioncall_testlocalssqat0x107ba4f70_5 -->\n",
       "<g id=\"node15\" class=\"node\">\n",
       "<title>sqreturnvalue_functioncall_testlocalssqat0x107ba4f70_5</title>\n",
       "<g id=\"a_node15\"><a xlink:title=\"sq:5\">\n",
       "<polygon fill=\"peachpuff\" stroke=\"black\" points=\"700,-40 527,-40 527,0 700,0 700,-40\"/>\n",
       "<text text-anchor=\"start\" x=\"535\" y=\"-25.8\" font-family=\"Courier,monospace\" font-weight=\"bold\" font-style=\"italic\" font-size=\"14.00\">&lt;sq() return value&gt;</text>\n",
       "<text text-anchor=\"start\" x=\"581.5\" y=\"-6.8\" font-family=\"Courier,monospace\" font-size=\"9.00\">return n * n</text>\n",
       "</a>\n",
       "</g>\n",
       "</g>\n",
       "<!-- n_functioncall_testlocalssqat0x107ba4f70_4&#45;&gt;sqreturnvalue_functioncall_testlocalssqat0x107ba4f70_5 -->\n",
       "<g id=\"edge13\" class=\"edge\">\n",
       "<title>n_functioncall_testlocalssqat0x107ba4f70_4&#45;&gt;sqreturnvalue_functioncall_testlocalssqat0x107ba4f70_5</title>\n",
       "<path fill=\"none\" stroke=\"black\" d=\"M607.48,-75.56C606.82,-68.25 606.61,-59.75 606.84,-51.67\"/>\n",
       "<polygon fill=\"black\" stroke=\"black\" points=\"610.32,-52.01 607.4,-41.82 603.34,-51.61 610.32,-52.01\"/>\n",
       "</g>\n",
       "<!-- n_functioncall_testlocalssqat0x107ba4f70_4&#45;&gt;sqreturnvalue_functioncall_testlocalssqat0x107ba4f70_5 -->\n",
       "<!-- a_functioncall_testat0x107e49510_13&#45;&gt;e_functioncall_testlocalsgenat0x11afa0700_7 -->\n",
       "<g id=\"edge15\" class=\"edge\">\n",
       "<title>a_functioncall_testat0x107e49510_13&#45;&gt;e_functioncall_testlocalsgenat0x11afa0700_7</title>\n",
       "<path fill=\"none\" stroke=\"black\" d=\"M466.31,-531.56C475.84,-523.06 487.17,-512.95 497.48,-503.76\"/>\n",
       "<polygon fill=\"black\" stroke=\"black\" points=\"499.57,-506.59 504.71,-497.32 494.92,-501.36 499.57,-506.59\"/>\n",
       "</g>\n",
       "<!-- a_functioncall_testat0x107e49510_13&#45;&gt;b_functioncall_testat0x107e49510_14 -->\n",
       "<g id=\"edge14\" class=\"edge\">\n",
       "<title>a_functioncall_testat0x107e49510_13&#45;&gt;b_functioncall_testat0x107e49510_14</title>\n",
       "<path fill=\"none\" stroke=\"black\" d=\"M417.22,-535.8C404.16,-525.68 389.67,-511.44 380.5,-496 368.72,-476.17 361.6,-451.03 358.78,-431.6\"/>\n",
       "<polygon fill=\"black\" stroke=\"black\" points=\"362.28,-431.41 357.74,-421.84 355.32,-432.15 362.28,-431.41\"/>\n",
       "</g>\n",
       "<!-- a_functioncall_testat0x107e49510_13&#45;&gt;b_functioncall_testat0x107e49510_14 -->\n",
       "<!-- y_functioncall_testlocalsjust_xat0x11afa0d30_10&#45;&gt;just_xreturnvalue_functioncall_testlocalsjust_xat0x11afa0d30_11 -->\n",
       "</g>\n",
       "</svg>\n"
      ],
      "text/plain": [
       "Dependencies(\n",
       "    data={\n",
       "        ('c', (call_test, 2)): set(),\n",
       "        ('a', (call_test, 13)): set(),\n",
       "        ('b', (call_test, 14)): {('a', (call_test, 13))},\n",
       "        ('e', (gen, 7)): {('a', (call_test, 13))},\n",
       "        ('<gen() yield value>', (gen, 8)): {('c', (call_test, 2)), ('e', (gen, 7))},\n",
       "        ('d', (call_test, 15)): {('b', (call_test, 14)), ('<gen() yield value>', (gen, 8))},\n",
       "        ('xs', (call_test, 17)): set(),\n",
       "        ('elem', (call_test, 18)): {('xs', (call_test, 17))},\n",
       "        ('n', (sq, 4)): {('elem', (call_test, 18))},\n",
       "        ('<sq() return value>', (sq, 5)): {('n', (sq, 4))},\n",
       "        ('ys', (call_test, 18)): set(),\n",
       "        ('x', (just_x, 10)): {('d', (call_test, 15)), ('<just_x() return value>', (just_x, 11))},\n",
       "        ('y', (just_x, 10)): {('b', (call_test, 14)), ('ys', (call_test, 18))},\n",
       "        ('<just_x() return value>', (just_x, 11)): {('x', (just_x, 10))},\n",
       "        ('<call_test() return value>', (call_test, 20)): {('<just_x() return value>', (just_x, 11))}},\n",
       " control={\n",
       "        ('c', (call_test, 2)): set(),\n",
       "        ('a', (call_test, 13)): set(),\n",
       "        ('b', (call_test, 14)): set(),\n",
       "        ('e', (gen, 7)): set(),\n",
       "        ('<gen() yield value>', (gen, 8)): set(),\n",
       "        ('d', (call_test, 15)): set(),\n",
       "        ('xs', (call_test, 17)): set(),\n",
       "        ('elem', (call_test, 18)): set(),\n",
       "        ('n', (sq, 4)): set(),\n",
       "        ('<sq() return value>', (sq, 5)): set(),\n",
       "        ('ys', (call_test, 18)): set(),\n",
       "        ('x', (just_x, 10)): set(),\n",
       "        ('y', (just_x, 10)): set(),\n",
       "        ('<just_x() return value>', (just_x, 11)): set(),\n",
       "        ('<call_test() return value>', (call_test, 20)): set()})"
      ]
     },
     "execution_count": 180,
     "metadata": {},
     "output_type": "execute_result"
    }
   ],
   "source": [
    "call_deps.dependencies()"
   ]
  },
  {
   "cell_type": "markdown",
   "metadata": {
    "slideshow": {
     "slide_type": "subslide"
    }
   },
   "source": [
    "The `code()` view lists each function separately:"
   ]
  },
  {
   "cell_type": "code",
   "execution_count": 181,
   "metadata": {
    "execution": {
     "iopub.execute_input": "2023-01-07T16:02:51.261720Z",
     "iopub.status.busy": "2023-01-07T16:02:51.261372Z",
     "iopub.status.idle": "2023-01-07T16:02:52.041180Z",
     "shell.execute_reply": "2023-01-07T16:02:52.041451Z"
    },
    "slideshow": {
     "slide_type": "subslide"
    }
   },
   "outputs": [
    {
     "name": "stdout",
     "output_type": "stream",
     "text": [
      "*    7     \u001b[34mdef\u001b[39;49;00m \u001b[32mgen\u001b[39;49;00m(e: \u001b[36mint\u001b[39;49;00m) -> Generator[\u001b[36mint\u001b[39;49;00m, \u001b[34mNone\u001b[39;49;00m, \u001b[34mNone\u001b[39;49;00m]:  \u001b[37m# <= a (call_test:13)\u001b[39;49;00m\u001b[37m\u001b[39;49;00m\n",
      "*    8         \u001b[34myield\u001b[39;49;00m e * c  \u001b[37m# <= c (call_test:2), e (7)\u001b[39;49;00m\u001b[37m\u001b[39;49;00m\n",
      "\n",
      "     1 \u001b[34mdef\u001b[39;49;00m \u001b[32mcall_test\u001b[39;49;00m() -> \u001b[36mint\u001b[39;49;00m:\u001b[37m\u001b[39;49;00m\n",
      "*    2     c = \u001b[34m47\u001b[39;49;00m\u001b[37m\u001b[39;49;00m\n",
      "     3 \u001b[37m\u001b[39;49;00m\n",
      "     4     \u001b[34mdef\u001b[39;49;00m \u001b[32msq\u001b[39;49;00m(n: \u001b[36mint\u001b[39;49;00m) -> \u001b[36mint\u001b[39;49;00m:\u001b[37m\u001b[39;49;00m\n",
      "     5         \u001b[34mreturn\u001b[39;49;00m n * n\u001b[37m\u001b[39;49;00m\n",
      "     6 \u001b[37m\u001b[39;49;00m\n",
      "     7     \u001b[34mdef\u001b[39;49;00m \u001b[32mgen\u001b[39;49;00m(e: \u001b[36mint\u001b[39;49;00m) -> Generator[\u001b[36mint\u001b[39;49;00m, \u001b[34mNone\u001b[39;49;00m, \u001b[34mNone\u001b[39;49;00m]:\u001b[37m\u001b[39;49;00m\n",
      "     8         \u001b[34myield\u001b[39;49;00m e * c\u001b[37m\u001b[39;49;00m\n",
      "     9 \u001b[37m\u001b[39;49;00m\n",
      "    10     \u001b[34mdef\u001b[39;49;00m \u001b[32mjust_x\u001b[39;49;00m(x: Any, y: Any) -> Any:\u001b[37m\u001b[39;49;00m\n",
      "    11         \u001b[34mreturn\u001b[39;49;00m x\u001b[37m\u001b[39;49;00m\n",
      "    12 \u001b[37m\u001b[39;49;00m\n",
      "*   13     a = \u001b[34m42\u001b[39;49;00m\u001b[37m\u001b[39;49;00m\n",
      "*   14     b = gen(a)  \u001b[37m# <= a (13)\u001b[39;49;00m\u001b[37m\u001b[39;49;00m\n",
      "*   15     d = \u001b[36mlist\u001b[39;49;00m(b)[\u001b[34m0\u001b[39;49;00m]  \u001b[37m# <= b (14), <gen() yield value> (gen:8)\u001b[39;49;00m\u001b[37m\u001b[39;49;00m\n",
      "    16 \u001b[37m\u001b[39;49;00m\n",
      "*   17     xs = [\u001b[34m1\u001b[39;49;00m, \u001b[34m2\u001b[39;49;00m, \u001b[34m3\u001b[39;49;00m, \u001b[34m4\u001b[39;49;00m]\u001b[37m\u001b[39;49;00m\n",
      "*   18     ys = [sq(elem) \u001b[34mfor\u001b[39;49;00m elem \u001b[35min\u001b[39;49;00m xs \u001b[34mif\u001b[39;49;00m elem > \u001b[34m2\u001b[39;49;00m]  \u001b[37m# <= xs (17)\u001b[39;49;00m\u001b[37m\u001b[39;49;00m\n",
      "    19 \u001b[37m\u001b[39;49;00m\n",
      "*   20     \u001b[34mreturn\u001b[39;49;00m just_x(just_x(d, y=b), ys[\u001b[34m0\u001b[39;49;00m])  \u001b[37m# <= <just_x() return value> (just_x:11)\u001b[39;49;00m\u001b[37m\u001b[39;49;00m\n",
      "\n",
      "*   10     \u001b[34mdef\u001b[39;49;00m \u001b[32mjust_x\u001b[39;49;00m(x: Any, y: Any) -> Any:  \u001b[37m# <= d (call_test:15), <just_x() return value> (11), b (call_test:14), ys (call_test:18)\u001b[39;49;00m\u001b[37m\u001b[39;49;00m\n",
      "*   11         \u001b[34mreturn\u001b[39;49;00m x  \u001b[37m# <= x (10)\u001b[39;49;00m\u001b[37m\u001b[39;49;00m\n",
      "\n",
      "*    4     \u001b[34mdef\u001b[39;49;00m \u001b[32msq\u001b[39;49;00m(n: \u001b[36mint\u001b[39;49;00m) -> \u001b[36mint\u001b[39;49;00m:  \u001b[37m# <= elem (call_test:18)\u001b[39;49;00m\u001b[37m\u001b[39;49;00m\n",
      "*    5         \u001b[34mreturn\u001b[39;49;00m n * n  \u001b[37m# <= n (4)\u001b[39;49;00m\u001b[37m\u001b[39;49;00m\n"
     ]
    }
   ],
   "source": [
    "call_deps.dependencies().code()"
   ]
  },
  {
   "cell_type": "markdown",
   "metadata": {
    "slideshow": {
     "slide_type": "subslide"
    }
   },
   "source": [
    "### End of Excursion"
   ]
  },
  {
   "cell_type": "markdown",
   "metadata": {
    "slideshow": {
     "slide_type": "subslide"
    }
   },
   "source": [
    "### Excursion: Diagnostics"
   ]
  },
  {
   "cell_type": "markdown",
   "metadata": {
    "slideshow": {
     "slide_type": "fragment"
    }
   },
   "source": [
    "To check the dependencies we obtain, we perform some minimal checks on whether a referenced variable actually also occurs in the source code."
   ]
  },
  {
   "cell_type": "code",
   "execution_count": 182,
   "metadata": {
    "execution": {
     "iopub.execute_input": "2023-01-07T16:02:52.043700Z",
     "iopub.status.busy": "2023-01-07T16:02:52.043395Z",
     "iopub.status.idle": "2023-01-07T16:02:52.044562Z",
     "shell.execute_reply": "2023-01-07T16:02:52.044764Z"
    },
    "slideshow": {
     "slide_type": "skip"
    }
   },
   "outputs": [],
   "source": [
    "import re"
   ]
  },
  {
   "cell_type": "code",
   "execution_count": 183,
   "metadata": {
    "execution": {
     "iopub.execute_input": "2023-01-07T16:02:52.048271Z",
     "iopub.status.busy": "2023-01-07T16:02:52.047956Z",
     "iopub.status.idle": "2023-01-07T16:02:52.049105Z",
     "shell.execute_reply": "2023-01-07T16:02:52.049362Z"
    },
    "ipub": {
     "ignore": true
    },
    "slideshow": {
     "slide_type": "subslide"
    }
   },
   "outputs": [],
   "source": [
    "class Dependencies(Dependencies):\n",
    "    def validate(self) -> None:\n",
    "        \"\"\"Perform a simple syntactic validation of dependencies\"\"\"\n",
    "        super().validate()\n",
    "\n",
    "        for var in self.all_vars():\n",
    "            source = self.source(var)\n",
    "            if not source:\n",
    "                continue\n",
    "            if source.startswith('<'):\n",
    "                continue   # no source\n",
    "\n",
    "            for dep_var in self.data[var] | self.control[var]:\n",
    "                dep_name, dep_location = dep_var\n",
    "\n",
    "                if dep_name == DependencyTracker.TEST:\n",
    "                    continue  # dependency on <test>\n",
    "\n",
    "                if dep_name.endswith(' value>'):\n",
    "                    if source.find('(') < 0:\n",
    "                        warnings.warn(f\"Warning: {self.format_var(var)} \"\n",
    "                                  f\"depends on {self.format_var(dep_var)}, \"\n",
    "                                  f\"but {repr(source)} does not \"\n",
    "                                  f\"seem to have a call\")\n",
    "                    continue\n",
    "\n",
    "                if source.startswith('def'):\n",
    "                    continue   # function call\n",
    "\n",
    "                rx = re.compile(r'\\b' + dep_name + r'\\b')\n",
    "                if rx.search(source) is None:\n",
    "                    warnings.warn(f\"{self.format_var(var)} \"\n",
    "                              f\"depends on {self.format_var(dep_var)}, \"\n",
    "                              f\"but {repr(dep_name)} does not occur \"\n",
    "                              f\"in {repr(source)}\")"
   ]
  },
  {
   "cell_type": "markdown",
   "metadata": {
    "slideshow": {
     "slide_type": "subslide"
    }
   },
   "source": [
    "`validate()` is automatically called whenever dependencies are output, so if you see any of its error messages, something may be wrong."
   ]
  },
  {
   "cell_type": "markdown",
   "metadata": {
    "slideshow": {
     "slide_type": "subslide"
    }
   },
   "source": [
    "### End of Excursion"
   ]
  },
  {
   "cell_type": "markdown",
   "metadata": {
    "slideshow": {
     "slide_type": "fragment"
    }
   },
   "source": [
    "At this point, `DependencyTracker` is complete; we have all in place to track even complex dependencies in instrumented code."
   ]
  },
  {
   "cell_type": "markdown",
   "metadata": {
    "slideshow": {
     "slide_type": "slide"
    }
   },
   "source": [
    "## Slicing Code"
   ]
  },
  {
   "cell_type": "markdown",
   "metadata": {
    "slideshow": {
     "slide_type": "subslide"
    }
   },
   "source": [
    "Let us now put all these pieces together. We have a means to instrument the source code (our various `NodeTransformer` classes) and a means to track dependencies (the `DependencyTracker` class). Now comes the time to put all these things together in a single tool, which we call `Slicer`.\n",
    "\n",
    "The basic idea of `Slicer` is that you can use it as follows:\n",
    "\n",
    "```python\n",
    "with Slicer(func_1, func_2, ...) as slicer:\n",
    "    func(...)\n",
    "```\n",
    "\n",
    "which first _instruments_ the functions given in the constructor (i.e., replaces their definitions with instrumented counterparts), and then runs the code in the body, calling instrumented functions, and allowing the slicer to collect dependencies. When the body returns, the original definition of the instrumented functions is restored."
   ]
  },
  {
   "cell_type": "markdown",
   "metadata": {
    "slideshow": {
     "slide_type": "subslide"
    }
   },
   "source": [
    "### An Instrumenter Base Class"
   ]
  },
  {
   "cell_type": "markdown",
   "metadata": {
    "slideshow": {
     "slide_type": "fragment"
    }
   },
   "source": [
    "The basic functionality of instrumenting a number of functions (and restoring them at the end of the `with` block) comes in a `Instrumenter` base class. It invokes `instrument()` on all items to instrument; this is to be overloaded in subclasses."
   ]
  },
  {
   "cell_type": "code",
   "execution_count": 184,
   "metadata": {
    "execution": {
     "iopub.execute_input": "2023-01-07T16:02:52.052909Z",
     "iopub.status.busy": "2023-01-07T16:02:52.052601Z",
     "iopub.status.idle": "2023-01-07T16:02:52.053838Z",
     "shell.execute_reply": "2023-01-07T16:02:52.054097Z"
    },
    "slideshow": {
     "slide_type": "subslide"
    }
   },
   "outputs": [],
   "source": [
    "class Instrumenter(StackInspector):\n",
    "    \"\"\"Instrument functions for dynamic tracking\"\"\"\n",
    "\n",
    "    def __init__(self, *items_to_instrument: Callable,\n",
    "                 globals: Optional[Dict[str, Any]] = None,\n",
    "                 log: Union[bool, int] = False) -> None:\n",
    "        \"\"\"\n",
    "        Create an instrumenter.\n",
    "        `items_to_instrument` is a list of items to instrument.\n",
    "        `globals` is a namespace to use (default: caller's globals())\n",
    "        \"\"\"\n",
    "\n",
    "        self.log = log\n",
    "        self.items_to_instrument: List[Callable] = list(items_to_instrument)\n",
    "        self.instrumented_items: Set[Any] = set()\n",
    "\n",
    "        if globals is None:\n",
    "            globals = self.caller_globals()\n",
    "        self.globals = globals\n",
    "\n",
    "    def __enter__(self) -> Any:\n",
    "        \"\"\"Instrument sources\"\"\"\n",
    "        items = self.items_to_instrument\n",
    "        if not items:\n",
    "            items = self.default_items_to_instrument()\n",
    "\n",
    "        for item in items:\n",
    "            self.instrument(item)\n",
    "\n",
    "        return self\n",
    "\n",
    "    def default_items_to_instrument(self) -> List[Callable]:\n",
    "        return []\n",
    "\n",
    "    def instrument(self, item: Any) -> Any:\n",
    "        \"\"\"Instrument `item`. To be overloaded in subclasses.\"\"\"\n",
    "        if self.log:\n",
    "            print(\"Instrumenting\", item)\n",
    "        self.instrumented_items.add(item)\n",
    "        return item"
   ]
  },
  {
   "cell_type": "markdown",
   "metadata": {
    "slideshow": {
     "slide_type": "subslide"
    }
   },
   "source": [
    "At the end of the `with` block, we restore the given functions."
   ]
  },
  {
   "cell_type": "code",
   "execution_count": 185,
   "metadata": {
    "execution": {
     "iopub.execute_input": "2023-01-07T16:02:52.056190Z",
     "iopub.status.busy": "2023-01-07T16:02:52.055895Z",
     "iopub.status.idle": "2023-01-07T16:02:52.057191Z",
     "shell.execute_reply": "2023-01-07T16:02:52.057426Z"
    },
    "slideshow": {
     "slide_type": "fragment"
    }
   },
   "outputs": [],
   "source": [
    "class Instrumenter(Instrumenter):\n",
    "    def __exit__(self, exc_type: Type, exc_value: BaseException,\n",
    "                 traceback: TracebackType) -> Optional[bool]:\n",
    "        \"\"\"Restore sources\"\"\"\n",
    "        self.restore()\n",
    "        return None\n",
    "\n",
    "    def restore(self) -> None:\n",
    "        for item in self.instrumented_items:\n",
    "            self.globals[item.__name__] = item"
   ]
  },
  {
   "cell_type": "markdown",
   "metadata": {
    "slideshow": {
     "slide_type": "fragment"
    }
   },
   "source": [
    "By default, an `Instrumenter` simply outputs a log message:"
   ]
  },
  {
   "cell_type": "code",
   "execution_count": 186,
   "metadata": {
    "execution": {
     "iopub.execute_input": "2023-01-07T16:02:52.059175Z",
     "iopub.status.busy": "2023-01-07T16:02:52.058863Z",
     "iopub.status.idle": "2023-01-07T16:02:52.060291Z",
     "shell.execute_reply": "2023-01-07T16:02:52.060093Z"
    },
    "slideshow": {
     "slide_type": "subslide"
    }
   },
   "outputs": [
    {
     "name": "stdout",
     "output_type": "stream",
     "text": [
      "Instrumenting <function middle at 0x107aa6200>\n"
     ]
    }
   ],
   "source": [
    "with Instrumenter(middle, log=True) as ins:\n",
    "    pass"
   ]
  },
  {
   "cell_type": "markdown",
   "metadata": {
    "slideshow": {
     "slide_type": "subslide"
    }
   },
   "source": [
    "### The Slicer Class"
   ]
  },
  {
   "cell_type": "markdown",
   "metadata": {
    "slideshow": {
     "slide_type": "fragment"
    }
   },
   "source": [
    "The `Slicer` class comes as a subclass of `Instrumenter`. It sets its own dependency tracker (which can be overwritten by setting the `dependency_tracker` keyword argument)."
   ]
  },
  {
   "cell_type": "code",
   "execution_count": 187,
   "metadata": {
    "execution": {
     "iopub.execute_input": "2023-01-07T16:02:52.063205Z",
     "iopub.status.busy": "2023-01-07T16:02:52.062890Z",
     "iopub.status.idle": "2023-01-07T16:02:52.064205Z",
     "shell.execute_reply": "2023-01-07T16:02:52.064546Z"
    },
    "slideshow": {
     "slide_type": "subslide"
    }
   },
   "outputs": [],
   "source": [
    "class Slicer(Instrumenter):\n",
    "    \"\"\"Track dependencies in an execution\"\"\"\n",
    "\n",
    "    def __init__(self, *items_to_instrument: Any,\n",
    "                 dependency_tracker: Optional[DependencyTracker] = None,\n",
    "                 globals: Optional[Dict[str, Any]] = None,\n",
    "                 log: Union[bool, int] = False):\n",
    "        \"\"\"Create a slicer.\n",
    "        `items_to_instrument` are Python functions or modules with source code.\n",
    "        `dependency_tracker` is the tracker to be used (default: DependencyTracker).\n",
    "        `globals` is the namespace to be used(default: caller's `globals()`)\n",
    "        `log`=True or `log` > 0 turns on logging\n",
    "        \"\"\"\n",
    "        super().__init__(*items_to_instrument, globals=globals, log=log)\n",
    "\n",
    "        if dependency_tracker is None:\n",
    "            dependency_tracker = DependencyTracker(log=(log > 1))\n",
    "        self.dependency_tracker = dependency_tracker\n",
    "\n",
    "        self.saved_dependencies = None\n",
    "\n",
    "    def default_items_to_instrument(self) -> List[Callable]:\n",
    "        raise ValueError(\"Need one or more items to instrument\")"
   ]
  },
  {
   "cell_type": "markdown",
   "metadata": {
    "slideshow": {
     "slide_type": "subslide"
    }
   },
   "source": [
    "The `parse()` method parses a given item, returning its AST."
   ]
  },
  {
   "cell_type": "code",
   "execution_count": 188,
   "metadata": {
    "execution": {
     "iopub.execute_input": "2023-01-07T16:02:52.067062Z",
     "iopub.status.busy": "2023-01-07T16:02:52.066764Z",
     "iopub.status.idle": "2023-01-07T16:02:52.068115Z",
     "shell.execute_reply": "2023-01-07T16:02:52.068356Z"
    },
    "slideshow": {
     "slide_type": "fragment"
    }
   },
   "outputs": [],
   "source": [
    "class Slicer(Slicer):\n",
    "    def parse(self, item: Any) -> AST:\n",
    "        \"\"\"Parse `item`, returning its AST\"\"\"\n",
    "        source_lines, lineno = inspect.getsourcelines(item)\n",
    "        source = \"\".join(source_lines)\n",
    "\n",
    "        if self.log >= 2:\n",
    "            print_content(source, '.py', start_line_number=lineno)\n",
    "            print()\n",
    "            print()\n",
    "\n",
    "        tree = ast.parse(source)\n",
    "        ast.increment_lineno(tree, lineno - 1)\n",
    "        return tree"
   ]
  },
  {
   "cell_type": "markdown",
   "metadata": {
    "slideshow": {
     "slide_type": "subslide"
    }
   },
   "source": [
    "The `transform()` method applies the list of transformers defined earlier in this chapter."
   ]
  },
  {
   "cell_type": "code",
   "execution_count": 189,
   "metadata": {
    "execution": {
     "iopub.execute_input": "2023-01-07T16:02:52.071347Z",
     "iopub.status.busy": "2023-01-07T16:02:52.071042Z",
     "iopub.status.idle": "2023-01-07T16:02:52.072397Z",
     "shell.execute_reply": "2023-01-07T16:02:52.072642Z"
    },
    "slideshow": {
     "slide_type": "subslide"
    }
   },
   "outputs": [],
   "source": [
    "class Slicer(Slicer):\n",
    "    def transformers(self) -> List[NodeTransformer]:\n",
    "        \"\"\"List of transformers to apply. To be extended in subclasses.\"\"\"\n",
    "        return [\n",
    "            TrackCallTransformer(),\n",
    "            TrackSetTransformer(),\n",
    "            TrackGetTransformer(),\n",
    "            TrackControlTransformer(),\n",
    "            TrackReturnTransformer(),\n",
    "            TrackParamsTransformer()\n",
    "        ]\n",
    "\n",
    "    def transform(self, tree: AST) -> AST:\n",
    "        \"\"\"Apply transformers on `tree`. May be extended in subclasses.\"\"\"\n",
    "        # Apply transformers\n",
    "        for transformer in self.transformers():\n",
    "            if self.log >= 3:\n",
    "                print(transformer.__class__.__name__ + ':')\n",
    "\n",
    "            transformer.visit(tree)\n",
    "            ast.fix_missing_locations(tree)\n",
    "            if self.log >= 3:\n",
    "                print_content(ast.unparse(tree), '.py')\n",
    "                print()\n",
    "                print()\n",
    "\n",
    "        if 0 < self.log < 3:\n",
    "            print_content(ast.unparse(tree), '.py')\n",
    "            print()\n",
    "            print()\n",
    "\n",
    "        return tree"
   ]
  },
  {
   "cell_type": "markdown",
   "metadata": {
    "slideshow": {
     "slide_type": "subslide"
    }
   },
   "source": [
    "The `execute()` method executes the transformed tree (such that we get the new definitions). We also make the dependency tracker available for the code in the `with` block."
   ]
  },
  {
   "cell_type": "code",
   "execution_count": 190,
   "metadata": {
    "execution": {
     "iopub.execute_input": "2023-01-07T16:02:52.075265Z",
     "iopub.status.busy": "2023-01-07T16:02:52.074957Z",
     "iopub.status.idle": "2023-01-07T16:02:52.076285Z",
     "shell.execute_reply": "2023-01-07T16:02:52.076528Z"
    },
    "slideshow": {
     "slide_type": "subslide"
    }
   },
   "outputs": [],
   "source": [
    "class Slicer(Slicer):\n",
    "    def execute(self, tree: AST, item: Any) -> None:\n",
    "        \"\"\"Compile and execute `tree`. May be extended in subclasses.\"\"\"\n",
    "\n",
    "        # We pass the source file of `item` such that we can retrieve it\n",
    "        # when accessing the location of the new compiled code\n",
    "        source = cast(str, inspect.getsourcefile(item))\n",
    "        code = compile(tree, source, 'exec')\n",
    "\n",
    "        # Enable dependency tracker\n",
    "        self.globals[DATA_TRACKER] = self.dependency_tracker\n",
    "        \n",
    "        # Execute the code, resulting in a redefinition of item\n",
    "        exec(code, self.globals)"
   ]
  },
  {
   "cell_type": "markdown",
   "metadata": {
    "slideshow": {
     "slide_type": "subslide"
    }
   },
   "source": [
    "The `instrument()` method puts all these together, first parsing the item into a tree, then transforming and executing the tree."
   ]
  },
  {
   "cell_type": "code",
   "execution_count": 191,
   "metadata": {
    "execution": {
     "iopub.execute_input": "2023-01-07T16:02:52.079153Z",
     "iopub.status.busy": "2023-01-07T16:02:52.078860Z",
     "iopub.status.idle": "2023-01-07T16:02:52.080149Z",
     "shell.execute_reply": "2023-01-07T16:02:52.080333Z"
    },
    "slideshow": {
     "slide_type": "subslide"
    }
   },
   "outputs": [],
   "source": [
    "class Slicer(Slicer):\n",
    "    def instrument(self, item: Any) -> Any:\n",
    "        \"\"\"Instrument `item`, transforming its source code, and re-defining it.\"\"\"\n",
    "        if is_internal(item.__name__):\n",
    "            return item  # Do not instrument `print()` and the like\n",
    "\n",
    "        if inspect.isbuiltin(item):\n",
    "            return item  # No source code\n",
    "\n",
    "        item = super().instrument(item)\n",
    "        tree = self.parse(item)\n",
    "        tree = self.transform(tree)\n",
    "        self.execute(tree, item)\n",
    "\n",
    "        new_item = self.globals[item.__name__]\n",
    "        return new_item"
   ]
  },
  {
   "cell_type": "markdown",
   "metadata": {
    "slideshow": {
     "slide_type": "subslide"
    }
   },
   "source": [
    "When we restore the original definition (after the `with` block), we save the dependency tracker again."
   ]
  },
  {
   "cell_type": "code",
   "execution_count": 192,
   "metadata": {
    "execution": {
     "iopub.execute_input": "2023-01-07T16:02:52.082837Z",
     "iopub.status.busy": "2023-01-07T16:02:52.082490Z",
     "iopub.status.idle": "2023-01-07T16:02:52.083668Z",
     "shell.execute_reply": "2023-01-07T16:02:52.083986Z"
    },
    "slideshow": {
     "slide_type": "fragment"
    }
   },
   "outputs": [],
   "source": [
    "class Slicer(Slicer):\n",
    "    def restore(self) -> None:\n",
    "        \"\"\"Restore original code.\"\"\"\n",
    "        if DATA_TRACKER in self.globals:\n",
    "            self.saved_dependencies = self.globals[DATA_TRACKER]\n",
    "            del self.globals[DATA_TRACKER]\n",
    "\n",
    "        super().restore()"
   ]
  },
  {
   "cell_type": "markdown",
   "metadata": {
    "slideshow": {
     "slide_type": "fragment"
    }
   },
   "source": [
    "Three convenience functions allow us to see the dependencies as (well) dependencies, as code, and as graph. These simply invoke the respective functions on the saved dependencies."
   ]
  },
  {
   "cell_type": "code",
   "execution_count": 193,
   "metadata": {
    "execution": {
     "iopub.execute_input": "2023-01-07T16:02:52.087343Z",
     "iopub.status.busy": "2023-01-07T16:02:52.087030Z",
     "iopub.status.idle": "2023-01-07T16:02:52.088309Z",
     "shell.execute_reply": "2023-01-07T16:02:52.088640Z"
    },
    "slideshow": {
     "slide_type": "subslide"
    }
   },
   "outputs": [],
   "source": [
    "class Slicer(Slicer):\n",
    "    def dependencies(self) -> Dependencies:\n",
    "        \"\"\"Return collected dependencies.\"\"\"\n",
    "        if self.saved_dependencies is None:\n",
    "            return Dependencies({}, {})\n",
    "        return self.saved_dependencies.dependencies()\n",
    "\n",
    "    def code(self, *args: Any, **kwargs: Any) -> None:\n",
    "        \"\"\"Show code of instrumented items, annotated with dependencies.\"\"\"\n",
    "        first = True\n",
    "        for item in self.instrumented_items:\n",
    "            if not first:\n",
    "                print()\n",
    "            self.dependencies().code(item, *args, **kwargs)  # type: ignore\n",
    "            first = False\n",
    "\n",
    "    def graph(self, *args: Any, **kwargs: Any) -> Digraph:\n",
    "        \"\"\"Show dependency graph.\"\"\"\n",
    "        return self.dependencies().graph(*args, **kwargs)  # type: ignore\n",
    "\n",
    "    def _repr_mimebundle_(self, include: Any = None, exclude: Any = None) -> Any:\n",
    "        \"\"\"If the object is output in Jupyter, render dependencies as a SVG graph\"\"\"\n",
    "        return self.graph()._repr_mimebundle_(include, exclude)"
   ]
  },
  {
   "cell_type": "markdown",
   "metadata": {
    "slideshow": {
     "slide_type": "subslide"
    }
   },
   "source": [
    "Let us put `Slicer` into action. We track our `middle()` function:"
   ]
  },
  {
   "cell_type": "code",
   "execution_count": 194,
   "metadata": {
    "execution": {
     "iopub.execute_input": "2023-01-07T16:02:52.094581Z",
     "iopub.status.busy": "2023-01-07T16:02:52.094219Z",
     "iopub.status.idle": "2023-01-07T16:02:52.095862Z",
     "shell.execute_reply": "2023-01-07T16:02:52.096131Z"
    },
    "slideshow": {
     "slide_type": "fragment"
    }
   },
   "outputs": [
    {
     "data": {
      "text/plain": [
       "1"
      ]
     },
     "execution_count": 194,
     "metadata": {},
     "output_type": "execute_result"
    }
   ],
   "source": [
    "with Slicer(middle) as slicer:\n",
    "    m = middle(2, 1, 3)\n",
    "m"
   ]
  },
  {
   "cell_type": "markdown",
   "metadata": {
    "slideshow": {
     "slide_type": "fragment"
    }
   },
   "source": [
    "These are the dependencies in string form (used when printed):"
   ]
  },
  {
   "cell_type": "code",
   "execution_count": 195,
   "metadata": {
    "execution": {
     "iopub.execute_input": "2023-01-07T16:02:52.100297Z",
     "iopub.status.busy": "2023-01-07T16:02:52.099988Z",
     "iopub.status.idle": "2023-01-07T16:02:52.101317Z",
     "shell.execute_reply": "2023-01-07T16:02:52.101504Z"
    },
    "slideshow": {
     "slide_type": "fragment"
    }
   },
   "outputs": [
    {
     "name": "stdout",
     "output_type": "stream",
     "text": [
      "middle():\n",
      "    <test> (2) <= y (1), z (1)\n",
      "    <test> (3) <= y (1), x (1); <- <test> (2)\n",
      "    <test> (5) <= z (1), x (1); <- <test> (3)\n",
      "    <middle() return value> (6) <= y (1); <- <test> (5)\n",
      "\n"
     ]
    }
   ],
   "source": [
    "print(slicer.dependencies())"
   ]
  },
  {
   "cell_type": "markdown",
   "metadata": {
    "slideshow": {
     "slide_type": "fragment"
    }
   },
   "source": [
    "This is the code form:"
   ]
  },
  {
   "cell_type": "code",
   "execution_count": 196,
   "metadata": {
    "execution": {
     "iopub.execute_input": "2023-01-07T16:02:52.103259Z",
     "iopub.status.busy": "2023-01-07T16:02:52.102890Z",
     "iopub.status.idle": "2023-01-07T16:02:52.464675Z",
     "shell.execute_reply": "2023-01-07T16:02:52.464984Z"
    },
    "slideshow": {
     "slide_type": "subslide"
    }
   },
   "outputs": [
    {
     "name": "stdout",
     "output_type": "stream",
     "text": [
      "*    1 \u001b[34mdef\u001b[39;49;00m \u001b[32mmiddle\u001b[39;49;00m(x, y, z):  \u001b[37m# type: ignore\u001b[39;49;00m\u001b[37m\u001b[39;49;00m\n",
      "*    2     \u001b[34mif\u001b[39;49;00m y < z:  \u001b[37m# <= y (1), z (1)\u001b[39;49;00m\u001b[37m\u001b[39;49;00m\n",
      "*    3         \u001b[34mif\u001b[39;49;00m x < y:  \u001b[37m# <= y (1), x (1); <- <test> (2)\u001b[39;49;00m\u001b[37m\u001b[39;49;00m\n",
      "     4             \u001b[34mreturn\u001b[39;49;00m y\u001b[37m\u001b[39;49;00m\n",
      "*    5         \u001b[34melif\u001b[39;49;00m x < z:  \u001b[37m# <= z (1), x (1); <- <test> (3)\u001b[39;49;00m\u001b[37m\u001b[39;49;00m\n",
      "*    6             \u001b[34mreturn\u001b[39;49;00m y  \u001b[37m# <= y (1); <- <test> (5)\u001b[39;49;00m\u001b[37m\u001b[39;49;00m\n",
      "     7     \u001b[34melse\u001b[39;49;00m:\u001b[37m\u001b[39;49;00m\n",
      "     8         \u001b[34mif\u001b[39;49;00m x > y:\u001b[37m\u001b[39;49;00m\n",
      "     9             \u001b[34mreturn\u001b[39;49;00m y\u001b[37m\u001b[39;49;00m\n",
      "    10         \u001b[34melif\u001b[39;49;00m x > z:\u001b[37m\u001b[39;49;00m\n",
      "    11             \u001b[34mreturn\u001b[39;49;00m x\u001b[37m\u001b[39;49;00m\n",
      "    12     \u001b[34mreturn\u001b[39;49;00m z\u001b[37m\u001b[39;49;00m\n"
     ]
    }
   ],
   "source": [
    "slicer.code()"
   ]
  },
  {
   "cell_type": "markdown",
   "metadata": {
    "slideshow": {
     "slide_type": "fragment"
    }
   },
   "source": [
    "And this is the graph form:"
   ]
  },
  {
   "cell_type": "code",
   "execution_count": 197,
   "metadata": {
    "execution": {
     "iopub.execute_input": "2023-01-07T16:02:52.475009Z",
     "iopub.status.busy": "2023-01-07T16:02:52.474686Z",
     "iopub.status.idle": "2023-01-07T16:02:52.773856Z",
     "shell.execute_reply": "2023-01-07T16:02:52.774080Z"
    },
    "slideshow": {
     "slide_type": "subslide"
    }
   },
   "outputs": [
    {
     "data": {
      "image/svg+xml": [
       "<?xml version=\"1.0\" encoding=\"UTF-8\" standalone=\"no\"?>\n",
       "<!DOCTYPE svg PUBLIC \"-//W3C//DTD SVG 1.1//EN\"\n",
       " \"http://www.w3.org/Graphics/SVG/1.1/DTD/svg11.dtd\">\n",
       "<!-- Generated by graphviz version 7.0.2 (20221119.0110)\n",
       " -->\n",
       "<!-- Title: dependencies Pages: 1 -->\n",
       "<svg width=\"464pt\" height=\"352pt\"\n",
       " viewBox=\"0.00 0.00 464.16 352.00\" xmlns=\"http://www.w3.org/2000/svg\" xmlns:xlink=\"http://www.w3.org/1999/xlink\">\n",
       "<g id=\"graph0\" class=\"graph\" transform=\"scale(1 1) rotate(0) translate(4 348)\">\n",
       "<title>dependencies</title>\n",
       "<polygon fill=\"white\" stroke=\"none\" points=\"-4,4 -4,-348 460.16,-348 460.16,4 -4,4\"/>\n",
       "<!-- test_functionmiddleat0x11afa1c60_5 -->\n",
       "<g id=\"node1\" class=\"node\">\n",
       "<title>test_functionmiddleat0x11afa1c60_5</title>\n",
       "<g id=\"a_node1\"><a xlink:title=\"middle:5\">\n",
       "<polygon fill=\"peachpuff\" stroke=\"black\" points=\"220,-116 146,-116 146,-76 220,-76 220,-116\"/>\n",
       "<text text-anchor=\"start\" x=\"158\" y=\"-101.8\" font-family=\"Courier,monospace\" font-weight=\"bold\" font-style=\"italic\" font-size=\"14.00\">&lt;test&gt;</text>\n",
       "<text text-anchor=\"start\" x=\"154\" y=\"-82.8\" font-family=\"Courier,monospace\" font-size=\"9.00\">elif x &lt; z:</text>\n",
       "</a>\n",
       "</g>\n",
       "</g>\n",
       "<!-- middlereturnvalue_functionmiddleat0x11afa1c60_6 -->\n",
       "<g id=\"node7\" class=\"node\">\n",
       "<title>middlereturnvalue_functionmiddleat0x11afa1c60_6</title>\n",
       "<g id=\"a_node7\"><a xlink:title=\"middle:6\">\n",
       "<polygon fill=\"peachpuff\" stroke=\"black\" points=\"286,-40 80,-40 80,0 286,0 286,-40\"/>\n",
       "<text text-anchor=\"start\" x=\"88\" y=\"-25.8\" font-family=\"Courier,monospace\" font-weight=\"bold\" font-style=\"italic\" font-size=\"14.00\">&lt;middle() return value&gt;</text>\n",
       "<text text-anchor=\"start\" x=\"161.5\" y=\"-6.8\" font-family=\"Courier,monospace\" font-size=\"9.00\">return y</text>\n",
       "</a>\n",
       "</g>\n",
       "</g>\n",
       "<!-- test_functionmiddleat0x11afa1c60_5&#45;&gt;middlereturnvalue_functionmiddleat0x11afa1c60_6 -->\n",
       "<g id=\"edge7\" class=\"edge\">\n",
       "<title>test_functionmiddleat0x11afa1c60_5&#45;&gt;middlereturnvalue_functionmiddleat0x11afa1c60_6</title>\n",
       "<path fill=\"none\" stroke=\"grey\" stroke-dasharray=\"5,2\" d=\"M176.98,-75.56C176.32,-68.25 176.11,-59.75 176.34,-51.67\"/>\n",
       "<polygon fill=\"grey\" stroke=\"grey\" points=\"179.82,-52.01 176.9,-41.82 172.84,-51.61 179.82,-52.01\"/>\n",
       "</g>\n",
       "<!-- test_functionmiddleat0x11afa1c60_5&#45;&gt;middlereturnvalue_functionmiddleat0x11afa1c60_6 -->\n",
       "<!-- z_functionmiddleat0x11afa1c60_1 -->\n",
       "<g id=\"node2\" class=\"node\">\n",
       "<title>z_functionmiddleat0x11afa1c60_1</title>\n",
       "<g id=\"a_node2\"><a xlink:title=\"middle:1\">\n",
       "<polygon fill=\"peachpuff\" stroke=\"black\" points=\"430,-344 224,-344 224,-304 430,-304 430,-344\"/>\n",
       "<text text-anchor=\"start\" x=\"322.5\" y=\"-329.8\" font-family=\"Courier,monospace\" font-weight=\"bold\" font-size=\"14.00\">z</text>\n",
       "<text text-anchor=\"start\" x=\"232\" y=\"-310.8\" font-family=\"Courier,monospace\" font-size=\"9.00\">def middle(x, y, z): &#160;# type: ignore</text>\n",
       "</a>\n",
       "</g>\n",
       "</g>\n",
       "<!-- z_functionmiddleat0x11afa1c60_1&#45;&gt;test_functionmiddleat0x11afa1c60_5 -->\n",
       "<g id=\"edge1\" class=\"edge\">\n",
       "<title>z_functionmiddleat0x11afa1c60_1&#45;&gt;test_functionmiddleat0x11afa1c60_5</title>\n",
       "<path fill=\"none\" stroke=\"black\" d=\"M404.82,-303.64C422.23,-295.53 438.6,-284.1 449,-268 458.65,-253.07 458.39,-243.09 449,-228 401.38,-151.47 294.46,-118.34 231.64,-105.05\"/>\n",
       "<polygon fill=\"black\" stroke=\"black\" points=\"232.42,-101.64 221.93,-103.09 231.04,-108.5 232.42,-101.64\"/>\n",
       "</g>\n",
       "<!-- test_functionmiddleat0x11afa1c60_2 -->\n",
       "<g id=\"node5\" class=\"node\">\n",
       "<title>test_functionmiddleat0x11afa1c60_2</title>\n",
       "<g id=\"a_node5\"><a xlink:title=\"middle:2\">\n",
       "<polygon fill=\"peachpuff\" stroke=\"black\" points=\"216,-268 150,-268 150,-228 216,-228 216,-268\"/>\n",
       "<text text-anchor=\"start\" x=\"158\" y=\"-253.8\" font-family=\"Courier,monospace\" font-weight=\"bold\" font-style=\"italic\" font-size=\"14.00\">&lt;test&gt;</text>\n",
       "<text text-anchor=\"start\" x=\"159\" y=\"-234.8\" font-family=\"Courier,monospace\" font-size=\"9.00\">if y &lt; z:</text>\n",
       "</a>\n",
       "</g>\n",
       "</g>\n",
       "<!-- z_functionmiddleat0x11afa1c60_1&#45;&gt;test_functionmiddleat0x11afa1c60_2 -->\n",
       "<g id=\"edge5\" class=\"edge\">\n",
       "<title>z_functionmiddleat0x11afa1c60_1&#45;&gt;test_functionmiddleat0x11afa1c60_2</title>\n",
       "<path fill=\"none\" stroke=\"black\" d=\"M283.14,-303.56C264.55,-294.42 243.03,-283.43 224.68,-273.71\"/>\n",
       "<polygon fill=\"black\" stroke=\"black\" points=\"226.37,-270.65 215.91,-269.03 223.08,-276.82 226.37,-270.65\"/>\n",
       "</g>\n",
       "<!-- z_functionmiddleat0x11afa1c60_1&#45;&gt;test_functionmiddleat0x11afa1c60_2 -->\n",
       "<!-- x_functionmiddleat0x11afa1c60_1 -->\n",
       "<g id=\"node3\" class=\"node\">\n",
       "<title>x_functionmiddleat0x11afa1c60_1</title>\n",
       "<g id=\"a_node3\"><a xlink:title=\"middle:1\">\n",
       "<polygon fill=\"peachpuff\" stroke=\"black\" points=\"440,-268 234,-268 234,-228 440,-228 440,-268\"/>\n",
       "<text text-anchor=\"start\" x=\"332.5\" y=\"-253.8\" font-family=\"Courier,monospace\" font-weight=\"bold\" font-size=\"14.00\">x</text>\n",
       "<text text-anchor=\"start\" x=\"242\" y=\"-234.8\" font-family=\"Courier,monospace\" font-size=\"9.00\">def middle(x, y, z): &#160;# type: ignore</text>\n",
       "</a>\n",
       "</g>\n",
       "</g>\n",
       "<!-- x_functionmiddleat0x11afa1c60_1&#45;&gt;test_functionmiddleat0x11afa1c60_5 -->\n",
       "<g id=\"edge2\" class=\"edge\">\n",
       "<title>x_functionmiddleat0x11afa1c60_1&#45;&gt;test_functionmiddleat0x11afa1c60_5</title>\n",
       "<path fill=\"none\" stroke=\"black\" d=\"M317.18,-227.7C290.15,-201.37 241.59,-154.07 210.89,-124.17\"/>\n",
       "<polygon fill=\"black\" stroke=\"black\" points=\"213.43,-121.75 203.83,-117.28 208.55,-126.77 213.43,-121.75\"/>\n",
       "</g>\n",
       "<!-- test_functionmiddleat0x11afa1c60_3 -->\n",
       "<g id=\"node4\" class=\"node\">\n",
       "<title>test_functionmiddleat0x11afa1c60_3</title>\n",
       "<g id=\"a_node4\"><a xlink:title=\"middle:3\">\n",
       "<polygon fill=\"peachpuff\" stroke=\"black\" points=\"216,-192 150,-192 150,-152 216,-152 216,-192\"/>\n",
       "<text text-anchor=\"start\" x=\"158\" y=\"-177.8\" font-family=\"Courier,monospace\" font-weight=\"bold\" font-style=\"italic\" font-size=\"14.00\">&lt;test&gt;</text>\n",
       "<text text-anchor=\"start\" x=\"159\" y=\"-158.8\" font-family=\"Courier,monospace\" font-size=\"9.00\">if x &lt; y:</text>\n",
       "</a>\n",
       "</g>\n",
       "</g>\n",
       "<!-- x_functionmiddleat0x11afa1c60_1&#45;&gt;test_functionmiddleat0x11afa1c60_3 -->\n",
       "<g id=\"edge9\" class=\"edge\">\n",
       "<title>x_functionmiddleat0x11afa1c60_1&#45;&gt;test_functionmiddleat0x11afa1c60_3</title>\n",
       "<path fill=\"none\" stroke=\"black\" d=\"M296.54,-227.56C275.09,-217.25 248.73,-204.58 226.8,-194.05\"/>\n",
       "<polygon fill=\"black\" stroke=\"black\" points=\"228.33,-190.9 217.8,-189.72 225.3,-197.21 228.33,-190.9\"/>\n",
       "</g>\n",
       "<!-- test_functionmiddleat0x11afa1c60_3&#45;&gt;test_functionmiddleat0x11afa1c60_5 -->\n",
       "<g id=\"edge3\" class=\"edge\">\n",
       "<title>test_functionmiddleat0x11afa1c60_3&#45;&gt;test_functionmiddleat0x11afa1c60_5</title>\n",
       "<path fill=\"none\" stroke=\"grey\" stroke-dasharray=\"5,2\" d=\"M176.98,-151.56C176.32,-144.25 176.11,-135.75 176.34,-127.67\"/>\n",
       "<polygon fill=\"grey\" stroke=\"grey\" points=\"179.82,-128.01 176.9,-117.82 172.84,-127.61 179.82,-128.01\"/>\n",
       "</g>\n",
       "<!-- test_functionmiddleat0x11afa1c60_3&#45;&gt;test_functionmiddleat0x11afa1c60_5 -->\n",
       "<!-- test_functionmiddleat0x11afa1c60_2&#45;&gt;test_functionmiddleat0x11afa1c60_3 -->\n",
       "<g id=\"edge10\" class=\"edge\">\n",
       "<title>test_functionmiddleat0x11afa1c60_2&#45;&gt;test_functionmiddleat0x11afa1c60_3</title>\n",
       "<path fill=\"none\" stroke=\"grey\" stroke-dasharray=\"5,2\" d=\"M176.98,-227.56C176.32,-220.25 176.11,-211.75 176.34,-203.67\"/>\n",
       "<polygon fill=\"grey\" stroke=\"grey\" points=\"179.82,-204.01 176.9,-193.82 172.84,-203.61 179.82,-204.01\"/>\n",
       "</g>\n",
       "<!-- test_functionmiddleat0x11afa1c60_2&#45;&gt;test_functionmiddleat0x11afa1c60_3 -->\n",
       "<!-- y_functionmiddleat0x11afa1c60_1 -->\n",
       "<g id=\"node6\" class=\"node\">\n",
       "<title>y_functionmiddleat0x11afa1c60_1</title>\n",
       "<g id=\"a_node6\"><a xlink:title=\"middle:1\">\n",
       "<polygon fill=\"peachpuff\" stroke=\"black\" points=\"206,-344 0,-344 0,-304 206,-304 206,-344\"/>\n",
       "<text text-anchor=\"start\" x=\"98.5\" y=\"-329.8\" font-family=\"Courier,monospace\" font-weight=\"bold\" font-size=\"14.00\">y</text>\n",
       "<text text-anchor=\"start\" x=\"8\" y=\"-310.8\" font-family=\"Courier,monospace\" font-size=\"9.00\">def middle(x, y, z): &#160;# type: ignore</text>\n",
       "</a>\n",
       "</g>\n",
       "</g>\n",
       "<!-- y_functionmiddleat0x11afa1c60_1&#45;&gt;test_functionmiddleat0x11afa1c60_3 -->\n",
       "<g id=\"edge8\" class=\"edge\">\n",
       "<title>y_functionmiddleat0x11afa1c60_1&#45;&gt;test_functionmiddleat0x11afa1c60_3</title>\n",
       "<path fill=\"none\" stroke=\"black\" d=\"M108.98,-303.74C115.49,-284.03 126.88,-252.87 141,-228 146.17,-218.89 152.69,-209.61 159.04,-201.32\"/>\n",
       "<polygon fill=\"black\" stroke=\"black\" points=\"161.66,-203.66 165.12,-193.65 156.17,-199.31 161.66,-203.66\"/>\n",
       "</g>\n",
       "<!-- y_functionmiddleat0x11afa1c60_1&#45;&gt;test_functionmiddleat0x11afa1c60_2 -->\n",
       "<g id=\"edge4\" class=\"edge\">\n",
       "<title>y_functionmiddleat0x11afa1c60_1&#45;&gt;test_functionmiddleat0x11afa1c60_2</title>\n",
       "<path fill=\"none\" stroke=\"black\" d=\"M124.02,-303.56C133.11,-295.14 143.91,-285.16 153.77,-276.04\"/>\n",
       "<polygon fill=\"black\" stroke=\"black\" points=\"156.05,-278.7 161.01,-269.34 151.29,-273.56 156.05,-278.7\"/>\n",
       "</g>\n",
       "<!-- y_functionmiddleat0x11afa1c60_1&#45;&gt;middlereturnvalue_functionmiddleat0x11afa1c60_6 -->\n",
       "<g id=\"edge6\" class=\"edge\">\n",
       "<title>y_functionmiddleat0x11afa1c60_1&#45;&gt;middlereturnvalue_functionmiddleat0x11afa1c60_6</title>\n",
       "<path fill=\"none\" stroke=\"black\" d=\"M102.13,-303.76C100.93,-260.86 102.05,-154.97 137,-76 141.33,-66.22 147.93,-56.81 154.8,-48.62\"/>\n",
       "<polygon fill=\"black\" stroke=\"black\" points=\"157.21,-51.18 161.25,-41.39 151.98,-46.52 157.21,-51.18\"/>\n",
       "</g>\n",
       "</g>\n",
       "</svg>\n"
      ],
      "text/plain": [
       "<__main__.Slicer at 0x1192c5cf0>"
      ]
     },
     "execution_count": 197,
     "metadata": {},
     "output_type": "execute_result"
    }
   ],
   "source": [
    "slicer"
   ]
  },
  {
   "cell_type": "markdown",
   "metadata": {
    "slideshow": {
     "slide_type": "fragment"
    }
   },
   "source": [
    "You can also access the raw `repr()` form, which allows you to reconstruct dependencies at any time. (This is how we showed off dependencies at the beginning of this chapter, before even introducing the code that computes them.)"
   ]
  },
  {
   "cell_type": "code",
   "execution_count": 198,
   "metadata": {
    "execution": {
     "iopub.execute_input": "2023-01-07T16:02:52.776655Z",
     "iopub.status.busy": "2023-01-07T16:02:52.776282Z",
     "iopub.status.idle": "2023-01-07T16:02:52.779620Z",
     "shell.execute_reply": "2023-01-07T16:02:52.779359Z"
    },
    "slideshow": {
     "slide_type": "subslide"
    }
   },
   "outputs": [
    {
     "name": "stdout",
     "output_type": "stream",
     "text": [
      "Dependencies(\n",
      "    data={\n",
      "        ('x', (middle, 1)): set(),\n",
      "        ('y', (middle, 1)): set(),\n",
      "        ('z', (middle, 1)): set(),\n",
      "        ('<test>', (middle, 2)): {('y', (middle, 1)), ('z', (middle, 1))},\n",
      "        ('<test>', (middle, 3)): {('y', (middle, 1)), ('x', (middle, 1))},\n",
      "        ('<test>', (middle, 5)): {('z', (middle, 1)), ('x', (middle, 1))},\n",
      "        ('<middle() return value>', (middle, 6)): {('y', (middle, 1))}},\n",
      " control={\n",
      "        ('x', (middle, 1)): set(),\n",
      "        ('y', (middle, 1)): set(),\n",
      "        ('z', (middle, 1)): set(),\n",
      "        ('<test>', (middle, 2)): set(),\n",
      "        ('<test>', (middle, 3)): {('<test>', (middle, 2))},\n",
      "        ('<test>', (middle, 5)): {('<test>', (middle, 3))},\n",
      "        ('<middle() return value>', (middle, 6)): {('<test>', (middle, 5))}})\n"
     ]
    }
   ],
   "source": [
    "print(repr(slicer.dependencies()))"
   ]
  },
  {
   "cell_type": "markdown",
   "metadata": {
    "slideshow": {
     "slide_type": "subslide"
    }
   },
   "source": [
    "### Diagnostics"
   ]
  },
  {
   "cell_type": "markdown",
   "metadata": {
    "slideshow": {
     "slide_type": "fragment"
    }
   },
   "source": [
    "The `Slicer` constructor accepts a `log` argument (default: False), which can be set to show various intermediate results:\n",
    "\n",
    "* `log=True` (or `log=1`): Show instrumented source code\n",
    "* `log=2`: Also log execution\n",
    "* `log=3`: Also log individual transformer steps\n",
    "* `log=4`: Also log source line numbers"
   ]
  },
  {
   "cell_type": "markdown",
   "metadata": {
    "slideshow": {
     "slide_type": "slide"
    }
   },
   "source": [
    "## More Examples"
   ]
  },
  {
   "cell_type": "markdown",
   "metadata": {
    "slideshow": {
     "slide_type": "fragment"
    }
   },
   "source": [
    "Let us demonstrate our `Slicer` class on a few more examples."
   ]
  },
  {
   "cell_type": "markdown",
   "metadata": {
    "slideshow": {
     "slide_type": "subslide"
    }
   },
   "source": [
    "### Square Root"
   ]
  },
  {
   "cell_type": "markdown",
   "metadata": {
    "slideshow": {
     "slide_type": "fragment"
    }
   },
   "source": [
    "The `square_root()` function from [the chapter on assertions](Assertions.ipynb) demonstrates a nice interplay between data and control dependencies."
   ]
  },
  {
   "cell_type": "code",
   "execution_count": 199,
   "metadata": {
    "execution": {
     "iopub.execute_input": "2023-01-07T16:02:52.781992Z",
     "iopub.status.busy": "2023-01-07T16:02:52.781595Z",
     "iopub.status.idle": "2023-01-07T16:02:52.783102Z",
     "shell.execute_reply": "2023-01-07T16:02:52.783334Z"
    },
    "slideshow": {
     "slide_type": "skip"
    }
   },
   "outputs": [],
   "source": [
    "import math"
   ]
  },
  {
   "cell_type": "code",
   "execution_count": 200,
   "metadata": {
    "execution": {
     "iopub.execute_input": "2023-01-07T16:02:52.785506Z",
     "iopub.status.busy": "2023-01-07T16:02:52.785102Z",
     "iopub.status.idle": "2023-01-07T16:02:52.786708Z",
     "shell.execute_reply": "2023-01-07T16:02:52.786949Z"
    },
    "slideshow": {
     "slide_type": "skip"
    }
   },
   "outputs": [],
   "source": [
    "from Assertions import square_root  # minor dependency"
   ]
  },
  {
   "cell_type": "markdown",
   "metadata": {
    "slideshow": {
     "slide_type": "fragment"
    }
   },
   "source": [
    "Here is the original source code:"
   ]
  },
  {
   "cell_type": "code",
   "execution_count": 201,
   "metadata": {
    "execution": {
     "iopub.execute_input": "2023-01-07T16:02:52.812007Z",
     "iopub.status.busy": "2023-01-07T16:02:52.788749Z",
     "iopub.status.idle": "2023-01-07T16:02:52.822428Z",
     "shell.execute_reply": "2023-01-07T16:02:52.822790Z"
    },
    "slideshow": {
     "slide_type": "subslide"
    }
   },
   "outputs": [
    {
     "name": "stdout",
     "output_type": "stream",
     "text": [
      "\u001b[34mdef\u001b[39;49;00m \u001b[32msquare_root\u001b[39;49;00m(x):  \u001b[37m# type: ignore\u001b[39;49;00m\u001b[37m\u001b[39;49;00m\n",
      "    \u001b[34massert\u001b[39;49;00m x >= \u001b[34m0\u001b[39;49;00m  \u001b[37m# precondition\u001b[39;49;00m\u001b[37m\u001b[39;49;00m\n",
      "\u001b[37m\u001b[39;49;00m\n",
      "    approx = \u001b[34mNone\u001b[39;49;00m\u001b[37m\u001b[39;49;00m\n",
      "    guess = x / \u001b[34m2\u001b[39;49;00m\u001b[37m\u001b[39;49;00m\n",
      "    \u001b[34mwhile\u001b[39;49;00m approx != guess:\u001b[37m\u001b[39;49;00m\n",
      "        approx = guess\u001b[37m\u001b[39;49;00m\n",
      "        guess = (approx + x / approx) / \u001b[34m2\u001b[39;49;00m\u001b[37m\u001b[39;49;00m\n",
      "\u001b[37m\u001b[39;49;00m\n",
      "    \u001b[34massert\u001b[39;49;00m math.isclose(approx * approx, x)\u001b[37m\u001b[39;49;00m\n",
      "    \u001b[34mreturn\u001b[39;49;00m approx\u001b[37m\u001b[39;49;00m"
     ]
    }
   ],
   "source": [
    "print_content(inspect.getsource(square_root), '.py')"
   ]
  },
  {
   "cell_type": "markdown",
   "metadata": {
    "slideshow": {
     "slide_type": "fragment"
    }
   },
   "source": [
    "Turning on logging shows the instrumented version:"
   ]
  },
  {
   "cell_type": "code",
   "execution_count": 202,
   "metadata": {
    "execution": {
     "iopub.execute_input": "2023-01-07T16:02:52.852658Z",
     "iopub.status.busy": "2023-01-07T16:02:52.852227Z",
     "iopub.status.idle": "2023-01-07T16:02:52.864895Z",
     "shell.execute_reply": "2023-01-07T16:02:52.865144Z"
    },
    "slideshow": {
     "slide_type": "subslide"
    }
   },
   "outputs": [
    {
     "name": "stdout",
     "output_type": "stream",
     "text": [
      "Instrumenting <function square_root at 0x11921bd00>\n",
      "\u001b[34mdef\u001b[39;49;00m \u001b[32msquare_root\u001b[39;49;00m(x):\u001b[37m\u001b[39;49;00m\n",
      "    _data.param(\u001b[33m'\u001b[39;49;00m\u001b[33mx\u001b[39;49;00m\u001b[33m'\u001b[39;49;00m, x, pos=\u001b[34m1\u001b[39;49;00m, last=\u001b[34mTrue\u001b[39;49;00m)\u001b[37m\u001b[39;49;00m\n",
      "    \u001b[34massert\u001b[39;49;00m _data.set(\u001b[33m'\u001b[39;49;00m\u001b[33m<assertion>\u001b[39;49;00m\u001b[33m'\u001b[39;49;00m, _data.get(\u001b[33m'\u001b[39;49;00m\u001b[33mx\u001b[39;49;00m\u001b[33m'\u001b[39;49;00m, x) >= \u001b[34m0\u001b[39;49;00m, loads=(_data.get(\u001b[33m'\u001b[39;49;00m\u001b[33mx\u001b[39;49;00m\u001b[33m'\u001b[39;49;00m, x),))\u001b[37m\u001b[39;49;00m\n",
      "    approx = _data.set(\u001b[33m'\u001b[39;49;00m\u001b[33mapprox\u001b[39;49;00m\u001b[33m'\u001b[39;49;00m, \u001b[34mNone\u001b[39;49;00m)\u001b[37m\u001b[39;49;00m\n",
      "    guess = _data.set(\u001b[33m'\u001b[39;49;00m\u001b[33mguess\u001b[39;49;00m\u001b[33m'\u001b[39;49;00m, _data.get(\u001b[33m'\u001b[39;49;00m\u001b[33mx\u001b[39;49;00m\u001b[33m'\u001b[39;49;00m, x) / \u001b[34m2\u001b[39;49;00m)\u001b[37m\u001b[39;49;00m\n",
      "    \u001b[34mwhile\u001b[39;49;00m _data.test(_data.get(\u001b[33m'\u001b[39;49;00m\u001b[33mapprox\u001b[39;49;00m\u001b[33m'\u001b[39;49;00m, approx) != _data.get(\u001b[33m'\u001b[39;49;00m\u001b[33mguess\u001b[39;49;00m\u001b[33m'\u001b[39;49;00m, guess)):\u001b[37m\u001b[39;49;00m\n",
      "        \u001b[34mwith\u001b[39;49;00m _data:\u001b[37m\u001b[39;49;00m\n",
      "            approx = _data.set(\u001b[33m'\u001b[39;49;00m\u001b[33mapprox\u001b[39;49;00m\u001b[33m'\u001b[39;49;00m, _data.get(\u001b[33m'\u001b[39;49;00m\u001b[33mguess\u001b[39;49;00m\u001b[33m'\u001b[39;49;00m, guess))\u001b[37m\u001b[39;49;00m\n",
      "            guess = _data.set(\u001b[33m'\u001b[39;49;00m\u001b[33mguess\u001b[39;49;00m\u001b[33m'\u001b[39;49;00m, (_data.get(\u001b[33m'\u001b[39;49;00m\u001b[33mapprox\u001b[39;49;00m\u001b[33m'\u001b[39;49;00m, approx) + _data.get(\u001b[33m'\u001b[39;49;00m\u001b[33mx\u001b[39;49;00m\u001b[33m'\u001b[39;49;00m, x) / _data.get(\u001b[33m'\u001b[39;49;00m\u001b[33mapprox\u001b[39;49;00m\u001b[33m'\u001b[39;49;00m, approx)) / \u001b[34m2\u001b[39;49;00m)\u001b[37m\u001b[39;49;00m\n",
      "    \u001b[34massert\u001b[39;49;00m _data.set(\u001b[33m'\u001b[39;49;00m\u001b[33m<assertion>\u001b[39;49;00m\u001b[33m'\u001b[39;49;00m, _data.ret(_data.call(_data.get(\u001b[33m'\u001b[39;49;00m\u001b[33mmath\u001b[39;49;00m\u001b[33m'\u001b[39;49;00m, math).isclose)(_data.arg(_data.get(\u001b[33m'\u001b[39;49;00m\u001b[33mapprox\u001b[39;49;00m\u001b[33m'\u001b[39;49;00m, approx) * _data.get(\u001b[33m'\u001b[39;49;00m\u001b[33mapprox\u001b[39;49;00m\u001b[33m'\u001b[39;49;00m, approx), pos=\u001b[34m1\u001b[39;49;00m), _data.arg(_data.get(\u001b[33m'\u001b[39;49;00m\u001b[33mx\u001b[39;49;00m\u001b[33m'\u001b[39;49;00m, x), pos=\u001b[34m2\u001b[39;49;00m))), loads=(_data.get(\u001b[33m'\u001b[39;49;00m\u001b[33mmath\u001b[39;49;00m\u001b[33m'\u001b[39;49;00m, math), _data.get(\u001b[33m'\u001b[39;49;00m\u001b[33mx\u001b[39;49;00m\u001b[33m'\u001b[39;49;00m, x), _data, _data.get(\u001b[33m'\u001b[39;49;00m\u001b[33mapprox\u001b[39;49;00m\u001b[33m'\u001b[39;49;00m, approx)))\u001b[37m\u001b[39;49;00m\n",
      "    \u001b[34mreturn\u001b[39;49;00m _data.set(\u001b[33m'\u001b[39;49;00m\u001b[33m<square_root() return value>\u001b[39;49;00m\u001b[33m'\u001b[39;49;00m, _data.get(\u001b[33m'\u001b[39;49;00m\u001b[33mapprox\u001b[39;49;00m\u001b[33m'\u001b[39;49;00m, approx))\u001b[37m\u001b[39;49;00m\n",
      "\n"
     ]
    }
   ],
   "source": [
    "with Slicer(square_root, log=True) as root_slicer:\n",
    "    y = square_root(2.0)"
   ]
  },
  {
   "cell_type": "markdown",
   "metadata": {
    "slideshow": {
     "slide_type": "subslide"
    }
   },
   "source": [
    "The dependency graph shows how `guess` and `approx` flow into each other until they are the same."
   ]
  },
  {
   "cell_type": "code",
   "execution_count": 203,
   "metadata": {
    "execution": {
     "iopub.execute_input": "2023-01-07T16:02:52.875108Z",
     "iopub.status.busy": "2023-01-07T16:02:52.874727Z",
     "iopub.status.idle": "2023-01-07T16:02:53.167567Z",
     "shell.execute_reply": "2023-01-07T16:02:53.167827Z"
    },
    "slideshow": {
     "slide_type": "fragment"
    }
   },
   "outputs": [
    {
     "data": {
      "image/svg+xml": [
       "<?xml version=\"1.0\" encoding=\"UTF-8\" standalone=\"no\"?>\n",
       "<!DOCTYPE svg PUBLIC \"-//W3C//DTD SVG 1.1//EN\"\n",
       " \"http://www.w3.org/Graphics/SVG/1.1/DTD/svg11.dtd\">\n",
       "<!-- Generated by graphviz version 7.0.2 (20221119.0110)\n",
       " -->\n",
       "<!-- Title: dependencies Pages: 1 -->\n",
       "<svg width=\"411pt\" height=\"580pt\"\n",
       " viewBox=\"0.00 0.00 411.00 580.00\" xmlns=\"http://www.w3.org/2000/svg\" xmlns:xlink=\"http://www.w3.org/1999/xlink\">\n",
       "<g id=\"graph0\" class=\"graph\" transform=\"scale(1 1) rotate(0) translate(4 576)\">\n",
       "<title>dependencies</title>\n",
       "<polygon fill=\"white\" stroke=\"none\" points=\"-4,4 -4,-576 407,-576 407,4 -4,4\"/>\n",
       "<!-- x_functionsquare_rootat0x11afa20e0_54 -->\n",
       "<g id=\"node1\" class=\"node\">\n",
       "<title>x_functionsquare_rootat0x11afa20e0_54</title>\n",
       "<g id=\"a_node1\"><a xlink:title=\"square_root:54\">\n",
       "<polygon fill=\"peachpuff\" stroke=\"black\" points=\"239.5,-572 39.5,-572 39.5,-532 239.5,-532 239.5,-572\"/>\n",
       "<text text-anchor=\"start\" x=\"135\" y=\"-557.8\" font-family=\"Courier,monospace\" font-weight=\"bold\" font-size=\"14.00\">x</text>\n",
       "<text text-anchor=\"start\" x=\"47.5\" y=\"-538.8\" font-family=\"Courier,monospace\" font-size=\"9.00\">def square_root(x): &#160;# type: ignore</text>\n",
       "</a>\n",
       "</g>\n",
       "</g>\n",
       "<!-- guess_functionsquare_rootat0x11afa20e0_61 -->\n",
       "<g id=\"node5\" class=\"node\">\n",
       "<title>guess_functionsquare_rootat0x11afa20e0_61</title>\n",
       "<g id=\"a_node5\"><a xlink:title=\"square_root:61\">\n",
       "<polygon fill=\"peachpuff\" stroke=\"black\" points=\"331.5,-344 141.5,-344 141.5,-304 331.5,-304 331.5,-344\"/>\n",
       "<text text-anchor=\"start\" x=\"215.5\" y=\"-329.8\" font-family=\"Courier,monospace\" font-weight=\"bold\" font-size=\"14.00\">guess</text>\n",
       "<text text-anchor=\"start\" x=\"149.5\" y=\"-310.8\" font-family=\"Courier,monospace\" font-size=\"9.00\">guess = (approx + x / approx) / 2</text>\n",
       "</a>\n",
       "</g>\n",
       "</g>\n",
       "<!-- x_functionsquare_rootat0x11afa20e0_54&#45;&gt;guess_functionsquare_rootat0x11afa20e0_61 -->\n",
       "<g id=\"edge5\" class=\"edge\">\n",
       "<title>x_functionsquare_rootat0x11afa20e0_54&#45;&gt;guess_functionsquare_rootat0x11afa20e0_61</title>\n",
       "<path fill=\"none\" stroke=\"black\" d=\"M193.01,-531.76C208.82,-523.32 224.33,-511.67 233.5,-496 259.01,-452.41 251.94,-391.26 244.33,-355.12\"/>\n",
       "<polygon fill=\"black\" stroke=\"black\" points=\"247.84,-354.77 242.22,-345.8 241.02,-356.32 247.84,-354.77\"/>\n",
       "</g>\n",
       "<!-- guess_functionsquare_rootat0x11afa20e0_58 -->\n",
       "<g id=\"node6\" class=\"node\">\n",
       "<title>guess_functionsquare_rootat0x11afa20e0_58</title>\n",
       "<g id=\"a_node6\"><a xlink:title=\"square_root:58\">\n",
       "<polygon fill=\"peachpuff\" stroke=\"black\" points=\"85,-344 0,-344 0,-304 85,-304 85,-344\"/>\n",
       "<text text-anchor=\"start\" x=\"21.5\" y=\"-329.8\" font-family=\"Courier,monospace\" font-weight=\"bold\" font-size=\"14.00\">guess</text>\n",
       "<text text-anchor=\"start\" x=\"8\" y=\"-310.8\" font-family=\"Courier,monospace\" font-size=\"9.00\">guess = x / 2</text>\n",
       "</a>\n",
       "</g>\n",
       "</g>\n",
       "<!-- x_functionsquare_rootat0x11afa20e0_54&#45;&gt;guess_functionsquare_rootat0x11afa20e0_58 -->\n",
       "<g id=\"edge12\" class=\"edge\">\n",
       "<title>x_functionsquare_rootat0x11afa20e0_54&#45;&gt;guess_functionsquare_rootat0x11afa20e0_58</title>\n",
       "<path fill=\"none\" stroke=\"black\" d=\"M85.99,-531.76C70.18,-523.32 54.67,-511.67 45.5,-496 19.99,-452.41 27.06,-391.26 34.67,-355.12\"/>\n",
       "<polygon fill=\"black\" stroke=\"black\" points=\"37.98,-356.32 36.78,-345.8 31.16,-354.77 37.98,-356.32\"/>\n",
       "</g>\n",
       "<!-- assertion_functionsquare_rootat0x11afa20e0_55 -->\n",
       "<g id=\"node7\" class=\"node\">\n",
       "<title>assertion_functionsquare_rootat0x11afa20e0_55</title>\n",
       "<g id=\"a_node7\"><a xlink:title=\"square_root:55\">\n",
       "<polygon fill=\"peachpuff\" stroke=\"black\" points=\"224,-496 55,-496 55,-456 224,-456 224,-496\"/>\n",
       "<text text-anchor=\"start\" x=\"94\" y=\"-481.8\" font-family=\"Courier,monospace\" font-weight=\"bold\" font-style=\"italic\" font-size=\"14.00\">&lt;assertion&gt;</text>\n",
       "<text text-anchor=\"start\" x=\"63\" y=\"-462.8\" font-family=\"Courier,monospace\" font-size=\"9.00\">assert x &gt;= 0 &#160;# precondition</text>\n",
       "</a>\n",
       "</g>\n",
       "</g>\n",
       "<!-- x_functionsquare_rootat0x11afa20e0_54&#45;&gt;assertion_functionsquare_rootat0x11afa20e0_55 -->\n",
       "<g id=\"edge8\" class=\"edge\">\n",
       "<title>x_functionsquare_rootat0x11afa20e0_54&#45;&gt;assertion_functionsquare_rootat0x11afa20e0_55</title>\n",
       "<path fill=\"none\" stroke=\"black\" d=\"M133.48,-531.56C132.82,-524.25 132.61,-515.75 132.84,-507.67\"/>\n",
       "<polygon fill=\"black\" stroke=\"black\" points=\"136.32,-508.01 133.4,-497.82 129.34,-507.61 136.32,-508.01\"/>\n",
       "</g>\n",
       "<!-- x_functionsquare_rootat0x11afa20e0_54&#45;&gt;assertion_functionsquare_rootat0x11afa20e0_55 -->\n",
       "<!-- assertion_functionsquare_rootat0x11afa20e0_63 -->\n",
       "<g id=\"node9\" class=\"node\">\n",
       "<title>assertion_functionsquare_rootat0x11afa20e0_63</title>\n",
       "<g id=\"a_node9\"><a xlink:title=\"square_root:63\">\n",
       "<polygon fill=\"peachpuff\" stroke=\"black\" points=\"403,-116 182,-116 182,-76 403,-76 403,-116\"/>\n",
       "<text text-anchor=\"start\" x=\"247\" y=\"-101.8\" font-family=\"Courier,monospace\" font-weight=\"bold\" font-style=\"italic\" font-size=\"14.00\">&lt;assertion&gt;</text>\n",
       "<text text-anchor=\"start\" x=\"190\" y=\"-82.8\" font-family=\"Courier,monospace\" font-size=\"9.00\">assert math.isclose(approx * approx, x)</text>\n",
       "</a>\n",
       "</g>\n",
       "</g>\n",
       "<!-- x_functionsquare_rootat0x11afa20e0_54&#45;&gt;assertion_functionsquare_rootat0x11afa20e0_63 -->\n",
       "<g id=\"edge14\" class=\"edge\">\n",
       "<title>x_functionsquare_rootat0x11afa20e0_54&#45;&gt;assertion_functionsquare_rootat0x11afa20e0_63</title>\n",
       "<path fill=\"none\" stroke=\"black\" d=\"M219.24,-531.53C282.2,-510.84 359.5,-471.15 359.5,-401 359.5,-401 359.5,-401 359.5,-247 359.5,-201.39 333.35,-154.23 313.73,-125.25\"/>\n",
       "<polygon fill=\"black\" stroke=\"black\" points=\"316.83,-123.58 308.24,-117.39 311.09,-127.59 316.83,-123.58\"/>\n",
       "</g>\n",
       "<!-- test_functionsquare_rootat0x11afa20e0_59 -->\n",
       "<g id=\"node2\" class=\"node\">\n",
       "<title>test_functionsquare_rootat0x11afa20e0_59</title>\n",
       "<g id=\"a_node2\"><a xlink:title=\"square_root:59\">\n",
       "<polygon fill=\"peachpuff\" stroke=\"black\" points=\"190.5,-268 58.5,-268 58.5,-228 190.5,-228 190.5,-268\"/>\n",
       "<text text-anchor=\"start\" x=\"99.5\" y=\"-253.8\" font-family=\"Courier,monospace\" font-weight=\"bold\" font-style=\"italic\" font-size=\"14.00\">&lt;test&gt;</text>\n",
       "<text text-anchor=\"start\" x=\"66.5\" y=\"-234.8\" font-family=\"Courier,monospace\" font-size=\"9.00\">while approx != guess:</text>\n",
       "</a>\n",
       "</g>\n",
       "</g>\n",
       "<!-- approx_functionsquare_rootat0x11afa20e0_60 -->\n",
       "<g id=\"node4\" class=\"node\">\n",
       "<title>approx_functionsquare_rootat0x11afa20e0_60</title>\n",
       "<g id=\"a_node4\"><a xlink:title=\"square_root:60\">\n",
       "<polygon fill=\"peachpuff\" stroke=\"black\" points=\"198.5,-192 108.5,-192 108.5,-152 198.5,-152 198.5,-192\"/>\n",
       "<text text-anchor=\"start\" x=\"128.5\" y=\"-177.8\" font-family=\"Courier,monospace\" font-weight=\"bold\" font-size=\"14.00\">approx</text>\n",
       "<text text-anchor=\"start\" x=\"116.5\" y=\"-158.8\" font-family=\"Courier,monospace\" font-size=\"9.00\">approx = guess</text>\n",
       "</a>\n",
       "</g>\n",
       "</g>\n",
       "<!-- test_functionsquare_rootat0x11afa20e0_59&#45;&gt;approx_functionsquare_rootat0x11afa20e0_60 -->\n",
       "<g id=\"edge11\" class=\"edge\">\n",
       "<title>test_functionsquare_rootat0x11afa20e0_59&#45;&gt;approx_functionsquare_rootat0x11afa20e0_60</title>\n",
       "<path fill=\"none\" stroke=\"grey\" stroke-dasharray=\"5,2\" d=\"M120.07,-227.56C121.7,-219.91 124.81,-210.96 128.67,-202.55\"/>\n",
       "<polygon fill=\"grey\" stroke=\"grey\" points=\"131.78,-204.16 133.22,-193.66 125.54,-200.97 131.78,-204.16\"/>\n",
       "</g>\n",
       "<!-- test_functionsquare_rootat0x11afa20e0_59&#45;&gt;approx_functionsquare_rootat0x11afa20e0_60 -->\n",
       "<!-- test_functionsquare_rootat0x11afa20e0_59&#45;&gt;guess_functionsquare_rootat0x11afa20e0_61 -->\n",
       "<g id=\"edge7\" class=\"edge\">\n",
       "<title>test_functionsquare_rootat0x11afa20e0_59&#45;&gt;guess_functionsquare_rootat0x11afa20e0_61</title>\n",
       "<path fill=\"none\" stroke=\"grey\" stroke-dasharray=\"5,2\" d=\"M159.74,-268.31C173.89,-277.13 190.04,-287.71 203.91,-297.2\"/>\n",
       "<polygon fill=\"grey\" stroke=\"grey\" points=\"201.64,-299.88 211.85,-302.7 205.62,-294.12 201.64,-299.88\"/>\n",
       "</g>\n",
       "<!-- approx_functionsquare_rootat0x11afa20e0_57 -->\n",
       "<g id=\"node3\" class=\"node\">\n",
       "<title>approx_functionsquare_rootat0x11afa20e0_57</title>\n",
       "<g id=\"a_node3\"><a xlink:title=\"square_root:57\">\n",
       "<polygon fill=\"peachpuff\" stroke=\"black\" points=\"156,-420 71,-420 71,-380 156,-380 156,-420\"/>\n",
       "<text text-anchor=\"start\" x=\"88.5\" y=\"-405.8\" font-family=\"Courier,monospace\" font-weight=\"bold\" font-size=\"14.00\">approx</text>\n",
       "<text text-anchor=\"start\" x=\"79\" y=\"-386.8\" font-family=\"Courier,monospace\" font-size=\"9.00\">approx = None</text>\n",
       "</a>\n",
       "</g>\n",
       "</g>\n",
       "<!-- approx_functionsquare_rootat0x11afa20e0_57&#45;&gt;test_functionsquare_rootat0x11afa20e0_59 -->\n",
       "<g id=\"edge1\" class=\"edge\">\n",
       "<title>approx_functionsquare_rootat0x11afa20e0_57&#45;&gt;test_functionsquare_rootat0x11afa20e0_59</title>\n",
       "<path fill=\"none\" stroke=\"black\" d=\"M114.92,-379.7C116.77,-354.38 120.05,-309.68 122.25,-279.69\"/>\n",
       "<polygon fill=\"black\" stroke=\"black\" points=\"125.74,-279.97 122.98,-269.74 118.76,-279.46 125.74,-279.97\"/>\n",
       "</g>\n",
       "<!-- approx_functionsquare_rootat0x11afa20e0_57&#45;&gt;guess_functionsquare_rootat0x11afa20e0_58 -->\n",
       "<!-- approx_functionsquare_rootat0x11afa20e0_60&#45;&gt;test_functionsquare_rootat0x11afa20e0_59 -->\n",
       "<g id=\"edge2\" class=\"edge\">\n",
       "<title>approx_functionsquare_rootat0x11afa20e0_60&#45;&gt;test_functionsquare_rootat0x11afa20e0_59</title>\n",
       "<path fill=\"none\" stroke=\"black\" d=\"M145.93,-192.31C142.97,-199.86 139.51,-208.69 136.24,-217.03\"/>\n",
       "<polygon fill=\"black\" stroke=\"black\" points=\"133.06,-215.56 132.67,-226.15 139.58,-218.11 133.06,-215.56\"/>\n",
       "</g>\n",
       "<!-- approx_functionsquare_rootat0x11afa20e0_60&#45;&gt;guess_functionsquare_rootat0x11afa20e0_61 -->\n",
       "<g id=\"edge6\" class=\"edge\">\n",
       "<title>approx_functionsquare_rootat0x11afa20e0_60&#45;&gt;guess_functionsquare_rootat0x11afa20e0_61</title>\n",
       "<path fill=\"none\" stroke=\"black\" d=\"M172.44,-192.44C181.49,-202.47 191.96,-215.25 199.5,-228 211.57,-248.41 221.14,-273.47 227.52,-292.73\"/>\n",
       "<polygon fill=\"black\" stroke=\"black\" points=\"224.15,-293.69 230.53,-302.15 230.82,-291.56 224.15,-293.69\"/>\n",
       "</g>\n",
       "<!-- approx_functionsquare_rootat0x11afa20e0_60&#45;&gt;guess_functionsquare_rootat0x11afa20e0_61 -->\n",
       "<!-- square_rootreturnvalue_functionsquare_rootat0x11afa20e0_64 -->\n",
       "<g id=\"node8\" class=\"node\">\n",
       "<title>square_rootreturnvalue_functionsquare_rootat0x11afa20e0_64</title>\n",
       "<g id=\"a_node8\"><a xlink:title=\"square_root:64\">\n",
       "<polygon fill=\"peachpuff\" stroke=\"black\" points=\"346.5,-40 98.5,-40 98.5,0 346.5,0 346.5,-40\"/>\n",
       "<text text-anchor=\"start\" x=\"106.5\" y=\"-25.8\" font-family=\"Courier,monospace\" font-weight=\"bold\" font-style=\"italic\" font-size=\"14.00\">&lt;square_root() return value&gt;</text>\n",
       "<text text-anchor=\"start\" x=\"188\" y=\"-6.8\" font-family=\"Courier,monospace\" font-size=\"9.00\">return approx</text>\n",
       "</a>\n",
       "</g>\n",
       "</g>\n",
       "<!-- approx_functionsquare_rootat0x11afa20e0_60&#45;&gt;square_rootreturnvalue_functionsquare_rootat0x11afa20e0_64 -->\n",
       "<g id=\"edge13\" class=\"edge\">\n",
       "<title>approx_functionsquare_rootat0x11afa20e0_60&#45;&gt;square_rootreturnvalue_functionsquare_rootat0x11afa20e0_64</title>\n",
       "<path fill=\"none\" stroke=\"black\" d=\"M154.63,-151.84C156.45,-131.94 161.19,-100.37 173.5,-76 178.41,-66.28 185.48,-56.93 192.73,-48.79\"/>\n",
       "<polygon fill=\"black\" stroke=\"black\" points=\"195.22,-51.25 199.53,-41.58 190.12,-46.45 195.22,-51.25\"/>\n",
       "</g>\n",
       "<!-- approx_functionsquare_rootat0x11afa20e0_60&#45;&gt;assertion_functionsquare_rootat0x11afa20e0_63 -->\n",
       "<g id=\"edge15\" class=\"edge\">\n",
       "<title>approx_functionsquare_rootat0x11afa20e0_60&#45;&gt;assertion_functionsquare_rootat0x11afa20e0_63</title>\n",
       "<path fill=\"none\" stroke=\"black\" d=\"M190.02,-151.56C207.18,-142.42 227.83,-131.43 246.08,-121.71\"/>\n",
       "<polygon fill=\"black\" stroke=\"black\" points=\"247.71,-124.81 254.89,-117.02 244.42,-118.63 247.71,-124.81\"/>\n",
       "</g>\n",
       "<!-- guess_functionsquare_rootat0x11afa20e0_61&#45;&gt;test_functionsquare_rootat0x11afa20e0_59 -->\n",
       "<g id=\"edge3\" class=\"edge\">\n",
       "<title>guess_functionsquare_rootat0x11afa20e0_61&#45;&gt;test_functionsquare_rootat0x11afa20e0_59</title>\n",
       "<path fill=\"none\" stroke=\"black\" d=\"M201.05,-303.56C186.88,-294.72 170.73,-284.14 156.88,-274.66\"/>\n",
       "<polygon fill=\"black\" stroke=\"black\" points=\"159.18,-271.99 148.96,-269.17 155.19,-277.75 159.18,-271.99\"/>\n",
       "</g>\n",
       "<!-- guess_functionsquare_rootat0x11afa20e0_61&#45;&gt;approx_functionsquare_rootat0x11afa20e0_60 -->\n",
       "<g id=\"edge9\" class=\"edge\">\n",
       "<title>guess_functionsquare_rootat0x11afa20e0_61&#45;&gt;approx_functionsquare_rootat0x11afa20e0_60</title>\n",
       "<path fill=\"none\" stroke=\"black\" d=\"M217.47,-303.6C206.9,-283.78 196,-252.53 181.5,-228 176.08,-218.84 169.15,-209.65 162.99,-201.49\"/>\n",
       "<polygon fill=\"black\" stroke=\"black\" points=\"165.93,-199.59 157.16,-193.65 160.32,-203.77 165.93,-199.59\"/>\n",
       "</g>\n",
       "<!-- guess_functionsquare_rootat0x11afa20e0_61&#45;&gt;assertion_functionsquare_rootat0x11afa20e0_63 -->\n",
       "<!-- guess_functionsquare_rootat0x11afa20e0_58&#45;&gt;test_functionsquare_rootat0x11afa20e0_59 -->\n",
       "<g id=\"edge4\" class=\"edge\">\n",
       "<title>guess_functionsquare_rootat0x11afa20e0_58&#45;&gt;test_functionsquare_rootat0x11afa20e0_59</title>\n",
       "<path fill=\"none\" stroke=\"black\" d=\"M58.02,-303.56C66.68,-295.06 77.71,-284.95 88.33,-275.76\"/>\n",
       "<polygon fill=\"black\" stroke=\"black\" points=\"90.59,-278.44 95.93,-269.29 86.05,-273.11 90.59,-278.44\"/>\n",
       "</g>\n",
       "<!-- guess_functionsquare_rootat0x11afa20e0_58&#45;&gt;test_functionsquare_rootat0x11afa20e0_59 -->\n",
       "<!-- guess_functionsquare_rootat0x11afa20e0_58&#45;&gt;approx_functionsquare_rootat0x11afa20e0_60 -->\n",
       "<g id=\"edge10\" class=\"edge\">\n",
       "<title>guess_functionsquare_rootat0x11afa20e0_58&#45;&gt;approx_functionsquare_rootat0x11afa20e0_60</title>\n",
       "<path fill=\"none\" stroke=\"black\" d=\"M38.81,-303.81C35.96,-283.31 34.66,-250.7 49.5,-228 60.81,-210.7 79.43,-198.48 97.81,-190.03\"/>\n",
       "<polygon fill=\"black\" stroke=\"black\" points=\"99.02,-193.32 106.86,-186.19 96.29,-186.88 99.02,-193.32\"/>\n",
       "</g>\n",
       "<!-- assertion_functionsquare_rootat0x11afa20e0_55&#45;&gt;approx_functionsquare_rootat0x11afa20e0_57 -->\n",
       "<!-- assertion_functionsquare_rootat0x11afa20e0_63&#45;&gt;square_rootreturnvalue_functionsquare_rootat0x11afa20e0_64 -->\n",
       "</g>\n",
       "</svg>\n"
      ],
      "text/plain": [
       "<__main__.Slicer at 0x1192c7bb0>"
      ]
     },
     "execution_count": 203,
     "metadata": {},
     "output_type": "execute_result"
    }
   ],
   "source": [
    "root_slicer"
   ]
  },
  {
   "cell_type": "markdown",
   "metadata": {
    "slideshow": {
     "slide_type": "fragment"
    }
   },
   "source": [
    "Again, we can show the code annotated with dependencies:"
   ]
  },
  {
   "cell_type": "code",
   "execution_count": 204,
   "metadata": {
    "execution": {
     "iopub.execute_input": "2023-01-07T16:02:53.171183Z",
     "iopub.status.busy": "2023-01-07T16:02:53.170556Z",
     "iopub.status.idle": "2023-01-07T16:02:53.501379Z",
     "shell.execute_reply": "2023-01-07T16:02:53.501601Z"
    },
    "slideshow": {
     "slide_type": "subslide"
    }
   },
   "outputs": [
    {
     "name": "stdout",
     "output_type": "stream",
     "text": [
      "*   54 \u001b[34mdef\u001b[39;49;00m \u001b[32msquare_root\u001b[39;49;00m(x):  \u001b[37m# type: ignore\u001b[39;49;00m\u001b[37m\u001b[39;49;00m\n",
      "*   55     \u001b[34massert\u001b[39;49;00m x >= \u001b[34m0\u001b[39;49;00m  \u001b[37m# precondition  # <= x (54)\u001b[39;49;00m\u001b[37m\u001b[39;49;00m\n",
      "    56 \u001b[37m\u001b[39;49;00m\n",
      "*   57     approx = \u001b[34mNone\u001b[39;49;00m\u001b[37m\u001b[39;49;00m\n",
      "*   58     guess = x / \u001b[34m2\u001b[39;49;00m  \u001b[37m# <= x (54)\u001b[39;49;00m\u001b[37m\u001b[39;49;00m\n",
      "*   59     \u001b[34mwhile\u001b[39;49;00m approx != guess:  \u001b[37m# <= approx (57), approx (60), guess (61), guess (58)\u001b[39;49;00m\u001b[37m\u001b[39;49;00m\n",
      "*   60         approx = guess  \u001b[37m# <= guess (61), guess (58); <- <test> (59)\u001b[39;49;00m\u001b[37m\u001b[39;49;00m\n",
      "*   61         guess = (approx + x / approx) / \u001b[34m2\u001b[39;49;00m  \u001b[37m# <= x (54), approx (60); <- <test> (59)\u001b[39;49;00m\u001b[37m\u001b[39;49;00m\n",
      "    62 \u001b[37m\u001b[39;49;00m\n",
      "*   63     \u001b[34massert\u001b[39;49;00m math.isclose(approx * approx, x)  \u001b[37m# <= x (54), approx (60)\u001b[39;49;00m\u001b[37m\u001b[39;49;00m\n",
      "*   64     \u001b[34mreturn\u001b[39;49;00m approx  \u001b[37m# <= approx (60)\u001b[39;49;00m\u001b[37m\u001b[39;49;00m\n"
     ]
    }
   ],
   "source": [
    "root_slicer.code()"
   ]
  },
  {
   "cell_type": "markdown",
   "metadata": {
    "slideshow": {
     "slide_type": "subslide"
    }
   },
   "source": [
    "The astute reader may find that a statement `assert p` does not control the following code, although it would be equivalent to `if not p: raise Exception`. Why is that?"
   ]
  },
  {
   "cell_type": "code",
   "execution_count": 205,
   "metadata": {
    "execution": {
     "iopub.execute_input": "2023-01-07T16:02:53.506281Z",
     "iopub.status.busy": "2023-01-07T16:02:53.505924Z",
     "iopub.status.idle": "2023-01-07T16:02:53.507759Z",
     "shell.execute_reply": "2023-01-07T16:02:53.507969Z"
    },
    "slideshow": {
     "slide_type": "fragment"
    }
   },
   "outputs": [
    {
     "data": {
      "text/html": [
       "\n",
       "    \n",
       "    <script>\n",
       "    var bad_answers = new Map();\n",
       "\n",
       "    function answer(quiz_id) {\n",
       "        ans = 0;\n",
       "        for (i = 1;; i++) {\n",
       "            checkbox = document.getElementById(quiz_id + \"-\" + i.toString());\n",
       "            if (!checkbox)\n",
       "                break;\n",
       "            if (checkbox.checked)\n",
       "                ans |= (1 << i);\n",
       "        }\n",
       "        return ans;\n",
       "    }\n",
       "    function check_selection(quiz_id, correct_answer, multiple_choice, hint) {\n",
       "        given_answer = answer(quiz_id);\n",
       "        if (given_answer == correct_answer)\n",
       "        {\n",
       "            document.getElementById(quiz_id + \"-submit\").value = \"Correct!\";\n",
       "            document.getElementById(quiz_id + \"-hint\").innerHTML = \"\";\n",
       "\n",
       "            for (i = 1;; i++) {\n",
       "                checkbox = document.getElementById(quiz_id + \"-\" + i.toString());\n",
       "                label = document.getElementById(quiz_id + \"-\" + i.toString() + \"-label\")\n",
       "                if (!checkbox)\n",
       "                    break;\n",
       "    \n",
       "                if (checkbox.checked) {\n",
       "                    label.style.fontWeight = \"bold\";\n",
       "                }\n",
       "                else {\n",
       "                    label.style.textDecoration = \"line-through\";\n",
       "                }\n",
       "            }\n",
       "        }\n",
       "        else \n",
       "        {\n",
       "            document.getElementById(quiz_id + \"-submit\").value = \"Try again\";\n",
       "            \n",
       "            if (!bad_answers.has(quiz_id)) {\n",
       "                bad_answers.set(quiz_id, 1);\n",
       "            }\n",
       "            else {\n",
       "                bad_answers.set(quiz_id, bad_answers.get(quiz_id) + 1);\n",
       "            }\n",
       "\n",
       "            if (bad_answers.get(quiz_id) >= 2 && hint.length > 0) {\n",
       "                document.getElementById(quiz_id + \"-hint\").innerHTML = \n",
       "                    \"&nbsp;&nbsp;(Hint: <code>\" + hint + \"</code>)\";\n",
       "            }\n",
       "\n",
       "            if (!multiple_choice) {\n",
       "                for (i = 1;; i++) {\n",
       "                    checkbox = document.getElementById(quiz_id + \"-\" + i.toString());\n",
       "                    label = document.getElementById(quiz_id + \"-\" + i.toString() + \"-label\")\n",
       "\n",
       "                    if (!checkbox)\n",
       "                        break;\n",
       "                    if (checkbox.checked) {\n",
       "                        label.style.textDecoration = \"line-through\";\n",
       "                    }\n",
       "                }\n",
       "            }\n",
       "        }\n",
       "    }\n",
       "    function clear_selection(quiz_id) {\n",
       "        document.getElementById(quiz_id + \"-submit\").value = \"Submit\";\n",
       "        document.getElementById(quiz_id + \"-hint\").innerHTML = \"\";\n",
       "    }\n",
       "    </script>\n",
       "    \n",
       "    <div class=\"quiz\">\n",
       "    <h3 class=\"quiz_title\">Quiz</h3>\n",
       "    <p>\n",
       "    <div class=\"quiz_question\">Why don't <code>assert</code> statements induce control dependencies?</div>\n",
       "    </p>\n",
       "    <p>\n",
       "    <div class=\"quiz_options\" title=\"Pick a choice.\">\n",
       "    \n",
       "        <input type=\"radio\" name=\"be313176-8ea4-11ed-b688-6298cf1a5790\" id=\"be313176-8ea4-11ed-b688-6298cf1a5790-1\" onclick=\"clear_selection('be313176-8ea4-11ed-b688-6298cf1a5790')\">\n",
       "        <label id=\"be313176-8ea4-11ed-b688-6298cf1a5790-1-label\" for=\"be313176-8ea4-11ed-b688-6298cf1a5790-1\">We have no special handling of <code>raise</code> statements</label><br>\n",
       "    \n",
       "        <input type=\"radio\" name=\"be313176-8ea4-11ed-b688-6298cf1a5790\" id=\"be313176-8ea4-11ed-b688-6298cf1a5790-2\" onclick=\"clear_selection('be313176-8ea4-11ed-b688-6298cf1a5790')\">\n",
       "        <label id=\"be313176-8ea4-11ed-b688-6298cf1a5790-2-label\" for=\"be313176-8ea4-11ed-b688-6298cf1a5790-2\">We have no special handling of exceptions</label><br>\n",
       "    \n",
       "        <input type=\"radio\" name=\"be313176-8ea4-11ed-b688-6298cf1a5790\" id=\"be313176-8ea4-11ed-b688-6298cf1a5790-3\" onclick=\"clear_selection('be313176-8ea4-11ed-b688-6298cf1a5790')\">\n",
       "        <label id=\"be313176-8ea4-11ed-b688-6298cf1a5790-3-label\" for=\"be313176-8ea4-11ed-b688-6298cf1a5790-3\">Assertions are not supposed to act as controlling mechanisms</label><br>\n",
       "    \n",
       "        <input type=\"radio\" name=\"be313176-8ea4-11ed-b688-6298cf1a5790\" id=\"be313176-8ea4-11ed-b688-6298cf1a5790-4\" onclick=\"clear_selection('be313176-8ea4-11ed-b688-6298cf1a5790')\">\n",
       "        <label id=\"be313176-8ea4-11ed-b688-6298cf1a5790-4-label\" for=\"be313176-8ea4-11ed-b688-6298cf1a5790-4\">All of the above</label><br>\n",
       "    \n",
       "    </div>\n",
       "    </p>\n",
       "    <input id=\"be313176-8ea4-11ed-b688-6298cf1a5790-submit\" type=\"submit\" value=\"Submit\" onclick=\"check_selection('be313176-8ea4-11ed-b688-6298cf1a5790', 16, 0, '(1 * 1 &lt;&lt; 1 * 1 &lt;&lt; 1 * 1)')\">\n",
       "    <span class=\"quiz_hint\" id=\"be313176-8ea4-11ed-b688-6298cf1a5790-hint\"></span>\n",
       "    </div>\n",
       "    "
      ],
      "text/plain": [
       "<IPython.core.display.HTML object>"
      ]
     },
     "execution_count": 205,
     "metadata": {},
     "output_type": "execute_result"
    }
   ],
   "source": [
    "quiz(\"Why don't `assert` statements induce control dependencies?\",\n",
    "     [\n",
    "         \"We have no special handling of `raise` statements\",\n",
    "         \"We have no special handling of exceptions\",\n",
    "         \"Assertions are not supposed to act as controlling mechanisms\",\n",
    "         \"All of the above\",\n",
    "     ], '(1 * 1 << 1 * 1 << 1 * 1)')"
   ]
  },
  {
   "cell_type": "markdown",
   "metadata": {
    "slideshow": {
     "slide_type": "subslide"
    }
   },
   "source": [
    "Indeed: we treat assertions as \"neutral\" in the sense that they do not affect the remainder of the program – if they are turned off, they have no effect; and if they are turned on, the remaining program logic should not depend on them. (Our instrumentation also has no special treatment of `raise` or even `return` statements; they should be handled by our `with` blocks, though.)"
   ]
  },
  {
   "cell_type": "code",
   "execution_count": 206,
   "metadata": {
    "execution": {
     "iopub.execute_input": "2023-01-07T16:02:53.509996Z",
     "iopub.status.busy": "2023-01-07T16:02:53.509654Z",
     "iopub.status.idle": "2023-01-07T16:02:53.511054Z",
     "shell.execute_reply": "2023-01-07T16:02:53.511255Z"
    },
    "slideshow": {
     "slide_type": "fragment"
    }
   },
   "outputs": [],
   "source": [
    "# print(repr(root_slicer))"
   ]
  },
  {
   "cell_type": "markdown",
   "metadata": {
    "slideshow": {
     "slide_type": "subslide"
    }
   },
   "source": [
    "### Removing HTML Markup"
   ]
  },
  {
   "cell_type": "markdown",
   "metadata": {
    "slideshow": {
     "slide_type": "fragment"
    }
   },
   "source": [
    "Let us come to our ongoing example, `remove_html_markup()`. This is how its instrumented code looks like:"
   ]
  },
  {
   "cell_type": "code",
   "execution_count": 207,
   "metadata": {
    "execution": {
     "iopub.execute_input": "2023-01-07T16:02:53.521324Z",
     "iopub.status.busy": "2023-01-07T16:02:53.520974Z",
     "iopub.status.idle": "2023-01-07T16:02:53.522238Z",
     "shell.execute_reply": "2023-01-07T16:02:53.522436Z"
    },
    "slideshow": {
     "slide_type": "fragment"
    }
   },
   "outputs": [],
   "source": [
    "with Slicer(remove_html_markup) as rhm_slicer:\n",
    "    s = remove_html_markup(\"<foo>bar</foo>\")"
   ]
  },
  {
   "cell_type": "markdown",
   "metadata": {
    "slideshow": {
     "slide_type": "fragment"
    }
   },
   "source": [
    "The graph is as discussed in the introduction to this chapter:"
   ]
  },
  {
   "cell_type": "code",
   "execution_count": 208,
   "metadata": {
    "execution": {
     "iopub.execute_input": "2023-01-07T16:02:53.525064Z",
     "iopub.status.busy": "2023-01-07T16:02:53.524717Z",
     "iopub.status.idle": "2023-01-07T16:02:53.809172Z",
     "shell.execute_reply": "2023-01-07T16:02:53.809386Z"
    },
    "slideshow": {
     "slide_type": "fragment"
    }
   },
   "outputs": [
    {
     "data": {
      "image/svg+xml": [
       "<?xml version=\"1.0\" encoding=\"UTF-8\" standalone=\"no\"?>\n",
       "<!DOCTYPE svg PUBLIC \"-//W3C//DTD SVG 1.1//EN\"\n",
       " \"http://www.w3.org/Graphics/SVG/1.1/DTD/svg11.dtd\">\n",
       "<!-- Generated by graphviz version 7.0.2 (20221119.0110)\n",
       " -->\n",
       "<!-- Title: dependencies Pages: 1 -->\n",
       "<svg width=\"574pt\" height=\"960pt\"\n",
       " viewBox=\"0.00 0.00 574.00 960.00\" xmlns=\"http://www.w3.org/2000/svg\" xmlns:xlink=\"http://www.w3.org/1999/xlink\">\n",
       "<g id=\"graph0\" class=\"graph\" transform=\"scale(1 1) rotate(0) translate(4 956)\">\n",
       "<title>dependencies</title>\n",
       "<polygon fill=\"white\" stroke=\"none\" points=\"-4,4 -4,-956 570,-956 570,4 -4,4\"/>\n",
       "<!-- test_functionremove_html_markupat0x11afa2cb0_246 -->\n",
       "<g id=\"node1\" class=\"node\">\n",
       "<title>test_functionremove_html_markupat0x11afa2cb0_246</title>\n",
       "<g id=\"a_node1\"><a xlink:title=\"remove_html_markup:246\">\n",
       "<polygon fill=\"peachpuff\" stroke=\"black\" points=\"417.5,-572 264.5,-572 264.5,-532 417.5,-532 417.5,-572\"/>\n",
       "<text text-anchor=\"start\" x=\"316\" y=\"-557.8\" font-family=\"Courier,monospace\" font-weight=\"bold\" font-style=\"italic\" font-size=\"14.00\">&lt;test&gt;</text>\n",
       "<text text-anchor=\"start\" x=\"272.5\" y=\"-538.8\" font-family=\"Courier,monospace\" font-size=\"9.00\">if c == &#39;&lt;&#39; and not quote:</text>\n",
       "</a>\n",
       "</g>\n",
       "</g>\n",
       "<!-- test_functionremove_html_markupat0x11afa2cb0_248 -->\n",
       "<g id=\"node7\" class=\"node\">\n",
       "<title>test_functionremove_html_markupat0x11afa2cb0_248</title>\n",
       "<g id=\"a_node7\"><a xlink:title=\"remove_html_markup:248\">\n",
       "<polygon fill=\"peachpuff\" stroke=\"black\" points=\"310,-420 146,-420 146,-380 310,-380 310,-420\"/>\n",
       "<text text-anchor=\"start\" x=\"203\" y=\"-405.8\" font-family=\"Courier,monospace\" font-weight=\"bold\" font-style=\"italic\" font-size=\"14.00\">&lt;test&gt;</text>\n",
       "<text text-anchor=\"start\" x=\"154\" y=\"-386.8\" font-family=\"Courier,monospace\" font-size=\"9.00\">elif c == &#39;&gt;&#39; and not quote:</text>\n",
       "</a>\n",
       "</g>\n",
       "</g>\n",
       "<!-- test_functionremove_html_markupat0x11afa2cb0_246&#45;&gt;test_functionremove_html_markupat0x11afa2cb0_248 -->\n",
       "<g id=\"edge9\" class=\"edge\">\n",
       "<title>test_functionremove_html_markupat0x11afa2cb0_246&#45;&gt;test_functionremove_html_markupat0x11afa2cb0_248</title>\n",
       "<path fill=\"none\" stroke=\"grey\" stroke-dasharray=\"5,2\" d=\"M325.1,-531.57C316.63,-521.12 306.12,-507.96 297,-496 280.26,-474.05 261.93,-448.75 248.37,-429.77\"/>\n",
       "<polygon fill=\"grey\" stroke=\"grey\" points=\"251.28,-427.83 242.63,-421.71 245.58,-431.89 251.28,-427.83\"/>\n",
       "</g>\n",
       "<!-- tag_functionremove_html_markupat0x11afa2cb0_247 -->\n",
       "<g id=\"node11\" class=\"node\">\n",
       "<title>tag_functionremove_html_markupat0x11afa2cb0_247</title>\n",
       "<g id=\"a_node11\"><a xlink:title=\"remove_html_markup:247\">\n",
       "<polygon fill=\"peachpuff\" stroke=\"black\" points=\"375.5,-496 306.5,-496 306.5,-456 375.5,-456 375.5,-496\"/>\n",
       "<text text-anchor=\"start\" x=\"328.5\" y=\"-481.8\" font-family=\"Courier,monospace\" font-weight=\"bold\" font-size=\"14.00\">tag</text>\n",
       "<text text-anchor=\"start\" x=\"314.5\" y=\"-462.8\" font-family=\"Courier,monospace\" font-size=\"9.00\">tag = True</text>\n",
       "</a>\n",
       "</g>\n",
       "</g>\n",
       "<!-- test_functionremove_html_markupat0x11afa2cb0_246&#45;&gt;tag_functionremove_html_markupat0x11afa2cb0_247 -->\n",
       "<g id=\"edge22\" class=\"edge\">\n",
       "<title>test_functionremove_html_markupat0x11afa2cb0_246&#45;&gt;tag_functionremove_html_markupat0x11afa2cb0_247</title>\n",
       "<path fill=\"none\" stroke=\"grey\" stroke-dasharray=\"5,2\" d=\"M334.98,-531.56C334.32,-524.25 334.11,-515.75 334.34,-507.67\"/>\n",
       "<polygon fill=\"grey\" stroke=\"grey\" points=\"337.82,-508.01 334.9,-497.82 330.84,-507.61 337.82,-508.01\"/>\n",
       "</g>\n",
       "<!-- test_functionremove_html_markupat0x11afa2cb0_246&#45;&gt;tag_functionremove_html_markupat0x11afa2cb0_247 -->\n",
       "<!-- quote_functionremove_html_markupat0x11afa2cb0_240 -->\n",
       "<g id=\"node2\" class=\"node\">\n",
       "<title>quote_functionremove_html_markupat0x11afa2cb0_240</title>\n",
       "<g id=\"a_node2\"><a xlink:title=\"remove_html_markup:240\">\n",
       "<polygon fill=\"peachpuff\" stroke=\"black\" points=\"471.5,-800 386.5,-800 386.5,-760 471.5,-760 471.5,-800\"/>\n",
       "<text text-anchor=\"start\" x=\"408\" y=\"-785.8\" font-family=\"Courier,monospace\" font-weight=\"bold\" font-size=\"14.00\">quote</text>\n",
       "<text text-anchor=\"start\" x=\"394.5\" y=\"-766.8\" font-family=\"Courier,monospace\" font-size=\"9.00\">quote = False</text>\n",
       "</a>\n",
       "</g>\n",
       "</g>\n",
       "<!-- quote_functionremove_html_markupat0x11afa2cb0_240&#45;&gt;test_functionremove_html_markupat0x11afa2cb0_246 -->\n",
       "<g id=\"edge1\" class=\"edge\">\n",
       "<title>quote_functionremove_html_markupat0x11afa2cb0_240&#45;&gt;test_functionremove_html_markupat0x11afa2cb0_246</title>\n",
       "<path fill=\"none\" stroke=\"black\" d=\"M427.12,-759.54C423.33,-726.74 412.82,-659 387,-608 382.13,-598.38 375.28,-588.97 368.36,-580.73\"/>\n",
       "<polygon fill=\"black\" stroke=\"black\" points=\"371.15,-578.6 361.91,-573.43 365.91,-583.24 371.15,-578.6\"/>\n",
       "</g>\n",
       "<!-- out_functionremove_html_markupat0x11afa2cb0_241 -->\n",
       "<g id=\"node5\" class=\"node\">\n",
       "<title>out_functionremove_html_markupat0x11afa2cb0_241</title>\n",
       "<g id=\"a_node5\"><a xlink:title=\"remove_html_markup:241\">\n",
       "<polygon fill=\"peachpuff\" stroke=\"black\" points=\"537.5,-724 478.5,-724 478.5,-684 537.5,-684 537.5,-724\"/>\n",
       "<text text-anchor=\"start\" x=\"495.5\" y=\"-709.8\" font-family=\"Courier,monospace\" font-weight=\"bold\" font-size=\"14.00\">out</text>\n",
       "<text text-anchor=\"start\" x=\"486.5\" y=\"-690.8\" font-family=\"Courier,monospace\" font-size=\"9.00\">out = &quot;&quot;</text>\n",
       "</a>\n",
       "</g>\n",
       "</g>\n",
       "<!-- quote_functionremove_html_markupat0x11afa2cb0_240&#45;&gt;out_functionremove_html_markupat0x11afa2cb0_241 -->\n",
       "<!-- quote_functionremove_html_markupat0x11afa2cb0_240&#45;&gt;test_functionremove_html_markupat0x11afa2cb0_248 -->\n",
       "<g id=\"edge7\" class=\"edge\">\n",
       "<title>quote_functionremove_html_markupat0x11afa2cb0_240&#45;&gt;test_functionremove_html_markupat0x11afa2cb0_248</title>\n",
       "<path fill=\"none\" stroke=\"black\" d=\"M386.3,-773.37C277.79,-757.87 0,-710.27 0,-629 0,-629 0,-629 0,-551 0,-482.92 71.83,-444.01 134.85,-422.97\"/>\n",
       "<polygon fill=\"black\" stroke=\"black\" points=\"135.79,-426.34 144.25,-419.96 133.65,-419.68 135.79,-426.34\"/>\n",
       "</g>\n",
       "<!-- assertion_functionremove_html_markupat0x11afa2cb0_244 -->\n",
       "<g id=\"node14\" class=\"node\">\n",
       "<title>assertion_functionremove_html_markupat0x11afa2cb0_244</title>\n",
       "<g id=\"a_node14\"><a xlink:title=\"remove_html_markup:244\">\n",
       "<polygon fill=\"peachpuff\" stroke=\"black\" points=\"512.5,-268 375.5,-268 375.5,-228 512.5,-228 512.5,-268\"/>\n",
       "<text text-anchor=\"start\" x=\"398.5\" y=\"-253.8\" font-family=\"Courier,monospace\" font-weight=\"bold\" font-style=\"italic\" font-size=\"14.00\">&lt;assertion&gt;</text>\n",
       "<text text-anchor=\"start\" x=\"383.5\" y=\"-234.8\" font-family=\"Courier,monospace\" font-size=\"9.00\">assert tag or not quote</text>\n",
       "</a>\n",
       "</g>\n",
       "</g>\n",
       "<!-- quote_functionremove_html_markupat0x11afa2cb0_240&#45;&gt;assertion_functionremove_html_markupat0x11afa2cb0_244 -->\n",
       "<g id=\"edge19\" class=\"edge\">\n",
       "<title>quote_functionremove_html_markupat0x11afa2cb0_240&#45;&gt;assertion_functionremove_html_markupat0x11afa2cb0_244</title>\n",
       "<path fill=\"none\" stroke=\"black\" d=\"M435.64,-759.84C451.45,-712.48 490,-585.85 490,-477 490,-477 490,-477 490,-399 490,-355.58 472.16,-308.06 458.7,-278.4\"/>\n",
       "<polygon fill=\"black\" stroke=\"black\" points=\"462.03,-277.26 454.62,-269.69 455.69,-280.23 462.03,-277.26\"/>\n",
       "</g>\n",
       "<!-- c_functionremove_html_markupat0x11afa2cb0_243 -->\n",
       "<g id=\"node3\" class=\"node\">\n",
       "<title>c_functionremove_html_markupat0x11afa2cb0_243</title>\n",
       "<g id=\"a_node3\"><a xlink:title=\"remove_html_markup:243\">\n",
       "<polygon fill=\"peachpuff\" stroke=\"black\" points=\"378,-648 304,-648 304,-608 378,-608 378,-648\"/>\n",
       "<text text-anchor=\"start\" x=\"336.5\" y=\"-633.8\" font-family=\"Courier,monospace\" font-weight=\"bold\" font-size=\"14.00\">c</text>\n",
       "<text text-anchor=\"start\" x=\"312\" y=\"-614.8\" font-family=\"Courier,monospace\" font-size=\"9.00\">for c in s:</text>\n",
       "</a>\n",
       "</g>\n",
       "</g>\n",
       "<!-- c_functionremove_html_markupat0x11afa2cb0_243&#45;&gt;test_functionremove_html_markupat0x11afa2cb0_246 -->\n",
       "<g id=\"edge2\" class=\"edge\">\n",
       "<title>c_functionremove_html_markupat0x11afa2cb0_243&#45;&gt;test_functionremove_html_markupat0x11afa2cb0_246</title>\n",
       "<path fill=\"none\" stroke=\"black\" d=\"M341,-607.56C341,-600.25 341,-591.75 341,-583.67\"/>\n",
       "<polygon fill=\"black\" stroke=\"black\" points=\"344.5,-583.83 341,-573.83 337.5,-583.83 344.5,-583.83\"/>\n",
       "</g>\n",
       "<!-- out_functionremove_html_markupat0x11afa2cb0_253 -->\n",
       "<g id=\"node4\" class=\"node\">\n",
       "<title>out_functionremove_html_markupat0x11afa2cb0_253</title>\n",
       "<g id=\"a_node4\"><a xlink:title=\"remove_html_markup:253\">\n",
       "<polygon fill=\"peachpuff\" stroke=\"black\" points=\"276.5,-116 191.5,-116 191.5,-76 276.5,-76 276.5,-116\"/>\n",
       "<text text-anchor=\"start\" x=\"221.5\" y=\"-101.8\" font-family=\"Courier,monospace\" font-weight=\"bold\" font-size=\"14.00\">out</text>\n",
       "<text text-anchor=\"start\" x=\"199.5\" y=\"-82.8\" font-family=\"Courier,monospace\" font-size=\"9.00\">out = out + c</text>\n",
       "</a>\n",
       "</g>\n",
       "</g>\n",
       "<!-- c_functionremove_html_markupat0x11afa2cb0_243&#45;&gt;out_functionremove_html_markupat0x11afa2cb0_253 -->\n",
       "<g id=\"edge5\" class=\"edge\">\n",
       "<title>c_functionremove_html_markupat0x11afa2cb0_243&#45;&gt;out_functionremove_html_markupat0x11afa2cb0_253</title>\n",
       "<path fill=\"none\" stroke=\"black\" d=\"M303.54,-625.44C222.47,-619.85 38,-594.25 38,-477 38,-477 38,-477 38,-247 38,-174.94 122.57,-132.83 180.61,-112.41\"/>\n",
       "<polygon fill=\"black\" stroke=\"black\" points=\"181.69,-115.74 190.04,-109.22 179.44,-109.11 181.69,-115.74\"/>\n",
       "</g>\n",
       "<!-- c_functionremove_html_markupat0x11afa2cb0_243&#45;&gt;test_functionremove_html_markupat0x11afa2cb0_248 -->\n",
       "<g id=\"edge8\" class=\"edge\">\n",
       "<title>c_functionremove_html_markupat0x11afa2cb0_243&#45;&gt;test_functionremove_html_markupat0x11afa2cb0_248</title>\n",
       "<path fill=\"none\" stroke=\"black\" d=\"M303.83,-611.99C286.26,-603 266.64,-589.8 255,-572 227.07,-529.29 224.31,-468 225.62,-431.58\"/>\n",
       "<polygon fill=\"black\" stroke=\"black\" points=\"229.11,-431.91 226.11,-421.75 222.12,-431.56 229.11,-431.91\"/>\n",
       "</g>\n",
       "<!-- test_functionremove_html_markupat0x11afa2cb0_250 -->\n",
       "<g id=\"node10\" class=\"node\">\n",
       "<title>test_functionremove_html_markupat0x11afa2cb0_250</title>\n",
       "<g id=\"a_node10\"><a xlink:title=\"remove_html_markup:250\">\n",
       "<polygon fill=\"peachpuff\" stroke=\"black\" points=\"272,-268 66,-268 66,-228 272,-228 272,-268\"/>\n",
       "<text text-anchor=\"start\" x=\"144\" y=\"-253.8\" font-family=\"Courier,monospace\" font-weight=\"bold\" font-style=\"italic\" font-size=\"14.00\">&lt;test&gt;</text>\n",
       "<text text-anchor=\"start\" x=\"74\" y=\"-234.8\" font-family=\"Courier,monospace\" font-size=\"9.00\">elif (c == &#39;&quot;&#39; or c == &quot;&#39;&quot;) and tag:</text>\n",
       "</a>\n",
       "</g>\n",
       "</g>\n",
       "<!-- c_functionremove_html_markupat0x11afa2cb0_243&#45;&gt;test_functionremove_html_markupat0x11afa2cb0_250 -->\n",
       "<g id=\"edge10\" class=\"edge\">\n",
       "<title>c_functionremove_html_markupat0x11afa2cb0_243&#45;&gt;test_functionremove_html_markupat0x11afa2cb0_250</title>\n",
       "<path fill=\"none\" stroke=\"black\" d=\"M303.67,-619.79C240.19,-605.13 118,-565.42 118,-477 118,-477 118,-477 118,-399 118,-355.15 137.78,-307.74 152.7,-278.22\"/>\n",
       "<polygon fill=\"black\" stroke=\"black\" points=\"155.71,-280.01 157.23,-269.53 149.51,-276.77 155.71,-280.01\"/>\n",
       "</g>\n",
       "<!-- c_functionremove_html_markupat0x11afa2cb0_243&#45;&gt;assertion_functionremove_html_markupat0x11afa2cb0_244 -->\n",
       "<!-- out_functionremove_html_markupat0x11afa2cb0_253&#45;&gt;out_functionremove_html_markupat0x11afa2cb0_253 -->\n",
       "<g id=\"edge4\" class=\"edge\">\n",
       "<title>out_functionremove_html_markupat0x11afa2cb0_253&#45;&gt;out_functionremove_html_markupat0x11afa2cb0_253</title>\n",
       "<path fill=\"none\" stroke=\"black\" d=\"M276.96,-109.97C287.05,-108.82 294.5,-104.16 294.5,-96 294.5,-91.28 292.01,-87.73 287.96,-85.36\"/>\n",
       "<polygon fill=\"black\" stroke=\"black\" points=\"288.99,-82.01 278.41,-82.47 286.97,-88.71 288.99,-82.01\"/>\n",
       "</g>\n",
       "<!-- remove_html_markupreturnvalue_functionremove_html_markupat0x11afa2cb0_255 -->\n",
       "<g id=\"node13\" class=\"node\">\n",
       "<title>remove_html_markupreturnvalue_functionremove_html_markupat0x11afa2cb0_255</title>\n",
       "<g id=\"a_node13\"><a xlink:title=\"remove_html_markup:255\">\n",
       "<polygon fill=\"peachpuff\" stroke=\"black\" points=\"386.5,-40 81.5,-40 81.5,0 386.5,0 386.5,-40\"/>\n",
       "<text text-anchor=\"start\" x=\"89.5\" y=\"-25.8\" font-family=\"Courier,monospace\" font-weight=\"bold\" font-style=\"italic\" font-size=\"14.00\">&lt;remove_html_markup() return value&gt;</text>\n",
       "<text text-anchor=\"start\" x=\"207.5\" y=\"-6.8\" font-family=\"Courier,monospace\" font-size=\"9.00\">return out</text>\n",
       "</a>\n",
       "</g>\n",
       "</g>\n",
       "<!-- out_functionremove_html_markupat0x11afa2cb0_253&#45;&gt;remove_html_markupreturnvalue_functionremove_html_markupat0x11afa2cb0_255 -->\n",
       "<g id=\"edge15\" class=\"edge\">\n",
       "<title>out_functionremove_html_markupat0x11afa2cb0_253&#45;&gt;remove_html_markupreturnvalue_functionremove_html_markupat0x11afa2cb0_255</title>\n",
       "<path fill=\"none\" stroke=\"black\" d=\"M227.98,-75.56C227.32,-68.25 227.11,-59.75 227.34,-51.67\"/>\n",
       "<polygon fill=\"black\" stroke=\"black\" points=\"230.82,-52.01 227.9,-41.82 223.84,-51.61 230.82,-52.01\"/>\n",
       "</g>\n",
       "<!-- out_functionremove_html_markupat0x11afa2cb0_253&#45;&gt;remove_html_markupreturnvalue_functionremove_html_markupat0x11afa2cb0_255 -->\n",
       "<!-- out_functionremove_html_markupat0x11afa2cb0_241&#45;&gt;c_functionremove_html_markupat0x11afa2cb0_243 -->\n",
       "<!-- out_functionremove_html_markupat0x11afa2cb0_241&#45;&gt;out_functionremove_html_markupat0x11afa2cb0_253 -->\n",
       "<g id=\"edge3\" class=\"edge\">\n",
       "<title>out_functionremove_html_markupat0x11afa2cb0_241&#45;&gt;out_functionremove_html_markupat0x11afa2cb0_253</title>\n",
       "<path fill=\"none\" stroke=\"black\" d=\"M512.24,-683.69C518.11,-655.24 528,-600.29 528,-553 528,-553 528,-553 528,-475 528,-365.19 582.55,-319.6 522,-228 469.46,-148.51 355.89,-116.6 288.12,-104.28\"/>\n",
       "<polygon fill=\"black\" stroke=\"black\" points=\"288.78,-100.85 278.33,-102.59 287.59,-107.74 288.78,-100.85\"/>\n",
       "</g>\n",
       "<!-- test_functionremove_html_markupat0x11afa2cb0_252 -->\n",
       "<g id=\"node6\" class=\"node\">\n",
       "<title>test_functionremove_html_markupat0x11afa2cb0_252</title>\n",
       "<g id=\"a_node6\"><a xlink:title=\"remove_html_markup:252\">\n",
       "<polygon fill=\"peachpuff\" stroke=\"black\" points=\"276.5,-192 191.5,-192 191.5,-152 276.5,-152 276.5,-192\"/>\n",
       "<text text-anchor=\"start\" x=\"209\" y=\"-177.8\" font-family=\"Courier,monospace\" font-weight=\"bold\" font-style=\"italic\" font-size=\"14.00\">&lt;test&gt;</text>\n",
       "<text text-anchor=\"start\" x=\"199.5\" y=\"-158.8\" font-family=\"Courier,monospace\" font-size=\"9.00\">elif not tag:</text>\n",
       "</a>\n",
       "</g>\n",
       "</g>\n",
       "<!-- test_functionremove_html_markupat0x11afa2cb0_252&#45;&gt;out_functionremove_html_markupat0x11afa2cb0_253 -->\n",
       "<g id=\"edge6\" class=\"edge\">\n",
       "<title>test_functionremove_html_markupat0x11afa2cb0_252&#45;&gt;out_functionremove_html_markupat0x11afa2cb0_253</title>\n",
       "<path fill=\"none\" stroke=\"grey\" stroke-dasharray=\"5,2\" d=\"M227.98,-151.56C227.32,-144.25 227.11,-135.75 227.34,-127.67\"/>\n",
       "<polygon fill=\"grey\" stroke=\"grey\" points=\"230.82,-128.01 227.9,-117.82 223.84,-127.61 230.82,-128.01\"/>\n",
       "</g>\n",
       "<!-- test_functionremove_html_markupat0x11afa2cb0_252&#45;&gt;out_functionremove_html_markupat0x11afa2cb0_253 -->\n",
       "<!-- test_functionremove_html_markupat0x11afa2cb0_248&#45;&gt;test_functionremove_html_markupat0x11afa2cb0_250 -->\n",
       "<g id=\"edge11\" class=\"edge\">\n",
       "<title>test_functionremove_html_markupat0x11afa2cb0_248&#45;&gt;test_functionremove_html_markupat0x11afa2cb0_250</title>\n",
       "<path fill=\"none\" stroke=\"grey\" stroke-dasharray=\"5,2\" d=\"M210.74,-379.66C202.68,-369.66 193.64,-356.87 188,-344 179.04,-323.56 174.26,-298.78 171.74,-279.66\"/>\n",
       "<polygon fill=\"grey\" stroke=\"grey\" points=\"175.23,-279.32 170.59,-269.79 168.27,-280.13 175.23,-279.32\"/>\n",
       "</g>\n",
       "<!-- tag_functionremove_html_markupat0x11afa2cb0_249 -->\n",
       "<g id=\"node12\" class=\"node\">\n",
       "<title>tag_functionremove_html_markupat0x11afa2cb0_249</title>\n",
       "<g id=\"a_node12\"><a xlink:title=\"remove_html_markup:249\">\n",
       "<polygon fill=\"peachpuff\" stroke=\"black\" points=\"271,-344 197,-344 197,-304 271,-304 271,-344\"/>\n",
       "<text text-anchor=\"start\" x=\"221.5\" y=\"-329.8\" font-family=\"Courier,monospace\" font-weight=\"bold\" font-size=\"14.00\">tag</text>\n",
       "<text text-anchor=\"start\" x=\"205\" y=\"-310.8\" font-family=\"Courier,monospace\" font-size=\"9.00\">tag = False</text>\n",
       "</a>\n",
       "</g>\n",
       "</g>\n",
       "<!-- test_functionremove_html_markupat0x11afa2cb0_248&#45;&gt;tag_functionremove_html_markupat0x11afa2cb0_249 -->\n",
       "<g id=\"edge16\" class=\"edge\">\n",
       "<title>test_functionremove_html_markupat0x11afa2cb0_248&#45;&gt;tag_functionremove_html_markupat0x11afa2cb0_249</title>\n",
       "<path fill=\"none\" stroke=\"grey\" stroke-dasharray=\"5,2\" d=\"M223.55,-379.56C223.49,-372.25 223.97,-363.75 224.85,-355.67\"/>\n",
       "<polygon fill=\"grey\" stroke=\"grey\" points=\"228.31,-356.2 226.22,-345.81 221.38,-355.24 228.31,-356.2\"/>\n",
       "</g>\n",
       "<!-- test_functionremove_html_markupat0x11afa2cb0_248&#45;&gt;tag_functionremove_html_markupat0x11afa2cb0_249 -->\n",
       "<!-- s_functionremove_html_markupat0x11afa2cb0_238 -->\n",
       "<g id=\"node8\" class=\"node\">\n",
       "<title>s_functionremove_html_markupat0x11afa2cb0_238</title>\n",
       "<g id=\"a_node8\"><a xlink:title=\"remove_html_markup:238\">\n",
       "<polygon fill=\"peachpuff\" stroke=\"black\" points=\"509.5,-952 272.5,-952 272.5,-912 509.5,-912 509.5,-952\"/>\n",
       "<text text-anchor=\"start\" x=\"386.5\" y=\"-937.8\" font-family=\"Courier,monospace\" font-weight=\"bold\" font-size=\"14.00\">s</text>\n",
       "<text text-anchor=\"start\" x=\"280.5\" y=\"-918.8\" font-family=\"Courier,monospace\" font-size=\"9.00\">def remove_html_markup(s): &#160;# type: ignore</text>\n",
       "</a>\n",
       "</g>\n",
       "</g>\n",
       "<!-- s_functionremove_html_markupat0x11afa2cb0_238&#45;&gt;c_functionremove_html_markupat0x11afa2cb0_243 -->\n",
       "<g id=\"edge21\" class=\"edge\">\n",
       "<title>s_functionremove_html_markupat0x11afa2cb0_238&#45;&gt;c_functionremove_html_markupat0x11afa2cb0_243</title>\n",
       "<path fill=\"none\" stroke=\"black\" d=\"M387.8,-911.65C379.33,-860.51 356.31,-721.47 346.05,-659.51\"/>\n",
       "<polygon fill=\"black\" stroke=\"black\" points=\"349.51,-658.98 344.42,-649.68 342.6,-660.12 349.51,-658.98\"/>\n",
       "</g>\n",
       "<!-- tag_functionremove_html_markupat0x11afa2cb0_239 -->\n",
       "<g id=\"node9\" class=\"node\">\n",
       "<title>tag_functionremove_html_markupat0x11afa2cb0_239</title>\n",
       "<g id=\"a_node9\"><a xlink:title=\"remove_html_markup:239\">\n",
       "<polygon fill=\"peachpuff\" stroke=\"black\" points=\"466,-876 392,-876 392,-836 466,-836 466,-876\"/>\n",
       "<text text-anchor=\"start\" x=\"416.5\" y=\"-861.8\" font-family=\"Courier,monospace\" font-weight=\"bold\" font-size=\"14.00\">tag</text>\n",
       "<text text-anchor=\"start\" x=\"400\" y=\"-842.8\" font-family=\"Courier,monospace\" font-size=\"9.00\">tag = False</text>\n",
       "</a>\n",
       "</g>\n",
       "</g>\n",
       "<!-- s_functionremove_html_markupat0x11afa2cb0_238&#45;&gt;tag_functionremove_html_markupat0x11afa2cb0_239 -->\n",
       "<!-- tag_functionremove_html_markupat0x11afa2cb0_239&#45;&gt;quote_functionremove_html_markupat0x11afa2cb0_240 -->\n",
       "<!-- tag_functionremove_html_markupat0x11afa2cb0_239&#45;&gt;assertion_functionremove_html_markupat0x11afa2cb0_244 -->\n",
       "<g id=\"edge17\" class=\"edge\">\n",
       "<title>tag_functionremove_html_markupat0x11afa2cb0_239&#45;&gt;assertion_functionremove_html_markupat0x11afa2cb0_244</title>\n",
       "<path fill=\"none\" stroke=\"black\" d=\"M465.35,-835.67C505.94,-811.16 566,-764.78 566,-705 566,-705 566,-705 566,-475 566,-395.41 506.69,-316.93 470.77,-276.71\"/>\n",
       "<polygon fill=\"black\" stroke=\"black\" points=\"473.41,-274.41 464.08,-269.38 468.24,-279.13 473.41,-274.41\"/>\n",
       "</g>\n",
       "<!-- test_functionremove_html_markupat0x11afa2cb0_250&#45;&gt;test_functionremove_html_markupat0x11afa2cb0_252 -->\n",
       "<g id=\"edge14\" class=\"edge\">\n",
       "<title>test_functionremove_html_markupat0x11afa2cb0_250&#45;&gt;test_functionremove_html_markupat0x11afa2cb0_252</title>\n",
       "<path fill=\"none\" stroke=\"grey\" stroke-dasharray=\"5,2\" d=\"M180.05,-227.56C186.56,-219.31 194.95,-209.56 203.21,-200.59\"/>\n",
       "<polygon fill=\"grey\" stroke=\"grey\" points=\"205.67,-203.09 209.99,-193.41 200.58,-198.28 205.67,-203.09\"/>\n",
       "</g>\n",
       "<!-- test_functionremove_html_markupat0x11afa2cb0_250&#45;&gt;test_functionremove_html_markupat0x11afa2cb0_252 -->\n",
       "<!-- tag_functionremove_html_markupat0x11afa2cb0_247&#45;&gt;test_functionremove_html_markupat0x11afa2cb0_252 -->\n",
       "<g id=\"edge12\" class=\"edge\">\n",
       "<title>tag_functionremove_html_markupat0x11afa2cb0_247&#45;&gt;test_functionremove_html_markupat0x11afa2cb0_252</title>\n",
       "<path fill=\"none\" stroke=\"black\" d=\"M341.9,-455.58C343.06,-411.87 341,-303.69 298,-228 291.85,-217.17 282.73,-207.48 273.29,-199.35\"/>\n",
       "<polygon fill=\"black\" stroke=\"black\" points=\"275.76,-196.85 265.78,-193.29 271.37,-202.29 275.76,-196.85\"/>\n",
       "</g>\n",
       "<!-- tag_functionremove_html_markupat0x11afa2cb0_247&#45;&gt;test_functionremove_html_markupat0x11afa2cb0_248 -->\n",
       "<!-- tag_functionremove_html_markupat0x11afa2cb0_247&#45;&gt;assertion_functionremove_html_markupat0x11afa2cb0_244 -->\n",
       "<g id=\"edge18\" class=\"edge\">\n",
       "<title>tag_functionremove_html_markupat0x11afa2cb0_247&#45;&gt;assertion_functionremove_html_markupat0x11afa2cb0_244</title>\n",
       "<path fill=\"none\" stroke=\"black\" d=\"M345.37,-455.64C353.24,-422.97 371.66,-355.44 400,-304 405.1,-294.74 411.78,-285.46 418.38,-277.23\"/>\n",
       "<polygon fill=\"black\" stroke=\"black\" points=\"421.02,-279.53 424.75,-269.61 415.65,-275.04 421.02,-279.53\"/>\n",
       "</g>\n",
       "<!-- tag_functionremove_html_markupat0x11afa2cb0_249&#45;&gt;test_functionremove_html_markupat0x11afa2cb0_252 -->\n",
       "<g id=\"edge13\" class=\"edge\">\n",
       "<title>tag_functionremove_html_markupat0x11afa2cb0_249&#45;&gt;test_functionremove_html_markupat0x11afa2cb0_252</title>\n",
       "<path fill=\"none\" stroke=\"black\" d=\"M256.52,-303.66C266.01,-294.03 276,-281.55 281,-268 287.16,-251.32 287.16,-244.68 281,-228 277.33,-218.05 270.96,-208.68 264.08,-200.59\"/>\n",
       "<polygon fill=\"black\" stroke=\"black\" points=\"266.88,-198.46 257.54,-193.46 261.72,-203.19 266.88,-198.46\"/>\n",
       "</g>\n",
       "<!-- tag_functionremove_html_markupat0x11afa2cb0_249&#45;&gt;test_functionremove_html_markupat0x11afa2cb0_250 -->\n",
       "<!-- tag_functionremove_html_markupat0x11afa2cb0_249&#45;&gt;assertion_functionremove_html_markupat0x11afa2cb0_244 -->\n",
       "<g id=\"edge20\" class=\"edge\">\n",
       "<title>tag_functionremove_html_markupat0x11afa2cb0_249&#45;&gt;assertion_functionremove_html_markupat0x11afa2cb0_244</title>\n",
       "<path fill=\"none\" stroke=\"black\" d=\"M271.06,-309.94C300.62,-299.52 342.77,-284.67 378.05,-272.24\"/>\n",
       "<polygon fill=\"black\" stroke=\"black\" points=\"379.06,-275.59 387.33,-268.97 376.74,-268.99 379.06,-275.59\"/>\n",
       "</g>\n",
       "<!-- assertion_functionremove_html_markupat0x11afa2cb0_244&#45;&gt;test_functionremove_html_markupat0x11afa2cb0_246 -->\n",
       "</g>\n",
       "</svg>\n"
      ],
      "text/plain": [
       "<__main__.Slicer at 0x1197b1c00>"
      ]
     },
     "execution_count": 208,
     "metadata": {},
     "output_type": "execute_result"
    }
   ],
   "source": [
    "rhm_slicer"
   ]
  },
  {
   "cell_type": "code",
   "execution_count": 209,
   "metadata": {
    "execution": {
     "iopub.execute_input": "2023-01-07T16:02:53.811747Z",
     "iopub.status.busy": "2023-01-07T16:02:53.811389Z",
     "iopub.status.idle": "2023-01-07T16:02:53.812828Z",
     "shell.execute_reply": "2023-01-07T16:02:53.813108Z"
    },
    "slideshow": {
     "slide_type": "fragment"
    }
   },
   "outputs": [],
   "source": [
    "# print(repr(rhm_slicer.dependencies()))"
   ]
  },
  {
   "cell_type": "code",
   "execution_count": 210,
   "metadata": {
    "execution": {
     "iopub.execute_input": "2023-01-07T16:02:53.818650Z",
     "iopub.status.busy": "2023-01-07T16:02:53.818336Z",
     "iopub.status.idle": "2023-01-07T16:02:54.361072Z",
     "shell.execute_reply": "2023-01-07T16:02:54.361334Z"
    },
    "slideshow": {
     "slide_type": "subslide"
    }
   },
   "outputs": [
    {
     "name": "stdout",
     "output_type": "stream",
     "text": [
      "*  238 \u001b[34mdef\u001b[39;49;00m \u001b[32mremove_html_markup\u001b[39;49;00m(s):  \u001b[37m# type: ignore\u001b[39;49;00m\u001b[37m\u001b[39;49;00m\n",
      "*  239     tag = \u001b[34mFalse\u001b[39;49;00m\u001b[37m\u001b[39;49;00m\n",
      "*  240     quote = \u001b[34mFalse\u001b[39;49;00m\u001b[37m\u001b[39;49;00m\n",
      "*  241     out = \u001b[33m\"\u001b[39;49;00m\u001b[33m\"\u001b[39;49;00m\u001b[37m\u001b[39;49;00m\n",
      "   242 \u001b[37m\u001b[39;49;00m\n",
      "*  243     \u001b[34mfor\u001b[39;49;00m c \u001b[35min\u001b[39;49;00m s:  \u001b[37m# <= s (238)\u001b[39;49;00m\u001b[37m\u001b[39;49;00m\n",
      "*  244         \u001b[34massert\u001b[39;49;00m tag \u001b[35mor\u001b[39;49;00m \u001b[35mnot\u001b[39;49;00m quote  \u001b[37m# <= tag (239), tag (247), quote (240), tag (249)\u001b[39;49;00m\u001b[37m\u001b[39;49;00m\n",
      "   245 \u001b[37m\u001b[39;49;00m\n",
      "*  246         \u001b[34mif\u001b[39;49;00m c == \u001b[33m'\u001b[39;49;00m\u001b[33m<\u001b[39;49;00m\u001b[33m'\u001b[39;49;00m \u001b[35mand\u001b[39;49;00m \u001b[35mnot\u001b[39;49;00m quote:  \u001b[37m# <= quote (240), c (243)\u001b[39;49;00m\u001b[37m\u001b[39;49;00m\n",
      "*  247             tag = \u001b[34mTrue\u001b[39;49;00m  \u001b[37m# <- <test> (246)\u001b[39;49;00m\u001b[37m\u001b[39;49;00m\n",
      "*  248         \u001b[34melif\u001b[39;49;00m c == \u001b[33m'\u001b[39;49;00m\u001b[33m>\u001b[39;49;00m\u001b[33m'\u001b[39;49;00m \u001b[35mand\u001b[39;49;00m \u001b[35mnot\u001b[39;49;00m quote:  \u001b[37m# <= quote (240), c (243); <- <test> (246)\u001b[39;49;00m\u001b[37m\u001b[39;49;00m\n",
      "*  249             tag = \u001b[34mFalse\u001b[39;49;00m  \u001b[37m# <- <test> (248)\u001b[39;49;00m\u001b[37m\u001b[39;49;00m\n",
      "*  250         \u001b[34melif\u001b[39;49;00m (c == \u001b[33m'\u001b[39;49;00m\u001b[33m\"\u001b[39;49;00m\u001b[33m'\u001b[39;49;00m \u001b[35mor\u001b[39;49;00m c == \u001b[33m\"\u001b[39;49;00m\u001b[33m'\u001b[39;49;00m\u001b[33m\"\u001b[39;49;00m) \u001b[35mand\u001b[39;49;00m tag:  \u001b[37m# <= c (243); <- <test> (248)\u001b[39;49;00m\u001b[37m\u001b[39;49;00m\n",
      "   251             quote = \u001b[35mnot\u001b[39;49;00m quote\u001b[37m\u001b[39;49;00m\n",
      "*  252         \u001b[34melif\u001b[39;49;00m \u001b[35mnot\u001b[39;49;00m tag:  \u001b[37m# <= tag (247), tag (249); <- <test> (250)\u001b[39;49;00m\u001b[37m\u001b[39;49;00m\n",
      "*  253             out = out + c  \u001b[37m# <= out (241), out (253), c (243); <- <test> (252)\u001b[39;49;00m\u001b[37m\u001b[39;49;00m\n",
      "   254 \u001b[37m\u001b[39;49;00m\n",
      "*  255     \u001b[34mreturn\u001b[39;49;00m out  \u001b[37m# <= out (253)\u001b[39;49;00m\u001b[37m\u001b[39;49;00m\n"
     ]
    }
   ],
   "source": [
    "rhm_slicer.code()"
   ]
  },
  {
   "cell_type": "markdown",
   "metadata": {
    "slideshow": {
     "slide_type": "subslide"
    }
   },
   "source": [
    "We can also compute slices over the dependencies:"
   ]
  },
  {
   "cell_type": "code",
   "execution_count": 211,
   "metadata": {
    "execution": {
     "iopub.execute_input": "2023-01-07T16:02:54.364189Z",
     "iopub.status.busy": "2023-01-07T16:02:54.362830Z",
     "iopub.status.idle": "2023-01-07T16:02:54.365634Z",
     "shell.execute_reply": "2023-01-07T16:02:54.365922Z"
    },
    "slideshow": {
     "slide_type": "fragment"
    }
   },
   "outputs": [
    {
     "data": {
      "text/plain": [
       "238"
      ]
     },
     "execution_count": 211,
     "metadata": {},
     "output_type": "execute_result"
    }
   ],
   "source": [
    "_, start_remove_html_markup = inspect.getsourcelines(remove_html_markup)\n",
    "start_remove_html_markup"
   ]
  },
  {
   "cell_type": "code",
   "execution_count": 212,
   "metadata": {
    "execution": {
     "iopub.execute_input": "2023-01-07T16:02:54.378584Z",
     "iopub.status.busy": "2023-01-07T16:02:54.377710Z",
     "iopub.status.idle": "2023-01-07T16:02:54.665403Z",
     "shell.execute_reply": "2023-01-07T16:02:54.665616Z"
    },
    "slideshow": {
     "slide_type": "subslide"
    }
   },
   "outputs": [
    {
     "data": {
      "image/svg+xml": [
       "<?xml version=\"1.0\" encoding=\"UTF-8\" standalone=\"no\"?>\n",
       "<!DOCTYPE svg PUBLIC \"-//W3C//DTD SVG 1.1//EN\"\n",
       " \"http://www.w3.org/Graphics/SVG/1.1/DTD/svg11.dtd\">\n",
       "<!-- Generated by graphviz version 7.0.2 (20221119.0110)\n",
       " -->\n",
       "<!-- Title: dependencies Pages: 1 -->\n",
       "<svg width=\"245pt\" height=\"352pt\"\n",
       " viewBox=\"0.00 0.00 245.00 352.00\" xmlns=\"http://www.w3.org/2000/svg\" xmlns:xlink=\"http://www.w3.org/1999/xlink\">\n",
       "<g id=\"graph0\" class=\"graph\" transform=\"scale(1 1) rotate(0) translate(4 348)\">\n",
       "<title>dependencies</title>\n",
       "<polygon fill=\"white\" stroke=\"none\" points=\"-4,4 -4,-348 241,-348 241,4 -4,4\"/>\n",
       "<!-- test_functionremove_html_markupat0x11afa2cb0_246 -->\n",
       "<g id=\"node1\" class=\"node\">\n",
       "<title>test_functionremove_html_markupat0x11afa2cb0_246</title>\n",
       "<g id=\"a_node1\"><a xlink:title=\"remove_html_markup:246\">\n",
       "<polygon fill=\"peachpuff\" stroke=\"black\" points=\"225,-116 72,-116 72,-76 225,-76 225,-116\"/>\n",
       "<text text-anchor=\"start\" x=\"123.5\" y=\"-101.8\" font-family=\"Courier,monospace\" font-weight=\"bold\" font-style=\"italic\" font-size=\"14.00\">&lt;test&gt;</text>\n",
       "<text text-anchor=\"start\" x=\"80\" y=\"-82.8\" font-family=\"Courier,monospace\" font-size=\"9.00\">if c == &#39;&lt;&#39; and not quote:</text>\n",
       "</a>\n",
       "</g>\n",
       "</g>\n",
       "<!-- tag_functionremove_html_markupat0x11afa2cb0_247 -->\n",
       "<g id=\"node5\" class=\"node\">\n",
       "<title>tag_functionremove_html_markupat0x11afa2cb0_247</title>\n",
       "<g id=\"a_node5\"><a xlink:title=\"remove_html_markup:247\">\n",
       "<polygon fill=\"peachpuff\" stroke=\"black\" points=\"183,-40 114,-40 114,0 183,0 183,-40\"/>\n",
       "<text text-anchor=\"start\" x=\"136\" y=\"-25.8\" font-family=\"Courier,monospace\" font-weight=\"bold\" font-size=\"14.00\">tag</text>\n",
       "<text text-anchor=\"start\" x=\"122\" y=\"-6.8\" font-family=\"Courier,monospace\" font-size=\"9.00\">tag = True</text>\n",
       "</a>\n",
       "</g>\n",
       "</g>\n",
       "<!-- test_functionremove_html_markupat0x11afa2cb0_246&#45;&gt;tag_functionremove_html_markupat0x11afa2cb0_247 -->\n",
       "<g id=\"edge4\" class=\"edge\">\n",
       "<title>test_functionremove_html_markupat0x11afa2cb0_246&#45;&gt;tag_functionremove_html_markupat0x11afa2cb0_247</title>\n",
       "<path fill=\"none\" stroke=\"grey\" stroke-dasharray=\"5,2\" d=\"M142.48,-75.56C141.82,-68.25 141.61,-59.75 141.84,-51.67\"/>\n",
       "<polygon fill=\"grey\" stroke=\"grey\" points=\"145.32,-52.01 142.4,-41.82 138.34,-51.61 145.32,-52.01\"/>\n",
       "</g>\n",
       "<!-- test_functionremove_html_markupat0x11afa2cb0_246&#45;&gt;tag_functionremove_html_markupat0x11afa2cb0_247 -->\n",
       "<!-- quote_functionremove_html_markupat0x11afa2cb0_240 -->\n",
       "<g id=\"node2\" class=\"node\">\n",
       "<title>quote_functionremove_html_markupat0x11afa2cb0_240</title>\n",
       "<g id=\"a_node2\"><a xlink:title=\"remove_html_markup:240\">\n",
       "<polygon fill=\"peachpuff\" stroke=\"black\" points=\"126,-268 41,-268 41,-228 126,-228 126,-268\"/>\n",
       "<text text-anchor=\"start\" x=\"62.5\" y=\"-253.8\" font-family=\"Courier,monospace\" font-weight=\"bold\" font-size=\"14.00\">quote</text>\n",
       "<text text-anchor=\"start\" x=\"49\" y=\"-234.8\" font-family=\"Courier,monospace\" font-size=\"9.00\">quote = False</text>\n",
       "</a>\n",
       "</g>\n",
       "</g>\n",
       "<!-- quote_functionremove_html_markupat0x11afa2cb0_240&#45;&gt;test_functionremove_html_markupat0x11afa2cb0_246 -->\n",
       "<g id=\"edge1\" class=\"edge\">\n",
       "<title>quote_functionremove_html_markupat0x11afa2cb0_240&#45;&gt;test_functionremove_html_markupat0x11afa2cb0_246</title>\n",
       "<path fill=\"none\" stroke=\"black\" d=\"M84.57,-227.55C86.3,-207.7 90.8,-176.42 102.5,-152 107.12,-142.36 113.82,-132.99 120.69,-124.8\"/>\n",
       "<polygon fill=\"black\" stroke=\"black\" points=\"123.1,-127.36 127.11,-117.55 117.86,-122.72 123.1,-127.36\"/>\n",
       "</g>\n",
       "<!-- c_functionremove_html_markupat0x11afa2cb0_243 -->\n",
       "<g id=\"node3\" class=\"node\">\n",
       "<title>c_functionremove_html_markupat0x11afa2cb0_243</title>\n",
       "<g id=\"a_node3\"><a xlink:title=\"remove_html_markup:243\">\n",
       "<polygon fill=\"peachpuff\" stroke=\"black\" points=\"185.5,-192 111.5,-192 111.5,-152 185.5,-152 185.5,-192\"/>\n",
       "<text text-anchor=\"start\" x=\"144\" y=\"-177.8\" font-family=\"Courier,monospace\" font-weight=\"bold\" font-size=\"14.00\">c</text>\n",
       "<text text-anchor=\"start\" x=\"119.5\" y=\"-158.8\" font-family=\"Courier,monospace\" font-size=\"9.00\">for c in s:</text>\n",
       "</a>\n",
       "</g>\n",
       "</g>\n",
       "<!-- quote_functionremove_html_markupat0x11afa2cb0_240&#45;&gt;c_functionremove_html_markupat0x11afa2cb0_243 -->\n",
       "<!-- c_functionremove_html_markupat0x11afa2cb0_243&#45;&gt;test_functionremove_html_markupat0x11afa2cb0_246 -->\n",
       "<g id=\"edge2\" class=\"edge\">\n",
       "<title>c_functionremove_html_markupat0x11afa2cb0_243&#45;&gt;test_functionremove_html_markupat0x11afa2cb0_246</title>\n",
       "<path fill=\"none\" stroke=\"black\" d=\"M142.48,-151.56C141.82,-144.25 141.61,-135.75 141.84,-127.67\"/>\n",
       "<polygon fill=\"black\" stroke=\"black\" points=\"145.32,-128.01 142.4,-117.82 138.34,-127.61 145.32,-128.01\"/>\n",
       "</g>\n",
       "<!-- c_functionremove_html_markupat0x11afa2cb0_243&#45;&gt;test_functionremove_html_markupat0x11afa2cb0_246 -->\n",
       "<!-- s_functionremove_html_markupat0x11afa2cb0_238 -->\n",
       "<g id=\"node4\" class=\"node\">\n",
       "<title>s_functionremove_html_markupat0x11afa2cb0_238</title>\n",
       "<g id=\"a_node4\"><a xlink:title=\"remove_html_markup:238\">\n",
       "<polygon fill=\"peachpuff\" stroke=\"black\" points=\"237,-344 0,-344 0,-304 237,-304 237,-344\"/>\n",
       "<text text-anchor=\"start\" x=\"114\" y=\"-329.8\" font-family=\"Courier,monospace\" font-weight=\"bold\" font-size=\"14.00\">s</text>\n",
       "<text text-anchor=\"start\" x=\"8\" y=\"-310.8\" font-family=\"Courier,monospace\" font-size=\"9.00\">def remove_html_markup(s): &#160;# type: ignore</text>\n",
       "</a>\n",
       "</g>\n",
       "</g>\n",
       "<!-- s_functionremove_html_markupat0x11afa2cb0_238&#45;&gt;quote_functionremove_html_markupat0x11afa2cb0_240 -->\n",
       "<!-- s_functionremove_html_markupat0x11afa2cb0_238&#45;&gt;c_functionremove_html_markupat0x11afa2cb0_243 -->\n",
       "<g id=\"edge3\" class=\"edge\">\n",
       "<title>s_functionremove_html_markupat0x11afa2cb0_238&#45;&gt;c_functionremove_html_markupat0x11afa2cb0_243</title>\n",
       "<path fill=\"none\" stroke=\"black\" d=\"M124.86,-303.57C128.1,-293.11 131.89,-279.95 134.5,-268 139.13,-246.76 142.68,-222.5 145.04,-203.81\"/>\n",
       "<polygon fill=\"black\" stroke=\"black\" points=\"148.51,-204.28 146.24,-193.93 141.56,-203.43 148.51,-204.28\"/>\n",
       "</g>\n",
       "</g>\n",
       "</svg>\n"
      ],
      "text/plain": [
       "Dependencies(\n",
       "    data={\n",
       "        ('tag', (remove_html_markup, 247)): set(),\n",
       "        ('<test>', (remove_html_markup, 246)): {('quote', (remove_html_markup, 240)), ('c', (remove_html_markup, 243))},\n",
       "        ('quote', (remove_html_markup, 240)): set(),\n",
       "        ('c', (remove_html_markup, 243)): {('s', (remove_html_markup, 238))},\n",
       "        ('s', (remove_html_markup, 238)): set()},\n",
       " control={\n",
       "        ('tag', (remove_html_markup, 247)): {('<test>', (remove_html_markup, 246))},\n",
       "        ('<test>', (remove_html_markup, 246)): set(),\n",
       "        ('quote', (remove_html_markup, 240)): set(),\n",
       "        ('c', (remove_html_markup, 243)): set(),\n",
       "        ('s', (remove_html_markup, 238)): set()})"
      ]
     },
     "execution_count": 212,
     "metadata": {},
     "output_type": "execute_result"
    }
   ],
   "source": [
    "slicing_criterion = ('tag', (remove_html_markup,\n",
    "                             start_remove_html_markup + 9))\n",
    "tag_deps = rhm_slicer.dependencies().backward_slice(slicing_criterion)  # type: ignore\n",
    "tag_deps"
   ]
  },
  {
   "cell_type": "code",
   "execution_count": 213,
   "metadata": {
    "execution": {
     "iopub.execute_input": "2023-01-07T16:02:54.667863Z",
     "iopub.status.busy": "2023-01-07T16:02:54.667449Z",
     "iopub.status.idle": "2023-01-07T16:02:54.668704Z",
     "shell.execute_reply": "2023-01-07T16:02:54.668967Z"
    },
    "slideshow": {
     "slide_type": "subslide"
    }
   },
   "outputs": [],
   "source": [
    "# repr(tag_deps)"
   ]
  },
  {
   "cell_type": "markdown",
   "metadata": {
    "slideshow": {
     "slide_type": "subslide"
    }
   },
   "source": [
    "### Calls and Augmented Assign"
   ]
  },
  {
   "cell_type": "markdown",
   "metadata": {
    "slideshow": {
     "slide_type": "fragment"
    }
   },
   "source": [
    "Our last example covers augmented assigns and data flow across function calls. We introduce two simple functions `add_to()` and `mul_with()`:"
   ]
  },
  {
   "cell_type": "code",
   "execution_count": 214,
   "metadata": {
    "execution": {
     "iopub.execute_input": "2023-01-07T16:02:54.671702Z",
     "iopub.status.busy": "2023-01-07T16:02:54.671320Z",
     "iopub.status.idle": "2023-01-07T16:02:54.672632Z",
     "shell.execute_reply": "2023-01-07T16:02:54.672989Z"
    },
    "slideshow": {
     "slide_type": "fragment"
    }
   },
   "outputs": [],
   "source": [
    "def add_to(n, m):  # type: ignore\n",
    "    n += m\n",
    "    return n"
   ]
  },
  {
   "cell_type": "code",
   "execution_count": 215,
   "metadata": {
    "execution": {
     "iopub.execute_input": "2023-01-07T16:02:54.675603Z",
     "iopub.status.busy": "2023-01-07T16:02:54.675050Z",
     "iopub.status.idle": "2023-01-07T16:02:54.676863Z",
     "shell.execute_reply": "2023-01-07T16:02:54.677359Z"
    },
    "slideshow": {
     "slide_type": "fragment"
    }
   },
   "outputs": [],
   "source": [
    "def mul_with(x, y):  # type: ignore\n",
    "    x *= y\n",
    "    return x"
   ]
  },
  {
   "cell_type": "markdown",
   "metadata": {
    "slideshow": {
     "slide_type": "fragment"
    }
   },
   "source": [
    "And we put these two together in a single call:"
   ]
  },
  {
   "cell_type": "code",
   "execution_count": 216,
   "metadata": {
    "execution": {
     "iopub.execute_input": "2023-01-07T16:02:54.680090Z",
     "iopub.status.busy": "2023-01-07T16:02:54.679748Z",
     "iopub.status.idle": "2023-01-07T16:02:54.680834Z",
     "shell.execute_reply": "2023-01-07T16:02:54.681133Z"
    },
    "slideshow": {
     "slide_type": "fragment"
    }
   },
   "outputs": [],
   "source": [
    "def test_math() -> None:\n",
    "    return mul_with(1, add_to(2, 3))"
   ]
  },
  {
   "cell_type": "code",
   "execution_count": 217,
   "metadata": {
    "execution": {
     "iopub.execute_input": "2023-01-07T16:02:54.683477Z",
     "iopub.status.busy": "2023-01-07T16:02:54.683131Z",
     "iopub.status.idle": "2023-01-07T16:02:54.688153Z",
     "shell.execute_reply": "2023-01-07T16:02:54.688501Z"
    },
    "slideshow": {
     "slide_type": "fragment"
    }
   },
   "outputs": [],
   "source": [
    "with Slicer(add_to, mul_with, test_math) as math_slicer:\n",
    "    test_math()"
   ]
  },
  {
   "cell_type": "markdown",
   "metadata": {
    "slideshow": {
     "slide_type": "subslide"
    }
   },
   "source": [
    "The resulting dependence graph nicely captures the data flow between these calls, notably arguments and parameters:"
   ]
  },
  {
   "cell_type": "code",
   "execution_count": 218,
   "metadata": {
    "execution": {
     "iopub.execute_input": "2023-01-07T16:02:54.691842Z",
     "iopub.status.busy": "2023-01-07T16:02:54.691231Z",
     "iopub.status.idle": "2023-01-07T16:02:54.990302Z",
     "shell.execute_reply": "2023-01-07T16:02:54.990561Z"
    },
    "slideshow": {
     "slide_type": "fragment"
    }
   },
   "outputs": [
    {
     "data": {
      "image/svg+xml": [
       "<?xml version=\"1.0\" encoding=\"UTF-8\" standalone=\"no\"?>\n",
       "<!DOCTYPE svg PUBLIC \"-//W3C//DTD SVG 1.1//EN\"\n",
       " \"http://www.w3.org/Graphics/SVG/1.1/DTD/svg11.dtd\">\n",
       "<!-- Generated by graphviz version 7.0.2 (20221119.0110)\n",
       " -->\n",
       "<!-- Title: dependencies Pages: 1 -->\n",
       "<svg width=\"629pt\" height=\"504pt\"\n",
       " viewBox=\"0.00 0.00 629.00 504.00\" xmlns=\"http://www.w3.org/2000/svg\" xmlns:xlink=\"http://www.w3.org/1999/xlink\">\n",
       "<g id=\"graph0\" class=\"graph\" transform=\"scale(1 1) rotate(0) translate(4 500)\">\n",
       "<title>dependencies</title>\n",
       "<polygon fill=\"white\" stroke=\"none\" points=\"-4,4 -4,-500 625,-500 625,4 -4,4\"/>\n",
       "<!-- x_functionmul_withat0x11970c160_2 -->\n",
       "<g id=\"node1\" class=\"node\">\n",
       "<title>x_functionmul_withat0x11970c160_2</title>\n",
       "<g id=\"a_node1\"><a xlink:title=\"mul_with:2\">\n",
       "<polygon fill=\"peachpuff\" stroke=\"black\" points=\"345,-192 291,-192 291,-152 345,-152 345,-192\"/>\n",
       "<text text-anchor=\"start\" x=\"313.5\" y=\"-177.8\" font-family=\"Courier,monospace\" font-weight=\"bold\" font-size=\"14.00\">x</text>\n",
       "<text text-anchor=\"start\" x=\"302\" y=\"-158.8\" font-family=\"Courier,monospace\" font-size=\"9.00\">x *= y</text>\n",
       "</a>\n",
       "</g>\n",
       "</g>\n",
       "<!-- mul_withreturnvalue_functionmul_withat0x11970c160_3 -->\n",
       "<g id=\"node7\" class=\"node\">\n",
       "<title>mul_withreturnvalue_functionmul_withat0x11970c160_3</title>\n",
       "<g id=\"a_node7\"><a xlink:title=\"mul_with:3\">\n",
       "<polygon fill=\"peachpuff\" stroke=\"black\" points=\"429.5,-116 206.5,-116 206.5,-76 429.5,-76 429.5,-116\"/>\n",
       "<text text-anchor=\"start\" x=\"214.5\" y=\"-101.8\" font-family=\"Courier,monospace\" font-weight=\"bold\" font-style=\"italic\" font-size=\"14.00\">&lt;mul_with() return value&gt;</text>\n",
       "<text text-anchor=\"start\" x=\"296.5\" y=\"-82.8\" font-family=\"Courier,monospace\" font-size=\"9.00\">return x</text>\n",
       "</a>\n",
       "</g>\n",
       "</g>\n",
       "<!-- x_functionmul_withat0x11970c160_2&#45;&gt;mul_withreturnvalue_functionmul_withat0x11970c160_3 -->\n",
       "<g id=\"edge4\" class=\"edge\">\n",
       "<title>x_functionmul_withat0x11970c160_2&#45;&gt;mul_withreturnvalue_functionmul_withat0x11970c160_3</title>\n",
       "<path fill=\"none\" stroke=\"black\" d=\"M311.98,-151.56C311.32,-144.25 311.11,-135.75 311.34,-127.67\"/>\n",
       "<polygon fill=\"black\" stroke=\"black\" points=\"314.82,-128.01 311.9,-117.82 307.84,-127.61 314.82,-128.01\"/>\n",
       "</g>\n",
       "<!-- x_functionmul_withat0x11970c160_2&#45;&gt;mul_withreturnvalue_functionmul_withat0x11970c160_3 -->\n",
       "<!-- x_functionmul_withat0x11970c160_1 -->\n",
       "<g id=\"node2\" class=\"node\">\n",
       "<title>x_functionmul_withat0x11970c160_1</title>\n",
       "<g id=\"a_node2\"><a xlink:title=\"mul_with:1\">\n",
       "<polygon fill=\"peachpuff\" stroke=\"black\" points=\"200,-268 0,-268 0,-228 200,-228 200,-268\"/>\n",
       "<text text-anchor=\"start\" x=\"95.5\" y=\"-253.8\" font-family=\"Courier,monospace\" font-weight=\"bold\" font-size=\"14.00\">x</text>\n",
       "<text text-anchor=\"start\" x=\"8\" y=\"-234.8\" font-family=\"Courier,monospace\" font-size=\"9.00\">def mul_with(x, y): &#160;# type: ignore</text>\n",
       "</a>\n",
       "</g>\n",
       "</g>\n",
       "<!-- x_functionmul_withat0x11970c160_1&#45;&gt;x_functionmul_withat0x11970c160_2 -->\n",
       "<g id=\"edge1\" class=\"edge\">\n",
       "<title>x_functionmul_withat0x11970c160_1&#45;&gt;x_functionmul_withat0x11970c160_2</title>\n",
       "<path fill=\"none\" stroke=\"black\" d=\"M157.28,-227.56C195.93,-214.44 245.87,-197.48 279.75,-185.98\"/>\n",
       "<polygon fill=\"black\" stroke=\"black\" points=\"280.81,-189.32 289.15,-182.79 278.56,-182.69 280.81,-189.32\"/>\n",
       "</g>\n",
       "<!-- y_functionmul_withat0x11970c160_1 -->\n",
       "<g id=\"node3\" class=\"node\">\n",
       "<title>y_functionmul_withat0x11970c160_1</title>\n",
       "<g id=\"a_node3\"><a xlink:title=\"mul_with:1\">\n",
       "<polygon fill=\"peachpuff\" stroke=\"black\" points=\"418,-268 218,-268 218,-228 418,-228 418,-268\"/>\n",
       "<text text-anchor=\"start\" x=\"313.5\" y=\"-253.8\" font-family=\"Courier,monospace\" font-weight=\"bold\" font-size=\"14.00\">y</text>\n",
       "<text text-anchor=\"start\" x=\"226\" y=\"-234.8\" font-family=\"Courier,monospace\" font-size=\"9.00\">def mul_with(x, y): &#160;# type: ignore</text>\n",
       "</a>\n",
       "</g>\n",
       "</g>\n",
       "<!-- y_functionmul_withat0x11970c160_1&#45;&gt;x_functionmul_withat0x11970c160_2 -->\n",
       "<g id=\"edge2\" class=\"edge\">\n",
       "<title>y_functionmul_withat0x11970c160_1&#45;&gt;x_functionmul_withat0x11970c160_2</title>\n",
       "<path fill=\"none\" stroke=\"black\" d=\"M311.98,-227.56C311.32,-220.25 311.11,-211.75 311.34,-203.67\"/>\n",
       "<polygon fill=\"black\" stroke=\"black\" points=\"314.82,-204.01 311.9,-193.82 307.84,-203.61 314.82,-204.01\"/>\n",
       "</g>\n",
       "<!-- y_functionmul_withat0x11970c160_1&#45;&gt;x_functionmul_withat0x11970c160_2 -->\n",
       "<!-- add_toreturnvalue_functionadd_toat0x107ba5480_3 -->\n",
       "<g id=\"node4\" class=\"node\">\n",
       "<title>add_toreturnvalue_functionadd_toat0x107ba5480_3</title>\n",
       "<g id=\"a_node4\"><a xlink:title=\"add_to:3\">\n",
       "<polygon fill=\"peachpuff\" stroke=\"black\" points=\"421,-344 215,-344 215,-304 421,-304 421,-344\"/>\n",
       "<text text-anchor=\"start\" x=\"223\" y=\"-329.8\" font-family=\"Courier,monospace\" font-weight=\"bold\" font-style=\"italic\" font-size=\"14.00\">&lt;add_to() return value&gt;</text>\n",
       "<text text-anchor=\"start\" x=\"296.5\" y=\"-310.8\" font-family=\"Courier,monospace\" font-size=\"9.00\">return n</text>\n",
       "</a>\n",
       "</g>\n",
       "</g>\n",
       "<!-- add_toreturnvalue_functionadd_toat0x107ba5480_3&#45;&gt;y_functionmul_withat0x11970c160_1 -->\n",
       "<g id=\"edge6\" class=\"edge\">\n",
       "<title>add_toreturnvalue_functionadd_toat0x107ba5480_3&#45;&gt;y_functionmul_withat0x11970c160_1</title>\n",
       "<path fill=\"none\" stroke=\"black\" d=\"M318,-303.56C318,-296.25 318,-287.75 318,-279.67\"/>\n",
       "<polygon fill=\"black\" stroke=\"black\" points=\"321.5,-279.83 318,-269.83 314.5,-279.83 321.5,-279.83\"/>\n",
       "</g>\n",
       "<!-- n_functionadd_toat0x107ba5480_2 -->\n",
       "<g id=\"node5\" class=\"node\">\n",
       "<title>n_functionadd_toat0x107ba5480_2</title>\n",
       "<g id=\"a_node5\"><a xlink:title=\"add_to:2\">\n",
       "<polygon fill=\"peachpuff\" stroke=\"black\" points=\"345,-420 291,-420 291,-380 345,-380 345,-420\"/>\n",
       "<text text-anchor=\"start\" x=\"313.5\" y=\"-405.8\" font-family=\"Courier,monospace\" font-weight=\"bold\" font-size=\"14.00\">n</text>\n",
       "<text text-anchor=\"start\" x=\"302\" y=\"-386.8\" font-family=\"Courier,monospace\" font-size=\"9.00\">n += m</text>\n",
       "</a>\n",
       "</g>\n",
       "</g>\n",
       "<!-- n_functionadd_toat0x107ba5480_2&#45;&gt;add_toreturnvalue_functionadd_toat0x107ba5480_3 -->\n",
       "<g id=\"edge3\" class=\"edge\">\n",
       "<title>n_functionadd_toat0x107ba5480_2&#45;&gt;add_toreturnvalue_functionadd_toat0x107ba5480_3</title>\n",
       "<path fill=\"none\" stroke=\"black\" d=\"M311.98,-379.56C311.32,-372.25 311.11,-363.75 311.34,-355.67\"/>\n",
       "<polygon fill=\"black\" stroke=\"black\" points=\"314.82,-356.01 311.9,-345.82 307.84,-355.61 314.82,-356.01\"/>\n",
       "</g>\n",
       "<!-- n_functionadd_toat0x107ba5480_2&#45;&gt;add_toreturnvalue_functionadd_toat0x107ba5480_3 -->\n",
       "<!-- n_functionadd_toat0x107ba5480_1 -->\n",
       "<g id=\"node6\" class=\"node\">\n",
       "<title>n_functionadd_toat0x107ba5480_1</title>\n",
       "<g id=\"a_node6\"><a xlink:title=\"add_to:1\">\n",
       "<polygon fill=\"peachpuff\" stroke=\"black\" points=\"413,-496 223,-496 223,-456 413,-456 413,-496\"/>\n",
       "<text text-anchor=\"start\" x=\"313.5\" y=\"-481.8\" font-family=\"Courier,monospace\" font-weight=\"bold\" font-size=\"14.00\">n</text>\n",
       "<text text-anchor=\"start\" x=\"231\" y=\"-462.8\" font-family=\"Courier,monospace\" font-size=\"9.00\">def add_to(n, m): &#160;# type: ignore</text>\n",
       "</a>\n",
       "</g>\n",
       "</g>\n",
       "<!-- n_functionadd_toat0x107ba5480_1&#45;&gt;n_functionadd_toat0x107ba5480_2 -->\n",
       "<g id=\"edge7\" class=\"edge\">\n",
       "<title>n_functionadd_toat0x107ba5480_1&#45;&gt;n_functionadd_toat0x107ba5480_2</title>\n",
       "<path fill=\"none\" stroke=\"black\" d=\"M311.98,-455.56C311.32,-448.25 311.11,-439.75 311.34,-431.67\"/>\n",
       "<polygon fill=\"black\" stroke=\"black\" points=\"314.82,-432.01 311.9,-421.82 307.84,-431.61 314.82,-432.01\"/>\n",
       "</g>\n",
       "<!-- n_functionadd_toat0x107ba5480_1&#45;&gt;n_functionadd_toat0x107ba5480_2 -->\n",
       "<!-- test_mathreturnvalue_functiontest_mathat0x11970c5e0_2 -->\n",
       "<g id=\"node8\" class=\"node\">\n",
       "<title>test_mathreturnvalue_functiontest_mathat0x11970c5e0_2</title>\n",
       "<g id=\"a_node8\"><a xlink:title=\"test_math:2\">\n",
       "<polygon fill=\"peachpuff\" stroke=\"black\" points=\"433.5,-40 202.5,-40 202.5,0 433.5,0 433.5,-40\"/>\n",
       "<text text-anchor=\"start\" x=\"210.5\" y=\"-25.8\" font-family=\"Courier,monospace\" font-weight=\"bold\" font-style=\"italic\" font-size=\"14.00\">&lt;test_math() return value&gt;</text>\n",
       "<text text-anchor=\"start\" x=\"233.5\" y=\"-6.8\" font-family=\"Courier,monospace\" font-size=\"9.00\">return mul_with(1, add_to(2, 3))</text>\n",
       "</a>\n",
       "</g>\n",
       "</g>\n",
       "<!-- mul_withreturnvalue_functionmul_withat0x11970c160_3&#45;&gt;test_mathreturnvalue_functiontest_mathat0x11970c5e0_2 -->\n",
       "<g id=\"edge5\" class=\"edge\">\n",
       "<title>mul_withreturnvalue_functionmul_withat0x11970c160_3&#45;&gt;test_mathreturnvalue_functiontest_mathat0x11970c5e0_2</title>\n",
       "<path fill=\"none\" stroke=\"black\" d=\"M318,-75.56C318,-68.25 318,-59.75 318,-51.67\"/>\n",
       "<polygon fill=\"black\" stroke=\"black\" points=\"321.5,-51.83 318,-41.83 314.5,-51.83 321.5,-51.83\"/>\n",
       "</g>\n",
       "<!-- m_functionadd_toat0x107ba5480_1 -->\n",
       "<g id=\"node9\" class=\"node\">\n",
       "<title>m_functionadd_toat0x107ba5480_1</title>\n",
       "<g id=\"a_node9\"><a xlink:title=\"add_to:1\">\n",
       "<polygon fill=\"peachpuff\" stroke=\"black\" points=\"621,-496 431,-496 431,-456 621,-456 621,-496\"/>\n",
       "<text text-anchor=\"start\" x=\"521.5\" y=\"-481.8\" font-family=\"Courier,monospace\" font-weight=\"bold\" font-size=\"14.00\">m</text>\n",
       "<text text-anchor=\"start\" x=\"439\" y=\"-462.8\" font-family=\"Courier,monospace\" font-size=\"9.00\">def add_to(n, m): &#160;# type: ignore</text>\n",
       "</a>\n",
       "</g>\n",
       "</g>\n",
       "<!-- m_functionadd_toat0x107ba5480_1&#45;&gt;n_functionadd_toat0x107ba5480_2 -->\n",
       "<g id=\"edge8\" class=\"edge\">\n",
       "<title>m_functionadd_toat0x107ba5480_1&#45;&gt;n_functionadd_toat0x107ba5480_2</title>\n",
       "<path fill=\"none\" stroke=\"black\" d=\"M471.35,-455.56C435.07,-442.65 388.35,-426.03 356.06,-414.54\"/>\n",
       "<polygon fill=\"black\" stroke=\"black\" points=\"357.3,-411.27 346.71,-411.21 354.96,-417.86 357.3,-411.27\"/>\n",
       "</g>\n",
       "</g>\n",
       "</svg>\n"
      ],
      "text/plain": [
       "<__main__.Slicer at 0x1197b2080>"
      ]
     },
     "execution_count": 218,
     "metadata": {},
     "output_type": "execute_result"
    }
   ],
   "source": [
    "math_slicer"
   ]
  },
  {
   "cell_type": "markdown",
   "metadata": {
    "slideshow": {
     "slide_type": "fragment"
    }
   },
   "source": [
    "These are also reflected in the code view:"
   ]
  },
  {
   "cell_type": "code",
   "execution_count": 219,
   "metadata": {
    "execution": {
     "iopub.execute_input": "2023-01-07T16:02:54.993178Z",
     "iopub.status.busy": "2023-01-07T16:02:54.992736Z",
     "iopub.status.idle": "2023-01-07T16:02:55.269134Z",
     "shell.execute_reply": "2023-01-07T16:02:55.269606Z"
    },
    "slideshow": {
     "slide_type": "subslide"
    }
   },
   "outputs": [
    {
     "name": "stdout",
     "output_type": "stream",
     "text": [
      "*    1 \u001b[34mdef\u001b[39;49;00m \u001b[32mmul_with\u001b[39;49;00m(x, y):  \u001b[37m# type: ignore  # <= <add_to() return value> (add_to:3)\u001b[39;49;00m\u001b[37m\u001b[39;49;00m\n",
      "*    2     x *= y  \u001b[37m# <= x (1), y (1)\u001b[39;49;00m\u001b[37m\u001b[39;49;00m\n",
      "*    3     \u001b[34mreturn\u001b[39;49;00m x  \u001b[37m# <= x (2)\u001b[39;49;00m\u001b[37m\u001b[39;49;00m\n",
      "\n",
      "     1 \u001b[34mdef\u001b[39;49;00m \u001b[32mtest_math\u001b[39;49;00m() -> \u001b[34mNone\u001b[39;49;00m:\u001b[37m\u001b[39;49;00m\n",
      "*    2     \u001b[34mreturn\u001b[39;49;00m mul_with(\u001b[34m1\u001b[39;49;00m, add_to(\u001b[34m2\u001b[39;49;00m, \u001b[34m3\u001b[39;49;00m))  \u001b[37m# <= <mul_with() return value> (mul_with:3)\u001b[39;49;00m\u001b[37m\u001b[39;49;00m\n",
      "\n",
      "*    1 \u001b[34mdef\u001b[39;49;00m \u001b[32madd_to\u001b[39;49;00m(n, m):  \u001b[37m# type: ignore\u001b[39;49;00m\u001b[37m\u001b[39;49;00m\n",
      "*    2     n += m  \u001b[37m# <= n (1), m (1)\u001b[39;49;00m\u001b[37m\u001b[39;49;00m\n",
      "*    3     \u001b[34mreturn\u001b[39;49;00m n  \u001b[37m# <= n (2)\u001b[39;49;00m\u001b[37m\u001b[39;49;00m\n"
     ]
    }
   ],
   "source": [
    "math_slicer.code()"
   ]
  },
  {
   "attachments": {},
   "cell_type": "markdown",
   "metadata": {
    "slideshow": {
     "slide_type": "slide"
    }
   },
   "source": [
    "## Dynamic Instrumentation\n",
    "\n",
    "When initializing `Slicer()`, one has to provide the set of functions to be instrumented. This is because the instrumentation has to take place _before_ the code in the `with` block is executed. Can we determine this list on the fly – while `Slicer()` is executed? \n",
    "\n",
    "The answer is: Yes, but the solution is a bit hackish – even more so than what we have seen above. In essence, we proceed in two steps:\n",
    "\n",
    "1. When `DynamicSlicer.__init__()` is called:\n",
    "    * Use the `inspect` module to determine the source code of the call\n",
    "    * Analyze the enclosed `with` block for function calls\n",
    "    * Instrument these functions\n",
    "2. Whenever a function is about to be called (`DataTracker.call()`)\n",
    "    * Create an instrumented version of that function\n",
    "    * Have the `call()` method return the instrumented function instead"
   ]
  },
  {
   "cell_type": "markdown",
   "metadata": {
    "slideshow": {
     "slide_type": "subslide"
    }
   },
   "source": [
    "### Excursion: Implementing Dynamic Instrumentation"
   ]
  },
  {
   "cell_type": "markdown",
   "metadata": {
    "slideshow": {
     "slide_type": "fragment"
    }
   },
   "source": [
    "We start with the aim of determining the `with` block to which our slicer is applied. The `our_with_block()` method inspects the source code of the `Slicer()` caller, and returns the one `with` block (as an AST) whose source line is currently active."
   ]
  },
  {
   "cell_type": "code",
   "execution_count": 220,
   "metadata": {
    "execution": {
     "iopub.execute_input": "2023-01-07T16:02:55.272351Z",
     "iopub.status.busy": "2023-01-07T16:02:55.272011Z",
     "iopub.status.idle": "2023-01-07T16:02:55.273308Z",
     "shell.execute_reply": "2023-01-07T16:02:55.273704Z"
    },
    "slideshow": {
     "slide_type": "fragment"
    }
   },
   "outputs": [],
   "source": [
    "class WithVisitor(NodeVisitor):\n",
    "    def __init__(self) -> None:\n",
    "        self.withs: List[ast.With] = []\n",
    "\n",
    "    def visit_With(self, node: ast.With) -> AST:\n",
    "        self.withs.append(node)\n",
    "        return self.generic_visit(node)"
   ]
  },
  {
   "cell_type": "code",
   "execution_count": 221,
   "metadata": {
    "execution": {
     "iopub.execute_input": "2023-01-07T16:02:55.276713Z",
     "iopub.status.busy": "2023-01-07T16:02:55.276404Z",
     "iopub.status.idle": "2023-01-07T16:02:55.277528Z",
     "shell.execute_reply": "2023-01-07T16:02:55.277808Z"
    },
    "slideshow": {
     "slide_type": "subslide"
    }
   },
   "outputs": [],
   "source": [
    "class Slicer(Slicer):\n",
    "    def our_with_block(self) -> ast.With:\n",
    "        \"\"\"Return the currently active `with` block.\"\"\"\n",
    "        frame = self.caller_frame()\n",
    "        source_lines, starting_lineno = inspect.getsourcelines(frame)\n",
    "        starting_lineno = max(starting_lineno, 1)\n",
    "        if len(source_lines) == 1:\n",
    "            # We only get one `with` line, rather than the full block\n",
    "            # This happens in Jupyter notebooks with iPython 8.1.0 and later.\n",
    "            # Here's a hacky workaround to get the cell contents:\n",
    "            # https://stackoverflow.com/questions/51566497/getting-the-source-of-an-object-defined-in-a-jupyter-notebook\n",
    "            source_lines = inspect.linecache.getlines(inspect.getfile(frame))  # type: ignore\n",
    "            starting_lineno = 1\n",
    "\n",
    "        source_ast = ast.parse(''.join(source_lines))\n",
    "        wv = WithVisitor()\n",
    "        wv.visit(source_ast)\n",
    "\n",
    "        for with_ast in wv.withs:\n",
    "            if starting_lineno + (with_ast.lineno - 1) == frame.f_lineno:\n",
    "                return with_ast\n",
    "\n",
    "        raise ValueError(\"Cannot find 'with' block\")"
   ]
  },
  {
   "cell_type": "markdown",
   "metadata": {
    "slideshow": {
     "slide_type": "subslide"
    }
   },
   "source": [
    "Within the `with` AST, we can identify all calls:"
   ]
  },
  {
   "cell_type": "code",
   "execution_count": 222,
   "metadata": {
    "execution": {
     "iopub.execute_input": "2023-01-07T16:02:55.280301Z",
     "iopub.status.busy": "2023-01-07T16:02:55.279915Z",
     "iopub.status.idle": "2023-01-07T16:02:55.281086Z",
     "shell.execute_reply": "2023-01-07T16:02:55.281412Z"
    },
    "slideshow": {
     "slide_type": "fragment"
    }
   },
   "outputs": [],
   "source": [
    "class CallCollector(NodeVisitor):\n",
    "    def __init__(self) -> None:\n",
    "        self.calls: Set[str] = set()\n",
    "\n",
    "    def visit_Call(self, node: ast.Call) -> AST:\n",
    "        caller_id = ast.unparse(node.func).strip()\n",
    "        self.calls.add(caller_id)\n",
    "        return self.generic_visit(node)"
   ]
  },
  {
   "cell_type": "code",
   "execution_count": 223,
   "metadata": {
    "execution": {
     "iopub.execute_input": "2023-01-07T16:02:55.283872Z",
     "iopub.status.busy": "2023-01-07T16:02:55.283425Z",
     "iopub.status.idle": "2023-01-07T16:02:55.284782Z",
     "shell.execute_reply": "2023-01-07T16:02:55.284982Z"
    },
    "slideshow": {
     "slide_type": "subslide"
    }
   },
   "outputs": [],
   "source": [
    "class Slicer(Slicer):\n",
    "    def calls_in_our_with_block(self) -> Set[str]:\n",
    "        \"\"\"Return a set of function names called in the `with` block.\"\"\"\n",
    "        block_ast = self.our_with_block()\n",
    "        cc = CallCollector()\n",
    "        for stmt in block_ast.body:\n",
    "            cc.visit(stmt)\n",
    "        return cc.calls"
   ]
  },
  {
   "cell_type": "markdown",
   "metadata": {
    "slideshow": {
     "slide_type": "fragment"
    }
   },
   "source": [
    "The method `funcs_in_our_with_block()` finally returns a list of all functions used in the `with` block. This is the list of functions we will instrument upfront."
   ]
  },
  {
   "cell_type": "code",
   "execution_count": 224,
   "metadata": {
    "execution": {
     "iopub.execute_input": "2023-01-07T16:02:55.287669Z",
     "iopub.status.busy": "2023-01-07T16:02:55.287337Z",
     "iopub.status.idle": "2023-01-07T16:02:55.288490Z",
     "shell.execute_reply": "2023-01-07T16:02:55.288729Z"
    },
    "slideshow": {
     "slide_type": "subslide"
    }
   },
   "outputs": [],
   "source": [
    "class Slicer(Slicer):\n",
    "    def funcs_in_our_with_block(self) -> List[Callable]:\n",
    "        funcs = []\n",
    "        for id in self.calls_in_our_with_block():\n",
    "            func = self.search_func(id)\n",
    "            if func:\n",
    "                funcs.append(func)\n",
    "\n",
    "        return funcs"
   ]
  },
  {
   "cell_type": "markdown",
   "metadata": {
    "slideshow": {
     "slide_type": "subslide"
    }
   },
   "source": [
    "The method `default_items_to_instrument()` is already provided for dynamic instrumentation – it is invoked whenever no list of functions to instrument is provided. So we have it return the list of functions as computed above.\n",
    "\n",
    "However, `default_items_to_instrument()` does one more thing: Using the (also provided) `instrument_call()` hook in our dependency tracker, we ensure that all (later) calls are redirected to instrumented functions! This way, if further functions are called, these will be instrumented on the fly."
   ]
  },
  {
   "cell_type": "code",
   "execution_count": 225,
   "metadata": {
    "execution": {
     "iopub.execute_input": "2023-01-07T16:02:55.291163Z",
     "iopub.status.busy": "2023-01-07T16:02:55.290108Z",
     "iopub.status.idle": "2023-01-07T16:02:55.293031Z",
     "shell.execute_reply": "2023-01-07T16:02:55.293439Z"
    },
    "slideshow": {
     "slide_type": "subslide"
    }
   },
   "outputs": [],
   "source": [
    "class Slicer(Slicer):\n",
    "    def default_items_to_instrument(self) -> List[Callable]:\n",
    "        # In _data.call(), return instrumented function\n",
    "        self.dependency_tracker.instrument_call = self.instrument  # type: ignore\n",
    "\n",
    "        # Start instrumenting the functions in our `with` block\n",
    "        return self.funcs_in_our_with_block()"
   ]
  },
  {
   "cell_type": "markdown",
   "metadata": {
    "slideshow": {
     "slide_type": "subslide"
    }
   },
   "source": [
    "### End of Excursion"
   ]
  },
  {
   "cell_type": "markdown",
   "metadata": {
    "slideshow": {
     "slide_type": "fragment"
    }
   },
   "source": [
    "Both these hacks are effective, as shown in the following example. We use the `Slicer()` constructor without arguments; it automatically identifies `fun_2()` as a function in the `with` block. As the instrumented `fun2()` is invoked, its `_data.call()` method instruments the call to `fun_1()` (and ensures the instrumented version is called)."
   ]
  },
  {
   "cell_type": "code",
   "execution_count": 226,
   "metadata": {
    "execution": {
     "iopub.execute_input": "2023-01-07T16:02:55.296016Z",
     "iopub.status.busy": "2023-01-07T16:02:55.295476Z",
     "iopub.status.idle": "2023-01-07T16:02:55.296888Z",
     "shell.execute_reply": "2023-01-07T16:02:55.297152Z"
    },
    "slideshow": {
     "slide_type": "fragment"
    }
   },
   "outputs": [],
   "source": [
    "def fun_1(x: int) -> int:\n",
    "    return x"
   ]
  },
  {
   "cell_type": "code",
   "execution_count": 227,
   "metadata": {
    "execution": {
     "iopub.execute_input": "2023-01-07T16:02:55.299204Z",
     "iopub.status.busy": "2023-01-07T16:02:55.298869Z",
     "iopub.status.idle": "2023-01-07T16:02:55.300229Z",
     "shell.execute_reply": "2023-01-07T16:02:55.300425Z"
    },
    "slideshow": {
     "slide_type": "fragment"
    }
   },
   "outputs": [],
   "source": [
    "def fun_2(x: int) -> int:\n",
    "    return fun_1(x)"
   ]
  },
  {
   "cell_type": "code",
   "execution_count": 228,
   "metadata": {
    "execution": {
     "iopub.execute_input": "2023-01-07T16:02:55.303575Z",
     "iopub.status.busy": "2023-01-07T16:02:55.303196Z",
     "iopub.status.idle": "2023-01-07T16:02:55.372353Z",
     "shell.execute_reply": "2023-01-07T16:02:55.372609Z"
    },
    "slideshow": {
     "slide_type": "subslide"
    }
   },
   "outputs": [
    {
     "name": "stdout",
     "output_type": "stream",
     "text": [
      "Instrumenting <function fun_2 at 0x107ece710>\n",
      "\u001b[34mdef\u001b[39;49;00m \u001b[32mfun_2\u001b[39;49;00m(x: \u001b[36mint\u001b[39;49;00m) -> \u001b[36mint\u001b[39;49;00m:\u001b[37m\u001b[39;49;00m\n",
      "    _data.param(\u001b[33m'\u001b[39;49;00m\u001b[33mx\u001b[39;49;00m\u001b[33m'\u001b[39;49;00m, x, pos=\u001b[34m1\u001b[39;49;00m, last=\u001b[34mTrue\u001b[39;49;00m)\u001b[37m\u001b[39;49;00m\n",
      "    \u001b[34mreturn\u001b[39;49;00m _data.set(\u001b[33m'\u001b[39;49;00m\u001b[33m<fun_2() return value>\u001b[39;49;00m\u001b[33m'\u001b[39;49;00m, _data.ret(_data.call(_data.get(\u001b[33m'\u001b[39;49;00m\u001b[33mfun_1\u001b[39;49;00m\u001b[33m'\u001b[39;49;00m, fun_1))(_data.arg(_data.get(\u001b[33m'\u001b[39;49;00m\u001b[33mx\u001b[39;49;00m\u001b[33m'\u001b[39;49;00m, x), pos=\u001b[34m1\u001b[39;49;00m))))\u001b[37m\u001b[39;49;00m\n",
      "\n",
      "Instrumenting <function fun_1 at 0x107ecdc60>\n",
      "\u001b[34mdef\u001b[39;49;00m \u001b[32mfun_1\u001b[39;49;00m(x: \u001b[36mint\u001b[39;49;00m) -> \u001b[36mint\u001b[39;49;00m:\u001b[37m\u001b[39;49;00m\n",
      "    _data.param(\u001b[33m'\u001b[39;49;00m\u001b[33mx\u001b[39;49;00m\u001b[33m'\u001b[39;49;00m, x, pos=\u001b[34m1\u001b[39;49;00m, last=\u001b[34mTrue\u001b[39;49;00m)\u001b[37m\u001b[39;49;00m\n",
      "    \u001b[34mreturn\u001b[39;49;00m _data.set(\u001b[33m'\u001b[39;49;00m\u001b[33m<fun_1() return value>\u001b[39;49;00m\u001b[33m'\u001b[39;49;00m, _data.get(\u001b[33m'\u001b[39;49;00m\u001b[33mx\u001b[39;49;00m\u001b[33m'\u001b[39;49;00m, x))\u001b[37m\u001b[39;49;00m\n",
      "\n"
     ]
    }
   ],
   "source": [
    "with Slicer(log=True) as slicer:\n",
    "    fun_2(10)"
   ]
  },
  {
   "cell_type": "code",
   "execution_count": 229,
   "metadata": {
    "execution": {
     "iopub.execute_input": "2023-01-07T16:02:55.378960Z",
     "iopub.status.busy": "2023-01-07T16:02:55.378599Z",
     "iopub.status.idle": "2023-01-07T16:02:55.661440Z",
     "shell.execute_reply": "2023-01-07T16:02:55.661755Z"
    },
    "slideshow": {
     "slide_type": "fragment"
    }
   },
   "outputs": [
    {
     "data": {
      "image/svg+xml": [
       "<?xml version=\"1.0\" encoding=\"UTF-8\" standalone=\"no\"?>\n",
       "<!DOCTYPE svg PUBLIC \"-//W3C//DTD SVG 1.1//EN\"\n",
       " \"http://www.w3.org/Graphics/SVG/1.1/DTD/svg11.dtd\">\n",
       "<!-- Generated by graphviz version 7.0.2 (20221119.0110)\n",
       " -->\n",
       "<!-- Title: dependencies Pages: 1 -->\n",
       "<svg width=\"270pt\" height=\"276pt\"\n",
       " viewBox=\"0.00 0.00 270.00 276.00\" xmlns=\"http://www.w3.org/2000/svg\" xmlns:xlink=\"http://www.w3.org/1999/xlink\">\n",
       "<g id=\"graph0\" class=\"graph\" transform=\"scale(1 1) rotate(0) translate(4 272)\">\n",
       "<title>dependencies</title>\n",
       "<polygon fill=\"white\" stroke=\"none\" points=\"-4,4 -4,-272 266,-272 266,4 -4,4\"/>\n",
       "<!-- fun_2returnvalue_functionfun_2at0x107ecdf30_2 -->\n",
       "<g id=\"node1\" class=\"node\">\n",
       "<title>fun_2returnvalue_functionfun_2at0x107ecdf30_2</title>\n",
       "<g id=\"a_node1\"><a xlink:title=\"fun_2:2\">\n",
       "<polygon fill=\"peachpuff\" stroke=\"black\" points=\"198,-40 0,-40 0,0 198,0 198,-40\"/>\n",
       "<text text-anchor=\"start\" x=\"8\" y=\"-25.8\" font-family=\"Courier,monospace\" font-weight=\"bold\" font-style=\"italic\" font-size=\"14.00\">&lt;fun_2() return value&gt;</text>\n",
       "<text text-anchor=\"start\" x=\"59.5\" y=\"-6.8\" font-family=\"Courier,monospace\" font-size=\"9.00\">return fun_1(x)</text>\n",
       "</a>\n",
       "</g>\n",
       "</g>\n",
       "<!-- fun_1returnvalue_functionfun_1at0x107ecda20_2 -->\n",
       "<g id=\"node2\" class=\"node\">\n",
       "<title>fun_1returnvalue_functionfun_1at0x107ecda20_2</title>\n",
       "<g id=\"a_node2\"><a xlink:title=\"fun_1:2\">\n",
       "<polygon fill=\"peachpuff\" stroke=\"black\" points=\"262,-116 64,-116 64,-76 262,-76 262,-116\"/>\n",
       "<text text-anchor=\"start\" x=\"72\" y=\"-101.8\" font-family=\"Courier,monospace\" font-weight=\"bold\" font-style=\"italic\" font-size=\"14.00\">&lt;fun_1() return value&gt;</text>\n",
       "<text text-anchor=\"start\" x=\"141.5\" y=\"-82.8\" font-family=\"Courier,monospace\" font-size=\"9.00\">return x</text>\n",
       "</a>\n",
       "</g>\n",
       "</g>\n",
       "<!-- fun_1returnvalue_functionfun_1at0x107ecda20_2&#45;&gt;fun_2returnvalue_functionfun_2at0x107ecdf30_2 -->\n",
       "<g id=\"edge1\" class=\"edge\">\n",
       "<title>fun_1returnvalue_functionfun_1at0x107ecda20_2&#45;&gt;fun_2returnvalue_functionfun_2at0x107ecdf30_2</title>\n",
       "<path fill=\"none\" stroke=\"black\" d=\"M146.18,-75.56C139.13,-67.4 130.79,-57.76 123.1,-48.87\"/>\n",
       "<polygon fill=\"black\" stroke=\"black\" points=\"125.88,-46.73 116.69,-41.46 120.59,-51.31 125.88,-46.73\"/>\n",
       "</g>\n",
       "<!-- x_functionfun_2at0x107ecdf30_1 -->\n",
       "<g id=\"node3\" class=\"node\">\n",
       "<title>x_functionfun_2at0x107ecdf30_1</title>\n",
       "<g id=\"a_node3\"><a xlink:title=\"fun_2:1\">\n",
       "<polygon fill=\"peachpuff\" stroke=\"black\" points=\"173,-268 25,-268 25,-228 173,-228 173,-268\"/>\n",
       "<text text-anchor=\"start\" x=\"94.5\" y=\"-253.8\" font-family=\"Courier,monospace\" font-weight=\"bold\" font-size=\"14.00\">x</text>\n",
       "<text text-anchor=\"start\" x=\"33\" y=\"-234.8\" font-family=\"Courier,monospace\" font-size=\"9.00\">def fun_2(x: int) &#45;&gt; int:</text>\n",
       "</a>\n",
       "</g>\n",
       "</g>\n",
       "<!-- x_functionfun_2at0x107ecdf30_1&#45;&gt;fun_2returnvalue_functionfun_2at0x107ecdf30_2 -->\n",
       "<!-- x_functionfun_1at0x107ecda20_1 -->\n",
       "<g id=\"node4\" class=\"node\">\n",
       "<title>x_functionfun_1at0x107ecda20_1</title>\n",
       "<g id=\"a_node4\"><a xlink:title=\"fun_1:1\">\n",
       "<polygon fill=\"peachpuff\" stroke=\"black\" points=\"237,-192 89,-192 89,-152 237,-152 237,-192\"/>\n",
       "<text text-anchor=\"start\" x=\"158.5\" y=\"-177.8\" font-family=\"Courier,monospace\" font-weight=\"bold\" font-size=\"14.00\">x</text>\n",
       "<text text-anchor=\"start\" x=\"97\" y=\"-158.8\" font-family=\"Courier,monospace\" font-size=\"9.00\">def fun_1(x: int) &#45;&gt; int:</text>\n",
       "</a>\n",
       "</g>\n",
       "</g>\n",
       "<!-- x_functionfun_2at0x107ecdf30_1&#45;&gt;x_functionfun_1at0x107ecda20_1 -->\n",
       "<g id=\"edge2\" class=\"edge\">\n",
       "<title>x_functionfun_2at0x107ecdf30_1&#45;&gt;x_functionfun_1at0x107ecda20_1</title>\n",
       "<path fill=\"none\" stroke=\"black\" d=\"M115.82,-227.56C122.87,-219.4 131.21,-209.76 138.9,-200.87\"/>\n",
       "<polygon fill=\"black\" stroke=\"black\" points=\"141.41,-203.31 145.31,-193.46 136.12,-198.73 141.41,-203.31\"/>\n",
       "</g>\n",
       "<!-- x_functionfun_1at0x107ecda20_1&#45;&gt;fun_1returnvalue_functionfun_1at0x107ecda20_2 -->\n",
       "<g id=\"edge3\" class=\"edge\">\n",
       "<title>x_functionfun_1at0x107ecda20_1&#45;&gt;fun_1returnvalue_functionfun_1at0x107ecda20_2</title>\n",
       "<path fill=\"none\" stroke=\"black\" d=\"M156.98,-151.56C156.32,-144.25 156.11,-135.75 156.34,-127.67\"/>\n",
       "<polygon fill=\"black\" stroke=\"black\" points=\"159.82,-128.01 156.9,-117.82 152.84,-127.61 159.82,-128.01\"/>\n",
       "</g>\n",
       "<!-- x_functionfun_1at0x107ecda20_1&#45;&gt;fun_1returnvalue_functionfun_1at0x107ecda20_2 -->\n",
       "</g>\n",
       "</svg>\n"
      ],
      "text/plain": [
       "<__main__.Slicer at 0x1192c4af0>"
      ]
     },
     "execution_count": 229,
     "metadata": {},
     "output_type": "execute_result"
    }
   ],
   "source": [
    "slicer"
   ]
  },
  {
   "cell_type": "markdown",
   "metadata": {
    "slideshow": {
     "slide_type": "slide"
    }
   },
   "source": [
    "## More Applications\n",
    "\n",
    "The main use of dynamic slices is for _debugging tools_, where they show the origins of individual values. However, beyond facilitating debugging, tracking information flows has a number of additional applications, some of which we briefly sketch here."
   ]
  },
  {
   "cell_type": "markdown",
   "metadata": {
    "slideshow": {
     "slide_type": "subslide"
    }
   },
   "source": [
    "### Verifying Information Flows\n",
    "\n",
    "Using dynamic slices, we can check all the locations where (potentially sensitive) information is used. As an example, consider the following function `password_checker()`, which requests a password from the user and returns `True` if it is the correct one:"
   ]
  },
  {
   "cell_type": "code",
   "execution_count": 230,
   "metadata": {
    "execution": {
     "iopub.execute_input": "2023-01-07T16:02:55.663960Z",
     "iopub.status.busy": "2023-01-07T16:02:55.663672Z",
     "iopub.status.idle": "2023-01-07T16:02:55.664726Z",
     "shell.execute_reply": "2023-01-07T16:02:55.665032Z"
    },
    "slideshow": {
     "slide_type": "skip"
    }
   },
   "outputs": [],
   "source": [
    "import hashlib"
   ]
  },
  {
   "cell_type": "code",
   "execution_count": 231,
   "metadata": {
    "execution": {
     "iopub.execute_input": "2023-01-07T16:02:55.666769Z",
     "iopub.status.busy": "2023-01-07T16:02:55.666455Z",
     "iopub.status.idle": "2023-01-07T16:02:55.667972Z",
     "shell.execute_reply": "2023-01-07T16:02:55.667712Z"
    },
    "slideshow": {
     "slide_type": "skip"
    }
   },
   "outputs": [],
   "source": [
    "from bookutils import input, next_inputs"
   ]
  },
  {
   "cell_type": "code",
   "execution_count": 232,
   "metadata": {
    "execution": {
     "iopub.execute_input": "2023-01-07T16:02:55.669663Z",
     "iopub.status.busy": "2023-01-07T16:02:55.669358Z",
     "iopub.status.idle": "2023-01-07T16:02:55.670699Z",
     "shell.execute_reply": "2023-01-07T16:02:55.670913Z"
    },
    "slideshow": {
     "slide_type": "fragment"
    }
   },
   "outputs": [],
   "source": [
    "SECRET_HASH_DIGEST = '59f2da35bcc39525b87932b4cc1f3d68'"
   ]
  },
  {
   "cell_type": "code",
   "execution_count": 233,
   "metadata": {
    "execution": {
     "iopub.execute_input": "2023-01-07T16:02:55.672965Z",
     "iopub.status.busy": "2023-01-07T16:02:55.672659Z",
     "iopub.status.idle": "2023-01-07T16:02:55.673910Z",
     "shell.execute_reply": "2023-01-07T16:02:55.674143Z"
    },
    "slideshow": {
     "slide_type": "subslide"
    }
   },
   "outputs": [],
   "source": [
    "def password_checker() -> bool:\n",
    "    \"\"\"Request a password. Return True if correct.\"\"\"\n",
    "    secret_password = input(\"Enter secret password: \")\n",
    "    password_digest = hashlib.md5(secret_password.encode('utf-8')).hexdigest()\n",
    "\n",
    "    if password_digest == SECRET_HASH_DIGEST:\n",
    "        return True\n",
    "    else:\n",
    "        return False"
   ]
  },
  {
   "cell_type": "markdown",
   "metadata": {
    "slideshow": {
     "slide_type": "fragment"
    }
   },
   "source": [
    "(Note that this is a very naive implementation: A true password checker would use the Python `getpass` module to read in a password without echoing it in the clear, and possibly also use a more sophisticated hash function than `md5`.)"
   ]
  },
  {
   "cell_type": "markdown",
   "metadata": {
    "slideshow": {
     "slide_type": "subslide"
    }
   },
   "source": [
    "From a security perspective, the interesting question we can ask using slicing is: _Is the entered password stored in the clear somewhere_? For this, we can simply run our slicer to see where the inputs are going:"
   ]
  },
  {
   "cell_type": "code",
   "execution_count": 234,
   "metadata": {
    "execution": {
     "iopub.execute_input": "2023-01-07T16:02:55.675994Z",
     "iopub.status.busy": "2023-01-07T16:02:55.675670Z",
     "iopub.status.idle": "2023-01-07T16:02:55.677246Z",
     "shell.execute_reply": "2023-01-07T16:02:55.677501Z"
    },
    "slideshow": {
     "slide_type": "fragment"
    }
   },
   "outputs": [
    {
     "data": {
      "text/plain": [
       "['secret123']"
      ]
     },
     "execution_count": 234,
     "metadata": {},
     "output_type": "execute_result"
    }
   ],
   "source": [
    "# ignore\n",
    "next_inputs(['secret123'])"
   ]
  },
  {
   "cell_type": "code",
   "execution_count": 235,
   "metadata": {
    "execution": {
     "iopub.execute_input": "2023-01-07T16:02:55.683552Z",
     "iopub.status.busy": "2023-01-07T16:02:55.678940Z",
     "iopub.status.idle": "2023-01-07T16:02:55.685478Z",
     "shell.execute_reply": "2023-01-07T16:02:55.685747Z"
    },
    "slideshow": {
     "slide_type": "fragment"
    }
   },
   "outputs": [
    {
     "data": {
      "text/html": [
       "<samp>Enter secret password: <b>secret123</b></samp>"
      ],
      "text/plain": [
       "<IPython.core.display.HTML object>"
      ]
     },
     "metadata": {},
     "output_type": "display_data"
    }
   ],
   "source": [
    "with Slicer() as slicer:\n",
    "    valid_pwd = password_checker()"
   ]
  },
  {
   "cell_type": "code",
   "execution_count": 236,
   "metadata": {
    "execution": {
     "iopub.execute_input": "2023-01-07T16:02:55.688169Z",
     "iopub.status.busy": "2023-01-07T16:02:55.687820Z",
     "iopub.status.idle": "2023-01-07T16:02:55.977880Z",
     "shell.execute_reply": "2023-01-07T16:02:55.978117Z"
    },
    "slideshow": {
     "slide_type": "fragment"
    }
   },
   "outputs": [
    {
     "data": {
      "image/svg+xml": [
       "<?xml version=\"1.0\" encoding=\"UTF-8\" standalone=\"no\"?>\n",
       "<!DOCTYPE svg PUBLIC \"-//W3C//DTD SVG 1.1//EN\"\n",
       " \"http://www.w3.org/Graphics/SVG/1.1/DTD/svg11.dtd\">\n",
       "<!-- Generated by graphviz version 7.0.2 (20221119.0110)\n",
       " -->\n",
       "<!-- Title: dependencies Pages: 1 -->\n",
       "<svg width=\"413pt\" height=\"276pt\"\n",
       " viewBox=\"0.00 0.00 413.00 276.00\" xmlns=\"http://www.w3.org/2000/svg\" xmlns:xlink=\"http://www.w3.org/1999/xlink\">\n",
       "<g id=\"graph0\" class=\"graph\" transform=\"scale(1 1) rotate(0) translate(4 272)\">\n",
       "<title>dependencies</title>\n",
       "<polygon fill=\"white\" stroke=\"none\" points=\"-4,4 -4,-272 409,-272 409,4 -4,4\"/>\n",
       "<!-- test_functionpassword_checkerat0x119219ab0_6 -->\n",
       "<g id=\"node1\" class=\"node\">\n",
       "<title>test_functionpassword_checkerat0x119219ab0_6</title>\n",
       "<g id=\"a_node1\"><a xlink:title=\"password_checker:6\">\n",
       "<polygon fill=\"peachpuff\" stroke=\"black\" points=\"318.5,-116 86.5,-116 86.5,-76 318.5,-76 318.5,-116\"/>\n",
       "<text text-anchor=\"start\" x=\"177.5\" y=\"-101.8\" font-family=\"Courier,monospace\" font-weight=\"bold\" font-style=\"italic\" font-size=\"14.00\">&lt;test&gt;</text>\n",
       "<text text-anchor=\"start\" x=\"94.5\" y=\"-82.8\" font-family=\"Courier,monospace\" font-size=\"9.00\">if password_digest == SECRET_HASH_DIGEST:</text>\n",
       "</a>\n",
       "</g>\n",
       "</g>\n",
       "<!-- password_checkerreturnvalue_functionpassword_checkerat0x119219ab0_9 -->\n",
       "<g id=\"node4\" class=\"node\">\n",
       "<title>password_checkerreturnvalue_functionpassword_checkerat0x119219ab0_9</title>\n",
       "<g id=\"a_node4\"><a xlink:title=\"password_checker:9\">\n",
       "<polygon fill=\"peachpuff\" stroke=\"black\" points=\"347,-40 58,-40 58,0 347,0 347,-40\"/>\n",
       "<text text-anchor=\"start\" x=\"66\" y=\"-25.8\" font-family=\"Courier,monospace\" font-weight=\"bold\" font-style=\"italic\" font-size=\"14.00\">&lt;password_checker() return value&gt;</text>\n",
       "<text text-anchor=\"start\" x=\"170.5\" y=\"-6.8\" font-family=\"Courier,monospace\" font-size=\"9.00\">return False</text>\n",
       "</a>\n",
       "</g>\n",
       "</g>\n",
       "<!-- test_functionpassword_checkerat0x119219ab0_6&#45;&gt;password_checkerreturnvalue_functionpassword_checkerat0x119219ab0_9 -->\n",
       "<g id=\"edge3\" class=\"edge\">\n",
       "<title>test_functionpassword_checkerat0x119219ab0_6&#45;&gt;password_checkerreturnvalue_functionpassword_checkerat0x119219ab0_9</title>\n",
       "<path fill=\"none\" stroke=\"grey\" stroke-dasharray=\"5,2\" d=\"M196.48,-75.56C195.82,-68.25 195.61,-59.75 195.84,-51.67\"/>\n",
       "<polygon fill=\"grey\" stroke=\"grey\" points=\"199.32,-52.01 196.4,-41.82 192.34,-51.61 199.32,-52.01\"/>\n",
       "</g>\n",
       "<!-- test_functionpassword_checkerat0x119219ab0_6&#45;&gt;password_checkerreturnvalue_functionpassword_checkerat0x119219ab0_9 -->\n",
       "<!-- password_digest_functionpassword_checkerat0x119219ab0_4 -->\n",
       "<g id=\"node2\" class=\"node\">\n",
       "<title>password_digest_functionpassword_checkerat0x119219ab0_4</title>\n",
       "<g id=\"a_node2\"><a xlink:title=\"password_checker:4\">\n",
       "<polygon fill=\"peachpuff\" stroke=\"black\" points=\"405,-192 0,-192 0,-152 405,-152 405,-192\"/>\n",
       "<text text-anchor=\"start\" x=\"140.5\" y=\"-177.8\" font-family=\"Courier,monospace\" font-weight=\"bold\" font-size=\"14.00\">password_digest</text>\n",
       "<text text-anchor=\"start\" x=\"8\" y=\"-158.8\" font-family=\"Courier,monospace\" font-size=\"9.00\">password_digest = hashlib.md5(secret_password.encode(&#39;utf&#45;8&#39;)).hexdigest()</text>\n",
       "</a>\n",
       "</g>\n",
       "</g>\n",
       "<!-- password_digest_functionpassword_checkerat0x119219ab0_4&#45;&gt;test_functionpassword_checkerat0x119219ab0_6 -->\n",
       "<g id=\"edge1\" class=\"edge\">\n",
       "<title>password_digest_functionpassword_checkerat0x119219ab0_4&#45;&gt;test_functionpassword_checkerat0x119219ab0_6</title>\n",
       "<path fill=\"none\" stroke=\"black\" d=\"M196.48,-151.56C195.82,-144.25 195.61,-135.75 195.84,-127.67\"/>\n",
       "<polygon fill=\"black\" stroke=\"black\" points=\"199.32,-128.01 196.4,-117.82 192.34,-127.61 199.32,-128.01\"/>\n",
       "</g>\n",
       "<!-- password_digest_functionpassword_checkerat0x119219ab0_4&#45;&gt;test_functionpassword_checkerat0x119219ab0_6 -->\n",
       "<!-- secret_password_functionpassword_checkerat0x119219ab0_3 -->\n",
       "<g id=\"node3\" class=\"node\">\n",
       "<title>secret_password_functionpassword_checkerat0x119219ab0_3</title>\n",
       "<g id=\"a_node3\"><a xlink:title=\"password_checker:3\">\n",
       "<polygon fill=\"peachpuff\" stroke=\"black\" points=\"342,-268 63,-268 63,-228 342,-228 342,-268\"/>\n",
       "<text text-anchor=\"start\" x=\"140.5\" y=\"-253.8\" font-family=\"Courier,monospace\" font-weight=\"bold\" font-size=\"14.00\">secret_password</text>\n",
       "<text text-anchor=\"start\" x=\"71\" y=\"-234.8\" font-family=\"Courier,monospace\" font-size=\"9.00\">secret_password = input(&quot;Enter secret password: &quot;)</text>\n",
       "</a>\n",
       "</g>\n",
       "</g>\n",
       "<!-- secret_password_functionpassword_checkerat0x119219ab0_3&#45;&gt;password_digest_functionpassword_checkerat0x119219ab0_4 -->\n",
       "<g id=\"edge2\" class=\"edge\">\n",
       "<title>secret_password_functionpassword_checkerat0x119219ab0_3&#45;&gt;password_digest_functionpassword_checkerat0x119219ab0_4</title>\n",
       "<path fill=\"none\" stroke=\"black\" d=\"M196.48,-227.56C195.82,-220.25 195.61,-211.75 195.84,-203.67\"/>\n",
       "<polygon fill=\"black\" stroke=\"black\" points=\"199.32,-204.01 196.4,-193.82 192.34,-203.61 199.32,-204.01\"/>\n",
       "</g>\n",
       "<!-- secret_password_functionpassword_checkerat0x119219ab0_3&#45;&gt;password_digest_functionpassword_checkerat0x119219ab0_4 -->\n",
       "</g>\n",
       "</svg>\n"
      ],
      "text/plain": [
       "<__main__.Slicer at 0x11a9d1120>"
      ]
     },
     "execution_count": 236,
     "metadata": {},
     "output_type": "execute_result"
    }
   ],
   "source": [
    "slicer"
   ]
  },
  {
   "cell_type": "markdown",
   "metadata": {
    "slideshow": {
     "slide_type": "fragment"
    }
   },
   "source": [
    "We see that the password only flows into `password_digest`, where it is already encrypted. If the password were flowing into some other function or variable, we would see this in our slice."
   ]
  },
  {
   "cell_type": "markdown",
   "metadata": {
    "slideshow": {
     "slide_type": "subslide"
    }
   },
   "source": [
    "(Note that an attacker may still be able to find out which password was entered, for instance, by checking memory contents.)"
   ]
  },
  {
   "cell_type": "code",
   "execution_count": 237,
   "metadata": {
    "execution": {
     "iopub.execute_input": "2023-01-07T16:02:55.983574Z",
     "iopub.status.busy": "2023-01-07T16:02:55.979328Z",
     "iopub.status.idle": "2023-01-07T16:02:55.985244Z",
     "shell.execute_reply": "2023-01-07T16:02:55.985652Z"
    },
    "slideshow": {
     "slide_type": "subslide"
    }
   },
   "outputs": [
    {
     "data": {
      "text/html": [
       "\n",
       "    \n",
       "    <script>\n",
       "    var bad_answers = new Map();\n",
       "\n",
       "    function answer(quiz_id) {\n",
       "        ans = 0;\n",
       "        for (i = 1;; i++) {\n",
       "            checkbox = document.getElementById(quiz_id + \"-\" + i.toString());\n",
       "            if (!checkbox)\n",
       "                break;\n",
       "            if (checkbox.checked)\n",
       "                ans |= (1 << i);\n",
       "        }\n",
       "        return ans;\n",
       "    }\n",
       "    function check_selection(quiz_id, correct_answer, multiple_choice, hint) {\n",
       "        given_answer = answer(quiz_id);\n",
       "        if (given_answer == correct_answer)\n",
       "        {\n",
       "            document.getElementById(quiz_id + \"-submit\").value = \"Correct!\";\n",
       "            document.getElementById(quiz_id + \"-hint\").innerHTML = \"\";\n",
       "\n",
       "            for (i = 1;; i++) {\n",
       "                checkbox = document.getElementById(quiz_id + \"-\" + i.toString());\n",
       "                label = document.getElementById(quiz_id + \"-\" + i.toString() + \"-label\")\n",
       "                if (!checkbox)\n",
       "                    break;\n",
       "    \n",
       "                if (checkbox.checked) {\n",
       "                    label.style.fontWeight = \"bold\";\n",
       "                }\n",
       "                else {\n",
       "                    label.style.textDecoration = \"line-through\";\n",
       "                }\n",
       "            }\n",
       "        }\n",
       "        else \n",
       "        {\n",
       "            document.getElementById(quiz_id + \"-submit\").value = \"Try again\";\n",
       "            \n",
       "            if (!bad_answers.has(quiz_id)) {\n",
       "                bad_answers.set(quiz_id, 1);\n",
       "            }\n",
       "            else {\n",
       "                bad_answers.set(quiz_id, bad_answers.get(quiz_id) + 1);\n",
       "            }\n",
       "\n",
       "            if (bad_answers.get(quiz_id) >= 2 && hint.length > 0) {\n",
       "                document.getElementById(quiz_id + \"-hint\").innerHTML = \n",
       "                    \"&nbsp;&nbsp;(Hint: <code>\" + hint + \"</code>)\";\n",
       "            }\n",
       "\n",
       "            if (!multiple_choice) {\n",
       "                for (i = 1;; i++) {\n",
       "                    checkbox = document.getElementById(quiz_id + \"-\" + i.toString());\n",
       "                    label = document.getElementById(quiz_id + \"-\" + i.toString() + \"-label\")\n",
       "\n",
       "                    if (!checkbox)\n",
       "                        break;\n",
       "                    if (checkbox.checked) {\n",
       "                        label.style.textDecoration = \"line-through\";\n",
       "                    }\n",
       "                }\n",
       "            }\n",
       "        }\n",
       "    }\n",
       "    function clear_selection(quiz_id) {\n",
       "        document.getElementById(quiz_id + \"-submit\").value = \"Submit\";\n",
       "        document.getElementById(quiz_id + \"-hint\").innerHTML = \"\";\n",
       "    }\n",
       "    </script>\n",
       "    \n",
       "    <div class=\"quiz\">\n",
       "    <h3 class=\"quiz_title\">Quiz</h3>\n",
       "    <p>\n",
       "    <div class=\"quiz_question\">What is the secret password, actually?</div>\n",
       "    </p>\n",
       "    <p>\n",
       "    <div class=\"quiz_options\" title=\"Pick a choice.\">\n",
       "    \n",
       "        <input type=\"radio\" name=\"bfab316e-8ea4-11ed-b688-6298cf1a5790\" id=\"bfab316e-8ea4-11ed-b688-6298cf1a5790-1\" onclick=\"clear_selection('bfab316e-8ea4-11ed-b688-6298cf1a5790')\">\n",
       "        <label id=\"bfab316e-8ea4-11ed-b688-6298cf1a5790-1-label\" for=\"bfab316e-8ea4-11ed-b688-6298cf1a5790-1\"><code>'automated'</code></label><br>\n",
       "    \n",
       "        <input type=\"radio\" name=\"bfab316e-8ea4-11ed-b688-6298cf1a5790\" id=\"bfab316e-8ea4-11ed-b688-6298cf1a5790-2\" onclick=\"clear_selection('bfab316e-8ea4-11ed-b688-6298cf1a5790')\">\n",
       "        <label id=\"bfab316e-8ea4-11ed-b688-6298cf1a5790-2-label\" for=\"bfab316e-8ea4-11ed-b688-6298cf1a5790-2\"><code>'debugging'</code></label><br>\n",
       "    \n",
       "        <input type=\"radio\" name=\"bfab316e-8ea4-11ed-b688-6298cf1a5790\" id=\"bfab316e-8ea4-11ed-b688-6298cf1a5790-3\" onclick=\"clear_selection('bfab316e-8ea4-11ed-b688-6298cf1a5790')\">\n",
       "        <label id=\"bfab316e-8ea4-11ed-b688-6298cf1a5790-3-label\" for=\"bfab316e-8ea4-11ed-b688-6298cf1a5790-3\"><code>'is'</code></label><br>\n",
       "    \n",
       "        <input type=\"radio\" name=\"bfab316e-8ea4-11ed-b688-6298cf1a5790\" id=\"bfab316e-8ea4-11ed-b688-6298cf1a5790-4\" onclick=\"clear_selection('bfab316e-8ea4-11ed-b688-6298cf1a5790')\">\n",
       "        <label id=\"bfab316e-8ea4-11ed-b688-6298cf1a5790-4-label\" for=\"bfab316e-8ea4-11ed-b688-6298cf1a5790-4\"><code>'fun'</code></label><br>\n",
       "    \n",
       "    </div>\n",
       "    </p>\n",
       "    <input id=\"bfab316e-8ea4-11ed-b688-6298cf1a5790-submit\" type=\"submit\" value=\"Submit\" onclick=\"check_selection('bfab316e-8ea4-11ed-b688-6298cf1a5790', 4, 0, '')\">\n",
       "    <span class=\"quiz_hint\" id=\"bfab316e-8ea4-11ed-b688-6298cf1a5790-hint\"></span>\n",
       "    </div>\n",
       "    "
      ],
      "text/plain": [
       "<IPython.core.display.HTML object>"
      ]
     },
     "execution_count": 237,
     "metadata": {},
     "output_type": "execute_result"
    }
   ],
   "source": [
    "# ignore\n",
    "secret_answers = [\n",
    "    'automated',\n",
    "    'debugging',\n",
    "    'is',\n",
    "    'fun'\n",
    "]\n",
    "\n",
    "quiz(\"What is the secret password, actually?\", \n",
    "     [f\"`{repr(s)}`\" for s in secret_answers],\n",
    "     min([i + 1 for i, ans in enumerate(secret_answers) \n",
    "          if hashlib.md5(ans.encode('utf-8')).hexdigest() == \n",
    "              SECRET_HASH_DIGEST])\n",
    "    )"
   ]
  },
  {
   "cell_type": "markdown",
   "metadata": {
    "slideshow": {
     "slide_type": "subslide"
    }
   },
   "source": [
    "### Assessing Test Quality"
   ]
  },
  {
   "cell_type": "markdown",
   "metadata": {
    "slideshow": {
     "slide_type": "fragment"
    }
   },
   "source": [
    "Another interesting usage of dynamic slices is to _assess test quality_. With our `square_root()` function, we have seen that the included assertions well test the arguments and the result for correctness:"
   ]
  },
  {
   "cell_type": "code",
   "execution_count": 238,
   "metadata": {
    "execution": {
     "iopub.execute_input": "2023-01-07T16:02:55.988925Z",
     "iopub.status.busy": "2023-01-07T16:02:55.988370Z",
     "iopub.status.idle": "2023-01-07T16:02:55.989593Z",
     "shell.execute_reply": "2023-01-07T16:02:55.989783Z"
    },
    "slideshow": {
     "slide_type": "fragment"
    }
   },
   "outputs": [],
   "source": [
    "# ignore\n",
    "_, start_square_root = inspect.getsourcelines(square_root)"
   ]
  },
  {
   "cell_type": "code",
   "execution_count": 239,
   "metadata": {
    "execution": {
     "iopub.execute_input": "2023-01-07T16:02:56.014896Z",
     "iopub.status.busy": "2023-01-07T16:02:56.014326Z",
     "iopub.status.idle": "2023-01-07T16:02:56.024100Z",
     "shell.execute_reply": "2023-01-07T16:02:56.024440Z"
    },
    "slideshow": {
     "slide_type": "subslide"
    }
   },
   "outputs": [
    {
     "name": "stdout",
     "output_type": "stream",
     "text": [
      "54  \u001b[34mdef\u001b[39;49;00m \u001b[32msquare_root\u001b[39;49;00m(x):  \u001b[37m# type: ignore\u001b[39;49;00m\u001b[37m\u001b[39;49;00m\n",
      "55      \u001b[34massert\u001b[39;49;00m x >= \u001b[34m0\u001b[39;49;00m  \u001b[37m# precondition\u001b[39;49;00m\u001b[37m\u001b[39;49;00m\n",
      "56  \u001b[37m\u001b[39;49;00m\n",
      "57      approx = \u001b[34mNone\u001b[39;49;00m\u001b[37m\u001b[39;49;00m\n",
      "58      guess = x / \u001b[34m2\u001b[39;49;00m\u001b[37m\u001b[39;49;00m\n",
      "59      \u001b[34mwhile\u001b[39;49;00m approx != guess:\u001b[37m\u001b[39;49;00m\n",
      "60          approx = guess\u001b[37m\u001b[39;49;00m\n",
      "61          guess = (approx + x / approx) / \u001b[34m2\u001b[39;49;00m\u001b[37m\u001b[39;49;00m\n",
      "62  \u001b[37m\u001b[39;49;00m\n",
      "63      \u001b[34massert\u001b[39;49;00m math.isclose(approx * approx, x)\u001b[37m\u001b[39;49;00m\n",
      "64      \u001b[34mreturn\u001b[39;49;00m approx\u001b[37m\u001b[39;49;00m"
     ]
    }
   ],
   "source": [
    "# ignore\n",
    "print_content(inspect.getsource(square_root), '.py',\n",
    "              start_line_number=start_square_root)"
   ]
  },
  {
   "cell_type": "markdown",
   "metadata": {
    "slideshow": {
     "slide_type": "subslide"
    }
   },
   "source": [
    "However, a lazy programmer could also omit these tests – or worse yet, include tests that always pass:"
   ]
  },
  {
   "cell_type": "code",
   "execution_count": 240,
   "metadata": {
    "execution": {
     "iopub.execute_input": "2023-01-07T16:02:56.026968Z",
     "iopub.status.busy": "2023-01-07T16:02:56.026614Z",
     "iopub.status.idle": "2023-01-07T16:02:56.027886Z",
     "shell.execute_reply": "2023-01-07T16:02:56.028112Z"
    },
    "slideshow": {
     "slide_type": "fragment"
    }
   },
   "outputs": [],
   "source": [
    "def square_root_unchecked(x):  # type: ignore\n",
    "    assert True  # <-- new \"precondition\"\n",
    "\n",
    "    approx = None\n",
    "    guess = x / 2\n",
    "    while approx != guess:\n",
    "        approx = guess\n",
    "        guess = (approx + x / approx) / 2\n",
    "\n",
    "    assert True  # <-- new \"postcondition\"\n",
    "    return approx"
   ]
  },
  {
   "cell_type": "markdown",
   "metadata": {
    "slideshow": {
     "slide_type": "subslide"
    }
   },
   "source": [
    "How can one check that the tests supplied actually are effective? This is a problem of \"Who watches the watchmen\" – we need to find a way to ensure that the tests do their job."
   ]
  },
  {
   "attachments": {},
   "cell_type": "markdown",
   "metadata": {
    "slideshow": {
     "slide_type": "fragment"
    }
   },
   "source": [
    "The \"classical\" way of testing tests is so-called *mutation testing* – that is, introducing _artificial errors_ into the code to see whether the tests catch them. Mutation testing is effective: The above \"weak\" tests would not catch any change to the `square_root()` computation code, and hence quickly be determined as ineffective. However, mutation testing is also _costly_, as tests have to be ran again and again for every small code mutation."
   ]
  },
  {
   "cell_type": "markdown",
   "metadata": {
    "slideshow": {
     "slide_type": "fragment"
    }
   },
   "source": [
    "Slices offer a cost-effective alternative to determine the quality of tests. The idea is that if there are statements in the code whose result does _not_ flow into an assertion, then any errors in these statements will go unnoticed. In consequence, the larger the backward slice of an assertion, the higher its ability to catch errors."
   ]
  },
  {
   "cell_type": "markdown",
   "metadata": {
    "slideshow": {
     "slide_type": "subslide"
    }
   },
   "source": [
    "We can easily validate this assumption using the two examples, above. Here is the backward slice for the \"full\" postcondition in `square_root()`. We see that the entire computation code flows into the final postcondition:"
   ]
  },
  {
   "cell_type": "code",
   "execution_count": 241,
   "metadata": {
    "execution": {
     "iopub.execute_input": "2023-01-07T16:02:56.030605Z",
     "iopub.status.busy": "2023-01-07T16:02:56.030150Z",
     "iopub.status.idle": "2023-01-07T16:02:56.031784Z",
     "shell.execute_reply": "2023-01-07T16:02:56.031984Z"
    },
    "slideshow": {
     "slide_type": "fragment"
    }
   },
   "outputs": [
    {
     "data": {
      "text/plain": [
       "63"
      ]
     },
     "execution_count": 241,
     "metadata": {},
     "output_type": "execute_result"
    }
   ],
   "source": [
    "postcondition_lineno = start_square_root + 9\n",
    "postcondition_lineno"
   ]
  },
  {
   "cell_type": "code",
   "execution_count": 242,
   "metadata": {
    "execution": {
     "iopub.execute_input": "2023-01-07T16:02:56.035680Z",
     "iopub.status.busy": "2023-01-07T16:02:56.035334Z",
     "iopub.status.idle": "2023-01-07T16:02:56.397467Z",
     "shell.execute_reply": "2023-01-07T16:02:56.397800Z"
    },
    "slideshow": {
     "slide_type": "subslide"
    }
   },
   "outputs": [
    {
     "data": {
      "image/svg+xml": [
       "<?xml version=\"1.0\" encoding=\"UTF-8\" standalone=\"no\"?>\n",
       "<!DOCTYPE svg PUBLIC \"-//W3C//DTD SVG 1.1//EN\"\n",
       " \"http://www.w3.org/Graphics/SVG/1.1/DTD/svg11.dtd\">\n",
       "<!-- Generated by graphviz version 7.0.2 (20221119.0110)\n",
       " -->\n",
       "<!-- Title: dependencies Pages: 1 -->\n",
       "<svg width=\"337pt\" height=\"504pt\"\n",
       " viewBox=\"0.00 0.00 336.50 504.00\" xmlns=\"http://www.w3.org/2000/svg\" xmlns:xlink=\"http://www.w3.org/1999/xlink\">\n",
       "<g id=\"graph0\" class=\"graph\" transform=\"scale(1 1) rotate(0) translate(4 500)\">\n",
       "<title>dependencies</title>\n",
       "<polygon fill=\"white\" stroke=\"none\" points=\"-4,4 -4,-500 332.5,-500 332.5,4 -4,4\"/>\n",
       "<!-- x_functionsquare_rootat0x107ecf5b0_54 -->\n",
       "<g id=\"node1\" class=\"node\">\n",
       "<title>x_functionsquare_rootat0x107ecf5b0_54</title>\n",
       "<g id=\"a_node1\"><a xlink:title=\"square_root:54\">\n",
       "<polygon fill=\"peachpuff\" stroke=\"black\" points=\"251,-496 51,-496 51,-456 251,-456 251,-496\"/>\n",
       "<text text-anchor=\"start\" x=\"146.5\" y=\"-481.8\" font-family=\"Courier,monospace\" font-weight=\"bold\" font-size=\"14.00\">x</text>\n",
       "<text text-anchor=\"start\" x=\"59\" y=\"-462.8\" font-family=\"Courier,monospace\" font-size=\"9.00\">def square_root(x): &#160;# type: ignore</text>\n",
       "</a>\n",
       "</g>\n",
       "</g>\n",
       "<!-- approx_functionsquare_rootat0x107ecf5b0_57 -->\n",
       "<g id=\"node2\" class=\"node\">\n",
       "<title>approx_functionsquare_rootat0x107ecf5b0_57</title>\n",
       "<g id=\"a_node2\"><a xlink:title=\"square_root:57\">\n",
       "<polygon fill=\"peachpuff\" stroke=\"black\" points=\"158.5,-420 73.5,-420 73.5,-380 158.5,-380 158.5,-420\"/>\n",
       "<text text-anchor=\"start\" x=\"91\" y=\"-405.8\" font-family=\"Courier,monospace\" font-weight=\"bold\" font-size=\"14.00\">approx</text>\n",
       "<text text-anchor=\"start\" x=\"81.5\" y=\"-386.8\" font-family=\"Courier,monospace\" font-size=\"9.00\">approx = None</text>\n",
       "</a>\n",
       "</g>\n",
       "</g>\n",
       "<!-- x_functionsquare_rootat0x107ecf5b0_54&#45;&gt;approx_functionsquare_rootat0x107ecf5b0_57 -->\n",
       "<!-- guess_functionsquare_rootat0x107ecf5b0_61 -->\n",
       "<g id=\"node3\" class=\"node\">\n",
       "<title>guess_functionsquare_rootat0x107ecf5b0_61</title>\n",
       "<g id=\"a_node3\"><a xlink:title=\"square_root:61\">\n",
       "<polygon fill=\"peachpuff\" stroke=\"black\" points=\"190,-116 0,-116 0,-76 190,-76 190,-116\"/>\n",
       "<text text-anchor=\"start\" x=\"74\" y=\"-101.8\" font-family=\"Courier,monospace\" font-weight=\"bold\" font-size=\"14.00\">guess</text>\n",
       "<text text-anchor=\"start\" x=\"8\" y=\"-82.8\" font-family=\"Courier,monospace\" font-size=\"9.00\">guess = (approx + x / approx) / 2</text>\n",
       "</a>\n",
       "</g>\n",
       "</g>\n",
       "<!-- x_functionsquare_rootat0x107ecf5b0_54&#45;&gt;guess_functionsquare_rootat0x107ecf5b0_61 -->\n",
       "<g id=\"edge2\" class=\"edge\">\n",
       "<title>x_functionsquare_rootat0x107ecf5b0_54&#45;&gt;guess_functionsquare_rootat0x107ecf5b0_61</title>\n",
       "<path fill=\"none\" stroke=\"black\" d=\"M107.02,-455.71C91.4,-446.88 74.98,-434.99 64,-420 38.2,-384.78 39,-368.66 39,-325 39,-325 39,-325 39,-247 39,-202.69 60.72,-155.39 77.1,-126.02\"/>\n",
       "<polygon fill=\"black\" stroke=\"black\" points=\"80.13,-127.77 82.09,-117.35 74.07,-124.27 80.13,-127.77\"/>\n",
       "</g>\n",
       "<!-- guess_functionsquare_rootat0x107ecf5b0_58 -->\n",
       "<g id=\"node6\" class=\"node\">\n",
       "<title>guess_functionsquare_rootat0x107ecf5b0_58</title>\n",
       "<g id=\"a_node6\"><a xlink:title=\"square_root:58\">\n",
       "<polygon fill=\"peachpuff\" stroke=\"black\" points=\"229.5,-344 144.5,-344 144.5,-304 229.5,-304 229.5,-344\"/>\n",
       "<text text-anchor=\"start\" x=\"166\" y=\"-329.8\" font-family=\"Courier,monospace\" font-weight=\"bold\" font-size=\"14.00\">guess</text>\n",
       "<text text-anchor=\"start\" x=\"152.5\" y=\"-310.8\" font-family=\"Courier,monospace\" font-size=\"9.00\">guess = x / 2</text>\n",
       "</a>\n",
       "</g>\n",
       "</g>\n",
       "<!-- x_functionsquare_rootat0x107ecf5b0_54&#45;&gt;guess_functionsquare_rootat0x107ecf5b0_58 -->\n",
       "<g id=\"edge4\" class=\"edge\">\n",
       "<title>x_functionsquare_rootat0x107ecf5b0_54&#45;&gt;guess_functionsquare_rootat0x107ecf5b0_58</title>\n",
       "<path fill=\"none\" stroke=\"black\" d=\"M157.55,-455.54C160.93,-445.08 164.98,-431.92 168,-420 173.42,-398.64 178.27,-374.25 181.72,-355.53\"/>\n",
       "<polygon fill=\"black\" stroke=\"black\" points=\"185.12,-356.37 183.45,-345.91 178.23,-355.13 185.12,-356.37\"/>\n",
       "</g>\n",
       "<!-- assertion_functionsquare_rootat0x107ecf5b0_63 -->\n",
       "<g id=\"node7\" class=\"node\">\n",
       "<title>assertion_functionsquare_rootat0x107ecf5b0_63</title>\n",
       "<g id=\"a_node7\"><a xlink:title=\"square_root:63\">\n",
       "<polygon fill=\"peachpuff\" stroke=\"black\" points=\"328.5,-40 107.5,-40 107.5,0 328.5,0 328.5,-40\"/>\n",
       "<text text-anchor=\"start\" x=\"172.5\" y=\"-25.8\" font-family=\"Courier,monospace\" font-weight=\"bold\" font-style=\"italic\" font-size=\"14.00\">&lt;assertion&gt;</text>\n",
       "<text text-anchor=\"start\" x=\"115.5\" y=\"-6.8\" font-family=\"Courier,monospace\" font-size=\"9.00\">assert math.isclose(approx * approx, x)</text>\n",
       "</a>\n",
       "</g>\n",
       "</g>\n",
       "<!-- x_functionsquare_rootat0x107ecf5b0_54&#45;&gt;assertion_functionsquare_rootat0x107ecf5b0_63 -->\n",
       "<g id=\"edge8\" class=\"edge\">\n",
       "<title>x_functionsquare_rootat0x107ecf5b0_54&#45;&gt;assertion_functionsquare_rootat0x107ecf5b0_63</title>\n",
       "<path fill=\"none\" stroke=\"black\" d=\"M179.47,-455.54C213.24,-429.91 265,-381.42 265,-325 265,-325 265,-325 265,-171 265,-127.49 246.77,-80 233.02,-50.36\"/>\n",
       "<polygon fill=\"black\" stroke=\"black\" points=\"236.33,-49.16 228.85,-41.65 230.01,-52.19 236.33,-49.16\"/>\n",
       "</g>\n",
       "<!-- test_functionsquare_rootat0x107ecf5b0_59 -->\n",
       "<g id=\"node5\" class=\"node\">\n",
       "<title>test_functionsquare_rootat0x107ecf5b0_59</title>\n",
       "<g id=\"a_node5\"><a xlink:title=\"square_root:59\">\n",
       "<polygon fill=\"peachpuff\" stroke=\"black\" points=\"199,-268 67,-268 67,-228 199,-228 199,-268\"/>\n",
       "<text text-anchor=\"start\" x=\"108\" y=\"-253.8\" font-family=\"Courier,monospace\" font-weight=\"bold\" font-style=\"italic\" font-size=\"14.00\">&lt;test&gt;</text>\n",
       "<text text-anchor=\"start\" x=\"75\" y=\"-234.8\" font-family=\"Courier,monospace\" font-size=\"9.00\">while approx != guess:</text>\n",
       "</a>\n",
       "</g>\n",
       "</g>\n",
       "<!-- approx_functionsquare_rootat0x107ecf5b0_57&#45;&gt;test_functionsquare_rootat0x107ecf5b0_59 -->\n",
       "<g id=\"edge12\" class=\"edge\">\n",
       "<title>approx_functionsquare_rootat0x107ecf5b0_57&#45;&gt;test_functionsquare_rootat0x107ecf5b0_59</title>\n",
       "<path fill=\"none\" stroke=\"black\" d=\"M118.19,-379.7C121.07,-354.27 126.17,-309.28 129.57,-279.29\"/>\n",
       "<polygon fill=\"black\" stroke=\"black\" points=\"133,-280.06 130.65,-269.73 126.05,-279.27 133,-280.06\"/>\n",
       "</g>\n",
       "<!-- approx_functionsquare_rootat0x107ecf5b0_57&#45;&gt;guess_functionsquare_rootat0x107ecf5b0_58 -->\n",
       "<!-- guess_functionsquare_rootat0x107ecf5b0_61&#45;&gt;test_functionsquare_rootat0x107ecf5b0_59 -->\n",
       "<g id=\"edge9\" class=\"edge\">\n",
       "<title>guess_functionsquare_rootat0x107ecf5b0_61&#45;&gt;test_functionsquare_rootat0x107ecf5b0_59</title>\n",
       "<path fill=\"none\" stroke=\"black\" d=\"M104.57,-116.23C113.41,-141.62 125.1,-186.61 130.85,-216.62\"/>\n",
       "<polygon fill=\"black\" stroke=\"black\" points=\"127.36,-216.97 132.55,-226.21 134.25,-215.75 127.36,-216.97\"/>\n",
       "</g>\n",
       "<!-- guess_functionsquare_rootat0x107ecf5b0_61&#45;&gt;assertion_functionsquare_rootat0x107ecf5b0_63 -->\n",
       "<!-- approx_functionsquare_rootat0x107ecf5b0_60 -->\n",
       "<g id=\"node4\" class=\"node\">\n",
       "<title>approx_functionsquare_rootat0x107ecf5b0_60</title>\n",
       "<g id=\"a_node4\"><a xlink:title=\"square_root:60\">\n",
       "<polygon fill=\"peachpuff\" stroke=\"black\" points=\"222,-192 132,-192 132,-152 222,-152 222,-192\"/>\n",
       "<text text-anchor=\"start\" x=\"152\" y=\"-177.8\" font-family=\"Courier,monospace\" font-weight=\"bold\" font-size=\"14.00\">approx</text>\n",
       "<text text-anchor=\"start\" x=\"140\" y=\"-158.8\" font-family=\"Courier,monospace\" font-size=\"9.00\">approx = guess</text>\n",
       "</a>\n",
       "</g>\n",
       "</g>\n",
       "<!-- approx_functionsquare_rootat0x107ecf5b0_60&#45;&gt;guess_functionsquare_rootat0x107ecf5b0_61 -->\n",
       "<g id=\"edge1\" class=\"edge\">\n",
       "<title>approx_functionsquare_rootat0x107ecf5b0_60&#45;&gt;guess_functionsquare_rootat0x107ecf5b0_61</title>\n",
       "<path fill=\"none\" stroke=\"black\" d=\"M149.43,-151.56C139.36,-143.14 128.12,-133.16 118.43,-124.04\"/>\n",
       "<polygon fill=\"black\" stroke=\"black\" points=\"121.12,-121.76 111.48,-117.36 116.27,-126.81 121.12,-121.76\"/>\n",
       "</g>\n",
       "<!-- approx_functionsquare_rootat0x107ecf5b0_60&#45;&gt;guess_functionsquare_rootat0x107ecf5b0_61 -->\n",
       "<!-- approx_functionsquare_rootat0x107ecf5b0_60&#45;&gt;test_functionsquare_rootat0x107ecf5b0_59 -->\n",
       "<g id=\"edge11\" class=\"edge\">\n",
       "<title>approx_functionsquare_rootat0x107ecf5b0_60&#45;&gt;test_functionsquare_rootat0x107ecf5b0_59</title>\n",
       "<path fill=\"none\" stroke=\"black\" d=\"M171.53,-192.31C167.55,-200.2 162.22,-209.49 156.76,-218.15\"/>\n",
       "<polygon fill=\"black\" stroke=\"black\" points=\"153.97,-216.01 151.41,-226.29 159.83,-219.85 153.97,-216.01\"/>\n",
       "</g>\n",
       "<!-- approx_functionsquare_rootat0x107ecf5b0_60&#45;&gt;assertion_functionsquare_rootat0x107ecf5b0_63 -->\n",
       "<g id=\"edge7\" class=\"edge\">\n",
       "<title>approx_functionsquare_rootat0x107ecf5b0_60&#45;&gt;assertion_functionsquare_rootat0x107ecf5b0_63</title>\n",
       "<path fill=\"none\" stroke=\"black\" d=\"M185.73,-151.71C190.18,-141.3 195.4,-128.13 199,-116 205.32,-94.74 210.17,-70.17 213.39,-51.35\"/>\n",
       "<polygon fill=\"black\" stroke=\"black\" points=\"216.81,-52.1 214.98,-41.67 209.9,-50.97 216.81,-52.1\"/>\n",
       "</g>\n",
       "<!-- test_functionsquare_rootat0x107ecf5b0_59&#45;&gt;guess_functionsquare_rootat0x107ecf5b0_61 -->\n",
       "<g id=\"edge3\" class=\"edge\">\n",
       "<title>test_functionsquare_rootat0x107ecf5b0_59&#45;&gt;guess_functionsquare_rootat0x107ecf5b0_61</title>\n",
       "<path fill=\"none\" stroke=\"grey\" stroke-dasharray=\"5,2\" d=\"M123.41,-227.7C114.55,-202.27 102.87,-157.28 97.13,-127.29\"/>\n",
       "<polygon fill=\"grey\" stroke=\"grey\" points=\"100.62,-126.96 95.44,-117.72 93.73,-128.18 100.62,-126.96\"/>\n",
       "</g>\n",
       "<!-- test_functionsquare_rootat0x107ecf5b0_59&#45;&gt;approx_functionsquare_rootat0x107ecf5b0_60 -->\n",
       "<g id=\"edge6\" class=\"edge\">\n",
       "<title>test_functionsquare_rootat0x107ecf5b0_59&#45;&gt;approx_functionsquare_rootat0x107ecf5b0_60</title>\n",
       "<path fill=\"none\" stroke=\"grey\" stroke-dasharray=\"5,2\" d=\"M144.56,-227.56C149.21,-219.74 154.67,-210.56 159.77,-201.98\"/>\n",
       "<polygon fill=\"grey\" stroke=\"grey\" points=\"162.64,-204 164.74,-193.61 156.62,-200.42 162.64,-204\"/>\n",
       "</g>\n",
       "<!-- test_functionsquare_rootat0x107ecf5b0_59&#45;&gt;approx_functionsquare_rootat0x107ecf5b0_60 -->\n",
       "<!-- guess_functionsquare_rootat0x107ecf5b0_58&#45;&gt;approx_functionsquare_rootat0x107ecf5b0_60 -->\n",
       "<g id=\"edge5\" class=\"edge\">\n",
       "<title>guess_functionsquare_rootat0x107ecf5b0_58&#45;&gt;approx_functionsquare_rootat0x107ecf5b0_60</title>\n",
       "<path fill=\"none\" stroke=\"black\" d=\"M196.7,-303.61C205.06,-284.33 214.82,-253.98 208,-228 205.65,-219.05 201.49,-210.03 196.95,-201.95\"/>\n",
       "<polygon fill=\"black\" stroke=\"black\" points=\"200.07,-200.35 191.91,-193.6 194.08,-203.97 200.07,-200.35\"/>\n",
       "</g>\n",
       "<!-- guess_functionsquare_rootat0x107ecf5b0_58&#45;&gt;test_functionsquare_rootat0x107ecf5b0_59 -->\n",
       "<g id=\"edge10\" class=\"edge\">\n",
       "<title>guess_functionsquare_rootat0x107ecf5b0_58&#45;&gt;test_functionsquare_rootat0x107ecf5b0_59</title>\n",
       "<path fill=\"none\" stroke=\"black\" d=\"M166.79,-303.56C160.32,-295.65 153.34,-286.36 147.35,-277.71\"/>\n",
       "<polygon fill=\"black\" stroke=\"black\" points=\"150.38,-275.95 141.92,-269.57 144.56,-279.83 150.38,-275.95\"/>\n",
       "</g>\n",
       "<!-- guess_functionsquare_rootat0x107ecf5b0_58&#45;&gt;test_functionsquare_rootat0x107ecf5b0_59 -->\n",
       "</g>\n",
       "</svg>\n"
      ],
      "text/plain": [
       "Dependencies(\n",
       "    data={\n",
       "        ('<assertion>', (square_root, 63)): {('approx', (square_root, 60)), ('x', (square_root, 54))},\n",
       "        ('approx', (square_root, 60)): {('guess', (square_root, 58))},\n",
       "        ('x', (square_root, 54)): set(),\n",
       "        ('guess', (square_root, 58)): {('x', (square_root, 54))},\n",
       "        ('<test>', (square_root, 59)): {('guess', (square_root, 61)), ('guess', (square_root, 58)), ('approx', (square_root, 60)), ('approx', (square_root, 57))},\n",
       "        ('guess', (square_root, 61)): {('approx', (square_root, 60)), ('x', (square_root, 54))},\n",
       "        ('approx', (square_root, 57)): set()},\n",
       " control={\n",
       "        ('<assertion>', (square_root, 63)): set(),\n",
       "        ('approx', (square_root, 60)): {('<test>', (square_root, 59))},\n",
       "        ('x', (square_root, 54)): set(),\n",
       "        ('guess', (square_root, 58)): set(),\n",
       "        ('<test>', (square_root, 59)): set(),\n",
       "        ('guess', (square_root, 61)): {('<test>', (square_root, 59))},\n",
       "        ('approx', (square_root, 57)): set()})"
      ]
     },
     "execution_count": 242,
     "metadata": {},
     "output_type": "execute_result"
    }
   ],
   "source": [
    "with Slicer() as slicer:\n",
    "    y = square_root(4)\n",
    "\n",
    "slicer.dependencies().backward_slice((square_root, postcondition_lineno))"
   ]
  },
  {
   "cell_type": "markdown",
   "metadata": {
    "slideshow": {
     "slide_type": "subslide"
    }
   },
   "source": [
    "In contrast, the \"lazy\" assertion in `square_root_unchecked()` has an empty backward slice, showing that it depends on no other value at all:"
   ]
  },
  {
   "cell_type": "code",
   "execution_count": 243,
   "metadata": {
    "execution": {
     "iopub.execute_input": "2023-01-07T16:02:56.406950Z",
     "iopub.status.busy": "2023-01-07T16:02:56.406578Z",
     "iopub.status.idle": "2023-01-07T16:02:56.426125Z",
     "shell.execute_reply": "2023-01-07T16:02:56.426447Z"
    },
    "slideshow": {
     "slide_type": "fragment"
    }
   },
   "outputs": [
    {
     "data": {
      "image/svg+xml": [
       "<?xml version=\"1.0\" encoding=\"UTF-8\" standalone=\"no\"?>\n",
       "<!DOCTYPE svg PUBLIC \"-//W3C//DTD SVG 1.1//EN\"\n",
       " \"http://www.w3.org/Graphics/SVG/1.1/DTD/svg11.dtd\">\n",
       "<!-- Generated by graphviz version 7.0.2 (20221119.0110)\n",
       " -->\n",
       "<!-- Title: dependencies Pages: 1 -->\n",
       "<svg width=\"8pt\" height=\"8pt\"\n",
       " viewBox=\"0.00 0.00 8.00 8.00\" xmlns=\"http://www.w3.org/2000/svg\" xmlns:xlink=\"http://www.w3.org/1999/xlink\">\n",
       "<g id=\"graph0\" class=\"graph\" transform=\"scale(1 1) rotate(0) translate(4 4)\">\n",
       "<title>dependencies</title>\n",
       "<polygon fill=\"white\" stroke=\"none\" points=\"-4,4 -4,-4 4,-4 4,4 -4,4\"/>\n",
       "</g>\n",
       "</svg>\n"
      ],
      "text/plain": [
       "Dependencies(\n",
       "    data={\n",
       "        },\n",
       " control={\n",
       "        })"
      ]
     },
     "execution_count": 243,
     "metadata": {},
     "output_type": "execute_result"
    }
   ],
   "source": [
    "with Slicer() as slicer:\n",
    "    y = square_root_unchecked(4)\n",
    "\n",
    "slicer.dependencies().backward_slice((square_root, postcondition_lineno))"
   ]
  },
  {
   "cell_type": "markdown",
   "metadata": {
    "slideshow": {
     "slide_type": "subslide"
    }
   },
   "source": [
    "In \\cite{Schuler2011}, Schuler et al. have tried out this technique and found their \"checked coverage\" to be a sure indicator for the quality of the checks in tests. Using our dynamic slices, you may wish to try this out on Python code."
   ]
  },
  {
   "cell_type": "markdown",
   "metadata": {
    "slideshow": {
     "slide_type": "subslide"
    }
   },
   "source": [
    "### Use in Statistical Debugging"
   ]
  },
  {
   "attachments": {},
   "cell_type": "markdown",
   "metadata": {
    "slideshow": {
     "slide_type": "fragment"
    }
   },
   "source": [
    "Collecting dynamic slices over several runs allows for _correlating dependencies with other execution features_, notably _failures_: \"The program fails whenever the value of `weekday` comes from `calendar()`.\" We will revisit this idea in [the chapter on statistical debugging](StatisticalDebugger.ipynb)."
   ]
  },
  {
   "cell_type": "markdown",
   "metadata": {
    "slideshow": {
     "slide_type": "slide"
    }
   },
   "source": [
    "## Synopsis"
   ]
  },
  {
   "cell_type": "markdown",
   "metadata": {
    "slideshow": {
     "slide_type": "fragment"
    }
   },
   "source": [
    "This chapter provides a `Slicer` class to automatically determine and visualize dynamic flows and dependencies. When we say that a variable $x$ _depends_ on a variable $y$ (and that $y$ _flows_ into $x$), we distinguish two kinds of dependencies:\n",
    "\n",
    "* **Data dependency**: $x$ is assigned a value computed from $y$.\n",
    "* **Control dependency**: A statement involving $x$ is executed _only_ because a _condition_ involving $y$ was evaluated, influencing the execution path.\n",
    "\n",
    "Such dependencies are crucial for debugging, as they allow to determine the origins of individual values (and notably incorrect values). "
   ]
  },
  {
   "cell_type": "markdown",
   "metadata": {
    "slideshow": {
     "slide_type": "subslide"
    }
   },
   "source": [
    "To determine dynamic dependencies in a function `func`, use\n",
    "\n",
    "```python\n",
    "with Slicer() as slicer:\n",
    "    <Some call to func()>\n",
    "```\n",
    "\n",
    "and then `slicer.graph()` or `slicer.code()` to examine dependencies."
   ]
  },
  {
   "cell_type": "markdown",
   "metadata": {
    "slideshow": {
     "slide_type": "subslide"
    }
   },
   "source": [
    "You can also explicitly specify the functions to be instrumented, as in \n",
    "\n",
    "```python\n",
    "with Slicer(func, func_1, func_2) as slicer:\n",
    "    <Some call to func()>\n",
    "```"
   ]
  },
  {
   "cell_type": "markdown",
   "metadata": {
    "slideshow": {
     "slide_type": "fragment"
    }
   },
   "source": [
    "Here is an example. The `demo()` function computes some number from `x`:"
   ]
  },
  {
   "cell_type": "code",
   "execution_count": 244,
   "metadata": {
    "execution": {
     "iopub.execute_input": "2023-01-07T16:02:56.429946Z",
     "iopub.status.busy": "2023-01-07T16:02:56.429428Z",
     "iopub.status.idle": "2023-01-07T16:02:56.430961Z",
     "shell.execute_reply": "2023-01-07T16:02:56.431455Z"
    },
    "slideshow": {
     "slide_type": "fragment"
    }
   },
   "outputs": [],
   "source": [
    "def demo(x: int) -> int:\n",
    "    z = x\n",
    "    while x <= z <= 64:\n",
    "        z *= 2\n",
    "    return z"
   ]
  },
  {
   "cell_type": "markdown",
   "metadata": {
    "slideshow": {
     "slide_type": "subslide"
    }
   },
   "source": [
    "By using `with Slicer()`, we first instrument `demo()` and then execute it:"
   ]
  },
  {
   "cell_type": "code",
   "execution_count": 245,
   "metadata": {
    "execution": {
     "iopub.execute_input": "2023-01-07T16:02:56.435937Z",
     "iopub.status.busy": "2023-01-07T16:02:56.435549Z",
     "iopub.status.idle": "2023-01-07T16:02:56.439008Z",
     "shell.execute_reply": "2023-01-07T16:02:56.439255Z"
    },
    "slideshow": {
     "slide_type": "fragment"
    }
   },
   "outputs": [],
   "source": [
    "with Slicer() as slicer:\n",
    "    demo(10)"
   ]
  },
  {
   "cell_type": "markdown",
   "metadata": {
    "slideshow": {
     "slide_type": "fragment"
    }
   },
   "source": [
    "After execution is complete, you can output `slicer` to visualize the dependencies and flows as graph. Data dependencies are shown as black solid edges; control dependencies are shown as grey dashed edges. The arrows indicate influence: If $y$ depends on $x$ (and thus $x$ flows into $y$), then we have an arrow $x \\rightarrow y$.\n",
    "We see how the parameter `x` flows into `z`, which is returned after some computation that is control dependent on a `<test>` involving `z`."
   ]
  },
  {
   "cell_type": "code",
   "execution_count": 246,
   "metadata": {
    "execution": {
     "iopub.execute_input": "2023-01-07T16:02:56.446475Z",
     "iopub.status.busy": "2023-01-07T16:02:56.446075Z",
     "iopub.status.idle": "2023-01-07T16:02:56.906939Z",
     "shell.execute_reply": "2023-01-07T16:02:56.907354Z"
    },
    "slideshow": {
     "slide_type": "fragment"
    }
   },
   "outputs": [
    {
     "data": {
      "image/svg+xml": [
       "<?xml version=\"1.0\" encoding=\"UTF-8\" standalone=\"no\"?>\n",
       "<!DOCTYPE svg PUBLIC \"-//W3C//DTD SVG 1.1//EN\"\n",
       " \"http://www.w3.org/Graphics/SVG/1.1/DTD/svg11.dtd\">\n",
       "<!-- Generated by graphviz version 7.0.2 (20221119.0110)\n",
       " -->\n",
       "<!-- Title: dependencies Pages: 1 -->\n",
       "<svg width=\"203pt\" height=\"352pt\"\n",
       " viewBox=\"0.00 0.00 202.50 352.00\" xmlns=\"http://www.w3.org/2000/svg\" xmlns:xlink=\"http://www.w3.org/1999/xlink\">\n",
       "<g id=\"graph0\" class=\"graph\" transform=\"scale(1 1) rotate(0) translate(4 348)\">\n",
       "<title>dependencies</title>\n",
       "<polygon fill=\"white\" stroke=\"none\" points=\"-4,4 -4,-348 198.5,-348 198.5,4 -4,4\"/>\n",
       "<!-- test_functiondemoat0x107ece830_3 -->\n",
       "<g id=\"node1\" class=\"node\">\n",
       "<title>test_functiondemoat0x107ece830_3</title>\n",
       "<g id=\"a_node1\"><a xlink:title=\"demo:3\">\n",
       "<polygon fill=\"peachpuff\" stroke=\"black\" points=\"153,-192 37,-192 37,-152 153,-152 153,-192\"/>\n",
       "<text text-anchor=\"start\" x=\"70\" y=\"-177.8\" font-family=\"Courier,monospace\" font-weight=\"bold\" font-style=\"italic\" font-size=\"14.00\">&lt;test&gt;</text>\n",
       "<text text-anchor=\"start\" x=\"45\" y=\"-158.8\" font-family=\"Courier,monospace\" font-size=\"9.00\">while x &lt;= z &lt;= 64:</text>\n",
       "</a>\n",
       "</g>\n",
       "</g>\n",
       "<!-- z_functiondemoat0x107ece830_4 -->\n",
       "<g id=\"node4\" class=\"node\">\n",
       "<title>z_functiondemoat0x107ece830_4</title>\n",
       "<g id=\"a_node4\"><a xlink:title=\"demo:4\">\n",
       "<polygon fill=\"peachpuff\" stroke=\"black\" points=\"122,-116 68,-116 68,-76 122,-76 122,-116\"/>\n",
       "<text text-anchor=\"start\" x=\"90.5\" y=\"-101.8\" font-family=\"Courier,monospace\" font-weight=\"bold\" font-size=\"14.00\">z</text>\n",
       "<text text-anchor=\"start\" x=\"79\" y=\"-82.8\" font-family=\"Courier,monospace\" font-size=\"9.00\">z *= 2</text>\n",
       "</a>\n",
       "</g>\n",
       "</g>\n",
       "<!-- test_functiondemoat0x107ece830_3&#45;&gt;z_functiondemoat0x107ece830_4 -->\n",
       "<g id=\"edge8\" class=\"edge\">\n",
       "<title>test_functiondemoat0x107ece830_3&#45;&gt;z_functiondemoat0x107ece830_4</title>\n",
       "<path fill=\"none\" stroke=\"grey\" stroke-dasharray=\"5,2\" d=\"M82.95,-151.56C81.65,-144.25 81.22,-135.75 81.68,-127.67\"/>\n",
       "<polygon fill=\"grey\" stroke=\"grey\" points=\"85.15,-128.15 82.8,-117.82 78.19,-127.35 85.15,-128.15\"/>\n",
       "</g>\n",
       "<!-- test_functiondemoat0x107ece830_3&#45;&gt;z_functiondemoat0x107ece830_4 -->\n",
       "<!-- x_functiondemoat0x107ece830_1 -->\n",
       "<g id=\"node2\" class=\"node\">\n",
       "<title>x_functiondemoat0x107ece830_1</title>\n",
       "<g id=\"a_node2\"><a xlink:title=\"demo:1\">\n",
       "<polygon fill=\"peachpuff\" stroke=\"black\" points=\"194.5,-344 51.5,-344 51.5,-304 194.5,-304 194.5,-344\"/>\n",
       "<text text-anchor=\"start\" x=\"118.5\" y=\"-329.8\" font-family=\"Courier,monospace\" font-weight=\"bold\" font-size=\"14.00\">x</text>\n",
       "<text text-anchor=\"start\" x=\"59.5\" y=\"-310.8\" font-family=\"Courier,monospace\" font-size=\"9.00\">def demo(x: int) &#45;&gt; int:</text>\n",
       "</a>\n",
       "</g>\n",
       "</g>\n",
       "<!-- x_functiondemoat0x107ece830_1&#45;&gt;test_functiondemoat0x107ece830_3 -->\n",
       "<g id=\"edge1\" class=\"edge\">\n",
       "<title>x_functiondemoat0x107ece830_1&#45;&gt;test_functiondemoat0x107ece830_3</title>\n",
       "<path fill=\"none\" stroke=\"black\" d=\"M106.25,-303.53C98.8,-293.6 90.85,-280.9 87,-268 80.76,-247.08 83.07,-222.51 86.78,-203.59\"/>\n",
       "<polygon fill=\"black\" stroke=\"black\" points=\"90.2,-204.35 88.95,-193.83 83.37,-202.83 90.2,-204.35\"/>\n",
       "</g>\n",
       "<!-- z_functiondemoat0x107ece830_2 -->\n",
       "<g id=\"node3\" class=\"node\">\n",
       "<title>z_functiondemoat0x107ece830_2</title>\n",
       "<g id=\"a_node3\"><a xlink:title=\"demo:2\">\n",
       "<polygon fill=\"peachpuff\" stroke=\"black\" points=\"150,-268 96,-268 96,-228 150,-228 150,-268\"/>\n",
       "<text text-anchor=\"start\" x=\"118.5\" y=\"-253.8\" font-family=\"Courier,monospace\" font-weight=\"bold\" font-size=\"14.00\">z</text>\n",
       "<text text-anchor=\"start\" x=\"109.5\" y=\"-234.8\" font-family=\"Courier,monospace\" font-size=\"9.00\">z = x</text>\n",
       "</a>\n",
       "</g>\n",
       "</g>\n",
       "<!-- x_functiondemoat0x107ece830_1&#45;&gt;z_functiondemoat0x107ece830_2 -->\n",
       "<g id=\"edge5\" class=\"edge\">\n",
       "<title>x_functiondemoat0x107ece830_1&#45;&gt;z_functiondemoat0x107ece830_2</title>\n",
       "<path fill=\"none\" stroke=\"black\" d=\"M116.98,-303.56C116.32,-296.25 116.11,-287.75 116.34,-279.67\"/>\n",
       "<polygon fill=\"black\" stroke=\"black\" points=\"119.82,-280.01 116.9,-269.82 112.84,-279.61 119.82,-280.01\"/>\n",
       "</g>\n",
       "<!-- x_functiondemoat0x107ece830_1&#45;&gt;z_functiondemoat0x107ece830_2 -->\n",
       "<!-- z_functiondemoat0x107ece830_2&#45;&gt;test_functiondemoat0x107ece830_3 -->\n",
       "<g id=\"edge2\" class=\"edge\">\n",
       "<title>z_functiondemoat0x107ece830_2&#45;&gt;test_functiondemoat0x107ece830_3</title>\n",
       "<path fill=\"none\" stroke=\"black\" d=\"M109.62,-227.56C106.12,-220.08 102.61,-211.36 99.75,-203.11\"/>\n",
       "<polygon fill=\"black\" stroke=\"black\" points=\"103.14,-202.21 96.76,-193.75 96.47,-204.35 103.14,-202.21\"/>\n",
       "</g>\n",
       "<!-- z_functiondemoat0x107ece830_2&#45;&gt;test_functiondemoat0x107ece830_3 -->\n",
       "<!-- z_functiondemoat0x107ece830_2&#45;&gt;z_functiondemoat0x107ece830_4 -->\n",
       "<g id=\"edge6\" class=\"edge\">\n",
       "<title>z_functiondemoat0x107ece830_2&#45;&gt;z_functiondemoat0x107ece830_4</title>\n",
       "<path fill=\"none\" stroke=\"black\" d=\"M141.33,-227.51C149.34,-217.66 157.84,-205.05 162,-192 167.4,-175.06 169.6,-168.07 162,-152 155.5,-138.26 143.7,-126.8 131.8,-117.96\"/>\n",
       "<polygon fill=\"black\" stroke=\"black\" points=\"133.79,-115.09 123.57,-112.3 129.82,-120.85 133.79,-115.09\"/>\n",
       "</g>\n",
       "<!-- z_functiondemoat0x107ece830_4&#45;&gt;test_functiondemoat0x107ece830_3 -->\n",
       "<g id=\"edge3\" class=\"edge\">\n",
       "<title>z_functiondemoat0x107ece830_4&#45;&gt;test_functiondemoat0x107ece830_3</title>\n",
       "<path fill=\"none\" stroke=\"black\" d=\"M95,-116.31C95,-123.61 95,-132.1 95,-140.19\"/>\n",
       "<polygon fill=\"black\" stroke=\"black\" points=\"91.5,-140.04 95,-150.04 98.5,-140.04 91.5,-140.04\"/>\n",
       "</g>\n",
       "<!-- z_functiondemoat0x107ece830_4&#45;&gt;z_functiondemoat0x107ece830_4 -->\n",
       "<g id=\"edge7\" class=\"edge\">\n",
       "<title>z_functiondemoat0x107ece830_4&#45;&gt;z_functiondemoat0x107ece830_4</title>\n",
       "<path fill=\"none\" stroke=\"black\" d=\"M122.24,-110.24C132.02,-110.54 140,-105.8 140,-96 140,-90.34 137.33,-86.36 133.19,-84.07\"/>\n",
       "<polygon fill=\"black\" stroke=\"black\" points=\"134.23,-80.71 123.72,-82.08 132.78,-87.56 134.23,-80.71\"/>\n",
       "</g>\n",
       "<!-- demoreturnvalue_functiondemoat0x107ece830_5 -->\n",
       "<g id=\"node5\" class=\"node\">\n",
       "<title>demoreturnvalue_functiondemoat0x107ece830_5</title>\n",
       "<g id=\"a_node5\"><a xlink:title=\"demo:5\">\n",
       "<polygon fill=\"peachpuff\" stroke=\"black\" points=\"190,-40 0,-40 0,0 190,0 190,-40\"/>\n",
       "<text text-anchor=\"start\" x=\"8\" y=\"-25.8\" font-family=\"Courier,monospace\" font-weight=\"bold\" font-style=\"italic\" font-size=\"14.00\">&lt;demo() return value&gt;</text>\n",
       "<text text-anchor=\"start\" x=\"73.5\" y=\"-6.8\" font-family=\"Courier,monospace\" font-size=\"9.00\">return z</text>\n",
       "</a>\n",
       "</g>\n",
       "</g>\n",
       "<!-- z_functiondemoat0x107ece830_4&#45;&gt;demoreturnvalue_functiondemoat0x107ece830_5 -->\n",
       "<g id=\"edge4\" class=\"edge\">\n",
       "<title>z_functiondemoat0x107ece830_4&#45;&gt;demoreturnvalue_functiondemoat0x107ece830_5</title>\n",
       "<path fill=\"none\" stroke=\"black\" d=\"M88.98,-75.56C88.32,-68.25 88.11,-59.75 88.34,-51.67\"/>\n",
       "<polygon fill=\"black\" stroke=\"black\" points=\"91.82,-52.01 88.9,-41.82 84.84,-51.61 91.82,-52.01\"/>\n",
       "</g>\n",
       "<!-- z_functiondemoat0x107ece830_4&#45;&gt;demoreturnvalue_functiondemoat0x107ece830_5 -->\n",
       "</g>\n",
       "</svg>\n"
      ],
      "text/plain": [
       "<__main__.Slicer at 0x11a9d08b0>"
      ]
     },
     "execution_count": 246,
     "metadata": {},
     "output_type": "execute_result"
    }
   ],
   "source": [
    "slicer"
   ]
  },
  {
   "cell_type": "markdown",
   "metadata": {
    "slideshow": {
     "slide_type": "subslide"
    }
   },
   "source": [
    "An alternate representation is `slicer.code()`, annotating the instrumented source code with (backward) dependencies. Data dependencies are shown with `<=`, control dependencies with `<-`; locations (lines) are shown in parentheses."
   ]
  },
  {
   "cell_type": "code",
   "execution_count": 247,
   "metadata": {
    "execution": {
     "iopub.execute_input": "2023-01-07T16:02:56.912636Z",
     "iopub.status.busy": "2023-01-07T16:02:56.911866Z",
     "iopub.status.idle": "2023-01-07T16:02:57.091666Z",
     "shell.execute_reply": "2023-01-07T16:02:57.092213Z"
    },
    "slideshow": {
     "slide_type": "fragment"
    }
   },
   "outputs": [
    {
     "name": "stdout",
     "output_type": "stream",
     "text": [
      "*    1 \u001b[34mdef\u001b[39;49;00m \u001b[32mdemo\u001b[39;49;00m(x: \u001b[36mint\u001b[39;49;00m) -> \u001b[36mint\u001b[39;49;00m:\u001b[37m\u001b[39;49;00m\n",
      "*    2     z = x  \u001b[37m# <= x (1)\u001b[39;49;00m\u001b[37m\u001b[39;49;00m\n",
      "*    3     \u001b[34mwhile\u001b[39;49;00m x <= z <= \u001b[34m64\u001b[39;49;00m:  \u001b[37m# <= x (1), z (2), z (4)\u001b[39;49;00m\u001b[37m\u001b[39;49;00m\n",
      "*    4         z *= \u001b[34m2\u001b[39;49;00m  \u001b[37m# <= z (2), z (4); <- <test> (3)\u001b[39;49;00m\u001b[37m\u001b[39;49;00m\n",
      "*    5     \u001b[34mreturn\u001b[39;49;00m z  \u001b[37m# <= z (4)\u001b[39;49;00m\u001b[37m\u001b[39;49;00m\n"
     ]
    }
   ],
   "source": [
    "slicer.code()"
   ]
  },
  {
   "cell_type": "markdown",
   "metadata": {
    "slideshow": {
     "slide_type": "fragment"
    }
   },
   "source": [
    "Dependencies can also be retrieved programmatically. The `dependencies()` method returns a `Dependencies` object encapsulating the dependency graph."
   ]
  },
  {
   "cell_type": "markdown",
   "metadata": {
    "slideshow": {
     "slide_type": "subslide"
    }
   },
   "source": [
    "The method `all_vars()` returns all variables in the dependency graph. Each variable is encoded as a pair (_name_, _location_) where _location_ is a pair (_codename_, _lineno_)."
   ]
  },
  {
   "cell_type": "code",
   "execution_count": 248,
   "metadata": {
    "execution": {
     "iopub.execute_input": "2023-01-07T16:02:57.097018Z",
     "iopub.status.busy": "2023-01-07T16:02:57.096392Z",
     "iopub.status.idle": "2023-01-07T16:02:57.099110Z",
     "shell.execute_reply": "2023-01-07T16:02:57.099581Z"
    },
    "slideshow": {
     "slide_type": "fragment"
    }
   },
   "outputs": [
    {
     "data": {
      "text/plain": [
       "{('<demo() return value>', (<function __main__.demo(x: int) -> int>, 5)),\n",
       " ('<test>', (<function __main__.demo(x: int) -> int>, 3)),\n",
       " ('x', (<function __main__.demo(x: int) -> int>, 1)),\n",
       " ('z', (<function __main__.demo(x: int) -> int>, 2)),\n",
       " ('z', (<function __main__.demo(x: int) -> int>, 4))}"
      ]
     },
     "execution_count": 248,
     "metadata": {},
     "output_type": "execute_result"
    }
   ],
   "source": [
    "slicer.dependencies().all_vars()"
   ]
  },
  {
   "attachments": {},
   "cell_type": "markdown",
   "metadata": {
    "slideshow": {
     "slide_type": "fragment"
    }
   },
   "source": [
    "`code()` and `graph()` methods can also be applied on dependencies. The method `backward_slice(var)` returns a backward slice for the given variable (again given as a pair (_name_, _location_)). To retrieve where `z` in Line 2 came from, use:"
   ]
  },
  {
   "cell_type": "code",
   "execution_count": 249,
   "metadata": {
    "execution": {
     "iopub.execute_input": "2023-01-07T16:02:57.102121Z",
     "iopub.status.busy": "2023-01-07T16:02:57.101749Z",
     "iopub.status.idle": "2023-01-07T16:02:57.103588Z",
     "shell.execute_reply": "2023-01-07T16:02:57.103846Z"
    },
    "slideshow": {
     "slide_type": "subslide"
    }
   },
   "outputs": [
    {
     "data": {
      "text/plain": [
       "1"
      ]
     },
     "execution_count": 249,
     "metadata": {},
     "output_type": "execute_result"
    }
   ],
   "source": [
    "_, start_demo = inspect.getsourcelines(demo)\n",
    "start_demo"
   ]
  },
  {
   "cell_type": "code",
   "execution_count": 250,
   "metadata": {
    "execution": {
     "iopub.execute_input": "2023-01-07T16:02:57.106633Z",
     "iopub.status.busy": "2023-01-07T16:02:57.106185Z",
     "iopub.status.idle": "2023-01-07T16:02:57.458293Z",
     "shell.execute_reply": "2023-01-07T16:02:57.458653Z"
    },
    "slideshow": {
     "slide_type": "fragment"
    }
   },
   "outputs": [
    {
     "data": {
      "image/svg+xml": [
       "<?xml version=\"1.0\" encoding=\"UTF-8\" standalone=\"no\"?>\n",
       "<!DOCTYPE svg PUBLIC \"-//W3C//DTD SVG 1.1//EN\"\n",
       " \"http://www.w3.org/Graphics/SVG/1.1/DTD/svg11.dtd\">\n",
       "<!-- Generated by graphviz version 7.0.2 (20221119.0110)\n",
       " -->\n",
       "<!-- Title: dependencies Pages: 1 -->\n",
       "<svg width=\"151pt\" height=\"124pt\"\n",
       " viewBox=\"0.00 0.00 151.00 124.00\" xmlns=\"http://www.w3.org/2000/svg\" xmlns:xlink=\"http://www.w3.org/1999/xlink\">\n",
       "<g id=\"graph0\" class=\"graph\" transform=\"scale(1 1) rotate(0) translate(4 120)\">\n",
       "<title>dependencies</title>\n",
       "<polygon fill=\"white\" stroke=\"none\" points=\"-4,4 -4,-120 147,-120 147,4 -4,4\"/>\n",
       "<!-- x_functiondemoat0x107ece830_1 -->\n",
       "<g id=\"node1\" class=\"node\">\n",
       "<title>x_functiondemoat0x107ece830_1</title>\n",
       "<g id=\"a_node1\"><a xlink:title=\"demo:1\">\n",
       "<polygon fill=\"peachpuff\" stroke=\"black\" points=\"143,-116 0,-116 0,-76 143,-76 143,-116\"/>\n",
       "<text text-anchor=\"start\" x=\"67\" y=\"-101.8\" font-family=\"Courier,monospace\" font-weight=\"bold\" font-size=\"14.00\">x</text>\n",
       "<text text-anchor=\"start\" x=\"8\" y=\"-82.8\" font-family=\"Courier,monospace\" font-size=\"9.00\">def demo(x: int) &#45;&gt; int:</text>\n",
       "</a>\n",
       "</g>\n",
       "</g>\n",
       "<!-- z_functiondemoat0x107ece830_2 -->\n",
       "<g id=\"node2\" class=\"node\">\n",
       "<title>z_functiondemoat0x107ece830_2</title>\n",
       "<g id=\"a_node2\"><a xlink:title=\"demo:2\">\n",
       "<polygon fill=\"peachpuff\" stroke=\"black\" points=\"98.5,-40 44.5,-40 44.5,0 98.5,0 98.5,-40\"/>\n",
       "<text text-anchor=\"start\" x=\"67\" y=\"-25.8\" font-family=\"Courier,monospace\" font-weight=\"bold\" font-size=\"14.00\">z</text>\n",
       "<text text-anchor=\"start\" x=\"58\" y=\"-6.8\" font-family=\"Courier,monospace\" font-size=\"9.00\">z = x</text>\n",
       "</a>\n",
       "</g>\n",
       "</g>\n",
       "<!-- x_functiondemoat0x107ece830_1&#45;&gt;z_functiondemoat0x107ece830_2 -->\n",
       "<g id=\"edge1\" class=\"edge\">\n",
       "<title>x_functiondemoat0x107ece830_1&#45;&gt;z_functiondemoat0x107ece830_2</title>\n",
       "<path fill=\"none\" stroke=\"black\" d=\"M65.48,-75.56C64.82,-68.25 64.61,-59.75 64.84,-51.67\"/>\n",
       "<polygon fill=\"black\" stroke=\"black\" points=\"68.32,-52.01 65.4,-41.82 61.34,-51.61 68.32,-52.01\"/>\n",
       "</g>\n",
       "<!-- x_functiondemoat0x107ece830_1&#45;&gt;z_functiondemoat0x107ece830_2 -->\n",
       "</g>\n",
       "</svg>\n"
      ],
      "text/plain": [
       "<graphviz.graphs.Digraph at 0x107ea55d0>"
      ]
     },
     "execution_count": 250,
     "metadata": {},
     "output_type": "execute_result"
    }
   ],
   "source": [
    "slicer.dependencies().backward_slice(('z', (demo, start_demo + 1))).graph()  # type: ignore"
   ]
  },
  {
   "cell_type": "markdown",
   "metadata": {
    "slideshow": {
     "slide_type": "fragment"
    }
   },
   "source": [
    "Here are the classes defined in this chapter. A `Slicer` instruments a program, using a `DependencyTracker` at run time to collect `Dependencies`."
   ]
  },
  {
   "cell_type": "code",
   "execution_count": 251,
   "metadata": {
    "execution": {
     "iopub.execute_input": "2023-01-07T16:02:57.461518Z",
     "iopub.status.busy": "2023-01-07T16:02:57.461163Z",
     "iopub.status.idle": "2023-01-07T16:02:57.462497Z",
     "shell.execute_reply": "2023-01-07T16:02:57.462771Z"
    },
    "slideshow": {
     "slide_type": "fragment"
    }
   },
   "outputs": [],
   "source": [
    "# ignore\n",
    "from ClassDiagram import display_class_hierarchy, class_tree"
   ]
  },
  {
   "cell_type": "code",
   "execution_count": 252,
   "metadata": {
    "execution": {
     "iopub.execute_input": "2023-01-07T16:02:57.465338Z",
     "iopub.status.busy": "2023-01-07T16:02:57.464802Z",
     "iopub.status.idle": "2023-01-07T16:02:57.466382Z",
     "shell.execute_reply": "2023-01-07T16:02:57.466868Z"
    },
    "slideshow": {
     "slide_type": "fragment"
    }
   },
   "outputs": [],
   "source": [
    "# ignore\n",
    "assert class_tree(Slicer)[0][0] == Slicer"
   ]
  },
  {
   "cell_type": "code",
   "execution_count": 253,
   "metadata": {
    "execution": {
     "iopub.execute_input": "2023-01-07T16:02:57.474989Z",
     "iopub.status.busy": "2023-01-07T16:02:57.474638Z",
     "iopub.status.idle": "2023-01-07T16:02:57.850380Z",
     "shell.execute_reply": "2023-01-07T16:02:57.850957Z"
    },
    "slideshow": {
     "slide_type": "subslide"
    }
   },
   "outputs": [
    {
     "data": {
      "image/svg+xml": [
       "<?xml version=\"1.0\" encoding=\"UTF-8\" standalone=\"no\"?>\n",
       "<!DOCTYPE svg PUBLIC \"-//W3C//DTD SVG 1.1//EN\"\n",
       " \"http://www.w3.org/Graphics/SVG/1.1/DTD/svg11.dtd\">\n",
       "<!-- Generated by graphviz version 7.0.2 (20221119.0110)\n",
       " -->\n",
       "<!-- Pages: 1 -->\n",
       "<svg width=\"547pt\" height=\"794pt\"\n",
       " viewBox=\"0.00 0.00 546.50 794.00\" xmlns=\"http://www.w3.org/2000/svg\" xmlns:xlink=\"http://www.w3.org/1999/xlink\">\n",
       "<g id=\"graph0\" class=\"graph\" transform=\"scale(1 1) rotate(0) translate(4 790)\">\n",
       "<g id=\"a_graph0\"><a xlink:title=\"Slicer class hierarchy\">\n",
       "<polygon fill=\"white\" stroke=\"none\" points=\"-4,4 -4,-790 542.5,-790 542.5,4 -4,4\"/>\n",
       "</a>\n",
       "</g>\n",
       "<!-- Slicer -->\n",
       "<g id=\"node1\" class=\"node\">\n",
       "<title>Slicer</title>\n",
       "<g id=\"a_node1\"><a xlink:href=\"#\" xlink:title=\"class Slicer:&#10;Track dependencies in an execution\">\n",
       "<polygon fill=\"none\" stroke=\"black\" points=\"0,-26.5 0,-222.5 191,-222.5 191,-26.5 0,-26.5\"/>\n",
       "<text text-anchor=\"start\" x=\"78\" y=\"-208.3\" font-family=\"Raleway, Helvetica, Arial, sans-serif\" font-weight=\"bold\" font-size=\"14.00\" fill=\"#6a0dad\">Slicer</text>\n",
       "<polyline fill=\"none\" stroke=\"black\" points=\"0,-199.5 191,-199.5\"/>\n",
       "<g id=\"a_node1_0\"><a xlink:href=\"#\" xlink:title=\"Slicer\">\n",
       "<g id=\"a_node1_1\"><a xlink:href=\"#\" xlink:title=\"__init__(self, *items_to_instrument: Any, dependency_tracker: Optional[DependencyTracker] = None, globals: Optional[Dict[str, Any]] = None, log: Union[bool, int] = False):&#10;Create a slicer.&#10;`items_to_instrument` are Python functions or modules with source code.&#10;`dependency_tracker` is the tracker to be used (default: DependencyTracker).&#10;`globals` is the namespace to be used(default: caller&#39;s `globals()`)&#10;`log`=True or `log` &gt; 0 turns on logging\">\n",
       "<text text-anchor=\"start\" x=\"8.5\" y=\"-188\" font-family=\"'Fira Mono', 'Source Code Pro', 'Courier', monospace\" font-weight=\"bold\" font-style=\"italic\" font-size=\"10.00\">__init__()</text>\n",
       "</a>\n",
       "</g>\n",
       "<g id=\"a_node1_2\"><a xlink:href=\"#\" xlink:title=\"_repr_mimebundle_(self, include: Any = None, exclude: Any = None) &#45;&gt; Any:&#10;If the object is output in Jupyter, render dependencies as a SVG graph\">\n",
       "<text text-anchor=\"start\" x=\"8.5\" y=\"-177\" font-family=\"'Fira Mono', 'Source Code Pro', 'Courier', monospace\" font-weight=\"bold\" font-size=\"10.00\">_repr_mimebundle_()</text>\n",
       "</a>\n",
       "</g>\n",
       "<g id=\"a_node1_3\"><a xlink:href=\"#\" xlink:title=\"code(self, *args: Any, **kwargs: Any) &#45;&gt; None:&#10;Show code of instrumented items, annotated with dependencies.\">\n",
       "<text text-anchor=\"start\" x=\"8.5\" y=\"-166\" font-family=\"'Fira Mono', 'Source Code Pro', 'Courier', monospace\" font-weight=\"bold\" font-size=\"10.00\">code()</text>\n",
       "</a>\n",
       "</g>\n",
       "<g id=\"a_node1_4\"><a xlink:href=\"#\" xlink:title=\"dependencies(self) &#45;&gt; Dependencies:&#10;Return collected dependencies.\">\n",
       "<text text-anchor=\"start\" x=\"8.5\" y=\"-155\" font-family=\"'Fira Mono', 'Source Code Pro', 'Courier', monospace\" font-weight=\"bold\" font-size=\"10.00\">dependencies()</text>\n",
       "</a>\n",
       "</g>\n",
       "<g id=\"a_node1_5\"><a xlink:href=\"#\" xlink:title=\"graph(self, *args: Any, **kwargs: Any) &#45;&gt; graphviz.graphs.Digraph:&#10;Show dependency graph.\">\n",
       "<text text-anchor=\"start\" x=\"8.5\" y=\"-144\" font-family=\"'Fira Mono', 'Source Code Pro', 'Courier', monospace\" font-weight=\"bold\" font-size=\"10.00\">graph()</text>\n",
       "</a>\n",
       "</g>\n",
       "<g id=\"a_node1_6\"><a xlink:href=\"#\" xlink:title=\"calls_in_our_with_block(self) &#45;&gt; Set[str]:&#10;Return a set of function names called in the `with` block.\">\n",
       "<text text-anchor=\"start\" x=\"8.5\" y=\"-132\" font-family=\"'Fira Mono', 'Source Code Pro', 'Courier', monospace\" font-size=\"10.00\">calls_in_our_with_block()</text>\n",
       "</a>\n",
       "</g>\n",
       "<g id=\"a_node1_7\"><a xlink:href=\"#\" xlink:title=\"default_items_to_instrument(self) &#45;&gt; List[Callable]\">\n",
       "<text text-anchor=\"start\" x=\"8.5\" y=\"-122\" font-family=\"'Fira Mono', 'Source Code Pro', 'Courier', monospace\" font-style=\"italic\" font-size=\"10.00\">default_items_to_instrument()</text>\n",
       "</a>\n",
       "</g>\n",
       "<g id=\"a_node1_8\"><a xlink:href=\"#\" xlink:title=\"execute(self, tree: ast.AST, item: Any) &#45;&gt; None:&#10;Compile and execute `tree`. May be extended in subclasses.\">\n",
       "<text text-anchor=\"start\" x=\"8.5\" y=\"-111\" font-family=\"'Fira Mono', 'Source Code Pro', 'Courier', monospace\" font-style=\"italic\" font-size=\"10.00\">execute()</text>\n",
       "</a>\n",
       "</g>\n",
       "<g id=\"a_node1_9\"><a xlink:href=\"#\" xlink:title=\"funcs_in_our_with_block(self) &#45;&gt; List[Callable]\">\n",
       "<text text-anchor=\"start\" x=\"8.5\" y=\"-99\" font-family=\"'Fira Mono', 'Source Code Pro', 'Courier', monospace\" font-size=\"10.00\">funcs_in_our_with_block()</text>\n",
       "</a>\n",
       "</g>\n",
       "<g id=\"a_node1_10\"><a xlink:href=\"#\" xlink:title=\"instrument(self, item: Any) &#45;&gt; Any:&#10;Instrument `item`, transforming its source code, and re&#45;defining it.\">\n",
       "<text text-anchor=\"start\" x=\"8.5\" y=\"-89\" font-family=\"'Fira Mono', 'Source Code Pro', 'Courier', monospace\" font-style=\"italic\" font-size=\"10.00\">instrument()</text>\n",
       "</a>\n",
       "</g>\n",
       "<g id=\"a_node1_11\"><a xlink:href=\"#\" xlink:title=\"our_with_block(self) &#45;&gt; ast.With:&#10;Return the currently active `with` block.\">\n",
       "<text text-anchor=\"start\" x=\"8.5\" y=\"-77\" font-family=\"'Fira Mono', 'Source Code Pro', 'Courier', monospace\" font-size=\"10.00\">our_with_block()</text>\n",
       "</a>\n",
       "</g>\n",
       "<g id=\"a_node1_12\"><a xlink:href=\"#\" xlink:title=\"parse(self, item: Any) &#45;&gt; ast.AST:&#10;Parse `item`, returning its AST\">\n",
       "<text text-anchor=\"start\" x=\"8.5\" y=\"-66\" font-family=\"'Fira Mono', 'Source Code Pro', 'Courier', monospace\" font-size=\"10.00\">parse()</text>\n",
       "</a>\n",
       "</g>\n",
       "<g id=\"a_node1_13\"><a xlink:href=\"#\" xlink:title=\"restore(self) &#45;&gt; None:&#10;Restore original code.\">\n",
       "<text text-anchor=\"start\" x=\"8.5\" y=\"-56\" font-family=\"'Fira Mono', 'Source Code Pro', 'Courier', monospace\" font-style=\"italic\" font-size=\"10.00\">restore()</text>\n",
       "</a>\n",
       "</g>\n",
       "<g id=\"a_node1_14\"><a xlink:href=\"#\" xlink:title=\"transform(self, tree: ast.AST) &#45;&gt; ast.AST:&#10;Apply transformers on `tree`. May be extended in subclasses.\">\n",
       "<text text-anchor=\"start\" x=\"8.5\" y=\"-45\" font-family=\"'Fira Mono', 'Source Code Pro', 'Courier', monospace\" font-style=\"italic\" font-size=\"10.00\">transform()</text>\n",
       "</a>\n",
       "</g>\n",
       "<g id=\"a_node1_15\"><a xlink:href=\"#\" xlink:title=\"transformers(self) &#45;&gt; List[ast.NodeTransformer]:&#10;List of transformers to apply. To be extended in subclasses.\">\n",
       "<text text-anchor=\"start\" x=\"8.5\" y=\"-34\" font-family=\"'Fira Mono', 'Source Code Pro', 'Courier', monospace\" font-style=\"italic\" font-size=\"10.00\">transformers()</text>\n",
       "</a>\n",
       "</g>\n",
       "</a>\n",
       "</g>\n",
       "</a>\n",
       "</g>\n",
       "</g>\n",
       "<!-- Instrumenter -->\n",
       "<g id=\"node2\" class=\"node\">\n",
       "<title>Instrumenter</title>\n",
       "<g id=\"a_node2\"><a xlink:href=\"#\" xlink:title=\"class Instrumenter:&#10;Instrument functions for dynamic tracking\">\n",
       "<polygon fill=\"none\" stroke=\"black\" points=\"18,-405 18,-502 209,-502 209,-405 18,-405\"/>\n",
       "<text text-anchor=\"start\" x=\"75.5\" y=\"-487.8\" font-family=\"Raleway, Helvetica, Arial, sans-serif\" font-weight=\"bold\" font-style=\"italic\" font-size=\"14.00\" fill=\"#6a0dad\">Instrumenter</text>\n",
       "<polyline fill=\"none\" stroke=\"black\" points=\"18,-479 209,-479\"/>\n",
       "<g id=\"a_node2_16\"><a xlink:href=\"#\" xlink:title=\"Instrumenter\">\n",
       "<g id=\"a_node2_17\"><a xlink:href=\"#\" xlink:title=\"__enter__(self) &#45;&gt; Any:&#10;Instrument sources\">\n",
       "<text text-anchor=\"start\" x=\"26.5\" y=\"-468\" font-family=\"'Fira Mono', 'Source Code Pro', 'Courier', monospace\" font-weight=\"bold\" font-size=\"10.00\">__enter__()</text>\n",
       "</a>\n",
       "</g>\n",
       "<g id=\"a_node2_18\"><a xlink:href=\"#\" xlink:title=\"__exit__(self, exc_type: Type, exc_value: BaseException, traceback: traceback) &#45;&gt; Optional[bool]:&#10;Restore sources\">\n",
       "<text text-anchor=\"start\" x=\"26.5\" y=\"-457\" font-family=\"'Fira Mono', 'Source Code Pro', 'Courier', monospace\" font-weight=\"bold\" font-size=\"10.00\">__exit__()</text>\n",
       "</a>\n",
       "</g>\n",
       "<g id=\"a_node2_19\"><a xlink:href=\"#\" xlink:title=\"__init__(self, *items_to_instrument: Callable, globals: Optional[Dict[str, Any]] = None, log: Union[bool, int] = False) &#45;&gt; None:&#10;Create an instrumenter.&#10;`items_to_instrument` is a list of items to instrument.&#10;`globals` is a namespace to use (default: caller&#39;s globals())\">\n",
       "<text text-anchor=\"start\" x=\"26.5\" y=\"-446\" font-family=\"'Fira Mono', 'Source Code Pro', 'Courier', monospace\" font-weight=\"bold\" font-style=\"italic\" font-size=\"10.00\">__init__()</text>\n",
       "</a>\n",
       "</g>\n",
       "<g id=\"a_node2_20\"><a xlink:href=\"#\" xlink:title=\"instrument(self, item: Any) &#45;&gt; Any:&#10;Instrument `item`. To be overloaded in subclasses.\">\n",
       "<text text-anchor=\"start\" x=\"26.5\" y=\"-435\" font-family=\"'Fira Mono', 'Source Code Pro', 'Courier', monospace\" font-weight=\"bold\" font-style=\"italic\" font-size=\"10.00\">instrument()</text>\n",
       "</a>\n",
       "</g>\n",
       "<g id=\"a_node2_21\"><a xlink:href=\"#\" xlink:title=\"default_items_to_instrument(self) &#45;&gt; List[Callable]\">\n",
       "<text text-anchor=\"start\" x=\"26.5\" y=\"-424\" font-family=\"'Fira Mono', 'Source Code Pro', 'Courier', monospace\" font-style=\"italic\" font-size=\"10.00\">default_items_to_instrument()</text>\n",
       "</a>\n",
       "</g>\n",
       "<g id=\"a_node2_22\"><a xlink:href=\"#\" xlink:title=\"restore(self) &#45;&gt; None\">\n",
       "<text text-anchor=\"start\" x=\"26.5\" y=\"-413\" font-family=\"'Fira Mono', 'Source Code Pro', 'Courier', monospace\" font-style=\"italic\" font-size=\"10.00\">restore()</text>\n",
       "</a>\n",
       "</g>\n",
       "</a>\n",
       "</g>\n",
       "</a>\n",
       "</g>\n",
       "</g>\n",
       "<!-- Slicer&#45;&gt;Instrumenter -->\n",
       "<g id=\"edge1\" class=\"edge\">\n",
       "<title>Slicer&#45;&gt;Instrumenter</title>\n",
       "<path fill=\"none\" stroke=\"black\" d=\"M100.83,-222.28C103.89,-277.96 107.64,-346.09 110.27,-393.73\"/>\n",
       "<polygon fill=\"none\" stroke=\"black\" points=\"106.76,-393.78 110.81,-403.57 113.75,-393.39 106.76,-393.78\"/>\n",
       "</g>\n",
       "<!-- StackInspector -->\n",
       "<g id=\"node3\" class=\"node\">\n",
       "<title>StackInspector</title>\n",
       "<g id=\"a_node3\"><a xlink:href=\"StackInspector.ipynb\" xlink:title=\"class StackInspector:&#10;Provide functions to inspect the stack\">\n",
       "<polygon fill=\"none\" stroke=\"black\" points=\"212,-658.5 212,-785.5 379,-785.5 379,-658.5 212,-658.5\"/>\n",
       "<text text-anchor=\"start\" x=\"250\" y=\"-771.3\" font-family=\"Raleway, Helvetica, Arial, sans-serif\" font-weight=\"bold\" font-style=\"italic\" font-size=\"14.00\" fill=\"#6a0dad\">StackInspector</text>\n",
       "<polyline fill=\"none\" stroke=\"black\" points=\"212,-762.5 379,-762.5\"/>\n",
       "<g id=\"a_node3_23\"><a xlink:href=\"#\" xlink:title=\"StackInspector\">\n",
       "<g id=\"a_node3_24\"><a xlink:href=\"StackInspector.ipynb\" xlink:title=\"_generated_function_cache = {(&#39;&lt;cell line: 2&gt;&#39;, 2): &lt;function &lt;cell line: 2&gt; at 0x107e48ee0&gt;, (&#39;&lt;cell line: 1&gt;&#39;, 1): &lt;function &lt;cell line: 1&gt; at 0x107e4a950&gt;, (&#39;&lt;cell line: 3&gt;&#39;, 3): &lt;function &lt;cell line: 3&gt; at 0x11935bac0&gt;, (&#39;&lt;cell line: 4&gt;&#39;, 4): &lt;function &lt;cell line: 4&gt; at 0x11935be20&gt;, (&#39;&lt;cell line: 1&gt;&#39;, 4): &lt;function &lt;cell line: 1&gt; at 0x11afa0310&gt;, (&#39;&lt;cell line: 1&gt;&#39;, 3): &lt;function &lt;cell line: 1&gt; at 0x11afa0430&gt;, (&#39;&lt;listcomp&gt;&#39;, 18): &lt;bound method StackInspector.unknown of &lt;__main__.DependencyTracker object at 0x11afa81c0&gt;&gt;}\">\n",
       "<text text-anchor=\"start\" x=\"220.5\" y=\"-750\" font-family=\"'Fira Mono', 'Source Code Pro', 'Courier', monospace\" font-size=\"10.00\">_generated_function_cache</text>\n",
       "</a>\n",
       "</g>\n",
       "</a>\n",
       "</g>\n",
       "<polyline fill=\"none\" stroke=\"black\" points=\"212,-743.5 379,-743.5\"/>\n",
       "<g id=\"a_node3_25\"><a xlink:href=\"#\" xlink:title=\"StackInspector\">\n",
       "<g id=\"a_node3_26\"><a xlink:href=\"StackInspector.ipynb\" xlink:title=\"caller_frame(self) &#45;&gt; frame:&#10;Return the frame of the caller.\">\n",
       "<text text-anchor=\"start\" x=\"244.5\" y=\"-732\" font-family=\"'Fira Mono', 'Source Code Pro', 'Courier', monospace\" font-weight=\"bold\" font-size=\"10.00\">caller_frame()</text>\n",
       "</a>\n",
       "</g>\n",
       "<g id=\"a_node3_27\"><a xlink:href=\"StackInspector.ipynb\" xlink:title=\"caller_function(self) &#45;&gt; Callable:&#10;Return the calling function\">\n",
       "<text text-anchor=\"start\" x=\"244.5\" y=\"-721\" font-family=\"'Fira Mono', 'Source Code Pro', 'Courier', monospace\" font-weight=\"bold\" font-size=\"10.00\">caller_function()</text>\n",
       "</a>\n",
       "</g>\n",
       "<g id=\"a_node3_28\"><a xlink:href=\"StackInspector.ipynb\" xlink:title=\"caller_globals(self) &#45;&gt; Dict[str, Any]:&#10;Return the globals() environment of the caller.\">\n",
       "<text text-anchor=\"start\" x=\"244.5\" y=\"-710\" font-family=\"'Fira Mono', 'Source Code Pro', 'Courier', monospace\" font-weight=\"bold\" font-size=\"10.00\">caller_globals()</text>\n",
       "</a>\n",
       "</g>\n",
       "<g id=\"a_node3_29\"><a xlink:href=\"StackInspector.ipynb\" xlink:title=\"caller_locals(self) &#45;&gt; Dict[str, Any]:&#10;Return the locals() environment of the caller.\">\n",
       "<text text-anchor=\"start\" x=\"244.5\" y=\"-699\" font-family=\"'Fira Mono', 'Source Code Pro', 'Courier', monospace\" font-weight=\"bold\" font-size=\"10.00\">caller_locals()</text>\n",
       "</a>\n",
       "</g>\n",
       "<g id=\"a_node3_30\"><a xlink:href=\"StackInspector.ipynb\" xlink:title=\"caller_location(self) &#45;&gt; Tuple[Callable, int]:&#10;Return the location (func, lineno) of the caller.\">\n",
       "<text text-anchor=\"start\" x=\"244.5\" y=\"-688\" font-family=\"'Fira Mono', 'Source Code Pro', 'Courier', monospace\" font-weight=\"bold\" font-size=\"10.00\">caller_location()</text>\n",
       "</a>\n",
       "</g>\n",
       "<g id=\"a_node3_31\"><a xlink:href=\"StackInspector.ipynb\" xlink:title=\"search_frame(self, name: str, frame: Optional[frame] = None) &#45;&gt; Tuple[Optional[frame], Optional[Callable]]:&#10;Return a pair (`frame`, `item`)&#10;in which the function `name` is defined as `item`.\">\n",
       "<text text-anchor=\"start\" x=\"244.5\" y=\"-677\" font-family=\"'Fira Mono', 'Source Code Pro', 'Courier', monospace\" font-weight=\"bold\" font-size=\"10.00\">search_frame()</text>\n",
       "</a>\n",
       "</g>\n",
       "<g id=\"a_node3_32\"><a xlink:href=\"StackInspector.ipynb\" xlink:title=\"search_func(self, name: str, frame: Optional[frame] = None) &#45;&gt; Optional[Callable]:&#10;Search in callers for a definition of the function `name`\">\n",
       "<text text-anchor=\"start\" x=\"244.5\" y=\"-666\" font-family=\"'Fira Mono', 'Source Code Pro', 'Courier', monospace\" font-weight=\"bold\" font-size=\"10.00\">search_func()</text>\n",
       "</a>\n",
       "</g>\n",
       "</a>\n",
       "</g>\n",
       "</a>\n",
       "</g>\n",
       "</g>\n",
       "<!-- Instrumenter&#45;&gt;StackInspector -->\n",
       "<g id=\"edge2\" class=\"edge\">\n",
       "<title>Instrumenter&#45;&gt;StackInspector</title>\n",
       "<path fill=\"none\" stroke=\"black\" d=\"M145.21,-501.92C167.76,-535.53 198.83,-581.64 226.5,-622 232.52,-630.78 238.88,-639.98 245.19,-649.09\"/>\n",
       "<polygon fill=\"none\" stroke=\"black\" points=\"242.3,-651.06 250.88,-657.28 248.05,-647.07 242.3,-651.06\"/>\n",
       "</g>\n",
       "<!-- DependencyTracker -->\n",
       "<g id=\"node4\" class=\"node\">\n",
       "<title>DependencyTracker</title>\n",
       "<g id=\"a_node4\"><a xlink:href=\"#\" xlink:title=\"class DependencyTracker:&#10;Track dependencies during execution\">\n",
       "<polygon fill=\"none\" stroke=\"black\" points=\"209,-0.5 209,-248.5 400,-248.5 400,-0.5 209,-0.5\"/>\n",
       "<text text-anchor=\"start\" x=\"240.5\" y=\"-234.3\" font-family=\"Raleway, Helvetica, Arial, sans-serif\" font-weight=\"bold\" font-size=\"14.00\" fill=\"#6a0dad\">DependencyTracker</text>\n",
       "<polyline fill=\"none\" stroke=\"black\" points=\"209,-225.5 400,-225.5\"/>\n",
       "<g id=\"a_node4_33\"><a xlink:href=\"#\" xlink:title=\"DependencyTracker\">\n",
       "<g id=\"a_node4_34\"><a xlink:href=\"#\" xlink:title=\"TEST = &#39;&lt;test&gt;&#39;\">\n",
       "<text text-anchor=\"start\" x=\"292.5\" y=\"-213\" font-family=\"'Fira Mono', 'Source Code Pro', 'Courier', monospace\" font-size=\"10.00\">TEST</text>\n",
       "</a>\n",
       "</g>\n",
       "</a>\n",
       "</g>\n",
       "<polyline fill=\"none\" stroke=\"black\" points=\"209,-206.5 400,-206.5\"/>\n",
       "<g id=\"a_node4_35\"><a xlink:href=\"#\" xlink:title=\"DependencyTracker\">\n",
       "<g id=\"a_node4_36\"><a xlink:href=\"#\" xlink:title=\"__enter__(self) &#45;&gt; Any:&#10;Track entering an if/while/for block\">\n",
       "<text text-anchor=\"start\" x=\"217.5\" y=\"-195.5\" font-family=\"'Fira Mono', 'Source Code Pro', 'Courier', monospace\" font-weight=\"bold\" font-style=\"italic\" font-size=\"10.00\">__enter__()</text>\n",
       "</a>\n",
       "</g>\n",
       "<g id=\"a_node4_37\"><a xlink:href=\"#\" xlink:title=\"__exit__(self, exc_type: Type, exc_value: BaseException, traceback: traceback) &#45;&gt; Optional[bool]:&#10;Track exiting an if/while/for block\">\n",
       "<text text-anchor=\"start\" x=\"217.5\" y=\"-184.5\" font-family=\"'Fira Mono', 'Source Code Pro', 'Courier', monospace\" font-weight=\"bold\" font-style=\"italic\" font-size=\"10.00\">__exit__()</text>\n",
       "</a>\n",
       "</g>\n",
       "<g id=\"a_node4_38\"><a xlink:href=\"#\" xlink:title=\"__init__(self, *args: Any, **kwargs: Any) &#45;&gt; None:&#10;Constructor. Arguments are passed to DataTracker.__init__()\">\n",
       "<text text-anchor=\"start\" x=\"217.5\" y=\"-173.5\" font-family=\"'Fira Mono', 'Source Code Pro', 'Courier', monospace\" font-weight=\"bold\" font-style=\"italic\" font-size=\"10.00\">__init__()</text>\n",
       "</a>\n",
       "</g>\n",
       "<g id=\"a_node4_39\"><a xlink:href=\"#\" xlink:title=\"arg(self, value: Any, pos: Optional[int] = None, kw: Optional[str] = None) &#45;&gt; Any:&#10;Track passing an argument `value`&#10;(with given position `pos` 1..n or keyword `kw`)\">\n",
       "<text text-anchor=\"start\" x=\"217.5\" y=\"-162.5\" font-family=\"'Fira Mono', 'Source Code Pro', 'Courier', monospace\" font-weight=\"bold\" font-style=\"italic\" font-size=\"10.00\">arg()</text>\n",
       "</a>\n",
       "</g>\n",
       "<g id=\"a_node4_40\"><a xlink:href=\"#\" xlink:title=\"call(self, func: Callable) &#45;&gt; Callable:&#10;Track a call of function `func`\">\n",
       "<text text-anchor=\"start\" x=\"217.5\" y=\"-151.5\" font-family=\"'Fira Mono', 'Source Code Pro', 'Courier', monospace\" font-weight=\"bold\" font-style=\"italic\" font-size=\"10.00\">call()</text>\n",
       "</a>\n",
       "</g>\n",
       "<g id=\"a_node4_41\"><a xlink:href=\"#\" xlink:title=\"get(self, name: str, value: Any) &#45;&gt; Any:&#10;Track a read access for variable `name` with value `value`\">\n",
       "<text text-anchor=\"start\" x=\"217.5\" y=\"-140.5\" font-family=\"'Fira Mono', 'Source Code Pro', 'Courier', monospace\" font-weight=\"bold\" font-style=\"italic\" font-size=\"10.00\">get()</text>\n",
       "</a>\n",
       "</g>\n",
       "<g id=\"a_node4_42\"><a xlink:href=\"#\" xlink:title=\"param(self, name: str, value: Any, pos: Optional[int] = None, vararg: str = &#39;&#39;, last: bool = False) &#45;&gt; Any:&#10;Track getting a parameter `name` with value `value`&#10;(with given position `pos`).&#10;vararg parameters are indicated by setting `varargs` to&#10;&#39;*&#39; (*args) or &#39;**&#39; (**kwargs)\">\n",
       "<text text-anchor=\"start\" x=\"217.5\" y=\"-129.5\" font-family=\"'Fira Mono', 'Source Code Pro', 'Courier', monospace\" font-weight=\"bold\" font-style=\"italic\" font-size=\"10.00\">param()</text>\n",
       "</a>\n",
       "</g>\n",
       "<g id=\"a_node4_43\"><a xlink:href=\"#\" xlink:title=\"ret(self, value: Any) &#45;&gt; Any:&#10;Track a function return\">\n",
       "<text text-anchor=\"start\" x=\"217.5\" y=\"-118.5\" font-family=\"'Fira Mono', 'Source Code Pro', 'Courier', monospace\" font-weight=\"bold\" font-style=\"italic\" font-size=\"10.00\">ret()</text>\n",
       "</a>\n",
       "</g>\n",
       "<g id=\"a_node4_44\"><a xlink:href=\"#\" xlink:title=\"set(self, name: str, value: Any, loads: Optional[Set[str]] = None) &#45;&gt; Any:&#10;Add a dependency for `name` = `value`\">\n",
       "<text text-anchor=\"start\" x=\"217.5\" y=\"-107.5\" font-family=\"'Fira Mono', 'Source Code Pro', 'Courier', monospace\" font-weight=\"bold\" font-style=\"italic\" font-size=\"10.00\">set()</text>\n",
       "</a>\n",
       "</g>\n",
       "<g id=\"a_node4_45\"><a xlink:href=\"#\" xlink:title=\"test(self, value: Any) &#45;&gt; Any:&#10;Track a test for condition `value`\">\n",
       "<text text-anchor=\"start\" x=\"217.5\" y=\"-96.5\" font-family=\"'Fira Mono', 'Source Code Pro', 'Courier', monospace\" font-weight=\"bold\" font-style=\"italic\" font-size=\"10.00\">test()</text>\n",
       "</a>\n",
       "</g>\n",
       "<g id=\"a_node4_46\"><a xlink:href=\"#\" xlink:title=\"call_generator(self, func: Callable) &#45;&gt; Callable:&#10;Track a call of a generator function\">\n",
       "<text text-anchor=\"start\" x=\"217.5\" y=\"-84.5\" font-family=\"'Fira Mono', 'Source Code Pro', 'Courier', monospace\" font-size=\"10.00\">call_generator()</text>\n",
       "</a>\n",
       "</g>\n",
       "<g id=\"a_node4_47\"><a xlink:href=\"#\" xlink:title=\"check_location(self) &#45;&gt; None:&#10;If we are in a new location, clear set of read variables\">\n",
       "<text text-anchor=\"start\" x=\"217.5\" y=\"-73.5\" font-family=\"'Fira Mono', 'Source Code Pro', 'Courier', monospace\" font-size=\"10.00\">check_location()</text>\n",
       "</a>\n",
       "</g>\n",
       "<g id=\"a_node4_48\"><a xlink:href=\"#\" xlink:title=\"clear_read(self) &#45;&gt; None:&#10;Clear set of read variables\">\n",
       "<text text-anchor=\"start\" x=\"217.5\" y=\"-62.5\" font-family=\"'Fira Mono', 'Source Code Pro', 'Courier', monospace\" font-size=\"10.00\">clear_read()</text>\n",
       "</a>\n",
       "</g>\n",
       "<g id=\"a_node4_49\"><a xlink:href=\"#\" xlink:title=\"dependencies(self) &#45;&gt; Dependencies:&#10;Return dependencies\">\n",
       "<text text-anchor=\"start\" x=\"217.5\" y=\"-51.5\" font-family=\"'Fira Mono', 'Source Code Pro', 'Courier', monospace\" font-size=\"10.00\">dependencies()</text>\n",
       "</a>\n",
       "</g>\n",
       "<g id=\"a_node4_50\"><a xlink:href=\"#\" xlink:title=\"ignore_location_change(self) &#45;&gt; None\">\n",
       "<text text-anchor=\"start\" x=\"217.5\" y=\"-40.5\" font-family=\"'Fira Mono', 'Source Code Pro', 'Courier', monospace\" font-size=\"10.00\">ignore_location_change()</text>\n",
       "</a>\n",
       "</g>\n",
       "<g id=\"a_node4_51\"><a xlink:href=\"#\" xlink:title=\"ignore_next_location_change(self) &#45;&gt; None\">\n",
       "<text text-anchor=\"start\" x=\"217.5\" y=\"-29.5\" font-family=\"'Fira Mono', 'Source Code Pro', 'Courier', monospace\" font-size=\"10.00\">ignore_next_location_change()</text>\n",
       "</a>\n",
       "</g>\n",
       "<g id=\"a_node4_52\"><a xlink:href=\"#\" xlink:title=\"in_generator(self) &#45;&gt; bool:&#10;True if we are calling a generator function\">\n",
       "<text text-anchor=\"start\" x=\"217.5\" y=\"-18.5\" font-family=\"'Fira Mono', 'Source Code Pro', 'Courier', monospace\" font-size=\"10.00\">in_generator()</text>\n",
       "</a>\n",
       "</g>\n",
       "<g id=\"a_node4_53\"><a xlink:href=\"#\" xlink:title=\"ret_generator(self, generator: Any) &#45;&gt; Any:&#10;Track the return of a generator function\">\n",
       "<text text-anchor=\"start\" x=\"217.5\" y=\"-7.5\" font-family=\"'Fira Mono', 'Source Code Pro', 'Courier', monospace\" font-size=\"10.00\">ret_generator()</text>\n",
       "</a>\n",
       "</g>\n",
       "</a>\n",
       "</g>\n",
       "</a>\n",
       "</g>\n",
       "</g>\n",
       "<!-- DataTracker -->\n",
       "<g id=\"node5\" class=\"node\">\n",
       "<title>DataTracker</title>\n",
       "<g id=\"a_node5\"><a xlink:href=\"#\" xlink:title=\"class DataTracker:&#10;Track data accesses during execution\">\n",
       "<polygon fill=\"none\" stroke=\"black\" points=\"236,-372 236,-535 355,-535 355,-372 236,-372\"/>\n",
       "<text text-anchor=\"start\" x=\"258.5\" y=\"-520.8\" font-family=\"Raleway, Helvetica, Arial, sans-serif\" font-weight=\"bold\" font-size=\"14.00\" fill=\"#6a0dad\">DataTracker</text>\n",
       "<polyline fill=\"none\" stroke=\"black\" points=\"236,-512 355,-512\"/>\n",
       "<g id=\"a_node5_54\"><a xlink:href=\"#\" xlink:title=\"DataTracker\">\n",
       "<g id=\"a_node5_55\"><a xlink:href=\"#\" xlink:title=\"__enter__(self) &#45;&gt; Any:&#10;Enter `with` block. To be overloaded in subclasses.\">\n",
       "<text text-anchor=\"start\" x=\"244.5\" y=\"-501\" font-family=\"'Fira Mono', 'Source Code Pro', 'Courier', monospace\" font-weight=\"bold\" font-style=\"italic\" font-size=\"10.00\">__enter__()</text>\n",
       "</a>\n",
       "</g>\n",
       "<g id=\"a_node5_56\"><a xlink:href=\"#\" xlink:title=\"__exit__(self, exc_type: Type, exc_value: BaseException, traceback: traceback) &#45;&gt; Optional[bool]:&#10;Exit `with` block. To be overloaded in subclasses.\">\n",
       "<text text-anchor=\"start\" x=\"244.5\" y=\"-490\" font-family=\"'Fira Mono', 'Source Code Pro', 'Courier', monospace\" font-weight=\"bold\" font-style=\"italic\" font-size=\"10.00\">__exit__()</text>\n",
       "</a>\n",
       "</g>\n",
       "<g id=\"a_node5_57\"><a xlink:href=\"#\" xlink:title=\"__init__(self, log: bool = False) &#45;&gt; None:&#10;Constructor. If `log` is set, turn on logging.\">\n",
       "<text text-anchor=\"start\" x=\"244.5\" y=\"-479\" font-family=\"'Fira Mono', 'Source Code Pro', 'Courier', monospace\" font-weight=\"bold\" font-style=\"italic\" font-size=\"10.00\">__init__()</text>\n",
       "</a>\n",
       "</g>\n",
       "<g id=\"a_node5_58\"><a xlink:href=\"#\" xlink:title=\"arg(self, value: Any, pos: Optional[int] = None, kw: Optional[str] = None) &#45;&gt; Any:&#10;Track `value` being passed as argument.&#10;`pos` (if given) is the argument position (starting with 1).&#10;`kw` (if given) is the argument keyword.\">\n",
       "<text text-anchor=\"start\" x=\"244.5\" y=\"-468\" font-family=\"'Fira Mono', 'Source Code Pro', 'Courier', monospace\" font-weight=\"bold\" font-style=\"italic\" font-size=\"10.00\">arg()</text>\n",
       "</a>\n",
       "</g>\n",
       "<g id=\"a_node5_59\"><a xlink:href=\"#\" xlink:title=\"augment(self, name: str, value: Any) &#45;&gt; Any:&#10;Track augmenting `name` with `value`.&#10;To be overloaded in subclasses.\">\n",
       "<text text-anchor=\"start\" x=\"244.5\" y=\"-457\" font-family=\"'Fira Mono', 'Source Code Pro', 'Courier', monospace\" font-weight=\"bold\" font-style=\"italic\" font-size=\"10.00\">augment()</text>\n",
       "</a>\n",
       "</g>\n",
       "<g id=\"a_node5_60\"><a xlink:href=\"#\" xlink:title=\"call(self, func: Callable) &#45;&gt; Callable:&#10;Track a call to `func`.\">\n",
       "<text text-anchor=\"start\" x=\"244.5\" y=\"-446\" font-family=\"'Fira Mono', 'Source Code Pro', 'Courier', monospace\" font-weight=\"bold\" font-style=\"italic\" font-size=\"10.00\">call()</text>\n",
       "</a>\n",
       "</g>\n",
       "<g id=\"a_node5_61\"><a xlink:href=\"#\" xlink:title=\"get(self, name: str, value: Any) &#45;&gt; Any:&#10;Track getting `value` from `name`.\">\n",
       "<text text-anchor=\"start\" x=\"244.5\" y=\"-435\" font-family=\"'Fira Mono', 'Source Code Pro', 'Courier', monospace\" font-weight=\"bold\" font-style=\"italic\" font-size=\"10.00\">get()</text>\n",
       "</a>\n",
       "</g>\n",
       "<g id=\"a_node5_62\"><a xlink:href=\"#\" xlink:title=\"param(self, name: str, value: Any, pos: Optional[int] = None, vararg: str = &#39;&#39;, last: bool = False) &#45;&gt; Any:&#10;At the beginning of a function, track parameter `name` being set to `value`.&#10;`pos` is the position of the argument (starting with 1).&#10;`vararg` is &quot;*&quot; if `name` is a vararg parameter (as in *args),&#10;and &quot;**&quot; is `name` is a kwargs parameter (as in *kwargs).&#10;`last` is True if `name` is the last parameter.\">\n",
       "<text text-anchor=\"start\" x=\"244.5\" y=\"-424\" font-family=\"'Fira Mono', 'Source Code Pro', 'Courier', monospace\" font-weight=\"bold\" font-style=\"italic\" font-size=\"10.00\">param()</text>\n",
       "</a>\n",
       "</g>\n",
       "<g id=\"a_node5_63\"><a xlink:href=\"#\" xlink:title=\"ret(self, value: Any) &#45;&gt; Any:&#10;Track `value` being used as return value.\">\n",
       "<text text-anchor=\"start\" x=\"244.5\" y=\"-413\" font-family=\"'Fira Mono', 'Source Code Pro', 'Courier', monospace\" font-weight=\"bold\" font-style=\"italic\" font-size=\"10.00\">ret()</text>\n",
       "</a>\n",
       "</g>\n",
       "<g id=\"a_node5_64\"><a xlink:href=\"#\" xlink:title=\"set(self, name: str, value: Any, loads: Optional[Set[str]] = None) &#45;&gt; Any:&#10;Track setting `name` to `value`.\">\n",
       "<text text-anchor=\"start\" x=\"244.5\" y=\"-402\" font-family=\"'Fira Mono', 'Source Code Pro', 'Courier', monospace\" font-weight=\"bold\" font-style=\"italic\" font-size=\"10.00\">set()</text>\n",
       "</a>\n",
       "</g>\n",
       "<g id=\"a_node5_65\"><a xlink:href=\"#\" xlink:title=\"test(self, cond: ast.AST) &#45;&gt; ast.AST:&#10;Test condition `cond`. To be overloaded in subclasses.\">\n",
       "<text text-anchor=\"start\" x=\"244.5\" y=\"-391\" font-family=\"'Fira Mono', 'Source Code Pro', 'Courier', monospace\" font-weight=\"bold\" font-style=\"italic\" font-size=\"10.00\">test()</text>\n",
       "</a>\n",
       "</g>\n",
       "<g id=\"a_node5_66\"><a xlink:href=\"#\" xlink:title=\"instrument_call(self, func: Callable) &#45;&gt; Callable:&#10;Instrument a call to `func`. To be implemented in subclasses.\">\n",
       "<text text-anchor=\"start\" x=\"244.5\" y=\"-380\" font-family=\"'Fira Mono', 'Source Code Pro', 'Courier', monospace\" font-style=\"italic\" font-size=\"10.00\">instrument_call()</text>\n",
       "</a>\n",
       "</g>\n",
       "</a>\n",
       "</g>\n",
       "</a>\n",
       "</g>\n",
       "</g>\n",
       "<!-- DependencyTracker&#45;&gt;DataTracker -->\n",
       "<g id=\"edge3\" class=\"edge\">\n",
       "<title>DependencyTracker&#45;&gt;DataTracker</title>\n",
       "<path fill=\"none\" stroke=\"black\" d=\"M301.12,-248.19C300.09,-285.64 298.98,-326.14 298.01,-361.13\"/>\n",
       "<polygon fill=\"none\" stroke=\"black\" points=\"294.53,-360.68 297.75,-370.77 301.52,-360.87 294.53,-360.68\"/>\n",
       "</g>\n",
       "<!-- DataTracker&#45;&gt;StackInspector -->\n",
       "<g id=\"edge4\" class=\"edge\">\n",
       "<title>DataTracker&#45;&gt;StackInspector</title>\n",
       "<path fill=\"none\" stroke=\"black\" d=\"M295.5,-534.82C295.5,-570.64 295.5,-612.55 295.5,-647.53\"/>\n",
       "<polygon fill=\"none\" stroke=\"black\" points=\"292,-647.11 295.5,-657.11 299,-647.11 292,-647.11\"/>\n",
       "</g>\n",
       "<!-- Dependencies -->\n",
       "<g id=\"node6\" class=\"node\">\n",
       "<title>Dependencies</title>\n",
       "<g id=\"a_node6\"><a xlink:href=\"#\" xlink:title=\"class Dependencies:&#10;A dependency graph\">\n",
       "<polygon fill=\"none\" stroke=\"black\" points=\"373,-285.5 373,-621.5 504,-621.5 504,-285.5 373,-285.5\"/>\n",
       "<text text-anchor=\"start\" x=\"391.5\" y=\"-607.3\" font-family=\"Raleway, Helvetica, Arial, sans-serif\" font-weight=\"bold\" font-size=\"14.00\" fill=\"#6a0dad\">Dependencies</text>\n",
       "<polyline fill=\"none\" stroke=\"black\" points=\"373,-598.5 504,-598.5\"/>\n",
       "<g id=\"a_node6_67\"><a xlink:href=\"#\" xlink:title=\"Dependencies\">\n",
       "<g id=\"a_node6_68\"><a xlink:href=\"#\" xlink:title=\"FONT_NAME = &#39;Courier&#39;\">\n",
       "<text text-anchor=\"start\" x=\"408.5\" y=\"-586.5\" font-family=\"'Fira Mono', 'Source Code Pro', 'Courier', monospace\" font-size=\"10.00\">FONT_NAME</text>\n",
       "</a>\n",
       "</g>\n",
       "<g id=\"a_node6_69\"><a xlink:href=\"#\" xlink:title=\"NODE_COLOR = &#39;peachpuff&#39;\">\n",
       "<text text-anchor=\"start\" x=\"408.5\" y=\"-575.5\" font-family=\"'Fira Mono', 'Source Code Pro', 'Courier', monospace\" font-size=\"10.00\">NODE_COLOR</text>\n",
       "</a>\n",
       "</g>\n",
       "</a>\n",
       "</g>\n",
       "<polyline fill=\"none\" stroke=\"black\" points=\"373,-568.5 504,-568.5\"/>\n",
       "<g id=\"a_node6_70\"><a xlink:href=\"#\" xlink:title=\"Dependencies\">\n",
       "<g id=\"a_node6_71\"><a xlink:href=\"#\" xlink:title=\"__init__(self, data: Optional[Dict[Tuple[str, Tuple[Callable, int]], Set[Tuple[str, Tuple[Callable, int]]]]] = None, control: Optional[Dict[Tuple[str, Tuple[Callable, int]], Set[Tuple[str, Tuple[Callable, int]]]]] = None) &#45;&gt; None:&#10;Create a dependency graph from `data` and `control`.&#10;Both `data` and `control` are dictionaries&#10;holding _nodes_ as keys and sets of nodes as values.&#10;Each node comes as a tuple (variable_name, location)&#10;where `variable_name` is a string&#10;and `location` is a pair (function, lineno)&#10;where `function` is a callable and `lineno` is a line number&#10;denoting a unique location in the code.\">\n",
       "<text text-anchor=\"start\" x=\"381.5\" y=\"-557\" font-family=\"'Fira Mono', 'Source Code Pro', 'Courier', monospace\" font-weight=\"bold\" font-size=\"10.00\">__init__()</text>\n",
       "</a>\n",
       "</g>\n",
       "<g id=\"a_node6_72\"><a xlink:href=\"#\" xlink:title=\"__repr__(self) &#45;&gt; str:&#10;Represent dependencies as a Python expression\">\n",
       "<text text-anchor=\"start\" x=\"381.5\" y=\"-546\" font-family=\"'Fira Mono', 'Source Code Pro', 'Courier', monospace\" font-weight=\"bold\" font-size=\"10.00\">__repr__()</text>\n",
       "</a>\n",
       "</g>\n",
       "<g id=\"a_node6_73\"><a xlink:href=\"#\" xlink:title=\"__str__(self) &#45;&gt; str:&#10;Return string representation of dependencies\">\n",
       "<text text-anchor=\"start\" x=\"381.5\" y=\"-535\" font-family=\"'Fira Mono', 'Source Code Pro', 'Courier', monospace\" font-weight=\"bold\" font-size=\"10.00\">__str__()</text>\n",
       "</a>\n",
       "</g>\n",
       "<g id=\"a_node6_74\"><a xlink:href=\"#\" xlink:title=\"_repr_mimebundle_(self, include: Any = None, exclude: Any = None) &#45;&gt; Any:&#10;If the object is output in Jupyter, render dependencies as a SVG graph\">\n",
       "<text text-anchor=\"start\" x=\"381.5\" y=\"-524\" font-family=\"'Fira Mono', 'Source Code Pro', 'Courier', monospace\" font-weight=\"bold\" font-size=\"10.00\">_repr_mimebundle_()</text>\n",
       "</a>\n",
       "</g>\n",
       "<g id=\"a_node6_75\"><a xlink:href=\"#\" xlink:title=\"all_functions(self) &#45;&gt; Dict[Callable, List[Tuple[int, Tuple[str, Tuple[Callable, int]]]]]:&#10;Return mapping&#10;{`function`: [(`lineno`, `var`), (`lineno`, `var`), ...], ...}&#10;for all functions in the dependencies.\">\n",
       "<text text-anchor=\"start\" x=\"381.5\" y=\"-513\" font-family=\"'Fira Mono', 'Source Code Pro', 'Courier', monospace\" font-weight=\"bold\" font-size=\"10.00\">all_functions()</text>\n",
       "</a>\n",
       "</g>\n",
       "<g id=\"a_node6_76\"><a xlink:href=\"#\" xlink:title=\"all_vars(self) &#45;&gt; Set[Tuple[str, Tuple[Callable, int]]]:&#10;Return a set of all variables (as `var_name`, `location`) in the dependencies\">\n",
       "<text text-anchor=\"start\" x=\"381.5\" y=\"-502\" font-family=\"'Fira Mono', 'Source Code Pro', 'Courier', monospace\" font-weight=\"bold\" font-size=\"10.00\">all_vars()</text>\n",
       "</a>\n",
       "</g>\n",
       "<g id=\"a_node6_77\"><a xlink:href=\"#\" xlink:title=\"backward_slice(self, *criteria: Union[str, Tuple[Callable, int], Tuple[str, Tuple[Callable, int]]], mode: str = &#39;cd&#39;, depth: int = &#45;1) &#45;&gt; Dependencies:&#10;Create a backward slice from nodes `criteria`.&#10;`mode` can contain &#39;c&#39; (draw control dependencies)&#10;and &#39;d&#39; (draw data dependencies) (default: &#39;cd&#39;)\">\n",
       "<text text-anchor=\"start\" x=\"381.5\" y=\"-491\" font-family=\"'Fira Mono', 'Source Code Pro', 'Courier', monospace\" font-weight=\"bold\" font-size=\"10.00\">backward_slice()</text>\n",
       "</a>\n",
       "</g>\n",
       "<g id=\"a_node6_78\"><a xlink:href=\"#\" xlink:title=\"code(self, *items: Callable, mode: str = &#39;cd&#39;) &#45;&gt; None:&#10;List `items` on standard output, including dependencies as comments.&#10;If `items` is empty, all included functions are listed.&#10;`mode` can contain &#39;c&#39; (draw control dependencies) and &#39;d&#39; (draw data dependencies)&#10;(default: &#39;cd&#39;).\">\n",
       "<text text-anchor=\"start\" x=\"381.5\" y=\"-480\" font-family=\"'Fira Mono', 'Source Code Pro', 'Courier', monospace\" font-weight=\"bold\" font-size=\"10.00\">code()</text>\n",
       "</a>\n",
       "</g>\n",
       "<g id=\"a_node6_79\"><a xlink:href=\"#\" xlink:title=\"graph(self, *, mode: str = &#39;flow&#39;) &#45;&gt; graphviz.graphs.Digraph:&#10;Draw dependencies. `mode` is either&#10;* `&#39;flow&#39;`: arrows indicate information flow (from A to B); or&#10;* `&#39;depend&#39;`: arrows indicate dependencies (B depends on A)\">\n",
       "<text text-anchor=\"start\" x=\"381.5\" y=\"-469\" font-family=\"'Fira Mono', 'Source Code Pro', 'Courier', monospace\" font-weight=\"bold\" font-size=\"10.00\">graph()</text>\n",
       "</a>\n",
       "</g>\n",
       "<g id=\"a_node6_80\"><a xlink:href=\"#\" xlink:title=\"_code(self, item: Callable, mode: str) &#45;&gt; None\">\n",
       "<text text-anchor=\"start\" x=\"381.5\" y=\"-457\" font-family=\"'Fira Mono', 'Source Code Pro', 'Courier', monospace\" font-size=\"10.00\">_code()</text>\n",
       "</a>\n",
       "</g>\n",
       "<g id=\"a_node6_81\"><a xlink:href=\"#\" xlink:title=\"_source(self, node: Tuple[str, Tuple[Callable, int]]) &#45;&gt; str\">\n",
       "<text text-anchor=\"start\" x=\"381.5\" y=\"-446\" font-family=\"'Fira Mono', 'Source Code Pro', 'Courier', monospace\" font-size=\"10.00\">_source()</text>\n",
       "</a>\n",
       "</g>\n",
       "<g id=\"a_node6_82\"><a xlink:href=\"#\" xlink:title=\"add_hierarchy(self, g: graphviz.graphs.Digraph) &#45;&gt; graphviz.graphs.Digraph:&#10;Add invisible edges for a proper hierarchy.\">\n",
       "<text text-anchor=\"start\" x=\"381.5\" y=\"-435\" font-family=\"'Fira Mono', 'Source Code Pro', 'Courier', monospace\" font-size=\"10.00\">add_hierarchy()</text>\n",
       "</a>\n",
       "</g>\n",
       "<g id=\"a_node6_83\"><a xlink:href=\"#\" xlink:title=\"draw_dependencies(self, g: graphviz.graphs.Digraph, mode: str) &#45;&gt; None\">\n",
       "<text text-anchor=\"start\" x=\"381.5\" y=\"-424\" font-family=\"'Fira Mono', 'Source Code Pro', 'Courier', monospace\" font-size=\"10.00\">draw_dependencies()</text>\n",
       "</a>\n",
       "</g>\n",
       "<g id=\"a_node6_84\"><a xlink:href=\"#\" xlink:title=\"draw_edge(self, g: graphviz.graphs.Digraph, mode: str, node_from: str, node_to: str, **kwargs: Any) &#45;&gt; None\">\n",
       "<text text-anchor=\"start\" x=\"381.5\" y=\"-413\" font-family=\"'Fira Mono', 'Source Code Pro', 'Courier', monospace\" font-size=\"10.00\">draw_edge()</text>\n",
       "</a>\n",
       "</g>\n",
       "<g id=\"a_node6_85\"><a xlink:href=\"#\" xlink:title=\"expand_criteria(self, criteria: List[Union[str, Tuple[Callable, int], Tuple[str, Tuple[Callable, int]]]]) &#45;&gt; List[Tuple[str, Tuple[Callable, int]]]:&#10;Return list of vars matched by `criteria`.\">\n",
       "<text text-anchor=\"start\" x=\"381.5\" y=\"-402\" font-family=\"'Fira Mono', 'Source Code Pro', 'Courier', monospace\" font-size=\"10.00\">expand_criteria()</text>\n",
       "</a>\n",
       "</g>\n",
       "<g id=\"a_node6_86\"><a xlink:href=\"#\" xlink:title=\"format_var(self, var: Tuple[str, Tuple[Callable, int]], current_func: Optional[Callable] = None) &#45;&gt; str:&#10;Return string for `var` in `current_func`.\">\n",
       "<text text-anchor=\"start\" x=\"381.5\" y=\"-391\" font-family=\"'Fira Mono', 'Source Code Pro', 'Courier', monospace\" font-size=\"10.00\">format_var()</text>\n",
       "</a>\n",
       "</g>\n",
       "<g id=\"a_node6_87\"><a xlink:href=\"#\" xlink:title=\"id(self, var: Tuple[str, Tuple[Callable, int]]) &#45;&gt; str:&#10;Return a unique ID for `var`.\">\n",
       "<text text-anchor=\"start\" x=\"381.5\" y=\"-380\" font-family=\"'Fira Mono', 'Source Code Pro', 'Courier', monospace\" font-size=\"10.00\">id()</text>\n",
       "</a>\n",
       "</g>\n",
       "<g id=\"a_node6_88\"><a xlink:href=\"#\" xlink:title=\"label(self, var: Tuple[str, Tuple[Callable, int]]) &#45;&gt; str:&#10;Render node `var` using HTML style.\">\n",
       "<text text-anchor=\"start\" x=\"381.5\" y=\"-369\" font-family=\"'Fira Mono', 'Source Code Pro', 'Courier', monospace\" font-size=\"10.00\">label()</text>\n",
       "</a>\n",
       "</g>\n",
       "<g id=\"a_node6_89\"><a xlink:href=\"#\" xlink:title=\"make_graph(self, name: str = &#39;dependencies&#39;, comment: str = &#39;Dependencies&#39;) &#45;&gt; graphviz.graphs.Digraph\">\n",
       "<text text-anchor=\"start\" x=\"381.5\" y=\"-358\" font-family=\"'Fira Mono', 'Source Code Pro', 'Courier', monospace\" font-size=\"10.00\">make_graph()</text>\n",
       "</a>\n",
       "</g>\n",
       "<g id=\"a_node6_90\"><a xlink:href=\"#\" xlink:title=\"repr_dependencies(self, vars: Dict[Tuple[str, Tuple[Callable, int]], Set[Tuple[str, Tuple[Callable, int]]]]) &#45;&gt; str\">\n",
       "<text text-anchor=\"start\" x=\"381.5\" y=\"-347\" font-family=\"'Fira Mono', 'Source Code Pro', 'Courier', monospace\" font-size=\"10.00\">repr_dependencies()</text>\n",
       "</a>\n",
       "</g>\n",
       "<g id=\"a_node6_91\"><a xlink:href=\"#\" xlink:title=\"repr_deps(self, var_set: Set[Tuple[str, Tuple[Callable, int]]]) &#45;&gt; str\">\n",
       "<text text-anchor=\"start\" x=\"381.5\" y=\"-336\" font-family=\"'Fira Mono', 'Source Code Pro', 'Courier', monospace\" font-size=\"10.00\">repr_deps()</text>\n",
       "</a>\n",
       "</g>\n",
       "<g id=\"a_node6_92\"><a xlink:href=\"#\" xlink:title=\"repr_var(self, var: Tuple[str, Tuple[Callable, int]]) &#45;&gt; str\">\n",
       "<text text-anchor=\"start\" x=\"381.5\" y=\"-325\" font-family=\"'Fira Mono', 'Source Code Pro', 'Courier', monospace\" font-size=\"10.00\">repr_var()</text>\n",
       "</a>\n",
       "</g>\n",
       "<g id=\"a_node6_93\"><a xlink:href=\"#\" xlink:title=\"source(self, node: Tuple[str, Tuple[Callable, int]]) &#45;&gt; str:&#10;Return the source code for a given node.\">\n",
       "<text text-anchor=\"start\" x=\"381.5\" y=\"-314\" font-family=\"'Fira Mono', 'Source Code Pro', 'Courier', monospace\" font-size=\"10.00\">source()</text>\n",
       "</a>\n",
       "</g>\n",
       "<g id=\"a_node6_94\"><a xlink:href=\"#\" xlink:title=\"tooltip(self, var: Tuple[str, Tuple[Callable, int]]) &#45;&gt; str:&#10;Return a tooltip for node `var`.\">\n",
       "<text text-anchor=\"start\" x=\"381.5\" y=\"-303\" font-family=\"'Fira Mono', 'Source Code Pro', 'Courier', monospace\" font-size=\"10.00\">tooltip()</text>\n",
       "</a>\n",
       "</g>\n",
       "<g id=\"a_node6_95\"><a xlink:href=\"#\" xlink:title=\"validate(self) &#45;&gt; None:&#10;Perform a simple syntactic validation of dependencies\">\n",
       "<text text-anchor=\"start\" x=\"381.5\" y=\"-292\" font-family=\"'Fira Mono', 'Source Code Pro', 'Courier', monospace\" font-size=\"10.00\">validate()</text>\n",
       "</a>\n",
       "</g>\n",
       "</a>\n",
       "</g>\n",
       "</a>\n",
       "</g>\n",
       "</g>\n",
       "<!-- Dependencies&#45;&gt;StackInspector -->\n",
       "<g id=\"edge5\" class=\"edge\">\n",
       "<title>Dependencies&#45;&gt;StackInspector</title>\n",
       "<path fill=\"none\" stroke=\"black\" d=\"M373.21,-604.05C370.02,-610.16 366.77,-616.17 363.5,-622 358.43,-631.04 352.76,-640.31 346.92,-649.37\"/>\n",
       "<polygon fill=\"none\" stroke=\"black\" points=\"344.17,-647.17 341.61,-657.45 350.03,-651.01 344.17,-647.17\"/>\n",
       "</g>\n",
       "<!-- Legend -->\n",
       "<g id=\"node7\" class=\"node\">\n",
       "<title>Legend</title>\n",
       "<text text-anchor=\"start\" x=\"418.5\" y=\"-142\" font-family=\"Raleway, Helvetica, Arial, sans-serif\" font-weight=\"bold\" font-size=\"10.00\" fill=\"#6a0dad\">Legend</text>\n",
       "<text text-anchor=\"start\" x=\"418.5\" y=\"-132\" font-family=\"Raleway, Helvetica, Arial, sans-serif\" font-size=\"10.00\">• </text>\n",
       "<text text-anchor=\"start\" x=\"425.5\" y=\"-132\" font-family=\"'Fira Mono', 'Source Code Pro', 'Courier', monospace\" font-weight=\"bold\" font-size=\"8.00\">public_method()</text>\n",
       "<text text-anchor=\"start\" x=\"418.5\" y=\"-122\" font-family=\"Raleway, Helvetica, Arial, sans-serif\" font-size=\"10.00\">• </text>\n",
       "<text text-anchor=\"start\" x=\"425.5\" y=\"-122\" font-family=\"'Fira Mono', 'Source Code Pro', 'Courier', monospace\" font-size=\"8.00\">private_method()</text>\n",
       "<text text-anchor=\"start\" x=\"418.5\" y=\"-112\" font-family=\"Raleway, Helvetica, Arial, sans-serif\" font-size=\"10.00\">• </text>\n",
       "<text text-anchor=\"start\" x=\"425.5\" y=\"-112\" font-family=\"'Fira Mono', 'Source Code Pro', 'Courier', monospace\" font-style=\"italic\" font-size=\"8.00\">overloaded_method()</text>\n",
       "<text text-anchor=\"start\" x=\"418.5\" y=\"-102.8\" font-family=\"Helvetica,sans-Serif\" font-size=\"9.00\">Hover over names to see doc</text>\n",
       "</g>\n",
       "</g>\n",
       "</svg>\n"
      ],
      "text/plain": [
       "<graphviz.graphs.Digraph at 0x1197b01c0>"
      ]
     },
     "execution_count": 253,
     "metadata": {},
     "output_type": "execute_result"
    }
   ],
   "source": [
    "# ignore\n",
    "display_class_hierarchy([Slicer, DependencyTracker, \n",
    "                         StackInspector, Dependencies],\n",
    "                        abstract_classes=[\n",
    "                            StackInspector,\n",
    "                            Instrumenter\n",
    "                        ],\n",
    "                        public_methods=[\n",
    "                            StackInspector.caller_frame,\n",
    "                            StackInspector.caller_function,\n",
    "                            StackInspector.caller_globals,\n",
    "                            StackInspector.caller_locals,\n",
    "                            StackInspector.caller_location,\n",
    "                            StackInspector.search_frame,\n",
    "                            StackInspector.search_func,\n",
    "                            Instrumenter.__init__,\n",
    "                            Instrumenter.__enter__,\n",
    "                            Instrumenter.__exit__,\n",
    "                            Instrumenter.instrument,\n",
    "                            Slicer.__init__,\n",
    "                            Slicer.code,\n",
    "                            Slicer.dependencies,\n",
    "                            Slicer.graph,\n",
    "                            Slicer._repr_mimebundle_,\n",
    "                            DataTracker.__init__,\n",
    "                            DataTracker.__enter__,\n",
    "                            DataTracker.__exit__,\n",
    "                            DataTracker.arg,\n",
    "                            DataTracker.augment,\n",
    "                            DataTracker.call,\n",
    "                            DataTracker.get,\n",
    "                            DataTracker.param,\n",
    "                            DataTracker.ret,\n",
    "                            DataTracker.set,\n",
    "                            DataTracker.test,\n",
    "                            DataTracker.__repr__,\n",
    "                            DependencyTracker.__init__,\n",
    "                            DependencyTracker.__enter__,\n",
    "                            DependencyTracker.__exit__,\n",
    "                            DependencyTracker.arg,\n",
    "                            # DependencyTracker.augment,\n",
    "                            DependencyTracker.call,\n",
    "                            DependencyTracker.get,\n",
    "                            DependencyTracker.param,\n",
    "                            DependencyTracker.ret,\n",
    "                            DependencyTracker.set,\n",
    "                            DependencyTracker.test,\n",
    "                            DependencyTracker.__repr__,\n",
    "                            Dependencies.__init__,\n",
    "                            Dependencies.__repr__,\n",
    "                            Dependencies.__str__,\n",
    "                            Dependencies._repr_mimebundle_,\n",
    "                            Dependencies.code,\n",
    "                            Dependencies.graph,\n",
    "                            Dependencies.backward_slice,\n",
    "                            Dependencies.all_functions,\n",
    "                            Dependencies.all_vars,\n",
    "                        ],\n",
    "                        project='debuggingbook')"
   ]
  },
  {
   "cell_type": "markdown",
   "metadata": {
    "slideshow": {
     "slide_type": "slide"
    }
   },
   "source": [
    "## Things that do not Work"
   ]
  },
  {
   "attachments": {},
   "cell_type": "markdown",
   "metadata": {
    "slideshow": {
     "slide_type": "subslide"
    }
   },
   "source": [
    "Our slicer (and especially the underlying dependency tracker) is still a proof of concept. A number of Python features are not or only partially supported, and/or hardly tested:\n",
    "\n",
    "* __Exceptions__ can lead to missing or erroneous dependencies. The code assumes that for every `call()`, there is a matching `ret()`; when exceptions break this, dependencies across function calls and arguments may be missing or be assigned incorrectly.\n",
    "* __Multiple definitions on a single line__ as in `x = y; x = 1` can lead to missing or erroneous dependencies. Our implementation assumes that there is one statement per line.\n",
    "* __If-Expressions__ (`y = 1 if x else 0`) do not create control dependencies, as there are no statements to control. Neither do `if` clauses in comprehensions.\n",
    "* __Asynchronous functions__ (`async`, `await`) are not tested.\n",
    "\n",
    "In these cases, the instrumentation and the underlying dependency tracker may fail to identify control and/or data flows. The semantics of the code, however, should always stay unchanged."
   ]
  },
  {
   "cell_type": "markdown",
   "metadata": {
    "button": false,
    "new_sheet": true,
    "run_control": {
     "read_only": false
    },
    "slideshow": {
     "slide_type": "slide"
    }
   },
   "source": [
    "## Lessons Learned\n",
    "\n",
    "* To track the origin of some incorrect value, follow back its _dependencies_:\n",
    "    * _Data dependencies_ indicate where the value came from.\n",
    "    * _Control dependencies_ show why a statement was executed.\n",
    "* A _slice_ is a subset of the code that could have influenced a specific value. It can be computed by transitively following all dependencies.\n",
    "* _Instrument code_ to automatically determine and visualize dependencies."
   ]
  },
  {
   "cell_type": "markdown",
   "metadata": {
    "button": false,
    "new_sheet": false,
    "run_control": {
     "read_only": false
    },
    "slideshow": {
     "slide_type": "slide"
    }
   },
   "source": [
    "## Next Steps\n",
    "\n",
    "In the [next chapter](StatisticalDebugger.ipynb), we will explore how to make use of _multiple_ passing and failing executions."
   ]
  },
  {
   "cell_type": "markdown",
   "metadata": {
    "slideshow": {
     "slide_type": "slide"
    }
   },
   "source": [
    "## Background\n",
    "\n",
    "Slicing as computing a subset of a program by means of data and control dependencies was invented by Mark Weiser \\cite{Weiser1981}. In his seminal work \"Programmers use Slices when Debugging\", \\cite{Weiser1982}, Weiser demonstrated how such dependencies are crucial for systematic debugging:\n",
    "\n",
    "> When debugging unfamiliar programs programmers use program pieces called _slices_ which are sets of statements related by their flow of data. The statements in a slice are not necessarily textually contiguous, but may be scattered through a program."
   ]
  },
  {
   "attachments": {},
   "cell_type": "markdown",
   "metadata": {
    "slideshow": {
     "slide_type": "subslide"
    }
   },
   "source": [
    "Weiser's slices (and dependencies) were determined _statically_ from program code. Both Korel and Laski \\cite{Korel1988} as well as Agrawal and Horgan \\cite{Agrawal1990} introduced _dynamic_ program slicing, building on _dynamic_ dependencies, which would be more specific to a given (failing) run. (The `Slicer` we implement in this chapter is a dynamic slicer.) Tip \\cite{Tip1995} gives a survey on program slicing techniques. Chen et al. \\cite{Chen2014} describe and evaluate the first dynamic slicer for Python programs (which is independent of our implementation)."
   ]
  },
  {
   "cell_type": "markdown",
   "metadata": {
    "slideshow": {
     "slide_type": "fragment"
    }
   },
   "source": [
    "One exemplary application of program slices is [the Whyline](https://github.com/amyjko/whyline) by Ko and Myers \\cite{Ko2004}. The Whyline is a debugging interface for asking questions about program behavior. It allows to interactively query where a particular variable came from (a data dependency) and why or why not specific things took place (control dependencies)."
   ]
  },
  {
   "cell_type": "markdown",
   "metadata": {
    "slideshow": {
     "slide_type": "subslide"
    }
   },
   "source": [
    "In \\cite{Soremekun2021}, Soremekun et al. evaluated the performance of slicing as a fault localization mechanism and found that following dependencies was one of the most successful strategies to determine fault locations. Notably, if programmers first examine at most the top five most suspicious locations from [statistical debugging](StatisticalDebugger.ipynb), and then switch to dynamic slices, on average, they will need to examine only 15% (12 lines) of the code. "
   ]
  },
  {
   "cell_type": "markdown",
   "metadata": {
    "button": false,
    "new_sheet": true,
    "run_control": {
     "read_only": false
    },
    "slideshow": {
     "slide_type": "slide"
    }
   },
   "source": [
    "## Exercises\n"
   ]
  },
  {
   "cell_type": "markdown",
   "metadata": {
    "slideshow": {
     "slide_type": "subslide"
    }
   },
   "source": [
    "### Exercise 1: Control Slices\n",
    "\n",
    "Augment the `Slicer` class with two keyword arguments, `include` and `exclude`, each taking a list of functions to instrument or not to instrument, respectively. These can be helpful when using \"automatic\" instrumentation."
   ]
  },
  {
   "cell_type": "markdown",
   "metadata": {
    "slideshow": {
     "slide_type": "subslide"
    }
   },
   "source": [
    "### Exercise 2: Incremental Exploration\n",
    "\n",
    "This is more of a programming project than a simple exercise. Rather than showing all dependencies as a whole, as we do, build a system that allows the user to _explore_ dependencies interactively."
   ]
  },
  {
   "attachments": {},
   "cell_type": "markdown",
   "metadata": {
    "button": false,
    "new_sheet": false,
    "run_control": {
     "read_only": false
    },
    "slideshow": {
     "slide_type": "subslide"
    }
   },
   "source": [
    "### Exercise 3: Forward Slicing\n",
    "\n",
    "Extend `Dependencies` with a variant of `backward_slice()` named `forward_slice()` that, instead of computing the dependencies that go _into_ a location, computes the dependencies that go _out_ of a location."
   ]
  },
  {
   "cell_type": "markdown",
   "metadata": {
    "button": false,
    "new_sheet": false,
    "run_control": {
     "read_only": false
    },
    "slideshow": {
     "slide_type": "subslide"
    }
   },
   "source": [
    "### Exercise 4: Code with Forward Dependencies\n",
    "\n",
    "Create a variant of `Dependencies.code()` that, for each statement `s`, instead of showing a \"passive\" view (which variables and locations influenced `s`?), shows an \"active\" view (which variables and locations were influenced by `s`?). For `middle()`, for instance, the first line should show which lines are influenced by `x`, `y`, and `z`, respectively. Use `->` for control flows and `=>` for data flows."
   ]
  },
  {
   "cell_type": "markdown",
   "metadata": {
    "slideshow": {
     "slide_type": "subslide"
    }
   },
   "source": [
    "### Exercise 5: Flow Assertions\n",
    "\n",
    "In line with [Verifying Flows at Runtime](#Verifying-Flows-at-Runtime), above, implement a function `assert_flow(target, source)` that checks at runtime that the data flowing into `target` only comes from the variables named in `source`. "
   ]
  },
  {
   "cell_type": "code",
   "execution_count": 254,
   "metadata": {
    "execution": {
     "iopub.execute_input": "2023-01-07T16:02:57.854491Z",
     "iopub.status.busy": "2023-01-07T16:02:57.854074Z",
     "iopub.status.idle": "2023-01-07T16:02:57.855421Z",
     "shell.execute_reply": "2023-01-07T16:02:57.855678Z"
    },
    "slideshow": {
     "slide_type": "fragment"
    }
   },
   "outputs": [],
   "source": [
    "def assert_flow(target: Any, source: List[Any]) -> bool:\n",
    "    \"\"\"\n",
    "    Raise an `AssertionError` if the dependencies of `target`\n",
    "    are not equal to `source`.\n",
    "    \"\"\"\n",
    "    ...\n",
    "    return True"
   ]
  },
  {
   "cell_type": "markdown",
   "metadata": {
    "slideshow": {
     "slide_type": "fragment"
    }
   },
   "source": [
    "`assert_flow()` would be used in conjunction with `Slicer()` as follows:"
   ]
  },
  {
   "cell_type": "code",
   "execution_count": 255,
   "metadata": {
    "execution": {
     "iopub.execute_input": "2023-01-07T16:02:57.858473Z",
     "iopub.status.busy": "2023-01-07T16:02:57.858034Z",
     "iopub.status.idle": "2023-01-07T16:02:57.859381Z",
     "shell.execute_reply": "2023-01-07T16:02:57.859647Z"
    },
    "slideshow": {
     "slide_type": "subslide"
    }
   },
   "outputs": [],
   "source": [
    "def demo4() -> int:\n",
    "    x = 25\n",
    "    y = 26\n",
    "    assert_flow(y, [x])  # ensures that `y` depends on `x` only\n",
    "    return y"
   ]
  },
  {
   "cell_type": "code",
   "execution_count": 256,
   "metadata": {
    "execution": {
     "iopub.execute_input": "2023-01-07T16:02:57.867080Z",
     "iopub.status.busy": "2023-01-07T16:02:57.861168Z",
     "iopub.status.idle": "2023-01-07T16:02:57.868269Z",
     "shell.execute_reply": "2023-01-07T16:02:57.868585Z"
    },
    "slideshow": {
     "slide_type": "fragment"
    }
   },
   "outputs": [],
   "source": [
    "with Slicer() as slicer:\n",
    "    demo4()"
   ]
  },
  {
   "cell_type": "markdown",
   "metadata": {
    "slideshow": {
     "slide_type": "fragment"
    }
   },
   "source": [
    "To check dependencies, have `assert_flow()` check the contents of the `_data` dependency collector as set up by the slicer."
   ]
  },
  {
   "cell_type": "markdown",
   "metadata": {
    "slideshow": {
     "slide_type": "subslide"
    }
   },
   "source": [
    "### Exercise 6: Checked Coverage\n",
    "\n",
    "Implement checked coverage, as sketched in [Assessing Test Quality](#Assessing-Test-Quality) above. For every `assert` statement encountered during a run, produce the number of statements it depends upon."
   ]
  }
 ],
 "metadata": {
  "ipub": {
   "bibliography": "fuzzingbook.bib",
   "toc": true
  },
  "kernelspec": {
   "display_name": "venv",
   "language": "python",
   "name": "python3"
  },
  "language_info": {
   "codemirror_mode": {
    "name": "ipython",
    "version": 3
   },
   "file_extension": ".py",
   "mimetype": "text/x-python",
   "name": "python",
   "nbconvert_exporter": "python",
   "pygments_lexer": "ipython3",
   "version": "3.10.2"
  },
  "toc": {
   "base_numbering": 1,
   "nav_menu": {},
   "number_sections": true,
   "sideBar": true,
   "skip_h1_title": true,
   "title_cell": "",
   "title_sidebar": "Contents",
   "toc_cell": false,
   "toc_position": {},
   "toc_section_display": true,
   "toc_window_display": true
  },
  "toc-autonumbering": false,
  "vscode": {
   "interpreter": {
    "hash": "0af4f07dd039d1b4e562c7a7d0340393b1c66f50605ac6af30beb81aa23b7ef5"
   }
  }
 },
 "nbformat": 4,
 "nbformat_minor": 4
}