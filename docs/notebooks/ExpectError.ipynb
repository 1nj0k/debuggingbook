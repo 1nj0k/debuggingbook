{
 "cells": [
  {
   "cell_type": "markdown",
   "metadata": {
    "button": false,
    "new_sheet": false,
    "run_control": {
     "read_only": false
    },
    "slideshow": {
     "slide_type": "slide"
    }
   },
   "source": [
    "# Error Handling\n",
    "\n",
    "The code in this notebook helps with handling errors.  Normally, an error in  notebook code causes the execution of the code to stop; while an infinite loop in notebook code causes the notebook to run without end.  This notebook provides two classes to help address these concerns."
   ]
  },
  {
   "cell_type": "markdown",
   "metadata": {
    "button": false,
    "new_sheet": false,
    "run_control": {
     "read_only": false
    },
    "slideshow": {
     "slide_type": "subslide"
    }
   },
   "source": [
    "**Prerequisites**\n",
    "\n",
    "* This notebook needs some understanding on advanced concepts in Python, notably \n",
    "    * classes\n",
    "    * the Python `with` statement\n",
    "    * tracing\n",
    "    * measuring time\n",
    "    * exceptions"
   ]
  },
  {
   "cell_type": "markdown",
   "metadata": {
    "slideshow": {
     "slide_type": "slide"
    }
   },
   "source": [
    "## Synopsis\n",
    "<!-- Automatically generated. Do not edit. -->\n",
    "\n",
    "To [use the code provided in this chapter](Importing.ipynb), write\n",
    "\n",
    "```python\n",
    ">>> from debuggingbook.ExpectError import <identifier>\n",
    "```\n",
    "\n",
    "and then make use of the following features.\n",
    "\n",
    "\n",
    "The `ExpectError` class allows you to catch and report exceptions, yet resume execution.  This is useful in notebooks, as they would normally interrupt execution as soon as an exception is raised.  Its typical usage is in conjunction with a `with` clause:\n",
    "\n",
    "```python\n",
    ">>> with ExpectError():\n",
    ">>>     x = 1 / 0\n",
    "\n",
    "Traceback (most recent call last):\n",
    "  File \"<ipython-input-1-264328004f25>\", line 2, in <module>\n",
    "    x = 1 / 0\n",
    "ZeroDivisionError: division by zero (expected)\n",
    "```\n",
    "The `ExpectTimeout` class allows you to interrupt execution after the specified time.  This is useful for interrupting code that might otherwise run forever.\n",
    "\n",
    "```python\n",
    ">>> with ExpectTimeout(5):\n",
    ">>>     long_running_test()\n",
    "\n",
    "Start\n",
    "0 seconds have passed\n",
    "1 seconds have passed\n",
    "2 seconds have passed\n",
    "3 seconds have passed\n",
    "Traceback (most recent call last):\n",
    "  File \"<ipython-input-1-7e5136e65261>\", line 2, in <module>\n",
    "    long_running_test()\n",
    "  File \"<ipython-input-1-c23727bcee7d>\", line 5, in long_running_test\n",
    "    print(i, \"seconds have passed\")\n",
    "  File \"<ipython-input-1-c23727bcee7d>\", line 5, in long_running_test\n",
    "    print(i, \"seconds have passed\")\n",
    "  File \"<ipython-input-1-a8ce35c8777b>\", line 25, in check_time\n",
    "    raise TimeoutError\n",
    "TimeoutError (expected)\n",
    "```\n",
    "The exception and the associated traceback are printed as error messages.  If you do not want that, \n",
    "use these keyword options:\n",
    "\n",
    "* `print_traceback` (default True) can be set to `False` to avoid the traceback being printed\n",
    "* `mute` (default False) can be set to `True` to completely avoid any output.\n",
    "\n"
   ]
  },
  {
   "cell_type": "markdown",
   "metadata": {
    "button": false,
    "new_sheet": false,
    "run_control": {
     "read_only": false
    },
    "slideshow": {
     "slide_type": "slide"
    }
   },
   "source": [
    "## Catching Errors\n",
    "\n",
    "The class `ExpectError` allows to express that some code produces an exception.  A typical usage looks as follows:\n",
    "\n",
    "```Python\n",
    "from ExpectError import ExpectError\n",
    "\n",
    "with ExpectError():\n",
    "    function_that_is_supposed_to_fail()\n",
    "```\n",
    "\n",
    "If an exception occurs, it is printed on standard error; yet, execution continues."
   ]
  },
  {
   "cell_type": "code",
   "execution_count": 1,
   "metadata": {
    "button": false,
    "execution": {
     "iopub.execute_input": "2021-02-27T16:29:08.913520Z",
     "iopub.status.busy": "2021-02-27T16:29:08.912850Z",
     "iopub.status.idle": "2021-02-27T16:29:09.087217Z",
     "shell.execute_reply": "2021-02-27T16:29:09.087613Z"
    },
    "new_sheet": false,
    "run_control": {
     "read_only": false
    },
    "slideshow": {
     "slide_type": "skip"
    }
   },
   "outputs": [],
   "source": [
    "import bookutils"
   ]
  },
  {
   "cell_type": "code",
   "execution_count": 2,
   "metadata": {
    "button": false,
    "execution": {
     "iopub.execute_input": "2021-02-27T16:29:09.091739Z",
     "iopub.status.busy": "2021-02-27T16:29:09.090707Z",
     "iopub.status.idle": "2021-02-27T16:29:09.093075Z",
     "shell.execute_reply": "2021-02-27T16:29:09.093614Z"
    },
    "new_sheet": false,
    "run_control": {
     "read_only": false
    },
    "slideshow": {
     "slide_type": "skip"
    }
   },
   "outputs": [],
   "source": [
    "import traceback\n",
    "import sys"
   ]
  },
  {
   "cell_type": "code",
   "execution_count": 3,
   "metadata": {
    "execution": {
     "iopub.execute_input": "2021-02-27T16:29:09.098504Z",
     "iopub.status.busy": "2021-02-27T16:29:09.097640Z",
     "iopub.status.idle": "2021-02-27T16:29:09.099897Z",
     "shell.execute_reply": "2021-02-27T16:29:09.100309Z"
    },
    "slideshow": {
     "slide_type": "skip"
    }
   },
   "outputs": [],
   "source": [
    "from types import FrameType, TracebackType\n",
    "from typing import Union, Optional, Callable, Any"
   ]
  },
  {
   "cell_type": "code",
   "execution_count": 4,
   "metadata": {
    "button": false,
    "execution": {
     "iopub.execute_input": "2021-02-27T16:29:09.108773Z",
     "iopub.status.busy": "2021-02-27T16:29:09.107853Z",
     "iopub.status.idle": "2021-02-27T16:29:09.110287Z",
     "shell.execute_reply": "2021-02-27T16:29:09.110695Z"
    },
    "new_sheet": false,
    "run_control": {
     "read_only": false
    },
    "slideshow": {
     "slide_type": "subslide"
    }
   },
   "outputs": [],
   "source": [
    "class ExpectError:\n",
    "    \"\"\"Execute a code block expecting (and catching) an error.\"\"\"\n",
    "\n",
    "    def __init__(self, exc_type: Optional[type] = None, \n",
    "                 print_traceback: bool = True, mute: bool = False):\n",
    "        \"\"\"\n",
    "        Constructor. Expect an exception of type `exc_type` (`None`: any exception).\n",
    "        If `print_traceback` is set (default), print a traceback to stderr.\n",
    "        If `mute` is set (default: False), do not print anything.\n",
    "        \"\"\"\n",
    "        self.print_traceback = print_traceback\n",
    "        self.mute = mute\n",
    "        self.expected_exc_type = exc_type\n",
    "\n",
    "    def __enter__(self) -> Any:\n",
    "        \"\"\"Begin of `with` block\"\"\"\n",
    "        return self\n",
    "\n",
    "    def __exit__(self, exc_type: type, \n",
    "                 exc_value: BaseException, tb: TracebackType) -> Optional[bool]:\n",
    "        \"\"\"End of `with` block\"\"\"\n",
    "        if exc_type is None:\n",
    "            # No exception\n",
    "            return\n",
    "\n",
    "        if (self.expected_exc_type is not None\n",
    "            and exc_type != self.expected_exc_type):\n",
    "            raise  # Unexpected exception\n",
    "\n",
    "        # An exception occurred\n",
    "        if self.print_traceback:\n",
    "            lines = ''.join(\n",
    "                traceback.format_exception(\n",
    "                    exc_type,\n",
    "                    exc_value,\n",
    "                    tb)).strip()\n",
    "        else:\n",
    "            lines = traceback.format_exception_only(\n",
    "                exc_type, exc_value)[-1].strip()\n",
    "\n",
    "        if not self.mute:\n",
    "            print(lines, \"(expected)\", file=sys.stderr)\n",
    "        return True  # Ignore it"
   ]
  },
  {
   "cell_type": "markdown",
   "metadata": {
    "button": false,
    "new_sheet": false,
    "run_control": {
     "read_only": false
    },
    "slideshow": {
     "slide_type": "subslide"
    }
   },
   "source": [
    "Here's an example:"
   ]
  },
  {
   "cell_type": "code",
   "execution_count": 5,
   "metadata": {
    "button": false,
    "execution": {
     "iopub.execute_input": "2021-02-27T16:29:09.115200Z",
     "iopub.status.busy": "2021-02-27T16:29:09.114604Z",
     "iopub.status.idle": "2021-02-27T16:29:09.116534Z",
     "shell.execute_reply": "2021-02-27T16:29:09.117322Z"
    },
    "new_sheet": false,
    "run_control": {
     "read_only": false
    },
    "slideshow": {
     "slide_type": "fragment"
    }
   },
   "outputs": [],
   "source": [
    "def fail_test() -> None:\n",
    "    # Trigger an exception\n",
    "    x = 1 / 0"
   ]
  },
  {
   "cell_type": "code",
   "execution_count": 6,
   "metadata": {
    "button": false,
    "execution": {
     "iopub.execute_input": "2021-02-27T16:29:09.121257Z",
     "iopub.status.busy": "2021-02-27T16:29:09.120514Z",
     "iopub.status.idle": "2021-02-27T16:29:09.123725Z",
     "shell.execute_reply": "2021-02-27T16:29:09.124172Z"
    },
    "new_sheet": false,
    "run_control": {
     "read_only": false
    },
    "slideshow": {
     "slide_type": "fragment"
    }
   },
   "outputs": [
    {
     "name": "stderr",
     "output_type": "stream",
     "text": [
      "Traceback (most recent call last):\n",
      "  File \"<ipython-input-1-67c629a2a842>\", line 2, in <module>\n",
      "    fail_test()\n",
      "  File \"<ipython-input-1-3f58bc38b36b>\", line 3, in fail_test\n",
      "    x = 1 / 0\n",
      "ZeroDivisionError: division by zero (expected)\n"
     ]
    }
   ],
   "source": [
    "with ExpectError():\n",
    "    fail_test()"
   ]
  },
  {
   "cell_type": "code",
   "execution_count": 7,
   "metadata": {
    "button": false,
    "execution": {
     "iopub.execute_input": "2021-02-27T16:29:09.128673Z",
     "iopub.status.busy": "2021-02-27T16:29:09.127567Z",
     "iopub.status.idle": "2021-02-27T16:29:09.130475Z",
     "shell.execute_reply": "2021-02-27T16:29:09.130892Z"
    },
    "new_sheet": false,
    "run_control": {
     "read_only": false
    },
    "slideshow": {
     "slide_type": "subslide"
    }
   },
   "outputs": [
    {
     "name": "stderr",
     "output_type": "stream",
     "text": [
      "ZeroDivisionError: division by zero (expected)\n"
     ]
    }
   ],
   "source": [
    "with ExpectError(print_traceback=False):\n",
    "    fail_test()"
   ]
  },
  {
   "cell_type": "markdown",
   "metadata": {
    "slideshow": {
     "slide_type": "fragment"
    }
   },
   "source": [
    "We can specify the type of the expected exception. This way, if something else happens, we will get notified."
   ]
  },
  {
   "cell_type": "code",
   "execution_count": 8,
   "metadata": {
    "execution": {
     "iopub.execute_input": "2021-02-27T16:29:09.134920Z",
     "iopub.status.busy": "2021-02-27T16:29:09.134174Z",
     "iopub.status.idle": "2021-02-27T16:29:09.136563Z",
     "shell.execute_reply": "2021-02-27T16:29:09.136963Z"
    },
    "slideshow": {
     "slide_type": "fragment"
    }
   },
   "outputs": [
    {
     "name": "stderr",
     "output_type": "stream",
     "text": [
      "Traceback (most recent call last):\n",
      "  File \"<ipython-input-1-a7a7ccccd794>\", line 2, in <module>\n",
      "    fail_test()\n",
      "  File \"<ipython-input-1-3f58bc38b36b>\", line 3, in fail_test\n",
      "    x = 1 / 0\n",
      "ZeroDivisionError: division by zero (expected)\n"
     ]
    }
   ],
   "source": [
    "with ExpectError(ZeroDivisionError):\n",
    "    fail_test()"
   ]
  },
  {
   "cell_type": "code",
   "execution_count": 9,
   "metadata": {
    "execution": {
     "iopub.execute_input": "2021-02-27T16:29:09.140897Z",
     "iopub.status.busy": "2021-02-27T16:29:09.140145Z",
     "iopub.status.idle": "2021-02-27T16:29:09.142893Z",
     "shell.execute_reply": "2021-02-27T16:29:09.143311Z"
    },
    "slideshow": {
     "slide_type": "subslide"
    }
   },
   "outputs": [
    {
     "name": "stderr",
     "output_type": "stream",
     "text": [
      "Traceback (most recent call last):\n",
      "  File \"<ipython-input-1-e6c7dad1986d>\", line 3, in <module>\n",
      "    some_nonexisting_function()  # type: ignore\n",
      "  File \"<ipython-input-1-e6c7dad1986d>\", line 3, in <module>\n",
      "    some_nonexisting_function()  # type: ignore\n",
      "NameError: name 'some_nonexisting_function' is not defined (expected)\n"
     ]
    }
   ],
   "source": [
    "with ExpectError():\n",
    "    with ExpectError(ZeroDivisionError):\n",
    "        some_nonexisting_function()  # type: ignore"
   ]
  },
  {
   "cell_type": "markdown",
   "metadata": {
    "button": false,
    "new_sheet": false,
    "run_control": {
     "read_only": false
    },
    "slideshow": {
     "slide_type": "slide"
    }
   },
   "source": [
    "## Catching Timeouts\n",
    "\n",
    "The class `ExpectTimeout(seconds)` allows to express that some code may run for a long or infinite time; execution is thus interrupted after `seconds` seconds.  A typical usage looks as follows:\n",
    "\n",
    "```Python\n",
    "from ExpectError import ExpectTimeout\n",
    "\n",
    "with ExpectTimeout(2) as t:\n",
    "    function_that_is_supposed_to_hang()\n",
    "```\n",
    "\n",
    "If an exception occurs, it is printed on standard error (as with `ExpectError`); yet, execution continues.\n",
    "\n",
    "Should there be a need to cancel the timeout within the `with` block, `t.cancel()` will do the trick.\n",
    "\n",
    "The implementation uses `sys.settrace()`, as this seems to be the most portable way to implement timeouts.  It is not very efficient, though.  Also, it only works on individual lines of Python code and will not interrupt a long-running system function."
   ]
  },
  {
   "cell_type": "code",
   "execution_count": 10,
   "metadata": {
    "button": false,
    "execution": {
     "iopub.execute_input": "2021-02-27T16:29:09.146921Z",
     "iopub.status.busy": "2021-02-27T16:29:09.146330Z",
     "iopub.status.idle": "2021-02-27T16:29:09.148401Z",
     "shell.execute_reply": "2021-02-27T16:29:09.148819Z"
    },
    "new_sheet": false,
    "run_control": {
     "read_only": false
    },
    "slideshow": {
     "slide_type": "skip"
    }
   },
   "outputs": [],
   "source": [
    "import sys\n",
    "import time"
   ]
  },
  {
   "cell_type": "code",
   "execution_count": 11,
   "metadata": {
    "button": false,
    "execution": {
     "iopub.execute_input": "2021-02-27T16:29:09.158617Z",
     "iopub.status.busy": "2021-02-27T16:29:09.157820Z",
     "iopub.status.idle": "2021-02-27T16:29:09.160152Z",
     "shell.execute_reply": "2021-02-27T16:29:09.160564Z"
    },
    "new_sheet": false,
    "run_control": {
     "read_only": false
    },
    "slideshow": {
     "slide_type": "subslide"
    }
   },
   "outputs": [],
   "source": [
    "class ExpectTimeout:\n",
    "    \"\"\"Execute a code block expecting (and catching) a timeout.\"\"\"\n",
    "\n",
    "    def __init__(self, seconds: Union[int, float], \n",
    "                 print_traceback: bool = True, mute: bool = False):\n",
    "        \"\"\"\n",
    "        Constructor. Interrupe execution after `seconds` seconds.\n",
    "        If `print_traceback` is set (default), print a traceback to stderr.\n",
    "        If `mute` is set (default: False), do not print anything.\n",
    "        \"\"\"\n",
    "\n",
    "        self.seconds_before_timeout = seconds\n",
    "        self.original_trace_function: Optional[Callable] = None\n",
    "        self.end_time: Optional[float] = None\n",
    "        self.print_traceback = print_traceback\n",
    "        self.mute = mute\n",
    "\n",
    "    def check_time(self, frame: FrameType, event: str, arg: Any) -> Callable:\n",
    "        \"\"\"Tracing function\"\"\"\n",
    "        if self.original_trace_function is not None:\n",
    "            self.original_trace_function(frame, event, arg)\n",
    "\n",
    "        current_time = time.time()\n",
    "        if self.end_time and current_time >= self.end_time:\n",
    "            raise TimeoutError\n",
    "\n",
    "        return self.check_time\n",
    "\n",
    "    def __enter__(self) -> Any:\n",
    "        \"\"\"Begin of `with` block\"\"\"\n",
    "\n",
    "        start_time = time.time()\n",
    "        self.end_time = start_time + self.seconds_before_timeout\n",
    "\n",
    "        self.original_trace_function = sys.gettrace()\n",
    "        sys.settrace(self.check_time)\n",
    "        return self\n",
    "\n",
    "    def __exit__(self, exc_type: type, \n",
    "                 exc_value: BaseException, tb: TracebackType) -> Optional[bool]:\n",
    "        \"\"\"End of `with` block\"\"\"\n",
    "\n",
    "        self.cancel()\n",
    "\n",
    "        if exc_type is None:\n",
    "            return\n",
    "\n",
    "        # An exception occurred\n",
    "        if self.print_traceback:\n",
    "            lines = ''.join(\n",
    "                traceback.format_exception(\n",
    "                    exc_type,\n",
    "                    exc_value,\n",
    "                    tb)).strip()\n",
    "        else:\n",
    "            lines = traceback.format_exception_only(\n",
    "                exc_type, exc_value)[-1].strip()\n",
    "\n",
    "        if not self.mute:\n",
    "            print(lines, \"(expected)\", file=sys.stderr)\n",
    "        return True  # Ignore it\n",
    "\n",
    "    def cancel(self) -> None:\n",
    "        sys.settrace(self.original_trace_function)"
   ]
  },
  {
   "cell_type": "markdown",
   "metadata": {
    "button": false,
    "new_sheet": false,
    "run_control": {
     "read_only": false
    },
    "slideshow": {
     "slide_type": "subslide"
    }
   },
   "source": [
    "Here's an example:"
   ]
  },
  {
   "cell_type": "code",
   "execution_count": 12,
   "metadata": {
    "button": false,
    "execution": {
     "iopub.execute_input": "2021-02-27T16:29:09.165337Z",
     "iopub.status.busy": "2021-02-27T16:29:09.164680Z",
     "iopub.status.idle": "2021-02-27T16:29:09.166877Z",
     "shell.execute_reply": "2021-02-27T16:29:09.166436Z"
    },
    "new_sheet": false,
    "run_control": {
     "read_only": false
    },
    "slideshow": {
     "slide_type": "fragment"
    }
   },
   "outputs": [],
   "source": [
    "def long_running_test() -> None:\n",
    "    print(\"Start\")\n",
    "    for i in range(10):\n",
    "        time.sleep(1)\n",
    "        print(i, \"seconds have passed\")\n",
    "    print(\"End\")"
   ]
  },
  {
   "cell_type": "code",
   "execution_count": 13,
   "metadata": {
    "button": false,
    "execution": {
     "iopub.execute_input": "2021-02-27T16:29:09.170458Z",
     "iopub.status.busy": "2021-02-27T16:29:09.169892Z",
     "iopub.status.idle": "2021-02-27T16:29:14.190701Z",
     "shell.execute_reply": "2021-02-27T16:29:14.191088Z"
    },
    "new_sheet": false,
    "run_control": {
     "read_only": false
    },
    "slideshow": {
     "slide_type": "subslide"
    }
   },
   "outputs": [
    {
     "name": "stdout",
     "output_type": "stream",
     "text": [
      "Start\n",
      "0 seconds have passed\n",
      "1 seconds have passed\n",
      "2 seconds have passed\n",
      "3 seconds have passed\n"
     ]
    },
    {
     "name": "stderr",
     "output_type": "stream",
     "text": [
      "TimeoutError (expected)\n"
     ]
    }
   ],
   "source": [
    "with ExpectTimeout(5, print_traceback=False):\n",
    "    long_running_test()"
   ]
  },
  {
   "cell_type": "markdown",
   "metadata": {
    "button": false,
    "new_sheet": false,
    "run_control": {
     "read_only": false
    },
    "slideshow": {
     "slide_type": "fragment"
    }
   },
   "source": [
    "Note that it is possible to nest multiple timeouts."
   ]
  },
  {
   "cell_type": "code",
   "execution_count": 14,
   "metadata": {
    "button": false,
    "execution": {
     "iopub.execute_input": "2021-02-27T16:29:14.195163Z",
     "iopub.status.busy": "2021-02-27T16:29:14.194417Z",
     "iopub.status.idle": "2021-02-27T16:29:19.213774Z",
     "shell.execute_reply": "2021-02-27T16:29:19.214276Z"
    },
    "new_sheet": false,
    "run_control": {
     "read_only": false
    },
    "slideshow": {
     "slide_type": "subslide"
    }
   },
   "outputs": [
    {
     "name": "stdout",
     "output_type": "stream",
     "text": [
      "Start\n",
      "0 seconds have passed\n",
      "1 seconds have passed\n"
     ]
    },
    {
     "name": "stderr",
     "output_type": "stream",
     "text": [
      "Traceback (most recent call last):\n",
      "  File \"<ipython-input-1-d87d5d50b60e>\", line 3, in <module>\n",
      "    long_running_test()\n",
      "  File \"<ipython-input-1-c23727bcee7d>\", line 5, in long_running_test\n",
      "    print(i, \"seconds have passed\")\n",
      "  File \"<ipython-input-1-c23727bcee7d>\", line 5, in long_running_test\n",
      "    print(i, \"seconds have passed\")\n",
      "  File \"<ipython-input-1-a8ce35c8777b>\", line 25, in check_time\n",
      "    raise TimeoutError\n",
      "TimeoutError (expected)\n"
     ]
    },
    {
     "name": "stdout",
     "output_type": "stream",
     "text": [
      "Start\n",
      "0 seconds have passed\n"
     ]
    },
    {
     "name": "stderr",
     "output_type": "stream",
     "text": [
      "Traceback (most recent call last):\n",
      "  File \"<ipython-input-1-d87d5d50b60e>\", line 4, in <module>\n",
      "    long_running_test()\n",
      "  File \"<ipython-input-1-c23727bcee7d>\", line 5, in long_running_test\n",
      "    print(i, \"seconds have passed\")\n",
      "  File \"<ipython-input-1-c23727bcee7d>\", line 5, in long_running_test\n",
      "    print(i, \"seconds have passed\")\n",
      "  File \"<ipython-input-1-a8ce35c8777b>\", line 25, in check_time\n",
      "    raise TimeoutError\n",
      "TimeoutError (expected)\n"
     ]
    }
   ],
   "source": [
    "with ExpectTimeout(5):\n",
    "    with ExpectTimeout(3):\n",
    "        long_running_test()\n",
    "    long_running_test()"
   ]
  },
  {
   "cell_type": "markdown",
   "metadata": {
    "button": false,
    "new_sheet": false,
    "run_control": {
     "read_only": false
    },
    "slideshow": {
     "slide_type": "subslide"
    }
   },
   "source": [
    "That's it, folks – enjoy!"
   ]
  },
  {
   "cell_type": "markdown",
   "metadata": {
    "slideshow": {
     "slide_type": "slide"
    }
   },
   "source": [
    "## Synopsis\n",
    "\n",
    "The `ExpectError` class allows you to catch and report exceptions, yet resume execution.  This is useful in notebooks, as they would normally interrupt execution as soon as an exception is raised.  Its typical usage is in conjunction with a `with` clause:"
   ]
  },
  {
   "cell_type": "code",
   "execution_count": 15,
   "metadata": {
    "execution": {
     "iopub.execute_input": "2021-02-27T16:29:19.217968Z",
     "iopub.status.busy": "2021-02-27T16:29:19.217250Z",
     "iopub.status.idle": "2021-02-27T16:29:19.219687Z",
     "shell.execute_reply": "2021-02-27T16:29:19.220084Z"
    },
    "slideshow": {
     "slide_type": "fragment"
    }
   },
   "outputs": [
    {
     "name": "stderr",
     "output_type": "stream",
     "text": [
      "Traceback (most recent call last):\n",
      "  File \"<ipython-input-1-264328004f25>\", line 2, in <module>\n",
      "    x = 1 / 0\n",
      "ZeroDivisionError: division by zero (expected)\n"
     ]
    }
   ],
   "source": [
    "with ExpectError():\n",
    "    x = 1 / 0"
   ]
  },
  {
   "cell_type": "markdown",
   "metadata": {
    "slideshow": {
     "slide_type": "subslide"
    }
   },
   "source": [
    "The `ExpectTimeout` class allows you to interrupt execution after the specified time.  This is useful for interrupting code that might otherwise run forever."
   ]
  },
  {
   "cell_type": "code",
   "execution_count": 16,
   "metadata": {
    "execution": {
     "iopub.execute_input": "2021-02-27T16:29:19.223462Z",
     "iopub.status.busy": "2021-02-27T16:29:19.222940Z",
     "iopub.status.idle": "2021-02-27T16:29:24.249678Z",
     "shell.execute_reply": "2021-02-27T16:29:24.250211Z"
    },
    "slideshow": {
     "slide_type": "subslide"
    }
   },
   "outputs": [
    {
     "name": "stdout",
     "output_type": "stream",
     "text": [
      "Start\n",
      "0 seconds have passed\n",
      "1 seconds have passed\n",
      "2 seconds have passed\n",
      "3 seconds have passed\n"
     ]
    },
    {
     "name": "stderr",
     "output_type": "stream",
     "text": [
      "Traceback (most recent call last):\n",
      "  File \"<ipython-input-1-7e5136e65261>\", line 2, in <module>\n",
      "    long_running_test()\n",
      "  File \"<ipython-input-1-c23727bcee7d>\", line 5, in long_running_test\n",
      "    print(i, \"seconds have passed\")\n",
      "  File \"<ipython-input-1-c23727bcee7d>\", line 5, in long_running_test\n",
      "    print(i, \"seconds have passed\")\n",
      "  File \"<ipython-input-1-a8ce35c8777b>\", line 25, in check_time\n",
      "    raise TimeoutError\n",
      "TimeoutError (expected)\n"
     ]
    }
   ],
   "source": [
    "with ExpectTimeout(5):\n",
    "    long_running_test()"
   ]
  },
  {
   "cell_type": "markdown",
   "metadata": {
    "slideshow": {
     "slide_type": "subslide"
    }
   },
   "source": [
    "The exception and the associated traceback are printed as error messages.  If you do not want that, \n",
    "use these keyword options:\n",
    "\n",
    "* `print_traceback` (default True) can be set to `False` to avoid the traceback being printed\n",
    "* `mute` (default False) can be set to `True` to completely avoid any output."
   ]
  },
  {
   "cell_type": "markdown",
   "metadata": {
    "button": false,
    "new_sheet": true,
    "run_control": {
     "read_only": false
    },
    "slideshow": {
     "slide_type": "slide"
    }
   },
   "source": [
    "## Lessons Learned\n",
    "\n",
    "* With the `ExpectError` class, it is very easy to handle errors without interrupting notebook execution."
   ]
  }
 ],
 "metadata": {
  "ipub": {
   "bibliography": "fuzzingbook.bib",
   "toc": true
  },
  "kernelspec": {
   "display_name": "Python 3",
   "language": "python",
   "name": "python3"
  },
  "language_info": {
   "codemirror_mode": {
    "name": "ipython",
    "version": 3
   },
   "file_extension": ".py",
   "mimetype": "text/x-python",
   "name": "python",
   "nbconvert_exporter": "python",
   "pygments_lexer": "ipython3",
   "version": "3.6.10"
  },
  "toc": {
   "base_numbering": 1,
   "nav_menu": {},
   "number_sections": true,
   "sideBar": true,
   "skip_h1_title": true,
   "title_cell": "",
   "title_sidebar": "Contents",
   "toc_cell": false,
   "toc_position": {},
   "toc_section_display": true,
   "toc_window_display": true
  },
  "toc-autonumbering": false
 },
 "nbformat": 4,
 "nbformat_minor": 4
}