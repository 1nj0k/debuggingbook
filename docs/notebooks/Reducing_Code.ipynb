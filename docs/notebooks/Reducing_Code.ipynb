{
 "cells": [
  {
   "cell_type": "markdown",
   "metadata": {
    "heading_collapsed": true,
    "slideshow": {
     "slide_type": "slide"
    }
   },
   "source": [
    "# Second Project"
   ]
  },
  {
   "cell_type": "markdown",
   "metadata": {
    "hidden": true,
    "slideshow": {
     "slide_type": "fragment"
    }
   },
   "source": [
    "In this project, you will implement a debugging reducer able to reduce a Python program containing a specific property down to a syntactically correct Python program that *only* contains said property.\n",
    "To do this, you will be given several Python parsers checking for specific properties as well as Python programs containing these properties.\n",
    "\n",
    "The time frame for this project is **2 weeks**, and the Deadline is **January 15th 23:59**."
   ]
  },
  {
   "cell_type": "code",
   "execution_count": 1,
   "metadata": {
    "collapsed": false,
    "execution": {
     "iopub.execute_input": "2022-08-06T23:26:41.010217Z",
     "iopub.status.busy": "2022-08-06T23:26:41.009706Z",
     "iopub.status.idle": "2022-08-06T23:26:41.045363Z",
     "shell.execute_reply": "2022-08-06T23:26:41.045569Z"
    },
    "jupyter": {
     "outputs_hidden": false
    },
    "pycharm": {
     "name": "#%%\n"
    },
    "slideshow": {
     "slide_type": "skip"
    }
   },
   "outputs": [],
   "source": [
    "import bookutils"
   ]
  },
  {
   "cell_type": "code",
   "execution_count": 2,
   "metadata": {
    "execution": {
     "iopub.execute_input": "2022-08-06T23:26:41.047386Z",
     "iopub.status.busy": "2022-08-06T23:26:41.046924Z",
     "iopub.status.idle": "2022-08-06T23:26:41.048722Z",
     "shell.execute_reply": "2022-08-06T23:26:41.048961Z"
    },
    "hidden": true,
    "pycharm": {
     "name": "#%%\n"
    },
    "slideshow": {
     "slide_type": "skip"
    }
   },
   "outputs": [],
   "source": [
    "import inspect\n",
    "import ast"
   ]
  },
  {
   "cell_type": "code",
   "execution_count": 3,
   "metadata": {
    "execution": {
     "iopub.execute_input": "2022-08-06T23:26:41.050907Z",
     "iopub.status.busy": "2022-08-06T23:26:41.050606Z",
     "iopub.status.idle": "2022-08-06T23:26:41.051767Z",
     "shell.execute_reply": "2022-08-06T23:26:41.051965Z"
    },
    "slideshow": {
     "slide_type": "skip"
    }
   },
   "outputs": [],
   "source": [
    "from bookutils import show_ast"
   ]
  },
  {
   "cell_type": "code",
   "execution_count": 4,
   "metadata": {
    "collapsed": false,
    "execution": {
     "iopub.execute_input": "2022-08-06T23:26:41.053746Z",
     "iopub.status.busy": "2022-08-06T23:26:41.053238Z",
     "iopub.status.idle": "2022-08-06T23:26:41.081249Z",
     "shell.execute_reply": "2022-08-06T23:26:41.081451Z"
    },
    "jupyter": {
     "outputs_hidden": false
    },
    "pycharm": {
     "name": "#%%\n"
    },
    "slideshow": {
     "slide_type": "skip"
    }
   },
   "outputs": [],
   "source": [
    "from ExpectError import ExpectError"
   ]
  },
  {
   "cell_type": "code",
   "execution_count": 5,
   "metadata": {
    "execution": {
     "iopub.execute_input": "2022-08-06T23:26:41.083534Z",
     "iopub.status.busy": "2022-08-06T23:26:41.083138Z",
     "iopub.status.idle": "2022-08-06T23:26:41.084530Z",
     "shell.execute_reply": "2022-08-06T23:26:41.084720Z"
    },
    "slideshow": {
     "slide_type": "fragment"
    }
   },
   "outputs": [],
   "source": [
    "# ignore\n",
    "from typing import Any, Optional, Set, cast"
   ]
  },
  {
   "cell_type": "markdown",
   "metadata": {
    "hidden": true,
    "pycharm": {
     "name": "#%% md\n"
    },
    "slideshow": {
     "slide_type": "slide"
    }
   },
   "source": [
    "## Description\n",
    "\n",
    "Imagine we want to create a new compiler for Python programs which transforms the code into a binary executable.\n",
    "To this end, at first we need to implement a parser that parses a given program into a set of individual statements which can then be converted to the bytecode."
   ]
  },
  {
   "cell_type": "markdown",
   "metadata": {
    "hidden": true,
    "pycharm": {
     "name": "#%% md\n"
    },
    "slideshow": {
     "slide_type": "subslide"
    }
   },
   "source": [
    "### Parsing Python  \n",
    "\n",
    "If we want to parse a programming language like Python, it makes sense to parse the code into an abstract syntax tree (AST) and work with the AST from this point onward.\n",
    "The reason we might want to do this, is to preserve the syntactic integrity of our program.\n",
    "Let's start with parsing a simple Python function (`foo`) into an AST using `ast.parse()` and printing it."
   ]
  },
  {
   "cell_type": "code",
   "execution_count": 6,
   "metadata": {
    "execution": {
     "iopub.execute_input": "2022-08-06T23:26:41.087015Z",
     "iopub.status.busy": "2022-08-06T23:26:41.086663Z",
     "iopub.status.idle": "2022-08-06T23:26:41.087979Z",
     "shell.execute_reply": "2022-08-06T23:26:41.088178Z"
    },
    "slideshow": {
     "slide_type": "subslide"
    }
   },
   "outputs": [],
   "source": [
    "def foo(a, b):    # type: ignore\n",
    "    \"\"\"\n",
    "    Checks whether a and b are true\n",
    "    \"\"\"\n",
    "    if a and b:\n",
    "        return 1\n",
    "    return 0"
   ]
  },
  {
   "cell_type": "markdown",
   "metadata": {
    "pycharm": {
     "name": "#%% md\n"
    },
    "slideshow": {
     "slide_type": "fragment"
    }
   },
   "source": [
    "We take a string representation of `foo()`..."
   ]
  },
  {
   "cell_type": "code",
   "execution_count": 7,
   "metadata": {
    "execution": {
     "iopub.execute_input": "2022-08-06T23:26:41.090075Z",
     "iopub.status.busy": "2022-08-06T23:26:41.089691Z",
     "iopub.status.idle": "2022-08-06T23:26:41.091349Z",
     "shell.execute_reply": "2022-08-06T23:26:41.091566Z"
    },
    "slideshow": {
     "slide_type": "fragment"
    }
   },
   "outputs": [],
   "source": [
    "source = inspect.getsource(foo)"
   ]
  },
  {
   "cell_type": "code",
   "execution_count": 8,
   "metadata": {
    "execution": {
     "iopub.execute_input": "2022-08-06T23:26:41.093311Z",
     "iopub.status.busy": "2022-08-06T23:26:41.093002Z",
     "iopub.status.idle": "2022-08-06T23:26:41.113571Z",
     "shell.execute_reply": "2022-08-06T23:26:41.113876Z"
    },
    "pycharm": {
     "name": "#%%\n"
    },
    "slideshow": {
     "slide_type": "subslide"
    }
   },
   "outputs": [
    {
     "name": "stdout",
     "output_type": "stream",
     "text": [
      "def foo(a, b):    # type: ignore\n",
      "    \"\"\"\n",
      "    Checks whether a and b are true\n",
      "    \"\"\"\n",
      "    if a and b:\n",
      "        return 1\n",
      "    return 0\n",
      "\n"
     ]
    }
   ],
   "source": [
    "print(source)"
   ]
  },
  {
   "cell_type": "markdown",
   "metadata": {
    "pycharm": {
     "name": "#%% md\n"
    },
    "slideshow": {
     "slide_type": "fragment"
    }
   },
   "source": [
    "...and convert it to the AST:"
   ]
  },
  {
   "cell_type": "code",
   "execution_count": 9,
   "metadata": {
    "collapsed": false,
    "execution": {
     "iopub.execute_input": "2022-08-06T23:26:41.116353Z",
     "iopub.status.busy": "2022-08-06T23:26:41.115939Z",
     "iopub.status.idle": "2022-08-06T23:26:41.421264Z",
     "shell.execute_reply": "2022-08-06T23:26:41.421473Z"
    },
    "jupyter": {
     "outputs_hidden": false
    },
    "pycharm": {
     "name": "#%%\n"
    },
    "slideshow": {
     "slide_type": "fragment"
    }
   },
   "outputs": [
    {
     "data": {
      "image/svg+xml": [
       "<svg xmlns=\"http://www.w3.org/2000/svg\" xmlns:xlink=\"http://www.w3.org/1999/xlink\" width=\"524pt\" height=\"332pt\" viewBox=\"0.00 0.00 524.00 332.00\">\n",
       "<g id=\"graph0\" class=\"graph\" transform=\"scale(1 1) rotate(0) translate(4 328)\">\n",
       "<polygon fill=\"white\" stroke=\"transparent\" points=\"-4,4 -4,-328 520,-328 520,4 -4,4\"/>\n",
       "<!-- 0 -->\n",
       "<g id=\"node1\" class=\"node\">\n",
       "<title>0</title>\n",
       "<text text-anchor=\"start\" x=\"164.5\" y=\"-303.3\" font-family=\"Courier,monospace\" font-weight=\"bold\" font-size=\"14.00\" fill=\"#004080\">FunctionDef</text>\n",
       "</g>\n",
       "<!-- 1 -->\n",
       "<g id=\"node2\" class=\"node\">\n",
       "<title>1</title>\n",
       "<text text-anchor=\"middle\" x=\"45\" y=\"-230.3\" font-family=\"Courier,monospace\" font-size=\"14.00\" fill=\"#008040\">&quot;foo&quot;</text>\n",
       "</g>\n",
       "<!-- 0&#45;&#45;1 -->\n",
       "<g id=\"edge1\" class=\"edge\">\n",
       "<title>0--1</title>\n",
       "<path fill=\"none\" stroke=\"black\" d=\"M208,-287C208,-287 137.26,-271.61 83,-252 80.15,-250.97 77.2,-249.82 74.28,-248.61\"/>\n",
       "</g>\n",
       "<!-- 2 -->\n",
       "<g id=\"node3\" class=\"node\">\n",
       "<title>2</title>\n",
       "<text text-anchor=\"start\" x=\"100.5\" y=\"-231.3\" font-family=\"Courier,monospace\" font-weight=\"bold\" font-size=\"14.00\" fill=\"#004080\">arguments</text>\n",
       "</g>\n",
       "<!-- 0&#45;&#45;2 -->\n",
       "<g id=\"edge2\" class=\"edge\">\n",
       "<title>0--2</title>\n",
       "<path fill=\"none\" stroke=\"black\" d=\"M208,-287C208,-287 181.34,-267.19 160.92,-252.03\"/>\n",
       "</g>\n",
       "<!-- 7 -->\n",
       "<g id=\"node8\" class=\"node\">\n",
       "<title>7</title>\n",
       "<text text-anchor=\"start\" x=\"234.5\" y=\"-231.3\" font-family=\"Courier,monospace\" font-weight=\"bold\" font-size=\"14.00\" fill=\"#004080\">If</text>\n",
       "</g>\n",
       "<!-- 0&#45;&#45;7 -->\n",
       "<g id=\"edge7\" class=\"edge\">\n",
       "<title>0--7</title>\n",
       "<path fill=\"none\" stroke=\"black\" d=\"M208,-287C208,-287 221.33,-267.19 231.54,-252.03\"/>\n",
       "</g>\n",
       "<!-- 19 -->\n",
       "<g id=\"node20\" class=\"node\">\n",
       "<title>19</title>\n",
       "<text text-anchor=\"start\" x=\"371\" y=\"-231.3\" font-family=\"Courier,monospace\" font-weight=\"bold\" font-size=\"14.00\" fill=\"#004080\">Return</text>\n",
       "</g>\n",
       "<!-- 0&#45;&#45;19 -->\n",
       "<g id=\"edge19\" class=\"edge\">\n",
       "<title>0--19</title>\n",
       "<path fill=\"none\" stroke=\"black\" d=\"M208,-287C208,-287 308.85,-259.11 362.82,-244.18\"/>\n",
       "</g>\n",
       "<!-- 3 -->\n",
       "<g id=\"node4\" class=\"node\">\n",
       "<title>3</title>\n",
       "<text text-anchor=\"start\" x=\"27.5\" y=\"-159.3\" font-family=\"Courier,monospace\" font-weight=\"bold\" font-size=\"14.00\" fill=\"#004080\">arg</text>\n",
       "</g>\n",
       "<!-- 2&#45;&#45;3 -->\n",
       "<g id=\"edge3\" class=\"edge\">\n",
       "<title>2--3</title>\n",
       "<path fill=\"none\" stroke=\"black\" d=\"M124,-215C124,-215 91.6,-194.94 67.04,-179.74\"/>\n",
       "</g>\n",
       "<!-- 5 -->\n",
       "<g id=\"node6\" class=\"node\">\n",
       "<title>5</title>\n",
       "<text text-anchor=\"start\" x=\"99.5\" y=\"-159.3\" font-family=\"Courier,monospace\" font-weight=\"bold\" font-size=\"14.00\" fill=\"#004080\">arg</text>\n",
       "</g>\n",
       "<!-- 2&#45;&#45;5 -->\n",
       "<g id=\"edge5\" class=\"edge\">\n",
       "<title>2--5</title>\n",
       "<path fill=\"none\" stroke=\"black\" d=\"M124,-215C124,-215 119.43,-195.19 115.93,-180.03\"/>\n",
       "</g>\n",
       "<!-- 4 -->\n",
       "<g id=\"node5\" class=\"node\">\n",
       "<title>4</title>\n",
       "<text text-anchor=\"middle\" x=\"27\" y=\"-86.3\" font-family=\"Courier,monospace\" font-size=\"14.00\" fill=\"#008040\">&quot;a&quot;</text>\n",
       "</g>\n",
       "<!-- 3&#45;&#45;4 -->\n",
       "<g id=\"edge4\" class=\"edge\">\n",
       "<title>3--4</title>\n",
       "<path fill=\"none\" stroke=\"black\" d=\"M36.79,-143.7C34.77,-132.85 32.18,-118.92 30.18,-108.1\"/>\n",
       "</g>\n",
       "<!-- 6 -->\n",
       "<g id=\"node7\" class=\"node\">\n",
       "<title>6</title>\n",
       "<text text-anchor=\"middle\" x=\"99\" y=\"-86.3\" font-family=\"Courier,monospace\" font-size=\"14.00\" fill=\"#008040\">&quot;b&quot;</text>\n",
       "</g>\n",
       "<!-- 5&#45;&#45;6 -->\n",
       "<g id=\"edge6\" class=\"edge\">\n",
       "<title>5--6</title>\n",
       "<path fill=\"none\" stroke=\"black\" d=\"M108.79,-143.7C106.77,-132.85 104.18,-118.92 102.18,-108.1\"/>\n",
       "</g>\n",
       "<!-- 8 -->\n",
       "<g id=\"node9\" class=\"node\">\n",
       "<title>8</title>\n",
       "<text text-anchor=\"start\" x=\"218\" y=\"-159.3\" font-family=\"Courier,monospace\" font-weight=\"bold\" font-size=\"14.00\" fill=\"#004080\">BoolOp</text>\n",
       "</g>\n",
       "<!-- 7&#45;&#45;8 -->\n",
       "<g id=\"edge8\" class=\"edge\">\n",
       "<title>7--8</title>\n",
       "<path fill=\"none\" stroke=\"black\" d=\"M253,-215C253,-215 249.19,-195.19 246.27,-180.03\"/>\n",
       "</g>\n",
       "<!-- 16 -->\n",
       "<g id=\"node17\" class=\"node\">\n",
       "<title>16</title>\n",
       "<text text-anchor=\"start\" x=\"336\" y=\"-159.3\" font-family=\"Courier,monospace\" font-weight=\"bold\" font-size=\"14.00\" fill=\"#004080\">Return</text>\n",
       "</g>\n",
       "<!-- 7&#45;&#45;16 -->\n",
       "<g id=\"edge16\" class=\"edge\">\n",
       "<title>7--16</title>\n",
       "<path fill=\"none\" stroke=\"black\" d=\"M253,-215C253,-215 295.98,-194.3 327.72,-179.03\"/>\n",
       "</g>\n",
       "<!-- 9 -->\n",
       "<g id=\"node10\" class=\"node\">\n",
       "<title>9</title>\n",
       "<text text-anchor=\"middle\" x=\"171\" y=\"-86.3\" font-family=\"Courier,monospace\" font-size=\"14.00\" fill=\"#008040\">And</text>\n",
       "</g>\n",
       "<!-- 8&#45;&#45;9 -->\n",
       "<g id=\"edge9\" class=\"edge\">\n",
       "<title>8--9</title>\n",
       "<path fill=\"none\" stroke=\"black\" d=\"M243,-143C243,-143 215.57,-123.19 194.58,-108.03\"/>\n",
       "</g>\n",
       "<!-- 10 -->\n",
       "<g id=\"node11\" class=\"node\">\n",
       "<title>10</title>\n",
       "<text text-anchor=\"start\" x=\"226\" y=\"-87.3\" font-family=\"Courier,monospace\" font-weight=\"bold\" font-size=\"14.00\" fill=\"#004080\">Name</text>\n",
       "</g>\n",
       "<!-- 8&#45;&#45;10 -->\n",
       "<g id=\"edge10\" class=\"edge\">\n",
       "<title>8--10</title>\n",
       "<path fill=\"none\" stroke=\"black\" d=\"M243,-143C243,-143 243,-123.19 243,-108.03\"/>\n",
       "</g>\n",
       "<!-- 13 -->\n",
       "<g id=\"node14\" class=\"node\">\n",
       "<title>13</title>\n",
       "<text text-anchor=\"start\" x=\"298\" y=\"-87.3\" font-family=\"Courier,monospace\" font-weight=\"bold\" font-size=\"14.00\" fill=\"#004080\">Name</text>\n",
       "</g>\n",
       "<!-- 8&#45;&#45;13 -->\n",
       "<g id=\"edge13\" class=\"edge\">\n",
       "<title>8--13</title>\n",
       "<path fill=\"none\" stroke=\"black\" d=\"M243,-143C243,-143 270.43,-123.19 291.42,-108.03\"/>\n",
       "</g>\n",
       "<!-- 11 -->\n",
       "<g id=\"node12\" class=\"node\">\n",
       "<title>11</title>\n",
       "<text text-anchor=\"middle\" x=\"171\" y=\"-14.3\" font-family=\"Courier,monospace\" font-size=\"14.00\" fill=\"#008040\">&quot;a&quot;</text>\n",
       "</g>\n",
       "<!-- 10&#45;&#45;11 -->\n",
       "<g id=\"edge11\" class=\"edge\">\n",
       "<title>10--11</title>\n",
       "<path fill=\"none\" stroke=\"black\" d=\"M235,-71C235,-71 210.62,-51.19 191.96,-36.03\"/>\n",
       "</g>\n",
       "<!-- 12 -->\n",
       "<g id=\"node13\" class=\"node\">\n",
       "<title>12</title>\n",
       "<text text-anchor=\"middle\" x=\"243\" y=\"-14.3\" font-family=\"Courier,monospace\" font-size=\"14.00\" fill=\"#008040\">Load</text>\n",
       "</g>\n",
       "<!-- 10&#45;&#45;12 -->\n",
       "<g id=\"edge12\" class=\"edge\">\n",
       "<title>10--12</title>\n",
       "<path fill=\"none\" stroke=\"black\" d=\"M235,-71C235,-71 238.05,-51.19 240.38,-36.03\"/>\n",
       "</g>\n",
       "<!-- 14 -->\n",
       "<g id=\"node15\" class=\"node\">\n",
       "<title>14</title>\n",
       "<text text-anchor=\"middle\" x=\"315\" y=\"-14.3\" font-family=\"Courier,monospace\" font-size=\"14.00\" fill=\"#008040\">&quot;b&quot;</text>\n",
       "</g>\n",
       "<!-- 13&#45;&#45;14 -->\n",
       "<g id=\"edge14\" class=\"edge\">\n",
       "<title>13--14</title>\n",
       "<path fill=\"none\" stroke=\"black\" d=\"M323,-71C323,-71 319.95,-51.19 317.62,-36.03\"/>\n",
       "</g>\n",
       "<!-- 15 -->\n",
       "<g id=\"node16\" class=\"node\">\n",
       "<title>15</title>\n",
       "<text text-anchor=\"middle\" x=\"387\" y=\"-14.3\" font-family=\"Courier,monospace\" font-size=\"14.00\" fill=\"#008040\">Load</text>\n",
       "</g>\n",
       "<!-- 13&#45;&#45;15 -->\n",
       "<g id=\"edge15\" class=\"edge\">\n",
       "<title>13--15</title>\n",
       "<path fill=\"none\" stroke=\"black\" d=\"M323,-71C323,-71 347.38,-51.19 366.04,-36.03\"/>\n",
       "</g>\n",
       "<!-- 17 -->\n",
       "<g id=\"node18\" class=\"node\">\n",
       "<title>17</title>\n",
       "<text text-anchor=\"start\" x=\"368.5\" y=\"-87.3\" font-family=\"Courier,monospace\" font-weight=\"bold\" font-size=\"14.00\" fill=\"#004080\">Constant</text>\n",
       "</g>\n",
       "<!-- 16&#45;&#45;17 -->\n",
       "<g id=\"edge17\" class=\"edge\">\n",
       "<title>16--17</title>\n",
       "<path fill=\"none\" stroke=\"black\" d=\"M371.13,-143.7C377.49,-132.85 385.65,-118.92 391.98,-108.1\"/>\n",
       "</g>\n",
       "<!-- 18 -->\n",
       "<g id=\"node19\" class=\"node\">\n",
       "<title>18</title>\n",
       "<text text-anchor=\"middle\" x=\"459\" y=\"-14.3\" font-family=\"Courier,monospace\" font-size=\"14.00\" fill=\"#008040\">1</text>\n",
       "</g>\n",
       "<!-- 17&#45;&#45;18 -->\n",
       "<g id=\"edge18\" class=\"edge\">\n",
       "<title>17--18</title>\n",
       "<path fill=\"none\" stroke=\"black\" d=\"M416.09,-71.7C424.93,-60.85 436.27,-46.92 445.07,-36.1\"/>\n",
       "</g>\n",
       "<!-- 20 -->\n",
       "<g id=\"node21\" class=\"node\">\n",
       "<title>20</title>\n",
       "<text text-anchor=\"start\" x=\"437.5\" y=\"-159.3\" font-family=\"Courier,monospace\" font-weight=\"bold\" font-size=\"14.00\" fill=\"#004080\">Constant</text>\n",
       "</g>\n",
       "<!-- 19&#45;&#45;20 -->\n",
       "<g id=\"edge20\" class=\"edge\">\n",
       "<title>19--20</title>\n",
       "<path fill=\"none\" stroke=\"black\" d=\"M414.54,-215.7C426.16,-204.85 441.09,-190.92 452.67,-180.1\"/>\n",
       "</g>\n",
       "<!-- 21 -->\n",
       "<g id=\"node22\" class=\"node\">\n",
       "<title>21</title>\n",
       "<text text-anchor=\"middle\" x=\"489\" y=\"-86.3\" font-family=\"Courier,monospace\" font-size=\"14.00\" fill=\"#008040\">0</text>\n",
       "</g>\n",
       "<!-- 20&#45;&#45;21 -->\n",
       "<g id=\"edge21\" class=\"edge\">\n",
       "<title>20--21</title>\n",
       "<path fill=\"none\" stroke=\"black\" d=\"M475.45,-143.7C478.24,-132.85 481.82,-118.92 484.6,-108.1\"/>\n",
       "</g>\n",
       "</g>\n",
       "</svg>"
      ],
      "text/plain": [
       "<IPython.core.display.SVG object>"
      ]
     },
     "metadata": {},
     "output_type": "display_data"
    }
   ],
   "source": [
    "source_ast = ast.parse(source)\n",
    "show_ast(source_ast)"
   ]
  },
  {
   "cell_type": "markdown",
   "metadata": {
    "pycharm": {
     "name": "#%% md\n"
    },
    "slideshow": {
     "slide_type": "subslide"
    }
   },
   "source": [
    "We can see how the code is structured by inspecting the AST shown above."
   ]
  },
  {
   "cell_type": "markdown",
   "metadata": {
    "slideshow": {
     "slide_type": "fragment"
    }
   },
   "source": [
    "To learn the structure of an AST, have a look at the [official Python `ast` reference](http://docs.python.org/3/library/ast) for a list of AST nodes and their attributes.\n",
    "This reference is complete, but a bit terse; the [\"Green Tree Snakes missing Python AST docs\"](https://greentreesnakes.readthedocs.io/en/latest/manipulating.html) provide a good manual on how to modify the tree."
   ]
  },
  {
   "cell_type": "markdown",
   "metadata": {
    "pycharm": {
     "name": "#%% md\n"
    },
    "slideshow": {
     "slide_type": "subslide"
    }
   },
   "source": [
    "If we want to inspect certain elements of the source code, we can now use the `ast.NodeVisitor` to visit every node in the AST.\n",
    "This can be done by extending this class and implementing *visit-methods* for each type of node in the tree we want to inspect.  \n",
    "So, let's implement a parser that first parses the source code into an AST and then visits each node one after another."
   ]
  },
  {
   "cell_type": "code",
   "execution_count": 10,
   "metadata": {
    "execution": {
     "iopub.execute_input": "2022-08-06T23:26:41.425763Z",
     "iopub.status.busy": "2022-08-06T23:26:41.425451Z",
     "iopub.status.idle": "2022-08-06T23:26:41.426631Z",
     "shell.execute_reply": "2022-08-06T23:26:41.426823Z"
    },
    "hidden": true,
    "pycharm": {
     "name": "#%%\n"
    },
    "slideshow": {
     "slide_type": "subslide"
    }
   },
   "outputs": [],
   "source": [
    "class SimpleParser(ast.NodeVisitor):\n",
    "    \"\"\"\n",
    "    A simple parser printing all nodes in order\n",
    "    \"\"\"\n",
    "\n",
    "    def parse(self, file: str) -> None:\n",
    "        \"\"\"\n",
    "        When the parse function is called, we parse the source code\n",
    "        into a tree and then start visiting all nodes.\n",
    "        \"\"\"\n",
    "        tree = ast.parse(source=file)\n",
    "        self.visit(tree)\n",
    "\n",
    "    def visit_FunctionDef(self, node: ast.FunctionDef) -> None:\n",
    "        print(node)\n",
    "        self.generic_visit(node)\n",
    "\n",
    "    def visit_arguments(self, node: ast.arguments) -> None:\n",
    "        print(node)\n",
    "        self.generic_visit(node)\n",
    "\n",
    "    def visit_If(self, node: ast.If) -> None:\n",
    "        print(node)\n",
    "        self.generic_visit(node)\n",
    "\n",
    "    def visit_Return(self, node: ast.Return) -> None:\n",
    "        print(node)\n",
    "        self.generic_visit(node)\n",
    "\n",
    "    def visit_arg(self, node: ast.arg) -> None:\n",
    "        print(node)\n",
    "        self.generic_visit(node)\n",
    "\n",
    "    def visit_Constant(self, node: ast.Constant) -> None:\n",
    "        print(node)\n",
    "        self.generic_visit(node)\n",
    "\n",
    "    def visit_Name(self, node: ast.Name) -> None:\n",
    "        print(node)\n",
    "        self.generic_visit(node)\n",
    "\n",
    "    def visit_BoolOp(self, node: ast.BoolOp) -> None:\n",
    "        print(node)\n",
    "        self.generic_visit(node)"
   ]
  },
  {
   "cell_type": "markdown",
   "metadata": {
    "pycharm": {
     "name": "#%% md\n"
    },
    "slideshow": {
     "slide_type": "subslide"
    }
   },
   "source": [
    "Using this `SimpleParser`, we can visit each node and print the node object itself."
   ]
  },
  {
   "cell_type": "code",
   "execution_count": 11,
   "metadata": {
    "execution": {
     "iopub.execute_input": "2022-08-06T23:26:41.428699Z",
     "iopub.status.busy": "2022-08-06T23:26:41.428375Z",
     "iopub.status.idle": "2022-08-06T23:26:41.429732Z",
     "shell.execute_reply": "2022-08-06T23:26:41.429991Z"
    },
    "pycharm": {
     "name": "#%%\n"
    },
    "slideshow": {
     "slide_type": "subslide"
    }
   },
   "outputs": [
    {
     "name": "stdout",
     "output_type": "stream",
     "text": [
      "<ast.FunctionDef object at 0x104758b80>\n",
      "<ast.arguments object at 0x104758be0>\n",
      "<ast.arg object at 0x104758b50>\n",
      "<ast.arg object at 0x104758c10>\n",
      "<ast.Constant object at 0x104758a90>\n",
      "<ast.If object at 0x104758a60>\n",
      "<ast.BoolOp object at 0x104758af0>\n",
      "<ast.Name object at 0x104758a30>\n",
      "<ast.Name object at 0x104758c40>\n",
      "<ast.Return object at 0x104758910>\n",
      "<ast.Constant object at 0x1047586a0>\n",
      "<ast.Return object at 0x104758640>\n",
      "<ast.Constant object at 0x104758820>\n"
     ]
    }
   ],
   "source": [
    "SimpleParser().parse(source)"
   ]
  },
  {
   "cell_type": "markdown",
   "metadata": {
    "pycharm": {
     "name": "#%% md\n"
    },
    "slideshow": {
     "slide_type": "subslide"
    }
   },
   "source": [
    "Now imagine, instead of just parsing the input and printing each node, we start to process the information present in each node.\n",
    "To notify the user if anything breaks, we introduce a `ParserException` that is thrown when we encounter a parsing error."
   ]
  },
  {
   "cell_type": "code",
   "execution_count": 12,
   "metadata": {
    "execution": {
     "iopub.execute_input": "2022-08-06T23:26:41.431901Z",
     "iopub.status.busy": "2022-08-06T23:26:41.431576Z",
     "iopub.status.idle": "2022-08-06T23:26:41.432872Z",
     "shell.execute_reply": "2022-08-06T23:26:41.433207Z"
    },
    "pycharm": {
     "name": "#%%\n"
    },
    "slideshow": {
     "slide_type": "fragment"
    }
   },
   "outputs": [],
   "source": [
    "class ParserException(Exception):\n",
    "    pass"
   ]
  },
  {
   "cell_type": "markdown",
   "metadata": {
    "pycharm": {
     "name": "#%% md\n"
    },
    "slideshow": {
     "slide_type": "fragment"
    }
   },
   "source": [
    "For instance, let's consider our parser has troubles processing boolean operators.\n",
    "We simulate this behavior by extending our parser to throw an exception whenever it encounters a `BoolOp` node.\n"
   ]
  },
  {
   "cell_type": "code",
   "execution_count": 13,
   "metadata": {
    "execution": {
     "iopub.execute_input": "2022-08-06T23:26:41.435368Z",
     "iopub.status.busy": "2022-08-06T23:26:41.435083Z",
     "iopub.status.idle": "2022-08-06T23:26:41.436328Z",
     "shell.execute_reply": "2022-08-06T23:26:41.436525Z"
    },
    "pycharm": {
     "name": "#%%\n"
    },
    "slideshow": {
     "slide_type": "subslide"
    }
   },
   "outputs": [],
   "source": [
    "class SimpleParserPlus(SimpleParser):\n",
    "    \"\"\"\n",
    "    A simple parser printing all nodes in order until it reaches a BoolOp\n",
    "    \"\"\"\n",
    "\n",
    "    def visit_BoolOp(self, node: ast.BoolOp) -> None:\n",
    "        \"\"\"\n",
    "        If a BoolOp is encountered, we throw an exception\n",
    "        \"\"\"\n",
    "        raise ParserException(\"Something went wrong\")"
   ]
  },
  {
   "cell_type": "code",
   "execution_count": 14,
   "metadata": {
    "execution": {
     "iopub.execute_input": "2022-08-06T23:26:41.438380Z",
     "iopub.status.busy": "2022-08-06T23:26:41.438047Z",
     "iopub.status.idle": "2022-08-06T23:26:41.440591Z",
     "shell.execute_reply": "2022-08-06T23:26:41.440928Z"
    },
    "pycharm": {
     "name": "#%%\n"
    },
    "slideshow": {
     "slide_type": "subslide"
    }
   },
   "outputs": [
    {
     "name": "stdout",
     "output_type": "stream",
     "text": [
      "<ast.FunctionDef object at 0x1047597b0>\n",
      "<ast.arguments object at 0x104758520>\n",
      "<ast.arg object at 0x104758340>\n",
      "<ast.arg object at 0x1047597e0>\n",
      "<ast.Constant object at 0x104759cc0>\n",
      "<ast.If object at 0x104759cf0>\n"
     ]
    },
    {
     "name": "stderr",
     "output_type": "stream",
     "text": [
      "Traceback (most recent call last):\n",
      "  File \"/var/folders/n2/xd9445p97rb3xh7m1dfx8_4h0006ts/T/ipykernel_39890/257518062.py\", line 2, in <module>\n",
      "    SimpleParserPlus().parse(source)\n",
      "  File \"/var/folders/n2/xd9445p97rb3xh7m1dfx8_4h0006ts/T/ipykernel_39890/2922974276.py\", line 12, in parse\n",
      "    self.visit(tree)\n",
      "  File \"/Users/zeller/.pyenv/versions/3.10.2/lib/python3.10/ast.py\", line 410, in visit\n",
      "    return visitor(node)\n",
      "  File \"/Users/zeller/.pyenv/versions/3.10.2/lib/python3.10/ast.py\", line 418, in generic_visit\n",
      "    self.visit(item)\n",
      "  File \"/Users/zeller/.pyenv/versions/3.10.2/lib/python3.10/ast.py\", line 410, in visit\n",
      "    return visitor(node)\n",
      "  File \"/var/folders/n2/xd9445p97rb3xh7m1dfx8_4h0006ts/T/ipykernel_39890/2922974276.py\", line 16, in visit_FunctionDef\n",
      "    self.generic_visit(node)\n",
      "  File \"/Users/zeller/.pyenv/versions/3.10.2/lib/python3.10/ast.py\", line 418, in generic_visit\n",
      "    self.visit(item)\n",
      "  File \"/Users/zeller/.pyenv/versions/3.10.2/lib/python3.10/ast.py\", line 410, in visit\n",
      "    return visitor(node)\n",
      "  File \"/var/folders/n2/xd9445p97rb3xh7m1dfx8_4h0006ts/T/ipykernel_39890/2922974276.py\", line 24, in visit_If\n",
      "    self.generic_visit(node)\n",
      "  File \"/Users/zeller/.pyenv/versions/3.10.2/lib/python3.10/ast.py\", line 420, in generic_visit\n",
      "    self.visit(value)\n",
      "  File \"/Users/zeller/.pyenv/versions/3.10.2/lib/python3.10/ast.py\", line 410, in visit\n",
      "    return visitor(node)\n",
      "  File \"/var/folders/n2/xd9445p97rb3xh7m1dfx8_4h0006ts/T/ipykernel_39890/1656391407.py\", line 10, in visit_BoolOp\n",
      "    raise ParserException(\"Something went wrong\")\n",
      "ParserException: Something went wrong (expected)\n"
     ]
    }
   ],
   "source": [
    "with ExpectError():\n",
    "    SimpleParserPlus().parse(source)\n"
   ]
  },
  {
   "cell_type": "markdown",
   "metadata": {
    "slideshow": {
     "slide_type": "subslide"
    }
   },
   "source": [
    "As we can see here, as soon as we encounter a boolean operation, an exception is thrown."
   ]
  },
  {
   "cell_type": "markdown",
   "metadata": {
    "pycharm": {
     "name": "#%% md\n"
    },
    "slideshow": {
     "slide_type": "subslide"
    }
   },
   "source": [
    "### Reducing Python\n",
    "\n",
    "Let's get back to our `SimpleParserPlus` example. This parser parses Python code into an AST and then iterates over all nodes. When it reaches a boolean operation, it encounters an error and crashes.  \n",
    "Of course our example is a very small and artificial one. Furthermore, the input triggering our bug is rather small as well.\n",
    "However, in reality a similar situation might present itself to you but with a far less obvious error and a far larger input that causes it.\n",
    "In this case, instead of using the entire input, one might want to reduce the input down to only those parts actually causing the error.  \n",
    "But how do we do that?  \n",
    "We could, for instance, randomly remove some parts of the program.\n",
    "However, this would likely produce syntactically invalid Python code and hence prevent the parser from reaching the desired code location.\n",
    "So instead of just removing random parts of the code itself, we will manipulate the AST to preserve the correct syntax.\n",
    "\n",
    "How do we manipulate an AST produced by `ast.parse`? We can make use of the `ast.NodeTransformer`:"
   ]
  },
  {
   "cell_type": "code",
   "execution_count": 15,
   "metadata": {
    "execution": {
     "iopub.execute_input": "2022-08-06T23:26:41.443361Z",
     "iopub.status.busy": "2022-08-06T23:26:41.442977Z",
     "iopub.status.idle": "2022-08-06T23:26:41.444360Z",
     "shell.execute_reply": "2022-08-06T23:26:41.444577Z"
    },
    "pycharm": {
     "name": "#%%\n"
    },
    "slideshow": {
     "slide_type": "subslide"
    }
   },
   "outputs": [],
   "source": [
    "class NodeReducer(ast.NodeTransformer):\n",
    "\n",
    "    def visit_If(self, node: ast.If) -> ast.AST:\n",
    "        \"\"\"\n",
    "        Instead of the `if` node return just its condition\n",
    "        \"\"\"\n",
    "        # Apply other transformations to the children first\n",
    "        super().generic_visit(node)\n",
    "\n",
    "        # We create an expression around the node test\n",
    "        new_node = ast.Expr(node.test)\n",
    "        return new_node"
   ]
  },
  {
   "cell_type": "markdown",
   "metadata": {
    "pycharm": {
     "name": "#%% md\n"
    },
    "slideshow": {
     "slide_type": "subslide"
    }
   },
   "source": [
    "The `ast.NodeTransformer` again uses the visitor pattern to walk over all nodes.\n",
    "This time, however, we change the resulting AST. In our case, if we encounter an *if-statement* we only return the condition.   \n",
    "\n",
    "(Keep in mind, `NodeReducer` changes the ast in place, so if you want to preserve the original tree, you need to copy it with `copy.deepcopy(tree)`)"
   ]
  },
  {
   "cell_type": "code",
   "execution_count": 16,
   "metadata": {
    "execution": {
     "iopub.execute_input": "2022-08-06T23:26:41.446474Z",
     "iopub.status.busy": "2022-08-06T23:26:41.445829Z",
     "iopub.status.idle": "2022-08-06T23:26:41.748531Z",
     "shell.execute_reply": "2022-08-06T23:26:41.748947Z"
    },
    "pycharm": {
     "name": "#%%\n"
    },
    "slideshow": {
     "slide_type": "fragment"
    }
   },
   "outputs": [
    {
     "data": {
      "image/svg+xml": [
       "<svg xmlns=\"http://www.w3.org/2000/svg\" xmlns:xlink=\"http://www.w3.org/1999/xlink\" width=\"447pt\" height=\"332pt\" viewBox=\"0.00 0.00 446.50 332.00\">\n",
       "<g id=\"graph0\" class=\"graph\" transform=\"scale(1 1) rotate(0) translate(4 328)\">\n",
       "<polygon fill=\"white\" stroke=\"transparent\" points=\"-4,4 -4,-328 442.5,-328 442.5,4 -4,4\"/>\n",
       "<!-- 0 -->\n",
       "<g id=\"node1\" class=\"node\">\n",
       "<title>0</title>\n",
       "<text text-anchor=\"start\" x=\"134.5\" y=\"-303.3\" font-family=\"Courier,monospace\" font-weight=\"bold\" font-size=\"14.00\" fill=\"#004080\">FunctionDef</text>\n",
       "</g>\n",
       "<!-- 1 -->\n",
       "<g id=\"node2\" class=\"node\">\n",
       "<title>1</title>\n",
       "<text text-anchor=\"middle\" x=\"29\" y=\"-230.3\" font-family=\"Courier,monospace\" font-size=\"14.00\" fill=\"#008040\">&quot;foo&quot;</text>\n",
       "</g>\n",
       "<!-- 0&#45;&#45;1 -->\n",
       "<g id=\"edge1\" class=\"edge\">\n",
       "<title>0--1</title>\n",
       "<path fill=\"none\" stroke=\"black\" d=\"M180,-287C180,-287 116.2,-270.55 67,-252 64.16,-250.93 61.23,-249.75 58.31,-248.53\"/>\n",
       "</g>\n",
       "<!-- 2 -->\n",
       "<g id=\"node3\" class=\"node\">\n",
       "<title>2</title>\n",
       "<text text-anchor=\"start\" x=\"84.5\" y=\"-231.3\" font-family=\"Courier,monospace\" font-weight=\"bold\" font-size=\"14.00\" fill=\"#004080\">arguments</text>\n",
       "</g>\n",
       "<!-- 0&#45;&#45;2 -->\n",
       "<g id=\"edge2\" class=\"edge\">\n",
       "<title>0--2</title>\n",
       "<path fill=\"none\" stroke=\"black\" d=\"M180,-287C180,-287 157.91,-267.19 140.99,-252.03\"/>\n",
       "</g>\n",
       "<!-- 7 -->\n",
       "<g id=\"node8\" class=\"node\">\n",
       "<title>7</title>\n",
       "<text text-anchor=\"start\" x=\"222\" y=\"-231.3\" font-family=\"Courier,monospace\" font-weight=\"bold\" font-size=\"14.00\" fill=\"#004080\">Expr</text>\n",
       "</g>\n",
       "<!-- 0&#45;&#45;7 -->\n",
       "<g id=\"edge7\" class=\"edge\">\n",
       "<title>0--7</title>\n",
       "<path fill=\"none\" stroke=\"black\" d=\"M180,-287C180,-287 202.47,-267.19 219.68,-252.03\"/>\n",
       "</g>\n",
       "<!-- 16 -->\n",
       "<g id=\"node17\" class=\"node\">\n",
       "<title>16</title>\n",
       "<text text-anchor=\"start\" x=\"325\" y=\"-231.3\" font-family=\"Courier,monospace\" font-weight=\"bold\" font-size=\"14.00\" fill=\"#004080\">Return</text>\n",
       "</g>\n",
       "<!-- 0&#45;&#45;16 -->\n",
       "<g id=\"edge16\" class=\"edge\">\n",
       "<title>0--16</title>\n",
       "<path fill=\"none\" stroke=\"black\" d=\"M180,-287C180,-287 267.35,-260.28 316.82,-245.15\"/>\n",
       "</g>\n",
       "<!-- 3 -->\n",
       "<g id=\"node4\" class=\"node\">\n",
       "<title>3</title>\n",
       "<text text-anchor=\"start\" x=\"31.5\" y=\"-159.3\" font-family=\"Courier,monospace\" font-weight=\"bold\" font-size=\"14.00\" fill=\"#004080\">arg</text>\n",
       "</g>\n",
       "<!-- 2&#45;&#45;3 -->\n",
       "<g id=\"edge3\" class=\"edge\">\n",
       "<title>2--3</title>\n",
       "<path fill=\"none\" stroke=\"black\" d=\"M113,-215C113,-215 86.72,-195.19 66.59,-180.03\"/>\n",
       "</g>\n",
       "<!-- 5 -->\n",
       "<g id=\"node6\" class=\"node\">\n",
       "<title>5</title>\n",
       "<text text-anchor=\"start\" x=\"103.5\" y=\"-159.3\" font-family=\"Courier,monospace\" font-weight=\"bold\" font-size=\"14.00\" fill=\"#004080\">arg</text>\n",
       "</g>\n",
       "<!-- 2&#45;&#45;5 -->\n",
       "<g id=\"edge5\" class=\"edge\">\n",
       "<title>2--5</title>\n",
       "<path fill=\"none\" stroke=\"black\" d=\"M113,-215C113,-215 114.14,-195.19 115.02,-180.03\"/>\n",
       "</g>\n",
       "<!-- 4 -->\n",
       "<g id=\"node5\" class=\"node\">\n",
       "<title>4</title>\n",
       "<text text-anchor=\"middle\" x=\"41\" y=\"-86.3\" font-family=\"Courier,monospace\" font-size=\"14.00\" fill=\"#008040\">&quot;a&quot;</text>\n",
       "</g>\n",
       "<!-- 3&#45;&#45;4 -->\n",
       "<g id=\"edge4\" class=\"edge\">\n",
       "<title>3--4</title>\n",
       "<path fill=\"none\" stroke=\"black\" d=\"M43.26,-143.7C42.79,-132.85 42.2,-118.92 41.73,-108.1\"/>\n",
       "</g>\n",
       "<!-- 6 -->\n",
       "<g id=\"node7\" class=\"node\">\n",
       "<title>6</title>\n",
       "<text text-anchor=\"middle\" x=\"113\" y=\"-86.3\" font-family=\"Courier,monospace\" font-size=\"14.00\" fill=\"#008040\">&quot;b&quot;</text>\n",
       "</g>\n",
       "<!-- 5&#45;&#45;6 -->\n",
       "<g id=\"edge6\" class=\"edge\">\n",
       "<title>5--6</title>\n",
       "<path fill=\"none\" stroke=\"black\" d=\"M115.26,-143.7C114.79,-132.85 114.2,-118.92 113.73,-108.1\"/>\n",
       "</g>\n",
       "<!-- 8 -->\n",
       "<g id=\"node9\" class=\"node\">\n",
       "<title>8</title>\n",
       "<text text-anchor=\"start\" x=\"227\" y=\"-159.3\" font-family=\"Courier,monospace\" font-weight=\"bold\" font-size=\"14.00\" fill=\"#004080\">BoolOp</text>\n",
       "</g>\n",
       "<!-- 7&#45;&#45;8 -->\n",
       "<g id=\"edge8\" class=\"edge\">\n",
       "<title>7--8</title>\n",
       "<path fill=\"none\" stroke=\"black\" d=\"M242.21,-215.7C244.23,-204.85 246.82,-190.92 248.82,-180.1\"/>\n",
       "</g>\n",
       "<!-- 9 -->\n",
       "<g id=\"node10\" class=\"node\">\n",
       "<title>9</title>\n",
       "<text text-anchor=\"middle\" x=\"185\" y=\"-86.3\" font-family=\"Courier,monospace\" font-size=\"14.00\" fill=\"#008040\">And</text>\n",
       "</g>\n",
       "<!-- 8&#45;&#45;9 -->\n",
       "<g id=\"edge9\" class=\"edge\">\n",
       "<title>8--9</title>\n",
       "<path fill=\"none\" stroke=\"black\" d=\"M253,-143C253,-143 227.1,-123.19 207.27,-108.03\"/>\n",
       "</g>\n",
       "<!-- 10 -->\n",
       "<g id=\"node11\" class=\"node\">\n",
       "<title>10</title>\n",
       "<text text-anchor=\"start\" x=\"240\" y=\"-87.3\" font-family=\"Courier,monospace\" font-weight=\"bold\" font-size=\"14.00\" fill=\"#004080\">Name</text>\n",
       "</g>\n",
       "<!-- 8&#45;&#45;10 -->\n",
       "<g id=\"edge10\" class=\"edge\">\n",
       "<title>8--10</title>\n",
       "<path fill=\"none\" stroke=\"black\" d=\"M253,-143C253,-143 254.52,-123.19 255.69,-108.03\"/>\n",
       "</g>\n",
       "<!-- 13 -->\n",
       "<g id=\"node14\" class=\"node\">\n",
       "<title>13</title>\n",
       "<text text-anchor=\"start\" x=\"312\" y=\"-87.3\" font-family=\"Courier,monospace\" font-weight=\"bold\" font-size=\"14.00\" fill=\"#004080\">Name</text>\n",
       "</g>\n",
       "<!-- 8&#45;&#45;13 -->\n",
       "<g id=\"edge13\" class=\"edge\">\n",
       "<title>8--13</title>\n",
       "<path fill=\"none\" stroke=\"black\" d=\"M253,-143C253,-143 281.95,-123.19 304.11,-108.03\"/>\n",
       "</g>\n",
       "<!-- 11 -->\n",
       "<g id=\"node12\" class=\"node\">\n",
       "<title>11</title>\n",
       "<text text-anchor=\"middle\" x=\"185\" y=\"-14.3\" font-family=\"Courier,monospace\" font-size=\"14.00\" fill=\"#008040\">&quot;a&quot;</text>\n",
       "</g>\n",
       "<!-- 10&#45;&#45;11 -->\n",
       "<g id=\"edge11\" class=\"edge\">\n",
       "<title>10--11</title>\n",
       "<path fill=\"none\" stroke=\"black\" d=\"M249,-71C249,-71 224.62,-51.19 205.96,-36.03\"/>\n",
       "</g>\n",
       "<!-- 12 -->\n",
       "<g id=\"node13\" class=\"node\">\n",
       "<title>12</title>\n",
       "<text text-anchor=\"middle\" x=\"257\" y=\"-14.3\" font-family=\"Courier,monospace\" font-size=\"14.00\" fill=\"#008040\">Load</text>\n",
       "</g>\n",
       "<!-- 10&#45;&#45;12 -->\n",
       "<g id=\"edge12\" class=\"edge\">\n",
       "<title>10--12</title>\n",
       "<path fill=\"none\" stroke=\"black\" d=\"M249,-71C249,-71 252.05,-51.19 254.38,-36.03\"/>\n",
       "</g>\n",
       "<!-- 14 -->\n",
       "<g id=\"node15\" class=\"node\">\n",
       "<title>14</title>\n",
       "<text text-anchor=\"middle\" x=\"329\" y=\"-14.3\" font-family=\"Courier,monospace\" font-size=\"14.00\" fill=\"#008040\">&quot;b&quot;</text>\n",
       "</g>\n",
       "<!-- 13&#45;&#45;14 -->\n",
       "<g id=\"edge14\" class=\"edge\">\n",
       "<title>13--14</title>\n",
       "<path fill=\"none\" stroke=\"black\" d=\"M337,-71C337,-71 333.95,-51.19 331.62,-36.03\"/>\n",
       "</g>\n",
       "<!-- 15 -->\n",
       "<g id=\"node16\" class=\"node\">\n",
       "<title>15</title>\n",
       "<text text-anchor=\"middle\" x=\"401\" y=\"-14.3\" font-family=\"Courier,monospace\" font-size=\"14.00\" fill=\"#008040\">Load</text>\n",
       "</g>\n",
       "<!-- 13&#45;&#45;15 -->\n",
       "<g id=\"edge15\" class=\"edge\">\n",
       "<title>13--15</title>\n",
       "<path fill=\"none\" stroke=\"black\" d=\"M337,-71C337,-71 361.38,-51.19 380.04,-36.03\"/>\n",
       "</g>\n",
       "<!-- 17 -->\n",
       "<g id=\"node18\" class=\"node\">\n",
       "<title>17</title>\n",
       "<text text-anchor=\"start\" x=\"363.5\" y=\"-159.3\" font-family=\"Courier,monospace\" font-weight=\"bold\" font-size=\"14.00\" fill=\"#004080\">Constant</text>\n",
       "</g>\n",
       "<!-- 16&#45;&#45;17 -->\n",
       "<g id=\"edge17\" class=\"edge\">\n",
       "<title>16--17</title>\n",
       "<path fill=\"none\" stroke=\"black\" d=\"M361.62,-215.7C368.9,-204.85 378.26,-190.92 385.52,-180.1\"/>\n",
       "</g>\n",
       "<!-- 18 -->\n",
       "<g id=\"node19\" class=\"node\">\n",
       "<title>18</title>\n",
       "<text text-anchor=\"middle\" x=\"401\" y=\"-86.3\" font-family=\"Courier,monospace\" font-size=\"14.00\" fill=\"#008040\">0</text>\n",
       "</g>\n",
       "<!-- 17&#45;&#45;18 -->\n",
       "<g id=\"edge18\" class=\"edge\">\n",
       "<title>17--18</title>\n",
       "<path fill=\"none\" stroke=\"black\" d=\"M397.99,-143.7C398.61,-132.85 399.4,-118.92 400.02,-108.1\"/>\n",
       "</g>\n",
       "</g>\n",
       "</svg>"
      ],
      "text/plain": [
       "<IPython.core.display.SVG object>"
      ]
     },
     "metadata": {},
     "output_type": "display_data"
    }
   ],
   "source": [
    "NodeReducer().visit(source_ast)\n",
    "show_ast(source_ast)"
   ]
  },
  {
   "cell_type": "markdown",
   "metadata": {
    "pycharm": {
     "name": "#%% md\n"
    },
    "slideshow": {
     "slide_type": "subslide"
    }
   },
   "source": [
    "As you can see, after running the `NodeReducer` there is no longer an *if-statement*, but only its condition.\n",
    "A more sophisticated NodeReducer is presented in the [Reducing Failure-Inducing Inputs chapter](https://www.debuggingbook.org/beta/html/DeltaDebugger.html) in the debugging book."
   ]
  },
  {
   "cell_type": "markdown",
   "metadata": {
    "pycharm": {
     "name": "#%% md\n"
    },
    "slideshow": {
     "slide_type": "fragment"
    }
   },
   "source": [
    "To learn the structure of an AST, have a look at the [official Python `ast` reference](http://docs.python.org/3/library/ast) for a list of AST nodes and their attributes. This reference is complete, but a bit terse; the [\"Green Tree Snakes missing Python AST docs\"](https://greentreesnakes.readthedocs.io/en/latest/manipulating.html) provide a good manual on how to modify the tree."
   ]
  },
  {
   "cell_type": "markdown",
   "metadata": {
    "slideshow": {
     "slide_type": "subslide"
    }
   },
   "source": [
    "**Pro tip**: You can learn the expected structure of any Python fragment by invoking `ast.dump()` on any (parsed) AST."
   ]
  },
  {
   "cell_type": "code",
   "execution_count": 17,
   "metadata": {
    "execution": {
     "iopub.execute_input": "2022-08-06T23:26:41.752432Z",
     "iopub.status.busy": "2022-08-06T23:26:41.751983Z",
     "iopub.status.idle": "2022-08-06T23:26:41.753254Z",
     "shell.execute_reply": "2022-08-06T23:26:41.753506Z"
    },
    "pycharm": {
     "name": "#%%\n"
    },
    "slideshow": {
     "slide_type": "fragment"
    }
   },
   "outputs": [],
   "source": [
    "demo_ast = ast.parse('''\n",
    "if a == b:\n",
    "    c = d\n",
    "''')"
   ]
  },
  {
   "cell_type": "code",
   "execution_count": 18,
   "metadata": {
    "execution": {
     "iopub.execute_input": "2022-08-06T23:26:41.755649Z",
     "iopub.status.busy": "2022-08-06T23:26:41.755245Z",
     "iopub.status.idle": "2022-08-06T23:26:41.756641Z",
     "shell.execute_reply": "2022-08-06T23:26:41.756870Z"
    },
    "slideshow": {
     "slide_type": "subslide"
    }
   },
   "outputs": [
    {
     "name": "stdout",
     "output_type": "stream",
     "text": [
      "Module(\n",
      "    body=[\n",
      "        If(\n",
      "            test=Compare(\n",
      "                left=Name(id='a', ctx=Load()),\n",
      "                ops=[\n",
      "                    Eq()],\n",
      "                comparators=[\n",
      "                    Name(id='b', ctx=Load())]),\n",
      "            body=[\n",
      "                Assign(\n",
      "                    targets=[\n",
      "                        Name(id='c', ctx=Store())],\n",
      "                    value=Name(id='d', ctx=Load()))],\n",
      "            orelse=[])],\n",
      "    type_ignores=[])\n"
     ]
    }
   ],
   "source": [
    "print(ast.dump(demo_ast, indent=4))"
   ]
  },
  {
   "cell_type": "markdown",
   "metadata": {
    "slideshow": {
     "slide_type": "subslide"
    }
   },
   "source": [
    "The nice thing is that this not only reveals the AST structure, it also tells you how to construct it. If you take the very structure as produced by `ast.dump()` and evaluate it, you obtain the same syntax tree."
   ]
  },
  {
   "cell_type": "code",
   "execution_count": 19,
   "metadata": {
    "execution": {
     "iopub.execute_input": "2022-08-06T23:26:41.759131Z",
     "iopub.status.busy": "2022-08-06T23:26:41.758594Z",
     "iopub.status.idle": "2022-08-06T23:26:41.759891Z",
     "shell.execute_reply": "2022-08-06T23:26:41.760125Z"
    },
    "slideshow": {
     "slide_type": "skip"
    }
   },
   "outputs": [],
   "source": [
    "from ast import Module, If, Compare, Load, Eq, Assign, Name, Store"
   ]
  },
  {
   "cell_type": "code",
   "execution_count": 20,
   "metadata": {
    "execution": {
     "iopub.execute_input": "2022-08-06T23:26:41.763040Z",
     "iopub.status.busy": "2022-08-06T23:26:41.762668Z",
     "iopub.status.idle": "2022-08-06T23:26:41.764030Z",
     "shell.execute_reply": "2022-08-06T23:26:41.764270Z"
    },
    "pycharm": {
     "name": "#%%\n"
    },
    "slideshow": {
     "slide_type": "subslide"
    }
   },
   "outputs": [],
   "source": [
    "ast_from_scratch = Module(\n",
    "    body=[\n",
    "        If(\n",
    "            test=Compare(\n",
    "                left=Name(id='a', ctx=Load()),\n",
    "                ops=[\n",
    "                    Eq()],\n",
    "                comparators=[\n",
    "                    Name(id='b', ctx=Load())]),\n",
    "            body=[\n",
    "                Assign(\n",
    "                    targets=[\n",
    "                        Name(id='c', ctx=Store())],\n",
    "                    value=Name(id='d', ctx=Load()))],\n",
    "            orelse=[])],\n",
    "    type_ignores=[])"
   ]
  },
  {
   "cell_type": "markdown",
   "metadata": {
    "slideshow": {
     "slide_type": "subslide"
    }
   },
   "source": [
    "You need to invoke `ast.fix_missing_locations()` to add line numbers and other location info that would be normally added during parsing..."
   ]
  },
  {
   "cell_type": "code",
   "execution_count": 21,
   "metadata": {
    "execution": {
     "iopub.execute_input": "2022-08-06T23:26:41.766488Z",
     "iopub.status.busy": "2022-08-06T23:26:41.765977Z",
     "iopub.status.idle": "2022-08-06T23:26:41.767296Z",
     "shell.execute_reply": "2022-08-06T23:26:41.767667Z"
    },
    "slideshow": {
     "slide_type": "fragment"
    }
   },
   "outputs": [],
   "source": [
    "ast_from_scratch = ast.fix_missing_locations(ast_from_scratch)"
   ]
  },
  {
   "cell_type": "markdown",
   "metadata": {
    "slideshow": {
     "slide_type": "fragment"
    }
   },
   "source": [
    "... and with this, you're all set:"
   ]
  },
  {
   "cell_type": "code",
   "execution_count": 22,
   "metadata": {
    "execution": {
     "iopub.execute_input": "2022-08-06T23:26:41.769828Z",
     "iopub.status.busy": "2022-08-06T23:26:41.769485Z",
     "iopub.status.idle": "2022-08-06T23:26:41.770815Z",
     "shell.execute_reply": "2022-08-06T23:26:41.771179Z"
    },
    "pycharm": {
     "name": "#%%\n"
    },
    "slideshow": {
     "slide_type": "fragment"
    }
   },
   "outputs": [
    {
     "name": "stdout",
     "output_type": "stream",
     "text": [
      "if a == b:\n",
      "    c = d\n"
     ]
    }
   ],
   "source": [
    "print(ast.unparse(ast_from_scratch))"
   ]
  },
  {
   "cell_type": "markdown",
   "metadata": {
    "pycharm": {
     "name": "#%% md\n"
    },
    "slideshow": {
     "slide_type": "fragment"
    }
   },
   "source": [
    "Hence, if you do not know what kind of AST fragment to produce, just\n",
    "1. parse its text with ``ast.parse()`` \n",
    "2. study the expression produced by `ast.dump()`, and\n",
    "3. build it from the same expression, using `ast.fix_missing_locations()` and `ast.unparse()`"
   ]
  },
  {
   "cell_type": "markdown",
   "metadata": {
    "pycharm": {
     "name": "#%% md\n"
    },
    "slideshow": {
     "slide_type": "subslide"
    }
   },
   "source": [
    "### Implementing a Reducing Debugger\n",
    "\n",
    "Having seen how one can access and transform AST structures using a `NodeReducer` in Python, we can now use that knowledge to implement a `ReducingDebugger`\n",
    "capable of reducing the failure inducing Python code down to only that parts of the code that actually triggers the failure."
   ]
  },
  {
   "cell_type": "code",
   "execution_count": 23,
   "metadata": {
    "execution": {
     "iopub.execute_input": "2022-08-06T23:26:41.774727Z",
     "iopub.status.busy": "2022-08-06T23:26:41.774403Z",
     "iopub.status.idle": "2022-08-06T23:26:41.775714Z",
     "shell.execute_reply": "2022-08-06T23:26:41.775989Z"
    },
    "pycharm": {
     "name": "#%%\n"
    },
    "slideshow": {
     "slide_type": "subslide"
    }
   },
   "outputs": [],
   "source": [
    "class ReducingDebugger:\n",
    "    def __init__(self, parser: SimpleParser) -> None:\n",
    "        \"\"\"\n",
    "        We initialize the DebuggingReducer with a parser,\n",
    "        as this is needed to verify whether the failure \n",
    "        is still triggered after the code transformation\n",
    "        \"\"\"\n",
    "        self.parser = parser\n",
    "        self.node_reducer = NodeReducer()\n",
    "\n",
    "    def minimize(self, code: str) -> str:\n",
    "        \"\"\"\n",
    "        This function takes some Python code as string, reduces\n",
    "        it using the NodeReducer defined earlier and returns the \n",
    "        reduced program.\n",
    "        \"\"\"\n",
    "        # Parse the code to a tree\n",
    "        code_ast = ast.parse(source=code)\n",
    "\n",
    "        # Use the visit-method of the NodeReducer to reduce if nodes down to their condition\n",
    "        new_code_ast = self.node_reducer.visit(code_ast)\n",
    "\n",
    "        # After we've updated nodes, we need to fix the tree\n",
    "        ast.fix_missing_locations(new_code_ast)\n",
    "\n",
    "        # Generate code from the reduced tree\n",
    "        new_code = ast.unparse(new_code_ast)\n",
    "\n",
    "        # Test, whether the error is still triggered by the reduced code\n",
    "        try:\n",
    "            self.parser.parse(new_code)\n",
    "            # No exception is thrown. This means the new_code does not \n",
    "            # trigger an error anymore. Therefore, we failed in\n",
    "            # reduction and return the initial code.\n",
    "            return code\n",
    "        except ParserException:\n",
    "            # The error is still triggered. Return the reduced code\n",
    "            return new_code"
   ]
  },
  {
   "cell_type": "markdown",
   "metadata": {
    "pycharm": {
     "name": "#%% md\n"
    },
    "slideshow": {
     "slide_type": "subslide"
    }
   },
   "source": [
    "The `ReducingDebugger` implemented above takes some Python code as an input and replaces all if-statements with their conditions.\n",
    "Then, it checks whether the newly generated code still triggers the error. If not, it returns the initial code. If the exception is still triggered, it returns the reduced code.\n",
    "Let's apply it to the source code of our `foo` function:"
   ]
  },
  {
   "cell_type": "code",
   "execution_count": 24,
   "metadata": {
    "execution": {
     "iopub.execute_input": "2022-08-06T23:26:41.778314Z",
     "iopub.status.busy": "2022-08-06T23:26:41.777914Z",
     "iopub.status.idle": "2022-08-06T23:26:41.779325Z",
     "shell.execute_reply": "2022-08-06T23:26:41.779585Z"
    },
    "slideshow": {
     "slide_type": "subslide"
    }
   },
   "outputs": [
    {
     "name": "stdout",
     "output_type": "stream",
     "text": [
      "<ast.FunctionDef object at 0x10475b880>\n",
      "<ast.arguments object at 0x104758ac0>\n",
      "<ast.arg object at 0x104759a50>\n",
      "<ast.arg object at 0x10475a590>\n",
      "<ast.Constant object at 0x10475a830>\n"
     ]
    }
   ],
   "source": [
    "reducing_debugger = ReducingDebugger(SimpleParserPlus())\n",
    "new_source = reducing_debugger.minimize(source)"
   ]
  },
  {
   "cell_type": "code",
   "execution_count": 25,
   "metadata": {
    "execution": {
     "iopub.execute_input": "2022-08-06T23:26:41.781411Z",
     "iopub.status.busy": "2022-08-06T23:26:41.781021Z",
     "iopub.status.idle": "2022-08-06T23:26:41.782422Z",
     "shell.execute_reply": "2022-08-06T23:26:41.782766Z"
    },
    "pycharm": {
     "name": "#%%\n"
    },
    "slideshow": {
     "slide_type": "subslide"
    }
   },
   "outputs": [
    {
     "name": "stdout",
     "output_type": "stream",
     "text": [
      "def foo(a, b):\n",
      "    \"\"\"\n",
      "    Checks whether a and b are true\n",
      "    \"\"\"\n",
      "    a and b\n",
      "    return 0\n"
     ]
    }
   ],
   "source": [
    "print(new_source)"
   ]
  },
  {
   "cell_type": "code",
   "execution_count": 26,
   "metadata": {
    "execution": {
     "iopub.execute_input": "2022-08-06T23:26:41.785009Z",
     "iopub.status.busy": "2022-08-06T23:26:41.784633Z",
     "iopub.status.idle": "2022-08-06T23:26:41.786442Z",
     "shell.execute_reply": "2022-08-06T23:26:41.786620Z"
    },
    "pycharm": {
     "name": "#%%\n"
    },
    "slideshow": {
     "slide_type": "subslide"
    }
   },
   "outputs": [
    {
     "name": "stdout",
     "output_type": "stream",
     "text": [
      "<ast.FunctionDef object at 0x104758b80>\n",
      "<ast.arguments object at 0x1047581c0>\n",
      "<ast.arg object at 0x104758160>\n",
      "<ast.arg object at 0x104759cf0>\n",
      "<ast.Constant object at 0x104759930>\n"
     ]
    },
    {
     "name": "stderr",
     "output_type": "stream",
     "text": [
      "Traceback (most recent call last):\n",
      "  File \"/var/folders/n2/xd9445p97rb3xh7m1dfx8_4h0006ts/T/ipykernel_39890/3561000985.py\", line 2, in <module>\n",
      "    SimpleParserPlus().parse(new_source)\n",
      "  File \"/var/folders/n2/xd9445p97rb3xh7m1dfx8_4h0006ts/T/ipykernel_39890/2922974276.py\", line 12, in parse\n",
      "    self.visit(tree)\n",
      "  File \"/Users/zeller/.pyenv/versions/3.10.2/lib/python3.10/ast.py\", line 410, in visit\n",
      "    return visitor(node)\n",
      "  File \"/Users/zeller/.pyenv/versions/3.10.2/lib/python3.10/ast.py\", line 418, in generic_visit\n",
      "    self.visit(item)\n",
      "  File \"/Users/zeller/.pyenv/versions/3.10.2/lib/python3.10/ast.py\", line 410, in visit\n",
      "    return visitor(node)\n",
      "  File \"/var/folders/n2/xd9445p97rb3xh7m1dfx8_4h0006ts/T/ipykernel_39890/2922974276.py\", line 16, in visit_FunctionDef\n",
      "    self.generic_visit(node)\n",
      "  File \"/Users/zeller/.pyenv/versions/3.10.2/lib/python3.10/ast.py\", line 418, in generic_visit\n",
      "    self.visit(item)\n",
      "  File \"/Users/zeller/.pyenv/versions/3.10.2/lib/python3.10/ast.py\", line 410, in visit\n",
      "    return visitor(node)\n",
      "  File \"/Users/zeller/.pyenv/versions/3.10.2/lib/python3.10/ast.py\", line 420, in generic_visit\n",
      "    self.visit(value)\n",
      "  File \"/Users/zeller/.pyenv/versions/3.10.2/lib/python3.10/ast.py\", line 410, in visit\n",
      "    return visitor(node)\n",
      "  File \"/var/folders/n2/xd9445p97rb3xh7m1dfx8_4h0006ts/T/ipykernel_39890/1656391407.py\", line 10, in visit_BoolOp\n",
      "    raise ParserException(\"Something went wrong\")\n",
      "ParserException: Something went wrong (expected)\n"
     ]
    }
   ],
   "source": [
    "with ExpectError():\n",
    "    SimpleParserPlus().parse(new_source)"
   ]
  },
  {
   "cell_type": "markdown",
   "metadata": {
    "pycharm": {
     "name": "#%% md\n"
    },
    "slideshow": {
     "slide_type": "subslide"
    }
   },
   "source": [
    "As we can see, our `ReducingDebugger` reduces the original function to a smaller input, while still preserving the property of the code that triggers the same error as before.\n",
    "However, this reducer is very simple: it applies only one transformation to all `if` nodes at once.\n",
    "Instead, one can consider various transformations of the same node as well as transformations of various node types and apply them one by one (or in batches) to gradually reduce the code."
   ]
  },
  {
   "cell_type": "markdown",
   "metadata": {
    "pycharm": {
     "name": "#%% md\n"
    },
    "slideshow": {
     "slide_type": "subslide"
    }
   },
   "source": [
    "Keep in mind, that the changes should be made in a way that the code is still accepted by a regular Python interpreter.\n",
    "Besides, the goal is to obtain a minimal program that still triggers the error.\n",
    "So, your debugging reducer should not simply reduce all possible nodes, but also regularly check whether the reduced code still triggers the failure."
   ]
  },
  {
   "cell_type": "markdown",
   "metadata": {
    "pycharm": {
     "name": "#%% md\n"
    },
    "slideshow": {
     "slide_type": "subslide"
    }
   },
   "source": [
    "Therefore, you are required to implement certain modifications that can be done to the AST. In general, these transformations can be one of the following:   \n",
    "\n",
    "1. Delete a node,\n",
    "2. Substitute a node with the new node (e.g., _pass_ node),\n",
    "3. Substitute a node with all of its children,\n",
    "4. Substitute a node with one of its children."
   ]
  },
  {
   "cell_type": "markdown",
   "metadata": {
    "pycharm": {
     "name": "#%% md\n"
    },
    "slideshow": {
     "slide_type": "subslide"
    }
   },
   "source": [
    "More detailed, one can consider, for instance:\n",
    "\n",
    "1. Replacing a `BoolOp` node by `True`.\n",
    "2. Replacing a `BoolOp` node by `False`.\n",
    "3. Replacing a `BoolOp` node by its left operand.\n",
    "4. Replacing a `BoolOp` node by its right operand.\n",
    "5. Replacing an `If` node by its \"then\" body.\n",
    "6. Replacing an `If` node by its condition.\n",
    "7. Replacing an `If` node by its \"else\" body.\n",
    "8. Replacing all instances of a variable by a constant.\n",
    "9. Replacing expressions by a constant.\n",
    "10. etc.\n",
    "\n",
    "Please, refer to the [official Python `ast` reference](http://docs.python.org/3/library/ast) for a full list of node types."
   ]
  },
  {
   "cell_type": "markdown",
   "metadata": {
    "hidden": true,
    "pycharm": {
     "name": "#%% md\n"
    },
    "slideshow": {
     "slide_type": "slide"
    }
   },
   "source": [
    "## Implementation\n",
    "\n",
    "To succeed in this project, you need to complete the `MyReducer` class."
   ]
  },
  {
   "cell_type": "code",
   "execution_count": 27,
   "metadata": {
    "execution": {
     "iopub.execute_input": "2022-08-06T23:26:41.788614Z",
     "iopub.status.busy": "2022-08-06T23:26:41.788292Z",
     "iopub.status.idle": "2022-08-06T23:26:41.789702Z",
     "shell.execute_reply": "2022-08-06T23:26:41.789879Z"
    },
    "hidden": true,
    "pycharm": {
     "name": "#%%\n"
    },
    "slideshow": {
     "slide_type": "fragment"
    }
   },
   "outputs": [],
   "source": [
    "class MyReducer(ReducingDebugger):\n",
    "\n",
    "    def minimize(self, code: str) -> str:\n",
    "        # TODO: implement this!\n",
    "        return code"
   ]
  },
  {
   "cell_type": "markdown",
   "metadata": {
    "hidden": true,
    "pycharm": {
     "name": "#%% md\n"
    },
    "slideshow": {
     "slide_type": "subslide"
    }
   },
   "source": [
    "To this end, you will need to extend the `NodeReducer` with additional transformations and implement a reducer strategy\n",
    "which collects all possible transformations and applies them to the AST until it is exhaustively minimized.\n",
    "Feel free to make your own implementation or extend the `DeltaDebugger` from the [Reducing Failure-Inducing Inputs chapter](https://www.debuggingbook.org/beta/html/DeltaDebugger.html) with\n",
    "the proper strategy."
   ]
  },
  {
   "cell_type": "markdown",
   "metadata": {
    "hidden": true,
    "pycharm": {
     "name": "#%% md\n"
    },
    "slideshow": {
     "slide_type": "slide"
    }
   },
   "source": [
    "## Evaluation\n",
    "\n",
    "We evaluate your project based on public as well as secret tests. In this section, we present **five** different Python parsers as well as **five** Python input programs, which should be minified.\n",
    "These parsers check for a specific property in the code and fail the execution if the property exists. The input programs and parsers in this section make up the public test cases.\n",
    "If you pass all of those tests **without hardcoding the modifications** you are guaranteed to score 15 points in this project. You can get more points for passing secret tests."
   ]
  },
  {
   "cell_type": "markdown",
   "metadata": {
    "hidden": true,
    "pycharm": {
     "name": "#%% md\n"
    },
    "slideshow": {
     "slide_type": "subslide"
    }
   },
   "source": [
    "### Parsers"
   ]
  },
  {
   "cell_type": "code",
   "execution_count": 28,
   "metadata": {
    "execution": {
     "iopub.execute_input": "2022-08-06T23:26:41.792049Z",
     "iopub.status.busy": "2022-08-06T23:26:41.791742Z",
     "iopub.status.idle": "2022-08-06T23:26:41.793089Z",
     "shell.execute_reply": "2022-08-06T23:26:41.793318Z"
    },
    "hidden": true,
    "pycharm": {
     "name": "#%%\n"
    },
    "slideshow": {
     "slide_type": "fragment"
    }
   },
   "outputs": [],
   "source": [
    "class Parser(ast.NodeVisitor):\n",
    "    \"\"\"The base class for a parser\"\"\"\n",
    "\n",
    "    def parse_tree(self, tree: ast.AST) -> None:\n",
    "        self.visit(tree)\n",
    "\n",
    "    def parse(self, source: str) -> str:\n",
    "        tree = ast.parse(source=source)\n",
    "        self.parse_tree(tree)\n",
    "        return \"The input was successfully parsed.\""
   ]
  },
  {
   "cell_type": "markdown",
   "metadata": {
    "pycharm": {
     "name": "#%% md\n"
    },
    "slideshow": {
     "slide_type": "fragment"
    }
   },
   "source": [
    "`Parser` is the base class for a parser from which all other parsers are derived. It works the same way as the `SimpleParser` introduced earlier."
   ]
  },
  {
   "cell_type": "markdown",
   "metadata": {
    "pycharm": {
     "name": "#%% md\n"
    },
    "slideshow": {
     "slide_type": "subslide"
    }
   },
   "source": [
    "Let's define a couple of parsers which model a failure during processing of a certain code feature."
   ]
  },
  {
   "cell_type": "code",
   "execution_count": 29,
   "metadata": {
    "execution": {
     "iopub.execute_input": "2022-08-06T23:26:41.795390Z",
     "iopub.status.busy": "2022-08-06T23:26:41.795101Z",
     "iopub.status.idle": "2022-08-06T23:26:41.796422Z",
     "shell.execute_reply": "2022-08-06T23:26:41.796692Z"
    },
    "hidden": true,
    "pycharm": {
     "name": "#%%\n"
    },
    "slideshow": {
     "slide_type": "fragment"
    }
   },
   "outputs": [],
   "source": [
    "class Parser1(Parser):\n",
    "    \"\"\"\n",
    "    Contains a boolean operation\n",
    "    \"\"\"\n",
    "\n",
    "    def visit_BoolOp(self, node: ast.BoolOp) -> None:\n",
    "        raise ParserException(f\"Something went wrong\")"
   ]
  },
  {
   "cell_type": "markdown",
   "metadata": {
    "slideshow": {
     "slide_type": "fragment"
    }
   },
   "source": [
    "If we feed this parser with an input program which contains a boolean operation, it fails:"
   ]
  },
  {
   "cell_type": "code",
   "execution_count": 30,
   "metadata": {
    "collapsed": false,
    "execution": {
     "iopub.execute_input": "2022-08-06T23:26:41.798581Z",
     "iopub.status.busy": "2022-08-06T23:26:41.798257Z",
     "iopub.status.idle": "2022-08-06T23:26:41.799884Z",
     "shell.execute_reply": "2022-08-06T23:26:41.800119Z"
    },
    "jupyter": {
     "outputs_hidden": false
    },
    "pycharm": {
     "name": "#%%\n"
    },
    "slideshow": {
     "slide_type": "subslide"
    }
   },
   "outputs": [
    {
     "name": "stderr",
     "output_type": "stream",
     "text": [
      "Traceback (most recent call last):\n",
      "  File \"/var/folders/n2/xd9445p97rb3xh7m1dfx8_4h0006ts/T/ipykernel_39890/2806337694.py\", line 5, in <module>\n",
      "    parser1.parse(input_program)\n",
      "  File \"/var/folders/n2/xd9445p97rb3xh7m1dfx8_4h0006ts/T/ipykernel_39890/1737200860.py\", line 9, in parse\n",
      "    self.parse_tree(tree)\n",
      "  File \"/var/folders/n2/xd9445p97rb3xh7m1dfx8_4h0006ts/T/ipykernel_39890/1737200860.py\", line 5, in parse_tree\n",
      "    self.visit(tree)\n",
      "  File \"/Users/zeller/.pyenv/versions/3.10.2/lib/python3.10/ast.py\", line 410, in visit\n",
      "    return visitor(node)\n",
      "  File \"/Users/zeller/.pyenv/versions/3.10.2/lib/python3.10/ast.py\", line 418, in generic_visit\n",
      "    self.visit(item)\n",
      "  File \"/Users/zeller/.pyenv/versions/3.10.2/lib/python3.10/ast.py\", line 410, in visit\n",
      "    return visitor(node)\n",
      "  File \"/Users/zeller/.pyenv/versions/3.10.2/lib/python3.10/ast.py\", line 420, in generic_visit\n",
      "    self.visit(value)\n",
      "  File \"/Users/zeller/.pyenv/versions/3.10.2/lib/python3.10/ast.py\", line 410, in visit\n",
      "    return visitor(node)\n",
      "  File \"/var/folders/n2/xd9445p97rb3xh7m1dfx8_4h0006ts/T/ipykernel_39890/2980862917.py\", line 7, in visit_BoolOp\n",
      "    raise ParserException(f\"Something went wrong\")\n",
      "ParserException: Something went wrong (expected)\n"
     ]
    }
   ],
   "source": [
    "parser1 = Parser1()\n",
    "input_program = '''\n",
    "a = True and False'''\n",
    "with ExpectError():\n",
    "    parser1.parse(input_program)"
   ]
  },
  {
   "cell_type": "markdown",
   "metadata": {
    "pycharm": {
     "name": "#%% md\n"
    },
    "slideshow": {
     "slide_type": "subslide"
    }
   },
   "source": [
    "In contrast to the above, an input program _without_ a boolean operation is parsed correctly."
   ]
  },
  {
   "cell_type": "code",
   "execution_count": 31,
   "metadata": {
    "collapsed": false,
    "execution": {
     "iopub.execute_input": "2022-08-06T23:26:41.802497Z",
     "iopub.status.busy": "2022-08-06T23:26:41.802183Z",
     "iopub.status.idle": "2022-08-06T23:26:41.803692Z",
     "shell.execute_reply": "2022-08-06T23:26:41.803872Z"
    },
    "jupyter": {
     "outputs_hidden": false
    },
    "pycharm": {
     "name": "#%%\n"
    },
    "slideshow": {
     "slide_type": "fragment"
    }
   },
   "outputs": [
    {
     "data": {
      "text/plain": [
       "'The input was successfully parsed.'"
      ]
     },
     "execution_count": 31,
     "metadata": {},
     "output_type": "execute_result"
    }
   ],
   "source": [
    "parser1 = Parser1()\n",
    "input_program = '''\n",
    "a = 1\n",
    "b = True\n",
    "'''\n",
    "\n",
    "parser1.parse(input_program)"
   ]
  },
  {
   "cell_type": "markdown",
   "metadata": {
    "pycharm": {
     "name": "#%% md\n"
    },
    "slideshow": {
     "slide_type": "fragment"
    }
   },
   "source": [
    "The other parsers are"
   ]
  },
  {
   "cell_type": "code",
   "execution_count": 32,
   "metadata": {
    "execution": {
     "iopub.execute_input": "2022-08-06T23:26:41.806099Z",
     "iopub.status.busy": "2022-08-06T23:26:41.805757Z",
     "iopub.status.idle": "2022-08-06T23:26:41.807180Z",
     "shell.execute_reply": "2022-08-06T23:26:41.807424Z"
    },
    "hidden": true,
    "pycharm": {
     "name": "#%%\n"
    },
    "slideshow": {
     "slide_type": "subslide"
    }
   },
   "outputs": [],
   "source": [
    "class Parser2(Parser):\n",
    "    \"\"\"\n",
    "    Fails if an input program contains `if` statement\n",
    "    \"\"\"\n",
    "    def visit_If(self, node: ast.If) -> None:\n",
    "        raise ParserException(f\"Something went wrong\")"
   ]
  },
  {
   "cell_type": "code",
   "execution_count": 33,
   "metadata": {
    "collapsed": false,
    "execution": {
     "iopub.execute_input": "2022-08-06T23:26:41.809404Z",
     "iopub.status.busy": "2022-08-06T23:26:41.809106Z",
     "iopub.status.idle": "2022-08-06T23:26:41.810375Z",
     "shell.execute_reply": "2022-08-06T23:26:41.810627Z"
    },
    "jupyter": {
     "outputs_hidden": false
    },
    "pycharm": {
     "name": "#%%\n"
    },
    "slideshow": {
     "slide_type": "subslide"
    }
   },
   "outputs": [
    {
     "name": "stderr",
     "output_type": "stream",
     "text": [
      "Traceback (most recent call last):\n",
      "  File \"/var/folders/n2/xd9445p97rb3xh7m1dfx8_4h0006ts/T/ipykernel_39890/1476831468.py\", line 9, in <module>\n",
      "    parser2.parse(input_program)\n",
      "  File \"/var/folders/n2/xd9445p97rb3xh7m1dfx8_4h0006ts/T/ipykernel_39890/1737200860.py\", line 9, in parse\n",
      "    self.parse_tree(tree)\n",
      "  File \"/var/folders/n2/xd9445p97rb3xh7m1dfx8_4h0006ts/T/ipykernel_39890/1737200860.py\", line 5, in parse_tree\n",
      "    self.visit(tree)\n",
      "  File \"/Users/zeller/.pyenv/versions/3.10.2/lib/python3.10/ast.py\", line 410, in visit\n",
      "    return visitor(node)\n",
      "  File \"/Users/zeller/.pyenv/versions/3.10.2/lib/python3.10/ast.py\", line 418, in generic_visit\n",
      "    self.visit(item)\n",
      "  File \"/Users/zeller/.pyenv/versions/3.10.2/lib/python3.10/ast.py\", line 410, in visit\n",
      "    return visitor(node)\n",
      "  File \"/var/folders/n2/xd9445p97rb3xh7m1dfx8_4h0006ts/T/ipykernel_39890/1684278366.py\", line 6, in visit_If\n",
      "    raise ParserException(f\"Something went wrong\")\n",
      "ParserException: Something went wrong (expected)\n"
     ]
    }
   ],
   "source": [
    "parser2 = Parser2()\n",
    "input_program = '''\n",
    "if a:\n",
    "    b = 1\n",
    "else:\n",
    "    b = 2\n",
    "'''\n",
    "with ExpectError():\n",
    "    parser2.parse(input_program)"
   ]
  },
  {
   "cell_type": "code",
   "execution_count": 34,
   "metadata": {
    "execution": {
     "iopub.execute_input": "2022-08-06T23:26:41.813391Z",
     "iopub.status.busy": "2022-08-06T23:26:41.813130Z",
     "iopub.status.idle": "2022-08-06T23:26:41.814668Z",
     "shell.execute_reply": "2022-08-06T23:26:41.815223Z"
    },
    "hidden": true,
    "pycharm": {
     "name": "#%%\n"
    },
    "slideshow": {
     "slide_type": "subslide"
    }
   },
   "outputs": [],
   "source": [
    "class Parser3(Parser):\n",
    "    \"\"\"\n",
    "    Fails if an input program contains a special unicode character\n",
    "    \"\"\"\n",
    "\n",
    "    def __init__(self) -> None:\n",
    "        self.assignment = False\n",
    "        self.steps = 0\n",
    "\n",
    "    def check_unicode(self, string: str) -> bool:\n",
    "        return string == u'\\u0426'\n",
    "\n",
    "    def generic_visit(self, node: ast.AST) -> None:\n",
    "        self.steps += 1\n",
    "        super().generic_visit(node)\n",
    "\n",
    "    def visit_Assign(self, node: ast.Assign) -> None:\n",
    "        self.assignment = True\n",
    "        self.steps = 0\n",
    "        self.generic_visit(node)\n",
    "\n",
    "    def visit_Constant(self, node: ast.Constant) -> None:\n",
    "        if self.assignment and self.steps == 3:\n",
    "            if isinstance(node.value, str):\n",
    "                if self.check_unicode(node.value):\n",
    "                    raise ParserException(f\"Something went wrong\")"
   ]
  },
  {
   "cell_type": "code",
   "execution_count": 35,
   "metadata": {
    "collapsed": false,
    "execution": {
     "iopub.execute_input": "2022-08-06T23:26:41.817903Z",
     "iopub.status.busy": "2022-08-06T23:26:41.817415Z",
     "iopub.status.idle": "2022-08-06T23:26:41.819009Z",
     "shell.execute_reply": "2022-08-06T23:26:41.819312Z"
    },
    "jupyter": {
     "outputs_hidden": false
    },
    "pycharm": {
     "name": "#%%\n"
    },
    "slideshow": {
     "slide_type": "subslide"
    }
   },
   "outputs": [
    {
     "name": "stderr",
     "output_type": "stream",
     "text": [
      "Traceback (most recent call last):\n",
      "  File \"/var/folders/n2/xd9445p97rb3xh7m1dfx8_4h0006ts/T/ipykernel_39890/951683174.py\", line 6, in <module>\n",
      "    parser3.parse(input_program)\n",
      "  File \"/var/folders/n2/xd9445p97rb3xh7m1dfx8_4h0006ts/T/ipykernel_39890/1737200860.py\", line 9, in parse\n",
      "    self.parse_tree(tree)\n",
      "  File \"/var/folders/n2/xd9445p97rb3xh7m1dfx8_4h0006ts/T/ipykernel_39890/1737200860.py\", line 5, in parse_tree\n",
      "    self.visit(tree)\n",
      "  File \"/Users/zeller/.pyenv/versions/3.10.2/lib/python3.10/ast.py\", line 410, in visit\n",
      "    return visitor(node)\n",
      "  File \"/var/folders/n2/xd9445p97rb3xh7m1dfx8_4h0006ts/T/ipykernel_39890/2904791116.py\", line 15, in generic_visit\n",
      "    super().generic_visit(node)\n",
      "  File \"/Users/zeller/.pyenv/versions/3.10.2/lib/python3.10/ast.py\", line 418, in generic_visit\n",
      "    self.visit(item)\n",
      "  File \"/Users/zeller/.pyenv/versions/3.10.2/lib/python3.10/ast.py\", line 410, in visit\n",
      "    return visitor(node)\n",
      "  File \"/var/folders/n2/xd9445p97rb3xh7m1dfx8_4h0006ts/T/ipykernel_39890/2904791116.py\", line 20, in visit_Assign\n",
      "    self.generic_visit(node)\n",
      "  File \"/var/folders/n2/xd9445p97rb3xh7m1dfx8_4h0006ts/T/ipykernel_39890/2904791116.py\", line 15, in generic_visit\n",
      "    super().generic_visit(node)\n",
      "  File \"/Users/zeller/.pyenv/versions/3.10.2/lib/python3.10/ast.py\", line 420, in generic_visit\n",
      "    self.visit(value)\n",
      "  File \"/Users/zeller/.pyenv/versions/3.10.2/lib/python3.10/ast.py\", line 410, in visit\n",
      "    return visitor(node)\n",
      "  File \"/var/folders/n2/xd9445p97rb3xh7m1dfx8_4h0006ts/T/ipykernel_39890/2904791116.py\", line 26, in visit_Constant\n",
      "    raise ParserException(f\"Something went wrong\")\n",
      "ParserException: Something went wrong (expected)\n"
     ]
    }
   ],
   "source": [
    "parser3 = Parser3()\n",
    "input_program = '''\n",
    "a = u'\\u0426'\n",
    "'''\n",
    "with ExpectError(ParserException):\n",
    "    parser3.parse(input_program)"
   ]
  },
  {
   "cell_type": "code",
   "execution_count": 36,
   "metadata": {
    "execution": {
     "iopub.execute_input": "2022-08-06T23:26:41.822620Z",
     "iopub.status.busy": "2022-08-06T23:26:41.822246Z",
     "iopub.status.idle": "2022-08-06T23:26:41.823390Z",
     "shell.execute_reply": "2022-08-06T23:26:41.823659Z"
    },
    "hidden": true,
    "slideshow": {
     "slide_type": "subslide"
    }
   },
   "outputs": [],
   "source": [
    "class Parser4(Parser):\n",
    "    \"\"\"\n",
    "    Fails if an input program contains a variable which is not defined\n",
    "    \"\"\"\n",
    "\n",
    "    def __init__(self) -> None:\n",
    "        self.assignment = False\n",
    "        self.steps = 0\n",
    "        self.variables: Set[str] = set()\n",
    "\n",
    "    def generic_visit(self, node: ast.AST) -> None:\n",
    "        self.steps += 1\n",
    "        super().generic_visit(node)\n",
    "\n",
    "    def visit_Name(self, node: ast.Name) -> None:\n",
    "        if self.assignment and self.steps == 1:\n",
    "            self.variables.add(node.id)\n",
    "            self.assignment = False\n",
    "            self.generic_visit(node)\n",
    "        elif node.id in self.variables:\n",
    "            self.generic_visit(node)\n",
    "        else:\n",
    "            raise ParserException(f\"Something went wrong\")\n",
    "\n",
    "    def visit_Assign(self, node: ast.Assign) -> None:\n",
    "        self.assignment = True\n",
    "        self.steps = 0\n",
    "        self.generic_visit(node)"
   ]
  },
  {
   "cell_type": "code",
   "execution_count": 37,
   "metadata": {
    "collapsed": false,
    "execution": {
     "iopub.execute_input": "2022-08-06T23:26:41.825499Z",
     "iopub.status.busy": "2022-08-06T23:26:41.825162Z",
     "iopub.status.idle": "2022-08-06T23:26:41.826944Z",
     "shell.execute_reply": "2022-08-06T23:26:41.827226Z"
    },
    "jupyter": {
     "outputs_hidden": false
    },
    "pycharm": {
     "name": "#%%\n"
    },
    "slideshow": {
     "slide_type": "subslide"
    }
   },
   "outputs": [
    {
     "name": "stderr",
     "output_type": "stream",
     "text": [
      "Traceback (most recent call last):\n",
      "  File \"/var/folders/n2/xd9445p97rb3xh7m1dfx8_4h0006ts/T/ipykernel_39890/1261297070.py\", line 7, in <module>\n",
      "    parser4.parse(input_program)\n",
      "  File \"/var/folders/n2/xd9445p97rb3xh7m1dfx8_4h0006ts/T/ipykernel_39890/1737200860.py\", line 9, in parse\n",
      "    self.parse_tree(tree)\n",
      "  File \"/var/folders/n2/xd9445p97rb3xh7m1dfx8_4h0006ts/T/ipykernel_39890/1737200860.py\", line 5, in parse_tree\n",
      "    self.visit(tree)\n",
      "  File \"/Users/zeller/.pyenv/versions/3.10.2/lib/python3.10/ast.py\", line 410, in visit\n",
      "    return visitor(node)\n",
      "  File \"/var/folders/n2/xd9445p97rb3xh7m1dfx8_4h0006ts/T/ipykernel_39890/3413124393.py\", line 13, in generic_visit\n",
      "    super().generic_visit(node)\n",
      "  File \"/Users/zeller/.pyenv/versions/3.10.2/lib/python3.10/ast.py\", line 418, in generic_visit\n",
      "    self.visit(item)\n",
      "  File \"/Users/zeller/.pyenv/versions/3.10.2/lib/python3.10/ast.py\", line 410, in visit\n",
      "    return visitor(node)\n",
      "  File \"/var/folders/n2/xd9445p97rb3xh7m1dfx8_4h0006ts/T/ipykernel_39890/3413124393.py\", line 28, in visit_Assign\n",
      "    self.generic_visit(node)\n",
      "  File \"/var/folders/n2/xd9445p97rb3xh7m1dfx8_4h0006ts/T/ipykernel_39890/3413124393.py\", line 13, in generic_visit\n",
      "    super().generic_visit(node)\n",
      "  File \"/Users/zeller/.pyenv/versions/3.10.2/lib/python3.10/ast.py\", line 420, in generic_visit\n",
      "    self.visit(value)\n",
      "  File \"/Users/zeller/.pyenv/versions/3.10.2/lib/python3.10/ast.py\", line 410, in visit\n",
      "    return visitor(node)\n",
      "  File \"/var/folders/n2/xd9445p97rb3xh7m1dfx8_4h0006ts/T/ipykernel_39890/3413124393.py\", line 23, in visit_Name\n",
      "    raise ParserException(f\"Something went wrong\")\n",
      "ParserException: Something went wrong (expected)\n"
     ]
    }
   ],
   "source": [
    "parser4 = Parser4()\n",
    "input_program = '''\n",
    "a = 1\n",
    "b = c\n",
    "'''\n",
    "with ExpectError(ParserException):\n",
    "    parser4.parse(input_program)"
   ]
  },
  {
   "cell_type": "code",
   "execution_count": 38,
   "metadata": {
    "execution": {
     "iopub.execute_input": "2022-08-06T23:26:41.829685Z",
     "iopub.status.busy": "2022-08-06T23:26:41.829255Z",
     "iopub.status.idle": "2022-08-06T23:26:41.830606Z",
     "shell.execute_reply": "2022-08-06T23:26:41.830819Z"
    },
    "hidden": true,
    "pycharm": {
     "name": "#%%\n"
    },
    "slideshow": {
     "slide_type": "subslide"
    }
   },
   "outputs": [],
   "source": [
    "class Parser5(Parser):\n",
    "    \"\"\"\n",
    "    Fails if an input program contains a list\n",
    "    \"\"\"\n",
    "\n",
    "    def visit_List(self, node: ast.List) -> None:\n",
    "        raise ParserException(f\"Something went wrong\") "
   ]
  },
  {
   "cell_type": "code",
   "execution_count": 39,
   "metadata": {
    "collapsed": false,
    "execution": {
     "iopub.execute_input": "2022-08-06T23:26:41.832945Z",
     "iopub.status.busy": "2022-08-06T23:26:41.832602Z",
     "iopub.status.idle": "2022-08-06T23:26:41.834184Z",
     "shell.execute_reply": "2022-08-06T23:26:41.834526Z"
    },
    "jupyter": {
     "outputs_hidden": false
    },
    "pycharm": {
     "name": "#%%\n"
    },
    "slideshow": {
     "slide_type": "subslide"
    }
   },
   "outputs": [
    {
     "name": "stderr",
     "output_type": "stream",
     "text": [
      "Traceback (most recent call last):\n",
      "  File \"/var/folders/n2/xd9445p97rb3xh7m1dfx8_4h0006ts/T/ipykernel_39890/3158638464.py\", line 6, in <module>\n",
      "    parser5.parse(input_program)\n",
      "  File \"/var/folders/n2/xd9445p97rb3xh7m1dfx8_4h0006ts/T/ipykernel_39890/1737200860.py\", line 9, in parse\n",
      "    self.parse_tree(tree)\n",
      "  File \"/var/folders/n2/xd9445p97rb3xh7m1dfx8_4h0006ts/T/ipykernel_39890/1737200860.py\", line 5, in parse_tree\n",
      "    self.visit(tree)\n",
      "  File \"/Users/zeller/.pyenv/versions/3.10.2/lib/python3.10/ast.py\", line 410, in visit\n",
      "    return visitor(node)\n",
      "  File \"/Users/zeller/.pyenv/versions/3.10.2/lib/python3.10/ast.py\", line 418, in generic_visit\n",
      "    self.visit(item)\n",
      "  File \"/Users/zeller/.pyenv/versions/3.10.2/lib/python3.10/ast.py\", line 410, in visit\n",
      "    return visitor(node)\n",
      "  File \"/Users/zeller/.pyenv/versions/3.10.2/lib/python3.10/ast.py\", line 420, in generic_visit\n",
      "    self.visit(value)\n",
      "  File \"/Users/zeller/.pyenv/versions/3.10.2/lib/python3.10/ast.py\", line 410, in visit\n",
      "    return visitor(node)\n",
      "  File \"/Users/zeller/.pyenv/versions/3.10.2/lib/python3.10/ast.py\", line 418, in generic_visit\n",
      "    self.visit(item)\n",
      "  File \"/Users/zeller/.pyenv/versions/3.10.2/lib/python3.10/ast.py\", line 410, in visit\n",
      "    return visitor(node)\n",
      "  File \"/Users/zeller/.pyenv/versions/3.10.2/lib/python3.10/ast.py\", line 420, in generic_visit\n",
      "    self.visit(value)\n",
      "  File \"/Users/zeller/.pyenv/versions/3.10.2/lib/python3.10/ast.py\", line 410, in visit\n",
      "    return visitor(node)\n",
      "  File \"/Users/zeller/.pyenv/versions/3.10.2/lib/python3.10/ast.py\", line 418, in generic_visit\n",
      "    self.visit(item)\n",
      "  File \"/Users/zeller/.pyenv/versions/3.10.2/lib/python3.10/ast.py\", line 410, in visit\n",
      "    return visitor(node)\n",
      "  File \"/var/folders/n2/xd9445p97rb3xh7m1dfx8_4h0006ts/T/ipykernel_39890/4175947920.py\", line 7, in visit_List\n",
      "    raise ParserException(f\"Something went wrong\")\n",
      "ParserException: Something went wrong (expected)\n"
     ]
    }
   ],
   "source": [
    "parser5 = Parser5()\n",
    "input_program = '''\n",
    "a = {x * 2 for x in map(int, ['1', '2', '3'])}\n",
    "'''\n",
    "with ExpectError(ParserException):\n",
    "    parser5.parse(input_program)"
   ]
  },
  {
   "cell_type": "markdown",
   "metadata": {
    "slideshow": {
     "slide_type": "subslide"
    }
   },
   "source": [
    "For secret tests we may use other parsers crafted in the same way."
   ]
  },
  {
   "cell_type": "markdown",
   "metadata": {
    "pycharm": {
     "name": "#%% md\n"
    },
    "slideshow": {
     "slide_type": "subslide"
    }
   },
   "source": [
    "### Input Programs"
   ]
  },
  {
   "cell_type": "markdown",
   "metadata": {
    "slideshow": {
     "slide_type": "fragment"
    }
   },
   "source": [
    "Now we present five public tests.\n",
    "Each test case implements a `get_original()` method that returns an input program which your reducer should minify.\n",
    "It also has a `parser` field which stores a parser used for a respective input program.\n",
    "Besides, `get_minimized()` method provides a reference solution."
   ]
  },
  {
   "cell_type": "code",
   "execution_count": 40,
   "metadata": {
    "collapsed": false,
    "execution": {
     "iopub.execute_input": "2022-08-06T23:26:41.836961Z",
     "iopub.status.busy": "2022-08-06T23:26:41.836593Z",
     "iopub.status.idle": "2022-08-06T23:26:41.837874Z",
     "shell.execute_reply": "2022-08-06T23:26:41.838203Z"
    },
    "jupyter": {
     "outputs_hidden": false
    },
    "pycharm": {
     "name": "#%%\n"
    },
    "slideshow": {
     "slide_type": "subslide"
    }
   },
   "outputs": [],
   "source": [
    "class Test1:\n",
    "    parser = Parser1()\n",
    "\n",
    "    def get_original(self) -> str:\n",
    "        return '''\n",
    "def original():\n",
    "    a = True\n",
    "    b = not False\n",
    "    c = 30\n",
    "    for i in range(c):\n",
    "        if i == 15:\n",
    "            if a and b:\n",
    "                return 1\n",
    "    return 0\n",
    "'''\n",
    "\n",
    "    def get_minimized(self) -> str:\n",
    "        return '''\n",
    "True and True'''"
   ]
  },
  {
   "cell_type": "code",
   "execution_count": 41,
   "metadata": {
    "collapsed": false,
    "execution": {
     "iopub.execute_input": "2022-08-06T23:26:41.840583Z",
     "iopub.status.busy": "2022-08-06T23:26:41.840240Z",
     "iopub.status.idle": "2022-08-06T23:26:41.841662Z",
     "shell.execute_reply": "2022-08-06T23:26:41.841992Z"
    },
    "jupyter": {
     "outputs_hidden": false
    },
    "pycharm": {
     "name": "#%%\n"
    },
    "slideshow": {
     "slide_type": "subslide"
    }
   },
   "outputs": [],
   "source": [
    "class Test2:\n",
    "    parser = Parser2()\n",
    "    def get_original(self) -> str:\n",
    "        return '''\n",
    "def original():\n",
    "    a = True\n",
    "    b = not False\n",
    "    c = 30\n",
    "    for i in range(c):\n",
    "        if i == 15:\n",
    "            if a and b:\n",
    "                return 1\n",
    "    return 0\n",
    "    '''\n",
    "\n",
    "    def get_minimized(self) -> str:\n",
    "        return '''\n",
    "if True:\n",
    "    return\n",
    "'''"
   ]
  },
  {
   "cell_type": "code",
   "execution_count": 42,
   "metadata": {
    "collapsed": false,
    "execution": {
     "iopub.execute_input": "2022-08-06T23:26:41.844240Z",
     "iopub.status.busy": "2022-08-06T23:26:41.843912Z",
     "iopub.status.idle": "2022-08-06T23:26:41.845117Z",
     "shell.execute_reply": "2022-08-06T23:26:41.845419Z"
    },
    "jupyter": {
     "outputs_hidden": false
    },
    "pycharm": {
     "name": "#%%\n"
    },
    "slideshow": {
     "slide_type": "subslide"
    }
   },
   "outputs": [],
   "source": [
    "class Test3:\n",
    "    parser = Parser3()\n",
    "    def get_original(self) -> str:\n",
    "        return '''\n",
    "def original():\n",
    "    a = 1\n",
    "    b = a\n",
    "    c = a - b\n",
    "    if c < a:\n",
    "        d = ''\n",
    "        while a == b:\n",
    "            d = u'\\u0426'\n",
    "            a += 1\n",
    "        return d\n",
    "    return ''\n",
    "'''\n",
    "\n",
    "    def get_minimized(self) -> str:\n",
    "        return '''\n",
    "d = u'\\u0426'\n",
    "'''"
   ]
  },
  {
   "cell_type": "code",
   "execution_count": 43,
   "metadata": {
    "collapsed": false,
    "execution": {
     "iopub.execute_input": "2022-08-06T23:26:41.847558Z",
     "iopub.status.busy": "2022-08-06T23:26:41.847218Z",
     "iopub.status.idle": "2022-08-06T23:26:41.848384Z",
     "shell.execute_reply": "2022-08-06T23:26:41.848630Z"
    },
    "jupyter": {
     "outputs_hidden": false
    },
    "pycharm": {
     "name": "#%%\n"
    },
    "slideshow": {
     "slide_type": "subslide"
    }
   },
   "outputs": [],
   "source": [
    "class Test4:\n",
    "    parser = Parser4()\n",
    "    def get_original(self) -> str:\n",
    "        return '''\n",
    "def original():\n",
    "    a = 1\n",
    "    b = a\n",
    "    c = a - b\n",
    "    if c < a:\n",
    "        while a == b:\n",
    "            a += 1\n",
    "        return d\n",
    "    return ''\n",
    "'''\n",
    "\n",
    "    def get_minimized(self) -> str:\n",
    "        return '''\n",
    "d\n",
    "'''"
   ]
  },
  {
   "cell_type": "code",
   "execution_count": 44,
   "metadata": {
    "collapsed": false,
    "execution": {
     "iopub.execute_input": "2022-08-06T23:26:41.851224Z",
     "iopub.status.busy": "2022-08-06T23:26:41.850864Z",
     "iopub.status.idle": "2022-08-06T23:26:41.852143Z",
     "shell.execute_reply": "2022-08-06T23:26:41.852359Z"
    },
    "jupyter": {
     "outputs_hidden": false
    },
    "pycharm": {
     "name": "#%%\n"
    },
    "slideshow": {
     "slide_type": "subslide"
    }
   },
   "outputs": [],
   "source": [
    "class Test5:\n",
    "    parser = Parser5()\n",
    "\n",
    "    def get_original(self) -> str:\n",
    "        return '''\n",
    "def original():\n",
    "    a = 1\n",
    "    b = 0\n",
    "    while True:\n",
    "        if a < b:\n",
    "            return [1, 2, 3]\n",
    "        else:\n",
    "            return []\n",
    "'''\n",
    "\n",
    "    def get_minimized(self) -> str:\n",
    "        return '''\n",
    "[]\n",
    "'''"
   ]
  },
  {
   "cell_type": "markdown",
   "metadata": {
    "pycharm": {
     "name": "#%% md\n"
    },
    "slideshow": {
     "slide_type": "subslide"
    }
   },
   "source": [
    "For instance, let's take the input program of `Test1`:"
   ]
  },
  {
   "cell_type": "code",
   "execution_count": 45,
   "metadata": {
    "collapsed": false,
    "execution": {
     "iopub.execute_input": "2022-08-06T23:26:41.854396Z",
     "iopub.status.busy": "2022-08-06T23:26:41.854094Z",
     "iopub.status.idle": "2022-08-06T23:26:41.855505Z",
     "shell.execute_reply": "2022-08-06T23:26:41.855707Z"
    },
    "jupyter": {
     "outputs_hidden": false
    },
    "pycharm": {
     "name": "#%%\n"
    },
    "slideshow": {
     "slide_type": "subslide"
    }
   },
   "outputs": [
    {
     "name": "stdout",
     "output_type": "stream",
     "text": [
      "\n",
      "def original():\n",
      "    a = True\n",
      "    b = not False\n",
      "    c = 30\n",
      "    for i in range(c):\n",
      "        if i == 15:\n",
      "            if a and b:\n",
      "                return 1\n",
      "    return 0\n",
      "\n"
     ]
    }
   ],
   "source": [
    "test = Test1()\n",
    "source = test.get_original()\n",
    "print(source)"
   ]
  },
  {
   "cell_type": "markdown",
   "metadata": {
    "slideshow": {
     "slide_type": "subslide"
    }
   },
   "source": [
    "And parse it with the provided parser:"
   ]
  },
  {
   "cell_type": "code",
   "execution_count": 46,
   "metadata": {
    "collapsed": false,
    "execution": {
     "iopub.execute_input": "2022-08-06T23:26:41.857886Z",
     "iopub.status.busy": "2022-08-06T23:26:41.857582Z",
     "iopub.status.idle": "2022-08-06T23:26:41.859082Z",
     "shell.execute_reply": "2022-08-06T23:26:41.859348Z"
    },
    "jupyter": {
     "outputs_hidden": false
    },
    "pycharm": {
     "name": "#%%\n"
    },
    "slideshow": {
     "slide_type": "subslide"
    }
   },
   "outputs": [
    {
     "name": "stderr",
     "output_type": "stream",
     "text": [
      "Traceback (most recent call last):\n",
      "  File \"/var/folders/n2/xd9445p97rb3xh7m1dfx8_4h0006ts/T/ipykernel_39890/1292946598.py\", line 2, in <module>\n",
      "    test.parser.parse(source)\n",
      "  File \"/var/folders/n2/xd9445p97rb3xh7m1dfx8_4h0006ts/T/ipykernel_39890/1737200860.py\", line 9, in parse\n",
      "    self.parse_tree(tree)\n",
      "  File \"/var/folders/n2/xd9445p97rb3xh7m1dfx8_4h0006ts/T/ipykernel_39890/1737200860.py\", line 5, in parse_tree\n",
      "    self.visit(tree)\n",
      "  File \"/Users/zeller/.pyenv/versions/3.10.2/lib/python3.10/ast.py\", line 410, in visit\n",
      "    return visitor(node)\n",
      "  File \"/Users/zeller/.pyenv/versions/3.10.2/lib/python3.10/ast.py\", line 418, in generic_visit\n",
      "    self.visit(item)\n",
      "  File \"/Users/zeller/.pyenv/versions/3.10.2/lib/python3.10/ast.py\", line 410, in visit\n",
      "    return visitor(node)\n",
      "  File \"/Users/zeller/.pyenv/versions/3.10.2/lib/python3.10/ast.py\", line 418, in generic_visit\n",
      "    self.visit(item)\n",
      "  File \"/Users/zeller/.pyenv/versions/3.10.2/lib/python3.10/ast.py\", line 410, in visit\n",
      "    return visitor(node)\n",
      "  File \"/Users/zeller/.pyenv/versions/3.10.2/lib/python3.10/ast.py\", line 418, in generic_visit\n",
      "    self.visit(item)\n",
      "  File \"/Users/zeller/.pyenv/versions/3.10.2/lib/python3.10/ast.py\", line 410, in visit\n",
      "    return visitor(node)\n",
      "  File \"/Users/zeller/.pyenv/versions/3.10.2/lib/python3.10/ast.py\", line 418, in generic_visit\n",
      "    self.visit(item)\n",
      "  File \"/Users/zeller/.pyenv/versions/3.10.2/lib/python3.10/ast.py\", line 410, in visit\n",
      "    return visitor(node)\n",
      "  File \"/Users/zeller/.pyenv/versions/3.10.2/lib/python3.10/ast.py\", line 420, in generic_visit\n",
      "    self.visit(value)\n",
      "  File \"/Users/zeller/.pyenv/versions/3.10.2/lib/python3.10/ast.py\", line 410, in visit\n",
      "    return visitor(node)\n",
      "  File \"/var/folders/n2/xd9445p97rb3xh7m1dfx8_4h0006ts/T/ipykernel_39890/2980862917.py\", line 7, in visit_BoolOp\n",
      "    raise ParserException(f\"Something went wrong\")\n",
      "ParserException: Something went wrong (expected)\n"
     ]
    }
   ],
   "source": [
    "with ExpectError():\n",
    "    test.parser.parse(source)"
   ]
  },
  {
   "cell_type": "markdown",
   "metadata": {
    "slideshow": {
     "slide_type": "subslide"
    }
   },
   "source": [
    "The parser failed."
   ]
  },
  {
   "cell_type": "markdown",
   "metadata": {
    "slideshow": {
     "slide_type": "subslide"
    }
   },
   "source": [
    "### Testing Infrastructure\n",
    "\n",
    "The following section introduces the testing infrastructure, which is used to assess your performance in the project. Passing all tests will be enough to complete the project successfully."
   ]
  },
  {
   "cell_type": "markdown",
   "metadata": {
    "hidden": true,
    "pycharm": {
     "name": "#%% md\n"
    },
    "slideshow": {
     "slide_type": "fragment"
    }
   },
   "source": [
    "We are not going to directly compare a minimized program with the reference solution (as two strings). Instead, we again transform the code into AST and count the number of nodes in both trees.\n",
    "If the difference between them is lower than a `THRESHOLD` (and a parser still produces an error), the test is passed.\n",
    "To count the number of nodes in the AST, we need a helper class `NodeCounter`."
   ]
  },
  {
   "cell_type": "code",
   "execution_count": 47,
   "metadata": {
    "execution": {
     "iopub.execute_input": "2022-08-06T23:26:41.862350Z",
     "iopub.status.busy": "2022-08-06T23:26:41.861965Z",
     "iopub.status.idle": "2022-08-06T23:26:41.863138Z",
     "shell.execute_reply": "2022-08-06T23:26:41.863331Z"
    },
    "hidden": true,
    "pycharm": {
     "name": "#%%\n"
    },
    "slideshow": {
     "slide_type": "subslide"
    }
   },
   "outputs": [],
   "source": [
    "class NodeCounter(ast.NodeVisitor):\n",
    "    \"\"\"\n",
    "    This node counter is used to assess\n",
    "    the amount of reductions performed by your reducer.\n",
    "    It counts the number of nodes in the AST.\n",
    "    \"\"\"\n",
    "\n",
    "    def __init__(self) -> None:\n",
    "        self.num_nodes = 0\n",
    "\n",
    "    def visit(self, node: ast.AST) -> None:\n",
    "        self.num_nodes += 1\n",
    "        self.generic_visit(node)\n",
    "\n",
    "    def count(self, source: str) -> int:\n",
    "        tree = ast.parse(source=source)\n",
    "        self.visit(tree)\n",
    "        return self.num_nodes"
   ]
  },
  {
   "cell_type": "markdown",
   "metadata": {
    "pycharm": {
     "name": "#%% md\n"
    },
    "slideshow": {
     "slide_type": "subslide"
    }
   },
   "source": [
    "The AST of the input program is as follows:"
   ]
  },
  {
   "cell_type": "code",
   "execution_count": 48,
   "metadata": {
    "collapsed": false,
    "execution": {
     "iopub.execute_input": "2022-08-06T23:26:41.866241Z",
     "iopub.status.busy": "2022-08-06T23:26:41.865616Z",
     "iopub.status.idle": "2022-08-06T23:26:42.184022Z",
     "shell.execute_reply": "2022-08-06T23:26:42.184237Z"
    },
    "jupyter": {
     "outputs_hidden": false
    },
    "pycharm": {
     "name": "#%%\n"
    },
    "slideshow": {
     "slide_type": "fragment"
    }
   },
   "outputs": [
    {
     "data": {
      "image/svg+xml": [
       "<svg xmlns=\"http://www.w3.org/2000/svg\" xmlns:xlink=\"http://www.w3.org/1999/xlink\" width=\"1620pt\" height=\"476pt\" viewBox=\"0.00 0.00 1620.00 476.00\">\n",
       "<g id=\"graph0\" class=\"graph\" transform=\"scale(1 1) rotate(0) translate(4 472)\">\n",
       "<polygon fill=\"white\" stroke=\"transparent\" points=\"-4,4 -4,-472 1616,-472 1616,4 -4,4\"/>\n",
       "<!-- 0 -->\n",
       "<g id=\"node1\" class=\"node\">\n",
       "<title>0</title>\n",
       "<text text-anchor=\"start\" x=\"397.5\" y=\"-447.3\" font-family=\"Courier,monospace\" font-weight=\"bold\" font-size=\"14.00\" fill=\"#004080\">FunctionDef</text>\n",
       "</g>\n",
       "<!-- 1 -->\n",
       "<g id=\"node2\" class=\"node\">\n",
       "<title>1</title>\n",
       "<text text-anchor=\"middle\" x=\"149\" y=\"-374.3\" font-family=\"Courier,monospace\" font-size=\"14.00\" fill=\"#008040\">&quot;original&quot;</text>\n",
       "</g>\n",
       "<!-- 0&#45;&#45;1 -->\n",
       "<g id=\"edge1\" class=\"edge\">\n",
       "<title>0--1</title>\n",
       "<path fill=\"none\" stroke=\"black\" d=\"M444,-431C444,-431 311,-418.81 207,-396 204.23,-395.39 201.4,-394.73 198.56,-394.02\"/>\n",
       "</g>\n",
       "<!-- 2 -->\n",
       "<g id=\"node3\" class=\"node\">\n",
       "<title>2</title>\n",
       "<text text-anchor=\"middle\" x=\"262\" y=\"-374.3\" font-family=\"Courier,monospace\" font-size=\"14.00\" fill=\"#008040\">arguments</text>\n",
       "</g>\n",
       "<!-- 0&#45;&#45;2 -->\n",
       "<g id=\"edge2\" class=\"edge\">\n",
       "<title>0--2</title>\n",
       "<path fill=\"none\" stroke=\"black\" d=\"M444,-431C444,-431 373.2,-412.42 317,-396 313.93,-395.1 310.77,-394.16 307.59,-393.21\"/>\n",
       "</g>\n",
       "<!-- 3 -->\n",
       "<g id=\"node4\" class=\"node\">\n",
       "<title>3</title>\n",
       "<text text-anchor=\"start\" x=\"334\" y=\"-375.3\" font-family=\"Courier,monospace\" font-weight=\"bold\" font-size=\"14.00\" fill=\"#004080\">Assign</text>\n",
       "</g>\n",
       "<!-- 0&#45;&#45;3 -->\n",
       "<g id=\"edge3\" class=\"edge\">\n",
       "<title>0--3</title>\n",
       "<path fill=\"none\" stroke=\"black\" d=\"M444,-431C444,-431 411.62,-411.19 386.83,-396.03\"/>\n",
       "</g>\n",
       "<!-- 9 -->\n",
       "<g id=\"node10\" class=\"node\">\n",
       "<title>9</title>\n",
       "<text text-anchor=\"start\" x=\"418\" y=\"-375.3\" font-family=\"Courier,monospace\" font-weight=\"bold\" font-size=\"14.00\" fill=\"#004080\">Assign</text>\n",
       "</g>\n",
       "<!-- 0&#45;&#45;9 -->\n",
       "<g id=\"edge9\" class=\"edge\">\n",
       "<title>0--9</title>\n",
       "<path fill=\"none\" stroke=\"black\" d=\"M444,-431C444,-431 443.62,-411.19 443.33,-396.03\"/>\n",
       "</g>\n",
       "<!-- 17 -->\n",
       "<g id=\"node18\" class=\"node\">\n",
       "<title>17</title>\n",
       "<text text-anchor=\"start\" x=\"574\" y=\"-375.3\" font-family=\"Courier,monospace\" font-weight=\"bold\" font-size=\"14.00\" fill=\"#004080\">Assign</text>\n",
       "</g>\n",
       "<!-- 0&#45;&#45;17 -->\n",
       "<g id=\"edge17\" class=\"edge\">\n",
       "<title>0--17</title>\n",
       "<path fill=\"none\" stroke=\"black\" d=\"M444,-431C444,-431 520.2,-405.43 565.75,-390.16\"/>\n",
       "</g>\n",
       "<!-- 23 -->\n",
       "<g id=\"node24\" class=\"node\">\n",
       "<title>23</title>\n",
       "<text text-anchor=\"start\" x=\"887.5\" y=\"-375.3\" font-family=\"Courier,monospace\" font-weight=\"bold\" font-size=\"14.00\" fill=\"#004080\">For</text>\n",
       "</g>\n",
       "<!-- 0&#45;&#45;23 -->\n",
       "<g id=\"edge23\" class=\"edge\">\n",
       "<title>0--23</title>\n",
       "<path fill=\"none\" stroke=\"black\" d=\"M444,-431C444,-431 774.67,-393.29 872.84,-382.1\"/>\n",
       "</g>\n",
       "<!-- 54 -->\n",
       "<g id=\"node55\" class=\"node\">\n",
       "<title>54</title>\n",
       "<text text-anchor=\"start\" x=\"1143\" y=\"-375.3\" font-family=\"Courier,monospace\" font-weight=\"bold\" font-size=\"14.00\" fill=\"#004080\">Return</text>\n",
       "</g>\n",
       "<!-- 0&#45;&#45;54 -->\n",
       "<g id=\"edge54\" class=\"edge\">\n",
       "<title>0--54</title>\n",
       "<path fill=\"none\" stroke=\"black\" d=\"M444,-431C444,-431 717.35,-411.79 936,-396 1006.89,-390.88 1089.97,-384.77 1134.96,-381.44\"/>\n",
       "</g>\n",
       "<!-- 4 -->\n",
       "<g id=\"node5\" class=\"node\">\n",
       "<title>4</title>\n",
       "<text text-anchor=\"start\" x=\"84\" y=\"-303.3\" font-family=\"Courier,monospace\" font-weight=\"bold\" font-size=\"14.00\" fill=\"#004080\">Name</text>\n",
       "</g>\n",
       "<!-- 3&#45;&#45;4 -->\n",
       "<g id=\"edge4\" class=\"edge\">\n",
       "<title>3--4</title>\n",
       "<path fill=\"none\" stroke=\"black\" d=\"M326,-364C326,-364 320.57,-361.43 316,-360 248.1,-338.72 228.88,-341.86 160,-324 149.58,-321.3 138.2,-318.08 128.23,-315.18\"/>\n",
       "</g>\n",
       "<!-- 7 -->\n",
       "<g id=\"node8\" class=\"node\">\n",
       "<title>7</title>\n",
       "<text text-anchor=\"start\" x=\"177.5\" y=\"-303.3\" font-family=\"Courier,monospace\" font-weight=\"bold\" font-size=\"14.00\" fill=\"#004080\">Constant</text>\n",
       "</g>\n",
       "<!-- 3&#45;&#45;7 -->\n",
       "<g id=\"edge7\" class=\"edge\">\n",
       "<title>3--7</title>\n",
       "<path fill=\"none\" stroke=\"black\" d=\"M326,-364C326,-364 279.38,-340.89 245.5,-324.1\"/>\n",
       "</g>\n",
       "<!-- 5 -->\n",
       "<g id=\"node6\" class=\"node\">\n",
       "<title>5</title>\n",
       "<text text-anchor=\"middle\" x=\"27\" y=\"-230.3\" font-family=\"Courier,monospace\" font-size=\"14.00\" fill=\"#008040\">&quot;a&quot;</text>\n",
       "</g>\n",
       "<!-- 4&#45;&#45;5 -->\n",
       "<g id=\"edge5\" class=\"edge\">\n",
       "<title>4--5</title>\n",
       "<path fill=\"none\" stroke=\"black\" d=\"M93,-287C93,-287 67.86,-267.19 48.61,-252.03\"/>\n",
       "</g>\n",
       "<!-- 6 -->\n",
       "<g id=\"node7\" class=\"node\">\n",
       "<title>6</title>\n",
       "<text text-anchor=\"middle\" x=\"101\" y=\"-230.3\" font-family=\"Courier,monospace\" font-size=\"14.00\" fill=\"#008040\">Store</text>\n",
       "</g>\n",
       "<!-- 4&#45;&#45;6 -->\n",
       "<g id=\"edge6\" class=\"edge\">\n",
       "<title>4--6</title>\n",
       "<path fill=\"none\" stroke=\"black\" d=\"M93,-287C93,-287 96.05,-267.19 98.38,-252.03\"/>\n",
       "</g>\n",
       "<!-- 8 -->\n",
       "<g id=\"node9\" class=\"node\">\n",
       "<title>8</title>\n",
       "<text text-anchor=\"middle\" x=\"175\" y=\"-230.3\" font-family=\"Courier,monospace\" font-size=\"14.00\" fill=\"#008040\">True</text>\n",
       "</g>\n",
       "<!-- 7&#45;&#45;8 -->\n",
       "<g id=\"edge8\" class=\"edge\">\n",
       "<title>7--8</title>\n",
       "<path fill=\"none\" stroke=\"black\" d=\"M202.1,-287.7C196.52,-276.85 189.36,-262.92 183.8,-252.1\"/>\n",
       "</g>\n",
       "<!-- 10 -->\n",
       "<g id=\"node11\" class=\"node\">\n",
       "<title>10</title>\n",
       "<text text-anchor=\"start\" x=\"304\" y=\"-303.3\" font-family=\"Courier,monospace\" font-weight=\"bold\" font-size=\"14.00\" fill=\"#004080\">Name</text>\n",
       "</g>\n",
       "<!-- 9&#45;&#45;10 -->\n",
       "<g id=\"edge10\" class=\"edge\">\n",
       "<title>9--10</title>\n",
       "<path fill=\"none\" stroke=\"black\" d=\"M433,-359C433,-359 381.26,-334.98 348.11,-319.59\"/>\n",
       "</g>\n",
       "<!-- 13 -->\n",
       "<g id=\"node14\" class=\"node\">\n",
       "<title>13</title>\n",
       "<text text-anchor=\"start\" x=\"414\" y=\"-303.3\" font-family=\"Courier,monospace\" font-weight=\"bold\" font-size=\"14.00\" fill=\"#004080\">UnaryOp</text>\n",
       "</g>\n",
       "<!-- 9&#45;&#45;13 -->\n",
       "<g id=\"edge13\" class=\"edge\">\n",
       "<title>9--13</title>\n",
       "<path fill=\"none\" stroke=\"black\" d=\"M433,-359C433,-359 436.81,-339.19 439.73,-324.03\"/>\n",
       "</g>\n",
       "<!-- 11 -->\n",
       "<g id=\"node12\" class=\"node\">\n",
       "<title>11</title>\n",
       "<text text-anchor=\"middle\" x=\"247\" y=\"-230.3\" font-family=\"Courier,monospace\" font-size=\"14.00\" fill=\"#008040\">&quot;b&quot;</text>\n",
       "</g>\n",
       "<!-- 10&#45;&#45;11 -->\n",
       "<g id=\"edge11\" class=\"edge\">\n",
       "<title>10--11</title>\n",
       "<path fill=\"none\" stroke=\"black\" d=\"M313,-287C313,-287 287.86,-267.19 268.61,-252.03\"/>\n",
       "</g>\n",
       "<!-- 12 -->\n",
       "<g id=\"node13\" class=\"node\">\n",
       "<title>12</title>\n",
       "<text text-anchor=\"middle\" x=\"321\" y=\"-230.3\" font-family=\"Courier,monospace\" font-size=\"14.00\" fill=\"#008040\">Store</text>\n",
       "</g>\n",
       "<!-- 10&#45;&#45;12 -->\n",
       "<g id=\"edge12\" class=\"edge\">\n",
       "<title>10--12</title>\n",
       "<path fill=\"none\" stroke=\"black\" d=\"M313,-287C313,-287 316.05,-267.19 318.38,-252.03\"/>\n",
       "</g>\n",
       "<!-- 14 -->\n",
       "<g id=\"node15\" class=\"node\">\n",
       "<title>14</title>\n",
       "<text text-anchor=\"middle\" x=\"395\" y=\"-230.3\" font-family=\"Courier,monospace\" font-size=\"14.00\" fill=\"#008040\">Not</text>\n",
       "</g>\n",
       "<!-- 13&#45;&#45;14 -->\n",
       "<g id=\"edge14\" class=\"edge\">\n",
       "<title>13--14</title>\n",
       "<path fill=\"none\" stroke=\"black\" d=\"M442,-287C442,-287 424.1,-267.19 410.39,-252.03\"/>\n",
       "</g>\n",
       "<!-- 15 -->\n",
       "<g id=\"node16\" class=\"node\">\n",
       "<title>15</title>\n",
       "<text text-anchor=\"start\" x=\"448.5\" y=\"-231.3\" font-family=\"Courier,monospace\" font-weight=\"bold\" font-size=\"14.00\" fill=\"#004080\">Constant</text>\n",
       "</g>\n",
       "<!-- 13&#45;&#45;15 -->\n",
       "<g id=\"edge15\" class=\"edge\">\n",
       "<title>13--15</title>\n",
       "<path fill=\"none\" stroke=\"black\" d=\"M442,-287C442,-287 457.24,-267.19 468.9,-252.03\"/>\n",
       "</g>\n",
       "<!-- 16 -->\n",
       "<g id=\"node17\" class=\"node\">\n",
       "<title>16</title>\n",
       "<text text-anchor=\"middle\" x=\"482\" y=\"-158.3\" font-family=\"Courier,monospace\" font-size=\"14.00\" fill=\"#008040\">False</text>\n",
       "</g>\n",
       "<!-- 15&#45;&#45;16 -->\n",
       "<g id=\"edge16\" class=\"edge\">\n",
       "<title>15--16</title>\n",
       "<path fill=\"none\" stroke=\"black\" d=\"M482,-215.7C482,-204.85 482,-190.92 482,-180.1\"/>\n",
       "</g>\n",
       "<!-- 18 -->\n",
       "<g id=\"node19\" class=\"node\">\n",
       "<title>18</title>\n",
       "<text text-anchor=\"start\" x=\"582\" y=\"-303.3\" font-family=\"Courier,monospace\" font-weight=\"bold\" font-size=\"14.00\" fill=\"#004080\">Name</text>\n",
       "</g>\n",
       "<!-- 17&#45;&#45;18 -->\n",
       "<g id=\"edge18\" class=\"edge\">\n",
       "<title>17--18</title>\n",
       "<path fill=\"none\" stroke=\"black\" d=\"M609,-359C609,-359 605.19,-339.19 602.27,-324.03\"/>\n",
       "</g>\n",
       "<!-- 21 -->\n",
       "<g id=\"node22\" class=\"node\">\n",
       "<title>21</title>\n",
       "<text text-anchor=\"start\" x=\"668.5\" y=\"-303.3\" font-family=\"Courier,monospace\" font-weight=\"bold\" font-size=\"14.00\" fill=\"#004080\">Constant</text>\n",
       "</g>\n",
       "<!-- 17&#45;&#45;21 -->\n",
       "<g id=\"edge21\" class=\"edge\">\n",
       "<title>17--21</title>\n",
       "<path fill=\"none\" stroke=\"black\" d=\"M609,-359C609,-359 644.43,-339.19 671.55,-324.03\"/>\n",
       "</g>\n",
       "<!-- 19 -->\n",
       "<g id=\"node20\" class=\"node\">\n",
       "<title>19</title>\n",
       "<text text-anchor=\"middle\" x=\"569\" y=\"-230.3\" font-family=\"Courier,monospace\" font-size=\"14.00\" fill=\"#008040\">&quot;c&quot;</text>\n",
       "</g>\n",
       "<!-- 18&#45;&#45;19 -->\n",
       "<g id=\"edge19\" class=\"edge\">\n",
       "<title>18--19</title>\n",
       "<path fill=\"none\" stroke=\"black\" d=\"M600,-287C600,-287 588.19,-267.19 579.15,-252.03\"/>\n",
       "</g>\n",
       "<!-- 20 -->\n",
       "<g id=\"node21\" class=\"node\">\n",
       "<title>20</title>\n",
       "<text text-anchor=\"middle\" x=\"643\" y=\"-230.3\" font-family=\"Courier,monospace\" font-size=\"14.00\" fill=\"#008040\">Store</text>\n",
       "</g>\n",
       "<!-- 18&#45;&#45;20 -->\n",
       "<g id=\"edge20\" class=\"edge\">\n",
       "<title>18--20</title>\n",
       "<path fill=\"none\" stroke=\"black\" d=\"M600,-287C600,-287 616.38,-267.19 628.92,-252.03\"/>\n",
       "</g>\n",
       "<!-- 22 -->\n",
       "<g id=\"node23\" class=\"node\">\n",
       "<title>22</title>\n",
       "<text text-anchor=\"middle\" x=\"717\" y=\"-230.3\" font-family=\"Courier,monospace\" font-size=\"14.00\" fill=\"#008040\">30</text>\n",
       "</g>\n",
       "<!-- 21&#45;&#45;22 -->\n",
       "<g id=\"edge22\" class=\"edge\">\n",
       "<title>21--22</title>\n",
       "<path fill=\"none\" stroke=\"black\" d=\"M705.71,-287.7C708.03,-276.85 711.02,-262.92 713.33,-252.1\"/>\n",
       "</g>\n",
       "<!-- 24 -->\n",
       "<g id=\"node25\" class=\"node\">\n",
       "<title>24</title>\n",
       "<text text-anchor=\"start\" x=\"846\" y=\"-303.3\" font-family=\"Courier,monospace\" font-weight=\"bold\" font-size=\"14.00\" fill=\"#004080\">Name</text>\n",
       "</g>\n",
       "<!-- 23&#45;&#45;24 -->\n",
       "<g id=\"edge24\" class=\"edge\">\n",
       "<title>23--24</title>\n",
       "<path fill=\"none\" stroke=\"black\" d=\"M909,-359C909,-359 891.48,-339.19 878.06,-324.03\"/>\n",
       "</g>\n",
       "<!-- 27 -->\n",
       "<g id=\"node28\" class=\"node\">\n",
       "<title>27</title>\n",
       "<text text-anchor=\"start\" x=\"920\" y=\"-303.3\" font-family=\"Courier,monospace\" font-weight=\"bold\" font-size=\"14.00\" fill=\"#004080\">Call</text>\n",
       "</g>\n",
       "<!-- 23&#45;&#45;27 -->\n",
       "<g id=\"edge27\" class=\"edge\">\n",
       "<title>23--27</title>\n",
       "<path fill=\"none\" stroke=\"black\" d=\"M909,-359C909,-359 919.67,-339.19 927.83,-324.03\"/>\n",
       "</g>\n",
       "<!-- 34 -->\n",
       "<g id=\"node35\" class=\"node\">\n",
       "<title>34</title>\n",
       "<text text-anchor=\"start\" x=\"1180.5\" y=\"-303.3\" font-family=\"Courier,monospace\" font-weight=\"bold\" font-size=\"14.00\" fill=\"#004080\">If</text>\n",
       "</g>\n",
       "<!-- 23&#45;&#45;34 -->\n",
       "<g id=\"edge34\" class=\"edge\">\n",
       "<title>23--34</title>\n",
       "<path fill=\"none\" stroke=\"black\" d=\"M909,-359C909,-359 1091.63,-325.08 1161.9,-312.03\"/>\n",
       "</g>\n",
       "<!-- 25 -->\n",
       "<g id=\"node26\" class=\"node\">\n",
       "<title>25</title>\n",
       "<text text-anchor=\"middle\" x=\"789\" y=\"-230.3\" font-family=\"Courier,monospace\" font-size=\"14.00\" fill=\"#008040\">&quot;i&quot;</text>\n",
       "</g>\n",
       "<!-- 24&#45;&#45;25 -->\n",
       "<g id=\"edge25\" class=\"edge\">\n",
       "<title>24--25</title>\n",
       "<path fill=\"none\" stroke=\"black\" d=\"M855,-287C855,-287 829.86,-267.19 810.61,-252.03\"/>\n",
       "</g>\n",
       "<!-- 26 -->\n",
       "<g id=\"node27\" class=\"node\">\n",
       "<title>26</title>\n",
       "<text text-anchor=\"middle\" x=\"863\" y=\"-230.3\" font-family=\"Courier,monospace\" font-size=\"14.00\" fill=\"#008040\">Store</text>\n",
       "</g>\n",
       "<!-- 24&#45;&#45;26 -->\n",
       "<g id=\"edge26\" class=\"edge\">\n",
       "<title>24--26</title>\n",
       "<path fill=\"none\" stroke=\"black\" d=\"M855,-287C855,-287 858.05,-267.19 860.38,-252.03\"/>\n",
       "</g>\n",
       "<!-- 28 -->\n",
       "<g id=\"node29\" class=\"node\">\n",
       "<title>28</title>\n",
       "<text text-anchor=\"start\" x=\"920\" y=\"-231.3\" font-family=\"Courier,monospace\" font-weight=\"bold\" font-size=\"14.00\" fill=\"#004080\">Name</text>\n",
       "</g>\n",
       "<!-- 27&#45;&#45;28 -->\n",
       "<g id=\"edge28\" class=\"edge\">\n",
       "<title>27--28</title>\n",
       "<path fill=\"none\" stroke=\"black\" d=\"M945,-287C945,-287 941.95,-267.19 939.62,-252.03\"/>\n",
       "</g>\n",
       "<!-- 31 -->\n",
       "<g id=\"node32\" class=\"node\">\n",
       "<title>31</title>\n",
       "<text text-anchor=\"start\" x=\"992\" y=\"-231.3\" font-family=\"Courier,monospace\" font-weight=\"bold\" font-size=\"14.00\" fill=\"#004080\">Name</text>\n",
       "</g>\n",
       "<!-- 27&#45;&#45;31 -->\n",
       "<g id=\"edge31\" class=\"edge\">\n",
       "<title>27--31</title>\n",
       "<path fill=\"none\" stroke=\"black\" d=\"M945,-287C945,-287 969.38,-267.19 988.04,-252.03\"/>\n",
       "</g>\n",
       "<!-- 29 -->\n",
       "<g id=\"node30\" class=\"node\">\n",
       "<title>29</title>\n",
       "<text text-anchor=\"middle\" x=\"819\" y=\"-158.3\" font-family=\"Courier,monospace\" font-size=\"14.00\" fill=\"#008040\">&quot;range&quot;</text>\n",
       "</g>\n",
       "<!-- 28&#45;&#45;29 -->\n",
       "<g id=\"edge29\" class=\"edge\">\n",
       "<title>28--29</title>\n",
       "<path fill=\"none\" stroke=\"black\" d=\"M920,-215C920,-215 881.53,-195.19 852.07,-180.03\"/>\n",
       "</g>\n",
       "<!-- 30 -->\n",
       "<g id=\"node31\" class=\"node\">\n",
       "<title>30</title>\n",
       "<text text-anchor=\"middle\" x=\"901\" y=\"-158.3\" font-family=\"Courier,monospace\" font-size=\"14.00\" fill=\"#008040\">Load</text>\n",
       "</g>\n",
       "<!-- 28&#45;&#45;30 -->\n",
       "<g id=\"edge30\" class=\"edge\">\n",
       "<title>28--30</title>\n",
       "<path fill=\"none\" stroke=\"black\" d=\"M920,-215C920,-215 912.76,-195.19 907.22,-180.03\"/>\n",
       "</g>\n",
       "<!-- 32 -->\n",
       "<g id=\"node33\" class=\"node\">\n",
       "<title>32</title>\n",
       "<text text-anchor=\"middle\" x=\"973\" y=\"-158.3\" font-family=\"Courier,monospace\" font-size=\"14.00\" fill=\"#008040\">&quot;c&quot;</text>\n",
       "</g>\n",
       "<!-- 31&#45;&#45;32 -->\n",
       "<g id=\"edge32\" class=\"edge\">\n",
       "<title>31--32</title>\n",
       "<path fill=\"none\" stroke=\"black\" d=\"M1009,-215C1009,-215 995.29,-195.19 984.79,-180.03\"/>\n",
       "</g>\n",
       "<!-- 33 -->\n",
       "<g id=\"node34\" class=\"node\">\n",
       "<title>33</title>\n",
       "<text text-anchor=\"middle\" x=\"1045\" y=\"-158.3\" font-family=\"Courier,monospace\" font-size=\"14.00\" fill=\"#008040\">Load</text>\n",
       "</g>\n",
       "<!-- 31&#45;&#45;33 -->\n",
       "<g id=\"edge33\" class=\"edge\">\n",
       "<title>31--33</title>\n",
       "<path fill=\"none\" stroke=\"black\" d=\"M1009,-215C1009,-215 1022.71,-195.19 1033.21,-180.03\"/>\n",
       "</g>\n",
       "<!-- 35 -->\n",
       "<g id=\"node36\" class=\"node\">\n",
       "<title>35</title>\n",
       "<text text-anchor=\"start\" x=\"1160\" y=\"-231.3\" font-family=\"Courier,monospace\" font-weight=\"bold\" font-size=\"14.00\" fill=\"#004080\">Compare</text>\n",
       "</g>\n",
       "<!-- 34&#45;&#45;35 -->\n",
       "<g id=\"edge35\" class=\"edge\">\n",
       "<title>34--35</title>\n",
       "<path fill=\"none\" stroke=\"black\" d=\"M1200,-287C1200,-287 1195.81,-267.19 1192.6,-252.03\"/>\n",
       "</g>\n",
       "<!-- 42 -->\n",
       "<g id=\"node43\" class=\"node\">\n",
       "<title>42</title>\n",
       "<text text-anchor=\"start\" x=\"1319.5\" y=\"-231.3\" font-family=\"Courier,monospace\" font-weight=\"bold\" font-size=\"14.00\" fill=\"#004080\">If</text>\n",
       "</g>\n",
       "<!-- 34&#45;&#45;42 -->\n",
       "<g id=\"edge42\" class=\"edge\">\n",
       "<title>34--42</title>\n",
       "<path fill=\"none\" stroke=\"black\" d=\"M1200,-287C1200,-287 1263.28,-261.29 1300.85,-246.03\"/>\n",
       "</g>\n",
       "<!-- 36 -->\n",
       "<g id=\"node37\" class=\"node\">\n",
       "<title>36</title>\n",
       "<text text-anchor=\"start\" x=\"1100\" y=\"-159.3\" font-family=\"Courier,monospace\" font-weight=\"bold\" font-size=\"14.00\" fill=\"#004080\">Name</text>\n",
       "</g>\n",
       "<!-- 35&#45;&#45;36 -->\n",
       "<g id=\"edge36\" class=\"edge\">\n",
       "<title>35--36</title>\n",
       "<path fill=\"none\" stroke=\"black\" d=\"M1189,-215C1189,-215 1161.57,-195.19 1140.58,-180.03\"/>\n",
       "</g>\n",
       "<!-- 39 -->\n",
       "<g id=\"node40\" class=\"node\">\n",
       "<title>39</title>\n",
       "<text text-anchor=\"middle\" x=\"1189\" y=\"-158.3\" font-family=\"Courier,monospace\" font-size=\"14.00\" fill=\"#008040\">Eq</text>\n",
       "</g>\n",
       "<!-- 35&#45;&#45;39 -->\n",
       "<g id=\"edge39\" class=\"edge\">\n",
       "<title>35--39</title>\n",
       "<path fill=\"none\" stroke=\"black\" d=\"M1189,-215C1189,-215 1189,-195.19 1189,-180.03\"/>\n",
       "</g>\n",
       "<!-- 40 -->\n",
       "<g id=\"node41\" class=\"node\">\n",
       "<title>40</title>\n",
       "<text text-anchor=\"start\" x=\"1242.5\" y=\"-159.3\" font-family=\"Courier,monospace\" font-weight=\"bold\" font-size=\"14.00\" fill=\"#004080\">Constant</text>\n",
       "</g>\n",
       "<!-- 35&#45;&#45;40 -->\n",
       "<g id=\"edge40\" class=\"edge\">\n",
       "<title>35--40</title>\n",
       "<path fill=\"none\" stroke=\"black\" d=\"M1189,-215C1189,-215 1222.14,-195.19 1247.51,-180.03\"/>\n",
       "</g>\n",
       "<!-- 37 -->\n",
       "<g id=\"node38\" class=\"node\">\n",
       "<title>37</title>\n",
       "<text text-anchor=\"middle\" x=\"1063\" y=\"-86.3\" font-family=\"Courier,monospace\" font-size=\"14.00\" fill=\"#008040\">&quot;i&quot;</text>\n",
       "</g>\n",
       "<!-- 36&#45;&#45;37 -->\n",
       "<g id=\"edge37\" class=\"edge\">\n",
       "<title>36--37</title>\n",
       "<path fill=\"none\" stroke=\"black\" d=\"M1113,-143C1113,-143 1093.95,-123.19 1079.37,-108.03\"/>\n",
       "</g>\n",
       "<!-- 38 -->\n",
       "<g id=\"node39\" class=\"node\">\n",
       "<title>38</title>\n",
       "<text text-anchor=\"middle\" x=\"1135\" y=\"-86.3\" font-family=\"Courier,monospace\" font-size=\"14.00\" fill=\"#008040\">Load</text>\n",
       "</g>\n",
       "<!-- 36&#45;&#45;38 -->\n",
       "<g id=\"edge38\" class=\"edge\">\n",
       "<title>36--38</title>\n",
       "<path fill=\"none\" stroke=\"black\" d=\"M1113,-143C1113,-143 1121.38,-123.19 1127.8,-108.03\"/>\n",
       "</g>\n",
       "<!-- 41 -->\n",
       "<g id=\"node42\" class=\"node\">\n",
       "<title>41</title>\n",
       "<text text-anchor=\"middle\" x=\"1225\" y=\"-86.3\" font-family=\"Courier,monospace\" font-size=\"14.00\" fill=\"#008040\">15</text>\n",
       "</g>\n",
       "<!-- 40&#45;&#45;41 -->\n",
       "<g id=\"edge41\" class=\"edge\">\n",
       "<title>40--41</title>\n",
       "<path fill=\"none\" stroke=\"black\" d=\"M1263.39,-143.7C1255.49,-132.85 1245.34,-118.92 1237.46,-108.1\"/>\n",
       "</g>\n",
       "<!-- 43 -->\n",
       "<g id=\"node44\" class=\"node\">\n",
       "<title>43</title>\n",
       "<text text-anchor=\"start\" x=\"1344\" y=\"-159.3\" font-family=\"Courier,monospace\" font-weight=\"bold\" font-size=\"14.00\" fill=\"#004080\">BoolOp</text>\n",
       "</g>\n",
       "<!-- 42&#45;&#45;43 -->\n",
       "<g id=\"edge43\" class=\"edge\">\n",
       "<title>42--43</title>\n",
       "<path fill=\"none\" stroke=\"black\" d=\"M1349,-215C1349,-215 1356.62,-195.19 1362.45,-180.03\"/>\n",
       "</g>\n",
       "<!-- 51 -->\n",
       "<g id=\"node52\" class=\"node\">\n",
       "<title>51</title>\n",
       "<text text-anchor=\"start\" x=\"1480\" y=\"-159.3\" font-family=\"Courier,monospace\" font-weight=\"bold\" font-size=\"14.00\" fill=\"#004080\">Return</text>\n",
       "</g>\n",
       "<!-- 42&#45;&#45;51 -->\n",
       "<g id=\"edge51\" class=\"edge\">\n",
       "<title>42--51</title>\n",
       "<path fill=\"none\" stroke=\"black\" d=\"M1349,-215C1349,-215 1426.12,-189.29 1471.92,-174.03\"/>\n",
       "</g>\n",
       "<!-- 44 -->\n",
       "<g id=\"node45\" class=\"node\">\n",
       "<title>44</title>\n",
       "<text text-anchor=\"middle\" x=\"1297\" y=\"-86.3\" font-family=\"Courier,monospace\" font-size=\"14.00\" fill=\"#008040\">And</text>\n",
       "</g>\n",
       "<!-- 43&#45;&#45;44 -->\n",
       "<g id=\"edge44\" class=\"edge\">\n",
       "<title>43--44</title>\n",
       "<path fill=\"none\" stroke=\"black\" d=\"M1369,-143C1369,-143 1341.57,-123.19 1320.58,-108.03\"/>\n",
       "</g>\n",
       "<!-- 45 -->\n",
       "<g id=\"node46\" class=\"node\">\n",
       "<title>45</title>\n",
       "<text text-anchor=\"start\" x=\"1352\" y=\"-87.3\" font-family=\"Courier,monospace\" font-weight=\"bold\" font-size=\"14.00\" fill=\"#004080\">Name</text>\n",
       "</g>\n",
       "<!-- 43&#45;&#45;45 -->\n",
       "<g id=\"edge45\" class=\"edge\">\n",
       "<title>43--45</title>\n",
       "<path fill=\"none\" stroke=\"black\" d=\"M1369,-143C1369,-143 1369,-123.19 1369,-108.03\"/>\n",
       "</g>\n",
       "<!-- 48 -->\n",
       "<g id=\"node49\" class=\"node\">\n",
       "<title>48</title>\n",
       "<text text-anchor=\"start\" x=\"1424\" y=\"-87.3\" font-family=\"Courier,monospace\" font-weight=\"bold\" font-size=\"14.00\" fill=\"#004080\">Name</text>\n",
       "</g>\n",
       "<!-- 43&#45;&#45;48 -->\n",
       "<g id=\"edge48\" class=\"edge\">\n",
       "<title>43--48</title>\n",
       "<path fill=\"none\" stroke=\"black\" d=\"M1369,-143C1369,-143 1396.43,-123.19 1417.42,-108.03\"/>\n",
       "</g>\n",
       "<!-- 46 -->\n",
       "<g id=\"node47\" class=\"node\">\n",
       "<title>46</title>\n",
       "<text text-anchor=\"middle\" x=\"1297\" y=\"-14.3\" font-family=\"Courier,monospace\" font-size=\"14.00\" fill=\"#008040\">&quot;a&quot;</text>\n",
       "</g>\n",
       "<!-- 45&#45;&#45;46 -->\n",
       "<g id=\"edge46\" class=\"edge\">\n",
       "<title>45--46</title>\n",
       "<path fill=\"none\" stroke=\"black\" d=\"M1361,-71C1361,-71 1336.62,-51.19 1317.96,-36.03\"/>\n",
       "</g>\n",
       "<!-- 47 -->\n",
       "<g id=\"node48\" class=\"node\">\n",
       "<title>47</title>\n",
       "<text text-anchor=\"middle\" x=\"1369\" y=\"-14.3\" font-family=\"Courier,monospace\" font-size=\"14.00\" fill=\"#008040\">Load</text>\n",
       "</g>\n",
       "<!-- 45&#45;&#45;47 -->\n",
       "<g id=\"edge47\" class=\"edge\">\n",
       "<title>45--47</title>\n",
       "<path fill=\"none\" stroke=\"black\" d=\"M1361,-71C1361,-71 1364.05,-51.19 1366.38,-36.03\"/>\n",
       "</g>\n",
       "<!-- 49 -->\n",
       "<g id=\"node50\" class=\"node\">\n",
       "<title>49</title>\n",
       "<text text-anchor=\"middle\" x=\"1441\" y=\"-14.3\" font-family=\"Courier,monospace\" font-size=\"14.00\" fill=\"#008040\">&quot;b&quot;</text>\n",
       "</g>\n",
       "<!-- 48&#45;&#45;49 -->\n",
       "<g id=\"edge49\" class=\"edge\">\n",
       "<title>48--49</title>\n",
       "<path fill=\"none\" stroke=\"black\" d=\"M1449,-71C1449,-71 1445.95,-51.19 1443.62,-36.03\"/>\n",
       "</g>\n",
       "<!-- 50 -->\n",
       "<g id=\"node51\" class=\"node\">\n",
       "<title>50</title>\n",
       "<text text-anchor=\"middle\" x=\"1513\" y=\"-14.3\" font-family=\"Courier,monospace\" font-size=\"14.00\" fill=\"#008040\">Load</text>\n",
       "</g>\n",
       "<!-- 48&#45;&#45;50 -->\n",
       "<g id=\"edge50\" class=\"edge\">\n",
       "<title>48--50</title>\n",
       "<path fill=\"none\" stroke=\"black\" d=\"M1449,-71C1449,-71 1473.38,-51.19 1492.04,-36.03\"/>\n",
       "</g>\n",
       "<!-- 52 -->\n",
       "<g id=\"node53\" class=\"node\">\n",
       "<title>52</title>\n",
       "<text text-anchor=\"start\" x=\"1523.5\" y=\"-87.3\" font-family=\"Courier,monospace\" font-weight=\"bold\" font-size=\"14.00\" fill=\"#004080\">Constant</text>\n",
       "</g>\n",
       "<!-- 51&#45;&#45;52 -->\n",
       "<g id=\"edge52\" class=\"edge\">\n",
       "<title>51--52</title>\n",
       "<path fill=\"none\" stroke=\"black\" d=\"M1517.85,-143.7C1525.91,-132.85 1536.26,-118.92 1544.29,-108.1\"/>\n",
       "</g>\n",
       "<!-- 53 -->\n",
       "<g id=\"node54\" class=\"node\">\n",
       "<title>53</title>\n",
       "<text text-anchor=\"middle\" x=\"1585\" y=\"-14.3\" font-family=\"Courier,monospace\" font-size=\"14.00\" fill=\"#008040\">1</text>\n",
       "</g>\n",
       "<!-- 52&#45;&#45;53 -->\n",
       "<g id=\"edge53\" class=\"edge\">\n",
       "<title>52--53</title>\n",
       "<path fill=\"none\" stroke=\"black\" d=\"M1563.92,-71.7C1568.26,-60.85 1573.83,-46.92 1578.16,-36.1\"/>\n",
       "</g>\n",
       "<!-- 55 -->\n",
       "<g id=\"node56\" class=\"node\">\n",
       "<title>55</title>\n",
       "<text text-anchor=\"start\" x=\"1324.5\" y=\"-303.3\" font-family=\"Courier,monospace\" font-weight=\"bold\" font-size=\"14.00\" fill=\"#004080\">Constant</text>\n",
       "</g>\n",
       "<!-- 54&#45;&#45;55 -->\n",
       "<g id=\"edge55\" class=\"edge\">\n",
       "<title>54--55</title>\n",
       "<path fill=\"none\" stroke=\"black\" d=\"M1201.1,-364.81C1233.1,-353.02 1281.7,-335.11 1316.33,-322.35\"/>\n",
       "</g>\n",
       "<!-- 56 -->\n",
       "<g id=\"node57\" class=\"node\">\n",
       "<title>56</title>\n",
       "<text text-anchor=\"middle\" x=\"1400\" y=\"-230.3\" font-family=\"Courier,monospace\" font-size=\"14.00\" fill=\"#008040\">0</text>\n",
       "</g>\n",
       "<!-- 55&#45;&#45;56 -->\n",
       "<g id=\"edge56\" class=\"edge\">\n",
       "<title>55--56</title>\n",
       "<path fill=\"none\" stroke=\"black\" d=\"M1368.38,-287.7C1374.89,-276.85 1383.25,-262.92 1389.74,-252.1\"/>\n",
       "</g>\n",
       "</g>\n",
       "</svg>"
      ],
      "text/plain": [
       "<IPython.core.display.SVG object>"
      ]
     },
     "metadata": {},
     "output_type": "display_data"
    },
    {
     "name": "stdout",
     "output_type": "stream",
     "text": [
      "The number of nodes is 42\n"
     ]
    }
   ],
   "source": [
    "show_ast(ast.parse(source))\n",
    "print(f\"The number of nodes is {NodeCounter().count(source)}\")"
   ]
  },
  {
   "cell_type": "markdown",
   "metadata": {
    "slideshow": {
     "slide_type": "fragment"
    }
   },
   "source": [
    "As you can see, the input program of `Test1` has 42 nodes."
   ]
  },
  {
   "cell_type": "markdown",
   "metadata": {
    "slideshow": {
     "slide_type": "fragment"
    }
   },
   "source": [
    "The testing framework takes a reducer and allows to execute a single test or all tests at once."
   ]
  },
  {
   "cell_type": "code",
   "execution_count": 49,
   "metadata": {
    "execution": {
     "iopub.execute_input": "2022-08-06T23:26:42.189079Z",
     "iopub.status.busy": "2022-08-06T23:26:42.188755Z",
     "iopub.status.idle": "2022-08-06T23:26:42.189851Z",
     "shell.execute_reply": "2022-08-06T23:26:42.190084Z"
    },
    "hidden": true,
    "pycharm": {
     "name": "#%%\n"
    },
    "slideshow": {
     "slide_type": "subslide"
    }
   },
   "outputs": [],
   "source": [
    "class TestingFramework:\n",
    "    THRESHOLD = 3\n",
    "    test_cases = {\n",
    "        'test1': Test1(),\n",
    "        'test2': Test2(),\n",
    "        'test3': Test3(),\n",
    "        'test4': Test4(),\n",
    "        'test5': Test5()\n",
    "    }\n",
    "\n",
    "    def __init__(self, reducer: Any) -> None:\n",
    "        self.reducer = reducer\n",
    "\n",
    "    def count_nodes(self, source: Optional[str]) -> int:\n",
    "        if source is None:\n",
    "            return 100000\n",
    "        return NodeCounter().count(source)\n",
    "\n",
    "    def run_test(self, test: Any) -> bool:\n",
    "        \"\"\"\n",
    "        run a single test\n",
    "        \"\"\"\n",
    "        print(f'Running test {test.__class__.__name__}')\n",
    "        reducer = self.reducer(test.parser)\n",
    "        reduced_code = reducer.minimize(test.get_original())\n",
    "        return (self.has_property(reduced_code, test.parser) and \n",
    "                self.is_minimized(reduced_code, test.get_minimized()))\n",
    "\n",
    "    def run_tests(self) -> None:\n",
    "        \"\"\"\n",
    "        run all public tests\n",
    "        \"\"\"\n",
    "        passed_tests = 0\n",
    "        for test in self.test_cases.values():\n",
    "            success = self.run_test(test)\n",
    "            if success:\n",
    "                passed_tests += 1\n",
    "\n",
    "        print(f\"In total {passed_tests} tests passed\")\n",
    "\n",
    "    def has_property(self, source: str, parser: Any) -> bool:\n",
    "        \"\"\"returns True if the parser fails to parse the source\"\"\"\n",
    "        try:\n",
    "            parser.parse(source)\n",
    "            print(f'HAS PROPERTY: FAIL')\n",
    "            return False\n",
    "        except ParserException:\n",
    "            print(f'HAS PROPERTY: OK')\n",
    "            return True\n",
    "        except Exception as e:\n",
    "            print(f'HAS PROPERTY: FAIL {e}')\n",
    "            return False\n",
    "\n",
    "    def is_minimized(self, reduced: str, reference: str) -> bool:\n",
    "        \"\"\"\n",
    "        Returns True if the AST of the reduced code contains \n",
    "        no more then the number of nodes in the reference + a THRESHOLD\n",
    "        \"\"\"\n",
    "        count_minimized = self.count_nodes(reduced)\n",
    "        count_reference = self.count_nodes(reference)\n",
    "        if count_minimized <= count_reference + self.THRESHOLD:\n",
    "            print(f'IS MINIMIZED: OK')\n",
    "            return True\n",
    "        else:\n",
    "            print(f'IS MINIMIZED: FAIL')\n",
    "            return False"
   ]
  },
  {
   "cell_type": "markdown",
   "metadata": {
    "pycharm": {
     "name": "#%% md\n"
    },
    "slideshow": {
     "slide_type": "subslide"
    }
   },
   "source": [
    "Let's test our `ReducingDebugger` with the following test:"
   ]
  },
  {
   "cell_type": "code",
   "execution_count": 50,
   "metadata": {
    "collapsed": false,
    "execution": {
     "iopub.execute_input": "2022-08-06T23:26:42.192029Z",
     "iopub.status.busy": "2022-08-06T23:26:42.191742Z",
     "iopub.status.idle": "2022-08-06T23:26:42.192967Z",
     "shell.execute_reply": "2022-08-06T23:26:42.193155Z"
    },
    "jupyter": {
     "outputs_hidden": false
    },
    "pycharm": {
     "name": "#%%\n"
    },
    "slideshow": {
     "slide_type": "fragment"
    }
   },
   "outputs": [],
   "source": [
    "class Test0:\n",
    "    parser = Parser1()\n",
    "\n",
    "    def get_original(self) -> str:\n",
    "        return '''\n",
    "if a and b:\n",
    "    c = 1\n",
    "else:\n",
    "    c = 2\n",
    "'''\n",
    "\n",
    "    def get_minimized(self) -> str:\n",
    "        return '''\n",
    "a and b'''"
   ]
  },
  {
   "cell_type": "code",
   "execution_count": 51,
   "metadata": {
    "collapsed": false,
    "execution": {
     "iopub.execute_input": "2022-08-06T23:26:42.195074Z",
     "iopub.status.busy": "2022-08-06T23:26:42.194774Z",
     "iopub.status.idle": "2022-08-06T23:26:42.196013Z",
     "shell.execute_reply": "2022-08-06T23:26:42.196197Z"
    },
    "jupyter": {
     "outputs_hidden": false
    },
    "pycharm": {
     "name": "#%%\n"
    },
    "slideshow": {
     "slide_type": "subslide"
    }
   },
   "outputs": [
    {
     "name": "stdout",
     "output_type": "stream",
     "text": [
      "Running test Test0\n",
      "HAS PROPERTY: OK\n",
      "IS MINIMIZED: OK\n",
      "Success!\n"
     ]
    }
   ],
   "source": [
    "tf = TestingFramework(ReducingDebugger)\n",
    "if tf.run_test(Test0()):\n",
    "    print(\"Success!\")"
   ]
  },
  {
   "cell_type": "markdown",
   "metadata": {
    "slideshow": {
     "slide_type": "fragment"
    }
   },
   "source": [
    "The input program was successfully minimized."
   ]
  },
  {
   "cell_type": "markdown",
   "metadata": {
    "pycharm": {
     "name": "#%% md\n"
    },
    "slideshow": {
     "slide_type": "fragment"
    }
   },
   "source": [
    "What if we run all public tests?"
   ]
  },
  {
   "cell_type": "code",
   "execution_count": 52,
   "metadata": {
    "execution": {
     "iopub.execute_input": "2022-08-06T23:26:42.198259Z",
     "iopub.status.busy": "2022-08-06T23:26:42.197980Z",
     "iopub.status.idle": "2022-08-06T23:26:42.200898Z",
     "shell.execute_reply": "2022-08-06T23:26:42.201163Z"
    },
    "hidden": true,
    "pycharm": {
     "name": "#%%\n"
    },
    "slideshow": {
     "slide_type": "subslide"
    }
   },
   "outputs": [
    {
     "name": "stdout",
     "output_type": "stream",
     "text": [
      "Running test Test1\n",
      "HAS PROPERTY: OK\n",
      "IS MINIMIZED: FAIL\n",
      "Running test Test2\n",
      "HAS PROPERTY: OK\n",
      "IS MINIMIZED: FAIL\n",
      "Running test Test3\n",
      "HAS PROPERTY: OK\n",
      "IS MINIMIZED: FAIL\n",
      "Running test Test4\n",
      "HAS PROPERTY: OK\n",
      "IS MINIMIZED: FAIL\n",
      "Running test Test5\n",
      "HAS PROPERTY: OK\n",
      "IS MINIMIZED: FAIL\n",
      "In total 0 tests passed\n"
     ]
    }
   ],
   "source": [
    "tf.run_tests()"
   ]
  },
  {
   "cell_type": "markdown",
   "metadata": {
    "slideshow": {
     "slide_type": "subslide"
    }
   },
   "source": [
    "Unfortunately, our parser failed to minimize all input programs from the public test suite."
   ]
  },
  {
   "cell_type": "markdown",
   "metadata": {
    "slideshow": {
     "slide_type": "slide"
    }
   },
   "source": [
    "## Grading"
   ]
  },
  {
   "cell_type": "markdown",
   "metadata": {
    "slideshow": {
     "slide_type": "fragment"
    }
   },
   "source": [
    "For this project, you can get a total of 30 Points:\n",
    "\n",
    "* 15 Points will be awarded for passing the public test (**without hardcoding the minimized solution or the sequence of transformations**) presented in this notebook.\n",
    "These 15 points mean that you successfully implemented the must-have implementation.\n",
    "* 5 Points will be awarded for passing secret tests.\n",
    "* 10 Points will be awarded for efficient implementation (see may-have implementation)."
   ]
  },
  {
   "cell_type": "markdown",
   "metadata": {
    "slideshow": {
     "slide_type": "subslide"
    }
   },
   "source": [
    "### Must-have Features\n",
    "\n",
    "Implement a reducer which minifies a given program so that its parser still produces an error.\n",
    "To this end, collect all possible transformations over the nodes of an AST tree and then apply one change at a time.\n",
    "These modifications should be repeated until no further updates can be made without triggering a parser exception.\n",
    "If your reducer passes secret test you are awarded additional 5 points.\n",
    "\n",
    "*Note: Implementing the given modifications should be sufficient to successfully complete this project.*"
   ]
  },
  {
   "cell_type": "markdown",
   "metadata": {
    "pycharm": {
     "name": "#%% md\n"
    },
    "slideshow": {
     "slide_type": "subslide"
    }
   },
   "source": [
    "### May-have Features\n",
    "\n",
    "An implementation only of the must-have features aims for correctness but can be inefficient (if transformations are applied one at a time). So, it can be optimized, for instance, with help of the Delta Debugging approach.\n",
    "\n",
    "Implement an AST Delta Debugger which efficiently prunes the nodes.\n",
    "If your reducer can beat the runtime of our reference implementation (which simply collects all possible transformations and applies them randomly one at a time) you can get up to 10 points (depending on the margin).\n",
    "\n",
    "Hint: The [Reducing Failure-Inducing Inputs chapter](https://www.debuggingbook.org/beta/html/DeltaDebugger.html) already tries to optimize the reduction of the AST with help of Delta Debugging.  \n",
    "Hint: For instance, you can find useful _Hierarchical Delta Debugging_ paper from the Background section of **Reducing Failure-Inducing Inputs** Chapter."
   ]
  }
 ],
 "metadata": {
  "ipub": {
   "bibliography": "fuzzingbook.bib"
  },
  "kernelspec": {
   "display_name": "Python 3 (ipykernel)",
   "language": "python",
   "name": "python3"
  },
  "language_info": {
   "codemirror_mode": {
    "name": "ipython",
    "version": 3
   },
   "file_extension": ".py",
   "mimetype": "text/x-python",
   "name": "python",
   "nbconvert_exporter": "python",
   "pygments_lexer": "ipython3",
   "version": "3.10.2"
  },
  "toc": {
   "base_numbering": 1,
   "nav_menu": {},
   "number_sections": true,
   "sideBar": true,
   "skip_h1_title": true,
   "title_cell": "",
   "title_sidebar": "Contents",
   "toc_cell": false,
   "toc_position": {},
   "toc_section_display": true,
   "toc_window_display": true
  },
  "toc-autonumbering": false
 },
 "nbformat": 4,
 "nbformat_minor": 4
}
