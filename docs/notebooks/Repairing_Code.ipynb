{
 "cells": [
  {
   "cell_type": "markdown",
   "metadata": {
    "slideshow": {
     "slide_type": "slide"
    }
   },
   "source": [
    "# Third Project - Automated Repair"
   ]
  },
  {
   "cell_type": "markdown",
   "metadata": {
    "slideshow": {
     "slide_type": "slide"
    }
   },
   "source": [
    "## Overview"
   ]
  },
  {
   "cell_type": "markdown",
   "metadata": {
    "slideshow": {
     "slide_type": "subslide"
    }
   },
   "source": [
    "### The Task\n",
    "\n",
    "For the first two submissions we asked you to implement a _Debugger_ as well as an _Input Reducer_. Both of these tools are used to help the developer to locate bugs and then manually fix them.\n",
    "\n",
    "In this project, you will implement a technique of automatic code repair. To do so, you will extend the `Repairer` introduced in the [Repairing Code Automatically](https://www.debuggingbook.org/beta/html/Repairer.html) chapter of [The Debugging Book](https://www.debuggingbook.org/beta).\n",
    "\n",
    "Your own `Repairer` should automatically generate _repair suggestions_ to the faulty functions we provide later in this notebook. This can be achieved, for instance, by changing various components of the mutator, changing the debugger, or the reduction algorithm. However, you are neither reguired to make all these changes nor required to limit yourself to the changes proposed here."
   ]
  },
  {
   "cell_type": "markdown",
   "metadata": {
    "slideshow": {
     "slide_type": "subslide"
    }
   },
   "source": [
    "### The Submission\n",
    "\n",
    "The time frame for this project is **3 weeks**, and the deadline is **Februrary 5th, 23:59**.  \n",
    "\n",
    "The submission should be in form of a Jupyter notebook and you are expected to hand in the submission as a .zip-archive. The notebook should, apart from the code itself, also provide sufficient explanations and reasoning (in markdown cells) behind the decisions that lead to the solution provided. Projects that do not include explanations cannot get more than **15 points**."
   ]
  },
  {
   "cell_type": "code",
   "execution_count": 1,
   "metadata": {
    "execution": {
     "iopub.execute_input": "2025-01-22T08:28:36.529103Z",
     "iopub.status.busy": "2025-01-22T08:28:36.528481Z",
     "iopub.status.idle": "2025-01-22T08:28:36.764379Z",
     "shell.execute_reply": "2025-01-22T08:28:36.763863Z"
    },
    "slideshow": {
     "slide_type": "skip"
    }
   },
   "outputs": [],
   "source": [
    "import bookutils.setup"
   ]
  },
  {
   "cell_type": "code",
   "execution_count": 2,
   "metadata": {
    "execution": {
     "iopub.execute_input": "2025-01-22T08:28:36.766602Z",
     "iopub.status.busy": "2025-01-22T08:28:36.766450Z",
     "iopub.status.idle": "2025-01-22T08:28:36.768739Z",
     "shell.execute_reply": "2025-01-22T08:28:36.768091Z"
    },
    "slideshow": {
     "slide_type": "fragment"
    }
   },
   "outputs": [],
   "source": [
    "# ignore\n",
    "from typing import Any, Callable, Optional, Tuple, List"
   ]
  },
  {
   "cell_type": "markdown",
   "metadata": {
    "slideshow": {
     "slide_type": "slide"
    }
   },
   "source": [
    "## A Faulty Function and How to Repair It\n",
    "Before discussing how to use and extend the Repairer, we first start by introducing a new (and highly complex) function that is supposed to return the larger of two values."
   ]
  },
  {
   "cell_type": "code",
   "execution_count": 3,
   "metadata": {
    "execution": {
     "iopub.execute_input": "2025-01-22T08:28:36.770791Z",
     "iopub.status.busy": "2025-01-22T08:28:36.770614Z",
     "iopub.status.idle": "2025-01-22T08:28:36.772647Z",
     "shell.execute_reply": "2025-01-22T08:28:36.772409Z"
    },
    "slideshow": {
     "slide_type": "fragment"
    }
   },
   "outputs": [],
   "source": [
    "def larger(x: Any, y: Any) -> Any:\n",
    "    if x < y:\n",
    "        return x\n",
    "    return y"
   ]
  },
  {
   "cell_type": "markdown",
   "metadata": {
    "slideshow": {
     "slide_type": "fragment"
    }
   },
   "source": [
    "Unfortunately, we introduced a bug which makes the function behave the exact opposite way as it is supposed to:"
   ]
  },
  {
   "cell_type": "code",
   "execution_count": 4,
   "metadata": {
    "execution": {
     "iopub.execute_input": "2025-01-22T08:28:36.774358Z",
     "iopub.status.busy": "2025-01-22T08:28:36.774184Z",
     "iopub.status.idle": "2025-01-22T08:28:36.778125Z",
     "shell.execute_reply": "2025-01-22T08:28:36.777837Z"
    },
    "slideshow": {
     "slide_type": "fragment"
    }
   },
   "outputs": [
    {
     "data": {
      "text/plain": [
       "1"
      ]
     },
     "execution_count": 4,
     "metadata": {},
     "output_type": "execute_result"
    }
   ],
   "source": [
    "larger(1, 3)"
   ]
  },
  {
   "cell_type": "markdown",
   "metadata": {
    "slideshow": {
     "slide_type": "subslide"
    }
   },
   "source": [
    "To fix this issue, we could try to debug it, using the tools we have already seen. However, given the complexity of the function under test (sorry for the irony), we might want to automatically repair the function, using the *Repairer* introduced in *The Debugging Book*.\n",
    "\n",
    "To do so, we first need to define set of test cases, which help the *Repairer* in fixing the function."
   ]
  },
  {
   "cell_type": "code",
   "execution_count": 5,
   "metadata": {
    "execution": {
     "iopub.execute_input": "2025-01-22T08:28:36.801542Z",
     "iopub.status.busy": "2025-01-22T08:28:36.801393Z",
     "iopub.status.idle": "2025-01-22T08:28:36.803480Z",
     "shell.execute_reply": "2025-01-22T08:28:36.803202Z"
    },
    "slideshow": {
     "slide_type": "fragment"
    }
   },
   "outputs": [],
   "source": [
    "def larger_testcase() -> Tuple[int, int]:\n",
    "    x = random.randrange(100)\n",
    "    y = random.randrange(100)\n",
    "    return x, y"
   ]
  },
  {
   "cell_type": "code",
   "execution_count": 6,
   "metadata": {
    "execution": {
     "iopub.execute_input": "2025-01-22T08:28:36.804785Z",
     "iopub.status.busy": "2025-01-22T08:28:36.804679Z",
     "iopub.status.idle": "2025-01-22T08:28:36.806473Z",
     "shell.execute_reply": "2025-01-22T08:28:36.806199Z"
    },
    "slideshow": {
     "slide_type": "fragment"
    }
   },
   "outputs": [],
   "source": [
    "def larger_test(x: Any, y: Any) -> None:\n",
    "    m = larger(x, y)\n",
    "    assert m == max(x, y), f\"expected {max(x, y)}, but got {m}\""
   ]
  },
  {
   "cell_type": "code",
   "execution_count": 7,
   "metadata": {
    "execution": {
     "iopub.execute_input": "2025-01-22T08:28:36.807806Z",
     "iopub.status.busy": "2025-01-22T08:28:36.807705Z",
     "iopub.status.idle": "2025-01-22T08:28:36.809292Z",
     "shell.execute_reply": "2025-01-22T08:28:36.809019Z"
    },
    "slideshow": {
     "slide_type": "skip"
    }
   },
   "outputs": [],
   "source": [
    "import math\n",
    "import random"
   ]
  },
  {
   "cell_type": "code",
   "execution_count": 8,
   "metadata": {
    "execution": {
     "iopub.execute_input": "2025-01-22T08:28:36.810755Z",
     "iopub.status.busy": "2025-01-22T08:28:36.810662Z",
     "iopub.status.idle": "2025-01-22T08:28:36.812444Z",
     "shell.execute_reply": "2025-01-22T08:28:36.812164Z"
    },
    "slideshow": {
     "slide_type": "subslide"
    }
   },
   "outputs": [],
   "source": [
    "random.seed(42)"
   ]
  },
  {
   "cell_type": "markdown",
   "metadata": {
    "slideshow": {
     "slide_type": "fragment"
    }
   },
   "source": [
    "Let us generate a random test case for our function:"
   ]
  },
  {
   "cell_type": "code",
   "execution_count": 9,
   "metadata": {
    "execution": {
     "iopub.execute_input": "2025-01-22T08:28:36.813875Z",
     "iopub.status.busy": "2025-01-22T08:28:36.813745Z",
     "iopub.status.idle": "2025-01-22T08:28:36.815571Z",
     "shell.execute_reply": "2025-01-22T08:28:36.815350Z"
    },
    "slideshow": {
     "slide_type": "fragment"
    }
   },
   "outputs": [
    {
     "name": "stdout",
     "output_type": "stream",
     "text": [
      "(81, 14)\n"
     ]
    }
   ],
   "source": [
    "larger_input = larger_testcase()\n",
    "print(larger_input)"
   ]
  },
  {
   "cell_type": "markdown",
   "metadata": {
    "slideshow": {
     "slide_type": "fragment"
    }
   },
   "source": [
    "and then feed it into our `larger_test()`:"
   ]
  },
  {
   "cell_type": "code",
   "execution_count": 10,
   "metadata": {
    "execution": {
     "iopub.execute_input": "2025-01-22T08:28:36.817200Z",
     "iopub.status.busy": "2025-01-22T08:28:36.817057Z",
     "iopub.status.idle": "2025-01-22T08:28:36.844682Z",
     "shell.execute_reply": "2025-01-22T08:28:36.844260Z"
    },
    "slideshow": {
     "slide_type": "skip"
    }
   },
   "outputs": [],
   "source": [
    "from ExpectError import ExpectError"
   ]
  },
  {
   "cell_type": "code",
   "execution_count": 11,
   "metadata": {
    "execution": {
     "iopub.execute_input": "2025-01-22T08:28:36.846475Z",
     "iopub.status.busy": "2025-01-22T08:28:36.846331Z",
     "iopub.status.idle": "2025-01-22T08:28:36.848548Z",
     "shell.execute_reply": "2025-01-22T08:28:36.848250Z"
    },
    "slideshow": {
     "slide_type": "subslide"
    }
   },
   "outputs": [
    {
     "name": "stderr",
     "output_type": "stream",
     "text": [
      "Traceback (most recent call last):\n",
      "  File \"/var/folders/n2/xd9445p97rb3xh7m1dfx8_4h0006ts/T/ipykernel_86280/1363473154.py\", line 2, in <module>\n",
      "    larger_test(*larger_input)\n",
      "  File \"/var/folders/n2/xd9445p97rb3xh7m1dfx8_4h0006ts/T/ipykernel_86280/2390942771.py\", line 3, in larger_test\n",
      "    assert m == max(x, y), f\"expected {max(x, y)}, but got {m}\"\n",
      "           ^^^^^^^^^^^^^^\n",
      "AssertionError: expected 81, but got 14 (expected)\n"
     ]
    }
   ],
   "source": [
    "with ExpectError():\n",
    "    larger_test(*larger_input)"
   ]
  },
  {
   "cell_type": "markdown",
   "metadata": {
    "slideshow": {
     "slide_type": "fragment"
    }
   },
   "source": [
    "As expected, we got an error – the `larger()` function has adefect."
   ]
  },
  {
   "cell_type": "markdown",
   "metadata": {
    "slideshow": {
     "slide_type": "fragment"
    }
   },
   "source": [
    "For a complete test suite, we need a set of passing and failing tests. To be sure we have both, we create functions which produce dedicated inputs:"
   ]
  },
  {
   "cell_type": "code",
   "execution_count": 12,
   "metadata": {
    "execution": {
     "iopub.execute_input": "2025-01-22T08:28:36.850051Z",
     "iopub.status.busy": "2025-01-22T08:28:36.849935Z",
     "iopub.status.idle": "2025-01-22T08:28:36.851931Z",
     "shell.execute_reply": "2025-01-22T08:28:36.851689Z"
    },
    "slideshow": {
     "slide_type": "subslide"
    }
   },
   "outputs": [],
   "source": [
    "def larger_passing_testcase() -> Tuple:\n",
    "    while True:\n",
    "        try:\n",
    "            x, y = larger_testcase()\n",
    "            larger_test(x, y)\n",
    "            return x, y\n",
    "        except AssertionError:\n",
    "            pass"
   ]
  },
  {
   "cell_type": "code",
   "execution_count": 13,
   "metadata": {
    "execution": {
     "iopub.execute_input": "2025-01-22T08:28:36.853396Z",
     "iopub.status.busy": "2025-01-22T08:28:36.853288Z",
     "iopub.status.idle": "2025-01-22T08:28:36.855184Z",
     "shell.execute_reply": "2025-01-22T08:28:36.854941Z"
    },
    "slideshow": {
     "slide_type": "fragment"
    }
   },
   "outputs": [],
   "source": [
    "def larger_failing_testcase() -> Tuple:\n",
    "    while True:\n",
    "        try:\n",
    "            x, y = larger_testcase()\n",
    "            larger_test(x, y)\n",
    "        except AssertionError:\n",
    "            return x, y"
   ]
  },
  {
   "cell_type": "code",
   "execution_count": 14,
   "metadata": {
    "execution": {
     "iopub.execute_input": "2025-01-22T08:28:36.856415Z",
     "iopub.status.busy": "2025-01-22T08:28:36.856317Z",
     "iopub.status.idle": "2025-01-22T08:28:36.858183Z",
     "shell.execute_reply": "2025-01-22T08:28:36.857820Z"
    },
    "slideshow": {
     "slide_type": "subslide"
    }
   },
   "outputs": [
    {
     "name": "stdout",
     "output_type": "stream",
     "text": [
      "(10, 10)\n"
     ]
    }
   ],
   "source": [
    "passing_input = larger_passing_testcase()\n",
    "print(passing_input)"
   ]
  },
  {
   "cell_type": "markdown",
   "metadata": {
    "slideshow": {
     "slide_type": "fragment"
    }
   },
   "source": [
    "With `passing_input`, our `larger()` function produces a correct result, and its test function does not fail."
   ]
  },
  {
   "cell_type": "code",
   "execution_count": 15,
   "metadata": {
    "execution": {
     "iopub.execute_input": "2025-01-22T08:28:36.860220Z",
     "iopub.status.busy": "2025-01-22T08:28:36.860111Z",
     "iopub.status.idle": "2025-01-22T08:28:36.861828Z",
     "shell.execute_reply": "2025-01-22T08:28:36.861565Z"
    },
    "slideshow": {
     "slide_type": "fragment"
    }
   },
   "outputs": [],
   "source": [
    "larger_test(*passing_input)"
   ]
  },
  {
   "cell_type": "code",
   "execution_count": 16,
   "metadata": {
    "execution": {
     "iopub.execute_input": "2025-01-22T08:28:36.863050Z",
     "iopub.status.busy": "2025-01-22T08:28:36.862969Z",
     "iopub.status.idle": "2025-01-22T08:28:36.864855Z",
     "shell.execute_reply": "2025-01-22T08:28:36.864575Z"
    },
    "slideshow": {
     "slide_type": "fragment"
    }
   },
   "outputs": [
    {
     "name": "stdout",
     "output_type": "stream",
     "text": [
      "(93, 62)\n"
     ]
    }
   ],
   "source": [
    "failing_input = larger_failing_testcase()\n",
    "print(failing_input)"
   ]
  },
  {
   "cell_type": "markdown",
   "metadata": {
    "slideshow": {
     "slide_type": "fragment"
    }
   },
   "source": [
    "While `failing_input` leads to an error:"
   ]
  },
  {
   "cell_type": "code",
   "execution_count": 17,
   "metadata": {
    "execution": {
     "iopub.execute_input": "2025-01-22T08:28:36.866399Z",
     "iopub.status.busy": "2025-01-22T08:28:36.866259Z",
     "iopub.status.idle": "2025-01-22T08:28:36.868384Z",
     "shell.execute_reply": "2025-01-22T08:28:36.868128Z"
    },
    "slideshow": {
     "slide_type": "subslide"
    }
   },
   "outputs": [
    {
     "name": "stderr",
     "output_type": "stream",
     "text": [
      "Traceback (most recent call last):\n",
      "  File \"/var/folders/n2/xd9445p97rb3xh7m1dfx8_4h0006ts/T/ipykernel_86280/108970404.py\", line 2, in <module>\n",
      "    larger_test(*failing_input)\n",
      "  File \"/var/folders/n2/xd9445p97rb3xh7m1dfx8_4h0006ts/T/ipykernel_86280/2390942771.py\", line 3, in larger_test\n",
      "    assert m == max(x, y), f\"expected {max(x, y)}, but got {m}\"\n",
      "           ^^^^^^^^^^^^^^\n",
      "AssertionError: expected 93, but got 62 (expected)\n"
     ]
    }
   ],
   "source": [
    "with ExpectError():\n",
    "    larger_test(*failing_input)"
   ]
  },
  {
   "cell_type": "markdown",
   "metadata": {
    "slideshow": {
     "slide_type": "fragment"
    }
   },
   "source": [
    "With the above defined functions, we can now start to create a number of passing and failing tests:"
   ]
  },
  {
   "cell_type": "code",
   "execution_count": 18,
   "metadata": {
    "execution": {
     "iopub.execute_input": "2025-01-22T08:28:36.869675Z",
     "iopub.status.busy": "2025-01-22T08:28:36.869576Z",
     "iopub.status.idle": "2025-01-22T08:28:36.871102Z",
     "shell.execute_reply": "2025-01-22T08:28:36.870876Z"
    },
    "slideshow": {
     "slide_type": "fragment"
    }
   },
   "outputs": [],
   "source": [
    "TESTS = 100"
   ]
  },
  {
   "cell_type": "code",
   "execution_count": 19,
   "metadata": {
    "execution": {
     "iopub.execute_input": "2025-01-22T08:28:36.872569Z",
     "iopub.status.busy": "2025-01-22T08:28:36.872481Z",
     "iopub.status.idle": "2025-01-22T08:28:36.883965Z",
     "shell.execute_reply": "2025-01-22T08:28:36.883521Z"
    },
    "slideshow": {
     "slide_type": "fragment"
    }
   },
   "outputs": [],
   "source": [
    "LARGER_PASSING_TESTCASES = [larger_passing_testcase()\n",
    "                            for i in range(TESTS)]"
   ]
  },
  {
   "cell_type": "code",
   "execution_count": 20,
   "metadata": {
    "execution": {
     "iopub.execute_input": "2025-01-22T08:28:36.885692Z",
     "iopub.status.busy": "2025-01-22T08:28:36.885535Z",
     "iopub.status.idle": "2025-01-22T08:28:36.887740Z",
     "shell.execute_reply": "2025-01-22T08:28:36.887387Z"
    },
    "slideshow": {
     "slide_type": "subslide"
    }
   },
   "outputs": [],
   "source": [
    "LARGER_FAILING_TESTCASES = [larger_failing_testcase()\n",
    "                            for i in range(TESTS)]"
   ]
  },
  {
   "cell_type": "code",
   "execution_count": 21,
   "metadata": {
    "execution": {
     "iopub.execute_input": "2025-01-22T08:28:36.889410Z",
     "iopub.status.busy": "2025-01-22T08:28:36.889300Z",
     "iopub.status.idle": "2025-01-22T08:28:37.784209Z",
     "shell.execute_reply": "2025-01-22T08:28:37.783781Z"
    },
    "slideshow": {
     "slide_type": "skip"
    }
   },
   "outputs": [],
   "source": [
    "from StatisticalDebugger import OchiaiDebugger"
   ]
  },
  {
   "cell_type": "markdown",
   "metadata": {
    "slideshow": {
     "slide_type": "fragment"
    }
   },
   "source": [
    "Next, let us use _statistical debugging_ to identify likely faulty locations. The `OchiaiDebugger` ranks individual code lines by how frequently they are executed in failing runs (and not in passing runs)."
   ]
  },
  {
   "cell_type": "code",
   "execution_count": 22,
   "metadata": {
    "execution": {
     "iopub.execute_input": "2025-01-22T08:28:37.786045Z",
     "iopub.status.busy": "2025-01-22T08:28:37.785831Z",
     "iopub.status.idle": "2025-01-22T08:28:37.787640Z",
     "shell.execute_reply": "2025-01-22T08:28:37.787368Z"
    },
    "slideshow": {
     "slide_type": "fragment"
    }
   },
   "outputs": [],
   "source": [
    "larger_debugger = OchiaiDebugger()"
   ]
  },
  {
   "cell_type": "code",
   "execution_count": 23,
   "metadata": {
    "execution": {
     "iopub.execute_input": "2025-01-22T08:28:37.789222Z",
     "iopub.status.busy": "2025-01-22T08:28:37.789072Z",
     "iopub.status.idle": "2025-01-22T08:28:37.827650Z",
     "shell.execute_reply": "2025-01-22T08:28:37.827354Z"
    },
    "slideshow": {
     "slide_type": "fragment"
    }
   },
   "outputs": [],
   "source": [
    "for x, y in LARGER_PASSING_TESTCASES + LARGER_FAILING_TESTCASES:\n",
    "    with larger_debugger:\n",
    "        larger_test(x, y)"
   ]
  },
  {
   "cell_type": "markdown",
   "metadata": {
    "slideshow": {
     "slide_type": "fragment"
    }
   },
   "source": [
    "Given the results of statistical debugging, we can now use the *Repairer* introduced in the book to repair our function. Here we use the default implementation which is initialized with the simple _StatementMutator_ mutator."
   ]
  },
  {
   "cell_type": "code",
   "execution_count": 24,
   "metadata": {
    "execution": {
     "iopub.execute_input": "2025-01-22T08:28:37.829125Z",
     "iopub.status.busy": "2025-01-22T08:28:37.829039Z",
     "iopub.status.idle": "2025-01-22T08:28:37.967968Z",
     "shell.execute_reply": "2025-01-22T08:28:37.967674Z"
    },
    "slideshow": {
     "slide_type": "skip"
    }
   },
   "outputs": [],
   "source": [
    "from Repairer import Repairer\n",
    "from Repairer import ConditionMutator, CrossoverOperator\n",
    "from Repairer import DeltaDebugger"
   ]
  },
  {
   "cell_type": "code",
   "execution_count": 25,
   "metadata": {
    "execution": {
     "iopub.execute_input": "2025-01-22T08:28:37.969625Z",
     "iopub.status.busy": "2025-01-22T08:28:37.969525Z",
     "iopub.status.idle": "2025-01-22T08:28:38.030696Z",
     "shell.execute_reply": "2025-01-22T08:28:38.030414Z"
    },
    "slideshow": {
     "slide_type": "subslide"
    }
   },
   "outputs": [
    {
     "name": "stdout",
     "output_type": "stream",
     "text": [
      "Target code to be repaired:\n",
      "\u001b[34mdef\u001b[39;49;00m \u001b[32mlarger\u001b[39;49;00m(x: Any, y: Any) -> Any:\u001b[37m\u001b[39;49;00m\n",
      "    \u001b[34mif\u001b[39;49;00m x < y:\u001b[37m\u001b[39;49;00m\n",
      "        \u001b[34mreturn\u001b[39;49;00m x\u001b[37m\u001b[39;49;00m\n",
      "    \u001b[34mreturn\u001b[39;49;00m y\u001b[37m\u001b[39;49;00m\n",
      "\n"
     ]
    }
   ],
   "source": [
    "repairer = Repairer(larger_debugger, log=True)"
   ]
  },
  {
   "cell_type": "code",
   "execution_count": 26,
   "metadata": {
    "execution": {
     "iopub.execute_input": "2025-01-22T08:28:38.032161Z",
     "iopub.status.busy": "2025-01-22T08:28:38.032048Z",
     "iopub.status.idle": "2025-01-22T08:28:38.127406Z",
     "shell.execute_reply": "2025-01-22T08:28:38.127115Z"
    },
    "slideshow": {
     "slide_type": "subslide"
    }
   },
   "outputs": [
    {
     "name": "stdout",
     "output_type": "stream",
     "text": [
      "Evolving population: iteration   0/100 fitness = 1.0   \r\n",
      "Best code (fitness = 1.0):\n",
      "\u001b[34mdef\u001b[39;49;00m \u001b[32mlarger\u001b[39;49;00m(x: Any, y: Any) -> Any:\u001b[37m\u001b[39;49;00m\n",
      "    \u001b[34mif\u001b[39;49;00m x < y:\u001b[37m\u001b[39;49;00m\n",
      "        \u001b[34mif\u001b[39;49;00m x < y:\u001b[37m\u001b[39;49;00m\n",
      "            \u001b[34mreturn\u001b[39;49;00m y\u001b[37m\u001b[39;49;00m\n",
      "    \u001b[34mreturn\u001b[39;49;00m x\u001b[37m\u001b[39;49;00m\n",
      "\n",
      "Reduced code (fitness = 1.0):\n",
      "\u001b[34mdef\u001b[39;49;00m \u001b[32mlarger\u001b[39;49;00m(x: Any, y: Any) -> Any:\u001b[37m\u001b[39;49;00m\n",
      "    \u001b[34mif\u001b[39;49;00m x < y:\u001b[37m\u001b[39;49;00m\n",
      "        \u001b[34mreturn\u001b[39;49;00m y\u001b[37m\u001b[39;49;00m\n",
      "    \u001b[34mreturn\u001b[39;49;00m x\u001b[37m\u001b[39;49;00m\n",
      "\n"
     ]
    }
   ],
   "source": [
    "best_tree, fitness = repairer.repair()  # type: ignore"
   ]
  },
  {
   "cell_type": "markdown",
   "metadata": {
    "slideshow": {
     "slide_type": "subslide"
    }
   },
   "source": [
    "The *Repairer* successfully produced a fix."
   ]
  },
  {
   "cell_type": "markdown",
   "metadata": {
    "slideshow": {
     "slide_type": "slide"
    }
   },
   "source": [
    "## Implementation\n",
    "\n",
    "As stated above, the goal of this project is to implement a repairer capable of producing a fix to the functions defined in *the Evaluation section*, as well as secret functions.  \n",
    "To do this, you need to work with the _Repairer_ class from the book.\n",
    "The _Repairer_ class is very configurable, so that it is easy to update and plug in various components: the fault localization (pass a different debugger that is a subclass of DifferenceDebugger), the mutation operator (set mutator_class to a subclass of `StatementMutator`), the crossover operator (set crossover_class to a subclass of `CrossoverOperator`), and the reduction algorithm (set reducer_class to a subclass of `Reducer`). You may change any of these components or make other changes at will."
   ]
  },
  {
   "cell_type": "markdown",
   "metadata": {
    "slideshow": {
     "slide_type": "subslide"
    }
   },
   "source": [
    "For us to be able to test your implementation, you will have to implement the `debug_and_repair()` function defined here."
   ]
  },
  {
   "cell_type": "code",
   "execution_count": 27,
   "metadata": {
    "execution": {
     "iopub.execute_input": "2025-01-22T08:28:38.129036Z",
     "iopub.status.busy": "2025-01-22T08:28:38.128935Z",
     "iopub.status.idle": "2025-01-22T08:28:38.130762Z",
     "shell.execute_reply": "2025-01-22T08:28:38.130458Z"
    },
    "slideshow": {
     "slide_type": "skip"
    }
   },
   "outputs": [],
   "source": [
    "from bookutils import print_content, show_ast"
   ]
  },
  {
   "cell_type": "code",
   "execution_count": 28,
   "metadata": {
    "execution": {
     "iopub.execute_input": "2025-01-22T08:28:38.132280Z",
     "iopub.status.busy": "2025-01-22T08:28:38.132081Z",
     "iopub.status.idle": "2025-01-22T08:28:38.134403Z",
     "shell.execute_reply": "2025-01-22T08:28:38.134159Z"
    },
    "slideshow": {
     "slide_type": "subslide"
    }
   },
   "outputs": [],
   "source": [
    "def debug_and_repair(f: Callable,\n",
    "                     testcases: List[Tuple[Any, ...]],\n",
    "                     test_function: Callable,\n",
    "                     log: bool = False) -> Optional[str]:\n",
    "    '''\n",
    "    Debugs a function with the given testcases and the test_function\n",
    "    and tries to repair it afterwards.\n",
    "\n",
    "    Parameters\n",
    "    ----------\n",
    "    f : function\n",
    "        The faulty function, to be debugged and repaired\n",
    "    testcases : List\n",
    "        A list that includes test inputs for the function under test\n",
    "    test_function : function\n",
    "        A function that takes the test inputs and tests whether the\n",
    "        function under test produces the correct output.\n",
    "    log: bool\n",
    "        Turn logging on/off.\n",
    "    Returns\n",
    "    -------\n",
    "    str\n",
    "        The repaired version of f as a string.\n",
    "    '''\n",
    "\n",
    "    # TODO: implement this function\n",
    "\n",
    "    return None"
   ]
  },
  {
   "cell_type": "markdown",
   "metadata": {
    "slideshow": {
     "slide_type": "subslide"
    }
   },
   "source": [
    "The function `debug_and_repair()` is the function that needs to implement everything. We will provide you with the function to be repaired, as well as testcases for this function and a test-function. Let us show you how the function can be used and should behave:"
   ]
  },
  {
   "cell_type": "code",
   "execution_count": 29,
   "metadata": {
    "execution": {
     "iopub.execute_input": "2025-01-22T08:28:38.135753Z",
     "iopub.status.busy": "2025-01-22T08:28:38.135644Z",
     "iopub.status.idle": "2025-01-22T08:28:38.137575Z",
     "shell.execute_reply": "2025-01-22T08:28:38.137210Z"
    },
    "slideshow": {
     "slide_type": "fragment"
    }
   },
   "outputs": [],
   "source": [
    "random.seed(42)"
   ]
  },
  {
   "cell_type": "code",
   "execution_count": 30,
   "metadata": {
    "execution": {
     "iopub.execute_input": "2025-01-22T08:28:38.139013Z",
     "iopub.status.busy": "2025-01-22T08:28:38.138890Z",
     "iopub.status.idle": "2025-01-22T08:28:38.140591Z",
     "shell.execute_reply": "2025-01-22T08:28:38.140313Z"
    },
    "slideshow": {
     "slide_type": "skip"
    }
   },
   "outputs": [],
   "source": [
    "import ast"
   ]
  },
  {
   "cell_type": "code",
   "execution_count": 31,
   "metadata": {
    "execution": {
     "iopub.execute_input": "2025-01-22T08:28:38.141944Z",
     "iopub.status.busy": "2025-01-22T08:28:38.141853Z",
     "iopub.status.idle": "2025-01-22T08:28:38.144577Z",
     "shell.execute_reply": "2025-01-22T08:28:38.144327Z"
    },
    "slideshow": {
     "slide_type": "subslide"
    }
   },
   "outputs": [],
   "source": [
    "def simple_debug_and_repair(f: Callable,\n",
    "                            testcases: List[Tuple[Any, ...]],\n",
    "                            test_function: Callable, \n",
    "                            log: bool = False) -> str:\n",
    "    '''\n",
    "    Debugs a function with the given testcases and the test_function\n",
    "    and tries to repair it afterwards.\n",
    "\n",
    "    Parameters\n",
    "    ----------\n",
    "    f : function\n",
    "        The faulty function, to be debugged and repaired\n",
    "    testcases : List\n",
    "        A list that includes test inputs for the function under test\n",
    "    test_function : function\n",
    "        A function, that takes the test inputs and tests whether the\n",
    "        function under test produces the correct output.\n",
    "    log: bool\n",
    "        Turn logging on/off.\n",
    "    Returns\n",
    "    -------\n",
    "    str\n",
    "        The repaired version of f as a string.\n",
    "    '''\n",
    "\n",
    "    debugger = OchiaiDebugger()\n",
    "\n",
    "    for i in testcases:\n",
    "        with debugger:\n",
    "            test_function(*i)  # Ensure that you use *i here.\n",
    "\n",
    "    repairer = Repairer(debugger,\n",
    "                        mutator_class=ConditionMutator,\n",
    "                        crossover_class=CrossoverOperator,\n",
    "                        reducer_class=DeltaDebugger,\n",
    "                        log=log)\n",
    "\n",
    "    # Ensure that you specify a sufficient number of\n",
    "    # iterations to evolve.\n",
    "    best_tree, fitness = repairer.repair(iterations=100)  # type: ignore\n",
    "\n",
    "    return ast.unparse(best_tree)"
   ]
  },
  {
   "cell_type": "markdown",
   "metadata": {
    "slideshow": {
     "slide_type": "subslide"
    }
   },
   "source": [
    "Here we again used the _Ochiai_ statistical debugger and the _Repairer_ described in [The Debugging Book](https://www.debuggingbook.org/beta/html/Repairer.html). In contrast to the initial example, now we used another type of mutator – `ConditionMutator`. It can successfully fix the `larger` function as well."
   ]
  },
  {
   "cell_type": "code",
   "execution_count": 32,
   "metadata": {
    "execution": {
     "iopub.execute_input": "2025-01-22T08:28:38.146064Z",
     "iopub.status.busy": "2025-01-22T08:28:38.145948Z",
     "iopub.status.idle": "2025-01-22T08:28:38.267068Z",
     "shell.execute_reply": "2025-01-22T08:28:38.266699Z"
    },
    "slideshow": {
     "slide_type": "fragment"
    }
   },
   "outputs": [
    {
     "name": "stdout",
     "output_type": "stream",
     "text": [
      "\u001b[34mdef\u001b[39;49;00m \u001b[32mlarger\u001b[39;49;00m(x: Any, y: Any) -> Any:\u001b[37m\u001b[39;49;00m\n",
      "    \u001b[34mif\u001b[39;49;00m \u001b[35mnot\u001b[39;49;00m x < y:\u001b[37m\u001b[39;49;00m\n",
      "        \u001b[34mreturn\u001b[39;49;00m x\u001b[37m\u001b[39;49;00m\n",
      "    \u001b[34mreturn\u001b[39;49;00m y\u001b[37m\u001b[39;49;00m"
     ]
    }
   ],
   "source": [
    "repaired = simple_debug_and_repair(larger,\n",
    "                                   LARGER_PASSING_TESTCASES +\n",
    "                                   LARGER_FAILING_TESTCASES,\n",
    "                                   larger_test, False)\n",
    "print_content(repaired, '.py')"
   ]
  },
  {
   "cell_type": "markdown",
   "metadata": {
    "slideshow": {
     "slide_type": "subslide"
    }
   },
   "source": [
    "Although `simple_debug_and_repair` produced a correct solution for our example, it does not generalize to other functions.  \n",
    "So your task is to create the `debug_and_repair()` function which can be applied on any faulty function."
   ]
  },
  {
   "cell_type": "markdown",
   "metadata": {
    "slideshow": {
     "slide_type": "fragment"
    }
   },
   "source": [
    "Apart from the function `debug_and_repair()`, you may of course implement your own classes. Make sure, however, that you are using these classes within `debug_and_repair()`. Also, keep in mind to tune the _iteration_ parameter of the `Repairer` so that it has sufficient number of generation to evolve. As it may take too much time to find a solution for an ill-programmed repairer (e.g., consider an infinite `while`loop introduced in the fix), we impose a _10-minute timeout_ for each repair."
   ]
  },
  {
   "cell_type": "markdown",
   "metadata": {
    "slideshow": {
     "slide_type": "slide"
    }
   },
   "source": [
    "## Evaluation"
   ]
  },
  {
   "cell_type": "markdown",
   "metadata": {
    "slideshow": {
     "slide_type": "fragment"
    }
   },
   "source": [
    "Having you implement `debug_and_repair()` allows us to easily test your implementation by calling the function with its respective arguments and testing the correctness of its output. In this section, we will provide you with some test cases as well as the testing framework for this project. This will help you to assess the quality of your work.  \n",
    "\n",
    "We define functions as well as test-case generators for these functions. The functions given here should be considered as **public tests**. If you pass all public tests, without hard-coding the solutions, you are guaranteed to achieve **10 points**. The secret tests for the remaining 10 must-have-points have similar defects."
   ]
  },
  {
   "cell_type": "raw",
   "metadata": {
    "slideshow": {
     "slide_type": "skip"
    }
   },
   "source": []
  },
  {
   "cell_type": "markdown",
   "metadata": {
    "slideshow": {
     "slide_type": "subslide"
    }
   },
   "source": [
    "### Factorial\n",
    "\n",
    "The first function we implement is a _factorial_ function. It is supposed to compute the following formula:  \n",
    "\\begin{equation*}\n",
    "n! = \\textit{factorial}(n) = \\prod_{k=1}^{n}k, \\quad \\text{for $k\\geq 1$}\n",
    "\\end{equation*}"
   ]
  },
  {
   "cell_type": "markdown",
   "metadata": {
    "slideshow": {
     "slide_type": "fragment"
    }
   },
   "source": [
    "Here we define three faulty functions `factorial1`, `factorial2`, and `factorial3` that are supposed to compute the factorial."
   ]
  },
  {
   "cell_type": "code",
   "execution_count": 33,
   "metadata": {
    "execution": {
     "iopub.execute_input": "2025-01-22T08:28:38.269188Z",
     "iopub.status.busy": "2025-01-22T08:28:38.269059Z",
     "iopub.status.idle": "2025-01-22T08:28:38.270900Z",
     "shell.execute_reply": "2025-01-22T08:28:38.270636Z"
    },
    "slideshow": {
     "slide_type": "subslide"
    }
   },
   "outputs": [],
   "source": [
    "def factorial1(n):  # type: ignore\n",
    "    res = 1\n",
    "    for i in range(1, n):\n",
    "        res *= i\n",
    "    return res"
   ]
  },
  {
   "cell_type": "markdown",
   "metadata": {
    "slideshow": {
     "slide_type": "fragment"
    }
   },
   "source": [
    "From the first sight, `factorial1` looks to be correctly implemented, still it produces the wrong answer:"
   ]
  },
  {
   "cell_type": "code",
   "execution_count": 34,
   "metadata": {
    "execution": {
     "iopub.execute_input": "2025-01-22T08:28:38.272403Z",
     "iopub.status.busy": "2025-01-22T08:28:38.272193Z",
     "iopub.status.idle": "2025-01-22T08:28:38.274407Z",
     "shell.execute_reply": "2025-01-22T08:28:38.274153Z"
    },
    "slideshow": {
     "slide_type": "fragment"
    }
   },
   "outputs": [
    {
     "data": {
      "text/plain": [
       "24"
      ]
     },
     "execution_count": 34,
     "metadata": {},
     "output_type": "execute_result"
    }
   ],
   "source": [
    "factorial1(5)"
   ]
  },
  {
   "cell_type": "markdown",
   "metadata": {
    "slideshow": {
     "slide_type": "fragment"
    }
   },
   "source": [
    "while the correct value for 5! is 120."
   ]
  },
  {
   "cell_type": "code",
   "execution_count": 35,
   "metadata": {
    "execution": {
     "iopub.execute_input": "2025-01-22T08:28:38.275878Z",
     "iopub.status.busy": "2025-01-22T08:28:38.275736Z",
     "iopub.status.idle": "2025-01-22T08:28:38.277584Z",
     "shell.execute_reply": "2025-01-22T08:28:38.277348Z"
    },
    "slideshow": {
     "slide_type": "fragment"
    }
   },
   "outputs": [],
   "source": [
    "def factorial_testcase() -> int:\n",
    "    n = random.randrange(100)\n",
    "    return n"
   ]
  },
  {
   "cell_type": "code",
   "execution_count": 36,
   "metadata": {
    "execution": {
     "iopub.execute_input": "2025-01-22T08:28:38.278819Z",
     "iopub.status.busy": "2025-01-22T08:28:38.278719Z",
     "iopub.status.idle": "2025-01-22T08:28:38.280520Z",
     "shell.execute_reply": "2025-01-22T08:28:38.280287Z"
    },
    "slideshow": {
     "slide_type": "subslide"
    }
   },
   "outputs": [],
   "source": [
    "def factorial1_test(n: int) -> None:\n",
    "    m = factorial1(n)\n",
    "    assert m == math.factorial(n)"
   ]
  },
  {
   "cell_type": "code",
   "execution_count": 37,
   "metadata": {
    "execution": {
     "iopub.execute_input": "2025-01-22T08:28:38.281716Z",
     "iopub.status.busy": "2025-01-22T08:28:38.281623Z",
     "iopub.status.idle": "2025-01-22T08:28:38.283761Z",
     "shell.execute_reply": "2025-01-22T08:28:38.283470Z"
    },
    "slideshow": {
     "slide_type": "fragment"
    }
   },
   "outputs": [],
   "source": [
    "def factorial_passing_testcase() -> Tuple:\n",
    "    while True:\n",
    "        try:\n",
    "            n = factorial_testcase()\n",
    "            factorial1_test(n)\n",
    "            return (n,)\n",
    "        except AssertionError:\n",
    "            pass"
   ]
  },
  {
   "cell_type": "code",
   "execution_count": 38,
   "metadata": {
    "execution": {
     "iopub.execute_input": "2025-01-22T08:28:38.284991Z",
     "iopub.status.busy": "2025-01-22T08:28:38.284883Z",
     "iopub.status.idle": "2025-01-22T08:28:38.287052Z",
     "shell.execute_reply": "2025-01-22T08:28:38.286801Z"
    },
    "slideshow": {
     "slide_type": "subslide"
    }
   },
   "outputs": [],
   "source": [
    "def factorial_failing_testcase() -> Tuple:\n",
    "    while True:\n",
    "        try:\n",
    "            n = factorial_testcase()\n",
    "            factorial1_test(n)\n",
    "        except AssertionError:\n",
    "            return (n,)"
   ]
  },
  {
   "cell_type": "code",
   "execution_count": 39,
   "metadata": {
    "execution": {
     "iopub.execute_input": "2025-01-22T08:28:38.288280Z",
     "iopub.status.busy": "2025-01-22T08:28:38.288169Z",
     "iopub.status.idle": "2025-01-22T08:28:38.304815Z",
     "shell.execute_reply": "2025-01-22T08:28:38.304515Z"
    },
    "slideshow": {
     "slide_type": "fragment"
    }
   },
   "outputs": [],
   "source": [
    "FACTORIAL_PASSING_TESTCASES_1 = [factorial_passing_testcase() for i in range(TESTS)]"
   ]
  },
  {
   "cell_type": "code",
   "execution_count": 40,
   "metadata": {
    "execution": {
     "iopub.execute_input": "2025-01-22T08:28:38.306106Z",
     "iopub.status.busy": "2025-01-22T08:28:38.305999Z",
     "iopub.status.idle": "2025-01-22T08:28:38.308117Z",
     "shell.execute_reply": "2025-01-22T08:28:38.307857Z"
    },
    "slideshow": {
     "slide_type": "fragment"
    }
   },
   "outputs": [],
   "source": [
    "FACTORIAL_FAILING_TESTCASES_1 = [factorial_failing_testcase() for i in range(TESTS)]"
   ]
  },
  {
   "cell_type": "markdown",
   "metadata": {
    "slideshow": {
     "slide_type": "fragment"
    }
   },
   "source": [
    "As we can see, our simple Repairer cannot produce a fix. (Or more precisely, the \"fix\" it produces is pretty much pointless.)"
   ]
  },
  {
   "cell_type": "code",
   "execution_count": 41,
   "metadata": {
    "execution": {
     "iopub.execute_input": "2025-01-22T08:28:38.309432Z",
     "iopub.status.busy": "2025-01-22T08:28:38.309331Z",
     "iopub.status.idle": "2025-01-22T08:28:42.301675Z",
     "shell.execute_reply": "2025-01-22T08:28:42.301297Z"
    },
    "slideshow": {
     "slide_type": "subslide"
    }
   },
   "outputs": [
    {
     "name": "stdout",
     "output_type": "stream",
     "text": [
      "Target code to be repaired:\n",
      "\u001b[34mdef\u001b[39;49;00m \u001b[32mfactorial1\u001b[39;49;00m(n):\u001b[37m\u001b[39;49;00m\n",
      "    res = \u001b[34m1\u001b[39;49;00m\u001b[37m\u001b[39;49;00m\n",
      "    \u001b[34mfor\u001b[39;49;00m i \u001b[35min\u001b[39;49;00m \u001b[36mrange\u001b[39;49;00m(\u001b[34m1\u001b[39;49;00m, n):\u001b[37m\u001b[39;49;00m\n",
      "        res *= i\u001b[37m\u001b[39;49;00m\n",
      "    \u001b[34mreturn\u001b[39;49;00m res\u001b[37m\u001b[39;49;00m\n",
      "\n"
     ]
    },
    {
     "name": "stdout",
     "output_type": "stream",
     "text": [
      "Evolving population: iteration   0/100 fitness = 0.99   \r",
      "Evolving population: iteration   1/100 fitness = 0.99   \r",
      "Evolving population: iteration   2/100 fitness = 0.99   \r",
      "Evolving population: iteration   3/100 fitness = 0.99   \r",
      "Evolving population: iteration   4/100 fitness = 0.99   \r"
     ]
    },
    {
     "name": "stdout",
     "output_type": "stream",
     "text": [
      "Evolving population: iteration   5/100 fitness = 0.99   \r",
      "Evolving population: iteration   6/100 fitness = 0.99   \r",
      "Evolving population: iteration   7/100 fitness = 0.99   \r",
      "Evolving population: iteration   8/100 fitness = 0.99   \r",
      "Evolving population: iteration   9/100 fitness = 0.99   \r",
      "Evolving population: iteration  10/100 fitness = 0.99   \r",
      "Evolving population: iteration  11/100 fitness = 0.99   \r",
      "Evolving population: iteration  12/100 fitness = 0.99   \r"
     ]
    },
    {
     "name": "stdout",
     "output_type": "stream",
     "text": [
      "Evolving population: iteration  13/100 fitness = 0.99   \r",
      "Evolving population: iteration  14/100 fitness = 0.99   \r",
      "Evolving population: iteration  15/100 fitness = 0.99   \r",
      "Evolving population: iteration  16/100 fitness = 0.99   \r",
      "Evolving population: iteration  17/100 fitness = 0.99   \r",
      "Evolving population: iteration  18/100 fitness = 0.99   \r",
      "Evolving population: iteration  19/100 fitness = 0.99   \r",
      "Evolving population: iteration  20/100 fitness = 0.99   \r"
     ]
    },
    {
     "name": "stdout",
     "output_type": "stream",
     "text": [
      "Evolving population: iteration  21/100 fitness = 0.99   \r",
      "Evolving population: iteration  22/100 fitness = 0.99   \r",
      "Evolving population: iteration  23/100 fitness = 0.99   \r",
      "Evolving population: iteration  24/100 fitness = 0.99   \r",
      "Evolving population: iteration  25/100 fitness = 0.99   \r",
      "Evolving population: iteration  26/100 fitness = 0.99   \r",
      "Evolving population: iteration  27/100 fitness = 0.99   \r"
     ]
    },
    {
     "name": "stdout",
     "output_type": "stream",
     "text": [
      "Evolving population: iteration  28/100 fitness = 0.99   \r",
      "Evolving population: iteration  29/100 fitness = 0.99   \r",
      "Evolving population: iteration  30/100 fitness = 0.99   \r",
      "Evolving population: iteration  31/100 fitness = 0.99   \r",
      "Evolving population: iteration  32/100 fitness = 0.99   \r",
      "Evolving population: iteration  33/100 fitness = 0.99   \r",
      "Evolving population: iteration  34/100 fitness = 0.99   \r",
      "Evolving population: iteration  35/100 fitness = 0.99   \r"
     ]
    },
    {
     "name": "stdout",
     "output_type": "stream",
     "text": [
      "Evolving population: iteration  36/100 fitness = 0.99   \r",
      "Evolving population: iteration  37/100 fitness = 0.99   \r",
      "Evolving population: iteration  38/100 fitness = 0.99   \r",
      "Evolving population: iteration  39/100 fitness = 0.99   \r",
      "Evolving population: iteration  40/100 fitness = 0.99   \r",
      "Evolving population: iteration  41/100 fitness = 0.99   \r",
      "Evolving population: iteration  42/100 fitness = 0.99   \r",
      "Evolving population: iteration  43/100 fitness = 0.99   \r",
      "Evolving population: iteration  44/100 fitness = 0.99   \r"
     ]
    },
    {
     "name": "stdout",
     "output_type": "stream",
     "text": [
      "Evolving population: iteration  45/100 fitness = 0.99   \r",
      "Evolving population: iteration  46/100 fitness = 0.99   \r",
      "Evolving population: iteration  47/100 fitness = 0.99   \r",
      "Evolving population: iteration  48/100 fitness = 0.99   \r",
      "Evolving population: iteration  49/100 fitness = 0.99   \r",
      "Evolving population: iteration  50/100 fitness = 0.99   \r",
      "Evolving population: iteration  51/100 fitness = 0.99   \r"
     ]
    },
    {
     "name": "stdout",
     "output_type": "stream",
     "text": [
      "Evolving population: iteration  52/100 fitness = 0.99   \r",
      "Evolving population: iteration  53/100 fitness = 0.99   \r",
      "Evolving population: iteration  54/100 fitness = 0.99   \r",
      "Evolving population: iteration  55/100 fitness = 0.99   \r",
      "Evolving population: iteration  56/100 fitness = 0.99   \r",
      "Evolving population: iteration  57/100 fitness = 0.99   \r",
      "Evolving population: iteration  58/100 fitness = 0.99   \r",
      "Evolving population: iteration  59/100 fitness = 0.99   \r"
     ]
    },
    {
     "name": "stdout",
     "output_type": "stream",
     "text": [
      "Evolving population: iteration  60/100 fitness = 0.99   \r",
      "Evolving population: iteration  61/100 fitness = 0.99   \r",
      "Evolving population: iteration  62/100 fitness = 0.99   \r",
      "Evolving population: iteration  63/100 fitness = 0.99   \r",
      "Evolving population: iteration  64/100 fitness = 0.99   \r",
      "Evolving population: iteration  65/100 fitness = 0.99   \r",
      "Evolving population: iteration  66/100 fitness = 0.99   \r",
      "Evolving population: iteration  67/100 fitness = 0.99   \r",
      "Evolving population: iteration  68/100 fitness = 0.99   \r"
     ]
    },
    {
     "name": "stdout",
     "output_type": "stream",
     "text": [
      "Evolving population: iteration  69/100 fitness = 0.99   \r",
      "Evolving population: iteration  70/100 fitness = 0.99   \r",
      "Evolving population: iteration  71/100 fitness = 0.99   \r",
      "Evolving population: iteration  72/100 fitness = 0.99   \r",
      "Evolving population: iteration  73/100 fitness = 0.99   \r",
      "Evolving population: iteration  74/100 fitness = 0.99   \r",
      "Evolving population: iteration  75/100 fitness = 0.99   \r",
      "Evolving population: iteration  76/100 fitness = 0.99   \r"
     ]
    },
    {
     "name": "stdout",
     "output_type": "stream",
     "text": [
      "Evolving population: iteration  77/100 fitness = 0.99   \r",
      "Evolving population: iteration  78/100 fitness = 0.99   \r",
      "Evolving population: iteration  79/100 fitness = 0.99   \r",
      "Evolving population: iteration  80/100 fitness = 0.99   \r",
      "Evolving population: iteration  81/100 fitness = 0.99   \r",
      "Evolving population: iteration  82/100 fitness = 0.99   \r",
      "Evolving population: iteration  83/100 fitness = 0.99   \r"
     ]
    },
    {
     "name": "stdout",
     "output_type": "stream",
     "text": [
      "Evolving population: iteration  84/100 fitness = 0.99   \r",
      "Evolving population: iteration  85/100 fitness = 0.99   \r",
      "Evolving population: iteration  86/100 fitness = 0.99   \r",
      "Evolving population: iteration  87/100 fitness = 0.99   \r",
      "Evolving population: iteration  88/100 fitness = 0.99   \r",
      "Evolving population: iteration  89/100 fitness = 0.99   \r",
      "Evolving population: iteration  90/100 fitness = 0.99   \r",
      "Evolving population: iteration  91/100 fitness = 0.99   \r",
      "Evolving population: iteration  92/100 fitness = 0.99   \r"
     ]
    },
    {
     "name": "stdout",
     "output_type": "stream",
     "text": [
      "Evolving population: iteration  93/100 fitness = 0.99   \r",
      "Evolving population: iteration  94/100 fitness = 0.99   \r",
      "Evolving population: iteration  95/100 fitness = 0.99   \r",
      "Evolving population: iteration  96/100 fitness = 0.99   \r",
      "Evolving population: iteration  97/100 fitness = 0.99   \r",
      "Evolving population: iteration  98/100 fitness = 0.99   \r",
      "Evolving population: iteration  99/100 fitness = 0.99   \r\n",
      "Best code (fitness = 0.99):\n",
      "\u001b[34mdef\u001b[39;49;00m \u001b[32mfactorial1\u001b[39;49;00m(n):\u001b[37m\u001b[39;49;00m\n",
      "    res = \u001b[34m1\u001b[39;49;00m\u001b[37m\u001b[39;49;00m\n",
      "    \u001b[34mpass\u001b[39;49;00m\u001b[37m\u001b[39;49;00m\n",
      "    \u001b[34mreturn\u001b[39;49;00m res\u001b[37m\u001b[39;49;00m\n",
      "\n",
      "Reduced code (fitness = 0.99):\n",
      "\u001b[34mdef\u001b[39;49;00m \u001b[32mfactorial1\u001b[39;49;00m(n):\u001b[37m\u001b[39;49;00m\n",
      "    res = \u001b[34m1\u001b[39;49;00m\u001b[37m\u001b[39;49;00m\n",
      "    \u001b[34mreturn\u001b[39;49;00m res\u001b[37m\u001b[39;49;00m\n",
      "\n"
     ]
    }
   ],
   "source": [
    "repaired = \\\n",
    "    simple_debug_and_repair(factorial1,\n",
    "                            FACTORIAL_PASSING_TESTCASES_1 +\n",
    "                            FACTORIAL_FAILING_TESTCASES_1,\n",
    "                            factorial1_test, True)"
   ]
  },
  {
   "cell_type": "markdown",
   "metadata": {
    "slideshow": {
     "slide_type": "subslide"
    }
   },
   "source": [
    "The problem is that the current `Repairer` does not provide a suitable mutation to change the right part of the code.\n",
    "\n",
    "How can we repair this? Consider extending `StatementMutator` operator such that it can mutate various parts of the code, such as ranges, arithmetic operations, variable names etc. (As a reference of how to do that, look at the `ConditionMutator` class.)"
   ]
  },
  {
   "cell_type": "markdown",
   "metadata": {
    "slideshow": {
     "slide_type": "fragment"
    }
   },
   "source": [
    "The next faulty function is `factorial2()`:"
   ]
  },
  {
   "cell_type": "code",
   "execution_count": 42,
   "metadata": {
    "execution": {
     "iopub.execute_input": "2025-01-22T08:28:42.304068Z",
     "iopub.status.busy": "2025-01-22T08:28:42.303900Z",
     "iopub.status.idle": "2025-01-22T08:28:42.306081Z",
     "shell.execute_reply": "2025-01-22T08:28:42.305796Z"
    },
    "slideshow": {
     "slide_type": "fragment"
    }
   },
   "outputs": [],
   "source": [
    "def factorial2(n):  # type: ignore\n",
    "    i = 1\n",
    "    for i in range(1, n + 1):\n",
    "        i *= i\n",
    "    return i"
   ]
  },
  {
   "cell_type": "markdown",
   "metadata": {
    "slideshow": {
     "slide_type": "fragment"
    }
   },
   "source": [
    "Again, it outputs the incorrect answer:"
   ]
  },
  {
   "cell_type": "code",
   "execution_count": 43,
   "metadata": {
    "execution": {
     "iopub.execute_input": "2025-01-22T08:28:42.307664Z",
     "iopub.status.busy": "2025-01-22T08:28:42.307546Z",
     "iopub.status.idle": "2025-01-22T08:28:42.309801Z",
     "shell.execute_reply": "2025-01-22T08:28:42.309529Z"
    },
    "slideshow": {
     "slide_type": "subslide"
    }
   },
   "outputs": [
    {
     "data": {
      "text/plain": [
       "25"
      ]
     },
     "execution_count": 43,
     "metadata": {},
     "output_type": "execute_result"
    }
   ],
   "source": [
    "factorial2(5)"
   ]
  },
  {
   "cell_type": "code",
   "execution_count": 44,
   "metadata": {
    "execution": {
     "iopub.execute_input": "2025-01-22T08:28:42.311055Z",
     "iopub.status.busy": "2025-01-22T08:28:42.310955Z",
     "iopub.status.idle": "2025-01-22T08:28:42.312610Z",
     "shell.execute_reply": "2025-01-22T08:28:42.312403Z"
    },
    "slideshow": {
     "slide_type": "fragment"
    }
   },
   "outputs": [],
   "source": [
    "def factorial2_test(n: int) -> None:\n",
    "    m = factorial2(n)\n",
    "    assert m == math.factorial(n)"
   ]
  },
  {
   "cell_type": "code",
   "execution_count": 45,
   "metadata": {
    "execution": {
     "iopub.execute_input": "2025-01-22T08:28:42.313792Z",
     "iopub.status.busy": "2025-01-22T08:28:42.313714Z",
     "iopub.status.idle": "2025-01-22T08:28:42.315658Z",
     "shell.execute_reply": "2025-01-22T08:28:42.315396Z"
    },
    "slideshow": {
     "slide_type": "fragment"
    }
   },
   "outputs": [],
   "source": [
    "def factorial_passing_testcase() -> Tuple:  # type: ignore\n",
    "    while True:\n",
    "        try:\n",
    "            n = factorial_testcase()\n",
    "            factorial2_test(n)\n",
    "            return (n,)\n",
    "        except AssertionError:\n",
    "            pass"
   ]
  },
  {
   "cell_type": "code",
   "execution_count": 46,
   "metadata": {
    "execution": {
     "iopub.execute_input": "2025-01-22T08:28:42.317222Z",
     "iopub.status.busy": "2025-01-22T08:28:42.317122Z",
     "iopub.status.idle": "2025-01-22T08:28:42.319023Z",
     "shell.execute_reply": "2025-01-22T08:28:42.318818Z"
    },
    "slideshow": {
     "slide_type": "subslide"
    }
   },
   "outputs": [],
   "source": [
    "def factorial_failing_testcase() -> Tuple:  # type: ignore\n",
    "    while True:\n",
    "        try:\n",
    "            n = factorial_testcase()\n",
    "            factorial2_test(n)\n",
    "        except AssertionError:\n",
    "            return (n,)"
   ]
  },
  {
   "cell_type": "code",
   "execution_count": 47,
   "metadata": {
    "execution": {
     "iopub.execute_input": "2025-01-22T08:28:42.320158Z",
     "iopub.status.busy": "2025-01-22T08:28:42.320072Z",
     "iopub.status.idle": "2025-01-22T08:28:42.328435Z",
     "shell.execute_reply": "2025-01-22T08:28:42.328174Z"
    },
    "slideshow": {
     "slide_type": "fragment"
    }
   },
   "outputs": [],
   "source": [
    "FACTORIAL_PASSING_TESTCASES_2 = [factorial_passing_testcase()\n",
    "                                 for i in range(TESTS)]"
   ]
  },
  {
   "cell_type": "code",
   "execution_count": 48,
   "metadata": {
    "execution": {
     "iopub.execute_input": "2025-01-22T08:28:42.329896Z",
     "iopub.status.busy": "2025-01-22T08:28:42.329792Z",
     "iopub.status.idle": "2025-01-22T08:28:42.331764Z",
     "shell.execute_reply": "2025-01-22T08:28:42.331526Z"
    },
    "slideshow": {
     "slide_type": "fragment"
    }
   },
   "outputs": [],
   "source": [
    "FACTORIAL_FAILING_TESTCASES_2 = [factorial_failing_testcase()\n",
    "                                 for i in range(TESTS)]"
   ]
  },
  {
   "cell_type": "markdown",
   "metadata": {
    "slideshow": {
     "slide_type": "fragment"
    }
   },
   "source": [
    "The third faulty function is `factorial3()`:"
   ]
  },
  {
   "cell_type": "code",
   "execution_count": 49,
   "metadata": {
    "execution": {
     "iopub.execute_input": "2025-01-22T08:28:42.333003Z",
     "iopub.status.busy": "2025-01-22T08:28:42.332919Z",
     "iopub.status.idle": "2025-01-22T08:28:42.334908Z",
     "shell.execute_reply": "2025-01-22T08:28:42.334597Z"
    },
    "slideshow": {
     "slide_type": "subslide"
    }
   },
   "outputs": [],
   "source": [
    "def factorial3(n):  # type: ignore\n",
    "    res = 1\n",
    "    for i in range(1, n + 1):\n",
    "        res += i\n",
    "    return res"
   ]
  },
  {
   "cell_type": "code",
   "execution_count": 50,
   "metadata": {
    "execution": {
     "iopub.execute_input": "2025-01-22T08:28:42.336156Z",
     "iopub.status.busy": "2025-01-22T08:28:42.336070Z",
     "iopub.status.idle": "2025-01-22T08:28:42.338219Z",
     "shell.execute_reply": "2025-01-22T08:28:42.337978Z"
    },
    "slideshow": {
     "slide_type": "fragment"
    }
   },
   "outputs": [
    {
     "data": {
      "text/plain": [
       "16"
      ]
     },
     "execution_count": 50,
     "metadata": {},
     "output_type": "execute_result"
    }
   ],
   "source": [
    "factorial3(5)"
   ]
  },
  {
   "cell_type": "code",
   "execution_count": 51,
   "metadata": {
    "execution": {
     "iopub.execute_input": "2025-01-22T08:28:42.339566Z",
     "iopub.status.busy": "2025-01-22T08:28:42.339474Z",
     "iopub.status.idle": "2025-01-22T08:28:42.341438Z",
     "shell.execute_reply": "2025-01-22T08:28:42.341140Z"
    },
    "slideshow": {
     "slide_type": "fragment"
    }
   },
   "outputs": [],
   "source": [
    "def factorial3_test(n: int) -> None:\n",
    "    m = factorial3(n)\n",
    "    assert m == math.factorial(n)"
   ]
  },
  {
   "cell_type": "code",
   "execution_count": 52,
   "metadata": {
    "execution": {
     "iopub.execute_input": "2025-01-22T08:28:42.342777Z",
     "iopub.status.busy": "2025-01-22T08:28:42.342682Z",
     "iopub.status.idle": "2025-01-22T08:28:42.344721Z",
     "shell.execute_reply": "2025-01-22T08:28:42.344434Z"
    },
    "slideshow": {
     "slide_type": "subslide"
    }
   },
   "outputs": [],
   "source": [
    "def factorial_passing_testcase() -> Tuple:  # type: ignore\n",
    "    while True:\n",
    "        try:\n",
    "            n = factorial_testcase()\n",
    "            factorial3_test(n)\n",
    "            return (n,)\n",
    "        except AssertionError:\n",
    "            pass"
   ]
  },
  {
   "cell_type": "code",
   "execution_count": 53,
   "metadata": {
    "execution": {
     "iopub.execute_input": "2025-01-22T08:28:42.346093Z",
     "iopub.status.busy": "2025-01-22T08:28:42.346002Z",
     "iopub.status.idle": "2025-01-22T08:28:42.347977Z",
     "shell.execute_reply": "2025-01-22T08:28:42.347730Z"
    },
    "slideshow": {
     "slide_type": "fragment"
    }
   },
   "outputs": [],
   "source": [
    "def factorial_failing_testcase() -> Tuple:  # type: ignore\n",
    "    while True:\n",
    "        try:\n",
    "            n = factorial_testcase()\n",
    "            factorial3_test(n)\n",
    "        except AssertionError:\n",
    "            return (n,)"
   ]
  },
  {
   "cell_type": "code",
   "execution_count": 54,
   "metadata": {
    "execution": {
     "iopub.execute_input": "2025-01-22T08:28:42.349315Z",
     "iopub.status.busy": "2025-01-22T08:28:42.349226Z",
     "iopub.status.idle": "2025-01-22T08:28:42.363271Z",
     "shell.execute_reply": "2025-01-22T08:28:42.363006Z"
    },
    "slideshow": {
     "slide_type": "subslide"
    }
   },
   "outputs": [],
   "source": [
    "FACTORIAL_PASSING_TESTCASES_3 = [factorial_passing_testcase()\n",
    "                                 for i in range(TESTS)]"
   ]
  },
  {
   "cell_type": "code",
   "execution_count": 55,
   "metadata": {
    "execution": {
     "iopub.execute_input": "2025-01-22T08:28:42.364607Z",
     "iopub.status.busy": "2025-01-22T08:28:42.364515Z",
     "iopub.status.idle": "2025-01-22T08:28:42.366565Z",
     "shell.execute_reply": "2025-01-22T08:28:42.366271Z"
    },
    "slideshow": {
     "slide_type": "fragment"
    }
   },
   "outputs": [],
   "source": [
    "FACTORIAL_FAILING_TESTCASES_3 = [factorial_failing_testcase()\n",
    "                                 for i in range(TESTS)]"
   ]
  },
  {
   "cell_type": "markdown",
   "metadata": {
    "slideshow": {
     "slide_type": "subslide"
    }
   },
   "source": [
    "### Middle\n",
    "\n",
    "The following faulty function is the already well known _Middle_ function, though with another defect."
   ]
  },
  {
   "cell_type": "code",
   "execution_count": 56,
   "metadata": {
    "execution": {
     "iopub.execute_input": "2025-01-22T08:28:42.367943Z",
     "iopub.status.busy": "2025-01-22T08:28:42.367854Z",
     "iopub.status.idle": "2025-01-22T08:28:42.369862Z",
     "shell.execute_reply": "2025-01-22T08:28:42.369592Z"
    },
    "slideshow": {
     "slide_type": "subslide"
    }
   },
   "outputs": [],
   "source": [
    "def middle(x, y, z):  # type: ignore\n",
    "    if x < x:\n",
    "        if y < z:\n",
    "            return y\n",
    "        if x < z:\n",
    "            return z\n",
    "        return x\n",
    "    if x < z:\n",
    "        return x\n",
    "    if y < z:\n",
    "        return z\n",
    "    return y"
   ]
  },
  {
   "cell_type": "markdown",
   "metadata": {
    "slideshow": {
     "slide_type": "fragment"
    }
   },
   "source": [
    "It should return the second largest number of the input, but it does not:"
   ]
  },
  {
   "cell_type": "code",
   "execution_count": 57,
   "metadata": {
    "execution": {
     "iopub.execute_input": "2025-01-22T08:28:42.371138Z",
     "iopub.status.busy": "2025-01-22T08:28:42.371044Z",
     "iopub.status.idle": "2025-01-22T08:28:42.373331Z",
     "shell.execute_reply": "2025-01-22T08:28:42.373056Z"
    },
    "slideshow": {
     "slide_type": "subslide"
    }
   },
   "outputs": [
    {
     "data": {
      "text/plain": [
       "3"
      ]
     },
     "execution_count": 57,
     "metadata": {},
     "output_type": "execute_result"
    }
   ],
   "source": [
    "middle(2, 3, 1)"
   ]
  },
  {
   "cell_type": "code",
   "execution_count": 58,
   "metadata": {
    "execution": {
     "iopub.execute_input": "2025-01-22T08:28:42.374634Z",
     "iopub.status.busy": "2025-01-22T08:28:42.374535Z",
     "iopub.status.idle": "2025-01-22T08:28:42.376502Z",
     "shell.execute_reply": "2025-01-22T08:28:42.376251Z"
    },
    "slideshow": {
     "slide_type": "fragment"
    }
   },
   "outputs": [],
   "source": [
    "def middle_testcase() -> Tuple:\n",
    "    x = random.randrange(10)\n",
    "    y = random.randrange(10)\n",
    "    z = random.randrange(10)\n",
    "    return x, y, z"
   ]
  },
  {
   "cell_type": "code",
   "execution_count": 59,
   "metadata": {
    "execution": {
     "iopub.execute_input": "2025-01-22T08:28:42.377721Z",
     "iopub.status.busy": "2025-01-22T08:28:42.377635Z",
     "iopub.status.idle": "2025-01-22T08:28:42.379486Z",
     "shell.execute_reply": "2025-01-22T08:28:42.379254Z"
    },
    "slideshow": {
     "slide_type": "fragment"
    }
   },
   "outputs": [],
   "source": [
    "def middle_test(x: int, y: int, z: int) -> None:\n",
    "    m = middle(x, y, z)\n",
    "    assert m == sorted([x, y, z])[1]"
   ]
  },
  {
   "cell_type": "code",
   "execution_count": 60,
   "metadata": {
    "execution": {
     "iopub.execute_input": "2025-01-22T08:28:42.380726Z",
     "iopub.status.busy": "2025-01-22T08:28:42.380635Z",
     "iopub.status.idle": "2025-01-22T08:28:42.382633Z",
     "shell.execute_reply": "2025-01-22T08:28:42.382395Z"
    },
    "slideshow": {
     "slide_type": "subslide"
    }
   },
   "outputs": [],
   "source": [
    "def middle_passing_testcase() -> Tuple:\n",
    "    while True:\n",
    "        try:\n",
    "            x, y, z = middle_testcase()\n",
    "            middle_test(x, y, z)\n",
    "            return x, y, z\n",
    "        except AssertionError:\n",
    "            pass"
   ]
  },
  {
   "cell_type": "code",
   "execution_count": 61,
   "metadata": {
    "execution": {
     "iopub.execute_input": "2025-01-22T08:28:42.383901Z",
     "iopub.status.busy": "2025-01-22T08:28:42.383805Z",
     "iopub.status.idle": "2025-01-22T08:28:42.385882Z",
     "shell.execute_reply": "2025-01-22T08:28:42.385626Z"
    },
    "slideshow": {
     "slide_type": "fragment"
    }
   },
   "outputs": [],
   "source": [
    "def middle_failing_testcase() -> Tuple:\n",
    "    while True:\n",
    "        try:\n",
    "            x, y, z = middle_testcase()\n",
    "            middle_test(x, y, z)\n",
    "        except AssertionError:\n",
    "            return x, y, z"
   ]
  },
  {
   "cell_type": "code",
   "execution_count": 62,
   "metadata": {
    "execution": {
     "iopub.execute_input": "2025-01-22T08:28:42.387120Z",
     "iopub.status.busy": "2025-01-22T08:28:42.387033Z",
     "iopub.status.idle": "2025-01-22T08:28:42.389051Z",
     "shell.execute_reply": "2025-01-22T08:28:42.388768Z"
    },
    "slideshow": {
     "slide_type": "subslide"
    }
   },
   "outputs": [],
   "source": [
    "MIDDLE_PASSING_TESTCASES = [middle_passing_testcase()\n",
    "                            for i in range(TESTS)]"
   ]
  },
  {
   "cell_type": "code",
   "execution_count": 63,
   "metadata": {
    "execution": {
     "iopub.execute_input": "2025-01-22T08:28:42.390337Z",
     "iopub.status.busy": "2025-01-22T08:28:42.390244Z",
     "iopub.status.idle": "2025-01-22T08:28:42.392357Z",
     "shell.execute_reply": "2025-01-22T08:28:42.392102Z"
    },
    "slideshow": {
     "slide_type": "fragment"
    }
   },
   "outputs": [],
   "source": [
    "MIDDLE_FAILING_TESTCASES = [middle_failing_testcase()\n",
    "                            for i in range(TESTS)]"
   ]
  },
  {
   "cell_type": "markdown",
   "metadata": {
    "slideshow": {
     "slide_type": "subslide"
    }
   },
   "source": [
    "### Power\n",
    "\n",
    "The power function should implement the following formular:\n",
    "\\begin{equation*}\n",
    "\\textit{power}(x, n) = x^n, \\quad \\text{for $x\\geq 0$ and $n \\geq 0$}\n",
    "\\end{equation*}"
   ]
  },
  {
   "cell_type": "code",
   "execution_count": 64,
   "metadata": {
    "execution": {
     "iopub.execute_input": "2025-01-22T08:28:42.393699Z",
     "iopub.status.busy": "2025-01-22T08:28:42.393606Z",
     "iopub.status.idle": "2025-01-22T08:28:42.395475Z",
     "shell.execute_reply": "2025-01-22T08:28:42.395237Z"
    },
    "slideshow": {
     "slide_type": "fragment"
    }
   },
   "outputs": [],
   "source": [
    "def power(x, n):  # type: ignore\n",
    "    res = 1\n",
    "    for i in range(0, x):\n",
    "        res *= n\n",
    "    return res"
   ]
  },
  {
   "cell_type": "markdown",
   "metadata": {
    "slideshow": {
     "slide_type": "fragment"
    }
   },
   "source": [
    "However, this `power()` function either has an uncommon interpretation of $x^y$ – or it is simply wrong:"
   ]
  },
  {
   "cell_type": "code",
   "execution_count": 65,
   "metadata": {
    "execution": {
     "iopub.execute_input": "2025-01-22T08:28:42.396813Z",
     "iopub.status.busy": "2025-01-22T08:28:42.396726Z",
     "iopub.status.idle": "2025-01-22T08:28:42.398958Z",
     "shell.execute_reply": "2025-01-22T08:28:42.398714Z"
    },
    "slideshow": {
     "slide_type": "subslide"
    }
   },
   "outputs": [
    {
     "data": {
      "text/plain": [
       "25"
      ]
     },
     "execution_count": 65,
     "metadata": {},
     "output_type": "execute_result"
    }
   ],
   "source": [
    "power(2, 5)"
   ]
  },
  {
   "cell_type": "markdown",
   "metadata": {
    "slideshow": {
     "slide_type": "fragment"
    }
   },
   "source": [
    "We go with the simpler explanation that `power()` is wrong. The correct value, of course, should be $2^5 = 32$."
   ]
  },
  {
   "cell_type": "code",
   "execution_count": 66,
   "metadata": {
    "execution": {
     "iopub.execute_input": "2025-01-22T08:28:42.400364Z",
     "iopub.status.busy": "2025-01-22T08:28:42.400280Z",
     "iopub.status.idle": "2025-01-22T08:28:42.402101Z",
     "shell.execute_reply": "2025-01-22T08:28:42.401850Z"
    },
    "slideshow": {
     "slide_type": "fragment"
    }
   },
   "outputs": [],
   "source": [
    "def power_testcase() -> Tuple:\n",
    "    x = random.randrange(100)\n",
    "    n = random.randrange(100)\n",
    "    return x, n"
   ]
  },
  {
   "cell_type": "code",
   "execution_count": 67,
   "metadata": {
    "execution": {
     "iopub.execute_input": "2025-01-22T08:28:42.403489Z",
     "iopub.status.busy": "2025-01-22T08:28:42.403369Z",
     "iopub.status.idle": "2025-01-22T08:28:42.405137Z",
     "shell.execute_reply": "2025-01-22T08:28:42.404896Z"
    },
    "slideshow": {
     "slide_type": "fragment"
    }
   },
   "outputs": [],
   "source": [
    "def power_test(x: int, n: int) -> None:\n",
    "    m = power(x, n)\n",
    "    assert m == pow(x, n)"
   ]
  },
  {
   "cell_type": "code",
   "execution_count": 68,
   "metadata": {
    "execution": {
     "iopub.execute_input": "2025-01-22T08:28:42.406364Z",
     "iopub.status.busy": "2025-01-22T08:28:42.406275Z",
     "iopub.status.idle": "2025-01-22T08:28:42.408145Z",
     "shell.execute_reply": "2025-01-22T08:28:42.407905Z"
    },
    "slideshow": {
     "slide_type": "subslide"
    }
   },
   "outputs": [],
   "source": [
    "def power_passing_testcase() -> Tuple:\n",
    "    while True:\n",
    "        try:\n",
    "            x, n = power_testcase()\n",
    "            power_test(x, n)\n",
    "            return x, n\n",
    "        except AssertionError:\n",
    "            pass"
   ]
  },
  {
   "cell_type": "code",
   "execution_count": 69,
   "metadata": {
    "execution": {
     "iopub.execute_input": "2025-01-22T08:28:42.409510Z",
     "iopub.status.busy": "2025-01-22T08:28:42.409416Z",
     "iopub.status.idle": "2025-01-22T08:28:42.411428Z",
     "shell.execute_reply": "2025-01-22T08:28:42.411141Z"
    },
    "slideshow": {
     "slide_type": "fragment"
    }
   },
   "outputs": [],
   "source": [
    "def power_failing_testcase() -> Tuple:\n",
    "    while True:\n",
    "        try:\n",
    "            x, n = power_testcase()\n",
    "            power_test(x, n)\n",
    "        except AssertionError:\n",
    "            return x, n"
   ]
  },
  {
   "cell_type": "code",
   "execution_count": 70,
   "metadata": {
    "execution": {
     "iopub.execute_input": "2025-01-22T08:28:42.412685Z",
     "iopub.status.busy": "2025-01-22T08:28:42.412601Z",
     "iopub.status.idle": "2025-01-22T08:28:42.438251Z",
     "shell.execute_reply": "2025-01-22T08:28:42.438004Z"
    },
    "slideshow": {
     "slide_type": "subslide"
    }
   },
   "outputs": [],
   "source": [
    "POWER_PASSING_TESTCASES = [power_passing_testcase()\n",
    "                           for i in range(TESTS)]"
   ]
  },
  {
   "cell_type": "code",
   "execution_count": 71,
   "metadata": {
    "execution": {
     "iopub.execute_input": "2025-01-22T08:28:42.439742Z",
     "iopub.status.busy": "2025-01-22T08:28:42.439656Z",
     "iopub.status.idle": "2025-01-22T08:28:42.441815Z",
     "shell.execute_reply": "2025-01-22T08:28:42.441547Z"
    },
    "slideshow": {
     "slide_type": "fragment"
    }
   },
   "outputs": [],
   "source": [
    "POWER_FAILING_TESTCASES = [power_failing_testcase()\n",
    "                           for i in range(TESTS)]"
   ]
  },
  {
   "cell_type": "markdown",
   "metadata": {
    "slideshow": {
     "slide_type": "subslide"
    }
   },
   "source": [
    "### Tester Class"
   ]
  },
  {
   "cell_type": "markdown",
   "metadata": {
    "slideshow": {
     "slide_type": "fragment"
    }
   },
   "source": [
    "To make it convenient to test your solution we provide a testing framework:"
   ]
  },
  {
   "cell_type": "code",
   "execution_count": 72,
   "metadata": {
    "execution": {
     "iopub.execute_input": "2025-01-22T08:28:42.443252Z",
     "iopub.status.busy": "2025-01-22T08:28:42.443168Z",
     "iopub.status.idle": "2025-01-22T08:28:42.444889Z",
     "shell.execute_reply": "2025-01-22T08:28:42.444642Z"
    },
    "slideshow": {
     "slide_type": "skip"
    }
   },
   "outputs": [],
   "source": [
    "import re"
   ]
  },
  {
   "cell_type": "code",
   "execution_count": 73,
   "metadata": {
    "execution": {
     "iopub.execute_input": "2025-01-22T08:28:42.446141Z",
     "iopub.status.busy": "2025-01-22T08:28:42.446045Z",
     "iopub.status.idle": "2025-01-22T08:28:42.448715Z",
     "shell.execute_reply": "2025-01-22T08:28:42.448445Z"
    },
    "slideshow": {
     "slide_type": "subslide"
    }
   },
   "outputs": [],
   "source": [
    "class Test:\n",
    "    def __init__(self,\n",
    "                 function: Callable,\n",
    "                 testcases: List, \n",
    "                 test_function: Callable,\n",
    "                 assert_function: Callable) -> None:\n",
    "        self.function = function\n",
    "        self.testcases = testcases\n",
    "        self.test_function = test_function\n",
    "        self.assert_function = assert_function\n",
    "\n",
    "    def run(self, repair_function: Callable) -> None:\n",
    "        repaired = repair_function(self.function,\n",
    "                                   self.testcases,\n",
    "                                   self.test_function)\n",
    "        repaired = re.sub(self.function.__name__, 'foo', repaired)\n",
    "        exec(repaired, globals())\n",
    "\n",
    "        for test in self.testcases:\n",
    "            res = foo(*test)  # type: ignore\n",
    "            assert res == self.assert_function(*test)"
   ]
  },
  {
   "cell_type": "code",
   "execution_count": 74,
   "metadata": {
    "execution": {
     "iopub.execute_input": "2025-01-22T08:28:42.450042Z",
     "iopub.status.busy": "2025-01-22T08:28:42.449961Z",
     "iopub.status.idle": "2025-01-22T08:28:42.451762Z",
     "shell.execute_reply": "2025-01-22T08:28:42.451525Z"
    },
    "slideshow": {
     "slide_type": "subslide"
    }
   },
   "outputs": [],
   "source": [
    "def middle_assert(x, y, z):  # type: ignore\n",
    "    return sorted([x, y, z])[1]"
   ]
  },
  {
   "cell_type": "code",
   "execution_count": 75,
   "metadata": {
    "execution": {
     "iopub.execute_input": "2025-01-22T08:28:42.453158Z",
     "iopub.status.busy": "2025-01-22T08:28:42.453072Z",
     "iopub.status.idle": "2025-01-22T08:28:42.455310Z",
     "shell.execute_reply": "2025-01-22T08:28:42.455067Z"
    },
    "slideshow": {
     "slide_type": "fragment"
    }
   },
   "outputs": [],
   "source": [
    "test0 = Test(factorial1, FACTORIAL_PASSING_TESTCASES_1 + FACTORIAL_FAILING_TESTCASES_1, factorial1_test, math.factorial)\n",
    "test1 = Test(factorial2, FACTORIAL_PASSING_TESTCASES_2 + FACTORIAL_FAILING_TESTCASES_2, factorial2_test, math.factorial)\n",
    "test2 = Test(factorial3, FACTORIAL_PASSING_TESTCASES_3 + FACTORIAL_FAILING_TESTCASES_3, factorial3_test, math.factorial)\n",
    "test3 = Test(middle, MIDDLE_PASSING_TESTCASES + MIDDLE_FAILING_TESTCASES, middle_test, middle_assert)\n",
    "test4 = Test(power, POWER_PASSING_TESTCASES + POWER_FAILING_TESTCASES, power_test, pow)"
   ]
  },
  {
   "cell_type": "code",
   "execution_count": 76,
   "metadata": {
    "execution": {
     "iopub.execute_input": "2025-01-22T08:28:42.456661Z",
     "iopub.status.busy": "2025-01-22T08:28:42.456571Z",
     "iopub.status.idle": "2025-01-22T08:28:42.458411Z",
     "shell.execute_reply": "2025-01-22T08:28:42.458131Z"
    },
    "slideshow": {
     "slide_type": "fragment"
    }
   },
   "outputs": [],
   "source": [
    "tests = [test0, test1, test2, test3, test4]"
   ]
  },
  {
   "cell_type": "code",
   "execution_count": 77,
   "metadata": {
    "execution": {
     "iopub.execute_input": "2025-01-22T08:28:42.459802Z",
     "iopub.status.busy": "2025-01-22T08:28:42.459715Z",
     "iopub.status.idle": "2025-01-22T08:28:42.462151Z",
     "shell.execute_reply": "2025-01-22T08:28:42.461869Z"
    },
    "slideshow": {
     "slide_type": "subslide"
    }
   },
   "outputs": [],
   "source": [
    "class Tester:\n",
    "    def __init__(self, function: Callable, tests: List) -> None:\n",
    "        self.function = function\n",
    "        self.tests = tests\n",
    "        random.seed(42)  # We use this seed for our evaluation; don't change it.\n",
    "\n",
    "    def run_tests(self) -> None:\n",
    "        for test in self.tests:\n",
    "            try:\n",
    "                test.run(self.function)\n",
    "                print(f'Test {test.function.__name__}: OK')\n",
    "            except AssertionError:\n",
    "                print(f'Test {test.function.__name__}: Failed')"
   ]
  },
  {
   "cell_type": "code",
   "execution_count": 78,
   "metadata": {
    "execution": {
     "iopub.execute_input": "2025-01-22T08:28:42.463577Z",
     "iopub.status.busy": "2025-01-22T08:28:42.463476Z",
     "iopub.status.idle": "2025-01-22T08:29:23.690942Z",
     "shell.execute_reply": "2025-01-22T08:29:23.690565Z"
    },
    "slideshow": {
     "slide_type": "subslide"
    }
   },
   "outputs": [
    {
     "name": "stdout",
     "output_type": "stream",
     "text": [
      "Test factorial1: Failed\n"
     ]
    },
    {
     "name": "stdout",
     "output_type": "stream",
     "text": [
      "Test factorial2: Failed\n"
     ]
    },
    {
     "name": "stdout",
     "output_type": "stream",
     "text": [
      "Test factorial3: Failed\n"
     ]
    },
    {
     "name": "stdout",
     "output_type": "stream",
     "text": [
      "Test middle: Failed\n"
     ]
    },
    {
     "name": "stdout",
     "output_type": "stream",
     "text": [
      "Test power: Failed\n"
     ]
    }
   ],
   "source": [
    "tester = Tester(simple_debug_and_repair, tests)  # TODO: replace simple_debug_and_repair by your debug_and_repair function\n",
    "tester.run_tests()"
   ]
  },
  {
   "cell_type": "markdown",
   "metadata": {
    "slideshow": {
     "slide_type": "fragment"
    }
   },
   "source": [
    "By executing the `Tester` as shown above, you can assess the quality of your repairing approach, by testing your own `debug_and_repair()` function."
   ]
  },
  {
   "cell_type": "markdown",
   "metadata": {
    "slideshow": {
     "slide_type": "slide"
    }
   },
   "source": [
    "## Grading\n",
    "\n",
    "Your project will be graded by _automated tests_. The tests are executed in the same manner as shown above.\n",
    "In total there are **20 points** + **10 bonus points** to be awarded for this project. **20 points** for the must-haves, **10 bonus points** for may-haves."
   ]
  },
  {
   "cell_type": "markdown",
   "metadata": {
    "slideshow": {
     "slide_type": "subslide"
    }
   },
   "source": [
    "### Must-Haves (20 points)\n",
    "\n",
    "Must haves include an implementation of the `debug_and_repair` function in a way that it automatically repairs faulty functions given sufficiantly large test suites.\n",
    "**10 points** are awarded for passing the tests in this notebook. Each passing test being worth two points.\n",
    "**10 points** are awarded for passing secret tests."
   ]
  },
  {
   "cell_type": "markdown",
   "metadata": {
    "slideshow": {
     "slide_type": "subslide"
    }
   },
   "source": [
    "### May-Haves (10 points)\n",
    "\n",
    "May-haves will also be tested with secret tests, and award **2 points** each. The may-have-features for this project are a more robust implementation, that is able to cope with a wider range of defects:\n",
    "\n",
    "* Infinite loops\n",
    "* Infinite recursion (`RecursionError` in Python)\n",
    "* Type errors (`TypeError` in Python)\n",
    "* Undefined identifiers (`NameError` in Python)"
   ]
  },
  {
   "cell_type": "markdown",
   "metadata": {
    "slideshow": {
     "slide_type": "subslide"
    }
   },
   "source": [
    "### General Rules\n",
    "\n",
    "You need to achieve at least **10 points** to be awarded any points at all.  \n",
    "Tests must be passed without hard-coding results, otherwise no points are awarded.  \n",
    "Your code needs to be sufficiently documented in order to achieve points!"
   ]
  }
 ],
 "metadata": {
  "ipub": {
   "bibliography": "fuzzingbook.bib"
  },
  "kernelspec": {
   "display_name": "Python 3 (ipykernel)",
   "language": "python",
   "name": "python3"
  },
  "language_info": {
   "codemirror_mode": {
    "name": "ipython",
    "version": 3
   },
   "file_extension": ".py",
   "mimetype": "text/x-python",
   "name": "python",
   "nbconvert_exporter": "python",
   "pygments_lexer": "ipython3",
   "version": "3.12.8"
  },
  "toc": {
   "base_numbering": 1,
   "nav_menu": {},
   "number_sections": true,
   "sideBar": true,
   "skip_h1_title": true,
   "title_cell": "",
   "title_sidebar": "Contents",
   "toc_cell": false,
   "toc_position": {},
   "toc_section_display": true,
   "toc_window_display": true
  },
  "toc-autonumbering": false
 },
 "nbformat": 4,
 "nbformat_minor": 4
}
