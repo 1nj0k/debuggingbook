{
 "cells": [
  {
   "cell_type": "markdown",
   "metadata": {
    "button": false,
    "new_sheet": false,
    "run_control": {
     "read_only": false
    },
    "slideshow": {
     "slide_type": "slide"
    }
   },
   "source": [
    "# Tracing Executions\n",
    "\n",
    "In this chapter, we show how to _observe program state during an execution_ – a prerequisite for logging and interactive debugging. Thanks to the power of Python, we can do this in a few lines of code."
   ]
  },
  {
   "cell_type": "code",
   "execution_count": 1,
   "metadata": {
    "execution": {
     "iopub.execute_input": "2023-01-07T16:02:13.448431Z",
     "iopub.status.busy": "2023-01-07T16:02:13.447981Z",
     "iopub.status.idle": "2023-01-07T16:02:13.506829Z",
     "shell.execute_reply": "2023-01-07T16:02:13.507177Z"
    },
    "slideshow": {
     "slide_type": "skip"
    }
   },
   "outputs": [
    {
     "data": {
      "text/html": [
       "\n",
       "        <iframe\n",
       "            width=\"640\"\n",
       "            height=\"360\"\n",
       "            src=\"https://www.youtube-nocookie.com/embed/UYAvCl-5NGY\"\n",
       "            frameborder=\"0\"\n",
       "            allowfullscreen\n",
       "            \n",
       "        ></iframe>\n",
       "        "
      ],
      "text/plain": [
       "<IPython.lib.display.IFrame at 0x1094d19f0>"
      ]
     },
     "execution_count": 1,
     "metadata": {},
     "output_type": "execute_result"
    }
   ],
   "source": [
    "from bookutils import YouTubeVideo\n",
    "YouTubeVideo(\"UYAvCl-5NGY\")"
   ]
  },
  {
   "cell_type": "markdown",
   "metadata": {
    "button": false,
    "new_sheet": false,
    "run_control": {
     "read_only": false
    },
    "slideshow": {
     "slide_type": "subslide"
    }
   },
   "source": [
    "**Prerequisites**\n",
    "\n",
    "* You should have read the [Introduction to Debugging](Intro_Debugging.ipynb).\n",
    "* Knowing a bit of _Python_ is helpful for understanding the code examples in the book."
   ]
  },
  {
   "cell_type": "code",
   "execution_count": 2,
   "metadata": {
    "button": false,
    "execution": {
     "iopub.execute_input": "2023-01-07T16:02:13.509817Z",
     "iopub.status.busy": "2023-01-07T16:02:13.509466Z",
     "iopub.status.idle": "2023-01-07T16:02:13.510790Z",
     "shell.execute_reply": "2023-01-07T16:02:13.511058Z"
    },
    "new_sheet": false,
    "run_control": {
     "read_only": false
    },
    "slideshow": {
     "slide_type": "skip"
    }
   },
   "outputs": [],
   "source": [
    "import bookutils"
   ]
  },
  {
   "cell_type": "code",
   "execution_count": 3,
   "metadata": {
    "execution": {
     "iopub.execute_input": "2023-01-07T16:02:13.513057Z",
     "iopub.status.busy": "2023-01-07T16:02:13.512753Z",
     "iopub.status.idle": "2023-01-07T16:02:13.513882Z",
     "shell.execute_reply": "2023-01-07T16:02:13.514241Z"
    },
    "slideshow": {
     "slide_type": "skip"
    }
   },
   "outputs": [],
   "source": [
    "from bookutils import quiz"
   ]
  },
  {
   "cell_type": "code",
   "execution_count": 4,
   "metadata": {
    "execution": {
     "iopub.execute_input": "2023-01-07T16:02:13.516167Z",
     "iopub.status.busy": "2023-01-07T16:02:13.515866Z",
     "iopub.status.idle": "2023-01-07T16:02:13.577206Z",
     "shell.execute_reply": "2023-01-07T16:02:13.577401Z"
    },
    "slideshow": {
     "slide_type": "skip"
    }
   },
   "outputs": [],
   "source": [
    "import Intro_Debugging"
   ]
  },
  {
   "attachments": {},
   "cell_type": "markdown",
   "metadata": {
    "slideshow": {
     "slide_type": "skip"
    }
   },
   "source": [
    "## Synopsis\n",
    "<!-- Automatically generated. Do not edit. -->\n",
    "\n",
    "To [use the code provided in this chapter](Importing.ipynb), write\n",
    "\n",
    "```python\n",
    ">>> from debuggingbook.Tracer import <identifier>\n",
    "```\n",
    "\n",
    "and then make use of the following features.\n",
    "\n",
    "\n",
    "This chapter provides a `Tracer` class that allows to log events during program execution. The advanced subclass `EventTracer` allows restricting logs to specific conditions. Logs are shown only while the given `condition` holds:\n",
    "\n",
    "```python\n",
    ">>> with EventTracer(condition='line == 223 or len(out) >= 6'):\n",
    ">>>     remove_html_markup('<b>foo</b>bar')\n",
    "...\n",
    "                                         # s = '<b>foo</b>bar', function = 'remove_html_markup', line = 243, tag = False, quote = False, out = 'foobar', c = 'r'\n",
    "243     for c in s:\n",
    "                                         # line = 255\n",
    "255     return out\n",
    "remove_html_markup() returns 'foobar'\n",
    "\n",
    "```\n",
    "It also allows to restrict logs to specific events. Log entries are shown only if one of the given `events` changes its value:\n",
    "\n",
    "```python\n",
    ">>> with EventTracer(events=[\"c == '/'\"]):\n",
    ">>>     remove_html_markup('<b>foo</b>bar')\n",
    "...\n",
    "Calling remove_html_markup(s = '<b>foo</b>bar', function = 'remove_html_markup', line = 238)\n",
    "...\n",
    "                                         # line = 244, tag = False, quote = False, out = '', c = '<'\n",
    "244         assert tag or not quote\n",
    "...\n",
    "                                         # tag = True, out = 'foo', c = '/'\n",
    "244         assert tag or not quote\n",
    "...\n",
    "                                         # c = 'b'\n",
    "244         assert tag or not quote\n",
    "\n",
    "```\n",
    "`Tracer` and `EventTracer` classes allow for subclassing and further customization.\n",
    "\n",
    "![](PICS/Tracer-synopsis-1.svg)\n",
    "\n"
   ]
  },
  {
   "cell_type": "markdown",
   "metadata": {
    "button": false,
    "new_sheet": false,
    "run_control": {
     "read_only": false
    },
    "slideshow": {
     "slide_type": "slide"
    }
   },
   "source": [
    "## Tracing Python Programs\n",
    "\n",
    "How do debugging tools access the state of a program during execution? For _interpreted_ languages such as Python, this is a simple task. If a language is interpreted, it is typically fairly easy to control execution and to inspect state – since this is what the interpreter is doing already anyway. Debuggers are then implemented on top of _hooks_ that allow to interrupt execution and access program state."
   ]
  },
  {
   "cell_type": "markdown",
   "metadata": {
    "button": false,
    "new_sheet": false,
    "run_control": {
     "read_only": false
    },
    "slideshow": {
     "slide_type": "subslide"
    }
   },
   "source": [
    "Python makes such a hook available in the function `sys.settrace()`. You invoke it with a *tracing function* that will be called at every line executed, as in\n",
    "\n",
    "```python\n",
    "sys.settrace(traceit)\n",
    "```\n",
    "\n",
    "Such a tracing function is convenient, as it simply traces _everything_. In contrast to an interactive debugger, where you have to select which aspect of the execution you're interested in, you can just print out a long trace into an *execution log*, to examine it later.\n",
    "\n",
    "This tracing function takes the format"
   ]
  },
  {
   "cell_type": "code",
   "execution_count": 5,
   "metadata": {
    "execution": {
     "iopub.execute_input": "2023-01-07T16:02:13.579716Z",
     "iopub.status.busy": "2023-01-07T16:02:13.579400Z",
     "iopub.status.idle": "2023-01-07T16:02:13.580764Z",
     "shell.execute_reply": "2023-01-07T16:02:13.580970Z"
    },
    "slideshow": {
     "slide_type": "skip"
    }
   },
   "outputs": [],
   "source": [
    "from types import FrameType, TracebackType"
   ]
  },
  {
   "cell_type": "code",
   "execution_count": 6,
   "metadata": {
    "execution": {
     "iopub.execute_input": "2023-01-07T16:02:13.582860Z",
     "iopub.status.busy": "2023-01-07T16:02:13.582556Z",
     "iopub.status.idle": "2023-01-07T16:02:13.584056Z",
     "shell.execute_reply": "2023-01-07T16:02:13.584275Z"
    },
    "slideshow": {
     "slide_type": "subslide"
    }
   },
   "outputs": [],
   "source": [
    "# ignore\n",
    "from typing import Any, Optional, Callable, Dict, List, Type, TextIO, cast"
   ]
  },
  {
   "cell_type": "code",
   "execution_count": 7,
   "metadata": {
    "execution": {
     "iopub.execute_input": "2023-01-07T16:02:13.586598Z",
     "iopub.status.busy": "2023-01-07T16:02:13.586027Z",
     "iopub.status.idle": "2023-01-07T16:02:13.587817Z",
     "shell.execute_reply": "2023-01-07T16:02:13.588081Z"
    },
    "slideshow": {
     "slide_type": "fragment"
    }
   },
   "outputs": [],
   "source": [
    "def traceit(frame: FrameType, event: str, arg: Any) -> Optional[Callable]:\n",
    "    ..."
   ]
  },
  {
   "cell_type": "markdown",
   "metadata": {
    "slideshow": {
     "slide_type": "fragment"
    }
   },
   "source": [
    "Here, `event` is a string telling what has happened in the program – for instance,\n",
    "\n",
    "* `'line'` – a new line is executed\n",
    "* `'call'` – a function just has been called\n",
    "* `'return'` – a function returns"
   ]
  },
  {
   "cell_type": "markdown",
   "metadata": {
    "slideshow": {
     "slide_type": "subslide"
    }
   },
   "source": [
    "The `frame` argument holds the current execution frame – that is, the function and its local variables:\n",
    "\n",
    "* `frame.f_lineno` – the current line\n",
    "* `frame.f_locals` – the current variables (as a Python dictionary)\n",
    "* `frame.f_code` – the current code (as a Code object), with attributes such as\n",
    "    * `frame.f_code.co_name` – the name of the current function"
   ]
  },
  {
   "cell_type": "markdown",
   "metadata": {
    "slideshow": {
     "slide_type": "fragment"
    }
   },
   "source": [
    "We can thus get a *trace* of the program by simply printing out these values:"
   ]
  },
  {
   "cell_type": "code",
   "execution_count": 8,
   "metadata": {
    "execution": {
     "iopub.execute_input": "2023-01-07T16:02:13.590706Z",
     "iopub.status.busy": "2023-01-07T16:02:13.590395Z",
     "iopub.status.idle": "2023-01-07T16:02:13.591725Z",
     "shell.execute_reply": "2023-01-07T16:02:13.591899Z"
    },
    "slideshow": {
     "slide_type": "fragment"
    }
   },
   "outputs": [],
   "source": [
    "def traceit(frame: FrameType, event: str, arg: Any) -> Optional[Callable]:  # type: ignore\n",
    "    print(event, frame.f_lineno, frame.f_code.co_name, frame.f_locals)"
   ]
  },
  {
   "cell_type": "markdown",
   "metadata": {
    "slideshow": {
     "slide_type": "subslide"
    }
   },
   "source": [
    "The return value of the trace function is the function to be executed at the next event – typically, this is the function itself:"
   ]
  },
  {
   "cell_type": "code",
   "execution_count": 9,
   "metadata": {
    "execution": {
     "iopub.execute_input": "2023-01-07T16:02:13.594210Z",
     "iopub.status.busy": "2023-01-07T16:02:13.593798Z",
     "iopub.status.idle": "2023-01-07T16:02:13.595234Z",
     "shell.execute_reply": "2023-01-07T16:02:13.595437Z"
    },
    "slideshow": {
     "slide_type": "fragment"
    }
   },
   "outputs": [],
   "source": [
    "def traceit(frame: FrameType, event: str, arg: Any) -> Optional[Callable]:  # type: ignore\n",
    "    print(event, frame.f_lineno, frame.f_code.co_name, frame.f_locals)\n",
    "    return traceit"
   ]
  },
  {
   "cell_type": "markdown",
   "metadata": {
    "slideshow": {
     "slide_type": "fragment"
    }
   },
   "source": [
    "Let us try this out on the `remove_html_markup()` function introduced in the [Introduction to Debugging](Intro_Debugging.ipynb):"
   ]
  },
  {
   "cell_type": "code",
   "execution_count": 10,
   "metadata": {
    "execution": {
     "iopub.execute_input": "2023-01-07T16:02:13.597372Z",
     "iopub.status.busy": "2023-01-07T16:02:13.597065Z",
     "iopub.status.idle": "2023-01-07T16:02:13.598336Z",
     "shell.execute_reply": "2023-01-07T16:02:13.598508Z"
    },
    "slideshow": {
     "slide_type": "skip"
    }
   },
   "outputs": [],
   "source": [
    "from Intro_Debugging import remove_html_markup"
   ]
  },
  {
   "cell_type": "code",
   "execution_count": 11,
   "metadata": {
    "execution": {
     "iopub.execute_input": "2023-01-07T16:02:13.600097Z",
     "iopub.status.busy": "2023-01-07T16:02:13.599786Z",
     "iopub.status.idle": "2023-01-07T16:02:13.601153Z",
     "shell.execute_reply": "2023-01-07T16:02:13.601356Z"
    },
    "slideshow": {
     "slide_type": "skip"
    }
   },
   "outputs": [],
   "source": [
    "import inspect"
   ]
  },
  {
   "cell_type": "code",
   "execution_count": 12,
   "metadata": {
    "execution": {
     "iopub.execute_input": "2023-01-07T16:02:13.603081Z",
     "iopub.status.busy": "2023-01-07T16:02:13.602726Z",
     "iopub.status.idle": "2023-01-07T16:02:13.603931Z",
     "shell.execute_reply": "2023-01-07T16:02:13.604168Z"
    },
    "slideshow": {
     "slide_type": "skip"
    }
   },
   "outputs": [],
   "source": [
    "from bookutils import print_content"
   ]
  },
  {
   "cell_type": "code",
   "execution_count": 13,
   "metadata": {
    "execution": {
     "iopub.execute_input": "2023-01-07T16:02:13.628977Z",
     "iopub.status.busy": "2023-01-07T16:02:13.628651Z",
     "iopub.status.idle": "2023-01-07T16:02:13.676277Z",
     "shell.execute_reply": "2023-01-07T16:02:13.676488Z"
    },
    "slideshow": {
     "slide_type": "subslide"
    }
   },
   "outputs": [
    {
     "name": "stdout",
     "output_type": "stream",
     "text": [
      "238  \u001b[34mdef\u001b[39;49;00m \u001b[32mremove_html_markup\u001b[39;49;00m(s):  \u001b[37m# type: ignore\u001b[39;49;00m\u001b[37m\u001b[39;49;00m\n",
      "239      tag = \u001b[34mFalse\u001b[39;49;00m\u001b[37m\u001b[39;49;00m\n",
      "240      quote = \u001b[34mFalse\u001b[39;49;00m\u001b[37m\u001b[39;49;00m\n",
      "241      out = \u001b[33m\"\u001b[39;49;00m\u001b[33m\"\u001b[39;49;00m\u001b[37m\u001b[39;49;00m\n",
      "242  \u001b[37m\u001b[39;49;00m\n",
      "243      \u001b[34mfor\u001b[39;49;00m c \u001b[35min\u001b[39;49;00m s:\u001b[37m\u001b[39;49;00m\n",
      "244          \u001b[34massert\u001b[39;49;00m tag \u001b[35mor\u001b[39;49;00m \u001b[35mnot\u001b[39;49;00m quote\u001b[37m\u001b[39;49;00m\n",
      "245  \u001b[37m\u001b[39;49;00m\n",
      "246          \u001b[34mif\u001b[39;49;00m c == \u001b[33m'\u001b[39;49;00m\u001b[33m<\u001b[39;49;00m\u001b[33m'\u001b[39;49;00m \u001b[35mand\u001b[39;49;00m \u001b[35mnot\u001b[39;49;00m quote:\u001b[37m\u001b[39;49;00m\n",
      "247              tag = \u001b[34mTrue\u001b[39;49;00m\u001b[37m\u001b[39;49;00m\n",
      "248          \u001b[34melif\u001b[39;49;00m c == \u001b[33m'\u001b[39;49;00m\u001b[33m>\u001b[39;49;00m\u001b[33m'\u001b[39;49;00m \u001b[35mand\u001b[39;49;00m \u001b[35mnot\u001b[39;49;00m quote:\u001b[37m\u001b[39;49;00m\n",
      "249              tag = \u001b[34mFalse\u001b[39;49;00m\u001b[37m\u001b[39;49;00m\n",
      "250          \u001b[34melif\u001b[39;49;00m (c == \u001b[33m'\u001b[39;49;00m\u001b[33m\"\u001b[39;49;00m\u001b[33m'\u001b[39;49;00m \u001b[35mor\u001b[39;49;00m c == \u001b[33m\"\u001b[39;49;00m\u001b[33m'\u001b[39;49;00m\u001b[33m\"\u001b[39;49;00m) \u001b[35mand\u001b[39;49;00m tag:\u001b[37m\u001b[39;49;00m\n",
      "251              quote = \u001b[35mnot\u001b[39;49;00m quote\u001b[37m\u001b[39;49;00m\n",
      "252          \u001b[34melif\u001b[39;49;00m \u001b[35mnot\u001b[39;49;00m tag:\u001b[37m\u001b[39;49;00m\n",
      "253              out = out + c\u001b[37m\u001b[39;49;00m\n",
      "254  \u001b[37m\u001b[39;49;00m\n",
      "255      \u001b[34mreturn\u001b[39;49;00m out\u001b[37m\u001b[39;49;00m"
     ]
    }
   ],
   "source": [
    "content, start_line_number = inspect.getsourcelines(remove_html_markup)\n",
    "print_content(content=\"\".join(content).strip(), filename='.py', start_line_number=start_line_number)"
   ]
  },
  {
   "cell_type": "markdown",
   "metadata": {
    "slideshow": {
     "slide_type": "subslide"
    }
   },
   "source": [
    "We define a variant `remove_html_markup_traced()` which turns on tracing, invokes `remove_html_markup()`, and turns tracing off again."
   ]
  },
  {
   "cell_type": "code",
   "execution_count": 14,
   "metadata": {
    "execution": {
     "iopub.execute_input": "2023-01-07T16:02:13.678463Z",
     "iopub.status.busy": "2023-01-07T16:02:13.678144Z",
     "iopub.status.idle": "2023-01-07T16:02:13.679325Z",
     "shell.execute_reply": "2023-01-07T16:02:13.679671Z"
    },
    "slideshow": {
     "slide_type": "skip"
    }
   },
   "outputs": [],
   "source": [
    "import sys"
   ]
  },
  {
   "cell_type": "code",
   "execution_count": 15,
   "metadata": {
    "execution": {
     "iopub.execute_input": "2023-01-07T16:02:13.681464Z",
     "iopub.status.busy": "2023-01-07T16:02:13.680822Z",
     "iopub.status.idle": "2023-01-07T16:02:13.683134Z",
     "shell.execute_reply": "2023-01-07T16:02:13.683405Z"
    },
    "slideshow": {
     "slide_type": "fragment"
    }
   },
   "outputs": [],
   "source": [
    "def remove_html_markup_traced(s):  # type: ignore\n",
    "    sys.settrace(traceit)\n",
    "    ret = remove_html_markup(s)\n",
    "    sys.settrace(None)\n",
    "    return ret"
   ]
  },
  {
   "cell_type": "markdown",
   "metadata": {
    "slideshow": {
     "slide_type": "fragment"
    }
   },
   "source": [
    "Here is what we get when we run `remove_html_markup_traced()`:\n",
    "* We first get a `call` event (showing the call of `remove_html_markup()`)\n",
    "* We then get various `line` events (for each line of `remove_html_markup()`)\n",
    "* In the end, we get a `return` event (showing the return from `remove_html_markup()`)"
   ]
  },
  {
   "cell_type": "code",
   "execution_count": 16,
   "metadata": {
    "execution": {
     "iopub.execute_input": "2023-01-07T16:02:13.686427Z",
     "iopub.status.busy": "2023-01-07T16:02:13.686010Z",
     "iopub.status.idle": "2023-01-07T16:02:13.688363Z",
     "shell.execute_reply": "2023-01-07T16:02:13.688603Z"
    },
    "slideshow": {
     "slide_type": "subslide"
    }
   },
   "outputs": [
    {
     "name": "stdout",
     "output_type": "stream",
     "text": [
      "call 238 remove_html_markup {'s': 'xyz'}\n",
      "line 239 remove_html_markup {'s': 'xyz'}\n",
      "line 240 remove_html_markup {'s': 'xyz', 'tag': False}\n",
      "line 241 remove_html_markup {'s': 'xyz', 'tag': False, 'quote': False}\n",
      "line 243 remove_html_markup {'s': 'xyz', 'tag': False, 'quote': False, 'out': ''}\n",
      "line 244 remove_html_markup {'s': 'xyz', 'tag': False, 'quote': False, 'out': '', 'c': 'x'}\n",
      "line 246 remove_html_markup {'s': 'xyz', 'tag': False, 'quote': False, 'out': '', 'c': 'x'}\n",
      "line 248 remove_html_markup {'s': 'xyz', 'tag': False, 'quote': False, 'out': '', 'c': 'x'}\n",
      "line 250 remove_html_markup {'s': 'xyz', 'tag': False, 'quote': False, 'out': '', 'c': 'x'}\n",
      "line 252 remove_html_markup {'s': 'xyz', 'tag': False, 'quote': False, 'out': '', 'c': 'x'}\n",
      "line 253 remove_html_markup {'s': 'xyz', 'tag': False, 'quote': False, 'out': '', 'c': 'x'}\n",
      "line 243 remove_html_markup {'s': 'xyz', 'tag': False, 'quote': False, 'out': 'x', 'c': 'x'}\n",
      "line 244 remove_html_markup {'s': 'xyz', 'tag': False, 'quote': False, 'out': 'x', 'c': 'y'}\n",
      "line 246 remove_html_markup {'s': 'xyz', 'tag': False, 'quote': False, 'out': 'x', 'c': 'y'}\n",
      "line 248 remove_html_markup {'s': 'xyz', 'tag': False, 'quote': False, 'out': 'x', 'c': 'y'}\n",
      "line 250 remove_html_markup {'s': 'xyz', 'tag': False, 'quote': False, 'out': 'x', 'c': 'y'}\n",
      "line 252 remove_html_markup {'s': 'xyz', 'tag': False, 'quote': False, 'out': 'x', 'c': 'y'}\n",
      "line 253 remove_html_markup {'s': 'xyz', 'tag': False, 'quote': False, 'out': 'x', 'c': 'y'}\n",
      "line 243 remove_html_markup {'s': 'xyz', 'tag': False, 'quote': False, 'out': 'xy', 'c': 'y'}\n",
      "line 244 remove_html_markup {'s': 'xyz', 'tag': False, 'quote': False, 'out': 'xy', 'c': 'z'}\n",
      "line 246 remove_html_markup {'s': 'xyz', 'tag': False, 'quote': False, 'out': 'xy', 'c': 'z'}\n",
      "line 248 remove_html_markup {'s': 'xyz', 'tag': False, 'quote': False, 'out': 'xy', 'c': 'z'}\n",
      "line 250 remove_html_markup {'s': 'xyz', 'tag': False, 'quote': False, 'out': 'xy', 'c': 'z'}\n",
      "line 252 remove_html_markup {'s': 'xyz', 'tag': False, 'quote': False, 'out': 'xy', 'c': 'z'}\n",
      "line 253 remove_html_markup {'s': 'xyz', 'tag': False, 'quote': False, 'out': 'xy', 'c': 'z'}\n",
      "line 243 remove_html_markup {'s': 'xyz', 'tag': False, 'quote': False, 'out': 'xyz', 'c': 'z'}\n",
      "line 255 remove_html_markup {'s': 'xyz', 'tag': False, 'quote': False, 'out': 'xyz', 'c': 'z'}\n",
      "return 255 remove_html_markup {'s': 'xyz', 'tag': False, 'quote': False, 'out': 'xyz', 'c': 'z'}\n"
     ]
    },
    {
     "data": {
      "text/plain": [
       "'xyz'"
      ]
     },
     "execution_count": 16,
     "metadata": {},
     "output_type": "execute_result"
    }
   ],
   "source": [
    "remove_html_markup_traced('xyz')"
   ]
  },
  {
   "cell_type": "markdown",
   "metadata": {
    "slideshow": {
     "slide_type": "subslide"
    }
   },
   "source": [
    "During the execution, we also see all local _variables_. As `remove_html_markup()` is called at the very beginning, the parameter `s` holds the argument `\"xyz\"`. As more local variables are being assigned, these show up in our dictionary of local variables."
   ]
  },
  {
   "cell_type": "markdown",
   "metadata": {
    "slideshow": {
     "slide_type": "fragment"
    }
   },
   "source": [
    "We see how the variable `c` takes one character of the input string at a time; the `out` variable accumulates them.  and the `tag` and `quote` flags stay unchanged throughout the execution."
   ]
  },
  {
   "cell_type": "markdown",
   "metadata": {
    "slideshow": {
     "slide_type": "fragment"
    }
   },
   "source": [
    "An interesting aspect is that we can actually _access_ all these local variables as regular Python objects. We can, for instance, separately access the value of `c` by looking up `frame.f_locals['c']`:"
   ]
  },
  {
   "cell_type": "code",
   "execution_count": 17,
   "metadata": {
    "execution": {
     "iopub.execute_input": "2023-01-07T16:02:13.691450Z",
     "iopub.status.busy": "2023-01-07T16:02:13.691083Z",
     "iopub.status.idle": "2023-01-07T16:02:13.692441Z",
     "shell.execute_reply": "2023-01-07T16:02:13.692711Z"
    },
    "slideshow": {
     "slide_type": "subslide"
    }
   },
   "outputs": [],
   "source": [
    "def traceit(frame: FrameType, event: str, arg: Any) -> Optional[Callable]:  # type: ignore\n",
    "    if 'c' in frame.f_locals:\n",
    "        value_of_c = frame.f_locals['c']\n",
    "        print(f\"{frame.f_lineno:} c = {repr(value_of_c)}\")\n",
    "    else:\n",
    "        print(f\"{frame.f_lineno:} c is undefined\")\n",
    "\n",
    "    return traceit"
   ]
  },
  {
   "cell_type": "markdown",
   "metadata": {
    "slideshow": {
     "slide_type": "fragment"
    }
   },
   "source": [
    "This allows us to specifically monitor individual variables:"
   ]
  },
  {
   "cell_type": "code",
   "execution_count": 18,
   "metadata": {
    "execution": {
     "iopub.execute_input": "2023-01-07T16:02:13.695289Z",
     "iopub.status.busy": "2023-01-07T16:02:13.694865Z",
     "iopub.status.idle": "2023-01-07T16:02:13.696878Z",
     "shell.execute_reply": "2023-01-07T16:02:13.697133Z"
    },
    "slideshow": {
     "slide_type": "subslide"
    }
   },
   "outputs": [
    {
     "name": "stdout",
     "output_type": "stream",
     "text": [
      "238 c is undefined\n",
      "239 c is undefined\n",
      "240 c is undefined\n",
      "241 c is undefined\n",
      "243 c is undefined\n",
      "244 c = 'x'\n",
      "246 c = 'x'\n",
      "248 c = 'x'\n",
      "250 c = 'x'\n",
      "252 c = 'x'\n",
      "253 c = 'x'\n",
      "243 c = 'x'\n",
      "244 c = 'y'\n",
      "246 c = 'y'\n",
      "248 c = 'y'\n",
      "250 c = 'y'\n",
      "252 c = 'y'\n",
      "253 c = 'y'\n",
      "243 c = 'y'\n",
      "244 c = 'z'\n",
      "246 c = 'z'\n",
      "248 c = 'z'\n",
      "250 c = 'z'\n",
      "252 c = 'z'\n",
      "253 c = 'z'\n",
      "243 c = 'z'\n",
      "255 c = 'z'\n",
      "255 c = 'z'\n"
     ]
    },
    {
     "data": {
      "text/plain": [
       "'xyz'"
      ]
     },
     "execution_count": 18,
     "metadata": {},
     "output_type": "execute_result"
    }
   ],
   "source": [
    "remove_html_markup_traced('xyz')"
   ]
  },
  {
   "cell_type": "markdown",
   "metadata": {
    "slideshow": {
     "slide_type": "subslide"
    }
   },
   "source": [
    "This tracing capability is tremendously powerful – actually, it is one of the reasons this book uses Python all over the place. In most other languages, inspecting the program state during execution is much more complex than the handful of lines we have needed so far."
   ]
  },
  {
   "cell_type": "markdown",
   "metadata": {
    "slideshow": {
     "slide_type": "fragment"
    }
   },
   "source": [
    "To learn more about `sys.settrace()`, spend a moment to look up [its documentation in the Python reference](https://docs.python.org/3/library/sys.html)."
   ]
  },
  {
   "cell_type": "code",
   "execution_count": 19,
   "metadata": {
    "execution": {
     "iopub.execute_input": "2023-01-07T16:02:13.698951Z",
     "iopub.status.busy": "2023-01-07T16:02:13.698659Z",
     "iopub.status.idle": "2023-01-07T16:02:13.699873Z",
     "shell.execute_reply": "2023-01-07T16:02:13.700061Z"
    },
    "slideshow": {
     "slide_type": "fragment"
    }
   },
   "outputs": [],
   "source": [
    "# ignore\n",
    "import math"
   ]
  },
  {
   "cell_type": "code",
   "execution_count": 20,
   "metadata": {
    "execution": {
     "iopub.execute_input": "2023-01-07T16:02:13.704927Z",
     "iopub.status.busy": "2023-01-07T16:02:13.704540Z",
     "iopub.status.idle": "2023-01-07T16:02:13.706411Z",
     "shell.execute_reply": "2023-01-07T16:02:13.706605Z"
    },
    "slideshow": {
     "slide_type": "subslide"
    }
   },
   "outputs": [
    {
     "data": {
      "text/html": [
       "\n",
       "    \n",
       "    <script>\n",
       "    var bad_answers = new Map();\n",
       "\n",
       "    function answer(quiz_id) {\n",
       "        ans = 0;\n",
       "        for (i = 1;; i++) {\n",
       "            checkbox = document.getElementById(quiz_id + \"-\" + i.toString());\n",
       "            if (!checkbox)\n",
       "                break;\n",
       "            if (checkbox.checked)\n",
       "                ans |= (1 << i);\n",
       "        }\n",
       "        return ans;\n",
       "    }\n",
       "    function check_selection(quiz_id, correct_answer, multiple_choice, hint) {\n",
       "        given_answer = answer(quiz_id);\n",
       "        if (given_answer == correct_answer)\n",
       "        {\n",
       "            document.getElementById(quiz_id + \"-submit\").value = \"Correct!\";\n",
       "            document.getElementById(quiz_id + \"-hint\").innerHTML = \"\";\n",
       "\n",
       "            for (i = 1;; i++) {\n",
       "                checkbox = document.getElementById(quiz_id + \"-\" + i.toString());\n",
       "                label = document.getElementById(quiz_id + \"-\" + i.toString() + \"-label\")\n",
       "                if (!checkbox)\n",
       "                    break;\n",
       "    \n",
       "                if (checkbox.checked) {\n",
       "                    label.style.fontWeight = \"bold\";\n",
       "                }\n",
       "                else {\n",
       "                    label.style.textDecoration = \"line-through\";\n",
       "                }\n",
       "            }\n",
       "        }\n",
       "        else \n",
       "        {\n",
       "            document.getElementById(quiz_id + \"-submit\").value = \"Try again\";\n",
       "            \n",
       "            if (!bad_answers.has(quiz_id)) {\n",
       "                bad_answers.set(quiz_id, 1);\n",
       "            }\n",
       "            else {\n",
       "                bad_answers.set(quiz_id, bad_answers.get(quiz_id) + 1);\n",
       "            }\n",
       "\n",
       "            if (bad_answers.get(quiz_id) >= 2 && hint.length > 0) {\n",
       "                document.getElementById(quiz_id + \"-hint\").innerHTML = \n",
       "                    \"&nbsp;&nbsp;(Hint: <code>\" + hint + \"</code>)\";\n",
       "            }\n",
       "\n",
       "            if (!multiple_choice) {\n",
       "                for (i = 1;; i++) {\n",
       "                    checkbox = document.getElementById(quiz_id + \"-\" + i.toString());\n",
       "                    label = document.getElementById(quiz_id + \"-\" + i.toString() + \"-label\")\n",
       "\n",
       "                    if (!checkbox)\n",
       "                        break;\n",
       "                    if (checkbox.checked) {\n",
       "                        label.style.textDecoration = \"line-through\";\n",
       "                    }\n",
       "                }\n",
       "            }\n",
       "        }\n",
       "    }\n",
       "    function clear_selection(quiz_id) {\n",
       "        document.getElementById(quiz_id + \"-submit\").value = \"Submit\";\n",
       "        document.getElementById(quiz_id + \"-hint\").innerHTML = \"\";\n",
       "    }\n",
       "    </script>\n",
       "    \n",
       "    <div class=\"quiz\">\n",
       "    <h3 class=\"quiz_title\">Quiz</h3>\n",
       "    <p>\n",
       "    <div class=\"quiz_question\">What happens if the tracing function returns <code>None</code> while tracing function <code>f()</code>? (You can also try this out yourself.)</div>\n",
       "    </p>\n",
       "    <p>\n",
       "    <div class=\"quiz_options\" title=\"Pick a choice.\">\n",
       "    \n",
       "        <input type=\"radio\" name=\"a677f754-8ea4-11ed-bc8b-6298cf1a5790\" id=\"a677f754-8ea4-11ed-bc8b-6298cf1a5790-1\" onclick=\"clear_selection('a677f754-8ea4-11ed-bc8b-6298cf1a5790')\">\n",
       "        <label id=\"a677f754-8ea4-11ed-bc8b-6298cf1a5790-1-label\" for=\"a677f754-8ea4-11ed-bc8b-6298cf1a5790-1\">Tracing stops for all functions; the tracing function is no longer called</label><br>\n",
       "    \n",
       "        <input type=\"radio\" name=\"a677f754-8ea4-11ed-bc8b-6298cf1a5790\" id=\"a677f754-8ea4-11ed-bc8b-6298cf1a5790-2\" onclick=\"clear_selection('a677f754-8ea4-11ed-bc8b-6298cf1a5790')\">\n",
       "        <label id=\"a677f754-8ea4-11ed-bc8b-6298cf1a5790-2-label\" for=\"a677f754-8ea4-11ed-bc8b-6298cf1a5790-2\">Tracing stops for <code>f()</code>: the tracing function is called when <code>f()</code> returns</label><br>\n",
       "    \n",
       "        <input type=\"radio\" name=\"a677f754-8ea4-11ed-bc8b-6298cf1a5790\" id=\"a677f754-8ea4-11ed-bc8b-6298cf1a5790-3\" onclick=\"clear_selection('a677f754-8ea4-11ed-bc8b-6298cf1a5790')\">\n",
       "        <label id=\"a677f754-8ea4-11ed-bc8b-6298cf1a5790-3-label\" for=\"a677f754-8ea4-11ed-bc8b-6298cf1a5790-3\">Tracing stops for <code>f()</code> the rest of the execution: the tracing function is no longer called for calls to <code>f()</code></label><br>\n",
       "    \n",
       "        <input type=\"radio\" name=\"a677f754-8ea4-11ed-bc8b-6298cf1a5790\" id=\"a677f754-8ea4-11ed-bc8b-6298cf1a5790-4\" onclick=\"clear_selection('a677f754-8ea4-11ed-bc8b-6298cf1a5790')\">\n",
       "        <label id=\"a677f754-8ea4-11ed-bc8b-6298cf1a5790-4-label\" for=\"a677f754-8ea4-11ed-bc8b-6298cf1a5790-4\">Nothing changes</label><br>\n",
       "    \n",
       "    </div>\n",
       "    </p>\n",
       "    <input id=\"a677f754-8ea4-11ed-bc8b-6298cf1a5790-submit\" type=\"submit\" value=\"Submit\" onclick=\"check_selection('a677f754-8ea4-11ed-bc8b-6298cf1a5790', 4, 0, 'int(math.log(7.38905609893065))')\">\n",
       "    <span class=\"quiz_hint\" id=\"a677f754-8ea4-11ed-bc8b-6298cf1a5790-hint\"></span>\n",
       "    </div>\n",
       "    "
      ],
      "text/plain": [
       "<IPython.core.display.HTML object>"
      ]
     },
     "execution_count": 20,
     "metadata": {},
     "output_type": "execute_result"
    }
   ],
   "source": [
    "quiz(\"What happens if the tracing function returns `None` while tracing function `f()`?\"\n",
    "     \" (You can also try this out yourself.)\",\n",
    "     [\n",
    "         'Tracing stops for all functions;'\n",
    "         ' the tracing function is no longer called',\n",
    "         'Tracing stops for `f()`: the tracing function is called when `f()` returns',\n",
    "         'Tracing stops for `f()` the rest of the execution: the tracing function'\n",
    "         ' is no longer called for calls to `f()`',\n",
    "         'Nothing changes'\n",
    "     ], \"int(math.log(7.38905609893065))\", globals())"
   ]
  },
  {
   "cell_type": "markdown",
   "metadata": {
    "slideshow": {
     "slide_type": "fragment"
    }
   },
   "source": [
    "Indeed, as listed in the documentation: if `sys.settrace()` returns `None`, then tracing stops for the current scope; tracing will resume when the current function returns. This can be helpful for momentarily disable (expensive) tracing."
   ]
  },
  {
   "cell_type": "markdown",
   "metadata": {
    "slideshow": {
     "slide_type": "slide"
    }
   },
   "source": [
    "## A Tracer Class"
   ]
  },
  {
   "cell_type": "markdown",
   "metadata": {
    "slideshow": {
     "slide_type": "fragment"
    }
   },
   "source": [
    "Let us refine our tracing function a bit. First, it would be nice if one could actually _customize_ tracing just as needed. To this end, we introduce a `Tracer` class that does all the formatting for us, and which can be _subclassed_ to allow for different output formats."
   ]
  },
  {
   "cell_type": "markdown",
   "metadata": {
    "slideshow": {
     "slide_type": "fragment"
    }
   },
   "source": [
    "The `traceit()` method in `Tracer` is the same as above, and again is set up via `sys.settrace()`. It uses a `log()` method after the Python `print()` function."
   ]
  },
  {
   "cell_type": "markdown",
   "metadata": {
    "slideshow": {
     "slide_type": "subslide"
    }
   },
   "source": [
    "The typical usage of `Tracer`, however, is as follows:\n",
    "\n",
    "```python\n",
    "with Tracer():\n",
    "    # Code to be traced\n",
    "    ...\n",
    "\n",
    "# Code no longer traced\n",
    "...\n",
    "```\n",
    "\n",
    "When the `with` statement is encountered, the `__enter__()` method is called, which starts tracing. When the `with` block ends, the `__exit__()` method is called, and tracing is turned off. We take special care that the internal `__exit__()` method is not part of the trace, and that any other tracing function that was active before is being restored."
   ]
  },
  {
   "cell_type": "markdown",
   "metadata": {
    "slideshow": {
     "slide_type": "subslide"
    }
   },
   "source": [
    "We build `Tracer` on top of a class named `StackInspector`, whose `our_frame()` and `is_internal_error()` methods us with providing better diagnostics in case of error."
   ]
  },
  {
   "cell_type": "code",
   "execution_count": 21,
   "metadata": {
    "execution": {
     "iopub.execute_input": "2023-01-07T16:02:13.709040Z",
     "iopub.status.busy": "2023-01-07T16:02:13.708697Z",
     "iopub.status.idle": "2023-01-07T16:02:13.730234Z",
     "shell.execute_reply": "2023-01-07T16:02:13.730454Z"
    },
    "slideshow": {
     "slide_type": "skip"
    }
   },
   "outputs": [],
   "source": [
    "from StackInspector import StackInspector"
   ]
  },
  {
   "cell_type": "code",
   "execution_count": 22,
   "metadata": {
    "execution": {
     "iopub.execute_input": "2023-01-07T16:02:13.734786Z",
     "iopub.status.busy": "2023-01-07T16:02:13.734469Z",
     "iopub.status.idle": "2023-01-07T16:02:13.735693Z",
     "shell.execute_reply": "2023-01-07T16:02:13.735940Z"
    },
    "slideshow": {
     "slide_type": "subslide"
    }
   },
   "outputs": [],
   "source": [
    "class Tracer(StackInspector):\n",
    "    \"\"\"A class for tracing a piece of code. Use as `with Tracer(): block()`\"\"\"\n",
    "\n",
    "    def __init__(self, *, file: TextIO = sys.stdout) -> None:\n",
    "        \"\"\"Trace a block of code, sending logs to `file` (default: stdout)\"\"\"\n",
    "        self.original_trace_function: Optional[Callable] = None\n",
    "        self.file = file\n",
    "\n",
    "    def traceit(self, frame: FrameType, event: str, arg: Any) -> None:\n",
    "        \"\"\"Tracing function. To be overridden in subclasses.\"\"\"\n",
    "        self.log(event, frame.f_lineno, frame.f_code.co_name, frame.f_locals)\n",
    "\n",
    "    def _traceit(self, frame: FrameType, event: str, arg: Any) -> Optional[Callable]:\n",
    "        \"\"\"Internal tracing function.\"\"\"\n",
    "        if self.our_frame(frame):\n",
    "            # Do not trace our own methods\n",
    "            pass\n",
    "        else:\n",
    "            self.traceit(frame, event, arg)\n",
    "        return self._traceit\n",
    "\n",
    "    def log(self, *objects: Any, \n",
    "            sep: str = ' ', end: str = '\\n', \n",
    "            flush: bool = True) -> None:\n",
    "        \"\"\"\n",
    "        Like `print()`, but always sending to `file` given at initialization,\n",
    "        and flushing by default.\n",
    "        \"\"\"\n",
    "        print(*objects, sep=sep, end=end, file=self.file, flush=flush)\n",
    "\n",
    "    def __enter__(self) -> Any:\n",
    "        \"\"\"Called at begin of `with` block. Turn tracing on.\"\"\"\n",
    "        self.original_trace_function = sys.gettrace()\n",
    "        sys.settrace(self._traceit)\n",
    "\n",
    "        # This extra line also enables tracing for the current block\n",
    "        # inspect.currentframe().f_back.f_trace = self._traceit\n",
    "        return self\n",
    "\n",
    "    def __exit__(self, exc_tp: Type, exc_value: BaseException, \n",
    "                 exc_traceback: TracebackType) -> Optional[bool]:\n",
    "        \"\"\"\n",
    "        Called at end of `with` block. Turn tracing off.\n",
    "        Return `None` if ok, not `None` if internal error.\n",
    "        \"\"\"\n",
    "        sys.settrace(self.original_trace_function)\n",
    "\n",
    "        # Note: we must return a non-True value here,\n",
    "        # such that we re-raise all exceptions\n",
    "        if self.is_internal_error(exc_tp, exc_value, exc_traceback):\n",
    "            return False  # internal error\n",
    "        else:\n",
    "            return None  # all ok"
   ]
  },
  {
   "cell_type": "markdown",
   "metadata": {
    "slideshow": {
     "slide_type": "subslide"
    }
   },
   "source": [
    "Here's how we use the `Tracer` class. You see that everything works as before, except that it is nicer to use:"
   ]
  },
  {
   "cell_type": "code",
   "execution_count": 23,
   "metadata": {
    "execution": {
     "iopub.execute_input": "2023-01-07T16:02:13.738399Z",
     "iopub.status.busy": "2023-01-07T16:02:13.737943Z",
     "iopub.status.idle": "2023-01-07T16:02:13.752154Z",
     "shell.execute_reply": "2023-01-07T16:02:13.747143Z"
    },
    "slideshow": {
     "slide_type": "subslide"
    }
   },
   "outputs": [
    {
     "name": "stdout",
     "output_type": "stream",
     "text": [
      "call 238 remove_html_markup {'s': 'abc'}\n",
      "line 239 remove_html_markup {'s': 'abc'}\n",
      "line 240 remove_html_markup {'s': 'abc', 'tag': False}\n",
      "line 241 remove_html_markup {'s': 'abc', 'tag': False, 'quote': False}\n",
      "line 243 remove_html_markup {'s': 'abc', 'tag': False, 'quote': False, 'out': ''}\n",
      "line 244 remove_html_markup {'s': 'abc', 'tag': False, 'quote': False, 'out': '', 'c': 'a'}\n",
      "line 246 remove_html_markup {'s': 'abc', 'tag': False, 'quote': False, 'out': '', 'c': 'a'}\n",
      "line 248 remove_html_markup {'s': 'abc', 'tag': False, 'quote': False, 'out': '', 'c': 'a'}\n",
      "line 250 remove_html_markup {'s': 'abc', 'tag': False, 'quote': False, 'out': '', 'c': 'a'}\n",
      "line 252 remove_html_markup {'s': 'abc', 'tag': False, 'quote': False, 'out': '', 'c': 'a'}\n",
      "line 253 remove_html_markup {'s': 'abc', 'tag': False, 'quote': False, 'out': '', 'c': 'a'}\n",
      "line 243 remove_html_markup {'s': 'abc', 'tag': False, 'quote': False, 'out': 'a', 'c': 'a'}\n",
      "line 244 remove_html_markup {'s': 'abc', 'tag': False, 'quote': False, 'out': 'a', 'c': 'b'}\n",
      "line 246 remove_html_markup {'s': 'abc', 'tag': False, 'quote': False, 'out': 'a', 'c': 'b'}\n",
      "line 248 remove_html_markup {'s': 'abc', 'tag': False, 'quote': False, 'out': 'a', 'c': 'b'}\n",
      "line 250 remove_html_markup {'s': 'abc', 'tag': False, 'quote': False, 'out': 'a', 'c': 'b'}\n",
      "line 252 remove_html_markup {'s': 'abc', 'tag': False, 'quote': False, 'out': 'a', 'c': 'b'}\n",
      "line 253 remove_html_markup {'s': 'abc', 'tag': False, 'quote': False, 'out': 'a', 'c': 'b'}\n",
      "line 243 remove_html_markup {'s': 'abc', 'tag': False, 'quote': False, 'out': 'ab', 'c': 'b'}\n",
      "line 244 remove_html_markup {'s': 'abc', 'tag': False, 'quote': False, 'out': 'ab', 'c': 'c'}\n",
      "line 246 remove_html_markup {'s': 'abc', 'tag': False, 'quote': False, 'out': 'ab', 'c': 'c'}\n",
      "line 248 remove_html_markup {'s': 'abc', 'tag': False, 'quote': False, 'out': 'ab', 'c': 'c'}\n",
      "line 250 remove_html_markup {'s': 'abc', 'tag': False, 'quote': False, 'out': 'ab', 'c': 'c'}\n",
      "line 252 remove_html_markup {'s': 'abc', 'tag': False, 'quote': False, 'out': 'ab', 'c': 'c'}\n",
      "line 253 remove_html_markup {'s': 'abc', 'tag': False, 'quote': False, 'out': 'ab', 'c': 'c'}\n",
      "line 243 remove_html_markup {'s': 'abc', 'tag': False, 'quote': False, 'out': 'abc', 'c': 'c'}\n",
      "line 255 remove_html_markup {'s': 'abc', 'tag': False, 'quote': False, 'out': 'abc', 'c': 'c'}\n",
      "return 255 remove_html_markup {'s': 'abc', 'tag': False, 'quote': False, 'out': 'abc', 'c': 'c'}\n"
     ]
    }
   ],
   "source": [
    "with Tracer():\n",
    "    remove_html_markup(\"abc\")"
   ]
  },
  {
   "cell_type": "markdown",
   "metadata": {
    "slideshow": {
     "slide_type": "slide"
    }
   },
   "source": [
    "## Accessing Source Code\n",
    "\n",
    "We can now go and _extend_ the class with additional features. It would be nice if it could actually display the source code of the function being tracked, such that we know where we are. In Python, the function `inspect.getsource()` returns the source code of a function or module. Looking up\n",
    "\n",
    "```python\n",
    "module = inspect.getmodule(frame.f_code)\n",
    "```\n",
    "\n",
    "gives us the current module, and\n",
    "\n",
    "```python\n",
    "inspect.getsource(module)\n",
    "```\n",
    "\n",
    "gives us its source code. All we then have to do is to retrieve the current line."
   ]
  },
  {
   "cell_type": "markdown",
   "metadata": {
    "slideshow": {
     "slide_type": "subslide"
    }
   },
   "source": [
    "To implement our extended `traceit()` method, we use a bit of a hack. The Python language requires us to define an entire class with all methods as a single, continuous unit; however, we would like to introduce one method after another.  To avoid this problem, we use a special hack: Whenever we want to introduce a new method to some class `C`, we use the construct\n",
    "\n",
    "```python\n",
    "class C(C):\n",
    "    def new_method(self, args):\n",
    "        pass\n",
    "```\n",
    "\n",
    "This seems to define `C` as a subclass of itself, which would make no sense – but actually, it introduces a new `C` class as a subclass of the _old_ `C` class, and then shadowing the old `C` definition.  What this gets us is a `C` class with `new_method()` as a method, which is just what we want.  (`C` objects defined earlier will retain the earlier `C` definition, though, and thus must be rebuilt.)"
   ]
  },
  {
   "cell_type": "markdown",
   "metadata": {
    "slideshow": {
     "slide_type": "subslide"
    }
   },
   "source": [
    "Using this hack, we can now redefine the `traceit()` method. Our new tracer shows the current line as it is executed."
   ]
  },
  {
   "cell_type": "code",
   "execution_count": 24,
   "metadata": {
    "execution": {
     "iopub.execute_input": "2023-01-07T16:02:13.754536Z",
     "iopub.status.busy": "2023-01-07T16:02:13.754209Z",
     "iopub.status.idle": "2023-01-07T16:02:13.755471Z",
     "shell.execute_reply": "2023-01-07T16:02:13.755669Z"
    },
    "slideshow": {
     "slide_type": "skip"
    }
   },
   "outputs": [],
   "source": [
    "import inspect"
   ]
  },
  {
   "cell_type": "code",
   "execution_count": 25,
   "metadata": {
    "execution": {
     "iopub.execute_input": "2023-01-07T16:02:13.758373Z",
     "iopub.status.busy": "2023-01-07T16:02:13.758025Z",
     "iopub.status.idle": "2023-01-07T16:02:13.759570Z",
     "shell.execute_reply": "2023-01-07T16:02:13.759791Z"
    },
    "slideshow": {
     "slide_type": "fragment"
    }
   },
   "outputs": [],
   "source": [
    "class Tracer(Tracer):\n",
    "    def traceit(self, frame: FrameType, event: str, arg: Any) -> None:\n",
    "        \"\"\"Tracing function; called at every line. To be overloaded in subclasses.\"\"\"\n",
    "\n",
    "        if event == 'line':\n",
    "            module = inspect.getmodule(frame.f_code)\n",
    "            if module is None:\n",
    "                source = inspect.getsource(frame.f_code)\n",
    "            else:\n",
    "                source = inspect.getsource(module)\n",
    "            current_line = source.split('\\n')[frame.f_lineno - 1]\n",
    "            self.log(frame.f_lineno, current_line)"
   ]
  },
  {
   "cell_type": "code",
   "execution_count": 26,
   "metadata": {
    "execution": {
     "iopub.execute_input": "2023-01-07T16:02:13.762070Z",
     "iopub.status.busy": "2023-01-07T16:02:13.761695Z",
     "iopub.status.idle": "2023-01-07T16:02:13.846928Z",
     "shell.execute_reply": "2023-01-07T16:02:13.844056Z"
    },
    "slideshow": {
     "slide_type": "subslide"
    }
   },
   "outputs": [
    {
     "name": "stdout",
     "output_type": "stream",
     "text": [
      "239     tag = False\n",
      "240     quote = False\n",
      "241     out = \"\"\n",
      "243     for c in s:\n",
      "244         assert tag or not quote\n",
      "246         if c == '<' and not quote:\n",
      "248         elif c == '>' and not quote:\n",
      "250         elif (c == '\"' or c == \"'\") and tag:\n",
      "252         elif not tag:\n",
      "253             out = out + c\n",
      "243     for c in s:\n",
      "244         assert tag or not quote\n",
      "246         if c == '<' and not quote:\n",
      "248         elif c == '>' and not quote:\n",
      "250         elif (c == '\"' or c == \"'\") and tag:\n",
      "252         elif not tag:\n",
      "253             out = out + c\n",
      "243     for c in s:\n",
      "244         assert tag or not quote\n",
      "246         if c == '<' and not quote:\n",
      "248         elif c == '>' and not quote:\n",
      "250         elif (c == '\"' or c == \"'\") and tag:\n",
      "252         elif not tag:\n",
      "253             out = out + c\n",
      "243     for c in s:\n",
      "255     return out\n"
     ]
    }
   ],
   "source": [
    "with Tracer():\n",
    "    remove_html_markup(\"abc\")"
   ]
  },
  {
   "cell_type": "markdown",
   "metadata": {
    "slideshow": {
     "slide_type": "slide"
    }
   },
   "source": [
    "## Tracing Calls and Returns\n",
    "\n",
    "Next, we'd like to report calling and returning from functions. For the `return` event, `arg` holds the value being returned."
   ]
  },
  {
   "cell_type": "code",
   "execution_count": 27,
   "metadata": {
    "execution": {
     "iopub.execute_input": "2023-01-07T16:02:13.850161Z",
     "iopub.status.busy": "2023-01-07T16:02:13.849814Z",
     "iopub.status.idle": "2023-01-07T16:02:13.851070Z",
     "shell.execute_reply": "2023-01-07T16:02:13.851374Z"
    },
    "slideshow": {
     "slide_type": "subslide"
    }
   },
   "outputs": [],
   "source": [
    "class Tracer(Tracer):\n",
    "    def traceit(self, frame: FrameType, event: str, arg: Any) -> None:\n",
    "        \"\"\"Tracing function. To be overridden in subclasses.\"\"\"\n",
    "\n",
    "        if event == 'call':\n",
    "            self.log(f\"Calling {frame.f_code.co_name}()\")\n",
    "\n",
    "        if event == 'line':\n",
    "            module = inspect.getmodule(frame.f_code)\n",
    "            if module:\n",
    "                source = inspect.getsource(module)\n",
    "            if source:\n",
    "                current_line = source.split('\\n')[frame.f_lineno - 1]\n",
    "                self.log(frame.f_lineno, current_line)\n",
    "\n",
    "        if event == 'return':\n",
    "            self.log(f\"{frame.f_code.co_name}() returns {repr(arg)}\")"
   ]
  },
  {
   "cell_type": "code",
   "execution_count": 28,
   "metadata": {
    "execution": {
     "iopub.execute_input": "2023-01-07T16:02:13.853465Z",
     "iopub.status.busy": "2023-01-07T16:02:13.853115Z",
     "iopub.status.idle": "2023-01-07T16:02:13.865113Z",
     "shell.execute_reply": "2023-01-07T16:02:13.862112Z"
    },
    "slideshow": {
     "slide_type": "subslide"
    }
   },
   "outputs": [
    {
     "name": "stdout",
     "output_type": "stream",
     "text": [
      "Calling remove_html_markup()\n",
      "239     tag = False\n",
      "240     quote = False\n",
      "241     out = \"\"\n",
      "243     for c in s:\n",
      "244         assert tag or not quote\n",
      "246         if c == '<' and not quote:\n",
      "248         elif c == '>' and not quote:\n",
      "250         elif (c == '\"' or c == \"'\") and tag:\n",
      "252         elif not tag:\n",
      "253             out = out + c\n",
      "243     for c in s:\n",
      "244         assert tag or not quote\n",
      "246         if c == '<' and not quote:\n",
      "248         elif c == '>' and not quote:\n",
      "250         elif (c == '\"' or c == \"'\") and tag:\n",
      "252         elif not tag:\n",
      "253             out = out + c\n",
      "243     for c in s:\n",
      "244         assert tag or not quote\n",
      "246         if c == '<' and not quote:\n",
      "248         elif c == '>' and not quote:\n",
      "250         elif (c == '\"' or c == \"'\") and tag:\n",
      "252         elif not tag:\n",
      "253             out = out + c\n",
      "243     for c in s:\n",
      "255     return out\n",
      "remove_html_markup() returns 'abc'\n"
     ]
    }
   ],
   "source": [
    "with Tracer():\n",
    "    remove_html_markup(\"abc\")"
   ]
  },
  {
   "cell_type": "markdown",
   "metadata": {
    "slideshow": {
     "slide_type": "slide"
    }
   },
   "source": [
    "## Tracing Variable Changes\n",
    "\n",
    "Finally, we'd again like to report variables – but only those that have changed. To this end, we save a copy of the last reported variables in the class, reporting only the changed values."
   ]
  },
  {
   "cell_type": "code",
   "execution_count": 29,
   "metadata": {
    "execution": {
     "iopub.execute_input": "2023-01-07T16:02:13.868349Z",
     "iopub.status.busy": "2023-01-07T16:02:13.867967Z",
     "iopub.status.idle": "2023-01-07T16:02:13.869353Z",
     "shell.execute_reply": "2023-01-07T16:02:13.870573Z"
    },
    "slideshow": {
     "slide_type": "subslide"
    }
   },
   "outputs": [],
   "source": [
    "class Tracer(Tracer):\n",
    "    def __init__(self, file: TextIO = sys.stdout) -> None:\n",
    "        \"\"\"\n",
    "        Create a new tracer.\n",
    "        If `file` is given, output to `file` instead of stdout.\n",
    "        \"\"\"\n",
    "\n",
    "        self.last_vars: Dict[str, Any] = {}\n",
    "        super().__init__(file=file)\n",
    "\n",
    "    def changed_vars(self, new_vars: Dict[str, Any]) -> Dict[str, Any]:\n",
    "        \"\"\"Track changed variables, based on `new_vars` observed.\"\"\"\n",
    "        changed = {}\n",
    "        for var_name, var_value in new_vars.items():\n",
    "            if (var_name not in self.last_vars or\n",
    "                    self.last_vars[var_name] != var_value):\n",
    "                changed[var_name] = var_value\n",
    "        self.last_vars = new_vars.copy()\n",
    "        return changed"
   ]
  },
  {
   "cell_type": "markdown",
   "metadata": {
    "slideshow": {
     "slide_type": "subslide"
    }
   },
   "source": [
    "Here's how this works: If variable `a` is set to 10 (and we didn't have it so far), it is marked as changed:"
   ]
  },
  {
   "cell_type": "code",
   "execution_count": 30,
   "metadata": {
    "execution": {
     "iopub.execute_input": "2023-01-07T16:02:13.875157Z",
     "iopub.status.busy": "2023-01-07T16:02:13.874782Z",
     "iopub.status.idle": "2023-01-07T16:02:13.876066Z",
     "shell.execute_reply": "2023-01-07T16:02:13.876277Z"
    },
    "slideshow": {
     "slide_type": "fragment"
    }
   },
   "outputs": [],
   "source": [
    "tracer = Tracer()"
   ]
  },
  {
   "cell_type": "code",
   "execution_count": 31,
   "metadata": {
    "execution": {
     "iopub.execute_input": "2023-01-07T16:02:13.878437Z",
     "iopub.status.busy": "2023-01-07T16:02:13.878103Z",
     "iopub.status.idle": "2023-01-07T16:02:13.879729Z",
     "shell.execute_reply": "2023-01-07T16:02:13.879926Z"
    },
    "slideshow": {
     "slide_type": "fragment"
    }
   },
   "outputs": [
    {
     "data": {
      "text/plain": [
       "{'a': 10}"
      ]
     },
     "execution_count": 31,
     "metadata": {},
     "output_type": "execute_result"
    }
   ],
   "source": [
    "tracer.changed_vars({'a': 10})"
   ]
  },
  {
   "cell_type": "markdown",
   "metadata": {
    "slideshow": {
     "slide_type": "fragment"
    }
   },
   "source": [
    "If another variable `b` is added, and only `b` is changed, then only `b` is marked as changed:"
   ]
  },
  {
   "cell_type": "code",
   "execution_count": 32,
   "metadata": {
    "execution": {
     "iopub.execute_input": "2023-01-07T16:02:13.882147Z",
     "iopub.status.busy": "2023-01-07T16:02:13.881793Z",
     "iopub.status.idle": "2023-01-07T16:02:13.883357Z",
     "shell.execute_reply": "2023-01-07T16:02:13.883636Z"
    },
    "slideshow": {
     "slide_type": "fragment"
    }
   },
   "outputs": [
    {
     "data": {
      "text/plain": [
       "{'b': 25}"
      ]
     },
     "execution_count": 32,
     "metadata": {},
     "output_type": "execute_result"
    }
   ],
   "source": [
    "tracer.changed_vars({'a': 10, 'b': 25})"
   ]
  },
  {
   "cell_type": "markdown",
   "metadata": {
    "slideshow": {
     "slide_type": "fragment"
    }
   },
   "source": [
    "If both variables keep their values, nothing changes:"
   ]
  },
  {
   "cell_type": "code",
   "execution_count": 33,
   "metadata": {
    "execution": {
     "iopub.execute_input": "2023-01-07T16:02:13.885995Z",
     "iopub.status.busy": "2023-01-07T16:02:13.885613Z",
     "iopub.status.idle": "2023-01-07T16:02:13.887247Z",
     "shell.execute_reply": "2023-01-07T16:02:13.887763Z"
    },
    "slideshow": {
     "slide_type": "fragment"
    }
   },
   "outputs": [
    {
     "data": {
      "text/plain": [
       "{}"
      ]
     },
     "execution_count": 33,
     "metadata": {},
     "output_type": "execute_result"
    }
   ],
   "source": [
    "tracer.changed_vars({'a': 10, 'b': 25})"
   ]
  },
  {
   "cell_type": "markdown",
   "metadata": {
    "slideshow": {
     "slide_type": "fragment"
    }
   },
   "source": [
    "But if new variables come along, they are listed again."
   ]
  },
  {
   "cell_type": "code",
   "execution_count": 34,
   "metadata": {
    "execution": {
     "iopub.execute_input": "2023-01-07T16:02:13.890666Z",
     "iopub.status.busy": "2023-01-07T16:02:13.890172Z",
     "iopub.status.idle": "2023-01-07T16:02:13.891984Z",
     "shell.execute_reply": "2023-01-07T16:02:13.892244Z"
    },
    "slideshow": {
     "slide_type": "subslide"
    }
   },
   "outputs": [
    {
     "data": {
      "text/plain": [
       "{'c': 10, 'd': 25}"
      ]
     },
     "execution_count": 34,
     "metadata": {},
     "output_type": "execute_result"
    }
   ],
   "source": [
    "changes = tracer.changed_vars({'c': 10, 'd': 25})\n",
    "changes"
   ]
  },
  {
   "cell_type": "markdown",
   "metadata": {
    "slideshow": {
     "slide_type": "fragment"
    }
   },
   "source": [
    "The following expression creates a comma-separated list of variables and values:"
   ]
  },
  {
   "cell_type": "code",
   "execution_count": 35,
   "metadata": {
    "execution": {
     "iopub.execute_input": "2023-01-07T16:02:13.894807Z",
     "iopub.status.busy": "2023-01-07T16:02:13.894428Z",
     "iopub.status.idle": "2023-01-07T16:02:13.896061Z",
     "shell.execute_reply": "2023-01-07T16:02:13.896267Z"
    },
    "slideshow": {
     "slide_type": "fragment"
    }
   },
   "outputs": [
    {
     "data": {
      "text/plain": [
       "'c = 10, d = 25'"
      ]
     },
     "execution_count": 35,
     "metadata": {},
     "output_type": "execute_result"
    }
   ],
   "source": [
    "\", \".join([var + \" = \" + repr(changes[var]) for var in changes])"
   ]
  },
  {
   "cell_type": "markdown",
   "metadata": {
    "slideshow": {
     "slide_type": "fragment"
    }
   },
   "source": [
    "We can now put all of this together in our tracing function, reporting any variable changes as we see them. Note how we exploit the fact that in a call, all variables have a \"new\" value; and when we return from a function, we explicitly delete the \"last\" variables."
   ]
  },
  {
   "cell_type": "code",
   "execution_count": 36,
   "metadata": {
    "execution": {
     "iopub.execute_input": "2023-01-07T16:02:13.900292Z",
     "iopub.status.busy": "2023-01-07T16:02:13.899972Z",
     "iopub.status.idle": "2023-01-07T16:02:13.901344Z",
     "shell.execute_reply": "2023-01-07T16:02:13.901524Z"
    },
    "slideshow": {
     "slide_type": "subslide"
    }
   },
   "outputs": [],
   "source": [
    "class Tracer(Tracer):\n",
    "    def print_debugger_status(self, frame: FrameType, event: str, arg: Any) -> None:\n",
    "        \"\"\"Show current source line and changed vars\"\"\"\n",
    "        changes = self.changed_vars(frame.f_locals)\n",
    "        changes_s = \", \".join([var + \" = \" + repr(changes[var])\n",
    "                               for var in changes])\n",
    "\n",
    "        if event == 'call':\n",
    "            self.log(\"Calling \" + frame.f_code.co_name + '(' + changes_s + ')')\n",
    "        elif changes:\n",
    "            self.log(' ' * 40, '#', changes_s)\n",
    "\n",
    "        if event == 'line':\n",
    "            try:\n",
    "                module = inspect.getmodule(frame.f_code)\n",
    "                if module is None:\n",
    "                    source = inspect.getsource(frame.f_code)\n",
    "                else:\n",
    "                    source = inspect.getsource(module)\n",
    "                current_line = source.split('\\n')[frame.f_lineno - 1]\n",
    "\n",
    "            except OSError as err:\n",
    "                self.log(f\"{err.__class__.__name__}: {err}\")\n",
    "                current_line = \"\"\n",
    "\n",
    "            self.log(repr(frame.f_lineno) + ' ' + current_line)\n",
    "\n",
    "        if event == 'return':\n",
    "            self.log(frame.f_code.co_name + '()' + \" returns \" + repr(arg))\n",
    "            self.last_vars = {}  # Delete 'last' variables\n",
    "\n",
    "    def traceit(self, frame: FrameType, event: str, arg: Any) -> None:\n",
    "        \"\"\"Tracing function; called at every line. To be overloaded in subclasses.\"\"\"\n",
    "        self.print_debugger_status(frame, event, arg)"
   ]
  },
  {
   "cell_type": "markdown",
   "metadata": {
    "slideshow": {
     "slide_type": "subslide"
    }
   },
   "source": [
    "Here's the resulting trace of `remove_html_markup()` for a more complex input. You can see that the tracing output allows us to see which lines are executed as well as the variables whose value changes."
   ]
  },
  {
   "cell_type": "code",
   "execution_count": 37,
   "metadata": {
    "execution": {
     "iopub.execute_input": "2023-01-07T16:02:13.903501Z",
     "iopub.status.busy": "2023-01-07T16:02:13.903150Z",
     "iopub.status.idle": "2023-01-07T16:02:13.930027Z",
     "shell.execute_reply": "2023-01-07T16:02:13.920299Z"
    },
    "slideshow": {
     "slide_type": "subslide"
    }
   },
   "outputs": [
    {
     "name": "stdout",
     "output_type": "stream",
     "text": [
      "Calling remove_html_markup(s = '<b>x</b>')\n",
      "239     tag = False\n",
      "                                         # tag = False\n",
      "240     quote = False\n",
      "                                         # quote = False\n",
      "241     out = \"\"\n",
      "                                         # out = ''\n",
      "243     for c in s:\n",
      "                                         # c = '<'\n",
      "244         assert tag or not quote\n",
      "246         if c == '<' and not quote:\n",
      "247             tag = True\n",
      "                                         # tag = True\n",
      "243     for c in s:\n",
      "                                         # c = 'b'\n",
      "244         assert tag or not quote\n",
      "246         if c == '<' and not quote:\n",
      "248         elif c == '>' and not quote:\n",
      "250         elif (c == '\"' or c == \"'\") and tag:\n",
      "252         elif not tag:\n",
      "243     for c in s:\n",
      "                                         # c = '>'\n",
      "244         assert tag or not quote\n",
      "246         if c == '<' and not quote:\n",
      "248         elif c == '>' and not quote:\n",
      "249             tag = False\n",
      "                                         # tag = False\n",
      "243     for c in s:\n",
      "                                         # c = 'x'\n",
      "244         assert tag or not quote\n",
      "246         if c == '<' and not quote:\n",
      "248         elif c == '>' and not quote:\n",
      "250         elif (c == '\"' or c == \"'\") and tag:\n",
      "252         elif not tag:\n",
      "253             out = out + c\n",
      "                                         # out = 'x'\n",
      "243     for c in s:\n",
      "                                         # c = '<'\n",
      "244         assert tag or not quote\n",
      "246         if c == '<' and not quote:\n",
      "247             tag = True\n",
      "                                         # tag = True\n",
      "243     for c in s:\n",
      "                                         # c = '/'\n",
      "244         assert tag or not quote\n",
      "246         if c == '<' and not quote:\n",
      "248         elif c == '>' and not quote:\n",
      "250         elif (c == '\"' or c == \"'\") and tag:\n",
      "252         elif not tag:\n",
      "243     for c in s:\n",
      "                                         # c = 'b'\n",
      "244         assert tag or not quote\n",
      "246         if c == '<' and not quote:\n",
      "248         elif c == '>' and not quote:\n",
      "250         elif (c == '\"' or c == \"'\") and tag:\n",
      "252         elif not tag:\n",
      "243     for c in s:\n",
      "                                         # c = '>'\n",
      "244         assert tag or not quote\n",
      "246         if c == '<' and not quote:\n",
      "248         elif c == '>' and not quote:\n",
      "249             tag = False\n",
      "                                         # tag = False\n",
      "243     for c in s:\n",
      "255     return out\n",
      "remove_html_markup() returns 'x'\n"
     ]
    }
   ],
   "source": [
    "with Tracer():\n",
    "    remove_html_markup('<b>x</b>')"
   ]
  },
  {
   "cell_type": "markdown",
   "metadata": {
    "slideshow": {
     "slide_type": "subslide"
    }
   },
   "source": [
    "As you see, even a simple function can create a long execution log. Hence, we will now explore how to focus tracing on particular _events_."
   ]
  },
  {
   "cell_type": "markdown",
   "metadata": {
    "slideshow": {
     "slide_type": "slide"
    }
   },
   "source": [
    "## Conditional Tracing\n",
    "\n",
    "A log such as the above can very quickly become very messy – notably if executions take a long time, or if data structures become very complex. If one of our local variables were a list with 1,000 entries for instance, and were changed with each line, we'd be printing out the entire list with 1,000 entries for each step. \n",
    "\n",
    "We could still load the log into, say, a text editor or a database and then search for specific values, but this is still cumbersome – and expensive. A better alternative, however, is to have our tracer only log while specific _conditions_ hold."
   ]
  },
  {
   "cell_type": "markdown",
   "metadata": {
    "slideshow": {
     "slide_type": "subslide"
    }
   },
   "source": [
    "To this end, we introduce a class `ConditionalTracer`, which gets a _conditional expression_ to be checked during executions. Only if this condition holds do we list the current status. With\n",
    "\n",
    "```python\n",
    "with ConditionalTracer(condition='c == \"z\"'):\n",
    "    remove_html_markup(...)\n",
    "```\n",
    "\n",
    "we would obtain only the lines executed while `c` gets a value of `'z'`, and with\n",
    "\n",
    "```python\n",
    "with ConditionalTracer(condition='quote'):\n",
    "    remove_html_markup(...)\n",
    "```\n",
    "\n",
    "we would obtain only the lines executed while `quote` is True. If we have multiple conditions, we can combine them into one using `and`, `or`, or `not`."
   ]
  },
  {
   "cell_type": "markdown",
   "metadata": {
    "slideshow": {
     "slide_type": "subslide"
    }
   },
   "source": [
    "Our `ConditionalTracer` class stores the condition in its `condition` attribute:"
   ]
  },
  {
   "cell_type": "code",
   "execution_count": 38,
   "metadata": {
    "execution": {
     "iopub.execute_input": "2023-01-07T16:02:13.933160Z",
     "iopub.status.busy": "2023-01-07T16:02:13.932870Z",
     "iopub.status.idle": "2023-01-07T16:02:13.934604Z",
     "shell.execute_reply": "2023-01-07T16:02:13.935203Z"
    },
    "slideshow": {
     "slide_type": "fragment"
    }
   },
   "outputs": [],
   "source": [
    "class ConditionalTracer(Tracer):\n",
    "    def __init__(self, *, condition: Optional[str] = None, file: TextIO = sys.stdout) -> None:\n",
    "        \"\"\"Constructor. Trace all events for which `condition` (a Python expr) holds.\"\"\"\n",
    "\n",
    "        if condition is None:\n",
    "            condition = 'False'\n",
    "\n",
    "        self.condition: str = condition\n",
    "        self.last_report: Optional[bool] = None\n",
    "        super().__init__(file=file)"
   ]
  },
  {
   "cell_type": "markdown",
   "metadata": {
    "slideshow": {
     "slide_type": "subslide"
    }
   },
   "source": [
    "Its `traceit()` function _evaluates_ `condition` and reports the current line only if it holds. To this end, it uses the Python `eval()` function which evaluates the condition in the context of the local variables of the program under test. If the condition gets set, we print out three dots to indicate the elapsed time."
   ]
  },
  {
   "cell_type": "code",
   "execution_count": 39,
   "metadata": {
    "execution": {
     "iopub.execute_input": "2023-01-07T16:02:13.940036Z",
     "iopub.status.busy": "2023-01-07T16:02:13.939685Z",
     "iopub.status.idle": "2023-01-07T16:02:13.942120Z",
     "shell.execute_reply": "2023-01-07T16:02:13.942428Z"
    },
    "slideshow": {
     "slide_type": "fragment"
    }
   },
   "outputs": [],
   "source": [
    "class ConditionalTracer(ConditionalTracer):\n",
    "    def eval_in_context(self, expr: str, frame: FrameType) -> Optional[bool]:\n",
    "        try:\n",
    "            cond = eval(expr, None, frame.f_locals)\n",
    "        except NameError:  # (yet) undefined variable\n",
    "            cond = None\n",
    "        return cond"
   ]
  },
  {
   "cell_type": "markdown",
   "metadata": {
    "slideshow": {
     "slide_type": "fragment"
    }
   },
   "source": [
    "The `do_report()` function returns True if the status is to be reported:"
   ]
  },
  {
   "cell_type": "code",
   "execution_count": 40,
   "metadata": {
    "execution": {
     "iopub.execute_input": "2023-01-07T16:02:13.946257Z",
     "iopub.status.busy": "2023-01-07T16:02:13.945875Z",
     "iopub.status.idle": "2023-01-07T16:02:13.946717Z",
     "shell.execute_reply": "2023-01-07T16:02:13.946935Z"
    },
    "slideshow": {
     "slide_type": "subslide"
    }
   },
   "outputs": [],
   "source": [
    "class ConditionalTracer(ConditionalTracer):\n",
    "    def do_report(self, frame: FrameType, event: str, arg: Any) -> Optional[bool]:\n",
    "        return self.eval_in_context(self.condition, frame)"
   ]
  },
  {
   "cell_type": "markdown",
   "metadata": {
    "slideshow": {
     "slide_type": "fragment"
    }
   },
   "source": [
    "We put everything together in our `traceit()` function:"
   ]
  },
  {
   "cell_type": "code",
   "execution_count": 41,
   "metadata": {
    "execution": {
     "iopub.execute_input": "2023-01-07T16:02:13.951984Z",
     "iopub.status.busy": "2023-01-07T16:02:13.951659Z",
     "iopub.status.idle": "2023-01-07T16:02:13.952945Z",
     "shell.execute_reply": "2023-01-07T16:02:13.953416Z"
    },
    "slideshow": {
     "slide_type": "fragment"
    }
   },
   "outputs": [],
   "source": [
    "class ConditionalTracer(ConditionalTracer):\n",
    "    def traceit(self, frame: FrameType, event: str, arg: Any) -> None:\n",
    "        report = self.do_report(frame, event, arg)\n",
    "        if report != self.last_report:\n",
    "            if report:\n",
    "                self.log(\"...\")\n",
    "            self.last_report = report\n",
    "\n",
    "        if report:\n",
    "            self.print_debugger_status(frame, event, arg)"
   ]
  },
  {
   "cell_type": "markdown",
   "metadata": {
    "slideshow": {
     "slide_type": "subslide"
    }
   },
   "source": [
    "Here's an example. We see that `quote` is set only while the three characters `b`, `a`, and `r` are processed (as should be)."
   ]
  },
  {
   "cell_type": "code",
   "execution_count": 42,
   "metadata": {
    "execution": {
     "iopub.execute_input": "2023-01-07T16:02:13.955805Z",
     "iopub.status.busy": "2023-01-07T16:02:13.955442Z",
     "iopub.status.idle": "2023-01-07T16:02:13.969322Z",
     "shell.execute_reply": "2023-01-07T16:02:13.967184Z"
    },
    "slideshow": {
     "slide_type": "subslide"
    }
   },
   "outputs": [
    {
     "name": "stdout",
     "output_type": "stream",
     "text": [
      "...\n",
      "                                         # s = '<b title=\"bar\">\"foo\"</b>', tag = True, quote = True, out = '', c = '\"'\n",
      "243     for c in s:\n",
      "                                         # c = 'b'\n",
      "244         assert tag or not quote\n",
      "246         if c == '<' and not quote:\n",
      "248         elif c == '>' and not quote:\n",
      "250         elif (c == '\"' or c == \"'\") and tag:\n",
      "252         elif not tag:\n",
      "243     for c in s:\n",
      "                                         # c = 'a'\n",
      "244         assert tag or not quote\n",
      "246         if c == '<' and not quote:\n",
      "248         elif c == '>' and not quote:\n",
      "250         elif (c == '\"' or c == \"'\") and tag:\n",
      "252         elif not tag:\n",
      "243     for c in s:\n",
      "                                         # c = 'r'\n",
      "244         assert tag or not quote\n",
      "246         if c == '<' and not quote:\n",
      "248         elif c == '>' and not quote:\n",
      "250         elif (c == '\"' or c == \"'\") and tag:\n",
      "252         elif not tag:\n",
      "243     for c in s:\n",
      "                                         # c = '\"'\n",
      "244         assert tag or not quote\n",
      "246         if c == '<' and not quote:\n",
      "248         elif c == '>' and not quote:\n",
      "250         elif (c == '\"' or c == \"'\") and tag:\n",
      "251             quote = not quote\n"
     ]
    }
   ],
   "source": [
    "with ConditionalTracer(condition='quote'):\n",
    "    remove_html_markup('<b title=\"bar\">\"foo\"</b>')"
   ]
  },
  {
   "cell_type": "code",
   "execution_count": 43,
   "metadata": {
    "execution": {
     "iopub.execute_input": "2023-01-07T16:02:13.973441Z",
     "iopub.status.busy": "2023-01-07T16:02:13.972970Z",
     "iopub.status.idle": "2023-01-07T16:02:13.975954Z",
     "shell.execute_reply": "2023-01-07T16:02:13.976248Z"
    },
    "slideshow": {
     "slide_type": "subslide"
    }
   },
   "outputs": [
    {
     "data": {
      "text/html": [
       "\n",
       "    \n",
       "    <script>\n",
       "    var bad_answers = new Map();\n",
       "\n",
       "    function answer(quiz_id) {\n",
       "        ans = 0;\n",
       "        for (i = 1;; i++) {\n",
       "            checkbox = document.getElementById(quiz_id + \"-\" + i.toString());\n",
       "            if (!checkbox)\n",
       "                break;\n",
       "            if (checkbox.checked)\n",
       "                ans |= (1 << i);\n",
       "        }\n",
       "        return ans;\n",
       "    }\n",
       "    function check_selection(quiz_id, correct_answer, multiple_choice, hint) {\n",
       "        given_answer = answer(quiz_id);\n",
       "        if (given_answer == correct_answer)\n",
       "        {\n",
       "            document.getElementById(quiz_id + \"-submit\").value = \"Correct!\";\n",
       "            document.getElementById(quiz_id + \"-hint\").innerHTML = \"\";\n",
       "\n",
       "            for (i = 1;; i++) {\n",
       "                checkbox = document.getElementById(quiz_id + \"-\" + i.toString());\n",
       "                label = document.getElementById(quiz_id + \"-\" + i.toString() + \"-label\")\n",
       "                if (!checkbox)\n",
       "                    break;\n",
       "    \n",
       "                if (checkbox.checked) {\n",
       "                    label.style.fontWeight = \"bold\";\n",
       "                }\n",
       "                else {\n",
       "                    label.style.textDecoration = \"line-through\";\n",
       "                }\n",
       "            }\n",
       "        }\n",
       "        else \n",
       "        {\n",
       "            document.getElementById(quiz_id + \"-submit\").value = \"Try again\";\n",
       "            \n",
       "            if (!bad_answers.has(quiz_id)) {\n",
       "                bad_answers.set(quiz_id, 1);\n",
       "            }\n",
       "            else {\n",
       "                bad_answers.set(quiz_id, bad_answers.get(quiz_id) + 1);\n",
       "            }\n",
       "\n",
       "            if (bad_answers.get(quiz_id) >= 2 && hint.length > 0) {\n",
       "                document.getElementById(quiz_id + \"-hint\").innerHTML = \n",
       "                    \"&nbsp;&nbsp;(Hint: <code>\" + hint + \"</code>)\";\n",
       "            }\n",
       "\n",
       "            if (!multiple_choice) {\n",
       "                for (i = 1;; i++) {\n",
       "                    checkbox = document.getElementById(quiz_id + \"-\" + i.toString());\n",
       "                    label = document.getElementById(quiz_id + \"-\" + i.toString() + \"-label\")\n",
       "\n",
       "                    if (!checkbox)\n",
       "                        break;\n",
       "                    if (checkbox.checked) {\n",
       "                        label.style.textDecoration = \"line-through\";\n",
       "                    }\n",
       "                }\n",
       "            }\n",
       "        }\n",
       "    }\n",
       "    function clear_selection(quiz_id) {\n",
       "        document.getElementById(quiz_id + \"-submit\").value = \"Submit\";\n",
       "        document.getElementById(quiz_id + \"-hint\").innerHTML = \"\";\n",
       "    }\n",
       "    </script>\n",
       "    \n",
       "    <div class=\"quiz\">\n",
       "    <h3 class=\"quiz_title\">Quiz</h3>\n",
       "    <p>\n",
       "    <div class=\"quiz_question\">What happens if the condition contains a syntax error?</div>\n",
       "    </p>\n",
       "    <p>\n",
       "    <div class=\"quiz_options\" title=\"Pick a choice.\">\n",
       "    \n",
       "        <input type=\"radio\" name=\"a6a10e5a-8ea4-11ed-bc8b-6298cf1a5790\" id=\"a6a10e5a-8ea4-11ed-bc8b-6298cf1a5790-1\" onclick=\"clear_selection('a6a10e5a-8ea4-11ed-bc8b-6298cf1a5790')\">\n",
       "        <label id=\"a6a10e5a-8ea4-11ed-bc8b-6298cf1a5790-1-label\" for=\"a6a10e5a-8ea4-11ed-bc8b-6298cf1a5790-1\">The tracer stops, raising an exception</label><br>\n",
       "    \n",
       "        <input type=\"radio\" name=\"a6a10e5a-8ea4-11ed-bc8b-6298cf1a5790\" id=\"a6a10e5a-8ea4-11ed-bc8b-6298cf1a5790-2\" onclick=\"clear_selection('a6a10e5a-8ea4-11ed-bc8b-6298cf1a5790')\">\n",
       "        <label id=\"a6a10e5a-8ea4-11ed-bc8b-6298cf1a5790-2-label\" for=\"a6a10e5a-8ea4-11ed-bc8b-6298cf1a5790-2\">The tracer continues as if the condition were <code>True</code></label><br>\n",
       "    \n",
       "        <input type=\"radio\" name=\"a6a10e5a-8ea4-11ed-bc8b-6298cf1a5790\" id=\"a6a10e5a-8ea4-11ed-bc8b-6298cf1a5790-3\" onclick=\"clear_selection('a6a10e5a-8ea4-11ed-bc8b-6298cf1a5790')\">\n",
       "        <label id=\"a6a10e5a-8ea4-11ed-bc8b-6298cf1a5790-3-label\" for=\"a6a10e5a-8ea4-11ed-bc8b-6298cf1a5790-3\">The tracer continues as if the condition were <code>False</code></label><br>\n",
       "    \n",
       "    </div>\n",
       "    </p>\n",
       "    <input id=\"a6a10e5a-8ea4-11ed-bc8b-6298cf1a5790-submit\" type=\"submit\" value=\"Submit\" onclick=\"check_selection('a6a10e5a-8ea4-11ed-bc8b-6298cf1a5790', 2, 0, '393 % 7')\">\n",
       "    <span class=\"quiz_hint\" id=\"a6a10e5a-8ea4-11ed-bc8b-6298cf1a5790-hint\"></span>\n",
       "    </div>\n",
       "    "
      ],
      "text/plain": [
       "<IPython.core.display.HTML object>"
      ]
     },
     "execution_count": 43,
     "metadata": {},
     "output_type": "execute_result"
    }
   ],
   "source": [
    "quiz(\"What happens if the condition contains a syntax error?\",\n",
    "     [\n",
    "         \"The tracer stops, raising an exception\",\n",
    "         \"The tracer continues as if the condition were `True`\",\n",
    "         \"The tracer continues as if the condition were `False`\",\n",
    "     ], '393 % 7')"
   ]
  },
  {
   "cell_type": "markdown",
   "metadata": {
    "slideshow": {
     "slide_type": "fragment"
    }
   },
   "source": [
    "Here's the answer, illustrated in two examples. For syntax errors, we indeed get an exception:"
   ]
  },
  {
   "cell_type": "code",
   "execution_count": 44,
   "metadata": {
    "execution": {
     "iopub.execute_input": "2023-01-07T16:02:13.978492Z",
     "iopub.status.busy": "2023-01-07T16:02:13.978066Z",
     "iopub.status.idle": "2023-01-07T16:02:13.979582Z",
     "shell.execute_reply": "2023-01-07T16:02:13.979959Z"
    },
    "slideshow": {
     "slide_type": "skip"
    }
   },
   "outputs": [],
   "source": [
    "from ExpectError import ExpectError"
   ]
  },
  {
   "cell_type": "code",
   "execution_count": 45,
   "metadata": {
    "execution": {
     "iopub.execute_input": "2023-01-07T16:02:13.983074Z",
     "iopub.status.busy": "2023-01-07T16:02:13.982370Z",
     "iopub.status.idle": "2023-01-07T16:02:13.984324Z",
     "shell.execute_reply": "2023-01-07T16:02:13.984823Z"
    },
    "slideshow": {
     "slide_type": "subslide"
    }
   },
   "outputs": [
    {
     "name": "stderr",
     "output_type": "stream",
     "text": [
      "Traceback (most recent call last):\n",
      "  File \"/var/folders/n2/xd9445p97rb3xh7m1dfx8_4h0006ts/T/ipykernel_80152/3292487498.py\", line 3, in <cell line: 1>\n",
      "    remove_html_markup('<b title=\"bar\">\"foo\"</b>')\n",
      "  File \"/Users/zeller/Projects/debuggingbook/notebooks/Intro_Debugging.ipynb\", line 238, in remove_html_markup\n",
      "    def remove_html_markup(s):  # type: ignore\n",
      "  File \"/var/folders/n2/xd9445p97rb3xh7m1dfx8_4h0006ts/T/ipykernel_80152/3738699336.py\", line 19, in _traceit\n",
      "    self.traceit(frame, event, arg)\n",
      "  File \"/var/folders/n2/xd9445p97rb3xh7m1dfx8_4h0006ts/T/ipykernel_80152/2841885016.py\", line 3, in traceit\n",
      "    report = self.do_report(frame, event, arg)\n",
      "  File \"/var/folders/n2/xd9445p97rb3xh7m1dfx8_4h0006ts/T/ipykernel_80152/3084505080.py\", line 3, in do_report\n",
      "    return self.eval_in_context(self.condition, frame)\n",
      "  File \"/var/folders/n2/xd9445p97rb3xh7m1dfx8_4h0006ts/T/ipykernel_80152/1027065478.py\", line 4, in eval_in_context\n",
      "    cond = eval(expr, None, frame.f_locals)\n",
      "  File \"<string>\", line 1\n",
      "    2 +\n",
      "SyntaxError: invalid syntax (expected)\n"
     ]
    }
   ],
   "source": [
    "with ExpectError(SyntaxError):\n",
    "    with ConditionalTracer(condition='2 +'):\n",
    "        remove_html_markup('<b title=\"bar\">\"foo\"</b>')"
   ]
  },
  {
   "cell_type": "markdown",
   "metadata": {
    "slideshow": {
     "slide_type": "subslide"
    }
   },
   "source": [
    "If a variable is undefined, though, the condition evaluates to False:"
   ]
  },
  {
   "cell_type": "code",
   "execution_count": 46,
   "metadata": {
    "execution": {
     "iopub.execute_input": "2023-01-07T16:02:13.988396Z",
     "iopub.status.busy": "2023-01-07T16:02:13.987821Z",
     "iopub.status.idle": "2023-01-07T16:02:13.989920Z",
     "shell.execute_reply": "2023-01-07T16:02:13.990496Z"
    },
    "slideshow": {
     "slide_type": "fragment"
    }
   },
   "outputs": [],
   "source": [
    "with ExpectError():\n",
    "    with ConditionalTracer(condition='undefined_variable'):\n",
    "        remove_html_markup('<b title=\"bar\">\"foo\"</b>')"
   ]
  },
  {
   "cell_type": "markdown",
   "metadata": {
    "slideshow": {
     "slide_type": "fragment"
    }
   },
   "source": [
    "We can also have the log focus on _particular code locations_ only. To this end, we add the pseudo-variables `function` and `line` to our evaluation context, which can be used within our condition to refer to the current function name or line. Then, we invoke the original `eval_cond()` as above."
   ]
  },
  {
   "cell_type": "code",
   "execution_count": 47,
   "metadata": {
    "execution": {
     "iopub.execute_input": "2023-01-07T16:02:13.993960Z",
     "iopub.status.busy": "2023-01-07T16:02:13.993569Z",
     "iopub.status.idle": "2023-01-07T16:02:13.994912Z",
     "shell.execute_reply": "2023-01-07T16:02:13.995370Z"
    },
    "slideshow": {
     "slide_type": "fragment"
    }
   },
   "outputs": [],
   "source": [
    "class ConditionalTracer(ConditionalTracer):\n",
    "    def eval_in_context(self, expr: str, frame: FrameType) -> Any:\n",
    "        frame.f_locals['function'] = frame.f_code.co_name\n",
    "        frame.f_locals['line'] = frame.f_lineno\n",
    "\n",
    "        return super().eval_in_context(expr, frame)"
   ]
  },
  {
   "cell_type": "markdown",
   "metadata": {
    "slideshow": {
     "slide_type": "subslide"
    }
   },
   "source": [
    "Again, here is an example. We focus on the parts of the function where the `out` variable is being set:"
   ]
  },
  {
   "cell_type": "code",
   "execution_count": 48,
   "metadata": {
    "execution": {
     "iopub.execute_input": "2023-01-07T16:02:13.997909Z",
     "iopub.status.busy": "2023-01-07T16:02:13.997537Z",
     "iopub.status.idle": "2023-01-07T16:02:14.021354Z",
     "shell.execute_reply": "2023-01-07T16:02:14.013445Z"
    },
    "slideshow": {
     "slide_type": "subslide"
    }
   },
   "outputs": [
    {
     "name": "stdout",
     "output_type": "stream",
     "text": [
      "...\n",
      "Calling remove_html_markup(s = 'xyz', function = 'remove_html_markup', line = 238)\n",
      "                                         # line = 239\n",
      "239     tag = False\n",
      "                                         # line = 240, tag = False\n",
      "240     quote = False\n",
      "                                         # line = 241, quote = False\n",
      "241     out = \"\"\n",
      "                                         # line = 243, out = ''\n",
      "243     for c in s:\n",
      "                                         # line = 244, c = 'x'\n",
      "244         assert tag or not quote\n",
      "                                         # line = 246\n",
      "246         if c == '<' and not quote:\n",
      "                                         # line = 248\n",
      "248         elif c == '>' and not quote:\n",
      "                                         # line = 250\n",
      "250         elif (c == '\"' or c == \"'\") and tag:\n",
      "                                         # line = 252\n",
      "252         elif not tag:\n",
      "                                         # line = 253\n",
      "253             out = out + c\n",
      "                                         # line = 243, out = 'x'\n",
      "243     for c in s:\n",
      "                                         # line = 244, c = 'y'\n",
      "244         assert tag or not quote\n",
      "                                         # line = 246\n",
      "246         if c == '<' and not quote:\n",
      "                                         # line = 248\n",
      "248         elif c == '>' and not quote:\n",
      "                                         # line = 250\n",
      "250         elif (c == '\"' or c == \"'\") and tag:\n",
      "                                         # line = 252\n",
      "252         elif not tag:\n",
      "                                         # line = 253\n",
      "253             out = out + c\n",
      "                                         # line = 243, out = 'xy'\n",
      "243     for c in s:\n",
      "                                         # line = 244, c = 'z'\n",
      "244         assert tag or not quote\n",
      "                                         # line = 246\n",
      "246         if c == '<' and not quote:\n",
      "                                         # line = 248\n",
      "248         elif c == '>' and not quote:\n",
      "                                         # line = 250\n",
      "250         elif (c == '\"' or c == \"'\") and tag:\n",
      "                                         # line = 252\n",
      "252         elif not tag:\n",
      "                                         # line = 253\n",
      "253             out = out + c\n",
      "                                         # line = 243, out = 'xyz'\n",
      "243     for c in s:\n",
      "                                         # line = 255\n",
      "255     return out\n",
      "remove_html_markup() returns 'xyz'\n"
     ]
    }
   ],
   "source": [
    "with ConditionalTracer(condition=\"function == 'remove_html_markup' and line >= 237\"):\n",
    "    remove_html_markup('xyz')"
   ]
  },
  {
   "attachments": {},
   "cell_type": "markdown",
   "metadata": {
    "slideshow": {
     "slide_type": "subslide"
    }
   },
   "source": [
    "Using `line` and `function` in conditions is equivalent to conventional _breakpoints_ in interactive debuggers. We will encounter them again in the next chapter."
   ]
  },
  {
   "cell_type": "code",
   "execution_count": 49,
   "metadata": {
    "execution": {
     "iopub.execute_input": "2023-01-07T16:02:14.024957Z",
     "iopub.status.busy": "2023-01-07T16:02:14.024576Z",
     "iopub.status.idle": "2023-01-07T16:02:14.026335Z",
     "shell.execute_reply": "2023-01-07T16:02:14.026597Z"
    },
    "slideshow": {
     "slide_type": "fragment"
    }
   },
   "outputs": [
    {
     "data": {
      "text/html": [
       "\n",
       "    \n",
       "    <script>\n",
       "    var bad_answers = new Map();\n",
       "\n",
       "    function answer(quiz_id) {\n",
       "        ans = 0;\n",
       "        for (i = 1;; i++) {\n",
       "            checkbox = document.getElementById(quiz_id + \"-\" + i.toString());\n",
       "            if (!checkbox)\n",
       "                break;\n",
       "            if (checkbox.checked)\n",
       "                ans |= (1 << i);\n",
       "        }\n",
       "        return ans;\n",
       "    }\n",
       "    function check_selection(quiz_id, correct_answer, multiple_choice, hint) {\n",
       "        given_answer = answer(quiz_id);\n",
       "        if (given_answer == correct_answer)\n",
       "        {\n",
       "            document.getElementById(quiz_id + \"-submit\").value = \"Correct!\";\n",
       "            document.getElementById(quiz_id + \"-hint\").innerHTML = \"\";\n",
       "\n",
       "            for (i = 1;; i++) {\n",
       "                checkbox = document.getElementById(quiz_id + \"-\" + i.toString());\n",
       "                label = document.getElementById(quiz_id + \"-\" + i.toString() + \"-label\")\n",
       "                if (!checkbox)\n",
       "                    break;\n",
       "    \n",
       "                if (checkbox.checked) {\n",
       "                    label.style.fontWeight = \"bold\";\n",
       "                }\n",
       "                else {\n",
       "                    label.style.textDecoration = \"line-through\";\n",
       "                }\n",
       "            }\n",
       "        }\n",
       "        else \n",
       "        {\n",
       "            document.getElementById(quiz_id + \"-submit\").value = \"Try again\";\n",
       "            \n",
       "            if (!bad_answers.has(quiz_id)) {\n",
       "                bad_answers.set(quiz_id, 1);\n",
       "            }\n",
       "            else {\n",
       "                bad_answers.set(quiz_id, bad_answers.get(quiz_id) + 1);\n",
       "            }\n",
       "\n",
       "            if (bad_answers.get(quiz_id) >= 2 && hint.length > 0) {\n",
       "                document.getElementById(quiz_id + \"-hint\").innerHTML = \n",
       "                    \"&nbsp;&nbsp;(Hint: <code>\" + hint + \"</code>)\";\n",
       "            }\n",
       "\n",
       "            if (!multiple_choice) {\n",
       "                for (i = 1;; i++) {\n",
       "                    checkbox = document.getElementById(quiz_id + \"-\" + i.toString());\n",
       "                    label = document.getElementById(quiz_id + \"-\" + i.toString() + \"-label\")\n",
       "\n",
       "                    if (!checkbox)\n",
       "                        break;\n",
       "                    if (checkbox.checked) {\n",
       "                        label.style.textDecoration = \"line-through\";\n",
       "                    }\n",
       "                }\n",
       "            }\n",
       "        }\n",
       "    }\n",
       "    function clear_selection(quiz_id) {\n",
       "        document.getElementById(quiz_id + \"-submit\").value = \"Submit\";\n",
       "        document.getElementById(quiz_id + \"-hint\").innerHTML = \"\";\n",
       "    }\n",
       "    </script>\n",
       "    \n",
       "    <div class=\"quiz\">\n",
       "    <h3 class=\"quiz_title\">Quiz</h3>\n",
       "    <p>\n",
       "    <div class=\"quiz_question\">If the program under test contains a variable named <code>line</code>, which <code>line</code> does the condition refer to?</div>\n",
       "    </p>\n",
       "    <p>\n",
       "    <div class=\"quiz_options\" title=\"Pick a choice.\">\n",
       "    \n",
       "        <input type=\"radio\" name=\"a6a90506-8ea4-11ed-bc8b-6298cf1a5790\" id=\"a6a90506-8ea4-11ed-bc8b-6298cf1a5790-1\" onclick=\"clear_selection('a6a90506-8ea4-11ed-bc8b-6298cf1a5790')\">\n",
       "        <label id=\"a6a90506-8ea4-11ed-bc8b-6298cf1a5790-1-label\" for=\"a6a90506-8ea4-11ed-bc8b-6298cf1a5790-1\"><code>line</code> as in the debugger</label><br>\n",
       "    \n",
       "        <input type=\"radio\" name=\"a6a90506-8ea4-11ed-bc8b-6298cf1a5790\" id=\"a6a90506-8ea4-11ed-bc8b-6298cf1a5790-2\" onclick=\"clear_selection('a6a90506-8ea4-11ed-bc8b-6298cf1a5790')\">\n",
       "        <label id=\"a6a90506-8ea4-11ed-bc8b-6298cf1a5790-2-label\" for=\"a6a90506-8ea4-11ed-bc8b-6298cf1a5790-2\"><code>line</code> as in the program</label><br>\n",
       "    \n",
       "    </div>\n",
       "    </p>\n",
       "    <input id=\"a6a90506-8ea4-11ed-bc8b-6298cf1a5790-submit\" type=\"submit\" value=\"Submit\" onclick=\"check_selection('a6a90506-8ea4-11ed-bc8b-6298cf1a5790', 2, 0, '(326 * 27 == 8888) + 1')\">\n",
       "    <span class=\"quiz_hint\" id=\"a6a90506-8ea4-11ed-bc8b-6298cf1a5790-hint\"></span>\n",
       "    </div>\n",
       "    "
      ],
      "text/plain": [
       "<IPython.core.display.HTML object>"
      ]
     },
     "execution_count": 49,
     "metadata": {},
     "output_type": "execute_result"
    }
   ],
   "source": [
    "quiz(\"If the program under test contains a variable named `line`, \"\n",
    "     \"which `line` does the condition refer to?\",\n",
    "     [\n",
    "        \"`line` as in the debugger\",\n",
    "        \"`line` as in the program\"\n",
    "     ], '(326 * 27 == 8888) + 1')"
   ]
  },
  {
   "cell_type": "markdown",
   "metadata": {
    "slideshow": {
     "slide_type": "slide"
    }
   },
   "source": [
    "## Watching Events\n",
    "\n",
    "As an alternative to conditional logging, we may also be interested to exactly trace when a variable not only _has_ a particular value, but also when it _changes_ its value.\n",
    "\n",
    "To this end, we set up an `EventTracer` class that _watches_ when some event takes place. It takes a list of expressions (\"events\") and evaluates them for each line; if any event changes its value, we log the status."
   ]
  },
  {
   "cell_type": "markdown",
   "metadata": {
    "slideshow": {
     "slide_type": "subslide"
    }
   },
   "source": [
    "With\n",
    "\n",
    "```python\n",
    "with EventTracer(events=['tag', 'quote']):\n",
    "    remove_html_markup(...)\n",
    "```\n",
    "\n",
    "for instance, we would get a listing of all lines where `tag` or `quote` change their value; and with\n",
    "\n",
    "```python\n",
    "with EventTracer(events=['function']):\n",
    "    remove_html_markup(...)\n",
    "```\n",
    "\n",
    "we would obtain a listing of all lines where the current function changes."
   ]
  },
  {
   "cell_type": "markdown",
   "metadata": {
    "slideshow": {
     "slide_type": "subslide"
    }
   },
   "source": [
    "Our `EventTracer` class stores the list of events in its `events` attribute:"
   ]
  },
  {
   "cell_type": "code",
   "execution_count": 50,
   "metadata": {
    "execution": {
     "iopub.execute_input": "2023-01-07T16:02:14.029664Z",
     "iopub.status.busy": "2023-01-07T16:02:14.029352Z",
     "iopub.status.idle": "2023-01-07T16:02:14.030544Z",
     "shell.execute_reply": "2023-01-07T16:02:14.030797Z"
    },
    "slideshow": {
     "slide_type": "fragment"
    }
   },
   "outputs": [],
   "source": [
    "class EventTracer(ConditionalTracer):\n",
    "    \"\"\"Log when a given event expression changes its value\"\"\"\n",
    "\n",
    "    def __init__(self, *, condition: Optional[str] = None,\n",
    "                 events: List[str] = [], file: TextIO = sys.stdout) -> None:\n",
    "        \"\"\"Constructor. `events` is a list of expressions to watch.\"\"\"\n",
    "        self.events = events\n",
    "        self.last_event_values: Dict[str, Any] = {}\n",
    "        super().__init__(file=file, condition=condition)"
   ]
  },
  {
   "cell_type": "markdown",
   "metadata": {
    "slideshow": {
     "slide_type": "fragment"
    }
   },
   "source": [
    "Its `events_changed()` function _evaluates_ the individual events and checks if they change."
   ]
  },
  {
   "cell_type": "code",
   "execution_count": 51,
   "metadata": {
    "execution": {
     "iopub.execute_input": "2023-01-07T16:02:14.033421Z",
     "iopub.status.busy": "2023-01-07T16:02:14.033005Z",
     "iopub.status.idle": "2023-01-07T16:02:14.034317Z",
     "shell.execute_reply": "2023-01-07T16:02:14.034519Z"
    },
    "slideshow": {
     "slide_type": "subslide"
    }
   },
   "outputs": [],
   "source": [
    "class EventTracer(EventTracer):\n",
    "    def events_changed(self, events: List[str], frame: FrameType) -> bool:\n",
    "        \"\"\"Return True if any of the observed `events` has changed\"\"\"\n",
    "        change = False\n",
    "        for event in events:\n",
    "            value = self.eval_in_context(event, frame)\n",
    "\n",
    "            if (event not in self.last_event_values or\n",
    "                    value != self.last_event_values[event]):\n",
    "                self.last_event_values[event] = value\n",
    "                change = True\n",
    "\n",
    "        return change"
   ]
  },
  {
   "cell_type": "markdown",
   "metadata": {
    "slideshow": {
     "slide_type": "fragment"
    }
   },
   "source": [
    "We hook this into `do_report()`, the method that determines whether a line should be shown."
   ]
  },
  {
   "cell_type": "code",
   "execution_count": 52,
   "metadata": {
    "execution": {
     "iopub.execute_input": "2023-01-07T16:02:14.036799Z",
     "iopub.status.busy": "2023-01-07T16:02:14.036450Z",
     "iopub.status.idle": "2023-01-07T16:02:14.037687Z",
     "shell.execute_reply": "2023-01-07T16:02:14.037900Z"
    },
    "slideshow": {
     "slide_type": "subslide"
    }
   },
   "outputs": [],
   "source": [
    "class EventTracer(EventTracer):\n",
    "    def do_report(self, frame: FrameType, event: str, arg: Any) -> bool:\n",
    "        \"\"\"Return True if a line should be shown\"\"\"\n",
    "        return (self.eval_in_context(self.condition, frame) or\n",
    "                self.events_changed(self.events, frame))"
   ]
  },
  {
   "cell_type": "markdown",
   "metadata": {
    "slideshow": {
     "slide_type": "fragment"
    }
   },
   "source": [
    "This allows us to track, for instance, how `quote` and `tag` change their values over time."
   ]
  },
  {
   "cell_type": "code",
   "execution_count": 53,
   "metadata": {
    "execution": {
     "iopub.execute_input": "2023-01-07T16:02:14.039945Z",
     "iopub.status.busy": "2023-01-07T16:02:14.039592Z",
     "iopub.status.idle": "2023-01-07T16:02:14.052295Z",
     "shell.execute_reply": "2023-01-07T16:02:14.052496Z"
    },
    "slideshow": {
     "slide_type": "subslide"
    }
   },
   "outputs": [
    {
     "name": "stdout",
     "output_type": "stream",
     "text": [
      "...\n",
      "Calling remove_html_markup(s = '<b title=\"bar\">\"foo\"</b>', function = 'remove_html_markup', line = 238)\n",
      "...\n",
      "                                         # line = 240, tag = False\n",
      "240     quote = False\n",
      "                                         # line = 241, quote = False\n",
      "241     out = \"\"\n",
      "...\n",
      "                                         # line = 243, tag = True, out = '', c = '<'\n",
      "243     for c in s:\n",
      "...\n",
      "                                         # quote = True, c = '\"'\n",
      "243     for c in s:\n",
      "...\n",
      "                                         # quote = False\n",
      "243     for c in s:\n",
      "...\n",
      "                                         # tag = False, c = '>'\n",
      "243     for c in s:\n",
      "...\n",
      "                                         # tag = True, out = '\"foo\"', c = '<'\n",
      "243     for c in s:\n",
      "...\n",
      "                                         # tag = False, c = '>'\n",
      "243     for c in s:\n"
     ]
    }
   ],
   "source": [
    "with EventTracer(events=['quote', 'tag']):\n",
    "    remove_html_markup('<b title=\"bar\">\"foo\"</b>')"
   ]
  },
  {
   "cell_type": "markdown",
   "metadata": {
    "slideshow": {
     "slide_type": "subslide"
    }
   },
   "source": [
    "Continuously monitoring variable values at execution time is equivalent to the concept of *watchpoints* in interactive debuggers."
   ]
  },
  {
   "cell_type": "markdown",
   "metadata": {
    "slideshow": {
     "slide_type": "fragment"
    }
   },
   "source": [
    "With this, we have all we need for observing what happens during execution: We can explore the entire state, and we can evaluate conditions and events we are interested in. In the next chapter, we will see how to turn these capabilities into an interactive debugger, where we can query all these things interactively."
   ]
  },
  {
   "cell_type": "markdown",
   "metadata": {
    "slideshow": {
     "slide_type": "slide"
    }
   },
   "source": [
    "## Efficient Tracing\n",
    "\n",
    "While our framework is very flexible (and can still be extended further), it also is _slow_, since we have to evaluate all conditions and events for every single line of the program. Just how slow are things? We can easily measure this."
   ]
  },
  {
   "cell_type": "code",
   "execution_count": 54,
   "metadata": {
    "execution": {
     "iopub.execute_input": "2023-01-07T16:02:14.054934Z",
     "iopub.status.busy": "2023-01-07T16:02:14.054500Z",
     "iopub.status.idle": "2023-01-07T16:02:14.059988Z",
     "shell.execute_reply": "2023-01-07T16:02:14.060280Z"
    },
    "slideshow": {
     "slide_type": "skip"
    }
   },
   "outputs": [],
   "source": [
    "from Timer import Timer"
   ]
  },
  {
   "cell_type": "code",
   "execution_count": 55,
   "metadata": {
    "execution": {
     "iopub.execute_input": "2023-01-07T16:02:14.062512Z",
     "iopub.status.busy": "2023-01-07T16:02:14.062204Z",
     "iopub.status.idle": "2023-01-07T16:02:14.063575Z",
     "shell.execute_reply": "2023-01-07T16:02:14.063818Z"
    },
    "slideshow": {
     "slide_type": "fragment"
    }
   },
   "outputs": [],
   "source": [
    "runs = 1000"
   ]
  },
  {
   "cell_type": "markdown",
   "metadata": {
    "slideshow": {
     "slide_type": "fragment"
    }
   },
   "source": [
    "Here's the untraced execution time in seconds:"
   ]
  },
  {
   "cell_type": "code",
   "execution_count": 56,
   "metadata": {
    "execution": {
     "iopub.execute_input": "2023-01-07T16:02:14.067621Z",
     "iopub.status.busy": "2023-01-07T16:02:14.064978Z",
     "iopub.status.idle": "2023-01-07T16:02:14.069379Z",
     "shell.execute_reply": "2023-01-07T16:02:14.069750Z"
    },
    "slideshow": {
     "slide_type": "fragment"
    }
   },
   "outputs": [
    {
     "data": {
      "text/plain": [
       "0.001568417006637901"
      ]
     },
     "execution_count": 56,
     "metadata": {},
     "output_type": "execute_result"
    }
   ],
   "source": [
    "with Timer() as t:\n",
    "    for i in range(runs):\n",
    "        remove_html_markup('<b title=\"bar\">\"foo\"</b>')\n",
    "untraced_execution_time = t.elapsed_time()\n",
    "untraced_execution_time"
   ]
  },
  {
   "cell_type": "markdown",
   "metadata": {
    "slideshow": {
     "slide_type": "fragment"
    }
   },
   "source": [
    "And here's the _traced_ execution time:"
   ]
  },
  {
   "cell_type": "code",
   "execution_count": 57,
   "metadata": {
    "execution": {
     "iopub.execute_input": "2023-01-07T16:02:14.165623Z",
     "iopub.status.busy": "2023-01-07T16:02:14.121166Z",
     "iopub.status.idle": "2023-01-07T16:02:14.669367Z",
     "shell.execute_reply": "2023-01-07T16:02:14.669641Z"
    },
    "slideshow": {
     "slide_type": "subslide"
    }
   },
   "outputs": [
    {
     "data": {
      "text/plain": [
       "0.5949220000038622"
      ]
     },
     "execution_count": 57,
     "metadata": {},
     "output_type": "execute_result"
    }
   ],
   "source": [
    "with Timer() as t:\n",
    "    for i in range(runs):\n",
    "        with EventTracer():\n",
    "            remove_html_markup('<b title=\"bar\">\"foo\"</b>')\n",
    "traced_execution_time = t.elapsed_time()\n",
    "traced_execution_time"
   ]
  },
  {
   "cell_type": "markdown",
   "metadata": {
    "slideshow": {
     "slide_type": "fragment"
    }
   },
   "source": [
    "We see that the _traced_ execution time is several hundred times slower:"
   ]
  },
  {
   "cell_type": "code",
   "execution_count": 58,
   "metadata": {
    "execution": {
     "iopub.execute_input": "2023-01-07T16:02:14.672096Z",
     "iopub.status.busy": "2023-01-07T16:02:14.671685Z",
     "iopub.status.idle": "2023-01-07T16:02:14.673080Z",
     "shell.execute_reply": "2023-01-07T16:02:14.673393Z"
    },
    "slideshow": {
     "slide_type": "fragment"
    }
   },
   "outputs": [
    {
     "data": {
      "text/plain": [
       "379.31366306665615"
      ]
     },
     "execution_count": 58,
     "metadata": {},
     "output_type": "execute_result"
    }
   ],
   "source": [
    "traced_execution_time / untraced_execution_time"
   ]
  },
  {
   "cell_type": "markdown",
   "metadata": {
    "slideshow": {
     "slide_type": "fragment"
    }
   },
   "source": [
    "We can still speed up our implementation somewhat, but still will get nowhere near the untraced execution time."
   ]
  },
  {
   "cell_type": "markdown",
   "metadata": {
    "slideshow": {
     "slide_type": "subslide"
    }
   },
   "source": [
    "There is a trick, though, that allows us to execute programs at full speed while being traced. Rather than _dynamically_ checking at run time whether a condition is met, we can also _statically_ inject appropriate code into the program under test. This way, the non-traced code is executed at normal speed."
   ]
  },
  {
   "cell_type": "markdown",
   "metadata": {
    "slideshow": {
     "slide_type": "fragment"
    }
   },
   "source": [
    "There is a downside, though: This only works if the condition to be checked is limited to specific _locations_ – because it is precisely these locations where we insert our tracing code. With this limitation, though, _static_ tracing can speed up things significantly."
   ]
  },
  {
   "cell_type": "markdown",
   "metadata": {
    "slideshow": {
     "slide_type": "fragment"
    }
   },
   "source": [
    "How does static code injection work? The trick involves _rewriting_ the program code to insert special _debugging statements_ at the given locations. This way, we do not need to use the tracing function at all."
   ]
  },
  {
   "cell_type": "markdown",
   "metadata": {
    "slideshow": {
     "slide_type": "subslide"
    }
   },
   "source": [
    "The following `insert_tracer()` function demonstrates this. It takes a function as well as a list of _breakpoint_ lines where to insert tracing statements. At each given line, it injects the code"
   ]
  },
  {
   "cell_type": "code",
   "execution_count": 59,
   "metadata": {
    "execution": {
     "iopub.execute_input": "2023-01-07T16:02:14.675348Z",
     "iopub.status.busy": "2023-01-07T16:02:14.675036Z",
     "iopub.status.idle": "2023-01-07T16:02:14.676375Z",
     "shell.execute_reply": "2023-01-07T16:02:14.676638Z"
    },
    "slideshow": {
     "slide_type": "fragment"
    }
   },
   "outputs": [],
   "source": [
    "TRACER_CODE = \\\n",
    "    \"TRACER.print_debugger_status(inspect.currentframe(), 'line', None); \""
   ]
  },
  {
   "cell_type": "markdown",
   "metadata": {
    "slideshow": {
     "slide_type": "fragment"
    }
   },
   "source": [
    "into the function definition, which calls into this tracer:"
   ]
  },
  {
   "cell_type": "code",
   "execution_count": 60,
   "metadata": {
    "execution": {
     "iopub.execute_input": "2023-01-07T16:02:14.678685Z",
     "iopub.status.busy": "2023-01-07T16:02:14.678393Z",
     "iopub.status.idle": "2023-01-07T16:02:14.679603Z",
     "shell.execute_reply": "2023-01-07T16:02:14.680031Z"
    },
    "slideshow": {
     "slide_type": "fragment"
    }
   },
   "outputs": [],
   "source": [
    "TRACER = Tracer()"
   ]
  },
  {
   "cell_type": "markdown",
   "metadata": {
    "slideshow": {
     "slide_type": "fragment"
    }
   },
   "source": [
    "`insert_tracer()` then _compiles_ the resulting code into a new \"traced\" function, which it then returns."
   ]
  },
  {
   "cell_type": "code",
   "execution_count": 61,
   "metadata": {
    "execution": {
     "iopub.execute_input": "2023-01-07T16:02:14.683680Z",
     "iopub.status.busy": "2023-01-07T16:02:14.683359Z",
     "iopub.status.idle": "2023-01-07T16:02:14.684535Z",
     "shell.execute_reply": "2023-01-07T16:02:14.684771Z"
    },
    "slideshow": {
     "slide_type": "subslide"
    }
   },
   "outputs": [],
   "source": [
    "def insert_tracer(function: Callable, breakpoints: List[int] = []) -> Callable:\n",
    "    \"\"\"Return a variant of `function` with tracing code `TRACER_CODE` inserted\n",
    "       at each line given by `breakpoints`.\"\"\"\n",
    "\n",
    "    source_lines, starting_line_number = inspect.getsourcelines(function)\n",
    "\n",
    "    breakpoints.sort(reverse=True)\n",
    "    for given_line in breakpoints:\n",
    "        # Set new source line\n",
    "        relative_line = given_line - starting_line_number + 1\n",
    "        inject_line = source_lines[relative_line - 1]\n",
    "        indent = len(inject_line) - len(inject_line.lstrip())\n",
    "        source_lines[relative_line - 1] = ' ' * indent + TRACER_CODE + inject_line.lstrip()\n",
    "\n",
    "    # Rename function\n",
    "    new_function_name = function.__name__ + \"_traced\"\n",
    "    source_lines[0] = source_lines[0].replace(function.__name__, new_function_name)\n",
    "    new_def = \"\".join(source_lines)\n",
    "\n",
    "    # For debugging\n",
    "    print_content(new_def, '.py', start_line_number=starting_line_number)\n",
    "\n",
    "    # We keep original source and filename to ease debugging\n",
    "    prefix = '\\n' * starting_line_number    # Get line number right\n",
    "    new_function_code = compile(prefix + new_def, function.__code__.co_filename, 'exec')\n",
    "    exec(new_function_code)\n",
    "    new_function = eval(new_function_name)\n",
    "    return new_function"
   ]
  },
  {
   "cell_type": "markdown",
   "metadata": {
    "slideshow": {
     "slide_type": "subslide"
    }
   },
   "source": [
    "Here's an example: inserting two breakpoints in (relative) Lines 7 and 18 of `remove_html_markup()` results in the following (rewritten) definition of `remove_html_markup_traced()`:"
   ]
  },
  {
   "cell_type": "code",
   "execution_count": 62,
   "metadata": {
    "execution": {
     "iopub.execute_input": "2023-01-07T16:02:14.686895Z",
     "iopub.status.busy": "2023-01-07T16:02:14.686585Z",
     "iopub.status.idle": "2023-01-07T16:02:14.688554Z",
     "shell.execute_reply": "2023-01-07T16:02:14.688779Z"
    },
    "slideshow": {
     "slide_type": "fragment"
    }
   },
   "outputs": [],
   "source": [
    "_, remove_html_markup_starting_line_number = inspect.getsourcelines(remove_html_markup)\n",
    "breakpoints = [(remove_html_markup_starting_line_number - 1) + 7, \n",
    "               (remove_html_markup_starting_line_number - 1) + 18]"
   ]
  },
  {
   "cell_type": "code",
   "execution_count": 63,
   "metadata": {
    "execution": {
     "iopub.execute_input": "2023-01-07T16:02:14.713673Z",
     "iopub.status.busy": "2023-01-07T16:02:14.713071Z",
     "iopub.status.idle": "2023-01-07T16:02:14.723452Z",
     "shell.execute_reply": "2023-01-07T16:02:14.723774Z"
    },
    "slideshow": {
     "slide_type": "subslide"
    }
   },
   "outputs": [
    {
     "name": "stdout",
     "output_type": "stream",
     "text": [
      "238  \u001b[34mdef\u001b[39;49;00m \u001b[32mremove_html_markup_traced\u001b[39;49;00m(s):  \u001b[37m# type: ignore\u001b[39;49;00m\u001b[37m\u001b[39;49;00m\n",
      "239      tag = \u001b[34mFalse\u001b[39;49;00m\u001b[37m\u001b[39;49;00m\n",
      "240      quote = \u001b[34mFalse\u001b[39;49;00m\u001b[37m\u001b[39;49;00m\n",
      "241      out = \u001b[33m\"\u001b[39;49;00m\u001b[33m\"\u001b[39;49;00m\u001b[37m\u001b[39;49;00m\n",
      "242  \u001b[37m\u001b[39;49;00m\n",
      "243      \u001b[34mfor\u001b[39;49;00m c \u001b[35min\u001b[39;49;00m s:\u001b[37m\u001b[39;49;00m\n",
      "244          TRACER.print_debugger_status(inspect.currentframe(), \u001b[33m'\u001b[39;49;00m\u001b[33mline\u001b[39;49;00m\u001b[33m'\u001b[39;49;00m, \u001b[34mNone\u001b[39;49;00m); \u001b[34massert\u001b[39;49;00m tag \u001b[35mor\u001b[39;49;00m \u001b[35mnot\u001b[39;49;00m quote\u001b[37m\u001b[39;49;00m\n",
      "245  \u001b[37m\u001b[39;49;00m\n",
      "246          \u001b[34mif\u001b[39;49;00m c == \u001b[33m'\u001b[39;49;00m\u001b[33m<\u001b[39;49;00m\u001b[33m'\u001b[39;49;00m \u001b[35mand\u001b[39;49;00m \u001b[35mnot\u001b[39;49;00m quote:\u001b[37m\u001b[39;49;00m\n",
      "247              tag = \u001b[34mTrue\u001b[39;49;00m\u001b[37m\u001b[39;49;00m\n",
      "248          \u001b[34melif\u001b[39;49;00m c == \u001b[33m'\u001b[39;49;00m\u001b[33m>\u001b[39;49;00m\u001b[33m'\u001b[39;49;00m \u001b[35mand\u001b[39;49;00m \u001b[35mnot\u001b[39;49;00m quote:\u001b[37m\u001b[39;49;00m\n",
      "249              tag = \u001b[34mFalse\u001b[39;49;00m\u001b[37m\u001b[39;49;00m\n",
      "250          \u001b[34melif\u001b[39;49;00m (c == \u001b[33m'\u001b[39;49;00m\u001b[33m\"\u001b[39;49;00m\u001b[33m'\u001b[39;49;00m \u001b[35mor\u001b[39;49;00m c == \u001b[33m\"\u001b[39;49;00m\u001b[33m'\u001b[39;49;00m\u001b[33m\"\u001b[39;49;00m) \u001b[35mand\u001b[39;49;00m tag:\u001b[37m\u001b[39;49;00m\n",
      "251              quote = \u001b[35mnot\u001b[39;49;00m quote\u001b[37m\u001b[39;49;00m\n",
      "252          \u001b[34melif\u001b[39;49;00m \u001b[35mnot\u001b[39;49;00m tag:\u001b[37m\u001b[39;49;00m\n",
      "253              out = out + c\u001b[37m\u001b[39;49;00m\n",
      "254  \u001b[37m\u001b[39;49;00m\n",
      "255      TRACER.print_debugger_status(inspect.currentframe(), \u001b[33m'\u001b[39;49;00m\u001b[33mline\u001b[39;49;00m\u001b[33m'\u001b[39;49;00m, \u001b[34mNone\u001b[39;49;00m); \u001b[34mreturn\u001b[39;49;00m out\u001b[37m\u001b[39;49;00m"
     ]
    }
   ],
   "source": [
    "remove_html_markup_traced = insert_tracer(remove_html_markup, breakpoints)"
   ]
  },
  {
   "cell_type": "markdown",
   "metadata": {
    "slideshow": {
     "slide_type": "subslide"
    }
   },
   "source": [
    "If we execute the statically instrumented `remove_html_markup_traced()`, we obtain the same output as when using a dynamic tracer. Note that the source code listed shows the original code; the injected calls into `TRACER` do not show up."
   ]
  },
  {
   "cell_type": "code",
   "execution_count": 64,
   "metadata": {
    "execution": {
     "iopub.execute_input": "2023-01-07T16:02:14.726081Z",
     "iopub.status.busy": "2023-01-07T16:02:14.725607Z",
     "iopub.status.idle": "2023-01-07T16:02:14.745239Z",
     "shell.execute_reply": "2023-01-07T16:02:14.738457Z"
    },
    "slideshow": {
     "slide_type": "subslide"
    }
   },
   "outputs": [
    {
     "name": "stdout",
     "output_type": "stream",
     "text": [
      "                                         # s = '<b title=\"bar\">\"foo\"</b>', tag = False, quote = False, out = '', c = '<'\n",
      "245 \n",
      "                                         # tag = True, c = 'b'\n",
      "245 \n",
      "                                         # c = ' '\n",
      "245 \n",
      "                                         # c = 't'\n",
      "245 \n",
      "                                         # c = 'i'\n",
      "245 \n",
      "                                         # c = 't'\n",
      "245 \n",
      "                                         # c = 'l'\n",
      "245 \n",
      "                                         # c = 'e'\n",
      "245 \n",
      "                                         # c = '='\n",
      "245 \n",
      "                                         # c = '\"'\n",
      "245 \n",
      "                                         # quote = True, c = 'b'\n",
      "245 \n",
      "                                         # c = 'a'\n",
      "245 \n",
      "                                         # c = 'r'\n",
      "245 \n",
      "                                         # c = '\"'\n",
      "245 \n",
      "                                         # quote = False, c = '>'\n",
      "245 \n",
      "                                         # tag = False, c = '\"'\n",
      "245 \n",
      "                                         # out = '\"', c = 'f'\n",
      "245 \n",
      "                                         # out = '\"f', c = 'o'\n",
      "245 \n",
      "                                         # out = '\"fo'\n",
      "245 \n",
      "                                         # out = '\"foo', c = '\"'\n",
      "245 \n",
      "                                         # out = '\"foo\"', c = '<'\n",
      "245 \n",
      "                                         # tag = True, c = '/'\n",
      "245 \n",
      "                                         # c = 'b'\n",
      "245 \n",
      "                                         # c = '>'\n",
      "245 \n",
      "                                         # tag = False\n",
      "256 \n"
     ]
    }
   ],
   "source": [
    "with Timer() as t:\n",
    "    remove_html_markup_traced('<b title=\"bar\">\"foo\"</b>')\n",
    "static_tracer_execution_time = t.elapsed_time()"
   ]
  },
  {
   "cell_type": "markdown",
   "metadata": {
    "slideshow": {
     "slide_type": "subslide"
    }
   },
   "source": [
    "How fast is the static tracer compared with the dynamic tracer? This is the execution time of the above code:"
   ]
  },
  {
   "cell_type": "code",
   "execution_count": 65,
   "metadata": {
    "execution": {
     "iopub.execute_input": "2023-01-07T16:02:14.747031Z",
     "iopub.status.busy": "2023-01-07T16:02:14.746373Z",
     "iopub.status.idle": "2023-01-07T16:02:14.748481Z",
     "shell.execute_reply": "2023-01-07T16:02:14.748714Z"
    },
    "slideshow": {
     "slide_type": "fragment"
    }
   },
   "outputs": [
    {
     "data": {
      "text/plain": [
       "0.011063792000641115"
      ]
     },
     "execution_count": 65,
     "metadata": {},
     "output_type": "execute_result"
    }
   ],
   "source": [
    "static_tracer_execution_time"
   ]
  },
  {
   "cell_type": "markdown",
   "metadata": {
    "slideshow": {
     "slide_type": "fragment"
    }
   },
   "source": [
    "Compare this with the equivalent dynamic tracer:"
   ]
  },
  {
   "cell_type": "code",
   "execution_count": 66,
   "metadata": {
    "execution": {
     "iopub.execute_input": "2023-01-07T16:02:14.750748Z",
     "iopub.status.busy": "2023-01-07T16:02:14.749768Z",
     "iopub.status.idle": "2023-01-07T16:02:14.781728Z",
     "shell.execute_reply": "2023-01-07T16:02:14.771095Z"
    },
    "slideshow": {
     "slide_type": "subslide"
    }
   },
   "outputs": [
    {
     "name": "stdout",
     "output_type": "stream",
     "text": [
      "...\n",
      "                                         # s = '<b title=\"bar\">\"foo\"</b>', function = 'remove_html_markup', line = 244, tag = False, quote = False, out = '', c = '<'\n",
      "244         assert tag or not quote\n",
      "...\n",
      "                                         # tag = True, c = 'b'\n",
      "244         assert tag or not quote\n",
      "...\n",
      "                                         # c = ' '\n",
      "244         assert tag or not quote\n",
      "...\n",
      "                                         # c = 't'\n",
      "244         assert tag or not quote\n",
      "...\n",
      "                                         # c = 'i'\n",
      "244         assert tag or not quote\n",
      "...\n",
      "                                         # c = 't'\n",
      "244         assert tag or not quote\n",
      "...\n",
      "                                         # c = 'l'\n",
      "244         assert tag or not quote\n",
      "...\n",
      "                                         # c = 'e'\n",
      "244         assert tag or not quote\n",
      "...\n",
      "                                         # c = '='\n",
      "244         assert tag or not quote\n",
      "...\n",
      "                                         # c = '\"'\n",
      "244         assert tag or not quote\n",
      "...\n",
      "                                         # quote = True, c = 'b'\n",
      "244         assert tag or not quote\n",
      "...\n",
      "                                         # c = 'a'\n",
      "244         assert tag or not quote\n",
      "...\n",
      "                                         # c = 'r'\n",
      "244         assert tag or not quote\n",
      "...\n",
      "                                         # c = '\"'\n",
      "244         assert tag or not quote\n",
      "...\n",
      "                                         # quote = False, c = '>'\n",
      "244         assert tag or not quote\n",
      "...\n",
      "                                         # tag = False, c = '\"'\n",
      "244         assert tag or not quote\n",
      "...\n",
      "                                         # out = '\"', c = 'f'\n",
      "244         assert tag or not quote\n",
      "...\n",
      "                                         # out = '\"f', c = 'o'\n",
      "244         assert tag or not quote\n",
      "...\n",
      "                                         # out = '\"fo'\n",
      "244         assert tag or not quote\n",
      "...\n",
      "                                         # out = '\"foo', c = '\"'\n",
      "244         assert tag or not quote\n",
      "...\n",
      "                                         # out = '\"foo\"', c = '<'\n",
      "244         assert tag or not quote\n",
      "...\n",
      "                                         # tag = True, c = '/'\n",
      "244         assert tag or not quote\n",
      "...\n",
      "                                         # c = 'b'\n",
      "244         assert tag or not quote\n",
      "...\n",
      "                                         # c = '>'\n",
      "244         assert tag or not quote\n",
      "...\n",
      "                                         # line = 255, tag = False\n",
      "255     return out\n",
      "remove_html_markup() returns '\"foo\"'\n"
     ]
    },
    {
     "data": {
      "text/plain": [
       "0.017874833996756934"
      ]
     },
     "execution_count": 66,
     "metadata": {},
     "output_type": "execute_result"
    }
   ],
   "source": [
    "line7 = (remove_html_markup_starting_line_number - 1) + 7\n",
    "line18 = (remove_html_markup_starting_line_number - 1) + 18\n",
    "\n",
    "with Timer() as t:\n",
    "    with EventTracer(condition=f'line == {line7} or line == {line18}'):\n",
    "        remove_html_markup('<b title=\"bar\">\"foo\"</b>')\n",
    "\n",
    "dynamic_tracer_execution_time = t.elapsed_time()\n",
    "dynamic_tracer_execution_time"
   ]
  },
  {
   "cell_type": "code",
   "execution_count": 67,
   "metadata": {
    "execution": {
     "iopub.execute_input": "2023-01-07T16:02:14.784014Z",
     "iopub.status.busy": "2023-01-07T16:02:14.783713Z",
     "iopub.status.idle": "2023-01-07T16:02:14.785136Z",
     "shell.execute_reply": "2023-01-07T16:02:14.785373Z"
    },
    "slideshow": {
     "slide_type": "subslide"
    }
   },
   "outputs": [
    {
     "data": {
      "text/plain": [
       "1.6156155137154729"
      ]
     },
     "execution_count": 67,
     "metadata": {},
     "output_type": "execute_result"
    }
   ],
   "source": [
    "dynamic_tracer_execution_time / static_tracer_execution_time"
   ]
  },
  {
   "cell_type": "markdown",
   "metadata": {
    "slideshow": {
     "slide_type": "fragment"
    }
   },
   "source": [
    "We see that the static tracker is several times faster – an advantage that will only increase further as more non-traced code is executed. If our code looks like this:"
   ]
  },
  {
   "cell_type": "code",
   "execution_count": 68,
   "metadata": {
    "execution": {
     "iopub.execute_input": "2023-01-07T16:02:14.787038Z",
     "iopub.status.busy": "2023-01-07T16:02:14.786409Z",
     "iopub.status.idle": "2023-01-07T16:02:14.788093Z",
     "shell.execute_reply": "2023-01-07T16:02:14.788311Z"
    },
    "slideshow": {
     "slide_type": "fragment"
    }
   },
   "outputs": [],
   "source": [
    "def some_extreme_function(s: str) -> None:\n",
    "    ...  # Long-running function\n",
    "    remove_html_markup(s)"
   ]
  },
  {
   "cell_type": "markdown",
   "metadata": {
    "slideshow": {
     "slide_type": "fragment"
    }
   },
   "source": [
    "and we then execute it with"
   ]
  },
  {
   "cell_type": "code",
   "execution_count": 69,
   "metadata": {
    "execution": {
     "iopub.execute_input": "2023-01-07T16:02:14.790419Z",
     "iopub.status.busy": "2023-01-07T16:02:14.790075Z",
     "iopub.status.idle": "2023-01-07T16:02:14.792451Z",
     "shell.execute_reply": "2023-01-07T16:02:14.792642Z"
    },
    "slideshow": {
     "slide_type": "subslide"
    }
   },
   "outputs": [
    {
     "name": "stdout",
     "output_type": "stream",
     "text": [
      "...\n",
      "                                         # s = 'foo', function = 'remove_html_markup', line = 255, tag = False, quote = False, out = 'foo', c = 'o'\n",
      "255     return out\n",
      "remove_html_markup() returns 'foo'\n"
     ]
    }
   ],
   "source": [
    "with EventTracer(condition=f\"function=='remove_html_markup' and line == {line18}\"):\n",
    "    some_extreme_function(\"foo\")"
   ]
  },
  {
   "cell_type": "markdown",
   "metadata": {
    "slideshow": {
     "slide_type": "fragment"
    }
   },
   "source": [
    "we will spend quite some time."
   ]
  },
  {
   "cell_type": "code",
   "execution_count": 70,
   "metadata": {
    "execution": {
     "iopub.execute_input": "2023-01-07T16:02:14.797160Z",
     "iopub.status.busy": "2023-01-07T16:02:14.796651Z",
     "iopub.status.idle": "2023-01-07T16:02:14.799188Z",
     "shell.execute_reply": "2023-01-07T16:02:14.799457Z"
    },
    "slideshow": {
     "slide_type": "subslide"
    }
   },
   "outputs": [
    {
     "data": {
      "text/html": [
       "\n",
       "    \n",
       "    <script>\n",
       "    var bad_answers = new Map();\n",
       "\n",
       "    function answer(quiz_id) {\n",
       "        ans = 0;\n",
       "        for (i = 1;; i++) {\n",
       "            checkbox = document.getElementById(quiz_id + \"-\" + i.toString());\n",
       "            if (!checkbox)\n",
       "                break;\n",
       "            if (checkbox.checked)\n",
       "                ans |= (1 << i);\n",
       "        }\n",
       "        return ans;\n",
       "    }\n",
       "    function check_selection(quiz_id, correct_answer, multiple_choice, hint) {\n",
       "        given_answer = answer(quiz_id);\n",
       "        if (given_answer == correct_answer)\n",
       "        {\n",
       "            document.getElementById(quiz_id + \"-submit\").value = \"Correct!\";\n",
       "            document.getElementById(quiz_id + \"-hint\").innerHTML = \"\";\n",
       "\n",
       "            for (i = 1;; i++) {\n",
       "                checkbox = document.getElementById(quiz_id + \"-\" + i.toString());\n",
       "                label = document.getElementById(quiz_id + \"-\" + i.toString() + \"-label\")\n",
       "                if (!checkbox)\n",
       "                    break;\n",
       "    \n",
       "                if (checkbox.checked) {\n",
       "                    label.style.fontWeight = \"bold\";\n",
       "                }\n",
       "                else {\n",
       "                    label.style.textDecoration = \"line-through\";\n",
       "                }\n",
       "            }\n",
       "        }\n",
       "        else \n",
       "        {\n",
       "            document.getElementById(quiz_id + \"-submit\").value = \"Try again\";\n",
       "            \n",
       "            if (!bad_answers.has(quiz_id)) {\n",
       "                bad_answers.set(quiz_id, 1);\n",
       "            }\n",
       "            else {\n",
       "                bad_answers.set(quiz_id, bad_answers.get(quiz_id) + 1);\n",
       "            }\n",
       "\n",
       "            if (bad_answers.get(quiz_id) >= 2 && hint.length > 0) {\n",
       "                document.getElementById(quiz_id + \"-hint\").innerHTML = \n",
       "                    \"&nbsp;&nbsp;(Hint: <code>\" + hint + \"</code>)\";\n",
       "            }\n",
       "\n",
       "            if (!multiple_choice) {\n",
       "                for (i = 1;; i++) {\n",
       "                    checkbox = document.getElementById(quiz_id + \"-\" + i.toString());\n",
       "                    label = document.getElementById(quiz_id + \"-\" + i.toString() + \"-label\")\n",
       "\n",
       "                    if (!checkbox)\n",
       "                        break;\n",
       "                    if (checkbox.checked) {\n",
       "                        label.style.textDecoration = \"line-through\";\n",
       "                    }\n",
       "                }\n",
       "            }\n",
       "        }\n",
       "    }\n",
       "    function clear_selection(quiz_id) {\n",
       "        document.getElementById(quiz_id + \"-submit\").value = \"Submit\";\n",
       "        document.getElementById(quiz_id + \"-hint\").innerHTML = \"\";\n",
       "    }\n",
       "    </script>\n",
       "    \n",
       "    <div class=\"quiz\">\n",
       "    <h3 class=\"quiz_title\">Quiz</h3>\n",
       "    <p>\n",
       "    <div class=\"quiz_question\">In the above example, where is the <code>EventTracer.traceit()</code> function called?</div>\n",
       "    </p>\n",
       "    <p>\n",
       "    <div class=\"quiz_options\" title=\"Check all that apply.\">\n",
       "    \n",
       "        <input type=\"checkbox\" name=\"a71ea6a8-8ea4-11ed-bc8b-6298cf1a5790\" id=\"a71ea6a8-8ea4-11ed-bc8b-6298cf1a5790-1\" onclick=\"clear_selection('a71ea6a8-8ea4-11ed-bc8b-6298cf1a5790')\">\n",
       "        <label id=\"a71ea6a8-8ea4-11ed-bc8b-6298cf1a5790-1-label\" for=\"a71ea6a8-8ea4-11ed-bc8b-6298cf1a5790-1\">When <code>some_extreme_function()</code> returns</label><br>\n",
       "    \n",
       "        <input type=\"checkbox\" name=\"a71ea6a8-8ea4-11ed-bc8b-6298cf1a5790\" id=\"a71ea6a8-8ea4-11ed-bc8b-6298cf1a5790-2\" onclick=\"clear_selection('a71ea6a8-8ea4-11ed-bc8b-6298cf1a5790')\">\n",
       "        <label id=\"a71ea6a8-8ea4-11ed-bc8b-6298cf1a5790-2-label\" for=\"a71ea6a8-8ea4-11ed-bc8b-6298cf1a5790-2\">For each line of <code>some_extreme_function()</code></label><br>\n",
       "    \n",
       "        <input type=\"checkbox\" name=\"a71ea6a8-8ea4-11ed-bc8b-6298cf1a5790\" id=\"a71ea6a8-8ea4-11ed-bc8b-6298cf1a5790-3\" onclick=\"clear_selection('a71ea6a8-8ea4-11ed-bc8b-6298cf1a5790')\">\n",
       "        <label id=\"a71ea6a8-8ea4-11ed-bc8b-6298cf1a5790-3-label\" for=\"a71ea6a8-8ea4-11ed-bc8b-6298cf1a5790-3\">When <code>remove_html_markup()</code> returns</label><br>\n",
       "    \n",
       "        <input type=\"checkbox\" name=\"a71ea6a8-8ea4-11ed-bc8b-6298cf1a5790\" id=\"a71ea6a8-8ea4-11ed-bc8b-6298cf1a5790-4\" onclick=\"clear_selection('a71ea6a8-8ea4-11ed-bc8b-6298cf1a5790')\">\n",
       "        <label id=\"a71ea6a8-8ea4-11ed-bc8b-6298cf1a5790-4-label\" for=\"a71ea6a8-8ea4-11ed-bc8b-6298cf1a5790-4\">For each line of <code>remove_html_markup()</code></label><br>\n",
       "    \n",
       "    </div>\n",
       "    </p>\n",
       "    <input id=\"a71ea6a8-8ea4-11ed-bc8b-6298cf1a5790-submit\" type=\"submit\" value=\"Submit\" onclick=\"check_selection('a71ea6a8-8ea4-11ed-bc8b-6298cf1a5790', 30, 1, '[ord(c) - 100 for c in \\&#x27;efgh\\&#x27;]')\">\n",
       "    <span class=\"quiz_hint\" id=\"a71ea6a8-8ea4-11ed-bc8b-6298cf1a5790-hint\"></span>\n",
       "    </div>\n",
       "    "
      ],
      "text/plain": [
       "<IPython.core.display.HTML object>"
      ]
     },
     "execution_count": 70,
     "metadata": {},
     "output_type": "execute_result"
    }
   ],
   "source": [
    "quiz(\"In the above example, \"\n",
    "     \"where is the `EventTracer.traceit()` function called?\",\n",
    "     [\n",
    "         \"When `some_extreme_function()` returns\",\n",
    "         \"For each line of `some_extreme_function()`\",\n",
    "         \"When `remove_html_markup()` returns\",\n",
    "         \"For each line of `remove_html_markup()`\"\n",
    "     ], \"[ord(c) - 100 for c in 'efgh']\")"
   ]
  },
  {
   "cell_type": "markdown",
   "metadata": {
    "slideshow": {
     "slide_type": "fragment"
    }
   },
   "source": [
    "Indeed: Stepping line by line through some function can be pretty expensive, as every call, line, and return of `some_extreme_function()` and `remove_html_markup()` is tracked."
   ]
  },
  {
   "cell_type": "markdown",
   "metadata": {
    "slideshow": {
     "slide_type": "subslide"
    }
   },
   "source": [
    "On the other hand, the static tracker is limited to conditions that refer to a _specific location in the code._ If we want to check whether some variable changes, for instance, we have to perform a (nontrivial) static analysis of the code to determine possible locations for a change. If a variable is changed indirectly through references or pointers (a common risk in system-level languages like C), there is no alternative to actually watching its value after each instruction."
   ]
  },
  {
   "attachments": {},
   "cell_type": "markdown",
   "metadata": {
    "slideshow": {
     "slide_type": "slide"
    }
   },
   "source": [
    "## Tracing Binary Executables\n",
    "\n",
    "Debuggers that act on binary code (say, code compiled from C) operate similarly as our \"static\" tracer: They take a location in the binary code and replace its instruction with a _break instruction_ that interrupts execution, returning control to the debugger. The debugger then replaces the break instruction with the original instruction before resuming execution.\n",
    "\n",
    "If the code cannot be altered (for instance, because it is in read-only memory), however, then debuggers resort to the \"dynamic\" tracing method, executing one instruction at a time and checking the program counter for its current value after each step.\n",
    "\n",
    "To provide a minimum of efficient support, some processor architectures, such as x86, provide *hardware breakpoints*. Programmers (or more precisely, debugging tools) can define a set of specific values for the program counter to watch, and if the program counter reaches one of these values, execution is interrupted to return to the debugger. Likewise, *hardware watchpoints* will check specific memory locations at run time for changes and given values. There are also hardware watchpoints that break when a specific memory location is read from. Both hardware watchpoints and hardware breakpoints allow a limited tracking of stopping conditions while still maintaining original execution speed – and the best debugging tools will use a mix of static tracing, dynamic tracing, and hardware tracing."
   ]
  },
  {
   "cell_type": "markdown",
   "metadata": {
    "slideshow": {
     "slide_type": "slide"
    }
   },
   "source": [
    "## Synopsis"
   ]
  },
  {
   "attachments": {},
   "cell_type": "markdown",
   "metadata": {
    "slideshow": {
     "slide_type": "fragment"
    }
   },
   "source": [
    "This chapter provides a `Tracer` class that allows to log events during program execution. The advanced subclass `EventTracer` allows restricting logs to specific conditions. Logs are shown only while the given `condition` holds:"
   ]
  },
  {
   "cell_type": "code",
   "execution_count": 71,
   "metadata": {
    "execution": {
     "iopub.execute_input": "2023-01-07T16:02:14.802690Z",
     "iopub.status.busy": "2023-01-07T16:02:14.802277Z",
     "iopub.status.idle": "2023-01-07T16:02:14.805569Z",
     "shell.execute_reply": "2023-01-07T16:02:14.805338Z"
    },
    "slideshow": {
     "slide_type": "fragment"
    }
   },
   "outputs": [
    {
     "name": "stdout",
     "output_type": "stream",
     "text": [
      "...\n",
      "                                         # s = '<b>foo</b>bar', function = 'remove_html_markup', line = 243, tag = False, quote = False, out = 'foobar', c = 'r'\n",
      "243     for c in s:\n",
      "                                         # line = 255\n",
      "255     return out\n",
      "remove_html_markup() returns 'foobar'\n"
     ]
    }
   ],
   "source": [
    "with EventTracer(condition='line == 223 or len(out) >= 6'):\n",
    "    remove_html_markup('<b>foo</b>bar')"
   ]
  },
  {
   "cell_type": "markdown",
   "metadata": {
    "slideshow": {
     "slide_type": "subslide"
    }
   },
   "source": [
    "It also allows to restrict logs to specific events. Log entries are shown only if one of the given `events` changes its value:"
   ]
  },
  {
   "cell_type": "code",
   "execution_count": 72,
   "metadata": {
    "execution": {
     "iopub.execute_input": "2023-01-07T16:02:14.807528Z",
     "iopub.status.busy": "2023-01-07T16:02:14.807167Z",
     "iopub.status.idle": "2023-01-07T16:02:14.812170Z",
     "shell.execute_reply": "2023-01-07T16:02:14.811601Z"
    },
    "slideshow": {
     "slide_type": "subslide"
    }
   },
   "outputs": [
    {
     "name": "stdout",
     "output_type": "stream",
     "text": [
      "...\n",
      "Calling remove_html_markup(s = '<b>foo</b>bar', function = 'remove_html_markup', line = 238)\n",
      "...\n",
      "                                         # line = 244, tag = False, quote = False, out = '', c = '<'\n",
      "244         assert tag or not quote\n",
      "...\n",
      "                                         # tag = True, out = 'foo', c = '/'\n",
      "244         assert tag or not quote\n",
      "...\n",
      "                                         # c = 'b'\n",
      "244         assert tag or not quote\n"
     ]
    }
   ],
   "source": [
    "with EventTracer(events=[\"c == '/'\"]):\n",
    "    remove_html_markup('<b>foo</b>bar')"
   ]
  },
  {
   "cell_type": "markdown",
   "metadata": {
    "slideshow": {
     "slide_type": "subslide"
    }
   },
   "source": [
    "`Tracer` and `EventTracer` classes allow for subclassing and further customization."
   ]
  },
  {
   "cell_type": "code",
   "execution_count": 73,
   "metadata": {
    "execution": {
     "iopub.execute_input": "2023-01-07T16:02:14.814373Z",
     "iopub.status.busy": "2023-01-07T16:02:14.813822Z",
     "iopub.status.idle": "2023-01-07T16:02:14.818408Z",
     "shell.execute_reply": "2023-01-07T16:02:14.818722Z"
    },
    "slideshow": {
     "slide_type": "fragment"
    }
   },
   "outputs": [],
   "source": [
    "# ignore\n",
    "from ClassDiagram import display_class_hierarchy"
   ]
  },
  {
   "cell_type": "code",
   "execution_count": 74,
   "metadata": {
    "execution": {
     "iopub.execute_input": "2023-01-07T16:02:14.826852Z",
     "iopub.status.busy": "2023-01-07T16:02:14.826448Z",
     "iopub.status.idle": "2023-01-07T16:02:15.166495Z",
     "shell.execute_reply": "2023-01-07T16:02:15.166753Z"
    },
    "slideshow": {
     "slide_type": "subslide"
    }
   },
   "outputs": [
    {
     "data": {
      "image/svg+xml": [
       "<?xml version=\"1.0\" encoding=\"UTF-8\" standalone=\"no\"?>\n",
       "<!DOCTYPE svg PUBLIC \"-//W3C//DTD SVG 1.1//EN\"\n",
       " \"http://www.w3.org/Graphics/SVG/1.1/DTD/svg11.dtd\">\n",
       "<!-- Generated by graphviz version 7.0.2 (20221119.0110)\n",
       " -->\n",
       "<!-- Pages: 1 -->\n",
       "<svg width=\"287pt\" height=\"420pt\"\n",
       " viewBox=\"0.00 0.00 286.50 420.00\" xmlns=\"http://www.w3.org/2000/svg\" xmlns:xlink=\"http://www.w3.org/1999/xlink\">\n",
       "<g id=\"graph0\" class=\"graph\" transform=\"scale(1 1) rotate(0) translate(4 416)\">\n",
       "<g id=\"a_graph0\"><a xlink:title=\"EventTracer class hierarchy\">\n",
       "<polygon fill=\"white\" stroke=\"none\" points=\"-4,4 -4,-416 282.5,-416 282.5,4 -4,4\"/>\n",
       "</a>\n",
       "</g>\n",
       "<!-- EventTracer -->\n",
       "<g id=\"node1\" class=\"node\">\n",
       "<title>EventTracer</title>\n",
       "<g id=\"a_node1\"><a xlink:href=\"#\" xlink:title=\"class EventTracer:&#10;Log when a given event expression changes its value\">\n",
       "<polygon fill=\"none\" stroke=\"black\" points=\"27,-0.5 27,-64.5 140,-64.5 140,-0.5 27,-0.5\"/>\n",
       "<text text-anchor=\"start\" x=\"47\" y=\"-50.3\" font-family=\"Raleway, Helvetica, Arial, sans-serif\" font-weight=\"bold\" font-size=\"14.00\" fill=\"#6a0dad\">EventTracer</text>\n",
       "<polyline fill=\"none\" stroke=\"black\" points=\"27,-41.5 140,-41.5\"/>\n",
       "<g id=\"a_node1_0\"><a xlink:href=\"#\" xlink:title=\"EventTracer\">\n",
       "<g id=\"a_node1_1\"><a xlink:href=\"#\" xlink:title=\"__init__(self, *, condition: Optional[str] = None, events: List[str] = [], file: &lt;class &#39;TextIO&#39;&gt; = &lt;ipykernel.iostream.OutStream object at 0x109413dc0&gt;) &#45;&gt; None:&#10;Constructor. `events` is a list of expressions to watch.\">\n",
       "<text text-anchor=\"start\" x=\"35.5\" y=\"-30\" font-family=\"'Fira Mono', 'Source Code Pro', 'Courier', monospace\" font-weight=\"bold\" font-style=\"italic\" font-size=\"10.00\">__init__()</text>\n",
       "</a>\n",
       "</g>\n",
       "<g id=\"a_node1_2\"><a xlink:href=\"#\" xlink:title=\"do_report(self, frame: frame, event: str, arg: Any) &#45;&gt; bool:&#10;Return True if a line should be shown\">\n",
       "<text text-anchor=\"start\" x=\"35.5\" y=\"-19\" font-family=\"'Fira Mono', 'Source Code Pro', 'Courier', monospace\" font-style=\"italic\" font-size=\"10.00\">do_report()</text>\n",
       "</a>\n",
       "</g>\n",
       "<g id=\"a_node1_3\"><a xlink:href=\"#\" xlink:title=\"events_changed(self, events: List[str], frame: frame) &#45;&gt; bool:&#10;Return True if any of the observed `events` has changed\">\n",
       "<text text-anchor=\"start\" x=\"35.5\" y=\"-7\" font-family=\"'Fira Mono', 'Source Code Pro', 'Courier', monospace\" font-size=\"10.00\">events_changed()</text>\n",
       "</a>\n",
       "</g>\n",
       "</a>\n",
       "</g>\n",
       "</a>\n",
       "</g>\n",
       "</g>\n",
       "<!-- ConditionalTracer -->\n",
       "<g id=\"node2\" class=\"node\">\n",
       "<title>ConditionalTracer</title>\n",
       "<g id=\"a_node2\"><a xlink:href=\"#\" xlink:title=\"class ConditionalTracer:&#10;A class for tracing a piece of code. Use as `with Tracer(): block()`\">\n",
       "<polygon fill=\"none\" stroke=\"black\" points=\"19.5,-101.5 19.5,-176.5 147.5,-176.5 147.5,-101.5 19.5,-101.5\"/>\n",
       "<text text-anchor=\"start\" x=\"27.5\" y=\"-162.3\" font-family=\"Raleway, Helvetica, Arial, sans-serif\" font-weight=\"bold\" font-size=\"14.00\" fill=\"#6a0dad\">ConditionalTracer</text>\n",
       "<polyline fill=\"none\" stroke=\"black\" points=\"19.5,-153.5 147.5,-153.5\"/>\n",
       "<g id=\"a_node2_4\"><a xlink:href=\"#\" xlink:title=\"ConditionalTracer\">\n",
       "<g id=\"a_node2_5\"><a xlink:href=\"#\" xlink:title=\"__init__(self, *, condition: Optional[str] = None, file: &lt;class &#39;TextIO&#39;&gt; = &lt;ipykernel.iostream.OutStream object at 0x109413dc0&gt;) &#45;&gt; None:&#10;Constructor. Trace all events for which `condition` (a Python expr) holds.\">\n",
       "<text text-anchor=\"start\" x=\"32.5\" y=\"-142.5\" font-family=\"'Fira Mono', 'Source Code Pro', 'Courier', monospace\" font-weight=\"bold\" font-style=\"italic\" font-size=\"10.00\">__init__()</text>\n",
       "</a>\n",
       "</g>\n",
       "<g id=\"a_node2_6\"><a xlink:href=\"#\" xlink:title=\"do_report(self, frame: frame, event: str, arg: Any) &#45;&gt; Optional[bool]\">\n",
       "<text text-anchor=\"start\" x=\"32.5\" y=\"-131.5\" font-family=\"'Fira Mono', 'Source Code Pro', 'Courier', monospace\" font-style=\"italic\" font-size=\"10.00\">do_report()</text>\n",
       "</a>\n",
       "</g>\n",
       "<g id=\"a_node2_7\"><a xlink:href=\"#\" xlink:title=\"eval_in_context(self, expr: str, frame: frame) &#45;&gt; Any\">\n",
       "<text text-anchor=\"start\" x=\"32.5\" y=\"-119.5\" font-family=\"'Fira Mono', 'Source Code Pro', 'Courier', monospace\" font-size=\"10.00\">eval_in_context()</text>\n",
       "</a>\n",
       "</g>\n",
       "<g id=\"a_node2_8\"><a xlink:href=\"#\" xlink:title=\"traceit(self, frame: frame, event: str, arg: Any) &#45;&gt; None:&#10;Tracing function; called at every line. To be overloaded in subclasses.\">\n",
       "<text text-anchor=\"start\" x=\"32.5\" y=\"-109.5\" font-family=\"'Fira Mono', 'Source Code Pro', 'Courier', monospace\" font-style=\"italic\" font-size=\"10.00\">traceit()</text>\n",
       "</a>\n",
       "</g>\n",
       "</a>\n",
       "</g>\n",
       "</a>\n",
       "</g>\n",
       "</g>\n",
       "<!-- EventTracer&#45;&gt;ConditionalTracer -->\n",
       "<g id=\"edge1\" class=\"edge\">\n",
       "<title>EventTracer&#45;&gt;ConditionalTracer</title>\n",
       "<path fill=\"none\" stroke=\"black\" d=\"M83.5,-64.29C83.5,-72.41 83.5,-81.37 83.5,-90.16\"/>\n",
       "<polygon fill=\"none\" stroke=\"black\" points=\"80,-90.02 83.5,-100.02 87,-90.02 80,-90.02\"/>\n",
       "</g>\n",
       "<!-- Tracer -->\n",
       "<g id=\"node3\" class=\"node\">\n",
       "<title>Tracer</title>\n",
       "<g id=\"a_node3\"><a xlink:href=\"#\" xlink:title=\"class Tracer:&#10;A class for tracing a piece of code. Use as `with Tracer(): block()`\">\n",
       "<polygon fill=\"none\" stroke=\"black\" points=\"6,-213.5 6,-332.5 161,-332.5 161,-213.5 6,-213.5\"/>\n",
       "<text text-anchor=\"start\" x=\"63.5\" y=\"-318.3\" font-family=\"Raleway, Helvetica, Arial, sans-serif\" font-weight=\"bold\" font-size=\"14.00\" fill=\"#6a0dad\">Tracer</text>\n",
       "<polyline fill=\"none\" stroke=\"black\" points=\"6,-309.5 161,-309.5\"/>\n",
       "<g id=\"a_node3_9\"><a xlink:href=\"#\" xlink:title=\"Tracer\">\n",
       "<g id=\"a_node3_10\"><a xlink:href=\"#\" xlink:title=\"__enter__(self) &#45;&gt; Any:&#10;Called at begin of `with` block. Turn tracing on.\">\n",
       "<text text-anchor=\"start\" x=\"14.5\" y=\"-298.5\" font-family=\"'Fira Mono', 'Source Code Pro', 'Courier', monospace\" font-weight=\"bold\" font-size=\"10.00\">__enter__()</text>\n",
       "</a>\n",
       "</g>\n",
       "<g id=\"a_node3_11\"><a xlink:href=\"#\" xlink:title=\"__exit__(self, exc_tp: Type, exc_value: BaseException, exc_traceback: traceback) &#45;&gt; Optional[bool]:&#10;Called at end of `with` block. Turn tracing off.&#10;Return `None` if ok, not `None` if internal error.\">\n",
       "<text text-anchor=\"start\" x=\"14.5\" y=\"-287.5\" font-family=\"'Fira Mono', 'Source Code Pro', 'Courier', monospace\" font-weight=\"bold\" font-size=\"10.00\">__exit__()</text>\n",
       "</a>\n",
       "</g>\n",
       "<g id=\"a_node3_12\"><a xlink:href=\"#\" xlink:title=\"__init__(self, file: &lt;class &#39;TextIO&#39;&gt; = &lt;ipykernel.iostream.OutStream object at 0x109413dc0&gt;) &#45;&gt; None:&#10;Create a new tracer.&#10;If `file` is given, output to `file` instead of stdout.\">\n",
       "<text text-anchor=\"start\" x=\"14.5\" y=\"-276.5\" font-family=\"'Fira Mono', 'Source Code Pro', 'Courier', monospace\" font-weight=\"bold\" font-style=\"italic\" font-size=\"10.00\">__init__()</text>\n",
       "</a>\n",
       "</g>\n",
       "<g id=\"a_node3_13\"><a xlink:href=\"#\" xlink:title=\"changed_vars(self, new_vars: Dict[str, Any]) &#45;&gt; Dict[str, Any]:&#10;Track changed variables, based on `new_vars` observed.\">\n",
       "<text text-anchor=\"start\" x=\"14.5\" y=\"-265.5\" font-family=\"'Fira Mono', 'Source Code Pro', 'Courier', monospace\" font-weight=\"bold\" font-size=\"10.00\">changed_vars()</text>\n",
       "</a>\n",
       "</g>\n",
       "<g id=\"a_node3_14\"><a xlink:href=\"#\" xlink:title=\"print_debugger_status(self, frame: frame, event: str, arg: Any) &#45;&gt; None:&#10;Show current source line and changed vars\">\n",
       "<text text-anchor=\"start\" x=\"14.5\" y=\"-254.5\" font-family=\"'Fira Mono', 'Source Code Pro', 'Courier', monospace\" font-weight=\"bold\" font-size=\"10.00\">print_debugger_status()</text>\n",
       "</a>\n",
       "</g>\n",
       "<g id=\"a_node3_15\"><a xlink:href=\"#\" xlink:title=\"_traceit(self, frame: frame, event: str, arg: Any) &#45;&gt; Optional[Callable]:&#10;Internal tracing function.\">\n",
       "<text text-anchor=\"start\" x=\"14.5\" y=\"-242.5\" font-family=\"'Fira Mono', 'Source Code Pro', 'Courier', monospace\" font-size=\"10.00\">_traceit()</text>\n",
       "</a>\n",
       "</g>\n",
       "<g id=\"a_node3_16\"><a xlink:href=\"#\" xlink:title=\"log(self, *objects: Any, sep: str = &#39; &#39;, end: str = &#39;\\n&#39;, flush: bool = True) &#45;&gt; None:&#10;Like `print()`, but always sending to `file` given at initialization,&#10;and flushing by default.\">\n",
       "<text text-anchor=\"start\" x=\"14.5\" y=\"-231.5\" font-family=\"'Fira Mono', 'Source Code Pro', 'Courier', monospace\" font-size=\"10.00\">log()</text>\n",
       "</a>\n",
       "</g>\n",
       "<g id=\"a_node3_17\"><a xlink:href=\"#\" xlink:title=\"traceit(self, frame: frame, event: str, arg: Any) &#45;&gt; None:&#10;Tracing function; called at every line. To be overloaded in subclasses.\">\n",
       "<text text-anchor=\"start\" x=\"14.5\" y=\"-221.5\" font-family=\"'Fira Mono', 'Source Code Pro', 'Courier', monospace\" font-style=\"italic\" font-size=\"10.00\">traceit()</text>\n",
       "</a>\n",
       "</g>\n",
       "</a>\n",
       "</g>\n",
       "</a>\n",
       "</g>\n",
       "</g>\n",
       "<!-- ConditionalTracer&#45;&gt;Tracer -->\n",
       "<g id=\"edge2\" class=\"edge\">\n",
       "<title>ConditionalTracer&#45;&gt;Tracer</title>\n",
       "<path fill=\"none\" stroke=\"black\" d=\"M83.5,-176.42C83.5,-184.52 83.5,-193.37 83.5,-202.32\"/>\n",
       "<polygon fill=\"none\" stroke=\"black\" points=\"80,-202.13 83.5,-212.13 87,-202.13 80,-202.13\"/>\n",
       "</g>\n",
       "<!-- StackInspector -->\n",
       "<g id=\"node4\" class=\"node\">\n",
       "<title>StackInspector</title>\n",
       "<g id=\"a_node4\"><a xlink:href=\"StackInspector.ipynb\" xlink:title=\"class StackInspector:&#10;Provide functions to inspect the stack\">\n",
       "<polygon fill=\"none\" stroke=\"black\" points=\"0,-369.5 0,-411.5 167,-411.5 167,-369.5 0,-369.5\"/>\n",
       "<text text-anchor=\"start\" x=\"36.5\" y=\"-397.3\" font-family=\"Raleway, Helvetica, Arial, sans-serif\" font-weight=\"bold\" font-size=\"14.00\" fill=\"#6a0dad\">StackInspector</text>\n",
       "<polyline fill=\"none\" stroke=\"black\" points=\"0,-388.5 167,-388.5\"/>\n",
       "<g id=\"a_node4_18\"><a xlink:href=\"#\" xlink:title=\"StackInspector\">\n",
       "<g id=\"a_node4_19\"><a xlink:href=\"StackInspector.ipynb\" xlink:title=\"_generated_function_cache = {}\">\n",
       "<text text-anchor=\"start\" x=\"8.5\" y=\"-376\" font-family=\"'Fira Mono', 'Source Code Pro', 'Courier', monospace\" font-size=\"10.00\">_generated_function_cache</text>\n",
       "</a>\n",
       "</g>\n",
       "</a>\n",
       "</g>\n",
       "</a>\n",
       "</g>\n",
       "</g>\n",
       "<!-- Tracer&#45;&gt;StackInspector -->\n",
       "<g id=\"edge3\" class=\"edge\">\n",
       "<title>Tracer&#45;&gt;StackInspector</title>\n",
       "<path fill=\"none\" stroke=\"black\" d=\"M83.5,-332.43C83.5,-341.34 83.5,-350.24 83.5,-358.26\"/>\n",
       "<polygon fill=\"none\" stroke=\"black\" points=\"80,-358.15 83.5,-368.15 87,-358.15 80,-358.15\"/>\n",
       "</g>\n",
       "<!-- Legend -->\n",
       "<g id=\"node5\" class=\"node\">\n",
       "<title>Legend</title>\n",
       "<text text-anchor=\"start\" x=\"158.5\" y=\"-50\" font-family=\"Raleway, Helvetica, Arial, sans-serif\" font-weight=\"bold\" font-size=\"10.00\" fill=\"#6a0dad\">Legend</text>\n",
       "<text text-anchor=\"start\" x=\"158.5\" y=\"-40\" font-family=\"Raleway, Helvetica, Arial, sans-serif\" font-size=\"10.00\">• </text>\n",
       "<text text-anchor=\"start\" x=\"165.5\" y=\"-40\" font-family=\"'Fira Mono', 'Source Code Pro', 'Courier', monospace\" font-weight=\"bold\" font-size=\"8.00\">public_method()</text>\n",
       "<text text-anchor=\"start\" x=\"158.5\" y=\"-30\" font-family=\"Raleway, Helvetica, Arial, sans-serif\" font-size=\"10.00\">• </text>\n",
       "<text text-anchor=\"start\" x=\"165.5\" y=\"-30\" font-family=\"'Fira Mono', 'Source Code Pro', 'Courier', monospace\" font-size=\"8.00\">private_method()</text>\n",
       "<text text-anchor=\"start\" x=\"158.5\" y=\"-20\" font-family=\"Raleway, Helvetica, Arial, sans-serif\" font-size=\"10.00\">• </text>\n",
       "<text text-anchor=\"start\" x=\"165.5\" y=\"-20\" font-family=\"'Fira Mono', 'Source Code Pro', 'Courier', monospace\" font-style=\"italic\" font-size=\"8.00\">overloaded_method()</text>\n",
       "<text text-anchor=\"start\" x=\"158.5\" y=\"-10.8\" font-family=\"Helvetica,sans-Serif\" font-size=\"9.00\">Hover over names to see doc</text>\n",
       "</g>\n",
       "</g>\n",
       "</svg>\n"
      ],
      "text/plain": [
       "<graphviz.graphs.Digraph at 0x10adace20>"
      ]
     },
     "execution_count": 74,
     "metadata": {},
     "output_type": "execute_result"
    }
   ],
   "source": [
    "# ignore\n",
    "display_class_hierarchy(EventTracer,\n",
    "                        public_methods=[\n",
    "                            Tracer.__init__,\n",
    "                            Tracer.__enter__,\n",
    "                            Tracer.__exit__,\n",
    "                            Tracer.changed_vars,\n",
    "                            Tracer.print_debugger_status,\n",
    "                            ConditionalTracer.__init__,\n",
    "                            EventTracer.__init__,\n",
    "                        ],\n",
    "                        project='debuggingbook')"
   ]
  },
  {
   "attachments": {},
   "cell_type": "markdown",
   "metadata": {
    "button": false,
    "new_sheet": true,
    "run_control": {
     "read_only": false
    },
    "slideshow": {
     "slide_type": "slide"
    }
   },
   "source": [
    "## Lessons Learned\n",
    "\n",
    "* Interpreted languages can provide _debugging hooks_ that allow to dynamically control program execution and access program state.\n",
    "* Tracing can be limited to specific conditions and events:\n",
    "    * A _breakpoint_ is a condition referring to a particular location in the code.\n",
    "    * A _watchpoint_ is an event referring to a particular state change.\n",
    "* Compiled languages allow _instrumenting_ code at compile time, injecting code that allows to hand over control to a tracing or debugging tool."
   ]
  },
  {
   "cell_type": "markdown",
   "metadata": {
    "button": false,
    "new_sheet": false,
    "run_control": {
     "read_only": false
    },
    "slideshow": {
     "slide_type": "slide"
    }
   },
   "source": [
    "## Next Steps\n",
    "\n",
    "In the next chapter, we will see how to\n",
    "\n",
    "* [leverage our tracing infrastructure for interactive debugging](Debugger.ipynb)\n"
   ]
  },
  {
   "cell_type": "markdown",
   "metadata": {
    "slideshow": {
     "slide_type": "slide"
    }
   },
   "source": [
    "## Background\n",
    "\n",
    "Debugging interfaces like Python `sys.settrace()` are common in all programming languages that provide support for interactive debugging, providing support for executing programs step by step and inspecting program state along the way."
   ]
  },
  {
   "cell_type": "markdown",
   "metadata": {
    "slideshow": {
     "slide_type": "subslide"
    }
   },
   "source": [
    "### Low-Level Debugging Interfaces\n",
    "\n",
    "The first set of interfaces considered takes place at a _low level_, allowing access to _machine level_ features. On Linux and other UNIX-like systems, the [ptrace()](https://en.wikipedia.org/wiki/Ptrace) system call provides a means by which one process (the 'tracer') may observe and control the execution of another process (the 'tracee'), and examine and change the tracee's memory and registers.\n",
    "\n",
    "`ptrace()` is a low-level interface, which allows to step over individual machine instructions and to read raw memory. In order to map instructions back to original statements and translate memory contents to variable values, compilers can include *debugging information* in the produced binaries, which debuggers then read out during a debugging session."
   ]
  },
  {
   "attachments": {},
   "cell_type": "markdown",
   "metadata": {
    "slideshow": {
     "slide_type": "subslide"
    }
   },
   "source": [
    "### High-Level Debugging Interfaces\n",
    "\n",
    "The second set of interfaces allows to access the program's internals using the concepts of the program – i.e. variables and code locations, as Python does. The [Java Debug Interface](https://docs.oracle.com/javase/8/docs/jdk/api/jpda/jdi/) (JDI) is a _high-level interface_ for implementing a debugger (or tracer) on top of Java. [This introduction to JDI](https://www.baeldung.com/java-debug-interface) shows how to build a debugger using this interface in a few steps.\n",
    "\n",
    "For JavaScript, Mozilla's [Debugger API](https://developer.mozilla.org/en-US/docs/Tools/Debugger-API) and Google's [chrome.debugger API](https://developer.chrome.com/docs/extensions/reference/debugger/) similarly allow tracing and inspecting program execution."
   ]
  },
  {
   "cell_type": "markdown",
   "metadata": {
    "button": false,
    "new_sheet": true,
    "run_control": {
     "read_only": false
    },
    "slideshow": {
     "slide_type": "slide"
    }
   },
   "source": [
    "## Exercises\n"
   ]
  },
  {
   "cell_type": "markdown",
   "metadata": {
    "button": false,
    "new_sheet": false,
    "run_control": {
     "read_only": false
    },
    "slideshow": {
     "slide_type": "subslide"
    }
   },
   "source": [
    "### Exercise 1: Exception Handling\n",
    "\n",
    "So far, we have only seen execution of lines in individual functions. But if a function raises an exception, we also may want to catch and report this. Right now, an exception is being raised right through our tracer, interrupting the trace. "
   ]
  },
  {
   "cell_type": "code",
   "execution_count": 75,
   "metadata": {
    "execution": {
     "iopub.execute_input": "2023-01-07T16:02:15.169289Z",
     "iopub.status.busy": "2023-01-07T16:02:15.168955Z",
     "iopub.status.idle": "2023-01-07T16:02:15.171469Z",
     "shell.execute_reply": "2023-01-07T16:02:15.171943Z"
    },
    "slideshow": {
     "slide_type": "fragment"
    }
   },
   "outputs": [],
   "source": [
    "def fail() -> float:\n",
    "    return 2 / 0"
   ]
  },
  {
   "cell_type": "code",
   "execution_count": 76,
   "metadata": {
    "execution": {
     "iopub.execute_input": "2023-01-07T16:02:15.175211Z",
     "iopub.status.busy": "2023-01-07T16:02:15.174676Z",
     "iopub.status.idle": "2023-01-07T16:02:15.179500Z",
     "shell.execute_reply": "2023-01-07T16:02:15.179765Z"
    },
    "slideshow": {
     "slide_type": "subslide"
    }
   },
   "outputs": [
    {
     "name": "stdout",
     "output_type": "stream",
     "text": [
      "Calling fail()\n",
      "2     return 2 / 0\n",
      "fail() returns None\n"
     ]
    }
   ],
   "source": [
    "with Tracer():\n",
    "    try:\n",
    "        fail()\n",
    "    except Exception:\n",
    "        pass"
   ]
  },
  {
   "cell_type": "markdown",
   "metadata": {
    "button": false,
    "new_sheet": false,
    "run_control": {
     "read_only": false
    },
    "slideshow": {
     "slide_type": "subslide"
    },
    "solution2": "hidden",
    "solution2_first": true
   },
   "source": [
    "Extend the `Tracer` class (or the `EventTracer` subclasses) such that exceptions (event type `'exception'`) are properly traced, too, say as\n",
    "\n",
    "```\n",
    "fail() raises ZeroDivisionError: division by zero\n",
    "```\n",
    "\n",
    "See the Python documentation for `sys.settrace()`."
   ]
  },
  {
   "cell_type": "markdown",
   "metadata": {
    "slideshow": {
     "slide_type": "skip"
    },
    "solution2": "hidden"
   },
   "source": [
    "**Solution.** Simply extend `print_debugger_status()`:"
   ]
  },
  {
   "cell_type": "code",
   "execution_count": 77,
   "metadata": {
    "cell_style": "split",
    "execution": {
     "iopub.execute_input": "2023-01-07T16:02:15.182353Z",
     "iopub.status.busy": "2023-01-07T16:02:15.182060Z",
     "iopub.status.idle": "2023-01-07T16:02:15.183163Z",
     "shell.execute_reply": "2023-01-07T16:02:15.183397Z"
    },
    "slideshow": {
     "slide_type": "skip"
    },
    "solution2": "hidden"
   },
   "outputs": [],
   "source": [
    "class Tracer(Tracer):\n",
    "    def print_debugger_status(self, frame: FrameType, event: str, arg: Any) -> None:\n",
    "        if event == 'exception':\n",
    "            exception, value, tb = arg\n",
    "            self.log(f\"{frame.f_code.co_name}() \"\n",
    "                     f\"raises {exception.__name__}: {value}\")\n",
    "        else:\n",
    "            super().print_debugger_status(frame, event, arg)"
   ]
  },
  {
   "cell_type": "code",
   "execution_count": 78,
   "metadata": {
    "execution": {
     "iopub.execute_input": "2023-01-07T16:02:15.185016Z",
     "iopub.status.busy": "2023-01-07T16:02:15.184330Z",
     "iopub.status.idle": "2023-01-07T16:02:15.188693Z",
     "shell.execute_reply": "2023-01-07T16:02:15.188943Z"
    },
    "slideshow": {
     "slide_type": "skip"
    },
    "solution2": "hidden"
   },
   "outputs": [
    {
     "name": "stdout",
     "output_type": "stream",
     "text": [
      "Calling fail()\n",
      "2     return 2 / 0\n",
      "fail() raises ZeroDivisionError: division by zero\n",
      "fail() returns None\n"
     ]
    }
   ],
   "source": [
    "with Tracer():\n",
    "    try:\n",
    "        fail()\n",
    "    except Exception:\n",
    "        pass"
   ]
  },
  {
   "cell_type": "markdown",
   "metadata": {
    "button": false,
    "new_sheet": false,
    "run_control": {
     "read_only": false
    },
    "slideshow": {
     "slide_type": "subslide"
    }
   },
   "source": [
    "### Exercise 2: Syntax-Based Instrumentation\n",
    "\n",
    "Adding instrumentation to source code is a complicated business, notably because it is not always easy to determine where and how to instrument. If a Python line starts with \n",
    "\n",
    "```python\n",
    "if condition:\n",
    "```\n",
    "\n",
    "where should one insert code to instrument it?"
   ]
  },
  {
   "cell_type": "markdown",
   "metadata": {
    "slideshow": {
     "slide_type": "subslide"
    }
   },
   "source": [
    "A much more elegant way to instrument code is to add instrumentation _after the code has already been parsed_. Python code, like most other code, is first _parsed_ into an intermediate tree-like structure (called an *abstract syntax tree*, or *AST*). This AST can then be inspected and manipulated, before a second step compiles it into low-level instruction sequences to be executed."
   ]
  },
  {
   "cell_type": "markdown",
   "metadata": {
    "slideshow": {
     "slide_type": "fragment"
    }
   },
   "source": [
    "Let us start with an example. Here is an AST resulting from parsing a very simple piece of code:"
   ]
  },
  {
   "cell_type": "code",
   "execution_count": 79,
   "metadata": {
    "execution": {
     "iopub.execute_input": "2023-01-07T16:02:15.190848Z",
     "iopub.status.busy": "2023-01-07T16:02:15.190541Z",
     "iopub.status.idle": "2023-01-07T16:02:15.192038Z",
     "shell.execute_reply": "2023-01-07T16:02:15.192228Z"
    },
    "slideshow": {
     "slide_type": "fragment"
    }
   },
   "outputs": [],
   "source": [
    "def foo():  # type: ignore\n",
    "    ret = 2 * 2\n",
    "    return ret"
   ]
  },
  {
   "cell_type": "code",
   "execution_count": 80,
   "metadata": {
    "execution": {
     "iopub.execute_input": "2023-01-07T16:02:15.216756Z",
     "iopub.status.busy": "2023-01-07T16:02:15.216244Z",
     "iopub.status.idle": "2023-01-07T16:02:15.225174Z",
     "shell.execute_reply": "2023-01-07T16:02:15.225442Z"
    },
    "slideshow": {
     "slide_type": "subslide"
    }
   },
   "outputs": [
    {
     "name": "stdout",
     "output_type": "stream",
     "text": [
      "\u001b[34mdef\u001b[39;49;00m \u001b[32mfoo\u001b[39;49;00m():  \u001b[37m# type: ignore\u001b[39;49;00m\u001b[37m\u001b[39;49;00m\n",
      "    ret = \u001b[34m2\u001b[39;49;00m * \u001b[34m2\u001b[39;49;00m\u001b[37m\u001b[39;49;00m\n",
      "    \u001b[34mreturn\u001b[39;49;00m ret\u001b[37m\u001b[39;49;00m"
     ]
    }
   ],
   "source": [
    "source = inspect.getsource(foo)\n",
    "print_content(source, '.py')"
   ]
  },
  {
   "cell_type": "code",
   "execution_count": 81,
   "metadata": {
    "execution": {
     "iopub.execute_input": "2023-01-07T16:02:15.227207Z",
     "iopub.status.busy": "2023-01-07T16:02:15.226848Z",
     "iopub.status.idle": "2023-01-07T16:02:15.228716Z",
     "shell.execute_reply": "2023-01-07T16:02:15.228976Z"
    },
    "slideshow": {
     "slide_type": "skip"
    }
   },
   "outputs": [],
   "source": [
    "import ast"
   ]
  },
  {
   "cell_type": "code",
   "execution_count": 82,
   "metadata": {
    "execution": {
     "iopub.execute_input": "2023-01-07T16:02:15.231333Z",
     "iopub.status.busy": "2023-01-07T16:02:15.231009Z",
     "iopub.status.idle": "2023-01-07T16:02:15.232202Z",
     "shell.execute_reply": "2023-01-07T16:02:15.232406Z"
    },
    "slideshow": {
     "slide_type": "skip"
    }
   },
   "outputs": [],
   "source": [
    "from bookutils import show_ast"
   ]
  },
  {
   "cell_type": "code",
   "execution_count": 83,
   "metadata": {
    "execution": {
     "iopub.execute_input": "2023-01-07T16:02:15.234290Z",
     "iopub.status.busy": "2023-01-07T16:02:15.233961Z",
     "iopub.status.idle": "2023-01-07T16:02:15.235231Z",
     "shell.execute_reply": "2023-01-07T16:02:15.235423Z"
    },
    "slideshow": {
     "slide_type": "fragment"
    }
   },
   "outputs": [],
   "source": [
    "tree = ast.parse(source)"
   ]
  },
  {
   "cell_type": "code",
   "execution_count": 84,
   "metadata": {
    "execution": {
     "iopub.execute_input": "2023-01-07T16:02:15.237210Z",
     "iopub.status.busy": "2023-01-07T16:02:15.236884Z",
     "iopub.status.idle": "2023-01-07T16:02:15.512152Z",
     "shell.execute_reply": "2023-01-07T16:02:15.512479Z"
    },
    "slideshow": {
     "slide_type": "fragment"
    }
   },
   "outputs": [
    {
     "data": {
      "image/svg+xml": [
       "<svg xmlns=\"http://www.w3.org/2000/svg\" xmlns:xlink=\"http://www.w3.org/1999/xlink\" width=\"566pt\" height=\"332pt\" viewBox=\"0.00 0.00 566.00 332.00\">\n",
       "<g id=\"graph0\" class=\"graph\" transform=\"scale(1 1) rotate(0) translate(4 328)\">\n",
       "<polygon fill=\"white\" stroke=\"none\" points=\"-4,4 -4,-328 562,-328 562,4 -4,4\"/>\n",
       "<!-- 0 -->\n",
       "<g id=\"node1\" class=\"node\">\n",
       "<title>0</title>\n",
       "<text text-anchor=\"start\" x=\"186.5\" y=\"-303.3\" font-family=\"Courier,monospace\" font-weight=\"bold\" font-size=\"14.00\" fill=\"#004080\">FunctionDef</text>\n",
       "</g>\n",
       "<!-- 1 -->\n",
       "<g id=\"node2\" class=\"node\">\n",
       "<title>1</title>\n",
       "<text text-anchor=\"middle\" x=\"91\" y=\"-230.3\" font-family=\"Courier,monospace\" font-size=\"14.00\" fill=\"#008040\">&quot;foo&quot;</text>\n",
       "</g>\n",
       "<!-- 0&#45;&#45;1 -->\n",
       "<g id=\"edge1\" class=\"edge\">\n",
       "<title>0--1</title>\n",
       "<path fill=\"none\" stroke=\"black\" d=\"M232,-287C232,-287 174,-269.67 129,-252 126.04,-250.84 122.97,-249.57 119.93,-248.28\"/>\n",
       "</g>\n",
       "<!-- 2 -->\n",
       "<g id=\"node3\" class=\"node\">\n",
       "<title>2</title>\n",
       "<text text-anchor=\"middle\" x=\"184\" y=\"-230.3\" font-family=\"Courier,monospace\" font-size=\"14.00\" fill=\"#008040\">arguments</text>\n",
       "</g>\n",
       "<!-- 0&#45;&#45;2 -->\n",
       "<g id=\"edge2\" class=\"edge\">\n",
       "<title>0--2</title>\n",
       "<path fill=\"none\" stroke=\"black\" d=\"M232,-287C232,-287 213.48,-266.94 199.45,-251.74\"/>\n",
       "</g>\n",
       "<!-- 3 -->\n",
       "<g id=\"node4\" class=\"node\">\n",
       "<title>3</title>\n",
       "<text text-anchor=\"start\" x=\"256\" y=\"-231.3\" font-family=\"Courier,monospace\" font-weight=\"bold\" font-size=\"14.00\" fill=\"#004080\">Assign</text>\n",
       "</g>\n",
       "<!-- 0&#45;&#45;3 -->\n",
       "<g id=\"edge3\" class=\"edge\">\n",
       "<title>0--3</title>\n",
       "<path fill=\"none\" stroke=\"black\" d=\"M232,-287C232,-287 250.9,-266.94 265.23,-251.74\"/>\n",
       "</g>\n",
       "<!-- 13 -->\n",
       "<g id=\"node14\" class=\"node\">\n",
       "<title>13</title>\n",
       "<text text-anchor=\"start\" x=\"386\" y=\"-231.3\" font-family=\"Courier,monospace\" font-weight=\"bold\" font-size=\"14.00\" fill=\"#004080\">Return</text>\n",
       "</g>\n",
       "<!-- 0&#45;&#45;13 -->\n",
       "<g id=\"edge13\" class=\"edge\">\n",
       "<title>0--13</title>\n",
       "<path fill=\"none\" stroke=\"black\" d=\"M232,-287C232,-287 326.49,-259.55 378.17,-244.54\"/>\n",
       "</g>\n",
       "<!-- 4 -->\n",
       "<g id=\"node5\" class=\"node\">\n",
       "<title>4</title>\n",
       "<text text-anchor=\"start\" x=\"88\" y=\"-159.3\" font-family=\"Courier,monospace\" font-weight=\"bold\" font-size=\"14.00\" fill=\"#004080\">Name</text>\n",
       "</g>\n",
       "<!-- 3&#45;&#45;4 -->\n",
       "<g id=\"edge4\" class=\"edge\">\n",
       "<title>3--4</title>\n",
       "<path fill=\"none\" stroke=\"black\" d=\"M269,-215C269,-215 178.19,-186.21 131.71,-171.47\"/>\n",
       "</g>\n",
       "<!-- 7 -->\n",
       "<g id=\"node8\" class=\"node\">\n",
       "<title>7</title>\n",
       "<text text-anchor=\"start\" x=\"260\" y=\"-159.3\" font-family=\"Courier,monospace\" font-weight=\"bold\" font-size=\"14.00\" fill=\"#004080\">BinOp</text>\n",
       "</g>\n",
       "<!-- 3&#45;&#45;7 -->\n",
       "<g id=\"edge7\" class=\"edge\">\n",
       "<title>3--7</title>\n",
       "<path fill=\"none\" stroke=\"black\" d=\"M269,-215C269,-215 273.63,-194.94 277.14,-179.74\"/>\n",
       "</g>\n",
       "<!-- 5 -->\n",
       "<g id=\"node6\" class=\"node\">\n",
       "<title>5</title>\n",
       "<text text-anchor=\"middle\" x=\"29\" y=\"-86.3\" font-family=\"Courier,monospace\" font-size=\"14.00\" fill=\"#008040\">&quot;ret&quot;</text>\n",
       "</g>\n",
       "<!-- 4&#45;&#45;5 -->\n",
       "<g id=\"edge5\" class=\"edge\">\n",
       "<title>4--5</title>\n",
       "<path fill=\"none\" stroke=\"black\" d=\"M97,-143C97,-143 70.77,-122.94 50.89,-107.74\"/>\n",
       "</g>\n",
       "<!-- 6 -->\n",
       "<g id=\"node7\" class=\"node\">\n",
       "<title>6</title>\n",
       "<text text-anchor=\"middle\" x=\"105\" y=\"-86.3\" font-family=\"Courier,monospace\" font-size=\"14.00\" fill=\"#008040\">Store</text>\n",
       "</g>\n",
       "<!-- 4&#45;&#45;6 -->\n",
       "<g id=\"edge6\" class=\"edge\">\n",
       "<title>4--6</title>\n",
       "<path fill=\"none\" stroke=\"black\" d=\"M97,-143C97,-143 100.09,-122.94 102.42,-107.74\"/>\n",
       "</g>\n",
       "<!-- 8 -->\n",
       "<g id=\"node9\" class=\"node\">\n",
       "<title>8</title>\n",
       "<text text-anchor=\"start\" x=\"160.5\" y=\"-87.3\" font-family=\"Courier,monospace\" font-weight=\"bold\" font-size=\"14.00\" fill=\"#004080\">Constant</text>\n",
       "</g>\n",
       "<!-- 7&#45;&#45;8 -->\n",
       "<g id=\"edge8\" class=\"edge\">\n",
       "<title>7--8</title>\n",
       "<path fill=\"none\" stroke=\"black\" d=\"M281,-143C281,-143 247.44,-122.94 222.01,-107.74\"/>\n",
       "</g>\n",
       "<!-- 10 -->\n",
       "<g id=\"node11\" class=\"node\">\n",
       "<title>10</title>\n",
       "<text text-anchor=\"middle\" x=\"281\" y=\"-86.3\" font-family=\"Courier,monospace\" font-size=\"14.00\" fill=\"#008040\">Mult</text>\n",
       "</g>\n",
       "<!-- 7&#45;&#45;10 -->\n",
       "<g id=\"edge10\" class=\"edge\">\n",
       "<title>7--10</title>\n",
       "<path fill=\"none\" stroke=\"black\" d=\"M281,-143C281,-143 281,-122.94 281,-107.74\"/>\n",
       "</g>\n",
       "<!-- 11 -->\n",
       "<g id=\"node12\" class=\"node\">\n",
       "<title>11</title>\n",
       "<text text-anchor=\"start\" x=\"334.5\" y=\"-87.3\" font-family=\"Courier,monospace\" font-weight=\"bold\" font-size=\"14.00\" fill=\"#004080\">Constant</text>\n",
       "</g>\n",
       "<!-- 7&#45;&#45;11 -->\n",
       "<g id=\"edge11\" class=\"edge\">\n",
       "<title>7--11</title>\n",
       "<path fill=\"none\" stroke=\"black\" d=\"M281,-143C281,-143 314.56,-122.94 339.99,-107.74\"/>\n",
       "</g>\n",
       "<!-- 9 -->\n",
       "<g id=\"node10\" class=\"node\">\n",
       "<title>9</title>\n",
       "<text text-anchor=\"middle\" x=\"194\" y=\"-14.3\" font-family=\"Courier,monospace\" font-size=\"14.00\" fill=\"#008040\">2</text>\n",
       "</g>\n",
       "<!-- 8&#45;&#45;9 -->\n",
       "<g id=\"edge9\" class=\"edge\">\n",
       "<title>8--9</title>\n",
       "<path fill=\"none\" stroke=\"black\" d=\"M194,-72.05C194,-61.05 194,-46.76 194,-35.79\"/>\n",
       "</g>\n",
       "<!-- 12 -->\n",
       "<g id=\"node13\" class=\"node\">\n",
       "<title>12</title>\n",
       "<text text-anchor=\"middle\" x=\"368\" y=\"-14.3\" font-family=\"Courier,monospace\" font-size=\"14.00\" fill=\"#008040\">2</text>\n",
       "</g>\n",
       "<!-- 11&#45;&#45;12 -->\n",
       "<g id=\"edge12\" class=\"edge\">\n",
       "<title>11--12</title>\n",
       "<path fill=\"none\" stroke=\"black\" d=\"M368,-72.05C368,-61.05 368,-46.76 368,-35.79\"/>\n",
       "</g>\n",
       "<!-- 14 -->\n",
       "<g id=\"node15\" class=\"node\">\n",
       "<title>14</title>\n",
       "<text text-anchor=\"start\" x=\"440\" y=\"-159.3\" font-family=\"Courier,monospace\" font-weight=\"bold\" font-size=\"14.00\" fill=\"#004080\">Name</text>\n",
       "</g>\n",
       "<!-- 13&#45;&#45;14 -->\n",
       "<g id=\"edge14\" class=\"edge\">\n",
       "<title>13--14</title>\n",
       "<path fill=\"none\" stroke=\"black\" d=\"M422.14,-216.05C429.37,-205.05 438.76,-190.76 445.97,-179.79\"/>\n",
       "</g>\n",
       "<!-- 15 -->\n",
       "<g id=\"node16\" class=\"node\">\n",
       "<title>15</title>\n",
       "<text text-anchor=\"middle\" x=\"457\" y=\"-86.3\" font-family=\"Courier,monospace\" font-size=\"14.00\" fill=\"#008040\">&quot;ret&quot;</text>\n",
       "</g>\n",
       "<!-- 14&#45;&#45;15 -->\n",
       "<g id=\"edge15\" class=\"edge\">\n",
       "<title>14--15</title>\n",
       "<path fill=\"none\" stroke=\"black\" d=\"M465,-143C465,-143 461.91,-122.94 459.58,-107.74\"/>\n",
       "</g>\n",
       "<!-- 16 -->\n",
       "<g id=\"node17\" class=\"node\">\n",
       "<title>16</title>\n",
       "<text text-anchor=\"middle\" x=\"531\" y=\"-86.3\" font-family=\"Courier,monospace\" font-size=\"14.00\" fill=\"#008040\">Load</text>\n",
       "</g>\n",
       "<!-- 14&#45;&#45;16 -->\n",
       "<g id=\"edge16\" class=\"edge\">\n",
       "<title>14--16</title>\n",
       "<path fill=\"none\" stroke=\"black\" d=\"M465,-143C465,-143 490.46,-122.94 509.75,-107.74\"/>\n",
       "</g>\n",
       "</g>\n",
       "</svg>"
      ],
      "text/plain": [
       "<IPython.core.display.SVG object>"
      ]
     },
     "metadata": {},
     "output_type": "display_data"
    }
   ],
   "source": [
    "show_ast(tree)"
   ]
  },
  {
   "cell_type": "markdown",
   "metadata": {
    "slideshow": {
     "slide_type": "fragment"
    }
   },
   "source": [
    "You see that the function `foo()` has a `FunctionDef` node with four children: The function name (`\"foo\"`), its arguments (`arguments`; currently empty), followed by the statements that make the function body – `Assign` for the assignment, `Return` for the `return` statement."
   ]
  },
  {
   "cell_type": "markdown",
   "metadata": {
    "slideshow": {
     "slide_type": "subslide"
    }
   },
   "source": [
    "We obtain and manipulate the AST through the Python `ast` module. The [official Python `ast` reference](http://docs.python.org/3/library/ast) is complete, but a bit brief; the documentation [\"Green Tree Snakes - the missing Python AST docs\"](https://greentreesnakes.readthedocs.io/en/latest/) provides an excellent introduction."
   ]
  },
  {
   "cell_type": "markdown",
   "metadata": {
    "slideshow": {
     "slide_type": "fragment"
    }
   },
   "source": [
    "To instrument the above code, we need to insert a new statement as a child to `FunctionDef` node."
   ]
  },
  {
   "cell_type": "code",
   "execution_count": 85,
   "metadata": {
    "execution": {
     "iopub.execute_input": "2023-01-07T16:02:15.515246Z",
     "iopub.status.busy": "2023-01-07T16:02:15.514755Z",
     "iopub.status.idle": "2023-01-07T16:02:15.516277Z",
     "shell.execute_reply": "2023-01-07T16:02:15.516545Z"
    },
    "slideshow": {
     "slide_type": "skip"
    }
   },
   "outputs": [],
   "source": [
    "from ast import NodeTransformer, FunctionDef, fix_missing_locations, AST, Module"
   ]
  },
  {
   "cell_type": "markdown",
   "metadata": {
    "slideshow": {
     "slide_type": "fragment"
    }
   },
   "source": [
    "Here's the code we want to inject:"
   ]
  },
  {
   "cell_type": "code",
   "execution_count": 86,
   "metadata": {
    "execution": {
     "iopub.execute_input": "2023-01-07T16:02:15.518775Z",
     "iopub.status.busy": "2023-01-07T16:02:15.518420Z",
     "iopub.status.idle": "2023-01-07T16:02:15.519990Z",
     "shell.execute_reply": "2023-01-07T16:02:15.520321Z"
    },
    "slideshow": {
     "slide_type": "fragment"
    }
   },
   "outputs": [],
   "source": [
    "subtree_to_be_injected: AST = ast.parse(\"print('entering function')\")"
   ]
  },
  {
   "cell_type": "code",
   "execution_count": 87,
   "metadata": {
    "execution": {
     "iopub.execute_input": "2023-01-07T16:02:15.522591Z",
     "iopub.status.busy": "2023-01-07T16:02:15.522115Z",
     "iopub.status.idle": "2023-01-07T16:02:15.801835Z",
     "shell.execute_reply": "2023-01-07T16:02:15.802090Z"
    },
    "slideshow": {
     "slide_type": "fragment"
    }
   },
   "outputs": [
    {
     "data": {
      "image/svg+xml": [
       "<svg xmlns=\"http://www.w3.org/2000/svg\" xmlns:xlink=\"http://www.w3.org/1999/xlink\" width=\"346pt\" height=\"260pt\" viewBox=\"0.00 0.00 345.50 260.00\">\n",
       "<g id=\"graph0\" class=\"graph\" transform=\"scale(1 1) rotate(0) translate(4 256)\">\n",
       "<polygon fill=\"white\" stroke=\"none\" points=\"-4,4 -4,-256 341.5,-256 341.5,4 -4,4\"/>\n",
       "<!-- 0 -->\n",
       "<g id=\"node1\" class=\"node\">\n",
       "<title>0</title>\n",
       "<text text-anchor=\"start\" x=\"145\" y=\"-231.3\" font-family=\"Courier,monospace\" font-weight=\"bold\" font-size=\"14.00\" fill=\"#004080\">Expr</text>\n",
       "</g>\n",
       "<!-- 1 -->\n",
       "<g id=\"node2\" class=\"node\">\n",
       "<title>1</title>\n",
       "<text text-anchor=\"start\" x=\"145\" y=\"-159.3\" font-family=\"Courier,monospace\" font-weight=\"bold\" font-size=\"14.00\" fill=\"#004080\">Call</text>\n",
       "</g>\n",
       "<!-- 0&#45;&#45;1 -->\n",
       "<g id=\"edge1\" class=\"edge\">\n",
       "<title>0--1</title>\n",
       "<path fill=\"none\" stroke=\"black\" d=\"M162,-216.05C162,-205.05 162,-190.76 162,-179.79\"/>\n",
       "</g>\n",
       "<!-- 2 -->\n",
       "<g id=\"node3\" class=\"node\">\n",
       "<title>2</title>\n",
       "<text text-anchor=\"start\" x=\"102\" y=\"-87.3\" font-family=\"Courier,monospace\" font-weight=\"bold\" font-size=\"14.00\" fill=\"#004080\">Name</text>\n",
       "</g>\n",
       "<!-- 1&#45;&#45;2 -->\n",
       "<g id=\"edge2\" class=\"edge\">\n",
       "<title>1--2</title>\n",
       "<path fill=\"none\" stroke=\"black\" d=\"M164,-143C164,-143 146.64,-122.94 133.49,-107.74\"/>\n",
       "</g>\n",
       "<!-- 5 -->\n",
       "<g id=\"node6\" class=\"node\">\n",
       "<title>5</title>\n",
       "<text text-anchor=\"start\" x=\"194.5\" y=\"-87.3\" font-family=\"Courier,monospace\" font-weight=\"bold\" font-size=\"14.00\" fill=\"#004080\">Constant</text>\n",
       "</g>\n",
       "<!-- 1&#45;&#45;5 -->\n",
       "<g id=\"edge5\" class=\"edge\">\n",
       "<title>1--5</title>\n",
       "<path fill=\"none\" stroke=\"black\" d=\"M164,-143C164,-143 188.69,-122.94 207.4,-107.74\"/>\n",
       "</g>\n",
       "<!-- 3 -->\n",
       "<g id=\"node4\" class=\"node\">\n",
       "<title>3</title>\n",
       "<text text-anchor=\"middle\" x=\"37\" y=\"-14.3\" font-family=\"Courier,monospace\" font-size=\"14.00\" fill=\"#008040\">&quot;print&quot;</text>\n",
       "</g>\n",
       "<!-- 2&#45;&#45;3 -->\n",
       "<g id=\"edge3\" class=\"edge\">\n",
       "<title>2--3</title>\n",
       "<path fill=\"none\" stroke=\"black\" d=\"M111,-71C111,-71 82.45,-50.94 60.82,-35.74\"/>\n",
       "</g>\n",
       "<!-- 4 -->\n",
       "<g id=\"node5\" class=\"node\">\n",
       "<title>4</title>\n",
       "<text text-anchor=\"middle\" x=\"119\" y=\"-14.3\" font-family=\"Courier,monospace\" font-size=\"14.00\" fill=\"#008040\">Load</text>\n",
       "</g>\n",
       "<!-- 2&#45;&#45;4 -->\n",
       "<g id=\"edge4\" class=\"edge\">\n",
       "<title>2--4</title>\n",
       "<path fill=\"none\" stroke=\"black\" d=\"M111,-71C111,-71 114.09,-50.94 116.42,-35.74\"/>\n",
       "</g>\n",
       "<!-- 6 -->\n",
       "<g id=\"node7\" class=\"node\">\n",
       "<title>6</title>\n",
       "<text text-anchor=\"middle\" x=\"251\" y=\"-14.3\" font-family=\"Courier,monospace\" font-size=\"14.00\" fill=\"#008040\">&quot;entering function&quot;</text>\n",
       "</g>\n",
       "<!-- 5&#45;&#45;6 -->\n",
       "<g id=\"edge6\" class=\"edge\">\n",
       "<title>5--6</title>\n",
       "<path fill=\"none\" stroke=\"black\" d=\"M233.57,-72.05C237.18,-61.05 241.88,-46.76 245.48,-35.79\"/>\n",
       "</g>\n",
       "</g>\n",
       "</svg>"
      ],
      "text/plain": [
       "<IPython.core.display.SVG object>"
      ]
     },
     "metadata": {},
     "output_type": "display_data"
    }
   ],
   "source": [
    "show_ast(subtree_to_be_injected)"
   ]
  },
  {
   "cell_type": "markdown",
   "metadata": {
    "slideshow": {
     "slide_type": "fragment"
    }
   },
   "source": [
    "The root of an `ast.parse()` tree actually is a `Module` node; we go directly to its child, which is the `Expr` node we want to inject."
   ]
  },
  {
   "cell_type": "code",
   "execution_count": 88,
   "metadata": {
    "execution": {
     "iopub.execute_input": "2023-01-07T16:02:15.804462Z",
     "iopub.status.busy": "2023-01-07T16:02:15.804074Z",
     "iopub.status.idle": "2023-01-07T16:02:15.805304Z",
     "shell.execute_reply": "2023-01-07T16:02:15.805535Z"
    },
    "slideshow": {
     "slide_type": "fragment"
    }
   },
   "outputs": [],
   "source": [
    "subtree_to_be_injected = cast(Module, subtree_to_be_injected).body[0]"
   ]
  },
  {
   "cell_type": "markdown",
   "metadata": {
    "slideshow": {
     "slide_type": "subslide"
    }
   },
   "source": [
    "To inject the code, we use the `NodeTransformer` class as described in the Python `ast` documentation. We vist all function definitions (`FunctionDef`) and replace them with a new function definition in which the `body` gets an additional child – namely our subtree to be injected."
   ]
  },
  {
   "cell_type": "code",
   "execution_count": 89,
   "metadata": {
    "execution": {
     "iopub.execute_input": "2023-01-07T16:02:15.808067Z",
     "iopub.status.busy": "2023-01-07T16:02:15.807649Z",
     "iopub.status.idle": "2023-01-07T16:02:15.809073Z",
     "shell.execute_reply": "2023-01-07T16:02:15.809315Z"
    },
    "slideshow": {
     "slide_type": "fragment"
    }
   },
   "outputs": [],
   "source": [
    "class InjectPass(NodeTransformer):\n",
    "    def visit_FunctionDef(self, node: FunctionDef) -> AST:\n",
    "        return FunctionDef(\n",
    "            name=node.name,\n",
    "            args=node.args,\n",
    "            body=[subtree_to_be_injected] + node.body,\n",
    "            decorator_list=node.decorator_list,\n",
    "            returns=node.returns\n",
    "        )"
   ]
  },
  {
   "cell_type": "code",
   "execution_count": 90,
   "metadata": {
    "execution": {
     "iopub.execute_input": "2023-01-07T16:02:15.811533Z",
     "iopub.status.busy": "2023-01-07T16:02:15.811129Z",
     "iopub.status.idle": "2023-01-07T16:02:15.812355Z",
     "shell.execute_reply": "2023-01-07T16:02:15.812594Z"
    },
    "slideshow": {
     "slide_type": "fragment"
    }
   },
   "outputs": [],
   "source": [
    "new_tree = fix_missing_locations(InjectPass().visit(tree))"
   ]
  },
  {
   "cell_type": "markdown",
   "metadata": {
    "slideshow": {
     "slide_type": "subslide"
    }
   },
   "source": [
    "This is what our new tree looks like:"
   ]
  },
  {
   "cell_type": "code",
   "execution_count": 91,
   "metadata": {
    "execution": {
     "iopub.execute_input": "2023-01-07T16:02:15.814607Z",
     "iopub.status.busy": "2023-01-07T16:02:15.814275Z",
     "iopub.status.idle": "2023-01-07T16:02:16.098766Z",
     "shell.execute_reply": "2023-01-07T16:02:16.098969Z"
    },
    "slideshow": {
     "slide_type": "fragment"
    }
   },
   "outputs": [
    {
     "data": {
      "image/svg+xml": [
       "<svg xmlns=\"http://www.w3.org/2000/svg\" xmlns:xlink=\"http://www.w3.org/1999/xlink\" width=\"854pt\" height=\"332pt\" viewBox=\"0.00 0.00 854.00 332.00\">\n",
       "<g id=\"graph0\" class=\"graph\" transform=\"scale(1 1) rotate(0) translate(4 328)\">\n",
       "<polygon fill=\"white\" stroke=\"none\" points=\"-4,4 -4,-328 850,-328 850,4 -4,4\"/>\n",
       "<!-- 0 -->\n",
       "<g id=\"node1\" class=\"node\">\n",
       "<title>0</title>\n",
       "<text text-anchor=\"start\" x=\"313.5\" y=\"-303.3\" font-family=\"Courier,monospace\" font-weight=\"bold\" font-size=\"14.00\" fill=\"#004080\">FunctionDef</text>\n",
       "</g>\n",
       "<!-- 1 -->\n",
       "<g id=\"node2\" class=\"node\">\n",
       "<title>1</title>\n",
       "<text text-anchor=\"middle\" x=\"175\" y=\"-230.3\" font-family=\"Courier,monospace\" font-size=\"14.00\" fill=\"#008040\">&quot;foo&quot;</text>\n",
       "</g>\n",
       "<!-- 0&#45;&#45;1 -->\n",
       "<g id=\"edge1\" class=\"edge\">\n",
       "<title>0--1</title>\n",
       "<path fill=\"none\" stroke=\"black\" d=\"M359,-287C359,-287 276.17,-273.49 213,-252 209.99,-250.98 206.89,-249.8 203.82,-248.56\"/>\n",
       "</g>\n",
       "<!-- 2 -->\n",
       "<g id=\"node3\" class=\"node\">\n",
       "<title>2</title>\n",
       "<text text-anchor=\"middle\" x=\"268\" y=\"-230.3\" font-family=\"Courier,monospace\" font-size=\"14.00\" fill=\"#008040\">arguments</text>\n",
       "</g>\n",
       "<!-- 0&#45;&#45;2 -->\n",
       "<g id=\"edge2\" class=\"edge\">\n",
       "<title>0--2</title>\n",
       "<path fill=\"none\" stroke=\"black\" d=\"M359,-287C359,-287 324.12,-267.07 297.55,-251.88\"/>\n",
       "</g>\n",
       "<!-- 3 -->\n",
       "<g id=\"node4\" class=\"node\">\n",
       "<title>3</title>\n",
       "<text text-anchor=\"start\" x=\"342\" y=\"-231.3\" font-family=\"Courier,monospace\" font-weight=\"bold\" font-size=\"14.00\" fill=\"#004080\">Expr</text>\n",
       "</g>\n",
       "<!-- 0&#45;&#45;3 -->\n",
       "<g id=\"edge3\" class=\"edge\">\n",
       "<title>0--3</title>\n",
       "<path fill=\"none\" stroke=\"black\" d=\"M359,-287C359,-287 359,-266.94 359,-251.74\"/>\n",
       "</g>\n",
       "<!-- 10 -->\n",
       "<g id=\"node11\" class=\"node\">\n",
       "<title>10</title>\n",
       "<text text-anchor=\"start\" x=\"412\" y=\"-231.3\" font-family=\"Courier,monospace\" font-weight=\"bold\" font-size=\"14.00\" fill=\"#004080\">Assign</text>\n",
       "</g>\n",
       "<!-- 0&#45;&#45;10 -->\n",
       "<g id=\"edge10\" class=\"edge\">\n",
       "<title>0--10</title>\n",
       "<path fill=\"none\" stroke=\"black\" d=\"M359,-287C359,-287 389.09,-266.94 411.89,-251.74\"/>\n",
       "</g>\n",
       "<!-- 20 -->\n",
       "<g id=\"node21\" class=\"node\">\n",
       "<title>20</title>\n",
       "<text text-anchor=\"start\" x=\"608\" y=\"-231.3\" font-family=\"Courier,monospace\" font-weight=\"bold\" font-size=\"14.00\" fill=\"#004080\">Return</text>\n",
       "</g>\n",
       "<!-- 0&#45;&#45;20 -->\n",
       "<g id=\"edge20\" class=\"edge\">\n",
       "<title>0--20</title>\n",
       "<path fill=\"none\" stroke=\"black\" d=\"M359,-287C359,-287 527.49,-255.02 600.22,-241.22\"/>\n",
       "</g>\n",
       "<!-- 4 -->\n",
       "<g id=\"node5\" class=\"node\">\n",
       "<title>4</title>\n",
       "<text text-anchor=\"start\" x=\"211\" y=\"-159.3\" font-family=\"Courier,monospace\" font-weight=\"bold\" font-size=\"14.00\" fill=\"#004080\">Call</text>\n",
       "</g>\n",
       "<!-- 3&#45;&#45;4 -->\n",
       "<g id=\"edge4\" class=\"edge\">\n",
       "<title>3--4</title>\n",
       "<path fill=\"none\" stroke=\"black\" d=\"M332.17,-218.67C309.57,-206.59 277.39,-189.39 254.79,-177.32\"/>\n",
       "</g>\n",
       "<!-- 5 -->\n",
       "<g id=\"node6\" class=\"node\">\n",
       "<title>5</title>\n",
       "<text text-anchor=\"start\" x=\"102\" y=\"-87.3\" font-family=\"Courier,monospace\" font-weight=\"bold\" font-size=\"14.00\" fill=\"#004080\">Name</text>\n",
       "</g>\n",
       "<!-- 4&#45;&#45;5 -->\n",
       "<g id=\"edge5\" class=\"edge\">\n",
       "<title>4--5</title>\n",
       "<path fill=\"none\" stroke=\"black\" d=\"M218,-143C218,-143 175.11,-120.47 145.79,-105.07\"/>\n",
       "</g>\n",
       "<!-- 8 -->\n",
       "<g id=\"node9\" class=\"node\">\n",
       "<title>8</title>\n",
       "<text text-anchor=\"start\" x=\"194.5\" y=\"-87.3\" font-family=\"Courier,monospace\" font-weight=\"bold\" font-size=\"14.00\" fill=\"#004080\">Constant</text>\n",
       "</g>\n",
       "<!-- 4&#45;&#45;8 -->\n",
       "<g id=\"edge8\" class=\"edge\">\n",
       "<title>4--8</title>\n",
       "<path fill=\"none\" stroke=\"black\" d=\"M218,-143C218,-143 221.86,-122.94 224.78,-107.74\"/>\n",
       "</g>\n",
       "<!-- 6 -->\n",
       "<g id=\"node7\" class=\"node\">\n",
       "<title>6</title>\n",
       "<text text-anchor=\"middle\" x=\"37\" y=\"-14.3\" font-family=\"Courier,monospace\" font-size=\"14.00\" fill=\"#008040\">&quot;print&quot;</text>\n",
       "</g>\n",
       "<!-- 5&#45;&#45;6 -->\n",
       "<g id=\"edge6\" class=\"edge\">\n",
       "<title>5--6</title>\n",
       "<path fill=\"none\" stroke=\"black\" d=\"M111,-71C111,-71 82.45,-50.94 60.82,-35.74\"/>\n",
       "</g>\n",
       "<!-- 7 -->\n",
       "<g id=\"node8\" class=\"node\">\n",
       "<title>7</title>\n",
       "<text text-anchor=\"middle\" x=\"119\" y=\"-14.3\" font-family=\"Courier,monospace\" font-size=\"14.00\" fill=\"#008040\">Load</text>\n",
       "</g>\n",
       "<!-- 5&#45;&#45;7 -->\n",
       "<g id=\"edge7\" class=\"edge\">\n",
       "<title>5--7</title>\n",
       "<path fill=\"none\" stroke=\"black\" d=\"M111,-71C111,-71 114.09,-50.94 116.42,-35.74\"/>\n",
       "</g>\n",
       "<!-- 9 -->\n",
       "<g id=\"node10\" class=\"node\">\n",
       "<title>9</title>\n",
       "<text text-anchor=\"middle\" x=\"251\" y=\"-14.3\" font-family=\"Courier,monospace\" font-size=\"14.00\" fill=\"#008040\">&quot;entering function&quot;</text>\n",
       "</g>\n",
       "<!-- 8&#45;&#45;9 -->\n",
       "<g id=\"edge9\" class=\"edge\">\n",
       "<title>8--9</title>\n",
       "<path fill=\"none\" stroke=\"black\" d=\"M233.57,-72.05C237.18,-61.05 241.88,-46.76 245.48,-35.79\"/>\n",
       "</g>\n",
       "<!-- 11 -->\n",
       "<g id=\"node12\" class=\"node\">\n",
       "<title>11</title>\n",
       "<text text-anchor=\"start\" x=\"376\" y=\"-159.3\" font-family=\"Courier,monospace\" font-weight=\"bold\" font-size=\"14.00\" fill=\"#004080\">Name</text>\n",
       "</g>\n",
       "<!-- 10&#45;&#45;11 -->\n",
       "<g id=\"edge11\" class=\"edge\">\n",
       "<title>10--11</title>\n",
       "<path fill=\"none\" stroke=\"black\" d=\"M440,-215C440,-215 421.87,-194.94 408.13,-179.74\"/>\n",
       "</g>\n",
       "<!-- 14 -->\n",
       "<g id=\"node15\" class=\"node\">\n",
       "<title>14</title>\n",
       "<text text-anchor=\"start\" x=\"504\" y=\"-159.3\" font-family=\"Courier,monospace\" font-weight=\"bold\" font-size=\"14.00\" fill=\"#004080\">BinOp</text>\n",
       "</g>\n",
       "<!-- 10&#45;&#45;14 -->\n",
       "<g id=\"edge14\" class=\"edge\">\n",
       "<title>10--14</title>\n",
       "<path fill=\"none\" stroke=\"black\" d=\"M440,-215C440,-215 472.79,-194.94 497.64,-179.74\"/>\n",
       "</g>\n",
       "<!-- 12 -->\n",
       "<g id=\"node13\" class=\"node\">\n",
       "<title>12</title>\n",
       "<text text-anchor=\"middle\" x=\"317\" y=\"-86.3\" font-family=\"Courier,monospace\" font-size=\"14.00\" fill=\"#008040\">&quot;ret&quot;</text>\n",
       "</g>\n",
       "<!-- 11&#45;&#45;12 -->\n",
       "<g id=\"edge12\" class=\"edge\">\n",
       "<title>11--12</title>\n",
       "<path fill=\"none\" stroke=\"black\" d=\"M385,-143C385,-143 358.77,-122.94 338.89,-107.74\"/>\n",
       "</g>\n",
       "<!-- 13 -->\n",
       "<g id=\"node14\" class=\"node\">\n",
       "<title>13</title>\n",
       "<text text-anchor=\"middle\" x=\"393\" y=\"-86.3\" font-family=\"Courier,monospace\" font-size=\"14.00\" fill=\"#008040\">Store</text>\n",
       "</g>\n",
       "<!-- 11&#45;&#45;13 -->\n",
       "<g id=\"edge13\" class=\"edge\">\n",
       "<title>11--13</title>\n",
       "<path fill=\"none\" stroke=\"black\" d=\"M385,-143C385,-143 388.09,-122.94 390.42,-107.74\"/>\n",
       "</g>\n",
       "<!-- 15 -->\n",
       "<g id=\"node16\" class=\"node\">\n",
       "<title>15</title>\n",
       "<text text-anchor=\"start\" x=\"448.5\" y=\"-87.3\" font-family=\"Courier,monospace\" font-weight=\"bold\" font-size=\"14.00\" fill=\"#004080\">Constant</text>\n",
       "</g>\n",
       "<!-- 14&#45;&#45;15 -->\n",
       "<g id=\"edge15\" class=\"edge\">\n",
       "<title>14--15</title>\n",
       "<path fill=\"none\" stroke=\"black\" d=\"M532,-143C532,-143 512.71,-122.94 498.1,-107.74\"/>\n",
       "</g>\n",
       "<!-- 17 -->\n",
       "<g id=\"node18\" class=\"node\">\n",
       "<title>17</title>\n",
       "<text text-anchor=\"middle\" x=\"569\" y=\"-86.3\" font-family=\"Courier,monospace\" font-size=\"14.00\" fill=\"#008040\">Mult</text>\n",
       "</g>\n",
       "<!-- 14&#45;&#45;17 -->\n",
       "<g id=\"edge17\" class=\"edge\">\n",
       "<title>14--17</title>\n",
       "<path fill=\"none\" stroke=\"black\" d=\"M532,-143C532,-143 546.27,-122.94 557.09,-107.74\"/>\n",
       "</g>\n",
       "<!-- 18 -->\n",
       "<g id=\"node19\" class=\"node\">\n",
       "<title>18</title>\n",
       "<text text-anchor=\"start\" x=\"622.5\" y=\"-87.3\" font-family=\"Courier,monospace\" font-weight=\"bold\" font-size=\"14.00\" fill=\"#004080\">Constant</text>\n",
       "</g>\n",
       "<!-- 14&#45;&#45;18 -->\n",
       "<g id=\"edge18\" class=\"edge\">\n",
       "<title>14--18</title>\n",
       "<path fill=\"none\" stroke=\"black\" d=\"M532,-143C532,-143 579.53,-123.07 615.74,-107.88\"/>\n",
       "</g>\n",
       "<!-- 16 -->\n",
       "<g id=\"node17\" class=\"node\">\n",
       "<title>16</title>\n",
       "<text text-anchor=\"middle\" x=\"482\" y=\"-14.3\" font-family=\"Courier,monospace\" font-size=\"14.00\" fill=\"#008040\">2</text>\n",
       "</g>\n",
       "<!-- 15&#45;&#45;16 -->\n",
       "<g id=\"edge16\" class=\"edge\">\n",
       "<title>15--16</title>\n",
       "<path fill=\"none\" stroke=\"black\" d=\"M482,-72.05C482,-61.05 482,-46.76 482,-35.79\"/>\n",
       "</g>\n",
       "<!-- 19 -->\n",
       "<g id=\"node20\" class=\"node\">\n",
       "<title>19</title>\n",
       "<text text-anchor=\"middle\" x=\"656\" y=\"-14.3\" font-family=\"Courier,monospace\" font-size=\"14.00\" fill=\"#008040\">2</text>\n",
       "</g>\n",
       "<!-- 18&#45;&#45;19 -->\n",
       "<g id=\"edge19\" class=\"edge\">\n",
       "<title>18--19</title>\n",
       "<path fill=\"none\" stroke=\"black\" d=\"M656,-72.05C656,-61.05 656,-46.76 656,-35.79\"/>\n",
       "</g>\n",
       "<!-- 21 -->\n",
       "<g id=\"node22\" class=\"node\">\n",
       "<title>21</title>\n",
       "<text text-anchor=\"start\" x=\"728\" y=\"-159.3\" font-family=\"Courier,monospace\" font-weight=\"bold\" font-size=\"14.00\" fill=\"#004080\">Name</text>\n",
       "</g>\n",
       "<!-- 20&#45;&#45;21 -->\n",
       "<g id=\"edge21\" class=\"edge\">\n",
       "<title>20--21</title>\n",
       "<path fill=\"none\" stroke=\"black\" d=\"M660.11,-216.05C677.72,-205.05 700.58,-190.76 718.14,-179.79\"/>\n",
       "</g>\n",
       "<!-- 22 -->\n",
       "<g id=\"node23\" class=\"node\">\n",
       "<title>22</title>\n",
       "<text text-anchor=\"middle\" x=\"745\" y=\"-86.3\" font-family=\"Courier,monospace\" font-size=\"14.00\" fill=\"#008040\">&quot;ret&quot;</text>\n",
       "</g>\n",
       "<!-- 21&#45;&#45;22 -->\n",
       "<g id=\"edge22\" class=\"edge\">\n",
       "<title>21--22</title>\n",
       "<path fill=\"none\" stroke=\"black\" d=\"M753,-143C753,-143 749.91,-122.94 747.58,-107.74\"/>\n",
       "</g>\n",
       "<!-- 23 -->\n",
       "<g id=\"node24\" class=\"node\">\n",
       "<title>23</title>\n",
       "<text text-anchor=\"middle\" x=\"819\" y=\"-86.3\" font-family=\"Courier,monospace\" font-size=\"14.00\" fill=\"#008040\">Load</text>\n",
       "</g>\n",
       "<!-- 21&#45;&#45;23 -->\n",
       "<g id=\"edge23\" class=\"edge\">\n",
       "<title>21--23</title>\n",
       "<path fill=\"none\" stroke=\"black\" d=\"M753,-143C753,-143 778.46,-122.94 797.75,-107.74\"/>\n",
       "</g>\n",
       "</g>\n",
       "</svg>"
      ],
      "text/plain": [
       "<IPython.core.display.SVG object>"
      ]
     },
     "metadata": {},
     "output_type": "display_data"
    }
   ],
   "source": [
    "show_ast(new_tree)"
   ]
  },
  {
   "cell_type": "markdown",
   "metadata": {
    "slideshow": {
     "slide_type": "fragment"
    }
   },
   "source": [
    "This is what the tree looks like when converted back to source code:"
   ]
  },
  {
   "cell_type": "code",
   "execution_count": 92,
   "metadata": {
    "execution": {
     "iopub.execute_input": "2023-01-07T16:02:16.123892Z",
     "iopub.status.busy": "2023-01-07T16:02:16.123576Z",
     "iopub.status.idle": "2023-01-07T16:02:16.133525Z",
     "shell.execute_reply": "2023-01-07T16:02:16.133734Z"
    },
    "slideshow": {
     "slide_type": "fragment"
    }
   },
   "outputs": [
    {
     "name": "stdout",
     "output_type": "stream",
     "text": [
      "\u001b[34mdef\u001b[39;49;00m \u001b[32mfoo\u001b[39;49;00m():\u001b[37m\u001b[39;49;00m\n",
      "    \u001b[36mprint\u001b[39;49;00m(\u001b[33m'\u001b[39;49;00m\u001b[33mentering function\u001b[39;49;00m\u001b[33m'\u001b[39;49;00m)\u001b[37m\u001b[39;49;00m\n",
      "    ret = \u001b[34m2\u001b[39;49;00m * \u001b[34m2\u001b[39;49;00m\u001b[37m\u001b[39;49;00m\n",
      "    \u001b[34mreturn\u001b[39;49;00m ret\u001b[37m\u001b[39;49;00m"
     ]
    }
   ],
   "source": [
    "new_source = ast.unparse(new_tree)\n",
    "print_content(new_source, '.py')"
   ]
  },
  {
   "cell_type": "markdown",
   "metadata": {
    "slideshow": {
     "slide_type": "fragment"
    }
   },
   "source": [
    "We can now compile the new source into a function:"
   ]
  },
  {
   "cell_type": "code",
   "execution_count": 93,
   "metadata": {
    "execution": {
     "iopub.execute_input": "2023-01-07T16:02:16.135340Z",
     "iopub.status.busy": "2023-01-07T16:02:16.134912Z",
     "iopub.status.idle": "2023-01-07T16:02:16.137031Z",
     "shell.execute_reply": "2023-01-07T16:02:16.136824Z"
    },
    "slideshow": {
     "slide_type": "fragment"
    }
   },
   "outputs": [],
   "source": [
    "exec(new_source)"
   ]
  },
  {
   "cell_type": "markdown",
   "metadata": {
    "slideshow": {
     "slide_type": "fragment"
    }
   },
   "source": [
    "... and happily invoke our instrumented function."
   ]
  },
  {
   "cell_type": "code",
   "execution_count": 94,
   "metadata": {
    "execution": {
     "iopub.execute_input": "2023-01-07T16:02:16.139198Z",
     "iopub.status.busy": "2023-01-07T16:02:16.138813Z",
     "iopub.status.idle": "2023-01-07T16:02:16.140629Z",
     "shell.execute_reply": "2023-01-07T16:02:16.140857Z"
    },
    "slideshow": {
     "slide_type": "subslide"
    }
   },
   "outputs": [
    {
     "name": "stdout",
     "output_type": "stream",
     "text": [
      "entering function\n"
     ]
    },
    {
     "data": {
      "text/plain": [
       "4"
      ]
     },
     "execution_count": 94,
     "metadata": {},
     "output_type": "execute_result"
    }
   ],
   "source": [
    "foo()"
   ]
  },
  {
   "cell_type": "markdown",
   "metadata": {
    "slideshow": {
     "slide_type": "fragment"
    }
   },
   "source": [
    "Your task is to implement a function `insert_tracer_ast(function, breakpoints)` that works like `insert_tracer()`, above, except that it uses this AST-based mechanism to inject debugging code into the given function."
   ]
  }
 ],
 "metadata": {
  "ipub": {
   "bibliography": "fuzzingbook.bib",
   "toc": true
  },
  "kernelspec": {
   "display_name": "Python 3 (ipykernel)",
   "language": "python",
   "name": "python3"
  },
  "language_info": {
   "codemirror_mode": {
    "name": "ipython",
    "version": 3
   },
   "file_extension": ".py",
   "mimetype": "text/x-python",
   "name": "python",
   "nbconvert_exporter": "python",
   "pygments_lexer": "ipython3",
   "version": "3.10.2"
  },
  "toc": {
   "base_numbering": 1,
   "nav_menu": {},
   "number_sections": true,
   "sideBar": true,
   "skip_h1_title": true,
   "title_cell": "",
   "title_sidebar": "Contents",
   "toc_cell": false,
   "toc_position": {},
   "toc_section_display": true,
   "toc_window_display": true
  },
  "toc-autonumbering": false
 },
 "nbformat": 4,
 "nbformat_minor": 4
}