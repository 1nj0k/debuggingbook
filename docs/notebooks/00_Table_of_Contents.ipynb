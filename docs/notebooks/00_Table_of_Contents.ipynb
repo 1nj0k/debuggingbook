{
 "cells": [
  {
   "cell_type": "markdown",
   "id": "hybrid-brighton",
   "metadata": {},
   "source": [
    "# The Debugging Book"
   ]
  },
  {
   "cell_type": "markdown",
   "id": "quantitative-possession",
   "metadata": {},
   "source": [
    "## Sitemap\n",
    "While the chapters of this book can be read one after the other, there are many possible paths through the book. In this graph, an arrow _A_ → _B_ means that chapter _A_ is a prerequisite for chapter _B_. You can pick arbitrary paths in this graph to get to the topics that interest you most:\n"
   ]
  },
  {
   "cell_type": "code",
   "execution_count": 1,
   "id": "exciting-coordinator",
   "metadata": {
    "execution": {
     "iopub.execute_input": "2021-03-12T15:21:53.180434Z",
     "iopub.status.busy": "2021-03-12T15:21:53.179848Z",
     "iopub.status.idle": "2021-03-12T15:21:53.181600Z",
     "shell.execute_reply": "2021-03-12T15:21:53.182180Z"
    }
   },
   "outputs": [],
   "source": [
    "# ignore\n",
    "from IPython.display import SVG"
   ]
  },
  {
   "cell_type": "code",
   "execution_count": 2,
   "id": "studied-hurricane",
   "metadata": {
    "execution": {
     "iopub.execute_input": "2021-03-12T15:21:53.185383Z",
     "iopub.status.busy": "2021-03-12T15:21:53.184796Z",
     "iopub.status.idle": "2021-03-12T15:21:53.195410Z",
     "shell.execute_reply": "2021-03-12T15:21:53.195954Z"
    }
   },
   "outputs": [
    {
     "data": {
      "image/svg+xml": [
       "<svg height=\"190pt\" viewBox=\"0.00 0.00 169.00 190.00\" width=\"169pt\" xmlns=\"http://www.w3.org/2000/svg\" xmlns:xlink=\"http://www.w3.org/1999/xlink\">\n",
       "<g class=\"graph\" id=\"graph0\" transform=\"scale(1 1) rotate(0) translate(4 186)\">\n",
       "<title>%3</title>\n",
       "<polygon fill=\"#ffffff\" points=\"-4,4 -4,-186 165,-186 165,4 -4,4\" stroke=\"transparent\"/>\n",
       "<!-- Tracer -->\n",
       "<g class=\"node\" id=\"node1\">\n",
       "<title>Tracer</title>\n",
       "<g id=\"a_node1\"><a xlink:href=\"Tracer.ipynb\" xlink:title=\"Tracing Executions (Tracer)\n",
       "\n",
       "In this chapter, we show how to observe program state during an execution – a prerequisite for logging and interactive debugging. Thanks to the power of Python, we can do this in a few lines of code.\">\n",
       "<polygon fill=\"#ffffff\" points=\"144.5,-108 10.5,-108 10.5,-72 150.5,-72 150.5,-102 144.5,-108\" stroke=\"#000000\"/>\n",
       "<polyline fill=\"none\" points=\"144.5,-108 144.5,-102 \" stroke=\"#000000\"/>\n",
       "<polyline fill=\"none\" points=\"150.5,-102 144.5,-102 \" stroke=\"#000000\"/>\n",
       "<text fill=\"#6a0dad\" font-family=\"Raleway, Helvetica, Arial, sans-serif\" font-size=\"14.00\" text-anchor=\"middle\" x=\"80.5\" y=\"-86.3\">Tracing Executions</text>\n",
       "</a>\n",
       "</g>\n",
       "</g>\n",
       "<!-- Debugger -->\n",
       "<g class=\"node\" id=\"node2\">\n",
       "<title>Debugger</title>\n",
       "<g id=\"a_node2\"><a xlink:href=\"Debugger.ipynb\" xlink:title=\"How Debuggers Work (Debugger)\n",
       "\n",
       "Interactive debuggers are tools that allow you to selectively observe the program state during an execution.  In this chapter, you will learn how such debuggers work – by building your own debugger.\">\n",
       "<polygon fill=\"#ffffff\" points=\"155,-36 0,-36 0,0 161,0 161,-30 155,-36\" stroke=\"#000000\"/>\n",
       "<polyline fill=\"none\" points=\"155,-36 155,-30 \" stroke=\"#000000\"/>\n",
       "<polyline fill=\"none\" points=\"161,-30 155,-30 \" stroke=\"#000000\"/>\n",
       "<text fill=\"#6a0dad\" font-family=\"Raleway, Helvetica, Arial, sans-serif\" font-size=\"14.00\" text-anchor=\"middle\" x=\"80.5\" y=\"-14.3\">How Debuggers Work</text>\n",
       "</a>\n",
       "</g>\n",
       "</g>\n",
       "<!-- Tracer&#45;&gt;Debugger -->\n",
       "<g class=\"edge\" id=\"edge1\">\n",
       "<title>Tracer-&gt;Debugger</title>\n",
       "<path d=\"M80.5,-71.8314C80.5,-64.131 80.5,-54.9743 80.5,-46.4166\" fill=\"none\" stroke=\"#000000\"/>\n",
       "<polygon fill=\"#000000\" points=\"84.0001,-46.4132 80.5,-36.4133 77.0001,-46.4133 84.0001,-46.4132\" stroke=\"#000000\"/>\n",
       "</g>\n",
       "<!-- Intro_Debugging -->\n",
       "<g class=\"node\" id=\"node3\">\n",
       "<title>Intro_Debugging</title>\n",
       "<g id=\"a_node3\"><a xlink:href=\"Intro_Debugging.ipynb\" xlink:title=\"Introduction to Debugging (Intro_Debugging)\n",
       "\n",
       "In this book, we want to explore debugging - the art and science of fixing bugs in computer software. In particular, we want to explore techniques that automatically answer questions like: Where is the bug? When does it occur? And how can we repair it? But before we start automating the debugging process, we first need to understand what this process is.\">\n",
       "<polygon fill=\"#ffffff\" points=\"130.5,-182 24.5,-182 24.5,-144 136.5,-144 136.5,-176 130.5,-182\" stroke=\"#000000\"/>\n",
       "<polyline fill=\"none\" points=\"130.5,-182 130.5,-176 \" stroke=\"#000000\"/>\n",
       "<polyline fill=\"none\" points=\"136.5,-176 130.5,-176 \" stroke=\"#000000\"/>\n",
       "<text fill=\"#6a0dad\" font-family=\"Raleway, Helvetica, Arial, sans-serif\" font-size=\"14.00\" text-anchor=\"middle\" x=\"80.5\" y=\"-166.8\">Introduction to</text>\n",
       "<text fill=\"#6a0dad\" font-family=\"Raleway, Helvetica, Arial, sans-serif\" font-size=\"14.00\" text-anchor=\"middle\" x=\"80.5\" y=\"-151.8\">Debugging</text>\n",
       "</a>\n",
       "</g>\n",
       "</g>\n",
       "<!-- Intro_Debugging&#45;&gt;Tracer -->\n",
       "<g class=\"edge\" id=\"edge2\">\n",
       "<title>Intro_Debugging-&gt;Tracer</title>\n",
       "<path d=\"M80.5,-143.8201C80.5,-136.0975 80.5,-127.0282 80.5,-118.5585\" fill=\"none\" stroke=\"#000000\"/>\n",
       "<polygon fill=\"#000000\" points=\"84.0001,-118.2973 80.5,-108.2973 77.0001,-118.2974 84.0001,-118.2973\" stroke=\"#000000\"/>\n",
       "</g>\n",
       "</g>\n",
       "</svg>"
      ],
      "text/plain": [
       "<IPython.core.display.SVG object>"
      ]
     },
     "execution_count": 1,
     "metadata": {},
     "output_type": "execute_result"
    }
   ],
   "source": [
    "# ignore\n",
    "SVG(filename='PICS/Sitemap.svg')"
   ]
  },
  {
   "cell_type": "markdown",
   "id": "secondary-white",
   "metadata": {},
   "source": [
    "## [Table of Contents](index.ipynb)\n",
    "\n",
    "\n",
    "### <a href=\"01_Intro.ipynb\" title=\"Part I: Whetting Your Appetite (01_Intro)&#10;&#10;In this part, we introduce the topics of the book.\">Part I: Whetting Your Appetite</a>\n",
    "\n",
    "* <a href=\"Tours.ipynb\" title=\"Tours through the Book (Tours)&#10;&#10;\">Tours through the Book</a>\n",
    "* <a href=\"Intro_Debugging.ipynb\" title=\"Introduction to Debugging (Intro_Debugging)&#10;&#10;In this book, we want to explore debugging - the art and science of fixing bugs in computer software. In particular, we want to explore techniques that automatically answer questions like: Where is the bug? When does it occur? And how can we repair it? But before we start automating the debugging process, we first need to understand what this process is.\">Introduction to Debugging</a>\n",
    "\n",
    "### <a href=\"02_Observing.ipynb\" title=\"Part II: Observing Executions (02_Observing)&#10;&#10;In this part, we show how to observe executions – by tracing, by interactively debugging, and more.\">Part II: Observing Executions</a>\n",
    "\n",
    "* <a href=\"Tracer.ipynb\" title=\"Tracing Executions (Tracer)&#10;&#10;In this chapter, we show how to observe program state during an execution – a prerequisite for logging and interactive debugging. Thanks to the power of Python, we can do this in a few lines of code.\">Tracing Executions</a>\n",
    "* <a href=\"Debugger.ipynb\" title=\"How Debuggers Work (Debugger)&#10;&#10;Interactive debuggers are tools that allow you to selectively observe the program state during an execution.  In this chapter, you will learn how such debuggers work – by building your own debugger.\">How Debuggers Work</a>\n",
    "\n",
    "### <a href=\"99_Appendices.ipynb\" title=\"Appendices (99_Appendices)&#10;&#10;This part holds notebooks and modules that support other notebooks.\">Appendices</a>\n",
    "\n",
    "* <a href=\"ExpectError.ipynb\" title=\"Error Handling (ExpectError)&#10;&#10;The code in this notebook helps with handling errors.  Normally, an error in  notebook code causes the execution of the code to stop; while an infinite loop in notebook code causes the notebook to run without end.  This notebook provides two classes to help address these concerns.\">Error Handling</a>\n",
    "* <a href=\"Timer.ipynb\" title=\"Timer (Timer)&#10;&#10;The code in this notebook helps with measuring time.\">Timer</a>\n",
    "* <a href=\"ClassDiagram.ipynb\" title=\"Class Diagrams (ClassDiagram)&#10;&#10;This is a simple viewer for class diagrams.  Customized towards the book.\">Class Diagrams</a>\n",
    "* <a href=\"StackInspector.ipynb\" title=\"Inspecting Call Stacks (StackInspector)&#10;&#10;In this book, for many purposes, we need to lookup a function&#x27;s location, source code, or simply definition. The class StackInspector provides a number of convenience methods for this purpose.\">Inspecting Call Stacks</a>\n"
   ]
  }
 ],
 "metadata": {
  "ipub": {
   "bibliography": "fuzzingbook.bib"
  },
  "kernelspec": {
   "display_name": "Python 3",
   "language": "python",
   "name": "python3"
  },
  "language_info": {
   "codemirror_mode": {
    "name": "ipython",
    "version": 3
   },
   "file_extension": ".py",
   "mimetype": "text/x-python",
   "name": "python",
   "nbconvert_exporter": "python",
   "pygments_lexer": "ipython3",
   "version": "3.6.10"
  },
  "toc": {
   "base_numbering": 1,
   "nav_menu": {},
   "number_sections": true,
   "sideBar": true,
   "skip_h1_title": true,
   "title_cell": "",
   "title_sidebar": "Contents",
   "toc_cell": false,
   "toc_position": {},
   "toc_section_display": true,
   "toc_window_display": true
  },
  "toc-autonumbering": false
 },
 "nbformat": 4,
 "nbformat_minor": 5
}
