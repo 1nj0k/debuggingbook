{
 "cells": [
  {
   "cell_type": "markdown",
   "metadata": {
    "button": false,
    "new_sheet": false,
    "run_control": {
     "read_only": false
    },
    "slideshow": {
     "slide_type": "slide"
    }
   },
   "source": [
    "# Tours through the Book\n"
   ]
  },
  {
   "cell_type": "markdown",
   "metadata": {
    "button": false,
    "new_sheet": false,
    "run_control": {
     "read_only": false
    },
    "slideshow": {
     "slide_type": "slide"
    }
   },
   "source": [
    "While the chapters of this book can be read one after the other, there are many possible paths through the book.  In this graph, an arrow _A_ → _B_ means that chapter _A_ is a prerequisite for chapter _B_.  You can pick arbitrary paths in this graph to get to the topics that interest you most:"
   ]
  },
  {
   "cell_type": "code",
   "execution_count": 1,
   "metadata": {
    "execution": {
     "iopub.execute_input": "2021-09-03T12:57:22.701512Z",
     "iopub.status.busy": "2021-09-03T12:57:22.700269Z",
     "iopub.status.idle": "2021-09-03T12:57:22.840567Z",
     "shell.execute_reply": "2021-09-03T12:57:22.840964Z"
    },
    "slideshow": {
     "slide_type": "fragment"
    }
   },
   "outputs": [],
   "source": [
    "# ignore\n",
    "from bookutils import rich_output"
   ]
  },
  {
   "cell_type": "code",
   "execution_count": 2,
   "metadata": {
    "execution": {
     "iopub.execute_input": "2021-09-03T12:57:22.845177Z",
     "iopub.status.busy": "2021-09-03T12:57:22.844594Z",
     "iopub.status.idle": "2021-09-03T12:57:22.860709Z",
     "shell.execute_reply": "2021-09-03T12:57:22.861153Z"
    },
    "slideshow": {
     "slide_type": "subslide"
    }
   },
   "outputs": [
    {
     "data": {
      "image/svg+xml": [
       "<svg height=\"268pt\" viewBox=\"0.00 0.00 847.50 268.00\" width=\"848pt\" xmlns=\"http://www.w3.org/2000/svg\" xmlns:xlink=\"http://www.w3.org/1999/xlink\">\n",
       "<g class=\"graph\" id=\"graph0\" transform=\"scale(1 1) rotate(0) translate(4 264)\">\n",
       "<title>%3</title>\n",
       "<polygon fill=\"#ffffff\" points=\"-4,4 -4,-264 843.5,-264 843.5,4 -4,4\" stroke=\"transparent\"/>\n",
       "<!-- Tracer -->\n",
       "<g class=\"node\" id=\"node1\">\n",
       "<title>Tracer</title>\n",
       "<g id=\"a_node1\"><a xlink:href=\"Tracer.ipynb\" xlink:title=\"Tracing Executions (Tracer)\n",
       "\n",
       "In this chapter, we show how to observe program state during an execution – a prerequisite for logging and interactive debugging. Thanks to the power of Python, we can do this in a few lines of code.\">\n",
       "<polygon fill=\"#ffffff\" points=\"464.5,-185 330.5,-185 330.5,-149 470.5,-149 470.5,-179 464.5,-185\" stroke=\"#000000\"/>\n",
       "<polyline fill=\"none\" points=\"464.5,-185 464.5,-179 \" stroke=\"#000000\"/>\n",
       "<polyline fill=\"none\" points=\"470.5,-179 464.5,-179 \" stroke=\"#000000\"/>\n",
       "<text fill=\"#6a0dad\" font-family=\"Raleway, Helvetica, Arial, sans-serif\" font-size=\"14.00\" text-anchor=\"middle\" x=\"400.5\" y=\"-163.3\">Tracing Executions</text>\n",
       "</a>\n",
       "</g>\n",
       "</g>\n",
       "<!-- Debugger -->\n",
       "<g class=\"node\" id=\"node2\">\n",
       "<title>Debugger</title>\n",
       "<g id=\"a_node2\"><a xlink:href=\"Debugger.ipynb\" xlink:title=\"How Debuggers Work (Debugger)\n",
       "\n",
       "Interactive debuggers are tools that allow you to selectively observe the program state during an execution.  In this chapter, you will learn how such debuggers work – by building your own debugger.\">\n",
       "<polygon fill=\"#ffffff\" points=\"401,-111 246,-111 246,-75 407,-75 407,-105 401,-111\" stroke=\"#000000\"/>\n",
       "<polyline fill=\"none\" points=\"401,-111 401,-105 \" stroke=\"#000000\"/>\n",
       "<polyline fill=\"none\" points=\"407,-105 401,-105 \" stroke=\"#000000\"/>\n",
       "<text fill=\"#6a0dad\" font-family=\"Raleway, Helvetica, Arial, sans-serif\" font-size=\"14.00\" text-anchor=\"middle\" x=\"326.5\" y=\"-89.3\">How Debuggers Work</text>\n",
       "</a>\n",
       "</g>\n",
       "</g>\n",
       "<!-- Tracer&#45;&gt;Debugger -->\n",
       "<g class=\"edge\" id=\"edge1\">\n",
       "<title>Tracer-&gt;Debugger</title>\n",
       "<path d=\"M382.2079,-148.7079C373.0674,-139.5674 361.8599,-128.3599 351.9,-118.4\" fill=\"none\" stroke=\"#000000\"/>\n",
       "<polygon fill=\"#000000\" points=\"354.1277,-115.6779 344.5817,-111.0817 349.1779,-120.6277 354.1277,-115.6779\" stroke=\"#000000\"/>\n",
       "</g>\n",
       "<!-- Assertions -->\n",
       "<g class=\"node\" id=\"node3\">\n",
       "<title>Assertions</title>\n",
       "<g id=\"a_node3\"><a xlink:href=\"Assertions.ipynb\" xlink:title=\"Asserting Expectations (Assertions)\n",
       "\n",
       "In the previous chapters on tracing and interactive debugging, we have seen how to observe executions. By checking our observations against our expectations, we can find out when and how the program state is faulty. So far, we have assumed that this check would be done by humans – that is, us. However, having this check done by a computer, for instance as part of the execution, is infinitely more rigorous and efficient. In this chapter, we introduce techniques to specify our expectations and to check them at runtime, enabling us to detect faults right as they occur.\">\n",
       "<polygon fill=\"#ffffff\" points=\"519.5,-112 425.5,-112 425.5,-74 525.5,-74 525.5,-106 519.5,-112\" stroke=\"#000000\"/>\n",
       "<polyline fill=\"none\" points=\"519.5,-112 519.5,-106 \" stroke=\"#000000\"/>\n",
       "<polyline fill=\"none\" points=\"525.5,-106 519.5,-106 \" stroke=\"#000000\"/>\n",
       "<text fill=\"#6a0dad\" font-family=\"Raleway, Helvetica, Arial, sans-serif\" font-size=\"14.00\" text-anchor=\"middle\" x=\"475.5\" y=\"-96.8\">Asserting</text>\n",
       "<text fill=\"#6a0dad\" font-family=\"Raleway, Helvetica, Arial, sans-serif\" font-size=\"14.00\" text-anchor=\"middle\" x=\"475.5\" y=\"-81.8\">Expectations</text>\n",
       "</a>\n",
       "</g>\n",
       "</g>\n",
       "<!-- Tracer&#45;&gt;Assertions -->\n",
       "<g class=\"edge\" id=\"edge2\">\n",
       "<title>Tracer-&gt;Assertions</title>\n",
       "<path d=\"M419.0393,-148.7079C428.0268,-139.8403 438.986,-129.0272 448.8495,-119.2952\" fill=\"none\" stroke=\"#000000\"/>\n",
       "<polygon fill=\"#000000\" points=\"451.4676,-121.6289 456.1277,-112.114 446.5511,-116.646 451.4676,-121.6289\" stroke=\"#000000\"/>\n",
       "</g>\n",
       "<!-- DeltaDebugger -->\n",
       "<g class=\"node\" id=\"node4\">\n",
       "<title>DeltaDebugger</title>\n",
       "<g id=\"a_node4\"><a xlink:href=\"DeltaDebugger.ipynb\" xlink:title=\"Reducing Failure-Inducing Inputs (DeltaDebugger)\n",
       "\n",
       "A standard problem in debugging is this: Your program fails after processing some large input. Only a part of this input, however, is responsible for the failure. Reducing the input to a failure-inducing minimum not only eases debugging – it also helps in understanding why and when the program fails. In this chapter, we present techniques that automatically reduce and simplify failure-inducing inputs to a minimum, notably the popular Delta Debugging technique.\">\n",
       "<polygon fill=\"#ffffff\" points=\"669.5,-112 543.5,-112 543.5,-74 675.5,-74 675.5,-106 669.5,-112\" stroke=\"#000000\"/>\n",
       "<polyline fill=\"none\" points=\"669.5,-112 669.5,-106 \" stroke=\"#000000\"/>\n",
       "<polyline fill=\"none\" points=\"675.5,-106 669.5,-106 \" stroke=\"#000000\"/>\n",
       "<text fill=\"#6a0dad\" font-family=\"Raleway, Helvetica, Arial, sans-serif\" font-size=\"14.00\" text-anchor=\"middle\" x=\"609.5\" y=\"-96.8\">Reducing Failure-</text>\n",
       "<text fill=\"#6a0dad\" font-family=\"Raleway, Helvetica, Arial, sans-serif\" font-size=\"14.00\" text-anchor=\"middle\" x=\"609.5\" y=\"-81.8\">Inducing Inputs</text>\n",
       "</a>\n",
       "</g>\n",
       "</g>\n",
       "<!-- Tracer&#45;&gt;DeltaDebugger -->\n",
       "<g class=\"edge\" id=\"edge3\">\n",
       "<title>Tracer-&gt;DeltaDebugger</title>\n",
       "<path d=\"M451.3599,-148.9922C479.8166,-138.9166 515.5541,-126.2631 545.8534,-115.5352\" fill=\"none\" stroke=\"#000000\"/>\n",
       "<polygon fill=\"#000000\" points=\"547.2252,-118.7624 555.4836,-112.1254 544.8888,-112.1638 547.2252,-118.7624\" stroke=\"#000000\"/>\n",
       "</g>\n",
       "<!-- StatisticalDebugger -->\n",
       "<g class=\"node\" id=\"node5\">\n",
       "<title>StatisticalDebugger</title>\n",
       "<g id=\"a_node5\"><a xlink:href=\"StatisticalDebugger.ipynb\" xlink:title=\"Statistical Debugging (StatisticalDebugger)\n",
       "\n",
       "In this chapter, we introduce statistical debugging – the idea that specific events during execution could be statistically correlated with failures. We start with coverage of individual lines and then proceed towards further execution features.\">\n",
       "<polygon fill=\"#ffffff\" points=\"83,-112 0,-112 0,-74 89,-74 89,-106 83,-112\" stroke=\"#000000\"/>\n",
       "<polyline fill=\"none\" points=\"83,-112 83,-106 \" stroke=\"#000000\"/>\n",
       "<polyline fill=\"none\" points=\"89,-106 83,-106 \" stroke=\"#000000\"/>\n",
       "<text fill=\"#6a0dad\" font-family=\"Raleway, Helvetica, Arial, sans-serif\" font-size=\"14.00\" text-anchor=\"middle\" x=\"44.5\" y=\"-96.8\">Statistical</text>\n",
       "<text fill=\"#6a0dad\" font-family=\"Raleway, Helvetica, Arial, sans-serif\" font-size=\"14.00\" text-anchor=\"middle\" x=\"44.5\" y=\"-81.8\">Debugging</text>\n",
       "</a>\n",
       "</g>\n",
       "</g>\n",
       "<!-- Tracer&#45;&gt;StatisticalDebugger -->\n",
       "<g class=\"edge\" id=\"edge4\">\n",
       "<title>Tracer-&gt;StatisticalDebugger</title>\n",
       "<path d=\"M330.2381,-157.4248C270.8724,-148.6012 183.5694,-133.9063 98.8955,-111.8894\" fill=\"none\" stroke=\"#000000\"/>\n",
       "<polygon fill=\"#000000\" points=\"99.681,-108.4769 89.1191,-109.3111 97.8959,-115.2455 99.681,-108.4769\" stroke=\"#000000\"/>\n",
       "</g>\n",
       "<!-- DynamicInvariants -->\n",
       "<g class=\"node\" id=\"node6\">\n",
       "<title>DynamicInvariants</title>\n",
       "<g id=\"a_node6\"><a xlink:href=\"DynamicInvariants.ipynb\" xlink:title=\"Mining Function Specifications (DynamicInvariants)\n",
       "\n",
       "In the chapter on assertions, we have seen how important it is to check whether the result is as expected.  In this chapter, we introduce a technique that allows us to mine function specifications from a set of given executions, resulting in abstract and formal descriptions of what the function expects and what it delivers.\">\n",
       "<polygon fill=\"#ffffff\" points=\"221.5,-112 107.5,-112 107.5,-74 227.5,-74 227.5,-106 221.5,-112\" stroke=\"#000000\"/>\n",
       "<polyline fill=\"none\" points=\"221.5,-112 221.5,-106 \" stroke=\"#000000\"/>\n",
       "<polyline fill=\"none\" points=\"227.5,-106 221.5,-106 \" stroke=\"#000000\"/>\n",
       "<text fill=\"#6a0dad\" font-family=\"Raleway, Helvetica, Arial, sans-serif\" font-size=\"14.00\" text-anchor=\"middle\" x=\"167.5\" y=\"-96.8\">Mining Function</text>\n",
       "<text fill=\"#6a0dad\" font-family=\"Raleway, Helvetica, Arial, sans-serif\" font-size=\"14.00\" text-anchor=\"middle\" x=\"167.5\" y=\"-81.8\">Specifications</text>\n",
       "</a>\n",
       "</g>\n",
       "</g>\n",
       "<!-- Tracer&#45;&gt;DynamicInvariants -->\n",
       "<g class=\"edge\" id=\"edge5\">\n",
       "<title>Tracer-&gt;DynamicInvariants</title>\n",
       "<path d=\"M343.7997,-148.9922C311.8006,-138.8294 271.5434,-126.0438 237.5793,-115.257\" fill=\"none\" stroke=\"#000000\"/>\n",
       "<polygon fill=\"#000000\" points=\"238.3096,-111.8167 227.7193,-112.1254 236.1907,-118.4883 238.3096,-111.8167\" stroke=\"#000000\"/>\n",
       "</g>\n",
       "<!-- ChangeDebugger -->\n",
       "<g class=\"node\" id=\"node10\">\n",
       "<title>ChangeDebugger</title>\n",
       "<g id=\"a_node10\"><a xlink:href=\"ChangeDebugger.ipynb\" xlink:title=\"Isolating Failure-Inducing Changes (ChangeDebugger)\n",
       "\n",
       "&quot;Yesterday, my program worked. Today, it does not. Why?&quot; In debugging, as elsewhere in software development, code keeps on changing. Thus, it can happen that a piece of code that yesterday was working perfectly, today no longer runs – because we (or others) have made some changes to it that cause it to fail. The good news is that for debugging, we can actually exploit this version history to narrow down the changes that caused the failure – be it by us or by others.\">\n",
       "<polygon fill=\"#ffffff\" points=\"591,-38 464,-38 464,0 597,0 597,-32 591,-38\" stroke=\"#000000\"/>\n",
       "<polyline fill=\"none\" points=\"591,-38 591,-32 \" stroke=\"#000000\"/>\n",
       "<polyline fill=\"none\" points=\"597,-32 591,-32 \" stroke=\"#000000\"/>\n",
       "<text fill=\"#6a0dad\" font-family=\"Raleway, Helvetica, Arial, sans-serif\" font-size=\"14.00\" text-anchor=\"middle\" x=\"530.5\" y=\"-22.8\">Isolating Failure-</text>\n",
       "<text fill=\"#6a0dad\" font-family=\"Raleway, Helvetica, Arial, sans-serif\" font-size=\"14.00\" text-anchor=\"middle\" x=\"530.5\" y=\"-7.8\">Inducing Changes</text>\n",
       "</a>\n",
       "</g>\n",
       "</g>\n",
       "<!-- DeltaDebugger&#45;&gt;ChangeDebugger -->\n",
       "<g class=\"edge\" id=\"edge9\">\n",
       "<title>DeltaDebugger-&gt;ChangeDebugger</title>\n",
       "<path d=\"M589.1555,-73.9432C579.8293,-65.2072 568.6231,-54.7103 558.5158,-45.2426\" fill=\"none\" stroke=\"#000000\"/>\n",
       "<polygon fill=\"#000000\" points=\"560.7411,-42.5314 551.0501,-38.2495 555.9556,-47.6402 560.7411,-42.5314\" stroke=\"#000000\"/>\n",
       "</g>\n",
       "<!-- DDSetDebugger -->\n",
       "<g class=\"node\" id=\"node11\">\n",
       "<title>DDSetDebugger</title>\n",
       "<g id=\"a_node11\"><a xlink:href=\"DDSetDebugger.ipynb\" xlink:title=\"Generalizing Failure Circumstances (DDSetDebugger)\n",
       "\n",
       "One central question in debugging is: Does this bug occur in other situations, too? In this chapter, we present a technique that is set to generalize the circumstances under which a failure occurs. The DDSET algorithm takes a failure-inducing input, breaks it into individual elements. For each element, it tries to find whether it can be replaced by others in the same category, and if so, it generalizes the concrete element to the very category. The result is a pattern that characterizes the failure condition: &quot;The failure occurs for all inputs of the form (&lt;expr&gt; * &lt;expr&gt;).\">\n",
       "<polygon fill=\"#ffffff\" points=\"754,-38 615,-38 615,0 760,0 760,-32 754,-38\" stroke=\"#000000\"/>\n",
       "<polyline fill=\"none\" points=\"754,-38 754,-32 \" stroke=\"#000000\"/>\n",
       "<polyline fill=\"none\" points=\"760,-32 754,-32 \" stroke=\"#000000\"/>\n",
       "<text fill=\"#6a0dad\" font-family=\"Raleway, Helvetica, Arial, sans-serif\" font-size=\"14.00\" text-anchor=\"middle\" x=\"687.5\" y=\"-22.8\">Generalizing Failure</text>\n",
       "<text fill=\"#6a0dad\" font-family=\"Raleway, Helvetica, Arial, sans-serif\" font-size=\"14.00\" text-anchor=\"middle\" x=\"687.5\" y=\"-7.8\">Circumstances</text>\n",
       "</a>\n",
       "</g>\n",
       "</g>\n",
       "<!-- DeltaDebugger&#45;&gt;DDSetDebugger -->\n",
       "<g class=\"edge\" id=\"edge10\">\n",
       "<title>DeltaDebugger-&gt;DDSetDebugger</title>\n",
       "<path d=\"M629.5869,-73.9432C638.7952,-65.2072 649.8594,-54.7103 659.8389,-45.2426\" fill=\"none\" stroke=\"#000000\"/>\n",
       "<polygon fill=\"#000000\" points=\"662.3643,-47.6712 667.21,-38.2495 657.5465,-42.593 662.3643,-47.6712\" stroke=\"#000000\"/>\n",
       "</g>\n",
       "<!-- PerformanceDebugger -->\n",
       "<g class=\"node\" id=\"node12\">\n",
       "<title>PerformanceDebugger</title>\n",
       "<g id=\"a_node12\"><a xlink:href=\"PerformanceDebugger.ipynb\" xlink:title=\"Debugging Performance Issues (PerformanceDebugger)\n",
       "\n",
       "Most chapters of this book deal with functional issues – that is, issues related to the functionality (or its absence) of the code in question. However, debugging can also involve nonfunctional issues, however – performance, usability, reliability, and more. In this chapter, we give a short introduction on how to debug such nonfunctional issues, notably performance issues.\">\n",
       "<polygon fill=\"#ffffff\" points=\"218,-38 79,-38 79,0 224,0 224,-32 218,-38\" stroke=\"#000000\"/>\n",
       "<polyline fill=\"none\" points=\"218,-38 218,-32 \" stroke=\"#000000\"/>\n",
       "<polyline fill=\"none\" points=\"224,-32 218,-32 \" stroke=\"#000000\"/>\n",
       "<text fill=\"#6a0dad\" font-family=\"Raleway, Helvetica, Arial, sans-serif\" font-size=\"14.00\" text-anchor=\"middle\" x=\"151.5\" y=\"-22.8\">Debugging</text>\n",
       "<text fill=\"#6a0dad\" font-family=\"Raleway, Helvetica, Arial, sans-serif\" font-size=\"14.00\" text-anchor=\"middle\" x=\"151.5\" y=\"-7.8\">Performance Issues</text>\n",
       "</a>\n",
       "</g>\n",
       "</g>\n",
       "<!-- DeltaDebugger&#45;&gt;PerformanceDebugger -->\n",
       "<g class=\"edge\" id=\"edge11\">\n",
       "<title>DeltaDebugger-&gt;PerformanceDebugger</title>\n",
       "<path d=\"M543.3326,-75.8348C540.3534,-75.1891 537.3989,-74.5737 534.5,-74 505.7222,-68.305 337.8893,-44.7735 234.1707,-30.3988\" fill=\"none\" stroke=\"#000000\"/>\n",
       "<polygon fill=\"#000000\" points=\"234.4158,-26.8995 224.0301,-28.9943 233.4553,-33.8333 234.4158,-26.8995\" stroke=\"#000000\"/>\n",
       "</g>\n",
       "<!-- Repairer -->\n",
       "<g class=\"node\" id=\"node13\">\n",
       "<title>Repairer</title>\n",
       "<g id=\"a_node13\"><a xlink:href=\"Repairer.ipynb\" xlink:title=\"Repairing Code Automatically (Repairer)\n",
       "\n",
       "So far, we have discussed how to track failures and how to locate defects in code. Let us now discuss how to repair defects – that is, to correct the code such that the failure no longer occurs. We will discuss how to repair code automatically – by systematically searching through possible fixes and evolving the most promising candidates.\">\n",
       "<polygon fill=\"#ffffff\" points=\"410.5,-38 300.5,-38 300.5,0 416.5,0 416.5,-32 410.5,-38\" stroke=\"#000000\"/>\n",
       "<polyline fill=\"none\" points=\"410.5,-38 410.5,-32 \" stroke=\"#000000\"/>\n",
       "<polyline fill=\"none\" points=\"416.5,-32 410.5,-32 \" stroke=\"#000000\"/>\n",
       "<text fill=\"#6a0dad\" font-family=\"Raleway, Helvetica, Arial, sans-serif\" font-size=\"14.00\" text-anchor=\"middle\" x=\"358.5\" y=\"-22.8\">Repairing Code</text>\n",
       "<text fill=\"#6a0dad\" font-family=\"Raleway, Helvetica, Arial, sans-serif\" font-size=\"14.00\" text-anchor=\"middle\" x=\"358.5\" y=\"-7.8\">Automatically</text>\n",
       "</a>\n",
       "</g>\n",
       "</g>\n",
       "<!-- DeltaDebugger&#45;&gt;Repairer -->\n",
       "<g class=\"edge\" id=\"edge12\">\n",
       "<title>DeltaDebugger-&gt;Repairer</title>\n",
       "<path d=\"M544.8613,-73.9432C508.5934,-63.2506 463.3781,-49.9202 426.5676,-39.0677\" fill=\"none\" stroke=\"#000000\"/>\n",
       "<polygon fill=\"#000000\" points=\"427.4945,-35.6921 416.9129,-36.2213 425.515,-42.4064 427.4945,-35.6921\" stroke=\"#000000\"/>\n",
       "</g>\n",
       "<!-- StatisticalDebugger&#45;&gt;PerformanceDebugger -->\n",
       "<g class=\"edge\" id=\"edge13\">\n",
       "<title>StatisticalDebugger-&gt;PerformanceDebugger</title>\n",
       "<path d=\"M72.0552,-73.9432C85.1823,-64.8646 101.0592,-53.8843 115.158,-44.1337\" fill=\"none\" stroke=\"#000000\"/>\n",
       "<polygon fill=\"#000000\" points=\"117.4325,-46.8162 123.6663,-38.2495 113.4508,-41.0589 117.4325,-46.8162\" stroke=\"#000000\"/>\n",
       "</g>\n",
       "<!-- StatisticalDebugger&#45;&gt;Repairer -->\n",
       "<g class=\"edge\" id=\"edge14\">\n",
       "<title>StatisticalDebugger-&gt;Repairer</title>\n",
       "<path d=\"M89.1463,-76.7887C92.2975,-75.7996 95.4378,-74.8587 98.5,-74 162.8754,-55.9481 237.6799,-40.7099 290.4793,-30.8841\" fill=\"none\" stroke=\"#000000\"/>\n",
       "<polygon fill=\"#000000\" points=\"291.2063,-34.3092 300.4051,-29.0525 289.9359,-27.4254 291.2063,-34.3092\" stroke=\"#000000\"/>\n",
       "</g>\n",
       "<!-- Intro_Debugging -->\n",
       "<g class=\"node\" id=\"node7\">\n",
       "<title>Intro_Debugging</title>\n",
       "<g id=\"a_node7\"><a xlink:href=\"Intro_Debugging.ipynb\" xlink:title=\"Introduction to Debugging (Intro_Debugging)\n",
       "\n",
       "In this book, we want to explore debugging - the art and science of fixing bugs in computer software. In particular, we want to explore techniques that automatically answer questions like: Where is the bug? When does it occur? And how can we repair it? But before we start automating the debugging process, we first need to understand what this process is.\">\n",
       "<polygon fill=\"#ffffff\" points=\"641.5,-260 535.5,-260 535.5,-222 647.5,-222 647.5,-254 641.5,-260\" stroke=\"#000000\"/>\n",
       "<polyline fill=\"none\" points=\"641.5,-260 641.5,-254 \" stroke=\"#000000\"/>\n",
       "<polyline fill=\"none\" points=\"647.5,-254 641.5,-254 \" stroke=\"#000000\"/>\n",
       "<text fill=\"#6a0dad\" font-family=\"Raleway, Helvetica, Arial, sans-serif\" font-size=\"14.00\" text-anchor=\"middle\" x=\"591.5\" y=\"-244.8\">Introduction to</text>\n",
       "<text fill=\"#6a0dad\" font-family=\"Raleway, Helvetica, Arial, sans-serif\" font-size=\"14.00\" text-anchor=\"middle\" x=\"591.5\" y=\"-229.8\">Debugging</text>\n",
       "</a>\n",
       "</g>\n",
       "</g>\n",
       "<!-- Intro_Debugging&#45;&gt;Tracer -->\n",
       "<g class=\"edge\" id=\"edge6\">\n",
       "<title>Intro_Debugging-&gt;Tracer</title>\n",
       "<path d=\"M542.3128,-221.9432C516.1113,-211.7918 483.7729,-199.2628 456.5968,-188.7338\" fill=\"none\" stroke=\"#000000\"/>\n",
       "<polygon fill=\"#000000\" points=\"457.8072,-185.4493 447.2181,-185.1002 455.2783,-191.9766 457.8072,-185.4493\" stroke=\"#000000\"/>\n",
       "</g>\n",
       "<!-- Slicer -->\n",
       "<g class=\"node\" id=\"node8\">\n",
       "<title>Slicer</title>\n",
       "<g id=\"a_node8\"><a xlink:href=\"Slicer.ipynb\" xlink:title=\"Tracking Failure Origins (Slicer)\n",
       "\n",
       "The question of &quot;Where does this value come from?&quot; is fundamental for debugging. Which earlier variables could possibly have influenced the current erroneous state? And how did their values come to be?\">\n",
       "<polygon fill=\"#ffffff\" points=\"640,-186 537,-186 537,-148 646,-148 646,-180 640,-186\" stroke=\"#000000\"/>\n",
       "<polyline fill=\"none\" points=\"640,-186 640,-180 \" stroke=\"#000000\"/>\n",
       "<polyline fill=\"none\" points=\"646,-180 640,-180 \" stroke=\"#000000\"/>\n",
       "<text fill=\"#6a0dad\" font-family=\"Raleway, Helvetica, Arial, sans-serif\" font-size=\"14.00\" text-anchor=\"middle\" x=\"591.5\" y=\"-170.8\">Tracking </text>\n",
       "<text fill=\"#6a0dad\" font-family=\"Raleway, Helvetica, Arial, sans-serif\" font-size=\"14.00\" text-anchor=\"middle\" x=\"591.5\" y=\"-155.8\">Failure Origins</text>\n",
       "</a>\n",
       "</g>\n",
       "</g>\n",
       "<!-- Intro_Debugging&#45;&gt;Slicer -->\n",
       "<g class=\"edge\" id=\"edge7\">\n",
       "<title>Intro_Debugging-&gt;Slicer</title>\n",
       "<path d=\"M591.5,-221.9432C591.5,-214.1493 591.5,-204.9538 591.5,-196.3381\" fill=\"none\" stroke=\"#000000\"/>\n",
       "<polygon fill=\"#000000\" points=\"595.0001,-196.2494 591.5,-186.2495 588.0001,-196.2495 595.0001,-196.2494\" stroke=\"#000000\"/>\n",
       "</g>\n",
       "<!-- Tracking -->\n",
       "<g class=\"node\" id=\"node9\">\n",
       "<title>Tracking</title>\n",
       "<g id=\"a_node9\"><a xlink:href=\"Tracking.ipynb\" xlink:title=\"Tracking Bugs (Tracking)\n",
       "\n",
       "So far, we have assumed that failures would be discovered and fixed by a single programmer during development. But what if the user who discovers a bug is different from the developer who eventually fixes it? In this case, users have to report bugs, and one needs to ensure that reported bugs are systematically tracked. This is the job of dedicated bug tracking systems, which we will discuss (and demo) in this chapter.\">\n",
       "<polygon fill=\"#ffffff\" points=\"791,-185 688,-185 688,-149 797,-149 797,-179 791,-185\" stroke=\"#000000\"/>\n",
       "<polyline fill=\"none\" points=\"791,-185 791,-179 \" stroke=\"#000000\"/>\n",
       "<polyline fill=\"none\" points=\"797,-179 791,-179 \" stroke=\"#000000\"/>\n",
       "<text fill=\"#6a0dad\" font-family=\"Raleway, Helvetica, Arial, sans-serif\" font-size=\"14.00\" text-anchor=\"middle\" x=\"742.5\" y=\"-163.3\">Tracking Bugs</text>\n",
       "</a>\n",
       "</g>\n",
       "</g>\n",
       "<!-- Intro_Debugging&#45;&gt;Tracking -->\n",
       "<g class=\"edge\" id=\"edge8\">\n",
       "<title>Intro_Debugging-&gt;Tracking</title>\n",
       "<path d=\"M630.3863,-221.9432C650.5578,-212.0578 675.3301,-199.9177 696.4542,-189.5655\" fill=\"none\" stroke=\"#000000\"/>\n",
       "<polygon fill=\"#000000\" points=\"698.1263,-192.6438 705.5658,-185.1002 695.0459,-186.358 698.1263,-192.6438\" stroke=\"#000000\"/>\n",
       "</g>\n",
       "<!-- ChangeCounter -->\n",
       "<g class=\"node\" id=\"node14\">\n",
       "<title>ChangeCounter</title>\n",
       "<g id=\"a_node14\"><a xlink:href=\"ChangeCounter.ipynb\" xlink:title=\"Where the Bugs are (ChangeCounter)\n",
       "\n",
       "Every time a bug is fixed, developers leave a trace – in the version database when they commit the fix, or in the bug database when they close the bug. In this chapter, we learn how to mine these repositories for past changes and bugs, and how to map them to individual modules and functions, highlighting those project components that have seen most changes and fixes over time.\">\n",
       "<polygon fill=\"#ffffff\" points=\"833.5,-111 693.5,-111 693.5,-75 839.5,-75 839.5,-105 833.5,-111\" stroke=\"#000000\"/>\n",
       "<polyline fill=\"none\" points=\"833.5,-111 833.5,-105 \" stroke=\"#000000\"/>\n",
       "<polyline fill=\"none\" points=\"839.5,-105 833.5,-105 \" stroke=\"#000000\"/>\n",
       "<text fill=\"#6a0dad\" font-family=\"Raleway, Helvetica, Arial, sans-serif\" font-size=\"14.00\" text-anchor=\"middle\" x=\"766.5\" y=\"-89.3\">Where the Bugs are</text>\n",
       "</a>\n",
       "</g>\n",
       "</g>\n",
       "<!-- Tracking&#45;&gt;ChangeCounter -->\n",
       "<g class=\"edge\" id=\"edge15\">\n",
       "<title>Tracking-&gt;ChangeCounter</title>\n",
       "<path d=\"M748.4326,-148.7079C751.1645,-140.2843 754.4659,-130.1052 757.4952,-120.7649\" fill=\"none\" stroke=\"#000000\"/>\n",
       "<polygon fill=\"#000000\" points=\"760.8798,-121.6737 760.6357,-111.0817 754.2213,-119.5142 760.8798,-121.6737\" stroke=\"#000000\"/>\n",
       "</g>\n",
       "</g>\n",
       "</svg>"
      ],
      "text/plain": [
       "<IPython.core.display.SVG object>"
      ]
     },
     "execution_count": 1,
     "metadata": {},
     "output_type": "execute_result"
    }
   ],
   "source": [
    "# ignore\n",
    "if rich_output():\n",
    "    from IPython.display import SVG\n",
    "    sitemap = SVG(filename='PICS/Sitemap.svg')\n",
    "else:\n",
    "    sitemap = None\n",
    "sitemap"
   ]
  },
  {
   "cell_type": "markdown",
   "metadata": {
    "button": false,
    "new_sheet": false,
    "run_control": {
     "read_only": false
    },
    "slideshow": {
     "slide_type": "slide"
    }
   },
   "source": [
    "But since even this map can be overwhelming, here are a few _tours_ to get you started.  Each of these tours allows you to focus on a particular view, depending on whether you are a programmer, student, or researcher."
   ]
  },
  {
   "cell_type": "markdown",
   "metadata": {
    "slideshow": {
     "slide_type": "slide"
    }
   },
   "source": [
    "## The Pragmatic Programmer Tour\n",
    "\n",
    "You have a program to debug.  You want to learn about techniques that help you for debugging.  You want to get to the point.\n",
    "\n",
    "1. __Start with [Introduction to Debugging](Intro_Debugging.ipynb) to get the basic concepts.__  (You would know most of these anyway, but it can't hurt to get quick reminders).\n",
    "\n",
    "2. __Experiment with [interactive debuggers](Debugger.ipynb)__ to observe executions interactively.\n",
    "\n",
    "3. __Use [assertions](Assertions.ipynb)__ to have the computer systematically run checks during execution.\n",
    "\n",
    "4. __Explore [delta debugging](DeltaDebugger.ipynb) for your program__ and see how it simplifies failure-inducing inputs [and changes](ChangeDebugger.ipynb).\n",
    "\n",
    "5. __Visualize [dependencies](Slicer.ipynb) in your program__ and track the flow of data and control in the execution.\n",
    "\n",
    "6. __Check out [statistical debugging](StatisticalDebugger.ipynb)__ for a simple way to determine code locations associated with failures.\n",
    "\n",
    "7. __See [automatic repairs](Repairer.ipynb) in action__.\n",
    "\n",
    "In each of these chapters, start with the \"Synopsis\" parts; these will give you quick introductions on how to use things, as well as point you to relevant usage examples.  With this, enough said.  Get back to work and enjoy!"
   ]
  },
  {
   "cell_type": "markdown",
   "metadata": {
    "slideshow": {
     "slide_type": "slide"
    }
   },
   "source": [
    "## The Young Researcher Tour\n",
    "\n",
    "Your school wants you to publish a great paper every few months. You are looking for infrastructures that you can toy with, helping you to build and evaluate cool ideas.\n",
    "\n",
    "1. __Toy with [tracer](Tracer.ipynb)__ to collect data on program executions - features you can then [correlate with program failures](StatisticalDebugger.ipynb).\n",
    "\n",
    "2. __Extract [dependencies](Slicer.ipynb) from your program__ and use them for runtime verification, fault localization, and better repair.\n",
    "\n",
    "3. __Use [automatic repairs](Repairer.ipynb)__ as a starting point to build your own, better repairs. The Python implementation is well documented and extremely easy to expand.\n",
    "\n",
    "4. Bring in __[test generation and structured inputs](DDSetDebugger.ipynb)__ to collect input features that relate to failures.\n",
    "\n",
    "5. Mine __[version and bug repositories](ChangeCounter.ipynb)__ to explore how bugs and all these features evolve over time.\n",
    "\n",
    "For each of these chapters, experiment with the techniques, and then build your own on top. Read the relevant papers to learn more about their motivation and background. And now go and improve the world of automated debugging!"
   ]
  },
  {
   "cell_type": "markdown",
   "metadata": {
    "button": false,
    "new_sheet": true,
    "run_control": {
     "read_only": false
    },
    "slideshow": {
     "slide_type": "slide"
    }
   },
   "source": [
    "## Lessons Learned\n",
    "\n",
    "* You can go through the book from beginning to end...\n",
    "* ...but it may be preferable to follow a specific tour, based on your needs and resources.\n",
    "* Now [go and explore automated debugging](index.ipynb)!"
   ]
  }
 ],
 "metadata": {
  "ipub": {
   "bibliography": "fuzzingbook.bib",
   "toc": true
  },
  "kernelspec": {
   "display_name": "Python 3",
   "language": "python",
   "name": "python3"
  },
  "language_info": {
   "codemirror_mode": {
    "name": "ipython",
    "version": 3
   },
   "file_extension": ".py",
   "mimetype": "text/x-python",
   "name": "python",
   "nbconvert_exporter": "python",
   "pygments_lexer": "ipython3",
   "version": "3.6.10"
  },
  "toc": {
   "base_numbering": 1,
   "nav_menu": {},
   "number_sections": true,
   "sideBar": true,
   "skip_h1_title": true,
   "title_cell": "",
   "title_sidebar": "Contents",
   "toc_cell": false,
   "toc_position": {},
   "toc_section_display": true,
   "toc_window_display": true
  },
  "toc-autonumbering": false
 },
 "nbformat": 4,
 "nbformat_minor": 4
}
