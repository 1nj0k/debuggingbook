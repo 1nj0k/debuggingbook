{
 "cells": [
  {
   "cell_type": "markdown",
   "metadata": {
    "button": false,
    "new_sheet": false,
    "run_control": {
     "read_only": false
    },
    "slideshow": {
     "slide_type": "slide"
    }
   },
   "source": [
    "# Statistical Debugging\n",
    "\n",
    "In this chapter, we introduce _statistical debugging_ – the idea that specific events during execution could be _statistically correlated_ with failures. We start with coverage of individual lines and then proceed towards further execution features."
   ]
  },
  {
   "cell_type": "code",
   "execution_count": 1,
   "metadata": {
    "execution": {
     "iopub.execute_input": "2025-01-16T09:36:36.346596Z",
     "iopub.status.busy": "2025-01-16T09:36:36.346420Z",
     "iopub.status.idle": "2025-01-16T09:36:36.419514Z",
     "shell.execute_reply": "2025-01-16T09:36:36.419222Z"
    },
    "slideshow": {
     "slide_type": "skip"
    }
   },
   "outputs": [
    {
     "data": {
      "text/html": [
       "\n",
       "        <iframe\n",
       "            width=\"640\"\n",
       "            height=\"360\"\n",
       "            src=\"https://www.youtube-nocookie.com/embed/UNuso00zYiI\"\n",
       "            frameborder=\"0\"\n",
       "            allowfullscreen\n",
       "            \n",
       "        ></iframe>\n",
       "        "
      ],
      "text/plain": [
       "<IPython.lib.display.IFrame at 0x111d933e0>"
      ]
     },
     "execution_count": 1,
     "metadata": {},
     "output_type": "execute_result"
    }
   ],
   "source": [
    "from bookutils import YouTubeVideo\n",
    "YouTubeVideo(\"UNuso00zYiI\")"
   ]
  },
  {
   "cell_type": "markdown",
   "metadata": {
    "button": false,
    "new_sheet": false,
    "run_control": {
     "read_only": false
    },
    "slideshow": {
     "slide_type": "subslide"
    }
   },
   "source": [
    "**Prerequisites**\n",
    "\n",
    "* You should have read the [chapter on tracing executions](Tracer.ipynb)."
   ]
  },
  {
   "cell_type": "code",
   "execution_count": 2,
   "metadata": {
    "button": false,
    "execution": {
     "iopub.execute_input": "2025-01-16T09:36:36.442177Z",
     "iopub.status.busy": "2025-01-16T09:36:36.442048Z",
     "iopub.status.idle": "2025-01-16T09:36:36.444322Z",
     "shell.execute_reply": "2025-01-16T09:36:36.444082Z"
    },
    "new_sheet": false,
    "run_control": {
     "read_only": false
    },
    "slideshow": {
     "slide_type": "skip"
    }
   },
   "outputs": [],
   "source": [
    "import bookutils.setup"
   ]
  },
  {
   "cell_type": "markdown",
   "metadata": {
    "slideshow": {
     "slide_type": "skip"
    }
   },
   "source": [
    "## Synopsis\n",
    "<!-- Automatically generated. Do not edit. -->\n",
    "\n",
    "To [use the code provided in this chapter](Importing.ipynb), write\n",
    "\n",
    "```python\n",
    ">>> from debuggingbook.StatisticalDebugger import <identifier>\n",
    "```\n",
    "\n",
    "and then make use of the following features.\n",
    "\n",
    "\n",
    "This chapter introduces classes and techniques for _statistical debugging_ – that is, correlating specific events, such as lines covered, with passing and failing outcomes.\n",
    "\n",
    "To make use of the code in this chapter, use one of the provided `StatisticalDebugger` subclasses such as `TarantulaDebugger` or `OchiaiDebugger`. \n",
    "\n",
    "Both are instantiated with a `Collector` denoting the type of events you want to correlate outcomes with. The default `CoverageCollector`, collecting line coverage.\n",
    "\n",
    "### Collecting Events from Calls\n",
    "\n",
    "To collect events from calls that are labeled manually, use\n",
    "\n",
    "```python\n",
    ">>> debugger = TarantulaDebugger()\n",
    ">>> with debugger.collect_pass():\n",
    ">>>     remove_html_markup(\"abc\")\n",
    ">>> with debugger.collect_pass():\n",
    ">>>     remove_html_markup('<b>abc</b>')\n",
    ">>> with debugger.collect_fail():\n",
    ">>>     remove_html_markup('\"abc\"')\n",
    "```\n",
    "Within each `with` block, the _first function call_ is collected and tracked for coverage. (Note that _only_ the first call is tracked.)\n",
    "\n",
    "### Collecting Events from Tests\n",
    "\n",
    "To collect events from _tests_ that use exceptions to indicate failure, use the simpler `with` form:\n",
    "\n",
    "```python\n",
    ">>> debugger = TarantulaDebugger()\n",
    ">>> with debugger:\n",
    ">>>     remove_html_markup(\"abc\")\n",
    ">>> with debugger:\n",
    ">>>     remove_html_markup('<b>abc</b>')\n",
    ">>> with debugger:\n",
    ">>>     remove_html_markup('\"abc\"')\n",
    ">>>     assert False  # raise an exception\n",
    "```\n",
    "`with` blocks that raise an exception will be classified as failing, blocks that do not will be classified as passing. Note that exceptions raised are \"swallowed\" by the debugger.\n",
    "\n",
    "### Visualizing Events as a Table\n",
    "\n",
    "After collecting events, you can print out the observed events – in this case, line numbers – in a table, showing in which runs they occurred (`X`), and with colors highlighting the suspiciousness of the event. A \"red\" event means that the event predominantly occurs in failing runs.\n",
    "\n",
    "```python\n",
    ">>> debugger.event_table(args=True, color=True)\n",
    "```\n",
    "| `remove_html_markup` | `s='abc'` | `s='<b>abc</b>'` | `s='\"abc\"'` | \n",
    "| --------------------- | ---- | ---- | ---- | \n",
    "| <samp style=\"background-color: hsl(60.0, 100.0%, 80%)\" title=\" 50%\"> remove_html_markup:1</samp> |    X |    X |    X | \n",
    "| <samp style=\"background-color: hsl(60.0, 100.0%, 80%)\" title=\" 50%\"> remove_html_markup:2</samp> |    X |    X |    X | \n",
    "| <samp style=\"background-color: hsl(60.0, 100.0%, 80%)\" title=\" 50%\"> remove_html_markup:3</samp> |    X |    X |    X | \n",
    "| <samp style=\"background-color: hsl(60.0, 100.0%, 80%)\" title=\" 50%\"> remove_html_markup:4</samp> |    X |    X |    X | \n",
    "| <samp style=\"background-color: hsl(60.0, 100.0%, 80%)\" title=\" 50%\"> remove_html_markup:6</samp> |    X |    X |    X | \n",
    "| <samp style=\"background-color: hsl(60.0, 100.0%, 80%)\" title=\" 50%\"> remove_html_markup:7</samp> |    X |    X |    X | \n",
    "| <samp style=\"background-color: hsl(120.0, 50.0%, 80%)\" title=\"  0%\"> remove_html_markup:8</samp> |    - |    X |    - | \n",
    "| <samp style=\"background-color: hsl(60.0, 100.0%, 80%)\" title=\" 50%\"> remove_html_markup:9</samp> |    X |    X |    X | \n",
    "| <samp style=\"background-color: hsl(120.0, 50.0%, 80%)\" title=\"  0%\">remove_html_markup:10</samp> |    - |    X |    - | \n",
    "| <samp style=\"background-color: hsl(60.0, 100.0%, 80%)\" title=\" 50%\">remove_html_markup:11</samp> |    X |    X |    X | \n",
    "| <samp style=\"background-color: hsl(0.0, 100.0%, 80%)\" title=\"100%\">remove_html_markup:12</samp> |    - |    - |    X | \n",
    "| <samp style=\"background-color: hsl(60.0, 100.0%, 80%)\" title=\" 50%\">remove_html_markup:13</samp> |    X |    X |    X | \n",
    "| <samp style=\"background-color: hsl(60.0, 100.0%, 80%)\" title=\" 50%\">remove_html_markup:14</samp> |    X |    X |    X | \n",
    "| <samp style=\"background-color: hsl(60.0, 100.0%, 80%)\" title=\" 50%\">remove_html_markup:16</samp> |    X |    X |    X | \n",
    "\n",
    "\n",
    "### Visualizing Suspicious Code\n",
    "\n",
    "If you collected coverage with `CoverageCollector`, you can also visualize the code with similar colors, highlighting suspicious lines:\n",
    "\n",
    "```python\n",
    ">>> debugger\n",
    "```\n",
    "<pre style=\"background-color:hsl(60.0, 100.0%, 80%)\"\n",
    "                    title=\"Line 1:  50%\">   1 def remove_html_markup(s):  # type: ignore</pre>\n",
    "<pre style=\"background-color:hsl(60.0, 100.0%, 80%)\"\n",
    "                    title=\"Line 2:  50%\">   2     tag = False</pre>\n",
    "<pre style=\"background-color:hsl(60.0, 100.0%, 80%)\"\n",
    "                    title=\"Line 3:  50%\">   3     quote = False</pre>\n",
    "<pre style=\"background-color:hsl(60.0, 100.0%, 80%)\"\n",
    "                    title=\"Line 4:  50%\">   4     out = &quot;&quot;</pre>\n",
    "<pre title=\"Line 5: not executed\">   5 &nbsp;</pre>\n",
    "<pre style=\"background-color:hsl(60.0, 100.0%, 80%)\"\n",
    "                    title=\"Line 6:  50%\">   6     for c in s:</pre>\n",
    "<pre style=\"background-color:hsl(60.0, 100.0%, 80%)\"\n",
    "                    title=\"Line 7:  50%\">   7         if c == &#x27;&lt;&#x27; and not quote:</pre>\n",
    "<pre style=\"background-color:hsl(120.0, 50.0%, 80%)\"\n",
    "                    title=\"Line 8:   0%\">   8             tag = True</pre>\n",
    "<pre style=\"background-color:hsl(60.0, 100.0%, 80%)\"\n",
    "                    title=\"Line 9:  50%\">   9         elif c == &#x27;&gt;&#x27; and not quote:</pre>\n",
    "<pre style=\"background-color:hsl(120.0, 50.0%, 80%)\"\n",
    "                    title=\"Line 10:   0%\">  10             tag = False</pre>\n",
    "<pre style=\"background-color:hsl(60.0, 100.0%, 80%)\"\n",
    "                    title=\"Line 11:  50%\">  11         elif c == &#x27;&quot;&#x27; or c == &quot;&#x27;&quot; and tag:</pre>\n",
    "<pre style=\"background-color:hsl(0.0, 100.0%, 80%)\"\n",
    "                    title=\"Line 12: 100%\">  12             quote = not quote</pre>\n",
    "<pre style=\"background-color:hsl(60.0, 100.0%, 80%)\"\n",
    "                    title=\"Line 13:  50%\">  13         elif not tag:</pre>\n",
    "<pre style=\"background-color:hsl(60.0, 100.0%, 80%)\"\n",
    "                    title=\"Line 14:  50%\">  14             out = out + c</pre>\n",
    "<pre title=\"Line 15: not executed\">  15 &nbsp;</pre>\n",
    "<pre style=\"background-color:hsl(60.0, 100.0%, 80%)\"\n",
    "                    title=\"Line 16:  50%\">  16     return out</pre>\n",
    "\n",
    "\n",
    "### Ranking Events\n",
    "\n",
    "The method `rank()` returns a ranked list of events, starting with the most suspicious. This is useful for automated techniques that need potential defect locations.\n",
    "\n",
    "```python\n",
    ">>> debugger.rank()\n",
    "[('remove_html_markup', 12),\n",
    " ('remove_html_markup', 2),\n",
    " ('remove_html_markup', 11),\n",
    " ('remove_html_markup', 14),\n",
    " ('remove_html_markup', 3),\n",
    " ('remove_html_markup', 9),\n",
    " ('remove_html_markup', 6),\n",
    " ('remove_html_markup', 4),\n",
    " ('remove_html_markup', 1),\n",
    " ('remove_html_markup', 7),\n",
    " ('remove_html_markup', 16),\n",
    " ('remove_html_markup', 13),\n",
    " ('remove_html_markup', 8),\n",
    " ('remove_html_markup', 10)]\n",
    "```\n",
    "### Classes and Methods\n",
    "\n",
    "Here are all classes defined in this chapter:\n",
    "\n",
    "![](PICS/StatisticalDebugger-synopsis-1.svg)\n",
    "\n",
    "![](PICS/StatisticalDebugger-synopsis-2.svg)\n",
    "\n"
   ]
  },
  {
   "cell_type": "markdown",
   "metadata": {
    "slideshow": {
     "slide_type": "slide"
    }
   },
   "source": [
    "## Introduction\n",
    "\n",
    "The idea behind _statistical debugging_ is fairly simple. We have a program that sometimes passes and sometimes fails. This outcome can be _correlated_ with events that precede it – properties of the input, properties of the execution, properties of the program state. If we, for instance, can find that \"the program always fails when Line 123 is executed, and it always passes when Line 123 is _not_ executed\", then we have a strong correlation between Line 123 being executed and failure.\n",
    "\n",
    "Such _correlation_ does not necessarily mean _causation_. For this, we would have to prove that executing Line 123 _always_ leads to failure, and that _not_ executing it does not lead to (this) failure. Also, a correlation (or even a causation) does not mean that Line 123 contains the defect – for this, we would have to show that it actually is an error. Still, correlations make excellent hints as it comes to search for failure causes – in all generality, if you let your search be guided by _events that correlate with failures_, you are more likely to find _important hints on how the failure comes to be_."
   ]
  },
  {
   "cell_type": "markdown",
   "metadata": {
    "button": false,
    "new_sheet": true,
    "run_control": {
     "read_only": false
    },
    "slideshow": {
     "slide_type": "slide"
    }
   },
   "source": [
    "## Collecting Events\n",
    "\n",
    "How can we determine events that correlate with failure? We start with a general mechanism to actually _collect_ events during execution. The abstract `Collector` class provides\n",
    "\n",
    "* a `collect()` method made for collecting events, called from the `traceit()` tracer; and\n",
    "* an `events()` method made for retrieving these events.\n",
    "\n",
    "Both of these are _abstract_ and will be defined further in subclasses."
   ]
  },
  {
   "cell_type": "code",
   "execution_count": 3,
   "metadata": {
    "execution": {
     "iopub.execute_input": "2025-01-16T09:36:36.445827Z",
     "iopub.status.busy": "2025-01-16T09:36:36.445723Z",
     "iopub.status.idle": "2025-01-16T09:36:36.523032Z",
     "shell.execute_reply": "2025-01-16T09:36:36.522751Z"
    },
    "slideshow": {
     "slide_type": "skip"
    }
   },
   "outputs": [],
   "source": [
    "from Tracer import Tracer"
   ]
  },
  {
   "cell_type": "code",
   "execution_count": 4,
   "metadata": {
    "execution": {
     "iopub.execute_input": "2025-01-16T09:36:36.524675Z",
     "iopub.status.busy": "2025-01-16T09:36:36.524582Z",
     "iopub.status.idle": "2025-01-16T09:36:36.526317Z",
     "shell.execute_reply": "2025-01-16T09:36:36.526087Z"
    },
    "slideshow": {
     "slide_type": "subslide"
    }
   },
   "outputs": [],
   "source": [
    "# ignore\n",
    "from typing import Any, Callable, Optional, Type, Tuple\n",
    "from typing import Dict, Set, List, TypeVar, Union"
   ]
  },
  {
   "cell_type": "code",
   "execution_count": 5,
   "metadata": {
    "execution": {
     "iopub.execute_input": "2025-01-16T09:36:36.527621Z",
     "iopub.status.busy": "2025-01-16T09:36:36.527508Z",
     "iopub.status.idle": "2025-01-16T09:36:36.529219Z",
     "shell.execute_reply": "2025-01-16T09:36:36.528939Z"
    },
    "slideshow": {
     "slide_type": "skip"
    }
   },
   "outputs": [],
   "source": [
    "from types import FrameType, TracebackType"
   ]
  },
  {
   "cell_type": "code",
   "execution_count": 6,
   "metadata": {
    "execution": {
     "iopub.execute_input": "2025-01-16T09:36:36.530781Z",
     "iopub.status.busy": "2025-01-16T09:36:36.530695Z",
     "iopub.status.idle": "2025-01-16T09:36:36.532883Z",
     "shell.execute_reply": "2025-01-16T09:36:36.532631Z"
    },
    "slideshow": {
     "slide_type": "subslide"
    }
   },
   "outputs": [],
   "source": [
    "class Collector(Tracer):\n",
    "    \"\"\"A class to record events during execution.\"\"\"\n",
    "\n",
    "    def collect(self, frame: FrameType, event: str, arg: Any) -> None:\n",
    "        \"\"\"Collecting function. To be overridden in subclasses.\"\"\"\n",
    "        pass\n",
    "\n",
    "    def events(self) -> Set:\n",
    "        \"\"\"Return a collection of events. To be overridden in subclasses.\"\"\"\n",
    "        return set()\n",
    "\n",
    "    def traceit(self, frame: FrameType, event: str, arg: Any) -> None:\n",
    "        self.collect(frame, event, arg)"
   ]
  },
  {
   "cell_type": "markdown",
   "metadata": {
    "slideshow": {
     "slide_type": "subslide"
    }
   },
   "source": [
    "A `Collector` class is used like `Tracer`, using a `with` statement. Let us apply it on the buggy variant of `remove_html_markup()` from the [Introduction to Debugging](Intro_Debugging.ipynb):"
   ]
  },
  {
   "cell_type": "code",
   "execution_count": 7,
   "metadata": {
    "execution": {
     "iopub.execute_input": "2025-01-16T09:36:36.534473Z",
     "iopub.status.busy": "2025-01-16T09:36:36.534390Z",
     "iopub.status.idle": "2025-01-16T09:36:36.536615Z",
     "shell.execute_reply": "2025-01-16T09:36:36.536349Z"
    },
    "slideshow": {
     "slide_type": "subslide"
    }
   },
   "outputs": [],
   "source": [
    "def remove_html_markup(s):  # type: ignore\n",
    "    tag = False\n",
    "    quote = False\n",
    "    out = \"\"\n",
    "\n",
    "    for c in s:\n",
    "        if c == '<' and not quote:\n",
    "            tag = True\n",
    "        elif c == '>' and not quote:\n",
    "            tag = False\n",
    "        elif c == '\"' or c == \"'\" and tag:\n",
    "            quote = not quote\n",
    "        elif not tag:\n",
    "            out = out + c\n",
    "\n",
    "    return out"
   ]
  },
  {
   "cell_type": "code",
   "execution_count": 8,
   "metadata": {
    "execution": {
     "iopub.execute_input": "2025-01-16T09:36:36.537979Z",
     "iopub.status.busy": "2025-01-16T09:36:36.537904Z",
     "iopub.status.idle": "2025-01-16T09:36:36.540804Z",
     "shell.execute_reply": "2025-01-16T09:36:36.540503Z"
    },
    "slideshow": {
     "slide_type": "subslide"
    }
   },
   "outputs": [
    {
     "data": {
      "text/plain": [
       "'abc'"
      ]
     },
     "execution_count": 8,
     "metadata": {},
     "output_type": "execute_result"
    }
   ],
   "source": [
    "with Collector() as c:\n",
    "    out = remove_html_markup('\"abc\"')\n",
    "out"
   ]
  },
  {
   "cell_type": "markdown",
   "metadata": {
    "slideshow": {
     "slide_type": "fragment"
    }
   },
   "source": [
    "There's not much we can do with our collector, as the `collect()` and `events()` methods are yet empty. However, we can introduce an `id()` method which returns a string identifying the collector. This string is defined from the _first function call_ encountered."
   ]
  },
  {
   "cell_type": "code",
   "execution_count": 9,
   "metadata": {
    "execution": {
     "iopub.execute_input": "2025-01-16T09:36:36.542301Z",
     "iopub.status.busy": "2025-01-16T09:36:36.542199Z",
     "iopub.status.idle": "2025-01-16T09:36:36.543972Z",
     "shell.execute_reply": "2025-01-16T09:36:36.543709Z"
    },
    "slideshow": {
     "slide_type": "fragment"
    }
   },
   "outputs": [],
   "source": [
    "Coverage = Set[Tuple[Callable, int]]"
   ]
  },
  {
   "cell_type": "code",
   "execution_count": 10,
   "metadata": {
    "execution": {
     "iopub.execute_input": "2025-01-16T09:36:36.545438Z",
     "iopub.status.busy": "2025-01-16T09:36:36.545321Z",
     "iopub.status.idle": "2025-01-16T09:36:36.549850Z",
     "shell.execute_reply": "2025-01-16T09:36:36.549607Z"
    },
    "slideshow": {
     "slide_type": "subslide"
    }
   },
   "outputs": [],
   "source": [
    "class Collector(Collector):\n",
    "    def __init__(self) -> None:\n",
    "        \"\"\"Constructor.\"\"\"\n",
    "        self._function: Optional[Callable] = None\n",
    "        self._args: Optional[Dict[str, Any]] = None\n",
    "        self._argstring: Optional[str] = None\n",
    "        self._exception: Optional[Type] = None\n",
    "        self.items_to_ignore: List[Union[Type, Callable]] = [self.__class__]\n",
    "\n",
    "    def traceit(self, frame: FrameType, event: str, arg: Any) -> None:\n",
    "        \"\"\"\n",
    "        Tracing function.\n",
    "        Saves the first function and calls collect().\n",
    "        \"\"\"\n",
    "        for item in self.items_to_ignore:\n",
    "            if (isinstance(item, type) and 'self' in frame.f_locals and\n",
    "                isinstance(frame.f_locals['self'], item)):\n",
    "                # Ignore this class\n",
    "                return\n",
    "            if item.__name__ == frame.f_code.co_name:\n",
    "                # Ignore this function\n",
    "                return\n",
    "\n",
    "        if self._function is None and event == 'call':\n",
    "            # Save function\n",
    "            self._function = self.create_function(frame)\n",
    "            self._args = frame.f_locals.copy()\n",
    "            self._argstring = \", \".join([f\"{var}={repr(self._args[var])}\" \n",
    "                                         for var in self._args])\n",
    "\n",
    "        self.collect(frame, event, arg)\n",
    "\n",
    "    def collect(self, frame: FrameType, event: str, arg: Any) -> None:\n",
    "        \"\"\"Collector function. To be overloaded in subclasses.\"\"\"\n",
    "        pass\n",
    "\n",
    "    def id(self) -> str:\n",
    "        \"\"\"Return an identifier for the collector, \n",
    "        created from the first call\"\"\"\n",
    "        return f\"{self.function().__name__}({self.argstring()})\"\n",
    "\n",
    "    def function(self) -> Callable:\n",
    "        \"\"\"Return the function from the first call, as a function object\"\"\"\n",
    "        if not self._function:\n",
    "            raise ValueError(\"No call collected\")\n",
    "        return self._function\n",
    "\n",
    "    def argstring(self) -> str:\n",
    "        \"\"\"\n",
    "        Return the list of arguments from the first call,\n",
    "        as a printable string\n",
    "        \"\"\"\n",
    "        if not self._argstring:\n",
    "            raise ValueError(\"No call collected\")\n",
    "        return self._argstring\n",
    "\n",
    "    def args(self) -> Dict[str, Any]:\n",
    "        \"\"\"Return a dict of argument names and values from the first call\"\"\"\n",
    "        if not self._args:\n",
    "            raise ValueError(\"No call collected\")\n",
    "        return self._args\n",
    "\n",
    "    def exception(self) -> Optional[Type]:\n",
    "        \"\"\"Return the exception class from the first call,\n",
    "        or None if no exception was raised.\"\"\"\n",
    "        return self._exception\n",
    "\n",
    "    def __repr__(self) -> str:\n",
    "        \"\"\"Return a string representation of the collector\"\"\"\n",
    "        # We use the ID as default representation when printed\n",
    "        return self.id()\n",
    "\n",
    "    def covered_functions(self) -> Set[Callable]:\n",
    "        \"\"\"Set of covered functions. To be overloaded in subclasses.\"\"\"\n",
    "        return set()\n",
    "\n",
    "    def coverage(self) -> Coverage:\n",
    "        \"\"\"\n",
    "        Return a set (function, lineno) with locations covered.\n",
    "        To be overloaded in subclasses.\n",
    "        \"\"\"\n",
    "        return set()"
   ]
  },
  {
   "cell_type": "markdown",
   "metadata": {
    "slideshow": {
     "slide_type": "subslide"
    }
   },
   "source": [
    "Here's how the collector works. We use a `with` clause to collect details on a function call:"
   ]
  },
  {
   "cell_type": "code",
   "execution_count": 11,
   "metadata": {
    "execution": {
     "iopub.execute_input": "2025-01-16T09:36:36.551928Z",
     "iopub.status.busy": "2025-01-16T09:36:36.551773Z",
     "iopub.status.idle": "2025-01-16T09:36:36.553690Z",
     "shell.execute_reply": "2025-01-16T09:36:36.553442Z"
    },
    "slideshow": {
     "slide_type": "fragment"
    }
   },
   "outputs": [],
   "source": [
    "with Collector() as c:\n",
    "    remove_html_markup('abc')"
   ]
  },
  {
   "cell_type": "markdown",
   "metadata": {
    "slideshow": {
     "slide_type": "fragment"
    }
   },
   "source": [
    "We can now retrieve details such as the function called..."
   ]
  },
  {
   "cell_type": "code",
   "execution_count": 12,
   "metadata": {
    "execution": {
     "iopub.execute_input": "2025-01-16T09:36:36.555233Z",
     "iopub.status.busy": "2025-01-16T09:36:36.555106Z",
     "iopub.status.idle": "2025-01-16T09:36:36.557342Z",
     "shell.execute_reply": "2025-01-16T09:36:36.557011Z"
    },
    "slideshow": {
     "slide_type": "fragment"
    }
   },
   "outputs": [
    {
     "data": {
      "text/plain": [
       "<function __main__.remove_html_markup(s)>"
      ]
     },
     "execution_count": 12,
     "metadata": {},
     "output_type": "execute_result"
    }
   ],
   "source": [
    "c.function()"
   ]
  },
  {
   "cell_type": "markdown",
   "metadata": {
    "slideshow": {
     "slide_type": "fragment"
    }
   },
   "source": [
    "... or its arguments, as a name/value dictionary."
   ]
  },
  {
   "cell_type": "code",
   "execution_count": 13,
   "metadata": {
    "execution": {
     "iopub.execute_input": "2025-01-16T09:36:36.559582Z",
     "iopub.status.busy": "2025-01-16T09:36:36.559411Z",
     "iopub.status.idle": "2025-01-16T09:36:36.562166Z",
     "shell.execute_reply": "2025-01-16T09:36:36.561807Z"
    },
    "slideshow": {
     "slide_type": "fragment"
    }
   },
   "outputs": [
    {
     "data": {
      "text/plain": [
       "{'s': 'abc'}"
      ]
     },
     "execution_count": 13,
     "metadata": {},
     "output_type": "execute_result"
    }
   ],
   "source": [
    "c.args()"
   ]
  },
  {
   "cell_type": "markdown",
   "metadata": {
    "slideshow": {
     "slide_type": "fragment"
    }
   },
   "source": [
    "The `id()` method returns a printable representation of the call:"
   ]
  },
  {
   "cell_type": "code",
   "execution_count": 14,
   "metadata": {
    "execution": {
     "iopub.execute_input": "2025-01-16T09:36:36.563882Z",
     "iopub.status.busy": "2025-01-16T09:36:36.563750Z",
     "iopub.status.idle": "2025-01-16T09:36:36.566166Z",
     "shell.execute_reply": "2025-01-16T09:36:36.565759Z"
    },
    "slideshow": {
     "slide_type": "fragment"
    }
   },
   "outputs": [
    {
     "data": {
      "text/plain": [
       "\"remove_html_markup(s='abc')\""
      ]
     },
     "execution_count": 14,
     "metadata": {},
     "output_type": "execute_result"
    }
   ],
   "source": [
    "c.id()"
   ]
  },
  {
   "cell_type": "markdown",
   "metadata": {
    "slideshow": {
     "slide_type": "fragment"
    }
   },
   "source": [
    "The `argstring()` method does the same for the argument string only."
   ]
  },
  {
   "cell_type": "code",
   "execution_count": 15,
   "metadata": {
    "execution": {
     "iopub.execute_input": "2025-01-16T09:36:36.568108Z",
     "iopub.status.busy": "2025-01-16T09:36:36.567970Z",
     "iopub.status.idle": "2025-01-16T09:36:36.570441Z",
     "shell.execute_reply": "2025-01-16T09:36:36.570096Z"
    },
    "slideshow": {
     "slide_type": "subslide"
    }
   },
   "outputs": [
    {
     "data": {
      "text/plain": [
       "\"s='abc'\""
      ]
     },
     "execution_count": 15,
     "metadata": {},
     "output_type": "execute_result"
    }
   ],
   "source": [
    "c.argstring()"
   ]
  },
  {
   "cell_type": "markdown",
   "metadata": {
    "slideshow": {
     "slide_type": "fragment"
    }
   },
   "source": [
    "With this, we can collect the basic information to identify calls – such that we can later correlate their events with success or failure."
   ]
  },
  {
   "cell_type": "markdown",
   "metadata": {
    "slideshow": {
     "slide_type": "subslide"
    }
   },
   "source": [
    "### Error Prevention"
   ]
  },
  {
   "cell_type": "markdown",
   "metadata": {
    "slideshow": {
     "slide_type": "fragment"
    }
   },
   "source": [
    "While collecting, we'd like to avoid collecting events in the collection infrastructure. The `items_to_ignore` attribute takes care of this."
   ]
  },
  {
   "cell_type": "code",
   "execution_count": 16,
   "metadata": {
    "execution": {
     "iopub.execute_input": "2025-01-16T09:36:36.572334Z",
     "iopub.status.busy": "2025-01-16T09:36:36.572222Z",
     "iopub.status.idle": "2025-01-16T09:36:36.574389Z",
     "shell.execute_reply": "2025-01-16T09:36:36.573988Z"
    },
    "slideshow": {
     "slide_type": "fragment"
    }
   },
   "outputs": [],
   "source": [
    "class Collector(Collector):\n",
    "    def add_items_to_ignore(self,\n",
    "                            items_to_ignore: List[Union[Type, Callable]]) \\\n",
    "                            -> None:\n",
    "        \"\"\"\n",
    "        Define additional classes and functions to ignore during collection\n",
    "        (typically `Debugger` classes using these collectors).\n",
    "        \"\"\"\n",
    "        self.items_to_ignore += items_to_ignore"
   ]
  },
  {
   "cell_type": "markdown",
   "metadata": {
    "slideshow": {
     "slide_type": "fragment"
    }
   },
   "source": [
    "If we exit a block without having collected anything, that's likely an error."
   ]
  },
  {
   "cell_type": "code",
   "execution_count": 17,
   "metadata": {
    "execution": {
     "iopub.execute_input": "2025-01-16T09:36:36.576096Z",
     "iopub.status.busy": "2025-01-16T09:36:36.575982Z",
     "iopub.status.idle": "2025-01-16T09:36:36.578173Z",
     "shell.execute_reply": "2025-01-16T09:36:36.577915Z"
    },
    "slideshow": {
     "slide_type": "subslide"
    }
   },
   "outputs": [],
   "source": [
    "class Collector(Collector):\n",
    "    def __exit__(self, exc_tp: Type, exc_value: BaseException,\n",
    "                 exc_traceback: TracebackType) -> Optional[bool]:\n",
    "        \"\"\"Exit the `with` block.\"\"\"\n",
    "        ret = super().__exit__(exc_tp, exc_value, exc_traceback)\n",
    "\n",
    "        if not self._function:\n",
    "            if exc_tp:\n",
    "                return False  # re-raise exception\n",
    "            else:\n",
    "                raise ValueError(\"No call collected\")\n",
    "\n",
    "        return ret"
   ]
  },
  {
   "cell_type": "markdown",
   "metadata": {
    "slideshow": {
     "slide_type": "slide"
    }
   },
   "source": [
    "## Collecting Coverage\n",
    "\n",
    "So far, our `Collector` class does not collect any events. Let us extend it such that it collects _coverage_ information – that is, the set of locations executed. To this end, we introduce a `CoverageCollector` subclass which saves the coverage in a set containing functions and line numbers."
   ]
  },
  {
   "cell_type": "code",
   "execution_count": 18,
   "metadata": {
    "execution": {
     "iopub.execute_input": "2025-01-16T09:36:36.579546Z",
     "iopub.status.busy": "2025-01-16T09:36:36.579438Z",
     "iopub.status.idle": "2025-01-16T09:36:36.581096Z",
     "shell.execute_reply": "2025-01-16T09:36:36.580818Z"
    },
    "slideshow": {
     "slide_type": "skip"
    }
   },
   "outputs": [],
   "source": [
    "from types import FrameType"
   ]
  },
  {
   "cell_type": "code",
   "execution_count": 19,
   "metadata": {
    "execution": {
     "iopub.execute_input": "2025-01-16T09:36:36.582324Z",
     "iopub.status.busy": "2025-01-16T09:36:36.582244Z",
     "iopub.status.idle": "2025-01-16T09:36:36.583891Z",
     "shell.execute_reply": "2025-01-16T09:36:36.583656Z"
    },
    "slideshow": {
     "slide_type": "skip"
    }
   },
   "outputs": [],
   "source": [
    "from StackInspector import StackInspector"
   ]
  },
  {
   "cell_type": "code",
   "execution_count": 20,
   "metadata": {
    "execution": {
     "iopub.execute_input": "2025-01-16T09:36:36.585145Z",
     "iopub.status.busy": "2025-01-16T09:36:36.585068Z",
     "iopub.status.idle": "2025-01-16T09:36:36.587319Z",
     "shell.execute_reply": "2025-01-16T09:36:36.587093Z"
    },
    "slideshow": {
     "slide_type": "subslide"
    }
   },
   "outputs": [],
   "source": [
    "class CoverageCollector(Collector, StackInspector):\n",
    "    \"\"\"A class to record covered locations during execution.\"\"\"\n",
    "\n",
    "    def __init__(self) -> None:\n",
    "        \"\"\"Constructor.\"\"\"\n",
    "        super().__init__()\n",
    "        self._coverage: Coverage = set()\n",
    "\n",
    "    def collect(self, frame: FrameType, event: str, arg: Any) -> None:\n",
    "        \"\"\"\n",
    "        Save coverage for an observed event.\n",
    "        \"\"\"\n",
    "        name = frame.f_code.co_name\n",
    "        function = self.search_func(name, frame)\n",
    "\n",
    "        if function is None:\n",
    "            function = self.create_function(frame)\n",
    "\n",
    "        location = (function, frame.f_lineno)\n",
    "        self._coverage.add(location)"
   ]
  },
  {
   "cell_type": "markdown",
   "metadata": {
    "slideshow": {
     "slide_type": "subslide"
    }
   },
   "source": [
    "We also override `events()` such that it returns the set of covered locations."
   ]
  },
  {
   "cell_type": "code",
   "execution_count": 21,
   "metadata": {
    "execution": {
     "iopub.execute_input": "2025-01-16T09:36:36.588535Z",
     "iopub.status.busy": "2025-01-16T09:36:36.588457Z",
     "iopub.status.idle": "2025-01-16T09:36:36.590391Z",
     "shell.execute_reply": "2025-01-16T09:36:36.590167Z"
    },
    "slideshow": {
     "slide_type": "fragment"
    }
   },
   "outputs": [],
   "source": [
    "class CoverageCollector(CoverageCollector):\n",
    "    def events(self) -> Set[Tuple[str, int]]:\n",
    "        \"\"\"\n",
    "        Return the set of locations covered.\n",
    "        Each location comes as a pair (`function_name`, `lineno`).\n",
    "        \"\"\"\n",
    "        return {(func.__name__, lineno) for func, lineno in self._coverage}"
   ]
  },
  {
   "cell_type": "markdown",
   "metadata": {
    "slideshow": {
     "slide_type": "fragment"
    }
   },
   "source": [
    "The methods `coverage()` and `covered_functions()` allow precise access to the coverage obtained."
   ]
  },
  {
   "cell_type": "code",
   "execution_count": 22,
   "metadata": {
    "execution": {
     "iopub.execute_input": "2025-01-16T09:36:36.591640Z",
     "iopub.status.busy": "2025-01-16T09:36:36.591564Z",
     "iopub.status.idle": "2025-01-16T09:36:36.593530Z",
     "shell.execute_reply": "2025-01-16T09:36:36.593268Z"
    },
    "slideshow": {
     "slide_type": "subslide"
    }
   },
   "outputs": [],
   "source": [
    "class CoverageCollector(CoverageCollector):\n",
    "    def covered_functions(self) -> Set[Callable]:\n",
    "        \"\"\"Return a set with all functions covered.\"\"\"\n",
    "        return {func for func, lineno in self._coverage}\n",
    "\n",
    "    def coverage(self) -> Coverage:\n",
    "        \"\"\"Return a set (function, lineno) with all locations covered.\"\"\"\n",
    "        return self._coverage"
   ]
  },
  {
   "cell_type": "markdown",
   "metadata": {
    "slideshow": {
     "slide_type": "fragment"
    }
   },
   "source": [
    "Here is how we can use `CoverageCollector` to determine the lines executed during a run of `remove_html_markup()`:"
   ]
  },
  {
   "cell_type": "code",
   "execution_count": 23,
   "metadata": {
    "execution": {
     "iopub.execute_input": "2025-01-16T09:36:36.594739Z",
     "iopub.status.busy": "2025-01-16T09:36:36.594664Z",
     "iopub.status.idle": "2025-01-16T09:36:36.597215Z",
     "shell.execute_reply": "2025-01-16T09:36:36.596960Z"
    },
    "slideshow": {
     "slide_type": "subslide"
    }
   },
   "outputs": [
    {
     "data": {
      "text/plain": [
       "{('remove_html_markup', 1),\n",
       " ('remove_html_markup', 2),\n",
       " ('remove_html_markup', 3),\n",
       " ('remove_html_markup', 4),\n",
       " ('remove_html_markup', 6),\n",
       " ('remove_html_markup', 7),\n",
       " ('remove_html_markup', 9),\n",
       " ('remove_html_markup', 11),\n",
       " ('remove_html_markup', 13),\n",
       " ('remove_html_markup', 14),\n",
       " ('remove_html_markup', 16)}"
      ]
     },
     "execution_count": 23,
     "metadata": {},
     "output_type": "execute_result"
    }
   ],
   "source": [
    "with CoverageCollector() as c:\n",
    "    remove_html_markup('abc')\n",
    "c.events()"
   ]
  },
  {
   "cell_type": "markdown",
   "metadata": {
    "slideshow": {
     "slide_type": "subslide"
    }
   },
   "source": [
    "Sets of line numbers alone are not too revealing. They provide more insights if we actually list the code, highlighting these numbers:"
   ]
  },
  {
   "cell_type": "code",
   "execution_count": 24,
   "metadata": {
    "execution": {
     "iopub.execute_input": "2025-01-16T09:36:36.598493Z",
     "iopub.status.busy": "2025-01-16T09:36:36.598417Z",
     "iopub.status.idle": "2025-01-16T09:36:36.600024Z",
     "shell.execute_reply": "2025-01-16T09:36:36.599766Z"
    },
    "slideshow": {
     "slide_type": "skip"
    }
   },
   "outputs": [],
   "source": [
    "import inspect"
   ]
  },
  {
   "cell_type": "code",
   "execution_count": 25,
   "metadata": {
    "execution": {
     "iopub.execute_input": "2025-01-16T09:36:36.601146Z",
     "iopub.status.busy": "2025-01-16T09:36:36.601074Z",
     "iopub.status.idle": "2025-01-16T09:36:36.602692Z",
     "shell.execute_reply": "2025-01-16T09:36:36.602432Z"
    },
    "slideshow": {
     "slide_type": "skip"
    }
   },
   "outputs": [],
   "source": [
    "from bookutils import getsourcelines    # like inspect.getsourcelines(), but in color"
   ]
  },
  {
   "cell_type": "code",
   "execution_count": 26,
   "metadata": {
    "execution": {
     "iopub.execute_input": "2025-01-16T09:36:36.603884Z",
     "iopub.status.busy": "2025-01-16T09:36:36.603814Z",
     "iopub.status.idle": "2025-01-16T09:36:36.605781Z",
     "shell.execute_reply": "2025-01-16T09:36:36.605544Z"
    },
    "slideshow": {
     "slide_type": "fragment"
    }
   },
   "outputs": [],
   "source": [
    "def code_with_coverage(function: Callable, coverage: Coverage) -> None:\n",
    "    source_lines, starting_line_number = \\\n",
    "       getsourcelines(function)\n",
    "\n",
    "    line_number = starting_line_number\n",
    "    for line in source_lines:\n",
    "        marker = '*' if (function, line_number) in coverage else ' '\n",
    "        print(f\"{line_number:4} {marker} {line}\", end='')\n",
    "        line_number += 1"
   ]
  },
  {
   "cell_type": "code",
   "execution_count": 27,
   "metadata": {
    "execution": {
     "iopub.execute_input": "2025-01-16T09:36:36.606960Z",
     "iopub.status.busy": "2025-01-16T09:36:36.606882Z",
     "iopub.status.idle": "2025-01-16T09:36:36.672823Z",
     "shell.execute_reply": "2025-01-16T09:36:36.672541Z"
    },
    "slideshow": {
     "slide_type": "subslide"
    }
   },
   "outputs": [
    {
     "name": "stdout",
     "output_type": "stream",
     "text": [
      "   1 * \u001b[34mdef\u001b[39;49;00m \u001b[32mremove_html_markup\u001b[39;49;00m(s):  \u001b[37m# type: ignore\u001b[39;49;00m\u001b[37m\u001b[39;49;00m\n",
      "   2 *     tag = \u001b[34mFalse\u001b[39;49;00m\u001b[37m\u001b[39;49;00m\n",
      "   3 *     quote = \u001b[34mFalse\u001b[39;49;00m\u001b[37m\u001b[39;49;00m\n",
      "   4 *     out = \u001b[33m\"\u001b[39;49;00m\u001b[33m\"\u001b[39;49;00m\u001b[37m\u001b[39;49;00m\n",
      "   5   \u001b[37m\u001b[39;49;00m\n",
      "   6 *     \u001b[34mfor\u001b[39;49;00m c \u001b[35min\u001b[39;49;00m s:\u001b[37m\u001b[39;49;00m\n",
      "   7 *         \u001b[34mif\u001b[39;49;00m c == \u001b[33m'\u001b[39;49;00m\u001b[33m<\u001b[39;49;00m\u001b[33m'\u001b[39;49;00m \u001b[35mand\u001b[39;49;00m \u001b[35mnot\u001b[39;49;00m quote:\u001b[37m\u001b[39;49;00m\n",
      "   8               tag = \u001b[34mTrue\u001b[39;49;00m\u001b[37m\u001b[39;49;00m\n",
      "   9 *         \u001b[34melif\u001b[39;49;00m c == \u001b[33m'\u001b[39;49;00m\u001b[33m>\u001b[39;49;00m\u001b[33m'\u001b[39;49;00m \u001b[35mand\u001b[39;49;00m \u001b[35mnot\u001b[39;49;00m quote:\u001b[37m\u001b[39;49;00m\n",
      "  10               tag = \u001b[34mFalse\u001b[39;49;00m\u001b[37m\u001b[39;49;00m\n",
      "  11 *         \u001b[34melif\u001b[39;49;00m c == \u001b[33m'\u001b[39;49;00m\u001b[33m\"\u001b[39;49;00m\u001b[33m'\u001b[39;49;00m \u001b[35mor\u001b[39;49;00m c == \u001b[33m\"\u001b[39;49;00m\u001b[33m'\u001b[39;49;00m\u001b[33m\"\u001b[39;49;00m \u001b[35mand\u001b[39;49;00m tag:\u001b[37m\u001b[39;49;00m\n",
      "  12               quote = \u001b[35mnot\u001b[39;49;00m quote\u001b[37m\u001b[39;49;00m\n",
      "  13 *         \u001b[34melif\u001b[39;49;00m \u001b[35mnot\u001b[39;49;00m tag:\u001b[37m\u001b[39;49;00m\n",
      "  14 *             out = out + c\u001b[37m\u001b[39;49;00m\n",
      "  15   \u001b[37m\u001b[39;49;00m\n",
      "  16 *     \u001b[34mreturn\u001b[39;49;00m out\u001b[37m\u001b[39;49;00m\n"
     ]
    }
   ],
   "source": [
    "code_with_coverage(remove_html_markup, c.coverage())"
   ]
  },
  {
   "cell_type": "markdown",
   "metadata": {
    "slideshow": {
     "slide_type": "subslide"
    }
   },
   "source": [
    "Remember that the input `s` was `\"abc\"`? In this listing, we can see which lines were covered and which lines were not. From the listing already, we can see that `s` has neither tags nor quotes."
   ]
  },
  {
   "cell_type": "markdown",
   "metadata": {
    "slideshow": {
     "slide_type": "fragment"
    }
   },
   "source": [
    "Such coverage computation plays a big role in _testing_, as one wants tests to cover as many different aspects of program execution (and notably code) as possible. But also during debugging, code coverage is essential: If some code was not even executed in the failing run, then any change to it will have no effect."
   ]
  },
  {
   "cell_type": "code",
   "execution_count": 28,
   "metadata": {
    "execution": {
     "iopub.execute_input": "2025-01-16T09:36:36.674419Z",
     "iopub.status.busy": "2025-01-16T09:36:36.674279Z",
     "iopub.status.idle": "2025-01-16T09:36:36.675899Z",
     "shell.execute_reply": "2025-01-16T09:36:36.675650Z"
    },
    "slideshow": {
     "slide_type": "skip"
    }
   },
   "outputs": [],
   "source": [
    "from bookutils import quiz"
   ]
  },
  {
   "cell_type": "code",
   "execution_count": 29,
   "metadata": {
    "execution": {
     "iopub.execute_input": "2025-01-16T09:36:36.677110Z",
     "iopub.status.busy": "2025-01-16T09:36:36.677015Z",
     "iopub.status.idle": "2025-01-16T09:36:36.681402Z",
     "shell.execute_reply": "2025-01-16T09:36:36.681162Z"
    },
    "slideshow": {
     "slide_type": "subslide"
    }
   },
   "outputs": [
    {
     "data": {
      "text/html": [
       "\n",
       "    \n",
       "    <script>\n",
       "    var bad_answers = new Map();\n",
       "\n",
       "    function answer(quiz_id) {\n",
       "        ans = 0;\n",
       "        for (i = 1;; i++) {\n",
       "            checkbox = document.getElementById(quiz_id + \"-\" + i.toString());\n",
       "            if (!checkbox)\n",
       "                break;\n",
       "            if (checkbox.checked)\n",
       "                ans |= (1 << i);\n",
       "        }\n",
       "        return ans;\n",
       "    }\n",
       "    function check_selection(quiz_id, correct_answer, multiple_choice, hint) {\n",
       "        given_answer = answer(quiz_id);\n",
       "        if (given_answer == correct_answer)\n",
       "        {\n",
       "            document.getElementById(quiz_id + \"-submit\").value = \"Correct!\";\n",
       "            document.getElementById(quiz_id + \"-hint\").innerHTML = \"\";\n",
       "\n",
       "            for (i = 1;; i++) {\n",
       "                checkbox = document.getElementById(quiz_id + \"-\" + i.toString());\n",
       "                label = document.getElementById(quiz_id + \"-\" + i.toString() + \"-label\")\n",
       "                if (!checkbox)\n",
       "                    break;\n",
       "\n",
       "                if (checkbox.checked) {\n",
       "                    label.style.fontWeight = \"bold\";\n",
       "                }\n",
       "                else {\n",
       "                    label.style.textDecoration = \"line-through\";\n",
       "                }\n",
       "            }\n",
       "        }\n",
       "        else \n",
       "        {\n",
       "            document.getElementById(quiz_id + \"-submit\").value = \"Try again\";\n",
       "\n",
       "            if (!bad_answers.has(quiz_id)) {\n",
       "                bad_answers.set(quiz_id, 1);\n",
       "            }\n",
       "            else {\n",
       "                bad_answers.set(quiz_id, bad_answers.get(quiz_id) + 1);\n",
       "            }\n",
       "\n",
       "            if (bad_answers.get(quiz_id) >= 2 && hint.length > 0) {\n",
       "                document.getElementById(quiz_id + \"-hint\").innerHTML = \n",
       "                    \"&nbsp;&nbsp;(Hint: <code>\" + hint + \"</code>)\";\n",
       "            }\n",
       "\n",
       "            if (!multiple_choice) {\n",
       "                for (i = 1;; i++) {\n",
       "                    checkbox = document.getElementById(quiz_id + \"-\" + i.toString());\n",
       "                    label = document.getElementById(quiz_id + \"-\" + i.toString() + \"-label\")\n",
       "\n",
       "                    if (!checkbox)\n",
       "                        break;\n",
       "                    if (checkbox.checked) {\n",
       "                        label.style.textDecoration = \"line-through\";\n",
       "                    }\n",
       "                }\n",
       "            }\n",
       "        }\n",
       "    }\n",
       "    function clear_selection(quiz_id) {\n",
       "        document.getElementById(quiz_id + \"-submit\").value = \"Submit\";\n",
       "        document.getElementById(quiz_id + \"-hint\").innerHTML = \"\";\n",
       "    }\n",
       "    </script>\n",
       "    \n",
       "    <div class=\"quiz\">\n",
       "    <h3 class=\"quiz_title\">Quiz</h3>\n",
       "    <p>\n",
       "    <div class=\"quiz_question\">Let the input be <code>\"&lt;b&gt;Don't do this!&lt;/b&gt;\"</code>. Which of these lines are executed? Use the code to find out!</div>\n",
       "    </p>\n",
       "    <p>\n",
       "    <div class=\"quiz_options\" title=\"Check all that apply.\">\n",
       "    \n",
       "        <input type=\"checkbox\" name=\"61694dee-d3ed-11ef-a76f-6298cf1a5790\" id=\"61694dee-d3ed-11ef-a76f-6298cf1a5790-1\" onclick=\"clear_selection('61694dee-d3ed-11ef-a76f-6298cf1a5790')\">\n",
       "        <label id=\"61694dee-d3ed-11ef-a76f-6298cf1a5790-1-label\" for=\"61694dee-d3ed-11ef-a76f-6298cf1a5790-1\"><code>tag = True</code></label><br>\n",
       "    \n",
       "        <input type=\"checkbox\" name=\"61694dee-d3ed-11ef-a76f-6298cf1a5790\" id=\"61694dee-d3ed-11ef-a76f-6298cf1a5790-2\" onclick=\"clear_selection('61694dee-d3ed-11ef-a76f-6298cf1a5790')\">\n",
       "        <label id=\"61694dee-d3ed-11ef-a76f-6298cf1a5790-2-label\" for=\"61694dee-d3ed-11ef-a76f-6298cf1a5790-2\"><code>tag = False</code></label><br>\n",
       "    \n",
       "        <input type=\"checkbox\" name=\"61694dee-d3ed-11ef-a76f-6298cf1a5790\" id=\"61694dee-d3ed-11ef-a76f-6298cf1a5790-3\" onclick=\"clear_selection('61694dee-d3ed-11ef-a76f-6298cf1a5790')\">\n",
       "        <label id=\"61694dee-d3ed-11ef-a76f-6298cf1a5790-3-label\" for=\"61694dee-d3ed-11ef-a76f-6298cf1a5790-3\"><code>quote = not quote</code></label><br>\n",
       "    \n",
       "        <input type=\"checkbox\" name=\"61694dee-d3ed-11ef-a76f-6298cf1a5790\" id=\"61694dee-d3ed-11ef-a76f-6298cf1a5790-4\" onclick=\"clear_selection('61694dee-d3ed-11ef-a76f-6298cf1a5790')\">\n",
       "        <label id=\"61694dee-d3ed-11ef-a76f-6298cf1a5790-4-label\" for=\"61694dee-d3ed-11ef-a76f-6298cf1a5790-4\"><code>out = out + c</code></label><br>\n",
       "    \n",
       "    </div>\n",
       "    </p>\n",
       "    <input id=\"61694dee-d3ed-11ef-a76f-6298cf1a5790-submit\" type=\"submit\" value=\"Submit\" onclick=\"check_selection('61694dee-d3ed-11ef-a76f-6298cf1a5790', 22, 1, '[ord(c) - ord(\\&#x27;a\\&#x27;) - 1 for c in \\&#x27;cdf\\&#x27;]')\">\n",
       "    <span class=\"quiz_hint\" id=\"61694dee-d3ed-11ef-a76f-6298cf1a5790-hint\"></span>\n",
       "    </div>\n",
       "    "
      ],
      "text/plain": [
       "<IPython.core.display.HTML object>"
      ]
     },
     "execution_count": 29,
     "metadata": {},
     "output_type": "execute_result"
    }
   ],
   "source": [
    "quiz('Let the input be `\"<b>Don\\'t do this!</b>\"`. '\n",
    "     \"Which of these lines are executed? Use the code to find out!\",\n",
    "     [\n",
    "         \"`tag = True`\",\n",
    "         \"`tag = False`\",\n",
    "         \"`quote = not quote`\",\n",
    "         \"`out = out + c`\"\n",
    "     ], \"[ord(c) - ord('a') - 1 for c in 'cdf']\")"
   ]
  },
  {
   "cell_type": "markdown",
   "metadata": {
    "slideshow": {
     "slide_type": "fragment"
    }
   },
   "source": [
    "To find the solution, try this out yourself:"
   ]
  },
  {
   "cell_type": "code",
   "execution_count": 30,
   "metadata": {
    "execution": {
     "iopub.execute_input": "2025-01-16T09:36:36.682805Z",
     "iopub.status.busy": "2025-01-16T09:36:36.682702Z",
     "iopub.status.idle": "2025-01-16T09:36:36.684600Z",
     "shell.execute_reply": "2025-01-16T09:36:36.684365Z"
    },
    "slideshow": {
     "slide_type": "fragment"
    }
   },
   "outputs": [],
   "source": [
    "with CoverageCollector() as c:\n",
    "    remove_html_markup(\"<b>Don't do this!</b>\")\n",
    "# code_with_coverage(remove_html_markup, c.coverage)"
   ]
  },
  {
   "cell_type": "markdown",
   "metadata": {
    "slideshow": {
     "slide_type": "slide"
    }
   },
   "source": [
    "## Computing Differences\n",
    "\n",
    "Let us get back to the idea that we want to _correlate_ events with passing and failing outcomes. For this, we need to examine events in both _passing_ and _failing_ runs, and determine their _differences_ – since it is these differences we want to associate with their respective outcome."
   ]
  },
  {
   "cell_type": "markdown",
   "metadata": {
    "slideshow": {
     "slide_type": "subslide"
    }
   },
   "source": [
    "### A Base Class for Statistical Debugging\n",
    "\n",
    "The `StatisticalDebugger` base class takes a collector class (such as `CoverageCollector`). Its `collect()` method creates a new collector of that very class, which will be maintained by the debugger. As argument, `collect()` takes a string characterizing the outcome (such as `'PASS'` or `'FAIL'`). This is how one would use it:\n",
    "\n",
    "```python\n",
    "debugger = StatisticalDebugger()\n",
    "with debugger.collect('PASS'):\n",
    "    some_passing_run()\n",
    "with debugger.collect('PASS'):\n",
    "    another_passing_run()\n",
    "with debugger.collect('FAIL'):\n",
    "    some_failing_run()\n",
    "```"
   ]
  },
  {
   "cell_type": "markdown",
   "metadata": {
    "slideshow": {
     "slide_type": "subslide"
    }
   },
   "source": [
    "Let us implement `StatisticalDebugger`. The base class gets a collector class as argument:"
   ]
  },
  {
   "cell_type": "code",
   "execution_count": 31,
   "metadata": {
    "execution": {
     "iopub.execute_input": "2025-01-16T09:36:36.686057Z",
     "iopub.status.busy": "2025-01-16T09:36:36.685966Z",
     "iopub.status.idle": "2025-01-16T09:36:36.687912Z",
     "shell.execute_reply": "2025-01-16T09:36:36.687667Z"
    },
    "slideshow": {
     "slide_type": "fragment"
    }
   },
   "outputs": [],
   "source": [
    "class StatisticalDebugger:\n",
    "    \"\"\"A class to collect events for multiple outcomes.\"\"\"\n",
    "\n",
    "    def __init__(self, collector_class: Type = CoverageCollector, log: bool = False):\n",
    "        \"\"\"Constructor. Use instances of `collector_class` to collect events.\"\"\"\n",
    "        self.collector_class = collector_class\n",
    "        self.collectors: Dict[str, List[Collector]] = {}\n",
    "        self.log = log"
   ]
  },
  {
   "cell_type": "markdown",
   "metadata": {
    "slideshow": {
     "slide_type": "fragment"
    }
   },
   "source": [
    "The `collect()` method creates (and stores) a collector for the given outcome, using the given outcome to characterize the run. Any additional arguments are passed to the collector."
   ]
  },
  {
   "cell_type": "code",
   "execution_count": 32,
   "metadata": {
    "execution": {
     "iopub.execute_input": "2025-01-16T09:36:36.689243Z",
     "iopub.status.busy": "2025-01-16T09:36:36.689143Z",
     "iopub.status.idle": "2025-01-16T09:36:36.691208Z",
     "shell.execute_reply": "2025-01-16T09:36:36.690986Z"
    },
    "slideshow": {
     "slide_type": "subslide"
    }
   },
   "outputs": [],
   "source": [
    "class StatisticalDebugger(StatisticalDebugger):\n",
    "    def collect(self, outcome: str, *args: Any, **kwargs: Any) -> Collector:\n",
    "        \"\"\"Return a collector for the given outcome. \n",
    "        Additional args are passed to the collector.\"\"\"\n",
    "        collector = self.collector_class(*args, **kwargs)\n",
    "        collector.add_items_to_ignore([self.__class__])\n",
    "        return self.add_collector(outcome, collector)\n",
    "\n",
    "    def add_collector(self, outcome: str, collector: Collector) -> Collector:\n",
    "        if outcome not in self.collectors:\n",
    "            self.collectors[outcome] = []\n",
    "        self.collectors[outcome].append(collector)\n",
    "        return collector"
   ]
  },
  {
   "cell_type": "markdown",
   "metadata": {
    "slideshow": {
     "slide_type": "subslide"
    }
   },
   "source": [
    "The `all_events()` method produces a union of all events observed. If an outcome is given, it produces a union of all events with that outcome:"
   ]
  },
  {
   "cell_type": "code",
   "execution_count": 33,
   "metadata": {
    "execution": {
     "iopub.execute_input": "2025-01-16T09:36:36.692615Z",
     "iopub.status.busy": "2025-01-16T09:36:36.692508Z",
     "iopub.status.idle": "2025-01-16T09:36:36.694583Z",
     "shell.execute_reply": "2025-01-16T09:36:36.694350Z"
    },
    "slideshow": {
     "slide_type": "subslide"
    }
   },
   "outputs": [],
   "source": [
    "class StatisticalDebugger(StatisticalDebugger):\n",
    "    def all_events(self, outcome: Optional[str] = None) -> Set[Any]:\n",
    "        \"\"\"Return a set of all events observed.\"\"\"\n",
    "        all_events = set()\n",
    "\n",
    "        if outcome:\n",
    "            if outcome in self.collectors:\n",
    "                for collector in self.collectors[outcome]:\n",
    "                    all_events.update(collector.events())\n",
    "        else:\n",
    "            for outcome in self.collectors:\n",
    "                for collector in self.collectors[outcome]:\n",
    "                    all_events.update(collector.events())\n",
    "\n",
    "        return all_events"
   ]
  },
  {
   "cell_type": "markdown",
   "metadata": {
    "slideshow": {
     "slide_type": "subslide"
    }
   },
   "source": [
    "Here's a simple example of `StatisticalDebugger` in action:"
   ]
  },
  {
   "cell_type": "code",
   "execution_count": 34,
   "metadata": {
    "execution": {
     "iopub.execute_input": "2025-01-16T09:36:36.695816Z",
     "iopub.status.busy": "2025-01-16T09:36:36.695721Z",
     "iopub.status.idle": "2025-01-16T09:36:36.698224Z",
     "shell.execute_reply": "2025-01-16T09:36:36.697985Z"
    },
    "slideshow": {
     "slide_type": "fragment"
    }
   },
   "outputs": [],
   "source": [
    "s = StatisticalDebugger()\n",
    "with s.collect('PASS'):\n",
    "    remove_html_markup(\"abc\")\n",
    "with s.collect('PASS'):\n",
    "    remove_html_markup('<b>abc</b>')\n",
    "with s.collect('FAIL'):\n",
    "    remove_html_markup('\"abc\"')"
   ]
  },
  {
   "cell_type": "markdown",
   "metadata": {
    "slideshow": {
     "slide_type": "fragment"
    }
   },
   "source": [
    "The method `all_events()` returns all events collected:"
   ]
  },
  {
   "cell_type": "code",
   "execution_count": 35,
   "metadata": {
    "execution": {
     "iopub.execute_input": "2025-01-16T09:36:36.699507Z",
     "iopub.status.busy": "2025-01-16T09:36:36.699411Z",
     "iopub.status.idle": "2025-01-16T09:36:36.701569Z",
     "shell.execute_reply": "2025-01-16T09:36:36.701322Z"
    },
    "slideshow": {
     "slide_type": "subslide"
    }
   },
   "outputs": [
    {
     "data": {
      "text/plain": [
       "{('remove_html_markup', 1),\n",
       " ('remove_html_markup', 2),\n",
       " ('remove_html_markup', 3),\n",
       " ('remove_html_markup', 4),\n",
       " ('remove_html_markup', 6),\n",
       " ('remove_html_markup', 7),\n",
       " ('remove_html_markup', 8),\n",
       " ('remove_html_markup', 9),\n",
       " ('remove_html_markup', 10),\n",
       " ('remove_html_markup', 11),\n",
       " ('remove_html_markup', 12),\n",
       " ('remove_html_markup', 13),\n",
       " ('remove_html_markup', 14),\n",
       " ('remove_html_markup', 16)}"
      ]
     },
     "execution_count": 35,
     "metadata": {},
     "output_type": "execute_result"
    }
   ],
   "source": [
    "s.all_events()"
   ]
  },
  {
   "cell_type": "markdown",
   "metadata": {
    "slideshow": {
     "slide_type": "subslide"
    }
   },
   "source": [
    "If given an outcome as argument, we obtain all events with the given outcome."
   ]
  },
  {
   "cell_type": "code",
   "execution_count": 36,
   "metadata": {
    "execution": {
     "iopub.execute_input": "2025-01-16T09:36:36.702952Z",
     "iopub.status.busy": "2025-01-16T09:36:36.702855Z",
     "iopub.status.idle": "2025-01-16T09:36:36.704943Z",
     "shell.execute_reply": "2025-01-16T09:36:36.704718Z"
    },
    "slideshow": {
     "slide_type": "fragment"
    }
   },
   "outputs": [
    {
     "data": {
      "text/plain": [
       "{('remove_html_markup', 1),\n",
       " ('remove_html_markup', 2),\n",
       " ('remove_html_markup', 3),\n",
       " ('remove_html_markup', 4),\n",
       " ('remove_html_markup', 6),\n",
       " ('remove_html_markup', 7),\n",
       " ('remove_html_markup', 9),\n",
       " ('remove_html_markup', 11),\n",
       " ('remove_html_markup', 12),\n",
       " ('remove_html_markup', 13),\n",
       " ('remove_html_markup', 14),\n",
       " ('remove_html_markup', 16)}"
      ]
     },
     "execution_count": 36,
     "metadata": {},
     "output_type": "execute_result"
    }
   ],
   "source": [
    "s.all_events('FAIL')"
   ]
  },
  {
   "cell_type": "markdown",
   "metadata": {
    "slideshow": {
     "slide_type": "subslide"
    }
   },
   "source": [
    "The attribute `collectors` maps outcomes to lists of collectors:"
   ]
  },
  {
   "cell_type": "code",
   "execution_count": 37,
   "metadata": {
    "execution": {
     "iopub.execute_input": "2025-01-16T09:36:36.706305Z",
     "iopub.status.busy": "2025-01-16T09:36:36.706192Z",
     "iopub.status.idle": "2025-01-16T09:36:36.708301Z",
     "shell.execute_reply": "2025-01-16T09:36:36.708038Z"
    },
    "slideshow": {
     "slide_type": "fragment"
    }
   },
   "outputs": [
    {
     "data": {
      "text/plain": [
       "{'PASS': [remove_html_markup(s='abc'), remove_html_markup(s='<b>abc</b>')],\n",
       " 'FAIL': [remove_html_markup(s='\"abc\"')]}"
      ]
     },
     "execution_count": 37,
     "metadata": {},
     "output_type": "execute_result"
    }
   ],
   "source": [
    "s.collectors"
   ]
  },
  {
   "cell_type": "markdown",
   "metadata": {
    "slideshow": {
     "slide_type": "fragment"
    }
   },
   "source": [
    "Here's the collector of the one (and first) passing run:"
   ]
  },
  {
   "cell_type": "code",
   "execution_count": 38,
   "metadata": {
    "execution": {
     "iopub.execute_input": "2025-01-16T09:36:36.709729Z",
     "iopub.status.busy": "2025-01-16T09:36:36.709634Z",
     "iopub.status.idle": "2025-01-16T09:36:36.711599Z",
     "shell.execute_reply": "2025-01-16T09:36:36.711364Z"
    },
    "slideshow": {
     "slide_type": "fragment"
    }
   },
   "outputs": [
    {
     "data": {
      "text/plain": [
       "\"remove_html_markup(s='abc')\""
      ]
     },
     "execution_count": 38,
     "metadata": {},
     "output_type": "execute_result"
    }
   ],
   "source": [
    "s.collectors['PASS'][0].id()"
   ]
  },
  {
   "cell_type": "code",
   "execution_count": 39,
   "metadata": {
    "execution": {
     "iopub.execute_input": "2025-01-16T09:36:36.712775Z",
     "iopub.status.busy": "2025-01-16T09:36:36.712675Z",
     "iopub.status.idle": "2025-01-16T09:36:36.714920Z",
     "shell.execute_reply": "2025-01-16T09:36:36.714688Z"
    },
    "slideshow": {
     "slide_type": "subslide"
    }
   },
   "outputs": [
    {
     "data": {
      "text/plain": [
       "{('remove_html_markup', 1),\n",
       " ('remove_html_markup', 2),\n",
       " ('remove_html_markup', 3),\n",
       " ('remove_html_markup', 4),\n",
       " ('remove_html_markup', 6),\n",
       " ('remove_html_markup', 7),\n",
       " ('remove_html_markup', 9),\n",
       " ('remove_html_markup', 11),\n",
       " ('remove_html_markup', 13),\n",
       " ('remove_html_markup', 14),\n",
       " ('remove_html_markup', 16)}"
      ]
     },
     "execution_count": 39,
     "metadata": {},
     "output_type": "execute_result"
    }
   ],
   "source": [
    "s.collectors['PASS'][0].events()"
   ]
  },
  {
   "cell_type": "markdown",
   "metadata": {
    "slideshow": {
     "slide_type": "fragment"
    }
   },
   "source": [
    "To better highlight the differences between the collected events, we introduce a method `event_table()` that prints out whether an event took place in a run."
   ]
  },
  {
   "cell_type": "markdown",
   "metadata": {
    "slideshow": {
     "slide_type": "subslide"
    }
   },
   "source": [
    "### Excursion: Printing an Event Table"
   ]
  },
  {
   "cell_type": "code",
   "execution_count": 40,
   "metadata": {
    "execution": {
     "iopub.execute_input": "2025-01-16T09:36:36.716289Z",
     "iopub.status.busy": "2025-01-16T09:36:36.716191Z",
     "iopub.status.idle": "2025-01-16T09:36:36.717776Z",
     "shell.execute_reply": "2025-01-16T09:36:36.717544Z"
    },
    "slideshow": {
     "slide_type": "skip"
    }
   },
   "outputs": [],
   "source": [
    "from IPython.display import Markdown"
   ]
  },
  {
   "cell_type": "code",
   "execution_count": 41,
   "metadata": {
    "execution": {
     "iopub.execute_input": "2025-01-16T09:36:36.718982Z",
     "iopub.status.busy": "2025-01-16T09:36:36.718902Z",
     "iopub.status.idle": "2025-01-16T09:36:36.720468Z",
     "shell.execute_reply": "2025-01-16T09:36:36.720246Z"
    },
    "slideshow": {
     "slide_type": "skip"
    }
   },
   "outputs": [],
   "source": [
    "import html"
   ]
  },
  {
   "cell_type": "code",
   "execution_count": 42,
   "metadata": {
    "execution": {
     "iopub.execute_input": "2025-01-16T09:36:36.721769Z",
     "iopub.status.busy": "2025-01-16T09:36:36.721694Z",
     "iopub.status.idle": "2025-01-16T09:36:36.728317Z",
     "shell.execute_reply": "2025-01-16T09:36:36.728059Z"
    },
    "slideshow": {
     "slide_type": "subslide"
    }
   },
   "outputs": [],
   "source": [
    "class StatisticalDebugger(StatisticalDebugger):\n",
    "    def function(self) -> Optional[Callable]:\n",
    "        \"\"\"\n",
    "        Return the entry function from the events observed,\n",
    "        or None if ambiguous.\n",
    "        \"\"\"\n",
    "        names_seen = set()\n",
    "        functions = []\n",
    "        for outcome in self.collectors:\n",
    "            for collector in self.collectors[outcome]:\n",
    "                # We may have multiple copies of the function,\n",
    "                # but sharing the same name\n",
    "                func = collector.function()\n",
    "                if func.__name__ not in names_seen:\n",
    "                    functions.append(func)\n",
    "                    names_seen.add(func.__name__)\n",
    "\n",
    "        if len(functions) != 1:\n",
    "            return None  # ambiguous\n",
    "        return functions[0]\n",
    "\n",
    "    def covered_functions(self) -> Set[Callable]:\n",
    "        \"\"\"Return a set of all functions observed.\"\"\"\n",
    "        functions = set()\n",
    "        for outcome in self.collectors:\n",
    "            for collector in self.collectors[outcome]:\n",
    "                functions |= collector.covered_functions()\n",
    "        return functions\n",
    "\n",
    "    def coverage(self) -> Coverage:\n",
    "        \"\"\"Return a set of all (functions, line_numbers) observed\"\"\"\n",
    "        coverage = set()\n",
    "        for outcome in self.collectors:\n",
    "            for collector in self.collectors[outcome]:\n",
    "                coverage |= collector.coverage()\n",
    "        return coverage\n",
    "\n",
    "    def color(self, event: Any) -> Optional[str]:\n",
    "        \"\"\"\n",
    "        Return a color for the given event, or None.\n",
    "        To be overloaded in subclasses.\n",
    "        \"\"\"\n",
    "        return None\n",
    "\n",
    "    def tooltip(self, event: Any) -> Optional[str]:\n",
    "        \"\"\"\n",
    "        Return a tooltip string for the given event, or None.\n",
    "        To be overloaded in subclasses.\n",
    "        \"\"\"\n",
    "        return None\n",
    "\n",
    "    def event_str(self, event: Any) -> str:\n",
    "        \"\"\"Format the given event. To be overloaded in subclasses.\"\"\"\n",
    "        if isinstance(event, str):\n",
    "            return event\n",
    "        if isinstance(event, tuple):\n",
    "            return \":\".join(self.event_str(elem) for elem in event)\n",
    "        return str(event)\n",
    "\n",
    "    def event_table_text(self, *, args: bool = False, color: bool = False) -> str:\n",
    "        \"\"\"\n",
    "        Print out a table of events observed.\n",
    "        If `args` is True, use arguments as headers.\n",
    "        If `color` is True, use colors.\n",
    "        \"\"\"\n",
    "        sep = ' | '\n",
    "        all_events = self.all_events()\n",
    "        longest_event = max(len(f\"{self.event_str(event)}\") \n",
    "                            for event in all_events)\n",
    "        out = \"\"\n",
    "\n",
    "        # Header\n",
    "        if args:\n",
    "            out += '| '\n",
    "            func = self.function()\n",
    "            if func:\n",
    "                out += '`' + func.__name__ + '`'\n",
    "            out += sep\n",
    "            for name in self.collectors:\n",
    "                for collector in self.collectors[name]:\n",
    "                    out += '`' + collector.argstring() + '`' + sep\n",
    "            out += '\\n'\n",
    "        else:\n",
    "            out += '| ' + ' ' * longest_event + sep\n",
    "            for name in self.collectors:\n",
    "                for i in range(len(self.collectors[name])):\n",
    "                    out += name + sep\n",
    "            out += '\\n'\n",
    "\n",
    "        out += '| ' + '-' * longest_event + sep\n",
    "        for name in self.collectors:\n",
    "            for i in range(len(self.collectors[name])):\n",
    "                out += '-' * len(name) + sep\n",
    "        out += '\\n'\n",
    "\n",
    "        # Data\n",
    "        for event in sorted(all_events):\n",
    "            event_name = self.event_str(event).rjust(longest_event)\n",
    "\n",
    "            tooltip = self.tooltip(event)\n",
    "            if tooltip:\n",
    "                title = f' title=\"{tooltip}\"'\n",
    "            else:\n",
    "                title = ''\n",
    "\n",
    "            if color:\n",
    "                color_name = self.color(event)\n",
    "                if color_name:\n",
    "                    event_name = \\\n",
    "                        f'<samp style=\"background-color: {color_name}\"{title}>' \\\n",
    "                        f'{html.escape(event_name)}' \\\n",
    "                        f'</samp>'\n",
    "\n",
    "            out += f\"| {event_name}\" + sep\n",
    "            for name in self.collectors:\n",
    "                for collector in self.collectors[name]:\n",
    "                    out += ' ' * (len(name) - 1)\n",
    "                    if event in collector.events():\n",
    "                        out += \"X\"\n",
    "                    else:\n",
    "                        out += \"-\"\n",
    "                    out += sep\n",
    "            out += '\\n'\n",
    "\n",
    "        return out\n",
    "\n",
    "    def event_table(self, **_args: Any) -> Any:\n",
    "        \"\"\"Print out event table in Markdown format.\"\"\"\n",
    "        return Markdown(self.event_table_text(**_args))\n",
    "\n",
    "    def __repr__(self) -> str:\n",
    "        return self.event_table_text()\n",
    "\n",
    "    def _repr_markdown_(self) -> str:\n",
    "        return self.event_table_text(args=True, color=True)"
   ]
  },
  {
   "cell_type": "markdown",
   "metadata": {
    "slideshow": {
     "slide_type": "subslide"
    }
   },
   "source": [
    "### End of Excursion"
   ]
  },
  {
   "cell_type": "code",
   "execution_count": 43,
   "metadata": {
    "execution": {
     "iopub.execute_input": "2025-01-16T09:36:36.730036Z",
     "iopub.status.busy": "2025-01-16T09:36:36.729940Z",
     "iopub.status.idle": "2025-01-16T09:36:36.732626Z",
     "shell.execute_reply": "2025-01-16T09:36:36.732324Z"
    },
    "slideshow": {
     "slide_type": "fragment"
    }
   },
   "outputs": [],
   "source": [
    "s = StatisticalDebugger()\n",
    "with s.collect('PASS'):\n",
    "    remove_html_markup(\"abc\")\n",
    "with s.collect('PASS'):\n",
    "    remove_html_markup('<b>abc</b>')\n",
    "with s.collect('FAIL'):\n",
    "    remove_html_markup('\"abc\"')"
   ]
  },
  {
   "cell_type": "code",
   "execution_count": 44,
   "metadata": {
    "execution": {
     "iopub.execute_input": "2025-01-16T09:36:36.734084Z",
     "iopub.status.busy": "2025-01-16T09:36:36.733980Z",
     "iopub.status.idle": "2025-01-16T09:36:36.736273Z",
     "shell.execute_reply": "2025-01-16T09:36:36.736002Z"
    },
    "slideshow": {
     "slide_type": "fragment"
    }
   },
   "outputs": [
    {
     "data": {
      "text/markdown": [
       "| `remove_html_markup` | `s='abc'` | `s='<b>abc</b>'` | `s='\"abc\"'` | \n",
       "| --------------------- | ---- | ---- | ---- | \n",
       "|  remove_html_markup:1 |    X |    X |    X | \n",
       "|  remove_html_markup:2 |    X |    X |    X | \n",
       "|  remove_html_markup:3 |    X |    X |    X | \n",
       "|  remove_html_markup:4 |    X |    X |    X | \n",
       "|  remove_html_markup:6 |    X |    X |    X | \n",
       "|  remove_html_markup:7 |    X |    X |    X | \n",
       "|  remove_html_markup:8 |    - |    X |    - | \n",
       "|  remove_html_markup:9 |    X |    X |    X | \n",
       "| remove_html_markup:10 |    - |    X |    - | \n",
       "| remove_html_markup:11 |    X |    X |    X | \n",
       "| remove_html_markup:12 |    - |    - |    X | \n",
       "| remove_html_markup:13 |    X |    X |    X | \n",
       "| remove_html_markup:14 |    X |    X |    X | \n",
       "| remove_html_markup:16 |    X |    X |    X | \n"
      ],
      "text/plain": [
       "<IPython.core.display.Markdown object>"
      ]
     },
     "execution_count": 44,
     "metadata": {},
     "output_type": "execute_result"
    }
   ],
   "source": [
    "s.event_table(args=True)"
   ]
  },
  {
   "cell_type": "code",
   "execution_count": 45,
   "metadata": {
    "execution": {
     "iopub.execute_input": "2025-01-16T09:36:36.737580Z",
     "iopub.status.busy": "2025-01-16T09:36:36.737482Z",
     "iopub.status.idle": "2025-01-16T09:36:36.740509Z",
     "shell.execute_reply": "2025-01-16T09:36:36.740266Z"
    },
    "slideshow": {
     "slide_type": "subslide"
    }
   },
   "outputs": [
    {
     "data": {
      "text/html": [
       "\n",
       "    \n",
       "    <script>\n",
       "    var bad_answers = new Map();\n",
       "\n",
       "    function answer(quiz_id) {\n",
       "        ans = 0;\n",
       "        for (i = 1;; i++) {\n",
       "            checkbox = document.getElementById(quiz_id + \"-\" + i.toString());\n",
       "            if (!checkbox)\n",
       "                break;\n",
       "            if (checkbox.checked)\n",
       "                ans |= (1 << i);\n",
       "        }\n",
       "        return ans;\n",
       "    }\n",
       "    function check_selection(quiz_id, correct_answer, multiple_choice, hint) {\n",
       "        given_answer = answer(quiz_id);\n",
       "        if (given_answer == correct_answer)\n",
       "        {\n",
       "            document.getElementById(quiz_id + \"-submit\").value = \"Correct!\";\n",
       "            document.getElementById(quiz_id + \"-hint\").innerHTML = \"\";\n",
       "\n",
       "            for (i = 1;; i++) {\n",
       "                checkbox = document.getElementById(quiz_id + \"-\" + i.toString());\n",
       "                label = document.getElementById(quiz_id + \"-\" + i.toString() + \"-label\")\n",
       "                if (!checkbox)\n",
       "                    break;\n",
       "\n",
       "                if (checkbox.checked) {\n",
       "                    label.style.fontWeight = \"bold\";\n",
       "                }\n",
       "                else {\n",
       "                    label.style.textDecoration = \"line-through\";\n",
       "                }\n",
       "            }\n",
       "        }\n",
       "        else \n",
       "        {\n",
       "            document.getElementById(quiz_id + \"-submit\").value = \"Try again\";\n",
       "\n",
       "            if (!bad_answers.has(quiz_id)) {\n",
       "                bad_answers.set(quiz_id, 1);\n",
       "            }\n",
       "            else {\n",
       "                bad_answers.set(quiz_id, bad_answers.get(quiz_id) + 1);\n",
       "            }\n",
       "\n",
       "            if (bad_answers.get(quiz_id) >= 2 && hint.length > 0) {\n",
       "                document.getElementById(quiz_id + \"-hint\").innerHTML = \n",
       "                    \"&nbsp;&nbsp;(Hint: <code>\" + hint + \"</code>)\";\n",
       "            }\n",
       "\n",
       "            if (!multiple_choice) {\n",
       "                for (i = 1;; i++) {\n",
       "                    checkbox = document.getElementById(quiz_id + \"-\" + i.toString());\n",
       "                    label = document.getElementById(quiz_id + \"-\" + i.toString() + \"-label\")\n",
       "\n",
       "                    if (!checkbox)\n",
       "                        break;\n",
       "                    if (checkbox.checked) {\n",
       "                        label.style.textDecoration = \"line-through\";\n",
       "                    }\n",
       "                }\n",
       "            }\n",
       "        }\n",
       "    }\n",
       "    function clear_selection(quiz_id) {\n",
       "        document.getElementById(quiz_id + \"-submit\").value = \"Submit\";\n",
       "        document.getElementById(quiz_id + \"-hint\").innerHTML = \"\";\n",
       "    }\n",
       "    </script>\n",
       "    \n",
       "    <div class=\"quiz\">\n",
       "    <h3 class=\"quiz_title\">Quiz</h3>\n",
       "    <p>\n",
       "    <div class=\"quiz_question\">How many lines are executed in the failing run only?</div>\n",
       "    </p>\n",
       "    <p>\n",
       "    <div class=\"quiz_options\" title=\"Pick a choice.\">\n",
       "    \n",
       "        <input type=\"radio\" name=\"61728378-d3ed-11ef-a76f-6298cf1a5790\" id=\"61728378-d3ed-11ef-a76f-6298cf1a5790-1\" onclick=\"clear_selection('61728378-d3ed-11ef-a76f-6298cf1a5790')\">\n",
       "        <label id=\"61728378-d3ed-11ef-a76f-6298cf1a5790-1-label\" for=\"61728378-d3ed-11ef-a76f-6298cf1a5790-1\">One</label><br>\n",
       "    \n",
       "        <input type=\"radio\" name=\"61728378-d3ed-11ef-a76f-6298cf1a5790\" id=\"61728378-d3ed-11ef-a76f-6298cf1a5790-2\" onclick=\"clear_selection('61728378-d3ed-11ef-a76f-6298cf1a5790')\">\n",
       "        <label id=\"61728378-d3ed-11ef-a76f-6298cf1a5790-2-label\" for=\"61728378-d3ed-11ef-a76f-6298cf1a5790-2\">Two</label><br>\n",
       "    \n",
       "        <input type=\"radio\" name=\"61728378-d3ed-11ef-a76f-6298cf1a5790\" id=\"61728378-d3ed-11ef-a76f-6298cf1a5790-3\" onclick=\"clear_selection('61728378-d3ed-11ef-a76f-6298cf1a5790')\">\n",
       "        <label id=\"61728378-d3ed-11ef-a76f-6298cf1a5790-3-label\" for=\"61728378-d3ed-11ef-a76f-6298cf1a5790-3\">Three</label><br>\n",
       "    \n",
       "    </div>\n",
       "    </p>\n",
       "    <input id=\"61728378-d3ed-11ef-a76f-6298cf1a5790-submit\" type=\"submit\" value=\"Submit\" onclick=\"check_selection('61728378-d3ed-11ef-a76f-6298cf1a5790', 2, 0, 'len([12])')\">\n",
       "    <span class=\"quiz_hint\" id=\"61728378-d3ed-11ef-a76f-6298cf1a5790-hint\"></span>\n",
       "    </div>\n",
       "    "
      ],
      "text/plain": [
       "<IPython.core.display.HTML object>"
      ]
     },
     "execution_count": 45,
     "metadata": {},
     "output_type": "execute_result"
    }
   ],
   "source": [
    "quiz(\"How many lines are executed in the failing run only?\",\n",
    "     [\n",
    "         \"One\",\n",
    "         \"Two\",\n",
    "         \"Three\"\n",
    "     ], 'len([12])')"
   ]
  },
  {
   "cell_type": "markdown",
   "metadata": {
    "slideshow": {
     "slide_type": "fragment"
    }
   },
   "source": [
    "Indeed, Line 12 executed in the failing run only would be a correlation to look for."
   ]
  },
  {
   "cell_type": "markdown",
   "metadata": {
    "slideshow": {
     "slide_type": "subslide"
    }
   },
   "source": [
    "### Collecting Passing and Failing Runs\n",
    "\n",
    "While our `StatisticalDebugger` class allows arbitrary outcomes, we are typically only interested in two outcomes, namely _passing_ vs. _failing_ runs. We therefore introduce a specialized `DifferenceDebugger` class that provides customized methods to collect and access passing and failing runs."
   ]
  },
  {
   "cell_type": "code",
   "execution_count": 46,
   "metadata": {
    "execution": {
     "iopub.execute_input": "2025-01-16T09:36:36.741890Z",
     "iopub.status.busy": "2025-01-16T09:36:36.741814Z",
     "iopub.status.idle": "2025-01-16T09:36:36.745076Z",
     "shell.execute_reply": "2025-01-16T09:36:36.744839Z"
    },
    "slideshow": {
     "slide_type": "subslide"
    }
   },
   "outputs": [],
   "source": [
    "class DifferenceDebugger(StatisticalDebugger):\n",
    "    \"\"\"A class to collect events for passing and failing outcomes.\"\"\"\n",
    "\n",
    "    PASS = 'PASS'\n",
    "    FAIL = 'FAIL'\n",
    "\n",
    "    def collect_pass(self, *args: Any, **kwargs: Any) -> Collector:\n",
    "        \"\"\"Return a collector for passing runs.\"\"\"\n",
    "        return self.collect(self.PASS, *args, **kwargs)\n",
    "\n",
    "    def collect_fail(self, *args: Any, **kwargs: Any) -> Collector:\n",
    "        \"\"\"Return a collector for failing runs.\"\"\"\n",
    "        return self.collect(self.FAIL, *args, **kwargs)\n",
    "\n",
    "    def pass_collectors(self) -> List[Collector]:\n",
    "        return self.collectors[self.PASS]\n",
    "\n",
    "    def fail_collectors(self) -> List[Collector]:\n",
    "        return self.collectors[self.FAIL]\n",
    "\n",
    "    def all_fail_events(self) -> Set[Any]:\n",
    "        \"\"\"Return all events observed in failing runs.\"\"\"\n",
    "        return self.all_events(self.FAIL)\n",
    "\n",
    "    def all_pass_events(self) -> Set[Any]:\n",
    "        \"\"\"Return all events observed in passing runs.\"\"\"\n",
    "        return self.all_events(self.PASS)\n",
    "\n",
    "    def only_fail_events(self) -> Set[Any]:\n",
    "        \"\"\"Return all events observed only in failing runs.\"\"\"\n",
    "        return self.all_fail_events() - self.all_pass_events()\n",
    "\n",
    "    def only_pass_events(self) -> Set[Any]:\n",
    "        \"\"\"Return all events observed only in passing runs.\"\"\"\n",
    "        return self.all_pass_events() - self.all_fail_events()"
   ]
  },
  {
   "cell_type": "markdown",
   "metadata": {
    "slideshow": {
     "slide_type": "subslide"
    }
   },
   "source": [
    "We can use `DifferenceDebugger` just as a `StatisticalDebugger`:"
   ]
  },
  {
   "cell_type": "code",
   "execution_count": 47,
   "metadata": {
    "execution": {
     "iopub.execute_input": "2025-01-16T09:36:36.746518Z",
     "iopub.status.busy": "2025-01-16T09:36:36.746437Z",
     "iopub.status.idle": "2025-01-16T09:36:36.748066Z",
     "shell.execute_reply": "2025-01-16T09:36:36.747804Z"
    },
    "slideshow": {
     "slide_type": "fragment"
    }
   },
   "outputs": [],
   "source": [
    "# ignore\n",
    "T1 = TypeVar('T1', bound='DifferenceDebugger')"
   ]
  },
  {
   "cell_type": "code",
   "execution_count": 48,
   "metadata": {
    "execution": {
     "iopub.execute_input": "2025-01-16T09:36:36.749308Z",
     "iopub.status.busy": "2025-01-16T09:36:36.749230Z",
     "iopub.status.idle": "2025-01-16T09:36:36.751106Z",
     "shell.execute_reply": "2025-01-16T09:36:36.750879Z"
    },
    "slideshow": {
     "slide_type": "fragment"
    }
   },
   "outputs": [],
   "source": [
    "def test_debugger_html_simple(debugger: T1) -> T1:\n",
    "    with debugger.collect_pass():\n",
    "        remove_html_markup('abc')\n",
    "    with debugger.collect_pass():\n",
    "        remove_html_markup('<b>abc</b>')\n",
    "    with debugger.collect_fail():\n",
    "        remove_html_markup('\"abc\"')\n",
    "    return debugger"
   ]
  },
  {
   "cell_type": "markdown",
   "metadata": {
    "slideshow": {
     "slide_type": "fragment"
    }
   },
   "source": [
    "However, since the outcome of tests may not always be predetermined, we provide a simpler interface for tests that can fail (= raise an exception) or pass (not raise an exception)."
   ]
  },
  {
   "cell_type": "code",
   "execution_count": 49,
   "metadata": {
    "execution": {
     "iopub.execute_input": "2025-01-16T09:36:36.752348Z",
     "iopub.status.busy": "2025-01-16T09:36:36.752269Z",
     "iopub.status.idle": "2025-01-16T09:36:36.754768Z",
     "shell.execute_reply": "2025-01-16T09:36:36.754507Z"
    },
    "slideshow": {
     "slide_type": "subslide"
    }
   },
   "outputs": [],
   "source": [
    "class DifferenceDebugger(DifferenceDebugger):\n",
    "    def __enter__(self) -> Any:\n",
    "        \"\"\"Enter a `with` block. Collect coverage and outcome;\n",
    "        classify as FAIL if the block raises an exception,\n",
    "        and PASS if it does not.\n",
    "        \"\"\"\n",
    "        self.collector = self.collector_class()\n",
    "        self.collector.add_items_to_ignore([self.__class__])\n",
    "        self.collector.__enter__()\n",
    "        return self\n",
    "\n",
    "    def __exit__(self, exc_tp: Type, exc_value: BaseException,\n",
    "                 exc_traceback: TracebackType) -> Optional[bool]:\n",
    "        \"\"\"Exit the `with` block.\"\"\"\n",
    "        status = self.collector.__exit__(exc_tp, exc_value, exc_traceback)\n",
    "\n",
    "        if status is None:\n",
    "            pass\n",
    "        else:\n",
    "            return False  # Internal error; re-raise exception\n",
    "\n",
    "        if exc_tp is None:\n",
    "            outcome = self.PASS\n",
    "        else:\n",
    "            outcome = self.FAIL\n",
    "\n",
    "        self.add_collector(outcome, self.collector)\n",
    "        return True  # Ignore exception, if any"
   ]
  },
  {
   "cell_type": "markdown",
   "metadata": {
    "slideshow": {
     "slide_type": "subslide"
    }
   },
   "source": [
    "Using this interface, we can rewrite `test_debugger_html()`:"
   ]
  },
  {
   "cell_type": "code",
   "execution_count": 50,
   "metadata": {
    "execution": {
     "iopub.execute_input": "2025-01-16T09:36:36.756764Z",
     "iopub.status.busy": "2025-01-16T09:36:36.756664Z",
     "iopub.status.idle": "2025-01-16T09:36:36.758159Z",
     "shell.execute_reply": "2025-01-16T09:36:36.757936Z"
    },
    "slideshow": {
     "slide_type": "fragment"
    }
   },
   "outputs": [],
   "source": [
    "# ignore\n",
    "T2 = TypeVar('T2', bound='DifferenceDebugger')"
   ]
  },
  {
   "cell_type": "code",
   "execution_count": 51,
   "metadata": {
    "execution": {
     "iopub.execute_input": "2025-01-16T09:36:36.759287Z",
     "iopub.status.busy": "2025-01-16T09:36:36.759215Z",
     "iopub.status.idle": "2025-01-16T09:36:36.761046Z",
     "shell.execute_reply": "2025-01-16T09:36:36.760816Z"
    },
    "slideshow": {
     "slide_type": "fragment"
    }
   },
   "outputs": [],
   "source": [
    "def test_debugger_html(debugger: T2) -> T2:\n",
    "    with debugger:\n",
    "        remove_html_markup('abc')\n",
    "    with debugger:\n",
    "        remove_html_markup('<b>abc</b>')\n",
    "    with debugger:\n",
    "        remove_html_markup('\"abc\"')\n",
    "        assert False  # Mark test as failing\n",
    "\n",
    "    return debugger"
   ]
  },
  {
   "cell_type": "code",
   "execution_count": 52,
   "metadata": {
    "execution": {
     "iopub.execute_input": "2025-01-16T09:36:36.762319Z",
     "iopub.status.busy": "2025-01-16T09:36:36.762242Z",
     "iopub.status.idle": "2025-01-16T09:36:36.765260Z",
     "shell.execute_reply": "2025-01-16T09:36:36.765039Z"
    },
    "slideshow": {
     "slide_type": "subslide"
    }
   },
   "outputs": [
    {
     "data": {
      "text/markdown": [
       "| `remove_html_markup` | `s='abc'` | `s='<b>abc</b>'` | `s='\"abc\"'` | \n",
       "| --------------------- | ---- | ---- | ---- | \n",
       "|  remove_html_markup:1 |    X |    X |    X | \n",
       "|  remove_html_markup:2 |    X |    X |    X | \n",
       "|  remove_html_markup:3 |    X |    X |    X | \n",
       "|  remove_html_markup:4 |    X |    X |    X | \n",
       "|  remove_html_markup:6 |    X |    X |    X | \n",
       "|  remove_html_markup:7 |    X |    X |    X | \n",
       "|  remove_html_markup:8 |    - |    X |    - | \n",
       "|  remove_html_markup:9 |    X |    X |    X | \n",
       "| remove_html_markup:10 |    - |    X |    - | \n",
       "| remove_html_markup:11 |    X |    X |    X | \n",
       "| remove_html_markup:12 |    - |    - |    X | \n",
       "| remove_html_markup:13 |    X |    X |    X | \n",
       "| remove_html_markup:14 |    X |    X |    X | \n",
       "| remove_html_markup:16 |    X |    X |    X | \n"
      ],
      "text/plain": [
       "|                       | PASS | PASS | FAIL | \n",
       "| --------------------- | ---- | ---- | ---- | \n",
       "|  remove_html_markup:1 |    X |    X |    X | \n",
       "|  remove_html_markup:2 |    X |    X |    X | \n",
       "|  remove_html_markup:3 |    X |    X |    X | \n",
       "|  remove_html_markup:4 |    X |    X |    X | \n",
       "|  remove_html_markup:6 |    X |    X |    X | \n",
       "|  remove_html_markup:7 |    X |    X |    X | \n",
       "|  remove_html_markup:8 |    - |    X |    - | \n",
       "|  remove_html_markup:9 |    X |    X |    X | \n",
       "| remove_html_markup:10 |    - |    X |    - | \n",
       "| remove_html_markup:11 |    X |    X |    X | \n",
       "| remove_html_markup:12 |    - |    - |    X | \n",
       "| remove_html_markup:13 |    X |    X |    X | \n",
       "| remove_html_markup:14 |    X |    X |    X | \n",
       "| remove_html_markup:16 |    X |    X |    X | "
      ]
     },
     "execution_count": 52,
     "metadata": {},
     "output_type": "execute_result"
    }
   ],
   "source": [
    "test_debugger_html(DifferenceDebugger())"
   ]
  },
  {
   "cell_type": "markdown",
   "metadata": {
    "slideshow": {
     "slide_type": "subslide"
    }
   },
   "source": [
    "### Analyzing Events\n",
    "\n",
    "Let us now focus on _analyzing_ events collected. Since events come back as _sets_, we can compute _unions_ and _differences_ between these sets. For instance, we can compute which lines were executed in _any_ of the passing runs of `test_debugger_html()`, above:"
   ]
  },
  {
   "cell_type": "code",
   "execution_count": 53,
   "metadata": {
    "execution": {
     "iopub.execute_input": "2025-01-16T09:36:36.766506Z",
     "iopub.status.busy": "2025-01-16T09:36:36.766428Z",
     "iopub.status.idle": "2025-01-16T09:36:36.768745Z",
     "shell.execute_reply": "2025-01-16T09:36:36.768491Z"
    },
    "slideshow": {
     "slide_type": "fragment"
    }
   },
   "outputs": [],
   "source": [
    "debugger = test_debugger_html(DifferenceDebugger())"
   ]
  },
  {
   "cell_type": "code",
   "execution_count": 54,
   "metadata": {
    "execution": {
     "iopub.execute_input": "2025-01-16T09:36:36.769971Z",
     "iopub.status.busy": "2025-01-16T09:36:36.769889Z",
     "iopub.status.idle": "2025-01-16T09:36:36.771570Z",
     "shell.execute_reply": "2025-01-16T09:36:36.771284Z"
    },
    "slideshow": {
     "slide_type": "fragment"
    }
   },
   "outputs": [],
   "source": [
    "pass_1_events = debugger.pass_collectors()[0].events()"
   ]
  },
  {
   "cell_type": "code",
   "execution_count": 55,
   "metadata": {
    "execution": {
     "iopub.execute_input": "2025-01-16T09:36:36.772799Z",
     "iopub.status.busy": "2025-01-16T09:36:36.772723Z",
     "iopub.status.idle": "2025-01-16T09:36:36.774295Z",
     "shell.execute_reply": "2025-01-16T09:36:36.774034Z"
    },
    "slideshow": {
     "slide_type": "fragment"
    }
   },
   "outputs": [],
   "source": [
    "pass_2_events = debugger.pass_collectors()[1].events()"
   ]
  },
  {
   "cell_type": "code",
   "execution_count": 56,
   "metadata": {
    "execution": {
     "iopub.execute_input": "2025-01-16T09:36:36.775520Z",
     "iopub.status.busy": "2025-01-16T09:36:36.775442Z",
     "iopub.status.idle": "2025-01-16T09:36:36.777492Z",
     "shell.execute_reply": "2025-01-16T09:36:36.777258Z"
    },
    "slideshow": {
     "slide_type": "subslide"
    }
   },
   "outputs": [
    {
     "data": {
      "text/plain": [
       "{('remove_html_markup', 1),\n",
       " ('remove_html_markup', 2),\n",
       " ('remove_html_markup', 3),\n",
       " ('remove_html_markup', 4),\n",
       " ('remove_html_markup', 6),\n",
       " ('remove_html_markup', 7),\n",
       " ('remove_html_markup', 8),\n",
       " ('remove_html_markup', 9),\n",
       " ('remove_html_markup', 10),\n",
       " ('remove_html_markup', 11),\n",
       " ('remove_html_markup', 13),\n",
       " ('remove_html_markup', 14),\n",
       " ('remove_html_markup', 16)}"
      ]
     },
     "execution_count": 56,
     "metadata": {},
     "output_type": "execute_result"
    }
   ],
   "source": [
    "in_any_pass = pass_1_events | pass_2_events\n",
    "in_any_pass"
   ]
  },
  {
   "cell_type": "markdown",
   "metadata": {
    "slideshow": {
     "slide_type": "subslide"
    }
   },
   "source": [
    "Likewise, we can determine which lines were _only_ executed in the failing run:"
   ]
  },
  {
   "cell_type": "code",
   "execution_count": 57,
   "metadata": {
    "execution": {
     "iopub.execute_input": "2025-01-16T09:36:36.778705Z",
     "iopub.status.busy": "2025-01-16T09:36:36.778621Z",
     "iopub.status.idle": "2025-01-16T09:36:36.780183Z",
     "shell.execute_reply": "2025-01-16T09:36:36.779931Z"
    },
    "slideshow": {
     "slide_type": "fragment"
    }
   },
   "outputs": [],
   "source": [
    "fail_events = debugger.fail_collectors()[0].events()"
   ]
  },
  {
   "cell_type": "code",
   "execution_count": 58,
   "metadata": {
    "execution": {
     "iopub.execute_input": "2025-01-16T09:36:36.781398Z",
     "iopub.status.busy": "2025-01-16T09:36:36.781301Z",
     "iopub.status.idle": "2025-01-16T09:36:36.783248Z",
     "shell.execute_reply": "2025-01-16T09:36:36.783037Z"
    },
    "slideshow": {
     "slide_type": "fragment"
    }
   },
   "outputs": [
    {
     "data": {
      "text/plain": [
       "{('remove_html_markup', 12)}"
      ]
     },
     "execution_count": 58,
     "metadata": {},
     "output_type": "execute_result"
    }
   ],
   "source": [
    "only_in_fail = fail_events - in_any_pass\n",
    "only_in_fail"
   ]
  },
  {
   "cell_type": "markdown",
   "metadata": {
    "slideshow": {
     "slide_type": "fragment"
    }
   },
   "source": [
    "And we see that the \"failing\" run is characterized by processing quotes:"
   ]
  },
  {
   "cell_type": "code",
   "execution_count": 59,
   "metadata": {
    "execution": {
     "iopub.execute_input": "2025-01-16T09:36:36.784509Z",
     "iopub.status.busy": "2025-01-16T09:36:36.784417Z",
     "iopub.status.idle": "2025-01-16T09:36:36.796608Z",
     "shell.execute_reply": "2025-01-16T09:36:36.796346Z"
    },
    "slideshow": {
     "slide_type": "subslide"
    }
   },
   "outputs": [
    {
     "name": "stdout",
     "output_type": "stream",
     "text": [
      "   1   \u001b[34mdef\u001b[39;49;00m \u001b[32mremove_html_markup\u001b[39;49;00m(s):  \u001b[37m# type: ignore\u001b[39;49;00m\u001b[37m\u001b[39;49;00m\n",
      "   2       tag = \u001b[34mFalse\u001b[39;49;00m\u001b[37m\u001b[39;49;00m\n",
      "   3       quote = \u001b[34mFalse\u001b[39;49;00m\u001b[37m\u001b[39;49;00m\n",
      "   4       out = \u001b[33m\"\u001b[39;49;00m\u001b[33m\"\u001b[39;49;00m\u001b[37m\u001b[39;49;00m\n",
      "   5   \u001b[37m\u001b[39;49;00m\n",
      "   6       \u001b[34mfor\u001b[39;49;00m c \u001b[35min\u001b[39;49;00m s:\u001b[37m\u001b[39;49;00m\n",
      "   7           \u001b[34mif\u001b[39;49;00m c == \u001b[33m'\u001b[39;49;00m\u001b[33m<\u001b[39;49;00m\u001b[33m'\u001b[39;49;00m \u001b[35mand\u001b[39;49;00m \u001b[35mnot\u001b[39;49;00m quote:\u001b[37m\u001b[39;49;00m\n",
      "   8               tag = \u001b[34mTrue\u001b[39;49;00m\u001b[37m\u001b[39;49;00m\n",
      "   9           \u001b[34melif\u001b[39;49;00m c == \u001b[33m'\u001b[39;49;00m\u001b[33m>\u001b[39;49;00m\u001b[33m'\u001b[39;49;00m \u001b[35mand\u001b[39;49;00m \u001b[35mnot\u001b[39;49;00m quote:\u001b[37m\u001b[39;49;00m\n",
      "  10               tag = \u001b[34mFalse\u001b[39;49;00m\u001b[37m\u001b[39;49;00m\n",
      "  11           \u001b[34melif\u001b[39;49;00m c == \u001b[33m'\u001b[39;49;00m\u001b[33m\"\u001b[39;49;00m\u001b[33m'\u001b[39;49;00m \u001b[35mor\u001b[39;49;00m c == \u001b[33m\"\u001b[39;49;00m\u001b[33m'\u001b[39;49;00m\u001b[33m\"\u001b[39;49;00m \u001b[35mand\u001b[39;49;00m tag:\u001b[37m\u001b[39;49;00m\n",
      "  12               quote = \u001b[35mnot\u001b[39;49;00m quote\u001b[37m\u001b[39;49;00m\n",
      "  13           \u001b[34melif\u001b[39;49;00m \u001b[35mnot\u001b[39;49;00m tag:\u001b[37m\u001b[39;49;00m\n",
      "  14               out = out + c\u001b[37m\u001b[39;49;00m\n",
      "  15   \u001b[37m\u001b[39;49;00m\n",
      "  16       \u001b[34mreturn\u001b[39;49;00m out\u001b[37m\u001b[39;49;00m\n"
     ]
    }
   ],
   "source": [
    "code_with_coverage(remove_html_markup, only_in_fail)"
   ]
  },
  {
   "cell_type": "code",
   "execution_count": 60,
   "metadata": {
    "execution": {
     "iopub.execute_input": "2025-01-16T09:36:36.797788Z",
     "iopub.status.busy": "2025-01-16T09:36:36.797709Z",
     "iopub.status.idle": "2025-01-16T09:36:36.800013Z",
     "shell.execute_reply": "2025-01-16T09:36:36.799783Z"
    },
    "slideshow": {
     "slide_type": "subslide"
    }
   },
   "outputs": [],
   "source": [
    "debugger = test_debugger_html(DifferenceDebugger())"
   ]
  },
  {
   "cell_type": "code",
   "execution_count": 61,
   "metadata": {
    "execution": {
     "iopub.execute_input": "2025-01-16T09:36:36.801184Z",
     "iopub.status.busy": "2025-01-16T09:36:36.801108Z",
     "iopub.status.idle": "2025-01-16T09:36:36.803395Z",
     "shell.execute_reply": "2025-01-16T09:36:36.803118Z"
    },
    "slideshow": {
     "slide_type": "subslide"
    }
   },
   "outputs": [
    {
     "data": {
      "text/plain": [
       "{('remove_html_markup', 1),\n",
       " ('remove_html_markup', 2),\n",
       " ('remove_html_markup', 3),\n",
       " ('remove_html_markup', 4),\n",
       " ('remove_html_markup', 6),\n",
       " ('remove_html_markup', 7),\n",
       " ('remove_html_markup', 8),\n",
       " ('remove_html_markup', 9),\n",
       " ('remove_html_markup', 10),\n",
       " ('remove_html_markup', 11),\n",
       " ('remove_html_markup', 12),\n",
       " ('remove_html_markup', 13),\n",
       " ('remove_html_markup', 14),\n",
       " ('remove_html_markup', 16)}"
      ]
     },
     "execution_count": 61,
     "metadata": {},
     "output_type": "execute_result"
    }
   ],
   "source": [
    "debugger.all_events()"
   ]
  },
  {
   "cell_type": "markdown",
   "metadata": {
    "slideshow": {
     "slide_type": "subslide"
    }
   },
   "source": [
    "These are the lines executed only in the failing run:"
   ]
  },
  {
   "cell_type": "code",
   "execution_count": 62,
   "metadata": {
    "execution": {
     "iopub.execute_input": "2025-01-16T09:36:36.804657Z",
     "iopub.status.busy": "2025-01-16T09:36:36.804582Z",
     "iopub.status.idle": "2025-01-16T09:36:36.806584Z",
     "shell.execute_reply": "2025-01-16T09:36:36.806363Z"
    },
    "slideshow": {
     "slide_type": "fragment"
    }
   },
   "outputs": [
    {
     "data": {
      "text/plain": [
       "{('remove_html_markup', 12)}"
      ]
     },
     "execution_count": 62,
     "metadata": {},
     "output_type": "execute_result"
    }
   ],
   "source": [
    "debugger.only_fail_events()"
   ]
  },
  {
   "cell_type": "markdown",
   "metadata": {
    "slideshow": {
     "slide_type": "fragment"
    }
   },
   "source": [
    "These are the lines executed only in the passing runs:"
   ]
  },
  {
   "cell_type": "code",
   "execution_count": 63,
   "metadata": {
    "execution": {
     "iopub.execute_input": "2025-01-16T09:36:36.807827Z",
     "iopub.status.busy": "2025-01-16T09:36:36.807754Z",
     "iopub.status.idle": "2025-01-16T09:36:36.809833Z",
     "shell.execute_reply": "2025-01-16T09:36:36.809589Z"
    },
    "slideshow": {
     "slide_type": "fragment"
    }
   },
   "outputs": [
    {
     "data": {
      "text/plain": [
       "{('remove_html_markup', 8), ('remove_html_markup', 10)}"
      ]
     },
     "execution_count": 63,
     "metadata": {},
     "output_type": "execute_result"
    }
   ],
   "source": [
    "debugger.only_pass_events()"
   ]
  },
  {
   "cell_type": "markdown",
   "metadata": {
    "slideshow": {
     "slide_type": "fragment"
    }
   },
   "source": [
    "Again, having these lines individually is neat, but things become much more interesting if we can see the associated code lines just as well. That's what we will do in the next section."
   ]
  },
  {
   "cell_type": "markdown",
   "metadata": {
    "slideshow": {
     "slide_type": "slide"
    }
   },
   "source": [
    "## Visualizing Differences\n",
    "\n",
    "To show correlations of line coverage in context, we introduce a number of _visualization_ techniques that _highlight_ code with different colors."
   ]
  },
  {
   "cell_type": "markdown",
   "metadata": {
    "slideshow": {
     "slide_type": "subslide"
    }
   },
   "source": [
    "### Discrete Spectrum\n",
    "\n",
    "The first idea is to use a _discrete_ spectrum of three colors:\n",
    "\n",
    "* _red_ for code executed in failing runs only\n",
    "* _green_ for code executed in passing runs only\n",
    "* _yellow_ for code executed in both passing and failing runs.\n",
    "\n",
    "Code that is not executed stays unhighlighted."
   ]
  },
  {
   "cell_type": "markdown",
   "metadata": {
    "slideshow": {
     "slide_type": "subslide"
    }
   },
   "source": [
    "We first introduce an abstract class `SpectrumDebugger` that provides the essential functions. `suspiciousness()` returns a value between 0 and 1 indicating the suspiciousness of the given event - or `None` if unknown."
   ]
  },
  {
   "cell_type": "code",
   "execution_count": 64,
   "metadata": {
    "execution": {
     "iopub.execute_input": "2025-01-16T09:36:36.811229Z",
     "iopub.status.busy": "2025-01-16T09:36:36.811157Z",
     "iopub.status.idle": "2025-01-16T09:36:36.813022Z",
     "shell.execute_reply": "2025-01-16T09:36:36.812805Z"
    },
    "slideshow": {
     "slide_type": "fragment"
    }
   },
   "outputs": [],
   "source": [
    "class SpectrumDebugger(DifferenceDebugger):\n",
    "    def suspiciousness(self, event: Any) -> Optional[float]:\n",
    "        \"\"\"\n",
    "        Return a suspiciousness value in the range [0, 1.0]\n",
    "        for the given event, or `None` if unknown.\n",
    "        To be overloaded in subclasses.\n",
    "        \"\"\"\n",
    "        return None"
   ]
  },
  {
   "cell_type": "markdown",
   "metadata": {
    "slideshow": {
     "slide_type": "fragment"
    }
   },
   "source": [
    "The `tooltip()` and `percentage()` methods convert the suspiciousness into a human-readable form."
   ]
  },
  {
   "cell_type": "code",
   "execution_count": 65,
   "metadata": {
    "execution": {
     "iopub.execute_input": "2025-01-16T09:36:36.814303Z",
     "iopub.status.busy": "2025-01-16T09:36:36.814228Z",
     "iopub.status.idle": "2025-01-16T09:36:36.816377Z",
     "shell.execute_reply": "2025-01-16T09:36:36.816139Z"
    },
    "slideshow": {
     "slide_type": "subslide"
    }
   },
   "outputs": [],
   "source": [
    "class SpectrumDebugger(SpectrumDebugger):\n",
    "    def tooltip(self, event: Any) -> str:\n",
    "        \"\"\"\n",
    "        Return a tooltip for the given event (default: percentage).\n",
    "        To be overloaded in subclasses.\n",
    "        \"\"\"\n",
    "        return self.percentage(event)\n",
    "\n",
    "    def percentage(self, event: Any) -> str:\n",
    "        \"\"\"\n",
    "        Return the suspiciousness for the given event as percentage string.\n",
    "        \"\"\"\n",
    "        suspiciousness = self.suspiciousness(event)\n",
    "        if suspiciousness is not None:\n",
    "            return str(int(suspiciousness * 100)).rjust(3) + '%'\n",
    "        else:\n",
    "            return ' ' * len('100%')"
   ]
  },
  {
   "cell_type": "markdown",
   "metadata": {
    "slideshow": {
     "slide_type": "subslide"
    }
   },
   "source": [
    "The `code()` method takes a function and shows each of its source code lines using the given spectrum, using HTML markup:"
   ]
  },
  {
   "cell_type": "code",
   "execution_count": 66,
   "metadata": {
    "execution": {
     "iopub.execute_input": "2025-01-16T09:36:36.817638Z",
     "iopub.status.busy": "2025-01-16T09:36:36.817563Z",
     "iopub.status.idle": "2025-01-16T09:36:36.821104Z",
     "shell.execute_reply": "2025-01-16T09:36:36.820865Z"
    },
    "slideshow": {
     "slide_type": "subslide"
    }
   },
   "outputs": [],
   "source": [
    "class SpectrumDebugger(SpectrumDebugger):\n",
    "    def code(self, functions: Optional[Set[Callable]] = None, *, \n",
    "             color: bool = False, suspiciousness: bool = False,\n",
    "             line_numbers: bool = True) -> str:\n",
    "        \"\"\"\n",
    "        Return a listing of `functions` (default: covered functions).\n",
    "        If `color` is True, render as HTML, using suspiciousness colors.\n",
    "        If `suspiciousness` is True, include suspiciousness values.\n",
    "        If `line_numbers` is True (default), include line numbers.\n",
    "        \"\"\"\n",
    "\n",
    "        if not functions:\n",
    "            functions = self.covered_functions()\n",
    "\n",
    "        out = \"\"\n",
    "        seen = set()\n",
    "        for function in functions:\n",
    "            source_lines, starting_line_number = \\\n",
    "               inspect.getsourcelines(function)\n",
    "\n",
    "            if (function.__name__, starting_line_number) in seen:\n",
    "                continue\n",
    "            seen.add((function.__name__, starting_line_number))\n",
    "\n",
    "            if out:\n",
    "                out += '\\n'\n",
    "                if color:\n",
    "                    out += '<p/>'\n",
    "\n",
    "            line_number = starting_line_number\n",
    "            for line in source_lines:\n",
    "                if color:\n",
    "                    line = html.escape(line)\n",
    "                    if line.strip() == '':\n",
    "                        line = '&nbsp;'\n",
    "\n",
    "                location = (function.__name__, line_number)\n",
    "                location_suspiciousness = self.suspiciousness(location)\n",
    "                if location_suspiciousness is not None:\n",
    "                    tooltip = f\"Line {line_number}: {self.tooltip(location)}\"\n",
    "                else:\n",
    "                    tooltip = f\"Line {line_number}: not executed\"\n",
    "\n",
    "                if suspiciousness:\n",
    "                    line = self.percentage(location) + ' ' + line\n",
    "\n",
    "                if line_numbers:\n",
    "                    line = str(line_number).rjust(4) + ' ' + line\n",
    "\n",
    "                line_color = self.color(location)\n",
    "\n",
    "                if color and line_color:\n",
    "                    line = f'''<pre style=\"background-color:{line_color}\"\n",
    "                    title=\"{tooltip}\">{line.rstrip()}</pre>'''\n",
    "                elif color:\n",
    "                    line = f'<pre title=\"{tooltip}\">{line}</pre>'\n",
    "                else:\n",
    "                    line = line.rstrip()\n",
    "\n",
    "                out += line + '\\n'\n",
    "                line_number += 1\n",
    "\n",
    "        return out"
   ]
  },
  {
   "cell_type": "markdown",
   "metadata": {
    "slideshow": {
     "slide_type": "subslide"
    }
   },
   "source": [
    "We introduce a few helper methods to visualize the code with colors in various forms."
   ]
  },
  {
   "cell_type": "code",
   "execution_count": 67,
   "metadata": {
    "execution": {
     "iopub.execute_input": "2025-01-16T09:36:36.822394Z",
     "iopub.status.busy": "2025-01-16T09:36:36.822318Z",
     "iopub.status.idle": "2025-01-16T09:36:36.824331Z",
     "shell.execute_reply": "2025-01-16T09:36:36.824097Z"
    },
    "slideshow": {
     "slide_type": "fragment"
    }
   },
   "outputs": [],
   "source": [
    "class SpectrumDebugger(SpectrumDebugger):\n",
    "    def _repr_html_(self) -> str:\n",
    "        \"\"\"When output in Jupyter, visualize as HTML\"\"\"\n",
    "        return self.code(color=True)\n",
    "\n",
    "    def __str__(self) -> str:\n",
    "        \"\"\"Show code as string\"\"\"\n",
    "        return self.code(color=False, suspiciousness=True)\n",
    "\n",
    "    def __repr__(self) -> str:\n",
    "        \"\"\"Show code as string\"\"\"\n",
    "        return self.code(color=False, suspiciousness=True)"
   ]
  },
  {
   "cell_type": "markdown",
   "metadata": {
    "slideshow": {
     "slide_type": "subslide"
    }
   },
   "source": [
    "So far, however, central methods like `suspiciousness()` or `color()` were abstract – that is, to be defined in subclasses. Our `DiscreteSpectrumDebugger` subclass provides concrete implementations for these, with `color()` returning one of the three colors depending on the line number:"
   ]
  },
  {
   "cell_type": "code",
   "execution_count": 68,
   "metadata": {
    "execution": {
     "iopub.execute_input": "2025-01-16T09:36:36.825657Z",
     "iopub.status.busy": "2025-01-16T09:36:36.825581Z",
     "iopub.status.idle": "2025-01-16T09:36:36.828624Z",
     "shell.execute_reply": "2025-01-16T09:36:36.828377Z"
    },
    "slideshow": {
     "slide_type": "subslide"
    }
   },
   "outputs": [],
   "source": [
    "class DiscreteSpectrumDebugger(SpectrumDebugger):\n",
    "    \"\"\"Visualize differences between executions using three discrete colors\"\"\"\n",
    "\n",
    "    def suspiciousness(self, event: Any) -> Optional[float]:\n",
    "        \"\"\"\n",
    "        Return a suspiciousness value [0, 1.0]\n",
    "        for the given event, or `None` if unknown.\n",
    "        \"\"\"\n",
    "        passing = self.all_pass_events()\n",
    "        failing = self.all_fail_events()\n",
    "\n",
    "        if event in passing and event in failing:\n",
    "            return 0.5\n",
    "        elif event in failing:\n",
    "            return 1.0\n",
    "        elif event in passing:\n",
    "            return 0.0\n",
    "        else:\n",
    "            return None\n",
    "\n",
    "    def color(self, event: Any) -> Optional[str]:\n",
    "        \"\"\"\n",
    "        Return a HTML color for the given event.\n",
    "        \"\"\"\n",
    "        suspiciousness = self.suspiciousness(event)\n",
    "        if suspiciousness is None:\n",
    "            return None\n",
    "\n",
    "        if suspiciousness > 0.8:\n",
    "            return 'mistyrose'\n",
    "        if suspiciousness >= 0.5:\n",
    "            return 'lightyellow'\n",
    "\n",
    "        return 'honeydew'\n",
    "\n",
    "    def tooltip(self, event: Any) -> str:\n",
    "        \"\"\"Return a tooltip for the given event.\"\"\"\n",
    "        passing = self.all_pass_events()\n",
    "        failing = self.all_fail_events()\n",
    "\n",
    "        if event in passing and event in failing:\n",
    "            return \"in passing and failing runs\"\n",
    "        elif event in failing:\n",
    "            return \"only in failing runs\"\n",
    "        elif event in passing:\n",
    "            return \"only in passing runs\"\n",
    "        else:\n",
    "            return \"never\""
   ]
  },
  {
   "cell_type": "markdown",
   "metadata": {
    "slideshow": {
     "slide_type": "subslide"
    }
   },
   "source": [
    "This is how the `only_pass_events()` and `only_fail_events()` sets look like when visualized with code. The \"culprit\" line is well highlighted:"
   ]
  },
  {
   "cell_type": "code",
   "execution_count": 69,
   "metadata": {
    "execution": {
     "iopub.execute_input": "2025-01-16T09:36:36.830893Z",
     "iopub.status.busy": "2025-01-16T09:36:36.830789Z",
     "iopub.status.idle": "2025-01-16T09:36:36.833145Z",
     "shell.execute_reply": "2025-01-16T09:36:36.832892Z"
    },
    "slideshow": {
     "slide_type": "fragment"
    }
   },
   "outputs": [],
   "source": [
    "debugger = test_debugger_html(DiscreteSpectrumDebugger())"
   ]
  },
  {
   "cell_type": "code",
   "execution_count": 70,
   "metadata": {
    "execution": {
     "iopub.execute_input": "2025-01-16T09:36:36.834383Z",
     "iopub.status.busy": "2025-01-16T09:36:36.834281Z",
     "iopub.status.idle": "2025-01-16T09:36:36.837165Z",
     "shell.execute_reply": "2025-01-16T09:36:36.836922Z"
    },
    "slideshow": {
     "slide_type": "subslide"
    }
   },
   "outputs": [
    {
     "data": {
      "text/html": [
       "<pre style=\"background-color:lightyellow\"\n",
       "                    title=\"Line 1: in passing and failing runs\">   1 def remove_html_markup(s):  # type: ignore</pre>\n",
       "<pre style=\"background-color:lightyellow\"\n",
       "                    title=\"Line 2: in passing and failing runs\">   2     tag = False</pre>\n",
       "<pre style=\"background-color:lightyellow\"\n",
       "                    title=\"Line 3: in passing and failing runs\">   3     quote = False</pre>\n",
       "<pre style=\"background-color:lightyellow\"\n",
       "                    title=\"Line 4: in passing and failing runs\">   4     out = &quot;&quot;</pre>\n",
       "<pre title=\"Line 5: not executed\">   5 &nbsp;</pre>\n",
       "<pre style=\"background-color:lightyellow\"\n",
       "                    title=\"Line 6: in passing and failing runs\">   6     for c in s:</pre>\n",
       "<pre style=\"background-color:lightyellow\"\n",
       "                    title=\"Line 7: in passing and failing runs\">   7         if c == &#x27;&lt;&#x27; and not quote:</pre>\n",
       "<pre style=\"background-color:honeydew\"\n",
       "                    title=\"Line 8: only in passing runs\">   8             tag = True</pre>\n",
       "<pre style=\"background-color:lightyellow\"\n",
       "                    title=\"Line 9: in passing and failing runs\">   9         elif c == &#x27;&gt;&#x27; and not quote:</pre>\n",
       "<pre style=\"background-color:honeydew\"\n",
       "                    title=\"Line 10: only in passing runs\">  10             tag = False</pre>\n",
       "<pre style=\"background-color:lightyellow\"\n",
       "                    title=\"Line 11: in passing and failing runs\">  11         elif c == &#x27;&quot;&#x27; or c == &quot;&#x27;&quot; and tag:</pre>\n",
       "<pre style=\"background-color:mistyrose\"\n",
       "                    title=\"Line 12: only in failing runs\">  12             quote = not quote</pre>\n",
       "<pre style=\"background-color:lightyellow\"\n",
       "                    title=\"Line 13: in passing and failing runs\">  13         elif not tag:</pre>\n",
       "<pre style=\"background-color:lightyellow\"\n",
       "                    title=\"Line 14: in passing and failing runs\">  14             out = out + c</pre>\n",
       "<pre title=\"Line 15: not executed\">  15 &nbsp;</pre>\n",
       "<pre style=\"background-color:lightyellow\"\n",
       "                    title=\"Line 16: in passing and failing runs\">  16     return out</pre>\n"
      ],
      "text/markdown": [
       "| `remove_html_markup` | `s='abc'` | `s='<b>abc</b>'` | `s='\"abc\"'` | \n",
       "| --------------------- | ---- | ---- | ---- | \n",
       "| <samp style=\"background-color: lightyellow\" title=\"in passing and failing runs\"> remove_html_markup:1</samp> |    X |    X |    X | \n",
       "| <samp style=\"background-color: lightyellow\" title=\"in passing and failing runs\"> remove_html_markup:2</samp> |    X |    X |    X | \n",
       "| <samp style=\"background-color: lightyellow\" title=\"in passing and failing runs\"> remove_html_markup:3</samp> |    X |    X |    X | \n",
       "| <samp style=\"background-color: lightyellow\" title=\"in passing and failing runs\"> remove_html_markup:4</samp> |    X |    X |    X | \n",
       "| <samp style=\"background-color: lightyellow\" title=\"in passing and failing runs\"> remove_html_markup:6</samp> |    X |    X |    X | \n",
       "| <samp style=\"background-color: lightyellow\" title=\"in passing and failing runs\"> remove_html_markup:7</samp> |    X |    X |    X | \n",
       "| <samp style=\"background-color: honeydew\" title=\"only in passing runs\"> remove_html_markup:8</samp> |    - |    X |    - | \n",
       "| <samp style=\"background-color: lightyellow\" title=\"in passing and failing runs\"> remove_html_markup:9</samp> |    X |    X |    X | \n",
       "| <samp style=\"background-color: honeydew\" title=\"only in passing runs\">remove_html_markup:10</samp> |    - |    X |    - | \n",
       "| <samp style=\"background-color: lightyellow\" title=\"in passing and failing runs\">remove_html_markup:11</samp> |    X |    X |    X | \n",
       "| <samp style=\"background-color: mistyrose\" title=\"only in failing runs\">remove_html_markup:12</samp> |    - |    - |    X | \n",
       "| <samp style=\"background-color: lightyellow\" title=\"in passing and failing runs\">remove_html_markup:13</samp> |    X |    X |    X | \n",
       "| <samp style=\"background-color: lightyellow\" title=\"in passing and failing runs\">remove_html_markup:14</samp> |    X |    X |    X | \n",
       "| <samp style=\"background-color: lightyellow\" title=\"in passing and failing runs\">remove_html_markup:16</samp> |    X |    X |    X | \n"
      ],
      "text/plain": [
       "   1  50% def remove_html_markup(s):  # type: ignore\n",
       "   2  50%     tag = False\n",
       "   3  50%     quote = False\n",
       "   4  50%     out = \"\"\n",
       "   5\n",
       "   6  50%     for c in s:\n",
       "   7  50%         if c == '<' and not quote:\n",
       "   8   0%             tag = True\n",
       "   9  50%         elif c == '>' and not quote:\n",
       "  10   0%             tag = False\n",
       "  11  50%         elif c == '\"' or c == \"'\" and tag:\n",
       "  12 100%             quote = not quote\n",
       "  13  50%         elif not tag:\n",
       "  14  50%             out = out + c\n",
       "  15\n",
       "  16  50%     return out"
      ]
     },
     "execution_count": 70,
     "metadata": {},
     "output_type": "execute_result"
    }
   ],
   "source": [
    "debugger"
   ]
  },
  {
   "cell_type": "markdown",
   "metadata": {
    "slideshow": {
     "slide_type": "subslide"
    }
   },
   "source": [
    "We can clearly see that the failure is correlated with the presence of quotes in the input string (which is an important hint!). But does this also show us _immediately_ where the defect to be fixed is?"
   ]
  },
  {
   "cell_type": "code",
   "execution_count": 71,
   "metadata": {
    "execution": {
     "iopub.execute_input": "2025-01-16T09:36:36.838492Z",
     "iopub.status.busy": "2025-01-16T09:36:36.838396Z",
     "iopub.status.idle": "2025-01-16T09:36:36.841138Z",
     "shell.execute_reply": "2025-01-16T09:36:36.840903Z"
    },
    "slideshow": {
     "slide_type": "fragment"
    }
   },
   "outputs": [
    {
     "data": {
      "text/html": [
       "\n",
       "    \n",
       "    <script>\n",
       "    var bad_answers = new Map();\n",
       "\n",
       "    function answer(quiz_id) {\n",
       "        ans = 0;\n",
       "        for (i = 1;; i++) {\n",
       "            checkbox = document.getElementById(quiz_id + \"-\" + i.toString());\n",
       "            if (!checkbox)\n",
       "                break;\n",
       "            if (checkbox.checked)\n",
       "                ans |= (1 << i);\n",
       "        }\n",
       "        return ans;\n",
       "    }\n",
       "    function check_selection(quiz_id, correct_answer, multiple_choice, hint) {\n",
       "        given_answer = answer(quiz_id);\n",
       "        if (given_answer == correct_answer)\n",
       "        {\n",
       "            document.getElementById(quiz_id + \"-submit\").value = \"Correct!\";\n",
       "            document.getElementById(quiz_id + \"-hint\").innerHTML = \"\";\n",
       "\n",
       "            for (i = 1;; i++) {\n",
       "                checkbox = document.getElementById(quiz_id + \"-\" + i.toString());\n",
       "                label = document.getElementById(quiz_id + \"-\" + i.toString() + \"-label\")\n",
       "                if (!checkbox)\n",
       "                    break;\n",
       "\n",
       "                if (checkbox.checked) {\n",
       "                    label.style.fontWeight = \"bold\";\n",
       "                }\n",
       "                else {\n",
       "                    label.style.textDecoration = \"line-through\";\n",
       "                }\n",
       "            }\n",
       "        }\n",
       "        else \n",
       "        {\n",
       "            document.getElementById(quiz_id + \"-submit\").value = \"Try again\";\n",
       "\n",
       "            if (!bad_answers.has(quiz_id)) {\n",
       "                bad_answers.set(quiz_id, 1);\n",
       "            }\n",
       "            else {\n",
       "                bad_answers.set(quiz_id, bad_answers.get(quiz_id) + 1);\n",
       "            }\n",
       "\n",
       "            if (bad_answers.get(quiz_id) >= 2 && hint.length > 0) {\n",
       "                document.getElementById(quiz_id + \"-hint\").innerHTML = \n",
       "                    \"&nbsp;&nbsp;(Hint: <code>\" + hint + \"</code>)\";\n",
       "            }\n",
       "\n",
       "            if (!multiple_choice) {\n",
       "                for (i = 1;; i++) {\n",
       "                    checkbox = document.getElementById(quiz_id + \"-\" + i.toString());\n",
       "                    label = document.getElementById(quiz_id + \"-\" + i.toString() + \"-label\")\n",
       "\n",
       "                    if (!checkbox)\n",
       "                        break;\n",
       "                    if (checkbox.checked) {\n",
       "                        label.style.textDecoration = \"line-through\";\n",
       "                    }\n",
       "                }\n",
       "            }\n",
       "        }\n",
       "    }\n",
       "    function clear_selection(quiz_id) {\n",
       "        document.getElementById(quiz_id + \"-submit\").value = \"Submit\";\n",
       "        document.getElementById(quiz_id + \"-hint\").innerHTML = \"\";\n",
       "    }\n",
       "    </script>\n",
       "    \n",
       "    <div class=\"quiz\">\n",
       "    <h3 class=\"quiz_title\">Quiz</h3>\n",
       "    <p>\n",
       "    <div class=\"quiz_question\">Does the line <code>quote = not quote</code> actually contain the defect?</div>\n",
       "    </p>\n",
       "    <p>\n",
       "    <div class=\"quiz_options\" title=\"Pick a choice.\">\n",
       "    \n",
       "        <input type=\"radio\" name=\"6181e868-d3ed-11ef-a76f-6298cf1a5790\" id=\"6181e868-d3ed-11ef-a76f-6298cf1a5790-1\" onclick=\"clear_selection('6181e868-d3ed-11ef-a76f-6298cf1a5790')\">\n",
       "        <label id=\"6181e868-d3ed-11ef-a76f-6298cf1a5790-1-label\" for=\"6181e868-d3ed-11ef-a76f-6298cf1a5790-1\">Yes, it should be fixed</label><br>\n",
       "    \n",
       "        <input type=\"radio\" name=\"6181e868-d3ed-11ef-a76f-6298cf1a5790\" id=\"6181e868-d3ed-11ef-a76f-6298cf1a5790-2\" onclick=\"clear_selection('6181e868-d3ed-11ef-a76f-6298cf1a5790')\">\n",
       "        <label id=\"6181e868-d3ed-11ef-a76f-6298cf1a5790-2-label\" for=\"6181e868-d3ed-11ef-a76f-6298cf1a5790-2\">No, the defect is elsewhere</label><br>\n",
       "    \n",
       "    </div>\n",
       "    </p>\n",
       "    <input id=\"6181e868-d3ed-11ef-a76f-6298cf1a5790-submit\" type=\"submit\" value=\"Submit\" onclick=\"check_selection('6181e868-d3ed-11ef-a76f-6298cf1a5790', 4, 0, '164 * 2 % 326')\">\n",
       "    <span class=\"quiz_hint\" id=\"6181e868-d3ed-11ef-a76f-6298cf1a5790-hint\"></span>\n",
       "    </div>\n",
       "    "
      ],
      "text/plain": [
       "<IPython.core.display.HTML object>"
      ]
     },
     "execution_count": 71,
     "metadata": {},
     "output_type": "execute_result"
    }
   ],
   "source": [
    "quiz(\"Does the line `quote = not quote` actually contain the defect?\",\n",
    "    [\n",
    "        \"Yes, it should be fixed\",\n",
    "        \"No, the defect is elsewhere\"\n",
    "    ], '164 * 2 % 326')"
   ]
  },
  {
   "cell_type": "markdown",
   "metadata": {
    "slideshow": {
     "slide_type": "subslide"
    }
   },
   "source": [
    "Indeed, it is the _governing condition_ that is wrong – that is, the condition that caused Line 12 to be executed in the first place. In order to fix a program, we have to find a location that\n",
    "\n",
    "1. _causes_ the failure (i.e., it can be changed to make the failure go away); and\n",
    "2. is a _defect_ (i.e., contains an error).\n",
    "\n",
    "In our example above, the highlighted code line is a _symptom_ for the error. To some extent, it is also a _cause_, since, say, commenting it out would also resolve the given failure, at the cost of causing other failures. However, the preceding condition also is a cause, as is the presence of quotes in the input.\n",
    "\n",
    "Only one of these also is a _defect_, though, and that is the preceding condition. Hence, while correlations can provide important hints, they do not necessarily locate defects."
   ]
  },
  {
   "cell_type": "markdown",
   "metadata": {
    "slideshow": {
     "slide_type": "subslide"
    }
   },
   "source": [
    "For those of us who may not have color HTML output ready, simply printing the debugger lists suspiciousness values as percentages."
   ]
  },
  {
   "cell_type": "code",
   "execution_count": 72,
   "metadata": {
    "execution": {
     "iopub.execute_input": "2025-01-16T09:36:36.842437Z",
     "iopub.status.busy": "2025-01-16T09:36:36.842338Z",
     "iopub.status.idle": "2025-01-16T09:36:36.844210Z",
     "shell.execute_reply": "2025-01-16T09:36:36.843976Z"
    },
    "slideshow": {
     "slide_type": "subslide"
    }
   },
   "outputs": [
    {
     "name": "stdout",
     "output_type": "stream",
     "text": [
      "   1  50% def remove_html_markup(s):  # type: ignore\n",
      "   2  50%     tag = False\n",
      "   3  50%     quote = False\n",
      "   4  50%     out = \"\"\n",
      "   5\n",
      "   6  50%     for c in s:\n",
      "   7  50%         if c == '<' and not quote:\n",
      "   8   0%             tag = True\n",
      "   9  50%         elif c == '>' and not quote:\n",
      "  10   0%             tag = False\n",
      "  11  50%         elif c == '\"' or c == \"'\" and tag:\n",
      "  12 100%             quote = not quote\n",
      "  13  50%         elif not tag:\n",
      "  14  50%             out = out + c\n",
      "  15\n",
      "  16  50%     return out\n",
      "\n"
     ]
    }
   ],
   "source": [
    "print(debugger)"
   ]
  },
  {
   "cell_type": "markdown",
   "metadata": {
    "slideshow": {
     "slide_type": "subslide"
    }
   },
   "source": [
    "### Continuous Spectrum\n",
    "\n",
    "The criterion that an event should _only_ occur in failing runs (and not in passing runs) can be too aggressive. In particular, if we have another run that executes the \"culprit\" lines, but does _not_ fail, our \"only in fail\" criterion will no longer be helpful."
   ]
  },
  {
   "cell_type": "markdown",
   "metadata": {
    "slideshow": {
     "slide_type": "subslide"
    }
   },
   "source": [
    "Here is an example. The input\n",
    "\n",
    "```html\n",
    "<b color=\"blue\">text</b>\n",
    "```\n",
    "\n",
    "will trigger the \"culprit\" line\n",
    "\n",
    "```python\n",
    "quote = not quote\n",
    "```\n",
    "\n",
    "but actually produce an output where the tags are properly stripped:"
   ]
  },
  {
   "cell_type": "code",
   "execution_count": 73,
   "metadata": {
    "execution": {
     "iopub.execute_input": "2025-01-16T09:36:36.845501Z",
     "iopub.status.busy": "2025-01-16T09:36:36.845405Z",
     "iopub.status.idle": "2025-01-16T09:36:36.847317Z",
     "shell.execute_reply": "2025-01-16T09:36:36.847086Z"
    },
    "slideshow": {
     "slide_type": "subslide"
    }
   },
   "outputs": [
    {
     "data": {
      "text/plain": [
       "'text'"
      ]
     },
     "execution_count": 73,
     "metadata": {},
     "output_type": "execute_result"
    }
   ],
   "source": [
    "remove_html_markup('<b color=\"blue\">text</b>')"
   ]
  },
  {
   "cell_type": "markdown",
   "metadata": {
    "slideshow": {
     "slide_type": "fragment"
    }
   },
   "source": [
    "As a consequence, we no longer have lines that are being executed only in failing runs:"
   ]
  },
  {
   "cell_type": "code",
   "execution_count": 74,
   "metadata": {
    "execution": {
     "iopub.execute_input": "2025-01-16T09:36:36.848710Z",
     "iopub.status.busy": "2025-01-16T09:36:36.848612Z",
     "iopub.status.idle": "2025-01-16T09:36:36.851276Z",
     "shell.execute_reply": "2025-01-16T09:36:36.851058Z"
    },
    "slideshow": {
     "slide_type": "fragment"
    }
   },
   "outputs": [],
   "source": [
    "debugger = test_debugger_html(DiscreteSpectrumDebugger())\n",
    "with debugger.collect_pass():\n",
    "    remove_html_markup('<b link=\"blue\"></b>')"
   ]
  },
  {
   "cell_type": "code",
   "execution_count": 75,
   "metadata": {
    "execution": {
     "iopub.execute_input": "2025-01-16T09:36:36.852429Z",
     "iopub.status.busy": "2025-01-16T09:36:36.852334Z",
     "iopub.status.idle": "2025-01-16T09:36:36.854340Z",
     "shell.execute_reply": "2025-01-16T09:36:36.854131Z"
    },
    "slideshow": {
     "slide_type": "fragment"
    }
   },
   "outputs": [
    {
     "data": {
      "text/plain": [
       "set()"
      ]
     },
     "execution_count": 75,
     "metadata": {},
     "output_type": "execute_result"
    }
   ],
   "source": [
    "debugger.only_fail_events()"
   ]
  },
  {
   "cell_type": "markdown",
   "metadata": {
    "slideshow": {
     "slide_type": "fragment"
    }
   },
   "source": [
    "In our spectrum output, the effect now is that the \"culprit\" line is as yellow as all others."
   ]
  },
  {
   "cell_type": "code",
   "execution_count": 76,
   "metadata": {
    "execution": {
     "iopub.execute_input": "2025-01-16T09:36:36.855585Z",
     "iopub.status.busy": "2025-01-16T09:36:36.855488Z",
     "iopub.status.idle": "2025-01-16T09:36:36.858461Z",
     "shell.execute_reply": "2025-01-16T09:36:36.858247Z"
    },
    "slideshow": {
     "slide_type": "subslide"
    }
   },
   "outputs": [
    {
     "data": {
      "text/html": [
       "<pre style=\"background-color:lightyellow\"\n",
       "                    title=\"Line 1: in passing and failing runs\">   1 def remove_html_markup(s):  # type: ignore</pre>\n",
       "<pre style=\"background-color:lightyellow\"\n",
       "                    title=\"Line 2: in passing and failing runs\">   2     tag = False</pre>\n",
       "<pre style=\"background-color:lightyellow\"\n",
       "                    title=\"Line 3: in passing and failing runs\">   3     quote = False</pre>\n",
       "<pre style=\"background-color:lightyellow\"\n",
       "                    title=\"Line 4: in passing and failing runs\">   4     out = &quot;&quot;</pre>\n",
       "<pre title=\"Line 5: not executed\">   5 &nbsp;</pre>\n",
       "<pre style=\"background-color:lightyellow\"\n",
       "                    title=\"Line 6: in passing and failing runs\">   6     for c in s:</pre>\n",
       "<pre style=\"background-color:lightyellow\"\n",
       "                    title=\"Line 7: in passing and failing runs\">   7         if c == &#x27;&lt;&#x27; and not quote:</pre>\n",
       "<pre style=\"background-color:honeydew\"\n",
       "                    title=\"Line 8: only in passing runs\">   8             tag = True</pre>\n",
       "<pre style=\"background-color:lightyellow\"\n",
       "                    title=\"Line 9: in passing and failing runs\">   9         elif c == &#x27;&gt;&#x27; and not quote:</pre>\n",
       "<pre style=\"background-color:honeydew\"\n",
       "                    title=\"Line 10: only in passing runs\">  10             tag = False</pre>\n",
       "<pre style=\"background-color:lightyellow\"\n",
       "                    title=\"Line 11: in passing and failing runs\">  11         elif c == &#x27;&quot;&#x27; or c == &quot;&#x27;&quot; and tag:</pre>\n",
       "<pre style=\"background-color:lightyellow\"\n",
       "                    title=\"Line 12: in passing and failing runs\">  12             quote = not quote</pre>\n",
       "<pre style=\"background-color:lightyellow\"\n",
       "                    title=\"Line 13: in passing and failing runs\">  13         elif not tag:</pre>\n",
       "<pre style=\"background-color:lightyellow\"\n",
       "                    title=\"Line 14: in passing and failing runs\">  14             out = out + c</pre>\n",
       "<pre title=\"Line 15: not executed\">  15 &nbsp;</pre>\n",
       "<pre style=\"background-color:lightyellow\"\n",
       "                    title=\"Line 16: in passing and failing runs\">  16     return out</pre>\n"
      ],
      "text/markdown": [
       "| `remove_html_markup` | `s='abc'` | `s='<b>abc</b>'` | `s='<b link=\"blue\"></b>'` | `s='\"abc\"'` | \n",
       "| --------------------- | ---- | ---- | ---- | ---- | \n",
       "| <samp style=\"background-color: lightyellow\" title=\"in passing and failing runs\"> remove_html_markup:1</samp> |    X |    X |    X |    X | \n",
       "| <samp style=\"background-color: lightyellow\" title=\"in passing and failing runs\"> remove_html_markup:2</samp> |    X |    X |    X |    X | \n",
       "| <samp style=\"background-color: lightyellow\" title=\"in passing and failing runs\"> remove_html_markup:3</samp> |    X |    X |    X |    X | \n",
       "| <samp style=\"background-color: lightyellow\" title=\"in passing and failing runs\"> remove_html_markup:4</samp> |    X |    X |    X |    X | \n",
       "| <samp style=\"background-color: lightyellow\" title=\"in passing and failing runs\"> remove_html_markup:6</samp> |    X |    X |    X |    X | \n",
       "| <samp style=\"background-color: lightyellow\" title=\"in passing and failing runs\"> remove_html_markup:7</samp> |    X |    X |    X |    X | \n",
       "| <samp style=\"background-color: honeydew\" title=\"only in passing runs\"> remove_html_markup:8</samp> |    - |    X |    X |    - | \n",
       "| <samp style=\"background-color: lightyellow\" title=\"in passing and failing runs\"> remove_html_markup:9</samp> |    X |    X |    X |    X | \n",
       "| <samp style=\"background-color: honeydew\" title=\"only in passing runs\">remove_html_markup:10</samp> |    - |    X |    X |    - | \n",
       "| <samp style=\"background-color: lightyellow\" title=\"in passing and failing runs\">remove_html_markup:11</samp> |    X |    X |    X |    X | \n",
       "| <samp style=\"background-color: lightyellow\" title=\"in passing and failing runs\">remove_html_markup:12</samp> |    - |    - |    X |    X | \n",
       "| <samp style=\"background-color: lightyellow\" title=\"in passing and failing runs\">remove_html_markup:13</samp> |    X |    X |    X |    X | \n",
       "| <samp style=\"background-color: lightyellow\" title=\"in passing and failing runs\">remove_html_markup:14</samp> |    X |    X |    - |    X | \n",
       "| <samp style=\"background-color: lightyellow\" title=\"in passing and failing runs\">remove_html_markup:16</samp> |    X |    X |    X |    X | \n"
      ],
      "text/plain": [
       "   1  50% def remove_html_markup(s):  # type: ignore\n",
       "   2  50%     tag = False\n",
       "   3  50%     quote = False\n",
       "   4  50%     out = \"\"\n",
       "   5\n",
       "   6  50%     for c in s:\n",
       "   7  50%         if c == '<' and not quote:\n",
       "   8   0%             tag = True\n",
       "   9  50%         elif c == '>' and not quote:\n",
       "  10   0%             tag = False\n",
       "  11  50%         elif c == '\"' or c == \"'\" and tag:\n",
       "  12  50%             quote = not quote\n",
       "  13  50%         elif not tag:\n",
       "  14  50%             out = out + c\n",
       "  15\n",
       "  16  50%     return out"
      ]
     },
     "execution_count": 76,
     "metadata": {},
     "output_type": "execute_result"
    }
   ],
   "source": [
    "debugger"
   ]
  },
  {
   "cell_type": "markdown",
   "metadata": {
    "slideshow": {
     "slide_type": "subslide"
    }
   },
   "source": [
    "We therefore introduce a different method for highlighting lines, based on their _relative_ occurrence with respect to all runs: If a line has been _mostly_ executed in failing runs, its color should shift towards red; if a line has been _mostly_ executed in passing runs, its color should shift towards green."
   ]
  },
  {
   "cell_type": "markdown",
   "metadata": {
    "slideshow": {
     "slide_type": "fragment"
    }
   },
   "source": [
    "This _continuous spectrum_ has been introduced by the seminal _Tarantula_ tool \\cite{Jones2002}. In Tarantula, the color _hue_ for each line is defined as follows:"
   ]
  },
  {
   "cell_type": "markdown",
   "metadata": {
    "slideshow": {
     "slide_type": "fragment"
    }
   },
   "source": [
    "$$\n",
    "\\textit{color hue}(\\textit{line}) = \\textit{low color(red)} + \\frac{\\%\\textit{passed}(\\textit{line})}{\\%\\textit{passed}(\\textit{line}) + \\%\\textit{failed}(\\textit{line})} \\times \\textit{color range}\n",
    "$$"
   ]
  },
  {
   "cell_type": "markdown",
   "metadata": {
    "slideshow": {
     "slide_type": "subslide"
    }
   },
   "source": [
    "Here, `%passed` and `%failed` denote the percentage at which a line has been executed in passing and failing runs, respectively. A hue of 0.0 stands for red, a hue of 1.0 stands for green, and a hue of 0.5 stands for equal fractions of red and green, yielding yellow."
   ]
  },
  {
   "cell_type": "markdown",
   "metadata": {
    "slideshow": {
     "slide_type": "fragment"
    }
   },
   "source": [
    "We can implement these measures right away as methods in a new `ContinuousSpectrumDebugger` class:"
   ]
  },
  {
   "cell_type": "code",
   "execution_count": 77,
   "metadata": {
    "execution": {
     "iopub.execute_input": "2025-01-16T09:36:36.859868Z",
     "iopub.status.busy": "2025-01-16T09:36:36.859772Z",
     "iopub.status.idle": "2025-01-16T09:36:36.863190Z",
     "shell.execute_reply": "2025-01-16T09:36:36.862916Z"
    },
    "slideshow": {
     "slide_type": "subslide"
    }
   },
   "outputs": [],
   "source": [
    "class ContinuousSpectrumDebugger(DiscreteSpectrumDebugger):\n",
    "    \"\"\"Visualize differences between executions using a color spectrum\"\"\"\n",
    "\n",
    "    def collectors_with_event(self, event: Any, category: str) -> Set[Collector]:\n",
    "        \"\"\"\n",
    "        Return all collectors in a category\n",
    "        that observed the given event.\n",
    "        \"\"\"\n",
    "        all_runs = self.collectors[category]\n",
    "        collectors_with_event = set(collector for collector in all_runs \n",
    "                                    if event in collector.events())\n",
    "        return collectors_with_event\n",
    "\n",
    "    def collectors_without_event(self, event: Any, category: str) -> Set[Collector]:\n",
    "        \"\"\"\n",
    "        Return all collectors in a category\n",
    "        that did not observe the given event.\n",
    "        \"\"\"\n",
    "        all_runs = self.collectors[category]\n",
    "        collectors_without_event = set(collector for collector in all_runs \n",
    "                              if event not in collector.events())\n",
    "        return collectors_without_event\n",
    "\n",
    "    def event_fraction(self, event: Any, category: str) -> float:\n",
    "        if category not in self.collectors:\n",
    "            return 0.0\n",
    "\n",
    "        all_collectors = self.collectors[category]\n",
    "        collectors_with_event = self.collectors_with_event(event, category)\n",
    "        fraction = len(collectors_with_event) / len(all_collectors)\n",
    "        # print(f\"%{category}({event}) = {fraction}\")\n",
    "        return fraction\n",
    "\n",
    "    def passed_fraction(self, event: Any) -> float:\n",
    "        return self.event_fraction(event, self.PASS)\n",
    "\n",
    "    def failed_fraction(self, event: Any) -> float:\n",
    "        return self.event_fraction(event, self.FAIL)\n",
    "\n",
    "    def hue(self, event: Any) -> Optional[float]:\n",
    "        \"\"\"Return a color hue from 0.0 (red) to 1.0 (green).\"\"\"\n",
    "        passed = self.passed_fraction(event)\n",
    "        failed = self.failed_fraction(event)\n",
    "        if passed + failed > 0:\n",
    "            return passed / (passed + failed)\n",
    "        else:\n",
    "            return None"
   ]
  },
  {
   "cell_type": "markdown",
   "metadata": {
    "slideshow": {
     "slide_type": "subslide"
    }
   },
   "source": [
    "Having a continuous hue also implies a continuous suspiciousness and associated tooltips:"
   ]
  },
  {
   "cell_type": "code",
   "execution_count": 78,
   "metadata": {
    "execution": {
     "iopub.execute_input": "2025-01-16T09:36:36.864616Z",
     "iopub.status.busy": "2025-01-16T09:36:36.864531Z",
     "iopub.status.idle": "2025-01-16T09:36:36.866500Z",
     "shell.execute_reply": "2025-01-16T09:36:36.866256Z"
    },
    "slideshow": {
     "slide_type": "fragment"
    }
   },
   "outputs": [],
   "source": [
    "class ContinuousSpectrumDebugger(ContinuousSpectrumDebugger):\n",
    "    def suspiciousness(self, event: Any) -> Optional[float]:\n",
    "        hue = self.hue(event)\n",
    "        if hue is None:\n",
    "            return None\n",
    "        return 1 - hue\n",
    "\n",
    "    def tooltip(self, event: Any) -> str:\n",
    "        return self.percentage(event)"
   ]
  },
  {
   "cell_type": "markdown",
   "metadata": {
    "slideshow": {
     "slide_type": "fragment"
    }
   },
   "source": [
    "The hue for lines executed only in failing runs is (deep) red, as expected:"
   ]
  },
  {
   "cell_type": "code",
   "execution_count": 79,
   "metadata": {
    "execution": {
     "iopub.execute_input": "2025-01-16T09:36:36.867748Z",
     "iopub.status.busy": "2025-01-16T09:36:36.867672Z",
     "iopub.status.idle": "2025-01-16T09:36:36.870011Z",
     "shell.execute_reply": "2025-01-16T09:36:36.869754Z"
    },
    "slideshow": {
     "slide_type": "fragment"
    }
   },
   "outputs": [],
   "source": [
    "debugger = test_debugger_html(ContinuousSpectrumDebugger())"
   ]
  },
  {
   "cell_type": "code",
   "execution_count": 80,
   "metadata": {
    "execution": {
     "iopub.execute_input": "2025-01-16T09:36:36.871295Z",
     "iopub.status.busy": "2025-01-16T09:36:36.871216Z",
     "iopub.status.idle": "2025-01-16T09:36:36.872995Z",
     "shell.execute_reply": "2025-01-16T09:36:36.872728Z"
    },
    "slideshow": {
     "slide_type": "subslide"
    }
   },
   "outputs": [
    {
     "name": "stdout",
     "output_type": "stream",
     "text": [
      "('remove_html_markup', 12) 0.0\n"
     ]
    }
   ],
   "source": [
    "for location in debugger.only_fail_events():\n",
    "    print(location, debugger.hue(location))"
   ]
  },
  {
   "cell_type": "markdown",
   "metadata": {
    "slideshow": {
     "slide_type": "fragment"
    }
   },
   "source": [
    "Likewise, the hue for lines executed in passing runs is (deep) green:"
   ]
  },
  {
   "cell_type": "code",
   "execution_count": 81,
   "metadata": {
    "execution": {
     "iopub.execute_input": "2025-01-16T09:36:36.874123Z",
     "iopub.status.busy": "2025-01-16T09:36:36.874044Z",
     "iopub.status.idle": "2025-01-16T09:36:36.875884Z",
     "shell.execute_reply": "2025-01-16T09:36:36.875654Z"
    },
    "slideshow": {
     "slide_type": "fragment"
    }
   },
   "outputs": [
    {
     "name": "stdout",
     "output_type": "stream",
     "text": [
      "('remove_html_markup', 8) 1.0\n",
      "('remove_html_markup', 10) 1.0\n"
     ]
    }
   ],
   "source": [
    "for location in debugger.only_pass_events():\n",
    "    print(location, debugger.hue(location))"
   ]
  },
  {
   "cell_type": "markdown",
   "metadata": {
    "slideshow": {
     "slide_type": "fragment"
    }
   },
   "source": [
    "The Tarantula tool not only sets the hue for a line, but also uses _brightness_ as measure for support – that is, how often was the line executed at all. The brighter a line, the stronger the correlation with a passing or failing outcome."
   ]
  },
  {
   "cell_type": "markdown",
   "metadata": {
    "slideshow": {
     "slide_type": "fragment"
    }
   },
   "source": [
    "The brightness is defined as follows:"
   ]
  },
  {
   "cell_type": "markdown",
   "metadata": {
    "slideshow": {
     "slide_type": "subslide"
    }
   },
   "source": [
    "$$\\textit{brightness}(line) = \\max(\\%\\textit{passed}(\\textit{line}), \\%\\textit{failed}(\\textit{line}))$$"
   ]
  },
  {
   "cell_type": "markdown",
   "metadata": {
    "slideshow": {
     "slide_type": "fragment"
    }
   },
   "source": [
    "and it is easily implemented, too:"
   ]
  },
  {
   "cell_type": "code",
   "execution_count": 82,
   "metadata": {
    "execution": {
     "iopub.execute_input": "2025-01-16T09:36:36.877320Z",
     "iopub.status.busy": "2025-01-16T09:36:36.877242Z",
     "iopub.status.idle": "2025-01-16T09:36:36.879131Z",
     "shell.execute_reply": "2025-01-16T09:36:36.878839Z"
    },
    "slideshow": {
     "slide_type": "fragment"
    }
   },
   "outputs": [],
   "source": [
    "class ContinuousSpectrumDebugger(ContinuousSpectrumDebugger):\n",
    "    def brightness(self, event: Any) -> float:\n",
    "        return max(self.passed_fraction(event), self.failed_fraction(event))"
   ]
  },
  {
   "cell_type": "markdown",
   "metadata": {
    "slideshow": {
     "slide_type": "fragment"
    }
   },
   "source": [
    "Our single \"only in fail\" line has a brightness of 1.0 (the maximum)."
   ]
  },
  {
   "cell_type": "code",
   "execution_count": 83,
   "metadata": {
    "execution": {
     "iopub.execute_input": "2025-01-16T09:36:36.880492Z",
     "iopub.status.busy": "2025-01-16T09:36:36.880417Z",
     "iopub.status.idle": "2025-01-16T09:36:36.882986Z",
     "shell.execute_reply": "2025-01-16T09:36:36.882765Z"
    },
    "slideshow": {
     "slide_type": "fragment"
    }
   },
   "outputs": [
    {
     "name": "stdout",
     "output_type": "stream",
     "text": [
      "('remove_html_markup', 12) 1.0\n"
     ]
    }
   ],
   "source": [
    "debugger = test_debugger_html(ContinuousSpectrumDebugger())\n",
    "for location in debugger.only_fail_events():\n",
    "    print(location, debugger.brightness(location))"
   ]
  },
  {
   "cell_type": "markdown",
   "metadata": {
    "slideshow": {
     "slide_type": "subslide"
    }
   },
   "source": [
    "With this, we can now define a color for each line. To this end, we override the (previously discrete) `color()` method such that it returns a color specification giving hue and brightness. We use the HTML format `hsl(hue, saturation, lightness)` where the hue is given as a value between 0 and 360 (0 is red, 120 is green) and saturation and lightness are provided as percentages."
   ]
  },
  {
   "cell_type": "code",
   "execution_count": 84,
   "metadata": {
    "execution": {
     "iopub.execute_input": "2025-01-16T09:36:36.884219Z",
     "iopub.status.busy": "2025-01-16T09:36:36.884143Z",
     "iopub.status.idle": "2025-01-16T09:36:36.886185Z",
     "shell.execute_reply": "2025-01-16T09:36:36.885953Z"
    },
    "slideshow": {
     "slide_type": "subslide"
    }
   },
   "outputs": [],
   "source": [
    "class ContinuousSpectrumDebugger(ContinuousSpectrumDebugger):\n",
    "    def color(self, event: Any) -> Optional[str]:\n",
    "        hue = self.hue(event)\n",
    "        if hue is None:\n",
    "            return None\n",
    "        saturation = self.brightness(event)\n",
    "\n",
    "        # HSL color values are specified with: \n",
    "        # hsl(hue, saturation, lightness).\n",
    "        return f\"hsl({hue * 120}, {saturation * 100}%, 80%)\""
   ]
  },
  {
   "cell_type": "code",
   "execution_count": 85,
   "metadata": {
    "execution": {
     "iopub.execute_input": "2025-01-16T09:36:36.887357Z",
     "iopub.status.busy": "2025-01-16T09:36:36.887282Z",
     "iopub.status.idle": "2025-01-16T09:36:36.889643Z",
     "shell.execute_reply": "2025-01-16T09:36:36.889379Z"
    },
    "slideshow": {
     "slide_type": "fragment"
    }
   },
   "outputs": [],
   "source": [
    "debugger = test_debugger_html(ContinuousSpectrumDebugger())"
   ]
  },
  {
   "cell_type": "markdown",
   "metadata": {
    "slideshow": {
     "slide_type": "fragment"
    }
   },
   "source": [
    "Lines executed only in failing runs are still shown in red:"
   ]
  },
  {
   "cell_type": "code",
   "execution_count": 86,
   "metadata": {
    "execution": {
     "iopub.execute_input": "2025-01-16T09:36:36.890893Z",
     "iopub.status.busy": "2025-01-16T09:36:36.890816Z",
     "iopub.status.idle": "2025-01-16T09:36:36.892591Z",
     "shell.execute_reply": "2025-01-16T09:36:36.892347Z"
    },
    "slideshow": {
     "slide_type": "subslide"
    }
   },
   "outputs": [
    {
     "name": "stdout",
     "output_type": "stream",
     "text": [
      "('remove_html_markup', 12) hsl(0.0, 100.0%, 80%)\n"
     ]
    }
   ],
   "source": [
    "for location in debugger.only_fail_events():\n",
    "    print(location, debugger.color(location))"
   ]
  },
  {
   "cell_type": "markdown",
   "metadata": {
    "slideshow": {
     "slide_type": "fragment"
    }
   },
   "source": [
    "... whereas lines executed only in passing runs are still shown in green:"
   ]
  },
  {
   "cell_type": "code",
   "execution_count": 87,
   "metadata": {
    "execution": {
     "iopub.execute_input": "2025-01-16T09:36:36.893770Z",
     "iopub.status.busy": "2025-01-16T09:36:36.893698Z",
     "iopub.status.idle": "2025-01-16T09:36:36.895275Z",
     "shell.execute_reply": "2025-01-16T09:36:36.895036Z"
    },
    "slideshow": {
     "slide_type": "fragment"
    }
   },
   "outputs": [
    {
     "name": "stdout",
     "output_type": "stream",
     "text": [
      "('remove_html_markup', 8) hsl(120.0, 50.0%, 80%)\n",
      "('remove_html_markup', 10) hsl(120.0, 50.0%, 80%)\n"
     ]
    }
   ],
   "source": [
    "for location in debugger.only_pass_events():\n",
    "    print(location, debugger.color(location))"
   ]
  },
  {
   "cell_type": "code",
   "execution_count": 88,
   "metadata": {
    "execution": {
     "iopub.execute_input": "2025-01-16T09:36:36.896354Z",
     "iopub.status.busy": "2025-01-16T09:36:36.896281Z",
     "iopub.status.idle": "2025-01-16T09:36:36.899415Z",
     "shell.execute_reply": "2025-01-16T09:36:36.899151Z"
    },
    "slideshow": {
     "slide_type": "subslide"
    }
   },
   "outputs": [
    {
     "data": {
      "text/html": [
       "<pre style=\"background-color:hsl(60.0, 100.0%, 80%)\"\n",
       "                    title=\"Line 1:  50%\">   1 def remove_html_markup(s):  # type: ignore</pre>\n",
       "<pre style=\"background-color:hsl(60.0, 100.0%, 80%)\"\n",
       "                    title=\"Line 2:  50%\">   2     tag = False</pre>\n",
       "<pre style=\"background-color:hsl(60.0, 100.0%, 80%)\"\n",
       "                    title=\"Line 3:  50%\">   3     quote = False</pre>\n",
       "<pre style=\"background-color:hsl(60.0, 100.0%, 80%)\"\n",
       "                    title=\"Line 4:  50%\">   4     out = &quot;&quot;</pre>\n",
       "<pre title=\"Line 5: not executed\">   5 &nbsp;</pre>\n",
       "<pre style=\"background-color:hsl(60.0, 100.0%, 80%)\"\n",
       "                    title=\"Line 6:  50%\">   6     for c in s:</pre>\n",
       "<pre style=\"background-color:hsl(60.0, 100.0%, 80%)\"\n",
       "                    title=\"Line 7:  50%\">   7         if c == &#x27;&lt;&#x27; and not quote:</pre>\n",
       "<pre style=\"background-color:hsl(120.0, 50.0%, 80%)\"\n",
       "                    title=\"Line 8:   0%\">   8             tag = True</pre>\n",
       "<pre style=\"background-color:hsl(60.0, 100.0%, 80%)\"\n",
       "                    title=\"Line 9:  50%\">   9         elif c == &#x27;&gt;&#x27; and not quote:</pre>\n",
       "<pre style=\"background-color:hsl(120.0, 50.0%, 80%)\"\n",
       "                    title=\"Line 10:   0%\">  10             tag = False</pre>\n",
       "<pre style=\"background-color:hsl(60.0, 100.0%, 80%)\"\n",
       "                    title=\"Line 11:  50%\">  11         elif c == &#x27;&quot;&#x27; or c == &quot;&#x27;&quot; and tag:</pre>\n",
       "<pre style=\"background-color:hsl(0.0, 100.0%, 80%)\"\n",
       "                    title=\"Line 12: 100%\">  12             quote = not quote</pre>\n",
       "<pre style=\"background-color:hsl(60.0, 100.0%, 80%)\"\n",
       "                    title=\"Line 13:  50%\">  13         elif not tag:</pre>\n",
       "<pre style=\"background-color:hsl(60.0, 100.0%, 80%)\"\n",
       "                    title=\"Line 14:  50%\">  14             out = out + c</pre>\n",
       "<pre title=\"Line 15: not executed\">  15 &nbsp;</pre>\n",
       "<pre style=\"background-color:hsl(60.0, 100.0%, 80%)\"\n",
       "                    title=\"Line 16:  50%\">  16     return out</pre>\n"
      ],
      "text/markdown": [
       "| `remove_html_markup` | `s='abc'` | `s='<b>abc</b>'` | `s='\"abc\"'` | \n",
       "| --------------------- | ---- | ---- | ---- | \n",
       "| <samp style=\"background-color: hsl(60.0, 100.0%, 80%)\" title=\" 50%\"> remove_html_markup:1</samp> |    X |    X |    X | \n",
       "| <samp style=\"background-color: hsl(60.0, 100.0%, 80%)\" title=\" 50%\"> remove_html_markup:2</samp> |    X |    X |    X | \n",
       "| <samp style=\"background-color: hsl(60.0, 100.0%, 80%)\" title=\" 50%\"> remove_html_markup:3</samp> |    X |    X |    X | \n",
       "| <samp style=\"background-color: hsl(60.0, 100.0%, 80%)\" title=\" 50%\"> remove_html_markup:4</samp> |    X |    X |    X | \n",
       "| <samp style=\"background-color: hsl(60.0, 100.0%, 80%)\" title=\" 50%\"> remove_html_markup:6</samp> |    X |    X |    X | \n",
       "| <samp style=\"background-color: hsl(60.0, 100.0%, 80%)\" title=\" 50%\"> remove_html_markup:7</samp> |    X |    X |    X | \n",
       "| <samp style=\"background-color: hsl(120.0, 50.0%, 80%)\" title=\"  0%\"> remove_html_markup:8</samp> |    - |    X |    - | \n",
       "| <samp style=\"background-color: hsl(60.0, 100.0%, 80%)\" title=\" 50%\"> remove_html_markup:9</samp> |    X |    X |    X | \n",
       "| <samp style=\"background-color: hsl(120.0, 50.0%, 80%)\" title=\"  0%\">remove_html_markup:10</samp> |    - |    X |    - | \n",
       "| <samp style=\"background-color: hsl(60.0, 100.0%, 80%)\" title=\" 50%\">remove_html_markup:11</samp> |    X |    X |    X | \n",
       "| <samp style=\"background-color: hsl(0.0, 100.0%, 80%)\" title=\"100%\">remove_html_markup:12</samp> |    - |    - |    X | \n",
       "| <samp style=\"background-color: hsl(60.0, 100.0%, 80%)\" title=\" 50%\">remove_html_markup:13</samp> |    X |    X |    X | \n",
       "| <samp style=\"background-color: hsl(60.0, 100.0%, 80%)\" title=\" 50%\">remove_html_markup:14</samp> |    X |    X |    X | \n",
       "| <samp style=\"background-color: hsl(60.0, 100.0%, 80%)\" title=\" 50%\">remove_html_markup:16</samp> |    X |    X |    X | \n"
      ],
      "text/plain": [
       "   1  50% def remove_html_markup(s):  # type: ignore\n",
       "   2  50%     tag = False\n",
       "   3  50%     quote = False\n",
       "   4  50%     out = \"\"\n",
       "   5\n",
       "   6  50%     for c in s:\n",
       "   7  50%         if c == '<' and not quote:\n",
       "   8   0%             tag = True\n",
       "   9  50%         elif c == '>' and not quote:\n",
       "  10   0%             tag = False\n",
       "  11  50%         elif c == '\"' or c == \"'\" and tag:\n",
       "  12 100%             quote = not quote\n",
       "  13  50%         elif not tag:\n",
       "  14  50%             out = out + c\n",
       "  15\n",
       "  16  50%     return out"
      ]
     },
     "execution_count": 88,
     "metadata": {},
     "output_type": "execute_result"
    }
   ],
   "source": [
    "debugger"
   ]
  },
  {
   "cell_type": "markdown",
   "metadata": {
    "slideshow": {
     "slide_type": "subslide"
    }
   },
   "source": [
    "What happens with our `quote = not quote` \"culprit\" line if it is executed in passing runs, too?"
   ]
  },
  {
   "cell_type": "code",
   "execution_count": 89,
   "metadata": {
    "execution": {
     "iopub.execute_input": "2025-01-16T09:36:36.900663Z",
     "iopub.status.busy": "2025-01-16T09:36:36.900587Z",
     "iopub.status.idle": "2025-01-16T09:36:36.902659Z",
     "shell.execute_reply": "2025-01-16T09:36:36.902409Z"
    },
    "slideshow": {
     "slide_type": "fragment"
    }
   },
   "outputs": [],
   "source": [
    "with debugger.collect_pass():\n",
    "    out = remove_html_markup('<b link=\"blue\"></b>')"
   ]
  },
  {
   "cell_type": "code",
   "execution_count": 90,
   "metadata": {
    "execution": {
     "iopub.execute_input": "2025-01-16T09:36:36.903813Z",
     "iopub.status.busy": "2025-01-16T09:36:36.903715Z",
     "iopub.status.idle": "2025-01-16T09:36:36.907264Z",
     "shell.execute_reply": "2025-01-16T09:36:36.907008Z"
    },
    "slideshow": {
     "slide_type": "fragment"
    }
   },
   "outputs": [
    {
     "data": {
      "text/html": [
       "\n",
       "    \n",
       "    <script>\n",
       "    var bad_answers = new Map();\n",
       "\n",
       "    function answer(quiz_id) {\n",
       "        ans = 0;\n",
       "        for (i = 1;; i++) {\n",
       "            checkbox = document.getElementById(quiz_id + \"-\" + i.toString());\n",
       "            if (!checkbox)\n",
       "                break;\n",
       "            if (checkbox.checked)\n",
       "                ans |= (1 << i);\n",
       "        }\n",
       "        return ans;\n",
       "    }\n",
       "    function check_selection(quiz_id, correct_answer, multiple_choice, hint) {\n",
       "        given_answer = answer(quiz_id);\n",
       "        if (given_answer == correct_answer)\n",
       "        {\n",
       "            document.getElementById(quiz_id + \"-submit\").value = \"Correct!\";\n",
       "            document.getElementById(quiz_id + \"-hint\").innerHTML = \"\";\n",
       "\n",
       "            for (i = 1;; i++) {\n",
       "                checkbox = document.getElementById(quiz_id + \"-\" + i.toString());\n",
       "                label = document.getElementById(quiz_id + \"-\" + i.toString() + \"-label\")\n",
       "                if (!checkbox)\n",
       "                    break;\n",
       "\n",
       "                if (checkbox.checked) {\n",
       "                    label.style.fontWeight = \"bold\";\n",
       "                }\n",
       "                else {\n",
       "                    label.style.textDecoration = \"line-through\";\n",
       "                }\n",
       "            }\n",
       "        }\n",
       "        else \n",
       "        {\n",
       "            document.getElementById(quiz_id + \"-submit\").value = \"Try again\";\n",
       "\n",
       "            if (!bad_answers.has(quiz_id)) {\n",
       "                bad_answers.set(quiz_id, 1);\n",
       "            }\n",
       "            else {\n",
       "                bad_answers.set(quiz_id, bad_answers.get(quiz_id) + 1);\n",
       "            }\n",
       "\n",
       "            if (bad_answers.get(quiz_id) >= 2 && hint.length > 0) {\n",
       "                document.getElementById(quiz_id + \"-hint\").innerHTML = \n",
       "                    \"&nbsp;&nbsp;(Hint: <code>\" + hint + \"</code>)\";\n",
       "            }\n",
       "\n",
       "            if (!multiple_choice) {\n",
       "                for (i = 1;; i++) {\n",
       "                    checkbox = document.getElementById(quiz_id + \"-\" + i.toString());\n",
       "                    label = document.getElementById(quiz_id + \"-\" + i.toString() + \"-label\")\n",
       "\n",
       "                    if (!checkbox)\n",
       "                        break;\n",
       "                    if (checkbox.checked) {\n",
       "                        label.style.textDecoration = \"line-through\";\n",
       "                    }\n",
       "                }\n",
       "            }\n",
       "        }\n",
       "    }\n",
       "    function clear_selection(quiz_id) {\n",
       "        document.getElementById(quiz_id + \"-submit\").value = \"Submit\";\n",
       "        document.getElementById(quiz_id + \"-hint\").innerHTML = \"\";\n",
       "    }\n",
       "    </script>\n",
       "    \n",
       "    <div class=\"quiz\">\n",
       "    <h3 class=\"quiz_title\">Quiz</h3>\n",
       "    <p>\n",
       "    <div class=\"quiz_question\">In which color will the <code>quote = not quote</code> \"culprit\" line be shown after executing the above code?</div>\n",
       "    </p>\n",
       "    <p>\n",
       "    <div class=\"quiz_options\" title=\"Pick a choice.\">\n",
       "    \n",
       "        <input type=\"radio\" name=\"618be3c2-d3ed-11ef-a76f-6298cf1a5790\" id=\"618be3c2-d3ed-11ef-a76f-6298cf1a5790-1\" onclick=\"clear_selection('618be3c2-d3ed-11ef-a76f-6298cf1a5790')\">\n",
       "        <label id=\"618be3c2-d3ed-11ef-a76f-6298cf1a5790-1-label\" for=\"618be3c2-d3ed-11ef-a76f-6298cf1a5790-1\"><span style=\"background-color: hsl(120.0, 50.0%, 80%)\">Green</span></label><br>\n",
       "    \n",
       "        <input type=\"radio\" name=\"618be3c2-d3ed-11ef-a76f-6298cf1a5790\" id=\"618be3c2-d3ed-11ef-a76f-6298cf1a5790-2\" onclick=\"clear_selection('618be3c2-d3ed-11ef-a76f-6298cf1a5790')\">\n",
       "        <label id=\"618be3c2-d3ed-11ef-a76f-6298cf1a5790-2-label\" for=\"618be3c2-d3ed-11ef-a76f-6298cf1a5790-2\"><span style=\"background-color: hsl(60.0, 100.0%, 80%)\">Yellow</span></label><br>\n",
       "    \n",
       "        <input type=\"radio\" name=\"618be3c2-d3ed-11ef-a76f-6298cf1a5790\" id=\"618be3c2-d3ed-11ef-a76f-6298cf1a5790-3\" onclick=\"clear_selection('618be3c2-d3ed-11ef-a76f-6298cf1a5790')\">\n",
       "        <label id=\"618be3c2-d3ed-11ef-a76f-6298cf1a5790-3-label\" for=\"618be3c2-d3ed-11ef-a76f-6298cf1a5790-3\"><span style=\"background-color: hsl(30.0, 100.0%, 80%)\">Orange</span></label><br>\n",
       "    \n",
       "        <input type=\"radio\" name=\"618be3c2-d3ed-11ef-a76f-6298cf1a5790\" id=\"618be3c2-d3ed-11ef-a76f-6298cf1a5790-4\" onclick=\"clear_selection('618be3c2-d3ed-11ef-a76f-6298cf1a5790')\">\n",
       "        <label id=\"618be3c2-d3ed-11ef-a76f-6298cf1a5790-4-label\" for=\"618be3c2-d3ed-11ef-a76f-6298cf1a5790-4\"><span style=\"background-color: hsl(0.0, 100.0%, 80%)\">Red</span></label><br>\n",
       "    \n",
       "    </div>\n",
       "    </p>\n",
       "    <input id=\"618be3c2-d3ed-11ef-a76f-6298cf1a5790-submit\" type=\"submit\" value=\"Submit\" onclick=\"check_selection('618be3c2-d3ed-11ef-a76f-6298cf1a5790', 8, 0, '999 // 333')\">\n",
       "    <span class=\"quiz_hint\" id=\"618be3c2-d3ed-11ef-a76f-6298cf1a5790-hint\"></span>\n",
       "    </div>\n",
       "    "
      ],
      "text/plain": [
       "<IPython.core.display.HTML object>"
      ]
     },
     "execution_count": 90,
     "metadata": {},
     "output_type": "execute_result"
    }
   ],
   "source": [
    "quiz('In which color will the `quote = not quote` \"culprit\" line '\n",
    "     'be shown after executing the above code?',\n",
    "    [\n",
    "        '<span style=\"background-color: hsl(120.0, 50.0%, 80%)\">Green</span>',\n",
    "        '<span style=\"background-color: hsl(60.0, 100.0%, 80%)\">Yellow</span>',\n",
    "        '<span style=\"background-color: hsl(30.0, 100.0%, 80%)\">Orange</span>',\n",
    "        '<span style=\"background-color: hsl(0.0, 100.0%, 80%)\">Red</span>'\n",
    "    ], '999 // 333')"
   ]
  },
  {
   "cell_type": "markdown",
   "metadata": {
    "slideshow": {
     "slide_type": "fragment"
    }
   },
   "source": [
    "We see that it still is shown with an orange-red tint."
   ]
  },
  {
   "cell_type": "code",
   "execution_count": 91,
   "metadata": {
    "execution": {
     "iopub.execute_input": "2025-01-16T09:36:36.908503Z",
     "iopub.status.busy": "2025-01-16T09:36:36.908402Z",
     "iopub.status.idle": "2025-01-16T09:36:36.911811Z",
     "shell.execute_reply": "2025-01-16T09:36:36.911573Z"
    },
    "slideshow": {
     "slide_type": "subslide"
    }
   },
   "outputs": [
    {
     "data": {
      "text/html": [
       "<pre style=\"background-color:hsl(60.0, 100.0%, 80%)\"\n",
       "                    title=\"Line 1:  50%\">   1 def remove_html_markup(s):  # type: ignore</pre>\n",
       "<pre style=\"background-color:hsl(60.0, 100.0%, 80%)\"\n",
       "                    title=\"Line 2:  50%\">   2     tag = False</pre>\n",
       "<pre style=\"background-color:hsl(60.0, 100.0%, 80%)\"\n",
       "                    title=\"Line 3:  50%\">   3     quote = False</pre>\n",
       "<pre style=\"background-color:hsl(60.0, 100.0%, 80%)\"\n",
       "                    title=\"Line 4:  50%\">   4     out = &quot;&quot;</pre>\n",
       "<pre title=\"Line 5: not executed\">   5 &nbsp;</pre>\n",
       "<pre style=\"background-color:hsl(60.0, 100.0%, 80%)\"\n",
       "                    title=\"Line 6:  50%\">   6     for c in s:</pre>\n",
       "<pre style=\"background-color:hsl(60.0, 100.0%, 80%)\"\n",
       "                    title=\"Line 7:  50%\">   7         if c == &#x27;&lt;&#x27; and not quote:</pre>\n",
       "<pre style=\"background-color:hsl(120.0, 66.66666666666666%, 80%)\"\n",
       "                    title=\"Line 8:   0%\">   8             tag = True</pre>\n",
       "<pre style=\"background-color:hsl(60.0, 100.0%, 80%)\"\n",
       "                    title=\"Line 9:  50%\">   9         elif c == &#x27;&gt;&#x27; and not quote:</pre>\n",
       "<pre style=\"background-color:hsl(120.0, 66.66666666666666%, 80%)\"\n",
       "                    title=\"Line 10:   0%\">  10             tag = False</pre>\n",
       "<pre style=\"background-color:hsl(60.0, 100.0%, 80%)\"\n",
       "                    title=\"Line 11:  50%\">  11         elif c == &#x27;&quot;&#x27; or c == &quot;&#x27;&quot; and tag:</pre>\n",
       "<pre style=\"background-color:hsl(30.0, 100.0%, 80%)\"\n",
       "                    title=\"Line 12:  75%\">  12             quote = not quote</pre>\n",
       "<pre style=\"background-color:hsl(60.0, 100.0%, 80%)\"\n",
       "                    title=\"Line 13:  50%\">  13         elif not tag:</pre>\n",
       "<pre style=\"background-color:hsl(48.0, 100.0%, 80%)\"\n",
       "                    title=\"Line 14:  60%\">  14             out = out + c</pre>\n",
       "<pre title=\"Line 15: not executed\">  15 &nbsp;</pre>\n",
       "<pre style=\"background-color:hsl(60.0, 100.0%, 80%)\"\n",
       "                    title=\"Line 16:  50%\">  16     return out</pre>\n"
      ],
      "text/markdown": [
       "| `remove_html_markup` | `s='abc'` | `s='<b>abc</b>'` | `s='<b link=\"blue\"></b>'` | `s='\"abc\"'` | \n",
       "| --------------------- | ---- | ---- | ---- | ---- | \n",
       "| <samp style=\"background-color: hsl(60.0, 100.0%, 80%)\" title=\" 50%\"> remove_html_markup:1</samp> |    X |    X |    X |    X | \n",
       "| <samp style=\"background-color: hsl(60.0, 100.0%, 80%)\" title=\" 50%\"> remove_html_markup:2</samp> |    X |    X |    X |    X | \n",
       "| <samp style=\"background-color: hsl(60.0, 100.0%, 80%)\" title=\" 50%\"> remove_html_markup:3</samp> |    X |    X |    X |    X | \n",
       "| <samp style=\"background-color: hsl(60.0, 100.0%, 80%)\" title=\" 50%\"> remove_html_markup:4</samp> |    X |    X |    X |    X | \n",
       "| <samp style=\"background-color: hsl(60.0, 100.0%, 80%)\" title=\" 50%\"> remove_html_markup:6</samp> |    X |    X |    X |    X | \n",
       "| <samp style=\"background-color: hsl(60.0, 100.0%, 80%)\" title=\" 50%\"> remove_html_markup:7</samp> |    X |    X |    X |    X | \n",
       "| <samp style=\"background-color: hsl(120.0, 66.66666666666666%, 80%)\" title=\"  0%\"> remove_html_markup:8</samp> |    - |    X |    X |    - | \n",
       "| <samp style=\"background-color: hsl(60.0, 100.0%, 80%)\" title=\" 50%\"> remove_html_markup:9</samp> |    X |    X |    X |    X | \n",
       "| <samp style=\"background-color: hsl(120.0, 66.66666666666666%, 80%)\" title=\"  0%\">remove_html_markup:10</samp> |    - |    X |    X |    - | \n",
       "| <samp style=\"background-color: hsl(60.0, 100.0%, 80%)\" title=\" 50%\">remove_html_markup:11</samp> |    X |    X |    X |    X | \n",
       "| <samp style=\"background-color: hsl(30.0, 100.0%, 80%)\" title=\" 75%\">remove_html_markup:12</samp> |    - |    - |    X |    X | \n",
       "| <samp style=\"background-color: hsl(60.0, 100.0%, 80%)\" title=\" 50%\">remove_html_markup:13</samp> |    X |    X |    X |    X | \n",
       "| <samp style=\"background-color: hsl(48.0, 100.0%, 80%)\" title=\" 60%\">remove_html_markup:14</samp> |    X |    X |    - |    X | \n",
       "| <samp style=\"background-color: hsl(60.0, 100.0%, 80%)\" title=\" 50%\">remove_html_markup:16</samp> |    X |    X |    X |    X | \n"
      ],
      "text/plain": [
       "   1  50% def remove_html_markup(s):  # type: ignore\n",
       "   2  50%     tag = False\n",
       "   3  50%     quote = False\n",
       "   4  50%     out = \"\"\n",
       "   5\n",
       "   6  50%     for c in s:\n",
       "   7  50%         if c == '<' and not quote:\n",
       "   8   0%             tag = True\n",
       "   9  50%         elif c == '>' and not quote:\n",
       "  10   0%             tag = False\n",
       "  11  50%         elif c == '\"' or c == \"'\" and tag:\n",
       "  12  75%             quote = not quote\n",
       "  13  50%         elif not tag:\n",
       "  14  60%             out = out + c\n",
       "  15\n",
       "  16  50%     return out"
      ]
     },
     "execution_count": 91,
     "metadata": {},
     "output_type": "execute_result"
    }
   ],
   "source": [
    "debugger"
   ]
  },
  {
   "cell_type": "markdown",
   "metadata": {
    "slideshow": {
     "slide_type": "subslide"
    }
   },
   "source": [
    "Here's another example, coming right from the Tarantula paper. The `middle()` function takes three numbers `x`, `y`, and `z`, and returns the one that is neither the minimum nor the maximum of the three:"
   ]
  },
  {
   "cell_type": "code",
   "execution_count": 92,
   "metadata": {
    "execution": {
     "iopub.execute_input": "2025-01-16T09:36:36.913084Z",
     "iopub.status.busy": "2025-01-16T09:36:36.912995Z",
     "iopub.status.idle": "2025-01-16T09:36:36.914922Z",
     "shell.execute_reply": "2025-01-16T09:36:36.914701Z"
    },
    "slideshow": {
     "slide_type": "fragment"
    }
   },
   "outputs": [],
   "source": [
    "def middle(x, y, z):  # type: ignore\n",
    "    if y < z:\n",
    "        if x < y:\n",
    "            return y\n",
    "        elif x < z:\n",
    "            return y\n",
    "    else:\n",
    "        if x > y:\n",
    "            return y\n",
    "        elif x > z:\n",
    "            return x\n",
    "    return z"
   ]
  },
  {
   "cell_type": "code",
   "execution_count": 93,
   "metadata": {
    "execution": {
     "iopub.execute_input": "2025-01-16T09:36:36.916148Z",
     "iopub.status.busy": "2025-01-16T09:36:36.916049Z",
     "iopub.status.idle": "2025-01-16T09:36:36.917986Z",
     "shell.execute_reply": "2025-01-16T09:36:36.917752Z"
    },
    "slideshow": {
     "slide_type": "subslide"
    }
   },
   "outputs": [
    {
     "data": {
      "text/plain": [
       "2"
      ]
     },
     "execution_count": 93,
     "metadata": {},
     "output_type": "execute_result"
    }
   ],
   "source": [
    "middle(1, 2, 3)"
   ]
  },
  {
   "cell_type": "markdown",
   "metadata": {
    "slideshow": {
     "slide_type": "fragment"
    }
   },
   "source": [
    "Unfortunately, `middle()` can fail:"
   ]
  },
  {
   "cell_type": "code",
   "execution_count": 94,
   "metadata": {
    "execution": {
     "iopub.execute_input": "2025-01-16T09:36:36.919562Z",
     "iopub.status.busy": "2025-01-16T09:36:36.919482Z",
     "iopub.status.idle": "2025-01-16T09:36:36.921632Z",
     "shell.execute_reply": "2025-01-16T09:36:36.921391Z"
    },
    "slideshow": {
     "slide_type": "fragment"
    }
   },
   "outputs": [
    {
     "data": {
      "text/plain": [
       "1"
      ]
     },
     "execution_count": 94,
     "metadata": {},
     "output_type": "execute_result"
    }
   ],
   "source": [
    "middle(2, 1, 3)"
   ]
  },
  {
   "cell_type": "markdown",
   "metadata": {
    "slideshow": {
     "slide_type": "fragment"
    }
   },
   "source": [
    "Let is see whether we can find the bug with a few additional test cases:"
   ]
  },
  {
   "cell_type": "code",
   "execution_count": 95,
   "metadata": {
    "execution": {
     "iopub.execute_input": "2025-01-16T09:36:36.923090Z",
     "iopub.status.busy": "2025-01-16T09:36:36.922989Z",
     "iopub.status.idle": "2025-01-16T09:36:36.924781Z",
     "shell.execute_reply": "2025-01-16T09:36:36.924495Z"
    },
    "slideshow": {
     "slide_type": "fragment"
    }
   },
   "outputs": [],
   "source": [
    "# ignore\n",
    "T3 = TypeVar('T3', bound='DifferenceDebugger')"
   ]
  },
  {
   "cell_type": "code",
   "execution_count": 96,
   "metadata": {
    "execution": {
     "iopub.execute_input": "2025-01-16T09:36:36.926096Z",
     "iopub.status.busy": "2025-01-16T09:36:36.926003Z",
     "iopub.status.idle": "2025-01-16T09:36:36.928096Z",
     "shell.execute_reply": "2025-01-16T09:36:36.927816Z"
    },
    "slideshow": {
     "slide_type": "subslide"
    }
   },
   "outputs": [],
   "source": [
    "def test_debugger_middle(debugger: T3) -> T3:\n",
    "    with debugger.collect_pass():\n",
    "        middle(3, 3, 5)\n",
    "    with debugger.collect_pass():\n",
    "        middle(1, 2, 3)\n",
    "    with debugger.collect_pass():\n",
    "        middle(3, 2, 1)\n",
    "    with debugger.collect_pass():\n",
    "        middle(5, 5, 5)\n",
    "    with debugger.collect_pass():\n",
    "        middle(5, 3, 4)\n",
    "    with debugger.collect_fail():\n",
    "        middle(2, 1, 3)\n",
    "    return debugger"
   ]
  },
  {
   "cell_type": "markdown",
   "metadata": {
    "slideshow": {
     "slide_type": "subslide"
    }
   },
   "source": [
    "Note that in order to collect data from multiple function invocations, you need to have a separate `with` clause for every invocation. The following will _not_ work correctly:\n",
    "\n",
    "```python\n",
    "    with debugger.collect_pass():\n",
    "        middle(3, 3, 5)\n",
    "        middle(1, 2, 3)\n",
    "        ...\n",
    "```"
   ]
  },
  {
   "cell_type": "code",
   "execution_count": 97,
   "metadata": {
    "execution": {
     "iopub.execute_input": "2025-01-16T09:36:36.929412Z",
     "iopub.status.busy": "2025-01-16T09:36:36.929316Z",
     "iopub.status.idle": "2025-01-16T09:36:36.931915Z",
     "shell.execute_reply": "2025-01-16T09:36:36.931671Z"
    },
    "slideshow": {
     "slide_type": "fragment"
    }
   },
   "outputs": [],
   "source": [
    "debugger = test_debugger_middle(ContinuousSpectrumDebugger())"
   ]
  },
  {
   "cell_type": "code",
   "execution_count": 98,
   "metadata": {
    "execution": {
     "iopub.execute_input": "2025-01-16T09:36:36.933477Z",
     "iopub.status.busy": "2025-01-16T09:36:36.933363Z",
     "iopub.status.idle": "2025-01-16T09:36:36.935823Z",
     "shell.execute_reply": "2025-01-16T09:36:36.935549Z"
    },
    "slideshow": {
     "slide_type": "fragment"
    }
   },
   "outputs": [
    {
     "data": {
      "text/markdown": [
       "| `middle` | `x=3, y=3, z=5` | `x=1, y=2, z=3` | `x=3, y=2, z=1` | `x=5, y=5, z=5` | `x=5, y=3, z=4` | `x=2, y=1, z=3` | \n",
       "| --------- | ---- | ---- | ---- | ---- | ---- | ---- | \n",
       "|  middle:1 |    X |    X |    X |    X |    X |    X | \n",
       "|  middle:2 |    X |    X |    X |    X |    X |    X | \n",
       "|  middle:3 |    X |    X |    - |    - |    X |    X | \n",
       "|  middle:4 |    - |    X |    - |    - |    - |    - | \n",
       "|  middle:5 |    X |    - |    - |    - |    X |    X | \n",
       "|  middle:6 |    X |    - |    - |    - |    - |    X | \n",
       "|  middle:8 |    - |    - |    X |    X |    - |    - | \n",
       "|  middle:9 |    - |    - |    X |    - |    - |    - | \n",
       "| middle:10 |    - |    - |    - |    X |    - |    - | \n",
       "| middle:12 |    - |    - |    - |    X |    X |    - | \n"
      ],
      "text/plain": [
       "<IPython.core.display.Markdown object>"
      ]
     },
     "execution_count": 98,
     "metadata": {},
     "output_type": "execute_result"
    }
   ],
   "source": [
    "debugger.event_table(args=True)"
   ]
  },
  {
   "cell_type": "markdown",
   "metadata": {
    "slideshow": {
     "slide_type": "subslide"
    }
   },
   "source": [
    "Here comes the visualization. We see that the `return y` line is the culprit here – and actually also the one to be fixed."
   ]
  },
  {
   "cell_type": "code",
   "execution_count": 99,
   "metadata": {
    "execution": {
     "iopub.execute_input": "2025-01-16T09:36:36.937393Z",
     "iopub.status.busy": "2025-01-16T09:36:36.937294Z",
     "iopub.status.idle": "2025-01-16T09:36:36.940319Z",
     "shell.execute_reply": "2025-01-16T09:36:36.940082Z"
    },
    "slideshow": {
     "slide_type": "fragment"
    }
   },
   "outputs": [
    {
     "data": {
      "text/html": [
       "<pre style=\"background-color:hsl(60.0, 100.0%, 80%)\"\n",
       "                    title=\"Line 1:  50%\">   1 def middle(x, y, z):  # type: ignore</pre>\n",
       "<pre style=\"background-color:hsl(60.0, 100.0%, 80%)\"\n",
       "                    title=\"Line 2:  50%\">   2     if y &lt; z:</pre>\n",
       "<pre style=\"background-color:hsl(44.99999999999999, 100.0%, 80%)\"\n",
       "                    title=\"Line 3:  62%\">   3         if x &lt; y:</pre>\n",
       "<pre style=\"background-color:hsl(120.0, 20.0%, 80%)\"\n",
       "                    title=\"Line 4:   0%\">   4             return y</pre>\n",
       "<pre style=\"background-color:hsl(34.28571428571429, 100.0%, 80%)\"\n",
       "                    title=\"Line 5:  71%\">   5         elif x &lt; z:</pre>\n",
       "<pre style=\"background-color:hsl(20.000000000000004, 100.0%, 80%)\"\n",
       "                    title=\"Line 6:  83%\">   6             return y</pre>\n",
       "<pre title=\"Line 7: not executed\">   7     else:\n",
       "</pre>\n",
       "<pre style=\"background-color:hsl(120.0, 40.0%, 80%)\"\n",
       "                    title=\"Line 8:   0%\">   8         if x &gt; y:</pre>\n",
       "<pre style=\"background-color:hsl(120.0, 20.0%, 80%)\"\n",
       "                    title=\"Line 9:   0%\">   9             return y</pre>\n",
       "<pre style=\"background-color:hsl(120.0, 20.0%, 80%)\"\n",
       "                    title=\"Line 10:   0%\">  10         elif x &gt; z:</pre>\n",
       "<pre title=\"Line 11: not executed\">  11             return x\n",
       "</pre>\n",
       "<pre style=\"background-color:hsl(120.0, 40.0%, 80%)\"\n",
       "                    title=\"Line 12:   0%\">  12     return z</pre>\n"
      ],
      "text/markdown": [
       "| `middle` | `x=3, y=3, z=5` | `x=1, y=2, z=3` | `x=3, y=2, z=1` | `x=5, y=5, z=5` | `x=5, y=3, z=4` | `x=2, y=1, z=3` | \n",
       "| --------- | ---- | ---- | ---- | ---- | ---- | ---- | \n",
       "| <samp style=\"background-color: hsl(60.0, 100.0%, 80%)\" title=\" 50%\"> middle:1</samp> |    X |    X |    X |    X |    X |    X | \n",
       "| <samp style=\"background-color: hsl(60.0, 100.0%, 80%)\" title=\" 50%\"> middle:2</samp> |    X |    X |    X |    X |    X |    X | \n",
       "| <samp style=\"background-color: hsl(44.99999999999999, 100.0%, 80%)\" title=\" 62%\"> middle:3</samp> |    X |    X |    - |    - |    X |    X | \n",
       "| <samp style=\"background-color: hsl(120.0, 20.0%, 80%)\" title=\"  0%\"> middle:4</samp> |    - |    X |    - |    - |    - |    - | \n",
       "| <samp style=\"background-color: hsl(34.28571428571429, 100.0%, 80%)\" title=\" 71%\"> middle:5</samp> |    X |    - |    - |    - |    X |    X | \n",
       "| <samp style=\"background-color: hsl(20.000000000000004, 100.0%, 80%)\" title=\" 83%\"> middle:6</samp> |    X |    - |    - |    - |    - |    X | \n",
       "| <samp style=\"background-color: hsl(120.0, 40.0%, 80%)\" title=\"  0%\"> middle:8</samp> |    - |    - |    X |    X |    - |    - | \n",
       "| <samp style=\"background-color: hsl(120.0, 20.0%, 80%)\" title=\"  0%\"> middle:9</samp> |    - |    - |    X |    - |    - |    - | \n",
       "| <samp style=\"background-color: hsl(120.0, 20.0%, 80%)\" title=\"  0%\">middle:10</samp> |    - |    - |    - |    X |    - |    - | \n",
       "| <samp style=\"background-color: hsl(120.0, 40.0%, 80%)\" title=\"  0%\">middle:12</samp> |    - |    - |    - |    X |    X |    - | \n"
      ],
      "text/plain": [
       "   1  50% def middle(x, y, z):  # type: ignore\n",
       "   2  50%     if y < z:\n",
       "   3  62%         if x < y:\n",
       "   4   0%             return y\n",
       "   5  71%         elif x < z:\n",
       "   6  83%             return y\n",
       "   7          else:\n",
       "   8   0%         if x > y:\n",
       "   9   0%             return y\n",
       "  10   0%         elif x > z:\n",
       "  11                  return x\n",
       "  12   0%     return z"
      ]
     },
     "execution_count": 99,
     "metadata": {},
     "output_type": "execute_result"
    }
   ],
   "source": [
    "debugger"
   ]
  },
  {
   "cell_type": "code",
   "execution_count": 100,
   "metadata": {
    "execution": {
     "iopub.execute_input": "2025-01-16T09:36:36.941914Z",
     "iopub.status.busy": "2025-01-16T09:36:36.941819Z",
     "iopub.status.idle": "2025-01-16T09:36:36.945711Z",
     "shell.execute_reply": "2025-01-16T09:36:36.945425Z"
    },
    "slideshow": {
     "slide_type": "subslide"
    }
   },
   "outputs": [
    {
     "data": {
      "text/html": [
       "\n",
       "    \n",
       "    <script>\n",
       "    var bad_answers = new Map();\n",
       "\n",
       "    function answer(quiz_id) {\n",
       "        ans = 0;\n",
       "        for (i = 1;; i++) {\n",
       "            checkbox = document.getElementById(quiz_id + \"-\" + i.toString());\n",
       "            if (!checkbox)\n",
       "                break;\n",
       "            if (checkbox.checked)\n",
       "                ans |= (1 << i);\n",
       "        }\n",
       "        return ans;\n",
       "    }\n",
       "    function check_selection(quiz_id, correct_answer, multiple_choice, hint) {\n",
       "        given_answer = answer(quiz_id);\n",
       "        if (given_answer == correct_answer)\n",
       "        {\n",
       "            document.getElementById(quiz_id + \"-submit\").value = \"Correct!\";\n",
       "            document.getElementById(quiz_id + \"-hint\").innerHTML = \"\";\n",
       "\n",
       "            for (i = 1;; i++) {\n",
       "                checkbox = document.getElementById(quiz_id + \"-\" + i.toString());\n",
       "                label = document.getElementById(quiz_id + \"-\" + i.toString() + \"-label\")\n",
       "                if (!checkbox)\n",
       "                    break;\n",
       "\n",
       "                if (checkbox.checked) {\n",
       "                    label.style.fontWeight = \"bold\";\n",
       "                }\n",
       "                else {\n",
       "                    label.style.textDecoration = \"line-through\";\n",
       "                }\n",
       "            }\n",
       "        }\n",
       "        else \n",
       "        {\n",
       "            document.getElementById(quiz_id + \"-submit\").value = \"Try again\";\n",
       "\n",
       "            if (!bad_answers.has(quiz_id)) {\n",
       "                bad_answers.set(quiz_id, 1);\n",
       "            }\n",
       "            else {\n",
       "                bad_answers.set(quiz_id, bad_answers.get(quiz_id) + 1);\n",
       "            }\n",
       "\n",
       "            if (bad_answers.get(quiz_id) >= 2 && hint.length > 0) {\n",
       "                document.getElementById(quiz_id + \"-hint\").innerHTML = \n",
       "                    \"&nbsp;&nbsp;(Hint: <code>\" + hint + \"</code>)\";\n",
       "            }\n",
       "\n",
       "            if (!multiple_choice) {\n",
       "                for (i = 1;; i++) {\n",
       "                    checkbox = document.getElementById(quiz_id + \"-\" + i.toString());\n",
       "                    label = document.getElementById(quiz_id + \"-\" + i.toString() + \"-label\")\n",
       "\n",
       "                    if (!checkbox)\n",
       "                        break;\n",
       "                    if (checkbox.checked) {\n",
       "                        label.style.textDecoration = \"line-through\";\n",
       "                    }\n",
       "                }\n",
       "            }\n",
       "        }\n",
       "    }\n",
       "    function clear_selection(quiz_id) {\n",
       "        document.getElementById(quiz_id + \"-submit\").value = \"Submit\";\n",
       "        document.getElementById(quiz_id + \"-hint\").innerHTML = \"\";\n",
       "    }\n",
       "    </script>\n",
       "    \n",
       "    <div class=\"quiz\">\n",
       "    <h3 class=\"quiz_title\">Quiz</h3>\n",
       "    <p>\n",
       "    <div class=\"quiz_question\">Which of the above lines should be fixed?</div>\n",
       "    </p>\n",
       "    <p>\n",
       "    <div class=\"quiz_options\" title=\"Pick a choice.\">\n",
       "    \n",
       "        <input type=\"radio\" name=\"6191b586-d3ed-11ef-a76f-6298cf1a5790\" id=\"6191b586-d3ed-11ef-a76f-6298cf1a5790-1\" onclick=\"clear_selection('6191b586-d3ed-11ef-a76f-6298cf1a5790')\">\n",
       "        <label id=\"6191b586-d3ed-11ef-a76f-6298cf1a5790-1-label\" for=\"6191b586-d3ed-11ef-a76f-6298cf1a5790-1\"><span style=\"background-color: hsl(45.0, 100%, 80%)\">Line 3: <code>if x &lt; y</code></span></label><br>\n",
       "    \n",
       "        <input type=\"radio\" name=\"6191b586-d3ed-11ef-a76f-6298cf1a5790\" id=\"6191b586-d3ed-11ef-a76f-6298cf1a5790-2\" onclick=\"clear_selection('6191b586-d3ed-11ef-a76f-6298cf1a5790')\">\n",
       "        <label id=\"6191b586-d3ed-11ef-a76f-6298cf1a5790-2-label\" for=\"6191b586-d3ed-11ef-a76f-6298cf1a5790-2\"><span style=\"background-color: hsl(34.28571428571429, 100.0%, 80%)\">Line 5: <code>elif x &lt; z</code></span></label><br>\n",
       "    \n",
       "        <input type=\"radio\" name=\"6191b586-d3ed-11ef-a76f-6298cf1a5790\" id=\"6191b586-d3ed-11ef-a76f-6298cf1a5790-3\" onclick=\"clear_selection('6191b586-d3ed-11ef-a76f-6298cf1a5790')\">\n",
       "        <label id=\"6191b586-d3ed-11ef-a76f-6298cf1a5790-3-label\" for=\"6191b586-d3ed-11ef-a76f-6298cf1a5790-3\"><span style=\"background-color: hsl(20.000000000000004, 100.0%, 80%)\">Line 6: <code>return y</code></span></label><br>\n",
       "    \n",
       "        <input type=\"radio\" name=\"6191b586-d3ed-11ef-a76f-6298cf1a5790\" id=\"6191b586-d3ed-11ef-a76f-6298cf1a5790-4\" onclick=\"clear_selection('6191b586-d3ed-11ef-a76f-6298cf1a5790')\">\n",
       "        <label id=\"6191b586-d3ed-11ef-a76f-6298cf1a5790-4-label\" for=\"6191b586-d3ed-11ef-a76f-6298cf1a5790-4\"><span style=\"background-color: hsl(120.0, 20.0%, 80%)\">Line 9: <code>return y</code></span></label><br>\n",
       "    \n",
       "    </div>\n",
       "    </p>\n",
       "    <input id=\"6191b586-d3ed-11ef-a76f-6298cf1a5790-submit\" type=\"submit\" value=\"Submit\" onclick=\"check_selection('6191b586-d3ed-11ef-a76f-6298cf1a5790', 8, 0, 'len(&quot; middle  &quot;.strip()[:3])')\">\n",
       "    <span class=\"quiz_hint\" id=\"6191b586-d3ed-11ef-a76f-6298cf1a5790-hint\"></span>\n",
       "    </div>\n",
       "    "
      ],
      "text/plain": [
       "<IPython.core.display.HTML object>"
      ]
     },
     "execution_count": 100,
     "metadata": {},
     "output_type": "execute_result"
    }
   ],
   "source": [
    "quiz(\"Which of the above lines should be fixed?\",\n",
    "    [\n",
    "        '<span style=\"background-color: hsl(45.0, 100%, 80%)\">Line 3: `if x < y`</span>',\n",
    "        '<span style=\"background-color: hsl(34.28571428571429, 100.0%, 80%)\">Line 5: `elif x < z`</span>',\n",
    "        '<span style=\"background-color: hsl(20.000000000000004, 100.0%, 80%)\">Line 6: `return y`</span>',\n",
    "        '<span style=\"background-color: hsl(120.0, 20.0%, 80%)\">Line 9: `return y`</span>',\n",
    "    ], r'len(\" middle  \".strip()[:3])')"
   ]
  },
  {
   "cell_type": "markdown",
   "metadata": {
    "slideshow": {
     "slide_type": "fragment"
    }
   },
   "source": [
    "Indeed, in the `middle()` example, the \"reddest\" line is also the one to be fixed.  Here is the fixed version:"
   ]
  },
  {
   "cell_type": "code",
   "execution_count": 101,
   "metadata": {
    "execution": {
     "iopub.execute_input": "2025-01-16T09:36:36.947345Z",
     "iopub.status.busy": "2025-01-16T09:36:36.947226Z",
     "iopub.status.idle": "2025-01-16T09:36:36.949190Z",
     "shell.execute_reply": "2025-01-16T09:36:36.948956Z"
    },
    "slideshow": {
     "slide_type": "subslide"
    }
   },
   "outputs": [],
   "source": [
    "def middle_fixed(x, y, z):  # type: ignore\n",
    "    if y < z:\n",
    "        if x < y:\n",
    "            return y\n",
    "        elif x < z:\n",
    "            return x\n",
    "    else:\n",
    "        if x > y:\n",
    "            return y\n",
    "        elif x > z:\n",
    "            return x\n",
    "    return z"
   ]
  },
  {
   "cell_type": "code",
   "execution_count": 102,
   "metadata": {
    "execution": {
     "iopub.execute_input": "2025-01-16T09:36:36.950575Z",
     "iopub.status.busy": "2025-01-16T09:36:36.950472Z",
     "iopub.status.idle": "2025-01-16T09:36:36.952621Z",
     "shell.execute_reply": "2025-01-16T09:36:36.952222Z"
    },
    "slideshow": {
     "slide_type": "fragment"
    }
   },
   "outputs": [
    {
     "data": {
      "text/plain": [
       "2"
      ]
     },
     "execution_count": 102,
     "metadata": {},
     "output_type": "execute_result"
    }
   ],
   "source": [
    "middle_fixed(2, 1, 3)"
   ]
  },
  {
   "cell_type": "markdown",
   "metadata": {
    "slideshow": {
     "slide_type": "slide"
    }
   },
   "source": [
    "## Ranking Lines by Suspiciousness\n",
    "\n",
    "In a large program, there can be several locations (and events) that could be flagged as suspicious. It suffices that some large code block of say, 1,000 lines, is mostly executed in failing runs, and then all of this code block will be visualized in some shade of red. \n",
    "\n",
    "To further highlight the \"most suspicious\" events, one idea is to use a _ranking_ – that is, coming up with a list of events where those events most correlated with failures would be shown at the top. The programmer would then examine these events one by one and proceed down the list. We will show how this works for two \"correlation\" metrics – first the _Tarantula_ metric, as introduced above, and then the _Ochiai_ metric, which has shown to be one of the best \"ranking\" metrics."
   ]
  },
  {
   "cell_type": "markdown",
   "metadata": {
    "slideshow": {
     "slide_type": "subslide"
    }
   },
   "source": [
    "We introduce a base class `RankingDebugger` with an abstract method `suspiciousness()` to be overloaded in subclasses. The method `rank()` returns a list of all events observed, sorted by suspiciousness, highest first."
   ]
  },
  {
   "cell_type": "code",
   "execution_count": 103,
   "metadata": {
    "execution": {
     "iopub.execute_input": "2025-01-16T09:36:36.954238Z",
     "iopub.status.busy": "2025-01-16T09:36:36.954124Z",
     "iopub.status.idle": "2025-01-16T09:36:36.956328Z",
     "shell.execute_reply": "2025-01-16T09:36:36.956073Z"
    },
    "slideshow": {
     "slide_type": "subslide"
    }
   },
   "outputs": [],
   "source": [
    "class RankingDebugger(DiscreteSpectrumDebugger):\n",
    "    \"\"\"Rank events by their suspiciousness\"\"\"\n",
    "\n",
    "    def rank(self) -> List[Any]:\n",
    "        \"\"\"Return a list of events, sorted by suspiciousness, highest first.\"\"\"\n",
    "\n",
    "        def susp(event: Any) -> float:\n",
    "            suspiciousness = self.suspiciousness(event)\n",
    "            assert suspiciousness is not None\n",
    "            return suspiciousness\n",
    "\n",
    "        events = list(self.all_events())\n",
    "        events.sort(key=susp, reverse=True)\n",
    "        return events\n",
    "\n",
    "    def __repr__(self) -> str:\n",
    "        return repr(self.rank())"
   ]
  },
  {
   "cell_type": "markdown",
   "metadata": {
    "slideshow": {
     "slide_type": "subslide"
    }
   },
   "source": [
    "### The Tarantula Metric\n",
    "\n",
    "We can use the Tarantula metric to sort lines according to their suspiciousness. The \"redder\" a line (a hue of 0.0), the more suspicious it is. We can simply define"
   ]
  },
  {
   "cell_type": "markdown",
   "metadata": {
    "slideshow": {
     "slide_type": "fragment"
    }
   },
   "source": [
    "$$\n",
    "\\textit{suspiciousness}_\\textit{tarantula}(\\textit{event}) = 1 - \\textit{color hue}(\\textit{event})\n",
    "$$"
   ]
  },
  {
   "cell_type": "markdown",
   "metadata": {
    "slideshow": {
     "slide_type": "fragment"
    }
   },
   "source": [
    "where $\\textit{color hue}$ is as defined above."
   ]
  },
  {
   "cell_type": "markdown",
   "metadata": {
    "slideshow": {
     "slide_type": "fragment"
    }
   },
   "source": [
    "This is exactly the `suspiciousness()` function as already implemented in our `ContinuousSpectrumDebugger`."
   ]
  },
  {
   "cell_type": "markdown",
   "metadata": {
    "slideshow": {
     "slide_type": "fragment"
    }
   },
   "source": [
    "We introduce the `TarantulaDebugger` class, inheriting visualization capabilities from the `ContinuousSpectrumDebugger` class as well as the suspiciousness features from the `RankingDebugger` class."
   ]
  },
  {
   "cell_type": "code",
   "execution_count": 104,
   "metadata": {
    "execution": {
     "iopub.execute_input": "2025-01-16T09:36:36.957949Z",
     "iopub.status.busy": "2025-01-16T09:36:36.957840Z",
     "iopub.status.idle": "2025-01-16T09:36:36.959576Z",
     "shell.execute_reply": "2025-01-16T09:36:36.959335Z"
    },
    "slideshow": {
     "slide_type": "subslide"
    }
   },
   "outputs": [],
   "source": [
    "class TarantulaDebugger(ContinuousSpectrumDebugger, RankingDebugger):\n",
    "    \"\"\"Spectrum-based Debugger using the Tarantula metric for suspiciousness\"\"\"\n",
    "    pass"
   ]
  },
  {
   "cell_type": "markdown",
   "metadata": {
    "slideshow": {
     "slide_type": "fragment"
    }
   },
   "source": [
    "Let us list `remove_html_markup()` with highlighted lines again:"
   ]
  },
  {
   "cell_type": "code",
   "execution_count": 105,
   "metadata": {
    "execution": {
     "iopub.execute_input": "2025-01-16T09:36:36.960852Z",
     "iopub.status.busy": "2025-01-16T09:36:36.960775Z",
     "iopub.status.idle": "2025-01-16T09:36:36.963256Z",
     "shell.execute_reply": "2025-01-16T09:36:36.963010Z"
    },
    "slideshow": {
     "slide_type": "fragment"
    }
   },
   "outputs": [],
   "source": [
    "tarantula_html = test_debugger_html(TarantulaDebugger())"
   ]
  },
  {
   "cell_type": "code",
   "execution_count": 106,
   "metadata": {
    "execution": {
     "iopub.execute_input": "2025-01-16T09:36:36.964591Z",
     "iopub.status.busy": "2025-01-16T09:36:36.964482Z",
     "iopub.status.idle": "2025-01-16T09:36:36.967455Z",
     "shell.execute_reply": "2025-01-16T09:36:36.967202Z"
    },
    "slideshow": {
     "slide_type": "fragment"
    }
   },
   "outputs": [
    {
     "data": {
      "text/html": [
       "<pre style=\"background-color:hsl(60.0, 100.0%, 80%)\"\n",
       "                    title=\"Line 1:  50%\">   1 def remove_html_markup(s):  # type: ignore</pre>\n",
       "<pre style=\"background-color:hsl(60.0, 100.0%, 80%)\"\n",
       "                    title=\"Line 2:  50%\">   2     tag = False</pre>\n",
       "<pre style=\"background-color:hsl(60.0, 100.0%, 80%)\"\n",
       "                    title=\"Line 3:  50%\">   3     quote = False</pre>\n",
       "<pre style=\"background-color:hsl(60.0, 100.0%, 80%)\"\n",
       "                    title=\"Line 4:  50%\">   4     out = &quot;&quot;</pre>\n",
       "<pre title=\"Line 5: not executed\">   5 &nbsp;</pre>\n",
       "<pre style=\"background-color:hsl(60.0, 100.0%, 80%)\"\n",
       "                    title=\"Line 6:  50%\">   6     for c in s:</pre>\n",
       "<pre style=\"background-color:hsl(60.0, 100.0%, 80%)\"\n",
       "                    title=\"Line 7:  50%\">   7         if c == &#x27;&lt;&#x27; and not quote:</pre>\n",
       "<pre style=\"background-color:hsl(120.0, 50.0%, 80%)\"\n",
       "                    title=\"Line 8:   0%\">   8             tag = True</pre>\n",
       "<pre style=\"background-color:hsl(60.0, 100.0%, 80%)\"\n",
       "                    title=\"Line 9:  50%\">   9         elif c == &#x27;&gt;&#x27; and not quote:</pre>\n",
       "<pre style=\"background-color:hsl(120.0, 50.0%, 80%)\"\n",
       "                    title=\"Line 10:   0%\">  10             tag = False</pre>\n",
       "<pre style=\"background-color:hsl(60.0, 100.0%, 80%)\"\n",
       "                    title=\"Line 11:  50%\">  11         elif c == &#x27;&quot;&#x27; or c == &quot;&#x27;&quot; and tag:</pre>\n",
       "<pre style=\"background-color:hsl(0.0, 100.0%, 80%)\"\n",
       "                    title=\"Line 12: 100%\">  12             quote = not quote</pre>\n",
       "<pre style=\"background-color:hsl(60.0, 100.0%, 80%)\"\n",
       "                    title=\"Line 13:  50%\">  13         elif not tag:</pre>\n",
       "<pre style=\"background-color:hsl(60.0, 100.0%, 80%)\"\n",
       "                    title=\"Line 14:  50%\">  14             out = out + c</pre>\n",
       "<pre title=\"Line 15: not executed\">  15 &nbsp;</pre>\n",
       "<pre style=\"background-color:hsl(60.0, 100.0%, 80%)\"\n",
       "                    title=\"Line 16:  50%\">  16     return out</pre>\n"
      ],
      "text/markdown": [
       "| `remove_html_markup` | `s='abc'` | `s='<b>abc</b>'` | `s='\"abc\"'` | \n",
       "| --------------------- | ---- | ---- | ---- | \n",
       "| <samp style=\"background-color: hsl(60.0, 100.0%, 80%)\" title=\" 50%\"> remove_html_markup:1</samp> |    X |    X |    X | \n",
       "| <samp style=\"background-color: hsl(60.0, 100.0%, 80%)\" title=\" 50%\"> remove_html_markup:2</samp> |    X |    X |    X | \n",
       "| <samp style=\"background-color: hsl(60.0, 100.0%, 80%)\" title=\" 50%\"> remove_html_markup:3</samp> |    X |    X |    X | \n",
       "| <samp style=\"background-color: hsl(60.0, 100.0%, 80%)\" title=\" 50%\"> remove_html_markup:4</samp> |    X |    X |    X | \n",
       "| <samp style=\"background-color: hsl(60.0, 100.0%, 80%)\" title=\" 50%\"> remove_html_markup:6</samp> |    X |    X |    X | \n",
       "| <samp style=\"background-color: hsl(60.0, 100.0%, 80%)\" title=\" 50%\"> remove_html_markup:7</samp> |    X |    X |    X | \n",
       "| <samp style=\"background-color: hsl(120.0, 50.0%, 80%)\" title=\"  0%\"> remove_html_markup:8</samp> |    - |    X |    - | \n",
       "| <samp style=\"background-color: hsl(60.0, 100.0%, 80%)\" title=\" 50%\"> remove_html_markup:9</samp> |    X |    X |    X | \n",
       "| <samp style=\"background-color: hsl(120.0, 50.0%, 80%)\" title=\"  0%\">remove_html_markup:10</samp> |    - |    X |    - | \n",
       "| <samp style=\"background-color: hsl(60.0, 100.0%, 80%)\" title=\" 50%\">remove_html_markup:11</samp> |    X |    X |    X | \n",
       "| <samp style=\"background-color: hsl(0.0, 100.0%, 80%)\" title=\"100%\">remove_html_markup:12</samp> |    - |    - |    X | \n",
       "| <samp style=\"background-color: hsl(60.0, 100.0%, 80%)\" title=\" 50%\">remove_html_markup:13</samp> |    X |    X |    X | \n",
       "| <samp style=\"background-color: hsl(60.0, 100.0%, 80%)\" title=\" 50%\">remove_html_markup:14</samp> |    X |    X |    X | \n",
       "| <samp style=\"background-color: hsl(60.0, 100.0%, 80%)\" title=\" 50%\">remove_html_markup:16</samp> |    X |    X |    X | \n"
      ],
      "text/plain": [
       "[('remove_html_markup', 12), ('remove_html_markup', 2), ('remove_html_markup', 11), ('remove_html_markup', 14), ('remove_html_markup', 3), ('remove_html_markup', 9), ('remove_html_markup', 6), ('remove_html_markup', 4), ('remove_html_markup', 1), ('remove_html_markup', 7), ('remove_html_markup', 16), ('remove_html_markup', 13), ('remove_html_markup', 8), ('remove_html_markup', 10)]"
      ]
     },
     "execution_count": 106,
     "metadata": {},
     "output_type": "execute_result"
    }
   ],
   "source": [
    "tarantula_html"
   ]
  },
  {
   "cell_type": "markdown",
   "metadata": {
    "slideshow": {
     "slide_type": "fragment"
    }
   },
   "source": [
    "Here's our ranking of lines, from most suspicious to least suspicious:"
   ]
  },
  {
   "cell_type": "code",
   "execution_count": 107,
   "metadata": {
    "execution": {
     "iopub.execute_input": "2025-01-16T09:36:36.968732Z",
     "iopub.status.busy": "2025-01-16T09:36:36.968633Z",
     "iopub.status.idle": "2025-01-16T09:36:36.970986Z",
     "shell.execute_reply": "2025-01-16T09:36:36.970713Z"
    },
    "slideshow": {
     "slide_type": "subslide"
    }
   },
   "outputs": [
    {
     "data": {
      "text/plain": [
       "[('remove_html_markup', 12),\n",
       " ('remove_html_markup', 2),\n",
       " ('remove_html_markup', 11),\n",
       " ('remove_html_markup', 14),\n",
       " ('remove_html_markup', 3),\n",
       " ('remove_html_markup', 9),\n",
       " ('remove_html_markup', 6),\n",
       " ('remove_html_markup', 4),\n",
       " ('remove_html_markup', 1),\n",
       " ('remove_html_markup', 7),\n",
       " ('remove_html_markup', 16),\n",
       " ('remove_html_markup', 13),\n",
       " ('remove_html_markup', 8),\n",
       " ('remove_html_markup', 10)]"
      ]
     },
     "execution_count": 107,
     "metadata": {},
     "output_type": "execute_result"
    }
   ],
   "source": [
    "tarantula_html.rank()"
   ]
  },
  {
   "cell_type": "code",
   "execution_count": 108,
   "metadata": {
    "execution": {
     "iopub.execute_input": "2025-01-16T09:36:36.972383Z",
     "iopub.status.busy": "2025-01-16T09:36:36.972266Z",
     "iopub.status.idle": "2025-01-16T09:36:36.974447Z",
     "shell.execute_reply": "2025-01-16T09:36:36.974222Z"
    },
    "slideshow": {
     "slide_type": "subslide"
    }
   },
   "outputs": [
    {
     "data": {
      "text/plain": [
       "1.0"
      ]
     },
     "execution_count": 108,
     "metadata": {},
     "output_type": "execute_result"
    }
   ],
   "source": [
    "tarantula_html.suspiciousness(tarantula_html.rank()[0])"
   ]
  },
  {
   "cell_type": "markdown",
   "metadata": {
    "slideshow": {
     "slide_type": "fragment"
    }
   },
   "source": [
    "We see that the first line in the list is indeed the most suspicious; the two \"green\" lines come at the very end."
   ]
  },
  {
   "cell_type": "markdown",
   "metadata": {
    "slideshow": {
     "slide_type": "fragment"
    }
   },
   "source": [
    "For the `middle()` function, we also obtain a ranking from \"reddest\" to \"greenest\"."
   ]
  },
  {
   "cell_type": "code",
   "execution_count": 109,
   "metadata": {
    "execution": {
     "iopub.execute_input": "2025-01-16T09:36:36.975856Z",
     "iopub.status.busy": "2025-01-16T09:36:36.975757Z",
     "iopub.status.idle": "2025-01-16T09:36:36.978325Z",
     "shell.execute_reply": "2025-01-16T09:36:36.978070Z"
    },
    "slideshow": {
     "slide_type": "fragment"
    }
   },
   "outputs": [],
   "source": [
    "tarantula_middle = test_debugger_middle(TarantulaDebugger())"
   ]
  },
  {
   "cell_type": "code",
   "execution_count": 110,
   "metadata": {
    "execution": {
     "iopub.execute_input": "2025-01-16T09:36:36.979614Z",
     "iopub.status.busy": "2025-01-16T09:36:36.979480Z",
     "iopub.status.idle": "2025-01-16T09:36:36.982200Z",
     "shell.execute_reply": "2025-01-16T09:36:36.981970Z"
    },
    "slideshow": {
     "slide_type": "fragment"
    }
   },
   "outputs": [
    {
     "data": {
      "text/html": [
       "<pre style=\"background-color:hsl(60.0, 100.0%, 80%)\"\n",
       "                    title=\"Line 1:  50%\">   1 def middle(x, y, z):  # type: ignore</pre>\n",
       "<pre style=\"background-color:hsl(60.0, 100.0%, 80%)\"\n",
       "                    title=\"Line 2:  50%\">   2     if y &lt; z:</pre>\n",
       "<pre style=\"background-color:hsl(44.99999999999999, 100.0%, 80%)\"\n",
       "                    title=\"Line 3:  62%\">   3         if x &lt; y:</pre>\n",
       "<pre style=\"background-color:hsl(120.0, 20.0%, 80%)\"\n",
       "                    title=\"Line 4:   0%\">   4             return y</pre>\n",
       "<pre style=\"background-color:hsl(34.28571428571429, 100.0%, 80%)\"\n",
       "                    title=\"Line 5:  71%\">   5         elif x &lt; z:</pre>\n",
       "<pre style=\"background-color:hsl(20.000000000000004, 100.0%, 80%)\"\n",
       "                    title=\"Line 6:  83%\">   6             return y</pre>\n",
       "<pre title=\"Line 7: not executed\">   7     else:\n",
       "</pre>\n",
       "<pre style=\"background-color:hsl(120.0, 40.0%, 80%)\"\n",
       "                    title=\"Line 8:   0%\">   8         if x &gt; y:</pre>\n",
       "<pre style=\"background-color:hsl(120.0, 20.0%, 80%)\"\n",
       "                    title=\"Line 9:   0%\">   9             return y</pre>\n",
       "<pre style=\"background-color:hsl(120.0, 20.0%, 80%)\"\n",
       "                    title=\"Line 10:   0%\">  10         elif x &gt; z:</pre>\n",
       "<pre title=\"Line 11: not executed\">  11             return x\n",
       "</pre>\n",
       "<pre style=\"background-color:hsl(120.0, 40.0%, 80%)\"\n",
       "                    title=\"Line 12:   0%\">  12     return z</pre>\n"
      ],
      "text/markdown": [
       "| `middle` | `x=3, y=3, z=5` | `x=1, y=2, z=3` | `x=3, y=2, z=1` | `x=5, y=5, z=5` | `x=5, y=3, z=4` | `x=2, y=1, z=3` | \n",
       "| --------- | ---- | ---- | ---- | ---- | ---- | ---- | \n",
       "| <samp style=\"background-color: hsl(60.0, 100.0%, 80%)\" title=\" 50%\"> middle:1</samp> |    X |    X |    X |    X |    X |    X | \n",
       "| <samp style=\"background-color: hsl(60.0, 100.0%, 80%)\" title=\" 50%\"> middle:2</samp> |    X |    X |    X |    X |    X |    X | \n",
       "| <samp style=\"background-color: hsl(44.99999999999999, 100.0%, 80%)\" title=\" 62%\"> middle:3</samp> |    X |    X |    - |    - |    X |    X | \n",
       "| <samp style=\"background-color: hsl(120.0, 20.0%, 80%)\" title=\"  0%\"> middle:4</samp> |    - |    X |    - |    - |    - |    - | \n",
       "| <samp style=\"background-color: hsl(34.28571428571429, 100.0%, 80%)\" title=\" 71%\"> middle:5</samp> |    X |    - |    - |    - |    X |    X | \n",
       "| <samp style=\"background-color: hsl(20.000000000000004, 100.0%, 80%)\" title=\" 83%\"> middle:6</samp> |    X |    - |    - |    - |    - |    X | \n",
       "| <samp style=\"background-color: hsl(120.0, 40.0%, 80%)\" title=\"  0%\"> middle:8</samp> |    - |    - |    X |    X |    - |    - | \n",
       "| <samp style=\"background-color: hsl(120.0, 20.0%, 80%)\" title=\"  0%\"> middle:9</samp> |    - |    - |    X |    - |    - |    - | \n",
       "| <samp style=\"background-color: hsl(120.0, 20.0%, 80%)\" title=\"  0%\">middle:10</samp> |    - |    - |    - |    X |    - |    - | \n",
       "| <samp style=\"background-color: hsl(120.0, 40.0%, 80%)\" title=\"  0%\">middle:12</samp> |    - |    - |    - |    X |    X |    - | \n"
      ],
      "text/plain": [
       "[('middle', 6), ('middle', 5), ('middle', 3), ('middle', 1), ('middle', 2), ('middle', 4), ('middle', 10), ('middle', 9), ('middle', 12), ('middle', 8)]"
      ]
     },
     "execution_count": 110,
     "metadata": {},
     "output_type": "execute_result"
    }
   ],
   "source": [
    "tarantula_middle"
   ]
  },
  {
   "cell_type": "code",
   "execution_count": 111,
   "metadata": {
    "execution": {
     "iopub.execute_input": "2025-01-16T09:36:36.983555Z",
     "iopub.status.busy": "2025-01-16T09:36:36.983443Z",
     "iopub.status.idle": "2025-01-16T09:36:36.985718Z",
     "shell.execute_reply": "2025-01-16T09:36:36.985467Z"
    },
    "slideshow": {
     "slide_type": "subslide"
    }
   },
   "outputs": [
    {
     "data": {
      "text/plain": [
       "[('middle', 6),\n",
       " ('middle', 5),\n",
       " ('middle', 3),\n",
       " ('middle', 1),\n",
       " ('middle', 2),\n",
       " ('middle', 4),\n",
       " ('middle', 10),\n",
       " ('middle', 9),\n",
       " ('middle', 12),\n",
       " ('middle', 8)]"
      ]
     },
     "execution_count": 111,
     "metadata": {},
     "output_type": "execute_result"
    }
   ],
   "source": [
    "tarantula_middle.rank()"
   ]
  },
  {
   "cell_type": "code",
   "execution_count": 112,
   "metadata": {
    "execution": {
     "iopub.execute_input": "2025-01-16T09:36:36.987044Z",
     "iopub.status.busy": "2025-01-16T09:36:36.986936Z",
     "iopub.status.idle": "2025-01-16T09:36:36.988996Z",
     "shell.execute_reply": "2025-01-16T09:36:36.988759Z"
    },
    "slideshow": {
     "slide_type": "fragment"
    }
   },
   "outputs": [
    {
     "data": {
      "text/plain": [
       "0.8333333333333333"
      ]
     },
     "execution_count": 112,
     "metadata": {},
     "output_type": "execute_result"
    }
   ],
   "source": [
    "tarantula_middle.suspiciousness(tarantula_middle.rank()[0])"
   ]
  },
  {
   "cell_type": "markdown",
   "metadata": {
    "slideshow": {
     "slide_type": "subslide"
    }
   },
   "source": [
    "### The Ochiai Metric\n",
    "\n",
    "The _Ochiai_ Metric \\cite{Ochiai1957} first introduced in the biology domain \\cite{daSilvaMeyer2004} and later applied for fault localization by Abreu et al. \\cite{Abreu2009}, is defined as follows:"
   ]
  },
  {
   "cell_type": "markdown",
   "metadata": {
    "slideshow": {
     "slide_type": "subslide"
    }
   },
   "source": [
    "$$\n",
    "\\textit{suspiciousness}_\\textit{ochiai} = \\frac\n",
    "{\\textit{failed}(\\textit{event})}\n",
    "{\\sqrt{\n",
    "\\bigl(\\textit{failed}(\\textit{event}) + \\textit{not-in-failed}(\\textit{event})\\bigr)\n",
    "\\times\n",
    "\\bigl(\\textit{failed}(\\textit{event}) + \\textit{passed}(\\textit{event})\\bigr)\n",
    "}}\n",
    "$$"
   ]
  },
  {
   "cell_type": "markdown",
   "metadata": {
    "slideshow": {
     "slide_type": "subslide"
    }
   },
   "source": [
    "where\n",
    "\n",
    "* $\\textit{failed}(\\textit{event})$ is the number of times the event occurred in _failing_ runs\n",
    "* $\\textit{not-in-failed}(\\textit{event})$ is the number of times the event did _not_ occur in failing runs\n",
    "* $\\textit{passed}(\\textit{event})$ is the number of times the event occurred in _passing_ runs.\n",
    "\n",
    "We can easily implement this formula:"
   ]
  },
  {
   "cell_type": "code",
   "execution_count": 113,
   "metadata": {
    "execution": {
     "iopub.execute_input": "2025-01-16T09:36:36.990688Z",
     "iopub.status.busy": "2025-01-16T09:36:36.990574Z",
     "iopub.status.idle": "2025-01-16T09:36:36.992269Z",
     "shell.execute_reply": "2025-01-16T09:36:36.991995Z"
    },
    "slideshow": {
     "slide_type": "skip"
    }
   },
   "outputs": [],
   "source": [
    "import math"
   ]
  },
  {
   "cell_type": "code",
   "execution_count": 114,
   "metadata": {
    "execution": {
     "iopub.execute_input": "2025-01-16T09:36:36.993597Z",
     "iopub.status.busy": "2025-01-16T09:36:36.993502Z",
     "iopub.status.idle": "2025-01-16T09:36:36.996301Z",
     "shell.execute_reply": "2025-01-16T09:36:36.996012Z"
    },
    "slideshow": {
     "slide_type": "subslide"
    }
   },
   "outputs": [],
   "source": [
    "class OchiaiDebugger(ContinuousSpectrumDebugger, RankingDebugger):\n",
    "    \"\"\"Spectrum-based Debugger using the Ochiai metric for suspiciousness\"\"\"\n",
    "\n",
    "    def suspiciousness(self, event: Any) -> Optional[float]:\n",
    "        failed = len(self.collectors_with_event(event, self.FAIL))\n",
    "        not_in_failed = len(self.collectors_without_event(event, self.FAIL))\n",
    "        passed = len(self.collectors_with_event(event, self.PASS))\n",
    "\n",
    "        try:\n",
    "            return failed / math.sqrt((failed + not_in_failed) * (failed + passed))\n",
    "        except ZeroDivisionError:\n",
    "            return None\n",
    "\n",
    "    def hue(self, event: Any) -> Optional[float]:\n",
    "        suspiciousness = self.suspiciousness(event)\n",
    "        if suspiciousness is None:\n",
    "            return None\n",
    "        return 1 - suspiciousness"
   ]
  },
  {
   "cell_type": "markdown",
   "metadata": {
    "slideshow": {
     "slide_type": "subslide"
    }
   },
   "source": [
    "Applied on the `remove_html_markup()` function, the individual suspiciousness scores differ from Tarantula. However, we obtain a very similar visualization, and the same ranking."
   ]
  },
  {
   "cell_type": "code",
   "execution_count": 115,
   "metadata": {
    "execution": {
     "iopub.execute_input": "2025-01-16T09:36:36.997786Z",
     "iopub.status.busy": "2025-01-16T09:36:36.997683Z",
     "iopub.status.idle": "2025-01-16T09:36:37.000053Z",
     "shell.execute_reply": "2025-01-16T09:36:36.999781Z"
    },
    "slideshow": {
     "slide_type": "fragment"
    }
   },
   "outputs": [],
   "source": [
    "ochiai_html = test_debugger_html(OchiaiDebugger())"
   ]
  },
  {
   "cell_type": "code",
   "execution_count": 116,
   "metadata": {
    "execution": {
     "iopub.execute_input": "2025-01-16T09:36:37.001285Z",
     "iopub.status.busy": "2025-01-16T09:36:37.001188Z",
     "iopub.status.idle": "2025-01-16T09:36:37.004050Z",
     "shell.execute_reply": "2025-01-16T09:36:37.003810Z"
    },
    "slideshow": {
     "slide_type": "fragment"
    }
   },
   "outputs": [
    {
     "data": {
      "text/html": [
       "<pre style=\"background-color:hsl(50.7179676972449, 100.0%, 80%)\"\n",
       "                    title=\"Line 1:  57%\">   1 def remove_html_markup(s):  # type: ignore</pre>\n",
       "<pre style=\"background-color:hsl(50.7179676972449, 100.0%, 80%)\"\n",
       "                    title=\"Line 2:  57%\">   2     tag = False</pre>\n",
       "<pre style=\"background-color:hsl(50.7179676972449, 100.0%, 80%)\"\n",
       "                    title=\"Line 3:  57%\">   3     quote = False</pre>\n",
       "<pre style=\"background-color:hsl(50.7179676972449, 100.0%, 80%)\"\n",
       "                    title=\"Line 4:  57%\">   4     out = &quot;&quot;</pre>\n",
       "<pre title=\"Line 5: not executed\">   5 &nbsp;</pre>\n",
       "<pre style=\"background-color:hsl(50.7179676972449, 100.0%, 80%)\"\n",
       "                    title=\"Line 6:  57%\">   6     for c in s:</pre>\n",
       "<pre style=\"background-color:hsl(50.7179676972449, 100.0%, 80%)\"\n",
       "                    title=\"Line 7:  57%\">   7         if c == &#x27;&lt;&#x27; and not quote:</pre>\n",
       "<pre style=\"background-color:hsl(120.0, 50.0%, 80%)\"\n",
       "                    title=\"Line 8:   0%\">   8             tag = True</pre>\n",
       "<pre style=\"background-color:hsl(50.7179676972449, 100.0%, 80%)\"\n",
       "                    title=\"Line 9:  57%\">   9         elif c == &#x27;&gt;&#x27; and not quote:</pre>\n",
       "<pre style=\"background-color:hsl(120.0, 50.0%, 80%)\"\n",
       "                    title=\"Line 10:   0%\">  10             tag = False</pre>\n",
       "<pre style=\"background-color:hsl(50.7179676972449, 100.0%, 80%)\"\n",
       "                    title=\"Line 11:  57%\">  11         elif c == &#x27;&quot;&#x27; or c == &quot;&#x27;&quot; and tag:</pre>\n",
       "<pre style=\"background-color:hsl(0.0, 100.0%, 80%)\"\n",
       "                    title=\"Line 12: 100%\">  12             quote = not quote</pre>\n",
       "<pre style=\"background-color:hsl(50.7179676972449, 100.0%, 80%)\"\n",
       "                    title=\"Line 13:  57%\">  13         elif not tag:</pre>\n",
       "<pre style=\"background-color:hsl(50.7179676972449, 100.0%, 80%)\"\n",
       "                    title=\"Line 14:  57%\">  14             out = out + c</pre>\n",
       "<pre title=\"Line 15: not executed\">  15 &nbsp;</pre>\n",
       "<pre style=\"background-color:hsl(50.7179676972449, 100.0%, 80%)\"\n",
       "                    title=\"Line 16:  57%\">  16     return out</pre>\n"
      ],
      "text/markdown": [
       "| `remove_html_markup` | `s='abc'` | `s='<b>abc</b>'` | `s='\"abc\"'` | \n",
       "| --------------------- | ---- | ---- | ---- | \n",
       "| <samp style=\"background-color: hsl(50.7179676972449, 100.0%, 80%)\" title=\" 57%\"> remove_html_markup:1</samp> |    X |    X |    X | \n",
       "| <samp style=\"background-color: hsl(50.7179676972449, 100.0%, 80%)\" title=\" 57%\"> remove_html_markup:2</samp> |    X |    X |    X | \n",
       "| <samp style=\"background-color: hsl(50.7179676972449, 100.0%, 80%)\" title=\" 57%\"> remove_html_markup:3</samp> |    X |    X |    X | \n",
       "| <samp style=\"background-color: hsl(50.7179676972449, 100.0%, 80%)\" title=\" 57%\"> remove_html_markup:4</samp> |    X |    X |    X | \n",
       "| <samp style=\"background-color: hsl(50.7179676972449, 100.0%, 80%)\" title=\" 57%\"> remove_html_markup:6</samp> |    X |    X |    X | \n",
       "| <samp style=\"background-color: hsl(50.7179676972449, 100.0%, 80%)\" title=\" 57%\"> remove_html_markup:7</samp> |    X |    X |    X | \n",
       "| <samp style=\"background-color: hsl(120.0, 50.0%, 80%)\" title=\"  0%\"> remove_html_markup:8</samp> |    - |    X |    - | \n",
       "| <samp style=\"background-color: hsl(50.7179676972449, 100.0%, 80%)\" title=\" 57%\"> remove_html_markup:9</samp> |    X |    X |    X | \n",
       "| <samp style=\"background-color: hsl(120.0, 50.0%, 80%)\" title=\"  0%\">remove_html_markup:10</samp> |    - |    X |    - | \n",
       "| <samp style=\"background-color: hsl(50.7179676972449, 100.0%, 80%)\" title=\" 57%\">remove_html_markup:11</samp> |    X |    X |    X | \n",
       "| <samp style=\"background-color: hsl(0.0, 100.0%, 80%)\" title=\"100%\">remove_html_markup:12</samp> |    - |    - |    X | \n",
       "| <samp style=\"background-color: hsl(50.7179676972449, 100.0%, 80%)\" title=\" 57%\">remove_html_markup:13</samp> |    X |    X |    X | \n",
       "| <samp style=\"background-color: hsl(50.7179676972449, 100.0%, 80%)\" title=\" 57%\">remove_html_markup:14</samp> |    X |    X |    X | \n",
       "| <samp style=\"background-color: hsl(50.7179676972449, 100.0%, 80%)\" title=\" 57%\">remove_html_markup:16</samp> |    X |    X |    X | \n"
      ],
      "text/plain": [
       "[('remove_html_markup', 12), ('remove_html_markup', 2), ('remove_html_markup', 11), ('remove_html_markup', 14), ('remove_html_markup', 3), ('remove_html_markup', 9), ('remove_html_markup', 6), ('remove_html_markup', 4), ('remove_html_markup', 1), ('remove_html_markup', 7), ('remove_html_markup', 16), ('remove_html_markup', 13), ('remove_html_markup', 8), ('remove_html_markup', 10)]"
      ]
     },
     "execution_count": 116,
     "metadata": {},
     "output_type": "execute_result"
    }
   ],
   "source": [
    "ochiai_html"
   ]
  },
  {
   "cell_type": "code",
   "execution_count": 117,
   "metadata": {
    "execution": {
     "iopub.execute_input": "2025-01-16T09:36:37.005350Z",
     "iopub.status.busy": "2025-01-16T09:36:37.005249Z",
     "iopub.status.idle": "2025-01-16T09:36:37.007360Z",
     "shell.execute_reply": "2025-01-16T09:36:37.007132Z"
    },
    "slideshow": {
     "slide_type": "subslide"
    }
   },
   "outputs": [
    {
     "data": {
      "text/plain": [
       "[('remove_html_markup', 12),\n",
       " ('remove_html_markup', 2),\n",
       " ('remove_html_markup', 11),\n",
       " ('remove_html_markup', 14),\n",
       " ('remove_html_markup', 3),\n",
       " ('remove_html_markup', 9),\n",
       " ('remove_html_markup', 6),\n",
       " ('remove_html_markup', 4),\n",
       " ('remove_html_markup', 1),\n",
       " ('remove_html_markup', 7),\n",
       " ('remove_html_markup', 16),\n",
       " ('remove_html_markup', 13),\n",
       " ('remove_html_markup', 8),\n",
       " ('remove_html_markup', 10)]"
      ]
     },
     "execution_count": 117,
     "metadata": {},
     "output_type": "execute_result"
    }
   ],
   "source": [
    "ochiai_html.rank()"
   ]
  },
  {
   "cell_type": "code",
   "execution_count": 118,
   "metadata": {
    "execution": {
     "iopub.execute_input": "2025-01-16T09:36:37.008538Z",
     "iopub.status.busy": "2025-01-16T09:36:37.008443Z",
     "iopub.status.idle": "2025-01-16T09:36:37.010506Z",
     "shell.execute_reply": "2025-01-16T09:36:37.010285Z"
    },
    "slideshow": {
     "slide_type": "subslide"
    }
   },
   "outputs": [
    {
     "data": {
      "text/plain": [
       "1.0"
      ]
     },
     "execution_count": 118,
     "metadata": {},
     "output_type": "execute_result"
    }
   ],
   "source": [
    "ochiai_html.suspiciousness(ochiai_html.rank()[0])"
   ]
  },
  {
   "cell_type": "markdown",
   "metadata": {
    "slideshow": {
     "slide_type": "fragment"
    }
   },
   "source": [
    "The same observations also apply for the `middle()` function."
   ]
  },
  {
   "cell_type": "code",
   "execution_count": 119,
   "metadata": {
    "execution": {
     "iopub.execute_input": "2025-01-16T09:36:37.011721Z",
     "iopub.status.busy": "2025-01-16T09:36:37.011630Z",
     "iopub.status.idle": "2025-01-16T09:36:37.014191Z",
     "shell.execute_reply": "2025-01-16T09:36:37.013978Z"
    },
    "slideshow": {
     "slide_type": "fragment"
    }
   },
   "outputs": [],
   "source": [
    "ochiai_middle = test_debugger_middle(OchiaiDebugger())"
   ]
  },
  {
   "cell_type": "code",
   "execution_count": 120,
   "metadata": {
    "execution": {
     "iopub.execute_input": "2025-01-16T09:36:37.015356Z",
     "iopub.status.busy": "2025-01-16T09:36:37.015259Z",
     "iopub.status.idle": "2025-01-16T09:36:37.017900Z",
     "shell.execute_reply": "2025-01-16T09:36:37.017668Z"
    },
    "slideshow": {
     "slide_type": "fragment"
    }
   },
   "outputs": [
    {
     "data": {
      "text/html": [
       "<pre style=\"background-color:hsl(71.01020514433642, 100.0%, 80%)\"\n",
       "                    title=\"Line 1:  40%\">   1 def middle(x, y, z):  # type: ignore</pre>\n",
       "<pre style=\"background-color:hsl(71.01020514433642, 100.0%, 80%)\"\n",
       "                    title=\"Line 2:  40%\">   2     if y &lt; z:</pre>\n",
       "<pre style=\"background-color:hsl(60.0, 100.0%, 80%)\"\n",
       "                    title=\"Line 3:  50%\">   3         if x &lt; y:</pre>\n",
       "<pre style=\"background-color:hsl(120.0, 20.0%, 80%)\"\n",
       "                    title=\"Line 4:   0%\">   4             return y</pre>\n",
       "<pre style=\"background-color:hsl(50.7179676972449, 100.0%, 80%)\"\n",
       "                    title=\"Line 5:  57%\">   5         elif x &lt; z:</pre>\n",
       "<pre style=\"background-color:hsl(35.14718625761431, 100.0%, 80%)\"\n",
       "                    title=\"Line 6:  70%\">   6             return y</pre>\n",
       "<pre title=\"Line 7: not executed\">   7     else:\n",
       "</pre>\n",
       "<pre style=\"background-color:hsl(120.0, 40.0%, 80%)\"\n",
       "                    title=\"Line 8:   0%\">   8         if x &gt; y:</pre>\n",
       "<pre style=\"background-color:hsl(120.0, 20.0%, 80%)\"\n",
       "                    title=\"Line 9:   0%\">   9             return y</pre>\n",
       "<pre style=\"background-color:hsl(120.0, 20.0%, 80%)\"\n",
       "                    title=\"Line 10:   0%\">  10         elif x &gt; z:</pre>\n",
       "<pre title=\"Line 11: not executed\">  11             return x\n",
       "</pre>\n",
       "<pre style=\"background-color:hsl(120.0, 40.0%, 80%)\"\n",
       "                    title=\"Line 12:   0%\">  12     return z</pre>\n"
      ],
      "text/markdown": [
       "| `middle` | `x=3, y=3, z=5` | `x=1, y=2, z=3` | `x=3, y=2, z=1` | `x=5, y=5, z=5` | `x=5, y=3, z=4` | `x=2, y=1, z=3` | \n",
       "| --------- | ---- | ---- | ---- | ---- | ---- | ---- | \n",
       "| <samp style=\"background-color: hsl(71.01020514433642, 100.0%, 80%)\" title=\" 40%\"> middle:1</samp> |    X |    X |    X |    X |    X |    X | \n",
       "| <samp style=\"background-color: hsl(71.01020514433642, 100.0%, 80%)\" title=\" 40%\"> middle:2</samp> |    X |    X |    X |    X |    X |    X | \n",
       "| <samp style=\"background-color: hsl(60.0, 100.0%, 80%)\" title=\" 50%\"> middle:3</samp> |    X |    X |    - |    - |    X |    X | \n",
       "| <samp style=\"background-color: hsl(120.0, 20.0%, 80%)\" title=\"  0%\"> middle:4</samp> |    - |    X |    - |    - |    - |    - | \n",
       "| <samp style=\"background-color: hsl(50.7179676972449, 100.0%, 80%)\" title=\" 57%\"> middle:5</samp> |    X |    - |    - |    - |    X |    X | \n",
       "| <samp style=\"background-color: hsl(35.14718625761431, 100.0%, 80%)\" title=\" 70%\"> middle:6</samp> |    X |    - |    - |    - |    - |    X | \n",
       "| <samp style=\"background-color: hsl(120.0, 40.0%, 80%)\" title=\"  0%\"> middle:8</samp> |    - |    - |    X |    X |    - |    - | \n",
       "| <samp style=\"background-color: hsl(120.0, 20.0%, 80%)\" title=\"  0%\"> middle:9</samp> |    - |    - |    X |    - |    - |    - | \n",
       "| <samp style=\"background-color: hsl(120.0, 20.0%, 80%)\" title=\"  0%\">middle:10</samp> |    - |    - |    - |    X |    - |    - | \n",
       "| <samp style=\"background-color: hsl(120.0, 40.0%, 80%)\" title=\"  0%\">middle:12</samp> |    - |    - |    - |    X |    X |    - | \n"
      ],
      "text/plain": [
       "[('middle', 6), ('middle', 5), ('middle', 3), ('middle', 1), ('middle', 2), ('middle', 4), ('middle', 10), ('middle', 9), ('middle', 12), ('middle', 8)]"
      ]
     },
     "execution_count": 120,
     "metadata": {},
     "output_type": "execute_result"
    }
   ],
   "source": [
    "ochiai_middle"
   ]
  },
  {
   "cell_type": "code",
   "execution_count": 121,
   "metadata": {
    "execution": {
     "iopub.execute_input": "2025-01-16T09:36:37.019114Z",
     "iopub.status.busy": "2025-01-16T09:36:37.019019Z",
     "iopub.status.idle": "2025-01-16T09:36:37.021126Z",
     "shell.execute_reply": "2025-01-16T09:36:37.020861Z"
    },
    "slideshow": {
     "slide_type": "subslide"
    }
   },
   "outputs": [
    {
     "data": {
      "text/plain": [
       "[('middle', 6),\n",
       " ('middle', 5),\n",
       " ('middle', 3),\n",
       " ('middle', 1),\n",
       " ('middle', 2),\n",
       " ('middle', 4),\n",
       " ('middle', 10),\n",
       " ('middle', 9),\n",
       " ('middle', 12),\n",
       " ('middle', 8)]"
      ]
     },
     "execution_count": 121,
     "metadata": {},
     "output_type": "execute_result"
    }
   ],
   "source": [
    "ochiai_middle.rank()"
   ]
  },
  {
   "cell_type": "code",
   "execution_count": 122,
   "metadata": {
    "execution": {
     "iopub.execute_input": "2025-01-16T09:36:37.022396Z",
     "iopub.status.busy": "2025-01-16T09:36:37.022297Z",
     "iopub.status.idle": "2025-01-16T09:36:37.024278Z",
     "shell.execute_reply": "2025-01-16T09:36:37.024042Z"
    },
    "slideshow": {
     "slide_type": "fragment"
    }
   },
   "outputs": [
    {
     "data": {
      "text/plain": [
       "0.7071067811865475"
      ]
     },
     "execution_count": 122,
     "metadata": {},
     "output_type": "execute_result"
    }
   ],
   "source": [
    "ochiai_middle.suspiciousness(ochiai_middle.rank()[0])"
   ]
  },
  {
   "cell_type": "markdown",
   "metadata": {
    "slideshow": {
     "slide_type": "subslide"
    }
   },
   "source": [
    "### How Useful is Ranking?\n",
    "\n",
    "So, which metric is better? The standard method to evaluate such rankings is to determine a _ground truth_ – that is, the set of locations that eventually are fixed – and to check at which point in the ranking any such location occurs – the earlier, the better. In our `remove_html_markup()` and `middle()` examples, both the Tarantula and the Ochiai metric perform flawlessly, as the \"culprit\" line is always ranked at the top. However, this need not always be the case; the exact performance depends on the nature of the code and the observed runs. (Also, the question of whether there always is exactly one possible location where the program can be fixed is open for discussion.)"
   ]
  },
  {
   "cell_type": "markdown",
   "metadata": {
    "slideshow": {
     "slide_type": "subslide"
    }
   },
   "source": [
    "You will be surprised that over time, _several dozen_ metrics have been proposed \\cite{Wong2016}, each performing somewhat better or somewhat worse depending on which benchmark they were applied on. The two metrics discussed above each have their merits – the Tarantula metric was among the first such metrics, and the Ochiai metric is generally shown to be among the most effective ones \\cite{Abreu2009}."
   ]
  },
  {
   "cell_type": "markdown",
   "metadata": {
    "slideshow": {
     "slide_type": "subslide"
    }
   },
   "source": [
    "While rankings can be easily _evaluated_, it is not necessarily clear whether and how much they serve programmers. As stated above, the assumption of rankings is that developers examine one potentially defective statement after another until they find the actually defective one. However, in a series of human studies with developers, Parnin and Orso \\cite{Parnin2011} found that this assumption may not hold:\n",
    "\n",
    "> It is unclear whether developers can actually determine the faulty nature of a statement by simply looking at it, without any additional information (e.g., the state of the program when the statement was executed or the statements that were executed before or after that one).\n",
    "\n",
    "In their study, they found that rankings could help completing a task faster, but this effect was limited to experienced developers and simpler code. Artificially changing the rank of faulty statements had little to no effect, implying that developers would not strictly follow the ranked list of statements, but rather search through the code to understand it. At this point, a _visualization_ as in the Tarantula tool can be helpful to programmers as it _guides_ the search, but a _ranking_ that _defines_ where to search may be less useful."
   ]
  },
  {
   "cell_type": "markdown",
   "metadata": {
    "slideshow": {
     "slide_type": "subslide"
    }
   },
   "source": [
    "Having said that, ranking has its merits – notably as it comes to informing _automated_ debugging techniques. In the [chapter on program repair](Repairer.ipynb), we will see how ranked lists of potentially faulty statements tell automated repair techniques where to try to repair the program first. And once such a repair is successful, we have a very strong indication on where and how the program could be fixed!"
   ]
  },
  {
   "cell_type": "markdown",
   "metadata": {
    "slideshow": {
     "slide_type": "slide"
    }
   },
   "source": [
    "## Using Large Test Suites"
   ]
  },
  {
   "cell_type": "markdown",
   "metadata": {
    "slideshow": {
     "slide_type": "fragment"
    }
   },
   "source": [
    "In fault localization, the larger and the more thorough the test suite, the higher the precision. Let us try out what happens if we extend the `middle()` test suite with additional test cases."
   ]
  },
  {
   "cell_type": "markdown",
   "metadata": {
    "slideshow": {
     "slide_type": "fragment"
    }
   },
   "source": [
    "The function `middle_testcase()` returns a random input for `middle()`:"
   ]
  },
  {
   "cell_type": "code",
   "execution_count": 123,
   "metadata": {
    "execution": {
     "iopub.execute_input": "2025-01-16T09:36:37.025996Z",
     "iopub.status.busy": "2025-01-16T09:36:37.025760Z",
     "iopub.status.idle": "2025-01-16T09:36:37.027408Z",
     "shell.execute_reply": "2025-01-16T09:36:37.027189Z"
    },
    "slideshow": {
     "slide_type": "skip"
    }
   },
   "outputs": [],
   "source": [
    "import random"
   ]
  },
  {
   "cell_type": "code",
   "execution_count": 124,
   "metadata": {
    "execution": {
     "iopub.execute_input": "2025-01-16T09:36:37.028635Z",
     "iopub.status.busy": "2025-01-16T09:36:37.028555Z",
     "iopub.status.idle": "2025-01-16T09:36:37.030719Z",
     "shell.execute_reply": "2025-01-16T09:36:37.030423Z"
    },
    "slideshow": {
     "slide_type": "fragment"
    }
   },
   "outputs": [],
   "source": [
    "def middle_testcase() -> Tuple[int, int, int]:\n",
    "    x = random.randrange(10)\n",
    "    y = random.randrange(10)\n",
    "    z = random.randrange(10)\n",
    "    return x, y, z"
   ]
  },
  {
   "cell_type": "code",
   "execution_count": 125,
   "metadata": {
    "execution": {
     "iopub.execute_input": "2025-01-16T09:36:37.031997Z",
     "iopub.status.busy": "2025-01-16T09:36:37.031909Z",
     "iopub.status.idle": "2025-01-16T09:36:37.034237Z",
     "shell.execute_reply": "2025-01-16T09:36:37.034009Z"
    },
    "slideshow": {
     "slide_type": "fragment"
    }
   },
   "outputs": [
    {
     "data": {
      "text/plain": [
       "[(9, 0, 5), (0, 1, 9), (9, 0, 9), (2, 9, 0), (4, 7, 2)]"
      ]
     },
     "execution_count": 125,
     "metadata": {},
     "output_type": "execute_result"
    }
   ],
   "source": [
    "[middle_testcase() for i in range(5)]"
   ]
  },
  {
   "cell_type": "markdown",
   "metadata": {
    "slideshow": {
     "slide_type": "subslide"
    }
   },
   "source": [
    "The function `middle_test()` simply checks if `middle()` operates correctly – by placing `x`, `y`, and `z` in a list, sorting it, and checking the middle argument. If `middle()` fails, `middle_test()` raises an exception."
   ]
  },
  {
   "cell_type": "code",
   "execution_count": 126,
   "metadata": {
    "execution": {
     "iopub.execute_input": "2025-01-16T09:36:37.035663Z",
     "iopub.status.busy": "2025-01-16T09:36:37.035567Z",
     "iopub.status.idle": "2025-01-16T09:36:37.037495Z",
     "shell.execute_reply": "2025-01-16T09:36:37.037257Z"
    },
    "slideshow": {
     "slide_type": "fragment"
    }
   },
   "outputs": [],
   "source": [
    "def middle_test(x: int, y: int, z: int) -> None:\n",
    "    m = middle(x, y, z)\n",
    "    assert m == sorted([x, y, z])[1]"
   ]
  },
  {
   "cell_type": "code",
   "execution_count": 127,
   "metadata": {
    "execution": {
     "iopub.execute_input": "2025-01-16T09:36:37.038852Z",
     "iopub.status.busy": "2025-01-16T09:36:37.038755Z",
     "iopub.status.idle": "2025-01-16T09:36:37.040248Z",
     "shell.execute_reply": "2025-01-16T09:36:37.040001Z"
    },
    "slideshow": {
     "slide_type": "fragment"
    }
   },
   "outputs": [],
   "source": [
    "middle_test(4, 5, 6)"
   ]
  },
  {
   "cell_type": "code",
   "execution_count": 128,
   "metadata": {
    "execution": {
     "iopub.execute_input": "2025-01-16T09:36:37.041421Z",
     "iopub.status.busy": "2025-01-16T09:36:37.041345Z",
     "iopub.status.idle": "2025-01-16T09:36:37.043194Z",
     "shell.execute_reply": "2025-01-16T09:36:37.042932Z"
    },
    "slideshow": {
     "slide_type": "skip"
    }
   },
   "outputs": [],
   "source": [
    "from ExpectError import ExpectError"
   ]
  },
  {
   "cell_type": "code",
   "execution_count": 129,
   "metadata": {
    "execution": {
     "iopub.execute_input": "2025-01-16T09:36:37.044648Z",
     "iopub.status.busy": "2025-01-16T09:36:37.044564Z",
     "iopub.status.idle": "2025-01-16T09:36:37.046636Z",
     "shell.execute_reply": "2025-01-16T09:36:37.046367Z"
    },
    "slideshow": {
     "slide_type": "subslide"
    }
   },
   "outputs": [
    {
     "name": "stderr",
     "output_type": "stream",
     "text": [
      "Traceback (most recent call last):\n",
      "  File \"/var/folders/n2/xd9445p97rb3xh7m1dfx8_4h0006ts/T/ipykernel_98772/3661663124.py\", line 2, in <module>\n",
      "    middle_test(2, 1, 3)\n",
      "  File \"/var/folders/n2/xd9445p97rb3xh7m1dfx8_4h0006ts/T/ipykernel_98772/40742806.py\", line 3, in middle_test\n",
      "    assert m == sorted([x, y, z])[1]\n",
      "           ^^^^^^^^^^^^^^^^^^^^^^^^^\n",
      "AssertionError (expected)\n"
     ]
    }
   ],
   "source": [
    "with ExpectError():\n",
    "    middle_test(2, 1, 3)"
   ]
  },
  {
   "cell_type": "markdown",
   "metadata": {
    "slideshow": {
     "slide_type": "fragment"
    }
   },
   "source": [
    "The function `middle_passing_testcase()` searches and returns a triple `x`, `y`, `z` that causes `middle_test()` to pass."
   ]
  },
  {
   "cell_type": "code",
   "execution_count": 130,
   "metadata": {
    "execution": {
     "iopub.execute_input": "2025-01-16T09:36:37.048033Z",
     "iopub.status.busy": "2025-01-16T09:36:37.047952Z",
     "iopub.status.idle": "2025-01-16T09:36:37.050004Z",
     "shell.execute_reply": "2025-01-16T09:36:37.049752Z"
    },
    "slideshow": {
     "slide_type": "subslide"
    }
   },
   "outputs": [],
   "source": [
    "def middle_passing_testcase() -> Tuple[int, int, int]:\n",
    "    while True:\n",
    "        try:\n",
    "            x, y, z = middle_testcase()\n",
    "            middle_test(x, y, z)\n",
    "            return x, y, z\n",
    "        except AssertionError:\n",
    "            pass"
   ]
  },
  {
   "cell_type": "code",
   "execution_count": 131,
   "metadata": {
    "execution": {
     "iopub.execute_input": "2025-01-16T09:36:37.051160Z",
     "iopub.status.busy": "2025-01-16T09:36:37.051085Z",
     "iopub.status.idle": "2025-01-16T09:36:37.053156Z",
     "shell.execute_reply": "2025-01-16T09:36:37.052884Z"
    },
    "slideshow": {
     "slide_type": "fragment"
    }
   },
   "outputs": [
    {
     "name": "stdout",
     "output_type": "stream",
     "text": [
      "middle(1, 6, 1) = 1\n"
     ]
    }
   ],
   "source": [
    "(x, y, z) = middle_passing_testcase()\n",
    "m = middle(x, y, z)\n",
    "print(f\"middle({x}, {y}, {z}) = {m}\")"
   ]
  },
  {
   "cell_type": "markdown",
   "metadata": {
    "slideshow": {
     "slide_type": "fragment"
    }
   },
   "source": [
    "The function `middle_failing_testcase()` does the same; but its triple `x`, `y`, `z` causes `middle_test()` to fail."
   ]
  },
  {
   "cell_type": "code",
   "execution_count": 132,
   "metadata": {
    "execution": {
     "iopub.execute_input": "2025-01-16T09:36:37.054511Z",
     "iopub.status.busy": "2025-01-16T09:36:37.054428Z",
     "iopub.status.idle": "2025-01-16T09:36:37.056501Z",
     "shell.execute_reply": "2025-01-16T09:36:37.056247Z"
    },
    "slideshow": {
     "slide_type": "subslide"
    }
   },
   "outputs": [],
   "source": [
    "def middle_failing_testcase() -> Tuple[int, int, int]:\n",
    "    while True:\n",
    "        try:\n",
    "            x, y, z = middle_testcase()\n",
    "            middle_test(x, y, z)\n",
    "        except AssertionError:\n",
    "            return x, y, z"
   ]
  },
  {
   "cell_type": "code",
   "execution_count": 133,
   "metadata": {
    "execution": {
     "iopub.execute_input": "2025-01-16T09:36:37.057979Z",
     "iopub.status.busy": "2025-01-16T09:36:37.057875Z",
     "iopub.status.idle": "2025-01-16T09:36:37.059895Z",
     "shell.execute_reply": "2025-01-16T09:36:37.059680Z"
    },
    "slideshow": {
     "slide_type": "fragment"
    }
   },
   "outputs": [
    {
     "name": "stdout",
     "output_type": "stream",
     "text": [
      "middle(5, 2, 6) = 2\n"
     ]
    }
   ],
   "source": [
    "(x, y, z) = middle_failing_testcase()\n",
    "m = middle(x, y, z)\n",
    "print(f\"middle({x}, {y}, {z}) = {m}\")"
   ]
  },
  {
   "cell_type": "markdown",
   "metadata": {
    "slideshow": {
     "slide_type": "fragment"
    }
   },
   "source": [
    "With these, we can define two sets of test cases, each with 100 inputs."
   ]
  },
  {
   "cell_type": "code",
   "execution_count": 134,
   "metadata": {
    "execution": {
     "iopub.execute_input": "2025-01-16T09:36:37.061160Z",
     "iopub.status.busy": "2025-01-16T09:36:37.061078Z",
     "iopub.status.idle": "2025-01-16T09:36:37.062673Z",
     "shell.execute_reply": "2025-01-16T09:36:37.062466Z"
    },
    "slideshow": {
     "slide_type": "fragment"
    }
   },
   "outputs": [],
   "source": [
    "MIDDLE_TESTS = 100"
   ]
  },
  {
   "cell_type": "code",
   "execution_count": 135,
   "metadata": {
    "execution": {
     "iopub.execute_input": "2025-01-16T09:36:37.063866Z",
     "iopub.status.busy": "2025-01-16T09:36:37.063795Z",
     "iopub.status.idle": "2025-01-16T09:36:37.065601Z",
     "shell.execute_reply": "2025-01-16T09:36:37.065351Z"
    },
    "slideshow": {
     "slide_type": "subslide"
    }
   },
   "outputs": [],
   "source": [
    "MIDDLE_PASSING_TESTCASES = [middle_passing_testcase()\n",
    "                            for i in range(MIDDLE_TESTS)]"
   ]
  },
  {
   "cell_type": "code",
   "execution_count": 136,
   "metadata": {
    "execution": {
     "iopub.execute_input": "2025-01-16T09:36:37.066803Z",
     "iopub.status.busy": "2025-01-16T09:36:37.066728Z",
     "iopub.status.idle": "2025-01-16T09:36:37.069172Z",
     "shell.execute_reply": "2025-01-16T09:36:37.068925Z"
    },
    "slideshow": {
     "slide_type": "fragment"
    }
   },
   "outputs": [],
   "source": [
    "MIDDLE_FAILING_TESTCASES = [middle_failing_testcase()\n",
    "                            for i in range(MIDDLE_TESTS)]"
   ]
  },
  {
   "cell_type": "markdown",
   "metadata": {
    "slideshow": {
     "slide_type": "fragment"
    }
   },
   "source": [
    "Let us run the `OchiaiDebugger` with these two test sets."
   ]
  },
  {
   "cell_type": "code",
   "execution_count": 137,
   "metadata": {
    "execution": {
     "iopub.execute_input": "2025-01-16T09:36:37.070432Z",
     "iopub.status.busy": "2025-01-16T09:36:37.070359Z",
     "iopub.status.idle": "2025-01-16T09:36:37.106900Z",
     "shell.execute_reply": "2025-01-16T09:36:37.106548Z"
    },
    "slideshow": {
     "slide_type": "fragment"
    }
   },
   "outputs": [],
   "source": [
    "ochiai_middle = OchiaiDebugger()\n",
    "\n",
    "for x, y, z in MIDDLE_PASSING_TESTCASES:\n",
    "    with ochiai_middle.collect_pass():\n",
    "        middle(x, y, z)\n",
    "\n",
    "for x, y, z in MIDDLE_FAILING_TESTCASES:\n",
    "    with ochiai_middle.collect_fail():\n",
    "        middle(x, y, z)"
   ]
  },
  {
   "cell_type": "code",
   "execution_count": 138,
   "metadata": {
    "execution": {
     "iopub.execute_input": "2025-01-16T09:36:37.108572Z",
     "iopub.status.busy": "2025-01-16T09:36:37.108431Z",
     "iopub.status.idle": "2025-01-16T09:36:37.156696Z",
     "shell.execute_reply": "2025-01-16T09:36:37.156293Z"
    },
    "slideshow": {
     "slide_type": "subslide"
    }
   },
   "outputs": [
    {
     "data": {
      "text/html": [
       "<pre style=\"background-color:hsl(120.0, 1.0%, 80%)\"\n",
       "                    title=\"Line 775:   0%\"> 775     def _clean_thread_parent_frames(</pre>\n",
       "<pre title=\"Line 776: not executed\"> 776         self, phase: t.Literal[&quot;start&quot;, &quot;stop&quot;], info: t.Dict[str, t.Any]\n",
       "</pre>\n",
       "<pre title=\"Line 777: not executed\"> 777     ):\n",
       "</pre>\n",
       "<pre title=\"Line 778: not executed\"> 778         &quot;&quot;&quot;Clean parent frames of threads which are no longer running.\n",
       "</pre>\n",
       "<pre title=\"Line 779: not executed\"> 779         This is meant to be invoked by garbage collector callback hook.\n",
       "</pre>\n",
       "<pre title=\"Line 780: not executed\"> 780 &nbsp;</pre>\n",
       "<pre title=\"Line 781: not executed\"> 781         The implementation enumerates the threads because there is no &quot;exit&quot; hook yet,\n",
       "</pre>\n",
       "<pre title=\"Line 782: not executed\"> 782         but there might be one in the future: https://bugs.python.org/issue14073\n",
       "</pre>\n",
       "<pre title=\"Line 783: not executed\"> 783 &nbsp;</pre>\n",
       "<pre title=\"Line 784: not executed\"> 784         This is a no-op if the `self._stdout` and `self._stderr` are not\n",
       "</pre>\n",
       "<pre title=\"Line 785: not executed\"> 785         sub-classes of `OutStream`.\n",
       "</pre>\n",
       "<pre title=\"Line 786: not executed\"> 786         &quot;&quot;&quot;\n",
       "</pre>\n",
       "<pre title=\"Line 787: not executed\"> 787         # Only run before the garbage collector starts\n",
       "</pre>\n",
       "<pre style=\"background-color:hsl(120.0, 1.0%, 80%)\"\n",
       "                    title=\"Line 788:   0%\"> 788         if phase != &quot;start&quot;:</pre>\n",
       "<pre style=\"background-color:hsl(120.0, 1.0%, 80%)\"\n",
       "                    title=\"Line 789:   0%\"> 789             return</pre>\n",
       "<pre style=\"background-color:hsl(120.0, 1.0%, 80%)\"\n",
       "                    title=\"Line 790:   0%\"> 790         active_threads = {thread.ident for thread in threading.enumerate()}</pre>\n",
       "<pre style=\"background-color:hsl(120.0, 1.0%, 80%)\"\n",
       "                    title=\"Line 791:   0%\"> 791         for stream in [self._stdout, self._stderr]:</pre>\n",
       "<pre style=\"background-color:hsl(120.0, 1.0%, 80%)\"\n",
       "                    title=\"Line 792:   0%\"> 792             if isinstance(stream, OutStream):</pre>\n",
       "<pre style=\"background-color:hsl(120.0, 1.0%, 80%)\"\n",
       "                    title=\"Line 793:   0%\"> 793                 thread_to_parent_header = stream._thread_to_parent_header</pre>\n",
       "<pre style=\"background-color:hsl(120.0, 1.0%, 80%)\"\n",
       "                    title=\"Line 794:   0%\"> 794                 for identity in list(thread_to_parent_header.keys()):</pre>\n",
       "<pre title=\"Line 795: not executed\"> 795                     if identity not in active_threads:\n",
       "</pre>\n",
       "<pre title=\"Line 796: not executed\"> 796                         try:\n",
       "</pre>\n",
       "<pre title=\"Line 797: not executed\"> 797                             del thread_to_parent_header[identity]\n",
       "</pre>\n",
       "<pre title=\"Line 798: not executed\"> 798                         except KeyError:\n",
       "</pre>\n",
       "<pre title=\"Line 799: not executed\"> 799                             pass\n",
       "</pre>\n",
       "<pre style=\"background-color:hsl(120.0, 1.0%, 80%)\"\n",
       "                    title=\"Line 800:   0%\"> 800                 thread_to_parent = stream._thread_to_parent</pre>\n",
       "<pre style=\"background-color:hsl(120.0, 1.0%, 80%)\"\n",
       "                    title=\"Line 801:   0%\"> 801                 for identity in list(thread_to_parent.keys()):</pre>\n",
       "<pre title=\"Line 802: not executed\"> 802                     if identity not in active_threads:\n",
       "</pre>\n",
       "<pre title=\"Line 803: not executed\"> 803                         try:\n",
       "</pre>\n",
       "<pre title=\"Line 804: not executed\"> 804                             del thread_to_parent[identity]\n",
       "</pre>\n",
       "<pre title=\"Line 805: not executed\"> 805                         except KeyError:\n",
       "</pre>\n",
       "<pre title=\"Line 806: not executed\"> 806                             pass\n",
       "</pre>\n",
       "\n",
       "<p/><pre style=\"background-color:hsl(120.0, 1.0%, 80%)\"\n",
       "                    title=\"Line 1198:   0%\">1198     @property</pre>\n",
       "<pre title=\"Line 1199: not executed\">1199     def ident(self):\n",
       "</pre>\n",
       "<pre title=\"Line 1200: not executed\">1200         &quot;&quot;&quot;Thread identifier of this thread or None if it has not been started.\n",
       "</pre>\n",
       "<pre title=\"Line 1201: not executed\">1201 &nbsp;</pre>\n",
       "<pre title=\"Line 1202: not executed\">1202         This is a nonzero integer. See the get_ident() function. Thread\n",
       "</pre>\n",
       "<pre title=\"Line 1203: not executed\">1203         identifiers may be recycled when a thread exits and another thread is\n",
       "</pre>\n",
       "<pre title=\"Line 1204: not executed\">1204         created. The identifier is available even after the thread has exited.\n",
       "</pre>\n",
       "<pre title=\"Line 1205: not executed\">1205 &nbsp;</pre>\n",
       "<pre title=\"Line 1206: not executed\">1206         &quot;&quot;&quot;\n",
       "</pre>\n",
       "<pre style=\"background-color:hsl(120.0, 1.0%, 80%)\"\n",
       "                    title=\"Line 1207:   0%\">1207         assert self._initialized, &quot;Thread.__init__() not called&quot;</pre>\n",
       "<pre style=\"background-color:hsl(120.0, 1.0%, 80%)\"\n",
       "                    title=\"Line 1208:   0%\">1208         return self._ident</pre>\n",
       "\n",
       "<p/><pre style=\"background-color:hsl(35.14718625761431, 100.0%, 80%)\"\n",
       "                    title=\"Line 1:  70%\">   1 def middle(x, y, z):  # type: ignore</pre>\n",
       "<pre style=\"background-color:hsl(35.14718625761431, 100.0%, 80%)\"\n",
       "                    title=\"Line 2:  70%\">   2     if y &lt; z:</pre>\n",
       "<pre style=\"background-color:hsl(14.34589124092514, 100.0%, 80%)\"\n",
       "                    title=\"Line 3:  88%\">   3         if x &lt; y:</pre>\n",
       "<pre style=\"background-color:hsl(120.0, 7.000000000000001%, 80%)\"\n",
       "                    title=\"Line 4:   0%\">   4             return y</pre>\n",
       "<pre style=\"background-color:hsl(11.357104748977767, 100.0%, 80%)\"\n",
       "                    title=\"Line 5:  90%\">   5         elif x &lt; z:</pre>\n",
       "<pre style=\"background-color:hsl(4.529946162074849, 100.0%, 80%)\"\n",
       "                    title=\"Line 6:  96%\">   6             return y</pre>\n",
       "<pre title=\"Line 7: not executed\">   7     else:\n",
       "</pre>\n",
       "<pre style=\"background-color:hsl(120.0, 71.0%, 80%)\"\n",
       "                    title=\"Line 8:   0%\">   8         if x &gt; y:</pre>\n",
       "<pre style=\"background-color:hsl(120.0, 20.0%, 80%)\"\n",
       "                    title=\"Line 9:   0%\">   9             return y</pre>\n",
       "<pre style=\"background-color:hsl(120.0, 51.0%, 80%)\"\n",
       "                    title=\"Line 10:   0%\">  10         elif x &gt; z:</pre>\n",
       "<pre style=\"background-color:hsl(120.0, 19.0%, 80%)\"\n",
       "                    title=\"Line 11:   0%\">  11             return x</pre>\n",
       "<pre style=\"background-color:hsl(120.0, 46.0%, 80%)\"\n",
       "                    title=\"Line 12:   0%\">  12     return z</pre>\n",
       "\n",
       "<p/><pre style=\"background-color:hsl(120.0, 1.0%, 80%)\"\n",
       "                    title=\"Line 1535:   0%\">1535 def enumerate():</pre>\n",
       "<pre title=\"Line 1536: not executed\">1536     &quot;&quot;&quot;Return a list of all Thread objects currently alive.\n",
       "</pre>\n",
       "<pre title=\"Line 1537: not executed\">1537 &nbsp;</pre>\n",
       "<pre title=\"Line 1538: not executed\">1538     The list includes daemonic threads, dummy thread objects created by\n",
       "</pre>\n",
       "<pre title=\"Line 1539: not executed\">1539     current_thread(), and the main thread. It excludes terminated threads and\n",
       "</pre>\n",
       "<pre title=\"Line 1540: not executed\">1540     threads that have not yet been started.\n",
       "</pre>\n",
       "<pre title=\"Line 1541: not executed\">1541 &nbsp;</pre>\n",
       "<pre title=\"Line 1542: not executed\">1542     &quot;&quot;&quot;\n",
       "</pre>\n",
       "<pre style=\"background-color:hsl(120.0, 1.0%, 80%)\"\n",
       "                    title=\"Line 1543:   0%\">1543     with _active_limbo_lock:</pre>\n",
       "<pre style=\"background-color:hsl(120.0, 1.0%, 80%)\"\n",
       "                    title=\"Line 1544:   0%\">1544         return list(_active.values()) + list(_limbo.values())</pre>\n"
      ],
      "text/markdown": [
       "|  | `x=7, y=5, z=4` | `x=6, y=6, z=2` | `x=7, y=6, z=4` | `x=0, y=7, z=7` | `x=3, y=9, z=7` | `x=2, y=3, z=8` | `x=2, y=6, z=3` | `x=2, y=8, z=4` | `x=8, y=7, z=5` | `x=0, y=0, z=6` | `x=5, y=2, z=5` | `x=9, y=6, z=9` | `x=8, y=5, z=5` | `x=1, y=7, z=0` | `x=0, y=4, z=4` | `x=8, y=7, z=5` | `x=7, y=1, z=5` | `x=3, y=5, z=3` | `x=6, y=3, z=2` | `x=3, y=9, z=8` | `x=1, y=3, z=8` | `x=5, y=9, z=1` | `x=5, y=5, z=7` | `x=9, y=0, z=3` | `x=5, y=6, z=3` | `x=7, y=9, z=8` | `x=2, y=2, z=3` | `x=1, y=8, z=1` | `x=3, y=3, z=3` | `x=7, y=3, z=6` | `x=3, y=7, z=6` | `x=2, y=3, z=1` | `x=8, y=0, z=6` | `x=5, y=4, z=0` | `x=5, y=9, z=2` | `x=6, y=7, z=1` | `x=1, y=1, z=7` | `x=1, y=6, z=8` | `x=0, y=9, z=1` | `x=5, y=9, z=7` | `x=1, y=5, z=6` | `x=1, y=6, z=1` | `x=7, y=8, z=4` | `x=2, y=8, z=4` | `self=<ipykernel.ipkernel.IPythonKernel object at 0x111b56870>, phase='start', info={'generation': 0, 'collected': 0, 'uncollectable': 0}` | `x=8, y=4, z=5` | `x=0, y=5, z=8` | `x=9, y=7, z=0` | `x=1, y=5, z=4` | `x=9, y=8, z=9` | `x=9, y=2, z=4` | `x=3, y=2, z=0` | `x=8, y=5, z=2` | `x=4, y=9, z=7` | `x=4, y=8, z=0` | `x=5, y=9, z=1` | `x=7, y=6, z=4` | `x=8, y=9, z=2` | `x=9, y=1, z=4` | `x=9, y=7, z=2` | `x=1, y=9, z=5` | `x=1, y=9, z=1` | `x=7, y=8, z=0` | `x=4, y=8, z=6` | `x=9, y=2, z=1` | `x=9, y=4, z=5` | `x=0, y=4, z=2` | `x=6, y=8, z=4` | `x=0, y=0, z=1` | `x=6, y=4, z=3` | `x=8, y=0, z=3` | `x=9, y=5, z=1` | `x=7, y=6, z=6` | `x=4, y=6, z=0` | `x=1, y=1, z=0` | `x=8, y=4, z=1` | `x=1, y=6, z=2` | `x=4, y=5, z=1` | `x=1, y=1, z=6` | `x=1, y=2, z=1` | `x=2, y=4, z=2` | `x=7, y=3, z=3` | `x=2, y=7, z=4` | `x=0, y=8, z=0` | `x=4, y=6, z=4` | `x=1, y=5, z=2` | `x=0, y=8, z=2` | `x=3, y=5, z=6` | `x=7, y=2, z=4` | `x=5, y=4, z=5` | `x=2, y=3, z=4` | `x=2, y=2, z=4` | `x=3, y=6, z=2` | `x=9, y=4, z=0` | `x=7, y=7, z=0` | `x=4, y=9, z=8` | `x=3, y=8, z=4` | `x=3, y=3, z=5` | `x=3, y=2, z=2` | `x=8, y=8, z=1` | `x=2, y=1, z=5` | `x=5, y=2, z=9` | `x=2, y=1, z=3` | `x=3, y=0, z=7` | `x=4, y=1, z=6` | `x=2, y=0, z=9` | `x=4, y=3, z=7` | `x=5, y=3, z=8` | `x=6, y=0, z=9` | `x=2, y=0, z=4` | `x=4, y=0, z=5` | `x=6, y=5, z=9` | `x=5, y=3, z=9` | `x=7, y=0, z=9` | `x=5, y=3, z=9` | `x=2, y=1, z=6` | `x=3, y=2, z=4` | `x=2, y=1, z=5` | `x=3, y=2, z=6` | `x=6, y=4, z=7` | `x=5, y=2, z=6` | `x=4, y=2, z=5` | `x=6, y=2, z=9` | `x=4, y=2, z=8` | `x=2, y=0, z=3` | `x=2, y=1, z=5` | `x=2, y=1, z=9` | `x=7, y=6, z=9` | `x=6, y=0, z=9` | `x=7, y=6, z=9` | `x=8, y=6, z=9` | `x=7, y=6, z=9` | `x=1, y=0, z=2` | `x=1, y=0, z=3` | `x=3, y=2, z=7` | `x=6, y=5, z=9` | `x=1, y=0, z=3` | `x=6, y=4, z=7` | `x=8, y=7, z=9` | `x=2, y=0, z=4` | `x=5, y=1, z=7` | `x=6, y=4, z=9` | `x=8, y=0, z=9` | `x=2, y=1, z=4` | `x=4, y=1, z=8` | `x=3, y=0, z=4` | `x=3, y=1, z=5` | `x=7, y=5, z=8` | `x=6, y=2, z=9` | `x=2, y=0, z=4` | `x=7, y=6, z=9` | `x=2, y=1, z=6` | `x=3, y=0, z=8` | `x=5, y=3, z=8` | `x=5, y=0, z=9` | `x=4, y=0, z=9` | `x=7, y=5, z=8` | `x=4, y=2, z=7` | `x=3, y=1, z=6` | `x=2, y=0, z=4` | `x=4, y=0, z=8` | `x=2, y=1, z=8` | `x=5, y=3, z=9` | `x=4, y=3, z=5` | `x=6, y=4, z=9` | `x=7, y=6, z=8` | `x=3, y=1, z=9` | `x=4, y=2, z=7` | `x=1, y=0, z=6` | `x=1, y=0, z=5` | `x=7, y=0, z=9` | `x=4, y=0, z=7` | `x=3, y=2, z=9` | `x=4, y=1, z=6` | `x=5, y=2, z=9` | `x=8, y=0, z=9` | `x=2, y=1, z=9` | `x=4, y=3, z=6` | `x=6, y=0, z=9` | `x=3, y=1, z=4` | `x=7, y=6, z=8` | `x=6, y=1, z=7` | `x=6, y=2, z=7` | `x=3, y=0, z=9` | `x=5, y=4, z=9` | `x=8, y=6, z=9` | `x=5, y=3, z=6` | `x=2, y=1, z=7` | `x=3, y=0, z=5` | `x=6, y=1, z=8` | `x=2, y=0, z=5` | `x=2, y=0, z=9` | `x=6, y=5, z=8` | `x=2, y=0, z=4` | `x=5, y=0, z=9` | `x=1, y=0, z=9` | `x=3, y=1, z=6` | `x=3, y=1, z=5` | `x=5, y=1, z=9` | `x=6, y=2, z=7` | \n",
       "| ------------------------------- | ---- | ---- | ---- | ---- | ---- | ---- | ---- | ---- | ---- | ---- | ---- | ---- | ---- | ---- | ---- | ---- | ---- | ---- | ---- | ---- | ---- | ---- | ---- | ---- | ---- | ---- | ---- | ---- | ---- | ---- | ---- | ---- | ---- | ---- | ---- | ---- | ---- | ---- | ---- | ---- | ---- | ---- | ---- | ---- | ---- | ---- | ---- | ---- | ---- | ---- | ---- | ---- | ---- | ---- | ---- | ---- | ---- | ---- | ---- | ---- | ---- | ---- | ---- | ---- | ---- | ---- | ---- | ---- | ---- | ---- | ---- | ---- | ---- | ---- | ---- | ---- | ---- | ---- | ---- | ---- | ---- | ---- | ---- | ---- | ---- | ---- | ---- | ---- | ---- | ---- | ---- | ---- | ---- | ---- | ---- | ---- | ---- | ---- | ---- | ---- | ---- | ---- | ---- | ---- | ---- | ---- | ---- | ---- | ---- | ---- | ---- | ---- | ---- | ---- | ---- | ---- | ---- | ---- | ---- | ---- | ---- | ---- | ---- | ---- | ---- | ---- | ---- | ---- | ---- | ---- | ---- | ---- | ---- | ---- | ---- | ---- | ---- | ---- | ---- | ---- | ---- | ---- | ---- | ---- | ---- | ---- | ---- | ---- | ---- | ---- | ---- | ---- | ---- | ---- | ---- | ---- | ---- | ---- | ---- | ---- | ---- | ---- | ---- | ---- | ---- | ---- | ---- | ---- | ---- | ---- | ---- | ---- | ---- | ---- | ---- | ---- | ---- | ---- | ---- | ---- | ---- | ---- | ---- | ---- | ---- | ---- | ---- | ---- | ---- | ---- | ---- | ---- | ---- | ---- | ---- | ---- | ---- | ---- | ---- | ---- | \n",
       "| <samp style=\"background-color: hsl(120.0, 1.0%, 80%)\" title=\"  0%\">_clean_thread_parent_frames:775</samp> |    - |    - |    - |    - |    - |    - |    - |    - |    - |    - |    - |    - |    - |    - |    - |    - |    - |    - |    - |    - |    - |    - |    - |    - |    - |    - |    - |    - |    - |    - |    - |    - |    - |    - |    - |    - |    - |    - |    - |    - |    - |    - |    - |    - |    X |    - |    - |    - |    - |    - |    - |    - |    - |    - |    - |    - |    - |    - |    - |    - |    - |    - |    - |    - |    - |    - |    - |    - |    - |    - |    - |    - |    - |    - |    - |    - |    - |    - |    - |    - |    - |    - |    - |    - |    - |    - |    - |    - |    - |    - |    - |    - |    - |    - |    - |    - |    - |    - |    - |    - |    - |    - |    - |    - |    - |    - |    - |    - |    - |    - |    - |    - |    - |    - |    - |    - |    - |    - |    - |    - |    - |    - |    - |    - |    - |    - |    - |    - |    - |    - |    - |    - |    - |    - |    - |    - |    - |    - |    - |    - |    - |    - |    - |    - |    - |    - |    - |    - |    - |    - |    - |    - |    - |    - |    - |    - |    - |    - |    - |    - |    - |    - |    - |    - |    - |    - |    - |    - |    - |    - |    - |    - |    - |    - |    - |    - |    - |    - |    - |    - |    - |    - |    - |    - |    - |    - |    - |    - |    - |    - |    - |    - |    - |    - |    - |    - |    - |    - |    - |    - | \n",
       "| <samp style=\"background-color: hsl(120.0, 1.0%, 80%)\" title=\"  0%\">_clean_thread_parent_frames:788</samp> |    - |    - |    - |    - |    - |    - |    - |    - |    - |    - |    - |    - |    - |    - |    - |    - |    - |    - |    - |    - |    - |    - |    - |    - |    - |    - |    - |    - |    - |    - |    - |    - |    - |    - |    - |    - |    - |    - |    - |    - |    - |    - |    - |    - |    X |    - |    - |    - |    - |    - |    - |    - |    - |    - |    - |    - |    - |    - |    - |    - |    - |    - |    - |    - |    - |    - |    - |    - |    - |    - |    - |    - |    - |    - |    - |    - |    - |    - |    - |    - |    - |    - |    - |    - |    - |    - |    - |    - |    - |    - |    - |    - |    - |    - |    - |    - |    - |    - |    - |    - |    - |    - |    - |    - |    - |    - |    - |    - |    - |    - |    - |    - |    - |    - |    - |    - |    - |    - |    - |    - |    - |    - |    - |    - |    - |    - |    - |    - |    - |    - |    - |    - |    - |    - |    - |    - |    - |    - |    - |    - |    - |    - |    - |    - |    - |    - |    - |    - |    - |    - |    - |    - |    - |    - |    - |    - |    - |    - |    - |    - |    - |    - |    - |    - |    - |    - |    - |    - |    - |    - |    - |    - |    - |    - |    - |    - |    - |    - |    - |    - |    - |    - |    - |    - |    - |    - |    - |    - |    - |    - |    - |    - |    - |    - |    - |    - |    - |    - |    - |    - | \n",
       "| <samp style=\"background-color: hsl(120.0, 1.0%, 80%)\" title=\"  0%\">_clean_thread_parent_frames:789</samp> |    - |    - |    - |    - |    - |    - |    - |    - |    - |    - |    - |    - |    - |    - |    - |    - |    - |    - |    - |    - |    - |    - |    - |    - |    - |    - |    - |    - |    - |    - |    - |    - |    - |    - |    - |    - |    - |    - |    - |    - |    - |    - |    - |    - |    X |    - |    - |    - |    - |    - |    - |    - |    - |    - |    - |    - |    - |    - |    - |    - |    - |    - |    - |    - |    - |    - |    - |    - |    - |    - |    - |    - |    - |    - |    - |    - |    - |    - |    - |    - |    - |    - |    - |    - |    - |    - |    - |    - |    - |    - |    - |    - |    - |    - |    - |    - |    - |    - |    - |    - |    - |    - |    - |    - |    - |    - |    - |    - |    - |    - |    - |    - |    - |    - |    - |    - |    - |    - |    - |    - |    - |    - |    - |    - |    - |    - |    - |    - |    - |    - |    - |    - |    - |    - |    - |    - |    - |    - |    - |    - |    - |    - |    - |    - |    - |    - |    - |    - |    - |    - |    - |    - |    - |    - |    - |    - |    - |    - |    - |    - |    - |    - |    - |    - |    - |    - |    - |    - |    - |    - |    - |    - |    - |    - |    - |    - |    - |    - |    - |    - |    - |    - |    - |    - |    - |    - |    - |    - |    - |    - |    - |    - |    - |    - |    - |    - |    - |    - |    - |    - | \n",
       "| <samp style=\"background-color: hsl(120.0, 1.0%, 80%)\" title=\"  0%\">_clean_thread_parent_frames:790</samp> |    - |    - |    - |    - |    - |    - |    - |    - |    - |    - |    - |    - |    - |    - |    - |    - |    - |    - |    - |    - |    - |    - |    - |    - |    - |    - |    - |    - |    - |    - |    - |    - |    - |    - |    - |    - |    - |    - |    - |    - |    - |    - |    - |    - |    X |    - |    - |    - |    - |    - |    - |    - |    - |    - |    - |    - |    - |    - |    - |    - |    - |    - |    - |    - |    - |    - |    - |    - |    - |    - |    - |    - |    - |    - |    - |    - |    - |    - |    - |    - |    - |    - |    - |    - |    - |    - |    - |    - |    - |    - |    - |    - |    - |    - |    - |    - |    - |    - |    - |    - |    - |    - |    - |    - |    - |    - |    - |    - |    - |    - |    - |    - |    - |    - |    - |    - |    - |    - |    - |    - |    - |    - |    - |    - |    - |    - |    - |    - |    - |    - |    - |    - |    - |    - |    - |    - |    - |    - |    - |    - |    - |    - |    - |    - |    - |    - |    - |    - |    - |    - |    - |    - |    - |    - |    - |    - |    - |    - |    - |    - |    - |    - |    - |    - |    - |    - |    - |    - |    - |    - |    - |    - |    - |    - |    - |    - |    - |    - |    - |    - |    - |    - |    - |    - |    - |    - |    - |    - |    - |    - |    - |    - |    - |    - |    - |    - |    - |    - |    - |    - | \n",
       "| <samp style=\"background-color: hsl(120.0, 1.0%, 80%)\" title=\"  0%\">_clean_thread_parent_frames:791</samp> |    - |    - |    - |    - |    - |    - |    - |    - |    - |    - |    - |    - |    - |    - |    - |    - |    - |    - |    - |    - |    - |    - |    - |    - |    - |    - |    - |    - |    - |    - |    - |    - |    - |    - |    - |    - |    - |    - |    - |    - |    - |    - |    - |    - |    X |    - |    - |    - |    - |    - |    - |    - |    - |    - |    - |    - |    - |    - |    - |    - |    - |    - |    - |    - |    - |    - |    - |    - |    - |    - |    - |    - |    - |    - |    - |    - |    - |    - |    - |    - |    - |    - |    - |    - |    - |    - |    - |    - |    - |    - |    - |    - |    - |    - |    - |    - |    - |    - |    - |    - |    - |    - |    - |    - |    - |    - |    - |    - |    - |    - |    - |    - |    - |    - |    - |    - |    - |    - |    - |    - |    - |    - |    - |    - |    - |    - |    - |    - |    - |    - |    - |    - |    - |    - |    - |    - |    - |    - |    - |    - |    - |    - |    - |    - |    - |    - |    - |    - |    - |    - |    - |    - |    - |    - |    - |    - |    - |    - |    - |    - |    - |    - |    - |    - |    - |    - |    - |    - |    - |    - |    - |    - |    - |    - |    - |    - |    - |    - |    - |    - |    - |    - |    - |    - |    - |    - |    - |    - |    - |    - |    - |    - |    - |    - |    - |    - |    - |    - |    - |    - | \n",
       "| <samp style=\"background-color: hsl(120.0, 1.0%, 80%)\" title=\"  0%\">_clean_thread_parent_frames:792</samp> |    - |    - |    - |    - |    - |    - |    - |    - |    - |    - |    - |    - |    - |    - |    - |    - |    - |    - |    - |    - |    - |    - |    - |    - |    - |    - |    - |    - |    - |    - |    - |    - |    - |    - |    - |    - |    - |    - |    - |    - |    - |    - |    - |    - |    X |    - |    - |    - |    - |    - |    - |    - |    - |    - |    - |    - |    - |    - |    - |    - |    - |    - |    - |    - |    - |    - |    - |    - |    - |    - |    - |    - |    - |    - |    - |    - |    - |    - |    - |    - |    - |    - |    - |    - |    - |    - |    - |    - |    - |    - |    - |    - |    - |    - |    - |    - |    - |    - |    - |    - |    - |    - |    - |    - |    - |    - |    - |    - |    - |    - |    - |    - |    - |    - |    - |    - |    - |    - |    - |    - |    - |    - |    - |    - |    - |    - |    - |    - |    - |    - |    - |    - |    - |    - |    - |    - |    - |    - |    - |    - |    - |    - |    - |    - |    - |    - |    - |    - |    - |    - |    - |    - |    - |    - |    - |    - |    - |    - |    - |    - |    - |    - |    - |    - |    - |    - |    - |    - |    - |    - |    - |    - |    - |    - |    - |    - |    - |    - |    - |    - |    - |    - |    - |    - |    - |    - |    - |    - |    - |    - |    - |    - |    - |    - |    - |    - |    - |    - |    - |    - | \n",
       "| <samp style=\"background-color: hsl(120.0, 1.0%, 80%)\" title=\"  0%\">_clean_thread_parent_frames:793</samp> |    - |    - |    - |    - |    - |    - |    - |    - |    - |    - |    - |    - |    - |    - |    - |    - |    - |    - |    - |    - |    - |    - |    - |    - |    - |    - |    - |    - |    - |    - |    - |    - |    - |    - |    - |    - |    - |    - |    - |    - |    - |    - |    - |    - |    X |    - |    - |    - |    - |    - |    - |    - |    - |    - |    - |    - |    - |    - |    - |    - |    - |    - |    - |    - |    - |    - |    - |    - |    - |    - |    - |    - |    - |    - |    - |    - |    - |    - |    - |    - |    - |    - |    - |    - |    - |    - |    - |    - |    - |    - |    - |    - |    - |    - |    - |    - |    - |    - |    - |    - |    - |    - |    - |    - |    - |    - |    - |    - |    - |    - |    - |    - |    - |    - |    - |    - |    - |    - |    - |    - |    - |    - |    - |    - |    - |    - |    - |    - |    - |    - |    - |    - |    - |    - |    - |    - |    - |    - |    - |    - |    - |    - |    - |    - |    - |    - |    - |    - |    - |    - |    - |    - |    - |    - |    - |    - |    - |    - |    - |    - |    - |    - |    - |    - |    - |    - |    - |    - |    - |    - |    - |    - |    - |    - |    - |    - |    - |    - |    - |    - |    - |    - |    - |    - |    - |    - |    - |    - |    - |    - |    - |    - |    - |    - |    - |    - |    - |    - |    - |    - | \n",
       "| <samp style=\"background-color: hsl(120.0, 1.0%, 80%)\" title=\"  0%\">_clean_thread_parent_frames:794</samp> |    - |    - |    - |    - |    - |    - |    - |    - |    - |    - |    - |    - |    - |    - |    - |    - |    - |    - |    - |    - |    - |    - |    - |    - |    - |    - |    - |    - |    - |    - |    - |    - |    - |    - |    - |    - |    - |    - |    - |    - |    - |    - |    - |    - |    X |    - |    - |    - |    - |    - |    - |    - |    - |    - |    - |    - |    - |    - |    - |    - |    - |    - |    - |    - |    - |    - |    - |    - |    - |    - |    - |    - |    - |    - |    - |    - |    - |    - |    - |    - |    - |    - |    - |    - |    - |    - |    - |    - |    - |    - |    - |    - |    - |    - |    - |    - |    - |    - |    - |    - |    - |    - |    - |    - |    - |    - |    - |    - |    - |    - |    - |    - |    - |    - |    - |    - |    - |    - |    - |    - |    - |    - |    - |    - |    - |    - |    - |    - |    - |    - |    - |    - |    - |    - |    - |    - |    - |    - |    - |    - |    - |    - |    - |    - |    - |    - |    - |    - |    - |    - |    - |    - |    - |    - |    - |    - |    - |    - |    - |    - |    - |    - |    - |    - |    - |    - |    - |    - |    - |    - |    - |    - |    - |    - |    - |    - |    - |    - |    - |    - |    - |    - |    - |    - |    - |    - |    - |    - |    - |    - |    - |    - |    - |    - |    - |    - |    - |    - |    - |    - | \n",
       "| <samp style=\"background-color: hsl(120.0, 1.0%, 80%)\" title=\"  0%\">_clean_thread_parent_frames:800</samp> |    - |    - |    - |    - |    - |    - |    - |    - |    - |    - |    - |    - |    - |    - |    - |    - |    - |    - |    - |    - |    - |    - |    - |    - |    - |    - |    - |    - |    - |    - |    - |    - |    - |    - |    - |    - |    - |    - |    - |    - |    - |    - |    - |    - |    X |    - |    - |    - |    - |    - |    - |    - |    - |    - |    - |    - |    - |    - |    - |    - |    - |    - |    - |    - |    - |    - |    - |    - |    - |    - |    - |    - |    - |    - |    - |    - |    - |    - |    - |    - |    - |    - |    - |    - |    - |    - |    - |    - |    - |    - |    - |    - |    - |    - |    - |    - |    - |    - |    - |    - |    - |    - |    - |    - |    - |    - |    - |    - |    - |    - |    - |    - |    - |    - |    - |    - |    - |    - |    - |    - |    - |    - |    - |    - |    - |    - |    - |    - |    - |    - |    - |    - |    - |    - |    - |    - |    - |    - |    - |    - |    - |    - |    - |    - |    - |    - |    - |    - |    - |    - |    - |    - |    - |    - |    - |    - |    - |    - |    - |    - |    - |    - |    - |    - |    - |    - |    - |    - |    - |    - |    - |    - |    - |    - |    - |    - |    - |    - |    - |    - |    - |    - |    - |    - |    - |    - |    - |    - |    - |    - |    - |    - |    - |    - |    - |    - |    - |    - |    - |    - | \n",
       "| <samp style=\"background-color: hsl(120.0, 1.0%, 80%)\" title=\"  0%\">_clean_thread_parent_frames:801</samp> |    - |    - |    - |    - |    - |    - |    - |    - |    - |    - |    - |    - |    - |    - |    - |    - |    - |    - |    - |    - |    - |    - |    - |    - |    - |    - |    - |    - |    - |    - |    - |    - |    - |    - |    - |    - |    - |    - |    - |    - |    - |    - |    - |    - |    X |    - |    - |    - |    - |    - |    - |    - |    - |    - |    - |    - |    - |    - |    - |    - |    - |    - |    - |    - |    - |    - |    - |    - |    - |    - |    - |    - |    - |    - |    - |    - |    - |    - |    - |    - |    - |    - |    - |    - |    - |    - |    - |    - |    - |    - |    - |    - |    - |    - |    - |    - |    - |    - |    - |    - |    - |    - |    - |    - |    - |    - |    - |    - |    - |    - |    - |    - |    - |    - |    - |    - |    - |    - |    - |    - |    - |    - |    - |    - |    - |    - |    - |    - |    - |    - |    - |    - |    - |    - |    - |    - |    - |    - |    - |    - |    - |    - |    - |    - |    - |    - |    - |    - |    - |    - |    - |    - |    - |    - |    - |    - |    - |    - |    - |    - |    - |    - |    - |    - |    - |    - |    - |    - |    - |    - |    - |    - |    - |    - |    - |    - |    - |    - |    - |    - |    - |    - |    - |    - |    - |    - |    - |    - |    - |    - |    - |    - |    - |    - |    - |    - |    - |    - |    - |    - | \n",
       "| <samp style=\"background-color: hsl(120.0, 1.0%, 80%)\" title=\"  0%\">                 enumerate:1535</samp> |    - |    - |    - |    - |    - |    - |    - |    - |    - |    - |    - |    - |    - |    - |    - |    - |    - |    - |    - |    - |    - |    - |    - |    - |    - |    - |    - |    - |    - |    - |    - |    - |    - |    - |    - |    - |    - |    - |    - |    - |    - |    - |    - |    - |    X |    - |    - |    - |    - |    - |    - |    - |    - |    - |    - |    - |    - |    - |    - |    - |    - |    - |    - |    - |    - |    - |    - |    - |    - |    - |    - |    - |    - |    - |    - |    - |    - |    - |    - |    - |    - |    - |    - |    - |    - |    - |    - |    - |    - |    - |    - |    - |    - |    - |    - |    - |    - |    - |    - |    - |    - |    - |    - |    - |    - |    - |    - |    - |    - |    - |    - |    - |    - |    - |    - |    - |    - |    - |    - |    - |    - |    - |    - |    - |    - |    - |    - |    - |    - |    - |    - |    - |    - |    - |    - |    - |    - |    - |    - |    - |    - |    - |    - |    - |    - |    - |    - |    - |    - |    - |    - |    - |    - |    - |    - |    - |    - |    - |    - |    - |    - |    - |    - |    - |    - |    - |    - |    - |    - |    - |    - |    - |    - |    - |    - |    - |    - |    - |    - |    - |    - |    - |    - |    - |    - |    - |    - |    - |    - |    - |    - |    - |    - |    - |    - |    - |    - |    - |    - |    - | \n",
       "| <samp style=\"background-color: hsl(120.0, 1.0%, 80%)\" title=\"  0%\">                 enumerate:1543</samp> |    - |    - |    - |    - |    - |    - |    - |    - |    - |    - |    - |    - |    - |    - |    - |    - |    - |    - |    - |    - |    - |    - |    - |    - |    - |    - |    - |    - |    - |    - |    - |    - |    - |    - |    - |    - |    - |    - |    - |    - |    - |    - |    - |    - |    X |    - |    - |    - |    - |    - |    - |    - |    - |    - |    - |    - |    - |    - |    - |    - |    - |    - |    - |    - |    - |    - |    - |    - |    - |    - |    - |    - |    - |    - |    - |    - |    - |    - |    - |    - |    - |    - |    - |    - |    - |    - |    - |    - |    - |    - |    - |    - |    - |    - |    - |    - |    - |    - |    - |    - |    - |    - |    - |    - |    - |    - |    - |    - |    - |    - |    - |    - |    - |    - |    - |    - |    - |    - |    - |    - |    - |    - |    - |    - |    - |    - |    - |    - |    - |    - |    - |    - |    - |    - |    - |    - |    - |    - |    - |    - |    - |    - |    - |    - |    - |    - |    - |    - |    - |    - |    - |    - |    - |    - |    - |    - |    - |    - |    - |    - |    - |    - |    - |    - |    - |    - |    - |    - |    - |    - |    - |    - |    - |    - |    - |    - |    - |    - |    - |    - |    - |    - |    - |    - |    - |    - |    - |    - |    - |    - |    - |    - |    - |    - |    - |    - |    - |    - |    - |    - | \n",
       "| <samp style=\"background-color: hsl(120.0, 1.0%, 80%)\" title=\"  0%\">                 enumerate:1544</samp> |    - |    - |    - |    - |    - |    - |    - |    - |    - |    - |    - |    - |    - |    - |    - |    - |    - |    - |    - |    - |    - |    - |    - |    - |    - |    - |    - |    - |    - |    - |    - |    - |    - |    - |    - |    - |    - |    - |    - |    - |    - |    - |    - |    - |    X |    - |    - |    - |    - |    - |    - |    - |    - |    - |    - |    - |    - |    - |    - |    - |    - |    - |    - |    - |    - |    - |    - |    - |    - |    - |    - |    - |    - |    - |    - |    - |    - |    - |    - |    - |    - |    - |    - |    - |    - |    - |    - |    - |    - |    - |    - |    - |    - |    - |    - |    - |    - |    - |    - |    - |    - |    - |    - |    - |    - |    - |    - |    - |    - |    - |    - |    - |    - |    - |    - |    - |    - |    - |    - |    - |    - |    - |    - |    - |    - |    - |    - |    - |    - |    - |    - |    - |    - |    - |    - |    - |    - |    - |    - |    - |    - |    - |    - |    - |    - |    - |    - |    - |    - |    - |    - |    - |    - |    - |    - |    - |    - |    - |    - |    - |    - |    - |    - |    - |    - |    - |    - |    - |    - |    - |    - |    - |    - |    - |    - |    - |    - |    - |    - |    - |    - |    - |    - |    - |    - |    - |    - |    - |    - |    - |    - |    - |    - |    - |    - |    - |    - |    - |    - |    - | \n",
       "| <samp style=\"background-color: hsl(120.0, 1.0%, 80%)\" title=\"  0%\">                     ident:1198</samp> |    - |    - |    - |    - |    - |    - |    - |    - |    - |    - |    - |    - |    - |    - |    - |    - |    - |    - |    - |    - |    - |    - |    - |    - |    - |    - |    - |    - |    - |    - |    - |    - |    - |    - |    - |    - |    - |    - |    - |    - |    - |    - |    - |    - |    X |    - |    - |    - |    - |    - |    - |    - |    - |    - |    - |    - |    - |    - |    - |    - |    - |    - |    - |    - |    - |    - |    - |    - |    - |    - |    - |    - |    - |    - |    - |    - |    - |    - |    - |    - |    - |    - |    - |    - |    - |    - |    - |    - |    - |    - |    - |    - |    - |    - |    - |    - |    - |    - |    - |    - |    - |    - |    - |    - |    - |    - |    - |    - |    - |    - |    - |    - |    - |    - |    - |    - |    - |    - |    - |    - |    - |    - |    - |    - |    - |    - |    - |    - |    - |    - |    - |    - |    - |    - |    - |    - |    - |    - |    - |    - |    - |    - |    - |    - |    - |    - |    - |    - |    - |    - |    - |    - |    - |    - |    - |    - |    - |    - |    - |    - |    - |    - |    - |    - |    - |    - |    - |    - |    - |    - |    - |    - |    - |    - |    - |    - |    - |    - |    - |    - |    - |    - |    - |    - |    - |    - |    - |    - |    - |    - |    - |    - |    - |    - |    - |    - |    - |    - |    - |    - | \n",
       "| <samp style=\"background-color: hsl(120.0, 1.0%, 80%)\" title=\"  0%\">                     ident:1207</samp> |    - |    - |    - |    - |    - |    - |    - |    - |    - |    - |    - |    - |    - |    - |    - |    - |    - |    - |    - |    - |    - |    - |    - |    - |    - |    - |    - |    - |    - |    - |    - |    - |    - |    - |    - |    - |    - |    - |    - |    - |    - |    - |    - |    - |    X |    - |    - |    - |    - |    - |    - |    - |    - |    - |    - |    - |    - |    - |    - |    - |    - |    - |    - |    - |    - |    - |    - |    - |    - |    - |    - |    - |    - |    - |    - |    - |    - |    - |    - |    - |    - |    - |    - |    - |    - |    - |    - |    - |    - |    - |    - |    - |    - |    - |    - |    - |    - |    - |    - |    - |    - |    - |    - |    - |    - |    - |    - |    - |    - |    - |    - |    - |    - |    - |    - |    - |    - |    - |    - |    - |    - |    - |    - |    - |    - |    - |    - |    - |    - |    - |    - |    - |    - |    - |    - |    - |    - |    - |    - |    - |    - |    - |    - |    - |    - |    - |    - |    - |    - |    - |    - |    - |    - |    - |    - |    - |    - |    - |    - |    - |    - |    - |    - |    - |    - |    - |    - |    - |    - |    - |    - |    - |    - |    - |    - |    - |    - |    - |    - |    - |    - |    - |    - |    - |    - |    - |    - |    - |    - |    - |    - |    - |    - |    - |    - |    - |    - |    - |    - |    - | \n",
       "| <samp style=\"background-color: hsl(120.0, 1.0%, 80%)\" title=\"  0%\">                     ident:1208</samp> |    - |    - |    - |    - |    - |    - |    - |    - |    - |    - |    - |    - |    - |    - |    - |    - |    - |    - |    - |    - |    - |    - |    - |    - |    - |    - |    - |    - |    - |    - |    - |    - |    - |    - |    - |    - |    - |    - |    - |    - |    - |    - |    - |    - |    X |    - |    - |    - |    - |    - |    - |    - |    - |    - |    - |    - |    - |    - |    - |    - |    - |    - |    - |    - |    - |    - |    - |    - |    - |    - |    - |    - |    - |    - |    - |    - |    - |    - |    - |    - |    - |    - |    - |    - |    - |    - |    - |    - |    - |    - |    - |    - |    - |    - |    - |    - |    - |    - |    - |    - |    - |    - |    - |    - |    - |    - |    - |    - |    - |    - |    - |    - |    - |    - |    - |    - |    - |    - |    - |    - |    - |    - |    - |    - |    - |    - |    - |    - |    - |    - |    - |    - |    - |    - |    - |    - |    - |    - |    - |    - |    - |    - |    - |    - |    - |    - |    - |    - |    - |    - |    - |    - |    - |    - |    - |    - |    - |    - |    - |    - |    - |    - |    - |    - |    - |    - |    - |    - |    - |    - |    - |    - |    - |    - |    - |    - |    - |    - |    - |    - |    - |    - |    - |    - |    - |    - |    - |    - |    - |    - |    - |    - |    - |    - |    - |    - |    - |    - |    - |    - | \n",
       "| <samp style=\"background-color: hsl(35.14718625761431, 100.0%, 80%)\" title=\" 70%\">                       middle:1</samp> |    X |    X |    X |    X |    X |    X |    X |    X |    X |    X |    X |    X |    X |    X |    X |    X |    X |    X |    X |    X |    X |    X |    X |    X |    X |    X |    X |    X |    X |    X |    X |    X |    X |    X |    X |    X |    X |    X |    X |    X |    X |    X |    X |    X |    X |    X |    X |    X |    X |    X |    X |    X |    X |    X |    X |    X |    X |    X |    X |    X |    X |    X |    X |    X |    X |    X |    X |    X |    X |    X |    X |    X |    X |    X |    X |    X |    X |    X |    X |    X |    X |    X |    X |    X |    X |    X |    X |    X |    X |    X |    X |    X |    X |    X |    X |    X |    X |    X |    X |    X |    X |    X |    X |    X |    X |    X |    X |    X |    X |    X |    X |    X |    X |    X |    X |    X |    X |    X |    X |    X |    X |    X |    X |    X |    X |    X |    X |    X |    X |    X |    X |    X |    X |    X |    X |    X |    X |    X |    X |    X |    X |    X |    X |    X |    X |    X |    X |    X |    X |    X |    X |    X |    X |    X |    X |    X |    X |    X |    X |    X |    X |    X |    X |    X |    X |    X |    X |    X |    X |    X |    X |    X |    X |    X |    X |    X |    X |    X |    X |    X |    X |    X |    X |    X |    X |    X |    X |    X |    X |    X |    X |    X |    X |    X |    X |    X |    X |    X |    X |    X | \n",
       "| <samp style=\"background-color: hsl(35.14718625761431, 100.0%, 80%)\" title=\" 70%\">                       middle:2</samp> |    X |    X |    X |    X |    X |    X |    X |    X |    X |    X |    X |    X |    X |    X |    X |    X |    X |    X |    X |    X |    X |    X |    X |    X |    X |    X |    X |    X |    X |    X |    X |    X |    X |    X |    X |    X |    X |    X |    X |    X |    X |    X |    X |    X |    X |    X |    X |    X |    X |    X |    X |    X |    X |    X |    X |    X |    X |    X |    X |    X |    X |    X |    X |    X |    X |    X |    X |    X |    X |    X |    X |    X |    X |    X |    X |    X |    X |    X |    X |    X |    X |    X |    X |    X |    X |    X |    X |    X |    X |    X |    X |    X |    X |    X |    X |    X |    X |    X |    X |    X |    X |    X |    X |    X |    X |    X |    X |    X |    X |    X |    X |    X |    X |    X |    X |    X |    X |    X |    X |    X |    X |    X |    X |    X |    X |    X |    X |    X |    X |    X |    X |    X |    X |    X |    X |    X |    X |    X |    X |    X |    X |    X |    X |    X |    X |    X |    X |    X |    X |    X |    X |    X |    X |    X |    X |    X |    X |    X |    X |    X |    X |    X |    X |    X |    X |    X |    X |    X |    X |    X |    X |    X |    X |    X |    X |    X |    X |    X |    X |    X |    X |    X |    X |    X |    X |    X |    X |    X |    X |    X |    X |    X |    X |    X |    X |    X |    X |    X |    X |    X | \n",
       "| <samp style=\"background-color: hsl(14.34589124092514, 100.0%, 80%)\" title=\" 88%\">                       middle:3</samp> |    - |    - |    - |    - |    - |    X |    - |    - |    - |    X |    X |    X |    - |    - |    - |    - |    X |    - |    - |    - |    X |    - |    X |    X |    - |    - |    X |    - |    - |    X |    - |    - |    X |    - |    - |    - |    X |    X |    - |    - |    X |    - |    - |    - |    - |    X |    X |    - |    - |    X |    X |    - |    - |    - |    - |    - |    - |    - |    X |    - |    - |    - |    - |    - |    - |    X |    - |    - |    X |    - |    X |    - |    - |    - |    - |    - |    - |    - |    X |    - |    - |    - |    - |    - |    - |    - |    - |    X |    X |    X |    X |    X |    - |    - |    - |    - |    - |    X |    - |    - |    X |    X |    X |    X |    X |    X |    X |    X |    X |    X |    X |    X |    X |    X |    X |    X |    X |    X |    X |    X |    X |    X |    X |    X |    X |    X |    X |    X |    X |    X |    X |    X |    X |    X |    X |    X |    X |    X |    X |    X |    X |    X |    X |    X |    X |    X |    X |    X |    X |    X |    X |    X |    X |    X |    X |    X |    X |    X |    X |    X |    X |    X |    X |    X |    X |    X |    X |    X |    X |    X |    X |    X |    X |    X |    X |    X |    X |    X |    X |    X |    X |    X |    X |    X |    X |    X |    X |    X |    X |    X |    X |    X |    X |    X |    X |    X |    X |    X |    X |    X | \n",
       "| <samp style=\"background-color: hsl(120.0, 7.000000000000001%, 80%)\" title=\"  0%\">                       middle:4</samp> |    - |    - |    - |    - |    - |    X |    - |    - |    - |    - |    - |    - |    - |    - |    - |    - |    - |    - |    - |    - |    X |    - |    - |    - |    - |    - |    - |    - |    - |    - |    - |    - |    - |    - |    - |    - |    - |    X |    - |    - |    X |    - |    - |    - |    - |    - |    X |    - |    - |    - |    - |    - |    - |    - |    - |    - |    - |    - |    - |    - |    - |    - |    - |    - |    - |    - |    - |    - |    - |    - |    - |    - |    - |    - |    - |    - |    - |    - |    - |    - |    - |    - |    - |    - |    - |    - |    - |    X |    - |    - |    X |    - |    - |    - |    - |    - |    - |    - |    - |    - |    - |    - |    - |    - |    - |    - |    - |    - |    - |    - |    - |    - |    - |    - |    - |    - |    - |    - |    - |    - |    - |    - |    - |    - |    - |    - |    - |    - |    - |    - |    - |    - |    - |    - |    - |    - |    - |    - |    - |    - |    - |    - |    - |    - |    - |    - |    - |    - |    - |    - |    - |    - |    - |    - |    - |    - |    - |    - |    - |    - |    - |    - |    - |    - |    - |    - |    - |    - |    - |    - |    - |    - |    - |    - |    - |    - |    - |    - |    - |    - |    - |    - |    - |    - |    - |    - |    - |    - |    - |    - |    - |    - |    - |    - |    - |    - |    - |    - |    - |    - | \n",
       "| <samp style=\"background-color: hsl(11.357104748977767, 100.0%, 80%)\" title=\" 90%\">                       middle:5</samp> |    - |    - |    - |    - |    - |    - |    - |    - |    - |    X |    X |    X |    - |    - |    - |    - |    X |    - |    - |    - |    - |    - |    X |    X |    - |    - |    X |    - |    - |    X |    - |    - |    X |    - |    - |    - |    X |    - |    - |    - |    - |    - |    - |    - |    - |    X |    - |    - |    - |    X |    X |    - |    - |    - |    - |    - |    - |    - |    X |    - |    - |    - |    - |    - |    - |    X |    - |    - |    X |    - |    X |    - |    - |    - |    - |    - |    - |    - |    X |    - |    - |    - |    - |    - |    - |    - |    - |    - |    X |    X |    - |    X |    - |    - |    - |    - |    - |    X |    - |    - |    X |    X |    X |    X |    X |    X |    X |    X |    X |    X |    X |    X |    X |    X |    X |    X |    X |    X |    X |    X |    X |    X |    X |    X |    X |    X |    X |    X |    X |    X |    X |    X |    X |    X |    X |    X |    X |    X |    X |    X |    X |    X |    X |    X |    X |    X |    X |    X |    X |    X |    X |    X |    X |    X |    X |    X |    X |    X |    X |    X |    X |    X |    X |    X |    X |    X |    X |    X |    X |    X |    X |    X |    X |    X |    X |    X |    X |    X |    X |    X |    X |    X |    X |    X |    X |    X |    X |    X |    X |    X |    X |    X |    X |    X |    X |    X |    X |    X |    X |    X | \n",
       "| <samp style=\"background-color: hsl(4.529946162074849, 100.0%, 80%)\" title=\" 96%\">                       middle:6</samp> |    - |    - |    - |    - |    - |    - |    - |    - |    - |    X |    - |    - |    - |    - |    - |    - |    - |    - |    - |    - |    - |    - |    X |    - |    - |    - |    X |    - |    - |    - |    - |    - |    - |    - |    - |    - |    X |    - |    - |    - |    - |    - |    - |    - |    - |    - |    - |    - |    - |    - |    - |    - |    - |    - |    - |    - |    - |    - |    - |    - |    - |    - |    - |    - |    - |    - |    - |    - |    X |    - |    - |    - |    - |    - |    - |    - |    - |    - |    X |    - |    - |    - |    - |    - |    - |    - |    - |    - |    - |    - |    - |    X |    - |    - |    - |    - |    - |    X |    - |    - |    X |    X |    X |    X |    X |    X |    X |    X |    X |    X |    X |    X |    X |    X |    X |    X |    X |    X |    X |    X |    X |    X |    X |    X |    X |    X |    X |    X |    X |    X |    X |    X |    X |    X |    X |    X |    X |    X |    X |    X |    X |    X |    X |    X |    X |    X |    X |    X |    X |    X |    X |    X |    X |    X |    X |    X |    X |    X |    X |    X |    X |    X |    X |    X |    X |    X |    X |    X |    X |    X |    X |    X |    X |    X |    X |    X |    X |    X |    X |    X |    X |    X |    X |    X |    X |    X |    X |    X |    X |    X |    X |    X |    X |    X |    X |    X |    X |    X |    X |    X | \n",
       "| <samp style=\"background-color: hsl(120.0, 71.0%, 80%)\" title=\"  0%\">                       middle:8</samp> |    X |    X |    X |    X |    X |    - |    X |    X |    X |    - |    - |    - |    X |    X |    X |    X |    - |    X |    X |    X |    - |    X |    - |    - |    X |    X |    - |    X |    X |    - |    X |    X |    - |    X |    X |    X |    - |    - |    X |    X |    - |    X |    X |    X |    X |    - |    - |    X |    X |    - |    - |    X |    X |    X |    X |    X |    X |    X |    - |    X |    X |    X |    X |    X |    X |    - |    X |    X |    - |    X |    - |    X |    X |    X |    X |    X |    X |    X |    - |    X |    X |    X |    X |    X |    X |    X |    X |    - |    - |    - |    - |    - |    X |    X |    X |    X |    X |    - |    X |    X |    - |    - |    - |    - |    - |    - |    - |    - |    - |    - |    - |    - |    - |    - |    - |    - |    - |    - |    - |    - |    - |    - |    - |    - |    - |    - |    - |    - |    - |    - |    - |    - |    - |    - |    - |    - |    - |    - |    - |    - |    - |    - |    - |    - |    - |    - |    - |    - |    - |    - |    - |    - |    - |    - |    - |    - |    - |    - |    - |    - |    - |    - |    - |    - |    - |    - |    - |    - |    - |    - |    - |    - |    - |    - |    - |    - |    - |    - |    - |    - |    - |    - |    - |    - |    - |    - |    - |    - |    - |    - |    - |    - |    - |    - |    - |    - |    - |    - |    - |    - | \n",
       "| <samp style=\"background-color: hsl(120.0, 20.0%, 80%)\" title=\"  0%\">                       middle:9</samp> |    X |    - |    X |    - |    - |    - |    - |    - |    X |    - |    - |    - |    X |    - |    - |    X |    - |    - |    X |    - |    - |    - |    - |    - |    - |    - |    - |    - |    - |    - |    - |    - |    - |    X |    - |    - |    - |    - |    - |    - |    - |    - |    - |    - |    - |    - |    - |    X |    - |    - |    - |    X |    X |    - |    - |    - |    X |    - |    - |    X |    - |    - |    - |    - |    X |    - |    - |    - |    - |    X |    - |    X |    X |    - |    - |    X |    - |    - |    - |    - |    - |    X |    - |    - |    - |    - |    - |    - |    - |    - |    - |    - |    - |    X |    - |    - |    - |    - |    X |    - |    - |    - |    - |    - |    - |    - |    - |    - |    - |    - |    - |    - |    - |    - |    - |    - |    - |    - |    - |    - |    - |    - |    - |    - |    - |    - |    - |    - |    - |    - |    - |    - |    - |    - |    - |    - |    - |    - |    - |    - |    - |    - |    - |    - |    - |    - |    - |    - |    - |    - |    - |    - |    - |    - |    - |    - |    - |    - |    - |    - |    - |    - |    - |    - |    - |    - |    - |    - |    - |    - |    - |    - |    - |    - |    - |    - |    - |    - |    - |    - |    - |    - |    - |    - |    - |    - |    - |    - |    - |    - |    - |    - |    - |    - |    - |    - |    - |    - |    - |    - | \n",
       "| <samp style=\"background-color: hsl(120.0, 51.0%, 80%)\" title=\"  0%\">                      middle:10</samp> |    - |    X |    - |    X |    X |    - |    X |    X |    - |    - |    - |    - |    - |    X |    X |    - |    - |    X |    - |    X |    - |    X |    - |    - |    X |    X |    - |    X |    X |    - |    X |    X |    - |    - |    X |    X |    - |    - |    X |    X |    - |    X |    X |    X |    X |    - |    - |    - |    X |    - |    - |    - |    - |    X |    X |    X |    - |    X |    - |    - |    X |    X |    X |    X |    - |    - |    X |    X |    - |    - |    - |    - |    - |    X |    X |    - |    X |    X |    - |    X |    X |    - |    X |    X |    X |    X |    X |    - |    - |    - |    - |    - |    X |    - |    X |    X |    X |    - |    - |    X |    - |    - |    - |    - |    - |    - |    - |    - |    - |    - |    - |    - |    - |    - |    - |    - |    - |    - |    - |    - |    - |    - |    - |    - |    - |    - |    - |    - |    - |    - |    - |    - |    - |    - |    - |    - |    - |    - |    - |    - |    - |    - |    - |    - |    - |    - |    - |    - |    - |    - |    - |    - |    - |    - |    - |    - |    - |    - |    - |    - |    - |    - |    - |    - |    - |    - |    - |    - |    - |    - |    - |    - |    - |    - |    - |    - |    - |    - |    - |    - |    - |    - |    - |    - |    - |    - |    - |    - |    - |    - |    - |    - |    - |    - |    - |    - |    - |    - |    - |    - | \n",
       "| <samp style=\"background-color: hsl(120.0, 19.0%, 80%)\" title=\"  0%\">                      middle:11</samp> |    - |    X |    - |    - |    - |    - |    - |    - |    - |    - |    - |    - |    - |    X |    - |    - |    - |    - |    - |    - |    - |    X |    - |    - |    X |    - |    - |    - |    - |    - |    - |    X |    - |    - |    X |    X |    - |    - |    - |    - |    - |    - |    X |    - |    - |    - |    - |    - |    - |    - |    - |    - |    - |    - |    X |    X |    - |    X |    - |    - |    - |    - |    X |    - |    - |    - |    - |    X |    - |    - |    - |    - |    - |    X |    X |    - |    - |    X |    - |    - |    - |    - |    - |    - |    - |    - |    - |    - |    - |    - |    - |    - |    X |    - |    X |    - |    - |    - |    - |    X |    - |    - |    - |    - |    - |    - |    - |    - |    - |    - |    - |    - |    - |    - |    - |    - |    - |    - |    - |    - |    - |    - |    - |    - |    - |    - |    - |    - |    - |    - |    - |    - |    - |    - |    - |    - |    - |    - |    - |    - |    - |    - |    - |    - |    - |    - |    - |    - |    - |    - |    - |    - |    - |    - |    - |    - |    - |    - |    - |    - |    - |    - |    - |    - |    - |    - |    - |    - |    - |    - |    - |    - |    - |    - |    - |    - |    - |    - |    - |    - |    - |    - |    - |    - |    - |    - |    - |    - |    - |    - |    - |    - |    - |    - |    - |    - |    - |    - |    - |    - | \n",
       "| <samp style=\"background-color: hsl(120.0, 46.0%, 80%)\" title=\"  0%\">                      middle:12</samp> |    - |    - |    - |    X |    X |    - |    X |    X |    - |    - |    X |    X |    - |    - |    X |    - |    X |    X |    - |    X |    - |    - |    - |    X |    - |    X |    - |    X |    X |    X |    X |    - |    X |    - |    - |    - |    - |    - |    X |    X |    - |    X |    - |    X |    X |    X |    - |    - |    X |    X |    X |    - |    - |    X |    - |    - |    - |    - |    X |    - |    X |    X |    - |    X |    - |    X |    X |    - |    - |    - |    X |    - |    - |    - |    - |    - |    X |    - |    - |    X |    X |    - |    X |    X |    X |    X |    X |    - |    X |    X |    - |    - |    - |    - |    - |    X |    X |    - |    - |    - |    - |    - |    - |    - |    - |    - |    - |    - |    - |    - |    - |    - |    - |    - |    - |    - |    - |    - |    - |    - |    - |    - |    - |    - |    - |    - |    - |    - |    - |    - |    - |    - |    - |    - |    - |    - |    - |    - |    - |    - |    - |    - |    - |    - |    - |    - |    - |    - |    - |    - |    - |    - |    - |    - |    - |    - |    - |    - |    - |    - |    - |    - |    - |    - |    - |    - |    - |    - |    - |    - |    - |    - |    - |    - |    - |    - |    - |    - |    - |    - |    - |    - |    - |    - |    - |    - |    - |    - |    - |    - |    - |    - |    - |    - |    - |    - |    - |    - |    - |    - | \n"
      ],
      "text/plain": [
       "[('middle', 6), ('middle', 5), ('middle', 3), ('middle', 2), ('middle', 1), ('_clean_thread_parent_frames', 790), ('_clean_thread_parent_frames', 793), ('middle', 8), ('middle', 11), ('enumerate', 1543), ('_clean_thread_parent_frames', 789), ('_clean_thread_parent_frames', 792), ('_clean_thread_parent_frames', 801), ('ident', 1208), ('middle', 4), ('middle', 10), ('_clean_thread_parent_frames', 791), ('_clean_thread_parent_frames', 788), ('_clean_thread_parent_frames', 794), ('_clean_thread_parent_frames', 800), ('ident', 1198), ('enumerate', 1535), ('ident', 1207), ('middle', 9), ('enumerate', 1544), ('middle', 12), ('_clean_thread_parent_frames', 775)]"
      ]
     },
     "execution_count": 138,
     "metadata": {},
     "output_type": "execute_result"
    }
   ],
   "source": [
    "ochiai_middle"
   ]
  },
  {
   "cell_type": "markdown",
   "metadata": {
    "slideshow": {
     "slide_type": "fragment"
    }
   },
   "source": [
    "We see that the \"culprit\" line is still the most likely to be fixed, but the two conditions leading to the error (`x < y` and `x < z`) are also listed as potentially faulty. That is because the error might also be fixed be changing these conditions – although this would result in a more complex fix."
   ]
  },
  {
   "cell_type": "markdown",
   "metadata": {
    "slideshow": {
     "slide_type": "slide"
    }
   },
   "source": [
    "## Other Events besides Coverage\n",
    "\n",
    "We close this chapter with two directions for further thought. If you wondered why in the above code, we were mostly talking about `events` rather than lines covered, that is because our framework allows for tracking arbitrary events, not just coverage. In fact, any data item a collector can extract from the execution can be used for correlation analysis. (It may not be so easily visualized, though.)"
   ]
  },
  {
   "cell_type": "markdown",
   "metadata": {
    "slideshow": {
     "slide_type": "fragment"
    }
   },
   "source": [
    "Here's an example. We define a `ValueCollector` class that collects pairs of (local) variables and their values during execution. Its `events()` method then returns the set of all these pairs."
   ]
  },
  {
   "cell_type": "code",
   "execution_count": 139,
   "metadata": {
    "execution": {
     "iopub.execute_input": "2025-01-16T09:36:37.158790Z",
     "iopub.status.busy": "2025-01-16T09:36:37.158601Z",
     "iopub.status.idle": "2025-01-16T09:36:37.161318Z",
     "shell.execute_reply": "2025-01-16T09:36:37.161055Z"
    },
    "slideshow": {
     "slide_type": "subslide"
    }
   },
   "outputs": [],
   "source": [
    "class ValueCollector(Collector):\n",
    "    \"\"\"\"A class to collect local variables and their values.\"\"\"\n",
    "\n",
    "    def __init__(self) -> None:\n",
    "        \"\"\"Constructor.\"\"\"\n",
    "        super().__init__()\n",
    "        self.vars: Set[str] = set()\n",
    "\n",
    "    def collect(self, frame: FrameType, event: str, arg: Any) -> None:\n",
    "        local_vars = frame.f_locals\n",
    "        for var in local_vars:\n",
    "            value = local_vars[var]\n",
    "            self.vars.add(f\"{var} = {repr(value)}\")\n",
    "\n",
    "    def events(self) -> Set[str]:\n",
    "        \"\"\"A set of (variable, value) pairs observed\"\"\"\n",
    "        return self.vars"
   ]
  },
  {
   "cell_type": "markdown",
   "metadata": {
    "slideshow": {
     "slide_type": "subslide"
    }
   },
   "source": [
    "If we apply this collector on our set of HTML test cases, these are all the events that we obtain – essentially all variables and all values ever seen:"
   ]
  },
  {
   "cell_type": "code",
   "execution_count": 140,
   "metadata": {
    "execution": {
     "iopub.execute_input": "2025-01-16T09:36:37.162888Z",
     "iopub.status.busy": "2025-01-16T09:36:37.162760Z",
     "iopub.status.idle": "2025-01-16T09:36:37.165913Z",
     "shell.execute_reply": "2025-01-16T09:36:37.165446Z"
    },
    "slideshow": {
     "slide_type": "subslide"
    }
   },
   "outputs": [
    {
     "name": "stdout",
     "output_type": "stream",
     "text": [
      "tag = True\n",
      "out = 'ab'\n",
      "c = 'c'\n",
      "tag = False\n",
      "out = 'abc'\n",
      "s = '\"abc\"'\n",
      "quote = False\n",
      "c = '>'\n",
      "c = '\"'\n",
      "c = 'a'\n",
      "s = 'abc'\n",
      "c = 'b'\n",
      "quote = True\n",
      "out = ''\n",
      "out = 'a'\n",
      "s = '<b>abc</b>'\n",
      "c = '<'\n",
      "c = '/'\n"
     ]
    }
   ],
   "source": [
    "debugger = test_debugger_html(ContinuousSpectrumDebugger(ValueCollector))\n",
    "for event in debugger.all_events():\n",
    "    print(event)"
   ]
  },
  {
   "cell_type": "markdown",
   "metadata": {
    "slideshow": {
     "slide_type": "subslide"
    }
   },
   "source": [
    "However, some of these events only occur in the failing run:"
   ]
  },
  {
   "cell_type": "code",
   "execution_count": 141,
   "metadata": {
    "execution": {
     "iopub.execute_input": "2025-01-16T09:36:37.169137Z",
     "iopub.status.busy": "2025-01-16T09:36:37.168989Z",
     "iopub.status.idle": "2025-01-16T09:36:37.171292Z",
     "shell.execute_reply": "2025-01-16T09:36:37.170953Z"
    },
    "slideshow": {
     "slide_type": "fragment"
    }
   },
   "outputs": [
    {
     "name": "stdout",
     "output_type": "stream",
     "text": [
      "quote = True\n",
      "s = '\"abc\"'\n",
      "c = '\"'\n"
     ]
    }
   ],
   "source": [
    "for event in debugger.only_fail_events():\n",
    "    print(event)"
   ]
  },
  {
   "cell_type": "markdown",
   "metadata": {
    "slideshow": {
     "slide_type": "fragment"
    }
   },
   "source": [
    "Some of these differences are spurious – the string `\"abc\"` (with quotes) only occurs in the failing run – but others, such as `quote` being True and `c` containing a single quote are actually relevant for explaining when the failure comes to be."
   ]
  },
  {
   "cell_type": "markdown",
   "metadata": {
    "slideshow": {
     "slide_type": "fragment"
    }
   },
   "source": [
    "We can even visualize the suspiciousness of the individual events, setting the (so far undiscussed) `color` flag for producing an event table:"
   ]
  },
  {
   "cell_type": "code",
   "execution_count": 142,
   "metadata": {
    "execution": {
     "iopub.execute_input": "2025-01-16T09:36:37.172818Z",
     "iopub.status.busy": "2025-01-16T09:36:37.172696Z",
     "iopub.status.idle": "2025-01-16T09:36:37.175203Z",
     "shell.execute_reply": "2025-01-16T09:36:37.174871Z"
    },
    "slideshow": {
     "slide_type": "subslide"
    }
   },
   "outputs": [
    {
     "data": {
      "text/markdown": [
       "| `remove_html_markup` | `s='abc'` | `s='<b>abc</b>'` | `s='\"abc\"'` | \n",
       "| ---------------- | ---- | ---- | ---- | \n",
       "| <samp style=\"background-color: hsl(0.0, 100.0%, 80%)\" title=\"100%\">         c = &#x27;&quot;&#x27;</samp> |    - |    - |    X | \n",
       "| <samp style=\"background-color: hsl(120.0, 50.0%, 80%)\" title=\"  0%\">         c = &#x27;/&#x27;</samp> |    - |    X |    - | \n",
       "| <samp style=\"background-color: hsl(120.0, 50.0%, 80%)\" title=\"  0%\">         c = &#x27;&lt;&#x27;</samp> |    - |    X |    - | \n",
       "| <samp style=\"background-color: hsl(120.0, 50.0%, 80%)\" title=\"  0%\">         c = &#x27;&gt;&#x27;</samp> |    - |    X |    - | \n",
       "| <samp style=\"background-color: hsl(60.0, 100.0%, 80%)\" title=\" 50%\">         c = &#x27;a&#x27;</samp> |    X |    X |    X | \n",
       "| <samp style=\"background-color: hsl(60.0, 100.0%, 80%)\" title=\" 50%\">         c = &#x27;b&#x27;</samp> |    X |    X |    X | \n",
       "| <samp style=\"background-color: hsl(60.0, 100.0%, 80%)\" title=\" 50%\">         c = &#x27;c&#x27;</samp> |    X |    X |    X | \n",
       "| <samp style=\"background-color: hsl(60.0, 100.0%, 80%)\" title=\" 50%\">        out = &#x27;&#x27;</samp> |    X |    X |    X | \n",
       "| <samp style=\"background-color: hsl(60.0, 100.0%, 80%)\" title=\" 50%\">       out = &#x27;a&#x27;</samp> |    X |    X |    X | \n",
       "| <samp style=\"background-color: hsl(60.0, 100.0%, 80%)\" title=\" 50%\">      out = &#x27;ab&#x27;</samp> |    X |    X |    X | \n",
       "| <samp style=\"background-color: hsl(60.0, 100.0%, 80%)\" title=\" 50%\">     out = &#x27;abc&#x27;</samp> |    X |    X |    X | \n",
       "| <samp style=\"background-color: hsl(60.0, 100.0%, 80%)\" title=\" 50%\">   quote = False</samp> |    X |    X |    X | \n",
       "| <samp style=\"background-color: hsl(0.0, 100.0%, 80%)\" title=\"100%\">    quote = True</samp> |    - |    - |    X | \n",
       "| <samp style=\"background-color: hsl(0.0, 100.0%, 80%)\" title=\"100%\">     s = &#x27;&quot;abc&quot;&#x27;</samp> |    - |    - |    X | \n",
       "| <samp style=\"background-color: hsl(120.0, 50.0%, 80%)\" title=\"  0%\">s = &#x27;&lt;b&gt;abc&lt;/b&gt;&#x27;</samp> |    - |    X |    - | \n",
       "| <samp style=\"background-color: hsl(120.0, 50.0%, 80%)\" title=\"  0%\">       s = &#x27;abc&#x27;</samp> |    X |    - |    - | \n",
       "| <samp style=\"background-color: hsl(60.0, 100.0%, 80%)\" title=\" 50%\">     tag = False</samp> |    X |    X |    X | \n",
       "| <samp style=\"background-color: hsl(120.0, 50.0%, 80%)\" title=\"  0%\">      tag = True</samp> |    - |    X |    - | \n"
      ],
      "text/plain": [
       "<IPython.core.display.Markdown object>"
      ]
     },
     "execution_count": 142,
     "metadata": {},
     "output_type": "execute_result"
    }
   ],
   "source": [
    "debugger.event_table(color=True, args=True)"
   ]
  },
  {
   "cell_type": "markdown",
   "metadata": {
    "slideshow": {
     "slide_type": "subslide"
    }
   },
   "source": [
    "There are many ways one can continue from here.\n",
    "\n",
    "* Rather than checking for concrete values, one could check for more _abstract properties_, for instance – what is the sign of the value? What is the length of the string? \n",
    "* One could check for specifics of the _control flow_ – is the loop taken? How many times?\n",
    "* One could check for specifics of the _information flow_ – which values flow from one variable to another?\n",
    "\n",
    "There are lots of properties that all could be related to failures – and if we happen to check for the right one, we may obtain a much crisper definition of what causes the failure. We will come up with more ideas on properties to check as it comes to [mining specifications](SpecificationMining,ipynb)."
   ]
  },
  {
   "cell_type": "markdown",
   "metadata": {
    "slideshow": {
     "slide_type": "slide"
    }
   },
   "source": [
    "## Training Classifiers\n",
    "\n",
    "The metrics we have discussed so far are pretty _generic_ – that is, they are fixed no matter how the actual event space is structured. The field of _machine learning_ has come up with techniques that learn _classifiers_ from a given set of data – classifiers that are trained from labeled data and then can predict labels for new data sets. In our case, the labels are test outcomes (PASS and FAIL), whereas the data would be features of the events observed."
   ]
  },
  {
   "cell_type": "markdown",
   "metadata": {
    "slideshow": {
     "slide_type": "fragment"
    }
   },
   "source": [
    "A classifier by itself is not immediately useful for debugging (although it could predict whether future inputs will fail or not). Some classifiers, however, have great _diagnostic_ quality; that is, they can _explain_ how their classification comes to be. [Decision trees](https://scikit-learn.org/stable/modules/tree.html) fall into this very category."
   ]
  },
  {
   "cell_type": "markdown",
   "metadata": {
    "slideshow": {
     "slide_type": "subslide"
    }
   },
   "source": [
    "A decision tree contains a number of _nodes_, each one associated with a predicate. Depending on whether the predicate is true or false, we follow the given \"true\" or \"false\" branch to end up in the next node, which again contains a predicate. Eventually, we end up in the outcome predicted by the tree. The neat thing is that the node predicates actually give important hints on the circumstances that are _most relevant_ for deciding the outcome."
   ]
  },
  {
   "cell_type": "markdown",
   "metadata": {
    "slideshow": {
     "slide_type": "fragment"
    }
   },
   "source": [
    "Let us illustrate this with an example. We build a class `ClassifyingDebugger` that trains a decision tree from the events collected. To this end, we need to set up our input data such that it can be fed into a classifier."
   ]
  },
  {
   "cell_type": "markdown",
   "metadata": {
    "slideshow": {
     "slide_type": "fragment"
    }
   },
   "source": [
    "We start with identifying our _samples_ (runs) and the respective _labels_ (outcomes). All values have to be encoded into numerical values."
   ]
  },
  {
   "cell_type": "code",
   "execution_count": 143,
   "metadata": {
    "execution": {
     "iopub.execute_input": "2025-01-16T09:36:37.177848Z",
     "iopub.status.busy": "2025-01-16T09:36:37.177722Z",
     "iopub.status.idle": "2025-01-16T09:36:37.180105Z",
     "shell.execute_reply": "2025-01-16T09:36:37.179748Z"
    },
    "slideshow": {
     "slide_type": "subslide"
    }
   },
   "outputs": [],
   "source": [
    "class ClassifyingDebugger(DifferenceDebugger):\n",
    "    \"\"\"A debugger implementing a decision tree for events\"\"\"\n",
    "\n",
    "    PASS_VALUE = +1.0\n",
    "    FAIL_VALUE = -1.0\n",
    "\n",
    "    def samples(self) -> Dict[str, float]:\n",
    "        samples = {}\n",
    "        for collector in self.pass_collectors():\n",
    "            samples[collector.id()] = self.PASS_VALUE\n",
    "        for collector in debugger.fail_collectors():\n",
    "            samples[collector.id()] = self.FAIL_VALUE\n",
    "        return samples"
   ]
  },
  {
   "cell_type": "code",
   "execution_count": 144,
   "metadata": {
    "execution": {
     "iopub.execute_input": "2025-01-16T09:36:37.181655Z",
     "iopub.status.busy": "2025-01-16T09:36:37.181552Z",
     "iopub.status.idle": "2025-01-16T09:36:37.184819Z",
     "shell.execute_reply": "2025-01-16T09:36:37.184490Z"
    },
    "slideshow": {
     "slide_type": "subslide"
    }
   },
   "outputs": [
    {
     "data": {
      "text/plain": [
       "{\"remove_html_markup(s='abc')\": 1.0,\n",
       " \"remove_html_markup(s='<b>abc</b>')\": 1.0,\n",
       " 'remove_html_markup(s=\\'\"abc\"\\')': -1.0}"
      ]
     },
     "execution_count": 144,
     "metadata": {},
     "output_type": "execute_result"
    }
   ],
   "source": [
    "debugger = test_debugger_html(ClassifyingDebugger())\n",
    "debugger.samples()"
   ]
  },
  {
   "cell_type": "markdown",
   "metadata": {
    "slideshow": {
     "slide_type": "fragment"
    }
   },
   "source": [
    "Next, we identify the _features_, which in our case is the set of lines executed in each sample:"
   ]
  },
  {
   "cell_type": "code",
   "execution_count": 145,
   "metadata": {
    "execution": {
     "iopub.execute_input": "2025-01-16T09:36:37.186350Z",
     "iopub.status.busy": "2025-01-16T09:36:37.186263Z",
     "iopub.status.idle": "2025-01-16T09:36:37.188370Z",
     "shell.execute_reply": "2025-01-16T09:36:37.188071Z"
    },
    "slideshow": {
     "slide_type": "fragment"
    }
   },
   "outputs": [],
   "source": [
    "class ClassifyingDebugger(ClassifyingDebugger):\n",
    "    def features(self) -> Dict[str, Any]:\n",
    "        features = {}\n",
    "        for collector in debugger.pass_collectors():\n",
    "            features[collector.id()] = collector.events()\n",
    "        for collector in debugger.fail_collectors():\n",
    "            features[collector.id()] = collector.events()\n",
    "        return features"
   ]
  },
  {
   "cell_type": "code",
   "execution_count": 146,
   "metadata": {
    "execution": {
     "iopub.execute_input": "2025-01-16T09:36:37.189712Z",
     "iopub.status.busy": "2025-01-16T09:36:37.189623Z",
     "iopub.status.idle": "2025-01-16T09:36:37.193200Z",
     "shell.execute_reply": "2025-01-16T09:36:37.192900Z"
    },
    "slideshow": {
     "slide_type": "subslide"
    }
   },
   "outputs": [
    {
     "data": {
      "text/plain": [
       "{\"remove_html_markup(s='abc')\": {('remove_html_markup', 1),\n",
       "  ('remove_html_markup', 2),\n",
       "  ('remove_html_markup', 3),\n",
       "  ('remove_html_markup', 4),\n",
       "  ('remove_html_markup', 6),\n",
       "  ('remove_html_markup', 7),\n",
       "  ('remove_html_markup', 9),\n",
       "  ('remove_html_markup', 11),\n",
       "  ('remove_html_markup', 13),\n",
       "  ('remove_html_markup', 14),\n",
       "  ('remove_html_markup', 16)},\n",
       " \"remove_html_markup(s='<b>abc</b>')\": {('remove_html_markup', 1),\n",
       "  ('remove_html_markup', 2),\n",
       "  ('remove_html_markup', 3),\n",
       "  ('remove_html_markup', 4),\n",
       "  ('remove_html_markup', 6),\n",
       "  ('remove_html_markup', 7),\n",
       "  ('remove_html_markup', 8),\n",
       "  ('remove_html_markup', 9),\n",
       "  ('remove_html_markup', 10),\n",
       "  ('remove_html_markup', 11),\n",
       "  ('remove_html_markup', 13),\n",
       "  ('remove_html_markup', 14),\n",
       "  ('remove_html_markup', 16)},\n",
       " 'remove_html_markup(s=\\'\"abc\"\\')': {('remove_html_markup', 1),\n",
       "  ('remove_html_markup', 2),\n",
       "  ('remove_html_markup', 3),\n",
       "  ('remove_html_markup', 4),\n",
       "  ('remove_html_markup', 6),\n",
       "  ('remove_html_markup', 7),\n",
       "  ('remove_html_markup', 9),\n",
       "  ('remove_html_markup', 11),\n",
       "  ('remove_html_markup', 12),\n",
       "  ('remove_html_markup', 13),\n",
       "  ('remove_html_markup', 14),\n",
       "  ('remove_html_markup', 16)}}"
      ]
     },
     "execution_count": 146,
     "metadata": {},
     "output_type": "execute_result"
    }
   ],
   "source": [
    "debugger = test_debugger_html(ClassifyingDebugger())\n",
    "debugger.features()"
   ]
  },
  {
   "cell_type": "markdown",
   "metadata": {
    "slideshow": {
     "slide_type": "subslide"
    }
   },
   "source": [
    "All our features have names, which must be strings."
   ]
  },
  {
   "cell_type": "code",
   "execution_count": 147,
   "metadata": {
    "execution": {
     "iopub.execute_input": "2025-01-16T09:36:37.194640Z",
     "iopub.status.busy": "2025-01-16T09:36:37.194525Z",
     "iopub.status.idle": "2025-01-16T09:36:37.196363Z",
     "shell.execute_reply": "2025-01-16T09:36:37.196150Z"
    },
    "slideshow": {
     "slide_type": "fragment"
    }
   },
   "outputs": [],
   "source": [
    "class ClassifyingDebugger(ClassifyingDebugger):\n",
    "    def feature_names(self) -> List[str]:\n",
    "        return [repr(feature) for feature in self.all_events()]"
   ]
  },
  {
   "cell_type": "code",
   "execution_count": 148,
   "metadata": {
    "execution": {
     "iopub.execute_input": "2025-01-16T09:36:37.197646Z",
     "iopub.status.busy": "2025-01-16T09:36:37.197551Z",
     "iopub.status.idle": "2025-01-16T09:36:37.200392Z",
     "shell.execute_reply": "2025-01-16T09:36:37.200128Z"
    },
    "slideshow": {
     "slide_type": "subslide"
    }
   },
   "outputs": [
    {
     "data": {
      "text/plain": [
       "[\"('remove_html_markup', 2)\",\n",
       " \"('remove_html_markup', 11)\",\n",
       " \"('remove_html_markup', 8)\",\n",
       " \"('remove_html_markup', 14)\",\n",
       " \"('remove_html_markup', 3)\",\n",
       " \"('remove_html_markup', 9)\",\n",
       " \"('remove_html_markup', 6)\",\n",
       " \"('remove_html_markup', 12)\",\n",
       " \"('remove_html_markup', 4)\",\n",
       " \"('remove_html_markup', 1)\",\n",
       " \"('remove_html_markup', 7)\",\n",
       " \"('remove_html_markup', 10)\",\n",
       " \"('remove_html_markup', 16)\",\n",
       " \"('remove_html_markup', 13)\"]"
      ]
     },
     "execution_count": 148,
     "metadata": {},
     "output_type": "execute_result"
    }
   ],
   "source": [
    "debugger = test_debugger_html(ClassifyingDebugger())\n",
    "debugger.feature_names()"
   ]
  },
  {
   "cell_type": "markdown",
   "metadata": {
    "slideshow": {
     "slide_type": "subslide"
    }
   },
   "source": [
    "Next, we define the _shape_ for an individual sample, which is a value of +1 or -1 for each feature seen (i.e., +1 if the line was covered, -1 if not)."
   ]
  },
  {
   "cell_type": "code",
   "execution_count": 149,
   "metadata": {
    "execution": {
     "iopub.execute_input": "2025-01-16T09:36:37.201708Z",
     "iopub.status.busy": "2025-01-16T09:36:37.201609Z",
     "iopub.status.idle": "2025-01-16T09:36:37.203604Z",
     "shell.execute_reply": "2025-01-16T09:36:37.203360Z"
    },
    "slideshow": {
     "slide_type": "fragment"
    }
   },
   "outputs": [],
   "source": [
    "class ClassifyingDebugger(ClassifyingDebugger):\n",
    "    def shape(self, sample: str) -> List[float]:\n",
    "        x = []\n",
    "        features = self.features()\n",
    "        for f in self.all_events():\n",
    "            if f in features[sample]:\n",
    "                x += [+1.0]\n",
    "            else:\n",
    "                x += [-1.0]\n",
    "        return x"
   ]
  },
  {
   "cell_type": "code",
   "execution_count": 150,
   "metadata": {
    "execution": {
     "iopub.execute_input": "2025-01-16T09:36:37.204849Z",
     "iopub.status.busy": "2025-01-16T09:36:37.204752Z",
     "iopub.status.idle": "2025-01-16T09:36:37.208000Z",
     "shell.execute_reply": "2025-01-16T09:36:37.207650Z"
    },
    "slideshow": {
     "slide_type": "subslide"
    }
   },
   "outputs": [
    {
     "data": {
      "text/plain": [
       "[1.0, 1.0, -1.0, 1.0, 1.0, 1.0, 1.0, -1.0, 1.0, 1.0, 1.0, -1.0, 1.0, 1.0]"
      ]
     },
     "execution_count": 150,
     "metadata": {},
     "output_type": "execute_result"
    }
   ],
   "source": [
    "debugger = test_debugger_html(ClassifyingDebugger())\n",
    "debugger.shape(\"remove_html_markup(s='abc')\")"
   ]
  },
  {
   "cell_type": "markdown",
   "metadata": {
    "slideshow": {
     "slide_type": "fragment"
    }
   },
   "source": [
    "Our input X for the classifier now is a list of such shapes, one for each sample."
   ]
  },
  {
   "cell_type": "code",
   "execution_count": 151,
   "metadata": {
    "execution": {
     "iopub.execute_input": "2025-01-16T09:36:37.209446Z",
     "iopub.status.busy": "2025-01-16T09:36:37.209307Z",
     "iopub.status.idle": "2025-01-16T09:36:37.211487Z",
     "shell.execute_reply": "2025-01-16T09:36:37.211195Z"
    },
    "slideshow": {
     "slide_type": "fragment"
    }
   },
   "outputs": [],
   "source": [
    "class ClassifyingDebugger(ClassifyingDebugger):\n",
    "    def X(self) -> List[List[float]]:\n",
    "        X = []\n",
    "        samples = self.samples()\n",
    "        for key in samples:\n",
    "            X += [self.shape(key)]\n",
    "        return X"
   ]
  },
  {
   "cell_type": "code",
   "execution_count": 152,
   "metadata": {
    "execution": {
     "iopub.execute_input": "2025-01-16T09:36:37.212735Z",
     "iopub.status.busy": "2025-01-16T09:36:37.212651Z",
     "iopub.status.idle": "2025-01-16T09:36:37.215742Z",
     "shell.execute_reply": "2025-01-16T09:36:37.215485Z"
    },
    "slideshow": {
     "slide_type": "subslide"
    }
   },
   "outputs": [
    {
     "data": {
      "text/plain": [
       "[[1.0, 1.0, -1.0, 1.0, 1.0, 1.0, 1.0, -1.0, 1.0, 1.0, 1.0, -1.0, 1.0, 1.0],\n",
       " [1.0, 1.0, 1.0, 1.0, 1.0, 1.0, 1.0, -1.0, 1.0, 1.0, 1.0, 1.0, 1.0, 1.0],\n",
       " [1.0, 1.0, -1.0, 1.0, 1.0, 1.0, 1.0, 1.0, 1.0, 1.0, 1.0, -1.0, 1.0, 1.0]]"
      ]
     },
     "execution_count": 152,
     "metadata": {},
     "output_type": "execute_result"
    }
   ],
   "source": [
    "debugger = test_debugger_html(ClassifyingDebugger())\n",
    "debugger.X()"
   ]
  },
  {
   "cell_type": "markdown",
   "metadata": {
    "slideshow": {
     "slide_type": "fragment"
    }
   },
   "source": [
    "Our input Y for the classifier, in contrast, is the list of labels, again indexed by sample."
   ]
  },
  {
   "cell_type": "code",
   "execution_count": 153,
   "metadata": {
    "execution": {
     "iopub.execute_input": "2025-01-16T09:36:37.217037Z",
     "iopub.status.busy": "2025-01-16T09:36:37.216959Z",
     "iopub.status.idle": "2025-01-16T09:36:37.218981Z",
     "shell.execute_reply": "2025-01-16T09:36:37.218762Z"
    },
    "slideshow": {
     "slide_type": "fragment"
    }
   },
   "outputs": [],
   "source": [
    "class ClassifyingDebugger(ClassifyingDebugger):\n",
    "    def Y(self) -> List[float]:\n",
    "        Y = []\n",
    "        samples = self.samples()\n",
    "        for key in samples:\n",
    "            Y += [samples[key]]\n",
    "        return Y"
   ]
  },
  {
   "cell_type": "code",
   "execution_count": 154,
   "metadata": {
    "execution": {
     "iopub.execute_input": "2025-01-16T09:36:37.220140Z",
     "iopub.status.busy": "2025-01-16T09:36:37.220058Z",
     "iopub.status.idle": "2025-01-16T09:36:37.222773Z",
     "shell.execute_reply": "2025-01-16T09:36:37.222522Z"
    },
    "slideshow": {
     "slide_type": "subslide"
    }
   },
   "outputs": [
    {
     "data": {
      "text/plain": [
       "[1.0, 1.0, -1.0]"
      ]
     },
     "execution_count": 154,
     "metadata": {},
     "output_type": "execute_result"
    }
   ],
   "source": [
    "debugger = test_debugger_html(ClassifyingDebugger())\n",
    "debugger.Y()"
   ]
  },
  {
   "cell_type": "markdown",
   "metadata": {
    "slideshow": {
     "slide_type": "fragment"
    }
   },
   "source": [
    "We now have all our data ready to be fit into a tree classifier. The method `classifier()` creates and returns the (tree) classifier for the observed runs."
   ]
  },
  {
   "cell_type": "code",
   "execution_count": 155,
   "metadata": {
    "execution": {
     "iopub.execute_input": "2025-01-16T09:36:37.224476Z",
     "iopub.status.busy": "2025-01-16T09:36:37.224329Z",
     "iopub.status.idle": "2025-01-16T09:36:39.032893Z",
     "shell.execute_reply": "2025-01-16T09:36:39.032580Z"
    },
    "slideshow": {
     "slide_type": "skip"
    }
   },
   "outputs": [],
   "source": [
    "from sklearn.tree import DecisionTreeClassifier, export_text, export_graphviz"
   ]
  },
  {
   "cell_type": "code",
   "execution_count": 156,
   "metadata": {
    "execution": {
     "iopub.execute_input": "2025-01-16T09:36:39.034663Z",
     "iopub.status.busy": "2025-01-16T09:36:39.034506Z",
     "iopub.status.idle": "2025-01-16T09:36:39.036506Z",
     "shell.execute_reply": "2025-01-16T09:36:39.036290Z"
    },
    "slideshow": {
     "slide_type": "fragment"
    }
   },
   "outputs": [],
   "source": [
    "class ClassifyingDebugger(ClassifyingDebugger):\n",
    "    def classifier(self) -> DecisionTreeClassifier:\n",
    "        classifier = DecisionTreeClassifier()\n",
    "        classifier = classifier.fit(self.X(), self.Y())\n",
    "        return classifier"
   ]
  },
  {
   "cell_type": "markdown",
   "metadata": {
    "slideshow": {
     "slide_type": "fragment"
    }
   },
   "source": [
    "We define a special method to show classifiers:"
   ]
  },
  {
   "cell_type": "code",
   "execution_count": 157,
   "metadata": {
    "execution": {
     "iopub.execute_input": "2025-01-16T09:36:39.037694Z",
     "iopub.status.busy": "2025-01-16T09:36:39.037607Z",
     "iopub.status.idle": "2025-01-16T09:36:39.039254Z",
     "shell.execute_reply": "2025-01-16T09:36:39.039010Z"
    },
    "slideshow": {
     "slide_type": "skip"
    }
   },
   "outputs": [],
   "source": [
    "import graphviz"
   ]
  },
  {
   "cell_type": "code",
   "execution_count": 158,
   "metadata": {
    "execution": {
     "iopub.execute_input": "2025-01-16T09:36:39.040386Z",
     "iopub.status.busy": "2025-01-16T09:36:39.040293Z",
     "iopub.status.idle": "2025-01-16T09:36:39.042432Z",
     "shell.execute_reply": "2025-01-16T09:36:39.042214Z"
    },
    "slideshow": {
     "slide_type": "subslide"
    }
   },
   "outputs": [],
   "source": [
    "class ClassifyingDebugger(ClassifyingDebugger):\n",
    "    def show_classifier(self, classifier: DecisionTreeClassifier) -> Any:\n",
    "        dot_data = export_graphviz(classifier, out_file=None, \n",
    "                                   filled=False, rounded=True,\n",
    "                                   feature_names=self.feature_names(),\n",
    "                                   class_names=[\"FAIL\", \"PASS\"],\n",
    "                                   label='none',\n",
    "                                   node_ids=False,\n",
    "                                   impurity=False,\n",
    "                                   proportion=True,\n",
    "                                   special_characters=True)\n",
    "\n",
    "        return graphviz.Source(dot_data)"
   ]
  },
  {
   "cell_type": "markdown",
   "metadata": {
    "slideshow": {
     "slide_type": "subslide"
    }
   },
   "source": [
    "This is the tree we get for our `remove_html_markup()` tests. The top predicate is whether the \"culprit\" line was executed (-1 means no, +1 means yes). If not (-1), the outcome is PASS. Otherwise, the outcome is TRUE."
   ]
  },
  {
   "cell_type": "code",
   "execution_count": 159,
   "metadata": {
    "execution": {
     "iopub.execute_input": "2025-01-16T09:36:39.043635Z",
     "iopub.status.busy": "2025-01-16T09:36:39.043547Z",
     "iopub.status.idle": "2025-01-16T09:36:39.540039Z",
     "shell.execute_reply": "2025-01-16T09:36:39.539683Z"
    },
    "slideshow": {
     "slide_type": "fragment"
    }
   },
   "outputs": [
    {
     "data": {
      "image/svg+xml": [
       "<?xml version=\"1.0\" encoding=\"UTF-8\" standalone=\"no\"?>\n",
       "<!DOCTYPE svg PUBLIC \"-//W3C//DTD SVG 1.1//EN\"\n",
       " \"http://www.w3.org/Graphics/SVG/1.1/DTD/svg11.dtd\">\n",
       "<!-- Generated by graphviz version 12.2.1 (20241206.2353)\n",
       " -->\n",
       "<!-- Title: Tree Pages: 1 -->\n",
       "<svg width=\"228pt\" height=\"165pt\"\n",
       " viewBox=\"0.00 0.00 228.00 165.00\" xmlns=\"http://www.w3.org/2000/svg\" xmlns:xlink=\"http://www.w3.org/1999/xlink\">\n",
       "<g id=\"graph0\" class=\"graph\" transform=\"scale(1 1) rotate(0) translate(4 161)\">\n",
       "<title>Tree</title>\n",
       "<polygon fill=\"white\" stroke=\"none\" points=\"-4,4 -4,-161 224,-161 224,4 -4,4\"/>\n",
       "<!-- 0 -->\n",
       "<g id=\"node1\" class=\"node\">\n",
       "<title>0</title>\n",
       "<path fill=\"none\" stroke=\"black\" d=\"M208,-157C208,-157 12,-157 12,-157 6,-157 0,-151 0,-145 0,-145 0,-101 0,-101 0,-95 6,-89 12,-89 12,-89 208,-89 208,-89 214,-89 220,-95 220,-101 220,-101 220,-145 220,-145 220,-151 214,-157 208,-157\"/>\n",
       "<text text-anchor=\"start\" x=\"8\" y=\"-139.7\" font-family=\"Helvetica,sans-Serif\" font-size=\"14.00\">(&#39;remove_html_markup&#39;, 12) ≤ 0.0</text>\n",
       "<text text-anchor=\"start\" x=\"86.75\" y=\"-124.7\" font-family=\"Helvetica,sans-Serif\" font-size=\"14.00\">100.0%</text>\n",
       "<text text-anchor=\"start\" x=\"68.75\" y=\"-109.7\" font-family=\"Helvetica,sans-Serif\" font-size=\"14.00\">[0.333, 0.667]</text>\n",
       "<text text-anchor=\"start\" x=\"92\" y=\"-94.7\" font-family=\"Helvetica,sans-Serif\" font-size=\"14.00\">PASS</text>\n",
       "</g>\n",
       "<!-- 1 -->\n",
       "<g id=\"node2\" class=\"node\">\n",
       "<title>1</title>\n",
       "<path fill=\"none\" stroke=\"black\" d=\"M89.25,-53C89.25,-53 44.75,-53 44.75,-53 38.75,-53 32.75,-47 32.75,-41 32.75,-41 32.75,-12 32.75,-12 32.75,-6 38.75,0 44.75,0 44.75,0 89.25,0 89.25,0 95.25,0 101.25,-6 101.25,-12 101.25,-12 101.25,-41 101.25,-41 101.25,-47 95.25,-53 89.25,-53\"/>\n",
       "<text text-anchor=\"start\" x=\"47.5\" y=\"-35.7\" font-family=\"Helvetica,sans-Serif\" font-size=\"14.00\">66.7%</text>\n",
       "<text text-anchor=\"start\" x=\"40.75\" y=\"-20.7\" font-family=\"Helvetica,sans-Serif\" font-size=\"14.00\">[0.0, 1.0]</text>\n",
       "<text text-anchor=\"start\" x=\"49\" y=\"-5.7\" font-family=\"Helvetica,sans-Serif\" font-size=\"14.00\">PASS</text>\n",
       "</g>\n",
       "<!-- 0&#45;&gt;1 -->\n",
       "<g id=\"edge1\" class=\"edge\">\n",
       "<title>0&#45;&gt;1</title>\n",
       "<path fill=\"none\" stroke=\"black\" d=\"M94.84,-88.68C91.17,-80.63 87.24,-71.98 83.52,-63.8\"/>\n",
       "<polygon fill=\"black\" stroke=\"black\" points=\"86.74,-62.42 79.41,-54.77 80.37,-65.32 86.74,-62.42\"/>\n",
       "<text text-anchor=\"middle\" x=\"70.01\" y=\"-71.01\" font-family=\"Helvetica,sans-Serif\" font-size=\"14.00\">True</text>\n",
       "</g>\n",
       "<!-- 2 -->\n",
       "<g id=\"node3\" class=\"node\">\n",
       "<title>2</title>\n",
       "<path fill=\"none\" stroke=\"black\" d=\"M176.25,-53C176.25,-53 131.75,-53 131.75,-53 125.75,-53 119.75,-47 119.75,-41 119.75,-41 119.75,-12 119.75,-12 119.75,-6 125.75,0 131.75,0 131.75,0 176.25,0 176.25,0 182.25,0 188.25,-6 188.25,-12 188.25,-12 188.25,-41 188.25,-41 188.25,-47 182.25,-53 176.25,-53\"/>\n",
       "<text text-anchor=\"start\" x=\"134.5\" y=\"-35.7\" font-family=\"Helvetica,sans-Serif\" font-size=\"14.00\">33.3%</text>\n",
       "<text text-anchor=\"start\" x=\"127.75\" y=\"-20.7\" font-family=\"Helvetica,sans-Serif\" font-size=\"14.00\">[1.0, 0.0]</text>\n",
       "<text text-anchor=\"start\" x=\"139.75\" y=\"-5.7\" font-family=\"Helvetica,sans-Serif\" font-size=\"14.00\">FAIL</text>\n",
       "</g>\n",
       "<!-- 0&#45;&gt;2 -->\n",
       "<g id=\"edge2\" class=\"edge\">\n",
       "<title>0&#45;&gt;2</title>\n",
       "<path fill=\"none\" stroke=\"black\" d=\"M125.51,-88.68C129.26,-80.63 133.29,-71.98 137.1,-63.8\"/>\n",
       "<polygon fill=\"black\" stroke=\"black\" points=\"140.26,-65.31 141.3,-54.77 133.91,-62.35 140.26,-65.31\"/>\n",
       "<text text-anchor=\"middle\" x=\"150.51\" y=\"-71.08\" font-family=\"Helvetica,sans-Serif\" font-size=\"14.00\">False</text>\n",
       "</g>\n",
       "</g>\n",
       "</svg>\n"
      ],
      "text/plain": [
       "<graphviz.sources.Source at 0x124771400>"
      ]
     },
     "execution_count": 159,
     "metadata": {},
     "output_type": "execute_result"
    }
   ],
   "source": [
    "debugger = test_debugger_html(ClassifyingDebugger())\n",
    "classifier = debugger.classifier()\n",
    "debugger.show_classifier(classifier)"
   ]
  },
  {
   "cell_type": "markdown",
   "metadata": {
    "slideshow": {
     "slide_type": "fragment"
    }
   },
   "source": [
    "We can even use our classifier to predict the outcome of additional runs. If, for instance, we execute all lines except for, say, Line 7, 9, and 11, our tree classifier would predict failure – because the \"culprit\" line 12 is executed."
   ]
  },
  {
   "cell_type": "code",
   "execution_count": 160,
   "metadata": {
    "execution": {
     "iopub.execute_input": "2025-01-16T09:36:39.541520Z",
     "iopub.status.busy": "2025-01-16T09:36:39.541399Z",
     "iopub.status.idle": "2025-01-16T09:36:39.544670Z",
     "shell.execute_reply": "2025-01-16T09:36:39.544408Z"
    },
    "slideshow": {
     "slide_type": "fragment"
    }
   },
   "outputs": [
    {
     "data": {
      "text/plain": [
       "array([-1.])"
      ]
     },
     "execution_count": 160,
     "metadata": {},
     "output_type": "execute_result"
    }
   ],
   "source": [
    "classifier.predict([[1, 1, 1, 1, 1, 1, -1, 1, -1, 1, -1, 1, 1, 1]])"
   ]
  },
  {
   "cell_type": "markdown",
   "metadata": {
    "slideshow": {
     "slide_type": "subslide"
    }
   },
   "source": [
    "Again, there are many ways to continue from here. Which events should we train the classifier from? How do classifiers compare in their performance and diagnostic quality? There are lots of possibilities left to explore, and we only begin to realize the potential for automated debugging."
   ]
  },
  {
   "cell_type": "markdown",
   "metadata": {
    "slideshow": {
     "slide_type": "slide"
    }
   },
   "source": [
    "## Synopsis\n",
    "\n",
    "This chapter introduces classes and techniques for _statistical debugging_ – that is, correlating specific events, such as lines covered, with passing and failing outcomes.\n",
    "\n",
    "To make use of the code in this chapter, use one of the provided `StatisticalDebugger` subclasses such as `TarantulaDebugger` or `OchiaiDebugger`. \n",
    "\n",
    "Both are instantiated with a `Collector` denoting the type of events you want to correlate outcomes with. The default `CoverageCollector`, collecting line coverage."
   ]
  },
  {
   "cell_type": "markdown",
   "metadata": {
    "slideshow": {
     "slide_type": "subslide"
    }
   },
   "source": [
    "### Collecting Events from Calls\n",
    "\n",
    "To collect events from calls that are labeled manually, use"
   ]
  },
  {
   "cell_type": "code",
   "execution_count": 161,
   "metadata": {
    "execution": {
     "iopub.execute_input": "2025-01-16T09:36:39.545964Z",
     "iopub.status.busy": "2025-01-16T09:36:39.545866Z",
     "iopub.status.idle": "2025-01-16T09:36:39.548567Z",
     "shell.execute_reply": "2025-01-16T09:36:39.548337Z"
    },
    "slideshow": {
     "slide_type": "fragment"
    }
   },
   "outputs": [],
   "source": [
    "debugger = TarantulaDebugger()\n",
    "with debugger.collect_pass():\n",
    "    remove_html_markup(\"abc\")\n",
    "with debugger.collect_pass():\n",
    "    remove_html_markup('<b>abc</b>')\n",
    "with debugger.collect_fail():\n",
    "    remove_html_markup('\"abc\"')"
   ]
  },
  {
   "cell_type": "markdown",
   "metadata": {
    "slideshow": {
     "slide_type": "fragment"
    }
   },
   "source": [
    "Within each `with` block, the _first function call_ is collected and tracked for coverage. (Note that _only_ the first call is tracked.)"
   ]
  },
  {
   "cell_type": "markdown",
   "metadata": {
    "slideshow": {
     "slide_type": "subslide"
    }
   },
   "source": [
    "### Collecting Events from Tests\n",
    "\n",
    "To collect events from _tests_ that use exceptions to indicate failure, use the simpler `with` form:"
   ]
  },
  {
   "cell_type": "code",
   "execution_count": 162,
   "metadata": {
    "execution": {
     "iopub.execute_input": "2025-01-16T09:36:39.549820Z",
     "iopub.status.busy": "2025-01-16T09:36:39.549731Z",
     "iopub.status.idle": "2025-01-16T09:36:39.552272Z",
     "shell.execute_reply": "2025-01-16T09:36:39.552064Z"
    },
    "slideshow": {
     "slide_type": "fragment"
    }
   },
   "outputs": [],
   "source": [
    "debugger = TarantulaDebugger()\n",
    "with debugger:\n",
    "    remove_html_markup(\"abc\")\n",
    "with debugger:\n",
    "    remove_html_markup('<b>abc</b>')\n",
    "with debugger:\n",
    "    remove_html_markup('\"abc\"')\n",
    "    assert False  # raise an exception"
   ]
  },
  {
   "cell_type": "markdown",
   "metadata": {
    "slideshow": {
     "slide_type": "fragment"
    }
   },
   "source": [
    "`with` blocks that raise an exception will be classified as failing, blocks that do not will be classified as passing. Note that exceptions raised are \"swallowed\" by the debugger."
   ]
  },
  {
   "cell_type": "markdown",
   "metadata": {
    "slideshow": {
     "slide_type": "subslide"
    }
   },
   "source": [
    "### Visualizing Events as a Table\n",
    "\n",
    "After collecting events, you can print out the observed events – in this case, line numbers – in a table, showing in which runs they occurred (`X`), and with colors highlighting the suspiciousness of the event. A \"red\" event means that the event predominantly occurs in failing runs."
   ]
  },
  {
   "cell_type": "code",
   "execution_count": 163,
   "metadata": {
    "execution": {
     "iopub.execute_input": "2025-01-16T09:36:39.553488Z",
     "iopub.status.busy": "2025-01-16T09:36:39.553389Z",
     "iopub.status.idle": "2025-01-16T09:36:39.555767Z",
     "shell.execute_reply": "2025-01-16T09:36:39.555539Z"
    },
    "slideshow": {
     "slide_type": "fragment"
    }
   },
   "outputs": [
    {
     "data": {
      "text/markdown": [
       "| `remove_html_markup` | `s='abc'` | `s='<b>abc</b>'` | `s='\"abc\"'` | \n",
       "| --------------------- | ---- | ---- | ---- | \n",
       "| <samp style=\"background-color: hsl(60.0, 100.0%, 80%)\" title=\" 50%\"> remove_html_markup:1</samp> |    X |    X |    X | \n",
       "| <samp style=\"background-color: hsl(60.0, 100.0%, 80%)\" title=\" 50%\"> remove_html_markup:2</samp> |    X |    X |    X | \n",
       "| <samp style=\"background-color: hsl(60.0, 100.0%, 80%)\" title=\" 50%\"> remove_html_markup:3</samp> |    X |    X |    X | \n",
       "| <samp style=\"background-color: hsl(60.0, 100.0%, 80%)\" title=\" 50%\"> remove_html_markup:4</samp> |    X |    X |    X | \n",
       "| <samp style=\"background-color: hsl(60.0, 100.0%, 80%)\" title=\" 50%\"> remove_html_markup:6</samp> |    X |    X |    X | \n",
       "| <samp style=\"background-color: hsl(60.0, 100.0%, 80%)\" title=\" 50%\"> remove_html_markup:7</samp> |    X |    X |    X | \n",
       "| <samp style=\"background-color: hsl(120.0, 50.0%, 80%)\" title=\"  0%\"> remove_html_markup:8</samp> |    - |    X |    - | \n",
       "| <samp style=\"background-color: hsl(60.0, 100.0%, 80%)\" title=\" 50%\"> remove_html_markup:9</samp> |    X |    X |    X | \n",
       "| <samp style=\"background-color: hsl(120.0, 50.0%, 80%)\" title=\"  0%\">remove_html_markup:10</samp> |    - |    X |    - | \n",
       "| <samp style=\"background-color: hsl(60.0, 100.0%, 80%)\" title=\" 50%\">remove_html_markup:11</samp> |    X |    X |    X | \n",
       "| <samp style=\"background-color: hsl(0.0, 100.0%, 80%)\" title=\"100%\">remove_html_markup:12</samp> |    - |    - |    X | \n",
       "| <samp style=\"background-color: hsl(60.0, 100.0%, 80%)\" title=\" 50%\">remove_html_markup:13</samp> |    X |    X |    X | \n",
       "| <samp style=\"background-color: hsl(60.0, 100.0%, 80%)\" title=\" 50%\">remove_html_markup:14</samp> |    X |    X |    X | \n",
       "| <samp style=\"background-color: hsl(60.0, 100.0%, 80%)\" title=\" 50%\">remove_html_markup:16</samp> |    X |    X |    X | \n"
      ],
      "text/plain": [
       "<IPython.core.display.Markdown object>"
      ]
     },
     "execution_count": 163,
     "metadata": {},
     "output_type": "execute_result"
    }
   ],
   "source": [
    "debugger.event_table(args=True, color=True)"
   ]
  },
  {
   "cell_type": "markdown",
   "metadata": {
    "slideshow": {
     "slide_type": "subslide"
    }
   },
   "source": [
    "### Visualizing Suspicious Code\n",
    "\n",
    "If you collected coverage with `CoverageCollector`, you can also visualize the code with similar colors, highlighting suspicious lines:"
   ]
  },
  {
   "cell_type": "code",
   "execution_count": 164,
   "metadata": {
    "execution": {
     "iopub.execute_input": "2025-01-16T09:36:39.556961Z",
     "iopub.status.busy": "2025-01-16T09:36:39.556884Z",
     "iopub.status.idle": "2025-01-16T09:36:39.559959Z",
     "shell.execute_reply": "2025-01-16T09:36:39.559678Z"
    },
    "slideshow": {
     "slide_type": "fragment"
    }
   },
   "outputs": [
    {
     "data": {
      "text/html": [
       "<pre style=\"background-color:hsl(60.0, 100.0%, 80%)\"\n",
       "                    title=\"Line 1:  50%\">   1 def remove_html_markup(s):  # type: ignore</pre>\n",
       "<pre style=\"background-color:hsl(60.0, 100.0%, 80%)\"\n",
       "                    title=\"Line 2:  50%\">   2     tag = False</pre>\n",
       "<pre style=\"background-color:hsl(60.0, 100.0%, 80%)\"\n",
       "                    title=\"Line 3:  50%\">   3     quote = False</pre>\n",
       "<pre style=\"background-color:hsl(60.0, 100.0%, 80%)\"\n",
       "                    title=\"Line 4:  50%\">   4     out = &quot;&quot;</pre>\n",
       "<pre title=\"Line 5: not executed\">   5 &nbsp;</pre>\n",
       "<pre style=\"background-color:hsl(60.0, 100.0%, 80%)\"\n",
       "                    title=\"Line 6:  50%\">   6     for c in s:</pre>\n",
       "<pre style=\"background-color:hsl(60.0, 100.0%, 80%)\"\n",
       "                    title=\"Line 7:  50%\">   7         if c == &#x27;&lt;&#x27; and not quote:</pre>\n",
       "<pre style=\"background-color:hsl(120.0, 50.0%, 80%)\"\n",
       "                    title=\"Line 8:   0%\">   8             tag = True</pre>\n",
       "<pre style=\"background-color:hsl(60.0, 100.0%, 80%)\"\n",
       "                    title=\"Line 9:  50%\">   9         elif c == &#x27;&gt;&#x27; and not quote:</pre>\n",
       "<pre style=\"background-color:hsl(120.0, 50.0%, 80%)\"\n",
       "                    title=\"Line 10:   0%\">  10             tag = False</pre>\n",
       "<pre style=\"background-color:hsl(60.0, 100.0%, 80%)\"\n",
       "                    title=\"Line 11:  50%\">  11         elif c == &#x27;&quot;&#x27; or c == &quot;&#x27;&quot; and tag:</pre>\n",
       "<pre style=\"background-color:hsl(0.0, 100.0%, 80%)\"\n",
       "                    title=\"Line 12: 100%\">  12             quote = not quote</pre>\n",
       "<pre style=\"background-color:hsl(60.0, 100.0%, 80%)\"\n",
       "                    title=\"Line 13:  50%\">  13         elif not tag:</pre>\n",
       "<pre style=\"background-color:hsl(60.0, 100.0%, 80%)\"\n",
       "                    title=\"Line 14:  50%\">  14             out = out + c</pre>\n",
       "<pre title=\"Line 15: not executed\">  15 &nbsp;</pre>\n",
       "<pre style=\"background-color:hsl(60.0, 100.0%, 80%)\"\n",
       "                    title=\"Line 16:  50%\">  16     return out</pre>\n"
      ],
      "text/markdown": [
       "| `remove_html_markup` | `s='abc'` | `s='<b>abc</b>'` | `s='\"abc\"'` | \n",
       "| --------------------- | ---- | ---- | ---- | \n",
       "| <samp style=\"background-color: hsl(60.0, 100.0%, 80%)\" title=\" 50%\"> remove_html_markup:1</samp> |    X |    X |    X | \n",
       "| <samp style=\"background-color: hsl(60.0, 100.0%, 80%)\" title=\" 50%\"> remove_html_markup:2</samp> |    X |    X |    X | \n",
       "| <samp style=\"background-color: hsl(60.0, 100.0%, 80%)\" title=\" 50%\"> remove_html_markup:3</samp> |    X |    X |    X | \n",
       "| <samp style=\"background-color: hsl(60.0, 100.0%, 80%)\" title=\" 50%\"> remove_html_markup:4</samp> |    X |    X |    X | \n",
       "| <samp style=\"background-color: hsl(60.0, 100.0%, 80%)\" title=\" 50%\"> remove_html_markup:6</samp> |    X |    X |    X | \n",
       "| <samp style=\"background-color: hsl(60.0, 100.0%, 80%)\" title=\" 50%\"> remove_html_markup:7</samp> |    X |    X |    X | \n",
       "| <samp style=\"background-color: hsl(120.0, 50.0%, 80%)\" title=\"  0%\"> remove_html_markup:8</samp> |    - |    X |    - | \n",
       "| <samp style=\"background-color: hsl(60.0, 100.0%, 80%)\" title=\" 50%\"> remove_html_markup:9</samp> |    X |    X |    X | \n",
       "| <samp style=\"background-color: hsl(120.0, 50.0%, 80%)\" title=\"  0%\">remove_html_markup:10</samp> |    - |    X |    - | \n",
       "| <samp style=\"background-color: hsl(60.0, 100.0%, 80%)\" title=\" 50%\">remove_html_markup:11</samp> |    X |    X |    X | \n",
       "| <samp style=\"background-color: hsl(0.0, 100.0%, 80%)\" title=\"100%\">remove_html_markup:12</samp> |    - |    - |    X | \n",
       "| <samp style=\"background-color: hsl(60.0, 100.0%, 80%)\" title=\" 50%\">remove_html_markup:13</samp> |    X |    X |    X | \n",
       "| <samp style=\"background-color: hsl(60.0, 100.0%, 80%)\" title=\" 50%\">remove_html_markup:14</samp> |    X |    X |    X | \n",
       "| <samp style=\"background-color: hsl(60.0, 100.0%, 80%)\" title=\" 50%\">remove_html_markup:16</samp> |    X |    X |    X | \n"
      ],
      "text/plain": [
       "[('remove_html_markup', 12), ('remove_html_markup', 2), ('remove_html_markup', 11), ('remove_html_markup', 14), ('remove_html_markup', 3), ('remove_html_markup', 9), ('remove_html_markup', 6), ('remove_html_markup', 4), ('remove_html_markup', 1), ('remove_html_markup', 7), ('remove_html_markup', 16), ('remove_html_markup', 13), ('remove_html_markup', 8), ('remove_html_markup', 10)]"
      ]
     },
     "execution_count": 164,
     "metadata": {},
     "output_type": "execute_result"
    }
   ],
   "source": [
    "debugger"
   ]
  },
  {
   "cell_type": "markdown",
   "metadata": {
    "slideshow": {
     "slide_type": "subslide"
    }
   },
   "source": [
    "### Ranking Events\n",
    "\n",
    "The method `rank()` returns a ranked list of events, starting with the most suspicious. This is useful for automated techniques that need potential defect locations."
   ]
  },
  {
   "cell_type": "code",
   "execution_count": 165,
   "metadata": {
    "execution": {
     "iopub.execute_input": "2025-01-16T09:36:39.561390Z",
     "iopub.status.busy": "2025-01-16T09:36:39.561278Z",
     "iopub.status.idle": "2025-01-16T09:36:39.563467Z",
     "shell.execute_reply": "2025-01-16T09:36:39.563207Z"
    },
    "slideshow": {
     "slide_type": "subslide"
    }
   },
   "outputs": [
    {
     "data": {
      "text/plain": [
       "[('remove_html_markup', 12),\n",
       " ('remove_html_markup', 2),\n",
       " ('remove_html_markup', 11),\n",
       " ('remove_html_markup', 14),\n",
       " ('remove_html_markup', 3),\n",
       " ('remove_html_markup', 9),\n",
       " ('remove_html_markup', 6),\n",
       " ('remove_html_markup', 4),\n",
       " ('remove_html_markup', 1),\n",
       " ('remove_html_markup', 7),\n",
       " ('remove_html_markup', 16),\n",
       " ('remove_html_markup', 13),\n",
       " ('remove_html_markup', 8),\n",
       " ('remove_html_markup', 10)]"
      ]
     },
     "execution_count": 165,
     "metadata": {},
     "output_type": "execute_result"
    }
   ],
   "source": [
    "debugger.rank()"
   ]
  },
  {
   "cell_type": "markdown",
   "metadata": {
    "slideshow": {
     "slide_type": "subslide"
    }
   },
   "source": [
    "### Classes and Methods\n",
    "\n",
    "Here are all classes defined in this chapter:"
   ]
  },
  {
   "cell_type": "code",
   "execution_count": 166,
   "metadata": {
    "execution": {
     "iopub.execute_input": "2025-01-16T09:36:39.564728Z",
     "iopub.status.busy": "2025-01-16T09:36:39.564632Z",
     "iopub.status.idle": "2025-01-16T09:36:39.566194Z",
     "shell.execute_reply": "2025-01-16T09:36:39.565921Z"
    },
    "slideshow": {
     "slide_type": "fragment"
    }
   },
   "outputs": [],
   "source": [
    "# ignore\n",
    "from ClassDiagram import display_class_hierarchy"
   ]
  },
  {
   "cell_type": "code",
   "execution_count": 167,
   "metadata": {
    "execution": {
     "iopub.execute_input": "2025-01-16T09:36:39.567445Z",
     "iopub.status.busy": "2025-01-16T09:36:39.567354Z",
     "iopub.status.idle": "2025-01-16T09:36:40.796204Z",
     "shell.execute_reply": "2025-01-16T09:36:40.794035Z"
    },
    "slideshow": {
     "slide_type": "subslide"
    }
   },
   "outputs": [
    {
     "data": {
      "image/svg+xml": [
       "<?xml version=\"1.0\" encoding=\"UTF-8\" standalone=\"no\"?>\n",
       "<!DOCTYPE svg PUBLIC \"-//W3C//DTD SVG 1.1//EN\"\n",
       " \"http://www.w3.org/Graphics/SVG/1.1/DTD/svg11.dtd\">\n",
       "<!-- Generated by graphviz version 12.2.1 (20241206.2353)\n",
       " -->\n",
       "<!-- Pages: 1 -->\n",
       "<svg width=\"490pt\" height=\"1014pt\"\n",
       " viewBox=\"0.00 0.00 490.00 1013.50\" xmlns=\"http://www.w3.org/2000/svg\" xmlns:xlink=\"http://www.w3.org/1999/xlink\">\n",
       "<g id=\"graph0\" class=\"graph\" transform=\"scale(1 1) rotate(0) translate(4 1009.5)\">\n",
       "<g id=\"a_graph0\"><a xlink:title=\"TarantulaDebugger class hierarchy\">\n",
       "<polygon fill=\"white\" stroke=\"none\" points=\"-4,4 -4,-1009.5 486,-1009.5 486,4 -4,4\"/>\n",
       "</a>\n",
       "</g>\n",
       "<!-- TarantulaDebugger -->\n",
       "<g id=\"node1\" class=\"node\">\n",
       "<title>TarantulaDebugger</title>\n",
       "<g id=\"a_node1\"><a xlink:href=\"#\" xlink:title=\"class TarantulaDebugger:&#10;Spectrum&#45;based Debugger using the Tarantula metric for suspiciousness\">\n",
       "<polygon fill=\"none\" stroke=\"black\" points=\"60,-11.88 60,-47.88 196.75,-47.88 196.75,-11.88 60,-11.88\"/>\n",
       "<text text-anchor=\"start\" x=\"68\" y=\"-26.57\" font-family=\"Raleway, Helvetica, Arial, sans-serif\" font-weight=\"bold\" font-size=\"14.00\" fill=\"#6a0dad\">TarantulaDebugger</text>\n",
       "</a>\n",
       "</g>\n",
       "</g>\n",
       "<!-- ContinuousSpectrumDebugger -->\n",
       "<g id=\"node2\" class=\"node\">\n",
       "<title>ContinuousSpectrumDebugger</title>\n",
       "<g id=\"a_node2\"><a xlink:href=\"#\" xlink:title=\"class ContinuousSpectrumDebugger:&#10;Visualize differences between executions using a color spectrum\">\n",
       "<polygon fill=\"none\" stroke=\"black\" points=\"0,-96.25 0,-257 214.75,-257 214.75,-96.25 0,-96.25\"/>\n",
       "<text text-anchor=\"start\" x=\"8\" y=\"-240.7\" font-family=\"Raleway, Helvetica, Arial, sans-serif\" font-weight=\"bold\" font-size=\"14.00\" fill=\"#6a0dad\">ContinuousSpectrumDebugger</text>\n",
       "<polyline fill=\"none\" stroke=\"black\" points=\"0,-231.75 214.75,-231.75\"/>\n",
       "<g id=\"a_node2_0\"><a xlink:href=\"#\" xlink:title=\"ContinuousSpectrumDebugger\">\n",
       "<g id=\"a_node2_1\"><a xlink:href=\"#\" xlink:title=\"brightness(self, event: Any) &#45;&gt; float\">\n",
       "<text text-anchor=\"start\" x=\"29.38\" y=\"-218.25\" font-family=\"'Fira Mono', 'Source Code Pro', 'Courier', monospace\" font-size=\"10.00\">brightness()</text>\n",
       "</a>\n",
       "</g>\n",
       "<g id=\"a_node2_2\"><a xlink:href=\"#\" xlink:title=\"collectors_with_event(self, event: Any, category: str) &#45;&gt; Set[Collector]:&#10;Return all collectors in a category&#10;that observed the given event.\">\n",
       "<text text-anchor=\"start\" x=\"29.38\" y=\"-205.5\" font-family=\"'Fira Mono', 'Source Code Pro', 'Courier', monospace\" font-size=\"10.00\">collectors_with_event()</text>\n",
       "</a>\n",
       "</g>\n",
       "<g id=\"a_node2_3\"><a xlink:href=\"#\" xlink:title=\"collectors_without_event(self, event: Any, category: str) &#45;&gt; Set[Collector]:&#10;Return all collectors in a category&#10;that did not observe the given event.\">\n",
       "<text text-anchor=\"start\" x=\"29.38\" y=\"-192.75\" font-family=\"'Fira Mono', 'Source Code Pro', 'Courier', monospace\" font-size=\"10.00\">collectors_without_event()</text>\n",
       "</a>\n",
       "</g>\n",
       "<g id=\"a_node2_4\"><a xlink:href=\"#\" xlink:title=\"color(self, event: Any) &#45;&gt; Optional[str]:&#10;Return a HTML color for the given event.\">\n",
       "<text text-anchor=\"start\" x=\"29.38\" y=\"-181\" font-family=\"'Fira Mono', 'Source Code Pro', 'Courier', monospace\" font-style=\"italic\" font-size=\"10.00\">color()</text>\n",
       "</a>\n",
       "</g>\n",
       "<g id=\"a_node2_5\"><a xlink:href=\"#\" xlink:title=\"event_fraction(self, event: Any, category: str) &#45;&gt; float\">\n",
       "<text text-anchor=\"start\" x=\"29.38\" y=\"-167.25\" font-family=\"'Fira Mono', 'Source Code Pro', 'Courier', monospace\" font-size=\"10.00\">event_fraction()</text>\n",
       "</a>\n",
       "</g>\n",
       "<g id=\"a_node2_6\"><a xlink:href=\"#\" xlink:title=\"failed_fraction(self, event: Any) &#45;&gt; float\">\n",
       "<text text-anchor=\"start\" x=\"29.38\" y=\"-154.5\" font-family=\"'Fira Mono', 'Source Code Pro', 'Courier', monospace\" font-size=\"10.00\">failed_fraction()</text>\n",
       "</a>\n",
       "</g>\n",
       "<g id=\"a_node2_7\"><a xlink:href=\"#\" xlink:title=\"hue(self, event: Any) &#45;&gt; Optional[float]:&#10;Return a color hue from 0.0 (red) to 1.0 (green).\">\n",
       "<text text-anchor=\"start\" x=\"29.38\" y=\"-141.75\" font-family=\"'Fira Mono', 'Source Code Pro', 'Courier', monospace\" font-size=\"10.00\">hue()</text>\n",
       "</a>\n",
       "</g>\n",
       "<g id=\"a_node2_8\"><a xlink:href=\"#\" xlink:title=\"passed_fraction(self, event: Any) &#45;&gt; float\">\n",
       "<text text-anchor=\"start\" x=\"29.38\" y=\"-129\" font-family=\"'Fira Mono', 'Source Code Pro', 'Courier', monospace\" font-size=\"10.00\">passed_fraction()</text>\n",
       "</a>\n",
       "</g>\n",
       "<g id=\"a_node2_9\"><a xlink:href=\"#\" xlink:title=\"suspiciousness(self, event: Any) &#45;&gt; Optional[float]:&#10;Return a suspiciousness value [0, 1.0]&#10;for the given event, or `None` if unknown.\">\n",
       "<text text-anchor=\"start\" x=\"29.38\" y=\"-117.25\" font-family=\"'Fira Mono', 'Source Code Pro', 'Courier', monospace\" font-style=\"italic\" font-size=\"10.00\">suspiciousness()</text>\n",
       "</a>\n",
       "</g>\n",
       "<g id=\"a_node2_10\"><a xlink:href=\"#\" xlink:title=\"tooltip(self, event: Any) &#45;&gt; str:&#10;Return a tooltip for the given event.\">\n",
       "<text text-anchor=\"start\" x=\"29.38\" y=\"-104.5\" font-family=\"'Fira Mono', 'Source Code Pro', 'Courier', monospace\" font-style=\"italic\" font-size=\"10.00\">tooltip()</text>\n",
       "</a>\n",
       "</g>\n",
       "</a>\n",
       "</g>\n",
       "</a>\n",
       "</g>\n",
       "</g>\n",
       "<!-- TarantulaDebugger&#45;&gt;ContinuousSpectrumDebugger -->\n",
       "<g id=\"edge1\" class=\"edge\">\n",
       "<title>TarantulaDebugger&#45;&gt;ContinuousSpectrumDebugger</title>\n",
       "<path fill=\"none\" stroke=\"black\" d=\"M125.84,-48.34C124.44,-58.01 122.58,-70.85 120.57,-84.66\"/>\n",
       "<polygon fill=\"none\" stroke=\"black\" points=\"117.13,-84.01 119.16,-94.41 124.06,-85.02 117.13,-84.01\"/>\n",
       "</g>\n",
       "<!-- RankingDebugger -->\n",
       "<g id=\"node7\" class=\"node\">\n",
       "<title>RankingDebugger</title>\n",
       "<g id=\"a_node7\"><a xlink:href=\"#\" xlink:title=\"class RankingDebugger:&#10;Rank events by their suspiciousness\">\n",
       "<polygon fill=\"none\" stroke=\"black\" points=\"232.88,-147.25 232.88,-206 359.88,-206 359.88,-147.25 232.88,-147.25\"/>\n",
       "<text text-anchor=\"start\" x=\"240.88\" y=\"-189.7\" font-family=\"Raleway, Helvetica, Arial, sans-serif\" font-weight=\"bold\" font-style=\"italic\" font-size=\"14.00\" fill=\"#6a0dad\">RankingDebugger</text>\n",
       "<polyline fill=\"none\" stroke=\"black\" points=\"232.88,-180.75 359.88,-180.75\"/>\n",
       "<g id=\"a_node7_11\"><a xlink:href=\"#\" xlink:title=\"RankingDebugger\">\n",
       "<g id=\"a_node7_12\"><a xlink:href=\"#\" xlink:title=\"rank(self) &#45;&gt; List[Any]:&#10;Return a list of events, sorted by suspiciousness, highest first.\">\n",
       "<text text-anchor=\"start\" x=\"266.38\" y=\"-168.25\" font-family=\"'Fira Mono', 'Source Code Pro', 'Courier', monospace\" font-weight=\"bold\" font-size=\"10.00\">rank()</text>\n",
       "</a>\n",
       "</g>\n",
       "<g id=\"a_node7_13\"><a xlink:href=\"#\" xlink:title=\"__repr__(self) &#45;&gt; str:&#10;Show code as string\">\n",
       "<text text-anchor=\"start\" x=\"266.38\" y=\"-155.5\" font-family=\"'Fira Mono', 'Source Code Pro', 'Courier', monospace\" font-style=\"italic\" font-size=\"10.00\">__repr__()</text>\n",
       "</a>\n",
       "</g>\n",
       "</a>\n",
       "</g>\n",
       "</a>\n",
       "</g>\n",
       "</g>\n",
       "<!-- TarantulaDebugger&#45;&gt;RankingDebugger -->\n",
       "<g id=\"edge6\" class=\"edge\">\n",
       "<title>TarantulaDebugger&#45;&gt;RankingDebugger</title>\n",
       "<path fill=\"none\" stroke=\"black\" d=\"M157.48,-48.27C176.96,-60.5 202.71,-77.82 223.38,-95.75 238.18,-108.6 253.04,-124.24 265.46,-138.27\"/>\n",
       "<polygon fill=\"none\" stroke=\"black\" points=\"262.65,-140.37 271.86,-145.61 267.93,-135.77 262.65,-140.37\"/>\n",
       "</g>\n",
       "<!-- DiscreteSpectrumDebugger -->\n",
       "<g id=\"node3\" class=\"node\">\n",
       "<title>DiscreteSpectrumDebugger</title>\n",
       "<g id=\"a_node3\"><a xlink:href=\"#\" xlink:title=\"class DiscreteSpectrumDebugger:&#10;Visualize differences between executions using three discrete colors\">\n",
       "<polygon fill=\"none\" stroke=\"black\" points=\"104.5,-294 104.5,-365.5 298.25,-365.5 298.25,-294 104.5,-294\"/>\n",
       "<text text-anchor=\"start\" x=\"112.5\" y=\"-349.2\" font-family=\"Raleway, Helvetica, Arial, sans-serif\" font-weight=\"bold\" font-size=\"14.00\" fill=\"#6a0dad\">DiscreteSpectrumDebugger</text>\n",
       "<polyline fill=\"none\" stroke=\"black\" points=\"104.5,-340.25 298.25,-340.25\"/>\n",
       "<g id=\"a_node3_14\"><a xlink:href=\"#\" xlink:title=\"DiscreteSpectrumDebugger\">\n",
       "<g id=\"a_node3_15\"><a xlink:href=\"#\" xlink:title=\"color(self, event: Any) &#45;&gt; Optional[str]:&#10;Return a HTML color for the given event.\">\n",
       "<text text-anchor=\"start\" x=\"153.38\" y=\"-327.75\" font-family=\"'Fira Mono', 'Source Code Pro', 'Courier', monospace\" font-style=\"italic\" font-size=\"10.00\">color()</text>\n",
       "</a>\n",
       "</g>\n",
       "<g id=\"a_node3_16\"><a xlink:href=\"#\" xlink:title=\"suspiciousness(self, event: Any) &#45;&gt; Optional[float]:&#10;Return a suspiciousness value [0, 1.0]&#10;for the given event, or `None` if unknown.\">\n",
       "<text text-anchor=\"start\" x=\"153.38\" y=\"-315\" font-family=\"'Fira Mono', 'Source Code Pro', 'Courier', monospace\" font-style=\"italic\" font-size=\"10.00\">suspiciousness()</text>\n",
       "</a>\n",
       "</g>\n",
       "<g id=\"a_node3_17\"><a xlink:href=\"#\" xlink:title=\"tooltip(self, event: Any) &#45;&gt; str:&#10;Return a tooltip for the given event.\">\n",
       "<text text-anchor=\"start\" x=\"153.38\" y=\"-302.25\" font-family=\"'Fira Mono', 'Source Code Pro', 'Courier', monospace\" font-style=\"italic\" font-size=\"10.00\">tooltip()</text>\n",
       "</a>\n",
       "</g>\n",
       "</a>\n",
       "</g>\n",
       "</a>\n",
       "</g>\n",
       "</g>\n",
       "<!-- ContinuousSpectrumDebugger&#45;&gt;DiscreteSpectrumDebugger -->\n",
       "<g id=\"edge2\" class=\"edge\">\n",
       "<title>ContinuousSpectrumDebugger&#45;&gt;DiscreteSpectrumDebugger</title>\n",
       "<path fill=\"none\" stroke=\"black\" d=\"M156.85,-257.17C162.57,-266.37 168.25,-275.49 173.53,-283.99\"/>\n",
       "<polygon fill=\"none\" stroke=\"black\" points=\"170.48,-285.71 178.73,-292.35 176.43,-282.01 170.48,-285.71\"/>\n",
       "</g>\n",
       "<!-- SpectrumDebugger -->\n",
       "<g id=\"node4\" class=\"node\">\n",
       "<title>SpectrumDebugger</title>\n",
       "<g id=\"a_node4\"><a xlink:href=\"#\" xlink:title=\"class SpectrumDebugger:&#10;A class to collect events for passing and failing outcomes.\">\n",
       "<polygon fill=\"none\" stroke=\"black\" points=\"130.38,-402.5 130.38,-525 272.38,-525 272.38,-402.5 130.38,-402.5\"/>\n",
       "<text text-anchor=\"start\" x=\"138.38\" y=\"-508.7\" font-family=\"Raleway, Helvetica, Arial, sans-serif\" font-weight=\"bold\" font-size=\"14.00\" fill=\"#6a0dad\">SpectrumDebugger</text>\n",
       "<polyline fill=\"none\" stroke=\"black\" points=\"130.38,-499.75 272.38,-499.75\"/>\n",
       "<g id=\"a_node4_18\"><a xlink:href=\"#\" xlink:title=\"SpectrumDebugger\">\n",
       "<g id=\"a_node4_19\"><a xlink:href=\"#\" xlink:title=\"__repr__(self) &#45;&gt; str:&#10;Show code as string\">\n",
       "<text text-anchor=\"start\" x=\"153.38\" y=\"-487.25\" font-family=\"'Fira Mono', 'Source Code Pro', 'Courier', monospace\" font-weight=\"bold\" font-style=\"italic\" font-size=\"10.00\">__repr__()</text>\n",
       "</a>\n",
       "</g>\n",
       "<g id=\"a_node4_20\"><a xlink:href=\"#\" xlink:title=\"__str__(self) &#45;&gt; str:&#10;Show code as string\">\n",
       "<text text-anchor=\"start\" x=\"153.38\" y=\"-474.5\" font-family=\"'Fira Mono', 'Source Code Pro', 'Courier', monospace\" font-weight=\"bold\" font-size=\"10.00\">__str__()</text>\n",
       "</a>\n",
       "</g>\n",
       "<g id=\"a_node4_21\"><a xlink:href=\"#\" xlink:title=\"_repr_html_(self) &#45;&gt; str:&#10;When output in Jupyter, visualize as HTML\">\n",
       "<text text-anchor=\"start\" x=\"153.38\" y=\"-461.75\" font-family=\"'Fira Mono', 'Source Code Pro', 'Courier', monospace\" font-weight=\"bold\" font-size=\"10.00\">_repr_html_()</text>\n",
       "</a>\n",
       "</g>\n",
       "<g id=\"a_node4_22\"><a xlink:href=\"#\" xlink:title=\"code(self, functions: Optional[Set[Callable]] = None, *, color: bool = False, suspiciousness: bool = False, line_numbers: bool = True) &#45;&gt; str:&#10;Return a listing of `functions` (default: covered functions).&#10;If `color` is True, render as HTML, using suspiciousness colors.&#10;If `suspiciousness` is True, include suspiciousness values.&#10;If `line_numbers` is True (default), include line numbers.\">\n",
       "<text text-anchor=\"start\" x=\"153.38\" y=\"-449\" font-family=\"'Fira Mono', 'Source Code Pro', 'Courier', monospace\" font-weight=\"bold\" font-size=\"10.00\">code()</text>\n",
       "</a>\n",
       "</g>\n",
       "<g id=\"a_node4_23\"><a xlink:href=\"#\" xlink:title=\"percentage(self, event: Any) &#45;&gt; str:&#10;Return the suspiciousness for the given event as percentage string.\">\n",
       "<text text-anchor=\"start\" x=\"153.38\" y=\"-435.25\" font-family=\"'Fira Mono', 'Source Code Pro', 'Courier', monospace\" font-size=\"10.00\">percentage()</text>\n",
       "</a>\n",
       "</g>\n",
       "<g id=\"a_node4_24\"><a xlink:href=\"#\" xlink:title=\"suspiciousness(self, event: Any) &#45;&gt; Optional[float]:&#10;Return a suspiciousness value in the range [0, 1.0]&#10;for the given event, or `None` if unknown.&#10;To be overloaded in subclasses.\">\n",
       "<text text-anchor=\"start\" x=\"153.38\" y=\"-423.5\" font-family=\"'Fira Mono', 'Source Code Pro', 'Courier', monospace\" font-style=\"italic\" font-size=\"10.00\">suspiciousness()</text>\n",
       "</a>\n",
       "</g>\n",
       "<g id=\"a_node4_25\"><a xlink:href=\"#\" xlink:title=\"tooltip(self, event: Any) &#45;&gt; str:&#10;Return a tooltip for the given event (default: percentage).&#10;To be overloaded in subclasses.\">\n",
       "<text text-anchor=\"start\" x=\"153.38\" y=\"-410.75\" font-family=\"'Fira Mono', 'Source Code Pro', 'Courier', monospace\" font-style=\"italic\" font-size=\"10.00\">tooltip()</text>\n",
       "</a>\n",
       "</g>\n",
       "</a>\n",
       "</g>\n",
       "</a>\n",
       "</g>\n",
       "</g>\n",
       "<!-- DiscreteSpectrumDebugger&#45;&gt;SpectrumDebugger -->\n",
       "<g id=\"edge3\" class=\"edge\">\n",
       "<title>DiscreteSpectrumDebugger&#45;&gt;SpectrumDebugger</title>\n",
       "<path fill=\"none\" stroke=\"black\" d=\"M201.38,-365.78C201.38,-373.53 201.38,-382.02 201.38,-390.65\"/>\n",
       "<polygon fill=\"none\" stroke=\"black\" points=\"197.88,-390.52 201.38,-400.52 204.88,-390.52 197.88,-390.52\"/>\n",
       "</g>\n",
       "<!-- DifferenceDebugger -->\n",
       "<g id=\"node5\" class=\"node\">\n",
       "<title>DifferenceDebugger</title>\n",
       "<g id=\"a_node5\"><a xlink:href=\"#\" xlink:title=\"class DifferenceDebugger:&#10;A class to collect events for passing and failing outcomes.\">\n",
       "<polygon fill=\"none\" stroke=\"black\" points=\"132.62,-562 132.62,-756.25 270.12,-756.25 270.12,-562 132.62,-562\"/>\n",
       "<text text-anchor=\"start\" x=\"140.62\" y=\"-739.95\" font-family=\"Raleway, Helvetica, Arial, sans-serif\" font-weight=\"bold\" font-style=\"italic\" font-size=\"14.00\" fill=\"#6a0dad\">DifferenceDebugger</text>\n",
       "<polyline fill=\"none\" stroke=\"black\" points=\"132.62,-731 270.12,-731\"/>\n",
       "<g id=\"a_node5_26\"><a xlink:href=\"#\" xlink:title=\"DifferenceDebugger\">\n",
       "<g id=\"a_node5_27\"><a xlink:href=\"#\" xlink:title=\"FAIL = &#39;FAIL&#39;\">\n",
       "<text text-anchor=\"start\" x=\"189.38\" y=\"-717.5\" font-family=\"'Fira Mono', 'Source Code Pro', 'Courier', monospace\" font-size=\"10.00\">FAIL</text>\n",
       "</a>\n",
       "</g>\n",
       "<g id=\"a_node5_28\"><a xlink:href=\"#\" xlink:title=\"PASS = &#39;PASS&#39;\">\n",
       "<text text-anchor=\"start\" x=\"189.38\" y=\"-704.75\" font-family=\"'Fira Mono', 'Source Code Pro', 'Courier', monospace\" font-size=\"10.00\">PASS</text>\n",
       "</a>\n",
       "</g>\n",
       "</a>\n",
       "</g>\n",
       "<polyline fill=\"none\" stroke=\"black\" points=\"132.62,-697.5 270.12,-697.5\"/>\n",
       "<g id=\"a_node5_29\"><a xlink:href=\"#\" xlink:title=\"DifferenceDebugger\">\n",
       "<g id=\"a_node5_30\"><a xlink:href=\"#\" xlink:title=\"__enter__(self) &#45;&gt; Any:&#10;Enter a `with` block. Collect coverage and outcome;&#10;classify as FAIL if the block raises an exception,&#10;and PASS if it does not.\">\n",
       "<text text-anchor=\"start\" x=\"147.38\" y=\"-685\" font-family=\"'Fira Mono', 'Source Code Pro', 'Courier', monospace\" font-weight=\"bold\" font-size=\"10.00\">__enter__()</text>\n",
       "</a>\n",
       "</g>\n",
       "<g id=\"a_node5_31\"><a xlink:href=\"#\" xlink:title=\"__exit__(self, exc_tp: Type, exc_value: BaseException, exc_traceback: traceback) &#45;&gt; Optional[bool]:&#10;Exit the `with` block.\">\n",
       "<text text-anchor=\"start\" x=\"147.38\" y=\"-672.25\" font-family=\"'Fira Mono', 'Source Code Pro', 'Courier', monospace\" font-weight=\"bold\" font-size=\"10.00\">__exit__()</text>\n",
       "</a>\n",
       "</g>\n",
       "<g id=\"a_node5_32\"><a xlink:href=\"#\" xlink:title=\"all_fail_events(self) &#45;&gt; Set[Any]:&#10;Return all events observed in failing runs.\">\n",
       "<text text-anchor=\"start\" x=\"147.38\" y=\"-659.5\" font-family=\"'Fira Mono', 'Source Code Pro', 'Courier', monospace\" font-weight=\"bold\" font-size=\"10.00\">all_fail_events()</text>\n",
       "</a>\n",
       "</g>\n",
       "<g id=\"a_node5_33\"><a xlink:href=\"#\" xlink:title=\"all_pass_events(self) &#45;&gt; Set[Any]:&#10;Return all events observed in passing runs.\">\n",
       "<text text-anchor=\"start\" x=\"147.38\" y=\"-646.75\" font-family=\"'Fira Mono', 'Source Code Pro', 'Courier', monospace\" font-weight=\"bold\" font-size=\"10.00\">all_pass_events()</text>\n",
       "</a>\n",
       "</g>\n",
       "<g id=\"a_node5_34\"><a xlink:href=\"#\" xlink:title=\"collect_fail(self, *args: Any, **kwargs: Any) &#45;&gt; Collector:&#10;Return a collector for failing runs.\">\n",
       "<text text-anchor=\"start\" x=\"147.38\" y=\"-634\" font-family=\"'Fira Mono', 'Source Code Pro', 'Courier', monospace\" font-weight=\"bold\" font-size=\"10.00\">collect_fail()</text>\n",
       "</a>\n",
       "</g>\n",
       "<g id=\"a_node5_35\"><a xlink:href=\"#\" xlink:title=\"collect_pass(self, *args: Any, **kwargs: Any) &#45;&gt; Collector:&#10;Return a collector for passing runs.\">\n",
       "<text text-anchor=\"start\" x=\"147.38\" y=\"-621.25\" font-family=\"'Fira Mono', 'Source Code Pro', 'Courier', monospace\" font-weight=\"bold\" font-size=\"10.00\">collect_pass()</text>\n",
       "</a>\n",
       "</g>\n",
       "<g id=\"a_node5_36\"><a xlink:href=\"#\" xlink:title=\"only_fail_events(self) &#45;&gt; Set[Any]:&#10;Return all events observed only in failing runs.\">\n",
       "<text text-anchor=\"start\" x=\"147.38\" y=\"-608.5\" font-family=\"'Fira Mono', 'Source Code Pro', 'Courier', monospace\" font-weight=\"bold\" font-size=\"10.00\">only_fail_events()</text>\n",
       "</a>\n",
       "</g>\n",
       "<g id=\"a_node5_37\"><a xlink:href=\"#\" xlink:title=\"only_pass_events(self) &#45;&gt; Set[Any]:&#10;Return all events observed only in passing runs.\">\n",
       "<text text-anchor=\"start\" x=\"147.38\" y=\"-595.75\" font-family=\"'Fira Mono', 'Source Code Pro', 'Courier', monospace\" font-weight=\"bold\" font-size=\"10.00\">only_pass_events()</text>\n",
       "</a>\n",
       "</g>\n",
       "<g id=\"a_node5_38\"><a xlink:href=\"#\" xlink:title=\"fail_collectors(self) &#45;&gt; List[Collector]\">\n",
       "<text text-anchor=\"start\" x=\"147.38\" y=\"-582\" font-family=\"'Fira Mono', 'Source Code Pro', 'Courier', monospace\" font-size=\"10.00\">fail_collectors()</text>\n",
       "</a>\n",
       "</g>\n",
       "<g id=\"a_node5_39\"><a xlink:href=\"#\" xlink:title=\"pass_collectors(self) &#45;&gt; List[Collector]\">\n",
       "<text text-anchor=\"start\" x=\"147.38\" y=\"-569.25\" font-family=\"'Fira Mono', 'Source Code Pro', 'Courier', monospace\" font-size=\"10.00\">pass_collectors()</text>\n",
       "</a>\n",
       "</g>\n",
       "</a>\n",
       "</g>\n",
       "</a>\n",
       "</g>\n",
       "</g>\n",
       "<!-- SpectrumDebugger&#45;&gt;DifferenceDebugger -->\n",
       "<g id=\"edge4\" class=\"edge\">\n",
       "<title>SpectrumDebugger&#45;&gt;DifferenceDebugger</title>\n",
       "<path fill=\"none\" stroke=\"black\" d=\"M201.38,-525.4C201.38,-533.41 201.38,-541.81 201.38,-550.32\"/>\n",
       "<polygon fill=\"none\" stroke=\"black\" points=\"197.88,-550.04 201.38,-560.04 204.88,-550.04 197.88,-550.04\"/>\n",
       "</g>\n",
       "<!-- StatisticalDebugger -->\n",
       "<g id=\"node6\" class=\"node\">\n",
       "<title>StatisticalDebugger</title>\n",
       "<g id=\"a_node6\"><a xlink:href=\"#\" xlink:title=\"class StatisticalDebugger:&#10;A class to collect events for multiple outcomes.\">\n",
       "<polygon fill=\"none\" stroke=\"black\" points=\"134.12,-793.25 134.12,-1005 268.62,-1005 268.62,-793.25 134.12,-793.25\"/>\n",
       "<text text-anchor=\"start\" x=\"142.12\" y=\"-988.7\" font-family=\"Raleway, Helvetica, Arial, sans-serif\" font-weight=\"bold\" font-style=\"italic\" font-size=\"14.00\" fill=\"#6a0dad\">StatisticalDebugger</text>\n",
       "<polyline fill=\"none\" stroke=\"black\" points=\"134.12,-979.75 268.62,-979.75\"/>\n",
       "<g id=\"a_node6_40\"><a xlink:href=\"#\" xlink:title=\"StatisticalDebugger\">\n",
       "<g id=\"a_node6_41\"><a xlink:href=\"#\" xlink:title=\"__init__(self, collector_class: Type = &lt;class &#39;CoverageCollector&#39;&gt;, log: bool = False):&#10;Constructor. Use instances of `collector_class` to collect events.\">\n",
       "<text text-anchor=\"start\" x=\"144.38\" y=\"-967.25\" font-family=\"'Fira Mono', 'Source Code Pro', 'Courier', monospace\" font-weight=\"bold\" font-size=\"10.00\">__init__()</text>\n",
       "</a>\n",
       "</g>\n",
       "<g id=\"a_node6_42\"><a xlink:href=\"#\" xlink:title=\"all_events(self, outcome: Optional[str] = None) &#45;&gt; Set[Any]:&#10;Return a set of all events observed.\">\n",
       "<text text-anchor=\"start\" x=\"144.38\" y=\"-954.5\" font-family=\"'Fira Mono', 'Source Code Pro', 'Courier', monospace\" font-weight=\"bold\" font-size=\"10.00\">all_events()</text>\n",
       "</a>\n",
       "</g>\n",
       "<g id=\"a_node6_43\"><a xlink:href=\"#\" xlink:title=\"coverage(self) &#45;&gt; Set[Tuple[Callable, int]]:&#10;Return a set of all (functions, line_numbers) observed\">\n",
       "<text text-anchor=\"start\" x=\"144.38\" y=\"-941.75\" font-family=\"'Fira Mono', 'Source Code Pro', 'Courier', monospace\" font-weight=\"bold\" font-size=\"10.00\">coverage()</text>\n",
       "</a>\n",
       "</g>\n",
       "<g id=\"a_node6_44\"><a xlink:href=\"#\" xlink:title=\"covered_functions(self) &#45;&gt; Set[Callable]:&#10;Return a set of all functions observed.\">\n",
       "<text text-anchor=\"start\" x=\"144.38\" y=\"-929\" font-family=\"'Fira Mono', 'Source Code Pro', 'Courier', monospace\" font-weight=\"bold\" font-size=\"10.00\">covered_functions()</text>\n",
       "</a>\n",
       "</g>\n",
       "<g id=\"a_node6_45\"><a xlink:href=\"#\" xlink:title=\"event_table(self, **_args: Any) &#45;&gt; Any:&#10;Print out event table in Markdown format.\">\n",
       "<text text-anchor=\"start\" x=\"144.38\" y=\"-916.25\" font-family=\"'Fira Mono', 'Source Code Pro', 'Courier', monospace\" font-weight=\"bold\" font-size=\"10.00\">event_table()</text>\n",
       "</a>\n",
       "</g>\n",
       "<g id=\"a_node6_46\"><a xlink:href=\"#\" xlink:title=\"function(self) &#45;&gt; Optional[Callable]:&#10;Return the entry function from the events observed,&#10;or None if ambiguous.\">\n",
       "<text text-anchor=\"start\" x=\"144.38\" y=\"-903.5\" font-family=\"'Fira Mono', 'Source Code Pro', 'Courier', monospace\" font-weight=\"bold\" font-size=\"10.00\">function()</text>\n",
       "</a>\n",
       "</g>\n",
       "<g id=\"a_node6_47\"><a xlink:href=\"#\" xlink:title=\"__repr__(self) &#45;&gt; str:&#10;Return repr(self).\">\n",
       "<text text-anchor=\"start\" x=\"144.38\" y=\"-890.75\" font-family=\"'Fira Mono', 'Source Code Pro', 'Courier', monospace\" font-style=\"italic\" font-size=\"10.00\">__repr__()</text>\n",
       "</a>\n",
       "</g>\n",
       "<g id=\"a_node6_48\"><a xlink:href=\"#\" xlink:title=\"_repr_markdown_(self) &#45;&gt; str\">\n",
       "<text text-anchor=\"start\" x=\"144.38\" y=\"-877\" font-family=\"'Fira Mono', 'Source Code Pro', 'Courier', monospace\" font-size=\"10.00\">_repr_markdown_()</text>\n",
       "</a>\n",
       "</g>\n",
       "<g id=\"a_node6_49\"><a xlink:href=\"#\" xlink:title=\"add_collector(self, outcome: str, collector: Collector) &#45;&gt; Collector\">\n",
       "<text text-anchor=\"start\" x=\"144.38\" y=\"-864.25\" font-family=\"'Fira Mono', 'Source Code Pro', 'Courier', monospace\" font-size=\"10.00\">add_collector()</text>\n",
       "</a>\n",
       "</g>\n",
       "<g id=\"a_node6_50\"><a xlink:href=\"#\" xlink:title=\"collect(self, outcome: str, *args: Any, **kwargs: Any) &#45;&gt; Collector:&#10;Return a collector for the given outcome.&#10;Additional args are passed to the collector.\">\n",
       "<text text-anchor=\"start\" x=\"144.38\" y=\"-851.5\" font-family=\"'Fira Mono', 'Source Code Pro', 'Courier', monospace\" font-size=\"10.00\">collect()</text>\n",
       "</a>\n",
       "</g>\n",
       "<g id=\"a_node6_51\"><a xlink:href=\"#\" xlink:title=\"color(self, event: Any) &#45;&gt; Optional[str]:&#10;Return a color for the given event, or None.&#10;To be overloaded in subclasses.\">\n",
       "<text text-anchor=\"start\" x=\"144.38\" y=\"-839.75\" font-family=\"'Fira Mono', 'Source Code Pro', 'Courier', monospace\" font-style=\"italic\" font-size=\"10.00\">color()</text>\n",
       "</a>\n",
       "</g>\n",
       "<g id=\"a_node6_52\"><a xlink:href=\"#\" xlink:title=\"event_str(self, event: Any) &#45;&gt; str:&#10;Format the given event. To be overloaded in subclasses.\">\n",
       "<text text-anchor=\"start\" x=\"144.38\" y=\"-827\" font-family=\"'Fira Mono', 'Source Code Pro', 'Courier', monospace\" font-style=\"italic\" font-size=\"10.00\">event_str()</text>\n",
       "</a>\n",
       "</g>\n",
       "<g id=\"a_node6_53\"><a xlink:href=\"#\" xlink:title=\"event_table_text(self, *, args: bool = False, color: bool = False) &#45;&gt; str:&#10;Print out a table of events observed.&#10;If `args` is True, use arguments as headers.&#10;If `color` is True, use colors.\">\n",
       "<text text-anchor=\"start\" x=\"144.38\" y=\"-813.25\" font-family=\"'Fira Mono', 'Source Code Pro', 'Courier', monospace\" font-size=\"10.00\">event_table_text()</text>\n",
       "</a>\n",
       "</g>\n",
       "<g id=\"a_node6_54\"><a xlink:href=\"#\" xlink:title=\"tooltip(self, event: Any) &#45;&gt; Optional[str]:&#10;Return a tooltip string for the given event, or None.&#10;To be overloaded in subclasses.\">\n",
       "<text text-anchor=\"start\" x=\"144.38\" y=\"-801.5\" font-family=\"'Fira Mono', 'Source Code Pro', 'Courier', monospace\" font-style=\"italic\" font-size=\"10.00\">tooltip()</text>\n",
       "</a>\n",
       "</g>\n",
       "</a>\n",
       "</g>\n",
       "</a>\n",
       "</g>\n",
       "</g>\n",
       "<!-- DifferenceDebugger&#45;&gt;StatisticalDebugger -->\n",
       "<g id=\"edge5\" class=\"edge\">\n",
       "<title>DifferenceDebugger&#45;&gt;StatisticalDebugger</title>\n",
       "<path fill=\"none\" stroke=\"black\" d=\"M201.38,-756.59C201.38,-764.82 201.38,-773.21 201.38,-781.58\"/>\n",
       "<polygon fill=\"none\" stroke=\"black\" points=\"197.88,-781.46 201.38,-791.46 204.88,-781.46 197.88,-781.46\"/>\n",
       "</g>\n",
       "<!-- RankingDebugger&#45;&gt;DiscreteSpectrumDebugger -->\n",
       "<g id=\"edge7\" class=\"edge\">\n",
       "<title>RankingDebugger&#45;&gt;DiscreteSpectrumDebugger</title>\n",
       "<path fill=\"none\" stroke=\"black\" d=\"M278.28,-206.41C264.5,-228.33 245.27,-258.92 229.49,-284.03\"/>\n",
       "<polygon fill=\"none\" stroke=\"black\" points=\"226.57,-282.09 224.21,-292.42 232.5,-285.82 226.57,-282.09\"/>\n",
       "</g>\n",
       "<!-- OchiaiDebugger -->\n",
       "<g id=\"node8\" class=\"node\">\n",
       "<title>OchiaiDebugger</title>\n",
       "<g id=\"a_node8\"><a xlink:href=\"#\" xlink:title=\"class OchiaiDebugger:&#10;Spectrum&#45;based Debugger using the Ochiai metric for suspiciousness\">\n",
       "<polygon fill=\"none\" stroke=\"black\" points=\"225.62,-0.5 225.62,-59.25 345.12,-59.25 345.12,-0.5 225.62,-0.5\"/>\n",
       "<text text-anchor=\"start\" x=\"233.62\" y=\"-42.95\" font-family=\"Raleway, Helvetica, Arial, sans-serif\" font-weight=\"bold\" font-size=\"14.00\" fill=\"#6a0dad\">OchiaiDebugger</text>\n",
       "<polyline fill=\"none\" stroke=\"black\" points=\"225.62,-34 345.12,-34\"/>\n",
       "<g id=\"a_node8_55\"><a xlink:href=\"#\" xlink:title=\"OchiaiDebugger\">\n",
       "<g id=\"a_node8_56\"><a xlink:href=\"#\" xlink:title=\"hue(self, event: Any) &#45;&gt; Optional[float]:&#10;Return a color hue from 0.0 (red) to 1.0 (green).\">\n",
       "<text text-anchor=\"start\" x=\"237.38\" y=\"-21.5\" font-family=\"'Fira Mono', 'Source Code Pro', 'Courier', monospace\" font-style=\"italic\" font-size=\"10.00\">hue()</text>\n",
       "</a>\n",
       "</g>\n",
       "<g id=\"a_node8_57\"><a xlink:href=\"#\" xlink:title=\"suspiciousness(self, event: Any) &#45;&gt; Optional[float]:&#10;Return a suspiciousness value [0, 1.0]&#10;for the given event, or `None` if unknown.\">\n",
       "<text text-anchor=\"start\" x=\"237.38\" y=\"-8.75\" font-family=\"'Fira Mono', 'Source Code Pro', 'Courier', monospace\" font-style=\"italic\" font-size=\"10.00\">suspiciousness()</text>\n",
       "</a>\n",
       "</g>\n",
       "</a>\n",
       "</g>\n",
       "</a>\n",
       "</g>\n",
       "</g>\n",
       "<!-- OchiaiDebugger&#45;&gt;ContinuousSpectrumDebugger -->\n",
       "<g id=\"edge8\" class=\"edge\">\n",
       "<title>OchiaiDebugger&#45;&gt;ContinuousSpectrumDebugger</title>\n",
       "<path fill=\"none\" stroke=\"black\" d=\"M250.21,-59.47C239.4,-68.26 226.9,-78.42 213.88,-89.01\"/>\n",
       "<polygon fill=\"none\" stroke=\"black\" points=\"211.99,-86.04 206.44,-95.07 216.4,-91.47 211.99,-86.04\"/>\n",
       "</g>\n",
       "<!-- OchiaiDebugger&#45;&gt;RankingDebugger -->\n",
       "<g id=\"edge9\" class=\"edge\">\n",
       "<title>OchiaiDebugger&#45;&gt;RankingDebugger</title>\n",
       "<path fill=\"none\" stroke=\"black\" d=\"M287.55,-59.47C289.21,-81.28 291.51,-111.58 293.35,-135.77\"/>\n",
       "<polygon fill=\"none\" stroke=\"black\" points=\"289.84,-135.87 294.09,-145.58 296.82,-135.34 289.84,-135.87\"/>\n",
       "</g>\n",
       "<!-- Legend -->\n",
       "<g id=\"node9\" class=\"node\">\n",
       "<title>Legend</title>\n",
       "<text text-anchor=\"start\" x=\"362.75\" y=\"-45.88\" font-family=\"Raleway, Helvetica, Arial, sans-serif\" font-weight=\"bold\" font-size=\"10.00\" fill=\"#6a0dad\">Legend</text>\n",
       "<text text-anchor=\"start\" x=\"362.75\" y=\"-35.88\" font-family=\"Raleway, Helvetica, Arial, sans-serif\" font-size=\"10.00\">• </text>\n",
       "<text text-anchor=\"start\" x=\"368.75\" y=\"-35.88\" font-family=\"'Fira Mono', 'Source Code Pro', 'Courier', monospace\" font-weight=\"bold\" font-size=\"8.00\">public_method()</text>\n",
       "<text text-anchor=\"start\" x=\"362.75\" y=\"-25.88\" font-family=\"Raleway, Helvetica, Arial, sans-serif\" font-size=\"10.00\">• </text>\n",
       "<text text-anchor=\"start\" x=\"368.75\" y=\"-25.88\" font-family=\"'Fira Mono', 'Source Code Pro', 'Courier', monospace\" font-size=\"8.00\">private_method()</text>\n",
       "<text text-anchor=\"start\" x=\"362.75\" y=\"-15.88\" font-family=\"Raleway, Helvetica, Arial, sans-serif\" font-size=\"10.00\">• </text>\n",
       "<text text-anchor=\"start\" x=\"368.75\" y=\"-15.88\" font-family=\"'Fira Mono', 'Source Code Pro', 'Courier', monospace\" font-style=\"italic\" font-size=\"8.00\">overloaded_method()</text>\n",
       "<text text-anchor=\"start\" x=\"362.75\" y=\"-6.82\" font-family=\"Helvetica,sans-Serif\" font-size=\"9.00\">Hover over names to see doc</text>\n",
       "</g>\n",
       "</g>\n",
       "</svg>\n"
      ],
      "text/html": [
       "<?xml version=\"1.0\" encoding=\"UTF-8\" standalone=\"no\"?>\n",
       "<!DOCTYPE svg PUBLIC \"-//W3C//DTD SVG 1.1//EN\"\n",
       " \"http://www.w3.org/Graphics/SVG/1.1/DTD/svg11.dtd\">\n",
       "<!-- Generated by graphviz version 12.2.1 (20241206.2353)\n",
       " -->\n",
       "<!-- Pages: 1 -->\n",
       "<svg width=\"490pt\" height=\"1014pt\"\n",
       " viewBox=\"0.00 0.00 490.00 1013.50\" xmlns=\"http://www.w3.org/2000/svg\" xmlns:xlink=\"http://www.w3.org/1999/xlink\">\n",
       "<g id=\"graph0\" class=\"graph\" transform=\"scale(1 1) rotate(0) translate(4 1009.5)\">\n",
       "<g id=\"a_graph0\"><a xlink:title=\"TarantulaDebugger class hierarchy\">\n",
       "<polygon fill=\"white\" stroke=\"none\" points=\"-4,4 -4,-1009.5 486,-1009.5 486,4 -4,4\"/>\n",
       "</a>\n",
       "</g>\n",
       "<!-- TarantulaDebugger -->\n",
       "<g id=\"node1\" class=\"node\">\n",
       "<title>TarantulaDebugger</title>\n",
       "<g id=\"a_node1\"><a xlink:href=\"#\" xlink:title=\"class TarantulaDebugger:&#10;Spectrum&#45;based Debugger using the Tarantula metric for suspiciousness\">\n",
       "<polygon fill=\"none\" stroke=\"black\" points=\"60,-11.88 60,-47.88 196.75,-47.88 196.75,-11.88 60,-11.88\"/>\n",
       "<text text-anchor=\"start\" x=\"68\" y=\"-26.57\" font-family=\"Raleway, Helvetica, Arial, sans-serif\" font-weight=\"bold\" font-size=\"14.00\" fill=\"#6a0dad\">TarantulaDebugger</text>\n",
       "</a>\n",
       "</g>\n",
       "</g>\n",
       "<!-- ContinuousSpectrumDebugger -->\n",
       "<g id=\"node2\" class=\"node\">\n",
       "<title>ContinuousSpectrumDebugger</title>\n",
       "<g id=\"a_node2\"><a xlink:href=\"#\" xlink:title=\"class ContinuousSpectrumDebugger:&#10;Visualize differences between executions using a color spectrum\">\n",
       "<polygon fill=\"none\" stroke=\"black\" points=\"0,-96.25 0,-257 214.75,-257 214.75,-96.25 0,-96.25\"/>\n",
       "<text text-anchor=\"start\" x=\"8\" y=\"-240.7\" font-family=\"Raleway, Helvetica, Arial, sans-serif\" font-weight=\"bold\" font-size=\"14.00\" fill=\"#6a0dad\">ContinuousSpectrumDebugger</text>\n",
       "<polyline fill=\"none\" stroke=\"black\" points=\"0,-231.75 214.75,-231.75\"/>\n",
       "<g id=\"a_node2_0\"><a xlink:href=\"#\" xlink:title=\"ContinuousSpectrumDebugger\">\n",
       "<g id=\"a_node2_1\"><a xlink:href=\"#\" xlink:title=\"brightness(self, event: Any) &#45;&gt; float\">\n",
       "<text text-anchor=\"start\" x=\"29.38\" y=\"-218.25\" font-family=\"'Fira Mono', 'Source Code Pro', 'Courier', monospace\" font-size=\"10.00\">brightness()</text>\n",
       "</a>\n",
       "</g>\n",
       "<g id=\"a_node2_2\"><a xlink:href=\"#\" xlink:title=\"collectors_with_event(self, event: Any, category: str) &#45;&gt; Set[Collector]:&#10;Return all collectors in a category&#10;that observed the given event.\">\n",
       "<text text-anchor=\"start\" x=\"29.38\" y=\"-205.5\" font-family=\"'Fira Mono', 'Source Code Pro', 'Courier', monospace\" font-size=\"10.00\">collectors_with_event()</text>\n",
       "</a>\n",
       "</g>\n",
       "<g id=\"a_node2_3\"><a xlink:href=\"#\" xlink:title=\"collectors_without_event(self, event: Any, category: str) &#45;&gt; Set[Collector]:&#10;Return all collectors in a category&#10;that did not observe the given event.\">\n",
       "<text text-anchor=\"start\" x=\"29.38\" y=\"-192.75\" font-family=\"'Fira Mono', 'Source Code Pro', 'Courier', monospace\" font-size=\"10.00\">collectors_without_event()</text>\n",
       "</a>\n",
       "</g>\n",
       "<g id=\"a_node2_4\"><a xlink:href=\"#\" xlink:title=\"color(self, event: Any) &#45;&gt; Optional[str]:&#10;Return a HTML color for the given event.\">\n",
       "<text text-anchor=\"start\" x=\"29.38\" y=\"-181\" font-family=\"'Fira Mono', 'Source Code Pro', 'Courier', monospace\" font-style=\"italic\" font-size=\"10.00\">color()</text>\n",
       "</a>\n",
       "</g>\n",
       "<g id=\"a_node2_5\"><a xlink:href=\"#\" xlink:title=\"event_fraction(self, event: Any, category: str) &#45;&gt; float\">\n",
       "<text text-anchor=\"start\" x=\"29.38\" y=\"-167.25\" font-family=\"'Fira Mono', 'Source Code Pro', 'Courier', monospace\" font-size=\"10.00\">event_fraction()</text>\n",
       "</a>\n",
       "</g>\n",
       "<g id=\"a_node2_6\"><a xlink:href=\"#\" xlink:title=\"failed_fraction(self, event: Any) &#45;&gt; float\">\n",
       "<text text-anchor=\"start\" x=\"29.38\" y=\"-154.5\" font-family=\"'Fira Mono', 'Source Code Pro', 'Courier', monospace\" font-size=\"10.00\">failed_fraction()</text>\n",
       "</a>\n",
       "</g>\n",
       "<g id=\"a_node2_7\"><a xlink:href=\"#\" xlink:title=\"hue(self, event: Any) &#45;&gt; Optional[float]:&#10;Return a color hue from 0.0 (red) to 1.0 (green).\">\n",
       "<text text-anchor=\"start\" x=\"29.38\" y=\"-141.75\" font-family=\"'Fira Mono', 'Source Code Pro', 'Courier', monospace\" font-size=\"10.00\">hue()</text>\n",
       "</a>\n",
       "</g>\n",
       "<g id=\"a_node2_8\"><a xlink:href=\"#\" xlink:title=\"passed_fraction(self, event: Any) &#45;&gt; float\">\n",
       "<text text-anchor=\"start\" x=\"29.38\" y=\"-129\" font-family=\"'Fira Mono', 'Source Code Pro', 'Courier', monospace\" font-size=\"10.00\">passed_fraction()</text>\n",
       "</a>\n",
       "</g>\n",
       "<g id=\"a_node2_9\"><a xlink:href=\"#\" xlink:title=\"suspiciousness(self, event: Any) &#45;&gt; Optional[float]:&#10;Return a suspiciousness value [0, 1.0]&#10;for the given event, or `None` if unknown.\">\n",
       "<text text-anchor=\"start\" x=\"29.38\" y=\"-117.25\" font-family=\"'Fira Mono', 'Source Code Pro', 'Courier', monospace\" font-style=\"italic\" font-size=\"10.00\">suspiciousness()</text>\n",
       "</a>\n",
       "</g>\n",
       "<g id=\"a_node2_10\"><a xlink:href=\"#\" xlink:title=\"tooltip(self, event: Any) &#45;&gt; str:&#10;Return a tooltip for the given event.\">\n",
       "<text text-anchor=\"start\" x=\"29.38\" y=\"-104.5\" font-family=\"'Fira Mono', 'Source Code Pro', 'Courier', monospace\" font-style=\"italic\" font-size=\"10.00\">tooltip()</text>\n",
       "</a>\n",
       "</g>\n",
       "</a>\n",
       "</g>\n",
       "</a>\n",
       "</g>\n",
       "</g>\n",
       "<!-- TarantulaDebugger&#45;&gt;ContinuousSpectrumDebugger -->\n",
       "<g id=\"edge1\" class=\"edge\">\n",
       "<title>TarantulaDebugger&#45;&gt;ContinuousSpectrumDebugger</title>\n",
       "<path fill=\"none\" stroke=\"black\" d=\"M125.84,-48.34C124.44,-58.01 122.58,-70.85 120.57,-84.66\"/>\n",
       "<polygon fill=\"none\" stroke=\"black\" points=\"117.13,-84.01 119.16,-94.41 124.06,-85.02 117.13,-84.01\"/>\n",
       "</g>\n",
       "<!-- RankingDebugger -->\n",
       "<g id=\"node7\" class=\"node\">\n",
       "<title>RankingDebugger</title>\n",
       "<g id=\"a_node7\"><a xlink:href=\"#\" xlink:title=\"class RankingDebugger:&#10;Rank events by their suspiciousness\">\n",
       "<polygon fill=\"none\" stroke=\"black\" points=\"232.88,-147.25 232.88,-206 359.88,-206 359.88,-147.25 232.88,-147.25\"/>\n",
       "<text text-anchor=\"start\" x=\"240.88\" y=\"-189.7\" font-family=\"Raleway, Helvetica, Arial, sans-serif\" font-weight=\"bold\" font-style=\"italic\" font-size=\"14.00\" fill=\"#6a0dad\">RankingDebugger</text>\n",
       "<polyline fill=\"none\" stroke=\"black\" points=\"232.88,-180.75 359.88,-180.75\"/>\n",
       "<g id=\"a_node7_11\"><a xlink:href=\"#\" xlink:title=\"RankingDebugger\">\n",
       "<g id=\"a_node7_12\"><a xlink:href=\"#\" xlink:title=\"rank(self) &#45;&gt; List[Any]:&#10;Return a list of events, sorted by suspiciousness, highest first.\">\n",
       "<text text-anchor=\"start\" x=\"266.38\" y=\"-168.25\" font-family=\"'Fira Mono', 'Source Code Pro', 'Courier', monospace\" font-weight=\"bold\" font-size=\"10.00\">rank()</text>\n",
       "</a>\n",
       "</g>\n",
       "<g id=\"a_node7_13\"><a xlink:href=\"#\" xlink:title=\"__repr__(self) &#45;&gt; str:&#10;Show code as string\">\n",
       "<text text-anchor=\"start\" x=\"266.38\" y=\"-155.5\" font-family=\"'Fira Mono', 'Source Code Pro', 'Courier', monospace\" font-style=\"italic\" font-size=\"10.00\">__repr__()</text>\n",
       "</a>\n",
       "</g>\n",
       "</a>\n",
       "</g>\n",
       "</a>\n",
       "</g>\n",
       "</g>\n",
       "<!-- TarantulaDebugger&#45;&gt;RankingDebugger -->\n",
       "<g id=\"edge6\" class=\"edge\">\n",
       "<title>TarantulaDebugger&#45;&gt;RankingDebugger</title>\n",
       "<path fill=\"none\" stroke=\"black\" d=\"M157.48,-48.27C176.96,-60.5 202.71,-77.82 223.38,-95.75 238.18,-108.6 253.04,-124.24 265.46,-138.27\"/>\n",
       "<polygon fill=\"none\" stroke=\"black\" points=\"262.65,-140.37 271.86,-145.61 267.93,-135.77 262.65,-140.37\"/>\n",
       "</g>\n",
       "<!-- DiscreteSpectrumDebugger -->\n",
       "<g id=\"node3\" class=\"node\">\n",
       "<title>DiscreteSpectrumDebugger</title>\n",
       "<g id=\"a_node3\"><a xlink:href=\"#\" xlink:title=\"class DiscreteSpectrumDebugger:&#10;Visualize differences between executions using three discrete colors\">\n",
       "<polygon fill=\"none\" stroke=\"black\" points=\"104.5,-294 104.5,-365.5 298.25,-365.5 298.25,-294 104.5,-294\"/>\n",
       "<text text-anchor=\"start\" x=\"112.5\" y=\"-349.2\" font-family=\"Raleway, Helvetica, Arial, sans-serif\" font-weight=\"bold\" font-size=\"14.00\" fill=\"#6a0dad\">DiscreteSpectrumDebugger</text>\n",
       "<polyline fill=\"none\" stroke=\"black\" points=\"104.5,-340.25 298.25,-340.25\"/>\n",
       "<g id=\"a_node3_14\"><a xlink:href=\"#\" xlink:title=\"DiscreteSpectrumDebugger\">\n",
       "<g id=\"a_node3_15\"><a xlink:href=\"#\" xlink:title=\"color(self, event: Any) &#45;&gt; Optional[str]:&#10;Return a HTML color for the given event.\">\n",
       "<text text-anchor=\"start\" x=\"153.38\" y=\"-327.75\" font-family=\"'Fira Mono', 'Source Code Pro', 'Courier', monospace\" font-style=\"italic\" font-size=\"10.00\">color()</text>\n",
       "</a>\n",
       "</g>\n",
       "<g id=\"a_node3_16\"><a xlink:href=\"#\" xlink:title=\"suspiciousness(self, event: Any) &#45;&gt; Optional[float]:&#10;Return a suspiciousness value [0, 1.0]&#10;for the given event, or `None` if unknown.\">\n",
       "<text text-anchor=\"start\" x=\"153.38\" y=\"-315\" font-family=\"'Fira Mono', 'Source Code Pro', 'Courier', monospace\" font-style=\"italic\" font-size=\"10.00\">suspiciousness()</text>\n",
       "</a>\n",
       "</g>\n",
       "<g id=\"a_node3_17\"><a xlink:href=\"#\" xlink:title=\"tooltip(self, event: Any) &#45;&gt; str:&#10;Return a tooltip for the given event.\">\n",
       "<text text-anchor=\"start\" x=\"153.38\" y=\"-302.25\" font-family=\"'Fira Mono', 'Source Code Pro', 'Courier', monospace\" font-style=\"italic\" font-size=\"10.00\">tooltip()</text>\n",
       "</a>\n",
       "</g>\n",
       "</a>\n",
       "</g>\n",
       "</a>\n",
       "</g>\n",
       "</g>\n",
       "<!-- ContinuousSpectrumDebugger&#45;&gt;DiscreteSpectrumDebugger -->\n",
       "<g id=\"edge2\" class=\"edge\">\n",
       "<title>ContinuousSpectrumDebugger&#45;&gt;DiscreteSpectrumDebugger</title>\n",
       "<path fill=\"none\" stroke=\"black\" d=\"M156.85,-257.17C162.57,-266.37 168.25,-275.49 173.53,-283.99\"/>\n",
       "<polygon fill=\"none\" stroke=\"black\" points=\"170.48,-285.71 178.73,-292.35 176.43,-282.01 170.48,-285.71\"/>\n",
       "</g>\n",
       "<!-- SpectrumDebugger -->\n",
       "<g id=\"node4\" class=\"node\">\n",
       "<title>SpectrumDebugger</title>\n",
       "<g id=\"a_node4\"><a xlink:href=\"#\" xlink:title=\"class SpectrumDebugger:&#10;A class to collect events for passing and failing outcomes.\">\n",
       "<polygon fill=\"none\" stroke=\"black\" points=\"130.38,-402.5 130.38,-525 272.38,-525 272.38,-402.5 130.38,-402.5\"/>\n",
       "<text text-anchor=\"start\" x=\"138.38\" y=\"-508.7\" font-family=\"Raleway, Helvetica, Arial, sans-serif\" font-weight=\"bold\" font-size=\"14.00\" fill=\"#6a0dad\">SpectrumDebugger</text>\n",
       "<polyline fill=\"none\" stroke=\"black\" points=\"130.38,-499.75 272.38,-499.75\"/>\n",
       "<g id=\"a_node4_18\"><a xlink:href=\"#\" xlink:title=\"SpectrumDebugger\">\n",
       "<g id=\"a_node4_19\"><a xlink:href=\"#\" xlink:title=\"__repr__(self) &#45;&gt; str:&#10;Show code as string\">\n",
       "<text text-anchor=\"start\" x=\"153.38\" y=\"-487.25\" font-family=\"'Fira Mono', 'Source Code Pro', 'Courier', monospace\" font-weight=\"bold\" font-style=\"italic\" font-size=\"10.00\">__repr__()</text>\n",
       "</a>\n",
       "</g>\n",
       "<g id=\"a_node4_20\"><a xlink:href=\"#\" xlink:title=\"__str__(self) &#45;&gt; str:&#10;Show code as string\">\n",
       "<text text-anchor=\"start\" x=\"153.38\" y=\"-474.5\" font-family=\"'Fira Mono', 'Source Code Pro', 'Courier', monospace\" font-weight=\"bold\" font-size=\"10.00\">__str__()</text>\n",
       "</a>\n",
       "</g>\n",
       "<g id=\"a_node4_21\"><a xlink:href=\"#\" xlink:title=\"_repr_html_(self) &#45;&gt; str:&#10;When output in Jupyter, visualize as HTML\">\n",
       "<text text-anchor=\"start\" x=\"153.38\" y=\"-461.75\" font-family=\"'Fira Mono', 'Source Code Pro', 'Courier', monospace\" font-weight=\"bold\" font-size=\"10.00\">_repr_html_()</text>\n",
       "</a>\n",
       "</g>\n",
       "<g id=\"a_node4_22\"><a xlink:href=\"#\" xlink:title=\"code(self, functions: Optional[Set[Callable]] = None, *, color: bool = False, suspiciousness: bool = False, line_numbers: bool = True) &#45;&gt; str:&#10;Return a listing of `functions` (default: covered functions).&#10;If `color` is True, render as HTML, using suspiciousness colors.&#10;If `suspiciousness` is True, include suspiciousness values.&#10;If `line_numbers` is True (default), include line numbers.\">\n",
       "<text text-anchor=\"start\" x=\"153.38\" y=\"-449\" font-family=\"'Fira Mono', 'Source Code Pro', 'Courier', monospace\" font-weight=\"bold\" font-size=\"10.00\">code()</text>\n",
       "</a>\n",
       "</g>\n",
       "<g id=\"a_node4_23\"><a xlink:href=\"#\" xlink:title=\"percentage(self, event: Any) &#45;&gt; str:&#10;Return the suspiciousness for the given event as percentage string.\">\n",
       "<text text-anchor=\"start\" x=\"153.38\" y=\"-435.25\" font-family=\"'Fira Mono', 'Source Code Pro', 'Courier', monospace\" font-size=\"10.00\">percentage()</text>\n",
       "</a>\n",
       "</g>\n",
       "<g id=\"a_node4_24\"><a xlink:href=\"#\" xlink:title=\"suspiciousness(self, event: Any) &#45;&gt; Optional[float]:&#10;Return a suspiciousness value in the range [0, 1.0]&#10;for the given event, or `None` if unknown.&#10;To be overloaded in subclasses.\">\n",
       "<text text-anchor=\"start\" x=\"153.38\" y=\"-423.5\" font-family=\"'Fira Mono', 'Source Code Pro', 'Courier', monospace\" font-style=\"italic\" font-size=\"10.00\">suspiciousness()</text>\n",
       "</a>\n",
       "</g>\n",
       "<g id=\"a_node4_25\"><a xlink:href=\"#\" xlink:title=\"tooltip(self, event: Any) &#45;&gt; str:&#10;Return a tooltip for the given event (default: percentage).&#10;To be overloaded in subclasses.\">\n",
       "<text text-anchor=\"start\" x=\"153.38\" y=\"-410.75\" font-family=\"'Fira Mono', 'Source Code Pro', 'Courier', monospace\" font-style=\"italic\" font-size=\"10.00\">tooltip()</text>\n",
       "</a>\n",
       "</g>\n",
       "</a>\n",
       "</g>\n",
       "</a>\n",
       "</g>\n",
       "</g>\n",
       "<!-- DiscreteSpectrumDebugger&#45;&gt;SpectrumDebugger -->\n",
       "<g id=\"edge3\" class=\"edge\">\n",
       "<title>DiscreteSpectrumDebugger&#45;&gt;SpectrumDebugger</title>\n",
       "<path fill=\"none\" stroke=\"black\" d=\"M201.38,-365.78C201.38,-373.53 201.38,-382.02 201.38,-390.65\"/>\n",
       "<polygon fill=\"none\" stroke=\"black\" points=\"197.88,-390.52 201.38,-400.52 204.88,-390.52 197.88,-390.52\"/>\n",
       "</g>\n",
       "<!-- DifferenceDebugger -->\n",
       "<g id=\"node5\" class=\"node\">\n",
       "<title>DifferenceDebugger</title>\n",
       "<g id=\"a_node5\"><a xlink:href=\"#\" xlink:title=\"class DifferenceDebugger:&#10;A class to collect events for passing and failing outcomes.\">\n",
       "<polygon fill=\"none\" stroke=\"black\" points=\"132.62,-562 132.62,-756.25 270.12,-756.25 270.12,-562 132.62,-562\"/>\n",
       "<text text-anchor=\"start\" x=\"140.62\" y=\"-739.95\" font-family=\"Raleway, Helvetica, Arial, sans-serif\" font-weight=\"bold\" font-style=\"italic\" font-size=\"14.00\" fill=\"#6a0dad\">DifferenceDebugger</text>\n",
       "<polyline fill=\"none\" stroke=\"black\" points=\"132.62,-731 270.12,-731\"/>\n",
       "<g id=\"a_node5_26\"><a xlink:href=\"#\" xlink:title=\"DifferenceDebugger\">\n",
       "<g id=\"a_node5_27\"><a xlink:href=\"#\" xlink:title=\"FAIL = &#39;FAIL&#39;\">\n",
       "<text text-anchor=\"start\" x=\"189.38\" y=\"-717.5\" font-family=\"'Fira Mono', 'Source Code Pro', 'Courier', monospace\" font-size=\"10.00\">FAIL</text>\n",
       "</a>\n",
       "</g>\n",
       "<g id=\"a_node5_28\"><a xlink:href=\"#\" xlink:title=\"PASS = &#39;PASS&#39;\">\n",
       "<text text-anchor=\"start\" x=\"189.38\" y=\"-704.75\" font-family=\"'Fira Mono', 'Source Code Pro', 'Courier', monospace\" font-size=\"10.00\">PASS</text>\n",
       "</a>\n",
       "</g>\n",
       "</a>\n",
       "</g>\n",
       "<polyline fill=\"none\" stroke=\"black\" points=\"132.62,-697.5 270.12,-697.5\"/>\n",
       "<g id=\"a_node5_29\"><a xlink:href=\"#\" xlink:title=\"DifferenceDebugger\">\n",
       "<g id=\"a_node5_30\"><a xlink:href=\"#\" xlink:title=\"__enter__(self) &#45;&gt; Any:&#10;Enter a `with` block. Collect coverage and outcome;&#10;classify as FAIL if the block raises an exception,&#10;and PASS if it does not.\">\n",
       "<text text-anchor=\"start\" x=\"147.38\" y=\"-685\" font-family=\"'Fira Mono', 'Source Code Pro', 'Courier', monospace\" font-weight=\"bold\" font-size=\"10.00\">__enter__()</text>\n",
       "</a>\n",
       "</g>\n",
       "<g id=\"a_node5_31\"><a xlink:href=\"#\" xlink:title=\"__exit__(self, exc_tp: Type, exc_value: BaseException, exc_traceback: traceback) &#45;&gt; Optional[bool]:&#10;Exit the `with` block.\">\n",
       "<text text-anchor=\"start\" x=\"147.38\" y=\"-672.25\" font-family=\"'Fira Mono', 'Source Code Pro', 'Courier', monospace\" font-weight=\"bold\" font-size=\"10.00\">__exit__()</text>\n",
       "</a>\n",
       "</g>\n",
       "<g id=\"a_node5_32\"><a xlink:href=\"#\" xlink:title=\"all_fail_events(self) &#45;&gt; Set[Any]:&#10;Return all events observed in failing runs.\">\n",
       "<text text-anchor=\"start\" x=\"147.38\" y=\"-659.5\" font-family=\"'Fira Mono', 'Source Code Pro', 'Courier', monospace\" font-weight=\"bold\" font-size=\"10.00\">all_fail_events()</text>\n",
       "</a>\n",
       "</g>\n",
       "<g id=\"a_node5_33\"><a xlink:href=\"#\" xlink:title=\"all_pass_events(self) &#45;&gt; Set[Any]:&#10;Return all events observed in passing runs.\">\n",
       "<text text-anchor=\"start\" x=\"147.38\" y=\"-646.75\" font-family=\"'Fira Mono', 'Source Code Pro', 'Courier', monospace\" font-weight=\"bold\" font-size=\"10.00\">all_pass_events()</text>\n",
       "</a>\n",
       "</g>\n",
       "<g id=\"a_node5_34\"><a xlink:href=\"#\" xlink:title=\"collect_fail(self, *args: Any, **kwargs: Any) &#45;&gt; Collector:&#10;Return a collector for failing runs.\">\n",
       "<text text-anchor=\"start\" x=\"147.38\" y=\"-634\" font-family=\"'Fira Mono', 'Source Code Pro', 'Courier', monospace\" font-weight=\"bold\" font-size=\"10.00\">collect_fail()</text>\n",
       "</a>\n",
       "</g>\n",
       "<g id=\"a_node5_35\"><a xlink:href=\"#\" xlink:title=\"collect_pass(self, *args: Any, **kwargs: Any) &#45;&gt; Collector:&#10;Return a collector for passing runs.\">\n",
       "<text text-anchor=\"start\" x=\"147.38\" y=\"-621.25\" font-family=\"'Fira Mono', 'Source Code Pro', 'Courier', monospace\" font-weight=\"bold\" font-size=\"10.00\">collect_pass()</text>\n",
       "</a>\n",
       "</g>\n",
       "<g id=\"a_node5_36\"><a xlink:href=\"#\" xlink:title=\"only_fail_events(self) &#45;&gt; Set[Any]:&#10;Return all events observed only in failing runs.\">\n",
       "<text text-anchor=\"start\" x=\"147.38\" y=\"-608.5\" font-family=\"'Fira Mono', 'Source Code Pro', 'Courier', monospace\" font-weight=\"bold\" font-size=\"10.00\">only_fail_events()</text>\n",
       "</a>\n",
       "</g>\n",
       "<g id=\"a_node5_37\"><a xlink:href=\"#\" xlink:title=\"only_pass_events(self) &#45;&gt; Set[Any]:&#10;Return all events observed only in passing runs.\">\n",
       "<text text-anchor=\"start\" x=\"147.38\" y=\"-595.75\" font-family=\"'Fira Mono', 'Source Code Pro', 'Courier', monospace\" font-weight=\"bold\" font-size=\"10.00\">only_pass_events()</text>\n",
       "</a>\n",
       "</g>\n",
       "<g id=\"a_node5_38\"><a xlink:href=\"#\" xlink:title=\"fail_collectors(self) &#45;&gt; List[Collector]\">\n",
       "<text text-anchor=\"start\" x=\"147.38\" y=\"-582\" font-family=\"'Fira Mono', 'Source Code Pro', 'Courier', monospace\" font-size=\"10.00\">fail_collectors()</text>\n",
       "</a>\n",
       "</g>\n",
       "<g id=\"a_node5_39\"><a xlink:href=\"#\" xlink:title=\"pass_collectors(self) &#45;&gt; List[Collector]\">\n",
       "<text text-anchor=\"start\" x=\"147.38\" y=\"-569.25\" font-family=\"'Fira Mono', 'Source Code Pro', 'Courier', monospace\" font-size=\"10.00\">pass_collectors()</text>\n",
       "</a>\n",
       "</g>\n",
       "</a>\n",
       "</g>\n",
       "</a>\n",
       "</g>\n",
       "</g>\n",
       "<!-- SpectrumDebugger&#45;&gt;DifferenceDebugger -->\n",
       "<g id=\"edge4\" class=\"edge\">\n",
       "<title>SpectrumDebugger&#45;&gt;DifferenceDebugger</title>\n",
       "<path fill=\"none\" stroke=\"black\" d=\"M201.38,-525.4C201.38,-533.41 201.38,-541.81 201.38,-550.32\"/>\n",
       "<polygon fill=\"none\" stroke=\"black\" points=\"197.88,-550.04 201.38,-560.04 204.88,-550.04 197.88,-550.04\"/>\n",
       "</g>\n",
       "<!-- StatisticalDebugger -->\n",
       "<g id=\"node6\" class=\"node\">\n",
       "<title>StatisticalDebugger</title>\n",
       "<g id=\"a_node6\"><a xlink:href=\"#\" xlink:title=\"class StatisticalDebugger:&#10;A class to collect events for multiple outcomes.\">\n",
       "<polygon fill=\"none\" stroke=\"black\" points=\"134.12,-793.25 134.12,-1005 268.62,-1005 268.62,-793.25 134.12,-793.25\"/>\n",
       "<text text-anchor=\"start\" x=\"142.12\" y=\"-988.7\" font-family=\"Raleway, Helvetica, Arial, sans-serif\" font-weight=\"bold\" font-style=\"italic\" font-size=\"14.00\" fill=\"#6a0dad\">StatisticalDebugger</text>\n",
       "<polyline fill=\"none\" stroke=\"black\" points=\"134.12,-979.75 268.62,-979.75\"/>\n",
       "<g id=\"a_node6_40\"><a xlink:href=\"#\" xlink:title=\"StatisticalDebugger\">\n",
       "<g id=\"a_node6_41\"><a xlink:href=\"#\" xlink:title=\"__init__(self, collector_class: Type = &lt;class &#39;CoverageCollector&#39;&gt;, log: bool = False):&#10;Constructor. Use instances of `collector_class` to collect events.\">\n",
       "<text text-anchor=\"start\" x=\"144.38\" y=\"-967.25\" font-family=\"'Fira Mono', 'Source Code Pro', 'Courier', monospace\" font-weight=\"bold\" font-size=\"10.00\">__init__()</text>\n",
       "</a>\n",
       "</g>\n",
       "<g id=\"a_node6_42\"><a xlink:href=\"#\" xlink:title=\"all_events(self, outcome: Optional[str] = None) &#45;&gt; Set[Any]:&#10;Return a set of all events observed.\">\n",
       "<text text-anchor=\"start\" x=\"144.38\" y=\"-954.5\" font-family=\"'Fira Mono', 'Source Code Pro', 'Courier', monospace\" font-weight=\"bold\" font-size=\"10.00\">all_events()</text>\n",
       "</a>\n",
       "</g>\n",
       "<g id=\"a_node6_43\"><a xlink:href=\"#\" xlink:title=\"coverage(self) &#45;&gt; Set[Tuple[Callable, int]]:&#10;Return a set of all (functions, line_numbers) observed\">\n",
       "<text text-anchor=\"start\" x=\"144.38\" y=\"-941.75\" font-family=\"'Fira Mono', 'Source Code Pro', 'Courier', monospace\" font-weight=\"bold\" font-size=\"10.00\">coverage()</text>\n",
       "</a>\n",
       "</g>\n",
       "<g id=\"a_node6_44\"><a xlink:href=\"#\" xlink:title=\"covered_functions(self) &#45;&gt; Set[Callable]:&#10;Return a set of all functions observed.\">\n",
       "<text text-anchor=\"start\" x=\"144.38\" y=\"-929\" font-family=\"'Fira Mono', 'Source Code Pro', 'Courier', monospace\" font-weight=\"bold\" font-size=\"10.00\">covered_functions()</text>\n",
       "</a>\n",
       "</g>\n",
       "<g id=\"a_node6_45\"><a xlink:href=\"#\" xlink:title=\"event_table(self, **_args: Any) &#45;&gt; Any:&#10;Print out event table in Markdown format.\">\n",
       "<text text-anchor=\"start\" x=\"144.38\" y=\"-916.25\" font-family=\"'Fira Mono', 'Source Code Pro', 'Courier', monospace\" font-weight=\"bold\" font-size=\"10.00\">event_table()</text>\n",
       "</a>\n",
       "</g>\n",
       "<g id=\"a_node6_46\"><a xlink:href=\"#\" xlink:title=\"function(self) &#45;&gt; Optional[Callable]:&#10;Return the entry function from the events observed,&#10;or None if ambiguous.\">\n",
       "<text text-anchor=\"start\" x=\"144.38\" y=\"-903.5\" font-family=\"'Fira Mono', 'Source Code Pro', 'Courier', monospace\" font-weight=\"bold\" font-size=\"10.00\">function()</text>\n",
       "</a>\n",
       "</g>\n",
       "<g id=\"a_node6_47\"><a xlink:href=\"#\" xlink:title=\"__repr__(self) &#45;&gt; str:&#10;Return repr(self).\">\n",
       "<text text-anchor=\"start\" x=\"144.38\" y=\"-890.75\" font-family=\"'Fira Mono', 'Source Code Pro', 'Courier', monospace\" font-style=\"italic\" font-size=\"10.00\">__repr__()</text>\n",
       "</a>\n",
       "</g>\n",
       "<g id=\"a_node6_48\"><a xlink:href=\"#\" xlink:title=\"_repr_markdown_(self) &#45;&gt; str\">\n",
       "<text text-anchor=\"start\" x=\"144.38\" y=\"-877\" font-family=\"'Fira Mono', 'Source Code Pro', 'Courier', monospace\" font-size=\"10.00\">_repr_markdown_()</text>\n",
       "</a>\n",
       "</g>\n",
       "<g id=\"a_node6_49\"><a xlink:href=\"#\" xlink:title=\"add_collector(self, outcome: str, collector: Collector) &#45;&gt; Collector\">\n",
       "<text text-anchor=\"start\" x=\"144.38\" y=\"-864.25\" font-family=\"'Fira Mono', 'Source Code Pro', 'Courier', monospace\" font-size=\"10.00\">add_collector()</text>\n",
       "</a>\n",
       "</g>\n",
       "<g id=\"a_node6_50\"><a xlink:href=\"#\" xlink:title=\"collect(self, outcome: str, *args: Any, **kwargs: Any) &#45;&gt; Collector:&#10;Return a collector for the given outcome.&#10;Additional args are passed to the collector.\">\n",
       "<text text-anchor=\"start\" x=\"144.38\" y=\"-851.5\" font-family=\"'Fira Mono', 'Source Code Pro', 'Courier', monospace\" font-size=\"10.00\">collect()</text>\n",
       "</a>\n",
       "</g>\n",
       "<g id=\"a_node6_51\"><a xlink:href=\"#\" xlink:title=\"color(self, event: Any) &#45;&gt; Optional[str]:&#10;Return a color for the given event, or None.&#10;To be overloaded in subclasses.\">\n",
       "<text text-anchor=\"start\" x=\"144.38\" y=\"-839.75\" font-family=\"'Fira Mono', 'Source Code Pro', 'Courier', monospace\" font-style=\"italic\" font-size=\"10.00\">color()</text>\n",
       "</a>\n",
       "</g>\n",
       "<g id=\"a_node6_52\"><a xlink:href=\"#\" xlink:title=\"event_str(self, event: Any) &#45;&gt; str:&#10;Format the given event. To be overloaded in subclasses.\">\n",
       "<text text-anchor=\"start\" x=\"144.38\" y=\"-827\" font-family=\"'Fira Mono', 'Source Code Pro', 'Courier', monospace\" font-style=\"italic\" font-size=\"10.00\">event_str()</text>\n",
       "</a>\n",
       "</g>\n",
       "<g id=\"a_node6_53\"><a xlink:href=\"#\" xlink:title=\"event_table_text(self, *, args: bool = False, color: bool = False) &#45;&gt; str:&#10;Print out a table of events observed.&#10;If `args` is True, use arguments as headers.&#10;If `color` is True, use colors.\">\n",
       "<text text-anchor=\"start\" x=\"144.38\" y=\"-813.25\" font-family=\"'Fira Mono', 'Source Code Pro', 'Courier', monospace\" font-size=\"10.00\">event_table_text()</text>\n",
       "</a>\n",
       "</g>\n",
       "<g id=\"a_node6_54\"><a xlink:href=\"#\" xlink:title=\"tooltip(self, event: Any) &#45;&gt; Optional[str]:&#10;Return a tooltip string for the given event, or None.&#10;To be overloaded in subclasses.\">\n",
       "<text text-anchor=\"start\" x=\"144.38\" y=\"-801.5\" font-family=\"'Fira Mono', 'Source Code Pro', 'Courier', monospace\" font-style=\"italic\" font-size=\"10.00\">tooltip()</text>\n",
       "</a>\n",
       "</g>\n",
       "</a>\n",
       "</g>\n",
       "</a>\n",
       "</g>\n",
       "</g>\n",
       "<!-- DifferenceDebugger&#45;&gt;StatisticalDebugger -->\n",
       "<g id=\"edge5\" class=\"edge\">\n",
       "<title>DifferenceDebugger&#45;&gt;StatisticalDebugger</title>\n",
       "<path fill=\"none\" stroke=\"black\" d=\"M201.38,-756.59C201.38,-764.82 201.38,-773.21 201.38,-781.58\"/>\n",
       "<polygon fill=\"none\" stroke=\"black\" points=\"197.88,-781.46 201.38,-791.46 204.88,-781.46 197.88,-781.46\"/>\n",
       "</g>\n",
       "<!-- RankingDebugger&#45;&gt;DiscreteSpectrumDebugger -->\n",
       "<g id=\"edge7\" class=\"edge\">\n",
       "<title>RankingDebugger&#45;&gt;DiscreteSpectrumDebugger</title>\n",
       "<path fill=\"none\" stroke=\"black\" d=\"M278.28,-206.41C264.5,-228.33 245.27,-258.92 229.49,-284.03\"/>\n",
       "<polygon fill=\"none\" stroke=\"black\" points=\"226.57,-282.09 224.21,-292.42 232.5,-285.82 226.57,-282.09\"/>\n",
       "</g>\n",
       "<!-- OchiaiDebugger -->\n",
       "<g id=\"node8\" class=\"node\">\n",
       "<title>OchiaiDebugger</title>\n",
       "<g id=\"a_node8\"><a xlink:href=\"#\" xlink:title=\"class OchiaiDebugger:&#10;Spectrum&#45;based Debugger using the Ochiai metric for suspiciousness\">\n",
       "<polygon fill=\"none\" stroke=\"black\" points=\"225.62,-0.5 225.62,-59.25 345.12,-59.25 345.12,-0.5 225.62,-0.5\"/>\n",
       "<text text-anchor=\"start\" x=\"233.62\" y=\"-42.95\" font-family=\"Raleway, Helvetica, Arial, sans-serif\" font-weight=\"bold\" font-size=\"14.00\" fill=\"#6a0dad\">OchiaiDebugger</text>\n",
       "<polyline fill=\"none\" stroke=\"black\" points=\"225.62,-34 345.12,-34\"/>\n",
       "<g id=\"a_node8_55\"><a xlink:href=\"#\" xlink:title=\"OchiaiDebugger\">\n",
       "<g id=\"a_node8_56\"><a xlink:href=\"#\" xlink:title=\"hue(self, event: Any) &#45;&gt; Optional[float]:&#10;Return a color hue from 0.0 (red) to 1.0 (green).\">\n",
       "<text text-anchor=\"start\" x=\"237.38\" y=\"-21.5\" font-family=\"'Fira Mono', 'Source Code Pro', 'Courier', monospace\" font-style=\"italic\" font-size=\"10.00\">hue()</text>\n",
       "</a>\n",
       "</g>\n",
       "<g id=\"a_node8_57\"><a xlink:href=\"#\" xlink:title=\"suspiciousness(self, event: Any) &#45;&gt; Optional[float]:&#10;Return a suspiciousness value [0, 1.0]&#10;for the given event, or `None` if unknown.\">\n",
       "<text text-anchor=\"start\" x=\"237.38\" y=\"-8.75\" font-family=\"'Fira Mono', 'Source Code Pro', 'Courier', monospace\" font-style=\"italic\" font-size=\"10.00\">suspiciousness()</text>\n",
       "</a>\n",
       "</g>\n",
       "</a>\n",
       "</g>\n",
       "</a>\n",
       "</g>\n",
       "</g>\n",
       "<!-- OchiaiDebugger&#45;&gt;ContinuousSpectrumDebugger -->\n",
       "<g id=\"edge8\" class=\"edge\">\n",
       "<title>OchiaiDebugger&#45;&gt;ContinuousSpectrumDebugger</title>\n",
       "<path fill=\"none\" stroke=\"black\" d=\"M250.21,-59.47C239.4,-68.26 226.9,-78.42 213.88,-89.01\"/>\n",
       "<polygon fill=\"none\" stroke=\"black\" points=\"211.99,-86.04 206.44,-95.07 216.4,-91.47 211.99,-86.04\"/>\n",
       "</g>\n",
       "<!-- OchiaiDebugger&#45;&gt;RankingDebugger -->\n",
       "<g id=\"edge9\" class=\"edge\">\n",
       "<title>OchiaiDebugger&#45;&gt;RankingDebugger</title>\n",
       "<path fill=\"none\" stroke=\"black\" d=\"M287.55,-59.47C289.21,-81.28 291.51,-111.58 293.35,-135.77\"/>\n",
       "<polygon fill=\"none\" stroke=\"black\" points=\"289.84,-135.87 294.09,-145.58 296.82,-135.34 289.84,-135.87\"/>\n",
       "</g>\n",
       "<!-- Legend -->\n",
       "<g id=\"node9\" class=\"node\">\n",
       "<title>Legend</title>\n",
       "<text text-anchor=\"start\" x=\"362.75\" y=\"-45.88\" font-family=\"Raleway, Helvetica, Arial, sans-serif\" font-weight=\"bold\" font-size=\"10.00\" fill=\"#6a0dad\">Legend</text>\n",
       "<text text-anchor=\"start\" x=\"362.75\" y=\"-35.88\" font-family=\"Raleway, Helvetica, Arial, sans-serif\" font-size=\"10.00\">• </text>\n",
       "<text text-anchor=\"start\" x=\"368.75\" y=\"-35.88\" font-family=\"'Fira Mono', 'Source Code Pro', 'Courier', monospace\" font-weight=\"bold\" font-size=\"8.00\">public_method()</text>\n",
       "<text text-anchor=\"start\" x=\"362.75\" y=\"-25.88\" font-family=\"Raleway, Helvetica, Arial, sans-serif\" font-size=\"10.00\">• </text>\n",
       "<text text-anchor=\"start\" x=\"368.75\" y=\"-25.88\" font-family=\"'Fira Mono', 'Source Code Pro', 'Courier', monospace\" font-size=\"8.00\">private_method()</text>\n",
       "<text text-anchor=\"start\" x=\"362.75\" y=\"-15.88\" font-family=\"Raleway, Helvetica, Arial, sans-serif\" font-size=\"10.00\">• </text>\n",
       "<text text-anchor=\"start\" x=\"368.75\" y=\"-15.88\" font-family=\"'Fira Mono', 'Source Code Pro', 'Courier', monospace\" font-style=\"italic\" font-size=\"8.00\">overloaded_method()</text>\n",
       "<text text-anchor=\"start\" x=\"362.75\" y=\"-6.82\" font-family=\"Helvetica,sans-Serif\" font-size=\"9.00\">Hover over names to see doc</text>\n",
       "</g>\n",
       "</g>\n",
       "</svg>\n"
      ],
      "text/plain": [
       "<graphviz.graphs.Digraph at 0x117092cf0>"
      ]
     },
     "execution_count": 167,
     "metadata": {},
     "output_type": "execute_result"
    }
   ],
   "source": [
    "# ignore\n",
    "display_class_hierarchy([TarantulaDebugger, OchiaiDebugger],\n",
    "                        abstract_classes=[\n",
    "                            StatisticalDebugger,\n",
    "                            DifferenceDebugger,\n",
    "                            RankingDebugger\n",
    "                        ],\n",
    "                        public_methods=[\n",
    "                            StatisticalDebugger.__init__,\n",
    "                            StatisticalDebugger.all_events,\n",
    "                            StatisticalDebugger.event_table,\n",
    "                            StatisticalDebugger.function,\n",
    "                            StatisticalDebugger.coverage,\n",
    "                            StatisticalDebugger.covered_functions,\n",
    "                            DifferenceDebugger.__enter__,\n",
    "                            DifferenceDebugger.__exit__,\n",
    "                            DifferenceDebugger.all_pass_events,\n",
    "                            DifferenceDebugger.all_fail_events,\n",
    "                            DifferenceDebugger.collect_pass,\n",
    "                            DifferenceDebugger.collect_fail,\n",
    "                            DifferenceDebugger.only_pass_events,\n",
    "                            DifferenceDebugger.only_fail_events,\n",
    "                            SpectrumDebugger.code,\n",
    "                            SpectrumDebugger.__repr__,\n",
    "                            SpectrumDebugger.__str__,\n",
    "                            SpectrumDebugger._repr_html_,\n",
    "                            ContinuousSpectrumDebugger.code,\n",
    "                            ContinuousSpectrumDebugger.__repr__,\n",
    "                            RankingDebugger.rank\n",
    "                        ],\n",
    "                        project='debuggingbook')"
   ]
  },
  {
   "cell_type": "code",
   "execution_count": 168,
   "metadata": {
    "execution": {
     "iopub.execute_input": "2025-01-16T09:36:40.800122Z",
     "iopub.status.busy": "2025-01-16T09:36:40.799892Z",
     "iopub.status.idle": "2025-01-16T09:36:41.976968Z",
     "shell.execute_reply": "2025-01-16T09:36:41.975849Z"
    },
    "slideshow": {
     "slide_type": "subslide"
    }
   },
   "outputs": [
    {
     "data": {
      "image/svg+xml": [
       "<?xml version=\"1.0\" encoding=\"UTF-8\" standalone=\"no\"?>\n",
       "<!DOCTYPE svg PUBLIC \"-//W3C//DTD SVG 1.1//EN\"\n",
       " \"http://www.w3.org/Graphics/SVG/1.1/DTD/svg11.dtd\">\n",
       "<!-- Generated by graphviz version 12.2.1 (20241206.2353)\n",
       " -->\n",
       "<!-- Pages: 1 -->\n",
       "<svg width=\"406pt\" height=\"559pt\"\n",
       " viewBox=\"0.00 0.00 405.75 559.00\" xmlns=\"http://www.w3.org/2000/svg\" xmlns:xlink=\"http://www.w3.org/1999/xlink\">\n",
       "<g id=\"graph0\" class=\"graph\" transform=\"scale(1 1) rotate(0) translate(4 555)\">\n",
       "<g id=\"a_graph0\"><a xlink:title=\"CoverageCollector class hierarchy\">\n",
       "<polygon fill=\"white\" stroke=\"none\" points=\"-4,4 -4,-555 401.75,-555 401.75,4 -4,4\"/>\n",
       "</a>\n",
       "</g>\n",
       "<!-- CoverageCollector -->\n",
       "<g id=\"node1\" class=\"node\">\n",
       "<title>CoverageCollector</title>\n",
       "<g id=\"a_node1\"><a xlink:href=\"#\" xlink:title=\"class CoverageCollector:&#10;A class to record covered locations during execution.\">\n",
       "<polygon fill=\"none\" stroke=\"black\" points=\"126.25,-0.5 126.25,-97.5 260,-97.5 260,-0.5 126.25,-0.5\"/>\n",
       "<text text-anchor=\"start\" x=\"134.25\" y=\"-81.2\" font-family=\"Raleway, Helvetica, Arial, sans-serif\" font-weight=\"bold\" font-size=\"14.00\" fill=\"#6a0dad\">CoverageCollector</text>\n",
       "<polyline fill=\"none\" stroke=\"black\" points=\"126.25,-72.25 260,-72.25\"/>\n",
       "<g id=\"a_node1_0\"><a xlink:href=\"#\" xlink:title=\"CoverageCollector\">\n",
       "<g id=\"a_node1_1\"><a xlink:href=\"#\" xlink:title=\"coverage(self) &#45;&gt; Set[Tuple[Callable, int]]:&#10;Return a set (function, lineno) with all locations covered.\">\n",
       "<text text-anchor=\"start\" x=\"136.12\" y=\"-59.75\" font-family=\"'Fira Mono', 'Source Code Pro', 'Courier', monospace\" font-weight=\"bold\" font-style=\"italic\" font-size=\"10.00\">coverage()</text>\n",
       "</a>\n",
       "</g>\n",
       "<g id=\"a_node1_2\"><a xlink:href=\"#\" xlink:title=\"covered_functions(self) &#45;&gt; Set[Callable]:&#10;Return a set with all functions covered.\">\n",
       "<text text-anchor=\"start\" x=\"136.12\" y=\"-47\" font-family=\"'Fira Mono', 'Source Code Pro', 'Courier', monospace\" font-weight=\"bold\" font-style=\"italic\" font-size=\"10.00\">covered_functions()</text>\n",
       "</a>\n",
       "</g>\n",
       "<g id=\"a_node1_3\"><a xlink:href=\"#\" xlink:title=\"events(self) &#45;&gt; Set[Tuple[str, int]]:&#10;Return the set of locations covered.&#10;Each location comes as a pair (`function_name`, `lineno`).\">\n",
       "<text text-anchor=\"start\" x=\"136.12\" y=\"-34.25\" font-family=\"'Fira Mono', 'Source Code Pro', 'Courier', monospace\" font-weight=\"bold\" font-style=\"italic\" font-size=\"10.00\">events()</text>\n",
       "</a>\n",
       "</g>\n",
       "<g id=\"a_node1_4\"><a xlink:href=\"#\" xlink:title=\"__init__(self) &#45;&gt; None:&#10;Constructor.\">\n",
       "<text text-anchor=\"start\" x=\"136.12\" y=\"-21.5\" font-family=\"'Fira Mono', 'Source Code Pro', 'Courier', monospace\" font-style=\"italic\" font-size=\"10.00\">__init__()</text>\n",
       "</a>\n",
       "</g>\n",
       "<g id=\"a_node1_5\"><a xlink:href=\"#\" xlink:title=\"collect(self, frame: frame, event: str, arg: Any) &#45;&gt; None:&#10;Save coverage for an observed event.\">\n",
       "<text text-anchor=\"start\" x=\"136.12\" y=\"-8.75\" font-family=\"'Fira Mono', 'Source Code Pro', 'Courier', monospace\" font-style=\"italic\" font-size=\"10.00\">collect()</text>\n",
       "</a>\n",
       "</g>\n",
       "</a>\n",
       "</g>\n",
       "</a>\n",
       "</g>\n",
       "</g>\n",
       "<!-- Collector -->\n",
       "<g id=\"node2\" class=\"node\">\n",
       "<title>Collector</title>\n",
       "<g id=\"a_node2\"><a xlink:href=\"#\" xlink:title=\"class Collector:&#10;A class to record events during execution.\">\n",
       "<polygon fill=\"none\" stroke=\"black\" points=\"23.12,-134.5 23.12,-346.25 165.12,-346.25 165.12,-134.5 23.12,-134.5\"/>\n",
       "<text text-anchor=\"start\" x=\"66\" y=\"-329.95\" font-family=\"Raleway, Helvetica, Arial, sans-serif\" font-weight=\"bold\" font-size=\"14.00\" fill=\"#6a0dad\">Collector</text>\n",
       "<polyline fill=\"none\" stroke=\"black\" points=\"23.12,-321 165.12,-321\"/>\n",
       "<g id=\"a_node2_6\"><a xlink:href=\"#\" xlink:title=\"Collector\">\n",
       "<g id=\"a_node2_7\"><a xlink:href=\"#\" xlink:title=\"__init__(self) &#45;&gt; None:&#10;Constructor.\">\n",
       "<text text-anchor=\"start\" x=\"31.12\" y=\"-308.5\" font-family=\"'Fira Mono', 'Source Code Pro', 'Courier', monospace\" font-weight=\"bold\" font-style=\"italic\" font-size=\"10.00\">__init__()</text>\n",
       "</a>\n",
       "</g>\n",
       "<g id=\"a_node2_8\"><a xlink:href=\"#\" xlink:title=\"__repr__(self) &#45;&gt; str:&#10;Return a string representation of the collector\">\n",
       "<text text-anchor=\"start\" x=\"31.12\" y=\"-295.75\" font-family=\"'Fira Mono', 'Source Code Pro', 'Courier', monospace\" font-weight=\"bold\" font-size=\"10.00\">__repr__()</text>\n",
       "</a>\n",
       "</g>\n",
       "<g id=\"a_node2_9\"><a xlink:href=\"#\" xlink:title=\"args(self) &#45;&gt; Dict[str, Any]:&#10;Return a dict of argument names and values from the first call\">\n",
       "<text text-anchor=\"start\" x=\"31.12\" y=\"-283\" font-family=\"'Fira Mono', 'Source Code Pro', 'Courier', monospace\" font-weight=\"bold\" font-size=\"10.00\">args()</text>\n",
       "</a>\n",
       "</g>\n",
       "<g id=\"a_node2_10\"><a xlink:href=\"#\" xlink:title=\"argstring(self) &#45;&gt; str:&#10;Return the list of arguments from the first call,&#10;as a printable string\">\n",
       "<text text-anchor=\"start\" x=\"31.12\" y=\"-270.25\" font-family=\"'Fira Mono', 'Source Code Pro', 'Courier', monospace\" font-weight=\"bold\" font-size=\"10.00\">argstring()</text>\n",
       "</a>\n",
       "</g>\n",
       "<g id=\"a_node2_11\"><a xlink:href=\"#\" xlink:title=\"collect(self, frame: frame, event: str, arg: Any) &#45;&gt; None:&#10;Collector function. To be overloaded in subclasses.\">\n",
       "<text text-anchor=\"start\" x=\"31.12\" y=\"-257.5\" font-family=\"'Fira Mono', 'Source Code Pro', 'Courier', monospace\" font-weight=\"bold\" font-style=\"italic\" font-size=\"10.00\">collect()</text>\n",
       "</a>\n",
       "</g>\n",
       "<g id=\"a_node2_12\"><a xlink:href=\"#\" xlink:title=\"exception(self) &#45;&gt; Optional[Type]:&#10;Return the exception class from the first call,&#10;or None if no exception was raised.\">\n",
       "<text text-anchor=\"start\" x=\"31.12\" y=\"-244.75\" font-family=\"'Fira Mono', 'Source Code Pro', 'Courier', monospace\" font-weight=\"bold\" font-size=\"10.00\">exception()</text>\n",
       "</a>\n",
       "</g>\n",
       "<g id=\"a_node2_13\"><a xlink:href=\"#\" xlink:title=\"function(self) &#45;&gt; Callable:&#10;Return the function from the first call, as a function object\">\n",
       "<text text-anchor=\"start\" x=\"31.12\" y=\"-232\" font-family=\"'Fira Mono', 'Source Code Pro', 'Courier', monospace\" font-weight=\"bold\" font-size=\"10.00\">function()</text>\n",
       "</a>\n",
       "</g>\n",
       "<g id=\"a_node2_14\"><a xlink:href=\"#\" xlink:title=\"id(self) &#45;&gt; str:&#10;Return an identifier for the collector,&#10;created from the first call\">\n",
       "<text text-anchor=\"start\" x=\"31.12\" y=\"-219.25\" font-family=\"'Fira Mono', 'Source Code Pro', 'Courier', monospace\" font-weight=\"bold\" font-size=\"10.00\">id()</text>\n",
       "</a>\n",
       "</g>\n",
       "<g id=\"a_node2_15\"><a xlink:href=\"#\" xlink:title=\"__exit__(self, exc_tp: Type, exc_value: BaseException, exc_traceback: traceback) &#45;&gt; Optional[bool]:&#10;Exit the `with` block.\">\n",
       "<text text-anchor=\"start\" x=\"31.12\" y=\"-206.5\" font-family=\"'Fira Mono', 'Source Code Pro', 'Courier', monospace\" font-style=\"italic\" font-size=\"10.00\">__exit__()</text>\n",
       "</a>\n",
       "</g>\n",
       "<g id=\"a_node2_16\"><a xlink:href=\"#\" xlink:title=\"add_items_to_ignore(self, items_to_ignore: List[Union[Type, Callable]]) &#45;&gt; None:&#10;Define additional classes and functions to ignore during collection&#10;(typically `Debugger` classes using these collectors).\">\n",
       "<text text-anchor=\"start\" x=\"31.12\" y=\"-192.75\" font-family=\"'Fira Mono', 'Source Code Pro', 'Courier', monospace\" font-size=\"10.00\">add_items_to_ignore()</text>\n",
       "</a>\n",
       "</g>\n",
       "<g id=\"a_node2_17\"><a xlink:href=\"#\" xlink:title=\"coverage(self) &#45;&gt; Set[Tuple[Callable, int]]:&#10;Return a set (function, lineno) with locations covered.&#10;To be overloaded in subclasses.\">\n",
       "<text text-anchor=\"start\" x=\"31.12\" y=\"-181\" font-family=\"'Fira Mono', 'Source Code Pro', 'Courier', monospace\" font-style=\"italic\" font-size=\"10.00\">coverage()</text>\n",
       "</a>\n",
       "</g>\n",
       "<g id=\"a_node2_18\"><a xlink:href=\"#\" xlink:title=\"covered_functions(self) &#45;&gt; Set[Callable]:&#10;Set of covered functions. To be overloaded in subclasses.\">\n",
       "<text text-anchor=\"start\" x=\"31.12\" y=\"-168.25\" font-family=\"'Fira Mono', 'Source Code Pro', 'Courier', monospace\" font-style=\"italic\" font-size=\"10.00\">covered_functions()</text>\n",
       "</a>\n",
       "</g>\n",
       "<g id=\"a_node2_19\"><a xlink:href=\"#\" xlink:title=\"events(self) &#45;&gt; Set:&#10;Return a collection of events. To be overridden in subclasses.\">\n",
       "<text text-anchor=\"start\" x=\"31.12\" y=\"-155.5\" font-family=\"'Fira Mono', 'Source Code Pro', 'Courier', monospace\" font-style=\"italic\" font-size=\"10.00\">events()</text>\n",
       "</a>\n",
       "</g>\n",
       "<g id=\"a_node2_20\"><a xlink:href=\"#\" xlink:title=\"traceit(self, frame: frame, event: str, arg: Any) &#45;&gt; None:&#10;Tracing function.&#10;Saves the first function and calls collect().\">\n",
       "<text text-anchor=\"start\" x=\"31.12\" y=\"-142.75\" font-family=\"'Fira Mono', 'Source Code Pro', 'Courier', monospace\" font-style=\"italic\" font-size=\"10.00\">traceit()</text>\n",
       "</a>\n",
       "</g>\n",
       "</a>\n",
       "</g>\n",
       "</a>\n",
       "</g>\n",
       "</g>\n",
       "<!-- CoverageCollector&#45;&gt;Collector -->\n",
       "<g id=\"edge1\" class=\"edge\">\n",
       "<title>CoverageCollector&#45;&gt;Collector</title>\n",
       "<path fill=\"none\" stroke=\"black\" d=\"M168.14,-97.79C163.81,-106.08 159.14,-115 154.33,-124.21\"/>\n",
       "<polygon fill=\"none\" stroke=\"black\" points=\"151.3,-122.45 149.77,-132.94 157.5,-125.7 151.3,-122.45\"/>\n",
       "</g>\n",
       "<!-- StackInspector -->\n",
       "<g id=\"node4\" class=\"node\">\n",
       "<title>StackInspector</title>\n",
       "<g id=\"a_node4\"><a xlink:href=\"StackInspector.ipynb\" xlink:title=\"class StackInspector:&#10;Provide functions to inspect the stack\">\n",
       "<polygon fill=\"none\" stroke=\"black\" points=\"61.12,-504.5 61.12,-550.5 227.12,-550.5 227.12,-504.5 61.12,-504.5\"/>\n",
       "<text text-anchor=\"start\" x=\"97.62\" y=\"-534.2\" font-family=\"Raleway, Helvetica, Arial, sans-serif\" font-weight=\"bold\" font-size=\"14.00\" fill=\"#6a0dad\">StackInspector</text>\n",
       "<polyline fill=\"none\" stroke=\"black\" points=\"61.12,-525.25 227.12,-525.25\"/>\n",
       "<g id=\"a_node4_21\"><a xlink:href=\"#\" xlink:title=\"StackInspector\">\n",
       "<g id=\"a_node4_22\"><a xlink:href=\"StackInspector.ipynb\" xlink:title=\"_generated_function_cache = {(&#39;remove_html_markup&#39;, 1): &lt;function remove_html_markup at 0x112cd5120&gt;, (&#39;middle&#39;, 1): &lt;function middle at 0x112e75120&gt;, (&#39;_clean_thread_parent_frames&#39;, 775): &lt;function IPythonKernel._clean_thread_parent_frames at 0x112e75620&gt;, (&#39;_clean_thread_parent_frames&#39;, 788): &lt;function IPythonKernel._clean_thread_parent_frames at 0x112e74c20&gt;, (&#39;_clean_thread_parent_frames&#39;, 790): &lt;function IPythonKernel._clean_thread_parent_frames at 0x112e765c0&gt;, (&#39;ident&#39;, 1198): &lt;function Thread.ident at 0x112e76700&gt;, (&#39;ident&#39;, 1207): &lt;function Thread.ident at 0x112cd5080&gt;, (&#39;ident&#39;, 1208): &lt;function Thread.ident at 0x112e767a0&gt;, (&#39;_clean_thread_parent_frames&#39;, 791): &lt;function IPythonKernel._clean_thread_parent_frames at 0x112e76660&gt;, (&#39;_clean_thread_parent_frames&#39;, 792): &lt;function IPythonKernel._clean_thread_parent_frames at 0x112e76840&gt;, (&#39;_clean_thread_parent_frames&#39;, 793): &lt;function IPythonKernel._clean_thread_parent_frames at 0x112e768e0&gt;, (&#39;_clean_thread_parent_frames&#39;, 794): &lt;function IPythonKernel._clean_thread_parent_frames at 0x112e76980&gt;, (&#39;_clean_thread_parent_frames&#39;, 800): &lt;function IPythonKernel._clean_thread_parent_frames at 0x112e76a20&gt;, (&#39;_clean_thread_parent_frames&#39;, 801): &lt;function IPythonKernel._clean_thread_parent_frames at 0x112e76ac0&gt;, (&#39;_clean_thread_parent_frames&#39;, 789): &lt;function IPythonKernel._clean_thread_parent_frames at 0x112e76b60&gt;}\">\n",
       "<text text-anchor=\"start\" x=\"69.12\" y=\"-511.75\" font-family=\"'Fira Mono', 'Source Code Pro', 'Courier', monospace\" font-size=\"10.00\">_generated_function_cache</text>\n",
       "</a>\n",
       "</g>\n",
       "</a>\n",
       "</g>\n",
       "</a>\n",
       "</g>\n",
       "</g>\n",
       "<!-- CoverageCollector&#45;&gt;StackInspector -->\n",
       "<g id=\"edge4\" class=\"edge\">\n",
       "<title>CoverageCollector&#45;&gt;StackInspector</title>\n",
       "<path fill=\"none\" stroke=\"black\" d=\"M194.02,-97.91C194.54,-176.2 191.67,-336.09 164.12,-468 162.38,-476.38 159.77,-485.21 157.02,-493.41\"/>\n",
       "<polygon fill=\"none\" stroke=\"black\" points=\"153.79,-492.06 153.75,-502.66 160.39,-494.4 153.79,-492.06\"/>\n",
       "</g>\n",
       "<!-- Tracer -->\n",
       "<g id=\"node3\" class=\"node\">\n",
       "<title>Tracer</title>\n",
       "<g id=\"a_node3\"><a xlink:href=\"Tracer.ipynb\" xlink:title=\"class Tracer:&#10;A class for tracing a piece of code. Use as `with Tracer(): block()`\">\n",
       "<polygon fill=\"none\" stroke=\"black\" points=\"55.12,-383.25 55.12,-467.5 155.12,-467.5 155.12,-383.25 55.12,-383.25\"/>\n",
       "<text text-anchor=\"start\" x=\"85.62\" y=\"-451.2\" font-family=\"Raleway, Helvetica, Arial, sans-serif\" font-weight=\"bold\" font-size=\"14.00\" fill=\"#6a0dad\">Tracer</text>\n",
       "<polyline fill=\"none\" stroke=\"black\" points=\"55.12,-442.25 155.12,-442.25\"/>\n",
       "<g id=\"a_node3_23\"><a xlink:href=\"#\" xlink:title=\"Tracer\">\n",
       "<g id=\"a_node3_24\"><a xlink:href=\"Tracer.ipynb\" xlink:title=\"__enter__(self) &#45;&gt; Any:&#10;Called at begin of `with` block. Turn tracing on.\">\n",
       "<text text-anchor=\"start\" x=\"63.12\" y=\"-429.75\" font-family=\"'Fira Mono', 'Source Code Pro', 'Courier', monospace\" font-weight=\"bold\" font-size=\"10.00\">__enter__()</text>\n",
       "</a>\n",
       "</g>\n",
       "<g id=\"a_node3_25\"><a xlink:href=\"Tracer.ipynb\" xlink:title=\"__exit__(self, exc_tp: Type, exc_value: BaseException, exc_traceback: traceback) &#45;&gt; Optional[bool]:&#10;Called at end of `with` block. Turn tracing off.&#10;Return `None` if ok, not `None` if internal error.\">\n",
       "<text text-anchor=\"start\" x=\"63.12\" y=\"-417\" font-family=\"'Fira Mono', 'Source Code Pro', 'Courier', monospace\" font-weight=\"bold\" font-style=\"italic\" font-size=\"10.00\">__exit__()</text>\n",
       "</a>\n",
       "</g>\n",
       "<g id=\"a_node3_26\"><a xlink:href=\"Tracer.ipynb\" xlink:title=\"__init__(self, file: &lt;class &#39;TextIO&#39;&gt; = &lt;ipykernel.iostream.OutStream object at 0x111b55ea0&gt;) &#45;&gt; None:&#10;Create a new tracer.&#10;If `file` is given, output to `file` instead of stdout.\">\n",
       "<text text-anchor=\"start\" x=\"63.12\" y=\"-404.25\" font-family=\"'Fira Mono', 'Source Code Pro', 'Courier', monospace\" font-weight=\"bold\" font-style=\"italic\" font-size=\"10.00\">__init__()</text>\n",
       "</a>\n",
       "</g>\n",
       "<g id=\"a_node3_27\"><a xlink:href=\"Tracer.ipynb\" xlink:title=\"changed_vars(self, new_vars: Dict[str, Any]) &#45;&gt; Dict[str, Any]:&#10;Track changed variables, based on `new_vars` observed.\">\n",
       "<text text-anchor=\"start\" x=\"63.12\" y=\"-391.5\" font-family=\"'Fira Mono', 'Source Code Pro', 'Courier', monospace\" font-weight=\"bold\" font-size=\"10.00\">changed_vars()</text>\n",
       "</a>\n",
       "</g>\n",
       "</a>\n",
       "</g>\n",
       "</a>\n",
       "</g>\n",
       "</g>\n",
       "<!-- Collector&#45;&gt;Tracer -->\n",
       "<g id=\"edge2\" class=\"edge\">\n",
       "<title>Collector&#45;&gt;Tracer</title>\n",
       "<path fill=\"none\" stroke=\"black\" d=\"M100.44,-346.5C100.97,-355.17 101.48,-363.67 101.96,-371.69\"/>\n",
       "<polygon fill=\"none\" stroke=\"black\" points=\"98.46,-371.76 102.55,-381.54 105.44,-371.34 98.46,-371.76\"/>\n",
       "</g>\n",
       "<!-- Tracer&#45;&gt;StackInspector -->\n",
       "<g id=\"edge3\" class=\"edge\">\n",
       "<title>Tracer&#45;&gt;StackInspector</title>\n",
       "<path fill=\"none\" stroke=\"black\" d=\"M121.33,-467.97C124.63,-476.46 128.07,-485.29 131.25,-493.44\"/>\n",
       "<polygon fill=\"none\" stroke=\"black\" points=\"127.94,-494.58 134.83,-502.63 134.46,-492.04 127.94,-494.58\"/>\n",
       "</g>\n",
       "<!-- ValueCollector -->\n",
       "<g id=\"node5\" class=\"node\">\n",
       "<title>ValueCollector</title>\n",
       "<g id=\"a_node5\"><a xlink:href=\"#\" xlink:title=\"class ValueCollector:&#10;&quot;A class to collect local variables and their values.\">\n",
       "<polygon fill=\"none\" stroke=\"black\" points=\"0,-13.25 0,-84.75 108.25,-84.75 108.25,-13.25 0,-13.25\"/>\n",
       "<text text-anchor=\"start\" x=\"8\" y=\"-68.45\" font-family=\"Raleway, Helvetica, Arial, sans-serif\" font-weight=\"bold\" font-size=\"14.00\" fill=\"#6a0dad\">ValueCollector</text>\n",
       "<polyline fill=\"none\" stroke=\"black\" points=\"0,-59.5 108.25,-59.5\"/>\n",
       "<g id=\"a_node5_28\"><a xlink:href=\"#\" xlink:title=\"ValueCollector\">\n",
       "<g id=\"a_node5_29\"><a xlink:href=\"#\" xlink:title=\"__init__(self) &#45;&gt; None:&#10;Constructor.\">\n",
       "<text text-anchor=\"start\" x=\"24.12\" y=\"-47\" font-family=\"'Fira Mono', 'Source Code Pro', 'Courier', monospace\" font-weight=\"bold\" font-style=\"italic\" font-size=\"10.00\">__init__()</text>\n",
       "</a>\n",
       "</g>\n",
       "<g id=\"a_node5_30\"><a xlink:href=\"#\" xlink:title=\"events(self) &#45;&gt; Set[str]:&#10;A set of (variable, value) pairs observed\">\n",
       "<text text-anchor=\"start\" x=\"24.12\" y=\"-34.25\" font-family=\"'Fira Mono', 'Source Code Pro', 'Courier', monospace\" font-weight=\"bold\" font-style=\"italic\" font-size=\"10.00\">events()</text>\n",
       "</a>\n",
       "</g>\n",
       "<g id=\"a_node5_31\"><a xlink:href=\"#\" xlink:title=\"collect(self, frame: frame, event: str, arg: Any) &#45;&gt; None:&#10;Collector function. To be overloaded in subclasses.\">\n",
       "<text text-anchor=\"start\" x=\"24.12\" y=\"-21.5\" font-family=\"'Fira Mono', 'Source Code Pro', 'Courier', monospace\" font-style=\"italic\" font-size=\"10.00\">collect()</text>\n",
       "</a>\n",
       "</g>\n",
       "</a>\n",
       "</g>\n",
       "</a>\n",
       "</g>\n",
       "</g>\n",
       "<!-- ValueCollector&#45;&gt;Collector -->\n",
       "<g id=\"edge5\" class=\"edge\">\n",
       "<title>ValueCollector&#45;&gt;Collector</title>\n",
       "<path fill=\"none\" stroke=\"black\" d=\"M61.55,-85.18C63.93,-96.4 66.69,-109.5 69.6,-123.24\"/>\n",
       "<polygon fill=\"none\" stroke=\"black\" points=\"66.14,-123.83 71.63,-132.89 72.99,-122.38 66.14,-123.83\"/>\n",
       "</g>\n",
       "<!-- Legend -->\n",
       "<g id=\"node6\" class=\"node\">\n",
       "<title>Legend</title>\n",
       "<text text-anchor=\"start\" x=\"278.5\" y=\"-65\" font-family=\"Raleway, Helvetica, Arial, sans-serif\" font-weight=\"bold\" font-size=\"10.00\" fill=\"#6a0dad\">Legend</text>\n",
       "<text text-anchor=\"start\" x=\"278.5\" y=\"-55\" font-family=\"Raleway, Helvetica, Arial, sans-serif\" font-size=\"10.00\">• </text>\n",
       "<text text-anchor=\"start\" x=\"284.5\" y=\"-55\" font-family=\"'Fira Mono', 'Source Code Pro', 'Courier', monospace\" font-weight=\"bold\" font-size=\"8.00\">public_method()</text>\n",
       "<text text-anchor=\"start\" x=\"278.5\" y=\"-45\" font-family=\"Raleway, Helvetica, Arial, sans-serif\" font-size=\"10.00\">• </text>\n",
       "<text text-anchor=\"start\" x=\"284.5\" y=\"-45\" font-family=\"'Fira Mono', 'Source Code Pro', 'Courier', monospace\" font-size=\"8.00\">private_method()</text>\n",
       "<text text-anchor=\"start\" x=\"278.5\" y=\"-35\" font-family=\"Raleway, Helvetica, Arial, sans-serif\" font-size=\"10.00\">• </text>\n",
       "<text text-anchor=\"start\" x=\"284.5\" y=\"-35\" font-family=\"'Fira Mono', 'Source Code Pro', 'Courier', monospace\" font-style=\"italic\" font-size=\"8.00\">overloaded_method()</text>\n",
       "<text text-anchor=\"start\" x=\"278.5\" y=\"-25.95\" font-family=\"Helvetica,sans-Serif\" font-size=\"9.00\">Hover over names to see doc</text>\n",
       "</g>\n",
       "</g>\n",
       "</svg>\n"
      ],
      "text/html": [
       "<?xml version=\"1.0\" encoding=\"UTF-8\" standalone=\"no\"?>\n",
       "<!DOCTYPE svg PUBLIC \"-//W3C//DTD SVG 1.1//EN\"\n",
       " \"http://www.w3.org/Graphics/SVG/1.1/DTD/svg11.dtd\">\n",
       "<!-- Generated by graphviz version 12.2.1 (20241206.2353)\n",
       " -->\n",
       "<!-- Pages: 1 -->\n",
       "<svg width=\"406pt\" height=\"559pt\"\n",
       " viewBox=\"0.00 0.00 405.75 559.00\" xmlns=\"http://www.w3.org/2000/svg\" xmlns:xlink=\"http://www.w3.org/1999/xlink\">\n",
       "<g id=\"graph0\" class=\"graph\" transform=\"scale(1 1) rotate(0) translate(4 555)\">\n",
       "<g id=\"a_graph0\"><a xlink:title=\"CoverageCollector class hierarchy\">\n",
       "<polygon fill=\"white\" stroke=\"none\" points=\"-4,4 -4,-555 401.75,-555 401.75,4 -4,4\"/>\n",
       "</a>\n",
       "</g>\n",
       "<!-- CoverageCollector -->\n",
       "<g id=\"node1\" class=\"node\">\n",
       "<title>CoverageCollector</title>\n",
       "<g id=\"a_node1\"><a xlink:href=\"#\" xlink:title=\"class CoverageCollector:&#10;A class to record covered locations during execution.\">\n",
       "<polygon fill=\"none\" stroke=\"black\" points=\"126.25,-0.5 126.25,-97.5 260,-97.5 260,-0.5 126.25,-0.5\"/>\n",
       "<text text-anchor=\"start\" x=\"134.25\" y=\"-81.2\" font-family=\"Raleway, Helvetica, Arial, sans-serif\" font-weight=\"bold\" font-size=\"14.00\" fill=\"#6a0dad\">CoverageCollector</text>\n",
       "<polyline fill=\"none\" stroke=\"black\" points=\"126.25,-72.25 260,-72.25\"/>\n",
       "<g id=\"a_node1_0\"><a xlink:href=\"#\" xlink:title=\"CoverageCollector\">\n",
       "<g id=\"a_node1_1\"><a xlink:href=\"#\" xlink:title=\"coverage(self) &#45;&gt; Set[Tuple[Callable, int]]:&#10;Return a set (function, lineno) with all locations covered.\">\n",
       "<text text-anchor=\"start\" x=\"136.12\" y=\"-59.75\" font-family=\"'Fira Mono', 'Source Code Pro', 'Courier', monospace\" font-weight=\"bold\" font-style=\"italic\" font-size=\"10.00\">coverage()</text>\n",
       "</a>\n",
       "</g>\n",
       "<g id=\"a_node1_2\"><a xlink:href=\"#\" xlink:title=\"covered_functions(self) &#45;&gt; Set[Callable]:&#10;Return a set with all functions covered.\">\n",
       "<text text-anchor=\"start\" x=\"136.12\" y=\"-47\" font-family=\"'Fira Mono', 'Source Code Pro', 'Courier', monospace\" font-weight=\"bold\" font-style=\"italic\" font-size=\"10.00\">covered_functions()</text>\n",
       "</a>\n",
       "</g>\n",
       "<g id=\"a_node1_3\"><a xlink:href=\"#\" xlink:title=\"events(self) &#45;&gt; Set[Tuple[str, int]]:&#10;Return the set of locations covered.&#10;Each location comes as a pair (`function_name`, `lineno`).\">\n",
       "<text text-anchor=\"start\" x=\"136.12\" y=\"-34.25\" font-family=\"'Fira Mono', 'Source Code Pro', 'Courier', monospace\" font-weight=\"bold\" font-style=\"italic\" font-size=\"10.00\">events()</text>\n",
       "</a>\n",
       "</g>\n",
       "<g id=\"a_node1_4\"><a xlink:href=\"#\" xlink:title=\"__init__(self) &#45;&gt; None:&#10;Constructor.\">\n",
       "<text text-anchor=\"start\" x=\"136.12\" y=\"-21.5\" font-family=\"'Fira Mono', 'Source Code Pro', 'Courier', monospace\" font-style=\"italic\" font-size=\"10.00\">__init__()</text>\n",
       "</a>\n",
       "</g>\n",
       "<g id=\"a_node1_5\"><a xlink:href=\"#\" xlink:title=\"collect(self, frame: frame, event: str, arg: Any) &#45;&gt; None:&#10;Save coverage for an observed event.\">\n",
       "<text text-anchor=\"start\" x=\"136.12\" y=\"-8.75\" font-family=\"'Fira Mono', 'Source Code Pro', 'Courier', monospace\" font-style=\"italic\" font-size=\"10.00\">collect()</text>\n",
       "</a>\n",
       "</g>\n",
       "</a>\n",
       "</g>\n",
       "</a>\n",
       "</g>\n",
       "</g>\n",
       "<!-- Collector -->\n",
       "<g id=\"node2\" class=\"node\">\n",
       "<title>Collector</title>\n",
       "<g id=\"a_node2\"><a xlink:href=\"#\" xlink:title=\"class Collector:&#10;A class to record events during execution.\">\n",
       "<polygon fill=\"none\" stroke=\"black\" points=\"23.12,-134.5 23.12,-346.25 165.12,-346.25 165.12,-134.5 23.12,-134.5\"/>\n",
       "<text text-anchor=\"start\" x=\"66\" y=\"-329.95\" font-family=\"Raleway, Helvetica, Arial, sans-serif\" font-weight=\"bold\" font-size=\"14.00\" fill=\"#6a0dad\">Collector</text>\n",
       "<polyline fill=\"none\" stroke=\"black\" points=\"23.12,-321 165.12,-321\"/>\n",
       "<g id=\"a_node2_6\"><a xlink:href=\"#\" xlink:title=\"Collector\">\n",
       "<g id=\"a_node2_7\"><a xlink:href=\"#\" xlink:title=\"__init__(self) &#45;&gt; None:&#10;Constructor.\">\n",
       "<text text-anchor=\"start\" x=\"31.12\" y=\"-308.5\" font-family=\"'Fira Mono', 'Source Code Pro', 'Courier', monospace\" font-weight=\"bold\" font-style=\"italic\" font-size=\"10.00\">__init__()</text>\n",
       "</a>\n",
       "</g>\n",
       "<g id=\"a_node2_8\"><a xlink:href=\"#\" xlink:title=\"__repr__(self) &#45;&gt; str:&#10;Return a string representation of the collector\">\n",
       "<text text-anchor=\"start\" x=\"31.12\" y=\"-295.75\" font-family=\"'Fira Mono', 'Source Code Pro', 'Courier', monospace\" font-weight=\"bold\" font-size=\"10.00\">__repr__()</text>\n",
       "</a>\n",
       "</g>\n",
       "<g id=\"a_node2_9\"><a xlink:href=\"#\" xlink:title=\"args(self) &#45;&gt; Dict[str, Any]:&#10;Return a dict of argument names and values from the first call\">\n",
       "<text text-anchor=\"start\" x=\"31.12\" y=\"-283\" font-family=\"'Fira Mono', 'Source Code Pro', 'Courier', monospace\" font-weight=\"bold\" font-size=\"10.00\">args()</text>\n",
       "</a>\n",
       "</g>\n",
       "<g id=\"a_node2_10\"><a xlink:href=\"#\" xlink:title=\"argstring(self) &#45;&gt; str:&#10;Return the list of arguments from the first call,&#10;as a printable string\">\n",
       "<text text-anchor=\"start\" x=\"31.12\" y=\"-270.25\" font-family=\"'Fira Mono', 'Source Code Pro', 'Courier', monospace\" font-weight=\"bold\" font-size=\"10.00\">argstring()</text>\n",
       "</a>\n",
       "</g>\n",
       "<g id=\"a_node2_11\"><a xlink:href=\"#\" xlink:title=\"collect(self, frame: frame, event: str, arg: Any) &#45;&gt; None:&#10;Collector function. To be overloaded in subclasses.\">\n",
       "<text text-anchor=\"start\" x=\"31.12\" y=\"-257.5\" font-family=\"'Fira Mono', 'Source Code Pro', 'Courier', monospace\" font-weight=\"bold\" font-style=\"italic\" font-size=\"10.00\">collect()</text>\n",
       "</a>\n",
       "</g>\n",
       "<g id=\"a_node2_12\"><a xlink:href=\"#\" xlink:title=\"exception(self) &#45;&gt; Optional[Type]:&#10;Return the exception class from the first call,&#10;or None if no exception was raised.\">\n",
       "<text text-anchor=\"start\" x=\"31.12\" y=\"-244.75\" font-family=\"'Fira Mono', 'Source Code Pro', 'Courier', monospace\" font-weight=\"bold\" font-size=\"10.00\">exception()</text>\n",
       "</a>\n",
       "</g>\n",
       "<g id=\"a_node2_13\"><a xlink:href=\"#\" xlink:title=\"function(self) &#45;&gt; Callable:&#10;Return the function from the first call, as a function object\">\n",
       "<text text-anchor=\"start\" x=\"31.12\" y=\"-232\" font-family=\"'Fira Mono', 'Source Code Pro', 'Courier', monospace\" font-weight=\"bold\" font-size=\"10.00\">function()</text>\n",
       "</a>\n",
       "</g>\n",
       "<g id=\"a_node2_14\"><a xlink:href=\"#\" xlink:title=\"id(self) &#45;&gt; str:&#10;Return an identifier for the collector,&#10;created from the first call\">\n",
       "<text text-anchor=\"start\" x=\"31.12\" y=\"-219.25\" font-family=\"'Fira Mono', 'Source Code Pro', 'Courier', monospace\" font-weight=\"bold\" font-size=\"10.00\">id()</text>\n",
       "</a>\n",
       "</g>\n",
       "<g id=\"a_node2_15\"><a xlink:href=\"#\" xlink:title=\"__exit__(self, exc_tp: Type, exc_value: BaseException, exc_traceback: traceback) &#45;&gt; Optional[bool]:&#10;Exit the `with` block.\">\n",
       "<text text-anchor=\"start\" x=\"31.12\" y=\"-206.5\" font-family=\"'Fira Mono', 'Source Code Pro', 'Courier', monospace\" font-style=\"italic\" font-size=\"10.00\">__exit__()</text>\n",
       "</a>\n",
       "</g>\n",
       "<g id=\"a_node2_16\"><a xlink:href=\"#\" xlink:title=\"add_items_to_ignore(self, items_to_ignore: List[Union[Type, Callable]]) &#45;&gt; None:&#10;Define additional classes and functions to ignore during collection&#10;(typically `Debugger` classes using these collectors).\">\n",
       "<text text-anchor=\"start\" x=\"31.12\" y=\"-192.75\" font-family=\"'Fira Mono', 'Source Code Pro', 'Courier', monospace\" font-size=\"10.00\">add_items_to_ignore()</text>\n",
       "</a>\n",
       "</g>\n",
       "<g id=\"a_node2_17\"><a xlink:href=\"#\" xlink:title=\"coverage(self) &#45;&gt; Set[Tuple[Callable, int]]:&#10;Return a set (function, lineno) with locations covered.&#10;To be overloaded in subclasses.\">\n",
       "<text text-anchor=\"start\" x=\"31.12\" y=\"-181\" font-family=\"'Fira Mono', 'Source Code Pro', 'Courier', monospace\" font-style=\"italic\" font-size=\"10.00\">coverage()</text>\n",
       "</a>\n",
       "</g>\n",
       "<g id=\"a_node2_18\"><a xlink:href=\"#\" xlink:title=\"covered_functions(self) &#45;&gt; Set[Callable]:&#10;Set of covered functions. To be overloaded in subclasses.\">\n",
       "<text text-anchor=\"start\" x=\"31.12\" y=\"-168.25\" font-family=\"'Fira Mono', 'Source Code Pro', 'Courier', monospace\" font-style=\"italic\" font-size=\"10.00\">covered_functions()</text>\n",
       "</a>\n",
       "</g>\n",
       "<g id=\"a_node2_19\"><a xlink:href=\"#\" xlink:title=\"events(self) &#45;&gt; Set:&#10;Return a collection of events. To be overridden in subclasses.\">\n",
       "<text text-anchor=\"start\" x=\"31.12\" y=\"-155.5\" font-family=\"'Fira Mono', 'Source Code Pro', 'Courier', monospace\" font-style=\"italic\" font-size=\"10.00\">events()</text>\n",
       "</a>\n",
       "</g>\n",
       "<g id=\"a_node2_20\"><a xlink:href=\"#\" xlink:title=\"traceit(self, frame: frame, event: str, arg: Any) &#45;&gt; None:&#10;Tracing function.&#10;Saves the first function and calls collect().\">\n",
       "<text text-anchor=\"start\" x=\"31.12\" y=\"-142.75\" font-family=\"'Fira Mono', 'Source Code Pro', 'Courier', monospace\" font-style=\"italic\" font-size=\"10.00\">traceit()</text>\n",
       "</a>\n",
       "</g>\n",
       "</a>\n",
       "</g>\n",
       "</a>\n",
       "</g>\n",
       "</g>\n",
       "<!-- CoverageCollector&#45;&gt;Collector -->\n",
       "<g id=\"edge1\" class=\"edge\">\n",
       "<title>CoverageCollector&#45;&gt;Collector</title>\n",
       "<path fill=\"none\" stroke=\"black\" d=\"M168.14,-97.79C163.81,-106.08 159.14,-115 154.33,-124.21\"/>\n",
       "<polygon fill=\"none\" stroke=\"black\" points=\"151.3,-122.45 149.77,-132.94 157.5,-125.7 151.3,-122.45\"/>\n",
       "</g>\n",
       "<!-- StackInspector -->\n",
       "<g id=\"node4\" class=\"node\">\n",
       "<title>StackInspector</title>\n",
       "<g id=\"a_node4\"><a xlink:href=\"StackInspector.ipynb\" xlink:title=\"class StackInspector:&#10;Provide functions to inspect the stack\">\n",
       "<polygon fill=\"none\" stroke=\"black\" points=\"61.12,-504.5 61.12,-550.5 227.12,-550.5 227.12,-504.5 61.12,-504.5\"/>\n",
       "<text text-anchor=\"start\" x=\"97.62\" y=\"-534.2\" font-family=\"Raleway, Helvetica, Arial, sans-serif\" font-weight=\"bold\" font-size=\"14.00\" fill=\"#6a0dad\">StackInspector</text>\n",
       "<polyline fill=\"none\" stroke=\"black\" points=\"61.12,-525.25 227.12,-525.25\"/>\n",
       "<g id=\"a_node4_21\"><a xlink:href=\"#\" xlink:title=\"StackInspector\">\n",
       "<g id=\"a_node4_22\"><a xlink:href=\"StackInspector.ipynb\" xlink:title=\"_generated_function_cache = {(&#39;remove_html_markup&#39;, 1): &lt;function remove_html_markup at 0x112cd5120&gt;, (&#39;middle&#39;, 1): &lt;function middle at 0x112e75120&gt;, (&#39;_clean_thread_parent_frames&#39;, 775): &lt;function IPythonKernel._clean_thread_parent_frames at 0x112e75620&gt;, (&#39;_clean_thread_parent_frames&#39;, 788): &lt;function IPythonKernel._clean_thread_parent_frames at 0x112e74c20&gt;, (&#39;_clean_thread_parent_frames&#39;, 790): &lt;function IPythonKernel._clean_thread_parent_frames at 0x112e765c0&gt;, (&#39;ident&#39;, 1198): &lt;function Thread.ident at 0x112e76700&gt;, (&#39;ident&#39;, 1207): &lt;function Thread.ident at 0x112cd5080&gt;, (&#39;ident&#39;, 1208): &lt;function Thread.ident at 0x112e767a0&gt;, (&#39;_clean_thread_parent_frames&#39;, 791): &lt;function IPythonKernel._clean_thread_parent_frames at 0x112e76660&gt;, (&#39;_clean_thread_parent_frames&#39;, 792): &lt;function IPythonKernel._clean_thread_parent_frames at 0x112e76840&gt;, (&#39;_clean_thread_parent_frames&#39;, 793): &lt;function IPythonKernel._clean_thread_parent_frames at 0x112e768e0&gt;, (&#39;_clean_thread_parent_frames&#39;, 794): &lt;function IPythonKernel._clean_thread_parent_frames at 0x112e76980&gt;, (&#39;_clean_thread_parent_frames&#39;, 800): &lt;function IPythonKernel._clean_thread_parent_frames at 0x112e76a20&gt;, (&#39;_clean_thread_parent_frames&#39;, 801): &lt;function IPythonKernel._clean_thread_parent_frames at 0x112e76ac0&gt;, (&#39;_clean_thread_parent_frames&#39;, 789): &lt;function IPythonKernel._clean_thread_parent_frames at 0x112e76b60&gt;}\">\n",
       "<text text-anchor=\"start\" x=\"69.12\" y=\"-511.75\" font-family=\"'Fira Mono', 'Source Code Pro', 'Courier', monospace\" font-size=\"10.00\">_generated_function_cache</text>\n",
       "</a>\n",
       "</g>\n",
       "</a>\n",
       "</g>\n",
       "</a>\n",
       "</g>\n",
       "</g>\n",
       "<!-- CoverageCollector&#45;&gt;StackInspector -->\n",
       "<g id=\"edge4\" class=\"edge\">\n",
       "<title>CoverageCollector&#45;&gt;StackInspector</title>\n",
       "<path fill=\"none\" stroke=\"black\" d=\"M194.02,-97.91C194.54,-176.2 191.67,-336.09 164.12,-468 162.38,-476.38 159.77,-485.21 157.02,-493.41\"/>\n",
       "<polygon fill=\"none\" stroke=\"black\" points=\"153.79,-492.06 153.75,-502.66 160.39,-494.4 153.79,-492.06\"/>\n",
       "</g>\n",
       "<!-- Tracer -->\n",
       "<g id=\"node3\" class=\"node\">\n",
       "<title>Tracer</title>\n",
       "<g id=\"a_node3\"><a xlink:href=\"Tracer.ipynb\" xlink:title=\"class Tracer:&#10;A class for tracing a piece of code. Use as `with Tracer(): block()`\">\n",
       "<polygon fill=\"none\" stroke=\"black\" points=\"55.12,-383.25 55.12,-467.5 155.12,-467.5 155.12,-383.25 55.12,-383.25\"/>\n",
       "<text text-anchor=\"start\" x=\"85.62\" y=\"-451.2\" font-family=\"Raleway, Helvetica, Arial, sans-serif\" font-weight=\"bold\" font-size=\"14.00\" fill=\"#6a0dad\">Tracer</text>\n",
       "<polyline fill=\"none\" stroke=\"black\" points=\"55.12,-442.25 155.12,-442.25\"/>\n",
       "<g id=\"a_node3_23\"><a xlink:href=\"#\" xlink:title=\"Tracer\">\n",
       "<g id=\"a_node3_24\"><a xlink:href=\"Tracer.ipynb\" xlink:title=\"__enter__(self) &#45;&gt; Any:&#10;Called at begin of `with` block. Turn tracing on.\">\n",
       "<text text-anchor=\"start\" x=\"63.12\" y=\"-429.75\" font-family=\"'Fira Mono', 'Source Code Pro', 'Courier', monospace\" font-weight=\"bold\" font-size=\"10.00\">__enter__()</text>\n",
       "</a>\n",
       "</g>\n",
       "<g id=\"a_node3_25\"><a xlink:href=\"Tracer.ipynb\" xlink:title=\"__exit__(self, exc_tp: Type, exc_value: BaseException, exc_traceback: traceback) &#45;&gt; Optional[bool]:&#10;Called at end of `with` block. Turn tracing off.&#10;Return `None` if ok, not `None` if internal error.\">\n",
       "<text text-anchor=\"start\" x=\"63.12\" y=\"-417\" font-family=\"'Fira Mono', 'Source Code Pro', 'Courier', monospace\" font-weight=\"bold\" font-style=\"italic\" font-size=\"10.00\">__exit__()</text>\n",
       "</a>\n",
       "</g>\n",
       "<g id=\"a_node3_26\"><a xlink:href=\"Tracer.ipynb\" xlink:title=\"__init__(self, file: &lt;class &#39;TextIO&#39;&gt; = &lt;ipykernel.iostream.OutStream object at 0x111b55ea0&gt;) &#45;&gt; None:&#10;Create a new tracer.&#10;If `file` is given, output to `file` instead of stdout.\">\n",
       "<text text-anchor=\"start\" x=\"63.12\" y=\"-404.25\" font-family=\"'Fira Mono', 'Source Code Pro', 'Courier', monospace\" font-weight=\"bold\" font-style=\"italic\" font-size=\"10.00\">__init__()</text>\n",
       "</a>\n",
       "</g>\n",
       "<g id=\"a_node3_27\"><a xlink:href=\"Tracer.ipynb\" xlink:title=\"changed_vars(self, new_vars: Dict[str, Any]) &#45;&gt; Dict[str, Any]:&#10;Track changed variables, based on `new_vars` observed.\">\n",
       "<text text-anchor=\"start\" x=\"63.12\" y=\"-391.5\" font-family=\"'Fira Mono', 'Source Code Pro', 'Courier', monospace\" font-weight=\"bold\" font-size=\"10.00\">changed_vars()</text>\n",
       "</a>\n",
       "</g>\n",
       "</a>\n",
       "</g>\n",
       "</a>\n",
       "</g>\n",
       "</g>\n",
       "<!-- Collector&#45;&gt;Tracer -->\n",
       "<g id=\"edge2\" class=\"edge\">\n",
       "<title>Collector&#45;&gt;Tracer</title>\n",
       "<path fill=\"none\" stroke=\"black\" d=\"M100.44,-346.5C100.97,-355.17 101.48,-363.67 101.96,-371.69\"/>\n",
       "<polygon fill=\"none\" stroke=\"black\" points=\"98.46,-371.76 102.55,-381.54 105.44,-371.34 98.46,-371.76\"/>\n",
       "</g>\n",
       "<!-- Tracer&#45;&gt;StackInspector -->\n",
       "<g id=\"edge3\" class=\"edge\">\n",
       "<title>Tracer&#45;&gt;StackInspector</title>\n",
       "<path fill=\"none\" stroke=\"black\" d=\"M121.33,-467.97C124.63,-476.46 128.07,-485.29 131.25,-493.44\"/>\n",
       "<polygon fill=\"none\" stroke=\"black\" points=\"127.94,-494.58 134.83,-502.63 134.46,-492.04 127.94,-494.58\"/>\n",
       "</g>\n",
       "<!-- ValueCollector -->\n",
       "<g id=\"node5\" class=\"node\">\n",
       "<title>ValueCollector</title>\n",
       "<g id=\"a_node5\"><a xlink:href=\"#\" xlink:title=\"class ValueCollector:&#10;&quot;A class to collect local variables and their values.\">\n",
       "<polygon fill=\"none\" stroke=\"black\" points=\"0,-13.25 0,-84.75 108.25,-84.75 108.25,-13.25 0,-13.25\"/>\n",
       "<text text-anchor=\"start\" x=\"8\" y=\"-68.45\" font-family=\"Raleway, Helvetica, Arial, sans-serif\" font-weight=\"bold\" font-size=\"14.00\" fill=\"#6a0dad\">ValueCollector</text>\n",
       "<polyline fill=\"none\" stroke=\"black\" points=\"0,-59.5 108.25,-59.5\"/>\n",
       "<g id=\"a_node5_28\"><a xlink:href=\"#\" xlink:title=\"ValueCollector\">\n",
       "<g id=\"a_node5_29\"><a xlink:href=\"#\" xlink:title=\"__init__(self) &#45;&gt; None:&#10;Constructor.\">\n",
       "<text text-anchor=\"start\" x=\"24.12\" y=\"-47\" font-family=\"'Fira Mono', 'Source Code Pro', 'Courier', monospace\" font-weight=\"bold\" font-style=\"italic\" font-size=\"10.00\">__init__()</text>\n",
       "</a>\n",
       "</g>\n",
       "<g id=\"a_node5_30\"><a xlink:href=\"#\" xlink:title=\"events(self) &#45;&gt; Set[str]:&#10;A set of (variable, value) pairs observed\">\n",
       "<text text-anchor=\"start\" x=\"24.12\" y=\"-34.25\" font-family=\"'Fira Mono', 'Source Code Pro', 'Courier', monospace\" font-weight=\"bold\" font-style=\"italic\" font-size=\"10.00\">events()</text>\n",
       "</a>\n",
       "</g>\n",
       "<g id=\"a_node5_31\"><a xlink:href=\"#\" xlink:title=\"collect(self, frame: frame, event: str, arg: Any) &#45;&gt; None:&#10;Collector function. To be overloaded in subclasses.\">\n",
       "<text text-anchor=\"start\" x=\"24.12\" y=\"-21.5\" font-family=\"'Fira Mono', 'Source Code Pro', 'Courier', monospace\" font-style=\"italic\" font-size=\"10.00\">collect()</text>\n",
       "</a>\n",
       "</g>\n",
       "</a>\n",
       "</g>\n",
       "</a>\n",
       "</g>\n",
       "</g>\n",
       "<!-- ValueCollector&#45;&gt;Collector -->\n",
       "<g id=\"edge5\" class=\"edge\">\n",
       "<title>ValueCollector&#45;&gt;Collector</title>\n",
       "<path fill=\"none\" stroke=\"black\" d=\"M61.55,-85.18C63.93,-96.4 66.69,-109.5 69.6,-123.24\"/>\n",
       "<polygon fill=\"none\" stroke=\"black\" points=\"66.14,-123.83 71.63,-132.89 72.99,-122.38 66.14,-123.83\"/>\n",
       "</g>\n",
       "<!-- Legend -->\n",
       "<g id=\"node6\" class=\"node\">\n",
       "<title>Legend</title>\n",
       "<text text-anchor=\"start\" x=\"278.5\" y=\"-65\" font-family=\"Raleway, Helvetica, Arial, sans-serif\" font-weight=\"bold\" font-size=\"10.00\" fill=\"#6a0dad\">Legend</text>\n",
       "<text text-anchor=\"start\" x=\"278.5\" y=\"-55\" font-family=\"Raleway, Helvetica, Arial, sans-serif\" font-size=\"10.00\">• </text>\n",
       "<text text-anchor=\"start\" x=\"284.5\" y=\"-55\" font-family=\"'Fira Mono', 'Source Code Pro', 'Courier', monospace\" font-weight=\"bold\" font-size=\"8.00\">public_method()</text>\n",
       "<text text-anchor=\"start\" x=\"278.5\" y=\"-45\" font-family=\"Raleway, Helvetica, Arial, sans-serif\" font-size=\"10.00\">• </text>\n",
       "<text text-anchor=\"start\" x=\"284.5\" y=\"-45\" font-family=\"'Fira Mono', 'Source Code Pro', 'Courier', monospace\" font-size=\"8.00\">private_method()</text>\n",
       "<text text-anchor=\"start\" x=\"278.5\" y=\"-35\" font-family=\"Raleway, Helvetica, Arial, sans-serif\" font-size=\"10.00\">• </text>\n",
       "<text text-anchor=\"start\" x=\"284.5\" y=\"-35\" font-family=\"'Fira Mono', 'Source Code Pro', 'Courier', monospace\" font-style=\"italic\" font-size=\"8.00\">overloaded_method()</text>\n",
       "<text text-anchor=\"start\" x=\"278.5\" y=\"-25.95\" font-family=\"Helvetica,sans-Serif\" font-size=\"9.00\">Hover over names to see doc</text>\n",
       "</g>\n",
       "</g>\n",
       "</svg>\n"
      ],
      "text/plain": [
       "<graphviz.graphs.Digraph at 0x125428830>"
      ]
     },
     "execution_count": 168,
     "metadata": {},
     "output_type": "execute_result"
    }
   ],
   "source": [
    "# ignore\n",
    "display_class_hierarchy([CoverageCollector, ValueCollector],\n",
    "                        public_methods=[\n",
    "                            Tracer.__init__,\n",
    "                            Tracer.__enter__,\n",
    "                            Tracer.__exit__,\n",
    "                            Tracer.changed_vars,  # type: ignore\n",
    "                            Collector.__init__,\n",
    "                            Collector.__repr__,\n",
    "                            Collector.function,\n",
    "                            Collector.args,\n",
    "                            Collector.argstring,\n",
    "                            Collector.exception,\n",
    "                            Collector.id,\n",
    "                            Collector.collect,\n",
    "                            CoverageCollector.coverage,\n",
    "                            CoverageCollector.covered_functions,\n",
    "                            CoverageCollector.events,\n",
    "                            ValueCollector.__init__,\n",
    "                            ValueCollector.events\n",
    "                        ],\n",
    "                        project='debuggingbook')"
   ]
  },
  {
   "cell_type": "markdown",
   "metadata": {
    "button": false,
    "new_sheet": true,
    "run_control": {
     "read_only": false
    },
    "slideshow": {
     "slide_type": "slide"
    }
   },
   "source": [
    "## Lessons Learned\n",
    "\n",
    "* _Correlations_ between execution events and outcomes (pass/fail) can make important hints for debugging\n",
    "* Events occurring only (or mostly) during failing runs can be _highlighted_ and _ranked_ to guide the search\n",
    "* Important hints include whether the _execution of specific code locations_ correlates with failure"
   ]
  },
  {
   "cell_type": "markdown",
   "metadata": {
    "button": false,
    "new_sheet": false,
    "run_control": {
     "read_only": false
    },
    "slideshow": {
     "slide_type": "slide"
    }
   },
   "source": [
    "## Next Steps\n",
    "\n",
    "Chapters that build on this one include\n",
    "\n",
    "* [how to determine invariants that correlate with failures](DynamicInvariants.ipynb)\n",
    "* [how to automatically repair programs](Repairer.ipynb)"
   ]
  },
  {
   "cell_type": "markdown",
   "metadata": {
    "slideshow": {
     "slide_type": "slide"
    }
   },
   "source": [
    "## Background\n",
    "\n",
    "The seminal works on statistical debugging are two papers:\n",
    "\n",
    "* \"Visualization of Test Information to Assist Fault Localization\" \\cite{Jones2002} by James Jones, Mary Jean Harrold, and John Stasko introducing Tarantula and its visualization. The paper won an ACM SIGSOFT 10-year impact award.\n",
    "* \"Bug Isolation via Remote Program Sampling\" \\cite{Liblit2003} by Ben Liblit, Alex Aiken, Alice X. Zheng, and Michael I. Jordan, introducing the term \"Statistical debugging\". Liblit won the ACM Doctoral Dissertation Award for this work.\n",
    "\n",
    "The Ochiai metric for fault localization was introduced by \\cite{Abreu2009}. The overview by Wong et al. \\cite{Wong2016} gives a comprehensive overview on the field of statistical fault localization.\n",
    "\n",
    "The study by Parnin and Orso \\cite{Parnin2011} is a must to understand the limitations of the technique."
   ]
  },
  {
   "cell_type": "markdown",
   "metadata": {
    "button": false,
    "new_sheet": true,
    "run_control": {
     "read_only": false
    },
    "slideshow": {
     "slide_type": "slide"
    }
   },
   "source": [
    "## Exercises"
   ]
  },
  {
   "cell_type": "markdown",
   "metadata": {
    "slideshow": {
     "slide_type": "subslide"
    },
    "solution2": "hidden",
    "solution2_first": true
   },
   "source": [
    "### Exercise 1: A Postcondition for Middle\n",
    "\n",
    "What would be a postcondition for `middle()`? How can you check it?"
   ]
  },
  {
   "cell_type": "markdown",
   "metadata": {
    "slideshow": {
     "slide_type": "skip"
    },
    "solution2": "hidden"
   },
   "source": [
    "**Solution.** A simple postcondition for `middle()` would be\n",
    "\n",
    "```python\n",
    "assert m == sorted([x, y, z])[1]\n",
    "```\n",
    "\n",
    "where `m` is the value returned by `middle()`. `sorted()` sorts the given list, and the index `[1]` returns, well, the middle element. (This might also be a much shorter, but possibly slightly more expensive implementation for `middle()`)"
   ]
  },
  {
   "cell_type": "markdown",
   "metadata": {
    "slideshow": {
     "slide_type": "skip"
    },
    "solution2": "hidden"
   },
   "source": [
    "Since `middle()` has several `return` statements, the easiest way to check the result is to create a wrapper around `middle()`:"
   ]
  },
  {
   "cell_type": "code",
   "execution_count": 169,
   "metadata": {
    "execution": {
     "iopub.execute_input": "2025-01-16T09:36:41.980018Z",
     "iopub.status.busy": "2025-01-16T09:36:41.979835Z",
     "iopub.status.idle": "2025-01-16T09:36:41.983734Z",
     "shell.execute_reply": "2025-01-16T09:36:41.983107Z"
    },
    "slideshow": {
     "slide_type": "skip"
    },
    "solution2": "hidden"
   },
   "outputs": [],
   "source": [
    "def middle_checked(x, y, z):  # type: ignore\n",
    "    m = middle(x, y, z)\n",
    "    assert m == sorted([x, y, z])[1]\n",
    "    return m"
   ]
  },
  {
   "cell_type": "markdown",
   "metadata": {
    "slideshow": {
     "slide_type": "skip"
    },
    "solution2": "hidden"
   },
   "source": [
    "`middle_checked()` catches the error:"
   ]
  },
  {
   "cell_type": "code",
   "execution_count": 170,
   "metadata": {
    "execution": {
     "iopub.execute_input": "2025-01-16T09:36:41.986245Z",
     "iopub.status.busy": "2025-01-16T09:36:41.986131Z",
     "iopub.status.idle": "2025-01-16T09:36:42.001366Z",
     "shell.execute_reply": "2025-01-16T09:36:42.000646Z"
    },
    "slideshow": {
     "slide_type": "skip"
    },
    "solution2": "hidden"
   },
   "outputs": [],
   "source": [
    "from ExpectError import ExpectError"
   ]
  },
  {
   "cell_type": "code",
   "execution_count": 171,
   "metadata": {
    "execution": {
     "iopub.execute_input": "2025-01-16T09:36:42.003635Z",
     "iopub.status.busy": "2025-01-16T09:36:42.003517Z",
     "iopub.status.idle": "2025-01-16T09:36:42.007119Z",
     "shell.execute_reply": "2025-01-16T09:36:42.006660Z"
    },
    "slideshow": {
     "slide_type": "skip"
    },
    "solution2": "hidden"
   },
   "outputs": [
    {
     "name": "stderr",
     "output_type": "stream",
     "text": [
      "Traceback (most recent call last):\n",
      "  File \"/var/folders/n2/xd9445p97rb3xh7m1dfx8_4h0006ts/T/ipykernel_98772/3016629944.py\", line 2, in <module>\n",
      "    m = middle_checked(2, 1, 3)\n",
      "        ^^^^^^^^^^^^^^^^^^^^^^^\n",
      "  File \"/var/folders/n2/xd9445p97rb3xh7m1dfx8_4h0006ts/T/ipykernel_98772/1374660292.py\", line 3, in middle_checked\n",
      "    assert m == sorted([x, y, z])[1]\n",
      "           ^^^^^^^^^^^^^^^^^^^^^^^^^\n",
      "AssertionError (expected)\n"
     ]
    }
   ],
   "source": [
    "with ExpectError():\n",
    "    m = middle_checked(2, 1, 3)"
   ]
  },
  {
   "cell_type": "markdown",
   "metadata": {
    "button": false,
    "new_sheet": false,
    "run_control": {
     "read_only": false
    },
    "slideshow": {
     "slide_type": "subslide"
    }
   },
   "source": [
    "### Exercise 2: Statistical Dependencies\n",
    "\n",
    "Using the dependencies from [the chapter on slicing](Slicer.ipynb), can you determine which specific data or control dependencies correlate with failure?"
   ]
  },
  {
   "cell_type": "markdown",
   "metadata": {
    "slideshow": {
     "slide_type": "subslide"
    }
   },
   "source": [
    "### Exercise 3: Correlating with Conditions"
   ]
  },
  {
   "cell_type": "markdown",
   "metadata": {
    "slideshow": {
     "slide_type": "fragment"
    }
   },
   "source": [
    "In HTML, it is permissible that tag attribute values can also have single quotes, as in\n",
    "\n",
    "```html\n",
    "<b class='extrabold'>abc</b>\n",
    "```\n",
    "\n",
    "Such attributes are actually treated correctly by our `remove_html_markup()` code."
   ]
  },
  {
   "cell_type": "markdown",
   "metadata": {
    "slideshow": {
     "slide_type": "subslide"
    },
    "solution2": "hidden",
    "solution2_first": true
   },
   "source": [
    "#### Part 1: Experiment\n",
    "\n",
    "What happens if test inputs with single quote attributes become part of our test set? How does statistical fault localization change?"
   ]
  },
  {
   "cell_type": "markdown",
   "metadata": {
    "slideshow": {
     "slide_type": "skip"
    },
    "solution2": "hidden"
   },
   "source": [
    "**Solution.** The effect is that the line `quote = not quote` will be executed both in passing and failing runs, spoiling the correlation."
   ]
  },
  {
   "cell_type": "markdown",
   "metadata": {
    "slideshow": {
     "slide_type": "subslide"
    }
   },
   "source": [
    "#### Part 2: Collecting Conditions"
   ]
  },
  {
   "cell_type": "markdown",
   "metadata": {
    "slideshow": {
     "slide_type": "fragment"
    }
   },
   "source": [
    "Instead of aiming for _lines_ that correlate with failures, we can look at individual _branch conditions_ such as `c == \"'\"`, `c == '\"'`, or `tag` that correlate with failures. In the above case, the condition `c == \"'\"` would correlate, whereas `c == '\"'` would not. \n",
    "\n",
    "Reusing the code instrumentation from [the chapter on slicing](Slicer.ipynb), collect the individual values of Boolean conditions in tests during execution in a `ConditionCollector` class. Show the event table."
   ]
  }
 ],
 "metadata": {
  "ipub": {
   "bibliography": "fuzzingbook.bib",
   "toc": true
  },
  "kernelspec": {
   "display_name": "Python 3 (ipykernel)",
   "language": "python",
   "name": "python3"
  },
  "language_info": {
   "codemirror_mode": {
    "name": "ipython",
    "version": 3
   },
   "file_extension": ".py",
   "mimetype": "text/x-python",
   "name": "python",
   "nbconvert_exporter": "python",
   "pygments_lexer": "ipython3",
   "version": "3.12.8"
  },
  "toc": {
   "base_numbering": 1,
   "nav_menu": {},
   "number_sections": true,
   "sideBar": true,
   "skip_h1_title": true,
   "title_cell": "",
   "title_sidebar": "Contents",
   "toc_cell": false,
   "toc_position": {},
   "toc_section_display": true,
   "toc_window_display": true
  },
  "toc-autonumbering": false
 },
 "nbformat": 4,
 "nbformat_minor": 4
}