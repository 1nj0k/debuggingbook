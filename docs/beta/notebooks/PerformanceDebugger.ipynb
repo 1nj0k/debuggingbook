{
 "cells": [
  {
   "cell_type": "markdown",
   "metadata": {
    "button": false,
    "new_sheet": false,
    "run_control": {
     "read_only": false
    },
    "slideshow": {
     "slide_type": "slide"
    }
   },
   "source": [
    "# Debugging Performance Issues\n",
    "\n",
    "Most chapters of this book deal with _functional_ issues – that is, issues related to the _functionality_ (or its absence) of the code in question. However, debugging can also involve _nonfunctional_ issues, however – performance, usability, reliability, and more. In this chapter, we give a short introduction on how to debug such nonfunctional issues, notably _performance_ issues."
   ]
  },
  {
   "cell_type": "code",
   "execution_count": 1,
   "metadata": {
    "execution": {
     "iopub.execute_input": "2025-01-13T14:57:36.019890Z",
     "iopub.status.busy": "2025-01-13T14:57:36.019361Z",
     "iopub.status.idle": "2025-01-13T14:57:36.104895Z",
     "shell.execute_reply": "2025-01-13T14:57:36.104407Z"
    },
    "slideshow": {
     "slide_type": "skip"
    }
   },
   "outputs": [
    {
     "data": {
      "text/html": [
       "\n",
       "        <iframe\n",
       "            width=\"640\"\n",
       "            height=\"360\"\n",
       "            src=\"https://www.youtube-nocookie.com/embed/0tMeB9G0uUI\"\n",
       "            frameborder=\"0\"\n",
       "            allowfullscreen\n",
       "            \n",
       "        ></iframe>\n",
       "        "
      ],
      "text/plain": [
       "<IPython.lib.display.IFrame at 0x108845e50>"
      ]
     },
     "execution_count": 1,
     "metadata": {},
     "output_type": "execute_result"
    }
   ],
   "source": [
    "from bookutils import YouTubeVideo\n",
    "YouTubeVideo(\"0tMeB9G0uUI\")"
   ]
  },
  {
   "cell_type": "markdown",
   "metadata": {
    "button": false,
    "new_sheet": false,
    "run_control": {
     "read_only": false
    },
    "slideshow": {
     "slide_type": "subslide"
    }
   },
   "source": [
    "**Prerequisites**\n",
    "\n",
    "* This chapter leverages visualization capabilities from [the chapter on statistical debugging](StatisticalDebugger.ipynb).\n",
    "* We also show how to debug nonfunctional issues using [delta debugging](DeltaDebugger.ipynb)."
   ]
  },
  {
   "cell_type": "code",
   "execution_count": 2,
   "metadata": {
    "button": false,
    "execution": {
     "iopub.execute_input": "2025-01-13T14:57:36.128015Z",
     "iopub.status.busy": "2025-01-13T14:57:36.127815Z",
     "iopub.status.idle": "2025-01-13T14:57:36.130650Z",
     "shell.execute_reply": "2025-01-13T14:57:36.130262Z"
    },
    "new_sheet": false,
    "run_control": {
     "read_only": false
    },
    "slideshow": {
     "slide_type": "skip"
    }
   },
   "outputs": [],
   "source": [
    "import bookutils.setup"
   ]
  },
  {
   "cell_type": "code",
   "execution_count": 3,
   "metadata": {
    "execution": {
     "iopub.execute_input": "2025-01-13T14:57:36.132426Z",
     "iopub.status.busy": "2025-01-13T14:57:36.132306Z",
     "iopub.status.idle": "2025-01-13T14:57:37.216358Z",
     "shell.execute_reply": "2025-01-13T14:57:37.215952Z"
    },
    "slideshow": {
     "slide_type": "skip"
    }
   },
   "outputs": [],
   "source": [
    "import StatisticalDebugger\n",
    "import DeltaDebugger"
   ]
  },
  {
   "cell_type": "markdown",
   "metadata": {
    "slideshow": {
     "slide_type": "skip"
    }
   },
   "source": [
    "## Synopsis\n",
    "<!-- Automatically generated. Do not edit. -->\n",
    "\n",
    "To [use the code provided in this chapter](Importing.ipynb), write\n",
    "\n",
    "```python\n",
    ">>> from debuggingbook.PerformanceDebugger import <identifier>\n",
    "```\n",
    "\n",
    "and then make use of the following features.\n",
    "\n",
    "\n",
    "This chapter provides a class `PerformanceDebugger` that allows measuring and visualizing the time taken per line in a function.\n",
    "\n",
    "```python\n",
    ">>> with PerformanceDebugger(TimeCollector) as debugger:\n",
    ">>>     for i in range(100):\n",
    ">>>         s = remove_html_markup('<b>foo</b>')\n",
    "```\n",
    "The distribution of executed time within each function can be obtained by printing out the debugger:\n",
    "\n",
    "```python\n",
    ">>> print(debugger)\n",
    " 238   3% def remove_html_markup(s):  # type: ignore\n",
    " 239   2%     tag = False\n",
    " 240   2%     quote = False\n",
    " 241   2%     out = \"\"\n",
    " 242   0%\n",
    " 243  17%     for c in s:\n",
    " 244  14%         assert tag or not quote\n",
    " 245   0%\n",
    " 246  14%         if c == '<' and not quote:\n",
    " 247   2%             tag = True\n",
    " 248  11%         elif c == '>' and not quote:\n",
    " 249   2%             tag = False\n",
    " 250   8%         elif (c == '\"' or c == \"'\") and tag:\n",
    " 251   0%             quote = not quote\n",
    " 252   8%         elif not tag:\n",
    " 253   4%             out = out + c\n",
    " 254   0%\n",
    " 255   2%     return out\n",
    "\n",
    "\n",
    "```\n",
    "The sum of all percentages in a function should always be 100%.\n",
    "\n",
    "These percentages can also be visualized, where darker shades represent higher percentage values:\n",
    "\n",
    "```python\n",
    ">>> debugger\n",
    "```\n",
    "<pre style=\"background-color:hsl(240, 100%, 95.53698811623286%)\"\n",
    "                    title=\"Line 238:   3% 0.000560171902179718\"> 238 def remove_html_markup(s):  # type: ignore</pre>\n",
    "<pre style=\"background-color:hsl(240, 100%, 95.73790452955119%)\"\n",
    "                    title=\"Line 239:   2% 0.0005349540151655674\"> 239     tag = False</pre>\n",
    "<pre style=\"background-color:hsl(240, 100%, 96.08445543044732%)\"\n",
    "                    title=\"Line 240:   2% 0.0004914569144602865\"> 240     quote = False</pre>\n",
    "<pre style=\"background-color:hsl(240, 100%, 96.58304965553344%)\"\n",
    "                    title=\"Line 241:   2% 0.00042887619929388165\"> 241     out = &quot;&quot;</pre>\n",
    "<pre style=\"background-color:hsl(240, 100%, 100.0%)\"\n",
    "                    title=\"Line 242:   0% 0.0\"> 242 &nbsp;</pre>\n",
    "<pre style=\"background-color:hsl(240, 100%, 75.0%)\"\n",
    "                    title=\"Line 243:  17% 0.003137858002446592\"> 243     for c in s:</pre>\n",
    "<pre style=\"background-color:hsl(240, 100%, 78.26321455316736%)\"\n",
    "                    title=\"Line 244:  14% 0.002728277846472338\"> 244         assert tag or not quote</pre>\n",
    "<pre style=\"background-color:hsl(240, 100%, 100.0%)\"\n",
    "                    title=\"Line 245:   0% 0.0\"> 245 &nbsp;</pre>\n",
    "<pre style=\"background-color:hsl(240, 100%, 78.48726088655874%)\"\n",
    "                    title=\"Line 246:  14% 0.0027001568232662976\"> 246         if c == &#x27;&lt;&#x27; and not quote:</pre>\n",
    "<pre style=\"background-color:hsl(240, 100%, 95.63994896674872%)\"\n",
    "                    title=\"Line 247:   2% 0.0005472488410305232\"> 247             tag = True</pre>\n",
    "<pre style=\"background-color:hsl(240, 100%, 82.91963468680618%)\"\n",
    "                    title=\"Line 248:  11% 0.0021438304393086582\"> 248         elif c == &#x27;&gt;&#x27; and not quote:</pre>\n",
    "<pre style=\"background-color:hsl(240, 100%, 95.67679670490404%)\"\n",
    "                    title=\"Line 249:   2% 0.0005426239222288132\"> 249             tag = False</pre>\n",
    "<pre style=\"background-color:hsl(240, 100%, 87.14663123221622%)\"\n",
    "                    title=\"Line 250:   8% 0.0016132818418554962\"> 250         elif (c == &#x27;&quot;&#x27; or c == &quot;&#x27;&quot;) and tag:</pre>\n",
    "<pre style=\"background-color:hsl(240, 100%, 100.0%)\"\n",
    "                    title=\"Line 251:   0% 0.0\"> 251             quote = not quote</pre>\n",
    "<pre style=\"background-color:hsl(240, 100%, 86.9880960596008%)\"\n",
    "                    title=\"Line 252:   8% 0.0016331802762579173\"> 252         elif not tag:</pre>\n",
    "<pre style=\"background-color:hsl(240, 100%, 93.61249580071525%)\"\n",
    "                    title=\"Line 253:   4% 0.0008017232466954738\"> 253             out = out + c</pre>\n",
    "<pre style=\"background-color:hsl(240, 100%, 100.0%)\"\n",
    "                    title=\"Line 254:   0% 0.0\"> 254 &nbsp;</pre>\n",
    "<pre style=\"background-color:hsl(240, 100%, 95.70261245132679%)\"\n",
    "                    title=\"Line 255:   2% 0.0005393836763687432\"> 255     return out</pre>\n",
    "\n",
    "\n",
    "The abstract `MetricCollector` class allows subclassing to build more collectors, such as `HitCollector`.\n",
    "\n",
    "![](PICS/PerformanceDebugger-synopsis-1.svg)\n",
    "\n"
   ]
  },
  {
   "cell_type": "markdown",
   "metadata": {
    "slideshow": {
     "slide_type": "slide"
    }
   },
   "source": [
    "## Measuring Performance\n",
    "\n",
    "The solution to debugging performance issues fits in two simple rules:\n",
    "\n",
    "1. _Measure_ performance\n",
    "2. _Break down_ how individual parts of your code contribute to performance.\n",
    "\n",
    "The first part, actually _measuring_ performance, is key here. Developers often take elaborated guesses on which aspects of their code impact performance, and think about all possible ways to optimize their code – and at the same time, making it harder to understand, harder to evolve, and harder to maintain. In most cases, such guesses are wrong. Instead, _measure_ performance of your program, _identify_ the very few parts that may need to get improved, and again _measure_ the impact of your changes."
   ]
  },
  {
   "cell_type": "markdown",
   "metadata": {
    "slideshow": {
     "slide_type": "subslide"
    }
   },
   "source": [
    "Almost all programming languages offer a way to measure performance and breaking it down to individual parts of the code – a means also known as *profiling*. Profiling works by measuring the execution time for each function (or even more fine-grained location) in your program. This can be achieved by\n",
    "\n",
    "1. _Instrumenting_ or _tracing_ code such that the current time at entry and exit of each function (or line), thus determining the time spent. In Python, this is achieved by profilers like [profile or cProfile](https://docs.python.org/3/library/profile.html)\n",
    "\n",
    "2. _Sampling_ the current function call stack at regular intervals, and thus assessing which functions are most active (= take the most time) during execution. For Python, the [scalene](https://github.com/plasma-umass/scalene) profiler works this way.\n",
    "\n",
    "Pretty much all programming languages support profiling, either through measuring, sampling, or both. As a rule of thumb, _interpreted_ languages more frequently support measuring (as it is easy to implement in an interpreter), while _compiled_ languages more frequently support sampling (because instrumentation requires recompilation). Python is lucky to support both methods."
   ]
  },
  {
   "attachments": {},
   "cell_type": "markdown",
   "metadata": {
    "slideshow": {
     "slide_type": "subslide"
    }
   },
   "source": [
    "### Tracing Execution Profiles\n",
    "\n",
    "Let us illustrate profiling in a simple example. The `ChangeCounter` class (which we will encounter in the [chapter on mining version histories](ChangeCounter.ipynb)) reads in a version history from a git repository. Yet, it takes more than a minute to read in the debugging book change history:"
   ]
  },
  {
   "cell_type": "code",
   "execution_count": 4,
   "metadata": {
    "execution": {
     "iopub.execute_input": "2025-01-13T14:57:37.218463Z",
     "iopub.status.busy": "2025-01-13T14:57:37.218290Z",
     "iopub.status.idle": "2025-01-13T14:57:37.472886Z",
     "shell.execute_reply": "2025-01-13T14:57:37.472356Z"
    },
    "slideshow": {
     "slide_type": "skip"
    }
   },
   "outputs": [],
   "source": [
    "from ChangeCounter import ChangeCounter, debuggingbook_change_counter  # minor dependency"
   ]
  },
  {
   "cell_type": "code",
   "execution_count": 5,
   "metadata": {
    "execution": {
     "iopub.execute_input": "2025-01-13T14:57:37.474947Z",
     "iopub.status.busy": "2025-01-13T14:57:37.474800Z",
     "iopub.status.idle": "2025-01-13T14:57:37.476895Z",
     "shell.execute_reply": "2025-01-13T14:57:37.476555Z"
    },
    "slideshow": {
     "slide_type": "skip"
    }
   },
   "outputs": [],
   "source": [
    "import Timer"
   ]
  },
  {
   "cell_type": "code",
   "execution_count": 6,
   "metadata": {
    "execution": {
     "iopub.execute_input": "2025-01-13T14:57:37.479819Z",
     "iopub.status.busy": "2025-01-13T14:57:37.479693Z",
     "iopub.status.idle": "2025-01-13T14:59:35.087730Z",
     "shell.execute_reply": "2025-01-13T14:59:35.087344Z"
    },
    "slideshow": {
     "slide_type": "fragment"
    }
   },
   "outputs": [],
   "source": [
    "with Timer.Timer() as t:\n",
    "    change_counter = debuggingbook_change_counter(ChangeCounter)"
   ]
  },
  {
   "cell_type": "code",
   "execution_count": 7,
   "metadata": {
    "execution": {
     "iopub.execute_input": "2025-01-13T14:59:35.089601Z",
     "iopub.status.busy": "2025-01-13T14:59:35.089474Z",
     "iopub.status.idle": "2025-01-13T14:59:35.091922Z",
     "shell.execute_reply": "2025-01-13T14:59:35.091696Z"
    },
    "slideshow": {
     "slide_type": "fragment"
    }
   },
   "outputs": [
    {
     "data": {
      "text/plain": [
       "117.60631254198961"
      ]
     },
     "execution_count": 7,
     "metadata": {},
     "output_type": "execute_result"
    }
   ],
   "source": [
    "t.elapsed_time()"
   ]
  },
  {
   "cell_type": "markdown",
   "metadata": {
    "slideshow": {
     "slide_type": "subslide"
    }
   },
   "source": [
    "The Python `profile` and `cProfile` modules offer a simple way to identify the most time-consuming functions. They are invoked using the `run()` function, whose argument is the command to be profiled. The output reports, for each function encountered:\n",
    "\n",
    "* How often it was called (`ncalls` column)\n",
    "* How much time was spent in the given function, _excluding_ time spent in calls to sub-functions (`tottime` column)\n",
    "* The fraction of `tottime` / `ncalls` (first `percall` column)\n",
    "* How much time was spent in the given function, _including_ time spent in calls to sub-functions (`cumtime` column)\n",
    "* The fraction of `cumtime` / `percall` (second `percall` column)\n",
    "\n",
    "Let us have a look at the profile we obtain:"
   ]
  },
  {
   "cell_type": "code",
   "execution_count": 8,
   "metadata": {
    "execution": {
     "iopub.execute_input": "2025-01-13T14:59:35.093269Z",
     "iopub.status.busy": "2025-01-13T14:59:35.093166Z",
     "iopub.status.idle": "2025-01-13T14:59:35.094667Z",
     "shell.execute_reply": "2025-01-13T14:59:35.094466Z"
    },
    "slideshow": {
     "slide_type": "skip"
    }
   },
   "outputs": [],
   "source": [
    "import cProfile"
   ]
  },
  {
   "cell_type": "code",
   "execution_count": 9,
   "metadata": {
    "execution": {
     "iopub.execute_input": "2025-01-13T14:59:35.095792Z",
     "iopub.status.busy": "2025-01-13T14:59:35.095714Z",
     "iopub.status.idle": "2025-01-13T15:01:37.658653Z",
     "shell.execute_reply": "2025-01-13T15:01:37.658172Z"
    },
    "slideshow": {
     "slide_type": "subslide"
    }
   },
   "outputs": [
    {
     "name": "stdout",
     "output_type": "stream",
     "text": [
      "         40256372 function calls (40063145 primitive calls) in 122.545 seconds\n",
      "\n",
      "   Ordered by: cumulative time\n",
      "\n",
      "   ncalls  tottime  percall  cumtime  percall filename:lineno(function)\n",
      "     2560    0.016    0.000  333.275    0.130 threading.py:1117(join)\n",
      "2573/2566    0.018    0.000  333.199    0.130 threading.py:1155(_wait_for_tstate_lock)\n",
      "23306/18173    0.061    0.000  331.390    0.018 {method 'acquire' of '_thread.lock' objects}\n",
      "     1329    0.008    0.000  122.837    0.092 repository.py:213(traverse_commits)\n",
      "      2/1    0.000    0.000  122.545  122.545 {built-in method builtins.exec}\n",
      "      2/1    0.000    0.000  122.545  122.545 <string>:1(<module>)\n",
      "      2/1    0.000    0.000  122.544  122.544 ChangeCounter.ipynb:168(debuggingbook_change_counter)\n",
      "        1    0.000    0.000  122.544  122.544 ChangeCounter.ipynb:51(__init__)\n",
      "        1    0.000    0.000  122.544  122.544 ChangeCounter.ipynb:88(mine)\n",
      "        1    0.000    0.000  122.512  122.512 _base.py:646(__exit__)\n",
      "        1    0.000    0.000  122.512  122.512 thread.py:220(shutdown)\n",
      "   2560/1    0.034    0.000  122.512  122.512 threading.py:1018(_bootstrap)\n",
      "   2560/1    0.017    0.000  122.512  122.512 threading.py:1058(_bootstrap_inner)\n",
      "   2560/1    0.009    0.000  122.512  122.512 ipkernel.py:744(run_closure)\n",
      "     1328    0.176    0.000  122.192    0.092 ChangeCounter.ipynb:102(mine_commit)\n",
      "     1328    0.027    0.000  119.839    0.090 commit.py:753(modified_files)\n",
      "     1278    0.318    0.000  119.768    0.094 diff.py:184(diff)\n",
      "     1278   12.854    0.010   91.935    0.072 diff.py:583(_index_from_patch_format)\n",
      "     1278    0.053    0.000   74.249    0.058 cmd.py:97(handle_process_output)\n",
      "2556/1278   36.355    0.014   59.493    0.047 cmd.py:144(pump_stream)\n",
      "      120   29.346    0.245   43.563    0.363 {built-in method time.sleep}\n",
      "    14516    0.079    0.000   17.678    0.001 diff.py:412(__init__)\n",
      "    13690    0.016    0.000   17.305    0.001 base.py:481(submodules)\n",
      "    13690    0.045    0.000   17.289    0.001 util.py:1270(list_items)\n",
      "32003/31997    0.050    0.000   17.230    0.001 {method 'extend' of 'list' objects}\n",
      "    41070    0.178    0.000   17.179    0.000 base.py:1571(iter_items)\n",
      "     1331    0.079    0.000   10.700    0.008 cmd.py:1523(_call_process)\n",
      "     1331    0.147    0.000   10.580    0.008 cmd.py:1079(execute)\n",
      "     1279    0.049    0.000   10.350    0.008 cmd.py:986(<lambda>)\n",
      "     1331    0.172    0.000   10.062    0.008 subprocess.py:807(__init__)\n",
      "     1331    0.201    0.000    9.791    0.007 subprocess.py:1791(_execute_child)\n",
      "5220/5029    0.037    0.000    7.589    0.002 {method 'close' of '_io.BufferedReader' objects}\n",
      "     1331    7.413    0.006    7.413    0.006 {built-in method _posixsubprocess.fork_exec}\n",
      "    69778    0.083    0.000    6.367    0.000 util.py:248(__getattr__)\n",
      "   126245    0.361    0.000    6.022    0.000 cmd.py:1659(__get_object_header)\n",
      "    41070    0.036    0.000    5.584    0.000 base.py:715(commit)\n",
      "95830/27380    0.062    0.000    5.223    0.000 tree.py:361(__getitem__)\n",
      "95830/27380    0.240    0.000    5.190    0.000 tree.py:231(join)\n",
      "    41070    0.025    0.000    5.093    0.000 symbolic.py:290(_get_commit)\n",
      "    41070    0.049    0.000    5.068    0.000 symbolic.py:280(_get_object)\n",
      "   225094    4.792    0.000    4.792    0.000 {method 'readline' of '_io.BufferedReader' objects}\n",
      "    71485    0.142    0.000    4.749    0.000 db.py:44(stream)\n",
      "    54760    0.063    0.000    4.582    0.000 tree.py:210(_set_cache_)\n",
      "    71485    0.173    0.000    4.483    0.000 cmd.py:1695(stream_object_data)\n",
      "    54760    0.044    0.000    3.807    0.000 symbolic.py:156(dereference_recursive)\n",
      "   109521    0.111    0.000    3.762    0.000 symbolic.py:269(_get_ref_info)\n",
      "   109521    0.321    0.000    3.651    0.000 symbolic.py:221(_get_ref_info_helper)\n",
      "    54760    0.113    0.000    3.106    0.000 base.py:136(new_from_sha)\n",
      "    13690    0.050    0.000    3.062    0.000 base.py:229(_config_parser)\n",
      "    54760    0.115    0.000    2.667    0.000 db.py:39(info)\n",
      "       29    0.001    0.000    2.665    0.092 base_events.py:1915(_run_once)\n",
      "    54760    0.064    0.000    2.449    0.000 cmd.py:1667(get_object_header)\n",
      "    13690    0.055    0.000    2.029    0.000 fun.py:230(rev_parse)\n",
      "    13690    0.049    0.000    1.963    0.000 fun.py:150(name_to_object)\n",
      "   126332    1.726    0.000    1.789    0.000 {built-in method _io.open}\n",
      "     1331    1.722    0.001    1.722    0.001 {built-in method posix.read}\n",
      "    15018    0.033    0.000    1.691    0.000 commit.py:241(_set_cache_)\n",
      "      855    0.033    0.000    1.593    0.002 ChangeCounter.ipynb:121(update_stats)\n",
      "     1708    0.002    0.000    1.536    0.001 commit.py:214(content)\n",
      "     1708    0.004    0.000    1.534    0.001 commit.py:222(_get_undecoded_content)\n",
      "109829/95933    0.103    0.000    1.422    0.000 config.py:111(assure_data_present)\n",
      "    13690    0.020    0.000    1.342    0.000 util.py:82(__init__)\n",
      "    13792    0.047    0.000    1.332    0.000 config.py:315(__init__)\n",
      "    71485    0.074    0.000    1.300    0.000 cmd.py:863(read)\n",
      "    13792    0.075    0.000    1.280    0.000 configparser.py:582(__init__)\n",
      "    56467    0.022    0.000    1.257    0.000 base.py:137(read)\n",
      "   142969    1.219    0.000    1.219    0.000 {method 'read' of '_io.BufferedReader' objects}\n",
      "    54760    0.675    0.000    1.079    0.000 fun.py:77(tree_entries_from_data)\n",
      "109829/96038    0.074    0.000    1.027    0.000 config.py:589(read)\n",
      "    13792    0.231    0.000    0.990    0.000 configparser.py:1287(__init__)\n",
      "     1278    0.984    0.001    0.984    0.001 {method 'join' of 'bytes' objects}\n",
      " 13908400    0.776    0.000    0.776    0.000 {method 'append' of 'list' objects}\n",
      "   109521    0.379    0.000    0.728    0.000 symbolic.py:173(_check_ref_name_valid)\n",
      "     1707    0.001    0.000    0.726    0.000 base.py:192(data_stream)\n",
      "    13792    0.312    0.000    0.671    0.000 config.py:439(_read)\n",
      "    15018    0.125    0.000    0.554    0.000 commit.py:782(_deserialize)\n",
      "   126245    0.030    0.000    0.506    0.000 cmd.py:1646(_get_persistent_cmd)\n",
      "    13792    0.489    0.000    0.489    0.000 {built-in method builtins.dir}\n",
      "   109721    0.356    0.000    0.440    0.000 {method 'read' of '_io.TextIOWrapper' objects}\n",
      "    14516    0.004    0.000    0.427    0.000 ChangeCounter.ipynb:112(include)\n",
      "    14516    0.013    0.000    0.423    0.000 ChangeCounter.ipynb:176(filter)\n",
      "    35193    0.052    0.000    0.422    0.000 commit.py:276(new_path)\n",
      "  1891236    0.370    0.000    0.370    0.000 {method 'match' of 're.Pattern' objects}\n",
      "   846521    0.338    0.000    0.338    0.000 cmd.py:972(__getattribute__)\n",
      "   479150    0.167    0.000    0.326    0.000 compat.py:117(safe_decode)\n",
      "    15844    0.006    0.000    0.312    0.000 commit.py:633(committer_date)\n",
      "    15844    0.007    0.000    0.306    0.000 commit.py:254(committed_datetime)\n",
      "   155245    0.181    0.000    0.301    0.000 posixpath.py:71(join)\n",
      "    34813    0.049    0.000    0.274    0.000 pathlib.py:437(__str__)\n",
      "    54861    0.061    0.000    0.261    0.000 configparser.py:743(get)\n",
      "   126245    0.254    0.000    0.254    0.000 {method 'flush' of '_io.BufferedWriter' objects}\n",
      "   110914    0.135    0.000    0.245    0.000 base.py:231(__init__)\n",
      "     1331    0.037    0.000    0.238    0.000 os.py:748(copy)\n",
      "     2656    0.019    0.000    0.222    0.000 repository.py:245(_iter_commits)\n",
      "    30036    0.071    0.000    0.219    0.000 util.py:326(parse_actor_and_date)\n",
      "   126245    0.143    0.000    0.214    0.000 cmd.py:1601(_parse_object_header)\n",
      "   182070    0.158    0.000    0.209    0.000 base.py:100(__init__)\n",
      "  1042462    0.163    0.000    0.209    0.000 {built-in method builtins.getattr}\n",
      "   123517    0.208    0.000    0.208    0.000 {method '__exit__' of '_io._IOBase' objects}\n",
      "   774197    0.129    0.000    0.205    0.000 cmd.py:792(__getattr__)\n",
      "  1138401    0.200    0.000    0.200    0.000 {method 'decode' of 'bytes' objects}\n",
      "    13792    0.123    0.000    0.200    0.000 configparser.py:1210(__init__)\n",
      "   126245    0.105    0.000    0.196    0.000 cmd.py:1632(_prepare_ref)\n",
      "    56088    0.036    0.000    0.193    0.000 tree.py:192(__init__)\n",
      "     1331    0.053    0.000    0.192    0.000 subprocess.py:1282(_close_pipe_fds)\n",
      "2032321/2032317    0.185    0.000    0.190    0.000 {built-in method builtins.isinstance}\n",
      "    34812    0.024    0.000    0.189    0.000 pathlib.py:551(drive)\n",
      "    54760    0.100    0.000    0.189    0.000 util.py:111(get_object_type_by_name)\n",
      "    27718    0.122    0.000    0.181    0.000 util.py:91(mode_str_to_int)\n",
      "   110799    0.064    0.000    0.177    0.000 {built-in method builtins.any}\n",
      "    34810    0.021    0.000    0.164    0.000 pathlib.py:407(_load_parts)\n",
      "  2190408    0.154    0.000    0.154    0.000 {built-in method builtins.ord}\n",
      "    71156    0.049    0.000    0.151    0.000 commit.py:109(__init__)\n",
      "     2560    0.009    0.000    0.147    0.000 ipkernel.py:768(init_closure)\n",
      "    34810    0.057    0.000    0.138    0.000 pathlib.py:387(_parse_path)\n",
      "     2560    0.047    0.000    0.138    0.000 threading.py:884(__init__)\n",
      "   226270    0.072    0.000    0.133    0.000 os.py:841(fsencode)\n",
      "    95930    0.091    0.000    0.130    0.000 util.py:272(join_path)\n",
      "    15844    0.016    0.000    0.126    0.000 util.py:211(from_timestamp)\n",
      "    94602    0.048    0.000    0.121    0.000 os.py:709(__getitem__)\n",
      "   328562    0.067    0.000    0.113    0.000 symbolic.py:215(<genexpr>)\n",
      "    27380    0.019    0.000    0.112    0.000 base.py:437(index)\n",
      "     2560    0.017    0.000    0.110    0.000 threading.py:975(start)\n",
      "   367147    0.107    0.000    0.107    0.000 {method 'split' of 'str' objects}\n",
      "   538468    0.105    0.000    0.105    0.000 {method 'endswith' of 'str' objects}\n",
      "    54861    0.053    0.000    0.100    0.000 configparser.py:1122(_unify_values)\n",
      "    27380    0.016    0.000    0.093    0.000 base.py:140(__init__)\n",
      "     3993    0.055    0.000    0.093    0.000 contextlib.py:530(callback)\n",
      "    54861    0.061    0.000    0.091    0.000 __init__.py:1009(__getitem__)\n",
      "   861190    0.087    0.000    0.087    0.000 {built-in method builtins.len}\n",
      "     1331    0.040    0.000    0.085    0.000 util.py:529(remove_password_if_present)\n",
      "   109721    0.059    0.000    0.084    0.000 codecs.py:319(decode)\n",
      "    13795    0.010    0.000    0.080    0.000 config.py:536(_has_includes)\n",
      "    95832    0.015    0.000    0.079    0.000 _collections_abc.py:868(__iter__)\n",
      "     2560    0.078    0.000    0.078    0.000 {built-in method _thread.start_new_thread}\n",
      "    27380    0.012    0.000    0.077    0.000 base.py:172(_index_path)\n",
      "    31944    0.012    0.000    0.076    0.000 subprocess.py:1880(<genexpr>)\n",
      "   137148    0.059    0.000    0.075    0.000 config.py:218(__getitem__)\n",
      "   316978    0.074    0.000    0.074    0.000 {method 'startswith' of 'str' objects}\n",
      "   447249    0.073    0.000    0.073    0.000 {method 'encode' of 'str' objects}\n",
      "    97073    0.068    0.000    0.072    0.000 config.py:205(__setitem__)\n",
      "    29032    0.012    0.000    0.072    0.000 diff.py:570(_pick_best_path)\n",
      "    27380    0.017    0.000    0.071    0.000 base.py:122(__init__)\n",
      "    87918    0.071    0.000    0.071    0.000 {method 'search' of 're.Pattern' objects}\n",
      "     1331    0.008    0.000    0.069    0.000 subprocess.py:1688(_get_handles)\n",
      "    13791    0.018    0.000    0.068    0.000 config.py:539(_included_paths)\n",
      "    30036    0.031    0.000    0.066    0.000 util.py:808(_from_string)\n",
      "    27480    0.021    0.000    0.066    0.000 util.py:309(join_path_native)\n",
      "    95832    0.037    0.000    0.064    0.000 os.py:732(__iter__)\n",
      "   109721    0.049    0.000    0.061    0.000 codecs.py:309(__init__)\n",
      "    29032    0.031    0.000    0.060    0.000 diff.py:105(decode_path)\n",
      "    34911    0.020    0.000    0.060    0.000 pathlib.py:1157(__init__)\n",
      "     2560    0.026    0.000    0.059    0.000 threading.py:637(wait)\n",
      "   189002    0.028    0.000    0.057    0.000 os.py:795(decode)\n",
      "    15844    0.050    0.000    0.055    0.000 {built-in method fromtimestamp}\n",
      "    41071    0.024    0.000    0.053    0.000 base.py:450(head)\n",
      "      100    0.000    0.000    0.053    0.001 util.py:171(wrapper)\n",
      "      101    0.002    0.000    0.053    0.001 base.py:172(__init__)\n",
      "      100    0.000    0.000    0.053    0.001 base.py:1404(module)\n",
      "     1331    0.019    0.000    0.050    0.000 os.py:654(get_exec_path)\n",
      "   156331    0.050    0.000    0.050    0.000 {method 'split' of 'bytes' objects}\n",
      "   166314    0.049    0.000    0.049    0.000 typing.py:392(inner)\n",
      "     2560    0.027    0.000    0.049    0.000 threading.py:588(__init__)\n",
      "   109521    0.038    0.000    0.048    0.000 symbolic.py:52(_git_dir)\n",
      "    54766    0.031    0.000    0.048    0.000 <frozen importlib._bootstrap>:1390(_handle_fromlist)\n",
      "   158614    0.028    0.000    0.047    0.000 posixpath.py:41(_get_sep)\n",
      "   294388    0.047    0.000    0.047    0.000 {method 'strip' of 'str' objects}\n",
      "   126198    0.047    0.000    0.047    0.000 {built-in method sys.intern}\n",
      "   239865    0.045    0.000    0.045    0.000 {built-in method binascii.a2b_hex}\n",
      "    71485    0.026    0.000    0.045    0.000 base.py:128(__new__)\n",
      "    94602    0.023    0.000    0.043    0.000 os.py:791(encode)\n",
      "   176154    0.043    0.000    0.043    0.000 {built-in method __new__ of type object at 0x102f7c990}\n",
      "    27380    0.031    0.000    0.042    0.000 symbolic.py:596(to_full_path)\n",
      "   152688    0.042    0.000    0.042    0.000 {method 'group' of 're.Match' objects}\n",
      "    54761    0.022    0.000    0.041    0.000 <frozen importlib._bootstrap>:645(parent)\n",
      "    34911    0.026    0.000    0.041    0.000 pathlib.py:358(__init__)\n",
      "     1329    0.005    0.000    0.040    0.000 _base.py:612(result_iterator)\n",
      "     1279    0.006    0.000    0.040    0.000 util.py:500(finalize_process)\n",
      "    15844    0.034    0.000    0.039    0.000 {method 'astimezone' of 'datetime.datetime' objects}\n",
      "   490223    0.038    0.000    0.038    0.000 {built-in method posix.fspath}\n",
      "     1279    0.003    0.000    0.038    0.000 subprocess.py:1135(_get_devnull)\n",
      "     2557    0.021    0.000    0.037    0.000 cmd.py:796(wait)\n",
      "     1329    0.000    0.000    0.037    0.000 git.py:110(get_list_commits)\n",
      "    98536    0.036    0.000    0.036    0.000 typing.py:1766(_no_init_or_replace_init)\n",
      "    54760    0.021    0.000    0.036    0.000 base.py:35(__new__)\n",
      "    27380    0.022    0.000    0.036    0.000 configparser.py:855(has_option)\n",
      "     1279    0.035    0.000    0.035    0.000 {built-in method posix.open}\n",
      "   145151    0.035    0.000    0.035    0.000 {method 'startswith' of 'bytes' objects}\n",
      "     3873    0.007    0.000    0.035    0.000 threading.py:323(wait)\n",
      "   126377    0.034    0.000    0.034    0.000 {method 'write' of '_io.BufferedWriter' objects}\n",
      "     1385    0.007    0.000    0.034    0.000 cmd.py:789(__del__)\n",
      "     1328    0.019    0.000    0.032    0.000 _base.py:314(_result_or_cancel)\n",
      "       50    0.000    0.000    0.032    0.001 base.py:1427(module_exists)\n",
      "    34810    0.015    0.000    0.031    0.000 pathlib.py:429(_format_parsed_parts)\n",
      "    83837    0.018    0.000    0.031    0.000 diff.py:535(b_path)\n",
      "   165889    0.030    0.000    0.030    0.000 {method 'rstrip' of 'str' objects}\n",
      "     2610    0.002    0.000    0.030    0.000 subprocess.py:1259(wait)\n",
      "    30036    0.023    0.000    0.030    0.000 util.py:146(utctz_to_altz)\n",
      "    41072    0.025    0.000    0.029    0.000 head.py:50(__init__)\n",
      "    14516    0.009    0.000    0.029    0.000 commit.py:595(committer)\n",
      "     2610    0.004    0.000    0.029    0.000 subprocess.py:2021(_wait)\n",
      "     1329    0.002    0.000    0.028    0.000 commit.py:512(_iter_from_process_or_stream)\n",
      "   131607    0.027    0.000    0.027    0.000 {built-in method binascii.b2a_hex}\n",
      "        1    0.001    0.001    0.027    0.027 _base.py:583(map)\n",
      "     1331    0.018    0.000    0.027    0.000 contextlib.py:567(__exit__)\n",
      "    27481    0.020    0.000    0.026    0.000 configparser.py:630(sections)\n",
      "    55968    0.026    0.000    0.026    0.000 config.py:208(add)\n",
      "12836/1331    0.015    0.000    0.026    0.000 cmd.py:1477(_unpack_args)\n",
      "    74588    0.026    0.000    0.026    0.000 {method 'groups' of 're.Match' objects}\n",
      "   109721    0.025    0.000    0.025    0.000 {built-in method _codecs.utf_8_decode}\n",
      "     2560    0.003    0.000    0.025    0.000 threading.py:616(set)\n",
      "     1385    0.003    0.000    0.025    0.000 cmd.py:754(_terminate)\n",
      "   137653    0.025    0.000    0.025    0.000 {built-in method builtins.hasattr}\n",
      "     3993    0.024    0.000    0.024    0.000 contextlib.py:475(_create_cb_wrapper)\n",
      "     1308    0.017    0.000    0.024    0.000 parse.py:452(urlsplit)\n",
      "     1332    0.002    0.000    0.023    0.000 subprocess.py:2008(_try_wait)\n",
      "    83201    0.022    0.000    0.022    0.000 {method 'rpartition' of 'str' objects}\n",
      "     1438    0.021    0.000    0.021    0.000 {built-in method posix.waitpid}\n",
      "    71485    0.020    0.000    0.020    0.000 base.py:132(__init__)\n",
      "     1331    0.019    0.000    0.019    0.000 warnings.py:484(__enter__)\n",
      "    34810    0.013    0.000    0.019    0.000 posixpath.py:138(splitroot)\n",
      "    69012    0.019    0.000    0.019    0.000 {built-in method builtins.setattr}\n",
      "     1328    0.014    0.000    0.019    0.000 commit.py:796(_parse_diff)\n",
      "      104    0.000    0.000    0.019    0.000 cmd.py:1710(clear_cache)\n",
      "     3889    0.016    0.000    0.018    0.000 threading.py:277(__init__)\n",
      "     1506    0.011    0.000    0.018    0.000 ipkernel.py:775(_clean_thread_parent_frames)\n",
      "    27380    0.013    0.000    0.017    0.000 util.py:42(sm_name)\n",
      "    15844    0.017    0.000    0.017    0.000 util.py:191(__init__)\n",
      "    54760    0.017    0.000    0.017    0.000 base.py:38(__init__)\n",
      "      102    0.000    0.000    0.017    0.000 base.py:327(__del__)\n",
      "     1331    0.017    0.000    0.017    0.000 contextlib.py:481(__init__)\n",
      "      102    0.000    0.000    0.017    0.000 base.py:333(close)\n",
      "     3889    0.006    0.000    0.017    0.000 threading.py:424(notify_all)\n",
      "     1328    0.002    0.000    0.016    0.000 thread.py:165(submit)\n",
      "   137280    0.016    0.000    0.016    0.000 {function _OMD.__getitem__ at 0x11c2ccb80}\n",
      "     2560    0.016    0.000    0.016    0.000 threading.py:1356(_make_invoke_excepthook)\n",
      "    13690    0.012    0.000    0.015    0.000 util.py:1169(__new__)\n",
      "     3993    0.012    0.000    0.014    0.000 contextlib.py:548(_push_exit_callback)\n",
      "    83930    0.014    0.000    0.014    0.000 {method 'lower' of 'str' objects}\n",
      "     6655    0.014    0.000    0.014    0.000 {built-in method posix.close}\n",
      "    34911    0.008    0.000    0.014    0.000 pathlib.py:1164(__new__)\n",
      "    11776    0.008    0.000    0.013    0.000 threading.py:299(__enter__)\n",
      "    15844    0.012    0.000    0.013    0.000 mailmap.py:16(get_developer)\n",
      "     4045    0.013    0.000    0.013    0.000 {built-in method posix.pipe}\n",
      "    27380    0.008    0.000    0.013    0.000 base.py:168(__ne__)\n",
      "    27718    0.013    0.000    0.013    0.000 {method 'sub' of 're.Pattern' objects}\n",
      "    54861    0.013    0.000    0.013    0.000 __init__.py:999(__init__)\n",
      "   197793    0.013    0.000    0.013    0.000 typing.py:2183(cast)\n",
      "   138210    0.012    0.000    0.012    0.000 config.py:435(optionxform)\n",
      "  402/202    0.001    0.000    0.012    0.000 fun.py:99(find_submodule_git_dir)\n",
      "     1278    0.012    0.000    0.012    0.000 {method 'finditer' of 're.Pattern' objects}\n",
      "    75777    0.012    0.000    0.012    0.000 {method 'readline' of '_io.BytesIO' objects}\n",
      "    71485    0.011    0.000    0.011    0.000 cmd.py:852(__init__)\n",
      "    23848    0.007    0.000    0.011    0.000 conf.py:52(get)\n",
      "    28440    0.008    0.000    0.011    0.000 parse.py:193(_userinfo)\n",
      "    14220    0.005    0.000    0.011    0.000 parse.py:160(password)\n",
      "   109721    0.011    0.000    0.011    0.000 codecs.py:260(__init__)\n",
      "    71485    0.011    0.000    0.011    0.000 cmd.py:939(__del__)\n",
      "     3904    0.004    0.000    0.011    0.000 threading.py:394(notify)\n",
      "     1328    0.006    0.000    0.011    0.000 _base.py:428(result)\n",
      "    30036    0.009    0.000    0.010    0.000 util.py:789(__init__)\n",
      "     7766    0.010    0.000    0.010    0.000 {built-in method _thread.allocate_lock}\n",
      "     2560    0.006    0.000    0.010    0.000 _weakrefset.py:85(add)\n",
      "    34705    0.007    0.000    0.010    0.000 posixpath.py:131(splitdrive)\n",
      "    54861    0.010    0.000    0.010    0.000 base.py:381(common_dir)\n",
      "      101    0.000    0.000    0.010    0.000 base.py:660(config_reader)\n",
      "      101    0.000    0.000    0.010    0.000 base.py:683(_config_reader)\n",
      "     2556    0.009    0.000    0.009    0.000 threading.py:839(_newname)\n",
      "    54760    0.008    0.000    0.008    0.000 base.py:52(type)\n",
      "        1    0.000    0.000    0.008    0.008 base.py:758(iter_commits)\n",
      "     1328    0.001    0.000    0.008    0.000 thread.py:184(_adjust_thread_count)\n",
      "        1    0.000    0.000    0.008    0.008 commit.py:299(iter_items)\n",
      "    13690    0.004    0.000    0.008    0.000 base.py:162(__eq__)\n",
      "    14220    0.003    0.000    0.008    0.000 parse.py:156(username)\n",
      "    14516    0.005    0.000    0.008    0.000 commit.py:660(msg)\n",
      "     2664    0.002    0.000    0.008    0.000 {built-in method builtins.next}\n",
      "    13813    0.004    0.000    0.008    0.000 config.py:398(__del__)\n",
      "     1331    0.003    0.000    0.007    0.000 warnings.py:168(simplefilter)\n",
      "     1328    0.001    0.000    0.007    0.000 threading.py:468(acquire)\n",
      "     1332    0.003    0.000    0.007    0.000 contextlib.py:299(helper)\n",
      "    60072    0.007    0.000    0.007    0.000 {built-in method builtins.abs}\n",
      "    11776    0.005    0.000    0.007    0.000 threading.py:302(__exit__)\n",
      "     2560    0.006    0.000    0.007    0.000 threading.py:1108(_delete)\n",
      "    13507    0.004    0.000    0.007    0.000 diff.py:531(a_path)\n",
      "    34811    0.006    0.000    0.006    0.000 {method 'join' of 'str' objects}\n",
      "    54760    0.006    0.000    0.006    0.000 base.py:60(size)\n",
      "     1331    0.006    0.000    0.006    0.000 {built-in method posix.access}\n",
      "     2862    0.004    0.000    0.006    0.000 posixpath.py:179(dirname)\n",
      "      503    0.001    0.000    0.006    0.000 fun.py:57(is_git_dir)\n",
      "     2560    0.002    0.000    0.006    0.000 threading.py:1045(_set_tstate_lock)\n",
      "    15120    0.006    0.000    0.006    0.000 {method 'pop' of 'list' objects}\n",
      "    54760    0.006    0.000    0.006    0.000 base.py:42(binsha)\n",
      "    68960    0.006    0.000    0.006    0.000 {built-in method builtins.callable}\n",
      "        2    0.000    0.000    0.006    0.003 repository.py:179(_prep_repo)\n",
      "     1332    0.002    0.000    0.006    0.000 contextlib.py:132(__enter__)\n",
      "     5120    0.004    0.000    0.005    0.000 threading.py:1485(current_thread)\n",
      "    48860    0.005    0.000    0.005    0.000 util.py:198(utcoffset)\n",
      "    27481    0.005    0.000    0.005    0.000 {method 'keys' of 'collections.OrderedDict' objects}\n",
      "     9098    0.005    0.000    0.005    0.000 {method 'release' of '_thread.lock' objects}\n",
      "    13792    0.004    0.000    0.005    0.000 configparser.py:1329(__iter__)\n",
      "    30613    0.005    0.000    0.005    0.000 {method 'endswith' of 'bytes' objects}\n",
      "    27480    0.005    0.000    0.005    0.000 util.py:303(to_native_path_linux)\n",
      "     1328    0.001    0.000    0.005    0.000 _base.py:328(__init__)\n",
      "     1332    0.001    0.000    0.005    0.000 contextlib.py:141(__exit__)\n",
      "    25481    0.005    0.000    0.005    0.000 {method 'get' of 'dict' objects}\n",
      "     1328    0.001    0.000    0.005    0.000 thread.py:54(run)\n",
      "     7680    0.005    0.000    0.005    0.000 threading.py:1236(daemon)\n",
      "     5362    0.002    0.000    0.005    0.000 base.py:186(hexsha)\n",
      "    54861    0.004    0.000    0.004    0.000 configparser.py:335(before_get)\n",
      "     3899    0.004    0.000    0.004    0.000 {method 'add' of 'set' objects}\n",
      "     3993    0.002    0.000    0.004    0.000 contextlib.py:477(_exit_wrapper)\n",
      "     1432    0.001    0.000    0.004    0.000 abc.py:117(__instancecheck__)\n",
      "    63376    0.004    0.000    0.004    0.000 util.py:204(dst)\n",
      "    41072    0.004    0.000    0.004    0.000 symbolic.py:77(__init__)\n",
      "     1331    0.002    0.000    0.004    0.000 warnings.py:184(_add_filter)\n",
      "    12107    0.004    0.000    0.004    0.000 cmd.py:338(__getattribute)\n",
      "     2664    0.003    0.000    0.004    0.000 subprocess.py:1233(poll)\n",
      "    27580    0.004    0.000    0.004    0.000 base.py:372(working_tree_dir)\n",
      "      855    0.003    0.000    0.004    0.000 ChangeCounter.ipynb:145(update_changes)\n",
      "      753    0.003    0.000    0.004    0.000 threading.py:1535(enumerate)\n",
      "    16403    0.004    0.000    0.004    0.000 {method 'strip' of 'bytes' objects}\n",
      "    13814    0.003    0.000    0.004    0.000 config.py:410(release)\n",
      "     6448    0.002    0.000    0.004    0.000 threading.py:314(_is_owned)\n",
      "     1416    0.004    0.000    0.004    0.000 {built-in method posix.stat}\n",
      "    13690    0.004    0.000    0.004    0.000 fun.py:219(to_commit)\n",
      "     1432    0.004    0.000    0.004    0.000 {built-in method _abc._abc_instancecheck}\n",
      "     1332    0.002    0.000    0.003    0.000 contextlib.py:104(__init__)\n",
      "      855    0.003    0.000    0.003    0.000 ChangeCounter.ipynb:137(update_size)\n",
      "    13423    0.003    0.000    0.003    0.000 threading.py:1198(ident)\n",
      "     2556    0.002    0.000    0.003    0.000 threading.py:1251(daemon)\n",
      "        1    0.000    0.000    0.003    0.003 git.py:39(__init__)\n",
      "     7899    0.003    0.000    0.003    0.000 {method 'append' of 'collections.deque' objects}\n",
      "      101    0.000    0.000    0.003    0.000 pathlib.py:1022(read_text)\n",
      "     1308    0.003    0.000    0.003    0.000 parse.py:119(_coerce_args)\n",
      "     1329    0.003    0.000    0.003    0.000 __init__.py:1529(info)\n",
      "     1328    0.001    0.000    0.003    0.000 conf.py:272(is_commit_filtered)\n",
      "     5313    0.003    0.000    0.003    0.000 {method '__enter__' of '_thread.RLock' objects}\n",
      "    15018    0.003    0.000    0.003    0.000 {method 'read' of '_io.BytesIO' objects}\n",
      "    14516    0.003    0.000    0.003    0.000 {method 'end' of 're.Match' objects}\n",
      "      101    0.000    0.000    0.003    0.000 pathlib.py:1005(open)\n",
      "     1328    0.001    0.000    0.003    0.000 commit.py:568(author)\n",
      "     1008    0.000    0.000    0.003    0.000 genericpath.py:39(isdir)\n",
      "    31/29    0.000    0.000    0.003    0.000 events.py:86(_run)\n",
      "     2560    0.002    0.000    0.003    0.000 threading.py:1081(_stop)\n",
      "     2560    0.002    0.000    0.003    0.000 _weakrefset.py:39(_remove)\n",
      "     1329    0.001    0.000    0.003    0.000 _base.py:537(set_result)\n",
      "    31/29    0.000    0.000    0.003    0.000 {method 'run' of '_contextvars.Context' objects}\n",
      "    34811    0.003    0.000    0.003    0.000 pathlib.py:569(_tail)\n",
      "    34812    0.003    0.000    0.003    0.000 pathlib.py:560(root)\n",
      "     1331    0.003    0.000    0.003    0.000 {built-in method sys.exc_info}\n",
      "     1378    0.001    0.000    0.003    0.000 commit.py:669(parents)\n",
      "    12800    0.003    0.000    0.003    0.000 {built-in method _thread.get_ident}\n",
      "     1328    0.001    0.000    0.003    0.000 commit.py:559(hash)\n",
      "        1    0.000    0.000    0.003    0.003 git.py:86(_open_repository)\n",
      "    13792    0.002    0.000    0.002    0.000 config.py:378(_acquire_lock)\n",
      "      105    0.000    0.000    0.002    0.000 pathlib.py:447(__fspath__)\n",
      "    13746    0.002    0.000    0.002    0.000 {method '__exit__' of '_thread.RLock' objects}\n",
      "     2556    0.001    0.000    0.002    0.000 base.py:178(__str__)\n",
      "        2    0.000    0.000    0.002    0.001 git.py:77(clear)\n",
      "    13238    0.002    0.000    0.002    0.000 {method 'start' of 're.Match' objects}\n",
      "     1328    0.001    0.000    0.002    0.000 _base.py:364(cancel)\n",
      "     9320    0.002    0.000    0.002    0.000 {method 'replace' of 'str' objects}\n",
      "    14516    0.002    0.000    0.002    0.000 commit.py:155(__init__)\n",
      "     2560    0.002    0.000    0.002    0.000 {built-in method _thread._set_sentinel}\n",
      "     1331    0.002    0.000    0.002    0.000 {method 'remove' of 'list' objects}\n",
      "    13690    0.002    0.000    0.002    0.000 util.py:1172(__init__)\n",
      "      303    0.001    0.000    0.002    0.000 util.py:517(expand_path)\n",
      "     3993    0.002    0.000    0.002    0.000 {method 'pop' of 'collections.deque' objects}\n",
      "     3873    0.001    0.000    0.002    0.000 threading.py:311(_acquire_restore)\n",
      "    13792    0.002    0.000    0.002    0.000 {built-in method builtins.iter}\n",
      "     2557    0.001    0.000    0.002    0.000 cmd.py:977(__getattr__)\n",
      "     6463    0.002    0.000    0.002    0.000 {method '__enter__' of '_thread.lock' objects}\n",
      "     3873    0.001    0.000    0.002    0.000 threading.py:308(_release_save)\n",
      "     1331    0.002    0.000    0.002    0.000 {built-in method builtins.sorted}\n",
      "     2557    0.001    0.000    0.002    0.000 encoding.py:1(force_bytes)\n",
      "       13    0.000    0.000    0.002    0.000 iostream.py:118(_run_event_pipe_gc)\n",
      "     1331    0.001    0.000    0.002    0.000 _collections_abc.py:819(keys)\n",
      "    15844    0.002    0.000    0.002    0.000 developer.py:27(__init__)\n",
      "    13792    0.001    0.000    0.001    0.000 configparser.py:1170(converters)\n",
      "     1332    0.001    0.000    0.001    0.000 subprocess.py:1961(_handle_exitstatus)\n",
      "      101    0.000    0.000    0.001    0.000 configparser.py:804(getboolean)\n",
      "    10477    0.001    0.000    0.001    0.000 {method '__exit__' of '_thread.lock' objects}\n",
      "     1331    0.001    0.000    0.001    0.000 contextlib.py:564(__enter__)\n",
      "     1385    0.000    0.000    0.001    0.000 cmd.py:294(dashify)\n",
      "     7689    0.001    0.000    0.001    0.000 threading.py:601(is_set)\n",
      "      101    0.000    0.000    0.001    0.000 configparser.py:783(_get_conv)\n",
      "    13790    0.001    0.000    0.001    0.000 base.py:390(bare)\n",
      "     1328    0.001    0.000    0.001    0.000 _base.py:497(set_running_or_notify_cancel)\n",
      "     2560    0.001    0.000    0.001    0.000 threading.py:1038(_set_ident)\n",
      "     1331    0.001    0.000    0.001    0.000 warnings.py:505(__exit__)\n",
      "     1331    0.001    0.000    0.001    0.000 __init__.py:1517(debug)\n",
      "      101    0.000    0.000    0.001    0.000 configparser.py:780(_get)\n",
      "     3873    0.001    0.000    0.001    0.000 {method 'remove' of 'collections.deque' objects}\n",
      "     5165    0.001    0.000    0.001    0.000 {method 'insert' of 'list' objects}\n",
      "     1332    0.001    0.000    0.001    0.000 subprocess.py:1120(__del__)\n",
      "    13817    0.001    0.000    0.001    0.000 config.py:764(read_only)\n",
      "     5338    0.001    0.000    0.001    0.000 {method 'items' of 'dict' objects}\n",
      "     1331    0.001    0.000    0.001    0.000 cmd.py:1466(transform_kwargs)\n",
      "     2560    0.001    0.000    0.001    0.000 threading.py:1042(_set_native_id)\n",
      "      101    0.000    0.000    0.001    0.000 __init__.py:174(search)\n",
      "     1308    0.000    0.000    0.001    0.000 <string>:1(<lambda>)\n",
      "     2560    0.001    0.000    0.001    0.000 {method 'discard' of 'set' objects}\n",
      "     2660    0.001    0.000    0.001    0.000 __init__.py:1790(isEnabledFor)\n",
      "     5112    0.001    0.000    0.001    0.000 diff.py:235(<genexpr>)\n",
      "     1331    0.001    0.000    0.001    0.000 {method 'rfind' of 'bytes' objects}\n",
      "     2569    0.001    0.000    0.001    0.000 threading.py:1222(is_alive)\n",
      "      101    0.000    0.000    0.001    0.000 genericpath.py:16(exists)\n",
      "      301    0.000    0.000    0.001    0.000 cmd.py:662(is_cygwin)\n",
      "     1331    0.001    0.000    0.001    0.000 cmd.py:749(__init__)\n",
      "     1308    0.001    0.000    0.001    0.000 {method 'lstrip' of 'str' objects}\n",
      "      305    0.000    0.000    0.001    0.000 genericpath.py:27(isfile)\n",
      "       53    0.000    0.000    0.001    0.000 subprocess.py:2208(terminate)\n",
      "        1    0.000    0.000    0.001    0.001 base.py:698(config_writer)\n",
      "     3996    0.001    0.000    0.001    0.000 subprocess.py:1973(_internal_poll)\n",
      "      305    0.000    0.000    0.001    0.000 posixpath.py:408(abspath)\n",
      "        2    0.000    0.000    0.001    0.000 pathlib.py:1228(resolve)\n",
      "        3    0.000    0.000    0.001    0.000 config.py:710(write)\n",
      "       26    0.000    0.000    0.001    0.000 tasks.py:653(sleep)\n",
      "      101    0.001    0.000    0.001    0.000 __init__.py:280(_compile)\n",
      "     1011    0.001    0.000    0.001    0.000 {built-in method posix._path_normpath}\n",
      "     1328    0.001    0.000    0.001    0.000 threading.py:124(RLock)\n",
      "     1308    0.001    0.000    0.001    0.000 {method 'find' of 'str' objects}\n",
      "     1531    0.001    0.000    0.001    0.000 {method 'rfind' of 'str' objects}\n",
      "      101    0.000    0.000    0.001    0.000 db.py:34(__init__)\n",
      "        4    0.000    0.000    0.001    0.000 util.py:1050(_obtain_lock)\n",
      "        4    0.000    0.000    0.001    0.000 util.py:1026(_obtain_lock_or_raise)\n",
      "      101    0.000    0.000    0.001    0.000 pathlib.py:719(__truediv__)\n",
      "      101    0.000    0.000    0.001    0.000 cmd.py:947(__init__)\n",
      "       53    0.000    0.000    0.001    0.000 subprocess.py:2176(send_signal)\n",
      "     1331    0.001    0.000    0.001    0.000 subprocess.py:268(_cleanup)\n",
      "     1328    0.000    0.000    0.001    0.000 git.py:140(get_commit_from_gitpython)\n",
      "      507    0.000    0.000    0.001    0.000 posixpath.py:60(isabs)\n",
      "      2/1    0.000    0.000    0.001    0.001 config.py:127(flush_changes)\n",
      "     3993    0.001    0.000    0.001    0.000 {built-in method _warnings._filters_mutated}\n",
      "      101    0.000    0.000    0.001    0.000 pathlib.py:711(joinpath)\n",
      "     3012    0.001    0.000    0.001    0.000 {method 'keys' of 'dict' objects}\n",
      "      301    0.000    0.000    0.001    0.000 util.py:486(is_cygwin_git)\n",
      "       13    0.000    0.000    0.000    0.000 futures.py:313(_set_result_unless_cancelled)\n",
      "       13    0.000    0.000    0.000    0.000 iostream.py:127(_event_pipe_gc)\n",
      "        2    0.000    0.000    0.000    0.000 zmqstream.py:583(_handle_events)\n",
      "     1383    0.000    0.000    0.000    0.000 {method 'update' of 'dict' objects}\n",
      "       53    0.000    0.000    0.000    0.000 {built-in method posix.kill}\n",
      "      101    0.000    0.000    0.000    0.000 loose.py:77(__init__)\n",
      "        1    0.000    0.000    0.000    0.000 asyncio.py:200(_handle_events)\n",
      "      101    0.000    0.000    0.000    0.000 _collections_abc.py:811(__contains__)\n",
      "      103    0.000    0.000    0.000    0.000 pathlib.py:380(with_segments)\n",
      "       15    0.000    0.000    0.000    0.000 {method 'set_result' of '_asyncio.Future' objects}\n",
      "     1608    0.000    0.000    0.000    0.000 {method 'values' of 'dict' objects}\n",
      "       53    0.000    0.000    0.000    0.000 {method 'close' of '_io.BufferedWriter' objects}\n",
      "     1331    0.000    0.000    0.000    0.000 warnings.py:458(__init__)\n",
      "     1432    0.000    0.000    0.000    0.000 {method 'pop' of 'dict' objects}\n",
      "        2    0.000    0.000    0.000    0.000 zmqstream.py:624(_handle_recv)\n",
      "     2556    0.000    0.000    0.000    0.000 {built-in method _thread.daemon_threads_allowed}\n",
      "        2    0.000    0.000    0.000    0.000 zmqstream.py:556(_run_callback)\n",
      "     2581    0.000    0.000    0.000    0.000 {method 'locked' of '_thread.lock' objects}\n",
      "     2560    0.000    0.000    0.000    0.000 {built-in method _thread.get_native_id}\n",
      "      102    0.000    0.000    0.000    0.000 base.py:633(_get_config_path)\n",
      "        3    0.000    0.000    0.000    0.000 config.py:664(_write)\n",
      "      100    0.000    0.000    0.000    0.000 base.py:288(abspath)\n",
      "        1    0.000    0.000    0.000    0.000 config.py:866(set_value)\n",
      "     1331    0.000    0.000    0.000    0.000 {built-in method sys.audit}\n",
      "      121    0.000    0.000    0.000    0.000 {built-in method posix.getppid}\n",
      "     2662    0.000    0.000    0.000    0.000 subprocess.py:1311(_on_error_fd_closer)\n",
      "     2685    0.000    0.000    0.000    0.000 {built-in method time.monotonic}\n",
      "       45    0.000    0.000    0.000    0.000 config.py:668(write_section)\n",
      "      303    0.000    0.000    0.000    0.000 posixpath.py:256(expanduser)\n",
      "     1332    0.000    0.000    0.000    0.000 {built-in method posix.waitstatus_to_exitcode}\n",
      "       13    0.000    0.000    0.000    0.000 base_events.py:742(call_later)\n",
      "     1332    0.000    0.000    0.000    0.000 {built-in method posix.WIFSTOPPED}\n",
      "        2    0.000    0.000    0.000    0.000 iostream.py:276(<lambda>)\n",
      "       15    0.000    0.000    0.000    0.000 base_events.py:784(call_soon)\n",
      "      301    0.000    0.000    0.000    0.000 util.py:455(_is_cygwin_git)\n",
      "     1333    0.000    0.000    0.000    0.000 {method 'put' of '_queue.SimpleQueue' objects}\n",
      "      101    0.000    0.000    0.000    0.000 base.py:113(__init__)\n",
      "     1328    0.000    0.000    0.000    0.000 _base.py:398(__get_result)\n",
      "        2    0.000    0.000    0.000    0.000 ioloop.py:742(_run_callback)\n",
      "     1332    0.000    0.000    0.000    0.000 {method 'get_nowait' of '_queue.SimpleQueue' objects}\n",
      "       13    0.000    0.000    0.000    0.000 base_events.py:766(call_at)\n",
      "       16    0.000    0.000    0.000    0.000 base_events.py:813(_call_soon)\n",
      "      102    0.000    0.000    0.000    0.000 mman.py:408(collect)\n",
      "      303    0.000    0.000    0.000    0.000 posixpath.py:320(expandvars)\n",
      "     1328    0.000    0.000    0.000    0.000 thread.py:48(__init__)\n",
      "       13    0.000    0.000    0.000    0.000 events.py:155(cancel)\n",
      "        1    0.000    0.000    0.000    0.000 kernelbase.py:324(_flush)\n",
      "     1331    0.000    0.000    0.000    0.000 _collections_abc.py:845(__init__)\n",
      "       56    0.000    0.000    0.000    0.000 cmd.py:1450(transform_kwarg)\n",
      "     1308    0.000    0.000    0.000    0.000 parse.py:421(_checknetloc)\n",
      "      101    0.000    0.000    0.000    0.000 configparser.py:1142(_convert_to_boolean)\n",
      "     1329    0.000    0.000    0.000    0.000 _base.py:337(_invoke_callbacks)\n",
      "        1    0.000    0.000    0.000    0.000 zmqstream.py:427(flush)\n",
      "        5    0.000    0.000    0.000    0.000 attrsettr.py:43(__getattr__)\n",
      "     1278    0.000    0.000    0.000    0.000 diff.py:172(_process_diff_args)\n",
      "     1308    0.000    0.000    0.000    0.000 parse.py:108(_noop)\n",
      "       29    0.000    0.000    0.000    0.000 events.py:36(__init__)\n",
      "        1    0.000    0.000    0.000    0.000 {method 'disable' of '_lsprof.Profiler' objects}\n",
      "        3    0.000    0.000    0.000    0.000 zmqstream.py:663(_rebuild_io_state)\n",
      "      102    0.000    0.000    0.000    0.000 mman.py:303(_collect_lru_region)\n",
      "     1328    0.000    0.000    0.000    0.000 commit.py:536(__init__)\n",
      "      907    0.000    0.000    0.000    0.000 {built-in method _stat.S_ISDIR}\n",
      "       57    0.000    0.000    0.000    0.000 base_events.py:733(time)\n",
      "        5    0.000    0.000    0.000    0.000 attrsettr.py:66(_get_attr_opt)\n",
      "        1    0.000    0.000    0.000    0.000 git.py:92(_discover_main_branch)\n",
      "        3    0.000    0.000    0.000    0.000 zmqstream.py:686(_update_handler)\n",
      "       13    0.000    0.000    0.000    0.000 events.py:111(__init__)\n",
      "        2    0.000    0.000    0.000    0.000 posixpath.py:423(realpath)\n",
      "     1329    0.000    0.000    0.000    0.000 {method '_is_owned' of '_thread.RLock' objects}\n",
      "        1    0.000    0.000    0.000    0.000 base.py:1041(active_branch)\n",
      "      100    0.000    0.000    0.000    0.000 base.py:351(__ne__)\n",
      "        1    0.000    0.000    0.000    0.000 symbolic.py:402(_get_reference)\n",
      "        2    0.000    0.000    0.000    0.000 posixpath.py:432(_joinrealpath)\n",
      "      855    0.000    0.000    0.000    0.000 ChangeCounter.ipynb:155(update_elems)\n",
      "       45    0.000    0.000    0.000    0.000 config.py:242(items_all)\n",
      "       88    0.000    0.000    0.000    0.000 config.py:861(_value_to_string)\n",
      "        1    0.000    0.000    0.000    0.000 zmqstream.py:694(<lambda>)\n",
      "        8    0.000    0.000    0.000    0.000 {built-in method posix.lstat}\n",
      "       13    0.000    0.000    0.000    0.000 base_events.py:446(create_future)\n",
      "        2    0.000    0.000    0.000    0.000 util.py:1057(_release_lock)\n",
      "       13    0.000    0.000    0.000    0.000 events.py:72(cancel)\n",
      "       43    0.000    0.000    0.000    0.000 {built-in method builtins.max}\n",
      "       16    0.000    0.000    0.000    0.000 enum.py:1545(__or__)\n",
      "        1    0.000    0.000    0.000    0.000 util.py:245(rmfile)\n",
      "      132    0.000    0.000    0.000    0.000 config.py:235(getall)\n",
      "        8    0.000    0.000    0.000    0.000 threading.py:857(_maintain_shutdown_locks)\n",
      "      100    0.000    0.000    0.000    0.000 base.py:346(__eq__)\n",
      "        1    0.000    0.000    0.000    0.000 {built-in method posix.remove}\n",
      "       15    0.000    0.000    0.000    0.000 threading.py:515(release)\n",
      "       14    0.000    0.000    0.000    0.000 socket.py:626(send)\n",
      "       72    0.000    0.000    0.000    0.000 enum.py:1538(_get_value)\n",
      "        2    0.000    0.000    0.000    0.000 pathlib.py:835(stat)\n",
      "        1    0.000    0.000    0.000    0.000 kernelbase.py:302(poll_control_queue)\n",
      "        8    0.000    0.000    0.000    0.000 {method 'difference_update' of 'set' objects}\n",
      "        1    0.000    0.000    0.000    0.000 conf.py:85(sanity_check_filters)\n",
      "        8    0.000    0.000    0.000    0.000 enum.py:1556(__and__)\n",
      "        1    0.000    0.000    0.000    0.000 repository.py:44(__init__)\n",
      "        3    0.000    0.000    0.000    0.000 config.py:238(items)\n",
      "        2    0.000    0.000    0.000    0.000 iostream.py:157(_handle_event)\n",
      "      202    0.000    0.000    0.000    0.000 {built-in method _io.text_encoding}\n",
      "      203    0.000    0.000    0.000    0.000 {built-in method _stat.S_ISREG}\n",
      "       57    0.000    0.000    0.000    0.000 {method 'find' of 'bytes' objects}\n",
      "       88    0.000    0.000    0.000    0.000 encoding.py:11(force_text)\n",
      "        2    0.000    0.000    0.000    0.000 iostream.py:278(_really_send)\n",
      "        2    0.000    0.000    0.000    0.000 pathlib.py:1398(expanduser)\n",
      "       57    0.000    0.000    0.000    0.000 {method 'rstrip' of 'bytes' objects}\n",
      "      101    0.000    0.000    0.000    0.000 base.py:70(__init__)\n",
      "        1    0.000    0.000    0.000    0.000 queues.py:186(put)\n",
      "        1    0.000    0.000    0.000    0.000 conf.py:26(__init__)\n",
      "       31    0.000    0.000    0.000    0.000 enum.py:720(__call__)\n",
      "        1    0.000    0.000    0.000    0.000 symbolic.py:879(from_path)\n",
      "        2    0.000    0.000    0.000    0.000 socket.py:774(recv_multipart)\n",
      "        1    0.000    0.000    0.000    0.000 selector_events.py:129(_read_from_self)\n",
      "        2    0.000    0.000    0.000    0.000 socket.py:703(send_multipart)\n",
      "      103    0.000    0.000    0.000    0.000 {built-in method builtins.issubclass}\n",
      "        1    0.000    0.000    0.000    0.000 zmqstream.py:468(update_flag)\n",
      "        1    0.000    0.000    0.000    0.000 queues.py:209(put_nowait)\n",
      "        1    0.000    0.000    0.000    0.000 thread.py:127(__init__)\n",
      "        2    0.000    0.000    0.000    0.000 {method 'recv' of '_socket.socket' objects}\n",
      "   2560/1    8.682    0.003    0.000    0.000 threading.py:1001(run)\n",
      "        1    0.000    0.000    0.000    0.000 conf.py:302(_check_timezones)\n",
      "        1    0.000    0.000    0.000    0.000 conf.py:202(build_args)\n",
      "       13    0.000    0.000    0.000    0.000 {built-in method _heapq.heappop}\n",
      "        1    0.000    0.000    0.000    0.000 futures.py:396(_call_set_state)\n",
      "       15    0.000    0.000    0.000    0.000 {method 'cancelled' of '_asyncio.Future' objects}\n",
      "      4/1    0.001    0.000    0.000    0.000 thread.py:70(_worker)\n",
      "        4    0.000    0.000    0.000    0.000 zmqstream.py:542(sending)\n",
      "     15/2    0.023    0.002    0.000    0.000 {method 'get' of '_queue.SimpleQueue' objects}\n",
      "       30    0.000    0.000    0.000    0.000 selector_events.py:750(_process_events)\n",
      "        1    0.000    0.000    0.000    0.000 conf.py:310(_replace_timezone)\n",
      "        4    0.000    0.000    0.000    0.000 queue.py:97(empty)\n",
      "        2    0.000    0.000    0.000    0.000 typing.py:1221(__instancecheck__)\n",
      "       35    0.000    0.000    0.000    0.000 {method 'popleft' of 'collections.deque' objects}\n",
      "        1    0.000    0.000    0.000    0.000 concurrent.py:182(future_set_result_unless_cancelled)\n",
      "       57    0.000    0.000    0.000    0.000 base_events.py:2010(get_debug)\n",
      "       15    0.000    0.000    0.000    0.000 {built-in method _contextvars.copy_context}\n",
      "        1    0.000    0.000    0.000    0.000 base_events.py:837(call_soon_threadsafe)\n",
      "       31    0.000    0.000    0.000    0.000 enum.py:1123(__new__)\n",
      "       13    0.000    0.000    0.000    0.000 {built-in method _heapq.heappush}\n",
      "        1    0.000    0.000    0.000    0.000 asyncio.py:225(add_callback)\n",
      "        4    0.000    0.000    0.000    0.000 weakref.py:427(__setitem__)\n",
      "       14    0.000    0.000    0.000    0.000 {built-in method _asyncio.get_running_loop}\n",
      "       14    0.000    0.000    0.000    0.000 {built-in method builtins.min}\n",
      "        4    0.000    0.000    0.000    0.000 weakref.py:369(remove)\n",
      "        1    0.000    0.000    0.000    0.000 queues.py:225(get)\n",
      "        2    0.000    0.000    0.000    0.000 typing.py:1492(__subclasscheck__)\n",
      "        1    0.000    0.000    0.000    0.000 git.py:343(__del__)\n",
      "        1    0.000    0.000    0.000    0.000 conf.py:79(_check_only_one_to_commit)\n",
      "        1    0.000    0.000    0.000    0.000 threading.py:457(__init__)\n",
      "        1    0.000    0.000    0.000    0.000 poll.py:80(poll)\n",
      "        2    0.000    0.000    0.000    0.000 traitlets.py:676(__get__)\n",
      "        1    0.000    0.000    0.000    0.000 conf.py:72(_check_only_one_from_commit)\n",
      "        4    0.000    0.000    0.000    0.000 typing.py:1285(__hash__)\n",
      "        1    0.000    0.000    0.000    0.000 configparser.py:869(set)\n",
      "        8    0.000    0.000    0.000    0.000 {method 'partition' of 'str' objects}\n",
      "        1    0.000    0.000    0.000    0.000 selector_events.py:141(_write_to_self)\n",
      "        1    0.000    0.000    0.000    0.000 reference.py:54(__init__)\n",
      "       29    0.000    0.000    0.000    0.000 base_events.py:538(_check_closed)\n",
      "        8    0.000    0.000    0.000    0.000 conf.py:43(set_value)\n",
      "        1    0.000    0.000    0.000    0.000 __init__.py:230(utcoffset)\n",
      "        2    0.000    0.000    0.000    0.000 iostream.py:216(_check_mp_mode)\n",
      "        1    0.000    0.000    0.000    0.000 {method 'send' of '_socket.socket' objects}\n",
      "        2    0.000    0.000    0.000    0.000 repository.py:154(_is_remote)\n",
      "        2    0.000    0.000    0.000    0.000 base_events.py:1900(_add_callback)\n",
      "        1    0.000    0.000    0.000    0.000 {method 'replace' of 'datetime.datetime' objects}\n",
      "        1    0.000    0.000    0.000    0.000 util.py:1009(__del__)\n",
      "        2    0.000    0.000    0.000    0.000 queues.py:322(_consume_expired)\n",
      "        1    0.000    0.000    0.000    0.000 reference.py:120(name)\n",
      "        2    0.000    0.000    0.000    0.000 abc.py:121(__subclasscheck__)\n",
      "        1    0.000    0.000    0.000    0.000 queues.py:256(get_nowait)\n",
      "        2    0.000    0.000    0.000    0.000 iostream.py:213(_is_master_process)\n",
      "        1    0.000    0.000    0.000    0.000 queues.py:317(__put_internal)\n",
      "        4    0.000    0.000    0.000    0.000 queue.py:209(_qsize)\n",
      "        3    0.000    0.000    0.000    0.000 config.py:756(_assure_writable)\n",
      "        2    0.000    0.000    0.000    0.000 traitlets.py:629(get)\n",
      "       13    0.000    0.000    0.000    0.000 base_events.py:1910(_timer_handle_cancelled)\n",
      "        8    0.000    0.000    0.000    0.000 {built-in method _stat.S_ISLNK}\n",
      "        2    0.000    0.000    0.000    0.000 conf.py:192(only_one_filter)\n",
      "        1    0.000    0.000    0.000    0.000 conf.py:151(get_starting_commit)\n",
      "        5    0.000    0.000    0.000    0.000 {method 'upper' of 'str' objects}\n",
      "        1    0.000    0.000    0.000    0.000 conf.py:61(_sanity_check_repos)\n",
      "        2    0.000    0.000    0.000    0.000 util.py:1012(_lock_file_path)\n",
      "        1    0.000    0.000    0.000    0.000 {method 'reverse' of 'list' objects}\n",
      "        1    0.000    0.000    0.000    0.000 conf.py:175(get_ending_commit)\n",
      "        1    0.000    0.000    0.000    0.000 conf.py:123(_check_correct_filters_order)\n",
      "        8    0.000    0.000    0.000    0.000 util.py:1016(_has_lock)\n",
      "        5    0.000    0.000    0.000    0.000 zmqstream.py:538(receiving)\n",
      "        3    0.000    0.000    0.000    0.000 git.py:63(repo)\n",
      "        4    0.000    0.000    0.000    0.000 {built-in method builtins.hash}\n",
      "        2    0.000    0.000    0.000    0.000 {built-in method _abc._abc_subclasscheck}\n",
      "        1    0.000    0.000    0.000    0.000 queues.py:312(_put)\n",
      "        2    0.000    0.000    0.000    0.000 selectors.py:275(_key_from_fd)\n",
      "        1    0.000    0.000    0.000    0.000 poll.py:31(register)\n",
      "        1    0.000    0.000    0.000    0.000 queues.py:173(qsize)\n",
      "        1    0.000    0.000    0.000    0.000 pathlib.py:583(name)\n",
      "        1    0.000    0.000    0.000    0.000 queues.py:309(_get)\n",
      "        1    0.000    0.000    0.000    0.000 unix_events.py:81(_process_self_data)\n",
      "        2    0.000    0.000    0.000    0.000 {built-in method posix.getpid}\n",
      "        1    0.000    0.000    0.000    0.000 {method 'isascii' of 'str' objects}\n",
      "        1    0.000    0.000    0.000    0.000 configparser.py:649(has_section)\n",
      "        1    0.000    0.000    0.000    0.000 {method 'isalpha' of 'str' objects}\n",
      "        1    0.000    0.000    0.000    0.000 util.py:1005(__init__)\n",
      "        2    0.000    0.000    0.000    0.000 iostream.py:255(closed)\n",
      "        1    0.000    0.000    0.000    0.000 {method 'done' of '_asyncio.Future' objects}\n",
      "        1    0.000    0.000    0.000    0.000 zmqstream.py:659(_check_closed)\n",
      "        1    0.000    0.000    0.000    0.000 codecs.py:186(__init__)\n",
      "        1    0.000    0.000    0.000    0.000 queues.py:59(_set_timeout)\n",
      "        1    0.000    0.000    0.000    0.000 locks.py:224(clear)\n",
      "        1    0.000    0.000    0.000    0.000 _base.py:643(__enter__)\n",
      "        1    0.000    0.000    0.000    0.000 configparser.py:338(before_set)\n",
      "        1    0.000    0.000    0.000    0.000 base_events.py:719(is_closed)\n",
      "        1    0.000    0.000    0.000    0.000 queues.py:177(empty)\n",
      "     28/0    1.783    0.064    0.000          {method 'control' of 'select.kqueue' objects}\n",
      "     28/0    0.000    0.000    0.000          selectors.py:558(select)\n",
      "\n",
      "\n"
     ]
    }
   ],
   "source": [
    "cProfile.run('debuggingbook_change_counter(ChangeCounter)', sort='cumulative')"
   ]
  },
  {
   "attachments": {},
   "cell_type": "markdown",
   "metadata": {
    "slideshow": {
     "slide_type": "subslide"
    }
   },
   "source": [
    "Yes, that's an awful lot of functions, but we can quickly narrow things down. The `cumtime` column is sorted by largest values first. We see that the `debuggingbook_change_counter()` method at the top takes up all the time – but this is not surprising, since it is the method we called in the first place. This calls a method `mine()` in the `ChangeCounter` class, which does all the work."
   ]
  },
  {
   "cell_type": "markdown",
   "metadata": {
    "slideshow": {
     "slide_type": "fragment"
    }
   },
   "source": [
    "The next places are more interesting: almost all time is spent in a single method, named `modifications()`. This method determines the difference between two versions, which is an expensive operation; this is also supported by the observation that half of the time is spent in a `diff()` method."
   ]
  },
  {
   "cell_type": "markdown",
   "metadata": {
    "slideshow": {
     "slide_type": "subslide"
    }
   },
   "source": [
    "This profile thus already gets us a hint on how to improve performance: Rather than computing the diff between versions for _every_ version, we could do so _on demand_ (and possibly cache results so we don't have to compute them twice). Alas, this (slow) functionality is part of the \n",
    "underlying [PyDriller](https://pydriller.readthedocs.io/) Python package, so we cannot fix this within the `ChangeCounter` class. But we could file a bug with the developers, suggesting a patch to improve performance."
   ]
  },
  {
   "cell_type": "markdown",
   "metadata": {
    "slideshow": {
     "slide_type": "subslide"
    }
   },
   "source": [
    "### Sampling Execution Profiles\n",
    "\n",
    "Instrumenting code is _precise_, but it is also _slow_. An alternate way to measure performance is to _sample_ in regular intervals which functions are currently active – for instance, by examining the current function call stack. The more frequently a function is sampled as active, the more time is spent in that function."
   ]
  },
  {
   "cell_type": "markdown",
   "metadata": {
    "slideshow": {
     "slide_type": "subslide"
    }
   },
   "source": [
    "One profiler for Python that implements such sampling is [Scalene](https://github.com/plasma-umass/scalene) – a high-performance, high-precision CPU, GPU, and memory profiler for Python. We can invoke it on our example as follows:\n",
    "\n",
    "```sh\n",
    "$ scalene --html test.py > scalene-out.html\n",
    "```"
   ]
  },
  {
   "cell_type": "markdown",
   "metadata": {
    "slideshow": {
     "slide_type": "fragment"
    }
   },
   "source": [
    "where `test.py` is a script that again invokes\n",
    "\n",
    "```python\n",
    "debuggingbook_change_counter(ChangeCounter)\n",
    "```"
   ]
  },
  {
   "attachments": {},
   "cell_type": "markdown",
   "metadata": {
    "slideshow": {
     "slide_type": "subslide"
    }
   },
   "source": [
    "The output of `scalene` is sent to a HTML file (here, `scalene-out.html`) which is organized by _lines_ – that is, for each line, we see how much it contributed to overall execution time. Opening the output `scalene-out.html` in a HTML browser, we see these lines:"
   ]
  },
  {
   "cell_type": "markdown",
   "metadata": {
    "slideshow": {
     "slide_type": "fragment"
    }
   },
   "source": [
    "![](PICS/scalene-out.png)"
   ]
  },
  {
   "cell_type": "markdown",
   "metadata": {
    "slideshow": {
     "slide_type": "fragment"
    }
   },
   "source": [
    "As with `cProfile`, above, we identify the `mine()` method in the `ChangeCounter` class as the main performance hog – and in the `mine()` method, it is the iteration over all modifications that takes all the time. Adding the option `--profile-all` to `scalene` would extend the profile to all executed code, including the `pydriller` third-party library."
   ]
  },
  {
   "cell_type": "markdown",
   "metadata": {
    "slideshow": {
     "slide_type": "fragment"
    }
   },
   "source": [
    "Besides relying on sampling rather that tracing (which is more efficient) and breaking down execution time by line, `scalene` also provides additional information on memory usage and more. If `cProfile` is not sufficient, then `scalene` will bring profiling to the next level."
   ]
  },
  {
   "cell_type": "markdown",
   "metadata": {
    "slideshow": {
     "slide_type": "slide"
    }
   },
   "source": [
    "## Improving Performance"
   ]
  },
  {
   "cell_type": "markdown",
   "metadata": {
    "slideshow": {
     "slide_type": "fragment"
    }
   },
   "source": [
    "Identifying a culprit is not always that easy. Notably, when the first set of obvious performance hogs is fixed, it becomes more and more difficult to squeeze out additional performance – and, as stated above, such optimization may be in conflict with readability and maintainability of your code. Here are some simple ways to improve performance:"
   ]
  },
  {
   "cell_type": "markdown",
   "metadata": {
    "slideshow": {
     "slide_type": "subslide"
    }
   },
   "source": [
    "* **Efficient algorithms**. For many tasks, the simplest algorithm is not always the best performing one. Consider alternatives that may be more efficient, and _measure_ whether they pay off.\n",
    "\n",
    "* **Efficient data types**. Remember that certain operations, such as looking up whether an element is contained, may take different amounts of time depending on the data structure. In Python, a query like `x in xs` takes (mostly) constant time if `xs` is a set, but linear time if `xs` is a list; these differences become significant as the size of `xs` grows.\n",
    "\n",
    "* **Efficient modules**. In Python, most frequently used modules (or at least parts of) are implemented in C, which is way more efficient than plain Python. Rely on existing modules whenever possible. Or implement your own, _after_ having measured that this may pay off."
   ]
  },
  {
   "cell_type": "markdown",
   "metadata": {
    "slideshow": {
     "slide_type": "subslide"
    }
   },
   "source": [
    "These are all things you can already use during programming – and also set up your code such that exchanging, say, one data type by another will still be possible later. This is best achieved by hiding implementation details (such as the used data types) behind an abstract interface used by your clients."
   ]
  },
  {
   "cell_type": "markdown",
   "metadata": {
    "slideshow": {
     "slide_type": "fragment"
    }
   },
   "source": [
    "But beyond these points, remember the famous words by [Donald E. Knuth](https://en.wikipedia.org/wiki/Donald_Knuth):"
   ]
  },
  {
   "cell_type": "code",
   "execution_count": 10,
   "metadata": {
    "execution": {
     "iopub.execute_input": "2025-01-13T15:01:37.661192Z",
     "iopub.status.busy": "2025-01-13T15:01:37.661041Z",
     "iopub.status.idle": "2025-01-13T15:01:37.663006Z",
     "shell.execute_reply": "2025-01-13T15:01:37.662708Z"
    },
    "slideshow": {
     "slide_type": "skip"
    }
   },
   "outputs": [],
   "source": [
    "from bookutils import quiz"
   ]
  },
  {
   "cell_type": "code",
   "execution_count": 11,
   "metadata": {
    "execution": {
     "iopub.execute_input": "2025-01-13T15:01:37.664448Z",
     "iopub.status.busy": "2025-01-13T15:01:37.664327Z",
     "iopub.status.idle": "2025-01-13T15:01:37.669328Z",
     "shell.execute_reply": "2025-01-13T15:01:37.669068Z"
    },
    "slideshow": {
     "slide_type": "fragment"
    }
   },
   "outputs": [
    {
     "data": {
      "text/html": [
       "\n",
       "    \n",
       "    <script>\n",
       "    var bad_answers = new Map();\n",
       "\n",
       "    function answer(quiz_id) {\n",
       "        ans = 0;\n",
       "        for (i = 1;; i++) {\n",
       "            checkbox = document.getElementById(quiz_id + \"-\" + i.toString());\n",
       "            if (!checkbox)\n",
       "                break;\n",
       "            if (checkbox.checked)\n",
       "                ans |= (1 << i);\n",
       "        }\n",
       "        return ans;\n",
       "    }\n",
       "    function check_selection(quiz_id, correct_answer, multiple_choice, hint) {\n",
       "        given_answer = answer(quiz_id);\n",
       "        if (given_answer == correct_answer)\n",
       "        {\n",
       "            document.getElementById(quiz_id + \"-submit\").value = \"Correct!\";\n",
       "            document.getElementById(quiz_id + \"-hint\").innerHTML = \"\";\n",
       "\n",
       "            for (i = 1;; i++) {\n",
       "                checkbox = document.getElementById(quiz_id + \"-\" + i.toString());\n",
       "                label = document.getElementById(quiz_id + \"-\" + i.toString() + \"-label\")\n",
       "                if (!checkbox)\n",
       "                    break;\n",
       "\n",
       "                if (checkbox.checked) {\n",
       "                    label.style.fontWeight = \"bold\";\n",
       "                }\n",
       "                else {\n",
       "                    label.style.textDecoration = \"line-through\";\n",
       "                }\n",
       "            }\n",
       "        }\n",
       "        else \n",
       "        {\n",
       "            document.getElementById(quiz_id + \"-submit\").value = \"Try again\";\n",
       "\n",
       "            if (!bad_answers.has(quiz_id)) {\n",
       "                bad_answers.set(quiz_id, 1);\n",
       "            }\n",
       "            else {\n",
       "                bad_answers.set(quiz_id, bad_answers.get(quiz_id) + 1);\n",
       "            }\n",
       "\n",
       "            if (bad_answers.get(quiz_id) >= 2 && hint.length > 0) {\n",
       "                document.getElementById(quiz_id + \"-hint\").innerHTML = \n",
       "                    \"&nbsp;&nbsp;(Hint: <code>\" + hint + \"</code>)\";\n",
       "            }\n",
       "\n",
       "            if (!multiple_choice) {\n",
       "                for (i = 1;; i++) {\n",
       "                    checkbox = document.getElementById(quiz_id + \"-\" + i.toString());\n",
       "                    label = document.getElementById(quiz_id + \"-\" + i.toString() + \"-label\")\n",
       "\n",
       "                    if (!checkbox)\n",
       "                        break;\n",
       "                    if (checkbox.checked) {\n",
       "                        label.style.textDecoration = \"line-through\";\n",
       "                    }\n",
       "                }\n",
       "            }\n",
       "        }\n",
       "    }\n",
       "    function clear_selection(quiz_id) {\n",
       "        document.getElementById(quiz_id + \"-submit\").value = \"Submit\";\n",
       "        document.getElementById(quiz_id + \"-hint\").innerHTML = \"\";\n",
       "    }\n",
       "    </script>\n",
       "    \n",
       "    <div class=\"quiz\">\n",
       "    <h3 class=\"quiz_title\">Quiz</h3>\n",
       "    <p>\n",
       "    <div class=\"quiz_question\">Donald E. Knuth said: \"Premature optimization...\"</div>\n",
       "    </p>\n",
       "    <p>\n",
       "    <div class=\"quiz_options\" title=\"Pick a choice.\">\n",
       "    \n",
       "        <input type=\"radio\" name=\"49aa9878-d1bf-11ef-b083-6298cf1a5790\" id=\"49aa9878-d1bf-11ef-b083-6298cf1a5790-1\" onclick=\"clear_selection('49aa9878-d1bf-11ef-b083-6298cf1a5790')\">\n",
       "        <label id=\"49aa9878-d1bf-11ef-b083-6298cf1a5790-1-label\" for=\"49aa9878-d1bf-11ef-b083-6298cf1a5790-1\">... is the root of all evil</label><br>\n",
       "    \n",
       "        <input type=\"radio\" name=\"49aa9878-d1bf-11ef-b083-6298cf1a5790\" id=\"49aa9878-d1bf-11ef-b083-6298cf1a5790-2\" onclick=\"clear_selection('49aa9878-d1bf-11ef-b083-6298cf1a5790')\">\n",
       "        <label id=\"49aa9878-d1bf-11ef-b083-6298cf1a5790-2-label\" for=\"49aa9878-d1bf-11ef-b083-6298cf1a5790-2\">... requires lots of experience</label><br>\n",
       "    \n",
       "        <input type=\"radio\" name=\"49aa9878-d1bf-11ef-b083-6298cf1a5790\" id=\"49aa9878-d1bf-11ef-b083-6298cf1a5790-3\" onclick=\"clear_selection('49aa9878-d1bf-11ef-b083-6298cf1a5790')\">\n",
       "        <label id=\"49aa9878-d1bf-11ef-b083-6298cf1a5790-3-label\" for=\"49aa9878-d1bf-11ef-b083-6298cf1a5790-3\">... should be left to assembly programmers</label><br>\n",
       "    \n",
       "        <input type=\"radio\" name=\"49aa9878-d1bf-11ef-b083-6298cf1a5790\" id=\"49aa9878-d1bf-11ef-b083-6298cf1a5790-4\" onclick=\"clear_selection('49aa9878-d1bf-11ef-b083-6298cf1a5790')\">\n",
       "        <label id=\"49aa9878-d1bf-11ef-b083-6298cf1a5790-4-label\" for=\"49aa9878-d1bf-11ef-b083-6298cf1a5790-4\">... is the reason why TeX is so fast</label><br>\n",
       "    \n",
       "    </div>\n",
       "    </p>\n",
       "    <input id=\"49aa9878-d1bf-11ef-b083-6298cf1a5790-submit\" type=\"submit\" value=\"Submit\" onclick=\"check_selection('49aa9878-d1bf-11ef-b083-6298cf1a5790', 2, 0, 'len(&quot;METAFONT&quot;) - len(&quot;TeX&quot;) - len(&quot;CWEB&quot;)')\">\n",
       "    <span class=\"quiz_hint\" id=\"49aa9878-d1bf-11ef-b083-6298cf1a5790-hint\"></span>\n",
       "    </div>\n",
       "    "
      ],
      "text/plain": [
       "<IPython.core.display.HTML object>"
      ]
     },
     "execution_count": 11,
     "metadata": {},
     "output_type": "execute_result"
    }
   ],
   "source": [
    "quiz('Donald E. Knuth said: \"Premature optimization...\"',\n",
    "    [\n",
    "        \"... is the root of all evil\",\n",
    "        \"... requires lots of experience\",\n",
    "        \"... should be left to assembly programmers\",\n",
    "        \"... is the reason why TeX is so fast\",\n",
    "    ], 'len(\"METAFONT\") - len(\"TeX\") - len(\"CWEB\")')"
   ]
  },
  {
   "cell_type": "markdown",
   "metadata": {
    "slideshow": {
     "slide_type": "subslide"
    }
   },
   "source": [
    "This quote should always remind us that after a good design, you should always _first_ measure and _then_ optimize."
   ]
  },
  {
   "cell_type": "markdown",
   "metadata": {
    "slideshow": {
     "slide_type": "slide"
    }
   },
   "source": [
    "## Building a Profiler\n",
    "\n",
    "Having discussed profilers from a _user_ perspective, let us now dive into how they are actually implemented. It turns out we can use most of our existing infrastructure to implement a simple tracing profiler with only a few lines of code."
   ]
  },
  {
   "cell_type": "markdown",
   "metadata": {
    "slideshow": {
     "slide_type": "fragment"
    }
   },
   "source": [
    "The program we will apply our profiler on is – surprise! – our ongoing example, `remove_html_markup()`. Our aim is to understand how much time is spent _in each line of the code_ (such that we have a new feature on top of Python `cProfile`)."
   ]
  },
  {
   "cell_type": "code",
   "execution_count": 12,
   "metadata": {
    "execution": {
     "iopub.execute_input": "2025-01-13T15:01:37.670800Z",
     "iopub.status.busy": "2025-01-13T15:01:37.670689Z",
     "iopub.status.idle": "2025-01-13T15:01:37.672361Z",
     "shell.execute_reply": "2025-01-13T15:01:37.672072Z"
    },
    "slideshow": {
     "slide_type": "skip"
    }
   },
   "outputs": [],
   "source": [
    "from Intro_Debugging import remove_html_markup"
   ]
  },
  {
   "cell_type": "code",
   "execution_count": 13,
   "metadata": {
    "execution": {
     "iopub.execute_input": "2025-01-13T15:01:37.673607Z",
     "iopub.status.busy": "2025-01-13T15:01:37.673522Z",
     "iopub.status.idle": "2025-01-13T15:01:37.675345Z",
     "shell.execute_reply": "2025-01-13T15:01:37.675082Z"
    },
    "slideshow": {
     "slide_type": "fragment"
    }
   },
   "outputs": [],
   "source": [
    "# ignore\n",
    "from typing import Any, Optional, Type, Dict, Tuple, List"
   ]
  },
  {
   "cell_type": "code",
   "execution_count": 14,
   "metadata": {
    "execution": {
     "iopub.execute_input": "2025-01-13T15:01:37.676717Z",
     "iopub.status.busy": "2025-01-13T15:01:37.676625Z",
     "iopub.status.idle": "2025-01-13T15:01:37.678364Z",
     "shell.execute_reply": "2025-01-13T15:01:37.678116Z"
    },
    "slideshow": {
     "slide_type": "fragment"
    }
   },
   "outputs": [],
   "source": [
    "# ignore\n",
    "from bookutils import print_content"
   ]
  },
  {
   "cell_type": "code",
   "execution_count": 15,
   "metadata": {
    "execution": {
     "iopub.execute_input": "2025-01-13T15:01:37.679659Z",
     "iopub.status.busy": "2025-01-13T15:01:37.679574Z",
     "iopub.status.idle": "2025-01-13T15:01:37.681231Z",
     "shell.execute_reply": "2025-01-13T15:01:37.680974Z"
    },
    "slideshow": {
     "slide_type": "subslide"
    }
   },
   "outputs": [],
   "source": [
    "# ignore\n",
    "import inspect"
   ]
  },
  {
   "cell_type": "code",
   "execution_count": 16,
   "metadata": {
    "execution": {
     "iopub.execute_input": "2025-01-13T15:01:37.682677Z",
     "iopub.status.busy": "2025-01-13T15:01:37.682580Z",
     "iopub.status.idle": "2025-01-13T15:01:37.795580Z",
     "shell.execute_reply": "2025-01-13T15:01:37.795309Z"
    },
    "slideshow": {
     "slide_type": "subslide"
    }
   },
   "outputs": [
    {
     "name": "stdout",
     "output_type": "stream",
     "text": [
      "238  \u001b[34mdef\u001b[39;49;00m \u001b[32mremove_html_markup\u001b[39;49;00m(s):  \u001b[37m# type: ignore\u001b[39;49;00m\u001b[37m\u001b[39;49;00m\n",
      "239      tag = \u001b[34mFalse\u001b[39;49;00m\u001b[37m\u001b[39;49;00m\n",
      "240      quote = \u001b[34mFalse\u001b[39;49;00m\u001b[37m\u001b[39;49;00m\n",
      "241      out = \u001b[33m\"\u001b[39;49;00m\u001b[33m\"\u001b[39;49;00m\u001b[37m\u001b[39;49;00m\n",
      "242  \u001b[37m\u001b[39;49;00m\n",
      "243      \u001b[34mfor\u001b[39;49;00m c \u001b[35min\u001b[39;49;00m s:\u001b[37m\u001b[39;49;00m\n",
      "244          \u001b[34massert\u001b[39;49;00m tag \u001b[35mor\u001b[39;49;00m \u001b[35mnot\u001b[39;49;00m quote\u001b[37m\u001b[39;49;00m\n",
      "245  \u001b[37m\u001b[39;49;00m\n",
      "246          \u001b[34mif\u001b[39;49;00m c == \u001b[33m'\u001b[39;49;00m\u001b[33m<\u001b[39;49;00m\u001b[33m'\u001b[39;49;00m \u001b[35mand\u001b[39;49;00m \u001b[35mnot\u001b[39;49;00m quote:\u001b[37m\u001b[39;49;00m\n",
      "247              tag = \u001b[34mTrue\u001b[39;49;00m\u001b[37m\u001b[39;49;00m\n",
      "248          \u001b[34melif\u001b[39;49;00m c == \u001b[33m'\u001b[39;49;00m\u001b[33m>\u001b[39;49;00m\u001b[33m'\u001b[39;49;00m \u001b[35mand\u001b[39;49;00m \u001b[35mnot\u001b[39;49;00m quote:\u001b[37m\u001b[39;49;00m\n",
      "249              tag = \u001b[34mFalse\u001b[39;49;00m\u001b[37m\u001b[39;49;00m\n",
      "250          \u001b[34melif\u001b[39;49;00m (c == \u001b[33m'\u001b[39;49;00m\u001b[33m\"\u001b[39;49;00m\u001b[33m'\u001b[39;49;00m \u001b[35mor\u001b[39;49;00m c == \u001b[33m\"\u001b[39;49;00m\u001b[33m'\u001b[39;49;00m\u001b[33m\"\u001b[39;49;00m) \u001b[35mand\u001b[39;49;00m tag:\u001b[37m\u001b[39;49;00m\n",
      "251              quote = \u001b[35mnot\u001b[39;49;00m quote\u001b[37m\u001b[39;49;00m\n",
      "252          \u001b[34melif\u001b[39;49;00m \u001b[35mnot\u001b[39;49;00m tag:\u001b[37m\u001b[39;49;00m\n",
      "253              out = out + c\u001b[37m\u001b[39;49;00m\n",
      "254  \u001b[37m\u001b[39;49;00m\n",
      "255      \u001b[34mreturn\u001b[39;49;00m out\u001b[37m\u001b[39;49;00m"
     ]
    }
   ],
   "source": [
    "print_content(inspect.getsource(remove_html_markup), '.py',\n",
    "              start_line_number=238)"
   ]
  },
  {
   "cell_type": "markdown",
   "metadata": {
    "slideshow": {
     "slide_type": "subslide"
    }
   },
   "source": [
    "We introduce a class `PerformanceTracer` that tracks, for each line in the code:\n",
    "\n",
    "* how _often_ it was executed (`hits`), and\n",
    "* _how much time_ was spent during its execution (`time`).\n",
    "\n",
    "To this end, we make use of our `Timer` class, which measures time, and the `Tracer` class from [the chapter on tracing](Tracer.ipynb), which allows us to track every line of the program as it is being executed."
   ]
  },
  {
   "cell_type": "code",
   "execution_count": 17,
   "metadata": {
    "execution": {
     "iopub.execute_input": "2025-01-13T15:01:37.796943Z",
     "iopub.status.busy": "2025-01-13T15:01:37.796834Z",
     "iopub.status.idle": "2025-01-13T15:01:37.798536Z",
     "shell.execute_reply": "2025-01-13T15:01:37.798303Z"
    },
    "slideshow": {
     "slide_type": "skip"
    }
   },
   "outputs": [],
   "source": [
    "from Tracer import Tracer"
   ]
  },
  {
   "attachments": {},
   "cell_type": "markdown",
   "metadata": {
    "slideshow": {
     "slide_type": "fragment"
    }
   },
   "source": [
    "In `PerformanceTracker`, the attributes `hits` and `time` are mappings indexed by unique locations – that is, pairs of function name and line number."
   ]
  },
  {
   "cell_type": "code",
   "execution_count": 18,
   "metadata": {
    "execution": {
     "iopub.execute_input": "2025-01-13T15:01:37.799805Z",
     "iopub.status.busy": "2025-01-13T15:01:37.799710Z",
     "iopub.status.idle": "2025-01-13T15:01:37.801236Z",
     "shell.execute_reply": "2025-01-13T15:01:37.801011Z"
    },
    "slideshow": {
     "slide_type": "fragment"
    }
   },
   "outputs": [],
   "source": [
    "Location = Tuple[str, int]"
   ]
  },
  {
   "cell_type": "code",
   "execution_count": 19,
   "metadata": {
    "execution": {
     "iopub.execute_input": "2025-01-13T15:01:37.802768Z",
     "iopub.status.busy": "2025-01-13T15:01:37.802670Z",
     "iopub.status.idle": "2025-01-13T15:01:37.805002Z",
     "shell.execute_reply": "2025-01-13T15:01:37.804762Z"
    },
    "slideshow": {
     "slide_type": "subslide"
    }
   },
   "outputs": [],
   "source": [
    "class PerformanceTracer(Tracer):\n",
    "    \"\"\"Trace time and #hits for individual program lines\"\"\"\n",
    "\n",
    "    def __init__(self) -> None:\n",
    "        \"\"\"Constructor.\"\"\"\n",
    "        super().__init__()\n",
    "        self.reset_timer()\n",
    "        self.hits: Dict[Location, int] = {}\n",
    "        self.time: Dict[Location, float] = {}\n",
    "\n",
    "    def reset_timer(self) -> None:\n",
    "        self.timer = Timer.Timer()"
   ]
  },
  {
   "cell_type": "markdown",
   "metadata": {
    "slideshow": {
     "slide_type": "subslide"
    }
   },
   "source": [
    "As common in this book, we want to use `PerformanceTracer` in a `with`-block around the function call(s) to be tracked:\n",
    "\n",
    "```python\n",
    "with PerformanceTracer() as perf_tracer:\n",
    "    function(...)\n",
    "```"
   ]
  },
  {
   "cell_type": "markdown",
   "metadata": {
    "slideshow": {
     "slide_type": "fragment"
    }
   },
   "source": [
    "When entering the `with` block (`__enter__()`), we reset all timers. Also, coming from the `__enter__()` method of the superclass `Tracer`, we enable tracing through the `traceit()` method."
   ]
  },
  {
   "cell_type": "code",
   "execution_count": 20,
   "metadata": {
    "execution": {
     "iopub.execute_input": "2025-01-13T15:01:37.806398Z",
     "iopub.status.busy": "2025-01-13T15:01:37.806313Z",
     "iopub.status.idle": "2025-01-13T15:01:37.808094Z",
     "shell.execute_reply": "2025-01-13T15:01:37.807840Z"
    },
    "slideshow": {
     "slide_type": "skip"
    }
   },
   "outputs": [],
   "source": [
    "from types import FrameType"
   ]
  },
  {
   "cell_type": "code",
   "execution_count": 21,
   "metadata": {
    "execution": {
     "iopub.execute_input": "2025-01-13T15:01:37.809324Z",
     "iopub.status.busy": "2025-01-13T15:01:37.809234Z",
     "iopub.status.idle": "2025-01-13T15:01:37.811079Z",
     "shell.execute_reply": "2025-01-13T15:01:37.810852Z"
    },
    "slideshow": {
     "slide_type": "subslide"
    }
   },
   "outputs": [],
   "source": [
    "class PerformanceTracer(PerformanceTracer):\n",
    "    def __enter__(self) -> Any:\n",
    "        \"\"\"Enter a `with` block.\"\"\"\n",
    "        super().__enter__()\n",
    "        self.reset_timer()\n",
    "        return self"
   ]
  },
  {
   "cell_type": "markdown",
   "metadata": {
    "slideshow": {
     "slide_type": "fragment"
    }
   },
   "source": [
    "The `traceit()` method extracts the current location. It increases the corresponding `hits` value by 1, and adds the elapsed time to the corresponding `time`."
   ]
  },
  {
   "cell_type": "code",
   "execution_count": 22,
   "metadata": {
    "execution": {
     "iopub.execute_input": "2025-01-13T15:01:37.812368Z",
     "iopub.status.busy": "2025-01-13T15:01:37.812285Z",
     "iopub.status.idle": "2025-01-13T15:01:37.814395Z",
     "shell.execute_reply": "2025-01-13T15:01:37.814174Z"
    },
    "slideshow": {
     "slide_type": "subslide"
    }
   },
   "outputs": [],
   "source": [
    "class PerformanceTracer(PerformanceTracer):\n",
    "    def traceit(self, frame: FrameType, event: str, arg: Any) -> None:\n",
    "        \"\"\"Tracing function; called for every line.\"\"\"\n",
    "        t = self.timer.elapsed_time()\n",
    "        location = (frame.f_code.co_name, frame.f_lineno)\n",
    "\n",
    "        self.hits.setdefault(location, 0)\n",
    "        self.time.setdefault(location, 0.0)\n",
    "        self.hits[location] += 1\n",
    "        self.time[location] += t\n",
    "\n",
    "        self.reset_timer()"
   ]
  },
  {
   "cell_type": "markdown",
   "metadata": {
    "slideshow": {
     "slide_type": "fragment"
    }
   },
   "source": [
    "This is it already. We can now determine where most time is spent in `remove_html_markup()`. We invoke it 10,000 times such that we can average over runs:"
   ]
  },
  {
   "cell_type": "code",
   "execution_count": 23,
   "metadata": {
    "execution": {
     "iopub.execute_input": "2025-01-13T15:01:37.815592Z",
     "iopub.status.busy": "2025-01-13T15:01:37.815518Z",
     "iopub.status.idle": "2025-01-13T15:01:38.614426Z",
     "shell.execute_reply": "2025-01-13T15:01:38.614141Z"
    },
    "slideshow": {
     "slide_type": "subslide"
    }
   },
   "outputs": [],
   "source": [
    "with PerformanceTracer() as perf_tracer:\n",
    "    for i in range(10000):\n",
    "        s = remove_html_markup('<b>foo</b>')"
   ]
  },
  {
   "cell_type": "markdown",
   "metadata": {
    "slideshow": {
     "slide_type": "fragment"
    }
   },
   "source": [
    "Here are the hits. For every line executed, we see how often it was executed. The most executed line is the `for` loop with 110,000 hits – once for each of the 10 characters in `<b>foo</b>`, once for the final check, and all of this 10,000 times."
   ]
  },
  {
   "cell_type": "code",
   "execution_count": 24,
   "metadata": {
    "execution": {
     "iopub.execute_input": "2025-01-13T15:01:38.616032Z",
     "iopub.status.busy": "2025-01-13T15:01:38.615935Z",
     "iopub.status.idle": "2025-01-13T15:01:38.618477Z",
     "shell.execute_reply": "2025-01-13T15:01:38.618241Z"
    },
    "slideshow": {
     "slide_type": "subslide"
    }
   },
   "outputs": [
    {
     "data": {
      "text/plain": [
       "{('__init__', 17): 1,\n",
       " ('__init__', 19): 1,\n",
       " ('clock', 8): 1,\n",
       " ('clock', 12): 2,\n",
       " ('__init__', 20): 2,\n",
       " ('remove_html_markup', 238): 10000,\n",
       " ('remove_html_markup', 239): 10000,\n",
       " ('remove_html_markup', 240): 10000,\n",
       " ('remove_html_markup', 241): 10000,\n",
       " ('remove_html_markup', 243): 110000,\n",
       " ('remove_html_markup', 244): 100000,\n",
       " ('remove_html_markup', 246): 100000,\n",
       " ('remove_html_markup', 247): 20000,\n",
       " ('remove_html_markup', 248): 80000,\n",
       " ('remove_html_markup', 250): 60000,\n",
       " ('remove_html_markup', 252): 60000,\n",
       " ('remove_html_markup', 249): 20000,\n",
       " ('remove_html_markup', 253): 30000,\n",
       " ('remove_html_markup', 255): 20000}"
      ]
     },
     "execution_count": 24,
     "metadata": {},
     "output_type": "execute_result"
    }
   ],
   "source": [
    "perf_tracer.hits"
   ]
  },
  {
   "cell_type": "markdown",
   "metadata": {
    "slideshow": {
     "slide_type": "subslide"
    }
   },
   "source": [
    "The `time` attribute collects how much time was spent in each line. Within the loop, again, the `for` statement takes the most time. The other lines show some variability, though."
   ]
  },
  {
   "cell_type": "code",
   "execution_count": 25,
   "metadata": {
    "execution": {
     "iopub.execute_input": "2025-01-13T15:01:38.619996Z",
     "iopub.status.busy": "2025-01-13T15:01:38.619902Z",
     "iopub.status.idle": "2025-01-13T15:01:38.622375Z",
     "shell.execute_reply": "2025-01-13T15:01:38.622098Z"
    },
    "slideshow": {
     "slide_type": "subslide"
    }
   },
   "outputs": [
    {
     "data": {
      "text/plain": [
       "{('__init__', 17): 0.00017741697956807911,\n",
       " ('__init__', 19): 1.374981366097927e-06,\n",
       " ('clock', 8): 1.0830117389559746e-06,\n",
       " ('clock', 12): 1.4179968275129795e-06,\n",
       " ('__init__', 20): 1.4999823179095984e-06,\n",
       " ('remove_html_markup', 238): 0.012380550848320127,\n",
       " ('remove_html_markup', 239): 0.01322883740067482,\n",
       " ('remove_html_markup', 240): 0.012543303280835971,\n",
       " ('remove_html_markup', 241): 0.010860979644348845,\n",
       " ('remove_html_markup', 243): 0.0786726304795593,\n",
       " ('remove_html_markup', 244): 0.0696463689673692,\n",
       " ('remove_html_markup', 246): 0.0691080367541872,\n",
       " ('remove_html_markup', 247): 0.014079347543884069,\n",
       " ('remove_html_markup', 248): 0.05440069115138613,\n",
       " ('remove_html_markup', 250): 0.04056804146966897,\n",
       " ('remove_html_markup', 252): 0.04186230318737216,\n",
       " ('remove_html_markup', 249): 0.013834863289957866,\n",
       " ('remove_html_markup', 253): 0.02019126166123897,\n",
       " ('remove_html_markup', 255): 0.013581226579844952}"
      ]
     },
     "execution_count": 25,
     "metadata": {},
     "output_type": "execute_result"
    }
   ],
   "source": [
    "perf_tracer.time"
   ]
  },
  {
   "cell_type": "markdown",
   "metadata": {
    "slideshow": {
     "slide_type": "subslide"
    }
   },
   "source": [
    "For a full profiler, these numbers would now be sorted and printed in a table, much like `cProfile` does. However, we will borrow some material from previous chapters and annotate our code accordingly."
   ]
  },
  {
   "cell_type": "markdown",
   "metadata": {
    "slideshow": {
     "slide_type": "slide"
    }
   },
   "source": [
    "## Visualizing Performance Metrics\n",
    "\n",
    "In the [chapter on statistical debugging](StatisticalDebugger.ipynb), we have encountered the `CoverageCollector` class, which collects line and function coverage during execution, using a `collect()` method that is invoked for every line. We will repurpose this class to collect arbitrary _metrics_ on the lines executed, notably time taken."
   ]
  },
  {
   "cell_type": "markdown",
   "metadata": {
    "slideshow": {
     "slide_type": "subslide"
    }
   },
   "source": [
    "### Collecting Time Spent"
   ]
  },
  {
   "cell_type": "code",
   "execution_count": 26,
   "metadata": {
    "execution": {
     "iopub.execute_input": "2025-01-13T15:01:38.623909Z",
     "iopub.status.busy": "2025-01-13T15:01:38.623801Z",
     "iopub.status.idle": "2025-01-13T15:01:38.625373Z",
     "shell.execute_reply": "2025-01-13T15:01:38.625157Z"
    },
    "slideshow": {
     "slide_type": "skip"
    }
   },
   "outputs": [],
   "source": [
    "from StatisticalDebugger import CoverageCollector, SpectrumDebugger"
   ]
  },
  {
   "cell_type": "markdown",
   "metadata": {
    "slideshow": {
     "slide_type": "fragment"
    }
   },
   "source": [
    "The `MetricCollector` class is an abstract superclass that provides an interface to access a particular metric."
   ]
  },
  {
   "cell_type": "code",
   "execution_count": 27,
   "metadata": {
    "execution": {
     "iopub.execute_input": "2025-01-13T15:01:38.626598Z",
     "iopub.status.busy": "2025-01-13T15:01:38.626524Z",
     "iopub.status.idle": "2025-01-13T15:01:38.628468Z",
     "shell.execute_reply": "2025-01-13T15:01:38.628257Z"
    },
    "slideshow": {
     "slide_type": "fragment"
    }
   },
   "outputs": [],
   "source": [
    "class MetricCollector(CoverageCollector):\n",
    "    \"\"\"Abstract superclass for collecting line-specific metrics\"\"\"\n",
    "\n",
    "    def metric(self, event: Any) -> Optional[float]:\n",
    "        \"\"\"Return a metric for an event, or none.\"\"\"\n",
    "        return None\n",
    "\n",
    "    def all_metrics(self, func: str) -> List[float]:\n",
    "        \"\"\"Return all metric for a function `func`.\"\"\"\n",
    "        return []"
   ]
  },
  {
   "cell_type": "markdown",
   "metadata": {
    "slideshow": {
     "slide_type": "fragment"
    }
   },
   "source": [
    "Given these metrics, we can also compute sums and maxima for a single function."
   ]
  },
  {
   "cell_type": "code",
   "execution_count": 28,
   "metadata": {
    "execution": {
     "iopub.execute_input": "2025-01-13T15:01:38.629716Z",
     "iopub.status.busy": "2025-01-13T15:01:38.629636Z",
     "iopub.status.idle": "2025-01-13T15:01:38.631537Z",
     "shell.execute_reply": "2025-01-13T15:01:38.631336Z"
    },
    "slideshow": {
     "slide_type": "subslide"
    }
   },
   "outputs": [],
   "source": [
    "class MetricCollector(MetricCollector):\n",
    "    def total(self, func: str) -> float:\n",
    "        return sum(self.all_metrics(func))\n",
    "\n",
    "    def maximum(self, func: str) -> float:\n",
    "        return max(self.all_metrics(func))"
   ]
  },
  {
   "cell_type": "markdown",
   "metadata": {
    "slideshow": {
     "slide_type": "fragment"
    }
   },
   "source": [
    "Let us instantiate this superclass into `TimeCollector` – a subclass that measures time. This is modeled after our `PerformanceTracer` class, above; notably, the `time` attribute serves the same role."
   ]
  },
  {
   "cell_type": "code",
   "execution_count": 29,
   "metadata": {
    "execution": {
     "iopub.execute_input": "2025-01-13T15:01:38.632915Z",
     "iopub.status.busy": "2025-01-13T15:01:38.632830Z",
     "iopub.status.idle": "2025-01-13T15:01:38.635541Z",
     "shell.execute_reply": "2025-01-13T15:01:38.635275Z"
    },
    "slideshow": {
     "slide_type": "subslide"
    }
   },
   "outputs": [],
   "source": [
    "class TimeCollector(MetricCollector):\n",
    "    \"\"\"Collect time executed for each line\"\"\"\n",
    "\n",
    "    def __init__(self) -> None:\n",
    "        \"\"\"Constructor\"\"\"\n",
    "        super().__init__()\n",
    "        self.reset_timer()\n",
    "        self.time: Dict[Location, float] = {}\n",
    "        self.add_items_to_ignore([Timer.Timer, Timer.clock])\n",
    "\n",
    "    def collect(self, frame: FrameType, event: str, arg: Any) -> None:\n",
    "        \"\"\"Invoked for every line executed. Accumulate time spent.\"\"\"\n",
    "        t = self.timer.elapsed_time()\n",
    "        super().collect(frame, event, arg)\n",
    "        location = (frame.f_code.co_name, frame.f_lineno)\n",
    "\n",
    "        self.time.setdefault(location, 0.0)\n",
    "        self.time[location] += t\n",
    "\n",
    "        self.reset_timer()\n",
    "\n",
    "    def reset_timer(self) -> None:\n",
    "        self.timer = Timer.Timer()\n",
    "\n",
    "    def __enter__(self) -> Any:\n",
    "        super().__enter__()\n",
    "        self.reset_timer()\n",
    "        return self"
   ]
  },
  {
   "cell_type": "markdown",
   "metadata": {
    "slideshow": {
     "slide_type": "subslide"
    }
   },
   "source": [
    "The `metric()` and `all_metrics()` methods accumulate the metric (time taken) for an individual function:"
   ]
  },
  {
   "cell_type": "code",
   "execution_count": 30,
   "metadata": {
    "execution": {
     "iopub.execute_input": "2025-01-13T15:01:38.637004Z",
     "iopub.status.busy": "2025-01-13T15:01:38.636909Z",
     "iopub.status.idle": "2025-01-13T15:01:38.639101Z",
     "shell.execute_reply": "2025-01-13T15:01:38.638892Z"
    },
    "slideshow": {
     "slide_type": "fragment"
    }
   },
   "outputs": [],
   "source": [
    "class TimeCollector(TimeCollector):\n",
    "    def metric(self, location: Any) -> Optional[float]:\n",
    "        if location in self.time:\n",
    "            return self.time[location]\n",
    "        else:\n",
    "            return None\n",
    "\n",
    "    def all_metrics(self, func: str) -> List[float]:\n",
    "        return [time\n",
    "                for (func_name, lineno), time in self.time.items()\n",
    "                if func_name == func]"
   ]
  },
  {
   "cell_type": "markdown",
   "metadata": {
    "slideshow": {
     "slide_type": "fragment"
    }
   },
   "source": [
    "Here's how to use `TimeCollector()` – again, in a `with` block:"
   ]
  },
  {
   "cell_type": "code",
   "execution_count": 31,
   "metadata": {
    "execution": {
     "iopub.execute_input": "2025-01-13T15:01:38.640305Z",
     "iopub.status.busy": "2025-01-13T15:01:38.640225Z",
     "iopub.status.idle": "2025-01-13T15:01:38.658607Z",
     "shell.execute_reply": "2025-01-13T15:01:38.658318Z"
    },
    "slideshow": {
     "slide_type": "subslide"
    }
   },
   "outputs": [],
   "source": [
    "with TimeCollector() as collector:\n",
    "    for i in range(100):\n",
    "        s = remove_html_markup('<b>foo</b>')"
   ]
  },
  {
   "cell_type": "markdown",
   "metadata": {
    "slideshow": {
     "slide_type": "fragment"
    }
   },
   "source": [
    "The `time` attribute holds the time spent in each line:"
   ]
  },
  {
   "cell_type": "code",
   "execution_count": 32,
   "metadata": {
    "execution": {
     "iopub.execute_input": "2025-01-13T15:01:38.660028Z",
     "iopub.status.busy": "2025-01-13T15:01:38.659939Z",
     "iopub.status.idle": "2025-01-13T15:01:38.662041Z",
     "shell.execute_reply": "2025-01-13T15:01:38.661716Z"
    },
    "slideshow": {
     "slide_type": "subslide"
    }
   },
   "outputs": [
    {
     "name": "stdout",
     "output_type": "stream",
     "text": [
      "('remove_html_markup', 238) 0.0002917959645856172\n",
      "('remove_html_markup', 239) 0.000272917008260265\n",
      "('remove_html_markup', 240) 0.000251874967943877\n",
      "('remove_html_markup', 241) 0.00022158815409056842\n",
      "('remove_html_markup', 243) 0.0016869126411620528\n",
      "('remove_html_markup', 244) 0.0014333880972117186\n",
      "('remove_html_markup', 246) 0.001442023232812062\n",
      "('remove_html_markup', 247) 0.00028953500441275537\n",
      "('remove_html_markup', 248) 0.0011316468298900872\n",
      "('remove_html_markup', 250) 0.0008494770154356956\n",
      "('remove_html_markup', 252) 0.0010732338123489171\n",
      "('remove_html_markup', 249) 0.00028653210029006004\n",
      "('remove_html_markup', 253) 0.00042471097549423575\n",
      "('remove_html_markup', 255) 0.00028366188053041697\n"
     ]
    }
   ],
   "source": [
    "for location, time_spent in collector.time.items():\n",
    "    print(location, time_spent)"
   ]
  },
  {
   "cell_type": "markdown",
   "metadata": {
    "slideshow": {
     "slide_type": "subslide"
    }
   },
   "source": [
    "And we can also create a total for an entire function:"
   ]
  },
  {
   "cell_type": "code",
   "execution_count": 33,
   "metadata": {
    "execution": {
     "iopub.execute_input": "2025-01-13T15:01:38.663480Z",
     "iopub.status.busy": "2025-01-13T15:01:38.663394Z",
     "iopub.status.idle": "2025-01-13T15:01:38.665666Z",
     "shell.execute_reply": "2025-01-13T15:01:38.665398Z"
    },
    "slideshow": {
     "slide_type": "fragment"
    }
   },
   "outputs": [
    {
     "data": {
      "text/plain": [
       "0.009939297684468329"
      ]
     },
     "execution_count": 33,
     "metadata": {},
     "output_type": "execute_result"
    }
   ],
   "source": [
    "collector.total('remove_html_markup')"
   ]
  },
  {
   "cell_type": "markdown",
   "metadata": {
    "slideshow": {
     "slide_type": "subslide"
    }
   },
   "source": [
    "### Visualizing Time Spent\n",
    "\n",
    "Let us now go and visualize these numbers in a simple form. The idea is to assign each line a _color_ whose saturation indicates the time spent in that line relative to the time spent in the function overall  – the higher the fraction, the darker the line. We create a `MetricDebugger` class built as a specialization of `SpectrumDebugger`, in which `suspiciousness()` and `color()` are repurposed to show these metrics."
   ]
  },
  {
   "cell_type": "code",
   "execution_count": 34,
   "metadata": {
    "execution": {
     "iopub.execute_input": "2025-01-13T15:01:38.666952Z",
     "iopub.status.busy": "2025-01-13T15:01:38.666866Z",
     "iopub.status.idle": "2025-01-13T15:01:38.670588Z",
     "shell.execute_reply": "2025-01-13T15:01:38.670306Z"
    },
    "slideshow": {
     "slide_type": "subslide"
    }
   },
   "outputs": [],
   "source": [
    "class MetricDebugger(SpectrumDebugger):\n",
    "    \"\"\"Visualize a metric\"\"\"\n",
    "\n",
    "    def metric(self, location: Location) -> float:\n",
    "        sum = 0.0\n",
    "        for outcome in self.collectors:\n",
    "            for collector in self.collectors[outcome]:\n",
    "                assert isinstance(collector, MetricCollector)\n",
    "                m = collector.metric(location)\n",
    "                if m is not None:\n",
    "                    sum += m  # type: ignore\n",
    "\n",
    "        return sum\n",
    "\n",
    "    def total(self, func_name: str) -> float:\n",
    "        total = 0.0\n",
    "        for outcome in self.collectors:\n",
    "            for collector in self.collectors[outcome]:\n",
    "                assert isinstance(collector, MetricCollector)\n",
    "                total += sum(collector.all_metrics(func_name))\n",
    "\n",
    "        return total\n",
    "\n",
    "    def maximum(self, func_name: str) -> float:\n",
    "        maximum = 0.0\n",
    "        for outcome in self.collectors:\n",
    "            for collector in self.collectors[outcome]:\n",
    "                assert isinstance(collector, MetricCollector)\n",
    "                maximum = max(maximum, \n",
    "                              max(collector.all_metrics(func_name)))\n",
    "\n",
    "        return maximum\n",
    "\n",
    "    def suspiciousness(self, location: Location) -> float:\n",
    "        func_name, _ = location\n",
    "        return self.metric(location) / self.total(func_name)\n",
    "\n",
    "    def color(self, location: Location) -> str:\n",
    "        func_name, _ = location\n",
    "        hue = 240  # blue\n",
    "        saturation = 100  # fully saturated\n",
    "        darkness = self.metric(location) / self.maximum(func_name)\n",
    "        lightness = 100 - darkness * 25\n",
    "        return f\"hsl({hue}, {saturation}%, {lightness}%)\"\n",
    "\n",
    "    def tooltip(self, location: Location) -> str:\n",
    "        return f\"{super().tooltip(location)} {self.metric(location)}\""
   ]
  },
  {
   "cell_type": "markdown",
   "metadata": {
    "slideshow": {
     "slide_type": "subslide"
    }
   },
   "source": [
    "We can now introduce `PerformanceDebugger` as a subclass of `MetricDebugger`, using an arbitrary `MetricCollector` (such as `TimeCollector`) to obtain the metric we want to visualize."
   ]
  },
  {
   "cell_type": "code",
   "execution_count": 35,
   "metadata": {
    "execution": {
     "iopub.execute_input": "2025-01-13T15:01:38.671912Z",
     "iopub.status.busy": "2025-01-13T15:01:38.671819Z",
     "iopub.status.idle": "2025-01-13T15:01:38.673901Z",
     "shell.execute_reply": "2025-01-13T15:01:38.673654Z"
    },
    "slideshow": {
     "slide_type": "fragment"
    }
   },
   "outputs": [],
   "source": [
    "class PerformanceDebugger(MetricDebugger):\n",
    "    \"\"\"Collect and visualize a metric\"\"\"\n",
    "\n",
    "    def __init__(self, collector_class: Type, log: bool = False):\n",
    "        assert issubclass(collector_class, MetricCollector)\n",
    "        super().__init__(collector_class, log=log)"
   ]
  },
  {
   "cell_type": "markdown",
   "metadata": {
    "slideshow": {
     "slide_type": "fragment"
    }
   },
   "source": [
    "With `PerformanceDebugger`, we inherit all the capabilities of `SpectrumDebugger`, such as showing the (relative) percentage of time spent in a table. We see that the `for` condition and the following `assert` take most of the time, followed by the first condition."
   ]
  },
  {
   "cell_type": "code",
   "execution_count": 36,
   "metadata": {
    "execution": {
     "iopub.execute_input": "2025-01-13T15:01:38.675272Z",
     "iopub.status.busy": "2025-01-13T15:01:38.675186Z",
     "iopub.status.idle": "2025-01-13T15:01:38.695056Z",
     "shell.execute_reply": "2025-01-13T15:01:38.694797Z"
    },
    "slideshow": {
     "slide_type": "subslide"
    }
   },
   "outputs": [],
   "source": [
    "with PerformanceDebugger(TimeCollector) as debugger:\n",
    "    for i in range(100):\n",
    "        s = remove_html_markup('<b>foo</b>')"
   ]
  },
  {
   "cell_type": "code",
   "execution_count": 37,
   "metadata": {
    "execution": {
     "iopub.execute_input": "2025-01-13T15:01:38.696484Z",
     "iopub.status.busy": "2025-01-13T15:01:38.696398Z",
     "iopub.status.idle": "2025-01-13T15:01:38.698742Z",
     "shell.execute_reply": "2025-01-13T15:01:38.698474Z"
    },
    "slideshow": {
     "slide_type": "subslide"
    }
   },
   "outputs": [
    {
     "name": "stdout",
     "output_type": "stream",
     "text": [
      " 238   2% def remove_html_markup(s):  # type: ignore\n",
      " 239   2%     tag = False\n",
      " 240   2%     quote = False\n",
      " 241   2%     out = \"\"\n",
      " 242   0%\n",
      " 243  16%     for c in s:\n",
      " 244  14%         assert tag or not quote\n",
      " 245   0%\n",
      " 246  14%         if c == '<' and not quote:\n",
      " 247   2%             tag = True\n",
      " 248  11%         elif c == '>' and not quote:\n",
      " 249   2%             tag = False\n",
      " 250   8%         elif (c == '\"' or c == \"'\") and tag:\n",
      " 251   0%             quote = not quote\n",
      " 252   8%         elif not tag:\n",
      " 253   4%             out = out + c\n",
      " 254   0%\n",
      " 255   2%     return out\n",
      "\n"
     ]
    }
   ],
   "source": [
    "print(debugger)"
   ]
  },
  {
   "cell_type": "markdown",
   "metadata": {
    "slideshow": {
     "slide_type": "subslide"
    }
   },
   "source": [
    "However, we can also visualize these percentages, using shades of blue to indicate those lines most time spent in:"
   ]
  },
  {
   "cell_type": "code",
   "execution_count": 38,
   "metadata": {
    "execution": {
     "iopub.execute_input": "2025-01-13T15:01:38.700122Z",
     "iopub.status.busy": "2025-01-13T15:01:38.700027Z",
     "iopub.status.idle": "2025-01-13T15:01:38.702960Z",
     "shell.execute_reply": "2025-01-13T15:01:38.702718Z"
    },
    "slideshow": {
     "slide_type": "subslide"
    }
   },
   "outputs": [
    {
     "data": {
      "text/html": [
       "<pre style=\"background-color:hsl(240, 100%, 95.56801502979002%)\"\n",
       "                    title=\"Line 238:   2% 0.0003313749039079994\"> 238 def remove_html_markup(s):  # type: ignore</pre>\n",
       "<pre style=\"background-color:hsl(240, 100%, 95.66218398899748%)\"\n",
       "                    title=\"Line 239:   2% 0.00032433398882858455\"> 239     tag = False</pre>\n",
       "<pre style=\"background-color:hsl(240, 100%, 95.98096392262784%)\"\n",
       "                    title=\"Line 240:   2% 0.0003004991449415684\"> 240     quote = False</pre>\n",
       "<pre style=\"background-color:hsl(240, 100%, 96.52093448939804%)\"\n",
       "                    title=\"Line 241:   2% 0.0002601261076051742\"> 241     out = &quot;&quot;</pre>\n",
       "<pre style=\"background-color:hsl(240, 100%, 100.0%)\"\n",
       "                    title=\"Line 242:   0% 0.0\"> 242 &nbsp;</pre>\n",
       "<pre style=\"background-color:hsl(240, 100%, 75.0%)\"\n",
       "                    title=\"Line 243:  16% 0.0018692239827942103\"> 243     for c in s:</pre>\n",
       "<pre style=\"background-color:hsl(240, 100%, 77.99801223948907%)\"\n",
       "                    title=\"Line 244:  14% 0.0016450657276436687\"> 244         assert tag or not quote</pre>\n",
       "<pre style=\"background-color:hsl(240, 100%, 100.0%)\"\n",
       "                    title=\"Line 245:   0% 0.0\"> 245 &nbsp;</pre>\n",
       "<pre style=\"background-color:hsl(240, 100%, 78.013156796027%)\"\n",
       "                    title=\"Line 246:  14% 0.0016439333849120885\"> 246         if c == &#x27;&lt;&#x27; and not quote:</pre>\n",
       "<pre style=\"background-color:hsl(240, 100%, 95.56818552136643%)\"\n",
       "                    title=\"Line 247:   2% 0.00033136215643025935\"> 247             tag = True</pre>\n",
       "<pre style=\"background-color:hsl(240, 100%, 82.49151664277267%)\"\n",
       "                    title=\"Line 248:  11% 0.0013090910797473043\"> 248         elif c == &#x27;&gt;&#x27; and not quote:</pre>\n",
       "<pre style=\"background-color:hsl(240, 100%, 95.58194006553136%)\"\n",
       "                    title=\"Line 249:   2% 0.0003303337434772402\"> 249             tag = False</pre>\n",
       "<pre style=\"background-color:hsl(240, 100%, 86.89421754385725%)\"\n",
       "                    title=\"Line 250:   8% 0.000979905715212226\"> 250         elif (c == &#x27;&quot;&#x27; or c == &quot;&#x27;&quot;) and tag:</pre>\n",
       "<pre style=\"background-color:hsl(240, 100%, 100.0%)\"\n",
       "                    title=\"Line 251:   0% 0.0\"> 251             quote = not quote</pre>\n",
       "<pre style=\"background-color:hsl(240, 100%, 86.68256081524058%)\"\n",
       "                    title=\"Line 252:   8% 0.0009957310685422271\"> 252         elif not tag:</pre>\n",
       "<pre style=\"background-color:hsl(240, 100%, 93.41970361339536%)\"\n",
       "                    title=\"Line 253:   4% 0.0004920019127894193\"> 253             out = out + c</pre>\n",
       "<pre style=\"background-color:hsl(240, 100%, 100.0%)\"\n",
       "                    title=\"Line 254:   0% 0.0\"> 254 &nbsp;</pre>\n",
       "<pre style=\"background-color:hsl(240, 100%, 95.65557724578628%)\"\n",
       "                    title=\"Line 255:   2% 0.0003248279681429267\"> 255     return out</pre>\n"
      ],
      "text/markdown": [
       "| `remove_html_markup` | `s='<b>foo</b>'` | \n",
       "| ---------------------- | ---- | \n",
       "| <samp style=\"background-color: hsl(240, 100%, 95.56801502979002%)\" title=\"  2% 0.0003313749039079994\">remove_html_markup:238</samp> |    X | \n",
       "| <samp style=\"background-color: hsl(240, 100%, 95.66218398899748%)\" title=\"  2% 0.00032433398882858455\">remove_html_markup:239</samp> |    X | \n",
       "| <samp style=\"background-color: hsl(240, 100%, 95.98096392262784%)\" title=\"  2% 0.0003004991449415684\">remove_html_markup:240</samp> |    X | \n",
       "| <samp style=\"background-color: hsl(240, 100%, 96.52093448939804%)\" title=\"  2% 0.0002601261076051742\">remove_html_markup:241</samp> |    X | \n",
       "| <samp style=\"background-color: hsl(240, 100%, 75.0%)\" title=\" 16% 0.0018692239827942103\">remove_html_markup:243</samp> |    X | \n",
       "| <samp style=\"background-color: hsl(240, 100%, 77.99801223948907%)\" title=\" 14% 0.0016450657276436687\">remove_html_markup:244</samp> |    X | \n",
       "| <samp style=\"background-color: hsl(240, 100%, 78.013156796027%)\" title=\" 14% 0.0016439333849120885\">remove_html_markup:246</samp> |    X | \n",
       "| <samp style=\"background-color: hsl(240, 100%, 95.56818552136643%)\" title=\"  2% 0.00033136215643025935\">remove_html_markup:247</samp> |    X | \n",
       "| <samp style=\"background-color: hsl(240, 100%, 82.49151664277267%)\" title=\" 11% 0.0013090910797473043\">remove_html_markup:248</samp> |    X | \n",
       "| <samp style=\"background-color: hsl(240, 100%, 95.58194006553136%)\" title=\"  2% 0.0003303337434772402\">remove_html_markup:249</samp> |    X | \n",
       "| <samp style=\"background-color: hsl(240, 100%, 86.89421754385725%)\" title=\"  8% 0.000979905715212226\">remove_html_markup:250</samp> |    X | \n",
       "| <samp style=\"background-color: hsl(240, 100%, 86.68256081524058%)\" title=\"  8% 0.0009957310685422271\">remove_html_markup:252</samp> |    X | \n",
       "| <samp style=\"background-color: hsl(240, 100%, 93.41970361339536%)\" title=\"  4% 0.0004920019127894193\">remove_html_markup:253</samp> |    X | \n",
       "| <samp style=\"background-color: hsl(240, 100%, 95.65557724578628%)\" title=\"  2% 0.0003248279681429267\">remove_html_markup:255</samp> |    X | \n"
      ],
      "text/plain": [
       " 238   2% def remove_html_markup(s):  # type: ignore\n",
       " 239   2%     tag = False\n",
       " 240   2%     quote = False\n",
       " 241   2%     out = \"\"\n",
       " 242   0%\n",
       " 243  16%     for c in s:\n",
       " 244  14%         assert tag or not quote\n",
       " 245   0%\n",
       " 246  14%         if c == '<' and not quote:\n",
       " 247   2%             tag = True\n",
       " 248  11%         elif c == '>' and not quote:\n",
       " 249   2%             tag = False\n",
       " 250   8%         elif (c == '\"' or c == \"'\") and tag:\n",
       " 251   0%             quote = not quote\n",
       " 252   8%         elif not tag:\n",
       " 253   4%             out = out + c\n",
       " 254   0%\n",
       " 255   2%     return out"
      ]
     },
     "execution_count": 38,
     "metadata": {},
     "output_type": "execute_result"
    }
   ],
   "source": [
    "debugger"
   ]
  },
  {
   "cell_type": "markdown",
   "metadata": {
    "slideshow": {
     "slide_type": "subslide"
    }
   },
   "source": [
    "### Other Metrics\n",
    "\n",
    "Our framework is flexible enough to collect (and visualize) arbitrary metrics. This `HitCollector` class, for instance, collects how often a line is being executed."
   ]
  },
  {
   "cell_type": "code",
   "execution_count": 39,
   "metadata": {
    "execution": {
     "iopub.execute_input": "2025-01-13T15:01:38.704412Z",
     "iopub.status.busy": "2025-01-13T15:01:38.704300Z",
     "iopub.status.idle": "2025-01-13T15:01:38.707068Z",
     "shell.execute_reply": "2025-01-13T15:01:38.706819Z"
    },
    "slideshow": {
     "slide_type": "subslide"
    }
   },
   "outputs": [],
   "source": [
    "class HitCollector(MetricCollector):\n",
    "    \"\"\"Collect how often a line is executed\"\"\"\n",
    "\n",
    "    def __init__(self) -> None:\n",
    "        super().__init__()\n",
    "        self.hits: Dict[Location, int] = {}\n",
    "\n",
    "    def collect(self, frame: FrameType, event: str, arg: Any) -> None:\n",
    "        super().collect(frame, event, arg)\n",
    "        location = (frame.f_code.co_name, frame.f_lineno)\n",
    "\n",
    "        self.hits.setdefault(location, 0)\n",
    "        self.hits[location] += 1\n",
    "\n",
    "    def metric(self, location: Location) -> Optional[int]:\n",
    "        if location in self.hits:\n",
    "            return self.hits[location]\n",
    "        else:\n",
    "            return None\n",
    "\n",
    "    def all_metrics(self, func: str) -> List[float]:\n",
    "        return [hits\n",
    "                for (func_name, lineno), hits in self.hits.items()\n",
    "                if func_name == func]"
   ]
  },
  {
   "cell_type": "markdown",
   "metadata": {
    "slideshow": {
     "slide_type": "subslide"
    }
   },
   "source": [
    "We can plug in this class into `PerformanceDebugger` to obtain a distribution of lines executed:"
   ]
  },
  {
   "cell_type": "code",
   "execution_count": 40,
   "metadata": {
    "execution": {
     "iopub.execute_input": "2025-01-13T15:01:38.708549Z",
     "iopub.status.busy": "2025-01-13T15:01:38.708438Z",
     "iopub.status.idle": "2025-01-13T15:01:38.723500Z",
     "shell.execute_reply": "2025-01-13T15:01:38.723182Z"
    },
    "slideshow": {
     "slide_type": "fragment"
    }
   },
   "outputs": [],
   "source": [
    "with PerformanceDebugger(HitCollector) as debugger:\n",
    "    for i in range(100):\n",
    "        s = remove_html_markup('<b>foo</b>')"
   ]
  },
  {
   "cell_type": "markdown",
   "metadata": {
    "slideshow": {
     "slide_type": "fragment"
    }
   },
   "source": [
    "In total, during this call to `remove_html_markup()`, there are 6,400 lines executed:"
   ]
  },
  {
   "cell_type": "code",
   "execution_count": 41,
   "metadata": {
    "execution": {
     "iopub.execute_input": "2025-01-13T15:01:38.725073Z",
     "iopub.status.busy": "2025-01-13T15:01:38.724983Z",
     "iopub.status.idle": "2025-01-13T15:01:38.727149Z",
     "shell.execute_reply": "2025-01-13T15:01:38.726905Z"
    },
    "slideshow": {
     "slide_type": "fragment"
    }
   },
   "outputs": [
    {
     "data": {
      "text/plain": [
       "6400.0"
      ]
     },
     "execution_count": 41,
     "metadata": {},
     "output_type": "execute_result"
    }
   ],
   "source": [
    "debugger.total('remove_html_markup')"
   ]
  },
  {
   "cell_type": "markdown",
   "metadata": {
    "slideshow": {
     "slide_type": "fragment"
    }
   },
   "source": [
    "Again, we can visualize the distribution as a table and using colors. We can see how the shade gets lighter in the lower part of the loop as individual conditions have been met."
   ]
  },
  {
   "cell_type": "code",
   "execution_count": 42,
   "metadata": {
    "execution": {
     "iopub.execute_input": "2025-01-13T15:01:38.728466Z",
     "iopub.status.busy": "2025-01-13T15:01:38.728369Z",
     "iopub.status.idle": "2025-01-13T15:01:38.730444Z",
     "shell.execute_reply": "2025-01-13T15:01:38.730196Z"
    },
    "slideshow": {
     "slide_type": "subslide"
    }
   },
   "outputs": [
    {
     "name": "stdout",
     "output_type": "stream",
     "text": [
      " 238   1% def remove_html_markup(s):  # type: ignore\n",
      " 239   1%     tag = False\n",
      " 240   1%     quote = False\n",
      " 241   1%     out = \"\"\n",
      " 242   0%\n",
      " 243  17%     for c in s:\n",
      " 244  15%         assert tag or not quote\n",
      " 245   0%\n",
      " 246  15%         if c == '<' and not quote:\n",
      " 247   3%             tag = True\n",
      " 248  12%         elif c == '>' and not quote:\n",
      " 249   3%             tag = False\n",
      " 250   9%         elif (c == '\"' or c == \"'\") and tag:\n",
      " 251   0%             quote = not quote\n",
      " 252   9%         elif not tag:\n",
      " 253   4%             out = out + c\n",
      " 254   0%\n",
      " 255   3%     return out\n",
      "\n"
     ]
    }
   ],
   "source": [
    "print(debugger)"
   ]
  },
  {
   "cell_type": "code",
   "execution_count": 43,
   "metadata": {
    "execution": {
     "iopub.execute_input": "2025-01-13T15:01:38.731898Z",
     "iopub.status.busy": "2025-01-13T15:01:38.731802Z",
     "iopub.status.idle": "2025-01-13T15:01:38.734877Z",
     "shell.execute_reply": "2025-01-13T15:01:38.734616Z"
    },
    "slideshow": {
     "slide_type": "subslide"
    }
   },
   "outputs": [
    {
     "data": {
      "text/html": [
       "<pre style=\"background-color:hsl(240, 100%, 97.72727272727273%)\"\n",
       "                    title=\"Line 238:   1% 100.0\"> 238 def remove_html_markup(s):  # type: ignore</pre>\n",
       "<pre style=\"background-color:hsl(240, 100%, 97.72727272727273%)\"\n",
       "                    title=\"Line 239:   1% 100.0\"> 239     tag = False</pre>\n",
       "<pre style=\"background-color:hsl(240, 100%, 97.72727272727273%)\"\n",
       "                    title=\"Line 240:   1% 100.0\"> 240     quote = False</pre>\n",
       "<pre style=\"background-color:hsl(240, 100%, 97.72727272727273%)\"\n",
       "                    title=\"Line 241:   1% 100.0\"> 241     out = &quot;&quot;</pre>\n",
       "<pre style=\"background-color:hsl(240, 100%, 100.0%)\"\n",
       "                    title=\"Line 242:   0% 0.0\"> 242 &nbsp;</pre>\n",
       "<pre style=\"background-color:hsl(240, 100%, 75.0%)\"\n",
       "                    title=\"Line 243:  17% 1100.0\"> 243     for c in s:</pre>\n",
       "<pre style=\"background-color:hsl(240, 100%, 77.27272727272728%)\"\n",
       "                    title=\"Line 244:  15% 1000.0\"> 244         assert tag or not quote</pre>\n",
       "<pre style=\"background-color:hsl(240, 100%, 100.0%)\"\n",
       "                    title=\"Line 245:   0% 0.0\"> 245 &nbsp;</pre>\n",
       "<pre style=\"background-color:hsl(240, 100%, 77.27272727272728%)\"\n",
       "                    title=\"Line 246:  15% 1000.0\"> 246         if c == &#x27;&lt;&#x27; and not quote:</pre>\n",
       "<pre style=\"background-color:hsl(240, 100%, 95.45454545454545%)\"\n",
       "                    title=\"Line 247:   3% 200.0\"> 247             tag = True</pre>\n",
       "<pre style=\"background-color:hsl(240, 100%, 81.81818181818181%)\"\n",
       "                    title=\"Line 248:  12% 800.0\"> 248         elif c == &#x27;&gt;&#x27; and not quote:</pre>\n",
       "<pre style=\"background-color:hsl(240, 100%, 95.45454545454545%)\"\n",
       "                    title=\"Line 249:   3% 200.0\"> 249             tag = False</pre>\n",
       "<pre style=\"background-color:hsl(240, 100%, 86.36363636363636%)\"\n",
       "                    title=\"Line 250:   9% 600.0\"> 250         elif (c == &#x27;&quot;&#x27; or c == &quot;&#x27;&quot;) and tag:</pre>\n",
       "<pre style=\"background-color:hsl(240, 100%, 100.0%)\"\n",
       "                    title=\"Line 251:   0% 0.0\"> 251             quote = not quote</pre>\n",
       "<pre style=\"background-color:hsl(240, 100%, 86.36363636363636%)\"\n",
       "                    title=\"Line 252:   9% 600.0\"> 252         elif not tag:</pre>\n",
       "<pre style=\"background-color:hsl(240, 100%, 93.18181818181819%)\"\n",
       "                    title=\"Line 253:   4% 300.0\"> 253             out = out + c</pre>\n",
       "<pre style=\"background-color:hsl(240, 100%, 100.0%)\"\n",
       "                    title=\"Line 254:   0% 0.0\"> 254 &nbsp;</pre>\n",
       "<pre style=\"background-color:hsl(240, 100%, 95.45454545454545%)\"\n",
       "                    title=\"Line 255:   3% 200.0\"> 255     return out</pre>\n"
      ],
      "text/markdown": [
       "| `remove_html_markup` | `s='<b>foo</b>'` | \n",
       "| ---------------------- | ---- | \n",
       "| <samp style=\"background-color: hsl(240, 100%, 97.72727272727273%)\" title=\"  1% 100.0\">remove_html_markup:238</samp> |    X | \n",
       "| <samp style=\"background-color: hsl(240, 100%, 97.72727272727273%)\" title=\"  1% 100.0\">remove_html_markup:239</samp> |    X | \n",
       "| <samp style=\"background-color: hsl(240, 100%, 97.72727272727273%)\" title=\"  1% 100.0\">remove_html_markup:240</samp> |    X | \n",
       "| <samp style=\"background-color: hsl(240, 100%, 97.72727272727273%)\" title=\"  1% 100.0\">remove_html_markup:241</samp> |    X | \n",
       "| <samp style=\"background-color: hsl(240, 100%, 75.0%)\" title=\" 17% 1100.0\">remove_html_markup:243</samp> |    X | \n",
       "| <samp style=\"background-color: hsl(240, 100%, 77.27272727272728%)\" title=\" 15% 1000.0\">remove_html_markup:244</samp> |    X | \n",
       "| <samp style=\"background-color: hsl(240, 100%, 77.27272727272728%)\" title=\" 15% 1000.0\">remove_html_markup:246</samp> |    X | \n",
       "| <samp style=\"background-color: hsl(240, 100%, 95.45454545454545%)\" title=\"  3% 200.0\">remove_html_markup:247</samp> |    X | \n",
       "| <samp style=\"background-color: hsl(240, 100%, 81.81818181818181%)\" title=\" 12% 800.0\">remove_html_markup:248</samp> |    X | \n",
       "| <samp style=\"background-color: hsl(240, 100%, 95.45454545454545%)\" title=\"  3% 200.0\">remove_html_markup:249</samp> |    X | \n",
       "| <samp style=\"background-color: hsl(240, 100%, 86.36363636363636%)\" title=\"  9% 600.0\">remove_html_markup:250</samp> |    X | \n",
       "| <samp style=\"background-color: hsl(240, 100%, 86.36363636363636%)\" title=\"  9% 600.0\">remove_html_markup:252</samp> |    X | \n",
       "| <samp style=\"background-color: hsl(240, 100%, 93.18181818181819%)\" title=\"  4% 300.0\">remove_html_markup:253</samp> |    X | \n",
       "| <samp style=\"background-color: hsl(240, 100%, 95.45454545454545%)\" title=\"  3% 200.0\">remove_html_markup:255</samp> |    X | \n"
      ],
      "text/plain": [
       " 238   1% def remove_html_markup(s):  # type: ignore\n",
       " 239   1%     tag = False\n",
       " 240   1%     quote = False\n",
       " 241   1%     out = \"\"\n",
       " 242   0%\n",
       " 243  17%     for c in s:\n",
       " 244  15%         assert tag or not quote\n",
       " 245   0%\n",
       " 246  15%         if c == '<' and not quote:\n",
       " 247   3%             tag = True\n",
       " 248  12%         elif c == '>' and not quote:\n",
       " 249   3%             tag = False\n",
       " 250   9%         elif (c == '\"' or c == \"'\") and tag:\n",
       " 251   0%             quote = not quote\n",
       " 252   9%         elif not tag:\n",
       " 253   4%             out = out + c\n",
       " 254   0%\n",
       " 255   3%     return out"
      ]
     },
     "execution_count": 43,
     "metadata": {},
     "output_type": "execute_result"
    }
   ],
   "source": [
    "debugger"
   ]
  },
  {
   "cell_type": "markdown",
   "metadata": {
    "slideshow": {
     "slide_type": "slide"
    }
   },
   "source": [
    "## Integrating with Delta Debugging\n",
    "\n",
    "Besides identifying causes for performance issues in the code, one may also search for causes in the _input_, using [Delta Debugging](DeltaDebugger.ipynb). This can be useful if one does not immediately want to embark into investigating the code, but maybe first determine external influences that are related to performance issues."
   ]
  },
  {
   "cell_type": "markdown",
   "metadata": {
    "slideshow": {
     "slide_type": "fragment"
    }
   },
   "source": [
    "Here is a variant of `remove_html_markup()` that introduces a (rather obvious) performance issue."
   ]
  },
  {
   "cell_type": "code",
   "execution_count": 44,
   "metadata": {
    "execution": {
     "iopub.execute_input": "2025-01-13T15:01:38.736289Z",
     "iopub.status.busy": "2025-01-13T15:01:38.736184Z",
     "iopub.status.idle": "2025-01-13T15:01:38.737676Z",
     "shell.execute_reply": "2025-01-13T15:01:38.737404Z"
    },
    "slideshow": {
     "slide_type": "skip"
    }
   },
   "outputs": [],
   "source": [
    "import time"
   ]
  },
  {
   "cell_type": "code",
   "execution_count": 45,
   "metadata": {
    "execution": {
     "iopub.execute_input": "2025-01-13T15:01:38.739070Z",
     "iopub.status.busy": "2025-01-13T15:01:38.738974Z",
     "iopub.status.idle": "2025-01-13T15:01:38.741528Z",
     "shell.execute_reply": "2025-01-13T15:01:38.741234Z"
    },
    "slideshow": {
     "slide_type": "subslide"
    }
   },
   "outputs": [],
   "source": [
    "def remove_html_markup_ampersand(s: str) -> str:\n",
    "    tag = False\n",
    "    quote = False\n",
    "    out = \"\"\n",
    "\n",
    "    for c in s:\n",
    "        assert tag or not quote\n",
    "\n",
    "        if c == '&':\n",
    "            time.sleep(0.1)  # <-- the obvious performance issue\n",
    "\n",
    "        if c == '<' and not quote:\n",
    "            tag = True\n",
    "        elif c == '>' and not quote:\n",
    "            tag = False\n",
    "        elif (c == '\"' or c == \"'\") and tag:\n",
    "            quote = not quote\n",
    "        elif not tag:\n",
    "            out = out + c\n",
    "\n",
    "    return out"
   ]
  },
  {
   "cell_type": "markdown",
   "metadata": {
    "slideshow": {
     "slide_type": "subslide"
    }
   },
   "source": [
    "We can easily trigger this issue by measuring time taken:"
   ]
  },
  {
   "cell_type": "code",
   "execution_count": 46,
   "metadata": {
    "execution": {
     "iopub.execute_input": "2025-01-13T15:01:38.743109Z",
     "iopub.status.busy": "2025-01-13T15:01:38.743009Z",
     "iopub.status.idle": "2025-01-13T15:01:39.065519Z",
     "shell.execute_reply": "2025-01-13T15:01:39.064570Z"
    },
    "slideshow": {
     "slide_type": "fragment"
    }
   },
   "outputs": [
    {
     "data": {
      "text/plain": [
       "0.31546858401270583"
      ]
     },
     "execution_count": 46,
     "metadata": {},
     "output_type": "execute_result"
    }
   ],
   "source": [
    "with Timer.Timer() as t:\n",
    "    remove_html_markup_ampersand('&&&')\n",
    "t.elapsed_time()"
   ]
  },
  {
   "cell_type": "markdown",
   "metadata": {
    "slideshow": {
     "slide_type": "fragment"
    }
   },
   "source": [
    "Let us set up a test that checks whether the performance issue is present."
   ]
  },
  {
   "cell_type": "code",
   "execution_count": 47,
   "metadata": {
    "execution": {
     "iopub.execute_input": "2025-01-13T15:01:39.071641Z",
     "iopub.status.busy": "2025-01-13T15:01:39.071472Z",
     "iopub.status.idle": "2025-01-13T15:01:39.073567Z",
     "shell.execute_reply": "2025-01-13T15:01:39.073298Z"
    },
    "slideshow": {
     "slide_type": "fragment"
    }
   },
   "outputs": [],
   "source": [
    "def remove_html_test(s: str) -> None:\n",
    "    with Timer.Timer() as t:\n",
    "        remove_html_markup_ampersand(s)\n",
    "    assert t.elapsed_time() < 0.1"
   ]
  },
  {
   "cell_type": "markdown",
   "metadata": {
    "slideshow": {
     "slide_type": "fragment"
    }
   },
   "source": [
    "We can now apply delta debugging to determine a minimum input that causes the failure:"
   ]
  },
  {
   "cell_type": "code",
   "execution_count": 48,
   "metadata": {
    "execution": {
     "iopub.execute_input": "2025-01-13T15:01:39.075389Z",
     "iopub.status.busy": "2025-01-13T15:01:39.075157Z",
     "iopub.status.idle": "2025-01-13T15:01:39.076950Z",
     "shell.execute_reply": "2025-01-13T15:01:39.076692Z"
    },
    "slideshow": {
     "slide_type": "fragment"
    }
   },
   "outputs": [],
   "source": [
    "s_fail = '<b>foo&amp;</b>'"
   ]
  },
  {
   "cell_type": "code",
   "execution_count": 49,
   "metadata": {
    "execution": {
     "iopub.execute_input": "2025-01-13T15:01:39.078296Z",
     "iopub.status.busy": "2025-01-13T15:01:39.078193Z",
     "iopub.status.idle": "2025-01-13T15:01:39.187552Z",
     "shell.execute_reply": "2025-01-13T15:01:39.186784Z"
    },
    "slideshow": {
     "slide_type": "subslide"
    }
   },
   "outputs": [],
   "source": [
    "with DeltaDebugger.DeltaDebugger() as dd:\n",
    "    remove_html_test(s_fail)"
   ]
  },
  {
   "cell_type": "code",
   "execution_count": 50,
   "metadata": {
    "execution": {
     "iopub.execute_input": "2025-01-13T15:01:39.192797Z",
     "iopub.status.busy": "2025-01-13T15:01:39.192444Z",
     "iopub.status.idle": "2025-01-13T15:01:39.724322Z",
     "shell.execute_reply": "2025-01-13T15:01:39.723219Z"
    },
    "slideshow": {
     "slide_type": "fragment"
    }
   },
   "outputs": [
    {
     "data": {
      "text/plain": [
       "{'s': '&'}"
      ]
     },
     "execution_count": 50,
     "metadata": {},
     "output_type": "execute_result"
    }
   ],
   "source": [
    "dd.min_args()"
   ]
  },
  {
   "cell_type": "markdown",
   "metadata": {
    "slideshow": {
     "slide_type": "fragment"
    }
   },
   "source": [
    "For performance issues, however, a minimal input is often not enough to highlight the failure cause. This is because short inputs tend to take less processing time than longer inputs, which increases the risks of a spurious diagnosis. A better alternative is to compute a _maximum_ input where the issue does not occur:"
   ]
  },
  {
   "cell_type": "code",
   "execution_count": 51,
   "metadata": {
    "execution": {
     "iopub.execute_input": "2025-01-13T15:01:39.727854Z",
     "iopub.status.busy": "2025-01-13T15:01:39.727531Z",
     "iopub.status.idle": "2025-01-13T15:01:39.944276Z",
     "shell.execute_reply": "2025-01-13T15:01:39.943058Z"
    },
    "slideshow": {
     "slide_type": "fragment"
    }
   },
   "outputs": [],
   "source": [
    "s_pass = dd.max_args()"
   ]
  },
  {
   "cell_type": "code",
   "execution_count": 52,
   "metadata": {
    "execution": {
     "iopub.execute_input": "2025-01-13T15:01:39.949272Z",
     "iopub.status.busy": "2025-01-13T15:01:39.948785Z",
     "iopub.status.idle": "2025-01-13T15:01:39.954483Z",
     "shell.execute_reply": "2025-01-13T15:01:39.953787Z"
    },
    "slideshow": {
     "slide_type": "fragment"
    }
   },
   "outputs": [
    {
     "data": {
      "text/plain": [
       "{'s': '<b>fooamp;</b>'}"
      ]
     },
     "execution_count": 52,
     "metadata": {},
     "output_type": "execute_result"
    }
   ],
   "source": [
    "s_pass"
   ]
  },
  {
   "cell_type": "markdown",
   "metadata": {
    "slideshow": {
     "slide_type": "fragment"
    }
   },
   "source": [
    "We see that the culprit character (the `&`) is removed. This tells us the failure-inducing difference – or, more precisely, the cause for the performance issue."
   ]
  },
  {
   "cell_type": "markdown",
   "metadata": {
    "slideshow": {
     "slide_type": "slide"
    }
   },
   "source": [
    "## Synopsis"
   ]
  },
  {
   "cell_type": "markdown",
   "metadata": {
    "slideshow": {
     "slide_type": "fragment"
    }
   },
   "source": [
    "This chapter provides a class `PerformanceDebugger` that allows measuring and visualizing the time taken per line in a function."
   ]
  },
  {
   "cell_type": "code",
   "execution_count": 53,
   "metadata": {
    "execution": {
     "iopub.execute_input": "2025-01-13T15:01:39.957682Z",
     "iopub.status.busy": "2025-01-13T15:01:39.957432Z",
     "iopub.status.idle": "2025-01-13T15:01:39.990362Z",
     "shell.execute_reply": "2025-01-13T15:01:39.989948Z"
    },
    "slideshow": {
     "slide_type": "fragment"
    }
   },
   "outputs": [],
   "source": [
    "with PerformanceDebugger(TimeCollector) as debugger:\n",
    "    for i in range(100):\n",
    "        s = remove_html_markup('<b>foo</b>')"
   ]
  },
  {
   "cell_type": "markdown",
   "metadata": {
    "slideshow": {
     "slide_type": "fragment"
    }
   },
   "source": [
    "The distribution of executed time within each function can be obtained by printing out the debugger:"
   ]
  },
  {
   "cell_type": "code",
   "execution_count": 54,
   "metadata": {
    "execution": {
     "iopub.execute_input": "2025-01-13T15:01:39.992107Z",
     "iopub.status.busy": "2025-01-13T15:01:39.991958Z",
     "iopub.status.idle": "2025-01-13T15:01:39.994421Z",
     "shell.execute_reply": "2025-01-13T15:01:39.994120Z"
    },
    "slideshow": {
     "slide_type": "subslide"
    }
   },
   "outputs": [
    {
     "name": "stdout",
     "output_type": "stream",
     "text": [
      " 238   3% def remove_html_markup(s):  # type: ignore\n",
      " 239   2%     tag = False\n",
      " 240   2%     quote = False\n",
      " 241   2%     out = \"\"\n",
      " 242   0%\n",
      " 243  17%     for c in s:\n",
      " 244  14%         assert tag or not quote\n",
      " 245   0%\n",
      " 246  14%         if c == '<' and not quote:\n",
      " 247   2%             tag = True\n",
      " 248  11%         elif c == '>' and not quote:\n",
      " 249   2%             tag = False\n",
      " 250   8%         elif (c == '\"' or c == \"'\") and tag:\n",
      " 251   0%             quote = not quote\n",
      " 252   8%         elif not tag:\n",
      " 253   4%             out = out + c\n",
      " 254   0%\n",
      " 255   2%     return out\n",
      "\n"
     ]
    }
   ],
   "source": [
    "print(debugger)"
   ]
  },
  {
   "cell_type": "markdown",
   "metadata": {
    "slideshow": {
     "slide_type": "subslide"
    }
   },
   "source": [
    "The sum of all percentages in a function should always be 100%."
   ]
  },
  {
   "cell_type": "markdown",
   "metadata": {
    "slideshow": {
     "slide_type": "fragment"
    }
   },
   "source": [
    "These percentages can also be visualized, where darker shades represent higher percentage values:"
   ]
  },
  {
   "cell_type": "code",
   "execution_count": 55,
   "metadata": {
    "execution": {
     "iopub.execute_input": "2025-01-13T15:01:39.996069Z",
     "iopub.status.busy": "2025-01-13T15:01:39.995932Z",
     "iopub.status.idle": "2025-01-13T15:01:39.999309Z",
     "shell.execute_reply": "2025-01-13T15:01:39.998971Z"
    },
    "slideshow": {
     "slide_type": "subslide"
    }
   },
   "outputs": [
    {
     "data": {
      "text/html": [
       "<pre style=\"background-color:hsl(240, 100%, 95.53698811623286%)\"\n",
       "                    title=\"Line 238:   3% 0.000560171902179718\"> 238 def remove_html_markup(s):  # type: ignore</pre>\n",
       "<pre style=\"background-color:hsl(240, 100%, 95.73790452955119%)\"\n",
       "                    title=\"Line 239:   2% 0.0005349540151655674\"> 239     tag = False</pre>\n",
       "<pre style=\"background-color:hsl(240, 100%, 96.08445543044732%)\"\n",
       "                    title=\"Line 240:   2% 0.0004914569144602865\"> 240     quote = False</pre>\n",
       "<pre style=\"background-color:hsl(240, 100%, 96.58304965553344%)\"\n",
       "                    title=\"Line 241:   2% 0.00042887619929388165\"> 241     out = &quot;&quot;</pre>\n",
       "<pre style=\"background-color:hsl(240, 100%, 100.0%)\"\n",
       "                    title=\"Line 242:   0% 0.0\"> 242 &nbsp;</pre>\n",
       "<pre style=\"background-color:hsl(240, 100%, 75.0%)\"\n",
       "                    title=\"Line 243:  17% 0.003137858002446592\"> 243     for c in s:</pre>\n",
       "<pre style=\"background-color:hsl(240, 100%, 78.26321455316736%)\"\n",
       "                    title=\"Line 244:  14% 0.002728277846472338\"> 244         assert tag or not quote</pre>\n",
       "<pre style=\"background-color:hsl(240, 100%, 100.0%)\"\n",
       "                    title=\"Line 245:   0% 0.0\"> 245 &nbsp;</pre>\n",
       "<pre style=\"background-color:hsl(240, 100%, 78.48726088655874%)\"\n",
       "                    title=\"Line 246:  14% 0.0027001568232662976\"> 246         if c == &#x27;&lt;&#x27; and not quote:</pre>\n",
       "<pre style=\"background-color:hsl(240, 100%, 95.63994896674872%)\"\n",
       "                    title=\"Line 247:   2% 0.0005472488410305232\"> 247             tag = True</pre>\n",
       "<pre style=\"background-color:hsl(240, 100%, 82.91963468680618%)\"\n",
       "                    title=\"Line 248:  11% 0.0021438304393086582\"> 248         elif c == &#x27;&gt;&#x27; and not quote:</pre>\n",
       "<pre style=\"background-color:hsl(240, 100%, 95.67679670490404%)\"\n",
       "                    title=\"Line 249:   2% 0.0005426239222288132\"> 249             tag = False</pre>\n",
       "<pre style=\"background-color:hsl(240, 100%, 87.14663123221622%)\"\n",
       "                    title=\"Line 250:   8% 0.0016132818418554962\"> 250         elif (c == &#x27;&quot;&#x27; or c == &quot;&#x27;&quot;) and tag:</pre>\n",
       "<pre style=\"background-color:hsl(240, 100%, 100.0%)\"\n",
       "                    title=\"Line 251:   0% 0.0\"> 251             quote = not quote</pre>\n",
       "<pre style=\"background-color:hsl(240, 100%, 86.9880960596008%)\"\n",
       "                    title=\"Line 252:   8% 0.0016331802762579173\"> 252         elif not tag:</pre>\n",
       "<pre style=\"background-color:hsl(240, 100%, 93.61249580071525%)\"\n",
       "                    title=\"Line 253:   4% 0.0008017232466954738\"> 253             out = out + c</pre>\n",
       "<pre style=\"background-color:hsl(240, 100%, 100.0%)\"\n",
       "                    title=\"Line 254:   0% 0.0\"> 254 &nbsp;</pre>\n",
       "<pre style=\"background-color:hsl(240, 100%, 95.70261245132679%)\"\n",
       "                    title=\"Line 255:   2% 0.0005393836763687432\"> 255     return out</pre>\n"
      ],
      "text/markdown": [
       "| `remove_html_markup` | `s='<b>foo</b>'` | \n",
       "| ---------------------- | ---- | \n",
       "| <samp style=\"background-color: hsl(240, 100%, 95.53698811623286%)\" title=\"  3% 0.000560171902179718\">remove_html_markup:238</samp> |    X | \n",
       "| <samp style=\"background-color: hsl(240, 100%, 95.73790452955119%)\" title=\"  2% 0.0005349540151655674\">remove_html_markup:239</samp> |    X | \n",
       "| <samp style=\"background-color: hsl(240, 100%, 96.08445543044732%)\" title=\"  2% 0.0004914569144602865\">remove_html_markup:240</samp> |    X | \n",
       "| <samp style=\"background-color: hsl(240, 100%, 96.58304965553344%)\" title=\"  2% 0.00042887619929388165\">remove_html_markup:241</samp> |    X | \n",
       "| <samp style=\"background-color: hsl(240, 100%, 75.0%)\" title=\" 17% 0.003137858002446592\">remove_html_markup:243</samp> |    X | \n",
       "| <samp style=\"background-color: hsl(240, 100%, 78.26321455316736%)\" title=\" 14% 0.002728277846472338\">remove_html_markup:244</samp> |    X | \n",
       "| <samp style=\"background-color: hsl(240, 100%, 78.48726088655874%)\" title=\" 14% 0.0027001568232662976\">remove_html_markup:246</samp> |    X | \n",
       "| <samp style=\"background-color: hsl(240, 100%, 95.63994896674872%)\" title=\"  2% 0.0005472488410305232\">remove_html_markup:247</samp> |    X | \n",
       "| <samp style=\"background-color: hsl(240, 100%, 82.91963468680618%)\" title=\" 11% 0.0021438304393086582\">remove_html_markup:248</samp> |    X | \n",
       "| <samp style=\"background-color: hsl(240, 100%, 95.67679670490404%)\" title=\"  2% 0.0005426239222288132\">remove_html_markup:249</samp> |    X | \n",
       "| <samp style=\"background-color: hsl(240, 100%, 87.14663123221622%)\" title=\"  8% 0.0016132818418554962\">remove_html_markup:250</samp> |    X | \n",
       "| <samp style=\"background-color: hsl(240, 100%, 86.9880960596008%)\" title=\"  8% 0.0016331802762579173\">remove_html_markup:252</samp> |    X | \n",
       "| <samp style=\"background-color: hsl(240, 100%, 93.61249580071525%)\" title=\"  4% 0.0008017232466954738\">remove_html_markup:253</samp> |    X | \n",
       "| <samp style=\"background-color: hsl(240, 100%, 95.70261245132679%)\" title=\"  2% 0.0005393836763687432\">remove_html_markup:255</samp> |    X | \n"
      ],
      "text/plain": [
       " 238   3% def remove_html_markup(s):  # type: ignore\n",
       " 239   2%     tag = False\n",
       " 240   2%     quote = False\n",
       " 241   2%     out = \"\"\n",
       " 242   0%\n",
       " 243  17%     for c in s:\n",
       " 244  14%         assert tag or not quote\n",
       " 245   0%\n",
       " 246  14%         if c == '<' and not quote:\n",
       " 247   2%             tag = True\n",
       " 248  11%         elif c == '>' and not quote:\n",
       " 249   2%             tag = False\n",
       " 250   8%         elif (c == '\"' or c == \"'\") and tag:\n",
       " 251   0%             quote = not quote\n",
       " 252   8%         elif not tag:\n",
       " 253   4%             out = out + c\n",
       " 254   0%\n",
       " 255   2%     return out"
      ]
     },
     "execution_count": 55,
     "metadata": {},
     "output_type": "execute_result"
    }
   ],
   "source": [
    "debugger"
   ]
  },
  {
   "cell_type": "markdown",
   "metadata": {
    "slideshow": {
     "slide_type": "subslide"
    }
   },
   "source": [
    "The abstract `MetricCollector` class allows subclassing to build more collectors, such as `HitCollector`."
   ]
  },
  {
   "cell_type": "code",
   "execution_count": 56,
   "metadata": {
    "execution": {
     "iopub.execute_input": "2025-01-13T15:01:40.000891Z",
     "iopub.status.busy": "2025-01-13T15:01:40.000784Z",
     "iopub.status.idle": "2025-01-13T15:01:40.002619Z",
     "shell.execute_reply": "2025-01-13T15:01:40.002342Z"
    },
    "slideshow": {
     "slide_type": "fragment"
    }
   },
   "outputs": [],
   "source": [
    "# ignore\n",
    "from ClassDiagram import display_class_hierarchy"
   ]
  },
  {
   "cell_type": "code",
   "execution_count": 57,
   "metadata": {
    "execution": {
     "iopub.execute_input": "2025-01-13T15:01:40.004088Z",
     "iopub.status.busy": "2025-01-13T15:01:40.003986Z",
     "iopub.status.idle": "2025-01-13T15:01:41.059392Z",
     "shell.execute_reply": "2025-01-13T15:01:41.059050Z"
    },
    "slideshow": {
     "slide_type": "fragment"
    }
   },
   "outputs": [
    {
     "data": {
      "image/svg+xml": [
       "<?xml version=\"1.0\" encoding=\"UTF-8\" standalone=\"no\"?>\n",
       "<!DOCTYPE svg PUBLIC \"-//W3C//DTD SVG 1.1//EN\"\n",
       " \"http://www.w3.org/Graphics/SVG/1.1/DTD/svg11.dtd\">\n",
       "<!-- Generated by graphviz version 12.2.1 (20241206.2353)\n",
       " -->\n",
       "<!-- Pages: 1 -->\n",
       "<svg width=\"552pt\" height=\"590pt\"\n",
       " viewBox=\"0.00 0.00 552.38 590.25\" xmlns=\"http://www.w3.org/2000/svg\" xmlns:xlink=\"http://www.w3.org/1999/xlink\">\n",
       "<g id=\"graph0\" class=\"graph\" transform=\"scale(1 1) rotate(0) translate(4 586.25)\">\n",
       "<g id=\"a_graph0\"><a xlink:title=\"PerformanceDebugger class hierarchy\">\n",
       "<polygon fill=\"white\" stroke=\"none\" points=\"-4,4 -4,-586.25 548.38,-586.25 548.38,4 -4,4\"/>\n",
       "</a>\n",
       "</g>\n",
       "<!-- PerformanceDebugger -->\n",
       "<g id=\"node1\" class=\"node\">\n",
       "<title>PerformanceDebugger</title>\n",
       "<g id=\"a_node1\"><a xlink:href=\"#\" xlink:title=\"class PerformanceDebugger:&#10;Collect and visualize a metric\">\n",
       "<polygon fill=\"none\" stroke=\"black\" points=\"0,-32.38 0,-78.38 161.5,-78.38 161.5,-32.38 0,-32.38\"/>\n",
       "<text text-anchor=\"start\" x=\"8\" y=\"-62.08\" font-family=\"Raleway, Helvetica, Arial, sans-serif\" font-weight=\"bold\" font-size=\"14.00\" fill=\"#6a0dad\">PerformanceDebugger</text>\n",
       "<polyline fill=\"none\" stroke=\"black\" points=\"0,-53.12 161.5,-53.12\"/>\n",
       "<g id=\"a_node1_0\"><a xlink:href=\"#\" xlink:title=\"PerformanceDebugger\">\n",
       "<g id=\"a_node1_1\"><a xlink:href=\"#\" xlink:title=\"__init__(self, collector_class: Type, log: bool = False):&#10;Constructor. Use instances of `collector_class` to collect events.\">\n",
       "<text text-anchor=\"start\" x=\"50.75\" y=\"-40.62\" font-family=\"'Fira Mono', 'Source Code Pro', 'Courier', monospace\" font-weight=\"bold\" font-style=\"italic\" font-size=\"10.00\">__init__()</text>\n",
       "</a>\n",
       "</g>\n",
       "</a>\n",
       "</g>\n",
       "</a>\n",
       "</g>\n",
       "</g>\n",
       "<!-- MetricDebugger -->\n",
       "<g id=\"node2\" class=\"node\">\n",
       "<title>MetricDebugger</title>\n",
       "<g id=\"a_node2\"><a xlink:href=\"#\" xlink:title=\"class MetricDebugger:&#10;Visualize a metric\">\n",
       "<polygon fill=\"none\" stroke=\"black\" points=\"21,-147.25 21,-257 140.5,-257 140.5,-147.25 21,-147.25\"/>\n",
       "<text text-anchor=\"start\" x=\"29\" y=\"-240.7\" font-family=\"Raleway, Helvetica, Arial, sans-serif\" font-weight=\"bold\" font-size=\"14.00\" fill=\"#6a0dad\">MetricDebugger</text>\n",
       "<polyline fill=\"none\" stroke=\"black\" points=\"21,-231.75 140.5,-231.75\"/>\n",
       "<g id=\"a_node2_2\"><a xlink:href=\"#\" xlink:title=\"MetricDebugger\">\n",
       "<g id=\"a_node2_3\"><a xlink:href=\"#\" xlink:title=\"color(self, location: Tuple[str, int]) &#45;&gt; str:&#10;Return a color for the given event, or None.&#10;To be overloaded in subclasses.\">\n",
       "<text text-anchor=\"start\" x=\"32.75\" y=\"-219.25\" font-family=\"'Fira Mono', 'Source Code Pro', 'Courier', monospace\" font-style=\"italic\" font-size=\"10.00\">color()</text>\n",
       "</a>\n",
       "</g>\n",
       "<g id=\"a_node2_4\"><a xlink:href=\"#\" xlink:title=\"maximum(self, func_name: str) &#45;&gt; float\">\n",
       "<text text-anchor=\"start\" x=\"32.75\" y=\"-205.5\" font-family=\"'Fira Mono', 'Source Code Pro', 'Courier', monospace\" font-size=\"10.00\">maximum()</text>\n",
       "</a>\n",
       "</g>\n",
       "<g id=\"a_node2_5\"><a xlink:href=\"#\" xlink:title=\"metric(self, location: Tuple[str, int]) &#45;&gt; float\">\n",
       "<text text-anchor=\"start\" x=\"32.75\" y=\"-192.75\" font-family=\"'Fira Mono', 'Source Code Pro', 'Courier', monospace\" font-size=\"10.00\">metric()</text>\n",
       "</a>\n",
       "</g>\n",
       "<g id=\"a_node2_6\"><a xlink:href=\"#\" xlink:title=\"suspiciousness(self, location: Tuple[str, int]) &#45;&gt; float:&#10;Return a suspiciousness value in the range [0, 1.0]&#10;for the given event, or `None` if unknown.&#10;To be overloaded in subclasses.\">\n",
       "<text text-anchor=\"start\" x=\"32.75\" y=\"-181\" font-family=\"'Fira Mono', 'Source Code Pro', 'Courier', monospace\" font-style=\"italic\" font-size=\"10.00\">suspiciousness()</text>\n",
       "</a>\n",
       "</g>\n",
       "<g id=\"a_node2_7\"><a xlink:href=\"#\" xlink:title=\"tooltip(self, location: Tuple[str, int]) &#45;&gt; str:&#10;Return a tooltip for the given event (default: percentage).&#10;To be overloaded in subclasses.\">\n",
       "<text text-anchor=\"start\" x=\"32.75\" y=\"-168.25\" font-family=\"'Fira Mono', 'Source Code Pro', 'Courier', monospace\" font-style=\"italic\" font-size=\"10.00\">tooltip()</text>\n",
       "</a>\n",
       "</g>\n",
       "<g id=\"a_node2_8\"><a xlink:href=\"#\" xlink:title=\"total(self, func_name: str) &#45;&gt; float\">\n",
       "<text text-anchor=\"start\" x=\"32.75\" y=\"-154.5\" font-family=\"'Fira Mono', 'Source Code Pro', 'Courier', monospace\" font-size=\"10.00\">total()</text>\n",
       "</a>\n",
       "</g>\n",
       "</a>\n",
       "</g>\n",
       "</a>\n",
       "</g>\n",
       "</g>\n",
       "<!-- PerformanceDebugger&#45;&gt;MetricDebugger -->\n",
       "<g id=\"edge1\" class=\"edge\">\n",
       "<title>PerformanceDebugger&#45;&gt;MetricDebugger</title>\n",
       "<path fill=\"none\" stroke=\"black\" d=\"M80.75,-78.67C80.75,-94 80.75,-115.19 80.75,-135.65\"/>\n",
       "<polygon fill=\"none\" stroke=\"black\" points=\"77.25,-135.38 80.75,-145.38 84.25,-135.38 77.25,-135.38\"/>\n",
       "</g>\n",
       "<!-- SpectrumDebugger -->\n",
       "<g id=\"node3\" class=\"node\">\n",
       "<title>SpectrumDebugger</title>\n",
       "<g id=\"a_node3\"><a xlink:href=\"StatisticalDebugger.ipynb\" xlink:title=\"class SpectrumDebugger:&#10;A class to collect events for passing and failing outcomes.\">\n",
       "<polygon fill=\"none\" stroke=\"black\" points=\"9.75,-294 9.75,-330 151.75,-330 151.75,-294 9.75,-294\"/>\n",
       "<text text-anchor=\"start\" x=\"17.75\" y=\"-308.7\" font-family=\"Raleway, Helvetica, Arial, sans-serif\" font-weight=\"bold\" font-size=\"14.00\" fill=\"#6a0dad\">SpectrumDebugger</text>\n",
       "</a>\n",
       "</g>\n",
       "</g>\n",
       "<!-- MetricDebugger&#45;&gt;SpectrumDebugger -->\n",
       "<g id=\"edge2\" class=\"edge\">\n",
       "<title>MetricDebugger&#45;&gt;SpectrumDebugger</title>\n",
       "<path fill=\"none\" stroke=\"black\" d=\"M80.75,-257.38C80.75,-266.06 80.75,-274.72 80.75,-282.48\"/>\n",
       "<polygon fill=\"none\" stroke=\"black\" points=\"77.25,-282.28 80.75,-292.28 84.25,-282.28 77.25,-282.28\"/>\n",
       "</g>\n",
       "<!-- DifferenceDebugger -->\n",
       "<g id=\"node4\" class=\"node\">\n",
       "<title>DifferenceDebugger</title>\n",
       "<g id=\"a_node4\"><a xlink:href=\"StatisticalDebugger.ipynb\" xlink:title=\"class DifferenceDebugger:&#10;A class to collect events for passing and failing outcomes.\">\n",
       "<polygon fill=\"none\" stroke=\"black\" points=\"8.25,-367 8.25,-425.75 153.25,-425.75 153.25,-367 8.25,-367\"/>\n",
       "<text text-anchor=\"start\" x=\"16.25\" y=\"-409.45\" font-family=\"Raleway, Helvetica, Arial, sans-serif\" font-weight=\"bold\" font-size=\"14.00\" fill=\"#6a0dad\">DifferenceDebugger</text>\n",
       "<polyline fill=\"none\" stroke=\"black\" points=\"8.25,-400.5 153.25,-400.5\"/>\n",
       "<g id=\"a_node4_9\"><a xlink:href=\"#\" xlink:title=\"DifferenceDebugger\">\n",
       "<g id=\"a_node4_10\"><a xlink:href=\"StatisticalDebugger.ipynb\" xlink:title=\"FAIL = &#39;FAIL&#39;\">\n",
       "<text text-anchor=\"start\" x=\"68.75\" y=\"-387\" font-family=\"'Fira Mono', 'Source Code Pro', 'Courier', monospace\" font-size=\"10.00\">FAIL</text>\n",
       "</a>\n",
       "</g>\n",
       "<g id=\"a_node4_11\"><a xlink:href=\"StatisticalDebugger.ipynb\" xlink:title=\"PASS = &#39;PASS&#39;\">\n",
       "<text text-anchor=\"start\" x=\"68.75\" y=\"-374.25\" font-family=\"'Fira Mono', 'Source Code Pro', 'Courier', monospace\" font-size=\"10.00\">PASS</text>\n",
       "</a>\n",
       "</g>\n",
       "</a>\n",
       "</g>\n",
       "</a>\n",
       "</g>\n",
       "</g>\n",
       "<!-- SpectrumDebugger&#45;&gt;DifferenceDebugger -->\n",
       "<g id=\"edge3\" class=\"edge\">\n",
       "<title>SpectrumDebugger&#45;&gt;DifferenceDebugger</title>\n",
       "<path fill=\"none\" stroke=\"black\" d=\"M80.75,-330.47C80.75,-337.76 80.75,-346.55 80.75,-355.28\"/>\n",
       "<polygon fill=\"none\" stroke=\"black\" points=\"77.25,-355.07 80.75,-365.07 84.25,-355.07 77.25,-355.07\"/>\n",
       "</g>\n",
       "<!-- StatisticalDebugger -->\n",
       "<g id=\"node5\" class=\"node\">\n",
       "<title>StatisticalDebugger</title>\n",
       "<g id=\"a_node5\"><a xlink:href=\"StatisticalDebugger.ipynb\" xlink:title=\"class StatisticalDebugger:&#10;A class to collect events for multiple outcomes.\">\n",
       "<polygon fill=\"none\" stroke=\"black\" points=\"10.88,-462.75 10.88,-498.75 150.62,-498.75 150.62,-462.75 10.88,-462.75\"/>\n",
       "<text text-anchor=\"start\" x=\"18.88\" y=\"-477.45\" font-family=\"Raleway, Helvetica, Arial, sans-serif\" font-weight=\"bold\" font-size=\"14.00\" fill=\"#6a0dad\">StatisticalDebugger</text>\n",
       "</a>\n",
       "</g>\n",
       "</g>\n",
       "<!-- DifferenceDebugger&#45;&gt;StatisticalDebugger -->\n",
       "<g id=\"edge4\" class=\"edge\">\n",
       "<title>DifferenceDebugger&#45;&gt;StatisticalDebugger</title>\n",
       "<path fill=\"none\" stroke=\"black\" d=\"M80.75,-426.19C80.75,-434.2 80.75,-442.9 80.75,-450.91\"/>\n",
       "<polygon fill=\"none\" stroke=\"black\" points=\"77.25,-450.85 80.75,-460.85 84.25,-450.85 77.25,-450.85\"/>\n",
       "</g>\n",
       "<!-- TimeCollector -->\n",
       "<g id=\"node6\" class=\"node\">\n",
       "<title>TimeCollector</title>\n",
       "<g id=\"a_node6\"><a xlink:href=\"#\" xlink:title=\"class TimeCollector:&#10;Collect time executed for each line\">\n",
       "<polygon fill=\"none\" stroke=\"black\" points=\"190.5,-0.5 190.5,-110.25 295,-110.25 295,-0.5 190.5,-0.5\"/>\n",
       "<text text-anchor=\"start\" x=\"198.5\" y=\"-93.95\" font-family=\"Raleway, Helvetica, Arial, sans-serif\" font-weight=\"bold\" font-size=\"14.00\" fill=\"#6a0dad\">TimeCollector</text>\n",
       "<polyline fill=\"none\" stroke=\"black\" points=\"190.5,-85 295,-85\"/>\n",
       "<g id=\"a_node6_12\"><a xlink:href=\"#\" xlink:title=\"TimeCollector\">\n",
       "<g id=\"a_node6_13\"><a xlink:href=\"#\" xlink:title=\"__enter__(self) &#45;&gt; Any:&#10;Called at begin of `with` block. Turn tracing on.\">\n",
       "<text text-anchor=\"start\" x=\"203.75\" y=\"-72.5\" font-family=\"'Fira Mono', 'Source Code Pro', 'Courier', monospace\" font-style=\"italic\" font-size=\"10.00\">__enter__()</text>\n",
       "</a>\n",
       "</g>\n",
       "<g id=\"a_node6_14\"><a xlink:href=\"#\" xlink:title=\"__init__(self) &#45;&gt; None:&#10;Constructor\">\n",
       "<text text-anchor=\"start\" x=\"203.75\" y=\"-59.75\" font-family=\"'Fira Mono', 'Source Code Pro', 'Courier', monospace\" font-style=\"italic\" font-size=\"10.00\">__init__()</text>\n",
       "</a>\n",
       "</g>\n",
       "<g id=\"a_node6_15\"><a xlink:href=\"#\" xlink:title=\"all_metrics(self, func: str) &#45;&gt; List[float]:&#10;Return all metric for a function `func`.\">\n",
       "<text text-anchor=\"start\" x=\"203.75\" y=\"-47\" font-family=\"'Fira Mono', 'Source Code Pro', 'Courier', monospace\" font-style=\"italic\" font-size=\"10.00\">all_metrics()</text>\n",
       "</a>\n",
       "</g>\n",
       "<g id=\"a_node6_16\"><a xlink:href=\"#\" xlink:title=\"collect(self, frame: frame, event: str, arg: Any) &#45;&gt; None:&#10;Invoked for every line executed. Accumulate time spent.\">\n",
       "<text text-anchor=\"start\" x=\"203.75\" y=\"-34.25\" font-family=\"'Fira Mono', 'Source Code Pro', 'Courier', monospace\" font-style=\"italic\" font-size=\"10.00\">collect()</text>\n",
       "</a>\n",
       "</g>\n",
       "<g id=\"a_node6_17\"><a xlink:href=\"#\" xlink:title=\"metric(self, location: Any) &#45;&gt; Optional[float]:&#10;Return a metric for an event, or none.\">\n",
       "<text text-anchor=\"start\" x=\"203.75\" y=\"-21.5\" font-family=\"'Fira Mono', 'Source Code Pro', 'Courier', monospace\" font-style=\"italic\" font-size=\"10.00\">metric()</text>\n",
       "</a>\n",
       "</g>\n",
       "<g id=\"a_node6_18\"><a xlink:href=\"#\" xlink:title=\"reset_timer(self) &#45;&gt; None\">\n",
       "<text text-anchor=\"start\" x=\"203.75\" y=\"-7.75\" font-family=\"'Fira Mono', 'Source Code Pro', 'Courier', monospace\" font-size=\"10.00\">reset_timer()</text>\n",
       "</a>\n",
       "</g>\n",
       "</a>\n",
       "</g>\n",
       "</a>\n",
       "</g>\n",
       "</g>\n",
       "<!-- MetricCollector -->\n",
       "<g id=\"node7\" class=\"node\">\n",
       "<title>MetricCollector</title>\n",
       "<g id=\"a_node7\"><a xlink:href=\"#\" xlink:title=\"class MetricCollector:&#10;Abstract superclass for collecting line&#45;specific metrics\">\n",
       "<polygon fill=\"none\" stroke=\"black\" points=\"197.75,-160 197.75,-244.25 309.75,-244.25 309.75,-160 197.75,-160\"/>\n",
       "<text text-anchor=\"start\" x=\"205.75\" y=\"-227.95\" font-family=\"Raleway, Helvetica, Arial, sans-serif\" font-weight=\"bold\" font-size=\"14.00\" fill=\"#6a0dad\">MetricCollector</text>\n",
       "<polyline fill=\"none\" stroke=\"black\" points=\"197.75,-219 309.75,-219\"/>\n",
       "<g id=\"a_node7_19\"><a xlink:href=\"#\" xlink:title=\"MetricCollector\">\n",
       "<g id=\"a_node7_20\"><a xlink:href=\"#\" xlink:title=\"all_metrics(self, func: str) &#45;&gt; List[float]:&#10;Return all metric for a function `func`.\">\n",
       "<text text-anchor=\"start\" x=\"214.75\" y=\"-206.5\" font-family=\"'Fira Mono', 'Source Code Pro', 'Courier', monospace\" font-style=\"italic\" font-size=\"10.00\">all_metrics()</text>\n",
       "</a>\n",
       "</g>\n",
       "<g id=\"a_node7_21\"><a xlink:href=\"#\" xlink:title=\"maximum(self, func: str) &#45;&gt; float\">\n",
       "<text text-anchor=\"start\" x=\"214.75\" y=\"-192.75\" font-family=\"'Fira Mono', 'Source Code Pro', 'Courier', monospace\" font-size=\"10.00\">maximum()</text>\n",
       "</a>\n",
       "</g>\n",
       "<g id=\"a_node7_22\"><a xlink:href=\"#\" xlink:title=\"metric(self, event: Any) &#45;&gt; Optional[float]:&#10;Return a metric for an event, or none.\">\n",
       "<text text-anchor=\"start\" x=\"214.75\" y=\"-181\" font-family=\"'Fira Mono', 'Source Code Pro', 'Courier', monospace\" font-style=\"italic\" font-size=\"10.00\">metric()</text>\n",
       "</a>\n",
       "</g>\n",
       "<g id=\"a_node7_23\"><a xlink:href=\"#\" xlink:title=\"total(self, func: str) &#45;&gt; float\">\n",
       "<text text-anchor=\"start\" x=\"214.75\" y=\"-167.25\" font-family=\"'Fira Mono', 'Source Code Pro', 'Courier', monospace\" font-size=\"10.00\">total()</text>\n",
       "</a>\n",
       "</g>\n",
       "</a>\n",
       "</g>\n",
       "</a>\n",
       "</g>\n",
       "</g>\n",
       "<!-- TimeCollector&#45;&gt;MetricCollector -->\n",
       "<g id=\"edge5\" class=\"edge\">\n",
       "<title>TimeCollector&#45;&gt;MetricCollector</title>\n",
       "<path fill=\"none\" stroke=\"black\" d=\"M246.88,-110.69C247.81,-122.97 248.8,-135.99 249.73,-148.21\"/>\n",
       "<polygon fill=\"none\" stroke=\"black\" points=\"246.23,-148.42 250.48,-158.12 253.21,-147.89 246.23,-148.42\"/>\n",
       "</g>\n",
       "<!-- CoverageCollector -->\n",
       "<g id=\"node8\" class=\"node\">\n",
       "<title>CoverageCollector</title>\n",
       "<g id=\"a_node8\"><a xlink:href=\"StatisticalDebugger.ipynb\" xlink:title=\"class CoverageCollector:&#10;A class to record covered locations during execution.\">\n",
       "<polygon fill=\"none\" stroke=\"black\" points=\"186.88,-294 186.88,-330 320.62,-330 320.62,-294 186.88,-294\"/>\n",
       "<text text-anchor=\"start\" x=\"194.88\" y=\"-308.7\" font-family=\"Raleway, Helvetica, Arial, sans-serif\" font-weight=\"bold\" font-size=\"14.00\" fill=\"#6a0dad\">CoverageCollector</text>\n",
       "</a>\n",
       "</g>\n",
       "</g>\n",
       "<!-- MetricCollector&#45;&gt;CoverageCollector -->\n",
       "<g id=\"edge6\" class=\"edge\">\n",
       "<title>MetricCollector&#45;&gt;CoverageCollector</title>\n",
       "<path fill=\"none\" stroke=\"black\" d=\"M253.75,-244.52C253.75,-257.14 253.75,-270.72 253.75,-282.29\"/>\n",
       "<polygon fill=\"none\" stroke=\"black\" points=\"250.25,-282 253.75,-292 257.25,-282 250.25,-282\"/>\n",
       "</g>\n",
       "<!-- Collector -->\n",
       "<g id=\"node9\" class=\"node\">\n",
       "<title>Collector</title>\n",
       "<g id=\"a_node9\"><a xlink:href=\"StatisticalDebugger.ipynb\" xlink:title=\"class Collector:&#10;A class to record events during execution.\">\n",
       "<polygon fill=\"none\" stroke=\"black\" points=\"194.62,-378.38 194.62,-414.38 266.88,-414.38 266.88,-378.38 194.62,-378.38\"/>\n",
       "<text text-anchor=\"start\" x=\"202.62\" y=\"-393.07\" font-family=\"Raleway, Helvetica, Arial, sans-serif\" font-weight=\"bold\" font-size=\"14.00\" fill=\"#6a0dad\">Collector</text>\n",
       "</a>\n",
       "</g>\n",
       "</g>\n",
       "<!-- CoverageCollector&#45;&gt;Collector -->\n",
       "<g id=\"edge7\" class=\"edge\">\n",
       "<title>CoverageCollector&#45;&gt;Collector</title>\n",
       "<path fill=\"none\" stroke=\"black\" d=\"M248.87,-330.47C245.91,-341.06 242.07,-354.83 238.68,-366.96\"/>\n",
       "<polygon fill=\"none\" stroke=\"black\" points=\"235.35,-365.9 236.03,-376.47 242.09,-367.78 235.35,-365.9\"/>\n",
       "</g>\n",
       "<!-- StackInspector -->\n",
       "<g id=\"node11\" class=\"node\">\n",
       "<title>StackInspector</title>\n",
       "<g id=\"a_node11\"><a xlink:href=\"StackInspector.ipynb\" xlink:title=\"class StackInspector:&#10;Provide functions to inspect the stack\">\n",
       "<polygon fill=\"none\" stroke=\"black\" points=\"183.75,-535.75 183.75,-581.75 349.75,-581.75 349.75,-535.75 183.75,-535.75\"/>\n",
       "<text text-anchor=\"start\" x=\"220.25\" y=\"-565.45\" font-family=\"Raleway, Helvetica, Arial, sans-serif\" font-weight=\"bold\" font-size=\"14.00\" fill=\"#6a0dad\">StackInspector</text>\n",
       "<polyline fill=\"none\" stroke=\"black\" points=\"183.75,-556.5 349.75,-556.5\"/>\n",
       "<g id=\"a_node11_24\"><a xlink:href=\"#\" xlink:title=\"StackInspector\">\n",
       "<g id=\"a_node11_25\"><a xlink:href=\"StackInspector.ipynb\" xlink:title=\"_generated_function_cache = {(&#39;remove_html_markup&#39;, 238): &lt;function remove_html_markup at 0x11d95f9c0&gt;}\">\n",
       "<text text-anchor=\"start\" x=\"191.75\" y=\"-543\" font-family=\"'Fira Mono', 'Source Code Pro', 'Courier', monospace\" font-size=\"10.00\">_generated_function_cache</text>\n",
       "</a>\n",
       "</g>\n",
       "</a>\n",
       "</g>\n",
       "</a>\n",
       "</g>\n",
       "</g>\n",
       "<!-- CoverageCollector&#45;&gt;StackInspector -->\n",
       "<g id=\"edge10\" class=\"edge\">\n",
       "<title>CoverageCollector&#45;&gt;StackInspector</title>\n",
       "<path fill=\"none\" stroke=\"black\" d=\"M262.88,-330.29C267.76,-340.51 273.26,-353.89 275.75,-366.5 286.5,-420.91 279.41,-485.63 273.18,-524.11\"/>\n",
       "<polygon fill=\"none\" stroke=\"black\" points=\"269.74,-523.47 271.5,-533.91 276.64,-524.65 269.74,-523.47\"/>\n",
       "</g>\n",
       "<!-- Tracer -->\n",
       "<g id=\"node10\" class=\"node\">\n",
       "<title>Tracer</title>\n",
       "<g id=\"a_node10\"><a xlink:href=\"Tracer.ipynb\" xlink:title=\"class Tracer:&#10;A class for tracing a piece of code. Use as `with Tracer(): block()`\">\n",
       "<polygon fill=\"none\" stroke=\"black\" points=\"207.25,-462.75 207.25,-498.75 262.25,-498.75 262.25,-462.75 207.25,-462.75\"/>\n",
       "<text text-anchor=\"start\" x=\"215.25\" y=\"-477.45\" font-family=\"Raleway, Helvetica, Arial, sans-serif\" font-weight=\"bold\" font-size=\"14.00\" fill=\"#6a0dad\">Tracer</text>\n",
       "</a>\n",
       "</g>\n",
       "</g>\n",
       "<!-- Collector&#45;&gt;Tracer -->\n",
       "<g id=\"edge8\" class=\"edge\">\n",
       "<title>Collector&#45;&gt;Tracer</title>\n",
       "<path fill=\"none\" stroke=\"black\" d=\"M231.6,-414.84C232.11,-425.33 232.77,-438.92 233.35,-450.96\"/>\n",
       "<polygon fill=\"none\" stroke=\"black\" points=\"229.85,-450.98 233.83,-460.79 236.84,-450.64 229.85,-450.98\"/>\n",
       "</g>\n",
       "<!-- Tracer&#45;&gt;StackInspector -->\n",
       "<g id=\"edge9\" class=\"edge\">\n",
       "<title>Tracer&#45;&gt;StackInspector</title>\n",
       "<path fill=\"none\" stroke=\"black\" d=\"M242.01,-499C245.24,-506.65 249.14,-515.94 252.89,-524.84\"/>\n",
       "<polygon fill=\"none\" stroke=\"black\" points=\"249.64,-526.12 256.74,-533.98 256.09,-523.41 249.64,-526.12\"/>\n",
       "</g>\n",
       "<!-- HitCollector -->\n",
       "<g id=\"node12\" class=\"node\">\n",
       "<title>HitCollector</title>\n",
       "<g id=\"a_node12\"><a xlink:href=\"#\" xlink:title=\"class HitCollector:&#10;Collect how often a line is executed\">\n",
       "<polygon fill=\"none\" stroke=\"black\" points=\"312.75,-13.25 312.75,-97.5 406.75,-97.5 406.75,-13.25 312.75,-13.25\"/>\n",
       "<text text-anchor=\"start\" x=\"323\" y=\"-81.2\" font-family=\"Raleway, Helvetica, Arial, sans-serif\" font-weight=\"bold\" font-size=\"14.00\" fill=\"#6a0dad\">HitCollector</text>\n",
       "<polyline fill=\"none\" stroke=\"black\" points=\"312.75,-72.25 406.75,-72.25\"/>\n",
       "<g id=\"a_node12_26\"><a xlink:href=\"#\" xlink:title=\"HitCollector\">\n",
       "<g id=\"a_node12_27\"><a xlink:href=\"#\" xlink:title=\"__init__(self) &#45;&gt; None:&#10;Constructor.\">\n",
       "<text text-anchor=\"start\" x=\"320.75\" y=\"-59.75\" font-family=\"'Fira Mono', 'Source Code Pro', 'Courier', monospace\" font-style=\"italic\" font-size=\"10.00\">__init__()</text>\n",
       "</a>\n",
       "</g>\n",
       "<g id=\"a_node12_28\"><a xlink:href=\"#\" xlink:title=\"all_metrics(self, func: str) &#45;&gt; List[float]:&#10;Return all metric for a function `func`.\">\n",
       "<text text-anchor=\"start\" x=\"320.75\" y=\"-47\" font-family=\"'Fira Mono', 'Source Code Pro', 'Courier', monospace\" font-style=\"italic\" font-size=\"10.00\">all_metrics()</text>\n",
       "</a>\n",
       "</g>\n",
       "<g id=\"a_node12_29\"><a xlink:href=\"#\" xlink:title=\"collect(self, frame: frame, event: str, arg: Any) &#45;&gt; None:&#10;Save coverage for an observed event.\">\n",
       "<text text-anchor=\"start\" x=\"320.75\" y=\"-34.25\" font-family=\"'Fira Mono', 'Source Code Pro', 'Courier', monospace\" font-style=\"italic\" font-size=\"10.00\">collect()</text>\n",
       "</a>\n",
       "</g>\n",
       "<g id=\"a_node12_30\"><a xlink:href=\"#\" xlink:title=\"metric(self, location: Tuple[str, int]) &#45;&gt; Optional[int]:&#10;Return a metric for an event, or none.\">\n",
       "<text text-anchor=\"start\" x=\"320.75\" y=\"-21.5\" font-family=\"'Fira Mono', 'Source Code Pro', 'Courier', monospace\" font-style=\"italic\" font-size=\"10.00\">metric()</text>\n",
       "</a>\n",
       "</g>\n",
       "</a>\n",
       "</g>\n",
       "</a>\n",
       "</g>\n",
       "</g>\n",
       "<!-- HitCollector&#45;&gt;MetricCollector -->\n",
       "<g id=\"edge11\" class=\"edge\">\n",
       "<title>HitCollector&#45;&gt;MetricCollector</title>\n",
       "<path fill=\"none\" stroke=\"black\" d=\"M329.37,-97.85C317.29,-114.36 303.27,-133.5 290.61,-150.79\"/>\n",
       "<polygon fill=\"none\" stroke=\"black\" points=\"288.11,-148.28 285.02,-158.42 293.76,-152.42 288.11,-148.28\"/>\n",
       "</g>\n",
       "<!-- Legend -->\n",
       "<g id=\"node13\" class=\"node\">\n",
       "<title>Legend</title>\n",
       "<text text-anchor=\"start\" x=\"425.12\" y=\"-71.38\" font-family=\"Raleway, Helvetica, Arial, sans-serif\" font-weight=\"bold\" font-size=\"10.00\" fill=\"#6a0dad\">Legend</text>\n",
       "<text text-anchor=\"start\" x=\"425.12\" y=\"-61.38\" font-family=\"Raleway, Helvetica, Arial, sans-serif\" font-size=\"10.00\">• </text>\n",
       "<text text-anchor=\"start\" x=\"431.12\" y=\"-61.38\" font-family=\"'Fira Mono', 'Source Code Pro', 'Courier', monospace\" font-weight=\"bold\" font-size=\"8.00\">public_method()</text>\n",
       "<text text-anchor=\"start\" x=\"425.12\" y=\"-51.38\" font-family=\"Raleway, Helvetica, Arial, sans-serif\" font-size=\"10.00\">• </text>\n",
       "<text text-anchor=\"start\" x=\"431.12\" y=\"-51.38\" font-family=\"'Fira Mono', 'Source Code Pro', 'Courier', monospace\" font-size=\"8.00\">private_method()</text>\n",
       "<text text-anchor=\"start\" x=\"425.12\" y=\"-41.38\" font-family=\"Raleway, Helvetica, Arial, sans-serif\" font-size=\"10.00\">• </text>\n",
       "<text text-anchor=\"start\" x=\"431.12\" y=\"-41.38\" font-family=\"'Fira Mono', 'Source Code Pro', 'Courier', monospace\" font-style=\"italic\" font-size=\"8.00\">overloaded_method()</text>\n",
       "<text text-anchor=\"start\" x=\"425.12\" y=\"-32.33\" font-family=\"Helvetica,sans-Serif\" font-size=\"9.00\">Hover over names to see doc</text>\n",
       "</g>\n",
       "</g>\n",
       "</svg>\n"
      ],
      "text/html": [
       "<?xml version=\"1.0\" encoding=\"UTF-8\" standalone=\"no\"?>\n",
       "<!DOCTYPE svg PUBLIC \"-//W3C//DTD SVG 1.1//EN\"\n",
       " \"http://www.w3.org/Graphics/SVG/1.1/DTD/svg11.dtd\">\n",
       "<!-- Generated by graphviz version 12.2.1 (20241206.2353)\n",
       " -->\n",
       "<!-- Pages: 1 -->\n",
       "<svg width=\"552pt\" height=\"590pt\"\n",
       " viewBox=\"0.00 0.00 552.38 590.25\" xmlns=\"http://www.w3.org/2000/svg\" xmlns:xlink=\"http://www.w3.org/1999/xlink\">\n",
       "<g id=\"graph0\" class=\"graph\" transform=\"scale(1 1) rotate(0) translate(4 586.25)\">\n",
       "<g id=\"a_graph0\"><a xlink:title=\"PerformanceDebugger class hierarchy\">\n",
       "<polygon fill=\"white\" stroke=\"none\" points=\"-4,4 -4,-586.25 548.38,-586.25 548.38,4 -4,4\"/>\n",
       "</a>\n",
       "</g>\n",
       "<!-- PerformanceDebugger -->\n",
       "<g id=\"node1\" class=\"node\">\n",
       "<title>PerformanceDebugger</title>\n",
       "<g id=\"a_node1\"><a xlink:href=\"#\" xlink:title=\"class PerformanceDebugger:&#10;Collect and visualize a metric\">\n",
       "<polygon fill=\"none\" stroke=\"black\" points=\"0,-32.38 0,-78.38 161.5,-78.38 161.5,-32.38 0,-32.38\"/>\n",
       "<text text-anchor=\"start\" x=\"8\" y=\"-62.08\" font-family=\"Raleway, Helvetica, Arial, sans-serif\" font-weight=\"bold\" font-size=\"14.00\" fill=\"#6a0dad\">PerformanceDebugger</text>\n",
       "<polyline fill=\"none\" stroke=\"black\" points=\"0,-53.12 161.5,-53.12\"/>\n",
       "<g id=\"a_node1_0\"><a xlink:href=\"#\" xlink:title=\"PerformanceDebugger\">\n",
       "<g id=\"a_node1_1\"><a xlink:href=\"#\" xlink:title=\"__init__(self, collector_class: Type, log: bool = False):&#10;Constructor. Use instances of `collector_class` to collect events.\">\n",
       "<text text-anchor=\"start\" x=\"50.75\" y=\"-40.62\" font-family=\"'Fira Mono', 'Source Code Pro', 'Courier', monospace\" font-weight=\"bold\" font-style=\"italic\" font-size=\"10.00\">__init__()</text>\n",
       "</a>\n",
       "</g>\n",
       "</a>\n",
       "</g>\n",
       "</a>\n",
       "</g>\n",
       "</g>\n",
       "<!-- MetricDebugger -->\n",
       "<g id=\"node2\" class=\"node\">\n",
       "<title>MetricDebugger</title>\n",
       "<g id=\"a_node2\"><a xlink:href=\"#\" xlink:title=\"class MetricDebugger:&#10;Visualize a metric\">\n",
       "<polygon fill=\"none\" stroke=\"black\" points=\"21,-147.25 21,-257 140.5,-257 140.5,-147.25 21,-147.25\"/>\n",
       "<text text-anchor=\"start\" x=\"29\" y=\"-240.7\" font-family=\"Raleway, Helvetica, Arial, sans-serif\" font-weight=\"bold\" font-size=\"14.00\" fill=\"#6a0dad\">MetricDebugger</text>\n",
       "<polyline fill=\"none\" stroke=\"black\" points=\"21,-231.75 140.5,-231.75\"/>\n",
       "<g id=\"a_node2_2\"><a xlink:href=\"#\" xlink:title=\"MetricDebugger\">\n",
       "<g id=\"a_node2_3\"><a xlink:href=\"#\" xlink:title=\"color(self, location: Tuple[str, int]) &#45;&gt; str:&#10;Return a color for the given event, or None.&#10;To be overloaded in subclasses.\">\n",
       "<text text-anchor=\"start\" x=\"32.75\" y=\"-219.25\" font-family=\"'Fira Mono', 'Source Code Pro', 'Courier', monospace\" font-style=\"italic\" font-size=\"10.00\">color()</text>\n",
       "</a>\n",
       "</g>\n",
       "<g id=\"a_node2_4\"><a xlink:href=\"#\" xlink:title=\"maximum(self, func_name: str) &#45;&gt; float\">\n",
       "<text text-anchor=\"start\" x=\"32.75\" y=\"-205.5\" font-family=\"'Fira Mono', 'Source Code Pro', 'Courier', monospace\" font-size=\"10.00\">maximum()</text>\n",
       "</a>\n",
       "</g>\n",
       "<g id=\"a_node2_5\"><a xlink:href=\"#\" xlink:title=\"metric(self, location: Tuple[str, int]) &#45;&gt; float\">\n",
       "<text text-anchor=\"start\" x=\"32.75\" y=\"-192.75\" font-family=\"'Fira Mono', 'Source Code Pro', 'Courier', monospace\" font-size=\"10.00\">metric()</text>\n",
       "</a>\n",
       "</g>\n",
       "<g id=\"a_node2_6\"><a xlink:href=\"#\" xlink:title=\"suspiciousness(self, location: Tuple[str, int]) &#45;&gt; float:&#10;Return a suspiciousness value in the range [0, 1.0]&#10;for the given event, or `None` if unknown.&#10;To be overloaded in subclasses.\">\n",
       "<text text-anchor=\"start\" x=\"32.75\" y=\"-181\" font-family=\"'Fira Mono', 'Source Code Pro', 'Courier', monospace\" font-style=\"italic\" font-size=\"10.00\">suspiciousness()</text>\n",
       "</a>\n",
       "</g>\n",
       "<g id=\"a_node2_7\"><a xlink:href=\"#\" xlink:title=\"tooltip(self, location: Tuple[str, int]) &#45;&gt; str:&#10;Return a tooltip for the given event (default: percentage).&#10;To be overloaded in subclasses.\">\n",
       "<text text-anchor=\"start\" x=\"32.75\" y=\"-168.25\" font-family=\"'Fira Mono', 'Source Code Pro', 'Courier', monospace\" font-style=\"italic\" font-size=\"10.00\">tooltip()</text>\n",
       "</a>\n",
       "</g>\n",
       "<g id=\"a_node2_8\"><a xlink:href=\"#\" xlink:title=\"total(self, func_name: str) &#45;&gt; float\">\n",
       "<text text-anchor=\"start\" x=\"32.75\" y=\"-154.5\" font-family=\"'Fira Mono', 'Source Code Pro', 'Courier', monospace\" font-size=\"10.00\">total()</text>\n",
       "</a>\n",
       "</g>\n",
       "</a>\n",
       "</g>\n",
       "</a>\n",
       "</g>\n",
       "</g>\n",
       "<!-- PerformanceDebugger&#45;&gt;MetricDebugger -->\n",
       "<g id=\"edge1\" class=\"edge\">\n",
       "<title>PerformanceDebugger&#45;&gt;MetricDebugger</title>\n",
       "<path fill=\"none\" stroke=\"black\" d=\"M80.75,-78.67C80.75,-94 80.75,-115.19 80.75,-135.65\"/>\n",
       "<polygon fill=\"none\" stroke=\"black\" points=\"77.25,-135.38 80.75,-145.38 84.25,-135.38 77.25,-135.38\"/>\n",
       "</g>\n",
       "<!-- SpectrumDebugger -->\n",
       "<g id=\"node3\" class=\"node\">\n",
       "<title>SpectrumDebugger</title>\n",
       "<g id=\"a_node3\"><a xlink:href=\"StatisticalDebugger.ipynb\" xlink:title=\"class SpectrumDebugger:&#10;A class to collect events for passing and failing outcomes.\">\n",
       "<polygon fill=\"none\" stroke=\"black\" points=\"9.75,-294 9.75,-330 151.75,-330 151.75,-294 9.75,-294\"/>\n",
       "<text text-anchor=\"start\" x=\"17.75\" y=\"-308.7\" font-family=\"Raleway, Helvetica, Arial, sans-serif\" font-weight=\"bold\" font-size=\"14.00\" fill=\"#6a0dad\">SpectrumDebugger</text>\n",
       "</a>\n",
       "</g>\n",
       "</g>\n",
       "<!-- MetricDebugger&#45;&gt;SpectrumDebugger -->\n",
       "<g id=\"edge2\" class=\"edge\">\n",
       "<title>MetricDebugger&#45;&gt;SpectrumDebugger</title>\n",
       "<path fill=\"none\" stroke=\"black\" d=\"M80.75,-257.38C80.75,-266.06 80.75,-274.72 80.75,-282.48\"/>\n",
       "<polygon fill=\"none\" stroke=\"black\" points=\"77.25,-282.28 80.75,-292.28 84.25,-282.28 77.25,-282.28\"/>\n",
       "</g>\n",
       "<!-- DifferenceDebugger -->\n",
       "<g id=\"node4\" class=\"node\">\n",
       "<title>DifferenceDebugger</title>\n",
       "<g id=\"a_node4\"><a xlink:href=\"StatisticalDebugger.ipynb\" xlink:title=\"class DifferenceDebugger:&#10;A class to collect events for passing and failing outcomes.\">\n",
       "<polygon fill=\"none\" stroke=\"black\" points=\"8.25,-367 8.25,-425.75 153.25,-425.75 153.25,-367 8.25,-367\"/>\n",
       "<text text-anchor=\"start\" x=\"16.25\" y=\"-409.45\" font-family=\"Raleway, Helvetica, Arial, sans-serif\" font-weight=\"bold\" font-size=\"14.00\" fill=\"#6a0dad\">DifferenceDebugger</text>\n",
       "<polyline fill=\"none\" stroke=\"black\" points=\"8.25,-400.5 153.25,-400.5\"/>\n",
       "<g id=\"a_node4_9\"><a xlink:href=\"#\" xlink:title=\"DifferenceDebugger\">\n",
       "<g id=\"a_node4_10\"><a xlink:href=\"StatisticalDebugger.ipynb\" xlink:title=\"FAIL = &#39;FAIL&#39;\">\n",
       "<text text-anchor=\"start\" x=\"68.75\" y=\"-387\" font-family=\"'Fira Mono', 'Source Code Pro', 'Courier', monospace\" font-size=\"10.00\">FAIL</text>\n",
       "</a>\n",
       "</g>\n",
       "<g id=\"a_node4_11\"><a xlink:href=\"StatisticalDebugger.ipynb\" xlink:title=\"PASS = &#39;PASS&#39;\">\n",
       "<text text-anchor=\"start\" x=\"68.75\" y=\"-374.25\" font-family=\"'Fira Mono', 'Source Code Pro', 'Courier', monospace\" font-size=\"10.00\">PASS</text>\n",
       "</a>\n",
       "</g>\n",
       "</a>\n",
       "</g>\n",
       "</a>\n",
       "</g>\n",
       "</g>\n",
       "<!-- SpectrumDebugger&#45;&gt;DifferenceDebugger -->\n",
       "<g id=\"edge3\" class=\"edge\">\n",
       "<title>SpectrumDebugger&#45;&gt;DifferenceDebugger</title>\n",
       "<path fill=\"none\" stroke=\"black\" d=\"M80.75,-330.47C80.75,-337.76 80.75,-346.55 80.75,-355.28\"/>\n",
       "<polygon fill=\"none\" stroke=\"black\" points=\"77.25,-355.07 80.75,-365.07 84.25,-355.07 77.25,-355.07\"/>\n",
       "</g>\n",
       "<!-- StatisticalDebugger -->\n",
       "<g id=\"node5\" class=\"node\">\n",
       "<title>StatisticalDebugger</title>\n",
       "<g id=\"a_node5\"><a xlink:href=\"StatisticalDebugger.ipynb\" xlink:title=\"class StatisticalDebugger:&#10;A class to collect events for multiple outcomes.\">\n",
       "<polygon fill=\"none\" stroke=\"black\" points=\"10.88,-462.75 10.88,-498.75 150.62,-498.75 150.62,-462.75 10.88,-462.75\"/>\n",
       "<text text-anchor=\"start\" x=\"18.88\" y=\"-477.45\" font-family=\"Raleway, Helvetica, Arial, sans-serif\" font-weight=\"bold\" font-size=\"14.00\" fill=\"#6a0dad\">StatisticalDebugger</text>\n",
       "</a>\n",
       "</g>\n",
       "</g>\n",
       "<!-- DifferenceDebugger&#45;&gt;StatisticalDebugger -->\n",
       "<g id=\"edge4\" class=\"edge\">\n",
       "<title>DifferenceDebugger&#45;&gt;StatisticalDebugger</title>\n",
       "<path fill=\"none\" stroke=\"black\" d=\"M80.75,-426.19C80.75,-434.2 80.75,-442.9 80.75,-450.91\"/>\n",
       "<polygon fill=\"none\" stroke=\"black\" points=\"77.25,-450.85 80.75,-460.85 84.25,-450.85 77.25,-450.85\"/>\n",
       "</g>\n",
       "<!-- TimeCollector -->\n",
       "<g id=\"node6\" class=\"node\">\n",
       "<title>TimeCollector</title>\n",
       "<g id=\"a_node6\"><a xlink:href=\"#\" xlink:title=\"class TimeCollector:&#10;Collect time executed for each line\">\n",
       "<polygon fill=\"none\" stroke=\"black\" points=\"190.5,-0.5 190.5,-110.25 295,-110.25 295,-0.5 190.5,-0.5\"/>\n",
       "<text text-anchor=\"start\" x=\"198.5\" y=\"-93.95\" font-family=\"Raleway, Helvetica, Arial, sans-serif\" font-weight=\"bold\" font-size=\"14.00\" fill=\"#6a0dad\">TimeCollector</text>\n",
       "<polyline fill=\"none\" stroke=\"black\" points=\"190.5,-85 295,-85\"/>\n",
       "<g id=\"a_node6_12\"><a xlink:href=\"#\" xlink:title=\"TimeCollector\">\n",
       "<g id=\"a_node6_13\"><a xlink:href=\"#\" xlink:title=\"__enter__(self) &#45;&gt; Any:&#10;Called at begin of `with` block. Turn tracing on.\">\n",
       "<text text-anchor=\"start\" x=\"203.75\" y=\"-72.5\" font-family=\"'Fira Mono', 'Source Code Pro', 'Courier', monospace\" font-style=\"italic\" font-size=\"10.00\">__enter__()</text>\n",
       "</a>\n",
       "</g>\n",
       "<g id=\"a_node6_14\"><a xlink:href=\"#\" xlink:title=\"__init__(self) &#45;&gt; None:&#10;Constructor\">\n",
       "<text text-anchor=\"start\" x=\"203.75\" y=\"-59.75\" font-family=\"'Fira Mono', 'Source Code Pro', 'Courier', monospace\" font-style=\"italic\" font-size=\"10.00\">__init__()</text>\n",
       "</a>\n",
       "</g>\n",
       "<g id=\"a_node6_15\"><a xlink:href=\"#\" xlink:title=\"all_metrics(self, func: str) &#45;&gt; List[float]:&#10;Return all metric for a function `func`.\">\n",
       "<text text-anchor=\"start\" x=\"203.75\" y=\"-47\" font-family=\"'Fira Mono', 'Source Code Pro', 'Courier', monospace\" font-style=\"italic\" font-size=\"10.00\">all_metrics()</text>\n",
       "</a>\n",
       "</g>\n",
       "<g id=\"a_node6_16\"><a xlink:href=\"#\" xlink:title=\"collect(self, frame: frame, event: str, arg: Any) &#45;&gt; None:&#10;Invoked for every line executed. Accumulate time spent.\">\n",
       "<text text-anchor=\"start\" x=\"203.75\" y=\"-34.25\" font-family=\"'Fira Mono', 'Source Code Pro', 'Courier', monospace\" font-style=\"italic\" font-size=\"10.00\">collect()</text>\n",
       "</a>\n",
       "</g>\n",
       "<g id=\"a_node6_17\"><a xlink:href=\"#\" xlink:title=\"metric(self, location: Any) &#45;&gt; Optional[float]:&#10;Return a metric for an event, or none.\">\n",
       "<text text-anchor=\"start\" x=\"203.75\" y=\"-21.5\" font-family=\"'Fira Mono', 'Source Code Pro', 'Courier', monospace\" font-style=\"italic\" font-size=\"10.00\">metric()</text>\n",
       "</a>\n",
       "</g>\n",
       "<g id=\"a_node6_18\"><a xlink:href=\"#\" xlink:title=\"reset_timer(self) &#45;&gt; None\">\n",
       "<text text-anchor=\"start\" x=\"203.75\" y=\"-7.75\" font-family=\"'Fira Mono', 'Source Code Pro', 'Courier', monospace\" font-size=\"10.00\">reset_timer()</text>\n",
       "</a>\n",
       "</g>\n",
       "</a>\n",
       "</g>\n",
       "</a>\n",
       "</g>\n",
       "</g>\n",
       "<!-- MetricCollector -->\n",
       "<g id=\"node7\" class=\"node\">\n",
       "<title>MetricCollector</title>\n",
       "<g id=\"a_node7\"><a xlink:href=\"#\" xlink:title=\"class MetricCollector:&#10;Abstract superclass for collecting line&#45;specific metrics\">\n",
       "<polygon fill=\"none\" stroke=\"black\" points=\"197.75,-160 197.75,-244.25 309.75,-244.25 309.75,-160 197.75,-160\"/>\n",
       "<text text-anchor=\"start\" x=\"205.75\" y=\"-227.95\" font-family=\"Raleway, Helvetica, Arial, sans-serif\" font-weight=\"bold\" font-size=\"14.00\" fill=\"#6a0dad\">MetricCollector</text>\n",
       "<polyline fill=\"none\" stroke=\"black\" points=\"197.75,-219 309.75,-219\"/>\n",
       "<g id=\"a_node7_19\"><a xlink:href=\"#\" xlink:title=\"MetricCollector\">\n",
       "<g id=\"a_node7_20\"><a xlink:href=\"#\" xlink:title=\"all_metrics(self, func: str) &#45;&gt; List[float]:&#10;Return all metric for a function `func`.\">\n",
       "<text text-anchor=\"start\" x=\"214.75\" y=\"-206.5\" font-family=\"'Fira Mono', 'Source Code Pro', 'Courier', monospace\" font-style=\"italic\" font-size=\"10.00\">all_metrics()</text>\n",
       "</a>\n",
       "</g>\n",
       "<g id=\"a_node7_21\"><a xlink:href=\"#\" xlink:title=\"maximum(self, func: str) &#45;&gt; float\">\n",
       "<text text-anchor=\"start\" x=\"214.75\" y=\"-192.75\" font-family=\"'Fira Mono', 'Source Code Pro', 'Courier', monospace\" font-size=\"10.00\">maximum()</text>\n",
       "</a>\n",
       "</g>\n",
       "<g id=\"a_node7_22\"><a xlink:href=\"#\" xlink:title=\"metric(self, event: Any) &#45;&gt; Optional[float]:&#10;Return a metric for an event, or none.\">\n",
       "<text text-anchor=\"start\" x=\"214.75\" y=\"-181\" font-family=\"'Fira Mono', 'Source Code Pro', 'Courier', monospace\" font-style=\"italic\" font-size=\"10.00\">metric()</text>\n",
       "</a>\n",
       "</g>\n",
       "<g id=\"a_node7_23\"><a xlink:href=\"#\" xlink:title=\"total(self, func: str) &#45;&gt; float\">\n",
       "<text text-anchor=\"start\" x=\"214.75\" y=\"-167.25\" font-family=\"'Fira Mono', 'Source Code Pro', 'Courier', monospace\" font-size=\"10.00\">total()</text>\n",
       "</a>\n",
       "</g>\n",
       "</a>\n",
       "</g>\n",
       "</a>\n",
       "</g>\n",
       "</g>\n",
       "<!-- TimeCollector&#45;&gt;MetricCollector -->\n",
       "<g id=\"edge5\" class=\"edge\">\n",
       "<title>TimeCollector&#45;&gt;MetricCollector</title>\n",
       "<path fill=\"none\" stroke=\"black\" d=\"M246.88,-110.69C247.81,-122.97 248.8,-135.99 249.73,-148.21\"/>\n",
       "<polygon fill=\"none\" stroke=\"black\" points=\"246.23,-148.42 250.48,-158.12 253.21,-147.89 246.23,-148.42\"/>\n",
       "</g>\n",
       "<!-- CoverageCollector -->\n",
       "<g id=\"node8\" class=\"node\">\n",
       "<title>CoverageCollector</title>\n",
       "<g id=\"a_node8\"><a xlink:href=\"StatisticalDebugger.ipynb\" xlink:title=\"class CoverageCollector:&#10;A class to record covered locations during execution.\">\n",
       "<polygon fill=\"none\" stroke=\"black\" points=\"186.88,-294 186.88,-330 320.62,-330 320.62,-294 186.88,-294\"/>\n",
       "<text text-anchor=\"start\" x=\"194.88\" y=\"-308.7\" font-family=\"Raleway, Helvetica, Arial, sans-serif\" font-weight=\"bold\" font-size=\"14.00\" fill=\"#6a0dad\">CoverageCollector</text>\n",
       "</a>\n",
       "</g>\n",
       "</g>\n",
       "<!-- MetricCollector&#45;&gt;CoverageCollector -->\n",
       "<g id=\"edge6\" class=\"edge\">\n",
       "<title>MetricCollector&#45;&gt;CoverageCollector</title>\n",
       "<path fill=\"none\" stroke=\"black\" d=\"M253.75,-244.52C253.75,-257.14 253.75,-270.72 253.75,-282.29\"/>\n",
       "<polygon fill=\"none\" stroke=\"black\" points=\"250.25,-282 253.75,-292 257.25,-282 250.25,-282\"/>\n",
       "</g>\n",
       "<!-- Collector -->\n",
       "<g id=\"node9\" class=\"node\">\n",
       "<title>Collector</title>\n",
       "<g id=\"a_node9\"><a xlink:href=\"StatisticalDebugger.ipynb\" xlink:title=\"class Collector:&#10;A class to record events during execution.\">\n",
       "<polygon fill=\"none\" stroke=\"black\" points=\"194.62,-378.38 194.62,-414.38 266.88,-414.38 266.88,-378.38 194.62,-378.38\"/>\n",
       "<text text-anchor=\"start\" x=\"202.62\" y=\"-393.07\" font-family=\"Raleway, Helvetica, Arial, sans-serif\" font-weight=\"bold\" font-size=\"14.00\" fill=\"#6a0dad\">Collector</text>\n",
       "</a>\n",
       "</g>\n",
       "</g>\n",
       "<!-- CoverageCollector&#45;&gt;Collector -->\n",
       "<g id=\"edge7\" class=\"edge\">\n",
       "<title>CoverageCollector&#45;&gt;Collector</title>\n",
       "<path fill=\"none\" stroke=\"black\" d=\"M248.87,-330.47C245.91,-341.06 242.07,-354.83 238.68,-366.96\"/>\n",
       "<polygon fill=\"none\" stroke=\"black\" points=\"235.35,-365.9 236.03,-376.47 242.09,-367.78 235.35,-365.9\"/>\n",
       "</g>\n",
       "<!-- StackInspector -->\n",
       "<g id=\"node11\" class=\"node\">\n",
       "<title>StackInspector</title>\n",
       "<g id=\"a_node11\"><a xlink:href=\"StackInspector.ipynb\" xlink:title=\"class StackInspector:&#10;Provide functions to inspect the stack\">\n",
       "<polygon fill=\"none\" stroke=\"black\" points=\"183.75,-535.75 183.75,-581.75 349.75,-581.75 349.75,-535.75 183.75,-535.75\"/>\n",
       "<text text-anchor=\"start\" x=\"220.25\" y=\"-565.45\" font-family=\"Raleway, Helvetica, Arial, sans-serif\" font-weight=\"bold\" font-size=\"14.00\" fill=\"#6a0dad\">StackInspector</text>\n",
       "<polyline fill=\"none\" stroke=\"black\" points=\"183.75,-556.5 349.75,-556.5\"/>\n",
       "<g id=\"a_node11_24\"><a xlink:href=\"#\" xlink:title=\"StackInspector\">\n",
       "<g id=\"a_node11_25\"><a xlink:href=\"StackInspector.ipynb\" xlink:title=\"_generated_function_cache = {(&#39;remove_html_markup&#39;, 238): &lt;function remove_html_markup at 0x11d95f9c0&gt;}\">\n",
       "<text text-anchor=\"start\" x=\"191.75\" y=\"-543\" font-family=\"'Fira Mono', 'Source Code Pro', 'Courier', monospace\" font-size=\"10.00\">_generated_function_cache</text>\n",
       "</a>\n",
       "</g>\n",
       "</a>\n",
       "</g>\n",
       "</a>\n",
       "</g>\n",
       "</g>\n",
       "<!-- CoverageCollector&#45;&gt;StackInspector -->\n",
       "<g id=\"edge10\" class=\"edge\">\n",
       "<title>CoverageCollector&#45;&gt;StackInspector</title>\n",
       "<path fill=\"none\" stroke=\"black\" d=\"M262.88,-330.29C267.76,-340.51 273.26,-353.89 275.75,-366.5 286.5,-420.91 279.41,-485.63 273.18,-524.11\"/>\n",
       "<polygon fill=\"none\" stroke=\"black\" points=\"269.74,-523.47 271.5,-533.91 276.64,-524.65 269.74,-523.47\"/>\n",
       "</g>\n",
       "<!-- Tracer -->\n",
       "<g id=\"node10\" class=\"node\">\n",
       "<title>Tracer</title>\n",
       "<g id=\"a_node10\"><a xlink:href=\"Tracer.ipynb\" xlink:title=\"class Tracer:&#10;A class for tracing a piece of code. Use as `with Tracer(): block()`\">\n",
       "<polygon fill=\"none\" stroke=\"black\" points=\"207.25,-462.75 207.25,-498.75 262.25,-498.75 262.25,-462.75 207.25,-462.75\"/>\n",
       "<text text-anchor=\"start\" x=\"215.25\" y=\"-477.45\" font-family=\"Raleway, Helvetica, Arial, sans-serif\" font-weight=\"bold\" font-size=\"14.00\" fill=\"#6a0dad\">Tracer</text>\n",
       "</a>\n",
       "</g>\n",
       "</g>\n",
       "<!-- Collector&#45;&gt;Tracer -->\n",
       "<g id=\"edge8\" class=\"edge\">\n",
       "<title>Collector&#45;&gt;Tracer</title>\n",
       "<path fill=\"none\" stroke=\"black\" d=\"M231.6,-414.84C232.11,-425.33 232.77,-438.92 233.35,-450.96\"/>\n",
       "<polygon fill=\"none\" stroke=\"black\" points=\"229.85,-450.98 233.83,-460.79 236.84,-450.64 229.85,-450.98\"/>\n",
       "</g>\n",
       "<!-- Tracer&#45;&gt;StackInspector -->\n",
       "<g id=\"edge9\" class=\"edge\">\n",
       "<title>Tracer&#45;&gt;StackInspector</title>\n",
       "<path fill=\"none\" stroke=\"black\" d=\"M242.01,-499C245.24,-506.65 249.14,-515.94 252.89,-524.84\"/>\n",
       "<polygon fill=\"none\" stroke=\"black\" points=\"249.64,-526.12 256.74,-533.98 256.09,-523.41 249.64,-526.12\"/>\n",
       "</g>\n",
       "<!-- HitCollector -->\n",
       "<g id=\"node12\" class=\"node\">\n",
       "<title>HitCollector</title>\n",
       "<g id=\"a_node12\"><a xlink:href=\"#\" xlink:title=\"class HitCollector:&#10;Collect how often a line is executed\">\n",
       "<polygon fill=\"none\" stroke=\"black\" points=\"312.75,-13.25 312.75,-97.5 406.75,-97.5 406.75,-13.25 312.75,-13.25\"/>\n",
       "<text text-anchor=\"start\" x=\"323\" y=\"-81.2\" font-family=\"Raleway, Helvetica, Arial, sans-serif\" font-weight=\"bold\" font-size=\"14.00\" fill=\"#6a0dad\">HitCollector</text>\n",
       "<polyline fill=\"none\" stroke=\"black\" points=\"312.75,-72.25 406.75,-72.25\"/>\n",
       "<g id=\"a_node12_26\"><a xlink:href=\"#\" xlink:title=\"HitCollector\">\n",
       "<g id=\"a_node12_27\"><a xlink:href=\"#\" xlink:title=\"__init__(self) &#45;&gt; None:&#10;Constructor.\">\n",
       "<text text-anchor=\"start\" x=\"320.75\" y=\"-59.75\" font-family=\"'Fira Mono', 'Source Code Pro', 'Courier', monospace\" font-style=\"italic\" font-size=\"10.00\">__init__()</text>\n",
       "</a>\n",
       "</g>\n",
       "<g id=\"a_node12_28\"><a xlink:href=\"#\" xlink:title=\"all_metrics(self, func: str) &#45;&gt; List[float]:&#10;Return all metric for a function `func`.\">\n",
       "<text text-anchor=\"start\" x=\"320.75\" y=\"-47\" font-family=\"'Fira Mono', 'Source Code Pro', 'Courier', monospace\" font-style=\"italic\" font-size=\"10.00\">all_metrics()</text>\n",
       "</a>\n",
       "</g>\n",
       "<g id=\"a_node12_29\"><a xlink:href=\"#\" xlink:title=\"collect(self, frame: frame, event: str, arg: Any) &#45;&gt; None:&#10;Save coverage for an observed event.\">\n",
       "<text text-anchor=\"start\" x=\"320.75\" y=\"-34.25\" font-family=\"'Fira Mono', 'Source Code Pro', 'Courier', monospace\" font-style=\"italic\" font-size=\"10.00\">collect()</text>\n",
       "</a>\n",
       "</g>\n",
       "<g id=\"a_node12_30\"><a xlink:href=\"#\" xlink:title=\"metric(self, location: Tuple[str, int]) &#45;&gt; Optional[int]:&#10;Return a metric for an event, or none.\">\n",
       "<text text-anchor=\"start\" x=\"320.75\" y=\"-21.5\" font-family=\"'Fira Mono', 'Source Code Pro', 'Courier', monospace\" font-style=\"italic\" font-size=\"10.00\">metric()</text>\n",
       "</a>\n",
       "</g>\n",
       "</a>\n",
       "</g>\n",
       "</a>\n",
       "</g>\n",
       "</g>\n",
       "<!-- HitCollector&#45;&gt;MetricCollector -->\n",
       "<g id=\"edge11\" class=\"edge\">\n",
       "<title>HitCollector&#45;&gt;MetricCollector</title>\n",
       "<path fill=\"none\" stroke=\"black\" d=\"M329.37,-97.85C317.29,-114.36 303.27,-133.5 290.61,-150.79\"/>\n",
       "<polygon fill=\"none\" stroke=\"black\" points=\"288.11,-148.28 285.02,-158.42 293.76,-152.42 288.11,-148.28\"/>\n",
       "</g>\n",
       "<!-- Legend -->\n",
       "<g id=\"node13\" class=\"node\">\n",
       "<title>Legend</title>\n",
       "<text text-anchor=\"start\" x=\"425.12\" y=\"-71.38\" font-family=\"Raleway, Helvetica, Arial, sans-serif\" font-weight=\"bold\" font-size=\"10.00\" fill=\"#6a0dad\">Legend</text>\n",
       "<text text-anchor=\"start\" x=\"425.12\" y=\"-61.38\" font-family=\"Raleway, Helvetica, Arial, sans-serif\" font-size=\"10.00\">• </text>\n",
       "<text text-anchor=\"start\" x=\"431.12\" y=\"-61.38\" font-family=\"'Fira Mono', 'Source Code Pro', 'Courier', monospace\" font-weight=\"bold\" font-size=\"8.00\">public_method()</text>\n",
       "<text text-anchor=\"start\" x=\"425.12\" y=\"-51.38\" font-family=\"Raleway, Helvetica, Arial, sans-serif\" font-size=\"10.00\">• </text>\n",
       "<text text-anchor=\"start\" x=\"431.12\" y=\"-51.38\" font-family=\"'Fira Mono', 'Source Code Pro', 'Courier', monospace\" font-size=\"8.00\">private_method()</text>\n",
       "<text text-anchor=\"start\" x=\"425.12\" y=\"-41.38\" font-family=\"Raleway, Helvetica, Arial, sans-serif\" font-size=\"10.00\">• </text>\n",
       "<text text-anchor=\"start\" x=\"431.12\" y=\"-41.38\" font-family=\"'Fira Mono', 'Source Code Pro', 'Courier', monospace\" font-style=\"italic\" font-size=\"8.00\">overloaded_method()</text>\n",
       "<text text-anchor=\"start\" x=\"425.12\" y=\"-32.33\" font-family=\"Helvetica,sans-Serif\" font-size=\"9.00\">Hover over names to see doc</text>\n",
       "</g>\n",
       "</g>\n",
       "</svg>\n"
      ],
      "text/plain": [
       "<graphviz.graphs.Digraph at 0x11f927fe0>"
      ]
     },
     "execution_count": 57,
     "metadata": {},
     "output_type": "execute_result"
    }
   ],
   "source": [
    "# ignore\n",
    "display_class_hierarchy([PerformanceDebugger, TimeCollector, HitCollector],\n",
    "                        public_methods=[\n",
    "                            PerformanceDebugger.__init__,\n",
    "                        ],\n",
    "                        project='debuggingbook')"
   ]
  },
  {
   "cell_type": "markdown",
   "metadata": {
    "button": false,
    "new_sheet": true,
    "run_control": {
     "read_only": false
    },
    "slideshow": {
     "slide_type": "slide"
    }
   },
   "source": [
    "## Lessons Learned\n",
    "\n",
    "* To measure performance,\n",
    "    * instrument the code such that the time taken per function (or line) is collected; or\n",
    "    * sample the execution that at regular intervals, the active call stack is collected.\n",
    "* To make code performant, focus on efficient algorithms, efficient data types, and sufficient abstraction such that you can replace them by alternatives.\n",
    "* Beyond efficient algorithms and data types, do _not_ optimize before measuring."
   ]
  },
  {
   "cell_type": "markdown",
   "metadata": {
    "button": false,
    "new_sheet": false,
    "run_control": {
     "read_only": false
    },
    "slideshow": {
     "slide_type": "slide"
    }
   },
   "source": [
    "## Next Steps\n",
    "\n",
    "This chapter concludes the part on abstracting failures. The next part will focus on\n",
    "\n",
    "* [repairing code automatically](Repairer.ipynb)"
   ]
  },
  {
   "cell_type": "markdown",
   "metadata": {
    "slideshow": {
     "slide_type": "slide"
    }
   },
   "source": [
    "## Background\n",
    "\n",
    "[Scalene](https://github.com/plasma-umass/scalene) is a high-performance, high-precision CPU, GPU, and memory profiler for Python. In contrast to the standard Python `cProfile` profiler, it uses _sampling_ instead of instrumentation or relying on Python's tracing facilities; and it also supports line-by-line profiling. Scalene might be the tool of choice if you want to go beyond basic profiling.\n",
    "\n",
    "The Wikipedia articles on [profiling](https://en.wikipedia.org/wiki/Profiling_(computer_programming)) and [performance analysis tools](https://en.wikipedia.org/wiki/List_of_performance_analysis_tools) provide several additional resources on profiling tools and how to apply them in practice."
   ]
  },
  {
   "cell_type": "markdown",
   "metadata": {
    "button": false,
    "new_sheet": true,
    "run_control": {
     "read_only": false
    },
    "slideshow": {
     "slide_type": "slide"
    }
   },
   "source": [
    "## Exercises"
   ]
  },
  {
   "attachments": {},
   "cell_type": "markdown",
   "metadata": {
    "button": false,
    "new_sheet": false,
    "run_control": {
     "read_only": false
    },
    "slideshow": {
     "slide_type": "subslide"
    }
   },
   "source": [
    "### Exercise 1: Profiling Memory Usage\n",
    "\n",
    "The Python [`tracemalloc` module](https://docs.python.org/3/library/tracemalloc.html) allows tracking memory usage during execution. Between `tracemalloc.start()` and `tracemalloc.end()`, use `tracemalloc.get_traced_memory()` to obtain how much memory is currently being consumed:"
   ]
  },
  {
   "cell_type": "code",
   "execution_count": 58,
   "metadata": {
    "execution": {
     "iopub.execute_input": "2025-01-13T15:01:41.061041Z",
     "iopub.status.busy": "2025-01-13T15:01:41.060925Z",
     "iopub.status.idle": "2025-01-13T15:01:41.064242Z",
     "shell.execute_reply": "2025-01-13T15:01:41.063953Z"
    },
    "slideshow": {
     "slide_type": "skip"
    }
   },
   "outputs": [],
   "source": [
    "import tracemalloc"
   ]
  },
  {
   "cell_type": "code",
   "execution_count": 59,
   "metadata": {
    "execution": {
     "iopub.execute_input": "2025-01-13T15:01:41.065632Z",
     "iopub.status.busy": "2025-01-13T15:01:41.065519Z",
     "iopub.status.idle": "2025-01-13T15:01:41.067772Z",
     "shell.execute_reply": "2025-01-13T15:01:41.067220Z"
    },
    "slideshow": {
     "slide_type": "fragment"
    }
   },
   "outputs": [],
   "source": [
    "tracemalloc.start()"
   ]
  },
  {
   "cell_type": "code",
   "execution_count": 60,
   "metadata": {
    "execution": {
     "iopub.execute_input": "2025-01-13T15:01:41.069687Z",
     "iopub.status.busy": "2025-01-13T15:01:41.069395Z",
     "iopub.status.idle": "2025-01-13T15:01:41.073783Z",
     "shell.execute_reply": "2025-01-13T15:01:41.073301Z"
    },
    "slideshow": {
     "slide_type": "fragment"
    }
   },
   "outputs": [
    {
     "data": {
      "text/plain": [
       "22720"
      ]
     },
     "execution_count": 60,
     "metadata": {},
     "output_type": "execute_result"
    }
   ],
   "source": [
    "current_size, peak_size = tracemalloc.get_traced_memory()\n",
    "current_size"
   ]
  },
  {
   "cell_type": "code",
   "execution_count": 61,
   "metadata": {
    "execution": {
     "iopub.execute_input": "2025-01-13T15:01:41.075789Z",
     "iopub.status.busy": "2025-01-13T15:01:41.075522Z",
     "iopub.status.idle": "2025-01-13T15:01:41.077905Z",
     "shell.execute_reply": "2025-01-13T15:01:41.077633Z"
    },
    "slideshow": {
     "slide_type": "fragment"
    }
   },
   "outputs": [],
   "source": [
    "tracemalloc.stop()"
   ]
  },
  {
   "attachments": {},
   "cell_type": "markdown",
   "metadata": {
    "slideshow": {
     "slide_type": "subslide"
    }
   },
   "source": [
    "Create a subclass of `MetricCollector` named `MemoryCollector`. Make it measure the memory consumption before and after each line executed (0 if negative), and visualize the impact of individual lines on memory. Create an appropriate test program that (temporarily) consumes larger amounts of memory."
   ]
  },
  {
   "attachments": {},
   "cell_type": "markdown",
   "metadata": {
    "slideshow": {
     "slide_type": "slide"
    }
   },
   "source": [
    "## Exercise 2: Statistical Performance Debugging\n",
    "\n",
    "In a similar way as we integrated a binary \"performance test\" with delta debugging, we can also integrate such a test with other techniques. Combining a performance test with [Statistical Debugging](StatisticalDebugger.ipynb), for instance, will highlight those lines whose execution correlates with low performance. But then, the performance test need not be binary, as with functional pass/fail tests – you can also _weight_ individual lines by _how much_ they impact performance. Create a variant of `StatisticalDebugger` that reflects the impact of individual lines on an arbitrary (summarized) performance metric."
   ]
  }
 ],
 "metadata": {
  "ipub": {
   "bibliography": "fuzzingbook.bib",
   "toc": true
  },
  "kernelspec": {
   "display_name": "Python 3 (ipykernel)",
   "language": "python",
   "name": "python3"
  },
  "language_info": {
   "codemirror_mode": {
    "name": "ipython",
    "version": 3
   },
   "file_extension": ".py",
   "mimetype": "text/x-python",
   "name": "python",
   "nbconvert_exporter": "python",
   "pygments_lexer": "ipython3",
   "version": "3.12.8"
  },
  "toc": {
   "base_numbering": 1,
   "nav_menu": {},
   "number_sections": true,
   "sideBar": true,
   "skip_h1_title": true,
   "title_cell": "",
   "title_sidebar": "Contents",
   "toc_cell": false,
   "toc_position": {},
   "toc_section_display": true,
   "toc_window_display": true
  },
  "toc-autonumbering": false
 },
 "nbformat": 4,
 "nbformat_minor": 4
}