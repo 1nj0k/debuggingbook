{
 "cells": [
  {
   "cell_type": "markdown",
   "metadata": {
    "button": false,
    "new_sheet": false,
    "run_control": {
     "read_only": false
    },
    "slideshow": {
     "slide_type": "slide"
    }
   },
   "source": [
    "# Tours through the Book\n"
   ]
  },
  {
   "cell_type": "markdown",
   "metadata": {
    "button": false,
    "new_sheet": false,
    "run_control": {
     "read_only": false
    },
    "slideshow": {
     "slide_type": "slide"
    }
   },
   "source": [
    "While the chapters of this book can be read one after the other, there are many possible paths through the book.  In this graph, an arrow $A \\rightarrow B$ means that chapter $A$ is a prerequisite for chapter $B$.  You can pick arbitrary paths in this graph to get to the topics that interest you most:"
   ]
  },
  {
   "cell_type": "code",
   "execution_count": 1,
   "metadata": {
    "slideshow": {
     "slide_type": "fragment"
    }
   },
   "outputs": [],
   "source": [
    "# ignore\n",
    "from IPython.display import SVG"
   ]
  },
  {
   "cell_type": "code",
   "execution_count": 2,
   "metadata": {
    "slideshow": {
     "slide_type": "fragment"
    }
   },
   "outputs": [
    {
     "data": {
      "image/svg+xml": [
       "<svg height=\"268pt\" viewBox=\"0.00 0.00 848.00 268.00\" width=\"848pt\" xmlns=\"http://www.w3.org/2000/svg\" xmlns:xlink=\"http://www.w3.org/1999/xlink\">\n",
       "<g class=\"graph\" id=\"graph0\" transform=\"scale(1 1) rotate(0) translate(4 264)\">\n",
       "<title>%3</title>\n",
       "<polygon fill=\"#ffffff\" points=\"-4,4 -4,-264 844,-264 844,4 -4,4\" stroke=\"transparent\"/>\n",
       "<!-- Tracer -->\n",
       "<g class=\"node\" id=\"node1\">\n",
       "<title>Tracer</title>\n",
       "<g id=\"a_node1\"><a xlink:href=\"Tracer.ipynb\" xlink:title=\"Tracing Executions (Tracer)\n",
       "\n",
       "In this chapter, we show how to observe program state during an execution – a prerequisite for logging and interactive debugging. Thanks to the power of Python, we can do this in a few lines of code.\">\n",
       "<polygon fill=\"#ffffff\" points=\"429,-185 295,-185 295,-149 435,-149 435,-179 429,-185\" stroke=\"#000000\"/>\n",
       "<polyline fill=\"none\" points=\"429,-185 429,-179 \" stroke=\"#000000\"/>\n",
       "<polyline fill=\"none\" points=\"435,-179 429,-179 \" stroke=\"#000000\"/>\n",
       "<text fill=\"#6a0dad\" font-family=\"Raleway, Helvetica, Arial, sans-serif\" font-size=\"14.00\" text-anchor=\"middle\" x=\"365\" y=\"-163.3\">Tracing Executions</text>\n",
       "</a>\n",
       "</g>\n",
       "</g>\n",
       "<!-- Debugger -->\n",
       "<g class=\"node\" id=\"node2\">\n",
       "<title>Debugger</title>\n",
       "<g id=\"a_node2\"><a xlink:href=\"Debugger.ipynb\" xlink:title=\"How Debuggers Work (Debugger)\n",
       "\n",
       "Interactive debuggers are tools that allow you to selectively observe the program state during an execution.  In this chapter, you will learn how such debuggers work – by building your own debugger.\">\n",
       "<polygon fill=\"#ffffff\" points=\"519.5,-111 364.5,-111 364.5,-75 525.5,-75 525.5,-105 519.5,-111\" stroke=\"#000000\"/>\n",
       "<polyline fill=\"none\" points=\"519.5,-111 519.5,-105 \" stroke=\"#000000\"/>\n",
       "<polyline fill=\"none\" points=\"525.5,-105 519.5,-105 \" stroke=\"#000000\"/>\n",
       "<text fill=\"#6a0dad\" font-family=\"Raleway, Helvetica, Arial, sans-serif\" font-size=\"14.00\" text-anchor=\"middle\" x=\"445\" y=\"-89.3\">How Debuggers Work</text>\n",
       "</a>\n",
       "</g>\n",
       "</g>\n",
       "<!-- Tracer&#45;&gt;Debugger -->\n",
       "<g class=\"edge\" id=\"edge1\">\n",
       "<title>Tracer-&gt;Debugger</title>\n",
       "<path d=\"M384.7753,-148.7079C394.7537,-139.4778 407.0109,-128.1399 417.8568,-118.1074\" fill=\"none\" stroke=\"#000000\"/>\n",
       "<polygon fill=\"#000000\" points=\"420.4878,-120.4415 425.4522,-111.0817 415.7345,-115.3028 420.4878,-120.4415\" stroke=\"#000000\"/>\n",
       "</g>\n",
       "<!-- Assertions -->\n",
       "<g class=\"node\" id=\"node3\">\n",
       "<title>Assertions</title>\n",
       "<g id=\"a_node3\"><a xlink:href=\"Assertions.ipynb\" xlink:title=\"Asserting Expectations (Assertions)\n",
       "\n",
       "In the previous chapters on tracing and interactive debugging, we have seen how to observe executions. By checking our observations against our expectations, we can find out when and how the program state is faulty. So far, we have assumed that this check would be done by humans – that is, us. However, having this check done by a computer, for instance as part of the execution, is infinitely more rigorous and efficient. In this chapter, we introduce techniques to specify our expectations and to check them at runtime, enabling us to detect faults right as they occur.\">\n",
       "<polygon fill=\"#ffffff\" points=\"94,-112 0,-112 0,-74 100,-74 100,-106 94,-112\" stroke=\"#000000\"/>\n",
       "<polyline fill=\"none\" points=\"94,-112 94,-106 \" stroke=\"#000000\"/>\n",
       "<polyline fill=\"none\" points=\"100,-106 94,-106 \" stroke=\"#000000\"/>\n",
       "<text fill=\"#6a0dad\" font-family=\"Raleway, Helvetica, Arial, sans-serif\" font-size=\"14.00\" text-anchor=\"middle\" x=\"50\" y=\"-96.8\">Asserting</text>\n",
       "<text fill=\"#6a0dad\" font-family=\"Raleway, Helvetica, Arial, sans-serif\" font-size=\"14.00\" text-anchor=\"middle\" x=\"50\" y=\"-81.8\">Expectations</text>\n",
       "</a>\n",
       "</g>\n",
       "</g>\n",
       "<!-- Tracer&#45;&gt;Assertions -->\n",
       "<g class=\"edge\" id=\"edge2\">\n",
       "<title>Tracer-&gt;Assertions</title>\n",
       "<path d=\"M294.7387,-153.8715C245.4705,-144.2121 177.9327,-130.0666 110.1164,-112.1797\" fill=\"none\" stroke=\"#000000\"/>\n",
       "<polygon fill=\"#000000\" points=\"110.6748,-108.7064 100.1108,-109.5135 108.8724,-115.4704 110.6748,-108.7064\" stroke=\"#000000\"/>\n",
       "</g>\n",
       "<!-- DeltaDebugger -->\n",
       "<g class=\"node\" id=\"node4\">\n",
       "<title>DeltaDebugger</title>\n",
       "<g id=\"a_node4\"><a xlink:href=\"DeltaDebugger.ipynb\" xlink:title=\"Reducing Failure-Inducing Inputs (DeltaDebugger)\n",
       "\n",
       "A standard problem in debugging is this: Your program fails after processing some large input. Only a part of this input, however, is responsible for the failure. Reducing the input to a failure-inducing minimum not only eases debugging – it also helps in understanding why and when the program fails. In this chapter, we present techniques that automatically reduce and simplify failure-inducing inputs to a minimum, notably the popular Delta Debugging technique.\">\n",
       "<polygon fill=\"#ffffff\" points=\"670,-112 544,-112 544,-74 676,-74 676,-106 670,-112\" stroke=\"#000000\"/>\n",
       "<polyline fill=\"none\" points=\"670,-112 670,-106 \" stroke=\"#000000\"/>\n",
       "<polyline fill=\"none\" points=\"676,-106 670,-106 \" stroke=\"#000000\"/>\n",
       "<text fill=\"#6a0dad\" font-family=\"Raleway, Helvetica, Arial, sans-serif\" font-size=\"14.00\" text-anchor=\"middle\" x=\"610\" y=\"-96.8\">Reducing Failure-</text>\n",
       "<text fill=\"#6a0dad\" font-family=\"Raleway, Helvetica, Arial, sans-serif\" font-size=\"14.00\" text-anchor=\"middle\" x=\"610\" y=\"-81.8\">Inducing Inputs</text>\n",
       "</a>\n",
       "</g>\n",
       "</g>\n",
       "<!-- Tracer&#45;&gt;DeltaDebugger -->\n",
       "<g class=\"edge\" id=\"edge3\">\n",
       "<title>Tracer-&gt;DeltaDebugger</title>\n",
       "<path d=\"M424.6205,-148.9922C458.412,-138.7858 500.9617,-125.934 536.7709,-115.1182\" fill=\"none\" stroke=\"#000000\"/>\n",
       "<polygon fill=\"#000000\" points=\"538.1185,-118.3674 546.6793,-112.1254 536.0944,-111.6664 538.1185,-118.3674\" stroke=\"#000000\"/>\n",
       "</g>\n",
       "<!-- StatisticalDebugger -->\n",
       "<g class=\"node\" id=\"node5\">\n",
       "<title>StatisticalDebugger</title>\n",
       "<g id=\"a_node5\"><a xlink:href=\"StatisticalDebugger.ipynb\" xlink:title=\"Statistical Debugging (StatisticalDebugger)\n",
       "\n",
       "In this chapter, we introduce statistical debugging – the idea that specific events during execution could be statistically correlated with failures. We start with coverage of individual lines and then proceed towards further execution features.\">\n",
       "<polygon fill=\"#ffffff\" points=\"201.5,-112 118.5,-112 118.5,-74 207.5,-74 207.5,-106 201.5,-112\" stroke=\"#000000\"/>\n",
       "<polyline fill=\"none\" points=\"201.5,-112 201.5,-106 \" stroke=\"#000000\"/>\n",
       "<polyline fill=\"none\" points=\"207.5,-106 201.5,-106 \" stroke=\"#000000\"/>\n",
       "<text fill=\"#6a0dad\" font-family=\"Raleway, Helvetica, Arial, sans-serif\" font-size=\"14.00\" text-anchor=\"middle\" x=\"163\" y=\"-96.8\">Statistical</text>\n",
       "<text fill=\"#6a0dad\" font-family=\"Raleway, Helvetica, Arial, sans-serif\" font-size=\"14.00\" text-anchor=\"middle\" x=\"163\" y=\"-81.8\">Debugging</text>\n",
       "</a>\n",
       "</g>\n",
       "</g>\n",
       "<!-- Tracer&#45;&gt;StatisticalDebugger -->\n",
       "<g class=\"edge\" id=\"edge4\">\n",
       "<title>Tracer-&gt;StatisticalDebugger</title>\n",
       "<path d=\"M315.8435,-148.9922C286.0216,-138.0673 247.9264,-124.1117 217.2291,-112.8661\" fill=\"none\" stroke=\"#000000\"/>\n",
       "<polygon fill=\"#000000\" points=\"218.1359,-109.4709 207.5422,-109.3174 215.728,-116.0437 218.1359,-109.4709\" stroke=\"#000000\"/>\n",
       "</g>\n",
       "<!-- DynamicInvariants -->\n",
       "<g class=\"node\" id=\"node6\">\n",
       "<title>DynamicInvariants</title>\n",
       "<g id=\"a_node6\"><a xlink:href=\"DynamicInvariants.ipynb\" xlink:title=\"Mining Function Specifications (DynamicInvariants)\n",
       "\n",
       "In the chapter on assertions, we have seen how important it is to check whether the result is as expected.  In this chapter, we introduce a technique that allows us to mine function specifications from a set of given executions, resulting in abstract and formal descriptions of what the function expects and what it delivers.\">\n",
       "<polygon fill=\"#ffffff\" points=\"340,-112 226,-112 226,-74 346,-74 346,-106 340,-112\" stroke=\"#000000\"/>\n",
       "<polyline fill=\"none\" points=\"340,-112 340,-106 \" stroke=\"#000000\"/>\n",
       "<polyline fill=\"none\" points=\"346,-106 340,-106 \" stroke=\"#000000\"/>\n",
       "<text fill=\"#6a0dad\" font-family=\"Raleway, Helvetica, Arial, sans-serif\" font-size=\"14.00\" text-anchor=\"middle\" x=\"286\" y=\"-96.8\">Mining Function</text>\n",
       "<text fill=\"#6a0dad\" font-family=\"Raleway, Helvetica, Arial, sans-serif\" font-size=\"14.00\" text-anchor=\"middle\" x=\"286\" y=\"-81.8\">Specifications</text>\n",
       "</a>\n",
       "</g>\n",
       "</g>\n",
       "<!-- Tracer&#45;&gt;DynamicInvariants -->\n",
       "<g class=\"edge\" id=\"edge5\">\n",
       "<title>Tracer-&gt;DynamicInvariants</title>\n",
       "<path d=\"M345.4719,-148.7079C335.9123,-139.7533 324.2349,-128.815 313.7667,-119.0093\" fill=\"none\" stroke=\"#000000\"/>\n",
       "<polygon fill=\"#000000\" points=\"316.0965,-116.3959 306.4054,-112.114 311.311,-121.5047 316.0965,-116.3959\" stroke=\"#000000\"/>\n",
       "</g>\n",
       "<!-- DDSet -->\n",
       "<g class=\"node\" id=\"node10\">\n",
       "<title>DDSet</title>\n",
       "<g id=\"a_node10\"><a xlink:href=\"DDSet.ipynb\" xlink:title=\"The Language of Failure (DDSet)\n",
       "\n",
       "Resource: http://rahul.gopinath.org/post/2020/08/03/simple-ddset/\">\n",
       "<polygon fill=\"#ffffff\" points=\"212,-38 108,-38 108,0 218,0 218,-32 212,-38\" stroke=\"#000000\"/>\n",
       "<polyline fill=\"none\" points=\"212,-38 212,-32 \" stroke=\"#000000\"/>\n",
       "<polyline fill=\"none\" points=\"218,-32 212,-32 \" stroke=\"#000000\"/>\n",
       "<text fill=\"#6a0dad\" font-family=\"Raleway, Helvetica, Arial, sans-serif\" font-size=\"14.00\" text-anchor=\"middle\" x=\"163\" y=\"-22.8\">The Language</text>\n",
       "<text fill=\"#6a0dad\" font-family=\"Raleway, Helvetica, Arial, sans-serif\" font-size=\"14.00\" text-anchor=\"middle\" x=\"163\" y=\"-7.8\">of Failure</text>\n",
       "</a>\n",
       "</g>\n",
       "</g>\n",
       "<!-- Assertions&#45;&gt;DDSet -->\n",
       "<g class=\"edge\" id=\"edge9\">\n",
       "<title>Assertions-&gt;DDSet</title>\n",
       "<path d=\"M79.1003,-73.9432C93.0944,-64.7789 110.0474,-53.677 125.0411,-43.8581\" fill=\"none\" stroke=\"#000000\"/>\n",
       "<polygon fill=\"#000000\" points=\"127.1573,-46.656 133.6056,-38.2495 123.3223,-40.7999 127.1573,-46.656\" stroke=\"#000000\"/>\n",
       "</g>\n",
       "<!-- DeltaDebugger&#45;&gt;DDSet -->\n",
       "<g class=\"edge\" id=\"edge11\">\n",
       "<title>DeltaDebugger-&gt;DDSet</title>\n",
       "<path d=\"M543.8296,-75.8499C540.8512,-75.2001 537.8977,-74.5797 535,-74 477.7507,-62.5469 318.9142,-40.2505 228.3852,-27.853\" fill=\"none\" stroke=\"#000000\"/>\n",
       "<polygon fill=\"#000000\" points=\"228.6144,-24.3518 218.2325,-26.4649 227.6661,-31.2873 228.6144,-24.3518\" stroke=\"#000000\"/>\n",
       "</g>\n",
       "<!-- ChangeDebugger -->\n",
       "<g class=\"node\" id=\"node11\">\n",
       "<title>ChangeDebugger</title>\n",
       "<g id=\"a_node11\"><a xlink:href=\"ChangeDebugger.ipynb\" xlink:title=\"Isolating Failure-Inducing Changes (ChangeDebugger)\n",
       "\n",
       "&quot;Yesterday, my program worked. Today, it does not. Why?&quot; In debugging, as elsewhere in software development, code keeps on changing. Thus, it can happen that a piece of code that yesterday was working perfectly, today no longer runs – because we (or others) have made some changes to it that cause it to fail. The good news is that for debugging, we can actually exploit this version history to narrow down the changes that caused the failure – be it by us or by others.\">\n",
       "<polygon fill=\"#ffffff\" points=\"670.5,-38 543.5,-38 543.5,0 676.5,0 676.5,-32 670.5,-38\" stroke=\"#000000\"/>\n",
       "<polyline fill=\"none\" points=\"670.5,-38 670.5,-32 \" stroke=\"#000000\"/>\n",
       "<polyline fill=\"none\" points=\"676.5,-32 670.5,-32 \" stroke=\"#000000\"/>\n",
       "<text fill=\"#6a0dad\" font-family=\"Raleway, Helvetica, Arial, sans-serif\" font-size=\"14.00\" text-anchor=\"middle\" x=\"610\" y=\"-22.8\">Isolating Failure-</text>\n",
       "<text fill=\"#6a0dad\" font-family=\"Raleway, Helvetica, Arial, sans-serif\" font-size=\"14.00\" text-anchor=\"middle\" x=\"610\" y=\"-7.8\">Inducing Changes</text>\n",
       "</a>\n",
       "</g>\n",
       "</g>\n",
       "<!-- DeltaDebugger&#45;&gt;ChangeDebugger -->\n",
       "<g class=\"edge\" id=\"edge10\">\n",
       "<title>DeltaDebugger-&gt;ChangeDebugger</title>\n",
       "<path d=\"M610,-73.9432C610,-66.1493 610,-56.9538 610,-48.3381\" fill=\"none\" stroke=\"#000000\"/>\n",
       "<polygon fill=\"#000000\" points=\"613.5001,-48.2494 610,-38.2495 606.5001,-48.2495 613.5001,-48.2494\" stroke=\"#000000\"/>\n",
       "</g>\n",
       "<!-- Repairer -->\n",
       "<g class=\"node\" id=\"node12\">\n",
       "<title>Repairer</title>\n",
       "<g id=\"a_node12\"><a xlink:href=\"Repairer.ipynb\" xlink:title=\"Repairing Code Automatically (Repairer)\n",
       "\n",
       "So far, we have discussed how to track failures and how to locate defects in code. Let us now discuss how to repair defects – that is, to correct the code such that the failure no longer occurs. We will discuss how to repair code automatically – by systematically searching through possible fixes and evolving the most promising candidates.\">\n",
       "<polygon fill=\"#ffffff\" points=\"433,-38 323,-38 323,0 439,0 439,-32 433,-38\" stroke=\"#000000\"/>\n",
       "<polyline fill=\"none\" points=\"433,-38 433,-32 \" stroke=\"#000000\"/>\n",
       "<polyline fill=\"none\" points=\"439,-32 433,-32 \" stroke=\"#000000\"/>\n",
       "<text fill=\"#6a0dad\" font-family=\"Raleway, Helvetica, Arial, sans-serif\" font-size=\"14.00\" text-anchor=\"middle\" x=\"381\" y=\"-22.8\">Repairing Code</text>\n",
       "<text fill=\"#6a0dad\" font-family=\"Raleway, Helvetica, Arial, sans-serif\" font-size=\"14.00\" text-anchor=\"middle\" x=\"381\" y=\"-7.8\">Automatically</text>\n",
       "</a>\n",
       "</g>\n",
       "</g>\n",
       "<!-- DeltaDebugger&#45;&gt;Repairer -->\n",
       "<g class=\"edge\" id=\"edge12\">\n",
       "<title>DeltaDebugger-&gt;Repairer</title>\n",
       "<path d=\"M551.0268,-73.9432C519.9215,-63.8917 481.6024,-51.5091 449.2208,-41.0452\" fill=\"none\" stroke=\"#000000\"/>\n",
       "<polygon fill=\"#000000\" points=\"449.9683,-37.6086 439.3766,-37.864 447.8159,-44.2694 449.9683,-37.6086\" stroke=\"#000000\"/>\n",
       "</g>\n",
       "<!-- StatisticalDebugger&#45;&gt;DDSet -->\n",
       "<g class=\"edge\" id=\"edge13\">\n",
       "<title>StatisticalDebugger-&gt;DDSet</title>\n",
       "<path d=\"M163,-73.9432C163,-66.1493 163,-56.9538 163,-48.3381\" fill=\"none\" stroke=\"#000000\"/>\n",
       "<polygon fill=\"#000000\" points=\"166.5001,-48.2494 163,-38.2495 159.5001,-48.2495 166.5001,-48.2494\" stroke=\"#000000\"/>\n",
       "</g>\n",
       "<!-- StatisticalDebugger&#45;&gt;Repairer -->\n",
       "<g class=\"edge\" id=\"edge14\">\n",
       "<title>StatisticalDebugger-&gt;Repairer</title>\n",
       "<path d=\"M207.7714,-77.19C210.8928,-76.1053 213.9923,-75.0334 217,-74 248.7681,-63.0849 284.0847,-51.2079 313.7838,-41.2936\" fill=\"none\" stroke=\"#000000\"/>\n",
       "<polygon fill=\"#000000\" points=\"315.2481,-44.4948 323.6272,-38.0108 313.0335,-37.8544 315.2481,-44.4948\" stroke=\"#000000\"/>\n",
       "</g>\n",
       "<!-- Intro_Debugging -->\n",
       "<g class=\"node\" id=\"node7\">\n",
       "<title>Intro_Debugging</title>\n",
       "<g id=\"a_node7\"><a xlink:href=\"Intro_Debugging.ipynb\" xlink:title=\"Introduction to Debugging (Intro_Debugging)\n",
       "\n",
       "In this book, we want to explore debugging - the art and science of fixing bugs in computer software. In particular, we want to explore techniques that automatically answer questions like: Where is the bug? When does it occur? And how can we repair it? But before we start automating the debugging process, we first need to understand what this process is.\">\n",
       "<polygon fill=\"#ffffff\" points=\"624,-260 518,-260 518,-222 630,-222 630,-254 624,-260\" stroke=\"#000000\"/>\n",
       "<polyline fill=\"none\" points=\"624,-260 624,-254 \" stroke=\"#000000\"/>\n",
       "<polyline fill=\"none\" points=\"630,-254 624,-254 \" stroke=\"#000000\"/>\n",
       "<text fill=\"#6a0dad\" font-family=\"Raleway, Helvetica, Arial, sans-serif\" font-size=\"14.00\" text-anchor=\"middle\" x=\"574\" y=\"-244.8\">Introduction to</text>\n",
       "<text fill=\"#6a0dad\" font-family=\"Raleway, Helvetica, Arial, sans-serif\" font-size=\"14.00\" text-anchor=\"middle\" x=\"574\" y=\"-229.8\">Debugging</text>\n",
       "</a>\n",
       "</g>\n",
       "</g>\n",
       "<!-- Intro_Debugging&#45;&gt;Tracer -->\n",
       "<g class=\"edge\" id=\"edge6\">\n",
       "<title>Intro_Debugging-&gt;Tracer</title>\n",
       "<path d=\"M520.1773,-221.9432C491.2562,-211.7031 455.502,-199.0438 425.6056,-188.4584\" fill=\"none\" stroke=\"#000000\"/>\n",
       "<polygon fill=\"#000000\" points=\"426.7157,-185.1386 416.1209,-185.1002 424.3793,-191.7372 426.7157,-185.1386\" stroke=\"#000000\"/>\n",
       "</g>\n",
       "<!-- Slicer -->\n",
       "<g class=\"node\" id=\"node8\">\n",
       "<title>Slicer</title>\n",
       "<g id=\"a_node8\"><a xlink:href=\"Slicer.ipynb\" xlink:title=\"Tracking Failure Origins (Slicer)\n",
       "\n",
       "The question of &quot;Where does this value come from?&quot; is fundamental for debugging. Which earlier variables could possibly have influenced the current erroneous state? And how did their values come to be?\">\n",
       "<polygon fill=\"#ffffff\" points=\"622.5,-186 519.5,-186 519.5,-148 628.5,-148 628.5,-180 622.5,-186\" stroke=\"#000000\"/>\n",
       "<polyline fill=\"none\" points=\"622.5,-186 622.5,-180 \" stroke=\"#000000\"/>\n",
       "<polyline fill=\"none\" points=\"628.5,-180 622.5,-180 \" stroke=\"#000000\"/>\n",
       "<text fill=\"#6a0dad\" font-family=\"Raleway, Helvetica, Arial, sans-serif\" font-size=\"14.00\" text-anchor=\"middle\" x=\"574\" y=\"-170.8\">Tracking </text>\n",
       "<text fill=\"#6a0dad\" font-family=\"Raleway, Helvetica, Arial, sans-serif\" font-size=\"14.00\" text-anchor=\"middle\" x=\"574\" y=\"-155.8\">Failure Origins</text>\n",
       "</a>\n",
       "</g>\n",
       "</g>\n",
       "<!-- Intro_Debugging&#45;&gt;Slicer -->\n",
       "<g class=\"edge\" id=\"edge7\">\n",
       "<title>Intro_Debugging-&gt;Slicer</title>\n",
       "<path d=\"M574,-221.9432C574,-214.1493 574,-204.9538 574,-196.3381\" fill=\"none\" stroke=\"#000000\"/>\n",
       "<polygon fill=\"#000000\" points=\"577.5001,-196.2494 574,-186.2495 570.5001,-196.2495 577.5001,-196.2494\" stroke=\"#000000\"/>\n",
       "</g>\n",
       "<!-- Tracking -->\n",
       "<g class=\"node\" id=\"node9\">\n",
       "<title>Tracking</title>\n",
       "<g id=\"a_node9\"><a xlink:href=\"Tracking.ipynb\" xlink:title=\"Tracking Bugs (Tracking)\n",
       "\n",
       "So far, we have assumed that failures would be discovered and fixed by a single programmer during development. But what if the user who discovers a bug is different from the developer who eventually fixes it? In this case, users have to report bugs, and one needs to ensure that reported bugs are systematically tracked. This is the job of dedicated bug tracking systems, which we will discuss (and demo) in this chapter.\">\n",
       "<polygon fill=\"#ffffff\" points=\"782.5,-185 679.5,-185 679.5,-149 788.5,-149 788.5,-179 782.5,-185\" stroke=\"#000000\"/>\n",
       "<polyline fill=\"none\" points=\"782.5,-185 782.5,-179 \" stroke=\"#000000\"/>\n",
       "<polyline fill=\"none\" points=\"788.5,-179 782.5,-179 \" stroke=\"#000000\"/>\n",
       "<text fill=\"#6a0dad\" font-family=\"Raleway, Helvetica, Arial, sans-serif\" font-size=\"14.00\" text-anchor=\"middle\" x=\"734\" y=\"-163.3\">Tracking Bugs</text>\n",
       "</a>\n",
       "</g>\n",
       "</g>\n",
       "<!-- Intro_Debugging&#45;&gt;Tracking -->\n",
       "<g class=\"edge\" id=\"edge8\">\n",
       "<title>Intro_Debugging-&gt;Tracking</title>\n",
       "<path d=\"M615.204,-221.9432C636.6736,-212.0134 663.0621,-199.8088 685.5106,-189.4263\" fill=\"none\" stroke=\"#000000\"/>\n",
       "<polygon fill=\"#000000\" points=\"687.2574,-192.4747 694.8644,-185.1002 684.3189,-186.1214 687.2574,-192.4747\" stroke=\"#000000\"/>\n",
       "</g>\n",
       "<!-- ChangeCounter -->\n",
       "<g class=\"node\" id=\"node13\">\n",
       "<title>ChangeCounter</title>\n",
       "<g id=\"a_node13\"><a xlink:href=\"ChangeCounter.ipynb\" xlink:title=\"Where the Bugs are (ChangeCounter)\n",
       "\n",
       "Every time a bug is fixed, developers leave a trace – in the version database when they commit the fix, or in the bug database when they close the bug. In this chapter, we learn how to mine these repositories for past changes and bugs, and how to map them to individual modules and functions, highlighting those project components that have seen most changes and fixes over time.\">\n",
       "<polygon fill=\"#ffffff\" points=\"834,-111 694,-111 694,-75 840,-75 840,-105 834,-111\" stroke=\"#000000\"/>\n",
       "<polyline fill=\"none\" points=\"834,-111 834,-105 \" stroke=\"#000000\"/>\n",
       "<polyline fill=\"none\" points=\"840,-105 834,-105 \" stroke=\"#000000\"/>\n",
       "<text fill=\"#6a0dad\" font-family=\"Raleway, Helvetica, Arial, sans-serif\" font-size=\"14.00\" text-anchor=\"middle\" x=\"767\" y=\"-89.3\">Where the Bugs are</text>\n",
       "</a>\n",
       "</g>\n",
       "</g>\n",
       "<!-- Tracking&#45;&gt;ChangeCounter -->\n",
       "<g class=\"edge\" id=\"edge15\">\n",
       "<title>Tracking-&gt;ChangeCounter</title>\n",
       "<path d=\"M742.1573,-148.7079C745.9537,-140.1947 750.5497,-129.8885 754.7511,-120.4671\" fill=\"none\" stroke=\"#000000\"/>\n",
       "<polygon fill=\"#000000\" points=\"758.0602,-121.6403 758.9365,-111.0817 751.6671,-118.7892 758.0602,-121.6403\" stroke=\"#000000\"/>\n",
       "</g>\n",
       "</g>\n",
       "</svg>"
      ],
      "text/plain": [
       "<IPython.core.display.SVG object>"
      ]
     },
     "execution_count": 2,
     "metadata": {},
     "output_type": "execute_result"
    }
   ],
   "source": [
    "# ignore\n",
    "SVG(filename='PICS/Sitemap.svg')"
   ]
  },
  {
   "cell_type": "markdown",
   "metadata": {
    "button": false,
    "new_sheet": false,
    "run_control": {
     "read_only": false
    },
    "slideshow": {
     "slide_type": "slide"
    }
   },
   "source": [
    "But since even this map can be overwhelming, here are a few _tours_ to get you started.  Each of these tours allows you to focus on a particular view, depending on whether you are a programmer, student, or researcher."
   ]
  },
  {
   "cell_type": "markdown",
   "metadata": {
    "slideshow": {
     "slide_type": "slide"
    }
   },
   "source": [
    "## The Pragmatic Programmer Tour\n",
    "\n",
    "You have a program to debug.  You want to set up techniques that help you for debugging.  You want to get to the point.\n",
    "\n",
    "1. __Start with [Introduction to Debugging](Intro_Debugging.ipynb) to get the basic concepts.__  (You would know most of these anyway, but it can't hurt to get quick reminders).\n",
    "\n",
    "2. __Experiment with [interactive debuggers](Debugger.ipynb)__ to observe executions interactively.\n",
    "\n",
    "3. __Use [assertions](Assertions.ipynb)__ to have the computer systematically run checks during execution.\n",
    "\n",
    "4. __Explore [delta debugging](DeltaDebugger.ipynb) for your program__ and see how it simplifies failure-inducing inputs [and changes](ChangeDebugger.ipynb).\n",
    "\n",
    "5. __Visualize [dependencies](Slicer.ipynb) in your program__ and track the flow of data and control in the execution.\n",
    "\n",
    "6. __Check out [statistical debugging](StatisticalDebugger)__ for a simple way to determine code locations associated with failures.\n",
    "\n",
    "7. __See [automatic repairs](Repairer.ipynb) in action__.\n",
    "\n",
    "In each of these chapters, start with the \"Synopsis\" parts; these will give you quick introductions on how to use things, as well as point you to relevant usage examples.  With this, enough said.  Get back to work and enjoy!"
   ]
  },
  {
   "cell_type": "markdown",
   "metadata": {
    "button": false,
    "new_sheet": true,
    "run_control": {
     "read_only": false
    },
    "slideshow": {
     "slide_type": "slide"
    }
   },
   "source": [
    "## Lessons Learned\n",
    "\n",
    "* You can go through the book from beginning to end...\n",
    "* ...but it may be preferable to follow a specific tour, based on your needs and resources.\n",
    "* Now [go and explore automated debugging](index.ipynb)!"
   ]
  }
 ],
 "metadata": {
  "ipub": {
   "bibliography": "fuzzingbook.bib",
   "toc": true
  },
  "kernelspec": {
   "display_name": "Python 3",
   "language": "python",
   "name": "python3"
  },
  "language_info": {
   "codemirror_mode": {
    "name": "ipython",
    "version": 3
   },
   "file_extension": ".py",
   "mimetype": "text/x-python",
   "name": "python",
   "nbconvert_exporter": "python",
   "pygments_lexer": "ipython3",
   "version": "3.6.10"
  },
  "toc": {
   "base_numbering": 1,
   "nav_menu": {},
   "number_sections": true,
   "sideBar": true,
   "skip_h1_title": true,
   "title_cell": "",
   "title_sidebar": "Contents",
   "toc_cell": false,
   "toc_position": {},
   "toc_section_display": true,
   "toc_window_display": true
  },
  "toc-autonumbering": false
 },
 "nbformat": 4,
 "nbformat_minor": 4
}
