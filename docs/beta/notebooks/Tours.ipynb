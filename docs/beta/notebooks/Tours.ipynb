{
 "cells": [
  {
   "cell_type": "markdown",
   "metadata": {
    "button": false,
    "new_sheet": false,
    "run_control": {
     "read_only": false
    },
    "slideshow": {
     "slide_type": "slide"
    }
   },
   "source": [
    "# Tours through the Book\n"
   ]
  },
  {
   "cell_type": "markdown",
   "metadata": {
    "button": false,
    "new_sheet": false,
    "run_control": {
     "read_only": false
    },
    "slideshow": {
     "slide_type": "slide"
    }
   },
   "source": [
    "While the chapters of this book can be read one after the other, there are many possible paths through the book.  In this graph, an arrow $A \\rightarrow B$ means that chapter $A$ is a prerequisite for chapter $B$.  You can pick arbitrary paths in this graph to get to the topics that interest you most:"
   ]
  },
  {
   "cell_type": "code",
   "execution_count": 1,
   "metadata": {},
   "outputs": [],
   "source": [
    "from IPython.display import SVG"
   ]
  },
  {
   "cell_type": "code",
   "execution_count": 2,
   "metadata": {},
   "outputs": [
    {
     "data": {
      "image/svg+xml": [
       "<svg height=\"260pt\" viewBox=\"0.00 0.00 780.50 260.00\" width=\"781pt\" xmlns=\"http://www.w3.org/2000/svg\" xmlns:xlink=\"http://www.w3.org/1999/xlink\">\n",
       "<g class=\"graph\" id=\"graph0\" transform=\"scale(1 1) rotate(0) translate(4 256)\">\n",
       "<title>%3</title>\n",
       "<polygon fill=\"#ffffff\" points=\"-4,4 -4,-256 776.5,-256 776.5,4 -4,4\" stroke=\"transparent\"/>\n",
       "<!-- Tracer -->\n",
       "<g class=\"node\" id=\"node1\">\n",
       "<title>Tracer</title>\n",
       "<g id=\"a_node1\"><a xlink:href=\"Tracer.ipynb\" xlink:title=\"Tracer\">\n",
       "<polygon fill=\"#ffffff\" points=\"414.5,-180 280.5,-180 280.5,-144 420.5,-144 420.5,-174 414.5,-180\" stroke=\"#000000\"/>\n",
       "<polyline fill=\"none\" points=\"414.5,-180 414.5,-174 \" stroke=\"#000000\"/>\n",
       "<polyline fill=\"none\" points=\"420.5,-174 414.5,-174 \" stroke=\"#000000\"/>\n",
       "<text fill=\"#a020f0\" font-family=\"Raleway\" font-size=\"14.00\" text-anchor=\"middle\" x=\"350.5\" y=\"-158.3\">Tracing Executions</text>\n",
       "</a>\n",
       "</g>\n",
       "</g>\n",
       "<!-- Debugger -->\n",
       "<g class=\"node\" id=\"node2\">\n",
       "<title>Debugger</title>\n",
       "<g id=\"a_node2\"><a xlink:href=\"Debugger.ipynb\" xlink:title=\"Debugger\">\n",
       "<polygon fill=\"#ffffff\" points=\"155,-108 0,-108 0,-72 161,-72 161,-102 155,-108\" stroke=\"#000000\"/>\n",
       "<polyline fill=\"none\" points=\"155,-108 155,-102 \" stroke=\"#000000\"/>\n",
       "<polyline fill=\"none\" points=\"161,-102 155,-102 \" stroke=\"#000000\"/>\n",
       "<text fill=\"#a020f0\" font-family=\"Raleway\" font-size=\"14.00\" text-anchor=\"middle\" x=\"80.5\" y=\"-86.3\">How Debuggers Work</text>\n",
       "</a>\n",
       "</g>\n",
       "</g>\n",
       "<!-- Tracer&#45;&gt;Debugger -->\n",
       "<g class=\"edge\" id=\"edge1\">\n",
       "<title>Tracer-&gt;Debugger</title>\n",
       "<path d=\"M282.7161,-143.9243C244.8426,-133.8247 197.4933,-121.1982 158.1352,-110.7027\" fill=\"none\" stroke=\"#000000\"/>\n",
       "<polygon fill=\"#000000\" points=\"158.876,-107.278 148.3118,-108.0831 157.0723,-114.0417 158.876,-107.278\" stroke=\"#000000\"/>\n",
       "</g>\n",
       "<!-- Assertions -->\n",
       "<g class=\"node\" id=\"node3\">\n",
       "<title>Assertions</title>\n",
       "<g id=\"a_node3\"><a xlink:href=\"Assertions.ipynb\" xlink:title=\"Assertions\">\n",
       "<polygon fill=\"#ffffff\" points=\"337.5,-108 179.5,-108 179.5,-72 343.5,-72 343.5,-102 337.5,-108\" stroke=\"#000000\"/>\n",
       "<polyline fill=\"none\" points=\"337.5,-108 337.5,-102 \" stroke=\"#000000\"/>\n",
       "<polyline fill=\"none\" points=\"343.5,-102 337.5,-102 \" stroke=\"#000000\"/>\n",
       "<text fill=\"#a020f0\" font-family=\"Raleway\" font-size=\"14.00\" text-anchor=\"middle\" x=\"261.5\" y=\"-86.3\">Asserting Expectations</text>\n",
       "</a>\n",
       "</g>\n",
       "</g>\n",
       "<!-- Tracer&#45;&gt;Assertions -->\n",
       "<g class=\"edge\" id=\"edge2\">\n",
       "<title>Tracer-&gt;Assertions</title>\n",
       "<path d=\"M328.0415,-143.8314C317.0795,-134.9632 303.7301,-124.1637 291.8735,-114.5718\" fill=\"none\" stroke=\"#000000\"/>\n",
       "<polygon fill=\"#000000\" points=\"293.9271,-111.7313 283.9513,-108.1628 289.5245,-117.1734 293.9271,-111.7313\" stroke=\"#000000\"/>\n",
       "</g>\n",
       "<!-- StatisticalDebugger -->\n",
       "<g class=\"node\" id=\"node4\">\n",
       "<title>StatisticalDebugger</title>\n",
       "<g id=\"a_node4\"><a xlink:href=\"StatisticalDebugger.ipynb\" xlink:title=\"StatisticalDebugger\">\n",
       "<polygon fill=\"#ffffff\" points=\"511,-108 362,-108 362,-72 517,-72 517,-102 511,-108\" stroke=\"#000000\"/>\n",
       "<polyline fill=\"none\" points=\"511,-108 511,-102 \" stroke=\"#000000\"/>\n",
       "<polyline fill=\"none\" points=\"517,-102 511,-102 \" stroke=\"#000000\"/>\n",
       "<text fill=\"#a020f0\" font-family=\"Raleway\" font-size=\"14.00\" text-anchor=\"middle\" x=\"439.5\" y=\"-86.3\">Statistical Debugging</text>\n",
       "</a>\n",
       "</g>\n",
       "</g>\n",
       "<!-- Tracer&#45;&gt;StatisticalDebugger -->\n",
       "<g class=\"edge\" id=\"edge3\">\n",
       "<title>Tracer-&gt;StatisticalDebugger</title>\n",
       "<path d=\"M372.9585,-143.8314C383.9205,-134.9632 397.2699,-124.1637 409.1265,-114.5718\" fill=\"none\" stroke=\"#000000\"/>\n",
       "<polygon fill=\"#000000\" points=\"411.4755,-117.1734 417.0487,-108.1628 407.0729,-111.7313 411.4755,-117.1734\" stroke=\"#000000\"/>\n",
       "</g>\n",
       "<!-- DeltaDebugger -->\n",
       "<g class=\"node\" id=\"node5\">\n",
       "<title>DeltaDebugger</title>\n",
       "<g id=\"a_node5\"><a xlink:href=\"DeltaDebugger.ipynb\" xlink:title=\"DeltaDebugger\">\n",
       "<polygon fill=\"#ffffff\" points=\"761.5,-108 535.5,-108 535.5,-72 767.5,-72 767.5,-102 761.5,-108\" stroke=\"#000000\"/>\n",
       "<polyline fill=\"none\" points=\"761.5,-108 761.5,-102 \" stroke=\"#000000\"/>\n",
       "<polyline fill=\"none\" points=\"767.5,-102 761.5,-102 \" stroke=\"#000000\"/>\n",
       "<text fill=\"#a020f0\" font-family=\"Raleway\" font-size=\"14.00\" text-anchor=\"middle\" x=\"651.5\" y=\"-86.3\">Reducing Failure-Inducing Inputs</text>\n",
       "</a>\n",
       "</g>\n",
       "</g>\n",
       "<!-- Tracer&#45;&gt;DeltaDebugger -->\n",
       "<g class=\"edge\" id=\"edge4\">\n",
       "<title>Tracer-&gt;DeltaDebugger</title>\n",
       "<path d=\"M420.6912,-145.2101C464.1458,-134.8156 520.2327,-121.3995 566.2361,-110.3953\" fill=\"none\" stroke=\"#000000\"/>\n",
       "<polygon fill=\"#000000\" points=\"567.2794,-113.7446 576.1908,-108.0142 565.6509,-106.9367 567.2794,-113.7446\" stroke=\"#000000\"/>\n",
       "</g>\n",
       "<!-- ChangeDebugger -->\n",
       "<g class=\"node\" id=\"node8\">\n",
       "<title>ChangeDebugger</title>\n",
       "<g id=\"a_node8\"><a xlink:href=\"ChangeDebugger.ipynb\" xlink:title=\"ChangeDebugger\">\n",
       "<polygon fill=\"#ffffff\" points=\"766.5,-36 530.5,-36 530.5,0 772.5,0 772.5,-30 766.5,-36\" stroke=\"#000000\"/>\n",
       "<polyline fill=\"none\" points=\"766.5,-36 766.5,-30 \" stroke=\"#000000\"/>\n",
       "<polyline fill=\"none\" points=\"772.5,-30 766.5,-30 \" stroke=\"#000000\"/>\n",
       "<text fill=\"#a020f0\" font-family=\"Raleway\" font-size=\"14.00\" text-anchor=\"middle\" x=\"651.5\" y=\"-14.3\">Isolating Failure-Inducing Changes</text>\n",
       "</a>\n",
       "</g>\n",
       "</g>\n",
       "<!-- DeltaDebugger&#45;&gt;ChangeDebugger -->\n",
       "<g class=\"edge\" id=\"edge7\">\n",
       "<title>DeltaDebugger-&gt;ChangeDebugger</title>\n",
       "<path d=\"M651.5,-71.8314C651.5,-64.131 651.5,-54.9743 651.5,-46.4166\" fill=\"none\" stroke=\"#000000\"/>\n",
       "<polygon fill=\"#000000\" points=\"655.0001,-46.4132 651.5,-36.4133 648.0001,-46.4133 655.0001,-46.4132\" stroke=\"#000000\"/>\n",
       "</g>\n",
       "<!-- Intro_Debugging -->\n",
       "<g class=\"node\" id=\"node6\">\n",
       "<title>Intro_Debugging</title>\n",
       "<g id=\"a_node6\"><a xlink:href=\"Intro_Debugging.ipynb\" xlink:title=\"Intro_Debugging\">\n",
       "<polygon fill=\"#ffffff\" points=\"524.5,-252 342.5,-252 342.5,-216 530.5,-216 530.5,-246 524.5,-252\" stroke=\"#000000\"/>\n",
       "<polyline fill=\"none\" points=\"524.5,-252 524.5,-246 \" stroke=\"#000000\"/>\n",
       "<polyline fill=\"none\" points=\"530.5,-246 524.5,-246 \" stroke=\"#000000\"/>\n",
       "<text fill=\"#a020f0\" font-family=\"Raleway\" font-size=\"14.00\" text-anchor=\"middle\" x=\"436.5\" y=\"-230.3\">Introduction to Debugging</text>\n",
       "</a>\n",
       "</g>\n",
       "</g>\n",
       "<!-- Intro_Debugging&#45;&gt;Tracer -->\n",
       "<g class=\"edge\" id=\"edge5\">\n",
       "<title>Intro_Debugging-&gt;Tracer</title>\n",
       "<path d=\"M414.7986,-215.8314C404.3079,-207.0485 391.5545,-196.3712 380.1806,-186.8489\" fill=\"none\" stroke=\"#000000\"/>\n",
       "<polygon fill=\"#000000\" points=\"382.1089,-183.8986 372.1945,-180.1628 377.6153,-189.2659 382.1089,-183.8986\" stroke=\"#000000\"/>\n",
       "</g>\n",
       "<!-- Slicer -->\n",
       "<g class=\"node\" id=\"node7\">\n",
       "<title>Slicer</title>\n",
       "<g id=\"a_node7\"><a xlink:href=\"Slicer.ipynb\" xlink:title=\"Slicer\">\n",
       "<polygon fill=\"#ffffff\" points=\"602,-180 439,-180 439,-144 608,-144 608,-174 602,-180\" stroke=\"#000000\"/>\n",
       "<polyline fill=\"none\" points=\"602,-180 602,-174 \" stroke=\"#000000\"/>\n",
       "<polyline fill=\"none\" points=\"608,-174 602,-174 \" stroke=\"#000000\"/>\n",
       "<text fill=\"#a020f0\" font-family=\"Raleway\" font-size=\"14.00\" text-anchor=\"middle\" x=\"523.5\" y=\"-158.3\">Tracking Failure Origins</text>\n",
       "</a>\n",
       "</g>\n",
       "</g>\n",
       "<!-- Intro_Debugging&#45;&gt;Slicer -->\n",
       "<g class=\"edge\" id=\"edge6\">\n",
       "<title>Intro_Debugging-&gt;Slicer</title>\n",
       "<path d=\"M458.4538,-215.8314C469.1695,-206.9632 482.2189,-196.1637 493.809,-186.5718\" fill=\"none\" stroke=\"#000000\"/>\n",
       "<polygon fill=\"#000000\" points=\"496.0808,-189.2349 501.5533,-180.1628 491.6178,-183.8422 496.0808,-189.2349\" stroke=\"#000000\"/>\n",
       "</g>\n",
       "</g>\n",
       "</svg>"
      ],
      "text/plain": [
       "<IPython.core.display.SVG object>"
      ]
     },
     "execution_count": 2,
     "metadata": {},
     "output_type": "execute_result"
    }
   ],
   "source": [
    "SVG(filename='PICS/Sitemap.svg')"
   ]
  },
  {
   "cell_type": "markdown",
   "metadata": {
    "button": false,
    "new_sheet": false,
    "run_control": {
     "read_only": false
    },
    "slideshow": {
     "slide_type": "slide"
    }
   },
   "source": [
    "But since even this map can be overwhelming, here are a few _tours_ to get you started.  Each of these tours allows you to focus on a particular view, depending on whether you are a programmer, student, or researcher."
   ]
  },
  {
   "cell_type": "markdown",
   "metadata": {},
   "source": [
    "## The Pragmatic Programmer Tour\n",
    "\n",
    "You have a program to test.  You want to generate tests as quickly as possible and as thorough as possible. You don't care so much how something is implemented, but it should get the job done.  You want to get to the point.\n",
    "\n",
    "1. __Start with [Introduction to Testing](Intro_Debugging.ipynb) to get the basic concepts.__  (You would know most of these anyway, but it can't hurt to get quick reminders).\n",
    "\n",
    "2. __Use the simple fuzzers from [the chapter on Fuzzers](Fuzzer.ipynb)__ to test your program against the first random inputs.\n",
    "\n",
    "3. __Get [coverage](Coverage.ipynb) from your program__ and use coverage information to [guide test generation towards code coverage](GreyboxFuzzer.ipynb).\n",
    "\n",
    "4. __Define an [input grammar](Grammars.ipynb) for your program__ and use this grammar to thoroughly fuzz your program with syntactically correct inputs.  As fuzzer, we would recommend a [grammar coverage fuzzer](GrammarCoverageFuzzer), as this ensures coverage of input elements.\n",
    "\n",
    "5. If you want __more control over the generated inputs,__ consider [probabilistic fuzzing](ProbabilisticGrammarFuzzer.ipynb) and [fuzzing with generator functions](GeneratorGrammarFuzzer.ipynb).\n",
    "\n",
    "6. If you want to __deploy a large set of fuzzers__, learn how to [manage a large set of fuzzers](FuzzingInTheLarge.ipynb).\n",
    "\n",
    "In each of these chapters, start with the \"Synopsis\" parts; these will give you quick introductions on how to use things, as well as point you to relevant usage examples.  With this, enough said.  Get back to work and enjoy!"
   ]
  },
  {
   "cell_type": "markdown",
   "metadata": {
    "button": false,
    "new_sheet": true,
    "run_control": {
     "read_only": false
    }
   },
   "source": [
    "## Lessons Learned\n",
    "\n",
    "* You can go through the book from beginning to end...\n",
    "* ...but it may be preferable to follow a specific tour, based on your needs and resources.\n",
    "* Now [go and explore generating software tests](index.ipynb)!"
   ]
  }
 ],
 "metadata": {
  "ipub": {
   "bibliography": "fuzzingbook.bib",
   "toc": true
  },
  "kernelspec": {
   "display_name": "Python 3",
   "language": "python",
   "name": "python3"
  },
  "language_info": {
   "codemirror_mode": {
    "name": "ipython",
    "version": 3
   },
   "file_extension": ".py",
   "mimetype": "text/x-python",
   "name": "python",
   "nbconvert_exporter": "python",
   "pygments_lexer": "ipython3",
   "version": "3.6.10"
  },
  "toc": {
   "base_numbering": 1,
   "nav_menu": {},
   "number_sections": true,
   "sideBar": true,
   "skip_h1_title": true,
   "title_cell": "",
   "title_sidebar": "Contents",
   "toc_cell": false,
   "toc_position": {},
   "toc_section_display": true,
   "toc_window_display": true
  },
  "toc-autonumbering": false
 },
 "nbformat": 4,
 "nbformat_minor": 2
}
