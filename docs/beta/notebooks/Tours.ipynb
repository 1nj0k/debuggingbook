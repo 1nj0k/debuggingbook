{
 "cells": [
  {
   "cell_type": "markdown",
   "metadata": {
    "button": false,
    "new_sheet": false,
    "run_control": {
     "read_only": false
    },
    "slideshow": {
     "slide_type": "slide"
    }
   },
   "source": [
    "# Tours through the Book\n"
   ]
  },
  {
   "cell_type": "markdown",
   "metadata": {
    "button": false,
    "new_sheet": false,
    "run_control": {
     "read_only": false
    },
    "slideshow": {
     "slide_type": "slide"
    }
   },
   "source": [
    "While the chapters of this book can be read one after the other, there are many possible paths through the book.  In this graph, an arrow $A \\rightarrow B$ means that chapter $A$ is a prerequisite for chapter $B$.  You can pick arbitrary paths in this graph to get to the topics that interest you most:"
   ]
  },
  {
   "cell_type": "code",
   "execution_count": 1,
   "metadata": {
    "slideshow": {
     "slide_type": "skip"
    }
   },
   "outputs": [],
   "source": [
    "from IPython.display import SVG"
   ]
  },
  {
   "cell_type": "code",
   "execution_count": 2,
   "metadata": {
    "slideshow": {
     "slide_type": "fragment"
    }
   },
   "outputs": [
    {
     "data": {
      "image/svg+xml": [
       "<svg height=\"188pt\" viewBox=\"0.00 0.00 531.00 188.00\" width=\"531pt\" xmlns=\"http://www.w3.org/2000/svg\" xmlns:xlink=\"http://www.w3.org/1999/xlink\">\n",
       "<g class=\"graph\" id=\"graph0\" transform=\"scale(1 1) rotate(0) translate(4 184)\">\n",
       "<title>%3</title>\n",
       "<polygon fill=\"#ffffff\" points=\"-4,4 -4,-184 527,-184 527,4 -4,4\" stroke=\"transparent\"/>\n",
       "<!-- Tracer -->\n",
       "<g class=\"node\" id=\"node1\">\n",
       "<title>Tracer</title>\n",
       "<g id=\"a_node1\"><a xlink:href=\"Tracer.ipynb\" xlink:title=\"Tracer\">\n",
       "<polygon fill=\"#ffffff\" points=\"329,-108 194,-108 194,-72 335,-72 335,-102 329,-108\" stroke=\"#000000\"/>\n",
       "<polyline fill=\"none\" points=\"329,-108 329,-102 \" stroke=\"#000000\"/>\n",
       "<polyline fill=\"none\" points=\"335,-102 329,-102 \" stroke=\"#000000\"/>\n",
       "<text fill=\"#a020f0\" font-family=\"Raleway\" font-size=\"14.00\" text-anchor=\"middle\" x=\"264.5\" y=\"-86.3\">Tracing Executions</text>\n",
       "</a>\n",
       "</g>\n",
       "</g>\n",
       "<!-- Debugger -->\n",
       "<g class=\"node\" id=\"node2\">\n",
       "<title>Debugger</title>\n",
       "<g id=\"a_node2\"><a xlink:href=\"Debugger.ipynb\" xlink:title=\"Debugger\">\n",
       "<polygon fill=\"#ffffff\" points=\"157,-36 0,-36 0,0 163,0 163,-30 157,-36\" stroke=\"#000000\"/>\n",
       "<polyline fill=\"none\" points=\"157,-36 157,-30 \" stroke=\"#000000\"/>\n",
       "<polyline fill=\"none\" points=\"163,-30 157,-30 \" stroke=\"#000000\"/>\n",
       "<text fill=\"#a020f0\" font-family=\"Raleway\" font-size=\"14.00\" text-anchor=\"middle\" x=\"81.5\" y=\"-14.3\">How Debuggers Work</text>\n",
       "</a>\n",
       "</g>\n",
       "</g>\n",
       "<!-- Tracer&#45;&gt;Debugger -->\n",
       "<g class=\"edge\" id=\"edge1\">\n",
       "<title>Tracer-&gt;Debugger</title>\n",
       "<path d=\"M218.3214,-71.8314C193.5199,-62.0734 162.775,-49.977 136.7157,-39.7242\" fill=\"none\" stroke=\"#000000\"/>\n",
       "<polygon fill=\"#000000\" points=\"137.9337,-36.4423 127.3466,-36.038 135.3708,-42.9563 137.9337,-36.4423\" stroke=\"#000000\"/>\n",
       "</g>\n",
       "<!-- Assertions -->\n",
       "<g class=\"node\" id=\"node3\">\n",
       "<title>Assertions</title>\n",
       "<g id=\"a_node3\"><a xlink:href=\"Assertions.ipynb\" xlink:title=\"Assertions\">\n",
       "<polygon fill=\"#ffffff\" points=\"341.5,-36 181.5,-36 181.5,0 347.5,0 347.5,-30 341.5,-36\" stroke=\"#000000\"/>\n",
       "<polyline fill=\"none\" points=\"341.5,-36 341.5,-30 \" stroke=\"#000000\"/>\n",
       "<polyline fill=\"none\" points=\"347.5,-30 341.5,-30 \" stroke=\"#000000\"/>\n",
       "<text fill=\"#a020f0\" font-family=\"Raleway\" font-size=\"14.00\" text-anchor=\"middle\" x=\"264.5\" y=\"-14.3\">Asserting Expectations</text>\n",
       "</a>\n",
       "</g>\n",
       "</g>\n",
       "<!-- Tracer&#45;&gt;Assertions -->\n",
       "<g class=\"edge\" id=\"edge2\">\n",
       "<title>Tracer-&gt;Assertions</title>\n",
       "<path d=\"M264.5,-71.8314C264.5,-64.131 264.5,-54.9743 264.5,-46.4166\" fill=\"none\" stroke=\"#000000\"/>\n",
       "<polygon fill=\"#000000\" points=\"268.0001,-46.4132 264.5,-36.4133 261.0001,-46.4133 268.0001,-46.4132\" stroke=\"#000000\"/>\n",
       "</g>\n",
       "<!-- StatisticalDebugger -->\n",
       "<g class=\"node\" id=\"node4\">\n",
       "<title>StatisticalDebugger</title>\n",
       "<g id=\"a_node4\"><a xlink:href=\"StatisticalDebugger.ipynb\" xlink:title=\"StatisticalDebugger\">\n",
       "<polygon fill=\"#ffffff\" points=\"517,-36 366,-36 366,0 523,0 523,-30 517,-36\" stroke=\"#000000\"/>\n",
       "<polyline fill=\"none\" points=\"517,-36 517,-30 \" stroke=\"#000000\"/>\n",
       "<polyline fill=\"none\" points=\"523,-30 517,-30 \" stroke=\"#000000\"/>\n",
       "<text fill=\"#a020f0\" font-family=\"Raleway\" font-size=\"14.00\" text-anchor=\"middle\" x=\"444.5\" y=\"-14.3\">Statistical Debugging</text>\n",
       "</a>\n",
       "</g>\n",
       "</g>\n",
       "<!-- Tracer&#45;&gt;StatisticalDebugger -->\n",
       "<g class=\"edge\" id=\"edge3\">\n",
       "<title>Tracer-&gt;StatisticalDebugger</title>\n",
       "<path d=\"M309.9216,-71.8314C334.2095,-62.1162 364.2922,-50.0831 389.852,-39.8592\" fill=\"none\" stroke=\"#000000\"/>\n",
       "<polygon fill=\"#000000\" points=\"391.4201,-43.0016 399.405,-36.038 388.8204,-36.5023 391.4201,-43.0016\" stroke=\"#000000\"/>\n",
       "</g>\n",
       "<!-- Intro_Debugging -->\n",
       "<g class=\"node\" id=\"node5\">\n",
       "<title>Intro_Debugging</title>\n",
       "<g id=\"a_node5\"><a xlink:href=\"Intro_Debugging.ipynb\" xlink:title=\"Intro_Debugging\">\n",
       "<polygon fill=\"#ffffff\" points=\"353.5,-180 169.5,-180 169.5,-144 359.5,-144 359.5,-174 353.5,-180\" stroke=\"#000000\"/>\n",
       "<polyline fill=\"none\" points=\"353.5,-180 353.5,-174 \" stroke=\"#000000\"/>\n",
       "<polyline fill=\"none\" points=\"359.5,-174 353.5,-174 \" stroke=\"#000000\"/>\n",
       "<text fill=\"#a020f0\" font-family=\"Raleway\" font-size=\"14.00\" text-anchor=\"middle\" x=\"264.5\" y=\"-158.3\">Introduction to Debugging</text>\n",
       "</a>\n",
       "</g>\n",
       "</g>\n",
       "<!-- Intro_Debugging&#45;&gt;Tracer -->\n",
       "<g class=\"edge\" id=\"edge4\">\n",
       "<title>Intro_Debugging-&gt;Tracer</title>\n",
       "<path d=\"M264.5,-143.8314C264.5,-136.131 264.5,-126.9743 264.5,-118.4166\" fill=\"none\" stroke=\"#000000\"/>\n",
       "<polygon fill=\"#000000\" points=\"268.0001,-118.4132 264.5,-108.4133 261.0001,-118.4133 268.0001,-118.4132\" stroke=\"#000000\"/>\n",
       "</g>\n",
       "</g>\n",
       "</svg>"
      ],
      "text/plain": [
       "<IPython.core.display.SVG object>"
      ]
     },
     "execution_count": 2,
     "metadata": {},
     "output_type": "execute_result"
    }
   ],
   "source": [
    "SVG(filename='PICS/Sitemap.svg')"
   ]
  },
  {
   "cell_type": "markdown",
   "metadata": {
    "button": false,
    "new_sheet": false,
    "run_control": {
     "read_only": false
    },
    "slideshow": {
     "slide_type": "slide"
    }
   },
   "source": [
    "But since even this map can be overwhelming, here are a few _tours_ to get you started.  Each of these tours allows you to focus on a particular view, depending on whether you are a programmer, student, or researcher."
   ]
  },
  {
   "cell_type": "markdown",
   "metadata": {
    "slideshow": {
     "slide_type": "slide"
    }
   },
   "source": [
    "## The Pragmatic Programmer Tour\n",
    "\n",
    "You have a program to test.  You want to generate tests as quickly as possible and as thorough as possible. You don't care so much how something is implemented, but it should get the job done.  You want to get to the point.\n",
    "\n",
    "1. __Start with [Introduction to Testing](Intro_Debugging.ipynb) to get the basic concepts.__  (You would know most of these anyway, but it can't hurt to get quick reminders).\n",
    "\n",
    "2. __Use the simple fuzzers from [the chapter on Fuzzers](Fuzzer.ipynb)__ to test your program against the first random inputs.\n",
    "\n",
    "3. __Get [coverage](Coverage.ipynb) from your program__ and use coverage information to [guide test generation towards code coverage](GreyboxFuzzer.ipynb).\n",
    "\n",
    "4. __Define an [input grammar](Grammars.ipynb) for your program__ and use this grammar to thoroughly fuzz your program with syntactically correct inputs.  As fuzzer, we would recommend a [grammar coverage fuzzer](GrammarCoverageFuzzer), as this ensures coverage of input elements.\n",
    "\n",
    "5. If you want __more control over the generated inputs,__ consider [probabilistic fuzzing](ProbabilisticGrammarFuzzer.ipynb) and [fuzzing with generator functions](GeneratorGrammarFuzzer.ipynb).\n",
    "\n",
    "6. If you want to __deploy a large set of fuzzers__, learn how to [manage a large set of fuzzers](FuzzingInTheLarge.ipynb).\n",
    "\n",
    "In each of these chapters, start with the \"Synopsis\" parts; these will give you quick introductions on how to use things, as well as point you to relevant usage examples.  With this, enough said.  Get back to work and enjoy!"
   ]
  },
  {
   "cell_type": "markdown",
   "metadata": {
    "button": false,
    "new_sheet": true,
    "run_control": {
     "read_only": false
    },
    "slideshow": {
     "slide_type": "slide"
    }
   },
   "source": [
    "## Lessons Learned\n",
    "\n",
    "* You can go through the book from beginning to end...\n",
    "* ...but it may be preferable to follow a specific tour, based on your needs and resources.\n",
    "* Now [go and explore generating software tests](index.ipynb)!"
   ]
  }
 ],
 "metadata": {
  "ipub": {
   "bibliography": "fuzzingbook.bib",
   "toc": true
  },
  "kernelspec": {
   "display_name": "Python 3",
   "language": "python",
   "name": "python3"
  },
  "language_info": {
   "codemirror_mode": {
    "name": "ipython",
    "version": 3
   },
   "file_extension": ".py",
   "mimetype": "text/x-python",
   "name": "python",
   "nbconvert_exporter": "python",
   "pygments_lexer": "ipython3",
   "version": "3.6.10"
  },
  "toc": {
   "base_numbering": 1,
   "nav_menu": {},
   "number_sections": true,
   "sideBar": true,
   "skip_h1_title": true,
   "title_cell": "",
   "title_sidebar": "Contents",
   "toc_cell": false,
   "toc_position": {},
   "toc_section_display": true,
   "toc_window_display": true
  },
  "toc-autonumbering": false
 },
 "nbformat": 4,
 "nbformat_minor": 2
}
