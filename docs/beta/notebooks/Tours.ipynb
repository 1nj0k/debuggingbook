{
 "cells": [
  {
   "cell_type": "markdown",
   "metadata": {
    "button": false,
    "new_sheet": false,
    "run_control": {
     "read_only": false
    },
    "slideshow": {
     "slide_type": "slide"
    }
   },
   "source": [
    "# Tours through the Book\n"
   ]
  },
  {
   "cell_type": "markdown",
   "metadata": {
    "button": false,
    "new_sheet": false,
    "run_control": {
     "read_only": false
    },
    "slideshow": {
     "slide_type": "slide"
    }
   },
   "source": [
    "While the chapters of this book can be read one after the other, there are many possible paths through the book.  In this graph, an arrow _A_ → _B_ means that chapter _A_ is a prerequisite for chapter _B_.  You can pick arbitrary paths in this graph to get to the topics that interest you most:"
   ]
  },
  {
   "cell_type": "code",
   "execution_count": 1,
   "metadata": {
    "execution": {
     "iopub.execute_input": "2021-05-25T10:22:59.558062Z",
     "iopub.status.busy": "2021-05-25T10:22:59.557069Z",
     "iopub.status.idle": "2021-05-25T10:22:59.720785Z",
     "shell.execute_reply": "2021-05-25T10:22:59.721213Z"
    },
    "slideshow": {
     "slide_type": "fragment"
    }
   },
   "outputs": [],
   "source": [
    "# ignore\n",
    "from bookutils import rich_output"
   ]
  },
  {
   "cell_type": "code",
   "execution_count": 2,
   "metadata": {
    "execution": {
     "iopub.execute_input": "2021-05-25T10:22:59.726219Z",
     "iopub.status.busy": "2021-05-25T10:22:59.725141Z",
     "iopub.status.idle": "2021-05-25T10:22:59.748390Z",
     "shell.execute_reply": "2021-05-25T10:22:59.749000Z"
    },
    "slideshow": {
     "slide_type": "subslide"
    }
   },
   "outputs": [
    {
     "data": {
      "image/svg+xml": [
       "<svg height=\"268pt\" viewBox=\"0.00 0.00 696.00 268.00\" width=\"696pt\" xmlns=\"http://www.w3.org/2000/svg\" xmlns:xlink=\"http://www.w3.org/1999/xlink\">\n",
       "<g class=\"graph\" id=\"graph0\" transform=\"scale(1 1) rotate(0) translate(4 264)\">\n",
       "<title>%3</title>\n",
       "<polygon fill=\"#ffffff\" points=\"-4,4 -4,-264 692,-264 692,4 -4,4\" stroke=\"transparent\"/>\n",
       "<!-- Tracer -->\n",
       "<g class=\"node\" id=\"node1\">\n",
       "<title>Tracer</title>\n",
       "<g id=\"a_node1\"><a xlink:href=\"Tracer.ipynb\" xlink:title=\"Tracing Executions (Tracer)\n",
       "\n",
       "In this chapter, we show how to observe program state during an execution – a prerequisite for logging and interactive debugging. Thanks to the power of Python, we can do this in a few lines of code.\">\n",
       "<polygon fill=\"#ffffff\" points=\"427.5,-185 293.5,-185 293.5,-149 433.5,-149 433.5,-179 427.5,-185\" stroke=\"#000000\"/>\n",
       "<polyline fill=\"none\" points=\"427.5,-185 427.5,-179 \" stroke=\"#000000\"/>\n",
       "<polyline fill=\"none\" points=\"433.5,-179 427.5,-179 \" stroke=\"#000000\"/>\n",
       "<text fill=\"#6a0dad\" font-family=\"Raleway, Helvetica, Arial, sans-serif\" font-size=\"14.00\" text-anchor=\"middle\" x=\"363.5\" y=\"-163.3\">Tracing Executions</text>\n",
       "</a>\n",
       "</g>\n",
       "</g>\n",
       "<!-- Debugger -->\n",
       "<g class=\"node\" id=\"node2\">\n",
       "<title>Debugger</title>\n",
       "<g id=\"a_node2\"><a xlink:href=\"Debugger.ipynb\" xlink:title=\"How Debuggers Work (Debugger)\n",
       "\n",
       "Interactive debuggers are tools that allow you to selectively observe the program state during an execution.  In this chapter, you will learn how such debuggers work – by building your own debugger.\">\n",
       "<polygon fill=\"#ffffff\" points=\"155,-111 0,-111 0,-75 161,-75 161,-105 155,-111\" stroke=\"#000000\"/>\n",
       "<polyline fill=\"none\" points=\"155,-111 155,-105 \" stroke=\"#000000\"/>\n",
       "<polyline fill=\"none\" points=\"161,-105 155,-105 \" stroke=\"#000000\"/>\n",
       "<text fill=\"#6a0dad\" font-family=\"Raleway, Helvetica, Arial, sans-serif\" font-size=\"14.00\" text-anchor=\"middle\" x=\"80.5\" y=\"-89.3\">How Debuggers Work</text>\n",
       "</a>\n",
       "</g>\n",
       "</g>\n",
       "<!-- Tracer&#45;&gt;Debugger -->\n",
       "<g class=\"edge\" id=\"edge1\">\n",
       "<title>Tracer-&gt;Debugger</title>\n",
       "<path d=\"M294.6323,-148.9922C253.8015,-138.3156 201.9006,-124.7443 159.4219,-113.6368\" fill=\"none\" stroke=\"#000000\"/>\n",
       "<polygon fill=\"#000000\" points=\"160.2367,-110.2323 149.6765,-111.0886 158.4658,-117.0046 160.2367,-110.2323\" stroke=\"#000000\"/>\n",
       "</g>\n",
       "<!-- Assertions -->\n",
       "<g class=\"node\" id=\"node3\">\n",
       "<title>Assertions</title>\n",
       "<g id=\"a_node3\"><a xlink:href=\"Assertions.ipynb\" xlink:title=\"Asserting Expectations (Assertions)\n",
       "\n",
       "In the previous chapters on tracing and interactive debugging, we have seen how to observe executions. By checking our observations against our expectations, we can find out when and how the program state is faulty. So far, we have assumed that this check would be done by humans – that is, us. However, having this check done by a computer, for instance as part of the execution, is infinitely more rigorous and efficient. In this chapter, we introduce techniques to specify our expectations and to check them at runtime, enabling us to detect faults right as they occur.\">\n",
       "<polygon fill=\"#ffffff\" points=\"273.5,-112 179.5,-112 179.5,-74 279.5,-74 279.5,-106 273.5,-112\" stroke=\"#000000\"/>\n",
       "<polyline fill=\"none\" points=\"273.5,-112 273.5,-106 \" stroke=\"#000000\"/>\n",
       "<polyline fill=\"none\" points=\"279.5,-106 273.5,-106 \" stroke=\"#000000\"/>\n",
       "<text fill=\"#6a0dad\" font-family=\"Raleway, Helvetica, Arial, sans-serif\" font-size=\"14.00\" text-anchor=\"middle\" x=\"229.5\" y=\"-96.8\">Asserting</text>\n",
       "<text fill=\"#6a0dad\" font-family=\"Raleway, Helvetica, Arial, sans-serif\" font-size=\"14.00\" text-anchor=\"middle\" x=\"229.5\" y=\"-81.8\">Expectations</text>\n",
       "</a>\n",
       "</g>\n",
       "</g>\n",
       "<!-- Tracer&#45;&gt;Assertions -->\n",
       "<g class=\"edge\" id=\"edge2\">\n",
       "<title>Tracer-&gt;Assertions</title>\n",
       "<path d=\"M330.7199,-148.8976C313.4076,-139.3371 291.9286,-127.4755 273.2167,-117.142\" fill=\"none\" stroke=\"#000000\"/>\n",
       "<polygon fill=\"#000000\" points=\"274.7293,-113.9792 264.2835,-112.2088 271.3453,-120.1069 274.7293,-113.9792\" stroke=\"#000000\"/>\n",
       "</g>\n",
       "<!-- DeltaDebugger -->\n",
       "<g class=\"node\" id=\"node4\">\n",
       "<title>DeltaDebugger</title>\n",
       "<g id=\"a_node4\"><a xlink:href=\"DeltaDebugger.ipynb\" xlink:title=\"Reducing Failure-Inducing Inputs (DeltaDebugger)\n",
       "\n",
       "A standard problem in debugging is this: Your program fails after processing some large input. Only a part of this input, however, is responsible for the failure. Reducing the input to a failure-inducing minimum not only eases debugging – it also helps in understanding why and when the program fails. In this chapter, we present techniques that automatically reduce and simplify failure-inducing inputs to a minimum, notably the popular Delta Debugging technique.\">\n",
       "<polygon fill=\"#ffffff\" points=\"423.5,-112 297.5,-112 297.5,-74 429.5,-74 429.5,-106 423.5,-112\" stroke=\"#000000\"/>\n",
       "<polyline fill=\"none\" points=\"423.5,-112 423.5,-106 \" stroke=\"#000000\"/>\n",
       "<polyline fill=\"none\" points=\"429.5,-106 423.5,-106 \" stroke=\"#000000\"/>\n",
       "<text fill=\"#6a0dad\" font-family=\"Raleway, Helvetica, Arial, sans-serif\" font-size=\"14.00\" text-anchor=\"middle\" x=\"363.5\" y=\"-96.8\">Reducing Failure-</text>\n",
       "<text fill=\"#6a0dad\" font-family=\"Raleway, Helvetica, Arial, sans-serif\" font-size=\"14.00\" text-anchor=\"middle\" x=\"363.5\" y=\"-81.8\">Inducing Inputs</text>\n",
       "</a>\n",
       "</g>\n",
       "</g>\n",
       "<!-- Tracer&#45;&gt;DeltaDebugger -->\n",
       "<g class=\"edge\" id=\"edge3\">\n",
       "<title>Tracer-&gt;DeltaDebugger</title>\n",
       "<path d=\"M363.5,-148.7079C363.5,-140.7096 363.5,-131.1287 363.5,-122.1859\" fill=\"none\" stroke=\"#000000\"/>\n",
       "<polygon fill=\"#000000\" points=\"367.0001,-122.1139 363.5,-112.114 360.0001,-122.114 367.0001,-122.1139\" stroke=\"#000000\"/>\n",
       "</g>\n",
       "<!-- StatisticalDebugger -->\n",
       "<g class=\"node\" id=\"node5\">\n",
       "<title>StatisticalDebugger</title>\n",
       "<g id=\"a_node5\"><a xlink:href=\"StatisticalDebugger.ipynb\" xlink:title=\"Statistical Debugging (StatisticalDebugger)\n",
       "\n",
       "In this chapter, we introduce statistical debugging – the idea that specific events during execution could be statistically correlated with failures. We start with coverage of individual lines and then proceed towards further execution features.\">\n",
       "<polygon fill=\"#ffffff\" points=\"531,-112 448,-112 448,-74 537,-74 537,-106 531,-112\" stroke=\"#000000\"/>\n",
       "<polyline fill=\"none\" points=\"531,-112 531,-106 \" stroke=\"#000000\"/>\n",
       "<polyline fill=\"none\" points=\"537,-106 531,-106 \" stroke=\"#000000\"/>\n",
       "<text fill=\"#6a0dad\" font-family=\"Raleway, Helvetica, Arial, sans-serif\" font-size=\"14.00\" text-anchor=\"middle\" x=\"492.5\" y=\"-96.8\">Statistical</text>\n",
       "<text fill=\"#6a0dad\" font-family=\"Raleway, Helvetica, Arial, sans-serif\" font-size=\"14.00\" text-anchor=\"middle\" x=\"492.5\" y=\"-81.8\">Debugging</text>\n",
       "</a>\n",
       "</g>\n",
       "</g>\n",
       "<!-- Tracer&#45;&gt;StatisticalDebugger -->\n",
       "<g class=\"edge\" id=\"edge4\">\n",
       "<title>Tracer-&gt;StatisticalDebugger</title>\n",
       "<path d=\"M395.057,-148.8976C411.5717,-139.424 432.0252,-127.691 449.9226,-117.4242\" fill=\"none\" stroke=\"#000000\"/>\n",
       "<polygon fill=\"#000000\" points=\"452.0818,-120.2206 459.0144,-112.2088 448.5987,-114.1487 452.0818,-120.2206\" stroke=\"#000000\"/>\n",
       "</g>\n",
       "<!-- DynamicInvariants -->\n",
       "<g class=\"node\" id=\"node6\">\n",
       "<title>DynamicInvariants</title>\n",
       "<g id=\"a_node6\"><a xlink:href=\"DynamicInvariants.ipynb\" xlink:title=\"Mining Function Specifications (DynamicInvariants)\n",
       "\n",
       "In the chapter on assertions, we have seen how important it is to check whether the result is as expected.  In this chapter, we introduce a technique that allows us to mine function specifications from a set of given executions, resulting in abstract and formal descriptions of what the function expects and what it delivers.\">\n",
       "<polygon fill=\"#ffffff\" points=\"669.5,-112 555.5,-112 555.5,-74 675.5,-74 675.5,-106 669.5,-112\" stroke=\"#000000\"/>\n",
       "<polyline fill=\"none\" points=\"669.5,-112 669.5,-106 \" stroke=\"#000000\"/>\n",
       "<polyline fill=\"none\" points=\"675.5,-106 669.5,-106 \" stroke=\"#000000\"/>\n",
       "<text fill=\"#6a0dad\" font-family=\"Raleway, Helvetica, Arial, sans-serif\" font-size=\"14.00\" text-anchor=\"middle\" x=\"615.5\" y=\"-96.8\">Mining Function</text>\n",
       "<text fill=\"#6a0dad\" font-family=\"Raleway, Helvetica, Arial, sans-serif\" font-size=\"14.00\" text-anchor=\"middle\" x=\"615.5\" y=\"-81.8\">Specifications</text>\n",
       "</a>\n",
       "</g>\n",
       "</g>\n",
       "<!-- Tracer&#45;&gt;DynamicInvariants -->\n",
       "<g class=\"edge\" id=\"edge5\">\n",
       "<title>Tracer-&gt;DynamicInvariants</title>\n",
       "<path d=\"M424.8239,-148.9922C461.2006,-138.3101 507.4447,-124.7305 545.2809,-113.6199\" fill=\"none\" stroke=\"#000000\"/>\n",
       "<polygon fill=\"#000000\" points=\"546.6011,-116.8801 555.2098,-110.7043 544.6288,-110.1637 546.6011,-116.8801\" stroke=\"#000000\"/>\n",
       "</g>\n",
       "<!-- ChangeDebugger -->\n",
       "<g class=\"node\" id=\"node10\">\n",
       "<title>ChangeDebugger</title>\n",
       "<g id=\"a_node10\"><a xlink:href=\"ChangeDebugger.ipynb\" xlink:title=\"Isolating Failure-Inducing Changes (ChangeDebugger)\n",
       "\n",
       "&quot;Yesterday, my program worked. Today, it does not. Why?&quot; In debugging, as elsewhere in software development, code keeps on changing. Thus, it can happen that a piece of code that yesterday was working perfectly, today no longer runs – because we (or others) have made some changes to it that cause it to fail. The good news is that for debugging, we can actually exploit this version history to narrow down the changes that caused the failure – be it by us or by others.\">\n",
       "<polygon fill=\"#ffffff\" points=\"169,-38 42,-38 42,0 175,0 175,-32 169,-38\" stroke=\"#000000\"/>\n",
       "<polyline fill=\"none\" points=\"169,-38 169,-32 \" stroke=\"#000000\"/>\n",
       "<polyline fill=\"none\" points=\"175,-32 169,-32 \" stroke=\"#000000\"/>\n",
       "<text fill=\"#6a0dad\" font-family=\"Raleway, Helvetica, Arial, sans-serif\" font-size=\"14.00\" text-anchor=\"middle\" x=\"108.5\" y=\"-22.8\">Isolating Failure-</text>\n",
       "<text fill=\"#6a0dad\" font-family=\"Raleway, Helvetica, Arial, sans-serif\" font-size=\"14.00\" text-anchor=\"middle\" x=\"108.5\" y=\"-7.8\">Inducing Changes</text>\n",
       "</a>\n",
       "</g>\n",
       "</g>\n",
       "<!-- DeltaDebugger&#45;&gt;ChangeDebugger -->\n",
       "<g class=\"edge\" id=\"edge9\">\n",
       "<title>DeltaDebugger-&gt;ChangeDebugger</title>\n",
       "<path d=\"M297.8312,-73.9432C263.1654,-63.8833 220.4535,-51.4885 184.3764,-41.019\" fill=\"none\" stroke=\"#000000\"/>\n",
       "<polygon fill=\"#000000\" points=\"184.9683,-37.5465 174.389,-38.1207 183.0173,-44.2691 184.9683,-37.5465\" stroke=\"#000000\"/>\n",
       "</g>\n",
       "<!-- DDSetDebugger -->\n",
       "<g class=\"node\" id=\"node11\">\n",
       "<title>DDSetDebugger</title>\n",
       "<g id=\"a_node11\"><a xlink:href=\"DDSetDebugger.ipynb\" xlink:title=\"Generalizing Failure Circumstances (DDSetDebugger)\n",
       "\n",
       "One central question in debugging is: Does this bug occur in other situations, too? In this chapter, we present a technique that is set to generalize the circumstances under which a failure occurs. The DDSET algorithm takes a failure-inducing input, breaks it into individual elements. For each element, it tries to find whether it can be replaced by others in the same category, and if so, it generalizes the concrete element to the very category. The result is a pattern that characterizes the failure condition: &quot;The failure occurs for all inputs of the form (&lt;expr&gt; * &lt;expr&gt;).\">\n",
       "<polygon fill=\"#ffffff\" points=\"332,-38 193,-38 193,0 338,0 338,-32 332,-38\" stroke=\"#000000\"/>\n",
       "<polyline fill=\"none\" points=\"332,-38 332,-32 \" stroke=\"#000000\"/>\n",
       "<polyline fill=\"none\" points=\"338,-32 332,-32 \" stroke=\"#000000\"/>\n",
       "<text fill=\"#6a0dad\" font-family=\"Raleway, Helvetica, Arial, sans-serif\" font-size=\"14.00\" text-anchor=\"middle\" x=\"265.5\" y=\"-22.8\">Generalizing Failure</text>\n",
       "<text fill=\"#6a0dad\" font-family=\"Raleway, Helvetica, Arial, sans-serif\" font-size=\"14.00\" text-anchor=\"middle\" x=\"265.5\" y=\"-7.8\">Circumstances</text>\n",
       "</a>\n",
       "</g>\n",
       "</g>\n",
       "<!-- DeltaDebugger&#45;&gt;DDSetDebugger -->\n",
       "<g class=\"edge\" id=\"edge10\">\n",
       "<title>DeltaDebugger-&gt;DDSetDebugger</title>\n",
       "<path d=\"M338.2626,-73.9432C326.353,-64.9502 311.9723,-54.0913 299.151,-44.41\" fill=\"none\" stroke=\"#000000\"/>\n",
       "<polygon fill=\"#000000\" points=\"301.0821,-41.4824 290.9925,-38.2495 296.8638,-47.0687 301.0821,-41.4824\" stroke=\"#000000\"/>\n",
       "</g>\n",
       "<!-- PerformanceDebugger -->\n",
       "<g class=\"node\" id=\"node12\">\n",
       "<title>PerformanceDebugger</title>\n",
       "<g id=\"a_node12\"><a xlink:href=\"PerformanceDebugger.ipynb\" xlink:title=\"Debugging Performance Issues (PerformanceDebugger)\n",
       "\n",
       "Most chapters of this book deal with functional issues – that is, issues related to the functionality (or its absence) of the code in question. However, debugging can also involve nonfunctional issues, however – performance, usability, reliability, and more. In this chapter, we give a short introduction on how to debug such nonfunctional issues, notably performance issues.\">\n",
       "<polygon fill=\"#ffffff\" points=\"495,-38 356,-38 356,0 501,0 501,-32 495,-38\" stroke=\"#000000\"/>\n",
       "<polyline fill=\"none\" points=\"495,-38 495,-32 \" stroke=\"#000000\"/>\n",
       "<polyline fill=\"none\" points=\"501,-32 495,-32 \" stroke=\"#000000\"/>\n",
       "<text fill=\"#6a0dad\" font-family=\"Raleway, Helvetica, Arial, sans-serif\" font-size=\"14.00\" text-anchor=\"middle\" x=\"428.5\" y=\"-22.8\">Debugging</text>\n",
       "<text fill=\"#6a0dad\" font-family=\"Raleway, Helvetica, Arial, sans-serif\" font-size=\"14.00\" text-anchor=\"middle\" x=\"428.5\" y=\"-7.8\">Performance Issues</text>\n",
       "</a>\n",
       "</g>\n",
       "</g>\n",
       "<!-- DeltaDebugger&#45;&gt;PerformanceDebugger -->\n",
       "<g class=\"edge\" id=\"edge11\">\n",
       "<title>DeltaDebugger-&gt;PerformanceDebugger</title>\n",
       "<path d=\"M380.2391,-73.9432C387.7622,-65.3784 396.7719,-55.1213 404.9588,-45.8007\" fill=\"none\" stroke=\"#000000\"/>\n",
       "<polygon fill=\"#000000\" points=\"407.6219,-48.0725 411.5917,-38.2495 402.3626,-43.4528 407.6219,-48.0725\" stroke=\"#000000\"/>\n",
       "</g>\n",
       "<!-- Repairer -->\n",
       "<g class=\"node\" id=\"node13\">\n",
       "<title>Repairer</title>\n",
       "<g id=\"a_node13\"><a xlink:href=\"Repairer.ipynb\" xlink:title=\"Repairing Code Automatically (Repairer)\n",
       "\n",
       "So far, we have discussed how to track failures and how to locate defects in code. Let us now discuss how to repair defects – that is, to correct the code such that the failure no longer occurs. We will discuss how to repair code automatically – by systematically searching through possible fixes and evolving the most promising candidates.\">\n",
       "<polygon fill=\"#ffffff\" points=\"629.5,-38 519.5,-38 519.5,0 635.5,0 635.5,-32 629.5,-38\" stroke=\"#000000\"/>\n",
       "<polyline fill=\"none\" points=\"629.5,-38 629.5,-32 \" stroke=\"#000000\"/>\n",
       "<polyline fill=\"none\" points=\"635.5,-32 629.5,-32 \" stroke=\"#000000\"/>\n",
       "<text fill=\"#6a0dad\" font-family=\"Raleway, Helvetica, Arial, sans-serif\" font-size=\"14.00\" text-anchor=\"middle\" x=\"577.5\" y=\"-22.8\">Repairing Code</text>\n",
       "<text fill=\"#6a0dad\" font-family=\"Raleway, Helvetica, Arial, sans-serif\" font-size=\"14.00\" text-anchor=\"middle\" x=\"577.5\" y=\"-7.8\">Automatically</text>\n",
       "</a>\n",
       "</g>\n",
       "</g>\n",
       "<!-- DeltaDebugger&#45;&gt;Repairer -->\n",
       "<g class=\"edge\" id=\"edge12\">\n",
       "<title>DeltaDebugger-&gt;Repairer</title>\n",
       "<path d=\"M418.6103,-73.9432C447.3294,-64.0123 482.6289,-51.8059 512.6561,-41.4227\" fill=\"none\" stroke=\"#000000\"/>\n",
       "<polygon fill=\"#000000\" points=\"513.8978,-44.6967 522.2049,-38.1207 511.6102,-38.081 513.8978,-44.6967\" stroke=\"#000000\"/>\n",
       "</g>\n",
       "<!-- StatisticalDebugger&#45;&gt;PerformanceDebugger -->\n",
       "<g class=\"edge\" id=\"edge13\">\n",
       "<title>StatisticalDebugger-&gt;PerformanceDebugger</title>\n",
       "<path d=\"M476.0184,-73.9432C468.6852,-65.4641 459.9173,-55.3262 451.9211,-46.0806\" fill=\"none\" stroke=\"#000000\"/>\n",
       "<polygon fill=\"#000000\" points=\"454.337,-43.5236 445.1482,-38.2495 449.0424,-48.1027 454.337,-43.5236\" stroke=\"#000000\"/>\n",
       "</g>\n",
       "<!-- StatisticalDebugger&#45;&gt;Repairer -->\n",
       "<g class=\"edge\" id=\"edge14\">\n",
       "<title>StatisticalDebugger-&gt;Repairer</title>\n",
       "<path d=\"M514.3896,-73.9432C524.5226,-65.1215 536.718,-54.5043 547.676,-44.9645\" fill=\"none\" stroke=\"#000000\"/>\n",
       "<polygon fill=\"#000000\" points=\"550.1451,-47.4555 555.3891,-38.2495 545.5487,-42.1759 550.1451,-47.4555\" stroke=\"#000000\"/>\n",
       "</g>\n",
       "<!-- Intro_Debugging -->\n",
       "<g class=\"node\" id=\"node7\">\n",
       "<title>Intro_Debugging</title>\n",
       "<g id=\"a_node7\"><a xlink:href=\"Intro_Debugging.ipynb\" xlink:title=\"Introduction to Debugging (Intro_Debugging)\n",
       "\n",
       "In this book, we want to explore debugging - the art and science of fixing bugs in computer software. In particular, we want to explore techniques that automatically answer questions like: Where is the bug? When does it occur? And how can we repair it? But before we start automating the debugging process, we first need to understand what this process is.\">\n",
       "<polygon fill=\"#ffffff\" points=\"556.5,-260 450.5,-260 450.5,-222 562.5,-222 562.5,-254 556.5,-260\" stroke=\"#000000\"/>\n",
       "<polyline fill=\"none\" points=\"556.5,-260 556.5,-254 \" stroke=\"#000000\"/>\n",
       "<polyline fill=\"none\" points=\"562.5,-254 556.5,-254 \" stroke=\"#000000\"/>\n",
       "<text fill=\"#6a0dad\" font-family=\"Raleway, Helvetica, Arial, sans-serif\" font-size=\"14.00\" text-anchor=\"middle\" x=\"506.5\" y=\"-244.8\">Introduction to</text>\n",
       "<text fill=\"#6a0dad\" font-family=\"Raleway, Helvetica, Arial, sans-serif\" font-size=\"14.00\" text-anchor=\"middle\" x=\"506.5\" y=\"-229.8\">Debugging</text>\n",
       "</a>\n",
       "</g>\n",
       "</g>\n",
       "<!-- Intro_Debugging&#45;&gt;Tracer -->\n",
       "<g class=\"edge\" id=\"edge6\">\n",
       "<title>Intro_Debugging-&gt;Tracer</title>\n",
       "<path d=\"M469.6739,-221.9432C450.8139,-212.1834 427.7068,-200.2259 407.8706,-189.961\" fill=\"none\" stroke=\"#000000\"/>\n",
       "<polygon fill=\"#000000\" points=\"409.2121,-186.7144 398.7222,-185.2269 405.9949,-192.9313 409.2121,-186.7144\" stroke=\"#000000\"/>\n",
       "</g>\n",
       "<!-- Slicer -->\n",
       "<g class=\"node\" id=\"node8\">\n",
       "<title>Slicer</title>\n",
       "<g id=\"a_node8\"><a xlink:href=\"Slicer.ipynb\" xlink:title=\"Tracking Failure Origins (Slicer)\n",
       "\n",
       "The question of &quot;Where does this value come from?&quot; is fundamental for debugging. Which earlier variables could possibly have influenced the current erroneous state? And how did their values come to be?\">\n",
       "<polygon fill=\"#ffffff\" points=\"555,-186 452,-186 452,-148 561,-148 561,-180 555,-186\" stroke=\"#000000\"/>\n",
       "<polyline fill=\"none\" points=\"555,-186 555,-180 \" stroke=\"#000000\"/>\n",
       "<polyline fill=\"none\" points=\"561,-180 555,-180 \" stroke=\"#000000\"/>\n",
       "<text fill=\"#6a0dad\" font-family=\"Raleway, Helvetica, Arial, sans-serif\" font-size=\"14.00\" text-anchor=\"middle\" x=\"506.5\" y=\"-170.8\">Tracking </text>\n",
       "<text fill=\"#6a0dad\" font-family=\"Raleway, Helvetica, Arial, sans-serif\" font-size=\"14.00\" text-anchor=\"middle\" x=\"506.5\" y=\"-155.8\">Failure Origins</text>\n",
       "</a>\n",
       "</g>\n",
       "</g>\n",
       "<!-- Intro_Debugging&#45;&gt;Slicer -->\n",
       "<g class=\"edge\" id=\"edge7\">\n",
       "<title>Intro_Debugging-&gt;Slicer</title>\n",
       "<path d=\"M506.5,-221.9432C506.5,-214.1493 506.5,-204.9538 506.5,-196.3381\" fill=\"none\" stroke=\"#000000\"/>\n",
       "<polygon fill=\"#000000\" points=\"510.0001,-196.2494 506.5,-186.2495 503.0001,-196.2495 510.0001,-196.2494\" stroke=\"#000000\"/>\n",
       "</g>\n",
       "<!-- Tracking -->\n",
       "<g class=\"node\" id=\"node9\">\n",
       "<title>Tracking</title>\n",
       "<g id=\"a_node9\"><a xlink:href=\"Tracking.ipynb\" xlink:title=\"Tracking Bugs (Tracking)\n",
       "\n",
       "So far, we have assumed that failures would be discovered and fixed by a single programmer during development. But what if the user who discovers a bug is different from the developer who eventually fixes it? In this case, users have to report bugs, and one needs to ensure that reported bugs are systematically tracked. This is the job of dedicated bug tracking systems, which we will discuss (and demo) in this chapter.\">\n",
       "<polygon fill=\"#ffffff\" points=\"682,-185 579,-185 579,-149 688,-149 688,-179 682,-185\" stroke=\"#000000\"/>\n",
       "<polyline fill=\"none\" points=\"682,-185 682,-179 \" stroke=\"#000000\"/>\n",
       "<polyline fill=\"none\" points=\"688,-179 682,-179 \" stroke=\"#000000\"/>\n",
       "<text fill=\"#6a0dad\" font-family=\"Raleway, Helvetica, Arial, sans-serif\" font-size=\"14.00\" text-anchor=\"middle\" x=\"633.5\" y=\"-163.3\">Tracking Bugs</text>\n",
       "</a>\n",
       "</g>\n",
       "</g>\n",
       "<!-- Intro_Debugging&#45;&gt;Tracking -->\n",
       "<g class=\"edge\" id=\"edge8\">\n",
       "<title>Intro_Debugging-&gt;Tracking</title>\n",
       "<path d=\"M539.2057,-221.9432C555.7281,-212.3159 575.9207,-200.5501 593.3749,-190.38\" fill=\"none\" stroke=\"#000000\"/>\n",
       "<polygon fill=\"#000000\" points=\"595.3406,-193.2855 602.2188,-185.2269 591.8164,-187.2373 595.3406,-193.2855\" stroke=\"#000000\"/>\n",
       "</g>\n",
       "</g>\n",
       "</svg>"
      ],
      "text/plain": [
       "<IPython.core.display.SVG object>"
      ]
     },
     "execution_count": 1,
     "metadata": {},
     "output_type": "execute_result"
    }
   ],
   "source": [
    "# ignore\n",
    "if rich_output():\n",
    "    from IPython.display import SVG\n",
    "    sitemap = SVG(filename='PICS/Sitemap.svg')\n",
    "else:\n",
    "    sitemap = None\n",
    "sitemap"
   ]
  },
  {
   "cell_type": "markdown",
   "metadata": {
    "button": false,
    "new_sheet": false,
    "run_control": {
     "read_only": false
    },
    "slideshow": {
     "slide_type": "slide"
    }
   },
   "source": [
    "But since even this map can be overwhelming, here are a few _tours_ to get you started.  Each of these tours allows you to focus on a particular view, depending on whether you are a programmer, student, or researcher."
   ]
  },
  {
   "cell_type": "markdown",
   "metadata": {
    "slideshow": {
     "slide_type": "slide"
    }
   },
   "source": [
    "## The Pragmatic Programmer Tour\n",
    "\n",
    "You have a program to debug.  You want to learn about techniques that help you for debugging.  You want to get to the point.\n",
    "\n",
    "1. __Start with [Introduction to Debugging](Intro_Debugging.ipynb) to get the basic concepts.__  (You would know most of these anyway, but it can't hurt to get quick reminders).\n",
    "\n",
    "2. __Experiment with [interactive debuggers](Debugger.ipynb)__ to observe executions interactively.\n",
    "\n",
    "3. __Use [assertions](Assertions.ipynb)__ to have the computer systematically run checks during execution.\n",
    "\n",
    "4. __Explore [delta debugging](DeltaDebugger.ipynb) for your program__ and see how it simplifies failure-inducing inputs [and changes](ChangeDebugger.ipynb).\n",
    "\n",
    "5. __Visualize [dependencies](Slicer.ipynb) in your program__ and track the flow of data and control in the execution.\n",
    "\n",
    "6. __Check out [statistical debugging](StatisticalDebugger.ipynb)__ for a simple way to determine code locations associated with failures.\n",
    "\n",
    "7. __See [automatic repairs](Repairer.ipynb) in action__.\n",
    "\n",
    "In each of these chapters, start with the \"Synopsis\" parts; these will give you quick introductions on how to use things, as well as point you to relevant usage examples.  With this, enough said.  Get back to work and enjoy!"
   ]
  },
  {
   "cell_type": "markdown",
   "metadata": {
    "slideshow": {
     "slide_type": "slide"
    }
   },
   "source": [
    "## The Young Researcher Tour\n",
    "\n",
    "Your school wants you to publish a great paper every few months. You are looking for infrastructures that you can toy with, helping you to build and evaluate cool ideas.\n",
    "\n",
    "1. __Toy with [tracer](Tracer.ipynb)__ to collect data on program executions - features you can then [correlate with program failures](StatisticalDebugger.ipynb).\n",
    "\n",
    "2. __Extract [dependencies](Slicer.ipynb) from your program__ and use them for runtime verification, fault localization, and better repair.\n",
    "\n",
    "3. __Use [automatic repairs](Repairer.ipynb)__ as a starting point to build your own, better repairs. The Python implementation is well documented and extremely easy to expand.\n",
    "\n",
    "4. Bring in __[test generation and structured inputs](DDSetDebugger.ipynb)__ to collect input features that relate to failures.\n",
    "\n",
    "5. Mine __[version and bug repositories](ChangeCounter.ipynb)__ to explore how bugs and all these features evolve over time.\n",
    "\n",
    "For each of these chapters, experiment with the techniques, and then build your own on top. Read the relevant papers to learn more about their motivation and background. And now go and improve the world of automated debugging!"
   ]
  },
  {
   "cell_type": "markdown",
   "metadata": {
    "button": false,
    "new_sheet": true,
    "run_control": {
     "read_only": false
    },
    "slideshow": {
     "slide_type": "slide"
    }
   },
   "source": [
    "## Lessons Learned\n",
    "\n",
    "* You can go through the book from beginning to end...\n",
    "* ...but it may be preferable to follow a specific tour, based on your needs and resources.\n",
    "* Now [go and explore automated debugging](index.ipynb)!"
   ]
  }
 ],
 "metadata": {
  "ipub": {
   "bibliography": "fuzzingbook.bib",
   "toc": true
  },
  "kernelspec": {
   "display_name": "Python 3",
   "language": "python",
   "name": "python3"
  },
  "language_info": {
   "codemirror_mode": {
    "name": "ipython",
    "version": 3
   },
   "file_extension": ".py",
   "mimetype": "text/x-python",
   "name": "python",
   "nbconvert_exporter": "python",
   "pygments_lexer": "ipython3",
   "version": "3.6.10"
  },
  "toc": {
   "base_numbering": 1,
   "nav_menu": {},
   "number_sections": true,
   "sideBar": true,
   "skip_h1_title": true,
   "title_cell": "",
   "title_sidebar": "Contents",
   "toc_cell": false,
   "toc_position": {},
   "toc_section_display": true,
   "toc_window_display": true
  },
  "toc-autonumbering": false
 },
 "nbformat": 4,
 "nbformat_minor": 4
}
