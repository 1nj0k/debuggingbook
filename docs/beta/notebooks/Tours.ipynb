{
 "cells": [
  {
   "cell_type": "markdown",
   "metadata": {
    "button": false,
    "new_sheet": false,
    "run_control": {
     "read_only": false
    },
    "slideshow": {
     "slide_type": "slide"
    }
   },
   "source": [
    "# Tours through the Book\n"
   ]
  },
  {
   "cell_type": "markdown",
   "metadata": {
    "button": false,
    "new_sheet": false,
    "run_control": {
     "read_only": false
    },
    "slideshow": {
     "slide_type": "slide"
    }
   },
   "source": [
    "While the chapters of this book can be read one after the other, there are many possible paths through the book.  In this graph, an arrow $A \\rightarrow B$ means that chapter $A$ is a prerequisite for chapter $B$.  You can pick arbitrary paths in this graph to get to the topics that interest you most:"
   ]
  },
  {
   "cell_type": "code",
   "execution_count": 1,
   "metadata": {
    "slideshow": {
     "slide_type": "skip"
    }
   },
   "outputs": [],
   "source": [
    "from IPython.display import SVG"
   ]
  },
  {
   "cell_type": "code",
   "execution_count": 2,
   "metadata": {
    "slideshow": {
     "slide_type": "fragment"
    }
   },
   "outputs": [
    {
     "data": {
      "image/svg+xml": [
       "<svg height=\"332pt\" viewBox=\"0.00 0.00 557.00 332.00\" width=\"557pt\" xmlns=\"http://www.w3.org/2000/svg\" xmlns:xlink=\"http://www.w3.org/1999/xlink\">\n",
       "<g class=\"graph\" id=\"graph0\" transform=\"scale(1 1) rotate(0) translate(4 328)\">\n",
       "<title>%3</title>\n",
       "<polygon fill=\"#ffffff\" points=\"-4,4 -4,-328 553,-328 553,4 -4,4\" stroke=\"transparent\"/>\n",
       "<!-- Tracer -->\n",
       "<g class=\"node\" id=\"node1\">\n",
       "<title>Tracer</title>\n",
       "<g id=\"a_node1\"><a xlink:href=\"Tracer.ipynb\" xlink:title=\"Tracer\">\n",
       "<polygon fill=\"#ffffff\" points=\"357.5,-252 223.5,-252 223.5,-216 363.5,-216 363.5,-246 357.5,-252\" stroke=\"#000000\"/>\n",
       "<polyline fill=\"none\" points=\"357.5,-252 357.5,-246 \" stroke=\"#000000\"/>\n",
       "<polyline fill=\"none\" points=\"363.5,-246 357.5,-246 \" stroke=\"#000000\"/>\n",
       "<text fill=\"#a020f0\" font-family=\"Raleway\" font-size=\"14.00\" text-anchor=\"middle\" x=\"293.5\" y=\"-230.3\">Tracing Executions</text>\n",
       "</a>\n",
       "</g>\n",
       "</g>\n",
       "<!-- Debugger -->\n",
       "<g class=\"node\" id=\"node2\">\n",
       "<title>Debugger</title>\n",
       "<g id=\"a_node2\"><a xlink:href=\"Debugger.ipynb\" xlink:title=\"Debugger\">\n",
       "<polygon fill=\"#ffffff\" points=\"178,-180 23,-180 23,-144 184,-144 184,-174 178,-180\" stroke=\"#000000\"/>\n",
       "<polyline fill=\"none\" points=\"178,-180 178,-174 \" stroke=\"#000000\"/>\n",
       "<polyline fill=\"none\" points=\"184,-174 178,-174 \" stroke=\"#000000\"/>\n",
       "<text fill=\"#a020f0\" font-family=\"Raleway\" font-size=\"14.00\" text-anchor=\"middle\" x=\"103.5\" y=\"-158.3\">How Debuggers Work</text>\n",
       "</a>\n",
       "</g>\n",
       "</g>\n",
       "<!-- Tracer&#45;&gt;Debugger -->\n",
       "<g class=\"edge\" id=\"edge1\">\n",
       "<title>Tracer-&gt;Debugger</title>\n",
       "<path d=\"M245.555,-215.8314C219.6918,-206.0306 187.6038,-193.8709 160.472,-183.5894\" fill=\"none\" stroke=\"#000000\"/>\n",
       "<polygon fill=\"#000000\" points=\"161.6916,-180.3087 151.1003,-180.038 159.2111,-186.8545 161.6916,-180.3087\" stroke=\"#000000\"/>\n",
       "</g>\n",
       "<!-- Assertions -->\n",
       "<g class=\"node\" id=\"node3\">\n",
       "<title>Assertions</title>\n",
       "<g id=\"a_node3\"><a xlink:href=\"Assertions.ipynb\" xlink:title=\"Assertions\">\n",
       "<polygon fill=\"#ffffff\" points=\"369.5,-180 211.5,-180 211.5,-144 375.5,-144 375.5,-174 369.5,-180\" stroke=\"#000000\"/>\n",
       "<polyline fill=\"none\" points=\"369.5,-180 369.5,-174 \" stroke=\"#000000\"/>\n",
       "<polyline fill=\"none\" points=\"375.5,-174 369.5,-174 \" stroke=\"#000000\"/>\n",
       "<text fill=\"#a020f0\" font-family=\"Raleway\" font-size=\"14.00\" text-anchor=\"middle\" x=\"293.5\" y=\"-158.3\">Asserting Expectations</text>\n",
       "</a>\n",
       "</g>\n",
       "</g>\n",
       "<!-- Tracer&#45;&gt;Assertions -->\n",
       "<g class=\"edge\" id=\"edge2\">\n",
       "<title>Tracer-&gt;Assertions</title>\n",
       "<path d=\"M293.5,-215.8314C293.5,-208.131 293.5,-198.9743 293.5,-190.4166\" fill=\"none\" stroke=\"#000000\"/>\n",
       "<polygon fill=\"#000000\" points=\"297.0001,-190.4132 293.5,-180.4133 290.0001,-190.4133 297.0001,-190.4132\" stroke=\"#000000\"/>\n",
       "</g>\n",
       "<!-- StatisticalDebugger -->\n",
       "<g class=\"node\" id=\"node4\">\n",
       "<title>StatisticalDebugger</title>\n",
       "<g id=\"a_node4\"><a xlink:href=\"StatisticalDebugger.ipynb\" xlink:title=\"StatisticalDebugger\">\n",
       "<polygon fill=\"#ffffff\" points=\"543,-180 394,-180 394,-144 549,-144 549,-174 543,-180\" stroke=\"#000000\"/>\n",
       "<polyline fill=\"none\" points=\"543,-180 543,-174 \" stroke=\"#000000\"/>\n",
       "<polyline fill=\"none\" points=\"549,-174 543,-174 \" stroke=\"#000000\"/>\n",
       "<text fill=\"#a020f0\" font-family=\"Raleway\" font-size=\"14.00\" text-anchor=\"middle\" x=\"471.5\" y=\"-158.3\">Statistical Debugging</text>\n",
       "</a>\n",
       "</g>\n",
       "</g>\n",
       "<!-- Tracer&#45;&gt;StatisticalDebugger -->\n",
       "<g class=\"edge\" id=\"edge3\">\n",
       "<title>Tracer-&gt;StatisticalDebugger</title>\n",
       "<path d=\"M338.4169,-215.8314C362.435,-206.1162 392.1834,-194.0831 417.4592,-183.8592\" fill=\"none\" stroke=\"#000000\"/>\n",
       "<polygon fill=\"#000000\" points=\"418.9482,-187.0325 426.9061,-180.038 416.3233,-180.5432 418.9482,-187.0325\" stroke=\"#000000\"/>\n",
       "</g>\n",
       "<!-- Slicer -->\n",
       "<g class=\"node\" id=\"node6\">\n",
       "<title>Slicer</title>\n",
       "<g id=\"a_node6\"><a xlink:href=\"Slicer.ipynb\" xlink:title=\"Slicer\">\n",
       "<polygon fill=\"#ffffff\" points=\"163,-108 0,-108 0,-72 169,-72 169,-102 163,-108\" stroke=\"#000000\"/>\n",
       "<polyline fill=\"none\" points=\"163,-108 163,-102 \" stroke=\"#000000\"/>\n",
       "<polyline fill=\"none\" points=\"169,-102 163,-102 \" stroke=\"#000000\"/>\n",
       "<text fill=\"#a020f0\" font-family=\"Raleway\" font-size=\"14.00\" text-anchor=\"middle\" x=\"84.5\" y=\"-86.3\">Tracking Failure Origins</text>\n",
       "</a>\n",
       "</g>\n",
       "</g>\n",
       "<!-- Debugger&#45;&gt;Slicer -->\n",
       "<g class=\"edge\" id=\"edge5\">\n",
       "<title>Debugger-&gt;Slicer</title>\n",
       "<path d=\"M98.7055,-143.8314C96.6511,-136.0463 94.204,-126.7729 91.9244,-118.1347\" fill=\"none\" stroke=\"#000000\"/>\n",
       "<polygon fill=\"#000000\" points=\"95.2948,-117.1892 89.3591,-108.4133 88.5265,-118.9753 95.2948,-117.1892\" stroke=\"#000000\"/>\n",
       "</g>\n",
       "<!-- DeltaDebugger -->\n",
       "<g class=\"node\" id=\"node7\">\n",
       "<title>DeltaDebugger</title>\n",
       "<g id=\"a_node7\"><a xlink:href=\"DeltaDebugger.ipynb\" xlink:title=\"DeltaDebugger\">\n",
       "<polygon fill=\"#ffffff\" points=\"413.5,-108 187.5,-108 187.5,-72 419.5,-72 419.5,-102 413.5,-108\" stroke=\"#000000\"/>\n",
       "<polyline fill=\"none\" points=\"413.5,-108 413.5,-102 \" stroke=\"#000000\"/>\n",
       "<polyline fill=\"none\" points=\"419.5,-102 413.5,-102 \" stroke=\"#000000\"/>\n",
       "<text fill=\"#a020f0\" font-family=\"Raleway\" font-size=\"14.00\" text-anchor=\"middle\" x=\"303.5\" y=\"-86.3\">Reducing Failure-Inducing Inputs</text>\n",
       "</a>\n",
       "</g>\n",
       "</g>\n",
       "<!-- Assertions&#45;&gt;DeltaDebugger -->\n",
       "<g class=\"edge\" id=\"edge6\">\n",
       "<title>Assertions-&gt;DeltaDebugger</title>\n",
       "<path d=\"M296.0234,-143.8314C297.0929,-136.131 298.3647,-126.9743 299.5532,-118.4166\" fill=\"none\" stroke=\"#000000\"/>\n",
       "<polygon fill=\"#000000\" points=\"303.0336,-118.7997 300.9426,-108.4133 296.1001,-117.8367 303.0336,-118.7997\" stroke=\"#000000\"/>\n",
       "</g>\n",
       "<!-- Intro_Debugging -->\n",
       "<g class=\"node\" id=\"node5\">\n",
       "<title>Intro_Debugging</title>\n",
       "<g id=\"a_node5\"><a xlink:href=\"Intro_Debugging.ipynb\" xlink:title=\"Intro_Debugging\">\n",
       "<polygon fill=\"#ffffff\" points=\"381.5,-324 199.5,-324 199.5,-288 387.5,-288 387.5,-318 381.5,-324\" stroke=\"#000000\"/>\n",
       "<polyline fill=\"none\" points=\"381.5,-324 381.5,-318 \" stroke=\"#000000\"/>\n",
       "<polyline fill=\"none\" points=\"387.5,-318 381.5,-318 \" stroke=\"#000000\"/>\n",
       "<text fill=\"#a020f0\" font-family=\"Raleway\" font-size=\"14.00\" text-anchor=\"middle\" x=\"293.5\" y=\"-302.3\">Introduction to Debugging</text>\n",
       "</a>\n",
       "</g>\n",
       "</g>\n",
       "<!-- Intro_Debugging&#45;&gt;Tracer -->\n",
       "<g class=\"edge\" id=\"edge4\">\n",
       "<title>Intro_Debugging-&gt;Tracer</title>\n",
       "<path d=\"M293.5,-287.8314C293.5,-280.131 293.5,-270.9743 293.5,-262.4166\" fill=\"none\" stroke=\"#000000\"/>\n",
       "<polygon fill=\"#000000\" points=\"297.0001,-262.4132 293.5,-252.4133 290.0001,-262.4133 297.0001,-262.4132\" stroke=\"#000000\"/>\n",
       "</g>\n",
       "<!-- ChangeDebugger -->\n",
       "<g class=\"node\" id=\"node8\">\n",
       "<title>ChangeDebugger</title>\n",
       "<g id=\"a_node8\"><a xlink:href=\"ChangeDebugger.ipynb\" xlink:title=\"ChangeDebugger\">\n",
       "<polygon fill=\"#ffffff\" points=\"418.5,-36 182.5,-36 182.5,0 424.5,0 424.5,-30 418.5,-36\" stroke=\"#000000\"/>\n",
       "<polyline fill=\"none\" points=\"418.5,-36 418.5,-30 \" stroke=\"#000000\"/>\n",
       "<polyline fill=\"none\" points=\"424.5,-30 418.5,-30 \" stroke=\"#000000\"/>\n",
       "<text fill=\"#a020f0\" font-family=\"Raleway\" font-size=\"14.00\" text-anchor=\"middle\" x=\"303.5\" y=\"-14.3\">Isolating Failure-Inducing Changes</text>\n",
       "</a>\n",
       "</g>\n",
       "</g>\n",
       "<!-- DeltaDebugger&#45;&gt;ChangeDebugger -->\n",
       "<g class=\"edge\" id=\"edge7\">\n",
       "<title>DeltaDebugger-&gt;ChangeDebugger</title>\n",
       "<path d=\"M303.5,-71.8314C303.5,-64.131 303.5,-54.9743 303.5,-46.4166\" fill=\"none\" stroke=\"#000000\"/>\n",
       "<polygon fill=\"#000000\" points=\"307.0001,-46.4132 303.5,-36.4133 300.0001,-46.4133 307.0001,-46.4132\" stroke=\"#000000\"/>\n",
       "</g>\n",
       "</g>\n",
       "</svg>"
      ],
      "text/plain": [
       "<IPython.core.display.SVG object>"
      ]
     },
     "execution_count": 2,
     "metadata": {},
     "output_type": "execute_result"
    }
   ],
   "source": [
    "SVG(filename='PICS/Sitemap.svg')"
   ]
  },
  {
   "cell_type": "markdown",
   "metadata": {
    "button": false,
    "new_sheet": false,
    "run_control": {
     "read_only": false
    },
    "slideshow": {
     "slide_type": "slide"
    }
   },
   "source": [
    "But since even this map can be overwhelming, here are a few _tours_ to get you started.  Each of these tours allows you to focus on a particular view, depending on whether you are a programmer, student, or researcher."
   ]
  },
  {
   "cell_type": "markdown",
   "metadata": {
    "slideshow": {
     "slide_type": "slide"
    }
   },
   "source": [
    "## The Pragmatic Programmer Tour\n",
    "\n",
    "You have a program to test.  You want to generate tests as quickly as possible and as thorough as possible. You don't care so much how something is implemented, but it should get the job done.  You want to get to the point.\n",
    "\n",
    "1. __Start with [Introduction to Testing](Intro_Debugging.ipynb) to get the basic concepts.__  (You would know most of these anyway, but it can't hurt to get quick reminders).\n",
    "\n",
    "2. __Use the simple fuzzers from [the chapter on Fuzzers](Fuzzer.ipynb)__ to test your program against the first random inputs.\n",
    "\n",
    "3. __Get [coverage](Coverage.ipynb) from your program__ and use coverage information to [guide test generation towards code coverage](GreyboxFuzzer.ipynb).\n",
    "\n",
    "4. __Define an [input grammar](Grammars.ipynb) for your program__ and use this grammar to thoroughly fuzz your program with syntactically correct inputs.  As fuzzer, we would recommend a [grammar coverage fuzzer](GrammarCoverageFuzzer), as this ensures coverage of input elements.\n",
    "\n",
    "5. If you want __more control over the generated inputs,__ consider [probabilistic fuzzing](ProbabilisticGrammarFuzzer.ipynb) and [fuzzing with generator functions](GeneratorGrammarFuzzer.ipynb).\n",
    "\n",
    "6. If you want to __deploy a large set of fuzzers__, learn how to [manage a large set of fuzzers](FuzzingInTheLarge.ipynb).\n",
    "\n",
    "In each of these chapters, start with the \"Synopsis\" parts; these will give you quick introductions on how to use things, as well as point you to relevant usage examples.  With this, enough said.  Get back to work and enjoy!"
   ]
  },
  {
   "cell_type": "markdown",
   "metadata": {
    "button": false,
    "new_sheet": true,
    "run_control": {
     "read_only": false
    },
    "slideshow": {
     "slide_type": "slide"
    }
   },
   "source": [
    "## Lessons Learned\n",
    "\n",
    "* You can go through the book from beginning to end...\n",
    "* ...but it may be preferable to follow a specific tour, based on your needs and resources.\n",
    "* Now [go and explore generating software tests](index.ipynb)!"
   ]
  }
 ],
 "metadata": {
  "ipub": {
   "bibliography": "fuzzingbook.bib",
   "toc": true
  },
  "kernelspec": {
   "display_name": "Python 3",
   "language": "python",
   "name": "python3"
  },
  "language_info": {
   "codemirror_mode": {
    "name": "ipython",
    "version": 3
   },
   "file_extension": ".py",
   "mimetype": "text/x-python",
   "name": "python",
   "nbconvert_exporter": "python",
   "pygments_lexer": "ipython3",
   "version": "3.6.10"
  },
  "toc": {
   "base_numbering": 1,
   "nav_menu": {},
   "number_sections": true,
   "sideBar": true,
   "skip_h1_title": true,
   "title_cell": "",
   "title_sidebar": "Contents",
   "toc_cell": false,
   "toc_position": {},
   "toc_section_display": true,
   "toc_window_display": true
  },
  "toc-autonumbering": false
 },
 "nbformat": 4,
 "nbformat_minor": 2
}
