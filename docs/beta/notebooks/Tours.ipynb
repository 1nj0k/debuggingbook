{
 "cells": [
  {
   "cell_type": "markdown",
   "metadata": {
    "button": false,
    "new_sheet": false,
    "run_control": {
     "read_only": false
    },
    "slideshow": {
     "slide_type": "slide"
    }
   },
   "source": [
    "# Tours through the Book\n"
   ]
  },
  {
   "cell_type": "markdown",
   "metadata": {
    "button": false,
    "new_sheet": false,
    "run_control": {
     "read_only": false
    },
    "slideshow": {
     "slide_type": "slide"
    }
   },
   "source": [
    "While the chapters of this book can be read one after the other, there are many possible paths through the book.  In this graph, an arrow $A \\rightarrow B$ means that chapter $A$ is a prerequisite for chapter $B$.  You can pick arbitrary paths in this graph to get to the topics that interest you most:"
   ]
  },
  {
   "cell_type": "code",
   "execution_count": 1,
   "metadata": {
    "slideshow": {
     "slide_type": "fragment"
    }
   },
   "outputs": [],
   "source": [
    "# ignore\n",
    "from IPython.display import SVG"
   ]
  },
  {
   "cell_type": "code",
   "execution_count": 2,
   "metadata": {
    "slideshow": {
     "slide_type": "fragment"
    }
   },
   "outputs": [
    {
     "data": {
      "image/svg+xml": [
       "<svg height=\"260pt\" viewBox=\"0.00 0.00 1170.50 260.00\" width=\"1171pt\" xmlns=\"http://www.w3.org/2000/svg\" xmlns:xlink=\"http://www.w3.org/1999/xlink\">\n",
       "<g class=\"graph\" id=\"graph0\" transform=\"scale(1 1) rotate(0) translate(4 256)\">\n",
       "<title>%3</title>\n",
       "<polygon fill=\"#ffffff\" points=\"-4,4 -4,-256 1166.5,-256 1166.5,4 -4,4\" stroke=\"transparent\"/>\n",
       "<!-- Tracer -->\n",
       "<g class=\"node\" id=\"node1\">\n",
       "<title>Tracer</title>\n",
       "<g id=\"a_node1\"><a xlink:href=\"Tracer.ipynb\" xlink:title=\"Tracer\">\n",
       "<polygon fill=\"#ffffff\" points=\"647.5,-180 513.5,-180 513.5,-144 653.5,-144 653.5,-174 647.5,-180\" stroke=\"#000000\"/>\n",
       "<polyline fill=\"none\" points=\"647.5,-180 647.5,-174 \" stroke=\"#000000\"/>\n",
       "<polyline fill=\"none\" points=\"653.5,-174 647.5,-174 \" stroke=\"#000000\"/>\n",
       "<text fill=\"#6a0dad\" font-family=\"Raleway, Helvetica, Arial, sans-serif\" font-size=\"14.00\" text-anchor=\"middle\" x=\"583.5\" y=\"-158.3\">Tracing Executions</text>\n",
       "</a>\n",
       "</g>\n",
       "</g>\n",
       "<!-- Debugger -->\n",
       "<g class=\"node\" id=\"node2\">\n",
       "<title>Debugger</title>\n",
       "<g id=\"a_node2\"><a xlink:href=\"Debugger.ipynb\" xlink:title=\"Debugger\">\n",
       "<polygon fill=\"#ffffff\" points=\"155,-108 0,-108 0,-72 161,-72 161,-102 155,-108\" stroke=\"#000000\"/>\n",
       "<polyline fill=\"none\" points=\"155,-108 155,-102 \" stroke=\"#000000\"/>\n",
       "<polyline fill=\"none\" points=\"161,-102 155,-102 \" stroke=\"#000000\"/>\n",
       "<text fill=\"#6a0dad\" font-family=\"Raleway, Helvetica, Arial, sans-serif\" font-size=\"14.00\" text-anchor=\"middle\" x=\"80.5\" y=\"-86.3\">How Debuggers Work</text>\n",
       "</a>\n",
       "</g>\n",
       "</g>\n",
       "<!-- Tracer&#45;&gt;Debugger -->\n",
       "<g class=\"edge\" id=\"edge1\">\n",
       "<title>Tracer-&gt;Debugger</title>\n",
       "<path d=\"M513.1352,-154.2627C432.9394,-145.1152 297.7234,-128.6935 171.629,-108.1284\" fill=\"none\" stroke=\"#000000\"/>\n",
       "<polygon fill=\"#000000\" points=\"171.8411,-104.6164 161.4059,-106.4486 170.7061,-111.5238 171.8411,-104.6164\" stroke=\"#000000\"/>\n",
       "</g>\n",
       "<!-- Assertions -->\n",
       "<g class=\"node\" id=\"node3\">\n",
       "<title>Assertions</title>\n",
       "<g id=\"a_node3\"><a xlink:href=\"Assertions.ipynb\" xlink:title=\"Assertions\">\n",
       "<polygon fill=\"#ffffff\" points=\"337.5,-108 179.5,-108 179.5,-72 343.5,-72 343.5,-102 337.5,-108\" stroke=\"#000000\"/>\n",
       "<polyline fill=\"none\" points=\"337.5,-108 337.5,-102 \" stroke=\"#000000\"/>\n",
       "<polyline fill=\"none\" points=\"343.5,-102 337.5,-102 \" stroke=\"#000000\"/>\n",
       "<text fill=\"#6a0dad\" font-family=\"Raleway, Helvetica, Arial, sans-serif\" font-size=\"14.00\" text-anchor=\"middle\" x=\"261.5\" y=\"-86.3\">Asserting Expectations</text>\n",
       "</a>\n",
       "</g>\n",
       "</g>\n",
       "<!-- Tracer&#45;&gt;Assertions -->\n",
       "<g class=\"edge\" id=\"edge2\">\n",
       "<title>Tracer-&gt;Assertions</title>\n",
       "<path d=\"M513.2336,-146.2883C465.9594,-135.7176 403.1888,-121.682 352.1556,-110.2708\" fill=\"none\" stroke=\"#000000\"/>\n",
       "<polygon fill=\"#000000\" points=\"352.6364,-106.792 342.1136,-108.0254 351.1088,-113.6233 352.6364,-106.792\" stroke=\"#000000\"/>\n",
       "</g>\n",
       "<!-- DeltaDebugger -->\n",
       "<g class=\"node\" id=\"node4\">\n",
       "<title>DeltaDebugger</title>\n",
       "<g id=\"a_node4\"><a xlink:href=\"DeltaDebugger.ipynb\" xlink:title=\"DeltaDebugger\">\n",
       "<polygon fill=\"#ffffff\" points=\"587.5,-108 361.5,-108 361.5,-72 593.5,-72 593.5,-102 587.5,-108\" stroke=\"#000000\"/>\n",
       "<polyline fill=\"none\" points=\"587.5,-108 587.5,-102 \" stroke=\"#000000\"/>\n",
       "<polyline fill=\"none\" points=\"593.5,-102 587.5,-102 \" stroke=\"#000000\"/>\n",
       "<text fill=\"#6a0dad\" font-family=\"Raleway, Helvetica, Arial, sans-serif\" font-size=\"14.00\" text-anchor=\"middle\" x=\"477.5\" y=\"-86.3\">Reducing Failure-Inducing Inputs</text>\n",
       "</a>\n",
       "</g>\n",
       "</g>\n",
       "<!-- Tracer&#45;&gt;DeltaDebugger -->\n",
       "<g class=\"edge\" id=\"edge3\">\n",
       "<title>Tracer-&gt;DeltaDebugger</title>\n",
       "<path d=\"M556.7517,-143.8314C543.4447,-134.7927 527.184,-123.7476 512.8625,-114.0198\" fill=\"none\" stroke=\"#000000\"/>\n",
       "<polygon fill=\"#000000\" points=\"514.4785,-110.8864 504.2397,-108.1628 510.5453,-116.677 514.4785,-110.8864\" stroke=\"#000000\"/>\n",
       "</g>\n",
       "<!-- StatisticalDebugger -->\n",
       "<g class=\"node\" id=\"node5\">\n",
       "<title>StatisticalDebugger</title>\n",
       "<g id=\"a_node5\"><a xlink:href=\"StatisticalDebugger.ipynb\" xlink:title=\"StatisticalDebugger\">\n",
       "<polygon fill=\"#ffffff\" points=\"761,-108 612,-108 612,-72 767,-72 767,-102 761,-108\" stroke=\"#000000\"/>\n",
       "<polyline fill=\"none\" points=\"761,-108 761,-102 \" stroke=\"#000000\"/>\n",
       "<polyline fill=\"none\" points=\"767,-102 761,-102 \" stroke=\"#000000\"/>\n",
       "<text fill=\"#6a0dad\" font-family=\"Raleway, Helvetica, Arial, sans-serif\" font-size=\"14.00\" text-anchor=\"middle\" x=\"689.5\" y=\"-86.3\">Statistical Debugging</text>\n",
       "</a>\n",
       "</g>\n",
       "</g>\n",
       "<!-- Tracer&#45;&gt;StatisticalDebugger -->\n",
       "<g class=\"edge\" id=\"edge4\">\n",
       "<title>Tracer-&gt;StatisticalDebugger</title>\n",
       "<path d=\"M610.2483,-143.8314C623.5553,-134.7927 639.816,-123.7476 654.1375,-114.0198\" fill=\"none\" stroke=\"#000000\"/>\n",
       "<polygon fill=\"#000000\" points=\"656.4547,-116.677 662.7603,-108.1628 652.5215,-110.8864 656.4547,-116.677\" stroke=\"#000000\"/>\n",
       "</g>\n",
       "<!-- DynamicInvariants -->\n",
       "<g class=\"node\" id=\"node6\">\n",
       "<title>DynamicInvariants</title>\n",
       "<g id=\"a_node6\"><a xlink:href=\"DynamicInvariants.ipynb\" xlink:title=\"DynamicInvariants\">\n",
       "<polygon fill=\"#ffffff\" points=\"992,-108 785,-108 785,-72 998,-72 998,-102 992,-108\" stroke=\"#000000\"/>\n",
       "<polyline fill=\"none\" points=\"992,-108 992,-102 \" stroke=\"#000000\"/>\n",
       "<polyline fill=\"none\" points=\"998,-102 992,-102 \" stroke=\"#000000\"/>\n",
       "<text fill=\"#6a0dad\" font-family=\"Raleway, Helvetica, Arial, sans-serif\" font-size=\"14.00\" text-anchor=\"middle\" x=\"891.5\" y=\"-86.3\">Mining Function Specifications</text>\n",
       "</a>\n",
       "</g>\n",
       "</g>\n",
       "<!-- Tracer&#45;&gt;DynamicInvariants -->\n",
       "<g class=\"edge\" id=\"edge5\">\n",
       "<title>Tracer-&gt;DynamicInvariants</title>\n",
       "<path d=\"M653.7754,-145.572C698.4464,-135.1294 756.6209,-121.5302 804.2399,-110.3985\" fill=\"none\" stroke=\"#000000\"/>\n",
       "<polygon fill=\"#000000\" points=\"805.2916,-113.747 814.2324,-108.0626 803.6982,-106.9308 805.2916,-113.747\" stroke=\"#000000\"/>\n",
       "</g>\n",
       "<!-- ChangeDebugger -->\n",
       "<g class=\"node\" id=\"node10\">\n",
       "<title>ChangeDebugger</title>\n",
       "<g id=\"a_node10\"><a xlink:href=\"ChangeDebugger.ipynb\" xlink:title=\"ChangeDebugger\">\n",
       "<polygon fill=\"#ffffff\" points=\"560.5,-36 324.5,-36 324.5,0 566.5,0 566.5,-30 560.5,-36\" stroke=\"#000000\"/>\n",
       "<polyline fill=\"none\" points=\"560.5,-36 560.5,-30 \" stroke=\"#000000\"/>\n",
       "<polyline fill=\"none\" points=\"566.5,-30 560.5,-30 \" stroke=\"#000000\"/>\n",
       "<text fill=\"#6a0dad\" font-family=\"Raleway, Helvetica, Arial, sans-serif\" font-size=\"14.00\" text-anchor=\"middle\" x=\"445.5\" y=\"-14.3\">Isolating Failure-Inducing Changes</text>\n",
       "</a>\n",
       "</g>\n",
       "</g>\n",
       "<!-- DeltaDebugger&#45;&gt;ChangeDebugger -->\n",
       "<g class=\"edge\" id=\"edge9\">\n",
       "<title>DeltaDebugger-&gt;ChangeDebugger</title>\n",
       "<path d=\"M469.425,-71.8314C465.8898,-63.8771 461.664,-54.369 457.7544,-45.5723\" fill=\"none\" stroke=\"#000000\"/>\n",
       "<polygon fill=\"#000000\" points=\"460.9435,-44.1299 453.6837,-36.4133 454.5468,-46.9729 460.9435,-44.1299\" stroke=\"#000000\"/>\n",
       "</g>\n",
       "<!-- Repairer -->\n",
       "<g class=\"node\" id=\"node11\">\n",
       "<title>Repairer</title>\n",
       "<g id=\"a_node11\"><a xlink:href=\"Repairer.ipynb\" xlink:title=\"Repairer\">\n",
       "<polygon fill=\"#ffffff\" points=\"788.5,-36 584.5,-36 584.5,0 794.5,0 794.5,-30 788.5,-36\" stroke=\"#000000\"/>\n",
       "<polyline fill=\"none\" points=\"788.5,-36 788.5,-30 \" stroke=\"#000000\"/>\n",
       "<polyline fill=\"none\" points=\"794.5,-30 788.5,-30 \" stroke=\"#000000\"/>\n",
       "<text fill=\"#6a0dad\" font-family=\"Raleway, Helvetica, Arial, sans-serif\" font-size=\"14.00\" text-anchor=\"middle\" x=\"689.5\" y=\"-14.3\">Repairing Code Automatically</text>\n",
       "</a>\n",
       "</g>\n",
       "</g>\n",
       "<!-- DeltaDebugger&#45;&gt;Repairer -->\n",
       "<g class=\"edge\" id=\"edge10\">\n",
       "<title>DeltaDebugger-&gt;Repairer</title>\n",
       "<path d=\"M530.7229,-71.9243C559.8306,-62.0387 596.0666,-49.7321 626.5694,-39.3726\" fill=\"none\" stroke=\"#000000\"/>\n",
       "<polygon fill=\"#000000\" points=\"627.9119,-42.6131 636.2552,-36.0831 625.6608,-35.9849 627.9119,-42.6131\" stroke=\"#000000\"/>\n",
       "</g>\n",
       "<!-- StatisticalDebugger&#45;&gt;Repairer -->\n",
       "<g class=\"edge\" id=\"edge11\">\n",
       "<title>StatisticalDebugger-&gt;Repairer</title>\n",
       "<path d=\"M689.5,-71.8314C689.5,-64.131 689.5,-54.9743 689.5,-46.4166\" fill=\"none\" stroke=\"#000000\"/>\n",
       "<polygon fill=\"#000000\" points=\"693.0001,-46.4132 689.5,-36.4133 686.0001,-46.4133 693.0001,-46.4132\" stroke=\"#000000\"/>\n",
       "</g>\n",
       "<!-- Intro_Debugging -->\n",
       "<g class=\"node\" id=\"node7\">\n",
       "<title>Intro_Debugging</title>\n",
       "<g id=\"a_node7\"><a xlink:href=\"Intro_Debugging.ipynb\" xlink:title=\"Intro_Debugging\">\n",
       "<polygon fill=\"#ffffff\" points=\"932.5,-252 750.5,-252 750.5,-216 938.5,-216 938.5,-246 932.5,-252\" stroke=\"#000000\"/>\n",
       "<polyline fill=\"none\" points=\"932.5,-252 932.5,-246 \" stroke=\"#000000\"/>\n",
       "<polyline fill=\"none\" points=\"938.5,-246 932.5,-246 \" stroke=\"#000000\"/>\n",
       "<text fill=\"#6a0dad\" font-family=\"Raleway, Helvetica, Arial, sans-serif\" font-size=\"14.00\" text-anchor=\"middle\" x=\"844.5\" y=\"-230.3\">Introduction to Debugging</text>\n",
       "</a>\n",
       "</g>\n",
       "</g>\n",
       "<!-- Intro_Debugging&#45;&gt;Tracer -->\n",
       "<g class=\"edge\" id=\"edge6\">\n",
       "<title>Intro_Debugging-&gt;Tracer</title>\n",
       "<path d=\"M778.9756,-215.9243C742.5197,-205.8675 696.9812,-193.3052 659.0315,-182.8363\" fill=\"none\" stroke=\"#000000\"/>\n",
       "<polygon fill=\"#000000\" points=\"659.6221,-179.3685 649.0514,-180.0831 657.7605,-186.1165 659.6221,-179.3685\" stroke=\"#000000\"/>\n",
       "</g>\n",
       "<!-- Slicer -->\n",
       "<g class=\"node\" id=\"node8\">\n",
       "<title>Slicer</title>\n",
       "<g id=\"a_node8\"><a xlink:href=\"Slicer.ipynb\" xlink:title=\"Slicer\">\n",
       "<polygon fill=\"#ffffff\" points=\"923,-180 760,-180 760,-144 929,-144 929,-174 923,-180\" stroke=\"#000000\"/>\n",
       "<polyline fill=\"none\" points=\"923,-180 923,-174 \" stroke=\"#000000\"/>\n",
       "<polyline fill=\"none\" points=\"929,-174 923,-174 \" stroke=\"#000000\"/>\n",
       "<text fill=\"#6a0dad\" font-family=\"Raleway, Helvetica, Arial, sans-serif\" font-size=\"14.00\" text-anchor=\"middle\" x=\"844.5\" y=\"-158.3\">Tracking Failure Origins</text>\n",
       "</a>\n",
       "</g>\n",
       "</g>\n",
       "<!-- Intro_Debugging&#45;&gt;Slicer -->\n",
       "<g class=\"edge\" id=\"edge7\">\n",
       "<title>Intro_Debugging-&gt;Slicer</title>\n",
       "<path d=\"M844.5,-215.8314C844.5,-208.131 844.5,-198.9743 844.5,-190.4166\" fill=\"none\" stroke=\"#000000\"/>\n",
       "<polygon fill=\"#000000\" points=\"848.0001,-190.4132 844.5,-180.4133 841.0001,-190.4133 848.0001,-190.4132\" stroke=\"#000000\"/>\n",
       "</g>\n",
       "<!-- Tracking -->\n",
       "<g class=\"node\" id=\"node9\">\n",
       "<title>Tracking</title>\n",
       "<g id=\"a_node9\"><a xlink:href=\"Tracking.ipynb\" xlink:title=\"Tracking\">\n",
       "<polygon fill=\"#ffffff\" points=\"1094,-180 991,-180 991,-144 1100,-144 1100,-174 1094,-180\" stroke=\"#000000\"/>\n",
       "<polyline fill=\"none\" points=\"1094,-180 1094,-174 \" stroke=\"#000000\"/>\n",
       "<polyline fill=\"none\" points=\"1100,-174 1094,-174 \" stroke=\"#000000\"/>\n",
       "<text fill=\"#6a0dad\" font-family=\"Raleway, Helvetica, Arial, sans-serif\" font-size=\"14.00\" text-anchor=\"middle\" x=\"1045.5\" y=\"-158.3\">Tracking Bugs</text>\n",
       "</a>\n",
       "</g>\n",
       "</g>\n",
       "<!-- Intro_Debugging&#45;&gt;Tracking -->\n",
       "<g class=\"edge\" id=\"edge8\">\n",
       "<title>Intro_Debugging-&gt;Tracking</title>\n",
       "<path d=\"M894.9613,-215.9243C922.4392,-206.0815 956.6172,-193.8386 985.4588,-183.5073\" fill=\"none\" stroke=\"#000000\"/>\n",
       "<polygon fill=\"#000000\" points=\"986.784,-186.7505 995.0179,-180.0831 984.4233,-180.1605 986.784,-186.7505\" stroke=\"#000000\"/>\n",
       "</g>\n",
       "<!-- ChangeExplorer -->\n",
       "<g class=\"node\" id=\"node12\">\n",
       "<title>ChangeExplorer</title>\n",
       "<g id=\"a_node12\"><a xlink:href=\"ChangeExplorer.ipynb\" xlink:title=\"ChangeExplorer\">\n",
       "<polygon fill=\"#ffffff\" points=\"1156.5,-108 1016.5,-108 1016.5,-72 1162.5,-72 1162.5,-102 1156.5,-108\" stroke=\"#000000\"/>\n",
       "<polyline fill=\"none\" points=\"1156.5,-108 1156.5,-102 \" stroke=\"#000000\"/>\n",
       "<polyline fill=\"none\" points=\"1162.5,-102 1156.5,-102 \" stroke=\"#000000\"/>\n",
       "<text fill=\"#6a0dad\" font-family=\"Raleway, Helvetica, Arial, sans-serif\" font-size=\"14.00\" text-anchor=\"middle\" x=\"1089.5\" y=\"-86.3\">Where the Bugs are</text>\n",
       "</a>\n",
       "</g>\n",
       "</g>\n",
       "<!-- Tracking&#45;&gt;ChangeExplorer -->\n",
       "<g class=\"edge\" id=\"edge12\">\n",
       "<title>Tracking-&gt;ChangeExplorer</title>\n",
       "<path d=\"M1056.6031,-143.8314C1061.5674,-135.7079 1067.5222,-125.9637 1072.9928,-117.0118\" fill=\"none\" stroke=\"#000000\"/>\n",
       "<polygon fill=\"#000000\" points=\"1076.0194,-118.7712 1078.2474,-108.4133 1070.0464,-115.121 1076.0194,-118.7712\" stroke=\"#000000\"/>\n",
       "</g>\n",
       "</g>\n",
       "</svg>"
      ],
      "text/plain": [
       "<IPython.core.display.SVG object>"
      ]
     },
     "execution_count": 2,
     "metadata": {},
     "output_type": "execute_result"
    }
   ],
   "source": [
    "# ignore\n",
    "SVG(filename='PICS/Sitemap.svg')"
   ]
  },
  {
   "cell_type": "markdown",
   "metadata": {
    "button": false,
    "new_sheet": false,
    "run_control": {
     "read_only": false
    },
    "slideshow": {
     "slide_type": "slide"
    }
   },
   "source": [
    "But since even this map can be overwhelming, here are a few _tours_ to get you started.  Each of these tours allows you to focus on a particular view, depending on whether you are a programmer, student, or researcher."
   ]
  },
  {
   "cell_type": "markdown",
   "metadata": {
    "slideshow": {
     "slide_type": "slide"
    }
   },
   "source": [
    "## The Pragmatic Programmer Tour\n",
    "\n",
    "You have a program to debug.  You want to set up techniques that help you for debugging.  You want to get to the point.\n",
    "\n",
    "1. __Start with [Introduction to Debugging](Intro_Debugging.ipynb) to get the basic concepts.__  (You would know most of these anyway, but it can't hurt to get quick reminders).\n",
    "\n",
    "2. __Experiment with [interactive debuggers](Debugger.ipynb)__ to observe executions interactively.\n",
    "\n",
    "3. __Use [assertions](Assertions.ipynb)__ to have the computer systematically run checks during execution.\n",
    "\n",
    "4. __Explore [delta debugging](DeltaDebugger.ipynb) for your program__ and see how it simplifies failure-inducing inputs [and changes](ChangeDebugger.ipynb).\n",
    "\n",
    "5. __Visualize [dependencies](Slicer.ipynb) in your program__ and track the flow of data and control in the execution.\n",
    "\n",
    "6. __Check out [statistical debugging](StatisticalDebugger)__ for a simple way to determine code locations associated with failures.\n",
    "\n",
    "7. __See [automatic repairs](Repairer.ipynb) in action__.\n",
    "\n",
    "In each of these chapters, start with the \"Synopsis\" parts; these will give you quick introductions on how to use things, as well as point you to relevant usage examples.  With this, enough said.  Get back to work and enjoy!"
   ]
  },
  {
   "cell_type": "markdown",
   "metadata": {
    "button": false,
    "new_sheet": true,
    "run_control": {
     "read_only": false
    },
    "slideshow": {
     "slide_type": "slide"
    }
   },
   "source": [
    "## Lessons Learned\n",
    "\n",
    "* You can go through the book from beginning to end...\n",
    "* ...but it may be preferable to follow a specific tour, based on your needs and resources.\n",
    "* Now [go and explore automated debugging](index.ipynb)!"
   ]
  }
 ],
 "metadata": {
  "ipub": {
   "bibliography": "fuzzingbook.bib",
   "toc": true
  },
  "kernelspec": {
   "display_name": "Python 3",
   "language": "python",
   "name": "python3"
  },
  "language_info": {
   "codemirror_mode": {
    "name": "ipython",
    "version": 3
   },
   "file_extension": ".py",
   "mimetype": "text/x-python",
   "name": "python",
   "nbconvert_exporter": "python",
   "pygments_lexer": "ipython3",
   "version": "3.6.10"
  },
  "toc": {
   "base_numbering": 1,
   "nav_menu": {},
   "number_sections": true,
   "sideBar": true,
   "skip_h1_title": true,
   "title_cell": "",
   "title_sidebar": "Contents",
   "toc_cell": false,
   "toc_position": {},
   "toc_section_display": true,
   "toc_window_display": true
  },
  "toc-autonumbering": false
 },
 "nbformat": 4,
 "nbformat_minor": 4
}
