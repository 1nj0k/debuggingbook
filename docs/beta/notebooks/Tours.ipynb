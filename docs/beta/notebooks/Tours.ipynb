{
 "cells": [
  {
   "cell_type": "markdown",
   "metadata": {
    "button": false,
    "new_sheet": false,
    "run_control": {
     "read_only": false
    },
    "slideshow": {
     "slide_type": "slide"
    }
   },
   "source": [
    "# Tours through the Book\n"
   ]
  },
  {
   "cell_type": "markdown",
   "metadata": {
    "button": false,
    "new_sheet": false,
    "run_control": {
     "read_only": false
    },
    "slideshow": {
     "slide_type": "slide"
    }
   },
   "source": [
    "While the chapters of this book can be read one after the other, there are many possible paths through the book.  In this graph, an arrow $A \\rightarrow B$ means that chapter $A$ is a prerequisite for chapter $B$.  You can pick arbitrary paths in this graph to get to the topics that interest you most:"
   ]
  },
  {
   "cell_type": "code",
   "execution_count": 1,
   "metadata": {
    "slideshow": {
     "slide_type": "skip"
    }
   },
   "outputs": [],
   "source": [
    "from IPython.display import SVG"
   ]
  },
  {
   "cell_type": "code",
   "execution_count": 2,
   "metadata": {
    "slideshow": {
     "slide_type": "fragment"
    }
   },
   "outputs": [
    {
     "data": {
      "image/svg+xml": [
       "<svg height=\"332pt\" viewBox=\"0.00 0.00 699.50 332.00\" width=\"700pt\" xmlns=\"http://www.w3.org/2000/svg\" xmlns:xlink=\"http://www.w3.org/1999/xlink\">\n",
       "<g class=\"graph\" id=\"graph0\" transform=\"scale(1 1) rotate(0) translate(4 328)\">\n",
       "<title>%3</title>\n",
       "<polygon fill=\"#ffffff\" points=\"-4,4 -4,-328 695.5,-328 695.5,4 -4,4\" stroke=\"transparent\"/>\n",
       "<!-- Tracer -->\n",
       "<g class=\"node\" id=\"node1\">\n",
       "<title>Tracer</title>\n",
       "<g id=\"a_node1\"><a xlink:href=\"Tracer.ipynb\" xlink:title=\"Tracer\">\n",
       "<polygon fill=\"#ffffff\" points=\"380.5,-252 246.5,-252 246.5,-216 386.5,-216 386.5,-246 380.5,-252\" stroke=\"#000000\"/>\n",
       "<polyline fill=\"none\" points=\"380.5,-252 380.5,-246 \" stroke=\"#000000\"/>\n",
       "<polyline fill=\"none\" points=\"386.5,-246 380.5,-246 \" stroke=\"#000000\"/>\n",
       "<text fill=\"#a020f0\" font-family=\"Raleway\" font-size=\"14.00\" text-anchor=\"middle\" x=\"316.5\" y=\"-230.3\">Tracing Executions</text>\n",
       "</a>\n",
       "</g>\n",
       "</g>\n",
       "<!-- Debugger -->\n",
       "<g class=\"node\" id=\"node2\">\n",
       "<title>Debugger</title>\n",
       "<g id=\"a_node2\"><a xlink:href=\"Debugger.ipynb\" xlink:title=\"Debugger\">\n",
       "<polygon fill=\"#ffffff\" points=\"155,-180 0,-180 0,-144 161,-144 161,-174 155,-180\" stroke=\"#000000\"/>\n",
       "<polyline fill=\"none\" points=\"155,-180 155,-174 \" stroke=\"#000000\"/>\n",
       "<polyline fill=\"none\" points=\"161,-174 155,-174 \" stroke=\"#000000\"/>\n",
       "<text fill=\"#a020f0\" font-family=\"Raleway\" font-size=\"14.00\" text-anchor=\"middle\" x=\"80.5\" y=\"-158.3\">How Debuggers Work</text>\n",
       "</a>\n",
       "</g>\n",
       "</g>\n",
       "<!-- Tracer&#45;&gt;Debugger -->\n",
       "<g class=\"edge\" id=\"edge1\">\n",
       "<title>Tracer-&gt;Debugger</title>\n",
       "<path d=\"M257.2519,-215.9243C224.5685,-205.9531 183.8117,-193.5188 149.6742,-183.104\" fill=\"none\" stroke=\"#000000\"/>\n",
       "<polygon fill=\"#000000\" points=\"150.3586,-179.6536 139.7725,-180.0831 148.316,-186.3489 150.3586,-179.6536\" stroke=\"#000000\"/>\n",
       "</g>\n",
       "<!-- Assertions -->\n",
       "<g class=\"node\" id=\"node3\">\n",
       "<title>Assertions</title>\n",
       "<g id=\"a_node3\"><a xlink:href=\"Assertions.ipynb\" xlink:title=\"Assertions\">\n",
       "<polygon fill=\"#ffffff\" points=\"337.5,-180 179.5,-180 179.5,-144 343.5,-144 343.5,-174 337.5,-180\" stroke=\"#000000\"/>\n",
       "<polyline fill=\"none\" points=\"337.5,-180 337.5,-174 \" stroke=\"#000000\"/>\n",
       "<polyline fill=\"none\" points=\"343.5,-174 337.5,-174 \" stroke=\"#000000\"/>\n",
       "<text fill=\"#a020f0\" font-family=\"Raleway\" font-size=\"14.00\" text-anchor=\"middle\" x=\"261.5\" y=\"-158.3\">Asserting Expectations</text>\n",
       "</a>\n",
       "</g>\n",
       "</g>\n",
       "<!-- Tracer&#45;&gt;Assertions -->\n",
       "<g class=\"edge\" id=\"edge2\">\n",
       "<title>Tracer-&gt;Assertions</title>\n",
       "<path d=\"M302.6212,-215.8314C296.2864,-207.5386 288.6616,-197.557 281.7074,-188.4533\" fill=\"none\" stroke=\"#000000\"/>\n",
       "<polygon fill=\"#000000\" points=\"284.4175,-186.2353 275.5657,-180.4133 278.8548,-190.4847 284.4175,-186.2353\" stroke=\"#000000\"/>\n",
       "</g>\n",
       "<!-- StatisticalDebugger -->\n",
       "<g class=\"node\" id=\"node4\">\n",
       "<title>StatisticalDebugger</title>\n",
       "<g id=\"a_node4\"><a xlink:href=\"StatisticalDebugger.ipynb\" xlink:title=\"StatisticalDebugger\">\n",
       "<polygon fill=\"#ffffff\" points=\"425,-108 276,-108 276,-72 431,-72 431,-102 425,-108\" stroke=\"#000000\"/>\n",
       "<polyline fill=\"none\" points=\"425,-108 425,-102 \" stroke=\"#000000\"/>\n",
       "<polyline fill=\"none\" points=\"431,-102 425,-102 \" stroke=\"#000000\"/>\n",
       "<text fill=\"#a020f0\" font-family=\"Raleway\" font-size=\"14.00\" text-anchor=\"middle\" x=\"353.5\" y=\"-86.3\">Statistical Debugging</text>\n",
       "</a>\n",
       "</g>\n",
       "</g>\n",
       "<!-- Tracer&#45;&gt;StatisticalDebugger -->\n",
       "<g class=\"edge\" id=\"edge3\">\n",
       "<title>Tracer-&gt;StatisticalDebugger</title>\n",
       "<path d=\"M332.4305,-215.8986C340.0774,-206.0137 348.4436,-193.134 352.5,-180 358.677,-160.0001 358.6633,-136.2879 357.2464,-118.2246\" fill=\"none\" stroke=\"#000000\"/>\n",
       "<polygon fill=\"#000000\" points=\"360.7087,-117.6664 356.2562,-108.0526 353.7417,-118.3447 360.7087,-117.6664\" stroke=\"#000000\"/>\n",
       "</g>\n",
       "<!-- DeltaDebugger -->\n",
       "<g class=\"node\" id=\"node5\">\n",
       "<title>DeltaDebugger</title>\n",
       "<g id=\"a_node5\"><a xlink:href=\"DeltaDebugger.ipynb\" xlink:title=\"DeltaDebugger\">\n",
       "<polygon fill=\"#ffffff\" points=\"661.5,-180 435.5,-180 435.5,-144 667.5,-144 667.5,-174 661.5,-180\" stroke=\"#000000\"/>\n",
       "<polyline fill=\"none\" points=\"661.5,-180 661.5,-174 \" stroke=\"#000000\"/>\n",
       "<polyline fill=\"none\" points=\"667.5,-174 661.5,-174 \" stroke=\"#000000\"/>\n",
       "<text fill=\"#a020f0\" font-family=\"Raleway\" font-size=\"14.00\" text-anchor=\"middle\" x=\"551.5\" y=\"-158.3\">Reducing Failure-Inducing Inputs</text>\n",
       "</a>\n",
       "</g>\n",
       "</g>\n",
       "<!-- Tracer&#45;&gt;DeltaDebugger -->\n",
       "<g class=\"edge\" id=\"edge4\">\n",
       "<title>Tracer-&gt;DeltaDebugger</title>\n",
       "<path d=\"M375.4971,-215.9243C408.042,-205.9531 448.6261,-193.5188 482.6189,-183.104\" fill=\"none\" stroke=\"#000000\"/>\n",
       "<polygon fill=\"#000000\" points=\"483.9426,-186.3591 492.4786,-180.0831 481.892,-179.6662 483.9426,-186.3591\" stroke=\"#000000\"/>\n",
       "</g>\n",
       "<!-- Repairer -->\n",
       "<g class=\"node\" id=\"node8\">\n",
       "<title>Repairer</title>\n",
       "<g id=\"a_node8\"><a xlink:href=\"Repairer.ipynb\" xlink:title=\"Repairer\">\n",
       "<polygon fill=\"#ffffff\" points=\"513.5,-36 403.5,-36 403.5,0 519.5,0 519.5,-30 513.5,-36\" stroke=\"#000000\"/>\n",
       "<polyline fill=\"none\" points=\"513.5,-36 513.5,-30 \" stroke=\"#000000\"/>\n",
       "<polyline fill=\"none\" points=\"519.5,-30 513.5,-30 \" stroke=\"#000000\"/>\n",
       "<text fill=\"#a020f0\" font-family=\"Raleway\" font-size=\"14.00\" text-anchor=\"middle\" x=\"461.5\" y=\"-14.3\">Repairing Code</text>\n",
       "</a>\n",
       "</g>\n",
       "</g>\n",
       "<!-- StatisticalDebugger&#45;&gt;Repairer -->\n",
       "<g class=\"edge\" id=\"edge7\">\n",
       "<title>StatisticalDebugger-&gt;Repairer</title>\n",
       "<path d=\"M380.753,-71.8314C394.4389,-62.7074 411.1915,-51.539 425.8827,-41.7449\" fill=\"none\" stroke=\"#000000\"/>\n",
       "<polygon fill=\"#000000\" points=\"427.8767,-44.6221 434.2558,-36.1628 423.9938,-38.7977 427.8767,-44.6221\" stroke=\"#000000\"/>\n",
       "</g>\n",
       "<!-- ChangeDebugger -->\n",
       "<g class=\"node\" id=\"node9\">\n",
       "<title>ChangeDebugger</title>\n",
       "<g id=\"a_node9\"><a xlink:href=\"ChangeDebugger.ipynb\" xlink:title=\"ChangeDebugger\">\n",
       "<polygon fill=\"#ffffff\" points=\"685.5,-108 449.5,-108 449.5,-72 691.5,-72 691.5,-102 685.5,-108\" stroke=\"#000000\"/>\n",
       "<polyline fill=\"none\" points=\"685.5,-108 685.5,-102 \" stroke=\"#000000\"/>\n",
       "<polyline fill=\"none\" points=\"691.5,-102 685.5,-102 \" stroke=\"#000000\"/>\n",
       "<text fill=\"#a020f0\" font-family=\"Raleway\" font-size=\"14.00\" text-anchor=\"middle\" x=\"570.5\" y=\"-86.3\">Isolating Failure-Inducing Changes</text>\n",
       "</a>\n",
       "</g>\n",
       "</g>\n",
       "<!-- DeltaDebugger&#45;&gt;ChangeDebugger -->\n",
       "<g class=\"edge\" id=\"edge8\">\n",
       "<title>DeltaDebugger-&gt;ChangeDebugger</title>\n",
       "<path d=\"M556.2945,-143.8314C558.3489,-136.0463 560.796,-126.7729 563.0756,-118.1347\" fill=\"none\" stroke=\"#000000\"/>\n",
       "<polygon fill=\"#000000\" points=\"566.4735,-118.9753 565.6409,-108.4133 559.7052,-117.1892 566.4735,-118.9753\" stroke=\"#000000\"/>\n",
       "</g>\n",
       "<!-- Intro_Debugging -->\n",
       "<g class=\"node\" id=\"node6\">\n",
       "<title>Intro_Debugging</title>\n",
       "<g id=\"a_node6\"><a xlink:href=\"Intro_Debugging.ipynb\" xlink:title=\"Intro_Debugging\">\n",
       "<polygon fill=\"#ffffff\" points=\"490.5,-324 308.5,-324 308.5,-288 496.5,-288 496.5,-318 490.5,-324\" stroke=\"#000000\"/>\n",
       "<polyline fill=\"none\" points=\"490.5,-324 490.5,-318 \" stroke=\"#000000\"/>\n",
       "<polyline fill=\"none\" points=\"496.5,-318 490.5,-318 \" stroke=\"#000000\"/>\n",
       "<text fill=\"#a020f0\" font-family=\"Raleway\" font-size=\"14.00\" text-anchor=\"middle\" x=\"402.5\" y=\"-302.3\">Introduction to Debugging</text>\n",
       "</a>\n",
       "</g>\n",
       "</g>\n",
       "<!-- Intro_Debugging&#45;&gt;Tracer -->\n",
       "<g class=\"edge\" id=\"edge5\">\n",
       "<title>Intro_Debugging-&gt;Tracer</title>\n",
       "<path d=\"M380.7986,-287.8314C370.3079,-279.0485 357.5545,-268.3712 346.1806,-258.8489\" fill=\"none\" stroke=\"#000000\"/>\n",
       "<polygon fill=\"#000000\" points=\"348.1089,-255.8986 338.1945,-252.1628 343.6153,-261.2659 348.1089,-255.8986\" stroke=\"#000000\"/>\n",
       "</g>\n",
       "<!-- Slicer -->\n",
       "<g class=\"node\" id=\"node7\">\n",
       "<title>Slicer</title>\n",
       "<g id=\"a_node7\"><a xlink:href=\"Slicer.ipynb\" xlink:title=\"Slicer\">\n",
       "<polygon fill=\"#ffffff\" points=\"568,-252 405,-252 405,-216 574,-216 574,-246 568,-252\" stroke=\"#000000\"/>\n",
       "<polyline fill=\"none\" points=\"568,-252 568,-246 \" stroke=\"#000000\"/>\n",
       "<polyline fill=\"none\" points=\"574,-246 568,-246 \" stroke=\"#000000\"/>\n",
       "<text fill=\"#a020f0\" font-family=\"Raleway\" font-size=\"14.00\" text-anchor=\"middle\" x=\"489.5\" y=\"-230.3\">Tracking Failure Origins</text>\n",
       "</a>\n",
       "</g>\n",
       "</g>\n",
       "<!-- Intro_Debugging&#45;&gt;Slicer -->\n",
       "<g class=\"edge\" id=\"edge6\">\n",
       "<title>Intro_Debugging-&gt;Slicer</title>\n",
       "<path d=\"M424.4538,-287.8314C435.1695,-278.9632 448.2189,-268.1637 459.809,-258.5718\" fill=\"none\" stroke=\"#000000\"/>\n",
       "<polygon fill=\"#000000\" points=\"462.0808,-261.2349 467.5533,-252.1628 457.6178,-255.8422 462.0808,-261.2349\" stroke=\"#000000\"/>\n",
       "</g>\n",
       "<!-- ChangeDebugger&#45;&gt;Repairer -->\n",
       "<g class=\"edge\" id=\"edge9\">\n",
       "<title>ChangeDebugger-&gt;Repairer</title>\n",
       "<path d=\"M542.9947,-71.8314C529.182,-62.7074 512.2744,-51.539 497.4471,-41.7449\" fill=\"none\" stroke=\"#000000\"/>\n",
       "<polygon fill=\"#000000\" points=\"499.2696,-38.7541 488.9965,-36.1628 495.4114,-44.5949 499.2696,-38.7541\" stroke=\"#000000\"/>\n",
       "</g>\n",
       "</g>\n",
       "</svg>"
      ],
      "text/plain": [
       "<IPython.core.display.SVG object>"
      ]
     },
     "execution_count": 2,
     "metadata": {},
     "output_type": "execute_result"
    }
   ],
   "source": [
    "SVG(filename='PICS/Sitemap.svg')"
   ]
  },
  {
   "cell_type": "markdown",
   "metadata": {
    "button": false,
    "new_sheet": false,
    "run_control": {
     "read_only": false
    },
    "slideshow": {
     "slide_type": "slide"
    }
   },
   "source": [
    "But since even this map can be overwhelming, here are a few _tours_ to get you started.  Each of these tours allows you to focus on a particular view, depending on whether you are a programmer, student, or researcher."
   ]
  },
  {
   "cell_type": "markdown",
   "metadata": {
    "slideshow": {
     "slide_type": "slide"
    }
   },
   "source": [
    "## The Pragmatic Programmer Tour\n",
    "\n",
    "You have a program to test.  You want to generate tests as quickly as possible and as thorough as possible. You don't care so much how something is implemented, but it should get the job done.  You want to get to the point.\n",
    "\n",
    "1. __Start with [Introduction to Testing](Intro_Debugging.ipynb) to get the basic concepts.__  (You would know most of these anyway, but it can't hurt to get quick reminders).\n",
    "\n",
    "2. __Use the simple fuzzers from [the chapter on Fuzzers](Fuzzer.ipynb)__ to test your program against the first random inputs.\n",
    "\n",
    "3. __Get [coverage](Coverage.ipynb) from your program__ and use coverage information to [guide test generation towards code coverage](GreyboxFuzzer.ipynb).\n",
    "\n",
    "4. __Define an [input grammar](Grammars.ipynb) for your program__ and use this grammar to thoroughly fuzz your program with syntactically correct inputs.  As fuzzer, we would recommend a [grammar coverage fuzzer](GrammarCoverageFuzzer), as this ensures coverage of input elements.\n",
    "\n",
    "5. If you want __more control over the generated inputs,__ consider [probabilistic fuzzing](ProbabilisticGrammarFuzzer.ipynb) and [fuzzing with generator functions](GeneratorGrammarFuzzer.ipynb).\n",
    "\n",
    "6. If you want to __deploy a large set of fuzzers__, learn how to [manage a large set of fuzzers](FuzzingInTheLarge.ipynb).\n",
    "\n",
    "In each of these chapters, start with the \"Synopsis\" parts; these will give you quick introductions on how to use things, as well as point you to relevant usage examples.  With this, enough said.  Get back to work and enjoy!"
   ]
  },
  {
   "cell_type": "markdown",
   "metadata": {
    "button": false,
    "new_sheet": true,
    "run_control": {
     "read_only": false
    },
    "slideshow": {
     "slide_type": "slide"
    }
   },
   "source": [
    "## Lessons Learned\n",
    "\n",
    "* You can go through the book from beginning to end...\n",
    "* ...but it may be preferable to follow a specific tour, based on your needs and resources.\n",
    "* Now [go and explore generating software tests](index.ipynb)!"
   ]
  }
 ],
 "metadata": {
  "ipub": {
   "bibliography": "fuzzingbook.bib",
   "toc": true
  },
  "kernelspec": {
   "display_name": "Python 3",
   "language": "python",
   "name": "python3"
  },
  "language_info": {
   "codemirror_mode": {
    "name": "ipython",
    "version": 3
   },
   "file_extension": ".py",
   "mimetype": "text/x-python",
   "name": "python",
   "nbconvert_exporter": "python",
   "pygments_lexer": "ipython3",
   "version": "3.6.10"
  },
  "toc": {
   "base_numbering": 1,
   "nav_menu": {},
   "number_sections": true,
   "sideBar": true,
   "skip_h1_title": true,
   "title_cell": "",
   "title_sidebar": "Contents",
   "toc_cell": false,
   "toc_position": {},
   "toc_section_display": true,
   "toc_window_display": true
  },
  "toc-autonumbering": false
 },
 "nbformat": 4,
 "nbformat_minor": 2
}
