{
 "cells": [
  {
   "cell_type": "markdown",
   "metadata": {
    "button": false,
    "new_sheet": false,
    "run_control": {
     "read_only": false
    },
    "slideshow": {
     "slide_type": "slide"
    }
   },
   "source": [
    "# Learning from Failures\n",
    "\n",
    "Given the many executions we can generate, it is only natural that these executions would also be subject to _machine learning_ in order to learn which features of the input (or the execution) would be associated with failures.\n",
    "\n",
    "In this chapter, we study the _Alhazen_ approach, one of the first of this kind.\n",
    "Alhazen by Kampmann et al. \\cite{Kampmann2020} automatically learns the associations between the failure of a program and _features of the input data_, say \"The error occurs whenever the `<expr>` element is negative\"\n",
    "\n",
    "This chapter is based on an Alhazen implementation contributed by [Martin Eberlein](https://martineberlein.github.io) of TU Berlin. Thanks a lot, Martin!"
   ]
  },
  {
   "cell_type": "code",
   "execution_count": 1,
   "metadata": {
    "execution": {
     "iopub.execute_input": "2025-01-07T11:06:48.573928Z",
     "iopub.status.busy": "2025-01-07T11:06:48.573630Z",
     "iopub.status.idle": "2025-01-07T11:06:48.578163Z",
     "shell.execute_reply": "2025-01-07T11:06:48.577547Z"
    },
    "slideshow": {
     "slide_type": "subslide"
    }
   },
   "outputs": [],
   "source": [
    "# from bookutils import YouTubeVideo\n",
    "# YouTubeVideo(\"w4u5gCgPlmg\")"
   ]
  },
  {
   "cell_type": "markdown",
   "metadata": {
    "button": false,
    "new_sheet": false,
    "run_control": {
     "read_only": false
    },
    "slideshow": {
     "slide_type": "subslide"
    }
   },
   "source": [
    "**Prerequisites**\n",
    "\n",
    "* This chapter extends the ideas from [the chapter on Generalizing Failure Circumstances](DDSetDebugger.ipynb)."
   ]
  },
  {
   "cell_type": "code",
   "execution_count": 2,
   "metadata": {
    "button": false,
    "execution": {
     "iopub.execute_input": "2025-01-07T11:06:48.582700Z",
     "iopub.status.busy": "2025-01-07T11:06:48.582351Z",
     "iopub.status.idle": "2025-01-07T11:06:48.656455Z",
     "shell.execute_reply": "2025-01-07T11:06:48.656092Z"
    },
    "new_sheet": false,
    "run_control": {
     "read_only": false
    },
    "slideshow": {
     "slide_type": "skip"
    }
   },
   "outputs": [],
   "source": [
    "import bookutils.setup"
   ]
  },
  {
   "cell_type": "markdown",
   "metadata": {
    "slideshow": {
     "slide_type": "slide"
    }
   },
   "source": [
    "## Synopsis\n",
    "<!-- Automatically generated. Do not edit. -->\n",
    "\n",
    "To [use the code provided in this chapter](Importing.ipynb), write\n",
    "\n",
    "```python\n",
    ">>> from debuggingbook.Alhazen import <identifier>\n",
    "```\n",
    "\n",
    "and then make use of the following features.\n",
    "\n",
    "\n",
    "This chapter provides an implementation of the _Alhazen_ approach \\cite{Kampmann2020}, which trains machine learning _classifiers_ from input features.\n",
    "Given a test function, a grammar, and a set of inputs, the `Alhazen` class produces a decision tree that _characterizes failure circumstances_:\n",
    "\n",
    "```python\n",
    ">>> alhazen = Alhazen(sample_runner, CALC_GRAMMAR, initial_sample_list,\n",
    ">>>                   max_iterations=20)\n",
    ">>> alhazen.run()\n",
    "```\n",
    "The final decision tree can be accessed using `last_tree()`:\n",
    "\n",
    "```python\n",
    ">>> # alhazen.last_tree()\n",
    "```\n",
    "We can visualize the resulting decision tree using `Alhazen.show_decision_tree()`:\n",
    "\n",
    "```python\n",
    ">>> alhazen.show_decision_tree()\n",
    "```\n",
    "![](PICS/Alhazen-synopsis-1.svg)\n",
    "\n",
    "A decision tree is read from top to bottom.\n",
    "Decision nodes (with two children) come with a _predicate_ on top.\n",
    "This predicate is either\n",
    "\n",
    "* _numeric_, such as `<value> > 20`, indicating the numeric value of the given symbol, or\n",
    "* _existential_, such as `<digit> == '1'`, which has a _negative_ value when False, and a _positive_ value when True.\n",
    "\n",
    "If the predicate evaluates to `True`, follow the left path; if it evaluates to `False`, follow the right path.\n",
    "A leaf node (no children) will give you the final decision `class = BUG` or `class = NO_BUG`.\n",
    "\n",
    "So if the predicate states `<function> == 'sqrt' <= 0.5`, this means that\n",
    "\n",
    "* If the function is _not_ `sqrt` (the predicate `<function> == 'sqrt'` is negative, see above, and hence less than 0.5), follow the left (`True`) path.\n",
    "* If the function _is_ `sqrt` (the predicate `<function> == 'sqrt'` is positive), follow the right (`False`) path.\n",
    "\n",
    "The `samples` field shows the number of sample inputs that contributed to this decision.\n",
    "The `gini` field (aka Gini impurity) indicates how many samples fall into the displayed class (`BUG` or `NO_BUG`).\n",
    "A `gini` value of `0.0` means _purity_ - all samples fall into the displayed class.\n",
    "The _saturation_ of nodes also indicates purity – the higher the saturation, the higher the purity.\n",
    "\n",
    "There is also a text version available, with much fewer (but hopefully still essential) details:\n",
    "\n",
    "```python\n",
    ">>> print(alhazen.friendly_decision_tree())\n",
    "if <term> <= -11.5000:\n",
    "  if <term> <= -42.2970:\n",
    "    NO_BUG\n",
    "  else:\n",
    "    if <function> == 'sqrt':\n",
    "      BUG\n",
    "    else:\n",
    "      NO_BUG\n",
    "else:\n",
    "  NO_BUG\n",
    "\n",
    "\n",
    "```\n",
    "In both representations, we see that the present failure is associated with a negative value for the `sqrt` function and precise boundaries for its value.\n",
    "In fact, the error conditions are given in the source code:\n",
    "\n",
    "```python\n",
    ">>> import inspect\n",
    ">>> print(inspect.getsource(task_sqrt))\n",
    "def task_sqrt(x):\n",
    "    \"\"\"Computes the square root of x, using the Newton-Raphson method\"\"\"\n",
    "    if x <= -12 and x >= -42:\n",
    "        x = 0  # Guess where the bug is :-)\n",
    "    else:\n",
    "        x = 1\n",
    "    x = max(x, 0)\n",
    "    approx = None\n",
    "    guess = x / 2\n",
    "    while approx != guess:\n",
    "        approx = guess\n",
    "        guess = (approx + x / approx) / 2\n",
    "    return approx\n",
    "\n",
    "\n",
    "```\n",
    "Try out Alhazen on your own code and your own examples!\n",
    "\n"
   ]
  },
  {
   "cell_type": "markdown",
   "metadata": {
    "button": false,
    "new_sheet": true,
    "run_control": {
     "read_only": false
    },
    "slideshow": {
     "slide_type": "slide"
    }
   },
   "source": [
    "## Machine Learning for Automated Debugging\n",
    "\n",
    "When diagnosing why a program fails, the first step is to determine the circumstances under which the program fails.\n",
    "In past chapters, we have examined approaches that [correlate execution features with failures](StatisticalDebugger.ipynb)\n",
    "as well as tools that systematically _generate inputs_ to [reduce failure-inducing inputs](DeltaDebugger.ipynb) or [generalize failure circumstances](DDSetDebugger.ipynb).\n",
    "In this chapter, we will go one step further and make use of full-fledged _machine learning_ to identify failure circumstances (and causes)."
   ]
  },
  {
   "cell_type": "markdown",
   "metadata": {
    "slideshow": {
     "slide_type": "subslide"
    }
   },
   "source": [
    "### The Alhazen Approach"
   ]
  },
  {
   "cell_type": "markdown",
   "metadata": {
    "slideshow": {
     "slide_type": "subslide"
    }
   },
   "source": [
    "In 2020, Kampmann et al. \\cite{Kampmann2020} presented one of the first approaches to automatically learn circumstances of (failing) program behavior.\n",
    "Their approach associates the program’s failure with the _syntactical features_ of the input data, allowing them to learn and extract the properties that result in the specific behavior.\n",
    "\n",
    "Their reference implementation _Alhazen_ can generate a diagnosis and explain why, for instance, a particular bug occurs.\n",
    "Alhazen forms a hypothetical model based on the observed inputs.\n",
    "Additional test inputs are generated and executed to refine or refute the hypothesis, eventually obtaining a prediction model of the circumstances of why the behavior in question takes place."
   ]
  },
  {
   "cell_type": "markdown",
   "metadata": {
    "slideshow": {
     "slide_type": "subslide"
    }
   },
   "source": [
    "The tool is named after [Ḥasan Ibn al-Haytham](https://en.wikipedia.org/wiki/Ibn_al-Haytham) (latinized name: Alhazen).\n",
    "Often referred to as the \"Father of modern optics\", Ibn al-Haytham made significant contributions to the principles of optics and visual perception.\n",
    "Most notably, he was an early proponent of the concept that a hypothesis must be supported by experiments, and thus\n",
    "one of the inventors of the _scientific method_, the key process in the Alhazen tool."
   ]
  },
  {
   "cell_type": "markdown",
   "metadata": {
    "slideshow": {
     "slide_type": "fragment"
    }
   },
   "source": [
    "\n",
    "![title](PICS/Alhazen.png)"
   ]
  },
  {
   "cell_type": "markdown",
   "metadata": {
    "slideshow": {
     "slide_type": "subslide"
    }
   },
   "source": [
    "Let us give a high-level description of how Alhazen works, illustrated above.\n",
    "\n",
    "Alhazen is given an _input grammar_ and a number of _input files_ (whose format is given by the grammar),\n",
    "and produces a _decision tree_ – a machine learning model that explains under which circumstances the program fails.\n",
    "\n",
    "Alhazen determines and refines these decision trees in five steps:\n",
    "\n",
    "1. For each input file, Alhazen extracts a number of _input features_ that apply.\n",
    "   These input features are predicates over the individual elements of the input grammar, such as `<expr> > 0` (an `<expr>` element is larger than zero) or `exists(<minus-sign>)` (the input contains a minus sign).\n",
    "2. The test outcomes of the input files _label_ these input files as _buggy_ or _non-buggy_.\n",
    "   From the respective input features and the labels, Alhazen trains a _decision tree_ that associates these features with the labels - that is, the decision tree explains which features lead to _buggy_ or _non-buggy_.\n",
    "3. As it is typically trained on few samples only, the initial classification model may be imprecise.\n",
    "   Hence, Alhazen extracts further _requirements_ for additional test cases that may help in increasing precision, such as `<digit> == '6'` (we need more inputs in which the `<digit>` field has a value of `6`.)\n",
    "4. Satisfying these requirements, Alhazen then generates additional inputs...\n",
    "5. ...which it executes, thus again labeling them as _buggy_ or _non-buggy_.\n",
    "   From the new inputs, we can again extract the features, and repeat the cycle.\n",
    "\n",
    "The whole process keeps on refining decision trees with more and more inputs.\n",
    "Eventually, the decision trees are supposed to be precise enough that they can become _theory_ - that is, an explanation of why the program fails with high predictive power for future inputs."
   ]
  },
  {
   "cell_type": "markdown",
   "metadata": {
    "slideshow": {
     "slide_type": "subslide"
    }
   },
   "source": [
    "The Alhazen process thus automates the _scientific method of debugging_:\n",
    "\n",
    "* making initial _observations_ (Steps 1 and 2),\n",
    "* coming up with _hypotheses_ that explain the observations (Step 3),\n",
    "* designing _experiments_ to further _support_ or _refute_ the hypotheses (Steps 4 and 5),\n",
    "* and repeating the entire process until we have a _predicting theory_ on why the program fails."
   ]
  },
  {
   "cell_type": "markdown",
   "metadata": {
    "slideshow": {
     "slide_type": "subslide"
    }
   },
   "source": [
    "### Structure of this Chapter\n",
    "\n",
    "In the remainder of this chapter, we will first introduce [grammars](#Inputs-and-Grammars).\n",
    "\n",
    "We then explore and implement the individual steps of Alhazen:\n",
    "\n",
    "* [Step 1: Extracting Features](#Step-1:-Extracting-Features)\n",
    "* [Step 2: Train Classification Model](#Step-2:-Train-Classification-Model)\n",
    "* [Step 3: Extract Feature Requirements](#Step-3:-Extract-Feature-Requirements)\n",
    "* [Step 4: Generating New Samples](#Step-4:-Generating-New-Samples)\n",
    "* [Step 5: Executing New Inputs](#Step-5:-Generating-New-Inputs)\n",
    "\n",
    "After this is done, we can compose all these into a single `Alhazen` class and [run it on a sample input](#A-Sample-Run).\n",
    "If you want to see Alhazen in action first (before going into all the details, check out the sample run.)"
   ]
  },
  {
   "cell_type": "markdown",
   "metadata": {
    "button": false,
    "new_sheet": false,
    "run_control": {
     "read_only": false
    },
    "slideshow": {
     "slide_type": "slide"
    }
   },
   "source": [
    "## Inputs and Grammars"
   ]
  },
  {
   "cell_type": "markdown",
   "metadata": {
    "slideshow": {
     "slide_type": "fragment"
    }
   },
   "source": [
    "Alhazen heavily builds on _grammars_ as a means to decompose inputs into individual elements, such that it can reason about these elements, and also generate new ones automatically.\n",
    "\n",
    "To work with grammars, we use the framework provided by [The Fuzzing Book](https://www.fuzzingbook.org).\n",
    "For a more detailed description of Grammars and how to use them for production, have a look at the chapter [\"Fuzzing with Grammars\"](https://www.fuzzingbook.org/html/Grammars.html)"
   ]
  },
  {
   "cell_type": "code",
   "execution_count": 3,
   "metadata": {
    "execution": {
     "iopub.execute_input": "2025-01-07T11:06:48.658535Z",
     "iopub.status.busy": "2025-01-07T11:06:48.658431Z",
     "iopub.status.idle": "2025-01-07T11:06:48.660102Z",
     "shell.execute_reply": "2025-01-07T11:06:48.659854Z"
    },
    "slideshow": {
     "slide_type": "skip"
    }
   },
   "outputs": [],
   "source": [
    "from typing import List, Tuple, Dict, Any, Optional"
   ]
  },
  {
   "cell_type": "code",
   "execution_count": 4,
   "metadata": {
    "execution": {
     "iopub.execute_input": "2025-01-07T11:06:48.661593Z",
     "iopub.status.busy": "2025-01-07T11:06:48.661439Z",
     "iopub.status.idle": "2025-01-07T11:06:48.683495Z",
     "shell.execute_reply": "2025-01-07T11:06:48.683135Z"
    },
    "slideshow": {
     "slide_type": "skip"
    }
   },
   "outputs": [],
   "source": [
    "from fuzzingbook.Grammars import Grammar, EXPR_GRAMMAR, reachable_nonterminals, is_valid_grammar\n",
    "from fuzzingbook.GrammarFuzzer import GrammarFuzzer, expansion_to_children, DerivationTree, tree_to_string, display_tree, is_nonterminal\n",
    "from fuzzingbook.Parser import EarleyParser"
   ]
  },
  {
   "cell_type": "markdown",
   "metadata": {
    "slideshow": {
     "slide_type": "fragment"
    }
   },
   "source": [
    "Let us build a simple grammar for a calculator.\n",
    "The calculator code is listed below."
   ]
  },
  {
   "cell_type": "code",
   "execution_count": 5,
   "metadata": {
    "execution": {
     "iopub.execute_input": "2025-01-07T11:06:48.685069Z",
     "iopub.status.busy": "2025-01-07T11:06:48.684959Z",
     "iopub.status.idle": "2025-01-07T11:06:48.686704Z",
     "shell.execute_reply": "2025-01-07T11:06:48.686462Z"
    },
    "slideshow": {
     "slide_type": "skip"
    }
   },
   "outputs": [],
   "source": [
    "from math import tan as rtan\n",
    "from math import cos as rcos\n",
    "from math import sin as rsin"
   ]
  },
  {
   "cell_type": "code",
   "execution_count": 6,
   "metadata": {
    "execution": {
     "iopub.execute_input": "2025-01-07T11:06:48.687885Z",
     "iopub.status.busy": "2025-01-07T11:06:48.687778Z",
     "iopub.status.idle": "2025-01-07T11:06:48.690245Z",
     "shell.execute_reply": "2025-01-07T11:06:48.689958Z"
    },
    "slideshow": {
     "slide_type": "subslide"
    }
   },
   "outputs": [],
   "source": [
    "\"\"\"\n",
    "This file contains the code under test for the example bug.\n",
    "The sqrt() method fails on x <= 0.\n",
    "\"\"\"\n",
    "def task_sqrt(x):\n",
    "    \"\"\"Computes the square root of x, using the Newton-Raphson method\"\"\"\n",
    "    if x <= -12 and x >= -42:\n",
    "        x = 0  # Guess where the bug is :-)\n",
    "    else:\n",
    "        x = 1\n",
    "    x = max(x, 0)\n",
    "    approx = None\n",
    "    guess = x / 2\n",
    "    while approx != guess:\n",
    "        approx = guess\n",
    "        guess = (approx + x / approx) / 2\n",
    "    return approx\n",
    "\n",
    "\n",
    "def task_tan(x):\n",
    "    return rtan(x)\n",
    "\n",
    "\n",
    "def task_cos(x):\n",
    "    return rcos(x)\n",
    "\n",
    "\n",
    "def task_sin(x):\n",
    "    return rsin(x)"
   ]
  },
  {
   "cell_type": "markdown",
   "metadata": {
    "slideshow": {
     "slide_type": "subslide"
    }
   },
   "source": [
    "\n",
    "\n",
    "The language consists of functions (`<function>`) that are being invoked on a numerical value (`<term>`)."
   ]
  },
  {
   "cell_type": "code",
   "execution_count": 7,
   "metadata": {
    "execution": {
     "iopub.execute_input": "2025-01-07T11:06:48.691692Z",
     "iopub.status.busy": "2025-01-07T11:06:48.691579Z",
     "iopub.status.idle": "2025-01-07T11:06:48.693787Z",
     "shell.execute_reply": "2025-01-07T11:06:48.693548Z"
    },
    "slideshow": {
     "slide_type": "subslide"
    }
   },
   "outputs": [],
   "source": [
    "CALC_GRAMMAR: Grammar = {\n",
    "    \"<start>\":\n",
    "        [\"<function>(<term>)\"],\n",
    "\n",
    "    \"<function>\":\n",
    "        [\"sqrt\", \"tan\", \"cos\", \"sin\"],\n",
    "\n",
    "    \"<term>\": [\"-<value>\", \"<value>\"],\n",
    "\n",
    "    \"<value>\":\n",
    "        [\"<integer>.<digits>\",\n",
    "         \"<integer>\"],\n",
    "\n",
    "    \"<integer>\":\n",
    "        [\"<lead-digit><digits>\", \"<digit>\"],\n",
    "\n",
    "    \"<digits>\":\n",
    "        [\"<digit><digits>\", \"<digit>\"],\n",
    "\n",
    "    \"<lead-digit>\":  # First digit cannot be zero\n",
    "        [\"1\", \"2\", \"3\", \"4\", \"5\", \"6\", \"7\", \"8\", \"9\"],\n",
    "\n",
    "    \"<digit>\":\n",
    "        [\"0\", \"1\", \"2\", \"3\", \"4\", \"5\", \"6\", \"7\", \"8\", \"9\"],\n",
    "}"
   ]
  },
  {
   "cell_type": "markdown",
   "metadata": {
    "slideshow": {
     "slide_type": "subslide"
    }
   },
   "source": [
    "We see that the `CALC_GRAMMAR` consists of several production rules. The calculator subject will only accept inputs that conform to this grammar definition."
   ]
  },
  {
   "cell_type": "markdown",
   "metadata": {
    "slideshow": {
     "slide_type": "fragment"
    }
   },
   "source": [
    "Let us load two initial input samples:\n",
    "- `sqrt(-16)`\n",
    "- `sqrt(4)`"
   ]
  },
  {
   "cell_type": "code",
   "execution_count": 8,
   "metadata": {
    "execution": {
     "iopub.execute_input": "2025-01-07T11:06:48.695053Z",
     "iopub.status.busy": "2025-01-07T11:06:48.694972Z",
     "iopub.status.idle": "2025-01-07T11:06:48.696503Z",
     "shell.execute_reply": "2025-01-07T11:06:48.696271Z"
    },
    "slideshow": {
     "slide_type": "fragment"
    }
   },
   "outputs": [],
   "source": [
    "# Load initial input files\n",
    "initial_sample_list = ['sqrt(-16)', 'sqrt(4)']"
   ]
  },
  {
   "cell_type": "markdown",
   "metadata": {
    "slideshow": {
     "slide_type": "fragment"
    }
   },
   "source": [
    "Let's execute our two input samples and observe the calculator's behavior.\n",
    "We implement the function `sample_runner(sample)` that lets us execute the calculator for a single sample. `sample_runner(sample)` returns an `OracleResult` for the sample."
   ]
  },
  {
   "cell_type": "code",
   "execution_count": 9,
   "metadata": {
    "execution": {
     "iopub.execute_input": "2025-01-07T11:06:48.697989Z",
     "iopub.status.busy": "2025-01-07T11:06:48.697906Z",
     "iopub.status.idle": "2025-01-07T11:06:48.699345Z",
     "shell.execute_reply": "2025-01-07T11:06:48.699111Z"
    },
    "slideshow": {
     "slide_type": "skip"
    }
   },
   "outputs": [],
   "source": [
    "from enum import Enum"
   ]
  },
  {
   "cell_type": "code",
   "execution_count": 10,
   "metadata": {
    "execution": {
     "iopub.execute_input": "2025-01-07T11:06:48.700748Z",
     "iopub.status.busy": "2025-01-07T11:06:48.700664Z",
     "iopub.status.idle": "2025-01-07T11:06:48.702666Z",
     "shell.execute_reply": "2025-01-07T11:06:48.702379Z"
    },
    "slideshow": {
     "slide_type": "subslide"
    }
   },
   "outputs": [],
   "source": [
    "class OracleResult(Enum):\n",
    "    BUG = \"BUG\"\n",
    "    NO_BUG = \"NO_BUG\"\n",
    "    UNDEF = \"UNDEF\"\n",
    "\n",
    "    def __str__(self):\n",
    "        return self.value"
   ]
  },
  {
   "cell_type": "code",
   "execution_count": 11,
   "metadata": {
    "execution": {
     "iopub.execute_input": "2025-01-07T11:06:48.704342Z",
     "iopub.status.busy": "2025-01-07T11:06:48.704243Z",
     "iopub.status.idle": "2025-01-07T11:06:48.706253Z",
     "shell.execute_reply": "2025-01-07T11:06:48.705895Z"
    },
    "slideshow": {
     "slide_type": "skip"
    }
   },
   "outputs": [],
   "source": [
    "import sys"
   ]
  },
  {
   "cell_type": "code",
   "execution_count": 12,
   "metadata": {
    "execution": {
     "iopub.execute_input": "2025-01-07T11:06:48.707771Z",
     "iopub.status.busy": "2025-01-07T11:06:48.707679Z",
     "iopub.status.idle": "2025-01-07T11:06:48.710102Z",
     "shell.execute_reply": "2025-01-07T11:06:48.709691Z"
    },
    "slideshow": {
     "slide_type": "subslide"
    }
   },
   "outputs": [],
   "source": [
    "SUBJECT = \"calculator\"\n",
    "\n",
    "def sample_runner(sample):\n",
    "    testcode = sample\n",
    "\n",
    "    try:\n",
    "        # Simply execute the calculator code, with the functions replaced\n",
    "        exec(testcode, {\"sqrt\": task_sqrt, \"tan\": task_tan, \"sin\": task_sin, \"cos\": task_cos}, {})\n",
    "        return OracleResult.NO_BUG\n",
    "    except ZeroDivisionError:\n",
    "        return OracleResult.BUG\n",
    "    except Exception as e:\n",
    "        print(e, file=sys.stderr)\n",
    "        return OracleResult.UNDEF"
   ]
  },
  {
   "cell_type": "markdown",
   "metadata": {
    "slideshow": {
     "slide_type": "fragment"
    }
   },
   "source": [
    "Let's test the function:"
   ]
  },
  {
   "cell_type": "code",
   "execution_count": 13,
   "metadata": {
    "execution": {
     "iopub.execute_input": "2025-01-07T11:06:48.711909Z",
     "iopub.status.busy": "2025-01-07T11:06:48.711801Z",
     "iopub.status.idle": "2025-01-07T11:06:48.715499Z",
     "shell.execute_reply": "2025-01-07T11:06:48.715235Z"
    },
    "slideshow": {
     "slide_type": "subslide"
    }
   },
   "outputs": [
    {
     "data": {
      "text/plain": [
       "<OracleResult.BUG: 'BUG'>"
      ]
     },
     "execution_count": 13,
     "metadata": {},
     "output_type": "execute_result"
    }
   ],
   "source": [
    "sample = \"sqrt(-16)\"\n",
    "sample_runner(sample)"
   ]
  },
  {
   "cell_type": "markdown",
   "metadata": {
    "slideshow": {
     "slide_type": "fragment"
    }
   },
   "source": [
    "As expected, the sample `sqrt(-16)` triggers the calculator bug. Let's try some more samples:"
   ]
  },
  {
   "cell_type": "code",
   "execution_count": 14,
   "metadata": {
    "execution": {
     "iopub.execute_input": "2025-01-07T11:06:48.739299Z",
     "iopub.status.busy": "2025-01-07T11:06:48.739142Z",
     "iopub.status.idle": "2025-01-07T11:06:48.741146Z",
     "shell.execute_reply": "2025-01-07T11:06:48.740830Z"
    },
    "slideshow": {
     "slide_type": "fragment"
    }
   },
   "outputs": [],
   "source": [
    "assert sample_runner(\"sqrt(-23)\") == OracleResult.BUG\n",
    "assert sample_runner(\"sqrt(44)\") == OracleResult.NO_BUG\n",
    "assert sample_runner(\"cos(-9)\") == OracleResult.NO_BUG"
   ]
  },
  {
   "cell_type": "markdown",
   "metadata": {
    "slideshow": {
     "slide_type": "fragment"
    }
   },
   "source": [
    "What happens if we parse inputs to calculator that do not conform to its input format?"
   ]
  },
  {
   "cell_type": "code",
   "execution_count": 15,
   "metadata": {
    "execution": {
     "iopub.execute_input": "2025-01-07T11:06:48.742475Z",
     "iopub.status.busy": "2025-01-07T11:06:48.742368Z",
     "iopub.status.idle": "2025-01-07T11:06:48.745046Z",
     "shell.execute_reply": "2025-01-07T11:06:48.744716Z"
    },
    "slideshow": {
     "slide_type": "fragment"
    }
   },
   "outputs": [
    {
     "name": "stderr",
     "output_type": "stream",
     "text": [
      "name 'undef_function' is not defined\n"
     ]
    },
    {
     "data": {
      "text/plain": [
       "<OracleResult.UNDEF: 'UNDEF'>"
      ]
     },
     "execution_count": 15,
     "metadata": {},
     "output_type": "execute_result"
    }
   ],
   "source": [
    "sample_runner(\"undef_function(QUERY)\")"
   ]
  },
  {
   "cell_type": "markdown",
   "metadata": {
    "slideshow": {
     "slide_type": "subslide"
    }
   },
   "source": [
    "The function `sample_runner(sample)` returns an `OracleResult.UNDEF` whenever the runner is not able to execute the sample."
   ]
  },
  {
   "cell_type": "markdown",
   "metadata": {
    "slideshow": {
     "slide_type": "fragment"
    }
   },
   "source": [
    "Finally, we provide the function `execute_samples(sample_list)` that obtains the oracle/label for a list of samples.\n",
    "We use the `pandas` module to place these in a data frame."
   ]
  },
  {
   "cell_type": "code",
   "execution_count": 16,
   "metadata": {
    "execution": {
     "iopub.execute_input": "2025-01-07T11:06:48.747012Z",
     "iopub.status.busy": "2025-01-07T11:06:48.746844Z",
     "iopub.status.idle": "2025-01-07T11:06:49.188961Z",
     "shell.execute_reply": "2025-01-07T11:06:49.188400Z"
    },
    "slideshow": {
     "slide_type": "skip"
    }
   },
   "outputs": [],
   "source": [
    "import pandas\n",
    "import numpy\n",
    "import matplotlib"
   ]
  },
  {
   "cell_type": "code",
   "execution_count": 17,
   "metadata": {
    "execution": {
     "iopub.execute_input": "2025-01-07T11:06:49.191209Z",
     "iopub.status.busy": "2025-01-07T11:06:49.190997Z",
     "iopub.status.idle": "2025-01-07T11:06:49.193927Z",
     "shell.execute_reply": "2025-01-07T11:06:49.193134Z"
    },
    "slideshow": {
     "slide_type": "fragment"
    }
   },
   "outputs": [],
   "source": [
    "# Executes a list of samples and return the execution outcome (label)\n",
    "# The function returns a pandas dataframe\n",
    "def execute_samples(sample_list):\n",
    "    data = []\n",
    "    for sample in sample_list:\n",
    "        result = sample_runner(sample)\n",
    "        data.append({\"oracle\": result })\n",
    "\n",
    "    return pandas.DataFrame.from_records(data)"
   ]
  },
  {
   "cell_type": "markdown",
   "metadata": {
    "slideshow": {
     "slide_type": "subslide"
    }
   },
   "source": [
    "Let us define a bigger list of samples to execute..."
   ]
  },
  {
   "cell_type": "code",
   "execution_count": 18,
   "metadata": {
    "execution": {
     "iopub.execute_input": "2025-01-07T11:06:49.195939Z",
     "iopub.status.busy": "2025-01-07T11:06:49.195820Z",
     "iopub.status.idle": "2025-01-07T11:06:49.197947Z",
     "shell.execute_reply": "2025-01-07T11:06:49.197524Z"
    },
    "slideshow": {
     "slide_type": "fragment"
    }
   },
   "outputs": [],
   "source": [
    "sample_list = [\"sqrt(-20)\", \"cos(2)\", \"sqrt(-100)\", \"undef_function(foo)\"]"
   ]
  },
  {
   "cell_type": "markdown",
   "metadata": {
    "slideshow": {
     "slide_type": "fragment"
    }
   },
   "source": [
    "... and obtain the execution outcome"
   ]
  },
  {
   "cell_type": "code",
   "execution_count": 19,
   "metadata": {
    "execution": {
     "iopub.execute_input": "2025-01-07T11:06:49.199922Z",
     "iopub.status.busy": "2025-01-07T11:06:49.199752Z",
     "iopub.status.idle": "2025-01-07T11:06:49.210423Z",
     "shell.execute_reply": "2025-01-07T11:06:49.209912Z"
    },
    "slideshow": {
     "slide_type": "fragment"
    }
   },
   "outputs": [
    {
     "name": "stderr",
     "output_type": "stream",
     "text": [
      "name 'undef_function' is not defined\n"
     ]
    },
    {
     "data": {
      "text/html": [
       "<div>\n",
       "<style scoped>\n",
       "    .dataframe tbody tr th:only-of-type {\n",
       "        vertical-align: middle;\n",
       "    }\n",
       "\n",
       "    .dataframe tbody tr th {\n",
       "        vertical-align: top;\n",
       "    }\n",
       "\n",
       "    .dataframe thead th {\n",
       "        text-align: right;\n",
       "    }\n",
       "</style>\n",
       "<table border=\"1\" class=\"dataframe\">\n",
       "  <thead>\n",
       "    <tr style=\"text-align: right;\">\n",
       "      <th></th>\n",
       "      <th>oracle</th>\n",
       "    </tr>\n",
       "  </thead>\n",
       "  <tbody>\n",
       "    <tr>\n",
       "      <th>0</th>\n",
       "      <td>BUG</td>\n",
       "    </tr>\n",
       "    <tr>\n",
       "      <th>1</th>\n",
       "      <td>NO_BUG</td>\n",
       "    </tr>\n",
       "    <tr>\n",
       "      <th>2</th>\n",
       "      <td>NO_BUG</td>\n",
       "    </tr>\n",
       "    <tr>\n",
       "      <th>3</th>\n",
       "      <td>UNDEF</td>\n",
       "    </tr>\n",
       "  </tbody>\n",
       "</table>\n",
       "</div>"
      ],
      "text/plain": [
       "   oracle\n",
       "0     BUG\n",
       "1  NO_BUG\n",
       "2  NO_BUG\n",
       "3   UNDEF"
      ]
     },
     "execution_count": 19,
     "metadata": {},
     "output_type": "execute_result"
    }
   ],
   "source": [
    "labels = execute_samples(sample_list)\n",
    "labels"
   ]
  },
  {
   "cell_type": "markdown",
   "metadata": {
    "slideshow": {
     "slide_type": "fragment"
    }
   },
   "source": [
    "We can combine these with the `sample_list`:"
   ]
  },
  {
   "cell_type": "code",
   "execution_count": 20,
   "metadata": {
    "execution": {
     "iopub.execute_input": "2025-01-07T11:06:49.213326Z",
     "iopub.status.busy": "2025-01-07T11:06:49.213179Z",
     "iopub.status.idle": "2025-01-07T11:06:49.216249Z",
     "shell.execute_reply": "2025-01-07T11:06:49.215719Z"
    },
    "slideshow": {
     "slide_type": "subslide"
    }
   },
   "outputs": [
    {
     "name": "stdout",
     "output_type": "stream",
     "text": [
      "sqrt(-20)                     BUG\n",
      "cos(2)                        NO_BUG\n",
      "sqrt(-100)                    NO_BUG\n",
      "undef_function(foo)           UNDEF\n"
     ]
    }
   ],
   "source": [
    "for i, row in enumerate(labels['oracle']): print(sample_list[i].ljust(30) + str(row))"
   ]
  },
  {
   "cell_type": "markdown",
   "metadata": {
    "slideshow": {
     "slide_type": "fragment"
    }
   },
   "source": [
    "We can remove the undefined input samples like this:"
   ]
  },
  {
   "cell_type": "code",
   "execution_count": 21,
   "metadata": {
    "execution": {
     "iopub.execute_input": "2025-01-07T11:06:49.219587Z",
     "iopub.status.busy": "2025-01-07T11:06:49.219314Z",
     "iopub.status.idle": "2025-01-07T11:06:49.226404Z",
     "shell.execute_reply": "2025-01-07T11:06:49.225590Z"
    },
    "slideshow": {
     "slide_type": "fragment"
    }
   },
   "outputs": [
    {
     "data": {
      "text/html": [
       "<div>\n",
       "<style scoped>\n",
       "    .dataframe tbody tr th:only-of-type {\n",
       "        vertical-align: middle;\n",
       "    }\n",
       "\n",
       "    .dataframe tbody tr th {\n",
       "        vertical-align: top;\n",
       "    }\n",
       "\n",
       "    .dataframe thead th {\n",
       "        text-align: right;\n",
       "    }\n",
       "</style>\n",
       "<table border=\"1\" class=\"dataframe\">\n",
       "  <thead>\n",
       "    <tr style=\"text-align: right;\">\n",
       "      <th></th>\n",
       "      <th>oracle</th>\n",
       "    </tr>\n",
       "  </thead>\n",
       "  <tbody>\n",
       "    <tr>\n",
       "      <th>0</th>\n",
       "      <td>BUG</td>\n",
       "    </tr>\n",
       "    <tr>\n",
       "      <th>1</th>\n",
       "      <td>NO_BUG</td>\n",
       "    </tr>\n",
       "    <tr>\n",
       "      <th>2</th>\n",
       "      <td>NO_BUG</td>\n",
       "    </tr>\n",
       "  </tbody>\n",
       "</table>\n",
       "</div>"
      ],
      "text/plain": [
       "   oracle\n",
       "0     BUG\n",
       "1  NO_BUG\n",
       "2  NO_BUG"
      ]
     },
     "execution_count": 21,
     "metadata": {},
     "output_type": "execute_result"
    }
   ],
   "source": [
    "clean_data = labels.drop(labels[labels.oracle.astype(str) == \"UNDEF\"].index)\n",
    "clean_data"
   ]
  },
  {
   "cell_type": "markdown",
   "metadata": {
    "slideshow": {
     "slide_type": "fragment"
    }
   },
   "source": [
    "We can combine sample and labels by iterating over the obtained oracle:"
   ]
  },
  {
   "cell_type": "code",
   "execution_count": 22,
   "metadata": {
    "execution": {
     "iopub.execute_input": "2025-01-07T11:06:49.228798Z",
     "iopub.status.busy": "2025-01-07T11:06:49.228634Z",
     "iopub.status.idle": "2025-01-07T11:06:49.231580Z",
     "shell.execute_reply": "2025-01-07T11:06:49.231177Z"
    },
    "slideshow": {
     "slide_type": "subslide"
    }
   },
   "outputs": [
    {
     "name": "stdout",
     "output_type": "stream",
     "text": [
      "sqrt(-20)                     BUG\n",
      "cos(2)                        NO_BUG\n",
      "sqrt(-100)                    NO_BUG\n",
      "undef_function(foo)           UNDEF\n"
     ]
    },
    {
     "name": "stderr",
     "output_type": "stream",
     "text": [
      "name 'undef_function' is not defined\n"
     ]
    }
   ],
   "source": [
    "oracle = execute_samples(sample_list)\n",
    "for i, row in enumerate(oracle['oracle']):\n",
    "    print(sample_list[i].ljust(30) + str(row))"
   ]
  },
  {
   "cell_type": "markdown",
   "metadata": {
    "slideshow": {
     "slide_type": "subslide"
    }
   },
   "source": [
    "We observe that the sample `sqrt(-16)` triggers a bug in the calculator, whereas the sample `sqrt(4)` does not show unusual behavior. Of course, we want to know why the sample fails the program. In a typical use case, the developers of the calculator program would now try other input samples and evaluate if similar inputs also trigger the program's failure. Let's try some more input samples; maybe we can refine our understanding of why the calculator crashes:"
   ]
  },
  {
   "cell_type": "markdown",
   "metadata": {
    "slideshow": {
     "slide_type": "fragment"
    }
   },
   "source": [
    "Our guesses - maybe the failure is also in the `cos()` or `tan()` function?"
   ]
  },
  {
   "cell_type": "code",
   "execution_count": 23,
   "metadata": {
    "execution": {
     "iopub.execute_input": "2025-01-07T11:06:49.234758Z",
     "iopub.status.busy": "2025-01-07T11:06:49.234244Z",
     "iopub.status.idle": "2025-01-07T11:06:49.236708Z",
     "shell.execute_reply": "2025-01-07T11:06:49.236305Z"
    },
    "slideshow": {
     "slide_type": "fragment"
    }
   },
   "outputs": [],
   "source": [
    "guess_samples = ['cos(-16)', 'tan(-16)', 'sqrt(-100)', 'sqrt(-20.23412431234123)']"
   ]
  },
  {
   "cell_type": "markdown",
   "metadata": {
    "slideshow": {
     "slide_type": "fragment"
    }
   },
   "source": [
    "Let's obtain the execution outcome for each of our guesses:\n"
   ]
  },
  {
   "cell_type": "code",
   "execution_count": 24,
   "metadata": {
    "execution": {
     "iopub.execute_input": "2025-01-07T11:06:49.239500Z",
     "iopub.status.busy": "2025-01-07T11:06:49.239354Z",
     "iopub.status.idle": "2025-01-07T11:06:49.241359Z",
     "shell.execute_reply": "2025-01-07T11:06:49.241133Z"
    },
    "slideshow": {
     "slide_type": "fragment"
    }
   },
   "outputs": [],
   "source": [
    "guess_oracle = execute_samples(guess_samples)"
   ]
  },
  {
   "cell_type": "markdown",
   "metadata": {
    "slideshow": {
     "slide_type": "fragment"
    }
   },
   "source": [
    "Here come the results:"
   ]
  },
  {
   "cell_type": "code",
   "execution_count": 25,
   "metadata": {
    "execution": {
     "iopub.execute_input": "2025-01-07T11:06:49.246757Z",
     "iopub.status.busy": "2025-01-07T11:06:49.246236Z",
     "iopub.status.idle": "2025-01-07T11:06:49.249586Z",
     "shell.execute_reply": "2025-01-07T11:06:49.248992Z"
    },
    "slideshow": {
     "slide_type": "subslide"
    }
   },
   "outputs": [
    {
     "name": "stdout",
     "output_type": "stream",
     "text": [
      "cos(-16)                      NO_BUG\n",
      "tan(-16)                      NO_BUG\n",
      "sqrt(-100)                    NO_BUG\n",
      "sqrt(-20.23412431234123)      BUG\n"
     ]
    }
   ],
   "source": [
    "for i, row in enumerate(guess_oracle['oracle']):\n",
    "    print(guess_samples[i].ljust(30) + str(row))"
   ]
  },
  {
   "cell_type": "markdown",
   "metadata": {
    "slideshow": {
     "slide_type": "fragment"
    }
   },
   "source": [
    "It looks like the failure only occurs in the `sqrt()` function, however, only for specific `x` values.\n",
    "We could now try other values for `x` and repeat the process.\n",
    "However, this would be highly time-consuming and not an efficient debugging technique for a larger and more complex test subject."
   ]
  },
  {
   "cell_type": "markdown",
   "metadata": {
    "slideshow": {
     "slide_type": "subslide"
    }
   },
   "source": [
    "Wouldn't it be great if there was a tool that automatically does this for us? \n",
    "And this is exactly what _Alhazen_ is there for.\n",
    "It helps us explain why specific input features cause a program to fail."
   ]
  },
  {
   "cell_type": "markdown",
   "metadata": {
    "slideshow": {
     "slide_type": "slide"
    }
   },
   "source": [
    "## Step 1: Extracting Features"
   ]
  },
  {
   "cell_type": "markdown",
   "metadata": {
    "slideshow": {
     "slide_type": "subslide"
    }
   },
   "source": [
    "In this section, we are concerned with the problem of extracting semantic features from inputs. In particular, Alhazen defines various features based on the input grammar, such as *existence* and *numeric interpretation*. These features are then extracted from the parse trees of the inputs (see Section 3 of \\cite{Kampmann2020} for more details).\n",
    "\n",
    "The implementation of the feature extraction module consists of the following three tasks:\n",
    "1. Implementation of individual _feature classes_, whose instances allow deriving specific feature values from inputs\n",
    "2. _Extraction of features from the grammar_ through instantiation of the aforementioned feature classes\n",
    "3. Computation of _feature vectors_ from a set of inputs, which will then be used as input for the decision tree"
   ]
  },
  {
   "cell_type": "markdown",
   "metadata": {
    "slideshow": {
     "slide_type": "subslide"
    }
   },
   "source": [
    "### Internal and \"Friendly\" Feature Names\n",
    "\n",
    "We use two kinds of _names_ for features:\n",
    "\n",
    "* _internal_ names have the form `<SYMBOL>@N` and refer to the `N`-th expansion of symbol (starting with 0).\n",
    "  In `CALC_GRAMMAR`, for instance, `<function>@0` refers to the expansion of `<function>` to `\"sqrt\"`\n",
    "* _friendly_ names are more user-friendly (hence the name).\n",
    "  The above feature `<function>@0` has the \"friendly\" name `<function> == \"sqrt\"`.\n",
    "\n",
    "We use internal names in all our interaction with the machine learner, as they are unambiguous and do not contain whitespace.\n",
    "When showing the final results, we switch to \"friendly\" names."
   ]
  },
  {
   "cell_type": "markdown",
   "metadata": {
    "slideshow": {
     "slide_type": "subslide"
    }
   },
   "source": [
    "### Implementing Feature Classes"
   ]
  },
  {
   "cell_type": "code",
   "execution_count": 26,
   "metadata": {
    "execution": {
     "iopub.execute_input": "2025-01-07T11:06:49.252116Z",
     "iopub.status.busy": "2025-01-07T11:06:49.251967Z",
     "iopub.status.idle": "2025-01-07T11:06:49.253814Z",
     "shell.execute_reply": "2025-01-07T11:06:49.253580Z"
    },
    "slideshow": {
     "slide_type": "skip"
    }
   },
   "outputs": [],
   "source": [
    "from abc import ABC, abstractmethod"
   ]
  },
  {
   "cell_type": "code",
   "execution_count": 27,
   "metadata": {
    "execution": {
     "iopub.execute_input": "2025-01-07T11:06:49.255299Z",
     "iopub.status.busy": "2025-01-07T11:06:49.255141Z",
     "iopub.status.idle": "2025-01-07T11:06:49.258573Z",
     "shell.execute_reply": "2025-01-07T11:06:49.258091Z"
    },
    "slideshow": {
     "slide_type": "subslide"
    }
   },
   "outputs": [],
   "source": [
    "class Feature(ABC):\n",
    "    '''\n",
    "    The abstract base class for grammar features.\n",
    "\n",
    "    Args:\n",
    "        name : A unique identifier name for this feature. Should not contain Whitespaces.\n",
    "               e.g., 'type(<feature>@1)'\n",
    "        rule : The production rule (e.g., '<function>' or '<value>').\n",
    "        key  : The feature key (e.g., the chosen alternative or rule itself).\n",
    "    '''\n",
    "\n",
    "    def __init__(self, name: str, rule: str, key: str, /,\n",
    "                 friendly_name: str = None) -> None:\n",
    "        self.name = name\n",
    "        self.rule = rule\n",
    "        self.key = key\n",
    "        self._friendly_name = friendly_name or name\n",
    "        super().__init__()\n",
    "\n",
    "    def __repr__(self) -> str:\n",
    "        '''Returns a printable string representation of the feature.'''\n",
    "        return self.name_rep()\n",
    "\n",
    "    @abstractmethod\n",
    "    def name_rep(self) -> str:\n",
    "        pass\n",
    "\n",
    "    def friendly_name(self) -> str:\n",
    "        return self._friendly_name\n",
    "\n",
    "    @abstractmethod\n",
    "    def get_feature_value(self, derivation_tree) -> float:\n",
    "        '''Returns the feature value for a given derivation tree of an input.'''\n",
    "        pass\n",
    "\n",
    "    def replace(self, new_key: str) -> 'Feature':\n",
    "        '''Returns a new feature with the same name but a different key.'''\n",
    "        return self.__class__(self.name, self.rule, new_key)"
   ]
  },
  {
   "cell_type": "code",
   "execution_count": 28,
   "metadata": {
    "execution": {
     "iopub.execute_input": "2025-01-07T11:06:49.261144Z",
     "iopub.status.busy": "2025-01-07T11:06:49.260904Z",
     "iopub.status.idle": "2025-01-07T11:06:49.266500Z",
     "shell.execute_reply": "2025-01-07T11:06:49.265810Z"
    },
    "slideshow": {
     "slide_type": "subslide"
    }
   },
   "outputs": [],
   "source": [
    "class ExistenceFeature(Feature):\n",
    "    '''\n",
    "    This class represents existence features of a grammar. Existence features indicate\n",
    "    whether a particular production rule was used in the derivation sequence of an input.\n",
    "    For a given production rule P -> A | B, a production existence feature for P and\n",
    "    alternative existence features for each alternative (i.e., A and B) are defined.\n",
    "\n",
    "    name : A unique identifier name for this feature. Should not contain Whitespaces.\n",
    "           e.g., 'exist(<digit>@1)'\n",
    "    rule : The production rule.\n",
    "    key  : The feature key, equal to the rule attribute for production features,\n",
    "           or equal to the corresponding alternative for alternative features.\n",
    "    '''\n",
    "    def __init__(self, name: str, rule: str, key: str,\n",
    "                 friendly_name: str = None) -> None:\n",
    "        super().__init__(name, rule, key, friendly_name=friendly_name)\n",
    "\n",
    "    def name_rep(self) -> str:\n",
    "        if self.rule == self.key:\n",
    "            return f\"exists({self.rule})\"\n",
    "        else:\n",
    "            return f\"exists({self.rule} == {self.key})\"\n",
    "\n",
    "    def get_feature_value(self, derivation_tree) -> float:\n",
    "        '''Returns the feature value for a given derivation tree of an input.'''\n",
    "        raise NotImplementedError\n",
    "\n",
    "    def get_feature_value(self, derivation_tree: DerivationTree) -> float:\n",
    "        '''Counts the number of times this feature was matched in the derivation tree.'''\n",
    "        (node, children) = derivation_tree\n",
    "\n",
    "        # The local match count (1 if the feature is matched for the current node, 0 if not)\n",
    "        count = 0\n",
    "\n",
    "        # First check if the current node can be matched with the rule\n",
    "        if node == self.rule:\n",
    "\n",
    "            # Production existance feature\n",
    "            if self.rule == self.key:\n",
    "                count = 1\n",
    "\n",
    "            # Production alternative existance feature\n",
    "            # We compare the children of the expansion with the actual children\n",
    "            else:\n",
    "                expansion_children = list(map(lambda x: x[0], expansion_to_children(self.key)))\n",
    "                node_children = list(map(lambda x: x[0], children))\n",
    "                if expansion_children == node_children:\n",
    "                    count= 1\n",
    "\n",
    "        # Recursively compute the counts for all children and return the sum for the whole tree\n",
    "        for child in children:\n",
    "            count = max(count, self.get_feature_value(child)) \n",
    "\n",
    "        return count"
   ]
  },
  {
   "cell_type": "code",
   "execution_count": 29,
   "metadata": {
    "execution": {
     "iopub.execute_input": "2025-01-07T11:06:49.268456Z",
     "iopub.status.busy": "2025-01-07T11:06:49.268333Z",
     "iopub.status.idle": "2025-01-07T11:06:49.270103Z",
     "shell.execute_reply": "2025-01-07T11:06:49.269872Z"
    },
    "slideshow": {
     "slide_type": "skip"
    }
   },
   "outputs": [],
   "source": [
    "from numpy import nanmax, isnan"
   ]
  },
  {
   "cell_type": "code",
   "execution_count": 30,
   "metadata": {
    "execution": {
     "iopub.execute_input": "2025-01-07T11:06:49.271456Z",
     "iopub.status.busy": "2025-01-07T11:06:49.271335Z",
     "iopub.status.idle": "2025-01-07T11:06:49.275668Z",
     "shell.execute_reply": "2025-01-07T11:06:49.275051Z"
    },
    "slideshow": {
     "slide_type": "subslide"
    }
   },
   "outputs": [],
   "source": [
    "class NumericInterpretation(Feature):\n",
    "    '''\n",
    "    This class represents numeric interpretation features of a grammar. These features\n",
    "    are defined for productions that only derive words composed of the characters\n",
    "    [0-9], '.', and '-'. The returned feature value corresponds to the maximum\n",
    "    floating-point number interpretation of the derived words of a production.\n",
    "\n",
    "    name : A unique identifier name for this feature. Should not contain Whitespaces.\n",
    "           e.g., 'num(<integer>)'\n",
    "    rule : The production rule.\n",
    "    '''\n",
    "    def __init__(self, name: str, rule: str, /, \n",
    "                 friendly_name: str = None) -> None:\n",
    "        super().__init__(name, rule, rule, friendly_name=friendly_name)\n",
    "\n",
    "    def name_rep(self) -> str:\n",
    "        return f\"num({self.key})\"\n",
    "\n",
    "    def get_feature_value(self, derivation_tree) -> float:\n",
    "        '''Returns the feature value for a given derivation tree of an input.'''\n",
    "        raise NotImplementedError\n",
    "\n",
    "    def get_feature_value(self, derivation_tree: DerivationTree) -> float:\n",
    "        '''Determines the maximum float of this feature in the derivation tree.'''\n",
    "        (node, children) = derivation_tree\n",
    "\n",
    "        value = float('nan')\n",
    "        if node == self.rule:\n",
    "            try:\n",
    "                #print(self.name, float(tree_to_string(derivation_tree)))\n",
    "                value = float(tree_to_string(derivation_tree))\n",
    "            except ValueError:\n",
    "                #print(self.name, float(tree_to_string(derivation_tree)), \"err\")\n",
    "                pass\n",
    "\n",
    "        # Return maximum value encountered in tree, ignoring all NaNs\n",
    "        tree_values = [value] + [self.get_feature_value(c) for c in children]\n",
    "        if all(isnan(tree_values)):\n",
    "            return value\n",
    "        else:\n",
    "            return nanmax(tree_values)"
   ]
  },
  {
   "cell_type": "markdown",
   "metadata": {
    "slideshow": {
     "slide_type": "subslide"
    }
   },
   "source": [
    "### Extracting Feature Sets from Grammars"
   ]
  },
  {
   "cell_type": "code",
   "execution_count": 31,
   "metadata": {
    "execution": {
     "iopub.execute_input": "2025-01-07T11:06:49.277896Z",
     "iopub.status.busy": "2025-01-07T11:06:49.277746Z",
     "iopub.status.idle": "2025-01-07T11:06:49.281099Z",
     "shell.execute_reply": "2025-01-07T11:06:49.280709Z"
    },
    "slideshow": {
     "slide_type": "subslide"
    }
   },
   "outputs": [],
   "source": [
    "def extract_existence_features(grammar: Grammar) -> List[ExistenceFeature]:\n",
    "    '''\n",
    "        Extracts all existence features from the grammar and returns them as a list.\n",
    "        grammar : The input grammar.\n",
    "    '''\n",
    "\n",
    "    features = []\n",
    "\n",
    "    for rule in grammar:\n",
    "        # add the rule\n",
    "        features.append(ExistenceFeature(f\"exists({rule})\", rule, rule))\n",
    "        # add all alternatives\n",
    "        for count, expansion in enumerate(grammar[rule]):\n",
    "            name = f\"exists({rule}@{count})\"\n",
    "            friendly_name = f\"{rule} == {repr(expansion)}\"\n",
    "            feature = ExistenceFeature(name, rule, expansion,\n",
    "                                       friendly_name=friendly_name)\n",
    "            features.append(feature)\n",
    "\n",
    "    return features"
   ]
  },
  {
   "cell_type": "code",
   "execution_count": 32,
   "metadata": {
    "execution": {
     "iopub.execute_input": "2025-01-07T11:06:49.283023Z",
     "iopub.status.busy": "2025-01-07T11:06:49.282891Z",
     "iopub.status.idle": "2025-01-07T11:06:49.284699Z",
     "shell.execute_reply": "2025-01-07T11:06:49.284440Z"
    },
    "slideshow": {
     "slide_type": "skip"
    }
   },
   "outputs": [],
   "source": [
    "from collections import defaultdict\n",
    "import re"
   ]
  },
  {
   "cell_type": "code",
   "execution_count": 33,
   "metadata": {
    "execution": {
     "iopub.execute_input": "2025-01-07T11:06:49.286173Z",
     "iopub.status.busy": "2025-01-07T11:06:49.286054Z",
     "iopub.status.idle": "2025-01-07T11:06:49.289736Z",
     "shell.execute_reply": "2025-01-07T11:06:49.289469Z"
    },
    "slideshow": {
     "slide_type": "subslide"
    }
   },
   "outputs": [],
   "source": [
    "# Regex for non-terminal symbols in expansions\n",
    "RE_NONTERMINAL = re.compile(r'(<[^<> ]*>)')\n",
    "\n",
    "def extract_numeric_features(grammar: Grammar) -> List[NumericInterpretation]:\n",
    "    '''\n",
    "        Extracts all numeric interpretation features from the grammar and returns them as a list.\n",
    "\n",
    "        grammar : The input grammar.\n",
    "    '''\n",
    "\n",
    "    features = []\n",
    "\n",
    "    # Mapping from non-terminals to derivable terminal chars\n",
    "    derivable_chars = defaultdict(set)\n",
    "\n",
    "    for rule in grammar:\n",
    "        for expansion in grammar[rule]:\n",
    "            # Remove non-terminal symbols and whitespace from expansion\n",
    "            terminals = re.sub(RE_NONTERMINAL, '', expansion).replace(' ', '')\n",
    "\n",
    "            # Add each terminal char to the set of derivable chars\n",
    "            for c in terminals:\n",
    "                derivable_chars[rule].add(c)\n",
    "\n",
    "    # Repeatedly update the mapping until convergence\n",
    "    while True:\n",
    "        updated = False\n",
    "        for rule in grammar:\n",
    "            for r in reachable_nonterminals(grammar, rule):\n",
    "                before = len(derivable_chars[rule])\n",
    "                derivable_chars[rule].update(derivable_chars[r])\n",
    "                after = len(derivable_chars[rule])\n",
    "\n",
    "                # Set of derivable chars was updated\n",
    "                if after > before:\n",
    "                    updated = True\n",
    "\n",
    "        if not updated:\n",
    "            break\n",
    "\n",
    "    numeric_chars = set(['0','1','2','3','4','5','6','7','8','9','.','-'])\n",
    "\n",
    "    for key in derivable_chars:\n",
    "        # Check if derivable chars contain only numeric chars\n",
    "        if len(derivable_chars[key] - numeric_chars) == 0:\n",
    "            name = f\"num({key})\"\n",
    "            friendly_name = f\"{key}\"\n",
    "\n",
    "            features.append(NumericInterpretation(f\"num({key})\", key,\n",
    "                                                  friendly_name=friendly_name))\n",
    "\n",
    "    return features"
   ]
  },
  {
   "cell_type": "code",
   "execution_count": 34,
   "metadata": {
    "execution": {
     "iopub.execute_input": "2025-01-07T11:06:49.291134Z",
     "iopub.status.busy": "2025-01-07T11:06:49.291035Z",
     "iopub.status.idle": "2025-01-07T11:06:49.293293Z",
     "shell.execute_reply": "2025-01-07T11:06:49.292986Z"
    },
    "slideshow": {
     "slide_type": "subslide"
    }
   },
   "outputs": [],
   "source": [
    "def extract_all_features(grammar: Grammar) -> List[Feature]:\n",
    "    return (extract_existence_features(grammar)\n",
    "            + extract_numeric_features(grammar))"
   ]
  },
  {
   "cell_type": "markdown",
   "metadata": {
    "slideshow": {
     "slide_type": "fragment"
    }
   },
   "source": [
    "Here are all the features from our calculator grammar:"
   ]
  },
  {
   "cell_type": "code",
   "execution_count": 35,
   "metadata": {
    "execution": {
     "iopub.execute_input": "2025-01-07T11:06:49.294723Z",
     "iopub.status.busy": "2025-01-07T11:06:49.294630Z",
     "iopub.status.idle": "2025-01-07T11:06:49.297191Z",
     "shell.execute_reply": "2025-01-07T11:06:49.296952Z"
    },
    "slideshow": {
     "slide_type": "subslide"
    }
   },
   "outputs": [
    {
     "data": {
      "text/plain": [
       "[exists(<start>),\n",
       " exists(<start> == <function>(<term>)),\n",
       " exists(<function>),\n",
       " exists(<function> == sqrt),\n",
       " exists(<function> == tan),\n",
       " exists(<function> == cos),\n",
       " exists(<function> == sin),\n",
       " exists(<term>),\n",
       " exists(<term> == -<value>),\n",
       " exists(<term> == <value>),\n",
       " exists(<value>),\n",
       " exists(<value> == <integer>.<digits>),\n",
       " exists(<value> == <integer>),\n",
       " exists(<integer>),\n",
       " exists(<integer> == <lead-digit><digits>),\n",
       " exists(<integer> == <digit>),\n",
       " exists(<digits>),\n",
       " exists(<digits> == <digit><digits>),\n",
       " exists(<digits> == <digit>),\n",
       " exists(<lead-digit>),\n",
       " exists(<lead-digit> == 1),\n",
       " exists(<lead-digit> == 2),\n",
       " exists(<lead-digit> == 3),\n",
       " exists(<lead-digit> == 4),\n",
       " exists(<lead-digit> == 5),\n",
       " exists(<lead-digit> == 6),\n",
       " exists(<lead-digit> == 7),\n",
       " exists(<lead-digit> == 8),\n",
       " exists(<lead-digit> == 9),\n",
       " exists(<digit>),\n",
       " exists(<digit> == 0),\n",
       " exists(<digit> == 1),\n",
       " exists(<digit> == 2),\n",
       " exists(<digit> == 3),\n",
       " exists(<digit> == 4),\n",
       " exists(<digit> == 5),\n",
       " exists(<digit> == 6),\n",
       " exists(<digit> == 7),\n",
       " exists(<digit> == 8),\n",
       " exists(<digit> == 9),\n",
       " num(<term>),\n",
       " num(<value>),\n",
       " num(<lead-digit>),\n",
       " num(<digit>),\n",
       " num(<integer>),\n",
       " num(<digits>)]"
      ]
     },
     "execution_count": 35,
     "metadata": {},
     "output_type": "execute_result"
    }
   ],
   "source": [
    "extract_all_features(CALC_GRAMMAR)"
   ]
  },
  {
   "cell_type": "markdown",
   "metadata": {
    "slideshow": {
     "slide_type": "subslide"
    }
   },
   "source": [
    "The `friendly` representation is a bit more concise and more readable:"
   ]
  },
  {
   "cell_type": "code",
   "execution_count": 36,
   "metadata": {
    "execution": {
     "iopub.execute_input": "2025-01-07T11:06:49.298484Z",
     "iopub.status.busy": "2025-01-07T11:06:49.298404Z",
     "iopub.status.idle": "2025-01-07T11:06:49.301326Z",
     "shell.execute_reply": "2025-01-07T11:06:49.300823Z"
    },
    "slideshow": {
     "slide_type": "subslide"
    }
   },
   "outputs": [
    {
     "data": {
      "text/plain": [
       "['exists(<start>)',\n",
       " \"<start> == '<function>(<term>)'\",\n",
       " 'exists(<function>)',\n",
       " \"<function> == 'sqrt'\",\n",
       " \"<function> == 'tan'\",\n",
       " \"<function> == 'cos'\",\n",
       " \"<function> == 'sin'\",\n",
       " 'exists(<term>)',\n",
       " \"<term> == '-<value>'\",\n",
       " \"<term> == '<value>'\",\n",
       " 'exists(<value>)',\n",
       " \"<value> == '<integer>.<digits>'\",\n",
       " \"<value> == '<integer>'\",\n",
       " 'exists(<integer>)',\n",
       " \"<integer> == '<lead-digit><digits>'\",\n",
       " \"<integer> == '<digit>'\",\n",
       " 'exists(<digits>)',\n",
       " \"<digits> == '<digit><digits>'\",\n",
       " \"<digits> == '<digit>'\",\n",
       " 'exists(<lead-digit>)',\n",
       " \"<lead-digit> == '1'\",\n",
       " \"<lead-digit> == '2'\",\n",
       " \"<lead-digit> == '3'\",\n",
       " \"<lead-digit> == '4'\",\n",
       " \"<lead-digit> == '5'\",\n",
       " \"<lead-digit> == '6'\",\n",
       " \"<lead-digit> == '7'\",\n",
       " \"<lead-digit> == '8'\",\n",
       " \"<lead-digit> == '9'\",\n",
       " 'exists(<digit>)',\n",
       " \"<digit> == '0'\",\n",
       " \"<digit> == '1'\",\n",
       " \"<digit> == '2'\",\n",
       " \"<digit> == '3'\",\n",
       " \"<digit> == '4'\",\n",
       " \"<digit> == '5'\",\n",
       " \"<digit> == '6'\",\n",
       " \"<digit> == '7'\",\n",
       " \"<digit> == '8'\",\n",
       " \"<digit> == '9'\",\n",
       " '<term>',\n",
       " '<value>',\n",
       " '<lead-digit>',\n",
       " '<digit>',\n",
       " '<integer>',\n",
       " '<digits>']"
      ]
     },
     "execution_count": 36,
     "metadata": {},
     "output_type": "execute_result"
    }
   ],
   "source": [
    "[f.friendly_name() for f in extract_all_features(CALC_GRAMMAR)]"
   ]
  },
  {
   "cell_type": "markdown",
   "metadata": {
    "slideshow": {
     "slide_type": "subslide"
    }
   },
   "source": [
    "### Extracting Feature Values from Inputs"
   ]
  },
  {
   "cell_type": "markdown",
   "metadata": {
    "slideshow": {
     "slide_type": "fragment"
    }
   },
   "source": [
    "This is a rather slow implementation.\n",
    "For many grammars with many syntactically features, the feature collection can be optimized."
   ]
  },
  {
   "cell_type": "code",
   "execution_count": 37,
   "metadata": {
    "execution": {
     "iopub.execute_input": "2025-01-07T11:06:49.303151Z",
     "iopub.status.busy": "2025-01-07T11:06:49.303024Z",
     "iopub.status.idle": "2025-01-07T11:06:49.306036Z",
     "shell.execute_reply": "2025-01-07T11:06:49.305619Z"
    },
    "slideshow": {
     "slide_type": "subslide"
    }
   },
   "outputs": [],
   "source": [
    "def collect_features(sample_list: List[str],\n",
    "                     grammar: Grammar) -> pandas.DataFrame:\n",
    "\n",
    "    data = []\n",
    "\n",
    "    # parse grammar and extract features\n",
    "    all_features = extract_all_features(grammar)\n",
    "\n",
    "    # iterate over all samples\n",
    "    for sample in sample_list:\n",
    "        parsed_features = {}\n",
    "        parsed_features[\"sample\"] = sample\n",
    "        # initate dictionary\n",
    "        for feature in all_features:\n",
    "            parsed_features[feature.name] = 0\n",
    "\n",
    "        # Obtain the parse tree for each input file\n",
    "        earley = EarleyParser(grammar)\n",
    "        for tree in earley.parse(sample):\n",
    "\n",
    "            for feature in all_features:\n",
    "                parsed_features[feature.name] = feature.get_feature_value(tree)\n",
    "\n",
    "        data.append(parsed_features)\n",
    "\n",
    "    return pandas.DataFrame.from_records(data)"
   ]
  },
  {
   "cell_type": "code",
   "execution_count": 38,
   "metadata": {
    "execution": {
     "iopub.execute_input": "2025-01-07T11:06:49.307745Z",
     "iopub.status.busy": "2025-01-07T11:06:49.307622Z",
     "iopub.status.idle": "2025-01-07T11:06:49.319098Z",
     "shell.execute_reply": "2025-01-07T11:06:49.318821Z"
    },
    "slideshow": {
     "slide_type": "subslide"
    }
   },
   "outputs": [
    {
     "data": {
      "text/html": [
       "<div>\n",
       "<style scoped>\n",
       "    .dataframe tbody tr th:only-of-type {\n",
       "        vertical-align: middle;\n",
       "    }\n",
       "\n",
       "    .dataframe tbody tr th {\n",
       "        vertical-align: top;\n",
       "    }\n",
       "\n",
       "    .dataframe thead th {\n",
       "        text-align: right;\n",
       "    }\n",
       "</style>\n",
       "<table border=\"1\" class=\"dataframe\">\n",
       "  <thead>\n",
       "    <tr style=\"text-align: right;\">\n",
       "      <th></th>\n",
       "      <th>sample</th>\n",
       "      <th>exists(&lt;start&gt;)</th>\n",
       "      <th>exists(&lt;start&gt;@0)</th>\n",
       "      <th>exists(&lt;function&gt;)</th>\n",
       "      <th>exists(&lt;function&gt;@0)</th>\n",
       "      <th>exists(&lt;function&gt;@1)</th>\n",
       "      <th>exists(&lt;function&gt;@2)</th>\n",
       "      <th>exists(&lt;function&gt;@3)</th>\n",
       "      <th>exists(&lt;term&gt;)</th>\n",
       "      <th>exists(&lt;term&gt;@0)</th>\n",
       "      <th>...</th>\n",
       "      <th>exists(&lt;digit&gt;@6)</th>\n",
       "      <th>exists(&lt;digit&gt;@7)</th>\n",
       "      <th>exists(&lt;digit&gt;@8)</th>\n",
       "      <th>exists(&lt;digit&gt;@9)</th>\n",
       "      <th>num(&lt;term&gt;)</th>\n",
       "      <th>num(&lt;value&gt;)</th>\n",
       "      <th>num(&lt;lead-digit&gt;)</th>\n",
       "      <th>num(&lt;digit&gt;)</th>\n",
       "      <th>num(&lt;integer&gt;)</th>\n",
       "      <th>num(&lt;digits&gt;)</th>\n",
       "    </tr>\n",
       "  </thead>\n",
       "  <tbody>\n",
       "    <tr>\n",
       "      <th>0</th>\n",
       "      <td>sqrt(-900)</td>\n",
       "      <td>1</td>\n",
       "      <td>1</td>\n",
       "      <td>1</td>\n",
       "      <td>1</td>\n",
       "      <td>0</td>\n",
       "      <td>0</td>\n",
       "      <td>0</td>\n",
       "      <td>1</td>\n",
       "      <td>1</td>\n",
       "      <td>...</td>\n",
       "      <td>0</td>\n",
       "      <td>0</td>\n",
       "      <td>0</td>\n",
       "      <td>0</td>\n",
       "      <td>-900.00</td>\n",
       "      <td>900.00</td>\n",
       "      <td>9.0</td>\n",
       "      <td>0.0</td>\n",
       "      <td>900.0</td>\n",
       "      <td>0.0</td>\n",
       "    </tr>\n",
       "    <tr>\n",
       "      <th>1</th>\n",
       "      <td>sin(24)</td>\n",
       "      <td>1</td>\n",
       "      <td>1</td>\n",
       "      <td>1</td>\n",
       "      <td>0</td>\n",
       "      <td>0</td>\n",
       "      <td>0</td>\n",
       "      <td>1</td>\n",
       "      <td>1</td>\n",
       "      <td>0</td>\n",
       "      <td>...</td>\n",
       "      <td>0</td>\n",
       "      <td>0</td>\n",
       "      <td>0</td>\n",
       "      <td>0</td>\n",
       "      <td>24.00</td>\n",
       "      <td>24.00</td>\n",
       "      <td>2.0</td>\n",
       "      <td>4.0</td>\n",
       "      <td>24.0</td>\n",
       "      <td>4.0</td>\n",
       "    </tr>\n",
       "    <tr>\n",
       "      <th>2</th>\n",
       "      <td>cos(-3.14)</td>\n",
       "      <td>1</td>\n",
       "      <td>1</td>\n",
       "      <td>1</td>\n",
       "      <td>0</td>\n",
       "      <td>0</td>\n",
       "      <td>1</td>\n",
       "      <td>0</td>\n",
       "      <td>1</td>\n",
       "      <td>1</td>\n",
       "      <td>...</td>\n",
       "      <td>0</td>\n",
       "      <td>0</td>\n",
       "      <td>0</td>\n",
       "      <td>0</td>\n",
       "      <td>-3.14</td>\n",
       "      <td>3.14</td>\n",
       "      <td>NaN</td>\n",
       "      <td>4.0</td>\n",
       "      <td>3.0</td>\n",
       "      <td>14.0</td>\n",
       "    </tr>\n",
       "  </tbody>\n",
       "</table>\n",
       "<p>3 rows × 47 columns</p>\n",
       "</div>"
      ],
      "text/plain": [
       "       sample  exists(<start>)  exists(<start>@0)  exists(<function>)  \\\n",
       "0  sqrt(-900)                1                  1                   1   \n",
       "1     sin(24)                1                  1                   1   \n",
       "2  cos(-3.14)                1                  1                   1   \n",
       "\n",
       "   exists(<function>@0)  exists(<function>@1)  exists(<function>@2)  \\\n",
       "0                     1                     0                     0   \n",
       "1                     0                     0                     0   \n",
       "2                     0                     0                     1   \n",
       "\n",
       "   exists(<function>@3)  exists(<term>)  exists(<term>@0)  ...  \\\n",
       "0                     0               1                 1  ...   \n",
       "1                     1               1                 0  ...   \n",
       "2                     0               1                 1  ...   \n",
       "\n",
       "   exists(<digit>@6)  exists(<digit>@7)  exists(<digit>@8)  exists(<digit>@9)  \\\n",
       "0                  0                  0                  0                  0   \n",
       "1                  0                  0                  0                  0   \n",
       "2                  0                  0                  0                  0   \n",
       "\n",
       "   num(<term>)  num(<value>)  num(<lead-digit>)  num(<digit>)  num(<integer>)  \\\n",
       "0      -900.00        900.00                9.0           0.0           900.0   \n",
       "1        24.00         24.00                2.0           4.0            24.0   \n",
       "2        -3.14          3.14                NaN           4.0             3.0   \n",
       "\n",
       "   num(<digits>)  \n",
       "0            0.0  \n",
       "1            4.0  \n",
       "2           14.0  \n",
       "\n",
       "[3 rows x 47 columns]"
      ]
     },
     "execution_count": 38,
     "metadata": {},
     "output_type": "execute_result"
    }
   ],
   "source": [
    "sample_list = [\"sqrt(-900)\", \"sin(24)\", \"cos(-3.14)\"]\n",
    "collect_features(sample_list, CALC_GRAMMAR)"
   ]
  },
  {
   "cell_type": "code",
   "execution_count": 39,
   "metadata": {
    "execution": {
     "iopub.execute_input": "2025-01-07T11:06:49.320428Z",
     "iopub.status.busy": "2025-01-07T11:06:49.320315Z",
     "iopub.status.idle": "2025-01-07T11:06:49.322801Z",
     "shell.execute_reply": "2025-01-07T11:06:49.322535Z"
    },
    "slideshow": {
     "slide_type": "subslide"
    }
   },
   "outputs": [],
   "source": [
    "# TODO: handle multiple trees\n",
    "def compute_feature_values(sample: str, grammar: Grammar, features: List[Feature]) -> Dict[str, float]:\n",
    "    '''\n",
    "        Extracts all feature values from an input.\n",
    "\n",
    "        sample   : The input.\n",
    "        grammar  : The input grammar.\n",
    "        features : The list of input features extracted from the grammar.\n",
    "\n",
    "    '''\n",
    "    earley = EarleyParser(CALC_GRAMMAR)\n",
    "\n",
    "    features = {}\n",
    "    for tree in earley.parse(sample):\n",
    "        for feature in extract_all_features(CALC_GRAMMAR):\n",
    "            features[feature.name_rep()] = feature.get_feature_value(tree)\n",
    "    return features"
   ]
  },
  {
   "cell_type": "code",
   "execution_count": 40,
   "metadata": {
    "execution": {
     "iopub.execute_input": "2025-01-07T11:06:49.324097Z",
     "iopub.status.busy": "2025-01-07T11:06:49.323988Z",
     "iopub.status.idle": "2025-01-07T11:06:49.330209Z",
     "shell.execute_reply": "2025-01-07T11:06:49.329930Z"
    },
    "slideshow": {
     "slide_type": "subslide"
    }
   },
   "outputs": [
    {
     "name": "stdout",
     "output_type": "stream",
     "text": [
      "Features of sqrt(-900):\n",
      "    exists(<start>): 1\n",
      "    exists(<start> == <function>(<term>)): 1\n",
      "    exists(<function>): 1\n",
      "    exists(<function> == sqrt): 1\n",
      "    exists(<function> == tan): 0\n",
      "    exists(<function> == cos): 0\n",
      "    exists(<function> == sin): 0\n",
      "    exists(<term>): 1\n",
      "    exists(<term> == -<value>): 1\n",
      "    exists(<term> == <value>): 0\n",
      "    exists(<value>): 1\n",
      "    exists(<value> == <integer>.<digits>): 0\n",
      "    exists(<value> == <integer>): 1\n",
      "    exists(<integer>): 1\n",
      "    exists(<integer> == <lead-digit><digits>): 1\n",
      "    exists(<integer> == <digit>): 0\n",
      "    exists(<digits>): 1\n",
      "    exists(<digits> == <digit><digits>): 1\n",
      "    exists(<digits> == <digit>): 1\n",
      "    exists(<lead-digit>): 1\n",
      "    exists(<lead-digit> == 1): 0\n",
      "    exists(<lead-digit> == 2): 0\n",
      "    exists(<lead-digit> == 3): 0\n",
      "    exists(<lead-digit> == 4): 0\n",
      "    exists(<lead-digit> == 5): 0\n",
      "    exists(<lead-digit> == 6): 0\n",
      "    exists(<lead-digit> == 7): 0\n",
      "    exists(<lead-digit> == 8): 0\n",
      "    exists(<lead-digit> == 9): 1\n",
      "    exists(<digit>): 1\n",
      "    exists(<digit> == 0): 1\n",
      "    exists(<digit> == 1): 0\n",
      "    exists(<digit> == 2): 0\n",
      "    exists(<digit> == 3): 0\n",
      "    exists(<digit> == 4): 0\n",
      "    exists(<digit> == 5): 0\n",
      "    exists(<digit> == 6): 0\n",
      "    exists(<digit> == 7): 0\n",
      "    exists(<digit> == 8): 0\n",
      "    exists(<digit> == 9): 0\n",
      "    num(<term>): -900.0\n",
      "    num(<value>): 900.0\n",
      "    num(<lead-digit>): 9.0\n",
      "    num(<digit>): 0.0\n",
      "    num(<integer>): 900.0\n",
      "    num(<digits>): 0.0\n",
      "Features of sin(24):\n",
      "    exists(<start>): 1\n",
      "    exists(<start> == <function>(<term>)): 1\n",
      "    exists(<function>): 1\n",
      "    exists(<function> == sqrt): 0\n",
      "    exists(<function> == tan): 0\n",
      "    exists(<function> == cos): 0\n",
      "    exists(<function> == sin): 1\n",
      "    exists(<term>): 1\n",
      "    exists(<term> == -<value>): 0\n",
      "    exists(<term> == <value>): 1\n",
      "    exists(<value>): 1\n",
      "    exists(<value> == <integer>.<digits>): 0\n",
      "    exists(<value> == <integer>): 1\n",
      "    exists(<integer>): 1\n",
      "    exists(<integer> == <lead-digit><digits>): 1\n",
      "    exists(<integer> == <digit>): 0\n",
      "    exists(<digits>): 1\n",
      "    exists(<digits> == <digit><digits>): 0\n",
      "    exists(<digits> == <digit>): 1\n",
      "    exists(<lead-digit>): 1\n",
      "    exists(<lead-digit> == 1): 0\n",
      "    exists(<lead-digit> == 2): 1\n",
      "    exists(<lead-digit> == 3): 0\n",
      "    exists(<lead-digit> == 4): 0\n",
      "    exists(<lead-digit> == 5): 0\n",
      "    exists(<lead-digit> == 6): 0\n",
      "    exists(<lead-digit> == 7): 0\n",
      "    exists(<lead-digit> == 8): 0\n",
      "    exists(<lead-digit> == 9): 0\n",
      "    exists(<digit>): 1\n",
      "    exists(<digit> == 0): 0\n",
      "    exists(<digit> == 1): 0\n",
      "    exists(<digit> == 2): 0\n",
      "    exists(<digit> == 3): 0\n",
      "    exists(<digit> == 4): 1\n",
      "    exists(<digit> == 5): 0\n",
      "    exists(<digit> == 6): 0\n",
      "    exists(<digit> == 7): 0\n",
      "    exists(<digit> == 8): 0\n",
      "    exists(<digit> == 9): 0\n",
      "    num(<term>): 24.0\n",
      "    num(<value>): 24.0\n",
      "    num(<lead-digit>): 2.0\n",
      "    num(<digit>): 4.0\n",
      "    num(<integer>): 24.0\n",
      "    num(<digits>): 4.0\n",
      "Features of cos(-3.14):\n",
      "    exists(<start>): 1\n",
      "    exists(<start> == <function>(<term>)): 1\n",
      "    exists(<function>): 1\n",
      "    exists(<function> == sqrt): 0\n",
      "    exists(<function> == tan): 0\n",
      "    exists(<function> == cos): 1\n",
      "    exists(<function> == sin): 0\n",
      "    exists(<term>): 1\n",
      "    exists(<term> == -<value>): 1\n",
      "    exists(<term> == <value>): 0\n",
      "    exists(<value>): 1\n",
      "    exists(<value> == <integer>.<digits>): 1\n",
      "    exists(<value> == <integer>): 0\n",
      "    exists(<integer>): 1\n",
      "    exists(<integer> == <lead-digit><digits>): 0\n",
      "    exists(<integer> == <digit>): 1\n",
      "    exists(<digits>): 1\n",
      "    exists(<digits> == <digit><digits>): 1\n",
      "    exists(<digits> == <digit>): 1\n",
      "    exists(<lead-digit>): 0\n",
      "    exists(<lead-digit> == 1): 0\n",
      "    exists(<lead-digit> == 2): 0\n",
      "    exists(<lead-digit> == 3): 0\n",
      "    exists(<lead-digit> == 4): 0\n",
      "    exists(<lead-digit> == 5): 0\n",
      "    exists(<lead-digit> == 6): 0\n",
      "    exists(<lead-digit> == 7): 0\n",
      "    exists(<lead-digit> == 8): 0\n",
      "    exists(<lead-digit> == 9): 0\n",
      "    exists(<digit>): 1\n",
      "    exists(<digit> == 0): 0\n",
      "    exists(<digit> == 1): 1\n",
      "    exists(<digit> == 2): 0\n",
      "    exists(<digit> == 3): 1\n",
      "    exists(<digit> == 4): 1\n",
      "    exists(<digit> == 5): 0\n",
      "    exists(<digit> == 6): 0\n",
      "    exists(<digit> == 7): 0\n",
      "    exists(<digit> == 8): 0\n",
      "    exists(<digit> == 9): 0\n",
      "    num(<term>): -3.14\n",
      "    num(<value>): 3.14\n",
      "    num(<lead-digit>): nan\n",
      "    num(<digit>): 4.0\n",
      "    num(<integer>): 3.0\n",
      "    num(<digits>): 14.0\n"
     ]
    }
   ],
   "source": [
    "all_features = extract_all_features(CALC_GRAMMAR)\n",
    "for sample in sample_list:\n",
    "    print(f\"Features of {sample}:\")\n",
    "    features = compute_feature_values(sample, CALC_GRAMMAR, all_features)\n",
    "    for feature, value in features.items():\n",
    "        print(f\"    {feature}: {value}\")"
   ]
  },
  {
   "cell_type": "markdown",
   "metadata": {
    "slideshow": {
     "slide_type": "subslide"
    }
   },
   "source": [
    "### Excursion: Transforming Grammars"
   ]
  },
  {
   "cell_type": "markdown",
   "metadata": {
    "slideshow": {
     "slide_type": "fragment"
    }
   },
   "source": [
    "Alhazen requires grammars to be transformed, such that for each non-terminal symbol in the grammar, the word derived by this symbol in the input is added as an alternative to the symbol (as written in \\cite{Kampmann2020}). Here, we iterate through the derivation tree of the input and add the derived word of each nonterminal as alternatives to the grammar."
   ]
  },
  {
   "cell_type": "code",
   "execution_count": 41,
   "metadata": {
    "execution": {
     "iopub.execute_input": "2025-01-07T11:06:49.331805Z",
     "iopub.status.busy": "2025-01-07T11:06:49.331635Z",
     "iopub.status.idle": "2025-01-07T11:06:49.333745Z",
     "shell.execute_reply": "2025-01-07T11:06:49.333371Z"
    },
    "slideshow": {
     "slide_type": "skip"
    }
   },
   "outputs": [],
   "source": [
    "import random"
   ]
  },
  {
   "cell_type": "code",
   "execution_count": 42,
   "metadata": {
    "execution": {
     "iopub.execute_input": "2025-01-07T11:06:49.335744Z",
     "iopub.status.busy": "2025-01-07T11:06:49.335597Z",
     "iopub.status.idle": "2025-01-07T11:06:49.810445Z",
     "shell.execute_reply": "2025-01-07T11:06:49.810028Z"
    },
    "slideshow": {
     "slide_type": "fragment"
    }
   },
   "outputs": [
    {
     "data": {
      "image/svg+xml": [
       "<?xml version=\"1.0\" encoding=\"UTF-8\" standalone=\"no\"?>\n",
       "<!DOCTYPE svg PUBLIC \"-//W3C//DTD SVG 1.1//EN\"\n",
       " \"http://www.w3.org/Graphics/SVG/1.1/DTD/svg11.dtd\">\n",
       "<!-- Generated by graphviz version 12.2.1 (20241206.2353)\n",
       " -->\n",
       "<!-- Pages: 1 -->\n",
       "<svg width=\"225pt\" height=\"374pt\"\n",
       " viewBox=\"0.00 0.00 225.00 374.00\" xmlns=\"http://www.w3.org/2000/svg\" xmlns:xlink=\"http://www.w3.org/1999/xlink\">\n",
       "<g id=\"graph0\" class=\"graph\" transform=\"scale(1 1) rotate(0) translate(4 370)\">\n",
       "<polygon fill=\"white\" stroke=\"none\" points=\"-4,4 -4,-370 221,-370 221,4 -4,4\"/>\n",
       "<!-- 0 -->\n",
       "<g id=\"node1\" class=\"node\">\n",
       "<title>0</title>\n",
       "<text text-anchor=\"middle\" x=\"132\" y=\"-352.7\" font-family=\"Times,serif\" font-size=\"14.00\">&lt;start&gt;</text>\n",
       "</g>\n",
       "<!-- 1 -->\n",
       "<g id=\"node2\" class=\"node\">\n",
       "<title>1</title>\n",
       "<text text-anchor=\"middle\" x=\"132\" y=\"-302.45\" font-family=\"Times,serif\" font-size=\"14.00\">&lt;expr&gt;</text>\n",
       "</g>\n",
       "<!-- 0&#45;&gt;1 -->\n",
       "<g id=\"edge1\" class=\"edge\">\n",
       "<title>0&#45;&gt;1</title>\n",
       "<path fill=\"none\" stroke=\"black\" d=\"M132,-351.96C132,-345.74 132,-335.65 132,-326.89\"/>\n",
       "<polygon fill=\"black\" stroke=\"black\" points=\"135.5,-327.1 132,-317.1 128.5,-327.1 135.5,-327.1\"/>\n",
       "</g>\n",
       "<!-- 2 -->\n",
       "<g id=\"node3\" class=\"node\">\n",
       "<title>2</title>\n",
       "<text text-anchor=\"middle\" x=\"82\" y=\"-252.2\" font-family=\"Times,serif\" font-size=\"14.00\">&lt;term&gt;</text>\n",
       "</g>\n",
       "<!-- 1&#45;&gt;2 -->\n",
       "<g id=\"edge2\" class=\"edge\">\n",
       "<title>1&#45;&gt;2</title>\n",
       "<path fill=\"none\" stroke=\"black\" d=\"M125.87,-301.71C118.52,-294.62 105.98,-282.51 96.18,-273.06\"/>\n",
       "<polygon fill=\"black\" stroke=\"black\" points=\"98.9,-270.82 89.27,-266.39 94.04,-275.85 98.9,-270.82\"/>\n",
       "</g>\n",
       "<!-- 13 -->\n",
       "<g id=\"node14\" class=\"node\">\n",
       "<title>13</title>\n",
       "<text text-anchor=\"middle\" x=\"132\" y=\"-252.2\" font-family=\"Times,serif\" font-size=\"14.00\"> + </text>\n",
       "</g>\n",
       "<!-- 1&#45;&gt;13 -->\n",
       "<g id=\"edge13\" class=\"edge\">\n",
       "<title>1&#45;&gt;13</title>\n",
       "<path fill=\"none\" stroke=\"black\" d=\"M132,-301.71C132,-295.49 132,-285.4 132,-276.64\"/>\n",
       "<polygon fill=\"black\" stroke=\"black\" points=\"135.5,-276.85 132,-266.85 128.5,-276.85 135.5,-276.85\"/>\n",
       "</g>\n",
       "<!-- 14 -->\n",
       "<g id=\"node15\" class=\"node\">\n",
       "<title>14</title>\n",
       "<text text-anchor=\"middle\" x=\"180\" y=\"-252.2\" font-family=\"Times,serif\" font-size=\"14.00\">&lt;expr&gt;</text>\n",
       "</g>\n",
       "<!-- 1&#45;&gt;14 -->\n",
       "<g id=\"edge14\" class=\"edge\">\n",
       "<title>1&#45;&gt;14</title>\n",
       "<path fill=\"none\" stroke=\"black\" d=\"M137.89,-301.71C144.87,-294.69 156.74,-282.76 166.1,-273.35\"/>\n",
       "<polygon fill=\"black\" stroke=\"black\" points=\"168.43,-275.97 173,-266.41 163.46,-271.03 168.43,-275.97\"/>\n",
       "</g>\n",
       "<!-- 3 -->\n",
       "<g id=\"node4\" class=\"node\">\n",
       "<title>3</title>\n",
       "<text text-anchor=\"middle\" x=\"27\" y=\"-201.95\" font-family=\"Times,serif\" font-size=\"14.00\">&lt;factor&gt;</text>\n",
       "</g>\n",
       "<!-- 2&#45;&gt;3 -->\n",
       "<g id=\"edge3\" class=\"edge\">\n",
       "<title>2&#45;&gt;3</title>\n",
       "<path fill=\"none\" stroke=\"black\" d=\"M75.26,-251.46C67.09,-244.3 53.09,-232.01 42.27,-222.52\"/>\n",
       "<polygon fill=\"black\" stroke=\"black\" points=\"44.76,-220.05 34.94,-216.09 40.15,-225.31 44.76,-220.05\"/>\n",
       "</g>\n",
       "<!-- 7 -->\n",
       "<g id=\"node8\" class=\"node\">\n",
       "<title>7</title>\n",
       "<text text-anchor=\"middle\" x=\"76\" y=\"-201.95\" font-family=\"Times,serif\" font-size=\"14.00\"> * </text>\n",
       "</g>\n",
       "<!-- 2&#45;&gt;7 -->\n",
       "<g id=\"edge7\" class=\"edge\">\n",
       "<title>2&#45;&gt;7</title>\n",
       "<path fill=\"none\" stroke=\"black\" d=\"M81.26,-251.46C80.49,-245.24 79.24,-235.15 78.15,-226.39\"/>\n",
       "<polygon fill=\"black\" stroke=\"black\" points=\"81.64,-226.08 76.93,-216.59 74.69,-226.95 81.64,-226.08\"/>\n",
       "</g>\n",
       "<!-- 8 -->\n",
       "<g id=\"node9\" class=\"node\">\n",
       "<title>8</title>\n",
       "<text text-anchor=\"middle\" x=\"122\" y=\"-201.95\" font-family=\"Times,serif\" font-size=\"14.00\">&lt;term&gt;</text>\n",
       "</g>\n",
       "<!-- 2&#45;&gt;8 -->\n",
       "<g id=\"edge8\" class=\"edge\">\n",
       "<title>2&#45;&gt;8</title>\n",
       "<path fill=\"none\" stroke=\"black\" d=\"M86.9,-251.46C92.6,-244.59 102.21,-233 109.93,-223.68\"/>\n",
       "<polygon fill=\"black\" stroke=\"black\" points=\"112.4,-226.19 116.09,-216.25 107.01,-221.72 112.4,-226.19\"/>\n",
       "</g>\n",
       "<!-- 4 -->\n",
       "<g id=\"node5\" class=\"node\">\n",
       "<title>4</title>\n",
       "<text text-anchor=\"middle\" x=\"27\" y=\"-151.7\" font-family=\"Times,serif\" font-size=\"14.00\">&lt;integer&gt;</text>\n",
       "</g>\n",
       "<!-- 3&#45;&gt;4 -->\n",
       "<g id=\"edge4\" class=\"edge\">\n",
       "<title>3&#45;&gt;4</title>\n",
       "<path fill=\"none\" stroke=\"black\" d=\"M27,-201.21C27,-194.99 27,-184.9 27,-176.14\"/>\n",
       "<polygon fill=\"black\" stroke=\"black\" points=\"30.5,-176.35 27,-166.35 23.5,-176.35 30.5,-176.35\"/>\n",
       "</g>\n",
       "<!-- 5 -->\n",
       "<g id=\"node6\" class=\"node\">\n",
       "<title>5</title>\n",
       "<text text-anchor=\"middle\" x=\"27\" y=\"-101.45\" font-family=\"Times,serif\" font-size=\"14.00\">&lt;digit&gt;</text>\n",
       "</g>\n",
       "<!-- 4&#45;&gt;5 -->\n",
       "<g id=\"edge5\" class=\"edge\">\n",
       "<title>4&#45;&gt;5</title>\n",
       "<path fill=\"none\" stroke=\"black\" d=\"M27,-150.96C27,-144.74 27,-134.65 27,-125.89\"/>\n",
       "<polygon fill=\"black\" stroke=\"black\" points=\"30.5,-126.1 27,-116.1 23.5,-126.1 30.5,-126.1\"/>\n",
       "</g>\n",
       "<!-- 6 -->\n",
       "<g id=\"node7\" class=\"node\">\n",
       "<title>6</title>\n",
       "<text text-anchor=\"middle\" x=\"27\" y=\"-51.2\" font-family=\"Times,serif\" font-size=\"14.00\">6 (54)</text>\n",
       "</g>\n",
       "<!-- 5&#45;&gt;6 -->\n",
       "<g id=\"edge6\" class=\"edge\">\n",
       "<title>5&#45;&gt;6</title>\n",
       "<path fill=\"none\" stroke=\"black\" d=\"M27,-100.71C27,-94.49 27,-84.4 27,-75.64\"/>\n",
       "<polygon fill=\"black\" stroke=\"black\" points=\"30.5,-75.85 27,-65.85 23.5,-75.85 30.5,-75.85\"/>\n",
       "</g>\n",
       "<!-- 9 -->\n",
       "<g id=\"node10\" class=\"node\">\n",
       "<title>9</title>\n",
       "<text text-anchor=\"middle\" x=\"120\" y=\"-151.7\" font-family=\"Times,serif\" font-size=\"14.00\">&lt;factor&gt;</text>\n",
       "</g>\n",
       "<!-- 8&#45;&gt;9 -->\n",
       "<g id=\"edge9\" class=\"edge\">\n",
       "<title>8&#45;&gt;9</title>\n",
       "<path fill=\"none\" stroke=\"black\" d=\"M121.75,-201.21C121.5,-194.99 121.08,-184.9 120.72,-176.14\"/>\n",
       "<polygon fill=\"black\" stroke=\"black\" points=\"124.22,-176.2 120.31,-166.35 117.23,-176.49 124.22,-176.2\"/>\n",
       "</g>\n",
       "<!-- 10 -->\n",
       "<g id=\"node11\" class=\"node\">\n",
       "<title>10</title>\n",
       "<text text-anchor=\"middle\" x=\"118\" y=\"-101.45\" font-family=\"Times,serif\" font-size=\"14.00\">&lt;integer&gt;</text>\n",
       "</g>\n",
       "<!-- 9&#45;&gt;10 -->\n",
       "<g id=\"edge10\" class=\"edge\">\n",
       "<title>9&#45;&gt;10</title>\n",
       "<path fill=\"none\" stroke=\"black\" d=\"M119.75,-150.96C119.5,-144.74 119.08,-134.65 118.72,-125.89\"/>\n",
       "<polygon fill=\"black\" stroke=\"black\" points=\"122.22,-125.95 118.31,-116.1 115.23,-126.24 122.22,-125.95\"/>\n",
       "</g>\n",
       "<!-- 11 -->\n",
       "<g id=\"node12\" class=\"node\">\n",
       "<title>11</title>\n",
       "<text text-anchor=\"middle\" x=\"118\" y=\"-51.2\" font-family=\"Times,serif\" font-size=\"14.00\">&lt;digit&gt;</text>\n",
       "</g>\n",
       "<!-- 10&#45;&gt;11 -->\n",
       "<g id=\"edge11\" class=\"edge\">\n",
       "<title>10&#45;&gt;11</title>\n",
       "<path fill=\"none\" stroke=\"black\" d=\"M118,-100.71C118,-94.49 118,-84.4 118,-75.64\"/>\n",
       "<polygon fill=\"black\" stroke=\"black\" points=\"121.5,-75.85 118,-65.85 114.5,-75.85 121.5,-75.85\"/>\n",
       "</g>\n",
       "<!-- 12 -->\n",
       "<g id=\"node13\" class=\"node\">\n",
       "<title>12</title>\n",
       "<text text-anchor=\"middle\" x=\"118\" y=\"-0.95\" font-family=\"Times,serif\" font-size=\"14.00\">3 (51)</text>\n",
       "</g>\n",
       "<!-- 11&#45;&gt;12 -->\n",
       "<g id=\"edge12\" class=\"edge\">\n",
       "<title>11&#45;&gt;12</title>\n",
       "<path fill=\"none\" stroke=\"black\" d=\"M118,-50.46C118,-44.24 118,-34.15 118,-25.39\"/>\n",
       "<polygon fill=\"black\" stroke=\"black\" points=\"121.5,-25.6 118,-15.6 114.5,-25.6 121.5,-25.6\"/>\n",
       "</g>\n",
       "<!-- 15 -->\n",
       "<g id=\"node16\" class=\"node\">\n",
       "<title>15</title>\n",
       "<text text-anchor=\"middle\" x=\"185\" y=\"-201.95\" font-family=\"Times,serif\" font-size=\"14.00\">&lt;term&gt;</text>\n",
       "</g>\n",
       "<!-- 14&#45;&gt;15 -->\n",
       "<g id=\"edge15\" class=\"edge\">\n",
       "<title>14&#45;&gt;15</title>\n",
       "<path fill=\"none\" stroke=\"black\" d=\"M180.61,-251.46C181.26,-245.24 182.3,-235.15 183.21,-226.39\"/>\n",
       "<polygon fill=\"black\" stroke=\"black\" points=\"186.68,-226.9 184.23,-216.6 179.71,-226.18 186.68,-226.9\"/>\n",
       "</g>\n",
       "<!-- 16 -->\n",
       "<g id=\"node17\" class=\"node\">\n",
       "<title>16</title>\n",
       "<text text-anchor=\"middle\" x=\"187\" y=\"-151.7\" font-family=\"Times,serif\" font-size=\"14.00\">&lt;factor&gt;</text>\n",
       "</g>\n",
       "<!-- 15&#45;&gt;16 -->\n",
       "<g id=\"edge16\" class=\"edge\">\n",
       "<title>15&#45;&gt;16</title>\n",
       "<path fill=\"none\" stroke=\"black\" d=\"M185.25,-201.21C185.5,-194.99 185.92,-184.9 186.28,-176.14\"/>\n",
       "<polygon fill=\"black\" stroke=\"black\" points=\"189.77,-176.49 186.69,-166.35 182.78,-176.2 189.77,-176.49\"/>\n",
       "</g>\n",
       "<!-- 17 -->\n",
       "<g id=\"node18\" class=\"node\">\n",
       "<title>17</title>\n",
       "<text text-anchor=\"middle\" x=\"190\" y=\"-101.45\" font-family=\"Times,serif\" font-size=\"14.00\">&lt;integer&gt;</text>\n",
       "</g>\n",
       "<!-- 16&#45;&gt;17 -->\n",
       "<g id=\"edge17\" class=\"edge\">\n",
       "<title>16&#45;&gt;17</title>\n",
       "<path fill=\"none\" stroke=\"black\" d=\"M187.37,-150.96C187.75,-144.74 188.38,-134.65 188.93,-125.89\"/>\n",
       "<polygon fill=\"black\" stroke=\"black\" points=\"192.41,-126.3 189.54,-116.1 185.42,-125.86 192.41,-126.3\"/>\n",
       "</g>\n",
       "<!-- 18 -->\n",
       "<g id=\"node19\" class=\"node\">\n",
       "<title>18</title>\n",
       "<text text-anchor=\"middle\" x=\"190\" y=\"-51.2\" font-family=\"Times,serif\" font-size=\"14.00\">&lt;digit&gt;</text>\n",
       "</g>\n",
       "<!-- 17&#45;&gt;18 -->\n",
       "<g id=\"edge18\" class=\"edge\">\n",
       "<title>17&#45;&gt;18</title>\n",
       "<path fill=\"none\" stroke=\"black\" d=\"M190,-100.71C190,-94.49 190,-84.4 190,-75.64\"/>\n",
       "<polygon fill=\"black\" stroke=\"black\" points=\"193.5,-75.85 190,-65.85 186.5,-75.85 193.5,-75.85\"/>\n",
       "</g>\n",
       "<!-- 19 -->\n",
       "<g id=\"node20\" class=\"node\">\n",
       "<title>19</title>\n",
       "<text text-anchor=\"middle\" x=\"190\" y=\"-0.95\" font-family=\"Times,serif\" font-size=\"14.00\">9 (57)</text>\n",
       "</g>\n",
       "<!-- 18&#45;&gt;19 -->\n",
       "<g id=\"edge19\" class=\"edge\">\n",
       "<title>18&#45;&gt;19</title>\n",
       "<path fill=\"none\" stroke=\"black\" d=\"M190,-50.46C190,-44.24 190,-34.15 190,-25.39\"/>\n",
       "<polygon fill=\"black\" stroke=\"black\" points=\"193.5,-25.6 190,-15.6 186.5,-25.6 193.5,-25.6\"/>\n",
       "</g>\n",
       "</g>\n",
       "</svg>\n"
      ],
      "text/plain": [
       "<graphviz.graphs.Digraph at 0x1192bd610>"
      ]
     },
     "execution_count": 42,
     "metadata": {},
     "output_type": "execute_result"
    }
   ],
   "source": [
    "# For this example, fix the random seed so that the produced output is deterministic\n",
    "random.seed(24)\n",
    "f = GrammarFuzzer(EXPR_GRAMMAR, max_nonterminals=3)\n",
    "test_input = f.fuzz()\n",
    "assert(test_input == tree_to_string(f.derivation_tree))\n",
    "\n",
    "display_tree(f.derivation_tree)"
   ]
  },
  {
   "cell_type": "markdown",
   "metadata": {
    "slideshow": {
     "slide_type": "subslide"
    }
   },
   "source": [
    "Let us write a function `transform_grammar()` that given a sample input and a grammar, transforms it according to Kampmann et al."
   ]
  },
  {
   "cell_type": "markdown",
   "metadata": {
    "slideshow": {
     "slide_type": "fragment"
    }
   },
   "source": [
    "```python\n",
    "\n",
    "def transform_grammar(sample: str,\n",
    "                     grammar: Grammar) -> Grammar\n",
    "\n",
    "```"
   ]
  },
  {
   "cell_type": "markdown",
   "metadata": {
    "slideshow": {
     "slide_type": "fragment"
    }
   },
   "source": [
    "The function requires the following input parameter:\n",
    "- `sample`: an input sample \n",
    "- `grammar`: the grammar that should be transformed/extended"
   ]
  },
  {
   "cell_type": "markdown",
   "metadata": {
    "slideshow": {
     "slide_type": "fragment"
    }
   },
   "source": [
    "The function returns the transformed and extended grammar."
   ]
  },
  {
   "cell_type": "code",
   "execution_count": 43,
   "metadata": {
    "execution": {
     "iopub.execute_input": "2025-01-07T11:06:49.812627Z",
     "iopub.status.busy": "2025-01-07T11:06:49.812478Z",
     "iopub.status.idle": "2025-01-07T11:06:49.815017Z",
     "shell.execute_reply": "2025-01-07T11:06:49.814723Z"
    },
    "slideshow": {
     "slide_type": "subslide"
    }
   },
   "outputs": [],
   "source": [
    "# Recursively iterate through the derivation tree and for each non-terminal,\n",
    "# add the derived word to the grammar\n",
    "\n",
    "def extend_grammar(derivation_tree, grammar):\n",
    "    (node, children) = derivation_tree\n",
    "\n",
    "    if is_nonterminal(node):\n",
    "        assert(node in grammar)\n",
    "        word = tree_to_string(derivation_tree)\n",
    "\n",
    "        # Only add to grammar if not already existent\n",
    "        if word not in grammar[node]:\n",
    "            grammar[node].append(word)\n",
    "\n",
    "    for child in children:\n",
    "        extend_grammar(child, grammar)"
   ]
  },
  {
   "cell_type": "code",
   "execution_count": 44,
   "metadata": {
    "execution": {
     "iopub.execute_input": "2025-01-07T11:06:49.816573Z",
     "iopub.status.busy": "2025-01-07T11:06:49.816454Z",
     "iopub.status.idle": "2025-01-07T11:06:49.818300Z",
     "shell.execute_reply": "2025-01-07T11:06:49.818044Z"
    },
    "slideshow": {
     "slide_type": "skip"
    }
   },
   "outputs": [],
   "source": [
    "import copy"
   ]
  },
  {
   "cell_type": "code",
   "execution_count": 45,
   "metadata": {
    "execution": {
     "iopub.execute_input": "2025-01-07T11:06:49.819842Z",
     "iopub.status.busy": "2025-01-07T11:06:49.819717Z",
     "iopub.status.idle": "2025-01-07T11:06:49.821916Z",
     "shell.execute_reply": "2025-01-07T11:06:49.821614Z"
    },
    "slideshow": {
     "slide_type": "subslide"
    }
   },
   "outputs": [],
   "source": [
    "def transform_grammar(sample: str,\n",
    "                      grammar: Grammar) -> Grammar:\n",
    "    # copy of the grammar\n",
    "    transformed_grammar = copy.deepcopy(grammar)\n",
    "\n",
    "    # parse sample\n",
    "    earley = EarleyParser(grammar)\n",
    "    for derivation_tree in earley.parse(sample):\n",
    "        extend_grammar(derivation_tree, transformed_grammar)\n",
    "\n",
    "    return transformed_grammar"
   ]
  },
  {
   "cell_type": "markdown",
   "metadata": {
    "slideshow": {
     "slide_type": "fragment"
    }
   },
   "source": [
    "Here is an example of a transformed grammar:"
   ]
  },
  {
   "cell_type": "code",
   "execution_count": 46,
   "metadata": {
    "execution": {
     "iopub.execute_input": "2025-01-07T11:06:49.823585Z",
     "iopub.status.busy": "2025-01-07T11:06:49.823464Z",
     "iopub.status.idle": "2025-01-07T11:06:49.826214Z",
     "shell.execute_reply": "2025-01-07T11:06:49.825930Z"
    },
    "slideshow": {
     "slide_type": "subslide"
    }
   },
   "outputs": [
    {
     "name": "stdout",
     "output_type": "stream",
     "text": [
      "<start>    ['<expr>', '1 + 2']\n",
      "<expr>     ['<term> + <expr>', '<term> - <expr>', '<term>', '1 + 2', '2']\n",
      "<term>     ['<factor> * <term>', '<factor> / <term>', '<factor>', '1', '2']\n",
      "<factor>   ['+<factor>', '-<factor>', '(<expr>)', '<integer>.<integer>', '<integer>', '1', '2']\n",
      "<integer>  ['<digit><integer>', '<digit>', '1', '2']\n",
      "<digit>    ['0', '1', '2', '3', '4', '5', '6', '7', '8', '9']\n"
     ]
    }
   ],
   "source": [
    "transformed_grammar = transform_grammar(\"1 + 2\", EXPR_GRAMMAR)\n",
    "for rule in transformed_grammar:\n",
    "    print(rule.ljust(10), transformed_grammar[rule])"
   ]
  },
  {
   "cell_type": "markdown",
   "metadata": {
    "slideshow": {
     "slide_type": "subslide"
    }
   },
   "source": [
    "### End of Excursion"
   ]
  },
  {
   "cell_type": "markdown",
   "metadata": {
    "slideshow": {
     "slide_type": "slide"
    }
   },
   "source": [
    "## Step 2: Train Classification Model\n",
    "\n",
    "Now that we have all the input features and the test outcomes, we can start training a machine learner from these.\n",
    "Although other machine learning models have much higher accuracy, we use _decision trees_ as machine learning models because they are easy to interpret by humans.\n",
    "This is crucial as it will be these very same humans that have to fix the code."
   ]
  },
  {
   "cell_type": "markdown",
   "metadata": {
    "slideshow": {
     "slide_type": "fragment"
    }
   },
   "source": [
    "Before we start with our actual implementation, let us first illustrate how training such a classifier works, again using our calculator as an example."
   ]
  },
  {
   "cell_type": "markdown",
   "metadata": {
    "slideshow": {
     "slide_type": "subslide"
    }
   },
   "source": [
    "### Decision Trees"
   ]
  },
  {
   "cell_type": "markdown",
   "metadata": {
    "slideshow": {
     "slide_type": "fragment"
    }
   },
   "source": [
    "We will use `scikit-learn` as the machine learning library.\n",
    "The `DecisionTreeClassifier` can then learn the syntactical input features that are responsible for the bug-triggering behavior of our Calculator."
   ]
  },
  {
   "cell_type": "code",
   "execution_count": 47,
   "metadata": {
    "execution": {
     "iopub.execute_input": "2025-01-07T11:06:49.827885Z",
     "iopub.status.busy": "2025-01-07T11:06:49.827695Z",
     "iopub.status.idle": "2025-01-07T11:06:50.418305Z",
     "shell.execute_reply": "2025-01-07T11:06:50.417972Z"
    },
    "slideshow": {
     "slide_type": "skip"
    }
   },
   "outputs": [],
   "source": [
    "import sklearn\n",
    "from sklearn.tree import DecisionTreeClassifier\n",
    "from sklearn.feature_extraction import DictVectorizer"
   ]
  },
  {
   "cell_type": "markdown",
   "metadata": {
    "slideshow": {
     "slide_type": "fragment"
    }
   },
   "source": [
    "First, we transform the individual input features (represented as Python dictionaries) into a NumPy array.\n",
    "For this example, we use the following four features (`function-sqrt`, `function-cos`, `function-sin`, `number`) to describe an input feature.\n",
    "(Please note that this is an extremely reduced example; this is not the complete list of features that should be extracted from the `CALC_GRAMMAR` Grammar.)"
   ]
  },
  {
   "cell_type": "markdown",
   "metadata": {
    "slideshow": {
     "slide_type": "subslide"
    }
   },
   "source": [
    "The features `function-sqrt`, `function-cos`, `function-sin` state whether the function _sqrt_, _cos_, or _sin_ was used.\n",
    "A `1` is given if the sample contains the respective function, otherwise the feature contains a `0`."
   ]
  },
  {
   "cell_type": "markdown",
   "metadata": {
    "slideshow": {
     "slide_type": "fragment"
    }
   },
   "source": [
    "For each `<function>(x)`, the `number` feature describes which value was used for `x`. For instance, the first input `sqrt(-900)` corresponds to 'function-sqrt': 1 and 'number': -900."
   ]
  },
  {
   "cell_type": "code",
   "execution_count": 48,
   "metadata": {
    "execution": {
     "iopub.execute_input": "2025-01-07T11:06:50.420261Z",
     "iopub.status.busy": "2025-01-07T11:06:50.420094Z",
     "iopub.status.idle": "2025-01-07T11:06:50.422560Z",
     "shell.execute_reply": "2025-01-07T11:06:50.422268Z"
    },
    "slideshow": {
     "slide_type": "subslide"
    }
   },
   "outputs": [],
   "source": [
    "# Features for each input, one dict per input\n",
    "features = [\n",
    "    {'function-sqrt': 1, 'function-cos': 0, 'function-sin': 0, 'number': -900}, # sqrt(-900)\n",
    "    {'function-sqrt': 0, 'function-cos': 1, 'function-sin': 0, 'number': 300}, # cos(300)\n",
    "    {'function-sqrt': 1, 'function-cos': 0, 'function-sin': 0, 'number': -1}, # sqrt(-1)\n",
    "    {'function-sqrt': 0, 'function-cos': 1, 'function-sin': 0, 'number': -10}, # cos(-10)\n",
    "    {'function-sqrt': 0, 'function-cos': 0, 'function-sin': 1, 'number': 36}, # sin(36)\n",
    "    {'function-sqrt': 0, 'function-cos': 0, 'function-sin': 1, 'number': -58}, # sin(-58)\n",
    "    {'function-sqrt': 1, 'function-cos': 0, 'function-sin': 0, 'number': 27}, # sqrt(27)\n",
    "]"
   ]
  },
  {
   "cell_type": "markdown",
   "metadata": {
    "slideshow": {
     "slide_type": "fragment"
    }
   },
   "source": [
    "We define a list of labels (or oracles) that state whether the specific input file resulted in a bug or not. We use the `OracleResult`-Class to keep everything tidy and clean."
   ]
  },
  {
   "cell_type": "code",
   "execution_count": 49,
   "metadata": {
    "execution": {
     "iopub.execute_input": "2025-01-07T11:06:50.424163Z",
     "iopub.status.busy": "2025-01-07T11:06:50.424041Z",
     "iopub.status.idle": "2025-01-07T11:06:50.427454Z",
     "shell.execute_reply": "2025-01-07T11:06:50.427125Z"
    },
    "slideshow": {
     "slide_type": "subslide"
    }
   },
   "outputs": [],
   "source": [
    "# Labels for each input\n",
    "oracle = [\n",
    "    OracleResult.BUG,\n",
    "    OracleResult.NO_BUG,\n",
    "    OracleResult.BUG,\n",
    "    OracleResult.NO_BUG,\n",
    "    OracleResult.NO_BUG,\n",
    "    OracleResult.NO_BUG,\n",
    "    OracleResult.NO_BUG\n",
    "]\n",
    "\n",
    "# Transform to numpy array\n",
    "vec = DictVectorizer()\n",
    "X = vec.fit_transform(features).toarray()"
   ]
  },
  {
   "cell_type": "markdown",
   "metadata": {
    "slideshow": {
     "slide_type": "subslide"
    }
   },
   "source": [
    "Using the feature array and labels, we can now train a decision tree classifier as follows:"
   ]
  },
  {
   "cell_type": "code",
   "execution_count": 50,
   "metadata": {
    "execution": {
     "iopub.execute_input": "2025-01-07T11:06:50.429128Z",
     "iopub.status.busy": "2025-01-07T11:06:50.429010Z",
     "iopub.status.idle": "2025-01-07T11:06:50.432152Z",
     "shell.execute_reply": "2025-01-07T11:06:50.431891Z"
    },
    "slideshow": {
     "slide_type": "fragment"
    }
   },
   "outputs": [],
   "source": [
    "# Fix the random state to produce a deterministic result (for illustration purposes only)\n",
    "clf = DecisionTreeClassifier(random_state=10)\n",
    "\n",
    "# sci-kit learn requires an array of strings\n",
    "oracle_clean = [str(c) for c in oracle]\n",
    "clf = clf.fit(X, oracle_clean)"
   ]
  },
  {
   "cell_type": "markdown",
   "metadata": {
    "slideshow": {
     "slide_type": "fragment"
    }
   },
   "source": [
    "Let's have a look at the learned decision tree:"
   ]
  },
  {
   "cell_type": "code",
   "execution_count": 51,
   "metadata": {
    "execution": {
     "iopub.execute_input": "2025-01-07T11:06:50.433634Z",
     "iopub.status.busy": "2025-01-07T11:06:50.433528Z",
     "iopub.status.idle": "2025-01-07T11:06:50.435193Z",
     "shell.execute_reply": "2025-01-07T11:06:50.434944Z"
    },
    "slideshow": {
     "slide_type": "skip"
    }
   },
   "outputs": [],
   "source": [
    "import graphviz"
   ]
  },
  {
   "cell_type": "code",
   "execution_count": 52,
   "metadata": {
    "execution": {
     "iopub.execute_input": "2025-01-07T11:06:50.436522Z",
     "iopub.status.busy": "2025-01-07T11:06:50.436410Z",
     "iopub.status.idle": "2025-01-07T11:06:50.438460Z",
     "shell.execute_reply": "2025-01-07T11:06:50.438148Z"
    },
    "slideshow": {
     "slide_type": "fragment"
    }
   },
   "outputs": [],
   "source": [
    "def show_decision_tree(clf, feature_names):\n",
    "    dot_data = sklearn.tree.export_graphviz(clf, out_file=None, \n",
    "                                    feature_names=feature_names,\n",
    "                                    class_names=[\"BUG\", \"NO_BUG\"],  \n",
    "                                    filled=True, rounded=True)  \n",
    "    return graphviz.Source(dot_data)"
   ]
  },
  {
   "cell_type": "code",
   "execution_count": 53,
   "metadata": {
    "execution": {
     "iopub.execute_input": "2025-01-07T11:06:50.440082Z",
     "iopub.status.busy": "2025-01-07T11:06:50.439919Z",
     "iopub.status.idle": "2025-01-07T11:06:50.915752Z",
     "shell.execute_reply": "2025-01-07T11:06:50.915115Z"
    },
    "slideshow": {
     "slide_type": "subslide"
    }
   },
   "outputs": [
    {
     "data": {
      "image/svg+xml": [
       "<?xml version=\"1.0\" encoding=\"UTF-8\" standalone=\"no\"?>\n",
       "<!DOCTYPE svg PUBLIC \"-//W3C//DTD SVG 1.1//EN\"\n",
       " \"http://www.w3.org/Graphics/SVG/1.1/DTD/svg11.dtd\">\n",
       "<!-- Generated by graphviz version 12.2.1 (20241206.2353)\n",
       " -->\n",
       "<!-- Title: Tree Pages: 1 -->\n",
       "<svg width=\"327pt\" height=\"314pt\"\n",
       " viewBox=\"0.00 0.00 327.00 314.00\" xmlns=\"http://www.w3.org/2000/svg\" xmlns:xlink=\"http://www.w3.org/1999/xlink\">\n",
       "<g id=\"graph0\" class=\"graph\" transform=\"scale(1 1) rotate(0) translate(4 310)\">\n",
       "<title>Tree</title>\n",
       "<polygon fill=\"white\" stroke=\"none\" points=\"-4,4 -4,-310 323,-310 323,4 -4,4\"/>\n",
       "<!-- 0 -->\n",
       "<g id=\"node1\" class=\"node\">\n",
       "<title>0</title>\n",
       "<path fill=\"#88c4ef\" stroke=\"black\" d=\"M182,-306C182,-306 73,-306 73,-306 67,-306 61,-300 61,-294 61,-294 61,-235 61,-235 61,-229 67,-223 73,-223 73,-223 182,-223 182,-223 188,-223 194,-229 194,-235 194,-235 194,-294 194,-294 194,-300 188,-306 182,-306\"/>\n",
       "<text text-anchor=\"middle\" x=\"127.5\" y=\"-288.7\" font-family=\"Helvetica,sans-Serif\" font-size=\"14.00\">function&#45;sqrt &lt;= 0.5</text>\n",
       "<text text-anchor=\"middle\" x=\"127.5\" y=\"-273.7\" font-family=\"Helvetica,sans-Serif\" font-size=\"14.00\">gini = 0.408</text>\n",
       "<text text-anchor=\"middle\" x=\"127.5\" y=\"-258.7\" font-family=\"Helvetica,sans-Serif\" font-size=\"14.00\">samples = 7</text>\n",
       "<text text-anchor=\"middle\" x=\"127.5\" y=\"-243.7\" font-family=\"Helvetica,sans-Serif\" font-size=\"14.00\">value = [2, 5]</text>\n",
       "<text text-anchor=\"middle\" x=\"127.5\" y=\"-228.7\" font-family=\"Helvetica,sans-Serif\" font-size=\"14.00\">class = NO_BUG</text>\n",
       "</g>\n",
       "<!-- 1 -->\n",
       "<g id=\"node2\" class=\"node\">\n",
       "<title>1</title>\n",
       "<path fill=\"#399de5\" stroke=\"black\" d=\"M109,-179.5C109,-179.5 12,-179.5 12,-179.5 6,-179.5 0,-173.5 0,-167.5 0,-167.5 0,-123.5 0,-123.5 0,-117.5 6,-111.5 12,-111.5 12,-111.5 109,-111.5 109,-111.5 115,-111.5 121,-117.5 121,-123.5 121,-123.5 121,-167.5 121,-167.5 121,-173.5 115,-179.5 109,-179.5\"/>\n",
       "<text text-anchor=\"middle\" x=\"60.5\" y=\"-162.2\" font-family=\"Helvetica,sans-Serif\" font-size=\"14.00\">gini = 0.0</text>\n",
       "<text text-anchor=\"middle\" x=\"60.5\" y=\"-147.2\" font-family=\"Helvetica,sans-Serif\" font-size=\"14.00\">samples = 4</text>\n",
       "<text text-anchor=\"middle\" x=\"60.5\" y=\"-132.2\" font-family=\"Helvetica,sans-Serif\" font-size=\"14.00\">value = [0, 4]</text>\n",
       "<text text-anchor=\"middle\" x=\"60.5\" y=\"-117.2\" font-family=\"Helvetica,sans-Serif\" font-size=\"14.00\">class = NO_BUG</text>\n",
       "</g>\n",
       "<!-- 0&#45;&gt;1 -->\n",
       "<g id=\"edge1\" class=\"edge\">\n",
       "<title>0&#45;&gt;1</title>\n",
       "<path fill=\"none\" stroke=\"black\" d=\"M104.07,-222.58C98,-211.99 91.46,-200.56 85.33,-189.85\"/>\n",
       "<polygon fill=\"black\" stroke=\"black\" points=\"88.36,-188.11 80.36,-181.17 82.29,-191.59 88.36,-188.11\"/>\n",
       "<text text-anchor=\"middle\" x=\"73.05\" y=\"-198.19\" font-family=\"Helvetica,sans-Serif\" font-size=\"14.00\">True</text>\n",
       "</g>\n",
       "<!-- 2 -->\n",
       "<g id=\"node3\" class=\"node\">\n",
       "<title>2</title>\n",
       "<path fill=\"#f2c09c\" stroke=\"black\" d=\"M239.88,-187C239.88,-187 151.12,-187 151.12,-187 145.12,-187 139.12,-181 139.12,-175 139.12,-175 139.12,-116 139.12,-116 139.12,-110 145.12,-104 151.12,-104 151.12,-104 239.88,-104 239.88,-104 245.88,-104 251.88,-110 251.88,-116 251.88,-116 251.88,-175 251.88,-175 251.88,-181 245.88,-187 239.88,-187\"/>\n",
       "<text text-anchor=\"middle\" x=\"195.5\" y=\"-169.7\" font-family=\"Helvetica,sans-Serif\" font-size=\"14.00\">number &lt;= 13.0</text>\n",
       "<text text-anchor=\"middle\" x=\"195.5\" y=\"-154.7\" font-family=\"Helvetica,sans-Serif\" font-size=\"14.00\">gini = 0.444</text>\n",
       "<text text-anchor=\"middle\" x=\"195.5\" y=\"-139.7\" font-family=\"Helvetica,sans-Serif\" font-size=\"14.00\">samples = 3</text>\n",
       "<text text-anchor=\"middle\" x=\"195.5\" y=\"-124.7\" font-family=\"Helvetica,sans-Serif\" font-size=\"14.00\">value = [2, 1]</text>\n",
       "<text text-anchor=\"middle\" x=\"195.5\" y=\"-109.7\" font-family=\"Helvetica,sans-Serif\" font-size=\"14.00\">class = BUG</text>\n",
       "</g>\n",
       "<!-- 0&#45;&gt;2 -->\n",
       "<g id=\"edge2\" class=\"edge\">\n",
       "<title>0&#45;&gt;2</title>\n",
       "<path fill=\"none\" stroke=\"black\" d=\"M151.28,-222.58C156.07,-214.34 161.16,-205.58 166.12,-197.06\"/>\n",
       "<polygon fill=\"black\" stroke=\"black\" points=\"169.09,-198.91 171.08,-188.51 163.03,-195.4 169.09,-198.91\"/>\n",
       "<text text-anchor=\"middle\" x=\"178.25\" y=\"-205.57\" font-family=\"Helvetica,sans-Serif\" font-size=\"14.00\">False</text>\n",
       "</g>\n",
       "<!-- 3 -->\n",
       "<g id=\"node4\" class=\"node\">\n",
       "<title>3</title>\n",
       "<path fill=\"#e58139\" stroke=\"black\" d=\"M167.5,-68C167.5,-68 97.5,-68 97.5,-68 91.5,-68 85.5,-62 85.5,-56 85.5,-56 85.5,-12 85.5,-12 85.5,-6 91.5,0 97.5,0 97.5,0 167.5,0 167.5,0 173.5,0 179.5,-6 179.5,-12 179.5,-12 179.5,-56 179.5,-56 179.5,-62 173.5,-68 167.5,-68\"/>\n",
       "<text text-anchor=\"middle\" x=\"132.5\" y=\"-50.7\" font-family=\"Helvetica,sans-Serif\" font-size=\"14.00\">gini = 0.0</text>\n",
       "<text text-anchor=\"middle\" x=\"132.5\" y=\"-35.7\" font-family=\"Helvetica,sans-Serif\" font-size=\"14.00\">samples = 2</text>\n",
       "<text text-anchor=\"middle\" x=\"132.5\" y=\"-20.7\" font-family=\"Helvetica,sans-Serif\" font-size=\"14.00\">value = [2, 0]</text>\n",
       "<text text-anchor=\"middle\" x=\"132.5\" y=\"-5.7\" font-family=\"Helvetica,sans-Serif\" font-size=\"14.00\">class = BUG</text>\n",
       "</g>\n",
       "<!-- 2&#45;&gt;3 -->\n",
       "<g id=\"edge3\" class=\"edge\">\n",
       "<title>2&#45;&gt;3</title>\n",
       "<path fill=\"none\" stroke=\"black\" d=\"M172.04,-103.73C167.21,-95.34 162.12,-86.47 157.24,-78.01\"/>\n",
       "<polygon fill=\"black\" stroke=\"black\" points=\"160.43,-76.53 152.41,-69.61 154.37,-80.02 160.43,-76.53\"/>\n",
       "</g>\n",
       "<!-- 4 -->\n",
       "<g id=\"node5\" class=\"node\">\n",
       "<title>4</title>\n",
       "<path fill=\"#399de5\" stroke=\"black\" d=\"M307,-68C307,-68 210,-68 210,-68 204,-68 198,-62 198,-56 198,-56 198,-12 198,-12 198,-6 204,0 210,0 210,0 307,0 307,0 313,0 319,-6 319,-12 319,-12 319,-56 319,-56 319,-62 313,-68 307,-68\"/>\n",
       "<text text-anchor=\"middle\" x=\"258.5\" y=\"-50.7\" font-family=\"Helvetica,sans-Serif\" font-size=\"14.00\">gini = 0.0</text>\n",
       "<text text-anchor=\"middle\" x=\"258.5\" y=\"-35.7\" font-family=\"Helvetica,sans-Serif\" font-size=\"14.00\">samples = 1</text>\n",
       "<text text-anchor=\"middle\" x=\"258.5\" y=\"-20.7\" font-family=\"Helvetica,sans-Serif\" font-size=\"14.00\">value = [0, 1]</text>\n",
       "<text text-anchor=\"middle\" x=\"258.5\" y=\"-5.7\" font-family=\"Helvetica,sans-Serif\" font-size=\"14.00\">class = NO_BUG</text>\n",
       "</g>\n",
       "<!-- 2&#45;&gt;4 -->\n",
       "<g id=\"edge4\" class=\"edge\">\n",
       "<title>2&#45;&gt;4</title>\n",
       "<path fill=\"none\" stroke=\"black\" d=\"M218.96,-103.73C223.79,-95.34 228.88,-86.47 233.76,-78.01\"/>\n",
       "<polygon fill=\"black\" stroke=\"black\" points=\"236.63,-80.02 238.59,-69.61 230.57,-76.53 236.63,-80.02\"/>\n",
       "</g>\n",
       "</g>\n",
       "</svg>\n"
      ],
      "text/plain": [
       "<graphviz.sources.Source at 0x11ed5bce0>"
      ]
     },
     "execution_count": 53,
     "metadata": {},
     "output_type": "execute_result"
    }
   ],
   "source": [
    "show_decision_tree(clf, vec.get_feature_names_out())"
   ]
  },
  {
   "cell_type": "markdown",
   "metadata": {
    "slideshow": {
     "slide_type": "fragment"
    }
   },
   "source": [
    "Here is a much reduced textual variant, still retaining the essential features:"
   ]
  },
  {
   "cell_type": "code",
   "execution_count": 54,
   "metadata": {
    "execution": {
     "iopub.execute_input": "2025-01-07T11:06:50.917843Z",
     "iopub.status.busy": "2025-01-07T11:06:50.917644Z",
     "iopub.status.idle": "2025-01-07T11:06:50.919870Z",
     "shell.execute_reply": "2025-01-07T11:06:50.919499Z"
    },
    "slideshow": {
     "slide_type": "skip"
    }
   },
   "outputs": [],
   "source": [
    "import math"
   ]
  },
  {
   "cell_type": "code",
   "execution_count": 55,
   "metadata": {
    "execution": {
     "iopub.execute_input": "2025-01-07T11:06:50.921589Z",
     "iopub.status.busy": "2025-01-07T11:06:50.921472Z",
     "iopub.status.idle": "2025-01-07T11:06:50.925729Z",
     "shell.execute_reply": "2025-01-07T11:06:50.925432Z"
    },
    "slideshow": {
     "slide_type": "subslide"
    }
   },
   "outputs": [],
   "source": [
    "def friendly_decision_tree(clf, feature_names,\n",
    "                           class_names = ['NO_BUG', 'BUG'],\n",
    "                           indent=0):\n",
    "    def _tree(index, indent):\n",
    "        s = \"\"\n",
    "        feature = clf.tree_.feature[index]\n",
    "        feature_name = feature_names[feature]\n",
    "        threshold = clf.tree_.threshold[index]\n",
    "        value = clf.tree_.value[index]\n",
    "        class_ = int(value[0][0])\n",
    "        class_name = class_names[class_]\n",
    "        left = clf.tree_.children_left[index]\n",
    "        right = clf.tree_.children_right[index]\n",
    "        if left == right:\n",
    "            # Leaf node\n",
    "            s += \" \" * indent + class_name + \"\\n\"\n",
    "        else:\n",
    "            if math.isclose(threshold, 0.5):\n",
    "                s += \" \" * indent + f\"if {feature_name}:\\n\"\n",
    "                s += _tree(right, indent + 2)\n",
    "                s += \" \" * indent + f\"else:\\n\"\n",
    "                s += _tree(left, indent + 2)\n",
    "            else:\n",
    "                s += \" \" * indent + f\"if {feature_name} <= {threshold:.4f}:\\n\"\n",
    "                s += _tree(left, indent + 2)\n",
    "                s += \" \" * indent + f\"else:\\n\"\n",
    "                s += _tree(right, indent + 2)\n",
    "        return s\n",
    "\n",
    "    ROOT_INDEX = 0\n",
    "    return _tree(ROOT_INDEX, indent)"
   ]
  },
  {
   "cell_type": "code",
   "execution_count": 56,
   "metadata": {
    "execution": {
     "iopub.execute_input": "2025-01-07T11:06:50.927447Z",
     "iopub.status.busy": "2025-01-07T11:06:50.927314Z",
     "iopub.status.idle": "2025-01-07T11:06:50.929939Z",
     "shell.execute_reply": "2025-01-07T11:06:50.929637Z"
    },
    "slideshow": {
     "slide_type": "subslide"
    }
   },
   "outputs": [
    {
     "name": "stdout",
     "output_type": "stream",
     "text": [
      "if function-sqrt:\n",
      "  if number <= 13.0000:\n",
      "    BUG\n",
      "  else:\n",
      "    NO_BUG\n",
      "else:\n",
      "  NO_BUG\n",
      "\n"
     ]
    }
   ],
   "source": [
    "print(friendly_decision_tree(clf, vec.get_feature_names_out()))"
   ]
  },
  {
   "cell_type": "markdown",
   "metadata": {
    "slideshow": {
     "slide_type": "fragment"
    }
   },
   "source": [
    "We can see that our initial hypothesis is that the feature `function-sqrt` must be greater than 0.5 (i.e., present) and the feature `number` must be less or equal than 13 in order to produce a bug. The decision rule is not yet perfect, thus we need to refine our decision tree!"
   ]
  },
  {
   "cell_type": "markdown",
   "metadata": {
    "slideshow": {
     "slide_type": "subslide"
    }
   },
   "source": [
    "### Learning a Decision Tree"
   ]
  },
  {
   "cell_type": "markdown",
   "metadata": {
    "slideshow": {
     "slide_type": "fragment"
    }
   },
   "source": [
    "For _Alhazen's_ second step (Train Classification Model), we write a function `train_tree(data)` that trains a decision tree on a given data frame:"
   ]
  },
  {
   "cell_type": "markdown",
   "metadata": {
    "slideshow": {
     "slide_type": "fragment"
    }
   },
   "source": [
    "```python\n",
    "\n",
    "def train_tree(data: pandas.core.frame.DataFrame) -> sklearn.tree._classes.DecisionTreeClassifier\n",
    "\n",
    "```"
   ]
  },
  {
   "cell_type": "markdown",
   "metadata": {
    "slideshow": {
     "slide_type": "subslide"
    }
   },
   "source": [
    "The function requires the following parameter:\n",
    "\n",
    "- data: a `pandas` data frame containing the parsed and extracted features and the outcome of the executed input sample (oracle).\n",
    "\n",
    "For instance, the data frame may look similar to this:"
   ]
  },
  {
   "cell_type": "markdown",
   "metadata": {
    "slideshow": {
     "slide_type": "fragment"
    }
   },
   "source": [
    "| feature_1     | feature_2     | ...    |oracle|\n",
    "| ------------- |-------------|-------------|-----|\n",
    "| 1     | 0 | ...| 'BUG' |\n",
    "| 0     | 1 | ...| 'NO_BUG' |"
   ]
  },
  {
   "cell_type": "markdown",
   "metadata": {
    "slideshow": {
     "slide_type": "subslide"
    }
   },
   "source": [
    "**Note:** Each row of `data['oracle']` is of type `OracleResult`.\n",
    "However, sci-kit learn requires an array of strings.\n",
    "We have to convert them to learn the decision tree."
   ]
  },
  {
   "cell_type": "markdown",
   "metadata": {
    "slideshow": {
     "slide_type": "subslide"
    }
   },
   "source": [
    "**OUTPUT**: the function returns a learned decision tree of type `_sklearn.tree._classes.DecisionTreeClassifier_`."
   ]
  },
  {
   "cell_type": "code",
   "execution_count": 57,
   "metadata": {
    "execution": {
     "iopub.execute_input": "2025-01-07T11:06:50.932014Z",
     "iopub.status.busy": "2025-01-07T11:06:50.931887Z",
     "iopub.status.idle": "2025-01-07T11:06:50.934599Z",
     "shell.execute_reply": "2025-01-07T11:06:50.934319Z"
    },
    "slideshow": {
     "slide_type": "subslide"
    }
   },
   "outputs": [],
   "source": [
    "def train_tree(data):\n",
    "    sample_bug_count = len(data[(data[\"oracle\"].astype(str) == \"BUG\")])\n",
    "    assert sample_bug_count > 0, \"No bug samples found\"\n",
    "    sample_count = len(data)\n",
    "\n",
    "    clf = DecisionTreeClassifier(min_samples_leaf=1,\n",
    "                                     min_samples_split=2,  # minimal value\n",
    "                                     max_features=None,\n",
    "                                     max_depth=5, # max depth of the decision tree\n",
    "                                     class_weight={str(\"BUG\"): (1.0/sample_bug_count),\n",
    "                                                   str(\"NO_BUG\"):\n",
    "                                                       (1.0/(sample_count - sample_bug_count))})\n",
    "    clf = clf.fit(data.drop('oracle', axis=1), data['oracle'].astype(str))\n",
    "    # MARTIN: This is optional, but is a nice extesion that results in nicer decision trees\n",
    "    # clf = treetools.remove_infeasible(clf, features)\n",
    "    return clf"
   ]
  },
  {
   "cell_type": "markdown",
   "metadata": {
    "slideshow": {
     "slide_type": "slide"
    }
   },
   "source": [
    "## Step 3: Extract Feature Requirements"
   ]
  },
  {
   "cell_type": "markdown",
   "metadata": {
    "slideshow": {
     "slide_type": "fragment"
    }
   },
   "source": [
    "In this section, we will extract the learned features from the decision tree.\n",
    "Again, let us first test this manually on our calculator example."
   ]
  },
  {
   "cell_type": "code",
   "execution_count": 58,
   "metadata": {
    "execution": {
     "iopub.execute_input": "2025-01-07T11:06:50.936175Z",
     "iopub.status.busy": "2025-01-07T11:06:50.936059Z",
     "iopub.status.idle": "2025-01-07T11:06:50.942163Z",
     "shell.execute_reply": "2025-01-07T11:06:50.941724Z"
    },
    "slideshow": {
     "slide_type": "subslide"
    }
   },
   "outputs": [],
   "source": [
    "# Features for each input, one dict per input\n",
    "features = [\n",
    "    {'function-sqrt': 1, 'function-cos': 0, 'function-sin': 0, 'number': -900},\n",
    "    {'function-sqrt': 0, 'function-cos': 1, 'function-sin': 0, 'number': 300},\n",
    "    {'function-sqrt': 1, 'function-cos': 0, 'function-sin': 0, 'number': -1},\n",
    "    {'function-sqrt': 0, 'function-cos': 1, 'function-sin': 0, 'number': -10},\n",
    "    {'function-sqrt': 0, 'function-cos': 0, 'function-sin': 1, 'number': 36},\n",
    "    {'function-sqrt': 0, 'function-cos': 0, 'function-sin': 1, 'number': -58},\n",
    "    {'function-sqrt': 1, 'function-cos': 0, 'function-sin': 0, 'number': 27},\n",
    "]\n",
    "\n",
    "# Labels for each input\n",
    "oracle = [\n",
    "    \"BUG\",\n",
    "    \"NO_BUG\",\n",
    "    \"BUG\",\n",
    "    \"NO_BUG\",\n",
    "    \"NO_BUG\",\n",
    "    \"NO_BUG\",\n",
    "    \"NO_BUG\"\n",
    "]\n",
    "\n",
    "# We can use the sklearn DictVectorizer to transform the features to numpy array:\n",
    "# Notice: Use the correct labeling of the feature_names\n",
    "\n",
    "# vec = DictVectorizer()\n",
    "# X_vec = vec.fit_transform(features).toarray()\n",
    "# feature_names = vec.get_feature_names_out()\n",
    "\n",
    "# We can also use a pandas DataFrame and directly parse it to the decision tree learner\n",
    "feature_names = ['function-sqrt', 'function-cos', 'function-sin', 'number']\n",
    "X_data = pandas.DataFrame.from_records(features)\n",
    "\n",
    "# Fix the random state to produce a deterministic result (for illustration purposes only)\n",
    "clf = DecisionTreeClassifier(random_state=10)\n",
    "\n",
    "# Train with DictVectorizer\n",
    "# **Note:** The sklearn `DictVectorizer` uses an internal sort function as default. This will result in different feature_name indices. If you want to use the `Dictvectorizer` please ensure that you only access the feature_names with the function `vec.get_feature_names_out()`.\n",
    "# We recommend that you use the `pandas` data frame, since this is also the format used in the feedback loop.\n",
    "# clf = clf.fit(X_vec, oracle)\n",
    "\n",
    "# Train with Pandas Dataframe\n",
    "clf = clf.fit(X_data, oracle)\n",
    "\n",
    "dot_data = sklearn.tree.export_graphviz(clf, out_file=None,\n",
    "                                feature_names=feature_names,\n",
    "                                class_names=[\"BUG\", \"NO BUG\"],\n",
    "                                filled=True, rounded=True)\n",
    "graph = graphviz.Source(dot_data)"
   ]
  },
  {
   "cell_type": "code",
   "execution_count": 59,
   "metadata": {
    "execution": {
     "iopub.execute_input": "2025-01-07T11:06:50.943962Z",
     "iopub.status.busy": "2025-01-07T11:06:50.943819Z",
     "iopub.status.idle": "2025-01-07T11:06:51.417113Z",
     "shell.execute_reply": "2025-01-07T11:06:51.416563Z"
    },
    "slideshow": {
     "slide_type": "subslide"
    }
   },
   "outputs": [
    {
     "data": {
      "image/svg+xml": [
       "<?xml version=\"1.0\" encoding=\"UTF-8\" standalone=\"no\"?>\n",
       "<!DOCTYPE svg PUBLIC \"-//W3C//DTD SVG 1.1//EN\"\n",
       " \"http://www.w3.org/Graphics/SVG/1.1/DTD/svg11.dtd\">\n",
       "<!-- Generated by graphviz version 12.2.1 (20241206.2353)\n",
       " -->\n",
       "<!-- Title: Tree Pages: 1 -->\n",
       "<svg width=\"320pt\" height=\"314pt\"\n",
       " viewBox=\"0.00 0.00 320.25 314.00\" xmlns=\"http://www.w3.org/2000/svg\" xmlns:xlink=\"http://www.w3.org/1999/xlink\">\n",
       "<g id=\"graph0\" class=\"graph\" transform=\"scale(1 1) rotate(0) translate(4 310)\">\n",
       "<title>Tree</title>\n",
       "<polygon fill=\"white\" stroke=\"none\" points=\"-4,4 -4,-310 316.25,-310 316.25,4 -4,4\"/>\n",
       "<!-- 0 -->\n",
       "<g id=\"node1\" class=\"node\">\n",
       "<title>0</title>\n",
       "<path fill=\"#88c4ef\" stroke=\"black\" d=\"M179.12,-306C179.12,-306 70.12,-306 70.12,-306 64.12,-306 58.12,-300 58.12,-294 58.12,-294 58.12,-235 58.12,-235 58.12,-229 64.12,-223 70.12,-223 70.12,-223 179.12,-223 179.12,-223 185.12,-223 191.12,-229 191.12,-235 191.12,-235 191.12,-294 191.12,-294 191.12,-300 185.12,-306 179.12,-306\"/>\n",
       "<text text-anchor=\"middle\" x=\"124.62\" y=\"-288.7\" font-family=\"Helvetica,sans-Serif\" font-size=\"14.00\">function&#45;sqrt &lt;= 0.5</text>\n",
       "<text text-anchor=\"middle\" x=\"124.62\" y=\"-273.7\" font-family=\"Helvetica,sans-Serif\" font-size=\"14.00\">gini = 0.408</text>\n",
       "<text text-anchor=\"middle\" x=\"124.62\" y=\"-258.7\" font-family=\"Helvetica,sans-Serif\" font-size=\"14.00\">samples = 7</text>\n",
       "<text text-anchor=\"middle\" x=\"124.62\" y=\"-243.7\" font-family=\"Helvetica,sans-Serif\" font-size=\"14.00\">value = [2, 5]</text>\n",
       "<text text-anchor=\"middle\" x=\"124.62\" y=\"-228.7\" font-family=\"Helvetica,sans-Serif\" font-size=\"14.00\">class = NO BUG</text>\n",
       "</g>\n",
       "<!-- 1 -->\n",
       "<g id=\"node2\" class=\"node\">\n",
       "<title>1</title>\n",
       "<path fill=\"#399de5\" stroke=\"black\" d=\"M105.25,-179.5C105.25,-179.5 12,-179.5 12,-179.5 6,-179.5 0,-173.5 0,-167.5 0,-167.5 0,-123.5 0,-123.5 0,-117.5 6,-111.5 12,-111.5 12,-111.5 105.25,-111.5 105.25,-111.5 111.25,-111.5 117.25,-117.5 117.25,-123.5 117.25,-123.5 117.25,-167.5 117.25,-167.5 117.25,-173.5 111.25,-179.5 105.25,-179.5\"/>\n",
       "<text text-anchor=\"middle\" x=\"58.62\" y=\"-162.2\" font-family=\"Helvetica,sans-Serif\" font-size=\"14.00\">gini = 0.0</text>\n",
       "<text text-anchor=\"middle\" x=\"58.62\" y=\"-147.2\" font-family=\"Helvetica,sans-Serif\" font-size=\"14.00\">samples = 4</text>\n",
       "<text text-anchor=\"middle\" x=\"58.62\" y=\"-132.2\" font-family=\"Helvetica,sans-Serif\" font-size=\"14.00\">value = [0, 4]</text>\n",
       "<text text-anchor=\"middle\" x=\"58.62\" y=\"-117.2\" font-family=\"Helvetica,sans-Serif\" font-size=\"14.00\">class = NO BUG</text>\n",
       "</g>\n",
       "<!-- 0&#45;&gt;1 -->\n",
       "<g id=\"edge1\" class=\"edge\">\n",
       "<title>0&#45;&gt;1</title>\n",
       "<path fill=\"none\" stroke=\"black\" d=\"M101.54,-222.58C95.57,-211.99 89.12,-200.56 83.08,-189.85\"/>\n",
       "<polygon fill=\"black\" stroke=\"black\" points=\"86.15,-188.17 78.19,-181.18 80.05,-191.61 86.15,-188.17\"/>\n",
       "<text text-anchor=\"middle\" x=\"70.73\" y=\"-198.14\" font-family=\"Helvetica,sans-Serif\" font-size=\"14.00\">True</text>\n",
       "</g>\n",
       "<!-- 2 -->\n",
       "<g id=\"node3\" class=\"node\">\n",
       "<title>2</title>\n",
       "<path fill=\"#f2c09c\" stroke=\"black\" d=\"M236,-187C236,-187 147.25,-187 147.25,-187 141.25,-187 135.25,-181 135.25,-175 135.25,-175 135.25,-116 135.25,-116 135.25,-110 141.25,-104 147.25,-104 147.25,-104 236,-104 236,-104 242,-104 248,-110 248,-116 248,-116 248,-175 248,-175 248,-181 242,-187 236,-187\"/>\n",
       "<text text-anchor=\"middle\" x=\"191.62\" y=\"-169.7\" font-family=\"Helvetica,sans-Serif\" font-size=\"14.00\">number &lt;= 13.0</text>\n",
       "<text text-anchor=\"middle\" x=\"191.62\" y=\"-154.7\" font-family=\"Helvetica,sans-Serif\" font-size=\"14.00\">gini = 0.444</text>\n",
       "<text text-anchor=\"middle\" x=\"191.62\" y=\"-139.7\" font-family=\"Helvetica,sans-Serif\" font-size=\"14.00\">samples = 3</text>\n",
       "<text text-anchor=\"middle\" x=\"191.62\" y=\"-124.7\" font-family=\"Helvetica,sans-Serif\" font-size=\"14.00\">value = [2, 1]</text>\n",
       "<text text-anchor=\"middle\" x=\"191.62\" y=\"-109.7\" font-family=\"Helvetica,sans-Serif\" font-size=\"14.00\">class = BUG</text>\n",
       "</g>\n",
       "<!-- 0&#45;&gt;2 -->\n",
       "<g id=\"edge2\" class=\"edge\">\n",
       "<title>0&#45;&gt;2</title>\n",
       "<path fill=\"none\" stroke=\"black\" d=\"M148.06,-222.58C152.78,-214.34 157.79,-205.58 162.67,-197.06\"/>\n",
       "<polygon fill=\"black\" stroke=\"black\" points=\"165.63,-198.93 167.57,-188.51 159.56,-195.45 165.63,-198.93\"/>\n",
       "<text text-anchor=\"middle\" x=\"174.87\" y=\"-205.53\" font-family=\"Helvetica,sans-Serif\" font-size=\"14.00\">False</text>\n",
       "</g>\n",
       "<!-- 3 -->\n",
       "<g id=\"node4\" class=\"node\">\n",
       "<title>3</title>\n",
       "<path fill=\"#e58139\" stroke=\"black\" d=\"M164.62,-68C164.62,-68 94.62,-68 94.62,-68 88.62,-68 82.62,-62 82.62,-56 82.62,-56 82.62,-12 82.62,-12 82.62,-6 88.62,0 94.62,0 94.62,0 164.62,0 164.62,0 170.62,0 176.62,-6 176.62,-12 176.62,-12 176.62,-56 176.62,-56 176.62,-62 170.62,-68 164.62,-68\"/>\n",
       "<text text-anchor=\"middle\" x=\"129.62\" y=\"-50.7\" font-family=\"Helvetica,sans-Serif\" font-size=\"14.00\">gini = 0.0</text>\n",
       "<text text-anchor=\"middle\" x=\"129.62\" y=\"-35.7\" font-family=\"Helvetica,sans-Serif\" font-size=\"14.00\">samples = 2</text>\n",
       "<text text-anchor=\"middle\" x=\"129.62\" y=\"-20.7\" font-family=\"Helvetica,sans-Serif\" font-size=\"14.00\">value = [2, 0]</text>\n",
       "<text text-anchor=\"middle\" x=\"129.62\" y=\"-5.7\" font-family=\"Helvetica,sans-Serif\" font-size=\"14.00\">class = BUG</text>\n",
       "</g>\n",
       "<!-- 2&#45;&gt;3 -->\n",
       "<g id=\"edge3\" class=\"edge\">\n",
       "<title>2&#45;&gt;3</title>\n",
       "<path fill=\"none\" stroke=\"black\" d=\"M168.54,-103.73C163.84,-95.43 158.88,-86.67 154.13,-78.28\"/>\n",
       "<polygon fill=\"black\" stroke=\"black\" points=\"157.2,-76.59 149.23,-69.62 151.11,-80.04 157.2,-76.59\"/>\n",
       "</g>\n",
       "<!-- 4 -->\n",
       "<g id=\"node5\" class=\"node\">\n",
       "<title>4</title>\n",
       "<path fill=\"#399de5\" stroke=\"black\" d=\"M300.25,-68C300.25,-68 207,-68 207,-68 201,-68 195,-62 195,-56 195,-56 195,-12 195,-12 195,-6 201,0 207,0 207,0 300.25,0 300.25,0 306.25,0 312.25,-6 312.25,-12 312.25,-12 312.25,-56 312.25,-56 312.25,-62 306.25,-68 300.25,-68\"/>\n",
       "<text text-anchor=\"middle\" x=\"253.62\" y=\"-50.7\" font-family=\"Helvetica,sans-Serif\" font-size=\"14.00\">gini = 0.0</text>\n",
       "<text text-anchor=\"middle\" x=\"253.62\" y=\"-35.7\" font-family=\"Helvetica,sans-Serif\" font-size=\"14.00\">samples = 1</text>\n",
       "<text text-anchor=\"middle\" x=\"253.62\" y=\"-20.7\" font-family=\"Helvetica,sans-Serif\" font-size=\"14.00\">value = [0, 1]</text>\n",
       "<text text-anchor=\"middle\" x=\"253.62\" y=\"-5.7\" font-family=\"Helvetica,sans-Serif\" font-size=\"14.00\">class = NO BUG</text>\n",
       "</g>\n",
       "<!-- 2&#45;&gt;4 -->\n",
       "<g id=\"edge4\" class=\"edge\">\n",
       "<title>2&#45;&gt;4</title>\n",
       "<path fill=\"none\" stroke=\"black\" d=\"M214.71,-103.73C219.41,-95.43 224.37,-86.67 229.12,-78.28\"/>\n",
       "<polygon fill=\"black\" stroke=\"black\" points=\"232.14,-80.04 234.02,-69.62 226.05,-76.59 232.14,-80.04\"/>\n",
       "</g>\n",
       "</g>\n",
       "</svg>\n"
      ],
      "text/plain": [
       "<graphviz.sources.Source at 0x11ed59d30>"
      ]
     },
     "execution_count": 59,
     "metadata": {},
     "output_type": "execute_result"
    }
   ],
   "source": [
    "graph"
   ]
  },
  {
   "cell_type": "code",
   "execution_count": 60,
   "metadata": {
    "execution": {
     "iopub.execute_input": "2025-01-07T11:06:51.419143Z",
     "iopub.status.busy": "2025-01-07T11:06:51.418948Z",
     "iopub.status.idle": "2025-01-07T11:06:51.421488Z",
     "shell.execute_reply": "2025-01-07T11:06:51.421103Z"
    },
    "slideshow": {
     "slide_type": "fragment"
    }
   },
   "outputs": [
    {
     "name": "stdout",
     "output_type": "stream",
     "text": [
      "if function-sqrt:\n",
      "  if number <= 13.0000:\n",
      "    BUG\n",
      "  else:\n",
      "    NO_BUG\n",
      "else:\n",
      "  NO_BUG\n",
      "\n"
     ]
    }
   ],
   "source": [
    "print(friendly_decision_tree(clf, feature_names, class_names = ['NO_BUG', 'BUG']))"
   ]
  },
  {
   "cell_type": "markdown",
   "metadata": {
    "slideshow": {
     "slide_type": "subslide"
    }
   },
   "source": [
    "### Excursion: Tree helper functions"
   ]
  },
  {
   "cell_type": "markdown",
   "metadata": {
    "slideshow": {
     "slide_type": "fragment"
    }
   },
   "source": [
    "We bundle several functions that are helpful when working with decision trees."
   ]
  },
  {
   "cell_type": "code",
   "execution_count": 61,
   "metadata": {
    "execution": {
     "iopub.execute_input": "2025-01-07T11:06:51.423638Z",
     "iopub.status.busy": "2025-01-07T11:06:51.423434Z",
     "iopub.status.idle": "2025-01-07T11:06:51.436826Z",
     "shell.execute_reply": "2025-01-07T11:06:51.436374Z"
    },
    "slideshow": {
     "slide_type": "subslide"
    }
   },
   "outputs": [],
   "source": [
    "def all_path(clf, node=0):\n",
    "    \"\"\"Iterate over all path in a decision tree. Path will be represented as\n",
    "    a list of integers, each integer is the index of a node in the clf.tree_ structure.\"\"\"\n",
    "    left = clf.tree_.children_left[node]\n",
    "    right = clf.tree_.children_right[node]\n",
    "\n",
    "    if left == right:\n",
    "        yield [node]\n",
    "    else:\n",
    "        for path in all_path(clf, left):\n",
    "            yield [node] + path\n",
    "        for path in all_path(clf, right):\n",
    "            yield [node] + path\n",
    "\n",
    "\n",
    "def path_samples(clf, path):\n",
    "    \"\"\"Returns the number of samples for this path. \"\"\"\n",
    "    return clf.tree_.n_node_samples[path[-1]]\n",
    "\n",
    "\n",
    "def generic_feature_names(clf):\n",
    "    \"\"\"Gives a list of feature names of the form f1, f2, ...\"\"\"\n",
    "    return [\"f{}\".format(f) for f in range(0, clf.tree_.n_features)]\n",
    "\n",
    "\n",
    "def box(clf, path, data=None, feature_names=None):\n",
    "    \"\"\"For a decision tree classifier clf and a path path (as returned, e.g. by all_path),\n",
    "    this method gives a pandas DataFrame with the min and max of each feature value on the given path.\"\"\"\n",
    "\n",
    "    if feature_names is None:\n",
    "        feature_names = generic_feature_names(clf)\n",
    "    check_for_duplicates(feature_names)\n",
    "    if data is None:\n",
    "        bounds = pandas.DataFrame([{'feature': c, 'min': -numpy.inf, 'max': numpy.inf} for c in feature_names],\n",
    "                                  columns=['feature', 'min', 'max']).set_index(['feature']).transpose()\n",
    "    else:\n",
    "        bounds = pandas.DataFrame([{'feature': c, 'min': data[c].min(), 'max': data[c].max()} for c in feature_names],\n",
    "                                  columns=['feature', 'min', 'max']).set_index(['feature']).transpose()\n",
    "\n",
    "    for pos in range(0, len(path) - 1):\n",
    "        node = path[pos]\n",
    "        child = path[pos + 1]\n",
    "        feature = feature_names[clf.tree_.feature[node]]\n",
    "        threshold = clf.tree_.threshold[node]\n",
    "\n",
    "        if child == clf.tree_.children_left[node]:\n",
    "            bounds.at['max', feature] = threshold\n",
    "        else:\n",
    "            bounds.at['min', feature] = threshold\n",
    "    return bounds\n",
    "\n",
    "\n",
    "def rectangles(clf, colormap, data, feature_names=None):\n",
    "    \"\"\"yields matplotlib.patches rectangle objects. Each object represents a leaf of the tree.\"\"\"\n",
    "    if feature_names is None:\n",
    "        feature_names = ['in_x', 'in_y']\n",
    "    if 2 != len(feature_names):\n",
    "        raise AssertionError(\"Rectangles can only be generated if there are at most 2 features.\")\n",
    "\n",
    "    x_feature = feature_names[0]\n",
    "    y_feature = feature_names[1]\n",
    "\n",
    "    for path in all_path(clf):\n",
    "        b = box(clf, path, data=data, feature_names=feature_names)\n",
    "        p = prediction_for_path(clf, path)\n",
    "        c = colormap[p]\n",
    "        rect = matplotlib.patches.Rectangle((b[x_feature]['min'], \n",
    "                                             b[y_feature]['min']),\n",
    "                             # coordinates\n",
    "                             b[x_feature]['max'] - b[x_feature]['min'],  # width\n",
    "                             b[y_feature]['max'] - b[y_feature]['min'],  # height\n",
    "                             alpha=.2, facecolor=c, edgecolor='k')\n",
    "        yield rect\n",
    "\n",
    "\n",
    "def prediction_for_path(clf, path) -> OracleResult:\n",
    "    last_value = clf.tree_.value[path[-1]][0]\n",
    "    p_class = numpy.argmax(last_value)\n",
    "    return OracleResult(clf.classes_[p_class])\n",
    "\n",
    "\n",
    "def rule(clf, path, feature_names, class_names=None):\n",
    "    \"\"\"Creates a rule from one path in the decision tree.\"\"\"\n",
    "    bounds = box(clf, path, feature_names=feature_names)\n",
    "    prediction = prediction_for_path(clf, path)\n",
    "    if class_names is not None:\n",
    "        prediction = class_names[prediction]\n",
    "\n",
    "    feature_rules = []\n",
    "    for fname in feature_names:\n",
    "        min_ = bounds[fname]['min']\n",
    "        max_ = bounds[fname]['max']\n",
    "\n",
    "        if numpy.isinf(min_) and numpy.isinf(max_):\n",
    "            pass  # no rule if both are unbound\n",
    "        elif numpy.isinf(min_):\n",
    "            feature_rules.append(\"{} <= {:.4f}\".format(fname, max_))\n",
    "        elif numpy.isinf(max_):\n",
    "            feature_rules.append(\"{} > {:.4f}\".format(fname, min_))\n",
    "        else:\n",
    "            feature_rules.append(\"{} in {:.4f} to {:.4f}\".format(fname, min_, max_))\n",
    "\n",
    "    return \" AND \".join(feature_rules), prediction, clf.tree_.impurity[path[-1]], clf.tree_.n_node_samples[path[-1]]\n",
    "\n",
    "\n",
    "def rules(clf, class_names=None, feature_names=None):\n",
    "    \"\"\"Formats Decision trees in a rule-like representation.\"\"\"\n",
    "\n",
    "    if feature_names is None:\n",
    "        feature_names = generic_feature_names(clf)\n",
    "\n",
    "    samples = clf.tree_.n_node_samples[0]\n",
    "    return \"\\n\".join([\"IF {2} THEN PREDICT '{3}' ({0}: {4:.4f}, support: {5} / {1})\"\n",
    "                     .format(clf.criterion, samples,\n",
    "                             *rule(clf, path, feature_names, class_names=class_names)) for path in all_path(clf)])\n",
    "\n",
    "\n",
    "def grouped_rules(clf, class_names=None, feature_names=None):\n",
    "    \"\"\"Formats decision trees in a rule-like representation, grouped by class.\"\"\"\n",
    "\n",
    "    if feature_names is None:\n",
    "        feature_names = generic_feature_names(clf)\n",
    "\n",
    "    rules = {}\n",
    "    for path in all_path(clf):\n",
    "        rulestr, clz, impurity, support = rule(clf, path, class_names=class_names, feature_names=feature_names)\n",
    "        if clz not in rules:\n",
    "            rules[clz] = []\n",
    "        rules[clz].append((rulestr, impurity, support))\n",
    "\n",
    "    res = \"\"\n",
    "    samples = clf.tree_.n_node_samples[0]\n",
    "    for clz in rules:\n",
    "        rulelist = rules[clz]\n",
    "        res = res + \"\\n{}:\\n\\t\".format(clz)\n",
    "        rl = [\"{} ({}: {:.4f}, support: {}/{})\".format(r, clf.criterion, impurity, support, samples) for r, impurity, support in rulelist]\n",
    "        res = res + \"\\n\\tor \".join(rl)\n",
    "    return res.lstrip()\n",
    "\n",
    "\n",
    "def check_for_duplicates(names):\n",
    "    seen = set()\n",
    "    for name in names:\n",
    "        if name in seen:\n",
    "            raise AssertionError(\"Duplicate name: {}\".format(name))\n",
    "        seen.add(name)\n",
    "\n",
    "\n",
    "def is_leaf(clf, node: int) -> bool:\n",
    "    \"\"\"returns true if the given node is a leaf.\"\"\"\n",
    "    return clf.tree_.children_left[node] == clf.tree_.children_right[node]\n",
    "\n",
    "\n",
    "def leaf_label(clf, node: int) -> int:\n",
    "    \"\"\"returns the index of the class at this node. The node must be a leaf.\"\"\"\n",
    "    assert(is_leaf(clf, node))\n",
    "    occs = clf.tree_.value[node][0]\n",
    "    idx = 0\n",
    "    maxi = occs[idx]\n",
    "    for i, o in zip(range(0, len(occs)), occs):\n",
    "        if maxi < o:\n",
    "            maxi = o\n",
    "            idx = i\n",
    "    return idx\n",
    "\n",
    "\n",
    "def find_existence_index(features: List[Feature], feature: Feature):\n",
    "    for idx, f in enumerate(features):\n",
    "        if isinstance(f, ExistenceFeature) and f.key() == feature.key():\n",
    "            return idx\n",
    "    raise AssertionError(\"There is no existence feature with this key!\")\n",
    "\n",
    "\n",
    "def remove_infeasible(clf, features: List[Feature]):\n",
    "    for node in range(0, clf.tree_.node_count):\n",
    "        if not is_leaf(clf, node):\n",
    "            feature = features[clf.tree_.feature[node]]\n",
    "            threshold = clf.tree_.threshold[node]\n",
    "            if not feature.is_feasible(threshold):\n",
    "                clf.tree_.feature[node] = find_existence_index(features, feature)\n",
    "                clf.tree_.threshold[node] = 0.5\n",
    "    return clf\n",
    "\n",
    "\n",
    "def iterate_nodes(clf):\n",
    "    stack = [0]\n",
    "    while 0 != len(stack):\n",
    "        node = stack.pop()\n",
    "        yield node\n",
    "        if not is_leaf(clf, node):\n",
    "            stack.append(clf.tree_.children_left[node])\n",
    "            stack.append(clf.tree_.children_right[node])\n",
    "\n",
    "\n",
    "def count_nodes(clf):\n",
    "    return len(list(iterate_nodes(clf)))\n",
    "\n",
    "\n",
    "def count_leaves(clf):\n",
    "    return len([n for n in iterate_nodes(clf) if is_leaf(clf, n)])\n",
    "\n",
    "\n",
    "def list_features(clf):\n",
    "    return [clf.tree_.feature[node] for node in iterate_nodes(clf)]\n",
    "\n",
    "\n",
    "def remove_unequal_decisions(clf):\n",
    "    \"\"\"\n",
    "    This method rewrites a decision tree classifier to remove nodes where the same\n",
    "    decision is taken on both sides.\n",
    "\n",
    "    :param clf: a decision tree classifier\n",
    "    :return: the same classifier, rewritten\n",
    "    \"\"\"\n",
    "    changed = True\n",
    "    while changed:\n",
    "        changed = False\n",
    "        for node in range(0, clf.tree_.node_count):\n",
    "            if not is_leaf(clf, node) and (is_leaf(clf, clf.tree_.children_left[node]) and is_leaf(clf, clf.tree_.children_right[node])):\n",
    "                # both children of this node are leaves\n",
    "                left_label = leaf_label(clf, clf.tree_.children_left[node])\n",
    "                right_label = leaf_label(clf, clf.tree_.children_right[node])\n",
    "                if left_label == right_label:\n",
    "                    clf.tree_.children_left[node] = -1\n",
    "                    clf.tree_.children_right[node] = -1\n",
    "                    clf.tree_.feature[node] = -2\n",
    "                    changed = True\n",
    "                    assert(left_label == leaf_label(clf, node))\n",
    "    return clf\n"
   ]
  },
  {
   "cell_type": "markdown",
   "metadata": {
    "slideshow": {
     "slide_type": "subslide"
    }
   },
   "source": [
    "### End of Excursion"
   ]
  },
  {
   "cell_type": "markdown",
   "metadata": {
    "slideshow": {
     "slide_type": "subslide"
    }
   },
   "source": [
    "### Excursion: Converting Trees to Paths"
   ]
  },
  {
   "cell_type": "markdown",
   "metadata": {
    "slideshow": {
     "slide_type": "fragment"
    }
   },
   "source": [
    "We bundle a number of helper functions that extract paths from trees."
   ]
  },
  {
   "cell_type": "code",
   "execution_count": 62,
   "metadata": {
    "execution": {
     "iopub.execute_input": "2025-01-07T11:06:51.439261Z",
     "iopub.status.busy": "2025-01-07T11:06:51.439071Z",
     "iopub.status.idle": "2025-01-07T11:06:51.445955Z",
     "shell.execute_reply": "2025-01-07T11:06:51.445574Z"
    },
    "slideshow": {
     "slide_type": "subslide"
    }
   },
   "outputs": [],
   "source": [
    "class TreeRequirement:\n",
    "    def __init__(self, feature: Feature, mini, maxi):\n",
    "        self.__feature: Feature = feature\n",
    "        self.__mini = mini\n",
    "        self.__maxi = maxi\n",
    "\n",
    "    def feature(self) -> Feature:\n",
    "        return self.__feature\n",
    "\n",
    "    def select(self, data):\n",
    "        \"\"\"Returns a vector of booleans, suitable for selecting in a pandas data frame.\"\"\"\n",
    "        if self.__mini is None:\n",
    "            return data[self.__feature.name()] <= self.__maxi\n",
    "        if self.__maxi is None:\n",
    "            return self.__mini <= data[self.__feature.name()]\n",
    "        return (self.__mini <= data[self.__feature.name()]) & (data[self.__feature.name()] <= self.__maxi)\n",
    "\n",
    "    def mini(self):\n",
    "        return self.__mini\n",
    "\n",
    "    def maxi(self):\n",
    "        return self.__maxi\n",
    "\n",
    "    def get_key(self) -> str:\n",
    "        return self.__feature.key()\n",
    "\n",
    "    def is_binary(self) -> bool:\n",
    "        return self.__feature.is_binary()\n",
    "\n",
    "    def get_str(self, bounds) -> str:\n",
    "        if self.is_binary():\n",
    "            if self.__mini < 0 <= self.__maxi:\n",
    "                # feature is NOT included\n",
    "                return f\"!{self.__feature.name()}\"\n",
    "            if self.__mini < 1 <= self.__maxi:\n",
    "                # feature is included\n",
    "                return self.__feature.name()\n",
    "            raise AssertionError(\"How is this possible?\")\n",
    "        else:\n",
    "            if (not numpy.isinf(self.__mini)) and (not numpy.isinf(self.__maxi)):\n",
    "                return f\"{self.__feature.name()} in [{self.__mini}, {self.__maxi}]\"\n",
    "            elif not numpy.isinf(self.__maxi):\n",
    "                return f\"{self.__feature.name()} <= {self.__maxi}\"\n",
    "            else:\n",
    "                return f\"{self.__feature.name()} > {self.__mini}\"\n",
    "\n",
    "    def get_str_ext(self) -> str:\n",
    "        if (not numpy.isinf(self.__mini)) and (not numpy.isinf(self.__maxi)):\n",
    "            return f\"{self.__feature} in [{self.__mini}, {self.__maxi}]\"\n",
    "        elif not numpy.isinf(self.__maxi):\n",
    "            return f\"{self.__feature} <= {self.__maxi}\"\n",
    "        else:\n",
    "            return f\"{self.__feature} > {self.__mini}\"\n",
    "\n",
    "    def get_neg(self, bounds) -> List[str]:\n",
    "        if self.is_binary():\n",
    "            if self.__mini < 0 <= self.__maxi:\n",
    "                # feature is NOT included, so, the negated condition is to include it\n",
    "                return [self.__feature.name()]\n",
    "            if self.__mini < 1 <= self.__maxi:\n",
    "                # feature is included, so exclude it\n",
    "                return [f\"!{self.__feature.name()}\"]\n",
    "            raise AssertionError(\"How is this possible?\")\n",
    "        else:\n",
    "            if (not numpy.isinf(self.__mini)) and (not numpy.isinf(self.__maxi)):\n",
    "                return [f\"{self.__feature.name()} in [{bounds.at['min', self.__feature.name()]},{self.__mini}]\",\n",
    "                        f\"{self.__feature.name()} in [{self.__maxi}, {bounds.at['max', self.__feature.name()]}]\"]\n",
    "            elif not numpy.isinf(self.__maxi):\n",
    "                return [f\"{self.__feature.name()} <= {self.__maxi}\"]\n",
    "            else:\n",
    "                return [f\"{self.__feature.name()} > {self.__mini}\"]\n",
    "\n",
    "    def get_neg_ext(self, bounds) -> List[str]:\n",
    "        if (not numpy.isinf(self.__mini)) and (not numpy.isinf(self.__maxi)):\n",
    "            return [f\"{self.__feature} in [{bounds.at['min', self.__feature]},{self.__mini}]\",\n",
    "                    f\"{self.__feature} in [{self.__maxi}, {bounds.at['max', self.__feature]}]\"]\n",
    "        elif not numpy.isinf(self.__maxi):\n",
    "            return [f\"{self.__feature} > {self.__maxi}\"]\n",
    "        else:\n",
    "            return [f\"{self.__feature} <= {self.__mini}\"]"
   ]
  },
  {
   "cell_type": "code",
   "execution_count": 63,
   "metadata": {
    "execution": {
     "iopub.execute_input": "2025-01-07T11:06:51.447639Z",
     "iopub.status.busy": "2025-01-07T11:06:51.447466Z",
     "iopub.status.idle": "2025-01-07T11:06:51.449558Z",
     "shell.execute_reply": "2025-01-07T11:06:51.449210Z"
    },
    "slideshow": {
     "slide_type": "skip"
    }
   },
   "outputs": [],
   "source": [
    "from pathlib import Path"
   ]
  },
  {
   "cell_type": "code",
   "execution_count": 64,
   "metadata": {
    "execution": {
     "iopub.execute_input": "2025-01-07T11:06:51.451244Z",
     "iopub.status.busy": "2025-01-07T11:06:51.451096Z",
     "iopub.status.idle": "2025-01-07T11:06:51.455065Z",
     "shell.execute_reply": "2025-01-07T11:06:51.454698Z"
    },
    "slideshow": {
     "slide_type": "subslide"
    }
   },
   "outputs": [],
   "source": [
    "class TreePath:\n",
    "    def __init__(self, samplefile: Optional[Path], is_bug: bool, requirements: List[TreeRequirement]):\n",
    "        self.__sample = samplefile\n",
    "        self.__is_bug = is_bug\n",
    "        self.__requirements: List[TreeRequirement] = requirements\n",
    "\n",
    "    def is_bug(self) -> bool:\n",
    "        return self.__is_bug\n",
    "\n",
    "    def get(self, idx):\n",
    "        return self.__requirements[idx]\n",
    "\n",
    "    def find_sample(self, data):\n",
    "        for req in self.__requirements:\n",
    "            data = data[req.select(data)]\n",
    "        if 0 != len(data):\n",
    "            return data[\"abs_file\"][0]\n",
    "        return None\n",
    "\n",
    "    def __len__(self) -> int:\n",
    "        return len(self.__requirements)\n",
    "\n",
    "\n",
    "def lower_middle(start, end):\n",
    "    if start == end:\n",
    "        return start - abs(start)\n",
    "    return start + ((end - start)/2)\n",
    "\n",
    "\n",
    "def upper_middle(start, end):\n",
    "    if start == end:\n",
    "        return end + abs(end)\n",
    "    return start + ((end - start)/2)\n",
    "\n",
    "\n",
    "def min_digits(mini):\n",
    "    return int(\"1\" + \"\".join([0] * int(mini-1)))\n",
    "\n",
    "\n",
    "def max_digits(maxi):\n",
    "    return int(\"\".join([9] * int(maxi)))"
   ]
  },
  {
   "cell_type": "code",
   "execution_count": 65,
   "metadata": {
    "execution": {
     "iopub.execute_input": "2025-01-07T11:06:51.456894Z",
     "iopub.status.busy": "2025-01-07T11:06:51.456796Z",
     "iopub.status.idle": "2025-01-07T11:06:51.459606Z",
     "shell.execute_reply": "2025-01-07T11:06:51.459288Z"
    },
    "slideshow": {
     "slide_type": "subslide"
    }
   },
   "outputs": [],
   "source": [
    "def tree_to_paths(tree, features: List[Feature]):\n",
    "    paths = []\n",
    "    # go through tree leaf by leaf\n",
    "    for path in all_path(tree):\n",
    "        requirements = []\n",
    "        is_bug = OracleResult.BUG == prediction_for_path(tree, path)\n",
    "        # find the requirements\n",
    "        box_ = box(tree, path, feature_names=features).transpose()\n",
    "        for feature, row in box_.iterrows():\n",
    "            mini = row['min']\n",
    "            maxi = row['max']\n",
    "            if (not numpy.isinf(mini)) or (not numpy.isinf(maxi)):\n",
    "                requirements.append(TreeRequirement(feature, mini, maxi))\n",
    "        paths.append(TreePath(None, is_bug, requirements))\n",
    "\n",
    "    return paths"
   ]
  },
  {
   "cell_type": "code",
   "execution_count": 66,
   "metadata": {
    "execution": {
     "iopub.execute_input": "2025-01-07T11:06:51.461345Z",
     "iopub.status.busy": "2025-01-07T11:06:51.461198Z",
     "iopub.status.idle": "2025-01-07T11:06:51.465725Z",
     "shell.execute_reply": "2025-01-07T11:06:51.465245Z"
    },
    "slideshow": {
     "slide_type": "subslide"
    }
   },
   "outputs": [],
   "source": [
    "# We provide a functionallity to extract the paths from a decision tree.\n",
    "all_paths = tree_to_paths(clf, feature_names)"
   ]
  },
  {
   "cell_type": "markdown",
   "metadata": {
    "slideshow": {
     "slide_type": "fragment"
    }
   },
   "source": [
    "Here is an example:"
   ]
  },
  {
   "cell_type": "code",
   "execution_count": 67,
   "metadata": {
    "execution": {
     "iopub.execute_input": "2025-01-07T11:06:51.467493Z",
     "iopub.status.busy": "2025-01-07T11:06:51.467315Z",
     "iopub.status.idle": "2025-01-07T11:06:51.469785Z",
     "shell.execute_reply": "2025-01-07T11:06:51.469466Z"
    },
    "slideshow": {
     "slide_type": "fragment"
    }
   },
   "outputs": [
    {
     "name": "stdout",
     "output_type": "stream",
     "text": [
      "Path 0: function-sqrt <= 0.5, is_bug: False\n",
      "Path 1: function-sqrt > 0.5 number <= 13.0, is_bug: True\n",
      "Path 2: function-sqrt > 0.5 number > 13.0, is_bug: False\n"
     ]
    }
   ],
   "source": [
    "for count, path in enumerate(all_paths):\n",
    "    string_path = path.get(0).get_str_ext()\n",
    "    for box_ in range(1, len(path)):\n",
    "        string_path += \" \" + path.get(box_).get_str_ext()\n",
    "    print(f\"Path {count}: {string_path}, is_bug: {path.is_bug()}\")"
   ]
  },
  {
   "cell_type": "markdown",
   "metadata": {
    "slideshow": {
     "slide_type": "subslide"
    }
   },
   "source": [
    "### End of Excursion"
   ]
  },
  {
   "cell_type": "markdown",
   "metadata": {
    "slideshow": {
     "slide_type": "slide"
    }
   },
   "source": [
    "## Step 4: Generating New Samples"
   ]
  },
  {
   "cell_type": "markdown",
   "metadata": {
    "slideshow": {
     "slide_type": "fragment"
    }
   },
   "source": [
    "The next step is to generate new samples.\n",
    "For this purpose, we _negate_ the requirements on a path to refine and refute the decision tree."
   ]
  },
  {
   "cell_type": "markdown",
   "metadata": {
    "slideshow": {
     "slide_type": "subslide"
    }
   },
   "source": [
    "### Negating Requirements"
   ]
  },
  {
   "cell_type": "markdown",
   "metadata": {
    "slideshow": {
     "slide_type": "fragment"
    }
   },
   "source": [
    "First we will determine some boundaries to obtain better path negations."
   ]
  },
  {
   "cell_type": "code",
   "execution_count": 68,
   "metadata": {
    "execution": {
     "iopub.execute_input": "2025-01-07T11:06:51.471541Z",
     "iopub.status.busy": "2025-01-07T11:06:51.471414Z",
     "iopub.status.idle": "2025-01-07T11:06:51.474249Z",
     "shell.execute_reply": "2025-01-07T11:06:51.473921Z"
    },
    "slideshow": {
     "slide_type": "fragment"
    }
   },
   "outputs": [],
   "source": [
    "x = pandas.DataFrame.from_records(features)\n",
    "bounds = pandas.DataFrame([{'feature': c, 'min': x[c].min(), 'max': x[c].max()}\n",
    "                           for c in feature_names],\n",
    "                          columns=['feature', 'min', 'max']).set_index(['feature']).transpose()"
   ]
  },
  {
   "cell_type": "markdown",
   "metadata": {
    "slideshow": {
     "slide_type": "fragment"
    }
   },
   "source": [
    "We can use the function `path.get(i).get_neg_ext(bounds)` to obtain a negation for a single requirement on a path (indexed with `i`)."
   ]
  },
  {
   "cell_type": "markdown",
   "metadata": {
    "slideshow": {
     "slide_type": "fragment"
    }
   },
   "source": [
    "Let's verify if we can negate a whole path."
   ]
  },
  {
   "cell_type": "code",
   "execution_count": 69,
   "metadata": {
    "execution": {
     "iopub.execute_input": "2025-01-07T11:06:51.476228Z",
     "iopub.status.busy": "2025-01-07T11:06:51.476112Z",
     "iopub.status.idle": "2025-01-07T11:06:51.478417Z",
     "shell.execute_reply": "2025-01-07T11:06:51.478099Z"
    },
    "slideshow": {
     "slide_type": "subslide"
    }
   },
   "outputs": [
    {
     "name": "stdout",
     "output_type": "stream",
     "text": [
      "Path 0: function-sqrt > 0.5, is_bug: False\n",
      "Path 1: function-sqrt <= 0.5 number > 13.0, is_bug: True\n",
      "Path 2: function-sqrt <= 0.5 number <= 13.0, is_bug: False\n"
     ]
    }
   ],
   "source": [
    "for count, path in enumerate(all_paths):\n",
    "    negated_string_path = path.get(0).get_neg_ext(bounds)[0]\n",
    "    for box_ in range(1, len(path)):\n",
    "        negated_string_path += \" \" + str(path.get(box_).get_neg_ext(bounds)[0])\n",
    "    print(f\"Path {count}: {negated_string_path}, is_bug: {path.is_bug()}\")"
   ]
  },
  {
   "cell_type": "markdown",
   "metadata": {
    "slideshow": {
     "slide_type": "subslide"
    }
   },
   "source": [
    "### Systematically Negating Paths"
   ]
  },
  {
   "cell_type": "markdown",
   "metadata": {
    "slideshow": {
     "slide_type": "fragment"
    }
   },
   "source": [
    "We will use the Decision tree and extract new input specifications to refine or refute our hypothesis (See Section 4.1 \"Extracting Prediction Paths\" in \\cite{Kampmann2020}).\n",
    "These input specifications will be parsed to the input generator that tries to generate new inputs that fulfill the defined input specifications."
   ]
  },
  {
   "cell_type": "code",
   "execution_count": 70,
   "metadata": {
    "execution": {
     "iopub.execute_input": "2025-01-07T11:06:51.480653Z",
     "iopub.status.busy": "2025-01-07T11:06:51.480375Z",
     "iopub.status.idle": "2025-01-07T11:06:51.484501Z",
     "shell.execute_reply": "2025-01-07T11:06:51.484169Z"
    },
    "slideshow": {
     "slide_type": "subslide"
    }
   },
   "outputs": [],
   "source": [
    "def extracting_prediction_paths(clf, feature_names, data):\n",
    "    # determine the bounds\n",
    "    bounds = pandas.DataFrame([{'feature': c, 'min': data[c].min(), 'max': data[c].max()}\n",
    "                           for c in feature_names],\n",
    "                          columns=['feature', 'min', 'max']).set_index(['feature']).transpose()\n",
    "\n",
    "    # go through tree leaf by leaf\n",
    "    all_reqs = set()\n",
    "    for path in tree_to_paths(clf, feature_names):\n",
    "        # generate conditions\n",
    "        for i in range(0, len(path)+1):\n",
    "            reqs_list = []\n",
    "            bins = format(i, \"#0{}b\".format(len(path)+2))[2:]\n",
    "            for p, b in zip(range(0, len(bins)), bins):\n",
    "                r = path.get(p)\n",
    "                if '1' == b:\n",
    "                    reqs_list.append(r.get_neg_ext(bounds))\n",
    "                else:\n",
    "                    reqs_list.append([r.get_str_ext()])\n",
    "            for reqs in all_combinations(reqs_list):\n",
    "                all_reqs.add(\", \".join(sorted(reqs)))\n",
    "    return all_reqs\n",
    "\n",
    "def all_combinations(reqs_lists):\n",
    "    result = [[]]\n",
    "    for reqs in reqs_lists:\n",
    "        t = []\n",
    "        for r in reqs:\n",
    "            for i in result:\n",
    "                t.append(i+[r])\n",
    "        result = t\n",
    "    return result"
   ]
  },
  {
   "cell_type": "markdown",
   "metadata": {
    "slideshow": {
     "slide_type": "subslide"
    }
   },
   "source": [
    "We will use the Decision tree and extract new input specifications to refine or refute our hypothesis (See paper Section 4.1 - Extracting Prediction Paths). These input specifications will be parsed to the input generator that tries to generate new inputs that fulfill the defined input specifications."
   ]
  },
  {
   "cell_type": "code",
   "execution_count": 71,
   "metadata": {
    "execution": {
     "iopub.execute_input": "2025-01-07T11:06:51.485980Z",
     "iopub.status.busy": "2025-01-07T11:06:51.485885Z",
     "iopub.status.idle": "2025-01-07T11:06:51.489717Z",
     "shell.execute_reply": "2025-01-07T11:06:51.489434Z"
    },
    "slideshow": {
     "slide_type": "fragment"
    }
   },
   "outputs": [],
   "source": [
    "new_prediction_paths = extracting_prediction_paths(clf, feature_names, data=x)"
   ]
  },
  {
   "cell_type": "code",
   "execution_count": 72,
   "metadata": {
    "execution": {
     "iopub.execute_input": "2025-01-07T11:06:51.491437Z",
     "iopub.status.busy": "2025-01-07T11:06:51.491341Z",
     "iopub.status.idle": "2025-01-07T11:06:51.493394Z",
     "shell.execute_reply": "2025-01-07T11:06:51.493023Z"
    },
    "slideshow": {
     "slide_type": "fragment"
    }
   },
   "outputs": [
    {
     "name": "stdout",
     "output_type": "stream",
     "text": [
      "function-sqrt > 0.5, number > 13.0\n",
      "function-sqrt > 0.5, number <= 13.0\n",
      "function-sqrt <= 0.5\n",
      "function-sqrt > 0.5\n",
      "function-sqrt <= 0.5, number <= 13.0\n",
      "function-sqrt <= 0.5, number > 13.0\n"
     ]
    }
   ],
   "source": [
    "for path in new_prediction_paths:\n",
    "    print(path)"
   ]
  },
  {
   "cell_type": "markdown",
   "metadata": {
    "slideshow": {
     "slide_type": "subslide"
    }
   },
   "source": [
    "### Input Specification Parser"
   ]
  },
  {
   "cell_type": "markdown",
   "metadata": {
    "slideshow": {
     "slide_type": "fragment"
    }
   },
   "source": [
    "Once we have input specifications, we must again extract them from the decision tree so we can interpret them."
   ]
  },
  {
   "cell_type": "code",
   "execution_count": 73,
   "metadata": {
    "execution": {
     "iopub.execute_input": "2025-01-07T11:06:51.494919Z",
     "iopub.status.busy": "2025-01-07T11:06:51.494802Z",
     "iopub.status.idle": "2025-01-07T11:06:51.496941Z",
     "shell.execute_reply": "2025-01-07T11:06:51.496597Z"
    },
    "slideshow": {
     "slide_type": "skip"
    }
   },
   "outputs": [],
   "source": [
    "import string"
   ]
  },
  {
   "cell_type": "code",
   "execution_count": 74,
   "metadata": {
    "execution": {
     "iopub.execute_input": "2025-01-07T11:06:51.498432Z",
     "iopub.status.busy": "2025-01-07T11:06:51.498293Z",
     "iopub.status.idle": "2025-01-07T11:06:51.501070Z",
     "shell.execute_reply": "2025-01-07T11:06:51.500725Z"
    },
    "slideshow": {
     "slide_type": "subslide"
    }
   },
   "outputs": [],
   "source": [
    "SPEC_GRAMMAR: Grammar = {\n",
    "    \"<start>\":\n",
    "        [\"<req_list>\"],\n",
    "\n",
    "    \"<req_list>\": \n",
    "        [\"<req>\", \"<req>\"\", \"\"<req_list>\"],\n",
    "\n",
    "    \"<req>\":\n",
    "        [\"<feature>\"\" \"\"<quant>\"\" \"\"<num>\"],\n",
    "\n",
    "    \"<feature>\": [\"exists(<string>)\",\n",
    "                  \"num(<string>)\",\n",
    "                  # currently not used\n",
    "                  \"char(<string>)\",\n",
    "                  \"length(<string>)\"],\n",
    "\n",
    "    \"<quant>\":\n",
    "        [\"<\", \">\", \"<=\", \">=\"],\n",
    "\n",
    "    \"<num>\": [\"-<value>\", \"<value>\"],\n",
    "\n",
    "    \"<value>\":\n",
    "        [\"<integer>.<integer>\",\n",
    "         \"<integer>\"],\n",
    "\n",
    "    \"<integer>\":\n",
    "        [\"<digit><integer>\", \"<digit>\"],\n",
    "\n",
    "    \"<digit>\":\n",
    "        [\"0\", \"1\", \"2\", \"3\", \"4\", \"5\", \"6\", \"7\", \"8\", \"9\"],\n",
    "\n",
    "    '<string>': ['<letters>'],\n",
    "    '<letters>': ['<letter><letters>', '<letter>'],\n",
    "    '<letter>': list(string.ascii_letters + string.digits + string.punctuation)\n",
    "}\n",
    "\n",
    "assert is_valid_grammar(SPEC_GRAMMAR)"
   ]
  },
  {
   "cell_type": "markdown",
   "metadata": {
    "slideshow": {
     "slide_type": "subslide"
    }
   },
   "source": [
    "### Excursion: Validating the Parser"
   ]
  },
  {
   "cell_type": "markdown",
   "metadata": {
    "slideshow": {
     "slide_type": "fragment"
    }
   },
   "source": [
    "Let's validate our grammar, by using the grammar to produce 100 sample requirement specifications"
   ]
  },
  {
   "cell_type": "code",
   "execution_count": 75,
   "metadata": {
    "execution": {
     "iopub.execute_input": "2025-01-07T11:06:51.502790Z",
     "iopub.status.busy": "2025-01-07T11:06:51.502655Z",
     "iopub.status.idle": "2025-01-07T11:06:51.521012Z",
     "shell.execute_reply": "2025-01-07T11:06:51.520584Z"
    },
    "slideshow": {
     "slide_type": "subslide"
    }
   },
   "outputs": [
    {
     "name": "stdout",
     "output_type": "stream",
     "text": [
      "char(o/vy) >= 7\n",
      "exists(E) <= 822.9\n",
      "length(VnMoy) > -6460.3, exists(T) > 6, num(b) >= -1.03\n",
      "length(f) >= -7677, char(O:t) < -6\n",
      "length(x`) <= 08\n",
      "num(@) >= 1.695, exists(=7&) > 23\n",
      "exists(rV) >= -5.9, exists(|) <= 6969.0\n",
      "length(bd) >= 4.8\n",
      "num(8) <= 44.870, length(8xz') <= 13\n",
      "exists(H) >= 0.4, num(#) > 1, exists(Q) >= -600.19\n"
     ]
    }
   ],
   "source": [
    "g = GrammarFuzzer(SPEC_GRAMMAR, max_nonterminals=100)\n",
    "earley = EarleyParser(SPEC_GRAMMAR)\n",
    "for i in range(10):\n",
    "    sample = g.fuzz()\n",
    "    print(sample)"
   ]
  },
  {
   "cell_type": "code",
   "execution_count": 76,
   "metadata": {
    "execution": {
     "iopub.execute_input": "2025-01-07T11:06:51.522608Z",
     "iopub.status.busy": "2025-01-07T11:06:51.522472Z",
     "iopub.status.idle": "2025-01-07T11:06:52.148800Z",
     "shell.execute_reply": "2025-01-07T11:06:52.148339Z"
    },
    "slideshow": {
     "slide_type": "subslide"
    }
   },
   "outputs": [],
   "source": [
    "g = GrammarFuzzer(SPEC_GRAMMAR, max_nonterminals= 100)\n",
    "earley = EarleyParser(SPEC_GRAMMAR)\n",
    "for i in range(100):\n",
    "    sample = g.fuzz()\n",
    "    for tree in earley.parse(sample):\n",
    "        assert tree_to_string(tree) == sample, f\"{tree_to_string(tree)} and {sample} are not equal\""
   ]
  },
  {
   "cell_type": "markdown",
   "metadata": {
    "slideshow": {
     "slide_type": "fragment"
    }
   },
   "source": [
    "Let's also try with some real requirement specifications:"
   ]
  },
  {
   "cell_type": "code",
   "execution_count": 77,
   "metadata": {
    "execution": {
     "iopub.execute_input": "2025-01-07T11:06:52.151647Z",
     "iopub.status.busy": "2025-01-07T11:06:52.150992Z",
     "iopub.status.idle": "2025-01-07T11:06:52.198443Z",
     "shell.execute_reply": "2025-01-07T11:06:52.198014Z"
    },
    "slideshow": {
     "slide_type": "subslide"
    }
   },
   "outputs": [],
   "source": [
    "earley = EarleyParser(SPEC_GRAMMAR)\n",
    "teststrings = ['exists(<function>@0) > 0.5, exists(<term>@0) <= 0.5, exists(<value>@1) <= 0.5',\n",
    "               'exists(<digit>@9) <= 0.5, exists(<function>@0) > 0.5, num(<term>) > 0.05000000074505806',\n",
    "               'exists(<digit>@2) <= 0.5, exists(<function>@0) < 0.5, num(<term>) <= 0.05000000074505806',\n",
    "               'exists(<function>@0) > 0.5, num(<term>) > -3965678.1875']\n",
    "for count, sample in enumerate(teststrings):\n",
    "    for tree in earley.parse(sample):\n",
    "        assert tree_to_string(tree) == teststrings[count], \\\n",
    "        f\"{tree_to_string(tree)} and {teststrings[count]} are not equal\""
   ]
  },
  {
   "cell_type": "markdown",
   "metadata": {
    "slideshow": {
     "slide_type": "subslide"
    }
   },
   "source": [
    "### End of Excursion"
   ]
  },
  {
   "cell_type": "markdown",
   "metadata": {
    "slideshow": {
     "slide_type": "subslide"
    }
   },
   "source": [
    "### Retrieving New input Specifications\n",
    "\n",
    "The following classes represent requirements for the test cases to be generated."
   ]
  },
  {
   "cell_type": "code",
   "execution_count": 78,
   "metadata": {
    "execution": {
     "iopub.execute_input": "2025-01-07T11:06:52.200537Z",
     "iopub.status.busy": "2025-01-07T11:06:52.200417Z",
     "iopub.status.idle": "2025-01-07T11:06:52.203714Z",
     "shell.execute_reply": "2025-01-07T11:06:52.203353Z"
    },
    "slideshow": {
     "slide_type": "subslide"
    }
   },
   "outputs": [],
   "source": [
    "class SpecRequirement:\n",
    "    '''\n",
    "    This class represents a requirement for a new input sample that should be generated.\n",
    "    This class contains the feature that should be fullfiled (Feature), a quantifier\n",
    "    (\"<\", \">\", \"<=\", \">=\") and a value. For instance exist(feature) >= 0.5 states that\n",
    "    the syntactical existence feature should be used to produce a new input.\n",
    "\n",
    "    feature  : Is the associated feature class\n",
    "    quant    : The quantifier\n",
    "    value    : The value of the requirement. Note that for existence features this value\n",
    "                is allways between 0 and 1.\n",
    "    '''\n",
    "\n",
    "    def __init__(self, feature: Feature, quantificator, value):\n",
    "        self.feature: Feature = feature\n",
    "        self.quant = quantificator\n",
    "        self.value = value\n",
    "\n",
    "    def __str__(self):\n",
    "        return f\"Requirement({self.feature.name} {self.quant} {self.value})\"\n",
    "\n",
    "    def __repr__(self):\n",
    "        return f\"Requirement({self.feature.name}, {self.quant}, {self.value})\"\n",
    "\n",
    "    def friendly(self):\n",
    "        def value(x):\n",
    "            try:\n",
    "                return float(x)\n",
    "            except Exception:\n",
    "                return None\n",
    "\n",
    "        if isinstance(self.feature, ExistenceFeature):\n",
    "            if value(self.value) > 0:\n",
    "                return f\"{self.feature.friendly_name()}\"\n",
    "            elif value(self.value) < 0:\n",
    "                return f\"not {self.feature.friendly_name()}\"\n",
    "\n",
    "        return f\"{self.feature.friendly_name()} {self.quant} {self.value}\""
   ]
  },
  {
   "cell_type": "code",
   "execution_count": 79,
   "metadata": {
    "execution": {
     "iopub.execute_input": "2025-01-07T11:06:52.205723Z",
     "iopub.status.busy": "2025-01-07T11:06:52.205570Z",
     "iopub.status.idle": "2025-01-07T11:06:52.208353Z",
     "shell.execute_reply": "2025-01-07T11:06:52.207982Z"
    },
    "slideshow": {
     "slide_type": "subslide"
    }
   },
   "outputs": [],
   "source": [
    "class InputSpecification:\n",
    "    '''\n",
    "    This class represents a complete input specification of a new input. A input specification\n",
    "    consists of one or more requirements.\n",
    "    requirements  : Is a list of all requirements that must be used.\n",
    "    '''\n",
    "\n",
    "    def __init__(self, requirements: List[SpecRequirement]):\n",
    "        self.requirements: List[SpecRequirement] = requirements\n",
    "\n",
    "    def __str__(self):\n",
    "        s = \", \".join(str(r) for r in self.requirements)\n",
    "        return f\"InputSpecification({s})\"\n",
    "\n",
    "    def friendly(self):\n",
    "        return \" and \".join(r.friendly() for r in self.requirements)\n",
    "\n",
    "    def __repr__(self):\n",
    "        return self.__str__()"
   ]
  },
  {
   "cell_type": "code",
   "execution_count": 80,
   "metadata": {
    "execution": {
     "iopub.execute_input": "2025-01-07T11:06:52.210664Z",
     "iopub.status.busy": "2025-01-07T11:06:52.210495Z",
     "iopub.status.idle": "2025-01-07T11:06:52.212961Z",
     "shell.execute_reply": "2025-01-07T11:06:52.212633Z"
    },
    "slideshow": {
     "slide_type": "subslide"
    }
   },
   "outputs": [],
   "source": [
    "def get_all_subtrees(derivation_tree, non_terminal):\n",
    "    '''\n",
    "    Iteratively returns a list of subtrees that start with a given non_terminal.\n",
    "    '''\n",
    "\n",
    "    subtrees = []\n",
    "    (node, children) = derivation_tree\n",
    "\n",
    "    if node == non_terminal:\n",
    "        subtrees.append(derivation_tree)\n",
    "\n",
    "    for child in children:\n",
    "        subtrees = subtrees + get_all_subtrees(child, non_terminal)\n",
    "\n",
    "    return subtrees"
   ]
  },
  {
   "cell_type": "code",
   "execution_count": 81,
   "metadata": {
    "execution": {
     "iopub.execute_input": "2025-01-07T11:06:52.217348Z",
     "iopub.status.busy": "2025-01-07T11:06:52.216591Z",
     "iopub.status.idle": "2025-01-07T11:06:52.222780Z",
     "shell.execute_reply": "2025-01-07T11:06:52.222353Z"
    },
    "slideshow": {
     "slide_type": "subslide"
    }
   },
   "outputs": [],
   "source": [
    "def create_new_input_specification(derivation_tree, all_features) -> InputSpecification:\n",
    "    '''\n",
    "    This function creates a new input specification for a parsed decision tree path.\n",
    "    The input derivation_tree corresponds to a already negated path in the decision tree.\n",
    "    '''\n",
    "\n",
    "    requirement_list = []\n",
    "\n",
    "    for req in get_all_subtrees(derivation_tree, '<req>'):\n",
    "        feature_name = tree_to_string(get_all_subtrees(req, '<feature>')[0])\n",
    "        quant = tree_to_string(get_all_subtrees(req, '<quant>')[0])\n",
    "        value = tree_to_string(get_all_subtrees(req, '<num>')[0])\n",
    "\n",
    "        feature_class = None\n",
    "        for f in all_features:\n",
    "            if f.name == feature_name:\n",
    "                feature_class = f\n",
    "\n",
    "        requirement_list.append(SpecRequirement(feature_class, quant, value))\n",
    "\n",
    "    return InputSpecification(requirement_list)"
   ]
  },
  {
   "cell_type": "code",
   "execution_count": 82,
   "metadata": {
    "execution": {
     "iopub.execute_input": "2025-01-07T11:06:52.225372Z",
     "iopub.status.busy": "2025-01-07T11:06:52.224932Z",
     "iopub.status.idle": "2025-01-07T11:06:52.233924Z",
     "shell.execute_reply": "2025-01-07T11:06:52.231109Z"
    },
    "slideshow": {
     "slide_type": "subslide"
    }
   },
   "outputs": [],
   "source": [
    "def get_all_input_specifications(dec_tree,\n",
    "                                 all_features: List[Feature],\n",
    "                                 feature_names: List[str],\n",
    "                                 data) -> List[InputSpecification]:\n",
    "    '''\n",
    "    Returns a complete list new input specification that were extracted from a learned decision tree.\n",
    "\n",
    "    INPUT:\n",
    "        - dec_tree       : The learned decision tree.\n",
    "        - all_features   : A list of all features\n",
    "        - feature_names  : The list of the feature names (feature.name)\n",
    "        - data.          : The data that was used to learn the decision tree\n",
    "\n",
    "    OUTPUT:\n",
    "        - Returns a list of InputSpecifications\n",
    "    '''\n",
    "    prediction_paths = extracting_prediction_paths(dec_tree, feature_names, data)\n",
    "    input_specifications = []\n",
    "\n",
    "    # parse all extracted paths\n",
    "    for r in prediction_paths:\n",
    "        earley = EarleyParser(SPEC_GRAMMAR)\n",
    "        try:\n",
    "            for tree in earley.parse(r):\n",
    "                input_specifications.append(create_new_input_specification(tree, all_features))\n",
    "        except SyntaxError:\n",
    "            # Catch Parsing Syntax Errors: num(<term>) in [-900, 0] will fail; Might fix later\n",
    "            # For now, inputs following that form will be ignored\n",
    "            pass\n",
    "\n",
    "    return input_specifications"
   ]
  },
  {
   "cell_type": "markdown",
   "metadata": {
    "slideshow": {
     "slide_type": "subslide"
    }
   },
   "source": [
    "### Excursion: Testing Specifications"
   ]
  },
  {
   "cell_type": "code",
   "execution_count": 83,
   "metadata": {
    "execution": {
     "iopub.execute_input": "2025-01-07T11:06:52.238782Z",
     "iopub.status.busy": "2025-01-07T11:06:52.238100Z",
     "iopub.status.idle": "2025-01-07T11:06:52.325170Z",
     "shell.execute_reply": "2025-01-07T11:06:52.324117Z"
    },
    "slideshow": {
     "slide_type": "subslide"
    }
   },
   "outputs": [],
   "source": [
    "sample_prediction_paths = ['exists(<function>@0) > 0.5, num(<term>) <= -38244758.0',\n",
    "                        'exists(<digit>@7) <= 0.5, exists(<function>@0) > 0.5, num(<term>) <= 0.05000000074505806',\n",
    "                        'exists(<digit>) > 1.5, exists(<function>@0) > 0.5, num(<term>) <= 0.21850000321865082', \n",
    "                        'exists(<function>@0) > 0.5']\n",
    "\n",
    "expected_input_specifications = ['InputSpecification(Requirement(exists(<function>@0) > 0.5), Requirement(num(<term>) <= -38244758.0))',\n",
    "                                 'InputSpecification(Requirement(exists(<digit>@7) <= 0.5), Requirement(exists(<function>@0) > 0.5), Requirement(num(<term>) <= 0.05000000074505806))',\n",
    "                                 'InputSpecification(Requirement(exists(<digit>) > 1.5), Requirement(exists(<function>@0) > 0.5), Requirement(num(<term>) <= 0.21850000321865082))',\n",
    "                                 'InputSpecification(Requirement(exists(<function>@0) > 0.5))']\n",
    "\n",
    "all_features = extract_all_features(CALC_GRAMMAR)\n",
    "\n",
    "earley = EarleyParser(SPEC_GRAMMAR)\n",
    "for count, sample in enumerate(sample_prediction_paths):\n",
    "    for tree in earley.parse(sample):\n",
    "        input_specification = create_new_input_specification(tree, all_features)\n",
    "        assert str(input_specification) == expected_input_specifications[count], \\\n",
    "            f\"{str(input_specification)} is not equal to {expected_input_specifications[count]}\""
   ]
  },
  {
   "cell_type": "markdown",
   "metadata": {
    "slideshow": {
     "slide_type": "subslide"
    }
   },
   "source": [
    "If no assertion is triggered, then everything seems to work."
   ]
  },
  {
   "cell_type": "markdown",
   "metadata": {
    "slideshow": {
     "slide_type": "subslide"
    }
   },
   "source": [
    "### End of Excursion"
   ]
  },
  {
   "cell_type": "markdown",
   "metadata": {
    "slideshow": {
     "slide_type": "fragment"
    }
   },
   "source": [
    "We implement a _Grammar-Based Input Generator_ that generates new input samples from a List of `InputSpecifications`.\n",
    "The input specifications are extracted from the decision tree boundaries in the previous Step 3: `RequirementExtraction`.\n",
    "\n",
    "An `InputSpecification` consists of **1 to n** many predicates or requirements (e.g. `<feature> >= value`, or `num(<term>) <= 13`).\n",
    "We generate a new input for each `InputSpecification`.\n",
    "The new input fulfills all the given requirements of an `InputSpecification`."
   ]
  },
  {
   "cell_type": "markdown",
   "metadata": {
    "slideshow": {
     "slide_type": "subslide"
    }
   },
   "source": [
    "For further details, please refer to Section 4.4 and 4.5 of \\cite{Kampmann2020} and the Chapter [Efficient Grammar Fuzzing](https://www.fuzzingbook.org/html/GrammarFuzzer.html) in the Fuzzing Book."
   ]
  },
  {
   "cell_type": "markdown",
   "metadata": {
    "slideshow": {
     "slide_type": "fragment"
    }
   },
   "source": [
    "We define a function `generate_samples()` with the following input parameters:\n",
    "- `grammar`: the grammar used to produce new inputs (e.g. the CALCULATOR-Grammar)\n",
    "- `new_input_specification`: a List of new inputs specifications (type `List[InputSpecification]`)\n",
    "- `timeout`: a max time budget. Return the generated inputs when the time budget is exceeded."
   ]
  },
  {
   "cell_type": "markdown",
   "metadata": {
    "slideshow": {
     "slide_type": "fragment"
    }
   },
   "source": [
    "The function returns a list of new inputs that are specified by the given input specifications."
   ]
  },
  {
   "cell_type": "code",
   "execution_count": 84,
   "metadata": {
    "execution": {
     "iopub.execute_input": "2025-01-07T11:06:52.330565Z",
     "iopub.status.busy": "2025-01-07T11:06:52.329750Z",
     "iopub.status.idle": "2025-01-07T11:06:52.333276Z",
     "shell.execute_reply": "2025-01-07T11:06:52.332739Z"
    },
    "slideshow": {
     "slide_type": "skip"
    }
   },
   "outputs": [],
   "source": [
    "import time\n",
    "import copy\n",
    "from copy import deepcopy\n",
    "import random\n",
    "from itertools import chain"
   ]
  },
  {
   "cell_type": "code",
   "execution_count": 85,
   "metadata": {
    "execution": {
     "iopub.execute_input": "2025-01-07T11:06:52.335110Z",
     "iopub.status.busy": "2025-01-07T11:06:52.334990Z",
     "iopub.status.idle": "2025-01-07T11:06:52.341168Z",
     "shell.execute_reply": "2025-01-07T11:06:52.340360Z"
    },
    "slideshow": {
     "slide_type": "subslide"
    }
   },
   "outputs": [],
   "source": [
    "def best_trees(forest, spec):\n",
    "    samples = [tree_to_string(tree) for tree in forest]\n",
    "    fulfilled_fractions= []\n",
    "    for sample in samples:\n",
    "        gen_features = collect_features([sample], CALC_GRAMMAR)\n",
    "\n",
    "        # calculate percentage of fulfilled requirements (used to rank the sample)\n",
    "        fulfilled_count = 0\n",
    "        total_count = len(spec.requirements)\n",
    "        for req in spec.requirements:\n",
    "            # for now, interpret requirement(exists(<...>) <= number) as false and requirement(exists(<...>) > number) as true\n",
    "            if isinstance(req.feature, ExistenceFeature):\n",
    "                expected = 1.0 if req.quant == '>' or req.quant == '>=' else 0.0\n",
    "                actual = gen_features[req.feature.name][0]\n",
    "                if actual == expected:\n",
    "                    fulfilled_count += 1\n",
    "                else:\n",
    "                    pass\n",
    "                    # print(f'{req.feature} expected: {expected}, actual:{actual}')\n",
    "            elif isinstance(req.feature, NumericInterpretation):\n",
    "                expected_value = float(req.value)\n",
    "                actual_value = gen_features[req.feature.name][0]\n",
    "                fulfilled = False\n",
    "                if req.quant == '<':\n",
    "                    fulfilled = actual_value < expected_value\n",
    "                elif req.quant == '<=':\n",
    "                    fulfilled = actual_value <= expected_value\n",
    "                elif req.quant == '>':\n",
    "                    fulfilled = actual_value > expected_value\n",
    "                elif req.quant == '>=':\n",
    "                    fulfilled = actual_value >= expected_value\n",
    "\n",
    "                if fulfilled:\n",
    "                    fulfilled_count += 1\n",
    "                else:\n",
    "                    pass\n",
    "                    # print(f'{req.feature} expected: {expected_value}, actual:{actual_value}')\n",
    "        fulfilled_fractions.append(fulfilled_count / total_count)\n",
    "        # print(f'Fraction of fulfilled requirements: {fulfilled_count / total_count}')\n",
    "    max_frac = max(fulfilled_fractions)\n",
    "    best_chosen = []\n",
    "    if max_frac == 1.0:\n",
    "        return True, forest[fulfilled_fractions.index(1.0)]\n",
    "\n",
    "    for i, t in enumerate(forest):\n",
    "        if fulfilled_fractions[i] == max_frac:\n",
    "            best_chosen.append(t)\n",
    "    return False, best_chosen\n"
   ]
  },
  {
   "cell_type": "code",
   "execution_count": 86,
   "metadata": {
    "execution": {
     "iopub.execute_input": "2025-01-07T11:06:52.344654Z",
     "iopub.status.busy": "2025-01-07T11:06:52.344414Z",
     "iopub.status.idle": "2025-01-07T11:06:52.351992Z",
     "shell.execute_reply": "2025-01-07T11:06:52.350508Z"
    },
    "slideshow": {
     "slide_type": "subslide"
    }
   },
   "outputs": [],
   "source": [
    "# well, not perfect and probably not very robust. but it works :)\n",
    "def generate_samples_advanced(grammar: Grammar,\n",
    "                     new_input_specifications: List[InputSpecification],\n",
    "                     timeout: int) -> List[str]:\n",
    "\n",
    "    # if there are no input specifications: generate some random samples\n",
    "    if len(new_input_specifications) == 0:\n",
    "        fuzzer = GrammarFuzzer(grammar)\n",
    "        samples = [fuzzer.fuzz() for _ in range(100)]\n",
    "        return samples\n",
    "\n",
    "    final_samples = []\n",
    "    each_spec_timeout = timeout / len(new_input_specifications)\n",
    "\n",
    "    rhs_nonterminals = grammar.keys()# list(chain(*[nonterminals(expansion) for expansion in grammar[rule]]))\n",
    "\n",
    "    fuzzer = GrammarFuzzer(grammar)\n",
    "\n",
    "    for spec in new_input_specifications:\n",
    "        done = False\n",
    "        starttime = time.time()\n",
    "        best_chosen = [fuzzer.fuzz_tree() for _ in range(100)]\n",
    "        done, best_chosen = best_trees(best_chosen, spec)\n",
    "        if done:\n",
    "            final_samples.append(tree_to_string(best_chosen))\n",
    "\n",
    "        while not done and time.time() - starttime < each_spec_timeout:\n",
    "            # split in prefix, postfix and try to reach targets\n",
    "            for tree in best_chosen:\n",
    "                prefix_len = random.randint(1, 3)\n",
    "                curr = tree\n",
    "                valid = True\n",
    "                for i in range(prefix_len):\n",
    "                    nt, children = curr\n",
    "                    poss_desc_idxs = []\n",
    "                    for c_idx, c in enumerate(children):\n",
    "                        s, _ = c\n",
    "                        possible_descend = s in rhs_nonterminals\n",
    "                        if possible_descend:\n",
    "                            poss_desc_idxs.append(c_idx)\n",
    "                    if len(poss_desc_idxs) < 1:\n",
    "                        valid = False\n",
    "                        break\n",
    "                    desc = random.randint(0, len(poss_desc_idxs) - 1)\n",
    "                    curr = children[poss_desc_idxs[desc]]\n",
    "                if valid:\n",
    "                    nt, _ = curr\n",
    "                    for req in spec.requirements:\n",
    "                        if isinstance(req.feature, NumericInterpretation) and nt == req.feature.key:\n",
    "                            # hacky: generate a derivation tree for this numeric interpretation\n",
    "                            hacky_grammar = copy.deepcopy(grammar)\n",
    "                            hacky_grammar[\"<start>\"] = [nt]\n",
    "                            parser = EarleyParser(hacky_grammar)\n",
    "                            try:\n",
    "                                test = parser.parse(req.value)\n",
    "                                x = list(test)[0]\n",
    "                                _, s = x\n",
    "                                # print(str(s[0]))\n",
    "                                # replace curr in tree with this new tree\n",
    "                                curr = s[0]\n",
    "                            except SyntaxError:\n",
    "                                pass\n",
    "            done, best_chosen = best_trees(best_chosen, spec)\n",
    "            if done:\n",
    "                final_samples.append(tree_to_string(best_chosen))\n",
    "        if not done:\n",
    "            final_samples.extend([tree_to_string(t) for t in best_chosen])\n",
    "\n",
    "    return final_samples"
   ]
  },
  {
   "cell_type": "markdown",
   "metadata": {
    "slideshow": {
     "slide_type": "subslide"
    }
   },
   "source": [
    "Here's another interesting generator function:"
   ]
  },
  {
   "cell_type": "code",
   "execution_count": 87,
   "metadata": {
    "execution": {
     "iopub.execute_input": "2025-01-07T11:06:52.356765Z",
     "iopub.status.busy": "2025-01-07T11:06:52.356513Z",
     "iopub.status.idle": "2025-01-07T11:06:52.359384Z",
     "shell.execute_reply": "2025-01-07T11:06:52.359018Z"
    },
    "slideshow": {
     "slide_type": "fragment"
    }
   },
   "outputs": [],
   "source": [
    "def generate_samples_random(grammar, new_input_specifications, num):\n",
    "    f = GrammarFuzzer(grammar ,max_nonterminals=50, log=False)\n",
    "    data = []\n",
    "    for _ in range(num):\n",
    "        new_input = f.fuzz()\n",
    "        data.append(new_input)\n",
    "\n",
    "    return data"
   ]
  },
  {
   "cell_type": "code",
   "execution_count": 88,
   "metadata": {
    "execution": {
     "iopub.execute_input": "2025-01-07T11:06:52.361244Z",
     "iopub.status.busy": "2025-01-07T11:06:52.361087Z",
     "iopub.status.idle": "2025-01-07T11:06:52.364814Z",
     "shell.execute_reply": "2025-01-07T11:06:52.363841Z"
    },
    "slideshow": {
     "slide_type": "fragment"
    }
   },
   "outputs": [],
   "source": [
    "generate_samples = generate_samples_advanced"
   ]
  },
  {
   "cell_type": "markdown",
   "metadata": {
    "slideshow": {
     "slide_type": "subslide"
    }
   },
   "source": [
    "### Excursion: Some Tests"
   ]
  },
  {
   "cell_type": "code",
   "execution_count": 89,
   "metadata": {
    "execution": {
     "iopub.execute_input": "2025-01-07T11:06:52.369373Z",
     "iopub.status.busy": "2025-01-07T11:06:52.369009Z",
     "iopub.status.idle": "2025-01-07T11:06:52.534472Z",
     "shell.execute_reply": "2025-01-07T11:06:52.534001Z"
    },
    "slideshow": {
     "slide_type": "subslide"
    }
   },
   "outputs": [
    {
     "name": "stdout",
     "output_type": "stream",
     "text": [
      "--generating samples--\n"
     ]
    },
    {
     "data": {
      "text/plain": [
       "['sqrt(-81743)']"
      ]
     },
     "execution_count": 89,
     "metadata": {},
     "output_type": "execute_result"
    }
   ],
   "source": [
    "exsqrt = ExistenceFeature('exists(<function>@0)', '<function>', 'sqrt')\n",
    "exdigit = ExistenceFeature('exists(<digit>)', '<digit>', '<digit>')\n",
    "\n",
    "reqDigit = SpecRequirement(exdigit, '>', '0.5')\n",
    "fbdDigit = SpecRequirement(exdigit, '<=', '0.5')\n",
    "\n",
    "req0 = SpecRequirement(exsqrt, '>', '-6.0')\n",
    "testspec0 = InputSpecification([req0, reqDigit])\n",
    "req1 = SpecRequirement(exsqrt, '<=', '-6.0')\n",
    "testspec1 = InputSpecification([req1, fbdDigit])\n",
    "\n",
    "numterm = NumericInterpretation('num(<term>)', '<term>')\n",
    "req2 = SpecRequirement(numterm, '<', '-31.0')\n",
    "testspec2 = InputSpecification([req2, req0, reqDigit])\n",
    "\n",
    "print('--generating samples--')\n",
    "# samples = generate_samples(CALC_GRAMMAR, [testspec0, testspec1], 10)\n",
    "samples = generate_samples(CALC_GRAMMAR, [testspec2], 10)\n",
    "samples"
   ]
  },
  {
   "cell_type": "markdown",
   "metadata": {
    "slideshow": {
     "slide_type": "subslide"
    }
   },
   "source": [
    "### End of Excursion"
   ]
  },
  {
   "cell_type": "markdown",
   "metadata": {
    "slideshow": {
     "slide_type": "slide"
    }
   },
   "source": [
    "## Step 5: Executing New Inputs"
   ]
  },
  {
   "cell_type": "markdown",
   "metadata": {
    "slideshow": {
     "slide_type": "fragment"
    }
   },
   "source": [
    "We are almost done! All that is left is putting the above pieces together and create a _loop_ around them."
   ]
  },
  {
   "cell_type": "markdown",
   "metadata": {
    "slideshow": {
     "slide_type": "subslide"
    }
   },
   "source": [
    "### The Alhazen Class\n",
    "\n",
    "We implement a class `Alhazen` that serves as main entry point for our approach."
   ]
  },
  {
   "cell_type": "code",
   "execution_count": 90,
   "metadata": {
    "execution": {
     "iopub.execute_input": "2025-01-07T11:06:52.536470Z",
     "iopub.status.busy": "2025-01-07T11:06:52.536285Z",
     "iopub.status.idle": "2025-01-07T11:06:52.539355Z",
     "shell.execute_reply": "2025-01-07T11:06:52.538933Z"
    },
    "slideshow": {
     "slide_type": "subslide"
    }
   },
   "outputs": [],
   "source": [
    "class Alhazen:\n",
    "    def __init__(self,\n",
    "                 runner: Any,\n",
    "                 grammar: Grammar,\n",
    "                 initial_inputs: List[str], /,\n",
    "                 verbose: bool = False,\n",
    "                 max_iterations: int = 10,\n",
    "                 generator_timeout: int = 10):\n",
    "        self._initial_inputs = initial_inputs\n",
    "        self._runner = runner\n",
    "        self._grammar = grammar\n",
    "        self._verbose = verbose\n",
    "        self._max_iter = max_iterations\n",
    "        self._previous_samples = None\n",
    "        self._data = None\n",
    "        self._trees = []\n",
    "        self._generator_timeout = generator_timeout\n",
    "        self._setup()"
   ]
  },
  {
   "cell_type": "code",
   "execution_count": 91,
   "metadata": {
    "execution": {
     "iopub.execute_input": "2025-01-07T11:06:52.541709Z",
     "iopub.status.busy": "2025-01-07T11:06:52.541594Z",
     "iopub.status.idle": "2025-01-07T11:06:52.544846Z",
     "shell.execute_reply": "2025-01-07T11:06:52.544421Z"
    },
    "slideshow": {
     "slide_type": "subslide"
    }
   },
   "outputs": [],
   "source": [
    "class Alhazen(Alhazen):\n",
    "    def _setup(self):\n",
    "        self._previous_samples = self._initial_inputs\n",
    "\n",
    "        self._all_features = extract_all_features(self._grammar)\n",
    "        self._feature_names = [f.name for f in self._all_features]\n",
    "        if self._verbose:\n",
    "            print(\"Features:\", \", \".join(f.friendly_name()\n",
    "                                         for f in self._all_features))"
   ]
  },
  {
   "cell_type": "code",
   "execution_count": 92,
   "metadata": {
    "execution": {
     "iopub.execute_input": "2025-01-07T11:06:52.547151Z",
     "iopub.status.busy": "2025-01-07T11:06:52.547006Z",
     "iopub.status.idle": "2025-01-07T11:06:52.550645Z",
     "shell.execute_reply": "2025-01-07T11:06:52.550280Z"
    },
    "slideshow": {
     "slide_type": "subslide"
    }
   },
   "outputs": [],
   "source": [
    "class Alhazen(Alhazen):\n",
    "    def _add_new_data(self, exec_data, feature_data):\n",
    "        joined_data = exec_data.join(feature_data.drop(['sample'], axis=1))\n",
    "\n",
    "        # Only add valid data\n",
    "        new_data = joined_data[(joined_data['oracle'] != OracleResult.UNDEF)]\n",
    "        new_data = joined_data.drop(joined_data[joined_data.oracle.astype(str) == \"UNDEF\"].index)\n",
    "        if 0 != len(new_data):\n",
    "            if self._data is None:\n",
    "                self._data = new_data\n",
    "            else:\n",
    "                self._data = pandas.concat([self._data, new_data], sort=False)"
   ]
  },
  {
   "cell_type": "code",
   "execution_count": 93,
   "metadata": {
    "execution": {
     "iopub.execute_input": "2025-01-07T11:06:52.553304Z",
     "iopub.status.busy": "2025-01-07T11:06:52.553183Z",
     "iopub.status.idle": "2025-01-07T11:06:52.557699Z",
     "shell.execute_reply": "2025-01-07T11:06:52.556655Z"
    },
    "slideshow": {
     "slide_type": "subslide"
    }
   },
   "outputs": [],
   "source": [
    "class Alhazen(Alhazen):\n",
    "    def execute_samples(self, sample_list = None):\n",
    "        if sample_list is None:\n",
    "            sample_list = self._initial_inputs\n",
    "\n",
    "        data = []\n",
    "        for sample in sample_list:\n",
    "            result = self._runner(sample)\n",
    "            data.append({\"oracle\": result })\n",
    "\n",
    "        return pandas.DataFrame.from_records(data)"
   ]
  },
  {
   "cell_type": "code",
   "execution_count": 94,
   "metadata": {
    "execution": {
     "iopub.execute_input": "2025-01-07T11:06:52.560859Z",
     "iopub.status.busy": "2025-01-07T11:06:52.560724Z",
     "iopub.status.idle": "2025-01-07T11:06:52.562789Z",
     "shell.execute_reply": "2025-01-07T11:06:52.562523Z"
    },
    "slideshow": {
     "slide_type": "subslide"
    }
   },
   "outputs": [],
   "source": [
    "class Alhazen(Alhazen):\n",
    "    def run(self):\n",
    "        for iteration in range(1, self._max_iter + 1):\n",
    "            if self._verbose:\n",
    "                print(f\"\\nIteration #{iteration}\")\n",
    "            self._iterate(self._previous_samples)"
   ]
  },
  {
   "cell_type": "code",
   "execution_count": 95,
   "metadata": {
    "execution": {
     "iopub.execute_input": "2025-01-07T11:06:52.564591Z",
     "iopub.status.busy": "2025-01-07T11:06:52.564409Z",
     "iopub.status.idle": "2025-01-07T11:06:52.567688Z",
     "shell.execute_reply": "2025-01-07T11:06:52.566924Z"
    },
    "slideshow": {
     "slide_type": "fragment"
    }
   },
   "outputs": [],
   "source": [
    "class Alhazen(Alhazen):\n",
    "    def all_trees(self, /, prune: bool = True):\n",
    "        trees = self._trees\n",
    "        if prune:\n",
    "            trees = [remove_unequal_decisions(tree) for tree in self._trees]\n",
    "        return trees\n",
    "\n",
    "    def last_tree(self, /, prune: bool = True):\n",
    "        return self.all_trees(prune=prune)[-1]"
   ]
  },
  {
   "cell_type": "code",
   "execution_count": 96,
   "metadata": {
    "execution": {
     "iopub.execute_input": "2025-01-07T11:06:52.569868Z",
     "iopub.status.busy": "2025-01-07T11:06:52.569760Z",
     "iopub.status.idle": "2025-01-07T11:06:52.573507Z",
     "shell.execute_reply": "2025-01-07T11:06:52.573189Z"
    },
    "slideshow": {
     "slide_type": "subslide"
    }
   },
   "outputs": [],
   "source": [
    "class Alhazen(Alhazen):\n",
    "    def _iterate(self, sample_list):\n",
    "        # Run samples, obtain test outcomes\n",
    "        exec_data = self.execute_samples(sample_list)\n",
    "\n",
    "        # Step 1: Extract features from the new samples\n",
    "        feature_data = collect_features(sample_list, self._grammar)\n",
    "\n",
    "        # Combine the new data with the already existing data\n",
    "        self._add_new_data(exec_data, feature_data)\n",
    "        # display(self._data)\n",
    "\n",
    "        # Step 2: Train the Decision Tree Classifier\n",
    "        dec_tree = train_tree(self._data)\n",
    "        self._trees.append(dec_tree)\n",
    "\n",
    "        if self._verbose:\n",
    "            print(\"  Decision Tree:\")\n",
    "            all_features = extract_all_features(self._grammar)\n",
    "            all_feature_names = [f.friendly_name() for f in all_features]\n",
    "            print(friendly_decision_tree(dec_tree, all_feature_names, indent=4))\n",
    "\n",
    "        # Step 3: Extract new requirements from the tree\n",
    "        new_input_specifications = get_all_input_specifications(dec_tree,\n",
    "                                                self._all_features,\n",
    "                                                self._feature_names,\n",
    "                                                self._data.drop(['oracle'], axis=1))\n",
    "        if self._verbose:\n",
    "            print(f\"  New input specifications:\")\n",
    "            for spec in new_input_specifications:\n",
    "                print(f\"    {spec.friendly()}\")\n",
    "\n",
    "        # Step 4: Generate new inputs according to the new input specifications\n",
    "        new_samples = generate_samples(self._grammar,\n",
    "                                       new_input_specifications,\n",
    "                                       self._generator_timeout)\n",
    "        if self._verbose:\n",
    "            print(f\"  New samples:\")\n",
    "            print(f\"    {', '.join(new_samples)}\")\n",
    "\n",
    "        self._previous_samples = new_samples"
   ]
  },
  {
   "cell_type": "code",
   "execution_count": 97,
   "metadata": {
    "execution": {
     "iopub.execute_input": "2025-01-07T11:06:52.575044Z",
     "iopub.status.busy": "2025-01-07T11:06:52.574890Z",
     "iopub.status.idle": "2025-01-07T11:06:52.577357Z",
     "shell.execute_reply": "2025-01-07T11:06:52.577001Z"
    },
    "slideshow": {
     "slide_type": "subslide"
    }
   },
   "outputs": [],
   "source": [
    "class Alhazen(Alhazen):\n",
    "    def all_feature_names(self, friendly: bool = True) -> List[str]:\n",
    "        if friendly:\n",
    "            all_feature_names = [f.friendly_name() for f in self._all_features]\n",
    "        else:\n",
    "            all_feature_names = [f.name for f in self._all_features]\n",
    "        return all_feature_names"
   ]
  },
  {
   "cell_type": "code",
   "execution_count": 98,
   "metadata": {
    "execution": {
     "iopub.execute_input": "2025-01-07T11:06:52.579071Z",
     "iopub.status.busy": "2025-01-07T11:06:52.578945Z",
     "iopub.status.idle": "2025-01-07T11:06:52.581960Z",
     "shell.execute_reply": "2025-01-07T11:06:52.581419Z"
    },
    "slideshow": {
     "slide_type": "fragment"
    }
   },
   "outputs": [],
   "source": [
    "class Alhazen(Alhazen):\n",
    "    def show_decision_tree(self, tree = None, friendly: bool = True):\n",
    "        return show_decision_tree(tree or self.last_tree(),\n",
    "                                  self.all_feature_names())"
   ]
  },
  {
   "cell_type": "code",
   "execution_count": 99,
   "metadata": {
    "execution": {
     "iopub.execute_input": "2025-01-07T11:06:52.584159Z",
     "iopub.status.busy": "2025-01-07T11:06:52.584045Z",
     "iopub.status.idle": "2025-01-07T11:06:52.586234Z",
     "shell.execute_reply": "2025-01-07T11:06:52.585939Z"
    },
    "slideshow": {
     "slide_type": "fragment"
    }
   },
   "outputs": [],
   "source": [
    "class Alhazen(Alhazen):\n",
    "    def friendly_decision_tree(self, tree = None):\n",
    "        return friendly_decision_tree(tree or self.last_tree(),\n",
    "                                      self.all_feature_names())"
   ]
  },
  {
   "cell_type": "markdown",
   "metadata": {
    "slideshow": {
     "slide_type": "slide"
    }
   },
   "source": [
    "## A Sample Run"
   ]
  },
  {
   "cell_type": "markdown",
   "metadata": {
    "slideshow": {
     "slide_type": "fragment"
    }
   },
   "source": [
    "We can finally run _Alhazen_!"
   ]
  },
  {
   "cell_type": "markdown",
   "metadata": {
    "slideshow": {
     "slide_type": "fragment"
    }
   },
   "source": [
    "Set the number of refinement iterations and the timeout for the input generator.\n",
    "The execution time of Alhazen mainly depends on the number of iterations."
   ]
  },
  {
   "cell_type": "code",
   "execution_count": 100,
   "metadata": {
    "execution": {
     "iopub.execute_input": "2025-01-07T11:06:52.588326Z",
     "iopub.status.busy": "2025-01-07T11:06:52.588190Z",
     "iopub.status.idle": "2025-01-07T11:06:52.590072Z",
     "shell.execute_reply": "2025-01-07T11:06:52.589652Z"
    },
    "slideshow": {
     "slide_type": "fragment"
    }
   },
   "outputs": [],
   "source": [
    "MAX_ITERATIONS = 20\n",
    "GENERATOR_TIMEOUT = 10 # timeout in seconds"
   ]
  },
  {
   "cell_type": "markdown",
   "metadata": {
    "slideshow": {
     "slide_type": "fragment"
    }
   },
   "source": [
    "We initialize Alhazen with the previously used `initial_sample_list`:"
   ]
  },
  {
   "cell_type": "code",
   "execution_count": 101,
   "metadata": {
    "execution": {
     "iopub.execute_input": "2025-01-07T11:06:52.591869Z",
     "iopub.status.busy": "2025-01-07T11:06:52.591736Z",
     "iopub.status.idle": "2025-01-07T11:06:52.594448Z",
     "shell.execute_reply": "2025-01-07T11:06:52.594186Z"
    },
    "slideshow": {
     "slide_type": "fragment"
    }
   },
   "outputs": [
    {
     "data": {
      "text/plain": [
       "['sqrt(-16)', 'sqrt(4)']"
      ]
     },
     "execution_count": 101,
     "metadata": {},
     "output_type": "execute_result"
    }
   ],
   "source": [
    "initial_sample_list"
   ]
  },
  {
   "cell_type": "markdown",
   "metadata": {
    "slideshow": {
     "slide_type": "subslide"
    }
   },
   "source": [
    "And here we go! When initialized with `verbose=True`, Alhazen prints its progress during execution, issuing for each iteration\n",
    "\n",
    "* the last decision tree\n",
    "* the new input specification resulting from the tree\n",
    "* the new samples satisfying the input specification."
   ]
  },
  {
   "cell_type": "code",
   "execution_count": 102,
   "metadata": {
    "execution": {
     "iopub.execute_input": "2025-01-07T11:06:52.596222Z",
     "iopub.status.busy": "2025-01-07T11:06:52.596035Z",
     "iopub.status.idle": "2025-01-07T11:07:54.880747Z",
     "shell.execute_reply": "2025-01-07T11:07:54.880441Z"
    },
    "slideshow": {
     "slide_type": "subslide"
    }
   },
   "outputs": [
    {
     "name": "stdout",
     "output_type": "stream",
     "text": [
      "Features: exists(<start>), <start> == '<function>(<term>)', exists(<function>), <function> == 'sqrt', <function> == 'tan', <function> == 'cos', <function> == 'sin', exists(<term>), <term> == '-<value>', <term> == '<value>', exists(<value>), <value> == '<integer>.<digits>', <value> == '<integer>', exists(<integer>), <integer> == '<lead-digit><digits>', <integer> == '<digit>', exists(<digits>), <digits> == '<digit><digits>', <digits> == '<digit>', exists(<lead-digit>), <lead-digit> == '1', <lead-digit> == '2', <lead-digit> == '3', <lead-digit> == '4', <lead-digit> == '5', <lead-digit> == '6', <lead-digit> == '7', <lead-digit> == '8', <lead-digit> == '9', exists(<digit>), <digit> == '0', <digit> == '1', <digit> == '2', <digit> == '3', <digit> == '4', <digit> == '5', <digit> == '6', <digit> == '7', <digit> == '8', <digit> == '9', <term>, <value>, <lead-digit>, <digit>, <integer>, <digits>\n",
      "\n",
      "Iteration #1\n",
      "  Decision Tree:\n",
      "    if <digits> <= nan:\n",
      "      NO_BUG\n",
      "    else:\n",
      "      BUG\n",
      "\n",
      "  New input specifications:\n",
      "  New samples:\n",
      "    tan(85), cos(-163), sin(-27.60), sqrt(-5), tan(2046.977), sin(-3.11), sqrt(-19.982), sqrt(-8.67), cos(-275), cos(3863), sqrt(-0.01), cos(-8.62380), cos(8), tan(2), cos(31.9), sin(12.9), tan(6.91), cos(-43.9), cos(-9), sin(-2.0), cos(-9.793), sin(761.0), cos(-312), sin(-216.2), sqrt(-1.6), cos(3), sqrt(-488), cos(6.65), sin(46.8), tan(-798), cos(-6.82), sin(19.50), cos(-8), sqrt(-7.3), sin(3.84), tan(-57.276), tan(99), tan(611), sin(9), cos(-1), sin(-5.0), tan(-48.5), tan(482235.4), sin(3368), sin(19.3), sqrt(5), tan(2), tan(-7), sqrt(-6.649), cos(9.9730), tan(-2), sqrt(3966), cos(55), sin(-3), sqrt(752.7), cos(8.0013), cos(-36.29), cos(-611), cos(5), sqrt(-1.014), tan(-5), tan(-38.6), tan(-70), sin(-9), cos(-48), cos(1893), cos(99.83), tan(-7.80), tan(327.39), cos(-35708), cos(-987.85), tan(-15.3), tan(-8785596.0), tan(-4), sqrt(9.283), tan(3.95), tan(-6), sqrt(-20.0), cos(-66.319), tan(0), sin(-4), sin(7.1), cos(-5), sin(-33), tan(-6.46058), sin(-9.6), sin(-5831.1), sqrt(49), tan(5.7), sqrt(-16.43), sin(1), tan(6.556), cos(-4), cos(-7962), tan(102), tan(291.7), sqrt(-64.4), tan(23942.0182), tan(-8.4348), cos(-9)\n",
      "\n",
      "Iteration #2\n",
      "  Decision Tree:\n",
      "    if <lead-digit> <= 2.5000:\n",
      "      if <function> == 'sqrt':\n",
      "        BUG\n",
      "      else:\n",
      "        NO_BUG\n",
      "    else:\n",
      "      NO_BUG\n",
      "\n",
      "  New input specifications:\n",
      "    <function> == 'sqrt' and <lead-digit> <= 2.5\n",
      "    <function> == 'sqrt' and <lead-digit> > 2.5\n",
      "    <function> == 'sqrt' and <lead-digit> <= 2.5\n",
      "    <function> == 'sqrt' and <lead-digit> > 2.5\n",
      "    <lead-digit> > 2.5\n",
      "    <lead-digit> <= 2.5\n"
     ]
    },
    {
     "name": "stdout",
     "output_type": "stream",
     "text": [
      "  New samples:\n",
      "    cos(24), sqrt(85.93), sqrt(-24), cos(6726.274), cos(-3424.3), sin(243)\n",
      "\n",
      "Iteration #3\n",
      "  Decision Tree:\n",
      "    if <lead-digit> <= 2.5000:\n",
      "      if <function> == 'sqrt':\n",
      "        BUG\n",
      "      else:\n",
      "        if <function> == 'tan':\n",
      "          NO_BUG\n",
      "        else:\n",
      "          NO_BUG\n",
      "    else:\n",
      "      NO_BUG\n",
      "\n",
      "  New input specifications:\n",
      "    <function> == 'sqrt' and <function> == 'tan' and <lead-digit> > 2.5\n",
      "    <function> == 'sqrt' and <function> == 'tan' and <lead-digit> <= 2.5\n",
      "    <function> == 'sqrt' and <lead-digit> <= 2.5\n",
      "    <function> == 'sqrt' and <function> == 'tan' and <lead-digit> <= 2.5\n",
      "    <function> == 'sqrt' and <lead-digit> <= 2.5\n",
      "    <function> == 'sqrt' and <lead-digit> > 2.5\n",
      "    <lead-digit> > 2.5\n",
      "    <function> == 'sqrt' and <function> == 'tan' and <lead-digit> > 2.5\n",
      "    <lead-digit> <= 2.5\n"
     ]
    },
    {
     "name": "stdout",
     "output_type": "stream",
     "text": [
      "  New samples:\n",
      "    tan(-97.8), tan(-23), sin(15.1), cos(13), sqrt(281), sqrt(-422.2), cos(-637), sin(-81), tan(17.3367)\n",
      "\n",
      "Iteration #4\n",
      "  Decision Tree:\n",
      "    if <function> == 'sqrt':\n",
      "      if <lead-digit> <= 2.5000:\n",
      "        if <digit> == '1':\n",
      "          NO_BUG\n",
      "        else:\n",
      "          BUG\n",
      "      else:\n",
      "        NO_BUG\n",
      "    else:\n",
      "      NO_BUG\n",
      "\n",
      "  New input specifications:\n",
      "    <function> == 'sqrt' and <lead-digit> > 2.5\n",
      "    <function> == 'sqrt' and <lead-digit> <= 2.5\n",
      "    <function> == 'sqrt' and <lead-digit> > 2.5\n",
      "    <digit> == '1' and <function> == 'sqrt' and <lead-digit> > 2.5\n",
      "    <function> == 'sqrt'\n",
      "    <function> == 'sqrt'\n",
      "    <digit> == '1' and <function> == 'sqrt' and <lead-digit> <= 2.5\n",
      "    <digit> == '1' and <function> == 'sqrt' and <lead-digit> > 2.5\n",
      "    <digit> == '1' and <function> == 'sqrt' and <lead-digit> <= 2.5\n"
     ]
    },
    {
     "name": "stdout",
     "output_type": "stream",
     "text": [
      "  New samples:\n",
      "    sqrt(4307), sqrt(208), cos(-989), sqrt(-8047662286.62), sqrt(7.9), sin(0), sqrt(294.7), sqrt(44.1), sqrt(11.7)\n",
      "\n",
      "Iteration #5\n",
      "  Decision Tree:\n",
      "    if <lead-digit> <= 2.5000:\n",
      "      if <function> == 'sqrt':\n",
      "        if <term> == '-<value>':\n",
      "          BUG\n",
      "        else:\n",
      "          NO_BUG\n",
      "      else:\n",
      "        NO_BUG\n",
      "    else:\n",
      "      NO_BUG\n",
      "\n",
      "  New input specifications:\n",
      "    <function> == 'sqrt' and <lead-digit> <= 2.5\n",
      "    <function> == 'sqrt' and <term> == '-<value>' and <lead-digit> <= 2.5\n",
      "    <function> == 'sqrt' and <lead-digit> <= 2.5\n",
      "    <function> == 'sqrt' and <lead-digit> > 2.5\n",
      "    <function> == 'sqrt' and <term> == '-<value>' and <lead-digit> <= 2.5\n",
      "    <function> == 'sqrt' and <term> == '-<value>' and <lead-digit> > 2.5\n",
      "    <function> == 'sqrt' and <term> == '-<value>' and <lead-digit> > 2.5\n",
      "    <lead-digit> > 2.5\n",
      "    <lead-digit> <= 2.5\n"
     ]
    },
    {
     "name": "stdout",
     "output_type": "stream",
     "text": [
      "  New samples:\n",
      "    cos(-142.8), sqrt(37.81), sin(20.9), tan(1818), sqrt(-214.433), sqrt(52.097), sqrt(8.1), sqrt(2.02), sqrt(68), tan(20), sqrt(8), sqrt(66.25), sqrt(4.87), sqrt(9), sqrt(1), sqrt(97.26), sin(12), sqrt(91), cos(224.07), sqrt(47.2843), sqrt(85.51), sqrt(63.568), sqrt(78.79), sin(21), sqrt(84), sqrt(966.64), cos(2110486864), cos(24), tan(22692.3), sqrt(0), sqrt(-2), tan(-268.8), sqrt(941.4), sin(1325), sqrt(-37), cos(136), tan(-136.2), cos(-145396), sqrt(-920), sqrt(-8.197), sqrt(3), sin(1959.68), sqrt(-6.35), sqrt(5.9), cos(-29), sqrt(-2.0), sqrt(6), sqrt(-61.61), sqrt(72.097906), sqrt(-6.98876), sqrt(-64.82749), tan(-21.3), tan(22), sqrt(-64009.27), tan(-192), sqrt(95.80), sqrt(8.48), sqrt(85.3514), sqrt(7), sqrt(-596), tan(-25), sin(98), sqrt(-187), sqrt(62.4), sqrt(-830), cos(-878.2), sin(-19.70)\n",
      "\n",
      "Iteration #6\n",
      "  Decision Tree:\n",
      "    if <term> <= -15.6500:\n",
      "      if <integer> <= 37.5000:\n",
      "        if <function> == 'sqrt':\n",
      "          BUG\n",
      "        else:\n",
      "          if <value> == '<integer>.<digits>':\n",
      "            NO_BUG\n",
      "          else:\n",
      "            NO_BUG\n",
      "      else:\n",
      "        if <value> == '<integer>':\n",
      "          NO_BUG\n",
      "        else:\n",
      "          NO_BUG\n",
      "    else:\n",
      "      if <lead-digit> == '2':\n",
      "        NO_BUG\n",
      "      else:\n",
      "        NO_BUG\n",
      "\n"
     ]
    },
    {
     "name": "stdout",
     "output_type": "stream",
     "text": [
      "  New input specifications:\n",
      "    <value> == '<integer>' and <integer> <= 37.5 and <term> > -15.650000095367432\n",
      "    <function> == 'sqrt' and <value> == '<integer>.<digits>' and <integer> > 37.5 and <term> > -15.650000095367432\n",
      "    <value> == '<integer>' and <integer> <= 37.5 and <term> > -15.650000095367432\n",
      "    <value> == '<integer>' and <integer> > 37.5 and <term> > -15.650000095367432\n",
      "    <value> == '<integer>' and <integer> > 37.5 and <term> <= -15.650000095367432\n",
      "    <lead-digit> == '2' and <term> <= -15.650000095367432\n",
      "    <lead-digit> == '2' and <term> <= -15.650000095367432\n",
      "    <function> == 'sqrt' and <integer> > 37.5 and <term> > -15.650000095367432\n",
      "    <value> == '<integer>' and <integer> <= 37.5 and <term> <= -15.650000095367432\n",
      "    <function> == 'sqrt' and <value> == '<integer>.<digits>' and <integer> <= 37.5 and <term> <= -15.650000095367432\n",
      "    <function> == 'sqrt' and <value> == '<integer>.<digits>' and <integer> > 37.5 and <term> <= -15.650000095367432\n",
      "    <function> == 'sqrt' and <value> == '<integer>.<digits>' and <integer> > 37.5 and <term> <= -15.650000095367432\n",
      "    <function> == 'sqrt' and <value> == '<integer>.<digits>' and <integer> <= 37.5 and <term> > -15.650000095367432\n",
      "    <lead-digit> == '2' and <term> > -15.650000095367432\n",
      "    <function> == 'sqrt' and <integer> <= 37.5 and <term> > -15.650000095367432\n",
      "    <function> == 'sqrt' and <value> == '<integer>.<digits>' and <integer> <= 37.5 and <term> <= -15.650000095367432\n",
      "    <function> == 'sqrt' and <integer> <= 37.5 and <term> <= -15.650000095367432\n",
      "    <lead-digit> == '2' and <term> > -15.650000095367432\n",
      "    <function> == 'sqrt' and <integer> > 37.5 and <term> <= -15.650000095367432\n",
      "    <function> == 'sqrt' and <value> == '<integer>.<digits>' and <integer> > 37.5 and <term> > -15.650000095367432\n",
      "    <value> == '<integer>' and <integer> <= 37.5 and <term> <= -15.650000095367432\n",
      "    <value> == '<integer>' and <integer> > 37.5 and <term> > -15.650000095367432\n",
      "    <value> == '<integer>' and <integer> > 37.5 and <term> <= -15.650000095367432\n",
      "    <function> == 'sqrt' and <value> == '<integer>.<digits>' and <integer> <= 37.5 and <term> > -15.650000095367432\n"
     ]
    },
    {
     "name": "stdout",
     "output_type": "stream",
     "text": [
      "  New samples:\n",
      "    tan(4), sin(201464.99), cos(31.11), tan(96235169), cos(-656), sqrt(-93.8), sin(-292311), sqrt(94209), tan(-27.17), tan(-181.653), tan(-31), cos(-48.77), cos(2.8), sin(3.2), cos(-2680432.44), sin(2.708), sin(-34), cos(1.257), cos(8.1), tan(-2639.9), cos(4.475), cos(-49117.007), tan(-0.68), sin(7.20), sin(4.80910), sin(-7.313), cos(-8.0), tan(-2.3), cos(2.6), cos(30.30), cos(-69.4), cos(8.4), sin(9.9), sin(36.8), sin(-17), tan(-404.0), cos(-92.6409), sin(-8763), cos(-90.64), tan(-8), cos(10.3), sqrt(8.309), tan(-35), sqrt(-21), sin(29.35), sqrt(-41.033), cos(64), sqrt(-6), cos(-79), cos(-1), tan(1), cos(2), sqrt(-837), tan(-3), sin(-894), tan(-4), cos(-43), cos(7), sin(3), cos(6), sqrt(-95), tan(9), cos(-23.0), cos(2), cos(-10), sin(6), sin(-627344826), cos(-55), sqrt(-9), sqrt(-3), sqrt(-7), tan(-6175), cos(-9), tan(-471458), sqrt(-52), cos(-6), sin(-7), sqrt(-90), cos(0), sin(35), cos(8), tan(-1), sqrt(-7), tan(-46059), sin(90.04), sin(-78186.9), cos(8.4)\n",
      "\n",
      "Iteration #7\n",
      "  Decision Tree:\n",
      "    if <function> == 'sqrt':\n",
      "      if <lead-digit> <= 4.5000:\n",
      "        if <value> <= 42.5665:\n",
      "          if <term> <= -11.5000:\n",
      "            BUG\n",
      "          else:\n",
      "            NO_BUG\n",
      "        else:\n",
      "          NO_BUG\n",
      "      else:\n",
      "        NO_BUG\n",
      "    else:\n",
      "      NO_BUG\n",
      "\n"
     ]
    },
    {
     "name": "stdout",
     "output_type": "stream",
     "text": [
      "  New input specifications:\n",
      "    <function> == 'sqrt' and <lead-digit> > 4.5 and <value> > 42.56649971008301\n",
      "    <function> == 'sqrt' and <lead-digit> > 4.5 and <term> > -11.5 and <value> > 42.56649971008301\n",
      "    <function> == 'sqrt' and <lead-digit> <= 4.5 and <term> <= -11.5 and <value> > 42.56649971008301\n",
      "    <function> == 'sqrt' and <lead-digit> > 4.5 and <term> <= -11.5 and <value> > 42.56649971008301\n",
      "    <function> == 'sqrt' and <lead-digit> > 4.5 and <term> > -11.5 and <value> <= 42.56649971008301\n",
      "    <function> == 'sqrt' and <lead-digit> <= 4.5 and <value> > 42.56649971008301\n",
      "    <function> == 'sqrt'\n",
      "    <function> == 'sqrt' and <lead-digit> <= 4.5 and <term> > -11.5 and <value> > 42.56649971008301\n",
      "    <function> == 'sqrt' and <lead-digit> > 4.5 and <value> <= 42.56649971008301\n",
      "    <function> == 'sqrt'\n",
      "    <function> == 'sqrt' and <lead-digit> > 4.5\n",
      "    <function> == 'sqrt' and <lead-digit> > 4.5 and <term> <= -11.5 and <value> <= 42.56649971008301\n",
      "    <function> == 'sqrt' and <lead-digit> <= 4.5 and <term> <= -11.5 and <value> <= 42.56649971008301\n",
      "    <function> == 'sqrt' and <lead-digit> <= 4.5\n",
      "    <function> == 'sqrt' and <lead-digit> <= 4.5 and <value> <= 42.56649971008301\n",
      "    <function> == 'sqrt' and <lead-digit> <= 4.5 and <term> > -11.5 and <value> <= 42.56649971008301\n",
      "    <function> == 'sqrt' and <lead-digit> > 4.5\n"
     ]
    },
    {
     "name": "stdout",
     "output_type": "stream",
     "text": [
      "  New samples:\n",
      "    sqrt(54), sqrt(85524), sqrt(-350162), sqrt(-95), sqrt(9), sqrt(-5), sqrt(689.2), sqrt(586), sqrt(22.95), sqrt(6.7), sqrt(8.349248), sqrt(6.89), sqrt(6), sqrt(3.03), sqrt(-1.333), sqrt(621676), sqrt(5.198), sqrt(39.80), sqrt(-9.7), sqrt(61), sqrt(1.44), sqrt(4924), sqrt(4.4), sqrt(3521), sqrt(51), sqrt(-8.82), sqrt(6.2), sqrt(-9.4), sqrt(8.02), sqrt(-20), sqrt(908), sqrt(17.9), sqrt(-88.8), sqrt(-5), sqrt(-84.806), sqrt(-9.1), sqrt(-25.63), sqrt(15.1), sqrt(-8), sqrt(-6), sqrt(-37.2), sqrt(8), sqrt(3), sqrt(-8.8), sqrt(-3), sqrt(6), sqrt(-31), tan(1.9), sin(-77.78), sqrt(-30.40), sqrt(-62.0), tan(-22), sqrt(-2982), sqrt(-2399), tan(-25), sqrt(38.986), sqrt(20), sqrt(28), sqrt(40), sqrt(7.34), sqrt(-9.1), sin(-11), sqrt(2), cos(26.44), sqrt(3), sin(32.8), sqrt(4.31), sqrt(-2), sqrt(190.15), sqrt(0), sqrt(-1.683), sqrt(4.8), sqrt(-4.4), sqrt(4), sqrt(-8), sin(13.857), sqrt(4.7), sqrt(1), sqrt(7.9), sqrt(332.3), cos(14), sqrt(-789)\n",
      "\n",
      "Iteration #8\n",
      "  Decision Tree:\n",
      "    if <term> <= -15.6500:\n",
      "      if <term> <= -42.0165:\n",
      "        if <digit> == '8':\n",
      "          NO_BUG\n",
      "        else:\n",
      "          NO_BUG\n",
      "      else:\n",
      "        if <function> == 'sqrt':\n",
      "          BUG\n",
      "        else:\n",
      "          NO_BUG\n",
      "    else:\n",
      "      NO_BUG\n",
      "\n",
      "  New input specifications:\n",
      "    <digit> == '8' and <term> <= -42.01650047302246\n",
      "    <term> > -15.650000095367432\n",
      "    <digit> == '8' and <term> <= -42.01650047302246\n",
      "    <term> <= -15.650000095367432\n",
      "    <digit> == '8' and <term> > -42.01650047302246\n",
      "    <digit> == '8' and <term> > -42.01650047302246\n"
     ]
    },
    {
     "name": "stdout",
     "output_type": "stream",
     "text": [
      "  New samples:\n",
      "    sqrt(-74), cos(-4.0), tan(-12813.7), cos(-36614), cos(6.7832), tan(30.0)\n",
      "\n",
      "Iteration #9\n",
      "  Decision Tree:\n",
      "    if <term> <= -15.6500:\n",
      "      if <term> <= -42.0165:\n",
      "        if <function> == 'sqrt':\n",
      "          NO_BUG\n",
      "        else:\n",
      "          NO_BUG\n",
      "      else:\n",
      "        if <function> == 'sqrt':\n",
      "          BUG\n",
      "        else:\n",
      "          if <digit> == '5':\n",
      "            NO_BUG\n",
      "          else:\n",
      "            NO_BUG\n",
      "    else:\n",
      "      NO_BUG\n",
      "\n",
      "  New input specifications:\n",
      "    <term> > -15.650000095367432\n",
      "    <term> <= -15.650000095367432\n",
      "    <function> == 'sqrt' and <term> <= -42.01650047302246\n",
      "    <function> == 'sqrt' and <term> > -42.01650047302246\n",
      "    <function> == 'sqrt' and <term> > -42.01650047302246\n",
      "    <function> == 'sqrt' and <term> <= -42.01650047302246\n"
     ]
    },
    {
     "name": "stdout",
     "output_type": "stream",
     "text": [
      "  New samples:\n",
      "    sqrt(929.73), sin(-629.102), sqrt(-77), sin(0.16), sqrt(599), cos(-60166146.5)\n",
      "\n",
      "Iteration #10\n",
      "  Decision Tree:\n",
      "    if <term> <= -15.6500:\n",
      "      if <term> <= -42.0165:\n",
      "        NO_BUG\n",
      "      else:\n",
      "        if <function> == 'sqrt':\n",
      "          BUG\n",
      "        else:\n",
      "          NO_BUG\n",
      "    else:\n",
      "      if <digit> == '8':\n",
      "        NO_BUG\n",
      "      else:\n",
      "        NO_BUG\n",
      "\n",
      "  New input specifications:\n",
      "    <digit> == '8' and <term> <= -15.650000095367432\n",
      "    <digit> == '8' and <term> > -15.650000095367432\n",
      "    <term> > -42.01650047302246\n",
      "    <term> <= -42.01650047302246\n",
      "    <digit> == '8' and <term> <= -15.650000095367432\n",
      "    <digit> == '8' and <term> > -15.650000095367432\n"
     ]
    },
    {
     "name": "stdout",
     "output_type": "stream",
     "text": [
      "  New samples:\n",
      "    sqrt(-6853.5418911), sin(-8), cos(-5), sin(-91.10), tan(-537549), tan(3)\n",
      "\n",
      "Iteration #11\n",
      "  Decision Tree:\n",
      "    if <term> <= -15.6500:\n",
      "      if <term> <= -42.0165:\n",
      "        if <function> == 'sqrt':\n",
      "          NO_BUG\n",
      "        else:\n",
      "          NO_BUG\n",
      "      else:\n",
      "        if <function> == 'sqrt':\n",
      "          BUG\n",
      "        else:\n",
      "          NO_BUG\n",
      "    else:\n",
      "      NO_BUG\n",
      "\n",
      "  New input specifications:\n",
      "    <term> > -15.650000095367432\n",
      "    <term> <= -15.650000095367432\n",
      "    <function> == 'sqrt' and <term> <= -42.01650047302246\n",
      "    <function> == 'sqrt' and <term> > -42.01650047302246\n",
      "    <function> == 'sqrt' and <term> > -42.01650047302246\n",
      "    <function> == 'sqrt' and <term> <= -42.01650047302246\n"
     ]
    },
    {
     "name": "stdout",
     "output_type": "stream",
     "text": [
      "  New samples:\n",
      "    tan(5.234), tan(-98593), sqrt(-5640572), cos(95), sqrt(-8), tan(-994.79)\n",
      "\n",
      "Iteration #12\n",
      "  Decision Tree:\n",
      "    if <term> <= -15.6500:\n",
      "      if <term> <= -42.0165:\n",
      "        if <term> <= -4337503456.0000:\n",
      "          NO_BUG\n",
      "        else:\n",
      "          NO_BUG\n",
      "      else:\n",
      "        if <function> == 'sqrt':\n",
      "          BUG\n",
      "        else:\n",
      "          if <digit> == '5':\n",
      "            NO_BUG\n",
      "          else:\n",
      "            NO_BUG\n",
      "    else:\n",
      "      NO_BUG\n",
      "\n",
      "  New input specifications:\n",
      "    <term> <= -4337503456.0\n",
      "    <term> > -15.650000095367432\n",
      "    <term> <= -15.650000095367432\n",
      "    <term> > -4337503456.0\n"
     ]
    },
    {
     "name": "stdout",
     "output_type": "stream",
     "text": [
      "  New samples:\n",
      "    sin(8.14), tan(-39.1), sqrt(-57.35), tan(-2), tan(-43.8), tan(-1), sqrt(-910), cos(5), sqrt(1), sqrt(-69), cos(-0), sqrt(-1.7), cos(37), sqrt(-17), cos(89253237), sqrt(6.346), sin(-10), tan(-97.1), sin(-2), sin(-4.1), cos(-73535.8), sqrt(-5), tan(-4299), sin(-0.3), tan(-4), cos(-578), tan(-34.8), tan(2584.07), cos(-4.1), sqrt(380), tan(3.3), sin(5), sin(-4.43), sqrt(94.76), sin(86912), sqrt(1), cos(0.6), sqrt(-4.7), cos(-1), cos(18.15), cos(-84.59), cos(83.6778), sqrt(839), sqrt(152.4), tan(-8), sqrt(2.7), cos(7931.22), sqrt(653.7943), tan(-3.5), sqrt(367574), tan(-42), sqrt(-21.881), sin(-65704), sqrt(-0), cos(854.6), sin(43), tan(6145.0), tan(-6201), cos(12756), sqrt(137), tan(2940.0), cos(-8), cos(73.946976), sqrt(3), sin(-3), cos(972247.7), cos(7), tan(73.96), tan(-0), sin(-1.403), sin(-21.6), sin(27.2), sqrt(49.4), tan(-171), sqrt(-31.146), tan(-4), sin(-227), sin(98.3), cos(-9), sin(-3), cos(-74), cos(-38.88), sqrt(-85), sqrt(-8), tan(-30), sin(-6171), sin(-6), tan(-0.44060), tan(-766.7), tan(42.3), tan(-5460.24), sin(4.6), tan(0.5), sqrt(6.3088371), cos(250271), tan(-30.3), sqrt(-0.6316622), sin(5.7899), sqrt(0), cos(-5), tan(-6), sin(-24.2), sqrt(-36164)\n",
      "\n",
      "Iteration #13\n",
      "  Decision Tree:\n",
      "    if <term> <= -15.6500:\n",
      "      if <value> <= 41.5165:\n",
      "        if <function> == 'sqrt':\n",
      "          BUG\n",
      "        else:\n",
      "          if <lead-digit> == '3':\n",
      "            NO_BUG\n",
      "          else:\n",
      "            NO_BUG\n",
      "      else:\n",
      "        if <lead-digit> == '5':\n",
      "          NO_BUG\n",
      "        else:\n",
      "          NO_BUG\n",
      "    else:\n",
      "      if <digit>:\n",
      "        NO_BUG\n",
      "      else:\n",
      "        NO_BUG\n",
      "\n"
     ]
    },
    {
     "name": "stdout",
     "output_type": "stream",
     "text": [
      "  New input specifications:\n",
      "    <function> == 'sqrt' and <lead-digit> == '3' and <term> > -15.650000095367432 and <value> <= 41.51650047302246\n",
      "    <function> == 'sqrt' and <term> <= -15.650000095367432 and <value> <= 41.51650047302246\n",
      "    <function> == 'sqrt' and <lead-digit> == '3' and <term> <= -15.650000095367432 and <value> > 41.51650047302246\n",
      "    <function> == 'sqrt' and <lead-digit> == '3' and <term> > -15.650000095367432 and <value> > 41.51650047302246\n",
      "    <lead-digit> == '5' and <term> > -15.650000095367432 and <value> <= 41.51650047302246\n",
      "    <function> == 'sqrt' and <lead-digit> == '3' and <term> > -15.650000095367432 and <value> <= 41.51650047302246\n",
      "    <digit> > 0.5 and <term> <= -15.650000095367432\n",
      "    <digit> <= 0.5 and <term> > -15.650000095367432\n",
      "    <lead-digit> == '5' and <term> <= -15.650000095367432 and <value> > 41.51650047302246\n",
      "    <function> == 'sqrt' and <lead-digit> == '3' and <term> <= -15.650000095367432 and <value> > 41.51650047302246\n",
      "    <lead-digit> == '5' and <term> > -15.650000095367432 and <value> > 41.51650047302246\n",
      "    <lead-digit> == '5' and <term> > -15.650000095367432 and <value> <= 41.51650047302246\n",
      "    <lead-digit> == '5' and <term> <= -15.650000095367432 and <value> > 41.51650047302246\n",
      "    <lead-digit> == '5' and <term> <= -15.650000095367432 and <value> <= 41.51650047302246\n",
      "    <digit> > 0.5 and <term> > -15.650000095367432\n",
      "    <function> == 'sqrt' and <term> > -15.650000095367432 and <value> <= 41.51650047302246\n",
      "    <digit> <= 0.5 and <term> <= -15.650000095367432\n",
      "    <function> == 'sqrt' and <lead-digit> == '3' and <term> > -15.650000095367432 and <value> > 41.51650047302246\n",
      "    <function> == 'sqrt' and <term> > -15.650000095367432 and <value> > 41.51650047302246\n",
      "    <function> == 'sqrt' and <term> <= -15.650000095367432 and <value> > 41.51650047302246\n",
      "    <lead-digit> == '5' and <term> <= -15.650000095367432 and <value> <= 41.51650047302246\n",
      "    <function> == 'sqrt' and <lead-digit> == '3' and <term> <= -15.650000095367432 and <value> <= 41.51650047302246\n",
      "    <function> == 'sqrt' and <lead-digit> == '3' and <term> <= -15.650000095367432 and <value> <= 41.51650047302246\n",
      "    <lead-digit> == '5' and <term> > -15.650000095367432 and <value> > 41.51650047302246\n"
     ]
    },
    {
     "name": "stdout",
     "output_type": "stream",
     "text": [
      "  New samples:\n",
      "    tan(4.1), sqrt(-23.556), cos(-381226), cos(56412), sqrt(-1.061), sin(12), sin(54), cos(1), tan(-7.5), sin(-1.83), tan(-5), sin(-8), sqrt(-9), cos(6.94524), sqrt(-4.9), sqrt(-2.3), tan(-3.593250), cos(-5), tan(7), tan(37), sqrt(11), sqrt(1.0), sqrt(0.3), tan(0), sin(-0.870), sqrt(9.9), sqrt(6.4), tan(-6.5421), sqrt(-5), sin(8), sin(-8), sqrt(-2), sin(4.72), cos(-4), tan(-5.8), sqrt(8), sqrt(7.9), sqrt(-2), tan(-6), sin(-5), tan(1), cos(-3), sin(-4.76), sqrt(-3), sqrt(32.69), sin(-6), tan(7), tan(7.4), cos(5), sqrt(5), cos(5), sin(-0.2), sqrt(-8.71), tan(5.663), sqrt(4.61879), sin(-5.8), sqrt(4.7), tan(-9.3), tan(-6.0647), sqrt(-8.4), cos(-0.5), sin(522), sqrt(-3), sin(1.908), tan(1.6), sqrt(54), sin(30.6574), cos(-72239.8), tan(0), tan(-44), cos(-125743), sqrt(64.578), cos(2), sin(-57.2), cos(-19), sqrt(67), sqrt(-5.47), cos(-57), cos(-76.94), cos(-56.7428), sqrt(-75), sqrt(-73), cos(-3898.8), tan(-69606), sqrt(-222), tan(-70.676396), sin(-77), cos(-36), cos(-43.62), sin(-526.6), tan(-840.0), sin(-57), sin(-91.7), tan(-660), tan(-412), sqrt(-58), tan(369), sqrt(783.765), sqrt(-258450.2), cos(-26), sin(-5425.227947), sin(-35.3), tan(-500.1), sin(-17.71), sin(-38.1), sqrt(51.9)\n",
      "\n",
      "Iteration #14\n",
      "  Decision Tree:\n",
      "    if <term> <= -15.6500:\n",
      "      if <integer> <= 41.5000:\n",
      "        if <function> == 'sqrt':\n",
      "          BUG\n",
      "        else:\n",
      "          if <lead-digit> == '2':\n",
      "            NO_BUG\n",
      "          else:\n",
      "            NO_BUG\n",
      "      else:\n",
      "        NO_BUG\n",
      "    else:\n",
      "      NO_BUG\n",
      "\n"
     ]
    },
    {
     "name": "stdout",
     "output_type": "stream",
     "text": [
      "  New input specifications:\n",
      "    <function> == 'sqrt' and <integer> <= 41.5 and <term> > -15.650000095367432\n",
      "    <function> == 'sqrt' and <lead-digit> == '2' and <integer> > 41.5 and <term> > -15.650000095367432\n",
      "    <function> == 'sqrt' and <lead-digit> == '2' and <integer> > 41.5 and <term> > -15.650000095367432\n",
      "    <term> > -15.650000095367432\n",
      "    <integer> > 41.5 and <term> <= -15.650000095367432\n",
      "    <function> == 'sqrt' and <lead-digit> == '2' and <integer> <= 41.5 and <term> <= -15.650000095367432\n",
      "    <term> <= -15.650000095367432\n",
      "    <function> == 'sqrt' and <lead-digit> == '2' and <integer> <= 41.5 and <term> > -15.650000095367432\n",
      "    <function> == 'sqrt' and <lead-digit> == '2' and <integer> > 41.5 and <term> <= -15.650000095367432\n",
      "    <integer> <= 41.5 and <term> <= -15.650000095367432\n",
      "    <function> == 'sqrt' and <lead-digit> == '2' and <integer> <= 41.5 and <term> > -15.650000095367432\n",
      "    <function> == 'sqrt' and <integer> <= 41.5 and <term> <= -15.650000095367432\n",
      "    <function> == 'sqrt' and <integer> > 41.5 and <term> > -15.650000095367432\n",
      "    <function> == 'sqrt' and <lead-digit> == '2' and <integer> <= 41.5 and <term> <= -15.650000095367432\n",
      "    <function> == 'sqrt' and <lead-digit> == '2' and <integer> > 41.5 and <term> <= -15.650000095367432\n",
      "    <integer> > 41.5 and <term> > -15.650000095367432\n",
      "    <function> == 'sqrt' and <integer> > 41.5 and <term> <= -15.650000095367432\n"
     ]
    },
    {
     "name": "stdout",
     "output_type": "stream",
     "text": [
      "  New samples:\n",
      "    sqrt(5), tan(150.877), sin(77), sin(916), sin(44.5), tan(92.0), tan(138.8), tan(-269.167), sin(82), tan(126), cos(43.55), tan(779), cos(5928.6), sin(88), cos(85.0), sin(-3.7261), cos(-504679), tan(-18.8), sin(-8203), cos(0), cos(-86.3), cos(-41), cos(22), sqrt(-26), sqrt(321.5290), tan(-26.9), tan(-285.9), cos(115), sqrt(-895)\n",
      "\n",
      "Iteration #15\n",
      "  Decision Tree:\n",
      "    if <term> <= -15.6500:\n",
      "      if <integer> <= 41.5000:\n",
      "        if <function> == 'sqrt':\n",
      "          if <digit> == '1':\n",
      "            BUG\n",
      "          else:\n",
      "            BUG\n",
      "        else:\n",
      "          NO_BUG\n",
      "      else:\n",
      "        if <digit> == '1':\n",
      "          NO_BUG\n",
      "        else:\n",
      "          NO_BUG\n",
      "    else:\n",
      "      if <lead-digit> == '3':\n",
      "        NO_BUG\n",
      "      else:\n",
      "        NO_BUG\n",
      "\n"
     ]
    },
    {
     "name": "stdout",
     "output_type": "stream",
     "text": [
      "  New input specifications:\n",
      "    <digit> == '1' and <integer> > 41.5 and <term> <= -15.650000095367432\n",
      "    <digit> == '1' and <integer> <= 41.5 and <term> > -15.650000095367432\n",
      "    <function> == 'sqrt' and <integer> > 41.5 and <term> <= -15.650000095367432\n",
      "    <digit> == '1' and <function> == 'sqrt' and <integer> > 41.5 and <term> <= -15.650000095367432\n",
      "    <digit> == '1' and <integer> <= 41.5 and <term> <= -15.650000095367432\n",
      "    <lead-digit> == '3' and <term> > -15.650000095367432\n",
      "    <digit> == '1' and <function> == 'sqrt' and <integer> <= 41.5 and <term> <= -15.650000095367432\n",
      "    <digit> == '1' and <integer> > 41.5 and <term> > -15.650000095367432\n",
      "    <digit> == '1' and <integer> <= 41.5 and <term> <= -15.650000095367432\n",
      "    <lead-digit> == '3' and <term> <= -15.650000095367432\n",
      "    <lead-digit> == '3' and <term> > -15.650000095367432\n",
      "    <digit> == '1' and <integer> > 41.5 and <term> <= -15.650000095367432\n",
      "    <digit> == '1' and <function> == 'sqrt' and <integer> > 41.5 and <term> > -15.650000095367432\n",
      "    <digit> == '1' and <integer> <= 41.5 and <term> > -15.650000095367432\n",
      "    <digit> == '1' and <function> == 'sqrt' and <integer> > 41.5 and <term> <= -15.650000095367432\n",
      "    <function> == 'sqrt' and <integer> > 41.5 and <term> > -15.650000095367432\n",
      "    <digit> == '1' and <function> == 'sqrt' and <integer> <= 41.5 and <term> > -15.650000095367432\n",
      "    <digit> == '1' and <function> == 'sqrt' and <integer> <= 41.5 and <term> > -15.650000095367432\n",
      "    <lead-digit> == '3' and <term> <= -15.650000095367432\n",
      "    <digit> == '1' and <integer> > 41.5 and <term> > -15.650000095367432\n",
      "    <digit> == '1' and <function> == 'sqrt' and <integer> <= 41.5 and <term> <= -15.650000095367432\n",
      "    <function> == 'sqrt' and <integer> <= 41.5 and <term> > -15.650000095367432\n",
      "    <digit> == '1' and <function> == 'sqrt' and <integer> > 41.5 and <term> > -15.650000095367432\n",
      "    <function> == 'sqrt' and <integer> <= 41.5 and <term> <= -15.650000095367432\n"
     ]
    },
    {
     "name": "stdout",
     "output_type": "stream",
     "text": [
      "  New samples:\n",
      "    cos(-372), sqrt(9.707), sin(-8418.9), sqrt(-42.5), sin(1.7), tan(-7.41), sqrt(1.10), sin(-6.2193), sqrt(5.1), sqrt(-1.073), sqrt(-23.68), cos(-34.284), tan(1.66), cos(-991.2173), cos(2.164), sin(-17.73), sin(-4570425.11), sin(-80160.46), tan(-14.12), sqrt(-8.61), cos(1), sqrt(-1), cos(-94.814), sin(-6.3), sqrt(-1), sqrt(5.801), sqrt(-841907.14), sqrt(-1.80), sqrt(-52.1), cos(5629.7), cos(-40.3), cos(-75), sin(30.63), cos(-61), sqrt(995.6), tan(-5.127), sqrt(9630.918), sqrt(-534), tan(-59.18187), sqrt(-99), sin(-97.01), sin(-34132), tan(-5714.9), sin(6809), sqrt(-15), sqrt(1.86), sqrt(-38.79), cos(35891), sqrt(-22), tan(7.675), sqrt(74715), cos(-26.77)\n",
      "\n",
      "Iteration #16\n",
      "  Decision Tree:\n",
      "    if <lead-digit> <= 4.5000:\n",
      "      if <function> == 'sqrt':\n",
      "        if <term> == '<value>':\n",
      "          NO_BUG\n",
      "        else:\n",
      "          if <term> <= -41.7665:\n",
      "            NO_BUG\n",
      "          else:\n",
      "            BUG\n",
      "      else:\n",
      "        NO_BUG\n",
      "    else:\n",
      "      NO_BUG\n",
      "\n"
     ]
    },
    {
     "name": "stdout",
     "output_type": "stream",
     "text": [
      "  New input specifications:\n",
      "    <function> == 'sqrt' and <term> == '<value>' and <lead-digit> <= 4.5\n",
      "    <function> == 'sqrt' and <term> == '<value>' and <lead-digit> > 4.5\n",
      "    <function> == 'sqrt' and <term> == '<value>' and <lead-digit> <= 4.5 and <term> > -41.76650047302246\n",
      "    <function> == 'sqrt' and <term> == '<value>' and <lead-digit> > 4.5 and <term> > -41.76650047302246\n",
      "    <function> == 'sqrt' and <term> == '<value>' and <lead-digit> <= 4.5 and <term> > -41.76650047302246\n",
      "    <function> == 'sqrt' and <lead-digit> <= 4.5\n",
      "    <function> == 'sqrt' and <term> == '<value>' and <lead-digit> > 4.5 and <term> <= -41.76650047302246\n",
      "    <function> == 'sqrt' and <lead-digit> > 4.5\n",
      "    <function> == 'sqrt' and <term> == '<value>' and <lead-digit> <= 4.5 and <term> <= -41.76650047302246\n",
      "    <function> == 'sqrt' and <term> == '<value>' and <lead-digit> <= 4.5 and <term> <= -41.76650047302246\n",
      "    <function> == 'sqrt' and <term> == '<value>' and <lead-digit> <= 4.5\n",
      "    <lead-digit> > 4.5\n",
      "    <function> == 'sqrt' and <lead-digit> <= 4.5\n",
      "    <function> == 'sqrt' and <term> == '<value>' and <lead-digit> > 4.5\n",
      "    <lead-digit> <= 4.5\n"
     ]
    },
    {
     "name": "stdout",
     "output_type": "stream",
     "text": [
      "  New samples:\n",
      "    sqrt(35.989), sqrt(-950.1), sqrt(-27.8), sqrt(694.91), sqrt(-5.2), sqrt(-0), sqrt(-3.08), sqrt(785), sqrt(-8), sqrt(925.21469), sqrt(-4), sqrt(-23.3), sqrt(-0), sqrt(-4), sqrt(67), sqrt(411.4), tan(-40), sqrt(-907.5), cos(846), sqrt(-45), sqrt(1062), sqrt(33766.9), sqrt(-386.88), sqrt(-272.1), cos(6327.5), sqrt(126.88), sqrt(8698), cos(-15.4681)\n",
      "\n",
      "Iteration #17\n",
      "  Decision Tree:\n",
      "    if <lead-digit> <= 4.5000:\n",
      "      if <function> == 'sqrt':\n",
      "        if <term> <= -11.1500:\n",
      "          if <term> <= -41.7665:\n",
      "            NO_BUG\n",
      "          else:\n",
      "            BUG\n",
      "        else:\n",
      "          NO_BUG\n",
      "      else:\n",
      "        NO_BUG\n",
      "    else:\n",
      "      NO_BUG\n",
      "\n"
     ]
    },
    {
     "name": "stdout",
     "output_type": "stream",
     "text": [
      "  New input specifications:\n",
      "    <function> == 'sqrt' and <lead-digit> > 4.5 and <term> > -41.76650047302246\n",
      "    <function> == 'sqrt' and <lead-digit> <= 4.5\n",
      "    <function> == 'sqrt' and <lead-digit> <= 4.5 and <term> <= -41.76650047302246\n",
      "    <function> == 'sqrt' and <lead-digit> > 4.5 and <term> <= -11.150000095367432\n",
      "    <function> == 'sqrt' and <lead-digit> <= 4.5 and <term> <= -11.150000095367432\n",
      "    <function> == 'sqrt' and <lead-digit> <= 4.5 and <term> > -41.76650047302246\n",
      "    <function> == 'sqrt' and <lead-digit> > 4.5\n",
      "    <function> == 'sqrt' and <lead-digit> <= 4.5 and <term> > -11.150000095367432\n",
      "    <lead-digit> > 4.5\n",
      "    <function> == 'sqrt' and <lead-digit> > 4.5 and <term> <= -41.76650047302246\n",
      "    <function> == 'sqrt' and <lead-digit> > 4.5 and <term> > -11.150000095367432\n",
      "    <function> == 'sqrt' and <lead-digit> <= 4.5\n",
      "    <lead-digit> <= 4.5\n"
     ]
    },
    {
     "name": "stdout",
     "output_type": "stream",
     "text": [
      "  New samples:\n",
      "    sqrt(70812), sin(115.655615855), sqrt(-86), sqrt(-25), tan(-45), tan(-167), tan(-100), sqrt(-60), sqrt(32227.792), tan(-43), sqrt(-68), sqrt(-7405), sqrt(-98508), sqrt(-26), sqrt(31), sqrt(-95), sqrt(-44.3), sqrt(300306.2), tan(87), sqrt(105.1), tan(63), sqrt(-86.80), sqrt(879.8), sqrt(33.042), cos(-37)\n",
      "\n",
      "Iteration #18\n",
      "  Decision Tree:\n",
      "    if <lead-digit> <= 4.5000:\n",
      "      if <function> == 'sqrt':\n",
      "        if <term> == '<value>':\n",
      "          NO_BUG\n",
      "        else:\n",
      "          if <term> <= -41.7665:\n",
      "            NO_BUG\n",
      "          else:\n",
      "            BUG\n",
      "      else:\n",
      "        NO_BUG\n",
      "    else:\n",
      "      NO_BUG\n",
      "\n"
     ]
    },
    {
     "name": "stdout",
     "output_type": "stream",
     "text": [
      "  New input specifications:\n",
      "    <function> == 'sqrt' and <term> == '<value>' and <lead-digit> <= 4.5\n",
      "    <function> == 'sqrt' and <term> == '<value>' and <lead-digit> > 4.5\n",
      "    <function> == 'sqrt' and <term> == '<value>' and <lead-digit> <= 4.5 and <term> > -41.76650047302246\n",
      "    <function> == 'sqrt' and <term> == '<value>' and <lead-digit> > 4.5 and <term> > -41.76650047302246\n",
      "    <function> == 'sqrt' and <term> == '<value>' and <lead-digit> <= 4.5 and <term> > -41.76650047302246\n",
      "    <function> == 'sqrt' and <lead-digit> <= 4.5\n",
      "    <function> == 'sqrt' and <term> == '<value>' and <lead-digit> > 4.5 and <term> <= -41.76650047302246\n",
      "    <function> == 'sqrt' and <lead-digit> > 4.5\n",
      "    <function> == 'sqrt' and <term> == '<value>' and <lead-digit> <= 4.5 and <term> <= -41.76650047302246\n",
      "    <function> == 'sqrt' and <term> == '<value>' and <lead-digit> <= 4.5 and <term> <= -41.76650047302246\n",
      "    <function> == 'sqrt' and <term> == '<value>' and <lead-digit> <= 4.5\n",
      "    <lead-digit> > 4.5\n",
      "    <function> == 'sqrt' and <lead-digit> <= 4.5\n",
      "    <function> == 'sqrt' and <term> == '<value>' and <lead-digit> > 4.5\n",
      "    <lead-digit> <= 4.5\n"
     ]
    },
    {
     "name": "stdout",
     "output_type": "stream",
     "text": [
      "  New samples:\n",
      "    sqrt(38), sqrt(-80.2), sqrt(-12), sqrt(9534), sqrt(-54.776), sqrt(690), sqrt(-74.4), sqrt(-75), sqrt(-1), sqrt(7518401677), sqrt(-0), sqrt(-4), sqrt(87.02), sqrt(-2), sqrt(-82284597690.6), sqrt(-5), sqrt(21.95), tan(-463), sqrt(-783), cos(79), sqrt(-4677), sqrt(284), sqrt(-151), sqrt(11), sqrt(-27366), sqrt(-407), sqrt(-338.2028), sqrt(98.1), sqrt(15.40), sqrt(63), tan(16)\n",
      "\n",
      "Iteration #19\n",
      "  Decision Tree:\n",
      "    if <lead-digit> <= 3.5000:\n",
      "      if <function> == 'sqrt':\n",
      "        if <term> == '-<value>':\n",
      "          if <term> <= -94.8950:\n",
      "            NO_BUG\n",
      "          else:\n",
      "            if <integer> <= 13.5000:\n",
      "              BUG\n",
      "            else:\n",
      "              BUG\n",
      "        else:\n",
      "          NO_BUG\n",
      "      else:\n",
      "        if <term> <= -1530829.2500:\n",
      "          NO_BUG\n",
      "        else:\n",
      "          NO_BUG\n",
      "    else:\n",
      "      if <lead-digit> <= 4.5000:\n",
      "        if <integer> <= 41.5000:\n",
      "          if <value> <= 41.0165:\n",
      "            if <digits>:\n",
      "              NO_BUG\n",
      "            else:\n",
      "              NO_BUG\n",
      "          else:\n",
      "            BUG\n",
      "        else:\n",
      "          NO_BUG\n",
      "      else:\n",
      "        if <digit> == '7':\n",
      "          NO_BUG\n",
      "        else:\n",
      "          NO_BUG\n",
      "\n"
     ]
    },
    {
     "name": "stdout",
     "output_type": "stream",
     "text": [
      "  New input specifications:\n",
      "    <function> == 'sqrt' and <lead-digit> <= 3.5 and <term> <= -1530829.25\n",
      "    <digit> == '7' and <lead-digit> > 4.5\n",
      "    <function> == 'sqrt' and <term> == '-<value>' and <lead-digit> > 3.5\n",
      "    <digit> == '7' and <lead-digit> <= 4.5\n",
      "    <function> == 'sqrt' and <lead-digit> > 3.5 and <term> <= -1530829.25\n",
      "    <function> == 'sqrt' and <term> == '-<value>' and <lead-digit> <= 3.5\n",
      "    <function> == 'sqrt' and <term> == '-<value>' and <integer> > 13.5 and <lead-digit> <= 3.5 and <term> > -94.89500045776367\n",
      "    <function> == 'sqrt' and <term> == '-<value>' and <integer> <= 13.5 and <lead-digit> <= 3.5 and <term> > -94.89500045776367\n",
      "    <function> == 'sqrt' and <term> == '-<value>' and <integer> <= 13.5 and <lead-digit> > 3.5 and <term> > -94.89500045776367\n",
      "    <function> == 'sqrt' and <term> == '-<value>' and <lead-digit> <= 3.5\n",
      "    <function> == 'sqrt' and <term> == '-<value>' and <integer> <= 13.5 and <lead-digit> <= 3.5 and <term> <= -94.89500045776367\n",
      "    <function> == 'sqrt' and <term> == '-<value>' and <lead-digit> <= 3.5 and <term> <= -94.89500045776367\n",
      "    <function> == 'sqrt' and <term> == '-<value>' and <integer> > 13.5 and <lead-digit> > 3.5 and <term> > -94.89500045776367\n",
      "    <function> == 'sqrt' and <lead-digit> > 3.5 and <term> > -1530829.25\n",
      "    <function> == 'sqrt' and <term> == '-<value>' and <lead-digit> > 3.5 and <term> > -94.89500045776367\n",
      "    <function> == 'sqrt' and <term> == '-<value>' and <lead-digit> <= 3.5 and <term> <= -94.89500045776367\n",
      "    <function> == 'sqrt' and <term> == '-<value>' and <lead-digit> > 3.5\n",
      "    <function> == 'sqrt' and <term> == '-<value>' and <lead-digit> <= 3.5 and <term> > -94.89500045776367\n",
      "    <function> == 'sqrt' and <term> == '-<value>' and <lead-digit> > 3.5 and <term> <= -94.89500045776367\n",
      "    <function> == 'sqrt' and <term> == '-<value>' and <integer> > 13.5 and <lead-digit> <= 3.5 and <term> <= -94.89500045776367\n",
      "    <digit> == '7' and <lead-digit> <= 4.5\n",
      "    <digit> == '7' and <lead-digit> > 4.5\n",
      "    <function> == 'sqrt' and <lead-digit> <= 3.5 and <term> > -1530829.25\n"
     ]
    },
    {
     "name": "stdout",
     "output_type": "stream",
     "text": [
      "  New samples:\n",
      "    tan(354.30), tan(-23), sin(-14), sin(-2506.60683), tan(-28273.15), cos(21), cos(-355.7), sin(-285.3), cos(72.73), sqrt(-820), sqrt(-2803), cos(-745), tan(-86), sin(773), sin(-472960), sin(93.51), tan(435.2), tan(9221.5940), tan(65708), cos(-972.1), tan(-785), tan(47), sin(732), sin(42580.2), sin(-9700), sin(-7046), tan(-846), cos(8036128.2), tan(-90.9), sin(75), tan(50), cos(-556), sin(-71), tan(-77), sqrt(16553.8), sqrt(-2368.8), sqrt(-45.3), sin(-24.0), sqrt(163), sin(-36), sqrt(-77.258), tan(-36), tan(-19.09), sqrt(-40), sqrt(-4.478), sqrt(-30.815), sqrt(-16.25), tan(-13.8), sqrt(-54), sqrt(-42.8), sqrt(-6.97), sqrt(-3.7), sqrt(-76), sqrt(-5), sqrt(-6), sqrt(-1), sqrt(-0), sqrt(-24541.55), sqrt(-6), sqrt(-784), sqrt(-14.07), sqrt(-478), sqrt(-22), sqrt(-0), sqrt(-7.8), tan(-295), cos(-302.20019), sqrt(-9), sqrt(-3.8), sqrt(-18.080), sqrt(-2), sqrt(-80585.7), tan(-11.91), sqrt(-764), sqrt(152), sqrt(-299.9), sqrt(37), sqrt(-68), sin(9218.7), sqrt(-2), sqrt(-4), sqrt(-8.2), sqrt(7560.6), sin(-94.65), tan(-55), sqrt(-6.2), tan(-59), sqrt(479.30171938), sqrt(681), sqrt(-4), sqrt(-9.7), sqrt(904), sqrt(-0.43), sqrt(-2.1), sin(-84), sqrt(-0), sqrt(63.8), sqrt(-9.1), sqrt(960.47281930), sqrt(-8), sqrt(-7), sqrt(-1.8), cos(-80.57), sin(-68), sqrt(-3789), sqrt(577.82), sqrt(-12), sqrt(-4043.9), sqrt(-94.9), cos(-3332.2), sin(-289167.2871), sqrt(-19.32733), sqrt(-60395), tan(-3543), sqrt(-580.03), tan(-2370.280), sin(-208), tan(-2044586.876), sqrt(-23.0), cos(-276.26), cos(-394.802402), sqrt(-38.2), sqrt(237.5), cos(69.1), sin(-253)\n",
      "\n",
      "Iteration #20\n",
      "  Decision Tree:\n",
      "    if <lead-digit> <= 4.5000:\n",
      "      if <function> == 'sqrt':\n",
      "        if <value> <= 41.7665:\n",
      "          if <term> == '-<value>':\n",
      "            BUG\n",
      "          else:\n",
      "            NO_BUG\n",
      "        else:\n",
      "          NO_BUG\n",
      "      else:\n",
      "        NO_BUG\n",
      "    else:\n",
      "      NO_BUG\n",
      "\n"
     ]
    },
    {
     "name": "stdout",
     "output_type": "stream",
     "text": [
      "  New input specifications:\n",
      "    <function> == 'sqrt' and <lead-digit> > 4.5 and <value> <= 41.76650047302246\n",
      "    <function> == 'sqrt' and <term> == '-<value>' and <lead-digit> > 4.5 and <value> <= 41.76650047302246\n",
      "    <function> == 'sqrt' and <lead-digit> <= 4.5 and <value> > 41.76650047302246\n",
      "    <function> == 'sqrt' and <term> == '-<value>' and <lead-digit> <= 4.5 and <value> > 41.76650047302246\n",
      "    <lead-digit> > 4.5\n",
      "    <lead-digit> <= 4.5\n",
      "    <function> == 'sqrt' and <term> == '-<value>' and <lead-digit> > 4.5 and <value> > 41.76650047302246\n",
      "    <function> == 'sqrt' and <lead-digit> <= 4.5\n",
      "    <function> == 'sqrt' and <lead-digit> > 4.5\n",
      "    <function> == 'sqrt' and <term> == '-<value>' and <lead-digit> <= 4.5 and <value> <= 41.76650047302246\n",
      "    <function> == 'sqrt' and <term> == '-<value>' and <lead-digit> > 4.5 and <value> <= 41.76650047302246\n",
      "    <function> == 'sqrt' and <term> == '-<value>' and <lead-digit> > 4.5 and <value> > 41.76650047302246\n",
      "    <function> == 'sqrt' and <lead-digit> > 4.5 and <value> > 41.76650047302246\n",
      "    <function> == 'sqrt' and <lead-digit> <= 4.5\n",
      "    <function> == 'sqrt' and <term> == '-<value>' and <lead-digit> <= 4.5 and <value> > 41.76650047302246\n",
      "    <function> == 'sqrt' and <term> == '-<value>' and <lead-digit> <= 4.5 and <value> <= 41.76650047302246\n",
      "    <function> == 'sqrt' and <lead-digit> <= 4.5 and <value> <= 41.76650047302246\n"
     ]
    },
    {
     "name": "stdout",
     "output_type": "stream",
     "text": [
      "  New samples:\n",
      "    sqrt(-8.93), sqrt(-30.17), sqrt(6.536), sqrt(12.22), sqrt(-80), sqrt(9), sqrt(-5), sqrt(5.3), sqrt(-3.4), sqrt(-81.62), sqrt(-1), sqrt(50822), sqrt(9.7), sqrt(-0), sqrt(57308.728), sqrt(-26), sqrt(-2.8), sqrt(-7), sqrt(8), sqrt(-59), sqrt(-4), sqrt(1.1), sqrt(36), sqrt(-551220.4), sqrt(2), sqrt(6.388), sqrt(0.5), sqrt(-6), sqrt(-12.2), sqrt(-965), sqrt(-37), sqrt(-0), sqrt(-33), sqrt(-3.7), sqrt(-2.92), sqrt(-957.82897), sqrt(-13580), sqrt(-49.6), sqrt(972), sin(176), sqrt(65796), cos(138988162.948), cos(99), sin(30.0), sqrt(-31), tan(38), sqrt(6), sqrt(436.3512), tan(11.1329), cos(12.1), sqrt(6), sqrt(5), sqrt(2), sqrt(7.207), sqrt(6), sqrt(1), sqrt(61.84263), sqrt(22), sqrt(9), sqrt(3), sqrt(97.05), sqrt(5.6), sqrt(2.209365), sqrt(3), sqrt(6.6), sqrt(-900.97008), sqrt(-97.650), sqrt(39), sqrt(48503.68), sin(-22.2), sqrt(-6), sqrt(-192), sin(-12.7), tan(-22), sqrt(-3085.50), sqrt(-5.0464), sqrt(-4), sqrt(-6), sqrt(-278750), sin(-17.8), sqrt(-13)\n"
     ]
    }
   ],
   "source": [
    "alhazen = Alhazen(sample_runner, CALC_GRAMMAR, initial_sample_list,\n",
    "                  verbose=True,\n",
    "                  max_iterations=MAX_ITERATIONS,\n",
    "                  generator_timeout=GENERATOR_TIMEOUT)\n",
    "alhazen.run()"
   ]
  },
  {
   "cell_type": "markdown",
   "metadata": {
    "slideshow": {
     "slide_type": "subslide"
    }
   },
   "source": [
    "To access the final decision tree learned by Alhazen, use:"
   ]
  },
  {
   "cell_type": "code",
   "execution_count": 103,
   "metadata": {
    "execution": {
     "iopub.execute_input": "2025-01-07T11:07:54.882195Z",
     "iopub.status.busy": "2025-01-07T11:07:54.882086Z",
     "iopub.status.idle": "2025-01-07T11:07:54.888070Z",
     "shell.execute_reply": "2025-01-07T11:07:54.887813Z"
    },
    "slideshow": {
     "slide_type": "fragment"
    }
   },
   "outputs": [
    {
     "data": {
      "text/html": [
       "<style>#sk-container-id-1 {\n",
       "  /* Definition of color scheme common for light and dark mode */\n",
       "  --sklearn-color-text: #000;\n",
       "  --sklearn-color-text-muted: #666;\n",
       "  --sklearn-color-line: gray;\n",
       "  /* Definition of color scheme for unfitted estimators */\n",
       "  --sklearn-color-unfitted-level-0: #fff5e6;\n",
       "  --sklearn-color-unfitted-level-1: #f6e4d2;\n",
       "  --sklearn-color-unfitted-level-2: #ffe0b3;\n",
       "  --sklearn-color-unfitted-level-3: chocolate;\n",
       "  /* Definition of color scheme for fitted estimators */\n",
       "  --sklearn-color-fitted-level-0: #f0f8ff;\n",
       "  --sklearn-color-fitted-level-1: #d4ebff;\n",
       "  --sklearn-color-fitted-level-2: #b3dbfd;\n",
       "  --sklearn-color-fitted-level-3: cornflowerblue;\n",
       "\n",
       "  /* Specific color for light theme */\n",
       "  --sklearn-color-text-on-default-background: var(--sg-text-color, var(--theme-code-foreground, var(--jp-content-font-color1, black)));\n",
       "  --sklearn-color-background: var(--sg-background-color, var(--theme-background, var(--jp-layout-color0, white)));\n",
       "  --sklearn-color-border-box: var(--sg-text-color, var(--theme-code-foreground, var(--jp-content-font-color1, black)));\n",
       "  --sklearn-color-icon: #696969;\n",
       "\n",
       "  @media (prefers-color-scheme: dark) {\n",
       "    /* Redefinition of color scheme for dark theme */\n",
       "    --sklearn-color-text-on-default-background: var(--sg-text-color, var(--theme-code-foreground, var(--jp-content-font-color1, white)));\n",
       "    --sklearn-color-background: var(--sg-background-color, var(--theme-background, var(--jp-layout-color0, #111)));\n",
       "    --sklearn-color-border-box: var(--sg-text-color, var(--theme-code-foreground, var(--jp-content-font-color1, white)));\n",
       "    --sklearn-color-icon: #878787;\n",
       "  }\n",
       "}\n",
       "\n",
       "#sk-container-id-1 {\n",
       "  color: var(--sklearn-color-text);\n",
       "}\n",
       "\n",
       "#sk-container-id-1 pre {\n",
       "  padding: 0;\n",
       "}\n",
       "\n",
       "#sk-container-id-1 input.sk-hidden--visually {\n",
       "  border: 0;\n",
       "  clip: rect(1px 1px 1px 1px);\n",
       "  clip: rect(1px, 1px, 1px, 1px);\n",
       "  height: 1px;\n",
       "  margin: -1px;\n",
       "  overflow: hidden;\n",
       "  padding: 0;\n",
       "  position: absolute;\n",
       "  width: 1px;\n",
       "}\n",
       "\n",
       "#sk-container-id-1 div.sk-dashed-wrapped {\n",
       "  border: 1px dashed var(--sklearn-color-line);\n",
       "  margin: 0 0.4em 0.5em 0.4em;\n",
       "  box-sizing: border-box;\n",
       "  padding-bottom: 0.4em;\n",
       "  background-color: var(--sklearn-color-background);\n",
       "}\n",
       "\n",
       "#sk-container-id-1 div.sk-container {\n",
       "  /* jupyter's `normalize.less` sets `[hidden] { display: none; }`\n",
       "     but bootstrap.min.css set `[hidden] { display: none !important; }`\n",
       "     so we also need the `!important` here to be able to override the\n",
       "     default hidden behavior on the sphinx rendered scikit-learn.org.\n",
       "     See: https://github.com/scikit-learn/scikit-learn/issues/21755 */\n",
       "  display: inline-block !important;\n",
       "  position: relative;\n",
       "}\n",
       "\n",
       "#sk-container-id-1 div.sk-text-repr-fallback {\n",
       "  display: none;\n",
       "}\n",
       "\n",
       "div.sk-parallel-item,\n",
       "div.sk-serial,\n",
       "div.sk-item {\n",
       "  /* draw centered vertical line to link estimators */\n",
       "  background-image: linear-gradient(var(--sklearn-color-text-on-default-background), var(--sklearn-color-text-on-default-background));\n",
       "  background-size: 2px 100%;\n",
       "  background-repeat: no-repeat;\n",
       "  background-position: center center;\n",
       "}\n",
       "\n",
       "/* Parallel-specific style estimator block */\n",
       "\n",
       "#sk-container-id-1 div.sk-parallel-item::after {\n",
       "  content: \"\";\n",
       "  width: 100%;\n",
       "  border-bottom: 2px solid var(--sklearn-color-text-on-default-background);\n",
       "  flex-grow: 1;\n",
       "}\n",
       "\n",
       "#sk-container-id-1 div.sk-parallel {\n",
       "  display: flex;\n",
       "  align-items: stretch;\n",
       "  justify-content: center;\n",
       "  background-color: var(--sklearn-color-background);\n",
       "  position: relative;\n",
       "}\n",
       "\n",
       "#sk-container-id-1 div.sk-parallel-item {\n",
       "  display: flex;\n",
       "  flex-direction: column;\n",
       "}\n",
       "\n",
       "#sk-container-id-1 div.sk-parallel-item:first-child::after {\n",
       "  align-self: flex-end;\n",
       "  width: 50%;\n",
       "}\n",
       "\n",
       "#sk-container-id-1 div.sk-parallel-item:last-child::after {\n",
       "  align-self: flex-start;\n",
       "  width: 50%;\n",
       "}\n",
       "\n",
       "#sk-container-id-1 div.sk-parallel-item:only-child::after {\n",
       "  width: 0;\n",
       "}\n",
       "\n",
       "/* Serial-specific style estimator block */\n",
       "\n",
       "#sk-container-id-1 div.sk-serial {\n",
       "  display: flex;\n",
       "  flex-direction: column;\n",
       "  align-items: center;\n",
       "  background-color: var(--sklearn-color-background);\n",
       "  padding-right: 1em;\n",
       "  padding-left: 1em;\n",
       "}\n",
       "\n",
       "\n",
       "/* Toggleable style: style used for estimator/Pipeline/ColumnTransformer box that is\n",
       "clickable and can be expanded/collapsed.\n",
       "- Pipeline and ColumnTransformer use this feature and define the default style\n",
       "- Estimators will overwrite some part of the style using the `sk-estimator` class\n",
       "*/\n",
       "\n",
       "/* Pipeline and ColumnTransformer style (default) */\n",
       "\n",
       "#sk-container-id-1 div.sk-toggleable {\n",
       "  /* Default theme specific background. It is overwritten whether we have a\n",
       "  specific estimator or a Pipeline/ColumnTransformer */\n",
       "  background-color: var(--sklearn-color-background);\n",
       "}\n",
       "\n",
       "/* Toggleable label */\n",
       "#sk-container-id-1 label.sk-toggleable__label {\n",
       "  cursor: pointer;\n",
       "  display: flex;\n",
       "  width: 100%;\n",
       "  margin-bottom: 0;\n",
       "  padding: 0.5em;\n",
       "  box-sizing: border-box;\n",
       "  text-align: center;\n",
       "  align-items: start;\n",
       "  justify-content: space-between;\n",
       "  gap: 0.5em;\n",
       "}\n",
       "\n",
       "#sk-container-id-1 label.sk-toggleable__label .caption {\n",
       "  font-size: 0.6rem;\n",
       "  font-weight: lighter;\n",
       "  color: var(--sklearn-color-text-muted);\n",
       "}\n",
       "\n",
       "#sk-container-id-1 label.sk-toggleable__label-arrow:before {\n",
       "  /* Arrow on the left of the label */\n",
       "  content: \"▸\";\n",
       "  float: left;\n",
       "  margin-right: 0.25em;\n",
       "  color: var(--sklearn-color-icon);\n",
       "}\n",
       "\n",
       "#sk-container-id-1 label.sk-toggleable__label-arrow:hover:before {\n",
       "  color: var(--sklearn-color-text);\n",
       "}\n",
       "\n",
       "/* Toggleable content - dropdown */\n",
       "\n",
       "#sk-container-id-1 div.sk-toggleable__content {\n",
       "  max-height: 0;\n",
       "  max-width: 0;\n",
       "  overflow: hidden;\n",
       "  text-align: left;\n",
       "  /* unfitted */\n",
       "  background-color: var(--sklearn-color-unfitted-level-0);\n",
       "}\n",
       "\n",
       "#sk-container-id-1 div.sk-toggleable__content.fitted {\n",
       "  /* fitted */\n",
       "  background-color: var(--sklearn-color-fitted-level-0);\n",
       "}\n",
       "\n",
       "#sk-container-id-1 div.sk-toggleable__content pre {\n",
       "  margin: 0.2em;\n",
       "  border-radius: 0.25em;\n",
       "  color: var(--sklearn-color-text);\n",
       "  /* unfitted */\n",
       "  background-color: var(--sklearn-color-unfitted-level-0);\n",
       "}\n",
       "\n",
       "#sk-container-id-1 div.sk-toggleable__content.fitted pre {\n",
       "  /* unfitted */\n",
       "  background-color: var(--sklearn-color-fitted-level-0);\n",
       "}\n",
       "\n",
       "#sk-container-id-1 input.sk-toggleable__control:checked~div.sk-toggleable__content {\n",
       "  /* Expand drop-down */\n",
       "  max-height: 200px;\n",
       "  max-width: 100%;\n",
       "  overflow: auto;\n",
       "}\n",
       "\n",
       "#sk-container-id-1 input.sk-toggleable__control:checked~label.sk-toggleable__label-arrow:before {\n",
       "  content: \"▾\";\n",
       "}\n",
       "\n",
       "/* Pipeline/ColumnTransformer-specific style */\n",
       "\n",
       "#sk-container-id-1 div.sk-label input.sk-toggleable__control:checked~label.sk-toggleable__label {\n",
       "  color: var(--sklearn-color-text);\n",
       "  background-color: var(--sklearn-color-unfitted-level-2);\n",
       "}\n",
       "\n",
       "#sk-container-id-1 div.sk-label.fitted input.sk-toggleable__control:checked~label.sk-toggleable__label {\n",
       "  background-color: var(--sklearn-color-fitted-level-2);\n",
       "}\n",
       "\n",
       "/* Estimator-specific style */\n",
       "\n",
       "/* Colorize estimator box */\n",
       "#sk-container-id-1 div.sk-estimator input.sk-toggleable__control:checked~label.sk-toggleable__label {\n",
       "  /* unfitted */\n",
       "  background-color: var(--sklearn-color-unfitted-level-2);\n",
       "}\n",
       "\n",
       "#sk-container-id-1 div.sk-estimator.fitted input.sk-toggleable__control:checked~label.sk-toggleable__label {\n",
       "  /* fitted */\n",
       "  background-color: var(--sklearn-color-fitted-level-2);\n",
       "}\n",
       "\n",
       "#sk-container-id-1 div.sk-label label.sk-toggleable__label,\n",
       "#sk-container-id-1 div.sk-label label {\n",
       "  /* The background is the default theme color */\n",
       "  color: var(--sklearn-color-text-on-default-background);\n",
       "}\n",
       "\n",
       "/* On hover, darken the color of the background */\n",
       "#sk-container-id-1 div.sk-label:hover label.sk-toggleable__label {\n",
       "  color: var(--sklearn-color-text);\n",
       "  background-color: var(--sklearn-color-unfitted-level-2);\n",
       "}\n",
       "\n",
       "/* Label box, darken color on hover, fitted */\n",
       "#sk-container-id-1 div.sk-label.fitted:hover label.sk-toggleable__label.fitted {\n",
       "  color: var(--sklearn-color-text);\n",
       "  background-color: var(--sklearn-color-fitted-level-2);\n",
       "}\n",
       "\n",
       "/* Estimator label */\n",
       "\n",
       "#sk-container-id-1 div.sk-label label {\n",
       "  font-family: monospace;\n",
       "  font-weight: bold;\n",
       "  display: inline-block;\n",
       "  line-height: 1.2em;\n",
       "}\n",
       "\n",
       "#sk-container-id-1 div.sk-label-container {\n",
       "  text-align: center;\n",
       "}\n",
       "\n",
       "/* Estimator-specific */\n",
       "#sk-container-id-1 div.sk-estimator {\n",
       "  font-family: monospace;\n",
       "  border: 1px dotted var(--sklearn-color-border-box);\n",
       "  border-radius: 0.25em;\n",
       "  box-sizing: border-box;\n",
       "  margin-bottom: 0.5em;\n",
       "  /* unfitted */\n",
       "  background-color: var(--sklearn-color-unfitted-level-0);\n",
       "}\n",
       "\n",
       "#sk-container-id-1 div.sk-estimator.fitted {\n",
       "  /* fitted */\n",
       "  background-color: var(--sklearn-color-fitted-level-0);\n",
       "}\n",
       "\n",
       "/* on hover */\n",
       "#sk-container-id-1 div.sk-estimator:hover {\n",
       "  /* unfitted */\n",
       "  background-color: var(--sklearn-color-unfitted-level-2);\n",
       "}\n",
       "\n",
       "#sk-container-id-1 div.sk-estimator.fitted:hover {\n",
       "  /* fitted */\n",
       "  background-color: var(--sklearn-color-fitted-level-2);\n",
       "}\n",
       "\n",
       "/* Specification for estimator info (e.g. \"i\" and \"?\") */\n",
       "\n",
       "/* Common style for \"i\" and \"?\" */\n",
       "\n",
       ".sk-estimator-doc-link,\n",
       "a:link.sk-estimator-doc-link,\n",
       "a:visited.sk-estimator-doc-link {\n",
       "  float: right;\n",
       "  font-size: smaller;\n",
       "  line-height: 1em;\n",
       "  font-family: monospace;\n",
       "  background-color: var(--sklearn-color-background);\n",
       "  border-radius: 1em;\n",
       "  height: 1em;\n",
       "  width: 1em;\n",
       "  text-decoration: none !important;\n",
       "  margin-left: 0.5em;\n",
       "  text-align: center;\n",
       "  /* unfitted */\n",
       "  border: var(--sklearn-color-unfitted-level-1) 1pt solid;\n",
       "  color: var(--sklearn-color-unfitted-level-1);\n",
       "}\n",
       "\n",
       ".sk-estimator-doc-link.fitted,\n",
       "a:link.sk-estimator-doc-link.fitted,\n",
       "a:visited.sk-estimator-doc-link.fitted {\n",
       "  /* fitted */\n",
       "  border: var(--sklearn-color-fitted-level-1) 1pt solid;\n",
       "  color: var(--sklearn-color-fitted-level-1);\n",
       "}\n",
       "\n",
       "/* On hover */\n",
       "div.sk-estimator:hover .sk-estimator-doc-link:hover,\n",
       ".sk-estimator-doc-link:hover,\n",
       "div.sk-label-container:hover .sk-estimator-doc-link:hover,\n",
       ".sk-estimator-doc-link:hover {\n",
       "  /* unfitted */\n",
       "  background-color: var(--sklearn-color-unfitted-level-3);\n",
       "  color: var(--sklearn-color-background);\n",
       "  text-decoration: none;\n",
       "}\n",
       "\n",
       "div.sk-estimator.fitted:hover .sk-estimator-doc-link.fitted:hover,\n",
       ".sk-estimator-doc-link.fitted:hover,\n",
       "div.sk-label-container:hover .sk-estimator-doc-link.fitted:hover,\n",
       ".sk-estimator-doc-link.fitted:hover {\n",
       "  /* fitted */\n",
       "  background-color: var(--sklearn-color-fitted-level-3);\n",
       "  color: var(--sklearn-color-background);\n",
       "  text-decoration: none;\n",
       "}\n",
       "\n",
       "/* Span, style for the box shown on hovering the info icon */\n",
       ".sk-estimator-doc-link span {\n",
       "  display: none;\n",
       "  z-index: 9999;\n",
       "  position: relative;\n",
       "  font-weight: normal;\n",
       "  right: .2ex;\n",
       "  padding: .5ex;\n",
       "  margin: .5ex;\n",
       "  width: min-content;\n",
       "  min-width: 20ex;\n",
       "  max-width: 50ex;\n",
       "  color: var(--sklearn-color-text);\n",
       "  box-shadow: 2pt 2pt 4pt #999;\n",
       "  /* unfitted */\n",
       "  background: var(--sklearn-color-unfitted-level-0);\n",
       "  border: .5pt solid var(--sklearn-color-unfitted-level-3);\n",
       "}\n",
       "\n",
       ".sk-estimator-doc-link.fitted span {\n",
       "  /* fitted */\n",
       "  background: var(--sklearn-color-fitted-level-0);\n",
       "  border: var(--sklearn-color-fitted-level-3);\n",
       "}\n",
       "\n",
       ".sk-estimator-doc-link:hover span {\n",
       "  display: block;\n",
       "}\n",
       "\n",
       "/* \"?\"-specific style due to the `<a>` HTML tag */\n",
       "\n",
       "#sk-container-id-1 a.estimator_doc_link {\n",
       "  float: right;\n",
       "  font-size: 1rem;\n",
       "  line-height: 1em;\n",
       "  font-family: monospace;\n",
       "  background-color: var(--sklearn-color-background);\n",
       "  border-radius: 1rem;\n",
       "  height: 1rem;\n",
       "  width: 1rem;\n",
       "  text-decoration: none;\n",
       "  /* unfitted */\n",
       "  color: var(--sklearn-color-unfitted-level-1);\n",
       "  border: var(--sklearn-color-unfitted-level-1) 1pt solid;\n",
       "}\n",
       "\n",
       "#sk-container-id-1 a.estimator_doc_link.fitted {\n",
       "  /* fitted */\n",
       "  border: var(--sklearn-color-fitted-level-1) 1pt solid;\n",
       "  color: var(--sklearn-color-fitted-level-1);\n",
       "}\n",
       "\n",
       "/* On hover */\n",
       "#sk-container-id-1 a.estimator_doc_link:hover {\n",
       "  /* unfitted */\n",
       "  background-color: var(--sklearn-color-unfitted-level-3);\n",
       "  color: var(--sklearn-color-background);\n",
       "  text-decoration: none;\n",
       "}\n",
       "\n",
       "#sk-container-id-1 a.estimator_doc_link.fitted:hover {\n",
       "  /* fitted */\n",
       "  background-color: var(--sklearn-color-fitted-level-3);\n",
       "}\n",
       "</style><div id=\"sk-container-id-1\" class=\"sk-top-container\"><div class=\"sk-text-repr-fallback\"><pre>DecisionTreeClassifier(class_weight={&#x27;BUG&#x27;: 0.02702702702702703,\n",
       "                                     &#x27;NO_BUG&#x27;: 0.0011792452830188679},\n",
       "                       max_depth=5)</pre><b>In a Jupyter environment, please rerun this cell to show the HTML representation or trust the notebook. <br />On GitHub, the HTML representation is unable to render, please try loading this page with nbviewer.org.</b></div><div class=\"sk-container\" hidden><div class=\"sk-item\"><div class=\"sk-estimator fitted sk-toggleable\"><input class=\"sk-toggleable__control sk-hidden--visually\" id=\"sk-estimator-id-1\" type=\"checkbox\" checked><label for=\"sk-estimator-id-1\" class=\"sk-toggleable__label fitted sk-toggleable__label-arrow\"><div><div>DecisionTreeClassifier</div></div><div><a class=\"sk-estimator-doc-link fitted\" rel=\"noreferrer\" target=\"_blank\" href=\"https://scikit-learn.org/1.6/modules/generated/sklearn.tree.DecisionTreeClassifier.html\">?<span>Documentation for DecisionTreeClassifier</span></a><span class=\"sk-estimator-doc-link fitted\">i<span>Fitted</span></span></div></label><div class=\"sk-toggleable__content fitted\"><pre>DecisionTreeClassifier(class_weight={&#x27;BUG&#x27;: 0.02702702702702703,\n",
       "                                     &#x27;NO_BUG&#x27;: 0.0011792452830188679},\n",
       "                       max_depth=5)</pre></div> </div></div></div></div>"
      ],
      "text/plain": [
       "DecisionTreeClassifier(class_weight={'BUG': 0.02702702702702703,\n",
       "                                     'NO_BUG': 0.0011792452830188679},\n",
       "                       max_depth=5)"
      ]
     },
     "execution_count": 103,
     "metadata": {},
     "output_type": "execute_result"
    }
   ],
   "source": [
    "alhazen.last_tree()"
   ]
  },
  {
   "cell_type": "markdown",
   "metadata": {
    "slideshow": {
     "slide_type": "fragment"
    }
   },
   "source": [
    "Let's display it:"
   ]
  },
  {
   "cell_type": "code",
   "execution_count": 104,
   "metadata": {
    "execution": {
     "iopub.execute_input": "2025-01-07T11:07:54.889357Z",
     "iopub.status.busy": "2025-01-07T11:07:54.889252Z",
     "iopub.status.idle": "2025-01-07T11:07:55.415192Z",
     "shell.execute_reply": "2025-01-07T11:07:55.414798Z"
    },
    "slideshow": {
     "slide_type": "fragment"
    }
   },
   "outputs": [
    {
     "data": {
      "image/svg+xml": [
       "<?xml version=\"1.0\" encoding=\"UTF-8\" standalone=\"no\"?>\n",
       "<!DOCTYPE svg PUBLIC \"-//W3C//DTD SVG 1.1//EN\"\n",
       " \"http://www.w3.org/Graphics/SVG/1.1/DTD/svg11.dtd\">\n",
       "<!-- Generated by graphviz version 12.2.1 (20241206.2353)\n",
       " -->\n",
       "<!-- Title: Tree Pages: 1 -->\n",
       "<svg width=\"396pt\" height=\"552pt\"\n",
       " viewBox=\"0.00 0.00 395.50 552.00\" xmlns=\"http://www.w3.org/2000/svg\" xmlns:xlink=\"http://www.w3.org/1999/xlink\">\n",
       "<g id=\"graph0\" class=\"graph\" transform=\"scale(1 1) rotate(0) translate(4 548)\">\n",
       "<title>Tree</title>\n",
       "<polygon fill=\"white\" stroke=\"none\" points=\"-4,4 -4,-548 391.5,-548 391.5,4 -4,4\"/>\n",
       "<!-- 0 -->\n",
       "<g id=\"node1\" class=\"node\">\n",
       "<title>0</title>\n",
       "<path fill=\"#ffffff\" stroke=\"black\" d=\"M288.75,-544C288.75,-544 182.75,-544 182.75,-544 176.75,-544 170.75,-538 170.75,-532 170.75,-532 170.75,-473 170.75,-473 170.75,-467 176.75,-461 182.75,-461 182.75,-461 288.75,-461 288.75,-461 294.75,-461 300.75,-467 300.75,-473 300.75,-473 300.75,-532 300.75,-532 300.75,-538 294.75,-544 288.75,-544\"/>\n",
       "<text text-anchor=\"middle\" x=\"235.75\" y=\"-526.7\" font-family=\"Helvetica,sans-Serif\" font-size=\"14.00\">&lt;lead&#45;digit&gt; &lt;= 4.5</text>\n",
       "<text text-anchor=\"middle\" x=\"235.75\" y=\"-511.7\" font-family=\"Helvetica,sans-Serif\" font-size=\"14.00\">gini = 0.5</text>\n",
       "<text text-anchor=\"middle\" x=\"235.75\" y=\"-496.7\" font-family=\"Helvetica,sans-Serif\" font-size=\"14.00\">samples = 885</text>\n",
       "<text text-anchor=\"middle\" x=\"235.75\" y=\"-481.7\" font-family=\"Helvetica,sans-Serif\" font-size=\"14.00\">value = [1.0, 1.0]</text>\n",
       "<text text-anchor=\"middle\" x=\"235.75\" y=\"-466.7\" font-family=\"Helvetica,sans-Serif\" font-size=\"14.00\">class = BUG</text>\n",
       "</g>\n",
       "<!-- 1 -->\n",
       "<g id=\"node2\" class=\"node\">\n",
       "<title>1</title>\n",
       "<path fill=\"#eda978\" stroke=\"black\" d=\"M226.25,-425C226.25,-425 75.25,-425 75.25,-425 69.25,-425 63.25,-419 63.25,-413 63.25,-413 63.25,-354 63.25,-354 63.25,-348 69.25,-342 75.25,-342 75.25,-342 226.25,-342 226.25,-342 232.25,-342 238.25,-348 238.25,-354 238.25,-354 238.25,-413 238.25,-413 238.25,-419 232.25,-425 226.25,-425\"/>\n",
       "<text text-anchor=\"middle\" x=\"150.75\" y=\"-407.7\" font-family=\"Helvetica,sans-Serif\" font-size=\"14.00\">&lt;function&gt; == &#39;sqrt&#39; &lt;= 0.5</text>\n",
       "<text text-anchor=\"middle\" x=\"150.75\" y=\"-392.7\" font-family=\"Helvetica,sans-Serif\" font-size=\"14.00\">gini = 0.366</text>\n",
       "<text text-anchor=\"middle\" x=\"150.75\" y=\"-377.7\" font-family=\"Helvetica,sans-Serif\" font-size=\"14.00\">samples = 306</text>\n",
       "<text text-anchor=\"middle\" x=\"150.75\" y=\"-362.7\" font-family=\"Helvetica,sans-Serif\" font-size=\"14.00\">value = [1.0, 0.317]</text>\n",
       "<text text-anchor=\"middle\" x=\"150.75\" y=\"-347.7\" font-family=\"Helvetica,sans-Serif\" font-size=\"14.00\">class = BUG</text>\n",
       "</g>\n",
       "<!-- 0&#45;&gt;1 -->\n",
       "<g id=\"edge1\" class=\"edge\">\n",
       "<title>0&#45;&gt;1</title>\n",
       "<path fill=\"none\" stroke=\"black\" d=\"M206.02,-460.58C199.9,-452.16 193.4,-443.2 187.08,-434.5\"/>\n",
       "<polygon fill=\"black\" stroke=\"black\" points=\"189.92,-432.46 181.21,-426.42 184.25,-436.57 189.92,-432.46\"/>\n",
       "<text text-anchor=\"middle\" x=\"176.41\" y=\"-444.09\" font-family=\"Helvetica,sans-Serif\" font-size=\"14.00\">True</text>\n",
       "</g>\n",
       "<!-- 8 -->\n",
       "<g id=\"node9\" class=\"node\">\n",
       "<title>8</title>\n",
       "<path fill=\"#399de5\" stroke=\"black\" d=\"M375.5,-417.5C375.5,-417.5 268,-417.5 268,-417.5 262,-417.5 256,-411.5 256,-405.5 256,-405.5 256,-361.5 256,-361.5 256,-355.5 262,-349.5 268,-349.5 268,-349.5 375.5,-349.5 375.5,-349.5 381.5,-349.5 387.5,-355.5 387.5,-361.5 387.5,-361.5 387.5,-405.5 387.5,-405.5 387.5,-411.5 381.5,-417.5 375.5,-417.5\"/>\n",
       "<text text-anchor=\"middle\" x=\"321.75\" y=\"-400.2\" font-family=\"Helvetica,sans-Serif\" font-size=\"14.00\">gini = &#45;0.0</text>\n",
       "<text text-anchor=\"middle\" x=\"321.75\" y=\"-385.2\" font-family=\"Helvetica,sans-Serif\" font-size=\"14.00\">samples = 579</text>\n",
       "<text text-anchor=\"middle\" x=\"321.75\" y=\"-370.2\" font-family=\"Helvetica,sans-Serif\" font-size=\"14.00\">value = [0.0, 0.683]</text>\n",
       "<text text-anchor=\"middle\" x=\"321.75\" y=\"-355.2\" font-family=\"Helvetica,sans-Serif\" font-size=\"14.00\">class = NO_BUG</text>\n",
       "</g>\n",
       "<!-- 0&#45;&gt;8 -->\n",
       "<g id=\"edge8\" class=\"edge\">\n",
       "<title>0&#45;&gt;8</title>\n",
       "<path fill=\"none\" stroke=\"black\" d=\"M265.83,-460.58C273.85,-449.66 282.54,-437.85 290.61,-426.86\"/>\n",
       "<polygon fill=\"black\" stroke=\"black\" points=\"293.23,-429.21 296.33,-419.08 287.59,-425.07 293.23,-429.21\"/>\n",
       "<text text-anchor=\"middle\" x=\"301\" y=\"-436.77\" font-family=\"Helvetica,sans-Serif\" font-size=\"14.00\">False</text>\n",
       "</g>\n",
       "<!-- 2 -->\n",
       "<g id=\"node3\" class=\"node\">\n",
       "<title>2</title>\n",
       "<path fill=\"#399de5\" stroke=\"black\" d=\"M129.5,-298.5C129.5,-298.5 22,-298.5 22,-298.5 16,-298.5 10,-292.5 10,-286.5 10,-286.5 10,-242.5 10,-242.5 10,-236.5 16,-230.5 22,-230.5 22,-230.5 129.5,-230.5 129.5,-230.5 135.5,-230.5 141.5,-236.5 141.5,-242.5 141.5,-242.5 141.5,-286.5 141.5,-286.5 141.5,-292.5 135.5,-298.5 129.5,-298.5\"/>\n",
       "<text text-anchor=\"middle\" x=\"75.75\" y=\"-281.2\" font-family=\"Helvetica,sans-Serif\" font-size=\"14.00\">gini = &#45;0.0</text>\n",
       "<text text-anchor=\"middle\" x=\"75.75\" y=\"-266.2\" font-family=\"Helvetica,sans-Serif\" font-size=\"14.00\">samples = 189</text>\n",
       "<text text-anchor=\"middle\" x=\"75.75\" y=\"-251.2\" font-family=\"Helvetica,sans-Serif\" font-size=\"14.00\">value = [0.0, 0.223]</text>\n",
       "<text text-anchor=\"middle\" x=\"75.75\" y=\"-236.2\" font-family=\"Helvetica,sans-Serif\" font-size=\"14.00\">class = NO_BUG</text>\n",
       "</g>\n",
       "<!-- 1&#45;&gt;2 -->\n",
       "<g id=\"edge2\" class=\"edge\">\n",
       "<title>1&#45;&gt;2</title>\n",
       "<path fill=\"none\" stroke=\"black\" d=\"M124.52,-341.58C117.66,-330.88 110.25,-319.32 103.33,-308.52\"/>\n",
       "<polygon fill=\"black\" stroke=\"black\" points=\"106.3,-306.67 97.95,-300.14 100.4,-310.44 106.3,-306.67\"/>\n",
       "</g>\n",
       "<!-- 3 -->\n",
       "<g id=\"node4\" class=\"node\">\n",
       "<title>3</title>\n",
       "<path fill=\"#e78d4c\" stroke=\"black\" d=\"M279.5,-306C279.5,-306 172,-306 172,-306 166,-306 160,-300 160,-294 160,-294 160,-235 160,-235 160,-229 166,-223 172,-223 172,-223 279.5,-223 279.5,-223 285.5,-223 291.5,-229 291.5,-235 291.5,-235 291.5,-294 291.5,-294 291.5,-300 285.5,-306 279.5,-306\"/>\n",
       "<text text-anchor=\"middle\" x=\"225.75\" y=\"-288.7\" font-family=\"Helvetica,sans-Serif\" font-size=\"14.00\">&lt;value&gt; &lt;= 41.767</text>\n",
       "<text text-anchor=\"middle\" x=\"225.75\" y=\"-273.7\" font-family=\"Helvetica,sans-Serif\" font-size=\"14.00\">gini = 0.158</text>\n",
       "<text text-anchor=\"middle\" x=\"225.75\" y=\"-258.7\" font-family=\"Helvetica,sans-Serif\" font-size=\"14.00\">samples = 117</text>\n",
       "<text text-anchor=\"middle\" x=\"225.75\" y=\"-243.7\" font-family=\"Helvetica,sans-Serif\" font-size=\"14.00\">value = [1.0, 0.094]</text>\n",
       "<text text-anchor=\"middle\" x=\"225.75\" y=\"-228.7\" font-family=\"Helvetica,sans-Serif\" font-size=\"14.00\">class = BUG</text>\n",
       "</g>\n",
       "<!-- 1&#45;&gt;3 -->\n",
       "<g id=\"edge3\" class=\"edge\">\n",
       "<title>1&#45;&gt;3</title>\n",
       "<path fill=\"none\" stroke=\"black\" d=\"M176.98,-341.58C182.32,-333.25 188,-324.39 193.52,-315.78\"/>\n",
       "<polygon fill=\"black\" stroke=\"black\" points=\"196.39,-317.78 198.84,-307.47 190.5,-314 196.39,-317.78\"/>\n",
       "</g>\n",
       "<!-- 4 -->\n",
       "<g id=\"node5\" class=\"node\">\n",
       "<title>4</title>\n",
       "<path fill=\"#e6843e\" stroke=\"black\" d=\"M217.88,-187C217.88,-187 55.62,-187 55.62,-187 49.62,-187 43.62,-181 43.62,-175 43.62,-175 43.62,-116 43.62,-116 43.62,-110 49.62,-104 55.62,-104 55.62,-104 217.88,-104 217.88,-104 223.88,-104 229.88,-110 229.88,-116 229.88,-116 229.88,-175 229.88,-175 229.88,-181 223.88,-187 217.88,-187\"/>\n",
       "<text text-anchor=\"middle\" x=\"136.75\" y=\"-169.7\" font-family=\"Helvetica,sans-Serif\" font-size=\"14.00\">&lt;term&gt; == &#39;&#45;&lt;value&gt;&#39; &lt;= 0.5</text>\n",
       "<text text-anchor=\"middle\" x=\"136.75\" y=\"-154.7\" font-family=\"Helvetica,sans-Serif\" font-size=\"14.00\">gini = 0.045</text>\n",
       "<text text-anchor=\"middle\" x=\"136.75\" y=\"-139.7\" font-family=\"Helvetica,sans-Serif\" font-size=\"14.00\">samples = 57</text>\n",
       "<text text-anchor=\"middle\" x=\"136.75\" y=\"-124.7\" font-family=\"Helvetica,sans-Serif\" font-size=\"14.00\">value = [1.0, 0.024]</text>\n",
       "<text text-anchor=\"middle\" x=\"136.75\" y=\"-109.7\" font-family=\"Helvetica,sans-Serif\" font-size=\"14.00\">class = BUG</text>\n",
       "</g>\n",
       "<!-- 3&#45;&gt;4 -->\n",
       "<g id=\"edge4\" class=\"edge\">\n",
       "<title>3&#45;&gt;4</title>\n",
       "<path fill=\"none\" stroke=\"black\" d=\"M194.62,-222.58C188.15,-214.07 181.26,-205.01 174.58,-196.23\"/>\n",
       "<polygon fill=\"black\" stroke=\"black\" points=\"177.47,-194.24 168.63,-188.4 171.9,-198.48 177.47,-194.24\"/>\n",
       "</g>\n",
       "<!-- 7 -->\n",
       "<g id=\"node8\" class=\"node\">\n",
       "<title>7</title>\n",
       "<path fill=\"#399de5\" stroke=\"black\" d=\"M367.5,-179.5C367.5,-179.5 260,-179.5 260,-179.5 254,-179.5 248,-173.5 248,-167.5 248,-167.5 248,-123.5 248,-123.5 248,-117.5 254,-111.5 260,-111.5 260,-111.5 367.5,-111.5 367.5,-111.5 373.5,-111.5 379.5,-117.5 379.5,-123.5 379.5,-123.5 379.5,-167.5 379.5,-167.5 379.5,-173.5 373.5,-179.5 367.5,-179.5\"/>\n",
       "<text text-anchor=\"middle\" x=\"313.75\" y=\"-162.2\" font-family=\"Helvetica,sans-Serif\" font-size=\"14.00\">gini = &#45;0.0</text>\n",
       "<text text-anchor=\"middle\" x=\"313.75\" y=\"-147.2\" font-family=\"Helvetica,sans-Serif\" font-size=\"14.00\">samples = 60</text>\n",
       "<text text-anchor=\"middle\" x=\"313.75\" y=\"-132.2\" font-family=\"Helvetica,sans-Serif\" font-size=\"14.00\">value = [0.0, 0.071]</text>\n",
       "<text text-anchor=\"middle\" x=\"313.75\" y=\"-117.2\" font-family=\"Helvetica,sans-Serif\" font-size=\"14.00\">class = NO_BUG</text>\n",
       "</g>\n",
       "<!-- 3&#45;&gt;7 -->\n",
       "<g id=\"edge7\" class=\"edge\">\n",
       "<title>3&#45;&gt;7</title>\n",
       "<path fill=\"none\" stroke=\"black\" d=\"M256.53,-222.58C264.74,-211.66 273.62,-199.85 281.89,-188.86\"/>\n",
       "<polygon fill=\"black\" stroke=\"black\" points=\"284.53,-191.17 287.75,-181.07 278.94,-186.96 284.53,-191.17\"/>\n",
       "</g>\n",
       "<!-- 5 -->\n",
       "<g id=\"node6\" class=\"node\">\n",
       "<title>5</title>\n",
       "<path fill=\"#399de5\" stroke=\"black\" d=\"M119.5,-68C119.5,-68 12,-68 12,-68 6,-68 0,-62 0,-56 0,-56 0,-12 0,-12 0,-6 6,0 12,0 12,0 119.5,0 119.5,0 125.5,0 131.5,-6 131.5,-12 131.5,-12 131.5,-56 131.5,-56 131.5,-62 125.5,-68 119.5,-68\"/>\n",
       "<text text-anchor=\"middle\" x=\"65.75\" y=\"-50.7\" font-family=\"Helvetica,sans-Serif\" font-size=\"14.00\">gini = 0.0</text>\n",
       "<text text-anchor=\"middle\" x=\"65.75\" y=\"-35.7\" font-family=\"Helvetica,sans-Serif\" font-size=\"14.00\">samples = 20</text>\n",
       "<text text-anchor=\"middle\" x=\"65.75\" y=\"-20.7\" font-family=\"Helvetica,sans-Serif\" font-size=\"14.00\">value = [0.0, 0.024]</text>\n",
       "<text text-anchor=\"middle\" x=\"65.75\" y=\"-5.7\" font-family=\"Helvetica,sans-Serif\" font-size=\"14.00\">class = NO_BUG</text>\n",
       "</g>\n",
       "<!-- 4&#45;&gt;5 -->\n",
       "<g id=\"edge5\" class=\"edge\">\n",
       "<title>4&#45;&gt;5</title>\n",
       "<path fill=\"none\" stroke=\"black\" d=\"M110.31,-103.73C104.81,-95.24 99,-86.28 93.46,-77.73\"/>\n",
       "<polygon fill=\"black\" stroke=\"black\" points=\"96.54,-76.06 88.16,-69.57 90.67,-79.86 96.54,-76.06\"/>\n",
       "</g>\n",
       "<!-- 6 -->\n",
       "<g id=\"node7\" class=\"node\">\n",
       "<title>6</title>\n",
       "<path fill=\"#e58139\" stroke=\"black\" d=\"M254,-68C254,-68 161.5,-68 161.5,-68 155.5,-68 149.5,-62 149.5,-56 149.5,-56 149.5,-12 149.5,-12 149.5,-6 155.5,0 161.5,0 161.5,0 254,0 254,0 260,0 266,-6 266,-12 266,-12 266,-56 266,-56 266,-62 260,-68 254,-68\"/>\n",
       "<text text-anchor=\"middle\" x=\"207.75\" y=\"-50.7\" font-family=\"Helvetica,sans-Serif\" font-size=\"14.00\">gini = &#45;0.0</text>\n",
       "<text text-anchor=\"middle\" x=\"207.75\" y=\"-35.7\" font-family=\"Helvetica,sans-Serif\" font-size=\"14.00\">samples = 37</text>\n",
       "<text text-anchor=\"middle\" x=\"207.75\" y=\"-20.7\" font-family=\"Helvetica,sans-Serif\" font-size=\"14.00\">value = [1.0, 0.0]</text>\n",
       "<text text-anchor=\"middle\" x=\"207.75\" y=\"-5.7\" font-family=\"Helvetica,sans-Serif\" font-size=\"14.00\">class = BUG</text>\n",
       "</g>\n",
       "<!-- 4&#45;&gt;6 -->\n",
       "<g id=\"edge6\" class=\"edge\">\n",
       "<title>4&#45;&gt;6</title>\n",
       "<path fill=\"none\" stroke=\"black\" d=\"M163.19,-103.73C168.69,-95.24 174.5,-86.28 180.04,-77.73\"/>\n",
       "<polygon fill=\"black\" stroke=\"black\" points=\"182.83,-79.86 185.34,-69.57 176.96,-76.06 182.83,-79.86\"/>\n",
       "</g>\n",
       "</g>\n",
       "</svg>\n"
      ],
      "text/plain": [
       "<graphviz.sources.Source at 0x11f49c830>"
      ]
     },
     "execution_count": 104,
     "metadata": {},
     "output_type": "execute_result"
    }
   ],
   "source": [
    "alhazen.show_decision_tree()"
   ]
  },
  {
   "cell_type": "markdown",
   "metadata": {
    "slideshow": {
     "slide_type": "fragment"
    }
   },
   "source": [
    "We can also view the tree as text:"
   ]
  },
  {
   "cell_type": "code",
   "execution_count": 105,
   "metadata": {
    "execution": {
     "iopub.execute_input": "2025-01-07T11:07:55.417130Z",
     "iopub.status.busy": "2025-01-07T11:07:55.416982Z",
     "iopub.status.idle": "2025-01-07T11:07:55.419685Z",
     "shell.execute_reply": "2025-01-07T11:07:55.419445Z"
    },
    "slideshow": {
     "slide_type": "subslide"
    }
   },
   "outputs": [
    {
     "name": "stdout",
     "output_type": "stream",
     "text": [
      "if <lead-digit> <= 4.5000:\n",
      "  if <function> == 'sqrt':\n",
      "    if <value> <= 41.7665:\n",
      "      if <term> == '-<value>':\n",
      "        BUG\n",
      "      else:\n",
      "        NO_BUG\n",
      "    else:\n",
      "      NO_BUG\n",
      "  else:\n",
      "    NO_BUG\n",
      "else:\n",
      "  NO_BUG\n",
      "\n"
     ]
    }
   ],
   "source": [
    "print(alhazen.friendly_decision_tree())"
   ]
  },
  {
   "cell_type": "markdown",
   "metadata": {
    "slideshow": {
     "slide_type": "subslide"
    }
   },
   "source": [
    "In both views, we see that the failure is related to the `sqrt()` function being called with a negative value.\n",
    "But what's the deal with the `<lead-digit>` and `<value>` fields?\n",
    "For this, let's have a look at our sqrt function code:"
   ]
  },
  {
   "cell_type": "code",
   "execution_count": 106,
   "metadata": {
    "execution": {
     "iopub.execute_input": "2025-01-07T11:07:55.421129Z",
     "iopub.status.busy": "2025-01-07T11:07:55.421021Z",
     "iopub.status.idle": "2025-01-07T11:07:55.422617Z",
     "shell.execute_reply": "2025-01-07T11:07:55.422377Z"
    },
    "slideshow": {
     "slide_type": "skip"
    }
   },
   "outputs": [],
   "source": [
    "import inspect"
   ]
  },
  {
   "cell_type": "code",
   "execution_count": 107,
   "metadata": {
    "execution": {
     "iopub.execute_input": "2025-01-07T11:07:55.423807Z",
     "iopub.status.busy": "2025-01-07T11:07:55.423734Z",
     "iopub.status.idle": "2025-01-07T11:07:55.425985Z",
     "shell.execute_reply": "2025-01-07T11:07:55.425723Z"
    },
    "slideshow": {
     "slide_type": "subslide"
    }
   },
   "outputs": [
    {
     "name": "stdout",
     "output_type": "stream",
     "text": [
      "def task_sqrt(x):\n",
      "    \"\"\"Computes the square root of x, using the Newton-Raphson method\"\"\"\n",
      "    if x <= -12 and x >= -42:\n",
      "        x = 0  # Guess where the bug is :-)\n",
      "    else:\n",
      "        x = 1\n",
      "    x = max(x, 0)\n",
      "    approx = None\n",
      "    guess = x / 2\n",
      "    while approx != guess:\n",
      "        approx = guess\n",
      "        guess = (approx + x / approx) / 2\n",
      "    return approx\n",
      "\n"
     ]
    }
   ],
   "source": [
    "\n",
    "print(inspect.getsource(task_sqrt))"
   ]
  },
  {
   "cell_type": "markdown",
   "metadata": {
    "slideshow": {
     "slide_type": "subslide"
    }
   },
   "source": [
    "We see that Alhazen has correctly determined the boundaries of `x` for the bug - the `<lead-digit>` value must be `4` or less (otherwise, the value of `x` will not trigger the bug); and `<value>` and `<term>` correctly reflect the boundaries.\n",
    "(Note that `<term>` comes with a sign, whereas `<value>` has no sign.)\n",
    "Not too bad for a machine learning approach :-)"
   ]
  },
  {
   "cell_type": "markdown",
   "metadata": {
    "slideshow": {
     "slide_type": "slide"
    }
   },
   "source": [
    "## Synopsis"
   ]
  },
  {
   "cell_type": "markdown",
   "metadata": {
    "slideshow": {
     "slide_type": "fragment"
    }
   },
   "source": [
    "This chapter provides an implementation of the _Alhazen_ approach \\cite{Kampmann2020}, which trains machine learning _classifiers_ from input features.\n",
    "Given a test function, a grammar, and a set of inputs, the `Alhazen` class produces a decision tree that _characterizes failure circumstances_:"
   ]
  },
  {
   "cell_type": "code",
   "execution_count": 108,
   "metadata": {
    "execution": {
     "iopub.execute_input": "2025-01-07T11:07:55.427308Z",
     "iopub.status.busy": "2025-01-07T11:07:55.427233Z",
     "iopub.status.idle": "2025-01-07T11:08:47.799739Z",
     "shell.execute_reply": "2025-01-07T11:08:47.799411Z"
    },
    "slideshow": {
     "slide_type": "fragment"
    }
   },
   "outputs": [],
   "source": [
    "alhazen = Alhazen(sample_runner, CALC_GRAMMAR, initial_sample_list,\n",
    "                  max_iterations=20)\n",
    "alhazen.run()"
   ]
  },
  {
   "cell_type": "markdown",
   "metadata": {
    "slideshow": {
     "slide_type": "fragment"
    }
   },
   "source": [
    "The final decision tree can be accessed using `last_tree()`:"
   ]
  },
  {
   "cell_type": "code",
   "execution_count": 109,
   "metadata": {
    "execution": {
     "iopub.execute_input": "2025-01-07T11:08:47.801463Z",
     "iopub.status.busy": "2025-01-07T11:08:47.801363Z",
     "iopub.status.idle": "2025-01-07T11:08:47.803168Z",
     "shell.execute_reply": "2025-01-07T11:08:47.802892Z"
    },
    "slideshow": {
     "slide_type": "fragment"
    }
   },
   "outputs": [],
   "source": [
    "# alhazen.last_tree()"
   ]
  },
  {
   "cell_type": "markdown",
   "metadata": {
    "slideshow": {
     "slide_type": "fragment"
    }
   },
   "source": [
    "We can visualize the resulting decision tree using `Alhazen.show_decision_tree()`:"
   ]
  },
  {
   "cell_type": "code",
   "execution_count": 110,
   "metadata": {
    "execution": {
     "iopub.execute_input": "2025-01-07T11:08:47.804713Z",
     "iopub.status.busy": "2025-01-07T11:08:47.804611Z",
     "iopub.status.idle": "2025-01-07T11:08:48.307442Z",
     "shell.execute_reply": "2025-01-07T11:08:48.307026Z"
    },
    "slideshow": {
     "slide_type": "subslide"
    }
   },
   "outputs": [
    {
     "data": {
      "image/svg+xml": [
       "<?xml version=\"1.0\" encoding=\"UTF-8\" standalone=\"no\"?>\n",
       "<!DOCTYPE svg PUBLIC \"-//W3C//DTD SVG 1.1//EN\"\n",
       " \"http://www.w3.org/Graphics/SVG/1.1/DTD/svg11.dtd\">\n",
       "<!-- Generated by graphviz version 12.2.1 (20241206.2353)\n",
       " -->\n",
       "<!-- Title: Tree Pages: 1 -->\n",
       "<svg width=\"375pt\" height=\"433pt\"\n",
       " viewBox=\"0.00 0.00 374.50 433.00\" xmlns=\"http://www.w3.org/2000/svg\" xmlns:xlink=\"http://www.w3.org/1999/xlink\">\n",
       "<g id=\"graph0\" class=\"graph\" transform=\"scale(1 1) rotate(0) translate(4 429)\">\n",
       "<title>Tree</title>\n",
       "<polygon fill=\"white\" stroke=\"none\" points=\"-4,4 -4,-429 370.5,-429 370.5,4 -4,4\"/>\n",
       "<!-- 0 -->\n",
       "<g id=\"node1\" class=\"node\">\n",
       "<title>0</title>\n",
       "<path fill=\"#ffffff\" stroke=\"black\" d=\"M274.25,-425C274.25,-425 177.25,-425 177.25,-425 171.25,-425 165.25,-419 165.25,-413 165.25,-413 165.25,-354 165.25,-354 165.25,-348 171.25,-342 177.25,-342 177.25,-342 274.25,-342 274.25,-342 280.25,-342 286.25,-348 286.25,-354 286.25,-354 286.25,-413 286.25,-413 286.25,-419 280.25,-425 274.25,-425\"/>\n",
       "<text text-anchor=\"middle\" x=\"225.75\" y=\"-407.7\" font-family=\"Helvetica,sans-Serif\" font-size=\"14.00\">&lt;term&gt; &lt;= &#45;11.5</text>\n",
       "<text text-anchor=\"middle\" x=\"225.75\" y=\"-392.7\" font-family=\"Helvetica,sans-Serif\" font-size=\"14.00\">gini = 0.5</text>\n",
       "<text text-anchor=\"middle\" x=\"225.75\" y=\"-377.7\" font-family=\"Helvetica,sans-Serif\" font-size=\"14.00\">samples = 679</text>\n",
       "<text text-anchor=\"middle\" x=\"225.75\" y=\"-362.7\" font-family=\"Helvetica,sans-Serif\" font-size=\"14.00\">value = [1.0, 1.0]</text>\n",
       "<text text-anchor=\"middle\" x=\"225.75\" y=\"-347.7\" font-family=\"Helvetica,sans-Serif\" font-size=\"14.00\">class = NO_BUG</text>\n",
       "</g>\n",
       "<!-- 1 -->\n",
       "<g id=\"node2\" class=\"node\">\n",
       "<title>1</title>\n",
       "<path fill=\"#eeaa7a\" stroke=\"black\" d=\"M204.5,-306C204.5,-306 97,-306 97,-306 91,-306 85,-300 85,-294 85,-294 85,-235 85,-235 85,-229 91,-223 97,-223 97,-223 204.5,-223 204.5,-223 210.5,-223 216.5,-229 216.5,-235 216.5,-235 216.5,-294 216.5,-294 216.5,-300 210.5,-306 204.5,-306\"/>\n",
       "<text text-anchor=\"middle\" x=\"150.75\" y=\"-288.7\" font-family=\"Helvetica,sans-Serif\" font-size=\"14.00\">&lt;term&gt; &lt;= &#45;42.297</text>\n",
       "<text text-anchor=\"middle\" x=\"150.75\" y=\"-273.7\" font-family=\"Helvetica,sans-Serif\" font-size=\"14.00\">gini = 0.372</text>\n",
       "<text text-anchor=\"middle\" x=\"150.75\" y=\"-258.7\" font-family=\"Helvetica,sans-Serif\" font-size=\"14.00\">samples = 238</text>\n",
       "<text text-anchor=\"middle\" x=\"150.75\" y=\"-243.7\" font-family=\"Helvetica,sans-Serif\" font-size=\"14.00\">value = [1.0, 0.329]</text>\n",
       "<text text-anchor=\"middle\" x=\"150.75\" y=\"-228.7\" font-family=\"Helvetica,sans-Serif\" font-size=\"14.00\">class = BUG</text>\n",
       "</g>\n",
       "<!-- 0&#45;&gt;1 -->\n",
       "<g id=\"edge1\" class=\"edge\">\n",
       "<title>0&#45;&gt;1</title>\n",
       "<path fill=\"none\" stroke=\"black\" d=\"M199.52,-341.58C194.18,-333.25 188.5,-324.39 182.98,-315.78\"/>\n",
       "<polygon fill=\"black\" stroke=\"black\" points=\"186,-314 177.66,-307.47 180.11,-317.78 186,-314\"/>\n",
       "<text text-anchor=\"middle\" x=\"171.5\" y=\"-324.82\" font-family=\"Helvetica,sans-Serif\" font-size=\"14.00\">True</text>\n",
       "</g>\n",
       "<!-- 10 -->\n",
       "<g id=\"node7\" class=\"node\">\n",
       "<title>10</title>\n",
       "<path fill=\"#399de5\" stroke=\"black\" d=\"M354.5,-298.5C354.5,-298.5 247,-298.5 247,-298.5 241,-298.5 235,-292.5 235,-286.5 235,-286.5 235,-242.5 235,-242.5 235,-236.5 241,-230.5 247,-230.5 247,-230.5 354.5,-230.5 354.5,-230.5 360.5,-230.5 366.5,-236.5 366.5,-242.5 366.5,-242.5 366.5,-286.5 366.5,-286.5 366.5,-292.5 360.5,-298.5 354.5,-298.5\"/>\n",
       "<text text-anchor=\"middle\" x=\"300.75\" y=\"-281.2\" font-family=\"Helvetica,sans-Serif\" font-size=\"14.00\">gini = 0.0</text>\n",
       "<text text-anchor=\"middle\" x=\"300.75\" y=\"-266.2\" font-family=\"Helvetica,sans-Serif\" font-size=\"14.00\">samples = 441</text>\n",
       "<text text-anchor=\"middle\" x=\"300.75\" y=\"-251.2\" font-family=\"Helvetica,sans-Serif\" font-size=\"14.00\">value = [0.0, 0.671]</text>\n",
       "<text text-anchor=\"middle\" x=\"300.75\" y=\"-236.2\" font-family=\"Helvetica,sans-Serif\" font-size=\"14.00\">class = NO_BUG</text>\n",
       "</g>\n",
       "<!-- 0&#45;&gt;10 -->\n",
       "<g id=\"edge6\" class=\"edge\">\n",
       "<title>0&#45;&gt;10</title>\n",
       "<path fill=\"none\" stroke=\"black\" d=\"M251.98,-341.58C258.84,-330.88 266.25,-319.32 273.17,-308.52\"/>\n",
       "<polygon fill=\"black\" stroke=\"black\" points=\"276.1,-310.44 278.55,-300.14 270.2,-306.67 276.1,-310.44\"/>\n",
       "<text text-anchor=\"middle\" x=\"284.71\" y=\"-317.48\" font-family=\"Helvetica,sans-Serif\" font-size=\"14.00\">False</text>\n",
       "</g>\n",
       "<!-- 2 -->\n",
       "<g id=\"node3\" class=\"node\">\n",
       "<title>2</title>\n",
       "<path fill=\"#399de5\" stroke=\"black\" d=\"M119.5,-179.5C119.5,-179.5 12,-179.5 12,-179.5 6,-179.5 0,-173.5 0,-167.5 0,-167.5 0,-123.5 0,-123.5 0,-117.5 6,-111.5 12,-111.5 12,-111.5 119.5,-111.5 119.5,-111.5 125.5,-111.5 131.5,-117.5 131.5,-123.5 131.5,-123.5 131.5,-167.5 131.5,-167.5 131.5,-173.5 125.5,-179.5 119.5,-179.5\"/>\n",
       "<text text-anchor=\"middle\" x=\"65.75\" y=\"-162.2\" font-family=\"Helvetica,sans-Serif\" font-size=\"14.00\">gini = 0.0</text>\n",
       "<text text-anchor=\"middle\" x=\"65.75\" y=\"-147.2\" font-family=\"Helvetica,sans-Serif\" font-size=\"14.00\">samples = 180</text>\n",
       "<text text-anchor=\"middle\" x=\"65.75\" y=\"-132.2\" font-family=\"Helvetica,sans-Serif\" font-size=\"14.00\">value = [0.0, 0.274]</text>\n",
       "<text text-anchor=\"middle\" x=\"65.75\" y=\"-117.2\" font-family=\"Helvetica,sans-Serif\" font-size=\"14.00\">class = NO_BUG</text>\n",
       "</g>\n",
       "<!-- 1&#45;&gt;2 -->\n",
       "<g id=\"edge2\" class=\"edge\">\n",
       "<title>1&#45;&gt;2</title>\n",
       "<path fill=\"none\" stroke=\"black\" d=\"M121.02,-222.58C113.09,-211.66 104.51,-199.85 96.52,-188.86\"/>\n",
       "<polygon fill=\"black\" stroke=\"black\" points=\"99.59,-187.12 90.88,-181.09 93.92,-191.23 99.59,-187.12\"/>\n",
       "</g>\n",
       "<!-- 5 -->\n",
       "<g id=\"node4\" class=\"node\">\n",
       "<title>5</title>\n",
       "<path fill=\"#e68844\" stroke=\"black\" d=\"M312.25,-187C312.25,-187 161.25,-187 161.25,-187 155.25,-187 149.25,-181 149.25,-175 149.25,-175 149.25,-116 149.25,-116 149.25,-110 155.25,-104 161.25,-104 161.25,-104 312.25,-104 312.25,-104 318.25,-104 324.25,-110 324.25,-116 324.25,-116 324.25,-175 324.25,-175 324.25,-181 318.25,-187 312.25,-187\"/>\n",
       "<text text-anchor=\"middle\" x=\"236.75\" y=\"-169.7\" font-family=\"Helvetica,sans-Serif\" font-size=\"14.00\">&lt;function&gt; == &#39;sqrt&#39; &lt;= 0.5</text>\n",
       "<text text-anchor=\"middle\" x=\"236.75\" y=\"-154.7\" font-family=\"Helvetica,sans-Serif\" font-size=\"14.00\">gini = 0.098</text>\n",
       "<text text-anchor=\"middle\" x=\"236.75\" y=\"-139.7\" font-family=\"Helvetica,sans-Serif\" font-size=\"14.00\">samples = 58</text>\n",
       "<text text-anchor=\"middle\" x=\"236.75\" y=\"-124.7\" font-family=\"Helvetica,sans-Serif\" font-size=\"14.00\">value = [1.0, 0.055]</text>\n",
       "<text text-anchor=\"middle\" x=\"236.75\" y=\"-109.7\" font-family=\"Helvetica,sans-Serif\" font-size=\"14.00\">class = BUG</text>\n",
       "</g>\n",
       "<!-- 1&#45;&gt;5 -->\n",
       "<g id=\"edge3\" class=\"edge\">\n",
       "<title>1&#45;&gt;5</title>\n",
       "<path fill=\"none\" stroke=\"black\" d=\"M180.83,-222.58C187.08,-214.07 193.74,-205.01 200.2,-196.23\"/>\n",
       "<polygon fill=\"black\" stroke=\"black\" points=\"202.83,-198.55 205.94,-188.42 197.19,-194.4 202.83,-198.55\"/>\n",
       "</g>\n",
       "<!-- 6 -->\n",
       "<g id=\"node5\" class=\"node\">\n",
       "<title>6</title>\n",
       "<path fill=\"#399de5\" stroke=\"black\" d=\"M219.5,-68C219.5,-68 112,-68 112,-68 106,-68 100,-62 100,-56 100,-56 100,-12 100,-12 100,-6 106,0 112,0 112,0 219.5,0 219.5,0 225.5,0 231.5,-6 231.5,-12 231.5,-12 231.5,-56 231.5,-56 231.5,-62 225.5,-68 219.5,-68\"/>\n",
       "<text text-anchor=\"middle\" x=\"165.75\" y=\"-50.7\" font-family=\"Helvetica,sans-Serif\" font-size=\"14.00\">gini = 0.0</text>\n",
       "<text text-anchor=\"middle\" x=\"165.75\" y=\"-35.7\" font-family=\"Helvetica,sans-Serif\" font-size=\"14.00\">samples = 36</text>\n",
       "<text text-anchor=\"middle\" x=\"165.75\" y=\"-20.7\" font-family=\"Helvetica,sans-Serif\" font-size=\"14.00\">value = [0.0, 0.055]</text>\n",
       "<text text-anchor=\"middle\" x=\"165.75\" y=\"-5.7\" font-family=\"Helvetica,sans-Serif\" font-size=\"14.00\">class = NO_BUG</text>\n",
       "</g>\n",
       "<!-- 5&#45;&gt;6 -->\n",
       "<g id=\"edge4\" class=\"edge\">\n",
       "<title>5&#45;&gt;6</title>\n",
       "<path fill=\"none\" stroke=\"black\" d=\"M210.31,-103.73C204.81,-95.24 199,-86.28 193.46,-77.73\"/>\n",
       "<polygon fill=\"black\" stroke=\"black\" points=\"196.54,-76.06 188.16,-69.57 190.67,-79.86 196.54,-76.06\"/>\n",
       "</g>\n",
       "<!-- 9 -->\n",
       "<g id=\"node6\" class=\"node\">\n",
       "<title>9</title>\n",
       "<path fill=\"#e58139\" stroke=\"black\" d=\"M354,-68C354,-68 261.5,-68 261.5,-68 255.5,-68 249.5,-62 249.5,-56 249.5,-56 249.5,-12 249.5,-12 249.5,-6 255.5,0 261.5,0 261.5,0 354,0 354,0 360,0 366,-6 366,-12 366,-12 366,-56 366,-56 366,-62 360,-68 354,-68\"/>\n",
       "<text text-anchor=\"middle\" x=\"307.75\" y=\"-50.7\" font-family=\"Helvetica,sans-Serif\" font-size=\"14.00\">gini = 0.0</text>\n",
       "<text text-anchor=\"middle\" x=\"307.75\" y=\"-35.7\" font-family=\"Helvetica,sans-Serif\" font-size=\"14.00\">samples = 22</text>\n",
       "<text text-anchor=\"middle\" x=\"307.75\" y=\"-20.7\" font-family=\"Helvetica,sans-Serif\" font-size=\"14.00\">value = [1.0, 0.0]</text>\n",
       "<text text-anchor=\"middle\" x=\"307.75\" y=\"-5.7\" font-family=\"Helvetica,sans-Serif\" font-size=\"14.00\">class = BUG</text>\n",
       "</g>\n",
       "<!-- 5&#45;&gt;9 -->\n",
       "<g id=\"edge5\" class=\"edge\">\n",
       "<title>5&#45;&gt;9</title>\n",
       "<path fill=\"none\" stroke=\"black\" d=\"M263.19,-103.73C268.69,-95.24 274.5,-86.28 280.04,-77.73\"/>\n",
       "<polygon fill=\"black\" stroke=\"black\" points=\"282.83,-79.86 285.34,-69.57 276.96,-76.06 282.83,-79.86\"/>\n",
       "</g>\n",
       "</g>\n",
       "</svg>\n"
      ],
      "text/plain": [
       "<graphviz.sources.Source at 0x1199a94c0>"
      ]
     },
     "execution_count": 110,
     "metadata": {},
     "output_type": "execute_result"
    }
   ],
   "source": [
    "alhazen.show_decision_tree()"
   ]
  },
  {
   "cell_type": "markdown",
   "metadata": {
    "slideshow": {
     "slide_type": "subslide"
    }
   },
   "source": [
    "A decision tree is read from top to bottom.\n",
    "Decision nodes (with two children) come with a _predicate_ on top.\n",
    "This predicate is either\n",
    "\n",
    "* _numeric_, such as `<value> > 20`, indicating the numeric value of the given symbol, or\n",
    "* _existential_, such as `<digit> == '1'`, which has a _negative_ value when False, and a _positive_ value when True.\n",
    "\n",
    "If the predicate evaluates to `True`, follow the left path; if it evaluates to `False`, follow the right path.\n",
    "A leaf node (no children) will give you the final decision `class = BUG` or `class = NO_BUG`.\n",
    "\n",
    "So if the predicate states `<function> == 'sqrt' <= 0.5`, this means that\n",
    "\n",
    "* If the function is _not_ `sqrt` (the predicate `<function> == 'sqrt'` is negative, see above, and hence less than 0.5), follow the left (`True`) path.\n",
    "* If the function _is_ `sqrt` (the predicate `<function> == 'sqrt'` is positive), follow the right (`False`) path.\n",
    "\n",
    "The `samples` field shows the number of sample inputs that contributed to this decision.\n",
    "The `gini` field (aka Gini impurity) indicates how many samples fall into the displayed class (`BUG` or `NO_BUG`).\n",
    "A `gini` value of `0.0` means _purity_ - all samples fall into the displayed class.\n",
    "The _saturation_ of nodes also indicates purity – the higher the saturation, the higher the purity."
   ]
  },
  {
   "cell_type": "markdown",
   "metadata": {
    "slideshow": {
     "slide_type": "subslide"
    }
   },
   "source": [
    "There is also a text version available, with much fewer (but hopefully still essential) details:"
   ]
  },
  {
   "cell_type": "code",
   "execution_count": 111,
   "metadata": {
    "execution": {
     "iopub.execute_input": "2025-01-07T11:08:48.309016Z",
     "iopub.status.busy": "2025-01-07T11:08:48.308885Z",
     "iopub.status.idle": "2025-01-07T11:08:48.311392Z",
     "shell.execute_reply": "2025-01-07T11:08:48.311153Z"
    },
    "slideshow": {
     "slide_type": "fragment"
    }
   },
   "outputs": [
    {
     "name": "stdout",
     "output_type": "stream",
     "text": [
      "if <term> <= -11.5000:\n",
      "  if <term> <= -42.2970:\n",
      "    NO_BUG\n",
      "  else:\n",
      "    if <function> == 'sqrt':\n",
      "      BUG\n",
      "    else:\n",
      "      NO_BUG\n",
      "else:\n",
      "  NO_BUG\n",
      "\n"
     ]
    }
   ],
   "source": [
    "print(alhazen.friendly_decision_tree())"
   ]
  },
  {
   "cell_type": "markdown",
   "metadata": {
    "slideshow": {
     "slide_type": "subslide"
    }
   },
   "source": [
    "In both representations, we see that the present failure is associated with a negative value for the `sqrt` function and precise boundaries for its value.\n",
    "In fact, the error conditions are given in the source code:"
   ]
  },
  {
   "cell_type": "code",
   "execution_count": 112,
   "metadata": {
    "execution": {
     "iopub.execute_input": "2025-01-07T11:08:48.312792Z",
     "iopub.status.busy": "2025-01-07T11:08:48.312680Z",
     "iopub.status.idle": "2025-01-07T11:08:48.314304Z",
     "shell.execute_reply": "2025-01-07T11:08:48.314064Z"
    },
    "slideshow": {
     "slide_type": "skip"
    }
   },
   "outputs": [],
   "source": [
    "import inspect"
   ]
  },
  {
   "cell_type": "code",
   "execution_count": 113,
   "metadata": {
    "execution": {
     "iopub.execute_input": "2025-01-07T11:08:48.315595Z",
     "iopub.status.busy": "2025-01-07T11:08:48.315517Z",
     "iopub.status.idle": "2025-01-07T11:08:48.317524Z",
     "shell.execute_reply": "2025-01-07T11:08:48.317284Z"
    },
    "slideshow": {
     "slide_type": "subslide"
    }
   },
   "outputs": [
    {
     "name": "stdout",
     "output_type": "stream",
     "text": [
      "def task_sqrt(x):\n",
      "    \"\"\"Computes the square root of x, using the Newton-Raphson method\"\"\"\n",
      "    if x <= -12 and x >= -42:\n",
      "        x = 0  # Guess where the bug is :-)\n",
      "    else:\n",
      "        x = 1\n",
      "    x = max(x, 0)\n",
      "    approx = None\n",
      "    guess = x / 2\n",
      "    while approx != guess:\n",
      "        approx = guess\n",
      "        guess = (approx + x / approx) / 2\n",
      "    return approx\n",
      "\n"
     ]
    }
   ],
   "source": [
    "print(inspect.getsource(task_sqrt))"
   ]
  },
  {
   "cell_type": "markdown",
   "metadata": {
    "slideshow": {
     "slide_type": "subslide"
    }
   },
   "source": [
    "Try out Alhazen on your own code and your own examples!"
   ]
  },
  {
   "cell_type": "markdown",
   "metadata": {
    "button": false,
    "new_sheet": true,
    "run_control": {
     "read_only": false
    },
    "slideshow": {
     "slide_type": "slide"
    }
   },
   "source": [
    "## Lessons Learned\n",
    "\n",
    "* Training _machine learners from input features_ can give important insights on failure circumstances.\n",
    "* Generating _additional inputs_ based on feedback from the machine learner can greatly enhance precision.\n",
    "* Applying machine learners on input and execution features is still at its infancy."
   ]
  },
  {
   "cell_type": "markdown",
   "metadata": {
    "button": false,
    "new_sheet": false,
    "run_control": {
     "read_only": false
    },
    "slideshow": {
     "slide_type": "slide"
    }
   },
   "source": [
    "## Next Steps\n",
    "\n",
    "Our [next chapter](Repairer.ipynb) introduces _automated repair_ of programs, building on the fault localization and generalization mechanisms introduced so far."
   ]
  },
  {
   "cell_type": "markdown",
   "metadata": {
    "slideshow": {
     "slide_type": "slide"
    }
   },
   "source": [
    "## Background\n",
    "\n",
    "This chapter is built on the Alhazen paper by Kampmann et al. \\cite{Kampmann2020}.\n",
    "\n",
    "In \\cite{Eberlein2023}, Eberlein et al. introduced _Avicenna_, a new interpretation of Alhazen that makes use of the ISLa framework \\cite{Steinhoefel2022} to learn and produce input features.\n",
    "Avicenna improves over Alhazen in terms of performance, expressiveness, and precision."
   ]
  }
 ],
 "metadata": {
  "ipub": {
   "bibliography": "fuzzingbook.bib",
   "toc": true
  },
  "kernelspec": {
   "display_name": "3.12.8",
   "language": "python",
   "name": "python3"
  },
  "language_info": {
   "codemirror_mode": {
    "name": "ipython",
    "version": 3
   },
   "file_extension": ".py",
   "mimetype": "text/x-python",
   "name": "python",
   "nbconvert_exporter": "python",
   "pygments_lexer": "ipython3",
   "version": "3.12.8"
  },
  "toc": {
   "base_numbering": 1,
   "nav_menu": {},
   "number_sections": true,
   "sideBar": true,
   "skip_h1_title": true,
   "title_cell": "",
   "title_sidebar": "Contents",
   "toc_cell": false,
   "toc_position": {},
   "toc_section_display": true,
   "toc_window_display": true
  },
  "toc-autonumbering": false
 },
 "nbformat": 4,
 "nbformat_minor": 4
}