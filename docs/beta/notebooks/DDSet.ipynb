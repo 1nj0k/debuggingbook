{
 "cells": [
  {
   "cell_type": "markdown",
   "metadata": {
    "button": false,
    "new_sheet": false,
    "run_control": {
     "read_only": false
    },
    "slideshow": {
     "slide_type": "slide"
    }
   },
   "source": [
    "# The Language of Failure\n",
    "\n",
    "Resource: http://rahul.gopinath.org/post/2020/08/03/simple-ddset/\n",
    "\n",
    "Also: https://neumorphism.io/#e0e0e0\n",
    "\n",
    "_Brief abstract/introduction/motivation.  State what the chapter is about in 1-2 paragraphs._\n",
    "_Then, have an introduction video:_"
   ]
  },
  {
   "cell_type": "code",
   "execution_count": 1,
   "metadata": {
    "slideshow": {
     "slide_type": "skip"
    }
   },
   "outputs": [
    {
     "data": {
      "text/html": [
       "\n",
       "        <iframe\n",
       "            width=\"640\"\n",
       "            height=\"360\"\n",
       "            src=\"https://www.youtube-nocookie.com/embed/w4u5gCgPlmg\"\n",
       "            frameborder=\"0\"\n",
       "            allowfullscreen\n",
       "        ></iframe>\n",
       "        "
      ],
      "text/plain": [
       "<IPython.lib.display.IFrame at 0x7ff2d2302390>"
      ]
     },
     "execution_count": 1,
     "metadata": {},
     "output_type": "execute_result"
    }
   ],
   "source": [
    "from bookutils import YouTubeVideo\n",
    "YouTubeVideo(\"w4u5gCgPlmg\")"
   ]
  },
  {
   "cell_type": "markdown",
   "metadata": {
    "button": false,
    "new_sheet": false,
    "run_control": {
     "read_only": false
    },
    "slideshow": {
     "slide_type": "subslide"
    }
   },
   "source": [
    "**Prerequisites**\n",
    "\n",
    "* _Refer to earlier chapters as notebooks here, as here:_ [Earlier Chapter](Fuzzer.ipynb)."
   ]
  },
  {
   "cell_type": "code",
   "execution_count": 2,
   "metadata": {
    "button": false,
    "new_sheet": false,
    "run_control": {
     "read_only": false
    },
    "slideshow": {
     "slide_type": "skip"
    }
   },
   "outputs": [],
   "source": [
    "import bookutils"
   ]
  },
  {
   "cell_type": "code",
   "execution_count": 3,
   "metadata": {
    "slideshow": {
     "slide_type": "skip"
    }
   },
   "outputs": [],
   "source": [
    "import DeltaDebugger"
   ]
  },
  {
   "cell_type": "markdown",
   "metadata": {
    "slideshow": {
     "slide_type": "skip"
    }
   },
   "source": [
    "## Synopsis\n",
    "<!-- Automatically generated. Do not edit. -->\n",
    "\n",
    "To [use the code provided in this chapter](Importing.ipynb), write\n",
    "\n",
    "```python\n",
    ">>> from debuggingbook.DDSet import <identifier>\n",
    "```\n",
    "\n",
    "and then make use of the following features.\n",
    "\n",
    "\n",
    "_For those only interested in using the code in this chapter (without wanting to know how it works), give an example.  This will be copied to the beginning of the chapter (before the first section) as text with rendered input and output._\n",
    "\n",
    "You can use `int_fuzzer()` as:\n",
    "\n",
    "```python\n",
    ">>> print(int_fuzzer())\n",
    "\n",
    "45.5\n",
    "```\n"
   ]
  },
  {
   "cell_type": "markdown",
   "metadata": {
    "slideshow": {
     "slide_type": "slide"
    }
   },
   "source": [
    "## A Failing Program"
   ]
  },
  {
   "cell_type": "code",
   "execution_count": 4,
   "metadata": {
    "slideshow": {
     "slide_type": "subslide"
    }
   },
   "outputs": [],
   "source": [
    "def remove_html_markup(s):\n",
    "    tag = False\n",
    "    quote = False\n",
    "    out = \"\"\n",
    "\n",
    "    for c in s:\n",
    "        if c == '<' and not quote:\n",
    "            tag = True\n",
    "        elif c == '>' and not quote:\n",
    "            tag = False\n",
    "        elif c == '\"' or c == \"'\" and tag:\n",
    "            quote = not quote\n",
    "        elif not tag:\n",
    "            out = out + c\n",
    "\n",
    "    # postcondition\n",
    "    assert '<' not in out and '>' not in out\n",
    "\n",
    "    return out"
   ]
  },
  {
   "cell_type": "code",
   "execution_count": 5,
   "metadata": {
    "slideshow": {
     "slide_type": "skip"
    }
   },
   "outputs": [],
   "source": [
    "from ExpectError import ExpectError"
   ]
  },
  {
   "cell_type": "code",
   "execution_count": 6,
   "metadata": {
    "slideshow": {
     "slide_type": "subslide"
    }
   },
   "outputs": [],
   "source": [
    "BAD_INPUT = '<foo>\"bar</foo>'"
   ]
  },
  {
   "cell_type": "code",
   "execution_count": 7,
   "metadata": {
    "slideshow": {
     "slide_type": "fragment"
    }
   },
   "outputs": [
    {
     "name": "stderr",
     "output_type": "stream",
     "text": [
      "Traceback (most recent call last):\n",
      "  File \"<ipython-input-7-491b4345bb53>\", line 2, in <module>\n",
      "    remove_html_markup(BAD_INPUT)\n",
      "  File \"<ipython-input-4-4cc94c1ede06>\", line 17, in remove_html_markup\n",
      "    assert '<' not in out and '>' not in out\n",
      "AssertionError (expected)\n"
     ]
    }
   ],
   "source": [
    "with ExpectError(AssertionError):\n",
    "    remove_html_markup(BAD_INPUT)"
   ]
  },
  {
   "cell_type": "markdown",
   "metadata": {
    "slideshow": {
     "slide_type": "slide"
    }
   },
   "source": [
    "## Grammars"
   ]
  },
  {
   "cell_type": "code",
   "execution_count": 8,
   "metadata": {
    "slideshow": {
     "slide_type": "skip"
    }
   },
   "outputs": [],
   "source": [
    "import string"
   ]
  },
  {
   "cell_type": "code",
   "execution_count": 9,
   "metadata": {
    "button": false,
    "new_sheet": false,
    "run_control": {
     "read_only": false
    },
    "slideshow": {
     "slide_type": "subslide"
    }
   },
   "outputs": [],
   "source": [
    "SIMPLE_HTML_GRAMMAR = {\n",
    "    \"<start>\":\n",
    "        [\"<html>\"],\n",
    "\n",
    "    \"<html>\":\n",
    "        [\"<plain-text>\", \"<tagged-text>\"],\n",
    "\n",
    "    \"<plain-text>\":\n",
    "        [\"\", \"<plain-char><plain-text>\"],\n",
    "\n",
    "    \"<plain-char>\":\n",
    "        [\"<letter>\", \"<digit>\", \"<other>\"],\n",
    "\n",
    "    \"<tagged-text>\":\n",
    "        [\"<opening-tag><html><closing-tag>\",\n",
    "         \"<combined-tag>\",\n",
    "         \"<opening-tag>\"],\n",
    "\n",
    "    \"<opening-tag>\":\n",
    "        [\"<lt><id><gt>\",\n",
    "         \"<lt><id><attrs><gt>\"],\n",
    "\n",
    "    \"<closing-tag>\":\n",
    "        [\"<lt>/<id><gt>\"],\n",
    "\n",
    "    \"<combined-tag>\":\n",
    "        [\"<lt><id><attrs>/<gt>\"],\n",
    "\n",
    "    \"<lt>\": [ \"<\" ],\n",
    "    \"<gt>\": [ \">\" ],\n",
    "\n",
    "    \"<attrs>\":\n",
    "        [\"<attr>\", \"<attr> <attrs>\" ],\n",
    "\n",
    "    \"<attr>\":\n",
    "        [\"<id>='<plain-text>'\",\n",
    "         '<id>=\"<plain-text>\"'],\n",
    "\n",
    "    \"<id>\":\n",
    "        [\"<letter>\", \"<id><letter>\", \"<id><digit>\"],\n",
    "\n",
    "    \"<letter>\": list(string.ascii_letters),\n",
    "    \"<digit>\": list(string.digits),\n",
    "    \"<other>\": list(string.punctuation.replace('<', '').replace('>', ''))\n",
    "}"
   ]
  },
  {
   "cell_type": "markdown",
   "metadata": {
    "slideshow": {
     "slide_type": "slide"
    }
   },
   "source": [
    "## Fuzzing"
   ]
  },
  {
   "cell_type": "code",
   "execution_count": 10,
   "metadata": {
    "slideshow": {
     "slide_type": "skip"
    }
   },
   "outputs": [],
   "source": [
    "from fuzzingbook.GrammarFuzzer import GrammarFuzzer"
   ]
  },
  {
   "cell_type": "code",
   "execution_count": 11,
   "metadata": {
    "slideshow": {
     "slide_type": "fragment"
    }
   },
   "outputs": [],
   "source": [
    "simple_html_fuzzer = GrammarFuzzer(SIMPLE_HTML_GRAMMAR)"
   ]
  },
  {
   "cell_type": "code",
   "execution_count": 12,
   "metadata": {
    "slideshow": {
     "slide_type": "subslide"
    }
   },
   "outputs": [
    {
     "name": "stdout",
     "output_type": "stream",
     "text": [
      "''\n",
      "'<wQ>'\n",
      "'k'\n",
      "''\n",
      "'<YSz83=\":\"></J1rs5>'\n",
      "'<YM6I=\\'u\\'><nF=\"\" h=\"\" k=\\'\\'></Y9>'\n",
      "'<y>'\n",
      "''\n",
      "''\n",
      "'<V2><yWh></VC>'\n",
      "'a'\n",
      "'<L420Y6hehp=\"\" n=\\'6\\'/>'\n",
      "'0^J'\n",
      "'<Ho4nJX=\"\" C=\\'\\' Gs=\\'\\'/>'\n",
      "'P'\n",
      "'<VRrP=\"\">'\n",
      "'<XU>'\n",
      "'H'\n",
      "''\n",
      "'<B2M=\"I\" TI8w6=\\'a01\\'/>'\n"
     ]
    }
   ],
   "source": [
    "for i in range(20):\n",
    "    fuzz_html = simple_html_fuzzer.fuzz()\n",
    "    print(repr(fuzz_html))"
   ]
  },
  {
   "cell_type": "markdown",
   "metadata": {
    "slideshow": {
     "slide_type": "slide"
    }
   },
   "source": [
    "## Derivation Trees"
   ]
  },
  {
   "cell_type": "code",
   "execution_count": 13,
   "metadata": {
    "slideshow": {
     "slide_type": "skip"
    }
   },
   "outputs": [],
   "source": [
    "from fuzzingbook.Parser import display_tree"
   ]
  },
  {
   "cell_type": "code",
   "execution_count": 14,
   "metadata": {
    "slideshow": {
     "slide_type": "fragment"
    }
   },
   "outputs": [
    {
     "data": {
      "text/plain": [
       "'<B2M=\"I\" TI8w6=\\'a01\\'/>'"
      ]
     },
     "execution_count": 14,
     "metadata": {},
     "output_type": "execute_result"
    }
   ],
   "source": [
    "fuzz_html"
   ]
  },
  {
   "cell_type": "code",
   "execution_count": 15,
   "metadata": {
    "slideshow": {
     "slide_type": "fragment"
    }
   },
   "outputs": [
    {
     "data": {
      "image/svg+xml": [
       "<?xml version=\"1.0\" encoding=\"UTF-8\" standalone=\"no\"?>\n",
       "<!DOCTYPE svg PUBLIC \"-//W3C//DTD SVG 1.1//EN\"\n",
       " \"http://www.w3.org/Graphics/SVG/1.1/DTD/svg11.dtd\">\n",
       "<!-- Generated by graphviz version 2.40.1 (20161225.0304)\n",
       " -->\n",
       "<!-- Title: %3 Pages: 1 -->\n",
       "<svg width=\"726pt\" height=\"686pt\"\n",
       " viewBox=\"0.00 0.00 726.00 686.00\" xmlns=\"http://www.w3.org/2000/svg\" xmlns:xlink=\"http://www.w3.org/1999/xlink\">\n",
       "<g id=\"graph0\" class=\"graph\" transform=\"scale(1 1) rotate(0) translate(4 682)\">\n",
       "<title>%3</title>\n",
       "<polygon fill=\"#ffffff\" stroke=\"transparent\" points=\"-4,4 -4,-682 722,-682 722,4 -4,4\"/>\n",
       "<!-- 0 -->\n",
       "<g id=\"node1\" class=\"node\">\n",
       "<title>0</title>\n",
       "<text text-anchor=\"middle\" x=\"166\" y=\"-666.8\" font-family=\"Times,serif\" font-size=\"14.00\" fill=\"#000000\">&lt;start&gt;</text>\n",
       "</g>\n",
       "<!-- 1 -->\n",
       "<g id=\"node2\" class=\"node\">\n",
       "<title>1</title>\n",
       "<text text-anchor=\"middle\" x=\"166\" y=\"-615.8\" font-family=\"Times,serif\" font-size=\"14.00\" fill=\"#000000\">&lt;html&gt;</text>\n",
       "</g>\n",
       "<!-- 0&#45;&gt;1 -->\n",
       "<g id=\"edge1\" class=\"edge\">\n",
       "<title>0&#45;&gt;1</title>\n",
       "<path fill=\"none\" stroke=\"#000000\" d=\"M166,-662.9748C166,-656.195 166,-645.966 166,-637.1331\"/>\n",
       "<polygon fill=\"#000000\" stroke=\"#000000\" points=\"169.5001,-637.0561 166,-627.0561 162.5001,-637.0561 169.5001,-637.0561\"/>\n",
       "</g>\n",
       "<!-- 2 -->\n",
       "<g id=\"node3\" class=\"node\">\n",
       "<title>2</title>\n",
       "<text text-anchor=\"middle\" x=\"166\" y=\"-564.8\" font-family=\"Times,serif\" font-size=\"14.00\" fill=\"#000000\">&lt;tagged&#45;text&gt;</text>\n",
       "</g>\n",
       "<!-- 1&#45;&gt;2 -->\n",
       "<g id=\"edge2\" class=\"edge\">\n",
       "<title>1&#45;&gt;2</title>\n",
       "<path fill=\"none\" stroke=\"#000000\" d=\"M166,-611.9748C166,-605.195 166,-594.966 166,-586.1331\"/>\n",
       "<polygon fill=\"#000000\" stroke=\"#000000\" points=\"169.5001,-586.0561 166,-576.0561 162.5001,-586.0561 169.5001,-586.0561\"/>\n",
       "</g>\n",
       "<!-- 3 -->\n",
       "<g id=\"node4\" class=\"node\">\n",
       "<title>3</title>\n",
       "<text text-anchor=\"middle\" x=\"166\" y=\"-513.8\" font-family=\"Times,serif\" font-size=\"14.00\" fill=\"#000000\">&lt;combined&#45;tag&gt;</text>\n",
       "</g>\n",
       "<!-- 2&#45;&gt;3 -->\n",
       "<g id=\"edge3\" class=\"edge\">\n",
       "<title>2&#45;&gt;3</title>\n",
       "<path fill=\"none\" stroke=\"#000000\" d=\"M166,-560.9748C166,-554.195 166,-543.966 166,-535.1331\"/>\n",
       "<polygon fill=\"#000000\" stroke=\"#000000\" points=\"169.5001,-535.0561 166,-525.0561 162.5001,-535.0561 169.5001,-535.0561\"/>\n",
       "</g>\n",
       "<!-- 4 -->\n",
       "<g id=\"node5\" class=\"node\">\n",
       "<title>4</title>\n",
       "<text text-anchor=\"middle\" x=\"27\" y=\"-462.8\" font-family=\"Times,serif\" font-size=\"14.00\" fill=\"#000000\">&lt;lt&gt;</text>\n",
       "</g>\n",
       "<!-- 3&#45;&gt;4 -->\n",
       "<g id=\"edge4\" class=\"edge\">\n",
       "<title>3&#45;&gt;4</title>\n",
       "<path fill=\"none\" stroke=\"#000000\" d=\"M145.4901,-509.9748C119.6228,-500.4839 75.3337,-484.234 48.8489,-474.5165\"/>\n",
       "<polygon fill=\"#000000\" stroke=\"#000000\" points=\"49.9213,-471.1819 39.3277,-471.0231 47.5101,-477.7535 49.9213,-471.1819\"/>\n",
       "</g>\n",
       "<!-- 6 -->\n",
       "<g id=\"node7\" class=\"node\">\n",
       "<title>6</title>\n",
       "<text text-anchor=\"middle\" x=\"93\" y=\"-462.8\" font-family=\"Times,serif\" font-size=\"14.00\" fill=\"#000000\">&lt;id&gt;</text>\n",
       "</g>\n",
       "<!-- 3&#45;&gt;6 -->\n",
       "<g id=\"edge6\" class=\"edge\">\n",
       "<title>3&#45;&gt;6</title>\n",
       "<path fill=\"none\" stroke=\"#000000\" d=\"M155.2286,-509.9748C143.9068,-502.065 125.8651,-489.4606 112.1166,-479.8554\"/>\n",
       "<polygon fill=\"#000000\" stroke=\"#000000\" points=\"114.0177,-476.9141 103.8156,-474.0561 110.0087,-482.6524 114.0177,-476.9141\"/>\n",
       "</g>\n",
       "<!-- 12 -->\n",
       "<g id=\"node13\" class=\"node\">\n",
       "<title>12</title>\n",
       "<text text-anchor=\"middle\" x=\"166\" y=\"-462.8\" font-family=\"Times,serif\" font-size=\"14.00\" fill=\"#000000\">&lt;attrs&gt;</text>\n",
       "</g>\n",
       "<!-- 3&#45;&gt;12 -->\n",
       "<g id=\"edge12\" class=\"edge\">\n",
       "<title>3&#45;&gt;12</title>\n",
       "<path fill=\"none\" stroke=\"#000000\" d=\"M166,-509.9748C166,-503.195 166,-492.966 166,-484.1331\"/>\n",
       "<polygon fill=\"#000000\" stroke=\"#000000\" points=\"169.5001,-484.0561 166,-474.0561 162.5001,-484.0561 169.5001,-484.0561\"/>\n",
       "</g>\n",
       "<!-- 59 -->\n",
       "<g id=\"node60\" class=\"node\">\n",
       "<title>59</title>\n",
       "<text text-anchor=\"middle\" x=\"206\" y=\"-462.8\" font-family=\"Times,serif\" font-size=\"14.00\" fill=\"#000000\">/</text>\n",
       "</g>\n",
       "<!-- 3&#45;&gt;59 -->\n",
       "<g id=\"edge59\" class=\"edge\">\n",
       "<title>3&#45;&gt;59</title>\n",
       "<path fill=\"none\" stroke=\"#000000\" d=\"M171.9021,-509.9748C178.6825,-501.3299 189.8611,-487.0771 197.5598,-477.2613\"/>\n",
       "<polygon fill=\"#000000\" stroke=\"#000000\" points=\"200.3893,-479.3249 203.8068,-469.2964 194.8813,-475.0049 200.3893,-479.3249\"/>\n",
       "</g>\n",
       "<!-- 60 -->\n",
       "<g id=\"node61\" class=\"node\">\n",
       "<title>60</title>\n",
       "<text text-anchor=\"middle\" x=\"263\" y=\"-462.8\" font-family=\"Times,serif\" font-size=\"14.00\" fill=\"#000000\">&lt;gt&gt;</text>\n",
       "</g>\n",
       "<!-- 3&#45;&gt;60 -->\n",
       "<g id=\"edge60\" class=\"edge\">\n",
       "<title>3&#45;&gt;60</title>\n",
       "<path fill=\"none\" stroke=\"#000000\" d=\"M180.3127,-509.9748C196.1094,-501.6693 221.7509,-488.1877 240.2956,-478.4374\"/>\n",
       "<polygon fill=\"#000000\" stroke=\"#000000\" points=\"242.0343,-481.4775 249.2567,-473.7259 238.7767,-475.2817 242.0343,-481.4775\"/>\n",
       "</g>\n",
       "<!-- 5 -->\n",
       "<g id=\"node6\" class=\"node\">\n",
       "<title>5</title>\n",
       "<text text-anchor=\"middle\" x=\"4\" y=\"-411.8\" font-family=\"Times,serif\" font-size=\"14.00\" fill=\"#000000\">&lt;</text>\n",
       "</g>\n",
       "<!-- 4&#45;&gt;5 -->\n",
       "<g id=\"edge5\" class=\"edge\">\n",
       "<title>4&#45;&gt;5</title>\n",
       "<path fill=\"none\" stroke=\"#000000\" d=\"M23.6063,-458.9748C20.4468,-451.969 15.6264,-441.2803 11.556,-432.2547\"/>\n",
       "<polygon fill=\"#000000\" stroke=\"#000000\" points=\"14.7093,-430.7331 7.4077,-423.0561 8.3282,-433.6109 14.7093,-430.7331\"/>\n",
       "</g>\n",
       "<!-- 7 -->\n",
       "<g id=\"node8\" class=\"node\">\n",
       "<title>7</title>\n",
       "<text text-anchor=\"middle\" x=\"40\" y=\"-411.8\" font-family=\"Times,serif\" font-size=\"14.00\" fill=\"#000000\">&lt;id&gt;</text>\n",
       "</g>\n",
       "<!-- 6&#45;&gt;7 -->\n",
       "<g id=\"edge7\" class=\"edge\">\n",
       "<title>6&#45;&gt;7</title>\n",
       "<path fill=\"none\" stroke=\"#000000\" d=\"M85.1797,-458.9748C77.3511,-451.4417 65.0974,-439.6503 55.3255,-430.2472\"/>\n",
       "<polygon fill=\"#000000\" stroke=\"#000000\" points=\"57.485,-427.4679 47.8524,-423.0561 52.6313,-432.5119 57.485,-427.4679\"/>\n",
       "</g>\n",
       "<!-- 10 -->\n",
       "<g id=\"node11\" class=\"node\">\n",
       "<title>10</title>\n",
       "<text text-anchor=\"middle\" x=\"93\" y=\"-411.8\" font-family=\"Times,serif\" font-size=\"14.00\" fill=\"#000000\">&lt;digit&gt;</text>\n",
       "</g>\n",
       "<!-- 6&#45;&gt;10 -->\n",
       "<g id=\"edge10\" class=\"edge\">\n",
       "<title>6&#45;&gt;10</title>\n",
       "<path fill=\"none\" stroke=\"#000000\" d=\"M93,-458.9748C93,-452.195 93,-441.966 93,-433.1331\"/>\n",
       "<polygon fill=\"#000000\" stroke=\"#000000\" points=\"96.5001,-433.0561 93,-423.0561 89.5001,-433.0561 96.5001,-433.0561\"/>\n",
       "</g>\n",
       "<!-- 8 -->\n",
       "<g id=\"node9\" class=\"node\">\n",
       "<title>8</title>\n",
       "<text text-anchor=\"middle\" x=\"35\" y=\"-360.8\" font-family=\"Times,serif\" font-size=\"14.00\" fill=\"#000000\">&lt;letter&gt;</text>\n",
       "</g>\n",
       "<!-- 7&#45;&gt;8 -->\n",
       "<g id=\"edge8\" class=\"edge\">\n",
       "<title>7&#45;&gt;8</title>\n",
       "<path fill=\"none\" stroke=\"#000000\" d=\"M39.2622,-407.9748C38.5975,-401.195 37.5947,-390.966 36.7287,-382.1331\"/>\n",
       "<polygon fill=\"#000000\" stroke=\"#000000\" points=\"40.1999,-381.6669 35.7408,-372.0561 33.2333,-382.3499 40.1999,-381.6669\"/>\n",
       "</g>\n",
       "<!-- 9 -->\n",
       "<g id=\"node10\" class=\"node\">\n",
       "<title>9</title>\n",
       "<text text-anchor=\"middle\" x=\"35\" y=\"-309.8\" font-family=\"Times,serif\" font-size=\"14.00\" fill=\"#000000\">B</text>\n",
       "</g>\n",
       "<!-- 8&#45;&gt;9 -->\n",
       "<g id=\"edge9\" class=\"edge\">\n",
       "<title>8&#45;&gt;9</title>\n",
       "<path fill=\"none\" stroke=\"#000000\" d=\"M35,-356.9748C35,-350.195 35,-339.966 35,-331.1331\"/>\n",
       "<polygon fill=\"#000000\" stroke=\"#000000\" points=\"38.5001,-331.0561 35,-321.0561 31.5001,-331.0561 38.5001,-331.0561\"/>\n",
       "</g>\n",
       "<!-- 11 -->\n",
       "<g id=\"node12\" class=\"node\">\n",
       "<title>11</title>\n",
       "<text text-anchor=\"middle\" x=\"80\" y=\"-360.8\" font-family=\"Times,serif\" font-size=\"14.00\" fill=\"#000000\">2</text>\n",
       "</g>\n",
       "<!-- 10&#45;&gt;11 -->\n",
       "<g id=\"edge11\" class=\"edge\">\n",
       "<title>10&#45;&gt;11</title>\n",
       "<path fill=\"none\" stroke=\"#000000\" d=\"M91.0818,-407.9748C89.3344,-401.1196 86.6882,-390.7383 84.4198,-381.8392\"/>\n",
       "<polygon fill=\"#000000\" stroke=\"#000000\" points=\"87.7877,-380.8817 81.9261,-372.0561 81.0046,-382.6108 87.7877,-380.8817\"/>\n",
       "</g>\n",
       "<!-- 13 -->\n",
       "<g id=\"node14\" class=\"node\">\n",
       "<title>13</title>\n",
       "<text text-anchor=\"middle\" x=\"155\" y=\"-411.8\" font-family=\"Times,serif\" font-size=\"14.00\" fill=\"#000000\">&lt;attr&gt;</text>\n",
       "</g>\n",
       "<!-- 12&#45;&gt;13 -->\n",
       "<g id=\"edge13\" class=\"edge\">\n",
       "<title>12&#45;&gt;13</title>\n",
       "<path fill=\"none\" stroke=\"#000000\" d=\"M164.3769,-458.9748C162.8984,-452.1196 160.6592,-441.7383 158.7398,-432.8392\"/>\n",
       "<polygon fill=\"#000000\" stroke=\"#000000\" points=\"162.1595,-432.0934 156.6297,-423.0561 155.3169,-433.5693 162.1595,-432.0934\"/>\n",
       "</g>\n",
       "<!-- 25 -->\n",
       "<g id=\"node26\" class=\"node\">\n",
       "<title>25</title>\n",
       "<text text-anchor=\"middle\" x=\"193\" y=\"-411.8\" font-family=\"Times,serif\" font-size=\"14.00\" fill=\"#000000\"> </text>\n",
       "</g>\n",
       "<!-- 12&#45;&gt;25 -->\n",
       "<g id=\"edge25\" class=\"edge\">\n",
       "<title>12&#45;&gt;25</title>\n",
       "<path fill=\"none\" stroke=\"#000000\" d=\"M169.9839,-458.9748C174.2045,-451.0027 180.9498,-438.2616 186.0494,-428.6289\"/>\n",
       "<polygon fill=\"#000000\" stroke=\"#000000\" points=\"189.2999,-429.9694 190.8856,-419.4939 183.1134,-426.6942 189.2999,-429.9694\"/>\n",
       "</g>\n",
       "<!-- 26 -->\n",
       "<g id=\"node27\" class=\"node\">\n",
       "<title>26</title>\n",
       "<text text-anchor=\"middle\" x=\"233\" y=\"-411.8\" font-family=\"Times,serif\" font-size=\"14.00\" fill=\"#000000\">&lt;attrs&gt;</text>\n",
       "</g>\n",
       "<!-- 12&#45;&gt;26 -->\n",
       "<g id=\"edge26\" class=\"edge\">\n",
       "<title>12&#45;&gt;26</title>\n",
       "<path fill=\"none\" stroke=\"#000000\" d=\"M175.8861,-458.9748C186.1784,-451.1403 202.5213,-438.7002 215.093,-429.1307\"/>\n",
       "<polygon fill=\"#000000\" stroke=\"#000000\" points=\"217.2362,-431.898 223.0734,-423.0561 212.9964,-426.328 217.2362,-431.898\"/>\n",
       "</g>\n",
       "<!-- 14 -->\n",
       "<g id=\"node15\" class=\"node\">\n",
       "<title>14</title>\n",
       "<text text-anchor=\"middle\" x=\"116\" y=\"-360.8\" font-family=\"Times,serif\" font-size=\"14.00\" fill=\"#000000\">&lt;id&gt;</text>\n",
       "</g>\n",
       "<!-- 13&#45;&gt;14 -->\n",
       "<g id=\"edge14\" class=\"edge\">\n",
       "<title>13&#45;&gt;14</title>\n",
       "<path fill=\"none\" stroke=\"#000000\" d=\"M149.2454,-407.9748C143.6576,-400.6677 135.006,-389.354 127.9292,-380.0997\"/>\n",
       "<polygon fill=\"#000000\" stroke=\"#000000\" points=\"130.633,-377.8736 121.7782,-372.0561 125.0725,-382.1258 130.633,-377.8736\"/>\n",
       "</g>\n",
       "<!-- 17 -->\n",
       "<g id=\"node18\" class=\"node\">\n",
       "<title>17</title>\n",
       "<text text-anchor=\"middle\" x=\"155\" y=\"-360.8\" font-family=\"Times,serif\" font-size=\"14.00\" fill=\"#000000\">=&quot;</text>\n",
       "</g>\n",
       "<!-- 13&#45;&gt;17 -->\n",
       "<g id=\"edge17\" class=\"edge\">\n",
       "<title>13&#45;&gt;17</title>\n",
       "<path fill=\"none\" stroke=\"#000000\" d=\"M155,-407.9748C155,-401.195 155,-390.966 155,-382.1331\"/>\n",
       "<polygon fill=\"#000000\" stroke=\"#000000\" points=\"158.5001,-382.0561 155,-372.0561 151.5001,-382.0561 158.5001,-382.0561\"/>\n",
       "</g>\n",
       "<!-- 18 -->\n",
       "<g id=\"node19\" class=\"node\">\n",
       "<title>18</title>\n",
       "<text text-anchor=\"middle\" x=\"215\" y=\"-360.8\" font-family=\"Times,serif\" font-size=\"14.00\" fill=\"#000000\">&lt;plain&#45;text&gt;</text>\n",
       "</g>\n",
       "<!-- 13&#45;&gt;18 -->\n",
       "<g id=\"edge18\" class=\"edge\">\n",
       "<title>13&#45;&gt;18</title>\n",
       "<path fill=\"none\" stroke=\"#000000\" d=\"M163.8532,-407.9748C172.8929,-400.291 187.1447,-388.177 198.3107,-378.6859\"/>\n",
       "<polygon fill=\"#000000\" stroke=\"#000000\" points=\"200.7578,-381.1994 206.1105,-372.0561 196.2243,-375.8658 200.7578,-381.1994\"/>\n",
       "</g>\n",
       "<!-- 24 -->\n",
       "<g id=\"node25\" class=\"node\">\n",
       "<title>24</title>\n",
       "<text text-anchor=\"middle\" x=\"271\" y=\"-360.8\" font-family=\"Times,serif\" font-size=\"14.00\" fill=\"#000000\">&quot;</text>\n",
       "</g>\n",
       "<!-- 13&#45;&gt;24 -->\n",
       "<g id=\"edge24\" class=\"edge\">\n",
       "<title>13&#45;&gt;24</title>\n",
       "<path fill=\"none\" stroke=\"#000000\" d=\"M172.6912,-409.1081C193.7084,-401.2865 229.6222,-387.1966 259,-372 259.0982,-371.9492 259.1966,-371.8979 259.2953,-371.8461\"/>\n",
       "<polygon fill=\"#000000\" stroke=\"#000000\" points=\"261.1853,-374.7933 267.9235,-366.6172 257.5573,-368.8068 261.1853,-374.7933\"/>\n",
       "</g>\n",
       "<!-- 15 -->\n",
       "<g id=\"node16\" class=\"node\">\n",
       "<title>15</title>\n",
       "<text text-anchor=\"middle\" x=\"98\" y=\"-309.8\" font-family=\"Times,serif\" font-size=\"14.00\" fill=\"#000000\">&lt;letter&gt;</text>\n",
       "</g>\n",
       "<!-- 14&#45;&gt;15 -->\n",
       "<g id=\"edge15\" class=\"edge\">\n",
       "<title>14&#45;&gt;15</title>\n",
       "<path fill=\"none\" stroke=\"#000000\" d=\"M113.344,-356.9748C110.898,-350.0443 107.1799,-339.5097 104.0164,-330.5464\"/>\n",
       "<polygon fill=\"#000000\" stroke=\"#000000\" points=\"107.2956,-329.3211 100.6669,-321.0561 100.6947,-331.6509 107.2956,-329.3211\"/>\n",
       "</g>\n",
       "<!-- 16 -->\n",
       "<g id=\"node17\" class=\"node\">\n",
       "<title>16</title>\n",
       "<text text-anchor=\"middle\" x=\"98\" y=\"-258.8\" font-family=\"Times,serif\" font-size=\"14.00\" fill=\"#000000\">M</text>\n",
       "</g>\n",
       "<!-- 15&#45;&gt;16 -->\n",
       "<g id=\"edge16\" class=\"edge\">\n",
       "<title>15&#45;&gt;16</title>\n",
       "<path fill=\"none\" stroke=\"#000000\" d=\"M98,-305.9748C98,-299.195 98,-288.966 98,-280.1331\"/>\n",
       "<polygon fill=\"#000000\" stroke=\"#000000\" points=\"101.5001,-280.0561 98,-270.0561 94.5001,-280.0561 101.5001,-280.0561\"/>\n",
       "</g>\n",
       "<!-- 19 -->\n",
       "<g id=\"node20\" class=\"node\">\n",
       "<title>19</title>\n",
       "<text text-anchor=\"middle\" x=\"175\" y=\"-309.8\" font-family=\"Times,serif\" font-size=\"14.00\" fill=\"#000000\">&lt;plain&#45;char&gt;</text>\n",
       "</g>\n",
       "<!-- 18&#45;&gt;19 -->\n",
       "<g id=\"edge19\" class=\"edge\">\n",
       "<title>18&#45;&gt;19</title>\n",
       "<path fill=\"none\" stroke=\"#000000\" d=\"M209.0979,-356.9748C203.3668,-349.6677 194.4933,-338.354 187.2351,-329.0997\"/>\n",
       "<polygon fill=\"#000000\" stroke=\"#000000\" points=\"189.8518,-326.7647 180.9264,-321.0561 184.3438,-331.0847 189.8518,-326.7647\"/>\n",
       "</g>\n",
       "<!-- 22 -->\n",
       "<g id=\"node23\" class=\"node\">\n",
       "<title>22</title>\n",
       "<text text-anchor=\"middle\" x=\"265\" y=\"-309.8\" font-family=\"Times,serif\" font-size=\"14.00\" fill=\"#000000\">&lt;plain&#45;text&gt;</text>\n",
       "</g>\n",
       "<!-- 18&#45;&gt;22 -->\n",
       "<g id=\"edge22\" class=\"edge\">\n",
       "<title>18&#45;&gt;22</title>\n",
       "<path fill=\"none\" stroke=\"#000000\" d=\"M222.3777,-356.9748C229.7631,-349.4417 241.3232,-337.6503 250.542,-328.2472\"/>\n",
       "<polygon fill=\"#000000\" stroke=\"#000000\" points=\"253.0906,-330.6471 257.5921,-321.0561 248.0921,-325.7466 253.0906,-330.6471\"/>\n",
       "</g>\n",
       "<!-- 20 -->\n",
       "<g id=\"node21\" class=\"node\">\n",
       "<title>20</title>\n",
       "<text text-anchor=\"middle\" x=\"175\" y=\"-258.8\" font-family=\"Times,serif\" font-size=\"14.00\" fill=\"#000000\">&lt;letter&gt;</text>\n",
       "</g>\n",
       "<!-- 19&#45;&gt;20 -->\n",
       "<g id=\"edge20\" class=\"edge\">\n",
       "<title>19&#45;&gt;20</title>\n",
       "<path fill=\"none\" stroke=\"#000000\" d=\"M175,-305.9748C175,-299.195 175,-288.966 175,-280.1331\"/>\n",
       "<polygon fill=\"#000000\" stroke=\"#000000\" points=\"178.5001,-280.0561 175,-270.0561 171.5001,-280.0561 178.5001,-280.0561\"/>\n",
       "</g>\n",
       "<!-- 21 -->\n",
       "<g id=\"node22\" class=\"node\">\n",
       "<title>21</title>\n",
       "<text text-anchor=\"middle\" x=\"175\" y=\"-207.8\" font-family=\"Times,serif\" font-size=\"14.00\" fill=\"#000000\">I</text>\n",
       "</g>\n",
       "<!-- 20&#45;&gt;21 -->\n",
       "<g id=\"edge21\" class=\"edge\">\n",
       "<title>20&#45;&gt;21</title>\n",
       "<path fill=\"none\" stroke=\"#000000\" d=\"M175,-254.9748C175,-248.195 175,-237.966 175,-229.1331\"/>\n",
       "<polygon fill=\"#000000\" stroke=\"#000000\" points=\"178.5001,-229.0561 175,-219.0561 171.5001,-229.0561 178.5001,-229.0561\"/>\n",
       "</g>\n",
       "<!-- 23 -->\n",
       "<g id=\"node24\" class=\"node\">\n",
       "<title>23</title>\n",
       "</g>\n",
       "<!-- 22&#45;&gt;23 -->\n",
       "<g id=\"edge23\" class=\"edge\">\n",
       "<title>22&#45;&gt;23</title>\n",
       "<path fill=\"none\" stroke=\"#000000\" d=\"M265,-305.9748C265,-305.9194 265,-305.8637 265,-305.8078\"/>\n",
       "<polygon fill=\"#000000\" stroke=\"#000000\" points=\"268.5059,-315.6375 265,-305.6395 261.5059,-315.6416 268.5059,-315.6375\"/>\n",
       "</g>\n",
       "<!-- 27 -->\n",
       "<g id=\"node28\" class=\"node\">\n",
       "<title>27</title>\n",
       "<text text-anchor=\"middle\" x=\"369\" y=\"-360.8\" font-family=\"Times,serif\" font-size=\"14.00\" fill=\"#000000\">&lt;attr&gt;</text>\n",
       "</g>\n",
       "<!-- 26&#45;&gt;27 -->\n",
       "<g id=\"edge27\" class=\"edge\">\n",
       "<title>26&#45;&gt;27</title>\n",
       "<path fill=\"none\" stroke=\"#000000\" d=\"M253.0673,-407.9748C276.5498,-399.1688 315.549,-384.5441 341.7538,-374.7173\"/>\n",
       "<polygon fill=\"#000000\" stroke=\"#000000\" points=\"343.3124,-377.8709 351.4467,-371.0825 340.8545,-371.3166 343.3124,-377.8709\"/>\n",
       "</g>\n",
       "<!-- 28 -->\n",
       "<g id=\"node29\" class=\"node\">\n",
       "<title>28</title>\n",
       "<text text-anchor=\"middle\" x=\"332\" y=\"-309.8\" font-family=\"Times,serif\" font-size=\"14.00\" fill=\"#000000\">&lt;id&gt;</text>\n",
       "</g>\n",
       "<!-- 27&#45;&gt;28 -->\n",
       "<g id=\"edge28\" class=\"edge\">\n",
       "<title>27&#45;&gt;28</title>\n",
       "<path fill=\"none\" stroke=\"#000000\" d=\"M363.5405,-356.9748C358.2939,-349.743 350.2002,-338.5868 343.5256,-329.3866\"/>\n",
       "<polygon fill=\"#000000\" stroke=\"#000000\" points=\"346.1872,-327.095 337.4819,-321.0561 340.5212,-331.2056 346.1872,-327.095\"/>\n",
       "</g>\n",
       "<!-- 43 -->\n",
       "<g id=\"node44\" class=\"node\">\n",
       "<title>43</title>\n",
       "<text text-anchor=\"middle\" x=\"369\" y=\"-309.8\" font-family=\"Times,serif\" font-size=\"14.00\" fill=\"#000000\">=&#39;</text>\n",
       "</g>\n",
       "<!-- 27&#45;&gt;43 -->\n",
       "<g id=\"edge43\" class=\"edge\">\n",
       "<title>27&#45;&gt;43</title>\n",
       "<path fill=\"none\" stroke=\"#000000\" d=\"M369,-356.9748C369,-350.195 369,-339.966 369,-331.1331\"/>\n",
       "<polygon fill=\"#000000\" stroke=\"#000000\" points=\"372.5001,-331.0561 369,-321.0561 365.5001,-331.0561 372.5001,-331.0561\"/>\n",
       "</g>\n",
       "<!-- 44 -->\n",
       "<g id=\"node45\" class=\"node\">\n",
       "<title>44</title>\n",
       "<text text-anchor=\"middle\" x=\"428\" y=\"-309.8\" font-family=\"Times,serif\" font-size=\"14.00\" fill=\"#000000\">&lt;plain&#45;text&gt;</text>\n",
       "</g>\n",
       "<!-- 27&#45;&gt;44 -->\n",
       "<g id=\"edge44\" class=\"edge\">\n",
       "<title>27&#45;&gt;44</title>\n",
       "<path fill=\"none\" stroke=\"#000000\" d=\"M377.7057,-356.9748C386.5947,-349.291 400.609,-337.177 411.5889,-327.6859\"/>\n",
       "<polygon fill=\"#000000\" stroke=\"#000000\" points=\"413.9821,-330.2435 419.2586,-321.0561 409.4044,-324.9478 413.9821,-330.2435\"/>\n",
       "</g>\n",
       "<!-- 58 -->\n",
       "<g id=\"node59\" class=\"node\">\n",
       "<title>58</title>\n",
       "<text text-anchor=\"middle\" x=\"483\" y=\"-309.8\" font-family=\"Times,serif\" font-size=\"14.00\" fill=\"#000000\">&#39;</text>\n",
       "</g>\n",
       "<!-- 27&#45;&gt;58 -->\n",
       "<g id=\"edge58\" class=\"edge\">\n",
       "<title>27&#45;&gt;58</title>\n",
       "<path fill=\"none\" stroke=\"#000000\" d=\"M386.6218,-358.2823C407.5338,-350.6281 443.1953,-336.6992 472,-321 472.3349,-320.8175 472.6723,-320.6273 473.0105,-320.4313\"/>\n",
       "<polygon fill=\"#000000\" stroke=\"#000000\" points=\"475.1889,-323.1828 481.4952,-314.6692 471.2562,-317.3919 475.1889,-323.1828\"/>\n",
       "</g>\n",
       "<!-- 29 -->\n",
       "<g id=\"node30\" class=\"node\">\n",
       "<title>29</title>\n",
       "<text text-anchor=\"middle\" x=\"298\" y=\"-258.8\" font-family=\"Times,serif\" font-size=\"14.00\" fill=\"#000000\">&lt;id&gt;</text>\n",
       "</g>\n",
       "<!-- 28&#45;&gt;29 -->\n",
       "<g id=\"edge29\" class=\"edge\">\n",
       "<title>28&#45;&gt;29</title>\n",
       "<path fill=\"none\" stroke=\"#000000\" d=\"M326.9832,-305.9748C322.162,-298.743 314.7246,-287.5868 308.5911,-278.3866\"/>\n",
       "<polygon fill=\"#000000\" stroke=\"#000000\" points=\"311.4966,-276.4352 303.0374,-270.0561 305.6723,-280.3181 311.4966,-276.4352\"/>\n",
       "</g>\n",
       "<!-- 41 -->\n",
       "<g id=\"node42\" class=\"node\">\n",
       "<title>41</title>\n",
       "<text text-anchor=\"middle\" x=\"351\" y=\"-258.8\" font-family=\"Times,serif\" font-size=\"14.00\" fill=\"#000000\">&lt;digit&gt;</text>\n",
       "</g>\n",
       "<!-- 28&#45;&gt;41 -->\n",
       "<g id=\"edge41\" class=\"edge\">\n",
       "<title>28&#45;&gt;41</title>\n",
       "<path fill=\"none\" stroke=\"#000000\" d=\"M334.8035,-305.9748C337.3855,-299.0443 341.3101,-288.5097 344.6494,-279.5464\"/>\n",
       "<polygon fill=\"#000000\" stroke=\"#000000\" points=\"347.9736,-280.6488 348.185,-270.0561 341.414,-278.205 347.9736,-280.6488\"/>\n",
       "</g>\n",
       "<!-- 30 -->\n",
       "<g id=\"node31\" class=\"node\">\n",
       "<title>30</title>\n",
       "<text text-anchor=\"middle\" x=\"248\" y=\"-207.8\" font-family=\"Times,serif\" font-size=\"14.00\" fill=\"#000000\">&lt;id&gt;</text>\n",
       "</g>\n",
       "<!-- 29&#45;&gt;30 -->\n",
       "<g id=\"edge30\" class=\"edge\">\n",
       "<title>29&#45;&gt;30</title>\n",
       "<path fill=\"none\" stroke=\"#000000\" d=\"M290.6223,-254.9748C283.2369,-247.4417 271.6768,-235.6503 262.458,-226.2472\"/>\n",
       "<polygon fill=\"#000000\" stroke=\"#000000\" points=\"264.9079,-223.7466 255.4079,-219.0561 259.9094,-228.6471 264.9079,-223.7466\"/>\n",
       "</g>\n",
       "<!-- 39 -->\n",
       "<g id=\"node40\" class=\"node\">\n",
       "<title>39</title>\n",
       "<text text-anchor=\"middle\" x=\"302\" y=\"-207.8\" font-family=\"Times,serif\" font-size=\"14.00\" fill=\"#000000\">&lt;letter&gt;</text>\n",
       "</g>\n",
       "<!-- 29&#45;&gt;39 -->\n",
       "<g id=\"edge39\" class=\"edge\">\n",
       "<title>29&#45;&gt;39</title>\n",
       "<path fill=\"none\" stroke=\"#000000\" d=\"M298.5902,-254.9748C299.122,-248.195 299.9242,-237.966 300.617,-229.1331\"/>\n",
       "<polygon fill=\"#000000\" stroke=\"#000000\" points=\"304.1146,-229.2992 301.4074,-219.0561 297.1361,-228.7518 304.1146,-229.2992\"/>\n",
       "</g>\n",
       "<!-- 31 -->\n",
       "<g id=\"node32\" class=\"node\">\n",
       "<title>31</title>\n",
       "<text text-anchor=\"middle\" x=\"200\" y=\"-156.8\" font-family=\"Times,serif\" font-size=\"14.00\" fill=\"#000000\">&lt;id&gt;</text>\n",
       "</g>\n",
       "<!-- 30&#45;&gt;31 -->\n",
       "<g id=\"edge31\" class=\"edge\">\n",
       "<title>30&#45;&gt;31</title>\n",
       "<path fill=\"none\" stroke=\"#000000\" d=\"M240.9174,-203.9748C233.8983,-196.517 222.9513,-184.8857 214.1459,-175.53\"/>\n",
       "<polygon fill=\"#000000\" stroke=\"#000000\" points=\"216.514,-172.9393 207.1116,-168.0561 211.4166,-177.7369 216.514,-172.9393\"/>\n",
       "</g>\n",
       "<!-- 37 -->\n",
       "<g id=\"node38\" class=\"node\">\n",
       "<title>37</title>\n",
       "<text text-anchor=\"middle\" x=\"253\" y=\"-156.8\" font-family=\"Times,serif\" font-size=\"14.00\" fill=\"#000000\">&lt;digit&gt;</text>\n",
       "</g>\n",
       "<!-- 30&#45;&gt;37 -->\n",
       "<g id=\"edge37\" class=\"edge\">\n",
       "<title>30&#45;&gt;37</title>\n",
       "<path fill=\"none\" stroke=\"#000000\" d=\"M248.7378,-203.9748C249.4025,-197.195 250.4053,-186.966 251.2713,-178.1331\"/>\n",
       "<polygon fill=\"#000000\" stroke=\"#000000\" points=\"254.7667,-178.3499 252.2592,-168.0561 247.8001,-177.6669 254.7667,-178.3499\"/>\n",
       "</g>\n",
       "<!-- 32 -->\n",
       "<g id=\"node33\" class=\"node\">\n",
       "<title>32</title>\n",
       "<text text-anchor=\"middle\" x=\"150\" y=\"-105.8\" font-family=\"Times,serif\" font-size=\"14.00\" fill=\"#000000\">&lt;id&gt;</text>\n",
       "</g>\n",
       "<!-- 31&#45;&gt;32 -->\n",
       "<g id=\"edge32\" class=\"edge\">\n",
       "<title>31&#45;&gt;32</title>\n",
       "<path fill=\"none\" stroke=\"#000000\" d=\"M192.6223,-152.9748C185.2369,-145.4417 173.6768,-133.6503 164.458,-124.2472\"/>\n",
       "<polygon fill=\"#000000\" stroke=\"#000000\" points=\"166.9079,-121.7466 157.4079,-117.0561 161.9094,-126.6471 166.9079,-121.7466\"/>\n",
       "</g>\n",
       "<!-- 35 -->\n",
       "<g id=\"node36\" class=\"node\">\n",
       "<title>35</title>\n",
       "<text text-anchor=\"middle\" x=\"204\" y=\"-105.8\" font-family=\"Times,serif\" font-size=\"14.00\" fill=\"#000000\">&lt;letter&gt;</text>\n",
       "</g>\n",
       "<!-- 31&#45;&gt;35 -->\n",
       "<g id=\"edge35\" class=\"edge\">\n",
       "<title>31&#45;&gt;35</title>\n",
       "<path fill=\"none\" stroke=\"#000000\" d=\"M200.5902,-152.9748C201.122,-146.195 201.9242,-135.966 202.617,-127.1331\"/>\n",
       "<polygon fill=\"#000000\" stroke=\"#000000\" points=\"206.1146,-127.2992 203.4074,-117.0561 199.1361,-126.7518 206.1146,-127.2992\"/>\n",
       "</g>\n",
       "<!-- 33 -->\n",
       "<g id=\"node34\" class=\"node\">\n",
       "<title>33</title>\n",
       "<text text-anchor=\"middle\" x=\"150\" y=\"-54.8\" font-family=\"Times,serif\" font-size=\"14.00\" fill=\"#000000\">&lt;letter&gt;</text>\n",
       "</g>\n",
       "<!-- 32&#45;&gt;33 -->\n",
       "<g id=\"edge33\" class=\"edge\">\n",
       "<title>32&#45;&gt;33</title>\n",
       "<path fill=\"none\" stroke=\"#000000\" d=\"M150,-101.9748C150,-95.195 150,-84.966 150,-76.1331\"/>\n",
       "<polygon fill=\"#000000\" stroke=\"#000000\" points=\"153.5001,-76.0561 150,-66.0561 146.5001,-76.0561 153.5001,-76.0561\"/>\n",
       "</g>\n",
       "<!-- 34 -->\n",
       "<g id=\"node35\" class=\"node\">\n",
       "<title>34</title>\n",
       "<text text-anchor=\"middle\" x=\"150\" y=\"-3.8\" font-family=\"Times,serif\" font-size=\"14.00\" fill=\"#000000\">T</text>\n",
       "</g>\n",
       "<!-- 33&#45;&gt;34 -->\n",
       "<g id=\"edge34\" class=\"edge\">\n",
       "<title>33&#45;&gt;34</title>\n",
       "<path fill=\"none\" stroke=\"#000000\" d=\"M150,-50.9748C150,-44.195 150,-33.966 150,-25.1331\"/>\n",
       "<polygon fill=\"#000000\" stroke=\"#000000\" points=\"153.5001,-25.0561 150,-15.0561 146.5001,-25.0561 153.5001,-25.0561\"/>\n",
       "</g>\n",
       "<!-- 36 -->\n",
       "<g id=\"node37\" class=\"node\">\n",
       "<title>36</title>\n",
       "<text text-anchor=\"middle\" x=\"204\" y=\"-54.8\" font-family=\"Times,serif\" font-size=\"14.00\" fill=\"#000000\">I</text>\n",
       "</g>\n",
       "<!-- 35&#45;&gt;36 -->\n",
       "<g id=\"edge36\" class=\"edge\">\n",
       "<title>35&#45;&gt;36</title>\n",
       "<path fill=\"none\" stroke=\"#000000\" d=\"M204,-101.9748C204,-95.195 204,-84.966 204,-76.1331\"/>\n",
       "<polygon fill=\"#000000\" stroke=\"#000000\" points=\"207.5001,-76.0561 204,-66.0561 200.5001,-76.0561 207.5001,-76.0561\"/>\n",
       "</g>\n",
       "<!-- 38 -->\n",
       "<g id=\"node39\" class=\"node\">\n",
       "<title>38</title>\n",
       "<text text-anchor=\"middle\" x=\"253\" y=\"-105.8\" font-family=\"Times,serif\" font-size=\"14.00\" fill=\"#000000\">8</text>\n",
       "</g>\n",
       "<!-- 37&#45;&gt;38 -->\n",
       "<g id=\"edge38\" class=\"edge\">\n",
       "<title>37&#45;&gt;38</title>\n",
       "<path fill=\"none\" stroke=\"#000000\" d=\"M253,-152.9748C253,-146.195 253,-135.966 253,-127.1331\"/>\n",
       "<polygon fill=\"#000000\" stroke=\"#000000\" points=\"256.5001,-127.0561 253,-117.0561 249.5001,-127.0561 256.5001,-127.0561\"/>\n",
       "</g>\n",
       "<!-- 40 -->\n",
       "<g id=\"node41\" class=\"node\">\n",
       "<title>40</title>\n",
       "<text text-anchor=\"middle\" x=\"302\" y=\"-156.8\" font-family=\"Times,serif\" font-size=\"14.00\" fill=\"#000000\">w</text>\n",
       "</g>\n",
       "<!-- 39&#45;&gt;40 -->\n",
       "<g id=\"edge40\" class=\"edge\">\n",
       "<title>39&#45;&gt;40</title>\n",
       "<path fill=\"none\" stroke=\"#000000\" d=\"M302,-203.9748C302,-197.195 302,-186.966 302,-178.1331\"/>\n",
       "<polygon fill=\"#000000\" stroke=\"#000000\" points=\"305.5001,-178.0561 302,-168.0561 298.5001,-178.0561 305.5001,-178.0561\"/>\n",
       "</g>\n",
       "<!-- 42 -->\n",
       "<g id=\"node43\" class=\"node\">\n",
       "<title>42</title>\n",
       "<text text-anchor=\"middle\" x=\"351\" y=\"-207.8\" font-family=\"Times,serif\" font-size=\"14.00\" fill=\"#000000\">6</text>\n",
       "</g>\n",
       "<!-- 41&#45;&gt;42 -->\n",
       "<g id=\"edge42\" class=\"edge\">\n",
       "<title>41&#45;&gt;42</title>\n",
       "<path fill=\"none\" stroke=\"#000000\" d=\"M351,-254.9748C351,-248.195 351,-237.966 351,-229.1331\"/>\n",
       "<polygon fill=\"#000000\" stroke=\"#000000\" points=\"354.5001,-229.0561 351,-219.0561 347.5001,-229.0561 354.5001,-229.0561\"/>\n",
       "</g>\n",
       "<!-- 45 -->\n",
       "<g id=\"node46\" class=\"node\">\n",
       "<title>45</title>\n",
       "<text text-anchor=\"middle\" x=\"427\" y=\"-258.8\" font-family=\"Times,serif\" font-size=\"14.00\" fill=\"#000000\">&lt;plain&#45;char&gt;</text>\n",
       "</g>\n",
       "<!-- 44&#45;&gt;45 -->\n",
       "<g id=\"edge45\" class=\"edge\">\n",
       "<title>44&#45;&gt;45</title>\n",
       "<path fill=\"none\" stroke=\"#000000\" d=\"M427.8524,-305.9748C427.7195,-299.195 427.5189,-288.966 427.3457,-280.1331\"/>\n",
       "<polygon fill=\"#000000\" stroke=\"#000000\" points=\"430.8436,-279.9855 427.1482,-270.0561 423.845,-280.1228 430.8436,-279.9855\"/>\n",
       "</g>\n",
       "<!-- 48 -->\n",
       "<g id=\"node49\" class=\"node\">\n",
       "<title>48</title>\n",
       "<text text-anchor=\"middle\" x=\"517\" y=\"-258.8\" font-family=\"Times,serif\" font-size=\"14.00\" fill=\"#000000\">&lt;plain&#45;text&gt;</text>\n",
       "</g>\n",
       "<!-- 44&#45;&gt;48 -->\n",
       "<g id=\"edge48\" class=\"edge\">\n",
       "<title>44&#45;&gt;48</title>\n",
       "<path fill=\"none\" stroke=\"#000000\" d=\"M441.1323,-305.9748C455.33,-297.839 478.1952,-284.7365 495.1171,-275.0397\"/>\n",
       "<polygon fill=\"#000000\" stroke=\"#000000\" points=\"496.8776,-278.0648 503.8139,-270.0561 493.3972,-271.9913 496.8776,-278.0648\"/>\n",
       "</g>\n",
       "<!-- 46 -->\n",
       "<g id=\"node47\" class=\"node\">\n",
       "<title>46</title>\n",
       "<text text-anchor=\"middle\" x=\"427\" y=\"-207.8\" font-family=\"Times,serif\" font-size=\"14.00\" fill=\"#000000\">&lt;letter&gt;</text>\n",
       "</g>\n",
       "<!-- 45&#45;&gt;46 -->\n",
       "<g id=\"edge46\" class=\"edge\">\n",
       "<title>45&#45;&gt;46</title>\n",
       "<path fill=\"none\" stroke=\"#000000\" d=\"M427,-254.9748C427,-248.195 427,-237.966 427,-229.1331\"/>\n",
       "<polygon fill=\"#000000\" stroke=\"#000000\" points=\"430.5001,-229.0561 427,-219.0561 423.5001,-229.0561 430.5001,-229.0561\"/>\n",
       "</g>\n",
       "<!-- 47 -->\n",
       "<g id=\"node48\" class=\"node\">\n",
       "<title>47</title>\n",
       "<text text-anchor=\"middle\" x=\"427\" y=\"-156.8\" font-family=\"Times,serif\" font-size=\"14.00\" fill=\"#000000\">a</text>\n",
       "</g>\n",
       "<!-- 46&#45;&gt;47 -->\n",
       "<g id=\"edge47\" class=\"edge\">\n",
       "<title>46&#45;&gt;47</title>\n",
       "<path fill=\"none\" stroke=\"#000000\" d=\"M427,-203.9748C427,-197.195 427,-186.966 427,-178.1331\"/>\n",
       "<polygon fill=\"#000000\" stroke=\"#000000\" points=\"430.5001,-178.0561 427,-168.0561 423.5001,-178.0561 430.5001,-178.0561\"/>\n",
       "</g>\n",
       "<!-- 49 -->\n",
       "<g id=\"node50\" class=\"node\">\n",
       "<title>49</title>\n",
       "<text text-anchor=\"middle\" x=\"510\" y=\"-207.8\" font-family=\"Times,serif\" font-size=\"14.00\" fill=\"#000000\">&lt;plain&#45;char&gt;</text>\n",
       "</g>\n",
       "<!-- 48&#45;&gt;49 -->\n",
       "<g id=\"edge49\" class=\"edge\">\n",
       "<title>48&#45;&gt;49</title>\n",
       "<path fill=\"none\" stroke=\"#000000\" d=\"M515.9671,-254.9748C515.0366,-248.195 513.6326,-237.966 512.4202,-229.1331\"/>\n",
       "<polygon fill=\"#000000\" stroke=\"#000000\" points=\"515.8645,-228.4873 511.0371,-219.0561 508.9295,-229.4392 515.8645,-228.4873\"/>\n",
       "</g>\n",
       "<!-- 52 -->\n",
       "<g id=\"node53\" class=\"node\">\n",
       "<title>52</title>\n",
       "<text text-anchor=\"middle\" x=\"600\" y=\"-207.8\" font-family=\"Times,serif\" font-size=\"14.00\" fill=\"#000000\">&lt;plain&#45;text&gt;</text>\n",
       "</g>\n",
       "<!-- 48&#45;&gt;52 -->\n",
       "<g id=\"edge52\" class=\"edge\">\n",
       "<title>48&#45;&gt;52</title>\n",
       "<path fill=\"none\" stroke=\"#000000\" d=\"M529.2469,-254.9748C542.3649,-246.9143 563.417,-233.9787 579.1525,-224.3099\"/>\n",
       "<polygon fill=\"#000000\" stroke=\"#000000\" points=\"581.0151,-227.2734 587.7028,-219.0561 577.3503,-221.3094 581.0151,-227.2734\"/>\n",
       "</g>\n",
       "<!-- 50 -->\n",
       "<g id=\"node51\" class=\"node\">\n",
       "<title>50</title>\n",
       "<text text-anchor=\"middle\" x=\"510\" y=\"-156.8\" font-family=\"Times,serif\" font-size=\"14.00\" fill=\"#000000\">&lt;digit&gt;</text>\n",
       "</g>\n",
       "<!-- 49&#45;&gt;50 -->\n",
       "<g id=\"edge50\" class=\"edge\">\n",
       "<title>49&#45;&gt;50</title>\n",
       "<path fill=\"none\" stroke=\"#000000\" d=\"M510,-203.9748C510,-197.195 510,-186.966 510,-178.1331\"/>\n",
       "<polygon fill=\"#000000\" stroke=\"#000000\" points=\"513.5001,-178.0561 510,-168.0561 506.5001,-178.0561 513.5001,-178.0561\"/>\n",
       "</g>\n",
       "<!-- 51 -->\n",
       "<g id=\"node52\" class=\"node\">\n",
       "<title>51</title>\n",
       "<text text-anchor=\"middle\" x=\"510\" y=\"-105.8\" font-family=\"Times,serif\" font-size=\"14.00\" fill=\"#000000\">0</text>\n",
       "</g>\n",
       "<!-- 50&#45;&gt;51 -->\n",
       "<g id=\"edge51\" class=\"edge\">\n",
       "<title>50&#45;&gt;51</title>\n",
       "<path fill=\"none\" stroke=\"#000000\" d=\"M510,-152.9748C510,-146.195 510,-135.966 510,-127.1331\"/>\n",
       "<polygon fill=\"#000000\" stroke=\"#000000\" points=\"513.5001,-127.0561 510,-117.0561 506.5001,-127.0561 513.5001,-127.0561\"/>\n",
       "</g>\n",
       "<!-- 53 -->\n",
       "<g id=\"node54\" class=\"node\">\n",
       "<title>53</title>\n",
       "<text text-anchor=\"middle\" x=\"593\" y=\"-156.8\" font-family=\"Times,serif\" font-size=\"14.00\" fill=\"#000000\">&lt;plain&#45;char&gt;</text>\n",
       "</g>\n",
       "<!-- 52&#45;&gt;53 -->\n",
       "<g id=\"edge53\" class=\"edge\">\n",
       "<title>52&#45;&gt;53</title>\n",
       "<path fill=\"none\" stroke=\"#000000\" d=\"M598.9671,-203.9748C598.0366,-197.195 596.6326,-186.966 595.4202,-178.1331\"/>\n",
       "<polygon fill=\"#000000\" stroke=\"#000000\" points=\"598.8645,-177.4873 594.0371,-168.0561 591.9295,-178.4392 598.8645,-177.4873\"/>\n",
       "</g>\n",
       "<!-- 56 -->\n",
       "<g id=\"node57\" class=\"node\">\n",
       "<title>56</title>\n",
       "<text text-anchor=\"middle\" x=\"683\" y=\"-156.8\" font-family=\"Times,serif\" font-size=\"14.00\" fill=\"#000000\">&lt;plain&#45;text&gt;</text>\n",
       "</g>\n",
       "<!-- 52&#45;&gt;56 -->\n",
       "<g id=\"edge56\" class=\"edge\">\n",
       "<title>52&#45;&gt;56</title>\n",
       "<path fill=\"none\" stroke=\"#000000\" d=\"M612.2469,-203.9748C625.3649,-195.9143 646.417,-182.9787 662.1525,-173.3099\"/>\n",
       "<polygon fill=\"#000000\" stroke=\"#000000\" points=\"664.0151,-176.2734 670.7028,-168.0561 660.3503,-170.3094 664.0151,-176.2734\"/>\n",
       "</g>\n",
       "<!-- 54 -->\n",
       "<g id=\"node55\" class=\"node\">\n",
       "<title>54</title>\n",
       "<text text-anchor=\"middle\" x=\"593\" y=\"-105.8\" font-family=\"Times,serif\" font-size=\"14.00\" fill=\"#000000\">&lt;digit&gt;</text>\n",
       "</g>\n",
       "<!-- 53&#45;&gt;54 -->\n",
       "<g id=\"edge54\" class=\"edge\">\n",
       "<title>53&#45;&gt;54</title>\n",
       "<path fill=\"none\" stroke=\"#000000\" d=\"M593,-152.9748C593,-146.195 593,-135.966 593,-127.1331\"/>\n",
       "<polygon fill=\"#000000\" stroke=\"#000000\" points=\"596.5001,-127.0561 593,-117.0561 589.5001,-127.0561 596.5001,-127.0561\"/>\n",
       "</g>\n",
       "<!-- 55 -->\n",
       "<g id=\"node56\" class=\"node\">\n",
       "<title>55</title>\n",
       "<text text-anchor=\"middle\" x=\"593\" y=\"-54.8\" font-family=\"Times,serif\" font-size=\"14.00\" fill=\"#000000\">1</text>\n",
       "</g>\n",
       "<!-- 54&#45;&gt;55 -->\n",
       "<g id=\"edge55\" class=\"edge\">\n",
       "<title>54&#45;&gt;55</title>\n",
       "<path fill=\"none\" stroke=\"#000000\" d=\"M593,-101.9748C593,-95.195 593,-84.966 593,-76.1331\"/>\n",
       "<polygon fill=\"#000000\" stroke=\"#000000\" points=\"596.5001,-76.0561 593,-66.0561 589.5001,-76.0561 596.5001,-76.0561\"/>\n",
       "</g>\n",
       "<!-- 57 -->\n",
       "<g id=\"node58\" class=\"node\">\n",
       "<title>57</title>\n",
       "</g>\n",
       "<!-- 56&#45;&gt;57 -->\n",
       "<g id=\"edge57\" class=\"edge\">\n",
       "<title>56&#45;&gt;57</title>\n",
       "<path fill=\"none\" stroke=\"#000000\" d=\"M683,-152.9748C683,-152.9194 683,-152.8637 683,-152.8078\"/>\n",
       "<polygon fill=\"#000000\" stroke=\"#000000\" points=\"686.5059,-162.6375 683,-152.6395 679.5059,-162.6416 686.5059,-162.6375\"/>\n",
       "</g>\n",
       "<!-- 61 -->\n",
       "<g id=\"node62\" class=\"node\">\n",
       "<title>61</title>\n",
       "<text text-anchor=\"middle\" x=\"275\" y=\"-411.8\" font-family=\"Times,serif\" font-size=\"14.00\" fill=\"#000000\">&gt;</text>\n",
       "</g>\n",
       "<!-- 60&#45;&gt;61 -->\n",
       "<g id=\"edge61\" class=\"edge\">\n",
       "<title>60&#45;&gt;61</title>\n",
       "<path fill=\"none\" stroke=\"#000000\" d=\"M264.7706,-458.9748C266.3836,-452.1196 268.8263,-441.7383 270.9202,-432.8392\"/>\n",
       "<polygon fill=\"#000000\" stroke=\"#000000\" points=\"274.3386,-433.5919 273.2221,-423.0561 267.5247,-431.9886 274.3386,-433.5919\"/>\n",
       "</g>\n",
       "</g>\n",
       "</svg>\n"
      ],
      "text/plain": [
       "<graphviz.dot.Digraph at 0x7ff2d27cc710>"
      ]
     },
     "execution_count": 15,
     "metadata": {},
     "output_type": "execute_result"
    }
   ],
   "source": [
    "display_tree(simple_html_fuzzer.derivation_tree)"
   ]
  },
  {
   "cell_type": "markdown",
   "metadata": {
    "slideshow": {
     "slide_type": "slide"
    }
   },
   "source": [
    "## Parsing"
   ]
  },
  {
   "cell_type": "code",
   "execution_count": 16,
   "metadata": {
    "slideshow": {
     "slide_type": "skip"
    }
   },
   "outputs": [],
   "source": [
    "from fuzzingbook.Parser import EarleyParser"
   ]
  },
  {
   "cell_type": "code",
   "execution_count": 17,
   "metadata": {
    "slideshow": {
     "slide_type": "fragment"
    }
   },
   "outputs": [],
   "source": [
    "simple_html_parser = EarleyParser(SIMPLE_HTML_GRAMMAR)"
   ]
  },
  {
   "cell_type": "code",
   "execution_count": 18,
   "metadata": {
    "slideshow": {
     "slide_type": "fragment"
    }
   },
   "outputs": [],
   "source": [
    "bad_input_tree = list(simple_html_parser.parse(BAD_INPUT))[0]"
   ]
  },
  {
   "cell_type": "code",
   "execution_count": 19,
   "metadata": {
    "slideshow": {
     "slide_type": "fragment"
    }
   },
   "outputs": [
    {
     "data": {
      "image/svg+xml": [
       "<?xml version=\"1.0\" encoding=\"UTF-8\" standalone=\"no\"?>\n",
       "<!DOCTYPE svg PUBLIC \"-//W3C//DTD SVG 1.1//EN\"\n",
       " \"http://www.w3.org/Graphics/SVG/1.1/DTD/svg11.dtd\">\n",
       "<!-- Generated by graphviz version 2.40.1 (20161225.0304)\n",
       " -->\n",
       "<!-- Title: %3 Pages: 1 -->\n",
       "<svg width=\"652pt\" height=\"533pt\"\n",
       " viewBox=\"0.00 0.00 651.50 533.00\" xmlns=\"http://www.w3.org/2000/svg\" xmlns:xlink=\"http://www.w3.org/1999/xlink\">\n",
       "<g id=\"graph0\" class=\"graph\" transform=\"scale(1 1) rotate(0) translate(4 529)\">\n",
       "<title>%3</title>\n",
       "<polygon fill=\"#ffffff\" stroke=\"transparent\" points=\"-4,4 -4,-529 647.5,-529 647.5,4 -4,4\"/>\n",
       "<!-- 0 -->\n",
       "<g id=\"node1\" class=\"node\">\n",
       "<title>0</title>\n",
       "<text text-anchor=\"middle\" x=\"251.5\" y=\"-513.8\" font-family=\"Times,serif\" font-size=\"14.00\" fill=\"#000000\">&lt;start&gt;</text>\n",
       "</g>\n",
       "<!-- 1 -->\n",
       "<g id=\"node2\" class=\"node\">\n",
       "<title>1</title>\n",
       "<text text-anchor=\"middle\" x=\"251.5\" y=\"-462.8\" font-family=\"Times,serif\" font-size=\"14.00\" fill=\"#000000\">&lt;html&gt;</text>\n",
       "</g>\n",
       "<!-- 0&#45;&gt;1 -->\n",
       "<g id=\"edge1\" class=\"edge\">\n",
       "<title>0&#45;&gt;1</title>\n",
       "<path fill=\"none\" stroke=\"#000000\" d=\"M251.5,-509.9748C251.5,-503.195 251.5,-492.966 251.5,-484.1331\"/>\n",
       "<polygon fill=\"#000000\" stroke=\"#000000\" points=\"255.0001,-484.0561 251.5,-474.0561 248.0001,-484.0561 255.0001,-484.0561\"/>\n",
       "</g>\n",
       "<!-- 2 -->\n",
       "<g id=\"node3\" class=\"node\">\n",
       "<title>2</title>\n",
       "<text text-anchor=\"middle\" x=\"251.5\" y=\"-411.8\" font-family=\"Times,serif\" font-size=\"14.00\" fill=\"#000000\">&lt;tagged&#45;text&gt;</text>\n",
       "</g>\n",
       "<!-- 1&#45;&gt;2 -->\n",
       "<g id=\"edge2\" class=\"edge\">\n",
       "<title>1&#45;&gt;2</title>\n",
       "<path fill=\"none\" stroke=\"#000000\" d=\"M251.5,-458.9748C251.5,-452.195 251.5,-441.966 251.5,-433.1331\"/>\n",
       "<polygon fill=\"#000000\" stroke=\"#000000\" points=\"255.0001,-433.0561 251.5,-423.0561 248.0001,-433.0561 255.0001,-433.0561\"/>\n",
       "</g>\n",
       "<!-- 3 -->\n",
       "<g id=\"node4\" class=\"node\">\n",
       "<title>3</title>\n",
       "<text text-anchor=\"middle\" x=\"155.5\" y=\"-360.8\" font-family=\"Times,serif\" font-size=\"14.00\" fill=\"#000000\">&lt;opening&#45;tag&gt;</text>\n",
       "</g>\n",
       "<!-- 2&#45;&gt;3 -->\n",
       "<g id=\"edge3\" class=\"edge\">\n",
       "<title>2&#45;&gt;3</title>\n",
       "<path fill=\"none\" stroke=\"#000000\" d=\"M237.3349,-407.9748C221.8787,-399.7637 196.8994,-386.4934 178.5987,-376.7712\"/>\n",
       "<polygon fill=\"#000000\" stroke=\"#000000\" points=\"180.1965,-373.6568 169.7232,-372.0561 176.9124,-379.8386 180.1965,-373.6568\"/>\n",
       "</g>\n",
       "<!-- 17 -->\n",
       "<g id=\"node18\" class=\"node\">\n",
       "<title>17</title>\n",
       "<text text-anchor=\"middle\" x=\"251.5\" y=\"-360.8\" font-family=\"Times,serif\" font-size=\"14.00\" fill=\"#000000\">&lt;html&gt;</text>\n",
       "</g>\n",
       "<!-- 2&#45;&gt;17 -->\n",
       "<g id=\"edge17\" class=\"edge\">\n",
       "<title>2&#45;&gt;17</title>\n",
       "<path fill=\"none\" stroke=\"#000000\" d=\"M251.5,-407.9748C251.5,-401.195 251.5,-390.966 251.5,-382.1331\"/>\n",
       "<polygon fill=\"#000000\" stroke=\"#000000\" points=\"255.0001,-382.0561 251.5,-372.0561 248.0001,-382.0561 255.0001,-382.0561\"/>\n",
       "</g>\n",
       "<!-- 35 -->\n",
       "<g id=\"node36\" class=\"node\">\n",
       "<title>35</title>\n",
       "<text text-anchor=\"middle\" x=\"519.5\" y=\"-360.8\" font-family=\"Times,serif\" font-size=\"14.00\" fill=\"#000000\">&lt;closing&#45;tag&gt;</text>\n",
       "</g>\n",
       "<!-- 2&#45;&gt;35 -->\n",
       "<g id=\"edge35\" class=\"edge\">\n",
       "<title>2&#45;&gt;35</title>\n",
       "<path fill=\"none\" stroke=\"#000000\" d=\"M291.0443,-407.9748C338.5473,-398.935 418.2723,-383.7635 469.8674,-373.945\"/>\n",
       "<polygon fill=\"#000000\" stroke=\"#000000\" points=\"470.6241,-377.3639 479.7934,-372.0561 469.3154,-370.4873 470.6241,-377.3639\"/>\n",
       "</g>\n",
       "<!-- 4 -->\n",
       "<g id=\"node5\" class=\"node\">\n",
       "<title>4</title>\n",
       "<text text-anchor=\"middle\" x=\"58.5\" y=\"-309.8\" font-family=\"Times,serif\" font-size=\"14.00\" fill=\"#000000\">&lt;lt&gt;</text>\n",
       "</g>\n",
       "<!-- 3&#45;&gt;4 -->\n",
       "<g id=\"edge4\" class=\"edge\">\n",
       "<title>3&#45;&gt;4</title>\n",
       "<path fill=\"none\" stroke=\"#000000\" d=\"M141.1873,-356.9748C124.9419,-348.4333 98.2843,-334.4175 79.6414,-324.6156\"/>\n",
       "<polygon fill=\"#000000\" stroke=\"#000000\" points=\"81.2006,-321.4811 70.7206,-319.9253 77.943,-327.6769 81.2006,-321.4811\"/>\n",
       "</g>\n",
       "<!-- 6 -->\n",
       "<g id=\"node7\" class=\"node\">\n",
       "<title>6</title>\n",
       "<text text-anchor=\"middle\" x=\"125.5\" y=\"-309.8\" font-family=\"Times,serif\" font-size=\"14.00\" fill=\"#000000\">&lt;id&gt;</text>\n",
       "</g>\n",
       "<!-- 3&#45;&gt;6 -->\n",
       "<g id=\"edge6\" class=\"edge\">\n",
       "<title>3&#45;&gt;6</title>\n",
       "<path fill=\"none\" stroke=\"#000000\" d=\"M151.0734,-356.9748C146.908,-349.8936 140.5294,-339.05 135.1848,-329.9641\"/>\n",
       "<polygon fill=\"#000000\" stroke=\"#000000\" points=\"138.0318,-327.9009 129.9448,-321.0561 131.9982,-331.45 138.0318,-327.9009\"/>\n",
       "</g>\n",
       "<!-- 15 -->\n",
       "<g id=\"node16\" class=\"node\">\n",
       "<title>15</title>\n",
       "<text text-anchor=\"middle\" x=\"170.5\" y=\"-309.8\" font-family=\"Times,serif\" font-size=\"14.00\" fill=\"#000000\">&lt;gt&gt;</text>\n",
       "</g>\n",
       "<!-- 3&#45;&gt;15 -->\n",
       "<g id=\"edge15\" class=\"edge\">\n",
       "<title>3&#45;&gt;15</title>\n",
       "<path fill=\"none\" stroke=\"#000000\" d=\"M157.7133,-356.9748C159.7295,-350.1196 162.7829,-339.7383 165.4002,-330.8392\"/>\n",
       "<polygon fill=\"#000000\" stroke=\"#000000\" points=\"168.8137,-331.6374 168.2776,-321.0561 162.0981,-329.6622 168.8137,-331.6374\"/>\n",
       "</g>\n",
       "<!-- 5 -->\n",
       "<g id=\"node6\" class=\"node\">\n",
       "<title>5</title>\n",
       "<text text-anchor=\"middle\" x=\"35.5\" y=\"-258.8\" font-family=\"Times,serif\" font-size=\"14.00\" fill=\"#000000\">&lt;</text>\n",
       "</g>\n",
       "<!-- 4&#45;&gt;5 -->\n",
       "<g id=\"edge5\" class=\"edge\">\n",
       "<title>4&#45;&gt;5</title>\n",
       "<path fill=\"none\" stroke=\"#000000\" d=\"M55.1063,-305.9748C51.9468,-298.969 47.1264,-288.2803 43.056,-279.2547\"/>\n",
       "<polygon fill=\"#000000\" stroke=\"#000000\" points=\"46.2093,-277.7331 38.9077,-270.0561 39.8282,-280.6109 46.2093,-277.7331\"/>\n",
       "</g>\n",
       "<!-- 7 -->\n",
       "<g id=\"node8\" class=\"node\">\n",
       "<title>7</title>\n",
       "<text text-anchor=\"middle\" x=\"71.5\" y=\"-258.8\" font-family=\"Times,serif\" font-size=\"14.00\" fill=\"#000000\">&lt;id&gt;</text>\n",
       "</g>\n",
       "<!-- 6&#45;&gt;7 -->\n",
       "<g id=\"edge7\" class=\"edge\">\n",
       "<title>6&#45;&gt;7</title>\n",
       "<path fill=\"none\" stroke=\"#000000\" d=\"M117.5321,-305.9748C109.4761,-298.3663 96.8208,-286.4141 86.8167,-276.9658\"/>\n",
       "<polygon fill=\"#000000\" stroke=\"#000000\" points=\"89.1739,-274.3778 79.5006,-270.0561 84.3675,-279.4669 89.1739,-274.3778\"/>\n",
       "</g>\n",
       "<!-- 13 -->\n",
       "<g id=\"node14\" class=\"node\">\n",
       "<title>13</title>\n",
       "<text text-anchor=\"middle\" x=\"125.5\" y=\"-258.8\" font-family=\"Times,serif\" font-size=\"14.00\" fill=\"#000000\">&lt;letter&gt;</text>\n",
       "</g>\n",
       "<!-- 6&#45;&gt;13 -->\n",
       "<g id=\"edge13\" class=\"edge\">\n",
       "<title>6&#45;&gt;13</title>\n",
       "<path fill=\"none\" stroke=\"#000000\" d=\"M125.5,-305.9748C125.5,-299.195 125.5,-288.966 125.5,-280.1331\"/>\n",
       "<polygon fill=\"#000000\" stroke=\"#000000\" points=\"129.0001,-280.0561 125.5,-270.0561 122.0001,-280.0561 129.0001,-280.0561\"/>\n",
       "</g>\n",
       "<!-- 8 -->\n",
       "<g id=\"node9\" class=\"node\">\n",
       "<title>8</title>\n",
       "<text text-anchor=\"middle\" x=\"22.5\" y=\"-207.8\" font-family=\"Times,serif\" font-size=\"14.00\" fill=\"#000000\">&lt;id&gt;</text>\n",
       "</g>\n",
       "<!-- 7&#45;&gt;8 -->\n",
       "<g id=\"edge8\" class=\"edge\">\n",
       "<title>7&#45;&gt;8</title>\n",
       "<path fill=\"none\" stroke=\"#000000\" d=\"M64.2699,-254.9748C57.1046,-247.517 45.9294,-235.8857 36.9406,-226.53\"/>\n",
       "<polygon fill=\"#000000\" stroke=\"#000000\" points=\"39.2119,-223.8423 29.7598,-219.0561 34.1642,-228.6921 39.2119,-223.8423\"/>\n",
       "</g>\n",
       "<!-- 11 -->\n",
       "<g id=\"node12\" class=\"node\">\n",
       "<title>11</title>\n",
       "<text text-anchor=\"middle\" x=\"76.5\" y=\"-207.8\" font-family=\"Times,serif\" font-size=\"14.00\" fill=\"#000000\">&lt;letter&gt;</text>\n",
       "</g>\n",
       "<!-- 7&#45;&gt;11 -->\n",
       "<g id=\"edge11\" class=\"edge\">\n",
       "<title>7&#45;&gt;11</title>\n",
       "<path fill=\"none\" stroke=\"#000000\" d=\"M72.2378,-254.9748C72.9025,-248.195 73.9053,-237.966 74.7713,-229.1331\"/>\n",
       "<polygon fill=\"#000000\" stroke=\"#000000\" points=\"78.2667,-229.3499 75.7592,-219.0561 71.3001,-228.6669 78.2667,-229.3499\"/>\n",
       "</g>\n",
       "<!-- 9 -->\n",
       "<g id=\"node10\" class=\"node\">\n",
       "<title>9</title>\n",
       "<text text-anchor=\"middle\" x=\"22.5\" y=\"-156.8\" font-family=\"Times,serif\" font-size=\"14.00\" fill=\"#000000\">&lt;letter&gt;</text>\n",
       "</g>\n",
       "<!-- 8&#45;&gt;9 -->\n",
       "<g id=\"edge9\" class=\"edge\">\n",
       "<title>8&#45;&gt;9</title>\n",
       "<path fill=\"none\" stroke=\"#000000\" d=\"M22.5,-203.9748C22.5,-197.195 22.5,-186.966 22.5,-178.1331\"/>\n",
       "<polygon fill=\"#000000\" stroke=\"#000000\" points=\"26.0001,-178.0561 22.5,-168.0561 19.0001,-178.0561 26.0001,-178.0561\"/>\n",
       "</g>\n",
       "<!-- 10 -->\n",
       "<g id=\"node11\" class=\"node\">\n",
       "<title>10</title>\n",
       "<text text-anchor=\"middle\" x=\"22.5\" y=\"-105.8\" font-family=\"Times,serif\" font-size=\"14.00\" fill=\"#000000\">f</text>\n",
       "</g>\n",
       "<!-- 9&#45;&gt;10 -->\n",
       "<g id=\"edge10\" class=\"edge\">\n",
       "<title>9&#45;&gt;10</title>\n",
       "<path fill=\"none\" stroke=\"#000000\" d=\"M22.5,-152.9748C22.5,-146.195 22.5,-135.966 22.5,-127.1331\"/>\n",
       "<polygon fill=\"#000000\" stroke=\"#000000\" points=\"26.0001,-127.0561 22.5,-117.0561 19.0001,-127.0561 26.0001,-127.0561\"/>\n",
       "</g>\n",
       "<!-- 12 -->\n",
       "<g id=\"node13\" class=\"node\">\n",
       "<title>12</title>\n",
       "<text text-anchor=\"middle\" x=\"76.5\" y=\"-156.8\" font-family=\"Times,serif\" font-size=\"14.00\" fill=\"#000000\">o</text>\n",
       "</g>\n",
       "<!-- 11&#45;&gt;12 -->\n",
       "<g id=\"edge12\" class=\"edge\">\n",
       "<title>11&#45;&gt;12</title>\n",
       "<path fill=\"none\" stroke=\"#000000\" d=\"M76.5,-203.9748C76.5,-197.195 76.5,-186.966 76.5,-178.1331\"/>\n",
       "<polygon fill=\"#000000\" stroke=\"#000000\" points=\"80.0001,-178.0561 76.5,-168.0561 73.0001,-178.0561 80.0001,-178.0561\"/>\n",
       "</g>\n",
       "<!-- 14 -->\n",
       "<g id=\"node15\" class=\"node\">\n",
       "<title>14</title>\n",
       "<text text-anchor=\"middle\" x=\"125.5\" y=\"-207.8\" font-family=\"Times,serif\" font-size=\"14.00\" fill=\"#000000\">o</text>\n",
       "</g>\n",
       "<!-- 13&#45;&gt;14 -->\n",
       "<g id=\"edge14\" class=\"edge\">\n",
       "<title>13&#45;&gt;14</title>\n",
       "<path fill=\"none\" stroke=\"#000000\" d=\"M125.5,-254.9748C125.5,-248.195 125.5,-237.966 125.5,-229.1331\"/>\n",
       "<polygon fill=\"#000000\" stroke=\"#000000\" points=\"129.0001,-229.0561 125.5,-219.0561 122.0001,-229.0561 129.0001,-229.0561\"/>\n",
       "</g>\n",
       "<!-- 16 -->\n",
       "<g id=\"node17\" class=\"node\">\n",
       "<title>16</title>\n",
       "<text text-anchor=\"middle\" x=\"170.5\" y=\"-258.8\" font-family=\"Times,serif\" font-size=\"14.00\" fill=\"#000000\">&gt;</text>\n",
       "</g>\n",
       "<!-- 15&#45;&gt;16 -->\n",
       "<g id=\"edge16\" class=\"edge\">\n",
       "<title>15&#45;&gt;16</title>\n",
       "<path fill=\"none\" stroke=\"#000000\" d=\"M170.5,-305.9748C170.5,-299.195 170.5,-288.966 170.5,-280.1331\"/>\n",
       "<polygon fill=\"#000000\" stroke=\"#000000\" points=\"174.0001,-280.0561 170.5,-270.0561 167.0001,-280.0561 174.0001,-280.0561\"/>\n",
       "</g>\n",
       "<!-- 18 -->\n",
       "<g id=\"node19\" class=\"node\">\n",
       "<title>18</title>\n",
       "<text text-anchor=\"middle\" x=\"251.5\" y=\"-309.8\" font-family=\"Times,serif\" font-size=\"14.00\" fill=\"#000000\">&lt;plain&#45;text&gt;</text>\n",
       "</g>\n",
       "<!-- 17&#45;&gt;18 -->\n",
       "<g id=\"edge18\" class=\"edge\">\n",
       "<title>17&#45;&gt;18</title>\n",
       "<path fill=\"none\" stroke=\"#000000\" d=\"M251.5,-356.9748C251.5,-350.195 251.5,-339.966 251.5,-331.1331\"/>\n",
       "<polygon fill=\"#000000\" stroke=\"#000000\" points=\"255.0001,-331.0561 251.5,-321.0561 248.0001,-331.0561 255.0001,-331.0561\"/>\n",
       "</g>\n",
       "<!-- 19 -->\n",
       "<g id=\"node20\" class=\"node\">\n",
       "<title>19</title>\n",
       "<text text-anchor=\"middle\" x=\"229.5\" y=\"-258.8\" font-family=\"Times,serif\" font-size=\"14.00\" fill=\"#000000\">&lt;plain&#45;char&gt;</text>\n",
       "</g>\n",
       "<!-- 18&#45;&gt;19 -->\n",
       "<g id=\"edge19\" class=\"edge\">\n",
       "<title>18&#45;&gt;19</title>\n",
       "<path fill=\"none\" stroke=\"#000000\" d=\"M248.2538,-305.9748C245.2317,-298.969 240.6209,-288.2803 236.7275,-279.2547\"/>\n",
       "<polygon fill=\"#000000\" stroke=\"#000000\" points=\"239.9342,-277.8519 232.7595,-270.0561 233.5067,-280.6246 239.9342,-277.8519\"/>\n",
       "</g>\n",
       "<!-- 22 -->\n",
       "<g id=\"node23\" class=\"node\">\n",
       "<title>22</title>\n",
       "<text text-anchor=\"middle\" x=\"319.5\" y=\"-258.8\" font-family=\"Times,serif\" font-size=\"14.00\" fill=\"#000000\">&lt;plain&#45;text&gt;</text>\n",
       "</g>\n",
       "<!-- 18&#45;&gt;22 -->\n",
       "<g id=\"edge22\" class=\"edge\">\n",
       "<title>18&#45;&gt;22</title>\n",
       "<path fill=\"none\" stroke=\"#000000\" d=\"M261.5336,-305.9748C271.9796,-298.1403 288.5664,-285.7002 301.3258,-276.1307\"/>\n",
       "<polygon fill=\"#000000\" stroke=\"#000000\" points=\"303.5252,-278.8561 309.4252,-270.0561 299.3252,-273.2561 303.5252,-278.8561\"/>\n",
       "</g>\n",
       "<!-- 20 -->\n",
       "<g id=\"node21\" class=\"node\">\n",
       "<title>20</title>\n",
       "<text text-anchor=\"middle\" x=\"199.5\" y=\"-207.8\" font-family=\"Times,serif\" font-size=\"14.00\" fill=\"#000000\">&lt;other&gt;</text>\n",
       "</g>\n",
       "<!-- 19&#45;&gt;20 -->\n",
       "<g id=\"edge20\" class=\"edge\">\n",
       "<title>19&#45;&gt;20</title>\n",
       "<path fill=\"none\" stroke=\"#000000\" d=\"M225.0734,-254.9748C220.908,-247.8936 214.5294,-237.05 209.1848,-227.9641\"/>\n",
       "<polygon fill=\"#000000\" stroke=\"#000000\" points=\"212.0318,-225.9009 203.9448,-219.0561 205.9982,-229.45 212.0318,-225.9009\"/>\n",
       "</g>\n",
       "<!-- 21 -->\n",
       "<g id=\"node22\" class=\"node\">\n",
       "<title>21</title>\n",
       "<text text-anchor=\"middle\" x=\"199.5\" y=\"-156.8\" font-family=\"Times,serif\" font-size=\"14.00\" fill=\"#000000\">&quot;</text>\n",
       "</g>\n",
       "<!-- 20&#45;&gt;21 -->\n",
       "<g id=\"edge21\" class=\"edge\">\n",
       "<title>20&#45;&gt;21</title>\n",
       "<path fill=\"none\" stroke=\"#000000\" d=\"M199.5,-203.9748C199.5,-197.195 199.5,-186.966 199.5,-178.1331\"/>\n",
       "<polygon fill=\"#000000\" stroke=\"#000000\" points=\"203.0001,-178.0561 199.5,-168.0561 196.0001,-178.0561 203.0001,-178.0561\"/>\n",
       "</g>\n",
       "<!-- 23 -->\n",
       "<g id=\"node24\" class=\"node\">\n",
       "<title>23</title>\n",
       "<text text-anchor=\"middle\" x=\"276.5\" y=\"-207.8\" font-family=\"Times,serif\" font-size=\"14.00\" fill=\"#000000\">&lt;plain&#45;char&gt;</text>\n",
       "</g>\n",
       "<!-- 22&#45;&gt;23 -->\n",
       "<g id=\"edge23\" class=\"edge\">\n",
       "<title>22&#45;&gt;23</title>\n",
       "<path fill=\"none\" stroke=\"#000000\" d=\"M313.1552,-254.9748C306.9308,-247.5923 297.2583,-236.1203 289.4119,-226.8142\"/>\n",
       "<polygon fill=\"#000000\" stroke=\"#000000\" points=\"291.9927,-224.4452 282.8708,-219.0561 286.641,-228.9574 291.9927,-224.4452\"/>\n",
       "</g>\n",
       "<!-- 26 -->\n",
       "<g id=\"node27\" class=\"node\">\n",
       "<title>26</title>\n",
       "<text text-anchor=\"middle\" x=\"366.5\" y=\"-207.8\" font-family=\"Times,serif\" font-size=\"14.00\" fill=\"#000000\">&lt;plain&#45;text&gt;</text>\n",
       "</g>\n",
       "<!-- 22&#45;&gt;26 -->\n",
       "<g id=\"edge26\" class=\"edge\">\n",
       "<title>22&#45;&gt;26</title>\n",
       "<path fill=\"none\" stroke=\"#000000\" d=\"M326.435,-254.9748C333.3079,-247.517 344.0269,-235.8857 352.6488,-226.53\"/>\n",
       "<polygon fill=\"#000000\" stroke=\"#000000\" points=\"355.3334,-228.7816 359.5365,-219.0561 350.1859,-224.0378 355.3334,-228.7816\"/>\n",
       "</g>\n",
       "<!-- 24 -->\n",
       "<g id=\"node25\" class=\"node\">\n",
       "<title>24</title>\n",
       "<text text-anchor=\"middle\" x=\"259.5\" y=\"-156.8\" font-family=\"Times,serif\" font-size=\"14.00\" fill=\"#000000\">&lt;letter&gt;</text>\n",
       "</g>\n",
       "<!-- 23&#45;&gt;24 -->\n",
       "<g id=\"edge24\" class=\"edge\">\n",
       "<title>23&#45;&gt;24</title>\n",
       "<path fill=\"none\" stroke=\"#000000\" d=\"M273.9916,-203.9748C271.6814,-197.0443 268.1699,-186.5097 265.1821,-177.5464\"/>\n",
       "<polygon fill=\"#000000\" stroke=\"#000000\" points=\"268.5014,-176.4361 262.0187,-168.0561 261.8607,-178.6498 268.5014,-176.4361\"/>\n",
       "</g>\n",
       "<!-- 25 -->\n",
       "<g id=\"node26\" class=\"node\">\n",
       "<title>25</title>\n",
       "<text text-anchor=\"middle\" x=\"259.5\" y=\"-105.8\" font-family=\"Times,serif\" font-size=\"14.00\" fill=\"#000000\">b</text>\n",
       "</g>\n",
       "<!-- 24&#45;&gt;25 -->\n",
       "<g id=\"edge25\" class=\"edge\">\n",
       "<title>24&#45;&gt;25</title>\n",
       "<path fill=\"none\" stroke=\"#000000\" d=\"M259.5,-152.9748C259.5,-146.195 259.5,-135.966 259.5,-127.1331\"/>\n",
       "<polygon fill=\"#000000\" stroke=\"#000000\" points=\"263.0001,-127.0561 259.5,-117.0561 256.0001,-127.0561 263.0001,-127.0561\"/>\n",
       "</g>\n",
       "<!-- 27 -->\n",
       "<g id=\"node28\" class=\"node\">\n",
       "<title>27</title>\n",
       "<text text-anchor=\"middle\" x=\"336.5\" y=\"-156.8\" font-family=\"Times,serif\" font-size=\"14.00\" fill=\"#000000\">&lt;plain&#45;char&gt;</text>\n",
       "</g>\n",
       "<!-- 26&#45;&gt;27 -->\n",
       "<g id=\"edge27\" class=\"edge\">\n",
       "<title>26&#45;&gt;27</title>\n",
       "<path fill=\"none\" stroke=\"#000000\" d=\"M362.0734,-203.9748C357.908,-196.8936 351.5294,-186.05 346.1848,-176.9641\"/>\n",
       "<polygon fill=\"#000000\" stroke=\"#000000\" points=\"349.0318,-174.9009 340.9448,-168.0561 342.9982,-178.45 349.0318,-174.9009\"/>\n",
       "</g>\n",
       "<!-- 30 -->\n",
       "<g id=\"node31\" class=\"node\">\n",
       "<title>30</title>\n",
       "<text text-anchor=\"middle\" x=\"426.5\" y=\"-156.8\" font-family=\"Times,serif\" font-size=\"14.00\" fill=\"#000000\">&lt;plain&#45;text&gt;</text>\n",
       "</g>\n",
       "<!-- 26&#45;&gt;30 -->\n",
       "<g id=\"edge30\" class=\"edge\">\n",
       "<title>26&#45;&gt;30</title>\n",
       "<path fill=\"none\" stroke=\"#000000\" d=\"M375.3532,-203.9748C384.3929,-196.291 398.6447,-184.177 409.8107,-174.6859\"/>\n",
       "<polygon fill=\"#000000\" stroke=\"#000000\" points=\"412.2578,-177.1994 417.6105,-168.0561 407.7243,-171.8658 412.2578,-177.1994\"/>\n",
       "</g>\n",
       "<!-- 28 -->\n",
       "<g id=\"node29\" class=\"node\">\n",
       "<title>28</title>\n",
       "<text text-anchor=\"middle\" x=\"320.5\" y=\"-105.8\" font-family=\"Times,serif\" font-size=\"14.00\" fill=\"#000000\">&lt;letter&gt;</text>\n",
       "</g>\n",
       "<!-- 27&#45;&gt;28 -->\n",
       "<g id=\"edge28\" class=\"edge\">\n",
       "<title>27&#45;&gt;28</title>\n",
       "<path fill=\"none\" stroke=\"#000000\" d=\"M334.1391,-152.9748C331.9885,-146.1196 328.7316,-135.7383 325.9398,-126.8392\"/>\n",
       "<polygon fill=\"#000000\" stroke=\"#000000\" points=\"329.2035,-125.5499 322.8705,-117.0561 322.5245,-127.6453 329.2035,-125.5499\"/>\n",
       "</g>\n",
       "<!-- 29 -->\n",
       "<g id=\"node30\" class=\"node\">\n",
       "<title>29</title>\n",
       "<text text-anchor=\"middle\" x=\"320.5\" y=\"-54.8\" font-family=\"Times,serif\" font-size=\"14.00\" fill=\"#000000\">a</text>\n",
       "</g>\n",
       "<!-- 28&#45;&gt;29 -->\n",
       "<g id=\"edge29\" class=\"edge\">\n",
       "<title>28&#45;&gt;29</title>\n",
       "<path fill=\"none\" stroke=\"#000000\" d=\"M320.5,-101.9748C320.5,-95.195 320.5,-84.966 320.5,-76.1331\"/>\n",
       "<polygon fill=\"#000000\" stroke=\"#000000\" points=\"324.0001,-76.0561 320.5,-66.0561 317.0001,-76.0561 324.0001,-76.0561\"/>\n",
       "</g>\n",
       "<!-- 31 -->\n",
       "<g id=\"node32\" class=\"node\">\n",
       "<title>31</title>\n",
       "<text text-anchor=\"middle\" x=\"397.5\" y=\"-105.8\" font-family=\"Times,serif\" font-size=\"14.00\" fill=\"#000000\">&lt;plain&#45;char&gt;</text>\n",
       "</g>\n",
       "<!-- 30&#45;&gt;31 -->\n",
       "<g id=\"edge31\" class=\"edge\">\n",
       "<title>30&#45;&gt;31</title>\n",
       "<path fill=\"none\" stroke=\"#000000\" d=\"M422.221,-152.9748C418.1944,-145.8936 412.0284,-135.05 406.8619,-125.9641\"/>\n",
       "<polygon fill=\"#000000\" stroke=\"#000000\" points=\"409.7822,-124.0189 401.7966,-117.0561 403.6972,-127.4791 409.7822,-124.0189\"/>\n",
       "</g>\n",
       "<!-- 34 -->\n",
       "<g id=\"node35\" class=\"node\">\n",
       "<title>34</title>\n",
       "<text text-anchor=\"middle\" x=\"487.5\" y=\"-105.8\" font-family=\"Times,serif\" font-size=\"14.00\" fill=\"#000000\">&lt;plain&#45;text&gt;</text>\n",
       "</g>\n",
       "<!-- 30&#45;&gt;34 -->\n",
       "<g id=\"edge34\" class=\"edge\">\n",
       "<title>30&#45;&gt;34</title>\n",
       "<path fill=\"none\" stroke=\"#000000\" d=\"M435.5008,-152.9748C444.6912,-145.291 459.1805,-133.177 470.5326,-123.6859\"/>\n",
       "<polygon fill=\"#000000\" stroke=\"#000000\" points=\"473.0354,-126.1555 478.4623,-117.0561 468.5454,-120.7852 473.0354,-126.1555\"/>\n",
       "</g>\n",
       "<!-- 32 -->\n",
       "<g id=\"node33\" class=\"node\">\n",
       "<title>32</title>\n",
       "<text text-anchor=\"middle\" x=\"397.5\" y=\"-54.8\" font-family=\"Times,serif\" font-size=\"14.00\" fill=\"#000000\">&lt;letter&gt;</text>\n",
       "</g>\n",
       "<!-- 31&#45;&gt;32 -->\n",
       "<g id=\"edge32\" class=\"edge\">\n",
       "<title>31&#45;&gt;32</title>\n",
       "<path fill=\"none\" stroke=\"#000000\" d=\"M397.5,-101.9748C397.5,-95.195 397.5,-84.966 397.5,-76.1331\"/>\n",
       "<polygon fill=\"#000000\" stroke=\"#000000\" points=\"401.0001,-76.0561 397.5,-66.0561 394.0001,-76.0561 401.0001,-76.0561\"/>\n",
       "</g>\n",
       "<!-- 33 -->\n",
       "<g id=\"node34\" class=\"node\">\n",
       "<title>33</title>\n",
       "<text text-anchor=\"middle\" x=\"397.5\" y=\"-3.8\" font-family=\"Times,serif\" font-size=\"14.00\" fill=\"#000000\">r</text>\n",
       "</g>\n",
       "<!-- 32&#45;&gt;33 -->\n",
       "<g id=\"edge33\" class=\"edge\">\n",
       "<title>32&#45;&gt;33</title>\n",
       "<path fill=\"none\" stroke=\"#000000\" d=\"M397.5,-50.9748C397.5,-44.195 397.5,-33.966 397.5,-25.1331\"/>\n",
       "<polygon fill=\"#000000\" stroke=\"#000000\" points=\"401.0001,-25.0561 397.5,-15.0561 394.0001,-25.0561 401.0001,-25.0561\"/>\n",
       "</g>\n",
       "<!-- 36 -->\n",
       "<g id=\"node37\" class=\"node\">\n",
       "<title>36</title>\n",
       "<text text-anchor=\"middle\" x=\"487.5\" y=\"-309.8\" font-family=\"Times,serif\" font-size=\"14.00\" fill=\"#000000\">&lt;lt&gt;</text>\n",
       "</g>\n",
       "<!-- 35&#45;&gt;36 -->\n",
       "<g id=\"edge36\" class=\"edge\">\n",
       "<title>35&#45;&gt;36</title>\n",
       "<path fill=\"none\" stroke=\"#000000\" d=\"M514.7783,-356.9748C510.288,-349.8183 503.3863,-338.8188 497.6488,-329.6747\"/>\n",
       "<polygon fill=\"#000000\" stroke=\"#000000\" points=\"500.5208,-327.6665 492.2411,-321.0561 494.5913,-331.387 500.5208,-327.6665\"/>\n",
       "</g>\n",
       "<!-- 38 -->\n",
       "<g id=\"node39\" class=\"node\">\n",
       "<title>38</title>\n",
       "<text text-anchor=\"middle\" x=\"519.5\" y=\"-309.8\" font-family=\"Times,serif\" font-size=\"14.00\" fill=\"#000000\">/</text>\n",
       "</g>\n",
       "<!-- 35&#45;&gt;38 -->\n",
       "<g id=\"edge38\" class=\"edge\">\n",
       "<title>35&#45;&gt;38</title>\n",
       "<path fill=\"none\" stroke=\"#000000\" d=\"M519.5,-356.9748C519.5,-350.195 519.5,-339.966 519.5,-331.1331\"/>\n",
       "<polygon fill=\"#000000\" stroke=\"#000000\" points=\"523.0001,-331.0561 519.5,-321.0561 516.0001,-331.0561 523.0001,-331.0561\"/>\n",
       "</g>\n",
       "<!-- 39 -->\n",
       "<g id=\"node40\" class=\"node\">\n",
       "<title>39</title>\n",
       "<text text-anchor=\"middle\" x=\"553.5\" y=\"-309.8\" font-family=\"Times,serif\" font-size=\"14.00\" fill=\"#000000\">&lt;id&gt;</text>\n",
       "</g>\n",
       "<!-- 35&#45;&gt;39 -->\n",
       "<g id=\"edge39\" class=\"edge\">\n",
       "<title>35&#45;&gt;39</title>\n",
       "<path fill=\"none\" stroke=\"#000000\" d=\"M524.5168,-356.9748C529.338,-349.743 536.7754,-338.5868 542.9089,-329.3866\"/>\n",
       "<polygon fill=\"#000000\" stroke=\"#000000\" points=\"545.8277,-331.3181 548.4626,-321.0561 540.0034,-327.4352 545.8277,-331.3181\"/>\n",
       "</g>\n",
       "<!-- 48 -->\n",
       "<g id=\"node49\" class=\"node\">\n",
       "<title>48</title>\n",
       "<text text-anchor=\"middle\" x=\"625.5\" y=\"-309.8\" font-family=\"Times,serif\" font-size=\"14.00\" fill=\"#000000\">&lt;gt&gt;</text>\n",
       "</g>\n",
       "<!-- 35&#45;&gt;48 -->\n",
       "<g id=\"edge48\" class=\"edge\">\n",
       "<title>35&#45;&gt;48</title>\n",
       "<path fill=\"none\" stroke=\"#000000\" d=\"M535.1407,-356.9748C552.9573,-348.4026 582.2342,-334.3165 602.6166,-324.5099\"/>\n",
       "<polygon fill=\"#000000\" stroke=\"#000000\" points=\"604.325,-327.5721 611.8188,-320.0825 601.29,-321.2642 604.325,-327.5721\"/>\n",
       "</g>\n",
       "<!-- 37 -->\n",
       "<g id=\"node38\" class=\"node\">\n",
       "<title>37</title>\n",
       "<text text-anchor=\"middle\" x=\"487.5\" y=\"-258.8\" font-family=\"Times,serif\" font-size=\"14.00\" fill=\"#000000\">&lt;</text>\n",
       "</g>\n",
       "<!-- 36&#45;&gt;37 -->\n",
       "<g id=\"edge37\" class=\"edge\">\n",
       "<title>36&#45;&gt;37</title>\n",
       "<path fill=\"none\" stroke=\"#000000\" d=\"M487.5,-305.9748C487.5,-299.195 487.5,-288.966 487.5,-280.1331\"/>\n",
       "<polygon fill=\"#000000\" stroke=\"#000000\" points=\"491.0001,-280.0561 487.5,-270.0561 484.0001,-280.0561 491.0001,-280.0561\"/>\n",
       "</g>\n",
       "<!-- 40 -->\n",
       "<g id=\"node41\" class=\"node\">\n",
       "<title>40</title>\n",
       "<text text-anchor=\"middle\" x=\"540.5\" y=\"-258.8\" font-family=\"Times,serif\" font-size=\"14.00\" fill=\"#000000\">&lt;id&gt;</text>\n",
       "</g>\n",
       "<!-- 39&#45;&gt;40 -->\n",
       "<g id=\"edge40\" class=\"edge\">\n",
       "<title>39&#45;&gt;40</title>\n",
       "<path fill=\"none\" stroke=\"#000000\" d=\"M551.5818,-305.9748C549.8344,-299.1196 547.1882,-288.7383 544.9198,-279.8392\"/>\n",
       "<polygon fill=\"#000000\" stroke=\"#000000\" points=\"548.2877,-278.8817 542.4261,-270.0561 541.5046,-280.6108 548.2877,-278.8817\"/>\n",
       "</g>\n",
       "<!-- 46 -->\n",
       "<g id=\"node47\" class=\"node\">\n",
       "<title>46</title>\n",
       "<text text-anchor=\"middle\" x=\"594.5\" y=\"-258.8\" font-family=\"Times,serif\" font-size=\"14.00\" fill=\"#000000\">&lt;letter&gt;</text>\n",
       "</g>\n",
       "<!-- 39&#45;&gt;46 -->\n",
       "<g id=\"edge46\" class=\"edge\">\n",
       "<title>39&#45;&gt;46</title>\n",
       "<path fill=\"none\" stroke=\"#000000\" d=\"M559.5497,-305.9748C565.424,-298.6677 574.5193,-287.354 581.959,-278.0997\"/>\n",
       "<polygon fill=\"#000000\" stroke=\"#000000\" points=\"584.8877,-280.0428 588.4255,-270.0561 579.4321,-275.6569 584.8877,-280.0428\"/>\n",
       "</g>\n",
       "<!-- 41 -->\n",
       "<g id=\"node42\" class=\"node\">\n",
       "<title>41</title>\n",
       "<text text-anchor=\"middle\" x=\"518.5\" y=\"-207.8\" font-family=\"Times,serif\" font-size=\"14.00\" fill=\"#000000\">&lt;id&gt;</text>\n",
       "</g>\n",
       "<!-- 40&#45;&gt;41 -->\n",
       "<g id=\"edge41\" class=\"edge\">\n",
       "<title>40&#45;&gt;41</title>\n",
       "<path fill=\"none\" stroke=\"#000000\" d=\"M537.2538,-254.9748C534.2317,-247.969 529.6209,-237.2803 525.7275,-228.2547\"/>\n",
       "<polygon fill=\"#000000\" stroke=\"#000000\" points=\"528.9342,-226.8519 521.7595,-219.0561 522.5067,-229.6246 528.9342,-226.8519\"/>\n",
       "</g>\n",
       "<!-- 44 -->\n",
       "<g id=\"node45\" class=\"node\">\n",
       "<title>44</title>\n",
       "<text text-anchor=\"middle\" x=\"572.5\" y=\"-207.8\" font-family=\"Times,serif\" font-size=\"14.00\" fill=\"#000000\">&lt;letter&gt;</text>\n",
       "</g>\n",
       "<!-- 40&#45;&gt;44 -->\n",
       "<g id=\"edge44\" class=\"edge\">\n",
       "<title>40&#45;&gt;44</title>\n",
       "<path fill=\"none\" stroke=\"#000000\" d=\"M545.2217,-254.9748C549.712,-247.8183 556.6137,-236.8188 562.3512,-227.6747\"/>\n",
       "<polygon fill=\"#000000\" stroke=\"#000000\" points=\"565.4087,-229.387 567.7589,-219.0561 559.4792,-225.6665 565.4087,-229.387\"/>\n",
       "</g>\n",
       "<!-- 42 -->\n",
       "<g id=\"node43\" class=\"node\">\n",
       "<title>42</title>\n",
       "<text text-anchor=\"middle\" x=\"523.5\" y=\"-156.8\" font-family=\"Times,serif\" font-size=\"14.00\" fill=\"#000000\">&lt;letter&gt;</text>\n",
       "</g>\n",
       "<!-- 41&#45;&gt;42 -->\n",
       "<g id=\"edge42\" class=\"edge\">\n",
       "<title>41&#45;&gt;42</title>\n",
       "<path fill=\"none\" stroke=\"#000000\" d=\"M519.2378,-203.9748C519.9025,-197.195 520.9053,-186.966 521.7713,-178.1331\"/>\n",
       "<polygon fill=\"#000000\" stroke=\"#000000\" points=\"525.2667,-178.3499 522.7592,-168.0561 518.3001,-177.6669 525.2667,-178.3499\"/>\n",
       "</g>\n",
       "<!-- 43 -->\n",
       "<g id=\"node44\" class=\"node\">\n",
       "<title>43</title>\n",
       "<text text-anchor=\"middle\" x=\"543.5\" y=\"-105.8\" font-family=\"Times,serif\" font-size=\"14.00\" fill=\"#000000\">f</text>\n",
       "</g>\n",
       "<!-- 42&#45;&gt;43 -->\n",
       "<g id=\"edge43\" class=\"edge\">\n",
       "<title>42&#45;&gt;43</title>\n",
       "<path fill=\"none\" stroke=\"#000000\" d=\"M526.4511,-152.9748C529.2626,-145.8053 533.5867,-134.7789 537.1765,-125.625\"/>\n",
       "<polygon fill=\"#000000\" stroke=\"#000000\" points=\"540.5261,-126.67 540.9186,-116.0825 534.0093,-124.1144 540.5261,-126.67\"/>\n",
       "</g>\n",
       "<!-- 45 -->\n",
       "<g id=\"node46\" class=\"node\">\n",
       "<title>45</title>\n",
       "<text text-anchor=\"middle\" x=\"572.5\" y=\"-156.8\" font-family=\"Times,serif\" font-size=\"14.00\" fill=\"#000000\">o</text>\n",
       "</g>\n",
       "<!-- 44&#45;&gt;45 -->\n",
       "<g id=\"edge45\" class=\"edge\">\n",
       "<title>44&#45;&gt;45</title>\n",
       "<path fill=\"none\" stroke=\"#000000\" d=\"M572.5,-203.9748C572.5,-197.195 572.5,-186.966 572.5,-178.1331\"/>\n",
       "<polygon fill=\"#000000\" stroke=\"#000000\" points=\"576.0001,-178.0561 572.5,-168.0561 569.0001,-178.0561 576.0001,-178.0561\"/>\n",
       "</g>\n",
       "<!-- 47 -->\n",
       "<g id=\"node48\" class=\"node\">\n",
       "<title>47</title>\n",
       "<text text-anchor=\"middle\" x=\"617.5\" y=\"-207.8\" font-family=\"Times,serif\" font-size=\"14.00\" fill=\"#000000\">o</text>\n",
       "</g>\n",
       "<!-- 46&#45;&gt;47 -->\n",
       "<g id=\"edge47\" class=\"edge\">\n",
       "<title>46&#45;&gt;47</title>\n",
       "<path fill=\"none\" stroke=\"#000000\" d=\"M597.8937,-254.9748C601.0532,-247.969 605.8736,-237.2803 609.944,-228.2547\"/>\n",
       "<polygon fill=\"#000000\" stroke=\"#000000\" points=\"613.1718,-229.6109 614.0923,-219.0561 606.7907,-226.7331 613.1718,-229.6109\"/>\n",
       "</g>\n",
       "<!-- 49 -->\n",
       "<g id=\"node50\" class=\"node\">\n",
       "<title>49</title>\n",
       "<text text-anchor=\"middle\" x=\"639.5\" y=\"-258.8\" font-family=\"Times,serif\" font-size=\"14.00\" fill=\"#000000\">&gt;</text>\n",
       "</g>\n",
       "<!-- 48&#45;&gt;49 -->\n",
       "<g id=\"edge49\" class=\"edge\">\n",
       "<title>48&#45;&gt;49</title>\n",
       "<path fill=\"none\" stroke=\"#000000\" d=\"M627.5657,-305.9748C629.4476,-299.1196 632.2973,-288.7383 634.7402,-279.8392\"/>\n",
       "<polygon fill=\"#000000\" stroke=\"#000000\" points=\"638.1537,-280.6259 637.4258,-270.0561 631.4034,-278.7728 638.1537,-280.6259\"/>\n",
       "</g>\n",
       "</g>\n",
       "</svg>\n"
      ],
      "text/plain": [
       "<graphviz.dot.Digraph at 0x7ff2d293ee80>"
      ]
     },
     "execution_count": 19,
     "metadata": {},
     "output_type": "execute_result"
    }
   ],
   "source": [
    "display_tree(bad_input_tree)"
   ]
  },
  {
   "cell_type": "code",
   "execution_count": 20,
   "metadata": {
    "slideshow": {
     "slide_type": "skip"
    }
   },
   "outputs": [],
   "source": [
    "from fuzzingbook.GrammarFuzzer import tree_to_string, all_terminals"
   ]
  },
  {
   "cell_type": "code",
   "execution_count": 21,
   "metadata": {
    "slideshow": {
     "slide_type": "fragment"
    }
   },
   "outputs": [
    {
     "data": {
      "text/plain": [
       "'<foo>\"bar</foo>'"
      ]
     },
     "execution_count": 21,
     "metadata": {},
     "output_type": "execute_result"
    }
   ],
   "source": [
    "tree_to_string(bad_input_tree)"
   ]
  },
  {
   "cell_type": "markdown",
   "metadata": {
    "slideshow": {
     "slide_type": "slide"
    }
   },
   "source": [
    "## Mutating the Tree"
   ]
  },
  {
   "cell_type": "code",
   "execution_count": 22,
   "metadata": {
    "slideshow": {
     "slide_type": "skip"
    }
   },
   "outputs": [],
   "source": [
    "from fuzzingbook.Grammars import is_valid_grammar"
   ]
  },
  {
   "cell_type": "code",
   "execution_count": 23,
   "metadata": {
    "slideshow": {
     "slide_type": "fragment"
    }
   },
   "outputs": [],
   "source": [
    "class TreeMutator:\n",
    "    def __init__(self, grammar, tree, log=False):\n",
    "        assert is_valid_grammar(grammar)\n",
    "        self.grammar = grammar\n",
    "        self.tree = tree\n",
    "        self.log = log"
   ]
  },
  {
   "cell_type": "code",
   "execution_count": 24,
   "metadata": {
    "slideshow": {
     "slide_type": "subslide"
    }
   },
   "outputs": [],
   "source": [
    "class TreeMutator(TreeMutator):\n",
    "    def get_subtree(self, path, tree=None):\n",
    "        if tree is None:\n",
    "            tree = self.tree\n",
    "\n",
    "        node, children = tree\n",
    "\n",
    "        if not path:\n",
    "            return tree\n",
    "\n",
    "        return self.get_subtree(path[1:], children[path[0]])"
   ]
  },
  {
   "cell_type": "code",
   "execution_count": 25,
   "metadata": {
    "slideshow": {
     "slide_type": "fragment"
    }
   },
   "outputs": [],
   "source": [
    "def bad_input_tree_mutator():\n",
    "    return TreeMutator(SIMPLE_HTML_GRAMMAR, bad_input_tree, log=2)    "
   ]
  },
  {
   "cell_type": "code",
   "execution_count": 26,
   "metadata": {
    "slideshow": {
     "slide_type": "subslide"
    }
   },
   "outputs": [
    {
     "data": {
      "text/plain": [
       "('<plain-text>',\n",
       " [('<plain-char>', [('<other>', [('\"', [])])]),\n",
       "  ('<plain-text>',\n",
       "   [('<plain-char>', [('<letter>', [('b', [])])]),\n",
       "    ('<plain-text>',\n",
       "     [('<plain-char>', [('<letter>', [('a', [])])]),\n",
       "      ('<plain-text>',\n",
       "       [('<plain-char>', [('<letter>', [('r', [])])]),\n",
       "        ('<plain-text>', [])])])])])"
      ]
     },
     "execution_count": 26,
     "metadata": {},
     "output_type": "execute_result"
    }
   ],
   "source": [
    "bad_input_tree_mutator().get_subtree([0, 0, 1, 0])"
   ]
  },
  {
   "cell_type": "code",
   "execution_count": 27,
   "metadata": {
    "slideshow": {
     "slide_type": "subslide"
    }
   },
   "outputs": [],
   "source": [
    "class TreeMutator(TreeMutator):\n",
    "    def new_tree(self, start_symbol):\n",
    "        if self.log >= 2:\n",
    "            print(f\"Creating new tree for {start_symbol}\")\n",
    "\n",
    "        fuzzer = GrammarFuzzer(self.grammar, start_symbol=start_symbol)\n",
    "        fuzzer.fuzz()\n",
    "        return fuzzer.derivation_tree"
   ]
  },
  {
   "cell_type": "code",
   "execution_count": 28,
   "metadata": {
    "slideshow": {
     "slide_type": "fragment"
    }
   },
   "outputs": [
    {
     "name": "stdout",
     "output_type": "stream",
     "text": [
      "Creating new tree for <plain-text>\n"
     ]
    },
    {
     "data": {
      "text/plain": [
       "('<plain-text>',\n",
       " [('<plain-char>', [('<letter>', [('o', [])])]), ('<plain-text>', [('', [])])])"
      ]
     },
     "execution_count": 28,
     "metadata": {},
     "output_type": "execute_result"
    }
   ],
   "source": [
    "bad_input_tree_mutator().new_tree('<plain-text>')"
   ]
  },
  {
   "cell_type": "code",
   "execution_count": 29,
   "metadata": {
    "slideshow": {
     "slide_type": "subslide"
    }
   },
   "outputs": [],
   "source": [
    "class TreeMutator(TreeMutator):\n",
    "    def mutate(self, path, tree=None):\n",
    "        if tree is None:\n",
    "            tree = self.tree\n",
    "\n",
    "        node, children = tree\n",
    "\n",
    "        if not path:\n",
    "            return self.new_tree(node)\n",
    "\n",
    "        head = path[0]\n",
    "        new_children = (children[:head] +\n",
    "                        [self.mutate(path[1:], children[head])] +\n",
    "                        children[head + 1:])\n",
    "        return node, new_children"
   ]
  },
  {
   "cell_type": "code",
   "execution_count": 30,
   "metadata": {
    "slideshow": {
     "slide_type": "subslide"
    }
   },
   "outputs": [
    {
     "name": "stdout",
     "output_type": "stream",
     "text": [
      "Creating new tree for <html>\n"
     ]
    },
    {
     "data": {
      "text/plain": [
       "('<start>',\n",
       " [('<html>',\n",
       "   [('<plain-text>',\n",
       "     [('<plain-char>', [('<other>', [('*', [])])]),\n",
       "      ('<plain-text>',\n",
       "       [('<plain-char>', [('<other>', [('~', [])])]),\n",
       "        ('<plain-text>', [('', [])])])])])])"
      ]
     },
     "execution_count": 30,
     "metadata": {},
     "output_type": "execute_result"
    }
   ],
   "source": [
    "bad_input_tree_mutator().mutate([0])"
   ]
  },
  {
   "cell_type": "code",
   "execution_count": 31,
   "metadata": {
    "slideshow": {
     "slide_type": "fragment"
    }
   },
   "outputs": [
    {
     "name": "stdout",
     "output_type": "stream",
     "text": [
      "Creating new tree for <plain-text>\n"
     ]
    },
    {
     "data": {
      "text/plain": [
       "'<foo></foo>'"
      ]
     },
     "execution_count": 31,
     "metadata": {},
     "output_type": "execute_result"
    }
   ],
   "source": [
    "tree_to_string(bad_input_tree_mutator().mutate([0, 0, 1, 0]))"
   ]
  },
  {
   "cell_type": "markdown",
   "metadata": {
    "slideshow": {
     "slide_type": "slide"
    }
   },
   "source": [
    "## Generalizing Trees"
   ]
  },
  {
   "cell_type": "code",
   "execution_count": 32,
   "metadata": {
    "slideshow": {
     "slide_type": "fragment"
    }
   },
   "outputs": [],
   "source": [
    "class TreeGeneralizer(TreeMutator):\n",
    "    def __init__(self, grammar, tree, test,\n",
    "                 max_tries_for_abstraction=10,\n",
    "                 **kwargs):\n",
    "        super().__init__(grammar, tree, **kwargs)\n",
    "        self.test = test\n",
    "        self.max_tries_for_abstraction = max_tries_for_abstraction"
   ]
  },
  {
   "cell_type": "code",
   "execution_count": 33,
   "metadata": {
    "slideshow": {
     "slide_type": "subslide"
    }
   },
   "outputs": [],
   "source": [
    "class TreeGeneralizer(TreeGeneralizer):\n",
    "    def test_tree(self, tree):\n",
    "        s = tree_to_string(tree)\n",
    "        if self.log:\n",
    "            print(f\"Testing {repr(s)}...\", end=\"\")\n",
    "        try:\n",
    "            self.test(s)\n",
    "        except Exception as exc:\n",
    "            if self.log:\n",
    "                print(f\"FAIL ({type(exc).__name__})\")\n",
    "            ret = False\n",
    "        else:\n",
    "            if self.log:\n",
    "                print(f\"PASS\")\n",
    "            ret = True\n",
    "\n",
    "        return ret"
   ]
  },
  {
   "cell_type": "code",
   "execution_count": 34,
   "metadata": {
    "slideshow": {
     "slide_type": "subslide"
    }
   },
   "outputs": [],
   "source": [
    "class TreeGeneralizer(TreeGeneralizer):\n",
    "    def can_generalize(self, path, tree=None):\n",
    "        for i in range(self.max_tries_for_abstraction):\n",
    "            mutated_tree = self.mutate(path, tree)\n",
    "            if self.test_tree(mutated_tree):\n",
    "                # Failure no longer occurs; cannot abstract\n",
    "                return False\n",
    "            \n",
    "        return True"
   ]
  },
  {
   "cell_type": "code",
   "execution_count": 35,
   "metadata": {
    "slideshow": {
     "slide_type": "fragment"
    }
   },
   "outputs": [],
   "source": [
    "def bad_input_tree_generalizer():\n",
    "    return TreeGeneralizer(SIMPLE_HTML_GRAMMAR, bad_input_tree,\n",
    "                           remove_html_markup, log=True)    "
   ]
  },
  {
   "cell_type": "code",
   "execution_count": 36,
   "metadata": {
    "slideshow": {
     "slide_type": "subslide"
    }
   },
   "outputs": [
    {
     "name": "stdout",
     "output_type": "stream",
     "text": [
      "Testing '<M16oN6XM=\"10-\" o=\"\" j=\\']\\'/>'...PASS\n"
     ]
    },
    {
     "data": {
      "text/plain": [
       "False"
      ]
     },
     "execution_count": 36,
     "metadata": {},
     "output_type": "execute_result"
    }
   ],
   "source": [
    "bad_input_tree_generalizer().can_generalize([0])"
   ]
  },
  {
   "cell_type": "code",
   "execution_count": 37,
   "metadata": {
    "slideshow": {
     "slide_type": "fragment"
    }
   },
   "outputs": [
    {
     "name": "stdout",
     "output_type": "stream",
     "text": [
      "Testing '<foo></foo>'...PASS\n"
     ]
    },
    {
     "data": {
      "text/plain": [
       "False"
      ]
     },
     "execution_count": 37,
     "metadata": {},
     "output_type": "execute_result"
    }
   ],
   "source": [
    "bad_input_tree_generalizer().can_generalize([0, 0, 1, 0])"
   ]
  },
  {
   "cell_type": "code",
   "execution_count": 38,
   "metadata": {
    "slideshow": {
     "slide_type": "subslide"
    }
   },
   "outputs": [
    {
     "name": "stdout",
     "output_type": "stream",
     "text": [
      "Testing '<u03p=\\'p\\' x=\\'I\\'>\"bar</foo>'...FAIL (AssertionError)\n",
      "Testing '<RE7=\":\">\"bar</foo>'...FAIL (AssertionError)\n",
      "Testing '<Yg683yqI85=\\'O\\' c5=\"@\" f=\\'\\' k=\\'\\'>\"bar</foo>'...FAIL (AssertionError)\n",
      "Testing '<n145>\"bar</foo>'...FAIL (AssertionError)\n",
      "Testing '<t5A2ARYuZ0Z3>\"bar</foo>'...FAIL (AssertionError)\n",
      "Testing '<z>\"bar</foo>'...FAIL (AssertionError)\n",
      "Testing '<Up6BSTKR7G61=\\'8n\\'>\"bar</foo>'...FAIL (AssertionError)\n",
      "Testing '<Wi77v=\"$\">\"bar</foo>'...FAIL (AssertionError)\n",
      "Testing '<n5>\"bar</foo>'...FAIL (AssertionError)\n",
      "Testing '<RVvwSrC0=\\'\\'>\"bar</foo>'...FAIL (AssertionError)\n"
     ]
    },
    {
     "data": {
      "text/plain": [
       "True"
      ]
     },
     "execution_count": 38,
     "metadata": {},
     "output_type": "execute_result"
    }
   ],
   "source": [
    "bad_input_tree_generalizer().can_generalize([0, 0, 0])"
   ]
  },
  {
   "cell_type": "code",
   "execution_count": 39,
   "metadata": {
    "slideshow": {
     "slide_type": "subslide"
    }
   },
   "outputs": [],
   "source": [
    "class TreeGeneralizer(TreeGeneralizer):\n",
    "    def find_paths(self, predicate, path=None, tree=None):\n",
    "        if path is None:\n",
    "            path = []\n",
    "        if tree is None:\n",
    "            tree = self.tree\n",
    "            \n",
    "        node, children = self.get_subtree(path)\n",
    "\n",
    "        if predicate(path, tree):\n",
    "            if self.log:\n",
    "                node, children = self.get_subtree(path)\n",
    "            return [path]\n",
    "\n",
    "        paths = []\n",
    "        for i, child in enumerate(children):\n",
    "            child_node, _ = child\n",
    "            if child_node in self.grammar:\n",
    "                paths += self.find_paths(predicate, path + [i])\n",
    "\n",
    "        return paths        \n",
    "    \n",
    "    def generalizable_paths(self):\n",
    "        return self.find_paths(self.can_generalize)"
   ]
  },
  {
   "cell_type": "code",
   "execution_count": 40,
   "metadata": {
    "slideshow": {
     "slide_type": "subslide"
    }
   },
   "outputs": [
    {
     "name": "stdout",
     "output_type": "stream",
     "text": [
      "Testing 'P'...PASS\n",
      "Testing 'o'...PASS\n",
      "Testing '<lW=\"5.2\" F62=\\'\\'><c90></P>'...PASS\n",
      "Testing '<u>\"bar</foo>'...FAIL (AssertionError)\n",
      "Testing '<wZ>\"bar</foo>'...FAIL (AssertionError)\n",
      "Testing '<eY=\\'nX\\' i=\\'1\\'>\"bar</foo>'...FAIL (AssertionError)\n",
      "Testing '<PH9vbT8g4e4=\\'\\' y2=\\'rw}^B2\\' G2678g3=\"\">\"bar</foo>'...FAIL (AssertionError)\n",
      "Testing '<wmy08VX9133N=\"2\" r=\\'0!!#1\\'>\"bar</foo>'...FAIL (AssertionError)\n",
      "Testing '<t7ZyR=\"\">\"bar</foo>'...FAIL (AssertionError)\n",
      "Testing '<w4rSO6iCir=\\']\\' v3=\"\">\"bar</foo>'...FAIL (AssertionError)\n",
      "Testing '<h16vk>\"bar</foo>'...FAIL (AssertionError)\n",
      "Testing '<a6GT9=\\'\\'>\"bar</foo>'...FAIL (AssertionError)\n",
      "Testing '<y1JGcbe=\\'8k\\' AYb29=\\'\\' P5f=\\'3,e\\'>\"bar</foo>'...FAIL (AssertionError)\n",
      "Testing '<foo>Z</foo>'...PASS\n",
      "Testing '<foo>4</foo>'...PASS\n",
      "Testing '<foo>Zbar</foo>'...PASS\n",
      "Testing '<foo>=bar</foo>'...PASS\n",
      "Testing '<foo>\"</foo>'...FAIL (AssertionError)\n",
      "Testing '<foo>\"P</foo>'...FAIL (AssertionError)\n",
      "Testing '<foo>\"$4</foo>'...FAIL (AssertionError)\n",
      "Testing '<foo>\"z</foo>'...FAIL (AssertionError)\n",
      "Testing '<foo>\"</foo>'...FAIL (AssertionError)\n",
      "Testing '<foo>\"</foo>'...FAIL (AssertionError)\n",
      "Testing '<foo>\"</foo>'...FAIL (AssertionError)\n",
      "Testing '<foo>\"2m}n6</foo>'...FAIL (AssertionError)\n",
      "Testing '<foo>\"|</foo>'...FAIL (AssertionError)\n",
      "Testing '<foo>\"</foo>'...FAIL (AssertionError)\n",
      "Testing '<foo>\"bar</X8>'...FAIL (AssertionError)\n",
      "Testing '<foo>\"bar</WfU6v>'...FAIL (AssertionError)\n",
      "Testing '<foo>\"bar</aV4>'...FAIL (AssertionError)\n",
      "Testing '<foo>\"bar</e>'...FAIL (AssertionError)\n",
      "Testing '<foo>\"bar</P59rN50>'...FAIL (AssertionError)\n",
      "Testing '<foo>\"bar</rwDr3>'...FAIL (AssertionError)\n",
      "Testing '<foo>\"bar</bb9Crlrqq>'...FAIL (AssertionError)\n",
      "Testing '<foo>\"bar</F>'...FAIL (AssertionError)\n",
      "Testing '<foo>\"bar</D8K>'...FAIL (AssertionError)\n",
      "Testing '<foo>\"bar</C>'...FAIL (AssertionError)\n"
     ]
    },
    {
     "data": {
      "text/plain": [
       "[[0, 0, 0], [0, 0, 1, 0, 1], [0, 0, 2]]"
      ]
     },
     "execution_count": 40,
     "metadata": {},
     "output_type": "execute_result"
    }
   ],
   "source": [
    "bad_input_tree_generalizer().generalizable_paths()"
   ]
  },
  {
   "cell_type": "code",
   "execution_count": 41,
   "metadata": {
    "slideshow": {
     "slide_type": "subslide"
    }
   },
   "outputs": [],
   "source": [
    "class TreeGeneralizer(TreeGeneralizer):\n",
    "    def generalize_path(self, path, tree=None):\n",
    "        if tree is None:\n",
    "            tree = self.tree\n",
    "\n",
    "        node, children = tree\n",
    "\n",
    "        if not path:\n",
    "            return node, []\n",
    "\n",
    "        head = path[0]\n",
    "        new_children = (children[:head] +\n",
    "                        [self.generalize_path(path[1:], children[head])] +\n",
    "                        children[head + 1:])\n",
    "        return node, new_children"
   ]
  },
  {
   "cell_type": "code",
   "execution_count": 42,
   "metadata": {
    "slideshow": {
     "slide_type": "subslide"
    }
   },
   "outputs": [
    {
     "data": {
      "text/plain": [
       "'<opening-tag>\"bar<plain-text></foo>'"
      ]
     },
     "execution_count": 42,
     "metadata": {},
     "output_type": "execute_result"
    }
   ],
   "source": [
    "all_terminals(bad_input_tree_generalizer().generalize_path([0, 0, 0]))"
   ]
  },
  {
   "cell_type": "code",
   "execution_count": 43,
   "metadata": {
    "slideshow": {
     "slide_type": "fragment"
    }
   },
   "outputs": [],
   "source": [
    "class TreeGeneralizer(TreeGeneralizer):\n",
    "    def generalize(self):\n",
    "        tree = self.tree\n",
    "        for path in self.generalizable_paths():\n",
    "            tree = self.generalize_path(path, tree)\n",
    "            \n",
    "        return tree"
   ]
  },
  {
   "cell_type": "code",
   "execution_count": 44,
   "metadata": {
    "slideshow": {
     "slide_type": "subslide"
    }
   },
   "outputs": [
    {
     "name": "stdout",
     "output_type": "stream",
     "text": [
      "Testing ''...PASS\n",
      "Testing ''...PASS\n",
      "Testing '<dz>'...PASS\n",
      "Testing '<N>\"bar</foo>'...FAIL (AssertionError)\n",
      "Testing '<I>\"bar</foo>'...FAIL (AssertionError)\n",
      "Testing '<GGj98IC04>\"bar</foo>'...FAIL (AssertionError)\n",
      "Testing '<HC5>\"bar</foo>'...FAIL (AssertionError)\n",
      "Testing '<X>\"bar</foo>'...FAIL (AssertionError)\n",
      "Testing '<A005>\"bar</foo>'...FAIL (AssertionError)\n",
      "Testing '<D>\"bar</foo>'...FAIL (AssertionError)\n",
      "Testing '<n9n2C=\\'5\\'>\"bar</foo>'...FAIL (AssertionError)\n",
      "Testing '<K>\"bar</foo>'...FAIL (AssertionError)\n",
      "Testing '<n54d>\"bar</foo>'...FAIL (AssertionError)\n",
      "Testing '<foo></foo>'...PASS\n",
      "Testing '<foo>W</foo>'...PASS\n",
      "Testing '<foo>sbar</foo>'...PASS\n",
      "Testing '<foo>{bar</foo>'...PASS\n",
      "Testing '<foo>\"3</foo>'...FAIL (AssertionError)\n",
      "Testing '<foo>\"4</foo>'...FAIL (AssertionError)\n",
      "Testing '<foo>\"</foo>'...FAIL (AssertionError)\n",
      "Testing '<foo>\"F7</foo>'...FAIL (AssertionError)\n",
      "Testing '<foo>\"y1</foo>'...FAIL (AssertionError)\n",
      "Testing '<foo>\"-</foo>'...FAIL (AssertionError)\n",
      "Testing '<foo>\"5</foo>'...FAIL (AssertionError)\n",
      "Testing '<foo>\"</foo>'...FAIL (AssertionError)\n",
      "Testing '<foo>\"</foo>'...FAIL (AssertionError)\n",
      "Testing '<foo>\"3</foo>'...FAIL (AssertionError)\n",
      "Testing '<foo>\"bar</T660hAp>'...FAIL (AssertionError)\n",
      "Testing '<foo>\"bar</j8vi>'...FAIL (AssertionError)\n",
      "Testing '<foo>\"bar</gR4>'...FAIL (AssertionError)\n",
      "Testing '<foo>\"bar</Up>'...FAIL (AssertionError)\n",
      "Testing '<foo>\"bar</I>'...FAIL (AssertionError)\n",
      "Testing '<foo>\"bar</qU80q>'...FAIL (AssertionError)\n",
      "Testing '<foo>\"bar</g71KsA>'...FAIL (AssertionError)\n",
      "Testing '<foo>\"bar</XA4D8i>'...FAIL (AssertionError)\n",
      "Testing '<foo>\"bar</z66>'...FAIL (AssertionError)\n",
      "Testing '<foo>\"bar</z>'...FAIL (AssertionError)\n"
     ]
    },
    {
     "data": {
      "text/plain": [
       "'<opening-tag>\"<plain-text><closing-tag>'"
      ]
     },
     "execution_count": 44,
     "metadata": {},
     "output_type": "execute_result"
    }
   ],
   "source": [
    "all_terminals(bad_input_tree_generalizer().generalize())"
   ]
  },
  {
   "cell_type": "markdown",
   "metadata": {
    "slideshow": {
     "slide_type": "slide"
    }
   },
   "source": [
    "## Putting it all Together"
   ]
  },
  {
   "cell_type": "code",
   "execution_count": 45,
   "metadata": {
    "slideshow": {
     "slide_type": "skip"
    }
   },
   "outputs": [],
   "source": [
    "from DeltaDebugger import CallCollector, is_reducible"
   ]
  },
  {
   "cell_type": "code",
   "execution_count": 46,
   "metadata": {
    "slideshow": {
     "slide_type": "skip"
    }
   },
   "outputs": [],
   "source": [
    "import copy"
   ]
  },
  {
   "cell_type": "code",
   "execution_count": 47,
   "metadata": {
    "slideshow": {
     "slide_type": "subslide"
    }
   },
   "outputs": [],
   "source": [
    "class DDSetDebugger(CallCollector):\n",
    "    def __init__(self, grammar, \n",
    "                 generalizer=TreeGeneralizer,\n",
    "                 parser=EarleyParser,\n",
    "                 **kwargs):\n",
    "        super().__init__(**kwargs)\n",
    "        self.grammar = grammar\n",
    "        self.parser = parser(grammar)\n",
    "        self.generalizer = generalizer\n",
    "\n",
    "    def generalized_args(self, **kwargs):\n",
    "        generalized_args = copy.deepcopy(self.args())\n",
    "\n",
    "        for arg in self.args():\n",
    "            def test(value):\n",
    "                return self.call({arg: value})\n",
    "\n",
    "            value = self.args()[arg]\n",
    "            if is_reducible(value):\n",
    "                tree = list(self.parser.parse(value))[0]\n",
    "                gen = self.generalizer(self.grammar, tree, test, **kwargs)\n",
    "                generalized_args[arg] = all_terminals(gen.generalize())\n",
    "\n",
    "        return generalized_args"
   ]
  },
  {
   "cell_type": "code",
   "execution_count": 48,
   "metadata": {
    "slideshow": {
     "slide_type": "subslide"
    }
   },
   "outputs": [],
   "source": [
    "with DDSetDebugger(SIMPLE_HTML_GRAMMAR) as dd:\n",
    "    remove_html_markup(BAD_INPUT)"
   ]
  },
  {
   "cell_type": "code",
   "execution_count": 49,
   "metadata": {
    "slideshow": {
     "slide_type": "fragment"
    }
   },
   "outputs": [
    {
     "data": {
      "text/plain": [
       "'<opening-tag>\"<plain-text><closing-tag>'"
      ]
     },
     "execution_count": 49,
     "metadata": {},
     "output_type": "execute_result"
    }
   ],
   "source": [
    "dd.generalized_args()['s']"
   ]
  },
  {
   "cell_type": "markdown",
   "metadata": {
    "slideshow": {
     "slide_type": "slide"
    }
   },
   "source": [
    "## More Examples"
   ]
  },
  {
   "cell_type": "markdown",
   "metadata": {
    "slideshow": {
     "slide_type": "subslide"
    }
   },
   "source": [
    "### Square Root"
   ]
  },
  {
   "cell_type": "code",
   "execution_count": 50,
   "metadata": {
    "slideshow": {
     "slide_type": "skip"
    }
   },
   "outputs": [],
   "source": [
    "from Assertions import square_root"
   ]
  },
  {
   "cell_type": "code",
   "execution_count": 51,
   "metadata": {
    "button": false,
    "new_sheet": false,
    "run_control": {
     "read_only": false
    },
    "slideshow": {
     "slide_type": "subslide"
    }
   },
   "outputs": [],
   "source": [
    "INT_GRAMMAR = {\n",
    "    \"<start>\":\n",
    "        [\"<int>\"],\n",
    "\n",
    "    \"<int>\":\n",
    "        [\"<positive-int>\", \"-<positive-int>\"],\n",
    "\n",
    "    \"<positive-int>\":\n",
    "        [\"<digit>\", \"<nonzero-digit><positive-int>\"],\n",
    "\n",
    "    \"<nonzero-digit>\": list(\"123456789\"),\n",
    "    \n",
    "    \"<digit>\": list(string.digits),\n",
    "}"
   ]
  },
  {
   "cell_type": "code",
   "execution_count": 52,
   "metadata": {
    "slideshow": {
     "slide_type": "subslide"
    }
   },
   "outputs": [],
   "source": [
    "def square_root_test(s):\n",
    "    return square_root(int(s))"
   ]
  },
  {
   "cell_type": "code",
   "execution_count": 53,
   "metadata": {
    "slideshow": {
     "slide_type": "fragment"
    }
   },
   "outputs": [],
   "source": [
    "with DDSetDebugger(INT_GRAMMAR) as dd:\n",
    "    square_root_test(\"-1\")"
   ]
  },
  {
   "cell_type": "code",
   "execution_count": 54,
   "metadata": {
    "slideshow": {
     "slide_type": "subslide"
    }
   },
   "outputs": [
    {
     "name": "stdout",
     "output_type": "stream",
     "text": [
      "Testing '-4'...FAIL (AssertionError)\n",
      "Testing '-12'...FAIL (AssertionError)\n",
      "Testing '-4'...FAIL (AssertionError)\n",
      "Testing '2'...PASS\n",
      "Testing '82'...PASS\n",
      "Testing '-6'...FAIL (AssertionError)\n",
      "Testing '-1'...FAIL (AssertionError)\n",
      "Testing '-32'...FAIL (AssertionError)\n",
      "Testing '-9'...FAIL (AssertionError)\n",
      "Testing '-60'...FAIL (AssertionError)\n",
      "Testing '-8'...FAIL (AssertionError)\n",
      "Testing '-3'...FAIL (AssertionError)\n",
      "Testing '-63'...FAIL (AssertionError)\n",
      "Testing '-7'...FAIL (AssertionError)\n",
      "Testing '-20'...FAIL (AssertionError)\n"
     ]
    },
    {
     "data": {
      "text/plain": [
       "'-<positive-int>'"
      ]
     },
     "execution_count": 54,
     "metadata": {},
     "output_type": "execute_result"
    }
   ],
   "source": [
    "dd.generalized_args(log=True)['s']"
   ]
  },
  {
   "cell_type": "markdown",
   "metadata": {
    "slideshow": {
     "slide_type": "subslide"
    }
   },
   "source": [
    "### Middle"
   ]
  },
  {
   "cell_type": "code",
   "execution_count": 55,
   "metadata": {
    "slideshow": {
     "slide_type": "skip"
    }
   },
   "outputs": [],
   "source": [
    "from StatisticalDebugger import middle"
   ]
  },
  {
   "cell_type": "code",
   "execution_count": 56,
   "metadata": {
    "button": false,
    "new_sheet": false,
    "run_control": {
     "read_only": false
    },
    "slideshow": {
     "slide_type": "subslide"
    }
   },
   "outputs": [],
   "source": [
    "XYZ_GRAMMAR = {\n",
    "    \"<start>\":\n",
    "        [\"<int>, <int>, <int>\"],\n",
    "\n",
    "    \"<int>\":\n",
    "        [\"<positive-int>\", \"-<positive-int>\"],\n",
    "\n",
    "    \"<positive-int>\":\n",
    "        [\"<digit>\", \"<nonzero-digit><positive-int>\"],\n",
    "\n",
    "    \"<nonzero-digit>\": list(\"123456789\"),\n",
    "    \n",
    "    \"<digit>\": list(string.digits),\n",
    "}"
   ]
  },
  {
   "cell_type": "code",
   "execution_count": 57,
   "metadata": {
    "slideshow": {
     "slide_type": "subslide"
    }
   },
   "outputs": [],
   "source": [
    "def middle_test(s):\n",
    "    x, y, z = eval(s)\n",
    "    assert middle(x, y, z) == sorted([x, y, z])[1]"
   ]
  },
  {
   "cell_type": "code",
   "execution_count": 58,
   "metadata": {
    "slideshow": {
     "slide_type": "fragment"
    }
   },
   "outputs": [
    {
     "name": "stderr",
     "output_type": "stream",
     "text": [
      "Traceback (most recent call last):\n",
      "  File \"<ipython-input-58-66d8f3f75b66>\", line 2, in <module>\n",
      "    middle_test(\"2, 1, 3\")\n",
      "  File \"<ipython-input-57-f901d04f7750>\", line 3, in middle_test\n",
      "    assert middle(x, y, z) == sorted([x, y, z])[1]\n",
      "AssertionError (expected)\n"
     ]
    }
   ],
   "source": [
    "with ExpectError(AssertionError):\n",
    "    middle_test(\"2, 1, 3\")"
   ]
  },
  {
   "cell_type": "code",
   "execution_count": 59,
   "metadata": {
    "slideshow": {
     "slide_type": "fragment"
    }
   },
   "outputs": [],
   "source": [
    "with DDSetDebugger(XYZ_GRAMMAR) as dd:\n",
    "    middle_test(\"2, 1, 3\")"
   ]
  },
  {
   "cell_type": "code",
   "execution_count": 60,
   "metadata": {
    "slideshow": {
     "slide_type": "subslide"
    }
   },
   "outputs": [
    {
     "name": "stdout",
     "output_type": "stream",
     "text": [
      "Testing '9, 6140, 5'...PASS\n",
      "Testing '32, 1, 3'...PASS\n",
      "Testing '53, 1, 3'...PASS\n",
      "Testing '1, 1, 3'...PASS\n",
      "Testing '2, 84, 3'...PASS\n",
      "Testing '2, 1, 3'...FAIL (AssertionError)\n",
      "Testing '2, 9, 3'...PASS\n",
      "Testing '2, 7, 3'...PASS\n",
      "Testing '2, 1, -9'...PASS\n",
      "Testing '2, 1, 5'...FAIL (AssertionError)\n",
      "Testing '2, 1, 24'...FAIL (AssertionError)\n",
      "Testing '2, 1, 58'...FAIL (AssertionError)\n",
      "Testing '2, 1, 843'...FAIL (AssertionError)\n",
      "Testing '2, 1, 3'...FAIL (AssertionError)\n",
      "Testing '2, 1, 168'...FAIL (AssertionError)\n",
      "Testing '2, 1, 0'...PASS\n",
      "Testing '2, 1, 2'...PASS\n"
     ]
    },
    {
     "data": {
      "text/plain": [
       "'2, 1, 3'"
      ]
     },
     "execution_count": 60,
     "metadata": {},
     "output_type": "execute_result"
    }
   ],
   "source": [
    "dd.generalized_args(log=True)['s']"
   ]
  },
  {
   "cell_type": "markdown",
   "metadata": {
    "slideshow": {
     "slide_type": "slide"
    }
   },
   "source": [
    "# Synopsis\n",
    "\n",
    "<!-- Automatically generated. Do not edit. -->\n",
    "\n",
    "\n",
    "\n",
    "_For those only interested in using the code in this chapter (without wanting to know how it works), give an example.  This will be copied to the beginning of the chapter (before the first section) as text with rendered input and output._\n",
    "\n",
    "You can use `int_fuzzer()` as:\n",
    "\n",
    "```python\n",
    "print(int_fuzzer())\n",
    "```\n",
    "```python\n",
    "=> 76.5\n",
    "\n",
    "```\n"
   ]
  },
  {
   "cell_type": "markdown",
   "metadata": {
    "button": false,
    "new_sheet": true,
    "run_control": {
     "read_only": false
    },
    "slideshow": {
     "slide_type": "slide"
    }
   },
   "source": [
    "## _Section 1_\n",
    "\n",
    "\\todo{Add}"
   ]
  },
  {
   "cell_type": "markdown",
   "metadata": {
    "button": false,
    "new_sheet": false,
    "run_control": {
     "read_only": false
    },
    "slideshow": {
     "slide_type": "slide"
    }
   },
   "source": [
    "## _Section 2_\n",
    "\n",
    "\\todo{Add}"
   ]
  },
  {
   "cell_type": "markdown",
   "metadata": {
    "slideshow": {
     "slide_type": "subslide"
    }
   },
   "source": [
    "### Excursion: All the Details"
   ]
  },
  {
   "cell_type": "markdown",
   "metadata": {
    "slideshow": {
     "slide_type": "fragment"
    }
   },
   "source": [
    "This text will only show up on demand (HTML) or not at all (PDF). This is useful for longer implementations, or repetitive, or specialized parts."
   ]
  },
  {
   "cell_type": "markdown",
   "metadata": {
    "slideshow": {
     "slide_type": "subslide"
    }
   },
   "source": [
    "### End of Excursion"
   ]
  },
  {
   "cell_type": "markdown",
   "metadata": {
    "button": false,
    "new_sheet": false,
    "run_control": {
     "read_only": false
    },
    "slideshow": {
     "slide_type": "subslide"
    }
   },
   "source": [
    "## _Section 3_\n",
    "\n",
    "\\todo{Add}\n",
    "\n",
    "_If you want to introduce code, it is helpful to state the most important functions, as in:_\n",
    "\n",
    "* `random.randrange(start, end)` - return a random number [`start`, `end`]\n",
    "* `range(start, end)` - create a list with integers from `start` to `end`.  Typically used in iterations.\n",
    "* `for elem in list: body` executes `body` in a loop with `elem` taking each value from `list`.\n",
    "* `for i in range(start, end): body` executes `body` in a loop with `i` from `start` to `end` - 1.\n",
    "* `chr(n)` - return a character with ASCII code `n`"
   ]
  },
  {
   "cell_type": "code",
   "execution_count": 61,
   "metadata": {
    "slideshow": {
     "slide_type": "skip"
    }
   },
   "outputs": [],
   "source": [
    "import random"
   ]
  },
  {
   "cell_type": "code",
   "execution_count": 62,
   "metadata": {
    "slideshow": {
     "slide_type": "subslide"
    }
   },
   "outputs": [],
   "source": [
    "def int_fuzzer():\n",
    "    \"\"\"A simple function that returns a random integer\"\"\"\n",
    "    return random.randrange(1, 100) + 0.5"
   ]
  },
  {
   "cell_type": "code",
   "execution_count": 63,
   "metadata": {
    "button": false,
    "code_folding": [],
    "new_sheet": false,
    "run_control": {
     "read_only": false
    },
    "slideshow": {
     "slide_type": "subslide"
    }
   },
   "outputs": [],
   "source": [
    "# More code\n",
    "pass"
   ]
  },
  {
   "cell_type": "markdown",
   "metadata": {
    "button": false,
    "new_sheet": false,
    "run_control": {
     "read_only": false
    },
    "slideshow": {
     "slide_type": "slide"
    }
   },
   "source": [
    "## _Section 4_\n",
    "\n",
    "\\todo{Add}"
   ]
  },
  {
   "cell_type": "markdown",
   "metadata": {
    "slideshow": {
     "slide_type": "slide"
    }
   },
   "source": [
    "## Synopsis"
   ]
  },
  {
   "cell_type": "markdown",
   "metadata": {
    "slideshow": {
     "slide_type": "fragment"
    }
   },
   "source": [
    "_For those only interested in using the code in this chapter (without wanting to know how it works), give an example.  This will be copied to the beginning of the chapter (before the first section) as text with rendered input and output._"
   ]
  },
  {
   "cell_type": "markdown",
   "metadata": {
    "slideshow": {
     "slide_type": "fragment"
    }
   },
   "source": [
    "You can use `int_fuzzer()` as:"
   ]
  },
  {
   "cell_type": "code",
   "execution_count": 64,
   "metadata": {
    "slideshow": {
     "slide_type": "fragment"
    }
   },
   "outputs": [
    {
     "name": "stdout",
     "output_type": "stream",
     "text": [
      "45.5\n"
     ]
    }
   ],
   "source": [
    "print(int_fuzzer())"
   ]
  },
  {
   "cell_type": "markdown",
   "metadata": {
    "button": false,
    "new_sheet": true,
    "run_control": {
     "read_only": false
    },
    "slideshow": {
     "slide_type": "slide"
    }
   },
   "source": [
    "## Lessons Learned\n",
    "\n",
    "* _Lesson one_\n",
    "* _Lesson two_\n",
    "* _Lesson three_"
   ]
  },
  {
   "cell_type": "markdown",
   "metadata": {
    "button": false,
    "new_sheet": false,
    "run_control": {
     "read_only": false
    },
    "slideshow": {
     "slide_type": "slide"
    }
   },
   "source": [
    "## Next Steps\n",
    "\n",
    "_Link to subsequent chapters (notebooks) here, as in:_\n",
    "\n",
    "* [use _mutations_ on existing inputs to get more valid inputs](MutationFuzzer.ipynb)\n",
    "* [use _grammars_ (i.e., a specification of the input format) to get even more valid inputs](Grammars.ipynb)\n",
    "* [reduce _failing inputs_ for efficient debugging](Reducer.ipynb)\n"
   ]
  },
  {
   "cell_type": "markdown",
   "metadata": {
    "slideshow": {
     "slide_type": "slide"
    }
   },
   "source": [
    "## Background\n",
    "\n",
    "_Cite relevant works in the literature and put them into context, as in:_\n",
    "\n",
    "The idea of ensuring that each expansion in the grammar is used at least once goes back to Burkhardt \\cite{Burkhardt1967}, to be later rediscovered by Paul Purdom \\cite{Purdom1972}."
   ]
  },
  {
   "cell_type": "markdown",
   "metadata": {
    "button": false,
    "new_sheet": true,
    "run_control": {
     "read_only": false
    },
    "slideshow": {
     "slide_type": "slide"
    }
   },
   "source": [
    "## Exercises\n",
    "\n",
    "_Close the chapter with a few exercises such that people have things to do.  To make the solutions hidden (to be revealed by the user), have them start with_\n",
    "\n",
    "```\n",
    "**Solution.**\n",
    "```\n",
    "\n",
    "_Your solution can then extend up to the next title (i.e., any markdown cell starting with `#`)._\n",
    "\n",
    "_Running `make metadata` will automatically add metadata to the cells such that the cells will be hidden by default, and can be uncovered by the user.  The button will be introduced above the solution._"
   ]
  },
  {
   "cell_type": "markdown",
   "metadata": {
    "button": false,
    "new_sheet": false,
    "run_control": {
     "read_only": false
    },
    "slideshow": {
     "slide_type": "subslide"
    }
   },
   "source": [
    "### Exercise 1: _Title_\n",
    "\n",
    "_Text of the exercise_"
   ]
  },
  {
   "cell_type": "code",
   "execution_count": 65,
   "metadata": {
    "cell_style": "center",
    "slideshow": {
     "slide_type": "fragment"
    }
   },
   "outputs": [],
   "source": [
    "# Some code that is part of the exercise\n",
    "pass"
   ]
  },
  {
   "cell_type": "markdown",
   "metadata": {
    "slideshow": {
     "slide_type": "fragment"
    },
    "solution2": "hidden",
    "solution2_first": true
   },
   "source": [
    "_Some more text for the exercise_"
   ]
  },
  {
   "cell_type": "markdown",
   "metadata": {
    "slideshow": {
     "slide_type": "skip"
    },
    "solution2": "hidden"
   },
   "source": [
    "**Solution.** _Some text for the solution_"
   ]
  },
  {
   "cell_type": "code",
   "execution_count": 66,
   "metadata": {
    "cell_style": "split",
    "slideshow": {
     "slide_type": "skip"
    },
    "solution2": "hidden"
   },
   "outputs": [
    {
     "data": {
      "text/plain": [
       "4"
      ]
     },
     "execution_count": 66,
     "metadata": {},
     "output_type": "execute_result"
    }
   ],
   "source": [
    "# Some code for the solution\n",
    "2 + 2"
   ]
  },
  {
   "cell_type": "markdown",
   "metadata": {
    "slideshow": {
     "slide_type": "skip"
    },
    "solution2": "hidden"
   },
   "source": [
    "_Some more text for the solution_"
   ]
  },
  {
   "cell_type": "markdown",
   "metadata": {
    "button": false,
    "new_sheet": false,
    "run_control": {
     "read_only": false
    },
    "slideshow": {
     "slide_type": "subslide"
    },
    "solution": "hidden",
    "solution2": "hidden",
    "solution2_first": true,
    "solution_first": true
   },
   "source": [
    "### Exercise 2: _Title_\n",
    "\n",
    "_Text of the exercise_"
   ]
  },
  {
   "cell_type": "markdown",
   "metadata": {
    "button": false,
    "new_sheet": false,
    "run_control": {
     "read_only": false
    },
    "slideshow": {
     "slide_type": "skip"
    },
    "solution": "hidden",
    "solution2": "hidden"
   },
   "source": [
    "**Solution.** _Solution for the exercise_"
   ]
  },
  {
   "cell_type": "markdown",
   "metadata": {
    "slideshow": {
     "slide_type": "slide"
    }
   },
   "source": [
    "## Reducing Trees"
   ]
  },
  {
   "cell_type": "code",
   "execution_count": 67,
   "metadata": {
    "slideshow": {
     "slide_type": "skip"
    }
   },
   "outputs": [],
   "source": [
    "from DeltaDebugger import DeltaDebugger"
   ]
  },
  {
   "cell_type": "code",
   "execution_count": 68,
   "metadata": {
    "slideshow": {
     "slide_type": "skip"
    }
   },
   "outputs": [],
   "source": [
    "import copy"
   ]
  },
  {
   "cell_type": "code",
   "execution_count": 69,
   "metadata": {
    "slideshow": {
     "slide_type": "skip"
    }
   },
   "outputs": [],
   "source": [
    "from IPython.display import display"
   ]
  },
  {
   "cell_type": "code",
   "execution_count": 70,
   "metadata": {
    "slideshow": {
     "slide_type": "subslide"
    }
   },
   "outputs": [],
   "source": [
    "class TreeHDDReducer(TreeGeneralizer):\n",
    "    def _reduce(self, path, tree):\n",
    "        \"\"\"This is HDD\"\"\"\n",
    "\n",
    "        node, children = self.get_subtree(path, tree)\n",
    "            \n",
    "        if len(path) >= 1:\n",
    "            parent, parent_children = self.get_subtree(path[:-1], tree)\n",
    " \n",
    "            assert parent_children[path[-1]] == (node, children)\n",
    "\n",
    "            def test_children(children):\n",
    "                parent_children[path[-1]] = (node, children)\n",
    "                s = tree_to_string(tree)\n",
    "                self.test(s)\n",
    "\n",
    "            with DeltaDebugger() as dd:\n",
    "                test_children(children)\n",
    "            \n",
    "            # display(display_tree(tree))\n",
    "\n",
    "            children = dd.min_args()['children']\n",
    "            parent_children[path[-1]] = (node, children)\n",
    "        \n",
    "        for i, child in enumerate(children):\n",
    "            self._reduce(path + [i], tree)\n",
    "            \n",
    "        return tree\n",
    "\n",
    "    def reduce(self):\n",
    "        return self._reduce([], self.tree)"
   ]
  },
  {
   "cell_type": "code",
   "execution_count": 71,
   "metadata": {
    "slideshow": {
     "slide_type": "subslide"
    }
   },
   "outputs": [],
   "source": [
    "def bad_input_tree_hdd_reducer():\n",
    "    return TreeHDDReducer(SIMPLE_HTML_GRAMMAR, copy.deepcopy(bad_input_tree),\n",
    "                       remove_html_markup, log=True)    "
   ]
  },
  {
   "cell_type": "code",
   "execution_count": 72,
   "metadata": {
    "slideshow": {
     "slide_type": "fragment"
    }
   },
   "outputs": [
    {
     "data": {
      "text/plain": [
       "'\"<'"
      ]
     },
     "execution_count": 72,
     "metadata": {},
     "output_type": "execute_result"
    }
   ],
   "source": [
    "all_terminals(bad_input_tree_hdd_reducer().reduce())"
   ]
  },
  {
   "cell_type": "markdown",
   "metadata": {
    "slideshow": {
     "slide_type": "slide"
    }
   },
   "source": [
    "## More Reducing Trees"
   ]
  },
  {
   "cell_type": "code",
   "execution_count": 73,
   "metadata": {
    "slideshow": {
     "slide_type": "fragment"
    }
   },
   "outputs": [],
   "source": [
    "class TreeReducer(TreeGeneralizer):\n",
    "    def new_min_tree(self, start_symbol):\n",
    "        if self.log >= 2:\n",
    "            print(f\"Creating new minimal tree for {start_symbol}\")\n",
    "\n",
    "        fuzzer = GrammarFuzzer(self.grammar, start_symbol=start_symbol,\n",
    "                               min_nonterminals=0,\n",
    "                               max_nonterminals=0)\n",
    "        fuzzer.fuzz()\n",
    "        return fuzzer.derivation_tree"
   ]
  },
  {
   "cell_type": "code",
   "execution_count": 74,
   "metadata": {
    "slideshow": {
     "slide_type": "fragment"
    }
   },
   "outputs": [],
   "source": [
    "def bad_input_tree_reducer():\n",
    "    return TreeReducer(SIMPLE_HTML_GRAMMAR, bad_input_tree,\n",
    "                       remove_html_markup, log=2)    "
   ]
  },
  {
   "cell_type": "code",
   "execution_count": 75,
   "metadata": {
    "slideshow": {
     "slide_type": "subslide"
    }
   },
   "outputs": [
    {
     "name": "stdout",
     "output_type": "stream",
     "text": [
      "Creating new minimal tree for <start>\n"
     ]
    },
    {
     "data": {
      "text/plain": [
       "''"
      ]
     },
     "execution_count": 75,
     "metadata": {},
     "output_type": "execute_result"
    }
   ],
   "source": [
    "tree_to_string(bad_input_tree_reducer().new_min_tree('<start>'))"
   ]
  },
  {
   "cell_type": "code",
   "execution_count": 76,
   "metadata": {
    "slideshow": {
     "slide_type": "subslide"
    }
   },
   "outputs": [],
   "source": [
    "class TreeReducer(TreeReducer):\n",
    "    def reduce_path(self, path, tree=None):\n",
    "        if tree is None:\n",
    "            tree = self.tree\n",
    "\n",
    "        node, children = tree\n",
    "\n",
    "        if not path:\n",
    "            return self.new_min_tree(node)\n",
    "\n",
    "        head = path[0]\n",
    "        new_children = (children[:head] +\n",
    "                        [self.reduce_path(path[1:], children[head])] +\n",
    "                        children[head + 1:])\n",
    "        return node, new_children"
   ]
  },
  {
   "cell_type": "code",
   "execution_count": 77,
   "metadata": {
    "slideshow": {
     "slide_type": "subslide"
    }
   },
   "outputs": [
    {
     "name": "stdout",
     "output_type": "stream",
     "text": [
      "Creating new minimal tree for <plain-text>\n"
     ]
    },
    {
     "data": {
      "text/plain": [
       "'<foo></foo>'"
      ]
     },
     "execution_count": 77,
     "metadata": {},
     "output_type": "execute_result"
    }
   ],
   "source": [
    "tree_to_string(bad_input_tree_reducer().reduce_path([0, 0, 1, 0]))"
   ]
  },
  {
   "cell_type": "code",
   "execution_count": 78,
   "metadata": {
    "slideshow": {
     "slide_type": "fragment"
    }
   },
   "outputs": [],
   "source": [
    "class TreeReducer(TreeReducer):\n",
    "    def can_reduce(self, path, tree=None):\n",
    "        reduced_tree = self.reduce_path(path, tree)\n",
    "        if self.test_tree(reduced_tree):\n",
    "            # Failure no longer occurs; cannot reduce\n",
    "            return False\n",
    "\n",
    "        return True"
   ]
  },
  {
   "cell_type": "code",
   "execution_count": 79,
   "metadata": {
    "slideshow": {
     "slide_type": "fragment"
    }
   },
   "outputs": [],
   "source": [
    "class TreeReducer(TreeReducer):\n",
    "    def reducible_paths(self):\n",
    "        return self.find_paths(self.can_reduce)"
   ]
  },
  {
   "cell_type": "code",
   "execution_count": 80,
   "metadata": {
    "slideshow": {
     "slide_type": "subslide"
    }
   },
   "outputs": [
    {
     "name": "stdout",
     "output_type": "stream",
     "text": [
      "Creating new minimal tree for <start>\n",
      "Testing ''...PASS\n",
      "Creating new minimal tree for <html>\n",
      "Testing ''...PASS\n",
      "Creating new minimal tree for <tagged-text>\n",
      "Testing '<Z>'...PASS\n",
      "Creating new minimal tree for <opening-tag>\n",
      "Testing '<p>\"bar</foo>'...FAIL (AssertionError)\n",
      "Creating new minimal tree for <html>\n",
      "Testing '<foo></foo>'...PASS\n",
      "Creating new minimal tree for <plain-text>\n",
      "Testing '<foo></foo>'...PASS\n",
      "Creating new minimal tree for <plain-char>\n",
      "Testing '<foo>.bar</foo>'...PASS\n",
      "Creating new minimal tree for <other>\n",
      "Testing '<foo>;bar</foo>'...PASS\n",
      "Creating new minimal tree for <plain-text>\n",
      "Testing '<foo>\"</foo>'...FAIL (AssertionError)\n",
      "Creating new minimal tree for <closing-tag>\n",
      "Testing '<foo>\"bar</Y>'...FAIL (AssertionError)\n"
     ]
    },
    {
     "data": {
      "text/plain": [
       "[[0, 0, 0], [0, 0, 1, 0, 1], [0, 0, 2]]"
      ]
     },
     "execution_count": 80,
     "metadata": {},
     "output_type": "execute_result"
    }
   ],
   "source": [
    "bad_input_tree_reducer().reducible_paths()"
   ]
  },
  {
   "cell_type": "code",
   "execution_count": 81,
   "metadata": {
    "slideshow": {
     "slide_type": "subslide"
    }
   },
   "outputs": [],
   "source": [
    "class TreeReducer(TreeReducer):\n",
    "    def reduce(self):\n",
    "        tree = self.tree\n",
    "        for path in self.reducible_paths():\n",
    "            tree = self.reduce_path(path, tree)\n",
    "            \n",
    "        return tree"
   ]
  },
  {
   "cell_type": "code",
   "execution_count": 82,
   "metadata": {
    "slideshow": {
     "slide_type": "subslide"
    }
   },
   "outputs": [
    {
     "name": "stdout",
     "output_type": "stream",
     "text": [
      "Creating new minimal tree for <start>\n",
      "Testing ''...PASS\n",
      "Creating new minimal tree for <html>\n",
      "Testing ''...PASS\n",
      "Creating new minimal tree for <tagged-text>\n",
      "Testing '<a>'...PASS\n",
      "Creating new minimal tree for <opening-tag>\n",
      "Testing '<W>\"bar</foo>'...FAIL (AssertionError)\n",
      "Creating new minimal tree for <html>\n",
      "Testing '<foo></foo>'...PASS\n",
      "Creating new minimal tree for <plain-text>\n",
      "Testing '<foo></foo>'...PASS\n",
      "Creating new minimal tree for <plain-char>\n",
      "Testing '<foo>lbar</foo>'...PASS\n",
      "Creating new minimal tree for <other>\n",
      "Testing '<foo>.bar</foo>'...PASS\n",
      "Creating new minimal tree for <plain-text>\n",
      "Testing '<foo>\"</foo>'...FAIL (AssertionError)\n",
      "Creating new minimal tree for <closing-tag>\n",
      "Testing '<foo>\"bar</r>'...FAIL (AssertionError)\n",
      "Creating new minimal tree for <opening-tag>\n",
      "Creating new minimal tree for <plain-text>\n",
      "Creating new minimal tree for <closing-tag>\n"
     ]
    },
    {
     "data": {
      "text/plain": [
       "'<E>\"</l>'"
      ]
     },
     "execution_count": 82,
     "metadata": {},
     "output_type": "execute_result"
    }
   ],
   "source": [
    "all_terminals(bad_input_tree_reducer().reduce())"
   ]
  }
 ],
 "metadata": {
  "ipub": {
   "bibliography": "fuzzingbook.bib",
   "toc": true
  },
  "kernelspec": {
   "display_name": "Python 3",
   "language": "python",
   "name": "python3"
  },
  "language_info": {
   "codemirror_mode": {
    "name": "ipython",
    "version": 3
   },
   "file_extension": ".py",
   "mimetype": "text/x-python",
   "name": "python",
   "nbconvert_exporter": "python",
   "pygments_lexer": "ipython3",
   "version": "3.6.10"
  },
  "toc": {
   "base_numbering": 1,
   "nav_menu": {},
   "number_sections": true,
   "sideBar": true,
   "skip_h1_title": true,
   "title_cell": "",
   "title_sidebar": "Contents",
   "toc_cell": false,
   "toc_position": {},
   "toc_section_display": true,
   "toc_window_display": true
  },
  "toc-autonumbering": false
 },
 "nbformat": 4,
 "nbformat_minor": 4
}