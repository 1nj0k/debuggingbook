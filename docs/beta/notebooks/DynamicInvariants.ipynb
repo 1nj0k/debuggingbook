{
 "cells": [
  {
   "cell_type": "markdown",
   "metadata": {
    "button": false,
    "new_sheet": false,
    "run_control": {
     "read_only": false
    },
    "slideshow": {
     "slide_type": "slide"
    }
   },
   "source": [
    "# Mining Function Specifications\n",
    "\n",
    "In the [chapter on assertions](Assertions.ipynb), we have seen how important it is to _check_ whether the result is as expected.  In this chapter, we introduce a technique that allows us to _mine_ function specifications from a set of given executions, resulting in abstract and formal _descriptions_ of what the function expects and what it delivers.\n",
    "\n",
    "These so-called _dynamic invariants_ produce pre- and post-conditions over function arguments and variables from a set of executions. Within debugging, the resulting _assertions_ can immediately check whether function behavior has changed, but can also be useful to determine the characteristics of _failing_ runs (as opposed to _passing_ runs). Furthermore, the resulting specifications provide pre- and postconditions for formal program proofs, testing, and verification.\n",
    "\n",
    "This chapter is based on [a chapter with the same name in The Fuzzing Book](https://www.fuzzingbook.org/html/DynamicInvariants.html), which focuses on test generation."
   ]
  },
  {
   "cell_type": "code",
   "execution_count": 1,
   "metadata": {
    "execution": {
     "iopub.execute_input": "2025-01-07T11:06:22.992020Z",
     "iopub.status.busy": "2025-01-07T11:06:22.990883Z",
     "iopub.status.idle": "2025-01-07T11:06:23.085887Z",
     "shell.execute_reply": "2025-01-07T11:06:23.085496Z"
    },
    "slideshow": {
     "slide_type": "skip"
    }
   },
   "outputs": [
    {
     "data": {
      "text/html": [
       "\n",
       "        <iframe\n",
       "            width=\"640\"\n",
       "            height=\"360\"\n",
       "            src=\"https://www.youtube-nocookie.com/embed/HDu1olXFvv0\"\n",
       "            frameborder=\"0\"\n",
       "            allowfullscreen\n",
       "            \n",
       "        ></iframe>\n",
       "        "
      ],
      "text/plain": [
       "<IPython.lib.display.IFrame at 0x104cdd4c0>"
      ]
     },
     "execution_count": 1,
     "metadata": {},
     "output_type": "execute_result"
    }
   ],
   "source": [
    "from bookutils import YouTubeVideo\n",
    "YouTubeVideo(\"HDu1olXFvv0\")"
   ]
  },
  {
   "cell_type": "markdown",
   "metadata": {
    "button": false,
    "new_sheet": false,
    "run_control": {
     "read_only": false
    },
    "slideshow": {
     "slide_type": "subslide"
    }
   },
   "source": [
    "**Prerequisites**\n",
    "\n",
    "* You should be familiar with tracing program executions, as in the [chapter on tracing](Tracer.ipynb).\n",
    "* Later in this section, we access the internal _abstract syntax tree_ representations of Python programs and transform them, as in the [chapter on tracking failure origins](Slicer.ipynb)."
   ]
  },
  {
   "cell_type": "code",
   "execution_count": 2,
   "metadata": {
    "execution": {
     "iopub.execute_input": "2025-01-07T11:06:23.109070Z",
     "iopub.status.busy": "2025-01-07T11:06:23.108911Z",
     "iopub.status.idle": "2025-01-07T11:06:23.111244Z",
     "shell.execute_reply": "2025-01-07T11:06:23.111011Z"
    },
    "slideshow": {
     "slide_type": "skip"
    }
   },
   "outputs": [],
   "source": [
    "import bookutils.setup"
   ]
  },
  {
   "cell_type": "code",
   "execution_count": 3,
   "metadata": {
    "execution": {
     "iopub.execute_input": "2025-01-07T11:06:23.112782Z",
     "iopub.status.busy": "2025-01-07T11:06:23.112662Z",
     "iopub.status.idle": "2025-01-07T11:06:23.194896Z",
     "shell.execute_reply": "2025-01-07T11:06:23.194564Z"
    },
    "slideshow": {
     "slide_type": "skip"
    }
   },
   "outputs": [],
   "source": [
    "from Tracer import Tracer"
   ]
  },
  {
   "cell_type": "code",
   "execution_count": 4,
   "metadata": {
    "execution": {
     "iopub.execute_input": "2025-01-07T11:06:23.196458Z",
     "iopub.status.busy": "2025-01-07T11:06:23.196348Z",
     "iopub.status.idle": "2025-01-07T11:06:23.198232Z",
     "shell.execute_reply": "2025-01-07T11:06:23.197846Z"
    },
    "slideshow": {
     "slide_type": "fragment"
    }
   },
   "outputs": [],
   "source": [
    "# ignore\n",
    "from typing import Sequence, Any, Callable, Tuple\n",
    "from typing import Dict, Union, Set, List, cast, Optional"
   ]
  },
  {
   "attachments": {},
   "cell_type": "markdown",
   "metadata": {
    "slideshow": {
     "slide_type": "skip"
    }
   },
   "source": [
    "## Synopsis\n",
    "<!-- Automatically generated. Do not edit. -->\n",
    "\n",
    "To [use the code provided in this chapter](Importing.ipynb), write\n",
    "\n",
    "```python\n",
    ">>> from debuggingbook.DynamicInvariants import <identifier>\n",
    "```\n",
    "\n",
    "and then make use of the following features.\n",
    "\n",
    "\n",
    "This chapter provides two classes that automatically extract specifications from a function and a set of inputs:\n",
    "\n",
    "* `TypeAnnotator` for _types_, and\n",
    "* `InvariantAnnotator` for _pre-_ and _postconditions_.\n",
    "\n",
    "Both work by _observing_ a function and its invocations within a `with` clause.  Here is an example for the type annotator:\n",
    "\n",
    "```python\n",
    ">>> def sum2(a, b):  # type: ignore\n",
    ">>>     return a + b\n",
    ">>> with TypeAnnotator() as type_annotator:\n",
    ">>>     sum2(1, 2)\n",
    ">>>     sum2(-4, -5)\n",
    ">>>     sum2(0, 0)\n",
    "```\n",
    "The `typed_functions()` method will return a representation of `sum2()` annotated with types observed during execution.\n",
    "\n",
    "```python\n",
    ">>> print(type_annotator.typed_functions())\n",
    "def sum2(a: int, b: int) -> int:\n",
    "    return a + b\n",
    "\n",
    "```\n",
    "As a shortcut, one can also just evaluate the annotator:\n",
    "\n",
    "```python\n",
    ">>> type_annotator\n",
    "def sum2(a: int, b: int) -> int:\n",
    "    return a + b\n",
    "```\n",
    "The invariant annotator works similarly:\n",
    "\n",
    "```python\n",
    ">>> with InvariantAnnotator() as inv_annotator:\n",
    ">>>     sum2(1, 2)\n",
    ">>>     sum2(-4, -5)\n",
    ">>>     sum2(0, 0)\n",
    "```\n",
    "The `functions_with_invariants()` method will return a representation of `sum2()` annotated with inferred pre- and postconditions that all hold for the observed values.\n",
    "\n",
    "```python\n",
    ">>> print(inv_annotator.functions_with_invariants())\n",
    "@precondition(lambda a, b: isinstance(a, int))\n",
    "@precondition(lambda a, b: isinstance(b, int))\n",
    "@postcondition(lambda return_value, a, b: a == return_value - b)\n",
    "@postcondition(lambda return_value, a, b: b == return_value - a)\n",
    "@postcondition(lambda return_value, a, b: isinstance(return_value, int))\n",
    "@postcondition(lambda return_value, a, b: return_value == a + b)\n",
    "@postcondition(lambda return_value, a, b: return_value == b + a)\n",
    "def sum2(a, b):  # type: ignore\n",
    "    return a + b\n",
    "\n",
    "\n",
    "```\n",
    "Again, a shortcut is available:\n",
    "\n",
    "```python\n",
    ">>> inv_annotator\n",
    "@precondition(lambda a, b: isinstance(a, int))\n",
    "@precondition(lambda a, b: isinstance(b, int))\n",
    "@postcondition(lambda return_value, a, b: a == return_value - b)\n",
    "@postcondition(lambda return_value, a, b: b == return_value - a)\n",
    "@postcondition(lambda return_value, a, b: isinstance(return_value, int))\n",
    "@postcondition(lambda return_value, a, b: return_value == a + b)\n",
    "@postcondition(lambda return_value, a, b: return_value == b + a)\n",
    "def sum2(a, b):  # type: ignore\n",
    "    return a + b\n",
    "```\n",
    "Such type specifications and invariants can be helpful as _oracles_ (to detect deviations from a given set of runs). The chapter gives details on how to customize the properties checked for.\n",
    "\n",
    "![](PICS/DynamicInvariants-synopsis-1.svg)\n",
    "\n"
   ]
  },
  {
   "cell_type": "markdown",
   "metadata": {
    "button": false,
    "new_sheet": true,
    "run_control": {
     "read_only": false
    },
    "slideshow": {
     "slide_type": "slide"
    }
   },
   "source": [
    "## Specifications and Assertions\n",
    "\n",
    "When implementing a function or program, one usually works against a _specification_ – a set of documented requirements to be satisfied by the code.  Such specifications can come in natural language.  A formal specification, however, allows the computer to check whether the specification is satisfied.\n",
    "\n",
    "In the [chapter on assertions](Assertions.ipynb), we have seen how _preconditions_ and _postconditions_ can describe what a function does.  Consider the following (simple) square root function:"
   ]
  },
  {
   "cell_type": "code",
   "execution_count": 5,
   "metadata": {
    "execution": {
     "iopub.execute_input": "2025-01-07T11:06:23.199845Z",
     "iopub.status.busy": "2025-01-07T11:06:23.199750Z",
     "iopub.status.idle": "2025-01-07T11:06:23.201857Z",
     "shell.execute_reply": "2025-01-07T11:06:23.201489Z"
    },
    "slideshow": {
     "slide_type": "subslide"
    }
   },
   "outputs": [],
   "source": [
    "def square_root(x):  # type: ignore\n",
    "    assert x >= 0  # Precondition\n",
    "\n",
    "    ...\n",
    "\n",
    "    assert result * result == x  # Postcondition\n",
    "    return result"
   ]
  },
  {
   "cell_type": "markdown",
   "metadata": {
    "slideshow": {
     "slide_type": "subslide"
    }
   },
   "source": [
    "The assertion `assert p` checks the condition `p`; if it does not hold, execution is aborted.  Here, the actual body is not yet written; we use the assertions as a specification of what `square_root()` _expects_, and what it _delivers_.\n",
    "\n",
    "The topmost assertion is the _precondition_, stating the requirements on the function arguments.  The assertion at the end is the _postcondition_, stating the properties of the function result (including its relationship with the original arguments).  Using these pre- and postconditions as a specification, we can now go and implement a square root function that satisfies them.  Once implemented, we can have the assertions check at runtime whether `square_root()` works as expected."
   ]
  },
  {
   "cell_type": "markdown",
   "metadata": {
    "slideshow": {
     "slide_type": "subslide"
    }
   },
   "source": [
    "However, not every piece of code is developed with explicit specifications in the first place; let alone does most code comes with formal pre- and post-conditions.  (Just take a look at the chapters in this book.)  This is a pity: As Ken Thompson famously said, \"Without specifications, there are no bugs – only surprises\".  It is also a problem for debugging, since, of course, debugging needs some specification such that we know what is wrong, and how to fix it.  This raises the interesting question: Can we somehow _retrofit_ existing code with \"specifications\" that properly describe their behavior, allowing developers to simply _check_ them rather than having to write them from scratch?  This is what we do in this chapter."
   ]
  },
  {
   "cell_type": "markdown",
   "metadata": {
    "slideshow": {
     "slide_type": "slide"
    }
   },
   "source": [
    "## Beyond Generic Failures\n",
    "\n",
    "Before we go into _mining_ specifications, let us first discuss why it could be useful to _have_ them.  As a motivating example, consider the full implementation of `square_root()` from the [chapter on assertions](Assertions.ipynb):"
   ]
  },
  {
   "cell_type": "code",
   "execution_count": 6,
   "metadata": {
    "execution": {
     "iopub.execute_input": "2025-01-07T11:06:23.204122Z",
     "iopub.status.busy": "2025-01-07T11:06:23.203970Z",
     "iopub.status.idle": "2025-01-07T11:06:23.206052Z",
     "shell.execute_reply": "2025-01-07T11:06:23.205747Z"
    },
    "slideshow": {
     "slide_type": "skip"
    }
   },
   "outputs": [],
   "source": [
    "import bookutils.setup"
   ]
  },
  {
   "cell_type": "code",
   "execution_count": 7,
   "metadata": {
    "button": false,
    "execution": {
     "iopub.execute_input": "2025-01-07T11:06:23.208047Z",
     "iopub.status.busy": "2025-01-07T11:06:23.207845Z",
     "iopub.status.idle": "2025-01-07T11:06:23.210230Z",
     "shell.execute_reply": "2025-01-07T11:06:23.209897Z"
    },
    "new_sheet": false,
    "run_control": {
     "read_only": false
    },
    "slideshow": {
     "slide_type": "fragment"
    }
   },
   "outputs": [],
   "source": [
    "def square_root(x):  # type: ignore\n",
    "    \"\"\"Computes the square root of x, using the Newton-Raphson method\"\"\"\n",
    "    approx = None\n",
    "    guess = x / 2\n",
    "    while approx != guess:\n",
    "        approx = guess\n",
    "        guess = (approx + x / approx) / 2\n",
    "\n",
    "    return approx"
   ]
  },
  {
   "cell_type": "markdown",
   "metadata": {
    "slideshow": {
     "slide_type": "subslide"
    }
   },
   "source": [
    "`square_root()` does not come with any functionality that would check types or values.  Hence, it is easy for callers to make mistakes when calling `square_root()`:"
   ]
  },
  {
   "cell_type": "code",
   "execution_count": 8,
   "metadata": {
    "execution": {
     "iopub.execute_input": "2025-01-07T11:06:23.211809Z",
     "iopub.status.busy": "2025-01-07T11:06:23.211666Z",
     "iopub.status.idle": "2025-01-07T11:06:23.213874Z",
     "shell.execute_reply": "2025-01-07T11:06:23.213580Z"
    },
    "slideshow": {
     "slide_type": "skip"
    }
   },
   "outputs": [],
   "source": [
    "from ExpectError import ExpectError, ExpectTimeout"
   ]
  },
  {
   "cell_type": "code",
   "execution_count": 9,
   "metadata": {
    "execution": {
     "iopub.execute_input": "2025-01-07T11:06:23.215479Z",
     "iopub.status.busy": "2025-01-07T11:06:23.215354Z",
     "iopub.status.idle": "2025-01-07T11:06:23.217811Z",
     "shell.execute_reply": "2025-01-07T11:06:23.217302Z"
    },
    "slideshow": {
     "slide_type": "fragment"
    }
   },
   "outputs": [
    {
     "name": "stderr",
     "output_type": "stream",
     "text": [
      "Traceback (most recent call last):\n",
      "  File \"/var/folders/n2/xd9445p97rb3xh7m1dfx8_4h0006ts/T/ipykernel_21001/1219646233.py\", line 2, in <module>\n",
      "    square_root(\"foo\")\n",
      "  File \"/var/folders/n2/xd9445p97rb3xh7m1dfx8_4h0006ts/T/ipykernel_21001/81976482.py\", line 4, in square_root\n",
      "    guess = x / 2\n",
      "            ~~^~~\n",
      "TypeError: unsupported operand type(s) for /: 'str' and 'int' (expected)\n"
     ]
    }
   ],
   "source": [
    "with ExpectError():\n",
    "    square_root(\"foo\")"
   ]
  },
  {
   "cell_type": "code",
   "execution_count": 10,
   "metadata": {
    "execution": {
     "iopub.execute_input": "2025-01-07T11:06:23.219890Z",
     "iopub.status.busy": "2025-01-07T11:06:23.219710Z",
     "iopub.status.idle": "2025-01-07T11:06:23.221964Z",
     "shell.execute_reply": "2025-01-07T11:06:23.221655Z"
    },
    "slideshow": {
     "slide_type": "subslide"
    }
   },
   "outputs": [
    {
     "name": "stderr",
     "output_type": "stream",
     "text": [
      "Traceback (most recent call last):\n",
      "  File \"/var/folders/n2/xd9445p97rb3xh7m1dfx8_4h0006ts/T/ipykernel_21001/3113108935.py\", line 2, in <module>\n",
      "    x = square_root(0.0)\n",
      "        ^^^^^^^^^^^^^^^^\n",
      "  File \"/var/folders/n2/xd9445p97rb3xh7m1dfx8_4h0006ts/T/ipykernel_21001/81976482.py\", line 7, in square_root\n",
      "    guess = (approx + x / approx) / 2\n",
      "                      ~~^~~~~~~~\n",
      "ZeroDivisionError: float division by zero (expected)\n"
     ]
    }
   ],
   "source": [
    "with ExpectError():\n",
    "    x = square_root(0.0)"
   ]
  },
  {
   "cell_type": "markdown",
   "metadata": {
    "slideshow": {
     "slide_type": "fragment"
    }
   },
   "source": [
    "At least, the Python system catches these errors at runtime.  The following call, however, simply lets the function enter an infinite loop:"
   ]
  },
  {
   "cell_type": "code",
   "execution_count": 11,
   "metadata": {
    "execution": {
     "iopub.execute_input": "2025-01-07T11:06:23.223494Z",
     "iopub.status.busy": "2025-01-07T11:06:23.223371Z",
     "iopub.status.idle": "2025-01-07T11:06:24.230041Z",
     "shell.execute_reply": "2025-01-07T11:06:24.229749Z"
    },
    "slideshow": {
     "slide_type": "subslide"
    }
   },
   "outputs": [
    {
     "name": "stderr",
     "output_type": "stream",
     "text": [
      "Traceback (most recent call last):\n",
      "  File \"/var/folders/n2/xd9445p97rb3xh7m1dfx8_4h0006ts/T/ipykernel_21001/3421421264.py\", line 2, in <module>\n",
      "    x = square_root(-1.0)\n",
      "        ^^^^^^^^^^^^^^^^^\n",
      "  File \"/var/folders/n2/xd9445p97rb3xh7m1dfx8_4h0006ts/T/ipykernel_21001/81976482.py\", line 5, in square_root\n",
      "    while approx != guess:\n",
      "          ^^^^^^^^^^^^^^^\n",
      "  File \"Timeout.ipynb\", line 43, in timeout_handler\n",
      "    raise TimeoutError()\n",
      "TimeoutError (expected)\n"
     ]
    }
   ],
   "source": [
    "with ExpectTimeout(1):\n",
    "    x = square_root(-1.0)"
   ]
  },
  {
   "cell_type": "markdown",
   "metadata": {
    "slideshow": {
     "slide_type": "subslide"
    }
   },
   "source": [
    "Our goal is to avoid such errors by _annotating_ functions with information that prevents errors like the above ones.  The idea is to provide a _specification_ of expected properties – a specification that can then be checked at runtime or statically."
   ]
  },
  {
   "cell_type": "markdown",
   "metadata": {
    "slideshow": {
     "slide_type": "fragment"
    }
   },
   "source": [
    "\\todo{Introduce the concept of *contract*.}"
   ]
  },
  {
   "cell_type": "markdown",
   "metadata": {
    "slideshow": {
     "slide_type": "slide"
    }
   },
   "source": [
    "## Mining Data Types\n",
    "\n",
    "For our Python code, one of the most important \"specifications\" we need is *types*.  Python being a \"dynamically\" typed language means that all data types are determined at run time; the code itself does not explicitly state whether a variable is an integer, a string, an array, a dictionary – or whatever."
   ]
  },
  {
   "attachments": {},
   "cell_type": "markdown",
   "metadata": {
    "slideshow": {
     "slide_type": "subslide"
    }
   },
   "source": [
    "As _writer_ of Python code, omitting explicit type declarations may save time (and allows for some fun hacks).  It is not sure whether a lack of types helps in _reading_ and _understanding_ code for humans.  For a _computer_ trying to analyze code, the lack of explicit types is detrimental.  If, say, a constraint solver, sees `if x:` and cannot know whether `x` is supposed to be a number or a string, this introduces an _ambiguity_.  Such ambiguities may multiply over the entire analysis in a combinatorial explosion – or in the analysis yielding an overly inaccurate result."
   ]
  },
  {
   "cell_type": "markdown",
   "metadata": {
    "slideshow": {
     "slide_type": "fragment"
    }
   },
   "source": [
    "Python 3.6 and later allow data types as _annotations_ to function arguments (actually, to all variables) and return values.  We can, for instance, state that `square_root()` is a function that accepts a floating-point value and returns one:"
   ]
  },
  {
   "cell_type": "code",
   "execution_count": 12,
   "metadata": {
    "button": false,
    "execution": {
     "iopub.execute_input": "2025-01-07T11:06:24.231854Z",
     "iopub.status.busy": "2025-01-07T11:06:24.231724Z",
     "iopub.status.idle": "2025-01-07T11:06:24.233521Z",
     "shell.execute_reply": "2025-01-07T11:06:24.233276Z"
    },
    "new_sheet": false,
    "run_control": {
     "read_only": false
    },
    "slideshow": {
     "slide_type": "fragment"
    }
   },
   "outputs": [],
   "source": [
    "def square_root_with_type_annotations(x: float) -> float:\n",
    "    \"\"\"Computes the square root of x, using the Newton-Raphson method\"\"\"\n",
    "    return square_root(x)"
   ]
  },
  {
   "attachments": {},
   "cell_type": "markdown",
   "metadata": {
    "slideshow": {
     "slide_type": "fragment"
    }
   },
   "source": [
    "By default, such annotations are ignored by the Python interpreter.  Therefore, one can still call `square_root_typed()` with a string as an argument and get the exact same result as above.  However, one can make use of special _type checking_ modules that would check types – _dynamically_ at runtime or _statically_ by analyzing the code without having to execute it."
   ]
  },
  {
   "cell_type": "markdown",
   "metadata": {
    "slideshow": {
     "slide_type": "subslide"
    }
   },
   "source": [
    "### Excursion: Runtime Type Checking"
   ]
  },
  {
   "cell_type": "markdown",
   "metadata": {
    "slideshow": {
     "slide_type": "fragment"
    }
   },
   "source": [
    "_Please note: `enforce` no longer runs on Python 3.7 and later, so this section is commented out_\n",
    "\n",
    "The Python `enforce` package provides a function decorator that automatically inserts type-checking code that is executed at runtime.  Here is how to use it:"
   ]
  },
  {
   "cell_type": "code",
   "execution_count": 13,
   "metadata": {
    "execution": {
     "iopub.execute_input": "2025-01-07T11:06:24.235093Z",
     "iopub.status.busy": "2025-01-07T11:06:24.234988Z",
     "iopub.status.idle": "2025-01-07T11:06:24.236577Z",
     "shell.execute_reply": "2025-01-07T11:06:24.236290Z"
    },
    "slideshow": {
     "slide_type": "fragment"
    }
   },
   "outputs": [],
   "source": [
    "# import enforce"
   ]
  },
  {
   "cell_type": "code",
   "execution_count": 14,
   "metadata": {
    "execution": {
     "iopub.execute_input": "2025-01-07T11:06:24.238349Z",
     "iopub.status.busy": "2025-01-07T11:06:24.238220Z",
     "iopub.status.idle": "2025-01-07T11:06:24.239970Z",
     "shell.execute_reply": "2025-01-07T11:06:24.239694Z"
    },
    "slideshow": {
     "slide_type": "fragment"
    }
   },
   "outputs": [],
   "source": [
    "# @enforce.runtime_validation\n",
    "# def square_root_with_checked_type_annotations(x: float) -> float:\n",
    "#     \"\"\"Computes the square root of x, using the Newton-Raphson method\"\"\"\n",
    "#     return square_root(x)"
   ]
  },
  {
   "cell_type": "markdown",
   "metadata": {
    "slideshow": {
     "slide_type": "fragment"
    }
   },
   "source": [
    "Now, invoking `square_root_with_checked_type_annotations()` raises an exception when invoked with a type dfferent from the one declared:"
   ]
  },
  {
   "cell_type": "code",
   "execution_count": 15,
   "metadata": {
    "execution": {
     "iopub.execute_input": "2025-01-07T11:06:24.241588Z",
     "iopub.status.busy": "2025-01-07T11:06:24.241442Z",
     "iopub.status.idle": "2025-01-07T11:06:24.243194Z",
     "shell.execute_reply": "2025-01-07T11:06:24.242924Z"
    },
    "slideshow": {
     "slide_type": "subslide"
    }
   },
   "outputs": [],
   "source": [
    "# with ExpectError():\n",
    "#     square_root_with_checked_type_annotations(True)"
   ]
  },
  {
   "cell_type": "markdown",
   "metadata": {
    "slideshow": {
     "slide_type": "fragment"
    }
   },
   "source": [
    "Note that this error is not caught by the \"untyped\" variant, where passing a boolean value happily returns $\\sqrt{1}$ as result. "
   ]
  },
  {
   "cell_type": "code",
   "execution_count": 16,
   "metadata": {
    "execution": {
     "iopub.execute_input": "2025-01-07T11:06:24.244638Z",
     "iopub.status.busy": "2025-01-07T11:06:24.244533Z",
     "iopub.status.idle": "2025-01-07T11:06:24.246278Z",
     "shell.execute_reply": "2025-01-07T11:06:24.245897Z"
    },
    "slideshow": {
     "slide_type": "fragment"
    }
   },
   "outputs": [],
   "source": [
    "# square_root(True)"
   ]
  },
  {
   "cell_type": "markdown",
   "metadata": {
    "slideshow": {
     "slide_type": "fragment"
    }
   },
   "source": [
    "In Python (and other languages), the boolean values `True` and `False` can be implicitly converted to the integers 1 and 0; however, it is hard to think of a call to `sqrt()` where this would not be an error."
   ]
  },
  {
   "cell_type": "code",
   "execution_count": 17,
   "metadata": {
    "execution": {
     "iopub.execute_input": "2025-01-07T11:06:24.248107Z",
     "iopub.status.busy": "2025-01-07T11:06:24.247963Z",
     "iopub.status.idle": "2025-01-07T11:06:24.249757Z",
     "shell.execute_reply": "2025-01-07T11:06:24.249481Z"
    },
    "slideshow": {
     "slide_type": "skip"
    }
   },
   "outputs": [],
   "source": [
    "from bookutils import quiz"
   ]
  },
  {
   "cell_type": "code",
   "execution_count": 18,
   "metadata": {
    "execution": {
     "iopub.execute_input": "2025-01-07T11:06:24.251267Z",
     "iopub.status.busy": "2025-01-07T11:06:24.251132Z",
     "iopub.status.idle": "2025-01-07T11:06:24.255902Z",
     "shell.execute_reply": "2025-01-07T11:06:24.255627Z"
    },
    "slideshow": {
     "slide_type": "subslide"
    }
   },
   "outputs": [
    {
     "data": {
      "text/html": [
       "\n",
       "    \n",
       "    <script>\n",
       "    var bad_answers = new Map();\n",
       "\n",
       "    function answer(quiz_id) {\n",
       "        ans = 0;\n",
       "        for (i = 1;; i++) {\n",
       "            checkbox = document.getElementById(quiz_id + \"-\" + i.toString());\n",
       "            if (!checkbox)\n",
       "                break;\n",
       "            if (checkbox.checked)\n",
       "                ans |= (1 << i);\n",
       "        }\n",
       "        return ans;\n",
       "    }\n",
       "    function check_selection(quiz_id, correct_answer, multiple_choice, hint) {\n",
       "        given_answer = answer(quiz_id);\n",
       "        if (given_answer == correct_answer)\n",
       "        {\n",
       "            document.getElementById(quiz_id + \"-submit\").value = \"Correct!\";\n",
       "            document.getElementById(quiz_id + \"-hint\").innerHTML = \"\";\n",
       "\n",
       "            for (i = 1;; i++) {\n",
       "                checkbox = document.getElementById(quiz_id + \"-\" + i.toString());\n",
       "                label = document.getElementById(quiz_id + \"-\" + i.toString() + \"-label\")\n",
       "                if (!checkbox)\n",
       "                    break;\n",
       "\n",
       "                if (checkbox.checked) {\n",
       "                    label.style.fontWeight = \"bold\";\n",
       "                }\n",
       "                else {\n",
       "                    label.style.textDecoration = \"line-through\";\n",
       "                }\n",
       "            }\n",
       "        }\n",
       "        else \n",
       "        {\n",
       "            document.getElementById(quiz_id + \"-submit\").value = \"Try again\";\n",
       "\n",
       "            if (!bad_answers.has(quiz_id)) {\n",
       "                bad_answers.set(quiz_id, 1);\n",
       "            }\n",
       "            else {\n",
       "                bad_answers.set(quiz_id, bad_answers.get(quiz_id) + 1);\n",
       "            }\n",
       "\n",
       "            if (bad_answers.get(quiz_id) >= 2 && hint.length > 0) {\n",
       "                document.getElementById(quiz_id + \"-hint\").innerHTML = \n",
       "                    \"&nbsp;&nbsp;(Hint: <code>\" + hint + \"</code>)\";\n",
       "            }\n",
       "\n",
       "            if (!multiple_choice) {\n",
       "                for (i = 1;; i++) {\n",
       "                    checkbox = document.getElementById(quiz_id + \"-\" + i.toString());\n",
       "                    label = document.getElementById(quiz_id + \"-\" + i.toString() + \"-label\")\n",
       "\n",
       "                    if (!checkbox)\n",
       "                        break;\n",
       "                    if (checkbox.checked) {\n",
       "                        label.style.textDecoration = \"line-through\";\n",
       "                    }\n",
       "                }\n",
       "            }\n",
       "        }\n",
       "    }\n",
       "    function clear_selection(quiz_id) {\n",
       "        document.getElementById(quiz_id + \"-submit\").value = \"Submit\";\n",
       "        document.getElementById(quiz_id + \"-hint\").innerHTML = \"\";\n",
       "    }\n",
       "    </script>\n",
       "    \n",
       "    <div class=\"quiz\">\n",
       "    <h3 class=\"quiz_title\">Quiz</h3>\n",
       "    <p>\n",
       "    <div class=\"quiz_question\">What happens if we call <code>square_root_with_checked_type_annotations(1)</code>?</div>\n",
       "    </p>\n",
       "    <p>\n",
       "    <div class=\"quiz_options\" title=\"Pick a choice.\">\n",
       "    \n",
       "        <input type=\"radio\" name=\"6ef024a4-cce7-11ef-8c0e-6298cf1a578f\" id=\"6ef024a4-cce7-11ef-8c0e-6298cf1a578f-1\" onclick=\"clear_selection('6ef024a4-cce7-11ef-8c0e-6298cf1a578f')\">\n",
       "        <label id=\"6ef024a4-cce7-11ef-8c0e-6298cf1a578f-1-label\" for=\"6ef024a4-cce7-11ef-8c0e-6298cf1a578f-1\"><code>1</code> is automatically converted to float. It will pass.</label><br>\n",
       "    \n",
       "        <input type=\"radio\" name=\"6ef024a4-cce7-11ef-8c0e-6298cf1a578f\" id=\"6ef024a4-cce7-11ef-8c0e-6298cf1a578f-2\" onclick=\"clear_selection('6ef024a4-cce7-11ef-8c0e-6298cf1a578f')\">\n",
       "        <label id=\"6ef024a4-cce7-11ef-8c0e-6298cf1a578f-2-label\" for=\"6ef024a4-cce7-11ef-8c0e-6298cf1a578f-2\"><code>1</code> is a subtype of float. It will pass.</label><br>\n",
       "    \n",
       "        <input type=\"radio\" name=\"6ef024a4-cce7-11ef-8c0e-6298cf1a578f\" id=\"6ef024a4-cce7-11ef-8c0e-6298cf1a578f-3\" onclick=\"clear_selection('6ef024a4-cce7-11ef-8c0e-6298cf1a578f')\">\n",
       "        <label id=\"6ef024a4-cce7-11ef-8c0e-6298cf1a578f-3-label\" for=\"6ef024a4-cce7-11ef-8c0e-6298cf1a578f-3\"><code>1</code> is an integer, and no float. The type check will fail.</label><br>\n",
       "    \n",
       "        <input type=\"radio\" name=\"6ef024a4-cce7-11ef-8c0e-6298cf1a578f\" id=\"6ef024a4-cce7-11ef-8c0e-6298cf1a578f-4\" onclick=\"clear_selection('6ef024a4-cce7-11ef-8c0e-6298cf1a578f')\">\n",
       "        <label id=\"6ef024a4-cce7-11ef-8c0e-6298cf1a578f-4-label\" for=\"6ef024a4-cce7-11ef-8c0e-6298cf1a578f-4\">The function will fail for some other reason.</label><br>\n",
       "    \n",
       "    </div>\n",
       "    </p>\n",
       "    <input id=\"6ef024a4-cce7-11ef-8c0e-6298cf1a578f-submit\" type=\"submit\" value=\"Submit\" onclick=\"check_selection('6ef024a4-cce7-11ef-8c0e-6298cf1a578f', 8, 0, '37035 // 12345')\">\n",
       "    <span class=\"quiz_hint\" id=\"6ef024a4-cce7-11ef-8c0e-6298cf1a578f-hint\"></span>\n",
       "    </div>\n",
       "    "
      ],
      "text/plain": [
       "<IPython.core.display.HTML object>"
      ]
     },
     "execution_count": 18,
     "metadata": {},
     "output_type": "execute_result"
    }
   ],
   "source": [
    "quiz(\"What happens if we call \"\n",
    "     \"`square_root_with_checked_type_annotations(1)`?\",\n",
    "    [\n",
    "        \"`1` is automatically converted to float. It will pass.\",\n",
    "        \"`1` is a subtype of float. It will pass.\",\n",
    "        \"`1` is an integer, and no float. The type check will fail.\",\n",
    "        \"The function will fail for some other reason.\"\n",
    "    ], '37035 // 12345')"
   ]
  },
  {
   "cell_type": "markdown",
   "metadata": {
    "slideshow": {
     "slide_type": "fragment"
    }
   },
   "source": [
    "\"Prediction is very difficult, especially when the future is concerned\" (Niels Bohr). We can find out by a simple experiment that `float` actually means `float` – and not `int`:"
   ]
  },
  {
   "cell_type": "code",
   "execution_count": 19,
   "metadata": {
    "execution": {
     "iopub.execute_input": "2025-01-07T11:06:24.257335Z",
     "iopub.status.busy": "2025-01-07T11:06:24.257240Z",
     "iopub.status.idle": "2025-01-07T11:06:24.259332Z",
     "shell.execute_reply": "2025-01-07T11:06:24.258983Z"
    },
    "slideshow": {
     "slide_type": "fragment"
    }
   },
   "outputs": [],
   "source": [
    "# with ExpectError(enforce.exceptions.RuntimeTypeError):\n",
    "#     square_root_with_checked_type_annotations(1)"
   ]
  },
  {
   "cell_type": "markdown",
   "metadata": {
    "slideshow": {
     "slide_type": "fragment"
    }
   },
   "source": [
    "To allow `int` as a type, we need to specify a _union_ of types."
   ]
  },
  {
   "cell_type": "code",
   "execution_count": 20,
   "metadata": {
    "execution": {
     "iopub.execute_input": "2025-01-07T11:06:24.261189Z",
     "iopub.status.busy": "2025-01-07T11:06:24.261072Z",
     "iopub.status.idle": "2025-01-07T11:06:24.262793Z",
     "shell.execute_reply": "2025-01-07T11:06:24.262379Z"
    },
    "slideshow": {
     "slide_type": "subslide"
    }
   },
   "outputs": [],
   "source": [
    "# @enforce.runtime_validation\n",
    "# def square_root_with_union_type(x: Union[int, float]) -> float:\n",
    "#     \"\"\"Computes the square root of x, using the Newton-Raphson method\"\"\"\n",
    "#     return square_root(x)"
   ]
  },
  {
   "cell_type": "code",
   "execution_count": 21,
   "metadata": {
    "execution": {
     "iopub.execute_input": "2025-01-07T11:06:24.264472Z",
     "iopub.status.busy": "2025-01-07T11:06:24.264319Z",
     "iopub.status.idle": "2025-01-07T11:06:24.266209Z",
     "shell.execute_reply": "2025-01-07T11:06:24.265857Z"
    },
    "slideshow": {
     "slide_type": "fragment"
    }
   },
   "outputs": [],
   "source": [
    "# square_root_with_union_type(2)"
   ]
  },
  {
   "cell_type": "code",
   "execution_count": 22,
   "metadata": {
    "execution": {
     "iopub.execute_input": "2025-01-07T11:06:24.267717Z",
     "iopub.status.busy": "2025-01-07T11:06:24.267597Z",
     "iopub.status.idle": "2025-01-07T11:06:24.269265Z",
     "shell.execute_reply": "2025-01-07T11:06:24.268925Z"
    },
    "slideshow": {
     "slide_type": "fragment"
    }
   },
   "outputs": [],
   "source": [
    "# square_root_with_union_type(2.0)"
   ]
  },
  {
   "cell_type": "code",
   "execution_count": 23,
   "metadata": {
    "execution": {
     "iopub.execute_input": "2025-01-07T11:06:24.270933Z",
     "iopub.status.busy": "2025-01-07T11:06:24.270788Z",
     "iopub.status.idle": "2025-01-07T11:06:24.272668Z",
     "shell.execute_reply": "2025-01-07T11:06:24.272245Z"
    },
    "slideshow": {
     "slide_type": "fragment"
    }
   },
   "outputs": [],
   "source": [
    "# with ExpectError(enforce.exceptions.RuntimeTypeError):\n",
    "#     square_root_with_union_type(\"Two dot zero\")"
   ]
  },
  {
   "cell_type": "markdown",
   "metadata": {
    "slideshow": {
     "slide_type": "subslide"
    }
   },
   "source": [
    "### End of Excursion"
   ]
  },
  {
   "cell_type": "markdown",
   "metadata": {
    "slideshow": {
     "slide_type": "subslide"
    }
   },
   "source": [
    "### Static Type Checking\n",
    "\n",
    "Type annotations can also be checked _statically_ – that is, without even running the code.  Let us create a simple Python file consisting of the above `square_root_typed()` definition and a bad invocation."
   ]
  },
  {
   "cell_type": "code",
   "execution_count": 24,
   "metadata": {
    "execution": {
     "iopub.execute_input": "2025-01-07T11:06:24.274536Z",
     "iopub.status.busy": "2025-01-07T11:06:24.274383Z",
     "iopub.status.idle": "2025-01-07T11:06:24.276375Z",
     "shell.execute_reply": "2025-01-07T11:06:24.276028Z"
    },
    "slideshow": {
     "slide_type": "skip"
    }
   },
   "outputs": [],
   "source": [
    "import inspect\n",
    "import tempfile"
   ]
  },
  {
   "cell_type": "code",
   "execution_count": 25,
   "metadata": {
    "execution": {
     "iopub.execute_input": "2025-01-07T11:06:24.277924Z",
     "iopub.status.busy": "2025-01-07T11:06:24.277786Z",
     "iopub.status.idle": "2025-01-07T11:06:24.280396Z",
     "shell.execute_reply": "2025-01-07T11:06:24.280142Z"
    },
    "slideshow": {
     "slide_type": "fragment"
    }
   },
   "outputs": [
    {
     "data": {
      "text/plain": [
       "'/var/folders/n2/xd9445p97rb3xh7m1dfx8_4h0006ts/T/tmpiu9ac1v9.py'"
      ]
     },
     "execution_count": 25,
     "metadata": {},
     "output_type": "execute_result"
    }
   ],
   "source": [
    "f = tempfile.NamedTemporaryFile(mode='w', suffix='.py')\n",
    "f.name"
   ]
  },
  {
   "cell_type": "code",
   "execution_count": 26,
   "metadata": {
    "execution": {
     "iopub.execute_input": "2025-01-07T11:06:24.281748Z",
     "iopub.status.busy": "2025-01-07T11:06:24.281630Z",
     "iopub.status.idle": "2025-01-07T11:06:24.283891Z",
     "shell.execute_reply": "2025-01-07T11:06:24.283622Z"
    },
    "slideshow": {
     "slide_type": "fragment"
    }
   },
   "outputs": [],
   "source": [
    "f.write(inspect.getsource(square_root))\n",
    "f.write('\\n')\n",
    "f.write(inspect.getsource(square_root_with_type_annotations))\n",
    "f.write('\\n')\n",
    "f.write(\"print(square_root_with_type_annotations('123'))\\n\")\n",
    "f.flush()"
   ]
  },
  {
   "cell_type": "markdown",
   "metadata": {
    "slideshow": {
     "slide_type": "subslide"
    }
   },
   "source": [
    "These are the contents of our newly created Python file:"
   ]
  },
  {
   "cell_type": "code",
   "execution_count": 27,
   "metadata": {
    "execution": {
     "iopub.execute_input": "2025-01-07T11:06:24.285403Z",
     "iopub.status.busy": "2025-01-07T11:06:24.285288Z",
     "iopub.status.idle": "2025-01-07T11:06:24.286972Z",
     "shell.execute_reply": "2025-01-07T11:06:24.286693Z"
    },
    "slideshow": {
     "slide_type": "skip"
    }
   },
   "outputs": [],
   "source": [
    "from bookutils import print_file"
   ]
  },
  {
   "cell_type": "code",
   "execution_count": 28,
   "metadata": {
    "execution": {
     "iopub.execute_input": "2025-01-07T11:06:24.288256Z",
     "iopub.status.busy": "2025-01-07T11:06:24.288161Z",
     "iopub.status.idle": "2025-01-07T11:06:24.355212Z",
     "shell.execute_reply": "2025-01-07T11:06:24.354846Z"
    },
    "slideshow": {
     "slide_type": "subslide"
    }
   },
   "outputs": [
    {
     "name": "stdout",
     "output_type": "stream",
     "text": [
      " 1  \u001b[34mdef\u001b[39;49;00m \u001b[32msquare_root\u001b[39;49;00m(x):  \u001b[37m# type: ignore\u001b[39;49;00m\u001b[37m\u001b[39;49;00m\n",
      " 2  \u001b[37m    \u001b[39;49;00m\u001b[33m\"\"\"Computes the square root of x, using the Newton-Raphson method\"\"\"\u001b[39;49;00m\u001b[37m\u001b[39;49;00m\n",
      " 3      approx = \u001b[34mNone\u001b[39;49;00m\u001b[37m\u001b[39;49;00m\n",
      " 4      guess = x / \u001b[34m2\u001b[39;49;00m\u001b[37m\u001b[39;49;00m\n",
      " 5      \u001b[34mwhile\u001b[39;49;00m approx != guess:\u001b[37m\u001b[39;49;00m\n",
      " 6          approx = guess\u001b[37m\u001b[39;49;00m\n",
      " 7          guess = (approx + x / approx) / \u001b[34m2\u001b[39;49;00m\u001b[37m\u001b[39;49;00m\n",
      " 8  \u001b[37m\u001b[39;49;00m\n",
      " 9      \u001b[34mreturn\u001b[39;49;00m approx\u001b[37m\u001b[39;49;00m\n",
      "10  \u001b[37m\u001b[39;49;00m\n",
      "11  \u001b[34mdef\u001b[39;49;00m \u001b[32msquare_root_with_type_annotations\u001b[39;49;00m(x: \u001b[36mfloat\u001b[39;49;00m) -> \u001b[36mfloat\u001b[39;49;00m:\u001b[37m\u001b[39;49;00m\n",
      "12  \u001b[37m    \u001b[39;49;00m\u001b[33m\"\"\"Computes the square root of x, using the Newton-Raphson method\"\"\"\u001b[39;49;00m\u001b[37m\u001b[39;49;00m\n",
      "13      \u001b[34mreturn\u001b[39;49;00m square_root(x)\u001b[37m\u001b[39;49;00m\n",
      "14  \u001b[37m\u001b[39;49;00m\n",
      "15  \u001b[36mprint\u001b[39;49;00m(square_root_with_type_annotations(\u001b[33m'\u001b[39;49;00m\u001b[33m123\u001b[39;49;00m\u001b[33m'\u001b[39;49;00m))\u001b[37m\u001b[39;49;00m"
     ]
    }
   ],
   "source": [
    "print_file(f.name, start_line_number=1)"
   ]
  },
  {
   "cell_type": "markdown",
   "metadata": {
    "slideshow": {
     "slide_type": "subslide"
    }
   },
   "source": [
    "[Mypy](http://mypy-lang.org) is a type checker for Python programs.  As it checks types statically, types induce no overhead at runtime; plus, a static check can be faster than a lengthy series of tests with runtime type checking enabled.  Let us see what `mypy` produces on the above file:"
   ]
  },
  {
   "cell_type": "code",
   "execution_count": 29,
   "metadata": {
    "execution": {
     "iopub.execute_input": "2025-01-07T11:06:24.357133Z",
     "iopub.status.busy": "2025-01-07T11:06:24.356989Z",
     "iopub.status.idle": "2025-01-07T11:06:24.359045Z",
     "shell.execute_reply": "2025-01-07T11:06:24.358739Z"
    },
    "slideshow": {
     "slide_type": "skip"
    }
   },
   "outputs": [],
   "source": [
    "import subprocess"
   ]
  },
  {
   "cell_type": "code",
   "execution_count": 30,
   "metadata": {
    "execution": {
     "iopub.execute_input": "2025-01-07T11:06:24.360366Z",
     "iopub.status.busy": "2025-01-07T11:06:24.360256Z",
     "iopub.status.idle": "2025-01-07T11:06:25.109887Z",
     "shell.execute_reply": "2025-01-07T11:06:25.109452Z"
    },
    "slideshow": {
     "slide_type": "fragment"
    }
   },
   "outputs": [],
   "source": [
    "result = subprocess.run([\"mypy\", \"--strict\", f.name],\n",
    "                        universal_newlines=True, stdout=subprocess.PIPE)"
   ]
  },
  {
   "cell_type": "code",
   "execution_count": 31,
   "metadata": {
    "execution": {
     "iopub.execute_input": "2025-01-07T11:06:25.111478Z",
     "iopub.status.busy": "2025-01-07T11:06:25.111354Z",
     "iopub.status.idle": "2025-01-07T11:06:25.113908Z",
     "shell.execute_reply": "2025-01-07T11:06:25.113649Z"
    },
    "slideshow": {
     "slide_type": "fragment"
    }
   },
   "outputs": [
    {
     "name": "stdout",
     "output_type": "stream",
     "text": [
      "13: \u001b[1m\u001b[31merror:\u001b[m Returning Any from function declared to return \u001b[m\u001b[1m\"float\"\u001b[m  \u001b[m\u001b[33m[no-any-return]\u001b[m\n",
      "13: \u001b[1m\u001b[31merror:\u001b[m Call to untyped function \u001b[m\u001b[1m\"square_root\"\u001b[m in typed context  \u001b[m\u001b[33m[no-untyped-call]\u001b[m\n",
      "15: \u001b[1m\u001b[31merror:\u001b[m Argument 1 to \u001b[m\u001b[1m\"square_root_with_type_annotations\"\u001b[m has incompatible type \u001b[m\u001b[1m\"str\"\u001b[m; expected \u001b[m\u001b[1m\"float\"\u001b[m  \u001b[m\u001b[33m[arg-type]\u001b[m\n",
      "\u001b[1m\u001b[31mFound 3 errors in 1 file (checked 1 source file)\u001b[m\n",
      "\n"
     ]
    }
   ],
   "source": [
    "print(result.stdout.replace(f.name + ':', ''))\n",
    "del f  # Delete temporary file"
   ]
  },
  {
   "cell_type": "markdown",
   "metadata": {
    "slideshow": {
     "slide_type": "subslide"
    }
   },
   "source": [
    "We see that `mypy` complains about untyped function definitions such as `square_root()`; most important, however, it finds that the  call to `square_root_with_type_annotations()` in the last line has the wrong type."
   ]
  },
  {
   "cell_type": "markdown",
   "metadata": {
    "slideshow": {
     "slide_type": "fragment"
    }
   },
   "source": [
    "With `mypy`, we can achieve the same type safety with Python as in statically typed languages – provided that we as programmers also produce the necessary type annotations.  Is there a simple way to obtain these?"
   ]
  },
  {
   "cell_type": "markdown",
   "metadata": {
    "slideshow": {
     "slide_type": "slide"
    }
   },
   "source": [
    "## Mining Type Specifications\n",
    "\n",
    "Our first task will be to mine type annotations (as part of the code) from _values_ we observe at run time.  These type annotations would be _mined_ from actual function executions, _learning_ from (normal) runs what the expected argument and return types should be.  By observing a series of calls such as these, we could infer that both `x` and the return value are of type `float`:"
   ]
  },
  {
   "cell_type": "code",
   "execution_count": 32,
   "metadata": {
    "execution": {
     "iopub.execute_input": "2025-01-07T11:06:25.115179Z",
     "iopub.status.busy": "2025-01-07T11:06:25.115078Z",
     "iopub.status.idle": "2025-01-07T11:06:25.117220Z",
     "shell.execute_reply": "2025-01-07T11:06:25.116972Z"
    },
    "slideshow": {
     "slide_type": "fragment"
    }
   },
   "outputs": [
    {
     "data": {
      "text/plain": [
       "5.0"
      ]
     },
     "execution_count": 32,
     "metadata": {},
     "output_type": "execute_result"
    }
   ],
   "source": [
    "y = square_root(25.0)\n",
    "y"
   ]
  },
  {
   "cell_type": "code",
   "execution_count": 33,
   "metadata": {
    "execution": {
     "iopub.execute_input": "2025-01-07T11:06:25.118351Z",
     "iopub.status.busy": "2025-01-07T11:06:25.118252Z",
     "iopub.status.idle": "2025-01-07T11:06:25.120410Z",
     "shell.execute_reply": "2025-01-07T11:06:25.120158Z"
    },
    "slideshow": {
     "slide_type": "fragment"
    }
   },
   "outputs": [
    {
     "data": {
      "text/plain": [
       "1.414213562373095"
      ]
     },
     "execution_count": 33,
     "metadata": {},
     "output_type": "execute_result"
    }
   ],
   "source": [
    "y = square_root(2.0)\n",
    "y"
   ]
  },
  {
   "cell_type": "markdown",
   "metadata": {
    "slideshow": {
     "slide_type": "subslide"
    }
   },
   "source": [
    "How can we mine types from executions?  The answer is simple: \n",
    "\n",
    "1. We _observe_ a function during execution\n",
    "2. We track the _types_ of its arguments\n",
    "3. We include these types as _annotations_ into the code.\n",
    "\n",
    "To do so, we can make use of Python's tracing facility we already observed in the [chapter on tracing executions](Tracer.ipynb).  With every call to a function, we retrieve the arguments, their values, and their types."
   ]
  },
  {
   "cell_type": "markdown",
   "metadata": {
    "slideshow": {
     "slide_type": "subslide"
    }
   },
   "source": [
    "### Tracing Calls\n",
    "\n",
    "To observe argument types at runtime, we define a _tracer function_ that tracks the execution of `square_root()`, checking its arguments and return values.  The `CallTracer` class is set to trace functions in a `with` block as follows:\n",
    "\n",
    "```python\n",
    "with CallTracer() as tracer:\n",
    "    function_to_be_tracked(...)\n",
    "info = tracer.collected_information()\n",
    "```\n",
    "\n",
    "To create the tracer, we build on the `Tracer` superclass as in the [chapter on tracing executions](Tracer.ipynb).  "
   ]
  },
  {
   "cell_type": "code",
   "execution_count": 34,
   "metadata": {
    "execution": {
     "iopub.execute_input": "2025-01-07T11:06:25.121782Z",
     "iopub.status.busy": "2025-01-07T11:06:25.121664Z",
     "iopub.status.idle": "2025-01-07T11:06:25.123359Z",
     "shell.execute_reply": "2025-01-07T11:06:25.123122Z"
    },
    "slideshow": {
     "slide_type": "skip"
    }
   },
   "outputs": [],
   "source": [
    "from types import FrameType"
   ]
  },
  {
   "cell_type": "markdown",
   "metadata": {
    "slideshow": {
     "slide_type": "subslide"
    }
   },
   "source": [
    "We start with two helper functions. `get_arguments()` returns a list of call arguments in the given call frame."
   ]
  },
  {
   "cell_type": "code",
   "execution_count": 35,
   "metadata": {
    "execution": {
     "iopub.execute_input": "2025-01-07T11:06:25.124614Z",
     "iopub.status.busy": "2025-01-07T11:06:25.124502Z",
     "iopub.status.idle": "2025-01-07T11:06:25.126226Z",
     "shell.execute_reply": "2025-01-07T11:06:25.125993Z"
    },
    "slideshow": {
     "slide_type": "fragment"
    }
   },
   "outputs": [],
   "source": [
    "Arguments = List[Tuple[str, Any]]"
   ]
  },
  {
   "cell_type": "code",
   "execution_count": 36,
   "metadata": {
    "execution": {
     "iopub.execute_input": "2025-01-07T11:06:25.127437Z",
     "iopub.status.busy": "2025-01-07T11:06:25.127334Z",
     "iopub.status.idle": "2025-01-07T11:06:25.129743Z",
     "shell.execute_reply": "2025-01-07T11:06:25.129486Z"
    },
    "slideshow": {
     "slide_type": "fragment"
    }
   },
   "outputs": [],
   "source": [
    "def get_arguments(frame: FrameType) -> Arguments:\n",
    "    \"\"\"Return call arguments in the given frame\"\"\"\n",
    "    # When called, all arguments are local variables\n",
    "    local_variables = dict(frame.f_locals)  # explicit copy\n",
    "    arguments = [(var, frame.f_locals[var]) \n",
    "                 for var in local_variables]\n",
    "\n",
    "    # FIXME: This may be needed for Python < 3.10\n",
    "    # arguments.reverse()  # Want same order as call\n",
    "\n",
    "    return arguments"
   ]
  },
  {
   "cell_type": "markdown",
   "metadata": {
    "slideshow": {
     "slide_type": "subslide"
    }
   },
   "source": [
    "`simple_call_string()` is a helper for logging that prints out calls in a user-friendly manner."
   ]
  },
  {
   "cell_type": "code",
   "execution_count": 37,
   "metadata": {
    "execution": {
     "iopub.execute_input": "2025-01-07T11:06:25.130917Z",
     "iopub.status.busy": "2025-01-07T11:06:25.130840Z",
     "iopub.status.idle": "2025-01-07T11:06:25.132861Z",
     "shell.execute_reply": "2025-01-07T11:06:25.132636Z"
    },
    "slideshow": {
     "slide_type": "fragment"
    }
   },
   "outputs": [],
   "source": [
    "def simple_call_string(function_name: str, argument_list: Arguments,\n",
    "                       return_value : Any = None) -> str:\n",
    "    \"\"\"Return function_name(arg[0], arg[1], ...) as a string\"\"\"\n",
    "    call = function_name + \"(\" + \\\n",
    "        \", \".join([var + \"=\" + repr(value)\n",
    "                   for (var, value) in argument_list]) + \")\"\n",
    "\n",
    "    if return_value is not None:\n",
    "        call += \" = \" + repr(return_value)\n",
    "\n",
    "    return call"
   ]
  },
  {
   "cell_type": "markdown",
   "metadata": {
    "slideshow": {
     "slide_type": "fragment"
    }
   },
   "source": [
    "Now for `CallTracer`. The constructor simply invokes the `Tracer` constructor:"
   ]
  },
  {
   "cell_type": "code",
   "execution_count": 38,
   "metadata": {
    "execution": {
     "iopub.execute_input": "2025-01-07T11:06:25.133977Z",
     "iopub.status.busy": "2025-01-07T11:06:25.133902Z",
     "iopub.status.idle": "2025-01-07T11:06:25.136031Z",
     "shell.execute_reply": "2025-01-07T11:06:25.135809Z"
    },
    "slideshow": {
     "slide_type": "subslide"
    }
   },
   "outputs": [],
   "source": [
    "class CallTracer(Tracer):\n",
    "    def __init__(self, log: bool = False, **kwargs: Any)-> None:\n",
    "        super().__init__(**kwargs)\n",
    "        self._log = log\n",
    "        self.reset()\n",
    "\n",
    "    def reset(self) -> None:\n",
    "        self._calls: Dict[str, List[Tuple[Arguments, Any]]] = {}\n",
    "        self._stack: List[Tuple[str, Arguments]] = []"
   ]
  },
  {
   "cell_type": "markdown",
   "metadata": {
    "slideshow": {
     "slide_type": "fragment"
    }
   },
   "source": [
    "The `traceit()` method does nothing yet; this is done in specialized subclasses.  The `CallTracer` class implements a `traceit()` function that checks for function calls and returns:"
   ]
  },
  {
   "cell_type": "code",
   "execution_count": 39,
   "metadata": {
    "execution": {
     "iopub.execute_input": "2025-01-07T11:06:25.137426Z",
     "iopub.status.busy": "2025-01-07T11:06:25.137337Z",
     "iopub.status.idle": "2025-01-07T11:06:25.139505Z",
     "shell.execute_reply": "2025-01-07T11:06:25.139246Z"
    },
    "slideshow": {
     "slide_type": "subslide"
    }
   },
   "outputs": [],
   "source": [
    "class CallTracer(CallTracer):\n",
    "    def traceit(self, frame: FrameType, event: str, arg: Any) -> None:\n",
    "        \"\"\"Tracking function: Record all calls and all args\"\"\"\n",
    "        if event == \"call\":\n",
    "            self.trace_call(frame, event, arg)\n",
    "        elif event == \"return\":\n",
    "            self.trace_return(frame, event, arg)"
   ]
  },
  {
   "cell_type": "markdown",
   "metadata": {
    "slideshow": {
     "slide_type": "fragment"
    }
   },
   "source": [
    "`trace_call()` is called when a function is called; it retrieves the function name and current arguments, and saves them on a stack."
   ]
  },
  {
   "cell_type": "code",
   "execution_count": 40,
   "metadata": {
    "execution": {
     "iopub.execute_input": "2025-01-07T11:06:25.140899Z",
     "iopub.status.busy": "2025-01-07T11:06:25.140798Z",
     "iopub.status.idle": "2025-01-07T11:06:25.143081Z",
     "shell.execute_reply": "2025-01-07T11:06:25.142816Z"
    },
    "slideshow": {
     "slide_type": "subslide"
    }
   },
   "outputs": [],
   "source": [
    "class CallTracer(CallTracer):\n",
    "    def trace_call(self, frame: FrameType, event: str, arg: Any) -> None:\n",
    "        \"\"\"Save current function name and args on the stack\"\"\"\n",
    "        code = frame.f_code\n",
    "        function_name = code.co_name\n",
    "        arguments = get_arguments(frame)\n",
    "        self._stack.append((function_name, arguments))\n",
    "\n",
    "        if self._log:\n",
    "            print(simple_call_string(function_name, arguments))"
   ]
  },
  {
   "cell_type": "markdown",
   "metadata": {
    "slideshow": {
     "slide_type": "fragment"
    }
   },
   "source": [
    "When the function returns, `trace_return()` is called.  We now also have the return value.  We log the whole call with arguments and return value (if desired) and save it in our list of calls."
   ]
  },
  {
   "cell_type": "code",
   "execution_count": 41,
   "metadata": {
    "execution": {
     "iopub.execute_input": "2025-01-07T11:06:25.144634Z",
     "iopub.status.busy": "2025-01-07T11:06:25.144533Z",
     "iopub.status.idle": "2025-01-07T11:06:25.147146Z",
     "shell.execute_reply": "2025-01-07T11:06:25.146790Z"
    },
    "slideshow": {
     "slide_type": "subslide"
    }
   },
   "outputs": [],
   "source": [
    "class CallTracer(CallTracer):\n",
    "    def trace_return(self, frame: FrameType, event: str, arg: Any) -> None:\n",
    "        \"\"\"Get return value and store complete call with arguments and return value\"\"\"\n",
    "        code = frame.f_code\n",
    "        function_name = code.co_name\n",
    "        return_value = arg\n",
    "        # TODO: Could call get_arguments() here\n",
    "        # to also retrieve _final_ values of argument variables\n",
    "\n",
    "        called_function_name, called_arguments = self._stack.pop()\n",
    "        assert function_name == called_function_name\n",
    "\n",
    "        if self._log:\n",
    "            print(simple_call_string(function_name, called_arguments), \"returns\", return_value)\n",
    "\n",
    "        self.add_call(function_name, called_arguments, return_value)"
   ]
  },
  {
   "cell_type": "markdown",
   "metadata": {
    "slideshow": {
     "slide_type": "subslide"
    }
   },
   "source": [
    "`add_call()` saves the calls in a list; each function name has its own list."
   ]
  },
  {
   "cell_type": "code",
   "execution_count": 42,
   "metadata": {
    "execution": {
     "iopub.execute_input": "2025-01-07T11:06:25.148818Z",
     "iopub.status.busy": "2025-01-07T11:06:25.148682Z",
     "iopub.status.idle": "2025-01-07T11:06:25.150891Z",
     "shell.execute_reply": "2025-01-07T11:06:25.150645Z"
    },
    "slideshow": {
     "slide_type": "fragment"
    }
   },
   "outputs": [],
   "source": [
    "class CallTracer(CallTracer):\n",
    "    def add_call(self, function_name: str, arguments: Arguments,\n",
    "                 return_value: Any = None) -> None:\n",
    "        \"\"\"Add given call to list of calls\"\"\"\n",
    "        if function_name not in self._calls:\n",
    "            self._calls[function_name] = []\n",
    "\n",
    "        self._calls[function_name].append((arguments, return_value))"
   ]
  },
  {
   "cell_type": "markdown",
   "metadata": {
    "slideshow": {
     "slide_type": "fragment"
    }
   },
   "source": [
    "we can retrieve the list of calls, either for a given function name (`calls()`),\n",
    "or for all functions (`all_calls()`)."
   ]
  },
  {
   "cell_type": "code",
   "execution_count": 43,
   "metadata": {
    "execution": {
     "iopub.execute_input": "2025-01-07T11:06:25.152275Z",
     "iopub.status.busy": "2025-01-07T11:06:25.152164Z",
     "iopub.status.idle": "2025-01-07T11:06:25.154107Z",
     "shell.execute_reply": "2025-01-07T11:06:25.153873Z"
    },
    "slideshow": {
     "slide_type": "subslide"
    }
   },
   "outputs": [],
   "source": [
    "class CallTracer(CallTracer):\n",
    "    def calls(self, function_name: str) -> List[Tuple[Arguments, Any]]:\n",
    "        \"\"\"Return list of calls for `function_name`.\"\"\"\n",
    "        return self._calls[function_name]"
   ]
  },
  {
   "cell_type": "code",
   "execution_count": 44,
   "metadata": {
    "execution": {
     "iopub.execute_input": "2025-01-07T11:06:25.155394Z",
     "iopub.status.busy": "2025-01-07T11:06:25.155297Z",
     "iopub.status.idle": "2025-01-07T11:06:25.157066Z",
     "shell.execute_reply": "2025-01-07T11:06:25.156820Z"
    },
    "slideshow": {
     "slide_type": "fragment"
    }
   },
   "outputs": [],
   "source": [
    "class CallTracer(CallTracer):\n",
    "    def all_calls(self) -> Dict[str, List[Tuple[Arguments, Any]]]:\n",
    "        \"\"\"\n",
    "        Return list of calls for function_name, \n",
    "        or a mapping function_name -> calls for all functions tracked\n",
    "        \"\"\"\n",
    "        return self._calls"
   ]
  },
  {
   "cell_type": "markdown",
   "metadata": {
    "slideshow": {
     "slide_type": "fragment"
    }
   },
   "source": [
    "Let us now put this to use.  We turn on logging to track the individual calls and their return values:"
   ]
  },
  {
   "cell_type": "code",
   "execution_count": 45,
   "metadata": {
    "execution": {
     "iopub.execute_input": "2025-01-07T11:06:25.158359Z",
     "iopub.status.busy": "2025-01-07T11:06:25.158265Z",
     "iopub.status.idle": "2025-01-07T11:06:25.160668Z",
     "shell.execute_reply": "2025-01-07T11:06:25.160368Z"
    },
    "slideshow": {
     "slide_type": "subslide"
    }
   },
   "outputs": [
    {
     "name": "stdout",
     "output_type": "stream",
     "text": [
      "square_root(x=25)\n",
      "square_root(x=25) returns 5.0\n",
      "square_root(x=2.0)\n",
      "square_root(x=2.0) returns 1.414213562373095\n"
     ]
    }
   ],
   "source": [
    "with CallTracer(log=True) as tracer:\n",
    "    y = square_root(25)\n",
    "    y = square_root(2.0)"
   ]
  },
  {
   "cell_type": "markdown",
   "metadata": {
    "slideshow": {
     "slide_type": "fragment"
    }
   },
   "source": [
    "After execution, we can retrieve the individual calls:"
   ]
  },
  {
   "cell_type": "code",
   "execution_count": 46,
   "metadata": {
    "execution": {
     "iopub.execute_input": "2025-01-07T11:06:25.162577Z",
     "iopub.status.busy": "2025-01-07T11:06:25.162414Z",
     "iopub.status.idle": "2025-01-07T11:06:25.164821Z",
     "shell.execute_reply": "2025-01-07T11:06:25.164547Z"
    },
    "slideshow": {
     "slide_type": "fragment"
    }
   },
   "outputs": [
    {
     "data": {
      "text/plain": [
       "[([('x', 25)], 5.0), ([('x', 2.0)], 1.414213562373095)]"
      ]
     },
     "execution_count": 46,
     "metadata": {},
     "output_type": "execute_result"
    }
   ],
   "source": [
    "calls = tracer.calls('square_root')\n",
    "calls"
   ]
  },
  {
   "cell_type": "markdown",
   "metadata": {
    "slideshow": {
     "slide_type": "fragment"
    }
   },
   "source": [
    "Each call is a pair (`argument_list`, `return_value`), where `argument_list` is a list of pairs (`parameter_name`, `value`)."
   ]
  },
  {
   "cell_type": "code",
   "execution_count": 47,
   "metadata": {
    "execution": {
     "iopub.execute_input": "2025-01-07T11:06:25.166198Z",
     "iopub.status.busy": "2025-01-07T11:06:25.166090Z",
     "iopub.status.idle": "2025-01-07T11:06:25.168473Z",
     "shell.execute_reply": "2025-01-07T11:06:25.168161Z"
    },
    "slideshow": {
     "slide_type": "subslide"
    }
   },
   "outputs": [
    {
     "data": {
      "text/plain": [
       "'square_root(x=25) = 5.0'"
      ]
     },
     "execution_count": 47,
     "metadata": {},
     "output_type": "execute_result"
    }
   ],
   "source": [
    "square_root_argument_list, square_root_return_value = calls[0]\n",
    "simple_call_string('square_root', square_root_argument_list, square_root_return_value)"
   ]
  },
  {
   "cell_type": "markdown",
   "metadata": {
    "slideshow": {
     "slide_type": "fragment"
    }
   },
   "source": [
    "If the function does not return a value, `return_value` is `None`."
   ]
  },
  {
   "cell_type": "code",
   "execution_count": 48,
   "metadata": {
    "execution": {
     "iopub.execute_input": "2025-01-07T11:06:25.170099Z",
     "iopub.status.busy": "2025-01-07T11:06:25.169972Z",
     "iopub.status.idle": "2025-01-07T11:06:25.171745Z",
     "shell.execute_reply": "2025-01-07T11:06:25.171504Z"
    },
    "slideshow": {
     "slide_type": "fragment"
    }
   },
   "outputs": [],
   "source": [
    "def hello(name: str) -> None:\n",
    "    print(\"Hello,\", name)"
   ]
  },
  {
   "cell_type": "code",
   "execution_count": 49,
   "metadata": {
    "execution": {
     "iopub.execute_input": "2025-01-07T11:06:25.173065Z",
     "iopub.status.busy": "2025-01-07T11:06:25.172931Z",
     "iopub.status.idle": "2025-01-07T11:06:25.175440Z",
     "shell.execute_reply": "2025-01-07T11:06:25.175055Z"
    },
    "slideshow": {
     "slide_type": "fragment"
    }
   },
   "outputs": [
    {
     "name": "stdout",
     "output_type": "stream",
     "text": [
      "Hello, world\n"
     ]
    }
   ],
   "source": [
    "with CallTracer() as tracer:\n",
    "    hello(\"world\")"
   ]
  },
  {
   "cell_type": "code",
   "execution_count": 50,
   "metadata": {
    "execution": {
     "iopub.execute_input": "2025-01-07T11:06:25.176734Z",
     "iopub.status.busy": "2025-01-07T11:06:25.176627Z",
     "iopub.status.idle": "2025-01-07T11:06:25.178727Z",
     "shell.execute_reply": "2025-01-07T11:06:25.178499Z"
    },
    "slideshow": {
     "slide_type": "fragment"
    }
   },
   "outputs": [
    {
     "data": {
      "text/plain": [
       "[([('name', 'world')], None)]"
      ]
     },
     "execution_count": 50,
     "metadata": {},
     "output_type": "execute_result"
    }
   ],
   "source": [
    "hello_calls = tracer.calls('hello')\n",
    "hello_calls"
   ]
  },
  {
   "cell_type": "code",
   "execution_count": 51,
   "metadata": {
    "execution": {
     "iopub.execute_input": "2025-01-07T11:06:25.179975Z",
     "iopub.status.busy": "2025-01-07T11:06:25.179875Z",
     "iopub.status.idle": "2025-01-07T11:06:25.182038Z",
     "shell.execute_reply": "2025-01-07T11:06:25.181782Z"
    },
    "slideshow": {
     "slide_type": "subslide"
    }
   },
   "outputs": [
    {
     "data": {
      "text/plain": [
       "\"hello(name='world')\""
      ]
     },
     "execution_count": 51,
     "metadata": {},
     "output_type": "execute_result"
    }
   ],
   "source": [
    "hello_argument_list, hello_return_value = hello_calls[0]\n",
    "simple_call_string('hello', hello_argument_list, hello_return_value)"
   ]
  },
  {
   "cell_type": "markdown",
   "metadata": {
    "button": false,
    "new_sheet": false,
    "run_control": {
     "read_only": false
    },
    "slideshow": {
     "slide_type": "subslide"
    }
   },
   "source": [
    "### Getting Types\n",
    "\n",
    "Despite what you may have read or heard, Python actually _is_ a typed language.  It is just that it is _dynamically typed_ – types are used and checked only at runtime (rather than declared in the code, where they can be _statically checked_ at compile time).  We can thus retrieve types of all values within Python:"
   ]
  },
  {
   "cell_type": "code",
   "execution_count": 52,
   "metadata": {
    "execution": {
     "iopub.execute_input": "2025-01-07T11:06:25.183413Z",
     "iopub.status.busy": "2025-01-07T11:06:25.183269Z",
     "iopub.status.idle": "2025-01-07T11:06:25.185215Z",
     "shell.execute_reply": "2025-01-07T11:06:25.185029Z"
    },
    "slideshow": {
     "slide_type": "fragment"
    }
   },
   "outputs": [
    {
     "data": {
      "text/plain": [
       "int"
      ]
     },
     "execution_count": 52,
     "metadata": {},
     "output_type": "execute_result"
    }
   ],
   "source": [
    "type(4)"
   ]
  },
  {
   "cell_type": "code",
   "execution_count": 53,
   "metadata": {
    "execution": {
     "iopub.execute_input": "2025-01-07T11:06:25.186281Z",
     "iopub.status.busy": "2025-01-07T11:06:25.186205Z",
     "iopub.status.idle": "2025-01-07T11:06:25.188160Z",
     "shell.execute_reply": "2025-01-07T11:06:25.187954Z"
    },
    "slideshow": {
     "slide_type": "fragment"
    }
   },
   "outputs": [
    {
     "data": {
      "text/plain": [
       "float"
      ]
     },
     "execution_count": 53,
     "metadata": {},
     "output_type": "execute_result"
    }
   ],
   "source": [
    "type(2.0)"
   ]
  },
  {
   "cell_type": "code",
   "execution_count": 54,
   "metadata": {
    "execution": {
     "iopub.execute_input": "2025-01-07T11:06:25.189395Z",
     "iopub.status.busy": "2025-01-07T11:06:25.189292Z",
     "iopub.status.idle": "2025-01-07T11:06:25.191282Z",
     "shell.execute_reply": "2025-01-07T11:06:25.191056Z"
    },
    "slideshow": {
     "slide_type": "fragment"
    }
   },
   "outputs": [
    {
     "data": {
      "text/plain": [
       "list"
      ]
     },
     "execution_count": 54,
     "metadata": {},
     "output_type": "execute_result"
    }
   ],
   "source": [
    "type([4])"
   ]
  },
  {
   "cell_type": "markdown",
   "metadata": {
    "slideshow": {
     "slide_type": "fragment"
    }
   },
   "source": [
    "We can retrieve the type of the first argument to `square_root()`:"
   ]
  },
  {
   "cell_type": "code",
   "execution_count": 55,
   "metadata": {
    "execution": {
     "iopub.execute_input": "2025-01-07T11:06:25.192574Z",
     "iopub.status.busy": "2025-01-07T11:06:25.192465Z",
     "iopub.status.idle": "2025-01-07T11:06:25.194766Z",
     "shell.execute_reply": "2025-01-07T11:06:25.194495Z"
    },
    "slideshow": {
     "slide_type": "subslide"
    }
   },
   "outputs": [
    {
     "data": {
      "text/plain": [
       "('x', int)"
      ]
     },
     "execution_count": 55,
     "metadata": {},
     "output_type": "execute_result"
    }
   ],
   "source": [
    "parameter, value = square_root_argument_list[0]\n",
    "parameter, type(value)"
   ]
  },
  {
   "cell_type": "markdown",
   "metadata": {
    "slideshow": {
     "slide_type": "fragment"
    }
   },
   "source": [
    "as well as the type of the return value:"
   ]
  },
  {
   "cell_type": "code",
   "execution_count": 56,
   "metadata": {
    "execution": {
     "iopub.execute_input": "2025-01-07T11:06:25.196223Z",
     "iopub.status.busy": "2025-01-07T11:06:25.196091Z",
     "iopub.status.idle": "2025-01-07T11:06:25.198516Z",
     "shell.execute_reply": "2025-01-07T11:06:25.198289Z"
    },
    "slideshow": {
     "slide_type": "fragment"
    }
   },
   "outputs": [
    {
     "data": {
      "text/plain": [
       "float"
      ]
     },
     "execution_count": 56,
     "metadata": {},
     "output_type": "execute_result"
    }
   ],
   "source": [
    "type(square_root_return_value)"
   ]
  },
  {
   "cell_type": "markdown",
   "metadata": {
    "slideshow": {
     "slide_type": "fragment"
    }
   },
   "source": [
    "Hence, we see that (so far), `square_root()` is a function taking (among others) integers and returning floats.  We could declare `square_root()` as:"
   ]
  },
  {
   "cell_type": "code",
   "execution_count": 57,
   "metadata": {
    "execution": {
     "iopub.execute_input": "2025-01-07T11:06:25.199770Z",
     "iopub.status.busy": "2025-01-07T11:06:25.199657Z",
     "iopub.status.idle": "2025-01-07T11:06:25.201324Z",
     "shell.execute_reply": "2025-01-07T11:06:25.201124Z"
    },
    "slideshow": {
     "slide_type": "fragment"
    }
   },
   "outputs": [],
   "source": [
    "def square_root_annotated(x: int) -> float:\n",
    "    return square_root(x)"
   ]
  },
  {
   "cell_type": "markdown",
   "metadata": {
    "slideshow": {
     "slide_type": "fragment"
    }
   },
   "source": [
    "This is a representation we could place in a static type checker, allowing to check whether calls to `square_root()` actually pass a number.  A dynamic type checker could run such checks at runtime."
   ]
  },
  {
   "cell_type": "markdown",
   "metadata": {
    "slideshow": {
     "slide_type": "subslide"
    }
   },
   "source": [
    "By default, Python does not do anything with such annotations.  However, tools can access annotations from functions and other objects:"
   ]
  },
  {
   "cell_type": "code",
   "execution_count": 58,
   "metadata": {
    "execution": {
     "iopub.execute_input": "2025-01-07T11:06:25.202639Z",
     "iopub.status.busy": "2025-01-07T11:06:25.202542Z",
     "iopub.status.idle": "2025-01-07T11:06:25.204745Z",
     "shell.execute_reply": "2025-01-07T11:06:25.204447Z"
    },
    "slideshow": {
     "slide_type": "fragment"
    }
   },
   "outputs": [
    {
     "data": {
      "text/plain": [
       "{'x': int, 'return': float}"
      ]
     },
     "execution_count": 58,
     "metadata": {},
     "output_type": "execute_result"
    }
   ],
   "source": [
    "square_root_annotated.__annotations__"
   ]
  },
  {
   "cell_type": "markdown",
   "metadata": {
    "slideshow": {
     "slide_type": "fragment"
    }
   },
   "source": [
    "This is how run-time checkers access the annotations to check against."
   ]
  },
  {
   "cell_type": "markdown",
   "metadata": {
    "slideshow": {
     "slide_type": "subslide"
    }
   },
   "source": [
    "### Annotating Functions with Types\n",
    "\n",
    "Our plan is to annotate functions automatically, based on the types we have seen. Our aim is to build a class `TypeAnnotator` that can be used as follows. First, it would track some execution:\n",
    "\n",
    "```python\n",
    "with TypeAnnotator() as annotator:\n",
    "    some_function_call()\n",
    "```\n",
    "\n",
    "After tracking, `TypeAnnotator` would provide appropriate methods to access (type-)annotated versions of the function seen:\n",
    "\n",
    "```python\n",
    "print(annotator.typed_functions())\n",
    "```\n",
    "\n",
    "Let us put the pieces together to build `TypeAnnotator`."
   ]
  },
  {
   "cell_type": "markdown",
   "metadata": {
    "slideshow": {
     "slide_type": "subslide"
    }
   },
   "source": [
    "#### Excursion: Accessing Function Structure"
   ]
  },
  {
   "cell_type": "markdown",
   "metadata": {
    "slideshow": {
     "slide_type": "fragment"
    }
   },
   "source": [
    "To annotate functions, we need to convert a function into a tree representation (called _abstract syntax trees_, or ASTs) and back; we already have seen these in the chapter on [tracking value origins](Slicer.ipynb)."
   ]
  },
  {
   "cell_type": "code",
   "execution_count": 59,
   "metadata": {
    "execution": {
     "iopub.execute_input": "2025-01-07T11:06:25.206443Z",
     "iopub.status.busy": "2025-01-07T11:06:25.206323Z",
     "iopub.status.idle": "2025-01-07T11:06:25.208041Z",
     "shell.execute_reply": "2025-01-07T11:06:25.207752Z"
    },
    "slideshow": {
     "slide_type": "skip"
    }
   },
   "outputs": [],
   "source": [
    "import ast\n",
    "import inspect"
   ]
  },
  {
   "cell_type": "markdown",
   "metadata": {
    "slideshow": {
     "slide_type": "fragment"
    }
   },
   "source": [
    "We can get the source of a Python function using `inspect.getsource()`.  (Note that this does not work for functions defined in other notebooks.)"
   ]
  },
  {
   "cell_type": "code",
   "execution_count": 60,
   "metadata": {
    "execution": {
     "iopub.execute_input": "2025-01-07T11:06:25.209464Z",
     "iopub.status.busy": "2025-01-07T11:06:25.209359Z",
     "iopub.status.idle": "2025-01-07T11:06:25.211701Z",
     "shell.execute_reply": "2025-01-07T11:06:25.211458Z"
    },
    "slideshow": {
     "slide_type": "fragment"
    }
   },
   "outputs": [
    {
     "data": {
      "text/plain": [
       "'def square_root(x):  # type: ignore\\n    \"\"\"Computes the square root of x, using the Newton-Raphson method\"\"\"\\n    approx = None\\n    guess = x / 2\\n    while approx != guess:\\n        approx = guess\\n        guess = (approx + x / approx) / 2\\n\\n    return approx\\n'"
      ]
     },
     "execution_count": 60,
     "metadata": {},
     "output_type": "execute_result"
    }
   ],
   "source": [
    "square_root_source = inspect.getsource(square_root)\n",
    "square_root_source"
   ]
  },
  {
   "cell_type": "markdown",
   "metadata": {
    "slideshow": {
     "slide_type": "fragment"
    }
   },
   "source": [
    "To view these in a visually pleasing form, our function `print_content(s, suffix)` formats and highlights the string `s` as if it were a file with ending `suffix`.  We can thus view (and highlight) the source as if it were a Python file:"
   ]
  },
  {
   "cell_type": "code",
   "execution_count": 61,
   "metadata": {
    "execution": {
     "iopub.execute_input": "2025-01-07T11:06:25.212941Z",
     "iopub.status.busy": "2025-01-07T11:06:25.212833Z",
     "iopub.status.idle": "2025-01-07T11:06:25.214366Z",
     "shell.execute_reply": "2025-01-07T11:06:25.214149Z"
    },
    "slideshow": {
     "slide_type": "skip"
    }
   },
   "outputs": [],
   "source": [
    "from bookutils import print_content"
   ]
  },
  {
   "cell_type": "code",
   "execution_count": 62,
   "metadata": {
    "execution": {
     "iopub.execute_input": "2025-01-07T11:06:25.215580Z",
     "iopub.status.busy": "2025-01-07T11:06:25.215496Z",
     "iopub.status.idle": "2025-01-07T11:06:25.228283Z",
     "shell.execute_reply": "2025-01-07T11:06:25.227939Z"
    },
    "slideshow": {
     "slide_type": "subslide"
    }
   },
   "outputs": [
    {
     "name": "stdout",
     "output_type": "stream",
     "text": [
      "\u001b[34mdef\u001b[39;49;00m \u001b[32msquare_root\u001b[39;49;00m(x):  \u001b[37m# type: ignore\u001b[39;49;00m\u001b[37m\u001b[39;49;00m\n",
      "\u001b[37m    \u001b[39;49;00m\u001b[33m\"\"\"Computes the square root of x, using the Newton-Raphson method\"\"\"\u001b[39;49;00m\u001b[37m\u001b[39;49;00m\n",
      "    approx = \u001b[34mNone\u001b[39;49;00m\u001b[37m\u001b[39;49;00m\n",
      "    guess = x / \u001b[34m2\u001b[39;49;00m\u001b[37m\u001b[39;49;00m\n",
      "    \u001b[34mwhile\u001b[39;49;00m approx != guess:\u001b[37m\u001b[39;49;00m\n",
      "        approx = guess\u001b[37m\u001b[39;49;00m\n",
      "        guess = (approx + x / approx) / \u001b[34m2\u001b[39;49;00m\u001b[37m\u001b[39;49;00m\n",
      "\u001b[37m\u001b[39;49;00m\n",
      "    \u001b[34mreturn\u001b[39;49;00m approx\u001b[37m\u001b[39;49;00m"
     ]
    }
   ],
   "source": [
    "print_content(square_root_source, '.py')"
   ]
  },
  {
   "cell_type": "markdown",
   "metadata": {
    "slideshow": {
     "slide_type": "fragment"
    }
   },
   "source": [
    "Parsing this gives us an abstract syntax tree (AST) – a representation of the program in tree form."
   ]
  },
  {
   "cell_type": "code",
   "execution_count": 63,
   "metadata": {
    "execution": {
     "iopub.execute_input": "2025-01-07T11:06:25.229874Z",
     "iopub.status.busy": "2025-01-07T11:06:25.229748Z",
     "iopub.status.idle": "2025-01-07T11:06:25.231552Z",
     "shell.execute_reply": "2025-01-07T11:06:25.231301Z"
    },
    "slideshow": {
     "slide_type": "fragment"
    }
   },
   "outputs": [],
   "source": [
    "square_root_ast = ast.parse(square_root_source)"
   ]
  },
  {
   "cell_type": "markdown",
   "metadata": {
    "slideshow": {
     "slide_type": "subslide"
    }
   },
   "source": [
    "What does this AST look like?  The helper functions `ast.dump()` (textual output) and `showast.show_ast()` (graphical output with [showast](https://github.com/hchasestevens/show_ast)) allow us to inspect the structure of the tree.  We see that the function starts as a `FunctionDef` with name and arguments, followed by a body, which is a list of statements of type `Expr` (the docstring), type `Assign` (assignments), `While` (while loop with its own body), and finally `Return`."
   ]
  },
  {
   "cell_type": "code",
   "execution_count": 64,
   "metadata": {
    "execution": {
     "iopub.execute_input": "2025-01-07T11:06:25.232987Z",
     "iopub.status.busy": "2025-01-07T11:06:25.232870Z",
     "iopub.status.idle": "2025-01-07T11:06:25.235003Z",
     "shell.execute_reply": "2025-01-07T11:06:25.234725Z"
    },
    "slideshow": {
     "slide_type": "subslide"
    }
   },
   "outputs": [
    {
     "name": "stdout",
     "output_type": "stream",
     "text": [
      "Module(\n",
      "    body=[\n",
      "        FunctionDef(\n",
      "            name='square_root',\n",
      "            args=arguments(\n",
      "                posonlyargs=[],\n",
      "                args=[\n",
      "                    arg(arg='x')],\n",
      "                kwonlyargs=[],\n",
      "                kw_defaults=[],\n",
      "                defaults=[]),\n",
      "            body=[\n",
      "                Expr(\n",
      "                    value=Constant(value='Computes the square root of x, using the Newton-Raphson method')),\n",
      "                Assign(\n",
      "                    targets=[\n",
      "                        Name(id='approx', ctx=Store())],\n",
      "                    value=Constant(value=None)),\n",
      "                Assign(\n",
      "                    targets=[\n",
      "                        Name(id='guess', ctx=Store())],\n",
      "                    value=BinOp(\n",
      "                        left=Name(id='x', ctx=Load()),\n",
      "                        op=Div(),\n",
      "                        right=Constant(value=2))),\n",
      "                While(\n",
      "                    test=Compare(\n",
      "                        left=Name(id='approx', ctx=Load()),\n",
      "                        ops=[\n",
      "                            NotEq()],\n",
      "                        comparators=[\n",
      "                            Name(id='guess', ctx=Load())]),\n",
      "                    body=[\n",
      "                        Assign(\n",
      "                            targets=[\n",
      "                                Name(id='approx', ctx=Store())],\n",
      "                            value=Name(id='guess', ctx=Load())),\n",
      "                        Assign(\n",
      "                            targets=[\n",
      "                                Name(id='guess', ctx=Store())],\n",
      "                            value=BinOp(\n",
      "                                left=BinOp(\n",
      "                                    left=Name(id='approx', ctx=Load()),\n",
      "                                    op=Add(),\n",
      "                                    right=BinOp(\n",
      "                                        left=Name(id='x', ctx=Load()),\n",
      "                                        op=Div(),\n",
      "                                        right=Name(id='approx', ctx=Load()))),\n",
      "                                op=Div(),\n",
      "                                right=Constant(value=2)))],\n",
      "                    orelse=[]),\n",
      "                Return(\n",
      "                    value=Name(id='approx', ctx=Load()))],\n",
      "            decorator_list=[],\n",
      "            type_params=[])],\n",
      "    type_ignores=[])\n"
     ]
    }
   ],
   "source": [
    "print(ast.dump(square_root_ast, indent=4))"
   ]
  },
  {
   "cell_type": "markdown",
   "metadata": {
    "slideshow": {
     "slide_type": "subslide"
    }
   },
   "source": [
    "Too much text for you?  This graphical representation may make things simpler."
   ]
  },
  {
   "cell_type": "code",
   "execution_count": 65,
   "metadata": {
    "execution": {
     "iopub.execute_input": "2025-01-07T11:06:25.236560Z",
     "iopub.status.busy": "2025-01-07T11:06:25.236411Z",
     "iopub.status.idle": "2025-01-07T11:06:25.238211Z",
     "shell.execute_reply": "2025-01-07T11:06:25.237907Z"
    },
    "slideshow": {
     "slide_type": "skip"
    }
   },
   "outputs": [],
   "source": [
    "from bookutils import show_ast"
   ]
  },
  {
   "cell_type": "code",
   "execution_count": 66,
   "metadata": {
    "execution": {
     "iopub.execute_input": "2025-01-07T11:06:25.239780Z",
     "iopub.status.busy": "2025-01-07T11:06:25.239654Z",
     "iopub.status.idle": "2025-01-07T11:06:25.768785Z",
     "shell.execute_reply": "2025-01-07T11:06:25.768492Z"
    },
    "slideshow": {
     "slide_type": "fragment"
    }
   },
   "outputs": [
    {
     "data": {
      "image/svg+xml": [
       "<svg xmlns=\"http://www.w3.org/2000/svg\" xmlns:xlink=\"http://www.w3.org/1999/xlink\" width=\"1684pt\" height=\"548pt\" viewBox=\"0.00 0.00 1684.00 548.00\">\n",
       "<g id=\"graph0\" class=\"graph\" transform=\"scale(1 1) rotate(0) translate(4 544)\">\n",
       "<polygon fill=\"white\" stroke=\"none\" points=\"-4,4 -4,-544 1680,-544 1680,4 -4,4\"/>\n",
       "<!-- 0 -->\n",
       "<g id=\"node1\" class=\"node\">\n",
       "<title>0</title>\n",
       "<text text-anchor=\"start\" x=\"282.62\" y=\"-517.95\" font-family=\"Courier,monospace\" font-weight=\"bold\" font-size=\"14.00\" fill=\"#004080\">FunctionDef</text>\n",
       "</g>\n",
       "<!-- 1 -->\n",
       "<g id=\"node2\" class=\"node\">\n",
       "<title>1</title>\n",
       "<text text-anchor=\"middle\" x=\"65\" y=\"-444.95\" font-family=\"Courier,monospace\" font-size=\"14.00\" fill=\"#008040\">&quot;square_root&quot;</text>\n",
       "</g>\n",
       "<!-- 0&#45;&#45;1 -->\n",
       "<g id=\"edge1\" class=\"edge\">\n",
       "<title>0--1</title>\n",
       "<path fill=\"none\" stroke=\"black\" d=\"M329,-503C329,-503 221.31,-485.93 136,-468 132.9,-467.35 129.73,-466.66 126.53,-465.95\"/>\n",
       "</g>\n",
       "<!-- 2 -->\n",
       "<g id=\"node3\" class=\"node\">\n",
       "<title>2</title>\n",
       "<text text-anchor=\"start\" x=\"152.88\" y=\"-445.95\" font-family=\"Courier,monospace\" font-weight=\"bold\" font-size=\"14.00\" fill=\"#004080\">arguments</text>\n",
       "</g>\n",
       "<!-- 0&#45;&#45;2 -->\n",
       "<g id=\"edge2\" class=\"edge\">\n",
       "<title>0--2</title>\n",
       "<path fill=\"none\" stroke=\"black\" d=\"M329,-503C329,-503 275.38,-482.94 234.75,-467.74\"/>\n",
       "</g>\n",
       "<!-- 5 -->\n",
       "<g id=\"node6\" class=\"node\">\n",
       "<title>5</title>\n",
       "<text text-anchor=\"start\" x=\"261.25\" y=\"-445.95\" font-family=\"Courier,monospace\" font-weight=\"bold\" font-size=\"14.00\" fill=\"#004080\">Assign</text>\n",
       "</g>\n",
       "<!-- 0&#45;&#45;5 -->\n",
       "<g id=\"edge5\" class=\"edge\">\n",
       "<title>0--5</title>\n",
       "<path fill=\"none\" stroke=\"black\" d=\"M329,-503C329,-503 312.41,-482.94 299.84,-467.74\"/>\n",
       "</g>\n",
       "<!-- 10 -->\n",
       "<g id=\"node11\" class=\"node\">\n",
       "<title>10</title>\n",
       "<text text-anchor=\"start\" x=\"346.25\" y=\"-445.95\" font-family=\"Courier,monospace\" font-weight=\"bold\" font-size=\"14.00\" fill=\"#004080\">Assign</text>\n",
       "</g>\n",
       "<!-- 0&#45;&#45;10 -->\n",
       "<g id=\"edge10\" class=\"edge\">\n",
       "<title>0--10</title>\n",
       "<path fill=\"none\" stroke=\"black\" d=\"M329,-503C329,-503 345.2,-482.94 357.48,-467.74\"/>\n",
       "</g>\n",
       "<!-- 21 -->\n",
       "<g id=\"node22\" class=\"node\">\n",
       "<title>21</title>\n",
       "<text text-anchor=\"start\" x=\"909.38\" y=\"-445.95\" font-family=\"Courier,monospace\" font-weight=\"bold\" font-size=\"14.00\" fill=\"#004080\">While</text>\n",
       "</g>\n",
       "<!-- 0&#45;&#45;21 -->\n",
       "<g id=\"edge21\" class=\"edge\">\n",
       "<title>0--21</title>\n",
       "<path fill=\"none\" stroke=\"black\" d=\"M329,-503C329,-503 781.98,-463.81 901.42,-453.47\"/>\n",
       "</g>\n",
       "<!-- 58 -->\n",
       "<g id=\"node59\" class=\"node\">\n",
       "<title>58</title>\n",
       "<text text-anchor=\"start\" x=\"1316.25\" y=\"-445.95\" font-family=\"Courier,monospace\" font-weight=\"bold\" font-size=\"14.00\" fill=\"#004080\">Return</text>\n",
       "</g>\n",
       "<!-- 0&#45;&#45;58 -->\n",
       "<g id=\"edge58\" class=\"edge\">\n",
       "<title>0--58</title>\n",
       "<path fill=\"none\" stroke=\"black\" d=\"M329,-503C329,-503 1135.26,-461.57 1308.48,-452.67\"/>\n",
       "</g>\n",
       "<!-- 3 -->\n",
       "<g id=\"node4\" class=\"node\">\n",
       "<title>3</title>\n",
       "<text text-anchor=\"start\" x=\"63.62\" y=\"-373.95\" font-family=\"Courier,monospace\" font-weight=\"bold\" font-size=\"14.00\" fill=\"#004080\">arg</text>\n",
       "</g>\n",
       "<!-- 2&#45;&#45;3 -->\n",
       "<g id=\"edge3\" class=\"edge\">\n",
       "<title>2--3</title>\n",
       "<path fill=\"none\" stroke=\"black\" d=\"M162.4,-432.05C144.35,-420.97 120.87,-406.55 102.95,-395.55\"/>\n",
       "</g>\n",
       "<!-- 4 -->\n",
       "<g id=\"node5\" class=\"node\">\n",
       "<title>4</title>\n",
       "<text text-anchor=\"middle\" x=\"27\" y=\"-300.95\" font-family=\"Courier,monospace\" font-size=\"14.00\" fill=\"#008040\">&quot;x&quot;</text>\n",
       "</g>\n",
       "<!-- 3&#45;&#45;4 -->\n",
       "<g id=\"edge4\" class=\"edge\">\n",
       "<title>3--4</title>\n",
       "<path fill=\"none\" stroke=\"black\" d=\"M64.14,-360.05C56.43,-349.05 46.43,-334.76 38.75,-323.79\"/>\n",
       "</g>\n",
       "<!-- 6 -->\n",
       "<g id=\"node7\" class=\"node\">\n",
       "<title>6</title>\n",
       "<text text-anchor=\"start\" x=\"182.5\" y=\"-373.95\" font-family=\"Courier,monospace\" font-weight=\"bold\" font-size=\"14.00\" fill=\"#004080\">Name</text>\n",
       "</g>\n",
       "<!-- 5&#45;&#45;6 -->\n",
       "<g id=\"edge6\" class=\"edge\">\n",
       "<title>5--6</title>\n",
       "<path fill=\"none\" stroke=\"black\" d=\"M277,-431C277,-431 246.91,-410.94 224.11,-395.74\"/>\n",
       "</g>\n",
       "<!-- 9 -->\n",
       "<g id=\"node10\" class=\"node\">\n",
       "<title>9</title>\n",
       "<text text-anchor=\"middle\" x=\"285\" y=\"-372.95\" font-family=\"Courier,monospace\" font-size=\"14.00\" fill=\"#008040\">Constant</text>\n",
       "</g>\n",
       "<!-- 5&#45;&#45;9 -->\n",
       "<g id=\"edge9\" class=\"edge\">\n",
       "<title>5--9</title>\n",
       "<path fill=\"none\" stroke=\"black\" d=\"M277,-431C277,-431 280.09,-410.94 282.42,-395.74\"/>\n",
       "</g>\n",
       "<!-- 7 -->\n",
       "<g id=\"node8\" class=\"node\">\n",
       "<title>7</title>\n",
       "<text text-anchor=\"middle\" x=\"113\" y=\"-300.95\" font-family=\"Courier,monospace\" font-size=\"14.00\" fill=\"#008040\">&quot;approx&quot;</text>\n",
       "</g>\n",
       "<!-- 6&#45;&#45;7 -->\n",
       "<g id=\"edge7\" class=\"edge\">\n",
       "<title>6--7</title>\n",
       "<path fill=\"none\" stroke=\"black\" d=\"M191,-359C191,-359 160.91,-338.94 138.11,-323.74\"/>\n",
       "</g>\n",
       "<!-- 8 -->\n",
       "<g id=\"node9\" class=\"node\">\n",
       "<title>8</title>\n",
       "<text text-anchor=\"middle\" x=\"201\" y=\"-300.95\" font-family=\"Courier,monospace\" font-size=\"14.00\" fill=\"#008040\">Store</text>\n",
       "</g>\n",
       "<!-- 6&#45;&#45;8 -->\n",
       "<g id=\"edge8\" class=\"edge\">\n",
       "<title>6--8</title>\n",
       "<path fill=\"none\" stroke=\"black\" d=\"M191,-359C191,-359 194.86,-338.94 197.78,-323.74\"/>\n",
       "</g>\n",
       "<!-- 11 -->\n",
       "<g id=\"node12\" class=\"node\">\n",
       "<title>11</title>\n",
       "<text text-anchor=\"start\" x=\"354.5\" y=\"-373.95\" font-family=\"Courier,monospace\" font-weight=\"bold\" font-size=\"14.00\" fill=\"#004080\">Name</text>\n",
       "</g>\n",
       "<!-- 10&#45;&#45;11 -->\n",
       "<g id=\"edge11\" class=\"edge\">\n",
       "<title>10--11</title>\n",
       "<path fill=\"none\" stroke=\"black\" d=\"M381,-431C381,-431 377.14,-410.94 374.22,-395.74\"/>\n",
       "</g>\n",
       "<!-- 14 -->\n",
       "<g id=\"node15\" class=\"node\">\n",
       "<title>14</title>\n",
       "<text text-anchor=\"start\" x=\"458.38\" y=\"-373.95\" font-family=\"Courier,monospace\" font-weight=\"bold\" font-size=\"14.00\" fill=\"#004080\">BinOp</text>\n",
       "</g>\n",
       "<!-- 10&#45;&#45;14 -->\n",
       "<g id=\"edge14\" class=\"edge\">\n",
       "<title>10--14</title>\n",
       "<path fill=\"none\" stroke=\"black\" d=\"M381,-431C381,-431 421.46,-409.53 450.39,-394.18\"/>\n",
       "</g>\n",
       "<!-- 12 -->\n",
       "<g id=\"node13\" class=\"node\">\n",
       "<title>12</title>\n",
       "<text text-anchor=\"middle\" x=\"285\" y=\"-300.95\" font-family=\"Courier,monospace\" font-size=\"14.00\" fill=\"#008040\">&quot;guess&quot;</text>\n",
       "</g>\n",
       "<!-- 11&#45;&#45;12 -->\n",
       "<g id=\"edge12\" class=\"edge\">\n",
       "<title>11--12</title>\n",
       "<path fill=\"none\" stroke=\"black\" d=\"M362,-359C362,-359 332.3,-338.94 309.79,-323.74\"/>\n",
       "</g>\n",
       "<!-- 13 -->\n",
       "<g id=\"node14\" class=\"node\">\n",
       "<title>13</title>\n",
       "<text text-anchor=\"middle\" x=\"369\" y=\"-300.95\" font-family=\"Courier,monospace\" font-size=\"14.00\" fill=\"#008040\">Store</text>\n",
       "</g>\n",
       "<!-- 11&#45;&#45;13 -->\n",
       "<g id=\"edge13\" class=\"edge\">\n",
       "<title>11--13</title>\n",
       "<path fill=\"none\" stroke=\"black\" d=\"M362,-359C362,-359 364.7,-338.94 366.75,-323.74\"/>\n",
       "</g>\n",
       "<!-- 15 -->\n",
       "<g id=\"node16\" class=\"node\">\n",
       "<title>15</title>\n",
       "<text text-anchor=\"start\" x=\"426.5\" y=\"-301.95\" font-family=\"Courier,monospace\" font-weight=\"bold\" font-size=\"14.00\" fill=\"#004080\">Name</text>\n",
       "</g>\n",
       "<!-- 14&#45;&#45;15 -->\n",
       "<g id=\"edge15\" class=\"edge\">\n",
       "<title>14--15</title>\n",
       "<path fill=\"none\" stroke=\"black\" d=\"M486,-359C486,-359 469.41,-338.94 456.84,-323.74\"/>\n",
       "</g>\n",
       "<!-- 18 -->\n",
       "<g id=\"node19\" class=\"node\">\n",
       "<title>18</title>\n",
       "<text text-anchor=\"middle\" x=\"515\" y=\"-300.95\" font-family=\"Courier,monospace\" font-size=\"14.00\" fill=\"#008040\">Div</text>\n",
       "</g>\n",
       "<!-- 14&#45;&#45;18 -->\n",
       "<g id=\"edge18\" class=\"edge\">\n",
       "<title>14--18</title>\n",
       "<path fill=\"none\" stroke=\"black\" d=\"M486,-359C486,-359 497.19,-338.94 505.66,-323.74\"/>\n",
       "</g>\n",
       "<!-- 19 -->\n",
       "<g id=\"node20\" class=\"node\">\n",
       "<title>19</title>\n",
       "<text text-anchor=\"start\" x=\"568\" y=\"-301.95\" font-family=\"Courier,monospace\" font-weight=\"bold\" font-size=\"14.00\" fill=\"#004080\">Constant</text>\n",
       "</g>\n",
       "<!-- 14&#45;&#45;19 -->\n",
       "<g id=\"edge19\" class=\"edge\">\n",
       "<title>14--19</title>\n",
       "<path fill=\"none\" stroke=\"black\" d=\"M486,-359C486,-359 530.08,-339.07 563.66,-323.88\"/>\n",
       "</g>\n",
       "<!-- 16 -->\n",
       "<g id=\"node17\" class=\"node\">\n",
       "<title>16</title>\n",
       "<text text-anchor=\"middle\" x=\"371\" y=\"-228.95\" font-family=\"Courier,monospace\" font-size=\"14.00\" fill=\"#008040\">&quot;x&quot;</text>\n",
       "</g>\n",
       "<!-- 15&#45;&#45;16 -->\n",
       "<g id=\"edge16\" class=\"edge\">\n",
       "<title>15--16</title>\n",
       "<path fill=\"none\" stroke=\"black\" d=\"M436,-287C436,-287 410.93,-266.94 391.92,-251.74\"/>\n",
       "</g>\n",
       "<!-- 17 -->\n",
       "<g id=\"node18\" class=\"node\">\n",
       "<title>17</title>\n",
       "<text text-anchor=\"middle\" x=\"443\" y=\"-228.95\" font-family=\"Courier,monospace\" font-size=\"14.00\" fill=\"#008040\">Load</text>\n",
       "</g>\n",
       "<!-- 15&#45;&#45;17 -->\n",
       "<g id=\"edge17\" class=\"edge\">\n",
       "<title>15--17</title>\n",
       "<path fill=\"none\" stroke=\"black\" d=\"M436,-287C436,-287 438.7,-266.94 440.75,-251.74\"/>\n",
       "</g>\n",
       "<!-- 20 -->\n",
       "<g id=\"node21\" class=\"node\">\n",
       "<title>20</title>\n",
       "<text text-anchor=\"middle\" x=\"515\" y=\"-228.95\" font-family=\"Courier,monospace\" font-size=\"14.00\" fill=\"#008040\">2</text>\n",
       "</g>\n",
       "<!-- 19&#45;&#45;20 -->\n",
       "<g id=\"edge20\" class=\"edge\">\n",
       "<title>19--20</title>\n",
       "<path fill=\"none\" stroke=\"black\" d=\"M580.18,-288.05C566.66,-277.05 549.11,-262.76 535.63,-251.79\"/>\n",
       "</g>\n",
       "<!-- 22 -->\n",
       "<g id=\"node23\" class=\"node\">\n",
       "<title>22</title>\n",
       "<text text-anchor=\"start\" x=\"777.12\" y=\"-373.95\" font-family=\"Courier,monospace\" font-weight=\"bold\" font-size=\"14.00\" fill=\"#004080\">Compare</text>\n",
       "</g>\n",
       "<!-- 21&#45;&#45;22 -->\n",
       "<g id=\"edge22\" class=\"edge\">\n",
       "<title>21--22</title>\n",
       "<path fill=\"none\" stroke=\"black\" d=\"M938,-431C938,-431 881.83,-408.87 842.77,-393.48\"/>\n",
       "</g>\n",
       "<!-- 30 -->\n",
       "<g id=\"node31\" class=\"node\">\n",
       "<title>30</title>\n",
       "<text text-anchor=\"start\" x=\"956.25\" y=\"-373.95\" font-family=\"Courier,monospace\" font-weight=\"bold\" font-size=\"14.00\" fill=\"#004080\">Assign</text>\n",
       "</g>\n",
       "<!-- 21&#45;&#45;30 -->\n",
       "<g id=\"edge30\" class=\"edge\">\n",
       "<title>21--30</title>\n",
       "<path fill=\"none\" stroke=\"black\" d=\"M938,-431C938,-431 954.59,-410.94 967.16,-395.74\"/>\n",
       "</g>\n",
       "<!-- 37 -->\n",
       "<g id=\"node38\" class=\"node\">\n",
       "<title>37</title>\n",
       "<text text-anchor=\"start\" x=\"1290.25\" y=\"-373.95\" font-family=\"Courier,monospace\" font-weight=\"bold\" font-size=\"14.00\" fill=\"#004080\">Assign</text>\n",
       "</g>\n",
       "<!-- 21&#45;&#45;37 -->\n",
       "<g id=\"edge37\" class=\"edge\">\n",
       "<title>21--37</title>\n",
       "<path fill=\"none\" stroke=\"black\" d=\"M938,-431C938,-431 1191.08,-396.09 1282.53,-383.48\"/>\n",
       "</g>\n",
       "<!-- 23 -->\n",
       "<g id=\"node24\" class=\"node\">\n",
       "<title>23</title>\n",
       "<text text-anchor=\"start\" x=\"670.5\" y=\"-301.95\" font-family=\"Courier,monospace\" font-weight=\"bold\" font-size=\"14.00\" fill=\"#004080\">Name</text>\n",
       "</g>\n",
       "<!-- 22&#45;&#45;23 -->\n",
       "<g id=\"edge23\" class=\"edge\">\n",
       "<title>22--23</title>\n",
       "<path fill=\"none\" stroke=\"black\" d=\"M799,-359C799,-359 746.96,-334.84 713.83,-319.46\"/>\n",
       "</g>\n",
       "<!-- 26 -->\n",
       "<g id=\"node27\" class=\"node\">\n",
       "<title>26</title>\n",
       "<text text-anchor=\"middle\" x=\"769\" y=\"-300.95\" font-family=\"Courier,monospace\" font-size=\"14.00\" fill=\"#008040\">NotEq</text>\n",
       "</g>\n",
       "<!-- 22&#45;&#45;26 -->\n",
       "<g id=\"edge26\" class=\"edge\">\n",
       "<title>22--26</title>\n",
       "<path fill=\"none\" stroke=\"black\" d=\"M799,-359C799,-359 787.43,-338.94 778.66,-323.74\"/>\n",
       "</g>\n",
       "<!-- 27 -->\n",
       "<g id=\"node28\" class=\"node\">\n",
       "<title>27</title>\n",
       "<text text-anchor=\"start\" x=\"826.5\" y=\"-301.95\" font-family=\"Courier,monospace\" font-weight=\"bold\" font-size=\"14.00\" fill=\"#004080\">Name</text>\n",
       "</g>\n",
       "<!-- 22&#45;&#45;27 -->\n",
       "<g id=\"edge27\" class=\"edge\">\n",
       "<title>22--27</title>\n",
       "<path fill=\"none\" stroke=\"black\" d=\"M799,-359C799,-359 815.97,-338.94 828.84,-323.74\"/>\n",
       "</g>\n",
       "<!-- 24 -->\n",
       "<g id=\"node25\" class=\"node\">\n",
       "<title>24</title>\n",
       "<text text-anchor=\"middle\" x=\"601\" y=\"-228.95\" font-family=\"Courier,monospace\" font-size=\"14.00\" fill=\"#008040\">&quot;approx&quot;</text>\n",
       "</g>\n",
       "<!-- 23&#45;&#45;24 -->\n",
       "<g id=\"edge24\" class=\"edge\">\n",
       "<title>23--24</title>\n",
       "<path fill=\"none\" stroke=\"black\" d=\"M679,-287C679,-287 648.91,-266.94 626.11,-251.74\"/>\n",
       "</g>\n",
       "<!-- 25 -->\n",
       "<g id=\"node26\" class=\"node\">\n",
       "<title>25</title>\n",
       "<text text-anchor=\"middle\" x=\"687\" y=\"-228.95\" font-family=\"Courier,monospace\" font-size=\"14.00\" fill=\"#008040\">Load</text>\n",
       "</g>\n",
       "<!-- 23&#45;&#45;25 -->\n",
       "<g id=\"edge25\" class=\"edge\">\n",
       "<title>23--25</title>\n",
       "<path fill=\"none\" stroke=\"black\" d=\"M679,-287C679,-287 682.09,-266.94 684.42,-251.74\"/>\n",
       "</g>\n",
       "<!-- 28 -->\n",
       "<g id=\"node29\" class=\"node\">\n",
       "<title>28</title>\n",
       "<text text-anchor=\"middle\" x=\"769\" y=\"-228.95\" font-family=\"Courier,monospace\" font-size=\"14.00\" fill=\"#008040\">&quot;guess&quot;</text>\n",
       "</g>\n",
       "<!-- 27&#45;&#45;28 -->\n",
       "<g id=\"edge28\" class=\"edge\">\n",
       "<title>27--28</title>\n",
       "<path fill=\"none\" stroke=\"black\" d=\"M837,-287C837,-287 810.77,-266.94 790.89,-251.74\"/>\n",
       "</g>\n",
       "<!-- 29 -->\n",
       "<g id=\"node30\" class=\"node\">\n",
       "<title>29</title>\n",
       "<text text-anchor=\"middle\" x=\"851\" y=\"-228.95\" font-family=\"Courier,monospace\" font-size=\"14.00\" fill=\"#008040\">Load</text>\n",
       "</g>\n",
       "<!-- 27&#45;&#45;29 -->\n",
       "<g id=\"edge29\" class=\"edge\">\n",
       "<title>27--29</title>\n",
       "<path fill=\"none\" stroke=\"black\" d=\"M837,-287C837,-287 842.4,-266.94 846.49,-251.74\"/>\n",
       "</g>\n",
       "<!-- 31 -->\n",
       "<g id=\"node32\" class=\"node\">\n",
       "<title>31</title>\n",
       "<text text-anchor=\"start\" x=\"964.5\" y=\"-301.95\" font-family=\"Courier,monospace\" font-weight=\"bold\" font-size=\"14.00\" fill=\"#004080\">Name</text>\n",
       "</g>\n",
       "<!-- 30&#45;&#45;31 -->\n",
       "<g id=\"edge31\" class=\"edge\">\n",
       "<title>30--31</title>\n",
       "<path fill=\"none\" stroke=\"black\" d=\"M992,-359C992,-359 987.76,-338.94 984.54,-323.74\"/>\n",
       "</g>\n",
       "<!-- 34 -->\n",
       "<g id=\"node35\" class=\"node\">\n",
       "<title>34</title>\n",
       "<text text-anchor=\"start\" x=\"1092.5\" y=\"-301.95\" font-family=\"Courier,monospace\" font-weight=\"bold\" font-size=\"14.00\" fill=\"#004080\">Name</text>\n",
       "</g>\n",
       "<!-- 30&#45;&#45;34 -->\n",
       "<g id=\"edge34\" class=\"edge\">\n",
       "<title>30--34</title>\n",
       "<path fill=\"none\" stroke=\"black\" d=\"M992,-359C992,-359 1047.62,-334.28 1082.16,-318.93\"/>\n",
       "</g>\n",
       "<!-- 32 -->\n",
       "<g id=\"node33\" class=\"node\">\n",
       "<title>32</title>\n",
       "<text text-anchor=\"middle\" x=\"937\" y=\"-228.95\" font-family=\"Courier,monospace\" font-size=\"14.00\" fill=\"#008040\">&quot;approx&quot;</text>\n",
       "</g>\n",
       "<!-- 31&#45;&#45;32 -->\n",
       "<g id=\"edge32\" class=\"edge\">\n",
       "<title>31--32</title>\n",
       "<path fill=\"none\" stroke=\"black\" d=\"M981,-287C981,-287 964.03,-266.94 951.16,-251.74\"/>\n",
       "</g>\n",
       "<!-- 33 -->\n",
       "<g id=\"node34\" class=\"node\">\n",
       "<title>33</title>\n",
       "<text text-anchor=\"middle\" x=\"1025\" y=\"-228.95\" font-family=\"Courier,monospace\" font-size=\"14.00\" fill=\"#008040\">Store</text>\n",
       "</g>\n",
       "<!-- 31&#45;&#45;33 -->\n",
       "<g id=\"edge33\" class=\"edge\">\n",
       "<title>31--33</title>\n",
       "<path fill=\"none\" stroke=\"black\" d=\"M981,-287C981,-287 997.97,-266.94 1010.84,-251.74\"/>\n",
       "</g>\n",
       "<!-- 35 -->\n",
       "<g id=\"node36\" class=\"node\">\n",
       "<title>35</title>\n",
       "<text text-anchor=\"middle\" x=\"1109\" y=\"-228.95\" font-family=\"Courier,monospace\" font-size=\"14.00\" fill=\"#008040\">&quot;guess&quot;</text>\n",
       "</g>\n",
       "<!-- 34&#45;&#45;35 -->\n",
       "<g id=\"edge35\" class=\"edge\">\n",
       "<title>34--35</title>\n",
       "<path fill=\"none\" stroke=\"black\" d=\"M1117,-287C1117,-287 1113.91,-266.94 1111.58,-251.74\"/>\n",
       "</g>\n",
       "<!-- 36 -->\n",
       "<g id=\"node37\" class=\"node\">\n",
       "<title>36</title>\n",
       "<text text-anchor=\"middle\" x=\"1191\" y=\"-228.95\" font-family=\"Courier,monospace\" font-size=\"14.00\" fill=\"#008040\">Load</text>\n",
       "</g>\n",
       "<!-- 34&#45;&#45;36 -->\n",
       "<g id=\"edge36\" class=\"edge\">\n",
       "<title>34--36</title>\n",
       "<path fill=\"none\" stroke=\"black\" d=\"M1117,-287C1117,-287 1145.55,-266.94 1167.18,-251.74\"/>\n",
       "</g>\n",
       "<!-- 38 -->\n",
       "<g id=\"node39\" class=\"node\">\n",
       "<title>38</title>\n",
       "<text text-anchor=\"start\" x=\"1298.5\" y=\"-301.95\" font-family=\"Courier,monospace\" font-weight=\"bold\" font-size=\"14.00\" fill=\"#004080\">Name</text>\n",
       "</g>\n",
       "<!-- 37&#45;&#45;38 -->\n",
       "<g id=\"edge38\" class=\"edge\">\n",
       "<title>37--38</title>\n",
       "<path fill=\"none\" stroke=\"black\" d=\"M1325,-359C1325,-359 1321.14,-338.94 1318.22,-323.74\"/>\n",
       "</g>\n",
       "<!-- 41 -->\n",
       "<g id=\"node42\" class=\"node\">\n",
       "<title>41</title>\n",
       "<text text-anchor=\"start\" x=\"1411.38\" y=\"-301.95\" font-family=\"Courier,monospace\" font-weight=\"bold\" font-size=\"14.00\" fill=\"#004080\">BinOp</text>\n",
       "</g>\n",
       "<!-- 37&#45;&#45;41 -->\n",
       "<g id=\"edge41\" class=\"edge\">\n",
       "<title>37--41</title>\n",
       "<path fill=\"none\" stroke=\"black\" d=\"M1325,-359C1325,-359 1371.91,-336.2 1403.61,-320.8\"/>\n",
       "</g>\n",
       "<!-- 39 -->\n",
       "<g id=\"node40\" class=\"node\">\n",
       "<title>39</title>\n",
       "<text text-anchor=\"middle\" x=\"1273\" y=\"-228.95\" font-family=\"Courier,monospace\" font-size=\"14.00\" fill=\"#008040\">&quot;guess&quot;</text>\n",
       "</g>\n",
       "<!-- 38&#45;&#45;39 -->\n",
       "<g id=\"edge39\" class=\"edge\">\n",
       "<title>38--39</title>\n",
       "<path fill=\"none\" stroke=\"black\" d=\"M1315,-287C1315,-287 1298.8,-266.94 1286.52,-251.74\"/>\n",
       "</g>\n",
       "<!-- 40 -->\n",
       "<g id=\"node41\" class=\"node\">\n",
       "<title>40</title>\n",
       "<text text-anchor=\"middle\" x=\"1357\" y=\"-228.95\" font-family=\"Courier,monospace\" font-size=\"14.00\" fill=\"#008040\">Store</text>\n",
       "</g>\n",
       "<!-- 38&#45;&#45;40 -->\n",
       "<g id=\"edge40\" class=\"edge\">\n",
       "<title>38--40</title>\n",
       "<path fill=\"none\" stroke=\"black\" d=\"M1315,-287C1315,-287 1331.2,-266.94 1343.48,-251.74\"/>\n",
       "</g>\n",
       "<!-- 42 -->\n",
       "<g id=\"node43\" class=\"node\">\n",
       "<title>42</title>\n",
       "<text text-anchor=\"start\" x=\"1411.38\" y=\"-229.95\" font-family=\"Courier,monospace\" font-weight=\"bold\" font-size=\"14.00\" fill=\"#004080\">BinOp</text>\n",
       "</g>\n",
       "<!-- 41&#45;&#45;42 -->\n",
       "<g id=\"edge42\" class=\"edge\">\n",
       "<title>41--42</title>\n",
       "<path fill=\"none\" stroke=\"black\" d=\"M1446,-287C1446,-287 1440.6,-266.94 1436.51,-251.74\"/>\n",
       "</g>\n",
       "<!-- 55 -->\n",
       "<g id=\"node56\" class=\"node\">\n",
       "<title>55</title>\n",
       "<text text-anchor=\"middle\" x=\"1506\" y=\"-228.95\" font-family=\"Courier,monospace\" font-size=\"14.00\" fill=\"#008040\">Div</text>\n",
       "</g>\n",
       "<!-- 41&#45;&#45;55 -->\n",
       "<g id=\"edge55\" class=\"edge\">\n",
       "<title>41--55</title>\n",
       "<path fill=\"none\" stroke=\"black\" d=\"M1446,-287C1446,-287 1469.15,-266.94 1486.69,-251.74\"/>\n",
       "</g>\n",
       "<!-- 56 -->\n",
       "<g id=\"node57\" class=\"node\">\n",
       "<title>56</title>\n",
       "<text text-anchor=\"start\" x=\"1559\" y=\"-229.95\" font-family=\"Courier,monospace\" font-weight=\"bold\" font-size=\"14.00\" fill=\"#004080\">Constant</text>\n",
       "</g>\n",
       "<!-- 41&#45;&#45;56 -->\n",
       "<g id=\"edge56\" class=\"edge\">\n",
       "<title>41--56</title>\n",
       "<path fill=\"none\" stroke=\"black\" d=\"M1446,-287C1446,-287 1508.13,-264.87 1551.33,-249.48\"/>\n",
       "</g>\n",
       "<!-- 43 -->\n",
       "<g id=\"node44\" class=\"node\">\n",
       "<title>43</title>\n",
       "<text text-anchor=\"start\" x=\"1343.5\" y=\"-157.95\" font-family=\"Courier,monospace\" font-weight=\"bold\" font-size=\"14.00\" fill=\"#004080\">Name</text>\n",
       "</g>\n",
       "<!-- 42&#45;&#45;43 -->\n",
       "<g id=\"edge43\" class=\"edge\">\n",
       "<title>42--43</title>\n",
       "<path fill=\"none\" stroke=\"black\" d=\"M1432,-215C1432,-215 1404.23,-194.94 1383.18,-179.74\"/>\n",
       "</g>\n",
       "<!-- 46 -->\n",
       "<g id=\"node47\" class=\"node\">\n",
       "<title>46</title>\n",
       "<text text-anchor=\"middle\" x=\"1432\" y=\"-156.95\" font-family=\"Courier,monospace\" font-size=\"14.00\" fill=\"#008040\">Add</text>\n",
       "</g>\n",
       "<!-- 42&#45;&#45;46 -->\n",
       "<g id=\"edge46\" class=\"edge\">\n",
       "<title>42--46</title>\n",
       "<path fill=\"none\" stroke=\"black\" d=\"M1432,-215C1432,-215 1432,-194.94 1432,-179.74\"/>\n",
       "</g>\n",
       "<!-- 47 -->\n",
       "<g id=\"node48\" class=\"node\">\n",
       "<title>47</title>\n",
       "<text text-anchor=\"start\" x=\"1485.38\" y=\"-157.95\" font-family=\"Courier,monospace\" font-weight=\"bold\" font-size=\"14.00\" fill=\"#004080\">BinOp</text>\n",
       "</g>\n",
       "<!-- 42&#45;&#45;47 -->\n",
       "<g id=\"edge47\" class=\"edge\">\n",
       "<title>42--47</title>\n",
       "<path fill=\"none\" stroke=\"black\" d=\"M1432,-215C1432,-215 1460.55,-194.94 1482.18,-179.74\"/>\n",
       "</g>\n",
       "<!-- 44 -->\n",
       "<g id=\"node45\" class=\"node\">\n",
       "<title>44</title>\n",
       "<text text-anchor=\"middle\" x=\"1275\" y=\"-84.95\" font-family=\"Courier,monospace\" font-size=\"14.00\" fill=\"#008040\">&quot;approx&quot;</text>\n",
       "</g>\n",
       "<!-- 43&#45;&#45;44 -->\n",
       "<g id=\"edge44\" class=\"edge\">\n",
       "<title>43--44</title>\n",
       "<path fill=\"none\" stroke=\"black\" d=\"M1352,-143C1352,-143 1322.3,-122.94 1299.79,-107.74\"/>\n",
       "</g>\n",
       "<!-- 45 -->\n",
       "<g id=\"node46\" class=\"node\">\n",
       "<title>45</title>\n",
       "<text text-anchor=\"middle\" x=\"1361\" y=\"-84.95\" font-family=\"Courier,monospace\" font-size=\"14.00\" fill=\"#008040\">Load</text>\n",
       "</g>\n",
       "<!-- 43&#45;&#45;45 -->\n",
       "<g id=\"edge45\" class=\"edge\">\n",
       "<title>43--45</title>\n",
       "<path fill=\"none\" stroke=\"black\" d=\"M1352,-143C1352,-143 1355.47,-122.94 1358.1,-107.74\"/>\n",
       "</g>\n",
       "<!-- 48 -->\n",
       "<g id=\"node49\" class=\"node\">\n",
       "<title>48</title>\n",
       "<text text-anchor=\"start\" x=\"1417.5\" y=\"-85.95\" font-family=\"Courier,monospace\" font-weight=\"bold\" font-size=\"14.00\" fill=\"#004080\">Name</text>\n",
       "</g>\n",
       "<!-- 47&#45;&#45;48 -->\n",
       "<g id=\"edge48\" class=\"edge\">\n",
       "<title>47--48</title>\n",
       "<path fill=\"none\" stroke=\"black\" d=\"M1506,-143C1506,-143 1478.23,-122.94 1457.18,-107.74\"/>\n",
       "</g>\n",
       "<!-- 51 -->\n",
       "<g id=\"node52\" class=\"node\">\n",
       "<title>51</title>\n",
       "<text text-anchor=\"middle\" x=\"1506\" y=\"-84.95\" font-family=\"Courier,monospace\" font-size=\"14.00\" fill=\"#008040\">Div</text>\n",
       "</g>\n",
       "<!-- 47&#45;&#45;51 -->\n",
       "<g id=\"edge51\" class=\"edge\">\n",
       "<title>47--51</title>\n",
       "<path fill=\"none\" stroke=\"black\" d=\"M1506,-143C1506,-143 1506,-122.94 1506,-107.74\"/>\n",
       "</g>\n",
       "<!-- 52 -->\n",
       "<g id=\"node53\" class=\"node\">\n",
       "<title>52</title>\n",
       "<text text-anchor=\"start\" x=\"1561.5\" y=\"-85.95\" font-family=\"Courier,monospace\" font-weight=\"bold\" font-size=\"14.00\" fill=\"#004080\">Name</text>\n",
       "</g>\n",
       "<!-- 47&#45;&#45;52 -->\n",
       "<g id=\"edge52\" class=\"edge\">\n",
       "<title>47--52</title>\n",
       "<path fill=\"none\" stroke=\"black\" d=\"M1506,-143C1506,-143 1533.77,-122.94 1554.82,-107.74\"/>\n",
       "</g>\n",
       "<!-- 49 -->\n",
       "<g id=\"node50\" class=\"node\">\n",
       "<title>49</title>\n",
       "<text text-anchor=\"middle\" x=\"1376\" y=\"-12.95\" font-family=\"Courier,monospace\" font-size=\"14.00\" fill=\"#008040\">&quot;x&quot;</text>\n",
       "</g>\n",
       "<!-- 48&#45;&#45;49 -->\n",
       "<g id=\"edge49\" class=\"edge\">\n",
       "<title>48--49</title>\n",
       "<path fill=\"none\" stroke=\"black\" d=\"M1430,-71C1430,-71 1409.17,-50.94 1393.38,-35.74\"/>\n",
       "</g>\n",
       "<!-- 50 -->\n",
       "<g id=\"node51\" class=\"node\">\n",
       "<title>50</title>\n",
       "<text text-anchor=\"middle\" x=\"1448\" y=\"-12.95\" font-family=\"Courier,monospace\" font-size=\"14.00\" fill=\"#008040\">Load</text>\n",
       "</g>\n",
       "<!-- 48&#45;&#45;50 -->\n",
       "<g id=\"edge50\" class=\"edge\">\n",
       "<title>48--50</title>\n",
       "<path fill=\"none\" stroke=\"black\" d=\"M1430,-71C1430,-71 1436.94,-50.94 1442.21,-35.74\"/>\n",
       "</g>\n",
       "<!-- 53 -->\n",
       "<g id=\"node54\" class=\"node\">\n",
       "<title>53</title>\n",
       "<text text-anchor=\"middle\" x=\"1563\" y=\"-12.95\" font-family=\"Courier,monospace\" font-size=\"14.00\" fill=\"#008040\">&quot;approx&quot;</text>\n",
       "</g>\n",
       "<!-- 52&#45;&#45;53 -->\n",
       "<g id=\"edge53\" class=\"edge\">\n",
       "<title>52--53</title>\n",
       "<path fill=\"none\" stroke=\"black\" d=\"M1583,-71C1583,-71 1575.28,-50.94 1569.44,-35.74\"/>\n",
       "</g>\n",
       "<!-- 54 -->\n",
       "<g id=\"node55\" class=\"node\">\n",
       "<title>54</title>\n",
       "<text text-anchor=\"middle\" x=\"1649\" y=\"-12.95\" font-family=\"Courier,monospace\" font-size=\"14.00\" fill=\"#008040\">Load</text>\n",
       "</g>\n",
       "<!-- 52&#45;&#45;54 -->\n",
       "<g id=\"edge54\" class=\"edge\">\n",
       "<title>52--54</title>\n",
       "<path fill=\"none\" stroke=\"black\" d=\"M1583,-71C1583,-71 1608.46,-50.94 1627.75,-35.74\"/>\n",
       "</g>\n",
       "<!-- 57 -->\n",
       "<g id=\"node58\" class=\"node\">\n",
       "<title>57</title>\n",
       "<text text-anchor=\"middle\" x=\"1592\" y=\"-156.95\" font-family=\"Courier,monospace\" font-size=\"14.00\" fill=\"#008040\">2</text>\n",
       "</g>\n",
       "<!-- 56&#45;&#45;57 -->\n",
       "<g id=\"edge57\" class=\"edge\">\n",
       "<title>56--57</title>\n",
       "<path fill=\"none\" stroke=\"black\" d=\"M1592,-216.05C1592,-205.05 1592,-190.76 1592,-179.79\"/>\n",
       "</g>\n",
       "<!-- 59 -->\n",
       "<g id=\"node60\" class=\"node\">\n",
       "<title>59</title>\n",
       "<text text-anchor=\"start\" x=\"1503.5\" y=\"-373.95\" font-family=\"Courier,monospace\" font-weight=\"bold\" font-size=\"14.00\" fill=\"#004080\">Name</text>\n",
       "</g>\n",
       "<!-- 58&#45;&#45;59 -->\n",
       "<g id=\"edge59\" class=\"edge\">\n",
       "<title>58--59</title>\n",
       "<path fill=\"none\" stroke=\"black\" d=\"M1373.42,-436.32C1407.67,-422.93 1461.07,-402.04 1493.08,-389.53\"/>\n",
       "</g>\n",
       "<!-- 60 -->\n",
       "<g id=\"node61\" class=\"node\">\n",
       "<title>60</title>\n",
       "<text text-anchor=\"middle\" x=\"1520\" y=\"-300.95\" font-family=\"Courier,monospace\" font-size=\"14.00\" fill=\"#008040\">&quot;approx&quot;</text>\n",
       "</g>\n",
       "<!-- 59&#45;&#45;60 -->\n",
       "<g id=\"edge60\" class=\"edge\">\n",
       "<title>59--60</title>\n",
       "<path fill=\"none\" stroke=\"black\" d=\"M1528,-359C1528,-359 1524.91,-338.94 1522.58,-323.74\"/>\n",
       "</g>\n",
       "<!-- 61 -->\n",
       "<g id=\"node62\" class=\"node\">\n",
       "<title>61</title>\n",
       "<text text-anchor=\"middle\" x=\"1606\" y=\"-300.95\" font-family=\"Courier,monospace\" font-size=\"14.00\" fill=\"#008040\">Load</text>\n",
       "</g>\n",
       "<!-- 59&#45;&#45;61 -->\n",
       "<g id=\"edge61\" class=\"edge\">\n",
       "<title>59--61</title>\n",
       "<path fill=\"none\" stroke=\"black\" d=\"M1528,-359C1528,-359 1558.09,-338.94 1580.89,-323.74\"/>\n",
       "</g>\n",
       "</g>\n",
       "</svg>"
      ],
      "text/plain": [
       "<IPython.core.display.SVG object>"
      ]
     },
     "metadata": {},
     "output_type": "display_data"
    }
   ],
   "source": [
    "show_ast(square_root_ast)"
   ]
  },
  {
   "cell_type": "markdown",
   "metadata": {
    "slideshow": {
     "slide_type": "fragment"
    }
   },
   "source": [
    "The function `ast.unparse()` converts such a tree back into the more familiar textual Python code representation.  Comments are gone, and there may be more (or fewer) parentheses than before, but the result has the same semantics:"
   ]
  },
  {
   "cell_type": "code",
   "execution_count": 67,
   "metadata": {
    "execution": {
     "iopub.execute_input": "2025-01-07T11:06:25.770268Z",
     "iopub.status.busy": "2025-01-07T11:06:25.770163Z",
     "iopub.status.idle": "2025-01-07T11:06:25.783064Z",
     "shell.execute_reply": "2025-01-07T11:06:25.782770Z"
    },
    "slideshow": {
     "slide_type": "subslide"
    }
   },
   "outputs": [
    {
     "name": "stdout",
     "output_type": "stream",
     "text": [
      "\u001b[34mdef\u001b[39;49;00m \u001b[32msquare_root\u001b[39;49;00m(x):\u001b[37m\u001b[39;49;00m\n",
      "\u001b[37m    \u001b[39;49;00m\u001b[33m\"\"\"Computes the square root of x, using the Newton-Raphson method\"\"\"\u001b[39;49;00m\u001b[37m\u001b[39;49;00m\n",
      "    approx = \u001b[34mNone\u001b[39;49;00m\u001b[37m\u001b[39;49;00m\n",
      "    guess = x / \u001b[34m2\u001b[39;49;00m\u001b[37m\u001b[39;49;00m\n",
      "    \u001b[34mwhile\u001b[39;49;00m approx != guess:\u001b[37m\u001b[39;49;00m\n",
      "        approx = guess\u001b[37m\u001b[39;49;00m\n",
      "        guess = (approx + x / approx) / \u001b[34m2\u001b[39;49;00m\u001b[37m\u001b[39;49;00m\n",
      "    \u001b[34mreturn\u001b[39;49;00m approx\u001b[37m\u001b[39;49;00m"
     ]
    }
   ],
   "source": [
    "print_content(ast.unparse(square_root_ast), '.py')"
   ]
  },
  {
   "cell_type": "markdown",
   "metadata": {
    "slideshow": {
     "slide_type": "subslide"
    }
   },
   "source": [
    "#### End of Excursion"
   ]
  },
  {
   "cell_type": "markdown",
   "metadata": {
    "slideshow": {
     "slide_type": "subslide"
    }
   },
   "source": [
    "#### Excursion: Annotating Functions with Given Types"
   ]
  },
  {
   "cell_type": "markdown",
   "metadata": {
    "slideshow": {
     "slide_type": "fragment"
    }
   },
   "source": [
    "Let us now go and transform ASTs to add type annotations.  We start with a helper function `parse_type(name)` which  parses a type name into an AST."
   ]
  },
  {
   "cell_type": "code",
   "execution_count": 68,
   "metadata": {
    "execution": {
     "iopub.execute_input": "2025-01-07T11:06:25.784977Z",
     "iopub.status.busy": "2025-01-07T11:06:25.784732Z",
     "iopub.status.idle": "2025-01-07T11:06:25.787263Z",
     "shell.execute_reply": "2025-01-07T11:06:25.786903Z"
    },
    "slideshow": {
     "slide_type": "fragment"
    }
   },
   "outputs": [],
   "source": [
    "def parse_type(name: str) -> ast.expr:\n",
    "    class ValueVisitor(ast.NodeVisitor):\n",
    "        def visit_Expr(self, node: ast.Expr) -> None:\n",
    "            self.value_node = node.value\n",
    "\n",
    "    tree = ast.parse(name)\n",
    "    name_visitor = ValueVisitor()\n",
    "    name_visitor.visit(tree)\n",
    "    return name_visitor.value_node"
   ]
  },
  {
   "cell_type": "code",
   "execution_count": 69,
   "metadata": {
    "execution": {
     "iopub.execute_input": "2025-01-07T11:06:25.789078Z",
     "iopub.status.busy": "2025-01-07T11:06:25.788908Z",
     "iopub.status.idle": "2025-01-07T11:06:25.790729Z",
     "shell.execute_reply": "2025-01-07T11:06:25.790484Z"
    },
    "slideshow": {
     "slide_type": "subslide"
    }
   },
   "outputs": [
    {
     "name": "stdout",
     "output_type": "stream",
     "text": [
      "Name(id='int', ctx=Load())\n"
     ]
    }
   ],
   "source": [
    "print(ast.dump(parse_type('int')))"
   ]
  },
  {
   "cell_type": "code",
   "execution_count": 70,
   "metadata": {
    "execution": {
     "iopub.execute_input": "2025-01-07T11:06:25.792070Z",
     "iopub.status.busy": "2025-01-07T11:06:25.791965Z",
     "iopub.status.idle": "2025-01-07T11:06:25.793656Z",
     "shell.execute_reply": "2025-01-07T11:06:25.793434Z"
    },
    "slideshow": {
     "slide_type": "fragment"
    }
   },
   "outputs": [
    {
     "name": "stdout",
     "output_type": "stream",
     "text": [
      "List(elts=[Name(id='object', ctx=Load())], ctx=Load())\n"
     ]
    }
   ],
   "source": [
    "print(ast.dump(parse_type('[object]')))"
   ]
  },
  {
   "cell_type": "markdown",
   "metadata": {
    "slideshow": {
     "slide_type": "subslide"
    }
   },
   "source": [
    "We now define a helper function that actually adds type annotations to a function AST.  The `TypeTransformer` class builds on the Python standard library `ast.NodeTransformer` infrastructure.  It would be called as\n",
    "\n",
    "```python\n",
    "    TypeTransformer({'x': 'int'}, 'float').visit(ast)\n",
    "```\n",
    "\n",
    "to annotate the arguments of `square_root()`: `x` with `int`, and the return type with `float`.  The returned AST can then be unparsed, compiled or analyzed."
   ]
  },
  {
   "cell_type": "code",
   "execution_count": 71,
   "metadata": {
    "execution": {
     "iopub.execute_input": "2025-01-07T11:06:25.794883Z",
     "iopub.status.busy": "2025-01-07T11:06:25.794803Z",
     "iopub.status.idle": "2025-01-07T11:06:25.796638Z",
     "shell.execute_reply": "2025-01-07T11:06:25.796425Z"
    },
    "slideshow": {
     "slide_type": "subslide"
    }
   },
   "outputs": [],
   "source": [
    "class TypeTransformer(ast.NodeTransformer):\n",
    "    def __init__(self, argument_types: Dict[str, str], return_type: Optional[str] = None):\n",
    "        self.argument_types = argument_types\n",
    "        self.return_type = return_type\n",
    "        super().__init__()"
   ]
  },
  {
   "cell_type": "markdown",
   "metadata": {
    "slideshow": {
     "slide_type": "fragment"
    }
   },
   "source": [
    "The core of `TypeTransformer` is the method `visit_FunctionDef()`, which is called for every function definition in the AST.  Its argument `node` is the subtree of the function definition to be transformed.  Our implementation accesses the individual arguments and invokes `annotate_args()` on them; it also sets the return type in the `returns` attribute of the node."
   ]
  },
  {
   "cell_type": "code",
   "execution_count": 72,
   "metadata": {
    "execution": {
     "iopub.execute_input": "2025-01-07T11:06:25.797949Z",
     "iopub.status.busy": "2025-01-07T11:06:25.797866Z",
     "iopub.status.idle": "2025-01-07T11:06:25.800327Z",
     "shell.execute_reply": "2025-01-07T11:06:25.800054Z"
    },
    "slideshow": {
     "slide_type": "subslide"
    }
   },
   "outputs": [],
   "source": [
    "class TypeTransformer(TypeTransformer):\n",
    "    def visit_FunctionDef(self, node: ast.FunctionDef) -> ast.FunctionDef:\n",
    "        \"\"\"Add annotation to function\"\"\"\n",
    "        # Set argument types\n",
    "        new_args = []\n",
    "        for arg in node.args.args:\n",
    "            new_args.append(self.annotate_arg(arg))\n",
    "\n",
    "        new_arguments = ast.arguments(\n",
    "            node.args.posonlyargs,\n",
    "            new_args,\n",
    "            node.args.vararg,\n",
    "            node.args.kwonlyargs,\n",
    "            node.args.kw_defaults,\n",
    "            node.args.kwarg,\n",
    "            node.args.defaults\n",
    "        )\n",
    "\n",
    "        # Set return type\n",
    "        if self.return_type is not None:\n",
    "            node.returns = parse_type(self.return_type)\n",
    "\n",
    "        return ast.copy_location(\n",
    "            ast.FunctionDef(node.name, new_arguments,\n",
    "                            node.body, node.decorator_list,\n",
    "                            node.returns), node)  # type: ignore"
   ]
  },
  {
   "cell_type": "markdown",
   "metadata": {
    "slideshow": {
     "slide_type": "subslide"
    }
   },
   "source": [
    "Each argument gets its own annotation, taken from the types originally passed to the class:"
   ]
  },
  {
   "cell_type": "code",
   "execution_count": 73,
   "metadata": {
    "execution": {
     "iopub.execute_input": "2025-01-07T11:06:25.802192Z",
     "iopub.status.busy": "2025-01-07T11:06:25.802056Z",
     "iopub.status.idle": "2025-01-07T11:06:25.804286Z",
     "shell.execute_reply": "2025-01-07T11:06:25.804044Z"
    },
    "slideshow": {
     "slide_type": "fragment"
    }
   },
   "outputs": [],
   "source": [
    "class TypeTransformer(TypeTransformer):\n",
    "    def annotate_arg(self, arg: ast.arg) -> ast.arg:\n",
    "        \"\"\"Add annotation to single function argument\"\"\"\n",
    "        arg_name = arg.arg\n",
    "        if arg_name in self.argument_types:\n",
    "            arg.annotation = parse_type(self.argument_types[arg_name])\n",
    "\n",
    "        return arg"
   ]
  },
  {
   "cell_type": "markdown",
   "metadata": {
    "slideshow": {
     "slide_type": "fragment"
    }
   },
   "source": [
    "Does this work?  Let us annotate the AST from `square_root()` with types for the arguments and return types:"
   ]
  },
  {
   "cell_type": "code",
   "execution_count": 74,
   "metadata": {
    "execution": {
     "iopub.execute_input": "2025-01-07T11:06:25.805643Z",
     "iopub.status.busy": "2025-01-07T11:06:25.805541Z",
     "iopub.status.idle": "2025-01-07T11:06:25.807322Z",
     "shell.execute_reply": "2025-01-07T11:06:25.807090Z"
    },
    "slideshow": {
     "slide_type": "fragment"
    }
   },
   "outputs": [],
   "source": [
    "new_ast = TypeTransformer({'x': 'int'}, 'float').visit(square_root_ast)"
   ]
  },
  {
   "cell_type": "markdown",
   "metadata": {
    "slideshow": {
     "slide_type": "fragment"
    }
   },
   "source": [
    "When we unparse the new AST, we see that the annotations actually are present:"
   ]
  },
  {
   "cell_type": "code",
   "execution_count": 75,
   "metadata": {
    "execution": {
     "iopub.execute_input": "2025-01-07T11:06:25.808863Z",
     "iopub.status.busy": "2025-01-07T11:06:25.808731Z",
     "iopub.status.idle": "2025-01-07T11:06:25.821191Z",
     "shell.execute_reply": "2025-01-07T11:06:25.820916Z"
    },
    "slideshow": {
     "slide_type": "subslide"
    }
   },
   "outputs": [
    {
     "name": "stdout",
     "output_type": "stream",
     "text": [
      "\u001b[34mdef\u001b[39;49;00m \u001b[32msquare_root\u001b[39;49;00m(x: \u001b[36mint\u001b[39;49;00m) -> \u001b[36mfloat\u001b[39;49;00m:\u001b[37m\u001b[39;49;00m\n",
      "\u001b[37m    \u001b[39;49;00m\u001b[33m\"\"\"Computes the square root of x, using the Newton-Raphson method\"\"\"\u001b[39;49;00m\u001b[37m\u001b[39;49;00m\n",
      "    approx = \u001b[34mNone\u001b[39;49;00m\u001b[37m\u001b[39;49;00m\n",
      "    guess = x / \u001b[34m2\u001b[39;49;00m\u001b[37m\u001b[39;49;00m\n",
      "    \u001b[34mwhile\u001b[39;49;00m approx != guess:\u001b[37m\u001b[39;49;00m\n",
      "        approx = guess\u001b[37m\u001b[39;49;00m\n",
      "        guess = (approx + x / approx) / \u001b[34m2\u001b[39;49;00m\u001b[37m\u001b[39;49;00m\n",
      "    \u001b[34mreturn\u001b[39;49;00m approx\u001b[37m\u001b[39;49;00m"
     ]
    }
   ],
   "source": [
    "print_content(ast.unparse(new_ast), '.py')"
   ]
  },
  {
   "cell_type": "markdown",
   "metadata": {
    "slideshow": {
     "slide_type": "fragment"
    }
   },
   "source": [
    "Similarly, we can annotate the `hello()` function from above:"
   ]
  },
  {
   "cell_type": "code",
   "execution_count": 76,
   "metadata": {
    "execution": {
     "iopub.execute_input": "2025-01-07T11:06:25.822620Z",
     "iopub.status.busy": "2025-01-07T11:06:25.822527Z",
     "iopub.status.idle": "2025-01-07T11:06:25.824414Z",
     "shell.execute_reply": "2025-01-07T11:06:25.824151Z"
    },
    "slideshow": {
     "slide_type": "fragment"
    }
   },
   "outputs": [],
   "source": [
    "hello_source = inspect.getsource(hello)"
   ]
  },
  {
   "cell_type": "code",
   "execution_count": 77,
   "metadata": {
    "execution": {
     "iopub.execute_input": "2025-01-07T11:06:25.825838Z",
     "iopub.status.busy": "2025-01-07T11:06:25.825743Z",
     "iopub.status.idle": "2025-01-07T11:06:25.828143Z",
     "shell.execute_reply": "2025-01-07T11:06:25.827554Z"
    },
    "slideshow": {
     "slide_type": "fragment"
    }
   },
   "outputs": [],
   "source": [
    "hello_ast = ast.parse(hello_source)"
   ]
  },
  {
   "cell_type": "code",
   "execution_count": 78,
   "metadata": {
    "execution": {
     "iopub.execute_input": "2025-01-07T11:06:25.830302Z",
     "iopub.status.busy": "2025-01-07T11:06:25.830136Z",
     "iopub.status.idle": "2025-01-07T11:06:25.832203Z",
     "shell.execute_reply": "2025-01-07T11:06:25.831914Z"
    },
    "slideshow": {
     "slide_type": "fragment"
    }
   },
   "outputs": [],
   "source": [
    "new_ast = TypeTransformer({'name': 'str'}, 'None').visit(hello_ast)"
   ]
  },
  {
   "cell_type": "code",
   "execution_count": 79,
   "metadata": {
    "execution": {
     "iopub.execute_input": "2025-01-07T11:06:25.833819Z",
     "iopub.status.busy": "2025-01-07T11:06:25.833695Z",
     "iopub.status.idle": "2025-01-07T11:06:25.845628Z",
     "shell.execute_reply": "2025-01-07T11:06:25.845118Z"
    },
    "slideshow": {
     "slide_type": "subslide"
    }
   },
   "outputs": [
    {
     "name": "stdout",
     "output_type": "stream",
     "text": [
      "\u001b[34mdef\u001b[39;49;00m \u001b[32mhello\u001b[39;49;00m(name: \u001b[36mstr\u001b[39;49;00m) -> \u001b[34mNone\u001b[39;49;00m:\u001b[37m\u001b[39;49;00m\n",
      "    \u001b[36mprint\u001b[39;49;00m(\u001b[33m'\u001b[39;49;00m\u001b[33mHello,\u001b[39;49;00m\u001b[33m'\u001b[39;49;00m, name)\u001b[37m\u001b[39;49;00m"
     ]
    }
   ],
   "source": [
    "print_content(ast.unparse(new_ast), '.py')"
   ]
  },
  {
   "cell_type": "markdown",
   "metadata": {
    "slideshow": {
     "slide_type": "subslide"
    }
   },
   "source": [
    "#### End of Excursion"
   ]
  },
  {
   "cell_type": "markdown",
   "metadata": {
    "slideshow": {
     "slide_type": "subslide"
    }
   },
   "source": [
    "#### Excursion: Annotating Functions with Mined Types"
   ]
  },
  {
   "cell_type": "markdown",
   "metadata": {
    "slideshow": {
     "slide_type": "fragment"
    }
   },
   "source": [
    "Let us now annotate functions with types mined at runtime. We start with a simple function `type_string()` that determines \n",
    "the appropriate type of a given value (as a string):"
   ]
  },
  {
   "cell_type": "code",
   "execution_count": 80,
   "metadata": {
    "execution": {
     "iopub.execute_input": "2025-01-07T11:06:25.847356Z",
     "iopub.status.busy": "2025-01-07T11:06:25.847232Z",
     "iopub.status.idle": "2025-01-07T11:06:25.849063Z",
     "shell.execute_reply": "2025-01-07T11:06:25.848769Z"
    },
    "slideshow": {
     "slide_type": "fragment"
    }
   },
   "outputs": [],
   "source": [
    "def type_string(value: Any) -> str:\n",
    "    return type(value).__name__"
   ]
  },
  {
   "cell_type": "code",
   "execution_count": 81,
   "metadata": {
    "execution": {
     "iopub.execute_input": "2025-01-07T11:06:25.850484Z",
     "iopub.status.busy": "2025-01-07T11:06:25.850359Z",
     "iopub.status.idle": "2025-01-07T11:06:25.852446Z",
     "shell.execute_reply": "2025-01-07T11:06:25.852191Z"
    },
    "slideshow": {
     "slide_type": "fragment"
    }
   },
   "outputs": [
    {
     "data": {
      "text/plain": [
       "'int'"
      ]
     },
     "execution_count": 81,
     "metadata": {},
     "output_type": "execute_result"
    }
   ],
   "source": [
    "type_string(4)"
   ]
  },
  {
   "cell_type": "code",
   "execution_count": 82,
   "metadata": {
    "execution": {
     "iopub.execute_input": "2025-01-07T11:06:25.853717Z",
     "iopub.status.busy": "2025-01-07T11:06:25.853610Z",
     "iopub.status.idle": "2025-01-07T11:06:25.856048Z",
     "shell.execute_reply": "2025-01-07T11:06:25.855670Z"
    },
    "slideshow": {
     "slide_type": "fragment"
    }
   },
   "outputs": [
    {
     "data": {
      "text/plain": [
       "'list'"
      ]
     },
     "execution_count": 82,
     "metadata": {},
     "output_type": "execute_result"
    }
   ],
   "source": [
    "type_string([])"
   ]
  },
  {
   "cell_type": "markdown",
   "metadata": {
    "slideshow": {
     "slide_type": "fragment"
    }
   },
   "source": [
    "For composite structures, `type_string()` does not examine element types; hence, the type of `[3]` is simply `list` instead of, say, `list[int]`.  For now, `list` will do fine."
   ]
  },
  {
   "cell_type": "code",
   "execution_count": 83,
   "metadata": {
    "execution": {
     "iopub.execute_input": "2025-01-07T11:06:25.857899Z",
     "iopub.status.busy": "2025-01-07T11:06:25.857734Z",
     "iopub.status.idle": "2025-01-07T11:06:25.859968Z",
     "shell.execute_reply": "2025-01-07T11:06:25.859744Z"
    },
    "slideshow": {
     "slide_type": "subslide"
    }
   },
   "outputs": [
    {
     "data": {
      "text/plain": [
       "'list'"
      ]
     },
     "execution_count": 83,
     "metadata": {},
     "output_type": "execute_result"
    }
   ],
   "source": [
    "type_string([3])"
   ]
  },
  {
   "cell_type": "markdown",
   "metadata": {
    "slideshow": {
     "slide_type": "fragment"
    }
   },
   "source": [
    "`type_string()` will be used to infer the types of argument values found at runtime, as returned by `CallTracer.all_calls()`:"
   ]
  },
  {
   "cell_type": "code",
   "execution_count": 84,
   "metadata": {
    "button": false,
    "execution": {
     "iopub.execute_input": "2025-01-07T11:06:25.861224Z",
     "iopub.status.busy": "2025-01-07T11:06:25.861126Z",
     "iopub.status.idle": "2025-01-07T11:06:25.862993Z",
     "shell.execute_reply": "2025-01-07T11:06:25.862781Z"
    },
    "new_sheet": false,
    "run_control": {
     "read_only": false
    },
    "slideshow": {
     "slide_type": "skip"
    }
   },
   "outputs": [],
   "source": [
    "with CallTracer() as tracer:\n",
    "    y = square_root(25.0)\n",
    "    y = square_root(2.0)"
   ]
  },
  {
   "cell_type": "code",
   "execution_count": 85,
   "metadata": {
    "button": false,
    "code_folding": [],
    "execution": {
     "iopub.execute_input": "2025-01-07T11:06:25.864153Z",
     "iopub.status.busy": "2025-01-07T11:06:25.864073Z",
     "iopub.status.idle": "2025-01-07T11:06:25.866183Z",
     "shell.execute_reply": "2025-01-07T11:06:25.865923Z"
    },
    "new_sheet": false,
    "run_control": {
     "read_only": false
    },
    "slideshow": {
     "slide_type": "subslide"
    }
   },
   "outputs": [
    {
     "data": {
      "text/plain": [
       "{'square_root': [([('x', 25.0)], 5.0), ([('x', 2.0)], 1.414213562373095)]}"
      ]
     },
     "execution_count": 85,
     "metadata": {},
     "output_type": "execute_result"
    }
   ],
   "source": [
    "tracer.all_calls()"
   ]
  },
  {
   "cell_type": "markdown",
   "metadata": {
    "slideshow": {
     "slide_type": "fragment"
    }
   },
   "source": [
    "The function `annotate_types()` takes such a list of calls and annotates each function listed:"
   ]
  },
  {
   "cell_type": "code",
   "execution_count": 86,
   "metadata": {
    "execution": {
     "iopub.execute_input": "2025-01-07T11:06:25.867564Z",
     "iopub.status.busy": "2025-01-07T11:06:25.867457Z",
     "iopub.status.idle": "2025-01-07T11:06:25.869126Z",
     "shell.execute_reply": "2025-01-07T11:06:25.868855Z"
    },
    "slideshow": {
     "slide_type": "skip"
    }
   },
   "outputs": [],
   "source": [
    "from StackInspector import StackInspector"
   ]
  },
  {
   "cell_type": "code",
   "execution_count": 87,
   "metadata": {
    "execution": {
     "iopub.execute_input": "2025-01-07T11:06:25.870689Z",
     "iopub.status.busy": "2025-01-07T11:06:25.870519Z",
     "iopub.status.idle": "2025-01-07T11:06:25.872828Z",
     "shell.execute_reply": "2025-01-07T11:06:25.872475Z"
    },
    "slideshow": {
     "slide_type": "subslide"
    }
   },
   "outputs": [],
   "source": [
    "def annotate_types(calls: Dict[str, List[Tuple[Arguments, Any]]]) \\\n",
    "        -> Dict[str, ast.AST]:\n",
    "    annotated_functions = {}\n",
    "    stack_inspector = StackInspector()\n",
    "\n",
    "    for function_name in calls:\n",
    "        function = stack_inspector.search_func(function_name)\n",
    "        if function:\n",
    "            annotated_functions[function_name] = \\\n",
    "                annotate_function_with_types(function, calls[function_name])\n",
    "\n",
    "    return annotated_functions"
   ]
  },
  {
   "cell_type": "markdown",
   "metadata": {
    "slideshow": {
     "slide_type": "fragment"
    }
   },
   "source": [
    "For each function, we get the source and its AST and then get to the actual annotation in `annotate_function_ast_with_types()`:"
   ]
  },
  {
   "cell_type": "code",
   "execution_count": 88,
   "metadata": {
    "execution": {
     "iopub.execute_input": "2025-01-07T11:06:25.874298Z",
     "iopub.status.busy": "2025-01-07T11:06:25.874193Z",
     "iopub.status.idle": "2025-01-07T11:06:25.876157Z",
     "shell.execute_reply": "2025-01-07T11:06:25.875898Z"
    },
    "slideshow": {
     "slide_type": "subslide"
    }
   },
   "outputs": [],
   "source": [
    "def annotate_function_with_types(function: Callable,\n",
    "                                 function_calls: List[Tuple[Arguments, Any]]) -> ast.AST:\n",
    "    function_code = inspect.getsource(function)\n",
    "    function_ast = ast.parse(function_code)\n",
    "    return annotate_function_ast_with_types(function_ast, function_calls)"
   ]
  },
  {
   "cell_type": "markdown",
   "metadata": {
    "slideshow": {
     "slide_type": "fragment"
    }
   },
   "source": [
    "The function `annotate_function_ast_with_types()` invokes the `TypeTransformer` with the calls seen, and for each call, iterate over the arguments, determine their types, and annotate the AST with these.  The universal type `Any` is used when we encounter type conflicts, which we will discuss below."
   ]
  },
  {
   "cell_type": "code",
   "execution_count": 89,
   "metadata": {
    "execution": {
     "iopub.execute_input": "2025-01-07T11:06:25.877471Z",
     "iopub.status.busy": "2025-01-07T11:06:25.877373Z",
     "iopub.status.idle": "2025-01-07T11:06:25.880060Z",
     "shell.execute_reply": "2025-01-07T11:06:25.879686Z"
    },
    "slideshow": {
     "slide_type": "subslide"
    }
   },
   "outputs": [],
   "source": [
    "def annotate_function_ast_with_types(function_ast: ast.AST,\n",
    "                                     function_calls: List[Tuple[Arguments, Any]]) -> ast.AST:\n",
    "    parameter_types: Dict[str, str] = {}\n",
    "    return_type = None\n",
    "\n",
    "    for calls_seen in function_calls:\n",
    "        args, return_value = calls_seen\n",
    "        if return_value:\n",
    "            if return_type and return_type != type_string(return_value):\n",
    "                return_type = 'Any'\n",
    "            else:\n",
    "                return_type = type_string(return_value)\n",
    "\n",
    "        for parameter, value in args:\n",
    "            try:\n",
    "                different_type = (parameter_types[parameter] !=\n",
    "                                  type_string(value))\n",
    "            except KeyError:\n",
    "                different_type = False\n",
    "\n",
    "            if different_type:\n",
    "                parameter_types[parameter] = 'Any'\n",
    "            else:\n",
    "                parameter_types[parameter] = type_string(value)\n",
    "\n",
    "    annotated_function_ast = \\\n",
    "        TypeTransformer(parameter_types, return_type).visit(function_ast)\n",
    "\n",
    "    return annotated_function_ast"
   ]
  },
  {
   "cell_type": "markdown",
   "metadata": {
    "slideshow": {
     "slide_type": "subslide"
    }
   },
   "source": [
    "Here is `square_root()` annotated with the types recorded usign the tracer, above."
   ]
  },
  {
   "cell_type": "code",
   "execution_count": 90,
   "metadata": {
    "execution": {
     "iopub.execute_input": "2025-01-07T11:06:25.881625Z",
     "iopub.status.busy": "2025-01-07T11:06:25.881507Z",
     "iopub.status.idle": "2025-01-07T11:06:25.893998Z",
     "shell.execute_reply": "2025-01-07T11:06:25.893698Z"
    },
    "slideshow": {
     "slide_type": "fragment"
    }
   },
   "outputs": [
    {
     "name": "stdout",
     "output_type": "stream",
     "text": [
      "\u001b[34mdef\u001b[39;49;00m \u001b[32msquare_root\u001b[39;49;00m(x: \u001b[36mfloat\u001b[39;49;00m) -> \u001b[36mfloat\u001b[39;49;00m:\u001b[37m\u001b[39;49;00m\n",
      "\u001b[37m    \u001b[39;49;00m\u001b[33m\"\"\"Computes the square root of x, using the Newton-Raphson method\"\"\"\u001b[39;49;00m\u001b[37m\u001b[39;49;00m\n",
      "    approx = \u001b[34mNone\u001b[39;49;00m\u001b[37m\u001b[39;49;00m\n",
      "    guess = x / \u001b[34m2\u001b[39;49;00m\u001b[37m\u001b[39;49;00m\n",
      "    \u001b[34mwhile\u001b[39;49;00m approx != guess:\u001b[37m\u001b[39;49;00m\n",
      "        approx = guess\u001b[37m\u001b[39;49;00m\n",
      "        guess = (approx + x / approx) / \u001b[34m2\u001b[39;49;00m\u001b[37m\u001b[39;49;00m\n",
      "    \u001b[34mreturn\u001b[39;49;00m approx\u001b[37m\u001b[39;49;00m"
     ]
    }
   ],
   "source": [
    "print_content(ast.unparse(annotate_types(tracer.all_calls())['square_root']), '.py')"
   ]
  },
  {
   "cell_type": "markdown",
   "metadata": {
    "slideshow": {
     "slide_type": "subslide"
    }
   },
   "source": [
    "#### End of Excursion"
   ]
  },
  {
   "cell_type": "markdown",
   "metadata": {
    "slideshow": {
     "slide_type": "subslide"
    }
   },
   "source": [
    "#### Excursion: A Type Annotator Class"
   ]
  },
  {
   "cell_type": "markdown",
   "metadata": {
    "slideshow": {
     "slide_type": "fragment"
    }
   },
   "source": [
    "Let us bring all of this together in a single class `TypeAnnotator` that first tracks calls of functions and then allows accessing the AST (and the source code form) of the tracked functions annotated with types.  The method `typed_functions()` returns the annotated functions as a string; `typed_functions_ast()` returns their AST."
   ]
  },
  {
   "cell_type": "code",
   "execution_count": 91,
   "metadata": {
    "execution": {
     "iopub.execute_input": "2025-01-07T11:06:25.895637Z",
     "iopub.status.busy": "2025-01-07T11:06:25.895478Z",
     "iopub.status.idle": "2025-01-07T11:06:25.897345Z",
     "shell.execute_reply": "2025-01-07T11:06:25.897071Z"
    },
    "slideshow": {
     "slide_type": "fragment"
    }
   },
   "outputs": [],
   "source": [
    "class TypeTracer(CallTracer):\n",
    "    pass"
   ]
  },
  {
   "cell_type": "code",
   "execution_count": 92,
   "metadata": {
    "execution": {
     "iopub.execute_input": "2025-01-07T11:06:25.898959Z",
     "iopub.status.busy": "2025-01-07T11:06:25.898833Z",
     "iopub.status.idle": "2025-01-07T11:06:25.901899Z",
     "shell.execute_reply": "2025-01-07T11:06:25.901672Z"
    },
    "slideshow": {
     "slide_type": "subslide"
    }
   },
   "outputs": [],
   "source": [
    "class TypeAnnotator(TypeTracer):\n",
    "    def typed_functions_ast(self) -> Dict[str, ast.AST]:\n",
    "        \"\"\"Return a dict name -> AST for all functions observed, annotated with types\"\"\"\n",
    "        return annotate_types(self.all_calls())\n",
    "\n",
    "    def typed_function_ast(self, function_name: str) -> Optional[ast.AST]:\n",
    "        \"\"\"Return an AST for all calls of `function_name` observed, annotated with types\"\"\"\n",
    "        function = self.search_func(function_name)\n",
    "        if not function:\n",
    "            return None\n",
    "        return annotate_function_with_types(function, self.calls(function_name))\n",
    "\n",
    "    def typed_functions(self) -> str:\n",
    "        \"\"\"Return the code for all functions observed, annotated with types\"\"\"\n",
    "        functions = ''\n",
    "        for f_name in self.all_calls():\n",
    "            f_ast = self.typed_function_ast(f_name)\n",
    "            if f_ast:\n",
    "                functions += ast.unparse(f_ast)\n",
    "            else:\n",
    "                functions += '# Could not find function ' + repr(f_name)\n",
    "\n",
    "        return functions\n",
    "\n",
    "    def typed_function(self, function_name: str) -> str:\n",
    "        \"\"\"Return the code for all calls of `function_name` observed, annotated with types\"\"\"\n",
    "        function_ast = self.typed_function_ast(function_name)\n",
    "        if not function_ast:\n",
    "            raise KeyError\n",
    "        return ast.unparse(function_ast)\n",
    "\n",
    "    def __repr__(self) -> str:\n",
    "        \"\"\"String representation, like `typed_functions()`\"\"\"\n",
    "        return self.typed_functions()"
   ]
  },
  {
   "cell_type": "markdown",
   "metadata": {
    "slideshow": {
     "slide_type": "subslide"
    }
   },
   "source": [
    "#### End of Excursion"
   ]
  },
  {
   "cell_type": "markdown",
   "metadata": {
    "slideshow": {
     "slide_type": "fragment"
    }
   },
   "source": [
    "Here is how to use `TypeAnnotator`.  We first track a series of calls:"
   ]
  },
  {
   "cell_type": "code",
   "execution_count": 93,
   "metadata": {
    "execution": {
     "iopub.execute_input": "2025-01-07T11:06:25.903252Z",
     "iopub.status.busy": "2025-01-07T11:06:25.903171Z",
     "iopub.status.idle": "2025-01-07T11:06:25.905101Z",
     "shell.execute_reply": "2025-01-07T11:06:25.904820Z"
    },
    "slideshow": {
     "slide_type": "fragment"
    }
   },
   "outputs": [],
   "source": [
    "with TypeAnnotator() as annotator:\n",
    "    y = square_root(25.0)\n",
    "    y = square_root(2.0)"
   ]
  },
  {
   "cell_type": "markdown",
   "metadata": {
    "slideshow": {
     "slide_type": "fragment"
    }
   },
   "source": [
    "After tracking, we can immediately retrieve an annotated version of the functions tracked:"
   ]
  },
  {
   "cell_type": "code",
   "execution_count": 94,
   "metadata": {
    "execution": {
     "iopub.execute_input": "2025-01-07T11:06:25.906297Z",
     "iopub.status.busy": "2025-01-07T11:06:25.906220Z",
     "iopub.status.idle": "2025-01-07T11:06:25.917889Z",
     "shell.execute_reply": "2025-01-07T11:06:25.917593Z"
    },
    "slideshow": {
     "slide_type": "subslide"
    }
   },
   "outputs": [
    {
     "name": "stdout",
     "output_type": "stream",
     "text": [
      "\u001b[34mdef\u001b[39;49;00m \u001b[32msquare_root\u001b[39;49;00m(x: \u001b[36mfloat\u001b[39;49;00m) -> \u001b[36mfloat\u001b[39;49;00m:\u001b[37m\u001b[39;49;00m\n",
      "\u001b[37m    \u001b[39;49;00m\u001b[33m\"\"\"Computes the square root of x, using the Newton-Raphson method\"\"\"\u001b[39;49;00m\u001b[37m\u001b[39;49;00m\n",
      "    approx = \u001b[34mNone\u001b[39;49;00m\u001b[37m\u001b[39;49;00m\n",
      "    guess = x / \u001b[34m2\u001b[39;49;00m\u001b[37m\u001b[39;49;00m\n",
      "    \u001b[34mwhile\u001b[39;49;00m approx != guess:\u001b[37m\u001b[39;49;00m\n",
      "        approx = guess\u001b[37m\u001b[39;49;00m\n",
      "        guess = (approx + x / approx) / \u001b[34m2\u001b[39;49;00m\u001b[37m\u001b[39;49;00m\n",
      "    \u001b[34mreturn\u001b[39;49;00m approx\u001b[37m\u001b[39;49;00m"
     ]
    }
   ],
   "source": [
    "print_content(annotator.typed_functions(), '.py')"
   ]
  },
  {
   "cell_type": "markdown",
   "metadata": {
    "slideshow": {
     "slide_type": "fragment"
    }
   },
   "source": [
    "This also works for multiple and diverse functions.  One could go and implement an automatic type annotator for Python files based on the types seen during execution."
   ]
  },
  {
   "cell_type": "code",
   "execution_count": 95,
   "metadata": {
    "execution": {
     "iopub.execute_input": "2025-01-07T11:06:25.919279Z",
     "iopub.status.busy": "2025-01-07T11:06:25.919173Z",
     "iopub.status.idle": "2025-01-07T11:06:25.921688Z",
     "shell.execute_reply": "2025-01-07T11:06:25.921428Z"
    },
    "slideshow": {
     "slide_type": "subslide"
    }
   },
   "outputs": [
    {
     "name": "stdout",
     "output_type": "stream",
     "text": [
      "Hello, type annotations\n"
     ]
    }
   ],
   "source": [
    "with TypeAnnotator() as annotator:\n",
    "    hello('type annotations')\n",
    "    y = square_root(1.0)"
   ]
  },
  {
   "cell_type": "code",
   "execution_count": 96,
   "metadata": {
    "execution": {
     "iopub.execute_input": "2025-01-07T11:06:25.923072Z",
     "iopub.status.busy": "2025-01-07T11:06:25.922947Z",
     "iopub.status.idle": "2025-01-07T11:06:25.935382Z",
     "shell.execute_reply": "2025-01-07T11:06:25.935141Z"
    },
    "slideshow": {
     "slide_type": "fragment"
    }
   },
   "outputs": [
    {
     "name": "stdout",
     "output_type": "stream",
     "text": [
      "\u001b[37m# Could not find function 'parent_header'# Could not find function '_is_master_process'# Could not find function 'utcoffset'# Could not find function 'is_set'# Could not find function '_wait_for_tstate_lock'# Could not find function 'is_alive'# Could not find function '_event_pipe'# Could not find function 'send'# Could not find function 'schedule'# Could not find function '_schedule_flush'# Could not find function 'write'def hello(name: str) -> None:\u001b[39;49;00m\u001b[37m\u001b[39;49;00m\n",
      "    \u001b[36mprint\u001b[39;49;00m(\u001b[33m'\u001b[39;49;00m\u001b[33mHello,\u001b[39;49;00m\u001b[33m'\u001b[39;49;00m, name)\u001b[34mdef\u001b[39;49;00m \u001b[32msquare_root\u001b[39;49;00m(x: \u001b[36mfloat\u001b[39;49;00m) -> \u001b[36mfloat\u001b[39;49;00m:\u001b[37m\u001b[39;49;00m\n",
      "\u001b[37m    \u001b[39;49;00m\u001b[33m\"\"\"Computes the square root of x, using the Newton-Raphson method\"\"\"\u001b[39;49;00m\u001b[37m\u001b[39;49;00m\n",
      "    approx = \u001b[34mNone\u001b[39;49;00m\u001b[37m\u001b[39;49;00m\n",
      "    guess = x / \u001b[34m2\u001b[39;49;00m\u001b[37m\u001b[39;49;00m\n",
      "    \u001b[34mwhile\u001b[39;49;00m approx != guess:\u001b[37m\u001b[39;49;00m\n",
      "        approx = guess\u001b[37m\u001b[39;49;00m\n",
      "        guess = (approx + x / approx) / \u001b[34m2\u001b[39;49;00m\u001b[37m\u001b[39;49;00m\n",
      "    \u001b[34mreturn\u001b[39;49;00m approx\u001b[37m\u001b[39;49;00m"
     ]
    }
   ],
   "source": [
    "print_content(annotator.typed_functions(), '.py')"
   ]
  },
  {
   "cell_type": "markdown",
   "metadata": {
    "slideshow": {
     "slide_type": "subslide"
    }
   },
   "source": [
    "A content as above could now be sent to a type checker, which would detect any type inconsistency between callers and callees."
   ]
  },
  {
   "cell_type": "markdown",
   "metadata": {
    "slideshow": {
     "slide_type": "subslide"
    }
   },
   "source": [
    "#### Excursion: Handling Multiple Types\n",
    "\n",
    "Let us now resolve the role of the magic `Any` type in `annotate_function_ast_with_types()`.  If we see multiple types for the same argument, we set its type to `Any`.  For `square_root()`, this makes sense, as its arguments can be integers as well as floats:"
   ]
  },
  {
   "cell_type": "code",
   "execution_count": 97,
   "metadata": {
    "button": false,
    "execution": {
     "iopub.execute_input": "2025-01-07T11:06:25.936826Z",
     "iopub.status.busy": "2025-01-07T11:06:25.936730Z",
     "iopub.status.idle": "2025-01-07T11:06:25.939136Z",
     "shell.execute_reply": "2025-01-07T11:06:25.938820Z"
    },
    "new_sheet": false,
    "run_control": {
     "read_only": false
    },
    "slideshow": {
     "slide_type": "skip"
    }
   },
   "outputs": [],
   "source": [
    "with CallTracer() as tracer:\n",
    "    y = square_root(25.0)\n",
    "    y = square_root(4)"
   ]
  },
  {
   "cell_type": "code",
   "execution_count": 98,
   "metadata": {
    "execution": {
     "iopub.execute_input": "2025-01-07T11:06:25.941009Z",
     "iopub.status.busy": "2025-01-07T11:06:25.940571Z",
     "iopub.status.idle": "2025-01-07T11:06:25.952417Z",
     "shell.execute_reply": "2025-01-07T11:06:25.952139Z"
    },
    "slideshow": {
     "slide_type": "subslide"
    }
   },
   "outputs": [
    {
     "name": "stdout",
     "output_type": "stream",
     "text": [
      "\u001b[34mdef\u001b[39;49;00m \u001b[32msquare_root\u001b[39;49;00m(x: Any) -> \u001b[36mfloat\u001b[39;49;00m:\u001b[37m\u001b[39;49;00m\n",
      "\u001b[37m    \u001b[39;49;00m\u001b[33m\"\"\"Computes the square root of x, using the Newton-Raphson method\"\"\"\u001b[39;49;00m\u001b[37m\u001b[39;49;00m\n",
      "    approx = \u001b[34mNone\u001b[39;49;00m\u001b[37m\u001b[39;49;00m\n",
      "    guess = x / \u001b[34m2\u001b[39;49;00m\u001b[37m\u001b[39;49;00m\n",
      "    \u001b[34mwhile\u001b[39;49;00m approx != guess:\u001b[37m\u001b[39;49;00m\n",
      "        approx = guess\u001b[37m\u001b[39;49;00m\n",
      "        guess = (approx + x / approx) / \u001b[34m2\u001b[39;49;00m\u001b[37m\u001b[39;49;00m\n",
      "    \u001b[34mreturn\u001b[39;49;00m approx\u001b[37m\u001b[39;49;00m"
     ]
    }
   ],
   "source": [
    "annotated_square_root_ast = annotate_types(tracer.all_calls())['square_root']\n",
    "print_content(ast.unparse(annotated_square_root_ast), '.py')"
   ]
  },
  {
   "cell_type": "markdown",
   "metadata": {
    "slideshow": {
     "slide_type": "fragment"
    }
   },
   "source": [
    "The following function `sum3()` can be called with floating-point numbers as arguments, resulting in the parameters getting a `float` type:"
   ]
  },
  {
   "cell_type": "code",
   "execution_count": 99,
   "metadata": {
    "execution": {
     "iopub.execute_input": "2025-01-07T11:06:25.953969Z",
     "iopub.status.busy": "2025-01-07T11:06:25.953862Z",
     "iopub.status.idle": "2025-01-07T11:06:25.955941Z",
     "shell.execute_reply": "2025-01-07T11:06:25.955587Z"
    },
    "slideshow": {
     "slide_type": "fragment"
    }
   },
   "outputs": [],
   "source": [
    "def sum3(a, b, c):  # type: ignore\n",
    "    return a + b + c"
   ]
  },
  {
   "cell_type": "code",
   "execution_count": 100,
   "metadata": {
    "execution": {
     "iopub.execute_input": "2025-01-07T11:06:25.957378Z",
     "iopub.status.busy": "2025-01-07T11:06:25.957252Z",
     "iopub.status.idle": "2025-01-07T11:06:25.960178Z",
     "shell.execute_reply": "2025-01-07T11:06:25.959757Z"
    },
    "slideshow": {
     "slide_type": "subslide"
    }
   },
   "outputs": [
    {
     "data": {
      "text/plain": [
       "6.0"
      ]
     },
     "execution_count": 100,
     "metadata": {},
     "output_type": "execute_result"
    }
   ],
   "source": [
    "with TypeAnnotator() as annotator:\n",
    "    y = sum3(1.0, 2.0, 3.0)\n",
    "y"
   ]
  },
  {
   "cell_type": "code",
   "execution_count": 101,
   "metadata": {
    "execution": {
     "iopub.execute_input": "2025-01-07T11:06:25.962029Z",
     "iopub.status.busy": "2025-01-07T11:06:25.961878Z",
     "iopub.status.idle": "2025-01-07T11:06:25.973162Z",
     "shell.execute_reply": "2025-01-07T11:06:25.972911Z"
    },
    "slideshow": {
     "slide_type": "fragment"
    }
   },
   "outputs": [
    {
     "name": "stdout",
     "output_type": "stream",
     "text": [
      "\u001b[34mdef\u001b[39;49;00m \u001b[32msum3\u001b[39;49;00m(a: \u001b[36mfloat\u001b[39;49;00m, b: \u001b[36mfloat\u001b[39;49;00m, c: \u001b[36mfloat\u001b[39;49;00m) -> \u001b[36mfloat\u001b[39;49;00m:\u001b[37m\u001b[39;49;00m\n",
      "    \u001b[34mreturn\u001b[39;49;00m a + b + c\u001b[37m\u001b[39;49;00m"
     ]
    }
   ],
   "source": [
    "print_content(annotator.typed_functions(), '.py')"
   ]
  },
  {
   "cell_type": "markdown",
   "metadata": {
    "slideshow": {
     "slide_type": "fragment"
    }
   },
   "source": [
    "If we call `sum3()` with integers, though, the arguments get an `int` type:"
   ]
  },
  {
   "cell_type": "code",
   "execution_count": 102,
   "metadata": {
    "execution": {
     "iopub.execute_input": "2025-01-07T11:06:25.974642Z",
     "iopub.status.busy": "2025-01-07T11:06:25.974540Z",
     "iopub.status.idle": "2025-01-07T11:06:25.977218Z",
     "shell.execute_reply": "2025-01-07T11:06:25.976961Z"
    },
    "slideshow": {
     "slide_type": "fragment"
    }
   },
   "outputs": [
    {
     "data": {
      "text/plain": [
       "6"
      ]
     },
     "execution_count": 102,
     "metadata": {},
     "output_type": "execute_result"
    }
   ],
   "source": [
    "with TypeAnnotator() as annotator:\n",
    "    y = sum3(1, 2, 3)\n",
    "y"
   ]
  },
  {
   "cell_type": "code",
   "execution_count": 103,
   "metadata": {
    "execution": {
     "iopub.execute_input": "2025-01-07T11:06:25.978491Z",
     "iopub.status.busy": "2025-01-07T11:06:25.978404Z",
     "iopub.status.idle": "2025-01-07T11:06:25.990588Z",
     "shell.execute_reply": "2025-01-07T11:06:25.990325Z"
    },
    "slideshow": {
     "slide_type": "subslide"
    }
   },
   "outputs": [
    {
     "name": "stdout",
     "output_type": "stream",
     "text": [
      "\u001b[34mdef\u001b[39;49;00m \u001b[32msum3\u001b[39;49;00m(a: \u001b[36mint\u001b[39;49;00m, b: \u001b[36mint\u001b[39;49;00m, c: \u001b[36mint\u001b[39;49;00m) -> \u001b[36mint\u001b[39;49;00m:\u001b[37m\u001b[39;49;00m\n",
      "    \u001b[34mreturn\u001b[39;49;00m a + b + c\u001b[37m\u001b[39;49;00m"
     ]
    }
   ],
   "source": [
    "print_content(annotator.typed_functions(), '.py')"
   ]
  },
  {
   "cell_type": "markdown",
   "metadata": {
    "slideshow": {
     "slide_type": "fragment"
    }
   },
   "source": [
    "And we can also call `sum3()` with strings, which assigns the arguments a `str` type:"
   ]
  },
  {
   "cell_type": "code",
   "execution_count": 104,
   "metadata": {
    "execution": {
     "iopub.execute_input": "2025-01-07T11:06:25.992094Z",
     "iopub.status.busy": "2025-01-07T11:06:25.991995Z",
     "iopub.status.idle": "2025-01-07T11:06:25.994496Z",
     "shell.execute_reply": "2025-01-07T11:06:25.994237Z"
    },
    "slideshow": {
     "slide_type": "fragment"
    }
   },
   "outputs": [
    {
     "data": {
      "text/plain": [
       "'onetwothree'"
      ]
     },
     "execution_count": 104,
     "metadata": {},
     "output_type": "execute_result"
    }
   ],
   "source": [
    "with TypeAnnotator() as annotator:\n",
    "    y = sum3(\"one\", \"two\", \"three\")\n",
    "y"
   ]
  },
  {
   "cell_type": "code",
   "execution_count": 105,
   "metadata": {
    "execution": {
     "iopub.execute_input": "2025-01-07T11:06:25.996397Z",
     "iopub.status.busy": "2025-01-07T11:06:25.996252Z",
     "iopub.status.idle": "2025-01-07T11:06:26.025333Z",
     "shell.execute_reply": "2025-01-07T11:06:26.025001Z"
    },
    "slideshow": {
     "slide_type": "fragment"
    }
   },
   "outputs": [
    {
     "name": "stdout",
     "output_type": "stream",
     "text": [
      "\u001b[34mdef\u001b[39;49;00m \u001b[32msum3\u001b[39;49;00m(a: \u001b[36mstr\u001b[39;49;00m, b: \u001b[36mstr\u001b[39;49;00m, c: \u001b[36mstr\u001b[39;49;00m) -> \u001b[36mstr\u001b[39;49;00m:\u001b[37m\u001b[39;49;00m\n",
      "    \u001b[34mreturn\u001b[39;49;00m a + b + c\u001b[37m\u001b[39;49;00m"
     ]
    }
   ],
   "source": [
    "print_content(annotator.typed_functions(), '.py')"
   ]
  },
  {
   "cell_type": "markdown",
   "metadata": {
    "slideshow": {
     "slide_type": "fragment"
    }
   },
   "source": [
    "If we have multiple calls, but with different types, `TypeAnnotator()` will assign an `Any` type to both arguments and return values:"
   ]
  },
  {
   "cell_type": "code",
   "execution_count": 106,
   "metadata": {
    "execution": {
     "iopub.execute_input": "2025-01-07T11:06:26.026769Z",
     "iopub.status.busy": "2025-01-07T11:06:26.026661Z",
     "iopub.status.idle": "2025-01-07T11:06:26.028659Z",
     "shell.execute_reply": "2025-01-07T11:06:26.028376Z"
    },
    "slideshow": {
     "slide_type": "subslide"
    }
   },
   "outputs": [],
   "source": [
    "with TypeAnnotator() as annotator:\n",
    "    y = sum3(1, 2, 3)\n",
    "    y = sum3(\"one\", \"two\", \"three\")"
   ]
  },
  {
   "cell_type": "code",
   "execution_count": 107,
   "metadata": {
    "execution": {
     "iopub.execute_input": "2025-01-07T11:06:26.029916Z",
     "iopub.status.busy": "2025-01-07T11:06:26.029818Z",
     "iopub.status.idle": "2025-01-07T11:06:26.031720Z",
     "shell.execute_reply": "2025-01-07T11:06:26.031397Z"
    },
    "slideshow": {
     "slide_type": "fragment"
    }
   },
   "outputs": [],
   "source": [
    "typed_sum3_def = annotator.typed_function('sum3')"
   ]
  },
  {
   "cell_type": "code",
   "execution_count": 108,
   "metadata": {
    "execution": {
     "iopub.execute_input": "2025-01-07T11:06:26.033424Z",
     "iopub.status.busy": "2025-01-07T11:06:26.033303Z",
     "iopub.status.idle": "2025-01-07T11:06:26.044658Z",
     "shell.execute_reply": "2025-01-07T11:06:26.044386Z"
    },
    "slideshow": {
     "slide_type": "fragment"
    }
   },
   "outputs": [
    {
     "name": "stdout",
     "output_type": "stream",
     "text": [
      "\u001b[34mdef\u001b[39;49;00m \u001b[32msum3\u001b[39;49;00m(a: Any, b: Any, c: Any) -> Any:\u001b[37m\u001b[39;49;00m\n",
      "    \u001b[34mreturn\u001b[39;49;00m a + b + c\u001b[37m\u001b[39;49;00m"
     ]
    }
   ],
   "source": [
    "print_content(typed_sum3_def, '.py')"
   ]
  },
  {
   "cell_type": "markdown",
   "metadata": {
    "slideshow": {
     "slide_type": "fragment"
    }
   },
   "source": [
    "A type `Any` makes it explicit that an object can, indeed, have any type; it will not be typechecked at runtime or statically.  To some extent, this defeats the power of type checking; but it also preserves some of the type flexibility that many Python programmers enjoy.  Besides `Any`, the `typing` module supports several additional ways to define ambiguous types; we will keep this in mind for a later exercise."
   ]
  },
  {
   "cell_type": "markdown",
   "metadata": {
    "slideshow": {
     "slide_type": "subslide"
    }
   },
   "source": [
    "#### End of Excursion"
   ]
  },
  {
   "cell_type": "markdown",
   "metadata": {
    "slideshow": {
     "slide_type": "slide"
    }
   },
   "source": [
    "## Mining Invariants\n",
    "\n",
    "Besides basic data types. we can check several further properties from arguments.  We can, for instance, whether an argument can be negative, zero, or positive; or that one argument should be smaller than the second; or that the result should be the sum of two arguments – properties that cannot be expressed in a (Python) type.\n",
    "\n",
    "Such properties are called *invariants*, as they hold across all invocations of a function. Specifically, invariants come as _pre_- and _postconditions_ – conditions that always hold at the beginning and at the end of a function.  (There are also _data_ and _object_ invariants that express always-holding properties over the state of data or objects, but we do not consider these in this book.)"
   ]
  },
  {
   "cell_type": "markdown",
   "metadata": {
    "slideshow": {
     "slide_type": "subslide"
    }
   },
   "source": [
    "### Annotating Functions with Pre- and Postconditions\n",
    "\n",
    "The classical means to specify pre- and postconditions is via _assertions_, which we have introduced in the [chapter on assertions](Assertions.ipynb).  A precondition checks whether the arguments to a function satisfy the expected properties; a postcondition does the same for the result.  We can express and check both using assertions as follows:"
   ]
  },
  {
   "cell_type": "code",
   "execution_count": 109,
   "metadata": {
    "execution": {
     "iopub.execute_input": "2025-01-07T11:06:26.046318Z",
     "iopub.status.busy": "2025-01-07T11:06:26.046202Z",
     "iopub.status.idle": "2025-01-07T11:06:26.048047Z",
     "shell.execute_reply": "2025-01-07T11:06:26.047780Z"
    },
    "slideshow": {
     "slide_type": "fragment"
    }
   },
   "outputs": [],
   "source": [
    "def square_root_with_invariants(x):  # type: ignore\n",
    "    assert x >= 0  # Precondition\n",
    "\n",
    "    ...\n",
    "\n",
    "    assert result * result == x  # Postcondition\n",
    "    return result"
   ]
  },
  {
   "cell_type": "markdown",
   "metadata": {
    "slideshow": {
     "slide_type": "subslide"
    }
   },
   "source": [
    "A nicer way, however, is to syntactically separate invariants from the function at hand.  Using appropriate decorators, we could specify pre- and postconditions as follows:\n",
    "\n",
    "```python\n",
    "@precondition lambda x: x >= 0\n",
    "@postcondition lambda return_value, x: return_value * return_value == x\n",
    "def square_root_with_invariants(x):\n",
    "    # normal code without assertions\n",
    "    ...\n",
    "```\n",
    "\n",
    "The decorators `@precondition` and `@postcondition` would run the given functions (specified as anonymous `lambda` functions) before and after the decorated function, respectively.  If the functions return `False`, the condition is violated.  `@precondition` gets the function arguments as arguments; `@postcondition` additionally gets the return value as first argument."
   ]
  },
  {
   "cell_type": "markdown",
   "metadata": {
    "slideshow": {
     "slide_type": "subslide"
    }
   },
   "source": [
    "It turns out that implementing such decorators is not hard at all.  Our implementation builds on a [code snippet from StackOverflow](https://stackoverflow.com/questions/12151182/python-precondition-postcondition-for-member-function-how):"
   ]
  },
  {
   "cell_type": "code",
   "execution_count": 110,
   "metadata": {
    "execution": {
     "iopub.execute_input": "2025-01-07T11:06:26.049564Z",
     "iopub.status.busy": "2025-01-07T11:06:26.049448Z",
     "iopub.status.idle": "2025-01-07T11:06:26.051144Z",
     "shell.execute_reply": "2025-01-07T11:06:26.050847Z"
    },
    "slideshow": {
     "slide_type": "skip"
    }
   },
   "outputs": [],
   "source": [
    "import functools"
   ]
  },
  {
   "cell_type": "code",
   "execution_count": 111,
   "metadata": {
    "execution": {
     "iopub.execute_input": "2025-01-07T11:06:26.052913Z",
     "iopub.status.busy": "2025-01-07T11:06:26.052780Z",
     "iopub.status.idle": "2025-01-07T11:06:26.055312Z",
     "shell.execute_reply": "2025-01-07T11:06:26.055064Z"
    },
    "slideshow": {
     "slide_type": "subslide"
    }
   },
   "outputs": [],
   "source": [
    "def condition(precondition: Optional[Callable] = None,\n",
    "              postcondition: Optional[Callable] = None) -> Callable:\n",
    "    def decorator(func: Callable) -> Callable:\n",
    "        @functools.wraps(func)  # preserves name, docstring, etc\n",
    "        def wrapper(*args: Any, **kwargs: Any) -> Any:\n",
    "            if precondition is not None:\n",
    "                assert precondition(*args, **kwargs), \\\n",
    "                    \"Precondition violated\"\n",
    "\n",
    "            # Call original function or method\n",
    "            retval = func(*args, **kwargs)\n",
    "            if postcondition is not None:\n",
    "                assert postcondition(retval, *args, **kwargs), \\\n",
    "                    \"Postcondition violated\"\n",
    "\n",
    "            return retval\n",
    "        return wrapper\n",
    "    return decorator"
   ]
  },
  {
   "cell_type": "code",
   "execution_count": 112,
   "metadata": {
    "execution": {
     "iopub.execute_input": "2025-01-07T11:06:26.056626Z",
     "iopub.status.busy": "2025-01-07T11:06:26.056519Z",
     "iopub.status.idle": "2025-01-07T11:06:26.058357Z",
     "shell.execute_reply": "2025-01-07T11:06:26.058084Z"
    },
    "slideshow": {
     "slide_type": "subslide"
    }
   },
   "outputs": [],
   "source": [
    "def precondition(check: Callable) -> Callable:\n",
    "    return condition(precondition=check)"
   ]
  },
  {
   "cell_type": "code",
   "execution_count": 113,
   "metadata": {
    "execution": {
     "iopub.execute_input": "2025-01-07T11:06:26.059645Z",
     "iopub.status.busy": "2025-01-07T11:06:26.059539Z",
     "iopub.status.idle": "2025-01-07T11:06:26.061198Z",
     "shell.execute_reply": "2025-01-07T11:06:26.060964Z"
    },
    "slideshow": {
     "slide_type": "fragment"
    }
   },
   "outputs": [],
   "source": [
    "def postcondition(check: Callable) -> Callable:\n",
    "    return condition(postcondition=check)"
   ]
  },
  {
   "cell_type": "markdown",
   "metadata": {
    "slideshow": {
     "slide_type": "fragment"
    }
   },
   "source": [
    "With these, we can now start decorating `square_root()`:"
   ]
  },
  {
   "cell_type": "code",
   "execution_count": 114,
   "metadata": {
    "execution": {
     "iopub.execute_input": "2025-01-07T11:06:26.062527Z",
     "iopub.status.busy": "2025-01-07T11:06:26.062405Z",
     "iopub.status.idle": "2025-01-07T11:06:26.064408Z",
     "shell.execute_reply": "2025-01-07T11:06:26.064142Z"
    },
    "slideshow": {
     "slide_type": "fragment"
    }
   },
   "outputs": [],
   "source": [
    "@precondition(lambda x: x > 0)\n",
    "def square_root_with_precondition(x):  # type: ignore\n",
    "    return square_root(x)"
   ]
  },
  {
   "cell_type": "markdown",
   "metadata": {
    "slideshow": {
     "slide_type": "fragment"
    }
   },
   "source": [
    "This catches arguments violating the precondition:"
   ]
  },
  {
   "cell_type": "code",
   "execution_count": 115,
   "metadata": {
    "execution": {
     "iopub.execute_input": "2025-01-07T11:06:26.066123Z",
     "iopub.status.busy": "2025-01-07T11:06:26.066001Z",
     "iopub.status.idle": "2025-01-07T11:06:26.067980Z",
     "shell.execute_reply": "2025-01-07T11:06:26.067731Z"
    },
    "slideshow": {
     "slide_type": "subslide"
    }
   },
   "outputs": [
    {
     "name": "stderr",
     "output_type": "stream",
     "text": [
      "Traceback (most recent call last):\n",
      "  File \"/var/folders/n2/xd9445p97rb3xh7m1dfx8_4h0006ts/T/ipykernel_21001/2859393274.py\", line 2, in <module>\n",
      "    square_root_with_precondition(-1.0)\n",
      "  File \"/var/folders/n2/xd9445p97rb3xh7m1dfx8_4h0006ts/T/ipykernel_21001/3759592669.py\", line 7, in wrapper\n",
      "    assert precondition(*args, **kwargs), \\\n",
      "           ^^^^^^^^^^^^^^^^^^^^^^^^^^^^^\n",
      "AssertionError: Precondition violated (expected)\n"
     ]
    }
   ],
   "source": [
    "with ExpectError():\n",
    "    square_root_with_precondition(-1.0)"
   ]
  },
  {
   "cell_type": "markdown",
   "metadata": {
    "slideshow": {
     "slide_type": "fragment"
    }
   },
   "source": [
    "Likewise, we can provide a postcondition:"
   ]
  },
  {
   "cell_type": "code",
   "execution_count": 116,
   "metadata": {
    "execution": {
     "iopub.execute_input": "2025-01-07T11:06:26.069297Z",
     "iopub.status.busy": "2025-01-07T11:06:26.069185Z",
     "iopub.status.idle": "2025-01-07T11:06:26.070848Z",
     "shell.execute_reply": "2025-01-07T11:06:26.070566Z"
    },
    "slideshow": {
     "slide_type": "skip"
    }
   },
   "outputs": [],
   "source": [
    "import math"
   ]
  },
  {
   "cell_type": "code",
   "execution_count": 117,
   "metadata": {
    "execution": {
     "iopub.execute_input": "2025-01-07T11:06:26.072073Z",
     "iopub.status.busy": "2025-01-07T11:06:26.071976Z",
     "iopub.status.idle": "2025-01-07T11:06:26.073742Z",
     "shell.execute_reply": "2025-01-07T11:06:26.073516Z"
    },
    "slideshow": {
     "slide_type": "fragment"
    }
   },
   "outputs": [],
   "source": [
    "@postcondition(lambda ret, x: math.isclose(ret * ret, x))\n",
    "def square_root_with_postcondition(x):  # type: ignore\n",
    "    return square_root(x)"
   ]
  },
  {
   "cell_type": "code",
   "execution_count": 118,
   "metadata": {
    "execution": {
     "iopub.execute_input": "2025-01-07T11:06:26.074919Z",
     "iopub.status.busy": "2025-01-07T11:06:26.074820Z",
     "iopub.status.idle": "2025-01-07T11:06:26.076875Z",
     "shell.execute_reply": "2025-01-07T11:06:26.076630Z"
    },
    "slideshow": {
     "slide_type": "subslide"
    }
   },
   "outputs": [
    {
     "data": {
      "text/plain": [
       "1.414213562373095"
      ]
     },
     "execution_count": 118,
     "metadata": {},
     "output_type": "execute_result"
    }
   ],
   "source": [
    "y = square_root_with_postcondition(2.0)\n",
    "y"
   ]
  },
  {
   "cell_type": "markdown",
   "metadata": {
    "slideshow": {
     "slide_type": "fragment"
    }
   },
   "source": [
    "If we have a buggy implementation of $\\sqrt{x}$, this gets caught quickly:"
   ]
  },
  {
   "cell_type": "code",
   "execution_count": 119,
   "metadata": {
    "execution": {
     "iopub.execute_input": "2025-01-07T11:06:26.078425Z",
     "iopub.status.busy": "2025-01-07T11:06:26.078246Z",
     "iopub.status.idle": "2025-01-07T11:06:26.080350Z",
     "shell.execute_reply": "2025-01-07T11:06:26.080058Z"
    },
    "slideshow": {
     "slide_type": "fragment"
    }
   },
   "outputs": [],
   "source": [
    "@postcondition(lambda ret, x: math.isclose(ret * ret, x))\n",
    "def buggy_square_root_with_postcondition(x):  # type: ignore\n",
    "    return square_root(x) + 0.1"
   ]
  },
  {
   "cell_type": "code",
   "execution_count": 120,
   "metadata": {
    "execution": {
     "iopub.execute_input": "2025-01-07T11:06:26.081679Z",
     "iopub.status.busy": "2025-01-07T11:06:26.081574Z",
     "iopub.status.idle": "2025-01-07T11:06:26.083383Z",
     "shell.execute_reply": "2025-01-07T11:06:26.083131Z"
    },
    "slideshow": {
     "slide_type": "subslide"
    }
   },
   "outputs": [
    {
     "name": "stderr",
     "output_type": "stream",
     "text": [
      "Traceback (most recent call last):\n",
      "  File \"/var/folders/n2/xd9445p97rb3xh7m1dfx8_4h0006ts/T/ipykernel_21001/1806983978.py\", line 2, in <module>\n",
      "    y = buggy_square_root_with_postcondition(2.0)\n",
      "        ^^^^^^^^^^^^^^^^^^^^^^^^^^^^^^^^^^^^^^^^^\n",
      "  File \"/var/folders/n2/xd9445p97rb3xh7m1dfx8_4h0006ts/T/ipykernel_21001/3759592669.py\", line 13, in wrapper\n",
      "    assert postcondition(retval, *args, **kwargs), \\\n",
      "           ^^^^^^^^^^^^^^^^^^^^^^^^^^^^^^^^^^^^^^\n",
      "AssertionError: Postcondition violated (expected)\n"
     ]
    }
   ],
   "source": [
    "with ExpectError():\n",
    "    y = buggy_square_root_with_postcondition(2.0)"
   ]
  },
  {
   "cell_type": "markdown",
   "metadata": {
    "slideshow": {
     "slide_type": "fragment"
    }
   },
   "source": [
    "While checking pre- and postconditions is a great way to catch errors, specifying them can be cumbersome.  Let us try to see whether we can (again) _mine_ some of them."
   ]
  },
  {
   "cell_type": "markdown",
   "metadata": {
    "slideshow": {
     "slide_type": "subslide"
    }
   },
   "source": [
    "### Mining Invariants\n",
    "\n",
    "To _mine_ invariants, we can use the same tracking functionality as before; instead of saving values for individual variables, though, we now check whether the values satisfy specific _properties_ or not.  For instance, if all values of `x` seen satisfy the condition `x > 0`, then we make `x > 0` an invariant of the function.  If we see positive, zero, and negative values of `x`, though, then there is no property of `x` left to talk about.\n",
    "\n",
    "The general idea is thus:\n",
    "\n",
    "1. Check all variable values observed against a set of predefined properties; and\n",
    "2. Keep only those properties that hold for all runs observed."
   ]
  },
  {
   "cell_type": "markdown",
   "metadata": {
    "slideshow": {
     "slide_type": "subslide"
    }
   },
   "source": [
    "### Defining Properties\n",
    "\n",
    "What precisely do we mean by properties?  Here is a small collection of value properties that would frequently be used in invariants.  All these properties would be evaluated with the _metavariables_ `X`, `Y`, and `Z` (actually, any upper-case identifier) being replaced with the names of function parameters: "
   ]
  },
  {
   "cell_type": "code",
   "execution_count": 121,
   "metadata": {
    "execution": {
     "iopub.execute_input": "2025-01-07T11:06:26.084794Z",
     "iopub.status.busy": "2025-01-07T11:06:26.084692Z",
     "iopub.status.idle": "2025-01-07T11:06:26.086380Z",
     "shell.execute_reply": "2025-01-07T11:06:26.086137Z"
    },
    "slideshow": {
     "slide_type": "fragment"
    }
   },
   "outputs": [],
   "source": [
    "INVARIANT_PROPERTIES = [\n",
    "    \"X < 0\",\n",
    "    \"X <= 0\",\n",
    "    \"X > 0\",\n",
    "    \"X >= 0\",\n",
    "    # \"X == 0\",  # implied by \"X\", below\n",
    "    # \"X != 0\",  # implied by \"not X\", below\n",
    "]"
   ]
  },
  {
   "cell_type": "markdown",
   "metadata": {
    "slideshow": {
     "slide_type": "subslide"
    }
   },
   "source": [
    "When `square_root(x)` is called as, say `square_root(5.0)`, we see that `x = 5.0` holds.  The above properties would then all be checked for `x`.  Only the properties `X > 0`, `X >= 0`, and `not X` hold for the call seen; and hence `x > 0`, `x >= 0`, and `not x` (or better: `x != 0`) would make potential preconditions for `square_root(x)`."
   ]
  },
  {
   "cell_type": "markdown",
   "metadata": {
    "slideshow": {
     "slide_type": "fragment"
    }
   },
   "source": [
    "We can check for many more properties such as relations between two arguments:"
   ]
  },
  {
   "cell_type": "code",
   "execution_count": 122,
   "metadata": {
    "execution": {
     "iopub.execute_input": "2025-01-07T11:06:26.087726Z",
     "iopub.status.busy": "2025-01-07T11:06:26.087627Z",
     "iopub.status.idle": "2025-01-07T11:06:26.089229Z",
     "shell.execute_reply": "2025-01-07T11:06:26.089028Z"
    },
    "slideshow": {
     "slide_type": "fragment"
    }
   },
   "outputs": [],
   "source": [
    "INVARIANT_PROPERTIES += [\n",
    "    \"X == Y\",\n",
    "    \"X > Y\",\n",
    "    \"X < Y\",\n",
    "    \"X >= Y\",\n",
    "    \"X <= Y\",\n",
    "]"
   ]
  },
  {
   "cell_type": "markdown",
   "metadata": {
    "slideshow": {
     "slide_type": "subslide"
    }
   },
   "source": [
    "Types also can be checked using properties.  For any function parameter `X`, only one of these will hold:"
   ]
  },
  {
   "cell_type": "code",
   "execution_count": 123,
   "metadata": {
    "execution": {
     "iopub.execute_input": "2025-01-07T11:06:26.090474Z",
     "iopub.status.busy": "2025-01-07T11:06:26.090384Z",
     "iopub.status.idle": "2025-01-07T11:06:26.092367Z",
     "shell.execute_reply": "2025-01-07T11:06:26.091997Z"
    },
    "slideshow": {
     "slide_type": "fragment"
    }
   },
   "outputs": [],
   "source": [
    "INVARIANT_PROPERTIES += [\n",
    "    \"isinstance(X, bool)\",\n",
    "    \"isinstance(X, int)\",\n",
    "    \"isinstance(X, float)\",\n",
    "    \"isinstance(X, list)\",\n",
    "    \"isinstance(X, dict)\",\n",
    "]"
   ]
  },
  {
   "cell_type": "markdown",
   "metadata": {
    "slideshow": {
     "slide_type": "fragment"
    }
   },
   "source": [
    "We can check for arithmetic properties:"
   ]
  },
  {
   "cell_type": "code",
   "execution_count": 124,
   "metadata": {
    "execution": {
     "iopub.execute_input": "2025-01-07T11:06:26.094029Z",
     "iopub.status.busy": "2025-01-07T11:06:26.093894Z",
     "iopub.status.idle": "2025-01-07T11:06:26.095655Z",
     "shell.execute_reply": "2025-01-07T11:06:26.095411Z"
    },
    "slideshow": {
     "slide_type": "subslide"
    }
   },
   "outputs": [],
   "source": [
    "INVARIANT_PROPERTIES += [\n",
    "    \"X == Y + Z\",\n",
    "    \"X == Y * Z\",\n",
    "    \"X == Y - Z\",\n",
    "    \"X == Y / Z\",\n",
    "]"
   ]
  },
  {
   "cell_type": "markdown",
   "metadata": {
    "slideshow": {
     "slide_type": "fragment"
    }
   },
   "source": [
    "Here's relations over three values, a Python special:"
   ]
  },
  {
   "cell_type": "code",
   "execution_count": 125,
   "metadata": {
    "execution": {
     "iopub.execute_input": "2025-01-07T11:06:26.096934Z",
     "iopub.status.busy": "2025-01-07T11:06:26.096831Z",
     "iopub.status.idle": "2025-01-07T11:06:26.098529Z",
     "shell.execute_reply": "2025-01-07T11:06:26.098261Z"
    },
    "slideshow": {
     "slide_type": "fragment"
    }
   },
   "outputs": [],
   "source": [
    "INVARIANT_PROPERTIES += [\n",
    "    \"X < Y < Z\",\n",
    "    \"X <= Y <= Z\",\n",
    "    \"X > Y > Z\",\n",
    "    \"X >= Y >= Z\",\n",
    "]"
   ]
  },
  {
   "cell_type": "markdown",
   "metadata": {
    "slideshow": {
     "slide_type": "subslide"
    }
   },
   "source": [
    "These Boolean properties also check for other types, as in Python, `None`, an empty list, an empty set, an empty string, and the value zero all evaluate to `False`."
   ]
  },
  {
   "cell_type": "code",
   "execution_count": 126,
   "metadata": {
    "execution": {
     "iopub.execute_input": "2025-01-07T11:06:26.099752Z",
     "iopub.status.busy": "2025-01-07T11:06:26.099650Z",
     "iopub.status.idle": "2025-01-07T11:06:26.101209Z",
     "shell.execute_reply": "2025-01-07T11:06:26.100961Z"
    },
    "slideshow": {
     "slide_type": "fragment"
    }
   },
   "outputs": [],
   "source": [
    "INVARIANT_PROPERTIES += [\n",
    "    \"X\",\n",
    "    \"not X\"\n",
    "]"
   ]
  },
  {
   "cell_type": "markdown",
   "metadata": {
    "slideshow": {
     "slide_type": "fragment"
    }
   },
   "source": [
    "Finally, we can also check for list or string properties.  Again, this is just a tiny selection."
   ]
  },
  {
   "cell_type": "code",
   "execution_count": 127,
   "metadata": {
    "execution": {
     "iopub.execute_input": "2025-01-07T11:06:26.102425Z",
     "iopub.status.busy": "2025-01-07T11:06:26.102334Z",
     "iopub.status.idle": "2025-01-07T11:06:26.104253Z",
     "shell.execute_reply": "2025-01-07T11:06:26.103914Z"
    },
    "slideshow": {
     "slide_type": "subslide"
    }
   },
   "outputs": [],
   "source": [
    "INVARIANT_PROPERTIES += [\n",
    "    \"X == len(Y)\",\n",
    "    \"X == sum(Y)\",\n",
    "    \"X in Y\",\n",
    "    \"X.startswith(Y)\",\n",
    "    \"X.endswith(Y)\",\n",
    "]"
   ]
  },
  {
   "cell_type": "markdown",
   "metadata": {
    "slideshow": {
     "slide_type": "subslide"
    }
   },
   "source": [
    "### Extracting Meta-Variables\n",
    "\n",
    "Let us first introduce a few _helper functions_ before we can get to the actual mining.  `metavars()` extracts the set of meta-variables (`X`, `Y`, `Z`, etc.) from a property.  To this end, we parse the property as a Python expression and then visit the identifiers."
   ]
  },
  {
   "cell_type": "code",
   "execution_count": 128,
   "metadata": {
    "execution": {
     "iopub.execute_input": "2025-01-07T11:06:26.105867Z",
     "iopub.status.busy": "2025-01-07T11:06:26.105736Z",
     "iopub.status.idle": "2025-01-07T11:06:26.108087Z",
     "shell.execute_reply": "2025-01-07T11:06:26.107657Z"
    },
    "slideshow": {
     "slide_type": "subslide"
    }
   },
   "outputs": [],
   "source": [
    "def metavars(prop: str) -> List[str]:\n",
    "    metavar_list = []\n",
    "\n",
    "    class ArgVisitor(ast.NodeVisitor):\n",
    "        def visit_Name(self, node: ast.Name) -> None:\n",
    "            if node.id.isupper():\n",
    "                metavar_list.append(node.id)\n",
    "\n",
    "    ArgVisitor().visit(ast.parse(prop))\n",
    "    return metavar_list"
   ]
  },
  {
   "cell_type": "code",
   "execution_count": 129,
   "metadata": {
    "execution": {
     "iopub.execute_input": "2025-01-07T11:06:26.109513Z",
     "iopub.status.busy": "2025-01-07T11:06:26.109410Z",
     "iopub.status.idle": "2025-01-07T11:06:26.111258Z",
     "shell.execute_reply": "2025-01-07T11:06:26.111003Z"
    },
    "slideshow": {
     "slide_type": "fragment"
    }
   },
   "outputs": [],
   "source": [
    "assert metavars(\"X < 0\") == ['X']"
   ]
  },
  {
   "cell_type": "code",
   "execution_count": 130,
   "metadata": {
    "execution": {
     "iopub.execute_input": "2025-01-07T11:06:26.112552Z",
     "iopub.status.busy": "2025-01-07T11:06:26.112417Z",
     "iopub.status.idle": "2025-01-07T11:06:26.114331Z",
     "shell.execute_reply": "2025-01-07T11:06:26.114031Z"
    },
    "slideshow": {
     "slide_type": "fragment"
    }
   },
   "outputs": [],
   "source": [
    "assert metavars(\"X.startswith(Y)\") == ['X', 'Y']"
   ]
  },
  {
   "cell_type": "code",
   "execution_count": 131,
   "metadata": {
    "execution": {
     "iopub.execute_input": "2025-01-07T11:06:26.115823Z",
     "iopub.status.busy": "2025-01-07T11:06:26.115686Z",
     "iopub.status.idle": "2025-01-07T11:06:26.117670Z",
     "shell.execute_reply": "2025-01-07T11:06:26.117320Z"
    },
    "slideshow": {
     "slide_type": "fragment"
    }
   },
   "outputs": [],
   "source": [
    "assert metavars(\"isinstance(X, str)\") == ['X']"
   ]
  },
  {
   "cell_type": "markdown",
   "metadata": {
    "slideshow": {
     "slide_type": "subslide"
    }
   },
   "source": [
    "### Instantiating Properties\n",
    "\n",
    "To produce a property as invariant, we need to be able to _instantiate_ it with variable names.  The instantiation of `X > 0` with `X` being instantiated to `a`, for instance, gets us `a > 0`.  To this end, the function `instantiate_prop()` takes a property and a collection of variable names and instantiates the meta-variables left-to-right with the corresponding variables names in the collection."
   ]
  },
  {
   "cell_type": "code",
   "execution_count": 132,
   "metadata": {
    "execution": {
     "iopub.execute_input": "2025-01-07T11:06:26.119439Z",
     "iopub.status.busy": "2025-01-07T11:06:26.119149Z",
     "iopub.status.idle": "2025-01-07T11:06:26.121900Z",
     "shell.execute_reply": "2025-01-07T11:06:26.121579Z"
    },
    "slideshow": {
     "slide_type": "subslide"
    }
   },
   "outputs": [],
   "source": [
    "def instantiate_prop_ast(prop: str, var_names: Sequence[str]) -> ast.AST:\n",
    "    class NameTransformer(ast.NodeTransformer):\n",
    "        def visit_Name(self, node: ast.Name) -> ast.Name:\n",
    "            if node.id not in mapping:\n",
    "                return node\n",
    "            return ast.Name(id=mapping[node.id], ctx=ast.Load())\n",
    "\n",
    "    meta_variables = metavars(prop)\n",
    "    assert len(meta_variables) == len(var_names)\n",
    "\n",
    "    mapping = {}\n",
    "    for i in range(0, len(meta_variables)):\n",
    "        mapping[meta_variables[i]] = var_names[i]\n",
    "\n",
    "    prop_ast = ast.parse(prop, mode='eval')\n",
    "    new_ast = NameTransformer().visit(prop_ast)\n",
    "\n",
    "    return new_ast"
   ]
  },
  {
   "cell_type": "code",
   "execution_count": 133,
   "metadata": {
    "execution": {
     "iopub.execute_input": "2025-01-07T11:06:26.123360Z",
     "iopub.status.busy": "2025-01-07T11:06:26.123256Z",
     "iopub.status.idle": "2025-01-07T11:06:26.125468Z",
     "shell.execute_reply": "2025-01-07T11:06:26.125144Z"
    },
    "slideshow": {
     "slide_type": "subslide"
    }
   },
   "outputs": [],
   "source": [
    "def instantiate_prop(prop: str, var_names: Sequence[str]) -> str:\n",
    "    prop_ast = instantiate_prop_ast(prop, var_names)\n",
    "    prop_text = ast.unparse(prop_ast).strip()\n",
    "    while prop_text.startswith('(') and prop_text.endswith(')'):\n",
    "        prop_text = prop_text[1:-1]\n",
    "    return prop_text"
   ]
  },
  {
   "cell_type": "code",
   "execution_count": 134,
   "metadata": {
    "execution": {
     "iopub.execute_input": "2025-01-07T11:06:26.126722Z",
     "iopub.status.busy": "2025-01-07T11:06:26.126616Z",
     "iopub.status.idle": "2025-01-07T11:06:26.128543Z",
     "shell.execute_reply": "2025-01-07T11:06:26.128301Z"
    },
    "slideshow": {
     "slide_type": "fragment"
    }
   },
   "outputs": [],
   "source": [
    "assert instantiate_prop(\"X > Y\", ['a', 'b']) == 'a > b'"
   ]
  },
  {
   "cell_type": "code",
   "execution_count": 135,
   "metadata": {
    "execution": {
     "iopub.execute_input": "2025-01-07T11:06:26.129928Z",
     "iopub.status.busy": "2025-01-07T11:06:26.129817Z",
     "iopub.status.idle": "2025-01-07T11:06:26.131757Z",
     "shell.execute_reply": "2025-01-07T11:06:26.131460Z"
    },
    "slideshow": {
     "slide_type": "fragment"
    }
   },
   "outputs": [],
   "source": [
    "assert instantiate_prop(\"X.startswith(Y)\", ['x', 'y']) == 'x.startswith(y)'"
   ]
  },
  {
   "cell_type": "markdown",
   "metadata": {
    "slideshow": {
     "slide_type": "subslide"
    }
   },
   "source": [
    "### Evaluating Properties\n",
    "\n",
    "To actually _evaluate_ properties, we do not need to instantiate them.  Instead, we simply convert them into a boolean function, using `lambda`:"
   ]
  },
  {
   "cell_type": "code",
   "execution_count": 136,
   "metadata": {
    "execution": {
     "iopub.execute_input": "2025-01-07T11:06:26.133167Z",
     "iopub.status.busy": "2025-01-07T11:06:26.133067Z",
     "iopub.status.idle": "2025-01-07T11:06:26.134927Z",
     "shell.execute_reply": "2025-01-07T11:06:26.134649Z"
    },
    "slideshow": {
     "slide_type": "fragment"
    }
   },
   "outputs": [],
   "source": [
    "def prop_function_text(prop: str) -> str:\n",
    "    return \"lambda \" + \", \".join(metavars(prop)) + \": \" + prop"
   ]
  },
  {
   "cell_type": "markdown",
   "metadata": {
    "slideshow": {
     "slide_type": "fragment"
    }
   },
   "source": [
    "Here is a simple example:"
   ]
  },
  {
   "cell_type": "code",
   "execution_count": 137,
   "metadata": {
    "execution": {
     "iopub.execute_input": "2025-01-07T11:06:26.136392Z",
     "iopub.status.busy": "2025-01-07T11:06:26.136291Z",
     "iopub.status.idle": "2025-01-07T11:06:26.138380Z",
     "shell.execute_reply": "2025-01-07T11:06:26.138130Z"
    },
    "slideshow": {
     "slide_type": "fragment"
    }
   },
   "outputs": [
    {
     "data": {
      "text/plain": [
       "'lambda X, Y: X > Y'"
      ]
     },
     "execution_count": 137,
     "metadata": {},
     "output_type": "execute_result"
    }
   ],
   "source": [
    "prop_function_text(\"X > Y\")"
   ]
  },
  {
   "cell_type": "markdown",
   "metadata": {
    "slideshow": {
     "slide_type": "fragment"
    }
   },
   "source": [
    "We can easily evaluate the function:"
   ]
  },
  {
   "cell_type": "code",
   "execution_count": 138,
   "metadata": {
    "execution": {
     "iopub.execute_input": "2025-01-07T11:06:26.139984Z",
     "iopub.status.busy": "2025-01-07T11:06:26.139878Z",
     "iopub.status.idle": "2025-01-07T11:06:26.141594Z",
     "shell.execute_reply": "2025-01-07T11:06:26.141379Z"
    },
    "slideshow": {
     "slide_type": "fragment"
    }
   },
   "outputs": [],
   "source": [
    "def prop_function(prop: str) -> Callable:\n",
    "    return eval(prop_function_text(prop))"
   ]
  },
  {
   "cell_type": "markdown",
   "metadata": {
    "slideshow": {
     "slide_type": "fragment"
    }
   },
   "source": [
    "Here is an example:"
   ]
  },
  {
   "cell_type": "code",
   "execution_count": 139,
   "metadata": {
    "execution": {
     "iopub.execute_input": "2025-01-07T11:06:26.142721Z",
     "iopub.status.busy": "2025-01-07T11:06:26.142623Z",
     "iopub.status.idle": "2025-01-07T11:06:26.144381Z",
     "shell.execute_reply": "2025-01-07T11:06:26.144078Z"
    },
    "slideshow": {
     "slide_type": "fragment"
    }
   },
   "outputs": [],
   "source": [
    "p = prop_function(\"X > Y\")"
   ]
  },
  {
   "cell_type": "code",
   "execution_count": 140,
   "metadata": {
    "execution": {
     "iopub.execute_input": "2025-01-07T11:06:26.145870Z",
     "iopub.status.busy": "2025-01-07T11:06:26.145784Z",
     "iopub.status.idle": "2025-01-07T11:06:26.149915Z",
     "shell.execute_reply": "2025-01-07T11:06:26.149648Z"
    },
    "slideshow": {
     "slide_type": "subslide"
    }
   },
   "outputs": [
    {
     "data": {
      "text/html": [
       "\n",
       "    \n",
       "    <script>\n",
       "    var bad_answers = new Map();\n",
       "\n",
       "    function answer(quiz_id) {\n",
       "        ans = 0;\n",
       "        for (i = 1;; i++) {\n",
       "            checkbox = document.getElementById(quiz_id + \"-\" + i.toString());\n",
       "            if (!checkbox)\n",
       "                break;\n",
       "            if (checkbox.checked)\n",
       "                ans |= (1 << i);\n",
       "        }\n",
       "        return ans;\n",
       "    }\n",
       "    function check_selection(quiz_id, correct_answer, multiple_choice, hint) {\n",
       "        given_answer = answer(quiz_id);\n",
       "        if (given_answer == correct_answer)\n",
       "        {\n",
       "            document.getElementById(quiz_id + \"-submit\").value = \"Correct!\";\n",
       "            document.getElementById(quiz_id + \"-hint\").innerHTML = \"\";\n",
       "\n",
       "            for (i = 1;; i++) {\n",
       "                checkbox = document.getElementById(quiz_id + \"-\" + i.toString());\n",
       "                label = document.getElementById(quiz_id + \"-\" + i.toString() + \"-label\")\n",
       "                if (!checkbox)\n",
       "                    break;\n",
       "\n",
       "                if (checkbox.checked) {\n",
       "                    label.style.fontWeight = \"bold\";\n",
       "                }\n",
       "                else {\n",
       "                    label.style.textDecoration = \"line-through\";\n",
       "                }\n",
       "            }\n",
       "        }\n",
       "        else \n",
       "        {\n",
       "            document.getElementById(quiz_id + \"-submit\").value = \"Try again\";\n",
       "\n",
       "            if (!bad_answers.has(quiz_id)) {\n",
       "                bad_answers.set(quiz_id, 1);\n",
       "            }\n",
       "            else {\n",
       "                bad_answers.set(quiz_id, bad_answers.get(quiz_id) + 1);\n",
       "            }\n",
       "\n",
       "            if (bad_answers.get(quiz_id) >= 2 && hint.length > 0) {\n",
       "                document.getElementById(quiz_id + \"-hint\").innerHTML = \n",
       "                    \"&nbsp;&nbsp;(Hint: <code>\" + hint + \"</code>)\";\n",
       "            }\n",
       "\n",
       "            if (!multiple_choice) {\n",
       "                for (i = 1;; i++) {\n",
       "                    checkbox = document.getElementById(quiz_id + \"-\" + i.toString());\n",
       "                    label = document.getElementById(quiz_id + \"-\" + i.toString() + \"-label\")\n",
       "\n",
       "                    if (!checkbox)\n",
       "                        break;\n",
       "                    if (checkbox.checked) {\n",
       "                        label.style.textDecoration = \"line-through\";\n",
       "                    }\n",
       "                }\n",
       "            }\n",
       "        }\n",
       "    }\n",
       "    function clear_selection(quiz_id) {\n",
       "        document.getElementById(quiz_id + \"-submit\").value = \"Submit\";\n",
       "        document.getElementById(quiz_id + \"-hint\").innerHTML = \"\";\n",
       "    }\n",
       "    </script>\n",
       "    \n",
       "    <div class=\"quiz\">\n",
       "    <h3 class=\"quiz_title\">Quiz</h3>\n",
       "    <p>\n",
       "    <div class=\"quiz_question\">What is p(100, 1)?</div>\n",
       "    </p>\n",
       "    <p>\n",
       "    <div class=\"quiz_options\" title=\"Pick a choice.\">\n",
       "    \n",
       "        <input type=\"radio\" name=\"70113512-cce7-11ef-8c0e-6298cf1a578f\" id=\"70113512-cce7-11ef-8c0e-6298cf1a578f-1\" onclick=\"clear_selection('70113512-cce7-11ef-8c0e-6298cf1a578f')\">\n",
       "        <label id=\"70113512-cce7-11ef-8c0e-6298cf1a578f-1-label\" for=\"70113512-cce7-11ef-8c0e-6298cf1a578f-1\">False</label><br>\n",
       "    \n",
       "        <input type=\"radio\" name=\"70113512-cce7-11ef-8c0e-6298cf1a578f\" id=\"70113512-cce7-11ef-8c0e-6298cf1a578f-2\" onclick=\"clear_selection('70113512-cce7-11ef-8c0e-6298cf1a578f')\">\n",
       "        <label id=\"70113512-cce7-11ef-8c0e-6298cf1a578f-2-label\" for=\"70113512-cce7-11ef-8c0e-6298cf1a578f-2\">True</label><br>\n",
       "    \n",
       "    </div>\n",
       "    </p>\n",
       "    <input id=\"70113512-cce7-11ef-8c0e-6298cf1a578f-submit\" type=\"submit\" value=\"Submit\" onclick=\"check_selection('70113512-cce7-11ef-8c0e-6298cf1a578f', 4, 0, 'p(100, 1) + 1')\">\n",
       "    <span class=\"quiz_hint\" id=\"70113512-cce7-11ef-8c0e-6298cf1a578f-hint\"></span>\n",
       "    </div>\n",
       "    "
      ],
      "text/plain": [
       "<IPython.core.display.HTML object>"
      ]
     },
     "execution_count": 140,
     "metadata": {},
     "output_type": "execute_result"
    }
   ],
   "source": [
    "quiz(\"What is p(100, 1)?\",\n",
    "     [\n",
    "        \"False\",\n",
    "        \"True\"\n",
    "    ], 'p(100, 1) + 1', globals())"
   ]
  },
  {
   "cell_type": "code",
   "execution_count": 141,
   "metadata": {
    "execution": {
     "iopub.execute_input": "2025-01-07T11:06:26.151355Z",
     "iopub.status.busy": "2025-01-07T11:06:26.151258Z",
     "iopub.status.idle": "2025-01-07T11:06:26.153391Z",
     "shell.execute_reply": "2025-01-07T11:06:26.153157Z"
    },
    "slideshow": {
     "slide_type": "fragment"
    }
   },
   "outputs": [
    {
     "data": {
      "text/plain": [
       "True"
      ]
     },
     "execution_count": 141,
     "metadata": {},
     "output_type": "execute_result"
    }
   ],
   "source": [
    "p(100, 1)"
   ]
  },
  {
   "cell_type": "code",
   "execution_count": 142,
   "metadata": {
    "execution": {
     "iopub.execute_input": "2025-01-07T11:06:26.154765Z",
     "iopub.status.busy": "2025-01-07T11:06:26.154640Z",
     "iopub.status.idle": "2025-01-07T11:06:26.156899Z",
     "shell.execute_reply": "2025-01-07T11:06:26.156561Z"
    },
    "slideshow": {
     "slide_type": "fragment"
    }
   },
   "outputs": [
    {
     "data": {
      "text/plain": [
       "False"
      ]
     },
     "execution_count": 142,
     "metadata": {},
     "output_type": "execute_result"
    }
   ],
   "source": [
    "p(1, 100)"
   ]
  },
  {
   "cell_type": "markdown",
   "metadata": {
    "slideshow": {
     "slide_type": "subslide"
    }
   },
   "source": [
    "### Checking Invariants\n",
    "\n",
    "To extract invariants from an execution, we need to check them on all possible instantiations of arguments.  If the function to be checked has two arguments `a` and `b`, we instantiate the property `X < Y` both as `a < b` and `b < a` and check each of them."
   ]
  },
  {
   "cell_type": "markdown",
   "metadata": {
    "slideshow": {
     "slide_type": "fragment"
    }
   },
   "source": [
    "To get all combinations, we use the Python `permutations()` function:"
   ]
  },
  {
   "cell_type": "code",
   "execution_count": 143,
   "metadata": {
    "execution": {
     "iopub.execute_input": "2025-01-07T11:06:26.158429Z",
     "iopub.status.busy": "2025-01-07T11:06:26.158289Z",
     "iopub.status.idle": "2025-01-07T11:06:26.160056Z",
     "shell.execute_reply": "2025-01-07T11:06:26.159763Z"
    },
    "slideshow": {
     "slide_type": "skip"
    }
   },
   "outputs": [],
   "source": [
    "import itertools"
   ]
  },
  {
   "cell_type": "code",
   "execution_count": 144,
   "metadata": {
    "execution": {
     "iopub.execute_input": "2025-01-07T11:06:26.161588Z",
     "iopub.status.busy": "2025-01-07T11:06:26.161419Z",
     "iopub.status.idle": "2025-01-07T11:06:26.163432Z",
     "shell.execute_reply": "2025-01-07T11:06:26.163134Z"
    },
    "slideshow": {
     "slide_type": "subslide"
    }
   },
   "outputs": [
    {
     "name": "stdout",
     "output_type": "stream",
     "text": [
      "(1.0, 2.0)\n",
      "(1.0, 3.0)\n",
      "(2.0, 1.0)\n",
      "(2.0, 3.0)\n",
      "(3.0, 1.0)\n",
      "(3.0, 2.0)\n"
     ]
    }
   ],
   "source": [
    "for combination in itertools.permutations([1.0, 2.0, 3.0], 2):\n",
    "    print(combination)"
   ]
  },
  {
   "cell_type": "markdown",
   "metadata": {
    "slideshow": {
     "slide_type": "fragment"
    }
   },
   "source": [
    "The function `true_property_instantiations()` takes a property and a list of tuples (`var_name`, `value`).  It then produces all instantiations of the property with the given values and returns those that evaluate to True."
   ]
  },
  {
   "cell_type": "code",
   "execution_count": 145,
   "metadata": {
    "execution": {
     "iopub.execute_input": "2025-01-07T11:06:26.165018Z",
     "iopub.status.busy": "2025-01-07T11:06:26.164895Z",
     "iopub.status.idle": "2025-01-07T11:06:26.166734Z",
     "shell.execute_reply": "2025-01-07T11:06:26.166456Z"
    },
    "slideshow": {
     "slide_type": "fragment"
    }
   },
   "outputs": [],
   "source": [
    "Invariants = Set[Tuple[str, Tuple[str, ...]]]"
   ]
  },
  {
   "cell_type": "code",
   "execution_count": 146,
   "metadata": {
    "execution": {
     "iopub.execute_input": "2025-01-07T11:06:26.168139Z",
     "iopub.status.busy": "2025-01-07T11:06:26.168028Z",
     "iopub.status.idle": "2025-01-07T11:06:26.170476Z",
     "shell.execute_reply": "2025-01-07T11:06:26.170251Z"
    },
    "slideshow": {
     "slide_type": "subslide"
    }
   },
   "outputs": [],
   "source": [
    "def true_property_instantiations(prop: str, vars_and_values: Arguments, \n",
    "                                 log: bool = False) -> Invariants:\n",
    "    instantiations = set()\n",
    "    p = prop_function(prop)\n",
    "\n",
    "    len_metavars = len(metavars(prop))\n",
    "    for combination in itertools.permutations(vars_and_values, len_metavars):\n",
    "        args = [value for var_name, value in combination]\n",
    "        var_names = [var_name for var_name, value in combination]\n",
    "\n",
    "        try:\n",
    "            result = p(*args)\n",
    "        except:\n",
    "            result = None\n",
    "\n",
    "        if log:\n",
    "            print(prop, combination, result)\n",
    "        if result:\n",
    "            instantiations.add((prop, tuple(var_names)))\n",
    "\n",
    "    return instantiations"
   ]
  },
  {
   "cell_type": "markdown",
   "metadata": {
    "slideshow": {
     "slide_type": "subslide"
    }
   },
   "source": [
    "Here is an example.   If `x == -1` and `y == 1`, the property `X < Y` holds for `x < y`, but not for `y < x`:"
   ]
  },
  {
   "cell_type": "code",
   "execution_count": 147,
   "metadata": {
    "execution": {
     "iopub.execute_input": "2025-01-07T11:06:26.171807Z",
     "iopub.status.busy": "2025-01-07T11:06:26.171687Z",
     "iopub.status.idle": "2025-01-07T11:06:26.174298Z",
     "shell.execute_reply": "2025-01-07T11:06:26.173985Z"
    },
    "slideshow": {
     "slide_type": "fragment"
    }
   },
   "outputs": [
    {
     "name": "stdout",
     "output_type": "stream",
     "text": [
      "X < Y (('x', -1), ('y', 1)) True\n",
      "X < Y (('y', 1), ('x', -1)) False\n"
     ]
    },
    {
     "data": {
      "text/plain": [
       "{('X < Y', ('x', 'y'))}"
      ]
     },
     "execution_count": 147,
     "metadata": {},
     "output_type": "execute_result"
    }
   ],
   "source": [
    "invs = true_property_instantiations(\"X < Y\", [('x', -1), ('y', 1)], log=True)\n",
    "invs"
   ]
  },
  {
   "cell_type": "markdown",
   "metadata": {
    "slideshow": {
     "slide_type": "fragment"
    }
   },
   "source": [
    "The instantiation retrieves the short form:"
   ]
  },
  {
   "cell_type": "code",
   "execution_count": 148,
   "metadata": {
    "execution": {
     "iopub.execute_input": "2025-01-07T11:06:26.175654Z",
     "iopub.status.busy": "2025-01-07T11:06:26.175558Z",
     "iopub.status.idle": "2025-01-07T11:06:26.177840Z",
     "shell.execute_reply": "2025-01-07T11:06:26.177602Z"
    },
    "slideshow": {
     "slide_type": "fragment"
    }
   },
   "outputs": [
    {
     "name": "stdout",
     "output_type": "stream",
     "text": [
      "x < y\n"
     ]
    }
   ],
   "source": [
    "for prop, var_names in invs:\n",
    "    print(instantiate_prop(prop, var_names))"
   ]
  },
  {
   "cell_type": "markdown",
   "metadata": {
    "slideshow": {
     "slide_type": "fragment"
    }
   },
   "source": [
    "Likewise, with values for `x` and `y` as above, the property `X < 0` only holds for `x`, but not for `y`:"
   ]
  },
  {
   "cell_type": "code",
   "execution_count": 149,
   "metadata": {
    "execution": {
     "iopub.execute_input": "2025-01-07T11:06:26.179284Z",
     "iopub.status.busy": "2025-01-07T11:06:26.179174Z",
     "iopub.status.idle": "2025-01-07T11:06:26.181246Z",
     "shell.execute_reply": "2025-01-07T11:06:26.180957Z"
    },
    "slideshow": {
     "slide_type": "subslide"
    }
   },
   "outputs": [
    {
     "name": "stdout",
     "output_type": "stream",
     "text": [
      "X < 0 (('x', -1),) True\n",
      "X < 0 (('y', 1),) False\n"
     ]
    }
   ],
   "source": [
    "invs = true_property_instantiations(\"X < 0\", [('x', -1), ('y', 1)], log=True)"
   ]
  },
  {
   "cell_type": "code",
   "execution_count": 150,
   "metadata": {
    "execution": {
     "iopub.execute_input": "2025-01-07T11:06:26.182662Z",
     "iopub.status.busy": "2025-01-07T11:06:26.182527Z",
     "iopub.status.idle": "2025-01-07T11:06:26.184925Z",
     "shell.execute_reply": "2025-01-07T11:06:26.184590Z"
    },
    "slideshow": {
     "slide_type": "fragment"
    }
   },
   "outputs": [
    {
     "name": "stdout",
     "output_type": "stream",
     "text": [
      "x < 0\n"
     ]
    }
   ],
   "source": [
    "for prop, var_names in invs:\n",
    "    print(instantiate_prop(prop, var_names))"
   ]
  },
  {
   "cell_type": "markdown",
   "metadata": {
    "slideshow": {
     "slide_type": "subslide"
    }
   },
   "source": [
    "### Extracting Invariants\n",
    "\n",
    "Let us now run the above invariant extraction on function arguments and return values as observed during a function execution.  To this end, we extend the `CallTracer` class into an `InvariantTracer` class, which automatically computes invariants for all functions and all calls observed during tracking."
   ]
  },
  {
   "cell_type": "markdown",
   "metadata": {
    "slideshow": {
     "slide_type": "fragment"
    }
   },
   "source": [
    "By default, an `InvariantTracer` uses the `INVARIANT_PROPERTIES` properties as defined above; however, one can specify alternate sets of properties."
   ]
  },
  {
   "cell_type": "code",
   "execution_count": 151,
   "metadata": {
    "execution": {
     "iopub.execute_input": "2025-01-07T11:06:26.186368Z",
     "iopub.status.busy": "2025-01-07T11:06:26.186244Z",
     "iopub.status.idle": "2025-01-07T11:06:26.188299Z",
     "shell.execute_reply": "2025-01-07T11:06:26.187948Z"
    },
    "slideshow": {
     "slide_type": "subslide"
    }
   },
   "outputs": [],
   "source": [
    "class InvariantTracer(CallTracer):\n",
    "    def __init__(self, props: Optional[List[str]] = None, **kwargs: Any) -> None:\n",
    "        if props is None:\n",
    "            props = INVARIANT_PROPERTIES\n",
    "\n",
    "        self.props = props\n",
    "        super().__init__(**kwargs)"
   ]
  },
  {
   "cell_type": "markdown",
   "metadata": {
    "slideshow": {
     "slide_type": "fragment"
    }
   },
   "source": [
    "The key method of the `InvariantTracer` is the `invariants()` method.  This iterates over the calls observed and checks which properties hold.  Only the intersection of properties – that is, the set of properties that hold for all calls – is preserved, and eventually returned.  The special variable `return_value` is set to hold the return value."
   ]
  },
  {
   "cell_type": "code",
   "execution_count": 152,
   "metadata": {
    "execution": {
     "iopub.execute_input": "2025-01-07T11:06:26.190015Z",
     "iopub.status.busy": "2025-01-07T11:06:26.189900Z",
     "iopub.status.idle": "2025-01-07T11:06:26.191734Z",
     "shell.execute_reply": "2025-01-07T11:06:26.191450Z"
    },
    "slideshow": {
     "slide_type": "fragment"
    }
   },
   "outputs": [],
   "source": [
    "RETURN_VALUE = 'return_value'"
   ]
  },
  {
   "cell_type": "code",
   "execution_count": 153,
   "metadata": {
    "execution": {
     "iopub.execute_input": "2025-01-07T11:06:26.193135Z",
     "iopub.status.busy": "2025-01-07T11:06:26.193039Z",
     "iopub.status.idle": "2025-01-07T11:06:26.195960Z",
     "shell.execute_reply": "2025-01-07T11:06:26.195635Z"
    },
    "slideshow": {
     "slide_type": "subslide"
    }
   },
   "outputs": [],
   "source": [
    "class InvariantTracer(InvariantTracer):\n",
    "    def all_invariants(self) -> Dict[str, Invariants]:\n",
    "        return {function_name: self.invariants(function_name)\n",
    "                for function_name in self.all_calls()}\n",
    "\n",
    "    def invariants(self, function_name: str) -> Invariants:\n",
    "        invariants = None\n",
    "        for variables, return_value in self.calls(function_name):\n",
    "            vars_and_values = variables + [(RETURN_VALUE, return_value)]\n",
    "\n",
    "            s = set()\n",
    "            for prop in self.props:\n",
    "                s |= true_property_instantiations(prop, vars_and_values,\n",
    "                                                  self._log)\n",
    "            if invariants is None:\n",
    "                invariants = s\n",
    "            else:\n",
    "                invariants &= s\n",
    "\n",
    "        assert invariants is not None\n",
    "        return invariants"
   ]
  },
  {
   "cell_type": "markdown",
   "metadata": {
    "slideshow": {
     "slide_type": "subslide"
    }
   },
   "source": [
    "Here's an example of how to use `invariants()`.  We run the tracer on a small set of calls."
   ]
  },
  {
   "cell_type": "code",
   "execution_count": 154,
   "metadata": {
    "execution": {
     "iopub.execute_input": "2025-01-07T11:06:26.197446Z",
     "iopub.status.busy": "2025-01-07T11:06:26.197343Z",
     "iopub.status.idle": "2025-01-07T11:06:26.199939Z",
     "shell.execute_reply": "2025-01-07T11:06:26.199615Z"
    },
    "slideshow": {
     "slide_type": "fragment"
    }
   },
   "outputs": [
    {
     "data": {
      "text/plain": [
       "{'square_root': [([('x', 25.0)], 5.0), ([('x', 10.0)], 3.162277660168379)]}"
      ]
     },
     "execution_count": 154,
     "metadata": {},
     "output_type": "execute_result"
    }
   ],
   "source": [
    "with InvariantTracer() as tracer:\n",
    "    y = square_root(25.0)\n",
    "    y = square_root(10.0)\n",
    "\n",
    "tracer.all_calls()"
   ]
  },
  {
   "cell_type": "markdown",
   "metadata": {
    "slideshow": {
     "slide_type": "fragment"
    }
   },
   "source": [
    "The `invariants()` method produces a set of properties that hold for the observed runs, together with their instantiations over function arguments."
   ]
  },
  {
   "cell_type": "code",
   "execution_count": 155,
   "metadata": {
    "execution": {
     "iopub.execute_input": "2025-01-07T11:06:26.201433Z",
     "iopub.status.busy": "2025-01-07T11:06:26.201321Z",
     "iopub.status.idle": "2025-01-07T11:06:26.207182Z",
     "shell.execute_reply": "2025-01-07T11:06:26.206872Z"
    },
    "slideshow": {
     "slide_type": "subslide"
    }
   },
   "outputs": [
    {
     "data": {
      "text/plain": [
       "{('X', ('return_value',)),\n",
       " ('X', ('x',)),\n",
       " ('X < Y', ('return_value', 'x')),\n",
       " ('X <= Y', ('return_value', 'x')),\n",
       " ('X > 0', ('return_value',)),\n",
       " ('X > 0', ('x',)),\n",
       " ('X > Y', ('x', 'return_value')),\n",
       " ('X >= 0', ('return_value',)),\n",
       " ('X >= 0', ('x',)),\n",
       " ('X >= Y', ('x', 'return_value')),\n",
       " ('isinstance(X, float)', ('return_value',)),\n",
       " ('isinstance(X, float)', ('x',))}"
      ]
     },
     "execution_count": 155,
     "metadata": {},
     "output_type": "execute_result"
    }
   ],
   "source": [
    "invs = tracer.invariants('square_root')\n",
    "invs"
   ]
  },
  {
   "cell_type": "markdown",
   "metadata": {
    "slideshow": {
     "slide_type": "subslide"
    }
   },
   "source": [
    "As before, the actual instantiations are easier to read:\n"
   ]
  },
  {
   "cell_type": "code",
   "execution_count": 156,
   "metadata": {
    "execution": {
     "iopub.execute_input": "2025-01-07T11:06:26.208815Z",
     "iopub.status.busy": "2025-01-07T11:06:26.208681Z",
     "iopub.status.idle": "2025-01-07T11:06:26.210558Z",
     "shell.execute_reply": "2025-01-07T11:06:26.210308Z"
    },
    "slideshow": {
     "slide_type": "fragment"
    }
   },
   "outputs": [],
   "source": [
    "def pretty_invariants(invariants: Invariants) -> List[str]:\n",
    "    props = []\n",
    "    for (prop, var_names) in invariants:\n",
    "        props.append(instantiate_prop(prop, var_names))\n",
    "    return sorted(props)"
   ]
  },
  {
   "cell_type": "code",
   "execution_count": 157,
   "metadata": {
    "execution": {
     "iopub.execute_input": "2025-01-07T11:06:26.211777Z",
     "iopub.status.busy": "2025-01-07T11:06:26.211673Z",
     "iopub.status.idle": "2025-01-07T11:06:26.214315Z",
     "shell.execute_reply": "2025-01-07T11:06:26.214094Z"
    },
    "slideshow": {
     "slide_type": "subslide"
    }
   },
   "outputs": [
    {
     "data": {
      "text/plain": [
       "['isinstance(return_value, float)',\n",
       " 'isinstance(x, float)',\n",
       " 'return_value',\n",
       " 'return_value < x',\n",
       " 'return_value <= x',\n",
       " 'return_value > 0',\n",
       " 'return_value >= 0',\n",
       " 'x',\n",
       " 'x > 0',\n",
       " 'x > return_value',\n",
       " 'x >= 0',\n",
       " 'x >= return_value']"
      ]
     },
     "execution_count": 157,
     "metadata": {},
     "output_type": "execute_result"
    }
   ],
   "source": [
    "pretty_invariants(invs)"
   ]
  },
  {
   "cell_type": "markdown",
   "metadata": {
    "slideshow": {
     "slide_type": "subslide"
    }
   },
   "source": [
    "We see that the both `x` and the return value have a `float` type.  We also see that both are always greater than zero.  These are properties that may make useful pre- and postconditions, notably for symbolic analysis."
   ]
  },
  {
   "cell_type": "markdown",
   "metadata": {
    "slideshow": {
     "slide_type": "fragment"
    }
   },
   "source": [
    "However, there's also an invariant which does _not_ universally hold, namely `return_value <= x`, as the following example shows:"
   ]
  },
  {
   "cell_type": "code",
   "execution_count": 158,
   "metadata": {
    "execution": {
     "iopub.execute_input": "2025-01-07T11:06:26.215546Z",
     "iopub.status.busy": "2025-01-07T11:06:26.215448Z",
     "iopub.status.idle": "2025-01-07T11:06:26.217632Z",
     "shell.execute_reply": "2025-01-07T11:06:26.217382Z"
    },
    "slideshow": {
     "slide_type": "fragment"
    }
   },
   "outputs": [
    {
     "data": {
      "text/plain": [
       "0.1"
      ]
     },
     "execution_count": 158,
     "metadata": {},
     "output_type": "execute_result"
    }
   ],
   "source": [
    "square_root(0.01)"
   ]
  },
  {
   "cell_type": "markdown",
   "metadata": {
    "slideshow": {
     "slide_type": "fragment"
    }
   },
   "source": [
    "Clearly, 0.1 > 0.01 holds.  This is a case of us not learning from sufficiently diverse inputs.  As soon as we have a call including `x = 0.1`, though, the invariant `return_value <= x` is eliminated:"
   ]
  },
  {
   "cell_type": "code",
   "execution_count": 159,
   "metadata": {
    "execution": {
     "iopub.execute_input": "2025-01-07T11:06:26.219027Z",
     "iopub.status.busy": "2025-01-07T11:06:26.218925Z",
     "iopub.status.idle": "2025-01-07T11:06:26.226695Z",
     "shell.execute_reply": "2025-01-07T11:06:26.226456Z"
    },
    "slideshow": {
     "slide_type": "subslide"
    }
   },
   "outputs": [
    {
     "data": {
      "text/plain": [
       "['isinstance(return_value, float)',\n",
       " 'isinstance(x, float)',\n",
       " 'return_value',\n",
       " 'return_value > 0',\n",
       " 'return_value >= 0',\n",
       " 'x',\n",
       " 'x > 0',\n",
       " 'x >= 0']"
      ]
     },
     "execution_count": 159,
     "metadata": {},
     "output_type": "execute_result"
    }
   ],
   "source": [
    "with InvariantTracer() as tracer:\n",
    "    y = square_root(25.0)\n",
    "    y = square_root(10.0)\n",
    "    y = square_root(0.01)\n",
    "\n",
    "pretty_invariants(tracer.invariants('square_root'))"
   ]
  },
  {
   "cell_type": "markdown",
   "metadata": {
    "slideshow": {
     "slide_type": "subslide"
    }
   },
   "source": [
    "We will discuss later how to ensure sufficient diversity in inputs.  (Hint: This involves test generation.)"
   ]
  },
  {
   "cell_type": "markdown",
   "metadata": {
    "slideshow": {
     "slide_type": "fragment"
    }
   },
   "source": [
    "Let us try out our invariant tracer on `sum3()`.  We see that all types are well-defined; the properties that all arguments are non-zero, however, is specific to the calls observed."
   ]
  },
  {
   "cell_type": "code",
   "execution_count": 160,
   "metadata": {
    "execution": {
     "iopub.execute_input": "2025-01-07T11:06:26.227930Z",
     "iopub.status.busy": "2025-01-07T11:06:26.227838Z",
     "iopub.status.idle": "2025-01-07T11:06:26.234346Z",
     "shell.execute_reply": "2025-01-07T11:06:26.234055Z"
    },
    "slideshow": {
     "slide_type": "subslide"
    }
   },
   "outputs": [
    {
     "data": {
      "text/plain": [
       "['a',\n",
       " 'b',\n",
       " 'c',\n",
       " 'isinstance(a, int)',\n",
       " 'isinstance(b, int)',\n",
       " 'isinstance(c, int)',\n",
       " 'isinstance(return_value, int)',\n",
       " 'return_value']"
      ]
     },
     "execution_count": 160,
     "metadata": {},
     "output_type": "execute_result"
    }
   ],
   "source": [
    "with InvariantTracer() as tracer:\n",
    "    y = sum3(1, 2, 3)\n",
    "    y = sum3(-4, -5, -6)\n",
    "\n",
    "pretty_invariants(tracer.invariants('sum3'))"
   ]
  },
  {
   "cell_type": "markdown",
   "metadata": {
    "slideshow": {
     "slide_type": "subslide"
    }
   },
   "source": [
    "If we invoke `sum3()` with strings instead, we get different invariants.  Notably, we obtain the postcondition that the returned string always starts with the string in the first argument `a` – a universal postcondition if strings are used."
   ]
  },
  {
   "cell_type": "code",
   "execution_count": 161,
   "metadata": {
    "execution": {
     "iopub.execute_input": "2025-01-07T11:06:26.235915Z",
     "iopub.status.busy": "2025-01-07T11:06:26.235793Z",
     "iopub.status.idle": "2025-01-07T11:06:26.242440Z",
     "shell.execute_reply": "2025-01-07T11:06:26.242168Z"
    },
    "slideshow": {
     "slide_type": "subslide"
    }
   },
   "outputs": [
    {
     "data": {
      "text/plain": [
       "['a',\n",
       " 'a < return_value',\n",
       " 'a <= return_value',\n",
       " 'a in return_value',\n",
       " 'b',\n",
       " 'b in return_value',\n",
       " 'c',\n",
       " 'c in return_value',\n",
       " 'return_value',\n",
       " 'return_value > a',\n",
       " 'return_value >= a',\n",
       " 'return_value.endswith(c)',\n",
       " 'return_value.startswith(a)']"
      ]
     },
     "execution_count": 161,
     "metadata": {},
     "output_type": "execute_result"
    }
   ],
   "source": [
    "with InvariantTracer() as tracer:\n",
    "    y = sum3('a', 'b', 'c')\n",
    "    y = sum3('f', 'e', 'd')\n",
    "\n",
    "pretty_invariants(tracer.invariants('sum3'))"
   ]
  },
  {
   "cell_type": "markdown",
   "metadata": {
    "slideshow": {
     "slide_type": "subslide"
    }
   },
   "source": [
    "If we invoke `sum3()` with both strings and numbers (and zeros, too), there are no properties left that would hold across all calls.  That's the price of flexibility."
   ]
  },
  {
   "cell_type": "code",
   "execution_count": 162,
   "metadata": {
    "execution": {
     "iopub.execute_input": "2025-01-07T11:06:26.243998Z",
     "iopub.status.busy": "2025-01-07T11:06:26.243851Z",
     "iopub.status.idle": "2025-01-07T11:06:26.253325Z",
     "shell.execute_reply": "2025-01-07T11:06:26.253021Z"
    },
    "slideshow": {
     "slide_type": "fragment"
    }
   },
   "outputs": [
    {
     "data": {
      "text/plain": [
       "[]"
      ]
     },
     "execution_count": 162,
     "metadata": {},
     "output_type": "execute_result"
    }
   ],
   "source": [
    "with InvariantTracer() as tracer:\n",
    "    y = sum3('a', 'b', 'c')\n",
    "    y = sum3('c', 'b', 'a')\n",
    "    y = sum3(-4, -5, -6)\n",
    "    y = sum3(0, 0, 0)\n",
    "\n",
    "pretty_invariants(tracer.invariants('sum3'))"
   ]
  },
  {
   "cell_type": "markdown",
   "metadata": {
    "slideshow": {
     "slide_type": "subslide"
    }
   },
   "source": [
    "### Converting Mined Invariants to Annotations\n",
    "\n",
    "As with types, above, we would like to have some functionality where we can add the mined invariants as annotations to existing functions.  To this end, we introduce the `InvariantAnnotator` class, extending `InvariantTracer`."
   ]
  },
  {
   "cell_type": "markdown",
   "metadata": {
    "slideshow": {
     "slide_type": "fragment"
    }
   },
   "source": [
    "We start with a helper method.  `params()` returns a comma-separated list of parameter names as observed during calls."
   ]
  },
  {
   "cell_type": "code",
   "execution_count": 163,
   "metadata": {
    "execution": {
     "iopub.execute_input": "2025-01-07T11:06:26.254746Z",
     "iopub.status.busy": "2025-01-07T11:06:26.254641Z",
     "iopub.status.idle": "2025-01-07T11:06:26.256525Z",
     "shell.execute_reply": "2025-01-07T11:06:26.256322Z"
    },
    "slideshow": {
     "slide_type": "fragment"
    }
   },
   "outputs": [],
   "source": [
    "class InvariantAnnotator(InvariantTracer):\n",
    "    def params(self, function_name: str) -> str:\n",
    "        arguments, return_value = self.calls(function_name)[0]\n",
    "        return \", \".join(arg_name for (arg_name, arg_value) in arguments)"
   ]
  },
  {
   "cell_type": "code",
   "execution_count": 164,
   "metadata": {
    "execution": {
     "iopub.execute_input": "2025-01-07T11:06:26.257640Z",
     "iopub.status.busy": "2025-01-07T11:06:26.257556Z",
     "iopub.status.idle": "2025-01-07T11:06:26.259639Z",
     "shell.execute_reply": "2025-01-07T11:06:26.259374Z"
    },
    "slideshow": {
     "slide_type": "fragment"
    }
   },
   "outputs": [],
   "source": [
    "with InvariantAnnotator() as annotator:\n",
    "    y = square_root(25.0)\n",
    "    y = sum3(1, 2, 3)"
   ]
  },
  {
   "cell_type": "code",
   "execution_count": 165,
   "metadata": {
    "execution": {
     "iopub.execute_input": "2025-01-07T11:06:26.261013Z",
     "iopub.status.busy": "2025-01-07T11:06:26.260899Z",
     "iopub.status.idle": "2025-01-07T11:06:26.263167Z",
     "shell.execute_reply": "2025-01-07T11:06:26.262913Z"
    },
    "slideshow": {
     "slide_type": "subslide"
    }
   },
   "outputs": [
    {
     "data": {
      "text/plain": [
       "'x'"
      ]
     },
     "execution_count": 165,
     "metadata": {},
     "output_type": "execute_result"
    }
   ],
   "source": [
    "annotator.params('square_root')"
   ]
  },
  {
   "cell_type": "code",
   "execution_count": 166,
   "metadata": {
    "execution": {
     "iopub.execute_input": "2025-01-07T11:06:26.264406Z",
     "iopub.status.busy": "2025-01-07T11:06:26.264300Z",
     "iopub.status.idle": "2025-01-07T11:06:26.266399Z",
     "shell.execute_reply": "2025-01-07T11:06:26.266182Z"
    },
    "slideshow": {
     "slide_type": "fragment"
    }
   },
   "outputs": [
    {
     "data": {
      "text/plain": [
       "'a, b, c'"
      ]
     },
     "execution_count": 166,
     "metadata": {},
     "output_type": "execute_result"
    }
   ],
   "source": [
    "annotator.params('sum3')"
   ]
  },
  {
   "attachments": {},
   "cell_type": "markdown",
   "metadata": {
    "slideshow": {
     "slide_type": "fragment"
    }
   },
   "source": [
    "Now for the actual annotation.  `preconditions()` returns the preconditions from the mined invariants (i.e., those properties that do not depend on the return value) as a string with annotations:"
   ]
  },
  {
   "cell_type": "code",
   "execution_count": 167,
   "metadata": {
    "execution": {
     "iopub.execute_input": "2025-01-07T11:06:26.267579Z",
     "iopub.status.busy": "2025-01-07T11:06:26.267478Z",
     "iopub.status.idle": "2025-01-07T11:06:26.269845Z",
     "shell.execute_reply": "2025-01-07T11:06:26.269606Z"
    },
    "slideshow": {
     "slide_type": "subslide"
    }
   },
   "outputs": [],
   "source": [
    "class InvariantAnnotator(InvariantAnnotator):\n",
    "    def preconditions(self, function_name: str) -> List[str]:\n",
    "        \"\"\"Return a list of mined preconditions for `function_name`\"\"\"\n",
    "        conditions = []\n",
    "\n",
    "        for inv in pretty_invariants(self.invariants(function_name)):\n",
    "            if inv.find(RETURN_VALUE) >= 0:\n",
    "                continue  # Postcondition\n",
    "\n",
    "            cond = (\"@precondition(lambda \" + self.params(function_name) +\n",
    "                    \": \" + inv + \")\")\n",
    "            conditions.append(cond)\n",
    "\n",
    "        return conditions"
   ]
  },
  {
   "cell_type": "code",
   "execution_count": 168,
   "metadata": {
    "execution": {
     "iopub.execute_input": "2025-01-07T11:06:26.271126Z",
     "iopub.status.busy": "2025-01-07T11:06:26.271006Z",
     "iopub.status.idle": "2025-01-07T11:06:26.273168Z",
     "shell.execute_reply": "2025-01-07T11:06:26.272912Z"
    },
    "slideshow": {
     "slide_type": "subslide"
    }
   },
   "outputs": [],
   "source": [
    "with InvariantAnnotator() as annotator:\n",
    "    y = square_root(25.0)\n",
    "    y = square_root(0.01)\n",
    "    y = sum3(1, 2, 3)"
   ]
  },
  {
   "cell_type": "code",
   "execution_count": 169,
   "metadata": {
    "execution": {
     "iopub.execute_input": "2025-01-07T11:06:26.274419Z",
     "iopub.status.busy": "2025-01-07T11:06:26.274314Z",
     "iopub.status.idle": "2025-01-07T11:06:26.280160Z",
     "shell.execute_reply": "2025-01-07T11:06:26.279881Z"
    },
    "slideshow": {
     "slide_type": "fragment"
    }
   },
   "outputs": [
    {
     "data": {
      "text/plain": [
       "['@precondition(lambda x: isinstance(x, float))',\n",
       " '@precondition(lambda x: x)',\n",
       " '@precondition(lambda x: x > 0)',\n",
       " '@precondition(lambda x: x >= 0)']"
      ]
     },
     "execution_count": 169,
     "metadata": {},
     "output_type": "execute_result"
    }
   ],
   "source": [
    "annotator.preconditions('square_root')"
   ]
  },
  {
   "cell_type": "markdown",
   "metadata": {
    "slideshow": {
     "slide_type": "fragment"
    }
   },
   "source": [
    "`postconditions()` does the same for postconditions:"
   ]
  },
  {
   "cell_type": "code",
   "execution_count": 170,
   "metadata": {
    "execution": {
     "iopub.execute_input": "2025-01-07T11:06:26.281624Z",
     "iopub.status.busy": "2025-01-07T11:06:26.281428Z",
     "iopub.status.idle": "2025-01-07T11:06:26.283957Z",
     "shell.execute_reply": "2025-01-07T11:06:26.283702Z"
    },
    "slideshow": {
     "slide_type": "subslide"
    }
   },
   "outputs": [],
   "source": [
    "class InvariantAnnotator(InvariantAnnotator):\n",
    "    def postconditions(self, function_name: str) -> List[str]:\n",
    "        \"\"\"Return a list of mined postconditions for `function_name`\"\"\"\n",
    "\n",
    "        conditions = []\n",
    "\n",
    "        for inv in pretty_invariants(self.invariants(function_name)):\n",
    "            if inv.find(RETURN_VALUE) < 0:\n",
    "                continue  # Precondition\n",
    "\n",
    "            cond = (f\"@postcondition(lambda {RETURN_VALUE},\"\n",
    "                    f\" {self.params(function_name)}: {inv})\")\n",
    "            conditions.append(cond)\n",
    "\n",
    "        return conditions"
   ]
  },
  {
   "cell_type": "code",
   "execution_count": 171,
   "metadata": {
    "execution": {
     "iopub.execute_input": "2025-01-07T11:06:26.285161Z",
     "iopub.status.busy": "2025-01-07T11:06:26.285067Z",
     "iopub.status.idle": "2025-01-07T11:06:26.287251Z",
     "shell.execute_reply": "2025-01-07T11:06:26.286911Z"
    },
    "slideshow": {
     "slide_type": "subslide"
    }
   },
   "outputs": [],
   "source": [
    "with InvariantAnnotator() as annotator:\n",
    "    y = square_root(25.0)\n",
    "    y = square_root(0.01)\n",
    "    y = sum3(1, 2, 3)"
   ]
  },
  {
   "cell_type": "code",
   "execution_count": 172,
   "metadata": {
    "execution": {
     "iopub.execute_input": "2025-01-07T11:06:26.288770Z",
     "iopub.status.busy": "2025-01-07T11:06:26.288661Z",
     "iopub.status.idle": "2025-01-07T11:06:26.294268Z",
     "shell.execute_reply": "2025-01-07T11:06:26.294017Z"
    },
    "slideshow": {
     "slide_type": "fragment"
    }
   },
   "outputs": [
    {
     "data": {
      "text/plain": [
       "['@postcondition(lambda return_value, x: isinstance(return_value, float))',\n",
       " '@postcondition(lambda return_value, x: return_value)',\n",
       " '@postcondition(lambda return_value, x: return_value > 0)',\n",
       " '@postcondition(lambda return_value, x: return_value >= 0)']"
      ]
     },
     "execution_count": 172,
     "metadata": {},
     "output_type": "execute_result"
    }
   ],
   "source": [
    "annotator.postconditions('square_root')"
   ]
  },
  {
   "cell_type": "markdown",
   "metadata": {
    "slideshow": {
     "slide_type": "fragment"
    }
   },
   "source": [
    "With these, we can take a function and add both pre- and postconditions as annotations:"
   ]
  },
  {
   "cell_type": "code",
   "execution_count": 173,
   "metadata": {
    "execution": {
     "iopub.execute_input": "2025-01-07T11:06:26.295637Z",
     "iopub.status.busy": "2025-01-07T11:06:26.295540Z",
     "iopub.status.idle": "2025-01-07T11:06:26.298400Z",
     "shell.execute_reply": "2025-01-07T11:06:26.298076Z"
    },
    "slideshow": {
     "slide_type": "subslide"
    }
   },
   "outputs": [],
   "source": [
    "class InvariantAnnotator(InvariantAnnotator):\n",
    "    def functions_with_invariants(self) -> str:\n",
    "        \"\"\"Return the code of all observed functions, annotated with invariants\"\"\"\n",
    "\n",
    "        functions = \"\"\n",
    "        for function_name in self.all_invariants():\n",
    "            try:\n",
    "                function = self.function_with_invariants(function_name)\n",
    "            except KeyError:\n",
    "                function = '# Could not find function ' + repr(function_name)\n",
    "\n",
    "            functions += function\n",
    "        return functions\n",
    "\n",
    "    def function_with_invariants(self, function_name: str) -> str:\n",
    "        \"\"\"Return the code of `function_name`, annotated with invariants\"\"\"\n",
    "        function = self.search_func(function_name)\n",
    "        if not function:\n",
    "            raise KeyError\n",
    "        source = inspect.getsource(function)\n",
    "        return '\\n'.join(self.preconditions(function_name) +\n",
    "                         self.postconditions(function_name)) + \\\n",
    "            '\\n' + source\n",
    "\n",
    "    def __repr__(self) -> str:\n",
    "        \"\"\"String representation, like `functions_with_invariants()`\"\"\"\n",
    "        return self.functions_with_invariants()"
   ]
  },
  {
   "cell_type": "markdown",
   "metadata": {
    "slideshow": {
     "slide_type": "subslide"
    }
   },
   "source": [
    "Here comes `function_with_invariants()` in all its glory:"
   ]
  },
  {
   "cell_type": "code",
   "execution_count": 174,
   "metadata": {
    "execution": {
     "iopub.execute_input": "2025-01-07T11:06:26.300143Z",
     "iopub.status.busy": "2025-01-07T11:06:26.300015Z",
     "iopub.status.idle": "2025-01-07T11:06:26.302286Z",
     "shell.execute_reply": "2025-01-07T11:06:26.301992Z"
    },
    "slideshow": {
     "slide_type": "fragment"
    }
   },
   "outputs": [],
   "source": [
    "with InvariantAnnotator() as annotator:\n",
    "    y = square_root(25.0)\n",
    "    y = square_root(0.01)\n",
    "    y = sum3(1, 2, 3)"
   ]
  },
  {
   "cell_type": "code",
   "execution_count": 175,
   "metadata": {
    "execution": {
     "iopub.execute_input": "2025-01-07T11:06:26.303589Z",
     "iopub.status.busy": "2025-01-07T11:06:26.303485Z",
     "iopub.status.idle": "2025-01-07T11:06:26.322813Z",
     "shell.execute_reply": "2025-01-07T11:06:26.322544Z"
    },
    "slideshow": {
     "slide_type": "subslide"
    }
   },
   "outputs": [
    {
     "name": "stdout",
     "output_type": "stream",
     "text": [
      "\u001b[90m@precondition\u001b[39;49;00m(\u001b[34mlambda\u001b[39;49;00m x: \u001b[36misinstance\u001b[39;49;00m(x, \u001b[36mfloat\u001b[39;49;00m))\u001b[37m\u001b[39;49;00m\n",
      "\u001b[90m@precondition\u001b[39;49;00m(\u001b[34mlambda\u001b[39;49;00m x: x)\u001b[37m\u001b[39;49;00m\n",
      "\u001b[90m@precondition\u001b[39;49;00m(\u001b[34mlambda\u001b[39;49;00m x: x > \u001b[34m0\u001b[39;49;00m)\u001b[37m\u001b[39;49;00m\n",
      "\u001b[90m@precondition\u001b[39;49;00m(\u001b[34mlambda\u001b[39;49;00m x: x >= \u001b[34m0\u001b[39;49;00m)\u001b[37m\u001b[39;49;00m\n",
      "\u001b[90m@postcondition\u001b[39;49;00m(\u001b[34mlambda\u001b[39;49;00m return_value, x: \u001b[36misinstance\u001b[39;49;00m(return_value, \u001b[36mfloat\u001b[39;49;00m))\u001b[37m\u001b[39;49;00m\n",
      "\u001b[90m@postcondition\u001b[39;49;00m(\u001b[34mlambda\u001b[39;49;00m return_value, x: return_value)\u001b[37m\u001b[39;49;00m\n",
      "\u001b[90m@postcondition\u001b[39;49;00m(\u001b[34mlambda\u001b[39;49;00m return_value, x: return_value > \u001b[34m0\u001b[39;49;00m)\u001b[37m\u001b[39;49;00m\n",
      "\u001b[90m@postcondition\u001b[39;49;00m(\u001b[34mlambda\u001b[39;49;00m return_value, x: return_value >= \u001b[34m0\u001b[39;49;00m)\u001b[37m\u001b[39;49;00m\n",
      "\u001b[34mdef\u001b[39;49;00m \u001b[32msquare_root\u001b[39;49;00m(x):  \u001b[37m# type: ignore\u001b[39;49;00m\u001b[37m\u001b[39;49;00m\n",
      "\u001b[37m    \u001b[39;49;00m\u001b[33m\"\"\"Computes the square root of x, using the Newton-Raphson method\"\"\"\u001b[39;49;00m\u001b[37m\u001b[39;49;00m\n",
      "    approx = \u001b[34mNone\u001b[39;49;00m\u001b[37m\u001b[39;49;00m\n",
      "    guess = x / \u001b[34m2\u001b[39;49;00m\u001b[37m\u001b[39;49;00m\n",
      "    \u001b[34mwhile\u001b[39;49;00m approx != guess:\u001b[37m\u001b[39;49;00m\n",
      "        approx = guess\u001b[37m\u001b[39;49;00m\n",
      "        guess = (approx + x / approx) / \u001b[34m2\u001b[39;49;00m\u001b[37m\u001b[39;49;00m\n",
      "\u001b[37m\u001b[39;49;00m\n",
      "    \u001b[34mreturn\u001b[39;49;00m approx\u001b[37m\u001b[39;49;00m"
     ]
    }
   ],
   "source": [
    "print_content(annotator.function_with_invariants('square_root'), '.py')"
   ]
  },
  {
   "cell_type": "markdown",
   "metadata": {
    "slideshow": {
     "slide_type": "subslide"
    }
   },
   "source": [
    "Quite a number of invariants, isn't it?  Further below (and in the exercises), we will discuss on how to focus on the most relevant properties."
   ]
  },
  {
   "cell_type": "markdown",
   "metadata": {
    "slideshow": {
     "slide_type": "slide"
    }
   },
   "source": [
    "## Avoiding Overspecialization\n",
    "\n",
    "Mined specifications can only be as good as the executions they were mined from. If we only see a single call, for instance, we will be faced with several mined pre- and postconditions that _overspecialize_ towards the values seen."
   ]
  },
  {
   "cell_type": "markdown",
   "metadata": {
    "slideshow": {
     "slide_type": "fragment"
    }
   },
   "source": [
    "Let us illustrate this effect on a simple `sum2()` function which adds two numbers."
   ]
  },
  {
   "cell_type": "code",
   "execution_count": 176,
   "metadata": {
    "execution": {
     "iopub.execute_input": "2025-01-07T11:06:26.324552Z",
     "iopub.status.busy": "2025-01-07T11:06:26.324427Z",
     "iopub.status.idle": "2025-01-07T11:06:26.326319Z",
     "shell.execute_reply": "2025-01-07T11:06:26.326036Z"
    },
    "slideshow": {
     "slide_type": "fragment"
    }
   },
   "outputs": [],
   "source": [
    "def sum2(a, b):  # type: ignore\n",
    "    return a + b"
   ]
  },
  {
   "cell_type": "markdown",
   "metadata": {
    "slideshow": {
     "slide_type": "fragment"
    }
   },
   "source": [
    "If we invoke `sum2()` with a variety of arguments, the invariants all capture the relationship between `a`, `b`, and the return value as `return_value == a + b` in all its variations."
   ]
  },
  {
   "cell_type": "code",
   "execution_count": 177,
   "metadata": {
    "execution": {
     "iopub.execute_input": "2025-01-07T11:06:26.327785Z",
     "iopub.status.busy": "2025-01-07T11:06:26.327657Z",
     "iopub.status.idle": "2025-01-07T11:06:26.329867Z",
     "shell.execute_reply": "2025-01-07T11:06:26.329579Z"
    },
    "slideshow": {
     "slide_type": "subslide"
    }
   },
   "outputs": [],
   "source": [
    "with InvariantAnnotator() as annotator:\n",
    "    sum2(31, 45)\n",
    "    sum2(0, 0)\n",
    "    sum2(-1, -5)"
   ]
  },
  {
   "cell_type": "code",
   "execution_count": 178,
   "metadata": {
    "execution": {
     "iopub.execute_input": "2025-01-07T11:06:26.331358Z",
     "iopub.status.busy": "2025-01-07T11:06:26.331240Z",
     "iopub.status.idle": "2025-01-07T11:06:26.357772Z",
     "shell.execute_reply": "2025-01-07T11:06:26.357453Z"
    },
    "slideshow": {
     "slide_type": "fragment"
    }
   },
   "outputs": [
    {
     "name": "stdout",
     "output_type": "stream",
     "text": [
      "\u001b[90m@precondition\u001b[39;49;00m(\u001b[34mlambda\u001b[39;49;00m a, b: \u001b[36misinstance\u001b[39;49;00m(a, \u001b[36mint\u001b[39;49;00m))\u001b[37m\u001b[39;49;00m\n",
      "\u001b[90m@precondition\u001b[39;49;00m(\u001b[34mlambda\u001b[39;49;00m a, b: \u001b[36misinstance\u001b[39;49;00m(b, \u001b[36mint\u001b[39;49;00m))\u001b[37m\u001b[39;49;00m\n",
      "\u001b[90m@postcondition\u001b[39;49;00m(\u001b[34mlambda\u001b[39;49;00m return_value, a, b: a == return_value - b)\u001b[37m\u001b[39;49;00m\n",
      "\u001b[90m@postcondition\u001b[39;49;00m(\u001b[34mlambda\u001b[39;49;00m return_value, a, b: b == return_value - a)\u001b[37m\u001b[39;49;00m\n",
      "\u001b[90m@postcondition\u001b[39;49;00m(\u001b[34mlambda\u001b[39;49;00m return_value, a, b: \u001b[36misinstance\u001b[39;49;00m(return_value, \u001b[36mint\u001b[39;49;00m))\u001b[37m\u001b[39;49;00m\n",
      "\u001b[90m@postcondition\u001b[39;49;00m(\u001b[34mlambda\u001b[39;49;00m return_value, a, b: return_value == a + b)\u001b[37m\u001b[39;49;00m\n",
      "\u001b[90m@postcondition\u001b[39;49;00m(\u001b[34mlambda\u001b[39;49;00m return_value, a, b: return_value == b + a)\u001b[37m\u001b[39;49;00m\n",
      "\u001b[34mdef\u001b[39;49;00m \u001b[32msum2\u001b[39;49;00m(a, b):  \u001b[37m# type: ignore\u001b[39;49;00m\u001b[37m\u001b[39;49;00m\n",
      "    \u001b[34mreturn\u001b[39;49;00m a + b\u001b[37m\u001b[39;49;00m"
     ]
    }
   ],
   "source": [
    "print_content(annotator.functions_with_invariants(), '.py')"
   ]
  },
  {
   "cell_type": "markdown",
   "metadata": {
    "slideshow": {
     "slide_type": "subslide"
    }
   },
   "source": [
    "If, however, we see only a single call, the invariants will overspecialize to the single call seen:"
   ]
  },
  {
   "cell_type": "code",
   "execution_count": 179,
   "metadata": {
    "execution": {
     "iopub.execute_input": "2025-01-07T11:06:26.359355Z",
     "iopub.status.busy": "2025-01-07T11:06:26.359198Z",
     "iopub.status.idle": "2025-01-07T11:06:26.383327Z",
     "shell.execute_reply": "2025-01-07T11:06:26.382972Z"
    },
    "slideshow": {
     "slide_type": "subslide"
    }
   },
   "outputs": [
    {
     "name": "stdout",
     "output_type": "stream",
     "text": [
      "\u001b[90m@precondition\u001b[39;49;00m(\u001b[34mlambda\u001b[39;49;00m a, b: a)\u001b[37m\u001b[39;49;00m\n",
      "\u001b[90m@precondition\u001b[39;49;00m(\u001b[34mlambda\u001b[39;49;00m a, b: a <= b)\u001b[37m\u001b[39;49;00m\n",
      "\u001b[90m@precondition\u001b[39;49;00m(\u001b[34mlambda\u001b[39;49;00m a, b: a == b)\u001b[37m\u001b[39;49;00m\n",
      "\u001b[90m@precondition\u001b[39;49;00m(\u001b[34mlambda\u001b[39;49;00m a, b: a > \u001b[34m0\u001b[39;49;00m)\u001b[37m\u001b[39;49;00m\n",
      "\u001b[90m@precondition\u001b[39;49;00m(\u001b[34mlambda\u001b[39;49;00m a, b: a >= \u001b[34m0\u001b[39;49;00m)\u001b[37m\u001b[39;49;00m\n",
      "\u001b[90m@precondition\u001b[39;49;00m(\u001b[34mlambda\u001b[39;49;00m a, b: a >= b)\u001b[37m\u001b[39;49;00m\n",
      "\u001b[90m@precondition\u001b[39;49;00m(\u001b[34mlambda\u001b[39;49;00m a, b: b)\u001b[37m\u001b[39;49;00m\n",
      "\u001b[90m@precondition\u001b[39;49;00m(\u001b[34mlambda\u001b[39;49;00m a, b: b <= a)\u001b[37m\u001b[39;49;00m\n",
      "\u001b[90m@precondition\u001b[39;49;00m(\u001b[34mlambda\u001b[39;49;00m a, b: b == a)\u001b[37m\u001b[39;49;00m\n",
      "\u001b[90m@precondition\u001b[39;49;00m(\u001b[34mlambda\u001b[39;49;00m a, b: b > \u001b[34m0\u001b[39;49;00m)\u001b[37m\u001b[39;49;00m\n",
      "\u001b[90m@precondition\u001b[39;49;00m(\u001b[34mlambda\u001b[39;49;00m a, b: b >= \u001b[34m0\u001b[39;49;00m)\u001b[37m\u001b[39;49;00m\n",
      "\u001b[90m@precondition\u001b[39;49;00m(\u001b[34mlambda\u001b[39;49;00m a, b: b >= a)\u001b[37m\u001b[39;49;00m\n",
      "\u001b[90m@precondition\u001b[39;49;00m(\u001b[34mlambda\u001b[39;49;00m a, b: \u001b[36misinstance\u001b[39;49;00m(a, \u001b[36mint\u001b[39;49;00m))\u001b[37m\u001b[39;49;00m\n",
      "\u001b[90m@precondition\u001b[39;49;00m(\u001b[34mlambda\u001b[39;49;00m a, b: \u001b[36misinstance\u001b[39;49;00m(b, \u001b[36mint\u001b[39;49;00m))\u001b[37m\u001b[39;49;00m\n",
      "\u001b[90m@postcondition\u001b[39;49;00m(\u001b[34mlambda\u001b[39;49;00m return_value, a, b: a < return_value)\u001b[37m\u001b[39;49;00m\n",
      "\u001b[90m@postcondition\u001b[39;49;00m(\u001b[34mlambda\u001b[39;49;00m return_value, a, b: a <= b <= return_value)\u001b[37m\u001b[39;49;00m\n",
      "\u001b[90m@postcondition\u001b[39;49;00m(\u001b[34mlambda\u001b[39;49;00m return_value, a, b: a <= return_value)\u001b[37m\u001b[39;49;00m\n",
      "\u001b[90m@postcondition\u001b[39;49;00m(\u001b[34mlambda\u001b[39;49;00m return_value, a, b: a == return_value - b)\u001b[37m\u001b[39;49;00m\n",
      "\u001b[90m@postcondition\u001b[39;49;00m(\u001b[34mlambda\u001b[39;49;00m return_value, a, b: a == return_value / b)\u001b[37m\u001b[39;49;00m\n",
      "\u001b[90m@postcondition\u001b[39;49;00m(\u001b[34mlambda\u001b[39;49;00m return_value, a, b: b < return_value)\u001b[37m\u001b[39;49;00m\n",
      "\u001b[90m@postcondition\u001b[39;49;00m(\u001b[34mlambda\u001b[39;49;00m return_value, a, b: b <= a <= return_value)\u001b[37m\u001b[39;49;00m\n",
      "\u001b[90m@postcondition\u001b[39;49;00m(\u001b[34mlambda\u001b[39;49;00m return_value, a, b: b <= return_value)\u001b[37m\u001b[39;49;00m\n",
      "\u001b[90m@postcondition\u001b[39;49;00m(\u001b[34mlambda\u001b[39;49;00m return_value, a, b: b == return_value - a)\u001b[37m\u001b[39;49;00m\n",
      "\u001b[90m@postcondition\u001b[39;49;00m(\u001b[34mlambda\u001b[39;49;00m return_value, a, b: b == return_value / a)\u001b[37m\u001b[39;49;00m\n",
      "\u001b[90m@postcondition\u001b[39;49;00m(\u001b[34mlambda\u001b[39;49;00m return_value, a, b: \u001b[36misinstance\u001b[39;49;00m(return_value, \u001b[36mint\u001b[39;49;00m))\u001b[37m\u001b[39;49;00m\n",
      "\u001b[90m@postcondition\u001b[39;49;00m(\u001b[34mlambda\u001b[39;49;00m return_value, a, b: return_value)\u001b[37m\u001b[39;49;00m\n",
      "\u001b[90m@postcondition\u001b[39;49;00m(\u001b[34mlambda\u001b[39;49;00m return_value, a, b: return_value == a * b)\u001b[37m\u001b[39;49;00m\n",
      "\u001b[90m@postcondition\u001b[39;49;00m(\u001b[34mlambda\u001b[39;49;00m return_value, a, b: return_value == a + b)\u001b[37m\u001b[39;49;00m\n",
      "\u001b[90m@postcondition\u001b[39;49;00m(\u001b[34mlambda\u001b[39;49;00m return_value, a, b: return_value == b * a)\u001b[37m\u001b[39;49;00m\n",
      "\u001b[90m@postcondition\u001b[39;49;00m(\u001b[34mlambda\u001b[39;49;00m return_value, a, b: return_value == b + a)\u001b[37m\u001b[39;49;00m\n",
      "\u001b[90m@postcondition\u001b[39;49;00m(\u001b[34mlambda\u001b[39;49;00m return_value, a, b: return_value > \u001b[34m0\u001b[39;49;00m)\u001b[37m\u001b[39;49;00m\n",
      "\u001b[90m@postcondition\u001b[39;49;00m(\u001b[34mlambda\u001b[39;49;00m return_value, a, b: return_value > a)\u001b[37m\u001b[39;49;00m\n",
      "\u001b[90m@postcondition\u001b[39;49;00m(\u001b[34mlambda\u001b[39;49;00m return_value, a, b: return_value > b)\u001b[37m\u001b[39;49;00m\n",
      "\u001b[90m@postcondition\u001b[39;49;00m(\u001b[34mlambda\u001b[39;49;00m return_value, a, b: return_value >= \u001b[34m0\u001b[39;49;00m)\u001b[37m\u001b[39;49;00m\n",
      "\u001b[90m@postcondition\u001b[39;49;00m(\u001b[34mlambda\u001b[39;49;00m return_value, a, b: return_value >= a)\u001b[37m\u001b[39;49;00m\n",
      "\u001b[90m@postcondition\u001b[39;49;00m(\u001b[34mlambda\u001b[39;49;00m return_value, a, b: return_value >= a >= b)\u001b[37m\u001b[39;49;00m\n",
      "\u001b[90m@postcondition\u001b[39;49;00m(\u001b[34mlambda\u001b[39;49;00m return_value, a, b: return_value >= b)\u001b[37m\u001b[39;49;00m\n",
      "\u001b[90m@postcondition\u001b[39;49;00m(\u001b[34mlambda\u001b[39;49;00m return_value, a, b: return_value >= b >= a)\u001b[37m\u001b[39;49;00m\n",
      "\u001b[34mdef\u001b[39;49;00m \u001b[32msum2\u001b[39;49;00m(a, b):  \u001b[37m# type: ignore\u001b[39;49;00m\u001b[37m\u001b[39;49;00m\n",
      "    \u001b[34mreturn\u001b[39;49;00m a + b\u001b[37m\u001b[39;49;00m"
     ]
    }
   ],
   "source": [
    "with InvariantAnnotator() as annotator:\n",
    "    y = sum2(2, 2)\n",
    "print_content(annotator.functions_with_invariants(), '.py')"
   ]
  },
  {
   "cell_type": "markdown",
   "metadata": {
    "slideshow": {
     "slide_type": "subslide"
    }
   },
   "source": [
    "The mined precondition `a == b`, for instance, only holds for the single call observed; the same holds for the mined postcondition `return_value == a * b`.  Yet, `sum2()` can obviously be successfully called with other values that do not satisfy these conditions."
   ]
  },
  {
   "cell_type": "markdown",
   "metadata": {
    "slideshow": {
     "slide_type": "fragment"
    }
   },
   "source": [
    "To get out of this trap, we have to _learn from more and more diverse runs_. \n",
    "One way to obtain such runs is by _generating_ inputs. Indeed, a simple test generator for calls of `sum2()` will easily resolve the problem."
   ]
  },
  {
   "cell_type": "code",
   "execution_count": 180,
   "metadata": {
    "execution": {
     "iopub.execute_input": "2025-01-07T11:06:26.385067Z",
     "iopub.status.busy": "2025-01-07T11:06:26.384921Z",
     "iopub.status.idle": "2025-01-07T11:06:26.386701Z",
     "shell.execute_reply": "2025-01-07T11:06:26.386450Z"
    },
    "slideshow": {
     "slide_type": "skip"
    }
   },
   "outputs": [],
   "source": [
    "import random"
   ]
  },
  {
   "cell_type": "code",
   "execution_count": 181,
   "metadata": {
    "execution": {
     "iopub.execute_input": "2025-01-07T11:06:26.388074Z",
     "iopub.status.busy": "2025-01-07T11:06:26.387942Z",
     "iopub.status.idle": "2025-01-07T11:06:26.394940Z",
     "shell.execute_reply": "2025-01-07T11:06:26.394683Z"
    },
    "slideshow": {
     "slide_type": "fragment"
    }
   },
   "outputs": [],
   "source": [
    "with InvariantAnnotator() as annotator:\n",
    "    for i in range(100):\n",
    "        a = random.randrange(-10, +10)\n",
    "        b = random.randrange(-10, +10)\n",
    "        length = sum2(a, b)"
   ]
  },
  {
   "cell_type": "code",
   "execution_count": 182,
   "metadata": {
    "execution": {
     "iopub.execute_input": "2025-01-07T11:06:26.396193Z",
     "iopub.status.busy": "2025-01-07T11:06:26.396097Z",
     "iopub.status.idle": "2025-01-07T11:06:26.700829Z",
     "shell.execute_reply": "2025-01-07T11:06:26.700524Z"
    },
    "slideshow": {
     "slide_type": "subslide"
    }
   },
   "outputs": [
    {
     "name": "stdout",
     "output_type": "stream",
     "text": [
      "\u001b[90m@precondition\u001b[39;49;00m(\u001b[34mlambda\u001b[39;49;00m a, b: \u001b[36misinstance\u001b[39;49;00m(a, \u001b[36mint\u001b[39;49;00m))\u001b[37m\u001b[39;49;00m\n",
      "\u001b[90m@precondition\u001b[39;49;00m(\u001b[34mlambda\u001b[39;49;00m a, b: \u001b[36misinstance\u001b[39;49;00m(b, \u001b[36mint\u001b[39;49;00m))\u001b[37m\u001b[39;49;00m\n",
      "\u001b[90m@postcondition\u001b[39;49;00m(\u001b[34mlambda\u001b[39;49;00m return_value, a, b: a == return_value - b)\u001b[37m\u001b[39;49;00m\n",
      "\u001b[90m@postcondition\u001b[39;49;00m(\u001b[34mlambda\u001b[39;49;00m return_value, a, b: b == return_value - a)\u001b[37m\u001b[39;49;00m\n",
      "\u001b[90m@postcondition\u001b[39;49;00m(\u001b[34mlambda\u001b[39;49;00m return_value, a, b: \u001b[36misinstance\u001b[39;49;00m(return_value, \u001b[36mint\u001b[39;49;00m))\u001b[37m\u001b[39;49;00m\n",
      "\u001b[90m@postcondition\u001b[39;49;00m(\u001b[34mlambda\u001b[39;49;00m return_value, a, b: return_value == a + b)\u001b[37m\u001b[39;49;00m\n",
      "\u001b[90m@postcondition\u001b[39;49;00m(\u001b[34mlambda\u001b[39;49;00m return_value, a, b: return_value == b + a)\u001b[37m\u001b[39;49;00m\n",
      "\u001b[34mdef\u001b[39;49;00m \u001b[32msum2\u001b[39;49;00m(a, b):  \u001b[37m# type: ignore\u001b[39;49;00m\u001b[37m\u001b[39;49;00m\n",
      "    \u001b[34mreturn\u001b[39;49;00m a + b\u001b[37m\u001b[39;49;00m"
     ]
    }
   ],
   "source": [
    "print_content(annotator.function_with_invariants('sum2'), '.py')"
   ]
  },
  {
   "cell_type": "markdown",
   "metadata": {
    "slideshow": {
     "slide_type": "fragment"
    }
   },
   "source": [
    "Note, though, that an API test generator, such as above, will have to be set up such that it actually respects preconditions – in our case, we invoke `sum2()` with integers only, already assuming its precondition.  In some way, one thus needs a specification (a model, a grammar) to mine another specification – a chicken-and-egg problem."
   ]
  },
  {
   "cell_type": "markdown",
   "metadata": {
    "slideshow": {
     "slide_type": "subslide"
    }
   },
   "source": [
    "However, there is one way out of this problem: If one can automatically generate tests at the system level, then one has an _infinite source of executions_ to learn invariants from.  In each of these executions, all functions would be called with values that satisfy the (implicit) precondition, allowing us to mine invariants for these functions.  This holds, because at the system level, invalid inputs must be rejected by the system in the first place.  The meaningful precondition at the system level, ensuring that only valid inputs get through, thus gets broken down into a multitude of meaningful preconditions (and subsequent postconditions) at the function level."
   ]
  },
  {
   "cell_type": "markdown",
   "metadata": {
    "slideshow": {
     "slide_type": "fragment"
    }
   },
   "source": [
    "The big requirement for all this, though, is that one needs good test generators. This will be the subject of another book, namely [The Fuzzing Book](https://www.fuzzingbook.org/)."
   ]
  },
  {
   "cell_type": "markdown",
   "metadata": {
    "slideshow": {
     "slide_type": "slide"
    }
   },
   "source": [
    "## Partial Invariants\n",
    "\n",
    "For debugging, it can be helpful to focus on invariants produced only by _failing_ runs, thus characterizing the _circumstances under which a function fails_. Let us illustrate this on an example."
   ]
  },
  {
   "cell_type": "markdown",
   "metadata": {
    "slideshow": {
     "slide_type": "fragment"
    }
   },
   "source": [
    "The `middle()` function from the [chapter on statistical debugging](StatisticalDebugger.ipynb) is supposed to return the middle of three integers `x`, `y`, and `z`."
   ]
  },
  {
   "cell_type": "code",
   "execution_count": 183,
   "metadata": {
    "execution": {
     "iopub.execute_input": "2025-01-07T11:06:26.702673Z",
     "iopub.status.busy": "2025-01-07T11:06:26.702540Z",
     "iopub.status.idle": "2025-01-07T11:06:27.742697Z",
     "shell.execute_reply": "2025-01-07T11:06:27.742315Z"
    },
    "slideshow": {
     "slide_type": "skip"
    }
   },
   "outputs": [],
   "source": [
    "from StatisticalDebugger import middle  # minor dependency"
   ]
  },
  {
   "cell_type": "code",
   "execution_count": 184,
   "metadata": {
    "execution": {
     "iopub.execute_input": "2025-01-07T11:06:27.745517Z",
     "iopub.status.busy": "2025-01-07T11:06:27.745263Z",
     "iopub.status.idle": "2025-01-07T11:06:27.756525Z",
     "shell.execute_reply": "2025-01-07T11:06:27.756177Z"
    },
    "slideshow": {
     "slide_type": "fragment"
    }
   },
   "outputs": [],
   "source": [
    "with InvariantAnnotator() as annotator:\n",
    "    for i in range(100):\n",
    "        x = random.randrange(-10, +10)\n",
    "        y = random.randrange(-10, +10)\n",
    "        z = random.randrange(-10, +10)\n",
    "        mid = middle(x, y, z) "
   ]
  },
  {
   "cell_type": "markdown",
   "metadata": {
    "slideshow": {
     "slide_type": "subslide"
    }
   },
   "source": [
    "By default, our `InvariantAnnotator()` does not return any particular pre- or postcondition (other than the types observed). That is just fine, as the function indeed imposes no particular precondition; and the postcondition from `middle()` is not covered by the `InvariantAnnotator` patterns."
   ]
  },
  {
   "cell_type": "code",
   "execution_count": 185,
   "metadata": {
    "execution": {
     "iopub.execute_input": "2025-01-07T11:06:27.758374Z",
     "iopub.status.busy": "2025-01-07T11:06:27.758204Z",
     "iopub.status.idle": "2025-01-07T11:06:29.268617Z",
     "shell.execute_reply": "2025-01-07T11:06:29.268309Z"
    },
    "slideshow": {
     "slide_type": "subslide"
    }
   },
   "outputs": [
    {
     "name": "stdout",
     "output_type": "stream",
     "text": [
      "\u001b[37m# Could not find function '_randbelow_with_getrandbits'# Could not find function 'randrange'@precondition(lambda x, y, z: isinstance(x, int))\u001b[39;49;00m\u001b[37m\u001b[39;49;00m\n",
      "\u001b[90m@precondition\u001b[39;49;00m(\u001b[34mlambda\u001b[39;49;00m x, y, z: \u001b[36misinstance\u001b[39;49;00m(y, \u001b[36mint\u001b[39;49;00m))\u001b[37m\u001b[39;49;00m\n",
      "\u001b[90m@precondition\u001b[39;49;00m(\u001b[34mlambda\u001b[39;49;00m x, y, z: \u001b[36misinstance\u001b[39;49;00m(z, \u001b[36mint\u001b[39;49;00m))\u001b[37m\u001b[39;49;00m\n",
      "\u001b[90m@postcondition\u001b[39;49;00m(\u001b[34mlambda\u001b[39;49;00m return_value, x, y, z: \u001b[36misinstance\u001b[39;49;00m(return_value, \u001b[36mint\u001b[39;49;00m))\u001b[37m\u001b[39;49;00m\n",
      "\u001b[34mdef\u001b[39;49;00m \u001b[32mmiddle\u001b[39;49;00m(x, y, z):  \u001b[37m# type: ignore\u001b[39;49;00m\u001b[37m\u001b[39;49;00m\n",
      "    \u001b[34mif\u001b[39;49;00m y < z:\u001b[37m\u001b[39;49;00m\n",
      "        \u001b[34mif\u001b[39;49;00m x < y:\u001b[37m\u001b[39;49;00m\n",
      "            \u001b[34mreturn\u001b[39;49;00m y\u001b[37m\u001b[39;49;00m\n",
      "        \u001b[34melif\u001b[39;49;00m x < z:\u001b[37m\u001b[39;49;00m\n",
      "            \u001b[34mreturn\u001b[39;49;00m y\u001b[37m\u001b[39;49;00m\n",
      "    \u001b[34melse\u001b[39;49;00m:\u001b[37m\u001b[39;49;00m\n",
      "        \u001b[34mif\u001b[39;49;00m x > y:\u001b[37m\u001b[39;49;00m\n",
      "            \u001b[34mreturn\u001b[39;49;00m y\u001b[37m\u001b[39;49;00m\n",
      "        \u001b[34melif\u001b[39;49;00m x > z:\u001b[37m\u001b[39;49;00m\n",
      "            \u001b[34mreturn\u001b[39;49;00m x\u001b[37m\u001b[39;49;00m\n",
      "    \u001b[34mreturn\u001b[39;49;00m z\u001b[37m\u001b[39;49;00m"
     ]
    }
   ],
   "source": [
    "print_content(annotator.functions_with_invariants(), '.py')"
   ]
  },
  {
   "cell_type": "markdown",
   "metadata": {
    "slideshow": {
     "slide_type": "subslide"
    }
   },
   "source": [
    "Things get more interesting if we focus on a particular subset of runs only, though - say, a set of inputs where `middle()` fails."
   ]
  },
  {
   "cell_type": "code",
   "execution_count": 186,
   "metadata": {
    "execution": {
     "iopub.execute_input": "2025-01-07T11:06:29.270234Z",
     "iopub.status.busy": "2025-01-07T11:06:29.270120Z",
     "iopub.status.idle": "2025-01-07T11:06:29.271847Z",
     "shell.execute_reply": "2025-01-07T11:06:29.271572Z"
    },
    "slideshow": {
     "slide_type": "skip"
    }
   },
   "outputs": [],
   "source": [
    "from StatisticalDebugger import MIDDLE_FAILING_TESTCASES  # minor dependency"
   ]
  },
  {
   "cell_type": "code",
   "execution_count": 187,
   "metadata": {
    "execution": {
     "iopub.execute_input": "2025-01-07T11:06:29.273301Z",
     "iopub.status.busy": "2025-01-07T11:06:29.273190Z",
     "iopub.status.idle": "2025-01-07T11:06:29.275650Z",
     "shell.execute_reply": "2025-01-07T11:06:29.275435Z"
    },
    "slideshow": {
     "slide_type": "fragment"
    }
   },
   "outputs": [],
   "source": [
    "with InvariantAnnotator() as annotator:\n",
    "    for x, y, z in MIDDLE_FAILING_TESTCASES:\n",
    "        mid = middle(x, y, z) "
   ]
  },
  {
   "cell_type": "code",
   "execution_count": 188,
   "metadata": {
    "execution": {
     "iopub.execute_input": "2025-01-07T11:06:29.276844Z",
     "iopub.status.busy": "2025-01-07T11:06:29.276747Z",
     "iopub.status.idle": "2025-01-07T11:06:29.745607Z",
     "shell.execute_reply": "2025-01-07T11:06:29.745336Z"
    },
    "slideshow": {
     "slide_type": "subslide"
    }
   },
   "outputs": [
    {
     "name": "stdout",
     "output_type": "stream",
     "text": [
      "\u001b[90m@precondition\u001b[39;49;00m(\u001b[34mlambda\u001b[39;49;00m x, y, z: \u001b[36misinstance\u001b[39;49;00m(x, \u001b[36mint\u001b[39;49;00m))\u001b[37m\u001b[39;49;00m\n",
      "\u001b[90m@precondition\u001b[39;49;00m(\u001b[34mlambda\u001b[39;49;00m x, y, z: \u001b[36misinstance\u001b[39;49;00m(y, \u001b[36mint\u001b[39;49;00m))\u001b[37m\u001b[39;49;00m\n",
      "\u001b[90m@precondition\u001b[39;49;00m(\u001b[34mlambda\u001b[39;49;00m x, y, z: \u001b[36misinstance\u001b[39;49;00m(z, \u001b[36mint\u001b[39;49;00m))\u001b[37m\u001b[39;49;00m\n",
      "\u001b[90m@precondition\u001b[39;49;00m(\u001b[34mlambda\u001b[39;49;00m x, y, z: x)\u001b[37m\u001b[39;49;00m\n",
      "\u001b[90m@precondition\u001b[39;49;00m(\u001b[34mlambda\u001b[39;49;00m x, y, z: x < z)\u001b[37m\u001b[39;49;00m\n",
      "\u001b[90m@precondition\u001b[39;49;00m(\u001b[34mlambda\u001b[39;49;00m x, y, z: x <= z)\u001b[37m\u001b[39;49;00m\n",
      "\u001b[90m@precondition\u001b[39;49;00m(\u001b[34mlambda\u001b[39;49;00m x, y, z: x > \u001b[34m0\u001b[39;49;00m)\u001b[37m\u001b[39;49;00m\n",
      "\u001b[90m@precondition\u001b[39;49;00m(\u001b[34mlambda\u001b[39;49;00m x, y, z: x > y)\u001b[37m\u001b[39;49;00m\n",
      "\u001b[90m@precondition\u001b[39;49;00m(\u001b[34mlambda\u001b[39;49;00m x, y, z: x >= \u001b[34m0\u001b[39;49;00m)\u001b[37m\u001b[39;49;00m\n",
      "\u001b[90m@precondition\u001b[39;49;00m(\u001b[34mlambda\u001b[39;49;00m x, y, z: x >= y)\u001b[37m\u001b[39;49;00m\n",
      "\u001b[90m@precondition\u001b[39;49;00m(\u001b[34mlambda\u001b[39;49;00m x, y, z: y < x)\u001b[37m\u001b[39;49;00m\n",
      "\u001b[90m@precondition\u001b[39;49;00m(\u001b[34mlambda\u001b[39;49;00m x, y, z: y < x < z)\u001b[37m\u001b[39;49;00m\n",
      "\u001b[90m@precondition\u001b[39;49;00m(\u001b[34mlambda\u001b[39;49;00m x, y, z: y < z)\u001b[37m\u001b[39;49;00m\n",
      "\u001b[90m@precondition\u001b[39;49;00m(\u001b[34mlambda\u001b[39;49;00m x, y, z: y <= x)\u001b[37m\u001b[39;49;00m\n",
      "\u001b[90m@precondition\u001b[39;49;00m(\u001b[34mlambda\u001b[39;49;00m x, y, z: y <= x <= z)\u001b[37m\u001b[39;49;00m\n",
      "\u001b[90m@precondition\u001b[39;49;00m(\u001b[34mlambda\u001b[39;49;00m x, y, z: y <= z)\u001b[37m\u001b[39;49;00m\n",
      "\u001b[90m@precondition\u001b[39;49;00m(\u001b[34mlambda\u001b[39;49;00m x, y, z: y >= \u001b[34m0\u001b[39;49;00m)\u001b[37m\u001b[39;49;00m\n",
      "\u001b[90m@precondition\u001b[39;49;00m(\u001b[34mlambda\u001b[39;49;00m x, y, z: z)\u001b[37m\u001b[39;49;00m\n",
      "\u001b[90m@precondition\u001b[39;49;00m(\u001b[34mlambda\u001b[39;49;00m x, y, z: z > \u001b[34m0\u001b[39;49;00m)\u001b[37m\u001b[39;49;00m\n",
      "\u001b[90m@precondition\u001b[39;49;00m(\u001b[34mlambda\u001b[39;49;00m x, y, z: z > x)\u001b[37m\u001b[39;49;00m\n",
      "\u001b[90m@precondition\u001b[39;49;00m(\u001b[34mlambda\u001b[39;49;00m x, y, z: z > x > y)\u001b[37m\u001b[39;49;00m\n",
      "\u001b[90m@precondition\u001b[39;49;00m(\u001b[34mlambda\u001b[39;49;00m x, y, z: z > y)\u001b[37m\u001b[39;49;00m\n",
      "\u001b[90m@precondition\u001b[39;49;00m(\u001b[34mlambda\u001b[39;49;00m x, y, z: z >= \u001b[34m0\u001b[39;49;00m)\u001b[37m\u001b[39;49;00m\n",
      "\u001b[90m@precondition\u001b[39;49;00m(\u001b[34mlambda\u001b[39;49;00m x, y, z: z >= x)\u001b[37m\u001b[39;49;00m\n",
      "\u001b[90m@precondition\u001b[39;49;00m(\u001b[34mlambda\u001b[39;49;00m x, y, z: z >= x >= y)\u001b[37m\u001b[39;49;00m\n",
      "\u001b[90m@precondition\u001b[39;49;00m(\u001b[34mlambda\u001b[39;49;00m x, y, z: z >= y)\u001b[37m\u001b[39;49;00m\n",
      "\u001b[90m@postcondition\u001b[39;49;00m(\u001b[34mlambda\u001b[39;49;00m return_value, x, y, z: \u001b[36misinstance\u001b[39;49;00m(return_value, \u001b[36mint\u001b[39;49;00m))\u001b[37m\u001b[39;49;00m\n",
      "\u001b[90m@postcondition\u001b[39;49;00m(\u001b[34mlambda\u001b[39;49;00m return_value, x, y, z: return_value < x)\u001b[37m\u001b[39;49;00m\n",
      "\u001b[90m@postcondition\u001b[39;49;00m(\u001b[34mlambda\u001b[39;49;00m return_value, x, y, z: return_value < x < z)\u001b[37m\u001b[39;49;00m\n",
      "\u001b[90m@postcondition\u001b[39;49;00m(\u001b[34mlambda\u001b[39;49;00m return_value, x, y, z: return_value < z)\u001b[37m\u001b[39;49;00m\n",
      "\u001b[90m@postcondition\u001b[39;49;00m(\u001b[34mlambda\u001b[39;49;00m return_value, x, y, z: return_value <= x)\u001b[37m\u001b[39;49;00m\n",
      "\u001b[90m@postcondition\u001b[39;49;00m(\u001b[34mlambda\u001b[39;49;00m return_value, x, y, z: return_value <= x <= z)\u001b[37m\u001b[39;49;00m\n",
      "\u001b[90m@postcondition\u001b[39;49;00m(\u001b[34mlambda\u001b[39;49;00m return_value, x, y, z: return_value <= y)\u001b[37m\u001b[39;49;00m\n",
      "\u001b[90m@postcondition\u001b[39;49;00m(\u001b[34mlambda\u001b[39;49;00m return_value, x, y, z: return_value <= y <= x)\u001b[37m\u001b[39;49;00m\n",
      "\u001b[90m@postcondition\u001b[39;49;00m(\u001b[34mlambda\u001b[39;49;00m return_value, x, y, z: return_value <= y <= z)\u001b[37m\u001b[39;49;00m\n",
      "\u001b[90m@postcondition\u001b[39;49;00m(\u001b[34mlambda\u001b[39;49;00m return_value, x, y, z: return_value <= z)\u001b[37m\u001b[39;49;00m\n",
      "\u001b[90m@postcondition\u001b[39;49;00m(\u001b[34mlambda\u001b[39;49;00m return_value, x, y, z: return_value == y)\u001b[37m\u001b[39;49;00m\n",
      "\u001b[90m@postcondition\u001b[39;49;00m(\u001b[34mlambda\u001b[39;49;00m return_value, x, y, z: return_value >= \u001b[34m0\u001b[39;49;00m)\u001b[37m\u001b[39;49;00m\n",
      "\u001b[90m@postcondition\u001b[39;49;00m(\u001b[34mlambda\u001b[39;49;00m return_value, x, y, z: return_value >= y)\u001b[37m\u001b[39;49;00m\n",
      "\u001b[90m@postcondition\u001b[39;49;00m(\u001b[34mlambda\u001b[39;49;00m return_value, x, y, z: x > return_value)\u001b[37m\u001b[39;49;00m\n",
      "\u001b[90m@postcondition\u001b[39;49;00m(\u001b[34mlambda\u001b[39;49;00m return_value, x, y, z: x >= return_value)\u001b[37m\u001b[39;49;00m\n",
      "\u001b[90m@postcondition\u001b[39;49;00m(\u001b[34mlambda\u001b[39;49;00m return_value, x, y, z: x >= return_value >= y)\u001b[37m\u001b[39;49;00m\n",
      "\u001b[90m@postcondition\u001b[39;49;00m(\u001b[34mlambda\u001b[39;49;00m return_value, x, y, z: x >= y >= return_value)\u001b[37m\u001b[39;49;00m\n",
      "\u001b[90m@postcondition\u001b[39;49;00m(\u001b[34mlambda\u001b[39;49;00m return_value, x, y, z: y <= return_value)\u001b[37m\u001b[39;49;00m\n",
      "\u001b[90m@postcondition\u001b[39;49;00m(\u001b[34mlambda\u001b[39;49;00m return_value, x, y, z: y <= return_value <= x)\u001b[37m\u001b[39;49;00m\n",
      "\u001b[90m@postcondition\u001b[39;49;00m(\u001b[34mlambda\u001b[39;49;00m return_value, x, y, z: y <= return_value <= z)\u001b[37m\u001b[39;49;00m\n",
      "\u001b[90m@postcondition\u001b[39;49;00m(\u001b[34mlambda\u001b[39;49;00m return_value, x, y, z: y == return_value)\u001b[37m\u001b[39;49;00m\n",
      "\u001b[90m@postcondition\u001b[39;49;00m(\u001b[34mlambda\u001b[39;49;00m return_value, x, y, z: y >= return_value)\u001b[37m\u001b[39;49;00m\n",
      "\u001b[90m@postcondition\u001b[39;49;00m(\u001b[34mlambda\u001b[39;49;00m return_value, x, y, z: z > return_value)\u001b[37m\u001b[39;49;00m\n",
      "\u001b[90m@postcondition\u001b[39;49;00m(\u001b[34mlambda\u001b[39;49;00m return_value, x, y, z: z > x > return_value)\u001b[37m\u001b[39;49;00m\n",
      "\u001b[90m@postcondition\u001b[39;49;00m(\u001b[34mlambda\u001b[39;49;00m return_value, x, y, z: z >= return_value)\u001b[37m\u001b[39;49;00m\n",
      "\u001b[90m@postcondition\u001b[39;49;00m(\u001b[34mlambda\u001b[39;49;00m return_value, x, y, z: z >= return_value >= y)\u001b[37m\u001b[39;49;00m\n",
      "\u001b[90m@postcondition\u001b[39;49;00m(\u001b[34mlambda\u001b[39;49;00m return_value, x, y, z: z >= x >= return_value)\u001b[37m\u001b[39;49;00m\n",
      "\u001b[90m@postcondition\u001b[39;49;00m(\u001b[34mlambda\u001b[39;49;00m return_value, x, y, z: z >= y >= return_value)\u001b[37m\u001b[39;49;00m\n",
      "\u001b[34mdef\u001b[39;49;00m \u001b[32mmiddle\u001b[39;49;00m(x, y, z):  \u001b[37m# type: ignore\u001b[39;49;00m\u001b[37m\u001b[39;49;00m\n",
      "    \u001b[34mif\u001b[39;49;00m y < z:\u001b[37m\u001b[39;49;00m\n",
      "        \u001b[34mif\u001b[39;49;00m x < y:\u001b[37m\u001b[39;49;00m\n",
      "            \u001b[34mreturn\u001b[39;49;00m y\u001b[37m\u001b[39;49;00m\n",
      "        \u001b[34melif\u001b[39;49;00m x < z:\u001b[37m\u001b[39;49;00m\n",
      "            \u001b[34mreturn\u001b[39;49;00m y\u001b[37m\u001b[39;49;00m\n",
      "    \u001b[34melse\u001b[39;49;00m:\u001b[37m\u001b[39;49;00m\n",
      "        \u001b[34mif\u001b[39;49;00m x > y:\u001b[37m\u001b[39;49;00m\n",
      "            \u001b[34mreturn\u001b[39;49;00m y\u001b[37m\u001b[39;49;00m\n",
      "        \u001b[34melif\u001b[39;49;00m x > z:\u001b[37m\u001b[39;49;00m\n",
      "            \u001b[34mreturn\u001b[39;49;00m x\u001b[37m\u001b[39;49;00m\n",
      "    \u001b[34mreturn\u001b[39;49;00m z\u001b[37m\u001b[39;49;00m"
     ]
    }
   ],
   "source": [
    "print_content(annotator.functions_with_invariants(), '.py')"
   ]
  },
  {
   "cell_type": "markdown",
   "metadata": {
    "slideshow": {
     "slide_type": "subslide"
    }
   },
   "source": [
    "Now that's an intimidating set of pre- and postconditions. However, almost all of the preconditions are implied by the one precondition\n",
    "\n",
    "```python\n",
    "@precondition(lambda x, y, z: y < x < z, doc='y < x < z')\n",
    "```\n",
    "\n",
    "which characterizes the exact condition under which `middle()` fails (which also happens to be the condition under which the erroneous second `return y` is executed). By checking how _invariants for failing runs_ differ from _invariants for passing runs_, we can identify circumstances for function failures."
   ]
  },
  {
   "cell_type": "code",
   "execution_count": 189,
   "metadata": {
    "execution": {
     "iopub.execute_input": "2025-01-07T11:06:29.747185Z",
     "iopub.status.busy": "2025-01-07T11:06:29.747066Z",
     "iopub.status.idle": "2025-01-07T11:06:29.750310Z",
     "shell.execute_reply": "2025-01-07T11:06:29.750040Z"
    },
    "slideshow": {
     "slide_type": "subslide"
    }
   },
   "outputs": [
    {
     "data": {
      "text/html": [
       "\n",
       "    \n",
       "    <script>\n",
       "    var bad_answers = new Map();\n",
       "\n",
       "    function answer(quiz_id) {\n",
       "        ans = 0;\n",
       "        for (i = 1;; i++) {\n",
       "            checkbox = document.getElementById(quiz_id + \"-\" + i.toString());\n",
       "            if (!checkbox)\n",
       "                break;\n",
       "            if (checkbox.checked)\n",
       "                ans |= (1 << i);\n",
       "        }\n",
       "        return ans;\n",
       "    }\n",
       "    function check_selection(quiz_id, correct_answer, multiple_choice, hint) {\n",
       "        given_answer = answer(quiz_id);\n",
       "        if (given_answer == correct_answer)\n",
       "        {\n",
       "            document.getElementById(quiz_id + \"-submit\").value = \"Correct!\";\n",
       "            document.getElementById(quiz_id + \"-hint\").innerHTML = \"\";\n",
       "\n",
       "            for (i = 1;; i++) {\n",
       "                checkbox = document.getElementById(quiz_id + \"-\" + i.toString());\n",
       "                label = document.getElementById(quiz_id + \"-\" + i.toString() + \"-label\")\n",
       "                if (!checkbox)\n",
       "                    break;\n",
       "\n",
       "                if (checkbox.checked) {\n",
       "                    label.style.fontWeight = \"bold\";\n",
       "                }\n",
       "                else {\n",
       "                    label.style.textDecoration = \"line-through\";\n",
       "                }\n",
       "            }\n",
       "        }\n",
       "        else \n",
       "        {\n",
       "            document.getElementById(quiz_id + \"-submit\").value = \"Try again\";\n",
       "\n",
       "            if (!bad_answers.has(quiz_id)) {\n",
       "                bad_answers.set(quiz_id, 1);\n",
       "            }\n",
       "            else {\n",
       "                bad_answers.set(quiz_id, bad_answers.get(quiz_id) + 1);\n",
       "            }\n",
       "\n",
       "            if (bad_answers.get(quiz_id) >= 2 && hint.length > 0) {\n",
       "                document.getElementById(quiz_id + \"-hint\").innerHTML = \n",
       "                    \"&nbsp;&nbsp;(Hint: <code>\" + hint + \"</code>)\";\n",
       "            }\n",
       "\n",
       "            if (!multiple_choice) {\n",
       "                for (i = 1;; i++) {\n",
       "                    checkbox = document.getElementById(quiz_id + \"-\" + i.toString());\n",
       "                    label = document.getElementById(quiz_id + \"-\" + i.toString() + \"-label\")\n",
       "\n",
       "                    if (!checkbox)\n",
       "                        break;\n",
       "                    if (checkbox.checked) {\n",
       "                        label.style.textDecoration = \"line-through\";\n",
       "                    }\n",
       "                }\n",
       "            }\n",
       "        }\n",
       "    }\n",
       "    function clear_selection(quiz_id) {\n",
       "        document.getElementById(quiz_id + \"-submit\").value = \"Submit\";\n",
       "        document.getElementById(quiz_id + \"-hint\").innerHTML = \"\";\n",
       "    }\n",
       "    </script>\n",
       "    \n",
       "    <div class=\"quiz\">\n",
       "    <h3 class=\"quiz_title\">Quiz</h3>\n",
       "    <p>\n",
       "    <div class=\"quiz_question\">Could <code>InvariantAnnotator</code> also determine a precondition that characterizes <em>passing</em> runs?</div>\n",
       "    </p>\n",
       "    <p>\n",
       "    <div class=\"quiz_options\" title=\"Pick a choice.\">\n",
       "    \n",
       "        <input type=\"radio\" name=\"7236bda8-cce7-11ef-8c0e-6298cf1a578f\" id=\"7236bda8-cce7-11ef-8c0e-6298cf1a578f-1\" onclick=\"clear_selection('7236bda8-cce7-11ef-8c0e-6298cf1a578f')\">\n",
       "        <label id=\"7236bda8-cce7-11ef-8c0e-6298cf1a578f-1-label\" for=\"7236bda8-cce7-11ef-8c0e-6298cf1a578f-1\">Yes</label><br>\n",
       "    \n",
       "        <input type=\"radio\" name=\"7236bda8-cce7-11ef-8c0e-6298cf1a578f\" id=\"7236bda8-cce7-11ef-8c0e-6298cf1a578f-2\" onclick=\"clear_selection('7236bda8-cce7-11ef-8c0e-6298cf1a578f')\">\n",
       "        <label id=\"7236bda8-cce7-11ef-8c0e-6298cf1a578f-2-label\" for=\"7236bda8-cce7-11ef-8c0e-6298cf1a578f-2\">No</label><br>\n",
       "    \n",
       "    </div>\n",
       "    </p>\n",
       "    <input id=\"7236bda8-cce7-11ef-8c0e-6298cf1a578f-submit\" type=\"submit\" value=\"Submit\" onclick=\"check_selection('7236bda8-cce7-11ef-8c0e-6298cf1a578f', 4, 0, 'int(math.exp(1))')\">\n",
       "    <span class=\"quiz_hint\" id=\"7236bda8-cce7-11ef-8c0e-6298cf1a578f-hint\"></span>\n",
       "    </div>\n",
       "    "
      ],
      "text/plain": [
       "<IPython.core.display.HTML object>"
      ]
     },
     "execution_count": 189,
     "metadata": {},
     "output_type": "execute_result"
    }
   ],
   "source": [
    "quiz(\"Could `InvariantAnnotator` also determine a precondition \"\n",
    "     \"that characterizes _passing_ runs?\",\n",
    "     [\n",
    "         \"Yes\",\n",
    "         \"No\"\n",
    "     ], 'int(math.exp(1))', globals())"
   ]
  },
  {
   "cell_type": "markdown",
   "metadata": {
    "slideshow": {
     "slide_type": "fragment"
    }
   },
   "source": [
    "Indeed, it cannot – the correct invariant for passing runs would be the _inverse_ of the invariant for failing runs, and `not A < B < C` is not part of our invariant library. We can easily test this:"
   ]
  },
  {
   "cell_type": "code",
   "execution_count": 190,
   "metadata": {
    "execution": {
     "iopub.execute_input": "2025-01-07T11:06:29.751649Z",
     "iopub.status.busy": "2025-01-07T11:06:29.751559Z",
     "iopub.status.idle": "2025-01-07T11:06:29.753218Z",
     "shell.execute_reply": "2025-01-07T11:06:29.752980Z"
    },
    "slideshow": {
     "slide_type": "skip"
    }
   },
   "outputs": [],
   "source": [
    "from StatisticalDebugger import MIDDLE_PASSING_TESTCASES  # minor dependency"
   ]
  },
  {
   "cell_type": "code",
   "execution_count": 191,
   "metadata": {
    "execution": {
     "iopub.execute_input": "2025-01-07T11:06:29.754333Z",
     "iopub.status.busy": "2025-01-07T11:06:29.754259Z",
     "iopub.status.idle": "2025-01-07T11:06:29.756500Z",
     "shell.execute_reply": "2025-01-07T11:06:29.756261Z"
    },
    "slideshow": {
     "slide_type": "fragment"
    }
   },
   "outputs": [],
   "source": [
    "with InvariantAnnotator() as annotator:\n",
    "    for x, y, z in MIDDLE_PASSING_TESTCASES:\n",
    "        mid = middle(x, y, z) "
   ]
  },
  {
   "cell_type": "code",
   "execution_count": 192,
   "metadata": {
    "execution": {
     "iopub.execute_input": "2025-01-07T11:06:29.757709Z",
     "iopub.status.busy": "2025-01-07T11:06:29.757626Z",
     "iopub.status.idle": "2025-01-07T11:06:30.209545Z",
     "shell.execute_reply": "2025-01-07T11:06:30.209247Z"
    },
    "slideshow": {
     "slide_type": "subslide"
    }
   },
   "outputs": [
    {
     "name": "stdout",
     "output_type": "stream",
     "text": [
      "\u001b[90m@precondition\u001b[39;49;00m(\u001b[34mlambda\u001b[39;49;00m x, y, z: \u001b[36misinstance\u001b[39;49;00m(x, \u001b[36mint\u001b[39;49;00m))\u001b[37m\u001b[39;49;00m\n",
      "\u001b[90m@precondition\u001b[39;49;00m(\u001b[34mlambda\u001b[39;49;00m x, y, z: \u001b[36misinstance\u001b[39;49;00m(y, \u001b[36mint\u001b[39;49;00m))\u001b[37m\u001b[39;49;00m\n",
      "\u001b[90m@precondition\u001b[39;49;00m(\u001b[34mlambda\u001b[39;49;00m x, y, z: \u001b[36misinstance\u001b[39;49;00m(z, \u001b[36mint\u001b[39;49;00m))\u001b[37m\u001b[39;49;00m\n",
      "\u001b[90m@precondition\u001b[39;49;00m(\u001b[34mlambda\u001b[39;49;00m x, y, z: x >= \u001b[34m0\u001b[39;49;00m)\u001b[37m\u001b[39;49;00m\n",
      "\u001b[90m@precondition\u001b[39;49;00m(\u001b[34mlambda\u001b[39;49;00m x, y, z: y >= \u001b[34m0\u001b[39;49;00m)\u001b[37m\u001b[39;49;00m\n",
      "\u001b[90m@precondition\u001b[39;49;00m(\u001b[34mlambda\u001b[39;49;00m x, y, z: z >= \u001b[34m0\u001b[39;49;00m)\u001b[37m\u001b[39;49;00m\n",
      "\u001b[90m@postcondition\u001b[39;49;00m(\u001b[34mlambda\u001b[39;49;00m return_value, x, y, z: \u001b[36misinstance\u001b[39;49;00m(return_value, \u001b[36mint\u001b[39;49;00m))\u001b[37m\u001b[39;49;00m\n",
      "\u001b[90m@postcondition\u001b[39;49;00m(\u001b[34mlambda\u001b[39;49;00m return_value, x, y, z: return_value >= \u001b[34m0\u001b[39;49;00m)\u001b[37m\u001b[39;49;00m\n",
      "\u001b[34mdef\u001b[39;49;00m \u001b[32mmiddle\u001b[39;49;00m(x, y, z):  \u001b[37m# type: ignore\u001b[39;49;00m\u001b[37m\u001b[39;49;00m\n",
      "    \u001b[34mif\u001b[39;49;00m y < z:\u001b[37m\u001b[39;49;00m\n",
      "        \u001b[34mif\u001b[39;49;00m x < y:\u001b[37m\u001b[39;49;00m\n",
      "            \u001b[34mreturn\u001b[39;49;00m y\u001b[37m\u001b[39;49;00m\n",
      "        \u001b[34melif\u001b[39;49;00m x < z:\u001b[37m\u001b[39;49;00m\n",
      "            \u001b[34mreturn\u001b[39;49;00m y\u001b[37m\u001b[39;49;00m\n",
      "    \u001b[34melse\u001b[39;49;00m:\u001b[37m\u001b[39;49;00m\n",
      "        \u001b[34mif\u001b[39;49;00m x > y:\u001b[37m\u001b[39;49;00m\n",
      "            \u001b[34mreturn\u001b[39;49;00m y\u001b[37m\u001b[39;49;00m\n",
      "        \u001b[34melif\u001b[39;49;00m x > z:\u001b[37m\u001b[39;49;00m\n",
      "            \u001b[34mreturn\u001b[39;49;00m x\u001b[37m\u001b[39;49;00m\n",
      "    \u001b[34mreturn\u001b[39;49;00m z\u001b[37m\u001b[39;49;00m"
     ]
    }
   ],
   "source": [
    "print_content(annotator.functions_with_invariants(), '.py')"
   ]
  },
  {
   "cell_type": "markdown",
   "metadata": {
    "slideshow": {
     "slide_type": "slide"
    }
   },
   "source": [
    "## Some Examples\n",
    "\n",
    "Let us try out the `InvariantAnnotator` on a number of examples."
   ]
  },
  {
   "cell_type": "markdown",
   "metadata": {
    "slideshow": {
     "slide_type": "subslide"
    }
   },
   "source": [
    "### Removing HTML Markup\n",
    "\n",
    "Running `InvariantAnnotator` on our ongoing example `remove_html_markup()` does not provide much, as our invariant properties are tailored towards numerical functions."
   ]
  },
  {
   "cell_type": "code",
   "execution_count": 193,
   "metadata": {
    "execution": {
     "iopub.execute_input": "2025-01-07T11:06:30.210979Z",
     "iopub.status.busy": "2025-01-07T11:06:30.210888Z",
     "iopub.status.idle": "2025-01-07T11:06:30.212668Z",
     "shell.execute_reply": "2025-01-07T11:06:30.212429Z"
    },
    "slideshow": {
     "slide_type": "skip"
    }
   },
   "outputs": [],
   "source": [
    "from Intro_Debugging import remove_html_markup"
   ]
  },
  {
   "cell_type": "code",
   "execution_count": 194,
   "metadata": {
    "execution": {
     "iopub.execute_input": "2025-01-07T11:06:30.213745Z",
     "iopub.status.busy": "2025-01-07T11:06:30.213671Z",
     "iopub.status.idle": "2025-01-07T11:06:30.215748Z",
     "shell.execute_reply": "2025-01-07T11:06:30.215526Z"
    },
    "slideshow": {
     "slide_type": "fragment"
    }
   },
   "outputs": [],
   "source": [
    "with InvariantAnnotator() as annotator:\n",
    "    remove_html_markup(\"<foo>bar</foo>\")\n",
    "    remove_html_markup(\"bar\")\n",
    "    remove_html_markup('\"bar\"')"
   ]
  },
  {
   "cell_type": "code",
   "execution_count": 195,
   "metadata": {
    "execution": {
     "iopub.execute_input": "2025-01-07T11:06:30.217071Z",
     "iopub.status.busy": "2025-01-07T11:06:30.216939Z",
     "iopub.status.idle": "2025-01-07T11:06:30.241803Z",
     "shell.execute_reply": "2025-01-07T11:06:30.241561Z"
    },
    "slideshow": {
     "slide_type": "subslide"
    }
   },
   "outputs": [
    {
     "name": "stdout",
     "output_type": "stream",
     "text": [
      "\u001b[90m@precondition\u001b[39;49;00m(\u001b[34mlambda\u001b[39;49;00m s: s)\u001b[37m\u001b[39;49;00m\n",
      "\u001b[90m@postcondition\u001b[39;49;00m(\u001b[34mlambda\u001b[39;49;00m return_value, s: return_value)\u001b[37m\u001b[39;49;00m\n",
      "\u001b[90m@postcondition\u001b[39;49;00m(\u001b[34mlambda\u001b[39;49;00m return_value, s: return_value >= s)\u001b[37m\u001b[39;49;00m\n",
      "\u001b[90m@postcondition\u001b[39;49;00m(\u001b[34mlambda\u001b[39;49;00m return_value, s: return_value \u001b[35min\u001b[39;49;00m s)\u001b[37m\u001b[39;49;00m\n",
      "\u001b[90m@postcondition\u001b[39;49;00m(\u001b[34mlambda\u001b[39;49;00m return_value, s: s <= return_value)\u001b[37m\u001b[39;49;00m\n",
      "\u001b[34mdef\u001b[39;49;00m \u001b[32mremove_html_markup\u001b[39;49;00m(s):  \u001b[37m# type: ignore\u001b[39;49;00m\u001b[37m\u001b[39;49;00m\n",
      "    tag = \u001b[34mFalse\u001b[39;49;00m\u001b[37m\u001b[39;49;00m\n",
      "    quote = \u001b[34mFalse\u001b[39;49;00m\u001b[37m\u001b[39;49;00m\n",
      "    out = \u001b[33m\"\u001b[39;49;00m\u001b[33m\"\u001b[39;49;00m\u001b[37m\u001b[39;49;00m\n",
      "\u001b[37m\u001b[39;49;00m\n",
      "    \u001b[34mfor\u001b[39;49;00m c \u001b[35min\u001b[39;49;00m s:\u001b[37m\u001b[39;49;00m\n",
      "        \u001b[34massert\u001b[39;49;00m tag \u001b[35mor\u001b[39;49;00m \u001b[35mnot\u001b[39;49;00m quote\u001b[37m\u001b[39;49;00m\n",
      "\u001b[37m\u001b[39;49;00m\n",
      "        \u001b[34mif\u001b[39;49;00m c == \u001b[33m'\u001b[39;49;00m\u001b[33m<\u001b[39;49;00m\u001b[33m'\u001b[39;49;00m \u001b[35mand\u001b[39;49;00m \u001b[35mnot\u001b[39;49;00m quote:\u001b[37m\u001b[39;49;00m\n",
      "            tag = \u001b[34mTrue\u001b[39;49;00m\u001b[37m\u001b[39;49;00m\n",
      "        \u001b[34melif\u001b[39;49;00m c == \u001b[33m'\u001b[39;49;00m\u001b[33m>\u001b[39;49;00m\u001b[33m'\u001b[39;49;00m \u001b[35mand\u001b[39;49;00m \u001b[35mnot\u001b[39;49;00m quote:\u001b[37m\u001b[39;49;00m\n",
      "            tag = \u001b[34mFalse\u001b[39;49;00m\u001b[37m\u001b[39;49;00m\n",
      "        \u001b[34melif\u001b[39;49;00m (c == \u001b[33m'\u001b[39;49;00m\u001b[33m\"\u001b[39;49;00m\u001b[33m'\u001b[39;49;00m \u001b[35mor\u001b[39;49;00m c == \u001b[33m\"\u001b[39;49;00m\u001b[33m'\u001b[39;49;00m\u001b[33m\"\u001b[39;49;00m) \u001b[35mand\u001b[39;49;00m tag:\u001b[37m\u001b[39;49;00m\n",
      "            quote = \u001b[35mnot\u001b[39;49;00m quote\u001b[37m\u001b[39;49;00m\n",
      "        \u001b[34melif\u001b[39;49;00m \u001b[35mnot\u001b[39;49;00m tag:\u001b[37m\u001b[39;49;00m\n",
      "            out = out + c\u001b[37m\u001b[39;49;00m\n",
      "\u001b[37m\u001b[39;49;00m\n",
      "    \u001b[34mreturn\u001b[39;49;00m out\u001b[37m\u001b[39;49;00m"
     ]
    }
   ],
   "source": [
    "print_content(annotator.functions_with_invariants(), '.py')"
   ]
  },
  {
   "cell_type": "markdown",
   "metadata": {
    "slideshow": {
     "slide_type": "subslide"
    }
   },
   "source": [
    "In the [chapter on DDSet](DDSetDebugger.ipynb), we will see how to express more complex properties for structured inputs."
   ]
  },
  {
   "cell_type": "markdown",
   "metadata": {
    "slideshow": {
     "slide_type": "subslide"
    }
   },
   "source": [
    "### A Recursive Function\n",
    "\n",
    "Here's another example.  `list_length()` recursively computes the length of a Python function.  Let us see whether we can mine its invariants:"
   ]
  },
  {
   "cell_type": "code",
   "execution_count": 196,
   "metadata": {
    "execution": {
     "iopub.execute_input": "2025-01-07T11:06:30.243178Z",
     "iopub.status.busy": "2025-01-07T11:06:30.243086Z",
     "iopub.status.idle": "2025-01-07T11:06:30.245216Z",
     "shell.execute_reply": "2025-01-07T11:06:30.244973Z"
    },
    "slideshow": {
     "slide_type": "fragment"
    }
   },
   "outputs": [],
   "source": [
    "def list_length(elems: List[Any]) -> int:\n",
    "    if elems == []:\n",
    "        length = 0\n",
    "    else:\n",
    "        length = 1 + list_length(elems[1:])\n",
    "    return length"
   ]
  },
  {
   "cell_type": "code",
   "execution_count": 197,
   "metadata": {
    "execution": {
     "iopub.execute_input": "2025-01-07T11:06:30.246573Z",
     "iopub.status.busy": "2025-01-07T11:06:30.246462Z",
     "iopub.status.idle": "2025-01-07T11:06:30.276411Z",
     "shell.execute_reply": "2025-01-07T11:06:30.276155Z"
    },
    "slideshow": {
     "slide_type": "subslide"
    }
   },
   "outputs": [
    {
     "name": "stdout",
     "output_type": "stream",
     "text": [
      "\u001b[90m@precondition\u001b[39;49;00m(\u001b[34mlambda\u001b[39;49;00m elems: \u001b[36misinstance\u001b[39;49;00m(elems, \u001b[36mlist\u001b[39;49;00m))\u001b[37m\u001b[39;49;00m\n",
      "\u001b[90m@postcondition\u001b[39;49;00m(\u001b[34mlambda\u001b[39;49;00m return_value, elems: \u001b[36misinstance\u001b[39;49;00m(return_value, \u001b[36mint\u001b[39;49;00m))\u001b[37m\u001b[39;49;00m\n",
      "\u001b[90m@postcondition\u001b[39;49;00m(\u001b[34mlambda\u001b[39;49;00m return_value, elems: return_value == \u001b[36mlen\u001b[39;49;00m(elems))\u001b[37m\u001b[39;49;00m\n",
      "\u001b[90m@postcondition\u001b[39;49;00m(\u001b[34mlambda\u001b[39;49;00m return_value, elems: return_value >= \u001b[34m0\u001b[39;49;00m)\u001b[37m\u001b[39;49;00m\n",
      "\u001b[34mdef\u001b[39;49;00m \u001b[32mlist_length\u001b[39;49;00m(elems: List[Any]) -> \u001b[36mint\u001b[39;49;00m:\u001b[37m\u001b[39;49;00m\n",
      "    \u001b[34mif\u001b[39;49;00m elems == []:\u001b[37m\u001b[39;49;00m\n",
      "        length = \u001b[34m0\u001b[39;49;00m\u001b[37m\u001b[39;49;00m\n",
      "    \u001b[34melse\u001b[39;49;00m:\u001b[37m\u001b[39;49;00m\n",
      "        length = \u001b[34m1\u001b[39;49;00m + list_length(elems[\u001b[34m1\u001b[39;49;00m:])\u001b[37m\u001b[39;49;00m\n",
      "    \u001b[34mreturn\u001b[39;49;00m length\u001b[37m\u001b[39;49;00m"
     ]
    }
   ],
   "source": [
    "with InvariantAnnotator() as annotator:\n",
    "    length = list_length([1, 2, 3])\n",
    "\n",
    "print_content(annotator.functions_with_invariants(), '.py')"
   ]
  },
  {
   "cell_type": "markdown",
   "metadata": {
    "slideshow": {
     "slide_type": "subslide"
    }
   },
   "source": [
    "Almost all these properties are relevant.  Of course, the reason the invariants are so neat is that the return value is equal to `len(elems)` is that `X == len(Y)` is part of the list of properties to be checked."
   ]
  },
  {
   "attachments": {},
   "cell_type": "markdown",
   "metadata": {
    "slideshow": {
     "slide_type": "subslide"
    }
   },
   "source": [
    "### Sum of two Numbers\n",
    "\n",
    "The next example is a very simple function: If we have a function without return value, the return value is `None`, and we can only mine preconditions.  (Well, we get a \"postcondition\" `not return_value` that the return value evaluates to False, which holds for `None`)."
   ]
  },
  {
   "cell_type": "code",
   "execution_count": 198,
   "metadata": {
    "execution": {
     "iopub.execute_input": "2025-01-07T11:06:30.277879Z",
     "iopub.status.busy": "2025-01-07T11:06:30.277794Z",
     "iopub.status.idle": "2025-01-07T11:06:30.279616Z",
     "shell.execute_reply": "2025-01-07T11:06:30.279377Z"
    },
    "slideshow": {
     "slide_type": "fragment"
    }
   },
   "outputs": [],
   "source": [
    "def print_sum(a, b):  # type: ignore\n",
    "    print(a + b)"
   ]
  },
  {
   "cell_type": "code",
   "execution_count": 199,
   "metadata": {
    "execution": {
     "iopub.execute_input": "2025-01-07T11:06:30.280855Z",
     "iopub.status.busy": "2025-01-07T11:06:30.280770Z",
     "iopub.status.idle": "2025-01-07T11:06:30.283298Z",
     "shell.execute_reply": "2025-01-07T11:06:30.283051Z"
    },
    "slideshow": {
     "slide_type": "subslide"
    }
   },
   "outputs": [
    {
     "name": "stdout",
     "output_type": "stream",
     "text": [
      "76\n",
      "0\n",
      "-6\n"
     ]
    }
   ],
   "source": [
    "with InvariantAnnotator() as annotator:\n",
    "    print_sum(31, 45)\n",
    "    print_sum(0, 0)\n",
    "    print_sum(-1, -5)"
   ]
  },
  {
   "cell_type": "code",
   "execution_count": 200,
   "metadata": {
    "execution": {
     "iopub.execute_input": "2025-01-07T11:06:30.284626Z",
     "iopub.status.busy": "2025-01-07T11:06:30.284518Z",
     "iopub.status.idle": "2025-01-07T11:06:30.355639Z",
     "shell.execute_reply": "2025-01-07T11:06:30.355360Z"
    },
    "slideshow": {
     "slide_type": "fragment"
    }
   },
   "outputs": [
    {
     "name": "stdout",
     "output_type": "stream",
     "text": [
      "\u001b[37m# Could not find function 'parent_header'# Could not find function '_is_master_process'# Could not find function 'utcoffset'# Could not find function 'is_set'# Could not find function '_wait_for_tstate_lock'# Could not find function 'is_alive'# Could not find function '_event_pipe'# Could not find function 'send'# Could not find function 'schedule'# Could not find function '_schedule_flush'# Could not find function 'write'@precondition(lambda a, b: isinstance(a, int))\u001b[39;49;00m\u001b[37m\u001b[39;49;00m\n",
      "\u001b[90m@precondition\u001b[39;49;00m(\u001b[34mlambda\u001b[39;49;00m a, b: \u001b[36misinstance\u001b[39;49;00m(b, \u001b[36mint\u001b[39;49;00m))\u001b[37m\u001b[39;49;00m\n",
      "\u001b[90m@postcondition\u001b[39;49;00m(\u001b[34mlambda\u001b[39;49;00m return_value, a, b: \u001b[35mnot\u001b[39;49;00m return_value)\u001b[37m\u001b[39;49;00m\n",
      "\u001b[34mdef\u001b[39;49;00m \u001b[32mprint_sum\u001b[39;49;00m(a, b):  \u001b[37m# type: ignore\u001b[39;49;00m\u001b[37m\u001b[39;49;00m\n",
      "    \u001b[36mprint\u001b[39;49;00m(a + b)\u001b[37m\u001b[39;49;00m"
     ]
    }
   ],
   "source": [
    "print_content(annotator.functions_with_invariants(), '.py')"
   ]
  },
  {
   "cell_type": "markdown",
   "metadata": {
    "slideshow": {
     "slide_type": "slide"
    }
   },
   "source": [
    "## Checking Specifications\n",
    "\n",
    "A function with invariants, as above, can be fed into the Python interpreter, such that all pre- and postconditions are checked.  We create a function `square_root_annotated()` which includes all the invariants mined above."
   ]
  },
  {
   "cell_type": "code",
   "execution_count": 201,
   "metadata": {
    "execution": {
     "iopub.execute_input": "2025-01-07T11:06:30.357112Z",
     "iopub.status.busy": "2025-01-07T11:06:30.357015Z",
     "iopub.status.idle": "2025-01-07T11:06:30.359081Z",
     "shell.execute_reply": "2025-01-07T11:06:30.358860Z"
    },
    "slideshow": {
     "slide_type": "fragment"
    }
   },
   "outputs": [],
   "source": [
    "with InvariantAnnotator() as annotator:\n",
    "    y = square_root(25.0)\n",
    "    y = square_root(0.01)"
   ]
  },
  {
   "cell_type": "code",
   "execution_count": 202,
   "metadata": {
    "execution": {
     "iopub.execute_input": "2025-01-07T11:06:30.360273Z",
     "iopub.status.busy": "2025-01-07T11:06:30.360194Z",
     "iopub.status.idle": "2025-01-07T11:06:30.370982Z",
     "shell.execute_reply": "2025-01-07T11:06:30.370691Z"
    },
    "slideshow": {
     "slide_type": "fragment"
    }
   },
   "outputs": [],
   "source": [
    "square_root_def = annotator.functions_with_invariants()\n",
    "square_root_def = square_root_def.replace('square_root',\n",
    "                                          'square_root_annotated')"
   ]
  },
  {
   "cell_type": "code",
   "execution_count": 203,
   "metadata": {
    "execution": {
     "iopub.execute_input": "2025-01-07T11:06:30.372282Z",
     "iopub.status.busy": "2025-01-07T11:06:30.372193Z",
     "iopub.status.idle": "2025-01-07T11:06:30.383675Z",
     "shell.execute_reply": "2025-01-07T11:06:30.383380Z"
    },
    "slideshow": {
     "slide_type": "subslide"
    }
   },
   "outputs": [
    {
     "name": "stdout",
     "output_type": "stream",
     "text": [
      "\u001b[90m@precondition\u001b[39;49;00m(\u001b[34mlambda\u001b[39;49;00m x: \u001b[36misinstance\u001b[39;49;00m(x, \u001b[36mfloat\u001b[39;49;00m))\u001b[37m\u001b[39;49;00m\n",
      "\u001b[90m@precondition\u001b[39;49;00m(\u001b[34mlambda\u001b[39;49;00m x: x)\u001b[37m\u001b[39;49;00m\n",
      "\u001b[90m@precondition\u001b[39;49;00m(\u001b[34mlambda\u001b[39;49;00m x: x > \u001b[34m0\u001b[39;49;00m)\u001b[37m\u001b[39;49;00m\n",
      "\u001b[90m@precondition\u001b[39;49;00m(\u001b[34mlambda\u001b[39;49;00m x: x >= \u001b[34m0\u001b[39;49;00m)\u001b[37m\u001b[39;49;00m\n",
      "\u001b[90m@postcondition\u001b[39;49;00m(\u001b[34mlambda\u001b[39;49;00m return_value, x: \u001b[36misinstance\u001b[39;49;00m(return_value, \u001b[36mfloat\u001b[39;49;00m))\u001b[37m\u001b[39;49;00m\n",
      "\u001b[90m@postcondition\u001b[39;49;00m(\u001b[34mlambda\u001b[39;49;00m return_value, x: return_value)\u001b[37m\u001b[39;49;00m\n",
      "\u001b[90m@postcondition\u001b[39;49;00m(\u001b[34mlambda\u001b[39;49;00m return_value, x: return_value > \u001b[34m0\u001b[39;49;00m)\u001b[37m\u001b[39;49;00m\n",
      "\u001b[90m@postcondition\u001b[39;49;00m(\u001b[34mlambda\u001b[39;49;00m return_value, x: return_value >= \u001b[34m0\u001b[39;49;00m)\u001b[37m\u001b[39;49;00m\n",
      "\u001b[34mdef\u001b[39;49;00m \u001b[32msquare_root_annotated\u001b[39;49;00m(x):  \u001b[37m# type: ignore\u001b[39;49;00m\u001b[37m\u001b[39;49;00m\n",
      "\u001b[37m    \u001b[39;49;00m\u001b[33m\"\"\"Computes the square root of x, using the Newton-Raphson method\"\"\"\u001b[39;49;00m\u001b[37m\u001b[39;49;00m\n",
      "    approx = \u001b[34mNone\u001b[39;49;00m\u001b[37m\u001b[39;49;00m\n",
      "    guess = x / \u001b[34m2\u001b[39;49;00m\u001b[37m\u001b[39;49;00m\n",
      "    \u001b[34mwhile\u001b[39;49;00m approx != guess:\u001b[37m\u001b[39;49;00m\n",
      "        approx = guess\u001b[37m\u001b[39;49;00m\n",
      "        guess = (approx + x / approx) / \u001b[34m2\u001b[39;49;00m\u001b[37m\u001b[39;49;00m\n",
      "\u001b[37m\u001b[39;49;00m\n",
      "    \u001b[34mreturn\u001b[39;49;00m approx\u001b[37m\u001b[39;49;00m"
     ]
    }
   ],
   "source": [
    "print_content(square_root_def, '.py')"
   ]
  },
  {
   "cell_type": "code",
   "execution_count": 204,
   "metadata": {
    "execution": {
     "iopub.execute_input": "2025-01-07T11:06:30.385043Z",
     "iopub.status.busy": "2025-01-07T11:06:30.384956Z",
     "iopub.status.idle": "2025-01-07T11:06:30.386762Z",
     "shell.execute_reply": "2025-01-07T11:06:30.386527Z"
    },
    "slideshow": {
     "slide_type": "subslide"
    }
   },
   "outputs": [],
   "source": [
    "exec(square_root_def)"
   ]
  },
  {
   "cell_type": "markdown",
   "metadata": {
    "slideshow": {
     "slide_type": "fragment"
    }
   },
   "source": [
    "The \"annotated\" version checks against invalid arguments – or more precisely, against arguments with properties that have not been observed yet:"
   ]
  },
  {
   "cell_type": "code",
   "execution_count": 205,
   "metadata": {
    "execution": {
     "iopub.execute_input": "2025-01-07T11:06:30.387961Z",
     "iopub.status.busy": "2025-01-07T11:06:30.387883Z",
     "iopub.status.idle": "2025-01-07T11:06:30.389922Z",
     "shell.execute_reply": "2025-01-07T11:06:30.389710Z"
    },
    "slideshow": {
     "slide_type": "subslide"
    }
   },
   "outputs": [
    {
     "name": "stderr",
     "output_type": "stream",
     "text": [
      "Traceback (most recent call last):\n",
      "  File \"/var/folders/n2/xd9445p97rb3xh7m1dfx8_4h0006ts/T/ipykernel_21001/2533314883.py\", line 2, in <module>\n",
      "    square_root_annotated(-1.0)  # type: ignore\n",
      "    ^^^^^^^^^^^^^^^^^^^^^^^^^^^\n",
      "  File \"/var/folders/n2/xd9445p97rb3xh7m1dfx8_4h0006ts/T/ipykernel_21001/3759592669.py\", line 11, in wrapper\n",
      "    retval = func(*args, **kwargs)\n",
      "             ^^^^^^^^^^^^^^^^^^^^^\n",
      "  File \"/var/folders/n2/xd9445p97rb3xh7m1dfx8_4h0006ts/T/ipykernel_21001/3759592669.py\", line 11, in wrapper\n",
      "    retval = func(*args, **kwargs)\n",
      "             ^^^^^^^^^^^^^^^^^^^^^\n",
      "  File \"/var/folders/n2/xd9445p97rb3xh7m1dfx8_4h0006ts/T/ipykernel_21001/3759592669.py\", line 7, in wrapper\n",
      "    assert precondition(*args, **kwargs), \\\n",
      "           ^^^^^^^^^^^^^^^^^^^^^^^^^^^^^\n",
      "AssertionError: Precondition violated (expected)\n"
     ]
    }
   ],
   "source": [
    "with ExpectError():\n",
    "    square_root_annotated(-1.0)  # type: ignore"
   ]
  },
  {
   "cell_type": "markdown",
   "metadata": {
    "slideshow": {
     "slide_type": "subslide"
    }
   },
   "source": [
    "This is in contrast to the original version, which just hangs on negative values:"
   ]
  },
  {
   "cell_type": "code",
   "execution_count": 206,
   "metadata": {
    "execution": {
     "iopub.execute_input": "2025-01-07T11:06:30.391154Z",
     "iopub.status.busy": "2025-01-07T11:06:30.391063Z",
     "iopub.status.idle": "2025-01-07T11:06:31.398153Z",
     "shell.execute_reply": "2025-01-07T11:06:31.397704Z"
    },
    "slideshow": {
     "slide_type": "fragment"
    }
   },
   "outputs": [
    {
     "name": "stderr",
     "output_type": "stream",
     "text": [
      "Traceback (most recent call last):\n",
      "  File \"/var/folders/n2/xd9445p97rb3xh7m1dfx8_4h0006ts/T/ipykernel_21001/3436772654.py\", line 2, in <module>\n",
      "    square_root(-1.0)\n",
      "  File \"/var/folders/n2/xd9445p97rb3xh7m1dfx8_4h0006ts/T/ipykernel_21001/81976482.py\", line 5, in square_root\n",
      "    while approx != guess:\n",
      "          ^^^^^^^^^^^^^^^\n",
      "  File \"Timeout.ipynb\", line 43, in timeout_handler\n",
      "    raise TimeoutError()\n",
      "TimeoutError (expected)\n"
     ]
    }
   ],
   "source": [
    "with ExpectTimeout(1):\n",
    "    square_root(-1.0)"
   ]
  },
  {
   "cell_type": "markdown",
   "metadata": {
    "slideshow": {
     "slide_type": "subslide"
    }
   },
   "source": [
    "If we make changes to the function definition such that the properties of the return value change, such _regressions_ are caught as violations of the postconditions.  Let us illustrate this by simply inverting the result, and return $-2$ as square root of 4."
   ]
  },
  {
   "cell_type": "code",
   "execution_count": 207,
   "metadata": {
    "execution": {
     "iopub.execute_input": "2025-01-07T11:06:31.399957Z",
     "iopub.status.busy": "2025-01-07T11:06:31.399768Z",
     "iopub.status.idle": "2025-01-07T11:06:31.401818Z",
     "shell.execute_reply": "2025-01-07T11:06:31.401528Z"
    },
    "slideshow": {
     "slide_type": "fragment"
    }
   },
   "outputs": [],
   "source": [
    "square_root_def = square_root_def.replace('square_root_annotated',\n",
    "                                          'square_root_negative')\n",
    "square_root_def = square_root_def.replace('return approx',\n",
    "                                          'return -approx')"
   ]
  },
  {
   "cell_type": "code",
   "execution_count": 208,
   "metadata": {
    "execution": {
     "iopub.execute_input": "2025-01-07T11:06:31.403003Z",
     "iopub.status.busy": "2025-01-07T11:06:31.402894Z",
     "iopub.status.idle": "2025-01-07T11:06:31.415651Z",
     "shell.execute_reply": "2025-01-07T11:06:31.415393Z"
    },
    "slideshow": {
     "slide_type": "subslide"
    }
   },
   "outputs": [
    {
     "name": "stdout",
     "output_type": "stream",
     "text": [
      "\u001b[90m@precondition\u001b[39;49;00m(\u001b[34mlambda\u001b[39;49;00m x: \u001b[36misinstance\u001b[39;49;00m(x, \u001b[36mfloat\u001b[39;49;00m))\u001b[37m\u001b[39;49;00m\n",
      "\u001b[90m@precondition\u001b[39;49;00m(\u001b[34mlambda\u001b[39;49;00m x: x)\u001b[37m\u001b[39;49;00m\n",
      "\u001b[90m@precondition\u001b[39;49;00m(\u001b[34mlambda\u001b[39;49;00m x: x > \u001b[34m0\u001b[39;49;00m)\u001b[37m\u001b[39;49;00m\n",
      "\u001b[90m@precondition\u001b[39;49;00m(\u001b[34mlambda\u001b[39;49;00m x: x >= \u001b[34m0\u001b[39;49;00m)\u001b[37m\u001b[39;49;00m\n",
      "\u001b[90m@postcondition\u001b[39;49;00m(\u001b[34mlambda\u001b[39;49;00m return_value, x: \u001b[36misinstance\u001b[39;49;00m(return_value, \u001b[36mfloat\u001b[39;49;00m))\u001b[37m\u001b[39;49;00m\n",
      "\u001b[90m@postcondition\u001b[39;49;00m(\u001b[34mlambda\u001b[39;49;00m return_value, x: return_value)\u001b[37m\u001b[39;49;00m\n",
      "\u001b[90m@postcondition\u001b[39;49;00m(\u001b[34mlambda\u001b[39;49;00m return_value, x: return_value > \u001b[34m0\u001b[39;49;00m)\u001b[37m\u001b[39;49;00m\n",
      "\u001b[90m@postcondition\u001b[39;49;00m(\u001b[34mlambda\u001b[39;49;00m return_value, x: return_value >= \u001b[34m0\u001b[39;49;00m)\u001b[37m\u001b[39;49;00m\n",
      "\u001b[34mdef\u001b[39;49;00m \u001b[32msquare_root_negative\u001b[39;49;00m(x):  \u001b[37m# type: ignore\u001b[39;49;00m\u001b[37m\u001b[39;49;00m\n",
      "\u001b[37m    \u001b[39;49;00m\u001b[33m\"\"\"Computes the square root of x, using the Newton-Raphson method\"\"\"\u001b[39;49;00m\u001b[37m\u001b[39;49;00m\n",
      "    approx = \u001b[34mNone\u001b[39;49;00m\u001b[37m\u001b[39;49;00m\n",
      "    guess = x / \u001b[34m2\u001b[39;49;00m\u001b[37m\u001b[39;49;00m\n",
      "    \u001b[34mwhile\u001b[39;49;00m approx != guess:\u001b[37m\u001b[39;49;00m\n",
      "        approx = guess\u001b[37m\u001b[39;49;00m\n",
      "        guess = (approx + x / approx) / \u001b[34m2\u001b[39;49;00m\u001b[37m\u001b[39;49;00m\n",
      "\u001b[37m\u001b[39;49;00m\n",
      "    \u001b[34mreturn\u001b[39;49;00m -approx\u001b[37m\u001b[39;49;00m"
     ]
    }
   ],
   "source": [
    "print_content(square_root_def, '.py')"
   ]
  },
  {
   "cell_type": "code",
   "execution_count": 209,
   "metadata": {
    "execution": {
     "iopub.execute_input": "2025-01-07T11:06:31.417122Z",
     "iopub.status.busy": "2025-01-07T11:06:31.417035Z",
     "iopub.status.idle": "2025-01-07T11:06:31.418978Z",
     "shell.execute_reply": "2025-01-07T11:06:31.418729Z"
    },
    "slideshow": {
     "slide_type": "subslide"
    }
   },
   "outputs": [],
   "source": [
    "exec(square_root_def)"
   ]
  },
  {
   "cell_type": "markdown",
   "metadata": {
    "slideshow": {
     "slide_type": "fragment"
    }
   },
   "source": [
    "Technically speaking, $-2$ _is_ a square root of 4, since $(-2)^2 = 4$ holds.  Yet, such a change may be unexpected by callers of `square_root()`, and hence, this would be caught with the first call:"
   ]
  },
  {
   "cell_type": "code",
   "execution_count": 210,
   "metadata": {
    "execution": {
     "iopub.execute_input": "2025-01-07T11:06:31.420219Z",
     "iopub.status.busy": "2025-01-07T11:06:31.420138Z",
     "iopub.status.idle": "2025-01-07T11:06:31.422077Z",
     "shell.execute_reply": "2025-01-07T11:06:31.421861Z"
    },
    "slideshow": {
     "slide_type": "subslide"
    }
   },
   "outputs": [
    {
     "name": "stderr",
     "output_type": "stream",
     "text": [
      "Traceback (most recent call last):\n",
      "  File \"/var/folders/n2/xd9445p97rb3xh7m1dfx8_4h0006ts/T/ipykernel_21001/2047157021.py\", line 2, in <module>\n",
      "    square_root_negative(2.0)  # type: ignore\n",
      "    ^^^^^^^^^^^^^^^^^^^^^^^^^\n",
      "  File \"/var/folders/n2/xd9445p97rb3xh7m1dfx8_4h0006ts/T/ipykernel_21001/3759592669.py\", line 11, in wrapper\n",
      "    retval = func(*args, **kwargs)\n",
      "             ^^^^^^^^^^^^^^^^^^^^^\n",
      "  File \"/var/folders/n2/xd9445p97rb3xh7m1dfx8_4h0006ts/T/ipykernel_21001/3759592669.py\", line 11, in wrapper\n",
      "    retval = func(*args, **kwargs)\n",
      "             ^^^^^^^^^^^^^^^^^^^^^\n",
      "  File \"/var/folders/n2/xd9445p97rb3xh7m1dfx8_4h0006ts/T/ipykernel_21001/3759592669.py\", line 11, in wrapper\n",
      "    retval = func(*args, **kwargs)\n",
      "             ^^^^^^^^^^^^^^^^^^^^^\n",
      "  [Previous line repeated 4 more times]\n",
      "  File \"/var/folders/n2/xd9445p97rb3xh7m1dfx8_4h0006ts/T/ipykernel_21001/3759592669.py\", line 13, in wrapper\n",
      "    assert postcondition(retval, *args, **kwargs), \\\n",
      "           ^^^^^^^^^^^^^^^^^^^^^^^^^^^^^^^^^^^^^^\n",
      "AssertionError: Postcondition violated (expected)\n"
     ]
    }
   ],
   "source": [
    "with ExpectError():\n",
    "    square_root_negative(2.0)  # type: ignore"
   ]
  },
  {
   "cell_type": "markdown",
   "metadata": {
    "slideshow": {
     "slide_type": "subslide"
    }
   },
   "source": [
    "We see how pre- and postconditions, as well as types, can serve as *oracles* during testing.  In particular, once we have mined them for a set of functions, we can check them again and again with test generators – especially after code changes.  The more checks we have, and the more specific they are, the more likely it is we can detect unwanted effects of changes."
   ]
  },
  {
   "cell_type": "markdown",
   "metadata": {
    "slideshow": {
     "slide_type": "slide"
    }
   },
   "source": [
    "## Synopsis\n",
    "\n",
    "This chapter provides two classes that automatically extract specifications from a function and a set of inputs:\n",
    "\n",
    "* `TypeAnnotator` for _types_, and\n",
    "* `InvariantAnnotator` for _pre-_ and _postconditions_.\n",
    "\n",
    "Both work by _observing_ a function and its invocations within a `with` clause.  Here is an example for the type annotator:"
   ]
  },
  {
   "cell_type": "code",
   "execution_count": 211,
   "metadata": {
    "execution": {
     "iopub.execute_input": "2025-01-07T11:06:31.423324Z",
     "iopub.status.busy": "2025-01-07T11:06:31.423243Z",
     "iopub.status.idle": "2025-01-07T11:06:31.425044Z",
     "shell.execute_reply": "2025-01-07T11:06:31.424796Z"
    },
    "slideshow": {
     "slide_type": "fragment"
    }
   },
   "outputs": [],
   "source": [
    "def sum2(a, b):  # type: ignore\n",
    "    return a + b"
   ]
  },
  {
   "cell_type": "code",
   "execution_count": 212,
   "metadata": {
    "execution": {
     "iopub.execute_input": "2025-01-07T11:06:31.426494Z",
     "iopub.status.busy": "2025-01-07T11:06:31.426386Z",
     "iopub.status.idle": "2025-01-07T11:06:31.428499Z",
     "shell.execute_reply": "2025-01-07T11:06:31.428243Z"
    },
    "slideshow": {
     "slide_type": "subslide"
    }
   },
   "outputs": [],
   "source": [
    "with TypeAnnotator() as type_annotator:\n",
    "    sum2(1, 2)\n",
    "    sum2(-4, -5)\n",
    "    sum2(0, 0)"
   ]
  },
  {
   "cell_type": "markdown",
   "metadata": {
    "slideshow": {
     "slide_type": "fragment"
    }
   },
   "source": [
    "The `typed_functions()` method will return a representation of `sum2()` annotated with types observed during execution."
   ]
  },
  {
   "cell_type": "code",
   "execution_count": 213,
   "metadata": {
    "execution": {
     "iopub.execute_input": "2025-01-07T11:06:31.429898Z",
     "iopub.status.busy": "2025-01-07T11:06:31.429814Z",
     "iopub.status.idle": "2025-01-07T11:06:31.431855Z",
     "shell.execute_reply": "2025-01-07T11:06:31.431622Z"
    },
    "slideshow": {
     "slide_type": "fragment"
    }
   },
   "outputs": [
    {
     "name": "stdout",
     "output_type": "stream",
     "text": [
      "def sum2(a: int, b: int) -> int:\n",
      "    return a + b\n"
     ]
    }
   ],
   "source": [
    "print(type_annotator.typed_functions())"
   ]
  },
  {
   "cell_type": "markdown",
   "metadata": {
    "slideshow": {
     "slide_type": "fragment"
    }
   },
   "source": [
    "As a shortcut, one can also just evaluate the annotator:"
   ]
  },
  {
   "cell_type": "code",
   "execution_count": 214,
   "metadata": {
    "execution": {
     "iopub.execute_input": "2025-01-07T11:06:31.433256Z",
     "iopub.status.busy": "2025-01-07T11:06:31.433150Z",
     "iopub.status.idle": "2025-01-07T11:06:31.435580Z",
     "shell.execute_reply": "2025-01-07T11:06:31.435352Z"
    },
    "slideshow": {
     "slide_type": "fragment"
    }
   },
   "outputs": [
    {
     "data": {
      "text/plain": [
       "def sum2(a: int, b: int) -> int:\n",
       "    return a + b"
      ]
     },
     "execution_count": 214,
     "metadata": {},
     "output_type": "execute_result"
    }
   ],
   "source": [
    "type_annotator"
   ]
  },
  {
   "attachments": {},
   "cell_type": "markdown",
   "metadata": {
    "slideshow": {
     "slide_type": "fragment"
    }
   },
   "source": [
    "The invariant annotator works similarly:"
   ]
  },
  {
   "cell_type": "code",
   "execution_count": 215,
   "metadata": {
    "execution": {
     "iopub.execute_input": "2025-01-07T11:06:31.436879Z",
     "iopub.status.busy": "2025-01-07T11:06:31.436797Z",
     "iopub.status.idle": "2025-01-07T11:06:31.438781Z",
     "shell.execute_reply": "2025-01-07T11:06:31.438517Z"
    },
    "slideshow": {
     "slide_type": "subslide"
    }
   },
   "outputs": [],
   "source": [
    "with InvariantAnnotator() as inv_annotator:\n",
    "    sum2(1, 2)\n",
    "    sum2(-4, -5)\n",
    "    sum2(0, 0)"
   ]
  },
  {
   "cell_type": "markdown",
   "metadata": {
    "slideshow": {
     "slide_type": "fragment"
    }
   },
   "source": [
    "The `functions_with_invariants()` method will return a representation of `sum2()` annotated with inferred pre- and postconditions that all hold for the observed values."
   ]
  },
  {
   "cell_type": "code",
   "execution_count": 216,
   "metadata": {
    "execution": {
     "iopub.execute_input": "2025-01-07T11:06:31.440260Z",
     "iopub.status.busy": "2025-01-07T11:06:31.440168Z",
     "iopub.status.idle": "2025-01-07T11:06:31.456004Z",
     "shell.execute_reply": "2025-01-07T11:06:31.455712Z"
    },
    "slideshow": {
     "slide_type": "subslide"
    }
   },
   "outputs": [
    {
     "name": "stdout",
     "output_type": "stream",
     "text": [
      "@precondition(lambda a, b: isinstance(a, int))\n",
      "@precondition(lambda a, b: isinstance(b, int))\n",
      "@postcondition(lambda return_value, a, b: a == return_value - b)\n",
      "@postcondition(lambda return_value, a, b: b == return_value - a)\n",
      "@postcondition(lambda return_value, a, b: isinstance(return_value, int))\n",
      "@postcondition(lambda return_value, a, b: return_value == a + b)\n",
      "@postcondition(lambda return_value, a, b: return_value == b + a)\n",
      "def sum2(a, b):  # type: ignore\n",
      "    return a + b\n",
      "\n"
     ]
    }
   ],
   "source": [
    "print(inv_annotator.functions_with_invariants())"
   ]
  },
  {
   "cell_type": "markdown",
   "metadata": {
    "slideshow": {
     "slide_type": "fragment"
    }
   },
   "source": [
    "Again, a shortcut is available:"
   ]
  },
  {
   "cell_type": "code",
   "execution_count": 217,
   "metadata": {
    "execution": {
     "iopub.execute_input": "2025-01-07T11:06:31.457501Z",
     "iopub.status.busy": "2025-01-07T11:06:31.457390Z",
     "iopub.status.idle": "2025-01-07T11:06:31.474673Z",
     "shell.execute_reply": "2025-01-07T11:06:31.474424Z"
    },
    "slideshow": {
     "slide_type": "subslide"
    }
   },
   "outputs": [
    {
     "data": {
      "text/plain": [
       "@precondition(lambda a, b: isinstance(a, int))\n",
       "@precondition(lambda a, b: isinstance(b, int))\n",
       "@postcondition(lambda return_value, a, b: a == return_value - b)\n",
       "@postcondition(lambda return_value, a, b: b == return_value - a)\n",
       "@postcondition(lambda return_value, a, b: isinstance(return_value, int))\n",
       "@postcondition(lambda return_value, a, b: return_value == a + b)\n",
       "@postcondition(lambda return_value, a, b: return_value == b + a)\n",
       "def sum2(a, b):  # type: ignore\n",
       "    return a + b"
      ]
     },
     "execution_count": 217,
     "metadata": {},
     "output_type": "execute_result"
    }
   ],
   "source": [
    "inv_annotator"
   ]
  },
  {
   "cell_type": "markdown",
   "metadata": {
    "slideshow": {
     "slide_type": "fragment"
    }
   },
   "source": [
    "Such type specifications and invariants can be helpful as _oracles_ (to detect deviations from a given set of runs). The chapter gives details on how to customize the properties checked for."
   ]
  },
  {
   "cell_type": "code",
   "execution_count": 218,
   "metadata": {
    "execution": {
     "iopub.execute_input": "2025-01-07T11:06:31.476080Z",
     "iopub.status.busy": "2025-01-07T11:06:31.475988Z",
     "iopub.status.idle": "2025-01-07T11:06:31.477639Z",
     "shell.execute_reply": "2025-01-07T11:06:31.477422Z"
    },
    "slideshow": {
     "slide_type": "fragment"
    }
   },
   "outputs": [],
   "source": [
    "# ignore\n",
    "from ClassDiagram import display_class_hierarchy"
   ]
  },
  {
   "cell_type": "code",
   "execution_count": 219,
   "metadata": {
    "execution": {
     "iopub.execute_input": "2025-01-07T11:06:31.478832Z",
     "iopub.status.busy": "2025-01-07T11:06:31.478758Z",
     "iopub.status.idle": "2025-01-07T11:06:32.454624Z",
     "shell.execute_reply": "2025-01-07T11:06:32.454299Z"
    },
    "slideshow": {
     "slide_type": "subslide"
    }
   },
   "outputs": [
    {
     "data": {
      "image/svg+xml": [
       "<?xml version=\"1.0\" encoding=\"UTF-8\" standalone=\"no\"?>\n",
       "<!DOCTYPE svg PUBLIC \"-//W3C//DTD SVG 1.1//EN\"\n",
       " \"http://www.w3.org/Graphics/SVG/1.1/DTD/svg11.dtd\">\n",
       "<!-- Generated by graphviz version 12.2.1 (20241206.2353)\n",
       " -->\n",
       "<!-- Pages: 1 -->\n",
       "<svg width=\"484pt\" height=\"556pt\"\n",
       " viewBox=\"0.00 0.00 483.62 555.50\" xmlns=\"http://www.w3.org/2000/svg\" xmlns:xlink=\"http://www.w3.org/1999/xlink\">\n",
       "<g id=\"graph0\" class=\"graph\" transform=\"scale(1 1) rotate(0) translate(4 551.5)\">\n",
       "<g id=\"a_graph0\"><a xlink:title=\"TypeAnnotator class hierarchy\">\n",
       "<polygon fill=\"white\" stroke=\"none\" points=\"-4,4 -4,-551.5 479.62,-551.5 479.62,4 -4,4\"/>\n",
       "</a>\n",
       "</g>\n",
       "<!-- TypeAnnotator -->\n",
       "<g id=\"node1\" class=\"node\">\n",
       "<title>TypeAnnotator</title>\n",
       "<g id=\"a_node1\"><a xlink:href=\"#\" xlink:title=\"class TypeAnnotator:&#10;A class for tracing a piece of code. Use as `with Tracer(): block()`\">\n",
       "<polygon fill=\"none\" stroke=\"black\" points=\"0,-6.88 0,-103.88 142,-103.88 142,-6.88 0,-6.88\"/>\n",
       "<text text-anchor=\"start\" x=\"23.75\" y=\"-87.58\" font-family=\"Raleway, Helvetica, Arial, sans-serif\" font-weight=\"bold\" font-size=\"14.00\" fill=\"#6a0dad\">TypeAnnotator</text>\n",
       "<polyline fill=\"none\" stroke=\"black\" points=\"0,-78.62 142,-78.62\"/>\n",
       "<g id=\"a_node1_0\"><a xlink:href=\"#\" xlink:title=\"TypeAnnotator\">\n",
       "<g id=\"a_node1_1\"><a xlink:href=\"#\" xlink:title=\"__repr__(self) &#45;&gt; str:&#10;String representation, like `typed_functions()`\">\n",
       "<text text-anchor=\"start\" x=\"8\" y=\"-66.12\" font-family=\"'Fira Mono', 'Source Code Pro', 'Courier', monospace\" font-weight=\"bold\" font-size=\"10.00\">__repr__()</text>\n",
       "</a>\n",
       "</g>\n",
       "<g id=\"a_node1_2\"><a xlink:href=\"#\" xlink:title=\"typed_function(self, function_name: str) &#45;&gt; str:&#10;Return the code for all calls of `function_name` observed, annotated with types\">\n",
       "<text text-anchor=\"start\" x=\"8\" y=\"-53.38\" font-family=\"'Fira Mono', 'Source Code Pro', 'Courier', monospace\" font-weight=\"bold\" font-size=\"10.00\">typed_function()</text>\n",
       "</a>\n",
       "</g>\n",
       "<g id=\"a_node1_3\"><a xlink:href=\"#\" xlink:title=\"typed_function_ast(self, function_name: str) &#45;&gt; Optional[ast.AST]:&#10;Return an AST for all calls of `function_name` observed, annotated with types\">\n",
       "<text text-anchor=\"start\" x=\"8\" y=\"-40.62\" font-family=\"'Fira Mono', 'Source Code Pro', 'Courier', monospace\" font-weight=\"bold\" font-size=\"10.00\">typed_function_ast()</text>\n",
       "</a>\n",
       "</g>\n",
       "<g id=\"a_node1_4\"><a xlink:href=\"#\" xlink:title=\"typed_functions(self) &#45;&gt; str:&#10;Return the code for all functions observed, annotated with types\">\n",
       "<text text-anchor=\"start\" x=\"8\" y=\"-27.88\" font-family=\"'Fira Mono', 'Source Code Pro', 'Courier', monospace\" font-weight=\"bold\" font-size=\"10.00\">typed_functions()</text>\n",
       "</a>\n",
       "</g>\n",
       "<g id=\"a_node1_5\"><a xlink:href=\"#\" xlink:title=\"typed_functions_ast(self) &#45;&gt; Dict[str, ast.AST]:&#10;Return a dict name &#45;&gt; AST for all functions observed, annotated with types\">\n",
       "<text text-anchor=\"start\" x=\"8\" y=\"-15.12\" font-family=\"'Fira Mono', 'Source Code Pro', 'Courier', monospace\" font-weight=\"bold\" font-size=\"10.00\">typed_functions_ast()</text>\n",
       "</a>\n",
       "</g>\n",
       "</a>\n",
       "</g>\n",
       "</a>\n",
       "</g>\n",
       "</g>\n",
       "<!-- TypeTracer -->\n",
       "<g id=\"node2\" class=\"node\">\n",
       "<title>TypeTracer</title>\n",
       "<g id=\"a_node2\"><a xlink:href=\"#\" xlink:title=\"class TypeTracer:&#10;A class for tracing a piece of code. Use as `with Tracer(): block()`\">\n",
       "<polygon fill=\"none\" stroke=\"black\" points=\"58.5,-165 58.5,-201 143.5,-201 143.5,-165 58.5,-165\"/>\n",
       "<text text-anchor=\"start\" x=\"66.5\" y=\"-179.7\" font-family=\"Raleway, Helvetica, Arial, sans-serif\" font-weight=\"bold\" font-size=\"14.00\" fill=\"#6a0dad\">TypeTracer</text>\n",
       "</a>\n",
       "</g>\n",
       "</g>\n",
       "<!-- TypeAnnotator&#45;&gt;TypeTracer -->\n",
       "<g id=\"edge1\" class=\"edge\">\n",
       "<title>TypeAnnotator&#45;&gt;TypeTracer</title>\n",
       "<path fill=\"none\" stroke=\"black\" d=\"M82.43,-104.23C86.43,-120.97 90.78,-139.22 94.27,-153.83\"/>\n",
       "<polygon fill=\"none\" stroke=\"black\" points=\"90.78,-154.28 96.51,-163.19 97.59,-152.65 90.78,-154.28\"/>\n",
       "</g>\n",
       "<!-- CallTracer -->\n",
       "<g id=\"node3\" class=\"node\">\n",
       "<title>CallTracer</title>\n",
       "<g id=\"a_node3\"><a xlink:href=\"#\" xlink:title=\"class CallTracer:&#10;A class for tracing a piece of code. Use as `with Tracer(): block()`\">\n",
       "<polygon fill=\"none\" stroke=\"black\" points=\"109,-255.75 109,-391 209,-391 209,-255.75 109,-255.75\"/>\n",
       "<text text-anchor=\"start\" x=\"127.88\" y=\"-374.7\" font-family=\"Raleway, Helvetica, Arial, sans-serif\" font-weight=\"bold\" font-size=\"14.00\" fill=\"#6a0dad\">CallTracer</text>\n",
       "<polyline fill=\"none\" stroke=\"black\" points=\"109,-365.75 209,-365.75\"/>\n",
       "<g id=\"a_node3_6\"><a xlink:href=\"#\" xlink:title=\"CallTracer\">\n",
       "<g id=\"a_node3_7\"><a xlink:href=\"#\" xlink:title=\"__init__(self, log: bool = False, **kwargs: Any) &#45;&gt; None:&#10;Create a new tracer.&#10;If `file` is given, output to `file` instead of stdout.\">\n",
       "<text text-anchor=\"start\" x=\"117\" y=\"-353.25\" font-family=\"'Fira Mono', 'Source Code Pro', 'Courier', monospace\" font-weight=\"bold\" font-style=\"italic\" font-size=\"10.00\">__init__()</text>\n",
       "</a>\n",
       "</g>\n",
       "<g id=\"a_node3_8\"><a xlink:href=\"#\" xlink:title=\"add_call(self, function_name: str, arguments: List[Tuple[str, Any]], return_value: Any = None) &#45;&gt; None:&#10;Add given call to list of calls\">\n",
       "<text text-anchor=\"start\" x=\"117\" y=\"-339.5\" font-family=\"'Fira Mono', 'Source Code Pro', 'Courier', monospace\" font-size=\"10.00\">add_call()</text>\n",
       "</a>\n",
       "</g>\n",
       "<g id=\"a_node3_9\"><a xlink:href=\"#\" xlink:title=\"all_calls(self) &#45;&gt; Dict[str, List[Tuple[List[Tuple[str, Any]], Any]]]:&#10;Return list of calls for function_name,&#10;or a mapping function_name &#45;&gt; calls for all functions tracked\">\n",
       "<text text-anchor=\"start\" x=\"117\" y=\"-326.75\" font-family=\"'Fira Mono', 'Source Code Pro', 'Courier', monospace\" font-size=\"10.00\">all_calls()</text>\n",
       "</a>\n",
       "</g>\n",
       "<g id=\"a_node3_10\"><a xlink:href=\"#\" xlink:title=\"calls(self, function_name: str) &#45;&gt; List[Tuple[List[Tuple[str, Any]], Any]]:&#10;Return list of calls for `function_name`.\">\n",
       "<text text-anchor=\"start\" x=\"117\" y=\"-314\" font-family=\"'Fira Mono', 'Source Code Pro', 'Courier', monospace\" font-size=\"10.00\">calls()</text>\n",
       "</a>\n",
       "</g>\n",
       "<g id=\"a_node3_11\"><a xlink:href=\"#\" xlink:title=\"reset(self) &#45;&gt; None\">\n",
       "<text text-anchor=\"start\" x=\"117\" y=\"-301.25\" font-family=\"'Fira Mono', 'Source Code Pro', 'Courier', monospace\" font-size=\"10.00\">reset()</text>\n",
       "</a>\n",
       "</g>\n",
       "<g id=\"a_node3_12\"><a xlink:href=\"#\" xlink:title=\"trace_call(self, frame: frame, event: str, arg: Any) &#45;&gt; None:&#10;Save current function name and args on the stack\">\n",
       "<text text-anchor=\"start\" x=\"117\" y=\"-288.5\" font-family=\"'Fira Mono', 'Source Code Pro', 'Courier', monospace\" font-size=\"10.00\">trace_call()</text>\n",
       "</a>\n",
       "</g>\n",
       "<g id=\"a_node3_13\"><a xlink:href=\"#\" xlink:title=\"trace_return(self, frame: frame, event: str, arg: Any) &#45;&gt; None:&#10;Get return value and store complete call with arguments and return value\">\n",
       "<text text-anchor=\"start\" x=\"117\" y=\"-275.75\" font-family=\"'Fira Mono', 'Source Code Pro', 'Courier', monospace\" font-size=\"10.00\">trace_return()</text>\n",
       "</a>\n",
       "</g>\n",
       "<g id=\"a_node3_14\"><a xlink:href=\"#\" xlink:title=\"traceit(self, frame: frame, event: str, arg: Any) &#45;&gt; None:&#10;Tracking function: Record all calls and all args\">\n",
       "<text text-anchor=\"start\" x=\"117\" y=\"-264\" font-family=\"'Fira Mono', 'Source Code Pro', 'Courier', monospace\" font-style=\"italic\" font-size=\"10.00\">traceit()</text>\n",
       "</a>\n",
       "</g>\n",
       "</a>\n",
       "</g>\n",
       "</a>\n",
       "</g>\n",
       "</g>\n",
       "<!-- TypeTracer&#45;&gt;CallTracer -->\n",
       "<g id=\"edge2\" class=\"edge\">\n",
       "<title>TypeTracer&#45;&gt;CallTracer</title>\n",
       "<path fill=\"none\" stroke=\"black\" d=\"M108.23,-201.25C113.03,-212.7 119.71,-228.64 126.65,-245.2\"/>\n",
       "<polygon fill=\"none\" stroke=\"black\" points=\"123.31,-246.29 130.41,-254.16 129.77,-243.59 123.31,-246.29\"/>\n",
       "</g>\n",
       "<!-- Tracer -->\n",
       "<g id=\"node4\" class=\"node\">\n",
       "<title>Tracer</title>\n",
       "<g id=\"a_node4\"><a xlink:href=\"Tracer.ipynb\" xlink:title=\"class Tracer:&#10;A class for tracing a piece of code. Use as `with Tracer(): block()`\">\n",
       "<polygon fill=\"none\" stroke=\"black\" points=\"131.5,-428 131.5,-464 186.5,-464 186.5,-428 131.5,-428\"/>\n",
       "<text text-anchor=\"start\" x=\"139.5\" y=\"-442.7\" font-family=\"Raleway, Helvetica, Arial, sans-serif\" font-weight=\"bold\" font-size=\"14.00\" fill=\"#6a0dad\">Tracer</text>\n",
       "</a>\n",
       "</g>\n",
       "</g>\n",
       "<!-- CallTracer&#45;&gt;Tracer -->\n",
       "<g id=\"edge3\" class=\"edge\">\n",
       "<title>CallTracer&#45;&gt;Tracer</title>\n",
       "<path fill=\"none\" stroke=\"black\" d=\"M159,-391.39C159,-400.11 159,-408.64 159,-416.24\"/>\n",
       "<polygon fill=\"none\" stroke=\"black\" points=\"155.5,-416.15 159,-426.15 162.5,-416.15 155.5,-416.15\"/>\n",
       "</g>\n",
       "<!-- StackInspector -->\n",
       "<g id=\"node5\" class=\"node\">\n",
       "<title>StackInspector</title>\n",
       "<g id=\"a_node5\"><a xlink:href=\"StackInspector.ipynb\" xlink:title=\"class StackInspector:&#10;Provide functions to inspect the stack\">\n",
       "<polygon fill=\"none\" stroke=\"black\" points=\"76,-501 76,-547 242,-547 242,-501 76,-501\"/>\n",
       "<text text-anchor=\"start\" x=\"112.5\" y=\"-530.7\" font-family=\"Raleway, Helvetica, Arial, sans-serif\" font-weight=\"bold\" font-size=\"14.00\" fill=\"#6a0dad\">StackInspector</text>\n",
       "<polyline fill=\"none\" stroke=\"black\" points=\"76,-521.75 242,-521.75\"/>\n",
       "<g id=\"a_node5_15\"><a xlink:href=\"#\" xlink:title=\"StackInspector\">\n",
       "<g id=\"a_node5_16\"><a xlink:href=\"StackInspector.ipynb\" xlink:title=\"_generated_function_cache = {}\">\n",
       "<text text-anchor=\"start\" x=\"84\" y=\"-508.25\" font-family=\"'Fira Mono', 'Source Code Pro', 'Courier', monospace\" font-size=\"10.00\">_generated_function_cache</text>\n",
       "</a>\n",
       "</g>\n",
       "</a>\n",
       "</g>\n",
       "</a>\n",
       "</g>\n",
       "</g>\n",
       "<!-- Tracer&#45;&gt;StackInspector -->\n",
       "<g id=\"edge4\" class=\"edge\">\n",
       "<title>Tracer&#45;&gt;StackInspector</title>\n",
       "<path fill=\"none\" stroke=\"black\" d=\"M159,-464.25C159,-471.65 159,-480.58 159,-489.21\"/>\n",
       "<polygon fill=\"none\" stroke=\"black\" points=\"155.5,-489.11 159,-499.11 162.5,-489.11 155.5,-489.11\"/>\n",
       "</g>\n",
       "<!-- InvariantAnnotator -->\n",
       "<g id=\"node6\" class=\"node\">\n",
       "<title>InvariantAnnotator</title>\n",
       "<g id=\"a_node6\"><a xlink:href=\"#\" xlink:title=\"class InvariantAnnotator:&#10;A class for tracing a piece of code. Use as `with Tracer(): block()`\">\n",
       "<polygon fill=\"none\" stroke=\"black\" points=\"160,-0.5 160,-110.25 338,-110.25 338,-0.5 160,-0.5\"/>\n",
       "<text text-anchor=\"start\" x=\"191.62\" y=\"-93.95\" font-family=\"Raleway, Helvetica, Arial, sans-serif\" font-weight=\"bold\" font-size=\"14.00\" fill=\"#6a0dad\">InvariantAnnotator</text>\n",
       "<polyline fill=\"none\" stroke=\"black\" points=\"160,-85 338,-85\"/>\n",
       "<g id=\"a_node6_17\"><a xlink:href=\"#\" xlink:title=\"InvariantAnnotator\">\n",
       "<g id=\"a_node6_18\"><a xlink:href=\"#\" xlink:title=\"__repr__(self) &#45;&gt; str:&#10;String representation, like `functions_with_invariants()`\">\n",
       "<text text-anchor=\"start\" x=\"168\" y=\"-72.5\" font-family=\"'Fira Mono', 'Source Code Pro', 'Courier', monospace\" font-weight=\"bold\" font-size=\"10.00\">__repr__()</text>\n",
       "</a>\n",
       "</g>\n",
       "<g id=\"a_node6_19\"><a xlink:href=\"#\" xlink:title=\"function_with_invariants(self, function_name: str) &#45;&gt; str:&#10;Return the code of `function_name`, annotated with invariants\">\n",
       "<text text-anchor=\"start\" x=\"168\" y=\"-59.75\" font-family=\"'Fira Mono', 'Source Code Pro', 'Courier', monospace\" font-weight=\"bold\" font-size=\"10.00\">function_with_invariants()</text>\n",
       "</a>\n",
       "</g>\n",
       "<g id=\"a_node6_20\"><a xlink:href=\"#\" xlink:title=\"functions_with_invariants(self) &#45;&gt; str:&#10;Return the code of all observed functions, annotated with invariants\">\n",
       "<text text-anchor=\"start\" x=\"168\" y=\"-47\" font-family=\"'Fira Mono', 'Source Code Pro', 'Courier', monospace\" font-weight=\"bold\" font-size=\"10.00\">functions_with_invariants()</text>\n",
       "</a>\n",
       "</g>\n",
       "<g id=\"a_node6_21\"><a xlink:href=\"#\" xlink:title=\"postconditions(self, function_name: str) &#45;&gt; List[str]:&#10;Return a list of mined postconditions for `function_name`\">\n",
       "<text text-anchor=\"start\" x=\"168\" y=\"-34.25\" font-family=\"'Fira Mono', 'Source Code Pro', 'Courier', monospace\" font-weight=\"bold\" font-size=\"10.00\">postconditions()</text>\n",
       "</a>\n",
       "</g>\n",
       "<g id=\"a_node6_22\"><a xlink:href=\"#\" xlink:title=\"preconditions(self, function_name: str) &#45;&gt; List[str]:&#10;Return a list of mined preconditions for `function_name`\">\n",
       "<text text-anchor=\"start\" x=\"168\" y=\"-21.5\" font-family=\"'Fira Mono', 'Source Code Pro', 'Courier', monospace\" font-weight=\"bold\" font-size=\"10.00\">preconditions()</text>\n",
       "</a>\n",
       "</g>\n",
       "<g id=\"a_node6_23\"><a xlink:href=\"#\" xlink:title=\"params(self, function_name: str) &#45;&gt; str\">\n",
       "<text text-anchor=\"start\" x=\"168\" y=\"-7.75\" font-family=\"'Fira Mono', 'Source Code Pro', 'Courier', monospace\" font-size=\"10.00\">params()</text>\n",
       "</a>\n",
       "</g>\n",
       "</a>\n",
       "</g>\n",
       "</a>\n",
       "</g>\n",
       "</g>\n",
       "<!-- InvariantTracer -->\n",
       "<g id=\"node7\" class=\"node\">\n",
       "<title>InvariantTracer</title>\n",
       "<g id=\"a_node7\"><a xlink:href=\"#\" xlink:title=\"class InvariantTracer:&#10;A class for tracing a piece of code. Use as `with Tracer(): block()`\">\n",
       "<polygon fill=\"none\" stroke=\"black\" points=\"177,-147.25 177,-218.75 289,-218.75 289,-147.25 177,-147.25\"/>\n",
       "<text text-anchor=\"start\" x=\"188.38\" y=\"-202.45\" font-family=\"Raleway, Helvetica, Arial, sans-serif\" font-weight=\"bold\" font-size=\"14.00\" fill=\"#6a0dad\">InvariantTracer</text>\n",
       "<polyline fill=\"none\" stroke=\"black\" points=\"177,-193.5 289,-193.5\"/>\n",
       "<g id=\"a_node7_24\"><a xlink:href=\"#\" xlink:title=\"InvariantTracer\">\n",
       "<g id=\"a_node7_25\"><a xlink:href=\"#\" xlink:title=\"__init__(self, props: Optional[List[str]] = None, **kwargs: Any) &#45;&gt; None:&#10;Create a new tracer.&#10;If `file` is given, output to `file` instead of stdout.\">\n",
       "<text text-anchor=\"start\" x=\"185\" y=\"-181\" font-family=\"'Fira Mono', 'Source Code Pro', 'Courier', monospace\" font-weight=\"bold\" font-style=\"italic\" font-size=\"10.00\">__init__()</text>\n",
       "</a>\n",
       "</g>\n",
       "<g id=\"a_node7_26\"><a xlink:href=\"#\" xlink:title=\"all_invariants(self) &#45;&gt; Dict[str, Set[Tuple[str, Tuple[str, ...]]]]\">\n",
       "<text text-anchor=\"start\" x=\"185\" y=\"-167.25\" font-family=\"'Fira Mono', 'Source Code Pro', 'Courier', monospace\" font-size=\"10.00\">all_invariants()</text>\n",
       "</a>\n",
       "</g>\n",
       "<g id=\"a_node7_27\"><a xlink:href=\"#\" xlink:title=\"invariants(self, function_name: str) &#45;&gt; Set[Tuple[str, Tuple[str, ...]]]\">\n",
       "<text text-anchor=\"start\" x=\"185\" y=\"-154.5\" font-family=\"'Fira Mono', 'Source Code Pro', 'Courier', monospace\" font-size=\"10.00\">invariants()</text>\n",
       "</a>\n",
       "</g>\n",
       "</a>\n",
       "</g>\n",
       "</a>\n",
       "</g>\n",
       "</g>\n",
       "<!-- InvariantAnnotator&#45;&gt;InvariantTracer -->\n",
       "<g id=\"edge5\" class=\"edge\">\n",
       "<title>InvariantAnnotator&#45;&gt;InvariantTracer</title>\n",
       "<path fill=\"none\" stroke=\"black\" d=\"M242.08,-110.75C241.03,-118.94 239.96,-127.34 238.94,-135.35\"/>\n",
       "<polygon fill=\"none\" stroke=\"black\" points=\"235.47,-134.9 237.68,-145.26 242.41,-135.78 235.47,-134.9\"/>\n",
       "</g>\n",
       "<!-- InvariantTracer&#45;&gt;CallTracer -->\n",
       "<g id=\"edge6\" class=\"edge\">\n",
       "<title>InvariantTracer&#45;&gt;CallTracer</title>\n",
       "<path fill=\"none\" stroke=\"black\" d=\"M214.33,-218.92C209.96,-227.09 205.13,-236.12 200.2,-245.33\"/>\n",
       "<polygon fill=\"none\" stroke=\"black\" points=\"197.17,-243.57 195.55,-254.04 203.35,-246.87 197.17,-243.57\"/>\n",
       "</g>\n",
       "<!-- Legend -->\n",
       "<g id=\"node8\" class=\"node\">\n",
       "<title>Legend</title>\n",
       "<text text-anchor=\"start\" x=\"356.38\" y=\"-71.38\" font-family=\"Raleway, Helvetica, Arial, sans-serif\" font-weight=\"bold\" font-size=\"10.00\" fill=\"#6a0dad\">Legend</text>\n",
       "<text text-anchor=\"start\" x=\"356.38\" y=\"-61.38\" font-family=\"Raleway, Helvetica, Arial, sans-serif\" font-size=\"10.00\">• </text>\n",
       "<text text-anchor=\"start\" x=\"362.38\" y=\"-61.38\" font-family=\"'Fira Mono', 'Source Code Pro', 'Courier', monospace\" font-weight=\"bold\" font-size=\"8.00\">public_method()</text>\n",
       "<text text-anchor=\"start\" x=\"356.38\" y=\"-51.38\" font-family=\"Raleway, Helvetica, Arial, sans-serif\" font-size=\"10.00\">• </text>\n",
       "<text text-anchor=\"start\" x=\"362.38\" y=\"-51.38\" font-family=\"'Fira Mono', 'Source Code Pro', 'Courier', monospace\" font-size=\"8.00\">private_method()</text>\n",
       "<text text-anchor=\"start\" x=\"356.38\" y=\"-41.38\" font-family=\"Raleway, Helvetica, Arial, sans-serif\" font-size=\"10.00\">• </text>\n",
       "<text text-anchor=\"start\" x=\"362.38\" y=\"-41.38\" font-family=\"'Fira Mono', 'Source Code Pro', 'Courier', monospace\" font-style=\"italic\" font-size=\"8.00\">overloaded_method()</text>\n",
       "<text text-anchor=\"start\" x=\"356.38\" y=\"-32.33\" font-family=\"Helvetica,sans-Serif\" font-size=\"9.00\">Hover over names to see doc</text>\n",
       "</g>\n",
       "</g>\n",
       "</svg>\n"
      ],
      "text/html": [
       "<?xml version=\"1.0\" encoding=\"UTF-8\" standalone=\"no\"?>\n",
       "<!DOCTYPE svg PUBLIC \"-//W3C//DTD SVG 1.1//EN\"\n",
       " \"http://www.w3.org/Graphics/SVG/1.1/DTD/svg11.dtd\">\n",
       "<!-- Generated by graphviz version 12.2.1 (20241206.2353)\n",
       " -->\n",
       "<!-- Pages: 1 -->\n",
       "<svg width=\"484pt\" height=\"556pt\"\n",
       " viewBox=\"0.00 0.00 483.62 555.50\" xmlns=\"http://www.w3.org/2000/svg\" xmlns:xlink=\"http://www.w3.org/1999/xlink\">\n",
       "<g id=\"graph0\" class=\"graph\" transform=\"scale(1 1) rotate(0) translate(4 551.5)\">\n",
       "<g id=\"a_graph0\"><a xlink:title=\"TypeAnnotator class hierarchy\">\n",
       "<polygon fill=\"white\" stroke=\"none\" points=\"-4,4 -4,-551.5 479.62,-551.5 479.62,4 -4,4\"/>\n",
       "</a>\n",
       "</g>\n",
       "<!-- TypeAnnotator -->\n",
       "<g id=\"node1\" class=\"node\">\n",
       "<title>TypeAnnotator</title>\n",
       "<g id=\"a_node1\"><a xlink:href=\"#\" xlink:title=\"class TypeAnnotator:&#10;A class for tracing a piece of code. Use as `with Tracer(): block()`\">\n",
       "<polygon fill=\"none\" stroke=\"black\" points=\"0,-6.88 0,-103.88 142,-103.88 142,-6.88 0,-6.88\"/>\n",
       "<text text-anchor=\"start\" x=\"23.75\" y=\"-87.58\" font-family=\"Raleway, Helvetica, Arial, sans-serif\" font-weight=\"bold\" font-size=\"14.00\" fill=\"#6a0dad\">TypeAnnotator</text>\n",
       "<polyline fill=\"none\" stroke=\"black\" points=\"0,-78.62 142,-78.62\"/>\n",
       "<g id=\"a_node1_0\"><a xlink:href=\"#\" xlink:title=\"TypeAnnotator\">\n",
       "<g id=\"a_node1_1\"><a xlink:href=\"#\" xlink:title=\"__repr__(self) &#45;&gt; str:&#10;String representation, like `typed_functions()`\">\n",
       "<text text-anchor=\"start\" x=\"8\" y=\"-66.12\" font-family=\"'Fira Mono', 'Source Code Pro', 'Courier', monospace\" font-weight=\"bold\" font-size=\"10.00\">__repr__()</text>\n",
       "</a>\n",
       "</g>\n",
       "<g id=\"a_node1_2\"><a xlink:href=\"#\" xlink:title=\"typed_function(self, function_name: str) &#45;&gt; str:&#10;Return the code for all calls of `function_name` observed, annotated with types\">\n",
       "<text text-anchor=\"start\" x=\"8\" y=\"-53.38\" font-family=\"'Fira Mono', 'Source Code Pro', 'Courier', monospace\" font-weight=\"bold\" font-size=\"10.00\">typed_function()</text>\n",
       "</a>\n",
       "</g>\n",
       "<g id=\"a_node1_3\"><a xlink:href=\"#\" xlink:title=\"typed_function_ast(self, function_name: str) &#45;&gt; Optional[ast.AST]:&#10;Return an AST for all calls of `function_name` observed, annotated with types\">\n",
       "<text text-anchor=\"start\" x=\"8\" y=\"-40.62\" font-family=\"'Fira Mono', 'Source Code Pro', 'Courier', monospace\" font-weight=\"bold\" font-size=\"10.00\">typed_function_ast()</text>\n",
       "</a>\n",
       "</g>\n",
       "<g id=\"a_node1_4\"><a xlink:href=\"#\" xlink:title=\"typed_functions(self) &#45;&gt; str:&#10;Return the code for all functions observed, annotated with types\">\n",
       "<text text-anchor=\"start\" x=\"8\" y=\"-27.88\" font-family=\"'Fira Mono', 'Source Code Pro', 'Courier', monospace\" font-weight=\"bold\" font-size=\"10.00\">typed_functions()</text>\n",
       "</a>\n",
       "</g>\n",
       "<g id=\"a_node1_5\"><a xlink:href=\"#\" xlink:title=\"typed_functions_ast(self) &#45;&gt; Dict[str, ast.AST]:&#10;Return a dict name &#45;&gt; AST for all functions observed, annotated with types\">\n",
       "<text text-anchor=\"start\" x=\"8\" y=\"-15.12\" font-family=\"'Fira Mono', 'Source Code Pro', 'Courier', monospace\" font-weight=\"bold\" font-size=\"10.00\">typed_functions_ast()</text>\n",
       "</a>\n",
       "</g>\n",
       "</a>\n",
       "</g>\n",
       "</a>\n",
       "</g>\n",
       "</g>\n",
       "<!-- TypeTracer -->\n",
       "<g id=\"node2\" class=\"node\">\n",
       "<title>TypeTracer</title>\n",
       "<g id=\"a_node2\"><a xlink:href=\"#\" xlink:title=\"class TypeTracer:&#10;A class for tracing a piece of code. Use as `with Tracer(): block()`\">\n",
       "<polygon fill=\"none\" stroke=\"black\" points=\"58.5,-165 58.5,-201 143.5,-201 143.5,-165 58.5,-165\"/>\n",
       "<text text-anchor=\"start\" x=\"66.5\" y=\"-179.7\" font-family=\"Raleway, Helvetica, Arial, sans-serif\" font-weight=\"bold\" font-size=\"14.00\" fill=\"#6a0dad\">TypeTracer</text>\n",
       "</a>\n",
       "</g>\n",
       "</g>\n",
       "<!-- TypeAnnotator&#45;&gt;TypeTracer -->\n",
       "<g id=\"edge1\" class=\"edge\">\n",
       "<title>TypeAnnotator&#45;&gt;TypeTracer</title>\n",
       "<path fill=\"none\" stroke=\"black\" d=\"M82.43,-104.23C86.43,-120.97 90.78,-139.22 94.27,-153.83\"/>\n",
       "<polygon fill=\"none\" stroke=\"black\" points=\"90.78,-154.28 96.51,-163.19 97.59,-152.65 90.78,-154.28\"/>\n",
       "</g>\n",
       "<!-- CallTracer -->\n",
       "<g id=\"node3\" class=\"node\">\n",
       "<title>CallTracer</title>\n",
       "<g id=\"a_node3\"><a xlink:href=\"#\" xlink:title=\"class CallTracer:&#10;A class for tracing a piece of code. Use as `with Tracer(): block()`\">\n",
       "<polygon fill=\"none\" stroke=\"black\" points=\"109,-255.75 109,-391 209,-391 209,-255.75 109,-255.75\"/>\n",
       "<text text-anchor=\"start\" x=\"127.88\" y=\"-374.7\" font-family=\"Raleway, Helvetica, Arial, sans-serif\" font-weight=\"bold\" font-size=\"14.00\" fill=\"#6a0dad\">CallTracer</text>\n",
       "<polyline fill=\"none\" stroke=\"black\" points=\"109,-365.75 209,-365.75\"/>\n",
       "<g id=\"a_node3_6\"><a xlink:href=\"#\" xlink:title=\"CallTracer\">\n",
       "<g id=\"a_node3_7\"><a xlink:href=\"#\" xlink:title=\"__init__(self, log: bool = False, **kwargs: Any) &#45;&gt; None:&#10;Create a new tracer.&#10;If `file` is given, output to `file` instead of stdout.\">\n",
       "<text text-anchor=\"start\" x=\"117\" y=\"-353.25\" font-family=\"'Fira Mono', 'Source Code Pro', 'Courier', monospace\" font-weight=\"bold\" font-style=\"italic\" font-size=\"10.00\">__init__()</text>\n",
       "</a>\n",
       "</g>\n",
       "<g id=\"a_node3_8\"><a xlink:href=\"#\" xlink:title=\"add_call(self, function_name: str, arguments: List[Tuple[str, Any]], return_value: Any = None) &#45;&gt; None:&#10;Add given call to list of calls\">\n",
       "<text text-anchor=\"start\" x=\"117\" y=\"-339.5\" font-family=\"'Fira Mono', 'Source Code Pro', 'Courier', monospace\" font-size=\"10.00\">add_call()</text>\n",
       "</a>\n",
       "</g>\n",
       "<g id=\"a_node3_9\"><a xlink:href=\"#\" xlink:title=\"all_calls(self) &#45;&gt; Dict[str, List[Tuple[List[Tuple[str, Any]], Any]]]:&#10;Return list of calls for function_name,&#10;or a mapping function_name &#45;&gt; calls for all functions tracked\">\n",
       "<text text-anchor=\"start\" x=\"117\" y=\"-326.75\" font-family=\"'Fira Mono', 'Source Code Pro', 'Courier', monospace\" font-size=\"10.00\">all_calls()</text>\n",
       "</a>\n",
       "</g>\n",
       "<g id=\"a_node3_10\"><a xlink:href=\"#\" xlink:title=\"calls(self, function_name: str) &#45;&gt; List[Tuple[List[Tuple[str, Any]], Any]]:&#10;Return list of calls for `function_name`.\">\n",
       "<text text-anchor=\"start\" x=\"117\" y=\"-314\" font-family=\"'Fira Mono', 'Source Code Pro', 'Courier', monospace\" font-size=\"10.00\">calls()</text>\n",
       "</a>\n",
       "</g>\n",
       "<g id=\"a_node3_11\"><a xlink:href=\"#\" xlink:title=\"reset(self) &#45;&gt; None\">\n",
       "<text text-anchor=\"start\" x=\"117\" y=\"-301.25\" font-family=\"'Fira Mono', 'Source Code Pro', 'Courier', monospace\" font-size=\"10.00\">reset()</text>\n",
       "</a>\n",
       "</g>\n",
       "<g id=\"a_node3_12\"><a xlink:href=\"#\" xlink:title=\"trace_call(self, frame: frame, event: str, arg: Any) &#45;&gt; None:&#10;Save current function name and args on the stack\">\n",
       "<text text-anchor=\"start\" x=\"117\" y=\"-288.5\" font-family=\"'Fira Mono', 'Source Code Pro', 'Courier', monospace\" font-size=\"10.00\">trace_call()</text>\n",
       "</a>\n",
       "</g>\n",
       "<g id=\"a_node3_13\"><a xlink:href=\"#\" xlink:title=\"trace_return(self, frame: frame, event: str, arg: Any) &#45;&gt; None:&#10;Get return value and store complete call with arguments and return value\">\n",
       "<text text-anchor=\"start\" x=\"117\" y=\"-275.75\" font-family=\"'Fira Mono', 'Source Code Pro', 'Courier', monospace\" font-size=\"10.00\">trace_return()</text>\n",
       "</a>\n",
       "</g>\n",
       "<g id=\"a_node3_14\"><a xlink:href=\"#\" xlink:title=\"traceit(self, frame: frame, event: str, arg: Any) &#45;&gt; None:&#10;Tracking function: Record all calls and all args\">\n",
       "<text text-anchor=\"start\" x=\"117\" y=\"-264\" font-family=\"'Fira Mono', 'Source Code Pro', 'Courier', monospace\" font-style=\"italic\" font-size=\"10.00\">traceit()</text>\n",
       "</a>\n",
       "</g>\n",
       "</a>\n",
       "</g>\n",
       "</a>\n",
       "</g>\n",
       "</g>\n",
       "<!-- TypeTracer&#45;&gt;CallTracer -->\n",
       "<g id=\"edge2\" class=\"edge\">\n",
       "<title>TypeTracer&#45;&gt;CallTracer</title>\n",
       "<path fill=\"none\" stroke=\"black\" d=\"M108.23,-201.25C113.03,-212.7 119.71,-228.64 126.65,-245.2\"/>\n",
       "<polygon fill=\"none\" stroke=\"black\" points=\"123.31,-246.29 130.41,-254.16 129.77,-243.59 123.31,-246.29\"/>\n",
       "</g>\n",
       "<!-- Tracer -->\n",
       "<g id=\"node4\" class=\"node\">\n",
       "<title>Tracer</title>\n",
       "<g id=\"a_node4\"><a xlink:href=\"Tracer.ipynb\" xlink:title=\"class Tracer:&#10;A class for tracing a piece of code. Use as `with Tracer(): block()`\">\n",
       "<polygon fill=\"none\" stroke=\"black\" points=\"131.5,-428 131.5,-464 186.5,-464 186.5,-428 131.5,-428\"/>\n",
       "<text text-anchor=\"start\" x=\"139.5\" y=\"-442.7\" font-family=\"Raleway, Helvetica, Arial, sans-serif\" font-weight=\"bold\" font-size=\"14.00\" fill=\"#6a0dad\">Tracer</text>\n",
       "</a>\n",
       "</g>\n",
       "</g>\n",
       "<!-- CallTracer&#45;&gt;Tracer -->\n",
       "<g id=\"edge3\" class=\"edge\">\n",
       "<title>CallTracer&#45;&gt;Tracer</title>\n",
       "<path fill=\"none\" stroke=\"black\" d=\"M159,-391.39C159,-400.11 159,-408.64 159,-416.24\"/>\n",
       "<polygon fill=\"none\" stroke=\"black\" points=\"155.5,-416.15 159,-426.15 162.5,-416.15 155.5,-416.15\"/>\n",
       "</g>\n",
       "<!-- StackInspector -->\n",
       "<g id=\"node5\" class=\"node\">\n",
       "<title>StackInspector</title>\n",
       "<g id=\"a_node5\"><a xlink:href=\"StackInspector.ipynb\" xlink:title=\"class StackInspector:&#10;Provide functions to inspect the stack\">\n",
       "<polygon fill=\"none\" stroke=\"black\" points=\"76,-501 76,-547 242,-547 242,-501 76,-501\"/>\n",
       "<text text-anchor=\"start\" x=\"112.5\" y=\"-530.7\" font-family=\"Raleway, Helvetica, Arial, sans-serif\" font-weight=\"bold\" font-size=\"14.00\" fill=\"#6a0dad\">StackInspector</text>\n",
       "<polyline fill=\"none\" stroke=\"black\" points=\"76,-521.75 242,-521.75\"/>\n",
       "<g id=\"a_node5_15\"><a xlink:href=\"#\" xlink:title=\"StackInspector\">\n",
       "<g id=\"a_node5_16\"><a xlink:href=\"StackInspector.ipynb\" xlink:title=\"_generated_function_cache = {}\">\n",
       "<text text-anchor=\"start\" x=\"84\" y=\"-508.25\" font-family=\"'Fira Mono', 'Source Code Pro', 'Courier', monospace\" font-size=\"10.00\">_generated_function_cache</text>\n",
       "</a>\n",
       "</g>\n",
       "</a>\n",
       "</g>\n",
       "</a>\n",
       "</g>\n",
       "</g>\n",
       "<!-- Tracer&#45;&gt;StackInspector -->\n",
       "<g id=\"edge4\" class=\"edge\">\n",
       "<title>Tracer&#45;&gt;StackInspector</title>\n",
       "<path fill=\"none\" stroke=\"black\" d=\"M159,-464.25C159,-471.65 159,-480.58 159,-489.21\"/>\n",
       "<polygon fill=\"none\" stroke=\"black\" points=\"155.5,-489.11 159,-499.11 162.5,-489.11 155.5,-489.11\"/>\n",
       "</g>\n",
       "<!-- InvariantAnnotator -->\n",
       "<g id=\"node6\" class=\"node\">\n",
       "<title>InvariantAnnotator</title>\n",
       "<g id=\"a_node6\"><a xlink:href=\"#\" xlink:title=\"class InvariantAnnotator:&#10;A class for tracing a piece of code. Use as `with Tracer(): block()`\">\n",
       "<polygon fill=\"none\" stroke=\"black\" points=\"160,-0.5 160,-110.25 338,-110.25 338,-0.5 160,-0.5\"/>\n",
       "<text text-anchor=\"start\" x=\"191.62\" y=\"-93.95\" font-family=\"Raleway, Helvetica, Arial, sans-serif\" font-weight=\"bold\" font-size=\"14.00\" fill=\"#6a0dad\">InvariantAnnotator</text>\n",
       "<polyline fill=\"none\" stroke=\"black\" points=\"160,-85 338,-85\"/>\n",
       "<g id=\"a_node6_17\"><a xlink:href=\"#\" xlink:title=\"InvariantAnnotator\">\n",
       "<g id=\"a_node6_18\"><a xlink:href=\"#\" xlink:title=\"__repr__(self) &#45;&gt; str:&#10;String representation, like `functions_with_invariants()`\">\n",
       "<text text-anchor=\"start\" x=\"168\" y=\"-72.5\" font-family=\"'Fira Mono', 'Source Code Pro', 'Courier', monospace\" font-weight=\"bold\" font-size=\"10.00\">__repr__()</text>\n",
       "</a>\n",
       "</g>\n",
       "<g id=\"a_node6_19\"><a xlink:href=\"#\" xlink:title=\"function_with_invariants(self, function_name: str) &#45;&gt; str:&#10;Return the code of `function_name`, annotated with invariants\">\n",
       "<text text-anchor=\"start\" x=\"168\" y=\"-59.75\" font-family=\"'Fira Mono', 'Source Code Pro', 'Courier', monospace\" font-weight=\"bold\" font-size=\"10.00\">function_with_invariants()</text>\n",
       "</a>\n",
       "</g>\n",
       "<g id=\"a_node6_20\"><a xlink:href=\"#\" xlink:title=\"functions_with_invariants(self) &#45;&gt; str:&#10;Return the code of all observed functions, annotated with invariants\">\n",
       "<text text-anchor=\"start\" x=\"168\" y=\"-47\" font-family=\"'Fira Mono', 'Source Code Pro', 'Courier', monospace\" font-weight=\"bold\" font-size=\"10.00\">functions_with_invariants()</text>\n",
       "</a>\n",
       "</g>\n",
       "<g id=\"a_node6_21\"><a xlink:href=\"#\" xlink:title=\"postconditions(self, function_name: str) &#45;&gt; List[str]:&#10;Return a list of mined postconditions for `function_name`\">\n",
       "<text text-anchor=\"start\" x=\"168\" y=\"-34.25\" font-family=\"'Fira Mono', 'Source Code Pro', 'Courier', monospace\" font-weight=\"bold\" font-size=\"10.00\">postconditions()</text>\n",
       "</a>\n",
       "</g>\n",
       "<g id=\"a_node6_22\"><a xlink:href=\"#\" xlink:title=\"preconditions(self, function_name: str) &#45;&gt; List[str]:&#10;Return a list of mined preconditions for `function_name`\">\n",
       "<text text-anchor=\"start\" x=\"168\" y=\"-21.5\" font-family=\"'Fira Mono', 'Source Code Pro', 'Courier', monospace\" font-weight=\"bold\" font-size=\"10.00\">preconditions()</text>\n",
       "</a>\n",
       "</g>\n",
       "<g id=\"a_node6_23\"><a xlink:href=\"#\" xlink:title=\"params(self, function_name: str) &#45;&gt; str\">\n",
       "<text text-anchor=\"start\" x=\"168\" y=\"-7.75\" font-family=\"'Fira Mono', 'Source Code Pro', 'Courier', monospace\" font-size=\"10.00\">params()</text>\n",
       "</a>\n",
       "</g>\n",
       "</a>\n",
       "</g>\n",
       "</a>\n",
       "</g>\n",
       "</g>\n",
       "<!-- InvariantTracer -->\n",
       "<g id=\"node7\" class=\"node\">\n",
       "<title>InvariantTracer</title>\n",
       "<g id=\"a_node7\"><a xlink:href=\"#\" xlink:title=\"class InvariantTracer:&#10;A class for tracing a piece of code. Use as `with Tracer(): block()`\">\n",
       "<polygon fill=\"none\" stroke=\"black\" points=\"177,-147.25 177,-218.75 289,-218.75 289,-147.25 177,-147.25\"/>\n",
       "<text text-anchor=\"start\" x=\"188.38\" y=\"-202.45\" font-family=\"Raleway, Helvetica, Arial, sans-serif\" font-weight=\"bold\" font-size=\"14.00\" fill=\"#6a0dad\">InvariantTracer</text>\n",
       "<polyline fill=\"none\" stroke=\"black\" points=\"177,-193.5 289,-193.5\"/>\n",
       "<g id=\"a_node7_24\"><a xlink:href=\"#\" xlink:title=\"InvariantTracer\">\n",
       "<g id=\"a_node7_25\"><a xlink:href=\"#\" xlink:title=\"__init__(self, props: Optional[List[str]] = None, **kwargs: Any) &#45;&gt; None:&#10;Create a new tracer.&#10;If `file` is given, output to `file` instead of stdout.\">\n",
       "<text text-anchor=\"start\" x=\"185\" y=\"-181\" font-family=\"'Fira Mono', 'Source Code Pro', 'Courier', monospace\" font-weight=\"bold\" font-style=\"italic\" font-size=\"10.00\">__init__()</text>\n",
       "</a>\n",
       "</g>\n",
       "<g id=\"a_node7_26\"><a xlink:href=\"#\" xlink:title=\"all_invariants(self) &#45;&gt; Dict[str, Set[Tuple[str, Tuple[str, ...]]]]\">\n",
       "<text text-anchor=\"start\" x=\"185\" y=\"-167.25\" font-family=\"'Fira Mono', 'Source Code Pro', 'Courier', monospace\" font-size=\"10.00\">all_invariants()</text>\n",
       "</a>\n",
       "</g>\n",
       "<g id=\"a_node7_27\"><a xlink:href=\"#\" xlink:title=\"invariants(self, function_name: str) &#45;&gt; Set[Tuple[str, Tuple[str, ...]]]\">\n",
       "<text text-anchor=\"start\" x=\"185\" y=\"-154.5\" font-family=\"'Fira Mono', 'Source Code Pro', 'Courier', monospace\" font-size=\"10.00\">invariants()</text>\n",
       "</a>\n",
       "</g>\n",
       "</a>\n",
       "</g>\n",
       "</a>\n",
       "</g>\n",
       "</g>\n",
       "<!-- InvariantAnnotator&#45;&gt;InvariantTracer -->\n",
       "<g id=\"edge5\" class=\"edge\">\n",
       "<title>InvariantAnnotator&#45;&gt;InvariantTracer</title>\n",
       "<path fill=\"none\" stroke=\"black\" d=\"M242.08,-110.75C241.03,-118.94 239.96,-127.34 238.94,-135.35\"/>\n",
       "<polygon fill=\"none\" stroke=\"black\" points=\"235.47,-134.9 237.68,-145.26 242.41,-135.78 235.47,-134.9\"/>\n",
       "</g>\n",
       "<!-- InvariantTracer&#45;&gt;CallTracer -->\n",
       "<g id=\"edge6\" class=\"edge\">\n",
       "<title>InvariantTracer&#45;&gt;CallTracer</title>\n",
       "<path fill=\"none\" stroke=\"black\" d=\"M214.33,-218.92C209.96,-227.09 205.13,-236.12 200.2,-245.33\"/>\n",
       "<polygon fill=\"none\" stroke=\"black\" points=\"197.17,-243.57 195.55,-254.04 203.35,-246.87 197.17,-243.57\"/>\n",
       "</g>\n",
       "<!-- Legend -->\n",
       "<g id=\"node8\" class=\"node\">\n",
       "<title>Legend</title>\n",
       "<text text-anchor=\"start\" x=\"356.38\" y=\"-71.38\" font-family=\"Raleway, Helvetica, Arial, sans-serif\" font-weight=\"bold\" font-size=\"10.00\" fill=\"#6a0dad\">Legend</text>\n",
       "<text text-anchor=\"start\" x=\"356.38\" y=\"-61.38\" font-family=\"Raleway, Helvetica, Arial, sans-serif\" font-size=\"10.00\">• </text>\n",
       "<text text-anchor=\"start\" x=\"362.38\" y=\"-61.38\" font-family=\"'Fira Mono', 'Source Code Pro', 'Courier', monospace\" font-weight=\"bold\" font-size=\"8.00\">public_method()</text>\n",
       "<text text-anchor=\"start\" x=\"356.38\" y=\"-51.38\" font-family=\"Raleway, Helvetica, Arial, sans-serif\" font-size=\"10.00\">• </text>\n",
       "<text text-anchor=\"start\" x=\"362.38\" y=\"-51.38\" font-family=\"'Fira Mono', 'Source Code Pro', 'Courier', monospace\" font-size=\"8.00\">private_method()</text>\n",
       "<text text-anchor=\"start\" x=\"356.38\" y=\"-41.38\" font-family=\"Raleway, Helvetica, Arial, sans-serif\" font-size=\"10.00\">• </text>\n",
       "<text text-anchor=\"start\" x=\"362.38\" y=\"-41.38\" font-family=\"'Fira Mono', 'Source Code Pro', 'Courier', monospace\" font-style=\"italic\" font-size=\"8.00\">overloaded_method()</text>\n",
       "<text text-anchor=\"start\" x=\"356.38\" y=\"-32.33\" font-family=\"Helvetica,sans-Serif\" font-size=\"9.00\">Hover over names to see doc</text>\n",
       "</g>\n",
       "</g>\n",
       "</svg>\n"
      ],
      "text/plain": [
       "<graphviz.graphs.Digraph at 0x116019160>"
      ]
     },
     "execution_count": 219,
     "metadata": {},
     "output_type": "execute_result"
    }
   ],
   "source": [
    "# ignore\n",
    "display_class_hierarchy([TypeAnnotator, InvariantAnnotator],\n",
    "                        public_methods=[\n",
    "                            TypeAnnotator.typed_function,\n",
    "                            TypeAnnotator.typed_functions,\n",
    "                            TypeAnnotator.typed_function_ast,\n",
    "                            TypeAnnotator.typed_functions_ast,\n",
    "                            TypeAnnotator.__repr__,\n",
    "                            InvariantAnnotator.function_with_invariants,\n",
    "                            InvariantAnnotator.functions_with_invariants,\n",
    "                            InvariantAnnotator.preconditions,\n",
    "                            InvariantAnnotator.postconditions,\n",
    "                            InvariantAnnotator.__repr__,\n",
    "                            InvariantTracer.__init__,\n",
    "                            CallTracer.__init__\n",
    "                        ],\n",
    "                        project='debuggingbook'\n",
    "                       )"
   ]
  },
  {
   "cell_type": "markdown",
   "metadata": {
    "button": false,
    "new_sheet": true,
    "run_control": {
     "read_only": false
    },
    "slideshow": {
     "slide_type": "slide"
    }
   },
   "source": [
    "## Lessons Learned\n",
    "\n",
    "* Type annotations and explicit invariants allow for _checking_ arguments and results for expected data types and other properties.\n",
    "* One can automatically _mine_ data types and invariants by observing arguments and results at runtime.\n",
    "* The quality of mined invariants depends on the diversity of values observed during executions; this variety can be increased by generating tests."
   ]
  },
  {
   "cell_type": "markdown",
   "metadata": {
    "button": false,
    "new_sheet": false,
    "run_control": {
     "read_only": false
    },
    "slideshow": {
     "slide_type": "slide"
    }
   },
   "source": [
    "## Next Steps\n",
    "\n",
    "In the next chapter, we will explore [abstracting failure conditions](DDSetDebugger.ipynb)."
   ]
  },
  {
   "cell_type": "markdown",
   "metadata": {
    "slideshow": {
     "slide_type": "slide"
    }
   },
   "source": [
    "## Background\n",
    "\n",
    "The [DAIKON dynamic invariant detector](https://plse.cs.washington.edu/daikon/) can be considered the mother of function specification miners.  Continuously maintained and extended for more than 20 years, it mines likely invariants in the style of this chapter for a variety of languages, including C, C++, C#, Eiffel, F#, Java, Perl, and Visual Basic.  On top of the functionality discussed above, it holds a rich catalog of patterns for likely invariants, supports data invariants, can eliminate invariants that are implied by others, and determines statistical confidence to disregard unlikely invariants.  The corresponding paper \\cite{Ernst2001} is one of the seminal and most-cited papers of Software Engineering.  A multitude of works have been published based on DAIKON and detecting invariants; see this [curated list](http://plse.cs.washington.edu/daikon/pubs/) for details."
   ]
  },
  {
   "cell_type": "markdown",
   "metadata": {
    "slideshow": {
     "slide_type": "subslide"
    }
   },
   "source": [
    "The interaction between test generators and invariant detection is already discussed in \\cite{Ernst2001} (incidentally also using grammars).  The Eclat tool \\cite{Pacheco2005} is a model example of tight interaction between a unit-level test generator and DAIKON-style invariant mining, where the mined invariants are used to produce oracles and to systematically guide the test generator towards fault-revealing inputs."
   ]
  },
  {
   "attachments": {},
   "cell_type": "markdown",
   "metadata": {
    "slideshow": {
     "slide_type": "fragment"
    }
   },
   "source": [
    "Mining specifications is not restricted to pre- and postconditions.  The paper \"Mining Specifications\" \\cite{Ammons2002} is another classic in the field, learning state protocols from executions.  Grammar mining \\cite{Gopinath2020} can also be seen as a specification mining approach, this time learning specifications for input formats."
   ]
  },
  {
   "cell_type": "markdown",
   "metadata": {
    "slideshow": {
     "slide_type": "subslide"
    }
   },
   "source": [
    "As it comes to adding type annotations to existing code, the blog post [\"The state of type hints in Python\"](https://www.bernat.tech/the-state-of-type-hints-in-python/) gives a great overview on how Python type hints can be used and checked.  To add type annotations, there are two important tools available that also implement our above approach:\n",
    "\n",
    "* [MonkeyType](https://instagram-engineering.com/let-your-code-type-hint-itself-introducing-open-source-monkeytype-a855c7284881) implements the above approach of tracing executions and annotating Python 3 arguments, returns, and variables with type hints.\n",
    "* [PyAnnotate](https://github.com/dropbox/pyannotate) does a similar job, focusing on code in Python 2.  It does not produce Python 3-style annotations, but instead produces annotations as comments that can be processed by static type checkers.\n",
    "\n",
    "These tools have been created by engineers at Facebook and Dropbox, respectively, assisting them in checking millions of lines of code for type issues."
   ]
  },
  {
   "cell_type": "markdown",
   "metadata": {
    "button": false,
    "new_sheet": true,
    "run_control": {
     "read_only": false
    },
    "slideshow": {
     "slide_type": "slide"
    }
   },
   "source": [
    "## Exercises\n",
    "\n",
    "Our code for mining types and invariants is in no way complete.  There are dozens of ways to extend our implementations, some of which we discuss in exercises."
   ]
  },
  {
   "cell_type": "markdown",
   "metadata": {
    "button": false,
    "new_sheet": true,
    "run_control": {
     "read_only": false
    },
    "slideshow": {
     "slide_type": "subslide"
    }
   },
   "source": [
    "### Exercise 1: Union Types\n",
    "\n",
    "The Python `typing` module allows expressing that an argument can have multiple types.  For `square_root(x)`, this allows expressing that `x` can be an `int` or a `float`:"
   ]
  },
  {
   "cell_type": "code",
   "execution_count": 220,
   "metadata": {
    "execution": {
     "iopub.execute_input": "2025-01-07T11:06:32.456451Z",
     "iopub.status.busy": "2025-01-07T11:06:32.456331Z",
     "iopub.status.idle": "2025-01-07T11:06:32.458194Z",
     "shell.execute_reply": "2025-01-07T11:06:32.457979Z"
    },
    "slideshow": {
     "slide_type": "fragment"
    }
   },
   "outputs": [],
   "source": [
    "def square_root_with_union_type(x: Union[int, float]) -> float:  # type: ignore\n",
    "    ..."
   ]
  },
  {
   "cell_type": "markdown",
   "metadata": {
    "slideshow": {
     "slide_type": "fragment"
    },
    "solution2": "hidden",
    "solution2_first": true
   },
   "source": [
    "Extend the `TypeAnnotator` such that it supports union types for arguments and return values.  Use `Optional[X]` as a shorthand for `Union[X, None]`."
   ]
  },
  {
   "cell_type": "markdown",
   "metadata": {
    "slideshow": {
     "slide_type": "skip"
    },
    "solution2": "hidden"
   },
   "source": [
    "**Solution.** Left to the reader. Hint: extend `type_string()`."
   ]
  },
  {
   "cell_type": "markdown",
   "metadata": {
    "slideshow": {
     "slide_type": "subslide"
    }
   },
   "source": [
    "### Exercise 2: Types for Local Variables\n",
    "\n",
    "In Python, one cannot only annotate arguments with types, but actually also local and global variables – for instance, `approx` and `guess` in our `square_root()` implementation:"
   ]
  },
  {
   "cell_type": "code",
   "execution_count": 221,
   "metadata": {
    "button": false,
    "execution": {
     "iopub.execute_input": "2025-01-07T11:06:32.459560Z",
     "iopub.status.busy": "2025-01-07T11:06:32.459460Z",
     "iopub.status.idle": "2025-01-07T11:06:32.461286Z",
     "shell.execute_reply": "2025-01-07T11:06:32.461072Z"
    },
    "new_sheet": false,
    "run_control": {
     "read_only": false
    },
    "slideshow": {
     "slide_type": "fragment"
    }
   },
   "outputs": [],
   "source": [
    "def square_root_with_local_types(x: Union[int, float]) -> float:\n",
    "    \"\"\"Computes the square root of x, using the Newton-Raphson method\"\"\"\n",
    "    approx: Optional[float] = None\n",
    "    guess: float = x / 2\n",
    "    while approx != guess:\n",
    "        approx: float = guess  # type: ignore\n",
    "        guess: float = (approx + x / approx) / 2  # type: ignore\n",
    "    return approx"
   ]
  },
  {
   "attachments": {},
   "cell_type": "markdown",
   "metadata": {
    "slideshow": {
     "slide_type": "subslide"
    },
    "solution2": "hidden",
    "solution2_first": true
   },
   "source": [
    "Extend the `TypeAnnotator` such that it also annotates local variables with types.  Search the function AST for assignments, determine the type of the assigned value, and make it an annotation on the left-hand side."
   ]
  },
  {
   "cell_type": "markdown",
   "metadata": {
    "slideshow": {
     "slide_type": "skip"
    },
    "solution2": "hidden"
   },
   "source": [
    "**Solution.** Left to the reader."
   ]
  },
  {
   "cell_type": "markdown",
   "metadata": {
    "slideshow": {
     "slide_type": "subslide"
    }
   },
   "source": [
    "### Exercise 3: Verbose Invariant Checkers\n",
    "\n",
    "Our implementation of invariant checkers does not make it clear for the user which pre-/postcondition failed."
   ]
  },
  {
   "cell_type": "code",
   "execution_count": 222,
   "metadata": {
    "execution": {
     "iopub.execute_input": "2025-01-07T11:06:32.462513Z",
     "iopub.status.busy": "2025-01-07T11:06:32.462439Z",
     "iopub.status.idle": "2025-01-07T11:06:32.464164Z",
     "shell.execute_reply": "2025-01-07T11:06:32.463961Z"
    },
    "slideshow": {
     "slide_type": "fragment"
    }
   },
   "outputs": [],
   "source": [
    "@precondition(lambda s: len(s) > 0)\n",
    "def remove_first_char(s: str) -> str:\n",
    "    return s[1:]"
   ]
  },
  {
   "cell_type": "code",
   "execution_count": 223,
   "metadata": {
    "execution": {
     "iopub.execute_input": "2025-01-07T11:06:32.465324Z",
     "iopub.status.busy": "2025-01-07T11:06:32.465250Z",
     "iopub.status.idle": "2025-01-07T11:06:32.467153Z",
     "shell.execute_reply": "2025-01-07T11:06:32.466935Z"
    },
    "slideshow": {
     "slide_type": "subslide"
    }
   },
   "outputs": [
    {
     "name": "stderr",
     "output_type": "stream",
     "text": [
      "Traceback (most recent call last):\n",
      "  File \"/var/folders/n2/xd9445p97rb3xh7m1dfx8_4h0006ts/T/ipykernel_21001/2212034949.py\", line 2, in <module>\n",
      "    remove_first_char('')\n",
      "  File \"/var/folders/n2/xd9445p97rb3xh7m1dfx8_4h0006ts/T/ipykernel_21001/3759592669.py\", line 7, in wrapper\n",
      "    assert precondition(*args, **kwargs), \\\n",
      "           ^^^^^^^^^^^^^^^^^^^^^^^^^^^^^\n",
      "AssertionError: Precondition violated (expected)\n"
     ]
    }
   ],
   "source": [
    "with ExpectError():\n",
    "    remove_first_char('')"
   ]
  },
  {
   "cell_type": "markdown",
   "metadata": {
    "slideshow": {
     "slide_type": "fragment"
    }
   },
   "source": [
    "The following implementation adds an optional `doc` keyword argument which is printed if the invariant is violated:"
   ]
  },
  {
   "cell_type": "code",
   "execution_count": 224,
   "metadata": {
    "execution": {
     "iopub.execute_input": "2025-01-07T11:06:32.468400Z",
     "iopub.status.busy": "2025-01-07T11:06:32.468314Z",
     "iopub.status.idle": "2025-01-07T11:06:32.470694Z",
     "shell.execute_reply": "2025-01-07T11:06:32.470489Z"
    },
    "slideshow": {
     "slide_type": "subslide"
    }
   },
   "outputs": [],
   "source": [
    "def verbose_condition(precondition: Optional[Callable] = None,\n",
    "                      postcondition: Optional[Callable] = None,\n",
    "                      doc: str = 'Unknown') -> Callable:\n",
    "    def decorator(func: Callable) -> Callable:\n",
    "        # Use `functools` to preserve name, docstring, etc\n",
    "        @functools.wraps(func)\n",
    "        def wrapper(*args: Any, **kwargs: Any) -> Any:\n",
    "            if precondition is not None:\n",
    "                assert precondition(*args, **kwargs), \\\n",
    "                    \"Precondition violated: \" + doc\n",
    "\n",
    "            # call original function or method\n",
    "            retval = func(*args, **kwargs)\n",
    "\n",
    "            if postcondition is not None:\n",
    "                assert postcondition(retval, *args, **kwargs), \\\n",
    "                    \"Postcondition violated: \" + doc\n",
    "\n",
    "            return retval\n",
    "\n",
    "        return wrapper\n",
    "    return decorator"
   ]
  },
  {
   "cell_type": "code",
   "execution_count": 225,
   "metadata": {
    "execution": {
     "iopub.execute_input": "2025-01-07T11:06:32.471806Z",
     "iopub.status.busy": "2025-01-07T11:06:32.471723Z",
     "iopub.status.idle": "2025-01-07T11:06:32.473420Z",
     "shell.execute_reply": "2025-01-07T11:06:32.473205Z"
    },
    "slideshow": {
     "slide_type": "subslide"
    }
   },
   "outputs": [],
   "source": [
    "def verbose_precondition(check: Callable, **kwargs: Any) -> Callable:\n",
    "    return verbose_condition(precondition=check,\n",
    "                             doc=kwargs.get('doc', 'Unknown'))"
   ]
  },
  {
   "cell_type": "code",
   "execution_count": 226,
   "metadata": {
    "execution": {
     "iopub.execute_input": "2025-01-07T11:06:32.474502Z",
     "iopub.status.busy": "2025-01-07T11:06:32.474431Z",
     "iopub.status.idle": "2025-01-07T11:06:32.476089Z",
     "shell.execute_reply": "2025-01-07T11:06:32.475882Z"
    },
    "slideshow": {
     "slide_type": "fragment"
    }
   },
   "outputs": [],
   "source": [
    "def verbose_postcondition(check: Callable, **kwargs: Any) -> Callable:\n",
    "    return verbose_condition(postcondition=check,\n",
    "                             doc=kwargs.get('doc', 'Unknown'))"
   ]
  },
  {
   "cell_type": "code",
   "execution_count": 227,
   "metadata": {
    "execution": {
     "iopub.execute_input": "2025-01-07T11:06:32.477216Z",
     "iopub.status.busy": "2025-01-07T11:06:32.477123Z",
     "iopub.status.idle": "2025-01-07T11:06:32.478784Z",
     "shell.execute_reply": "2025-01-07T11:06:32.478579Z"
    },
    "slideshow": {
     "slide_type": "fragment"
    }
   },
   "outputs": [],
   "source": [
    "@verbose_precondition(lambda s: len(s) > 0, doc=\"len(s) > 0\")    # type: ignore\n",
    "def remove_first_char(s: str) -> str:\n",
    "    return s[1:]"
   ]
  },
  {
   "cell_type": "code",
   "execution_count": 228,
   "metadata": {
    "execution": {
     "iopub.execute_input": "2025-01-07T11:06:32.479903Z",
     "iopub.status.busy": "2025-01-07T11:06:32.479832Z",
     "iopub.status.idle": "2025-01-07T11:06:32.481786Z",
     "shell.execute_reply": "2025-01-07T11:06:32.481580Z"
    },
    "slideshow": {
     "slide_type": "fragment"
    }
   },
   "outputs": [
    {
     "data": {
      "text/plain": [
       "'bc'"
      ]
     },
     "execution_count": 228,
     "metadata": {},
     "output_type": "execute_result"
    }
   ],
   "source": [
    "remove_first_char('abc')"
   ]
  },
  {
   "cell_type": "code",
   "execution_count": 229,
   "metadata": {
    "execution": {
     "iopub.execute_input": "2025-01-07T11:06:32.482908Z",
     "iopub.status.busy": "2025-01-07T11:06:32.482831Z",
     "iopub.status.idle": "2025-01-07T11:06:32.484635Z",
     "shell.execute_reply": "2025-01-07T11:06:32.484417Z"
    },
    "slideshow": {
     "slide_type": "subslide"
    }
   },
   "outputs": [
    {
     "name": "stderr",
     "output_type": "stream",
     "text": [
      "Traceback (most recent call last):\n",
      "  File \"/var/folders/n2/xd9445p97rb3xh7m1dfx8_4h0006ts/T/ipykernel_21001/2212034949.py\", line 2, in <module>\n",
      "    remove_first_char('')\n",
      "  File \"/var/folders/n2/xd9445p97rb3xh7m1dfx8_4h0006ts/T/ipykernel_21001/706783034.py\", line 9, in wrapper\n",
      "    assert precondition(*args, **kwargs), \\\n",
      "           ^^^^^^^^^^^^^^^^^^^^^^^^^^^^^\n",
      "AssertionError: Precondition violated: len(s) > 0 (expected)\n"
     ]
    }
   ],
   "source": [
    "with ExpectError():\n",
    "    remove_first_char('')"
   ]
  },
  {
   "cell_type": "markdown",
   "metadata": {
    "slideshow": {
     "slide_type": "fragment"
    },
    "solution2": "hidden",
    "solution2_first": true
   },
   "source": [
    "Extend `InvariantAnnotator` into a `VerboseInvariantAnnotator` class that includes the conditions in the generated pre- and postconditions."
   ]
  },
  {
   "cell_type": "markdown",
   "metadata": {
    "slideshow": {
     "slide_type": "skip"
    },
    "solution2": "hidden"
   },
   "source": [
    "**Solution.** Here's a simple solution:"
   ]
  },
  {
   "cell_type": "code",
   "execution_count": 230,
   "metadata": {
    "execution": {
     "iopub.execute_input": "2025-01-07T11:06:32.485819Z",
     "iopub.status.busy": "2025-01-07T11:06:32.485741Z",
     "iopub.status.idle": "2025-01-07T11:06:32.487825Z",
     "shell.execute_reply": "2025-01-07T11:06:32.487623Z"
    },
    "slideshow": {
     "slide_type": "skip"
    },
    "solution2": "hidden"
   },
   "outputs": [],
   "source": [
    "class VerboseInvariantAnnotator(InvariantAnnotator):\n",
    "    def preconditions(self, function_name: str) -> List[str]:\n",
    "        conditions = []\n",
    "\n",
    "        for inv in pretty_invariants(self.invariants(function_name)):\n",
    "            if inv.find(RETURN_VALUE) >= 0:\n",
    "                continue  # Postcondition\n",
    "\n",
    "            cond = (\"@verbose_precondition(lambda \" +\n",
    "                    self.params(function_name) + \": \" +\n",
    "                    inv + ', doc=' + repr(inv) + \")\")\n",
    "            conditions.append(cond)\n",
    "\n",
    "        return conditions"
   ]
  },
  {
   "cell_type": "code",
   "execution_count": 231,
   "metadata": {
    "execution": {
     "iopub.execute_input": "2025-01-07T11:06:32.488925Z",
     "iopub.status.busy": "2025-01-07T11:06:32.488846Z",
     "iopub.status.idle": "2025-01-07T11:06:32.490914Z",
     "shell.execute_reply": "2025-01-07T11:06:32.490719Z"
    },
    "slideshow": {
     "slide_type": "skip"
    },
    "solution2": "hidden"
   },
   "outputs": [],
   "source": [
    "class VerboseInvariantAnnotator(VerboseInvariantAnnotator):\n",
    "    def postconditions(self, function_name: str) -> List[str]:\n",
    "        conditions = []\n",
    "\n",
    "        for inv in pretty_invariants(self.invariants(function_name)):\n",
    "            if inv.find(RETURN_VALUE) < 0:\n",
    "                continue  # Precondition\n",
    "\n",
    "            cond = (\"@verbose_postcondition(lambda \" +\n",
    "                    RETURN_VALUE + \", \" +\n",
    "                    self.params(function_name) + \": \" +\n",
    "                    inv + ', doc=' + repr(inv) + \")\")\n",
    "            conditions.append(cond)\n",
    "\n",
    "        return conditions"
   ]
  },
  {
   "cell_type": "markdown",
   "metadata": {
    "slideshow": {
     "slide_type": "skip"
    },
    "solution2": "hidden"
   },
   "source": [
    "The resulting annotations are harder to read, but easier to diagnose:"
   ]
  },
  {
   "cell_type": "code",
   "execution_count": 232,
   "metadata": {
    "execution": {
     "iopub.execute_input": "2025-01-07T11:06:32.492066Z",
     "iopub.status.busy": "2025-01-07T11:06:32.491988Z",
     "iopub.status.idle": "2025-01-07T11:06:32.516239Z",
     "shell.execute_reply": "2025-01-07T11:06:32.516014Z"
    },
    "slideshow": {
     "slide_type": "skip"
    },
    "solution2": "hidden"
   },
   "outputs": [
    {
     "name": "stdout",
     "output_type": "stream",
     "text": [
      "\u001b[90m@verbose_precondition\u001b[39;49;00m(\u001b[34mlambda\u001b[39;49;00m a, b: a, doc=\u001b[33m'\u001b[39;49;00m\u001b[33ma\u001b[39;49;00m\u001b[33m'\u001b[39;49;00m)\u001b[37m\u001b[39;49;00m\n",
      "\u001b[90m@verbose_precondition\u001b[39;49;00m(\u001b[34mlambda\u001b[39;49;00m a, b: a <= b, doc=\u001b[33m'\u001b[39;49;00m\u001b[33ma <= b\u001b[39;49;00m\u001b[33m'\u001b[39;49;00m)\u001b[37m\u001b[39;49;00m\n",
      "\u001b[90m@verbose_precondition\u001b[39;49;00m(\u001b[34mlambda\u001b[39;49;00m a, b: a == b, doc=\u001b[33m'\u001b[39;49;00m\u001b[33ma == b\u001b[39;49;00m\u001b[33m'\u001b[39;49;00m)\u001b[37m\u001b[39;49;00m\n",
      "\u001b[90m@verbose_precondition\u001b[39;49;00m(\u001b[34mlambda\u001b[39;49;00m a, b: a > \u001b[34m0\u001b[39;49;00m, doc=\u001b[33m'\u001b[39;49;00m\u001b[33ma > 0\u001b[39;49;00m\u001b[33m'\u001b[39;49;00m)\u001b[37m\u001b[39;49;00m\n",
      "\u001b[90m@verbose_precondition\u001b[39;49;00m(\u001b[34mlambda\u001b[39;49;00m a, b: a >= \u001b[34m0\u001b[39;49;00m, doc=\u001b[33m'\u001b[39;49;00m\u001b[33ma >= 0\u001b[39;49;00m\u001b[33m'\u001b[39;49;00m)\u001b[37m\u001b[39;49;00m\n",
      "\u001b[90m@verbose_precondition\u001b[39;49;00m(\u001b[34mlambda\u001b[39;49;00m a, b: a >= b, doc=\u001b[33m'\u001b[39;49;00m\u001b[33ma >= b\u001b[39;49;00m\u001b[33m'\u001b[39;49;00m)\u001b[37m\u001b[39;49;00m\n",
      "\u001b[90m@verbose_precondition\u001b[39;49;00m(\u001b[34mlambda\u001b[39;49;00m a, b: b, doc=\u001b[33m'\u001b[39;49;00m\u001b[33mb\u001b[39;49;00m\u001b[33m'\u001b[39;49;00m)\u001b[37m\u001b[39;49;00m\n",
      "\u001b[90m@verbose_precondition\u001b[39;49;00m(\u001b[34mlambda\u001b[39;49;00m a, b: b <= a, doc=\u001b[33m'\u001b[39;49;00m\u001b[33mb <= a\u001b[39;49;00m\u001b[33m'\u001b[39;49;00m)\u001b[37m\u001b[39;49;00m\n",
      "\u001b[90m@verbose_precondition\u001b[39;49;00m(\u001b[34mlambda\u001b[39;49;00m a, b: b == a, doc=\u001b[33m'\u001b[39;49;00m\u001b[33mb == a\u001b[39;49;00m\u001b[33m'\u001b[39;49;00m)\u001b[37m\u001b[39;49;00m\n",
      "\u001b[90m@verbose_precondition\u001b[39;49;00m(\u001b[34mlambda\u001b[39;49;00m a, b: b > \u001b[34m0\u001b[39;49;00m, doc=\u001b[33m'\u001b[39;49;00m\u001b[33mb > 0\u001b[39;49;00m\u001b[33m'\u001b[39;49;00m)\u001b[37m\u001b[39;49;00m\n",
      "\u001b[90m@verbose_precondition\u001b[39;49;00m(\u001b[34mlambda\u001b[39;49;00m a, b: b >= \u001b[34m0\u001b[39;49;00m, doc=\u001b[33m'\u001b[39;49;00m\u001b[33mb >= 0\u001b[39;49;00m\u001b[33m'\u001b[39;49;00m)\u001b[37m\u001b[39;49;00m\n",
      "\u001b[90m@verbose_precondition\u001b[39;49;00m(\u001b[34mlambda\u001b[39;49;00m a, b: b >= a, doc=\u001b[33m'\u001b[39;49;00m\u001b[33mb >= a\u001b[39;49;00m\u001b[33m'\u001b[39;49;00m)\u001b[37m\u001b[39;49;00m\n",
      "\u001b[90m@verbose_precondition\u001b[39;49;00m(\u001b[34mlambda\u001b[39;49;00m a, b: \u001b[36misinstance\u001b[39;49;00m(a, \u001b[36mint\u001b[39;49;00m), doc=\u001b[33m'\u001b[39;49;00m\u001b[33misinstance(a, int)\u001b[39;49;00m\u001b[33m'\u001b[39;49;00m)\u001b[37m\u001b[39;49;00m\n",
      "\u001b[90m@verbose_precondition\u001b[39;49;00m(\u001b[34mlambda\u001b[39;49;00m a, b: \u001b[36misinstance\u001b[39;49;00m(b, \u001b[36mint\u001b[39;49;00m), doc=\u001b[33m'\u001b[39;49;00m\u001b[33misinstance(b, int)\u001b[39;49;00m\u001b[33m'\u001b[39;49;00m)\u001b[37m\u001b[39;49;00m\n",
      "\u001b[90m@verbose_postcondition\u001b[39;49;00m(\u001b[34mlambda\u001b[39;49;00m return_value, a, b: a < return_value, doc=\u001b[33m'\u001b[39;49;00m\u001b[33ma < return_value\u001b[39;49;00m\u001b[33m'\u001b[39;49;00m)\u001b[37m\u001b[39;49;00m\n",
      "\u001b[90m@verbose_postcondition\u001b[39;49;00m(\u001b[34mlambda\u001b[39;49;00m return_value, a, b: a <= b <= return_value, doc=\u001b[33m'\u001b[39;49;00m\u001b[33ma <= b <= return_value\u001b[39;49;00m\u001b[33m'\u001b[39;49;00m)\u001b[37m\u001b[39;49;00m\n",
      "\u001b[90m@verbose_postcondition\u001b[39;49;00m(\u001b[34mlambda\u001b[39;49;00m return_value, a, b: a <= return_value, doc=\u001b[33m'\u001b[39;49;00m\u001b[33ma <= return_value\u001b[39;49;00m\u001b[33m'\u001b[39;49;00m)\u001b[37m\u001b[39;49;00m\n",
      "\u001b[90m@verbose_postcondition\u001b[39;49;00m(\u001b[34mlambda\u001b[39;49;00m return_value, a, b: a == return_value - b, doc=\u001b[33m'\u001b[39;49;00m\u001b[33ma == return_value - b\u001b[39;49;00m\u001b[33m'\u001b[39;49;00m)\u001b[37m\u001b[39;49;00m\n",
      "\u001b[90m@verbose_postcondition\u001b[39;49;00m(\u001b[34mlambda\u001b[39;49;00m return_value, a, b: a == return_value / b, doc=\u001b[33m'\u001b[39;49;00m\u001b[33ma == return_value / b\u001b[39;49;00m\u001b[33m'\u001b[39;49;00m)\u001b[37m\u001b[39;49;00m\n",
      "\u001b[90m@verbose_postcondition\u001b[39;49;00m(\u001b[34mlambda\u001b[39;49;00m return_value, a, b: b < return_value, doc=\u001b[33m'\u001b[39;49;00m\u001b[33mb < return_value\u001b[39;49;00m\u001b[33m'\u001b[39;49;00m)\u001b[37m\u001b[39;49;00m\n",
      "\u001b[90m@verbose_postcondition\u001b[39;49;00m(\u001b[34mlambda\u001b[39;49;00m return_value, a, b: b <= a <= return_value, doc=\u001b[33m'\u001b[39;49;00m\u001b[33mb <= a <= return_value\u001b[39;49;00m\u001b[33m'\u001b[39;49;00m)\u001b[37m\u001b[39;49;00m\n",
      "\u001b[90m@verbose_postcondition\u001b[39;49;00m(\u001b[34mlambda\u001b[39;49;00m return_value, a, b: b <= return_value, doc=\u001b[33m'\u001b[39;49;00m\u001b[33mb <= return_value\u001b[39;49;00m\u001b[33m'\u001b[39;49;00m)\u001b[37m\u001b[39;49;00m\n",
      "\u001b[90m@verbose_postcondition\u001b[39;49;00m(\u001b[34mlambda\u001b[39;49;00m return_value, a, b: b == return_value - a, doc=\u001b[33m'\u001b[39;49;00m\u001b[33mb == return_value - a\u001b[39;49;00m\u001b[33m'\u001b[39;49;00m)\u001b[37m\u001b[39;49;00m\n",
      "\u001b[90m@verbose_postcondition\u001b[39;49;00m(\u001b[34mlambda\u001b[39;49;00m return_value, a, b: b == return_value / a, doc=\u001b[33m'\u001b[39;49;00m\u001b[33mb == return_value / a\u001b[39;49;00m\u001b[33m'\u001b[39;49;00m)\u001b[37m\u001b[39;49;00m\n",
      "\u001b[90m@verbose_postcondition\u001b[39;49;00m(\u001b[34mlambda\u001b[39;49;00m return_value, a, b: \u001b[36misinstance\u001b[39;49;00m(return_value, \u001b[36mint\u001b[39;49;00m), doc=\u001b[33m'\u001b[39;49;00m\u001b[33misinstance(return_value, int)\u001b[39;49;00m\u001b[33m'\u001b[39;49;00m)\u001b[37m\u001b[39;49;00m\n",
      "\u001b[90m@verbose_postcondition\u001b[39;49;00m(\u001b[34mlambda\u001b[39;49;00m return_value, a, b: return_value, doc=\u001b[33m'\u001b[39;49;00m\u001b[33mreturn_value\u001b[39;49;00m\u001b[33m'\u001b[39;49;00m)\u001b[37m\u001b[39;49;00m\n",
      "\u001b[90m@verbose_postcondition\u001b[39;49;00m(\u001b[34mlambda\u001b[39;49;00m return_value, a, b: return_value == a * b, doc=\u001b[33m'\u001b[39;49;00m\u001b[33mreturn_value == a * b\u001b[39;49;00m\u001b[33m'\u001b[39;49;00m)\u001b[37m\u001b[39;49;00m\n",
      "\u001b[90m@verbose_postcondition\u001b[39;49;00m(\u001b[34mlambda\u001b[39;49;00m return_value, a, b: return_value == a + b, doc=\u001b[33m'\u001b[39;49;00m\u001b[33mreturn_value == a + b\u001b[39;49;00m\u001b[33m'\u001b[39;49;00m)\u001b[37m\u001b[39;49;00m\n",
      "\u001b[90m@verbose_postcondition\u001b[39;49;00m(\u001b[34mlambda\u001b[39;49;00m return_value, a, b: return_value == b * a, doc=\u001b[33m'\u001b[39;49;00m\u001b[33mreturn_value == b * a\u001b[39;49;00m\u001b[33m'\u001b[39;49;00m)\u001b[37m\u001b[39;49;00m\n",
      "\u001b[90m@verbose_postcondition\u001b[39;49;00m(\u001b[34mlambda\u001b[39;49;00m return_value, a, b: return_value == b + a, doc=\u001b[33m'\u001b[39;49;00m\u001b[33mreturn_value == b + a\u001b[39;49;00m\u001b[33m'\u001b[39;49;00m)\u001b[37m\u001b[39;49;00m\n",
      "\u001b[90m@verbose_postcondition\u001b[39;49;00m(\u001b[34mlambda\u001b[39;49;00m return_value, a, b: return_value > \u001b[34m0\u001b[39;49;00m, doc=\u001b[33m'\u001b[39;49;00m\u001b[33mreturn_value > 0\u001b[39;49;00m\u001b[33m'\u001b[39;49;00m)\u001b[37m\u001b[39;49;00m\n",
      "\u001b[90m@verbose_postcondition\u001b[39;49;00m(\u001b[34mlambda\u001b[39;49;00m return_value, a, b: return_value > a, doc=\u001b[33m'\u001b[39;49;00m\u001b[33mreturn_value > a\u001b[39;49;00m\u001b[33m'\u001b[39;49;00m)\u001b[37m\u001b[39;49;00m\n",
      "\u001b[90m@verbose_postcondition\u001b[39;49;00m(\u001b[34mlambda\u001b[39;49;00m return_value, a, b: return_value > b, doc=\u001b[33m'\u001b[39;49;00m\u001b[33mreturn_value > b\u001b[39;49;00m\u001b[33m'\u001b[39;49;00m)\u001b[37m\u001b[39;49;00m\n",
      "\u001b[90m@verbose_postcondition\u001b[39;49;00m(\u001b[34mlambda\u001b[39;49;00m return_value, a, b: return_value >= \u001b[34m0\u001b[39;49;00m, doc=\u001b[33m'\u001b[39;49;00m\u001b[33mreturn_value >= 0\u001b[39;49;00m\u001b[33m'\u001b[39;49;00m)\u001b[37m\u001b[39;49;00m\n",
      "\u001b[90m@verbose_postcondition\u001b[39;49;00m(\u001b[34mlambda\u001b[39;49;00m return_value, a, b: return_value >= a, doc=\u001b[33m'\u001b[39;49;00m\u001b[33mreturn_value >= a\u001b[39;49;00m\u001b[33m'\u001b[39;49;00m)\u001b[37m\u001b[39;49;00m\n",
      "\u001b[90m@verbose_postcondition\u001b[39;49;00m(\u001b[34mlambda\u001b[39;49;00m return_value, a, b: return_value >= a >= b, doc=\u001b[33m'\u001b[39;49;00m\u001b[33mreturn_value >= a >= b\u001b[39;49;00m\u001b[33m'\u001b[39;49;00m)\u001b[37m\u001b[39;49;00m\n",
      "\u001b[90m@verbose_postcondition\u001b[39;49;00m(\u001b[34mlambda\u001b[39;49;00m return_value, a, b: return_value >= b, doc=\u001b[33m'\u001b[39;49;00m\u001b[33mreturn_value >= b\u001b[39;49;00m\u001b[33m'\u001b[39;49;00m)\u001b[37m\u001b[39;49;00m\n",
      "\u001b[90m@verbose_postcondition\u001b[39;49;00m(\u001b[34mlambda\u001b[39;49;00m return_value, a, b: return_value >= b >= a, doc=\u001b[33m'\u001b[39;49;00m\u001b[33mreturn_value >= b >= a\u001b[39;49;00m\u001b[33m'\u001b[39;49;00m)\u001b[37m\u001b[39;49;00m\n",
      "\u001b[34mdef\u001b[39;49;00m \u001b[32msum2\u001b[39;49;00m(a, b):  \u001b[37m# type: ignore\u001b[39;49;00m\u001b[37m\u001b[39;49;00m\n",
      "    \u001b[34mreturn\u001b[39;49;00m a + b\u001b[37m\u001b[39;49;00m"
     ]
    }
   ],
   "source": [
    "with VerboseInvariantAnnotator() as annotator:\n",
    "    y = sum2(2, 2)\n",
    "print_content(annotator.functions_with_invariants(), '.py')"
   ]
  },
  {
   "cell_type": "markdown",
   "metadata": {
    "slideshow": {
     "slide_type": "skip"
    },
    "solution2": "hidden"
   },
   "source": [
    "As an alternative, one may be able to use `inspect.getsource()` on the lambda expression or unparse it.  This is left to the reader."
   ]
  },
  {
   "attachments": {},
   "cell_type": "markdown",
   "metadata": {
    "slideshow": {
     "slide_type": "subslide"
    },
    "solution2": "hidden",
    "solution2_first": true
   },
   "source": [
    "### Exercise 4: Save Initial Values\n",
    "\n",
    "If the value of an argument changes during function execution, this can easily confuse our implementation: The values are tracked at the beginning of the function, but checked only when it returns.  Extend the `InvariantAnnotator` and the infrastructure it uses such that\n",
    "\n",
    "* it saves argument values both at the beginning and at the end of a function invocation;\n",
    "* postconditions can be expressed over both _initial_ values of arguments and the _final_ values of arguments;\n",
    "* the mined postconditions refer to both these values as well."
   ]
  },
  {
   "cell_type": "markdown",
   "metadata": {
    "button": false,
    "new_sheet": true,
    "run_control": {
     "read_only": false
    },
    "slideshow": {
     "slide_type": "skip"
    },
    "solution2": "hidden"
   },
   "source": [
    "**Solution.** To be added."
   ]
  },
  {
   "cell_type": "markdown",
   "metadata": {
    "slideshow": {
     "slide_type": "subslide"
    },
    "solution2": "hidden",
    "solution2_first": true
   },
   "source": [
    "### Exercise 5: Implications\n",
    "\n",
    "Several mined invariant are actually _implied_ by others: If `x > 0` holds, then this implies `x >= 0` and `x != 0`.  Extend the `InvariantAnnotator` such that implications between properties are explicitly encoded, and such that implied properties are no longer listed as invariants.  See \\cite{Ernst2001} for ideas."
   ]
  },
  {
   "cell_type": "markdown",
   "metadata": {
    "slideshow": {
     "slide_type": "skip"
    },
    "solution2": "hidden"
   },
   "source": [
    "**Solution.** Left to the reader."
   ]
  },
  {
   "cell_type": "markdown",
   "metadata": {
    "slideshow": {
     "slide_type": "subslide"
    },
    "solution2": "hidden",
    "solution2_first": true
   },
   "source": [
    "### Exercise 6: Local Variables\n",
    "\n",
    "Postconditions may also refer to the values of local variables.  Consider extending `InvariantAnnotator` and its infrastructure such that the values of local variables at the end of the execution are also recorded and made part of the invariant inference mechanism."
   ]
  },
  {
   "cell_type": "markdown",
   "metadata": {
    "slideshow": {
     "slide_type": "skip"
    },
    "solution2": "hidden"
   },
   "source": [
    "**Solution.** Left to the reader."
   ]
  },
  {
   "cell_type": "markdown",
   "metadata": {
    "button": false,
    "new_sheet": false,
    "run_control": {
     "read_only": false
    },
    "slideshow": {
     "slide_type": "subslide"
    },
    "solution": "hidden",
    "solution2": "hidden",
    "solution2_first": true,
    "solution_first": true
   },
   "source": [
    "### Exercise 7: Embedding Invariants as Assertions\n",
    "\n",
    "Rather than producing invariants as annotations for pre- and postconditions, insert them as `assert` statements into the function code, as in:\n",
    "\n",
    "```python\n",
    "def square_root(x):\n",
    "    'Computes the square root of x, using the Newton-Raphson method'\n",
    "    assert isinstance(x, int), 'violated precondition'\n",
    "    assert x > 0, 'violated precondition'\n",
    "    approx = None\n",
    "    guess = (x / 2)\n",
    "    while (approx != guess):\n",
    "        approx = guess\n",
    "        guess = ((approx + (x / approx)) / 2)\n",
    "    return_value = approx\n",
    "    assert return_value < x, 'violated postcondition'\n",
    "    assert isinstance(return_value, float), 'violated postcondition'\n",
    "    return approx\n",
    "```\n",
    "\n",
    "Such a formulation may make it easier for test generators and symbolic analysis to access and interpret pre- and postconditions."
   ]
  },
  {
   "cell_type": "markdown",
   "metadata": {
    "button": false,
    "new_sheet": false,
    "run_control": {
     "read_only": false
    },
    "slideshow": {
     "slide_type": "skip"
    },
    "solution": "hidden",
    "solution2": "hidden"
   },
   "source": [
    "**Solution.** Here is a tentative implementation that inserts invariants into function ASTs."
   ]
  },
  {
   "cell_type": "markdown",
   "metadata": {
    "slideshow": {
     "slide_type": "skip"
    },
    "solution2": "hidden"
   },
   "source": [
    "Part 1: Embedding Invariants into Functions"
   ]
  },
  {
   "cell_type": "code",
   "execution_count": 233,
   "metadata": {
    "execution": {
     "iopub.execute_input": "2025-01-07T11:06:32.518391Z",
     "iopub.status.busy": "2025-01-07T11:06:32.518271Z",
     "iopub.status.idle": "2025-01-07T11:06:32.520471Z",
     "shell.execute_reply": "2025-01-07T11:06:32.520219Z"
    },
    "slideshow": {
     "slide_type": "skip"
    },
    "solution2": "hidden"
   },
   "outputs": [],
   "source": [
    "class EmbeddedInvariantAnnotator(InvariantTracer):\n",
    "    def function_with_invariants_ast(self, function_name: str) -> ast.AST:\n",
    "        return annotate_function_with_invariants(function_name, self.invariants(function_name))\n",
    "\n",
    "    def function_with_invariants(self, function_name: str) -> str:\n",
    "        return ast.unparse(self.function_with_invariants_ast(function_name))"
   ]
  },
  {
   "cell_type": "code",
   "execution_count": 234,
   "metadata": {
    "execution": {
     "iopub.execute_input": "2025-01-07T11:06:32.521714Z",
     "iopub.status.busy": "2025-01-07T11:06:32.521601Z",
     "iopub.status.idle": "2025-01-07T11:06:32.523620Z",
     "shell.execute_reply": "2025-01-07T11:06:32.523366Z"
    },
    "slideshow": {
     "slide_type": "skip"
    },
    "solution2": "hidden"
   },
   "outputs": [],
   "source": [
    "def annotate_invariants(invariants: Dict[str, Invariants]) -> Dict[str, ast.AST]:\n",
    "    annotated_functions = {}\n",
    "\n",
    "    for function_name in invariants:\n",
    "        try:\n",
    "            annotated_functions[function_name] = annotate_function_with_invariants(function_name, invariants[function_name])\n",
    "        except KeyError:\n",
    "            continue\n",
    "\n",
    "    return annotated_functions"
   ]
  },
  {
   "cell_type": "code",
   "execution_count": 235,
   "metadata": {
    "execution": {
     "iopub.execute_input": "2025-01-07T11:06:32.525152Z",
     "iopub.status.busy": "2025-01-07T11:06:32.525041Z",
     "iopub.status.idle": "2025-01-07T11:06:32.527028Z",
     "shell.execute_reply": "2025-01-07T11:06:32.526797Z"
    },
    "slideshow": {
     "slide_type": "skip"
    },
    "solution2": "hidden"
   },
   "outputs": [],
   "source": [
    "def annotate_function_with_invariants(function_name: str, \n",
    "                                      function_invariants: Invariants) -> ast.AST:\n",
    "    stack_inspector = StackInspector()\n",
    "    function = stack_inspector.search_func(function_name)\n",
    "    if function is None:\n",
    "        raise KeyError\n",
    "\n",
    "    function_code = inspect.getsource(function)\n",
    "    function_ast = ast.parse(function_code)\n",
    "    return annotate_function_ast_with_invariants(function_ast, function_invariants)"
   ]
  },
  {
   "cell_type": "code",
   "execution_count": 236,
   "metadata": {
    "execution": {
     "iopub.execute_input": "2025-01-07T11:06:32.528223Z",
     "iopub.status.busy": "2025-01-07T11:06:32.528126Z",
     "iopub.status.idle": "2025-01-07T11:06:32.529789Z",
     "shell.execute_reply": "2025-01-07T11:06:32.529571Z"
    },
    "slideshow": {
     "slide_type": "skip"
    },
    "solution2": "hidden"
   },
   "outputs": [],
   "source": [
    "def annotate_function_ast_with_invariants(function_ast: ast.AST,\n",
    "                                          function_invariants: Invariants) -> ast.AST:\n",
    "    annotated_function_ast = EmbeddedInvariantTransformer(function_invariants).visit(function_ast)\n",
    "    return annotated_function_ast"
   ]
  },
  {
   "cell_type": "markdown",
   "metadata": {
    "slideshow": {
     "slide_type": "skip"
    },
    "solution2": "hidden"
   },
   "source": [
    "Part 2: Preconditions"
   ]
  },
  {
   "cell_type": "code",
   "execution_count": 237,
   "metadata": {
    "execution": {
     "iopub.execute_input": "2025-01-07T11:06:32.531029Z",
     "iopub.status.busy": "2025-01-07T11:06:32.530950Z",
     "iopub.status.idle": "2025-01-07T11:06:32.533944Z",
     "shell.execute_reply": "2025-01-07T11:06:32.533711Z"
    },
    "slideshow": {
     "slide_type": "skip"
    },
    "solution2": "hidden"
   },
   "outputs": [],
   "source": [
    "class PreconditionTransformer(ast.NodeTransformer):\n",
    "    def __init__(self, invariants: Invariants) -> None:\n",
    "        self.invariants = invariants\n",
    "        super().__init__()\n",
    "\n",
    "    def preconditions(self) -> List[ast.stmt]:\n",
    "        preconditions = []\n",
    "        for (prop, var_names) in self.invariants:\n",
    "            assertion = \"assert \" + instantiate_prop(prop, var_names) + ', \"violated precondition\"'\n",
    "            assertion_ast = ast.parse(assertion)\n",
    "\n",
    "            if assertion.find(RETURN_VALUE) < 0:\n",
    "                preconditions += assertion_ast.body\n",
    "\n",
    "        return preconditions\n",
    "\n",
    "    def insert_assertions(self, body: List[ast.stmt]) -> List[ast.stmt]:\n",
    "        preconditions = self.preconditions()\n",
    "        try:\n",
    "            docstring = cast(ast.Constant, body[0]).value.s\n",
    "        except:\n",
    "            docstring = None\n",
    "\n",
    "        if docstring:\n",
    "            return [body[0]] + preconditions + body[1:]\n",
    "        else:\n",
    "            return preconditions + body\n",
    "\n",
    "    def visit_FunctionDef(self, node: ast.FunctionDef) -> ast.FunctionDef:\n",
    "        \"\"\"Add invariants to function\"\"\"\n",
    "        # print(ast.dump(node))\n",
    "        node.body = self.insert_assertions(node.body)\n",
    "        return node    "
   ]
  },
  {
   "cell_type": "code",
   "execution_count": 238,
   "metadata": {
    "execution": {
     "iopub.execute_input": "2025-01-07T11:06:32.535333Z",
     "iopub.status.busy": "2025-01-07T11:06:32.535186Z",
     "iopub.status.idle": "2025-01-07T11:06:32.537131Z",
     "shell.execute_reply": "2025-01-07T11:06:32.536790Z"
    },
    "slideshow": {
     "slide_type": "skip"
    },
    "solution2": "hidden"
   },
   "outputs": [],
   "source": [
    "class EmbeddedInvariantTransformer(PreconditionTransformer):\n",
    "    pass"
   ]
  },
  {
   "cell_type": "code",
   "execution_count": 239,
   "metadata": {
    "execution": {
     "iopub.execute_input": "2025-01-07T11:06:32.538483Z",
     "iopub.status.busy": "2025-01-07T11:06:32.538395Z",
     "iopub.status.idle": "2025-01-07T11:06:32.540491Z",
     "shell.execute_reply": "2025-01-07T11:06:32.540254Z"
    },
    "slideshow": {
     "slide_type": "skip"
    },
    "solution2": "hidden"
   },
   "outputs": [],
   "source": [
    "with EmbeddedInvariantAnnotator() as annotator:\n",
    "    square_root(5)"
   ]
  },
  {
   "cell_type": "code",
   "execution_count": 240,
   "metadata": {
    "execution": {
     "iopub.execute_input": "2025-01-07T11:06:32.541821Z",
     "iopub.status.busy": "2025-01-07T11:06:32.541740Z",
     "iopub.status.idle": "2025-01-07T11:06:32.556164Z",
     "shell.execute_reply": "2025-01-07T11:06:32.555856Z"
    },
    "slideshow": {
     "slide_type": "skip"
    },
    "solution2": "hidden"
   },
   "outputs": [
    {
     "name": "stdout",
     "output_type": "stream",
     "text": [
      "\u001b[34mdef\u001b[39;49;00m \u001b[32msquare_root\u001b[39;49;00m(x):\u001b[37m\u001b[39;49;00m\n",
      "\u001b[37m    \u001b[39;49;00m\u001b[33m\"\"\"Computes the square root of x, using the Newton-Raphson method\"\"\"\u001b[39;49;00m\u001b[37m\u001b[39;49;00m\n",
      "    \u001b[34massert\u001b[39;49;00m x > \u001b[34m0\u001b[39;49;00m, \u001b[33m'\u001b[39;49;00m\u001b[33mviolated precondition\u001b[39;49;00m\u001b[33m'\u001b[39;49;00m\u001b[37m\u001b[39;49;00m\n",
      "    \u001b[34massert\u001b[39;49;00m \u001b[36misinstance\u001b[39;49;00m(x, \u001b[36mint\u001b[39;49;00m), \u001b[33m'\u001b[39;49;00m\u001b[33mviolated precondition\u001b[39;49;00m\u001b[33m'\u001b[39;49;00m\u001b[37m\u001b[39;49;00m\n",
      "    \u001b[34massert\u001b[39;49;00m x, \u001b[33m'\u001b[39;49;00m\u001b[33mviolated precondition\u001b[39;49;00m\u001b[33m'\u001b[39;49;00m\u001b[37m\u001b[39;49;00m\n",
      "    \u001b[34massert\u001b[39;49;00m x >= \u001b[34m0\u001b[39;49;00m, \u001b[33m'\u001b[39;49;00m\u001b[33mviolated precondition\u001b[39;49;00m\u001b[33m'\u001b[39;49;00m\u001b[37m\u001b[39;49;00m\n",
      "    approx = \u001b[34mNone\u001b[39;49;00m\u001b[37m\u001b[39;49;00m\n",
      "    guess = x / \u001b[34m2\u001b[39;49;00m\u001b[37m\u001b[39;49;00m\n",
      "    \u001b[34mwhile\u001b[39;49;00m approx != guess:\u001b[37m\u001b[39;49;00m\n",
      "        approx = guess\u001b[37m\u001b[39;49;00m\n",
      "        guess = (approx + x / approx) / \u001b[34m2\u001b[39;49;00m\u001b[37m\u001b[39;49;00m\n",
      "    \u001b[34mreturn\u001b[39;49;00m approx\u001b[37m\u001b[39;49;00m"
     ]
    },
    {
     "name": "stderr",
     "output_type": "stream",
     "text": [
      "/var/folders/n2/xd9445p97rb3xh7m1dfx8_4h0006ts/T/ipykernel_21001/1454548230.py:20: DeprecationWarning: Attribute s is deprecated and will be removed in Python 3.14; use value instead\n",
      "  docstring = cast(ast.Constant, body[0]).value.s\n"
     ]
    }
   ],
   "source": [
    "print_content(annotator.function_with_invariants('square_root'), '.py')"
   ]
  },
  {
   "cell_type": "code",
   "execution_count": 241,
   "metadata": {
    "execution": {
     "iopub.execute_input": "2025-01-07T11:06:32.557554Z",
     "iopub.status.busy": "2025-01-07T11:06:32.557464Z",
     "iopub.status.idle": "2025-01-07T11:06:32.559632Z",
     "shell.execute_reply": "2025-01-07T11:06:32.559395Z"
    },
    "slideshow": {
     "slide_type": "skip"
    },
    "solution2": "hidden"
   },
   "outputs": [],
   "source": [
    "with EmbeddedInvariantAnnotator() as annotator:\n",
    "    y = sum3(3, 4, 5)\n",
    "    y = sum3(-3, -4, -5)\n",
    "    y = sum3(0, 0, 0)"
   ]
  },
  {
   "cell_type": "code",
   "execution_count": 242,
   "metadata": {
    "execution": {
     "iopub.execute_input": "2025-01-07T11:06:32.560787Z",
     "iopub.status.busy": "2025-01-07T11:06:32.560707Z",
     "iopub.status.idle": "2025-01-07T11:06:32.576489Z",
     "shell.execute_reply": "2025-01-07T11:06:32.576223Z"
    },
    "slideshow": {
     "slide_type": "skip"
    },
    "solution2": "hidden"
   },
   "outputs": [
    {
     "name": "stdout",
     "output_type": "stream",
     "text": [
      "\u001b[34mdef\u001b[39;49;00m \u001b[32msum3\u001b[39;49;00m(a, b, c):\u001b[37m\u001b[39;49;00m\n",
      "    \u001b[34massert\u001b[39;49;00m \u001b[36misinstance\u001b[39;49;00m(a, \u001b[36mint\u001b[39;49;00m), \u001b[33m'\u001b[39;49;00m\u001b[33mviolated precondition\u001b[39;49;00m\u001b[33m'\u001b[39;49;00m\u001b[37m\u001b[39;49;00m\n",
      "    \u001b[34massert\u001b[39;49;00m \u001b[36misinstance\u001b[39;49;00m(b, \u001b[36mint\u001b[39;49;00m), \u001b[33m'\u001b[39;49;00m\u001b[33mviolated precondition\u001b[39;49;00m\u001b[33m'\u001b[39;49;00m\u001b[37m\u001b[39;49;00m\n",
      "    \u001b[34massert\u001b[39;49;00m \u001b[36misinstance\u001b[39;49;00m(c, \u001b[36mint\u001b[39;49;00m), \u001b[33m'\u001b[39;49;00m\u001b[33mviolated precondition\u001b[39;49;00m\u001b[33m'\u001b[39;49;00m\u001b[37m\u001b[39;49;00m\n",
      "    \u001b[34mreturn\u001b[39;49;00m a + b + c\u001b[37m\u001b[39;49;00m"
     ]
    }
   ],
   "source": [
    "print_content(annotator.function_with_invariants('sum3'), '.py')"
   ]
  },
  {
   "cell_type": "markdown",
   "metadata": {
    "slideshow": {
     "slide_type": "skip"
    },
    "solution2": "hidden"
   },
   "source": [
    "Part 3: Postconditions\n",
    "\n",
    "We make a few simplifying assumptions: \n",
    "\n",
    "* Variables do not change during execution.\n",
    "* There is a single `return` statement at the end of the function."
   ]
  },
  {
   "cell_type": "code",
   "execution_count": 243,
   "metadata": {
    "execution": {
     "iopub.execute_input": "2025-01-07T11:06:32.577782Z",
     "iopub.status.busy": "2025-01-07T11:06:32.577698Z",
     "iopub.status.idle": "2025-01-07T11:06:32.580658Z",
     "shell.execute_reply": "2025-01-07T11:06:32.580413Z"
    },
    "slideshow": {
     "slide_type": "skip"
    },
    "solution2": "hidden"
   },
   "outputs": [],
   "source": [
    "class EmbeddedInvariantTransformer(EmbeddedInvariantTransformer):\n",
    "    def postconditions(self) -> List[ast.stmt]:\n",
    "        postconditions = []\n",
    "\n",
    "        for (prop, var_names) in self.invariants:\n",
    "            assertion = (\"assert \" + instantiate_prop(prop, var_names) +\n",
    "                         ', \"violated postcondition\"')\n",
    "            assertion_ast = ast.parse(assertion)\n",
    "\n",
    "            if assertion.find(RETURN_VALUE) >= 0:\n",
    "                postconditions += assertion_ast.body\n",
    "\n",
    "        return postconditions\n",
    "\n",
    "    def insert_assertions(self, body: List[ast.stmt]) -> List[ast.stmt]:\n",
    "        new_body = super().insert_assertions(body)\n",
    "        postconditions = self.postconditions()\n",
    "\n",
    "        body_ends_with_return = isinstance(new_body[-1], ast.Return)\n",
    "        if body_ends_with_return:\n",
    "            ret_val = cast(ast.Return, new_body[-1]).value\n",
    "            saver = RETURN_VALUE + \" = \" + ast.unparse(cast(ast.AST, ret_val))\n",
    "        else:\n",
    "            saver = RETURN_VALUE + \" = None\"\n",
    "\n",
    "        saver_ast = cast(ast.stmt, ast.parse(saver))\n",
    "        postconditions = [saver_ast] + postconditions\n",
    "\n",
    "        if body_ends_with_return:\n",
    "            return new_body[:-1] + postconditions + [new_body[-1]]\n",
    "        else:\n",
    "            return new_body + postconditions"
   ]
  },
  {
   "cell_type": "code",
   "execution_count": 244,
   "metadata": {
    "execution": {
     "iopub.execute_input": "2025-01-07T11:06:32.581790Z",
     "iopub.status.busy": "2025-01-07T11:06:32.581711Z",
     "iopub.status.idle": "2025-01-07T11:06:32.583519Z",
     "shell.execute_reply": "2025-01-07T11:06:32.583309Z"
    },
    "slideshow": {
     "slide_type": "skip"
    },
    "solution2": "hidden"
   },
   "outputs": [],
   "source": [
    "with EmbeddedInvariantAnnotator() as annotator:\n",
    "    square_root(5)"
   ]
  },
  {
   "cell_type": "code",
   "execution_count": 245,
   "metadata": {
    "execution": {
     "iopub.execute_input": "2025-01-07T11:06:32.584683Z",
     "iopub.status.busy": "2025-01-07T11:06:32.584605Z",
     "iopub.status.idle": "2025-01-07T11:06:32.589195Z",
     "shell.execute_reply": "2025-01-07T11:06:32.588993Z"
    },
    "slideshow": {
     "slide_type": "skip"
    },
    "solution2": "hidden"
   },
   "outputs": [
    {
     "name": "stderr",
     "output_type": "stream",
     "text": [
      "/var/folders/n2/xd9445p97rb3xh7m1dfx8_4h0006ts/T/ipykernel_21001/1454548230.py:20: DeprecationWarning: Attribute s is deprecated and will be removed in Python 3.14; use value instead\n",
      "  docstring = cast(ast.Constant, body[0]).value.s\n"
     ]
    }
   ],
   "source": [
    "square_root_def = annotator.function_with_invariants('square_root')"
   ]
  },
  {
   "cell_type": "markdown",
   "metadata": {
    "slideshow": {
     "slide_type": "skip"
    },
    "solution2": "hidden"
   },
   "source": [
    "Here's the full definition with included assertions:"
   ]
  },
  {
   "cell_type": "code",
   "execution_count": 246,
   "metadata": {
    "execution": {
     "iopub.execute_input": "2025-01-07T11:06:32.590458Z",
     "iopub.status.busy": "2025-01-07T11:06:32.590370Z",
     "iopub.status.idle": "2025-01-07T11:06:32.601189Z",
     "shell.execute_reply": "2025-01-07T11:06:32.600967Z"
    },
    "slideshow": {
     "slide_type": "skip"
    },
    "solution2": "hidden"
   },
   "outputs": [
    {
     "name": "stdout",
     "output_type": "stream",
     "text": [
      "\u001b[34mdef\u001b[39;49;00m \u001b[32msquare_root\u001b[39;49;00m(x):\u001b[37m\u001b[39;49;00m\n",
      "\u001b[37m    \u001b[39;49;00m\u001b[33m\"\"\"Computes the square root of x, using the Newton-Raphson method\"\"\"\u001b[39;49;00m\u001b[37m\u001b[39;49;00m\n",
      "    \u001b[34massert\u001b[39;49;00m x > \u001b[34m0\u001b[39;49;00m, \u001b[33m'\u001b[39;49;00m\u001b[33mviolated precondition\u001b[39;49;00m\u001b[33m'\u001b[39;49;00m\u001b[37m\u001b[39;49;00m\n",
      "    \u001b[34massert\u001b[39;49;00m \u001b[36misinstance\u001b[39;49;00m(x, \u001b[36mint\u001b[39;49;00m), \u001b[33m'\u001b[39;49;00m\u001b[33mviolated precondition\u001b[39;49;00m\u001b[33m'\u001b[39;49;00m\u001b[37m\u001b[39;49;00m\n",
      "    \u001b[34massert\u001b[39;49;00m x, \u001b[33m'\u001b[39;49;00m\u001b[33mviolated precondition\u001b[39;49;00m\u001b[33m'\u001b[39;49;00m\u001b[37m\u001b[39;49;00m\n",
      "    \u001b[34massert\u001b[39;49;00m x >= \u001b[34m0\u001b[39;49;00m, \u001b[33m'\u001b[39;49;00m\u001b[33mviolated precondition\u001b[39;49;00m\u001b[33m'\u001b[39;49;00m\u001b[37m\u001b[39;49;00m\n",
      "    approx = \u001b[34mNone\u001b[39;49;00m\u001b[37m\u001b[39;49;00m\n",
      "    guess = x / \u001b[34m2\u001b[39;49;00m\u001b[37m\u001b[39;49;00m\n",
      "    \u001b[34mwhile\u001b[39;49;00m approx != guess:\u001b[37m\u001b[39;49;00m\n",
      "        approx = guess\u001b[37m\u001b[39;49;00m\n",
      "        guess = (approx + x / approx) / \u001b[34m2\u001b[39;49;00m\u001b[37m\u001b[39;49;00m\n",
      "    return_value = approx\u001b[37m\u001b[39;49;00m\n",
      "    \u001b[34massert\u001b[39;49;00m return_value > \u001b[34m0\u001b[39;49;00m, \u001b[33m'\u001b[39;49;00m\u001b[33mviolated postcondition\u001b[39;49;00m\u001b[33m'\u001b[39;49;00m\u001b[37m\u001b[39;49;00m\n",
      "    \u001b[34massert\u001b[39;49;00m x >= return_value, \u001b[33m'\u001b[39;49;00m\u001b[33mviolated postcondition\u001b[39;49;00m\u001b[33m'\u001b[39;49;00m\u001b[37m\u001b[39;49;00m\n",
      "    \u001b[34massert\u001b[39;49;00m x > return_value, \u001b[33m'\u001b[39;49;00m\u001b[33mviolated postcondition\u001b[39;49;00m\u001b[33m'\u001b[39;49;00m\u001b[37m\u001b[39;49;00m\n",
      "    \u001b[34massert\u001b[39;49;00m \u001b[36misinstance\u001b[39;49;00m(return_value, \u001b[36mfloat\u001b[39;49;00m), \u001b[33m'\u001b[39;49;00m\u001b[33mviolated postcondition\u001b[39;49;00m\u001b[33m'\u001b[39;49;00m\u001b[37m\u001b[39;49;00m\n",
      "    \u001b[34massert\u001b[39;49;00m return_value < x, \u001b[33m'\u001b[39;49;00m\u001b[33mviolated postcondition\u001b[39;49;00m\u001b[33m'\u001b[39;49;00m\u001b[37m\u001b[39;49;00m\n",
      "    \u001b[34massert\u001b[39;49;00m return_value, \u001b[33m'\u001b[39;49;00m\u001b[33mviolated postcondition\u001b[39;49;00m\u001b[33m'\u001b[39;49;00m\u001b[37m\u001b[39;49;00m\n",
      "    \u001b[34massert\u001b[39;49;00m return_value >= \u001b[34m0\u001b[39;49;00m, \u001b[33m'\u001b[39;49;00m\u001b[33mviolated postcondition\u001b[39;49;00m\u001b[33m'\u001b[39;49;00m\u001b[37m\u001b[39;49;00m\n",
      "    \u001b[34massert\u001b[39;49;00m return_value <= x, \u001b[33m'\u001b[39;49;00m\u001b[33mviolated postcondition\u001b[39;49;00m\u001b[33m'\u001b[39;49;00m\u001b[37m\u001b[39;49;00m\n",
      "    \u001b[34mreturn\u001b[39;49;00m approx\u001b[37m\u001b[39;49;00m"
     ]
    }
   ],
   "source": [
    "print_content(square_root_def, '.py')"
   ]
  },
  {
   "cell_type": "code",
   "execution_count": 247,
   "metadata": {
    "execution": {
     "iopub.execute_input": "2025-01-07T11:06:32.602324Z",
     "iopub.status.busy": "2025-01-07T11:06:32.602246Z",
     "iopub.status.idle": "2025-01-07T11:06:32.603940Z",
     "shell.execute_reply": "2025-01-07T11:06:32.603727Z"
    },
    "slideshow": {
     "slide_type": "skip"
    },
    "solution2": "hidden"
   },
   "outputs": [],
   "source": [
    "exec(square_root_def.replace('square_root', 'square_root_annotated'))"
   ]
  },
  {
   "cell_type": "code",
   "execution_count": 248,
   "metadata": {
    "execution": {
     "iopub.execute_input": "2025-01-07T11:06:32.605135Z",
     "iopub.status.busy": "2025-01-07T11:06:32.605058Z",
     "iopub.status.idle": "2025-01-07T11:06:32.606797Z",
     "shell.execute_reply": "2025-01-07T11:06:32.606572Z"
    },
    "slideshow": {
     "slide_type": "skip"
    },
    "solution2": "hidden"
   },
   "outputs": [
    {
     "name": "stderr",
     "output_type": "stream",
     "text": [
      "Traceback (most recent call last):\n",
      "  File \"/var/folders/n2/xd9445p97rb3xh7m1dfx8_4h0006ts/T/ipykernel_21001/1293367810.py\", line 2, in <module>\n",
      "    square_root_annotated(-1)\n",
      "  File \"<string>\", line 3, in square_root_annotated\n",
      "AssertionError: violated precondition (expected)\n"
     ]
    }
   ],
   "source": [
    "with ExpectError():\n",
    "    square_root_annotated(-1)"
   ]
  },
  {
   "cell_type": "markdown",
   "metadata": {
    "slideshow": {
     "slide_type": "skip"
    },
    "solution2": "hidden"
   },
   "source": [
    "Here come some more examples:"
   ]
  },
  {
   "cell_type": "code",
   "execution_count": 249,
   "metadata": {
    "execution": {
     "iopub.execute_input": "2025-01-07T11:06:32.608002Z",
     "iopub.status.busy": "2025-01-07T11:06:32.607925Z",
     "iopub.status.idle": "2025-01-07T11:06:32.609818Z",
     "shell.execute_reply": "2025-01-07T11:06:32.609573Z"
    },
    "slideshow": {
     "slide_type": "skip"
    },
    "solution2": "hidden"
   },
   "outputs": [],
   "source": [
    "with EmbeddedInvariantAnnotator() as annotator:\n",
    "    y = sum3(3, 4, 5)\n",
    "    y = sum3(-3, -4, -5)\n",
    "    y = sum3(0, 0, 0)"
   ]
  },
  {
   "cell_type": "code",
   "execution_count": 250,
   "metadata": {
    "execution": {
     "iopub.execute_input": "2025-01-07T11:06:32.610923Z",
     "iopub.status.busy": "2025-01-07T11:06:32.610841Z",
     "iopub.status.idle": "2025-01-07T11:06:32.626220Z",
     "shell.execute_reply": "2025-01-07T11:06:32.625995Z"
    },
    "slideshow": {
     "slide_type": "skip"
    },
    "solution2": "hidden"
   },
   "outputs": [
    {
     "name": "stdout",
     "output_type": "stream",
     "text": [
      "\u001b[34mdef\u001b[39;49;00m \u001b[32msum3\u001b[39;49;00m(a, b, c):\u001b[37m\u001b[39;49;00m\n",
      "    \u001b[34massert\u001b[39;49;00m \u001b[36misinstance\u001b[39;49;00m(a, \u001b[36mint\u001b[39;49;00m), \u001b[33m'\u001b[39;49;00m\u001b[33mviolated precondition\u001b[39;49;00m\u001b[33m'\u001b[39;49;00m\u001b[37m\u001b[39;49;00m\n",
      "    \u001b[34massert\u001b[39;49;00m \u001b[36misinstance\u001b[39;49;00m(b, \u001b[36mint\u001b[39;49;00m), \u001b[33m'\u001b[39;49;00m\u001b[33mviolated precondition\u001b[39;49;00m\u001b[33m'\u001b[39;49;00m\u001b[37m\u001b[39;49;00m\n",
      "    \u001b[34massert\u001b[39;49;00m \u001b[36misinstance\u001b[39;49;00m(c, \u001b[36mint\u001b[39;49;00m), \u001b[33m'\u001b[39;49;00m\u001b[33mviolated precondition\u001b[39;49;00m\u001b[33m'\u001b[39;49;00m\u001b[37m\u001b[39;49;00m\n",
      "    return_value = a + b + c\u001b[37m\u001b[39;49;00m\n",
      "    \u001b[34massert\u001b[39;49;00m \u001b[36misinstance\u001b[39;49;00m(return_value, \u001b[36mint\u001b[39;49;00m), \u001b[33m'\u001b[39;49;00m\u001b[33mviolated postcondition\u001b[39;49;00m\u001b[33m'\u001b[39;49;00m\u001b[37m\u001b[39;49;00m\n",
      "    \u001b[34mreturn\u001b[39;49;00m a + b + c\u001b[37m\u001b[39;49;00m"
     ]
    }
   ],
   "source": [
    "print_content(annotator.function_with_invariants('sum3'), '.py')"
   ]
  },
  {
   "cell_type": "code",
   "execution_count": 251,
   "metadata": {
    "execution": {
     "iopub.execute_input": "2025-01-07T11:06:32.627369Z",
     "iopub.status.busy": "2025-01-07T11:06:32.627292Z",
     "iopub.status.idle": "2025-01-07T11:06:32.644059Z",
     "shell.execute_reply": "2025-01-07T11:06:32.643839Z"
    },
    "slideshow": {
     "slide_type": "skip"
    },
    "solution2": "hidden"
   },
   "outputs": [
    {
     "name": "stdout",
     "output_type": "stream",
     "text": [
      "\u001b[34mdef\u001b[39;49;00m \u001b[32mlist_length\u001b[39;49;00m(elems: List[Any]) -> \u001b[36mint\u001b[39;49;00m:\u001b[37m\u001b[39;49;00m\n",
      "    \u001b[34massert\u001b[39;49;00m \u001b[36misinstance\u001b[39;49;00m(elems, \u001b[36mlist\u001b[39;49;00m), \u001b[33m'\u001b[39;49;00m\u001b[33mviolated precondition\u001b[39;49;00m\u001b[33m'\u001b[39;49;00m\u001b[37m\u001b[39;49;00m\n",
      "    \u001b[34mif\u001b[39;49;00m elems == []:\u001b[37m\u001b[39;49;00m\n",
      "        length = \u001b[34m0\u001b[39;49;00m\u001b[37m\u001b[39;49;00m\n",
      "    \u001b[34melse\u001b[39;49;00m:\u001b[37m\u001b[39;49;00m\n",
      "        length = \u001b[34m1\u001b[39;49;00m + list_length(elems[\u001b[34m1\u001b[39;49;00m:])\u001b[37m\u001b[39;49;00m\n",
      "    return_value = length\u001b[37m\u001b[39;49;00m\n",
      "    \u001b[34massert\u001b[39;49;00m return_value >= \u001b[34m0\u001b[39;49;00m, \u001b[33m'\u001b[39;49;00m\u001b[33mviolated postcondition\u001b[39;49;00m\u001b[33m'\u001b[39;49;00m\u001b[37m\u001b[39;49;00m\n",
      "    \u001b[34massert\u001b[39;49;00m \u001b[36misinstance\u001b[39;49;00m(return_value, \u001b[36mint\u001b[39;49;00m), \u001b[33m'\u001b[39;49;00m\u001b[33mviolated postcondition\u001b[39;49;00m\u001b[33m'\u001b[39;49;00m\u001b[37m\u001b[39;49;00m\n",
      "    \u001b[34massert\u001b[39;49;00m return_value == \u001b[36mlen\u001b[39;49;00m(elems), \u001b[33m'\u001b[39;49;00m\u001b[33mviolated postcondition\u001b[39;49;00m\u001b[33m'\u001b[39;49;00m\u001b[37m\u001b[39;49;00m\n",
      "    \u001b[34mreturn\u001b[39;49;00m length\u001b[37m\u001b[39;49;00m"
     ]
    }
   ],
   "source": [
    "with EmbeddedInvariantAnnotator() as annotator:\n",
    "    length = list_length([1, 2, 3])\n",
    "\n",
    "print_content(annotator.function_with_invariants('list_length'), '.py')"
   ]
  },
  {
   "cell_type": "code",
   "execution_count": 252,
   "metadata": {
    "execution": {
     "iopub.execute_input": "2025-01-07T11:06:32.645228Z",
     "iopub.status.busy": "2025-01-07T11:06:32.645145Z",
     "iopub.status.idle": "2025-01-07T11:06:32.647073Z",
     "shell.execute_reply": "2025-01-07T11:06:32.646861Z"
    },
    "slideshow": {
     "slide_type": "skip"
    },
    "solution2": "hidden"
   },
   "outputs": [
    {
     "name": "stdout",
     "output_type": "stream",
     "text": [
      "76\n"
     ]
    }
   ],
   "source": [
    "with EmbeddedInvariantAnnotator() as annotator:\n",
    "    print_sum(31, 45)"
   ]
  },
  {
   "cell_type": "code",
   "execution_count": 253,
   "metadata": {
    "execution": {
     "iopub.execute_input": "2025-01-07T11:06:32.648142Z",
     "iopub.status.busy": "2025-01-07T11:06:32.648069Z",
     "iopub.status.idle": "2025-01-07T11:06:32.661511Z",
     "shell.execute_reply": "2025-01-07T11:06:32.661304Z"
    },
    "slideshow": {
     "slide_type": "skip"
    },
    "solution2": "hidden"
   },
   "outputs": [
    {
     "name": "stdout",
     "output_type": "stream",
     "text": [
      "\u001b[34mdef\u001b[39;49;00m \u001b[32mprint_sum\u001b[39;49;00m(a, b):\u001b[37m\u001b[39;49;00m\n",
      "    \u001b[34massert\u001b[39;49;00m b, \u001b[33m'\u001b[39;49;00m\u001b[33mviolated precondition\u001b[39;49;00m\u001b[33m'\u001b[39;49;00m\u001b[37m\u001b[39;49;00m\n",
      "    \u001b[34massert\u001b[39;49;00m a > \u001b[34m0\u001b[39;49;00m, \u001b[33m'\u001b[39;49;00m\u001b[33mviolated precondition\u001b[39;49;00m\u001b[33m'\u001b[39;49;00m\u001b[37m\u001b[39;49;00m\n",
      "    \u001b[34massert\u001b[39;49;00m b >= \u001b[34m0\u001b[39;49;00m, \u001b[33m'\u001b[39;49;00m\u001b[33mviolated precondition\u001b[39;49;00m\u001b[33m'\u001b[39;49;00m\u001b[37m\u001b[39;49;00m\n",
      "    \u001b[34massert\u001b[39;49;00m a <= b, \u001b[33m'\u001b[39;49;00m\u001b[33mviolated precondition\u001b[39;49;00m\u001b[33m'\u001b[39;49;00m\u001b[37m\u001b[39;49;00m\n",
      "    \u001b[34massert\u001b[39;49;00m \u001b[36misinstance\u001b[39;49;00m(a, \u001b[36mint\u001b[39;49;00m), \u001b[33m'\u001b[39;49;00m\u001b[33mviolated precondition\u001b[39;49;00m\u001b[33m'\u001b[39;49;00m\u001b[37m\u001b[39;49;00m\n",
      "    \u001b[34massert\u001b[39;49;00m b >= a, \u001b[33m'\u001b[39;49;00m\u001b[33mviolated precondition\u001b[39;49;00m\u001b[33m'\u001b[39;49;00m\u001b[37m\u001b[39;49;00m\n",
      "    \u001b[34massert\u001b[39;49;00m b > \u001b[34m0\u001b[39;49;00m, \u001b[33m'\u001b[39;49;00m\u001b[33mviolated precondition\u001b[39;49;00m\u001b[33m'\u001b[39;49;00m\u001b[37m\u001b[39;49;00m\n",
      "    \u001b[34massert\u001b[39;49;00m b > a, \u001b[33m'\u001b[39;49;00m\u001b[33mviolated precondition\u001b[39;49;00m\u001b[33m'\u001b[39;49;00m\u001b[37m\u001b[39;49;00m\n",
      "    \u001b[34massert\u001b[39;49;00m a >= \u001b[34m0\u001b[39;49;00m, \u001b[33m'\u001b[39;49;00m\u001b[33mviolated precondition\u001b[39;49;00m\u001b[33m'\u001b[39;49;00m\u001b[37m\u001b[39;49;00m\n",
      "    \u001b[34massert\u001b[39;49;00m a, \u001b[33m'\u001b[39;49;00m\u001b[33mviolated precondition\u001b[39;49;00m\u001b[33m'\u001b[39;49;00m\u001b[37m\u001b[39;49;00m\n",
      "    \u001b[34massert\u001b[39;49;00m \u001b[36misinstance\u001b[39;49;00m(b, \u001b[36mint\u001b[39;49;00m), \u001b[33m'\u001b[39;49;00m\u001b[33mviolated precondition\u001b[39;49;00m\u001b[33m'\u001b[39;49;00m\u001b[37m\u001b[39;49;00m\n",
      "    \u001b[34massert\u001b[39;49;00m a < b, \u001b[33m'\u001b[39;49;00m\u001b[33mviolated precondition\u001b[39;49;00m\u001b[33m'\u001b[39;49;00m\u001b[37m\u001b[39;49;00m\n",
      "    \u001b[36mprint\u001b[39;49;00m(a + b)\u001b[37m\u001b[39;49;00m\n",
      "    return_value = \u001b[34mNone\u001b[39;49;00m\u001b[37m\u001b[39;49;00m\n",
      "    \u001b[34massert\u001b[39;49;00m \u001b[35mnot\u001b[39;49;00m return_value, \u001b[33m'\u001b[39;49;00m\u001b[33mviolated postcondition\u001b[39;49;00m\u001b[33m'\u001b[39;49;00m\u001b[37m\u001b[39;49;00m"
     ]
    }
   ],
   "source": [
    "print_content(annotator.function_with_invariants('print_sum'), '.py')"
   ]
  },
  {
   "cell_type": "markdown",
   "metadata": {
    "slideshow": {
     "slide_type": "skip"
    },
    "solution2": "hidden"
   },
   "source": [
    "And we're done!"
   ]
  },
  {
   "cell_type": "markdown",
   "metadata": {
    "slideshow": {
     "slide_type": "subslide"
    },
    "solution2": "hidden",
    "solution2_first": true
   },
   "source": [
    "### Exercise 8: Grammar-Generated Properties\n",
    "\n",
    "The larger the set of properties to be checked, the more potential invariants can be discovered.  Create a _grammar_ that systematically produces a large set of properties.  See \\cite{Ernst2001} for possible patterns."
   ]
  },
  {
   "cell_type": "markdown",
   "metadata": {
    "slideshow": {
     "slide_type": "subslide"
    },
    "solution2": "hidden",
    "solution2_first": true
   },
   "source": [
    "### Exercise 9: Loop Invariants\n",
    "\n",
    "This is not so much a problem in debugging, but rather for _symbolic verification_. A _loop invariant_ is a property that holds for every iteration of a loop, such as\n",
    "\n",
    "```python\n",
    "assert tag or not quote\n",
    "```\n",
    "\n",
    "for `remove_html_markup()`. Create an annotator that determines and adds loop invariants for `for` and `while` loops."
   ]
  },
  {
   "cell_type": "markdown",
   "metadata": {
    "slideshow": {
     "slide_type": "subslide"
    },
    "solution2": "hidden",
    "solution2_first": true
   },
   "source": [
    "### Exercise 10: Path Invariants\n",
    "\n",
    "A _path invariant_ is a property that holds for taking a particular path, such as\n",
    "\n",
    "```python\n",
    "assert y < x < z\n",
    "```\n",
    "\n",
    "for the second (erroneous) `return y` statement of the `middle()` function. Create an annotator that adds path invariants (expressed over the preconditions that hold when taking this particular branch) for every `if` statement in the code."
   ]
  }
 ],
 "metadata": {
  "ipub": {
   "bibliography": "fuzzingbook.bib",
   "toc": true
  },
  "kernelspec": {
   "display_name": "Python 3 (ipykernel)",
   "language": "python",
   "name": "python3"
  },
  "language_info": {
   "codemirror_mode": {
    "name": "ipython",
    "version": 3
   },
   "file_extension": ".py",
   "mimetype": "text/x-python",
   "name": "python",
   "nbconvert_exporter": "python",
   "pygments_lexer": "ipython3",
   "version": "3.12.8"
  },
  "toc": {
   "base_numbering": 1,
   "nav_menu": {},
   "number_sections": true,
   "sideBar": true,
   "skip_h1_title": true,
   "title_cell": "",
   "title_sidebar": "Contents",
   "toc_cell": false,
   "toc_position": {},
   "toc_section_display": true,
   "toc_window_display": true
  },
  "toc-autonumbering": false
 },
 "nbformat": 4,
 "nbformat_minor": 4
}