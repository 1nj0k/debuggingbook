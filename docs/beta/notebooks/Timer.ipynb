{
 "cells": [
  {
   "cell_type": "markdown",
   "metadata": {
    "button": false,
    "new_sheet": false,
    "run_control": {
     "read_only": false
    },
    "slideshow": {
     "slide_type": "slide"
    }
   },
   "source": [
    "# Timer\n",
    "\n",
    "The code in this notebook helps with measuring time."
   ]
  },
  {
   "cell_type": "markdown",
   "metadata": {
    "button": false,
    "new_sheet": false,
    "run_control": {
     "read_only": false
    },
    "slideshow": {
     "slide_type": "subslide"
    }
   },
   "source": [
    "**Prerequisites**\n",
    "\n",
    "* This notebook needs some understanding on advanced concepts in Python, notably \n",
    "    * classes\n",
    "    * the Python `with` statement\n",
    "    * measuring time"
   ]
  },
  {
   "cell_type": "markdown",
   "metadata": {
    "slideshow": {
     "slide_type": "slide"
    }
   },
   "source": [
    "## Synopsis\n",
    "<!-- Automatically generated. Do not edit. -->\n",
    "\n",
    "To [use the code provided in this chapter](Importing.ipynb), write\n",
    "\n",
    "```python\n",
    ">>> from debuggingbook.Timer import <identifier>\n",
    "```\n",
    "\n",
    "and then make use of the following features.\n",
    "\n",
    "\n",
    "The `Timer` class allows you to measure elapsed real time (in fractional seconds).  Its typical usage is in conjunction with a `with` clause:\n",
    "\n",
    "```python\n",
    ">>> with Timer() as t:\n",
    ">>>     some_long_running_function()\n",
    ">>> t.elapsed_time()\n",
    "0.02471683407202363\n",
    "```\n"
   ]
  },
  {
   "cell_type": "markdown",
   "metadata": {
    "button": false,
    "new_sheet": false,
    "run_control": {
     "read_only": false
    },
    "slideshow": {
     "slide_type": "slide"
    }
   },
   "source": [
    "## Measuring Time\n",
    "\n",
    "The class `Timer` allows to measure the elapsed time during some code execution."
   ]
  },
  {
   "cell_type": "code",
   "execution_count": 1,
   "metadata": {
    "button": false,
    "execution": {
     "iopub.execute_input": "2022-08-06T23:25:54.413796Z",
     "iopub.status.busy": "2022-08-06T23:25:54.413443Z",
     "iopub.status.idle": "2022-08-06T23:25:54.445824Z",
     "shell.execute_reply": "2022-08-06T23:25:54.446034Z"
    },
    "new_sheet": false,
    "run_control": {
     "read_only": false
    },
    "slideshow": {
     "slide_type": "skip"
    }
   },
   "outputs": [],
   "source": [
    "import bookutils"
   ]
  },
  {
   "cell_type": "code",
   "execution_count": 2,
   "metadata": {
    "button": false,
    "execution": {
     "iopub.execute_input": "2022-08-06T23:25:54.448040Z",
     "iopub.status.busy": "2022-08-06T23:25:54.447695Z",
     "iopub.status.idle": "2022-08-06T23:25:54.449327Z",
     "shell.execute_reply": "2022-08-06T23:25:54.449030Z"
    },
    "new_sheet": false,
    "run_control": {
     "read_only": false
    },
    "slideshow": {
     "slide_type": "skip"
    }
   },
   "outputs": [],
   "source": [
    "import time"
   ]
  },
  {
   "cell_type": "code",
   "execution_count": 3,
   "metadata": {
    "execution": {
     "iopub.execute_input": "2022-08-06T23:25:54.451229Z",
     "iopub.status.busy": "2022-08-06T23:25:54.450886Z",
     "iopub.status.idle": "2022-08-06T23:25:54.452190Z",
     "shell.execute_reply": "2022-08-06T23:25:54.452438Z"
    },
    "slideshow": {
     "slide_type": "fragment"
    }
   },
   "outputs": [],
   "source": [
    "# ignore\n",
    "from typing import Type, Any"
   ]
  },
  {
   "cell_type": "code",
   "execution_count": 4,
   "metadata": {
    "button": false,
    "execution": {
     "iopub.execute_input": "2022-08-06T23:25:54.454538Z",
     "iopub.status.busy": "2022-08-06T23:25:54.454185Z",
     "iopub.status.idle": "2022-08-06T23:25:54.455526Z",
     "shell.execute_reply": "2022-08-06T23:25:54.455741Z"
    },
    "new_sheet": false,
    "run_control": {
     "read_only": false
    },
    "slideshow": {
     "slide_type": "fragment"
    }
   },
   "outputs": [],
   "source": [
    "def clock() -> float:\n",
    "    \"\"\"\n",
    "    Return the number of fractional seconds elapsed since some point of reference.\n",
    "    \"\"\"\n",
    "    return time.perf_counter()"
   ]
  },
  {
   "cell_type": "code",
   "execution_count": 5,
   "metadata": {
    "execution": {
     "iopub.execute_input": "2022-08-06T23:25:54.457477Z",
     "iopub.status.busy": "2022-08-06T23:25:54.457174Z",
     "iopub.status.idle": "2022-08-06T23:25:54.458551Z",
     "shell.execute_reply": "2022-08-06T23:25:54.458771Z"
    },
    "slideshow": {
     "slide_type": "skip"
    }
   },
   "outputs": [],
   "source": [
    "from types import TracebackType"
   ]
  },
  {
   "cell_type": "code",
   "execution_count": 6,
   "metadata": {
    "button": false,
    "execution": {
     "iopub.execute_input": "2022-08-06T23:25:54.461722Z",
     "iopub.status.busy": "2022-08-06T23:25:54.461383Z",
     "iopub.status.idle": "2022-08-06T23:25:54.462621Z",
     "shell.execute_reply": "2022-08-06T23:25:54.462879Z"
    },
    "new_sheet": false,
    "run_control": {
     "read_only": false
    },
    "slideshow": {
     "slide_type": "subslide"
    }
   },
   "outputs": [],
   "source": [
    "class Timer:\n",
    "    def __init__(self) -> None:\n",
    "        \"\"\"Constructor\"\"\"\n",
    "        self.start_time = clock()\n",
    "        self.end_time = None\n",
    "\n",
    "    def __enter__(self) -> Any:\n",
    "        \"\"\"Begin of `with` block\"\"\"\n",
    "        self.start_time = clock()\n",
    "        self.end_time = None\n",
    "        return self\n",
    "\n",
    "    def __exit__(self, exc_type: Type, exc_value: BaseException,\n",
    "                 tb: TracebackType) -> None:\n",
    "        \"\"\"End of `with` block\"\"\"\n",
    "        self.end_time = clock()  # type: ignore\n",
    "\n",
    "    def elapsed_time(self) -> float:\n",
    "        \"\"\"Return elapsed time in seconds\"\"\"\n",
    "        if self.end_time is None:\n",
    "            # still running\n",
    "            return clock() - self.start_time\n",
    "        else:\n",
    "            return self.end_time - self.start_time  # type: ignore"
   ]
  },
  {
   "cell_type": "markdown",
   "metadata": {
    "button": false,
    "new_sheet": false,
    "run_control": {
     "read_only": false
    },
    "slideshow": {
     "slide_type": "subslide"
    }
   },
   "source": [
    "Here's an example:"
   ]
  },
  {
   "cell_type": "code",
   "execution_count": 7,
   "metadata": {
    "button": false,
    "execution": {
     "iopub.execute_input": "2022-08-06T23:25:54.464817Z",
     "iopub.status.busy": "2022-08-06T23:25:54.464527Z",
     "iopub.status.idle": "2022-08-06T23:25:54.465858Z",
     "shell.execute_reply": "2022-08-06T23:25:54.466141Z"
    },
    "new_sheet": false,
    "run_control": {
     "read_only": false
    },
    "slideshow": {
     "slide_type": "fragment"
    }
   },
   "outputs": [],
   "source": [
    "def some_long_running_function() -> None:\n",
    "    i = 1000000\n",
    "    while i > 0:\n",
    "        i -= 1"
   ]
  },
  {
   "cell_type": "code",
   "execution_count": 8,
   "metadata": {
    "button": false,
    "execution": {
     "iopub.execute_input": "2022-08-06T23:25:54.493356Z",
     "iopub.status.busy": "2022-08-06T23:25:54.493010Z",
     "iopub.status.idle": "2022-08-06T23:25:54.514033Z",
     "shell.execute_reply": "2022-08-06T23:25:54.514257Z"
    },
    "new_sheet": false,
    "run_control": {
     "read_only": false
    },
    "slideshow": {
     "slide_type": "fragment"
    }
   },
   "outputs": [
    {
     "name": "stdout",
     "output_type": "stream",
     "text": [
      "Stopping total time:\n",
      "0.024799083010293543\n"
     ]
    }
   ],
   "source": [
    "print(\"Stopping total time:\")\n",
    "with Timer() as t:\n",
    "    some_long_running_function()\n",
    "print(t.elapsed_time())"
   ]
  },
  {
   "cell_type": "code",
   "execution_count": 9,
   "metadata": {
    "button": false,
    "execution": {
     "iopub.execute_input": "2022-08-06T23:25:54.522898Z",
     "iopub.status.busy": "2022-08-06T23:25:54.522503Z",
     "iopub.status.idle": "2022-08-06T23:25:54.768048Z",
     "shell.execute_reply": "2022-08-06T23:25:54.768243Z"
    },
    "new_sheet": false,
    "run_control": {
     "read_only": false
    },
    "slideshow": {
     "slide_type": "subslide"
    }
   },
   "outputs": [
    {
     "name": "stdout",
     "output_type": "stream",
     "text": [
      "Stopping time in between:\n",
      "0.02464199997484684\n",
      "0.05008674995042384\n",
      "0.0759687089594081\n",
      "0.10128970898222178\n",
      "0.12647141690831631\n",
      "0.15190504200290889\n",
      "0.1765427499776706\n",
      "0.20135362492874265\n",
      "0.22578358394093812\n",
      "0.2501277499832213\n"
     ]
    }
   ],
   "source": [
    "print(\"Stopping time in between:\")\n",
    "with Timer() as t:\n",
    "    for i in range(10):\n",
    "        some_long_running_function()\n",
    "        print(t.elapsed_time())"
   ]
  },
  {
   "cell_type": "markdown",
   "metadata": {
    "button": false,
    "new_sheet": false,
    "run_control": {
     "read_only": false
    },
    "slideshow": {
     "slide_type": "subslide"
    }
   },
   "source": [
    "That's it, folks – enjoy!"
   ]
  },
  {
   "cell_type": "markdown",
   "metadata": {
    "slideshow": {
     "slide_type": "slide"
    }
   },
   "source": [
    "## Synopsis\n",
    "\n",
    "The `Timer` class allows you to measure elapsed real time (in fractional seconds).  Its typical usage is in conjunction with a `with` clause:"
   ]
  },
  {
   "cell_type": "code",
   "execution_count": 10,
   "metadata": {
    "execution": {
     "iopub.execute_input": "2022-08-06T23:25:54.797194Z",
     "iopub.status.busy": "2022-08-06T23:25:54.788484Z",
     "iopub.status.idle": "2022-08-06T23:25:54.798639Z",
     "shell.execute_reply": "2022-08-06T23:25:54.798821Z"
    },
    "slideshow": {
     "slide_type": "fragment"
    }
   },
   "outputs": [
    {
     "data": {
      "text/plain": [
       "0.02471683407202363"
      ]
     },
     "execution_count": 10,
     "metadata": {},
     "output_type": "execute_result"
    }
   ],
   "source": [
    "with Timer() as t:\n",
    "    some_long_running_function()\n",
    "t.elapsed_time()"
   ]
  },
  {
   "cell_type": "markdown",
   "metadata": {
    "button": false,
    "new_sheet": true,
    "run_control": {
     "read_only": false
    },
    "slideshow": {
     "slide_type": "slide"
    }
   },
   "source": [
    "## Lessons Learned\n",
    "\n",
    "* With the `Timer` class, it is very easy to measure elapsed time."
   ]
  }
 ],
 "metadata": {
  "ipub": {
   "bibliography": "fuzzingbook.bib",
   "toc": true
  },
  "kernelspec": {
   "display_name": "Python 3",
   "language": "python",
   "name": "python3"
  },
  "language_info": {
   "codemirror_mode": {
    "name": "ipython",
    "version": 3
   },
   "file_extension": ".py",
   "mimetype": "text/x-python",
   "name": "python",
   "nbconvert_exporter": "python",
   "pygments_lexer": "ipython3",
   "version": "3.10.2"
  },
  "toc": {
   "base_numbering": 1,
   "nav_menu": {},
   "number_sections": true,
   "sideBar": true,
   "skip_h1_title": true,
   "title_cell": "",
   "title_sidebar": "Contents",
   "toc_cell": false,
   "toc_position": {},
   "toc_section_display": true,
   "toc_window_display": true
  },
  "toc-autonumbering": false
 },
 "nbformat": 4,
 "nbformat_minor": 4
}