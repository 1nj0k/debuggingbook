{
 "cells": [
  {
   "cell_type": "markdown",
   "metadata": {
    "button": false,
    "new_sheet": false,
    "run_control": {
     "read_only": false
    },
    "slideshow": {
     "slide_type": "slide"
    }
   },
   "source": [
    "# Timer\n",
    "\n",
    "The code in this notebook helps with measuring time."
   ]
  },
  {
   "cell_type": "markdown",
   "metadata": {
    "button": false,
    "new_sheet": false,
    "run_control": {
     "read_only": false
    },
    "slideshow": {
     "slide_type": "subslide"
    }
   },
   "source": [
    "**Prerequisites**\n",
    "\n",
    "* This notebook needs some understanding on advanced concepts in Python, notably \n",
    "    * classes\n",
    "    * the Python `with` statement\n",
    "    * measuring time"
   ]
  },
  {
   "cell_type": "markdown",
   "metadata": {
    "slideshow": {
     "slide_type": "slide"
    }
   },
   "source": [
    "## Synopsis\n",
    "<!-- Automatically generated. Do not edit. -->\n",
    "\n",
    "To [use the code provided in this chapter](Importing.ipynb), write\n",
    "\n",
    "```python\n",
    ">>> from debuggingbook.Timer import <identifier>\n",
    "```\n",
    "\n",
    "and then make use of the following features.\n",
    "\n",
    "\n",
    "The `Timer` class allows you to measure elapsed real time (in fractional seconds).  Its typical usage is in conjunction with a `with` clause:\n",
    "\n",
    "```python\n",
    ">>> with Timer() as t:\n",
    ">>>     some_long_running_function()\n",
    ">>> t.elapsed_time()\n",
    "0.02501087501877919\n",
    "```\n"
   ]
  },
  {
   "cell_type": "markdown",
   "metadata": {
    "button": false,
    "new_sheet": false,
    "run_control": {
     "read_only": false
    },
    "slideshow": {
     "slide_type": "slide"
    }
   },
   "source": [
    "## Measuring Time\n",
    "\n",
    "The class `Timer` allows measuring the elapsed time during some code execution."
   ]
  },
  {
   "cell_type": "code",
   "execution_count": 1,
   "metadata": {
    "button": false,
    "execution": {
     "iopub.execute_input": "2023-10-16T18:09:25.813910Z",
     "iopub.status.busy": "2023-10-16T18:09:25.813781Z",
     "iopub.status.idle": "2023-10-16T18:09:25.844677Z",
     "shell.execute_reply": "2023-10-16T18:09:25.844349Z"
    },
    "new_sheet": false,
    "run_control": {
     "read_only": false
    },
    "slideshow": {
     "slide_type": "skip"
    }
   },
   "outputs": [],
   "source": [
    "import bookutils"
   ]
  },
  {
   "cell_type": "code",
   "execution_count": 2,
   "metadata": {
    "button": false,
    "execution": {
     "iopub.execute_input": "2023-10-16T18:09:25.846845Z",
     "iopub.status.busy": "2023-10-16T18:09:25.846688Z",
     "iopub.status.idle": "2023-10-16T18:09:25.848554Z",
     "shell.execute_reply": "2023-10-16T18:09:25.848255Z"
    },
    "new_sheet": false,
    "run_control": {
     "read_only": false
    },
    "slideshow": {
     "slide_type": "skip"
    }
   },
   "outputs": [],
   "source": [
    "import time"
   ]
  },
  {
   "cell_type": "code",
   "execution_count": 3,
   "metadata": {
    "execution": {
     "iopub.execute_input": "2023-10-16T18:09:25.850134Z",
     "iopub.status.busy": "2023-10-16T18:09:25.850011Z",
     "iopub.status.idle": "2023-10-16T18:09:25.851727Z",
     "shell.execute_reply": "2023-10-16T18:09:25.851476Z"
    },
    "slideshow": {
     "slide_type": "fragment"
    }
   },
   "outputs": [],
   "source": [
    "# ignore\n",
    "from typing import Type, Any"
   ]
  },
  {
   "cell_type": "code",
   "execution_count": 4,
   "metadata": {
    "button": false,
    "execution": {
     "iopub.execute_input": "2023-10-16T18:09:25.853432Z",
     "iopub.status.busy": "2023-10-16T18:09:25.853310Z",
     "iopub.status.idle": "2023-10-16T18:09:25.855271Z",
     "shell.execute_reply": "2023-10-16T18:09:25.854987Z"
    },
    "new_sheet": false,
    "run_control": {
     "read_only": false
    },
    "slideshow": {
     "slide_type": "fragment"
    }
   },
   "outputs": [],
   "source": [
    "def clock() -> float:\n",
    "    \"\"\"\n",
    "    Return the number of fractional seconds elapsed since some point of reference.\n",
    "    \"\"\"\n",
    "    return time.perf_counter()"
   ]
  },
  {
   "cell_type": "code",
   "execution_count": 5,
   "metadata": {
    "execution": {
     "iopub.execute_input": "2023-10-16T18:09:25.856899Z",
     "iopub.status.busy": "2023-10-16T18:09:25.856789Z",
     "iopub.status.idle": "2023-10-16T18:09:25.858556Z",
     "shell.execute_reply": "2023-10-16T18:09:25.858274Z"
    },
    "slideshow": {
     "slide_type": "skip"
    }
   },
   "outputs": [],
   "source": [
    "from types import TracebackType"
   ]
  },
  {
   "cell_type": "code",
   "execution_count": 6,
   "metadata": {
    "button": false,
    "execution": {
     "iopub.execute_input": "2023-10-16T18:09:25.860132Z",
     "iopub.status.busy": "2023-10-16T18:09:25.860013Z",
     "iopub.status.idle": "2023-10-16T18:09:25.863035Z",
     "shell.execute_reply": "2023-10-16T18:09:25.862701Z"
    },
    "new_sheet": false,
    "run_control": {
     "read_only": false
    },
    "slideshow": {
     "slide_type": "subslide"
    }
   },
   "outputs": [],
   "source": [
    "class Timer:\n",
    "    def __init__(self) -> None:\n",
    "        \"\"\"Constructor\"\"\"\n",
    "        self.start_time = clock()\n",
    "        self.end_time = None\n",
    "\n",
    "    def __enter__(self) -> Any:\n",
    "        \"\"\"Begin of `with` block\"\"\"\n",
    "        self.start_time = clock()\n",
    "        self.end_time = None\n",
    "        return self\n",
    "\n",
    "    def __exit__(self, exc_type: Type, exc_value: BaseException,\n",
    "                 tb: TracebackType) -> None:\n",
    "        \"\"\"End of `with` block\"\"\"\n",
    "        self.end_time = clock()  # type: ignore\n",
    "\n",
    "    def elapsed_time(self) -> float:\n",
    "        \"\"\"Return elapsed time in seconds\"\"\"\n",
    "        if self.end_time is None:\n",
    "            # still running\n",
    "            return clock() - self.start_time\n",
    "        else:\n",
    "            return self.end_time - self.start_time  # type: ignore"
   ]
  },
  {
   "cell_type": "markdown",
   "metadata": {
    "button": false,
    "new_sheet": false,
    "run_control": {
     "read_only": false
    },
    "slideshow": {
     "slide_type": "subslide"
    }
   },
   "source": [
    "Here's an example:"
   ]
  },
  {
   "cell_type": "code",
   "execution_count": 7,
   "metadata": {
    "button": false,
    "execution": {
     "iopub.execute_input": "2023-10-16T18:09:25.864705Z",
     "iopub.status.busy": "2023-10-16T18:09:25.864609Z",
     "iopub.status.idle": "2023-10-16T18:09:25.866424Z",
     "shell.execute_reply": "2023-10-16T18:09:25.866140Z"
    },
    "new_sheet": false,
    "run_control": {
     "read_only": false
    },
    "slideshow": {
     "slide_type": "fragment"
    }
   },
   "outputs": [],
   "source": [
    "def some_long_running_function() -> None:\n",
    "    i = 1000000\n",
    "    while i > 0:\n",
    "        i -= 1"
   ]
  },
  {
   "cell_type": "code",
   "execution_count": 8,
   "metadata": {
    "button": false,
    "execution": {
     "iopub.execute_input": "2023-10-16T18:09:25.867856Z",
     "iopub.status.busy": "2023-10-16T18:09:25.867772Z",
     "iopub.status.idle": "2023-10-16T18:09:25.894944Z",
     "shell.execute_reply": "2023-10-16T18:09:25.894612Z"
    },
    "new_sheet": false,
    "run_control": {
     "read_only": false
    },
    "slideshow": {
     "slide_type": "fragment"
    }
   },
   "outputs": [
    {
     "name": "stdout",
     "output_type": "stream",
     "text": [
      "Stopping total time:\n",
      "0.024970792001113296\n"
     ]
    }
   ],
   "source": [
    "print(\"Stopping total time:\")\n",
    "with Timer() as t:\n",
    "    some_long_running_function()\n",
    "print(t.elapsed_time())"
   ]
  },
  {
   "cell_type": "code",
   "execution_count": 9,
   "metadata": {
    "button": false,
    "execution": {
     "iopub.execute_input": "2023-10-16T18:09:25.915528Z",
     "iopub.status.busy": "2023-10-16T18:09:25.915370Z",
     "iopub.status.idle": "2023-10-16T18:09:26.172993Z",
     "shell.execute_reply": "2023-10-16T18:09:26.172691Z"
    },
    "new_sheet": false,
    "run_control": {
     "read_only": false
    },
    "slideshow": {
     "slide_type": "subslide"
    }
   },
   "outputs": [
    {
     "name": "stdout",
     "output_type": "stream",
     "text": [
      "Stopping time in between:\n",
      "0.02488437498686835\n",
      "0.04995904100360349\n",
      "0.07517587501206435\n",
      "0.10055112501140684\n",
      "0.1266098750056699\n",
      "0.1524350410036277\n",
      "0.17795712500810623\n",
      "0.20402095801546238\n",
      "0.22986008299631067\n",
      "0.25531562499236315\n"
     ]
    }
   ],
   "source": [
    "print(\"Stopping time in between:\")\n",
    "with Timer() as t:\n",
    "    for i in range(10):\n",
    "        some_long_running_function()\n",
    "        print(t.elapsed_time())"
   ]
  },
  {
   "cell_type": "markdown",
   "metadata": {
    "button": false,
    "new_sheet": false,
    "run_control": {
     "read_only": false
    },
    "slideshow": {
     "slide_type": "subslide"
    }
   },
   "source": [
    "That's it, folks – enjoy!"
   ]
  },
  {
   "cell_type": "markdown",
   "metadata": {
    "slideshow": {
     "slide_type": "slide"
    }
   },
   "source": [
    "## Synopsis\n",
    "\n",
    "The `Timer` class allows you to measure elapsed real time (in fractional seconds).  Its typical usage is in conjunction with a `with` clause:"
   ]
  },
  {
   "cell_type": "code",
   "execution_count": 10,
   "metadata": {
    "execution": {
     "iopub.execute_input": "2023-10-16T18:09:26.174812Z",
     "iopub.status.busy": "2023-10-16T18:09:26.174613Z",
     "iopub.status.idle": "2023-10-16T18:09:26.203386Z",
     "shell.execute_reply": "2023-10-16T18:09:26.203088Z"
    },
    "slideshow": {
     "slide_type": "fragment"
    }
   },
   "outputs": [
    {
     "data": {
      "text/plain": [
       "0.02501087501877919"
      ]
     },
     "execution_count": 10,
     "metadata": {},
     "output_type": "execute_result"
    }
   ],
   "source": [
    "with Timer() as t:\n",
    "    some_long_running_function()\n",
    "t.elapsed_time()"
   ]
  },
  {
   "cell_type": "markdown",
   "metadata": {
    "button": false,
    "new_sheet": true,
    "run_control": {
     "read_only": false
    },
    "slideshow": {
     "slide_type": "slide"
    }
   },
   "source": [
    "## Lessons Learned\n",
    "\n",
    "* With the `Timer` class, it is very easy to measure elapsed time."
   ]
  }
 ],
 "metadata": {
  "ipub": {
   "bibliography": "fuzzingbook.bib",
   "toc": true
  },
  "kernelspec": {
   "display_name": "Python 3",
   "language": "python",
   "name": "python3"
  },
  "language_info": {
   "codemirror_mode": {
    "name": "ipython",
    "version": 3
   },
   "file_extension": ".py",
   "mimetype": "text/x-python",
   "name": "python",
   "nbconvert_exporter": "python",
   "pygments_lexer": "ipython3",
   "version": "3.10.2"
  },
  "toc": {
   "base_numbering": 1,
   "nav_menu": {},
   "number_sections": true,
   "sideBar": true,
   "skip_h1_title": true,
   "title_cell": "",
   "title_sidebar": "Contents",
   "toc_cell": false,
   "toc_position": {},
   "toc_section_display": true,
   "toc_window_display": true
  },
  "toc-autonumbering": false
 },
 "nbformat": 4,
 "nbformat_minor": 4
}