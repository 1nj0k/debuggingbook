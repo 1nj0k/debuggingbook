{
 "cells": [
  {
   "cell_type": "markdown",
   "metadata": {},
   "source": [
    "# The Debugging Book"
   ]
  },
  {
   "cell_type": "markdown",
   "metadata": {},
   "source": [
    "## Sitemap\n",
    "This sitemap shows possible paths through the book chapters.  An arrow $A \\rightarrow B$ means that chapter $A$ is a prerequisite for chapter $B$."
   ]
  },
  {
   "cell_type": "code",
   "execution_count": 1,
   "metadata": {},
   "outputs": [],
   "source": [
    "from IPython.display import SVG"
   ]
  },
  {
   "cell_type": "code",
   "execution_count": 2,
   "metadata": {},
   "outputs": [
    {
     "data": {
      "image/svg+xml": [
       "<svg height=\"188pt\" viewBox=\"0.00 0.00 531.00 188.00\" width=\"531pt\" xmlns=\"http://www.w3.org/2000/svg\" xmlns:xlink=\"http://www.w3.org/1999/xlink\">\n",
       "<g class=\"graph\" id=\"graph0\" transform=\"scale(1 1) rotate(0) translate(4 184)\">\n",
       "<title>%3</title>\n",
       "<polygon fill=\"#ffffff\" points=\"-4,4 -4,-184 527,-184 527,4 -4,4\" stroke=\"transparent\"/>\n",
       "<!-- Tracer -->\n",
       "<g class=\"node\" id=\"node1\">\n",
       "<title>Tracer</title>\n",
       "<g id=\"a_node1\"><a xlink:href=\"Tracer.ipynb\" xlink:title=\"Tracer\">\n",
       "<polygon fill=\"#ffffff\" points=\"329,-108 194,-108 194,-72 335,-72 335,-102 329,-108\" stroke=\"#000000\"/>\n",
       "<polyline fill=\"none\" points=\"329,-108 329,-102 \" stroke=\"#000000\"/>\n",
       "<polyline fill=\"none\" points=\"335,-102 329,-102 \" stroke=\"#000000\"/>\n",
       "<text fill=\"#a020f0\" font-family=\"Raleway\" font-size=\"14.00\" text-anchor=\"middle\" x=\"264.5\" y=\"-86.3\">Tracing Executions</text>\n",
       "</a>\n",
       "</g>\n",
       "</g>\n",
       "<!-- Debugger -->\n",
       "<g class=\"node\" id=\"node2\">\n",
       "<title>Debugger</title>\n",
       "<g id=\"a_node2\"><a xlink:href=\"Debugger.ipynb\" xlink:title=\"Debugger\">\n",
       "<polygon fill=\"#ffffff\" points=\"157,-36 0,-36 0,0 163,0 163,-30 157,-36\" stroke=\"#000000\"/>\n",
       "<polyline fill=\"none\" points=\"157,-36 157,-30 \" stroke=\"#000000\"/>\n",
       "<polyline fill=\"none\" points=\"163,-30 157,-30 \" stroke=\"#000000\"/>\n",
       "<text fill=\"#a020f0\" font-family=\"Raleway\" font-size=\"14.00\" text-anchor=\"middle\" x=\"81.5\" y=\"-14.3\">How Debuggers Work</text>\n",
       "</a>\n",
       "</g>\n",
       "</g>\n",
       "<!-- Tracer&#45;&gt;Debugger -->\n",
       "<g class=\"edge\" id=\"edge1\">\n",
       "<title>Tracer-&gt;Debugger</title>\n",
       "<path d=\"M218.3214,-71.8314C193.5199,-62.0734 162.775,-49.977 136.7157,-39.7242\" fill=\"none\" stroke=\"#000000\"/>\n",
       "<polygon fill=\"#000000\" points=\"137.9337,-36.4423 127.3466,-36.038 135.3708,-42.9563 137.9337,-36.4423\" stroke=\"#000000\"/>\n",
       "</g>\n",
       "<!-- Assertions -->\n",
       "<g class=\"node\" id=\"node3\">\n",
       "<title>Assertions</title>\n",
       "<g id=\"a_node3\"><a xlink:href=\"Assertions.ipynb\" xlink:title=\"Assertions\">\n",
       "<polygon fill=\"#ffffff\" points=\"341.5,-36 181.5,-36 181.5,0 347.5,0 347.5,-30 341.5,-36\" stroke=\"#000000\"/>\n",
       "<polyline fill=\"none\" points=\"341.5,-36 341.5,-30 \" stroke=\"#000000\"/>\n",
       "<polyline fill=\"none\" points=\"347.5,-30 341.5,-30 \" stroke=\"#000000\"/>\n",
       "<text fill=\"#a020f0\" font-family=\"Raleway\" font-size=\"14.00\" text-anchor=\"middle\" x=\"264.5\" y=\"-14.3\">Asserting Expectations</text>\n",
       "</a>\n",
       "</g>\n",
       "</g>\n",
       "<!-- Tracer&#45;&gt;Assertions -->\n",
       "<g class=\"edge\" id=\"edge2\">\n",
       "<title>Tracer-&gt;Assertions</title>\n",
       "<path d=\"M264.5,-71.8314C264.5,-64.131 264.5,-54.9743 264.5,-46.4166\" fill=\"none\" stroke=\"#000000\"/>\n",
       "<polygon fill=\"#000000\" points=\"268.0001,-46.4132 264.5,-36.4133 261.0001,-46.4133 268.0001,-46.4132\" stroke=\"#000000\"/>\n",
       "</g>\n",
       "<!-- StatisticalDebugger -->\n",
       "<g class=\"node\" id=\"node4\">\n",
       "<title>StatisticalDebugger</title>\n",
       "<g id=\"a_node4\"><a xlink:href=\"StatisticalDebugger.ipynb\" xlink:title=\"StatisticalDebugger\">\n",
       "<polygon fill=\"#ffffff\" points=\"517,-36 366,-36 366,0 523,0 523,-30 517,-36\" stroke=\"#000000\"/>\n",
       "<polyline fill=\"none\" points=\"517,-36 517,-30 \" stroke=\"#000000\"/>\n",
       "<polyline fill=\"none\" points=\"523,-30 517,-30 \" stroke=\"#000000\"/>\n",
       "<text fill=\"#a020f0\" font-family=\"Raleway\" font-size=\"14.00\" text-anchor=\"middle\" x=\"444.5\" y=\"-14.3\">Statistical Debugging</text>\n",
       "</a>\n",
       "</g>\n",
       "</g>\n",
       "<!-- Tracer&#45;&gt;StatisticalDebugger -->\n",
       "<g class=\"edge\" id=\"edge3\">\n",
       "<title>Tracer-&gt;StatisticalDebugger</title>\n",
       "<path d=\"M309.9216,-71.8314C334.2095,-62.1162 364.2922,-50.0831 389.852,-39.8592\" fill=\"none\" stroke=\"#000000\"/>\n",
       "<polygon fill=\"#000000\" points=\"391.4201,-43.0016 399.405,-36.038 388.8204,-36.5023 391.4201,-43.0016\" stroke=\"#000000\"/>\n",
       "</g>\n",
       "<!-- Intro_Debugging -->\n",
       "<g class=\"node\" id=\"node5\">\n",
       "<title>Intro_Debugging</title>\n",
       "<g id=\"a_node5\"><a xlink:href=\"Intro_Debugging.ipynb\" xlink:title=\"Intro_Debugging\">\n",
       "<polygon fill=\"#ffffff\" points=\"353.5,-180 169.5,-180 169.5,-144 359.5,-144 359.5,-174 353.5,-180\" stroke=\"#000000\"/>\n",
       "<polyline fill=\"none\" points=\"353.5,-180 353.5,-174 \" stroke=\"#000000\"/>\n",
       "<polyline fill=\"none\" points=\"359.5,-174 353.5,-174 \" stroke=\"#000000\"/>\n",
       "<text fill=\"#a020f0\" font-family=\"Raleway\" font-size=\"14.00\" text-anchor=\"middle\" x=\"264.5\" y=\"-158.3\">Introduction to Debugging</text>\n",
       "</a>\n",
       "</g>\n",
       "</g>\n",
       "<!-- Intro_Debugging&#45;&gt;Tracer -->\n",
       "<g class=\"edge\" id=\"edge4\">\n",
       "<title>Intro_Debugging-&gt;Tracer</title>\n",
       "<path d=\"M264.5,-143.8314C264.5,-136.131 264.5,-126.9743 264.5,-118.4166\" fill=\"none\" stroke=\"#000000\"/>\n",
       "<polygon fill=\"#000000\" points=\"268.0001,-118.4132 264.5,-108.4133 261.0001,-118.4133 268.0001,-118.4132\" stroke=\"#000000\"/>\n",
       "</g>\n",
       "</g>\n",
       "</svg>"
      ],
      "text/plain": [
       "<IPython.core.display.SVG object>"
      ]
     },
     "execution_count": 2,
     "metadata": {},
     "output_type": "execute_result"
    }
   ],
   "source": [
    "SVG(filename='PICS/Sitemap.svg')"
   ]
  },
  {
   "cell_type": "markdown",
   "metadata": {},
   "source": [
    "## [Table of Contents](index.ipynb)\n",
    "\n",
    "\n",
    "### [Part I: Whetting Your Appetite](01_Intro.ipynb)\n",
    "\n",
    "* [Tours through the Book](Tours.ipynb)\n",
    "* [Introduction to Debugging](Intro_Debugging.ipynb)\n",
    "\n",
    "### [Part III: Observing Executions](03_Observing.ipynb)\n",
    "\n",
    "* [Tracing Executions](Tracer.ipynb)\n",
    "* [How Debuggers Work](Debugger.ipynb)\n",
    "* [Asserting Expectations](Assertions.ipynb)\n",
    "* [Statistical Debugging](StatisticalDebugger.ipynb)\n",
    "\n",
    "### [Appendices](99_Appendices.ipynb)\n",
    "\n",
    "* [Error Handling](ExpectError.ipynb)\n",
    "* [Timer](Timer.ipynb)\n",
    "* [Class Diagrams](ClassDiagram.ipynb)\n",
    "* [Control Flow Graph](ControlFlow.ipynb)\n",
    "* [Railroad Diagrams](RailroadDiagrams.ipynb)\n"
   ]
  }
 ],
 "metadata": {
  "ipub": {
   "bibliography": "fuzzingbook.bib"
  },
  "kernelspec": {
   "display_name": "Python 3",
   "language": "python",
   "name": "python3"
  },
  "language_info": {
   "codemirror_mode": {
    "name": "ipython",
    "version": 3
   },
   "file_extension": ".py",
   "mimetype": "text/x-python",
   "name": "python",
   "nbconvert_exporter": "python",
   "pygments_lexer": "ipython3",
   "version": "3.6.10"
  },
  "toc": {
   "base_numbering": 1,
   "nav_menu": {},
   "number_sections": true,
   "sideBar": true,
   "skip_h1_title": true,
   "title_cell": "",
   "title_sidebar": "Contents",
   "toc_cell": false,
   "toc_position": {},
   "toc_section_display": true,
   "toc_window_display": true
  },
  "toc-autonumbering": false
 },
 "nbformat": 4,
 "nbformat_minor": 4
}
