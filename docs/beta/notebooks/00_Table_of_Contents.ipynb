{
 "cells": [
  {
   "cell_type": "markdown",
   "metadata": {},
   "source": [
    "# The Debugging Book"
   ]
  },
  {
   "cell_type": "markdown",
   "metadata": {},
   "source": [
    "## Sitemap\n",
    "This sitemap shows possible paths through the book chapters.  An arrow $A \\rightarrow B$ means that chapter $A$ is a prerequisite for chapter $B$."
   ]
  },
  {
   "cell_type": "code",
   "execution_count": 1,
   "metadata": {},
   "outputs": [],
   "source": [
    "from IPython.display import SVG"
   ]
  },
  {
   "cell_type": "code",
   "execution_count": 2,
   "metadata": {},
   "outputs": [
    {
     "data": {
      "image/svg+xml": [
       "<svg height=\"116pt\" viewBox=\"0.00 0.00 188.00 116.00\" width=\"188pt\" xmlns=\"http://www.w3.org/2000/svg\" xmlns:xlink=\"http://www.w3.org/1999/xlink\">\n",
       "<g class=\"graph\" id=\"graph0\" transform=\"scale(1 1) rotate(0) translate(4 112)\">\n",
       "<title>%3</title>\n",
       "<polygon fill=\"#ffffff\" points=\"-4,4 -4,-112 184,-112 184,4 -4,4\" stroke=\"transparent\"/>\n",
       "<!-- Tracer -->\n",
       "<g class=\"node\" id=\"node1\">\n",
       "<title>Tracer</title>\n",
       "<g id=\"a_node1\"><a xlink:href=\"Tracer.ipynb\" xlink:title=\"Tracer\">\n",
       "<polygon fill=\"#ffffff\" points=\"151,-36 23,-36 23,0 157,0 157,-30 151,-36\" stroke=\"#000000\"/>\n",
       "<polyline fill=\"none\" points=\"151,-36 151,-30 \" stroke=\"#000000\"/>\n",
       "<polyline fill=\"none\" points=\"157,-30 151,-30 \" stroke=\"#000000\"/>\n",
       "<text fill=\"#b03a2e\" font-family=\"Patua One\" font-size=\"14.00\" text-anchor=\"middle\" x=\"90\" y=\"-14.3\">Tracing Executions</text>\n",
       "</a>\n",
       "</g>\n",
       "</g>\n",
       "<!-- Intro_Debugging -->\n",
       "<g class=\"node\" id=\"node2\">\n",
       "<title>Intro_Debugging</title>\n",
       "<g id=\"a_node2\"><a xlink:href=\"Intro_Debugging.ipynb\" xlink:title=\"Intro_Debugging\">\n",
       "<polygon fill=\"#ffffff\" points=\"174,-108 0,-108 0,-72 180,-72 180,-102 174,-108\" stroke=\"#000000\"/>\n",
       "<polyline fill=\"none\" points=\"174,-108 174,-102 \" stroke=\"#000000\"/>\n",
       "<polyline fill=\"none\" points=\"180,-102 174,-102 \" stroke=\"#000000\"/>\n",
       "<text fill=\"#b03a2e\" font-family=\"Patua One\" font-size=\"14.00\" text-anchor=\"middle\" x=\"90\" y=\"-86.3\">Introduction to Debugging</text>\n",
       "</a>\n",
       "</g>\n",
       "</g>\n",
       "<!-- Intro_Debugging&#45;&gt;Tracer -->\n",
       "<g class=\"edge\" id=\"edge1\">\n",
       "<title>Intro_Debugging-&gt;Tracer</title>\n",
       "<path d=\"M90,-71.8314C90,-64.131 90,-54.9743 90,-46.4166\" fill=\"none\" stroke=\"#000000\"/>\n",
       "<polygon fill=\"#000000\" points=\"93.5001,-46.4132 90,-36.4133 86.5001,-46.4133 93.5001,-46.4132\" stroke=\"#000000\"/>\n",
       "</g>\n",
       "</g>\n",
       "</svg>"
      ],
      "text/plain": [
       "<IPython.core.display.SVG object>"
      ]
     },
     "execution_count": 2,
     "metadata": {},
     "output_type": "execute_result"
    }
   ],
   "source": [
    "SVG(filename='PICS/Sitemap.svg')"
   ]
  },
  {
   "cell_type": "markdown",
   "metadata": {},
   "source": [
    "## [Table of Contents](index.ipynb)\n",
    "\n",
    "\n",
    "### [Part I: Whetting Your Appetite](01_Intro.ipynb)\n",
    "\n",
    "* [Tours through the Book](Tours.ipynb)\n",
    "* [Introduction to Debugging](Intro_Debugging.ipynb)\n",
    "\n",
    "### [Part III: Observing Executions](03_Observing.ipynb)\n",
    "\n",
    "* [Tracing Executions](Tracer.ipynb)\n",
    "\n",
    "### [Appendices](99_Appendices.ipynb)\n",
    "\n",
    "* [Error Handling](ExpectError.ipynb)\n",
    "* [Timer](Timer.ipynb)\n",
    "* [Control Flow Graph](ControlFlow.ipynb)\n",
    "* [Railroad Diagrams](RailroadDiagrams.ipynb)\n"
   ]
  }
 ],
 "metadata": {
  "ipub": {
   "bibliography": "fuzzingbook.bib"
  },
  "kernelspec": {
   "display_name": "Python 3",
   "language": "python",
   "name": "python3"
  },
  "language_info": {
   "codemirror_mode": {
    "name": "ipython",
    "version": 3
   },
   "file_extension": ".py",
   "mimetype": "text/x-python",
   "name": "python",
   "nbconvert_exporter": "python",
   "pygments_lexer": "ipython3",
   "version": "3.6.8"
  },
  "toc": {
   "base_numbering": 1,
   "nav_menu": {},
   "number_sections": true,
   "sideBar": true,
   "skip_h1_title": true,
   "title_cell": "",
   "title_sidebar": "Contents",
   "toc_cell": false,
   "toc_position": {},
   "toc_section_display": true,
   "toc_window_display": true
  },
  "toc-autonumbering": false
 },
 "nbformat": 4,
 "nbformat_minor": 2
}
