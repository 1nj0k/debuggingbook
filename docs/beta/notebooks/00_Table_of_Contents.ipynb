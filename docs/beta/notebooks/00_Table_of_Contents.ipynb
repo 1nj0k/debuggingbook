{
 "cells": [
  {
   "cell_type": "markdown",
   "id": "brutal-screw",
   "metadata": {},
   "source": [
    "# The Debugging Book"
   ]
  },
  {
   "cell_type": "markdown",
   "id": "contemporary-bachelor",
   "metadata": {},
   "source": [
    "## Sitemap\n",
    "While the chapters of this book can be read one after the other, there are many possible paths through the book. In this graph, an arrow $A \\rightarrow B$ means that chapter $A$ is a prerequisite for chapter $B$. You can pick arbitrary paths in this graph to get to the topics that interest you most:\n"
   ]
  },
  {
   "cell_type": "code",
   "execution_count": 1,
   "id": "heated-mattress",
   "metadata": {
    "execution": {
     "iopub.execute_input": "2021-03-12T01:49:37.348210Z",
     "iopub.status.busy": "2021-03-12T01:49:37.347602Z",
     "iopub.status.idle": "2021-03-12T01:49:37.349624Z",
     "shell.execute_reply": "2021-03-12T01:49:37.350098Z"
    }
   },
   "outputs": [],
   "source": [
    "# ignore\n",
    "from IPython.display import SVG"
   ]
  },
  {
   "cell_type": "code",
   "execution_count": 2,
   "id": "designed-replica",
   "metadata": {
    "execution": {
     "iopub.execute_input": "2021-03-12T01:49:37.353839Z",
     "iopub.status.busy": "2021-03-12T01:49:37.353127Z",
     "iopub.status.idle": "2021-03-12T01:49:37.364226Z",
     "shell.execute_reply": "2021-03-12T01:49:37.364749Z"
    }
   },
   "outputs": [
    {
     "data": {
      "image/svg+xml": [
       "<svg height=\"190pt\" viewBox=\"0.00 0.00 169.00 190.00\" width=\"169pt\" xmlns=\"http://www.w3.org/2000/svg\" xmlns:xlink=\"http://www.w3.org/1999/xlink\">\n",
       "<g class=\"graph\" id=\"graph0\" transform=\"scale(1 1) rotate(0) translate(4 186)\">\n",
       "<title>%3</title>\n",
       "<polygon fill=\"#ffffff\" points=\"-4,4 -4,-186 165,-186 165,4 -4,4\" stroke=\"transparent\"/>\n",
       "<!-- Tracer -->\n",
       "<g class=\"node\" id=\"node1\">\n",
       "<title>Tracer</title>\n",
       "<g id=\"a_node1\"><a xlink:href=\"Tracer.ipynb\" xlink:title=\"Tracing Executions (Tracer)\n",
       "\n",
       "In this chapter, we show how to observe program state during an execution – a prerequisite for logging and interactive debugging. Thanks to the power of Python, we can do this in a few lines of code.\">\n",
       "<polygon fill=\"#ffffff\" points=\"144.5,-108 10.5,-108 10.5,-72 150.5,-72 150.5,-102 144.5,-108\" stroke=\"#000000\"/>\n",
       "<polyline fill=\"none\" points=\"144.5,-108 144.5,-102 \" stroke=\"#000000\"/>\n",
       "<polyline fill=\"none\" points=\"150.5,-102 144.5,-102 \" stroke=\"#000000\"/>\n",
       "<text fill=\"#6a0dad\" font-family=\"Raleway, Helvetica, Arial, sans-serif\" font-size=\"14.00\" text-anchor=\"middle\" x=\"80.5\" y=\"-86.3\">Tracing Executions</text>\n",
       "</a>\n",
       "</g>\n",
       "</g>\n",
       "<!-- Debugger -->\n",
       "<g class=\"node\" id=\"node2\">\n",
       "<title>Debugger</title>\n",
       "<g id=\"a_node2\"><a xlink:href=\"Debugger.ipynb\" xlink:title=\"How Debuggers Work (Debugger)\n",
       "\n",
       "Interactive debuggers are tools that allow you to selectively observe the program state during an execution.  In this chapter, you will learn how such debuggers work – by building your own debugger.\">\n",
       "<polygon fill=\"#ffffff\" points=\"155,-36 0,-36 0,0 161,0 161,-30 155,-36\" stroke=\"#000000\"/>\n",
       "<polyline fill=\"none\" points=\"155,-36 155,-30 \" stroke=\"#000000\"/>\n",
       "<polyline fill=\"none\" points=\"161,-30 155,-30 \" stroke=\"#000000\"/>\n",
       "<text fill=\"#6a0dad\" font-family=\"Raleway, Helvetica, Arial, sans-serif\" font-size=\"14.00\" text-anchor=\"middle\" x=\"80.5\" y=\"-14.3\">How Debuggers Work</text>\n",
       "</a>\n",
       "</g>\n",
       "</g>\n",
       "<!-- Tracer&#45;&gt;Debugger -->\n",
       "<g class=\"edge\" id=\"edge1\">\n",
       "<title>Tracer-&gt;Debugger</title>\n",
       "<path d=\"M80.5,-71.8314C80.5,-64.131 80.5,-54.9743 80.5,-46.4166\" fill=\"none\" stroke=\"#000000\"/>\n",
       "<polygon fill=\"#000000\" points=\"84.0001,-46.4132 80.5,-36.4133 77.0001,-46.4133 84.0001,-46.4132\" stroke=\"#000000\"/>\n",
       "</g>\n",
       "<!-- Intro_Debugging -->\n",
       "<g class=\"node\" id=\"node3\">\n",
       "<title>Intro_Debugging</title>\n",
       "<g id=\"a_node3\"><a xlink:href=\"Intro_Debugging.ipynb\" xlink:title=\"Introduction to Debugging (Intro_Debugging)\n",
       "\n",
       "In this book, we want to explore debugging - the art and science of fixing bugs in computer software. In particular, we want to explore techniques that automatically answer questions like: Where is the bug? When does it occur? And how can we repair it? But before we start automating the debugging process, we first need to understand what this process is.\">\n",
       "<polygon fill=\"#ffffff\" points=\"130.5,-182 24.5,-182 24.5,-144 136.5,-144 136.5,-176 130.5,-182\" stroke=\"#000000\"/>\n",
       "<polyline fill=\"none\" points=\"130.5,-182 130.5,-176 \" stroke=\"#000000\"/>\n",
       "<polyline fill=\"none\" points=\"136.5,-176 130.5,-176 \" stroke=\"#000000\"/>\n",
       "<text fill=\"#6a0dad\" font-family=\"Raleway, Helvetica, Arial, sans-serif\" font-size=\"14.00\" text-anchor=\"middle\" x=\"80.5\" y=\"-166.8\">Introduction to</text>\n",
       "<text fill=\"#6a0dad\" font-family=\"Raleway, Helvetica, Arial, sans-serif\" font-size=\"14.00\" text-anchor=\"middle\" x=\"80.5\" y=\"-151.8\">Debugging</text>\n",
       "</a>\n",
       "</g>\n",
       "</g>\n",
       "<!-- Intro_Debugging&#45;&gt;Tracer -->\n",
       "<g class=\"edge\" id=\"edge2\">\n",
       "<title>Intro_Debugging-&gt;Tracer</title>\n",
       "<path d=\"M80.5,-143.8201C80.5,-136.0975 80.5,-127.0282 80.5,-118.5585\" fill=\"none\" stroke=\"#000000\"/>\n",
       "<polygon fill=\"#000000\" points=\"84.0001,-118.2973 80.5,-108.2973 77.0001,-118.2974 84.0001,-118.2973\" stroke=\"#000000\"/>\n",
       "</g>\n",
       "</g>\n",
       "</svg>"
      ],
      "text/plain": [
       "<IPython.core.display.SVG object>"
      ]
     },
     "execution_count": 1,
     "metadata": {},
     "output_type": "execute_result"
    }
   ],
   "source": [
    "# ignore\n",
    "SVG(filename='PICS/Sitemap.svg')"
   ]
  },
  {
   "cell_type": "markdown",
   "id": "plastic-ribbon",
   "metadata": {},
   "source": [
    "## [Table of Contents](index.ipynb)\n",
    "\n",
    "\n",
    "### <a href=\"01_Intro.ipynb\" title=\"Part I: Whetting Your Appetite (01_Intro)&#10;&#10;In this part, we introduce the topics of the book.\">Part I: Whetting Your Appetite</a>\n",
    "\n",
    "* <a href=\"Tours.ipynb\" title=\"Tours through the Book (Tours)&#10;&#10;\">Tours through the Book</a>\n",
    "* <a href=\"Intro_Debugging.ipynb\" title=\"Introduction to Debugging (Intro_Debugging)&#10;&#10;In this book, we want to explore debugging - the art and science of fixing bugs in computer software. In particular, we want to explore techniques that automatically answer questions like: Where is the bug? When does it occur? And how can we repair it? But before we start automating the debugging process, we first need to understand what this process is.\">Introduction to Debugging</a>\n",
    "\n",
    "### <a href=\"02_Observing.ipynb\" title=\"Part II: Observing Executions (02_Observing)&#10;&#10;In this part, we show how to observe executions – by tracing, by interactively debugging, and more.\">Part II: Observing Executions</a>\n",
    "\n",
    "* <a href=\"Tracer.ipynb\" title=\"Tracing Executions (Tracer)&#10;&#10;In this chapter, we show how to observe program state during an execution – a prerequisite for logging and interactive debugging. Thanks to the power of Python, we can do this in a few lines of code.\">Tracing Executions</a>\n",
    "* <a href=\"Debugger.ipynb\" title=\"How Debuggers Work (Debugger)&#10;&#10;Interactive debuggers are tools that allow you to selectively observe the program state during an execution.  In this chapter, you will learn how such debuggers work – by building your own debugger.\">How Debuggers Work</a>\n",
    "* <a href=\"Assertions.ipynb\" title=\"Asserting Expectations (Assertions)&#10;&#10;In the previous chapters on tracing and interactive debugging, we have seen how to observe executions. By checking our observations against our expectations, we can find out when and how the program state is faulty. So far, we have assumed that this check would be done by humans – that is, us. However, having this check done by a computer, for instance as part of the execution, is infinitely more rigorous and efficient. In this chapter, we introduce techniques to specify our expectations and to check them at runtime, enabling us to detect faults right as they occur.\">Asserting Expectations</a>\n",
    "* <a href=\"PerformanceDebugger.ipynb\" title=\"Debugging Performance Issues (PerformanceDebugger)&#10;&#10;Brief abstract/introduction/motivation.  State what the chapter is about in 1-2 paragraphs.&#10;Then, have an introduction video:\">Debugging Performance Issues</a>\n",
    "\n",
    "### <a href=\"03_Dependencies.ipynb\" title=\"Part III: Flows and Dependencies (03_Dependencies)&#10;&#10;In this part, we show how to follow where specific (faulty) values come from, and why they came to be.\">Part III: Flows and Dependencies</a>\n",
    "\n",
    "* <a href=\"Slicer.ipynb\" title=\"Tracking Failure Origins (Slicer)&#10;&#10;The question of &quot;Where does this value come from?&quot; is fundamental for debugging. Which earlier variables could possibly have influenced the current erroneous state? And how did their values come to be?\">Tracking Failure Origins</a>\n",
    "\n",
    "### <a href=\"04_Reducing.ipynb\" title=\"Part IV: Reducing Failure Causes (04_Reducing)&#10;&#10;In this part, we show how to narrow down failures by systematic experimentation.\">Part IV: Reducing Failure Causes</a>\n",
    "\n",
    "* <a href=\"DeltaDebugger.ipynb\" title=\"Reducing Failure-Inducing Inputs (DeltaDebugger)&#10;&#10;A standard problem in debugging is this: Your program fails after processing some large input. Only a part of this input, however, is responsible for the failure. Reducing the input to a failure-inducing minimum not only eases debugging – it also helps in understanding why and when the program fails. In this chapter, we present techniques that automatically reduce and simplify failure-inducing inputs to a minimum, notably the popular Delta Debugging technique.\">Reducing Failure-Inducing Inputs</a>\n",
    "* <a href=\"ChangeDebugger.ipynb\" title=\"Isolating Failure-Inducing Changes (ChangeDebugger)&#10;&#10;&quot;Yesterday, my program worked. Today, it does not. Why?&quot; In debugging, as elsewhere in software development, code keeps on changing. Thus, it can happen that a piece of code that yesterday was working perfectly, today no longer runs – because we (or others) have made some changes to it that cause it to fail. The good news is that for debugging, we can actually exploit this version history to narrow down the changes that caused the failure – be it by us or by others.\">Isolating Failure-Inducing Changes</a>\n",
    "* <a href=\"ThreadDebugger.ipynb\" title=\"Debugging Concurrent Programs (ThreadDebugger)&#10;&#10;Brief abstract/introduction/motivation.  State what the chapter is about in 1-2 paragraphs.&#10;Then, have an introduction video:\">Debugging Concurrent Programs</a>\n",
    "\n",
    "### <a href=\"05_Abstracting.ipynb\" title=\"Part V: Abstracting Failures (05_Abstracting)&#10;&#10;In this part, we show how to determine abstract failure conditions.\">Part V: Abstracting Failures</a>\n",
    "\n",
    "* <a href=\"StatisticalDebugger.ipynb\" title=\"Statistical Debugging (StatisticalDebugger)&#10;&#10;In this chapter, we introduce statistical debugging – the idea that specific events during execution could be statistically correlated with failures. We start with coverage of individual lines and then proceed towards further execution features.\">Statistical Debugging</a>\n",
    "* <a href=\"DynamicInvariants.ipynb\" title=\"Mining Function Specifications (DynamicInvariants)&#10;&#10;In the chapter on assertions, we have seen how important it is to check whether the result is as expected.  In this chapter, we introduce a technique that allows us to mine function specifications from a set of given executions, resulting in abstract and formal descriptions of what the function expects and what it delivers.\">Mining Function Specifications</a>\n",
    "* <a href=\"DDSetDebugger.ipynb\" title=\"Generalizing Failure Circumstances (DDSetDebugger)&#10;&#10;One central question in debugging is: Does this bug occur in other situations, too? In this chapter, we present a technique that is set to generalize the circumstances under which a failure occurs. The DDSET algorithm takes a failure-inducing input, breaks it into individual elements. For each element, it tries to find whether it can be replaced by others in the same category, and if so, it generalizes the concrete element to the very category. The result is a pattern that characterizes the failure condition: &quot;The failure occurs for all inputs of the form (&lt;expr&gt; * &lt;expr&gt;).\">Generalizing Failure Circumstances</a>\n",
    "\n",
    "### <a href=\"06_Repairing.ipynb\" title=\"Part VI: Automatic Repair (06_Repairing)&#10;&#10;In this part, we show how to automatically repair code.\">Part VI: Automatic Repair</a>\n",
    "\n",
    "* <a href=\"Repairer.ipynb\" title=\"Repairing Code Automatically (Repairer)&#10;&#10;So far, we have discussed how to track failures and how to locate defects in code. Let us now discuss how to repair defects – that is, to correct the code such that the failure no longer occurs. We will discuss how to repair code automatically – by systematically searching through possible fixes and evolving the most promising candidates.\">Repairing Code Automatically</a>\n",
    "\n",
    "### <a href=\"07_In_the_Large.ipynb\" title=\"Part VII: Debugging in the Large (07_In_the_Large)&#10;&#10;In this part, we show how to track failures, changes, and fixes.\">Part VII: Debugging in the Large</a>\n",
    "\n",
    "* <a href=\"Tracking.ipynb\" title=\"Tracking Bugs (Tracking)&#10;&#10;So far, we have assumed that failures would be discovered and fixed by a single programmer during development. But what if the user who discovers a bug is different from the developer who eventually fixes it? In this case, users have to report bugs, and one needs to ensure that reported bugs are systematically tracked. This is the job of dedicated bug tracking systems, which we will discuss (and demo) in this chapter.\">Tracking Bugs</a>\n",
    "* <a href=\"ChangeCounter.ipynb\" title=\"Where the Bugs are (ChangeCounter)&#10;&#10;Every time a bug is fixed, developers leave a trace – in the version database when they commit the fix, or in the bug database when they close the bug. In this chapter, we learn how to mine these repositories for past changes and bugs, and how to map them to individual modules and functions, highlighting those project components that have seen most changes and fixes over time.\">Where the Bugs are</a>\n",
    "\n",
    "### <a href=\"99_Appendices.ipynb\" title=\"Appendices (99_Appendices)&#10;&#10;This part holds notebooks and modules that support other notebooks.\">Appendices</a>\n",
    "\n",
    "* <a href=\"ExpectError.ipynb\" title=\"Error Handling (ExpectError)&#10;&#10;The code in this notebook helps with handling errors.  Normally, an error in  notebook code causes the execution of the code to stop; while an infinite loop in notebook code causes the notebook to run without end.  This notebook provides two classes to help address these concerns.\">Error Handling</a>\n",
    "* <a href=\"Timer.ipynb\" title=\"Timer (Timer)&#10;&#10;The code in this notebook helps with measuring time.\">Timer</a>\n",
    "* <a href=\"ClassDiagram.ipynb\" title=\"Class Diagrams (ClassDiagram)&#10;&#10;This is a simple viewer for class diagrams.  Customized towards the book.\">Class Diagrams</a>\n",
    "* <a href=\"StackInspector.ipynb\" title=\"Inspecting Call Stacks (StackInspector)&#10;&#10;In this book, for many purposes, we need to lookup a function&#x27;s location, source code, or simply definition. The class StackInspector provides a number of convenience methods for this purpose.\">Inspecting Call Stacks</a>\n"
   ]
  }
 ],
 "metadata": {
  "ipub": {
   "bibliography": "fuzzingbook.bib"
  },
  "kernelspec": {
   "display_name": "Python 3",
   "language": "python",
   "name": "python3"
  },
  "language_info": {
   "codemirror_mode": {
    "name": "ipython",
    "version": 3
   },
   "file_extension": ".py",
   "mimetype": "text/x-python",
   "name": "python",
   "nbconvert_exporter": "python",
   "pygments_lexer": "ipython3",
   "version": "3.6.10"
  },
  "toc": {
   "base_numbering": 1,
   "nav_menu": {},
   "number_sections": true,
   "sideBar": true,
   "skip_h1_title": true,
   "title_cell": "",
   "title_sidebar": "Contents",
   "toc_cell": false,
   "toc_position": {},
   "toc_section_display": true,
   "toc_window_display": true
  },
  "toc-autonumbering": false
 },
 "nbformat": 4,
 "nbformat_minor": 5
}
