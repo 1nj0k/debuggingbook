{
 "cells": [
  {
   "cell_type": "markdown",
   "metadata": {},
   "source": [
    "# The Debugging Book"
   ]
  },
  {
   "cell_type": "markdown",
   "metadata": {},
   "source": [
    "## Sitemap\n",
    "This sitemap shows possible paths through the book chapters.  An arrow $A \\rightarrow B$ means that chapter $A$ is a prerequisite for chapter $B$."
   ]
  },
  {
   "cell_type": "code",
   "execution_count": 1,
   "metadata": {},
   "outputs": [],
   "source": [
    "from IPython.display import SVG"
   ]
  },
  {
   "cell_type": "code",
   "execution_count": 2,
   "metadata": {},
   "outputs": [
    {
     "data": {
      "image/svg+xml": [
       "<svg height=\"260pt\" viewBox=\"0.00 0.00 525.00 260.00\" width=\"525pt\" xmlns=\"http://www.w3.org/2000/svg\" xmlns:xlink=\"http://www.w3.org/1999/xlink\">\n",
       "<g class=\"graph\" id=\"graph0\" transform=\"scale(1 1) rotate(0) translate(4 256)\">\n",
       "<title>%3</title>\n",
       "<polygon fill=\"#ffffff\" points=\"-4,4 -4,-256 521,-256 521,4 -4,4\" stroke=\"transparent\"/>\n",
       "<!-- Tracer -->\n",
       "<g class=\"node\" id=\"node1\">\n",
       "<title>Tracer</title>\n",
       "<g id=\"a_node1\"><a xlink:href=\"Tracer.ipynb\" xlink:title=\"Tracer\">\n",
       "<polygon fill=\"#ffffff\" points=\"325.5,-180 191.5,-180 191.5,-144 331.5,-144 331.5,-174 325.5,-180\" stroke=\"#000000\"/>\n",
       "<polyline fill=\"none\" points=\"325.5,-180 325.5,-174 \" stroke=\"#000000\"/>\n",
       "<polyline fill=\"none\" points=\"331.5,-174 325.5,-174 \" stroke=\"#000000\"/>\n",
       "<text fill=\"#a020f0\" font-family=\"Raleway\" font-size=\"14.00\" text-anchor=\"middle\" x=\"261.5\" y=\"-158.3\">Tracing Executions</text>\n",
       "</a>\n",
       "</g>\n",
       "</g>\n",
       "<!-- Debugger -->\n",
       "<g class=\"node\" id=\"node2\">\n",
       "<title>Debugger</title>\n",
       "<g id=\"a_node2\"><a xlink:href=\"Debugger.ipynb\" xlink:title=\"Debugger\">\n",
       "<polygon fill=\"#ffffff\" points=\"155,-108 0,-108 0,-72 161,-72 161,-102 155,-108\" stroke=\"#000000\"/>\n",
       "<polyline fill=\"none\" points=\"155,-108 155,-102 \" stroke=\"#000000\"/>\n",
       "<polyline fill=\"none\" points=\"161,-102 155,-102 \" stroke=\"#000000\"/>\n",
       "<text fill=\"#a020f0\" font-family=\"Raleway\" font-size=\"14.00\" text-anchor=\"middle\" x=\"80.5\" y=\"-86.3\">How Debuggers Work</text>\n",
       "</a>\n",
       "</g>\n",
       "</g>\n",
       "<!-- Tracer&#45;&gt;Debugger -->\n",
       "<g class=\"edge\" id=\"edge1\">\n",
       "<title>Tracer-&gt;Debugger</title>\n",
       "<path d=\"M215.8261,-143.8314C191.4032,-134.1162 161.1534,-122.0831 135.4516,-111.8592\" fill=\"none\" stroke=\"#000000\"/>\n",
       "<polygon fill=\"#000000\" points=\"136.431,-108.4821 125.8455,-108.038 133.8437,-114.9864 136.431,-108.4821\" stroke=\"#000000\"/>\n",
       "</g>\n",
       "<!-- Assertions -->\n",
       "<g class=\"node\" id=\"node3\">\n",
       "<title>Assertions</title>\n",
       "<g id=\"a_node3\"><a xlink:href=\"Assertions.ipynb\" xlink:title=\"Assertions\">\n",
       "<polygon fill=\"#ffffff\" points=\"337.5,-108 179.5,-108 179.5,-72 343.5,-72 343.5,-102 337.5,-108\" stroke=\"#000000\"/>\n",
       "<polyline fill=\"none\" points=\"337.5,-108 337.5,-102 \" stroke=\"#000000\"/>\n",
       "<polyline fill=\"none\" points=\"343.5,-102 337.5,-102 \" stroke=\"#000000\"/>\n",
       "<text fill=\"#a020f0\" font-family=\"Raleway\" font-size=\"14.00\" text-anchor=\"middle\" x=\"261.5\" y=\"-86.3\">Asserting Expectations</text>\n",
       "</a>\n",
       "</g>\n",
       "</g>\n",
       "<!-- Tracer&#45;&gt;Assertions -->\n",
       "<g class=\"edge\" id=\"edge2\">\n",
       "<title>Tracer-&gt;Assertions</title>\n",
       "<path d=\"M261.5,-143.8314C261.5,-136.131 261.5,-126.9743 261.5,-118.4166\" fill=\"none\" stroke=\"#000000\"/>\n",
       "<polygon fill=\"#000000\" points=\"265.0001,-118.4132 261.5,-108.4133 258.0001,-118.4133 265.0001,-118.4132\" stroke=\"#000000\"/>\n",
       "</g>\n",
       "<!-- StatisticalDebugger -->\n",
       "<g class=\"node\" id=\"node4\">\n",
       "<title>StatisticalDebugger</title>\n",
       "<g id=\"a_node4\"><a xlink:href=\"StatisticalDebugger.ipynb\" xlink:title=\"StatisticalDebugger\">\n",
       "<polygon fill=\"#ffffff\" points=\"511,-108 362,-108 362,-72 517,-72 517,-102 511,-108\" stroke=\"#000000\"/>\n",
       "<polyline fill=\"none\" points=\"511,-108 511,-102 \" stroke=\"#000000\"/>\n",
       "<polyline fill=\"none\" points=\"517,-102 511,-102 \" stroke=\"#000000\"/>\n",
       "<text fill=\"#a020f0\" font-family=\"Raleway\" font-size=\"14.00\" text-anchor=\"middle\" x=\"439.5\" y=\"-86.3\">Statistical Debugging</text>\n",
       "</a>\n",
       "</g>\n",
       "</g>\n",
       "<!-- Tracer&#45;&gt;StatisticalDebugger -->\n",
       "<g class=\"edge\" id=\"edge3\">\n",
       "<title>Tracer-&gt;StatisticalDebugger</title>\n",
       "<path d=\"M306.4169,-143.8314C330.435,-134.1162 360.1834,-122.0831 385.4592,-111.8592\" fill=\"none\" stroke=\"#000000\"/>\n",
       "<polygon fill=\"#000000\" points=\"386.9482,-115.0325 394.9061,-108.038 384.3233,-108.5432 386.9482,-115.0325\" stroke=\"#000000\"/>\n",
       "</g>\n",
       "<!-- DeltaDebugger -->\n",
       "<g class=\"node\" id=\"node6\">\n",
       "<title>DeltaDebugger</title>\n",
       "<g id=\"a_node6\"><a xlink:href=\"DeltaDebugger.ipynb\" xlink:title=\"DeltaDebugger\">\n",
       "<polygon fill=\"#ffffff\" points=\"280.5,-36 54.5,-36 54.5,0 286.5,0 286.5,-30 280.5,-36\" stroke=\"#000000\"/>\n",
       "<polyline fill=\"none\" points=\"280.5,-36 280.5,-30 \" stroke=\"#000000\"/>\n",
       "<polyline fill=\"none\" points=\"286.5,-30 280.5,-30 \" stroke=\"#000000\"/>\n",
       "<text fill=\"#a020f0\" font-family=\"Raleway\" font-size=\"14.00\" text-anchor=\"middle\" x=\"170.5\" y=\"-14.3\">Reducing Failure-Inducing Inputs</text>\n",
       "</a>\n",
       "</g>\n",
       "</g>\n",
       "<!-- Debugger&#45;&gt;DeltaDebugger -->\n",
       "<g class=\"edge\" id=\"edge5\">\n",
       "<title>Debugger-&gt;DeltaDebugger</title>\n",
       "<path d=\"M103.2108,-71.8314C114.296,-62.9632 127.7954,-52.1637 139.7852,-42.5718\" fill=\"none\" stroke=\"#000000\"/>\n",
       "<polygon fill=\"#000000\" points=\"142.1742,-45.1429 147.7965,-36.1628 137.8013,-39.6768 142.1742,-45.1429\" stroke=\"#000000\"/>\n",
       "</g>\n",
       "<!-- Assertions&#45;&gt;DeltaDebugger -->\n",
       "<g class=\"edge\" id=\"edge6\">\n",
       "<title>Assertions-&gt;DeltaDebugger</title>\n",
       "<path d=\"M238.5369,-71.8314C227.3285,-62.9632 213.6791,-52.1637 201.5561,-42.5718\" fill=\"none\" stroke=\"#000000\"/>\n",
       "<polygon fill=\"#000000\" points=\"203.4697,-39.6229 193.4558,-36.1628 199.1263,-45.1125 203.4697,-39.6229\" stroke=\"#000000\"/>\n",
       "</g>\n",
       "<!-- Intro_Debugging -->\n",
       "<g class=\"node\" id=\"node5\">\n",
       "<title>Intro_Debugging</title>\n",
       "<g id=\"a_node5\"><a xlink:href=\"Intro_Debugging.ipynb\" xlink:title=\"Intro_Debugging\">\n",
       "<polygon fill=\"#ffffff\" points=\"349.5,-252 167.5,-252 167.5,-216 355.5,-216 355.5,-246 349.5,-252\" stroke=\"#000000\"/>\n",
       "<polyline fill=\"none\" points=\"349.5,-252 349.5,-246 \" stroke=\"#000000\"/>\n",
       "<polyline fill=\"none\" points=\"355.5,-246 349.5,-246 \" stroke=\"#000000\"/>\n",
       "<text fill=\"#a020f0\" font-family=\"Raleway\" font-size=\"14.00\" text-anchor=\"middle\" x=\"261.5\" y=\"-230.3\">Introduction to Debugging</text>\n",
       "</a>\n",
       "</g>\n",
       "</g>\n",
       "<!-- Intro_Debugging&#45;&gt;Tracer -->\n",
       "<g class=\"edge\" id=\"edge4\">\n",
       "<title>Intro_Debugging-&gt;Tracer</title>\n",
       "<path d=\"M261.5,-215.8314C261.5,-208.131 261.5,-198.9743 261.5,-190.4166\" fill=\"none\" stroke=\"#000000\"/>\n",
       "<polygon fill=\"#000000\" points=\"265.0001,-190.4132 261.5,-180.4133 258.0001,-190.4133 265.0001,-190.4132\" stroke=\"#000000\"/>\n",
       "</g>\n",
       "</g>\n",
       "</svg>"
      ],
      "text/plain": [
       "<IPython.core.display.SVG object>"
      ]
     },
     "execution_count": 2,
     "metadata": {},
     "output_type": "execute_result"
    }
   ],
   "source": [
    "SVG(filename='PICS/Sitemap.svg')"
   ]
  },
  {
   "cell_type": "markdown",
   "metadata": {},
   "source": [
    "## [Table of Contents](index.ipynb)\n",
    "\n",
    "\n",
    "### [Part I: Whetting Your Appetite](01_Intro.ipynb)\n",
    "\n",
    "* [Tours through the Book](Tours.ipynb)\n",
    "* [Introduction to Debugging](Intro_Debugging.ipynb)\n",
    "\n",
    "### [Part III: Observing Executions](03_Observing.ipynb)\n",
    "\n",
    "* [Tracing Executions](Tracer.ipynb)\n",
    "* [How Debuggers Work](Debugger.ipynb)\n",
    "* [Asserting Expectations](Assertions.ipynb)\n",
    "* [Statistical Debugging](StatisticalDebugger.ipynb)\n",
    "\n",
    "### [Part IV: Automatic Experiments](04_Inputs.ipynb)\n",
    "\n",
    "* [Reducing Failure-Inducing Inputs](DeltaDebugger.ipynb)\n",
    "\n",
    "### [Appendices](99_Appendices.ipynb)\n",
    "\n",
    "* [Error Handling](ExpectError.ipynb)\n",
    "* [Timer](Timer.ipynb)\n",
    "* [Class Diagrams](ClassDiagram.ipynb)\n",
    "* [Control Flow Graph](ControlFlow.ipynb)\n",
    "* [Railroad Diagrams](RailroadDiagrams.ipynb)\n"
   ]
  }
 ],
 "metadata": {
  "ipub": {
   "bibliography": "fuzzingbook.bib"
  },
  "kernelspec": {
   "display_name": "Python 3",
   "language": "python",
   "name": "python3"
  },
  "language_info": {
   "codemirror_mode": {
    "name": "ipython",
    "version": 3
   },
   "file_extension": ".py",
   "mimetype": "text/x-python",
   "name": "python",
   "nbconvert_exporter": "python",
   "pygments_lexer": "ipython3",
   "version": "3.6.10"
  },
  "toc": {
   "base_numbering": 1,
   "nav_menu": {},
   "number_sections": true,
   "sideBar": true,
   "skip_h1_title": true,
   "title_cell": "",
   "title_sidebar": "Contents",
   "toc_cell": false,
   "toc_position": {},
   "toc_section_display": true,
   "toc_window_display": true
  },
  "toc-autonumbering": false
 },
 "nbformat": 4,
 "nbformat_minor": 4
}
