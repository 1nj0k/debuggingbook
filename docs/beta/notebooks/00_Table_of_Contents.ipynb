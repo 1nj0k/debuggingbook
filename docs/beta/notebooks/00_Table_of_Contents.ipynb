{
 "cells": [
  {
   "cell_type": "markdown",
   "metadata": {},
   "source": [
    "# The Debugging Book"
   ]
  },
  {
   "cell_type": "markdown",
   "metadata": {},
   "source": [
    "## Sitemap\n",
    "This sitemap shows possible paths through the book chapters.  An arrow $A \\rightarrow B$ means that chapter $A$ is a prerequisite for chapter $B$."
   ]
  },
  {
   "cell_type": "code",
   "execution_count": 1,
   "metadata": {},
   "outputs": [],
   "source": [
    "# ignore\n",
    "from IPython.display import SVG"
   ]
  },
  {
   "cell_type": "code",
   "execution_count": 2,
   "metadata": {},
   "outputs": [
    {
     "data": {
      "image/svg+xml": [
       "<svg height=\"8pt\" viewBox=\"0.00 0.00 8.00 8.00\" width=\"8pt\" xmlns=\"http://www.w3.org/2000/svg\" xmlns:xlink=\"http://www.w3.org/1999/xlink\">\n",
       "<g class=\"graph\" id=\"graph0\" transform=\"scale(1 1) rotate(0) translate(4 4)\">\n",
       "<title>%3</title>\n",
       "<polygon fill=\"#ffffff\" points=\"-4,4 -4,-4 4,-4 4,4 -4,4\" stroke=\"transparent\"/>\n",
       "</g>\n",
       "</svg>"
      ],
      "text/plain": [
       "<IPython.core.display.SVG object>"
      ]
     },
     "execution_count": 2,
     "metadata": {},
     "output_type": "execute_result"
    }
   ],
   "source": [
    "# ignore\n",
    "SVG(filename='PICS/Sitemap.svg')"
   ]
  },
  {
   "cell_type": "markdown",
   "metadata": {},
   "source": [
    "## [Table of Contents](index.ipynb)\n",
    "\n",
    "\n",
    "### [Part I: Whetting Your Appetite](01_Intro.ipynb)\n",
    "\n",
    "* [Tours through the Book](Tours.ipynb)\n",
    "* [Introduction to Debugging](Intro_Debugging.ipynb)\n",
    "\n",
    "### [Part II: Observing Executions](02_Observing.ipynb)\n",
    "\n",
    "* [Tracing Executions](Tracer.ipynb)\n",
    "* [How Debuggers Work](Debugger.ipynb)\n",
    "* [Asserting Expectations](Assertions.ipynb)\n",
    "\n",
    "### [Part III: Flows and Dependencies](03_Dependencies.ipynb)\n",
    "\n",
    "* [Tracking Failure Origins](Slicer.ipynb)\n",
    "\n",
    "### [Part IV: Reducing Failure Causes](04_Reducing.ipynb)\n",
    "\n",
    "* [Reducing Failure-Inducing Inputs](DeltaDebugger.ipynb)\n",
    "* [Isolating Failure-Inducing Changes](ChangeDebugger.ipynb)\n",
    "\n",
    "### [Part V: Abstracting Failures](05_Abstracting.ipynb)\n",
    "\n",
    "* [Statistical Debugging](StatisticalDebugger.ipynb)\n",
    "* [Mining Function Specifications](DynamicInvariants.ipynb)\n",
    "* [The Language of Failure](DDSet.ipynb)\n",
    "\n",
    "### [Part VI: Automatic Repair](06_Repairing.ipynb)\n",
    "\n",
    "* [Repairing Code Automatically](Repairer.ipynb)\n",
    "\n",
    "### [Part VII: Debugging in the Large](07_In_the_Large.ipynb)\n",
    "\n",
    "* [Tracking Bugs](Tracking.ipynb)\n",
    "* [Where the Bugs are](ChangeExplorer.ipynb)\n",
    "\n",
    "### [Appendices](99_Appendices.ipynb)\n",
    "\n",
    "* [Error Handling](ExpectError.ipynb)\n",
    "* [Timer](Timer.ipynb)\n",
    "* [Class Diagrams](ClassDiagram.ipynb)\n"
   ]
  }
 ],
 "metadata": {
  "ipub": {
   "bibliography": "fuzzingbook.bib"
  },
  "kernelspec": {
   "display_name": "Python 3",
   "language": "python",
   "name": "python3"
  },
  "language_info": {
   "codemirror_mode": {
    "name": "ipython",
    "version": 3
   },
   "file_extension": ".py",
   "mimetype": "text/x-python",
   "name": "python",
   "nbconvert_exporter": "python",
   "pygments_lexer": "ipython3",
   "version": "3.6.10"
  },
  "toc": {
   "base_numbering": 1,
   "nav_menu": {},
   "number_sections": true,
   "sideBar": true,
   "skip_h1_title": true,
   "title_cell": "",
   "title_sidebar": "Contents",
   "toc_cell": false,
   "toc_position": {},
   "toc_section_display": true,
   "toc_window_display": true
  },
  "toc-autonumbering": false
 },
 "nbformat": 4,
 "nbformat_minor": 4
}
