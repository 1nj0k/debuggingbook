{
 "cells": [
  {
   "cell_type": "markdown",
   "metadata": {
    "slideshow": {
     "slide_type": "slide"
    }
   },
   "source": [
    "# Second Project"
   ]
  },
  {
   "cell_type": "markdown",
   "metadata": {
    "slideshow": {
     "slide_type": "fragment"
    }
   },
   "source": [
    "In this project, you will implement a debugging reducer able to reduce a Python program containing a specific property down to a syntactically correct Python program that *only* contains said property.\n",
    "To do this, you will be given several Python parsers checking for specific properties as well as Python programs containing these properties.\n",
    "\n",
    "The time frame for this project is **2 weeks**, and the Deadline is **January 15th 23:59**."
   ]
  },
  {
   "cell_type": "code",
   "execution_count": 1,
   "metadata": {
    "execution": {
     "iopub.execute_input": "2024-11-09T16:29:20.075955Z",
     "iopub.status.busy": "2024-11-09T16:29:20.075851Z",
     "iopub.status.idle": "2024-11-09T16:29:20.152829Z",
     "shell.execute_reply": "2024-11-09T16:29:20.152470Z"
    },
    "jupyter": {
     "outputs_hidden": false
    },
    "pycharm": {
     "name": "#%%\n"
    },
    "slideshow": {
     "slide_type": "skip"
    }
   },
   "outputs": [],
   "source": [
    "import bookutils.setup"
   ]
  },
  {
   "cell_type": "code",
   "execution_count": 2,
   "metadata": {
    "execution": {
     "iopub.execute_input": "2024-11-09T16:29:20.154950Z",
     "iopub.status.busy": "2024-11-09T16:29:20.154806Z",
     "iopub.status.idle": "2024-11-09T16:29:20.156738Z",
     "shell.execute_reply": "2024-11-09T16:29:20.156386Z"
    },
    "pycharm": {
     "name": "#%%\n"
    },
    "slideshow": {
     "slide_type": "skip"
    }
   },
   "outputs": [],
   "source": [
    "import inspect\n",
    "import ast"
   ]
  },
  {
   "cell_type": "code",
   "execution_count": 3,
   "metadata": {
    "execution": {
     "iopub.execute_input": "2024-11-09T16:29:20.158549Z",
     "iopub.status.busy": "2024-11-09T16:29:20.158428Z",
     "iopub.status.idle": "2024-11-09T16:29:20.160233Z",
     "shell.execute_reply": "2024-11-09T16:29:20.159874Z"
    },
    "slideshow": {
     "slide_type": "skip"
    }
   },
   "outputs": [],
   "source": [
    "from bookutils import show_ast"
   ]
  },
  {
   "cell_type": "code",
   "execution_count": 4,
   "metadata": {
    "execution": {
     "iopub.execute_input": "2024-11-09T16:29:20.161924Z",
     "iopub.status.busy": "2024-11-09T16:29:20.161793Z",
     "iopub.status.idle": "2024-11-09T16:29:20.189552Z",
     "shell.execute_reply": "2024-11-09T16:29:20.189240Z"
    },
    "jupyter": {
     "outputs_hidden": false
    },
    "pycharm": {
     "name": "#%%\n"
    },
    "slideshow": {
     "slide_type": "skip"
    }
   },
   "outputs": [],
   "source": [
    "from ExpectError import ExpectError"
   ]
  },
  {
   "cell_type": "code",
   "execution_count": 5,
   "metadata": {
    "execution": {
     "iopub.execute_input": "2024-11-09T16:29:20.191809Z",
     "iopub.status.busy": "2024-11-09T16:29:20.191544Z",
     "iopub.status.idle": "2024-11-09T16:29:20.193521Z",
     "shell.execute_reply": "2024-11-09T16:29:20.193141Z"
    },
    "slideshow": {
     "slide_type": "fragment"
    }
   },
   "outputs": [],
   "source": [
    "# ignore\n",
    "from typing import Any, Optional, Set, cast"
   ]
  },
  {
   "cell_type": "markdown",
   "metadata": {
    "pycharm": {
     "name": "#%% md\n"
    },
    "slideshow": {
     "slide_type": "slide"
    }
   },
   "source": [
    "## Description\n",
    "\n",
    "Imagine we want to create a new compiler for Python programs which transforms the code into a binary executable.\n",
    "To this end, at first we need to implement a parser that parses a given program into a set of individual statements which can then be converted to the bytecode."
   ]
  },
  {
   "cell_type": "markdown",
   "metadata": {
    "pycharm": {
     "name": "#%% md\n"
    },
    "slideshow": {
     "slide_type": "subslide"
    }
   },
   "source": [
    "### Parsing Python  \n",
    "\n",
    "If we want to parse a programming language like Python, it makes sense to parse the code into an abstract syntax tree (AST) and work with the AST from this point onward.\n",
    "The reason we might want to do this, is to preserve the syntactic integrity of our program.\n",
    "Let's start with parsing a simple Python function (`foo`) into an AST using `ast.parse()` and printing it."
   ]
  },
  {
   "cell_type": "code",
   "execution_count": 6,
   "metadata": {
    "execution": {
     "iopub.execute_input": "2024-11-09T16:29:20.195386Z",
     "iopub.status.busy": "2024-11-09T16:29:20.195247Z",
     "iopub.status.idle": "2024-11-09T16:29:20.197351Z",
     "shell.execute_reply": "2024-11-09T16:29:20.196950Z"
    },
    "slideshow": {
     "slide_type": "subslide"
    }
   },
   "outputs": [],
   "source": [
    "def foo(a, b):    # type: ignore\n",
    "    \"\"\"\n",
    "    Checks whether a and b are true\n",
    "    \"\"\"\n",
    "    if a and b:\n",
    "        return 1\n",
    "    return 0"
   ]
  },
  {
   "cell_type": "markdown",
   "metadata": {
    "pycharm": {
     "name": "#%% md\n"
    },
    "slideshow": {
     "slide_type": "fragment"
    }
   },
   "source": [
    "We take a string representation of `foo()`..."
   ]
  },
  {
   "cell_type": "code",
   "execution_count": 7,
   "metadata": {
    "execution": {
     "iopub.execute_input": "2024-11-09T16:29:20.199290Z",
     "iopub.status.busy": "2024-11-09T16:29:20.199155Z",
     "iopub.status.idle": "2024-11-09T16:29:20.201290Z",
     "shell.execute_reply": "2024-11-09T16:29:20.200993Z"
    },
    "slideshow": {
     "slide_type": "fragment"
    }
   },
   "outputs": [],
   "source": [
    "source = inspect.getsource(foo)"
   ]
  },
  {
   "cell_type": "code",
   "execution_count": 8,
   "metadata": {
    "execution": {
     "iopub.execute_input": "2024-11-09T16:29:20.203107Z",
     "iopub.status.busy": "2024-11-09T16:29:20.202978Z",
     "iopub.status.idle": "2024-11-09T16:29:20.205003Z",
     "shell.execute_reply": "2024-11-09T16:29:20.204736Z"
    },
    "pycharm": {
     "name": "#%%\n"
    },
    "slideshow": {
     "slide_type": "subslide"
    }
   },
   "outputs": [
    {
     "name": "stdout",
     "output_type": "stream",
     "text": [
      "def foo(a, b):    # type: ignore\n",
      "    \"\"\"\n",
      "    Checks whether a and b are true\n",
      "    \"\"\"\n",
      "    if a and b:\n",
      "        return 1\n",
      "    return 0\n",
      "\n"
     ]
    }
   ],
   "source": [
    "print(source)"
   ]
  },
  {
   "cell_type": "markdown",
   "metadata": {
    "pycharm": {
     "name": "#%% md\n"
    },
    "slideshow": {
     "slide_type": "fragment"
    }
   },
   "source": [
    "...and convert it to the AST:"
   ]
  },
  {
   "cell_type": "code",
   "execution_count": 9,
   "metadata": {
    "execution": {
     "iopub.execute_input": "2024-11-09T16:29:20.226092Z",
     "iopub.status.busy": "2024-11-09T16:29:20.225934Z",
     "iopub.status.idle": "2024-11-09T16:29:20.722062Z",
     "shell.execute_reply": "2024-11-09T16:29:20.721702Z"
    },
    "jupyter": {
     "outputs_hidden": false
    },
    "pycharm": {
     "name": "#%%\n"
    },
    "slideshow": {
     "slide_type": "fragment"
    }
   },
   "outputs": [
    {
     "data": {
      "image/svg+xml": [
       "<svg xmlns=\"http://www.w3.org/2000/svg\" xmlns:xlink=\"http://www.w3.org/1999/xlink\" width=\"522pt\" height=\"404pt\" viewBox=\"0.00 0.00 522.00 404.00\">\n",
       "<g id=\"graph0\" class=\"graph\" transform=\"scale(1 1) rotate(0) translate(4 400)\">\n",
       "<polygon fill=\"white\" stroke=\"none\" points=\"-4,4 -4,-400 518,-400 518,4 -4,4\"/>\n",
       "<!-- 0 -->\n",
       "<g id=\"node1\" class=\"node\">\n",
       "<title>0</title>\n",
       "<text text-anchor=\"start\" x=\"186.25\" y=\"-373.95\" font-family=\"Courier,monospace\" font-weight=\"bold\" font-size=\"14.00\" fill=\"#004080\">Module</text>\n",
       "</g>\n",
       "<!-- 1 -->\n",
       "<g id=\"node2\" class=\"node\">\n",
       "<title>1</title>\n",
       "<text text-anchor=\"start\" x=\"165.62\" y=\"-301.95\" font-family=\"Courier,monospace\" font-weight=\"bold\" font-size=\"14.00\" fill=\"#004080\">FunctionDef</text>\n",
       "</g>\n",
       "<!-- 0&#45;&#45;1 -->\n",
       "<g id=\"edge1\" class=\"edge\">\n",
       "<title>0--1</title>\n",
       "<path fill=\"none\" stroke=\"black\" d=\"M211,-360.05C211,-349.05 211,-334.76 211,-323.79\"/>\n",
       "</g>\n",
       "<!-- 2 -->\n",
       "<g id=\"node3\" class=\"node\">\n",
       "<title>2</title>\n",
       "<text text-anchor=\"middle\" x=\"47\" y=\"-228.95\" font-family=\"Courier,monospace\" font-size=\"14.00\" fill=\"#008040\">&quot;foo&quot;</text>\n",
       "</g>\n",
       "<!-- 1&#45;&#45;2 -->\n",
       "<g id=\"edge2\" class=\"edge\">\n",
       "<title>1--2</title>\n",
       "<path fill=\"none\" stroke=\"black\" d=\"M209,-287C209,-287 138.83,-271.52 85,-252 81.87,-250.87 78.65,-249.59 75.45,-248.26\"/>\n",
       "</g>\n",
       "<!-- 3 -->\n",
       "<g id=\"node4\" class=\"node\">\n",
       "<title>3</title>\n",
       "<text text-anchor=\"start\" x=\"101.88\" y=\"-229.95\" font-family=\"Courier,monospace\" font-weight=\"bold\" font-size=\"14.00\" fill=\"#004080\">arguments</text>\n",
       "</g>\n",
       "<!-- 1&#45;&#45;3 -->\n",
       "<g id=\"edge3\" class=\"edge\">\n",
       "<title>1--3</title>\n",
       "<path fill=\"none\" stroke=\"black\" d=\"M209,-287C209,-287 182,-266.94 161.53,-251.74\"/>\n",
       "</g>\n",
       "<!-- 8 -->\n",
       "<g id=\"node9\" class=\"node\">\n",
       "<title>8</title>\n",
       "<text text-anchor=\"start\" x=\"234.75\" y=\"-229.95\" font-family=\"Courier,monospace\" font-weight=\"bold\" font-size=\"14.00\" fill=\"#004080\">If</text>\n",
       "</g>\n",
       "<!-- 1&#45;&#45;8 -->\n",
       "<g id=\"edge8\" class=\"edge\">\n",
       "<title>1--8</title>\n",
       "<path fill=\"none\" stroke=\"black\" d=\"M209,-287C209,-287 222.12,-266.94 232.06,-251.74\"/>\n",
       "</g>\n",
       "<!-- 20 -->\n",
       "<g id=\"node21\" class=\"node\">\n",
       "<title>20</title>\n",
       "<text text-anchor=\"start\" x=\"370.25\" y=\"-229.95\" font-family=\"Courier,monospace\" font-weight=\"bold\" font-size=\"14.00\" fill=\"#004080\">Return</text>\n",
       "</g>\n",
       "<!-- 1&#45;&#45;20 -->\n",
       "<g id=\"edge20\" class=\"edge\">\n",
       "<title>1--20</title>\n",
       "<path fill=\"none\" stroke=\"black\" d=\"M209,-287C209,-287 309.31,-258.96 362.6,-244.06\"/>\n",
       "</g>\n",
       "<!-- 4 -->\n",
       "<g id=\"node5\" class=\"node\">\n",
       "<title>4</title>\n",
       "<text text-anchor=\"start\" x=\"41.62\" y=\"-157.95\" font-family=\"Courier,monospace\" font-weight=\"bold\" font-size=\"14.00\" fill=\"#004080\">arg</text>\n",
       "</g>\n",
       "<!-- 3&#45;&#45;4 -->\n",
       "<g id=\"edge4\" class=\"edge\">\n",
       "<title>3--4</title>\n",
       "<path fill=\"none\" stroke=\"black\" d=\"M129,-215C129,-215 100.07,-194.94 78.14,-179.74\"/>\n",
       "</g>\n",
       "<!-- 6 -->\n",
       "<g id=\"node7\" class=\"node\">\n",
       "<title>6</title>\n",
       "<text text-anchor=\"start\" x=\"113.62\" y=\"-157.95\" font-family=\"Courier,monospace\" font-weight=\"bold\" font-size=\"14.00\" fill=\"#004080\">arg</text>\n",
       "</g>\n",
       "<!-- 3&#45;&#45;6 -->\n",
       "<g id=\"edge6\" class=\"edge\">\n",
       "<title>3--6</title>\n",
       "<path fill=\"none\" stroke=\"black\" d=\"M129,-215C129,-215 127.84,-194.94 126.97,-179.74\"/>\n",
       "</g>\n",
       "<!-- 5 -->\n",
       "<g id=\"node6\" class=\"node\">\n",
       "<title>5</title>\n",
       "<text text-anchor=\"middle\" x=\"27\" y=\"-84.95\" font-family=\"Courier,monospace\" font-size=\"14.00\" fill=\"#008040\">&quot;a&quot;</text>\n",
       "</g>\n",
       "<!-- 4&#45;&#45;5 -->\n",
       "<g id=\"edge5\" class=\"edge\">\n",
       "<title>4--5</title>\n",
       "<path fill=\"none\" stroke=\"black\" d=\"M47.46,-144.05C43.22,-133.05 37.71,-118.76 33.48,-107.79\"/>\n",
       "</g>\n",
       "<!-- 7 -->\n",
       "<g id=\"node8\" class=\"node\">\n",
       "<title>7</title>\n",
       "<text text-anchor=\"middle\" x=\"99\" y=\"-84.95\" font-family=\"Courier,monospace\" font-size=\"14.00\" fill=\"#008040\">&quot;b&quot;</text>\n",
       "</g>\n",
       "<!-- 6&#45;&#45;7 -->\n",
       "<g id=\"edge7\" class=\"edge\">\n",
       "<title>6--7</title>\n",
       "<path fill=\"none\" stroke=\"black\" d=\"M119.46,-144.05C115.22,-133.05 109.71,-118.76 105.48,-107.79\"/>\n",
       "</g>\n",
       "<!-- 9 -->\n",
       "<g id=\"node10\" class=\"node\">\n",
       "<title>9</title>\n",
       "<text text-anchor=\"start\" x=\"218.25\" y=\"-157.95\" font-family=\"Courier,monospace\" font-weight=\"bold\" font-size=\"14.00\" fill=\"#004080\">BoolOp</text>\n",
       "</g>\n",
       "<!-- 8&#45;&#45;9 -->\n",
       "<g id=\"edge9\" class=\"edge\">\n",
       "<title>8--9</title>\n",
       "<path fill=\"none\" stroke=\"black\" d=\"M253,-215C253,-215 249.14,-194.94 246.22,-179.74\"/>\n",
       "</g>\n",
       "<!-- 17 -->\n",
       "<g id=\"node18\" class=\"node\">\n",
       "<title>17</title>\n",
       "<text text-anchor=\"start\" x=\"336.25\" y=\"-157.95\" font-family=\"Courier,monospace\" font-weight=\"bold\" font-size=\"14.00\" fill=\"#004080\">Return</text>\n",
       "</g>\n",
       "<!-- 8&#45;&#45;17 -->\n",
       "<g id=\"edge17\" class=\"edge\">\n",
       "<title>8--17</title>\n",
       "<path fill=\"none\" stroke=\"black\" d=\"M253,-215C253,-215 296.52,-194.05 328.3,-178.74\"/>\n",
       "</g>\n",
       "<!-- 10 -->\n",
       "<g id=\"node11\" class=\"node\">\n",
       "<title>10</title>\n",
       "<text text-anchor=\"middle\" x=\"171\" y=\"-84.95\" font-family=\"Courier,monospace\" font-size=\"14.00\" fill=\"#008040\">And</text>\n",
       "</g>\n",
       "<!-- 9&#45;&#45;10 -->\n",
       "<g id=\"edge10\" class=\"edge\">\n",
       "<title>9--10</title>\n",
       "<path fill=\"none\" stroke=\"black\" d=\"M243,-143C243,-143 215.23,-122.94 194.18,-107.74\"/>\n",
       "</g>\n",
       "<!-- 11 -->\n",
       "<g id=\"node12\" class=\"node\">\n",
       "<title>11</title>\n",
       "<text text-anchor=\"start\" x=\"226.5\" y=\"-85.95\" font-family=\"Courier,monospace\" font-weight=\"bold\" font-size=\"14.00\" fill=\"#004080\">Name</text>\n",
       "</g>\n",
       "<!-- 9&#45;&#45;11 -->\n",
       "<g id=\"edge11\" class=\"edge\">\n",
       "<title>9--11</title>\n",
       "<path fill=\"none\" stroke=\"black\" d=\"M243,-143C243,-143 243,-122.94 243,-107.74\"/>\n",
       "</g>\n",
       "<!-- 14 -->\n",
       "<g id=\"node15\" class=\"node\">\n",
       "<title>14</title>\n",
       "<text text-anchor=\"start\" x=\"298.5\" y=\"-85.95\" font-family=\"Courier,monospace\" font-weight=\"bold\" font-size=\"14.00\" fill=\"#004080\">Name</text>\n",
       "</g>\n",
       "<!-- 9&#45;&#45;14 -->\n",
       "<g id=\"edge14\" class=\"edge\">\n",
       "<title>9--14</title>\n",
       "<path fill=\"none\" stroke=\"black\" d=\"M243,-143C243,-143 270.77,-122.94 291.82,-107.74\"/>\n",
       "</g>\n",
       "<!-- 12 -->\n",
       "<g id=\"node13\" class=\"node\">\n",
       "<title>12</title>\n",
       "<text text-anchor=\"middle\" x=\"171\" y=\"-12.95\" font-family=\"Courier,monospace\" font-size=\"14.00\" fill=\"#008040\">&quot;a&quot;</text>\n",
       "</g>\n",
       "<!-- 11&#45;&#45;12 -->\n",
       "<g id=\"edge12\" class=\"edge\">\n",
       "<title>11--12</title>\n",
       "<path fill=\"none\" stroke=\"black\" d=\"M236,-71C236,-71 210.93,-50.94 191.92,-35.74\"/>\n",
       "</g>\n",
       "<!-- 13 -->\n",
       "<g id=\"node14\" class=\"node\">\n",
       "<title>13</title>\n",
       "<text text-anchor=\"middle\" x=\"243\" y=\"-12.95\" font-family=\"Courier,monospace\" font-size=\"14.00\" fill=\"#008040\">Load</text>\n",
       "</g>\n",
       "<!-- 11&#45;&#45;13 -->\n",
       "<g id=\"edge13\" class=\"edge\">\n",
       "<title>11--13</title>\n",
       "<path fill=\"none\" stroke=\"black\" d=\"M236,-71C236,-71 238.7,-50.94 240.75,-35.74\"/>\n",
       "</g>\n",
       "<!-- 15 -->\n",
       "<g id=\"node16\" class=\"node\">\n",
       "<title>15</title>\n",
       "<text text-anchor=\"middle\" x=\"315\" y=\"-12.95\" font-family=\"Courier,monospace\" font-size=\"14.00\" fill=\"#008040\">&quot;b&quot;</text>\n",
       "</g>\n",
       "<!-- 14&#45;&#45;15 -->\n",
       "<g id=\"edge15\" class=\"edge\">\n",
       "<title>14--15</title>\n",
       "<path fill=\"none\" stroke=\"black\" d=\"M322,-71C322,-71 319.3,-50.94 317.25,-35.74\"/>\n",
       "</g>\n",
       "<!-- 16 -->\n",
       "<g id=\"node17\" class=\"node\">\n",
       "<title>16</title>\n",
       "<text text-anchor=\"middle\" x=\"387\" y=\"-12.95\" font-family=\"Courier,monospace\" font-size=\"14.00\" fill=\"#008040\">Load</text>\n",
       "</g>\n",
       "<!-- 14&#45;&#45;16 -->\n",
       "<g id=\"edge16\" class=\"edge\">\n",
       "<title>14--16</title>\n",
       "<path fill=\"none\" stroke=\"black\" d=\"M322,-71C322,-71 347.07,-50.94 366.08,-35.74\"/>\n",
       "</g>\n",
       "<!-- 18 -->\n",
       "<g id=\"node19\" class=\"node\">\n",
       "<title>18</title>\n",
       "<text text-anchor=\"start\" x=\"368\" y=\"-85.95\" font-family=\"Courier,monospace\" font-weight=\"bold\" font-size=\"14.00\" fill=\"#004080\">Constant</text>\n",
       "</g>\n",
       "<!-- 17&#45;&#45;18 -->\n",
       "<g id=\"edge18\" class=\"edge\">\n",
       "<title>17--18</title>\n",
       "<path fill=\"none\" stroke=\"black\" d=\"M370.68,-144.05C376.97,-133.05 385.14,-118.76 391.41,-107.79\"/>\n",
       "</g>\n",
       "<!-- 19 -->\n",
       "<g id=\"node20\" class=\"node\">\n",
       "<title>19</title>\n",
       "<text text-anchor=\"middle\" x=\"459\" y=\"-12.95\" font-family=\"Courier,monospace\" font-size=\"14.00\" fill=\"#008040\">1</text>\n",
       "</g>\n",
       "<!-- 18&#45;&#45;19 -->\n",
       "<g id=\"edge19\" class=\"edge\">\n",
       "<title>18--19</title>\n",
       "<path fill=\"none\" stroke=\"black\" d=\"M415.04,-72.05C424.16,-61.05 436,-46.76 445.09,-35.79\"/>\n",
       "</g>\n",
       "<!-- 21 -->\n",
       "<g id=\"node22\" class=\"node\">\n",
       "<title>21</title>\n",
       "<text text-anchor=\"start\" x=\"437\" y=\"-157.95\" font-family=\"Courier,monospace\" font-weight=\"bold\" font-size=\"14.00\" fill=\"#004080\">Constant</text>\n",
       "</g>\n",
       "<!-- 20&#45;&#45;21 -->\n",
       "<g id=\"edge21\" class=\"edge\">\n",
       "<title>20--21</title>\n",
       "<path fill=\"none\" stroke=\"black\" d=\"M413.16,-216.05C424.95,-205.05 440.25,-190.76 452.01,-179.79\"/>\n",
       "</g>\n",
       "<!-- 22 -->\n",
       "<g id=\"node23\" class=\"node\">\n",
       "<title>22</title>\n",
       "<text text-anchor=\"middle\" x=\"487\" y=\"-84.95\" font-family=\"Courier,monospace\" font-size=\"14.00\" fill=\"#008040\">0</text>\n",
       "</g>\n",
       "<!-- 21&#45;&#45;22 -->\n",
       "<g id=\"edge22\" class=\"edge\">\n",
       "<title>21--22</title>\n",
       "<path fill=\"none\" stroke=\"black\" d=\"M474.12,-144.05C476.79,-133.05 480.26,-118.76 482.92,-107.79\"/>\n",
       "</g>\n",
       "</g>\n",
       "</svg>"
      ],
      "text/plain": [
       "<IPython.core.display.SVG object>"
      ]
     },
     "execution_count": 9,
     "metadata": {},
     "output_type": "execute_result"
    }
   ],
   "source": [
    "source_ast = ast.parse(source)\n",
    "show_ast(source_ast)"
   ]
  },
  {
   "cell_type": "markdown",
   "metadata": {
    "pycharm": {
     "name": "#%% md\n"
    },
    "slideshow": {
     "slide_type": "subslide"
    }
   },
   "source": [
    "We can see how the code is structured by inspecting the AST shown above."
   ]
  },
  {
   "cell_type": "markdown",
   "metadata": {
    "slideshow": {
     "slide_type": "fragment"
    }
   },
   "source": [
    "To learn the structure of an AST, have a look at the [official Python `ast` reference](http://docs.python.org/3/library/ast) for a list of AST nodes and their attributes.\n",
    "This reference is complete, but a bit terse; the [\"Green Tree Snakes missing Python AST docs\"](https://greentreesnakes.readthedocs.io/en/latest/manipulating.html) provide a good manual on how to modify the tree."
   ]
  },
  {
   "cell_type": "markdown",
   "metadata": {
    "pycharm": {
     "name": "#%% md\n"
    },
    "slideshow": {
     "slide_type": "subslide"
    }
   },
   "source": [
    "If we want to inspect certain elements of the source code, we can now use the `ast.NodeVisitor` to visit every node in the AST.\n",
    "This can be done by extending this class and implementing *visit-methods* for each type of node in the tree we want to inspect.  \n",
    "So, let's implement a parser that first parses the source code into an AST and then visits each node one after another."
   ]
  },
  {
   "cell_type": "code",
   "execution_count": 10,
   "metadata": {
    "execution": {
     "iopub.execute_input": "2024-11-09T16:29:20.724006Z",
     "iopub.status.busy": "2024-11-09T16:29:20.723785Z",
     "iopub.status.idle": "2024-11-09T16:29:20.728543Z",
     "shell.execute_reply": "2024-11-09T16:29:20.728250Z"
    },
    "pycharm": {
     "name": "#%%\n"
    },
    "slideshow": {
     "slide_type": "subslide"
    }
   },
   "outputs": [],
   "source": [
    "class SimpleParser(ast.NodeVisitor):\n",
    "    \"\"\"\n",
    "    A simple parser printing all nodes in order\n",
    "    \"\"\"\n",
    "\n",
    "    def parse(self, file: str) -> None:\n",
    "        \"\"\"\n",
    "        When the parse function is called, we parse the source code\n",
    "        into a tree and then start visiting all nodes.\n",
    "        \"\"\"\n",
    "        tree = ast.parse(source=file)\n",
    "        self.visit(tree)\n",
    "\n",
    "    def visit_FunctionDef(self, node: ast.FunctionDef) -> None:\n",
    "        print(node)\n",
    "        self.generic_visit(node)\n",
    "\n",
    "    def visit_arguments(self, node: ast.arguments) -> None:\n",
    "        print(node)\n",
    "        self.generic_visit(node)\n",
    "\n",
    "    def visit_If(self, node: ast.If) -> None:\n",
    "        print(node)\n",
    "        self.generic_visit(node)\n",
    "\n",
    "    def visit_Return(self, node: ast.Return) -> None:\n",
    "        print(node)\n",
    "        self.generic_visit(node)\n",
    "\n",
    "    def visit_arg(self, node: ast.arg) -> None:\n",
    "        print(node)\n",
    "        self.generic_visit(node)\n",
    "\n",
    "    def visit_Constant(self, node: ast.Constant) -> None:\n",
    "        print(node)\n",
    "        self.generic_visit(node)\n",
    "\n",
    "    def visit_Name(self, node: ast.Name) -> None:\n",
    "        print(node)\n",
    "        self.generic_visit(node)\n",
    "\n",
    "    def visit_BoolOp(self, node: ast.BoolOp) -> None:\n",
    "        print(node)\n",
    "        self.generic_visit(node)"
   ]
  },
  {
   "cell_type": "markdown",
   "metadata": {
    "pycharm": {
     "name": "#%% md\n"
    },
    "slideshow": {
     "slide_type": "subslide"
    }
   },
   "source": [
    "Using this `SimpleParser`, we can visit each node and print the node object itself."
   ]
  },
  {
   "cell_type": "code",
   "execution_count": 11,
   "metadata": {
    "execution": {
     "iopub.execute_input": "2024-11-09T16:29:20.730196Z",
     "iopub.status.busy": "2024-11-09T16:29:20.730099Z",
     "iopub.status.idle": "2024-11-09T16:29:20.732094Z",
     "shell.execute_reply": "2024-11-09T16:29:20.731824Z"
    },
    "pycharm": {
     "name": "#%%\n"
    },
    "slideshow": {
     "slide_type": "subslide"
    }
   },
   "outputs": [
    {
     "name": "stdout",
     "output_type": "stream",
     "text": [
      "<ast.FunctionDef object at 0x104eefc10>\n",
      "<ast.arguments object at 0x104eefbb0>\n",
      "<ast.arg object at 0x104eefc40>\n",
      "<ast.arg object at 0x104eefb80>\n",
      "<ast.Constant object at 0x104eefd00>\n",
      "<ast.If object at 0x104eefd30>\n",
      "<ast.BoolOp object at 0x104eefca0>\n",
      "<ast.Name object at 0x104eefd60>\n",
      "<ast.Name object at 0x104eefb50>\n",
      "<ast.Return object at 0x104eefe80>\n",
      "<ast.Constant object at 0x104eee7a0>\n",
      "<ast.Return object at 0x104eee740>\n",
      "<ast.Constant object at 0x104eee920>\n"
     ]
    }
   ],
   "source": [
    "SimpleParser().parse(source)"
   ]
  },
  {
   "cell_type": "markdown",
   "metadata": {
    "pycharm": {
     "name": "#%% md\n"
    },
    "slideshow": {
     "slide_type": "subslide"
    }
   },
   "source": [
    "Now imagine, instead of just parsing the input and printing each node, we start to process the information present in each node.\n",
    "To notify the user if anything breaks, we introduce a `ParserException` that is thrown when we encounter a parsing error."
   ]
  },
  {
   "cell_type": "code",
   "execution_count": 12,
   "metadata": {
    "execution": {
     "iopub.execute_input": "2024-11-09T16:29:20.733962Z",
     "iopub.status.busy": "2024-11-09T16:29:20.733841Z",
     "iopub.status.idle": "2024-11-09T16:29:20.735602Z",
     "shell.execute_reply": "2024-11-09T16:29:20.735302Z"
    },
    "pycharm": {
     "name": "#%%\n"
    },
    "slideshow": {
     "slide_type": "fragment"
    }
   },
   "outputs": [],
   "source": [
    "class ParserException(Exception):\n",
    "    pass"
   ]
  },
  {
   "cell_type": "markdown",
   "metadata": {
    "pycharm": {
     "name": "#%% md\n"
    },
    "slideshow": {
     "slide_type": "fragment"
    }
   },
   "source": [
    "For instance, let's consider our parser has troubles processing boolean operators.\n",
    "We simulate this behavior by extending our parser to throw an exception whenever it encounters a `BoolOp` node.\n"
   ]
  },
  {
   "cell_type": "code",
   "execution_count": 13,
   "metadata": {
    "execution": {
     "iopub.execute_input": "2024-11-09T16:29:20.737338Z",
     "iopub.status.busy": "2024-11-09T16:29:20.737203Z",
     "iopub.status.idle": "2024-11-09T16:29:20.739312Z",
     "shell.execute_reply": "2024-11-09T16:29:20.738926Z"
    },
    "pycharm": {
     "name": "#%%\n"
    },
    "slideshow": {
     "slide_type": "subslide"
    }
   },
   "outputs": [],
   "source": [
    "class SimpleParserPlus(SimpleParser):\n",
    "    \"\"\"\n",
    "    A simple parser printing all nodes in order until it reaches a BoolOp\n",
    "    \"\"\"\n",
    "\n",
    "    def visit_BoolOp(self, node: ast.BoolOp) -> None:\n",
    "        \"\"\"\n",
    "        If a BoolOp is encountered, we throw an exception\n",
    "        \"\"\"\n",
    "        raise ParserException(\"Something went wrong\")"
   ]
  },
  {
   "cell_type": "code",
   "execution_count": 14,
   "metadata": {
    "execution": {
     "iopub.execute_input": "2024-11-09T16:29:20.741519Z",
     "iopub.status.busy": "2024-11-09T16:29:20.741166Z",
     "iopub.status.idle": "2024-11-09T16:29:20.744574Z",
     "shell.execute_reply": "2024-11-09T16:29:20.744285Z"
    },
    "pycharm": {
     "name": "#%%\n"
    },
    "slideshow": {
     "slide_type": "subslide"
    }
   },
   "outputs": [
    {
     "name": "stdout",
     "output_type": "stream",
     "text": [
      "<ast.FunctionDef object at 0x104eee530>\n",
      "<ast.arguments object at 0x104eee3b0>\n",
      "<ast.arg object at 0x104eee1d0>\n",
      "<ast.arg object at 0x104eefc70>\n",
      "<ast.Constant object at 0x104eefd60>\n",
      "<ast.If object at 0x104eee740>\n"
     ]
    },
    {
     "name": "stderr",
     "output_type": "stream",
     "text": [
      "Traceback (most recent call last):\n",
      "  File \"/var/folders/n2/xd9445p97rb3xh7m1dfx8_4h0006ts/T/ipykernel_1505/257518062.py\", line 2, in <cell line: 1>\n",
      "    SimpleParserPlus().parse(source)\n",
      "  File \"/var/folders/n2/xd9445p97rb3xh7m1dfx8_4h0006ts/T/ipykernel_1505/2922974276.py\", line 12, in parse\n",
      "    self.visit(tree)\n",
      "  File \"/Users/zeller/.pyenv/versions/3.10.2/lib/python3.10/ast.py\", line 410, in visit\n",
      "    return visitor(node)\n",
      "  File \"/Users/zeller/.pyenv/versions/3.10.2/lib/python3.10/ast.py\", line 418, in generic_visit\n",
      "    self.visit(item)\n",
      "  File \"/Users/zeller/.pyenv/versions/3.10.2/lib/python3.10/ast.py\", line 410, in visit\n",
      "    return visitor(node)\n",
      "  File \"/var/folders/n2/xd9445p97rb3xh7m1dfx8_4h0006ts/T/ipykernel_1505/2922974276.py\", line 16, in visit_FunctionDef\n",
      "    self.generic_visit(node)\n",
      "  File \"/Users/zeller/.pyenv/versions/3.10.2/lib/python3.10/ast.py\", line 418, in generic_visit\n",
      "    self.visit(item)\n",
      "  File \"/Users/zeller/.pyenv/versions/3.10.2/lib/python3.10/ast.py\", line 410, in visit\n",
      "    return visitor(node)\n",
      "  File \"/var/folders/n2/xd9445p97rb3xh7m1dfx8_4h0006ts/T/ipykernel_1505/2922974276.py\", line 24, in visit_If\n",
      "    self.generic_visit(node)\n",
      "  File \"/Users/zeller/.pyenv/versions/3.10.2/lib/python3.10/ast.py\", line 420, in generic_visit\n",
      "    self.visit(value)\n",
      "  File \"/Users/zeller/.pyenv/versions/3.10.2/lib/python3.10/ast.py\", line 410, in visit\n",
      "    return visitor(node)\n",
      "  File \"/var/folders/n2/xd9445p97rb3xh7m1dfx8_4h0006ts/T/ipykernel_1505/1656391407.py\", line 10, in visit_BoolOp\n",
      "    raise ParserException(\"Something went wrong\")\n",
      "ParserException: Something went wrong (expected)\n"
     ]
    }
   ],
   "source": [
    "with ExpectError():\n",
    "    SimpleParserPlus().parse(source)\n"
   ]
  },
  {
   "cell_type": "markdown",
   "metadata": {
    "slideshow": {
     "slide_type": "subslide"
    }
   },
   "source": [
    "As we can see here, as soon as we encounter a boolean operation, an exception is thrown."
   ]
  },
  {
   "cell_type": "markdown",
   "metadata": {
    "pycharm": {
     "name": "#%% md\n"
    },
    "slideshow": {
     "slide_type": "subslide"
    }
   },
   "source": [
    "### Reducing Python\n",
    "\n",
    "Let's get back to our `SimpleParserPlus` example. This parser parses Python code into an AST and then iterates over all nodes. When it reaches a boolean operation, it encounters an error and crashes.  \n",
    "Of course our example is a very small and artificial one. Furthermore, the input triggering our bug is rather small as well.\n",
    "However, in reality a similar situation might present itself to you but with a far less obvious error and a far larger input that causes it.\n",
    "In this case, instead of using the entire input, one might want to reduce the input down to only those parts actually causing the error.  \n",
    "But how do we do that?  \n",
    "We could, for instance, randomly remove some parts of the program.\n",
    "However, this would likely produce syntactically invalid Python code and hence prevent the parser from reaching the desired code location.\n",
    "So instead of just removing random parts of the code itself, we will manipulate the AST to preserve the correct syntax.\n",
    "\n",
    "How do we manipulate an AST produced by `ast.parse`? We can make use of the `ast.NodeTransformer`:"
   ]
  },
  {
   "cell_type": "code",
   "execution_count": 15,
   "metadata": {
    "execution": {
     "iopub.execute_input": "2024-11-09T16:29:20.746201Z",
     "iopub.status.busy": "2024-11-09T16:29:20.746074Z",
     "iopub.status.idle": "2024-11-09T16:29:20.748300Z",
     "shell.execute_reply": "2024-11-09T16:29:20.748023Z"
    },
    "pycharm": {
     "name": "#%%\n"
    },
    "slideshow": {
     "slide_type": "subslide"
    }
   },
   "outputs": [],
   "source": [
    "class NodeReducer(ast.NodeTransformer):\n",
    "\n",
    "    def visit_If(self, node: ast.If) -> ast.AST:\n",
    "        \"\"\"\n",
    "        Instead of the `if` node return just its condition\n",
    "        \"\"\"\n",
    "        # Apply other transformations to the children first\n",
    "        super().generic_visit(node)\n",
    "\n",
    "        # We create an expression around the node test\n",
    "        new_node = ast.Expr(node.test)\n",
    "        return new_node"
   ]
  },
  {
   "cell_type": "markdown",
   "metadata": {
    "pycharm": {
     "name": "#%% md\n"
    },
    "slideshow": {
     "slide_type": "subslide"
    }
   },
   "source": [
    "The `ast.NodeTransformer` again uses the visitor pattern to walk over all nodes.\n",
    "This time, however, we change the resulting AST. In our case, if we encounter an *if-statement* we only return the condition.   \n",
    "\n",
    "(Keep in mind, `NodeReducer` changes the ast in place, so if you want to preserve the original tree, you need to copy it with `copy.deepcopy(tree)`)"
   ]
  },
  {
   "cell_type": "code",
   "execution_count": 16,
   "metadata": {
    "execution": {
     "iopub.execute_input": "2024-11-09T16:29:20.749939Z",
     "iopub.status.busy": "2024-11-09T16:29:20.749822Z",
     "iopub.status.idle": "2024-11-09T16:29:21.218983Z",
     "shell.execute_reply": "2024-11-09T16:29:21.218538Z"
    },
    "pycharm": {
     "name": "#%%\n"
    },
    "slideshow": {
     "slide_type": "fragment"
    }
   },
   "outputs": [
    {
     "data": {
      "image/svg+xml": [
       "<svg xmlns=\"http://www.w3.org/2000/svg\" xmlns:xlink=\"http://www.w3.org/1999/xlink\" width=\"434pt\" height=\"404pt\" viewBox=\"0.00 0.00 433.62 404.00\">\n",
       "<g id=\"graph0\" class=\"graph\" transform=\"scale(1 1) rotate(0) translate(4 400)\">\n",
       "<polygon fill=\"white\" stroke=\"none\" points=\"-4,4 -4,-400 429.62,-400 429.62,4 -4,4\"/>\n",
       "<!-- 0 -->\n",
       "<g id=\"node1\" class=\"node\">\n",
       "<title>0</title>\n",
       "<text text-anchor=\"start\" x=\"153.88\" y=\"-373.95\" font-family=\"Courier,monospace\" font-weight=\"bold\" font-size=\"14.00\" fill=\"#004080\">Module</text>\n",
       "</g>\n",
       "<!-- 1 -->\n",
       "<g id=\"node2\" class=\"node\">\n",
       "<title>1</title>\n",
       "<text text-anchor=\"start\" x=\"133.25\" y=\"-301.95\" font-family=\"Courier,monospace\" font-weight=\"bold\" font-size=\"14.00\" fill=\"#004080\">FunctionDef</text>\n",
       "</g>\n",
       "<!-- 0&#45;&#45;1 -->\n",
       "<g id=\"edge1\" class=\"edge\">\n",
       "<title>0--1</title>\n",
       "<path fill=\"none\" stroke=\"black\" d=\"M178.62,-360.05C178.62,-349.05 178.62,-334.76 178.62,-323.79\"/>\n",
       "</g>\n",
       "<!-- 2 -->\n",
       "<g id=\"node3\" class=\"node\">\n",
       "<title>2</title>\n",
       "<text text-anchor=\"middle\" x=\"28.62\" y=\"-228.95\" font-family=\"Courier,monospace\" font-size=\"14.00\" fill=\"#008040\">&quot;foo&quot;</text>\n",
       "</g>\n",
       "<!-- 1&#45;&#45;2 -->\n",
       "<g id=\"edge2\" class=\"edge\">\n",
       "<title>1--2</title>\n",
       "<path fill=\"none\" stroke=\"black\" d=\"M178.62,-287C178.62,-287 115.4,-270.46 66.62,-252 63.52,-250.82 60.3,-249.52 57.11,-248.18\"/>\n",
       "</g>\n",
       "<!-- 3 -->\n",
       "<g id=\"node4\" class=\"node\">\n",
       "<title>3</title>\n",
       "<text text-anchor=\"start\" x=\"83.5\" y=\"-229.95\" font-family=\"Courier,monospace\" font-weight=\"bold\" font-size=\"14.00\" fill=\"#004080\">arguments</text>\n",
       "</g>\n",
       "<!-- 1&#45;&#45;3 -->\n",
       "<g id=\"edge3\" class=\"edge\">\n",
       "<title>1--3</title>\n",
       "<path fill=\"none\" stroke=\"black\" d=\"M178.62,-287C178.62,-287 156.25,-266.94 139.3,-251.74\"/>\n",
       "</g>\n",
       "<!-- 8 -->\n",
       "<g id=\"node9\" class=\"node\">\n",
       "<title>8</title>\n",
       "<text text-anchor=\"start\" x=\"220.12\" y=\"-229.95\" font-family=\"Courier,monospace\" font-weight=\"bold\" font-size=\"14.00\" fill=\"#004080\">Expr</text>\n",
       "</g>\n",
       "<!-- 1&#45;&#45;8 -->\n",
       "<g id=\"edge8\" class=\"edge\">\n",
       "<title>1--8</title>\n",
       "<path fill=\"none\" stroke=\"black\" d=\"M178.62,-287C178.62,-287 201,-266.94 217.95,-251.74\"/>\n",
       "</g>\n",
       "<!-- 17 -->\n",
       "<g id=\"node18\" class=\"node\">\n",
       "<title>17</title>\n",
       "<text text-anchor=\"start\" x=\"326.88\" y=\"-229.95\" font-family=\"Courier,monospace\" font-weight=\"bold\" font-size=\"14.00\" fill=\"#004080\">Return</text>\n",
       "</g>\n",
       "<!-- 1&#45;&#45;17 -->\n",
       "<g id=\"edge17\" class=\"edge\">\n",
       "<title>1--17</title>\n",
       "<path fill=\"none\" stroke=\"black\" d=\"M178.62,-287C178.62,-287 268.97,-259.84 319.09,-244.78\"/>\n",
       "</g>\n",
       "<!-- 4 -->\n",
       "<g id=\"node5\" class=\"node\">\n",
       "<title>4</title>\n",
       "<text text-anchor=\"start\" x=\"23.25\" y=\"-157.95\" font-family=\"Courier,monospace\" font-weight=\"bold\" font-size=\"14.00\" fill=\"#004080\">arg</text>\n",
       "</g>\n",
       "<!-- 3&#45;&#45;4 -->\n",
       "<g id=\"edge4\" class=\"edge\">\n",
       "<title>3--4</title>\n",
       "<path fill=\"none\" stroke=\"black\" d=\"M110.62,-215C110.62,-215 81.69,-194.94 59.77,-179.74\"/>\n",
       "</g>\n",
       "<!-- 6 -->\n",
       "<g id=\"node7\" class=\"node\">\n",
       "<title>6</title>\n",
       "<text text-anchor=\"start\" x=\"95.25\" y=\"-157.95\" font-family=\"Courier,monospace\" font-weight=\"bold\" font-size=\"14.00\" fill=\"#004080\">arg</text>\n",
       "</g>\n",
       "<!-- 3&#45;&#45;6 -->\n",
       "<g id=\"edge6\" class=\"edge\">\n",
       "<title>3--6</title>\n",
       "<path fill=\"none\" stroke=\"black\" d=\"M110.62,-215C110.62,-215 109.47,-194.94 108.59,-179.74\"/>\n",
       "</g>\n",
       "<!-- 5 -->\n",
       "<g id=\"node6\" class=\"node\">\n",
       "<title>5</title>\n",
       "<text text-anchor=\"middle\" x=\"28.62\" y=\"-84.95\" font-family=\"Courier,monospace\" font-size=\"14.00\" fill=\"#008040\">&quot;a&quot;</text>\n",
       "</g>\n",
       "<!-- 4&#45;&#45;5 -->\n",
       "<g id=\"edge5\" class=\"edge\">\n",
       "<title>4--5</title>\n",
       "<path fill=\"none\" stroke=\"black\" d=\"M33.93,-144.05C32.83,-133.05 31.4,-118.76 30.3,-107.79\"/>\n",
       "</g>\n",
       "<!-- 7 -->\n",
       "<g id=\"node8\" class=\"node\">\n",
       "<title>7</title>\n",
       "<text text-anchor=\"middle\" x=\"100.62\" y=\"-84.95\" font-family=\"Courier,monospace\" font-size=\"14.00\" fill=\"#008040\">&quot;b&quot;</text>\n",
       "</g>\n",
       "<!-- 6&#45;&#45;7 -->\n",
       "<g id=\"edge7\" class=\"edge\">\n",
       "<title>6--7</title>\n",
       "<path fill=\"none\" stroke=\"black\" d=\"M105.93,-144.05C104.83,-133.05 103.4,-118.76 102.3,-107.79\"/>\n",
       "</g>\n",
       "<!-- 9 -->\n",
       "<g id=\"node10\" class=\"node\">\n",
       "<title>9</title>\n",
       "<text text-anchor=\"start\" x=\"214.88\" y=\"-157.95\" font-family=\"Courier,monospace\" font-weight=\"bold\" font-size=\"14.00\" fill=\"#004080\">BoolOp</text>\n",
       "</g>\n",
       "<!-- 8&#45;&#45;9 -->\n",
       "<g id=\"edge9\" class=\"edge\">\n",
       "<title>8--9</title>\n",
       "<path fill=\"none\" stroke=\"black\" d=\"M237.35,-216.05C237.82,-205.05 238.44,-190.76 238.91,-179.79\"/>\n",
       "</g>\n",
       "<!-- 10 -->\n",
       "<g id=\"node11\" class=\"node\">\n",
       "<title>10</title>\n",
       "<text text-anchor=\"middle\" x=\"172.62\" y=\"-84.95\" font-family=\"Courier,monospace\" font-size=\"14.00\" fill=\"#008040\">And</text>\n",
       "</g>\n",
       "<!-- 9&#45;&#45;10 -->\n",
       "<g id=\"edge10\" class=\"edge\">\n",
       "<title>9--10</title>\n",
       "<path fill=\"none\" stroke=\"black\" d=\"M240.62,-143C240.62,-143 214.39,-122.94 194.51,-107.74\"/>\n",
       "</g>\n",
       "<!-- 11 -->\n",
       "<g id=\"node12\" class=\"node\">\n",
       "<title>11</title>\n",
       "<text text-anchor=\"start\" x=\"228.12\" y=\"-85.95\" font-family=\"Courier,monospace\" font-weight=\"bold\" font-size=\"14.00\" fill=\"#004080\">Name</text>\n",
       "</g>\n",
       "<!-- 9&#45;&#45;11 -->\n",
       "<g id=\"edge11\" class=\"edge\">\n",
       "<title>9--11</title>\n",
       "<path fill=\"none\" stroke=\"black\" d=\"M240.62,-143C240.62,-143 242.17,-122.94 243.34,-107.74\"/>\n",
       "</g>\n",
       "<!-- 14 -->\n",
       "<g id=\"node15\" class=\"node\">\n",
       "<title>14</title>\n",
       "<text text-anchor=\"start\" x=\"300.12\" y=\"-85.95\" font-family=\"Courier,monospace\" font-weight=\"bold\" font-size=\"14.00\" fill=\"#004080\">Name</text>\n",
       "</g>\n",
       "<!-- 9&#45;&#45;14 -->\n",
       "<g id=\"edge14\" class=\"edge\">\n",
       "<title>9--14</title>\n",
       "<path fill=\"none\" stroke=\"black\" d=\"M240.62,-143C240.62,-143 269.94,-122.94 292.16,-107.74\"/>\n",
       "</g>\n",
       "<!-- 12 -->\n",
       "<g id=\"node13\" class=\"node\">\n",
       "<title>12</title>\n",
       "<text text-anchor=\"middle\" x=\"172.62\" y=\"-12.95\" font-family=\"Courier,monospace\" font-size=\"14.00\" fill=\"#008040\">&quot;a&quot;</text>\n",
       "</g>\n",
       "<!-- 11&#45;&#45;12 -->\n",
       "<g id=\"edge12\" class=\"edge\">\n",
       "<title>11--12</title>\n",
       "<path fill=\"none\" stroke=\"black\" d=\"M237.62,-71C237.62,-71 212.55,-50.94 193.55,-35.74\"/>\n",
       "</g>\n",
       "<!-- 13 -->\n",
       "<g id=\"node14\" class=\"node\">\n",
       "<title>13</title>\n",
       "<text text-anchor=\"middle\" x=\"244.62\" y=\"-12.95\" font-family=\"Courier,monospace\" font-size=\"14.00\" fill=\"#008040\">Load</text>\n",
       "</g>\n",
       "<!-- 11&#45;&#45;13 -->\n",
       "<g id=\"edge13\" class=\"edge\">\n",
       "<title>11--13</title>\n",
       "<path fill=\"none\" stroke=\"black\" d=\"M237.62,-71C237.62,-71 240.33,-50.94 242.37,-35.74\"/>\n",
       "</g>\n",
       "<!-- 15 -->\n",
       "<g id=\"node16\" class=\"node\">\n",
       "<title>15</title>\n",
       "<text text-anchor=\"middle\" x=\"316.62\" y=\"-12.95\" font-family=\"Courier,monospace\" font-size=\"14.00\" fill=\"#008040\">&quot;b&quot;</text>\n",
       "</g>\n",
       "<!-- 14&#45;&#45;15 -->\n",
       "<g id=\"edge15\" class=\"edge\">\n",
       "<title>14--15</title>\n",
       "<path fill=\"none\" stroke=\"black\" d=\"M323.62,-71C323.62,-71 320.92,-50.94 318.88,-35.74\"/>\n",
       "</g>\n",
       "<!-- 16 -->\n",
       "<g id=\"node17\" class=\"node\">\n",
       "<title>16</title>\n",
       "<text text-anchor=\"middle\" x=\"388.62\" y=\"-12.95\" font-family=\"Courier,monospace\" font-size=\"14.00\" fill=\"#008040\">Load</text>\n",
       "</g>\n",
       "<!-- 14&#45;&#45;16 -->\n",
       "<g id=\"edge16\" class=\"edge\">\n",
       "<title>14--16</title>\n",
       "<path fill=\"none\" stroke=\"black\" d=\"M323.62,-71C323.62,-71 348.7,-50.94 367.7,-35.74\"/>\n",
       "</g>\n",
       "<!-- 18 -->\n",
       "<g id=\"node19\" class=\"node\">\n",
       "<title>18</title>\n",
       "<text text-anchor=\"start\" x=\"351.62\" y=\"-157.95\" font-family=\"Courier,monospace\" font-weight=\"bold\" font-size=\"14.00\" fill=\"#004080\">Constant</text>\n",
       "</g>\n",
       "<!-- 17&#45;&#45;18 -->\n",
       "<g id=\"edge18\" class=\"edge\">\n",
       "<title>17--18</title>\n",
       "<path fill=\"none\" stroke=\"black\" d=\"M359.61,-216.05C364.8,-205.05 371.54,-190.76 376.71,-179.79\"/>\n",
       "</g>\n",
       "<!-- 19 -->\n",
       "<g id=\"node20\" class=\"node\">\n",
       "<title>19</title>\n",
       "<text text-anchor=\"middle\" x=\"388.62\" y=\"-84.95\" font-family=\"Courier,monospace\" font-size=\"14.00\" fill=\"#008040\">0</text>\n",
       "</g>\n",
       "<!-- 18&#45;&#45;19 -->\n",
       "<g id=\"edge19\" class=\"edge\">\n",
       "<title>18--19</title>\n",
       "<path fill=\"none\" stroke=\"black\" d=\"M385.59,-144.05C386.22,-133.05 387.04,-118.76 387.67,-107.79\"/>\n",
       "</g>\n",
       "</g>\n",
       "</svg>"
      ],
      "text/plain": [
       "<IPython.core.display.SVG object>"
      ]
     },
     "execution_count": 16,
     "metadata": {},
     "output_type": "execute_result"
    }
   ],
   "source": [
    "NodeReducer().visit(source_ast)\n",
    "show_ast(source_ast)"
   ]
  },
  {
   "cell_type": "markdown",
   "metadata": {
    "pycharm": {
     "name": "#%% md\n"
    },
    "slideshow": {
     "slide_type": "subslide"
    }
   },
   "source": [
    "As you can see, after running the `NodeReducer` there is no longer an *if-statement*, but only its condition.\n",
    "A more sophisticated NodeReducer is presented in the [Reducing Failure-Inducing Inputs chapter](https://www.debuggingbook.org/beta/html/DeltaDebugger.html) in the debugging book."
   ]
  },
  {
   "cell_type": "markdown",
   "metadata": {
    "pycharm": {
     "name": "#%% md\n"
    },
    "slideshow": {
     "slide_type": "fragment"
    }
   },
   "source": [
    "To learn the structure of an AST, have a look at the [official Python `ast` reference](http://docs.python.org/3/library/ast) for a list of AST nodes and their attributes. This reference is complete, but a bit terse; the [\"Green Tree Snakes missing Python AST docs\"](https://greentreesnakes.readthedocs.io/en/latest/manipulating.html) provide a good manual on how to modify the tree."
   ]
  },
  {
   "cell_type": "markdown",
   "metadata": {
    "slideshow": {
     "slide_type": "subslide"
    }
   },
   "source": [
    "**Pro tip**: You can learn the expected structure of any Python fragment by invoking `ast.dump()` on any (parsed) AST."
   ]
  },
  {
   "cell_type": "code",
   "execution_count": 17,
   "metadata": {
    "execution": {
     "iopub.execute_input": "2024-11-09T16:29:21.221085Z",
     "iopub.status.busy": "2024-11-09T16:29:21.220946Z",
     "iopub.status.idle": "2024-11-09T16:29:21.223026Z",
     "shell.execute_reply": "2024-11-09T16:29:21.222759Z"
    },
    "pycharm": {
     "name": "#%%\n"
    },
    "slideshow": {
     "slide_type": "fragment"
    }
   },
   "outputs": [],
   "source": [
    "demo_ast = ast.parse('''\n",
    "if a == b:\n",
    "    c = d\n",
    "''')"
   ]
  },
  {
   "cell_type": "code",
   "execution_count": 18,
   "metadata": {
    "execution": {
     "iopub.execute_input": "2024-11-09T16:29:21.224531Z",
     "iopub.status.busy": "2024-11-09T16:29:21.224422Z",
     "iopub.status.idle": "2024-11-09T16:29:21.226351Z",
     "shell.execute_reply": "2024-11-09T16:29:21.226105Z"
    },
    "slideshow": {
     "slide_type": "subslide"
    }
   },
   "outputs": [
    {
     "name": "stdout",
     "output_type": "stream",
     "text": [
      "Module(\n",
      "    body=[\n",
      "        If(\n",
      "            test=Compare(\n",
      "                left=Name(id='a', ctx=Load()),\n",
      "                ops=[\n",
      "                    Eq()],\n",
      "                comparators=[\n",
      "                    Name(id='b', ctx=Load())]),\n",
      "            body=[\n",
      "                Assign(\n",
      "                    targets=[\n",
      "                        Name(id='c', ctx=Store())],\n",
      "                    value=Name(id='d', ctx=Load()))],\n",
      "            orelse=[])],\n",
      "    type_ignores=[])\n"
     ]
    }
   ],
   "source": [
    "print(ast.dump(demo_ast, indent=4))"
   ]
  },
  {
   "cell_type": "markdown",
   "metadata": {
    "slideshow": {
     "slide_type": "subslide"
    }
   },
   "source": [
    "The nice thing is that this not only reveals the AST structure, it also tells you how to construct it. If you take the very structure as produced by `ast.dump()` and evaluate it, you obtain the same syntax tree."
   ]
  },
  {
   "cell_type": "code",
   "execution_count": 19,
   "metadata": {
    "execution": {
     "iopub.execute_input": "2024-11-09T16:29:21.227905Z",
     "iopub.status.busy": "2024-11-09T16:29:21.227799Z",
     "iopub.status.idle": "2024-11-09T16:29:21.229501Z",
     "shell.execute_reply": "2024-11-09T16:29:21.229219Z"
    },
    "slideshow": {
     "slide_type": "skip"
    }
   },
   "outputs": [],
   "source": [
    "from ast import Module, If, Compare, Load, Eq, Assign, Name, Store"
   ]
  },
  {
   "cell_type": "code",
   "execution_count": 20,
   "metadata": {
    "execution": {
     "iopub.execute_input": "2024-11-09T16:29:21.231111Z",
     "iopub.status.busy": "2024-11-09T16:29:21.231001Z",
     "iopub.status.idle": "2024-11-09T16:29:21.233293Z",
     "shell.execute_reply": "2024-11-09T16:29:21.233026Z"
    },
    "pycharm": {
     "name": "#%%\n"
    },
    "slideshow": {
     "slide_type": "subslide"
    }
   },
   "outputs": [],
   "source": [
    "ast_from_scratch = Module(\n",
    "    body=[\n",
    "        If(\n",
    "            test=Compare(\n",
    "                left=Name(id='a', ctx=Load()),\n",
    "                ops=[\n",
    "                    Eq()],\n",
    "                comparators=[\n",
    "                    Name(id='b', ctx=Load())]),\n",
    "            body=[\n",
    "                Assign(\n",
    "                    targets=[\n",
    "                        Name(id='c', ctx=Store())],\n",
    "                    value=Name(id='d', ctx=Load()))],\n",
    "            orelse=[])],\n",
    "    type_ignores=[])"
   ]
  },
  {
   "cell_type": "markdown",
   "metadata": {
    "slideshow": {
     "slide_type": "subslide"
    }
   },
   "source": [
    "You need to invoke `ast.fix_missing_locations()` to add line numbers and other location info that would be normally added during parsing..."
   ]
  },
  {
   "cell_type": "code",
   "execution_count": 21,
   "metadata": {
    "execution": {
     "iopub.execute_input": "2024-11-09T16:29:21.234890Z",
     "iopub.status.busy": "2024-11-09T16:29:21.234772Z",
     "iopub.status.idle": "2024-11-09T16:29:21.236504Z",
     "shell.execute_reply": "2024-11-09T16:29:21.236236Z"
    },
    "slideshow": {
     "slide_type": "fragment"
    }
   },
   "outputs": [],
   "source": [
    "ast_from_scratch = ast.fix_missing_locations(ast_from_scratch)"
   ]
  },
  {
   "cell_type": "markdown",
   "metadata": {
    "slideshow": {
     "slide_type": "fragment"
    }
   },
   "source": [
    "... and with this, you're all set:"
   ]
  },
  {
   "cell_type": "code",
   "execution_count": 22,
   "metadata": {
    "execution": {
     "iopub.execute_input": "2024-11-09T16:29:21.238182Z",
     "iopub.status.busy": "2024-11-09T16:29:21.238066Z",
     "iopub.status.idle": "2024-11-09T16:29:21.240062Z",
     "shell.execute_reply": "2024-11-09T16:29:21.239802Z"
    },
    "pycharm": {
     "name": "#%%\n"
    },
    "slideshow": {
     "slide_type": "fragment"
    }
   },
   "outputs": [
    {
     "name": "stdout",
     "output_type": "stream",
     "text": [
      "if a == b:\n",
      "    c = d\n"
     ]
    }
   ],
   "source": [
    "print(ast.unparse(ast_from_scratch))"
   ]
  },
  {
   "cell_type": "markdown",
   "metadata": {
    "pycharm": {
     "name": "#%% md\n"
    },
    "slideshow": {
     "slide_type": "fragment"
    }
   },
   "source": [
    "Hence, if you do not know what kind of AST fragment to produce, just\n",
    "1. parse its text with ``ast.parse()`` \n",
    "2. study the expression produced by `ast.dump()`, and\n",
    "3. build it from the same expression, using `ast.fix_missing_locations()` and `ast.unparse()`"
   ]
  },
  {
   "cell_type": "markdown",
   "metadata": {
    "pycharm": {
     "name": "#%% md\n"
    },
    "slideshow": {
     "slide_type": "subslide"
    }
   },
   "source": [
    "### Implementing a Reducing Debugger\n",
    "\n",
    "Having seen how one can access and transform AST structures using a `NodeReducer` in Python, we can now use that knowledge to implement a `ReducingDebugger`\n",
    "capable of reducing the failure inducing Python code down to only that parts of the code that actually triggers the failure."
   ]
  },
  {
   "cell_type": "code",
   "execution_count": 23,
   "metadata": {
    "execution": {
     "iopub.execute_input": "2024-11-09T16:29:21.241667Z",
     "iopub.status.busy": "2024-11-09T16:29:21.241558Z",
     "iopub.status.idle": "2024-11-09T16:29:21.244337Z",
     "shell.execute_reply": "2024-11-09T16:29:21.244090Z"
    },
    "pycharm": {
     "name": "#%%\n"
    },
    "slideshow": {
     "slide_type": "subslide"
    }
   },
   "outputs": [],
   "source": [
    "class ReducingDebugger:\n",
    "    def __init__(self, parser: SimpleParser) -> None:\n",
    "        \"\"\"\n",
    "        We initialize the DebuggingReducer with a parser,\n",
    "        as this is needed to verify whether the failure \n",
    "        is still triggered after the code transformation\n",
    "        \"\"\"\n",
    "        self.parser = parser\n",
    "        self.node_reducer = NodeReducer()\n",
    "\n",
    "    def minimize(self, code: str) -> str:\n",
    "        \"\"\"\n",
    "        This function takes some Python code as string, reduces\n",
    "        it using the NodeReducer defined earlier and returns the \n",
    "        reduced program.\n",
    "        \"\"\"\n",
    "        # Parse the code to a tree\n",
    "        code_ast = ast.parse(source=code)\n",
    "\n",
    "        # Use the visit-method of the NodeReducer to reduce if nodes down to their condition\n",
    "        new_code_ast = self.node_reducer.visit(code_ast)\n",
    "\n",
    "        # After we've updated nodes, we need to fix the tree\n",
    "        ast.fix_missing_locations(new_code_ast)\n",
    "\n",
    "        # Generate code from the reduced tree\n",
    "        new_code = ast.unparse(new_code_ast)\n",
    "\n",
    "        # Test, whether the error is still triggered by the reduced code\n",
    "        try:\n",
    "            self.parser.parse(new_code)\n",
    "            # No exception is thrown. This means the new_code does not \n",
    "            # trigger an error anymore. Therefore, we failed in\n",
    "            # reduction and return the initial code.\n",
    "            return code\n",
    "        except ParserException:\n",
    "            # The error is still triggered. Return the reduced code\n",
    "            return new_code"
   ]
  },
  {
   "cell_type": "markdown",
   "metadata": {
    "pycharm": {
     "name": "#%% md\n"
    },
    "slideshow": {
     "slide_type": "subslide"
    }
   },
   "source": [
    "The `ReducingDebugger` implemented above takes some Python code as an input and replaces all if-statements with their conditions.\n",
    "Then, it checks whether the newly generated code still triggers the error. If not, it returns the initial code. If the exception is still triggered, it returns the reduced code.\n",
    "Let's apply it to the source code of our `foo` function:"
   ]
  },
  {
   "cell_type": "code",
   "execution_count": 24,
   "metadata": {
    "execution": {
     "iopub.execute_input": "2024-11-09T16:29:21.245967Z",
     "iopub.status.busy": "2024-11-09T16:29:21.245857Z",
     "iopub.status.idle": "2024-11-09T16:29:21.247880Z",
     "shell.execute_reply": "2024-11-09T16:29:21.247620Z"
    },
    "slideshow": {
     "slide_type": "subslide"
    }
   },
   "outputs": [
    {
     "name": "stdout",
     "output_type": "stream",
     "text": [
      "<ast.FunctionDef object at 0x104eefb50>\n",
      "<ast.arguments object at 0x104eec490>\n",
      "<ast.arg object at 0x104eed6f0>\n",
      "<ast.arg object at 0x104eed5d0>\n",
      "<ast.Constant object at 0x104eee6e0>\n"
     ]
    }
   ],
   "source": [
    "reducing_debugger = ReducingDebugger(SimpleParserPlus())\n",
    "new_source = reducing_debugger.minimize(source)"
   ]
  },
  {
   "cell_type": "code",
   "execution_count": 25,
   "metadata": {
    "execution": {
     "iopub.execute_input": "2024-11-09T16:29:21.249573Z",
     "iopub.status.busy": "2024-11-09T16:29:21.249460Z",
     "iopub.status.idle": "2024-11-09T16:29:21.251289Z",
     "shell.execute_reply": "2024-11-09T16:29:21.251014Z"
    },
    "pycharm": {
     "name": "#%%\n"
    },
    "slideshow": {
     "slide_type": "subslide"
    }
   },
   "outputs": [
    {
     "name": "stdout",
     "output_type": "stream",
     "text": [
      "def foo(a, b):\n",
      "    \"\"\"\n",
      "    Checks whether a and b are true\n",
      "    \"\"\"\n",
      "    a and b\n",
      "    return 0\n"
     ]
    }
   ],
   "source": [
    "print(new_source)"
   ]
  },
  {
   "cell_type": "code",
   "execution_count": 26,
   "metadata": {
    "execution": {
     "iopub.execute_input": "2024-11-09T16:29:21.252921Z",
     "iopub.status.busy": "2024-11-09T16:29:21.252814Z",
     "iopub.status.idle": "2024-11-09T16:29:21.254987Z",
     "shell.execute_reply": "2024-11-09T16:29:21.254731Z"
    },
    "pycharm": {
     "name": "#%%\n"
    },
    "slideshow": {
     "slide_type": "subslide"
    }
   },
   "outputs": [
    {
     "name": "stdout",
     "output_type": "stream",
     "text": [
      "<ast.FunctionDef object at 0x104eee020>\n",
      "<ast.arguments object at 0x104eee080>\n",
      "<ast.arg object at 0x104eed210>\n",
      "<ast.arg object at 0x104eed5d0>\n",
      "<ast.Constant object at 0x104eec490>\n"
     ]
    },
    {
     "name": "stderr",
     "output_type": "stream",
     "text": [
      "Traceback (most recent call last):\n",
      "  File \"/var/folders/n2/xd9445p97rb3xh7m1dfx8_4h0006ts/T/ipykernel_1505/3561000985.py\", line 2, in <cell line: 1>\n",
      "    SimpleParserPlus().parse(new_source)\n",
      "  File \"/var/folders/n2/xd9445p97rb3xh7m1dfx8_4h0006ts/T/ipykernel_1505/2922974276.py\", line 12, in parse\n",
      "    self.visit(tree)\n",
      "  File \"/Users/zeller/.pyenv/versions/3.10.2/lib/python3.10/ast.py\", line 410, in visit\n",
      "    return visitor(node)\n",
      "  File \"/Users/zeller/.pyenv/versions/3.10.2/lib/python3.10/ast.py\", line 418, in generic_visit\n",
      "    self.visit(item)\n",
      "  File \"/Users/zeller/.pyenv/versions/3.10.2/lib/python3.10/ast.py\", line 410, in visit\n",
      "    return visitor(node)\n",
      "  File \"/var/folders/n2/xd9445p97rb3xh7m1dfx8_4h0006ts/T/ipykernel_1505/2922974276.py\", line 16, in visit_FunctionDef\n",
      "    self.generic_visit(node)\n",
      "  File \"/Users/zeller/.pyenv/versions/3.10.2/lib/python3.10/ast.py\", line 418, in generic_visit\n",
      "    self.visit(item)\n",
      "  File \"/Users/zeller/.pyenv/versions/3.10.2/lib/python3.10/ast.py\", line 410, in visit\n",
      "    return visitor(node)\n",
      "  File \"/Users/zeller/.pyenv/versions/3.10.2/lib/python3.10/ast.py\", line 420, in generic_visit\n",
      "    self.visit(value)\n",
      "  File \"/Users/zeller/.pyenv/versions/3.10.2/lib/python3.10/ast.py\", line 410, in visit\n",
      "    return visitor(node)\n",
      "  File \"/var/folders/n2/xd9445p97rb3xh7m1dfx8_4h0006ts/T/ipykernel_1505/1656391407.py\", line 10, in visit_BoolOp\n",
      "    raise ParserException(\"Something went wrong\")\n",
      "ParserException: Something went wrong (expected)\n"
     ]
    }
   ],
   "source": [
    "with ExpectError():\n",
    "    SimpleParserPlus().parse(new_source)"
   ]
  },
  {
   "cell_type": "markdown",
   "metadata": {
    "pycharm": {
     "name": "#%% md\n"
    },
    "slideshow": {
     "slide_type": "subslide"
    }
   },
   "source": [
    "As we can see, our `ReducingDebugger` reduces the original function to a smaller input, while still preserving the property of the code that triggers the same error as before.\n",
    "However, this reducer is very simple: it applies only one transformation to all `if` nodes at once.\n",
    "Instead, one can consider various transformations of the same node as well as transformations of various node types and apply them one by one (or in batches) to gradually reduce the code."
   ]
  },
  {
   "cell_type": "markdown",
   "metadata": {
    "pycharm": {
     "name": "#%% md\n"
    },
    "slideshow": {
     "slide_type": "subslide"
    }
   },
   "source": [
    "Keep in mind, that the changes should be made in a way that the code is still accepted by a regular Python interpreter.\n",
    "Besides, the goal is to obtain a minimal program that still triggers the error.\n",
    "So, your debugging reducer should not simply reduce all possible nodes, but also regularly check whether the reduced code still triggers the failure."
   ]
  },
  {
   "cell_type": "markdown",
   "metadata": {
    "pycharm": {
     "name": "#%% md\n"
    },
    "slideshow": {
     "slide_type": "subslide"
    }
   },
   "source": [
    "Therefore, you are required to implement certain modifications that can be done to the AST. In general, these transformations can be one of the following:   \n",
    "\n",
    "1. Delete a node,\n",
    "2. Substitute a node with the new node (e.g., _pass_ node),\n",
    "3. Substitute a node with all of its children,\n",
    "4. Substitute a node with one of its children."
   ]
  },
  {
   "cell_type": "markdown",
   "metadata": {
    "pycharm": {
     "name": "#%% md\n"
    },
    "slideshow": {
     "slide_type": "subslide"
    }
   },
   "source": [
    "More detailed, one can consider, for instance:\n",
    "\n",
    "1. Replacing a `BoolOp` node by `True`.\n",
    "2. Replacing a `BoolOp` node by `False`.\n",
    "3. Replacing a `BoolOp` node by its left operand.\n",
    "4. Replacing a `BoolOp` node by its right operand.\n",
    "5. Replacing an `If` node by its \"then\" body.\n",
    "6. Replacing an `If` node by its condition.\n",
    "7. Replacing an `If` node by its \"else\" body.\n",
    "8. Replacing all instances of a variable by a constant.\n",
    "9. Replacing expressions by a constant.\n",
    "10. etc.\n",
    "\n",
    "Please, refer to the [official Python `ast` reference](http://docs.python.org/3/library/ast) for a full list of node types."
   ]
  },
  {
   "cell_type": "markdown",
   "metadata": {
    "pycharm": {
     "name": "#%% md\n"
    },
    "slideshow": {
     "slide_type": "slide"
    }
   },
   "source": [
    "## Implementation\n",
    "\n",
    "To succeed in this project, you need to complete the `MyReducer` class."
   ]
  },
  {
   "cell_type": "code",
   "execution_count": 27,
   "metadata": {
    "execution": {
     "iopub.execute_input": "2024-11-09T16:29:21.256692Z",
     "iopub.status.busy": "2024-11-09T16:29:21.256587Z",
     "iopub.status.idle": "2024-11-09T16:29:21.258307Z",
     "shell.execute_reply": "2024-11-09T16:29:21.258080Z"
    },
    "pycharm": {
     "name": "#%%\n"
    },
    "slideshow": {
     "slide_type": "fragment"
    }
   },
   "outputs": [],
   "source": [
    "class MyReducer(ReducingDebugger):\n",
    "\n",
    "    def minimize(self, code: str) -> str:\n",
    "        # TODO: implement this!\n",
    "        return code"
   ]
  },
  {
   "cell_type": "markdown",
   "metadata": {
    "pycharm": {
     "name": "#%% md\n"
    },
    "slideshow": {
     "slide_type": "subslide"
    }
   },
   "source": [
    "To this end, you will need to extend the `NodeReducer` with additional transformations and implement a reducer strategy\n",
    "which collects all possible transformations and applies them to the AST until it is exhaustively minimized.\n",
    "Feel free to make your own implementation or extend the `DeltaDebugger` from the [Reducing Failure-Inducing Inputs chapter](https://www.debuggingbook.org/beta/html/DeltaDebugger.html) with\n",
    "the proper strategy."
   ]
  },
  {
   "cell_type": "markdown",
   "metadata": {
    "pycharm": {
     "name": "#%% md\n"
    },
    "slideshow": {
     "slide_type": "slide"
    }
   },
   "source": [
    "## Evaluation\n",
    "\n",
    "We evaluate your project based on public as well as secret tests. In this section, we present **five** different Python parsers as well as **five** Python input programs, which should be minified.\n",
    "These parsers check for a specific property in the code and fail the execution if the property exists. The input programs and parsers in this section make up the public test cases.\n",
    "If you pass all of those tests **without hardcoding the modifications** you are guaranteed to score 15 points in this project. You can get more points for passing secret tests."
   ]
  },
  {
   "cell_type": "markdown",
   "metadata": {
    "pycharm": {
     "name": "#%% md\n"
    },
    "slideshow": {
     "slide_type": "subslide"
    }
   },
   "source": [
    "### Parsers"
   ]
  },
  {
   "cell_type": "code",
   "execution_count": 28,
   "metadata": {
    "execution": {
     "iopub.execute_input": "2024-11-09T16:29:21.259858Z",
     "iopub.status.busy": "2024-11-09T16:29:21.259759Z",
     "iopub.status.idle": "2024-11-09T16:29:21.261799Z",
     "shell.execute_reply": "2024-11-09T16:29:21.261561Z"
    },
    "pycharm": {
     "name": "#%%\n"
    },
    "slideshow": {
     "slide_type": "fragment"
    }
   },
   "outputs": [],
   "source": [
    "class Parser(ast.NodeVisitor):\n",
    "    \"\"\"The base class for a parser\"\"\"\n",
    "\n",
    "    def parse_tree(self, tree: ast.AST) -> None:\n",
    "        self.visit(tree)\n",
    "\n",
    "    def parse(self, source: str) -> str:\n",
    "        tree = ast.parse(source=source)\n",
    "        self.parse_tree(tree)\n",
    "        return \"The input was successfully parsed.\""
   ]
  },
  {
   "cell_type": "markdown",
   "metadata": {
    "pycharm": {
     "name": "#%% md\n"
    },
    "slideshow": {
     "slide_type": "fragment"
    }
   },
   "source": [
    "`Parser` is the base class for a parser from which all other parsers are derived. It works the same way as the `SimpleParser` introduced earlier."
   ]
  },
  {
   "cell_type": "markdown",
   "metadata": {
    "pycharm": {
     "name": "#%% md\n"
    },
    "slideshow": {
     "slide_type": "subslide"
    }
   },
   "source": [
    "Let's define a couple of parsers which model a failure during processing of a certain code feature."
   ]
  },
  {
   "cell_type": "code",
   "execution_count": 29,
   "metadata": {
    "execution": {
     "iopub.execute_input": "2024-11-09T16:29:21.263467Z",
     "iopub.status.busy": "2024-11-09T16:29:21.263340Z",
     "iopub.status.idle": "2024-11-09T16:29:21.265130Z",
     "shell.execute_reply": "2024-11-09T16:29:21.264854Z"
    },
    "pycharm": {
     "name": "#%%\n"
    },
    "slideshow": {
     "slide_type": "fragment"
    }
   },
   "outputs": [],
   "source": [
    "class Parser1(Parser):\n",
    "    \"\"\"\n",
    "    Contains a boolean operation\n",
    "    \"\"\"\n",
    "\n",
    "    def visit_BoolOp(self, node: ast.BoolOp) -> None:\n",
    "        raise ParserException(f\"Something went wrong\")"
   ]
  },
  {
   "cell_type": "markdown",
   "metadata": {
    "slideshow": {
     "slide_type": "fragment"
    }
   },
   "source": [
    "If we feed this parser with an input program which contains a boolean operation, it fails:"
   ]
  },
  {
   "cell_type": "code",
   "execution_count": 30,
   "metadata": {
    "execution": {
     "iopub.execute_input": "2024-11-09T16:29:21.266762Z",
     "iopub.status.busy": "2024-11-09T16:29:21.266646Z",
     "iopub.status.idle": "2024-11-09T16:29:21.268972Z",
     "shell.execute_reply": "2024-11-09T16:29:21.268671Z"
    },
    "jupyter": {
     "outputs_hidden": false
    },
    "pycharm": {
     "name": "#%%\n"
    },
    "slideshow": {
     "slide_type": "subslide"
    }
   },
   "outputs": [
    {
     "name": "stderr",
     "output_type": "stream",
     "text": [
      "Traceback (most recent call last):\n",
      "  File \"/var/folders/n2/xd9445p97rb3xh7m1dfx8_4h0006ts/T/ipykernel_1505/2806337694.py\", line 5, in <cell line: 4>\n",
      "    parser1.parse(input_program)\n",
      "  File \"/var/folders/n2/xd9445p97rb3xh7m1dfx8_4h0006ts/T/ipykernel_1505/1737200860.py\", line 9, in parse\n",
      "    self.parse_tree(tree)\n",
      "  File \"/var/folders/n2/xd9445p97rb3xh7m1dfx8_4h0006ts/T/ipykernel_1505/1737200860.py\", line 5, in parse_tree\n",
      "    self.visit(tree)\n",
      "  File \"/Users/zeller/.pyenv/versions/3.10.2/lib/python3.10/ast.py\", line 410, in visit\n",
      "    return visitor(node)\n",
      "  File \"/Users/zeller/.pyenv/versions/3.10.2/lib/python3.10/ast.py\", line 418, in generic_visit\n",
      "    self.visit(item)\n",
      "  File \"/Users/zeller/.pyenv/versions/3.10.2/lib/python3.10/ast.py\", line 410, in visit\n",
      "    return visitor(node)\n",
      "  File \"/Users/zeller/.pyenv/versions/3.10.2/lib/python3.10/ast.py\", line 420, in generic_visit\n",
      "    self.visit(value)\n",
      "  File \"/Users/zeller/.pyenv/versions/3.10.2/lib/python3.10/ast.py\", line 410, in visit\n",
      "    return visitor(node)\n",
      "  File \"/var/folders/n2/xd9445p97rb3xh7m1dfx8_4h0006ts/T/ipykernel_1505/2980862917.py\", line 7, in visit_BoolOp\n",
      "    raise ParserException(f\"Something went wrong\")\n",
      "ParserException: Something went wrong (expected)\n"
     ]
    }
   ],
   "source": [
    "parser1 = Parser1()\n",
    "input_program = '''\n",
    "a = True and False'''\n",
    "with ExpectError():\n",
    "    parser1.parse(input_program)"
   ]
  },
  {
   "cell_type": "markdown",
   "metadata": {
    "pycharm": {
     "name": "#%% md\n"
    },
    "slideshow": {
     "slide_type": "subslide"
    }
   },
   "source": [
    "In contrast to the above, an input program _without_ a boolean operation is parsed correctly."
   ]
  },
  {
   "cell_type": "code",
   "execution_count": 31,
   "metadata": {
    "execution": {
     "iopub.execute_input": "2024-11-09T16:29:21.270649Z",
     "iopub.status.busy": "2024-11-09T16:29:21.270514Z",
     "iopub.status.idle": "2024-11-09T16:29:21.272842Z",
     "shell.execute_reply": "2024-11-09T16:29:21.272552Z"
    },
    "jupyter": {
     "outputs_hidden": false
    },
    "pycharm": {
     "name": "#%%\n"
    },
    "slideshow": {
     "slide_type": "fragment"
    }
   },
   "outputs": [
    {
     "data": {
      "text/plain": [
       "'The input was successfully parsed.'"
      ]
     },
     "execution_count": 31,
     "metadata": {},
     "output_type": "execute_result"
    }
   ],
   "source": [
    "parser1 = Parser1()\n",
    "input_program = '''\n",
    "a = 1\n",
    "b = True\n",
    "'''\n",
    "\n",
    "parser1.parse(input_program)"
   ]
  },
  {
   "cell_type": "markdown",
   "metadata": {
    "pycharm": {
     "name": "#%% md\n"
    },
    "slideshow": {
     "slide_type": "fragment"
    }
   },
   "source": [
    "The other parsers are"
   ]
  },
  {
   "cell_type": "code",
   "execution_count": 32,
   "metadata": {
    "execution": {
     "iopub.execute_input": "2024-11-09T16:29:21.274618Z",
     "iopub.status.busy": "2024-11-09T16:29:21.274486Z",
     "iopub.status.idle": "2024-11-09T16:29:21.276562Z",
     "shell.execute_reply": "2024-11-09T16:29:21.276200Z"
    },
    "pycharm": {
     "name": "#%%\n"
    },
    "slideshow": {
     "slide_type": "subslide"
    }
   },
   "outputs": [],
   "source": [
    "class Parser2(Parser):\n",
    "    \"\"\"\n",
    "    Fails if an input program contains `if` statement\n",
    "    \"\"\"\n",
    "    def visit_If(self, node: ast.If) -> None:\n",
    "        raise ParserException(f\"Something went wrong\")"
   ]
  },
  {
   "cell_type": "code",
   "execution_count": 33,
   "metadata": {
    "execution": {
     "iopub.execute_input": "2024-11-09T16:29:21.278340Z",
     "iopub.status.busy": "2024-11-09T16:29:21.278208Z",
     "iopub.status.idle": "2024-11-09T16:29:21.280599Z",
     "shell.execute_reply": "2024-11-09T16:29:21.280249Z"
    },
    "jupyter": {
     "outputs_hidden": false
    },
    "pycharm": {
     "name": "#%%\n"
    },
    "slideshow": {
     "slide_type": "subslide"
    }
   },
   "outputs": [
    {
     "name": "stderr",
     "output_type": "stream",
     "text": [
      "Traceback (most recent call last):\n",
      "  File \"/var/folders/n2/xd9445p97rb3xh7m1dfx8_4h0006ts/T/ipykernel_1505/1476831468.py\", line 9, in <cell line: 8>\n",
      "    parser2.parse(input_program)\n",
      "  File \"/var/folders/n2/xd9445p97rb3xh7m1dfx8_4h0006ts/T/ipykernel_1505/1737200860.py\", line 9, in parse\n",
      "    self.parse_tree(tree)\n",
      "  File \"/var/folders/n2/xd9445p97rb3xh7m1dfx8_4h0006ts/T/ipykernel_1505/1737200860.py\", line 5, in parse_tree\n",
      "    self.visit(tree)\n",
      "  File \"/Users/zeller/.pyenv/versions/3.10.2/lib/python3.10/ast.py\", line 410, in visit\n",
      "    return visitor(node)\n",
      "  File \"/Users/zeller/.pyenv/versions/3.10.2/lib/python3.10/ast.py\", line 418, in generic_visit\n",
      "    self.visit(item)\n",
      "  File \"/Users/zeller/.pyenv/versions/3.10.2/lib/python3.10/ast.py\", line 410, in visit\n",
      "    return visitor(node)\n",
      "  File \"/var/folders/n2/xd9445p97rb3xh7m1dfx8_4h0006ts/T/ipykernel_1505/1684278366.py\", line 6, in visit_If\n",
      "    raise ParserException(f\"Something went wrong\")\n",
      "ParserException: Something went wrong (expected)\n"
     ]
    }
   ],
   "source": [
    "parser2 = Parser2()\n",
    "input_program = '''\n",
    "if a:\n",
    "    b = 1\n",
    "else:\n",
    "    b = 2\n",
    "'''\n",
    "with ExpectError():\n",
    "    parser2.parse(input_program)"
   ]
  },
  {
   "cell_type": "code",
   "execution_count": 34,
   "metadata": {
    "execution": {
     "iopub.execute_input": "2024-11-09T16:29:21.282467Z",
     "iopub.status.busy": "2024-11-09T16:29:21.282306Z",
     "iopub.status.idle": "2024-11-09T16:29:21.285705Z",
     "shell.execute_reply": "2024-11-09T16:29:21.285309Z"
    },
    "pycharm": {
     "name": "#%%\n"
    },
    "slideshow": {
     "slide_type": "subslide"
    }
   },
   "outputs": [],
   "source": [
    "class Parser3(Parser):\n",
    "    \"\"\"\n",
    "    Fails if an input program contains a special unicode character\n",
    "    \"\"\"\n",
    "\n",
    "    def __init__(self) -> None:\n",
    "        self.assignment = False\n",
    "        self.steps = 0\n",
    "\n",
    "    def check_unicode(self, string: str) -> bool:\n",
    "        return string == u'\\u0426'\n",
    "\n",
    "    def generic_visit(self, node: ast.AST) -> None:\n",
    "        self.steps += 1\n",
    "        super().generic_visit(node)\n",
    "\n",
    "    def visit_Assign(self, node: ast.Assign) -> None:\n",
    "        self.assignment = True\n",
    "        self.steps = 0\n",
    "        self.generic_visit(node)\n",
    "\n",
    "    def visit_Constant(self, node: ast.Constant) -> None:\n",
    "        if self.assignment and self.steps == 3:\n",
    "            if isinstance(node.value, str):\n",
    "                if self.check_unicode(node.value):\n",
    "                    raise ParserException(f\"Something went wrong\")"
   ]
  },
  {
   "cell_type": "code",
   "execution_count": 35,
   "metadata": {
    "execution": {
     "iopub.execute_input": "2024-11-09T16:29:21.287306Z",
     "iopub.status.busy": "2024-11-09T16:29:21.287204Z",
     "iopub.status.idle": "2024-11-09T16:29:21.289660Z",
     "shell.execute_reply": "2024-11-09T16:29:21.289255Z"
    },
    "jupyter": {
     "outputs_hidden": false
    },
    "pycharm": {
     "name": "#%%\n"
    },
    "slideshow": {
     "slide_type": "subslide"
    }
   },
   "outputs": [
    {
     "name": "stderr",
     "output_type": "stream",
     "text": [
      "Traceback (most recent call last):\n",
      "  File \"/var/folders/n2/xd9445p97rb3xh7m1dfx8_4h0006ts/T/ipykernel_1505/951683174.py\", line 6, in <cell line: 5>\n",
      "    parser3.parse(input_program)\n",
      "  File \"/var/folders/n2/xd9445p97rb3xh7m1dfx8_4h0006ts/T/ipykernel_1505/1737200860.py\", line 9, in parse\n",
      "    self.parse_tree(tree)\n",
      "  File \"/var/folders/n2/xd9445p97rb3xh7m1dfx8_4h0006ts/T/ipykernel_1505/1737200860.py\", line 5, in parse_tree\n",
      "    self.visit(tree)\n",
      "  File \"/Users/zeller/.pyenv/versions/3.10.2/lib/python3.10/ast.py\", line 410, in visit\n",
      "    return visitor(node)\n",
      "  File \"/var/folders/n2/xd9445p97rb3xh7m1dfx8_4h0006ts/T/ipykernel_1505/2904791116.py\", line 15, in generic_visit\n",
      "    super().generic_visit(node)\n",
      "  File \"/Users/zeller/.pyenv/versions/3.10.2/lib/python3.10/ast.py\", line 418, in generic_visit\n",
      "    self.visit(item)\n",
      "  File \"/Users/zeller/.pyenv/versions/3.10.2/lib/python3.10/ast.py\", line 410, in visit\n",
      "    return visitor(node)\n",
      "  File \"/var/folders/n2/xd9445p97rb3xh7m1dfx8_4h0006ts/T/ipykernel_1505/2904791116.py\", line 20, in visit_Assign\n",
      "    self.generic_visit(node)\n",
      "  File \"/var/folders/n2/xd9445p97rb3xh7m1dfx8_4h0006ts/T/ipykernel_1505/2904791116.py\", line 15, in generic_visit\n",
      "    super().generic_visit(node)\n",
      "  File \"/Users/zeller/.pyenv/versions/3.10.2/lib/python3.10/ast.py\", line 420, in generic_visit\n",
      "    self.visit(value)\n",
      "  File \"/Users/zeller/.pyenv/versions/3.10.2/lib/python3.10/ast.py\", line 410, in visit\n",
      "    return visitor(node)\n",
      "  File \"/var/folders/n2/xd9445p97rb3xh7m1dfx8_4h0006ts/T/ipykernel_1505/2904791116.py\", line 26, in visit_Constant\n",
      "    raise ParserException(f\"Something went wrong\")\n",
      "ParserException: Something went wrong (expected)\n"
     ]
    }
   ],
   "source": [
    "parser3 = Parser3()\n",
    "input_program = '''\n",
    "a = u'\\u0426'\n",
    "'''\n",
    "with ExpectError(ParserException):\n",
    "    parser3.parse(input_program)"
   ]
  },
  {
   "cell_type": "code",
   "execution_count": 36,
   "metadata": {
    "execution": {
     "iopub.execute_input": "2024-11-09T16:29:21.291542Z",
     "iopub.status.busy": "2024-11-09T16:29:21.291426Z",
     "iopub.status.idle": "2024-11-09T16:29:21.294732Z",
     "shell.execute_reply": "2024-11-09T16:29:21.294383Z"
    },
    "slideshow": {
     "slide_type": "subslide"
    }
   },
   "outputs": [],
   "source": [
    "class Parser4(Parser):\n",
    "    \"\"\"\n",
    "    Fails if an input program contains a variable which is not defined\n",
    "    \"\"\"\n",
    "\n",
    "    def __init__(self) -> None:\n",
    "        self.assignment = False\n",
    "        self.steps = 0\n",
    "        self.variables: Set[str] = set()\n",
    "\n",
    "    def generic_visit(self, node: ast.AST) -> None:\n",
    "        self.steps += 1\n",
    "        super().generic_visit(node)\n",
    "\n",
    "    def visit_Name(self, node: ast.Name) -> None:\n",
    "        if self.assignment and self.steps == 1:\n",
    "            self.variables.add(node.id)\n",
    "            self.assignment = False\n",
    "            self.generic_visit(node)\n",
    "        elif node.id in self.variables:\n",
    "            self.generic_visit(node)\n",
    "        else:\n",
    "            raise ParserException(f\"Something went wrong\")\n",
    "\n",
    "    def visit_Assign(self, node: ast.Assign) -> None:\n",
    "        self.assignment = True\n",
    "        self.steps = 0\n",
    "        self.generic_visit(node)"
   ]
  },
  {
   "cell_type": "code",
   "execution_count": 37,
   "metadata": {
    "execution": {
     "iopub.execute_input": "2024-11-09T16:29:21.296377Z",
     "iopub.status.busy": "2024-11-09T16:29:21.296239Z",
     "iopub.status.idle": "2024-11-09T16:29:21.298794Z",
     "shell.execute_reply": "2024-11-09T16:29:21.298405Z"
    },
    "jupyter": {
     "outputs_hidden": false
    },
    "pycharm": {
     "name": "#%%\n"
    },
    "slideshow": {
     "slide_type": "subslide"
    }
   },
   "outputs": [
    {
     "name": "stderr",
     "output_type": "stream",
     "text": [
      "Traceback (most recent call last):\n",
      "  File \"/var/folders/n2/xd9445p97rb3xh7m1dfx8_4h0006ts/T/ipykernel_1505/1261297070.py\", line 7, in <cell line: 6>\n",
      "    parser4.parse(input_program)\n",
      "  File \"/var/folders/n2/xd9445p97rb3xh7m1dfx8_4h0006ts/T/ipykernel_1505/1737200860.py\", line 9, in parse\n",
      "    self.parse_tree(tree)\n",
      "  File \"/var/folders/n2/xd9445p97rb3xh7m1dfx8_4h0006ts/T/ipykernel_1505/1737200860.py\", line 5, in parse_tree\n",
      "    self.visit(tree)\n",
      "  File \"/Users/zeller/.pyenv/versions/3.10.2/lib/python3.10/ast.py\", line 410, in visit\n",
      "    return visitor(node)\n",
      "  File \"/var/folders/n2/xd9445p97rb3xh7m1dfx8_4h0006ts/T/ipykernel_1505/3413124393.py\", line 13, in generic_visit\n",
      "    super().generic_visit(node)\n",
      "  File \"/Users/zeller/.pyenv/versions/3.10.2/lib/python3.10/ast.py\", line 418, in generic_visit\n",
      "    self.visit(item)\n",
      "  File \"/Users/zeller/.pyenv/versions/3.10.2/lib/python3.10/ast.py\", line 410, in visit\n",
      "    return visitor(node)\n",
      "  File \"/var/folders/n2/xd9445p97rb3xh7m1dfx8_4h0006ts/T/ipykernel_1505/3413124393.py\", line 28, in visit_Assign\n",
      "    self.generic_visit(node)\n",
      "  File \"/var/folders/n2/xd9445p97rb3xh7m1dfx8_4h0006ts/T/ipykernel_1505/3413124393.py\", line 13, in generic_visit\n",
      "    super().generic_visit(node)\n",
      "  File \"/Users/zeller/.pyenv/versions/3.10.2/lib/python3.10/ast.py\", line 420, in generic_visit\n",
      "    self.visit(value)\n",
      "  File \"/Users/zeller/.pyenv/versions/3.10.2/lib/python3.10/ast.py\", line 410, in visit\n",
      "    return visitor(node)\n",
      "  File \"/var/folders/n2/xd9445p97rb3xh7m1dfx8_4h0006ts/T/ipykernel_1505/3413124393.py\", line 23, in visit_Name\n",
      "    raise ParserException(f\"Something went wrong\")\n",
      "ParserException: Something went wrong (expected)\n"
     ]
    }
   ],
   "source": [
    "parser4 = Parser4()\n",
    "input_program = '''\n",
    "a = 1\n",
    "b = c\n",
    "'''\n",
    "with ExpectError(ParserException):\n",
    "    parser4.parse(input_program)"
   ]
  },
  {
   "cell_type": "code",
   "execution_count": 38,
   "metadata": {
    "execution": {
     "iopub.execute_input": "2024-11-09T16:29:21.300467Z",
     "iopub.status.busy": "2024-11-09T16:29:21.300347Z",
     "iopub.status.idle": "2024-11-09T16:29:21.302335Z",
     "shell.execute_reply": "2024-11-09T16:29:21.302033Z"
    },
    "pycharm": {
     "name": "#%%\n"
    },
    "slideshow": {
     "slide_type": "subslide"
    }
   },
   "outputs": [],
   "source": [
    "class Parser5(Parser):\n",
    "    \"\"\"\n",
    "    Fails if an input program contains a list\n",
    "    \"\"\"\n",
    "\n",
    "    def visit_List(self, node: ast.List) -> None:\n",
    "        raise ParserException(f\"Something went wrong\") "
   ]
  },
  {
   "cell_type": "code",
   "execution_count": 39,
   "metadata": {
    "execution": {
     "iopub.execute_input": "2024-11-09T16:29:21.304184Z",
     "iopub.status.busy": "2024-11-09T16:29:21.304055Z",
     "iopub.status.idle": "2024-11-09T16:29:21.306561Z",
     "shell.execute_reply": "2024-11-09T16:29:21.306234Z"
    },
    "jupyter": {
     "outputs_hidden": false
    },
    "pycharm": {
     "name": "#%%\n"
    },
    "slideshow": {
     "slide_type": "subslide"
    }
   },
   "outputs": [
    {
     "name": "stderr",
     "output_type": "stream",
     "text": [
      "Traceback (most recent call last):\n",
      "  File \"/var/folders/n2/xd9445p97rb3xh7m1dfx8_4h0006ts/T/ipykernel_1505/3158638464.py\", line 6, in <cell line: 5>\n",
      "    parser5.parse(input_program)\n",
      "  File \"/var/folders/n2/xd9445p97rb3xh7m1dfx8_4h0006ts/T/ipykernel_1505/1737200860.py\", line 9, in parse\n",
      "    self.parse_tree(tree)\n",
      "  File \"/var/folders/n2/xd9445p97rb3xh7m1dfx8_4h0006ts/T/ipykernel_1505/1737200860.py\", line 5, in parse_tree\n",
      "    self.visit(tree)\n",
      "  File \"/Users/zeller/.pyenv/versions/3.10.2/lib/python3.10/ast.py\", line 410, in visit\n",
      "    return visitor(node)\n",
      "  File \"/Users/zeller/.pyenv/versions/3.10.2/lib/python3.10/ast.py\", line 418, in generic_visit\n",
      "    self.visit(item)\n",
      "  File \"/Users/zeller/.pyenv/versions/3.10.2/lib/python3.10/ast.py\", line 410, in visit\n",
      "    return visitor(node)\n",
      "  File \"/Users/zeller/.pyenv/versions/3.10.2/lib/python3.10/ast.py\", line 420, in generic_visit\n",
      "    self.visit(value)\n",
      "  File \"/Users/zeller/.pyenv/versions/3.10.2/lib/python3.10/ast.py\", line 410, in visit\n",
      "    return visitor(node)\n",
      "  File \"/Users/zeller/.pyenv/versions/3.10.2/lib/python3.10/ast.py\", line 418, in generic_visit\n",
      "    self.visit(item)\n",
      "  File \"/Users/zeller/.pyenv/versions/3.10.2/lib/python3.10/ast.py\", line 410, in visit\n",
      "    return visitor(node)\n",
      "  File \"/Users/zeller/.pyenv/versions/3.10.2/lib/python3.10/ast.py\", line 420, in generic_visit\n",
      "    self.visit(value)\n",
      "  File \"/Users/zeller/.pyenv/versions/3.10.2/lib/python3.10/ast.py\", line 410, in visit\n",
      "    return visitor(node)\n",
      "  File \"/Users/zeller/.pyenv/versions/3.10.2/lib/python3.10/ast.py\", line 418, in generic_visit\n",
      "    self.visit(item)\n",
      "  File \"/Users/zeller/.pyenv/versions/3.10.2/lib/python3.10/ast.py\", line 410, in visit\n",
      "    return visitor(node)\n",
      "  File \"/var/folders/n2/xd9445p97rb3xh7m1dfx8_4h0006ts/T/ipykernel_1505/4175947920.py\", line 7, in visit_List\n",
      "    raise ParserException(f\"Something went wrong\")\n",
      "ParserException: Something went wrong (expected)\n"
     ]
    }
   ],
   "source": [
    "parser5 = Parser5()\n",
    "input_program = '''\n",
    "a = {x * 2 for x in map(int, ['1', '2', '3'])}\n",
    "'''\n",
    "with ExpectError(ParserException):\n",
    "    parser5.parse(input_program)"
   ]
  },
  {
   "cell_type": "markdown",
   "metadata": {
    "slideshow": {
     "slide_type": "subslide"
    }
   },
   "source": [
    "For secret tests we may use other parsers crafted in the same way."
   ]
  },
  {
   "cell_type": "markdown",
   "metadata": {
    "pycharm": {
     "name": "#%% md\n"
    },
    "slideshow": {
     "slide_type": "subslide"
    }
   },
   "source": [
    "### Input Programs"
   ]
  },
  {
   "cell_type": "markdown",
   "metadata": {
    "slideshow": {
     "slide_type": "fragment"
    }
   },
   "source": [
    "Now we present five public tests.\n",
    "Each test case implements a `get_original()` method that returns an input program which your reducer should minify.\n",
    "It also has a `parser` field which stores a parser used for a respective input program.\n",
    "Besides, `get_minimized()` method provides a reference solution."
   ]
  },
  {
   "cell_type": "code",
   "execution_count": 40,
   "metadata": {
    "execution": {
     "iopub.execute_input": "2024-11-09T16:29:21.308403Z",
     "iopub.status.busy": "2024-11-09T16:29:21.308274Z",
     "iopub.status.idle": "2024-11-09T16:29:21.310328Z",
     "shell.execute_reply": "2024-11-09T16:29:21.310052Z"
    },
    "jupyter": {
     "outputs_hidden": false
    },
    "pycharm": {
     "name": "#%%\n"
    },
    "slideshow": {
     "slide_type": "subslide"
    }
   },
   "outputs": [],
   "source": [
    "class Test1:\n",
    "    parser = Parser1()\n",
    "\n",
    "    def get_original(self) -> str:\n",
    "        return '''\n",
    "def original():\n",
    "    a = True\n",
    "    b = not False\n",
    "    c = 30\n",
    "    for i in range(c):\n",
    "        if i == 15:\n",
    "            if a and b:\n",
    "                return 1\n",
    "    return 0\n",
    "'''\n",
    "\n",
    "    def get_minimized(self) -> str:\n",
    "        return '''\n",
    "True and True'''"
   ]
  },
  {
   "cell_type": "code",
   "execution_count": 41,
   "metadata": {
    "execution": {
     "iopub.execute_input": "2024-11-09T16:29:21.311961Z",
     "iopub.status.busy": "2024-11-09T16:29:21.311841Z",
     "iopub.status.idle": "2024-11-09T16:29:21.313913Z",
     "shell.execute_reply": "2024-11-09T16:29:21.313580Z"
    },
    "jupyter": {
     "outputs_hidden": false
    },
    "pycharm": {
     "name": "#%%\n"
    },
    "slideshow": {
     "slide_type": "subslide"
    }
   },
   "outputs": [],
   "source": [
    "class Test2:\n",
    "    parser = Parser2()\n",
    "    def get_original(self) -> str:\n",
    "        return '''\n",
    "def original():\n",
    "    a = True\n",
    "    b = not False\n",
    "    c = 30\n",
    "    for i in range(c):\n",
    "        if i == 15:\n",
    "            if a and b:\n",
    "                return 1\n",
    "    return 0\n",
    "    '''\n",
    "\n",
    "    def get_minimized(self) -> str:\n",
    "        return '''\n",
    "if True:\n",
    "    return\n",
    "'''"
   ]
  },
  {
   "cell_type": "code",
   "execution_count": 42,
   "metadata": {
    "execution": {
     "iopub.execute_input": "2024-11-09T16:29:21.315624Z",
     "iopub.status.busy": "2024-11-09T16:29:21.315516Z",
     "iopub.status.idle": "2024-11-09T16:29:21.317511Z",
     "shell.execute_reply": "2024-11-09T16:29:21.317245Z"
    },
    "jupyter": {
     "outputs_hidden": false
    },
    "pycharm": {
     "name": "#%%\n"
    },
    "slideshow": {
     "slide_type": "subslide"
    }
   },
   "outputs": [],
   "source": [
    "class Test3:\n",
    "    parser = Parser3()\n",
    "    def get_original(self) -> str:\n",
    "        return '''\n",
    "def original():\n",
    "    a = 1\n",
    "    b = a\n",
    "    c = a - b\n",
    "    if c < a:\n",
    "        d = ''\n",
    "        while a == b:\n",
    "            d = u'\\u0426'\n",
    "            a += 1\n",
    "        return d\n",
    "    return ''\n",
    "'''\n",
    "\n",
    "    def get_minimized(self) -> str:\n",
    "        return '''\n",
    "d = u'\\u0426'\n",
    "'''"
   ]
  },
  {
   "cell_type": "code",
   "execution_count": 43,
   "metadata": {
    "execution": {
     "iopub.execute_input": "2024-11-09T16:29:21.319076Z",
     "iopub.status.busy": "2024-11-09T16:29:21.318967Z",
     "iopub.status.idle": "2024-11-09T16:29:21.320813Z",
     "shell.execute_reply": "2024-11-09T16:29:21.320513Z"
    },
    "jupyter": {
     "outputs_hidden": false
    },
    "pycharm": {
     "name": "#%%\n"
    },
    "slideshow": {
     "slide_type": "subslide"
    }
   },
   "outputs": [],
   "source": [
    "class Test4:\n",
    "    parser = Parser4()\n",
    "    def get_original(self) -> str:\n",
    "        return '''\n",
    "def original():\n",
    "    a = 1\n",
    "    b = a\n",
    "    c = a - b\n",
    "    if c < a:\n",
    "        while a == b:\n",
    "            a += 1\n",
    "        return d\n",
    "    return ''\n",
    "'''\n",
    "\n",
    "    def get_minimized(self) -> str:\n",
    "        return '''\n",
    "d\n",
    "'''"
   ]
  },
  {
   "cell_type": "code",
   "execution_count": 44,
   "metadata": {
    "execution": {
     "iopub.execute_input": "2024-11-09T16:29:21.322531Z",
     "iopub.status.busy": "2024-11-09T16:29:21.322409Z",
     "iopub.status.idle": "2024-11-09T16:29:21.324366Z",
     "shell.execute_reply": "2024-11-09T16:29:21.324123Z"
    },
    "jupyter": {
     "outputs_hidden": false
    },
    "pycharm": {
     "name": "#%%\n"
    },
    "slideshow": {
     "slide_type": "subslide"
    }
   },
   "outputs": [],
   "source": [
    "class Test5:\n",
    "    parser = Parser5()\n",
    "\n",
    "    def get_original(self) -> str:\n",
    "        return '''\n",
    "def original():\n",
    "    a = 1\n",
    "    b = 0\n",
    "    while True:\n",
    "        if a < b:\n",
    "            return [1, 2, 3]\n",
    "        else:\n",
    "            return []\n",
    "'''\n",
    "\n",
    "    def get_minimized(self) -> str:\n",
    "        return '''\n",
    "[]\n",
    "'''"
   ]
  },
  {
   "cell_type": "markdown",
   "metadata": {
    "pycharm": {
     "name": "#%% md\n"
    },
    "slideshow": {
     "slide_type": "subslide"
    }
   },
   "source": [
    "For instance, let's take the input program of `Test1`:"
   ]
  },
  {
   "cell_type": "code",
   "execution_count": 45,
   "metadata": {
    "execution": {
     "iopub.execute_input": "2024-11-09T16:29:21.325906Z",
     "iopub.status.busy": "2024-11-09T16:29:21.325795Z",
     "iopub.status.idle": "2024-11-09T16:29:21.327663Z",
     "shell.execute_reply": "2024-11-09T16:29:21.327398Z"
    },
    "jupyter": {
     "outputs_hidden": false
    },
    "pycharm": {
     "name": "#%%\n"
    },
    "slideshow": {
     "slide_type": "subslide"
    }
   },
   "outputs": [
    {
     "name": "stdout",
     "output_type": "stream",
     "text": [
      "\n",
      "def original():\n",
      "    a = True\n",
      "    b = not False\n",
      "    c = 30\n",
      "    for i in range(c):\n",
      "        if i == 15:\n",
      "            if a and b:\n",
      "                return 1\n",
      "    return 0\n",
      "\n"
     ]
    }
   ],
   "source": [
    "test = Test1()\n",
    "source = test.get_original()\n",
    "print(source)"
   ]
  },
  {
   "cell_type": "markdown",
   "metadata": {
    "slideshow": {
     "slide_type": "subslide"
    }
   },
   "source": [
    "And parse it with the provided parser:"
   ]
  },
  {
   "cell_type": "code",
   "execution_count": 46,
   "metadata": {
    "execution": {
     "iopub.execute_input": "2024-11-09T16:29:21.329183Z",
     "iopub.status.busy": "2024-11-09T16:29:21.329077Z",
     "iopub.status.idle": "2024-11-09T16:29:21.331230Z",
     "shell.execute_reply": "2024-11-09T16:29:21.330927Z"
    },
    "jupyter": {
     "outputs_hidden": false
    },
    "pycharm": {
     "name": "#%%\n"
    },
    "slideshow": {
     "slide_type": "subslide"
    }
   },
   "outputs": [
    {
     "name": "stderr",
     "output_type": "stream",
     "text": [
      "Traceback (most recent call last):\n",
      "  File \"/var/folders/n2/xd9445p97rb3xh7m1dfx8_4h0006ts/T/ipykernel_1505/1292946598.py\", line 2, in <cell line: 1>\n",
      "    test.parser.parse(source)\n",
      "  File \"/var/folders/n2/xd9445p97rb3xh7m1dfx8_4h0006ts/T/ipykernel_1505/1737200860.py\", line 9, in parse\n",
      "    self.parse_tree(tree)\n",
      "  File \"/var/folders/n2/xd9445p97rb3xh7m1dfx8_4h0006ts/T/ipykernel_1505/1737200860.py\", line 5, in parse_tree\n",
      "    self.visit(tree)\n",
      "  File \"/Users/zeller/.pyenv/versions/3.10.2/lib/python3.10/ast.py\", line 410, in visit\n",
      "    return visitor(node)\n",
      "  File \"/Users/zeller/.pyenv/versions/3.10.2/lib/python3.10/ast.py\", line 418, in generic_visit\n",
      "    self.visit(item)\n",
      "  File \"/Users/zeller/.pyenv/versions/3.10.2/lib/python3.10/ast.py\", line 410, in visit\n",
      "    return visitor(node)\n",
      "  File \"/Users/zeller/.pyenv/versions/3.10.2/lib/python3.10/ast.py\", line 418, in generic_visit\n",
      "    self.visit(item)\n",
      "  File \"/Users/zeller/.pyenv/versions/3.10.2/lib/python3.10/ast.py\", line 410, in visit\n",
      "    return visitor(node)\n",
      "  File \"/Users/zeller/.pyenv/versions/3.10.2/lib/python3.10/ast.py\", line 418, in generic_visit\n",
      "    self.visit(item)\n",
      "  File \"/Users/zeller/.pyenv/versions/3.10.2/lib/python3.10/ast.py\", line 410, in visit\n",
      "    return visitor(node)\n",
      "  File \"/Users/zeller/.pyenv/versions/3.10.2/lib/python3.10/ast.py\", line 418, in generic_visit\n",
      "    self.visit(item)\n",
      "  File \"/Users/zeller/.pyenv/versions/3.10.2/lib/python3.10/ast.py\", line 410, in visit\n",
      "    return visitor(node)\n",
      "  File \"/Users/zeller/.pyenv/versions/3.10.2/lib/python3.10/ast.py\", line 420, in generic_visit\n",
      "    self.visit(value)\n",
      "  File \"/Users/zeller/.pyenv/versions/3.10.2/lib/python3.10/ast.py\", line 410, in visit\n",
      "    return visitor(node)\n",
      "  File \"/var/folders/n2/xd9445p97rb3xh7m1dfx8_4h0006ts/T/ipykernel_1505/2980862917.py\", line 7, in visit_BoolOp\n",
      "    raise ParserException(f\"Something went wrong\")\n",
      "ParserException: Something went wrong (expected)\n"
     ]
    }
   ],
   "source": [
    "with ExpectError():\n",
    "    test.parser.parse(source)"
   ]
  },
  {
   "cell_type": "markdown",
   "metadata": {
    "slideshow": {
     "slide_type": "subslide"
    }
   },
   "source": [
    "The parser failed."
   ]
  },
  {
   "cell_type": "markdown",
   "metadata": {
    "slideshow": {
     "slide_type": "subslide"
    }
   },
   "source": [
    "### Testing Infrastructure\n",
    "\n",
    "The following section introduces the testing infrastructure, which is used to assess your performance in the project. Passing all tests will be enough to complete the project successfully."
   ]
  },
  {
   "cell_type": "markdown",
   "metadata": {
    "pycharm": {
     "name": "#%% md\n"
    },
    "slideshow": {
     "slide_type": "fragment"
    }
   },
   "source": [
    "We are not going to directly compare a minimized program with the reference solution (as two strings). Instead, we again transform the code into AST and count the number of nodes in both trees.\n",
    "If the difference between them is lower than a `THRESHOLD` (and a parser still produces an error), the test is passed.\n",
    "To count the number of nodes in the AST, we need a helper class `NodeCounter`."
   ]
  },
  {
   "cell_type": "code",
   "execution_count": 47,
   "metadata": {
    "execution": {
     "iopub.execute_input": "2024-11-09T16:29:21.333124Z",
     "iopub.status.busy": "2024-11-09T16:29:21.333001Z",
     "iopub.status.idle": "2024-11-09T16:29:21.335322Z",
     "shell.execute_reply": "2024-11-09T16:29:21.335073Z"
    },
    "pycharm": {
     "name": "#%%\n"
    },
    "slideshow": {
     "slide_type": "subslide"
    }
   },
   "outputs": [],
   "source": [
    "class NodeCounter(ast.NodeVisitor):\n",
    "    \"\"\"\n",
    "    This node counter is used to assess\n",
    "    the amount of reductions performed by your reducer.\n",
    "    It counts the number of nodes in the AST.\n",
    "    \"\"\"\n",
    "\n",
    "    def __init__(self) -> None:\n",
    "        self.num_nodes = 0\n",
    "\n",
    "    def visit(self, node: ast.AST) -> None:\n",
    "        self.num_nodes += 1\n",
    "        self.generic_visit(node)\n",
    "\n",
    "    def count(self, source: str) -> int:\n",
    "        tree = ast.parse(source=source)\n",
    "        self.visit(tree)\n",
    "        return self.num_nodes"
   ]
  },
  {
   "cell_type": "markdown",
   "metadata": {
    "pycharm": {
     "name": "#%% md\n"
    },
    "slideshow": {
     "slide_type": "subslide"
    }
   },
   "source": [
    "The AST of the input program is as follows:"
   ]
  },
  {
   "cell_type": "code",
   "execution_count": 48,
   "metadata": {
    "execution": {
     "iopub.execute_input": "2024-11-09T16:29:21.336929Z",
     "iopub.status.busy": "2024-11-09T16:29:21.336813Z",
     "iopub.status.idle": "2024-11-09T16:29:21.818517Z",
     "shell.execute_reply": "2024-11-09T16:29:21.818168Z"
    },
    "jupyter": {
     "outputs_hidden": false
    },
    "pycharm": {
     "name": "#%%\n"
    },
    "slideshow": {
     "slide_type": "fragment"
    }
   },
   "outputs": [
    {
     "name": "stdout",
     "output_type": "stream",
     "text": [
      "The number of nodes is 42\n"
     ]
    }
   ],
   "source": [
    "show_ast(ast.parse(source))\n",
    "print(f\"The number of nodes is {NodeCounter().count(source)}\")"
   ]
  },
  {
   "cell_type": "markdown",
   "metadata": {
    "slideshow": {
     "slide_type": "fragment"
    }
   },
   "source": [
    "As you can see, the input program of `Test1` has 42 nodes."
   ]
  },
  {
   "cell_type": "markdown",
   "metadata": {
    "slideshow": {
     "slide_type": "fragment"
    }
   },
   "source": [
    "The testing framework takes a reducer and allows executing a single test or all tests at once."
   ]
  },
  {
   "cell_type": "code",
   "execution_count": 49,
   "metadata": {
    "execution": {
     "iopub.execute_input": "2024-11-09T16:29:21.820523Z",
     "iopub.status.busy": "2024-11-09T16:29:21.820387Z",
     "iopub.status.idle": "2024-11-09T16:29:21.826407Z",
     "shell.execute_reply": "2024-11-09T16:29:21.826127Z"
    },
    "pycharm": {
     "name": "#%%\n"
    },
    "slideshow": {
     "slide_type": "subslide"
    }
   },
   "outputs": [],
   "source": [
    "class TestingFramework:\n",
    "    THRESHOLD = 3\n",
    "    test_cases = {\n",
    "        'test1': Test1(),\n",
    "        'test2': Test2(),\n",
    "        'test3': Test3(),\n",
    "        'test4': Test4(),\n",
    "        'test5': Test5()\n",
    "    }\n",
    "\n",
    "    def __init__(self, reducer: Any) -> None:\n",
    "        self.reducer = reducer\n",
    "\n",
    "    def count_nodes(self, source: Optional[str]) -> int:\n",
    "        if source is None:\n",
    "            return 100000\n",
    "        return NodeCounter().count(source)\n",
    "\n",
    "    def run_test(self, test: Any) -> bool:\n",
    "        \"\"\"\n",
    "        run a single test\n",
    "        \"\"\"\n",
    "        print(f'Running test {test.__class__.__name__}')\n",
    "        reducer = self.reducer(test.parser)\n",
    "        reduced_code = reducer.minimize(test.get_original())\n",
    "        return (self.has_property(reduced_code, test.parser) and \n",
    "                self.is_minimized(reduced_code, test.get_minimized()))\n",
    "\n",
    "    def run_tests(self) -> None:\n",
    "        \"\"\"\n",
    "        run all public tests\n",
    "        \"\"\"\n",
    "        passed_tests = 0\n",
    "        for test in self.test_cases.values():\n",
    "            success = self.run_test(test)\n",
    "            if success:\n",
    "                passed_tests += 1\n",
    "\n",
    "        print(f\"In total {passed_tests} tests passed\")\n",
    "\n",
    "    def has_property(self, source: str, parser: Any) -> bool:\n",
    "        \"\"\"returns True if the parser fails to parse the source\"\"\"\n",
    "        try:\n",
    "            parser.parse(source)\n",
    "            print(f'HAS PROPERTY: FAIL')\n",
    "            return False\n",
    "        except ParserException:\n",
    "            print(f'HAS PROPERTY: OK')\n",
    "            return True\n",
    "        except Exception as e:\n",
    "            print(f'HAS PROPERTY: FAIL {e}')\n",
    "            return False\n",
    "\n",
    "    def is_minimized(self, reduced: str, reference: str) -> bool:\n",
    "        \"\"\"\n",
    "        Returns True if the AST of the reduced code contains \n",
    "        no more then the number of nodes in the reference + a THRESHOLD\n",
    "        \"\"\"\n",
    "        count_minimized = self.count_nodes(reduced)\n",
    "        count_reference = self.count_nodes(reference)\n",
    "        if count_minimized <= count_reference + self.THRESHOLD:\n",
    "            print(f'IS MINIMIZED: OK')\n",
    "            return True\n",
    "        else:\n",
    "            print(f'IS MINIMIZED: FAIL')\n",
    "            return False"
   ]
  },
  {
   "cell_type": "markdown",
   "metadata": {
    "pycharm": {
     "name": "#%% md\n"
    },
    "slideshow": {
     "slide_type": "subslide"
    }
   },
   "source": [
    "Let's test our `ReducingDebugger` with the following test:"
   ]
  },
  {
   "cell_type": "code",
   "execution_count": 50,
   "metadata": {
    "execution": {
     "iopub.execute_input": "2024-11-09T16:29:21.828065Z",
     "iopub.status.busy": "2024-11-09T16:29:21.827949Z",
     "iopub.status.idle": "2024-11-09T16:29:21.829816Z",
     "shell.execute_reply": "2024-11-09T16:29:21.829583Z"
    },
    "jupyter": {
     "outputs_hidden": false
    },
    "pycharm": {
     "name": "#%%\n"
    },
    "slideshow": {
     "slide_type": "fragment"
    }
   },
   "outputs": [],
   "source": [
    "class Test0:\n",
    "    parser = Parser1()\n",
    "\n",
    "    def get_original(self) -> str:\n",
    "        return '''\n",
    "if a and b:\n",
    "    c = 1\n",
    "else:\n",
    "    c = 2\n",
    "'''\n",
    "\n",
    "    def get_minimized(self) -> str:\n",
    "        return '''\n",
    "a and b'''"
   ]
  },
  {
   "cell_type": "code",
   "execution_count": 51,
   "metadata": {
    "execution": {
     "iopub.execute_input": "2024-11-09T16:29:21.831315Z",
     "iopub.status.busy": "2024-11-09T16:29:21.831212Z",
     "iopub.status.idle": "2024-11-09T16:29:21.833401Z",
     "shell.execute_reply": "2024-11-09T16:29:21.833120Z"
    },
    "jupyter": {
     "outputs_hidden": false
    },
    "pycharm": {
     "name": "#%%\n"
    },
    "slideshow": {
     "slide_type": "subslide"
    }
   },
   "outputs": [
    {
     "name": "stdout",
     "output_type": "stream",
     "text": [
      "Running test Test0\n",
      "HAS PROPERTY: OK\n",
      "IS MINIMIZED: OK\n",
      "Success!\n"
     ]
    }
   ],
   "source": [
    "tf = TestingFramework(ReducingDebugger)\n",
    "if tf.run_test(Test0()):\n",
    "    print(\"Success!\")"
   ]
  },
  {
   "cell_type": "markdown",
   "metadata": {
    "slideshow": {
     "slide_type": "fragment"
    }
   },
   "source": [
    "The input program was successfully minimized."
   ]
  },
  {
   "cell_type": "markdown",
   "metadata": {
    "pycharm": {
     "name": "#%% md\n"
    },
    "slideshow": {
     "slide_type": "fragment"
    }
   },
   "source": [
    "What if we run all public tests?"
   ]
  },
  {
   "cell_type": "code",
   "execution_count": 52,
   "metadata": {
    "execution": {
     "iopub.execute_input": "2024-11-09T16:29:21.835085Z",
     "iopub.status.busy": "2024-11-09T16:29:21.834971Z",
     "iopub.status.idle": "2024-11-09T16:29:21.838389Z",
     "shell.execute_reply": "2024-11-09T16:29:21.838094Z"
    },
    "pycharm": {
     "name": "#%%\n"
    },
    "slideshow": {
     "slide_type": "subslide"
    }
   },
   "outputs": [
    {
     "name": "stdout",
     "output_type": "stream",
     "text": [
      "Running test Test1\n",
      "HAS PROPERTY: OK\n",
      "IS MINIMIZED: FAIL\n",
      "Running test Test2\n",
      "HAS PROPERTY: OK\n",
      "IS MINIMIZED: FAIL\n",
      "Running test Test3\n",
      "HAS PROPERTY: OK\n",
      "IS MINIMIZED: FAIL\n",
      "Running test Test4\n",
      "HAS PROPERTY: OK\n",
      "IS MINIMIZED: FAIL\n",
      "Running test Test5\n",
      "HAS PROPERTY: OK\n",
      "IS MINIMIZED: FAIL\n",
      "In total 0 tests passed\n"
     ]
    }
   ],
   "source": [
    "tf.run_tests()"
   ]
  },
  {
   "cell_type": "markdown",
   "metadata": {
    "slideshow": {
     "slide_type": "subslide"
    }
   },
   "source": [
    "Unfortunately, our parser failed to minimize all input programs from the public test suite."
   ]
  },
  {
   "cell_type": "markdown",
   "metadata": {
    "slideshow": {
     "slide_type": "slide"
    }
   },
   "source": [
    "## Grading"
   ]
  },
  {
   "cell_type": "markdown",
   "metadata": {
    "slideshow": {
     "slide_type": "fragment"
    }
   },
   "source": [
    "For this project, you can get a total of 30 Points:\n",
    "\n",
    "* 15 Points will be awarded for passing the public test (**without hardcoding the minimized solution or the sequence of transformations**) presented in this notebook.\n",
    "These 15 points mean that you successfully implemented the must-have implementation.\n",
    "* 5 Points will be awarded for passing secret tests.\n",
    "* 10 Points will be awarded for efficient implementation (see may-have implementation)."
   ]
  },
  {
   "cell_type": "markdown",
   "metadata": {
    "slideshow": {
     "slide_type": "subslide"
    }
   },
   "source": [
    "### Must-have Features\n",
    "\n",
    "Implement a reducer which minifies a given program so that its parser still produces an error.\n",
    "To this end, collect all possible transformations over the nodes of an AST tree and then apply one change at a time.\n",
    "These modifications should be repeated until no further updates can be made without triggering a parser exception.\n",
    "If your reducer passes secret test you are awarded additional 5 points.\n",
    "\n",
    "*Note: Implementing the given modifications should be sufficient to successfully complete this project.*"
   ]
  },
  {
   "cell_type": "markdown",
   "metadata": {
    "pycharm": {
     "name": "#%% md\n"
    },
    "slideshow": {
     "slide_type": "subslide"
    }
   },
   "source": [
    "### May-have Features\n",
    "\n",
    "An implementation only of the must-have features aims for correctness but can be inefficient (if transformations are applied one at a time). So, it can be optimized, for instance, with help of the Delta Debugging approach.\n",
    "\n",
    "Implement an AST Delta Debugger which efficiently prunes the nodes.\n",
    "If your reducer can beat the runtime of our reference implementation (which simply collects all possible transformations and applies them randomly one at a time) you can get up to 10 points (depending on the margin).\n",
    "\n",
    "Hint: The [Reducing Failure-Inducing Inputs chapter](https://www.debuggingbook.org/beta/html/DeltaDebugger.html) already tries to optimize the reduction of the AST with help of Delta Debugging.  \n",
    "Hint: For instance, you can find useful _Hierarchical Delta Debugging_ paper from the Background section of **Reducing Failure-Inducing Inputs** Chapter."
   ]
  }
 ],
 "metadata": {
  "ipub": {
   "bibliography": "fuzzingbook.bib"
  },
  "kernelspec": {
   "display_name": "Python 3 (ipykernel)",
   "language": "python",
   "name": "python3"
  },
  "language_info": {
   "codemirror_mode": {
    "name": "ipython",
    "version": 3
   },
   "file_extension": ".py",
   "mimetype": "text/x-python",
   "name": "python",
   "nbconvert_exporter": "python",
   "pygments_lexer": "ipython3",
   "version": "3.10.2"
  },
  "toc": {
   "base_numbering": 1,
   "nav_menu": {},
   "number_sections": true,
   "sideBar": true,
   "skip_h1_title": true,
   "title_cell": "",
   "title_sidebar": "Contents",
   "toc_cell": false,
   "toc_position": {},
   "toc_section_display": true,
   "toc_window_display": true
  },
  "toc-autonumbering": false
 },
 "nbformat": 4,
 "nbformat_minor": 4
}
