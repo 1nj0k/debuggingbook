{
 "cells": [
  {
   "cell_type": "markdown",
   "metadata": {
    "button": false,
    "new_sheet": false,
    "run_control": {
     "read_only": false
    },
    "slideshow": {
     "slide_type": "slide"
    }
   },
   "source": [
    "# Statistical Debugging\n",
    "\n",
    "In this chapter, we introduce _statistical debugging_ – the idea that specific events during execution could be _statistically correlated_ with failures. We start with coverage of individual lines and then proceed towards further execution features."
   ]
  },
  {
   "cell_type": "code",
   "execution_count": 1,
   "metadata": {
    "execution": {
     "iopub.execute_input": "2024-01-17T21:32:46.400180Z",
     "iopub.status.busy": "2024-01-17T21:32:46.399915Z",
     "iopub.status.idle": "2024-01-17T21:32:46.445946Z",
     "shell.execute_reply": "2024-01-17T21:32:46.445591Z"
    },
    "slideshow": {
     "slide_type": "skip"
    }
   },
   "outputs": [
    {
     "data": {
      "text/html": [
       "\n",
       "        <iframe\n",
       "            width=\"640\"\n",
       "            height=\"360\"\n",
       "            src=\"https://www.youtube-nocookie.com/embed/UNuso00zYiI\"\n",
       "            frameborder=\"0\"\n",
       "            allowfullscreen\n",
       "            \n",
       "        ></iframe>\n",
       "        "
      ],
      "text/plain": [
       "<IPython.lib.display.IFrame at 0x1075f71c0>"
      ]
     },
     "execution_count": 1,
     "metadata": {},
     "output_type": "execute_result"
    }
   ],
   "source": [
    "from bookutils import YouTubeVideo\n",
    "YouTubeVideo(\"UNuso00zYiI\")"
   ]
  },
  {
   "cell_type": "markdown",
   "metadata": {
    "button": false,
    "new_sheet": false,
    "run_control": {
     "read_only": false
    },
    "slideshow": {
     "slide_type": "subslide"
    }
   },
   "source": [
    "**Prerequisites**\n",
    "\n",
    "* You should have read the [chapter on tracing executions](Tracer.ipynb)."
   ]
  },
  {
   "cell_type": "code",
   "execution_count": 2,
   "metadata": {
    "button": false,
    "execution": {
     "iopub.execute_input": "2024-01-17T21:32:46.468205Z",
     "iopub.status.busy": "2024-01-17T21:32:46.468001Z",
     "iopub.status.idle": "2024-01-17T21:32:46.470356Z",
     "shell.execute_reply": "2024-01-17T21:32:46.470014Z"
    },
    "new_sheet": false,
    "run_control": {
     "read_only": false
    },
    "slideshow": {
     "slide_type": "skip"
    }
   },
   "outputs": [],
   "source": [
    "import bookutils.setup"
   ]
  },
  {
   "cell_type": "markdown",
   "metadata": {
    "slideshow": {
     "slide_type": "skip"
    }
   },
   "source": [
    "## Synopsis\n",
    "<!-- Automatically generated. Do not edit. -->\n",
    "\n",
    "To [use the code provided in this chapter](Importing.ipynb), write\n",
    "\n",
    "```python\n",
    ">>> from debuggingbook.StatisticalDebugger import <identifier>\n",
    "```\n",
    "\n",
    "and then make use of the following features.\n",
    "\n",
    "\n",
    "This chapter introduces classes and techniques for _statistical debugging_ – that is, correlating specific events, such as lines covered, with passing and failing outcomes.\n",
    "\n",
    "To make use of the code in this chapter, use one of the provided `StatisticalDebugger` subclasses such as `TarantulaDebugger` or `OchiaiDebugger`. \n",
    "\n",
    "Both are instantiated with a `Collector` denoting the type of events you want to correlate outcomes with. The default `CoverageCollector`, collecting line coverage.\n",
    "\n",
    "### Collecting Events from Calls\n",
    "\n",
    "To collect events from calls that are labeled manually, use\n",
    "\n",
    "```python\n",
    ">>> debugger = TarantulaDebugger()\n",
    ">>> with debugger.collect_pass():\n",
    ">>>     remove_html_markup(\"abc\")\n",
    ">>> with debugger.collect_pass():\n",
    ">>>     remove_html_markup('<b>abc</b>')\n",
    ">>> with debugger.collect_fail():\n",
    ">>>     remove_html_markup('\"abc\"')\n",
    "```\n",
    "Within each `with` block, the _first function call_ is collected and tracked for coverage. (Note that _only_ the first call is tracked.)\n",
    "\n",
    "### Collecting Events from Tests\n",
    "\n",
    "To collect events from _tests_ that use exceptions to indicate failure, use the simpler `with` form:\n",
    "\n",
    "```python\n",
    ">>> debugger = TarantulaDebugger()\n",
    ">>> with debugger:\n",
    ">>>     remove_html_markup(\"abc\")\n",
    ">>> with debugger:\n",
    ">>>     remove_html_markup('<b>abc</b>')\n",
    ">>> with debugger:\n",
    ">>>     remove_html_markup('\"abc\"')\n",
    ">>>     assert False  # raise an exception\n",
    "```\n",
    "`with` blocks that raise an exception will be classified as failing, blocks that do not will be classified as passing. Note that exceptions raised are \"swallowed\" by the debugger.\n",
    "\n",
    "### Visualizing Events as a Table\n",
    "\n",
    "After collecting events, you can print out the observed events – in this case, line numbers – in a table, showing in which runs they occurred (`X`), and with colors highlighting the suspiciousness of the event. A \"red\" event means that the event predominantly occurs in failing runs.\n",
    "\n",
    "```python\n",
    ">>> debugger.event_table(args=True, color=True)\n",
    "```\n",
    "| `remove_html_markup` | `s='abc'` | `s='<b>abc</b>'` | `s='\"abc\"'` | \n",
    "| --------------------- | ---- | ---- | ---- | \n",
    "| <samp style=\"background-color: hsl(60.0, 100.0%, 80%)\" title=\" 50%\"> remove_html_markup:1</samp> |    X |    X |    X | \n",
    "| <samp style=\"background-color: hsl(60.0, 100.0%, 80%)\" title=\" 50%\"> remove_html_markup:2</samp> |    X |    X |    X | \n",
    "| <samp style=\"background-color: hsl(60.0, 100.0%, 80%)\" title=\" 50%\"> remove_html_markup:3</samp> |    X |    X |    X | \n",
    "| <samp style=\"background-color: hsl(60.0, 100.0%, 80%)\" title=\" 50%\"> remove_html_markup:4</samp> |    X |    X |    X | \n",
    "| <samp style=\"background-color: hsl(60.0, 100.0%, 80%)\" title=\" 50%\"> remove_html_markup:6</samp> |    X |    X |    X | \n",
    "| <samp style=\"background-color: hsl(60.0, 100.0%, 80%)\" title=\" 50%\"> remove_html_markup:7</samp> |    X |    X |    X | \n",
    "| <samp style=\"background-color: hsl(120.0, 50.0%, 80%)\" title=\"  0%\"> remove_html_markup:8</samp> |    - |    X |    - | \n",
    "| <samp style=\"background-color: hsl(60.0, 100.0%, 80%)\" title=\" 50%\"> remove_html_markup:9</samp> |    X |    X |    X | \n",
    "| <samp style=\"background-color: hsl(120.0, 50.0%, 80%)\" title=\"  0%\">remove_html_markup:10</samp> |    - |    X |    - | \n",
    "| <samp style=\"background-color: hsl(60.0, 100.0%, 80%)\" title=\" 50%\">remove_html_markup:11</samp> |    X |    X |    X | \n",
    "| <samp style=\"background-color: hsl(0.0, 100.0%, 80%)\" title=\"100%\">remove_html_markup:12</samp> |    - |    - |    X | \n",
    "| <samp style=\"background-color: hsl(60.0, 100.0%, 80%)\" title=\" 50%\">remove_html_markup:13</samp> |    X |    X |    X | \n",
    "| <samp style=\"background-color: hsl(60.0, 100.0%, 80%)\" title=\" 50%\">remove_html_markup:14</samp> |    X |    X |    X | \n",
    "| <samp style=\"background-color: hsl(60.0, 100.0%, 80%)\" title=\" 50%\">remove_html_markup:16</samp> |    X |    X |    X | \n",
    "\n",
    "\n",
    "### Visualizing Suspicious Code\n",
    "\n",
    "If you collected coverage with `CoverageCollector`, you can also visualize the code with similar colors, highlighting suspicious lines:\n",
    "\n",
    "```python\n",
    ">>> debugger\n",
    "```\n",
    "<pre style=\"background-color:hsl(60.0, 100.0%, 80%)\"\n",
    "                    title=\"Line 1:  50%\">   1 def remove_html_markup(s):  # type: ignore</pre>\n",
    "<pre style=\"background-color:hsl(60.0, 100.0%, 80%)\"\n",
    "                    title=\"Line 2:  50%\">   2     tag = False</pre>\n",
    "<pre style=\"background-color:hsl(60.0, 100.0%, 80%)\"\n",
    "                    title=\"Line 3:  50%\">   3     quote = False</pre>\n",
    "<pre style=\"background-color:hsl(60.0, 100.0%, 80%)\"\n",
    "                    title=\"Line 4:  50%\">   4     out = &quot;&quot;</pre>\n",
    "<pre title=\"Line 5: not executed\">   5 &nbsp;</pre>\n",
    "<pre style=\"background-color:hsl(60.0, 100.0%, 80%)\"\n",
    "                    title=\"Line 6:  50%\">   6     for c in s:</pre>\n",
    "<pre style=\"background-color:hsl(60.0, 100.0%, 80%)\"\n",
    "                    title=\"Line 7:  50%\">   7         if c == &#x27;&lt;&#x27; and not quote:</pre>\n",
    "<pre style=\"background-color:hsl(120.0, 50.0%, 80%)\"\n",
    "                    title=\"Line 8:   0%\">   8             tag = True</pre>\n",
    "<pre style=\"background-color:hsl(60.0, 100.0%, 80%)\"\n",
    "                    title=\"Line 9:  50%\">   9         elif c == &#x27;&gt;&#x27; and not quote:</pre>\n",
    "<pre style=\"background-color:hsl(120.0, 50.0%, 80%)\"\n",
    "                    title=\"Line 10:   0%\">  10             tag = False</pre>\n",
    "<pre style=\"background-color:hsl(60.0, 100.0%, 80%)\"\n",
    "                    title=\"Line 11:  50%\">  11         elif c == &#x27;&quot;&#x27; or c == &quot;&#x27;&quot; and tag:</pre>\n",
    "<pre style=\"background-color:hsl(0.0, 100.0%, 80%)\"\n",
    "                    title=\"Line 12: 100%\">  12             quote = not quote</pre>\n",
    "<pre style=\"background-color:hsl(60.0, 100.0%, 80%)\"\n",
    "                    title=\"Line 13:  50%\">  13         elif not tag:</pre>\n",
    "<pre style=\"background-color:hsl(60.0, 100.0%, 80%)\"\n",
    "                    title=\"Line 14:  50%\">  14             out = out + c</pre>\n",
    "<pre title=\"Line 15: not executed\">  15 &nbsp;</pre>\n",
    "<pre style=\"background-color:hsl(60.0, 100.0%, 80%)\"\n",
    "                    title=\"Line 16:  50%\">  16     return out</pre>\n",
    "\n",
    "\n",
    "### Ranking Events\n",
    "\n",
    "The method `rank()` returns a ranked list of events, starting with the most suspicious. This is useful for automated techniques that need potential defect locations.\n",
    "\n",
    "```python\n",
    ">>> debugger.rank()\n",
    "[('remove_html_markup', 12),\n",
    " ('remove_html_markup', 4),\n",
    " ('remove_html_markup', 1),\n",
    " ('remove_html_markup', 7),\n",
    " ('remove_html_markup', 16),\n",
    " ('remove_html_markup', 13),\n",
    " ('remove_html_markup', 2),\n",
    " ('remove_html_markup', 11),\n",
    " ('remove_html_markup', 14),\n",
    " ('remove_html_markup', 3),\n",
    " ('remove_html_markup', 9),\n",
    " ('remove_html_markup', 6),\n",
    " ('remove_html_markup', 10),\n",
    " ('remove_html_markup', 8)]\n",
    "```\n",
    "### Classes and Methods\n",
    "\n",
    "Here are all classes defined in this chapter:\n",
    "\n",
    "![](PICS/StatisticalDebugger-synopsis-1.svg)\n",
    "\n",
    "![](PICS/StatisticalDebugger-synopsis-2.svg)\n",
    "\n"
   ]
  },
  {
   "cell_type": "markdown",
   "metadata": {
    "slideshow": {
     "slide_type": "slide"
    }
   },
   "source": [
    "## Introduction\n",
    "\n",
    "The idea behind _statistical debugging_ is fairly simple. We have a program that sometimes passes and sometimes fails. This outcome can be _correlated_ with events that precede it – properties of the input, properties of the execution, properties of the program state. If we, for instance, can find that \"the program always fails when Line 123 is executed, and it always passes when Line 123 is _not_ executed\", then we have a strong correlation between Line 123 being executed and failure.\n",
    "\n",
    "Such _correlation_ does not necessarily mean _causation_. For this, we would have to prove that executing Line 123 _always_ leads to failure, and that _not_ executing it does not lead to (this) failure. Also, a correlation (or even a causation) does not mean that Line 123 contains the defect – for this, we would have to show that it actually is an error. Still, correlations make excellent hints as it comes to search for failure causes – in all generality, if you let your search be guided by _events that correlate with failures_, you are more likely to find _important hints on how the failure comes to be_."
   ]
  },
  {
   "cell_type": "markdown",
   "metadata": {
    "button": false,
    "new_sheet": true,
    "run_control": {
     "read_only": false
    },
    "slideshow": {
     "slide_type": "slide"
    }
   },
   "source": [
    "## Collecting Events\n",
    "\n",
    "How can we determine events that correlate with failure? We start with a general mechanism to actually _collect_ events during execution. The abstract `Collector` class provides\n",
    "\n",
    "* a `collect()` method made for collecting events, called from the `traceit()` tracer; and\n",
    "* an `events()` method made for retrieving these events.\n",
    "\n",
    "Both of these are _abstract_ and will be defined further in subclasses."
   ]
  },
  {
   "cell_type": "code",
   "execution_count": 3,
   "metadata": {
    "execution": {
     "iopub.execute_input": "2024-01-17T21:32:46.472790Z",
     "iopub.status.busy": "2024-01-17T21:32:46.472645Z",
     "iopub.status.idle": "2024-01-17T21:32:46.567662Z",
     "shell.execute_reply": "2024-01-17T21:32:46.567308Z"
    },
    "slideshow": {
     "slide_type": "skip"
    }
   },
   "outputs": [],
   "source": [
    "from Tracer import Tracer"
   ]
  },
  {
   "cell_type": "code",
   "execution_count": 4,
   "metadata": {
    "execution": {
     "iopub.execute_input": "2024-01-17T21:32:46.569986Z",
     "iopub.status.busy": "2024-01-17T21:32:46.569785Z",
     "iopub.status.idle": "2024-01-17T21:32:46.571743Z",
     "shell.execute_reply": "2024-01-17T21:32:46.571453Z"
    },
    "slideshow": {
     "slide_type": "subslide"
    }
   },
   "outputs": [],
   "source": [
    "# ignore\n",
    "from typing import Any, Callable, Optional, Type, Tuple\n",
    "from typing import Dict, Set, List, TypeVar, Union"
   ]
  },
  {
   "cell_type": "code",
   "execution_count": 5,
   "metadata": {
    "execution": {
     "iopub.execute_input": "2024-01-17T21:32:46.573362Z",
     "iopub.status.busy": "2024-01-17T21:32:46.573245Z",
     "iopub.status.idle": "2024-01-17T21:32:46.575154Z",
     "shell.execute_reply": "2024-01-17T21:32:46.574814Z"
    },
    "slideshow": {
     "slide_type": "skip"
    }
   },
   "outputs": [],
   "source": [
    "from types import FrameType, TracebackType"
   ]
  },
  {
   "cell_type": "code",
   "execution_count": 6,
   "metadata": {
    "execution": {
     "iopub.execute_input": "2024-01-17T21:32:46.576927Z",
     "iopub.status.busy": "2024-01-17T21:32:46.576801Z",
     "iopub.status.idle": "2024-01-17T21:32:46.579171Z",
     "shell.execute_reply": "2024-01-17T21:32:46.578898Z"
    },
    "slideshow": {
     "slide_type": "subslide"
    }
   },
   "outputs": [],
   "source": [
    "class Collector(Tracer):\n",
    "    \"\"\"A class to record events during execution.\"\"\"\n",
    "\n",
    "    def collect(self, frame: FrameType, event: str, arg: Any) -> None:\n",
    "        \"\"\"Collecting function. To be overridden in subclasses.\"\"\"\n",
    "        pass\n",
    "\n",
    "    def events(self) -> Set:\n",
    "        \"\"\"Return a collection of events. To be overridden in subclasses.\"\"\"\n",
    "        return set()\n",
    "\n",
    "    def traceit(self, frame: FrameType, event: str, arg: Any) -> None:\n",
    "        self.collect(frame, event, arg)"
   ]
  },
  {
   "cell_type": "markdown",
   "metadata": {
    "slideshow": {
     "slide_type": "subslide"
    }
   },
   "source": [
    "A `Collector` class is used like `Tracer`, using a `with` statement. Let us apply it on the buggy variant of `remove_html_markup()` from the [Introduction to Debugging](Intro_Debugging.ipynb):"
   ]
  },
  {
   "cell_type": "code",
   "execution_count": 7,
   "metadata": {
    "execution": {
     "iopub.execute_input": "2024-01-17T21:32:46.580928Z",
     "iopub.status.busy": "2024-01-17T21:32:46.580811Z",
     "iopub.status.idle": "2024-01-17T21:32:46.583249Z",
     "shell.execute_reply": "2024-01-17T21:32:46.582945Z"
    },
    "slideshow": {
     "slide_type": "subslide"
    }
   },
   "outputs": [],
   "source": [
    "def remove_html_markup(s):  # type: ignore\n",
    "    tag = False\n",
    "    quote = False\n",
    "    out = \"\"\n",
    "\n",
    "    for c in s:\n",
    "        if c == '<' and not quote:\n",
    "            tag = True\n",
    "        elif c == '>' and not quote:\n",
    "            tag = False\n",
    "        elif c == '\"' or c == \"'\" and tag:\n",
    "            quote = not quote\n",
    "        elif not tag:\n",
    "            out = out + c\n",
    "\n",
    "    return out"
   ]
  },
  {
   "cell_type": "code",
   "execution_count": 8,
   "metadata": {
    "execution": {
     "iopub.execute_input": "2024-01-17T21:32:46.585034Z",
     "iopub.status.busy": "2024-01-17T21:32:46.584902Z",
     "iopub.status.idle": "2024-01-17T21:32:46.587531Z",
     "shell.execute_reply": "2024-01-17T21:32:46.587153Z"
    },
    "slideshow": {
     "slide_type": "subslide"
    }
   },
   "outputs": [
    {
     "data": {
      "text/plain": [
       "'abc'"
      ]
     },
     "execution_count": 8,
     "metadata": {},
     "output_type": "execute_result"
    }
   ],
   "source": [
    "with Collector() as c:\n",
    "    out = remove_html_markup('\"abc\"')\n",
    "out"
   ]
  },
  {
   "cell_type": "markdown",
   "metadata": {
    "slideshow": {
     "slide_type": "fragment"
    }
   },
   "source": [
    "There's not much we can do with our collector, as the `collect()` and `events()` methods are yet empty. However, we can introduce an `id()` method which returns a string identifying the collector. This string is defined from the _first function call_ encountered."
   ]
  },
  {
   "cell_type": "code",
   "execution_count": 9,
   "metadata": {
    "execution": {
     "iopub.execute_input": "2024-01-17T21:32:46.589309Z",
     "iopub.status.busy": "2024-01-17T21:32:46.589191Z",
     "iopub.status.idle": "2024-01-17T21:32:46.590959Z",
     "shell.execute_reply": "2024-01-17T21:32:46.590703Z"
    },
    "slideshow": {
     "slide_type": "fragment"
    }
   },
   "outputs": [],
   "source": [
    "Coverage = Set[Tuple[Callable, int]]"
   ]
  },
  {
   "cell_type": "code",
   "execution_count": 10,
   "metadata": {
    "execution": {
     "iopub.execute_input": "2024-01-17T21:32:46.592758Z",
     "iopub.status.busy": "2024-01-17T21:32:46.592639Z",
     "iopub.status.idle": "2024-01-17T21:32:46.598110Z",
     "shell.execute_reply": "2024-01-17T21:32:46.597835Z"
    },
    "slideshow": {
     "slide_type": "subslide"
    }
   },
   "outputs": [],
   "source": [
    "class Collector(Collector):\n",
    "    def __init__(self) -> None:\n",
    "        \"\"\"Constructor.\"\"\"\n",
    "        self._function: Optional[Callable] = None\n",
    "        self._args: Optional[Dict[str, Any]] = None\n",
    "        self._argstring: Optional[str] = None\n",
    "        self._exception: Optional[Type] = None\n",
    "        self.items_to_ignore: List[Union[Type, Callable]] = [self.__class__]\n",
    "\n",
    "    def traceit(self, frame: FrameType, event: str, arg: Any) -> None:\n",
    "        \"\"\"\n",
    "        Tracing function.\n",
    "        Saves the first function and calls collect().\n",
    "        \"\"\"\n",
    "        for item in self.items_to_ignore:\n",
    "            if (isinstance(item, type) and 'self' in frame.f_locals and\n",
    "                isinstance(frame.f_locals['self'], item)):\n",
    "                # Ignore this class\n",
    "                return\n",
    "            if item.__name__ == frame.f_code.co_name:\n",
    "                # Ignore this function\n",
    "                return\n",
    "\n",
    "        if self._function is None and event == 'call':\n",
    "            # Save function\n",
    "            self._function = self.create_function(frame)\n",
    "            self._args = frame.f_locals.copy()\n",
    "            self._argstring = \", \".join([f\"{var}={repr(self._args[var])}\" \n",
    "                                         for var in self._args])\n",
    "\n",
    "        self.collect(frame, event, arg)\n",
    "\n",
    "    def collect(self, frame: FrameType, event: str, arg: Any) -> None:\n",
    "        \"\"\"Collector function. To be overloaded in subclasses.\"\"\"\n",
    "        pass\n",
    "\n",
    "    def id(self) -> str:\n",
    "        \"\"\"Return an identifier for the collector, \n",
    "        created from the first call\"\"\"\n",
    "        return f\"{self.function().__name__}({self.argstring()})\"\n",
    "\n",
    "    def function(self) -> Callable:\n",
    "        \"\"\"Return the function from the first call, as a function object\"\"\"\n",
    "        if not self._function:\n",
    "            raise ValueError(\"No call collected\")\n",
    "        return self._function\n",
    "\n",
    "    def argstring(self) -> str:\n",
    "        \"\"\"\n",
    "        Return the list of arguments from the first call,\n",
    "        as a printable string\n",
    "        \"\"\"\n",
    "        if not self._argstring:\n",
    "            raise ValueError(\"No call collected\")\n",
    "        return self._argstring\n",
    "\n",
    "    def args(self) -> Dict[str, Any]:\n",
    "        \"\"\"Return a dict of argument names and values from the first call\"\"\"\n",
    "        if not self._args:\n",
    "            raise ValueError(\"No call collected\")\n",
    "        return self._args\n",
    "\n",
    "    def exception(self) -> Optional[Type]:\n",
    "        \"\"\"Return the exception class from the first call,\n",
    "        or None if no exception was raised.\"\"\"\n",
    "        return self._exception\n",
    "\n",
    "    def __repr__(self) -> str:\n",
    "        \"\"\"Return a string representation of the collector\"\"\"\n",
    "        # We use the ID as default representation when printed\n",
    "        return self.id()\n",
    "\n",
    "    def covered_functions(self) -> Set[Callable]:\n",
    "        \"\"\"Set of covered functions. To be overloaded in subclasses.\"\"\"\n",
    "        return set()\n",
    "\n",
    "    def coverage(self) -> Coverage:\n",
    "        \"\"\"\n",
    "        Return a set (function, lineno) with locations covered.\n",
    "        To be overloaded in subclasses.\n",
    "        \"\"\"\n",
    "        return set()"
   ]
  },
  {
   "cell_type": "markdown",
   "metadata": {
    "slideshow": {
     "slide_type": "subslide"
    }
   },
   "source": [
    "Here's how the collector works. We use a `with` clause to collect details on a function call:"
   ]
  },
  {
   "cell_type": "code",
   "execution_count": 11,
   "metadata": {
    "execution": {
     "iopub.execute_input": "2024-01-17T21:32:46.599688Z",
     "iopub.status.busy": "2024-01-17T21:32:46.599601Z",
     "iopub.status.idle": "2024-01-17T21:32:46.601335Z",
     "shell.execute_reply": "2024-01-17T21:32:46.601071Z"
    },
    "slideshow": {
     "slide_type": "fragment"
    }
   },
   "outputs": [],
   "source": [
    "with Collector() as c:\n",
    "    remove_html_markup('abc')"
   ]
  },
  {
   "cell_type": "markdown",
   "metadata": {
    "slideshow": {
     "slide_type": "fragment"
    }
   },
   "source": [
    "We can now retrieve details such as the function called..."
   ]
  },
  {
   "cell_type": "code",
   "execution_count": 12,
   "metadata": {
    "execution": {
     "iopub.execute_input": "2024-01-17T21:32:46.603034Z",
     "iopub.status.busy": "2024-01-17T21:32:46.602943Z",
     "iopub.status.idle": "2024-01-17T21:32:46.605018Z",
     "shell.execute_reply": "2024-01-17T21:32:46.604675Z"
    },
    "slideshow": {
     "slide_type": "fragment"
    }
   },
   "outputs": [
    {
     "data": {
      "text/plain": [
       "<function __main__.remove_html_markup(s)>"
      ]
     },
     "execution_count": 12,
     "metadata": {},
     "output_type": "execute_result"
    }
   ],
   "source": [
    "c.function()"
   ]
  },
  {
   "cell_type": "markdown",
   "metadata": {
    "slideshow": {
     "slide_type": "fragment"
    }
   },
   "source": [
    "... or its arguments, as a name/value dictionary."
   ]
  },
  {
   "cell_type": "code",
   "execution_count": 13,
   "metadata": {
    "execution": {
     "iopub.execute_input": "2024-01-17T21:32:46.606813Z",
     "iopub.status.busy": "2024-01-17T21:32:46.606688Z",
     "iopub.status.idle": "2024-01-17T21:32:46.608688Z",
     "shell.execute_reply": "2024-01-17T21:32:46.608425Z"
    },
    "slideshow": {
     "slide_type": "fragment"
    }
   },
   "outputs": [
    {
     "data": {
      "text/plain": [
       "{'s': 'abc'}"
      ]
     },
     "execution_count": 13,
     "metadata": {},
     "output_type": "execute_result"
    }
   ],
   "source": [
    "c.args()"
   ]
  },
  {
   "cell_type": "markdown",
   "metadata": {
    "slideshow": {
     "slide_type": "fragment"
    }
   },
   "source": [
    "The `id()` method returns a printable representation of the call:"
   ]
  },
  {
   "cell_type": "code",
   "execution_count": 14,
   "metadata": {
    "execution": {
     "iopub.execute_input": "2024-01-17T21:32:46.610235Z",
     "iopub.status.busy": "2024-01-17T21:32:46.610129Z",
     "iopub.status.idle": "2024-01-17T21:32:46.612111Z",
     "shell.execute_reply": "2024-01-17T21:32:46.611844Z"
    },
    "slideshow": {
     "slide_type": "fragment"
    }
   },
   "outputs": [
    {
     "data": {
      "text/plain": [
       "\"remove_html_markup(s='abc')\""
      ]
     },
     "execution_count": 14,
     "metadata": {},
     "output_type": "execute_result"
    }
   ],
   "source": [
    "c.id()"
   ]
  },
  {
   "cell_type": "markdown",
   "metadata": {
    "slideshow": {
     "slide_type": "fragment"
    }
   },
   "source": [
    "The `argstring()` method does the same for the argument string only."
   ]
  },
  {
   "cell_type": "code",
   "execution_count": 15,
   "metadata": {
    "execution": {
     "iopub.execute_input": "2024-01-17T21:32:46.613665Z",
     "iopub.status.busy": "2024-01-17T21:32:46.613558Z",
     "iopub.status.idle": "2024-01-17T21:32:46.615489Z",
     "shell.execute_reply": "2024-01-17T21:32:46.615253Z"
    },
    "slideshow": {
     "slide_type": "subslide"
    }
   },
   "outputs": [
    {
     "data": {
      "text/plain": [
       "\"s='abc'\""
      ]
     },
     "execution_count": 15,
     "metadata": {},
     "output_type": "execute_result"
    }
   ],
   "source": [
    "c.argstring()"
   ]
  },
  {
   "cell_type": "markdown",
   "metadata": {
    "slideshow": {
     "slide_type": "fragment"
    }
   },
   "source": [
    "With this, we can collect the basic information to identify calls – such that we can later correlate their events with success or failure."
   ]
  },
  {
   "cell_type": "markdown",
   "metadata": {
    "slideshow": {
     "slide_type": "subslide"
    }
   },
   "source": [
    "### Error Prevention"
   ]
  },
  {
   "cell_type": "markdown",
   "metadata": {
    "slideshow": {
     "slide_type": "fragment"
    }
   },
   "source": [
    "While collecting, we'd like to avoid collecting events in the collection infrastructure. The `items_to_ignore` attribute takes care of this."
   ]
  },
  {
   "cell_type": "code",
   "execution_count": 16,
   "metadata": {
    "execution": {
     "iopub.execute_input": "2024-01-17T21:32:46.617163Z",
     "iopub.status.busy": "2024-01-17T21:32:46.617048Z",
     "iopub.status.idle": "2024-01-17T21:32:46.618947Z",
     "shell.execute_reply": "2024-01-17T21:32:46.618699Z"
    },
    "slideshow": {
     "slide_type": "fragment"
    }
   },
   "outputs": [],
   "source": [
    "class Collector(Collector):\n",
    "    def add_items_to_ignore(self,\n",
    "                            items_to_ignore: List[Union[Type, Callable]]) \\\n",
    "                            -> None:\n",
    "        \"\"\"\n",
    "        Define additional classes and functions to ignore during collection\n",
    "        (typically `Debugger` classes using these collectors).\n",
    "        \"\"\"\n",
    "        self.items_to_ignore += items_to_ignore"
   ]
  },
  {
   "cell_type": "markdown",
   "metadata": {
    "slideshow": {
     "slide_type": "fragment"
    }
   },
   "source": [
    "If we exit a block without having collected anything, that's likely an error."
   ]
  },
  {
   "cell_type": "code",
   "execution_count": 17,
   "metadata": {
    "execution": {
     "iopub.execute_input": "2024-01-17T21:32:46.620551Z",
     "iopub.status.busy": "2024-01-17T21:32:46.620445Z",
     "iopub.status.idle": "2024-01-17T21:32:46.622580Z",
     "shell.execute_reply": "2024-01-17T21:32:46.622335Z"
    },
    "slideshow": {
     "slide_type": "subslide"
    }
   },
   "outputs": [],
   "source": [
    "class Collector(Collector):\n",
    "    def __exit__(self, exc_tp: Type, exc_value: BaseException,\n",
    "                 exc_traceback: TracebackType) -> Optional[bool]:\n",
    "        \"\"\"Exit the `with` block.\"\"\"\n",
    "        ret = super().__exit__(exc_tp, exc_value, exc_traceback)\n",
    "\n",
    "        if not self._function:\n",
    "            if exc_tp:\n",
    "                return False  # re-raise exception\n",
    "            else:\n",
    "                raise ValueError(\"No call collected\")\n",
    "\n",
    "        return ret"
   ]
  },
  {
   "cell_type": "markdown",
   "metadata": {
    "slideshow": {
     "slide_type": "slide"
    }
   },
   "source": [
    "## Collecting Coverage\n",
    "\n",
    "So far, our `Collector` class does not collect any events. Let us extend it such that it collects _coverage_ information – that is, the set of locations executed. To this end, we introduce a `CoverageCollector` subclass which saves the coverage in a set containing functions and line numbers."
   ]
  },
  {
   "cell_type": "code",
   "execution_count": 18,
   "metadata": {
    "execution": {
     "iopub.execute_input": "2024-01-17T21:32:46.624046Z",
     "iopub.status.busy": "2024-01-17T21:32:46.623944Z",
     "iopub.status.idle": "2024-01-17T21:32:46.625509Z",
     "shell.execute_reply": "2024-01-17T21:32:46.625278Z"
    },
    "slideshow": {
     "slide_type": "skip"
    }
   },
   "outputs": [],
   "source": [
    "from types import FrameType"
   ]
  },
  {
   "cell_type": "code",
   "execution_count": 19,
   "metadata": {
    "execution": {
     "iopub.execute_input": "2024-01-17T21:32:46.626938Z",
     "iopub.status.busy": "2024-01-17T21:32:46.626848Z",
     "iopub.status.idle": "2024-01-17T21:32:46.628685Z",
     "shell.execute_reply": "2024-01-17T21:32:46.628432Z"
    },
    "slideshow": {
     "slide_type": "skip"
    }
   },
   "outputs": [],
   "source": [
    "from StackInspector import StackInspector"
   ]
  },
  {
   "cell_type": "code",
   "execution_count": 20,
   "metadata": {
    "execution": {
     "iopub.execute_input": "2024-01-17T21:32:46.630101Z",
     "iopub.status.busy": "2024-01-17T21:32:46.630015Z",
     "iopub.status.idle": "2024-01-17T21:32:46.632676Z",
     "shell.execute_reply": "2024-01-17T21:32:46.632404Z"
    },
    "slideshow": {
     "slide_type": "subslide"
    }
   },
   "outputs": [],
   "source": [
    "class CoverageCollector(Collector, StackInspector):\n",
    "    \"\"\"A class to record covered locations during execution.\"\"\"\n",
    "\n",
    "    def __init__(self) -> None:\n",
    "        \"\"\"Constructor.\"\"\"\n",
    "        super().__init__()\n",
    "        self._coverage: Coverage = set()\n",
    "\n",
    "    def collect(self, frame: FrameType, event: str, arg: Any) -> None:\n",
    "        \"\"\"\n",
    "        Save coverage for an observed event.\n",
    "        \"\"\"\n",
    "        name = frame.f_code.co_name\n",
    "        function = self.search_func(name, frame)\n",
    "\n",
    "        if function is None:\n",
    "            function = self.create_function(frame)\n",
    "\n",
    "        location = (function, frame.f_lineno)\n",
    "        self._coverage.add(location)"
   ]
  },
  {
   "cell_type": "markdown",
   "metadata": {
    "slideshow": {
     "slide_type": "subslide"
    }
   },
   "source": [
    "We also override `events()` such that it returns the set of covered locations."
   ]
  },
  {
   "cell_type": "code",
   "execution_count": 21,
   "metadata": {
    "execution": {
     "iopub.execute_input": "2024-01-17T21:32:46.634229Z",
     "iopub.status.busy": "2024-01-17T21:32:46.634141Z",
     "iopub.status.idle": "2024-01-17T21:32:46.636280Z",
     "shell.execute_reply": "2024-01-17T21:32:46.636023Z"
    },
    "slideshow": {
     "slide_type": "fragment"
    }
   },
   "outputs": [],
   "source": [
    "class CoverageCollector(CoverageCollector):\n",
    "    def events(self) -> Set[Tuple[str, int]]:\n",
    "        \"\"\"\n",
    "        Return the set of locations covered.\n",
    "        Each location comes as a pair (`function_name`, `lineno`).\n",
    "        \"\"\"\n",
    "        return {(func.__name__, lineno) for func, lineno in self._coverage}"
   ]
  },
  {
   "cell_type": "markdown",
   "metadata": {
    "slideshow": {
     "slide_type": "fragment"
    }
   },
   "source": [
    "The methods `coverage()` and `covered_functions()` allow precise access to the coverage obtained."
   ]
  },
  {
   "cell_type": "code",
   "execution_count": 22,
   "metadata": {
    "execution": {
     "iopub.execute_input": "2024-01-17T21:32:46.637784Z",
     "iopub.status.busy": "2024-01-17T21:32:46.637701Z",
     "iopub.status.idle": "2024-01-17T21:32:46.639776Z",
     "shell.execute_reply": "2024-01-17T21:32:46.639517Z"
    },
    "slideshow": {
     "slide_type": "subslide"
    }
   },
   "outputs": [],
   "source": [
    "class CoverageCollector(CoverageCollector):\n",
    "    def covered_functions(self) -> Set[Callable]:\n",
    "        \"\"\"Return a set with all functions covered.\"\"\"\n",
    "        return {func for func, lineno in self._coverage}\n",
    "\n",
    "    def coverage(self) -> Coverage:\n",
    "        \"\"\"Return a set (function, lineno) with all locations covered.\"\"\"\n",
    "        return self._coverage"
   ]
  },
  {
   "cell_type": "markdown",
   "metadata": {
    "slideshow": {
     "slide_type": "fragment"
    }
   },
   "source": [
    "Here is how we can use `CoverageCollector` to determine the lines executed during a run of `remove_html_markup()`:"
   ]
  },
  {
   "cell_type": "code",
   "execution_count": 23,
   "metadata": {
    "execution": {
     "iopub.execute_input": "2024-01-17T21:32:46.641252Z",
     "iopub.status.busy": "2024-01-17T21:32:46.641162Z",
     "iopub.status.idle": "2024-01-17T21:32:46.643554Z",
     "shell.execute_reply": "2024-01-17T21:32:46.643328Z"
    },
    "slideshow": {
     "slide_type": "subslide"
    }
   },
   "outputs": [
    {
     "data": {
      "text/plain": [
       "{('remove_html_markup', 1),\n",
       " ('remove_html_markup', 2),\n",
       " ('remove_html_markup', 3),\n",
       " ('remove_html_markup', 4),\n",
       " ('remove_html_markup', 6),\n",
       " ('remove_html_markup', 7),\n",
       " ('remove_html_markup', 9),\n",
       " ('remove_html_markup', 11),\n",
       " ('remove_html_markup', 13),\n",
       " ('remove_html_markup', 14),\n",
       " ('remove_html_markup', 16)}"
      ]
     },
     "execution_count": 23,
     "metadata": {},
     "output_type": "execute_result"
    }
   ],
   "source": [
    "with CoverageCollector() as c:\n",
    "    remove_html_markup('abc')\n",
    "c.events()"
   ]
  },
  {
   "cell_type": "markdown",
   "metadata": {
    "slideshow": {
     "slide_type": "subslide"
    }
   },
   "source": [
    "Sets of line numbers alone are not too revealing. They provide more insights if we actually list the code, highlighting these numbers:"
   ]
  },
  {
   "cell_type": "code",
   "execution_count": 24,
   "metadata": {
    "execution": {
     "iopub.execute_input": "2024-01-17T21:32:46.645006Z",
     "iopub.status.busy": "2024-01-17T21:32:46.644926Z",
     "iopub.status.idle": "2024-01-17T21:32:46.646567Z",
     "shell.execute_reply": "2024-01-17T21:32:46.646300Z"
    },
    "slideshow": {
     "slide_type": "skip"
    }
   },
   "outputs": [],
   "source": [
    "import inspect"
   ]
  },
  {
   "cell_type": "code",
   "execution_count": 25,
   "metadata": {
    "execution": {
     "iopub.execute_input": "2024-01-17T21:32:46.648305Z",
     "iopub.status.busy": "2024-01-17T21:32:46.648165Z",
     "iopub.status.idle": "2024-01-17T21:32:46.650105Z",
     "shell.execute_reply": "2024-01-17T21:32:46.649838Z"
    },
    "slideshow": {
     "slide_type": "skip"
    }
   },
   "outputs": [],
   "source": [
    "from bookutils import getsourcelines    # like inspect.getsourcelines(), but in color"
   ]
  },
  {
   "cell_type": "code",
   "execution_count": 26,
   "metadata": {
    "execution": {
     "iopub.execute_input": "2024-01-17T21:32:46.651816Z",
     "iopub.status.busy": "2024-01-17T21:32:46.651699Z",
     "iopub.status.idle": "2024-01-17T21:32:46.653786Z",
     "shell.execute_reply": "2024-01-17T21:32:46.653526Z"
    },
    "slideshow": {
     "slide_type": "fragment"
    }
   },
   "outputs": [],
   "source": [
    "def code_with_coverage(function: Callable, coverage: Coverage) -> None:\n",
    "    source_lines, starting_line_number = \\\n",
    "       getsourcelines(function)\n",
    "\n",
    "    line_number = starting_line_number\n",
    "    for line in source_lines:\n",
    "        marker = '*' if (function, line_number) in coverage else ' '\n",
    "        print(f\"{line_number:4} {marker} {line}\", end='')\n",
    "        line_number += 1"
   ]
  },
  {
   "cell_type": "code",
   "execution_count": 27,
   "metadata": {
    "execution": {
     "iopub.execute_input": "2024-01-17T21:32:46.655222Z",
     "iopub.status.busy": "2024-01-17T21:32:46.655126Z",
     "iopub.status.idle": "2024-01-17T21:32:46.718289Z",
     "shell.execute_reply": "2024-01-17T21:32:46.718005Z"
    },
    "slideshow": {
     "slide_type": "subslide"
    }
   },
   "outputs": [
    {
     "name": "stdout",
     "output_type": "stream",
     "text": [
      "   1 * \u001b[34mdef\u001b[39;49;00m \u001b[32mremove_html_markup\u001b[39;49;00m(s):  \u001b[37m# type: ignore\u001b[39;49;00m\u001b[37m\u001b[39;49;00m\n",
      "   2 *     tag = \u001b[34mFalse\u001b[39;49;00m\u001b[37m\u001b[39;49;00m\n",
      "   3 *     quote = \u001b[34mFalse\u001b[39;49;00m\u001b[37m\u001b[39;49;00m\n",
      "   4 *     out = \u001b[33m\"\u001b[39;49;00m\u001b[33m\"\u001b[39;49;00m\u001b[37m\u001b[39;49;00m\n",
      "   5   \u001b[37m\u001b[39;49;00m\n",
      "   6 *     \u001b[34mfor\u001b[39;49;00m c \u001b[35min\u001b[39;49;00m s:\u001b[37m\u001b[39;49;00m\n",
      "   7 *         \u001b[34mif\u001b[39;49;00m c == \u001b[33m'\u001b[39;49;00m\u001b[33m<\u001b[39;49;00m\u001b[33m'\u001b[39;49;00m \u001b[35mand\u001b[39;49;00m \u001b[35mnot\u001b[39;49;00m quote:\u001b[37m\u001b[39;49;00m\n",
      "   8               tag = \u001b[34mTrue\u001b[39;49;00m\u001b[37m\u001b[39;49;00m\n",
      "   9 *         \u001b[34melif\u001b[39;49;00m c == \u001b[33m'\u001b[39;49;00m\u001b[33m>\u001b[39;49;00m\u001b[33m'\u001b[39;49;00m \u001b[35mand\u001b[39;49;00m \u001b[35mnot\u001b[39;49;00m quote:\u001b[37m\u001b[39;49;00m\n",
      "  10               tag = \u001b[34mFalse\u001b[39;49;00m\u001b[37m\u001b[39;49;00m\n",
      "  11 *         \u001b[34melif\u001b[39;49;00m c == \u001b[33m'\u001b[39;49;00m\u001b[33m\"\u001b[39;49;00m\u001b[33m'\u001b[39;49;00m \u001b[35mor\u001b[39;49;00m c == \u001b[33m\"\u001b[39;49;00m\u001b[33m'\u001b[39;49;00m\u001b[33m\"\u001b[39;49;00m \u001b[35mand\u001b[39;49;00m tag:\u001b[37m\u001b[39;49;00m\n",
      "  12               quote = \u001b[35mnot\u001b[39;49;00m quote\u001b[37m\u001b[39;49;00m\n",
      "  13 *         \u001b[34melif\u001b[39;49;00m \u001b[35mnot\u001b[39;49;00m tag:\u001b[37m\u001b[39;49;00m\n",
      "  14 *             out = out + c\u001b[37m\u001b[39;49;00m\n",
      "  15   \u001b[37m\u001b[39;49;00m\n",
      "  16 *     \u001b[34mreturn\u001b[39;49;00m out\u001b[37m\u001b[39;49;00m\n"
     ]
    }
   ],
   "source": [
    "code_with_coverage(remove_html_markup, c.coverage())"
   ]
  },
  {
   "cell_type": "markdown",
   "metadata": {
    "slideshow": {
     "slide_type": "subslide"
    }
   },
   "source": [
    "Remember that the input `s` was `\"abc\"`? In this listing, we can see which lines were covered and which lines were not. From the listing already, we can see that `s` has neither tags nor quotes."
   ]
  },
  {
   "cell_type": "markdown",
   "metadata": {
    "slideshow": {
     "slide_type": "fragment"
    }
   },
   "source": [
    "Such coverage computation plays a big role in _testing_, as one wants tests to cover as many different aspects of program execution (and notably code) as possible. But also during debugging, code coverage is essential: If some code was not even executed in the failing run, then any change to it will have no effect."
   ]
  },
  {
   "cell_type": "code",
   "execution_count": 28,
   "metadata": {
    "execution": {
     "iopub.execute_input": "2024-01-17T21:32:46.720304Z",
     "iopub.status.busy": "2024-01-17T21:32:46.720121Z",
     "iopub.status.idle": "2024-01-17T21:32:46.721774Z",
     "shell.execute_reply": "2024-01-17T21:32:46.721530Z"
    },
    "slideshow": {
     "slide_type": "skip"
    }
   },
   "outputs": [],
   "source": [
    "from bookutils import quiz"
   ]
  },
  {
   "cell_type": "code",
   "execution_count": 29,
   "metadata": {
    "execution": {
     "iopub.execute_input": "2024-01-17T21:32:46.723279Z",
     "iopub.status.busy": "2024-01-17T21:32:46.723165Z",
     "iopub.status.idle": "2024-01-17T21:32:46.727796Z",
     "shell.execute_reply": "2024-01-17T21:32:46.727532Z"
    },
    "slideshow": {
     "slide_type": "subslide"
    }
   },
   "outputs": [
    {
     "data": {
      "text/html": [
       "\n",
       "    \n",
       "    <script>\n",
       "    var bad_answers = new Map();\n",
       "\n",
       "    function answer(quiz_id) {\n",
       "        ans = 0;\n",
       "        for (i = 1;; i++) {\n",
       "            checkbox = document.getElementById(quiz_id + \"-\" + i.toString());\n",
       "            if (!checkbox)\n",
       "                break;\n",
       "            if (checkbox.checked)\n",
       "                ans |= (1 << i);\n",
       "        }\n",
       "        return ans;\n",
       "    }\n",
       "    function check_selection(quiz_id, correct_answer, multiple_choice, hint) {\n",
       "        given_answer = answer(quiz_id);\n",
       "        if (given_answer == correct_answer)\n",
       "        {\n",
       "            document.getElementById(quiz_id + \"-submit\").value = \"Correct!\";\n",
       "            document.getElementById(quiz_id + \"-hint\").innerHTML = \"\";\n",
       "\n",
       "            for (i = 1;; i++) {\n",
       "                checkbox = document.getElementById(quiz_id + \"-\" + i.toString());\n",
       "                label = document.getElementById(quiz_id + \"-\" + i.toString() + \"-label\")\n",
       "                if (!checkbox)\n",
       "                    break;\n",
       "    \n",
       "                if (checkbox.checked) {\n",
       "                    label.style.fontWeight = \"bold\";\n",
       "                }\n",
       "                else {\n",
       "                    label.style.textDecoration = \"line-through\";\n",
       "                }\n",
       "            }\n",
       "        }\n",
       "        else \n",
       "        {\n",
       "            document.getElementById(quiz_id + \"-submit\").value = \"Try again\";\n",
       "            \n",
       "            if (!bad_answers.has(quiz_id)) {\n",
       "                bad_answers.set(quiz_id, 1);\n",
       "            }\n",
       "            else {\n",
       "                bad_answers.set(quiz_id, bad_answers.get(quiz_id) + 1);\n",
       "            }\n",
       "\n",
       "            if (bad_answers.get(quiz_id) >= 2 && hint.length > 0) {\n",
       "                document.getElementById(quiz_id + \"-hint\").innerHTML = \n",
       "                    \"&nbsp;&nbsp;(Hint: <code>\" + hint + \"</code>)\";\n",
       "            }\n",
       "\n",
       "            if (!multiple_choice) {\n",
       "                for (i = 1;; i++) {\n",
       "                    checkbox = document.getElementById(quiz_id + \"-\" + i.toString());\n",
       "                    label = document.getElementById(quiz_id + \"-\" + i.toString() + \"-label\")\n",
       "\n",
       "                    if (!checkbox)\n",
       "                        break;\n",
       "                    if (checkbox.checked) {\n",
       "                        label.style.textDecoration = \"line-through\";\n",
       "                    }\n",
       "                }\n",
       "            }\n",
       "        }\n",
       "    }\n",
       "    function clear_selection(quiz_id) {\n",
       "        document.getElementById(quiz_id + \"-submit\").value = \"Submit\";\n",
       "        document.getElementById(quiz_id + \"-hint\").innerHTML = \"\";\n",
       "    }\n",
       "    </script>\n",
       "    \n",
       "    <div class=\"quiz\">\n",
       "    <h3 class=\"quiz_title\">Quiz</h3>\n",
       "    <p>\n",
       "    <div class=\"quiz_question\">Let the input be <code>\"&lt;b&gt;Don't do this!&lt;/b&gt;\"</code>. Which of these lines are executed? Use the code to find out!</div>\n",
       "    </p>\n",
       "    <p>\n",
       "    <div class=\"quiz_options\" title=\"Check all that apply.\">\n",
       "    \n",
       "        <input type=\"checkbox\" name=\"f4c7431c-b57f-11ee-a795-6298cf1a5790\" id=\"f4c7431c-b57f-11ee-a795-6298cf1a5790-1\" onclick=\"clear_selection('f4c7431c-b57f-11ee-a795-6298cf1a5790')\">\n",
       "        <label id=\"f4c7431c-b57f-11ee-a795-6298cf1a5790-1-label\" for=\"f4c7431c-b57f-11ee-a795-6298cf1a5790-1\"><code>tag = True</code></label><br>\n",
       "    \n",
       "        <input type=\"checkbox\" name=\"f4c7431c-b57f-11ee-a795-6298cf1a5790\" id=\"f4c7431c-b57f-11ee-a795-6298cf1a5790-2\" onclick=\"clear_selection('f4c7431c-b57f-11ee-a795-6298cf1a5790')\">\n",
       "        <label id=\"f4c7431c-b57f-11ee-a795-6298cf1a5790-2-label\" for=\"f4c7431c-b57f-11ee-a795-6298cf1a5790-2\"><code>tag = False</code></label><br>\n",
       "    \n",
       "        <input type=\"checkbox\" name=\"f4c7431c-b57f-11ee-a795-6298cf1a5790\" id=\"f4c7431c-b57f-11ee-a795-6298cf1a5790-3\" onclick=\"clear_selection('f4c7431c-b57f-11ee-a795-6298cf1a5790')\">\n",
       "        <label id=\"f4c7431c-b57f-11ee-a795-6298cf1a5790-3-label\" for=\"f4c7431c-b57f-11ee-a795-6298cf1a5790-3\"><code>quote = not quote</code></label><br>\n",
       "    \n",
       "        <input type=\"checkbox\" name=\"f4c7431c-b57f-11ee-a795-6298cf1a5790\" id=\"f4c7431c-b57f-11ee-a795-6298cf1a5790-4\" onclick=\"clear_selection('f4c7431c-b57f-11ee-a795-6298cf1a5790')\">\n",
       "        <label id=\"f4c7431c-b57f-11ee-a795-6298cf1a5790-4-label\" for=\"f4c7431c-b57f-11ee-a795-6298cf1a5790-4\"><code>out = out + c</code></label><br>\n",
       "    \n",
       "    </div>\n",
       "    </p>\n",
       "    <input id=\"f4c7431c-b57f-11ee-a795-6298cf1a5790-submit\" type=\"submit\" value=\"Submit\" onclick=\"check_selection('f4c7431c-b57f-11ee-a795-6298cf1a5790', 22, 1, '[ord(c) - ord(\\&#x27;a\\&#x27;) - 1 for c in \\&#x27;cdf\\&#x27;]')\">\n",
       "    <span class=\"quiz_hint\" id=\"f4c7431c-b57f-11ee-a795-6298cf1a5790-hint\"></span>\n",
       "    </div>\n",
       "    "
      ],
      "text/plain": [
       "<IPython.core.display.HTML object>"
      ]
     },
     "execution_count": 29,
     "metadata": {},
     "output_type": "execute_result"
    }
   ],
   "source": [
    "quiz('Let the input be `\"<b>Don\\'t do this!</b>\"`. '\n",
    "     \"Which of these lines are executed? Use the code to find out!\",\n",
    "     [\n",
    "         \"`tag = True`\",\n",
    "         \"`tag = False`\",\n",
    "         \"`quote = not quote`\",\n",
    "         \"`out = out + c`\"\n",
    "     ], \"[ord(c) - ord('a') - 1 for c in 'cdf']\")"
   ]
  },
  {
   "cell_type": "markdown",
   "metadata": {
    "slideshow": {
     "slide_type": "fragment"
    }
   },
   "source": [
    "To find the solution, try this out yourself:"
   ]
  },
  {
   "cell_type": "code",
   "execution_count": 30,
   "metadata": {
    "execution": {
     "iopub.execute_input": "2024-01-17T21:32:46.729482Z",
     "iopub.status.busy": "2024-01-17T21:32:46.729374Z",
     "iopub.status.idle": "2024-01-17T21:32:46.731191Z",
     "shell.execute_reply": "2024-01-17T21:32:46.730954Z"
    },
    "slideshow": {
     "slide_type": "fragment"
    }
   },
   "outputs": [],
   "source": [
    "with CoverageCollector() as c:\n",
    "    remove_html_markup(\"<b>Don't do this!</b>\")\n",
    "# code_with_coverage(remove_html_markup, c.coverage)"
   ]
  },
  {
   "cell_type": "markdown",
   "metadata": {
    "slideshow": {
     "slide_type": "slide"
    }
   },
   "source": [
    "## Computing Differences\n",
    "\n",
    "Let us get back to the idea that we want to _correlate_ events with passing and failing outcomes. For this, we need to examine events in both _passing_ and _failing_ runs, and determine their _differences_ – since it is these differences we want to associate with their respective outcome."
   ]
  },
  {
   "cell_type": "markdown",
   "metadata": {
    "slideshow": {
     "slide_type": "subslide"
    }
   },
   "source": [
    "### A Base Class for Statistical Debugging\n",
    "\n",
    "The `StatisticalDebugger` base class takes a collector class (such as `CoverageCollector`). Its `collect()` method creates a new collector of that very class, which will be maintained by the debugger. As argument, `collect()` takes a string characterizing the outcome (such as `'PASS'` or `'FAIL'`). This is how one would use it:\n",
    "\n",
    "```python\n",
    "debugger = StatisticalDebugger()\n",
    "with debugger.collect('PASS'):\n",
    "    some_passing_run()\n",
    "with debugger.collect('PASS'):\n",
    "    another_passing_run()\n",
    "with debugger.collect('FAIL'):\n",
    "    some_failing_run()\n",
    "```"
   ]
  },
  {
   "cell_type": "markdown",
   "metadata": {
    "slideshow": {
     "slide_type": "subslide"
    }
   },
   "source": [
    "Let us implement `StatisticalDebugger`. The base class gets a collector class as argument:"
   ]
  },
  {
   "cell_type": "code",
   "execution_count": 31,
   "metadata": {
    "execution": {
     "iopub.execute_input": "2024-01-17T21:32:46.732846Z",
     "iopub.status.busy": "2024-01-17T21:32:46.732738Z",
     "iopub.status.idle": "2024-01-17T21:32:46.734757Z",
     "shell.execute_reply": "2024-01-17T21:32:46.734491Z"
    },
    "slideshow": {
     "slide_type": "fragment"
    }
   },
   "outputs": [],
   "source": [
    "class StatisticalDebugger:\n",
    "    \"\"\"A class to collect events for multiple outcomes.\"\"\"\n",
    "\n",
    "    def __init__(self, collector_class: Type = CoverageCollector, log: bool = False):\n",
    "        \"\"\"Constructor. Use instances of `collector_class` to collect events.\"\"\"\n",
    "        self.collector_class = collector_class\n",
    "        self.collectors: Dict[str, List[Collector]] = {}\n",
    "        self.log = log"
   ]
  },
  {
   "cell_type": "markdown",
   "metadata": {
    "slideshow": {
     "slide_type": "fragment"
    }
   },
   "source": [
    "The `collect()` method creates (and stores) a collector for the given outcome, using the given outcome to characterize the run. Any additional arguments are passed to the collector."
   ]
  },
  {
   "cell_type": "code",
   "execution_count": 32,
   "metadata": {
    "execution": {
     "iopub.execute_input": "2024-01-17T21:32:46.736305Z",
     "iopub.status.busy": "2024-01-17T21:32:46.736196Z",
     "iopub.status.idle": "2024-01-17T21:32:46.738552Z",
     "shell.execute_reply": "2024-01-17T21:32:46.738325Z"
    },
    "slideshow": {
     "slide_type": "subslide"
    }
   },
   "outputs": [],
   "source": [
    "class StatisticalDebugger(StatisticalDebugger):\n",
    "    def collect(self, outcome: str, *args: Any, **kwargs: Any) -> Collector:\n",
    "        \"\"\"Return a collector for the given outcome. \n",
    "        Additional args are passed to the collector.\"\"\"\n",
    "        collector = self.collector_class(*args, **kwargs)\n",
    "        collector.add_items_to_ignore([self.__class__])\n",
    "        return self.add_collector(outcome, collector)\n",
    "\n",
    "    def add_collector(self, outcome: str, collector: Collector) -> Collector:\n",
    "        if outcome not in self.collectors:\n",
    "            self.collectors[outcome] = []\n",
    "        self.collectors[outcome].append(collector)\n",
    "        return collector"
   ]
  },
  {
   "cell_type": "markdown",
   "metadata": {
    "slideshow": {
     "slide_type": "subslide"
    }
   },
   "source": [
    "The `all_events()` method produces a union of all events observed. If an outcome is given, it produces a union of all events with that outcome:"
   ]
  },
  {
   "cell_type": "code",
   "execution_count": 33,
   "metadata": {
    "execution": {
     "iopub.execute_input": "2024-01-17T21:32:46.740057Z",
     "iopub.status.busy": "2024-01-17T21:32:46.739957Z",
     "iopub.status.idle": "2024-01-17T21:32:46.742272Z",
     "shell.execute_reply": "2024-01-17T21:32:46.741992Z"
    },
    "slideshow": {
     "slide_type": "subslide"
    }
   },
   "outputs": [],
   "source": [
    "class StatisticalDebugger(StatisticalDebugger):\n",
    "    def all_events(self, outcome: Optional[str] = None) -> Set[Any]:\n",
    "        \"\"\"Return a set of all events observed.\"\"\"\n",
    "        all_events = set()\n",
    "\n",
    "        if outcome:\n",
    "            if outcome in self.collectors:\n",
    "                for collector in self.collectors[outcome]:\n",
    "                    all_events.update(collector.events())\n",
    "        else:\n",
    "            for outcome in self.collectors:\n",
    "                for collector in self.collectors[outcome]:\n",
    "                    all_events.update(collector.events())\n",
    "\n",
    "        return all_events"
   ]
  },
  {
   "cell_type": "markdown",
   "metadata": {
    "slideshow": {
     "slide_type": "subslide"
    }
   },
   "source": [
    "Here's a simple example of `StatisticalDebugger` in action:"
   ]
  },
  {
   "cell_type": "code",
   "execution_count": 34,
   "metadata": {
    "execution": {
     "iopub.execute_input": "2024-01-17T21:32:46.743833Z",
     "iopub.status.busy": "2024-01-17T21:32:46.743722Z",
     "iopub.status.idle": "2024-01-17T21:32:46.746004Z",
     "shell.execute_reply": "2024-01-17T21:32:46.745625Z"
    },
    "slideshow": {
     "slide_type": "fragment"
    }
   },
   "outputs": [],
   "source": [
    "s = StatisticalDebugger()\n",
    "with s.collect('PASS'):\n",
    "    remove_html_markup(\"abc\")\n",
    "with s.collect('PASS'):\n",
    "    remove_html_markup('<b>abc</b>')\n",
    "with s.collect('FAIL'):\n",
    "    remove_html_markup('\"abc\"')"
   ]
  },
  {
   "cell_type": "markdown",
   "metadata": {
    "slideshow": {
     "slide_type": "fragment"
    }
   },
   "source": [
    "The method `all_events()` returns all events collected:"
   ]
  },
  {
   "cell_type": "code",
   "execution_count": 35,
   "metadata": {
    "execution": {
     "iopub.execute_input": "2024-01-17T21:32:46.747720Z",
     "iopub.status.busy": "2024-01-17T21:32:46.747601Z",
     "iopub.status.idle": "2024-01-17T21:32:46.750168Z",
     "shell.execute_reply": "2024-01-17T21:32:46.749833Z"
    },
    "slideshow": {
     "slide_type": "subslide"
    }
   },
   "outputs": [
    {
     "data": {
      "text/plain": [
       "{('remove_html_markup', 1),\n",
       " ('remove_html_markup', 2),\n",
       " ('remove_html_markup', 3),\n",
       " ('remove_html_markup', 4),\n",
       " ('remove_html_markup', 6),\n",
       " ('remove_html_markup', 7),\n",
       " ('remove_html_markup', 8),\n",
       " ('remove_html_markup', 9),\n",
       " ('remove_html_markup', 10),\n",
       " ('remove_html_markup', 11),\n",
       " ('remove_html_markup', 12),\n",
       " ('remove_html_markup', 13),\n",
       " ('remove_html_markup', 14),\n",
       " ('remove_html_markup', 16)}"
      ]
     },
     "execution_count": 35,
     "metadata": {},
     "output_type": "execute_result"
    }
   ],
   "source": [
    "s.all_events()"
   ]
  },
  {
   "cell_type": "markdown",
   "metadata": {
    "slideshow": {
     "slide_type": "subslide"
    }
   },
   "source": [
    "If given an outcome as argument, we obtain all events with the given outcome."
   ]
  },
  {
   "cell_type": "code",
   "execution_count": 36,
   "metadata": {
    "execution": {
     "iopub.execute_input": "2024-01-17T21:32:46.752080Z",
     "iopub.status.busy": "2024-01-17T21:32:46.751939Z",
     "iopub.status.idle": "2024-01-17T21:32:46.754449Z",
     "shell.execute_reply": "2024-01-17T21:32:46.754167Z"
    },
    "slideshow": {
     "slide_type": "fragment"
    }
   },
   "outputs": [
    {
     "data": {
      "text/plain": [
       "{('remove_html_markup', 1),\n",
       " ('remove_html_markup', 2),\n",
       " ('remove_html_markup', 3),\n",
       " ('remove_html_markup', 4),\n",
       " ('remove_html_markup', 6),\n",
       " ('remove_html_markup', 7),\n",
       " ('remove_html_markup', 9),\n",
       " ('remove_html_markup', 11),\n",
       " ('remove_html_markup', 12),\n",
       " ('remove_html_markup', 13),\n",
       " ('remove_html_markup', 14),\n",
       " ('remove_html_markup', 16)}"
      ]
     },
     "execution_count": 36,
     "metadata": {},
     "output_type": "execute_result"
    }
   ],
   "source": [
    "s.all_events('FAIL')"
   ]
  },
  {
   "cell_type": "markdown",
   "metadata": {
    "slideshow": {
     "slide_type": "subslide"
    }
   },
   "source": [
    "The attribute `collectors` maps outcomes to lists of collectors:"
   ]
  },
  {
   "cell_type": "code",
   "execution_count": 37,
   "metadata": {
    "execution": {
     "iopub.execute_input": "2024-01-17T21:32:46.756131Z",
     "iopub.status.busy": "2024-01-17T21:32:46.755966Z",
     "iopub.status.idle": "2024-01-17T21:32:46.758388Z",
     "shell.execute_reply": "2024-01-17T21:32:46.758092Z"
    },
    "slideshow": {
     "slide_type": "fragment"
    }
   },
   "outputs": [
    {
     "data": {
      "text/plain": [
       "{'PASS': [remove_html_markup(s='abc'), remove_html_markup(s='<b>abc</b>')],\n",
       " 'FAIL': [remove_html_markup(s='\"abc\"')]}"
      ]
     },
     "execution_count": 37,
     "metadata": {},
     "output_type": "execute_result"
    }
   ],
   "source": [
    "s.collectors"
   ]
  },
  {
   "cell_type": "markdown",
   "metadata": {
    "slideshow": {
     "slide_type": "fragment"
    }
   },
   "source": [
    "Here's the collector of the one (and first) passing run:"
   ]
  },
  {
   "cell_type": "code",
   "execution_count": 38,
   "metadata": {
    "execution": {
     "iopub.execute_input": "2024-01-17T21:32:46.759921Z",
     "iopub.status.busy": "2024-01-17T21:32:46.759805Z",
     "iopub.status.idle": "2024-01-17T21:32:46.762156Z",
     "shell.execute_reply": "2024-01-17T21:32:46.761854Z"
    },
    "slideshow": {
     "slide_type": "fragment"
    }
   },
   "outputs": [
    {
     "data": {
      "text/plain": [
       "\"remove_html_markup(s='abc')\""
      ]
     },
     "execution_count": 38,
     "metadata": {},
     "output_type": "execute_result"
    }
   ],
   "source": [
    "s.collectors['PASS'][0].id()"
   ]
  },
  {
   "cell_type": "code",
   "execution_count": 39,
   "metadata": {
    "execution": {
     "iopub.execute_input": "2024-01-17T21:32:46.763741Z",
     "iopub.status.busy": "2024-01-17T21:32:46.763626Z",
     "iopub.status.idle": "2024-01-17T21:32:46.765947Z",
     "shell.execute_reply": "2024-01-17T21:32:46.765643Z"
    },
    "slideshow": {
     "slide_type": "subslide"
    }
   },
   "outputs": [
    {
     "data": {
      "text/plain": [
       "{('remove_html_markup', 1),\n",
       " ('remove_html_markup', 2),\n",
       " ('remove_html_markup', 3),\n",
       " ('remove_html_markup', 4),\n",
       " ('remove_html_markup', 6),\n",
       " ('remove_html_markup', 7),\n",
       " ('remove_html_markup', 9),\n",
       " ('remove_html_markup', 11),\n",
       " ('remove_html_markup', 13),\n",
       " ('remove_html_markup', 14),\n",
       " ('remove_html_markup', 16)}"
      ]
     },
     "execution_count": 39,
     "metadata": {},
     "output_type": "execute_result"
    }
   ],
   "source": [
    "s.collectors['PASS'][0].events()"
   ]
  },
  {
   "cell_type": "markdown",
   "metadata": {
    "slideshow": {
     "slide_type": "fragment"
    }
   },
   "source": [
    "To better highlight the differences between the collected events, we introduce a method `event_table()` that prints out whether an event took place in a run."
   ]
  },
  {
   "cell_type": "markdown",
   "metadata": {
    "slideshow": {
     "slide_type": "subslide"
    }
   },
   "source": [
    "### Excursion: Printing an Event Table"
   ]
  },
  {
   "cell_type": "code",
   "execution_count": 40,
   "metadata": {
    "execution": {
     "iopub.execute_input": "2024-01-17T21:32:46.767714Z",
     "iopub.status.busy": "2024-01-17T21:32:46.767585Z",
     "iopub.status.idle": "2024-01-17T21:32:46.769322Z",
     "shell.execute_reply": "2024-01-17T21:32:46.769027Z"
    },
    "slideshow": {
     "slide_type": "skip"
    }
   },
   "outputs": [],
   "source": [
    "from IPython.display import Markdown"
   ]
  },
  {
   "cell_type": "code",
   "execution_count": 41,
   "metadata": {
    "execution": {
     "iopub.execute_input": "2024-01-17T21:32:46.770942Z",
     "iopub.status.busy": "2024-01-17T21:32:46.770813Z",
     "iopub.status.idle": "2024-01-17T21:32:46.772565Z",
     "shell.execute_reply": "2024-01-17T21:32:46.772283Z"
    },
    "slideshow": {
     "slide_type": "skip"
    }
   },
   "outputs": [],
   "source": [
    "import html"
   ]
  },
  {
   "cell_type": "code",
   "execution_count": 42,
   "metadata": {
    "execution": {
     "iopub.execute_input": "2024-01-17T21:32:46.774275Z",
     "iopub.status.busy": "2024-01-17T21:32:46.774031Z",
     "iopub.status.idle": "2024-01-17T21:32:46.781707Z",
     "shell.execute_reply": "2024-01-17T21:32:46.781457Z"
    },
    "slideshow": {
     "slide_type": "subslide"
    }
   },
   "outputs": [],
   "source": [
    "class StatisticalDebugger(StatisticalDebugger):\n",
    "    def function(self) -> Optional[Callable]:\n",
    "        \"\"\"\n",
    "        Return the entry function from the events observed,\n",
    "        or None if ambiguous.\n",
    "        \"\"\"\n",
    "        names_seen = set()\n",
    "        functions = []\n",
    "        for outcome in self.collectors:\n",
    "            for collector in self.collectors[outcome]:\n",
    "                # We may have multiple copies of the function,\n",
    "                # but sharing the same name\n",
    "                func = collector.function()\n",
    "                if func.__name__ not in names_seen:\n",
    "                    functions.append(func)\n",
    "                    names_seen.add(func.__name__)\n",
    "\n",
    "        if len(functions) != 1:\n",
    "            return None  # ambiguous\n",
    "        return functions[0]\n",
    "\n",
    "    def covered_functions(self) -> Set[Callable]:\n",
    "        \"\"\"Return a set of all functions observed.\"\"\"\n",
    "        functions = set()\n",
    "        for outcome in self.collectors:\n",
    "            for collector in self.collectors[outcome]:\n",
    "                functions |= collector.covered_functions()\n",
    "        return functions\n",
    "\n",
    "    def coverage(self) -> Coverage:\n",
    "        \"\"\"Return a set of all (functions, line_numbers) observed\"\"\"\n",
    "        coverage = set()\n",
    "        for outcome in self.collectors:\n",
    "            for collector in self.collectors[outcome]:\n",
    "                coverage |= collector.coverage()\n",
    "        return coverage\n",
    "\n",
    "    def color(self, event: Any) -> Optional[str]:\n",
    "        \"\"\"\n",
    "        Return a color for the given event, or None.\n",
    "        To be overloaded in subclasses.\n",
    "        \"\"\"\n",
    "        return None\n",
    "\n",
    "    def tooltip(self, event: Any) -> Optional[str]:\n",
    "        \"\"\"\n",
    "        Return a tooltip string for the given event, or None.\n",
    "        To be overloaded in subclasses.\n",
    "        \"\"\"\n",
    "        return None\n",
    "\n",
    "    def event_str(self, event: Any) -> str:\n",
    "        \"\"\"Format the given event. To be overloaded in subclasses.\"\"\"\n",
    "        if isinstance(event, str):\n",
    "            return event\n",
    "        if isinstance(event, tuple):\n",
    "            return \":\".join(self.event_str(elem) for elem in event)\n",
    "        return str(event)\n",
    "\n",
    "    def event_table_text(self, *, args: bool = False, color: bool = False) -> str:\n",
    "        \"\"\"\n",
    "        Print out a table of events observed.\n",
    "        If `args` is True, use arguments as headers.\n",
    "        If `color` is True, use colors.\n",
    "        \"\"\"\n",
    "        sep = ' | '\n",
    "        all_events = self.all_events()\n",
    "        longest_event = max(len(f\"{self.event_str(event)}\") \n",
    "                            for event in all_events)\n",
    "        out = \"\"\n",
    "\n",
    "        # Header\n",
    "        if args:\n",
    "            out += '| '\n",
    "            func = self.function()\n",
    "            if func:\n",
    "                out += '`' + func.__name__ + '`'\n",
    "            out += sep\n",
    "            for name in self.collectors:\n",
    "                for collector in self.collectors[name]:\n",
    "                    out += '`' + collector.argstring() + '`' + sep\n",
    "            out += '\\n'\n",
    "        else:\n",
    "            out += '| ' + ' ' * longest_event + sep\n",
    "            for name in self.collectors:\n",
    "                for i in range(len(self.collectors[name])):\n",
    "                    out += name + sep\n",
    "            out += '\\n'\n",
    "\n",
    "        out += '| ' + '-' * longest_event + sep\n",
    "        for name in self.collectors:\n",
    "            for i in range(len(self.collectors[name])):\n",
    "                out += '-' * len(name) + sep\n",
    "        out += '\\n'\n",
    "\n",
    "        # Data\n",
    "        for event in sorted(all_events):\n",
    "            event_name = self.event_str(event).rjust(longest_event)\n",
    "\n",
    "            tooltip = self.tooltip(event)\n",
    "            if tooltip:\n",
    "                title = f' title=\"{tooltip}\"'\n",
    "            else:\n",
    "                title = ''\n",
    "\n",
    "            if color:\n",
    "                color_name = self.color(event)\n",
    "                if color_name:\n",
    "                    event_name = \\\n",
    "                        f'<samp style=\"background-color: {color_name}\"{title}>' \\\n",
    "                        f'{html.escape(event_name)}' \\\n",
    "                        f'</samp>'\n",
    "\n",
    "            out += f\"| {event_name}\" + sep\n",
    "            for name in self.collectors:\n",
    "                for collector in self.collectors[name]:\n",
    "                    out += ' ' * (len(name) - 1)\n",
    "                    if event in collector.events():\n",
    "                        out += \"X\"\n",
    "                    else:\n",
    "                        out += \"-\"\n",
    "                    out += sep\n",
    "            out += '\\n'\n",
    "\n",
    "        return out\n",
    "\n",
    "    def event_table(self, **_args: Any) -> Any:\n",
    "        \"\"\"Print out event table in Markdown format.\"\"\"\n",
    "        return Markdown(self.event_table_text(**_args))\n",
    "\n",
    "    def __repr__(self) -> str:\n",
    "        return self.event_table_text()\n",
    "\n",
    "    def _repr_markdown_(self) -> str:\n",
    "        return self.event_table_text(args=True, color=True)"
   ]
  },
  {
   "cell_type": "markdown",
   "metadata": {
    "slideshow": {
     "slide_type": "subslide"
    }
   },
   "source": [
    "### End of Excursion"
   ]
  },
  {
   "cell_type": "code",
   "execution_count": 43,
   "metadata": {
    "execution": {
     "iopub.execute_input": "2024-01-17T21:32:46.783301Z",
     "iopub.status.busy": "2024-01-17T21:32:46.783211Z",
     "iopub.status.idle": "2024-01-17T21:32:46.785480Z",
     "shell.execute_reply": "2024-01-17T21:32:46.785240Z"
    },
    "slideshow": {
     "slide_type": "fragment"
    }
   },
   "outputs": [],
   "source": [
    "s = StatisticalDebugger()\n",
    "with s.collect('PASS'):\n",
    "    remove_html_markup(\"abc\")\n",
    "with s.collect('PASS'):\n",
    "    remove_html_markup('<b>abc</b>')\n",
    "with s.collect('FAIL'):\n",
    "    remove_html_markup('\"abc\"')"
   ]
  },
  {
   "cell_type": "code",
   "execution_count": 44,
   "metadata": {
    "execution": {
     "iopub.execute_input": "2024-01-17T21:32:46.786933Z",
     "iopub.status.busy": "2024-01-17T21:32:46.786850Z",
     "iopub.status.idle": "2024-01-17T21:32:46.789011Z",
     "shell.execute_reply": "2024-01-17T21:32:46.788760Z"
    },
    "slideshow": {
     "slide_type": "fragment"
    }
   },
   "outputs": [
    {
     "data": {
      "text/markdown": [
       "| `remove_html_markup` | `s='abc'` | `s='<b>abc</b>'` | `s='\"abc\"'` | \n",
       "| --------------------- | ---- | ---- | ---- | \n",
       "|  remove_html_markup:1 |    X |    X |    X | \n",
       "|  remove_html_markup:2 |    X |    X |    X | \n",
       "|  remove_html_markup:3 |    X |    X |    X | \n",
       "|  remove_html_markup:4 |    X |    X |    X | \n",
       "|  remove_html_markup:6 |    X |    X |    X | \n",
       "|  remove_html_markup:7 |    X |    X |    X | \n",
       "|  remove_html_markup:8 |    - |    X |    - | \n",
       "|  remove_html_markup:9 |    X |    X |    X | \n",
       "| remove_html_markup:10 |    - |    X |    - | \n",
       "| remove_html_markup:11 |    X |    X |    X | \n",
       "| remove_html_markup:12 |    - |    - |    X | \n",
       "| remove_html_markup:13 |    X |    X |    X | \n",
       "| remove_html_markup:14 |    X |    X |    X | \n",
       "| remove_html_markup:16 |    X |    X |    X | \n"
      ],
      "text/plain": [
       "<IPython.core.display.Markdown object>"
      ]
     },
     "execution_count": 44,
     "metadata": {},
     "output_type": "execute_result"
    }
   ],
   "source": [
    "s.event_table(args=True)"
   ]
  },
  {
   "cell_type": "code",
   "execution_count": 45,
   "metadata": {
    "execution": {
     "iopub.execute_input": "2024-01-17T21:32:46.790626Z",
     "iopub.status.busy": "2024-01-17T21:32:46.790535Z",
     "iopub.status.idle": "2024-01-17T21:32:46.793933Z",
     "shell.execute_reply": "2024-01-17T21:32:46.793628Z"
    },
    "slideshow": {
     "slide_type": "subslide"
    }
   },
   "outputs": [
    {
     "data": {
      "text/html": [
       "\n",
       "    \n",
       "    <script>\n",
       "    var bad_answers = new Map();\n",
       "\n",
       "    function answer(quiz_id) {\n",
       "        ans = 0;\n",
       "        for (i = 1;; i++) {\n",
       "            checkbox = document.getElementById(quiz_id + \"-\" + i.toString());\n",
       "            if (!checkbox)\n",
       "                break;\n",
       "            if (checkbox.checked)\n",
       "                ans |= (1 << i);\n",
       "        }\n",
       "        return ans;\n",
       "    }\n",
       "    function check_selection(quiz_id, correct_answer, multiple_choice, hint) {\n",
       "        given_answer = answer(quiz_id);\n",
       "        if (given_answer == correct_answer)\n",
       "        {\n",
       "            document.getElementById(quiz_id + \"-submit\").value = \"Correct!\";\n",
       "            document.getElementById(quiz_id + \"-hint\").innerHTML = \"\";\n",
       "\n",
       "            for (i = 1;; i++) {\n",
       "                checkbox = document.getElementById(quiz_id + \"-\" + i.toString());\n",
       "                label = document.getElementById(quiz_id + \"-\" + i.toString() + \"-label\")\n",
       "                if (!checkbox)\n",
       "                    break;\n",
       "    \n",
       "                if (checkbox.checked) {\n",
       "                    label.style.fontWeight = \"bold\";\n",
       "                }\n",
       "                else {\n",
       "                    label.style.textDecoration = \"line-through\";\n",
       "                }\n",
       "            }\n",
       "        }\n",
       "        else \n",
       "        {\n",
       "            document.getElementById(quiz_id + \"-submit\").value = \"Try again\";\n",
       "            \n",
       "            if (!bad_answers.has(quiz_id)) {\n",
       "                bad_answers.set(quiz_id, 1);\n",
       "            }\n",
       "            else {\n",
       "                bad_answers.set(quiz_id, bad_answers.get(quiz_id) + 1);\n",
       "            }\n",
       "\n",
       "            if (bad_answers.get(quiz_id) >= 2 && hint.length > 0) {\n",
       "                document.getElementById(quiz_id + \"-hint\").innerHTML = \n",
       "                    \"&nbsp;&nbsp;(Hint: <code>\" + hint + \"</code>)\";\n",
       "            }\n",
       "\n",
       "            if (!multiple_choice) {\n",
       "                for (i = 1;; i++) {\n",
       "                    checkbox = document.getElementById(quiz_id + \"-\" + i.toString());\n",
       "                    label = document.getElementById(quiz_id + \"-\" + i.toString() + \"-label\")\n",
       "\n",
       "                    if (!checkbox)\n",
       "                        break;\n",
       "                    if (checkbox.checked) {\n",
       "                        label.style.textDecoration = \"line-through\";\n",
       "                    }\n",
       "                }\n",
       "            }\n",
       "        }\n",
       "    }\n",
       "    function clear_selection(quiz_id) {\n",
       "        document.getElementById(quiz_id + \"-submit\").value = \"Submit\";\n",
       "        document.getElementById(quiz_id + \"-hint\").innerHTML = \"\";\n",
       "    }\n",
       "    </script>\n",
       "    \n",
       "    <div class=\"quiz\">\n",
       "    <h3 class=\"quiz_title\">Quiz</h3>\n",
       "    <p>\n",
       "    <div class=\"quiz_question\">How many lines are executed in the failing run only?</div>\n",
       "    </p>\n",
       "    <p>\n",
       "    <div class=\"quiz_options\" title=\"Pick a choice.\">\n",
       "    \n",
       "        <input type=\"radio\" name=\"f4d1899e-b57f-11ee-a795-6298cf1a5790\" id=\"f4d1899e-b57f-11ee-a795-6298cf1a5790-1\" onclick=\"clear_selection('f4d1899e-b57f-11ee-a795-6298cf1a5790')\">\n",
       "        <label id=\"f4d1899e-b57f-11ee-a795-6298cf1a5790-1-label\" for=\"f4d1899e-b57f-11ee-a795-6298cf1a5790-1\">One</label><br>\n",
       "    \n",
       "        <input type=\"radio\" name=\"f4d1899e-b57f-11ee-a795-6298cf1a5790\" id=\"f4d1899e-b57f-11ee-a795-6298cf1a5790-2\" onclick=\"clear_selection('f4d1899e-b57f-11ee-a795-6298cf1a5790')\">\n",
       "        <label id=\"f4d1899e-b57f-11ee-a795-6298cf1a5790-2-label\" for=\"f4d1899e-b57f-11ee-a795-6298cf1a5790-2\">Two</label><br>\n",
       "    \n",
       "        <input type=\"radio\" name=\"f4d1899e-b57f-11ee-a795-6298cf1a5790\" id=\"f4d1899e-b57f-11ee-a795-6298cf1a5790-3\" onclick=\"clear_selection('f4d1899e-b57f-11ee-a795-6298cf1a5790')\">\n",
       "        <label id=\"f4d1899e-b57f-11ee-a795-6298cf1a5790-3-label\" for=\"f4d1899e-b57f-11ee-a795-6298cf1a5790-3\">Three</label><br>\n",
       "    \n",
       "    </div>\n",
       "    </p>\n",
       "    <input id=\"f4d1899e-b57f-11ee-a795-6298cf1a5790-submit\" type=\"submit\" value=\"Submit\" onclick=\"check_selection('f4d1899e-b57f-11ee-a795-6298cf1a5790', 2, 0, 'len([12])')\">\n",
       "    <span class=\"quiz_hint\" id=\"f4d1899e-b57f-11ee-a795-6298cf1a5790-hint\"></span>\n",
       "    </div>\n",
       "    "
      ],
      "text/plain": [
       "<IPython.core.display.HTML object>"
      ]
     },
     "execution_count": 45,
     "metadata": {},
     "output_type": "execute_result"
    }
   ],
   "source": [
    "quiz(\"How many lines are executed in the failing run only?\",\n",
    "     [\n",
    "         \"One\",\n",
    "         \"Two\",\n",
    "         \"Three\"\n",
    "     ], 'len([12])')"
   ]
  },
  {
   "cell_type": "markdown",
   "metadata": {
    "slideshow": {
     "slide_type": "fragment"
    }
   },
   "source": [
    "Indeed, Line 12 executed in the failing run only would be a correlation to look for."
   ]
  },
  {
   "cell_type": "markdown",
   "metadata": {
    "slideshow": {
     "slide_type": "subslide"
    }
   },
   "source": [
    "### Collecting Passing and Failing Runs\n",
    "\n",
    "While our `StatisticalDebugger` class allows arbitrary outcomes, we are typically only interested in two outcomes, namely _passing_ vs. _failing_ runs. We therefore introduce a specialized `DifferenceDebugger` class that provides customized methods to collect and access passing and failing runs."
   ]
  },
  {
   "cell_type": "code",
   "execution_count": 46,
   "metadata": {
    "execution": {
     "iopub.execute_input": "2024-01-17T21:32:46.795602Z",
     "iopub.status.busy": "2024-01-17T21:32:46.795503Z",
     "iopub.status.idle": "2024-01-17T21:32:46.799083Z",
     "shell.execute_reply": "2024-01-17T21:32:46.798786Z"
    },
    "slideshow": {
     "slide_type": "subslide"
    }
   },
   "outputs": [],
   "source": [
    "class DifferenceDebugger(StatisticalDebugger):\n",
    "    \"\"\"A class to collect events for passing and failing outcomes.\"\"\"\n",
    "\n",
    "    PASS = 'PASS'\n",
    "    FAIL = 'FAIL'\n",
    "\n",
    "    def collect_pass(self, *args: Any, **kwargs: Any) -> Collector:\n",
    "        \"\"\"Return a collector for passing runs.\"\"\"\n",
    "        return self.collect(self.PASS, *args, **kwargs)\n",
    "\n",
    "    def collect_fail(self, *args: Any, **kwargs: Any) -> Collector:\n",
    "        \"\"\"Return a collector for failing runs.\"\"\"\n",
    "        return self.collect(self.FAIL, *args, **kwargs)\n",
    "\n",
    "    def pass_collectors(self) -> List[Collector]:\n",
    "        return self.collectors[self.PASS]\n",
    "\n",
    "    def fail_collectors(self) -> List[Collector]:\n",
    "        return self.collectors[self.FAIL]\n",
    "\n",
    "    def all_fail_events(self) -> Set[Any]:\n",
    "        \"\"\"Return all events observed in failing runs.\"\"\"\n",
    "        return self.all_events(self.FAIL)\n",
    "\n",
    "    def all_pass_events(self) -> Set[Any]:\n",
    "        \"\"\"Return all events observed in passing runs.\"\"\"\n",
    "        return self.all_events(self.PASS)\n",
    "\n",
    "    def only_fail_events(self) -> Set[Any]:\n",
    "        \"\"\"Return all events observed only in failing runs.\"\"\"\n",
    "        return self.all_fail_events() - self.all_pass_events()\n",
    "\n",
    "    def only_pass_events(self) -> Set[Any]:\n",
    "        \"\"\"Return all events observed only in passing runs.\"\"\"\n",
    "        return self.all_pass_events() - self.all_fail_events()"
   ]
  },
  {
   "cell_type": "markdown",
   "metadata": {
    "slideshow": {
     "slide_type": "subslide"
    }
   },
   "source": [
    "We can use `DifferenceDebugger` just as a `StatisticalDebugger`:"
   ]
  },
  {
   "cell_type": "code",
   "execution_count": 47,
   "metadata": {
    "execution": {
     "iopub.execute_input": "2024-01-17T21:32:46.800726Z",
     "iopub.status.busy": "2024-01-17T21:32:46.800609Z",
     "iopub.status.idle": "2024-01-17T21:32:46.802435Z",
     "shell.execute_reply": "2024-01-17T21:32:46.802146Z"
    },
    "slideshow": {
     "slide_type": "fragment"
    }
   },
   "outputs": [],
   "source": [
    "# ignore\n",
    "T1 = TypeVar('T1', bound='DifferenceDebugger')"
   ]
  },
  {
   "cell_type": "code",
   "execution_count": 48,
   "metadata": {
    "execution": {
     "iopub.execute_input": "2024-01-17T21:32:46.803986Z",
     "iopub.status.busy": "2024-01-17T21:32:46.803865Z",
     "iopub.status.idle": "2024-01-17T21:32:46.806004Z",
     "shell.execute_reply": "2024-01-17T21:32:46.805724Z"
    },
    "slideshow": {
     "slide_type": "fragment"
    }
   },
   "outputs": [],
   "source": [
    "def test_debugger_html_simple(debugger: T1) -> T1:\n",
    "    with debugger.collect_pass():\n",
    "        remove_html_markup('abc')\n",
    "    with debugger.collect_pass():\n",
    "        remove_html_markup('<b>abc</b>')\n",
    "    with debugger.collect_fail():\n",
    "        remove_html_markup('\"abc\"')\n",
    "    return debugger"
   ]
  },
  {
   "cell_type": "markdown",
   "metadata": {
    "slideshow": {
     "slide_type": "fragment"
    }
   },
   "source": [
    "However, since the outcome of tests may not always be predetermined, we provide a simpler interface for tests that can fail (= raise an exception) or pass (not raise an exception)."
   ]
  },
  {
   "cell_type": "code",
   "execution_count": 49,
   "metadata": {
    "execution": {
     "iopub.execute_input": "2024-01-17T21:32:46.807618Z",
     "iopub.status.busy": "2024-01-17T21:32:46.807494Z",
     "iopub.status.idle": "2024-01-17T21:32:46.810306Z",
     "shell.execute_reply": "2024-01-17T21:32:46.810034Z"
    },
    "slideshow": {
     "slide_type": "subslide"
    }
   },
   "outputs": [],
   "source": [
    "class DifferenceDebugger(DifferenceDebugger):\n",
    "    def __enter__(self) -> Any:\n",
    "        \"\"\"Enter a `with` block. Collect coverage and outcome;\n",
    "        classify as FAIL if the block raises an exception,\n",
    "        and PASS if it does not.\n",
    "        \"\"\"\n",
    "        self.collector = self.collector_class()\n",
    "        self.collector.add_items_to_ignore([self.__class__])\n",
    "        self.collector.__enter__()\n",
    "        return self\n",
    "\n",
    "    def __exit__(self, exc_tp: Type, exc_value: BaseException,\n",
    "                 exc_traceback: TracebackType) -> Optional[bool]:\n",
    "        \"\"\"Exit the `with` block.\"\"\"\n",
    "        status = self.collector.__exit__(exc_tp, exc_value, exc_traceback)\n",
    "\n",
    "        if status is None:\n",
    "            pass\n",
    "        else:\n",
    "            return False  # Internal error; re-raise exception\n",
    "\n",
    "        if exc_tp is None:\n",
    "            outcome = self.PASS\n",
    "        else:\n",
    "            outcome = self.FAIL\n",
    "\n",
    "        self.add_collector(outcome, self.collector)\n",
    "        return True  # Ignore exception, if any"
   ]
  },
  {
   "cell_type": "markdown",
   "metadata": {
    "slideshow": {
     "slide_type": "subslide"
    }
   },
   "source": [
    "Using this interface, we can rewrite `test_debugger_html()`:"
   ]
  },
  {
   "cell_type": "code",
   "execution_count": 50,
   "metadata": {
    "execution": {
     "iopub.execute_input": "2024-01-17T21:32:46.811951Z",
     "iopub.status.busy": "2024-01-17T21:32:46.811837Z",
     "iopub.status.idle": "2024-01-17T21:32:46.813508Z",
     "shell.execute_reply": "2024-01-17T21:32:46.813251Z"
    },
    "slideshow": {
     "slide_type": "fragment"
    }
   },
   "outputs": [],
   "source": [
    "# ignore\n",
    "T2 = TypeVar('T2', bound='DifferenceDebugger')"
   ]
  },
  {
   "cell_type": "code",
   "execution_count": 51,
   "metadata": {
    "execution": {
     "iopub.execute_input": "2024-01-17T21:32:46.815022Z",
     "iopub.status.busy": "2024-01-17T21:32:46.814902Z",
     "iopub.status.idle": "2024-01-17T21:32:46.817065Z",
     "shell.execute_reply": "2024-01-17T21:32:46.816786Z"
    },
    "slideshow": {
     "slide_type": "fragment"
    }
   },
   "outputs": [],
   "source": [
    "def test_debugger_html(debugger: T2) -> T2:\n",
    "    with debugger:\n",
    "        remove_html_markup('abc')\n",
    "    with debugger:\n",
    "        remove_html_markup('<b>abc</b>')\n",
    "    with debugger:\n",
    "        remove_html_markup('\"abc\"')\n",
    "        assert False  # Mark test as failing\n",
    "\n",
    "    return debugger"
   ]
  },
  {
   "cell_type": "code",
   "execution_count": 52,
   "metadata": {
    "execution": {
     "iopub.execute_input": "2024-01-17T21:32:46.818830Z",
     "iopub.status.busy": "2024-01-17T21:32:46.818701Z",
     "iopub.status.idle": "2024-01-17T21:32:46.821454Z",
     "shell.execute_reply": "2024-01-17T21:32:46.821148Z"
    },
    "slideshow": {
     "slide_type": "subslide"
    }
   },
   "outputs": [
    {
     "data": {
      "text/markdown": [
       "| `remove_html_markup` | `s='abc'` | `s='<b>abc</b>'` | `s='\"abc\"'` | \n",
       "| --------------------- | ---- | ---- | ---- | \n",
       "|  remove_html_markup:1 |    X |    X |    X | \n",
       "|  remove_html_markup:2 |    X |    X |    X | \n",
       "|  remove_html_markup:3 |    X |    X |    X | \n",
       "|  remove_html_markup:4 |    X |    X |    X | \n",
       "|  remove_html_markup:6 |    X |    X |    X | \n",
       "|  remove_html_markup:7 |    X |    X |    X | \n",
       "|  remove_html_markup:8 |    - |    X |    - | \n",
       "|  remove_html_markup:9 |    X |    X |    X | \n",
       "| remove_html_markup:10 |    - |    X |    - | \n",
       "| remove_html_markup:11 |    X |    X |    X | \n",
       "| remove_html_markup:12 |    - |    - |    X | \n",
       "| remove_html_markup:13 |    X |    X |    X | \n",
       "| remove_html_markup:14 |    X |    X |    X | \n",
       "| remove_html_markup:16 |    X |    X |    X | \n"
      ],
      "text/plain": [
       "|                       | PASS | PASS | FAIL | \n",
       "| --------------------- | ---- | ---- | ---- | \n",
       "|  remove_html_markup:1 |    X |    X |    X | \n",
       "|  remove_html_markup:2 |    X |    X |    X | \n",
       "|  remove_html_markup:3 |    X |    X |    X | \n",
       "|  remove_html_markup:4 |    X |    X |    X | \n",
       "|  remove_html_markup:6 |    X |    X |    X | \n",
       "|  remove_html_markup:7 |    X |    X |    X | \n",
       "|  remove_html_markup:8 |    - |    X |    - | \n",
       "|  remove_html_markup:9 |    X |    X |    X | \n",
       "| remove_html_markup:10 |    - |    X |    - | \n",
       "| remove_html_markup:11 |    X |    X |    X | \n",
       "| remove_html_markup:12 |    - |    - |    X | \n",
       "| remove_html_markup:13 |    X |    X |    X | \n",
       "| remove_html_markup:14 |    X |    X |    X | \n",
       "| remove_html_markup:16 |    X |    X |    X | "
      ]
     },
     "execution_count": 52,
     "metadata": {},
     "output_type": "execute_result"
    }
   ],
   "source": [
    "test_debugger_html(DifferenceDebugger())"
   ]
  },
  {
   "cell_type": "markdown",
   "metadata": {
    "slideshow": {
     "slide_type": "subslide"
    }
   },
   "source": [
    "### Analyzing Events\n",
    "\n",
    "Let us now focus on _analyzing_ events collected. Since events come back as _sets_, we can compute _unions_ and _differences_ between these sets. For instance, we can compute which lines were executed in _any_ of the passing runs of `test_debugger_html()`, above:"
   ]
  },
  {
   "cell_type": "code",
   "execution_count": 53,
   "metadata": {
    "execution": {
     "iopub.execute_input": "2024-01-17T21:32:46.823064Z",
     "iopub.status.busy": "2024-01-17T21:32:46.822943Z",
     "iopub.status.idle": "2024-01-17T21:32:46.824928Z",
     "shell.execute_reply": "2024-01-17T21:32:46.824645Z"
    },
    "slideshow": {
     "slide_type": "fragment"
    }
   },
   "outputs": [],
   "source": [
    "debugger = test_debugger_html(DifferenceDebugger())"
   ]
  },
  {
   "cell_type": "code",
   "execution_count": 54,
   "metadata": {
    "execution": {
     "iopub.execute_input": "2024-01-17T21:32:46.826505Z",
     "iopub.status.busy": "2024-01-17T21:32:46.826384Z",
     "iopub.status.idle": "2024-01-17T21:32:46.828204Z",
     "shell.execute_reply": "2024-01-17T21:32:46.827929Z"
    },
    "slideshow": {
     "slide_type": "fragment"
    }
   },
   "outputs": [],
   "source": [
    "pass_1_events = debugger.pass_collectors()[0].events()"
   ]
  },
  {
   "cell_type": "code",
   "execution_count": 55,
   "metadata": {
    "execution": {
     "iopub.execute_input": "2024-01-17T21:32:46.829735Z",
     "iopub.status.busy": "2024-01-17T21:32:46.829617Z",
     "iopub.status.idle": "2024-01-17T21:32:46.831321Z",
     "shell.execute_reply": "2024-01-17T21:32:46.831064Z"
    },
    "slideshow": {
     "slide_type": "fragment"
    }
   },
   "outputs": [],
   "source": [
    "pass_2_events = debugger.pass_collectors()[1].events()"
   ]
  },
  {
   "cell_type": "code",
   "execution_count": 56,
   "metadata": {
    "execution": {
     "iopub.execute_input": "2024-01-17T21:32:46.832832Z",
     "iopub.status.busy": "2024-01-17T21:32:46.832717Z",
     "iopub.status.idle": "2024-01-17T21:32:46.835083Z",
     "shell.execute_reply": "2024-01-17T21:32:46.834788Z"
    },
    "slideshow": {
     "slide_type": "subslide"
    }
   },
   "outputs": [
    {
     "data": {
      "text/plain": [
       "{('remove_html_markup', 1),\n",
       " ('remove_html_markup', 2),\n",
       " ('remove_html_markup', 3),\n",
       " ('remove_html_markup', 4),\n",
       " ('remove_html_markup', 6),\n",
       " ('remove_html_markup', 7),\n",
       " ('remove_html_markup', 8),\n",
       " ('remove_html_markup', 9),\n",
       " ('remove_html_markup', 10),\n",
       " ('remove_html_markup', 11),\n",
       " ('remove_html_markup', 13),\n",
       " ('remove_html_markup', 14),\n",
       " ('remove_html_markup', 16)}"
      ]
     },
     "execution_count": 56,
     "metadata": {},
     "output_type": "execute_result"
    }
   ],
   "source": [
    "in_any_pass = pass_1_events | pass_2_events\n",
    "in_any_pass"
   ]
  },
  {
   "cell_type": "markdown",
   "metadata": {
    "slideshow": {
     "slide_type": "subslide"
    }
   },
   "source": [
    "Likewise, we can determine which lines were _only_ executed in the failing run:"
   ]
  },
  {
   "cell_type": "code",
   "execution_count": 57,
   "metadata": {
    "execution": {
     "iopub.execute_input": "2024-01-17T21:32:46.836727Z",
     "iopub.status.busy": "2024-01-17T21:32:46.836602Z",
     "iopub.status.idle": "2024-01-17T21:32:46.838287Z",
     "shell.execute_reply": "2024-01-17T21:32:46.838021Z"
    },
    "slideshow": {
     "slide_type": "fragment"
    }
   },
   "outputs": [],
   "source": [
    "fail_events = debugger.fail_collectors()[0].events()"
   ]
  },
  {
   "cell_type": "code",
   "execution_count": 58,
   "metadata": {
    "execution": {
     "iopub.execute_input": "2024-01-17T21:32:46.839866Z",
     "iopub.status.busy": "2024-01-17T21:32:46.839744Z",
     "iopub.status.idle": "2024-01-17T21:32:46.842065Z",
     "shell.execute_reply": "2024-01-17T21:32:46.841723Z"
    },
    "slideshow": {
     "slide_type": "fragment"
    }
   },
   "outputs": [
    {
     "data": {
      "text/plain": [
       "{('remove_html_markup', 12)}"
      ]
     },
     "execution_count": 58,
     "metadata": {},
     "output_type": "execute_result"
    }
   ],
   "source": [
    "only_in_fail = fail_events - in_any_pass\n",
    "only_in_fail"
   ]
  },
  {
   "cell_type": "markdown",
   "metadata": {
    "slideshow": {
     "slide_type": "fragment"
    }
   },
   "source": [
    "And we see that the \"failing\" run is characterized by processing quotes:"
   ]
  },
  {
   "cell_type": "code",
   "execution_count": 59,
   "metadata": {
    "execution": {
     "iopub.execute_input": "2024-01-17T21:32:46.843652Z",
     "iopub.status.busy": "2024-01-17T21:32:46.843532Z",
     "iopub.status.idle": "2024-01-17T21:32:46.875655Z",
     "shell.execute_reply": "2024-01-17T21:32:46.875379Z"
    },
    "slideshow": {
     "slide_type": "subslide"
    }
   },
   "outputs": [
    {
     "name": "stdout",
     "output_type": "stream",
     "text": [
      "   1   \u001b[34mdef\u001b[39;49;00m \u001b[32mremove_html_markup\u001b[39;49;00m(s):  \u001b[37m# type: ignore\u001b[39;49;00m\u001b[37m\u001b[39;49;00m\n",
      "   2       tag = \u001b[34mFalse\u001b[39;49;00m\u001b[37m\u001b[39;49;00m\n",
      "   3       quote = \u001b[34mFalse\u001b[39;49;00m\u001b[37m\u001b[39;49;00m\n",
      "   4       out = \u001b[33m\"\u001b[39;49;00m\u001b[33m\"\u001b[39;49;00m\u001b[37m\u001b[39;49;00m\n",
      "   5   \u001b[37m\u001b[39;49;00m\n",
      "   6       \u001b[34mfor\u001b[39;49;00m c \u001b[35min\u001b[39;49;00m s:\u001b[37m\u001b[39;49;00m\n",
      "   7           \u001b[34mif\u001b[39;49;00m c == \u001b[33m'\u001b[39;49;00m\u001b[33m<\u001b[39;49;00m\u001b[33m'\u001b[39;49;00m \u001b[35mand\u001b[39;49;00m \u001b[35mnot\u001b[39;49;00m quote:\u001b[37m\u001b[39;49;00m\n",
      "   8               tag = \u001b[34mTrue\u001b[39;49;00m\u001b[37m\u001b[39;49;00m\n",
      "   9           \u001b[34melif\u001b[39;49;00m c == \u001b[33m'\u001b[39;49;00m\u001b[33m>\u001b[39;49;00m\u001b[33m'\u001b[39;49;00m \u001b[35mand\u001b[39;49;00m \u001b[35mnot\u001b[39;49;00m quote:\u001b[37m\u001b[39;49;00m\n",
      "  10               tag = \u001b[34mFalse\u001b[39;49;00m\u001b[37m\u001b[39;49;00m\n",
      "  11           \u001b[34melif\u001b[39;49;00m c == \u001b[33m'\u001b[39;49;00m\u001b[33m\"\u001b[39;49;00m\u001b[33m'\u001b[39;49;00m \u001b[35mor\u001b[39;49;00m c == \u001b[33m\"\u001b[39;49;00m\u001b[33m'\u001b[39;49;00m\u001b[33m\"\u001b[39;49;00m \u001b[35mand\u001b[39;49;00m tag:\u001b[37m\u001b[39;49;00m\n",
      "  12               quote = \u001b[35mnot\u001b[39;49;00m quote\u001b[37m\u001b[39;49;00m\n",
      "  13           \u001b[34melif\u001b[39;49;00m \u001b[35mnot\u001b[39;49;00m tag:\u001b[37m\u001b[39;49;00m\n",
      "  14               out = out + c\u001b[37m\u001b[39;49;00m\n",
      "  15   \u001b[37m\u001b[39;49;00m\n",
      "  16       \u001b[34mreturn\u001b[39;49;00m out\u001b[37m\u001b[39;49;00m\n"
     ]
    }
   ],
   "source": [
    "code_with_coverage(remove_html_markup, only_in_fail)"
   ]
  },
  {
   "cell_type": "code",
   "execution_count": 60,
   "metadata": {
    "execution": {
     "iopub.execute_input": "2024-01-17T21:32:46.877505Z",
     "iopub.status.busy": "2024-01-17T21:32:46.877178Z",
     "iopub.status.idle": "2024-01-17T21:32:46.879377Z",
     "shell.execute_reply": "2024-01-17T21:32:46.879089Z"
    },
    "slideshow": {
     "slide_type": "subslide"
    }
   },
   "outputs": [],
   "source": [
    "debugger = test_debugger_html(DifferenceDebugger())"
   ]
  },
  {
   "cell_type": "code",
   "execution_count": 61,
   "metadata": {
    "execution": {
     "iopub.execute_input": "2024-01-17T21:32:46.881147Z",
     "iopub.status.busy": "2024-01-17T21:32:46.881014Z",
     "iopub.status.idle": "2024-01-17T21:32:46.883538Z",
     "shell.execute_reply": "2024-01-17T21:32:46.883221Z"
    },
    "slideshow": {
     "slide_type": "subslide"
    }
   },
   "outputs": [
    {
     "data": {
      "text/plain": [
       "{('remove_html_markup', 1),\n",
       " ('remove_html_markup', 2),\n",
       " ('remove_html_markup', 3),\n",
       " ('remove_html_markup', 4),\n",
       " ('remove_html_markup', 6),\n",
       " ('remove_html_markup', 7),\n",
       " ('remove_html_markup', 8),\n",
       " ('remove_html_markup', 9),\n",
       " ('remove_html_markup', 10),\n",
       " ('remove_html_markup', 11),\n",
       " ('remove_html_markup', 12),\n",
       " ('remove_html_markup', 13),\n",
       " ('remove_html_markup', 14),\n",
       " ('remove_html_markup', 16)}"
      ]
     },
     "execution_count": 61,
     "metadata": {},
     "output_type": "execute_result"
    }
   ],
   "source": [
    "debugger.all_events()"
   ]
  },
  {
   "cell_type": "markdown",
   "metadata": {
    "slideshow": {
     "slide_type": "subslide"
    }
   },
   "source": [
    "These are the lines executed only in the failing run:"
   ]
  },
  {
   "cell_type": "code",
   "execution_count": 62,
   "metadata": {
    "execution": {
     "iopub.execute_input": "2024-01-17T21:32:46.885389Z",
     "iopub.status.busy": "2024-01-17T21:32:46.885254Z",
     "iopub.status.idle": "2024-01-17T21:32:46.887512Z",
     "shell.execute_reply": "2024-01-17T21:32:46.887204Z"
    },
    "slideshow": {
     "slide_type": "fragment"
    }
   },
   "outputs": [
    {
     "data": {
      "text/plain": [
       "{('remove_html_markup', 12)}"
      ]
     },
     "execution_count": 62,
     "metadata": {},
     "output_type": "execute_result"
    }
   ],
   "source": [
    "debugger.only_fail_events()"
   ]
  },
  {
   "cell_type": "markdown",
   "metadata": {
    "slideshow": {
     "slide_type": "fragment"
    }
   },
   "source": [
    "These are the lines executed only in the passing runs:"
   ]
  },
  {
   "cell_type": "code",
   "execution_count": 63,
   "metadata": {
    "execution": {
     "iopub.execute_input": "2024-01-17T21:32:46.889244Z",
     "iopub.status.busy": "2024-01-17T21:32:46.889114Z",
     "iopub.status.idle": "2024-01-17T21:32:46.891218Z",
     "shell.execute_reply": "2024-01-17T21:32:46.890934Z"
    },
    "slideshow": {
     "slide_type": "fragment"
    }
   },
   "outputs": [
    {
     "data": {
      "text/plain": [
       "{('remove_html_markup', 8), ('remove_html_markup', 10)}"
      ]
     },
     "execution_count": 63,
     "metadata": {},
     "output_type": "execute_result"
    }
   ],
   "source": [
    "debugger.only_pass_events()"
   ]
  },
  {
   "cell_type": "markdown",
   "metadata": {
    "slideshow": {
     "slide_type": "fragment"
    }
   },
   "source": [
    "Again, having these lines individually is neat, but things become much more interesting if we can see the associated code lines just as well. That's what we will do in the next section."
   ]
  },
  {
   "cell_type": "markdown",
   "metadata": {
    "slideshow": {
     "slide_type": "slide"
    }
   },
   "source": [
    "## Visualizing Differences\n",
    "\n",
    "To show correlations of line coverage in context, we introduce a number of _visualization_ techniques that _highlight_ code with different colors."
   ]
  },
  {
   "cell_type": "markdown",
   "metadata": {
    "slideshow": {
     "slide_type": "subslide"
    }
   },
   "source": [
    "### Discrete Spectrum\n",
    "\n",
    "The first idea is to use a _discrete_ spectrum of three colors:\n",
    "\n",
    "* _red_ for code executed in failing runs only\n",
    "* _green_ for code executed in passing runs only\n",
    "* _yellow_ for code executed in both passing and failing runs.\n",
    "\n",
    "Code that is not executed stays unhighlighted."
   ]
  },
  {
   "cell_type": "markdown",
   "metadata": {
    "slideshow": {
     "slide_type": "subslide"
    }
   },
   "source": [
    "We first introduce an abstract class `SpectrumDebugger` that provides the essential functions. `suspiciousness()` returns a value between 0 and 1 indicating the suspiciousness of the given event - or `None` if unknown."
   ]
  },
  {
   "cell_type": "code",
   "execution_count": 64,
   "metadata": {
    "execution": {
     "iopub.execute_input": "2024-01-17T21:32:46.892978Z",
     "iopub.status.busy": "2024-01-17T21:32:46.892859Z",
     "iopub.status.idle": "2024-01-17T21:32:46.894877Z",
     "shell.execute_reply": "2024-01-17T21:32:46.894553Z"
    },
    "slideshow": {
     "slide_type": "fragment"
    }
   },
   "outputs": [],
   "source": [
    "class SpectrumDebugger(DifferenceDebugger):\n",
    "    def suspiciousness(self, event: Any) -> Optional[float]:\n",
    "        \"\"\"\n",
    "        Return a suspiciousness value in the range [0, 1.0]\n",
    "        for the given event, or `None` if unknown.\n",
    "        To be overloaded in subclasses.\n",
    "        \"\"\"\n",
    "        return None"
   ]
  },
  {
   "cell_type": "markdown",
   "metadata": {
    "slideshow": {
     "slide_type": "fragment"
    }
   },
   "source": [
    "The `tooltip()` and `percentage()` methods convert the suspiciousness into a human-readable form."
   ]
  },
  {
   "cell_type": "code",
   "execution_count": 65,
   "metadata": {
    "execution": {
     "iopub.execute_input": "2024-01-17T21:32:46.896616Z",
     "iopub.status.busy": "2024-01-17T21:32:46.896486Z",
     "iopub.status.idle": "2024-01-17T21:32:46.898914Z",
     "shell.execute_reply": "2024-01-17T21:32:46.898634Z"
    },
    "slideshow": {
     "slide_type": "subslide"
    }
   },
   "outputs": [],
   "source": [
    "class SpectrumDebugger(SpectrumDebugger):\n",
    "    def tooltip(self, event: Any) -> str:\n",
    "        \"\"\"\n",
    "        Return a tooltip for the given event (default: percentage).\n",
    "        To be overloaded in subclasses.\n",
    "        \"\"\"\n",
    "        return self.percentage(event)\n",
    "\n",
    "    def percentage(self, event: Any) -> str:\n",
    "        \"\"\"\n",
    "        Return the suspiciousness for the given event as percentage string.\n",
    "        \"\"\"\n",
    "        suspiciousness = self.suspiciousness(event)\n",
    "        if suspiciousness is not None:\n",
    "            return str(int(suspiciousness * 100)).rjust(3) + '%'\n",
    "        else:\n",
    "            return ' ' * len('100%')"
   ]
  },
  {
   "cell_type": "markdown",
   "metadata": {
    "slideshow": {
     "slide_type": "subslide"
    }
   },
   "source": [
    "The `code()` method takes a function and shows each of its source code lines using the given spectrum, using HTML markup:"
   ]
  },
  {
   "cell_type": "code",
   "execution_count": 66,
   "metadata": {
    "execution": {
     "iopub.execute_input": "2024-01-17T21:32:46.900680Z",
     "iopub.status.busy": "2024-01-17T21:32:46.900554Z",
     "iopub.status.idle": "2024-01-17T21:32:46.904991Z",
     "shell.execute_reply": "2024-01-17T21:32:46.904666Z"
    },
    "slideshow": {
     "slide_type": "subslide"
    }
   },
   "outputs": [],
   "source": [
    "class SpectrumDebugger(SpectrumDebugger):\n",
    "    def code(self, functions: Optional[Set[Callable]] = None, *, \n",
    "             color: bool = False, suspiciousness: bool = False,\n",
    "             line_numbers: bool = True) -> str:\n",
    "        \"\"\"\n",
    "        Return a listing of `functions` (default: covered functions).\n",
    "        If `color` is True, render as HTML, using suspiciousness colors.\n",
    "        If `suspiciousness` is True, include suspiciousness values.\n",
    "        If `line_numbers` is True (default), include line numbers.\n",
    "        \"\"\"\n",
    "\n",
    "        if not functions:\n",
    "            functions = self.covered_functions()\n",
    "\n",
    "        out = \"\"\n",
    "        seen = set()\n",
    "        for function in functions:\n",
    "            source_lines, starting_line_number = \\\n",
    "               inspect.getsourcelines(function)\n",
    "\n",
    "            if (function.__name__, starting_line_number) in seen:\n",
    "                continue\n",
    "            seen.add((function.__name__, starting_line_number))\n",
    "\n",
    "            if out:\n",
    "                out += '\\n'\n",
    "                if color:\n",
    "                    out += '<p/>'\n",
    "\n",
    "            line_number = starting_line_number\n",
    "            for line in source_lines:\n",
    "                if color:\n",
    "                    line = html.escape(line)\n",
    "                    if line.strip() == '':\n",
    "                        line = '&nbsp;'\n",
    "\n",
    "                location = (function.__name__, line_number)\n",
    "                location_suspiciousness = self.suspiciousness(location)\n",
    "                if location_suspiciousness is not None:\n",
    "                    tooltip = f\"Line {line_number}: {self.tooltip(location)}\"\n",
    "                else:\n",
    "                    tooltip = f\"Line {line_number}: not executed\"\n",
    "\n",
    "                if suspiciousness:\n",
    "                    line = self.percentage(location) + ' ' + line\n",
    "\n",
    "                if line_numbers:\n",
    "                    line = str(line_number).rjust(4) + ' ' + line\n",
    "\n",
    "                line_color = self.color(location)\n",
    "\n",
    "                if color and line_color:\n",
    "                    line = f'''<pre style=\"background-color:{line_color}\"\n",
    "                    title=\"{tooltip}\">{line.rstrip()}</pre>'''\n",
    "                elif color:\n",
    "                    line = f'<pre title=\"{tooltip}\">{line}</pre>'\n",
    "                else:\n",
    "                    line = line.rstrip()\n",
    "\n",
    "                out += line + '\\n'\n",
    "                line_number += 1\n",
    "\n",
    "        return out"
   ]
  },
  {
   "cell_type": "markdown",
   "metadata": {
    "slideshow": {
     "slide_type": "subslide"
    }
   },
   "source": [
    "We introduce a few helper methods to visualize the code with colors in various forms."
   ]
  },
  {
   "cell_type": "code",
   "execution_count": 67,
   "metadata": {
    "execution": {
     "iopub.execute_input": "2024-01-17T21:32:46.906892Z",
     "iopub.status.busy": "2024-01-17T21:32:46.906761Z",
     "iopub.status.idle": "2024-01-17T21:32:46.908914Z",
     "shell.execute_reply": "2024-01-17T21:32:46.908633Z"
    },
    "slideshow": {
     "slide_type": "fragment"
    }
   },
   "outputs": [],
   "source": [
    "class SpectrumDebugger(SpectrumDebugger):\n",
    "    def _repr_html_(self) -> str:\n",
    "        \"\"\"When output in Jupyter, visualize as HTML\"\"\"\n",
    "        return self.code(color=True)\n",
    "\n",
    "    def __str__(self) -> str:\n",
    "        \"\"\"Show code as string\"\"\"\n",
    "        return self.code(color=False, suspiciousness=True)\n",
    "\n",
    "    def __repr__(self) -> str:\n",
    "        \"\"\"Show code as string\"\"\"\n",
    "        return self.code(color=False, suspiciousness=True)"
   ]
  },
  {
   "cell_type": "markdown",
   "metadata": {
    "slideshow": {
     "slide_type": "subslide"
    }
   },
   "source": [
    "So far, however, central methods like `suspiciousness()` or `color()` were abstract – that is, to be defined in subclasses. Our `DiscreteSpectrumDebugger` subclass provides concrete implementations for these, with `color()` returning one of the three colors depending on the line number:"
   ]
  },
  {
   "cell_type": "code",
   "execution_count": 68,
   "metadata": {
    "execution": {
     "iopub.execute_input": "2024-01-17T21:32:46.910632Z",
     "iopub.status.busy": "2024-01-17T21:32:46.910516Z",
     "iopub.status.idle": "2024-01-17T21:32:46.913936Z",
     "shell.execute_reply": "2024-01-17T21:32:46.913631Z"
    },
    "slideshow": {
     "slide_type": "subslide"
    }
   },
   "outputs": [],
   "source": [
    "class DiscreteSpectrumDebugger(SpectrumDebugger):\n",
    "    \"\"\"Visualize differences between executions using three discrete colors\"\"\"\n",
    "\n",
    "    def suspiciousness(self, event: Any) -> Optional[float]:\n",
    "        \"\"\"\n",
    "        Return a suspiciousness value [0, 1.0]\n",
    "        for the given event, or `None` if unknown.\n",
    "        \"\"\"\n",
    "        passing = self.all_pass_events()\n",
    "        failing = self.all_fail_events()\n",
    "\n",
    "        if event in passing and event in failing:\n",
    "            return 0.5\n",
    "        elif event in failing:\n",
    "            return 1.0\n",
    "        elif event in passing:\n",
    "            return 0.0\n",
    "        else:\n",
    "            return None\n",
    "\n",
    "    def color(self, event: Any) -> Optional[str]:\n",
    "        \"\"\"\n",
    "        Return a HTML color for the given event.\n",
    "        \"\"\"\n",
    "        suspiciousness = self.suspiciousness(event)\n",
    "        if suspiciousness is None:\n",
    "            return None\n",
    "\n",
    "        if suspiciousness > 0.8:\n",
    "            return 'mistyrose'\n",
    "        if suspiciousness >= 0.5:\n",
    "            return 'lightyellow'\n",
    "\n",
    "        return 'honeydew'\n",
    "\n",
    "    def tooltip(self, event: Any) -> str:\n",
    "        \"\"\"Return a tooltip for the given event.\"\"\"\n",
    "        passing = self.all_pass_events()\n",
    "        failing = self.all_fail_events()\n",
    "\n",
    "        if event in passing and event in failing:\n",
    "            return \"in passing and failing runs\"\n",
    "        elif event in failing:\n",
    "            return \"only in failing runs\"\n",
    "        elif event in passing:\n",
    "            return \"only in passing runs\"\n",
    "        else:\n",
    "            return \"never\""
   ]
  },
  {
   "cell_type": "markdown",
   "metadata": {
    "slideshow": {
     "slide_type": "subslide"
    }
   },
   "source": [
    "This is how the `only_pass_events()` and `only_fail_events()` sets look like when visualized with code. The \"culprit\" line is well highlighted:"
   ]
  },
  {
   "cell_type": "code",
   "execution_count": 69,
   "metadata": {
    "execution": {
     "iopub.execute_input": "2024-01-17T21:32:46.915621Z",
     "iopub.status.busy": "2024-01-17T21:32:46.915530Z",
     "iopub.status.idle": "2024-01-17T21:32:46.917465Z",
     "shell.execute_reply": "2024-01-17T21:32:46.917151Z"
    },
    "slideshow": {
     "slide_type": "fragment"
    }
   },
   "outputs": [],
   "source": [
    "debugger = test_debugger_html(DiscreteSpectrumDebugger())"
   ]
  },
  {
   "cell_type": "code",
   "execution_count": 70,
   "metadata": {
    "execution": {
     "iopub.execute_input": "2024-01-17T21:32:46.919076Z",
     "iopub.status.busy": "2024-01-17T21:32:46.918970Z",
     "iopub.status.idle": "2024-01-17T21:32:46.922804Z",
     "shell.execute_reply": "2024-01-17T21:32:46.922510Z"
    },
    "slideshow": {
     "slide_type": "subslide"
    }
   },
   "outputs": [
    {
     "data": {
      "text/html": [
       "<pre style=\"background-color:lightyellow\"\n",
       "                    title=\"Line 1: in passing and failing runs\">   1 def remove_html_markup(s):  # type: ignore</pre>\n",
       "<pre style=\"background-color:lightyellow\"\n",
       "                    title=\"Line 2: in passing and failing runs\">   2     tag = False</pre>\n",
       "<pre style=\"background-color:lightyellow\"\n",
       "                    title=\"Line 3: in passing and failing runs\">   3     quote = False</pre>\n",
       "<pre style=\"background-color:lightyellow\"\n",
       "                    title=\"Line 4: in passing and failing runs\">   4     out = &quot;&quot;</pre>\n",
       "<pre title=\"Line 5: not executed\">   5 &nbsp;</pre>\n",
       "<pre style=\"background-color:lightyellow\"\n",
       "                    title=\"Line 6: in passing and failing runs\">   6     for c in s:</pre>\n",
       "<pre style=\"background-color:lightyellow\"\n",
       "                    title=\"Line 7: in passing and failing runs\">   7         if c == &#x27;&lt;&#x27; and not quote:</pre>\n",
       "<pre style=\"background-color:honeydew\"\n",
       "                    title=\"Line 8: only in passing runs\">   8             tag = True</pre>\n",
       "<pre style=\"background-color:lightyellow\"\n",
       "                    title=\"Line 9: in passing and failing runs\">   9         elif c == &#x27;&gt;&#x27; and not quote:</pre>\n",
       "<pre style=\"background-color:honeydew\"\n",
       "                    title=\"Line 10: only in passing runs\">  10             tag = False</pre>\n",
       "<pre style=\"background-color:lightyellow\"\n",
       "                    title=\"Line 11: in passing and failing runs\">  11         elif c == &#x27;&quot;&#x27; or c == &quot;&#x27;&quot; and tag:</pre>\n",
       "<pre style=\"background-color:mistyrose\"\n",
       "                    title=\"Line 12: only in failing runs\">  12             quote = not quote</pre>\n",
       "<pre style=\"background-color:lightyellow\"\n",
       "                    title=\"Line 13: in passing and failing runs\">  13         elif not tag:</pre>\n",
       "<pre style=\"background-color:lightyellow\"\n",
       "                    title=\"Line 14: in passing and failing runs\">  14             out = out + c</pre>\n",
       "<pre title=\"Line 15: not executed\">  15 &nbsp;</pre>\n",
       "<pre style=\"background-color:lightyellow\"\n",
       "                    title=\"Line 16: in passing and failing runs\">  16     return out</pre>\n"
      ],
      "text/markdown": [
       "| `remove_html_markup` | `s='abc'` | `s='<b>abc</b>'` | `s='\"abc\"'` | \n",
       "| --------------------- | ---- | ---- | ---- | \n",
       "| <samp style=\"background-color: lightyellow\" title=\"in passing and failing runs\"> remove_html_markup:1</samp> |    X |    X |    X | \n",
       "| <samp style=\"background-color: lightyellow\" title=\"in passing and failing runs\"> remove_html_markup:2</samp> |    X |    X |    X | \n",
       "| <samp style=\"background-color: lightyellow\" title=\"in passing and failing runs\"> remove_html_markup:3</samp> |    X |    X |    X | \n",
       "| <samp style=\"background-color: lightyellow\" title=\"in passing and failing runs\"> remove_html_markup:4</samp> |    X |    X |    X | \n",
       "| <samp style=\"background-color: lightyellow\" title=\"in passing and failing runs\"> remove_html_markup:6</samp> |    X |    X |    X | \n",
       "| <samp style=\"background-color: lightyellow\" title=\"in passing and failing runs\"> remove_html_markup:7</samp> |    X |    X |    X | \n",
       "| <samp style=\"background-color: honeydew\" title=\"only in passing runs\"> remove_html_markup:8</samp> |    - |    X |    - | \n",
       "| <samp style=\"background-color: lightyellow\" title=\"in passing and failing runs\"> remove_html_markup:9</samp> |    X |    X |    X | \n",
       "| <samp style=\"background-color: honeydew\" title=\"only in passing runs\">remove_html_markup:10</samp> |    - |    X |    - | \n",
       "| <samp style=\"background-color: lightyellow\" title=\"in passing and failing runs\">remove_html_markup:11</samp> |    X |    X |    X | \n",
       "| <samp style=\"background-color: mistyrose\" title=\"only in failing runs\">remove_html_markup:12</samp> |    - |    - |    X | \n",
       "| <samp style=\"background-color: lightyellow\" title=\"in passing and failing runs\">remove_html_markup:13</samp> |    X |    X |    X | \n",
       "| <samp style=\"background-color: lightyellow\" title=\"in passing and failing runs\">remove_html_markup:14</samp> |    X |    X |    X | \n",
       "| <samp style=\"background-color: lightyellow\" title=\"in passing and failing runs\">remove_html_markup:16</samp> |    X |    X |    X | \n"
      ],
      "text/plain": [
       "   1  50% def remove_html_markup(s):  # type: ignore\n",
       "   2  50%     tag = False\n",
       "   3  50%     quote = False\n",
       "   4  50%     out = \"\"\n",
       "   5\n",
       "   6  50%     for c in s:\n",
       "   7  50%         if c == '<' and not quote:\n",
       "   8   0%             tag = True\n",
       "   9  50%         elif c == '>' and not quote:\n",
       "  10   0%             tag = False\n",
       "  11  50%         elif c == '\"' or c == \"'\" and tag:\n",
       "  12 100%             quote = not quote\n",
       "  13  50%         elif not tag:\n",
       "  14  50%             out = out + c\n",
       "  15\n",
       "  16  50%     return out"
      ]
     },
     "execution_count": 70,
     "metadata": {},
     "output_type": "execute_result"
    }
   ],
   "source": [
    "debugger"
   ]
  },
  {
   "cell_type": "markdown",
   "metadata": {
    "slideshow": {
     "slide_type": "subslide"
    }
   },
   "source": [
    "We can clearly see that the failure is correlated with the presence of quotes in the input string (which is an important hint!). But does this also show us _immediately_ where the defect to be fixed is?"
   ]
  },
  {
   "cell_type": "code",
   "execution_count": 71,
   "metadata": {
    "execution": {
     "iopub.execute_input": "2024-01-17T21:32:46.924664Z",
     "iopub.status.busy": "2024-01-17T21:32:46.924526Z",
     "iopub.status.idle": "2024-01-17T21:32:46.929089Z",
     "shell.execute_reply": "2024-01-17T21:32:46.928780Z"
    },
    "slideshow": {
     "slide_type": "fragment"
    }
   },
   "outputs": [
    {
     "data": {
      "text/html": [
       "\n",
       "    \n",
       "    <script>\n",
       "    var bad_answers = new Map();\n",
       "\n",
       "    function answer(quiz_id) {\n",
       "        ans = 0;\n",
       "        for (i = 1;; i++) {\n",
       "            checkbox = document.getElementById(quiz_id + \"-\" + i.toString());\n",
       "            if (!checkbox)\n",
       "                break;\n",
       "            if (checkbox.checked)\n",
       "                ans |= (1 << i);\n",
       "        }\n",
       "        return ans;\n",
       "    }\n",
       "    function check_selection(quiz_id, correct_answer, multiple_choice, hint) {\n",
       "        given_answer = answer(quiz_id);\n",
       "        if (given_answer == correct_answer)\n",
       "        {\n",
       "            document.getElementById(quiz_id + \"-submit\").value = \"Correct!\";\n",
       "            document.getElementById(quiz_id + \"-hint\").innerHTML = \"\";\n",
       "\n",
       "            for (i = 1;; i++) {\n",
       "                checkbox = document.getElementById(quiz_id + \"-\" + i.toString());\n",
       "                label = document.getElementById(quiz_id + \"-\" + i.toString() + \"-label\")\n",
       "                if (!checkbox)\n",
       "                    break;\n",
       "    \n",
       "                if (checkbox.checked) {\n",
       "                    label.style.fontWeight = \"bold\";\n",
       "                }\n",
       "                else {\n",
       "                    label.style.textDecoration = \"line-through\";\n",
       "                }\n",
       "            }\n",
       "        }\n",
       "        else \n",
       "        {\n",
       "            document.getElementById(quiz_id + \"-submit\").value = \"Try again\";\n",
       "            \n",
       "            if (!bad_answers.has(quiz_id)) {\n",
       "                bad_answers.set(quiz_id, 1);\n",
       "            }\n",
       "            else {\n",
       "                bad_answers.set(quiz_id, bad_answers.get(quiz_id) + 1);\n",
       "            }\n",
       "\n",
       "            if (bad_answers.get(quiz_id) >= 2 && hint.length > 0) {\n",
       "                document.getElementById(quiz_id + \"-hint\").innerHTML = \n",
       "                    \"&nbsp;&nbsp;(Hint: <code>\" + hint + \"</code>)\";\n",
       "            }\n",
       "\n",
       "            if (!multiple_choice) {\n",
       "                for (i = 1;; i++) {\n",
       "                    checkbox = document.getElementById(quiz_id + \"-\" + i.toString());\n",
       "                    label = document.getElementById(quiz_id + \"-\" + i.toString() + \"-label\")\n",
       "\n",
       "                    if (!checkbox)\n",
       "                        break;\n",
       "                    if (checkbox.checked) {\n",
       "                        label.style.textDecoration = \"line-through\";\n",
       "                    }\n",
       "                }\n",
       "            }\n",
       "        }\n",
       "    }\n",
       "    function clear_selection(quiz_id) {\n",
       "        document.getElementById(quiz_id + \"-submit\").value = \"Submit\";\n",
       "        document.getElementById(quiz_id + \"-hint\").innerHTML = \"\";\n",
       "    }\n",
       "    </script>\n",
       "    \n",
       "    <div class=\"quiz\">\n",
       "    <h3 class=\"quiz_title\">Quiz</h3>\n",
       "    <p>\n",
       "    <div class=\"quiz_question\">Does the line <code>quote = not quote</code> actually contain the defect?</div>\n",
       "    </p>\n",
       "    <p>\n",
       "    <div class=\"quiz_options\" title=\"Pick a choice.\">\n",
       "    \n",
       "        <input type=\"radio\" name=\"f4e5fa8c-b57f-11ee-a795-6298cf1a5790\" id=\"f4e5fa8c-b57f-11ee-a795-6298cf1a5790-1\" onclick=\"clear_selection('f4e5fa8c-b57f-11ee-a795-6298cf1a5790')\">\n",
       "        <label id=\"f4e5fa8c-b57f-11ee-a795-6298cf1a5790-1-label\" for=\"f4e5fa8c-b57f-11ee-a795-6298cf1a5790-1\">Yes, it should be fixed</label><br>\n",
       "    \n",
       "        <input type=\"radio\" name=\"f4e5fa8c-b57f-11ee-a795-6298cf1a5790\" id=\"f4e5fa8c-b57f-11ee-a795-6298cf1a5790-2\" onclick=\"clear_selection('f4e5fa8c-b57f-11ee-a795-6298cf1a5790')\">\n",
       "        <label id=\"f4e5fa8c-b57f-11ee-a795-6298cf1a5790-2-label\" for=\"f4e5fa8c-b57f-11ee-a795-6298cf1a5790-2\">No, the defect is elsewhere</label><br>\n",
       "    \n",
       "    </div>\n",
       "    </p>\n",
       "    <input id=\"f4e5fa8c-b57f-11ee-a795-6298cf1a5790-submit\" type=\"submit\" value=\"Submit\" onclick=\"check_selection('f4e5fa8c-b57f-11ee-a795-6298cf1a5790', 4, 0, '164 * 2 % 326')\">\n",
       "    <span class=\"quiz_hint\" id=\"f4e5fa8c-b57f-11ee-a795-6298cf1a5790-hint\"></span>\n",
       "    </div>\n",
       "    "
      ],
      "text/plain": [
       "<IPython.core.display.HTML object>"
      ]
     },
     "execution_count": 71,
     "metadata": {},
     "output_type": "execute_result"
    }
   ],
   "source": [
    "quiz(\"Does the line `quote = not quote` actually contain the defect?\",\n",
    "    [\n",
    "        \"Yes, it should be fixed\",\n",
    "        \"No, the defect is elsewhere\"\n",
    "    ], '164 * 2 % 326')"
   ]
  },
  {
   "cell_type": "markdown",
   "metadata": {
    "slideshow": {
     "slide_type": "subslide"
    }
   },
   "source": [
    "Indeed, it is the _governing condition_ that is wrong – that is, the condition that caused Line 12 to be executed in the first place. In order to fix a program, we have to find a location that\n",
    "\n",
    "1. _causes_ the failure (i.e., it can be changed to make the failure go away); and\n",
    "2. is a _defect_ (i.e., contains an error).\n",
    "\n",
    "In our example above, the highlighted code line is a _symptom_ for the error. To some extent, it is also a _cause_, since, say, commenting it out would also resolve the given failure, at the cost of causing other failures. However, the preceding condition also is a cause, as is the presence of quotes in the input.\n",
    "\n",
    "Only one of these also is a _defect_, though, and that is the preceding condition. Hence, while correlations can provide important hints, they do not necessarily locate defects."
   ]
  },
  {
   "cell_type": "markdown",
   "metadata": {
    "slideshow": {
     "slide_type": "subslide"
    }
   },
   "source": [
    "For those of us who may not have color HTML output ready, simply printing the debugger lists suspiciousness values as percentages."
   ]
  },
  {
   "cell_type": "code",
   "execution_count": 72,
   "metadata": {
    "execution": {
     "iopub.execute_input": "2024-01-17T21:32:46.930795Z",
     "iopub.status.busy": "2024-01-17T21:32:46.930676Z",
     "iopub.status.idle": "2024-01-17T21:32:46.932903Z",
     "shell.execute_reply": "2024-01-17T21:32:46.932605Z"
    },
    "slideshow": {
     "slide_type": "subslide"
    }
   },
   "outputs": [
    {
     "name": "stdout",
     "output_type": "stream",
     "text": [
      "   1  50% def remove_html_markup(s):  # type: ignore\n",
      "   2  50%     tag = False\n",
      "   3  50%     quote = False\n",
      "   4  50%     out = \"\"\n",
      "   5\n",
      "   6  50%     for c in s:\n",
      "   7  50%         if c == '<' and not quote:\n",
      "   8   0%             tag = True\n",
      "   9  50%         elif c == '>' and not quote:\n",
      "  10   0%             tag = False\n",
      "  11  50%         elif c == '\"' or c == \"'\" and tag:\n",
      "  12 100%             quote = not quote\n",
      "  13  50%         elif not tag:\n",
      "  14  50%             out = out + c\n",
      "  15\n",
      "  16  50%     return out\n",
      "\n"
     ]
    }
   ],
   "source": [
    "print(debugger)"
   ]
  },
  {
   "cell_type": "markdown",
   "metadata": {
    "slideshow": {
     "slide_type": "subslide"
    }
   },
   "source": [
    "### Continuous Spectrum\n",
    "\n",
    "The criterion that an event should _only_ occur in failing runs (and not in passing runs) can be too aggressive. In particular, if we have another run that executes the \"culprit\" lines, but does _not_ fail, our \"only in fail\" criterion will no longer be helpful."
   ]
  },
  {
   "cell_type": "markdown",
   "metadata": {
    "slideshow": {
     "slide_type": "subslide"
    }
   },
   "source": [
    "Here is an example. The input\n",
    "\n",
    "```html\n",
    "<b color=\"blue\">text</b>\n",
    "```\n",
    "\n",
    "will trigger the \"culprit\" line\n",
    "\n",
    "```python\n",
    "quote = not quote\n",
    "```\n",
    "\n",
    "but actually produce an output where the tags are properly stripped:"
   ]
  },
  {
   "cell_type": "code",
   "execution_count": 73,
   "metadata": {
    "execution": {
     "iopub.execute_input": "2024-01-17T21:32:46.934586Z",
     "iopub.status.busy": "2024-01-17T21:32:46.934458Z",
     "iopub.status.idle": "2024-01-17T21:32:46.936523Z",
     "shell.execute_reply": "2024-01-17T21:32:46.936272Z"
    },
    "slideshow": {
     "slide_type": "subslide"
    }
   },
   "outputs": [
    {
     "data": {
      "text/plain": [
       "'text'"
      ]
     },
     "execution_count": 73,
     "metadata": {},
     "output_type": "execute_result"
    }
   ],
   "source": [
    "remove_html_markup('<b color=\"blue\">text</b>')"
   ]
  },
  {
   "cell_type": "markdown",
   "metadata": {
    "slideshow": {
     "slide_type": "fragment"
    }
   },
   "source": [
    "As a consequence, we no longer have lines that are being executed only in failing runs:"
   ]
  },
  {
   "cell_type": "code",
   "execution_count": 74,
   "metadata": {
    "execution": {
     "iopub.execute_input": "2024-01-17T21:32:46.938013Z",
     "iopub.status.busy": "2024-01-17T21:32:46.937906Z",
     "iopub.status.idle": "2024-01-17T21:32:46.939963Z",
     "shell.execute_reply": "2024-01-17T21:32:46.939711Z"
    },
    "slideshow": {
     "slide_type": "fragment"
    }
   },
   "outputs": [],
   "source": [
    "debugger = test_debugger_html(DiscreteSpectrumDebugger())\n",
    "with debugger.collect_pass():\n",
    "    remove_html_markup('<b link=\"blue\"></b>')"
   ]
  },
  {
   "cell_type": "code",
   "execution_count": 75,
   "metadata": {
    "execution": {
     "iopub.execute_input": "2024-01-17T21:32:46.941398Z",
     "iopub.status.busy": "2024-01-17T21:32:46.941296Z",
     "iopub.status.idle": "2024-01-17T21:32:46.943264Z",
     "shell.execute_reply": "2024-01-17T21:32:46.943021Z"
    },
    "slideshow": {
     "slide_type": "fragment"
    }
   },
   "outputs": [
    {
     "data": {
      "text/plain": [
       "set()"
      ]
     },
     "execution_count": 75,
     "metadata": {},
     "output_type": "execute_result"
    }
   ],
   "source": [
    "debugger.only_fail_events()"
   ]
  },
  {
   "cell_type": "markdown",
   "metadata": {
    "slideshow": {
     "slide_type": "fragment"
    }
   },
   "source": [
    "In our spectrum output, the effect now is that the \"culprit\" line is as yellow as all others."
   ]
  },
  {
   "cell_type": "code",
   "execution_count": 76,
   "metadata": {
    "execution": {
     "iopub.execute_input": "2024-01-17T21:32:46.944681Z",
     "iopub.status.busy": "2024-01-17T21:32:46.944581Z",
     "iopub.status.idle": "2024-01-17T21:32:46.948092Z",
     "shell.execute_reply": "2024-01-17T21:32:46.947835Z"
    },
    "slideshow": {
     "slide_type": "subslide"
    }
   },
   "outputs": [
    {
     "data": {
      "text/html": [
       "<pre style=\"background-color:lightyellow\"\n",
       "                    title=\"Line 1: in passing and failing runs\">   1 def remove_html_markup(s):  # type: ignore</pre>\n",
       "<pre style=\"background-color:lightyellow\"\n",
       "                    title=\"Line 2: in passing and failing runs\">   2     tag = False</pre>\n",
       "<pre style=\"background-color:lightyellow\"\n",
       "                    title=\"Line 3: in passing and failing runs\">   3     quote = False</pre>\n",
       "<pre style=\"background-color:lightyellow\"\n",
       "                    title=\"Line 4: in passing and failing runs\">   4     out = &quot;&quot;</pre>\n",
       "<pre title=\"Line 5: not executed\">   5 &nbsp;</pre>\n",
       "<pre style=\"background-color:lightyellow\"\n",
       "                    title=\"Line 6: in passing and failing runs\">   6     for c in s:</pre>\n",
       "<pre style=\"background-color:lightyellow\"\n",
       "                    title=\"Line 7: in passing and failing runs\">   7         if c == &#x27;&lt;&#x27; and not quote:</pre>\n",
       "<pre style=\"background-color:honeydew\"\n",
       "                    title=\"Line 8: only in passing runs\">   8             tag = True</pre>\n",
       "<pre style=\"background-color:lightyellow\"\n",
       "                    title=\"Line 9: in passing and failing runs\">   9         elif c == &#x27;&gt;&#x27; and not quote:</pre>\n",
       "<pre style=\"background-color:honeydew\"\n",
       "                    title=\"Line 10: only in passing runs\">  10             tag = False</pre>\n",
       "<pre style=\"background-color:lightyellow\"\n",
       "                    title=\"Line 11: in passing and failing runs\">  11         elif c == &#x27;&quot;&#x27; or c == &quot;&#x27;&quot; and tag:</pre>\n",
       "<pre style=\"background-color:lightyellow\"\n",
       "                    title=\"Line 12: in passing and failing runs\">  12             quote = not quote</pre>\n",
       "<pre style=\"background-color:lightyellow\"\n",
       "                    title=\"Line 13: in passing and failing runs\">  13         elif not tag:</pre>\n",
       "<pre style=\"background-color:lightyellow\"\n",
       "                    title=\"Line 14: in passing and failing runs\">  14             out = out + c</pre>\n",
       "<pre title=\"Line 15: not executed\">  15 &nbsp;</pre>\n",
       "<pre style=\"background-color:lightyellow\"\n",
       "                    title=\"Line 16: in passing and failing runs\">  16     return out</pre>\n"
      ],
      "text/markdown": [
       "| `remove_html_markup` | `s='abc'` | `s='<b>abc</b>'` | `s='<b link=\"blue\"></b>'` | `s='\"abc\"'` | \n",
       "| --------------------- | ---- | ---- | ---- | ---- | \n",
       "| <samp style=\"background-color: lightyellow\" title=\"in passing and failing runs\"> remove_html_markup:1</samp> |    X |    X |    X |    X | \n",
       "| <samp style=\"background-color: lightyellow\" title=\"in passing and failing runs\"> remove_html_markup:2</samp> |    X |    X |    X |    X | \n",
       "| <samp style=\"background-color: lightyellow\" title=\"in passing and failing runs\"> remove_html_markup:3</samp> |    X |    X |    X |    X | \n",
       "| <samp style=\"background-color: lightyellow\" title=\"in passing and failing runs\"> remove_html_markup:4</samp> |    X |    X |    X |    X | \n",
       "| <samp style=\"background-color: lightyellow\" title=\"in passing and failing runs\"> remove_html_markup:6</samp> |    X |    X |    X |    X | \n",
       "| <samp style=\"background-color: lightyellow\" title=\"in passing and failing runs\"> remove_html_markup:7</samp> |    X |    X |    X |    X | \n",
       "| <samp style=\"background-color: honeydew\" title=\"only in passing runs\"> remove_html_markup:8</samp> |    - |    X |    X |    - | \n",
       "| <samp style=\"background-color: lightyellow\" title=\"in passing and failing runs\"> remove_html_markup:9</samp> |    X |    X |    X |    X | \n",
       "| <samp style=\"background-color: honeydew\" title=\"only in passing runs\">remove_html_markup:10</samp> |    - |    X |    X |    - | \n",
       "| <samp style=\"background-color: lightyellow\" title=\"in passing and failing runs\">remove_html_markup:11</samp> |    X |    X |    X |    X | \n",
       "| <samp style=\"background-color: lightyellow\" title=\"in passing and failing runs\">remove_html_markup:12</samp> |    - |    - |    X |    X | \n",
       "| <samp style=\"background-color: lightyellow\" title=\"in passing and failing runs\">remove_html_markup:13</samp> |    X |    X |    X |    X | \n",
       "| <samp style=\"background-color: lightyellow\" title=\"in passing and failing runs\">remove_html_markup:14</samp> |    X |    X |    - |    X | \n",
       "| <samp style=\"background-color: lightyellow\" title=\"in passing and failing runs\">remove_html_markup:16</samp> |    X |    X |    X |    X | \n"
      ],
      "text/plain": [
       "   1  50% def remove_html_markup(s):  # type: ignore\n",
       "   2  50%     tag = False\n",
       "   3  50%     quote = False\n",
       "   4  50%     out = \"\"\n",
       "   5\n",
       "   6  50%     for c in s:\n",
       "   7  50%         if c == '<' and not quote:\n",
       "   8   0%             tag = True\n",
       "   9  50%         elif c == '>' and not quote:\n",
       "  10   0%             tag = False\n",
       "  11  50%         elif c == '\"' or c == \"'\" and tag:\n",
       "  12  50%             quote = not quote\n",
       "  13  50%         elif not tag:\n",
       "  14  50%             out = out + c\n",
       "  15\n",
       "  16  50%     return out"
      ]
     },
     "execution_count": 76,
     "metadata": {},
     "output_type": "execute_result"
    }
   ],
   "source": [
    "debugger"
   ]
  },
  {
   "cell_type": "markdown",
   "metadata": {
    "slideshow": {
     "slide_type": "subslide"
    }
   },
   "source": [
    "We therefore introduce a different method for highlighting lines, based on their _relative_ occurrence with respect to all runs: If a line has been _mostly_ executed in failing runs, its color should shift towards red; if a line has been _mostly_ executed in passing runs, its color should shift towards green."
   ]
  },
  {
   "cell_type": "markdown",
   "metadata": {
    "slideshow": {
     "slide_type": "fragment"
    }
   },
   "source": [
    "This _continuous spectrum_ has been introduced by the seminal _Tarantula_ tool \\cite{Jones2002}. In Tarantula, the color _hue_ for each line is defined as follows:"
   ]
  },
  {
   "cell_type": "markdown",
   "metadata": {
    "slideshow": {
     "slide_type": "fragment"
    }
   },
   "source": [
    "$$\n",
    "\\textit{color hue}(\\textit{line}) = \\textit{low color(red)} + \\frac{\\%\\textit{passed}(\\textit{line})}{\\%\\textit{passed}(\\textit{line}) + \\%\\textit{failed}(\\textit{line})} \\times \\textit{color range}\n",
    "$$"
   ]
  },
  {
   "cell_type": "markdown",
   "metadata": {
    "slideshow": {
     "slide_type": "subslide"
    }
   },
   "source": [
    "Here, `%passed` and `%failed` denote the percentage at which a line has been executed in passing and failing runs, respectively. A hue of 0.0 stands for red, a hue of 1.0 stands for green, and a hue of 0.5 stands for equal fractions of red and green, yielding yellow."
   ]
  },
  {
   "cell_type": "markdown",
   "metadata": {
    "slideshow": {
     "slide_type": "fragment"
    }
   },
   "source": [
    "We can implement these measures right away as methods in a new `ContinuousSpectrumDebugger` class:"
   ]
  },
  {
   "cell_type": "code",
   "execution_count": 77,
   "metadata": {
    "execution": {
     "iopub.execute_input": "2024-01-17T21:32:46.949626Z",
     "iopub.status.busy": "2024-01-17T21:32:46.949544Z",
     "iopub.status.idle": "2024-01-17T21:32:46.953408Z",
     "shell.execute_reply": "2024-01-17T21:32:46.953171Z"
    },
    "slideshow": {
     "slide_type": "subslide"
    }
   },
   "outputs": [],
   "source": [
    "class ContinuousSpectrumDebugger(DiscreteSpectrumDebugger):\n",
    "    \"\"\"Visualize differences between executions using a color spectrum\"\"\"\n",
    "\n",
    "    def collectors_with_event(self, event: Any, category: str) -> Set[Collector]:\n",
    "        \"\"\"\n",
    "        Return all collectors in a category\n",
    "        that observed the given event.\n",
    "        \"\"\"\n",
    "        all_runs = self.collectors[category]\n",
    "        collectors_with_event = set(collector for collector in all_runs \n",
    "                                    if event in collector.events())\n",
    "        return collectors_with_event\n",
    "\n",
    "    def collectors_without_event(self, event: Any, category: str) -> Set[Collector]:\n",
    "        \"\"\"\n",
    "        Return all collectors in a category\n",
    "        that did not observe the given event.\n",
    "        \"\"\"\n",
    "        all_runs = self.collectors[category]\n",
    "        collectors_without_event = set(collector for collector in all_runs \n",
    "                              if event not in collector.events())\n",
    "        return collectors_without_event\n",
    "\n",
    "    def event_fraction(self, event: Any, category: str) -> float:\n",
    "        if category not in self.collectors:\n",
    "            return 0.0\n",
    "\n",
    "        all_collectors = self.collectors[category]\n",
    "        collectors_with_event = self.collectors_with_event(event, category)\n",
    "        fraction = len(collectors_with_event) / len(all_collectors)\n",
    "        # print(f\"%{category}({event}) = {fraction}\")\n",
    "        return fraction\n",
    "\n",
    "    def passed_fraction(self, event: Any) -> float:\n",
    "        return self.event_fraction(event, self.PASS)\n",
    "\n",
    "    def failed_fraction(self, event: Any) -> float:\n",
    "        return self.event_fraction(event, self.FAIL)\n",
    "\n",
    "    def hue(self, event: Any) -> Optional[float]:\n",
    "        \"\"\"Return a color hue from 0.0 (red) to 1.0 (green).\"\"\"\n",
    "        passed = self.passed_fraction(event)\n",
    "        failed = self.failed_fraction(event)\n",
    "        if passed + failed > 0:\n",
    "            return passed / (passed + failed)\n",
    "        else:\n",
    "            return None"
   ]
  },
  {
   "cell_type": "markdown",
   "metadata": {
    "slideshow": {
     "slide_type": "subslide"
    }
   },
   "source": [
    "Having a continuous hue also implies a continuous suspiciousness and associated tooltips:"
   ]
  },
  {
   "cell_type": "code",
   "execution_count": 78,
   "metadata": {
    "execution": {
     "iopub.execute_input": "2024-01-17T21:32:46.954883Z",
     "iopub.status.busy": "2024-01-17T21:32:46.954798Z",
     "iopub.status.idle": "2024-01-17T21:32:46.956738Z",
     "shell.execute_reply": "2024-01-17T21:32:46.956500Z"
    },
    "slideshow": {
     "slide_type": "fragment"
    }
   },
   "outputs": [],
   "source": [
    "class ContinuousSpectrumDebugger(ContinuousSpectrumDebugger):\n",
    "    def suspiciousness(self, event: Any) -> Optional[float]:\n",
    "        hue = self.hue(event)\n",
    "        if hue is None:\n",
    "            return None\n",
    "        return 1 - hue\n",
    "\n",
    "    def tooltip(self, event: Any) -> str:\n",
    "        return self.percentage(event)"
   ]
  },
  {
   "cell_type": "markdown",
   "metadata": {
    "slideshow": {
     "slide_type": "fragment"
    }
   },
   "source": [
    "The hue for lines executed only in failing runs is (deep) red, as expected:"
   ]
  },
  {
   "cell_type": "code",
   "execution_count": 79,
   "metadata": {
    "execution": {
     "iopub.execute_input": "2024-01-17T21:32:46.958158Z",
     "iopub.status.busy": "2024-01-17T21:32:46.958077Z",
     "iopub.status.idle": "2024-01-17T21:32:46.959872Z",
     "shell.execute_reply": "2024-01-17T21:32:46.959645Z"
    },
    "slideshow": {
     "slide_type": "fragment"
    }
   },
   "outputs": [],
   "source": [
    "debugger = test_debugger_html(ContinuousSpectrumDebugger())"
   ]
  },
  {
   "cell_type": "code",
   "execution_count": 80,
   "metadata": {
    "execution": {
     "iopub.execute_input": "2024-01-17T21:32:46.961260Z",
     "iopub.status.busy": "2024-01-17T21:32:46.961185Z",
     "iopub.status.idle": "2024-01-17T21:32:46.962928Z",
     "shell.execute_reply": "2024-01-17T21:32:46.962682Z"
    },
    "slideshow": {
     "slide_type": "subslide"
    }
   },
   "outputs": [
    {
     "name": "stdout",
     "output_type": "stream",
     "text": [
      "('remove_html_markup', 12) 0.0\n"
     ]
    }
   ],
   "source": [
    "for location in debugger.only_fail_events():\n",
    "    print(location, debugger.hue(location))"
   ]
  },
  {
   "cell_type": "markdown",
   "metadata": {
    "slideshow": {
     "slide_type": "fragment"
    }
   },
   "source": [
    "Likewise, the hue for lines executed in passing runs is (deep) green:"
   ]
  },
  {
   "cell_type": "code",
   "execution_count": 81,
   "metadata": {
    "execution": {
     "iopub.execute_input": "2024-01-17T21:32:46.964391Z",
     "iopub.status.busy": "2024-01-17T21:32:46.964312Z",
     "iopub.status.idle": "2024-01-17T21:32:46.965944Z",
     "shell.execute_reply": "2024-01-17T21:32:46.965714Z"
    },
    "slideshow": {
     "slide_type": "fragment"
    }
   },
   "outputs": [
    {
     "name": "stdout",
     "output_type": "stream",
     "text": [
      "('remove_html_markup', 8) 1.0\n",
      "('remove_html_markup', 10) 1.0\n"
     ]
    }
   ],
   "source": [
    "for location in debugger.only_pass_events():\n",
    "    print(location, debugger.hue(location))"
   ]
  },
  {
   "cell_type": "markdown",
   "metadata": {
    "slideshow": {
     "slide_type": "fragment"
    }
   },
   "source": [
    "The Tarantula tool not only sets the hue for a line, but also uses _brightness_ as measure for support – that is, how often was the line executed at all. The brighter a line, the stronger the correlation with a passing or failing outcome."
   ]
  },
  {
   "cell_type": "markdown",
   "metadata": {
    "slideshow": {
     "slide_type": "fragment"
    }
   },
   "source": [
    "The brightness is defined as follows:"
   ]
  },
  {
   "cell_type": "markdown",
   "metadata": {
    "slideshow": {
     "slide_type": "subslide"
    }
   },
   "source": [
    "$$\\textit{brightness}(line) = \\max(\\%\\textit{passed}(\\textit{line}), \\%\\textit{failed}(\\textit{line}))$$"
   ]
  },
  {
   "cell_type": "markdown",
   "metadata": {
    "slideshow": {
     "slide_type": "fragment"
    }
   },
   "source": [
    "and it is easily implemented, too:"
   ]
  },
  {
   "cell_type": "code",
   "execution_count": 82,
   "metadata": {
    "execution": {
     "iopub.execute_input": "2024-01-17T21:32:46.967489Z",
     "iopub.status.busy": "2024-01-17T21:32:46.967383Z",
     "iopub.status.idle": "2024-01-17T21:32:46.969290Z",
     "shell.execute_reply": "2024-01-17T21:32:46.969072Z"
    },
    "slideshow": {
     "slide_type": "fragment"
    }
   },
   "outputs": [],
   "source": [
    "class ContinuousSpectrumDebugger(ContinuousSpectrumDebugger):\n",
    "    def brightness(self, event: Any) -> float:\n",
    "        return max(self.passed_fraction(event), self.failed_fraction(event))"
   ]
  },
  {
   "cell_type": "markdown",
   "metadata": {
    "slideshow": {
     "slide_type": "fragment"
    }
   },
   "source": [
    "Our single \"only in fail\" line has a brightness of 1.0 (the maximum)."
   ]
  },
  {
   "cell_type": "code",
   "execution_count": 83,
   "metadata": {
    "execution": {
     "iopub.execute_input": "2024-01-17T21:32:46.970855Z",
     "iopub.status.busy": "2024-01-17T21:32:46.970764Z",
     "iopub.status.idle": "2024-01-17T21:32:46.972995Z",
     "shell.execute_reply": "2024-01-17T21:32:46.972726Z"
    },
    "slideshow": {
     "slide_type": "fragment"
    }
   },
   "outputs": [
    {
     "name": "stdout",
     "output_type": "stream",
     "text": [
      "('remove_html_markup', 12) 1.0\n"
     ]
    }
   ],
   "source": [
    "debugger = test_debugger_html(ContinuousSpectrumDebugger())\n",
    "for location in debugger.only_fail_events():\n",
    "    print(location, debugger.brightness(location))"
   ]
  },
  {
   "cell_type": "markdown",
   "metadata": {
    "slideshow": {
     "slide_type": "subslide"
    }
   },
   "source": [
    "With this, we can now define a color for each line. To this end, we override the (previously discrete) `color()` method such that it returns a color specification giving hue and brightness. We use the HTML format `hsl(hue, saturation, lightness)` where the hue is given as a value between 0 and 360 (0 is red, 120 is green) and saturation and lightness are provided as percentages."
   ]
  },
  {
   "cell_type": "code",
   "execution_count": 84,
   "metadata": {
    "execution": {
     "iopub.execute_input": "2024-01-17T21:32:46.974448Z",
     "iopub.status.busy": "2024-01-17T21:32:46.974368Z",
     "iopub.status.idle": "2024-01-17T21:32:46.976466Z",
     "shell.execute_reply": "2024-01-17T21:32:46.976215Z"
    },
    "slideshow": {
     "slide_type": "subslide"
    }
   },
   "outputs": [],
   "source": [
    "class ContinuousSpectrumDebugger(ContinuousSpectrumDebugger):\n",
    "    def color(self, event: Any) -> Optional[str]:\n",
    "        hue = self.hue(event)\n",
    "        if hue is None:\n",
    "            return None\n",
    "        saturation = self.brightness(event)\n",
    "\n",
    "        # HSL color values are specified with: \n",
    "        # hsl(hue, saturation, lightness).\n",
    "        return f\"hsl({hue * 120}, {saturation * 100}%, 80%)\""
   ]
  },
  {
   "cell_type": "code",
   "execution_count": 85,
   "metadata": {
    "execution": {
     "iopub.execute_input": "2024-01-17T21:32:46.977934Z",
     "iopub.status.busy": "2024-01-17T21:32:46.977852Z",
     "iopub.status.idle": "2024-01-17T21:32:46.979534Z",
     "shell.execute_reply": "2024-01-17T21:32:46.979302Z"
    },
    "slideshow": {
     "slide_type": "fragment"
    }
   },
   "outputs": [],
   "source": [
    "debugger = test_debugger_html(ContinuousSpectrumDebugger())"
   ]
  },
  {
   "cell_type": "markdown",
   "metadata": {
    "slideshow": {
     "slide_type": "fragment"
    }
   },
   "source": [
    "Lines executed only in failing runs are still shown in red:"
   ]
  },
  {
   "cell_type": "code",
   "execution_count": 86,
   "metadata": {
    "execution": {
     "iopub.execute_input": "2024-01-17T21:32:46.980919Z",
     "iopub.status.busy": "2024-01-17T21:32:46.980841Z",
     "iopub.status.idle": "2024-01-17T21:32:46.982686Z",
     "shell.execute_reply": "2024-01-17T21:32:46.982430Z"
    },
    "slideshow": {
     "slide_type": "subslide"
    }
   },
   "outputs": [
    {
     "name": "stdout",
     "output_type": "stream",
     "text": [
      "('remove_html_markup', 12) hsl(0.0, 100.0%, 80%)\n"
     ]
    }
   ],
   "source": [
    "for location in debugger.only_fail_events():\n",
    "    print(location, debugger.color(location))"
   ]
  },
  {
   "cell_type": "markdown",
   "metadata": {
    "slideshow": {
     "slide_type": "fragment"
    }
   },
   "source": [
    "... whereas lines executed only in passing runs are still shown in green:"
   ]
  },
  {
   "cell_type": "code",
   "execution_count": 87,
   "metadata": {
    "execution": {
     "iopub.execute_input": "2024-01-17T21:32:46.984156Z",
     "iopub.status.busy": "2024-01-17T21:32:46.984080Z",
     "iopub.status.idle": "2024-01-17T21:32:46.985901Z",
     "shell.execute_reply": "2024-01-17T21:32:46.985661Z"
    },
    "slideshow": {
     "slide_type": "fragment"
    }
   },
   "outputs": [
    {
     "name": "stdout",
     "output_type": "stream",
     "text": [
      "('remove_html_markup', 8) hsl(120.0, 50.0%, 80%)\n",
      "('remove_html_markup', 10) hsl(120.0, 50.0%, 80%)\n"
     ]
    }
   ],
   "source": [
    "for location in debugger.only_pass_events():\n",
    "    print(location, debugger.color(location))"
   ]
  },
  {
   "cell_type": "code",
   "execution_count": 88,
   "metadata": {
    "execution": {
     "iopub.execute_input": "2024-01-17T21:32:46.987262Z",
     "iopub.status.busy": "2024-01-17T21:32:46.987181Z",
     "iopub.status.idle": "2024-01-17T21:32:46.990720Z",
     "shell.execute_reply": "2024-01-17T21:32:46.990485Z"
    },
    "slideshow": {
     "slide_type": "subslide"
    }
   },
   "outputs": [
    {
     "data": {
      "text/html": [
       "<pre style=\"background-color:hsl(60.0, 100.0%, 80%)\"\n",
       "                    title=\"Line 1:  50%\">   1 def remove_html_markup(s):  # type: ignore</pre>\n",
       "<pre style=\"background-color:hsl(60.0, 100.0%, 80%)\"\n",
       "                    title=\"Line 2:  50%\">   2     tag = False</pre>\n",
       "<pre style=\"background-color:hsl(60.0, 100.0%, 80%)\"\n",
       "                    title=\"Line 3:  50%\">   3     quote = False</pre>\n",
       "<pre style=\"background-color:hsl(60.0, 100.0%, 80%)\"\n",
       "                    title=\"Line 4:  50%\">   4     out = &quot;&quot;</pre>\n",
       "<pre title=\"Line 5: not executed\">   5 &nbsp;</pre>\n",
       "<pre style=\"background-color:hsl(60.0, 100.0%, 80%)\"\n",
       "                    title=\"Line 6:  50%\">   6     for c in s:</pre>\n",
       "<pre style=\"background-color:hsl(60.0, 100.0%, 80%)\"\n",
       "                    title=\"Line 7:  50%\">   7         if c == &#x27;&lt;&#x27; and not quote:</pre>\n",
       "<pre style=\"background-color:hsl(120.0, 50.0%, 80%)\"\n",
       "                    title=\"Line 8:   0%\">   8             tag = True</pre>\n",
       "<pre style=\"background-color:hsl(60.0, 100.0%, 80%)\"\n",
       "                    title=\"Line 9:  50%\">   9         elif c == &#x27;&gt;&#x27; and not quote:</pre>\n",
       "<pre style=\"background-color:hsl(120.0, 50.0%, 80%)\"\n",
       "                    title=\"Line 10:   0%\">  10             tag = False</pre>\n",
       "<pre style=\"background-color:hsl(60.0, 100.0%, 80%)\"\n",
       "                    title=\"Line 11:  50%\">  11         elif c == &#x27;&quot;&#x27; or c == &quot;&#x27;&quot; and tag:</pre>\n",
       "<pre style=\"background-color:hsl(0.0, 100.0%, 80%)\"\n",
       "                    title=\"Line 12: 100%\">  12             quote = not quote</pre>\n",
       "<pre style=\"background-color:hsl(60.0, 100.0%, 80%)\"\n",
       "                    title=\"Line 13:  50%\">  13         elif not tag:</pre>\n",
       "<pre style=\"background-color:hsl(60.0, 100.0%, 80%)\"\n",
       "                    title=\"Line 14:  50%\">  14             out = out + c</pre>\n",
       "<pre title=\"Line 15: not executed\">  15 &nbsp;</pre>\n",
       "<pre style=\"background-color:hsl(60.0, 100.0%, 80%)\"\n",
       "                    title=\"Line 16:  50%\">  16     return out</pre>\n"
      ],
      "text/markdown": [
       "| `remove_html_markup` | `s='abc'` | `s='<b>abc</b>'` | `s='\"abc\"'` | \n",
       "| --------------------- | ---- | ---- | ---- | \n",
       "| <samp style=\"background-color: hsl(60.0, 100.0%, 80%)\" title=\" 50%\"> remove_html_markup:1</samp> |    X |    X |    X | \n",
       "| <samp style=\"background-color: hsl(60.0, 100.0%, 80%)\" title=\" 50%\"> remove_html_markup:2</samp> |    X |    X |    X | \n",
       "| <samp style=\"background-color: hsl(60.0, 100.0%, 80%)\" title=\" 50%\"> remove_html_markup:3</samp> |    X |    X |    X | \n",
       "| <samp style=\"background-color: hsl(60.0, 100.0%, 80%)\" title=\" 50%\"> remove_html_markup:4</samp> |    X |    X |    X | \n",
       "| <samp style=\"background-color: hsl(60.0, 100.0%, 80%)\" title=\" 50%\"> remove_html_markup:6</samp> |    X |    X |    X | \n",
       "| <samp style=\"background-color: hsl(60.0, 100.0%, 80%)\" title=\" 50%\"> remove_html_markup:7</samp> |    X |    X |    X | \n",
       "| <samp style=\"background-color: hsl(120.0, 50.0%, 80%)\" title=\"  0%\"> remove_html_markup:8</samp> |    - |    X |    - | \n",
       "| <samp style=\"background-color: hsl(60.0, 100.0%, 80%)\" title=\" 50%\"> remove_html_markup:9</samp> |    X |    X |    X | \n",
       "| <samp style=\"background-color: hsl(120.0, 50.0%, 80%)\" title=\"  0%\">remove_html_markup:10</samp> |    - |    X |    - | \n",
       "| <samp style=\"background-color: hsl(60.0, 100.0%, 80%)\" title=\" 50%\">remove_html_markup:11</samp> |    X |    X |    X | \n",
       "| <samp style=\"background-color: hsl(0.0, 100.0%, 80%)\" title=\"100%\">remove_html_markup:12</samp> |    - |    - |    X | \n",
       "| <samp style=\"background-color: hsl(60.0, 100.0%, 80%)\" title=\" 50%\">remove_html_markup:13</samp> |    X |    X |    X | \n",
       "| <samp style=\"background-color: hsl(60.0, 100.0%, 80%)\" title=\" 50%\">remove_html_markup:14</samp> |    X |    X |    X | \n",
       "| <samp style=\"background-color: hsl(60.0, 100.0%, 80%)\" title=\" 50%\">remove_html_markup:16</samp> |    X |    X |    X | \n"
      ],
      "text/plain": [
       "   1  50% def remove_html_markup(s):  # type: ignore\n",
       "   2  50%     tag = False\n",
       "   3  50%     quote = False\n",
       "   4  50%     out = \"\"\n",
       "   5\n",
       "   6  50%     for c in s:\n",
       "   7  50%         if c == '<' and not quote:\n",
       "   8   0%             tag = True\n",
       "   9  50%         elif c == '>' and not quote:\n",
       "  10   0%             tag = False\n",
       "  11  50%         elif c == '\"' or c == \"'\" and tag:\n",
       "  12 100%             quote = not quote\n",
       "  13  50%         elif not tag:\n",
       "  14  50%             out = out + c\n",
       "  15\n",
       "  16  50%     return out"
      ]
     },
     "execution_count": 88,
     "metadata": {},
     "output_type": "execute_result"
    }
   ],
   "source": [
    "debugger"
   ]
  },
  {
   "cell_type": "markdown",
   "metadata": {
    "slideshow": {
     "slide_type": "subslide"
    }
   },
   "source": [
    "What happens with our `quote = not quote` \"culprit\" line if it is executed in passing runs, too?"
   ]
  },
  {
   "cell_type": "code",
   "execution_count": 89,
   "metadata": {
    "execution": {
     "iopub.execute_input": "2024-01-17T21:32:46.992153Z",
     "iopub.status.busy": "2024-01-17T21:32:46.992070Z",
     "iopub.status.idle": "2024-01-17T21:32:46.993835Z",
     "shell.execute_reply": "2024-01-17T21:32:46.993586Z"
    },
    "slideshow": {
     "slide_type": "fragment"
    }
   },
   "outputs": [],
   "source": [
    "with debugger.collect_pass():\n",
    "    out = remove_html_markup('<b link=\"blue\"></b>')"
   ]
  },
  {
   "cell_type": "code",
   "execution_count": 90,
   "metadata": {
    "execution": {
     "iopub.execute_input": "2024-01-17T21:32:46.995276Z",
     "iopub.status.busy": "2024-01-17T21:32:46.995196Z",
     "iopub.status.idle": "2024-01-17T21:32:46.998786Z",
     "shell.execute_reply": "2024-01-17T21:32:46.998554Z"
    },
    "slideshow": {
     "slide_type": "fragment"
    }
   },
   "outputs": [
    {
     "data": {
      "text/html": [
       "\n",
       "    \n",
       "    <script>\n",
       "    var bad_answers = new Map();\n",
       "\n",
       "    function answer(quiz_id) {\n",
       "        ans = 0;\n",
       "        for (i = 1;; i++) {\n",
       "            checkbox = document.getElementById(quiz_id + \"-\" + i.toString());\n",
       "            if (!checkbox)\n",
       "                break;\n",
       "            if (checkbox.checked)\n",
       "                ans |= (1 << i);\n",
       "        }\n",
       "        return ans;\n",
       "    }\n",
       "    function check_selection(quiz_id, correct_answer, multiple_choice, hint) {\n",
       "        given_answer = answer(quiz_id);\n",
       "        if (given_answer == correct_answer)\n",
       "        {\n",
       "            document.getElementById(quiz_id + \"-submit\").value = \"Correct!\";\n",
       "            document.getElementById(quiz_id + \"-hint\").innerHTML = \"\";\n",
       "\n",
       "            for (i = 1;; i++) {\n",
       "                checkbox = document.getElementById(quiz_id + \"-\" + i.toString());\n",
       "                label = document.getElementById(quiz_id + \"-\" + i.toString() + \"-label\")\n",
       "                if (!checkbox)\n",
       "                    break;\n",
       "    \n",
       "                if (checkbox.checked) {\n",
       "                    label.style.fontWeight = \"bold\";\n",
       "                }\n",
       "                else {\n",
       "                    label.style.textDecoration = \"line-through\";\n",
       "                }\n",
       "            }\n",
       "        }\n",
       "        else \n",
       "        {\n",
       "            document.getElementById(quiz_id + \"-submit\").value = \"Try again\";\n",
       "            \n",
       "            if (!bad_answers.has(quiz_id)) {\n",
       "                bad_answers.set(quiz_id, 1);\n",
       "            }\n",
       "            else {\n",
       "                bad_answers.set(quiz_id, bad_answers.get(quiz_id) + 1);\n",
       "            }\n",
       "\n",
       "            if (bad_answers.get(quiz_id) >= 2 && hint.length > 0) {\n",
       "                document.getElementById(quiz_id + \"-hint\").innerHTML = \n",
       "                    \"&nbsp;&nbsp;(Hint: <code>\" + hint + \"</code>)\";\n",
       "            }\n",
       "\n",
       "            if (!multiple_choice) {\n",
       "                for (i = 1;; i++) {\n",
       "                    checkbox = document.getElementById(quiz_id + \"-\" + i.toString());\n",
       "                    label = document.getElementById(quiz_id + \"-\" + i.toString() + \"-label\")\n",
       "\n",
       "                    if (!checkbox)\n",
       "                        break;\n",
       "                    if (checkbox.checked) {\n",
       "                        label.style.textDecoration = \"line-through\";\n",
       "                    }\n",
       "                }\n",
       "            }\n",
       "        }\n",
       "    }\n",
       "    function clear_selection(quiz_id) {\n",
       "        document.getElementById(quiz_id + \"-submit\").value = \"Submit\";\n",
       "        document.getElementById(quiz_id + \"-hint\").innerHTML = \"\";\n",
       "    }\n",
       "    </script>\n",
       "    \n",
       "    <div class=\"quiz\">\n",
       "    <h3 class=\"quiz_title\">Quiz</h3>\n",
       "    <p>\n",
       "    <div class=\"quiz_question\">In which color will the <code>quote = not quote</code> \"culprit\" line be shown after executing the above code?</div>\n",
       "    </p>\n",
       "    <p>\n",
       "    <div class=\"quiz_options\" title=\"Pick a choice.\">\n",
       "    \n",
       "        <input type=\"radio\" name=\"f4f0c020-b57f-11ee-a795-6298cf1a5790\" id=\"f4f0c020-b57f-11ee-a795-6298cf1a5790-1\" onclick=\"clear_selection('f4f0c020-b57f-11ee-a795-6298cf1a5790')\">\n",
       "        <label id=\"f4f0c020-b57f-11ee-a795-6298cf1a5790-1-label\" for=\"f4f0c020-b57f-11ee-a795-6298cf1a5790-1\"><span style=\"background-color: hsl(120.0, 50.0%, 80%)\">Green</span></label><br>\n",
       "    \n",
       "        <input type=\"radio\" name=\"f4f0c020-b57f-11ee-a795-6298cf1a5790\" id=\"f4f0c020-b57f-11ee-a795-6298cf1a5790-2\" onclick=\"clear_selection('f4f0c020-b57f-11ee-a795-6298cf1a5790')\">\n",
       "        <label id=\"f4f0c020-b57f-11ee-a795-6298cf1a5790-2-label\" for=\"f4f0c020-b57f-11ee-a795-6298cf1a5790-2\"><span style=\"background-color: hsl(60.0, 100.0%, 80%)\">Yellow</span></label><br>\n",
       "    \n",
       "        <input type=\"radio\" name=\"f4f0c020-b57f-11ee-a795-6298cf1a5790\" id=\"f4f0c020-b57f-11ee-a795-6298cf1a5790-3\" onclick=\"clear_selection('f4f0c020-b57f-11ee-a795-6298cf1a5790')\">\n",
       "        <label id=\"f4f0c020-b57f-11ee-a795-6298cf1a5790-3-label\" for=\"f4f0c020-b57f-11ee-a795-6298cf1a5790-3\"><span style=\"background-color: hsl(30.0, 100.0%, 80%)\">Orange</span></label><br>\n",
       "    \n",
       "        <input type=\"radio\" name=\"f4f0c020-b57f-11ee-a795-6298cf1a5790\" id=\"f4f0c020-b57f-11ee-a795-6298cf1a5790-4\" onclick=\"clear_selection('f4f0c020-b57f-11ee-a795-6298cf1a5790')\">\n",
       "        <label id=\"f4f0c020-b57f-11ee-a795-6298cf1a5790-4-label\" for=\"f4f0c020-b57f-11ee-a795-6298cf1a5790-4\"><span style=\"background-color: hsl(0.0, 100.0%, 80%)\">Red</span></label><br>\n",
       "    \n",
       "    </div>\n",
       "    </p>\n",
       "    <input id=\"f4f0c020-b57f-11ee-a795-6298cf1a5790-submit\" type=\"submit\" value=\"Submit\" onclick=\"check_selection('f4f0c020-b57f-11ee-a795-6298cf1a5790', 8, 0, '999 // 333')\">\n",
       "    <span class=\"quiz_hint\" id=\"f4f0c020-b57f-11ee-a795-6298cf1a5790-hint\"></span>\n",
       "    </div>\n",
       "    "
      ],
      "text/plain": [
       "<IPython.core.display.HTML object>"
      ]
     },
     "execution_count": 90,
     "metadata": {},
     "output_type": "execute_result"
    }
   ],
   "source": [
    "quiz('In which color will the `quote = not quote` \"culprit\" line '\n",
    "     'be shown after executing the above code?',\n",
    "    [\n",
    "        '<span style=\"background-color: hsl(120.0, 50.0%, 80%)\">Green</span>',\n",
    "        '<span style=\"background-color: hsl(60.0, 100.0%, 80%)\">Yellow</span>',\n",
    "        '<span style=\"background-color: hsl(30.0, 100.0%, 80%)\">Orange</span>',\n",
    "        '<span style=\"background-color: hsl(0.0, 100.0%, 80%)\">Red</span>'\n",
    "    ], '999 // 333')"
   ]
  },
  {
   "cell_type": "markdown",
   "metadata": {
    "slideshow": {
     "slide_type": "fragment"
    }
   },
   "source": [
    "We see that it still is shown with an orange-red tint."
   ]
  },
  {
   "cell_type": "code",
   "execution_count": 91,
   "metadata": {
    "execution": {
     "iopub.execute_input": "2024-01-17T21:32:47.000203Z",
     "iopub.status.busy": "2024-01-17T21:32:47.000123Z",
     "iopub.status.idle": "2024-01-17T21:32:47.003937Z",
     "shell.execute_reply": "2024-01-17T21:32:47.003654Z"
    },
    "slideshow": {
     "slide_type": "subslide"
    }
   },
   "outputs": [
    {
     "data": {
      "text/html": [
       "<pre style=\"background-color:hsl(60.0, 100.0%, 80%)\"\n",
       "                    title=\"Line 1:  50%\">   1 def remove_html_markup(s):  # type: ignore</pre>\n",
       "<pre style=\"background-color:hsl(60.0, 100.0%, 80%)\"\n",
       "                    title=\"Line 2:  50%\">   2     tag = False</pre>\n",
       "<pre style=\"background-color:hsl(60.0, 100.0%, 80%)\"\n",
       "                    title=\"Line 3:  50%\">   3     quote = False</pre>\n",
       "<pre style=\"background-color:hsl(60.0, 100.0%, 80%)\"\n",
       "                    title=\"Line 4:  50%\">   4     out = &quot;&quot;</pre>\n",
       "<pre title=\"Line 5: not executed\">   5 &nbsp;</pre>\n",
       "<pre style=\"background-color:hsl(60.0, 100.0%, 80%)\"\n",
       "                    title=\"Line 6:  50%\">   6     for c in s:</pre>\n",
       "<pre style=\"background-color:hsl(60.0, 100.0%, 80%)\"\n",
       "                    title=\"Line 7:  50%\">   7         if c == &#x27;&lt;&#x27; and not quote:</pre>\n",
       "<pre style=\"background-color:hsl(120.0, 66.66666666666666%, 80%)\"\n",
       "                    title=\"Line 8:   0%\">   8             tag = True</pre>\n",
       "<pre style=\"background-color:hsl(60.0, 100.0%, 80%)\"\n",
       "                    title=\"Line 9:  50%\">   9         elif c == &#x27;&gt;&#x27; and not quote:</pre>\n",
       "<pre style=\"background-color:hsl(120.0, 66.66666666666666%, 80%)\"\n",
       "                    title=\"Line 10:   0%\">  10             tag = False</pre>\n",
       "<pre style=\"background-color:hsl(60.0, 100.0%, 80%)\"\n",
       "                    title=\"Line 11:  50%\">  11         elif c == &#x27;&quot;&#x27; or c == &quot;&#x27;&quot; and tag:</pre>\n",
       "<pre style=\"background-color:hsl(30.0, 100.0%, 80%)\"\n",
       "                    title=\"Line 12:  75%\">  12             quote = not quote</pre>\n",
       "<pre style=\"background-color:hsl(60.0, 100.0%, 80%)\"\n",
       "                    title=\"Line 13:  50%\">  13         elif not tag:</pre>\n",
       "<pre style=\"background-color:hsl(48.0, 100.0%, 80%)\"\n",
       "                    title=\"Line 14:  60%\">  14             out = out + c</pre>\n",
       "<pre title=\"Line 15: not executed\">  15 &nbsp;</pre>\n",
       "<pre style=\"background-color:hsl(60.0, 100.0%, 80%)\"\n",
       "                    title=\"Line 16:  50%\">  16     return out</pre>\n"
      ],
      "text/markdown": [
       "| `remove_html_markup` | `s='abc'` | `s='<b>abc</b>'` | `s='<b link=\"blue\"></b>'` | `s='\"abc\"'` | \n",
       "| --------------------- | ---- | ---- | ---- | ---- | \n",
       "| <samp style=\"background-color: hsl(60.0, 100.0%, 80%)\" title=\" 50%\"> remove_html_markup:1</samp> |    X |    X |    X |    X | \n",
       "| <samp style=\"background-color: hsl(60.0, 100.0%, 80%)\" title=\" 50%\"> remove_html_markup:2</samp> |    X |    X |    X |    X | \n",
       "| <samp style=\"background-color: hsl(60.0, 100.0%, 80%)\" title=\" 50%\"> remove_html_markup:3</samp> |    X |    X |    X |    X | \n",
       "| <samp style=\"background-color: hsl(60.0, 100.0%, 80%)\" title=\" 50%\"> remove_html_markup:4</samp> |    X |    X |    X |    X | \n",
       "| <samp style=\"background-color: hsl(60.0, 100.0%, 80%)\" title=\" 50%\"> remove_html_markup:6</samp> |    X |    X |    X |    X | \n",
       "| <samp style=\"background-color: hsl(60.0, 100.0%, 80%)\" title=\" 50%\"> remove_html_markup:7</samp> |    X |    X |    X |    X | \n",
       "| <samp style=\"background-color: hsl(120.0, 66.66666666666666%, 80%)\" title=\"  0%\"> remove_html_markup:8</samp> |    - |    X |    X |    - | \n",
       "| <samp style=\"background-color: hsl(60.0, 100.0%, 80%)\" title=\" 50%\"> remove_html_markup:9</samp> |    X |    X |    X |    X | \n",
       "| <samp style=\"background-color: hsl(120.0, 66.66666666666666%, 80%)\" title=\"  0%\">remove_html_markup:10</samp> |    - |    X |    X |    - | \n",
       "| <samp style=\"background-color: hsl(60.0, 100.0%, 80%)\" title=\" 50%\">remove_html_markup:11</samp> |    X |    X |    X |    X | \n",
       "| <samp style=\"background-color: hsl(30.0, 100.0%, 80%)\" title=\" 75%\">remove_html_markup:12</samp> |    - |    - |    X |    X | \n",
       "| <samp style=\"background-color: hsl(60.0, 100.0%, 80%)\" title=\" 50%\">remove_html_markup:13</samp> |    X |    X |    X |    X | \n",
       "| <samp style=\"background-color: hsl(48.0, 100.0%, 80%)\" title=\" 60%\">remove_html_markup:14</samp> |    X |    X |    - |    X | \n",
       "| <samp style=\"background-color: hsl(60.0, 100.0%, 80%)\" title=\" 50%\">remove_html_markup:16</samp> |    X |    X |    X |    X | \n"
      ],
      "text/plain": [
       "   1  50% def remove_html_markup(s):  # type: ignore\n",
       "   2  50%     tag = False\n",
       "   3  50%     quote = False\n",
       "   4  50%     out = \"\"\n",
       "   5\n",
       "   6  50%     for c in s:\n",
       "   7  50%         if c == '<' and not quote:\n",
       "   8   0%             tag = True\n",
       "   9  50%         elif c == '>' and not quote:\n",
       "  10   0%             tag = False\n",
       "  11  50%         elif c == '\"' or c == \"'\" and tag:\n",
       "  12  75%             quote = not quote\n",
       "  13  50%         elif not tag:\n",
       "  14  60%             out = out + c\n",
       "  15\n",
       "  16  50%     return out"
      ]
     },
     "execution_count": 91,
     "metadata": {},
     "output_type": "execute_result"
    }
   ],
   "source": [
    "debugger"
   ]
  },
  {
   "cell_type": "markdown",
   "metadata": {
    "slideshow": {
     "slide_type": "subslide"
    }
   },
   "source": [
    "Here's another example, coming right from the Tarantula paper. The `middle()` function takes three numbers `x`, `y`, and `z`, and returns the one that is neither the minimum nor the maximum of the three:"
   ]
  },
  {
   "cell_type": "code",
   "execution_count": 92,
   "metadata": {
    "execution": {
     "iopub.execute_input": "2024-01-17T21:32:47.005382Z",
     "iopub.status.busy": "2024-01-17T21:32:47.005300Z",
     "iopub.status.idle": "2024-01-17T21:32:47.007256Z",
     "shell.execute_reply": "2024-01-17T21:32:47.007017Z"
    },
    "slideshow": {
     "slide_type": "fragment"
    }
   },
   "outputs": [],
   "source": [
    "def middle(x, y, z):  # type: ignore\n",
    "    if y < z:\n",
    "        if x < y:\n",
    "            return y\n",
    "        elif x < z:\n",
    "            return y\n",
    "    else:\n",
    "        if x > y:\n",
    "            return y\n",
    "        elif x > z:\n",
    "            return x\n",
    "    return z"
   ]
  },
  {
   "cell_type": "code",
   "execution_count": 93,
   "metadata": {
    "execution": {
     "iopub.execute_input": "2024-01-17T21:32:47.008619Z",
     "iopub.status.busy": "2024-01-17T21:32:47.008528Z",
     "iopub.status.idle": "2024-01-17T21:32:47.010553Z",
     "shell.execute_reply": "2024-01-17T21:32:47.010295Z"
    },
    "slideshow": {
     "slide_type": "subslide"
    }
   },
   "outputs": [
    {
     "data": {
      "text/plain": [
       "2"
      ]
     },
     "execution_count": 93,
     "metadata": {},
     "output_type": "execute_result"
    }
   ],
   "source": [
    "middle(1, 2, 3)"
   ]
  },
  {
   "cell_type": "markdown",
   "metadata": {
    "slideshow": {
     "slide_type": "fragment"
    }
   },
   "source": [
    "Unfortunately, `middle()` can fail:"
   ]
  },
  {
   "cell_type": "code",
   "execution_count": 94,
   "metadata": {
    "execution": {
     "iopub.execute_input": "2024-01-17T21:32:47.012017Z",
     "iopub.status.busy": "2024-01-17T21:32:47.011919Z",
     "iopub.status.idle": "2024-01-17T21:32:47.013953Z",
     "shell.execute_reply": "2024-01-17T21:32:47.013699Z"
    },
    "slideshow": {
     "slide_type": "fragment"
    }
   },
   "outputs": [
    {
     "data": {
      "text/plain": [
       "1"
      ]
     },
     "execution_count": 94,
     "metadata": {},
     "output_type": "execute_result"
    }
   ],
   "source": [
    "middle(2, 1, 3)"
   ]
  },
  {
   "cell_type": "markdown",
   "metadata": {
    "slideshow": {
     "slide_type": "fragment"
    }
   },
   "source": [
    "Let is see whether we can find the bug with a few additional test cases:"
   ]
  },
  {
   "cell_type": "code",
   "execution_count": 95,
   "metadata": {
    "execution": {
     "iopub.execute_input": "2024-01-17T21:32:47.015404Z",
     "iopub.status.busy": "2024-01-17T21:32:47.015306Z",
     "iopub.status.idle": "2024-01-17T21:32:47.016750Z",
     "shell.execute_reply": "2024-01-17T21:32:47.016521Z"
    },
    "slideshow": {
     "slide_type": "fragment"
    }
   },
   "outputs": [],
   "source": [
    "# ignore\n",
    "T3 = TypeVar('T3', bound='DifferenceDebugger')"
   ]
  },
  {
   "cell_type": "code",
   "execution_count": 96,
   "metadata": {
    "execution": {
     "iopub.execute_input": "2024-01-17T21:32:47.018169Z",
     "iopub.status.busy": "2024-01-17T21:32:47.018080Z",
     "iopub.status.idle": "2024-01-17T21:32:47.020613Z",
     "shell.execute_reply": "2024-01-17T21:32:47.020339Z"
    },
    "slideshow": {
     "slide_type": "subslide"
    }
   },
   "outputs": [],
   "source": [
    "def test_debugger_middle(debugger: T3) -> T3:\n",
    "    with debugger.collect_pass():\n",
    "        middle(3, 3, 5)\n",
    "    with debugger.collect_pass():\n",
    "        middle(1, 2, 3)\n",
    "    with debugger.collect_pass():\n",
    "        middle(3, 2, 1)\n",
    "    with debugger.collect_pass():\n",
    "        middle(5, 5, 5)\n",
    "    with debugger.collect_pass():\n",
    "        middle(5, 3, 4)\n",
    "    with debugger.collect_fail():\n",
    "        middle(2, 1, 3)\n",
    "    return debugger"
   ]
  },
  {
   "cell_type": "markdown",
   "metadata": {
    "slideshow": {
     "slide_type": "subslide"
    }
   },
   "source": [
    "Note that in order to collect data from multiple function invocations, you need to have a separate `with` clause for every invocation. The following will _not_ work correctly:\n",
    "\n",
    "```python\n",
    "    with debugger.collect_pass():\n",
    "        middle(3, 3, 5)\n",
    "        middle(1, 2, 3)\n",
    "        ...\n",
    "```"
   ]
  },
  {
   "cell_type": "code",
   "execution_count": 97,
   "metadata": {
    "execution": {
     "iopub.execute_input": "2024-01-17T21:32:47.022254Z",
     "iopub.status.busy": "2024-01-17T21:32:47.022159Z",
     "iopub.status.idle": "2024-01-17T21:32:47.024041Z",
     "shell.execute_reply": "2024-01-17T21:32:47.023746Z"
    },
    "slideshow": {
     "slide_type": "fragment"
    }
   },
   "outputs": [],
   "source": [
    "debugger = test_debugger_middle(ContinuousSpectrumDebugger())"
   ]
  },
  {
   "cell_type": "code",
   "execution_count": 98,
   "metadata": {
    "execution": {
     "iopub.execute_input": "2024-01-17T21:32:47.025610Z",
     "iopub.status.busy": "2024-01-17T21:32:47.025493Z",
     "iopub.status.idle": "2024-01-17T21:32:47.027809Z",
     "shell.execute_reply": "2024-01-17T21:32:47.027563Z"
    },
    "slideshow": {
     "slide_type": "fragment"
    }
   },
   "outputs": [
    {
     "data": {
      "text/markdown": [
       "| `middle` | `x=3, y=3, z=5` | `x=1, y=2, z=3` | `x=3, y=2, z=1` | `x=5, y=5, z=5` | `x=5, y=3, z=4` | `x=2, y=1, z=3` | \n",
       "| --------- | ---- | ---- | ---- | ---- | ---- | ---- | \n",
       "|  middle:1 |    X |    X |    X |    X |    X |    X | \n",
       "|  middle:2 |    X |    X |    X |    X |    X |    X | \n",
       "|  middle:3 |    X |    X |    - |    - |    X |    X | \n",
       "|  middle:4 |    - |    X |    - |    - |    - |    - | \n",
       "|  middle:5 |    X |    - |    - |    - |    X |    X | \n",
       "|  middle:6 |    X |    - |    - |    - |    - |    X | \n",
       "|  middle:8 |    - |    - |    X |    X |    - |    - | \n",
       "|  middle:9 |    - |    - |    X |    - |    - |    - | \n",
       "| middle:10 |    - |    - |    - |    X |    - |    - | \n",
       "| middle:12 |    - |    - |    - |    X |    X |    - | \n"
      ],
      "text/plain": [
       "<IPython.core.display.Markdown object>"
      ]
     },
     "execution_count": 98,
     "metadata": {},
     "output_type": "execute_result"
    }
   ],
   "source": [
    "debugger.event_table(args=True)"
   ]
  },
  {
   "cell_type": "markdown",
   "metadata": {
    "slideshow": {
     "slide_type": "subslide"
    }
   },
   "source": [
    "Here comes the visualization. We see that the `return y` line is the culprit here – and actually also the one to be fixed."
   ]
  },
  {
   "cell_type": "code",
   "execution_count": 99,
   "metadata": {
    "execution": {
     "iopub.execute_input": "2024-01-17T21:32:47.029281Z",
     "iopub.status.busy": "2024-01-17T21:32:47.029178Z",
     "iopub.status.idle": "2024-01-17T21:32:47.032426Z",
     "shell.execute_reply": "2024-01-17T21:32:47.032155Z"
    },
    "slideshow": {
     "slide_type": "fragment"
    }
   },
   "outputs": [
    {
     "data": {
      "text/html": [
       "<pre style=\"background-color:hsl(60.0, 100.0%, 80%)\"\n",
       "                    title=\"Line 1:  50%\">   1 def middle(x, y, z):  # type: ignore</pre>\n",
       "<pre style=\"background-color:hsl(60.0, 100.0%, 80%)\"\n",
       "                    title=\"Line 2:  50%\">   2     if y &lt; z:</pre>\n",
       "<pre style=\"background-color:hsl(44.99999999999999, 100.0%, 80%)\"\n",
       "                    title=\"Line 3:  62%\">   3         if x &lt; y:</pre>\n",
       "<pre style=\"background-color:hsl(120.0, 20.0%, 80%)\"\n",
       "                    title=\"Line 4:   0%\">   4             return y</pre>\n",
       "<pre style=\"background-color:hsl(34.28571428571429, 100.0%, 80%)\"\n",
       "                    title=\"Line 5:  71%\">   5         elif x &lt; z:</pre>\n",
       "<pre style=\"background-color:hsl(20.000000000000004, 100.0%, 80%)\"\n",
       "                    title=\"Line 6:  83%\">   6             return y</pre>\n",
       "<pre title=\"Line 7: not executed\">   7     else:\n",
       "</pre>\n",
       "<pre style=\"background-color:hsl(120.0, 40.0%, 80%)\"\n",
       "                    title=\"Line 8:   0%\">   8         if x &gt; y:</pre>\n",
       "<pre style=\"background-color:hsl(120.0, 20.0%, 80%)\"\n",
       "                    title=\"Line 9:   0%\">   9             return y</pre>\n",
       "<pre style=\"background-color:hsl(120.0, 20.0%, 80%)\"\n",
       "                    title=\"Line 10:   0%\">  10         elif x &gt; z:</pre>\n",
       "<pre title=\"Line 11: not executed\">  11             return x\n",
       "</pre>\n",
       "<pre style=\"background-color:hsl(120.0, 40.0%, 80%)\"\n",
       "                    title=\"Line 12:   0%\">  12     return z</pre>\n"
      ],
      "text/markdown": [
       "| `middle` | `x=3, y=3, z=5` | `x=1, y=2, z=3` | `x=3, y=2, z=1` | `x=5, y=5, z=5` | `x=5, y=3, z=4` | `x=2, y=1, z=3` | \n",
       "| --------- | ---- | ---- | ---- | ---- | ---- | ---- | \n",
       "| <samp style=\"background-color: hsl(60.0, 100.0%, 80%)\" title=\" 50%\"> middle:1</samp> |    X |    X |    X |    X |    X |    X | \n",
       "| <samp style=\"background-color: hsl(60.0, 100.0%, 80%)\" title=\" 50%\"> middle:2</samp> |    X |    X |    X |    X |    X |    X | \n",
       "| <samp style=\"background-color: hsl(44.99999999999999, 100.0%, 80%)\" title=\" 62%\"> middle:3</samp> |    X |    X |    - |    - |    X |    X | \n",
       "| <samp style=\"background-color: hsl(120.0, 20.0%, 80%)\" title=\"  0%\"> middle:4</samp> |    - |    X |    - |    - |    - |    - | \n",
       "| <samp style=\"background-color: hsl(34.28571428571429, 100.0%, 80%)\" title=\" 71%\"> middle:5</samp> |    X |    - |    - |    - |    X |    X | \n",
       "| <samp style=\"background-color: hsl(20.000000000000004, 100.0%, 80%)\" title=\" 83%\"> middle:6</samp> |    X |    - |    - |    - |    - |    X | \n",
       "| <samp style=\"background-color: hsl(120.0, 40.0%, 80%)\" title=\"  0%\"> middle:8</samp> |    - |    - |    X |    X |    - |    - | \n",
       "| <samp style=\"background-color: hsl(120.0, 20.0%, 80%)\" title=\"  0%\"> middle:9</samp> |    - |    - |    X |    - |    - |    - | \n",
       "| <samp style=\"background-color: hsl(120.0, 20.0%, 80%)\" title=\"  0%\">middle:10</samp> |    - |    - |    - |    X |    - |    - | \n",
       "| <samp style=\"background-color: hsl(120.0, 40.0%, 80%)\" title=\"  0%\">middle:12</samp> |    - |    - |    - |    X |    X |    - | \n"
      ],
      "text/plain": [
       "   1  50% def middle(x, y, z):  # type: ignore\n",
       "   2  50%     if y < z:\n",
       "   3  62%         if x < y:\n",
       "   4   0%             return y\n",
       "   5  71%         elif x < z:\n",
       "   6  83%             return y\n",
       "   7          else:\n",
       "   8   0%         if x > y:\n",
       "   9   0%             return y\n",
       "  10   0%         elif x > z:\n",
       "  11                  return x\n",
       "  12   0%     return z"
      ]
     },
     "execution_count": 99,
     "metadata": {},
     "output_type": "execute_result"
    }
   ],
   "source": [
    "debugger"
   ]
  },
  {
   "cell_type": "code",
   "execution_count": 100,
   "metadata": {
    "execution": {
     "iopub.execute_input": "2024-01-17T21:32:47.033863Z",
     "iopub.status.busy": "2024-01-17T21:32:47.033779Z",
     "iopub.status.idle": "2024-01-17T21:32:47.037370Z",
     "shell.execute_reply": "2024-01-17T21:32:47.037125Z"
    },
    "slideshow": {
     "slide_type": "subslide"
    }
   },
   "outputs": [
    {
     "data": {
      "text/html": [
       "\n",
       "    \n",
       "    <script>\n",
       "    var bad_answers = new Map();\n",
       "\n",
       "    function answer(quiz_id) {\n",
       "        ans = 0;\n",
       "        for (i = 1;; i++) {\n",
       "            checkbox = document.getElementById(quiz_id + \"-\" + i.toString());\n",
       "            if (!checkbox)\n",
       "                break;\n",
       "            if (checkbox.checked)\n",
       "                ans |= (1 << i);\n",
       "        }\n",
       "        return ans;\n",
       "    }\n",
       "    function check_selection(quiz_id, correct_answer, multiple_choice, hint) {\n",
       "        given_answer = answer(quiz_id);\n",
       "        if (given_answer == correct_answer)\n",
       "        {\n",
       "            document.getElementById(quiz_id + \"-submit\").value = \"Correct!\";\n",
       "            document.getElementById(quiz_id + \"-hint\").innerHTML = \"\";\n",
       "\n",
       "            for (i = 1;; i++) {\n",
       "                checkbox = document.getElementById(quiz_id + \"-\" + i.toString());\n",
       "                label = document.getElementById(quiz_id + \"-\" + i.toString() + \"-label\")\n",
       "                if (!checkbox)\n",
       "                    break;\n",
       "    \n",
       "                if (checkbox.checked) {\n",
       "                    label.style.fontWeight = \"bold\";\n",
       "                }\n",
       "                else {\n",
       "                    label.style.textDecoration = \"line-through\";\n",
       "                }\n",
       "            }\n",
       "        }\n",
       "        else \n",
       "        {\n",
       "            document.getElementById(quiz_id + \"-submit\").value = \"Try again\";\n",
       "            \n",
       "            if (!bad_answers.has(quiz_id)) {\n",
       "                bad_answers.set(quiz_id, 1);\n",
       "            }\n",
       "            else {\n",
       "                bad_answers.set(quiz_id, bad_answers.get(quiz_id) + 1);\n",
       "            }\n",
       "\n",
       "            if (bad_answers.get(quiz_id) >= 2 && hint.length > 0) {\n",
       "                document.getElementById(quiz_id + \"-hint\").innerHTML = \n",
       "                    \"&nbsp;&nbsp;(Hint: <code>\" + hint + \"</code>)\";\n",
       "            }\n",
       "\n",
       "            if (!multiple_choice) {\n",
       "                for (i = 1;; i++) {\n",
       "                    checkbox = document.getElementById(quiz_id + \"-\" + i.toString());\n",
       "                    label = document.getElementById(quiz_id + \"-\" + i.toString() + \"-label\")\n",
       "\n",
       "                    if (!checkbox)\n",
       "                        break;\n",
       "                    if (checkbox.checked) {\n",
       "                        label.style.textDecoration = \"line-through\";\n",
       "                    }\n",
       "                }\n",
       "            }\n",
       "        }\n",
       "    }\n",
       "    function clear_selection(quiz_id) {\n",
       "        document.getElementById(quiz_id + \"-submit\").value = \"Submit\";\n",
       "        document.getElementById(quiz_id + \"-hint\").innerHTML = \"\";\n",
       "    }\n",
       "    </script>\n",
       "    \n",
       "    <div class=\"quiz\">\n",
       "    <h3 class=\"quiz_title\">Quiz</h3>\n",
       "    <p>\n",
       "    <div class=\"quiz_question\">Which of the above lines should be fixed?</div>\n",
       "    </p>\n",
       "    <p>\n",
       "    <div class=\"quiz_options\" title=\"Pick a choice.\">\n",
       "    \n",
       "        <input type=\"radio\" name=\"f4f6a4ea-b57f-11ee-a795-6298cf1a5790\" id=\"f4f6a4ea-b57f-11ee-a795-6298cf1a5790-1\" onclick=\"clear_selection('f4f6a4ea-b57f-11ee-a795-6298cf1a5790')\">\n",
       "        <label id=\"f4f6a4ea-b57f-11ee-a795-6298cf1a5790-1-label\" for=\"f4f6a4ea-b57f-11ee-a795-6298cf1a5790-1\"><span style=\"background-color: hsl(45.0, 100%, 80%)\">Line 3: <code>if x &lt; y</code></span></label><br>\n",
       "    \n",
       "        <input type=\"radio\" name=\"f4f6a4ea-b57f-11ee-a795-6298cf1a5790\" id=\"f4f6a4ea-b57f-11ee-a795-6298cf1a5790-2\" onclick=\"clear_selection('f4f6a4ea-b57f-11ee-a795-6298cf1a5790')\">\n",
       "        <label id=\"f4f6a4ea-b57f-11ee-a795-6298cf1a5790-2-label\" for=\"f4f6a4ea-b57f-11ee-a795-6298cf1a5790-2\"><span style=\"background-color: hsl(34.28571428571429, 100.0%, 80%)\">Line 5: <code>elif x &lt; z</code></span></label><br>\n",
       "    \n",
       "        <input type=\"radio\" name=\"f4f6a4ea-b57f-11ee-a795-6298cf1a5790\" id=\"f4f6a4ea-b57f-11ee-a795-6298cf1a5790-3\" onclick=\"clear_selection('f4f6a4ea-b57f-11ee-a795-6298cf1a5790')\">\n",
       "        <label id=\"f4f6a4ea-b57f-11ee-a795-6298cf1a5790-3-label\" for=\"f4f6a4ea-b57f-11ee-a795-6298cf1a5790-3\"><span style=\"background-color: hsl(20.000000000000004, 100.0%, 80%)\">Line 6: <code>return y</code></span></label><br>\n",
       "    \n",
       "        <input type=\"radio\" name=\"f4f6a4ea-b57f-11ee-a795-6298cf1a5790\" id=\"f4f6a4ea-b57f-11ee-a795-6298cf1a5790-4\" onclick=\"clear_selection('f4f6a4ea-b57f-11ee-a795-6298cf1a5790')\">\n",
       "        <label id=\"f4f6a4ea-b57f-11ee-a795-6298cf1a5790-4-label\" for=\"f4f6a4ea-b57f-11ee-a795-6298cf1a5790-4\"><span style=\"background-color: hsl(120.0, 20.0%, 80%)\">Line 9: <code>return y</code></span></label><br>\n",
       "    \n",
       "    </div>\n",
       "    </p>\n",
       "    <input id=\"f4f6a4ea-b57f-11ee-a795-6298cf1a5790-submit\" type=\"submit\" value=\"Submit\" onclick=\"check_selection('f4f6a4ea-b57f-11ee-a795-6298cf1a5790', 8, 0, 'len(&quot; middle  &quot;.strip()[:3])')\">\n",
       "    <span class=\"quiz_hint\" id=\"f4f6a4ea-b57f-11ee-a795-6298cf1a5790-hint\"></span>\n",
       "    </div>\n",
       "    "
      ],
      "text/plain": [
       "<IPython.core.display.HTML object>"
      ]
     },
     "execution_count": 100,
     "metadata": {},
     "output_type": "execute_result"
    }
   ],
   "source": [
    "quiz(\"Which of the above lines should be fixed?\",\n",
    "    [\n",
    "        '<span style=\"background-color: hsl(45.0, 100%, 80%)\">Line 3: `if x < y`</span>',\n",
    "        '<span style=\"background-color: hsl(34.28571428571429, 100.0%, 80%)\">Line 5: `elif x < z`</span>',\n",
    "        '<span style=\"background-color: hsl(20.000000000000004, 100.0%, 80%)\">Line 6: `return y`</span>',\n",
    "        '<span style=\"background-color: hsl(120.0, 20.0%, 80%)\">Line 9: `return y`</span>',\n",
    "    ], r'len(\" middle  \".strip()[:3])')"
   ]
  },
  {
   "cell_type": "markdown",
   "metadata": {
    "slideshow": {
     "slide_type": "fragment"
    }
   },
   "source": [
    "Indeed, in the `middle()` example, the \"reddest\" line is also the one to be fixed.  Here is the fixed version:"
   ]
  },
  {
   "cell_type": "code",
   "execution_count": 101,
   "metadata": {
    "execution": {
     "iopub.execute_input": "2024-01-17T21:32:47.038977Z",
     "iopub.status.busy": "2024-01-17T21:32:47.038873Z",
     "iopub.status.idle": "2024-01-17T21:32:47.040814Z",
     "shell.execute_reply": "2024-01-17T21:32:47.040538Z"
    },
    "slideshow": {
     "slide_type": "subslide"
    }
   },
   "outputs": [],
   "source": [
    "def middle_fixed(x, y, z):  # type: ignore\n",
    "    if y < z:\n",
    "        if x < y:\n",
    "            return y\n",
    "        elif x < z:\n",
    "            return x\n",
    "    else:\n",
    "        if x > y:\n",
    "            return y\n",
    "        elif x > z:\n",
    "            return x\n",
    "    return z"
   ]
  },
  {
   "cell_type": "code",
   "execution_count": 102,
   "metadata": {
    "execution": {
     "iopub.execute_input": "2024-01-17T21:32:47.042360Z",
     "iopub.status.busy": "2024-01-17T21:32:47.042254Z",
     "iopub.status.idle": "2024-01-17T21:32:47.044291Z",
     "shell.execute_reply": "2024-01-17T21:32:47.044019Z"
    },
    "slideshow": {
     "slide_type": "fragment"
    }
   },
   "outputs": [
    {
     "data": {
      "text/plain": [
       "2"
      ]
     },
     "execution_count": 102,
     "metadata": {},
     "output_type": "execute_result"
    }
   ],
   "source": [
    "middle_fixed(2, 1, 3)"
   ]
  },
  {
   "cell_type": "markdown",
   "metadata": {
    "slideshow": {
     "slide_type": "slide"
    }
   },
   "source": [
    "## Ranking Lines by Suspiciousness\n",
    "\n",
    "In a large program, there can be several locations (and events) that could be flagged as suspicious. It suffices that some large code block of say, 1,000 lines, is mostly executed in failing runs, and then all of this code block will be visualized in some shade of red. \n",
    "\n",
    "To further highlight the \"most suspicious\" events, one idea is to use a _ranking_ – that is, coming up with a list of events where those events most correlated with failures would be shown at the top. The programmer would then examine these events one by one and proceed down the list. We will show how this works for two \"correlation\" metrics – first the _Tarantula_ metric, as introduced above, and then the _Ochiai_ metric, which has shown to be one of the best \"ranking\" metrics."
   ]
  },
  {
   "cell_type": "markdown",
   "metadata": {
    "slideshow": {
     "slide_type": "subslide"
    }
   },
   "source": [
    "We introduce a base class `RankingDebugger` with an abstract method `suspiciousness()` to be overloaded in subclasses. The method `rank()` returns a list of all events observed, sorted by suspiciousness, highest first."
   ]
  },
  {
   "cell_type": "code",
   "execution_count": 103,
   "metadata": {
    "execution": {
     "iopub.execute_input": "2024-01-17T21:32:47.045785Z",
     "iopub.status.busy": "2024-01-17T21:32:47.045685Z",
     "iopub.status.idle": "2024-01-17T21:32:47.048052Z",
     "shell.execute_reply": "2024-01-17T21:32:47.047826Z"
    },
    "slideshow": {
     "slide_type": "subslide"
    }
   },
   "outputs": [],
   "source": [
    "class RankingDebugger(DiscreteSpectrumDebugger):\n",
    "    \"\"\"Rank events by their suspiciousness\"\"\"\n",
    "\n",
    "    def rank(self) -> List[Any]:\n",
    "        \"\"\"Return a list of events, sorted by suspiciousness, highest first.\"\"\"\n",
    "\n",
    "        def susp(event: Any) -> float:\n",
    "            suspiciousness = self.suspiciousness(event)\n",
    "            assert suspiciousness is not None\n",
    "            return suspiciousness\n",
    "\n",
    "        events = list(self.all_events())\n",
    "        events.sort(key=susp, reverse=True)\n",
    "        return events\n",
    "\n",
    "    def __repr__(self) -> str:\n",
    "        return repr(self.rank())"
   ]
  },
  {
   "cell_type": "markdown",
   "metadata": {
    "slideshow": {
     "slide_type": "subslide"
    }
   },
   "source": [
    "### The Tarantula Metric\n",
    "\n",
    "We can use the Tarantula metric to sort lines according to their suspiciousness. The \"redder\" a line (a hue of 0.0), the more suspicious it is. We can simply define"
   ]
  },
  {
   "cell_type": "markdown",
   "metadata": {
    "slideshow": {
     "slide_type": "fragment"
    }
   },
   "source": [
    "$$\n",
    "\\textit{suspiciousness}_\\textit{tarantula}(\\textit{event}) = 1 - \\textit{color hue}(\\textit{event})\n",
    "$$"
   ]
  },
  {
   "cell_type": "markdown",
   "metadata": {
    "slideshow": {
     "slide_type": "fragment"
    }
   },
   "source": [
    "where $\\textit{color hue}$ is as defined above."
   ]
  },
  {
   "cell_type": "markdown",
   "metadata": {
    "slideshow": {
     "slide_type": "fragment"
    }
   },
   "source": [
    "This is exactly the `suspiciousness()` function as already implemented in our `ContinuousSpectrumDebugger`."
   ]
  },
  {
   "cell_type": "markdown",
   "metadata": {
    "slideshow": {
     "slide_type": "fragment"
    }
   },
   "source": [
    "We introduce the `TarantulaDebugger` class, inheriting visualization capabilities from the `ContinuousSpectrumDebugger` class as well as the suspiciousness features from the `RankingDebugger` class."
   ]
  },
  {
   "cell_type": "code",
   "execution_count": 104,
   "metadata": {
    "execution": {
     "iopub.execute_input": "2024-01-17T21:32:47.049612Z",
     "iopub.status.busy": "2024-01-17T21:32:47.049516Z",
     "iopub.status.idle": "2024-01-17T21:32:47.051175Z",
     "shell.execute_reply": "2024-01-17T21:32:47.050912Z"
    },
    "slideshow": {
     "slide_type": "subslide"
    }
   },
   "outputs": [],
   "source": [
    "class TarantulaDebugger(ContinuousSpectrumDebugger, RankingDebugger):\n",
    "    \"\"\"Spectrum-based Debugger using the Tarantula metric for suspiciousness\"\"\"\n",
    "    pass"
   ]
  },
  {
   "cell_type": "markdown",
   "metadata": {
    "slideshow": {
     "slide_type": "fragment"
    }
   },
   "source": [
    "Let us list `remove_html_markup()` with highlighted lines again:"
   ]
  },
  {
   "cell_type": "code",
   "execution_count": 105,
   "metadata": {
    "execution": {
     "iopub.execute_input": "2024-01-17T21:32:47.052638Z",
     "iopub.status.busy": "2024-01-17T21:32:47.052535Z",
     "iopub.status.idle": "2024-01-17T21:32:47.054289Z",
     "shell.execute_reply": "2024-01-17T21:32:47.054058Z"
    },
    "slideshow": {
     "slide_type": "fragment"
    }
   },
   "outputs": [],
   "source": [
    "tarantula_html = test_debugger_html(TarantulaDebugger())"
   ]
  },
  {
   "cell_type": "code",
   "execution_count": 106,
   "metadata": {
    "execution": {
     "iopub.execute_input": "2024-01-17T21:32:47.055673Z",
     "iopub.status.busy": "2024-01-17T21:32:47.055577Z",
     "iopub.status.idle": "2024-01-17T21:32:47.058508Z",
     "shell.execute_reply": "2024-01-17T21:32:47.058259Z"
    },
    "slideshow": {
     "slide_type": "fragment"
    }
   },
   "outputs": [
    {
     "data": {
      "text/html": [
       "<pre style=\"background-color:hsl(60.0, 100.0%, 80%)\"\n",
       "                    title=\"Line 1:  50%\">   1 def remove_html_markup(s):  # type: ignore</pre>\n",
       "<pre style=\"background-color:hsl(60.0, 100.0%, 80%)\"\n",
       "                    title=\"Line 2:  50%\">   2     tag = False</pre>\n",
       "<pre style=\"background-color:hsl(60.0, 100.0%, 80%)\"\n",
       "                    title=\"Line 3:  50%\">   3     quote = False</pre>\n",
       "<pre style=\"background-color:hsl(60.0, 100.0%, 80%)\"\n",
       "                    title=\"Line 4:  50%\">   4     out = &quot;&quot;</pre>\n",
       "<pre title=\"Line 5: not executed\">   5 &nbsp;</pre>\n",
       "<pre style=\"background-color:hsl(60.0, 100.0%, 80%)\"\n",
       "                    title=\"Line 6:  50%\">   6     for c in s:</pre>\n",
       "<pre style=\"background-color:hsl(60.0, 100.0%, 80%)\"\n",
       "                    title=\"Line 7:  50%\">   7         if c == &#x27;&lt;&#x27; and not quote:</pre>\n",
       "<pre style=\"background-color:hsl(120.0, 50.0%, 80%)\"\n",
       "                    title=\"Line 8:   0%\">   8             tag = True</pre>\n",
       "<pre style=\"background-color:hsl(60.0, 100.0%, 80%)\"\n",
       "                    title=\"Line 9:  50%\">   9         elif c == &#x27;&gt;&#x27; and not quote:</pre>\n",
       "<pre style=\"background-color:hsl(120.0, 50.0%, 80%)\"\n",
       "                    title=\"Line 10:   0%\">  10             tag = False</pre>\n",
       "<pre style=\"background-color:hsl(60.0, 100.0%, 80%)\"\n",
       "                    title=\"Line 11:  50%\">  11         elif c == &#x27;&quot;&#x27; or c == &quot;&#x27;&quot; and tag:</pre>\n",
       "<pre style=\"background-color:hsl(0.0, 100.0%, 80%)\"\n",
       "                    title=\"Line 12: 100%\">  12             quote = not quote</pre>\n",
       "<pre style=\"background-color:hsl(60.0, 100.0%, 80%)\"\n",
       "                    title=\"Line 13:  50%\">  13         elif not tag:</pre>\n",
       "<pre style=\"background-color:hsl(60.0, 100.0%, 80%)\"\n",
       "                    title=\"Line 14:  50%\">  14             out = out + c</pre>\n",
       "<pre title=\"Line 15: not executed\">  15 &nbsp;</pre>\n",
       "<pre style=\"background-color:hsl(60.0, 100.0%, 80%)\"\n",
       "                    title=\"Line 16:  50%\">  16     return out</pre>\n"
      ],
      "text/markdown": [
       "| `remove_html_markup` | `s='abc'` | `s='<b>abc</b>'` | `s='\"abc\"'` | \n",
       "| --------------------- | ---- | ---- | ---- | \n",
       "| <samp style=\"background-color: hsl(60.0, 100.0%, 80%)\" title=\" 50%\"> remove_html_markup:1</samp> |    X |    X |    X | \n",
       "| <samp style=\"background-color: hsl(60.0, 100.0%, 80%)\" title=\" 50%\"> remove_html_markup:2</samp> |    X |    X |    X | \n",
       "| <samp style=\"background-color: hsl(60.0, 100.0%, 80%)\" title=\" 50%\"> remove_html_markup:3</samp> |    X |    X |    X | \n",
       "| <samp style=\"background-color: hsl(60.0, 100.0%, 80%)\" title=\" 50%\"> remove_html_markup:4</samp> |    X |    X |    X | \n",
       "| <samp style=\"background-color: hsl(60.0, 100.0%, 80%)\" title=\" 50%\"> remove_html_markup:6</samp> |    X |    X |    X | \n",
       "| <samp style=\"background-color: hsl(60.0, 100.0%, 80%)\" title=\" 50%\"> remove_html_markup:7</samp> |    X |    X |    X | \n",
       "| <samp style=\"background-color: hsl(120.0, 50.0%, 80%)\" title=\"  0%\"> remove_html_markup:8</samp> |    - |    X |    - | \n",
       "| <samp style=\"background-color: hsl(60.0, 100.0%, 80%)\" title=\" 50%\"> remove_html_markup:9</samp> |    X |    X |    X | \n",
       "| <samp style=\"background-color: hsl(120.0, 50.0%, 80%)\" title=\"  0%\">remove_html_markup:10</samp> |    - |    X |    - | \n",
       "| <samp style=\"background-color: hsl(60.0, 100.0%, 80%)\" title=\" 50%\">remove_html_markup:11</samp> |    X |    X |    X | \n",
       "| <samp style=\"background-color: hsl(0.0, 100.0%, 80%)\" title=\"100%\">remove_html_markup:12</samp> |    - |    - |    X | \n",
       "| <samp style=\"background-color: hsl(60.0, 100.0%, 80%)\" title=\" 50%\">remove_html_markup:13</samp> |    X |    X |    X | \n",
       "| <samp style=\"background-color: hsl(60.0, 100.0%, 80%)\" title=\" 50%\">remove_html_markup:14</samp> |    X |    X |    X | \n",
       "| <samp style=\"background-color: hsl(60.0, 100.0%, 80%)\" title=\" 50%\">remove_html_markup:16</samp> |    X |    X |    X | \n"
      ],
      "text/plain": [
       "[('remove_html_markup', 12), ('remove_html_markup', 4), ('remove_html_markup', 1), ('remove_html_markup', 7), ('remove_html_markup', 16), ('remove_html_markup', 13), ('remove_html_markup', 2), ('remove_html_markup', 11), ('remove_html_markup', 14), ('remove_html_markup', 3), ('remove_html_markup', 9), ('remove_html_markup', 6), ('remove_html_markup', 10), ('remove_html_markup', 8)]"
      ]
     },
     "execution_count": 106,
     "metadata": {},
     "output_type": "execute_result"
    }
   ],
   "source": [
    "tarantula_html"
   ]
  },
  {
   "cell_type": "markdown",
   "metadata": {
    "slideshow": {
     "slide_type": "fragment"
    }
   },
   "source": [
    "Here's our ranking of lines, from most suspicious to least suspicious:"
   ]
  },
  {
   "cell_type": "code",
   "execution_count": 107,
   "metadata": {
    "execution": {
     "iopub.execute_input": "2024-01-17T21:32:47.059951Z",
     "iopub.status.busy": "2024-01-17T21:32:47.059850Z",
     "iopub.status.idle": "2024-01-17T21:32:47.061966Z",
     "shell.execute_reply": "2024-01-17T21:32:47.061733Z"
    },
    "slideshow": {
     "slide_type": "subslide"
    }
   },
   "outputs": [
    {
     "data": {
      "text/plain": [
       "[('remove_html_markup', 12),\n",
       " ('remove_html_markup', 4),\n",
       " ('remove_html_markup', 1),\n",
       " ('remove_html_markup', 7),\n",
       " ('remove_html_markup', 16),\n",
       " ('remove_html_markup', 13),\n",
       " ('remove_html_markup', 2),\n",
       " ('remove_html_markup', 11),\n",
       " ('remove_html_markup', 14),\n",
       " ('remove_html_markup', 3),\n",
       " ('remove_html_markup', 9),\n",
       " ('remove_html_markup', 6),\n",
       " ('remove_html_markup', 10),\n",
       " ('remove_html_markup', 8)]"
      ]
     },
     "execution_count": 107,
     "metadata": {},
     "output_type": "execute_result"
    }
   ],
   "source": [
    "tarantula_html.rank()"
   ]
  },
  {
   "cell_type": "code",
   "execution_count": 108,
   "metadata": {
    "execution": {
     "iopub.execute_input": "2024-01-17T21:32:47.063401Z",
     "iopub.status.busy": "2024-01-17T21:32:47.063304Z",
     "iopub.status.idle": "2024-01-17T21:32:47.065375Z",
     "shell.execute_reply": "2024-01-17T21:32:47.065118Z"
    },
    "slideshow": {
     "slide_type": "subslide"
    }
   },
   "outputs": [
    {
     "data": {
      "text/plain": [
       "1.0"
      ]
     },
     "execution_count": 108,
     "metadata": {},
     "output_type": "execute_result"
    }
   ],
   "source": [
    "tarantula_html.suspiciousness(tarantula_html.rank()[0])"
   ]
  },
  {
   "cell_type": "markdown",
   "metadata": {
    "slideshow": {
     "slide_type": "fragment"
    }
   },
   "source": [
    "We see that the first line in the list is indeed the most suspicious; the two \"green\" lines come at the very end."
   ]
  },
  {
   "cell_type": "markdown",
   "metadata": {
    "slideshow": {
     "slide_type": "fragment"
    }
   },
   "source": [
    "For the `middle()` function, we also obtain a ranking from \"reddest\" to \"greenest\"."
   ]
  },
  {
   "cell_type": "code",
   "execution_count": 109,
   "metadata": {
    "execution": {
     "iopub.execute_input": "2024-01-17T21:32:47.066932Z",
     "iopub.status.busy": "2024-01-17T21:32:47.066831Z",
     "iopub.status.idle": "2024-01-17T21:32:47.068564Z",
     "shell.execute_reply": "2024-01-17T21:32:47.068325Z"
    },
    "slideshow": {
     "slide_type": "fragment"
    }
   },
   "outputs": [],
   "source": [
    "tarantula_middle = test_debugger_middle(TarantulaDebugger())"
   ]
  },
  {
   "cell_type": "code",
   "execution_count": 110,
   "metadata": {
    "execution": {
     "iopub.execute_input": "2024-01-17T21:32:47.069950Z",
     "iopub.status.busy": "2024-01-17T21:32:47.069851Z",
     "iopub.status.idle": "2024-01-17T21:32:47.072570Z",
     "shell.execute_reply": "2024-01-17T21:32:47.072326Z"
    },
    "slideshow": {
     "slide_type": "fragment"
    }
   },
   "outputs": [
    {
     "data": {
      "text/html": [
       "<pre style=\"background-color:hsl(60.0, 100.0%, 80%)\"\n",
       "                    title=\"Line 1:  50%\">   1 def middle(x, y, z):  # type: ignore</pre>\n",
       "<pre style=\"background-color:hsl(60.0, 100.0%, 80%)\"\n",
       "                    title=\"Line 2:  50%\">   2     if y &lt; z:</pre>\n",
       "<pre style=\"background-color:hsl(44.99999999999999, 100.0%, 80%)\"\n",
       "                    title=\"Line 3:  62%\">   3         if x &lt; y:</pre>\n",
       "<pre style=\"background-color:hsl(120.0, 20.0%, 80%)\"\n",
       "                    title=\"Line 4:   0%\">   4             return y</pre>\n",
       "<pre style=\"background-color:hsl(34.28571428571429, 100.0%, 80%)\"\n",
       "                    title=\"Line 5:  71%\">   5         elif x &lt; z:</pre>\n",
       "<pre style=\"background-color:hsl(20.000000000000004, 100.0%, 80%)\"\n",
       "                    title=\"Line 6:  83%\">   6             return y</pre>\n",
       "<pre title=\"Line 7: not executed\">   7     else:\n",
       "</pre>\n",
       "<pre style=\"background-color:hsl(120.0, 40.0%, 80%)\"\n",
       "                    title=\"Line 8:   0%\">   8         if x &gt; y:</pre>\n",
       "<pre style=\"background-color:hsl(120.0, 20.0%, 80%)\"\n",
       "                    title=\"Line 9:   0%\">   9             return y</pre>\n",
       "<pre style=\"background-color:hsl(120.0, 20.0%, 80%)\"\n",
       "                    title=\"Line 10:   0%\">  10         elif x &gt; z:</pre>\n",
       "<pre title=\"Line 11: not executed\">  11             return x\n",
       "</pre>\n",
       "<pre style=\"background-color:hsl(120.0, 40.0%, 80%)\"\n",
       "                    title=\"Line 12:   0%\">  12     return z</pre>\n"
      ],
      "text/markdown": [
       "| `middle` | `x=3, y=3, z=5` | `x=1, y=2, z=3` | `x=3, y=2, z=1` | `x=5, y=5, z=5` | `x=5, y=3, z=4` | `x=2, y=1, z=3` | \n",
       "| --------- | ---- | ---- | ---- | ---- | ---- | ---- | \n",
       "| <samp style=\"background-color: hsl(60.0, 100.0%, 80%)\" title=\" 50%\"> middle:1</samp> |    X |    X |    X |    X |    X |    X | \n",
       "| <samp style=\"background-color: hsl(60.0, 100.0%, 80%)\" title=\" 50%\"> middle:2</samp> |    X |    X |    X |    X |    X |    X | \n",
       "| <samp style=\"background-color: hsl(44.99999999999999, 100.0%, 80%)\" title=\" 62%\"> middle:3</samp> |    X |    X |    - |    - |    X |    X | \n",
       "| <samp style=\"background-color: hsl(120.0, 20.0%, 80%)\" title=\"  0%\"> middle:4</samp> |    - |    X |    - |    - |    - |    - | \n",
       "| <samp style=\"background-color: hsl(34.28571428571429, 100.0%, 80%)\" title=\" 71%\"> middle:5</samp> |    X |    - |    - |    - |    X |    X | \n",
       "| <samp style=\"background-color: hsl(20.000000000000004, 100.0%, 80%)\" title=\" 83%\"> middle:6</samp> |    X |    - |    - |    - |    - |    X | \n",
       "| <samp style=\"background-color: hsl(120.0, 40.0%, 80%)\" title=\"  0%\"> middle:8</samp> |    - |    - |    X |    X |    - |    - | \n",
       "| <samp style=\"background-color: hsl(120.0, 20.0%, 80%)\" title=\"  0%\"> middle:9</samp> |    - |    - |    X |    - |    - |    - | \n",
       "| <samp style=\"background-color: hsl(120.0, 20.0%, 80%)\" title=\"  0%\">middle:10</samp> |    - |    - |    - |    X |    - |    - | \n",
       "| <samp style=\"background-color: hsl(120.0, 40.0%, 80%)\" title=\"  0%\">middle:12</samp> |    - |    - |    - |    X |    X |    - | \n"
      ],
      "text/plain": [
       "[('middle', 6), ('middle', 5), ('middle', 3), ('middle', 2), ('middle', 1), ('middle', 9), ('middle', 12), ('middle', 8), ('middle', 4), ('middle', 10)]"
      ]
     },
     "execution_count": 110,
     "metadata": {},
     "output_type": "execute_result"
    }
   ],
   "source": [
    "tarantula_middle"
   ]
  },
  {
   "cell_type": "code",
   "execution_count": 111,
   "metadata": {
    "execution": {
     "iopub.execute_input": "2024-01-17T21:32:47.073980Z",
     "iopub.status.busy": "2024-01-17T21:32:47.073878Z",
     "iopub.status.idle": "2024-01-17T21:32:47.076029Z",
     "shell.execute_reply": "2024-01-17T21:32:47.075801Z"
    },
    "slideshow": {
     "slide_type": "subslide"
    }
   },
   "outputs": [
    {
     "data": {
      "text/plain": [
       "[('middle', 6),\n",
       " ('middle', 5),\n",
       " ('middle', 3),\n",
       " ('middle', 2),\n",
       " ('middle', 1),\n",
       " ('middle', 9),\n",
       " ('middle', 12),\n",
       " ('middle', 8),\n",
       " ('middle', 4),\n",
       " ('middle', 10)]"
      ]
     },
     "execution_count": 111,
     "metadata": {},
     "output_type": "execute_result"
    }
   ],
   "source": [
    "tarantula_middle.rank()"
   ]
  },
  {
   "cell_type": "code",
   "execution_count": 112,
   "metadata": {
    "execution": {
     "iopub.execute_input": "2024-01-17T21:32:47.077353Z",
     "iopub.status.busy": "2024-01-17T21:32:47.077258Z",
     "iopub.status.idle": "2024-01-17T21:32:47.079121Z",
     "shell.execute_reply": "2024-01-17T21:32:47.078886Z"
    },
    "slideshow": {
     "slide_type": "fragment"
    }
   },
   "outputs": [
    {
     "data": {
      "text/plain": [
       "0.8333333333333333"
      ]
     },
     "execution_count": 112,
     "metadata": {},
     "output_type": "execute_result"
    }
   ],
   "source": [
    "tarantula_middle.suspiciousness(tarantula_middle.rank()[0])"
   ]
  },
  {
   "cell_type": "markdown",
   "metadata": {
    "slideshow": {
     "slide_type": "subslide"
    }
   },
   "source": [
    "### The Ochiai Metric\n",
    "\n",
    "The _Ochiai_ Metric \\cite{Ochiai1957} first introduced in the biology domain \\cite{daSilvaMeyer2004} and later applied for fault localization by Abreu et al. \\cite{Abreu2009}, is defined as follows:"
   ]
  },
  {
   "cell_type": "markdown",
   "metadata": {
    "slideshow": {
     "slide_type": "subslide"
    }
   },
   "source": [
    "$$\n",
    "\\textit{suspiciousness}_\\textit{ochiai} = \\frac\n",
    "{\\textit{failed}(\\textit{event})}\n",
    "{\\sqrt{\n",
    "\\bigl(\\textit{failed}(\\textit{event}) + \\textit{not-in-failed}(\\textit{event})\\bigr)\n",
    "\\times\n",
    "\\bigl(\\textit{failed}(\\textit{event}) + \\textit{passed}(\\textit{event})\\bigr)\n",
    "}}\n",
    "$$"
   ]
  },
  {
   "cell_type": "markdown",
   "metadata": {
    "slideshow": {
     "slide_type": "subslide"
    }
   },
   "source": [
    "where\n",
    "\n",
    "* $\\textit{failed}(\\textit{event})$ is the number of times the event occurred in _failing_ runs\n",
    "* $\\textit{not-in-failed}(\\textit{event})$ is the number of times the event did _not_ occur in failing runs\n",
    "* $\\textit{passed}(\\textit{event})$ is the number of times the event occurred in _passing_ runs.\n",
    "\n",
    "We can easily implement this formula:"
   ]
  },
  {
   "cell_type": "code",
   "execution_count": 113,
   "metadata": {
    "execution": {
     "iopub.execute_input": "2024-01-17T21:32:47.081037Z",
     "iopub.status.busy": "2024-01-17T21:32:47.080881Z",
     "iopub.status.idle": "2024-01-17T21:32:47.082749Z",
     "shell.execute_reply": "2024-01-17T21:32:47.082400Z"
    },
    "slideshow": {
     "slide_type": "skip"
    }
   },
   "outputs": [],
   "source": [
    "import math"
   ]
  },
  {
   "cell_type": "code",
   "execution_count": 114,
   "metadata": {
    "execution": {
     "iopub.execute_input": "2024-01-17T21:32:47.084570Z",
     "iopub.status.busy": "2024-01-17T21:32:47.084417Z",
     "iopub.status.idle": "2024-01-17T21:32:47.087241Z",
     "shell.execute_reply": "2024-01-17T21:32:47.086989Z"
    },
    "slideshow": {
     "slide_type": "subslide"
    }
   },
   "outputs": [],
   "source": [
    "class OchiaiDebugger(ContinuousSpectrumDebugger, RankingDebugger):\n",
    "    \"\"\"Spectrum-based Debugger using the Ochiai metric for suspiciousness\"\"\"\n",
    "\n",
    "    def suspiciousness(self, event: Any) -> Optional[float]:\n",
    "        failed = len(self.collectors_with_event(event, self.FAIL))\n",
    "        not_in_failed = len(self.collectors_without_event(event, self.FAIL))\n",
    "        passed = len(self.collectors_with_event(event, self.PASS))\n",
    "\n",
    "        try:\n",
    "            return failed / math.sqrt((failed + not_in_failed) * (failed + passed))\n",
    "        except ZeroDivisionError:\n",
    "            return None\n",
    "\n",
    "    def hue(self, event: Any) -> Optional[float]:\n",
    "        suspiciousness = self.suspiciousness(event)\n",
    "        if suspiciousness is None:\n",
    "            return None\n",
    "        return 1 - suspiciousness"
   ]
  },
  {
   "cell_type": "markdown",
   "metadata": {
    "slideshow": {
     "slide_type": "subslide"
    }
   },
   "source": [
    "Applied on the `remove_html_markup()` function, the individual suspiciousness scores differ from Tarantula. However, we obtain a very similar visualization, and the same ranking."
   ]
  },
  {
   "cell_type": "code",
   "execution_count": 115,
   "metadata": {
    "execution": {
     "iopub.execute_input": "2024-01-17T21:32:47.090124Z",
     "iopub.status.busy": "2024-01-17T21:32:47.089982Z",
     "iopub.status.idle": "2024-01-17T21:32:47.092012Z",
     "shell.execute_reply": "2024-01-17T21:32:47.091699Z"
    },
    "slideshow": {
     "slide_type": "fragment"
    }
   },
   "outputs": [],
   "source": [
    "ochiai_html = test_debugger_html(OchiaiDebugger())"
   ]
  },
  {
   "cell_type": "code",
   "execution_count": 116,
   "metadata": {
    "execution": {
     "iopub.execute_input": "2024-01-17T21:32:47.093635Z",
     "iopub.status.busy": "2024-01-17T21:32:47.093514Z",
     "iopub.status.idle": "2024-01-17T21:32:47.096849Z",
     "shell.execute_reply": "2024-01-17T21:32:47.096589Z"
    },
    "slideshow": {
     "slide_type": "fragment"
    }
   },
   "outputs": [
    {
     "data": {
      "text/html": [
       "<pre style=\"background-color:hsl(50.7179676972449, 100.0%, 80%)\"\n",
       "                    title=\"Line 1:  57%\">   1 def remove_html_markup(s):  # type: ignore</pre>\n",
       "<pre style=\"background-color:hsl(50.7179676972449, 100.0%, 80%)\"\n",
       "                    title=\"Line 2:  57%\">   2     tag = False</pre>\n",
       "<pre style=\"background-color:hsl(50.7179676972449, 100.0%, 80%)\"\n",
       "                    title=\"Line 3:  57%\">   3     quote = False</pre>\n",
       "<pre style=\"background-color:hsl(50.7179676972449, 100.0%, 80%)\"\n",
       "                    title=\"Line 4:  57%\">   4     out = &quot;&quot;</pre>\n",
       "<pre title=\"Line 5: not executed\">   5 &nbsp;</pre>\n",
       "<pre style=\"background-color:hsl(50.7179676972449, 100.0%, 80%)\"\n",
       "                    title=\"Line 6:  57%\">   6     for c in s:</pre>\n",
       "<pre style=\"background-color:hsl(50.7179676972449, 100.0%, 80%)\"\n",
       "                    title=\"Line 7:  57%\">   7         if c == &#x27;&lt;&#x27; and not quote:</pre>\n",
       "<pre style=\"background-color:hsl(120.0, 50.0%, 80%)\"\n",
       "                    title=\"Line 8:   0%\">   8             tag = True</pre>\n",
       "<pre style=\"background-color:hsl(50.7179676972449, 100.0%, 80%)\"\n",
       "                    title=\"Line 9:  57%\">   9         elif c == &#x27;&gt;&#x27; and not quote:</pre>\n",
       "<pre style=\"background-color:hsl(120.0, 50.0%, 80%)\"\n",
       "                    title=\"Line 10:   0%\">  10             tag = False</pre>\n",
       "<pre style=\"background-color:hsl(50.7179676972449, 100.0%, 80%)\"\n",
       "                    title=\"Line 11:  57%\">  11         elif c == &#x27;&quot;&#x27; or c == &quot;&#x27;&quot; and tag:</pre>\n",
       "<pre style=\"background-color:hsl(0.0, 100.0%, 80%)\"\n",
       "                    title=\"Line 12: 100%\">  12             quote = not quote</pre>\n",
       "<pre style=\"background-color:hsl(50.7179676972449, 100.0%, 80%)\"\n",
       "                    title=\"Line 13:  57%\">  13         elif not tag:</pre>\n",
       "<pre style=\"background-color:hsl(50.7179676972449, 100.0%, 80%)\"\n",
       "                    title=\"Line 14:  57%\">  14             out = out + c</pre>\n",
       "<pre title=\"Line 15: not executed\">  15 &nbsp;</pre>\n",
       "<pre style=\"background-color:hsl(50.7179676972449, 100.0%, 80%)\"\n",
       "                    title=\"Line 16:  57%\">  16     return out</pre>\n"
      ],
      "text/markdown": [
       "| `remove_html_markup` | `s='abc'` | `s='<b>abc</b>'` | `s='\"abc\"'` | \n",
       "| --------------------- | ---- | ---- | ---- | \n",
       "| <samp style=\"background-color: hsl(50.7179676972449, 100.0%, 80%)\" title=\" 57%\"> remove_html_markup:1</samp> |    X |    X |    X | \n",
       "| <samp style=\"background-color: hsl(50.7179676972449, 100.0%, 80%)\" title=\" 57%\"> remove_html_markup:2</samp> |    X |    X |    X | \n",
       "| <samp style=\"background-color: hsl(50.7179676972449, 100.0%, 80%)\" title=\" 57%\"> remove_html_markup:3</samp> |    X |    X |    X | \n",
       "| <samp style=\"background-color: hsl(50.7179676972449, 100.0%, 80%)\" title=\" 57%\"> remove_html_markup:4</samp> |    X |    X |    X | \n",
       "| <samp style=\"background-color: hsl(50.7179676972449, 100.0%, 80%)\" title=\" 57%\"> remove_html_markup:6</samp> |    X |    X |    X | \n",
       "| <samp style=\"background-color: hsl(50.7179676972449, 100.0%, 80%)\" title=\" 57%\"> remove_html_markup:7</samp> |    X |    X |    X | \n",
       "| <samp style=\"background-color: hsl(120.0, 50.0%, 80%)\" title=\"  0%\"> remove_html_markup:8</samp> |    - |    X |    - | \n",
       "| <samp style=\"background-color: hsl(50.7179676972449, 100.0%, 80%)\" title=\" 57%\"> remove_html_markup:9</samp> |    X |    X |    X | \n",
       "| <samp style=\"background-color: hsl(120.0, 50.0%, 80%)\" title=\"  0%\">remove_html_markup:10</samp> |    - |    X |    - | \n",
       "| <samp style=\"background-color: hsl(50.7179676972449, 100.0%, 80%)\" title=\" 57%\">remove_html_markup:11</samp> |    X |    X |    X | \n",
       "| <samp style=\"background-color: hsl(0.0, 100.0%, 80%)\" title=\"100%\">remove_html_markup:12</samp> |    - |    - |    X | \n",
       "| <samp style=\"background-color: hsl(50.7179676972449, 100.0%, 80%)\" title=\" 57%\">remove_html_markup:13</samp> |    X |    X |    X | \n",
       "| <samp style=\"background-color: hsl(50.7179676972449, 100.0%, 80%)\" title=\" 57%\">remove_html_markup:14</samp> |    X |    X |    X | \n",
       "| <samp style=\"background-color: hsl(50.7179676972449, 100.0%, 80%)\" title=\" 57%\">remove_html_markup:16</samp> |    X |    X |    X | \n"
      ],
      "text/plain": [
       "[('remove_html_markup', 12), ('remove_html_markup', 4), ('remove_html_markup', 1), ('remove_html_markup', 7), ('remove_html_markup', 16), ('remove_html_markup', 13), ('remove_html_markup', 2), ('remove_html_markup', 11), ('remove_html_markup', 14), ('remove_html_markup', 3), ('remove_html_markup', 9), ('remove_html_markup', 6), ('remove_html_markup', 10), ('remove_html_markup', 8)]"
      ]
     },
     "execution_count": 116,
     "metadata": {},
     "output_type": "execute_result"
    }
   ],
   "source": [
    "ochiai_html"
   ]
  },
  {
   "cell_type": "code",
   "execution_count": 117,
   "metadata": {
    "execution": {
     "iopub.execute_input": "2024-01-17T21:32:47.098294Z",
     "iopub.status.busy": "2024-01-17T21:32:47.098209Z",
     "iopub.status.idle": "2024-01-17T21:32:47.100555Z",
     "shell.execute_reply": "2024-01-17T21:32:47.100299Z"
    },
    "slideshow": {
     "slide_type": "subslide"
    }
   },
   "outputs": [
    {
     "data": {
      "text/plain": [
       "[('remove_html_markup', 12),\n",
       " ('remove_html_markup', 4),\n",
       " ('remove_html_markup', 1),\n",
       " ('remove_html_markup', 7),\n",
       " ('remove_html_markup', 16),\n",
       " ('remove_html_markup', 13),\n",
       " ('remove_html_markup', 2),\n",
       " ('remove_html_markup', 11),\n",
       " ('remove_html_markup', 14),\n",
       " ('remove_html_markup', 3),\n",
       " ('remove_html_markup', 9),\n",
       " ('remove_html_markup', 6),\n",
       " ('remove_html_markup', 10),\n",
       " ('remove_html_markup', 8)]"
      ]
     },
     "execution_count": 117,
     "metadata": {},
     "output_type": "execute_result"
    }
   ],
   "source": [
    "ochiai_html.rank()"
   ]
  },
  {
   "cell_type": "code",
   "execution_count": 118,
   "metadata": {
    "execution": {
     "iopub.execute_input": "2024-01-17T21:32:47.102046Z",
     "iopub.status.busy": "2024-01-17T21:32:47.101961Z",
     "iopub.status.idle": "2024-01-17T21:32:47.104198Z",
     "shell.execute_reply": "2024-01-17T21:32:47.103934Z"
    },
    "slideshow": {
     "slide_type": "subslide"
    }
   },
   "outputs": [
    {
     "data": {
      "text/plain": [
       "1.0"
      ]
     },
     "execution_count": 118,
     "metadata": {},
     "output_type": "execute_result"
    }
   ],
   "source": [
    "ochiai_html.suspiciousness(ochiai_html.rank()[0])"
   ]
  },
  {
   "cell_type": "markdown",
   "metadata": {
    "slideshow": {
     "slide_type": "fragment"
    }
   },
   "source": [
    "The same observations also apply for the `middle()` function."
   ]
  },
  {
   "cell_type": "code",
   "execution_count": 119,
   "metadata": {
    "execution": {
     "iopub.execute_input": "2024-01-17T21:32:47.105636Z",
     "iopub.status.busy": "2024-01-17T21:32:47.105555Z",
     "iopub.status.idle": "2024-01-17T21:32:47.107227Z",
     "shell.execute_reply": "2024-01-17T21:32:47.106966Z"
    },
    "slideshow": {
     "slide_type": "fragment"
    }
   },
   "outputs": [],
   "source": [
    "ochiai_middle = test_debugger_middle(OchiaiDebugger())"
   ]
  },
  {
   "cell_type": "code",
   "execution_count": 120,
   "metadata": {
    "execution": {
     "iopub.execute_input": "2024-01-17T21:32:47.108560Z",
     "iopub.status.busy": "2024-01-17T21:32:47.108480Z",
     "iopub.status.idle": "2024-01-17T21:32:47.111370Z",
     "shell.execute_reply": "2024-01-17T21:32:47.111143Z"
    },
    "slideshow": {
     "slide_type": "fragment"
    }
   },
   "outputs": [
    {
     "data": {
      "text/html": [
       "<pre style=\"background-color:hsl(71.01020514433642, 100.0%, 80%)\"\n",
       "                    title=\"Line 1:  40%\">   1 def middle(x, y, z):  # type: ignore</pre>\n",
       "<pre style=\"background-color:hsl(71.01020514433642, 100.0%, 80%)\"\n",
       "                    title=\"Line 2:  40%\">   2     if y &lt; z:</pre>\n",
       "<pre style=\"background-color:hsl(60.0, 100.0%, 80%)\"\n",
       "                    title=\"Line 3:  50%\">   3         if x &lt; y:</pre>\n",
       "<pre style=\"background-color:hsl(120.0, 20.0%, 80%)\"\n",
       "                    title=\"Line 4:   0%\">   4             return y</pre>\n",
       "<pre style=\"background-color:hsl(50.7179676972449, 100.0%, 80%)\"\n",
       "                    title=\"Line 5:  57%\">   5         elif x &lt; z:</pre>\n",
       "<pre style=\"background-color:hsl(35.14718625761431, 100.0%, 80%)\"\n",
       "                    title=\"Line 6:  70%\">   6             return y</pre>\n",
       "<pre title=\"Line 7: not executed\">   7     else:\n",
       "</pre>\n",
       "<pre style=\"background-color:hsl(120.0, 40.0%, 80%)\"\n",
       "                    title=\"Line 8:   0%\">   8         if x &gt; y:</pre>\n",
       "<pre style=\"background-color:hsl(120.0, 20.0%, 80%)\"\n",
       "                    title=\"Line 9:   0%\">   9             return y</pre>\n",
       "<pre style=\"background-color:hsl(120.0, 20.0%, 80%)\"\n",
       "                    title=\"Line 10:   0%\">  10         elif x &gt; z:</pre>\n",
       "<pre title=\"Line 11: not executed\">  11             return x\n",
       "</pre>\n",
       "<pre style=\"background-color:hsl(120.0, 40.0%, 80%)\"\n",
       "                    title=\"Line 12:   0%\">  12     return z</pre>\n"
      ],
      "text/markdown": [
       "| `middle` | `x=3, y=3, z=5` | `x=1, y=2, z=3` | `x=3, y=2, z=1` | `x=5, y=5, z=5` | `x=5, y=3, z=4` | `x=2, y=1, z=3` | \n",
       "| --------- | ---- | ---- | ---- | ---- | ---- | ---- | \n",
       "| <samp style=\"background-color: hsl(71.01020514433642, 100.0%, 80%)\" title=\" 40%\"> middle:1</samp> |    X |    X |    X |    X |    X |    X | \n",
       "| <samp style=\"background-color: hsl(71.01020514433642, 100.0%, 80%)\" title=\" 40%\"> middle:2</samp> |    X |    X |    X |    X |    X |    X | \n",
       "| <samp style=\"background-color: hsl(60.0, 100.0%, 80%)\" title=\" 50%\"> middle:3</samp> |    X |    X |    - |    - |    X |    X | \n",
       "| <samp style=\"background-color: hsl(120.0, 20.0%, 80%)\" title=\"  0%\"> middle:4</samp> |    - |    X |    - |    - |    - |    - | \n",
       "| <samp style=\"background-color: hsl(50.7179676972449, 100.0%, 80%)\" title=\" 57%\"> middle:5</samp> |    X |    - |    - |    - |    X |    X | \n",
       "| <samp style=\"background-color: hsl(35.14718625761431, 100.0%, 80%)\" title=\" 70%\"> middle:6</samp> |    X |    - |    - |    - |    - |    X | \n",
       "| <samp style=\"background-color: hsl(120.0, 40.0%, 80%)\" title=\"  0%\"> middle:8</samp> |    - |    - |    X |    X |    - |    - | \n",
       "| <samp style=\"background-color: hsl(120.0, 20.0%, 80%)\" title=\"  0%\"> middle:9</samp> |    - |    - |    X |    - |    - |    - | \n",
       "| <samp style=\"background-color: hsl(120.0, 20.0%, 80%)\" title=\"  0%\">middle:10</samp> |    - |    - |    - |    X |    - |    - | \n",
       "| <samp style=\"background-color: hsl(120.0, 40.0%, 80%)\" title=\"  0%\">middle:12</samp> |    - |    - |    - |    X |    X |    - | \n"
      ],
      "text/plain": [
       "[('middle', 6), ('middle', 5), ('middle', 3), ('middle', 2), ('middle', 1), ('middle', 9), ('middle', 12), ('middle', 8), ('middle', 4), ('middle', 10)]"
      ]
     },
     "execution_count": 120,
     "metadata": {},
     "output_type": "execute_result"
    }
   ],
   "source": [
    "ochiai_middle"
   ]
  },
  {
   "cell_type": "code",
   "execution_count": 121,
   "metadata": {
    "execution": {
     "iopub.execute_input": "2024-01-17T21:32:47.112768Z",
     "iopub.status.busy": "2024-01-17T21:32:47.112683Z",
     "iopub.status.idle": "2024-01-17T21:32:47.114878Z",
     "shell.execute_reply": "2024-01-17T21:32:47.114635Z"
    },
    "slideshow": {
     "slide_type": "subslide"
    }
   },
   "outputs": [
    {
     "data": {
      "text/plain": [
       "[('middle', 6),\n",
       " ('middle', 5),\n",
       " ('middle', 3),\n",
       " ('middle', 2),\n",
       " ('middle', 1),\n",
       " ('middle', 9),\n",
       " ('middle', 12),\n",
       " ('middle', 8),\n",
       " ('middle', 4),\n",
       " ('middle', 10)]"
      ]
     },
     "execution_count": 121,
     "metadata": {},
     "output_type": "execute_result"
    }
   ],
   "source": [
    "ochiai_middle.rank()"
   ]
  },
  {
   "cell_type": "code",
   "execution_count": 122,
   "metadata": {
    "execution": {
     "iopub.execute_input": "2024-01-17T21:32:47.116228Z",
     "iopub.status.busy": "2024-01-17T21:32:47.116153Z",
     "iopub.status.idle": "2024-01-17T21:32:47.118238Z",
     "shell.execute_reply": "2024-01-17T21:32:47.117998Z"
    },
    "slideshow": {
     "slide_type": "fragment"
    }
   },
   "outputs": [
    {
     "data": {
      "text/plain": [
       "0.7071067811865475"
      ]
     },
     "execution_count": 122,
     "metadata": {},
     "output_type": "execute_result"
    }
   ],
   "source": [
    "ochiai_middle.suspiciousness(ochiai_middle.rank()[0])"
   ]
  },
  {
   "cell_type": "markdown",
   "metadata": {
    "slideshow": {
     "slide_type": "subslide"
    }
   },
   "source": [
    "### How Useful is Ranking?\n",
    "\n",
    "So, which metric is better? The standard method to evaluate such rankings is to determine a _ground truth_ – that is, the set of locations that eventually are fixed – and to check at which point in the ranking any such location occurs – the earlier, the better. In our `remove_html_markup()` and `middle()` examples, both the Tarantula and the Ochiai metric perform flawlessly, as the \"culprit\" line is always ranked at the top. However, this need not always be the case; the exact performance depends on the nature of the code and the observed runs. (Also, the question of whether there always is exactly one possible location where the program can be fixed is open for discussion.)"
   ]
  },
  {
   "cell_type": "markdown",
   "metadata": {
    "slideshow": {
     "slide_type": "subslide"
    }
   },
   "source": [
    "You will be surprised that over time, _several dozen_ metrics have been proposed \\cite{Wong2016}, each performing somewhat better or somewhat worse depending on which benchmark they were applied on. The two metrics discussed above each have their merits – the Tarantula metric was among the first such metrics, and the Ochiai metric is generally shown to be among the most effective ones \\cite{Abreu2009}."
   ]
  },
  {
   "cell_type": "markdown",
   "metadata": {
    "slideshow": {
     "slide_type": "subslide"
    }
   },
   "source": [
    "While rankings can be easily _evaluated_, it is not necessarily clear whether and how much they serve programmers. As stated above, the assumption of rankings is that developers examine one potentially defective statement after another until they find the actually defective one. However, in a series of human studies with developers, Parnin and Orso \\cite{Parnin2011} found that this assumption may not hold:\n",
    "\n",
    "> It is unclear whether developers can actually determine the faulty nature of a statement by simply looking at it, without any additional information (e.g., the state of the program when the statement was executed or the statements that were executed before or after that one).\n",
    "\n",
    "In their study, they found that rankings could help completing a task faster, but this effect was limited to experienced developers and simpler code. Artificially changing the rank of faulty statements had little to no effect, implying that developers would not strictly follow the ranked list of statements, but rather search through the code to understand it. At this point, a _visualization_ as in the Tarantula tool can be helpful to programmers as it _guides_ the search, but a _ranking_ that _defines_ where to search may be less useful."
   ]
  },
  {
   "cell_type": "markdown",
   "metadata": {
    "slideshow": {
     "slide_type": "subslide"
    }
   },
   "source": [
    "Having said that, ranking has its merits – notably as it comes to informing _automated_ debugging techniques. In the [chapter on program repair](Repairer.ipynb), we will see how ranked lists of potentially faulty statements tell automated repair techniques where to try to repair the program first. And once such a repair is successful, we have a very strong indication on where and how the program could be fixed!"
   ]
  },
  {
   "cell_type": "markdown",
   "metadata": {
    "slideshow": {
     "slide_type": "slide"
    }
   },
   "source": [
    "## Using Large Test Suites"
   ]
  },
  {
   "cell_type": "markdown",
   "metadata": {
    "slideshow": {
     "slide_type": "fragment"
    }
   },
   "source": [
    "In fault localization, the larger and the more thorough the test suite, the higher the precision. Let us try out what happens if we extend the `middle()` test suite with additional test cases."
   ]
  },
  {
   "cell_type": "markdown",
   "metadata": {
    "slideshow": {
     "slide_type": "fragment"
    }
   },
   "source": [
    "The function `middle_testcase()` returns a random input for `middle()`:"
   ]
  },
  {
   "cell_type": "code",
   "execution_count": 123,
   "metadata": {
    "execution": {
     "iopub.execute_input": "2024-01-17T21:32:47.119966Z",
     "iopub.status.busy": "2024-01-17T21:32:47.119865Z",
     "iopub.status.idle": "2024-01-17T21:32:47.121372Z",
     "shell.execute_reply": "2024-01-17T21:32:47.121126Z"
    },
    "slideshow": {
     "slide_type": "skip"
    }
   },
   "outputs": [],
   "source": [
    "import random"
   ]
  },
  {
   "cell_type": "code",
   "execution_count": 124,
   "metadata": {
    "execution": {
     "iopub.execute_input": "2024-01-17T21:32:47.122794Z",
     "iopub.status.busy": "2024-01-17T21:32:47.122712Z",
     "iopub.status.idle": "2024-01-17T21:32:47.124581Z",
     "shell.execute_reply": "2024-01-17T21:32:47.124347Z"
    },
    "slideshow": {
     "slide_type": "fragment"
    }
   },
   "outputs": [],
   "source": [
    "def middle_testcase() -> Tuple[int, int, int]:\n",
    "    x = random.randrange(10)\n",
    "    y = random.randrange(10)\n",
    "    z = random.randrange(10)\n",
    "    return x, y, z"
   ]
  },
  {
   "cell_type": "code",
   "execution_count": 125,
   "metadata": {
    "execution": {
     "iopub.execute_input": "2024-01-17T21:32:47.125973Z",
     "iopub.status.busy": "2024-01-17T21:32:47.125893Z",
     "iopub.status.idle": "2024-01-17T21:32:47.128137Z",
     "shell.execute_reply": "2024-01-17T21:32:47.127916Z"
    },
    "slideshow": {
     "slide_type": "fragment"
    }
   },
   "outputs": [
    {
     "data": {
      "text/plain": [
       "[(9, 0, 5), (0, 1, 9), (9, 0, 9), (2, 9, 0), (4, 7, 2)]"
      ]
     },
     "execution_count": 125,
     "metadata": {},
     "output_type": "execute_result"
    }
   ],
   "source": [
    "[middle_testcase() for i in range(5)]"
   ]
  },
  {
   "cell_type": "markdown",
   "metadata": {
    "slideshow": {
     "slide_type": "subslide"
    }
   },
   "source": [
    "The function `middle_test()` simply checks if `middle()` operates correctly – by placing `x`, `y`, and `z` in a list, sorting it, and checking the middle argument. If `middle()` fails, `middle_test()` raises an exception."
   ]
  },
  {
   "cell_type": "code",
   "execution_count": 126,
   "metadata": {
    "execution": {
     "iopub.execute_input": "2024-01-17T21:32:47.129486Z",
     "iopub.status.busy": "2024-01-17T21:32:47.129404Z",
     "iopub.status.idle": "2024-01-17T21:32:47.131228Z",
     "shell.execute_reply": "2024-01-17T21:32:47.131018Z"
    },
    "slideshow": {
     "slide_type": "fragment"
    }
   },
   "outputs": [],
   "source": [
    "def middle_test(x: int, y: int, z: int) -> None:\n",
    "    m = middle(x, y, z)\n",
    "    assert m == sorted([x, y, z])[1]"
   ]
  },
  {
   "cell_type": "code",
   "execution_count": 127,
   "metadata": {
    "execution": {
     "iopub.execute_input": "2024-01-17T21:32:47.132637Z",
     "iopub.status.busy": "2024-01-17T21:32:47.132555Z",
     "iopub.status.idle": "2024-01-17T21:32:47.134194Z",
     "shell.execute_reply": "2024-01-17T21:32:47.133938Z"
    },
    "slideshow": {
     "slide_type": "fragment"
    }
   },
   "outputs": [],
   "source": [
    "middle_test(4, 5, 6)"
   ]
  },
  {
   "cell_type": "code",
   "execution_count": 128,
   "metadata": {
    "execution": {
     "iopub.execute_input": "2024-01-17T21:32:47.135593Z",
     "iopub.status.busy": "2024-01-17T21:32:47.135511Z",
     "iopub.status.idle": "2024-01-17T21:32:47.137225Z",
     "shell.execute_reply": "2024-01-17T21:32:47.136935Z"
    },
    "slideshow": {
     "slide_type": "skip"
    }
   },
   "outputs": [],
   "source": [
    "from ExpectError import ExpectError"
   ]
  },
  {
   "cell_type": "code",
   "execution_count": 129,
   "metadata": {
    "execution": {
     "iopub.execute_input": "2024-01-17T21:32:47.138598Z",
     "iopub.status.busy": "2024-01-17T21:32:47.138519Z",
     "iopub.status.idle": "2024-01-17T21:32:47.140423Z",
     "shell.execute_reply": "2024-01-17T21:32:47.140120Z"
    },
    "slideshow": {
     "slide_type": "subslide"
    }
   },
   "outputs": [
    {
     "name": "stderr",
     "output_type": "stream",
     "text": [
      "Traceback (most recent call last):\n",
      "  File \"/var/folders/n2/xd9445p97rb3xh7m1dfx8_4h0006ts/T/ipykernel_46774/3661663124.py\", line 2, in <cell line: 1>\n",
      "    middle_test(2, 1, 3)\n",
      "  File \"/var/folders/n2/xd9445p97rb3xh7m1dfx8_4h0006ts/T/ipykernel_46774/40742806.py\", line 3, in middle_test\n",
      "    assert m == sorted([x, y, z])[1]\n",
      "AssertionError (expected)\n"
     ]
    }
   ],
   "source": [
    "with ExpectError():\n",
    "    middle_test(2, 1, 3)"
   ]
  },
  {
   "cell_type": "markdown",
   "metadata": {
    "slideshow": {
     "slide_type": "fragment"
    }
   },
   "source": [
    "The function `middle_passing_testcase()` searches and returns a triple `x`, `y`, `z` that causes `middle_test()` to pass."
   ]
  },
  {
   "cell_type": "code",
   "execution_count": 130,
   "metadata": {
    "execution": {
     "iopub.execute_input": "2024-01-17T21:32:47.142181Z",
     "iopub.status.busy": "2024-01-17T21:32:47.142037Z",
     "iopub.status.idle": "2024-01-17T21:32:47.144132Z",
     "shell.execute_reply": "2024-01-17T21:32:47.143849Z"
    },
    "slideshow": {
     "slide_type": "subslide"
    }
   },
   "outputs": [],
   "source": [
    "def middle_passing_testcase() -> Tuple[int, int, int]:\n",
    "    while True:\n",
    "        try:\n",
    "            x, y, z = middle_testcase()\n",
    "            middle_test(x, y, z)\n",
    "            return x, y, z\n",
    "        except AssertionError:\n",
    "            pass"
   ]
  },
  {
   "cell_type": "code",
   "execution_count": 131,
   "metadata": {
    "execution": {
     "iopub.execute_input": "2024-01-17T21:32:47.145541Z",
     "iopub.status.busy": "2024-01-17T21:32:47.145452Z",
     "iopub.status.idle": "2024-01-17T21:32:47.147485Z",
     "shell.execute_reply": "2024-01-17T21:32:47.147241Z"
    },
    "slideshow": {
     "slide_type": "fragment"
    }
   },
   "outputs": [
    {
     "name": "stdout",
     "output_type": "stream",
     "text": [
      "middle(1, 6, 1) = 1\n"
     ]
    }
   ],
   "source": [
    "(x, y, z) = middle_passing_testcase()\n",
    "m = middle(x, y, z)\n",
    "print(f\"middle({x}, {y}, {z}) = {m}\")"
   ]
  },
  {
   "cell_type": "markdown",
   "metadata": {
    "slideshow": {
     "slide_type": "fragment"
    }
   },
   "source": [
    "The function `middle_failing_testcase()` does the same; but its triple `x`, `y`, `z` causes `middle_test()` to fail."
   ]
  },
  {
   "cell_type": "code",
   "execution_count": 132,
   "metadata": {
    "execution": {
     "iopub.execute_input": "2024-01-17T21:32:47.148993Z",
     "iopub.status.busy": "2024-01-17T21:32:47.148911Z",
     "iopub.status.idle": "2024-01-17T21:32:47.150973Z",
     "shell.execute_reply": "2024-01-17T21:32:47.150635Z"
    },
    "slideshow": {
     "slide_type": "subslide"
    }
   },
   "outputs": [],
   "source": [
    "def middle_failing_testcase() -> Tuple[int, int, int]:\n",
    "    while True:\n",
    "        try:\n",
    "            x, y, z = middle_testcase()\n",
    "            middle_test(x, y, z)\n",
    "        except AssertionError:\n",
    "            return x, y, z"
   ]
  },
  {
   "cell_type": "code",
   "execution_count": 133,
   "metadata": {
    "execution": {
     "iopub.execute_input": "2024-01-17T21:32:47.152582Z",
     "iopub.status.busy": "2024-01-17T21:32:47.152496Z",
     "iopub.status.idle": "2024-01-17T21:32:47.154368Z",
     "shell.execute_reply": "2024-01-17T21:32:47.154105Z"
    },
    "slideshow": {
     "slide_type": "fragment"
    }
   },
   "outputs": [
    {
     "name": "stdout",
     "output_type": "stream",
     "text": [
      "middle(5, 2, 6) = 2\n"
     ]
    }
   ],
   "source": [
    "(x, y, z) = middle_failing_testcase()\n",
    "m = middle(x, y, z)\n",
    "print(f\"middle({x}, {y}, {z}) = {m}\")"
   ]
  },
  {
   "cell_type": "markdown",
   "metadata": {
    "slideshow": {
     "slide_type": "fragment"
    }
   },
   "source": [
    "With these, we can define two sets of test cases, each with 100 inputs."
   ]
  },
  {
   "cell_type": "code",
   "execution_count": 134,
   "metadata": {
    "execution": {
     "iopub.execute_input": "2024-01-17T21:32:47.155830Z",
     "iopub.status.busy": "2024-01-17T21:32:47.155744Z",
     "iopub.status.idle": "2024-01-17T21:32:47.157405Z",
     "shell.execute_reply": "2024-01-17T21:32:47.157152Z"
    },
    "slideshow": {
     "slide_type": "fragment"
    }
   },
   "outputs": [],
   "source": [
    "MIDDLE_TESTS = 100"
   ]
  },
  {
   "cell_type": "code",
   "execution_count": 135,
   "metadata": {
    "execution": {
     "iopub.execute_input": "2024-01-17T21:32:47.158824Z",
     "iopub.status.busy": "2024-01-17T21:32:47.158747Z",
     "iopub.status.idle": "2024-01-17T21:32:47.160594Z",
     "shell.execute_reply": "2024-01-17T21:32:47.160353Z"
    },
    "slideshow": {
     "slide_type": "subslide"
    }
   },
   "outputs": [],
   "source": [
    "MIDDLE_PASSING_TESTCASES = [middle_passing_testcase()\n",
    "                            for i in range(MIDDLE_TESTS)]"
   ]
  },
  {
   "cell_type": "code",
   "execution_count": 136,
   "metadata": {
    "execution": {
     "iopub.execute_input": "2024-01-17T21:32:47.161994Z",
     "iopub.status.busy": "2024-01-17T21:32:47.161907Z",
     "iopub.status.idle": "2024-01-17T21:32:47.164382Z",
     "shell.execute_reply": "2024-01-17T21:32:47.164154Z"
    },
    "slideshow": {
     "slide_type": "fragment"
    }
   },
   "outputs": [],
   "source": [
    "MIDDLE_FAILING_TESTCASES = [middle_failing_testcase()\n",
    "                            for i in range(MIDDLE_TESTS)]"
   ]
  },
  {
   "cell_type": "markdown",
   "metadata": {
    "slideshow": {
     "slide_type": "fragment"
    }
   },
   "source": [
    "Let us run the `OchiaiDebugger` with these two test sets."
   ]
  },
  {
   "cell_type": "code",
   "execution_count": 137,
   "metadata": {
    "execution": {
     "iopub.execute_input": "2024-01-17T21:32:47.165811Z",
     "iopub.status.busy": "2024-01-17T21:32:47.165730Z",
     "iopub.status.idle": "2024-01-17T21:32:47.170445Z",
     "shell.execute_reply": "2024-01-17T21:32:47.170203Z"
    },
    "slideshow": {
     "slide_type": "fragment"
    }
   },
   "outputs": [],
   "source": [
    "ochiai_middle = OchiaiDebugger()\n",
    "\n",
    "for x, y, z in MIDDLE_PASSING_TESTCASES:\n",
    "    with ochiai_middle.collect_pass():\n",
    "        middle(x, y, z)\n",
    "\n",
    "for x, y, z in MIDDLE_FAILING_TESTCASES:\n",
    "    with ochiai_middle.collect_fail():\n",
    "        middle(x, y, z)"
   ]
  },
  {
   "cell_type": "code",
   "execution_count": 138,
   "metadata": {
    "execution": {
     "iopub.execute_input": "2024-01-17T21:32:47.171796Z",
     "iopub.status.busy": "2024-01-17T21:32:47.171712Z",
     "iopub.status.idle": "2024-01-17T21:32:47.189055Z",
     "shell.execute_reply": "2024-01-17T21:32:47.188719Z"
    },
    "slideshow": {
     "slide_type": "subslide"
    }
   },
   "outputs": [
    {
     "data": {
      "text/html": [
       "<pre style=\"background-color:hsl(35.14718625761431, 100.0%, 80%)\"\n",
       "                    title=\"Line 1:  70%\">   1 def middle(x, y, z):  # type: ignore</pre>\n",
       "<pre style=\"background-color:hsl(35.14718625761431, 100.0%, 80%)\"\n",
       "                    title=\"Line 2:  70%\">   2     if y &lt; z:</pre>\n",
       "<pre style=\"background-color:hsl(14.34589124092514, 100.0%, 80%)\"\n",
       "                    title=\"Line 3:  88%\">   3         if x &lt; y:</pre>\n",
       "<pre style=\"background-color:hsl(120.0, 7.000000000000001%, 80%)\"\n",
       "                    title=\"Line 4:   0%\">   4             return y</pre>\n",
       "<pre style=\"background-color:hsl(11.357104748977767, 100.0%, 80%)\"\n",
       "                    title=\"Line 5:  90%\">   5         elif x &lt; z:</pre>\n",
       "<pre style=\"background-color:hsl(4.529946162074849, 100.0%, 80%)\"\n",
       "                    title=\"Line 6:  96%\">   6             return y</pre>\n",
       "<pre title=\"Line 7: not executed\">   7     else:\n",
       "</pre>\n",
       "<pre style=\"background-color:hsl(120.0, 71.0%, 80%)\"\n",
       "                    title=\"Line 8:   0%\">   8         if x &gt; y:</pre>\n",
       "<pre style=\"background-color:hsl(120.0, 20.0%, 80%)\"\n",
       "                    title=\"Line 9:   0%\">   9             return y</pre>\n",
       "<pre style=\"background-color:hsl(120.0, 51.0%, 80%)\"\n",
       "                    title=\"Line 10:   0%\">  10         elif x &gt; z:</pre>\n",
       "<pre style=\"background-color:hsl(120.0, 19.0%, 80%)\"\n",
       "                    title=\"Line 11:   0%\">  11             return x</pre>\n",
       "<pre style=\"background-color:hsl(120.0, 46.0%, 80%)\"\n",
       "                    title=\"Line 12:   0%\">  12     return z</pre>\n"
      ],
      "text/markdown": [
       "| `middle` | `x=7, y=5, z=4` | `x=6, y=6, z=2` | `x=7, y=6, z=4` | `x=0, y=7, z=7` | `x=3, y=9, z=7` | `x=2, y=3, z=8` | `x=2, y=6, z=3` | `x=2, y=8, z=4` | `x=8, y=7, z=5` | `x=0, y=0, z=6` | `x=5, y=2, z=5` | `x=9, y=6, z=9` | `x=8, y=5, z=5` | `x=1, y=7, z=0` | `x=0, y=4, z=4` | `x=8, y=7, z=5` | `x=7, y=1, z=5` | `x=3, y=5, z=3` | `x=6, y=3, z=2` | `x=3, y=9, z=8` | `x=1, y=3, z=8` | `x=5, y=9, z=1` | `x=5, y=5, z=7` | `x=9, y=0, z=3` | `x=5, y=6, z=3` | `x=7, y=9, z=8` | `x=2, y=2, z=3` | `x=1, y=8, z=1` | `x=3, y=3, z=3` | `x=7, y=3, z=6` | `x=3, y=7, z=6` | `x=2, y=3, z=1` | `x=8, y=0, z=6` | `x=5, y=4, z=0` | `x=5, y=9, z=2` | `x=6, y=7, z=1` | `x=1, y=1, z=7` | `x=1, y=6, z=8` | `x=0, y=9, z=1` | `x=5, y=9, z=7` | `x=1, y=5, z=6` | `x=1, y=6, z=1` | `x=7, y=8, z=4` | `x=2, y=8, z=4` | `x=3, y=4, z=3` | `x=8, y=4, z=5` | `x=0, y=5, z=8` | `x=9, y=7, z=0` | `x=1, y=5, z=4` | `x=9, y=8, z=9` | `x=9, y=2, z=4` | `x=3, y=2, z=0` | `x=8, y=5, z=2` | `x=4, y=9, z=7` | `x=4, y=8, z=0` | `x=5, y=9, z=1` | `x=7, y=6, z=4` | `x=8, y=9, z=2` | `x=9, y=1, z=4` | `x=9, y=7, z=2` | `x=1, y=9, z=5` | `x=1, y=9, z=1` | `x=7, y=8, z=0` | `x=4, y=8, z=6` | `x=9, y=2, z=1` | `x=9, y=4, z=5` | `x=0, y=4, z=2` | `x=6, y=8, z=4` | `x=0, y=0, z=1` | `x=6, y=4, z=3` | `x=8, y=0, z=3` | `x=9, y=5, z=1` | `x=7, y=6, z=6` | `x=4, y=6, z=0` | `x=1, y=1, z=0` | `x=8, y=4, z=1` | `x=1, y=6, z=2` | `x=4, y=5, z=1` | `x=1, y=1, z=6` | `x=1, y=2, z=1` | `x=2, y=4, z=2` | `x=7, y=3, z=3` | `x=2, y=7, z=4` | `x=0, y=8, z=0` | `x=4, y=6, z=4` | `x=1, y=5, z=2` | `x=0, y=8, z=2` | `x=3, y=5, z=6` | `x=7, y=2, z=4` | `x=5, y=4, z=5` | `x=2, y=3, z=4` | `x=2, y=2, z=4` | `x=3, y=6, z=2` | `x=9, y=4, z=0` | `x=7, y=7, z=0` | `x=4, y=9, z=8` | `x=3, y=8, z=4` | `x=3, y=3, z=5` | `x=3, y=2, z=2` | `x=8, y=8, z=1` | `x=2, y=1, z=5` | `x=5, y=2, z=9` | `x=2, y=1, z=3` | `x=3, y=0, z=7` | `x=4, y=1, z=6` | `x=2, y=0, z=9` | `x=4, y=3, z=7` | `x=5, y=3, z=8` | `x=6, y=0, z=9` | `x=2, y=0, z=4` | `x=4, y=0, z=5` | `x=6, y=5, z=9` | `x=5, y=3, z=9` | `x=7, y=0, z=9` | `x=5, y=3, z=9` | `x=2, y=1, z=6` | `x=3, y=2, z=4` | `x=2, y=1, z=5` | `x=3, y=2, z=6` | `x=6, y=4, z=7` | `x=5, y=2, z=6` | `x=4, y=2, z=5` | `x=6, y=2, z=9` | `x=4, y=2, z=8` | `x=2, y=0, z=3` | `x=2, y=1, z=5` | `x=2, y=1, z=9` | `x=7, y=6, z=9` | `x=6, y=0, z=9` | `x=7, y=6, z=9` | `x=8, y=6, z=9` | `x=7, y=6, z=9` | `x=1, y=0, z=2` | `x=1, y=0, z=3` | `x=3, y=2, z=7` | `x=6, y=5, z=9` | `x=1, y=0, z=3` | `x=6, y=4, z=7` | `x=8, y=7, z=9` | `x=2, y=0, z=4` | `x=5, y=1, z=7` | `x=6, y=4, z=9` | `x=8, y=0, z=9` | `x=2, y=1, z=4` | `x=4, y=1, z=8` | `x=3, y=0, z=4` | `x=3, y=1, z=5` | `x=7, y=5, z=8` | `x=6, y=2, z=9` | `x=2, y=0, z=4` | `x=7, y=6, z=9` | `x=2, y=1, z=6` | `x=3, y=0, z=8` | `x=5, y=3, z=8` | `x=5, y=0, z=9` | `x=4, y=0, z=9` | `x=7, y=5, z=8` | `x=4, y=2, z=7` | `x=3, y=1, z=6` | `x=2, y=0, z=4` | `x=4, y=0, z=8` | `x=2, y=1, z=8` | `x=5, y=3, z=9` | `x=4, y=3, z=5` | `x=6, y=4, z=9` | `x=7, y=6, z=8` | `x=3, y=1, z=9` | `x=4, y=2, z=7` | `x=1, y=0, z=6` | `x=1, y=0, z=5` | `x=7, y=0, z=9` | `x=4, y=0, z=7` | `x=3, y=2, z=9` | `x=4, y=1, z=6` | `x=5, y=2, z=9` | `x=8, y=0, z=9` | `x=2, y=1, z=9` | `x=4, y=3, z=6` | `x=6, y=0, z=9` | `x=3, y=1, z=4` | `x=7, y=6, z=8` | `x=6, y=1, z=7` | `x=6, y=2, z=7` | `x=3, y=0, z=9` | `x=5, y=4, z=9` | `x=8, y=6, z=9` | `x=5, y=3, z=6` | `x=2, y=1, z=7` | `x=3, y=0, z=5` | `x=6, y=1, z=8` | `x=2, y=0, z=5` | `x=2, y=0, z=9` | `x=6, y=5, z=8` | `x=2, y=0, z=4` | `x=5, y=0, z=9` | `x=1, y=0, z=9` | `x=3, y=1, z=6` | `x=3, y=1, z=5` | `x=5, y=1, z=9` | `x=6, y=2, z=7` | \n",
       "| --------- | ---- | ---- | ---- | ---- | ---- | ---- | ---- | ---- | ---- | ---- | ---- | ---- | ---- | ---- | ---- | ---- | ---- | ---- | ---- | ---- | ---- | ---- | ---- | ---- | ---- | ---- | ---- | ---- | ---- | ---- | ---- | ---- | ---- | ---- | ---- | ---- | ---- | ---- | ---- | ---- | ---- | ---- | ---- | ---- | ---- | ---- | ---- | ---- | ---- | ---- | ---- | ---- | ---- | ---- | ---- | ---- | ---- | ---- | ---- | ---- | ---- | ---- | ---- | ---- | ---- | ---- | ---- | ---- | ---- | ---- | ---- | ---- | ---- | ---- | ---- | ---- | ---- | ---- | ---- | ---- | ---- | ---- | ---- | ---- | ---- | ---- | ---- | ---- | ---- | ---- | ---- | ---- | ---- | ---- | ---- | ---- | ---- | ---- | ---- | ---- | ---- | ---- | ---- | ---- | ---- | ---- | ---- | ---- | ---- | ---- | ---- | ---- | ---- | ---- | ---- | ---- | ---- | ---- | ---- | ---- | ---- | ---- | ---- | ---- | ---- | ---- | ---- | ---- | ---- | ---- | ---- | ---- | ---- | ---- | ---- | ---- | ---- | ---- | ---- | ---- | ---- | ---- | ---- | ---- | ---- | ---- | ---- | ---- | ---- | ---- | ---- | ---- | ---- | ---- | ---- | ---- | ---- | ---- | ---- | ---- | ---- | ---- | ---- | ---- | ---- | ---- | ---- | ---- | ---- | ---- | ---- | ---- | ---- | ---- | ---- | ---- | ---- | ---- | ---- | ---- | ---- | ---- | ---- | ---- | ---- | ---- | ---- | ---- | ---- | ---- | ---- | ---- | ---- | ---- | ---- | ---- | ---- | ---- | ---- | ---- | \n",
       "| <samp style=\"background-color: hsl(35.14718625761431, 100.0%, 80%)\" title=\" 70%\"> middle:1</samp> |    X |    X |    X |    X |    X |    X |    X |    X |    X |    X |    X |    X |    X |    X |    X |    X |    X |    X |    X |    X |    X |    X |    X |    X |    X |    X |    X |    X |    X |    X |    X |    X |    X |    X |    X |    X |    X |    X |    X |    X |    X |    X |    X |    X |    X |    X |    X |    X |    X |    X |    X |    X |    X |    X |    X |    X |    X |    X |    X |    X |    X |    X |    X |    X |    X |    X |    X |    X |    X |    X |    X |    X |    X |    X |    X |    X |    X |    X |    X |    X |    X |    X |    X |    X |    X |    X |    X |    X |    X |    X |    X |    X |    X |    X |    X |    X |    X |    X |    X |    X |    X |    X |    X |    X |    X |    X |    X |    X |    X |    X |    X |    X |    X |    X |    X |    X |    X |    X |    X |    X |    X |    X |    X |    X |    X |    X |    X |    X |    X |    X |    X |    X |    X |    X |    X |    X |    X |    X |    X |    X |    X |    X |    X |    X |    X |    X |    X |    X |    X |    X |    X |    X |    X |    X |    X |    X |    X |    X |    X |    X |    X |    X |    X |    X |    X |    X |    X |    X |    X |    X |    X |    X |    X |    X |    X |    X |    X |    X |    X |    X |    X |    X |    X |    X |    X |    X |    X |    X |    X |    X |    X |    X |    X |    X |    X |    X |    X |    X |    X |    X | \n",
       "| <samp style=\"background-color: hsl(35.14718625761431, 100.0%, 80%)\" title=\" 70%\"> middle:2</samp> |    X |    X |    X |    X |    X |    X |    X |    X |    X |    X |    X |    X |    X |    X |    X |    X |    X |    X |    X |    X |    X |    X |    X |    X |    X |    X |    X |    X |    X |    X |    X |    X |    X |    X |    X |    X |    X |    X |    X |    X |    X |    X |    X |    X |    X |    X |    X |    X |    X |    X |    X |    X |    X |    X |    X |    X |    X |    X |    X |    X |    X |    X |    X |    X |    X |    X |    X |    X |    X |    X |    X |    X |    X |    X |    X |    X |    X |    X |    X |    X |    X |    X |    X |    X |    X |    X |    X |    X |    X |    X |    X |    X |    X |    X |    X |    X |    X |    X |    X |    X |    X |    X |    X |    X |    X |    X |    X |    X |    X |    X |    X |    X |    X |    X |    X |    X |    X |    X |    X |    X |    X |    X |    X |    X |    X |    X |    X |    X |    X |    X |    X |    X |    X |    X |    X |    X |    X |    X |    X |    X |    X |    X |    X |    X |    X |    X |    X |    X |    X |    X |    X |    X |    X |    X |    X |    X |    X |    X |    X |    X |    X |    X |    X |    X |    X |    X |    X |    X |    X |    X |    X |    X |    X |    X |    X |    X |    X |    X |    X |    X |    X |    X |    X |    X |    X |    X |    X |    X |    X |    X |    X |    X |    X |    X |    X |    X |    X |    X |    X |    X | \n",
       "| <samp style=\"background-color: hsl(14.34589124092514, 100.0%, 80%)\" title=\" 88%\"> middle:3</samp> |    - |    - |    - |    - |    - |    X |    - |    - |    - |    X |    X |    X |    - |    - |    - |    - |    X |    - |    - |    - |    X |    - |    X |    X |    - |    - |    X |    - |    - |    X |    - |    - |    X |    - |    - |    - |    X |    X |    - |    - |    X |    - |    - |    - |    - |    X |    X |    - |    - |    X |    X |    - |    - |    - |    - |    - |    - |    - |    X |    - |    - |    - |    - |    - |    - |    X |    - |    - |    X |    - |    X |    - |    - |    - |    - |    - |    - |    - |    X |    - |    - |    - |    - |    - |    - |    - |    - |    X |    X |    X |    X |    X |    - |    - |    - |    - |    - |    X |    - |    - |    X |    X |    X |    X |    X |    X |    X |    X |    X |    X |    X |    X |    X |    X |    X |    X |    X |    X |    X |    X |    X |    X |    X |    X |    X |    X |    X |    X |    X |    X |    X |    X |    X |    X |    X |    X |    X |    X |    X |    X |    X |    X |    X |    X |    X |    X |    X |    X |    X |    X |    X |    X |    X |    X |    X |    X |    X |    X |    X |    X |    X |    X |    X |    X |    X |    X |    X |    X |    X |    X |    X |    X |    X |    X |    X |    X |    X |    X |    X |    X |    X |    X |    X |    X |    X |    X |    X |    X |    X |    X |    X |    X |    X |    X |    X |    X |    X |    X |    X |    X | \n",
       "| <samp style=\"background-color: hsl(120.0, 7.000000000000001%, 80%)\" title=\"  0%\"> middle:4</samp> |    - |    - |    - |    - |    - |    X |    - |    - |    - |    - |    - |    - |    - |    - |    - |    - |    - |    - |    - |    - |    X |    - |    - |    - |    - |    - |    - |    - |    - |    - |    - |    - |    - |    - |    - |    - |    - |    X |    - |    - |    X |    - |    - |    - |    - |    - |    X |    - |    - |    - |    - |    - |    - |    - |    - |    - |    - |    - |    - |    - |    - |    - |    - |    - |    - |    - |    - |    - |    - |    - |    - |    - |    - |    - |    - |    - |    - |    - |    - |    - |    - |    - |    - |    - |    - |    - |    - |    X |    - |    - |    X |    - |    - |    - |    - |    - |    - |    - |    - |    - |    - |    - |    - |    - |    - |    - |    - |    - |    - |    - |    - |    - |    - |    - |    - |    - |    - |    - |    - |    - |    - |    - |    - |    - |    - |    - |    - |    - |    - |    - |    - |    - |    - |    - |    - |    - |    - |    - |    - |    - |    - |    - |    - |    - |    - |    - |    - |    - |    - |    - |    - |    - |    - |    - |    - |    - |    - |    - |    - |    - |    - |    - |    - |    - |    - |    - |    - |    - |    - |    - |    - |    - |    - |    - |    - |    - |    - |    - |    - |    - |    - |    - |    - |    - |    - |    - |    - |    - |    - |    - |    - |    - |    - |    - |    - |    - |    - |    - |    - |    - | \n",
       "| <samp style=\"background-color: hsl(11.357104748977767, 100.0%, 80%)\" title=\" 90%\"> middle:5</samp> |    - |    - |    - |    - |    - |    - |    - |    - |    - |    X |    X |    X |    - |    - |    - |    - |    X |    - |    - |    - |    - |    - |    X |    X |    - |    - |    X |    - |    - |    X |    - |    - |    X |    - |    - |    - |    X |    - |    - |    - |    - |    - |    - |    - |    - |    X |    - |    - |    - |    X |    X |    - |    - |    - |    - |    - |    - |    - |    X |    - |    - |    - |    - |    - |    - |    X |    - |    - |    X |    - |    X |    - |    - |    - |    - |    - |    - |    - |    X |    - |    - |    - |    - |    - |    - |    - |    - |    - |    X |    X |    - |    X |    - |    - |    - |    - |    - |    X |    - |    - |    X |    X |    X |    X |    X |    X |    X |    X |    X |    X |    X |    X |    X |    X |    X |    X |    X |    X |    X |    X |    X |    X |    X |    X |    X |    X |    X |    X |    X |    X |    X |    X |    X |    X |    X |    X |    X |    X |    X |    X |    X |    X |    X |    X |    X |    X |    X |    X |    X |    X |    X |    X |    X |    X |    X |    X |    X |    X |    X |    X |    X |    X |    X |    X |    X |    X |    X |    X |    X |    X |    X |    X |    X |    X |    X |    X |    X |    X |    X |    X |    X |    X |    X |    X |    X |    X |    X |    X |    X |    X |    X |    X |    X |    X |    X |    X |    X |    X |    X |    X | \n",
       "| <samp style=\"background-color: hsl(4.529946162074849, 100.0%, 80%)\" title=\" 96%\"> middle:6</samp> |    - |    - |    - |    - |    - |    - |    - |    - |    - |    X |    - |    - |    - |    - |    - |    - |    - |    - |    - |    - |    - |    - |    X |    - |    - |    - |    X |    - |    - |    - |    - |    - |    - |    - |    - |    - |    X |    - |    - |    - |    - |    - |    - |    - |    - |    - |    - |    - |    - |    - |    - |    - |    - |    - |    - |    - |    - |    - |    - |    - |    - |    - |    - |    - |    - |    - |    - |    - |    X |    - |    - |    - |    - |    - |    - |    - |    - |    - |    X |    - |    - |    - |    - |    - |    - |    - |    - |    - |    - |    - |    - |    X |    - |    - |    - |    - |    - |    X |    - |    - |    X |    X |    X |    X |    X |    X |    X |    X |    X |    X |    X |    X |    X |    X |    X |    X |    X |    X |    X |    X |    X |    X |    X |    X |    X |    X |    X |    X |    X |    X |    X |    X |    X |    X |    X |    X |    X |    X |    X |    X |    X |    X |    X |    X |    X |    X |    X |    X |    X |    X |    X |    X |    X |    X |    X |    X |    X |    X |    X |    X |    X |    X |    X |    X |    X |    X |    X |    X |    X |    X |    X |    X |    X |    X |    X |    X |    X |    X |    X |    X |    X |    X |    X |    X |    X |    X |    X |    X |    X |    X |    X |    X |    X |    X |    X |    X |    X |    X |    X |    X | \n",
       "| <samp style=\"background-color: hsl(120.0, 71.0%, 80%)\" title=\"  0%\"> middle:8</samp> |    X |    X |    X |    X |    X |    - |    X |    X |    X |    - |    - |    - |    X |    X |    X |    X |    - |    X |    X |    X |    - |    X |    - |    - |    X |    X |    - |    X |    X |    - |    X |    X |    - |    X |    X |    X |    - |    - |    X |    X |    - |    X |    X |    X |    X |    - |    - |    X |    X |    - |    - |    X |    X |    X |    X |    X |    X |    X |    - |    X |    X |    X |    X |    X |    X |    - |    X |    X |    - |    X |    - |    X |    X |    X |    X |    X |    X |    X |    - |    X |    X |    X |    X |    X |    X |    X |    X |    - |    - |    - |    - |    - |    X |    X |    X |    X |    X |    - |    X |    X |    - |    - |    - |    - |    - |    - |    - |    - |    - |    - |    - |    - |    - |    - |    - |    - |    - |    - |    - |    - |    - |    - |    - |    - |    - |    - |    - |    - |    - |    - |    - |    - |    - |    - |    - |    - |    - |    - |    - |    - |    - |    - |    - |    - |    - |    - |    - |    - |    - |    - |    - |    - |    - |    - |    - |    - |    - |    - |    - |    - |    - |    - |    - |    - |    - |    - |    - |    - |    - |    - |    - |    - |    - |    - |    - |    - |    - |    - |    - |    - |    - |    - |    - |    - |    - |    - |    - |    - |    - |    - |    - |    - |    - |    - |    - |    - |    - |    - |    - |    - | \n",
       "| <samp style=\"background-color: hsl(120.0, 20.0%, 80%)\" title=\"  0%\"> middle:9</samp> |    X |    - |    X |    - |    - |    - |    - |    - |    X |    - |    - |    - |    X |    - |    - |    X |    - |    - |    X |    - |    - |    - |    - |    - |    - |    - |    - |    - |    - |    - |    - |    - |    - |    X |    - |    - |    - |    - |    - |    - |    - |    - |    - |    - |    - |    - |    - |    X |    - |    - |    - |    X |    X |    - |    - |    - |    X |    - |    - |    X |    - |    - |    - |    - |    X |    - |    - |    - |    - |    X |    - |    X |    X |    - |    - |    X |    - |    - |    - |    - |    - |    X |    - |    - |    - |    - |    - |    - |    - |    - |    - |    - |    - |    X |    - |    - |    - |    - |    X |    - |    - |    - |    - |    - |    - |    - |    - |    - |    - |    - |    - |    - |    - |    - |    - |    - |    - |    - |    - |    - |    - |    - |    - |    - |    - |    - |    - |    - |    - |    - |    - |    - |    - |    - |    - |    - |    - |    - |    - |    - |    - |    - |    - |    - |    - |    - |    - |    - |    - |    - |    - |    - |    - |    - |    - |    - |    - |    - |    - |    - |    - |    - |    - |    - |    - |    - |    - |    - |    - |    - |    - |    - |    - |    - |    - |    - |    - |    - |    - |    - |    - |    - |    - |    - |    - |    - |    - |    - |    - |    - |    - |    - |    - |    - |    - |    - |    - |    - |    - |    - | \n",
       "| <samp style=\"background-color: hsl(120.0, 51.0%, 80%)\" title=\"  0%\">middle:10</samp> |    - |    X |    - |    X |    X |    - |    X |    X |    - |    - |    - |    - |    - |    X |    X |    - |    - |    X |    - |    X |    - |    X |    - |    - |    X |    X |    - |    X |    X |    - |    X |    X |    - |    - |    X |    X |    - |    - |    X |    X |    - |    X |    X |    X |    X |    - |    - |    - |    X |    - |    - |    - |    - |    X |    X |    X |    - |    X |    - |    - |    X |    X |    X |    X |    - |    - |    X |    X |    - |    - |    - |    - |    - |    X |    X |    - |    X |    X |    - |    X |    X |    - |    X |    X |    X |    X |    X |    - |    - |    - |    - |    - |    X |    - |    X |    X |    X |    - |    - |    X |    - |    - |    - |    - |    - |    - |    - |    - |    - |    - |    - |    - |    - |    - |    - |    - |    - |    - |    - |    - |    - |    - |    - |    - |    - |    - |    - |    - |    - |    - |    - |    - |    - |    - |    - |    - |    - |    - |    - |    - |    - |    - |    - |    - |    - |    - |    - |    - |    - |    - |    - |    - |    - |    - |    - |    - |    - |    - |    - |    - |    - |    - |    - |    - |    - |    - |    - |    - |    - |    - |    - |    - |    - |    - |    - |    - |    - |    - |    - |    - |    - |    - |    - |    - |    - |    - |    - |    - |    - |    - |    - |    - |    - |    - |    - |    - |    - |    - |    - |    - | \n",
       "| <samp style=\"background-color: hsl(120.0, 19.0%, 80%)\" title=\"  0%\">middle:11</samp> |    - |    X |    - |    - |    - |    - |    - |    - |    - |    - |    - |    - |    - |    X |    - |    - |    - |    - |    - |    - |    - |    X |    - |    - |    X |    - |    - |    - |    - |    - |    - |    X |    - |    - |    X |    X |    - |    - |    - |    - |    - |    - |    X |    - |    - |    - |    - |    - |    - |    - |    - |    - |    - |    - |    X |    X |    - |    X |    - |    - |    - |    - |    X |    - |    - |    - |    - |    X |    - |    - |    - |    - |    - |    X |    X |    - |    - |    X |    - |    - |    - |    - |    - |    - |    - |    - |    - |    - |    - |    - |    - |    - |    X |    - |    X |    - |    - |    - |    - |    X |    - |    - |    - |    - |    - |    - |    - |    - |    - |    - |    - |    - |    - |    - |    - |    - |    - |    - |    - |    - |    - |    - |    - |    - |    - |    - |    - |    - |    - |    - |    - |    - |    - |    - |    - |    - |    - |    - |    - |    - |    - |    - |    - |    - |    - |    - |    - |    - |    - |    - |    - |    - |    - |    - |    - |    - |    - |    - |    - |    - |    - |    - |    - |    - |    - |    - |    - |    - |    - |    - |    - |    - |    - |    - |    - |    - |    - |    - |    - |    - |    - |    - |    - |    - |    - |    - |    - |    - |    - |    - |    - |    - |    - |    - |    - |    - |    - |    - |    - |    - | \n",
       "| <samp style=\"background-color: hsl(120.0, 46.0%, 80%)\" title=\"  0%\">middle:12</samp> |    - |    - |    - |    X |    X |    - |    X |    X |    - |    - |    X |    X |    - |    - |    X |    - |    X |    X |    - |    X |    - |    - |    - |    X |    - |    X |    - |    X |    X |    X |    X |    - |    X |    - |    - |    - |    - |    - |    X |    X |    - |    X |    - |    X |    X |    X |    - |    - |    X |    X |    X |    - |    - |    X |    - |    - |    - |    - |    X |    - |    X |    X |    - |    X |    - |    X |    X |    - |    - |    - |    X |    - |    - |    - |    - |    - |    X |    - |    - |    X |    X |    - |    X |    X |    X |    X |    X |    - |    X |    X |    - |    - |    - |    - |    - |    X |    X |    - |    - |    - |    - |    - |    - |    - |    - |    - |    - |    - |    - |    - |    - |    - |    - |    - |    - |    - |    - |    - |    - |    - |    - |    - |    - |    - |    - |    - |    - |    - |    - |    - |    - |    - |    - |    - |    - |    - |    - |    - |    - |    - |    - |    - |    - |    - |    - |    - |    - |    - |    - |    - |    - |    - |    - |    - |    - |    - |    - |    - |    - |    - |    - |    - |    - |    - |    - |    - |    - |    - |    - |    - |    - |    - |    - |    - |    - |    - |    - |    - |    - |    - |    - |    - |    - |    - |    - |    - |    - |    - |    - |    - |    - |    - |    - |    - |    - |    - |    - |    - |    - |    - | \n"
      ],
      "text/plain": [
       "[('middle', 6), ('middle', 5), ('middle', 3), ('middle', 2), ('middle', 1), ('middle', 9), ('middle', 12), ('middle', 11), ('middle', 8), ('middle', 4), ('middle', 10)]"
      ]
     },
     "execution_count": 138,
     "metadata": {},
     "output_type": "execute_result"
    }
   ],
   "source": [
    "ochiai_middle"
   ]
  },
  {
   "cell_type": "markdown",
   "metadata": {
    "slideshow": {
     "slide_type": "fragment"
    }
   },
   "source": [
    "We see that the \"culprit\" line is still the most likely to be fixed, but the two conditions leading to the error (`x < y` and `x < z`) are also listed as potentially faulty. That is because the error might also be fixed be changing these conditions – although this would result in a more complex fix."
   ]
  },
  {
   "cell_type": "markdown",
   "metadata": {
    "slideshow": {
     "slide_type": "slide"
    }
   },
   "source": [
    "## Other Events besides Coverage\n",
    "\n",
    "We close this chapter with two directions for further thought. If you wondered why in the above code, we were mostly talking about `events` rather than lines covered, that is because our framework allows for tracking arbitrary events, not just coverage. In fact, any data item a collector can extract from the execution can be used for correlation analysis. (It may not be so easily visualized, though.)"
   ]
  },
  {
   "cell_type": "markdown",
   "metadata": {
    "slideshow": {
     "slide_type": "fragment"
    }
   },
   "source": [
    "Here's an example. We define a `ValueCollector` class that collects pairs of (local) variables and their values during execution. Its `events()` method then returns the set of all these pairs."
   ]
  },
  {
   "cell_type": "code",
   "execution_count": 139,
   "metadata": {
    "execution": {
     "iopub.execute_input": "2024-01-17T21:32:47.190945Z",
     "iopub.status.busy": "2024-01-17T21:32:47.190827Z",
     "iopub.status.idle": "2024-01-17T21:32:47.193357Z",
     "shell.execute_reply": "2024-01-17T21:32:47.193104Z"
    },
    "slideshow": {
     "slide_type": "subslide"
    }
   },
   "outputs": [],
   "source": [
    "class ValueCollector(Collector):\n",
    "    \"\"\"\"A class to collect local variables and their values.\"\"\"\n",
    "\n",
    "    def __init__(self) -> None:\n",
    "        \"\"\"Constructor.\"\"\"\n",
    "        super().__init__()\n",
    "        self.vars: Set[str] = set()\n",
    "\n",
    "    def collect(self, frame: FrameType, event: str, arg: Any) -> None:\n",
    "        local_vars = frame.f_locals\n",
    "        for var in local_vars:\n",
    "            value = local_vars[var]\n",
    "            self.vars.add(f\"{var} = {repr(value)}\")\n",
    "\n",
    "    def events(self) -> Set[str]:\n",
    "        \"\"\"A set of (variable, value) pairs observed\"\"\"\n",
    "        return self.vars"
   ]
  },
  {
   "cell_type": "markdown",
   "metadata": {
    "slideshow": {
     "slide_type": "subslide"
    }
   },
   "source": [
    "If we apply this collector on our set of HTML test cases, these are all the events that we obtain – essentially all variables and all values ever seen:"
   ]
  },
  {
   "cell_type": "code",
   "execution_count": 140,
   "metadata": {
    "execution": {
     "iopub.execute_input": "2024-01-17T21:32:47.194877Z",
     "iopub.status.busy": "2024-01-17T21:32:47.194777Z",
     "iopub.status.idle": "2024-01-17T21:32:47.197046Z",
     "shell.execute_reply": "2024-01-17T21:32:47.196806Z"
    },
    "slideshow": {
     "slide_type": "subslide"
    }
   },
   "outputs": [
    {
     "name": "stdout",
     "output_type": "stream",
     "text": [
      "out = ''\n",
      "tag = False\n",
      "out = 'ab'\n",
      "c = '>'\n",
      "c = '/'\n",
      "s = 'abc'\n",
      "c = 'b'\n",
      "s = '\"abc\"'\n",
      "quote = True\n",
      "out = 'a'\n",
      "c = 'c'\n",
      "c = '<'\n",
      "quote = False\n",
      "c = 'a'\n",
      "out = 'abc'\n",
      "c = '\"'\n",
      "s = '<b>abc</b>'\n",
      "tag = True\n"
     ]
    }
   ],
   "source": [
    "debugger = test_debugger_html(ContinuousSpectrumDebugger(ValueCollector))\n",
    "for event in debugger.all_events():\n",
    "    print(event)"
   ]
  },
  {
   "cell_type": "markdown",
   "metadata": {
    "slideshow": {
     "slide_type": "subslide"
    }
   },
   "source": [
    "However, some of these events only occur in the failing run:"
   ]
  },
  {
   "cell_type": "code",
   "execution_count": 141,
   "metadata": {
    "execution": {
     "iopub.execute_input": "2024-01-17T21:32:47.198549Z",
     "iopub.status.busy": "2024-01-17T21:32:47.198427Z",
     "iopub.status.idle": "2024-01-17T21:32:47.200074Z",
     "shell.execute_reply": "2024-01-17T21:32:47.199853Z"
    },
    "slideshow": {
     "slide_type": "fragment"
    }
   },
   "outputs": [
    {
     "name": "stdout",
     "output_type": "stream",
     "text": [
      "quote = True\n",
      "s = '\"abc\"'\n",
      "c = '\"'\n"
     ]
    }
   ],
   "source": [
    "for event in debugger.only_fail_events():\n",
    "    print(event)"
   ]
  },
  {
   "cell_type": "markdown",
   "metadata": {
    "slideshow": {
     "slide_type": "fragment"
    }
   },
   "source": [
    "Some of these differences are spurious – the string `\"abc\"` (with quotes) only occurs in the failing run – but others, such as `quote` being True and `c` containing a single quote are actually relevant for explaining when the failure comes to be."
   ]
  },
  {
   "cell_type": "markdown",
   "metadata": {
    "slideshow": {
     "slide_type": "fragment"
    }
   },
   "source": [
    "We can even visualize the suspiciousness of the individual events, setting the (so far undiscussed) `color` flag for producing an event table:"
   ]
  },
  {
   "cell_type": "code",
   "execution_count": 142,
   "metadata": {
    "execution": {
     "iopub.execute_input": "2024-01-17T21:32:47.201862Z",
     "iopub.status.busy": "2024-01-17T21:32:47.201560Z",
     "iopub.status.idle": "2024-01-17T21:32:47.203951Z",
     "shell.execute_reply": "2024-01-17T21:32:47.203722Z"
    },
    "slideshow": {
     "slide_type": "subslide"
    }
   },
   "outputs": [
    {
     "data": {
      "text/markdown": [
       "| `remove_html_markup` | `s='abc'` | `s='<b>abc</b>'` | `s='\"abc\"'` | \n",
       "| ---------------- | ---- | ---- | ---- | \n",
       "| <samp style=\"background-color: hsl(0.0, 100.0%, 80%)\" title=\"100%\">         c = &#x27;&quot;&#x27;</samp> |    - |    - |    X | \n",
       "| <samp style=\"background-color: hsl(120.0, 50.0%, 80%)\" title=\"  0%\">         c = &#x27;/&#x27;</samp> |    - |    X |    - | \n",
       "| <samp style=\"background-color: hsl(120.0, 50.0%, 80%)\" title=\"  0%\">         c = &#x27;&lt;&#x27;</samp> |    - |    X |    - | \n",
       "| <samp style=\"background-color: hsl(120.0, 50.0%, 80%)\" title=\"  0%\">         c = &#x27;&gt;&#x27;</samp> |    - |    X |    - | \n",
       "| <samp style=\"background-color: hsl(60.0, 100.0%, 80%)\" title=\" 50%\">         c = &#x27;a&#x27;</samp> |    X |    X |    X | \n",
       "| <samp style=\"background-color: hsl(60.0, 100.0%, 80%)\" title=\" 50%\">         c = &#x27;b&#x27;</samp> |    X |    X |    X | \n",
       "| <samp style=\"background-color: hsl(60.0, 100.0%, 80%)\" title=\" 50%\">         c = &#x27;c&#x27;</samp> |    X |    X |    X | \n",
       "| <samp style=\"background-color: hsl(60.0, 100.0%, 80%)\" title=\" 50%\">        out = &#x27;&#x27;</samp> |    X |    X |    X | \n",
       "| <samp style=\"background-color: hsl(60.0, 100.0%, 80%)\" title=\" 50%\">       out = &#x27;a&#x27;</samp> |    X |    X |    X | \n",
       "| <samp style=\"background-color: hsl(60.0, 100.0%, 80%)\" title=\" 50%\">      out = &#x27;ab&#x27;</samp> |    X |    X |    X | \n",
       "| <samp style=\"background-color: hsl(60.0, 100.0%, 80%)\" title=\" 50%\">     out = &#x27;abc&#x27;</samp> |    X |    X |    X | \n",
       "| <samp style=\"background-color: hsl(60.0, 100.0%, 80%)\" title=\" 50%\">   quote = False</samp> |    X |    X |    X | \n",
       "| <samp style=\"background-color: hsl(0.0, 100.0%, 80%)\" title=\"100%\">    quote = True</samp> |    - |    - |    X | \n",
       "| <samp style=\"background-color: hsl(0.0, 100.0%, 80%)\" title=\"100%\">     s = &#x27;&quot;abc&quot;&#x27;</samp> |    - |    - |    X | \n",
       "| <samp style=\"background-color: hsl(120.0, 50.0%, 80%)\" title=\"  0%\">s = &#x27;&lt;b&gt;abc&lt;/b&gt;&#x27;</samp> |    - |    X |    - | \n",
       "| <samp style=\"background-color: hsl(120.0, 50.0%, 80%)\" title=\"  0%\">       s = &#x27;abc&#x27;</samp> |    X |    - |    - | \n",
       "| <samp style=\"background-color: hsl(60.0, 100.0%, 80%)\" title=\" 50%\">     tag = False</samp> |    X |    X |    X | \n",
       "| <samp style=\"background-color: hsl(120.0, 50.0%, 80%)\" title=\"  0%\">      tag = True</samp> |    - |    X |    - | \n"
      ],
      "text/plain": [
       "<IPython.core.display.Markdown object>"
      ]
     },
     "execution_count": 142,
     "metadata": {},
     "output_type": "execute_result"
    }
   ],
   "source": [
    "debugger.event_table(color=True, args=True)"
   ]
  },
  {
   "cell_type": "markdown",
   "metadata": {
    "slideshow": {
     "slide_type": "subslide"
    }
   },
   "source": [
    "There are many ways one can continue from here.\n",
    "\n",
    "* Rather than checking for concrete values, one could check for more _abstract properties_, for instance – what is the sign of the value? What is the length of the string? \n",
    "* One could check for specifics of the _control flow_ – is the loop taken? How many times?\n",
    "* One could check for specifics of the _information flow_ – which values flow from one variable to another?\n",
    "\n",
    "There are lots of properties that all could be related to failures – and if we happen to check for the right one, we may obtain a much crisper definition of what causes the failure. We will come up with more ideas on properties to check as it comes to [mining specifications](SpecificationMining,ipynb)."
   ]
  },
  {
   "cell_type": "markdown",
   "metadata": {
    "slideshow": {
     "slide_type": "slide"
    }
   },
   "source": [
    "## Training Classifiers\n",
    "\n",
    "The metrics we have discussed so far are pretty _generic_ – that is, they are fixed no matter how the actual event space is structured. The field of _machine learning_ has come up with techniques that learn _classifiers_ from a given set of data – classifiers that are trained from labeled data and then can predict labels for new data sets. In our case, the labels are test outcomes (PASS and FAIL), whereas the data would be features of the events observed."
   ]
  },
  {
   "cell_type": "markdown",
   "metadata": {
    "slideshow": {
     "slide_type": "fragment"
    }
   },
   "source": [
    "A classifier by itself is not immediately useful for debugging (although it could predict whether future inputs will fail or not). Some classifiers, however, have great _diagnostic_ quality; that is, they can _explain_ how their classification comes to be. [Decision trees](https://scikit-learn.org/stable/modules/tree.html) fall into this very category."
   ]
  },
  {
   "cell_type": "markdown",
   "metadata": {
    "slideshow": {
     "slide_type": "subslide"
    }
   },
   "source": [
    "A decision tree contains a number of _nodes_, each one associated with a predicate. Depending on whether the predicate is true or false, we follow the given \"true\" or \"false\" branch to end up in the next node, which again contains a predicate. Eventually, we end up in the outcome predicted by the tree. The neat thing is that the node predicates actually give important hints on the circumstances that are _most relevant_ for deciding the outcome."
   ]
  },
  {
   "cell_type": "markdown",
   "metadata": {
    "slideshow": {
     "slide_type": "fragment"
    }
   },
   "source": [
    "Let us illustrate this with an example. We build a class `ClassifyingDebugger` that trains a decision tree from the events collected. To this end, we need to set up our input data such that it can be fed into a classifier."
   ]
  },
  {
   "cell_type": "markdown",
   "metadata": {
    "slideshow": {
     "slide_type": "fragment"
    }
   },
   "source": [
    "We start with identifying our _samples_ (runs) and the respective _labels_ (outcomes). All values have to be encoded into numerical values."
   ]
  },
  {
   "cell_type": "code",
   "execution_count": 143,
   "metadata": {
    "execution": {
     "iopub.execute_input": "2024-01-17T21:32:47.205593Z",
     "iopub.status.busy": "2024-01-17T21:32:47.205493Z",
     "iopub.status.idle": "2024-01-17T21:32:47.207615Z",
     "shell.execute_reply": "2024-01-17T21:32:47.207395Z"
    },
    "slideshow": {
     "slide_type": "subslide"
    }
   },
   "outputs": [],
   "source": [
    "class ClassifyingDebugger(DifferenceDebugger):\n",
    "    \"\"\"A debugger implementing a decision tree for events\"\"\"\n",
    "\n",
    "    PASS_VALUE = +1.0\n",
    "    FAIL_VALUE = -1.0\n",
    "\n",
    "    def samples(self) -> Dict[str, float]:\n",
    "        samples = {}\n",
    "        for collector in self.pass_collectors():\n",
    "            samples[collector.id()] = self.PASS_VALUE\n",
    "        for collector in debugger.fail_collectors():\n",
    "            samples[collector.id()] = self.FAIL_VALUE\n",
    "        return samples"
   ]
  },
  {
   "cell_type": "code",
   "execution_count": 144,
   "metadata": {
    "execution": {
     "iopub.execute_input": "2024-01-17T21:32:47.208981Z",
     "iopub.status.busy": "2024-01-17T21:32:47.208879Z",
     "iopub.status.idle": "2024-01-17T21:32:47.211219Z",
     "shell.execute_reply": "2024-01-17T21:32:47.210878Z"
    },
    "slideshow": {
     "slide_type": "subslide"
    }
   },
   "outputs": [
    {
     "data": {
      "text/plain": [
       "{\"remove_html_markup(s='abc')\": 1.0,\n",
       " \"remove_html_markup(s='<b>abc</b>')\": 1.0,\n",
       " 'remove_html_markup(s=\\'\"abc\"\\')': -1.0}"
      ]
     },
     "execution_count": 144,
     "metadata": {},
     "output_type": "execute_result"
    }
   ],
   "source": [
    "debugger = test_debugger_html(ClassifyingDebugger())\n",
    "debugger.samples()"
   ]
  },
  {
   "cell_type": "markdown",
   "metadata": {
    "slideshow": {
     "slide_type": "fragment"
    }
   },
   "source": [
    "Next, we identify the _features_, which in our case is the set of lines executed in each sample:"
   ]
  },
  {
   "cell_type": "code",
   "execution_count": 145,
   "metadata": {
    "execution": {
     "iopub.execute_input": "2024-01-17T21:32:47.212627Z",
     "iopub.status.busy": "2024-01-17T21:32:47.212527Z",
     "iopub.status.idle": "2024-01-17T21:32:47.214518Z",
     "shell.execute_reply": "2024-01-17T21:32:47.214289Z"
    },
    "slideshow": {
     "slide_type": "fragment"
    }
   },
   "outputs": [],
   "source": [
    "class ClassifyingDebugger(ClassifyingDebugger):\n",
    "    def features(self) -> Dict[str, Any]:\n",
    "        features = {}\n",
    "        for collector in debugger.pass_collectors():\n",
    "            features[collector.id()] = collector.events()\n",
    "        for collector in debugger.fail_collectors():\n",
    "            features[collector.id()] = collector.events()\n",
    "        return features"
   ]
  },
  {
   "cell_type": "code",
   "execution_count": 146,
   "metadata": {
    "execution": {
     "iopub.execute_input": "2024-01-17T21:32:47.215921Z",
     "iopub.status.busy": "2024-01-17T21:32:47.215811Z",
     "iopub.status.idle": "2024-01-17T21:32:47.218643Z",
     "shell.execute_reply": "2024-01-17T21:32:47.218384Z"
    },
    "slideshow": {
     "slide_type": "subslide"
    }
   },
   "outputs": [
    {
     "data": {
      "text/plain": [
       "{\"remove_html_markup(s='abc')\": {('remove_html_markup', 1),\n",
       "  ('remove_html_markup', 2),\n",
       "  ('remove_html_markup', 3),\n",
       "  ('remove_html_markup', 4),\n",
       "  ('remove_html_markup', 6),\n",
       "  ('remove_html_markup', 7),\n",
       "  ('remove_html_markup', 9),\n",
       "  ('remove_html_markup', 11),\n",
       "  ('remove_html_markup', 13),\n",
       "  ('remove_html_markup', 14),\n",
       "  ('remove_html_markup', 16)},\n",
       " \"remove_html_markup(s='<b>abc</b>')\": {('remove_html_markup', 1),\n",
       "  ('remove_html_markup', 2),\n",
       "  ('remove_html_markup', 3),\n",
       "  ('remove_html_markup', 4),\n",
       "  ('remove_html_markup', 6),\n",
       "  ('remove_html_markup', 7),\n",
       "  ('remove_html_markup', 8),\n",
       "  ('remove_html_markup', 9),\n",
       "  ('remove_html_markup', 10),\n",
       "  ('remove_html_markup', 11),\n",
       "  ('remove_html_markup', 13),\n",
       "  ('remove_html_markup', 14),\n",
       "  ('remove_html_markup', 16)},\n",
       " 'remove_html_markup(s=\\'\"abc\"\\')': {('remove_html_markup', 1),\n",
       "  ('remove_html_markup', 2),\n",
       "  ('remove_html_markup', 3),\n",
       "  ('remove_html_markup', 4),\n",
       "  ('remove_html_markup', 6),\n",
       "  ('remove_html_markup', 7),\n",
       "  ('remove_html_markup', 9),\n",
       "  ('remove_html_markup', 11),\n",
       "  ('remove_html_markup', 12),\n",
       "  ('remove_html_markup', 13),\n",
       "  ('remove_html_markup', 14),\n",
       "  ('remove_html_markup', 16)}}"
      ]
     },
     "execution_count": 146,
     "metadata": {},
     "output_type": "execute_result"
    }
   ],
   "source": [
    "debugger = test_debugger_html(ClassifyingDebugger())\n",
    "debugger.features()"
   ]
  },
  {
   "cell_type": "markdown",
   "metadata": {
    "slideshow": {
     "slide_type": "subslide"
    }
   },
   "source": [
    "All our features have names, which must be strings."
   ]
  },
  {
   "cell_type": "code",
   "execution_count": 147,
   "metadata": {
    "execution": {
     "iopub.execute_input": "2024-01-17T21:32:47.220091Z",
     "iopub.status.busy": "2024-01-17T21:32:47.219990Z",
     "iopub.status.idle": "2024-01-17T21:32:47.221698Z",
     "shell.execute_reply": "2024-01-17T21:32:47.221457Z"
    },
    "slideshow": {
     "slide_type": "fragment"
    }
   },
   "outputs": [],
   "source": [
    "class ClassifyingDebugger(ClassifyingDebugger):\n",
    "    def feature_names(self) -> List[str]:\n",
    "        return [repr(feature) for feature in self.all_events()]"
   ]
  },
  {
   "cell_type": "code",
   "execution_count": 148,
   "metadata": {
    "execution": {
     "iopub.execute_input": "2024-01-17T21:32:47.223060Z",
     "iopub.status.busy": "2024-01-17T21:32:47.222982Z",
     "iopub.status.idle": "2024-01-17T21:32:47.225306Z",
     "shell.execute_reply": "2024-01-17T21:32:47.225029Z"
    },
    "slideshow": {
     "slide_type": "subslide"
    }
   },
   "outputs": [
    {
     "data": {
      "text/plain": [
       "[\"('remove_html_markup', 4)\",\n",
       " \"('remove_html_markup', 1)\",\n",
       " \"('remove_html_markup', 7)\",\n",
       " \"('remove_html_markup', 10)\",\n",
       " \"('remove_html_markup', 16)\",\n",
       " \"('remove_html_markup', 13)\",\n",
       " \"('remove_html_markup', 2)\",\n",
       " \"('remove_html_markup', 11)\",\n",
       " \"('remove_html_markup', 8)\",\n",
       " \"('remove_html_markup', 14)\",\n",
       " \"('remove_html_markup', 3)\",\n",
       " \"('remove_html_markup', 9)\",\n",
       " \"('remove_html_markup', 6)\",\n",
       " \"('remove_html_markup', 12)\"]"
      ]
     },
     "execution_count": 148,
     "metadata": {},
     "output_type": "execute_result"
    }
   ],
   "source": [
    "debugger = test_debugger_html(ClassifyingDebugger())\n",
    "debugger.feature_names()"
   ]
  },
  {
   "cell_type": "markdown",
   "metadata": {
    "slideshow": {
     "slide_type": "subslide"
    }
   },
   "source": [
    "Next, we define the _shape_ for an individual sample, which is a value of +1 or -1 for each feature seen (i.e., +1 if the line was covered, -1 if not)."
   ]
  },
  {
   "cell_type": "code",
   "execution_count": 149,
   "metadata": {
    "execution": {
     "iopub.execute_input": "2024-01-17T21:32:47.226734Z",
     "iopub.status.busy": "2024-01-17T21:32:47.226635Z",
     "iopub.status.idle": "2024-01-17T21:32:47.228646Z",
     "shell.execute_reply": "2024-01-17T21:32:47.228420Z"
    },
    "slideshow": {
     "slide_type": "fragment"
    }
   },
   "outputs": [],
   "source": [
    "class ClassifyingDebugger(ClassifyingDebugger):\n",
    "    def shape(self, sample: str) -> List[float]:\n",
    "        x = []\n",
    "        features = self.features()\n",
    "        for f in self.all_events():\n",
    "            if f in features[sample]:\n",
    "                x += [+1.0]\n",
    "            else:\n",
    "                x += [-1.0]\n",
    "        return x"
   ]
  },
  {
   "cell_type": "code",
   "execution_count": 150,
   "metadata": {
    "execution": {
     "iopub.execute_input": "2024-01-17T21:32:47.230018Z",
     "iopub.status.busy": "2024-01-17T21:32:47.229926Z",
     "iopub.status.idle": "2024-01-17T21:32:47.232178Z",
     "shell.execute_reply": "2024-01-17T21:32:47.231944Z"
    },
    "slideshow": {
     "slide_type": "subslide"
    }
   },
   "outputs": [
    {
     "data": {
      "text/plain": [
       "[1.0, 1.0, 1.0, -1.0, 1.0, 1.0, 1.0, 1.0, -1.0, 1.0, 1.0, 1.0, 1.0, -1.0]"
      ]
     },
     "execution_count": 150,
     "metadata": {},
     "output_type": "execute_result"
    }
   ],
   "source": [
    "debugger = test_debugger_html(ClassifyingDebugger())\n",
    "debugger.shape(\"remove_html_markup(s='abc')\")"
   ]
  },
  {
   "cell_type": "markdown",
   "metadata": {
    "slideshow": {
     "slide_type": "fragment"
    }
   },
   "source": [
    "Our input X for the classifier now is a list of such shapes, one for each sample."
   ]
  },
  {
   "cell_type": "code",
   "execution_count": 151,
   "metadata": {
    "execution": {
     "iopub.execute_input": "2024-01-17T21:32:47.233639Z",
     "iopub.status.busy": "2024-01-17T21:32:47.233535Z",
     "iopub.status.idle": "2024-01-17T21:32:47.235417Z",
     "shell.execute_reply": "2024-01-17T21:32:47.235189Z"
    },
    "slideshow": {
     "slide_type": "fragment"
    }
   },
   "outputs": [],
   "source": [
    "class ClassifyingDebugger(ClassifyingDebugger):\n",
    "    def X(self) -> List[List[float]]:\n",
    "        X = []\n",
    "        samples = self.samples()\n",
    "        for key in samples:\n",
    "            X += [self.shape(key)]\n",
    "        return X"
   ]
  },
  {
   "cell_type": "code",
   "execution_count": 152,
   "metadata": {
    "execution": {
     "iopub.execute_input": "2024-01-17T21:32:47.236821Z",
     "iopub.status.busy": "2024-01-17T21:32:47.236718Z",
     "iopub.status.idle": "2024-01-17T21:32:47.239166Z",
     "shell.execute_reply": "2024-01-17T21:32:47.238910Z"
    },
    "slideshow": {
     "slide_type": "subslide"
    }
   },
   "outputs": [
    {
     "data": {
      "text/plain": [
       "[[1.0, 1.0, 1.0, -1.0, 1.0, 1.0, 1.0, 1.0, -1.0, 1.0, 1.0, 1.0, 1.0, -1.0],\n",
       " [1.0, 1.0, 1.0, 1.0, 1.0, 1.0, 1.0, 1.0, 1.0, 1.0, 1.0, 1.0, 1.0, -1.0],\n",
       " [1.0, 1.0, 1.0, -1.0, 1.0, 1.0, 1.0, 1.0, -1.0, 1.0, 1.0, 1.0, 1.0, 1.0]]"
      ]
     },
     "execution_count": 152,
     "metadata": {},
     "output_type": "execute_result"
    }
   ],
   "source": [
    "debugger = test_debugger_html(ClassifyingDebugger())\n",
    "debugger.X()"
   ]
  },
  {
   "cell_type": "markdown",
   "metadata": {
    "slideshow": {
     "slide_type": "fragment"
    }
   },
   "source": [
    "Our input Y for the classifier, in contrast, is the list of labels, again indexed by sample."
   ]
  },
  {
   "cell_type": "code",
   "execution_count": 153,
   "metadata": {
    "execution": {
     "iopub.execute_input": "2024-01-17T21:32:47.240643Z",
     "iopub.status.busy": "2024-01-17T21:32:47.240544Z",
     "iopub.status.idle": "2024-01-17T21:32:47.242348Z",
     "shell.execute_reply": "2024-01-17T21:32:47.242113Z"
    },
    "slideshow": {
     "slide_type": "fragment"
    }
   },
   "outputs": [],
   "source": [
    "class ClassifyingDebugger(ClassifyingDebugger):\n",
    "    def Y(self) -> List[float]:\n",
    "        Y = []\n",
    "        samples = self.samples()\n",
    "        for key in samples:\n",
    "            Y += [samples[key]]\n",
    "        return Y"
   ]
  },
  {
   "cell_type": "code",
   "execution_count": 154,
   "metadata": {
    "execution": {
     "iopub.execute_input": "2024-01-17T21:32:47.243700Z",
     "iopub.status.busy": "2024-01-17T21:32:47.243602Z",
     "iopub.status.idle": "2024-01-17T21:32:47.245762Z",
     "shell.execute_reply": "2024-01-17T21:32:47.245540Z"
    },
    "slideshow": {
     "slide_type": "subslide"
    }
   },
   "outputs": [
    {
     "data": {
      "text/plain": [
       "[1.0, 1.0, -1.0]"
      ]
     },
     "execution_count": 154,
     "metadata": {},
     "output_type": "execute_result"
    }
   ],
   "source": [
    "debugger = test_debugger_html(ClassifyingDebugger())\n",
    "debugger.Y()"
   ]
  },
  {
   "cell_type": "markdown",
   "metadata": {
    "slideshow": {
     "slide_type": "fragment"
    }
   },
   "source": [
    "We now have all our data ready to be fit into a tree classifier. The method `classifier()` creates and returns the (tree) classifier for the observed runs."
   ]
  },
  {
   "cell_type": "code",
   "execution_count": 155,
   "metadata": {
    "execution": {
     "iopub.execute_input": "2024-01-17T21:32:47.247167Z",
     "iopub.status.busy": "2024-01-17T21:32:47.247068Z",
     "iopub.status.idle": "2024-01-17T21:32:48.804814Z",
     "shell.execute_reply": "2024-01-17T21:32:48.804519Z"
    },
    "slideshow": {
     "slide_type": "skip"
    }
   },
   "outputs": [],
   "source": [
    "from sklearn.tree import DecisionTreeClassifier, export_text, export_graphviz"
   ]
  },
  {
   "cell_type": "code",
   "execution_count": 156,
   "metadata": {
    "execution": {
     "iopub.execute_input": "2024-01-17T21:32:48.806733Z",
     "iopub.status.busy": "2024-01-17T21:32:48.806550Z",
     "iopub.status.idle": "2024-01-17T21:32:48.809175Z",
     "shell.execute_reply": "2024-01-17T21:32:48.808791Z"
    },
    "slideshow": {
     "slide_type": "fragment"
    }
   },
   "outputs": [],
   "source": [
    "class ClassifyingDebugger(ClassifyingDebugger):\n",
    "    def classifier(self) -> DecisionTreeClassifier:\n",
    "        classifier = DecisionTreeClassifier()\n",
    "        classifier = classifier.fit(self.X(), self.Y())\n",
    "        return classifier"
   ]
  },
  {
   "cell_type": "markdown",
   "metadata": {
    "slideshow": {
     "slide_type": "fragment"
    }
   },
   "source": [
    "We define a special method to show classifiers:"
   ]
  },
  {
   "cell_type": "code",
   "execution_count": 157,
   "metadata": {
    "execution": {
     "iopub.execute_input": "2024-01-17T21:32:48.810949Z",
     "iopub.status.busy": "2024-01-17T21:32:48.810823Z",
     "iopub.status.idle": "2024-01-17T21:32:48.812588Z",
     "shell.execute_reply": "2024-01-17T21:32:48.812285Z"
    },
    "slideshow": {
     "slide_type": "skip"
    }
   },
   "outputs": [],
   "source": [
    "import graphviz"
   ]
  },
  {
   "cell_type": "code",
   "execution_count": 158,
   "metadata": {
    "execution": {
     "iopub.execute_input": "2024-01-17T21:32:48.814475Z",
     "iopub.status.busy": "2024-01-17T21:32:48.814343Z",
     "iopub.status.idle": "2024-01-17T21:32:48.816892Z",
     "shell.execute_reply": "2024-01-17T21:32:48.816576Z"
    },
    "slideshow": {
     "slide_type": "subslide"
    }
   },
   "outputs": [],
   "source": [
    "class ClassifyingDebugger(ClassifyingDebugger):\n",
    "    def show_classifier(self, classifier: DecisionTreeClassifier) -> Any:\n",
    "        dot_data = export_graphviz(classifier, out_file=None, \n",
    "                                   filled=False, rounded=True,\n",
    "                                   feature_names=self.feature_names(),\n",
    "                                   class_names=[\"FAIL\", \"PASS\"],\n",
    "                                   label='none',\n",
    "                                   node_ids=False,\n",
    "                                   impurity=False,\n",
    "                                   proportion=True,\n",
    "                                   special_characters=True)\n",
    "\n",
    "        return graphviz.Source(dot_data)"
   ]
  },
  {
   "cell_type": "markdown",
   "metadata": {
    "slideshow": {
     "slide_type": "subslide"
    }
   },
   "source": [
    "This is the tree we get for our `remove_html_markup()` tests. The top predicate is whether the \"culprit\" line was executed (-1 means no, +1 means yes). If not (-1), the outcome is PASS. Otherwise, the outcome is TRUE."
   ]
  },
  {
   "cell_type": "code",
   "execution_count": 159,
   "metadata": {
    "execution": {
     "iopub.execute_input": "2024-01-17T21:32:48.818616Z",
     "iopub.status.busy": "2024-01-17T21:32:48.818493Z",
     "iopub.status.idle": "2024-01-17T21:32:49.193076Z",
     "shell.execute_reply": "2024-01-17T21:32:49.192704Z"
    },
    "slideshow": {
     "slide_type": "fragment"
    }
   },
   "outputs": [
    {
     "data": {
      "image/svg+xml": [
       "<?xml version=\"1.0\" encoding=\"UTF-8\" standalone=\"no\"?>\n",
       "<!DOCTYPE svg PUBLIC \"-//W3C//DTD SVG 1.1//EN\"\n",
       " \"http://www.w3.org/Graphics/SVG/1.1/DTD/svg11.dtd\">\n",
       "<!-- Generated by graphviz version 9.0.0 (20230911.1827)\n",
       " -->\n",
       "<!-- Title: Tree Pages: 1 -->\n",
       "<svg width=\"228pt\" height=\"165pt\"\n",
       " viewBox=\"0.00 0.00 228.00 165.00\" xmlns=\"http://www.w3.org/2000/svg\" xmlns:xlink=\"http://www.w3.org/1999/xlink\">\n",
       "<g id=\"graph0\" class=\"graph\" transform=\"scale(1 1) rotate(0) translate(4 161)\">\n",
       "<title>Tree</title>\n",
       "<polygon fill=\"white\" stroke=\"none\" points=\"-4,4 -4,-161 224,-161 224,4 -4,4\"/>\n",
       "<!-- 0 -->\n",
       "<g id=\"node1\" class=\"node\">\n",
       "<title>0</title>\n",
       "<path fill=\"none\" stroke=\"black\" d=\"M208,-157C208,-157 12,-157 12,-157 6,-157 0,-151 0,-145 0,-145 0,-101 0,-101 0,-95 6,-89 12,-89 12,-89 208,-89 208,-89 214,-89 220,-95 220,-101 220,-101 220,-145 220,-145 220,-151 214,-157 208,-157\"/>\n",
       "<text text-anchor=\"start\" x=\"8\" y=\"-139.7\" font-family=\"Helvetica,sans-Serif\" font-size=\"14.00\">(&#39;remove_html_markup&#39;, 12) ≤ 0.0</text>\n",
       "<text text-anchor=\"start\" x=\"86.75\" y=\"-124.7\" font-family=\"Helvetica,sans-Serif\" font-size=\"14.00\">100.0%</text>\n",
       "<text text-anchor=\"start\" x=\"68.75\" y=\"-109.7\" font-family=\"Helvetica,sans-Serif\" font-size=\"14.00\">[0.333, 0.667]</text>\n",
       "<text text-anchor=\"start\" x=\"92\" y=\"-94.7\" font-family=\"Helvetica,sans-Serif\" font-size=\"14.00\">PASS</text>\n",
       "</g>\n",
       "<!-- 1 -->\n",
       "<g id=\"node2\" class=\"node\">\n",
       "<title>1</title>\n",
       "<path fill=\"none\" stroke=\"black\" d=\"M89.25,-53C89.25,-53 44.75,-53 44.75,-53 38.75,-53 32.75,-47 32.75,-41 32.75,-41 32.75,-12 32.75,-12 32.75,-6 38.75,0 44.75,0 44.75,0 89.25,0 89.25,0 95.25,0 101.25,-6 101.25,-12 101.25,-12 101.25,-41 101.25,-41 101.25,-47 95.25,-53 89.25,-53\"/>\n",
       "<text text-anchor=\"start\" x=\"47.5\" y=\"-35.7\" font-family=\"Helvetica,sans-Serif\" font-size=\"14.00\">66.7%</text>\n",
       "<text text-anchor=\"start\" x=\"40.75\" y=\"-20.7\" font-family=\"Helvetica,sans-Serif\" font-size=\"14.00\">[0.0, 1.0]</text>\n",
       "<text text-anchor=\"start\" x=\"49\" y=\"-5.7\" font-family=\"Helvetica,sans-Serif\" font-size=\"14.00\">PASS</text>\n",
       "</g>\n",
       "<!-- 0&#45;&gt;1 -->\n",
       "<g id=\"edge1\" class=\"edge\">\n",
       "<title>0&#45;&gt;1</title>\n",
       "<path fill=\"none\" stroke=\"black\" d=\"M94.84,-88.68C91.17,-80.63 87.24,-71.98 83.52,-63.8\"/>\n",
       "<polygon fill=\"black\" stroke=\"black\" points=\"86.74,-62.42 79.41,-54.77 80.37,-65.32 86.74,-62.42\"/>\n",
       "<text text-anchor=\"middle\" x=\"70.01\" y=\"-71.01\" font-family=\"Helvetica,sans-Serif\" font-size=\"14.00\">True</text>\n",
       "</g>\n",
       "<!-- 2 -->\n",
       "<g id=\"node3\" class=\"node\">\n",
       "<title>2</title>\n",
       "<path fill=\"none\" stroke=\"black\" d=\"M176.25,-53C176.25,-53 131.75,-53 131.75,-53 125.75,-53 119.75,-47 119.75,-41 119.75,-41 119.75,-12 119.75,-12 119.75,-6 125.75,0 131.75,0 131.75,0 176.25,0 176.25,0 182.25,0 188.25,-6 188.25,-12 188.25,-12 188.25,-41 188.25,-41 188.25,-47 182.25,-53 176.25,-53\"/>\n",
       "<text text-anchor=\"start\" x=\"134.5\" y=\"-35.7\" font-family=\"Helvetica,sans-Serif\" font-size=\"14.00\">33.3%</text>\n",
       "<text text-anchor=\"start\" x=\"127.75\" y=\"-20.7\" font-family=\"Helvetica,sans-Serif\" font-size=\"14.00\">[1.0, 0.0]</text>\n",
       "<text text-anchor=\"start\" x=\"139.75\" y=\"-5.7\" font-family=\"Helvetica,sans-Serif\" font-size=\"14.00\">FAIL</text>\n",
       "</g>\n",
       "<!-- 0&#45;&gt;2 -->\n",
       "<g id=\"edge2\" class=\"edge\">\n",
       "<title>0&#45;&gt;2</title>\n",
       "<path fill=\"none\" stroke=\"black\" d=\"M125.51,-88.68C129.26,-80.63 133.29,-71.98 137.1,-63.8\"/>\n",
       "<polygon fill=\"black\" stroke=\"black\" points=\"140.26,-65.31 141.3,-54.77 133.91,-62.35 140.26,-65.31\"/>\n",
       "<text text-anchor=\"middle\" x=\"150.51\" y=\"-71.08\" font-family=\"Helvetica,sans-Serif\" font-size=\"14.00\">False</text>\n",
       "</g>\n",
       "</g>\n",
       "</svg>\n"
      ],
      "text/plain": [
       "<graphviz.sources.Source at 0x107f653c0>"
      ]
     },
     "execution_count": 159,
     "metadata": {},
     "output_type": "execute_result"
    }
   ],
   "source": [
    "debugger = test_debugger_html(ClassifyingDebugger())\n",
    "classifier = debugger.classifier()\n",
    "debugger.show_classifier(classifier)"
   ]
  },
  {
   "cell_type": "markdown",
   "metadata": {
    "slideshow": {
     "slide_type": "fragment"
    }
   },
   "source": [
    "We can even use our classifier to predict the outcome of additional runs. If, for instance, we execute all lines except for, say, Line 7, 9, and 11, our tree classifier would predict failure – because the \"culprit\" line 12 is executed."
   ]
  },
  {
   "cell_type": "code",
   "execution_count": 160,
   "metadata": {
    "execution": {
     "iopub.execute_input": "2024-01-17T21:32:49.194865Z",
     "iopub.status.busy": "2024-01-17T21:32:49.194742Z",
     "iopub.status.idle": "2024-01-17T21:32:49.197711Z",
     "shell.execute_reply": "2024-01-17T21:32:49.197449Z"
    },
    "slideshow": {
     "slide_type": "fragment"
    }
   },
   "outputs": [
    {
     "data": {
      "text/plain": [
       "array([-1.])"
      ]
     },
     "execution_count": 160,
     "metadata": {},
     "output_type": "execute_result"
    }
   ],
   "source": [
    "classifier.predict([[1, 1, 1, 1, 1, 1, -1, 1, -1, 1, -1, 1, 1, 1]])"
   ]
  },
  {
   "cell_type": "markdown",
   "metadata": {
    "slideshow": {
     "slide_type": "subslide"
    }
   },
   "source": [
    "Again, there are many ways to continue from here. Which events should we train the classifier from? How do classifiers compare in their performance and diagnostic quality? There are lots of possibilities left to explore, and we only begin to realize the potential for automated debugging."
   ]
  },
  {
   "cell_type": "markdown",
   "metadata": {
    "slideshow": {
     "slide_type": "slide"
    }
   },
   "source": [
    "## Synopsis\n",
    "\n",
    "This chapter introduces classes and techniques for _statistical debugging_ – that is, correlating specific events, such as lines covered, with passing and failing outcomes.\n",
    "\n",
    "To make use of the code in this chapter, use one of the provided `StatisticalDebugger` subclasses such as `TarantulaDebugger` or `OchiaiDebugger`. \n",
    "\n",
    "Both are instantiated with a `Collector` denoting the type of events you want to correlate outcomes with. The default `CoverageCollector`, collecting line coverage."
   ]
  },
  {
   "cell_type": "markdown",
   "metadata": {
    "slideshow": {
     "slide_type": "subslide"
    }
   },
   "source": [
    "### Collecting Events from Calls\n",
    "\n",
    "To collect events from calls that are labeled manually, use"
   ]
  },
  {
   "cell_type": "code",
   "execution_count": 161,
   "metadata": {
    "execution": {
     "iopub.execute_input": "2024-01-17T21:32:49.199332Z",
     "iopub.status.busy": "2024-01-17T21:32:49.199225Z",
     "iopub.status.idle": "2024-01-17T21:32:49.201443Z",
     "shell.execute_reply": "2024-01-17T21:32:49.201139Z"
    },
    "slideshow": {
     "slide_type": "fragment"
    }
   },
   "outputs": [],
   "source": [
    "debugger = TarantulaDebugger()\n",
    "with debugger.collect_pass():\n",
    "    remove_html_markup(\"abc\")\n",
    "with debugger.collect_pass():\n",
    "    remove_html_markup('<b>abc</b>')\n",
    "with debugger.collect_fail():\n",
    "    remove_html_markup('\"abc\"')"
   ]
  },
  {
   "cell_type": "markdown",
   "metadata": {
    "slideshow": {
     "slide_type": "fragment"
    }
   },
   "source": [
    "Within each `with` block, the _first function call_ is collected and tracked for coverage. (Note that _only_ the first call is tracked.)"
   ]
  },
  {
   "cell_type": "markdown",
   "metadata": {
    "slideshow": {
     "slide_type": "subslide"
    }
   },
   "source": [
    "### Collecting Events from Tests\n",
    "\n",
    "To collect events from _tests_ that use exceptions to indicate failure, use the simpler `with` form:"
   ]
  },
  {
   "cell_type": "code",
   "execution_count": 162,
   "metadata": {
    "execution": {
     "iopub.execute_input": "2024-01-17T21:32:49.202985Z",
     "iopub.status.busy": "2024-01-17T21:32:49.202883Z",
     "iopub.status.idle": "2024-01-17T21:32:49.204916Z",
     "shell.execute_reply": "2024-01-17T21:32:49.204691Z"
    },
    "slideshow": {
     "slide_type": "fragment"
    }
   },
   "outputs": [],
   "source": [
    "debugger = TarantulaDebugger()\n",
    "with debugger:\n",
    "    remove_html_markup(\"abc\")\n",
    "with debugger:\n",
    "    remove_html_markup('<b>abc</b>')\n",
    "with debugger:\n",
    "    remove_html_markup('\"abc\"')\n",
    "    assert False  # raise an exception"
   ]
  },
  {
   "cell_type": "markdown",
   "metadata": {
    "slideshow": {
     "slide_type": "fragment"
    }
   },
   "source": [
    "`with` blocks that raise an exception will be classified as failing, blocks that do not will be classified as passing. Note that exceptions raised are \"swallowed\" by the debugger."
   ]
  },
  {
   "cell_type": "markdown",
   "metadata": {
    "slideshow": {
     "slide_type": "subslide"
    }
   },
   "source": [
    "### Visualizing Events as a Table\n",
    "\n",
    "After collecting events, you can print out the observed events – in this case, line numbers – in a table, showing in which runs they occurred (`X`), and with colors highlighting the suspiciousness of the event. A \"red\" event means that the event predominantly occurs in failing runs."
   ]
  },
  {
   "cell_type": "code",
   "execution_count": 163,
   "metadata": {
    "execution": {
     "iopub.execute_input": "2024-01-17T21:32:49.206411Z",
     "iopub.status.busy": "2024-01-17T21:32:49.206304Z",
     "iopub.status.idle": "2024-01-17T21:32:49.208722Z",
     "shell.execute_reply": "2024-01-17T21:32:49.208491Z"
    },
    "slideshow": {
     "slide_type": "fragment"
    }
   },
   "outputs": [
    {
     "data": {
      "text/markdown": [
       "| `remove_html_markup` | `s='abc'` | `s='<b>abc</b>'` | `s='\"abc\"'` | \n",
       "| --------------------- | ---- | ---- | ---- | \n",
       "| <samp style=\"background-color: hsl(60.0, 100.0%, 80%)\" title=\" 50%\"> remove_html_markup:1</samp> |    X |    X |    X | \n",
       "| <samp style=\"background-color: hsl(60.0, 100.0%, 80%)\" title=\" 50%\"> remove_html_markup:2</samp> |    X |    X |    X | \n",
       "| <samp style=\"background-color: hsl(60.0, 100.0%, 80%)\" title=\" 50%\"> remove_html_markup:3</samp> |    X |    X |    X | \n",
       "| <samp style=\"background-color: hsl(60.0, 100.0%, 80%)\" title=\" 50%\"> remove_html_markup:4</samp> |    X |    X |    X | \n",
       "| <samp style=\"background-color: hsl(60.0, 100.0%, 80%)\" title=\" 50%\"> remove_html_markup:6</samp> |    X |    X |    X | \n",
       "| <samp style=\"background-color: hsl(60.0, 100.0%, 80%)\" title=\" 50%\"> remove_html_markup:7</samp> |    X |    X |    X | \n",
       "| <samp style=\"background-color: hsl(120.0, 50.0%, 80%)\" title=\"  0%\"> remove_html_markup:8</samp> |    - |    X |    - | \n",
       "| <samp style=\"background-color: hsl(60.0, 100.0%, 80%)\" title=\" 50%\"> remove_html_markup:9</samp> |    X |    X |    X | \n",
       "| <samp style=\"background-color: hsl(120.0, 50.0%, 80%)\" title=\"  0%\">remove_html_markup:10</samp> |    - |    X |    - | \n",
       "| <samp style=\"background-color: hsl(60.0, 100.0%, 80%)\" title=\" 50%\">remove_html_markup:11</samp> |    X |    X |    X | \n",
       "| <samp style=\"background-color: hsl(0.0, 100.0%, 80%)\" title=\"100%\">remove_html_markup:12</samp> |    - |    - |    X | \n",
       "| <samp style=\"background-color: hsl(60.0, 100.0%, 80%)\" title=\" 50%\">remove_html_markup:13</samp> |    X |    X |    X | \n",
       "| <samp style=\"background-color: hsl(60.0, 100.0%, 80%)\" title=\" 50%\">remove_html_markup:14</samp> |    X |    X |    X | \n",
       "| <samp style=\"background-color: hsl(60.0, 100.0%, 80%)\" title=\" 50%\">remove_html_markup:16</samp> |    X |    X |    X | \n"
      ],
      "text/plain": [
       "<IPython.core.display.Markdown object>"
      ]
     },
     "execution_count": 163,
     "metadata": {},
     "output_type": "execute_result"
    }
   ],
   "source": [
    "debugger.event_table(args=True, color=True)"
   ]
  },
  {
   "cell_type": "markdown",
   "metadata": {
    "slideshow": {
     "slide_type": "subslide"
    }
   },
   "source": [
    "### Visualizing Suspicious Code\n",
    "\n",
    "If you collected coverage with `CoverageCollector`, you can also visualize the code with similar colors, highlighting suspicious lines:"
   ]
  },
  {
   "cell_type": "code",
   "execution_count": 164,
   "metadata": {
    "execution": {
     "iopub.execute_input": "2024-01-17T21:32:49.210138Z",
     "iopub.status.busy": "2024-01-17T21:32:49.210040Z",
     "iopub.status.idle": "2024-01-17T21:32:49.213095Z",
     "shell.execute_reply": "2024-01-17T21:32:49.212797Z"
    },
    "slideshow": {
     "slide_type": "fragment"
    }
   },
   "outputs": [
    {
     "data": {
      "text/html": [
       "<pre style=\"background-color:hsl(60.0, 100.0%, 80%)\"\n",
       "                    title=\"Line 1:  50%\">   1 def remove_html_markup(s):  # type: ignore</pre>\n",
       "<pre style=\"background-color:hsl(60.0, 100.0%, 80%)\"\n",
       "                    title=\"Line 2:  50%\">   2     tag = False</pre>\n",
       "<pre style=\"background-color:hsl(60.0, 100.0%, 80%)\"\n",
       "                    title=\"Line 3:  50%\">   3     quote = False</pre>\n",
       "<pre style=\"background-color:hsl(60.0, 100.0%, 80%)\"\n",
       "                    title=\"Line 4:  50%\">   4     out = &quot;&quot;</pre>\n",
       "<pre title=\"Line 5: not executed\">   5 &nbsp;</pre>\n",
       "<pre style=\"background-color:hsl(60.0, 100.0%, 80%)\"\n",
       "                    title=\"Line 6:  50%\">   6     for c in s:</pre>\n",
       "<pre style=\"background-color:hsl(60.0, 100.0%, 80%)\"\n",
       "                    title=\"Line 7:  50%\">   7         if c == &#x27;&lt;&#x27; and not quote:</pre>\n",
       "<pre style=\"background-color:hsl(120.0, 50.0%, 80%)\"\n",
       "                    title=\"Line 8:   0%\">   8             tag = True</pre>\n",
       "<pre style=\"background-color:hsl(60.0, 100.0%, 80%)\"\n",
       "                    title=\"Line 9:  50%\">   9         elif c == &#x27;&gt;&#x27; and not quote:</pre>\n",
       "<pre style=\"background-color:hsl(120.0, 50.0%, 80%)\"\n",
       "                    title=\"Line 10:   0%\">  10             tag = False</pre>\n",
       "<pre style=\"background-color:hsl(60.0, 100.0%, 80%)\"\n",
       "                    title=\"Line 11:  50%\">  11         elif c == &#x27;&quot;&#x27; or c == &quot;&#x27;&quot; and tag:</pre>\n",
       "<pre style=\"background-color:hsl(0.0, 100.0%, 80%)\"\n",
       "                    title=\"Line 12: 100%\">  12             quote = not quote</pre>\n",
       "<pre style=\"background-color:hsl(60.0, 100.0%, 80%)\"\n",
       "                    title=\"Line 13:  50%\">  13         elif not tag:</pre>\n",
       "<pre style=\"background-color:hsl(60.0, 100.0%, 80%)\"\n",
       "                    title=\"Line 14:  50%\">  14             out = out + c</pre>\n",
       "<pre title=\"Line 15: not executed\">  15 &nbsp;</pre>\n",
       "<pre style=\"background-color:hsl(60.0, 100.0%, 80%)\"\n",
       "                    title=\"Line 16:  50%\">  16     return out</pre>\n"
      ],
      "text/markdown": [
       "| `remove_html_markup` | `s='abc'` | `s='<b>abc</b>'` | `s='\"abc\"'` | \n",
       "| --------------------- | ---- | ---- | ---- | \n",
       "| <samp style=\"background-color: hsl(60.0, 100.0%, 80%)\" title=\" 50%\"> remove_html_markup:1</samp> |    X |    X |    X | \n",
       "| <samp style=\"background-color: hsl(60.0, 100.0%, 80%)\" title=\" 50%\"> remove_html_markup:2</samp> |    X |    X |    X | \n",
       "| <samp style=\"background-color: hsl(60.0, 100.0%, 80%)\" title=\" 50%\"> remove_html_markup:3</samp> |    X |    X |    X | \n",
       "| <samp style=\"background-color: hsl(60.0, 100.0%, 80%)\" title=\" 50%\"> remove_html_markup:4</samp> |    X |    X |    X | \n",
       "| <samp style=\"background-color: hsl(60.0, 100.0%, 80%)\" title=\" 50%\"> remove_html_markup:6</samp> |    X |    X |    X | \n",
       "| <samp style=\"background-color: hsl(60.0, 100.0%, 80%)\" title=\" 50%\"> remove_html_markup:7</samp> |    X |    X |    X | \n",
       "| <samp style=\"background-color: hsl(120.0, 50.0%, 80%)\" title=\"  0%\"> remove_html_markup:8</samp> |    - |    X |    - | \n",
       "| <samp style=\"background-color: hsl(60.0, 100.0%, 80%)\" title=\" 50%\"> remove_html_markup:9</samp> |    X |    X |    X | \n",
       "| <samp style=\"background-color: hsl(120.0, 50.0%, 80%)\" title=\"  0%\">remove_html_markup:10</samp> |    - |    X |    - | \n",
       "| <samp style=\"background-color: hsl(60.0, 100.0%, 80%)\" title=\" 50%\">remove_html_markup:11</samp> |    X |    X |    X | \n",
       "| <samp style=\"background-color: hsl(0.0, 100.0%, 80%)\" title=\"100%\">remove_html_markup:12</samp> |    - |    - |    X | \n",
       "| <samp style=\"background-color: hsl(60.0, 100.0%, 80%)\" title=\" 50%\">remove_html_markup:13</samp> |    X |    X |    X | \n",
       "| <samp style=\"background-color: hsl(60.0, 100.0%, 80%)\" title=\" 50%\">remove_html_markup:14</samp> |    X |    X |    X | \n",
       "| <samp style=\"background-color: hsl(60.0, 100.0%, 80%)\" title=\" 50%\">remove_html_markup:16</samp> |    X |    X |    X | \n"
      ],
      "text/plain": [
       "[('remove_html_markup', 12), ('remove_html_markup', 4), ('remove_html_markup', 1), ('remove_html_markup', 7), ('remove_html_markup', 16), ('remove_html_markup', 13), ('remove_html_markup', 2), ('remove_html_markup', 11), ('remove_html_markup', 14), ('remove_html_markup', 3), ('remove_html_markup', 9), ('remove_html_markup', 6), ('remove_html_markup', 10), ('remove_html_markup', 8)]"
      ]
     },
     "execution_count": 164,
     "metadata": {},
     "output_type": "execute_result"
    }
   ],
   "source": [
    "debugger"
   ]
  },
  {
   "cell_type": "markdown",
   "metadata": {
    "slideshow": {
     "slide_type": "subslide"
    }
   },
   "source": [
    "### Ranking Events\n",
    "\n",
    "The method `rank()` returns a ranked list of events, starting with the most suspicious. This is useful for automated techniques that need potential defect locations."
   ]
  },
  {
   "cell_type": "code",
   "execution_count": 165,
   "metadata": {
    "execution": {
     "iopub.execute_input": "2024-01-17T21:32:49.214569Z",
     "iopub.status.busy": "2024-01-17T21:32:49.214484Z",
     "iopub.status.idle": "2024-01-17T21:32:49.217017Z",
     "shell.execute_reply": "2024-01-17T21:32:49.216739Z"
    },
    "slideshow": {
     "slide_type": "subslide"
    }
   },
   "outputs": [
    {
     "data": {
      "text/plain": [
       "[('remove_html_markup', 12),\n",
       " ('remove_html_markup', 4),\n",
       " ('remove_html_markup', 1),\n",
       " ('remove_html_markup', 7),\n",
       " ('remove_html_markup', 16),\n",
       " ('remove_html_markup', 13),\n",
       " ('remove_html_markup', 2),\n",
       " ('remove_html_markup', 11),\n",
       " ('remove_html_markup', 14),\n",
       " ('remove_html_markup', 3),\n",
       " ('remove_html_markup', 9),\n",
       " ('remove_html_markup', 6),\n",
       " ('remove_html_markup', 10),\n",
       " ('remove_html_markup', 8)]"
      ]
     },
     "execution_count": 165,
     "metadata": {},
     "output_type": "execute_result"
    }
   ],
   "source": [
    "debugger.rank()"
   ]
  },
  {
   "cell_type": "markdown",
   "metadata": {
    "slideshow": {
     "slide_type": "subslide"
    }
   },
   "source": [
    "### Classes and Methods\n",
    "\n",
    "Here are all classes defined in this chapter:"
   ]
  },
  {
   "cell_type": "code",
   "execution_count": 166,
   "metadata": {
    "execution": {
     "iopub.execute_input": "2024-01-17T21:32:49.218436Z",
     "iopub.status.busy": "2024-01-17T21:32:49.218344Z",
     "iopub.status.idle": "2024-01-17T21:32:49.219859Z",
     "shell.execute_reply": "2024-01-17T21:32:49.219628Z"
    },
    "slideshow": {
     "slide_type": "fragment"
    }
   },
   "outputs": [],
   "source": [
    "# ignore\n",
    "from ClassDiagram import display_class_hierarchy"
   ]
  },
  {
   "cell_type": "code",
   "execution_count": 167,
   "metadata": {
    "execution": {
     "iopub.execute_input": "2024-01-17T21:32:49.221267Z",
     "iopub.status.busy": "2024-01-17T21:32:49.221181Z",
     "iopub.status.idle": "2024-01-17T21:32:49.641169Z",
     "shell.execute_reply": "2024-01-17T21:32:49.640798Z"
    },
    "slideshow": {
     "slide_type": "subslide"
    }
   },
   "outputs": [
    {
     "data": {
      "image/svg+xml": [
       "<?xml version=\"1.0\" encoding=\"UTF-8\" standalone=\"no\"?>\n",
       "<!DOCTYPE svg PUBLIC \"-//W3C//DTD SVG 1.1//EN\"\n",
       " \"http://www.w3.org/Graphics/SVG/1.1/DTD/svg11.dtd\">\n",
       "<!-- Generated by graphviz version 9.0.0 (20230911.1827)\n",
       " -->\n",
       "<!-- Pages: 1 -->\n",
       "<svg width=\"490pt\" height=\"942pt\"\n",
       " viewBox=\"0.00 0.00 490.00 941.50\" xmlns=\"http://www.w3.org/2000/svg\" xmlns:xlink=\"http://www.w3.org/1999/xlink\">\n",
       "<g id=\"graph0\" class=\"graph\" transform=\"scale(1 1) rotate(0) translate(4 937.5)\">\n",
       "<g id=\"a_graph0\"><a xlink:title=\"TarantulaDebugger class hierarchy\">\n",
       "<polygon fill=\"white\" stroke=\"none\" points=\"-4,4 -4,-937.5 486,-937.5 486,4 -4,4\"/>\n",
       "</a>\n",
       "</g>\n",
       "<!-- TarantulaDebugger -->\n",
       "<g id=\"node1\" class=\"node\">\n",
       "<title>TarantulaDebugger</title>\n",
       "<g id=\"a_node1\"><a xlink:href=\"#\" xlink:title=\"class TarantulaDebugger:&#10;Spectrum&#45;based Debugger using the Tarantula metric for suspiciousness\">\n",
       "<polygon fill=\"none\" stroke=\"black\" points=\"60,-10.38 60,-46.38 196.75,-46.38 196.75,-10.38 60,-10.38\"/>\n",
       "<text text-anchor=\"start\" x=\"68\" y=\"-25.07\" font-family=\"Raleway, Helvetica, Arial, sans-serif\" font-weight=\"bold\" font-size=\"14.00\" fill=\"#6a0dad\">TarantulaDebugger</text>\n",
       "</a>\n",
       "</g>\n",
       "</g>\n",
       "<!-- ContinuousSpectrumDebugger -->\n",
       "<g id=\"node2\" class=\"node\">\n",
       "<title>ContinuousSpectrumDebugger</title>\n",
       "<g id=\"a_node2\"><a xlink:href=\"#\" xlink:title=\"class ContinuousSpectrumDebugger:&#10;Visualize differences between executions using a color spectrum\">\n",
       "<polygon fill=\"none\" stroke=\"black\" points=\"0,-93.25 0,-239 214.75,-239 214.75,-93.25 0,-93.25\"/>\n",
       "<text text-anchor=\"start\" x=\"8\" y=\"-222.7\" font-family=\"Raleway, Helvetica, Arial, sans-serif\" font-weight=\"bold\" font-size=\"14.00\" fill=\"#6a0dad\">ContinuousSpectrumDebugger</text>\n",
       "<polyline fill=\"none\" stroke=\"black\" points=\"0,-213.75 214.75,-213.75\"/>\n",
       "<g id=\"a_node2_0\"><a xlink:href=\"#\" xlink:title=\"ContinuousSpectrumDebugger\">\n",
       "<g id=\"a_node2_1\"><a xlink:href=\"#\" xlink:title=\"brightness(self, event: Any) &#45;&gt; float\">\n",
       "<text text-anchor=\"start\" x=\"29.38\" y=\"-200.25\" font-family=\"'Fira Mono', 'Source Code Pro', 'Courier', monospace\" font-size=\"10.00\">brightness()</text>\n",
       "</a>\n",
       "</g>\n",
       "<g id=\"a_node2_2\"><a xlink:href=\"#\" xlink:title=\"collectors_with_event(self, event: Any, category: str) &#45;&gt; Set[Collector]:&#10;Return all collectors in a category&#10;that observed the given event.\">\n",
       "<text text-anchor=\"start\" x=\"29.38\" y=\"-189\" font-family=\"'Fira Mono', 'Source Code Pro', 'Courier', monospace\" font-size=\"10.00\">collectors_with_event()</text>\n",
       "</a>\n",
       "</g>\n",
       "<g id=\"a_node2_3\"><a xlink:href=\"#\" xlink:title=\"collectors_without_event(self, event: Any, category: str) &#45;&gt; Set[Collector]:&#10;Return all collectors in a category&#10;that did not observe the given event.\">\n",
       "<text text-anchor=\"start\" x=\"29.38\" y=\"-177.75\" font-family=\"'Fira Mono', 'Source Code Pro', 'Courier', monospace\" font-size=\"10.00\">collectors_without_event()</text>\n",
       "</a>\n",
       "</g>\n",
       "<g id=\"a_node2_4\"><a xlink:href=\"#\" xlink:title=\"color(self, event: Any) &#45;&gt; Optional[str]:&#10;Return a HTML color for the given event.\">\n",
       "<text text-anchor=\"start\" x=\"29.38\" y=\"-167.5\" font-family=\"'Fira Mono', 'Source Code Pro', 'Courier', monospace\" font-style=\"italic\" font-size=\"10.00\">color()</text>\n",
       "</a>\n",
       "</g>\n",
       "<g id=\"a_node2_5\"><a xlink:href=\"#\" xlink:title=\"event_fraction(self, event: Any, category: str) &#45;&gt; float\">\n",
       "<text text-anchor=\"start\" x=\"29.38\" y=\"-155.25\" font-family=\"'Fira Mono', 'Source Code Pro', 'Courier', monospace\" font-size=\"10.00\">event_fraction()</text>\n",
       "</a>\n",
       "</g>\n",
       "<g id=\"a_node2_6\"><a xlink:href=\"#\" xlink:title=\"failed_fraction(self, event: Any) &#45;&gt; float\">\n",
       "<text text-anchor=\"start\" x=\"29.38\" y=\"-144\" font-family=\"'Fira Mono', 'Source Code Pro', 'Courier', monospace\" font-size=\"10.00\">failed_fraction()</text>\n",
       "</a>\n",
       "</g>\n",
       "<g id=\"a_node2_7\"><a xlink:href=\"#\" xlink:title=\"hue(self, event: Any) &#45;&gt; Optional[float]:&#10;Return a color hue from 0.0 (red) to 1.0 (green).\">\n",
       "<text text-anchor=\"start\" x=\"29.38\" y=\"-132.75\" font-family=\"'Fira Mono', 'Source Code Pro', 'Courier', monospace\" font-size=\"10.00\">hue()</text>\n",
       "</a>\n",
       "</g>\n",
       "<g id=\"a_node2_8\"><a xlink:href=\"#\" xlink:title=\"passed_fraction(self, event: Any) &#45;&gt; float\">\n",
       "<text text-anchor=\"start\" x=\"29.38\" y=\"-121.5\" font-family=\"'Fira Mono', 'Source Code Pro', 'Courier', monospace\" font-size=\"10.00\">passed_fraction()</text>\n",
       "</a>\n",
       "</g>\n",
       "<g id=\"a_node2_9\"><a xlink:href=\"#\" xlink:title=\"suspiciousness(self, event: Any) &#45;&gt; Optional[float]:&#10;Return a suspiciousness value [0, 1.0]&#10;for the given event, or `None` if unknown.\">\n",
       "<text text-anchor=\"start\" x=\"29.38\" y=\"-111.25\" font-family=\"'Fira Mono', 'Source Code Pro', 'Courier', monospace\" font-style=\"italic\" font-size=\"10.00\">suspiciousness()</text>\n",
       "</a>\n",
       "</g>\n",
       "<g id=\"a_node2_10\"><a xlink:href=\"#\" xlink:title=\"tooltip(self, event: Any) &#45;&gt; str:&#10;Return a tooltip for the given event.\">\n",
       "<text text-anchor=\"start\" x=\"29.38\" y=\"-100\" font-family=\"'Fira Mono', 'Source Code Pro', 'Courier', monospace\" font-style=\"italic\" font-size=\"10.00\">tooltip()</text>\n",
       "</a>\n",
       "</g>\n",
       "</a>\n",
       "</g>\n",
       "</a>\n",
       "</g>\n",
       "</g>\n",
       "<!-- TarantulaDebugger&#45;&gt;ContinuousSpectrumDebugger -->\n",
       "<g id=\"edge1\" class=\"edge\">\n",
       "<title>TarantulaDebugger&#45;&gt;ContinuousSpectrumDebugger</title>\n",
       "<path fill=\"none\" stroke=\"black\" d=\"M125.67,-46.84C124.22,-56.24 122.31,-68.6 120.27,-81.77\"/>\n",
       "<polygon fill=\"none\" stroke=\"black\" points=\"116.84,-81.07 118.77,-91.49 123.75,-82.14 116.84,-81.07\"/>\n",
       "</g>\n",
       "<!-- RankingDebugger -->\n",
       "<g id=\"node7\" class=\"node\">\n",
       "<title>RankingDebugger</title>\n",
       "<g id=\"a_node7\"><a xlink:href=\"#\" xlink:title=\"class RankingDebugger:&#10;Rank events by their suspiciousness\">\n",
       "<polygon fill=\"none\" stroke=\"black\" points=\"232.88,-138.25 232.88,-194 359.88,-194 359.88,-138.25 232.88,-138.25\"/>\n",
       "<text text-anchor=\"start\" x=\"240.88\" y=\"-177.7\" font-family=\"Raleway, Helvetica, Arial, sans-serif\" font-weight=\"bold\" font-style=\"italic\" font-size=\"14.00\" fill=\"#6a0dad\">RankingDebugger</text>\n",
       "<polyline fill=\"none\" stroke=\"black\" points=\"232.88,-168.75 359.88,-168.75\"/>\n",
       "<g id=\"a_node7_11\"><a xlink:href=\"#\" xlink:title=\"RankingDebugger\">\n",
       "<g id=\"a_node7_12\"><a xlink:href=\"#\" xlink:title=\"rank(self) &#45;&gt; List[Any]:&#10;Return a list of events, sorted by suspiciousness, highest first.\">\n",
       "<text text-anchor=\"start\" x=\"266.38\" y=\"-156.25\" font-family=\"'Fira Mono', 'Source Code Pro', 'Courier', monospace\" font-weight=\"bold\" font-size=\"10.00\">rank()</text>\n",
       "</a>\n",
       "</g>\n",
       "<g id=\"a_node7_13\"><a xlink:href=\"#\" xlink:title=\"__repr__(self) &#45;&gt; str:&#10;Show code as string\">\n",
       "<text text-anchor=\"start\" x=\"266.38\" y=\"-145\" font-family=\"'Fira Mono', 'Source Code Pro', 'Courier', monospace\" font-style=\"italic\" font-size=\"10.00\">__repr__()</text>\n",
       "</a>\n",
       "</g>\n",
       "</a>\n",
       "</g>\n",
       "</a>\n",
       "</g>\n",
       "</g>\n",
       "<!-- TarantulaDebugger&#45;&gt;RankingDebugger -->\n",
       "<g id=\"edge6\" class=\"edge\">\n",
       "<title>TarantulaDebugger&#45;&gt;RankingDebugger</title>\n",
       "<path fill=\"none\" stroke=\"black\" d=\"M157.66,-46.85C176.98,-58.88 202.49,-75.7 223.38,-92.75 237.32,-104.14 251.62,-117.79 263.82,-130.16\"/>\n",
       "<polygon fill=\"none\" stroke=\"black\" points=\"260.97,-132.25 270.45,-136.98 265.98,-127.37 260.97,-132.25\"/>\n",
       "</g>\n",
       "<!-- DiscreteSpectrumDebugger -->\n",
       "<g id=\"node3\" class=\"node\">\n",
       "<title>DiscreteSpectrumDebugger</title>\n",
       "<g id=\"a_node3\"><a xlink:href=\"#\" xlink:title=\"class DiscreteSpectrumDebugger:&#10;Visualize differences between executions using three discrete colors\">\n",
       "<polygon fill=\"none\" stroke=\"black\" points=\"104.5,-276 104.5,-343 298.25,-343 298.25,-276 104.5,-276\"/>\n",
       "<text text-anchor=\"start\" x=\"112.5\" y=\"-326.7\" font-family=\"Raleway, Helvetica, Arial, sans-serif\" font-weight=\"bold\" font-size=\"14.00\" fill=\"#6a0dad\">DiscreteSpectrumDebugger</text>\n",
       "<polyline fill=\"none\" stroke=\"black\" points=\"104.5,-317.75 298.25,-317.75\"/>\n",
       "<g id=\"a_node3_14\"><a xlink:href=\"#\" xlink:title=\"DiscreteSpectrumDebugger\">\n",
       "<g id=\"a_node3_15\"><a xlink:href=\"#\" xlink:title=\"color(self, event: Any) &#45;&gt; Optional[str]:&#10;Return a HTML color for the given event.\">\n",
       "<text text-anchor=\"start\" x=\"153.38\" y=\"-305.25\" font-family=\"'Fira Mono', 'Source Code Pro', 'Courier', monospace\" font-style=\"italic\" font-size=\"10.00\">color()</text>\n",
       "</a>\n",
       "</g>\n",
       "<g id=\"a_node3_16\"><a xlink:href=\"#\" xlink:title=\"suspiciousness(self, event: Any) &#45;&gt; Optional[float]:&#10;Return a suspiciousness value [0, 1.0]&#10;for the given event, or `None` if unknown.\">\n",
       "<text text-anchor=\"start\" x=\"153.38\" y=\"-294\" font-family=\"'Fira Mono', 'Source Code Pro', 'Courier', monospace\" font-style=\"italic\" font-size=\"10.00\">suspiciousness()</text>\n",
       "</a>\n",
       "</g>\n",
       "<g id=\"a_node3_17\"><a xlink:href=\"#\" xlink:title=\"tooltip(self, event: Any) &#45;&gt; str:&#10;Return a tooltip for the given event.\">\n",
       "<text text-anchor=\"start\" x=\"153.38\" y=\"-282.75\" font-family=\"'Fira Mono', 'Source Code Pro', 'Courier', monospace\" font-style=\"italic\" font-size=\"10.00\">tooltip()</text>\n",
       "</a>\n",
       "</g>\n",
       "</a>\n",
       "</g>\n",
       "</a>\n",
       "</g>\n",
       "</g>\n",
       "<!-- ContinuousSpectrumDebugger&#45;&gt;DiscreteSpectrumDebugger -->\n",
       "<g id=\"edge2\" class=\"edge\">\n",
       "<title>ContinuousSpectrumDebugger&#45;&gt;DiscreteSpectrumDebugger</title>\n",
       "<path fill=\"none\" stroke=\"black\" d=\"M155.48,-239.47C161.52,-248.55 167.53,-257.6 173.12,-266.01\"/>\n",
       "<polygon fill=\"none\" stroke=\"black\" points=\"170.18,-267.9 178.63,-274.29 176.01,-264.02 170.18,-267.9\"/>\n",
       "</g>\n",
       "<!-- SpectrumDebugger -->\n",
       "<g id=\"node4\" class=\"node\">\n",
       "<title>SpectrumDebugger</title>\n",
       "<g id=\"a_node4\"><a xlink:href=\"#\" xlink:title=\"class SpectrumDebugger:&#10;A class to collect events for passing and failing outcomes.\">\n",
       "<polygon fill=\"none\" stroke=\"black\" points=\"130.38,-380 130.38,-492 272.38,-492 272.38,-380 130.38,-380\"/>\n",
       "<text text-anchor=\"start\" x=\"138.38\" y=\"-475.7\" font-family=\"Raleway, Helvetica, Arial, sans-serif\" font-weight=\"bold\" font-size=\"14.00\" fill=\"#6a0dad\">SpectrumDebugger</text>\n",
       "<polyline fill=\"none\" stroke=\"black\" points=\"130.38,-466.75 272.38,-466.75\"/>\n",
       "<g id=\"a_node4_18\"><a xlink:href=\"#\" xlink:title=\"SpectrumDebugger\">\n",
       "<g id=\"a_node4_19\"><a xlink:href=\"#\" xlink:title=\"__repr__(self) &#45;&gt; str:&#10;Show code as string\">\n",
       "<text text-anchor=\"start\" x=\"153.38\" y=\"-454.25\" font-family=\"'Fira Mono', 'Source Code Pro', 'Courier', monospace\" font-weight=\"bold\" font-style=\"italic\" font-size=\"10.00\">__repr__()</text>\n",
       "</a>\n",
       "</g>\n",
       "<g id=\"a_node4_20\"><a xlink:href=\"#\" xlink:title=\"__str__(self) &#45;&gt; str:&#10;Show code as string\">\n",
       "<text text-anchor=\"start\" x=\"153.38\" y=\"-443\" font-family=\"'Fira Mono', 'Source Code Pro', 'Courier', monospace\" font-weight=\"bold\" font-size=\"10.00\">__str__()</text>\n",
       "</a>\n",
       "</g>\n",
       "<g id=\"a_node4_21\"><a xlink:href=\"#\" xlink:title=\"_repr_html_(self) &#45;&gt; str:&#10;When output in Jupyter, visualize as HTML\">\n",
       "<text text-anchor=\"start\" x=\"153.38\" y=\"-431.75\" font-family=\"'Fira Mono', 'Source Code Pro', 'Courier', monospace\" font-weight=\"bold\" font-size=\"10.00\">_repr_html_()</text>\n",
       "</a>\n",
       "</g>\n",
       "<g id=\"a_node4_22\"><a xlink:href=\"#\" xlink:title=\"code(self, functions: Optional[Set[Callable]] = None, *, color: bool = False, suspiciousness: bool = False, line_numbers: bool = True) &#45;&gt; str:&#10;Return a listing of `functions` (default: covered functions).&#10;If `color` is True, render as HTML, using suspiciousness colors.&#10;If `suspiciousness` is True, include suspiciousness values.&#10;If `line_numbers` is True (default), include line numbers.\">\n",
       "<text text-anchor=\"start\" x=\"153.38\" y=\"-420.5\" font-family=\"'Fira Mono', 'Source Code Pro', 'Courier', monospace\" font-weight=\"bold\" font-size=\"10.00\">code()</text>\n",
       "</a>\n",
       "</g>\n",
       "<g id=\"a_node4_23\"><a xlink:href=\"#\" xlink:title=\"percentage(self, event: Any) &#45;&gt; str:&#10;Return the suspiciousness for the given event as percentage string.\">\n",
       "<text text-anchor=\"start\" x=\"153.38\" y=\"-408.25\" font-family=\"'Fira Mono', 'Source Code Pro', 'Courier', monospace\" font-size=\"10.00\">percentage()</text>\n",
       "</a>\n",
       "</g>\n",
       "<g id=\"a_node4_24\"><a xlink:href=\"#\" xlink:title=\"suspiciousness(self, event: Any) &#45;&gt; Optional[float]:&#10;Return a suspiciousness value in the range [0, 1.0]&#10;for the given event, or `None` if unknown.&#10;To be overloaded in subclasses.\">\n",
       "<text text-anchor=\"start\" x=\"153.38\" y=\"-398\" font-family=\"'Fira Mono', 'Source Code Pro', 'Courier', monospace\" font-style=\"italic\" font-size=\"10.00\">suspiciousness()</text>\n",
       "</a>\n",
       "</g>\n",
       "<g id=\"a_node4_25\"><a xlink:href=\"#\" xlink:title=\"tooltip(self, event: Any) &#45;&gt; str:&#10;Return a tooltip for the given event (default: percentage).&#10;To be overloaded in subclasses.\">\n",
       "<text text-anchor=\"start\" x=\"153.38\" y=\"-386.75\" font-family=\"'Fira Mono', 'Source Code Pro', 'Courier', monospace\" font-style=\"italic\" font-size=\"10.00\">tooltip()</text>\n",
       "</a>\n",
       "</g>\n",
       "</a>\n",
       "</g>\n",
       "</a>\n",
       "</g>\n",
       "</g>\n",
       "<!-- DiscreteSpectrumDebugger&#45;&gt;SpectrumDebugger -->\n",
       "<g id=\"edge3\" class=\"edge\">\n",
       "<title>DiscreteSpectrumDebugger&#45;&gt;SpectrumDebugger</title>\n",
       "<path fill=\"none\" stroke=\"black\" d=\"M201.38,-343.21C201.38,-351.03 201.38,-359.65 201.38,-368.39\"/>\n",
       "<polygon fill=\"none\" stroke=\"black\" points=\"197.88,-368.37 201.38,-378.37 204.88,-368.37 197.88,-368.37\"/>\n",
       "</g>\n",
       "<!-- DifferenceDebugger -->\n",
       "<g id=\"node5\" class=\"node\">\n",
       "<title>DifferenceDebugger</title>\n",
       "<g id=\"a_node5\"><a xlink:href=\"#\" xlink:title=\"class DifferenceDebugger:&#10;A class to collect events for passing and failing outcomes.\">\n",
       "<polygon fill=\"none\" stroke=\"black\" points=\"132.62,-529 132.62,-705.25 270.12,-705.25 270.12,-529 132.62,-529\"/>\n",
       "<text text-anchor=\"start\" x=\"140.62\" y=\"-688.95\" font-family=\"Raleway, Helvetica, Arial, sans-serif\" font-weight=\"bold\" font-style=\"italic\" font-size=\"14.00\" fill=\"#6a0dad\">DifferenceDebugger</text>\n",
       "<polyline fill=\"none\" stroke=\"black\" points=\"132.62,-680 270.12,-680\"/>\n",
       "<g id=\"a_node5_26\"><a xlink:href=\"#\" xlink:title=\"DifferenceDebugger\">\n",
       "<g id=\"a_node5_27\"><a xlink:href=\"#\" xlink:title=\"FAIL = &#39;FAIL&#39;\">\n",
       "<text text-anchor=\"start\" x=\"189.38\" y=\"-666.5\" font-family=\"'Fira Mono', 'Source Code Pro', 'Courier', monospace\" font-size=\"10.00\">FAIL</text>\n",
       "</a>\n",
       "</g>\n",
       "<g id=\"a_node5_28\"><a xlink:href=\"#\" xlink:title=\"PASS = &#39;PASS&#39;\">\n",
       "<text text-anchor=\"start\" x=\"189.38\" y=\"-655.25\" font-family=\"'Fira Mono', 'Source Code Pro', 'Courier', monospace\" font-size=\"10.00\">PASS</text>\n",
       "</a>\n",
       "</g>\n",
       "</a>\n",
       "</g>\n",
       "<polyline fill=\"none\" stroke=\"black\" points=\"132.62,-649.5 270.12,-649.5\"/>\n",
       "<g id=\"a_node5_29\"><a xlink:href=\"#\" xlink:title=\"DifferenceDebugger\">\n",
       "<g id=\"a_node5_30\"><a xlink:href=\"#\" xlink:title=\"__enter__(self) &#45;&gt; Any:&#10;Enter a `with` block. Collect coverage and outcome;&#10;classify as FAIL if the block raises an exception,&#10;and PASS if it does not.\">\n",
       "<text text-anchor=\"start\" x=\"147.38\" y=\"-637\" font-family=\"'Fira Mono', 'Source Code Pro', 'Courier', monospace\" font-weight=\"bold\" font-size=\"10.00\">__enter__()</text>\n",
       "</a>\n",
       "</g>\n",
       "<g id=\"a_node5_31\"><a xlink:href=\"#\" xlink:title=\"__exit__(self, exc_tp: Type, exc_value: BaseException, exc_traceback: traceback) &#45;&gt; Optional[bool]:&#10;Exit the `with` block.\">\n",
       "<text text-anchor=\"start\" x=\"147.38\" y=\"-625.75\" font-family=\"'Fira Mono', 'Source Code Pro', 'Courier', monospace\" font-weight=\"bold\" font-size=\"10.00\">__exit__()</text>\n",
       "</a>\n",
       "</g>\n",
       "<g id=\"a_node5_32\"><a xlink:href=\"#\" xlink:title=\"all_fail_events(self) &#45;&gt; Set[Any]:&#10;Return all events observed in failing runs.\">\n",
       "<text text-anchor=\"start\" x=\"147.38\" y=\"-614.5\" font-family=\"'Fira Mono', 'Source Code Pro', 'Courier', monospace\" font-weight=\"bold\" font-size=\"10.00\">all_fail_events()</text>\n",
       "</a>\n",
       "</g>\n",
       "<g id=\"a_node5_33\"><a xlink:href=\"#\" xlink:title=\"all_pass_events(self) &#45;&gt; Set[Any]:&#10;Return all events observed in passing runs.\">\n",
       "<text text-anchor=\"start\" x=\"147.38\" y=\"-603.25\" font-family=\"'Fira Mono', 'Source Code Pro', 'Courier', monospace\" font-weight=\"bold\" font-size=\"10.00\">all_pass_events()</text>\n",
       "</a>\n",
       "</g>\n",
       "<g id=\"a_node5_34\"><a xlink:href=\"#\" xlink:title=\"collect_fail(self, *args: Any, **kwargs: Any) &#45;&gt; Collector:&#10;Return a collector for failing runs.\">\n",
       "<text text-anchor=\"start\" x=\"147.38\" y=\"-592\" font-family=\"'Fira Mono', 'Source Code Pro', 'Courier', monospace\" font-weight=\"bold\" font-size=\"10.00\">collect_fail()</text>\n",
       "</a>\n",
       "</g>\n",
       "<g id=\"a_node5_35\"><a xlink:href=\"#\" xlink:title=\"collect_pass(self, *args: Any, **kwargs: Any) &#45;&gt; Collector:&#10;Return a collector for passing runs.\">\n",
       "<text text-anchor=\"start\" x=\"147.38\" y=\"-580.75\" font-family=\"'Fira Mono', 'Source Code Pro', 'Courier', monospace\" font-weight=\"bold\" font-size=\"10.00\">collect_pass()</text>\n",
       "</a>\n",
       "</g>\n",
       "<g id=\"a_node5_36\"><a xlink:href=\"#\" xlink:title=\"only_fail_events(self) &#45;&gt; Set[Any]:&#10;Return all events observed only in failing runs.\">\n",
       "<text text-anchor=\"start\" x=\"147.38\" y=\"-569.5\" font-family=\"'Fira Mono', 'Source Code Pro', 'Courier', monospace\" font-weight=\"bold\" font-size=\"10.00\">only_fail_events()</text>\n",
       "</a>\n",
       "</g>\n",
       "<g id=\"a_node5_37\"><a xlink:href=\"#\" xlink:title=\"only_pass_events(self) &#45;&gt; Set[Any]:&#10;Return all events observed only in passing runs.\">\n",
       "<text text-anchor=\"start\" x=\"147.38\" y=\"-558.25\" font-family=\"'Fira Mono', 'Source Code Pro', 'Courier', monospace\" font-weight=\"bold\" font-size=\"10.00\">only_pass_events()</text>\n",
       "</a>\n",
       "</g>\n",
       "<g id=\"a_node5_38\"><a xlink:href=\"#\" xlink:title=\"fail_collectors(self) &#45;&gt; List[Collector]\">\n",
       "<text text-anchor=\"start\" x=\"147.38\" y=\"-546\" font-family=\"'Fira Mono', 'Source Code Pro', 'Courier', monospace\" font-size=\"10.00\">fail_collectors()</text>\n",
       "</a>\n",
       "</g>\n",
       "<g id=\"a_node5_39\"><a xlink:href=\"#\" xlink:title=\"pass_collectors(self) &#45;&gt; List[Collector]\">\n",
       "<text text-anchor=\"start\" x=\"147.38\" y=\"-534.75\" font-family=\"'Fira Mono', 'Source Code Pro', 'Courier', monospace\" font-size=\"10.00\">pass_collectors()</text>\n",
       "</a>\n",
       "</g>\n",
       "</a>\n",
       "</g>\n",
       "</a>\n",
       "</g>\n",
       "</g>\n",
       "<!-- SpectrumDebugger&#45;&gt;DifferenceDebugger -->\n",
       "<g id=\"edge4\" class=\"edge\">\n",
       "<title>SpectrumDebugger&#45;&gt;DifferenceDebugger</title>\n",
       "<path fill=\"none\" stroke=\"black\" d=\"M201.38,-492.21C201.38,-500.28 201.38,-508.8 201.38,-517.43\"/>\n",
       "<polygon fill=\"none\" stroke=\"black\" points=\"197.88,-517.3 201.38,-527.3 204.88,-517.3 197.88,-517.3\"/>\n",
       "</g>\n",
       "<!-- StatisticalDebugger -->\n",
       "<g id=\"node6\" class=\"node\">\n",
       "<title>StatisticalDebugger</title>\n",
       "<g id=\"a_node6\"><a xlink:href=\"#\" xlink:title=\"class StatisticalDebugger:&#10;A class to collect events for multiple outcomes.\">\n",
       "<polygon fill=\"none\" stroke=\"black\" points=\"134.12,-742.25 134.12,-933 268.62,-933 268.62,-742.25 134.12,-742.25\"/>\n",
       "<text text-anchor=\"start\" x=\"142.12\" y=\"-916.7\" font-family=\"Raleway, Helvetica, Arial, sans-serif\" font-weight=\"bold\" font-style=\"italic\" font-size=\"14.00\" fill=\"#6a0dad\">StatisticalDebugger</text>\n",
       "<polyline fill=\"none\" stroke=\"black\" points=\"134.12,-907.75 268.62,-907.75\"/>\n",
       "<g id=\"a_node6_40\"><a xlink:href=\"#\" xlink:title=\"StatisticalDebugger\">\n",
       "<g id=\"a_node6_41\"><a xlink:href=\"#\" xlink:title=\"__init__(self, collector_class: Type = &lt;class &#39;CoverageCollector&#39;&gt;, log: bool = False):&#10;Constructor. Use instances of `collector_class` to collect events.\">\n",
       "<text text-anchor=\"start\" x=\"144.38\" y=\"-895.25\" font-family=\"'Fira Mono', 'Source Code Pro', 'Courier', monospace\" font-weight=\"bold\" font-size=\"10.00\">__init__()</text>\n",
       "</a>\n",
       "</g>\n",
       "<g id=\"a_node6_42\"><a xlink:href=\"#\" xlink:title=\"all_events(self, outcome: Optional[str] = None) &#45;&gt; Set[Any]:&#10;Return a set of all events observed.\">\n",
       "<text text-anchor=\"start\" x=\"144.38\" y=\"-884\" font-family=\"'Fira Mono', 'Source Code Pro', 'Courier', monospace\" font-weight=\"bold\" font-size=\"10.00\">all_events()</text>\n",
       "</a>\n",
       "</g>\n",
       "<g id=\"a_node6_43\"><a xlink:href=\"#\" xlink:title=\"coverage(self) &#45;&gt; Set[Tuple[Callable, int]]:&#10;Return a set of all (functions, line_numbers) observed\">\n",
       "<text text-anchor=\"start\" x=\"144.38\" y=\"-872.75\" font-family=\"'Fira Mono', 'Source Code Pro', 'Courier', monospace\" font-weight=\"bold\" font-size=\"10.00\">coverage()</text>\n",
       "</a>\n",
       "</g>\n",
       "<g id=\"a_node6_44\"><a xlink:href=\"#\" xlink:title=\"covered_functions(self) &#45;&gt; Set[Callable]:&#10;Return a set of all functions observed.\">\n",
       "<text text-anchor=\"start\" x=\"144.38\" y=\"-861.5\" font-family=\"'Fira Mono', 'Source Code Pro', 'Courier', monospace\" font-weight=\"bold\" font-size=\"10.00\">covered_functions()</text>\n",
       "</a>\n",
       "</g>\n",
       "<g id=\"a_node6_45\"><a xlink:href=\"#\" xlink:title=\"event_table(self, **_args: Any) &#45;&gt; Any:&#10;Print out event table in Markdown format.\">\n",
       "<text text-anchor=\"start\" x=\"144.38\" y=\"-850.25\" font-family=\"'Fira Mono', 'Source Code Pro', 'Courier', monospace\" font-weight=\"bold\" font-size=\"10.00\">event_table()</text>\n",
       "</a>\n",
       "</g>\n",
       "<g id=\"a_node6_46\"><a xlink:href=\"#\" xlink:title=\"function(self) &#45;&gt; Optional[Callable]:&#10;Return the entry function from the events observed,&#10;or None if ambiguous.\">\n",
       "<text text-anchor=\"start\" x=\"144.38\" y=\"-839\" font-family=\"'Fira Mono', 'Source Code Pro', 'Courier', monospace\" font-weight=\"bold\" font-size=\"10.00\">function()</text>\n",
       "</a>\n",
       "</g>\n",
       "<g id=\"a_node6_47\"><a xlink:href=\"#\" xlink:title=\"__repr__(self) &#45;&gt; str:&#10;Return repr(self).\">\n",
       "<text text-anchor=\"start\" x=\"144.38\" y=\"-827.75\" font-family=\"'Fira Mono', 'Source Code Pro', 'Courier', monospace\" font-style=\"italic\" font-size=\"10.00\">__repr__()</text>\n",
       "</a>\n",
       "</g>\n",
       "<g id=\"a_node6_48\"><a xlink:href=\"#\" xlink:title=\"_repr_markdown_(self) &#45;&gt; str\">\n",
       "<text text-anchor=\"start\" x=\"144.38\" y=\"-815.5\" font-family=\"'Fira Mono', 'Source Code Pro', 'Courier', monospace\" font-size=\"10.00\">_repr_markdown_()</text>\n",
       "</a>\n",
       "</g>\n",
       "<g id=\"a_node6_49\"><a xlink:href=\"#\" xlink:title=\"add_collector(self, outcome: str, collector: Collector) &#45;&gt; Collector\">\n",
       "<text text-anchor=\"start\" x=\"144.38\" y=\"-804.25\" font-family=\"'Fira Mono', 'Source Code Pro', 'Courier', monospace\" font-size=\"10.00\">add_collector()</text>\n",
       "</a>\n",
       "</g>\n",
       "<g id=\"a_node6_50\"><a xlink:href=\"#\" xlink:title=\"collect(self, outcome: str, *args: Any, **kwargs: Any) &#45;&gt; Collector:&#10;Return a collector for the given outcome.&#10;Additional args are passed to the collector.\">\n",
       "<text text-anchor=\"start\" x=\"144.38\" y=\"-793\" font-family=\"'Fira Mono', 'Source Code Pro', 'Courier', monospace\" font-size=\"10.00\">collect()</text>\n",
       "</a>\n",
       "</g>\n",
       "<g id=\"a_node6_51\"><a xlink:href=\"#\" xlink:title=\"color(self, event: Any) &#45;&gt; Optional[str]:&#10;Return a color for the given event, or None.&#10;To be overloaded in subclasses.\">\n",
       "<text text-anchor=\"start\" x=\"144.38\" y=\"-782.75\" font-family=\"'Fira Mono', 'Source Code Pro', 'Courier', monospace\" font-style=\"italic\" font-size=\"10.00\">color()</text>\n",
       "</a>\n",
       "</g>\n",
       "<g id=\"a_node6_52\"><a xlink:href=\"#\" xlink:title=\"event_str(self, event: Any) &#45;&gt; str:&#10;Format the given event. To be overloaded in subclasses.\">\n",
       "<text text-anchor=\"start\" x=\"144.38\" y=\"-771.5\" font-family=\"'Fira Mono', 'Source Code Pro', 'Courier', monospace\" font-style=\"italic\" font-size=\"10.00\">event_str()</text>\n",
       "</a>\n",
       "</g>\n",
       "<g id=\"a_node6_53\"><a xlink:href=\"#\" xlink:title=\"event_table_text(self, *, args: bool = False, color: bool = False) &#45;&gt; str:&#10;Print out a table of events observed.&#10;If `args` is True, use arguments as headers.&#10;If `color` is True, use colors.\">\n",
       "<text text-anchor=\"start\" x=\"144.38\" y=\"-759.25\" font-family=\"'Fira Mono', 'Source Code Pro', 'Courier', monospace\" font-size=\"10.00\">event_table_text()</text>\n",
       "</a>\n",
       "</g>\n",
       "<g id=\"a_node6_54\"><a xlink:href=\"#\" xlink:title=\"tooltip(self, event: Any) &#45;&gt; Optional[str]:&#10;Return a tooltip string for the given event, or None.&#10;To be overloaded in subclasses.\">\n",
       "<text text-anchor=\"start\" x=\"144.38\" y=\"-749\" font-family=\"'Fira Mono', 'Source Code Pro', 'Courier', monospace\" font-style=\"italic\" font-size=\"10.00\">tooltip()</text>\n",
       "</a>\n",
       "</g>\n",
       "</a>\n",
       "</g>\n",
       "</a>\n",
       "</g>\n",
       "</g>\n",
       "<!-- DifferenceDebugger&#45;&gt;StatisticalDebugger -->\n",
       "<g id=\"edge5\" class=\"edge\">\n",
       "<title>DifferenceDebugger&#45;&gt;StatisticalDebugger</title>\n",
       "<path fill=\"none\" stroke=\"black\" d=\"M201.38,-705.74C201.38,-713.9 201.38,-722.23 201.38,-730.54\"/>\n",
       "<polygon fill=\"none\" stroke=\"black\" points=\"197.88,-730.32 201.38,-740.32 204.88,-730.32 197.88,-730.32\"/>\n",
       "</g>\n",
       "<!-- RankingDebugger&#45;&gt;DiscreteSpectrumDebugger -->\n",
       "<g id=\"edge7\" class=\"edge\">\n",
       "<title>RankingDebugger&#45;&gt;DiscreteSpectrumDebugger</title>\n",
       "<path fill=\"none\" stroke=\"black\" d=\"M278.06,-194.38C264.36,-214.76 245.38,-243.01 229.73,-266.3\"/>\n",
       "<polygon fill=\"none\" stroke=\"black\" points=\"226.99,-264.1 224.32,-274.35 232.8,-268.01 226.99,-264.1\"/>\n",
       "</g>\n",
       "<!-- OchiaiDebugger -->\n",
       "<g id=\"node8\" class=\"node\">\n",
       "<title>OchiaiDebugger</title>\n",
       "<g id=\"a_node8\"><a xlink:href=\"#\" xlink:title=\"class OchiaiDebugger:&#10;Spectrum&#45;based Debugger using the Ochiai metric for suspiciousness\">\n",
       "<polygon fill=\"none\" stroke=\"black\" points=\"225.62,-0.5 225.62,-56.25 345.12,-56.25 345.12,-0.5 225.62,-0.5\"/>\n",
       "<text text-anchor=\"start\" x=\"233.62\" y=\"-39.95\" font-family=\"Raleway, Helvetica, Arial, sans-serif\" font-weight=\"bold\" font-size=\"14.00\" fill=\"#6a0dad\">OchiaiDebugger</text>\n",
       "<polyline fill=\"none\" stroke=\"black\" points=\"225.62,-31 345.12,-31\"/>\n",
       "<g id=\"a_node8_55\"><a xlink:href=\"#\" xlink:title=\"OchiaiDebugger\">\n",
       "<g id=\"a_node8_56\"><a xlink:href=\"#\" xlink:title=\"hue(self, event: Any) &#45;&gt; Optional[float]:&#10;Return a color hue from 0.0 (red) to 1.0 (green).\">\n",
       "<text text-anchor=\"start\" x=\"237.38\" y=\"-18.5\" font-family=\"'Fira Mono', 'Source Code Pro', 'Courier', monospace\" font-style=\"italic\" font-size=\"10.00\">hue()</text>\n",
       "</a>\n",
       "</g>\n",
       "<g id=\"a_node8_57\"><a xlink:href=\"#\" xlink:title=\"suspiciousness(self, event: Any) &#45;&gt; Optional[float]:&#10;Return a suspiciousness value [0, 1.0]&#10;for the given event, or `None` if unknown.\">\n",
       "<text text-anchor=\"start\" x=\"237.38\" y=\"-7.25\" font-family=\"'Fira Mono', 'Source Code Pro', 'Courier', monospace\" font-style=\"italic\" font-size=\"10.00\">suspiciousness()</text>\n",
       "</a>\n",
       "</g>\n",
       "</a>\n",
       "</g>\n",
       "</a>\n",
       "</g>\n",
       "</g>\n",
       "<!-- OchiaiDebugger&#45;&gt;ContinuousSpectrumDebugger -->\n",
       "<g id=\"edge8\" class=\"edge\">\n",
       "<title>OchiaiDebugger&#45;&gt;ContinuousSpectrumDebugger</title>\n",
       "<path fill=\"none\" stroke=\"black\" d=\"M249.78,-56.52C238.19,-65.36 224.67,-75.67 210.68,-86.34\"/>\n",
       "<polygon fill=\"none\" stroke=\"black\" points=\"208.94,-83.26 203.11,-92.11 213.19,-88.83 208.94,-83.26\"/>\n",
       "</g>\n",
       "<!-- OchiaiDebugger&#45;&gt;RankingDebugger -->\n",
       "<g id=\"edge9\" class=\"edge\">\n",
       "<title>OchiaiDebugger&#45;&gt;RankingDebugger</title>\n",
       "<path fill=\"none\" stroke=\"black\" d=\"M287.57,-56.52C289.2,-76.59 291.44,-104.2 293.25,-126.56\"/>\n",
       "<polygon fill=\"none\" stroke=\"black\" points=\"289.76,-126.83 294.06,-136.52 296.74,-126.27 289.76,-126.83\"/>\n",
       "</g>\n",
       "<!-- Legend -->\n",
       "<g id=\"node9\" class=\"node\">\n",
       "<title>Legend</title>\n",
       "<text text-anchor=\"start\" x=\"362.75\" y=\"-44.38\" font-family=\"Raleway, Helvetica, Arial, sans-serif\" font-weight=\"bold\" font-size=\"10.00\" fill=\"#6a0dad\">Legend</text>\n",
       "<text text-anchor=\"start\" x=\"362.75\" y=\"-34.38\" font-family=\"Raleway, Helvetica, Arial, sans-serif\" font-size=\"10.00\">• </text>\n",
       "<text text-anchor=\"start\" x=\"368.75\" y=\"-34.38\" font-family=\"'Fira Mono', 'Source Code Pro', 'Courier', monospace\" font-weight=\"bold\" font-size=\"8.00\">public_method()</text>\n",
       "<text text-anchor=\"start\" x=\"362.75\" y=\"-24.38\" font-family=\"Raleway, Helvetica, Arial, sans-serif\" font-size=\"10.00\">• </text>\n",
       "<text text-anchor=\"start\" x=\"368.75\" y=\"-24.38\" font-family=\"'Fira Mono', 'Source Code Pro', 'Courier', monospace\" font-size=\"8.00\">private_method()</text>\n",
       "<text text-anchor=\"start\" x=\"362.75\" y=\"-14.38\" font-family=\"Raleway, Helvetica, Arial, sans-serif\" font-size=\"10.00\">• </text>\n",
       "<text text-anchor=\"start\" x=\"368.75\" y=\"-14.38\" font-family=\"'Fira Mono', 'Source Code Pro', 'Courier', monospace\" font-style=\"italic\" font-size=\"8.00\">overloaded_method()</text>\n",
       "<text text-anchor=\"start\" x=\"362.75\" y=\"-5.32\" font-family=\"Helvetica,sans-Serif\" font-size=\"9.00\">Hover over names to see doc</text>\n",
       "</g>\n",
       "</g>\n",
       "</svg>\n"
      ],
      "text/plain": [
       "<graphviz.graphs.Digraph at 0x16a033820>"
      ]
     },
     "execution_count": 167,
     "metadata": {},
     "output_type": "execute_result"
    }
   ],
   "source": [
    "# ignore\n",
    "display_class_hierarchy([TarantulaDebugger, OchiaiDebugger],\n",
    "                        abstract_classes=[\n",
    "                            StatisticalDebugger,\n",
    "                            DifferenceDebugger,\n",
    "                            RankingDebugger\n",
    "                        ],\n",
    "                        public_methods=[\n",
    "                            StatisticalDebugger.__init__,\n",
    "                            StatisticalDebugger.all_events,\n",
    "                            StatisticalDebugger.event_table,\n",
    "                            StatisticalDebugger.function,\n",
    "                            StatisticalDebugger.coverage,\n",
    "                            StatisticalDebugger.covered_functions,\n",
    "                            DifferenceDebugger.__enter__,\n",
    "                            DifferenceDebugger.__exit__,\n",
    "                            DifferenceDebugger.all_pass_events,\n",
    "                            DifferenceDebugger.all_fail_events,\n",
    "                            DifferenceDebugger.collect_pass,\n",
    "                            DifferenceDebugger.collect_fail,\n",
    "                            DifferenceDebugger.only_pass_events,\n",
    "                            DifferenceDebugger.only_fail_events,\n",
    "                            SpectrumDebugger.code,\n",
    "                            SpectrumDebugger.__repr__,\n",
    "                            SpectrumDebugger.__str__,\n",
    "                            SpectrumDebugger._repr_html_,\n",
    "                            ContinuousSpectrumDebugger.code,\n",
    "                            ContinuousSpectrumDebugger.__repr__,\n",
    "                            RankingDebugger.rank\n",
    "                        ],\n",
    "                        project='debuggingbook')"
   ]
  },
  {
   "cell_type": "code",
   "execution_count": 168,
   "metadata": {
    "execution": {
     "iopub.execute_input": "2024-01-17T21:32:49.642935Z",
     "iopub.status.busy": "2024-01-17T21:32:49.642823Z",
     "iopub.status.idle": "2024-01-17T21:32:50.127203Z",
     "shell.execute_reply": "2024-01-17T21:32:50.126803Z"
    },
    "slideshow": {
     "slide_type": "subslide"
    }
   },
   "outputs": [
    {
     "data": {
      "image/svg+xml": [
       "<?xml version=\"1.0\" encoding=\"UTF-8\" standalone=\"no\"?>\n",
       "<!DOCTYPE svg PUBLIC \"-//W3C//DTD SVG 1.1//EN\"\n",
       " \"http://www.w3.org/Graphics/SVG/1.1/DTD/svg11.dtd\">\n",
       "<!-- Generated by graphviz version 9.0.0 (20230911.1827)\n",
       " -->\n",
       "<!-- Pages: 1 -->\n",
       "<svg width=\"406pt\" height=\"523pt\"\n",
       " viewBox=\"0.00 0.00 405.75 523.00\" xmlns=\"http://www.w3.org/2000/svg\" xmlns:xlink=\"http://www.w3.org/1999/xlink\">\n",
       "<g id=\"graph0\" class=\"graph\" transform=\"scale(1 1) rotate(0) translate(4 519)\">\n",
       "<g id=\"a_graph0\"><a xlink:title=\"CoverageCollector class hierarchy\">\n",
       "<polygon fill=\"white\" stroke=\"none\" points=\"-4,4 -4,-519 401.75,-519 401.75,4 -4,4\"/>\n",
       "</a>\n",
       "</g>\n",
       "<!-- CoverageCollector -->\n",
       "<g id=\"node1\" class=\"node\">\n",
       "<title>CoverageCollector</title>\n",
       "<g id=\"a_node1\"><a xlink:href=\"#\" xlink:title=\"class CoverageCollector:&#10;A class to record covered locations during execution.\">\n",
       "<polygon fill=\"none\" stroke=\"black\" points=\"126.25,-0.5 126.25,-90 260,-90 260,-0.5 126.25,-0.5\"/>\n",
       "<text text-anchor=\"start\" x=\"134.25\" y=\"-73.7\" font-family=\"Raleway, Helvetica, Arial, sans-serif\" font-weight=\"bold\" font-size=\"14.00\" fill=\"#6a0dad\">CoverageCollector</text>\n",
       "<polyline fill=\"none\" stroke=\"black\" points=\"126.25,-64.75 260,-64.75\"/>\n",
       "<g id=\"a_node1_0\"><a xlink:href=\"#\" xlink:title=\"CoverageCollector\">\n",
       "<g id=\"a_node1_1\"><a xlink:href=\"#\" xlink:title=\"coverage(self) &#45;&gt; Set[Tuple[Callable, int]]:&#10;Return a set (function, lineno) with all locations covered.\">\n",
       "<text text-anchor=\"start\" x=\"136.12\" y=\"-52.25\" font-family=\"'Fira Mono', 'Source Code Pro', 'Courier', monospace\" font-weight=\"bold\" font-style=\"italic\" font-size=\"10.00\">coverage()</text>\n",
       "</a>\n",
       "</g>\n",
       "<g id=\"a_node1_2\"><a xlink:href=\"#\" xlink:title=\"covered_functions(self) &#45;&gt; Set[Callable]:&#10;Return a set with all functions covered.\">\n",
       "<text text-anchor=\"start\" x=\"136.12\" y=\"-41\" font-family=\"'Fira Mono', 'Source Code Pro', 'Courier', monospace\" font-weight=\"bold\" font-style=\"italic\" font-size=\"10.00\">covered_functions()</text>\n",
       "</a>\n",
       "</g>\n",
       "<g id=\"a_node1_3\"><a xlink:href=\"#\" xlink:title=\"events(self) &#45;&gt; Set[Tuple[str, int]]:&#10;Return the set of locations covered.&#10;Each location comes as a pair (`function_name`, `lineno`).\">\n",
       "<text text-anchor=\"start\" x=\"136.12\" y=\"-29.75\" font-family=\"'Fira Mono', 'Source Code Pro', 'Courier', monospace\" font-weight=\"bold\" font-style=\"italic\" font-size=\"10.00\">events()</text>\n",
       "</a>\n",
       "</g>\n",
       "<g id=\"a_node1_4\"><a xlink:href=\"#\" xlink:title=\"__init__(self) &#45;&gt; None:&#10;Constructor.\">\n",
       "<text text-anchor=\"start\" x=\"136.12\" y=\"-18.5\" font-family=\"'Fira Mono', 'Source Code Pro', 'Courier', monospace\" font-style=\"italic\" font-size=\"10.00\">__init__()</text>\n",
       "</a>\n",
       "</g>\n",
       "<g id=\"a_node1_5\"><a xlink:href=\"#\" xlink:title=\"collect(self, frame: frame, event: str, arg: Any) &#45;&gt; None:&#10;Save coverage for an observed event.\">\n",
       "<text text-anchor=\"start\" x=\"136.12\" y=\"-7.25\" font-family=\"'Fira Mono', 'Source Code Pro', 'Courier', monospace\" font-style=\"italic\" font-size=\"10.00\">collect()</text>\n",
       "</a>\n",
       "</g>\n",
       "</a>\n",
       "</g>\n",
       "</a>\n",
       "</g>\n",
       "</g>\n",
       "<!-- Collector -->\n",
       "<g id=\"node2\" class=\"node\">\n",
       "<title>Collector</title>\n",
       "<g id=\"a_node2\"><a xlink:href=\"#\" xlink:title=\"class Collector:&#10;A class to record events during execution.\">\n",
       "<polygon fill=\"none\" stroke=\"black\" points=\"23.12,-127 23.12,-317.75 165.12,-317.75 165.12,-127 23.12,-127\"/>\n",
       "<text text-anchor=\"start\" x=\"66\" y=\"-301.45\" font-family=\"Raleway, Helvetica, Arial, sans-serif\" font-weight=\"bold\" font-size=\"14.00\" fill=\"#6a0dad\">Collector</text>\n",
       "<polyline fill=\"none\" stroke=\"black\" points=\"23.12,-292.5 165.12,-292.5\"/>\n",
       "<g id=\"a_node2_6\"><a xlink:href=\"#\" xlink:title=\"Collector\">\n",
       "<g id=\"a_node2_7\"><a xlink:href=\"#\" xlink:title=\"__init__(self) &#45;&gt; None:&#10;Constructor.\">\n",
       "<text text-anchor=\"start\" x=\"31.12\" y=\"-280\" font-family=\"'Fira Mono', 'Source Code Pro', 'Courier', monospace\" font-weight=\"bold\" font-style=\"italic\" font-size=\"10.00\">__init__()</text>\n",
       "</a>\n",
       "</g>\n",
       "<g id=\"a_node2_8\"><a xlink:href=\"#\" xlink:title=\"__repr__(self) &#45;&gt; str:&#10;Return a string representation of the collector\">\n",
       "<text text-anchor=\"start\" x=\"31.12\" y=\"-268.75\" font-family=\"'Fira Mono', 'Source Code Pro', 'Courier', monospace\" font-weight=\"bold\" font-size=\"10.00\">__repr__()</text>\n",
       "</a>\n",
       "</g>\n",
       "<g id=\"a_node2_9\"><a xlink:href=\"#\" xlink:title=\"args(self) &#45;&gt; Dict[str, Any]:&#10;Return a dict of argument names and values from the first call\">\n",
       "<text text-anchor=\"start\" x=\"31.12\" y=\"-257.5\" font-family=\"'Fira Mono', 'Source Code Pro', 'Courier', monospace\" font-weight=\"bold\" font-size=\"10.00\">args()</text>\n",
       "</a>\n",
       "</g>\n",
       "<g id=\"a_node2_10\"><a xlink:href=\"#\" xlink:title=\"argstring(self) &#45;&gt; str:&#10;Return the list of arguments from the first call,&#10;as a printable string\">\n",
       "<text text-anchor=\"start\" x=\"31.12\" y=\"-246.25\" font-family=\"'Fira Mono', 'Source Code Pro', 'Courier', monospace\" font-weight=\"bold\" font-size=\"10.00\">argstring()</text>\n",
       "</a>\n",
       "</g>\n",
       "<g id=\"a_node2_11\"><a xlink:href=\"#\" xlink:title=\"collect(self, frame: frame, event: str, arg: Any) &#45;&gt; None:&#10;Collector function. To be overloaded in subclasses.\">\n",
       "<text text-anchor=\"start\" x=\"31.12\" y=\"-235\" font-family=\"'Fira Mono', 'Source Code Pro', 'Courier', monospace\" font-weight=\"bold\" font-style=\"italic\" font-size=\"10.00\">collect()</text>\n",
       "</a>\n",
       "</g>\n",
       "<g id=\"a_node2_12\"><a xlink:href=\"#\" xlink:title=\"exception(self) &#45;&gt; Optional[Type]:&#10;Return the exception class from the first call,&#10;or None if no exception was raised.\">\n",
       "<text text-anchor=\"start\" x=\"31.12\" y=\"-223.75\" font-family=\"'Fira Mono', 'Source Code Pro', 'Courier', monospace\" font-weight=\"bold\" font-size=\"10.00\">exception()</text>\n",
       "</a>\n",
       "</g>\n",
       "<g id=\"a_node2_13\"><a xlink:href=\"#\" xlink:title=\"function(self) &#45;&gt; Callable:&#10;Return the function from the first call, as a function object\">\n",
       "<text text-anchor=\"start\" x=\"31.12\" y=\"-212.5\" font-family=\"'Fira Mono', 'Source Code Pro', 'Courier', monospace\" font-weight=\"bold\" font-size=\"10.00\">function()</text>\n",
       "</a>\n",
       "</g>\n",
       "<g id=\"a_node2_14\"><a xlink:href=\"#\" xlink:title=\"id(self) &#45;&gt; str:&#10;Return an identifier for the collector,&#10;created from the first call\">\n",
       "<text text-anchor=\"start\" x=\"31.12\" y=\"-201.25\" font-family=\"'Fira Mono', 'Source Code Pro', 'Courier', monospace\" font-weight=\"bold\" font-size=\"10.00\">id()</text>\n",
       "</a>\n",
       "</g>\n",
       "<g id=\"a_node2_15\"><a xlink:href=\"#\" xlink:title=\"__exit__(self, exc_tp: Type, exc_value: BaseException, exc_traceback: traceback) &#45;&gt; Optional[bool]:&#10;Exit the `with` block.\">\n",
       "<text text-anchor=\"start\" x=\"31.12\" y=\"-190\" font-family=\"'Fira Mono', 'Source Code Pro', 'Courier', monospace\" font-style=\"italic\" font-size=\"10.00\">__exit__()</text>\n",
       "</a>\n",
       "</g>\n",
       "<g id=\"a_node2_16\"><a xlink:href=\"#\" xlink:title=\"add_items_to_ignore(self, items_to_ignore: List[Union[Type, Callable]]) &#45;&gt; None:&#10;Define additional classes and functions to ignore during collection&#10;(typically `Debugger` classes using these collectors).\">\n",
       "<text text-anchor=\"start\" x=\"31.12\" y=\"-177.75\" font-family=\"'Fira Mono', 'Source Code Pro', 'Courier', monospace\" font-size=\"10.00\">add_items_to_ignore()</text>\n",
       "</a>\n",
       "</g>\n",
       "<g id=\"a_node2_17\"><a xlink:href=\"#\" xlink:title=\"coverage(self) &#45;&gt; Set[Tuple[Callable, int]]:&#10;Return a set (function, lineno) with locations covered.&#10;To be overloaded in subclasses.\">\n",
       "<text text-anchor=\"start\" x=\"31.12\" y=\"-167.5\" font-family=\"'Fira Mono', 'Source Code Pro', 'Courier', monospace\" font-style=\"italic\" font-size=\"10.00\">coverage()</text>\n",
       "</a>\n",
       "</g>\n",
       "<g id=\"a_node2_18\"><a xlink:href=\"#\" xlink:title=\"covered_functions(self) &#45;&gt; Set[Callable]:&#10;Set of covered functions. To be overloaded in subclasses.\">\n",
       "<text text-anchor=\"start\" x=\"31.12\" y=\"-156.25\" font-family=\"'Fira Mono', 'Source Code Pro', 'Courier', monospace\" font-style=\"italic\" font-size=\"10.00\">covered_functions()</text>\n",
       "</a>\n",
       "</g>\n",
       "<g id=\"a_node2_19\"><a xlink:href=\"#\" xlink:title=\"events(self) &#45;&gt; Set:&#10;Return a collection of events. To be overridden in subclasses.\">\n",
       "<text text-anchor=\"start\" x=\"31.12\" y=\"-145\" font-family=\"'Fira Mono', 'Source Code Pro', 'Courier', monospace\" font-style=\"italic\" font-size=\"10.00\">events()</text>\n",
       "</a>\n",
       "</g>\n",
       "<g id=\"a_node2_20\"><a xlink:href=\"#\" xlink:title=\"traceit(self, frame: frame, event: str, arg: Any) &#45;&gt; None:&#10;Tracing function.&#10;Saves the first function and calls collect().\">\n",
       "<text text-anchor=\"start\" x=\"31.12\" y=\"-133.75\" font-family=\"'Fira Mono', 'Source Code Pro', 'Courier', monospace\" font-style=\"italic\" font-size=\"10.00\">traceit()</text>\n",
       "</a>\n",
       "</g>\n",
       "</a>\n",
       "</g>\n",
       "</a>\n",
       "</g>\n",
       "</g>\n",
       "<!-- CoverageCollector&#45;&gt;Collector -->\n",
       "<g id=\"edge1\" class=\"edge\">\n",
       "<title>CoverageCollector&#45;&gt;Collector</title>\n",
       "<path fill=\"none\" stroke=\"black\" d=\"M168.14,-90.44C163.52,-98.63 158.51,-107.49 153.35,-116.61\"/>\n",
       "<polygon fill=\"none\" stroke=\"black\" points=\"150.33,-114.84 148.45,-125.27 156.42,-118.29 150.33,-114.84\"/>\n",
       "</g>\n",
       "<!-- StackInspector -->\n",
       "<g id=\"node4\" class=\"node\">\n",
       "<title>StackInspector</title>\n",
       "<g id=\"a_node4\"><a xlink:href=\"StackInspector.ipynb\" xlink:title=\"class StackInspector:&#10;Provide functions to inspect the stack\">\n",
       "<polygon fill=\"none\" stroke=\"black\" points=\"61.12,-470 61.12,-514.5 227.12,-514.5 227.12,-470 61.12,-470\"/>\n",
       "<text text-anchor=\"start\" x=\"97.62\" y=\"-498.2\" font-family=\"Raleway, Helvetica, Arial, sans-serif\" font-weight=\"bold\" font-size=\"14.00\" fill=\"#6a0dad\">StackInspector</text>\n",
       "<polyline fill=\"none\" stroke=\"black\" points=\"61.12,-489.25 227.12,-489.25\"/>\n",
       "<g id=\"a_node4_21\"><a xlink:href=\"#\" xlink:title=\"StackInspector\">\n",
       "<g id=\"a_node4_22\"><a xlink:href=\"StackInspector.ipynb\" xlink:title=\"_generated_function_cache = {(&#39;remove_html_markup&#39;, 1): &lt;function remove_html_markup at 0x1079a0940&gt;, (&#39;middle&#39;, 1): &lt;function middle at 0x107f12830&gt;}\">\n",
       "<text text-anchor=\"start\" x=\"69.12\" y=\"-475.75\" font-family=\"'Fira Mono', 'Source Code Pro', 'Courier', monospace\" font-size=\"10.00\">_generated_function_cache</text>\n",
       "</a>\n",
       "</g>\n",
       "</a>\n",
       "</g>\n",
       "</a>\n",
       "</g>\n",
       "</g>\n",
       "<!-- CoverageCollector&#45;&gt;StackInspector -->\n",
       "<g id=\"edge4\" class=\"edge\">\n",
       "<title>CoverageCollector&#45;&gt;StackInspector</title>\n",
       "<path fill=\"none\" stroke=\"black\" d=\"M193.67,-90.35C193.71,-162.8 190.19,-311.18 164.12,-433.5 162.33,-441.92 159.67,-450.8 156.86,-459.01\"/>\n",
       "<polygon fill=\"none\" stroke=\"black\" points=\"153.63,-457.65 153.53,-468.25 160.21,-460.03 153.63,-457.65\"/>\n",
       "</g>\n",
       "<!-- Tracer -->\n",
       "<g id=\"node3\" class=\"node\">\n",
       "<title>Tracer</title>\n",
       "<g id=\"a_node3\"><a xlink:href=\"Tracer.ipynb\" xlink:title=\"class Tracer:&#10;A class for tracing a piece of code. Use as `with Tracer(): block()`\">\n",
       "<polygon fill=\"none\" stroke=\"black\" points=\"55.12,-354.75 55.12,-433 155.12,-433 155.12,-354.75 55.12,-354.75\"/>\n",
       "<text text-anchor=\"start\" x=\"85.62\" y=\"-416.7\" font-family=\"Raleway, Helvetica, Arial, sans-serif\" font-weight=\"bold\" font-size=\"14.00\" fill=\"#6a0dad\">Tracer</text>\n",
       "<polyline fill=\"none\" stroke=\"black\" points=\"55.12,-407.75 155.12,-407.75\"/>\n",
       "<g id=\"a_node3_23\"><a xlink:href=\"#\" xlink:title=\"Tracer\">\n",
       "<g id=\"a_node3_24\"><a xlink:href=\"Tracer.ipynb\" xlink:title=\"__enter__(self) &#45;&gt; Any:&#10;Called at begin of `with` block. Turn tracing on.\">\n",
       "<text text-anchor=\"start\" x=\"63.12\" y=\"-395.25\" font-family=\"'Fira Mono', 'Source Code Pro', 'Courier', monospace\" font-weight=\"bold\" font-size=\"10.00\">__enter__()</text>\n",
       "</a>\n",
       "</g>\n",
       "<g id=\"a_node3_25\"><a xlink:href=\"Tracer.ipynb\" xlink:title=\"__exit__(self, exc_tp: Type, exc_value: BaseException, exc_traceback: traceback) &#45;&gt; Optional[bool]:&#10;Called at end of `with` block. Turn tracing off.&#10;Return `None` if ok, not `None` if internal error.\">\n",
       "<text text-anchor=\"start\" x=\"63.12\" y=\"-384\" font-family=\"'Fira Mono', 'Source Code Pro', 'Courier', monospace\" font-weight=\"bold\" font-style=\"italic\" font-size=\"10.00\">__exit__()</text>\n",
       "</a>\n",
       "</g>\n",
       "<g id=\"a_node3_26\"><a xlink:href=\"Tracer.ipynb\" xlink:title=\"__init__(self, file: &lt;class &#39;TextIO&#39;&gt; = &lt;ipykernel.iostream.OutStream object at 0x10755c9d0&gt;) &#45;&gt; None:&#10;Create a new tracer.&#10;If `file` is given, output to `file` instead of stdout.\">\n",
       "<text text-anchor=\"start\" x=\"63.12\" y=\"-372.75\" font-family=\"'Fira Mono', 'Source Code Pro', 'Courier', monospace\" font-weight=\"bold\" font-style=\"italic\" font-size=\"10.00\">__init__()</text>\n",
       "</a>\n",
       "</g>\n",
       "<g id=\"a_node3_27\"><a xlink:href=\"Tracer.ipynb\" xlink:title=\"changed_vars(self, new_vars: Dict[str, Any]) &#45;&gt; Dict[str, Any]:&#10;Track changed variables, based on `new_vars` observed.\">\n",
       "<text text-anchor=\"start\" x=\"63.12\" y=\"-361.5\" font-family=\"'Fira Mono', 'Source Code Pro', 'Courier', monospace\" font-weight=\"bold\" font-size=\"10.00\">changed_vars()</text>\n",
       "</a>\n",
       "</g>\n",
       "</a>\n",
       "</g>\n",
       "</a>\n",
       "</g>\n",
       "</g>\n",
       "<!-- Collector&#45;&gt;Tracer -->\n",
       "<g id=\"edge2\" class=\"edge\">\n",
       "<title>Collector&#45;&gt;Tracer</title>\n",
       "<path fill=\"none\" stroke=\"black\" d=\"M100.27,-318.04C100.83,-326.7 101.38,-335.22 101.9,-343.23\"/>\n",
       "<polygon fill=\"none\" stroke=\"black\" points=\"98.4,-343.3 102.54,-353.05 105.39,-342.85 98.4,-343.3\"/>\n",
       "</g>\n",
       "<!-- Tracer&#45;&gt;StackInspector -->\n",
       "<g id=\"edge3\" class=\"edge\">\n",
       "<title>Tracer&#45;&gt;StackInspector</title>\n",
       "<path fill=\"none\" stroke=\"black\" d=\"M120.65,-433.24C124.14,-441.86 127.8,-450.91 131.17,-459.23\"/>\n",
       "<polygon fill=\"none\" stroke=\"black\" points=\"127.82,-460.29 134.82,-468.25 134.31,-457.67 127.82,-460.29\"/>\n",
       "</g>\n",
       "<!-- ValueCollector -->\n",
       "<g id=\"node5\" class=\"node\">\n",
       "<title>ValueCollector</title>\n",
       "<g id=\"a_node5\"><a xlink:href=\"#\" xlink:title=\"class ValueCollector:&#10;&quot;A class to collect local variables and their values.\">\n",
       "<polygon fill=\"none\" stroke=\"black\" points=\"0,-11.75 0,-78.75 108.25,-78.75 108.25,-11.75 0,-11.75\"/>\n",
       "<text text-anchor=\"start\" x=\"8\" y=\"-62.45\" font-family=\"Raleway, Helvetica, Arial, sans-serif\" font-weight=\"bold\" font-size=\"14.00\" fill=\"#6a0dad\">ValueCollector</text>\n",
       "<polyline fill=\"none\" stroke=\"black\" points=\"0,-53.5 108.25,-53.5\"/>\n",
       "<g id=\"a_node5_28\"><a xlink:href=\"#\" xlink:title=\"ValueCollector\">\n",
       "<g id=\"a_node5_29\"><a xlink:href=\"#\" xlink:title=\"__init__(self) &#45;&gt; None:&#10;Constructor.\">\n",
       "<text text-anchor=\"start\" x=\"24.12\" y=\"-41\" font-family=\"'Fira Mono', 'Source Code Pro', 'Courier', monospace\" font-weight=\"bold\" font-style=\"italic\" font-size=\"10.00\">__init__()</text>\n",
       "</a>\n",
       "</g>\n",
       "<g id=\"a_node5_30\"><a xlink:href=\"#\" xlink:title=\"events(self) &#45;&gt; Set[str]:&#10;A set of (variable, value) pairs observed\">\n",
       "<text text-anchor=\"start\" x=\"24.12\" y=\"-29.75\" font-family=\"'Fira Mono', 'Source Code Pro', 'Courier', monospace\" font-weight=\"bold\" font-style=\"italic\" font-size=\"10.00\">events()</text>\n",
       "</a>\n",
       "</g>\n",
       "<g id=\"a_node5_31\"><a xlink:href=\"#\" xlink:title=\"collect(self, frame: frame, event: str, arg: Any) &#45;&gt; None:&#10;Collector function. To be overloaded in subclasses.\">\n",
       "<text text-anchor=\"start\" x=\"24.12\" y=\"-18.5\" font-family=\"'Fira Mono', 'Source Code Pro', 'Courier', monospace\" font-style=\"italic\" font-size=\"10.00\">collect()</text>\n",
       "</a>\n",
       "</g>\n",
       "</a>\n",
       "</g>\n",
       "</a>\n",
       "</g>\n",
       "</g>\n",
       "<!-- ValueCollector&#45;&gt;Collector -->\n",
       "<g id=\"edge5\" class=\"edge\">\n",
       "<title>ValueCollector&#45;&gt;Collector</title>\n",
       "<path fill=\"none\" stroke=\"black\" d=\"M61.65,-79.19C64.11,-89.95 66.98,-102.54 69.99,-115.7\"/>\n",
       "<polygon fill=\"none\" stroke=\"black\" points=\"66.56,-116.42 72.2,-125.39 73.39,-114.86 66.56,-116.42\"/>\n",
       "</g>\n",
       "<!-- Legend -->\n",
       "<g id=\"node6\" class=\"node\">\n",
       "<title>Legend</title>\n",
       "<text text-anchor=\"start\" x=\"278.5\" y=\"-61.25\" font-family=\"Raleway, Helvetica, Arial, sans-serif\" font-weight=\"bold\" font-size=\"10.00\" fill=\"#6a0dad\">Legend</text>\n",
       "<text text-anchor=\"start\" x=\"278.5\" y=\"-51.25\" font-family=\"Raleway, Helvetica, Arial, sans-serif\" font-size=\"10.00\">• </text>\n",
       "<text text-anchor=\"start\" x=\"284.5\" y=\"-51.25\" font-family=\"'Fira Mono', 'Source Code Pro', 'Courier', monospace\" font-weight=\"bold\" font-size=\"8.00\">public_method()</text>\n",
       "<text text-anchor=\"start\" x=\"278.5\" y=\"-41.25\" font-family=\"Raleway, Helvetica, Arial, sans-serif\" font-size=\"10.00\">• </text>\n",
       "<text text-anchor=\"start\" x=\"284.5\" y=\"-41.25\" font-family=\"'Fira Mono', 'Source Code Pro', 'Courier', monospace\" font-size=\"8.00\">private_method()</text>\n",
       "<text text-anchor=\"start\" x=\"278.5\" y=\"-31.25\" font-family=\"Raleway, Helvetica, Arial, sans-serif\" font-size=\"10.00\">• </text>\n",
       "<text text-anchor=\"start\" x=\"284.5\" y=\"-31.25\" font-family=\"'Fira Mono', 'Source Code Pro', 'Courier', monospace\" font-style=\"italic\" font-size=\"8.00\">overloaded_method()</text>\n",
       "<text text-anchor=\"start\" x=\"278.5\" y=\"-22.2\" font-family=\"Helvetica,sans-Serif\" font-size=\"9.00\">Hover over names to see doc</text>\n",
       "</g>\n",
       "</g>\n",
       "</svg>\n"
      ],
      "text/plain": [
       "<graphviz.graphs.Digraph at 0x16a0704f0>"
      ]
     },
     "execution_count": 168,
     "metadata": {},
     "output_type": "execute_result"
    }
   ],
   "source": [
    "# ignore\n",
    "display_class_hierarchy([CoverageCollector, ValueCollector],\n",
    "                        public_methods=[\n",
    "                            Tracer.__init__,\n",
    "                            Tracer.__enter__,\n",
    "                            Tracer.__exit__,\n",
    "                            Tracer.changed_vars,  # type: ignore\n",
    "                            Collector.__init__,\n",
    "                            Collector.__repr__,\n",
    "                            Collector.function,\n",
    "                            Collector.args,\n",
    "                            Collector.argstring,\n",
    "                            Collector.exception,\n",
    "                            Collector.id,\n",
    "                            Collector.collect,\n",
    "                            CoverageCollector.coverage,\n",
    "                            CoverageCollector.covered_functions,\n",
    "                            CoverageCollector.events,\n",
    "                            ValueCollector.__init__,\n",
    "                            ValueCollector.events\n",
    "                        ],\n",
    "                        project='debuggingbook')"
   ]
  },
  {
   "cell_type": "markdown",
   "metadata": {
    "button": false,
    "new_sheet": true,
    "run_control": {
     "read_only": false
    },
    "slideshow": {
     "slide_type": "slide"
    }
   },
   "source": [
    "## Lessons Learned\n",
    "\n",
    "* _Correlations_ between execution events and outcomes (pass/fail) can make important hints for debugging\n",
    "* Events occurring only (or mostly) during failing runs can be _highlighted_ and _ranked_ to guide the search\n",
    "* Important hints include whether the _execution of specific code locations_ correlates with failure"
   ]
  },
  {
   "cell_type": "markdown",
   "metadata": {
    "button": false,
    "new_sheet": false,
    "run_control": {
     "read_only": false
    },
    "slideshow": {
     "slide_type": "slide"
    }
   },
   "source": [
    "## Next Steps\n",
    "\n",
    "Chapters that build on this one include\n",
    "\n",
    "* [how to determine invariants that correlate with failures](DynamicInvariants.ipynb)\n",
    "* [how to automatically repair programs](Repairer.ipynb)"
   ]
  },
  {
   "cell_type": "markdown",
   "metadata": {
    "slideshow": {
     "slide_type": "slide"
    }
   },
   "source": [
    "## Background\n",
    "\n",
    "The seminal works on statistical debugging are two papers:\n",
    "\n",
    "* \"Visualization of Test Information to Assist Fault Localization\" \\cite{Jones2002} by James Jones, Mary Jean Harrold, and John Stasko introducing Tarantula and its visualization. The paper won an ACM SIGSOFT 10-year impact award.\n",
    "* \"Bug Isolation via Remote Program Sampling\" \\cite{Liblit2003} by Ben Liblit, Alex Aiken, Alice X. Zheng, and Michael I. Jordan, introducing the term \"Statistical debugging\". Liblit won the ACM Doctoral Dissertation Award for this work.\n",
    "\n",
    "The Ochiai metric for fault localization was introduced by \\cite{Abreu2009}. The overview by Wong et al. \\cite{Wong2016} gives a comprehensive overview on the field of statistical fault localization.\n",
    "\n",
    "The study by Parnin and Orso \\cite{Parnin2011} is a must to understand the limitations of the technique."
   ]
  },
  {
   "cell_type": "markdown",
   "metadata": {
    "button": false,
    "new_sheet": true,
    "run_control": {
     "read_only": false
    },
    "slideshow": {
     "slide_type": "slide"
    }
   },
   "source": [
    "## Exercises"
   ]
  },
  {
   "cell_type": "markdown",
   "metadata": {
    "slideshow": {
     "slide_type": "subslide"
    },
    "solution2": "hidden",
    "solution2_first": true
   },
   "source": [
    "### Exercise 1: A Postcondition for Middle\n",
    "\n",
    "What would be a postcondition for `middle()`? How can you check it?"
   ]
  },
  {
   "cell_type": "markdown",
   "metadata": {
    "slideshow": {
     "slide_type": "skip"
    },
    "solution2": "hidden"
   },
   "source": [
    "**Solution.** A simple postcondition for `middle()` would be\n",
    "\n",
    "```python\n",
    "assert m == sorted([x, y, z])[1]\n",
    "```\n",
    "\n",
    "where `m` is the value returned by `middle()`. `sorted()` sorts the given list, and the index `[1]` returns, well, the middle element. (This might also be a much shorter, but possibly slightly more expensive implementation for `middle()`)"
   ]
  },
  {
   "cell_type": "markdown",
   "metadata": {
    "slideshow": {
     "slide_type": "skip"
    },
    "solution2": "hidden"
   },
   "source": [
    "Since `middle()` has several `return` statements, the easiest way to check the result is to create a wrapper around `middle()`:"
   ]
  },
  {
   "cell_type": "code",
   "execution_count": 169,
   "metadata": {
    "execution": {
     "iopub.execute_input": "2024-01-17T21:32:50.129170Z",
     "iopub.status.busy": "2024-01-17T21:32:50.129049Z",
     "iopub.status.idle": "2024-01-17T21:32:50.131349Z",
     "shell.execute_reply": "2024-01-17T21:32:50.131004Z"
    },
    "slideshow": {
     "slide_type": "skip"
    },
    "solution2": "hidden"
   },
   "outputs": [],
   "source": [
    "def middle_checked(x, y, z):  # type: ignore\n",
    "    m = middle(x, y, z)\n",
    "    assert m == sorted([x, y, z])[1]\n",
    "    return m"
   ]
  },
  {
   "cell_type": "markdown",
   "metadata": {
    "slideshow": {
     "slide_type": "skip"
    },
    "solution2": "hidden"
   },
   "source": [
    "`middle_checked()` catches the error:"
   ]
  },
  {
   "cell_type": "code",
   "execution_count": 170,
   "metadata": {
    "execution": {
     "iopub.execute_input": "2024-01-17T21:32:50.133251Z",
     "iopub.status.busy": "2024-01-17T21:32:50.133112Z",
     "iopub.status.idle": "2024-01-17T21:32:50.134956Z",
     "shell.execute_reply": "2024-01-17T21:32:50.134657Z"
    },
    "slideshow": {
     "slide_type": "skip"
    },
    "solution2": "hidden"
   },
   "outputs": [],
   "source": [
    "from ExpectError import ExpectError"
   ]
  },
  {
   "cell_type": "code",
   "execution_count": 171,
   "metadata": {
    "execution": {
     "iopub.execute_input": "2024-01-17T21:32:50.136493Z",
     "iopub.status.busy": "2024-01-17T21:32:50.136324Z",
     "iopub.status.idle": "2024-01-17T21:32:50.138736Z",
     "shell.execute_reply": "2024-01-17T21:32:50.138426Z"
    },
    "slideshow": {
     "slide_type": "skip"
    },
    "solution2": "hidden"
   },
   "outputs": [
    {
     "name": "stderr",
     "output_type": "stream",
     "text": [
      "Traceback (most recent call last):\n",
      "  File \"/var/folders/n2/xd9445p97rb3xh7m1dfx8_4h0006ts/T/ipykernel_46774/3016629944.py\", line 2, in <cell line: 1>\n",
      "    m = middle_checked(2, 1, 3)\n",
      "  File \"/var/folders/n2/xd9445p97rb3xh7m1dfx8_4h0006ts/T/ipykernel_46774/1374660292.py\", line 3, in middle_checked\n",
      "    assert m == sorted([x, y, z])[1]\n",
      "AssertionError (expected)\n"
     ]
    }
   ],
   "source": [
    "with ExpectError():\n",
    "    m = middle_checked(2, 1, 3)"
   ]
  },
  {
   "cell_type": "markdown",
   "metadata": {
    "button": false,
    "new_sheet": false,
    "run_control": {
     "read_only": false
    },
    "slideshow": {
     "slide_type": "subslide"
    }
   },
   "source": [
    "### Exercise 2: Statistical Dependencies\n",
    "\n",
    "Using the dependencies from [the chapter on slicing](Slicer.ipynb), can you determine which specific data or control dependencies correlate with failure?"
   ]
  },
  {
   "cell_type": "markdown",
   "metadata": {
    "slideshow": {
     "slide_type": "subslide"
    }
   },
   "source": [
    "### Exercise 3: Correlating with Conditions"
   ]
  },
  {
   "cell_type": "markdown",
   "metadata": {
    "slideshow": {
     "slide_type": "fragment"
    }
   },
   "source": [
    "In HTML, it is permissible that tag attribute values can also have single quotes, as in\n",
    "\n",
    "```html\n",
    "<b class='extrabold'>abc</b>\n",
    "```\n",
    "\n",
    "Such attributes are actually treated correctly by our `remove_html_markup()` code."
   ]
  },
  {
   "cell_type": "markdown",
   "metadata": {
    "slideshow": {
     "slide_type": "subslide"
    },
    "solution2": "hidden",
    "solution2_first": true
   },
   "source": [
    "#### Part 1: Experiment\n",
    "\n",
    "What happens if test inputs with single quote attributes become part of our test set? How does statistical fault localization change?"
   ]
  },
  {
   "cell_type": "markdown",
   "metadata": {
    "slideshow": {
     "slide_type": "skip"
    },
    "solution2": "hidden"
   },
   "source": [
    "**Solution.** The effect is that the line `quote = not quote` will be executed both in passing and failing runs, spoiling the correlation."
   ]
  },
  {
   "cell_type": "markdown",
   "metadata": {
    "slideshow": {
     "slide_type": "subslide"
    }
   },
   "source": [
    "#### Part 2: Collecting Conditions"
   ]
  },
  {
   "cell_type": "markdown",
   "metadata": {
    "slideshow": {
     "slide_type": "fragment"
    }
   },
   "source": [
    "Instead of aiming for _lines_ that correlate with failures, we can look at individual _branch conditions_ such as `c == \"'\"`, `c == '\"'`, or `tag` that correlate with failures. In the above case, the condition `c == \"'\"` would correlate, whereas `c == '\"'` would not. \n",
    "\n",
    "Reusing the code instrumentation from [the chapter on slicing](Slicer.ipynb), collect the individual values of Boolean conditions in tests during execution in a `ConditionCollector` class. Show the event table."
   ]
  }
 ],
 "metadata": {
  "ipub": {
   "bibliography": "fuzzingbook.bib",
   "toc": true
  },
  "kernelspec": {
   "display_name": "Python 3 (ipykernel)",
   "language": "python",
   "name": "python3"
  },
  "language_info": {
   "codemirror_mode": {
    "name": "ipython",
    "version": 3
   },
   "file_extension": ".py",
   "mimetype": "text/x-python",
   "name": "python",
   "nbconvert_exporter": "python",
   "pygments_lexer": "ipython3",
   "version": "3.10.2"
  },
  "toc": {
   "base_numbering": 1,
   "nav_menu": {},
   "number_sections": true,
   "sideBar": true,
   "skip_h1_title": true,
   "title_cell": "",
   "title_sidebar": "Contents",
   "toc_cell": false,
   "toc_position": {},
   "toc_section_display": true,
   "toc_window_display": true
  },
  "toc-autonumbering": false
 },
 "nbformat": 4,
 "nbformat_minor": 4
}