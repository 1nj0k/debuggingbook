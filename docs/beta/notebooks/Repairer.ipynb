{
 "cells": [
  {
   "cell_type": "markdown",
   "metadata": {
    "button": false,
    "new_sheet": false,
    "run_control": {
     "read_only": false
    },
    "slideshow": {
     "slide_type": "slide"
    }
   },
   "source": [
    "# Repairing Code Automatically\n",
    "\n",
    "So far, we have discussed how to track failures and how to locate defects in code. Let us now discuss how to _repair_ defects – that is, to correct the code such that the failure no longer occurs. We will discuss how to _repair code automatically_ – by systematically searching through possible fixes and evolving the most promising candidates."
   ]
  },
  {
   "cell_type": "code",
   "execution_count": 1,
   "metadata": {
    "execution": {
     "iopub.execute_input": "2021-02-28T15:41:55.190279Z",
     "iopub.status.busy": "2021-02-28T15:41:55.188737Z",
     "iopub.status.idle": "2021-02-28T15:41:55.415337Z",
     "shell.execute_reply": "2021-02-28T15:41:55.416445Z"
    },
    "slideshow": {
     "slide_type": "skip"
    }
   },
   "outputs": [
    {
     "data": {
      "text/html": [
       "\n",
       "        <iframe\n",
       "            width=\"640\"\n",
       "            height=\"360\"\n",
       "            src=\"https://www.youtube-nocookie.com/embed/UJTf7cW0idI\"\n",
       "            frameborder=\"0\"\n",
       "            allowfullscreen\n",
       "        ></iframe>\n",
       "        "
      ],
      "text/plain": [
       "<IPython.lib.display.IFrame at 0x7ff91e8dbbe0>"
      ]
     },
     "execution_count": 1,
     "metadata": {},
     "output_type": "execute_result"
    }
   ],
   "source": [
    "from bookutils import YouTubeVideo\n",
    "YouTubeVideo(\"UJTf7cW0idI\")"
   ]
  },
  {
   "cell_type": "markdown",
   "metadata": {
    "button": false,
    "new_sheet": false,
    "run_control": {
     "read_only": false
    },
    "slideshow": {
     "slide_type": "subslide"
    }
   },
   "source": [
    "**Prerequisites**\n",
    "\n",
    "* Re-read the [introduction to debugging](Intro_Debugging.ipynb), notably on how to properly fix code.\n",
    "* We make use of automatic fault localization, as discussed in the [chapter on statistical debugging](StatisticalDebugger.ipynb).\n",
    "* We make extensive use of code transformations, as discussed in [the chapter on tracing executions](Tracer.ipynb).\n",
    "* We make use of [delta debugging](DeltaDebugger.ipynb)."
   ]
  },
  {
   "cell_type": "code",
   "execution_count": 2,
   "metadata": {
    "button": false,
    "execution": {
     "iopub.execute_input": "2021-02-28T15:41:55.421618Z",
     "iopub.status.busy": "2021-02-28T15:41:55.420896Z",
     "iopub.status.idle": "2021-02-28T15:41:55.423180Z",
     "shell.execute_reply": "2021-02-28T15:41:55.424383Z"
    },
    "new_sheet": false,
    "run_control": {
     "read_only": false
    },
    "slideshow": {
     "slide_type": "skip"
    }
   },
   "outputs": [],
   "source": [
    "import bookutils"
   ]
  },
  {
   "cell_type": "markdown",
   "metadata": {
    "slideshow": {
     "slide_type": "skip"
    }
   },
   "source": [
    "## Synopsis\n",
    "<!-- Automatically generated. Do not edit. -->\n",
    "\n",
    "To [use the code provided in this chapter](Importing.ipynb), write\n",
    "\n",
    "```python\n",
    ">>> from debuggingbook.Repairer import <identifier>\n",
    "```\n",
    "\n",
    "and then make use of the following features.\n",
    "\n",
    "\n",
    "This chapter provides tools and techniques for automated repair of program code. The `Repairer()` class takes a `DifferenceDebugger` debugger as input (such as `OchiaiDebugger` from [the chapter on statistical debugging](StatisticalDebugger.ipynb). A typical setup looks like this:\n",
    "\n",
    "```python\n",
    "from debuggingbook.StatisticalDebugger import OchiaiDebugger\n",
    "\n",
    "debugger = OchiaiDebugger()\n",
    "for inputs in TESTCASES:\n",
    "    with debugger:\n",
    "        test_foo(inputs)\n",
    "...\n",
    "\n",
    "repairer = Repairer(debugger)\n",
    "```\n",
    "Here, `test_foo()` is a function that raises an exception if the tested function `foo()` fails. If `foo()` passes, `test_foo()` should not raise an exception.\n",
    "\n",
    "The `repair()` method of a `Repairer` searches for a repair of the code covered in the debugger (except for methods starting or ending in `test`, such that `foo()`, not `test_foo()` is repaired). `repair()` returns the best fix candidate as a pair `(tree, fitness)` where `tree` is a [Python abstract syntax tree](http://docs.python.org/3/library/ast) (AST) of the fix candidate, and `fitness` is the fitness of the candidate (a value between 0 and 1). A `fitness` of 1.0 means that the candidate passed all tests. A typical usage looks like this:\n",
    "\n",
    "```python\n",
    "import astor\n",
    "\n",
    "tree, fitness = repairer.repair()\n",
    "print(astor.to_source(tree), fitness)\n",
    "```\n",
    "\n",
    "Here is a complete example for the `middle()` program. This is the original source code of `middle()`:\n",
    "\n",
    "```python\n",
    "def middle(x, y, z):  # type: ignore\n",
    "    if y < z:\n",
    "        if x < y:\n",
    "            return y\n",
    "        elif x < z:\n",
    "            return y\n",
    "    else:\n",
    "        if x > y:\n",
    "            return y\n",
    "        elif x > z:\n",
    "            return x\n",
    "    return z```\n",
    "We set up a function `middle_test()` that tests it. The `middle_debugger`  collects testcases and outcomes:\n",
    "\n",
    "```python\n",
    ">>> middle_debugger = OchiaiDebugger()\n",
    "\n",
    ">>> for x, y, z in MIDDLE_PASSING_TESTCASES + MIDDLE_FAILING_TESTCASES:\n",
    ">>>     with middle_debugger:\n",
    ">>>         m = middle_test(x, y, z)\n",
    "```\n",
    "The repairer attempts to repair the invoked function (`middle()`). The returned AST `tree` can be output via `astor.to_source()`:\n",
    "\n",
    "```python\n",
    ">>> middle_repairer = Repairer(middle_debugger)\n",
    ">>> tree, fitness = middle_repairer.repair()\n",
    ">>> print(astor.to_source(tree), fitness)\n",
    "\n",
    "def middle(x, y, z):\n",
    "    if y < z:\n",
    "        if x < y:\n",
    "            return y\n",
    "        elif x < z:\n",
    "            return x\n",
    "    elif x > y:\n",
    "        return y\n",
    "    elif x > z:\n",
    "        return x\n",
    "    return z\n",
    " 1.0\n",
    "```\n",
    "Here are the classes defined in this chapter. A `Repairer` repairs a program, using a `StatementMutator` and a `CrossoverOperator` to evolve a population of candidates.\n",
    "\n",
    "\n",
    "![](PICS/Repairer-synopsis-1.svg)\n",
    "\n"
   ]
  },
  {
   "cell_type": "markdown",
   "metadata": {
    "button": false,
    "new_sheet": true,
    "run_control": {
     "read_only": false
    },
    "slideshow": {
     "slide_type": "slide"
    }
   },
   "source": [
    "## Automatic Code Repairs\n",
    "\n",
    "So far, we have discussed how to locate defects in code, how to track failures back to the defects that caused them, and how to systematically determine failure conditions. Let us now address the last step in debugging – namely, how to _automatically fix code_.\n",
    "\n",
    "Already in the [introduction to debugging](Intro_Debugging.ipynb), we have discussed how to fix code manually. Notably, we have established that a _diagnosis_ (which induces a fix) should show _causality_ (i.e, how the defect causes the failure) and _incorrectness_ (how the defect is wrong). Is it possible to obtain such a diagnosis automatically?"
   ]
  },
  {
   "cell_type": "markdown",
   "metadata": {
    "button": false,
    "new_sheet": false,
    "run_control": {
     "read_only": false
    },
    "slideshow": {
     "slide_type": "subslide"
    }
   },
   "source": [
    "In this chapter, we introduce a technique of _automatic code repair_ – that is, for a given failure, automatically determine a fix that makes the failure go away. To do so, we randomly (but systematically) _mutate_ the program code – that is, insert, change, and delete fragments – until we find a change that actually causes the failing test to pass."
   ]
  },
  {
   "cell_type": "markdown",
   "metadata": {
    "button": false,
    "new_sheet": false,
    "run_control": {
     "read_only": false
    },
    "slideshow": {
     "slide_type": "fragment"
    }
   },
   "source": [
    "If this sounds like an audacious idea, that is because it is. But not only is _automated program repair_ one of the hottest topics of software research in the last decade, it is also being increasingly deployed in industry. At Facebook, for instance, every failing test report comes with an automatically generated _repair suggestion_ – a suggestion that already has been validated to work. Programmers can apply the suggestion as is or use it as basis for their own fixes."
   ]
  },
  {
   "cell_type": "markdown",
   "metadata": {
    "slideshow": {
     "slide_type": "subslide"
    }
   },
   "source": [
    "### The middle() Function"
   ]
  },
  {
   "cell_type": "markdown",
   "metadata": {
    "slideshow": {
     "slide_type": "fragment"
    }
   },
   "source": [
    "Let us introduce our ongoing example. In the [chapter on statistical debugging](StatisticalDebugger.ipynb), we have introduced the `middle()` function – a function that returns the \"middle\" of three numbers `x`, `y`, and `z`:"
   ]
  },
  {
   "cell_type": "code",
   "execution_count": 3,
   "metadata": {
    "execution": {
     "iopub.execute_input": "2021-02-28T15:41:55.430259Z",
     "iopub.status.busy": "2021-02-28T15:41:55.429541Z",
     "iopub.status.idle": "2021-02-28T15:41:56.424069Z",
     "shell.execute_reply": "2021-02-28T15:41:56.424462Z"
    },
    "slideshow": {
     "slide_type": "skip"
    }
   },
   "outputs": [],
   "source": [
    "from StatisticalDebugger import middle"
   ]
  },
  {
   "cell_type": "code",
   "execution_count": 4,
   "metadata": {
    "execution": {
     "iopub.execute_input": "2021-02-28T15:41:56.427586Z",
     "iopub.status.busy": "2021-02-28T15:41:56.427067Z",
     "iopub.status.idle": "2021-02-28T15:41:56.428646Z",
     "shell.execute_reply": "2021-02-28T15:41:56.429128Z"
    },
    "slideshow": {
     "slide_type": "fragment"
    }
   },
   "outputs": [],
   "source": [
    "# ignore\n",
    "from bookutils import print_content"
   ]
  },
  {
   "cell_type": "code",
   "execution_count": 5,
   "metadata": {
    "execution": {
     "iopub.execute_input": "2021-02-28T15:41:56.431835Z",
     "iopub.status.busy": "2021-02-28T15:41:56.431326Z",
     "iopub.status.idle": "2021-02-28T15:41:56.432812Z",
     "shell.execute_reply": "2021-02-28T15:41:56.433175Z"
    },
    "slideshow": {
     "slide_type": "fragment"
    }
   },
   "outputs": [],
   "source": [
    "# ignore\n",
    "import inspect"
   ]
  },
  {
   "cell_type": "code",
   "execution_count": 6,
   "metadata": {
    "execution": {
     "iopub.execute_input": "2021-02-28T15:41:56.502758Z",
     "iopub.status.busy": "2021-02-28T15:41:56.447483Z",
     "iopub.status.idle": "2021-02-28T15:41:56.623848Z",
     "shell.execute_reply": "2021-02-28T15:41:56.624338Z"
    },
    "slideshow": {
     "slide_type": "subslide"
    }
   },
   "outputs": [
    {
     "name": "stdout",
     "output_type": "stream",
     "text": [
      "677  \u001b[34mdef\u001b[39;49;00m \u001b[32mmiddle\u001b[39;49;00m(x, y, z):  \u001b[37m# type: ignore\u001b[39;49;00m\n",
      "678      \u001b[34mif\u001b[39;49;00m y < z:\n",
      "679          \u001b[34mif\u001b[39;49;00m x < y:\n",
      "680              \u001b[34mreturn\u001b[39;49;00m y\n",
      "681          \u001b[34melif\u001b[39;49;00m x < z:\n",
      "682              \u001b[34mreturn\u001b[39;49;00m y\n",
      "683      \u001b[34melse\u001b[39;49;00m:\n",
      "684          \u001b[34mif\u001b[39;49;00m x > y:\n",
      "685              \u001b[34mreturn\u001b[39;49;00m y\n",
      "686          \u001b[34melif\u001b[39;49;00m x > z:\n",
      "687              \u001b[34mreturn\u001b[39;49;00m x\n",
      "688      \u001b[34mreturn\u001b[39;49;00m z"
     ]
    }
   ],
   "source": [
    "# ignore\n",
    "_, first_lineno = inspect.getsourcelines(middle)\n",
    "middle_source = inspect.getsource(middle)\n",
    "print_content(middle_source, '.py', start_line_number=first_lineno)"
   ]
  },
  {
   "cell_type": "markdown",
   "metadata": {
    "slideshow": {
     "slide_type": "subslide"
    }
   },
   "source": [
    "In most cases, `middle()` just runs fine:"
   ]
  },
  {
   "cell_type": "code",
   "execution_count": 7,
   "metadata": {
    "execution": {
     "iopub.execute_input": "2021-02-28T15:41:56.631531Z",
     "iopub.status.busy": "2021-02-28T15:41:56.630915Z",
     "iopub.status.idle": "2021-02-28T15:41:56.633064Z",
     "shell.execute_reply": "2021-02-28T15:41:56.633440Z"
    },
    "slideshow": {
     "slide_type": "fragment"
    }
   },
   "outputs": [
    {
     "data": {
      "text/plain": [
       "5"
      ]
     },
     "execution_count": 1,
     "metadata": {},
     "output_type": "execute_result"
    }
   ],
   "source": [
    "middle(4, 5, 6)"
   ]
  },
  {
   "cell_type": "markdown",
   "metadata": {
    "slideshow": {
     "slide_type": "fragment"
    }
   },
   "source": [
    "In some other cases, though, it does not work correctly:"
   ]
  },
  {
   "cell_type": "code",
   "execution_count": 8,
   "metadata": {
    "execution": {
     "iopub.execute_input": "2021-02-28T15:41:56.636704Z",
     "iopub.status.busy": "2021-02-28T15:41:56.636160Z",
     "iopub.status.idle": "2021-02-28T15:41:56.638276Z",
     "shell.execute_reply": "2021-02-28T15:41:56.638707Z"
    },
    "slideshow": {
     "slide_type": "fragment"
    }
   },
   "outputs": [
    {
     "data": {
      "text/plain": [
       "1"
      ]
     },
     "execution_count": 1,
     "metadata": {},
     "output_type": "execute_result"
    }
   ],
   "source": [
    "middle(2, 1, 3)"
   ]
  },
  {
   "cell_type": "markdown",
   "metadata": {
    "slideshow": {
     "slide_type": "subslide"
    }
   },
   "source": [
    "### Validated Repairs"
   ]
  },
  {
   "cell_type": "markdown",
   "metadata": {
    "slideshow": {
     "slide_type": "fragment"
    }
   },
   "source": [
    "Now, if we only want a repair that fixes this one given failure, this would be very easy. All we have to do is to replace the entire body by a single statement:"
   ]
  },
  {
   "cell_type": "code",
   "execution_count": 9,
   "metadata": {
    "execution": {
     "iopub.execute_input": "2021-02-28T15:41:56.642310Z",
     "iopub.status.busy": "2021-02-28T15:41:56.641746Z",
     "iopub.status.idle": "2021-02-28T15:41:56.643313Z",
     "shell.execute_reply": "2021-02-28T15:41:56.643681Z"
    },
    "slideshow": {
     "slide_type": "fragment"
    }
   },
   "outputs": [],
   "source": [
    "def middle_sort_of_fixed(x, y, z):\n",
    "    return x"
   ]
  },
  {
   "cell_type": "markdown",
   "metadata": {
    "slideshow": {
     "slide_type": "fragment"
    }
   },
   "source": [
    "You will concur that the failure no longer occurs:"
   ]
  },
  {
   "cell_type": "code",
   "execution_count": 10,
   "metadata": {
    "execution": {
     "iopub.execute_input": "2021-02-28T15:41:56.647077Z",
     "iopub.status.busy": "2021-02-28T15:41:56.646444Z",
     "iopub.status.idle": "2021-02-28T15:41:56.648769Z",
     "shell.execute_reply": "2021-02-28T15:41:56.649204Z"
    },
    "slideshow": {
     "slide_type": "fragment"
    }
   },
   "outputs": [
    {
     "data": {
      "text/plain": [
       "2"
      ]
     },
     "execution_count": 1,
     "metadata": {},
     "output_type": "execute_result"
    }
   ],
   "source": [
    "middle_sort_of_fixed(2, 1, 3)"
   ]
  },
  {
   "cell_type": "markdown",
   "metadata": {
    "slideshow": {
     "slide_type": "fragment"
    }
   },
   "source": [
    "But this, of course, is not the aim of automatic fixes, nor of fixes in general: We want our fixes not only to make the given failure go away, but we also want the resulting code to be _correct_ (which, of course, is a lot harder)."
   ]
  },
  {
   "cell_type": "markdown",
   "metadata": {
    "slideshow": {
     "slide_type": "subslide"
    }
   },
   "source": [
    "Automatic repair techniques therefore assume the existence of a _test suite_ that can check whether an implementation satisfies its requirements. Better yet, one can use the test suite to gradually check _how close_ one is to perfection: A piece of code that satisfies 99% of all tests is better than one that satisfies ~33% of all tests, as `middle_sort_of_fixed()` would do."
   ]
  },
  {
   "cell_type": "markdown",
   "metadata": {
    "slideshow": {
     "slide_type": "subslide"
    }
   },
   "source": [
    "### Genetic Optimization"
   ]
  },
  {
   "cell_type": "markdown",
   "metadata": {
    "slideshow": {
     "slide_type": "subslide"
    }
   },
   "source": [
    "The master plan for automatic repair follows the principle of _genetic optimization_. Roughly spoken, genetic optimization is a _metaheuristic_ inspired by the process of _natural selection_. The idea is to _evolve_ a selection of _candidate solutions_ towards a maximum _fitness_:\n",
    "\n",
    "1. Have a selection of _candidates_.\n",
    "2. Determine the _fitness_ of each candidate.\n",
    "3. Retain those candidates with the _highest fitness_.\n",
    "4. Create new candidates from the retained candidates, by applying genetic operations:\n",
    "    * _Mutation_ mutates some aspect of a candidate.\n",
    "    * _CrossoverOperator_ creates new candidates combining features of two candidates.\n",
    "5. Repeat until an optimal solution is found."
   ]
  },
  {
   "cell_type": "markdown",
   "metadata": {
    "slideshow": {
     "slide_type": "subslide"
    }
   },
   "source": [
    "Applied for automated program repair, this means the following steps:\n",
    "\n",
    "1. Have a _test suite_ with both failing and passing tests that helps asserting correctness of possible solutions.\n",
    "2. With the test suite, use [fault localization](StatisticalDebugger.ipynb) to determine potential code locations to be fixed.\n",
    "3. Systematically _mutate_ the code (by adding, changing, or deleting code) and _cross_ code to create possible fix candidates.\n",
    "4. Identify the _fittest_ fix candidates – that is, those that satisfy the most tests.\n",
    "5. _Evolve_ the fittest candidates until a perfect fix is found, or until time resources are depleted."
   ]
  },
  {
   "cell_type": "markdown",
   "metadata": {
    "slideshow": {
     "slide_type": "subslide"
    }
   },
   "source": [
    "Let us illustrate these steps in the following sections."
   ]
  },
  {
   "cell_type": "markdown",
   "metadata": {
    "slideshow": {
     "slide_type": "slide"
    }
   },
   "source": [
    "## A Test Suite"
   ]
  },
  {
   "cell_type": "markdown",
   "metadata": {
    "slideshow": {
     "slide_type": "fragment"
    }
   },
   "source": [
    "In automated repair, the larger and the more thorough the test suite, the higher the quality of the resulting fix (if any). Hence, if we want to repair `middle()` automatically, we need a good test suite – with good inputs, but also with good checks."
   ]
  },
  {
   "cell_type": "markdown",
   "metadata": {
    "slideshow": {
     "slide_type": "fragment"
    }
   },
   "source": [
    "The function `middle_testcase()` returns a random input for `middle()`:"
   ]
  },
  {
   "cell_type": "code",
   "execution_count": 11,
   "metadata": {
    "execution": {
     "iopub.execute_input": "2021-02-28T15:41:56.652576Z",
     "iopub.status.busy": "2021-02-28T15:41:56.652009Z",
     "iopub.status.idle": "2021-02-28T15:41:56.653414Z",
     "shell.execute_reply": "2021-02-28T15:41:56.653780Z"
    },
    "slideshow": {
     "slide_type": "skip"
    }
   },
   "outputs": [],
   "source": [
    "import random"
   ]
  },
  {
   "cell_type": "code",
   "execution_count": 12,
   "metadata": {
    "execution": {
     "iopub.execute_input": "2021-02-28T15:41:56.657085Z",
     "iopub.status.busy": "2021-02-28T15:41:56.656574Z",
     "iopub.status.idle": "2021-02-28T15:41:56.658183Z",
     "shell.execute_reply": "2021-02-28T15:41:56.658609Z"
    },
    "slideshow": {
     "slide_type": "fragment"
    }
   },
   "outputs": [],
   "source": [
    "def middle_testcase():\n",
    "    x = random.randrange(10)\n",
    "    y = random.randrange(10)\n",
    "    z = random.randrange(10)\n",
    "    return x, y, z"
   ]
  },
  {
   "cell_type": "code",
   "execution_count": 13,
   "metadata": {
    "execution": {
     "iopub.execute_input": "2021-02-28T15:41:56.662105Z",
     "iopub.status.busy": "2021-02-28T15:41:56.661553Z",
     "iopub.status.idle": "2021-02-28T15:41:56.663499Z",
     "shell.execute_reply": "2021-02-28T15:41:56.663929Z"
    },
    "slideshow": {
     "slide_type": "fragment"
    }
   },
   "outputs": [
    {
     "data": {
      "text/plain": [
       "[(9, 0, 5), (0, 1, 9), (9, 0, 9), (2, 9, 0), (4, 7, 2)]"
      ]
     },
     "execution_count": 1,
     "metadata": {},
     "output_type": "execute_result"
    }
   ],
   "source": [
    "[middle_testcase() for i in range(5)]"
   ]
  },
  {
   "cell_type": "markdown",
   "metadata": {
    "slideshow": {
     "slide_type": "subslide"
    }
   },
   "source": [
    "The function `middle_test()` simply checks if `middle()` operates correctly – by placing `x`, `y`, and `z` in a list, sorting it, and taking the middle argument. If `middle()` fails, `middle_test()` raises an exception."
   ]
  },
  {
   "cell_type": "code",
   "execution_count": 14,
   "metadata": {
    "execution": {
     "iopub.execute_input": "2021-02-28T15:41:56.667290Z",
     "iopub.status.busy": "2021-02-28T15:41:56.666769Z",
     "iopub.status.idle": "2021-02-28T15:41:56.668484Z",
     "shell.execute_reply": "2021-02-28T15:41:56.668847Z"
    },
    "slideshow": {
     "slide_type": "fragment"
    }
   },
   "outputs": [],
   "source": [
    "def middle_test(x, y, z):\n",
    "    m = middle(x, y, z)\n",
    "    assert m == sorted([x, y, z])[1]"
   ]
  },
  {
   "cell_type": "code",
   "execution_count": 15,
   "metadata": {
    "execution": {
     "iopub.execute_input": "2021-02-28T15:41:56.671713Z",
     "iopub.status.busy": "2021-02-28T15:41:56.671207Z",
     "iopub.status.idle": "2021-02-28T15:41:56.672779Z",
     "shell.execute_reply": "2021-02-28T15:41:56.673223Z"
    },
    "slideshow": {
     "slide_type": "fragment"
    }
   },
   "outputs": [],
   "source": [
    "middle_test(4, 5, 6)"
   ]
  },
  {
   "cell_type": "code",
   "execution_count": 16,
   "metadata": {
    "execution": {
     "iopub.execute_input": "2021-02-28T15:41:56.676047Z",
     "iopub.status.busy": "2021-02-28T15:41:56.675510Z",
     "iopub.status.idle": "2021-02-28T15:41:56.677060Z",
     "shell.execute_reply": "2021-02-28T15:41:56.677426Z"
    },
    "slideshow": {
     "slide_type": "skip"
    }
   },
   "outputs": [],
   "source": [
    "from ExpectError import ExpectError"
   ]
  },
  {
   "cell_type": "code",
   "execution_count": 17,
   "metadata": {
    "execution": {
     "iopub.execute_input": "2021-02-28T15:41:56.680339Z",
     "iopub.status.busy": "2021-02-28T15:41:56.679822Z",
     "iopub.status.idle": "2021-02-28T15:41:56.681889Z",
     "shell.execute_reply": "2021-02-28T15:41:56.682255Z"
    },
    "slideshow": {
     "slide_type": "subslide"
    }
   },
   "outputs": [
    {
     "name": "stderr",
     "output_type": "stream",
     "text": [
      "Traceback (most recent call last):\n",
      "  File \"<ipython-input-1-ae2957225406>\", line 2, in <module>\n",
      "    middle_test(2, 1, 3)\n",
      "  File \"<ipython-input-1-6bd1639308bf>\", line 3, in middle_test\n",
      "    assert m == sorted([x, y, z])[1]\n",
      "AssertionError (expected)\n"
     ]
    }
   ],
   "source": [
    "with ExpectError():\n",
    "    middle_test(2, 1, 3)"
   ]
  },
  {
   "cell_type": "markdown",
   "metadata": {
    "slideshow": {
     "slide_type": "fragment"
    }
   },
   "source": [
    "The function `middle_passing_testcase()` searches and returns a triple `x`, `y`, `z` that causes `middle_test()` to pass."
   ]
  },
  {
   "cell_type": "code",
   "execution_count": 18,
   "metadata": {
    "execution": {
     "iopub.execute_input": "2021-02-28T15:41:56.685832Z",
     "iopub.status.busy": "2021-02-28T15:41:56.685314Z",
     "iopub.status.idle": "2021-02-28T15:41:56.687016Z",
     "shell.execute_reply": "2021-02-28T15:41:56.687449Z"
    },
    "slideshow": {
     "slide_type": "subslide"
    }
   },
   "outputs": [],
   "source": [
    "def middle_passing_testcase():\n",
    "    while True:\n",
    "        try:\n",
    "            x, y, z = middle_testcase()\n",
    "            _ = middle_test(x, y, z)\n",
    "            return x, y, z\n",
    "        except AssertionError:\n",
    "            pass"
   ]
  },
  {
   "cell_type": "code",
   "execution_count": 19,
   "metadata": {
    "execution": {
     "iopub.execute_input": "2021-02-28T15:41:56.690735Z",
     "iopub.status.busy": "2021-02-28T15:41:56.690215Z",
     "iopub.status.idle": "2021-02-28T15:41:56.692004Z",
     "shell.execute_reply": "2021-02-28T15:41:56.692427Z"
    },
    "slideshow": {
     "slide_type": "fragment"
    }
   },
   "outputs": [
    {
     "name": "stdout",
     "output_type": "stream",
     "text": [
      "middle(1, 6, 1) = 1\n"
     ]
    }
   ],
   "source": [
    "(x, y, z) = middle_passing_testcase()\n",
    "m = middle(x, y, z)\n",
    "print(f\"middle({x}, {y}, {z}) = {m}\")"
   ]
  },
  {
   "cell_type": "markdown",
   "metadata": {
    "slideshow": {
     "slide_type": "fragment"
    }
   },
   "source": [
    "The function `middle_failing_testcase()` does the same; but its triple `x`, `y`, `z` causes `middle_test()` to fail."
   ]
  },
  {
   "cell_type": "code",
   "execution_count": 20,
   "metadata": {
    "execution": {
     "iopub.execute_input": "2021-02-28T15:41:56.695979Z",
     "iopub.status.busy": "2021-02-28T15:41:56.695403Z",
     "iopub.status.idle": "2021-02-28T15:41:56.697035Z",
     "shell.execute_reply": "2021-02-28T15:41:56.697464Z"
    },
    "slideshow": {
     "slide_type": "subslide"
    }
   },
   "outputs": [],
   "source": [
    "def middle_failing_testcase():\n",
    "    while True:\n",
    "        try:\n",
    "            x, y, z = middle_testcase()\n",
    "            _ = middle_test(x, y, z)\n",
    "        except AssertionError:\n",
    "            return x, y, z"
   ]
  },
  {
   "cell_type": "code",
   "execution_count": 21,
   "metadata": {
    "execution": {
     "iopub.execute_input": "2021-02-28T15:41:56.700652Z",
     "iopub.status.busy": "2021-02-28T15:41:56.700143Z",
     "iopub.status.idle": "2021-02-28T15:41:56.702132Z",
     "shell.execute_reply": "2021-02-28T15:41:56.702499Z"
    },
    "slideshow": {
     "slide_type": "fragment"
    }
   },
   "outputs": [
    {
     "name": "stdout",
     "output_type": "stream",
     "text": [
      "middle(5, 2, 6) = 2\n"
     ]
    }
   ],
   "source": [
    "(x, y, z) = middle_failing_testcase()\n",
    "m = middle(x, y, z)\n",
    "print(f\"middle({x}, {y}, {z}) = {m}\")"
   ]
  },
  {
   "cell_type": "markdown",
   "metadata": {
    "slideshow": {
     "slide_type": "fragment"
    }
   },
   "source": [
    "With these, we can define two sets of test cases, each with 100 inputs."
   ]
  },
  {
   "cell_type": "code",
   "execution_count": 22,
   "metadata": {
    "execution": {
     "iopub.execute_input": "2021-02-28T15:41:56.705379Z",
     "iopub.status.busy": "2021-02-28T15:41:56.704871Z",
     "iopub.status.idle": "2021-02-28T15:41:56.706429Z",
     "shell.execute_reply": "2021-02-28T15:41:56.706797Z"
    },
    "slideshow": {
     "slide_type": "fragment"
    }
   },
   "outputs": [],
   "source": [
    "MIDDLE_TESTS = 100"
   ]
  },
  {
   "cell_type": "code",
   "execution_count": 23,
   "metadata": {
    "execution": {
     "iopub.execute_input": "2021-02-28T15:41:56.710056Z",
     "iopub.status.busy": "2021-02-28T15:41:56.709549Z",
     "iopub.status.idle": "2021-02-28T15:41:56.711230Z",
     "shell.execute_reply": "2021-02-28T15:41:56.711598Z"
    },
    "slideshow": {
     "slide_type": "subslide"
    }
   },
   "outputs": [],
   "source": [
    "MIDDLE_PASSING_TESTCASES = [middle_passing_testcase()\n",
    "                            for i in range(MIDDLE_TESTS)]"
   ]
  },
  {
   "cell_type": "code",
   "execution_count": 24,
   "metadata": {
    "execution": {
     "iopub.execute_input": "2021-02-28T15:41:56.716299Z",
     "iopub.status.busy": "2021-02-28T15:41:56.715758Z",
     "iopub.status.idle": "2021-02-28T15:41:56.717398Z",
     "shell.execute_reply": "2021-02-28T15:41:56.717826Z"
    },
    "slideshow": {
     "slide_type": "fragment"
    }
   },
   "outputs": [],
   "source": [
    "MIDDLE_FAILING_TESTCASES = [middle_failing_testcase()\n",
    "                            for i in range(MIDDLE_TESTS)]"
   ]
  },
  {
   "cell_type": "markdown",
   "metadata": {
    "slideshow": {
     "slide_type": "slide"
    }
   },
   "source": [
    "## Locating the Defect"
   ]
  },
  {
   "cell_type": "markdown",
   "metadata": {
    "slideshow": {
     "slide_type": "fragment"
    }
   },
   "source": [
    "Our next step is to find potential defect locations – that is, those locations in the code our mutations should focus upon. Since we already do have two test suites, we can make use of [statistical debugging](StatisticalDebugger.ipynb) to identify likely faulty locations.  Our `OchiaiDebugger` ranks individual code lines by how frequently they are executed in failing runs (and not in passing runs)."
   ]
  },
  {
   "cell_type": "code",
   "execution_count": 25,
   "metadata": {
    "execution": {
     "iopub.execute_input": "2021-02-28T15:41:56.720813Z",
     "iopub.status.busy": "2021-02-28T15:41:56.720302Z",
     "iopub.status.idle": "2021-02-28T15:41:56.721822Z",
     "shell.execute_reply": "2021-02-28T15:41:56.722189Z"
    },
    "slideshow": {
     "slide_type": "skip"
    }
   },
   "outputs": [],
   "source": [
    "from StatisticalDebugger import OchiaiDebugger, DifferenceDebugger"
   ]
  },
  {
   "cell_type": "code",
   "execution_count": 26,
   "metadata": {
    "execution": {
     "iopub.execute_input": "2021-02-28T15:41:56.730640Z",
     "iopub.status.busy": "2021-02-28T15:41:56.730127Z",
     "iopub.status.idle": "2021-02-28T15:41:56.732101Z",
     "shell.execute_reply": "2021-02-28T15:41:56.732514Z"
    },
    "slideshow": {
     "slide_type": "fragment"
    }
   },
   "outputs": [],
   "source": [
    "middle_debugger = OchiaiDebugger()\n",
    "\n",
    "for x, y, z in MIDDLE_PASSING_TESTCASES + MIDDLE_FAILING_TESTCASES:\n",
    "    with middle_debugger:\n",
    "        m = middle_test(x, y, z)"
   ]
  },
  {
   "cell_type": "markdown",
   "metadata": {
    "slideshow": {
     "slide_type": "fragment"
    }
   },
   "source": [
    "We see that the upper half of the `middle()` code is definitely more suspicious:"
   ]
  },
  {
   "cell_type": "code",
   "execution_count": 27,
   "metadata": {
    "execution": {
     "iopub.execute_input": "2021-02-28T15:41:56.773758Z",
     "iopub.status.busy": "2021-02-28T15:41:56.772970Z",
     "iopub.status.idle": "2021-02-28T15:41:56.775701Z",
     "shell.execute_reply": "2021-02-28T15:41:56.776127Z"
    },
    "slideshow": {
     "slide_type": "subslide"
    }
   },
   "outputs": [
    {
     "data": {
      "text/html": [
       "<pre style=\"background-color:hsl(35.14718625761431, 100.0%, 80%)\"\n",
       "                    title=\"Line 677:  70%\"> 677 def middle(x, y, z):  # type: ignore</pre>\n",
       "<pre style=\"background-color:hsl(35.14718625761431, 100.0%, 80%)\"\n",
       "                    title=\"Line 678:  70%\"> 678     if y &lt; z:</pre>\n",
       "<pre style=\"background-color:hsl(14.34589124092514, 100.0%, 80%)\"\n",
       "                    title=\"Line 679:  88%\"> 679         if x &lt; y:</pre>\n",
       "<pre style=\"background-color:hsl(120.0, 7.000000000000001%, 80%)\"\n",
       "                    title=\"Line 680:   0%\"> 680             return y</pre>\n",
       "<pre style=\"background-color:hsl(11.357104748977767, 100.0%, 80%)\"\n",
       "                    title=\"Line 681:  90%\"> 681         elif x &lt; z:</pre>\n",
       "<pre style=\"background-color:hsl(4.529946162074849, 100.0%, 80%)\"\n",
       "                    title=\"Line 682:  96%\"> 682             return y</pre>\n",
       "<pre title=\"Line 683: not executed\"> 683     else:\n",
       "</pre>\n",
       "<pre style=\"background-color:hsl(120.0, 71.0%, 80%)\"\n",
       "                    title=\"Line 684:   0%\"> 684         if x &gt; y:</pre>\n",
       "<pre style=\"background-color:hsl(120.0, 20.0%, 80%)\"\n",
       "                    title=\"Line 685:   0%\"> 685             return y</pre>\n",
       "<pre style=\"background-color:hsl(120.0, 51.0%, 80%)\"\n",
       "                    title=\"Line 686:   0%\"> 686         elif x &gt; z:</pre>\n",
       "<pre style=\"background-color:hsl(120.0, 19.0%, 80%)\"\n",
       "                    title=\"Line 687:   0%\"> 687             return x</pre>\n",
       "<pre style=\"background-color:hsl(120.0, 46.0%, 80%)\"\n",
       "                    title=\"Line 688:   0%\"> 688     return z</pre>\n",
       "\n",
       "<p/><pre style=\"background-color:hsl(35.14718625761431, 100.0%, 80%)\"\n",
       "                    title=\"Line 1:  70%\">   1 def middle_test(x, y, z):</pre>\n",
       "<pre style=\"background-color:hsl(35.14718625761431, 100.0%, 80%)\"\n",
       "                    title=\"Line 2:  70%\">   2     m = middle(x, y, z)</pre>\n",
       "<pre style=\"background-color:hsl(35.14718625761431, 100.0%, 80%)\"\n",
       "                    title=\"Line 3:  70%\">   3     assert m == sorted([x, y, z])[1]</pre>\n"
      ],
      "text/markdown": [
       "| `middle_test` | `z=4, y=5, x=7` | `z=2, y=6, x=6` | `z=4, y=6, x=7` | `z=7, y=7, x=0` | `z=7, y=9, x=3` | `z=8, y=3, x=2` | `z=3, y=6, x=2` | `z=4, y=8, x=2` | `z=5, y=7, x=8` | `z=6, y=0, x=0` | `z=5, y=2, x=5` | `z=9, y=6, x=9` | `z=5, y=5, x=8` | `z=0, y=7, x=1` | `z=4, y=4, x=0` | `z=5, y=7, x=8` | `z=5, y=1, x=7` | `z=3, y=5, x=3` | `z=2, y=3, x=6` | `z=8, y=9, x=3` | `z=8, y=3, x=1` | `z=1, y=9, x=5` | `z=7, y=5, x=5` | `z=3, y=0, x=9` | `z=3, y=6, x=5` | `z=8, y=9, x=7` | `z=3, y=2, x=2` | `z=1, y=8, x=1` | `z=3, y=3, x=3` | `z=6, y=3, x=7` | `z=6, y=7, x=3` | `z=1, y=3, x=2` | `z=6, y=0, x=8` | `z=0, y=4, x=5` | `z=2, y=9, x=5` | `z=1, y=7, x=6` | `z=7, y=1, x=1` | `z=8, y=6, x=1` | `z=1, y=9, x=0` | `z=7, y=9, x=5` | `z=6, y=5, x=1` | `z=1, y=6, x=1` | `z=4, y=8, x=7` | `z=4, y=8, x=2` | `z=3, y=4, x=3` | `z=5, y=4, x=8` | `z=8, y=5, x=0` | `z=0, y=7, x=9` | `z=4, y=5, x=1` | `z=9, y=8, x=9` | `z=4, y=2, x=9` | `z=0, y=2, x=3` | `z=2, y=5, x=8` | `z=7, y=9, x=4` | `z=0, y=8, x=4` | `z=1, y=9, x=5` | `z=4, y=6, x=7` | `z=2, y=9, x=8` | `z=4, y=1, x=9` | `z=2, y=7, x=9` | `z=5, y=9, x=1` | `z=1, y=9, x=1` | `z=0, y=8, x=7` | `z=6, y=8, x=4` | `z=1, y=2, x=9` | `z=5, y=4, x=9` | `z=2, y=4, x=0` | `z=4, y=8, x=6` | `z=1, y=0, x=0` | `z=3, y=4, x=6` | `z=3, y=0, x=8` | `z=1, y=5, x=9` | `z=6, y=6, x=7` | `z=0, y=6, x=4` | `z=0, y=1, x=1` | `z=1, y=4, x=8` | `z=2, y=6, x=1` | `z=1, y=5, x=4` | `z=6, y=1, x=1` | `z=1, y=2, x=1` | `z=2, y=4, x=2` | `z=3, y=3, x=7` | `z=4, y=7, x=2` | `z=0, y=8, x=0` | `z=4, y=6, x=4` | `z=2, y=5, x=1` | `z=2, y=8, x=0` | `z=6, y=5, x=3` | `z=4, y=2, x=7` | `z=5, y=4, x=5` | `z=4, y=3, x=2` | `z=4, y=2, x=2` | `z=2, y=6, x=3` | `z=0, y=4, x=9` | `z=0, y=7, x=7` | `z=8, y=9, x=4` | `z=4, y=8, x=3` | `z=5, y=3, x=3` | `z=2, y=2, x=3` | `z=1, y=8, x=8` | `z=5, y=1, x=2` | `z=9, y=2, x=5` | `z=3, y=1, x=2` | `z=7, y=0, x=3` | `z=6, y=1, x=4` | `z=9, y=0, x=2` | `z=7, y=3, x=4` | `z=8, y=3, x=5` | `z=9, y=0, x=6` | `z=4, y=0, x=2` | `z=5, y=0, x=4` | `z=9, y=5, x=6` | `z=9, y=3, x=5` | `z=9, y=0, x=7` | `z=9, y=3, x=5` | `z=6, y=1, x=2` | `z=4, y=2, x=3` | `z=5, y=1, x=2` | `z=6, y=2, x=3` | `z=7, y=4, x=6` | `z=6, y=2, x=5` | `z=5, y=2, x=4` | `z=9, y=2, x=6` | `z=8, y=2, x=4` | `z=3, y=0, x=2` | `z=5, y=1, x=2` | `z=9, y=1, x=2` | `z=9, y=6, x=7` | `z=9, y=0, x=6` | `z=9, y=6, x=7` | `z=9, y=6, x=8` | `z=9, y=6, x=7` | `z=2, y=0, x=1` | `z=3, y=0, x=1` | `z=7, y=2, x=3` | `z=9, y=5, x=6` | `z=3, y=0, x=1` | `z=7, y=4, x=6` | `z=9, y=7, x=8` | `z=4, y=0, x=2` | `z=7, y=1, x=5` | `z=9, y=4, x=6` | `z=9, y=0, x=8` | `z=4, y=1, x=2` | `z=8, y=1, x=4` | `z=4, y=0, x=3` | `z=5, y=1, x=3` | `z=8, y=5, x=7` | `z=9, y=2, x=6` | `z=4, y=0, x=2` | `z=9, y=6, x=7` | `z=6, y=1, x=2` | `z=8, y=0, x=3` | `z=8, y=3, x=5` | `z=9, y=0, x=5` | `z=9, y=0, x=4` | `z=8, y=5, x=7` | `z=7, y=2, x=4` | `z=6, y=1, x=3` | `z=4, y=0, x=2` | `z=8, y=0, x=4` | `z=8, y=1, x=2` | `z=9, y=3, x=5` | `z=5, y=3, x=4` | `z=9, y=4, x=6` | `z=8, y=6, x=7` | `z=9, y=1, x=3` | `z=7, y=2, x=4` | `z=6, y=0, x=1` | `z=5, y=0, x=1` | `z=9, y=0, x=7` | `z=7, y=0, x=4` | `z=9, y=2, x=3` | `z=6, y=1, x=4` | `z=9, y=2, x=5` | `z=9, y=0, x=8` | `z=9, y=1, x=2` | `z=6, y=3, x=4` | `z=9, y=0, x=6` | `z=4, y=1, x=3` | `z=8, y=6, x=7` | `z=7, y=1, x=6` | `z=7, y=2, x=6` | `z=9, y=0, x=3` | `z=9, y=4, x=5` | `z=9, y=6, x=8` | `z=6, y=3, x=5` | `z=7, y=1, x=2` | `z=5, y=0, x=3` | `z=8, y=1, x=6` | `z=5, y=0, x=2` | `z=9, y=0, x=2` | `z=8, y=5, x=6` | `z=4, y=0, x=2` | `z=9, y=0, x=5` | `z=9, y=0, x=1` | `z=6, y=1, x=3` | `z=5, y=1, x=3` | `z=9, y=1, x=5` | `z=7, y=2, x=6` | \n",
       "| ------------- | ---- | ---- | ---- | ---- | ---- | ---- | ---- | ---- | ---- | ---- | ---- | ---- | ---- | ---- | ---- | ---- | ---- | ---- | ---- | ---- | ---- | ---- | ---- | ---- | ---- | ---- | ---- | ---- | ---- | ---- | ---- | ---- | ---- | ---- | ---- | ---- | ---- | ---- | ---- | ---- | ---- | ---- | ---- | ---- | ---- | ---- | ---- | ---- | ---- | ---- | ---- | ---- | ---- | ---- | ---- | ---- | ---- | ---- | ---- | ---- | ---- | ---- | ---- | ---- | ---- | ---- | ---- | ---- | ---- | ---- | ---- | ---- | ---- | ---- | ---- | ---- | ---- | ---- | ---- | ---- | ---- | ---- | ---- | ---- | ---- | ---- | ---- | ---- | ---- | ---- | ---- | ---- | ---- | ---- | ---- | ---- | ---- | ---- | ---- | ---- | ---- | ---- | ---- | ---- | ---- | ---- | ---- | ---- | ---- | ---- | ---- | ---- | ---- | ---- | ---- | ---- | ---- | ---- | ---- | ---- | ---- | ---- | ---- | ---- | ---- | ---- | ---- | ---- | ---- | ---- | ---- | ---- | ---- | ---- | ---- | ---- | ---- | ---- | ---- | ---- | ---- | ---- | ---- | ---- | ---- | ---- | ---- | ---- | ---- | ---- | ---- | ---- | ---- | ---- | ---- | ---- | ---- | ---- | ---- | ---- | ---- | ---- | ---- | ---- | ---- | ---- | ---- | ---- | ---- | ---- | ---- | ---- | ---- | ---- | ---- | ---- | ---- | ---- | ---- | ---- | ---- | ---- | ---- | ---- | ---- | ---- | ---- | ---- | ---- | ---- | ---- | ---- | ---- | ---- | ---- | ---- | ---- | ---- | ---- | ---- | \n",
       "| <samp style=\"background-color: hsl(35.14718625761431, 100.0%, 80%)\" title=\" 70%\">   middle:677</samp> |    X |    X |    X |    X |    X |    X |    X |    X |    X |    X |    X |    X |    X |    X |    X |    X |    X |    X |    X |    X |    X |    X |    X |    X |    X |    X |    X |    X |    X |    X |    X |    X |    X |    X |    X |    X |    X |    X |    X |    X |    X |    X |    X |    X |    X |    X |    X |    X |    X |    X |    X |    X |    X |    X |    X |    X |    X |    X |    X |    X |    X |    X |    X |    X |    X |    X |    X |    X |    X |    X |    X |    X |    X |    X |    X |    X |    X |    X |    X |    X |    X |    X |    X |    X |    X |    X |    X |    X |    X |    X |    X |    X |    X |    X |    X |    X |    X |    X |    X |    X |    X |    X |    X |    X |    X |    X |    X |    X |    X |    X |    X |    X |    X |    X |    X |    X |    X |    X |    X |    X |    X |    X |    X |    X |    X |    X |    X |    X |    X |    X |    X |    X |    X |    X |    X |    X |    X |    X |    X |    X |    X |    X |    X |    X |    X |    X |    X |    X |    X |    X |    X |    X |    X |    X |    X |    X |    X |    X |    X |    X |    X |    X |    X |    X |    X |    X |    X |    X |    X |    X |    X |    X |    X |    X |    X |    X |    X |    X |    X |    X |    X |    X |    X |    X |    X |    X |    X |    X |    X |    X |    X |    X |    X |    X |    X |    X |    X |    X |    X |    X | \n",
       "| <samp style=\"background-color: hsl(35.14718625761431, 100.0%, 80%)\" title=\" 70%\">   middle:678</samp> |    X |    X |    X |    X |    X |    X |    X |    X |    X |    X |    X |    X |    X |    X |    X |    X |    X |    X |    X |    X |    X |    X |    X |    X |    X |    X |    X |    X |    X |    X |    X |    X |    X |    X |    X |    X |    X |    X |    X |    X |    X |    X |    X |    X |    X |    X |    X |    X |    X |    X |    X |    X |    X |    X |    X |    X |    X |    X |    X |    X |    X |    X |    X |    X |    X |    X |    X |    X |    X |    X |    X |    X |    X |    X |    X |    X |    X |    X |    X |    X |    X |    X |    X |    X |    X |    X |    X |    X |    X |    X |    X |    X |    X |    X |    X |    X |    X |    X |    X |    X |    X |    X |    X |    X |    X |    X |    X |    X |    X |    X |    X |    X |    X |    X |    X |    X |    X |    X |    X |    X |    X |    X |    X |    X |    X |    X |    X |    X |    X |    X |    X |    X |    X |    X |    X |    X |    X |    X |    X |    X |    X |    X |    X |    X |    X |    X |    X |    X |    X |    X |    X |    X |    X |    X |    X |    X |    X |    X |    X |    X |    X |    X |    X |    X |    X |    X |    X |    X |    X |    X |    X |    X |    X |    X |    X |    X |    X |    X |    X |    X |    X |    X |    X |    X |    X |    X |    X |    X |    X |    X |    X |    X |    X |    X |    X |    X |    X |    X |    X |    X | \n",
       "| <samp style=\"background-color: hsl(14.34589124092514, 100.0%, 80%)\" title=\" 88%\">   middle:679</samp> |    - |    - |    - |    - |    - |    X |    - |    - |    - |    X |    X |    X |    - |    - |    - |    - |    X |    - |    - |    - |    X |    - |    X |    X |    - |    - |    X |    - |    - |    X |    - |    - |    X |    - |    - |    - |    X |    X |    - |    - |    X |    - |    - |    - |    - |    X |    X |    - |    - |    X |    X |    - |    - |    - |    - |    - |    - |    - |    X |    - |    - |    - |    - |    - |    - |    X |    - |    - |    X |    - |    X |    - |    - |    - |    - |    - |    - |    - |    X |    - |    - |    - |    - |    - |    - |    - |    - |    X |    X |    X |    X |    X |    - |    - |    - |    - |    - |    X |    - |    - |    X |    X |    X |    X |    X |    X |    X |    X |    X |    X |    X |    X |    X |    X |    X |    X |    X |    X |    X |    X |    X |    X |    X |    X |    X |    X |    X |    X |    X |    X |    X |    X |    X |    X |    X |    X |    X |    X |    X |    X |    X |    X |    X |    X |    X |    X |    X |    X |    X |    X |    X |    X |    X |    X |    X |    X |    X |    X |    X |    X |    X |    X |    X |    X |    X |    X |    X |    X |    X |    X |    X |    X |    X |    X |    X |    X |    X |    X |    X |    X |    X |    X |    X |    X |    X |    X |    X |    X |    X |    X |    X |    X |    X |    X |    X |    X |    X |    X |    X |    X | \n",
       "| <samp style=\"background-color: hsl(120.0, 7.000000000000001%, 80%)\" title=\"  0%\">   middle:680</samp> |    - |    - |    - |    - |    - |    X |    - |    - |    - |    - |    - |    - |    - |    - |    - |    - |    - |    - |    - |    - |    X |    - |    - |    - |    - |    - |    - |    - |    - |    - |    - |    - |    - |    - |    - |    - |    - |    X |    - |    - |    X |    - |    - |    - |    - |    - |    X |    - |    - |    - |    - |    - |    - |    - |    - |    - |    - |    - |    - |    - |    - |    - |    - |    - |    - |    - |    - |    - |    - |    - |    - |    - |    - |    - |    - |    - |    - |    - |    - |    - |    - |    - |    - |    - |    - |    - |    - |    X |    - |    - |    X |    - |    - |    - |    - |    - |    - |    - |    - |    - |    - |    - |    - |    - |    - |    - |    - |    - |    - |    - |    - |    - |    - |    - |    - |    - |    - |    - |    - |    - |    - |    - |    - |    - |    - |    - |    - |    - |    - |    - |    - |    - |    - |    - |    - |    - |    - |    - |    - |    - |    - |    - |    - |    - |    - |    - |    - |    - |    - |    - |    - |    - |    - |    - |    - |    - |    - |    - |    - |    - |    - |    - |    - |    - |    - |    - |    - |    - |    - |    - |    - |    - |    - |    - |    - |    - |    - |    - |    - |    - |    - |    - |    - |    - |    - |    - |    - |    - |    - |    - |    - |    - |    - |    - |    - |    - |    - |    - |    - |    - | \n",
       "| <samp style=\"background-color: hsl(11.357104748977767, 100.0%, 80%)\" title=\" 90%\">   middle:681</samp> |    - |    - |    - |    - |    - |    - |    - |    - |    - |    X |    X |    X |    - |    - |    - |    - |    X |    - |    - |    - |    - |    - |    X |    X |    - |    - |    X |    - |    - |    X |    - |    - |    X |    - |    - |    - |    X |    - |    - |    - |    - |    - |    - |    - |    - |    X |    - |    - |    - |    X |    X |    - |    - |    - |    - |    - |    - |    - |    X |    - |    - |    - |    - |    - |    - |    X |    - |    - |    X |    - |    X |    - |    - |    - |    - |    - |    - |    - |    X |    - |    - |    - |    - |    - |    - |    - |    - |    - |    X |    X |    - |    X |    - |    - |    - |    - |    - |    X |    - |    - |    X |    X |    X |    X |    X |    X |    X |    X |    X |    X |    X |    X |    X |    X |    X |    X |    X |    X |    X |    X |    X |    X |    X |    X |    X |    X |    X |    X |    X |    X |    X |    X |    X |    X |    X |    X |    X |    X |    X |    X |    X |    X |    X |    X |    X |    X |    X |    X |    X |    X |    X |    X |    X |    X |    X |    X |    X |    X |    X |    X |    X |    X |    X |    X |    X |    X |    X |    X |    X |    X |    X |    X |    X |    X |    X |    X |    X |    X |    X |    X |    X |    X |    X |    X |    X |    X |    X |    X |    X |    X |    X |    X |    X |    X |    X |    X |    X |    X |    X |    X | \n",
       "| <samp style=\"background-color: hsl(4.529946162074849, 100.0%, 80%)\" title=\" 96%\">   middle:682</samp> |    - |    - |    - |    - |    - |    - |    - |    - |    - |    X |    - |    - |    - |    - |    - |    - |    - |    - |    - |    - |    - |    - |    X |    - |    - |    - |    X |    - |    - |    - |    - |    - |    - |    - |    - |    - |    X |    - |    - |    - |    - |    - |    - |    - |    - |    - |    - |    - |    - |    - |    - |    - |    - |    - |    - |    - |    - |    - |    - |    - |    - |    - |    - |    - |    - |    - |    - |    - |    X |    - |    - |    - |    - |    - |    - |    - |    - |    - |    X |    - |    - |    - |    - |    - |    - |    - |    - |    - |    - |    - |    - |    X |    - |    - |    - |    - |    - |    X |    - |    - |    X |    X |    X |    X |    X |    X |    X |    X |    X |    X |    X |    X |    X |    X |    X |    X |    X |    X |    X |    X |    X |    X |    X |    X |    X |    X |    X |    X |    X |    X |    X |    X |    X |    X |    X |    X |    X |    X |    X |    X |    X |    X |    X |    X |    X |    X |    X |    X |    X |    X |    X |    X |    X |    X |    X |    X |    X |    X |    X |    X |    X |    X |    X |    X |    X |    X |    X |    X |    X |    X |    X |    X |    X |    X |    X |    X |    X |    X |    X |    X |    X |    X |    X |    X |    X |    X |    X |    X |    X |    X |    X |    X |    X |    X |    X |    X |    X |    X |    X |    X | \n",
       "| <samp style=\"background-color: hsl(120.0, 71.0%, 80%)\" title=\"  0%\">   middle:684</samp> |    X |    X |    X |    X |    X |    - |    X |    X |    X |    - |    - |    - |    X |    X |    X |    X |    - |    X |    X |    X |    - |    X |    - |    - |    X |    X |    - |    X |    X |    - |    X |    X |    - |    X |    X |    X |    - |    - |    X |    X |    - |    X |    X |    X |    X |    - |    - |    X |    X |    - |    - |    X |    X |    X |    X |    X |    X |    X |    - |    X |    X |    X |    X |    X |    X |    - |    X |    X |    - |    X |    - |    X |    X |    X |    X |    X |    X |    X |    - |    X |    X |    X |    X |    X |    X |    X |    X |    - |    - |    - |    - |    - |    X |    X |    X |    X |    X |    - |    X |    X |    - |    - |    - |    - |    - |    - |    - |    - |    - |    - |    - |    - |    - |    - |    - |    - |    - |    - |    - |    - |    - |    - |    - |    - |    - |    - |    - |    - |    - |    - |    - |    - |    - |    - |    - |    - |    - |    - |    - |    - |    - |    - |    - |    - |    - |    - |    - |    - |    - |    - |    - |    - |    - |    - |    - |    - |    - |    - |    - |    - |    - |    - |    - |    - |    - |    - |    - |    - |    - |    - |    - |    - |    - |    - |    - |    - |    - |    - |    - |    - |    - |    - |    - |    - |    - |    - |    - |    - |    - |    - |    - |    - |    - |    - |    - |    - |    - |    - |    - |    - | \n",
       "| <samp style=\"background-color: hsl(120.0, 20.0%, 80%)\" title=\"  0%\">   middle:685</samp> |    X |    - |    X |    - |    - |    - |    - |    - |    X |    - |    - |    - |    X |    - |    - |    X |    - |    - |    X |    - |    - |    - |    - |    - |    - |    - |    - |    - |    - |    - |    - |    - |    - |    X |    - |    - |    - |    - |    - |    - |    - |    - |    - |    - |    - |    - |    - |    X |    - |    - |    - |    X |    X |    - |    - |    - |    X |    - |    - |    X |    - |    - |    - |    - |    X |    - |    - |    - |    - |    X |    - |    X |    X |    - |    - |    X |    - |    - |    - |    - |    - |    X |    - |    - |    - |    - |    - |    - |    - |    - |    - |    - |    - |    X |    - |    - |    - |    - |    X |    - |    - |    - |    - |    - |    - |    - |    - |    - |    - |    - |    - |    - |    - |    - |    - |    - |    - |    - |    - |    - |    - |    - |    - |    - |    - |    - |    - |    - |    - |    - |    - |    - |    - |    - |    - |    - |    - |    - |    - |    - |    - |    - |    - |    - |    - |    - |    - |    - |    - |    - |    - |    - |    - |    - |    - |    - |    - |    - |    - |    - |    - |    - |    - |    - |    - |    - |    - |    - |    - |    - |    - |    - |    - |    - |    - |    - |    - |    - |    - |    - |    - |    - |    - |    - |    - |    - |    - |    - |    - |    - |    - |    - |    - |    - |    - |    - |    - |    - |    - |    - | \n",
       "| <samp style=\"background-color: hsl(120.0, 51.0%, 80%)\" title=\"  0%\">   middle:686</samp> |    - |    X |    - |    X |    X |    - |    X |    X |    - |    - |    - |    - |    - |    X |    X |    - |    - |    X |    - |    X |    - |    X |    - |    - |    X |    X |    - |    X |    X |    - |    X |    X |    - |    - |    X |    X |    - |    - |    X |    X |    - |    X |    X |    X |    X |    - |    - |    - |    X |    - |    - |    - |    - |    X |    X |    X |    - |    X |    - |    - |    X |    X |    X |    X |    - |    - |    X |    X |    - |    - |    - |    - |    - |    X |    X |    - |    X |    X |    - |    X |    X |    - |    X |    X |    X |    X |    X |    - |    - |    - |    - |    - |    X |    - |    X |    X |    X |    - |    - |    X |    - |    - |    - |    - |    - |    - |    - |    - |    - |    - |    - |    - |    - |    - |    - |    - |    - |    - |    - |    - |    - |    - |    - |    - |    - |    - |    - |    - |    - |    - |    - |    - |    - |    - |    - |    - |    - |    - |    - |    - |    - |    - |    - |    - |    - |    - |    - |    - |    - |    - |    - |    - |    - |    - |    - |    - |    - |    - |    - |    - |    - |    - |    - |    - |    - |    - |    - |    - |    - |    - |    - |    - |    - |    - |    - |    - |    - |    - |    - |    - |    - |    - |    - |    - |    - |    - |    - |    - |    - |    - |    - |    - |    - |    - |    - |    - |    - |    - |    - |    - | \n",
       "| <samp style=\"background-color: hsl(120.0, 19.0%, 80%)\" title=\"  0%\">   middle:687</samp> |    - |    X |    - |    - |    - |    - |    - |    - |    - |    - |    - |    - |    - |    X |    - |    - |    - |    - |    - |    - |    - |    X |    - |    - |    X |    - |    - |    - |    - |    - |    - |    X |    - |    - |    X |    X |    - |    - |    - |    - |    - |    - |    X |    - |    - |    - |    - |    - |    - |    - |    - |    - |    - |    - |    X |    X |    - |    X |    - |    - |    - |    - |    X |    - |    - |    - |    - |    X |    - |    - |    - |    - |    - |    X |    X |    - |    - |    X |    - |    - |    - |    - |    - |    - |    - |    - |    - |    - |    - |    - |    - |    - |    X |    - |    X |    - |    - |    - |    - |    X |    - |    - |    - |    - |    - |    - |    - |    - |    - |    - |    - |    - |    - |    - |    - |    - |    - |    - |    - |    - |    - |    - |    - |    - |    - |    - |    - |    - |    - |    - |    - |    - |    - |    - |    - |    - |    - |    - |    - |    - |    - |    - |    - |    - |    - |    - |    - |    - |    - |    - |    - |    - |    - |    - |    - |    - |    - |    - |    - |    - |    - |    - |    - |    - |    - |    - |    - |    - |    - |    - |    - |    - |    - |    - |    - |    - |    - |    - |    - |    - |    - |    - |    - |    - |    - |    - |    - |    - |    - |    - |    - |    - |    - |    - |    - |    - |    - |    - |    - |    - | \n",
       "| <samp style=\"background-color: hsl(120.0, 46.0%, 80%)\" title=\"  0%\">   middle:688</samp> |    - |    - |    - |    X |    X |    - |    X |    X |    - |    - |    X |    X |    - |    - |    X |    - |    X |    X |    - |    X |    - |    - |    - |    X |    - |    X |    - |    X |    X |    X |    X |    - |    X |    - |    - |    - |    - |    - |    X |    X |    - |    X |    - |    X |    X |    X |    - |    - |    X |    X |    X |    - |    - |    X |    - |    - |    - |    - |    X |    - |    X |    X |    - |    X |    - |    X |    X |    - |    - |    - |    X |    - |    - |    - |    - |    - |    X |    - |    - |    X |    X |    - |    X |    X |    X |    X |    X |    - |    X |    X |    - |    - |    - |    - |    - |    X |    X |    - |    - |    - |    - |    - |    - |    - |    - |    - |    - |    - |    - |    - |    - |    - |    - |    - |    - |    - |    - |    - |    - |    - |    - |    - |    - |    - |    - |    - |    - |    - |    - |    - |    - |    - |    - |    - |    - |    - |    - |    - |    - |    - |    - |    - |    - |    - |    - |    - |    - |    - |    - |    - |    - |    - |    - |    - |    - |    - |    - |    - |    - |    - |    - |    - |    - |    - |    - |    - |    - |    - |    - |    - |    - |    - |    - |    - |    - |    - |    - |    - |    - |    - |    - |    - |    - |    - |    - |    - |    - |    - |    - |    - |    - |    - |    - |    - |    - |    - |    - |    - |    - |    - | \n",
       "| <samp style=\"background-color: hsl(35.14718625761431, 100.0%, 80%)\" title=\" 70%\">middle_test:1</samp> |    X |    X |    X |    X |    X |    X |    X |    X |    X |    X |    X |    X |    X |    X |    X |    X |    X |    X |    X |    X |    X |    X |    X |    X |    X |    X |    X |    X |    X |    X |    X |    X |    X |    X |    X |    X |    X |    X |    X |    X |    X |    X |    X |    X |    X |    X |    X |    X |    X |    X |    X |    X |    X |    X |    X |    X |    X |    X |    X |    X |    X |    X |    X |    X |    X |    X |    X |    X |    X |    X |    X |    X |    X |    X |    X |    X |    X |    X |    X |    X |    X |    X |    X |    X |    X |    X |    X |    X |    X |    X |    X |    X |    X |    X |    X |    X |    X |    X |    X |    X |    X |    X |    X |    X |    X |    X |    X |    X |    X |    X |    X |    X |    X |    X |    X |    X |    X |    X |    X |    X |    X |    X |    X |    X |    X |    X |    X |    X |    X |    X |    X |    X |    X |    X |    X |    X |    X |    X |    X |    X |    X |    X |    X |    X |    X |    X |    X |    X |    X |    X |    X |    X |    X |    X |    X |    X |    X |    X |    X |    X |    X |    X |    X |    X |    X |    X |    X |    X |    X |    X |    X |    X |    X |    X |    X |    X |    X |    X |    X |    X |    X |    X |    X |    X |    X |    X |    X |    X |    X |    X |    X |    X |    X |    X |    X |    X |    X |    X |    X |    X | \n",
       "| <samp style=\"background-color: hsl(35.14718625761431, 100.0%, 80%)\" title=\" 70%\">middle_test:2</samp> |    X |    X |    X |    X |    X |    X |    X |    X |    X |    X |    X |    X |    X |    X |    X |    X |    X |    X |    X |    X |    X |    X |    X |    X |    X |    X |    X |    X |    X |    X |    X |    X |    X |    X |    X |    X |    X |    X |    X |    X |    X |    X |    X |    X |    X |    X |    X |    X |    X |    X |    X |    X |    X |    X |    X |    X |    X |    X |    X |    X |    X |    X |    X |    X |    X |    X |    X |    X |    X |    X |    X |    X |    X |    X |    X |    X |    X |    X |    X |    X |    X |    X |    X |    X |    X |    X |    X |    X |    X |    X |    X |    X |    X |    X |    X |    X |    X |    X |    X |    X |    X |    X |    X |    X |    X |    X |    X |    X |    X |    X |    X |    X |    X |    X |    X |    X |    X |    X |    X |    X |    X |    X |    X |    X |    X |    X |    X |    X |    X |    X |    X |    X |    X |    X |    X |    X |    X |    X |    X |    X |    X |    X |    X |    X |    X |    X |    X |    X |    X |    X |    X |    X |    X |    X |    X |    X |    X |    X |    X |    X |    X |    X |    X |    X |    X |    X |    X |    X |    X |    X |    X |    X |    X |    X |    X |    X |    X |    X |    X |    X |    X |    X |    X |    X |    X |    X |    X |    X |    X |    X |    X |    X |    X |    X |    X |    X |    X |    X |    X |    X | \n",
       "| <samp style=\"background-color: hsl(35.14718625761431, 100.0%, 80%)\" title=\" 70%\">middle_test:3</samp> |    X |    X |    X |    X |    X |    X |    X |    X |    X |    X |    X |    X |    X |    X |    X |    X |    X |    X |    X |    X |    X |    X |    X |    X |    X |    X |    X |    X |    X |    X |    X |    X |    X |    X |    X |    X |    X |    X |    X |    X |    X |    X |    X |    X |    X |    X |    X |    X |    X |    X |    X |    X |    X |    X |    X |    X |    X |    X |    X |    X |    X |    X |    X |    X |    X |    X |    X |    X |    X |    X |    X |    X |    X |    X |    X |    X |    X |    X |    X |    X |    X |    X |    X |    X |    X |    X |    X |    X |    X |    X |    X |    X |    X |    X |    X |    X |    X |    X |    X |    X |    X |    X |    X |    X |    X |    X |    X |    X |    X |    X |    X |    X |    X |    X |    X |    X |    X |    X |    X |    X |    X |    X |    X |    X |    X |    X |    X |    X |    X |    X |    X |    X |    X |    X |    X |    X |    X |    X |    X |    X |    X |    X |    X |    X |    X |    X |    X |    X |    X |    X |    X |    X |    X |    X |    X |    X |    X |    X |    X |    X |    X |    X |    X |    X |    X |    X |    X |    X |    X |    X |    X |    X |    X |    X |    X |    X |    X |    X |    X |    X |    X |    X |    X |    X |    X |    X |    X |    X |    X |    X |    X |    X |    X |    X |    X |    X |    X |    X |    X |    X | \n"
      ],
      "text/plain": [
       "[('middle', 682), ('middle', 681), ('middle', 679), ('middle', 678), ('middle_test', 2), ('middle_test', 3), ('middle_test', 1), ('middle', 677), ('middle', 687), ('middle', 685), ('middle', 680), ('middle', 686), ('middle', 688), ('middle', 684)]"
      ]
     },
     "execution_count": 1,
     "metadata": {},
     "output_type": "execute_result"
    }
   ],
   "source": [
    "middle_debugger"
   ]
  },
  {
   "cell_type": "markdown",
   "metadata": {
    "slideshow": {
     "slide_type": "fragment"
    }
   },
   "source": [
    "The most suspicious line is:"
   ]
  },
  {
   "cell_type": "code",
   "execution_count": 28,
   "metadata": {
    "execution": {
     "iopub.execute_input": "2021-02-28T15:41:56.784488Z",
     "iopub.status.busy": "2021-02-28T15:41:56.783922Z",
     "iopub.status.idle": "2021-02-28T15:41:56.789565Z",
     "shell.execute_reply": "2021-02-28T15:41:56.789937Z"
    },
    "slideshow": {
     "slide_type": "fragment"
    }
   },
   "outputs": [
    {
     "name": "stdout",
     "output_type": "stream",
     "text": [
      "682            \u001b[34mreturn\u001b[39;49;00m y"
     ]
    }
   ],
   "source": [
    "# ignore\n",
    "location = middle_debugger.rank()[0]\n",
    "(func_name, lineno) = location\n",
    "lines, first_lineno = inspect.getsourcelines(middle)\n",
    "print(lineno, end=\"\")\n",
    "print_content(lines[lineno - first_lineno], '.py')"
   ]
  },
  {
   "cell_type": "markdown",
   "metadata": {
    "slideshow": {
     "slide_type": "fragment"
    }
   },
   "source": [
    "with a suspiciousness of:"
   ]
  },
  {
   "cell_type": "code",
   "execution_count": 29,
   "metadata": {
    "execution": {
     "iopub.execute_input": "2021-02-28T15:41:56.793685Z",
     "iopub.status.busy": "2021-02-28T15:41:56.793147Z",
     "iopub.status.idle": "2021-02-28T15:41:56.795155Z",
     "shell.execute_reply": "2021-02-28T15:41:56.795519Z"
    },
    "slideshow": {
     "slide_type": "fragment"
    }
   },
   "outputs": [
    {
     "data": {
      "text/plain": [
       "0.9622504486493763"
      ]
     },
     "execution_count": 1,
     "metadata": {},
     "output_type": "execute_result"
    }
   ],
   "source": [
    "# ignore\n",
    "middle_debugger.suspiciousness(location)"
   ]
  },
  {
   "cell_type": "markdown",
   "metadata": {
    "slideshow": {
     "slide_type": "slide"
    }
   },
   "source": [
    "## Random Code Mutations"
   ]
  },
  {
   "cell_type": "markdown",
   "metadata": {
    "slideshow": {
     "slide_type": "fragment"
    }
   },
   "source": [
    "Our third step in automatic code repair is to _randomly mutate the code_. Specifically, we want to randomly _delete_, _insert_, and _replace_ statements in the program to be repaired. However, simply synthesizing code _from scratch_ is unlikely to yield anything meaningful – the number of combinations is simply far too high. Already for a three-character identifier name, we have more than 200,000 combinations:"
   ]
  },
  {
   "cell_type": "code",
   "execution_count": 30,
   "metadata": {
    "execution": {
     "iopub.execute_input": "2021-02-28T15:41:56.798765Z",
     "iopub.status.busy": "2021-02-28T15:41:56.798139Z",
     "iopub.status.idle": "2021-02-28T15:41:56.799997Z",
     "shell.execute_reply": "2021-02-28T15:41:56.800370Z"
    },
    "slideshow": {
     "slide_type": "skip"
    }
   },
   "outputs": [],
   "source": [
    "import string"
   ]
  },
  {
   "cell_type": "code",
   "execution_count": 31,
   "metadata": {
    "execution": {
     "iopub.execute_input": "2021-02-28T15:41:56.803695Z",
     "iopub.status.busy": "2021-02-28T15:41:56.803098Z",
     "iopub.status.idle": "2021-02-28T15:41:56.805393Z",
     "shell.execute_reply": "2021-02-28T15:41:56.805775Z"
    },
    "slideshow": {
     "slide_type": "fragment"
    }
   },
   "outputs": [
    {
     "data": {
      "text/plain": [
       "'abcdefghijklmnopqrstuvwxyzABCDEFGHIJKLMNOPQRSTUVWXYZ'"
      ]
     },
     "execution_count": 1,
     "metadata": {},
     "output_type": "execute_result"
    }
   ],
   "source": [
    "string.ascii_letters"
   ]
  },
  {
   "cell_type": "code",
   "execution_count": 32,
   "metadata": {
    "execution": {
     "iopub.execute_input": "2021-02-28T15:41:56.809529Z",
     "iopub.status.busy": "2021-02-28T15:41:56.808994Z",
     "iopub.status.idle": "2021-02-28T15:41:56.811137Z",
     "shell.execute_reply": "2021-02-28T15:41:56.811523Z"
    },
    "slideshow": {
     "slide_type": "fragment"
    }
   },
   "outputs": [
    {
     "data": {
      "text/plain": [
       "210357"
      ]
     },
     "execution_count": 1,
     "metadata": {},
     "output_type": "execute_result"
    }
   ],
   "source": [
    "len(string.ascii_letters + '_') * \\\n",
    "  len(string.ascii_letters + '_' + string.digits) * \\\n",
    "  len(string.ascii_letters + '_' + string.digits)"
   ]
  },
  {
   "cell_type": "markdown",
   "metadata": {
    "slideshow": {
     "slide_type": "subslide"
    }
   },
   "source": [
    "Hence, we do _not_ synthesize code from scratch, but instead _reuse_ elements from the program to be fixed, hypothesizing that \"a program that contains an error in one area likely implements the correct behavior elsewhere\" \\cite{LeGoues2012}."
   ]
  },
  {
   "cell_type": "markdown",
   "metadata": {
    "slideshow": {
     "slide_type": "subslide"
    }
   },
   "source": [
    "Furthermore, we do not operate on a _textual_ representation of the program, but rather on a _structural_ representation, which by construction allows us to avoid lexical and syntactical errors in the first place.\n",
    "\n",
    "This structural representation is the _abstract syntax tree_ (AST), which we already have seen in various chapters, such as the [chapter on delta debugging](DeltaDebugger.ipynb), the [chapter on tracing](Tracer.ipynb), and excessively in the [chapter on slicing](Slicer.ipynb). The [official Python `ast` reference](http://docs.python.org/3/library/ast) is complete, but a bit brief; the documentation [\"Green Tree Snakes - the missing Python AST docs\"](https://greentreesnakes.readthedocs.io/en/latest/) provides an excellent introduction.\n",
    "\n",
    "Recapitulating, an AST is a tree representation of the program, showing a hierarchical structure of the program's elements. Here is the AST for our `middle()` function."
   ]
  },
  {
   "cell_type": "code",
   "execution_count": 33,
   "metadata": {
    "execution": {
     "iopub.execute_input": "2021-02-28T15:41:56.814599Z",
     "iopub.status.busy": "2021-02-28T15:41:56.814065Z",
     "iopub.status.idle": "2021-02-28T15:41:56.815567Z",
     "shell.execute_reply": "2021-02-28T15:41:56.816059Z"
    },
    "slideshow": {
     "slide_type": "skip"
    }
   },
   "outputs": [],
   "source": [
    "import ast\n",
    "import astor\n",
    "import inspect"
   ]
  },
  {
   "cell_type": "code",
   "execution_count": 34,
   "metadata": {
    "execution": {
     "iopub.execute_input": "2021-02-28T15:41:56.819684Z",
     "iopub.status.busy": "2021-02-28T15:41:56.818996Z",
     "iopub.status.idle": "2021-02-28T15:41:56.820913Z",
     "shell.execute_reply": "2021-02-28T15:41:56.821290Z"
    },
    "slideshow": {
     "slide_type": "skip"
    }
   },
   "outputs": [],
   "source": [
    "from bookutils import print_content, show_ast"
   ]
  },
  {
   "cell_type": "code",
   "execution_count": 35,
   "metadata": {
    "execution": {
     "iopub.execute_input": "2021-02-28T15:41:56.824727Z",
     "iopub.status.busy": "2021-02-28T15:41:56.824170Z",
     "iopub.status.idle": "2021-02-28T15:41:56.825964Z",
     "shell.execute_reply": "2021-02-28T15:41:56.826340Z"
    },
    "slideshow": {
     "slide_type": "subslide"
    }
   },
   "outputs": [],
   "source": [
    "def middle_tree():\n",
    "    return ast.parse(inspect.getsource(middle))"
   ]
  },
  {
   "cell_type": "code",
   "execution_count": 36,
   "metadata": {
    "execution": {
     "iopub.execute_input": "2021-02-28T15:41:56.829568Z",
     "iopub.status.busy": "2021-02-28T15:41:56.829055Z",
     "iopub.status.idle": "2021-02-28T15:41:57.620832Z",
     "shell.execute_reply": "2021-02-28T15:41:57.621402Z"
    },
    "slideshow": {
     "slide_type": "fragment"
    }
   },
   "outputs": [
    {
     "data": {
      "image/svg+xml": [
       "<svg height=\"476pt\" viewBox=\"0.00 0.00 1862.00 476.00\" width=\"1862pt\" xmlns=\"http://www.w3.org/2000/svg\" xmlns:xlink=\"http://www.w3.org/1999/xlink\">\n",
       "<g class=\"graph\" id=\"graph0\" transform=\"scale(1 1) rotate(0) translate(4 472)\">\n",
       "<title>%3</title>\n",
       "<polygon fill=\"#ffffff\" points=\"-4,4 -4,-472 1858,-472 1858,4 -4,4\" stroke=\"transparent\"/>\n",
       "<!-- 0 -->\n",
       "<g class=\"node\" id=\"node1\">\n",
       "<title>0</title>\n",
       "<text fill=\"#004080\" font-family=\"Courier,monospace\" font-size=\"14.00\" font-weight=\"bold\" text-anchor=\"start\" x=\"196.5\" y=\"-447.3\">FunctionDef</text>\n",
       "</g>\n",
       "<!-- 1 -->\n",
       "<g class=\"node\" id=\"node2\">\n",
       "<title>1</title>\n",
       "<text fill=\"#008040\" font-family=\"Courier,monospace\" font-size=\"14.00\" text-anchor=\"middle\" x=\"65\" y=\"-374.3\">&quot;middle&quot;</text>\n",
       "</g>\n",
       "<!-- 0&#45;&#45;1 -->\n",
       "<g class=\"edge\" id=\"edge1\">\n",
       "<title>0--1</title>\n",
       "<path d=\"M247,-432C247,-432 173.6167,-414.0594 116,-396 113.1329,-395.1013 110.1857,-394.1461 107.2233,-393.1625\" fill=\"none\" stroke=\"#000000\"/>\n",
       "</g>\n",
       "<!-- 2 -->\n",
       "<g class=\"node\" id=\"node3\">\n",
       "<title>2</title>\n",
       "<text fill=\"#004080\" font-family=\"Courier,monospace\" font-size=\"14.00\" font-weight=\"bold\" text-anchor=\"start\" x=\"133\" y=\"-375.3\">arguments</text>\n",
       "</g>\n",
       "<!-- 0&#45;&#45;2 -->\n",
       "<g class=\"edge\" id=\"edge2\">\n",
       "<title>0--2</title>\n",
       "<path d=\"M247,-432C247,-432 218.7783,-411.9478 196.7301,-396.2819\" fill=\"none\" stroke=\"#000000\"/>\n",
       "</g>\n",
       "<!-- 9 -->\n",
       "<g class=\"node\" id=\"node10\">\n",
       "<title>9</title>\n",
       "<text fill=\"#004080\" font-family=\"Courier,monospace\" font-size=\"14.00\" font-weight=\"bold\" text-anchor=\"start\" x=\"464.5\" y=\"-375.3\">If</text>\n",
       "</g>\n",
       "<!-- 0&#45;&#45;9 -->\n",
       "<g class=\"edge\" id=\"edge9\">\n",
       "<title>0--9</title>\n",
       "<path d=\"M247,-432C247,-432 385.63,-398.876 445.7391,-384.5137\" fill=\"none\" stroke=\"#000000\"/>\n",
       "</g>\n",
       "<!-- 70 -->\n",
       "<g class=\"node\" id=\"node71\">\n",
       "<title>70</title>\n",
       "<text fill=\"#004080\" font-family=\"Courier,monospace\" font-size=\"14.00\" font-weight=\"bold\" text-anchor=\"start\" x=\"1129.5\" y=\"-375.3\">Return</text>\n",
       "</g>\n",
       "<!-- 0&#45;&#45;70 -->\n",
       "<g class=\"edge\" id=\"edge70\">\n",
       "<title>0--70</title>\n",
       "<path d=\"M247,-432C247,-432 957.0073,-389.7749 1121.3352,-380.0021\" fill=\"none\" stroke=\"#000000\"/>\n",
       "</g>\n",
       "<!-- 3 -->\n",
       "<g class=\"node\" id=\"node4\">\n",
       "<title>3</title>\n",
       "<text fill=\"#004080\" font-family=\"Courier,monospace\" font-size=\"14.00\" font-weight=\"bold\" text-anchor=\"start\" x=\"14\" y=\"-303.3\">arg</text>\n",
       "</g>\n",
       "<!-- 2&#45;&#45;3 -->\n",
       "<g class=\"edge\" id=\"edge3\">\n",
       "<title>2--3</title>\n",
       "<path d=\"M157,-360C157,-360 103.9448,-342.025 63,-324 60.186,-322.7612 57.2759,-321.4165 54.3857,-320.0389\" fill=\"none\" stroke=\"#000000\"/>\n",
       "</g>\n",
       "<!-- 5 -->\n",
       "<g class=\"node\" id=\"node6\">\n",
       "<title>5</title>\n",
       "<text fill=\"#004080\" font-family=\"Courier,monospace\" font-size=\"14.00\" font-weight=\"bold\" text-anchor=\"start\" x=\"86\" y=\"-303.3\">arg</text>\n",
       "</g>\n",
       "<!-- 2&#45;&#45;5 -->\n",
       "<g class=\"edge\" id=\"edge5\">\n",
       "<title>2--5</title>\n",
       "<path d=\"M157,-360C157,-360 135.4624,-339.9478 118.6362,-324.2819\" fill=\"none\" stroke=\"#000000\"/>\n",
       "</g>\n",
       "<!-- 7 -->\n",
       "<g class=\"node\" id=\"node8\">\n",
       "<title>7</title>\n",
       "<text fill=\"#004080\" font-family=\"Courier,monospace\" font-size=\"14.00\" font-weight=\"bold\" text-anchor=\"start\" x=\"158\" y=\"-303.3\">arg</text>\n",
       "</g>\n",
       "<!-- 2&#45;&#45;7 -->\n",
       "<g class=\"edge\" id=\"edge7\">\n",
       "<title>2--7</title>\n",
       "<path d=\"M157,-360C157,-360 162.1987,-339.9478 166.2602,-324.2819\" fill=\"none\" stroke=\"#000000\"/>\n",
       "</g>\n",
       "<!-- 4 -->\n",
       "<g class=\"node\" id=\"node5\">\n",
       "<title>4</title>\n",
       "<text fill=\"#008040\" font-family=\"Courier,monospace\" font-size=\"14.00\" text-anchor=\"middle\" x=\"27\" y=\"-230.3\">&quot;x&quot;</text>\n",
       "</g>\n",
       "<!-- 3&#45;&#45;4 -->\n",
       "<g class=\"edge\" id=\"edge4\">\n",
       "<title>3--4</title>\n",
       "<path d=\"M27,-287.8314C27,-277 27,-263.2876 27,-252.4133\" fill=\"none\" stroke=\"#000000\"/>\n",
       "</g>\n",
       "<!-- 6 -->\n",
       "<g class=\"node\" id=\"node7\">\n",
       "<title>6</title>\n",
       "<text fill=\"#008040\" font-family=\"Courier,monospace\" font-size=\"14.00\" text-anchor=\"middle\" x=\"99\" y=\"-230.3\">&quot;y&quot;</text>\n",
       "</g>\n",
       "<!-- 5&#45;&#45;6 -->\n",
       "<g class=\"edge\" id=\"edge6\">\n",
       "<title>5--6</title>\n",
       "<path d=\"M99,-287.8314C99,-277 99,-263.2876 99,-252.4133\" fill=\"none\" stroke=\"#000000\"/>\n",
       "</g>\n",
       "<!-- 8 -->\n",
       "<g class=\"node\" id=\"node9\">\n",
       "<title>8</title>\n",
       "<text fill=\"#008040\" font-family=\"Courier,monospace\" font-size=\"14.00\" text-anchor=\"middle\" x=\"171\" y=\"-230.3\">&quot;z&quot;</text>\n",
       "</g>\n",
       "<!-- 7&#45;&#45;8 -->\n",
       "<g class=\"edge\" id=\"edge8\">\n",
       "<title>7--8</title>\n",
       "<path d=\"M171,-287.8314C171,-277 171,-263.2876 171,-252.4133\" fill=\"none\" stroke=\"#000000\"/>\n",
       "</g>\n",
       "<!-- 10 -->\n",
       "<g class=\"node\" id=\"node11\">\n",
       "<title>10</title>\n",
       "<text fill=\"#004080\" font-family=\"Courier,monospace\" font-size=\"14.00\" font-weight=\"bold\" text-anchor=\"start\" x=\"321.5\" y=\"-303.3\">Compare</text>\n",
       "</g>\n",
       "<!-- 9&#45;&#45;10 -->\n",
       "<g class=\"edge\" id=\"edge10\">\n",
       "<title>9--10</title>\n",
       "<path d=\"M490,-360C490,-360 429.7808,-336.6055 388.6154,-320.6132\" fill=\"none\" stroke=\"#000000\"/>\n",
       "</g>\n",
       "<!-- 18 -->\n",
       "<g class=\"node\" id=\"node19\">\n",
       "<title>18</title>\n",
       "<text fill=\"#004080\" font-family=\"Courier,monospace\" font-size=\"14.00\" font-weight=\"bold\" text-anchor=\"start\" x=\"594.5\" y=\"-303.3\">If</text>\n",
       "</g>\n",
       "<!-- 9&#45;&#45;18 -->\n",
       "<g class=\"edge\" id=\"edge18\">\n",
       "<title>9--18</title>\n",
       "<path d=\"M490,-360C490,-360 542.5036,-334.9098 575.9337,-318.9343\" fill=\"none\" stroke=\"#000000\"/>\n",
       "</g>\n",
       "<!-- 44 -->\n",
       "<g class=\"node\" id=\"node45\">\n",
       "<title>44</title>\n",
       "<text fill=\"#004080\" font-family=\"Courier,monospace\" font-size=\"14.00\" font-weight=\"bold\" text-anchor=\"start\" x=\"1314.5\" y=\"-303.3\">If</text>\n",
       "</g>\n",
       "<!-- 9&#45;&#45;44 -->\n",
       "<g class=\"edge\" id=\"edge44\">\n",
       "<title>9--44</title>\n",
       "<path d=\"M490,-360C490,-360 1152.1961,-317.0725 1295.7582,-307.766\" fill=\"none\" stroke=\"#000000\"/>\n",
       "</g>\n",
       "<!-- 11 -->\n",
       "<g class=\"node\" id=\"node12\">\n",
       "<title>11</title>\n",
       "<text fill=\"#004080\" font-family=\"Courier,monospace\" font-size=\"14.00\" font-weight=\"bold\" text-anchor=\"start\" x=\"226\" y=\"-231.3\">Name</text>\n",
       "</g>\n",
       "<!-- 10&#45;&#45;11 -->\n",
       "<g class=\"edge\" id=\"edge11\">\n",
       "<title>10--11</title>\n",
       "<path d=\"M345,-288C345,-288 300.2843,-264.327 270.0663,-248.3292\" fill=\"none\" stroke=\"#000000\"/>\n",
       "</g>\n",
       "<!-- 14 -->\n",
       "<g class=\"node\" id=\"node15\">\n",
       "<title>14</title>\n",
       "<text fill=\"#008040\" font-family=\"Courier,monospace\" font-size=\"14.00\" text-anchor=\"middle\" x=\"315\" y=\"-230.3\">Lt</text>\n",
       "</g>\n",
       "<!-- 10&#45;&#45;14 -->\n",
       "<g class=\"edge\" id=\"edge14\">\n",
       "<title>10--14</title>\n",
       "<path d=\"M345,-288C345,-288 333.8599,-267.9478 325.1566,-252.2819\" fill=\"none\" stroke=\"#000000\"/>\n",
       "</g>\n",
       "<!-- 15 -->\n",
       "<g class=\"node\" id=\"node16\">\n",
       "<title>15</title>\n",
       "<text fill=\"#004080\" font-family=\"Courier,monospace\" font-size=\"14.00\" font-weight=\"bold\" text-anchor=\"start\" x=\"370\" y=\"-231.3\">Name</text>\n",
       "</g>\n",
       "<!-- 10&#45;&#45;15 -->\n",
       "<g class=\"edge\" id=\"edge15\">\n",
       "<title>10--15</title>\n",
       "<path d=\"M345,-288C345,-288 360.5962,-267.9478 372.7807,-252.2819\" fill=\"none\" stroke=\"#000000\"/>\n",
       "</g>\n",
       "<!-- 12 -->\n",
       "<g class=\"node\" id=\"node13\">\n",
       "<title>12</title>\n",
       "<text fill=\"#008040\" font-family=\"Courier,monospace\" font-size=\"14.00\" text-anchor=\"middle\" x=\"171\" y=\"-158.3\">&quot;y&quot;</text>\n",
       "</g>\n",
       "<!-- 11&#45;&#45;12 -->\n",
       "<g class=\"edge\" id=\"edge12\">\n",
       "<title>11--12</title>\n",
       "<path d=\"M235,-216C235,-216 211.2344,-195.9478 192.6675,-180.2819\" fill=\"none\" stroke=\"#000000\"/>\n",
       "</g>\n",
       "<!-- 13 -->\n",
       "<g class=\"node\" id=\"node14\">\n",
       "<title>13</title>\n",
       "<text fill=\"#008040\" font-family=\"Courier,monospace\" font-size=\"14.00\" text-anchor=\"middle\" x=\"243\" y=\"-158.3\">Load</text>\n",
       "</g>\n",
       "<!-- 11&#45;&#45;13 -->\n",
       "<g class=\"edge\" id=\"edge13\">\n",
       "<title>11--13</title>\n",
       "<path d=\"M235,-216C235,-216 237.9707,-195.9478 240.2916,-180.2819\" fill=\"none\" stroke=\"#000000\"/>\n",
       "</g>\n",
       "<!-- 16 -->\n",
       "<g class=\"node\" id=\"node17\">\n",
       "<title>16</title>\n",
       "<text fill=\"#008040\" font-family=\"Courier,monospace\" font-size=\"14.00\" text-anchor=\"middle\" x=\"315\" y=\"-158.3\">&quot;z&quot;</text>\n",
       "</g>\n",
       "<!-- 15&#45;&#45;16 -->\n",
       "<g class=\"edge\" id=\"edge16\">\n",
       "<title>15--16</title>\n",
       "<path d=\"M379,-216C379,-216 355.2344,-195.9478 336.6675,-180.2819\" fill=\"none\" stroke=\"#000000\"/>\n",
       "</g>\n",
       "<!-- 17 -->\n",
       "<g class=\"node\" id=\"node18\">\n",
       "<title>17</title>\n",
       "<text fill=\"#008040\" font-family=\"Courier,monospace\" font-size=\"14.00\" text-anchor=\"middle\" x=\"387\" y=\"-158.3\">Load</text>\n",
       "</g>\n",
       "<!-- 15&#45;&#45;17 -->\n",
       "<g class=\"edge\" id=\"edge17\">\n",
       "<title>15--17</title>\n",
       "<path d=\"M379,-216C379,-216 381.9707,-195.9478 384.2916,-180.2819\" fill=\"none\" stroke=\"#000000\"/>\n",
       "</g>\n",
       "<!-- 19 -->\n",
       "<g class=\"node\" id=\"node20\">\n",
       "<title>19</title>\n",
       "<text fill=\"#004080\" font-family=\"Courier,monospace\" font-size=\"14.00\" font-weight=\"bold\" text-anchor=\"start\" x=\"515.5\" y=\"-231.3\">Compare</text>\n",
       "</g>\n",
       "<!-- 18&#45;&#45;19 -->\n",
       "<g class=\"edge\" id=\"edge19\">\n",
       "<title>18--19</title>\n",
       "<path d=\"M613,-288C613,-288 587.749,-267.9478 568.0217,-252.2819\" fill=\"none\" stroke=\"#000000\"/>\n",
       "</g>\n",
       "<!-- 27 -->\n",
       "<g class=\"node\" id=\"node28\">\n",
       "<title>27</title>\n",
       "<text fill=\"#004080\" font-family=\"Courier,monospace\" font-size=\"14.00\" font-weight=\"bold\" text-anchor=\"start\" x=\"635.5\" y=\"-231.3\">Return</text>\n",
       "</g>\n",
       "<!-- 18&#45;&#45;27 -->\n",
       "<g class=\"edge\" id=\"edge27\">\n",
       "<title>18--27</title>\n",
       "<path d=\"M613,-288C613,-288 630.8242,-267.9478 644.7494,-252.2819\" fill=\"none\" stroke=\"#000000\"/>\n",
       "</g>\n",
       "<!-- 31 -->\n",
       "<g class=\"node\" id=\"node32\">\n",
       "<title>31</title>\n",
       "<text fill=\"#004080\" font-family=\"Courier,monospace\" font-size=\"14.00\" font-weight=\"bold\" text-anchor=\"start\" x=\"882.5\" y=\"-231.3\">If</text>\n",
       "</g>\n",
       "<!-- 18&#45;&#45;31 -->\n",
       "<g class=\"edge\" id=\"edge31\">\n",
       "<title>18--31</title>\n",
       "<path d=\"M613,-288C613,-288 793.886,-252.8639 863.838,-239.2761\" fill=\"none\" stroke=\"#000000\"/>\n",
       "</g>\n",
       "<!-- 20 -->\n",
       "<g class=\"node\" id=\"node21\">\n",
       "<title>20</title>\n",
       "<text fill=\"#004080\" font-family=\"Courier,monospace\" font-size=\"14.00\" font-weight=\"bold\" text-anchor=\"start\" x=\"442\" y=\"-159.3\">Name</text>\n",
       "</g>\n",
       "<!-- 19&#45;&#45;20 -->\n",
       "<g class=\"edge\" id=\"edge20\">\n",
       "<title>19--20</title>\n",
       "<path d=\"M542,-216C542,-216 510.3836,-195.4303 486.1773,-179.6816\" fill=\"none\" stroke=\"#000000\"/>\n",
       "</g>\n",
       "<!-- 23 -->\n",
       "<g class=\"node\" id=\"node24\">\n",
       "<title>23</title>\n",
       "<text fill=\"#008040\" font-family=\"Courier,monospace\" font-size=\"14.00\" text-anchor=\"middle\" x=\"531\" y=\"-158.3\">Lt</text>\n",
       "</g>\n",
       "<!-- 19&#45;&#45;23 -->\n",
       "<g class=\"edge\" id=\"edge23\">\n",
       "<title>19--23</title>\n",
       "<path d=\"M542,-216C542,-216 537.9153,-195.9478 534.7241,-180.2819\" fill=\"none\" stroke=\"#000000\"/>\n",
       "</g>\n",
       "<!-- 24 -->\n",
       "<g class=\"node\" id=\"node25\">\n",
       "<title>24</title>\n",
       "<text fill=\"#004080\" font-family=\"Courier,monospace\" font-size=\"14.00\" font-weight=\"bold\" text-anchor=\"start\" x=\"586\" y=\"-159.3\">Name</text>\n",
       "</g>\n",
       "<!-- 19&#45;&#45;24 -->\n",
       "<g class=\"edge\" id=\"edge24\">\n",
       "<title>19--24</title>\n",
       "<path d=\"M542,-216C542,-216 564.6516,-195.9478 582.3482,-180.2819\" fill=\"none\" stroke=\"#000000\"/>\n",
       "</g>\n",
       "<!-- 21 -->\n",
       "<g class=\"node\" id=\"node22\">\n",
       "<title>21</title>\n",
       "<text fill=\"#008040\" font-family=\"Courier,monospace\" font-size=\"14.00\" text-anchor=\"middle\" x=\"387\" y=\"-86.3\">&quot;x&quot;</text>\n",
       "</g>\n",
       "<!-- 20&#45;&#45;21 -->\n",
       "<g class=\"edge\" id=\"edge21\">\n",
       "<title>20--21</title>\n",
       "<path d=\"M451,-144C451,-144 427.2344,-123.9478 408.6675,-108.2819\" fill=\"none\" stroke=\"#000000\"/>\n",
       "</g>\n",
       "<!-- 22 -->\n",
       "<g class=\"node\" id=\"node23\">\n",
       "<title>22</title>\n",
       "<text fill=\"#008040\" font-family=\"Courier,monospace\" font-size=\"14.00\" text-anchor=\"middle\" x=\"459\" y=\"-86.3\">Load</text>\n",
       "</g>\n",
       "<!-- 20&#45;&#45;22 -->\n",
       "<g class=\"edge\" id=\"edge22\">\n",
       "<title>20--22</title>\n",
       "<path d=\"M451,-144C451,-144 453.9707,-123.9478 456.2916,-108.2819\" fill=\"none\" stroke=\"#000000\"/>\n",
       "</g>\n",
       "<!-- 25 -->\n",
       "<g class=\"node\" id=\"node26\">\n",
       "<title>25</title>\n",
       "<text fill=\"#008040\" font-family=\"Courier,monospace\" font-size=\"14.00\" text-anchor=\"middle\" x=\"531\" y=\"-86.3\">&quot;y&quot;</text>\n",
       "</g>\n",
       "<!-- 24&#45;&#45;25 -->\n",
       "<g class=\"edge\" id=\"edge25\">\n",
       "<title>24--25</title>\n",
       "<path d=\"M595,-144C595,-144 571.2344,-123.9478 552.6675,-108.2819\" fill=\"none\" stroke=\"#000000\"/>\n",
       "</g>\n",
       "<!-- 26 -->\n",
       "<g class=\"node\" id=\"node27\">\n",
       "<title>26</title>\n",
       "<text fill=\"#008040\" font-family=\"Courier,monospace\" font-size=\"14.00\" text-anchor=\"middle\" x=\"603\" y=\"-86.3\">Load</text>\n",
       "</g>\n",
       "<!-- 24&#45;&#45;26 -->\n",
       "<g class=\"edge\" id=\"edge26\">\n",
       "<title>24--26</title>\n",
       "<path d=\"M595,-144C595,-144 597.9707,-123.9478 600.2916,-108.2819\" fill=\"none\" stroke=\"#000000\"/>\n",
       "</g>\n",
       "<!-- 28 -->\n",
       "<g class=\"node\" id=\"node29\">\n",
       "<title>28</title>\n",
       "<text fill=\"#004080\" font-family=\"Courier,monospace\" font-size=\"14.00\" font-weight=\"bold\" text-anchor=\"start\" x=\"658\" y=\"-159.3\">Name</text>\n",
       "</g>\n",
       "<!-- 27&#45;&#45;28 -->\n",
       "<g class=\"edge\" id=\"edge28\">\n",
       "<title>27--28</title>\n",
       "<path d=\"M664.5328,-215.8314C666.6389,-205 669.3052,-191.2876 671.4196,-180.4133\" fill=\"none\" stroke=\"#000000\"/>\n",
       "</g>\n",
       "<!-- 29 -->\n",
       "<g class=\"node\" id=\"node30\">\n",
       "<title>29</title>\n",
       "<text fill=\"#008040\" font-family=\"Courier,monospace\" font-size=\"14.00\" text-anchor=\"middle\" x=\"675\" y=\"-86.3\">&quot;y&quot;</text>\n",
       "</g>\n",
       "<!-- 28&#45;&#45;29 -->\n",
       "<g class=\"edge\" id=\"edge29\">\n",
       "<title>28--29</title>\n",
       "<path d=\"M683,-144C683,-144 680.0293,-123.9478 677.7084,-108.2819\" fill=\"none\" stroke=\"#000000\"/>\n",
       "</g>\n",
       "<!-- 30 -->\n",
       "<g class=\"node\" id=\"node31\">\n",
       "<title>30</title>\n",
       "<text fill=\"#008040\" font-family=\"Courier,monospace\" font-size=\"14.00\" text-anchor=\"middle\" x=\"747\" y=\"-86.3\">Load</text>\n",
       "</g>\n",
       "<!-- 28&#45;&#45;30 -->\n",
       "<g class=\"edge\" id=\"edge30\">\n",
       "<title>28--30</title>\n",
       "<path d=\"M683,-144C683,-144 706.7656,-123.9478 725.3325,-108.2819\" fill=\"none\" stroke=\"#000000\"/>\n",
       "</g>\n",
       "<!-- 32 -->\n",
       "<g class=\"node\" id=\"node33\">\n",
       "<title>32</title>\n",
       "<text fill=\"#004080\" font-family=\"Courier,monospace\" font-size=\"14.00\" font-weight=\"bold\" text-anchor=\"start\" x=\"861.5\" y=\"-159.3\">Compare</text>\n",
       "</g>\n",
       "<!-- 31&#45;&#45;32 -->\n",
       "<g class=\"edge\" id=\"edge32\">\n",
       "<title>31--32</title>\n",
       "<path d=\"M901,-216C901,-216 897.2866,-195.9478 894.3855,-180.2819\" fill=\"none\" stroke=\"#000000\"/>\n",
       "</g>\n",
       "<!-- 40 -->\n",
       "<g class=\"node\" id=\"node41\">\n",
       "<title>40</title>\n",
       "<text fill=\"#004080\" font-family=\"Courier,monospace\" font-size=\"14.00\" font-weight=\"bold\" text-anchor=\"start\" x=\"982.5\" y=\"-159.3\">Return</text>\n",
       "</g>\n",
       "<!-- 31&#45;&#45;40 -->\n",
       "<g class=\"edge\" id=\"edge40\">\n",
       "<title>31--40</title>\n",
       "<path d=\"M901,-216C901,-216 943.0585,-194.7742 974.4381,-178.9378\" fill=\"none\" stroke=\"#000000\"/>\n",
       "</g>\n",
       "<!-- 33 -->\n",
       "<g class=\"node\" id=\"node34\">\n",
       "<title>33</title>\n",
       "<text fill=\"#004080\" font-family=\"Courier,monospace\" font-size=\"14.00\" font-weight=\"bold\" text-anchor=\"start\" x=\"802\" y=\"-87.3\">Name</text>\n",
       "</g>\n",
       "<!-- 32&#45;&#45;33 -->\n",
       "<g class=\"edge\" id=\"edge33\">\n",
       "<title>32--33</title>\n",
       "<path d=\"M891,-144C891,-144 864.2637,-123.9478 843.3759,-108.2819\" fill=\"none\" stroke=\"#000000\"/>\n",
       "</g>\n",
       "<!-- 36 -->\n",
       "<g class=\"node\" id=\"node37\">\n",
       "<title>36</title>\n",
       "<text fill=\"#008040\" font-family=\"Courier,monospace\" font-size=\"14.00\" text-anchor=\"middle\" x=\"891\" y=\"-86.3\">Lt</text>\n",
       "</g>\n",
       "<!-- 32&#45;&#45;36 -->\n",
       "<g class=\"edge\" id=\"edge36\">\n",
       "<title>32--36</title>\n",
       "<path d=\"M891,-144C891,-144 891,-123.9478 891,-108.2819\" fill=\"none\" stroke=\"#000000\"/>\n",
       "</g>\n",
       "<!-- 37 -->\n",
       "<g class=\"node\" id=\"node38\">\n",
       "<title>37</title>\n",
       "<text fill=\"#004080\" font-family=\"Courier,monospace\" font-size=\"14.00\" font-weight=\"bold\" text-anchor=\"start\" x=\"946\" y=\"-87.3\">Name</text>\n",
       "</g>\n",
       "<!-- 32&#45;&#45;37 -->\n",
       "<g class=\"edge\" id=\"edge37\">\n",
       "<title>32--37</title>\n",
       "<path d=\"M891,-144C891,-144 917.7363,-123.9478 938.6241,-108.2819\" fill=\"none\" stroke=\"#000000\"/>\n",
       "</g>\n",
       "<!-- 34 -->\n",
       "<g class=\"node\" id=\"node35\">\n",
       "<title>34</title>\n",
       "<text fill=\"#008040\" font-family=\"Courier,monospace\" font-size=\"14.00\" text-anchor=\"middle\" x=\"747\" y=\"-14.3\">&quot;x&quot;</text>\n",
       "</g>\n",
       "<!-- 33&#45;&#45;34 -->\n",
       "<g class=\"edge\" id=\"edge34\">\n",
       "<title>33--34</title>\n",
       "<path d=\"M811,-72C811,-72 787.2344,-51.9478 768.6675,-36.2819\" fill=\"none\" stroke=\"#000000\"/>\n",
       "</g>\n",
       "<!-- 35 -->\n",
       "<g class=\"node\" id=\"node36\">\n",
       "<title>35</title>\n",
       "<text fill=\"#008040\" font-family=\"Courier,monospace\" font-size=\"14.00\" text-anchor=\"middle\" x=\"819\" y=\"-14.3\">Load</text>\n",
       "</g>\n",
       "<!-- 33&#45;&#45;35 -->\n",
       "<g class=\"edge\" id=\"edge35\">\n",
       "<title>33--35</title>\n",
       "<path d=\"M811,-72C811,-72 813.9707,-51.9478 816.2916,-36.2819\" fill=\"none\" stroke=\"#000000\"/>\n",
       "</g>\n",
       "<!-- 38 -->\n",
       "<g class=\"node\" id=\"node39\">\n",
       "<title>38</title>\n",
       "<text fill=\"#008040\" font-family=\"Courier,monospace\" font-size=\"14.00\" text-anchor=\"middle\" x=\"891\" y=\"-14.3\">&quot;z&quot;</text>\n",
       "</g>\n",
       "<!-- 37&#45;&#45;38 -->\n",
       "<g class=\"edge\" id=\"edge38\">\n",
       "<title>37--38</title>\n",
       "<path d=\"M955,-72C955,-72 931.2344,-51.9478 912.6675,-36.2819\" fill=\"none\" stroke=\"#000000\"/>\n",
       "</g>\n",
       "<!-- 39 -->\n",
       "<g class=\"node\" id=\"node40\">\n",
       "<title>39</title>\n",
       "<text fill=\"#008040\" font-family=\"Courier,monospace\" font-size=\"14.00\" text-anchor=\"middle\" x=\"963\" y=\"-14.3\">Load</text>\n",
       "</g>\n",
       "<!-- 37&#45;&#45;39 -->\n",
       "<g class=\"edge\" id=\"edge39\">\n",
       "<title>37--39</title>\n",
       "<path d=\"M955,-72C955,-72 957.9707,-51.9478 960.2916,-36.2819\" fill=\"none\" stroke=\"#000000\"/>\n",
       "</g>\n",
       "<!-- 41 -->\n",
       "<g class=\"node\" id=\"node42\">\n",
       "<title>41</title>\n",
       "<text fill=\"#004080\" font-family=\"Courier,monospace\" font-size=\"14.00\" font-weight=\"bold\" text-anchor=\"start\" x=\"1018\" y=\"-87.3\">Name</text>\n",
       "</g>\n",
       "<!-- 40&#45;&#45;41 -->\n",
       "<g class=\"edge\" id=\"edge41\">\n",
       "<title>40--41</title>\n",
       "<path d=\"M1014.8132,-143.8314C1018.875,-133 1024.0172,-119.2876 1028.095,-108.4133\" fill=\"none\" stroke=\"#000000\"/>\n",
       "</g>\n",
       "<!-- 42 -->\n",
       "<g class=\"node\" id=\"node43\">\n",
       "<title>42</title>\n",
       "<text fill=\"#008040\" font-family=\"Courier,monospace\" font-size=\"14.00\" text-anchor=\"middle\" x=\"1035\" y=\"-14.3\">&quot;y&quot;</text>\n",
       "</g>\n",
       "<!-- 41&#45;&#45;42 -->\n",
       "<g class=\"edge\" id=\"edge42\">\n",
       "<title>41--42</title>\n",
       "<path d=\"M1043,-72C1043,-72 1040.0293,-51.9478 1037.7084,-36.2819\" fill=\"none\" stroke=\"#000000\"/>\n",
       "</g>\n",
       "<!-- 43 -->\n",
       "<g class=\"node\" id=\"node44\">\n",
       "<title>43</title>\n",
       "<text fill=\"#008040\" font-family=\"Courier,monospace\" font-size=\"14.00\" text-anchor=\"middle\" x=\"1107\" y=\"-14.3\">Load</text>\n",
       "</g>\n",
       "<!-- 41&#45;&#45;43 -->\n",
       "<g class=\"edge\" id=\"edge43\">\n",
       "<title>41--43</title>\n",
       "<path d=\"M1043,-72C1043,-72 1066.7656,-51.9478 1085.3325,-36.2819\" fill=\"none\" stroke=\"#000000\"/>\n",
       "</g>\n",
       "<!-- 45 -->\n",
       "<g class=\"node\" id=\"node46\">\n",
       "<title>45</title>\n",
       "<text fill=\"#004080\" font-family=\"Courier,monospace\" font-size=\"14.00\" font-weight=\"bold\" text-anchor=\"start\" x=\"1235.5\" y=\"-231.3\">Compare</text>\n",
       "</g>\n",
       "<!-- 44&#45;&#45;45 -->\n",
       "<g class=\"edge\" id=\"edge45\">\n",
       "<title>44--45</title>\n",
       "<path d=\"M1332,-288C1332,-288 1307.1204,-267.9478 1287.6831,-252.2819\" fill=\"none\" stroke=\"#000000\"/>\n",
       "</g>\n",
       "<!-- 53 -->\n",
       "<g class=\"node\" id=\"node54\">\n",
       "<title>53</title>\n",
       "<text fill=\"#004080\" font-family=\"Courier,monospace\" font-size=\"14.00\" font-weight=\"bold\" text-anchor=\"start\" x=\"1355.5\" y=\"-231.3\">Return</text>\n",
       "</g>\n",
       "<!-- 44&#45;&#45;53 -->\n",
       "<g class=\"edge\" id=\"edge53\">\n",
       "<title>44--53</title>\n",
       "<path d=\"M1332,-288C1332,-288 1350.1956,-267.9478 1364.4108,-252.2819\" fill=\"none\" stroke=\"#000000\"/>\n",
       "</g>\n",
       "<!-- 57 -->\n",
       "<g class=\"node\" id=\"node58\">\n",
       "<title>57</title>\n",
       "<text fill=\"#004080\" font-family=\"Courier,monospace\" font-size=\"14.00\" font-weight=\"bold\" text-anchor=\"start\" x=\"1533.5\" y=\"-231.3\">If</text>\n",
       "</g>\n",
       "<!-- 44&#45;&#45;57 -->\n",
       "<g class=\"edge\" id=\"edge57\">\n",
       "<title>44--57</title>\n",
       "<path d=\"M1332,-288C1332,-288 1458.2584,-255.5335 1514.9761,-240.949\" fill=\"none\" stroke=\"#000000\"/>\n",
       "</g>\n",
       "<!-- 46 -->\n",
       "<g class=\"node\" id=\"node47\">\n",
       "<title>46</title>\n",
       "<text fill=\"#004080\" font-family=\"Courier,monospace\" font-size=\"14.00\" font-weight=\"bold\" text-anchor=\"start\" x=\"1162\" y=\"-159.3\">Name</text>\n",
       "</g>\n",
       "<!-- 45&#45;&#45;46 -->\n",
       "<g class=\"edge\" id=\"edge46\">\n",
       "<title>45--46</title>\n",
       "<path d=\"M1262,-216C1262,-216 1230.3836,-195.4303 1206.1773,-179.6816\" fill=\"none\" stroke=\"#000000\"/>\n",
       "</g>\n",
       "<!-- 49 -->\n",
       "<g class=\"node\" id=\"node50\">\n",
       "<title>49</title>\n",
       "<text fill=\"#008040\" font-family=\"Courier,monospace\" font-size=\"14.00\" text-anchor=\"middle\" x=\"1251\" y=\"-158.3\">Gt</text>\n",
       "</g>\n",
       "<!-- 45&#45;&#45;49 -->\n",
       "<g class=\"edge\" id=\"edge49\">\n",
       "<title>45--49</title>\n",
       "<path d=\"M1262,-216C1262,-216 1257.9153,-195.9478 1254.7241,-180.2819\" fill=\"none\" stroke=\"#000000\"/>\n",
       "</g>\n",
       "<!-- 50 -->\n",
       "<g class=\"node\" id=\"node51\">\n",
       "<title>50</title>\n",
       "<text fill=\"#004080\" font-family=\"Courier,monospace\" font-size=\"14.00\" font-weight=\"bold\" text-anchor=\"start\" x=\"1306\" y=\"-159.3\">Name</text>\n",
       "</g>\n",
       "<!-- 45&#45;&#45;50 -->\n",
       "<g class=\"edge\" id=\"edge50\">\n",
       "<title>45--50</title>\n",
       "<path d=\"M1262,-216C1262,-216 1284.6516,-195.9478 1302.3482,-180.2819\" fill=\"none\" stroke=\"#000000\"/>\n",
       "</g>\n",
       "<!-- 47 -->\n",
       "<g class=\"node\" id=\"node48\">\n",
       "<title>47</title>\n",
       "<text fill=\"#008040\" font-family=\"Courier,monospace\" font-size=\"14.00\" text-anchor=\"middle\" x=\"1107\" y=\"-86.3\">&quot;x&quot;</text>\n",
       "</g>\n",
       "<!-- 46&#45;&#45;47 -->\n",
       "<g class=\"edge\" id=\"edge47\">\n",
       "<title>46--47</title>\n",
       "<path d=\"M1171,-144C1171,-144 1147.2344,-123.9478 1128.6675,-108.2819\" fill=\"none\" stroke=\"#000000\"/>\n",
       "</g>\n",
       "<!-- 48 -->\n",
       "<g class=\"node\" id=\"node49\">\n",
       "<title>48</title>\n",
       "<text fill=\"#008040\" font-family=\"Courier,monospace\" font-size=\"14.00\" text-anchor=\"middle\" x=\"1179\" y=\"-86.3\">Load</text>\n",
       "</g>\n",
       "<!-- 46&#45;&#45;48 -->\n",
       "<g class=\"edge\" id=\"edge48\">\n",
       "<title>46--48</title>\n",
       "<path d=\"M1171,-144C1171,-144 1173.9707,-123.9478 1176.2916,-108.2819\" fill=\"none\" stroke=\"#000000\"/>\n",
       "</g>\n",
       "<!-- 51 -->\n",
       "<g class=\"node\" id=\"node52\">\n",
       "<title>51</title>\n",
       "<text fill=\"#008040\" font-family=\"Courier,monospace\" font-size=\"14.00\" text-anchor=\"middle\" x=\"1251\" y=\"-86.3\">&quot;y&quot;</text>\n",
       "</g>\n",
       "<!-- 50&#45;&#45;51 -->\n",
       "<g class=\"edge\" id=\"edge51\">\n",
       "<title>50--51</title>\n",
       "<path d=\"M1315,-144C1315,-144 1291.2344,-123.9478 1272.6675,-108.2819\" fill=\"none\" stroke=\"#000000\"/>\n",
       "</g>\n",
       "<!-- 52 -->\n",
       "<g class=\"node\" id=\"node53\">\n",
       "<title>52</title>\n",
       "<text fill=\"#008040\" font-family=\"Courier,monospace\" font-size=\"14.00\" text-anchor=\"middle\" x=\"1323\" y=\"-86.3\">Load</text>\n",
       "</g>\n",
       "<!-- 50&#45;&#45;52 -->\n",
       "<g class=\"edge\" id=\"edge52\">\n",
       "<title>50--52</title>\n",
       "<path d=\"M1315,-144C1315,-144 1317.9707,-123.9478 1320.2916,-108.2819\" fill=\"none\" stroke=\"#000000\"/>\n",
       "</g>\n",
       "<!-- 54 -->\n",
       "<g class=\"node\" id=\"node55\">\n",
       "<title>54</title>\n",
       "<text fill=\"#004080\" font-family=\"Courier,monospace\" font-size=\"14.00\" font-weight=\"bold\" text-anchor=\"start\" x=\"1378\" y=\"-159.3\">Name</text>\n",
       "</g>\n",
       "<!-- 53&#45;&#45;54 -->\n",
       "<g class=\"edge\" id=\"edge54\">\n",
       "<title>53--54</title>\n",
       "<path d=\"M1384.5328,-215.8314C1386.6389,-205 1389.3052,-191.2876 1391.4196,-180.4133\" fill=\"none\" stroke=\"#000000\"/>\n",
       "</g>\n",
       "<!-- 55 -->\n",
       "<g class=\"node\" id=\"node56\">\n",
       "<title>55</title>\n",
       "<text fill=\"#008040\" font-family=\"Courier,monospace\" font-size=\"14.00\" text-anchor=\"middle\" x=\"1395\" y=\"-86.3\">&quot;y&quot;</text>\n",
       "</g>\n",
       "<!-- 54&#45;&#45;55 -->\n",
       "<g class=\"edge\" id=\"edge55\">\n",
       "<title>54--55</title>\n",
       "<path d=\"M1403,-144C1403,-144 1400.0293,-123.9478 1397.7084,-108.2819\" fill=\"none\" stroke=\"#000000\"/>\n",
       "</g>\n",
       "<!-- 56 -->\n",
       "<g class=\"node\" id=\"node57\">\n",
       "<title>56</title>\n",
       "<text fill=\"#008040\" font-family=\"Courier,monospace\" font-size=\"14.00\" text-anchor=\"middle\" x=\"1467\" y=\"-86.3\">Load</text>\n",
       "</g>\n",
       "<!-- 54&#45;&#45;56 -->\n",
       "<g class=\"edge\" id=\"edge56\">\n",
       "<title>54--56</title>\n",
       "<path d=\"M1403,-144C1403,-144 1426.7656,-123.9478 1445.3325,-108.2819\" fill=\"none\" stroke=\"#000000\"/>\n",
       "</g>\n",
       "<!-- 58 -->\n",
       "<g class=\"node\" id=\"node59\">\n",
       "<title>58</title>\n",
       "<text fill=\"#004080\" font-family=\"Courier,monospace\" font-size=\"14.00\" font-weight=\"bold\" text-anchor=\"start\" x=\"1547.5\" y=\"-159.3\">Compare</text>\n",
       "</g>\n",
       "<!-- 57&#45;&#45;58 -->\n",
       "<g class=\"edge\" id=\"edge58\">\n",
       "<title>57--58</title>\n",
       "<path d=\"M1561,-216C1561,-216 1566.9414,-195.9478 1571.5831,-180.2819\" fill=\"none\" stroke=\"#000000\"/>\n",
       "</g>\n",
       "<!-- 66 -->\n",
       "<g class=\"node\" id=\"node67\">\n",
       "<title>66</title>\n",
       "<text fill=\"#004080\" font-family=\"Courier,monospace\" font-size=\"14.00\" font-weight=\"bold\" text-anchor=\"start\" x=\"1685.5\" y=\"-159.3\">Return</text>\n",
       "</g>\n",
       "<!-- 57&#45;&#45;66 -->\n",
       "<g class=\"edge\" id=\"edge66\">\n",
       "<title>57--66</title>\n",
       "<path d=\"M1561,-216C1561,-216 1633.1121,-190.0396 1677.3371,-174.1187\" fill=\"none\" stroke=\"#000000\"/>\n",
       "</g>\n",
       "<!-- 59 -->\n",
       "<g class=\"node\" id=\"node60\">\n",
       "<title>59</title>\n",
       "<text fill=\"#004080\" font-family=\"Courier,monospace\" font-size=\"14.00\" font-weight=\"bold\" text-anchor=\"start\" x=\"1522\" y=\"-87.3\">Name</text>\n",
       "</g>\n",
       "<!-- 58&#45;&#45;59 -->\n",
       "<g class=\"edge\" id=\"edge59\">\n",
       "<title>58--59</title>\n",
       "<path d=\"M1583,-144C1583,-144 1566.6611,-123.9478 1553.8964,-108.2819\" fill=\"none\" stroke=\"#000000\"/>\n",
       "</g>\n",
       "<!-- 62 -->\n",
       "<g class=\"node\" id=\"node63\">\n",
       "<title>62</title>\n",
       "<text fill=\"#008040\" font-family=\"Courier,monospace\" font-size=\"14.00\" text-anchor=\"middle\" x=\"1611\" y=\"-86.3\">Gt</text>\n",
       "</g>\n",
       "<!-- 58&#45;&#45;62 -->\n",
       "<g class=\"edge\" id=\"edge62\">\n",
       "<title>58--62</title>\n",
       "<path d=\"M1583,-144C1583,-144 1593.3975,-123.9478 1601.5205,-108.2819\" fill=\"none\" stroke=\"#000000\"/>\n",
       "</g>\n",
       "<!-- 63 -->\n",
       "<g class=\"node\" id=\"node64\">\n",
       "<title>63</title>\n",
       "<text fill=\"#004080\" font-family=\"Courier,monospace\" font-size=\"14.00\" font-weight=\"bold\" text-anchor=\"start\" x=\"1666\" y=\"-87.3\">Name</text>\n",
       "</g>\n",
       "<!-- 58&#45;&#45;63 -->\n",
       "<g class=\"edge\" id=\"edge63\">\n",
       "<title>58--63</title>\n",
       "<path d=\"M1583,-144C1583,-144 1626.3231,-120.6055 1655.9386,-104.6132\" fill=\"none\" stroke=\"#000000\"/>\n",
       "</g>\n",
       "<!-- 60 -->\n",
       "<g class=\"node\" id=\"node61\">\n",
       "<title>60</title>\n",
       "<text fill=\"#008040\" font-family=\"Courier,monospace\" font-size=\"14.00\" text-anchor=\"middle\" x=\"1467\" y=\"-14.3\">&quot;x&quot;</text>\n",
       "</g>\n",
       "<!-- 59&#45;&#45;60 -->\n",
       "<g class=\"edge\" id=\"edge60\">\n",
       "<title>59--60</title>\n",
       "<path d=\"M1531,-72C1531,-72 1507.2344,-51.9478 1488.6675,-36.2819\" fill=\"none\" stroke=\"#000000\"/>\n",
       "</g>\n",
       "<!-- 61 -->\n",
       "<g class=\"node\" id=\"node62\">\n",
       "<title>61</title>\n",
       "<text fill=\"#008040\" font-family=\"Courier,monospace\" font-size=\"14.00\" text-anchor=\"middle\" x=\"1539\" y=\"-14.3\">Load</text>\n",
       "</g>\n",
       "<!-- 59&#45;&#45;61 -->\n",
       "<g class=\"edge\" id=\"edge61\">\n",
       "<title>59--61</title>\n",
       "<path d=\"M1531,-72C1531,-72 1533.9707,-51.9478 1536.2916,-36.2819\" fill=\"none\" stroke=\"#000000\"/>\n",
       "</g>\n",
       "<!-- 64 -->\n",
       "<g class=\"node\" id=\"node65\">\n",
       "<title>64</title>\n",
       "<text fill=\"#008040\" font-family=\"Courier,monospace\" font-size=\"14.00\" text-anchor=\"middle\" x=\"1611\" y=\"-14.3\">&quot;z&quot;</text>\n",
       "</g>\n",
       "<!-- 63&#45;&#45;64 -->\n",
       "<g class=\"edge\" id=\"edge64\">\n",
       "<title>63--64</title>\n",
       "<path d=\"M1675,-72C1675,-72 1651.2344,-51.9478 1632.6675,-36.2819\" fill=\"none\" stroke=\"#000000\"/>\n",
       "</g>\n",
       "<!-- 65 -->\n",
       "<g class=\"node\" id=\"node66\">\n",
       "<title>65</title>\n",
       "<text fill=\"#008040\" font-family=\"Courier,monospace\" font-size=\"14.00\" text-anchor=\"middle\" x=\"1683\" y=\"-14.3\">Load</text>\n",
       "</g>\n",
       "<!-- 63&#45;&#45;65 -->\n",
       "<g class=\"edge\" id=\"edge65\">\n",
       "<title>63--65</title>\n",
       "<path d=\"M1675,-72C1675,-72 1677.9707,-51.9478 1680.2916,-36.2819\" fill=\"none\" stroke=\"#000000\"/>\n",
       "</g>\n",
       "<!-- 67 -->\n",
       "<g class=\"node\" id=\"node68\">\n",
       "<title>67</title>\n",
       "<text fill=\"#004080\" font-family=\"Courier,monospace\" font-size=\"14.00\" font-weight=\"bold\" text-anchor=\"start\" x=\"1738\" y=\"-87.3\">Name</text>\n",
       "</g>\n",
       "<!-- 66&#45;&#45;67 -->\n",
       "<g class=\"edge\" id=\"edge67\">\n",
       "<title>66--67</title>\n",
       "<path d=\"M1722.1031,-143.8314C1728.7222,-133 1737.102,-119.2876 1743.7474,-108.4133\" fill=\"none\" stroke=\"#000000\"/>\n",
       "</g>\n",
       "<!-- 68 -->\n",
       "<g class=\"node\" id=\"node69\">\n",
       "<title>68</title>\n",
       "<text fill=\"#008040\" font-family=\"Courier,monospace\" font-size=\"14.00\" text-anchor=\"middle\" x=\"1755\" y=\"-14.3\">&quot;x&quot;</text>\n",
       "</g>\n",
       "<!-- 67&#45;&#45;68 -->\n",
       "<g class=\"edge\" id=\"edge68\">\n",
       "<title>67--68</title>\n",
       "<path d=\"M1763,-72C1763,-72 1760.0293,-51.9478 1757.7084,-36.2819\" fill=\"none\" stroke=\"#000000\"/>\n",
       "</g>\n",
       "<!-- 69 -->\n",
       "<g class=\"node\" id=\"node70\">\n",
       "<title>69</title>\n",
       "<text fill=\"#008040\" font-family=\"Courier,monospace\" font-size=\"14.00\" text-anchor=\"middle\" x=\"1827\" y=\"-14.3\">Load</text>\n",
       "</g>\n",
       "<!-- 67&#45;&#45;69 -->\n",
       "<g class=\"edge\" id=\"edge69\">\n",
       "<title>67--69</title>\n",
       "<path d=\"M1763,-72C1763,-72 1786.7656,-51.9478 1805.3325,-36.2819\" fill=\"none\" stroke=\"#000000\"/>\n",
       "</g>\n",
       "<!-- 71 -->\n",
       "<g class=\"node\" id=\"node72\">\n",
       "<title>71</title>\n",
       "<text fill=\"#004080\" font-family=\"Courier,monospace\" font-size=\"14.00\" font-weight=\"bold\" text-anchor=\"start\" x=\"1597\" y=\"-303.3\">Name</text>\n",
       "</g>\n",
       "<!-- 70&#45;&#45;71 -->\n",
       "<g class=\"edge\" id=\"edge71\">\n",
       "<title>70--71</title>\n",
       "<path d=\"M1188.7514,-372.7057C1275.9118,-359.0334 1507.2536,-322.7445 1586.735,-310.2769\" fill=\"none\" stroke=\"#000000\"/>\n",
       "</g>\n",
       "<!-- 72 -->\n",
       "<g class=\"node\" id=\"node73\">\n",
       "<title>72</title>\n",
       "<text fill=\"#008040\" font-family=\"Courier,monospace\" font-size=\"14.00\" text-anchor=\"middle\" x=\"1614\" y=\"-230.3\">&quot;z&quot;</text>\n",
       "</g>\n",
       "<!-- 71&#45;&#45;72 -->\n",
       "<g class=\"edge\" id=\"edge72\">\n",
       "<title>71--72</title>\n",
       "<path d=\"M1622,-288C1622,-288 1619.0293,-267.9478 1616.7084,-252.2819\" fill=\"none\" stroke=\"#000000\"/>\n",
       "</g>\n",
       "<!-- 73 -->\n",
       "<g class=\"node\" id=\"node74\">\n",
       "<title>73</title>\n",
       "<text fill=\"#008040\" font-family=\"Courier,monospace\" font-size=\"14.00\" text-anchor=\"middle\" x=\"1686\" y=\"-230.3\">Load</text>\n",
       "</g>\n",
       "<!-- 71&#45;&#45;73 -->\n",
       "<g class=\"edge\" id=\"edge73\">\n",
       "<title>71--73</title>\n",
       "<path d=\"M1622,-288C1622,-288 1645.7656,-267.9478 1664.3325,-252.2819\" fill=\"none\" stroke=\"#000000\"/>\n",
       "</g>\n",
       "</g>\n",
       "</svg>"
      ],
      "text/plain": [
       "<IPython.core.display.SVG object>"
      ]
     },
     "metadata": {},
     "output_type": "display_data"
    }
   ],
   "source": [
    "show_ast(middle_tree())"
   ]
  },
  {
   "cell_type": "markdown",
   "metadata": {
    "slideshow": {
     "slide_type": "fragment"
    }
   },
   "source": [
    " You see that it consists of one function definition (`FunctionDef`) with three `arguments` and two statements – one `If` and one `Return`. Each `If` subtree has three branches – one for the condition (`test`), one for the body to be executed if the condition is true (`body`), and one for the `else` case (`orelse`). The `body` and `orelse` branches again are lists of statements."
   ]
  },
  {
   "cell_type": "markdown",
   "metadata": {
    "slideshow": {
     "slide_type": "fragment"
    }
   },
   "source": [
    "An AST can also be shown as text, which is more compact, yet reveals more information. `ast.dump()` gives not only the class names of elements, but also how they are constructed – actually, the whole expression can be used to construct an AST."
   ]
  },
  {
   "cell_type": "code",
   "execution_count": 37,
   "metadata": {
    "execution": {
     "iopub.execute_input": "2021-02-28T15:41:57.626824Z",
     "iopub.status.busy": "2021-02-28T15:41:57.626170Z",
     "iopub.status.idle": "2021-02-28T15:41:57.628475Z",
     "shell.execute_reply": "2021-02-28T15:41:57.629038Z"
    },
    "slideshow": {
     "slide_type": "subslide"
    }
   },
   "outputs": [
    {
     "name": "stdout",
     "output_type": "stream",
     "text": [
      "Module(body=[FunctionDef(name='middle', args=arguments(args=[arg(arg='x', annotation=None), arg(arg='y', annotation=None), arg(arg='z', annotation=None)], vararg=None, kwonlyargs=[], kw_defaults=[], kwarg=None, defaults=[]), body=[If(test=Compare(left=Name(id='y', ctx=Load()), ops=[Lt()], comparators=[Name(id='z', ctx=Load())]), body=[If(test=Compare(left=Name(id='x', ctx=Load()), ops=[Lt()], comparators=[Name(id='y', ctx=Load())]), body=[Return(value=Name(id='y', ctx=Load()))], orelse=[If(test=Compare(left=Name(id='x', ctx=Load()), ops=[Lt()], comparators=[Name(id='z', ctx=Load())]), body=[Return(value=Name(id='y', ctx=Load()))], orelse=[])])], orelse=[If(test=Compare(left=Name(id='x', ctx=Load()), ops=[Gt()], comparators=[Name(id='y', ctx=Load())]), body=[Return(value=Name(id='y', ctx=Load()))], orelse=[If(test=Compare(left=Name(id='x', ctx=Load()), ops=[Gt()], comparators=[Name(id='z', ctx=Load())]), body=[Return(value=Name(id='x', ctx=Load()))], orelse=[])])]), Return(value=Name(id='z', ctx=Load()))], decorator_list=[], returns=None)])\n"
     ]
    }
   ],
   "source": [
    "print(ast.dump(middle_tree()))"
   ]
  },
  {
   "cell_type": "markdown",
   "metadata": {
    "slideshow": {
     "slide_type": "fragment"
    }
   },
   "source": [
    "This is the path to the first `return` statement:"
   ]
  },
  {
   "cell_type": "code",
   "execution_count": 38,
   "metadata": {
    "execution": {
     "iopub.execute_input": "2021-02-28T15:41:57.635247Z",
     "iopub.status.busy": "2021-02-28T15:41:57.634602Z",
     "iopub.status.idle": "2021-02-28T15:41:57.637025Z",
     "shell.execute_reply": "2021-02-28T15:41:57.637596Z"
    },
    "slideshow": {
     "slide_type": "fragment"
    }
   },
   "outputs": [
    {
     "data": {
      "text/plain": [
       "\"Return(value=Name(id='y', ctx=Load()))\""
      ]
     },
     "execution_count": 1,
     "metadata": {},
     "output_type": "execute_result"
    }
   ],
   "source": [
    "ast.dump(middle_tree().body[0].body[0].body[0].body[0])"
   ]
  },
  {
   "cell_type": "markdown",
   "metadata": {
    "slideshow": {
     "slide_type": "subslide"
    }
   },
   "source": [
    "### Picking Statements"
   ]
  },
  {
   "cell_type": "markdown",
   "metadata": {
    "slideshow": {
     "slide_type": "fragment"
    }
   },
   "source": [
    "For our mutation operators, we want to use statements from the program itself. Hence, we need a means to find those very statements. The `StatementVisitor` class iterates through an AST, adding all statements to its `statements` list it finds in function definitions. To do so, it subclasses the Python `ast` `NodeVisitor` class, described in the [official Python `ast` reference](http://docs.python.org/3/library/ast)."
   ]
  },
  {
   "cell_type": "code",
   "execution_count": 39,
   "metadata": {
    "execution": {
     "iopub.execute_input": "2021-02-28T15:41:57.641040Z",
     "iopub.status.busy": "2021-02-28T15:41:57.640521Z",
     "iopub.status.idle": "2021-02-28T15:41:57.642280Z",
     "shell.execute_reply": "2021-02-28T15:41:57.643303Z"
    },
    "slideshow": {
     "slide_type": "skip"
    }
   },
   "outputs": [],
   "source": [
    "from ast import NodeVisitor"
   ]
  },
  {
   "cell_type": "code",
   "execution_count": 40,
   "metadata": {
    "execution": {
     "iopub.execute_input": "2021-02-28T15:41:57.652910Z",
     "iopub.status.busy": "2021-02-28T15:41:57.652273Z",
     "iopub.status.idle": "2021-02-28T15:41:57.654602Z",
     "shell.execute_reply": "2021-02-28T15:41:57.655194Z"
    },
    "slideshow": {
     "slide_type": "subslide"
    }
   },
   "outputs": [],
   "source": [
    "class StatementVisitor(NodeVisitor):\n",
    "    \"\"\"Visit all statements within function defs in an AST\"\"\"\n",
    "    def __init__(self):\n",
    "        self.statements = []\n",
    "        self.func_name = None\n",
    "        self.statements_seen = set()\n",
    "        super().__init__()\n",
    "\n",
    "    def add_statements(self, node, attr):\n",
    "        elems = getattr(node, attr, [])\n",
    "        if not isinstance(elems, list):\n",
    "            elems = [elems]\n",
    "\n",
    "        for elem in elems:\n",
    "            stmt = (elem, self.func_name)\n",
    "            if stmt in self.statements_seen:\n",
    "                continue\n",
    "\n",
    "            self.statements.append(stmt)\n",
    "            self.statements_seen.add(stmt)\n",
    "\n",
    "    def visit_node(self, node):\n",
    "        # Any node other than the ones listed below\n",
    "        self.add_statements(node, 'body')\n",
    "        self.add_statements(node, 'orelse')\n",
    "\n",
    "    def visit_Module(self, node):\n",
    "        # Module children are defs, classes and globals - don't add\n",
    "        super().generic_visit(node)\n",
    "\n",
    "    def visit_ClassDef(self, node):\n",
    "        # Class children are defs and globals - don't add\n",
    "        super().generic_visit(node)\n",
    "\n",
    "    def generic_visit(self, node):\n",
    "        self.visit_node(node)\n",
    "        super().generic_visit(node)\n",
    "\n",
    "    def visit_FunctionDef(self, node):\n",
    "        if self.func_name is None:\n",
    "            self.func_name = node.name\n",
    "\n",
    "        self.visit_node(node)\n",
    "        super().generic_visit(node)\n",
    "        self.func_name = None\n",
    "\n",
    "    def visit_AsyncFunctionDef(self, node):\n",
    "        return self.visit_FunctionDef(self, node)"
   ]
  },
  {
   "cell_type": "markdown",
   "metadata": {
    "slideshow": {
     "slide_type": "subslide"
    }
   },
   "source": [
    "The function `all_statements()` returns all statements in the given AST `tree`. If an `ast` class `tp` is given, it only returns instances of that class."
   ]
  },
  {
   "cell_type": "code",
   "execution_count": 41,
   "metadata": {
    "execution": {
     "iopub.execute_input": "2021-02-28T15:41:57.662561Z",
     "iopub.status.busy": "2021-02-28T15:41:57.661638Z",
     "iopub.status.idle": "2021-02-28T15:41:57.664255Z",
     "shell.execute_reply": "2021-02-28T15:41:57.665003Z"
    },
    "slideshow": {
     "slide_type": "fragment"
    }
   },
   "outputs": [],
   "source": [
    "def all_statements_and_functions(tree, tp=None):\n",
    "    visitor = StatementVisitor()\n",
    "    visitor.visit(tree)\n",
    "    statements = visitor.statements\n",
    "    if tp is not None:\n",
    "        statements = [s for s in statements if isinstance(s[0], tp)]\n",
    "\n",
    "    return statements"
   ]
  },
  {
   "cell_type": "code",
   "execution_count": 42,
   "metadata": {
    "execution": {
     "iopub.execute_input": "2021-02-28T15:41:57.669430Z",
     "iopub.status.busy": "2021-02-28T15:41:57.668840Z",
     "iopub.status.idle": "2021-02-28T15:41:57.671329Z",
     "shell.execute_reply": "2021-02-28T15:41:57.671903Z"
    },
    "slideshow": {
     "slide_type": "fragment"
    }
   },
   "outputs": [],
   "source": [
    "def all_statements(tree, tp=None):\n",
    "    return [stmt for stmt, func_name in all_statements_and_functions(tree, tp)]"
   ]
  },
  {
   "cell_type": "markdown",
   "metadata": {
    "slideshow": {
     "slide_type": "fragment"
    }
   },
   "source": [
    "Here are all the `return` statements in `middle()`:"
   ]
  },
  {
   "cell_type": "code",
   "execution_count": 43,
   "metadata": {
    "execution": {
     "iopub.execute_input": "2021-02-28T15:41:57.678462Z",
     "iopub.status.busy": "2021-02-28T15:41:57.677438Z",
     "iopub.status.idle": "2021-02-28T15:41:57.681654Z",
     "shell.execute_reply": "2021-02-28T15:41:57.682707Z"
    },
    "slideshow": {
     "slide_type": "subslide"
    }
   },
   "outputs": [
    {
     "data": {
      "text/plain": [
       "[<_ast.Return at 0x7ff920c72278>,\n",
       " <_ast.Return at 0x7ff920af4320>,\n",
       " <_ast.Return at 0x7ff920aeff28>,\n",
       " <_ast.Return at 0x7ff91e8c19e8>,\n",
       " <_ast.Return at 0x7ff920c722e8>]"
      ]
     },
     "execution_count": 1,
     "metadata": {},
     "output_type": "execute_result"
    }
   ],
   "source": [
    "all_statements(middle_tree(), ast.Return)"
   ]
  },
  {
   "cell_type": "code",
   "execution_count": 44,
   "metadata": {
    "execution": {
     "iopub.execute_input": "2021-02-28T15:41:57.688846Z",
     "iopub.status.busy": "2021-02-28T15:41:57.686837Z",
     "iopub.status.idle": "2021-02-28T15:41:57.691642Z",
     "shell.execute_reply": "2021-02-28T15:41:57.692195Z"
    },
    "slideshow": {
     "slide_type": "fragment"
    }
   },
   "outputs": [
    {
     "data": {
      "text/plain": [
       "[(<_ast.If at 0x7ff91e8dba90>, 'middle'),\n",
       " (<_ast.If at 0x7ff91ec62e10>, 'middle'),\n",
       " (<_ast.If at 0x7ff920c72240>, 'middle'),\n",
       " (<_ast.If at 0x7ff91ec62860>, 'middle'),\n",
       " (<_ast.If at 0x7ff920c72358>, 'middle')]"
      ]
     },
     "execution_count": 1,
     "metadata": {},
     "output_type": "execute_result"
    }
   ],
   "source": [
    "all_statements_and_functions(middle_tree(), ast.If)"
   ]
  },
  {
   "cell_type": "markdown",
   "metadata": {
    "slideshow": {
     "slide_type": "fragment"
    }
   },
   "source": [
    "We can randomly pick an element:"
   ]
  },
  {
   "cell_type": "code",
   "execution_count": 45,
   "metadata": {
    "execution": {
     "iopub.execute_input": "2021-02-28T15:41:57.695878Z",
     "iopub.status.busy": "2021-02-28T15:41:57.695283Z",
     "iopub.status.idle": "2021-02-28T15:41:57.698299Z",
     "shell.execute_reply": "2021-02-28T15:41:57.699126Z"
    },
    "slideshow": {
     "slide_type": "skip"
    }
   },
   "outputs": [],
   "source": [
    "import random"
   ]
  },
  {
   "cell_type": "code",
   "execution_count": 46,
   "metadata": {
    "execution": {
     "iopub.execute_input": "2021-02-28T15:41:57.704677Z",
     "iopub.status.busy": "2021-02-28T15:41:57.703919Z",
     "iopub.status.idle": "2021-02-28T15:41:57.707202Z",
     "shell.execute_reply": "2021-02-28T15:41:57.707795Z"
    },
    "slideshow": {
     "slide_type": "subslide"
    }
   },
   "outputs": [
    {
     "data": {
      "text/plain": [
       "'return y\\n'"
      ]
     },
     "execution_count": 1,
     "metadata": {},
     "output_type": "execute_result"
    }
   ],
   "source": [
    "random_node = random.choice(all_statements(middle_tree()))\n",
    "astor.to_source(random_node)"
   ]
  },
  {
   "cell_type": "markdown",
   "metadata": {
    "slideshow": {
     "slide_type": "subslide"
    }
   },
   "source": [
    "### Mutating Statements\n",
    "\n",
    "The main part in mutation, however, is to actually mutate the code of the program under test. To this end, we introduce a `StatementMutator` class – a subclass of `NodeTransformer`, described in the [official Python `ast` reference](http://docs.python.org/3/library/ast)."
   ]
  },
  {
   "cell_type": "markdown",
   "metadata": {
    "slideshow": {
     "slide_type": "fragment"
    }
   },
   "source": [
    "The constructor provides various keyword arguments to configure the mutator."
   ]
  },
  {
   "cell_type": "code",
   "execution_count": 47,
   "metadata": {
    "execution": {
     "iopub.execute_input": "2021-02-28T15:41:57.711809Z",
     "iopub.status.busy": "2021-02-28T15:41:57.711153Z",
     "iopub.status.idle": "2021-02-28T15:41:57.713154Z",
     "shell.execute_reply": "2021-02-28T15:41:57.713722Z"
    },
    "slideshow": {
     "slide_type": "skip"
    }
   },
   "outputs": [],
   "source": [
    "from ast import NodeTransformer"
   ]
  },
  {
   "cell_type": "code",
   "execution_count": 48,
   "metadata": {
    "execution": {
     "iopub.execute_input": "2021-02-28T15:41:57.717196Z",
     "iopub.status.busy": "2021-02-28T15:41:57.716630Z",
     "iopub.status.idle": "2021-02-28T15:41:57.718459Z",
     "shell.execute_reply": "2021-02-28T15:41:57.718897Z"
    },
    "slideshow": {
     "slide_type": "skip"
    }
   },
   "outputs": [],
   "source": [
    "import copy"
   ]
  },
  {
   "cell_type": "code",
   "execution_count": 49,
   "metadata": {
    "execution": {
     "iopub.execute_input": "2021-02-28T15:41:57.725175Z",
     "iopub.status.busy": "2021-02-28T15:41:57.724587Z",
     "iopub.status.idle": "2021-02-28T15:41:57.726902Z",
     "shell.execute_reply": "2021-02-28T15:41:57.727295Z"
    },
    "slideshow": {
     "slide_type": "subslide"
    }
   },
   "outputs": [],
   "source": [
    "class StatementMutator(NodeTransformer):\n",
    "    \"\"\"Mutate statements in an AST for automated repair.\"\"\"\n",
    "\n",
    "    def __init__(self, suspiciousness_func=None, source=None, log=False):\n",
    "        \"\"\"Constructor.\n",
    "`suspiciousness_func` is a function that takes a location\n",
    "  (function, line_number) and returns a suspiciousness value\n",
    "  between 0 and 1.0. If not given, all locations get the\n",
    "  same suspiciousness of 1.0.\n",
    "`source` is a list of statements to choose from.\"\"\"\n",
    "\n",
    "        super().__init__()\n",
    "        self.log = log\n",
    "\n",
    "        if suspiciousness_func is None:\n",
    "            def suspiciousness_func(location):\n",
    "                return 1.0\n",
    "\n",
    "        self.suspiciousness_func = suspiciousness_func\n",
    "\n",
    "        if source is None:\n",
    "            source = []\n",
    "        self.source = source\n",
    "\n",
    "        if self.log > 1:\n",
    "            for i, node in enumerate(self.source):\n",
    "                print(f\"Source for repairs #{i}:\")\n",
    "                print_content(astor.to_source(node), '.py')\n",
    "                print()\n",
    "                print()\n",
    "\n",
    "        self.mutations = 0"
   ]
  },
  {
   "cell_type": "markdown",
   "metadata": {
    "slideshow": {
     "slide_type": "subslide"
    }
   },
   "source": [
    "#### Choosing Suspicious Statements to Mutate\n",
    "\n",
    "We start with deciding which AST nodes to mutate. The method `node_suspiciousness()` returns the suspiciousness for a given node, by invoking the suspiciousness function `suspiciousness_func` given during initialization."
   ]
  },
  {
   "cell_type": "code",
   "execution_count": 50,
   "metadata": {
    "execution": {
     "iopub.execute_input": "2021-02-28T15:41:57.730627Z",
     "iopub.status.busy": "2021-02-28T15:41:57.729979Z",
     "iopub.status.idle": "2021-02-28T15:41:57.731654Z",
     "shell.execute_reply": "2021-02-28T15:41:57.732045Z"
    },
    "slideshow": {
     "slide_type": "skip"
    }
   },
   "outputs": [],
   "source": [
    "import warnings"
   ]
  },
  {
   "cell_type": "code",
   "execution_count": 51,
   "metadata": {
    "execution": {
     "iopub.execute_input": "2021-02-28T15:41:57.736957Z",
     "iopub.status.busy": "2021-02-28T15:41:57.736310Z",
     "iopub.status.idle": "2021-02-28T15:41:57.738373Z",
     "shell.execute_reply": "2021-02-28T15:41:57.738777Z"
    },
    "slideshow": {
     "slide_type": "subslide"
    }
   },
   "outputs": [],
   "source": [
    "class StatementMutator(StatementMutator):\n",
    "    def node_suspiciousness(self, stmt, func_name):\n",
    "        if not hasattr(stmt, 'lineno'):\n",
    "            warnings.warn(f\"{self.format_node(stmt)}: Expected line number\")\n",
    "            return 0.0\n",
    "\n",
    "        suspiciousness = self.suspiciousness_func((func_name, stmt.lineno))\n",
    "        if suspiciousness is None:  # not executed\n",
    "            return 0.0\n",
    "\n",
    "        return suspiciousness"
   ]
  },
  {
   "cell_type": "markdown",
   "metadata": {
    "slideshow": {
     "slide_type": "fragment"
    }
   },
   "source": [
    "The method `node_to_be_mutated()` picks a node (statement) to be mutated. It determines the suspiciousness of all statements, and invokes `random.choices()`, using the suspiciousness as weight. Unsuspicious statements (with zero weight) will not be chosen."
   ]
  },
  {
   "cell_type": "code",
   "execution_count": 52,
   "metadata": {
    "execution": {
     "iopub.execute_input": "2021-02-28T15:41:57.745451Z",
     "iopub.status.busy": "2021-02-28T15:41:57.744685Z",
     "iopub.status.idle": "2021-02-28T15:41:57.746476Z",
     "shell.execute_reply": "2021-02-28T15:41:57.746950Z"
    },
    "slideshow": {
     "slide_type": "subslide"
    }
   },
   "outputs": [],
   "source": [
    "class StatementMutator(StatementMutator):\n",
    "    def node_to_be_mutated(self, tree):\n",
    "        statements = all_statements_and_functions(tree)\n",
    "        assert len(statements) > 0, \"No statements\"\n",
    "\n",
    "        weights = [self.node_suspiciousness(stmt, func_name) \n",
    "                   for stmt, func_name in statements]\n",
    "        stmts = [stmt for stmt, func_name in statements]\n",
    "\n",
    "        if self.log > 1:\n",
    "            print(\"Weights:\")\n",
    "            for i, stmt in enumerate(statements):\n",
    "                node, func_name = stmt\n",
    "                print(f\"{weights[i]:.2} {self.format_node(node)}\")\n",
    "\n",
    "        if sum(weights) == 0.0:\n",
    "            # No suspicious line\n",
    "            return random.choice(stmts)\n",
    "        else:\n",
    "            return random.choices(stmts, weights=weights)[0]"
   ]
  },
  {
   "cell_type": "markdown",
   "metadata": {
    "slideshow": {
     "slide_type": "subslide"
    }
   },
   "source": [
    "#### Choosing a Mutation Method"
   ]
  },
  {
   "cell_type": "markdown",
   "metadata": {
    "slideshow": {
     "slide_type": "fragment"
    }
   },
   "source": [
    "The method `visit()` is invoked on all nodes. For nodes marked with a `mutate_me` attribute, it randomly chooses a mutation method (`choose_op()`) and then invokes it on the node.\n",
    "\n",
    "According to the rules of `NodeTransformer`, the mutation method can return\n",
    "\n",
    "* a new node or a list of nodes, replacing the current node;\n",
    "* `None`, deleting it; or\n",
    "* the node itself, keeping things as they are."
   ]
  },
  {
   "cell_type": "code",
   "execution_count": 53,
   "metadata": {
    "execution": {
     "iopub.execute_input": "2021-02-28T15:41:57.750265Z",
     "iopub.status.busy": "2021-02-28T15:41:57.749749Z",
     "iopub.status.idle": "2021-02-28T15:41:57.751988Z",
     "shell.execute_reply": "2021-02-28T15:41:57.751589Z"
    },
    "slideshow": {
     "slide_type": "skip"
    }
   },
   "outputs": [],
   "source": [
    "import re"
   ]
  },
  {
   "cell_type": "code",
   "execution_count": 54,
   "metadata": {
    "execution": {
     "iopub.execute_input": "2021-02-28T15:41:57.755226Z",
     "iopub.status.busy": "2021-02-28T15:41:57.754709Z",
     "iopub.status.idle": "2021-02-28T15:41:57.756447Z",
     "shell.execute_reply": "2021-02-28T15:41:57.756814Z"
    },
    "slideshow": {
     "slide_type": "fragment"
    }
   },
   "outputs": [],
   "source": [
    "RE_SPACE = re.compile(r'[ \\t\\n]+')"
   ]
  },
  {
   "cell_type": "code",
   "execution_count": 55,
   "metadata": {
    "execution": {
     "iopub.execute_input": "2021-02-28T15:41:57.761840Z",
     "iopub.status.busy": "2021-02-28T15:41:57.761168Z",
     "iopub.status.idle": "2021-02-28T15:41:57.762958Z",
     "shell.execute_reply": "2021-02-28T15:41:57.763366Z"
    },
    "slideshow": {
     "slide_type": "subslide"
    }
   },
   "outputs": [],
   "source": [
    "class StatementMutator(StatementMutator):\n",
    "    def choose_op(self):\n",
    "        return random.choice([self.insert, self.swap, self.delete])\n",
    "\n",
    "    def visit(self, node):\n",
    "        super().visit(node)  # Visits (and transforms?) children\n",
    "\n",
    "        if not node.mutate_me:\n",
    "            return node\n",
    "\n",
    "        op = self.choose_op()\n",
    "        new_node = op(node)\n",
    "        self.mutations += 1\n",
    "\n",
    "        if self.log:\n",
    "            print(f\"{node.lineno:4}:{op.__name__ + ':':7} \"\n",
    "                  f\"{self.format_node(node)} \"\n",
    "                  f\"becomes {self.format_node(new_node)}\")\n",
    "\n",
    "        return new_node"
   ]
  },
  {
   "cell_type": "markdown",
   "metadata": {
    "slideshow": {
     "slide_type": "subslide"
    }
   },
   "source": [
    "#### Swapping Statements\n",
    "\n",
    "Our first mutator is `swap()`, which replaces the current node NODE by a random node found in `source` (using a newly defined `choose_statement()`).\n",
    "\n",
    "As a rule of thumb, we try to avoid inserting entire subtrees with all attached statements; and try to respect only the first line of a node. If the new node has the form \n",
    "\n",
    "```python\n",
    "if P:\n",
    "    BODY\n",
    "```\n",
    "\n",
    "we thus only insert \n",
    "\n",
    "```python\n",
    "if P: \n",
    "    pass\n",
    "```\n",
    "\n",
    "since the statements in BODY have a later chance to get inserted. The same holds for all constructs that have a BODY, i.e. `while`, `for`, `try`, `with`, and more."
   ]
  },
  {
   "cell_type": "code",
   "execution_count": 56,
   "metadata": {
    "execution": {
     "iopub.execute_input": "2021-02-28T15:41:57.766890Z",
     "iopub.status.busy": "2021-02-28T15:41:57.766299Z",
     "iopub.status.idle": "2021-02-28T15:41:57.767718Z",
     "shell.execute_reply": "2021-02-28T15:41:57.768237Z"
    },
    "slideshow": {
     "slide_type": "subslide"
    }
   },
   "outputs": [],
   "source": [
    "class StatementMutator(StatementMutator):\n",
    "    def choose_statement(self):\n",
    "        return copy.deepcopy(random.choice(self.source))"
   ]
  },
  {
   "cell_type": "code",
   "execution_count": 57,
   "metadata": {
    "execution": {
     "iopub.execute_input": "2021-02-28T15:41:57.773065Z",
     "iopub.status.busy": "2021-02-28T15:41:57.772527Z",
     "iopub.status.idle": "2021-02-28T15:41:57.774110Z",
     "shell.execute_reply": "2021-02-28T15:41:57.774478Z"
    },
    "slideshow": {
     "slide_type": "subslide"
    }
   },
   "outputs": [],
   "source": [
    "class StatementMutator(StatementMutator):\n",
    "    def swap(self, node):\n",
    "        \"\"\"Replace `node` with a random node from `source`\"\"\"\n",
    "        new_node = self.choose_statement()\n",
    "\n",
    "        if isinstance(new_node, ast.stmt):\n",
    "            # The source `if P: X` is added as `if P: pass`\n",
    "            if hasattr(new_node, 'body'):\n",
    "                new_node.body = [ast.Pass()]\n",
    "            if hasattr(new_node, 'orelse'):\n",
    "                new_node.orelse = []\n",
    "            if hasattr(new_node, 'finalbody'):\n",
    "                new_node.finalbody = []\n",
    "\n",
    "        # ast.copy_location(new_node, node)\n",
    "        return new_node"
   ]
  },
  {
   "cell_type": "markdown",
   "metadata": {
    "slideshow": {
     "slide_type": "subslide"
    }
   },
   "source": [
    "#### Inserting Statements\n",
    "\n",
    "Our next mutator is `insert()`, which randomly chooses some node from `source` and inserts it after the current node NODE. (If NODE is a `return` statement, then we insert the new node _before_ NODE.)\n",
    "\n",
    "If the statement to be inserted has the form\n",
    "\n",
    "```python\n",
    "if P:\n",
    "    BODY\n",
    "```\n",
    "\n",
    "we only insert the \"header\" of the `if`, resulting in\n",
    "\n",
    "```python\n",
    "if P: \n",
    "    NODE\n",
    "```\n",
    "\n",
    "Again, this applies to all constructs that have a BODY, i.e. `while`, `for`, `try`, `with`, and more."
   ]
  },
  {
   "cell_type": "code",
   "execution_count": 58,
   "metadata": {
    "execution": {
     "iopub.execute_input": "2021-02-28T15:41:57.779481Z",
     "iopub.status.busy": "2021-02-28T15:41:57.778954Z",
     "iopub.status.idle": "2021-02-28T15:41:57.780581Z",
     "shell.execute_reply": "2021-02-28T15:41:57.780950Z"
    },
    "slideshow": {
     "slide_type": "subslide"
    }
   },
   "outputs": [],
   "source": [
    "class StatementMutator(StatementMutator):\n",
    "    def insert(self, node):\n",
    "        \"\"\"Insert a random node from `source` after `node`\"\"\"\n",
    "        new_node = self.choose_statement()\n",
    "\n",
    "        if isinstance(new_node, ast.stmt) and hasattr(new_node, 'body'):\n",
    "            # Inserting `if P: X` as `if P:`\n",
    "            new_node.body = [node]\n",
    "            if hasattr(new_node, 'orelse'):\n",
    "                new_node.orelse = []\n",
    "            if hasattr(new_node, 'finalbody'):\n",
    "                new_node.finalbody = []\n",
    "            # ast.copy_location(new_node, node)\n",
    "            return new_node\n",
    "\n",
    "        # Only insert before `return`, not after it\n",
    "        if isinstance(node, ast.Return):\n",
    "            if isinstance(new_node, ast.Return):\n",
    "                return new_node\n",
    "            else:\n",
    "                return [new_node, node]\n",
    "\n",
    "        return [node, new_node]"
   ]
  },
  {
   "cell_type": "markdown",
   "metadata": {
    "slideshow": {
     "slide_type": "subslide"
    }
   },
   "source": [
    "#### Deleting Statements\n",
    "\n",
    "Our last mutator is `delete()`, which deletes the current node NODE. The standard case is to replace NODE by a `pass` statement.\n",
    "\n",
    "If the statement to be deleted has the form\n",
    "\n",
    "```python\n",
    "if P:\n",
    "    BODY\n",
    "```\n",
    "\n",
    "we only delete the \"header\" of the `if`, resulting in\n",
    "\n",
    "```python\n",
    "BODY\n",
    "```\n",
    "\n",
    "Again, this applies to all constructs that have a BODY, i.e. `while`, `for`, `try`, `with`, and more; it also selects a random branch, including `else` branches."
   ]
  },
  {
   "cell_type": "code",
   "execution_count": 59,
   "metadata": {
    "execution": {
     "iopub.execute_input": "2021-02-28T15:41:57.785847Z",
     "iopub.status.busy": "2021-02-28T15:41:57.785307Z",
     "iopub.status.idle": "2021-02-28T15:41:57.786975Z",
     "shell.execute_reply": "2021-02-28T15:41:57.787418Z"
    },
    "slideshow": {
     "slide_type": "subslide"
    }
   },
   "outputs": [],
   "source": [
    "class StatementMutator(StatementMutator):\n",
    "    def delete(self, node):\n",
    "        \"\"\"Delete `node`.\"\"\"\n",
    "\n",
    "        branches = [attr for attr in ['body', 'orelse', 'finalbody']\n",
    "                    if hasattr(node, attr) and getattr(node, attr)]\n",
    "        if branches:\n",
    "            # Replace `if P: S` by `S`\n",
    "            branch = random.choice(branches)\n",
    "            new_node = getattr(node, branch)\n",
    "            return new_node\n",
    "\n",
    "        if isinstance(node, ast.stmt):\n",
    "            # Avoid empty bodies; make this a `pass` statement\n",
    "            new_node = ast.Pass()\n",
    "            ast.copy_location(new_node, node)\n",
    "            return new_node\n",
    "\n",
    "        return None  # Just delete"
   ]
  },
  {
   "cell_type": "code",
   "execution_count": 60,
   "metadata": {
    "execution": {
     "iopub.execute_input": "2021-02-28T15:41:57.790360Z",
     "iopub.status.busy": "2021-02-28T15:41:57.789844Z",
     "iopub.status.idle": "2021-02-28T15:41:57.791380Z",
     "shell.execute_reply": "2021-02-28T15:41:57.791749Z"
    },
    "slideshow": {
     "slide_type": "skip"
    }
   },
   "outputs": [],
   "source": [
    "from bookutils import quiz"
   ]
  },
  {
   "cell_type": "code",
   "execution_count": 61,
   "metadata": {
    "execution": {
     "iopub.execute_input": "2021-02-28T15:41:57.794845Z",
     "iopub.status.busy": "2021-02-28T15:41:57.794334Z",
     "iopub.status.idle": "2021-02-28T15:41:57.813841Z",
     "shell.execute_reply": "2021-02-28T15:41:57.814287Z"
    },
    "slideshow": {
     "slide_type": "subslide"
    }
   },
   "outputs": [
    {
     "data": {
      "text/html": [
       "\n",
       "    \n",
       "    <script>\n",
       "    var bad_answers = new Map();\n",
       "\n",
       "    function answer(quiz_id) {\n",
       "        ans = 0;\n",
       "        for (i = 1;; i++) {\n",
       "            checkbox = document.getElementById(quiz_id + \"-\" + i.toString());\n",
       "            if (!checkbox)\n",
       "                break;\n",
       "            if (checkbox.checked)\n",
       "                ans |= (1 << i);\n",
       "        }\n",
       "        return ans;\n",
       "    }\n",
       "    function check_selection(quiz_id, correct_answer, multiple_choice, hint) {\n",
       "        given_answer = answer(quiz_id);\n",
       "        if (given_answer == correct_answer)\n",
       "        {\n",
       "            document.getElementById(quiz_id + \"-submit\").value = \"Correct!\";\n",
       "            document.getElementById(quiz_id + \"-hint\").innerHTML = \"\";\n",
       "\n",
       "            for (i = 1;; i++) {\n",
       "                checkbox = document.getElementById(quiz_id + \"-\" + i.toString());\n",
       "                label = document.getElementById(quiz_id + \"-\" + i.toString() + \"-label\")\n",
       "                if (!checkbox)\n",
       "                    break;\n",
       "    \n",
       "                if (checkbox.checked) {\n",
       "                    label.style.fontWeight = \"bold\";\n",
       "                }\n",
       "                else {\n",
       "                    label.style.textDecoration = \"line-through\";\n",
       "                }\n",
       "            }\n",
       "        }\n",
       "        else \n",
       "        {\n",
       "            document.getElementById(quiz_id + \"-submit\").value = \"Try again\";\n",
       "            \n",
       "            if (!bad_answers.has(quiz_id)) {\n",
       "                bad_answers.set(quiz_id, 1);\n",
       "            }\n",
       "            else {\n",
       "                bad_answers.set(quiz_id, bad_answers.get(quiz_id) + 1);\n",
       "            }\n",
       "\n",
       "            if (bad_answers.get(quiz_id) >= 2 && hint.length > 0) {\n",
       "                document.getElementById(quiz_id + \"-hint\").innerHTML = \n",
       "                    \"&nbsp;&nbsp;(Hint: <code>\" + hint + \"</code>)\";\n",
       "            }\n",
       "\n",
       "            if (!multiple_choice) {\n",
       "                for (i = 1;; i++) {\n",
       "                    checkbox = document.getElementById(quiz_id + \"-\" + i.toString());\n",
       "                    label = document.getElementById(quiz_id + \"-\" + i.toString() + \"-label\")\n",
       "\n",
       "                    if (!checkbox)\n",
       "                        break;\n",
       "                    if (checkbox.checked) {\n",
       "                        label.style.textDecoration = \"line-through\";\n",
       "                    }\n",
       "                }\n",
       "            }\n",
       "        }\n",
       "    }\n",
       "    function clear_selection(quiz_id) {\n",
       "        document.getElementById(quiz_id + \"-submit\").value = \"Submit\";\n",
       "        document.getElementById(quiz_id + \"-hint\").innerHTML = \"\";\n",
       "    }\n",
       "    </script>\n",
       "    \n",
       "    <div class=\"quiz\">\n",
       "    <h3 class=\"quiz_title\">Quiz</h3>\n",
       "    <p>\n",
       "    <div class=\"quiz_question\">Why are statements replaced by <code>pass</code> rather than deleted?</div>\n",
       "    </p>\n",
       "    <p>\n",
       "    <div class=\"quiz_options\" title=\"Check all that apply.\">\n",
       "    \n",
       "        <input type=\"checkbox\" name=\"7da8a634-79db-11eb-ae51-acde48001122\" id=\"7da8a634-79db-11eb-ae51-acde48001122-1\" onclick=\"clear_selection('7da8a634-79db-11eb-ae51-acde48001122')\">\n",
       "        <label id=\"7da8a634-79db-11eb-ae51-acde48001122-1-label\" for=\"7da8a634-79db-11eb-ae51-acde48001122-1\">Because <code>if P: pass</code> is valid Python, while <code>if P:</code> is not</label><br>\n",
       "    \n",
       "        <input type=\"checkbox\" name=\"7da8a634-79db-11eb-ae51-acde48001122\" id=\"7da8a634-79db-11eb-ae51-acde48001122-2\" onclick=\"clear_selection('7da8a634-79db-11eb-ae51-acde48001122')\">\n",
       "        <label id=\"7da8a634-79db-11eb-ae51-acde48001122-2-label\" for=\"7da8a634-79db-11eb-ae51-acde48001122-2\">Because in Python, bodies for <code>if</code>, <code>while</code>, etc. cannot be empty</label><br>\n",
       "    \n",
       "        <input type=\"checkbox\" name=\"7da8a634-79db-11eb-ae51-acde48001122\" id=\"7da8a634-79db-11eb-ae51-acde48001122-3\" onclick=\"clear_selection('7da8a634-79db-11eb-ae51-acde48001122')\">\n",
       "        <label id=\"7da8a634-79db-11eb-ae51-acde48001122-3-label\" for=\"7da8a634-79db-11eb-ae51-acde48001122-3\">Because a <code>pass</code> node makes a target for future mutations</label><br>\n",
       "    \n",
       "        <input type=\"checkbox\" name=\"7da8a634-79db-11eb-ae51-acde48001122\" id=\"7da8a634-79db-11eb-ae51-acde48001122-4\" onclick=\"clear_selection('7da8a634-79db-11eb-ae51-acde48001122')\">\n",
       "        <label id=\"7da8a634-79db-11eb-ae51-acde48001122-4-label\" for=\"7da8a634-79db-11eb-ae51-acde48001122-4\">Because it causes the tests to pass</label><br>\n",
       "    \n",
       "    </div>\n",
       "    </p>\n",
       "    <input id=\"7da8a634-79db-11eb-ae51-acde48001122-submit\" type=\"submit\" value=\"Submit\" onclick=\"check_selection('7da8a634-79db-11eb-ae51-acde48001122', 14, 1, '[3 ^ n for n in range(3)]')\">\n",
       "    <span class=\"quiz_hint\" id=\"7da8a634-79db-11eb-ae51-acde48001122-hint\"></span>\n",
       "    </div>\n",
       "    "
      ],
      "text/plain": [
       "<IPython.core.display.HTML object>"
      ]
     },
     "execution_count": 1,
     "metadata": {},
     "output_type": "execute_result"
    }
   ],
   "source": [
    "quiz(\"Why are statements replaced by `pass` rather than deleted?\",\n",
    "     [\n",
    "         \"Because `if P: pass` is valid Python, while `if P:` is not\",\n",
    "         \"Because in Python, bodies for `if`, `while`, etc. cannot be empty\",\n",
    "         \"Because a `pass` node makes a target for future mutations\",\n",
    "         \"Because it causes the tests to pass\"\n",
    "     ], '[3 ^ n for n in range(3)]')"
   ]
  },
  {
   "cell_type": "markdown",
   "metadata": {
    "slideshow": {
     "slide_type": "fragment"
    }
   },
   "source": [
    "Indeed, Python's `compile()` will fail if any of the bodies is an empty list. Also, it leaves us a statement that can be evolved further."
   ]
  },
  {
   "cell_type": "markdown",
   "metadata": {
    "slideshow": {
     "slide_type": "subslide"
    }
   },
   "source": [
    "#### Helpers\n",
    "\n",
    "For logging purposes, we introduce a helper function `format_node()` that returns a short string representation of the node."
   ]
  },
  {
   "cell_type": "code",
   "execution_count": 62,
   "metadata": {
    "execution": {
     "iopub.execute_input": "2021-02-28T15:41:57.823779Z",
     "iopub.status.busy": "2021-02-28T15:41:57.823156Z",
     "iopub.status.idle": "2021-02-28T15:41:57.825346Z",
     "shell.execute_reply": "2021-02-28T15:41:57.824960Z"
    },
    "slideshow": {
     "slide_type": "subslide"
    }
   },
   "outputs": [],
   "source": [
    "class StatementMutator(StatementMutator):\n",
    "    NODE_MAX_LENGTH = 20\n",
    "\n",
    "    def format_node(self, node):\n",
    "        \"\"\"Return a string representation for `node`.\"\"\"\n",
    "        if node is None:\n",
    "            return \"None\"\n",
    "\n",
    "        if isinstance(node, list):\n",
    "            return \"; \".join(self.format_node(elem) for elem in node)\n",
    "\n",
    "        s = RE_SPACE.sub(' ', astor.to_source(node)).strip()\n",
    "        if len(s) > self.NODE_MAX_LENGTH - len(\"...\"):\n",
    "            s = s[:self.NODE_MAX_LENGTH] + \"...\"\n",
    "        return repr(s)"
   ]
  },
  {
   "cell_type": "markdown",
   "metadata": {
    "slideshow": {
     "slide_type": "subslide"
    }
   },
   "source": [
    "#### All Together\n",
    "\n",
    "Let us now create the main entry point, which is `mutate()`. It picks the node to be mutated and marks it with a `mutate_me` attribute. By calling `visit()`, it then sets off the `NodeTransformer` transformation."
   ]
  },
  {
   "cell_type": "code",
   "execution_count": 63,
   "metadata": {
    "execution": {
     "iopub.execute_input": "2021-02-28T15:41:57.830668Z",
     "iopub.status.busy": "2021-02-28T15:41:57.830115Z",
     "iopub.status.idle": "2021-02-28T15:41:57.831808Z",
     "shell.execute_reply": "2021-02-28T15:41:57.832238Z"
    },
    "slideshow": {
     "slide_type": "subslide"
    }
   },
   "outputs": [],
   "source": [
    "class StatementMutator(StatementMutator):\n",
    "    def mutate(self, tree):\n",
    "        \"\"\"Mutate the given AST `tree` in place. Return mutated tree.\"\"\"\n",
    "\n",
    "        assert isinstance(tree, ast.AST)\n",
    "\n",
    "        tree = copy.deepcopy(tree)\n",
    "\n",
    "        if not self.source:\n",
    "            self.source = all_statements(tree)\n",
    "\n",
    "        for node in ast.walk(tree):\n",
    "            node.mutate_me = False\n",
    "\n",
    "        node = self.node_to_be_mutated(tree)\n",
    "        node.mutate_me = True\n",
    "\n",
    "        self.mutations = 0\n",
    "\n",
    "        tree = self.visit(tree)\n",
    "\n",
    "        if self.mutations == 0:\n",
    "            warnings.warn(\"No mutations found\")\n",
    "\n",
    "        ast.fix_missing_locations(tree)\n",
    "        return tree"
   ]
  },
  {
   "cell_type": "markdown",
   "metadata": {
    "slideshow": {
     "slide_type": "subslide"
    }
   },
   "source": [
    "Here are a number of transformations applied by `StatementMutator`:"
   ]
  },
  {
   "cell_type": "code",
   "execution_count": 64,
   "metadata": {
    "execution": {
     "iopub.execute_input": "2021-02-28T15:41:57.843180Z",
     "iopub.status.busy": "2021-02-28T15:41:57.837253Z",
     "iopub.status.idle": "2021-02-28T15:41:57.855822Z",
     "shell.execute_reply": "2021-02-28T15:41:57.856205Z"
    },
    "slideshow": {
     "slide_type": "fragment"
    }
   },
   "outputs": [
    {
     "name": "stdout",
     "output_type": "stream",
     "text": [
      "   9:insert: 'return y' becomes 'return y'\n",
      "   8:insert: 'if x > y: return y e...' becomes 'if x < y: if x > y: ...'\n",
      "  12:insert: 'return z' becomes 'if y < z: return z...'\n",
      "   3:swap:   'if x < y: return y e...' becomes 'return x'\n",
      "   3:swap:   'if x < y: return y e...' becomes 'return z'\n",
      "   3:swap:   'if x < y: return y e...' becomes 'return x'\n",
      "  11:swap:   'return x' becomes 'return y'\n",
      "  10:insert: 'if x > z: return x...' becomes 'if x > z: return x...'; 'return z'\n",
      "  12:delete: 'return z' becomes 'pass'\n",
      "   8:swap:   'if x > y: return y e...' becomes 'if y < z: pass'\n"
     ]
    }
   ],
   "source": [
    "mutator = StatementMutator(log=True)\n",
    "for i in range(10):\n",
    "    new_tree = mutator.mutate(middle_tree())"
   ]
  },
  {
   "cell_type": "markdown",
   "metadata": {
    "slideshow": {
     "slide_type": "subslide"
    }
   },
   "source": [
    "This is the effect of the last mutator applied on `middle`:"
   ]
  },
  {
   "cell_type": "code",
   "execution_count": 65,
   "metadata": {
    "execution": {
     "iopub.execute_input": "2021-02-28T15:41:57.864594Z",
     "iopub.status.busy": "2021-02-28T15:41:57.864061Z",
     "iopub.status.idle": "2021-02-28T15:41:57.866020Z",
     "shell.execute_reply": "2021-02-28T15:41:57.866404Z"
    },
    "slideshow": {
     "slide_type": "fragment"
    }
   },
   "outputs": [
    {
     "name": "stdout",
     "output_type": "stream",
     "text": [
      "\u001b[34mdef\u001b[39;49;00m \u001b[32mmiddle\u001b[39;49;00m(x, y, z):\n",
      "    \u001b[34mif\u001b[39;49;00m y < z:\n",
      "        \u001b[34mif\u001b[39;49;00m x < y:\n",
      "            \u001b[34mreturn\u001b[39;49;00m y\n",
      "        \u001b[34melif\u001b[39;49;00m x < z:\n",
      "            \u001b[34mreturn\u001b[39;49;00m y\n",
      "    \u001b[34melif\u001b[39;49;00m y < z:\n",
      "        \u001b[34mpass\u001b[39;49;00m\n",
      "    \u001b[34mreturn\u001b[39;49;00m z"
     ]
    }
   ],
   "source": [
    "print_content(astor.to_source(new_tree), '.py')"
   ]
  },
  {
   "cell_type": "markdown",
   "metadata": {
    "slideshow": {
     "slide_type": "slide"
    }
   },
   "source": [
    "## Fitness\n",
    "\n",
    "Now that we can apply random mutations to code, let us find out how good these mutations are. Given our test suites for `middle`, we can check for a given code candidate how many of the previously passing test cases it passes, and how many of the failing test cases it passes. The more tests pass, the higher the _fitness_ of the candidate."
   ]
  },
  {
   "cell_type": "markdown",
   "metadata": {
    "slideshow": {
     "slide_type": "fragment"
    }
   },
   "source": [
    "Not all passing tests have the same value, though. We want to prevent _regressions_ – that is, having a fix that breaks a previously passing test. The values of `WEIGHT_PASSING` and `WEIGHT_FAILING` set the relative weight (or importance) of passing vs. failing tests; we see that keeping passing tests passing is far more important then fixing failing tests."
   ]
  },
  {
   "cell_type": "code",
   "execution_count": 66,
   "metadata": {
    "execution": {
     "iopub.execute_input": "2021-02-28T15:41:57.869754Z",
     "iopub.status.busy": "2021-02-28T15:41:57.869198Z",
     "iopub.status.idle": "2021-02-28T15:41:57.870890Z",
     "shell.execute_reply": "2021-02-28T15:41:57.871321Z"
    },
    "slideshow": {
     "slide_type": "subslide"
    }
   },
   "outputs": [],
   "source": [
    "WEIGHT_PASSING = 0.99\n",
    "WEIGHT_FAILING = 0.01"
   ]
  },
  {
   "cell_type": "code",
   "execution_count": 67,
   "metadata": {
    "execution": {
     "iopub.execute_input": "2021-02-28T15:41:57.877545Z",
     "iopub.status.busy": "2021-02-28T15:41:57.877005Z",
     "iopub.status.idle": "2021-02-28T15:41:57.878714Z",
     "shell.execute_reply": "2021-02-28T15:41:57.879175Z"
    },
    "slideshow": {
     "slide_type": "subslide"
    }
   },
   "outputs": [],
   "source": [
    "def middle_fitness(tree):\n",
    "    \"\"\"Compute fitness of a `middle()` candidate given in `tree`\"\"\"\n",
    "    original_middle = middle\n",
    "\n",
    "    try:\n",
    "        code = compile(tree, '<fitness>', 'exec')\n",
    "    except ValueError:\n",
    "        return 0  # Compilation error\n",
    "\n",
    "    exec(code, globals())\n",
    "\n",
    "    passing_passed = 0\n",
    "    failing_passed = 0\n",
    "\n",
    "    # Test how many of the passing runs pass\n",
    "    for x, y, z in MIDDLE_PASSING_TESTCASES:\n",
    "        try:\n",
    "            middle_test(x, y, z)\n",
    "            passing_passed += 1\n",
    "        except AssertionError:\n",
    "            pass\n",
    "\n",
    "    passing_ratio = passing_passed / len(MIDDLE_PASSING_TESTCASES)\n",
    "\n",
    "    # Test how many of the failing runs pass\n",
    "    for x, y, z in MIDDLE_FAILING_TESTCASES:\n",
    "        try:\n",
    "            middle_test(x, y, z)\n",
    "            failing_passed += 1\n",
    "        except AssertionError:\n",
    "            pass\n",
    "\n",
    "    failing_ratio = failing_passed / len(MIDDLE_FAILING_TESTCASES)\n",
    "\n",
    "    fitness = (WEIGHT_PASSING * passing_ratio +\n",
    "               WEIGHT_FAILING * failing_ratio)\n",
    "\n",
    "    globals()['middle'] = original_middle\n",
    "    return fitness"
   ]
  },
  {
   "cell_type": "markdown",
   "metadata": {
    "slideshow": {
     "slide_type": "subslide"
    }
   },
   "source": [
    "Our faulty `middle()` program has a fitness of `WEIGHT_PASSING` (99%), because it passes all the passing tests (but none of the failing ones)."
   ]
  },
  {
   "cell_type": "code",
   "execution_count": 68,
   "metadata": {
    "execution": {
     "iopub.execute_input": "2021-02-28T15:41:57.883655Z",
     "iopub.status.busy": "2021-02-28T15:41:57.882911Z",
     "iopub.status.idle": "2021-02-28T15:41:57.884942Z",
     "shell.execute_reply": "2021-02-28T15:41:57.885497Z"
    },
    "slideshow": {
     "slide_type": "fragment"
    }
   },
   "outputs": [
    {
     "data": {
      "text/plain": [
       "0.99"
      ]
     },
     "execution_count": 1,
     "metadata": {},
     "output_type": "execute_result"
    }
   ],
   "source": [
    "middle_fitness(middle_tree())"
   ]
  },
  {
   "cell_type": "markdown",
   "metadata": {
    "slideshow": {
     "slide_type": "fragment"
    }
   },
   "source": [
    "Our \"sort of fixed\" version of `middle()` gets a much lower fitness:"
   ]
  },
  {
   "cell_type": "code",
   "execution_count": 69,
   "metadata": {
    "execution": {
     "iopub.execute_input": "2021-02-28T15:41:57.888902Z",
     "iopub.status.busy": "2021-02-28T15:41:57.888342Z",
     "iopub.status.idle": "2021-02-28T15:41:57.890348Z",
     "shell.execute_reply": "2021-02-28T15:41:57.890795Z"
    },
    "slideshow": {
     "slide_type": "fragment"
    }
   },
   "outputs": [
    {
     "data": {
      "text/plain": [
       "0.4159"
      ]
     },
     "execution_count": 1,
     "metadata": {},
     "output_type": "execute_result"
    }
   ],
   "source": [
    "middle_fitness(ast.parse(\"def middle(x, y, z): return x\"))"
   ]
  },
  {
   "cell_type": "markdown",
   "metadata": {
    "slideshow": {
     "slide_type": "fragment"
    }
   },
   "source": [
    "In the [chapter on statistical debugging](StatisticalDebugger), we also defined a fixed version of `middle()`. This gets a fitness of 1.0, passing all tests. (We won't use this fixed version for automated repairs.)"
   ]
  },
  {
   "cell_type": "code",
   "execution_count": 70,
   "metadata": {
    "execution": {
     "iopub.execute_input": "2021-02-28T15:41:57.894232Z",
     "iopub.status.busy": "2021-02-28T15:41:57.893501Z",
     "iopub.status.idle": "2021-02-28T15:41:57.895148Z",
     "shell.execute_reply": "2021-02-28T15:41:57.895580Z"
    },
    "slideshow": {
     "slide_type": "skip"
    }
   },
   "outputs": [],
   "source": [
    "from StatisticalDebugger import middle_fixed"
   ]
  },
  {
   "cell_type": "code",
   "execution_count": 71,
   "metadata": {
    "execution": {
     "iopub.execute_input": "2021-02-28T15:41:57.899301Z",
     "iopub.status.busy": "2021-02-28T15:41:57.898671Z",
     "iopub.status.idle": "2021-02-28T15:41:57.900552Z",
     "shell.execute_reply": "2021-02-28T15:41:57.900931Z"
    },
    "slideshow": {
     "slide_type": "fragment"
    }
   },
   "outputs": [],
   "source": [
    "middle_fixed_source = \\\n",
    "    inspect.getsource(middle_fixed).replace('middle_fixed', 'middle').strip()"
   ]
  },
  {
   "cell_type": "code",
   "execution_count": 72,
   "metadata": {
    "execution": {
     "iopub.execute_input": "2021-02-28T15:41:57.904702Z",
     "iopub.status.busy": "2021-02-28T15:41:57.904025Z",
     "iopub.status.idle": "2021-02-28T15:41:57.906282Z",
     "shell.execute_reply": "2021-02-28T15:41:57.906651Z"
    },
    "slideshow": {
     "slide_type": "subslide"
    }
   },
   "outputs": [
    {
     "data": {
      "text/plain": [
       "1.0"
      ]
     },
     "execution_count": 1,
     "metadata": {},
     "output_type": "execute_result"
    }
   ],
   "source": [
    "middle_fitness(ast.parse(middle_fixed_source))"
   ]
  },
  {
   "cell_type": "markdown",
   "metadata": {
    "slideshow": {
     "slide_type": "slide"
    }
   },
   "source": [
    "## Population\n",
    "\n",
    "We now set up a _population_ of fix candidates to evolve over time.  A higher population size will yield more candidates to check, but also need more time to test; a lower population size will yield fewer candidates, but allow for more evolution steps.  We choose a population size of 40 (from \\cite{LeGoues2012}). "
   ]
  },
  {
   "cell_type": "code",
   "execution_count": 73,
   "metadata": {
    "execution": {
     "iopub.execute_input": "2021-02-28T15:41:57.909682Z",
     "iopub.status.busy": "2021-02-28T15:41:57.909177Z",
     "iopub.status.idle": "2021-02-28T15:41:57.910842Z",
     "shell.execute_reply": "2021-02-28T15:41:57.911341Z"
    },
    "slideshow": {
     "slide_type": "fragment"
    }
   },
   "outputs": [],
   "source": [
    "POPULATION_SIZE = 40\n",
    "middle_mutator = StatementMutator()"
   ]
  },
  {
   "cell_type": "code",
   "execution_count": 74,
   "metadata": {
    "execution": {
     "iopub.execute_input": "2021-02-28T15:41:57.964209Z",
     "iopub.status.busy": "2021-02-28T15:41:57.918603Z",
     "iopub.status.idle": "2021-02-28T15:41:57.966419Z",
     "shell.execute_reply": "2021-02-28T15:41:57.966857Z"
    },
    "slideshow": {
     "slide_type": "fragment"
    }
   },
   "outputs": [],
   "source": [
    "MIDDLE_POPULATION = [middle_tree()] + \\\n",
    "    [middle_mutator.mutate(middle_tree()) for i in range(POPULATION_SIZE - 1)]"
   ]
  },
  {
   "cell_type": "markdown",
   "metadata": {
    "slideshow": {
     "slide_type": "fragment"
    }
   },
   "source": [
    "We sort the fix candidates according to their fitness. This actually runs all tests on all candidates."
   ]
  },
  {
   "cell_type": "code",
   "execution_count": 75,
   "metadata": {
    "execution": {
     "iopub.execute_input": "2021-02-28T15:41:57.976850Z",
     "iopub.status.busy": "2021-02-28T15:41:57.976324Z",
     "iopub.status.idle": "2021-02-28T15:41:57.978690Z",
     "shell.execute_reply": "2021-02-28T15:41:57.979049Z"
    },
    "slideshow": {
     "slide_type": "fragment"
    }
   },
   "outputs": [],
   "source": [
    "MIDDLE_POPULATION.sort(key=middle_fitness, reverse=True)"
   ]
  },
  {
   "cell_type": "markdown",
   "metadata": {
    "slideshow": {
     "slide_type": "subslide"
    }
   },
   "source": [
    "The candidate with the highest fitness is still our original (faulty) `middle()` code:"
   ]
  },
  {
   "cell_type": "code",
   "execution_count": 76,
   "metadata": {
    "execution": {
     "iopub.execute_input": "2021-02-28T15:41:57.982675Z",
     "iopub.status.busy": "2021-02-28T15:41:57.982157Z",
     "iopub.status.idle": "2021-02-28T15:41:57.984062Z",
     "shell.execute_reply": "2021-02-28T15:41:57.984428Z"
    },
    "slideshow": {
     "slide_type": "subslide"
    }
   },
   "outputs": [
    {
     "name": "stdout",
     "output_type": "stream",
     "text": [
      "def middle(x, y, z):\n",
      "    if y < z:\n",
      "        if x < y:\n",
      "            return y\n",
      "        elif x < z:\n",
      "            return y\n",
      "    elif x > y:\n",
      "        return y\n",
      "    elif x > z:\n",
      "        return x\n",
      "    return z\n",
      " 0.99\n"
     ]
    }
   ],
   "source": [
    "print(astor.to_source(MIDDLE_POPULATION[0]),\n",
    "      middle_fitness(MIDDLE_POPULATION[0]))"
   ]
  },
  {
   "cell_type": "markdown",
   "metadata": {
    "slideshow": {
     "slide_type": "subslide"
    }
   },
   "source": [
    "At the other end of the spectrum, the candidate with the lowest fitness has some vital functionality removed:"
   ]
  },
  {
   "cell_type": "code",
   "execution_count": 77,
   "metadata": {
    "execution": {
     "iopub.execute_input": "2021-02-28T15:41:57.988074Z",
     "iopub.status.busy": "2021-02-28T15:41:57.987551Z",
     "iopub.status.idle": "2021-02-28T15:41:57.989533Z",
     "shell.execute_reply": "2021-02-28T15:41:57.989902Z"
    },
    "slideshow": {
     "slide_type": "fragment"
    }
   },
   "outputs": [
    {
     "name": "stdout",
     "output_type": "stream",
     "text": [
      "def middle(x, y, z):\n",
      "    if y < z:\n",
      "        if x < y:\n",
      "            return y\n",
      "        elif x < z:\n",
      "            return y\n",
      "    else:\n",
      "        return y\n",
      "    return z\n",
      " 0.5544\n"
     ]
    }
   ],
   "source": [
    "print(astor.to_source(MIDDLE_POPULATION[-1]),\n",
    "      middle_fitness(MIDDLE_POPULATION[-1]))"
   ]
  },
  {
   "cell_type": "markdown",
   "metadata": {
    "slideshow": {
     "slide_type": "slide"
    }
   },
   "source": [
    "## Evolution\n",
    "\n",
    "To evolve our population of candidates, we fill up the population with mutations created from the population, using a `StatementMutator` as described above to create these mutations. Then we reduce the population to its original size, keeping the fittest candidates."
   ]
  },
  {
   "cell_type": "code",
   "execution_count": 78,
   "metadata": {
    "execution": {
     "iopub.execute_input": "2021-02-28T15:41:57.994419Z",
     "iopub.status.busy": "2021-02-28T15:41:57.993900Z",
     "iopub.status.idle": "2021-02-28T15:41:57.995413Z",
     "shell.execute_reply": "2021-02-28T15:41:57.995925Z"
    },
    "slideshow": {
     "slide_type": "subslide"
    }
   },
   "outputs": [],
   "source": [
    "def evolve_middle():\n",
    "    global MIDDLE_POPULATION\n",
    "\n",
    "    source = all_statements(middle_tree())\n",
    "    mutator = StatementMutator(source=source)\n",
    "\n",
    "    n = len(MIDDLE_POPULATION)\n",
    "\n",
    "    offspring = []\n",
    "    while len(offspring) < n:\n",
    "        parent = random.choice(MIDDLE_POPULATION)\n",
    "        offspring.append(mutator.mutate(parent))\n",
    "\n",
    "    MIDDLE_POPULATION += offspring\n",
    "    MIDDLE_POPULATION.sort(key=middle_fitness, reverse=True)\n",
    "    MIDDLE_POPULATION = MIDDLE_POPULATION[:n]"
   ]
  },
  {
   "cell_type": "markdown",
   "metadata": {
    "slideshow": {
     "slide_type": "subslide"
    }
   },
   "source": [
    "This is what happens when evolving our population for the first time; the original source is still our best candidate."
   ]
  },
  {
   "cell_type": "code",
   "execution_count": 79,
   "metadata": {
    "execution": {
     "iopub.execute_input": "2021-02-28T15:41:58.053659Z",
     "iopub.status.busy": "2021-02-28T15:41:58.034143Z",
     "iopub.status.idle": "2021-02-28T15:41:58.055297Z",
     "shell.execute_reply": "2021-02-28T15:41:58.055679Z"
    },
    "slideshow": {
     "slide_type": "fragment"
    }
   },
   "outputs": [],
   "source": [
    "evolve_middle()"
   ]
  },
  {
   "cell_type": "code",
   "execution_count": 80,
   "metadata": {
    "execution": {
     "iopub.execute_input": "2021-02-28T15:41:58.059402Z",
     "iopub.status.busy": "2021-02-28T15:41:58.058768Z",
     "iopub.status.idle": "2021-02-28T15:41:58.061023Z",
     "shell.execute_reply": "2021-02-28T15:41:58.061412Z"
    },
    "slideshow": {
     "slide_type": "subslide"
    }
   },
   "outputs": [
    {
     "name": "stdout",
     "output_type": "stream",
     "text": [
      "def middle(x, y, z):\n",
      "    if y < z:\n",
      "        if x < y:\n",
      "            return y\n",
      "        elif x < z:\n",
      "            return y\n",
      "    elif x > y:\n",
      "        return y\n",
      "    elif x > z:\n",
      "        return x\n",
      "    return z\n",
      " 0.99\n"
     ]
    }
   ],
   "source": [
    "tree = MIDDLE_POPULATION[0]\n",
    "print(astor.to_source(tree), middle_fitness(tree))"
   ]
  },
  {
   "cell_type": "markdown",
   "metadata": {
    "slideshow": {
     "slide_type": "subslide"
    }
   },
   "source": [
    "However, nothing keeps us from evolving for a few generations more..."
   ]
  },
  {
   "cell_type": "code",
   "execution_count": 81,
   "metadata": {
    "execution": {
     "iopub.execute_input": "2021-02-28T15:41:58.141136Z",
     "iopub.status.busy": "2021-02-28T15:41:58.101203Z",
     "iopub.status.idle": "2021-02-28T15:41:58.806182Z",
     "shell.execute_reply": "2021-02-28T15:41:58.806692Z"
    },
    "slideshow": {
     "slide_type": "fragment"
    }
   },
   "outputs": [
    {
     "name": "stdout",
     "output_type": "stream",
     "text": [
      "Iteration 11: fitness = 1.0  "
     ]
    }
   ],
   "source": [
    "for i in range(50):\n",
    "    evolve_middle()\n",
    "    best_middle_tree = MIDDLE_POPULATION[0]\n",
    "    fitness = middle_fitness(best_middle_tree)\n",
    "    print(f\"\\rIteration {i:2}: fitness = {fitness}  \", end=\"\")\n",
    "    if fitness >= 1.0:\n",
    "        break"
   ]
  },
  {
   "cell_type": "markdown",
   "metadata": {
    "slideshow": {
     "slide_type": "fragment"
    }
   },
   "source": [
    "Success! We find a candidate that actually passes all tests, including the failing ones. Here is the candidate:"
   ]
  },
  {
   "cell_type": "code",
   "execution_count": 82,
   "metadata": {
    "execution": {
     "iopub.execute_input": "2021-02-28T15:41:58.814616Z",
     "iopub.status.busy": "2021-02-28T15:41:58.813980Z",
     "iopub.status.idle": "2021-02-28T15:41:58.816005Z",
     "shell.execute_reply": "2021-02-28T15:41:58.816377Z"
    },
    "slideshow": {
     "slide_type": "subslide"
    }
   },
   "outputs": [
    {
     "name": "stdout",
     "output_type": "stream",
     "text": [
      " 1  \u001b[34mdef\u001b[39;49;00m \u001b[32mmiddle\u001b[39;49;00m(x, y, z):\n",
      " 2      \u001b[34mif\u001b[39;49;00m y < z:\n",
      " 3          \u001b[34mif\u001b[39;49;00m x < y:\n",
      " 4              \u001b[34mif\u001b[39;49;00m x > z:\n",
      " 5                  \u001b[34mreturn\u001b[39;49;00m x\n",
      " 6              \u001b[34mreturn\u001b[39;49;00m y\n",
      " 7          \u001b[34melif\u001b[39;49;00m x < z:\n",
      " 8              \u001b[34mreturn\u001b[39;49;00m x\n",
      " 9      \u001b[34melif\u001b[39;49;00m x > y:\n",
      "10          \u001b[34mreturn\u001b[39;49;00m y\n",
      "11      \u001b[34melif\u001b[39;49;00m x > z:\n",
      "12          \u001b[34mreturn\u001b[39;49;00m x\n",
      "13      \u001b[34mreturn\u001b[39;49;00m z"
     ]
    }
   ],
   "source": [
    "print_content(astor.to_source(best_middle_tree), '.py', start_line_number=1)"
   ]
  },
  {
   "cell_type": "markdown",
   "metadata": {
    "slideshow": {
     "slide_type": "fragment"
    }
   },
   "source": [
    "... and yes, it passes all tests:"
   ]
  },
  {
   "cell_type": "code",
   "execution_count": 83,
   "metadata": {
    "execution": {
     "iopub.execute_input": "2021-02-28T15:41:58.820666Z",
     "iopub.status.busy": "2021-02-28T15:41:58.820067Z",
     "iopub.status.idle": "2021-02-28T15:41:58.821722Z",
     "shell.execute_reply": "2021-02-28T15:41:58.822092Z"
    },
    "slideshow": {
     "slide_type": "subslide"
    }
   },
   "outputs": [],
   "source": [
    "original_middle = middle\n",
    "code = compile(best_middle_tree, '<string>', 'exec')\n",
    "exec(code, globals())\n",
    "\n",
    "for x, y, z in MIDDLE_PASSING_TESTCASES + MIDDLE_FAILING_TESTCASES:\n",
    "    middle_test(x, y, z)\n",
    "\n",
    "middle = original_middle"
   ]
  },
  {
   "cell_type": "markdown",
   "metadata": {
    "slideshow": {
     "slide_type": "fragment"
    }
   },
   "source": [
    "As the code is already validated by hundreds of test cases, it is very valuable for the programmer. Even if the programmer decides not to use the code as is, the location gives very strong hints on which code to examine and where to apply a fix."
   ]
  },
  {
   "cell_type": "markdown",
   "metadata": {
    "slideshow": {
     "slide_type": "fragment"
    }
   },
   "source": [
    "However, a closer look at our fix candidate shows that there is some amount of redundancy – that is, superfluous statements."
   ]
  },
  {
   "cell_type": "code",
   "execution_count": 84,
   "metadata": {
    "execution": {
     "iopub.execute_input": "2021-02-28T15:41:58.827904Z",
     "iopub.status.busy": "2021-02-28T15:41:58.827299Z",
     "iopub.status.idle": "2021-02-28T15:41:58.829357Z",
     "shell.execute_reply": "2021-02-28T15:41:58.829721Z"
    },
    "slideshow": {
     "slide_type": "subslide"
    }
   },
   "outputs": [
    {
     "data": {
      "text/html": [
       "\n",
       "    \n",
       "    <script>\n",
       "    var bad_answers = new Map();\n",
       "\n",
       "    function answer(quiz_id) {\n",
       "        ans = 0;\n",
       "        for (i = 1;; i++) {\n",
       "            checkbox = document.getElementById(quiz_id + \"-\" + i.toString());\n",
       "            if (!checkbox)\n",
       "                break;\n",
       "            if (checkbox.checked)\n",
       "                ans |= (1 << i);\n",
       "        }\n",
       "        return ans;\n",
       "    }\n",
       "    function check_selection(quiz_id, correct_answer, multiple_choice, hint) {\n",
       "        given_answer = answer(quiz_id);\n",
       "        if (given_answer == correct_answer)\n",
       "        {\n",
       "            document.getElementById(quiz_id + \"-submit\").value = \"Correct!\";\n",
       "            document.getElementById(quiz_id + \"-hint\").innerHTML = \"\";\n",
       "\n",
       "            for (i = 1;; i++) {\n",
       "                checkbox = document.getElementById(quiz_id + \"-\" + i.toString());\n",
       "                label = document.getElementById(quiz_id + \"-\" + i.toString() + \"-label\")\n",
       "                if (!checkbox)\n",
       "                    break;\n",
       "    \n",
       "                if (checkbox.checked) {\n",
       "                    label.style.fontWeight = \"bold\";\n",
       "                }\n",
       "                else {\n",
       "                    label.style.textDecoration = \"line-through\";\n",
       "                }\n",
       "            }\n",
       "        }\n",
       "        else \n",
       "        {\n",
       "            document.getElementById(quiz_id + \"-submit\").value = \"Try again\";\n",
       "            \n",
       "            if (!bad_answers.has(quiz_id)) {\n",
       "                bad_answers.set(quiz_id, 1);\n",
       "            }\n",
       "            else {\n",
       "                bad_answers.set(quiz_id, bad_answers.get(quiz_id) + 1);\n",
       "            }\n",
       "\n",
       "            if (bad_answers.get(quiz_id) >= 2 && hint.length > 0) {\n",
       "                document.getElementById(quiz_id + \"-hint\").innerHTML = \n",
       "                    \"&nbsp;&nbsp;(Hint: <code>\" + hint + \"</code>)\";\n",
       "            }\n",
       "\n",
       "            if (!multiple_choice) {\n",
       "                for (i = 1;; i++) {\n",
       "                    checkbox = document.getElementById(quiz_id + \"-\" + i.toString());\n",
       "                    label = document.getElementById(quiz_id + \"-\" + i.toString() + \"-label\")\n",
       "\n",
       "                    if (!checkbox)\n",
       "                        break;\n",
       "                    if (checkbox.checked) {\n",
       "                        label.style.textDecoration = \"line-through\";\n",
       "                    }\n",
       "                }\n",
       "            }\n",
       "        }\n",
       "    }\n",
       "    function clear_selection(quiz_id) {\n",
       "        document.getElementById(quiz_id + \"-submit\").value = \"Submit\";\n",
       "        document.getElementById(quiz_id + \"-hint\").innerHTML = \"\";\n",
       "    }\n",
       "    </script>\n",
       "    \n",
       "    <div class=\"quiz\">\n",
       "    <h3 class=\"quiz_title\">Quiz</h3>\n",
       "    <p>\n",
       "    <div class=\"quiz_question\">Some of the lines in our fix candidate are redundant. Which are these?</div>\n",
       "    </p>\n",
       "    <p>\n",
       "    <div class=\"quiz_options\" title=\"Check all that apply.\">\n",
       "    \n",
       "        <input type=\"checkbox\" name=\"7e45e226-79db-11eb-be15-acde48001122\" id=\"7e45e226-79db-11eb-be15-acde48001122-1\" onclick=\"clear_selection('7e45e226-79db-11eb-be15-acde48001122')\">\n",
       "        <label id=\"7e45e226-79db-11eb-be15-acde48001122-1-label\" for=\"7e45e226-79db-11eb-be15-acde48001122-1\">Line 3: <code>if x &lt; y</code></label><br>\n",
       "    \n",
       "        <input type=\"checkbox\" name=\"7e45e226-79db-11eb-be15-acde48001122\" id=\"7e45e226-79db-11eb-be15-acde48001122-2\" onclick=\"clear_selection('7e45e226-79db-11eb-be15-acde48001122')\">\n",
       "        <label id=\"7e45e226-79db-11eb-be15-acde48001122-2-label\" for=\"7e45e226-79db-11eb-be15-acde48001122-2\">Line 4: <code>if x &gt; z</code></label><br>\n",
       "    \n",
       "        <input type=\"checkbox\" name=\"7e45e226-79db-11eb-be15-acde48001122\" id=\"7e45e226-79db-11eb-be15-acde48001122-3\" onclick=\"clear_selection('7e45e226-79db-11eb-be15-acde48001122')\">\n",
       "        <label id=\"7e45e226-79db-11eb-be15-acde48001122-3-label\" for=\"7e45e226-79db-11eb-be15-acde48001122-3\">Line 5: <code>return x</code></label><br>\n",
       "    \n",
       "        <input type=\"checkbox\" name=\"7e45e226-79db-11eb-be15-acde48001122\" id=\"7e45e226-79db-11eb-be15-acde48001122-4\" onclick=\"clear_selection('7e45e226-79db-11eb-be15-acde48001122')\">\n",
       "        <label id=\"7e45e226-79db-11eb-be15-acde48001122-4-label\" for=\"7e45e226-79db-11eb-be15-acde48001122-4\">Line 13: <code>return z</code></label><br>\n",
       "    \n",
       "    </div>\n",
       "    </p>\n",
       "    <input id=\"7e45e226-79db-11eb-be15-acde48001122-submit\" type=\"submit\" value=\"Submit\" onclick=\"check_selection('7e45e226-79db-11eb-be15-acde48001122', 12, 1, '[eval(chr(100 - x)) for x in [49, 50]]')\">\n",
       "    <span class=\"quiz_hint\" id=\"7e45e226-79db-11eb-be15-acde48001122-hint\"></span>\n",
       "    </div>\n",
       "    "
      ],
      "text/plain": [
       "<IPython.core.display.HTML object>"
      ]
     },
     "execution_count": 1,
     "metadata": {},
     "output_type": "execute_result"
    }
   ],
   "source": [
    "quiz(\"Some of the lines in our fix candidate are redundant. Which are these?\",\n",
    "    [\n",
    "        \"Line 3: `if x < y`\",\n",
    "        \"Line 4: `if x > z`\",\n",
    "        \"Line 5: `return x`\",\n",
    "        \"Line 13: `return z`\"\n",
    "    ], '[eval(chr(100 - x)) for x in [49, 50]]')"
   ]
  },
  {
   "cell_type": "markdown",
   "metadata": {
    "slideshow": {
     "slide_type": "slide"
    }
   },
   "source": [
    "## Simplifying"
   ]
  },
  {
   "cell_type": "markdown",
   "metadata": {
    "slideshow": {
     "slide_type": "fragment"
    }
   },
   "source": [
    "As demonstrated in the chapter on [reducing failure-inducing inputs](DeltaDebugger.ipynb), we can use delta debugging on code to get rid of these superfluous statements."
   ]
  },
  {
   "cell_type": "markdown",
   "metadata": {
    "slideshow": {
     "slide_type": "fragment"
    }
   },
   "source": [
    "The trick for simplification is to have the test function (`test_middle_lines()`) declare a fitness of 1.0 as a \"failure\". Delta debugging will then simplify the input as long as the \"failure\" (and hence the maximum fitness obtained) persists."
   ]
  },
  {
   "cell_type": "code",
   "execution_count": 85,
   "metadata": {
    "execution": {
     "iopub.execute_input": "2021-02-28T15:41:58.832917Z",
     "iopub.status.busy": "2021-02-28T15:41:58.832389Z",
     "iopub.status.idle": "2021-02-28T15:41:59.151040Z",
     "shell.execute_reply": "2021-02-28T15:41:59.151419Z"
    },
    "slideshow": {
     "slide_type": "skip"
    }
   },
   "outputs": [],
   "source": [
    "from DeltaDebugger import DeltaDebugger"
   ]
  },
  {
   "cell_type": "code",
   "execution_count": 86,
   "metadata": {
    "execution": {
     "iopub.execute_input": "2021-02-28T15:41:59.155188Z",
     "iopub.status.busy": "2021-02-28T15:41:59.154513Z",
     "iopub.status.idle": "2021-02-28T15:41:59.156234Z",
     "shell.execute_reply": "2021-02-28T15:41:59.156601Z"
    },
    "slideshow": {
     "slide_type": "fragment"
    }
   },
   "outputs": [],
   "source": [
    "middle_lines = astor.to_source(best_middle_tree).strip().split('\\n')"
   ]
  },
  {
   "cell_type": "code",
   "execution_count": 87,
   "metadata": {
    "execution": {
     "iopub.execute_input": "2021-02-28T15:41:59.159854Z",
     "iopub.status.busy": "2021-02-28T15:41:59.159320Z",
     "iopub.status.idle": "2021-02-28T15:41:59.160911Z",
     "shell.execute_reply": "2021-02-28T15:41:59.161281Z"
    },
    "slideshow": {
     "slide_type": "fragment"
    }
   },
   "outputs": [],
   "source": [
    "def test_middle_lines(lines):\n",
    "    source = \"\\n\".join(lines)\n",
    "    tree = ast.parse(source)\n",
    "    assert middle_fitness(tree) < 1.0  # \"Fail\" only while fitness is 1.0"
   ]
  },
  {
   "cell_type": "code",
   "execution_count": 88,
   "metadata": {
    "execution": {
     "iopub.execute_input": "2021-02-28T15:41:59.165074Z",
     "iopub.status.busy": "2021-02-28T15:41:59.164422Z",
     "iopub.status.idle": "2021-02-28T15:41:59.166206Z",
     "shell.execute_reply": "2021-02-28T15:41:59.166581Z"
    },
    "slideshow": {
     "slide_type": "fragment"
    }
   },
   "outputs": [],
   "source": [
    "with DeltaDebugger() as dd:\n",
    "    test_middle_lines(middle_lines)"
   ]
  },
  {
   "cell_type": "code",
   "execution_count": 89,
   "metadata": {
    "execution": {
     "iopub.execute_input": "2021-02-28T15:41:59.174168Z",
     "iopub.status.busy": "2021-02-28T15:41:59.173643Z",
     "iopub.status.idle": "2021-02-28T15:41:59.175248Z",
     "shell.execute_reply": "2021-02-28T15:41:59.175616Z"
    },
    "slideshow": {
     "slide_type": "subslide"
    }
   },
   "outputs": [],
   "source": [
    "reduced_lines = dd.min_args()['lines']"
   ]
  },
  {
   "cell_type": "code",
   "execution_count": 90,
   "metadata": {
    "execution": {
     "iopub.execute_input": "2021-02-28T15:41:59.178327Z",
     "iopub.status.busy": "2021-02-28T15:41:59.177814Z",
     "iopub.status.idle": "2021-02-28T15:41:59.179309Z",
     "shell.execute_reply": "2021-02-28T15:41:59.179677Z"
    },
    "slideshow": {
     "slide_type": "fragment"
    }
   },
   "outputs": [],
   "source": [
    "# assert len(reduced_lines) < len(middle_lines)"
   ]
  },
  {
   "cell_type": "code",
   "execution_count": 91,
   "metadata": {
    "execution": {
     "iopub.execute_input": "2021-02-28T15:41:59.182492Z",
     "iopub.status.busy": "2021-02-28T15:41:59.181991Z",
     "iopub.status.idle": "2021-02-28T15:41:59.183760Z",
     "shell.execute_reply": "2021-02-28T15:41:59.184164Z"
    },
    "slideshow": {
     "slide_type": "fragment"
    }
   },
   "outputs": [],
   "source": [
    "reduced_source = \"\\n\".join(reduced_lines)"
   ]
  },
  {
   "cell_type": "code",
   "execution_count": 92,
   "metadata": {
    "execution": {
     "iopub.execute_input": "2021-02-28T15:41:59.193149Z",
     "iopub.status.busy": "2021-02-28T15:41:59.192331Z",
     "iopub.status.idle": "2021-02-28T15:41:59.194806Z",
     "shell.execute_reply": "2021-02-28T15:41:59.195173Z"
    },
    "slideshow": {
     "slide_type": "subslide"
    }
   },
   "outputs": [
    {
     "name": "stdout",
     "output_type": "stream",
     "text": [
      "\u001b[34mdef\u001b[39;49;00m \u001b[32mmiddle\u001b[39;49;00m(x, y, z):\n",
      "    \u001b[34mif\u001b[39;49;00m y < z:\n",
      "        \u001b[34mif\u001b[39;49;00m x < y:\n",
      "            \u001b[34mreturn\u001b[39;49;00m y\n",
      "        \u001b[34melif\u001b[39;49;00m x < z:\n",
      "            \u001b[34mreturn\u001b[39;49;00m x\n",
      "    \u001b[34melif\u001b[39;49;00m x > y:\n",
      "        \u001b[34mreturn\u001b[39;49;00m y\n",
      "    \u001b[34melif\u001b[39;49;00m x > z:\n",
      "        \u001b[34mreturn\u001b[39;49;00m x\n",
      "    \u001b[34mreturn\u001b[39;49;00m z"
     ]
    }
   ],
   "source": [
    "repaired_source = astor.to_source(ast.parse(reduced_source))  # normalize\n",
    "print_content(repaired_source, '.py')"
   ]
  },
  {
   "cell_type": "markdown",
   "metadata": {
    "slideshow": {
     "slide_type": "fragment"
    }
   },
   "source": [
    "Success! Delta Debugging has eliminated the superfluous statements. We can present the difference to the original as a patch:"
   ]
  },
  {
   "cell_type": "code",
   "execution_count": 93,
   "metadata": {
    "execution": {
     "iopub.execute_input": "2021-02-28T15:41:59.199606Z",
     "iopub.status.busy": "2021-02-28T15:41:59.198979Z",
     "iopub.status.idle": "2021-02-28T15:41:59.200971Z",
     "shell.execute_reply": "2021-02-28T15:41:59.201413Z"
    },
    "slideshow": {
     "slide_type": "subslide"
    }
   },
   "outputs": [],
   "source": [
    "original_source = astor.to_source(ast.parse(middle_source))  # normalize"
   ]
  },
  {
   "cell_type": "code",
   "execution_count": 94,
   "metadata": {
    "execution": {
     "iopub.execute_input": "2021-02-28T15:41:59.205146Z",
     "iopub.status.busy": "2021-02-28T15:41:59.204393Z",
     "iopub.status.idle": "2021-02-28T15:41:59.312058Z",
     "shell.execute_reply": "2021-02-28T15:41:59.312448Z"
    },
    "slideshow": {
     "slide_type": "skip"
    }
   },
   "outputs": [],
   "source": [
    "from ChangeDebugger import diff, print_patch  # minor dependency"
   ]
  },
  {
   "cell_type": "code",
   "execution_count": 95,
   "metadata": {
    "execution": {
     "iopub.execute_input": "2021-02-28T15:41:59.320059Z",
     "iopub.status.busy": "2021-02-28T15:41:59.319430Z",
     "iopub.status.idle": "2021-02-28T15:41:59.321662Z",
     "shell.execute_reply": "2021-02-28T15:41:59.322037Z"
    },
    "slideshow": {
     "slide_type": "fragment"
    }
   },
   "outputs": [
    {
     "name": "stdout",
     "output_type": "stream",
     "text": [
      "@@ -\u001b[34m87\u001b[39;49;00m,\u001b[34m37\u001b[39;49;00m +\u001b[34m87\u001b[39;49;00m,\u001b[34m37\u001b[39;49;00m @@\n",
      "  x < z:\n",
      "\n",
      "-            \u001b[34mreturn\u001b[39;49;00m y\n",
      "\n",
      "+            \u001b[34mreturn\u001b[39;49;00m x\n",
      "\n",
      "     \u001b[34melif\u001b[39;49;00m"
     ]
    }
   ],
   "source": [
    "for patch in diff(original_source, repaired_source):\n",
    "    print_patch(patch)"
   ]
  },
  {
   "cell_type": "markdown",
   "metadata": {
    "slideshow": {
     "slide_type": "fragment"
    }
   },
   "source": [
    "We can present this patch to the programmer, who will then immediately know what to fix in the `middle()` code."
   ]
  },
  {
   "cell_type": "markdown",
   "metadata": {
    "slideshow": {
     "slide_type": "slide"
    }
   },
   "source": [
    "## Crossover\n",
    "\n",
    "So far, we have only applied one kind of genetic operators – mutation. There is a second one, though, also inspired by natural selection. \n",
    "\n",
    "The *crossover* operation mutation two strands of genes, as illustrated in the following picture. We have two parents (red and blue), each as a sequence of genes. To create \"crossed\" chilren, we pick a _crossover point_ and exchange the strands at this very point:\n",
    "\n",
    "![](https://upload.wikimedia.org/wikipedia/commons/thumb/5/56/OnePointCrossover.svg/500px-OnePointCrossover.svg.png)"
   ]
  },
  {
   "cell_type": "markdown",
   "metadata": {
    "slideshow": {
     "slide_type": "subslide"
    }
   },
   "source": [
    "We implement a `CrossoverOperator` class that implements such an operation on two randomly chosen statement lists of two programs. It is used as\n",
    "\n",
    "```python\n",
    "crossover = CrossoverOperator()\n",
    "crossover.crossover(tree_p1, tree_p2)\n",
    "```\n",
    "\n",
    "where `tree_p1` and `tree_p2` are two ASTs that are changed in place."
   ]
  },
  {
   "cell_type": "markdown",
   "metadata": {
    "slideshow": {
     "slide_type": "subslide"
    }
   },
   "source": [
    "### Excursion: Implementing Crossover"
   ]
  },
  {
   "cell_type": "markdown",
   "metadata": {
    "slideshow": {
     "slide_type": "subslide"
    }
   },
   "source": [
    "#### Crossing Statement Lists"
   ]
  },
  {
   "cell_type": "markdown",
   "metadata": {
    "slideshow": {
     "slide_type": "fragment"
    }
   },
   "source": [
    "Applied on programs, a crossover mutation takes two parents and \"crosses\" a list of statements. As an example, if our \"parents\" `p1()` and `p2()` are defined as follows:"
   ]
  },
  {
   "cell_type": "code",
   "execution_count": 96,
   "metadata": {
    "execution": {
     "iopub.execute_input": "2021-02-28T15:41:59.325957Z",
     "iopub.status.busy": "2021-02-28T15:41:59.325293Z",
     "iopub.status.idle": "2021-02-28T15:41:59.326896Z",
     "shell.execute_reply": "2021-02-28T15:41:59.327262Z"
    },
    "slideshow": {
     "slide_type": "fragment"
    }
   },
   "outputs": [],
   "source": [
    "def p1():  # type: ignore\n",
    "    a = 1\n",
    "    b = 2\n",
    "    c = 3"
   ]
  },
  {
   "cell_type": "code",
   "execution_count": 97,
   "metadata": {
    "execution": {
     "iopub.execute_input": "2021-02-28T15:41:59.330321Z",
     "iopub.status.busy": "2021-02-28T15:41:59.329814Z",
     "iopub.status.idle": "2021-02-28T15:41:59.331358Z",
     "shell.execute_reply": "2021-02-28T15:41:59.331725Z"
    },
    "slideshow": {
     "slide_type": "fragment"
    }
   },
   "outputs": [],
   "source": [
    "def p2():  # type: ignore\n",
    "    x = 1\n",
    "    y = 2\n",
    "    z = 3"
   ]
  },
  {
   "cell_type": "markdown",
   "metadata": {
    "slideshow": {
     "slide_type": "subslide"
    }
   },
   "source": [
    "Then a crossover operation would produce one child with a body\n",
    "\n",
    "```python\n",
    "a = 1\n",
    "y = 2\n",
    "z = 3\n",
    "```\n",
    "\n",
    "and another child with a body\n",
    "\n",
    "```python\n",
    "x = 1\n",
    "b = 2\n",
    "c = 3\n",
    "```"
   ]
  },
  {
   "cell_type": "markdown",
   "metadata": {
    "slideshow": {
     "slide_type": "subslide"
    }
   },
   "source": [
    "We can easily implement this in a `CrossoverOperator` class in a method `cross_bodies()`."
   ]
  },
  {
   "cell_type": "code",
   "execution_count": 98,
   "metadata": {
    "execution": {
     "iopub.execute_input": "2021-02-28T15:41:59.336480Z",
     "iopub.status.busy": "2021-02-28T15:41:59.335737Z",
     "iopub.status.idle": "2021-02-28T15:41:59.337371Z",
     "shell.execute_reply": "2021-02-28T15:41:59.337760Z"
    },
    "slideshow": {
     "slide_type": "subslide"
    }
   },
   "outputs": [],
   "source": [
    "class CrossoverOperator:\n",
    "    \"\"\"A class for performing statement crossover of Python programs\"\"\"\n",
    "\n",
    "    def __init__(self, log=False):\n",
    "        \"\"\"Constructor. If `log` is set, turn on logging.\"\"\"\n",
    "        self.log = log\n",
    "\n",
    "    def cross_bodies(self, body_1, body_2):\n",
    "        \"\"\"CrossoverOperator the statement lists `body_1` x `body_2`.\n",
    "        Return new lists.\n",
    "        \"\"\"\n",
    "\n",
    "        assert isinstance(body_1, list)\n",
    "        assert isinstance(body_2, list)\n",
    "\n",
    "        crossover_point_1 = len(body_1) // 2\n",
    "        crossover_point_2 = len(body_2) // 2\n",
    "        return (body_1[:crossover_point_1] + body_2[crossover_point_2:],\n",
    "                body_2[:crossover_point_2] + body_1[crossover_point_1:])"
   ]
  },
  {
   "cell_type": "markdown",
   "metadata": {
    "slideshow": {
     "slide_type": "subslide"
    }
   },
   "source": [
    "Here's the `CrossoverOperatorMutator` applied on `p1` and `p2`:"
   ]
  },
  {
   "cell_type": "code",
   "execution_count": 99,
   "metadata": {
    "execution": {
     "iopub.execute_input": "2021-02-28T15:41:59.341186Z",
     "iopub.status.busy": "2021-02-28T15:41:59.340637Z",
     "iopub.status.idle": "2021-02-28T15:41:59.342618Z",
     "shell.execute_reply": "2021-02-28T15:41:59.343068Z"
    },
    "slideshow": {
     "slide_type": "fragment"
    }
   },
   "outputs": [],
   "source": [
    "tree_p1: ast.Module = ast.parse(inspect.getsource(p1))\n",
    "tree_p2: ast.Module = ast.parse(inspect.getsource(p2))"
   ]
  },
  {
   "cell_type": "code",
   "execution_count": 100,
   "metadata": {
    "execution": {
     "iopub.execute_input": "2021-02-28T15:41:59.346532Z",
     "iopub.status.busy": "2021-02-28T15:41:59.345899Z",
     "iopub.status.idle": "2021-02-28T15:41:59.348194Z",
     "shell.execute_reply": "2021-02-28T15:41:59.348633Z"
    },
    "slideshow": {
     "slide_type": "fragment"
    }
   },
   "outputs": [
    {
     "data": {
      "text/plain": [
       "[<_ast.Assign at 0x7ff920d598d0>,\n",
       " <_ast.Assign at 0x7ff920d59b00>,\n",
       " <_ast.Assign at 0x7ff920d597f0>]"
      ]
     },
     "execution_count": 1,
     "metadata": {},
     "output_type": "execute_result"
    }
   ],
   "source": [
    "body_p1 = tree_p1.body[0].body  # type: ignore\n",
    "body_p2 = tree_p2.body[0].body  # type: ignore\n",
    "body_p1"
   ]
  },
  {
   "cell_type": "code",
   "execution_count": 101,
   "metadata": {
    "execution": {
     "iopub.execute_input": "2021-02-28T15:41:59.351924Z",
     "iopub.status.busy": "2021-02-28T15:41:59.351357Z",
     "iopub.status.idle": "2021-02-28T15:41:59.353143Z",
     "shell.execute_reply": "2021-02-28T15:41:59.353512Z"
    },
    "slideshow": {
     "slide_type": "fragment"
    }
   },
   "outputs": [],
   "source": [
    "crosser = CrossoverOperator()\n",
    "tree_p1.body[0].body, tree_p2.body[0].body = crosser.cross_bodies(body_p1, body_p2)  # type: ignore"
   ]
  },
  {
   "cell_type": "code",
   "execution_count": 102,
   "metadata": {
    "execution": {
     "iopub.execute_input": "2021-02-28T15:41:59.360253Z",
     "iopub.status.busy": "2021-02-28T15:41:59.359731Z",
     "iopub.status.idle": "2021-02-28T15:41:59.361572Z",
     "shell.execute_reply": "2021-02-28T15:41:59.361972Z"
    },
    "slideshow": {
     "slide_type": "subslide"
    }
   },
   "outputs": [
    {
     "name": "stdout",
     "output_type": "stream",
     "text": [
      "\u001b[34mdef\u001b[39;49;00m \u001b[32mp1\u001b[39;49;00m():\n",
      "    a = \u001b[34m1\u001b[39;49;00m\n",
      "    y = \u001b[34m2\u001b[39;49;00m\n",
      "    z = \u001b[34m3\u001b[39;49;00m"
     ]
    }
   ],
   "source": [
    "print_content(astor.to_source(tree_p1), '.py')"
   ]
  },
  {
   "cell_type": "code",
   "execution_count": 103,
   "metadata": {
    "execution": {
     "iopub.execute_input": "2021-02-28T15:41:59.368963Z",
     "iopub.status.busy": "2021-02-28T15:41:59.368416Z",
     "iopub.status.idle": "2021-02-28T15:41:59.370315Z",
     "shell.execute_reply": "2021-02-28T15:41:59.370681Z"
    },
    "slideshow": {
     "slide_type": "fragment"
    }
   },
   "outputs": [
    {
     "name": "stdout",
     "output_type": "stream",
     "text": [
      "\u001b[34mdef\u001b[39;49;00m \u001b[32mp2\u001b[39;49;00m():\n",
      "    x = \u001b[34m1\u001b[39;49;00m\n",
      "    b = \u001b[34m2\u001b[39;49;00m\n",
      "    c = \u001b[34m3\u001b[39;49;00m"
     ]
    }
   ],
   "source": [
    "print_content(astor.to_source(tree_p2), '.py')"
   ]
  },
  {
   "cell_type": "markdown",
   "metadata": {
    "slideshow": {
     "slide_type": "subslide"
    }
   },
   "source": [
    "#### Applying Crossover on Programs\n",
    "\n",
    "Applying the crossover operation on arbitrary programs is a bit more complex, though. We first have to _find_ lists of statements that we a actually can cross over. The `can_cross()` method returns True if we have a list of statements that we can cross. Python modules and classes are excluded, because changing the ordering of definitions will not have much impact on the program."
   ]
  },
  {
   "cell_type": "code",
   "execution_count": 104,
   "metadata": {
    "execution": {
     "iopub.execute_input": "2021-02-28T15:41:59.375458Z",
     "iopub.status.busy": "2021-02-28T15:41:59.374800Z",
     "iopub.status.idle": "2021-02-28T15:41:59.376518Z",
     "shell.execute_reply": "2021-02-28T15:41:59.376895Z"
    },
    "slideshow": {
     "slide_type": "subslide"
    }
   },
   "outputs": [],
   "source": [
    "class CrossoverOperator(CrossoverOperator):\n",
    "    # In modules and class defs, the ordering of elements does not matter (much)\n",
    "    SKIP_LIST = {ast.Module, ast.ClassDef}\n",
    "\n",
    "    def can_cross(self, tree, body_attr='body'):\n",
    "        if any(isinstance(tree, cls) for cls in self.SKIP_LIST):\n",
    "            return False\n",
    "\n",
    "        body = getattr(tree, body_attr, [])\n",
    "        return body and len(body) >= 2"
   ]
  },
  {
   "cell_type": "markdown",
   "metadata": {
    "slideshow": {
     "slide_type": "subslide"
    }
   },
   "source": [
    "Here comes our method `crossover_attr()` which searches for crossover possibilities. It takes to ASTs `t1` and `t2` and an attribute (typically `'body'`) and retrieves the attribute lists $l_1$ (from `t1.<attr>`) and $l_2$ (from `t2.<attr>`).\n",
    "\n",
    "If $l_1$ and $l_2$ can be crossed, it crosses them, and is done. Otherwise\n",
    "\n",
    "* If there is a pair of elements $e_1 \\in l_1$ and $e_2 \\in l_2$ that has the same name – say, functions of the same name –, it applies itself to $e_1$ and $e_2$.\n",
    "* Otherwise, it creates random pairs of elements $e_1 \\in l_1$ and $e_2 \\in l_2$ and applies itself on these very pairs.\n",
    "\n",
    "`crossover_attr()` changes `t1` and `t2` in place and returns True if a crossover was found; it returns False otherwise."
   ]
  },
  {
   "cell_type": "code",
   "execution_count": 105,
   "metadata": {
    "execution": {
     "iopub.execute_input": "2021-02-28T15:41:59.385125Z",
     "iopub.status.busy": "2021-02-28T15:41:59.384529Z",
     "iopub.status.idle": "2021-02-28T15:41:59.386104Z",
     "shell.execute_reply": "2021-02-28T15:41:59.386472Z"
    },
    "slideshow": {
     "slide_type": "subslide"
    }
   },
   "outputs": [],
   "source": [
    "class CrossoverOperator(CrossoverOperator):\n",
    "    def crossover_attr(self, t1, t2, body_attr):\n",
    "        \"\"\"CrossoverOperator the bodies `body_attr` of two trees `t1` and `t2`.\n",
    "        Return True if successful.\"\"\"\n",
    "        assert isinstance(t1, ast.AST)\n",
    "        assert isinstance(t2, ast.AST)\n",
    "        assert isinstance(body_attr, str)\n",
    "\n",
    "        if not getattr(t1, body_attr, None) or not getattr(t2, body_attr, None):\n",
    "            return False\n",
    "\n",
    "        if self.crossover_branches(t1, t2):\n",
    "            return t1, t2\n",
    "\n",
    "        if self.log > 1:\n",
    "            print(f\"Checking {t1}.{body_attr} x {t2}.{body_attr}\")\n",
    "\n",
    "        body_1 = getattr(t1, body_attr)\n",
    "        body_2 = getattr(t2, body_attr)\n",
    "\n",
    "        # If both trees have the attribute, we can cross their bodies\n",
    "        if self.can_cross(t1, body_attr) and self.can_cross(t2, body_attr):\n",
    "            if self.log:\n",
    "                print(f\"Crossing {t1}.{body_attr} x {t2}.{body_attr}\")\n",
    "\n",
    "            new_body_1, new_body_2 = self.cross_bodies(body_1, body_2)\n",
    "            setattr(t1, body_attr, new_body_1)\n",
    "            setattr(t2, body_attr, new_body_2)\n",
    "            return True\n",
    "\n",
    "        # Strategy 1: Find matches in class/function of same name\n",
    "        for child_1 in body_1:\n",
    "            if hasattr(child_1, 'name'):\n",
    "                for child_2 in body_2:\n",
    "                    if (hasattr(child_2, 'name') and\n",
    "                           child_1.name == child_2.name):\n",
    "                        if self.crossover_attr(child_1, child_2, body_attr):\n",
    "                            return True\n",
    "\n",
    "        # Strategy 2: Find matches anywhere\n",
    "        for child_1 in random.sample(body_1, len(body_1)):\n",
    "            for child_2 in random.sample(body_2, len(body_2)):\n",
    "                if self.crossover_attr(child_1, child_2, body_attr):\n",
    "                    return True\n",
    "\n",
    "        return False"
   ]
  },
  {
   "cell_type": "markdown",
   "metadata": {
    "slideshow": {
     "slide_type": "subslide"
    }
   },
   "source": [
    "We have a special case for `if` nodes, where we can cross their body and `else` branches."
   ]
  },
  {
   "cell_type": "code",
   "execution_count": 106,
   "metadata": {
    "execution": {
     "iopub.execute_input": "2021-02-28T15:41:59.391909Z",
     "iopub.status.busy": "2021-02-28T15:41:59.391304Z",
     "iopub.status.idle": "2021-02-28T15:41:59.392918Z",
     "shell.execute_reply": "2021-02-28T15:41:59.393292Z"
    },
    "slideshow": {
     "slide_type": "subslide"
    }
   },
   "outputs": [],
   "source": [
    "class CrossoverOperator(CrossoverOperator):\n",
    "    def crossover_branches(self, t1, t2):\n",
    "        \"\"\"Special case:\n",
    "        `t1` = `if P: S1 else: S2` x `t2` = `if P': S1' else: S2'`\n",
    "        becomes\n",
    "        `t1` = `if P: S2' else: S1'` and `t2` = `if P': S2 else: S1`\n",
    "        Returns True if successful.\n",
    "        \"\"\"\n",
    "        assert isinstance(t1, ast.AST)\n",
    "        assert isinstance(t2, ast.AST)\n",
    "\n",
    "        if (getattr(t1, 'body', None) and getattr(t1, 'orelse', None) and\n",
    "            getattr(t2, 'body', None) and getattr(t2, 'orelse', None)):\n",
    "\n",
    "            if self.log:\n",
    "                print(f\"Crossing branches {t1} x {t2}\")\n",
    "\n",
    "            t1.body, t1.orelse, t2.body, t2.orelse = \\\n",
    "                t2.orelse, t2.body, t1.orelse, t1.body\n",
    "            return True\n",
    "\n",
    "        return False"
   ]
  },
  {
   "cell_type": "markdown",
   "metadata": {
    "slideshow": {
     "slide_type": "subslide"
    }
   },
   "source": [
    "The method `crossover()` is the main entry point. It checks for the special `if` case as described above; if not, it searches for possible crossover points. It raises `CrossoverError` if not successful."
   ]
  },
  {
   "cell_type": "code",
   "execution_count": 107,
   "metadata": {
    "execution": {
     "iopub.execute_input": "2021-02-28T15:41:59.397748Z",
     "iopub.status.busy": "2021-02-28T15:41:59.397223Z",
     "iopub.status.idle": "2021-02-28T15:41:59.398783Z",
     "shell.execute_reply": "2021-02-28T15:41:59.399149Z"
    },
    "slideshow": {
     "slide_type": "fragment"
    }
   },
   "outputs": [],
   "source": [
    "class CrossoverOperator(CrossoverOperator):\n",
    "    def crossover(self, t1, t2):\n",
    "        \"\"\"Do a crossover of ASTs `t1` and `t2`.\n",
    "        Raises `CrossoverError` if no crossover is found.\"\"\"\n",
    "        assert isinstance(t1, ast.AST)\n",
    "        assert isinstance(t2, ast.AST)\n",
    "\n",
    "        for body_attr in ['body', 'orelse', 'finalbody']:\n",
    "            if self.crossover_attr(t1, t2, body_attr):\n",
    "                return t1, t2\n",
    "\n",
    "        raise CrossoverError(\"No crossover found\")"
   ]
  },
  {
   "cell_type": "code",
   "execution_count": 108,
   "metadata": {
    "execution": {
     "iopub.execute_input": "2021-02-28T15:41:59.402114Z",
     "iopub.status.busy": "2021-02-28T15:41:59.401589Z",
     "iopub.status.idle": "2021-02-28T15:41:59.403158Z",
     "shell.execute_reply": "2021-02-28T15:41:59.403525Z"
    },
    "slideshow": {
     "slide_type": "subslide"
    }
   },
   "outputs": [],
   "source": [
    "class CrossoverError(ValueError):\n",
    "    pass"
   ]
  },
  {
   "cell_type": "markdown",
   "metadata": {
    "slideshow": {
     "slide_type": "subslide"
    }
   },
   "source": [
    "### End of Excursion"
   ]
  },
  {
   "cell_type": "markdown",
   "metadata": {
    "slideshow": {
     "slide_type": "subslide"
    }
   },
   "source": [
    "### Crossover in Action"
   ]
  },
  {
   "cell_type": "markdown",
   "metadata": {
    "slideshow": {
     "slide_type": "fragment"
    }
   },
   "source": [
    "Let us put our `CrossoverOperator` in action. Here is a test case for crossover, involving more deeply nested structures:"
   ]
  },
  {
   "cell_type": "code",
   "execution_count": 109,
   "metadata": {
    "execution": {
     "iopub.execute_input": "2021-02-28T15:41:59.406787Z",
     "iopub.status.busy": "2021-02-28T15:41:59.406270Z",
     "iopub.status.idle": "2021-02-28T15:41:59.407933Z",
     "shell.execute_reply": "2021-02-28T15:41:59.408365Z"
    },
    "slideshow": {
     "slide_type": "fragment"
    }
   },
   "outputs": [],
   "source": [
    "def p1():  # type: ignore\n",
    "    if True:\n",
    "        print(1)\n",
    "        print(2)\n",
    "        print(3)"
   ]
  },
  {
   "cell_type": "code",
   "execution_count": 110,
   "metadata": {
    "execution": {
     "iopub.execute_input": "2021-02-28T15:41:59.411642Z",
     "iopub.status.busy": "2021-02-28T15:41:59.411091Z",
     "iopub.status.idle": "2021-02-28T15:41:59.412489Z",
     "shell.execute_reply": "2021-02-28T15:41:59.412915Z"
    },
    "slideshow": {
     "slide_type": "fragment"
    }
   },
   "outputs": [],
   "source": [
    "def p2():  # type: ignore\n",
    "    if True:\n",
    "        print(a)\n",
    "        print(b)\n",
    "    else:\n",
    "        print(c)\n",
    "        print(d)"
   ]
  },
  {
   "cell_type": "markdown",
   "metadata": {
    "slideshow": {
     "slide_type": "subslide"
    }
   },
   "source": [
    "We invoke the `crossover()` method with two ASTs from `p1` and `p2`:"
   ]
  },
  {
   "cell_type": "code",
   "execution_count": 111,
   "metadata": {
    "execution": {
     "iopub.execute_input": "2021-02-28T15:41:59.416271Z",
     "iopub.status.busy": "2021-02-28T15:41:59.415755Z",
     "iopub.status.idle": "2021-02-28T15:41:59.419038Z",
     "shell.execute_reply": "2021-02-28T15:41:59.419420Z"
    },
    "slideshow": {
     "slide_type": "fragment"
    }
   },
   "outputs": [
    {
     "data": {
      "text/plain": [
       "(<_ast.Module at 0x7ff91e7379b0>, <_ast.Module at 0x7ff920d59a90>)"
      ]
     },
     "execution_count": 1,
     "metadata": {},
     "output_type": "execute_result"
    }
   ],
   "source": [
    "crossover = CrossoverOperator()\n",
    "tree_p1 = ast.parse(inspect.getsource(p1))\n",
    "tree_p2 = ast.parse(inspect.getsource(p2))\n",
    "crossover.crossover(tree_p1, tree_p2);"
   ]
  },
  {
   "cell_type": "markdown",
   "metadata": {
    "slideshow": {
     "slide_type": "fragment"
    }
   },
   "source": [
    "Here is the crossed offspring, mixing statement lists of `p1` and `p2`:"
   ]
  },
  {
   "cell_type": "code",
   "execution_count": 112,
   "metadata": {
    "execution": {
     "iopub.execute_input": "2021-02-28T15:41:59.426274Z",
     "iopub.status.busy": "2021-02-28T15:41:59.425753Z",
     "iopub.status.idle": "2021-02-28T15:41:59.427561Z",
     "shell.execute_reply": "2021-02-28T15:41:59.427926Z"
    },
    "slideshow": {
     "slide_type": "fragment"
    }
   },
   "outputs": [
    {
     "name": "stdout",
     "output_type": "stream",
     "text": [
      "\u001b[34mdef\u001b[39;49;00m \u001b[32mp1\u001b[39;49;00m():\n",
      "    \u001b[34mif\u001b[39;49;00m \u001b[34mTrue\u001b[39;49;00m:\n",
      "        \u001b[36mprint\u001b[39;49;00m(\u001b[34m1\u001b[39;49;00m)\n",
      "        \u001b[36mprint\u001b[39;49;00m(b)"
     ]
    }
   ],
   "source": [
    "print_content(astor.to_source(tree_p1), '.py')"
   ]
  },
  {
   "cell_type": "code",
   "execution_count": 113,
   "metadata": {
    "execution": {
     "iopub.execute_input": "2021-02-28T15:41:59.434673Z",
     "iopub.status.busy": "2021-02-28T15:41:59.434167Z",
     "iopub.status.idle": "2021-02-28T15:41:59.436129Z",
     "shell.execute_reply": "2021-02-28T15:41:59.436569Z"
    },
    "slideshow": {
     "slide_type": "subslide"
    }
   },
   "outputs": [
    {
     "name": "stdout",
     "output_type": "stream",
     "text": [
      "\u001b[34mdef\u001b[39;49;00m \u001b[32mp2\u001b[39;49;00m():\n",
      "    \u001b[34mif\u001b[39;49;00m \u001b[34mTrue\u001b[39;49;00m:\n",
      "        \u001b[36mprint\u001b[39;49;00m(a)\n",
      "        \u001b[36mprint\u001b[39;49;00m(\u001b[34m2\u001b[39;49;00m)\n",
      "        \u001b[36mprint\u001b[39;49;00m(\u001b[34m3\u001b[39;49;00m)\n",
      "    \u001b[34melse\u001b[39;49;00m:\n",
      "        \u001b[36mprint\u001b[39;49;00m(c)\n",
      "        \u001b[36mprint\u001b[39;49;00m(d)"
     ]
    }
   ],
   "source": [
    "print_content(astor.to_source(tree_p2), '.py')"
   ]
  },
  {
   "cell_type": "markdown",
   "metadata": {
    "slideshow": {
     "slide_type": "fragment"
    }
   },
   "source": [
    "Here is our special case for `if` nodes in action, crossing our `middle()` tree with `p2`."
   ]
  },
  {
   "cell_type": "code",
   "execution_count": 114,
   "metadata": {
    "execution": {
     "iopub.execute_input": "2021-02-28T15:41:59.440528Z",
     "iopub.status.busy": "2021-02-28T15:41:59.439984Z",
     "iopub.status.idle": "2021-02-28T15:41:59.442102Z",
     "shell.execute_reply": "2021-02-28T15:41:59.442490Z"
    },
    "slideshow": {
     "slide_type": "fragment"
    }
   },
   "outputs": [],
   "source": [
    "middle_t1, middle_t2 = crossover.crossover(middle_tree(),\n",
    "                                          ast.parse(inspect.getsource(p2)))"
   ]
  },
  {
   "cell_type": "markdown",
   "metadata": {
    "slideshow": {
     "slide_type": "fragment"
    }
   },
   "source": [
    "We see how the resulting offspring encompasses elements of both sources:"
   ]
  },
  {
   "cell_type": "code",
   "execution_count": 115,
   "metadata": {
    "execution": {
     "iopub.execute_input": "2021-02-28T15:41:59.449746Z",
     "iopub.status.busy": "2021-02-28T15:41:59.449068Z",
     "iopub.status.idle": "2021-02-28T15:41:59.451070Z",
     "shell.execute_reply": "2021-02-28T15:41:59.451485Z"
    },
    "slideshow": {
     "slide_type": "subslide"
    }
   },
   "outputs": [
    {
     "name": "stdout",
     "output_type": "stream",
     "text": [
      "\u001b[34mdef\u001b[39;49;00m \u001b[32mmiddle\u001b[39;49;00m(x, y, z):\n",
      "    \u001b[34mif\u001b[39;49;00m y < z:\n",
      "        \u001b[36mprint\u001b[39;49;00m(c)\n",
      "        \u001b[36mprint\u001b[39;49;00m(d)\n",
      "    \u001b[34melse\u001b[39;49;00m:\n",
      "        \u001b[36mprint\u001b[39;49;00m(a)\n",
      "        \u001b[36mprint\u001b[39;49;00m(b)\n",
      "    \u001b[34mreturn\u001b[39;49;00m z"
     ]
    }
   ],
   "source": [
    "print_content(astor.to_source(middle_t1), '.py')"
   ]
  },
  {
   "cell_type": "code",
   "execution_count": 116,
   "metadata": {
    "execution": {
     "iopub.execute_input": "2021-02-28T15:41:59.458581Z",
     "iopub.status.busy": "2021-02-28T15:41:59.458046Z",
     "iopub.status.idle": "2021-02-28T15:41:59.459974Z",
     "shell.execute_reply": "2021-02-28T15:41:59.460340Z"
    },
    "slideshow": {
     "slide_type": "subslide"
    }
   },
   "outputs": [
    {
     "name": "stdout",
     "output_type": "stream",
     "text": [
      "\u001b[34mdef\u001b[39;49;00m \u001b[32mp2\u001b[39;49;00m():\n",
      "    \u001b[34mif\u001b[39;49;00m \u001b[34mTrue\u001b[39;49;00m:\n",
      "        \u001b[34mif\u001b[39;49;00m x > y:\n",
      "            \u001b[34mreturn\u001b[39;49;00m y\n",
      "        \u001b[34melif\u001b[39;49;00m x > z:\n",
      "            \u001b[34mreturn\u001b[39;49;00m x\n",
      "    \u001b[34melif\u001b[39;49;00m x < y:\n",
      "        \u001b[34mreturn\u001b[39;49;00m y\n",
      "    \u001b[34melif\u001b[39;49;00m x < z:\n",
      "        \u001b[34mreturn\u001b[39;49;00m y"
     ]
    }
   ],
   "source": [
    "print_content(astor.to_source(middle_t2), '.py')"
   ]
  },
  {
   "cell_type": "markdown",
   "metadata": {
    "slideshow": {
     "slide_type": "slide"
    }
   },
   "source": [
    "## A Repairer Class\n",
    "\n",
    "So far, we have applied all our techniques on the `middle()` program only. Let us now create a `Repairer` class that applies automatic program repair on arbitrary Python programs. The idea is that you can apply it on some statistical debugger, for which you have gathered passing and failing test cases, and then invoke its `repair()` method to find a \"best\" fix candidate:\n",
    "\n",
    "```python\n",
    "debugger = OchiaiDebugger()\n",
    "with debugger:\n",
    "    <passing test>\n",
    "with debugger:\n",
    "    <failing test>\n",
    "...\n",
    "repairer = Repairer(debugger)\n",
    "repairer.repair()\n",
    "```"
   ]
  },
  {
   "cell_type": "markdown",
   "metadata": {
    "slideshow": {
     "slide_type": "subslide"
    }
   },
   "source": [
    "### Excursion: Implementing Repairer"
   ]
  },
  {
   "cell_type": "markdown",
   "metadata": {
    "slideshow": {
     "slide_type": "fragment"
    }
   },
   "source": [
    "The main argument to the `Repairer` constructor is the `debugger` to get information from. On top of that, it also allows to customize the classes used for mutation, crossover, and reduction. Setting `targets` allows to define a set of functions to repair; setting `sources` allows to set a set of sources to take repairs from. The constructor then sets up the environment for running tests and repairing, as described below."
   ]
  },
  {
   "cell_type": "code",
   "execution_count": 117,
   "metadata": {
    "execution": {
     "iopub.execute_input": "2021-02-28T15:41:59.468627Z",
     "iopub.status.busy": "2021-02-28T15:41:59.468098Z",
     "iopub.status.idle": "2021-02-28T15:41:59.469934Z",
     "shell.execute_reply": "2021-02-28T15:41:59.470293Z"
    },
    "slideshow": {
     "slide_type": "subslide"
    }
   },
   "outputs": [],
   "source": [
    "class Repairer:\n",
    "    \"\"\"A class for automatic repair of Python programs\"\"\"\n",
    "\n",
    "    def __init__(self, debugger, targets=None, sources=None, log=False,\n",
    "                 mutator_class=StatementMutator,\n",
    "                 crossover_class=CrossoverOperator,\n",
    "                 reducer_class=DeltaDebugger,\n",
    "                 globals=None):\n",
    "        \"\"\"Constructor.\n",
    "`debugger`: a `DifferenceDebugger` to take tests and coverage from.\n",
    "`targets`: a list of functions/modules to be repaired.\n",
    "    (default: the covered functions in `debugger`, except tests)\n",
    "`sources`: a list of functions/modules to take repairs from.\n",
    "    (default: same as `targets`)\n",
    "`globals`: if given, a `globals()` dict for executing targets\n",
    "    (default: `globals()` of caller)\"\"\"\n",
    "\n",
    "        assert isinstance(debugger, DifferenceDebugger)\n",
    "        self.debugger = debugger\n",
    "        self.log = log\n",
    "\n",
    "        if targets is None:\n",
    "            targets = self.default_functions()\n",
    "        if not targets:\n",
    "            raise ValueError(\"No targets to repair\")\n",
    "\n",
    "        if sources is None:\n",
    "            sources = self.default_functions()\n",
    "        if not sources:\n",
    "            raise ValueError(\"No sources to take repairs from\")\n",
    "\n",
    "        if self.debugger.function() is None:\n",
    "            raise ValueError(\"Multiple entry points observed\")\n",
    "\n",
    "        self.target_tree = self.parse(targets)\n",
    "        self.source_tree = self.parse(sources)\n",
    "\n",
    "        self.log_tree(\"Target code to be repaired:\", self.target_tree)\n",
    "        if ast.dump(self.target_tree) != ast.dump(self.source_tree):\n",
    "            self.log_tree(\"Source code to take repairs from:\", \n",
    "                          self.source_tree)\n",
    "\n",
    "        self.fitness_cache = {}\n",
    "\n",
    "        self.mutator = \\\n",
    "            mutator_class(\n",
    "                source=all_statements(self.source_tree),\n",
    "                suspiciousness_func=self.debugger.suspiciousness,\n",
    "                log=(self.log >= 3))\n",
    "        self.crossover = crossover_class(log=(self.log >= 3))\n",
    "        self.reducer = reducer_class(log=(self.log >= 3))\n",
    "\n",
    "        if globals is None:\n",
    "            globals = self.caller_globals()\n",
    "        self.globals = globals"
   ]
  },
  {
   "cell_type": "markdown",
   "metadata": {
    "slideshow": {
     "slide_type": "subslide"
    }
   },
   "source": [
    "#### Helper Functions\n",
    "\n",
    "The constructor uses a number of helper functions to create its environment."
   ]
  },
  {
   "cell_type": "markdown",
   "metadata": {
    "slideshow": {
     "slide_type": "fragment"
    }
   },
   "source": [
    "When we access or execute functions, we do so in the  caller's environment, not ours. The `caller_globals()` method from `StackInspector` acts as replacement for `globals()`."
   ]
  },
  {
   "cell_type": "code",
   "execution_count": 118,
   "metadata": {
    "execution": {
     "iopub.execute_input": "2021-02-28T15:41:59.473616Z",
     "iopub.status.busy": "2021-02-28T15:41:59.473112Z",
     "iopub.status.idle": "2021-02-28T15:41:59.693885Z",
     "shell.execute_reply": "2021-02-28T15:41:59.694277Z"
    },
    "slideshow": {
     "slide_type": "skip"
    }
   },
   "outputs": [],
   "source": [
    "from Slicer import StackInspector  # minor dependency"
   ]
  },
  {
   "cell_type": "markdown",
   "metadata": {
    "slideshow": {
     "slide_type": "fragment"
    }
   },
   "source": [
    "We use multiple inheritance to include all of the functions of `StackInspector`."
   ]
  },
  {
   "cell_type": "code",
   "execution_count": 119,
   "metadata": {
    "execution": {
     "iopub.execute_input": "2021-02-28T15:41:59.698065Z",
     "iopub.status.busy": "2021-02-28T15:41:59.697363Z",
     "iopub.status.idle": "2021-02-28T15:41:59.699269Z",
     "shell.execute_reply": "2021-02-28T15:41:59.699650Z"
    },
    "slideshow": {
     "slide_type": "fragment"
    }
   },
   "outputs": [],
   "source": [
    "class Repairer(Repairer, StackInspector):\n",
    "    pass"
   ]
  },
  {
   "cell_type": "code",
   "execution_count": 120,
   "metadata": {
    "execution": {
     "iopub.execute_input": "2021-02-28T15:41:59.703956Z",
     "iopub.status.busy": "2021-02-28T15:41:59.703273Z",
     "iopub.status.idle": "2021-02-28T15:41:59.705162Z",
     "shell.execute_reply": "2021-02-28T15:41:59.705538Z"
    },
    "slideshow": {
     "slide_type": "subslide"
    }
   },
   "outputs": [],
   "source": [
    "class Repairer(Repairer):\n",
    "    def getsource(self, item):\n",
    "        \"\"\"Get the source for `item`. Can also be a string.\"\"\"\n",
    "        if isinstance(item, str):\n",
    "            item = self.globals[item]\n",
    "        return inspect.getsource(item)"
   ]
  },
  {
   "cell_type": "code",
   "execution_count": 121,
   "metadata": {
    "execution": {
     "iopub.execute_input": "2021-02-28T15:41:59.710760Z",
     "iopub.status.busy": "2021-02-28T15:41:59.710161Z",
     "iopub.status.idle": "2021-02-28T15:41:59.711888Z",
     "shell.execute_reply": "2021-02-28T15:41:59.712260Z"
    },
    "slideshow": {
     "slide_type": "fragment"
    }
   },
   "outputs": [],
   "source": [
    "class Repairer(Repairer):\n",
    "    def default_functions(self):\n",
    "        \"\"\"Return the set of functions to be repaired.\n",
    "        Functions whose names start or end in `test` are excluded.\"\"\"\n",
    "        def is_test(name):\n",
    "            return name.startswith('test') or name.endswith('test')\n",
    "\n",
    "        return [func for func in self.debugger.covered_functions()\n",
    "                if not is_test(func.__name__)]"
   ]
  },
  {
   "cell_type": "code",
   "execution_count": 122,
   "metadata": {
    "execution": {
     "iopub.execute_input": "2021-02-28T15:41:59.716327Z",
     "iopub.status.busy": "2021-02-28T15:41:59.715798Z",
     "iopub.status.idle": "2021-02-28T15:41:59.718010Z",
     "shell.execute_reply": "2021-02-28T15:41:59.717626Z"
    },
    "slideshow": {
     "slide_type": "subslide"
    }
   },
   "outputs": [],
   "source": [
    "class Repairer(Repairer):\n",
    "    def log_tree(self, description, tree):\n",
    "        \"\"\"Print out `tree` as source code prefixed by `description`.\"\"\"\n",
    "        if self.log:\n",
    "            print(description)\n",
    "            print_content(astor.to_source(tree), '.py')\n",
    "            print()\n",
    "            print()"
   ]
  },
  {
   "cell_type": "code",
   "execution_count": 123,
   "metadata": {
    "execution": {
     "iopub.execute_input": "2021-02-28T15:41:59.723092Z",
     "iopub.status.busy": "2021-02-28T15:41:59.722562Z",
     "iopub.status.idle": "2021-02-28T15:41:59.724252Z",
     "shell.execute_reply": "2021-02-28T15:41:59.724622Z"
    },
    "slideshow": {
     "slide_type": "subslide"
    }
   },
   "outputs": [],
   "source": [
    "class Repairer(Repairer):\n",
    "    def parse(self, items):\n",
    "        \"\"\"Read in a set of items into a single tree\"\"\"\n",
    "        tree = ast.parse(\"\")\n",
    "        for item in items:\n",
    "            if isinstance(item, str):\n",
    "                item = self.globals[item]\n",
    "\n",
    "            item_lines, item_first_lineno = inspect.getsourcelines(item)\n",
    "\n",
    "            try:\n",
    "                item_tree = ast.parse(\"\".join(item_lines))\n",
    "            except IndentationError:\n",
    "                # inner function or likewise\n",
    "                warnings.warn(f\"Can't parse {item.__name__}\")\n",
    "                continue\n",
    "\n",
    "            ast.increment_lineno(item_tree, item_first_lineno - 1)\n",
    "            tree.body += item_tree.body\n",
    "\n",
    "        return tree"
   ]
  },
  {
   "cell_type": "markdown",
   "metadata": {
    "slideshow": {
     "slide_type": "subslide"
    }
   },
   "source": [
    "#### Running Tests\n",
    "\n",
    "Now that we have set the environment for `Repairer`, we can implement one step of automatic repair after the other. The method `run_test_set()` runs the given `test_set` (`DifferenceDebugger.PASS` or `DifferenceDebugger.FAIL`), returning the number of passed tests. If `validate` is set, it checks whether the outcomes are as expected."
   ]
  },
  {
   "cell_type": "code",
   "execution_count": 124,
   "metadata": {
    "execution": {
     "iopub.execute_input": "2021-02-28T15:41:59.730525Z",
     "iopub.status.busy": "2021-02-28T15:41:59.729981Z",
     "iopub.status.idle": "2021-02-28T15:41:59.731631Z",
     "shell.execute_reply": "2021-02-28T15:41:59.732003Z"
    },
    "slideshow": {
     "slide_type": "subslide"
    }
   },
   "outputs": [],
   "source": [
    "class Repairer(Repairer):\n",
    "    def run_test_set(self, test_set, validate=False):\n",
    "        \"\"\"Run given `test_set`\n",
    "        (`DifferenceDebugger.PASS` or `DifferenceDebugger.FAIL`).\n",
    "        If `validate` is set, check expectations.\n",
    "        Return number of passed tests.\"\"\"\n",
    "        passed = 0\n",
    "        collectors = self.debugger.collectors[test_set]\n",
    "        function = self.debugger.function()\n",
    "        # FIXME: function may have been redefined\n",
    "\n",
    "        for c in collectors:\n",
    "            if self.log >= 4:\n",
    "                print(f\"Testing {c.id()}...\", end=\"\")\n",
    "\n",
    "            try:\n",
    "                function(**c.args())\n",
    "            except Exception as err:\n",
    "                if self.log >= 4:\n",
    "                    print(f\"failed ({err.__class__.__name__})\")\n",
    "\n",
    "                if validate and test_set == self.debugger.PASS:\n",
    "                    raise err.__class__(\n",
    "                        f\"{c.id()} should have passed, but failed\")\n",
    "                continue\n",
    "\n",
    "            passed += 1\n",
    "            if self.log >= 4:\n",
    "                print(\"passed\")\n",
    "\n",
    "            if validate and test_set == self.debugger.FAIL:\n",
    "                raise FailureNotReproducedError(\n",
    "                    f\"{c.id()} should have failed, but passed\")\n",
    "\n",
    "        return passed"
   ]
  },
  {
   "cell_type": "code",
   "execution_count": 125,
   "metadata": {
    "execution": {
     "iopub.execute_input": "2021-02-28T15:41:59.734926Z",
     "iopub.status.busy": "2021-02-28T15:41:59.734414Z",
     "iopub.status.idle": "2021-02-28T15:41:59.735953Z",
     "shell.execute_reply": "2021-02-28T15:41:59.736383Z"
    },
    "slideshow": {
     "slide_type": "subslide"
    }
   },
   "outputs": [],
   "source": [
    "class FailureNotReproducedError(ValueError):\n",
    "    pass"
   ]
  },
  {
   "cell_type": "markdown",
   "metadata": {
    "slideshow": {
     "slide_type": "fragment"
    }
   },
   "source": [
    "Here is how we use `run_tests_set()`:"
   ]
  },
  {
   "cell_type": "code",
   "execution_count": 126,
   "metadata": {
    "execution": {
     "iopub.execute_input": "2021-02-28T15:41:59.741479Z",
     "iopub.status.busy": "2021-02-28T15:41:59.740033Z",
     "iopub.status.idle": "2021-02-28T15:41:59.743319Z",
     "shell.execute_reply": "2021-02-28T15:41:59.743695Z"
    },
    "slideshow": {
     "slide_type": "fragment"
    }
   },
   "outputs": [],
   "source": [
    "repairer = Repairer(middle_debugger)\n",
    "assert repairer.run_test_set(middle_debugger.PASS) == \\\n",
    "    len(MIDDLE_PASSING_TESTCASES)\n",
    "assert repairer.run_test_set(middle_debugger.FAIL) == 0"
   ]
  },
  {
   "cell_type": "markdown",
   "metadata": {
    "slideshow": {
     "slide_type": "fragment"
    }
   },
   "source": [
    "The method `run_tests()` runs passing and failing tests, weighing the passed testcases to obtain the overall fitness."
   ]
  },
  {
   "cell_type": "code",
   "execution_count": 127,
   "metadata": {
    "execution": {
     "iopub.execute_input": "2021-02-28T15:41:59.748943Z",
     "iopub.status.busy": "2021-02-28T15:41:59.748406Z",
     "iopub.status.idle": "2021-02-28T15:41:59.750056Z",
     "shell.execute_reply": "2021-02-28T15:41:59.750617Z"
    },
    "slideshow": {
     "slide_type": "subslide"
    }
   },
   "outputs": [],
   "source": [
    "class Repairer(Repairer):\n",
    "    def weight(self, test_set):\n",
    "        \"\"\"Return the weight of `test_set`\n",
    "        (`DifferenceDebugger.PASS` or `DifferenceDebugger.FAIL`).\n",
    "        \"\"\"\n",
    "        return {\n",
    "            self.debugger.PASS: WEIGHT_PASSING,\n",
    "            self.debugger.FAIL: WEIGHT_FAILING\n",
    "        }[test_set]\n",
    "\n",
    "    def run_tests(self, validate=False):\n",
    "        \"\"\"Run passing and failing tests, returning weighted fitness.\"\"\"\n",
    "        fitness = 0\n",
    "\n",
    "        for test_set in [self.debugger.PASS, self.debugger.FAIL]:\n",
    "            passed = self.run_test_set(test_set, validate=validate)\n",
    "            ratio = passed / len(self.debugger.collectors[test_set])\n",
    "            fitness += self.weight(test_set) * ratio\n",
    "\n",
    "        return fitness"
   ]
  },
  {
   "cell_type": "markdown",
   "metadata": {
    "slideshow": {
     "slide_type": "subslide"
    }
   },
   "source": [
    "The method `validate()` ensures the observed tests can be adequately reproduced."
   ]
  },
  {
   "cell_type": "code",
   "execution_count": 128,
   "metadata": {
    "execution": {
     "iopub.execute_input": "2021-02-28T15:41:59.755168Z",
     "iopub.status.busy": "2021-02-28T15:41:59.754431Z",
     "iopub.status.idle": "2021-02-28T15:41:59.756560Z",
     "shell.execute_reply": "2021-02-28T15:41:59.757206Z"
    },
    "slideshow": {
     "slide_type": "fragment"
    }
   },
   "outputs": [],
   "source": [
    "class Repairer(Repairer):\n",
    "    def validate(self):\n",
    "        fitness = self.run_tests(validate=True)\n",
    "        assert fitness == self.weight(self.debugger.PASS)"
   ]
  },
  {
   "cell_type": "code",
   "execution_count": 129,
   "metadata": {
    "execution": {
     "iopub.execute_input": "2021-02-28T15:41:59.763288Z",
     "iopub.status.busy": "2021-02-28T15:41:59.762516Z",
     "iopub.status.idle": "2021-02-28T15:41:59.764222Z",
     "shell.execute_reply": "2021-02-28T15:41:59.764761Z"
    },
    "slideshow": {
     "slide_type": "fragment"
    }
   },
   "outputs": [],
   "source": [
    "repairer = Repairer(middle_debugger)\n",
    "repairer.validate()"
   ]
  },
  {
   "cell_type": "markdown",
   "metadata": {
    "slideshow": {
     "slide_type": "subslide"
    }
   },
   "source": [
    "#### (Re)defining Functions\n",
    "\n",
    "Our `run_tests()` methods above do not yet redefine the function to be repaired. This is done by the `fitness()` function, which compiles and defines the given repair candidate `tree` before testing it.  It caches and returns the fitness."
   ]
  },
  {
   "cell_type": "code",
   "execution_count": 130,
   "metadata": {
    "execution": {
     "iopub.execute_input": "2021-02-28T15:41:59.774220Z",
     "iopub.status.busy": "2021-02-28T15:41:59.773607Z",
     "iopub.status.idle": "2021-02-28T15:41:59.775734Z",
     "shell.execute_reply": "2021-02-28T15:41:59.775355Z"
    },
    "slideshow": {
     "slide_type": "subslide"
    }
   },
   "outputs": [],
   "source": [
    "class Repairer(Repairer):\n",
    "    def fitness(self, tree):\n",
    "        \"\"\"Test `tree`, returning its fitness\"\"\"\n",
    "        key = ast.dump(tree)\n",
    "        if key in self.fitness_cache:\n",
    "            return self.fitness_cache[key]\n",
    "\n",
    "        # Save defs\n",
    "        original_defs = {}\n",
    "        for name in self.toplevel_defs(tree):\n",
    "            if name in self.globals:\n",
    "                original_defs[name] = self.globals[name]\n",
    "            else:\n",
    "                warnings.warn(f\"Couldn't find definition of {repr(name)}\")\n",
    "\n",
    "        assert original_defs, f\"Couldn't find any definition\"\n",
    "\n",
    "        if self.log >= 3:\n",
    "            print(\"Repair candidate:\")\n",
    "            print_content(astor.to_source(tree), '.py')\n",
    "            print()\n",
    "\n",
    "        # Create new definition\n",
    "        try:\n",
    "            code = compile(tree, '<Repairer>', 'exec')\n",
    "        except ValueError:  # Compilation error\n",
    "            code = None\n",
    "\n",
    "        if code is None:\n",
    "            if self.log >= 3:\n",
    "                print(f\"Fitness = 0.0 (compilation error)\")\n",
    "\n",
    "            fitness = 0.0\n",
    "            return fitness\n",
    "\n",
    "        # Execute new code, defining new functions in `self.globals`\n",
    "        exec(code, self.globals)\n",
    "\n",
    "        # Set new definitions in the namespace (`__globals__`)\n",
    "        # of the function we will be calling.\n",
    "        function = self.debugger.function()\n",
    "        for name in original_defs:\n",
    "            function.__globals__[name] = self.globals[name]\n",
    "\n",
    "        fitness = self.run_tests(validate=False)\n",
    "\n",
    "        # Restore definitions\n",
    "        for name in original_defs:\n",
    "            function.__globals__[name] = original_defs[name]\n",
    "            self.globals[name] = original_defs[name]\n",
    "\n",
    "        if self.log >= 3:\n",
    "            print(f\"Fitness = {fitness}\")\n",
    "\n",
    "        self.fitness_cache[key] = fitness\n",
    "        return fitness"
   ]
  },
  {
   "cell_type": "markdown",
   "metadata": {
    "slideshow": {
     "slide_type": "subslide"
    }
   },
   "source": [
    "The helper function `toplevel_defs()` helps saving and restoring the environment before and after redefining the function under repair."
   ]
  },
  {
   "cell_type": "code",
   "execution_count": 131,
   "metadata": {
    "execution": {
     "iopub.execute_input": "2021-02-28T15:41:59.780099Z",
     "iopub.status.busy": "2021-02-28T15:41:59.779496Z",
     "iopub.status.idle": "2021-02-28T15:41:59.782158Z",
     "shell.execute_reply": "2021-02-28T15:41:59.782578Z"
    },
    "slideshow": {
     "slide_type": "fragment"
    }
   },
   "outputs": [],
   "source": [
    "class Repairer(Repairer):\n",
    "    def toplevel_defs(self, tree):\n",
    "        \"\"\"Return a list of defined functions and classes in `tree`\"\"\"\n",
    "        visitor = DefinitionVisitor()\n",
    "        visitor.visit(tree)\n",
    "        return visitor.definitions"
   ]
  },
  {
   "cell_type": "code",
   "execution_count": 132,
   "metadata": {
    "execution": {
     "iopub.execute_input": "2021-02-28T15:41:59.787926Z",
     "iopub.status.busy": "2021-02-28T15:41:59.787090Z",
     "iopub.status.idle": "2021-02-28T15:41:59.788916Z",
     "shell.execute_reply": "2021-02-28T15:41:59.789323Z"
    },
    "slideshow": {
     "slide_type": "subslide"
    }
   },
   "outputs": [],
   "source": [
    "class DefinitionVisitor(NodeVisitor):\n",
    "    def __init__(self):\n",
    "        self.definitions = []\n",
    "\n",
    "    def add_definition(self, node):\n",
    "        self.definitions.append(node.name)\n",
    "\n",
    "    def visit_FunctionDef(self, node):\n",
    "        self.add_definition(node)\n",
    "\n",
    "    def visit_AsyncFunctionDef(self, node):\n",
    "        self.add_definition(node)\n",
    "\n",
    "    def visit_Class(self, node):\n",
    "        self.add_definition(node)"
   ]
  },
  {
   "cell_type": "markdown",
   "metadata": {
    "slideshow": {
     "slide_type": "subslide"
    }
   },
   "source": [
    "Here's an example for `fitness()`:"
   ]
  },
  {
   "cell_type": "code",
   "execution_count": 133,
   "metadata": {
    "execution": {
     "iopub.execute_input": "2021-02-28T15:41:59.799637Z",
     "iopub.status.busy": "2021-02-28T15:41:59.793555Z",
     "iopub.status.idle": "2021-02-28T15:41:59.802232Z",
     "shell.execute_reply": "2021-02-28T15:41:59.802674Z"
    },
    "slideshow": {
     "slide_type": "subslide"
    }
   },
   "outputs": [
    {
     "name": "stdout",
     "output_type": "stream",
     "text": [
      "Target code to be repaired:\n",
      "\u001b[34mdef\u001b[39;49;00m \u001b[32mmiddle\u001b[39;49;00m(x, y, z):\n",
      "    \u001b[34mif\u001b[39;49;00m y < z:\n",
      "        \u001b[34mif\u001b[39;49;00m x < y:\n",
      "            \u001b[34mreturn\u001b[39;49;00m y\n",
      "        \u001b[34melif\u001b[39;49;00m x < z:\n",
      "            \u001b[34mreturn\u001b[39;49;00m y\n",
      "    \u001b[34melif\u001b[39;49;00m x > y:\n",
      "        \u001b[34mreturn\u001b[39;49;00m y\n",
      "    \u001b[34melif\u001b[39;49;00m x > z:\n",
      "        \u001b[34mreturn\u001b[39;49;00m x\n",
      "    \u001b[34mreturn\u001b[39;49;00m z\n",
      "\n"
     ]
    }
   ],
   "source": [
    "repairer = Repairer(middle_debugger, log=4)"
   ]
  },
  {
   "cell_type": "code",
   "execution_count": 134,
   "metadata": {
    "execution": {
     "iopub.execute_input": "2021-02-28T15:41:59.813342Z",
     "iopub.status.busy": "2021-02-28T15:41:59.806168Z",
     "iopub.status.idle": "2021-02-28T15:41:59.822894Z",
     "shell.execute_reply": "2021-02-28T15:41:59.823270Z"
    },
    "slideshow": {
     "slide_type": "subslide"
    }
   },
   "outputs": [
    {
     "name": "stdout",
     "output_type": "stream",
     "text": [
      "Repair candidate:\n",
      "\u001b[34mdef\u001b[39;49;00m \u001b[32mmiddle\u001b[39;49;00m(x, y, z):\n",
      "    \u001b[34mif\u001b[39;49;00m y < z:\n",
      "        \u001b[34mif\u001b[39;49;00m x < y:\n",
      "            \u001b[34mreturn\u001b[39;49;00m y\n",
      "        \u001b[34melif\u001b[39;49;00m x < z:\n",
      "            \u001b[34mreturn\u001b[39;49;00m y\n",
      "    \u001b[34melif\u001b[39;49;00m x > y:\n",
      "        \u001b[34mreturn\u001b[39;49;00m y\n",
      "    \u001b[34melif\u001b[39;49;00m x > z:\n",
      "        \u001b[34mreturn\u001b[39;49;00m x\n",
      "    \u001b[34mreturn\u001b[39;49;00m z\n",
      "Testing middle_test(z=4, y=5, x=7)...passed\n",
      "Testing middle_test(z=2, y=6, x=6)...passed\n",
      "Testing middle_test(z=4, y=6, x=7)...passed\n",
      "Testing middle_test(z=7, y=7, x=0)...passed\n",
      "Testing middle_test(z=7, y=9, x=3)...passed\n",
      "Testing middle_test(z=8, y=3, x=2)...passed\n",
      "Testing middle_test(z=3, y=6, x=2)...passed\n",
      "Testing middle_test(z=4, y=8, x=2)...passed\n",
      "Testing middle_test(z=5, y=7, x=8)...passed\n",
      "Testing middle_test(z=6, y=0, x=0)...passed\n",
      "Testing middle_test(z=5, y=2, x=5)...passed\n",
      "Testing middle_test(z=9, y=6, x=9)...passed\n",
      "Testing middle_test(z=5, y=5, x=8)...passed\n",
      "Testing middle_test(z=0, y=7, x=1)...passed\n",
      "Testing middle_test(z=4, y=4, x=0)...passed\n",
      "Testing middle_test(z=5, y=7, x=8)...passed\n",
      "Testing middle_test(z=5, y=1, x=7)...passed\n",
      "Testing middle_test(z=3, y=5, x=3)...passed\n",
      "Testing middle_test(z=2, y=3, x=6)...passed\n",
      "Testing middle_test(z=8, y=9, x=3)...passed\n",
      "Testing middle_test(z=8, y=3, x=1)...passed\n",
      "Testing middle_test(z=1, y=9, x=5)...passed\n",
      "Testing middle_test(z=7, y=5, x=5)...passed\n",
      "Testing middle_test(z=3, y=0, x=9)...passed\n",
      "Testing middle_test(z=3, y=6, x=5)...passed\n",
      "Testing middle_test(z=8, y=9, x=7)...passed\n",
      "Testing middle_test(z=3, y=2, x=2)...passed\n",
      "Testing middle_test(z=1, y=8, x=1)...passed\n",
      "Testing middle_test(z=3, y=3, x=3)...passed\n",
      "Testing middle_test(z=6, y=3, x=7)...passed\n",
      "Testing middle_test(z=6, y=7, x=3)...passed\n",
      "Testing middle_test(z=1, y=3, x=2)...passed\n",
      "Testing middle_test(z=6, y=0, x=8)...passed\n",
      "Testing middle_test(z=0, y=4, x=5)...passed\n",
      "Testing middle_test(z=2, y=9, x=5)...passed\n",
      "Testing middle_test(z=1, y=7, x=6)...passed\n",
      "Testing middle_test(z=7, y=1, x=1)...passed\n",
      "Testing middle_test(z=8, y=6, x=1)...passed\n",
      "Testing middle_test(z=1, y=9, x=0)...passed\n",
      "Testing middle_test(z=7, y=9, x=5)...passed\n",
      "Testing middle_test(z=6, y=5, x=1)...passed\n",
      "Testing middle_test(z=1, y=6, x=1)...passed\n",
      "Testing middle_test(z=4, y=8, x=7)...passed\n",
      "Testing middle_test(z=4, y=8, x=2)...passed\n",
      "Testing middle_test(z=3, y=4, x=3)...passed\n",
      "Testing middle_test(z=5, y=4, x=8)...passed\n",
      "Testing middle_test(z=8, y=5, x=0)...passed\n",
      "Testing middle_test(z=0, y=7, x=9)...passed\n",
      "Testing middle_test(z=4, y=5, x=1)...passed\n",
      "Testing middle_test(z=9, y=8, x=9)...passed\n",
      "Testing middle_test(z=4, y=2, x=9)...passed\n",
      "Testing middle_test(z=0, y=2, x=3)...passed\n",
      "Testing middle_test(z=2, y=5, x=8)...passed\n",
      "Testing middle_test(z=7, y=9, x=4)...passed\n",
      "Testing middle_test(z=0, y=8, x=4)...passed\n",
      "Testing middle_test(z=1, y=9, x=5)...passed\n",
      "Testing middle_test(z=4, y=6, x=7)...passed\n",
      "Testing middle_test(z=2, y=9, x=8)...passed\n",
      "Testing middle_test(z=4, y=1, x=9)...passed\n",
      "Testing middle_test(z=2, y=7, x=9)...passed\n",
      "Testing middle_test(z=5, y=9, x=1)...passed\n",
      "Testing middle_test(z=1, y=9, x=1)...passed\n",
      "Testing middle_test(z=0, y=8, x=7)...passed\n",
      "Testing middle_test(z=6, y=8, x=4)...passed\n",
      "Testing middle_test(z=1, y=2, x=9)...passed\n",
      "Testing middle_test(z=5, y=4, x=9)...passed\n",
      "Testing middle_test(z=2, y=4, x=0)...passed\n",
      "Testing middle_test(z=4, y=8, x=6)...passed\n",
      "Testing middle_test(z=1, y=0, x=0)...passed\n",
      "Testing middle_test(z=3, y=4, x=6)...passed\n",
      "Testing middle_test(z=3, y=0, x=8)...passed\n",
      "Testing middle_test(z=1, y=5, x=9)...passed\n",
      "Testing middle_test(z=6, y=6, x=7)...passed\n",
      "Testing middle_test(z=0, y=6, x=4)...passed\n",
      "Testing middle_test(z=0, y=1, x=1)...passed\n",
      "Testing middle_test(z=1, y=4, x=8)...passed\n",
      "Testing middle_test(z=2, y=6, x=1)...passed\n",
      "Testing middle_test(z=1, y=5, x=4)...passed\n",
      "Testing middle_test(z=6, y=1, x=1)...passed\n",
      "Testing middle_test(z=1, y=2, x=1)...passed\n",
      "Testing middle_test(z=2, y=4, x=2)...passed\n",
      "Testing middle_test(z=3, y=3, x=7)...passed\n",
      "Testing middle_test(z=4, y=7, x=2)...passed\n",
      "Testing middle_test(z=0, y=8, x=0)...passed\n",
      "Testing middle_test(z=4, y=6, x=4)...passed\n",
      "Testing middle_test(z=2, y=5, x=1)...passed\n",
      "Testing middle_test(z=2, y=8, x=0)...passed\n",
      "Testing middle_test(z=6, y=5, x=3)...passed\n",
      "Testing middle_test(z=4, y=2, x=7)...passed\n",
      "Testing middle_test(z=5, y=4, x=5)...passed\n",
      "Testing middle_test(z=4, y=3, x=2)...passed\n",
      "Testing middle_test(z=4, y=2, x=2)...passed\n",
      "Testing middle_test(z=2, y=6, x=3)...passed\n",
      "Testing middle_test(z=0, y=4, x=9)...passed\n",
      "Testing middle_test(z=0, y=7, x=7)...passed\n",
      "Testing middle_test(z=8, y=9, x=4)...passed\n",
      "Testing middle_test(z=4, y=8, x=3)...passed\n",
      "Testing middle_test(z=5, y=3, x=3)...passed\n",
      "Testing middle_test(z=2, y=2, x=3)...passed\n",
      "Testing middle_test(z=1, y=8, x=8)...passed\n",
      "Testing middle_test(z=5, y=1, x=2)...failed (AssertionError)\n",
      "Testing middle_test(z=9, y=2, x=5)...failed (AssertionError)\n",
      "Testing middle_test(z=3, y=1, x=2)...failed (AssertionError)\n",
      "Testing middle_test(z=7, y=0, x=3)...failed (AssertionError)\n",
      "Testing middle_test(z=6, y=1, x=4)...failed (AssertionError)\n",
      "Testing middle_test(z=9, y=0, x=2)...failed (AssertionError)\n",
      "Testing middle_test(z=7, y=3, x=4)...failed (AssertionError)\n",
      "Testing middle_test(z=8, y=3, x=5)...failed (AssertionError)\n",
      "Testing middle_test(z=9, y=0, x=6)...failed (AssertionError)\n",
      "Testing middle_test(z=4, y=0, x=2)...failed (AssertionError)\n",
      "Testing middle_test(z=5, y=0, x=4)...failed (AssertionError)\n",
      "Testing middle_test(z=9, y=5, x=6)...failed (AssertionError)\n",
      "Testing middle_test(z=9, y=3, x=5)...failed (AssertionError)\n",
      "Testing middle_test(z=9, y=0, x=7)...failed (AssertionError)\n",
      "Testing middle_test(z=9, y=3, x=5)...failed (AssertionError)\n",
      "Testing middle_test(z=6, y=1, x=2)...failed (AssertionError)\n",
      "Testing middle_test(z=4, y=2, x=3)...failed (AssertionError)\n",
      "Testing middle_test(z=5, y=1, x=2)...failed (AssertionError)\n",
      "Testing middle_test(z=6, y=2, x=3)...failed (AssertionError)\n",
      "Testing middle_test(z=7, y=4, x=6)...failed (AssertionError)\n",
      "Testing middle_test(z=6, y=2, x=5)...failed (AssertionError)\n",
      "Testing middle_test(z=5, y=2, x=4)...failed (AssertionError)\n",
      "Testing middle_test(z=9, y=2, x=6)...failed (AssertionError)\n",
      "Testing middle_test(z=8, y=2, x=4)...failed (AssertionError)\n",
      "Testing middle_test(z=3, y=0, x=2)...failed (AssertionError)\n",
      "Testing middle_test(z=5, y=1, x=2)...failed (AssertionError)\n",
      "Testing middle_test(z=9, y=1, x=2)...failed (AssertionError)\n",
      "Testing middle_test(z=9, y=6, x=7)...failed (AssertionError)\n",
      "Testing middle_test(z=9, y=0, x=6)...failed (AssertionError)\n",
      "Testing middle_test(z=9, y=6, x=7)...failed (AssertionError)\n",
      "Testing middle_test(z=9, y=6, x=8)...failed (AssertionError)\n",
      "Testing middle_test(z=9, y=6, x=7)...failed (AssertionError)\n",
      "Testing middle_test(z=2, y=0, x=1)...failed (AssertionError)\n",
      "Testing middle_test(z=3, y=0, x=1)...failed (AssertionError)\n",
      "Testing middle_test(z=7, y=2, x=3)...failed (AssertionError)\n",
      "Testing middle_test(z=9, y=5, x=6)...failed (AssertionError)\n",
      "Testing middle_test(z=3, y=0, x=1)...failed (AssertionError)\n",
      "Testing middle_test(z=7, y=4, x=6)...failed (AssertionError)\n",
      "Testing middle_test(z=9, y=7, x=8)...failed (AssertionError)\n",
      "Testing middle_test(z=4, y=0, x=2)...failed (AssertionError)\n",
      "Testing middle_test(z=7, y=1, x=5)...failed (AssertionError)\n",
      "Testing middle_test(z=9, y=4, x=6)...failed (AssertionError)\n",
      "Testing middle_test(z=9, y=0, x=8)...failed (AssertionError)\n",
      "Testing middle_test(z=4, y=1, x=2)...failed (AssertionError)\n",
      "Testing middle_test(z=8, y=1, x=4)...failed (AssertionError)\n",
      "Testing middle_test(z=4, y=0, x=3)...failed (AssertionError)\n",
      "Testing middle_test(z=5, y=1, x=3)...failed (AssertionError)\n",
      "Testing middle_test(z=8, y=5, x=7)...failed (AssertionError)\n",
      "Testing middle_test(z=9, y=2, x=6)...failed (AssertionError)\n",
      "Testing middle_test(z=4, y=0, x=2)...failed (AssertionError)\n",
      "Testing middle_test(z=9, y=6, x=7)...failed (AssertionError)\n",
      "Testing middle_test(z=6, y=1, x=2)...failed (AssertionError)\n",
      "Testing middle_test(z=8, y=0, x=3)...failed (AssertionError)\n",
      "Testing middle_test(z=8, y=3, x=5)...failed (AssertionError)\n",
      "Testing middle_test(z=9, y=0, x=5)...failed (AssertionError)\n",
      "Testing middle_test(z=9, y=0, x=4)...failed (AssertionError)\n",
      "Testing middle_test(z=8, y=5, x=7)...failed (AssertionError)\n",
      "Testing middle_test(z=7, y=2, x=4)...failed (AssertionError)\n",
      "Testing middle_test(z=6, y=1, x=3)...failed (AssertionError)\n",
      "Testing middle_test(z=4, y=0, x=2)...failed (AssertionError)\n",
      "Testing middle_test(z=8, y=0, x=4)...failed (AssertionError)\n",
      "Testing middle_test(z=8, y=1, x=2)...failed (AssertionError)\n",
      "Testing middle_test(z=9, y=3, x=5)...failed (AssertionError)\n",
      "Testing middle_test(z=5, y=3, x=4)...failed (AssertionError)\n",
      "Testing middle_test(z=9, y=4, x=6)...failed (AssertionError)\n",
      "Testing middle_test(z=8, y=6, x=7)...failed (AssertionError)\n",
      "Testing middle_test(z=9, y=1, x=3)...failed (AssertionError)\n",
      "Testing middle_test(z=7, y=2, x=4)...failed (AssertionError)\n",
      "Testing middle_test(z=6, y=0, x=1)...failed (AssertionError)\n",
      "Testing middle_test(z=5, y=0, x=1)...failed (AssertionError)\n",
      "Testing middle_test(z=9, y=0, x=7)...failed (AssertionError)\n",
      "Testing middle_test(z=7, y=0, x=4)...failed (AssertionError)\n",
      "Testing middle_test(z=9, y=2, x=3)...failed (AssertionError)\n",
      "Testing middle_test(z=6, y=1, x=4)...failed (AssertionError)\n",
      "Testing middle_test(z=9, y=2, x=5)...failed (AssertionError)\n",
      "Testing middle_test(z=9, y=0, x=8)...failed (AssertionError)\n",
      "Testing middle_test(z=9, y=1, x=2)...failed (AssertionError)\n",
      "Testing middle_test(z=6, y=3, x=4)...failed (AssertionError)\n",
      "Testing middle_test(z=9, y=0, x=6)...failed (AssertionError)\n",
      "Testing middle_test(z=4, y=1, x=3)...failed (AssertionError)\n",
      "Testing middle_test(z=8, y=6, x=7)...failed (AssertionError)\n",
      "Testing middle_test(z=7, y=1, x=6)...failed (AssertionError)\n",
      "Testing middle_test(z=7, y=2, x=6)...failed (AssertionError)\n",
      "Testing middle_test(z=9, y=0, x=3)...failed (AssertionError)\n",
      "Testing middle_test(z=9, y=4, x=5)...failed (AssertionError)\n",
      "Testing middle_test(z=9, y=6, x=8)...failed (AssertionError)\n",
      "Testing middle_test(z=6, y=3, x=5)...failed (AssertionError)\n",
      "Testing middle_test(z=7, y=1, x=2)...failed (AssertionError)\n",
      "Testing middle_test(z=5, y=0, x=3)...failed (AssertionError)\n",
      "Testing middle_test(z=8, y=1, x=6)...failed (AssertionError)\n",
      "Testing middle_test(z=5, y=0, x=2)...failed (AssertionError)\n",
      "Testing middle_test(z=9, y=0, x=2)...failed (AssertionError)\n",
      "Testing middle_test(z=8, y=5, x=6)...failed (AssertionError)\n",
      "Testing middle_test(z=4, y=0, x=2)...failed (AssertionError)\n",
      "Testing middle_test(z=9, y=0, x=5)...failed (AssertionError)\n",
      "Testing middle_test(z=9, y=0, x=1)...failed (AssertionError)\n",
      "Testing middle_test(z=6, y=1, x=3)...failed (AssertionError)\n",
      "Testing middle_test(z=5, y=1, x=3)...failed (AssertionError)\n",
      "Testing middle_test(z=9, y=1, x=5)...failed (AssertionError)\n",
      "Testing middle_test(z=7, y=2, x=6)...failed (AssertionError)\n",
      "Fitness = 0.99\n"
     ]
    },
    {
     "data": {
      "text/plain": [
       "0.99"
      ]
     },
     "execution_count": 1,
     "metadata": {},
     "output_type": "execute_result"
    }
   ],
   "source": [
    "good_fitness = repairer.fitness(middle_tree())\n",
    "good_fitness"
   ]
  },
  {
   "cell_type": "code",
   "execution_count": 135,
   "metadata": {
    "execution": {
     "iopub.execute_input": "2021-02-28T15:41:59.827038Z",
     "iopub.status.busy": "2021-02-28T15:41:59.826475Z",
     "iopub.status.idle": "2021-02-28T15:41:59.828510Z",
     "shell.execute_reply": "2021-02-28T15:41:59.828892Z"
    },
    "slideshow": {
     "slide_type": "subslide"
    }
   },
   "outputs": [],
   "source": [
    "# ignore\n",
    "assert good_fitness >= 0.99, \"fitness() failed\""
   ]
  },
  {
   "cell_type": "code",
   "execution_count": 136,
   "metadata": {
    "execution": {
     "iopub.execute_input": "2021-02-28T15:41:59.839855Z",
     "iopub.status.busy": "2021-02-28T15:41:59.839036Z",
     "iopub.status.idle": "2021-02-28T15:41:59.869046Z",
     "shell.execute_reply": "2021-02-28T15:41:59.869671Z"
    },
    "slideshow": {
     "slide_type": "subslide"
    }
   },
   "outputs": [
    {
     "name": "stdout",
     "output_type": "stream",
     "text": [
      "Repair candidate:\n",
      "\u001b[34mdef\u001b[39;49;00m \u001b[32mmiddle\u001b[39;49;00m(x, y, z):\n",
      "    \u001b[34mreturn\u001b[39;49;00m x\n",
      "Testing middle_test(z=4, y=5, x=7)...failed (AssertionError)\n",
      "Testing middle_test(z=2, y=6, x=6)...passed\n",
      "Testing middle_test(z=4, y=6, x=7)...failed (AssertionError)\n",
      "Testing middle_test(z=7, y=7, x=0)...failed (AssertionError)\n",
      "Testing middle_test(z=7, y=9, x=3)...failed (AssertionError)\n",
      "Testing middle_test(z=8, y=3, x=2)...failed (AssertionError)\n",
      "Testing middle_test(z=3, y=6, x=2)...failed (AssertionError)\n",
      "Testing middle_test(z=4, y=8, x=2)...failed (AssertionError)\n",
      "Testing middle_test(z=5, y=7, x=8)...failed (AssertionError)\n",
      "Testing middle_test(z=6, y=0, x=0)...passed\n",
      "Testing middle_test(z=5, y=2, x=5)...passed\n",
      "Testing middle_test(z=9, y=6, x=9)...passed\n",
      "Testing middle_test(z=5, y=5, x=8)...failed (AssertionError)\n",
      "Testing middle_test(z=0, y=7, x=1)...passed\n",
      "Testing middle_test(z=4, y=4, x=0)...failed (AssertionError)\n",
      "Testing middle_test(z=5, y=7, x=8)...failed (AssertionError)\n",
      "Testing middle_test(z=5, y=1, x=7)...failed (AssertionError)\n",
      "Testing middle_test(z=3, y=5, x=3)...passed\n",
      "Testing middle_test(z=2, y=3, x=6)...failed (AssertionError)\n",
      "Testing middle_test(z=8, y=9, x=3)...failed (AssertionError)\n",
      "Testing middle_test(z=8, y=3, x=1)...failed (AssertionError)\n",
      "Testing middle_test(z=1, y=9, x=5)...passed\n",
      "Testing middle_test(z=7, y=5, x=5)...passed\n",
      "Testing middle_test(z=3, y=0, x=9)...failed (AssertionError)\n",
      "Testing middle_test(z=3, y=6, x=5)...passed\n",
      "Testing middle_test(z=8, y=9, x=7)...failed (AssertionError)\n",
      "Testing middle_test(z=3, y=2, x=2)...passed\n",
      "Testing middle_test(z=1, y=8, x=1)...passed\n",
      "Testing middle_test(z=3, y=3, x=3)...passed\n",
      "Testing middle_test(z=6, y=3, x=7)...failed (AssertionError)\n",
      "Testing middle_test(z=6, y=7, x=3)...failed (AssertionError)\n",
      "Testing middle_test(z=1, y=3, x=2)...passed\n",
      "Testing middle_test(z=6, y=0, x=8)...failed (AssertionError)\n",
      "Testing middle_test(z=0, y=4, x=5)...failed (AssertionError)\n",
      "Testing middle_test(z=2, y=9, x=5)...passed\n",
      "Testing middle_test(z=1, y=7, x=6)...passed\n",
      "Testing middle_test(z=7, y=1, x=1)...passed\n",
      "Testing middle_test(z=8, y=6, x=1)...failed (AssertionError)\n",
      "Testing middle_test(z=1, y=9, x=0)...failed (AssertionError)\n",
      "Testing middle_test(z=7, y=9, x=5)...failed (AssertionError)\n",
      "Testing middle_test(z=6, y=5, x=1)...failed (AssertionError)\n",
      "Testing middle_test(z=1, y=6, x=1)...passed\n",
      "Testing middle_test(z=4, y=8, x=7)...passed\n",
      "Testing middle_test(z=4, y=8, x=2)...failed (AssertionError)\n",
      "Testing middle_test(z=3, y=4, x=3)...passed\n",
      "Testing middle_test(z=5, y=4, x=8)...failed (AssertionError)\n",
      "Testing middle_test(z=8, y=5, x=0)...failed (AssertionError)\n",
      "Testing middle_test(z=0, y=7, x=9)...failed (AssertionError)\n",
      "Testing middle_test(z=4, y=5, x=1)...failed (AssertionError)\n",
      "Testing middle_test(z=9, y=8, x=9)...passed\n",
      "Testing middle_test(z=4, y=2, x=9)...failed (AssertionError)\n",
      "Testing middle_test(z=0, y=2, x=3)...failed (AssertionError)\n",
      "Testing middle_test(z=2, y=5, x=8)...failed (AssertionError)\n",
      "Testing middle_test(z=7, y=9, x=4)...failed (AssertionError)\n",
      "Testing middle_test(z=0, y=8, x=4)...passed\n",
      "Testing middle_test(z=1, y=9, x=5)...passed\n",
      "Testing middle_test(z=4, y=6, x=7)...failed (AssertionError)\n",
      "Testing middle_test(z=2, y=9, x=8)...passed\n",
      "Testing middle_test(z=4, y=1, x=9)...failed (AssertionError)\n",
      "Testing middle_test(z=2, y=7, x=9)...failed (AssertionError)\n",
      "Testing middle_test(z=5, y=9, x=1)...failed (AssertionError)\n",
      "Testing middle_test(z=1, y=9, x=1)...passed\n",
      "Testing middle_test(z=0, y=8, x=7)...passed\n",
      "Testing middle_test(z=6, y=8, x=4)...failed (AssertionError)\n",
      "Testing middle_test(z=1, y=2, x=9)...failed (AssertionError)\n",
      "Testing middle_test(z=5, y=4, x=9)...failed (AssertionError)\n",
      "Testing middle_test(z=2, y=4, x=0)...failed (AssertionError)\n",
      "Testing middle_test(z=4, y=8, x=6)...passed\n",
      "Testing middle_test(z=1, y=0, x=0)...passed\n",
      "Testing middle_test(z=3, y=4, x=6)...failed (AssertionError)\n",
      "Testing middle_test(z=3, y=0, x=8)...failed (AssertionError)\n",
      "Testing middle_test(z=1, y=5, x=9)...failed (AssertionError)\n",
      "Testing middle_test(z=6, y=6, x=7)...failed (AssertionError)\n",
      "Testing middle_test(z=0, y=6, x=4)...passed\n",
      "Testing middle_test(z=0, y=1, x=1)...passed\n",
      "Testing middle_test(z=1, y=4, x=8)...failed (AssertionError)\n",
      "Testing middle_test(z=2, y=6, x=1)...failed (AssertionError)\n",
      "Testing middle_test(z=1, y=5, x=4)...passed\n",
      "Testing middle_test(z=6, y=1, x=1)...passed\n",
      "Testing middle_test(z=1, y=2, x=1)...passed\n",
      "Testing middle_test(z=2, y=4, x=2)...passed\n",
      "Testing middle_test(z=3, y=3, x=7)...failed (AssertionError)\n",
      "Testing middle_test(z=4, y=7, x=2)...failed (AssertionError)\n",
      "Testing middle_test(z=0, y=8, x=0)...passed\n",
      "Testing middle_test(z=4, y=6, x=4)...passed\n",
      "Testing middle_test(z=2, y=5, x=1)...failed (AssertionError)\n",
      "Testing middle_test(z=2, y=8, x=0)...failed (AssertionError)\n",
      "Testing middle_test(z=6, y=5, x=3)...failed (AssertionError)\n",
      "Testing middle_test(z=4, y=2, x=7)...failed (AssertionError)\n",
      "Testing middle_test(z=5, y=4, x=5)...passed\n",
      "Testing middle_test(z=4, y=3, x=2)...failed (AssertionError)\n",
      "Testing middle_test(z=4, y=2, x=2)...passed\n",
      "Testing middle_test(z=2, y=6, x=3)...passed\n",
      "Testing middle_test(z=0, y=4, x=9)...failed (AssertionError)\n",
      "Testing middle_test(z=0, y=7, x=7)...passed\n",
      "Testing middle_test(z=8, y=9, x=4)...failed (AssertionError)\n",
      "Testing middle_test(z=4, y=8, x=3)...failed (AssertionError)\n",
      "Testing middle_test(z=5, y=3, x=3)...passed\n",
      "Testing middle_test(z=2, y=2, x=3)...failed (AssertionError)\n",
      "Testing middle_test(z=1, y=8, x=8)...passed\n",
      "Testing middle_test(z=5, y=1, x=2)...passed\n",
      "Testing middle_test(z=9, y=2, x=5)...passed\n",
      "Testing middle_test(z=3, y=1, x=2)...passed\n",
      "Testing middle_test(z=7, y=0, x=3)...passed\n",
      "Testing middle_test(z=6, y=1, x=4)...passed\n",
      "Testing middle_test(z=9, y=0, x=2)...passed\n",
      "Testing middle_test(z=7, y=3, x=4)...passed\n",
      "Testing middle_test(z=8, y=3, x=5)...passed\n",
      "Testing middle_test(z=9, y=0, x=6)...passed\n",
      "Testing middle_test(z=4, y=0, x=2)...passed\n",
      "Testing middle_test(z=5, y=0, x=4)...passed\n",
      "Testing middle_test(z=9, y=5, x=6)...passed\n",
      "Testing middle_test(z=9, y=3, x=5)...passed\n",
      "Testing middle_test(z=9, y=0, x=7)...passed\n",
      "Testing middle_test(z=9, y=3, x=5)...passed\n",
      "Testing middle_test(z=6, y=1, x=2)...passed\n",
      "Testing middle_test(z=4, y=2, x=3)...passed\n",
      "Testing middle_test(z=5, y=1, x=2)...passed\n",
      "Testing middle_test(z=6, y=2, x=3)...passed\n",
      "Testing middle_test(z=7, y=4, x=6)...passed\n",
      "Testing middle_test(z=6, y=2, x=5)...passed\n",
      "Testing middle_test(z=5, y=2, x=4)...passed\n",
      "Testing middle_test(z=9, y=2, x=6)...passed\n",
      "Testing middle_test(z=8, y=2, x=4)...passed\n",
      "Testing middle_test(z=3, y=0, x=2)...passed\n",
      "Testing middle_test(z=5, y=1, x=2)...passed\n",
      "Testing middle_test(z=9, y=1, x=2)...passed\n",
      "Testing middle_test(z=9, y=6, x=7)...passed\n",
      "Testing middle_test(z=9, y=0, x=6)...passed\n",
      "Testing middle_test(z=9, y=6, x=7)...passed\n",
      "Testing middle_test(z=9, y=6, x=8)...passed\n",
      "Testing middle_test(z=9, y=6, x=7)...passed\n",
      "Testing middle_test(z=2, y=0, x=1)...passed\n",
      "Testing middle_test(z=3, y=0, x=1)...passed\n",
      "Testing middle_test(z=7, y=2, x=3)...passed\n",
      "Testing middle_test(z=9, y=5, x=6)...passed\n",
      "Testing middle_test(z=3, y=0, x=1)...passed\n",
      "Testing middle_test(z=7, y=4, x=6)...passed\n",
      "Testing middle_test(z=9, y=7, x=8)...passed\n",
      "Testing middle_test(z=4, y=0, x=2)...passed\n",
      "Testing middle_test(z=7, y=1, x=5)...passed\n",
      "Testing middle_test(z=9, y=4, x=6)...passed\n",
      "Testing middle_test(z=9, y=0, x=8)...passed\n",
      "Testing middle_test(z=4, y=1, x=2)...passed\n",
      "Testing middle_test(z=8, y=1, x=4)...passed\n",
      "Testing middle_test(z=4, y=0, x=3)...passed\n",
      "Testing middle_test(z=5, y=1, x=3)...passed\n",
      "Testing middle_test(z=8, y=5, x=7)...passed\n",
      "Testing middle_test(z=9, y=2, x=6)...passed\n",
      "Testing middle_test(z=4, y=0, x=2)...passed\n",
      "Testing middle_test(z=9, y=6, x=7)...passed\n",
      "Testing middle_test(z=6, y=1, x=2)...passed\n",
      "Testing middle_test(z=8, y=0, x=3)...passed\n",
      "Testing middle_test(z=8, y=3, x=5)...passed\n",
      "Testing middle_test(z=9, y=0, x=5)...passed\n",
      "Testing middle_test(z=9, y=0, x=4)...passed\n",
      "Testing middle_test(z=8, y=5, x=7)...passed\n",
      "Testing middle_test(z=7, y=2, x=4)...passed\n",
      "Testing middle_test(z=6, y=1, x=3)...passed\n",
      "Testing middle_test(z=4, y=0, x=2)...passed\n",
      "Testing middle_test(z=8, y=0, x=4)...passed\n",
      "Testing middle_test(z=8, y=1, x=2)...passed\n",
      "Testing middle_test(z=9, y=3, x=5)...passed\n",
      "Testing middle_test(z=5, y=3, x=4)...passed\n",
      "Testing middle_test(z=9, y=4, x=6)...passed\n",
      "Testing middle_test(z=8, y=6, x=7)...passed\n",
      "Testing middle_test(z=9, y=1, x=3)...passed\n",
      "Testing middle_test(z=7, y=2, x=4)...passed\n",
      "Testing middle_test(z=6, y=0, x=1)...passed\n",
      "Testing middle_test(z=5, y=0, x=1)...passed\n",
      "Testing middle_test(z=9, y=0, x=7)...passed\n",
      "Testing middle_test(z=7, y=0, x=4)...passed\n",
      "Testing middle_test(z=9, y=2, x=3)...passed\n",
      "Testing middle_test(z=6, y=1, x=4)...passed\n",
      "Testing middle_test(z=9, y=2, x=5)...passed\n",
      "Testing middle_test(z=9, y=0, x=8)...passed\n",
      "Testing middle_test(z=9, y=1, x=2)...passed\n",
      "Testing middle_test(z=6, y=3, x=4)...passed\n",
      "Testing middle_test(z=9, y=0, x=6)...passed\n",
      "Testing middle_test(z=4, y=1, x=3)...passed\n",
      "Testing middle_test(z=8, y=6, x=7)...passed\n",
      "Testing middle_test(z=7, y=1, x=6)...passed\n",
      "Testing middle_test(z=7, y=2, x=6)...passed\n",
      "Testing middle_test(z=9, y=0, x=3)...passed\n",
      "Testing middle_test(z=9, y=4, x=5)...passed\n",
      "Testing middle_test(z=9, y=6, x=8)...passed\n",
      "Testing middle_test(z=6, y=3, x=5)...passed\n",
      "Testing middle_test(z=7, y=1, x=2)...passed\n",
      "Testing middle_test(z=5, y=0, x=3)...passed\n",
      "Testing middle_test(z=8, y=1, x=6)...passed\n",
      "Testing middle_test(z=5, y=0, x=2)...passed\n",
      "Testing middle_test(z=9, y=0, x=2)...passed\n",
      "Testing middle_test(z=8, y=5, x=6)...passed\n",
      "Testing middle_test(z=4, y=0, x=2)...passed\n",
      "Testing middle_test(z=9, y=0, x=5)...passed\n",
      "Testing middle_test(z=9, y=0, x=1)...passed\n",
      "Testing middle_test(z=6, y=1, x=3)...passed\n",
      "Testing middle_test(z=5, y=1, x=3)...passed\n",
      "Testing middle_test(z=9, y=1, x=5)...passed\n",
      "Testing middle_test(z=7, y=2, x=6)...passed\n",
      "Fitness = 0.4159\n"
     ]
    },
    {
     "data": {
      "text/plain": [
       "0.4159"
      ]
     },
     "execution_count": 1,
     "metadata": {},
     "output_type": "execute_result"
    }
   ],
   "source": [
    "bad_middle_tree = ast.parse(\"def middle(x, y, z): return x\")\n",
    "bad_fitness = repairer.fitness(bad_middle_tree)\n",
    "bad_fitness"
   ]
  },
  {
   "cell_type": "code",
   "execution_count": 137,
   "metadata": {
    "execution": {
     "iopub.execute_input": "2021-02-28T15:41:59.873818Z",
     "iopub.status.busy": "2021-02-28T15:41:59.872917Z",
     "iopub.status.idle": "2021-02-28T15:41:59.875276Z",
     "shell.execute_reply": "2021-02-28T15:41:59.875856Z"
    },
    "slideshow": {
     "slide_type": "subslide"
    }
   },
   "outputs": [],
   "source": [
    "# ignore\n",
    "assert bad_fitness < 0.5, \"fitness() failed\""
   ]
  },
  {
   "cell_type": "markdown",
   "metadata": {
    "slideshow": {
     "slide_type": "subslide"
    }
   },
   "source": [
    "#### Repairing\n",
    "\n",
    "Now for the actual `repair()` method, which creates a `population` and then evolves it until the fitness is 1.0 or the given number of iterations is spent."
   ]
  },
  {
   "cell_type": "code",
   "execution_count": 138,
   "metadata": {
    "execution": {
     "iopub.execute_input": "2021-02-28T15:41:59.884920Z",
     "iopub.status.busy": "2021-02-28T15:41:59.884302Z",
     "iopub.status.idle": "2021-02-28T15:41:59.886214Z",
     "shell.execute_reply": "2021-02-28T15:41:59.886596Z"
    },
    "slideshow": {
     "slide_type": "subslide"
    }
   },
   "outputs": [],
   "source": [
    "class Repairer(Repairer):\n",
    "    def initial_population(self, size):\n",
    "        \"\"\"Return an initial population of size `size`\"\"\"\n",
    "        return [self.target_tree] + \\\n",
    "            [self.mutator.mutate(copy.deepcopy(self.target_tree))\n",
    "                for i in range(size - 1)]\n",
    "\n",
    "    def repair(self, population_size=POPULATION_SIZE, iterations=100):\n",
    "        \"\"\"Repair the function we collected test runs from.\n",
    "        Use a population size of `population_size` and\n",
    "        at most `iterations` iterations.\n",
    "        Returns the AST of the repaired function.\"\"\"\n",
    "        self.validate()\n",
    "\n",
    "        population = self.initial_population(population_size)\n",
    "\n",
    "        last_key = ast.dump(self.target_tree)\n",
    "\n",
    "        for iteration in range(iterations):\n",
    "            population = self.evolve(population)\n",
    "\n",
    "            best_tree = population[0]\n",
    "            fitness = self.fitness(best_tree)\n",
    "\n",
    "            if self.log:\n",
    "                print(f\"Evolving population: \"\n",
    "                      f\"iteration{iteration:4}/{iterations} \"\n",
    "                      f\"fitness = {fitness:.5}   \\r\", end=\"\")\n",
    "\n",
    "            if self.log >= 2:\n",
    "                best_key = ast.dump(best_tree)\n",
    "                if best_key != last_key:\n",
    "                    print()\n",
    "                    print()\n",
    "                    self.log_tree(f\"New best code (fitness = {fitness}):\",\n",
    "                                  best_tree)\n",
    "                    last_key = best_key\n",
    "\n",
    "            if fitness >= 1.0:\n",
    "                break\n",
    "\n",
    "        if self.log:\n",
    "            print()\n",
    "\n",
    "        if self.log and self.log < 2:\n",
    "            self.log_tree(f\"Best code (fitness = {fitness}):\", best_tree)\n",
    "\n",
    "        best_tree = self.reduce(best_tree)\n",
    "        fitness = self.fitness(best_tree)\n",
    "\n",
    "        self.log_tree(f\"Reduced code (fitness = {fitness}):\", best_tree)\n",
    "\n",
    "        return best_tree, fitness"
   ]
  },
  {
   "cell_type": "markdown",
   "metadata": {
    "slideshow": {
     "slide_type": "subslide"
    }
   },
   "source": [
    "#### Evolving\n",
    "\n",
    "The evolution of our population takes place in the `evolve()` method. In contrast to the `evolve_middle()` function, above, we use crossover to create the offspring, which we still mutate afterwards."
   ]
  },
  {
   "cell_type": "code",
   "execution_count": 139,
   "metadata": {
    "execution": {
     "iopub.execute_input": "2021-02-28T15:41:59.894288Z",
     "iopub.status.busy": "2021-02-28T15:41:59.893445Z",
     "iopub.status.idle": "2021-02-28T15:41:59.896054Z",
     "shell.execute_reply": "2021-02-28T15:41:59.896592Z"
    },
    "slideshow": {
     "slide_type": "subslide"
    }
   },
   "outputs": [],
   "source": [
    "class Repairer(Repairer):\n",
    "    def evolve(self, population):\n",
    "        \"\"\"Evolve the candidate population by mutating and crossover.\"\"\"\n",
    "        n = len(population)\n",
    "\n",
    "        # Create offspring as crossover of parents\n",
    "        offspring = []\n",
    "        while len(offspring) < n:\n",
    "            parent_1 = copy.deepcopy(random.choice(population))\n",
    "            parent_2 = copy.deepcopy(random.choice(population))\n",
    "            try:\n",
    "                self.crossover.crossover(parent_1, parent_2)\n",
    "            except CrossoverError:\n",
    "                pass  # Just keep parents\n",
    "            offspring += [parent_1, parent_2]\n",
    "\n",
    "        # Mutate offspring\n",
    "        offspring = [self.mutator.mutate(tree) for tree in offspring]\n",
    "\n",
    "        # Add it to population\n",
    "        population += offspring\n",
    "\n",
    "        # Keep the fitter part of the population\n",
    "        population.sort(key=self.fitness_key, reverse=True)\n",
    "        population = population[:n]\n",
    "\n",
    "        return population"
   ]
  },
  {
   "cell_type": "markdown",
   "metadata": {
    "slideshow": {
     "slide_type": "subslide"
    }
   },
   "source": [
    "A second difference is that we not only sort by fitness, but also by tree size – with equal fitness, a smaller tree thus will be favored. This helps keeping fixes and patches small."
   ]
  },
  {
   "cell_type": "code",
   "execution_count": 140,
   "metadata": {
    "execution": {
     "iopub.execute_input": "2021-02-28T15:41:59.903791Z",
     "iopub.status.busy": "2021-02-28T15:41:59.902837Z",
     "iopub.status.idle": "2021-02-28T15:41:59.905565Z",
     "shell.execute_reply": "2021-02-28T15:41:59.906268Z"
    },
    "slideshow": {
     "slide_type": "fragment"
    }
   },
   "outputs": [],
   "source": [
    "class Repairer(Repairer):\n",
    "    def fitness_key(self, tree):\n",
    "        \"\"\"Key to be used for sorting the population\"\"\"\n",
    "        tree_size = len([node for node in ast.walk(tree)])\n",
    "        return (self.fitness(tree), -tree_size)"
   ]
  },
  {
   "cell_type": "markdown",
   "metadata": {
    "slideshow": {
     "slide_type": "subslide"
    }
   },
   "source": [
    "#### Simplifying\n",
    "\n",
    "The last step in repairing is simplifying the code. As demonstrated in the chapter on [reducing failure-inducing inputs](DeltaDebugger.ipynb), we can use delta debugging on code to get rid of superfluous statements. To this end, we convert the tree to lines, run delta debugging on them, and then convert it back to a tree."
   ]
  },
  {
   "cell_type": "code",
   "execution_count": 141,
   "metadata": {
    "execution": {
     "iopub.execute_input": "2021-02-28T15:41:59.913758Z",
     "iopub.status.busy": "2021-02-28T15:41:59.912966Z",
     "iopub.status.idle": "2021-02-28T15:41:59.915308Z",
     "shell.execute_reply": "2021-02-28T15:41:59.915893Z"
    },
    "slideshow": {
     "slide_type": "subslide"
    }
   },
   "outputs": [],
   "source": [
    "class Repairer(Repairer):\n",
    "    def reduce(self, tree):\n",
    "        \"\"\"Simplify `tree` using delta debugging.\"\"\"\n",
    "\n",
    "        original_fitness = self.fitness(tree)\n",
    "        source_lines = astor.to_source(tree).split('\\n')\n",
    "\n",
    "        with self.reducer:\n",
    "            self.test_reduce(source_lines, original_fitness)\n",
    "\n",
    "        reduced_lines = self.reducer.min_args()['source_lines']\n",
    "        reduced_source = \"\\n\".join(reduced_lines)\n",
    "\n",
    "        return ast.parse(reduced_source)"
   ]
  },
  {
   "cell_type": "markdown",
   "metadata": {
    "slideshow": {
     "slide_type": "subslide"
    }
   },
   "source": [
    "As dicussed above, we simplify the code by having the test function (`test_reduce()`) declare reaching the maximum fitness obtained so far as a \"failure\". Delta debugging will then simplify the input as long as the \"failure\" (and hence the maximum fitness obtained) persists."
   ]
  },
  {
   "cell_type": "code",
   "execution_count": 142,
   "metadata": {
    "execution": {
     "iopub.execute_input": "2021-02-28T15:41:59.921744Z",
     "iopub.status.busy": "2021-02-28T15:41:59.920603Z",
     "iopub.status.idle": "2021-02-28T15:41:59.923613Z",
     "shell.execute_reply": "2021-02-28T15:41:59.924289Z"
    },
    "slideshow": {
     "slide_type": "skip"
    }
   },
   "outputs": [],
   "source": [
    "import traceback"
   ]
  },
  {
   "cell_type": "code",
   "execution_count": 143,
   "metadata": {
    "execution": {
     "iopub.execute_input": "2021-02-28T15:41:59.932052Z",
     "iopub.status.busy": "2021-02-28T15:41:59.931303Z",
     "iopub.status.idle": "2021-02-28T15:41:59.933279Z",
     "shell.execute_reply": "2021-02-28T15:41:59.933721Z"
    },
    "slideshow": {
     "slide_type": "subslide"
    }
   },
   "outputs": [],
   "source": [
    "class Repairer(Repairer):\n",
    "    def test_reduce(self, source_lines, original_fitness):\n",
    "        \"\"\"Test function for delta debugging.\"\"\"\n",
    "\n",
    "        try:\n",
    "            source = \"\\n\".join(source_lines)\n",
    "            tree = ast.parse(source)\n",
    "            fitness = self.fitness(tree)\n",
    "            assert fitness < original_fitness\n",
    "\n",
    "        except AssertionError:\n",
    "            raise\n",
    "        except SyntaxError:\n",
    "            raise\n",
    "        except IndentationError:\n",
    "            raise\n",
    "        except Exception:\n",
    "            # traceback.print_exc()  # Uncomment to see internal errors\n",
    "            raise"
   ]
  },
  {
   "cell_type": "markdown",
   "metadata": {
    "slideshow": {
     "slide_type": "subslide"
    }
   },
   "source": [
    "### End of Excursion"
   ]
  },
  {
   "cell_type": "markdown",
   "metadata": {
    "slideshow": {
     "slide_type": "subslide"
    }
   },
   "source": [
    "### Repairer in Action\n",
    "\n",
    "Let us go and apply `Repairer` in practice. We initialize it with `middle_debugger`, which has (still) collected the passing and failing runs for `middle_test()`. We also set `log` for some diagnostics along the way."
   ]
  },
  {
   "cell_type": "code",
   "execution_count": 144,
   "metadata": {
    "execution": {
     "iopub.execute_input": "2021-02-28T15:41:59.943609Z",
     "iopub.status.busy": "2021-02-28T15:41:59.938106Z",
     "iopub.status.idle": "2021-02-28T15:41:59.947131Z",
     "shell.execute_reply": "2021-02-28T15:41:59.947801Z"
    },
    "slideshow": {
     "slide_type": "subslide"
    }
   },
   "outputs": [
    {
     "name": "stdout",
     "output_type": "stream",
     "text": [
      "Target code to be repaired:\n",
      "\u001b[34mdef\u001b[39;49;00m \u001b[32mmiddle\u001b[39;49;00m(x, y, z):\n",
      "    \u001b[34mif\u001b[39;49;00m y < z:\n",
      "        \u001b[34mif\u001b[39;49;00m x < y:\n",
      "            \u001b[34mreturn\u001b[39;49;00m y\n",
      "        \u001b[34melif\u001b[39;49;00m x < z:\n",
      "            \u001b[34mreturn\u001b[39;49;00m y\n",
      "    \u001b[34melif\u001b[39;49;00m x > y:\n",
      "        \u001b[34mreturn\u001b[39;49;00m y\n",
      "    \u001b[34melif\u001b[39;49;00m x > z:\n",
      "        \u001b[34mreturn\u001b[39;49;00m x\n",
      "    \u001b[34mreturn\u001b[39;49;00m z\n",
      "\n"
     ]
    }
   ],
   "source": [
    "repairer = Repairer(middle_debugger, log=True)"
   ]
  },
  {
   "cell_type": "markdown",
   "metadata": {
    "slideshow": {
     "slide_type": "subslide"
    }
   },
   "source": [
    "We now invoke `repair()` to evolve our population. After a few iterations, we find a best tree with perfect fitness."
   ]
  },
  {
   "cell_type": "code",
   "execution_count": 145,
   "metadata": {
    "execution": {
     "iopub.execute_input": "2021-02-28T15:42:00.034540Z",
     "iopub.status.busy": "2021-02-28T15:41:59.986939Z",
     "iopub.status.idle": "2021-02-28T15:42:00.745887Z",
     "shell.execute_reply": "2021-02-28T15:42:00.746303Z"
    },
    "slideshow": {
     "slide_type": "subslide"
    }
   },
   "outputs": [
    {
     "name": "stdout",
     "output_type": "stream",
     "text": [
      "Evolving population: iteration   2/100 fitness = 1.0   \r\n",
      "Best code (fitness = 1.0):\n",
      "\u001b[34mdef\u001b[39;49;00m \u001b[32mmiddle\u001b[39;49;00m(x, y, z):\n",
      "    \u001b[34mif\u001b[39;49;00m y < z:\n",
      "        \u001b[34mif\u001b[39;49;00m x < y:\n",
      "            \u001b[34mreturn\u001b[39;49;00m y\n",
      "        \u001b[34melif\u001b[39;49;00m x < z:\n",
      "            \u001b[34mreturn\u001b[39;49;00m x\n",
      "    \u001b[34melif\u001b[39;49;00m x > y:\n",
      "        \u001b[34mreturn\u001b[39;49;00m y\n",
      "    \u001b[34melif\u001b[39;49;00m x > z:\n",
      "        \u001b[34mreturn\u001b[39;49;00m x\n",
      "    \u001b[34mreturn\u001b[39;49;00m z\n",
      "\n",
      "Reduced code (fitness = 1.0):\n",
      "\u001b[34mdef\u001b[39;49;00m \u001b[32mmiddle\u001b[39;49;00m(x, y, z):\n",
      "    \u001b[34mif\u001b[39;49;00m y < z:\n",
      "        \u001b[34mif\u001b[39;49;00m x < y:\n",
      "            \u001b[34mreturn\u001b[39;49;00m y\n",
      "        \u001b[34melif\u001b[39;49;00m x < z:\n",
      "            \u001b[34mreturn\u001b[39;49;00m x\n",
      "    \u001b[34melif\u001b[39;49;00m x > y:\n",
      "        \u001b[34mreturn\u001b[39;49;00m y\n",
      "    \u001b[34melif\u001b[39;49;00m x > z:\n",
      "        \u001b[34mreturn\u001b[39;49;00m x\n",
      "    \u001b[34mreturn\u001b[39;49;00m z\n",
      "\n"
     ]
    }
   ],
   "source": [
    "best_tree, fitness = repairer.repair()"
   ]
  },
  {
   "cell_type": "code",
   "execution_count": 146,
   "metadata": {
    "execution": {
     "iopub.execute_input": "2021-02-28T15:42:00.754122Z",
     "iopub.status.busy": "2021-02-28T15:42:00.753557Z",
     "iopub.status.idle": "2021-02-28T15:42:00.755656Z",
     "shell.execute_reply": "2021-02-28T15:42:00.756147Z"
    },
    "slideshow": {
     "slide_type": "subslide"
    }
   },
   "outputs": [
    {
     "name": "stdout",
     "output_type": "stream",
     "text": [
      "\u001b[34mdef\u001b[39;49;00m \u001b[32mmiddle\u001b[39;49;00m(x, y, z):\n",
      "    \u001b[34mif\u001b[39;49;00m y < z:\n",
      "        \u001b[34mif\u001b[39;49;00m x < y:\n",
      "            \u001b[34mreturn\u001b[39;49;00m y\n",
      "        \u001b[34melif\u001b[39;49;00m x < z:\n",
      "            \u001b[34mreturn\u001b[39;49;00m x\n",
      "    \u001b[34melif\u001b[39;49;00m x > y:\n",
      "        \u001b[34mreturn\u001b[39;49;00m y\n",
      "    \u001b[34melif\u001b[39;49;00m x > z:\n",
      "        \u001b[34mreturn\u001b[39;49;00m x\n",
      "    \u001b[34mreturn\u001b[39;49;00m z"
     ]
    }
   ],
   "source": [
    "print_content(astor.to_source(best_tree), '.py')"
   ]
  },
  {
   "cell_type": "code",
   "execution_count": 147,
   "metadata": {
    "execution": {
     "iopub.execute_input": "2021-02-28T15:42:00.759472Z",
     "iopub.status.busy": "2021-02-28T15:42:00.758839Z",
     "iopub.status.idle": "2021-02-28T15:42:00.761276Z",
     "shell.execute_reply": "2021-02-28T15:42:00.761711Z"
    },
    "slideshow": {
     "slide_type": "fragment"
    }
   },
   "outputs": [
    {
     "data": {
      "text/plain": [
       "1.0"
      ]
     },
     "execution_count": 1,
     "metadata": {},
     "output_type": "execute_result"
    }
   ],
   "source": [
    "fitness"
   ]
  },
  {
   "cell_type": "markdown",
   "metadata": {
    "slideshow": {
     "slide_type": "subslide"
    }
   },
   "source": [
    "Again, we have a perfect solution. Here, we did not even need to simplify the code in the last iteration, as our `fitness_key()` function favors smaller implementations."
   ]
  },
  {
   "cell_type": "markdown",
   "metadata": {
    "slideshow": {
     "slide_type": "slide"
    }
   },
   "source": [
    "## Removing HTML Markup\n",
    "\n",
    "Let us apply `Repairer` on our other ongoing example, namely `remove_html_markup()`."
   ]
  },
  {
   "cell_type": "code",
   "execution_count": 148,
   "metadata": {
    "execution": {
     "iopub.execute_input": "2021-02-28T15:42:00.766194Z",
     "iopub.status.busy": "2021-02-28T15:42:00.765645Z",
     "iopub.status.idle": "2021-02-28T15:42:00.767374Z",
     "shell.execute_reply": "2021-02-28T15:42:00.767821Z"
    },
    "slideshow": {
     "slide_type": "subslide"
    }
   },
   "outputs": [],
   "source": [
    "def remove_html_markup(s):\n",
    "    tag = False\n",
    "    quote = False\n",
    "    out = \"\"\n",
    "\n",
    "    for c in s:\n",
    "        if c == '<' and not quote:\n",
    "            tag = True\n",
    "        elif c == '>' and not quote:\n",
    "            tag = False\n",
    "        elif c == '\"' or c == \"'\" and tag:\n",
    "            quote = not quote\n",
    "        elif not tag:\n",
    "            out = out + c\n",
    "\n",
    "    return out"
   ]
  },
  {
   "cell_type": "code",
   "execution_count": 149,
   "metadata": {
    "execution": {
     "iopub.execute_input": "2021-02-28T15:42:00.771275Z",
     "iopub.status.busy": "2021-02-28T15:42:00.770643Z",
     "iopub.status.idle": "2021-02-28T15:42:00.772512Z",
     "shell.execute_reply": "2021-02-28T15:42:00.772973Z"
    },
    "slideshow": {
     "slide_type": "subslide"
    }
   },
   "outputs": [],
   "source": [
    "def remove_html_markup_tree():\n",
    "    return ast.parse(inspect.getsource(remove_html_markup))"
   ]
  },
  {
   "cell_type": "markdown",
   "metadata": {
    "slideshow": {
     "slide_type": "fragment"
    }
   },
   "source": [
    "To run `Repairer` on `remove_html_markup()`, we need a test and a test suite. `remove_html_markup_test()` raises an exception if applying `remove_html_markup()` on the given `html` string does not yield the `plain` string."
   ]
  },
  {
   "cell_type": "code",
   "execution_count": 150,
   "metadata": {
    "execution": {
     "iopub.execute_input": "2021-02-28T15:42:00.776334Z",
     "iopub.status.busy": "2021-02-28T15:42:00.775814Z",
     "iopub.status.idle": "2021-02-28T15:42:00.777797Z",
     "shell.execute_reply": "2021-02-28T15:42:00.778234Z"
    },
    "slideshow": {
     "slide_type": "fragment"
    }
   },
   "outputs": [],
   "source": [
    "def remove_html_markup_test(html, plain):\n",
    "    outcome = remove_html_markup(html)\n",
    "    assert outcome == plain, \\\n",
    "        f\"Got {repr(outcome)}, expected {repr(plain)}\""
   ]
  },
  {
   "cell_type": "markdown",
   "metadata": {
    "slideshow": {
     "slide_type": "fragment"
    }
   },
   "source": [
    "Now for the test suite. We use a simple fuzzing scheme to create dozens of passing and failing test cases in `REMOVE_HTML_PASSING_TESTCASES` and `REMOVE_HTML_FAILING_TESTCASES`, respectively."
   ]
  },
  {
   "cell_type": "markdown",
   "metadata": {
    "slideshow": {
     "slide_type": "subslide"
    }
   },
   "source": [
    "### Excursion: Creating HTML Test Cases"
   ]
  },
  {
   "cell_type": "code",
   "execution_count": 151,
   "metadata": {
    "execution": {
     "iopub.execute_input": "2021-02-28T15:42:00.782241Z",
     "iopub.status.busy": "2021-02-28T15:42:00.781689Z",
     "iopub.status.idle": "2021-02-28T15:42:00.783509Z",
     "shell.execute_reply": "2021-02-28T15:42:00.783936Z"
    },
    "slideshow": {
     "slide_type": "fragment"
    }
   },
   "outputs": [],
   "source": [
    "def random_string(length=5, start=ord(' '), end=ord('~')):\n",
    "    return \"\".join(chr(random.randrange(start, end + 1)) for i in range(length))"
   ]
  },
  {
   "cell_type": "code",
   "execution_count": 152,
   "metadata": {
    "execution": {
     "iopub.execute_input": "2021-02-28T15:42:00.787177Z",
     "iopub.status.busy": "2021-02-28T15:42:00.786662Z",
     "iopub.status.idle": "2021-02-28T15:42:00.789001Z",
     "shell.execute_reply": "2021-02-28T15:42:00.789479Z"
    },
    "slideshow": {
     "slide_type": "fragment"
    }
   },
   "outputs": [
    {
     "data": {
      "text/plain": [
       "'p{WLp'"
      ]
     },
     "execution_count": 1,
     "metadata": {},
     "output_type": "execute_result"
    }
   ],
   "source": [
    "random_string()"
   ]
  },
  {
   "cell_type": "code",
   "execution_count": 153,
   "metadata": {
    "execution": {
     "iopub.execute_input": "2021-02-28T15:42:00.792952Z",
     "iopub.status.busy": "2021-02-28T15:42:00.792437Z",
     "iopub.status.idle": "2021-02-28T15:42:00.794225Z",
     "shell.execute_reply": "2021-02-28T15:42:00.794682Z"
    },
    "slideshow": {
     "slide_type": "fragment"
    }
   },
   "outputs": [],
   "source": [
    "def random_id(length=2):\n",
    "    return random_string(start=ord('a'), end=ord('z'))"
   ]
  },
  {
   "cell_type": "code",
   "execution_count": 154,
   "metadata": {
    "execution": {
     "iopub.execute_input": "2021-02-28T15:42:00.797905Z",
     "iopub.status.busy": "2021-02-28T15:42:00.797365Z",
     "iopub.status.idle": "2021-02-28T15:42:00.799677Z",
     "shell.execute_reply": "2021-02-28T15:42:00.800105Z"
    },
    "slideshow": {
     "slide_type": "fragment"
    }
   },
   "outputs": [
    {
     "data": {
      "text/plain": [
       "'fyviq'"
      ]
     },
     "execution_count": 1,
     "metadata": {},
     "output_type": "execute_result"
    }
   ],
   "source": [
    "random_id()"
   ]
  },
  {
   "cell_type": "code",
   "execution_count": 155,
   "metadata": {
    "execution": {
     "iopub.execute_input": "2021-02-28T15:42:00.803585Z",
     "iopub.status.busy": "2021-02-28T15:42:00.803013Z",
     "iopub.status.idle": "2021-02-28T15:42:00.805041Z",
     "shell.execute_reply": "2021-02-28T15:42:00.805508Z"
    },
    "slideshow": {
     "slide_type": "fragment"
    }
   },
   "outputs": [],
   "source": [
    "def random_plain():\n",
    "    return random_string().replace('<', '').replace('>', '')"
   ]
  },
  {
   "cell_type": "code",
   "execution_count": 156,
   "metadata": {
    "execution": {
     "iopub.execute_input": "2021-02-28T15:42:00.809090Z",
     "iopub.status.busy": "2021-02-28T15:42:00.808539Z",
     "iopub.status.idle": "2021-02-28T15:42:00.810659Z",
     "shell.execute_reply": "2021-02-28T15:42:00.811118Z"
    },
    "slideshow": {
     "slide_type": "fragment"
    }
   },
   "outputs": [],
   "source": [
    "def random_string_noquotes():\n",
    "    return random_string().replace('\"', '').replace(\"'\", '')"
   ]
  },
  {
   "cell_type": "code",
   "execution_count": 157,
   "metadata": {
    "execution": {
     "iopub.execute_input": "2021-02-28T15:42:00.815405Z",
     "iopub.status.busy": "2021-02-28T15:42:00.814862Z",
     "iopub.status.idle": "2021-02-28T15:42:00.816674Z",
     "shell.execute_reply": "2021-02-28T15:42:00.817105Z"
    },
    "slideshow": {
     "slide_type": "subslide"
    }
   },
   "outputs": [],
   "source": [
    "def random_html(depth=0):\n",
    "    prefix = random_plain()\n",
    "    tag = random_id()\n",
    "\n",
    "    if depth > 0:\n",
    "        html, plain = random_html(depth - 1)\n",
    "    else:\n",
    "        html = plain = random_plain()\n",
    "\n",
    "    attr = random_id()\n",
    "    value = '\"' + random_string_noquotes() + '\"'\n",
    "    postfix = random_plain()\n",
    "\n",
    "    return f'{prefix}<{tag} {attr}={value}>{html}</{tag}>{postfix}', \\\n",
    "        prefix + plain + postfix"
   ]
  },
  {
   "cell_type": "code",
   "execution_count": 158,
   "metadata": {
    "execution": {
     "iopub.execute_input": "2021-02-28T15:42:00.820474Z",
     "iopub.status.busy": "2021-02-28T15:42:00.819930Z",
     "iopub.status.idle": "2021-02-28T15:42:00.822407Z",
     "shell.execute_reply": "2021-02-28T15:42:00.822837Z"
    },
    "slideshow": {
     "slide_type": "subslide"
    }
   },
   "outputs": [
    {
     "data": {
      "text/plain": [
       "('uOgdS<vzmpu huluh=\"J>G#~\">\"41Cs</vzmpu>/8BmY', 'uOgdS\"41Cs/8BmY')"
      ]
     },
     "execution_count": 1,
     "metadata": {},
     "output_type": "execute_result"
    }
   ],
   "source": [
    "random_html()"
   ]
  },
  {
   "cell_type": "code",
   "execution_count": 159,
   "metadata": {
    "execution": {
     "iopub.execute_input": "2021-02-28T15:42:00.826511Z",
     "iopub.status.busy": "2021-02-28T15:42:00.825920Z",
     "iopub.status.idle": "2021-02-28T15:42:00.828131Z",
     "shell.execute_reply": "2021-02-28T15:42:00.828639Z"
    },
    "slideshow": {
     "slide_type": "fragment"
    }
   },
   "outputs": [],
   "source": [
    "def remove_html_testcase(expected=True):\n",
    "    while True:\n",
    "        html, plain = random_html()\n",
    "        outcome = (remove_html_markup(html) == plain)\n",
    "        if outcome == expected:\n",
    "            return html, plain"
   ]
  },
  {
   "cell_type": "code",
   "execution_count": 160,
   "metadata": {
    "execution": {
     "iopub.execute_input": "2021-02-28T15:42:00.869305Z",
     "iopub.status.busy": "2021-02-28T15:42:00.865547Z",
     "iopub.status.idle": "2021-02-28T15:42:00.871803Z",
     "shell.execute_reply": "2021-02-28T15:42:00.872327Z"
    },
    "slideshow": {
     "slide_type": "fragment"
    }
   },
   "outputs": [],
   "source": [
    "REMOVE_HTML_PASSING_TESTCASES = \\\n",
    "    [remove_html_testcase(True) for i in range(100)]\n",
    "REMOVE_HTML_FAILING_TESTCASES = \\\n",
    "    [remove_html_testcase(False) for i in range(100)]"
   ]
  },
  {
   "cell_type": "markdown",
   "metadata": {
    "slideshow": {
     "slide_type": "subslide"
    }
   },
   "source": [
    "### End of Excursion"
   ]
  },
  {
   "cell_type": "markdown",
   "metadata": {
    "slideshow": {
     "slide_type": "fragment"
    }
   },
   "source": [
    "Here is a passing test case:"
   ]
  },
  {
   "cell_type": "code",
   "execution_count": 161,
   "metadata": {
    "execution": {
     "iopub.execute_input": "2021-02-28T15:42:00.877114Z",
     "iopub.status.busy": "2021-02-28T15:42:00.876471Z",
     "iopub.status.idle": "2021-02-28T15:42:00.879237Z",
     "shell.execute_reply": "2021-02-28T15:42:00.879619Z"
    },
    "slideshow": {
     "slide_type": "fragment"
    }
   },
   "outputs": [
    {
     "data": {
      "text/plain": [
       "('/GcBN<qifmg amjvm=\".dpu]\">`;(m$</qifmg>.n:f;', '/GcBN`;(m$.n:f;')"
      ]
     },
     "execution_count": 1,
     "metadata": {},
     "output_type": "execute_result"
    }
   ],
   "source": [
    "REMOVE_HTML_PASSING_TESTCASES[0]"
   ]
  },
  {
   "cell_type": "code",
   "execution_count": 162,
   "metadata": {
    "execution": {
     "iopub.execute_input": "2021-02-28T15:42:00.883359Z",
     "iopub.status.busy": "2021-02-28T15:42:00.882758Z",
     "iopub.status.idle": "2021-02-28T15:42:00.884867Z",
     "shell.execute_reply": "2021-02-28T15:42:00.885316Z"
    },
    "slideshow": {
     "slide_type": "fragment"
    }
   },
   "outputs": [],
   "source": [
    "html, plain = REMOVE_HTML_PASSING_TESTCASES[0]\n",
    "remove_html_markup_test(html, plain)"
   ]
  },
  {
   "cell_type": "markdown",
   "metadata": {
    "slideshow": {
     "slide_type": "fragment"
    }
   },
   "source": [
    "Here is a failing test case (containing a double quote in the plain text)"
   ]
  },
  {
   "cell_type": "code",
   "execution_count": 163,
   "metadata": {
    "execution": {
     "iopub.execute_input": "2021-02-28T15:42:00.889683Z",
     "iopub.status.busy": "2021-02-28T15:42:00.888851Z",
     "iopub.status.idle": "2021-02-28T15:42:00.892189Z",
     "shell.execute_reply": "2021-02-28T15:42:00.892575Z"
    },
    "slideshow": {
     "slide_type": "fragment"
    }
   },
   "outputs": [
    {
     "data": {
      "text/plain": [
       "('\"Y^0?<tqfen yuzeb=\"b}g[u\">-1XPj</tqfen>y04ex', '\"Y^0?-1XPjy04ex')"
      ]
     },
     "execution_count": 1,
     "metadata": {},
     "output_type": "execute_result"
    }
   ],
   "source": [
    "REMOVE_HTML_FAILING_TESTCASES[0]"
   ]
  },
  {
   "cell_type": "code",
   "execution_count": 164,
   "metadata": {
    "execution": {
     "iopub.execute_input": "2021-02-28T15:42:00.895977Z",
     "iopub.status.busy": "2021-02-28T15:42:00.895433Z",
     "iopub.status.idle": "2021-02-28T15:42:00.899126Z",
     "shell.execute_reply": "2021-02-28T15:42:00.899521Z"
    },
    "slideshow": {
     "slide_type": "subslide"
    }
   },
   "outputs": [
    {
     "name": "stderr",
     "output_type": "stream",
     "text": [
      "Traceback (most recent call last):\n",
      "  File \"<ipython-input-1-bfe5da826454>\", line 3, in <module>\n",
      "    remove_html_markup_test(html, plain)\n",
      "  File \"<ipython-input-1-a492611f8c18>\", line 4, in remove_html_markup_test\n",
      "    f\"Got {repr(outcome)}, expected {repr(plain)}\"\n",
      "AssertionError: Got 'Y^0?<tqfen yuzeb=b}g[u>-1XPj</tqfen>y04ex', expected '\"Y^0?-1XPjy04ex' (expected)\n"
     ]
    }
   ],
   "source": [
    "with ExpectError():\n",
    "    html, plain = REMOVE_HTML_FAILING_TESTCASES[0]\n",
    "    remove_html_markup_test(html, plain)"
   ]
  },
  {
   "cell_type": "markdown",
   "metadata": {
    "slideshow": {
     "slide_type": "fragment"
    }
   },
   "source": [
    "We run our tests, collecting the outcomes in `html_debugger`."
   ]
  },
  {
   "cell_type": "code",
   "execution_count": 165,
   "metadata": {
    "execution": {
     "iopub.execute_input": "2021-02-28T15:42:00.902926Z",
     "iopub.status.busy": "2021-02-28T15:42:00.902358Z",
     "iopub.status.idle": "2021-02-28T15:42:00.904126Z",
     "shell.execute_reply": "2021-02-28T15:42:00.904640Z"
    },
    "slideshow": {
     "slide_type": "fragment"
    }
   },
   "outputs": [],
   "source": [
    "html_debugger = OchiaiDebugger()"
   ]
  },
  {
   "cell_type": "code",
   "execution_count": 166,
   "metadata": {
    "execution": {
     "iopub.execute_input": "2021-02-28T15:42:00.981785Z",
     "iopub.status.busy": "2021-02-28T15:42:00.940500Z",
     "iopub.status.idle": "2021-02-28T15:42:01.002809Z",
     "shell.execute_reply": "2021-02-28T15:42:01.003182Z"
    },
    "slideshow": {
     "slide_type": "subslide"
    }
   },
   "outputs": [],
   "source": [
    "for html, plain in (REMOVE_HTML_PASSING_TESTCASES + \n",
    "                    REMOVE_HTML_FAILING_TESTCASES):\n",
    "    with html_debugger:\n",
    "        remove_html_markup_test(html, plain)"
   ]
  },
  {
   "cell_type": "markdown",
   "metadata": {
    "slideshow": {
     "slide_type": "fragment"
    }
   },
   "source": [
    "The suspiciousness distribution will not be of much help here – pretty much all lines in `remove_html_markup()` have the same suspiciousness."
   ]
  },
  {
   "cell_type": "code",
   "execution_count": 167,
   "metadata": {
    "execution": {
     "iopub.execute_input": "2021-02-28T15:42:01.070239Z",
     "iopub.status.busy": "2021-02-28T15:42:01.030418Z",
     "iopub.status.idle": "2021-02-28T15:42:01.123888Z",
     "shell.execute_reply": "2021-02-28T15:42:01.124527Z"
    },
    "slideshow": {
     "slide_type": "fragment"
    }
   },
   "outputs": [
    {
     "data": {
      "text/html": [
       "<pre style=\"background-color:hsl(35.14718625761431, 100.0%, 80%)\"\n",
       "                    title=\"Line 1:  70%\">   1 def remove_html_markup_test(html, plain):</pre>\n",
       "<pre style=\"background-color:hsl(35.14718625761431, 100.0%, 80%)\"\n",
       "                    title=\"Line 2:  70%\">   2     outcome = remove_html_markup(html)</pre>\n",
       "<pre style=\"background-color:hsl(35.14718625761431, 100.0%, 80%)\"\n",
       "                    title=\"Line 3:  70%\">   3     assert outcome == plain, \\</pre>\n",
       "<pre style=\"background-color:hsl(0.0, 100.0%, 80%)\"\n",
       "                    title=\"Line 4: 100%\">   4         f&quot;Got {repr(outcome)}, expected {repr(plain)}&quot;</pre>\n",
       "\n",
       "<p/><pre style=\"background-color:hsl(35.14718625761431, 100.0%, 80%)\"\n",
       "                    title=\"Line 1:  70%\">   1 def remove_html_markup(s):</pre>\n",
       "<pre style=\"background-color:hsl(35.14718625761431, 100.0%, 80%)\"\n",
       "                    title=\"Line 2:  70%\">   2     tag = False</pre>\n",
       "<pre style=\"background-color:hsl(35.14718625761431, 100.0%, 80%)\"\n",
       "                    title=\"Line 3:  70%\">   3     quote = False</pre>\n",
       "<pre style=\"background-color:hsl(35.14718625761431, 100.0%, 80%)\"\n",
       "                    title=\"Line 4:  70%\">   4     out = &quot;&quot;</pre>\n",
       "<pre title=\"Line 5: not executed\">   5 &nbsp;</pre>\n",
       "<pre style=\"background-color:hsl(35.14718625761431, 100.0%, 80%)\"\n",
       "                    title=\"Line 6:  70%\">   6     for c in s:</pre>\n",
       "<pre style=\"background-color:hsl(35.14718625761431, 100.0%, 80%)\"\n",
       "                    title=\"Line 7:  70%\">   7         if c == &#x27;&lt;&#x27; and not quote:</pre>\n",
       "<pre style=\"background-color:hsl(53.3989532967738, 100.0%, 80%)\"\n",
       "                    title=\"Line 8:  55%\">   8             tag = True</pre>\n",
       "<pre style=\"background-color:hsl(35.14718625761431, 100.0%, 80%)\"\n",
       "                    title=\"Line 9:  70%\">   9         elif c == &#x27;&gt;&#x27; and not quote:</pre>\n",
       "<pre style=\"background-color:hsl(52.680893730193375, 100.0%, 80%)\"\n",
       "                    title=\"Line 10:  56%\">  10             tag = False</pre>\n",
       "<pre style=\"background-color:hsl(35.14718625761431, 100.0%, 80%)\"\n",
       "                    title=\"Line 11:  70%\">  11         elif c == &#x27;&quot;&#x27; or c == &quot;&#x27;&quot; and tag:</pre>\n",
       "<pre style=\"background-color:hsl(35.14718625761431, 100.0%, 80%)\"\n",
       "                    title=\"Line 12:  70%\">  12             quote = not quote</pre>\n",
       "<pre style=\"background-color:hsl(35.14718625761431, 100.0%, 80%)\"\n",
       "                    title=\"Line 13:  70%\">  13         elif not tag:</pre>\n",
       "<pre style=\"background-color:hsl(35.14718625761431, 100.0%, 80%)\"\n",
       "                    title=\"Line 14:  70%\">  14             out = out + c</pre>\n",
       "<pre title=\"Line 15: not executed\">  15 &nbsp;</pre>\n",
       "<pre style=\"background-color:hsl(35.14718625761431, 100.0%, 80%)\"\n",
       "                    title=\"Line 16:  70%\">  16     return out</pre>\n"
      ],
      "text/markdown": [
       "| `remove_html_markup_test` | `plain='/GcBN`;(m$.n:f;', html='/GcBN<qifmg amjvm=\".dpu]\">`;(m$</qifmg>.n:f;'` | `plain=\"MIoC{w1 'w&TPUi\", html='MIoC{<ryoku ghzhc=\"Ej:VO\">w1 \\'w</ryoku>&TPUi'` | `plain='PK!Tl0Wq;Gj@u04', html='PK!Tl<gspjy yoqrp=\"SY>R[\">0Wq;G</gspjy>j@u04'` | `plain='rIq5iFIC^K8k1mA', html='rIq5i<mywqo ijsbb=\"Bn9[v\">FIC^K</mywqo>8k1mA'` | `plain=\"ex['XG&=E8JT7\\\\*\", html='ex[\\'X<kdvla kkkfl=\"4\\\\#[\">G&=E8</kdvla>JT7\\\\*'` | `plain='.x`|(2)#)EQ-E\\\\@', html='.x`|(<gcien zbonq=\"0>l0K\">2)#)E</gcien>Q-E\\\\@'` | `plain='c9Y^HbSw^|%h`8]', html='c9Y^H<fqsyy meigo=\"@|<O.\">bSw^|</fqsyy>%h`8]'` | `plain=\"zYMXo#18T;7T 'Z\", html='zYMXo<ilvkn boqam=\"^S>YN\">#18T;</ilvkn>7T \\'Z'` | `plain='EB7oM%8&vsn}n00', html='EB7oM<mghzt uyiiv=\"#oF:n\">%8&vs</mghzt>n}n00'` | `plain='0$\\\\q|q.|.!K6-#Q', html='0$\\\\q|<escng rroib=\"==;F\">q.|.!</escng>K6-#Q'` | `plain='0D@KaKH+4%Xc~e3', html='0D@Ka<kuqdi rkrfi=\"B;AbZ\">KH+4%</kuqdi>Xc~e3'` | `plain='g+KI6!PF}; G]60', html='g+KI6<zhwhg eqfie=\"y1zde\">!PF};</zhwhg> G]60'` | `plain=\"-}'F[-z=.6wa`zr\", html='-}\\'F[<djotr eehie=\"aWH(8\">-z=.6</djotr>wa`zr'` | `plain='XZXLu w5.b;jMb', html='XZXLu<wlaly xqiuw=\"+|_5U\"> w5.</wlaly>b;jMb'` | `plain='2+/*+{/?BsvoFC8', html='2+/*+<hpouh axhwj=\"NJ{5k\">{/?Bs</hpouh>voFC8'` | `plain='9t-jxPzHL@CTIUH', html='9t-jx<cqlim ydcwu=\"t~ZR=\">PzHL@</cqlim>CTIUH'` | `plain='~zB=&z2~5T4(5\\\\K', html='~zB=&<uwhwd miohi=\"]znoY\">z2~5T</uwhwd>4(5\\\\K'` | `plain='n$GJ{,pmOH#7af0', html='n$GJ{<tehjs ptamc=\"-+v)\">,pmOH</tehjs>#7af0'` | `plain=\";]OqTNV'.!yy5&\", html=';]OqT<uaviq kxfyw=\" 5:]W\">NV\\'.</uaviq>!yy5&'` | `plain='+\\\\b;!r`c}%do/bl', html='+\\\\b;!<bzeuy igsbh=\".efeV\">r`c}%</bzeuy>do/bl'` | `plain='WO#=;Zt,j1Xo4Q', html='WO#=<sswet pjqzl=\"vEK(]\">;Zt,j</sswet>1Xo4Q'` | `plain='b2j7lwL`2,|R ', html='b2j7l<gaiqd qorke=\"JX7aS\">wL`2</gaiqd>,|R '` | `plain=']ea$9NS.xMooXp', html=']ea$9<gegyc zytod=\"0*TH?\">NS.x</gegyc>MooXp'` | `plain='Ql\\\\4[({MSr^-r', html='Ql\\\\4<pfmeb ugvel=\"BKy}\">[({M</pfmeb>Sr^-r'` | `plain='%rgi+0VB|;}`;O', html='%rgi<qrbmd fcval=\"cd ~)\">+0VB|</qrbmd>;}`;O'` | `plain='tPG{p9]h|7*S/I4', html='tPG{p<sgfbe boyeq=\"zw^1X\">9]h|7</sgfbe>*S/I4'` | `plain='9BD)Q.7dz-&y]%D', html='9BD)Q<gtyes vnsgx=\"n>c+k\">.7dz-</gtyes>&y]%D'` | `plain='}xR4Z;7A7eHohx', html='}xR4Z<zwklz egxcy=\"F6t0q\">;7A7</zwklz>eHohx'` | `plain='cJ;L`PuHV?,]|nm', html='cJ;L`<poqjy cibhx=\"8yr7+\">PuHV?</poqjy>,]|nm'` | `plain=\"7'i+-2(Z?Q.'d=-\", html='7\\'i+-<ddfva vfoqy=\"N*%gR\">2(Z?Q</ddfva>.\\'d=-'` | `plain='9x/iEDgUuz=1?9', html='9x/iE<nhukw udqad=\",[}$m\">DgUu</nhukw>z=1?9'` | `plain='YH9B}OMTeT/wW.7', html='YH9B}<jonlw opjgg=\"ZN;fp\">OMTeT</jonlw>/wW.7'` | `plain='6e(K4 )7~v&ZxH?', html='6e(K4<fhdco embqo=\"*B#2\\\\\"> )7~v</fhdco>&ZxH?'` | `plain='F%1G}7)f_:kYN?', html='F%1G}<zlyra oshgg=\"8IrmG\">7)f_</zlyra>:kYN?'` | `plain=',,K[!\\\\=W&ER(9@', html=',,K[!<kqyxm kmuqq=\",>+,O\">\\\\=W&E</kqyxm>R(9@'` | `plain=\"lj.Y\\\\MJ@Vy'l5t\", html='lj.Y\\\\<rosuk knsek=\"~13f4\">MJ@Vy</rosuk>\\'l5t'` | `plain='$9FxMI$!AN!ENji', html='$9FxM<hwisb tbmmo=\",ZnW~\">I$!AN</hwisb>!ENji'` | `plain='.5:M tZ`8I:WUQ', html='.5:M <qnyxg eunod=\"HZv;<\">tZ`8</qnyxg>I:WUQ'` | `plain='ao_ +Q#%)N75u{D', html='ao_ +<sqpxr svhwl=\"3PMe.\">Q#%)N</sqpxr>75u{D'` | `plain='F|BxcHI}La*%lLv', html='F|Bxc<qemal nfbnn=\"zj40_\">HI}La</qemal>*%lLv'` | `plain='9WR[jjLDd9g/N=9', html='9WR[j<jtthe aidzu=\"uc`CB\">jLDd9</jtthe>g/N=9'` | `plain='My+t~T~9p3(_Pf', html='My+t<haoxj rjavh=\"O6*~q\">~T~9p</haoxj>3(_Pf'` | `plain='l}T3s+?0Y#YPBW4', html='l}T3s<ltunq bgmfr=\"JzfBB\">+?0Y#</ltunq>YPBW4'` | `plain='84+]pc:O0rD#}r@', html='84+]p<tuidj hykxb=\"/5WGM\">c:O0r</tuidj>D#}r@'` | `plain='L^o_~P$f[vp!o=\\\\', html='L^o_~<cgtrw fltuy=\"eiqpr\">P$f[v</cgtrw>p!o=\\\\'` | `plain='rht 1*Ve._?H8$', html='rht 1<bfqex mihzx=\"$M@[b\">*Ve.</bfqex>_?H8$'` | `plain=\")'vDL[&OWF#loI@\", html=')\\'vDL<lvlil ciuwu=\"rksU]\">[&OWF</lvlil>#loI@'` | `plain=',kUuZ[qZCpRB&)=', html=',kUuZ<gojkb koiqt=\"-blK7\">[qZCp</gojkb>RB&)='` | `plain='K!ANVGc_GAh(H;:', html='K!ANV<bggya pbvli=\"2wrgr\">Gc_GA</bggya>h(H;:'` | `plain='PZXO2e`*9wA^S', html='PZXO2<kaeij ukfaa=\"%H2xc\">e`*9</kaeij>wA^S'` | `plain='6azh_YnqIets7?6', html='6azh_<jeenu jspop=\"@[Ok0\">YnqIe</jeenu>ts7?6'` | `plain=\"w}0rl'?A/nZNP+M\", html='w}0rl<euise kapty=\"~?Y&~\">\\'?A/n</euise>ZNP+M'` | `plain='g+znn2B/?[%YDEd', html='g+znn<henaf mcbhe=\"<H+[\">2B/?[</henaf>%YDEd'` | `plain=\"5'Q!^qfBxvXWn7\", html='5\\'Q!<vqimb jbejc=\"vfV<S\">^qfBx</vqimb>vXWn7'` | `plain='3]WBB)d9=U*}Hm;', html='3]WBB<hwydy owhit=\"zIt~b\">)d9=U</hwydy>*}Hm;'` | `plain=\",Sb9woKn'a#Uupu\", html=',Sb9w<qoxid korfw=\"?Dr#*\">oKn\\'a</qoxid>#Uupu'` | `plain='YW#Vz2GR*-co^l;', html='YW#Vz<mjwfq lrsoi=\".oQRd\">2GR*-</mjwfq>co^l;'` | `plain='swrjbFgsxcmf$@R', html='swrjb<sudpj pyjjv=\"u21q-\">Fgsxc</sudpj>mf$@R'` | `plain='gdFN5G256!0^nj', html='gdFN<xlhsu ynkuq=\"i!sy_\">5G256</xlhsu>!0^nj'` | `plain='C(hIejF]=oF!1@*', html='C(hIe<owpap dekqf=\"aG?0b\">jF]=o</owpap>F!1@*'` | `plain='d#]o|aR*f9ad(Et', html='d#]o|<xaewf rbcvp=\"}>JqC\">aR*f9</xaewf>ad(Et'` | `plain='RM{HzI`uBOwOc==', html='RM{Hz<pnejw ombjd=\"HkR@{\">I`uBO</pnejw>wOc=='` | `plain='z5t7,+oR3}sbK2 ', html='z5t7,<rpbel woghx=\"uK_U-\">+oR3}</rpbel>sbK2 '` | `plain='E22;vZdMaFt&PGR', html='E22;v<apnev dvgkz=\"93`lS\">ZdMaF</apnev>t&PGR'` | `plain='+3v^-0%5W3Zw:s.', html='+3v^-<eiolz akpae=\"IR7Pf\">0%5W3</eiolz>Zw:s.'` | `plain=\"-qHSw z.]jc/!c'\", html='-qHSw<rmcpo wpgfy=\"(!Zl0\"> z.]j</rmcpo>c/!c\\''` | `plain=\"Ciu=UL~_'OYe:w+\", html='Ciu=U<jxpxt wbuyv=\"-]vVj\">L~_\\'O</jxpxt>Ye:w+'` | `plain='Q(TK6ypOUCe!#t`', html='Q(TK6<epihr dkvik=\"rW%:*\">ypOUC</epihr>e!#t`'` | `plain='W-(F%*LEnb6YP', html='W-(F%<usvnw jxvix=\"k>oAM\">*LEn</usvnw>b6YP'` | `plain='G,V@l+QDo*s*xc', html='G,V@<yyycf qtjay=\"+RI~y\">l+QDo</yyycf>*s*xc'` | `plain='R_%nF@X[XX/rV4E', html='R_%nF<lvlfx vkofm=\"]@J$3\">@X[XX</lvlfx>/rV4E'` | `plain='JPAI-YQ]H:o9{0Q', html='JPAI-<kszcr qjowu=\"LTKwq\">YQ]H:</kszcr>o9{0Q'` | `plain='iqp{E}%`*jeT?j', html='iqp{E<eqlpi gopxy=\"6ITg5\">}%`*</eqlpi>jeT?j'` | `plain='-oKSB5IMcs#Tw !', html='-oKSB<wllnc fkbse=\"y+Ll@\">5IMcs</wllnc>#Tw !'` | `plain='L~[Xt.XvdE!.T|.', html='L~[Xt<vxlrs pmarc=\"9z137\">.XvdE</vxlrs>!.T|.'` | `plain='v;Rtl6{[{!T0]q[', html='v;Rtl<pqqyn zcaow=\"tBXM)\">6{[{!</pqqyn>T0]q['` | `plain='TS{x2xGuSN[w1uC', html='TS{x2<xykkw sylcc=\"r,7+M\">xGuSN</xykkw>[w1uC'` | `plain='2F,a~Ry+GdBCiZ5', html='2F,a~<jxnqo yjcbr=\"IE)s \">Ry+Gd</jxnqo>BCiZ5'` | `plain='*)kEd=d:-%!X|{', html='*)kEd<ivooz poxdv=\"osQj\">=d:-%</ivooz>!X|{'` | `plain=\"'|fbLphL],96qTf\", html='\\'|fbL<idzfu sdrwu=\"ND`Z\">phL],</idzfu>96qTf'` | `plain='8Mwc/JA7{}2:t!i', html='8Mwc/<kznmq ypxwo=\"G`150\">JA7{}</kznmq>2:t!i'` | `plain=\"x)Y?/B='Xh:X.od\", html='x)Y?/<frwms hjjpr=\"6sT2Z\">B=\\'Xh</frwms>:X.od'` | `plain=\"{F:n'-5Sg{DVWe@\", html='{F:n\\'<rmmfc oazfi=\",,vg?\">-5Sg{</rmmfc>DVWe@'` | `plain='[F-Lj{@-ellW]q', html='[F-Lj<omdzj ogwnq=\"_|w5`\">{@-el</omdzj>lW]q'` | `plain='w&@KZ1)]TU@l[BD', html='w&@KZ<wyfyj xbzzl=\"#{phx\">1)]TU</wyfyj>@l[BD'` | `plain='6j+)Y+7[euU76zj', html='6j+)Y<iuydo abmtj=\"_7m3R\">+7[eu</iuydo>U76zj'` | `plain='SCFQ! $qolMf $~', html='SCFQ!<ykjth wlnig=\"c82y@\"> $qol</ykjth>Mf $~'` | `plain='Ca1qE^SS(*]E,:{', html='Ca1qE<nlupy laaxq=\"4&SM[\">^SS(*</nlupy>]E,:{'` | `plain='k0J4p~uWAjE$_G', html='k0J4<yeoyc wcvcv=\"6WYsB\">p~uWA</yeoyc>jE$_G'` | `plain='@-}/|]Y[xcG;l}', html='@-}/|<gzvdd eqyga=\"~]nt^\">]Y[xc</gzvdd>G;l}'` | `plain='6FF$Yl1[t|C$/*?', html='6FF$Y<qtxfb azasq=\"hN`>M\">l1[t|</qtxfb>C$/*?'` | `plain='1AkG_(@Hw}lk`!', html='1AkG<usvxv sjrku=\":xpw(\">_(@Hw</usvxv>}lk`!'` | `plain=\"'XupJX{owd2YP~\", html='\\'XupJ<kylbv ebjze=\"xfHLp\">X{owd</kylbv>2YP~'` | `plain=\"Zt#`/OkJ&y)g?,'\", html='Zt#`/<hawdm gpdqs=\"E=XZq\">OkJ&y</hawdm>)g?,\\''` | `plain='OR}/o)}6c\\\\HXr$j', html='OR}/o<dngvc crjeu=\"iwA|5\">)}6c\\\\</dngvc>HXr$j'` | `plain='aT,ea[dgw@.6hH', html='aT,ea<bauff usirk=\"z(b4#\">[dgw@</bauff>.6hH'` | `plain='wUMVOt63=IR;v3s', html='wUMVO<cxjuk qtxvn=\"~\\\\vI@\">t63=I</cxjuk>R;v3s'` | `plain='G)!ZWGN/WS6jp-c', html='G)!ZW<uuerm pvrap=\">th1\">GN/WS</uuerm>6jp-c'` | `plain='F*=b)eG(t,?eT{', html='F*=b)<xfsgf xqbzr=\"CGhg_\">eG(t</xfsgf>,?eT{'` | `plain='AAub3/utn5JvS8', html='AAub3<xtyeq fnauh=\"i/B@G\">/utn</xtyeq>5JvS8'` | `plain='\"Y^0?-1XPjy04ex', html='\"Y^0?<tqfen yuzeb=\"b}g[u\">-1XPj</tqfen>y04ex'` | `plain='fhj\"xGrOt30=9!r', html='fhj\"x<zxkoe eykdh=\"]c{F+\">GrOt3</zxkoe>0=9!r'` | `plain='0m@U|9D_7ru5O\"}', html='0m@U|<rkhcu hbsyk=\"T*/sT\">9D_7r</rkhcu>u5O\"}'` | `plain='dKO\"jDe6KMhmAFC', html='dKO\"j<mcvki gxqgc=\"JF^P1\">De6KM</mcvki>hmAFC'` | `plain='QI8%`%},-\"\\\\%MC0', html='QI8%`<qypvu xtkso=\"bFLjI\">%},-\"</qypvu>\\\\%MC0'` | `plain='v|~X\"kmjI|jGETx', html='v|~X\"<ybebk mizjl=\"pWzw\">kmjI|</ybebk>jGETx'` | `plain='QcuA\"dE8j3T1-xZ', html='QcuA\"<uukns yyfmt=\"M-:Z%\">dE8j3</uukns>T1-xZ'` | `plain='D.}Jm@\"u{I_12C ', html='D.}Jm<wcgnl ytqxl=\"t?:V*\">@\"u{I</wcgnl>_12C '` | `plain='Z\"Wls,T(NX`hlE\\\\', html='Z\"Wls<qvqik stiup=\"u/@BX\">,T(NX</qvqik>`hlE\\\\'` | `plain='&R&\\\\f=kg*P*\"!3-', html='&R&\\\\f<itwyt kvpvc=\"tyqIo\">=kg*P</itwyt>*\"!3-'` | `plain='5J;dD#8coXoE \";', html='5J;dD<moqgp oulkg=\"-^i,L\">#8coX</moqgp>oE \";'` | `plain='pS:d\\'arbC.Xk3\"u', html='pS:d\\'<osobk tvydx=\"zi70d\">arbC.</osobk>Xk3\"u'` | `plain='`lSot|b{kG\"\"]yi', html='`lSot<nntrj rireu=\"g>[\\\\q\">|b{kG</nntrj>\"\"]yi'` | `plain='ry`::@k*xL@v\"H6', html='ry`::<icbim nmffu=\"}`3b|\">@k*xL</icbim>@v\"H6'` | `plain='W76\\\\ =mdG7}&\"Jo', html='W76\\\\ <olraq rsvga=\"6B9 %\">=mdG7</olraq>}&\"Jo'` | `plain='`Hofd]v\"gft?,9*', html='`Hofd<vhjkf fyqyq=\"$Qay&\">]v\"gf</vhjkf>t?,9*'` | `plain='lQs3V\"OfSMOboL&', html='lQs3V<teqpt zlngs=\"QqNuX\">\"OfSM</teqpt>OboL&'` | `plain='\"PjqqLC712k@_?)', html='\"Pjqq<sxbpi ccyko=\"H2}_y\">LC712</sxbpi>k@_?)'` | `plain='h9tH*.NwH$`Kz8\"', html='h9tH*<dggpb nvpwb=\"o3>B\">.NwH$</dggpb>`Kz8\"'` | `plain='QL\" Zw,-,,u8d-7', html='QL\" Z<nkebi fjsar=\"k<fJ-\">w,-,,</nkebi>u8d-7'` | `plain=';bHXrtM2__Y8\"Ec', html=';bHXr<xndoo dvtkl=\"SrESZ\">tM2__</xndoo>Y8\"Ec'` | `plain=';3\\\\ZvB\"T\\'ZLfSg)', html=';3\\\\Zv<yxnnh cnybv=\"[s8iZ\">B\"T\\'Z</yxnnh>LfSg)'` | `plain='G-V,8n\"jh?57I@Z', html='G-V,8<mwqvg avzmt=\"+%2c \">n\"jh?</mwqvg>57I@Z'` | `plain='V#,UP\"7W,/|F;5\\'', html='V#,UP<pruja rqxub=\"n|ykj\">\"7W,/</pruja>|F;5\\''` | `plain='ALm(K\"OMfG~V#{y', html='ALm(K<viosr qqotc=\"hw;US\">\"OMfG</viosr>~V#{y'` | `plain='6\"{q%2b@hG.FL9D', html='6\"{q%<ktgcr xgpfp=\"dCSOx\">2b@hG</ktgcr>.FL9D'` | `plain='QnX\"vXfOYuMBLs5', html='QnX\"v<eagdt uewtq=\",3gbe\">XfOYu</eagdt>MBLs5'` | `plain='p)*6o\"J&hEfU =', html='p)*6o<jzxlr twojg=\"@tn4M\">\"J&h</jzxlr>EfU ='` | `plain=', /\"&5S-pdG9G5', html=', /\"&<eppqq hbctt=\"$h$~w\">5S-pd</eppqq>G9G5'` | `plain='1OCA^h#c\"K*QN\\\\', html='1OCA^<lslup rwxly=\"gqb$+\">h#c\"K</lslup>*QN\\\\'` | `plain='R6\",q,\\'qx9-_s+a', html='R6\",q<vxwbu feqiy=\";yZg7\">,\\'qx9</vxwbu>-_s+a'` | `plain='q7=h\"b(Bn~5d,:r', html='q7=h\"<mazcs hwcol=\"3vYp\">b(Bn~</mazcs>5d,:r'` | `plain='686D5X,m\"Oh`kb', html='686D<fqtlp belqc=\"jv4R6\">5X,m\"</fqtlp>Oh`kb'` | `plain='\"urp3ew^7F?kHll', html='\"urp3<qzdud chzlf=\">5e\\\\L\">ew^7F</qzdud>?kHll'` | `plain='1FH?P7+f(\"/919j', html='1FH?P<wkuio mirol=\"pd9-8\">7+f(\"</wkuio>/919j'` | `plain=';-E|05e\"@$e-\\'@h', html=';-E|0<vxuxu jwtqh=\"GCPbF\">5e\"@$</vxuxu>e-\\'@h'` | `plain='4y;9^:z T\"Z;+=q', html='4y;9^<yqtzq balnq=\"{^Nld\">:z T\"</yqtzq>Z;+=q'` | `plain='V,!t=D\"N7iEjb7', html='V,!t<xmyrn hjpns=\"17A/c\">=D\"N7</xmyrn>iEjb7'` | `plain='tJ\"yOO.N-~38:P', html='tJ\"yO<lmyni orwqm=\"faFCd\">O.N-</lmyni>~38:P'` | `plain='5_\"@qw&gx(j4.$2', html='5_\"@q<bzshz qlmim=\"]~xS\">w&gx(</bzshz>j4.$2'` | `plain='tpJxZpom\"9&8tFr', html='tpJxZ<ulnsk uatqc=\"D72C!\">pom\"9</ulnsk>&8tFr'` | `plain='\"+rJKWg`Lr9f-0', html='\"+rJK<hmzxp lufht=\"^l][v\">Wg`Lr</hmzxp>9f-0'` | `plain='1*vJ&\"5sBmxf_g]', html='1*vJ&<vosvy pbuxt=\"i-jo8\">\"5sBm</vosvy>xf_g]'` | `plain='jjcmnvq0-\"dC\\'|;', html='jjcmn<xeuza neyus=\"uQMYI\">vq0-\"</xeuza>dC\\'|;'` | `plain='H8Lf1&(DeIOB0\"/', html='H8Lf1<twpvu iqekq=\"5oiq5\">&(DeI</twpvu>OB0\"/'` | `plain=',l4KwoG%\"w_9\\\\=', html=',l4K<basmc bmymn=\"==@`*\">woG%\"</basmc>w_9\\\\='` | `plain='W5c]h\"I{h9cmCFS', html='W5c]h<ajxfb jkqnu=\"/dn##\">\"I{h9</ajxfb>cmCFS'` | `plain='3#(2 .EoiNvUc#\"', html='3#(2 <wjcrf jywhc=\"i_D>(\">.EoiN</wjcrf>vUc#\"'` | `plain='F\"C1VPtkknd^m4,', html='F\"C1V<xmsfz tqhqv=\"Z`o6j\">Ptkkn</xmsfz>d^m4,'` | `plain='3bwoOF1BQ\"7=9Vd', html='3bwoO<ypwuj hnenh=\"}>%%`\">F1BQ\"</ypwuj>7=9Vd'` | `plain='D1F-+\\\\cVX`7t:\"D', html='D1F-+<eipxm fzkng=\"=Ch2}\">\\\\cVX`</eipxm>7t:\"D'` | `plain='.[?=!4i\"-{{11np', html='.[?=!<yttbl qdwlo=\";TSYW\">4i\"-{</yttbl>{11np'` | `plain=')cXlLQ9\"\\'\\'LRev1', html=')cXlL<qqxlm hicza=\".E.|%\">Q9\"\\'\\'</qqxlm>LRev1'` | `plain='@|8Ft\\'D\"z~Ol%#4', html='@|8Ft<knbnp btbbc=\"&l8Vp\">\\'D\"z~</knbnp>Ol%#4'` | `plain='PR\"Q9vxT`61{pVe', html='PR\"Q9<rdxmm oxyqx=\"A`8.c\">vxT`6</rdxmm>1{pVe'` | `plain='\"j5?FDp8R7qQz^?', html='\"j5?F<bwlrc dyfms=\"LF3%7\">Dp8R7</bwlrc>qQz^?'` | `plain=']L{V^MkEVO]\"G@Y', html=']L{V^<mbhdt yuwiu=\"^;x.J\">MkEVO</mbhdt>]\"G@Y'` | `plain='DN@\\'B31xWp:F^.\"', html='DN@\\'B<perzp mutsb=\"#_?*n\">31xWp</perzp>:F^.\"'` | `plain='xKRw9qTs\"l1vg+g', html='xKRw9<hdqei bkodg=\"s]thu\">qTs\"l</hdqei>1vg+g'` | `plain='y+BtE|By/eU\\\\C\"W', html='y+BtE<aszxk eernd=\"pt~5\">|By/e</aszxk>U\\\\C\"W'` | `plain='/j{m\"R@,+.195E', html='/j{m\"<saxwi xpkwf=\"xr9`6\">R@,+</saxwi>.195E'` | `plain='cv\"V9\\\\,*BD5a^&(', html='cv\"V9<dzglv oweny=\";V@*.\">\\\\,*BD</dzglv>5a^&('` | `plain='\"sy;64o]T~/tI~ ', html='\"sy;6<goomo piyjv=\"!2*,R\">4o]T~</goomo>/tI~ '` | `plain='1_ 5UjM]`F\"ZsqZ', html='1_ 5U<rasqu cxeuv=\"I*90/\">jM]`F</rasqu>\"ZsqZ'` | `plain='%\\'NeY\"yxnc{pv|?', html='%\\'NeY<abels mfwvr=\"#w{L]\">\"yxnc</abels>{pv|?'` | `plain='n{vAXPMFNvk\"ut@', html='n{vAX<hiwvo nklxr=\"L@G$2\">PMFNv</hiwvo>k\"ut@'` | `plain='Nm]M_Pm__|$\"71', html='Nm]M_<ziucq tdvuk=\"!dJ[I\">Pm__|</ziucq>$\"71'` | `plain='[Tst\"*=.@b%0Ox', html='[Tst<bkoty ckgnx=\"[m34;\">\"*=.@</bkoty>b%0Ox'` | `plain='P+\"~VLteI3*Wp\\\\[', html='P+\"~V<iqgkh mvirm=\"?BD\\\\m\">LteI3</iqgkh>*Wp\\\\['` | `plain='g^1:yU6-);I*\"{a', html='g^1:y<cxzbf nclyo=\"5~Ww/\">U6-);</cxzbf>I*\"{a'` | `plain='\\'\"x~~[Vk@v1[\"2a', html='\\'\"x~~<ykxfm bovas=\"41p=E\">[Vk@v</ykxfm>1[\"2a'` | `plain=']Y(+HAJ\"@GmaR 8', html=']Y(+H<izkdq hzxfb=\"@9YTQ\">AJ\"@G</izkdq>maR 8'` | `plain='FsWD,{&jChqm\"49', html='FsWD,<mgxok kvhut=\"Z&97m\">{&jCh</mgxok>qm\"49'` | `plain=',?k%CLi\"=i/NHm/', html=',?k%C<olhrw cxrdq=\"973A2\">Li\"=i</olhrw>/NHm/'` | `plain='.fE[/:5*fqHJ\"(', html='.fE[<rvxtl gnlyd=\"IBpJI\">/:5*f</rvxtl>qHJ\"('` | `plain='K*Xhtim\"9^K+p2c', html='K*Xht<rwboe mnrsw=\"2_?20\">im\"9^</rwboe>K+p2c'` | `plain='i\"[c6^zs=xvo1Oz', html='i\"[c6<cvfea jdfsh=\">J?3Z\">^zs=x</cvfea>vo1Oz'` | `plain='\\\\iBTt#S\")8{%uOf', html='\\\\iBTt<rljvk kaebh=\"mll!p\">#S\")8</rljvk>{%uOf'` | `plain='84BNwqkPO\"Y@Nbj', html='84BNw<tzavb supxl=\"la#4O\">qkPO\"</tzavb>Y@Nbj'` | `plain='x3nG&Ti\"wv]:Zhx', html='x3nG&<uahfg oevxe=\"N{IJ\">Ti\"wv</uahfg>]:Zhx'` | `plain='ap!48,?[}U\"1OT3', html='ap!48<edecz krshx=\"pjG6i\">,?[}U</edecz>\"1OT3'` | `plain='+@s\"olO_:}q/f}3', html='+@s\"o<eokjc ublrk=\" #zm~\">lO_:}</eokjc>q/f}3'` | `plain='o+=[yn=S&\"@PO~M', html='o+=[y<rmczx fvpap=\"b^q;;\">n=S&\"</rmczx>@PO~M'` | `plain='C$ZQGw!Xb]G)\"~', html='C$ZQ<nryuk cjaal=\"9niYA\">Gw!Xb</nryuk>]G)\"~'` | `plain='V\\\\\"S[Q~_!W6?i', html='V\\\\\"S<vgpqp hczle=\"g7U>R\">[Q~_</vgpqp>!W6?i'` | `plain='|^J5o{Y\"#f giGB', html='|^J5o<zqugo xyqzn=\"ef=+q\">{Y\"#f</zqugo> giGB'` | `plain='Y7Wl[]\"|b|_0IW;', html='Y7Wl[<bbnay ubreh=\"{9p}\">]\"|b|</bbnay>_0IW;'` | `plain='XU\\'Wo\"\\\\n2[RwGQh', html='XU\\'Wo<mtieb qrxzi=\"Yt)Pq\">\"\\\\n2[</mtieb>RwGQh'` | `plain='\"a\"U{e\"J{{LDMuI', html='\"a\"U{<cwfpc pugkm=\"`:yWp\">e\"J{{</cwfpc>LDMuI'` | `plain='|vT#ytc2*.\"u.Q', html='|vT#y<cdruy cmhmd=\"~j=8\">tc2*.</cdruy>\"u.Q'` | `plain='O8#k:jL(u\"y~;uf', html='O8#k:<kgloc flioj=\"HMB^\">jL(u\"</kgloc>y~;uf'` | `plain='nUN*4,U;yr?H\"ri', html='nUN*4<pogxl szrxh=\"C7=~|\">,U;yr</pogxl>?H\"ri'` | `plain='YI3wr;\"=S0`z4U', html='YI3wr<vknng hrgjs=\"9kvu/\">;\"=S0</vknng>`z4U'` | `plain='_Nqn#WrR@\"_dL%:', html='_Nqn#<zmmcu clsfa=\"3?Fvv\">WrR@\"</zmmcu>_dL%:'` | `plain='K_Kql0O\"v]L.g2i', html='K_Kql<rdqyu blhir=\"EA+b-\">0O\"v]</rdqyu>L.g2i'` | `plain='X^m3OL%PW\"&&4', html='X^m3O<litgc oqmok=\";7s-\\\\\">L%PW</litgc>\"&&4'` | `plain='aQ&eCtp\"ol#.gv5', html='aQ&eC<guvpt hczxt=\"+9Yws\">tp\"ol</guvpt>#.gv5'` | `plain='a\\'uMR\")\\'dTL#w\\'p', html='a\\'uMR<fveow eqxee=\"ZWI<?\">\")\\'dT</fveow>L#w\\'p'` | `plain='eDK1%`6w`%JK\"RV', html='eDK1%<wwrrq cingz=\")9vS:\">`6w`%</wwrrq>JK\"RV'` | `plain='2\"3V~+}%s?2\\\\H{R', html='2\"3V~<xkvcg oiwqy=\"t<]p6\">+}%s?</xkvcg>2\\\\H{R'` | \n",
       "| ------------------------- | ---- | ---- | ---- | ---- | ---- | ---- | ---- | ---- | ---- | ---- | ---- | ---- | ---- | ---- | ---- | ---- | ---- | ---- | ---- | ---- | ---- | ---- | ---- | ---- | ---- | ---- | ---- | ---- | ---- | ---- | ---- | ---- | ---- | ---- | ---- | ---- | ---- | ---- | ---- | ---- | ---- | ---- | ---- | ---- | ---- | ---- | ---- | ---- | ---- | ---- | ---- | ---- | ---- | ---- | ---- | ---- | ---- | ---- | ---- | ---- | ---- | ---- | ---- | ---- | ---- | ---- | ---- | ---- | ---- | ---- | ---- | ---- | ---- | ---- | ---- | ---- | ---- | ---- | ---- | ---- | ---- | ---- | ---- | ---- | ---- | ---- | ---- | ---- | ---- | ---- | ---- | ---- | ---- | ---- | ---- | ---- | ---- | ---- | ---- | ---- | ---- | ---- | ---- | ---- | ---- | ---- | ---- | ---- | ---- | ---- | ---- | ---- | ---- | ---- | ---- | ---- | ---- | ---- | ---- | ---- | ---- | ---- | ---- | ---- | ---- | ---- | ---- | ---- | ---- | ---- | ---- | ---- | ---- | ---- | ---- | ---- | ---- | ---- | ---- | ---- | ---- | ---- | ---- | ---- | ---- | ---- | ---- | ---- | ---- | ---- | ---- | ---- | ---- | ---- | ---- | ---- | ---- | ---- | ---- | ---- | ---- | ---- | ---- | ---- | ---- | ---- | ---- | ---- | ---- | ---- | ---- | ---- | ---- | ---- | ---- | ---- | ---- | ---- | ---- | ---- | ---- | ---- | ---- | ---- | ---- | ---- | ---- | ---- | ---- | ---- | ---- | ---- | ---- | ---- | ---- | ---- | ---- | ---- | ---- | ---- | \n",
       "| <samp style=\"background-color: hsl(35.14718625761431, 100.0%, 80%)\" title=\" 70%\">     remove_html_markup:1</samp> |    X |    X |    X |    X |    X |    X |    X |    X |    X |    X |    X |    X |    X |    X |    X |    X |    X |    X |    X |    X |    X |    X |    X |    X |    X |    X |    X |    X |    X |    X |    X |    X |    X |    X |    X |    X |    X |    X |    X |    X |    X |    X |    X |    X |    X |    X |    X |    X |    X |    X |    X |    X |    X |    X |    X |    X |    X |    X |    X |    X |    X |    X |    X |    X |    X |    X |    X |    X |    X |    X |    X |    X |    X |    X |    X |    X |    X |    X |    X |    X |    X |    X |    X |    X |    X |    X |    X |    X |    X |    X |    X |    X |    X |    X |    X |    X |    X |    X |    X |    X |    X |    X |    X |    X |    X |    X |    X |    X |    X |    X |    X |    X |    X |    X |    X |    X |    X |    X |    X |    X |    X |    X |    X |    X |    X |    X |    X |    X |    X |    X |    X |    X |    X |    X |    X |    X |    X |    X |    X |    X |    X |    X |    X |    X |    X |    X |    X |    X |    X |    X |    X |    X |    X |    X |    X |    X |    X |    X |    X |    X |    X |    X |    X |    X |    X |    X |    X |    X |    X |    X |    X |    X |    X |    X |    X |    X |    X |    X |    X |    X |    X |    X |    X |    X |    X |    X |    X |    X |    X |    X |    X |    X |    X |    X |    X |    X |    X |    X |    X |    X | \n",
       "| <samp style=\"background-color: hsl(35.14718625761431, 100.0%, 80%)\" title=\" 70%\">     remove_html_markup:2</samp> |    X |    X |    X |    X |    X |    X |    X |    X |    X |    X |    X |    X |    X |    X |    X |    X |    X |    X |    X |    X |    X |    X |    X |    X |    X |    X |    X |    X |    X |    X |    X |    X |    X |    X |    X |    X |    X |    X |    X |    X |    X |    X |    X |    X |    X |    X |    X |    X |    X |    X |    X |    X |    X |    X |    X |    X |    X |    X |    X |    X |    X |    X |    X |    X |    X |    X |    X |    X |    X |    X |    X |    X |    X |    X |    X |    X |    X |    X |    X |    X |    X |    X |    X |    X |    X |    X |    X |    X |    X |    X |    X |    X |    X |    X |    X |    X |    X |    X |    X |    X |    X |    X |    X |    X |    X |    X |    X |    X |    X |    X |    X |    X |    X |    X |    X |    X |    X |    X |    X |    X |    X |    X |    X |    X |    X |    X |    X |    X |    X |    X |    X |    X |    X |    X |    X |    X |    X |    X |    X |    X |    X |    X |    X |    X |    X |    X |    X |    X |    X |    X |    X |    X |    X |    X |    X |    X |    X |    X |    X |    X |    X |    X |    X |    X |    X |    X |    X |    X |    X |    X |    X |    X |    X |    X |    X |    X |    X |    X |    X |    X |    X |    X |    X |    X |    X |    X |    X |    X |    X |    X |    X |    X |    X |    X |    X |    X |    X |    X |    X |    X | \n",
       "| <samp style=\"background-color: hsl(35.14718625761431, 100.0%, 80%)\" title=\" 70%\">     remove_html_markup:3</samp> |    X |    X |    X |    X |    X |    X |    X |    X |    X |    X |    X |    X |    X |    X |    X |    X |    X |    X |    X |    X |    X |    X |    X |    X |    X |    X |    X |    X |    X |    X |    X |    X |    X |    X |    X |    X |    X |    X |    X |    X |    X |    X |    X |    X |    X |    X |    X |    X |    X |    X |    X |    X |    X |    X |    X |    X |    X |    X |    X |    X |    X |    X |    X |    X |    X |    X |    X |    X |    X |    X |    X |    X |    X |    X |    X |    X |    X |    X |    X |    X |    X |    X |    X |    X |    X |    X |    X |    X |    X |    X |    X |    X |    X |    X |    X |    X |    X |    X |    X |    X |    X |    X |    X |    X |    X |    X |    X |    X |    X |    X |    X |    X |    X |    X |    X |    X |    X |    X |    X |    X |    X |    X |    X |    X |    X |    X |    X |    X |    X |    X |    X |    X |    X |    X |    X |    X |    X |    X |    X |    X |    X |    X |    X |    X |    X |    X |    X |    X |    X |    X |    X |    X |    X |    X |    X |    X |    X |    X |    X |    X |    X |    X |    X |    X |    X |    X |    X |    X |    X |    X |    X |    X |    X |    X |    X |    X |    X |    X |    X |    X |    X |    X |    X |    X |    X |    X |    X |    X |    X |    X |    X |    X |    X |    X |    X |    X |    X |    X |    X |    X | \n",
       "| <samp style=\"background-color: hsl(35.14718625761431, 100.0%, 80%)\" title=\" 70%\">     remove_html_markup:4</samp> |    X |    X |    X |    X |    X |    X |    X |    X |    X |    X |    X |    X |    X |    X |    X |    X |    X |    X |    X |    X |    X |    X |    X |    X |    X |    X |    X |    X |    X |    X |    X |    X |    X |    X |    X |    X |    X |    X |    X |    X |    X |    X |    X |    X |    X |    X |    X |    X |    X |    X |    X |    X |    X |    X |    X |    X |    X |    X |    X |    X |    X |    X |    X |    X |    X |    X |    X |    X |    X |    X |    X |    X |    X |    X |    X |    X |    X |    X |    X |    X |    X |    X |    X |    X |    X |    X |    X |    X |    X |    X |    X |    X |    X |    X |    X |    X |    X |    X |    X |    X |    X |    X |    X |    X |    X |    X |    X |    X |    X |    X |    X |    X |    X |    X |    X |    X |    X |    X |    X |    X |    X |    X |    X |    X |    X |    X |    X |    X |    X |    X |    X |    X |    X |    X |    X |    X |    X |    X |    X |    X |    X |    X |    X |    X |    X |    X |    X |    X |    X |    X |    X |    X |    X |    X |    X |    X |    X |    X |    X |    X |    X |    X |    X |    X |    X |    X |    X |    X |    X |    X |    X |    X |    X |    X |    X |    X |    X |    X |    X |    X |    X |    X |    X |    X |    X |    X |    X |    X |    X |    X |    X |    X |    X |    X |    X |    X |    X |    X |    X |    X | \n",
       "| <samp style=\"background-color: hsl(35.14718625761431, 100.0%, 80%)\" title=\" 70%\">     remove_html_markup:6</samp> |    X |    X |    X |    X |    X |    X |    X |    X |    X |    X |    X |    X |    X |    X |    X |    X |    X |    X |    X |    X |    X |    X |    X |    X |    X |    X |    X |    X |    X |    X |    X |    X |    X |    X |    X |    X |    X |    X |    X |    X |    X |    X |    X |    X |    X |    X |    X |    X |    X |    X |    X |    X |    X |    X |    X |    X |    X |    X |    X |    X |    X |    X |    X |    X |    X |    X |    X |    X |    X |    X |    X |    X |    X |    X |    X |    X |    X |    X |    X |    X |    X |    X |    X |    X |    X |    X |    X |    X |    X |    X |    X |    X |    X |    X |    X |    X |    X |    X |    X |    X |    X |    X |    X |    X |    X |    X |    X |    X |    X |    X |    X |    X |    X |    X |    X |    X |    X |    X |    X |    X |    X |    X |    X |    X |    X |    X |    X |    X |    X |    X |    X |    X |    X |    X |    X |    X |    X |    X |    X |    X |    X |    X |    X |    X |    X |    X |    X |    X |    X |    X |    X |    X |    X |    X |    X |    X |    X |    X |    X |    X |    X |    X |    X |    X |    X |    X |    X |    X |    X |    X |    X |    X |    X |    X |    X |    X |    X |    X |    X |    X |    X |    X |    X |    X |    X |    X |    X |    X |    X |    X |    X |    X |    X |    X |    X |    X |    X |    X |    X |    X | \n",
       "| <samp style=\"background-color: hsl(35.14718625761431, 100.0%, 80%)\" title=\" 70%\">     remove_html_markup:7</samp> |    X |    X |    X |    X |    X |    X |    X |    X |    X |    X |    X |    X |    X |    X |    X |    X |    X |    X |    X |    X |    X |    X |    X |    X |    X |    X |    X |    X |    X |    X |    X |    X |    X |    X |    X |    X |    X |    X |    X |    X |    X |    X |    X |    X |    X |    X |    X |    X |    X |    X |    X |    X |    X |    X |    X |    X |    X |    X |    X |    X |    X |    X |    X |    X |    X |    X |    X |    X |    X |    X |    X |    X |    X |    X |    X |    X |    X |    X |    X |    X |    X |    X |    X |    X |    X |    X |    X |    X |    X |    X |    X |    X |    X |    X |    X |    X |    X |    X |    X |    X |    X |    X |    X |    X |    X |    X |    X |    X |    X |    X |    X |    X |    X |    X |    X |    X |    X |    X |    X |    X |    X |    X |    X |    X |    X |    X |    X |    X |    X |    X |    X |    X |    X |    X |    X |    X |    X |    X |    X |    X |    X |    X |    X |    X |    X |    X |    X |    X |    X |    X |    X |    X |    X |    X |    X |    X |    X |    X |    X |    X |    X |    X |    X |    X |    X |    X |    X |    X |    X |    X |    X |    X |    X |    X |    X |    X |    X |    X |    X |    X |    X |    X |    X |    X |    X |    X |    X |    X |    X |    X |    X |    X |    X |    X |    X |    X |    X |    X |    X |    X | \n",
       "| <samp style=\"background-color: hsl(53.3989532967738, 100.0%, 80%)\" title=\" 55%\">     remove_html_markup:8</samp> |    X |    X |    X |    X |    X |    X |    X |    X |    X |    X |    X |    X |    X |    X |    X |    X |    X |    X |    X |    X |    X |    X |    X |    X |    X |    X |    X |    X |    X |    X |    X |    X |    X |    X |    X |    X |    X |    X |    X |    X |    X |    X |    X |    X |    X |    X |    X |    X |    X |    X |    X |    X |    X |    X |    X |    X |    X |    X |    X |    X |    X |    X |    X |    X |    X |    X |    X |    X |    X |    X |    X |    X |    X |    X |    X |    X |    X |    X |    X |    X |    X |    X |    X |    X |    X |    X |    X |    X |    X |    X |    X |    X |    X |    X |    X |    X |    X |    X |    X |    X |    - |    - |    X |    - |    X |    - |    - |    X |    - |    X |    X |    X |    X |    X |    X |    X |    X |    - |    X |    X |    X |    X |    X |    X |    X |    - |    - |    X |    - |    X |    - |    - |    X |    - |    X |    X |    X |    X |    - |    - |    X |    - |    X |    X |    X |    X |    X |    X |    - |    X |    X |    X |    X |    X |    - |    - |    X |    X |    X |    X |    - |    - |    - |    X |    X |    X |    X |    X |    - |    X |    - |    X |    X |    X |    X |    X |    - |    X |    X |    X |    X |    - |    X |    X |    - |    X |    X |    X |    X |    X |    X |    X |    X |    X |    X |    X |    X |    X |    X |    X | \n",
       "| <samp style=\"background-color: hsl(35.14718625761431, 100.0%, 80%)\" title=\" 70%\">     remove_html_markup:9</samp> |    X |    X |    X |    X |    X |    X |    X |    X |    X |    X |    X |    X |    X |    X |    X |    X |    X |    X |    X |    X |    X |    X |    X |    X |    X |    X |    X |    X |    X |    X |    X |    X |    X |    X |    X |    X |    X |    X |    X |    X |    X |    X |    X |    X |    X |    X |    X |    X |    X |    X |    X |    X |    X |    X |    X |    X |    X |    X |    X |    X |    X |    X |    X |    X |    X |    X |    X |    X |    X |    X |    X |    X |    X |    X |    X |    X |    X |    X |    X |    X |    X |    X |    X |    X |    X |    X |    X |    X |    X |    X |    X |    X |    X |    X |    X |    X |    X |    X |    X |    X |    X |    X |    X |    X |    X |    X |    X |    X |    X |    X |    X |    X |    X |    X |    X |    X |    X |    X |    X |    X |    X |    X |    X |    X |    X |    X |    X |    X |    X |    X |    X |    X |    X |    X |    X |    X |    X |    X |    X |    X |    X |    X |    X |    X |    X |    X |    X |    X |    X |    X |    X |    X |    X |    X |    X |    X |    X |    X |    X |    X |    X |    X |    X |    X |    X |    X |    X |    X |    X |    X |    X |    X |    X |    X |    X |    X |    X |    X |    X |    X |    X |    X |    X |    X |    X |    X |    X |    X |    X |    X |    X |    X |    X |    X |    X |    X |    X |    X |    X |    X | \n",
       "| <samp style=\"background-color: hsl(52.680893730193375, 100.0%, 80%)\" title=\" 56%\">    remove_html_markup:10</samp> |    X |    X |    X |    X |    X |    X |    X |    X |    X |    X |    X |    X |    X |    X |    X |    X |    X |    X |    X |    X |    X |    X |    X |    X |    X |    X |    X |    X |    X |    X |    X |    X |    X |    X |    X |    X |    X |    X |    X |    X |    X |    X |    X |    X |    X |    X |    X |    X |    X |    X |    X |    X |    X |    X |    X |    X |    X |    X |    X |    X |    X |    X |    X |    X |    X |    X |    X |    X |    X |    X |    X |    X |    X |    X |    X |    X |    X |    X |    X |    X |    X |    X |    X |    X |    X |    X |    X |    X |    X |    X |    X |    X |    X |    X |    X |    X |    X |    X |    X |    X |    - |    - |    X |    - |    X |    - |    - |    X |    - |    X |    X |    X |    X |    X |    X |    X |    X |    - |    X |    - |    X |    X |    X |    X |    X |    - |    - |    X |    - |    X |    - |    - |    X |    X |    X |    X |    X |    X |    - |    - |    X |    - |    X |    X |    X |    X |    X |    X |    - |    X |    X |    X |    X |    X |    - |    - |    X |    X |    X |    X |    - |    - |    - |    X |    X |    X |    X |    X |    - |    X |    - |    X |    X |    X |    X |    X |    X |    X |    X |    X |    X |    - |    X |    X |    X |    X |    X |    X |    X |    X |    X |    X |    X |    X |    X |    X |    X |    X |    X |    - | \n",
       "| <samp style=\"background-color: hsl(35.14718625761431, 100.0%, 80%)\" title=\" 70%\">    remove_html_markup:11</samp> |    X |    X |    X |    X |    X |    X |    X |    X |    X |    X |    X |    X |    X |    X |    X |    X |    X |    X |    X |    X |    X |    X |    X |    X |    X |    X |    X |    X |    X |    X |    X |    X |    X |    X |    X |    X |    X |    X |    X |    X |    X |    X |    X |    X |    X |    X |    X |    X |    X |    X |    X |    X |    X |    X |    X |    X |    X |    X |    X |    X |    X |    X |    X |    X |    X |    X |    X |    X |    X |    X |    X |    X |    X |    X |    X |    X |    X |    X |    X |    X |    X |    X |    X |    X |    X |    X |    X |    X |    X |    X |    X |    X |    X |    X |    X |    X |    X |    X |    X |    X |    X |    X |    X |    X |    X |    X |    X |    X |    X |    X |    X |    X |    X |    X |    X |    X |    X |    X |    X |    X |    X |    X |    X |    X |    X |    X |    X |    X |    X |    X |    X |    X |    X |    X |    X |    X |    X |    X |    X |    X |    X |    X |    X |    X |    X |    X |    X |    X |    X |    X |    X |    X |    X |    X |    X |    X |    X |    X |    X |    X |    X |    X |    X |    X |    X |    X |    X |    X |    X |    X |    X |    X |    X |    X |    X |    X |    X |    X |    X |    X |    X |    X |    X |    X |    X |    X |    X |    X |    X |    X |    X |    X |    X |    X |    X |    X |    X |    X |    X |    X | \n",
       "| <samp style=\"background-color: hsl(35.14718625761431, 100.0%, 80%)\" title=\" 70%\">    remove_html_markup:12</samp> |    X |    X |    X |    X |    X |    X |    X |    X |    X |    X |    X |    X |    X |    X |    X |    X |    X |    X |    X |    X |    X |    X |    X |    X |    X |    X |    X |    X |    X |    X |    X |    X |    X |    X |    X |    X |    X |    X |    X |    X |    X |    X |    X |    X |    X |    X |    X |    X |    X |    X |    X |    X |    X |    X |    X |    X |    X |    X |    X |    X |    X |    X |    X |    X |    X |    X |    X |    X |    X |    X |    X |    X |    X |    X |    X |    X |    X |    X |    X |    X |    X |    X |    X |    X |    X |    X |    X |    X |    X |    X |    X |    X |    X |    X |    X |    X |    X |    X |    X |    X |    X |    X |    X |    X |    X |    X |    X |    X |    X |    X |    X |    X |    X |    X |    X |    X |    X |    X |    X |    X |    X |    X |    X |    X |    X |    X |    X |    X |    X |    X |    X |    X |    X |    X |    X |    X |    X |    X |    X |    X |    X |    X |    X |    X |    X |    X |    X |    X |    X |    X |    X |    X |    X |    X |    X |    X |    X |    X |    X |    X |    X |    X |    X |    X |    X |    X |    X |    X |    X |    X |    X |    X |    X |    X |    X |    X |    X |    X |    X |    X |    X |    X |    X |    X |    X |    X |    X |    X |    X |    X |    X |    X |    X |    X |    X |    X |    X |    X |    X |    X | \n",
       "| <samp style=\"background-color: hsl(35.14718625761431, 100.0%, 80%)\" title=\" 70%\">    remove_html_markup:13</samp> |    X |    X |    X |    X |    X |    X |    X |    X |    X |    X |    X |    X |    X |    X |    X |    X |    X |    X |    X |    X |    X |    X |    X |    X |    X |    X |    X |    X |    X |    X |    X |    X |    X |    X |    X |    X |    X |    X |    X |    X |    X |    X |    X |    X |    X |    X |    X |    X |    X |    X |    X |    X |    X |    X |    X |    X |    X |    X |    X |    X |    X |    X |    X |    X |    X |    X |    X |    X |    X |    X |    X |    X |    X |    X |    X |    X |    X |    X |    X |    X |    X |    X |    X |    X |    X |    X |    X |    X |    X |    X |    X |    X |    X |    X |    X |    X |    X |    X |    X |    X |    X |    X |    X |    X |    X |    X |    X |    X |    X |    X |    X |    X |    X |    X |    X |    X |    X |    X |    X |    X |    X |    X |    X |    X |    X |    X |    X |    X |    X |    X |    X |    X |    X |    X |    X |    X |    X |    X |    X |    X |    X |    X |    X |    X |    X |    X |    X |    X |    X |    X |    X |    X |    X |    X |    X |    X |    X |    X |    X |    X |    X |    X |    X |    X |    X |    X |    X |    X |    X |    X |    X |    X |    X |    X |    X |    X |    X |    X |    X |    X |    X |    X |    X |    X |    X |    X |    X |    X |    X |    X |    X |    X |    X |    X |    X |    X |    X |    X |    X |    X | \n",
       "| <samp style=\"background-color: hsl(35.14718625761431, 100.0%, 80%)\" title=\" 70%\">    remove_html_markup:14</samp> |    X |    X |    X |    X |    X |    X |    X |    X |    X |    X |    X |    X |    X |    X |    X |    X |    X |    X |    X |    X |    X |    X |    X |    X |    X |    X |    X |    X |    X |    X |    X |    X |    X |    X |    X |    X |    X |    X |    X |    X |    X |    X |    X |    X |    X |    X |    X |    X |    X |    X |    X |    X |    X |    X |    X |    X |    X |    X |    X |    X |    X |    X |    X |    X |    X |    X |    X |    X |    X |    X |    X |    X |    X |    X |    X |    X |    X |    X |    X |    X |    X |    X |    X |    X |    X |    X |    X |    X |    X |    X |    X |    X |    X |    X |    X |    X |    X |    X |    X |    X |    X |    X |    X |    X |    X |    X |    X |    X |    X |    X |    X |    X |    X |    X |    X |    X |    X |    X |    X |    X |    X |    X |    X |    X |    X |    X |    X |    X |    X |    X |    X |    X |    X |    X |    X |    X |    X |    X |    X |    X |    X |    X |    X |    X |    X |    X |    X |    X |    X |    X |    X |    X |    X |    X |    X |    X |    X |    X |    X |    X |    X |    X |    X |    X |    X |    X |    X |    X |    X |    X |    X |    X |    X |    X |    X |    X |    X |    X |    X |    X |    X |    X |    X |    X |    X |    X |    X |    X |    X |    X |    X |    X |    X |    X |    X |    X |    X |    X |    X |    X | \n",
       "| <samp style=\"background-color: hsl(35.14718625761431, 100.0%, 80%)\" title=\" 70%\">    remove_html_markup:16</samp> |    X |    X |    X |    X |    X |    X |    X |    X |    X |    X |    X |    X |    X |    X |    X |    X |    X |    X |    X |    X |    X |    X |    X |    X |    X |    X |    X |    X |    X |    X |    X |    X |    X |    X |    X |    X |    X |    X |    X |    X |    X |    X |    X |    X |    X |    X |    X |    X |    X |    X |    X |    X |    X |    X |    X |    X |    X |    X |    X |    X |    X |    X |    X |    X |    X |    X |    X |    X |    X |    X |    X |    X |    X |    X |    X |    X |    X |    X |    X |    X |    X |    X |    X |    X |    X |    X |    X |    X |    X |    X |    X |    X |    X |    X |    X |    X |    X |    X |    X |    X |    X |    X |    X |    X |    X |    X |    X |    X |    X |    X |    X |    X |    X |    X |    X |    X |    X |    X |    X |    X |    X |    X |    X |    X |    X |    X |    X |    X |    X |    X |    X |    X |    X |    X |    X |    X |    X |    X |    X |    X |    X |    X |    X |    X |    X |    X |    X |    X |    X |    X |    X |    X |    X |    X |    X |    X |    X |    X |    X |    X |    X |    X |    X |    X |    X |    X |    X |    X |    X |    X |    X |    X |    X |    X |    X |    X |    X |    X |    X |    X |    X |    X |    X |    X |    X |    X |    X |    X |    X |    X |    X |    X |    X |    X |    X |    X |    X |    X |    X |    X | \n",
       "| <samp style=\"background-color: hsl(35.14718625761431, 100.0%, 80%)\" title=\" 70%\">remove_html_markup_test:1</samp> |    X |    X |    X |    X |    X |    X |    X |    X |    X |    X |    X |    X |    X |    X |    X |    X |    X |    X |    X |    X |    X |    X |    X |    X |    X |    X |    X |    X |    X |    X |    X |    X |    X |    X |    X |    X |    X |    X |    X |    X |    X |    X |    X |    X |    X |    X |    X |    X |    X |    X |    X |    X |    X |    X |    X |    X |    X |    X |    X |    X |    X |    X |    X |    X |    X |    X |    X |    X |    X |    X |    X |    X |    X |    X |    X |    X |    X |    X |    X |    X |    X |    X |    X |    X |    X |    X |    X |    X |    X |    X |    X |    X |    X |    X |    X |    X |    X |    X |    X |    X |    X |    X |    X |    X |    X |    X |    X |    X |    X |    X |    X |    X |    X |    X |    X |    X |    X |    X |    X |    X |    X |    X |    X |    X |    X |    X |    X |    X |    X |    X |    X |    X |    X |    X |    X |    X |    X |    X |    X |    X |    X |    X |    X |    X |    X |    X |    X |    X |    X |    X |    X |    X |    X |    X |    X |    X |    X |    X |    X |    X |    X |    X |    X |    X |    X |    X |    X |    X |    X |    X |    X |    X |    X |    X |    X |    X |    X |    X |    X |    X |    X |    X |    X |    X |    X |    X |    X |    X |    X |    X |    X |    X |    X |    X |    X |    X |    X |    X |    X |    X | \n",
       "| <samp style=\"background-color: hsl(35.14718625761431, 100.0%, 80%)\" title=\" 70%\">remove_html_markup_test:2</samp> |    X |    X |    X |    X |    X |    X |    X |    X |    X |    X |    X |    X |    X |    X |    X |    X |    X |    X |    X |    X |    X |    X |    X |    X |    X |    X |    X |    X |    X |    X |    X |    X |    X |    X |    X |    X |    X |    X |    X |    X |    X |    X |    X |    X |    X |    X |    X |    X |    X |    X |    X |    X |    X |    X |    X |    X |    X |    X |    X |    X |    X |    X |    X |    X |    X |    X |    X |    X |    X |    X |    X |    X |    X |    X |    X |    X |    X |    X |    X |    X |    X |    X |    X |    X |    X |    X |    X |    X |    X |    X |    X |    X |    X |    X |    X |    X |    X |    X |    X |    X |    X |    X |    X |    X |    X |    X |    X |    X |    X |    X |    X |    X |    X |    X |    X |    X |    X |    X |    X |    X |    X |    X |    X |    X |    X |    X |    X |    X |    X |    X |    X |    X |    X |    X |    X |    X |    X |    X |    X |    X |    X |    X |    X |    X |    X |    X |    X |    X |    X |    X |    X |    X |    X |    X |    X |    X |    X |    X |    X |    X |    X |    X |    X |    X |    X |    X |    X |    X |    X |    X |    X |    X |    X |    X |    X |    X |    X |    X |    X |    X |    X |    X |    X |    X |    X |    X |    X |    X |    X |    X |    X |    X |    X |    X |    X |    X |    X |    X |    X |    X | \n",
       "| <samp style=\"background-color: hsl(35.14718625761431, 100.0%, 80%)\" title=\" 70%\">remove_html_markup_test:3</samp> |    X |    X |    X |    X |    X |    X |    X |    X |    X |    X |    X |    X |    X |    X |    X |    X |    X |    X |    X |    X |    X |    X |    X |    X |    X |    X |    X |    X |    X |    X |    X |    X |    X |    X |    X |    X |    X |    X |    X |    X |    X |    X |    X |    X |    X |    X |    X |    X |    X |    X |    X |    X |    X |    X |    X |    X |    X |    X |    X |    X |    X |    X |    X |    X |    X |    X |    X |    X |    X |    X |    X |    X |    X |    X |    X |    X |    X |    X |    X |    X |    X |    X |    X |    X |    X |    X |    X |    X |    X |    X |    X |    X |    X |    X |    X |    X |    X |    X |    X |    X |    X |    X |    X |    X |    X |    X |    X |    X |    X |    X |    X |    X |    X |    X |    X |    X |    X |    X |    X |    X |    X |    X |    X |    X |    X |    X |    X |    X |    X |    X |    X |    X |    X |    X |    X |    X |    X |    X |    X |    X |    X |    X |    X |    X |    X |    X |    X |    X |    X |    X |    X |    X |    X |    X |    X |    X |    X |    X |    X |    X |    X |    X |    X |    X |    X |    X |    X |    X |    X |    X |    X |    X |    X |    X |    X |    X |    X |    X |    X |    X |    X |    X |    X |    X |    X |    X |    X |    X |    X |    X |    X |    X |    X |    X |    X |    X |    X |    X |    X |    X | \n",
       "| <samp style=\"background-color: hsl(0.0, 100.0%, 80%)\" title=\"100%\">remove_html_markup_test:4</samp> |    - |    - |    - |    - |    - |    - |    - |    - |    - |    - |    - |    - |    - |    - |    - |    - |    - |    - |    - |    - |    - |    - |    - |    - |    - |    - |    - |    - |    - |    - |    - |    - |    - |    - |    - |    - |    - |    - |    - |    - |    - |    - |    - |    - |    - |    - |    - |    - |    - |    - |    - |    - |    - |    - |    - |    - |    - |    - |    - |    - |    - |    - |    - |    - |    - |    - |    - |    - |    - |    - |    - |    - |    - |    - |    - |    - |    - |    - |    - |    - |    - |    - |    - |    - |    - |    - |    - |    - |    - |    - |    - |    - |    - |    - |    - |    - |    - |    - |    - |    - |    X |    X |    X |    X |    X |    X |    X |    X |    X |    X |    X |    X |    X |    X |    X |    X |    X |    X |    X |    X |    X |    X |    X |    X |    X |    X |    X |    X |    X |    X |    X |    X |    X |    X |    X |    X |    X |    X |    X |    X |    X |    X |    X |    X |    X |    X |    X |    X |    X |    X |    X |    X |    X |    X |    X |    X |    X |    X |    X |    X |    X |    X |    X |    X |    X |    X |    X |    X |    X |    X |    X |    X |    X |    X |    X |    X |    X |    X |    X |    X |    X |    X |    X |    X |    X |    X |    X |    X |    X |    X |    X |    X |    X |    X |    X |    X |    X |    X |    X |    X | \n"
      ],
      "text/plain": [
       "[('remove_html_markup_test', 4), ('remove_html_markup', 4), ('remove_html_markup_test', 3), ('remove_html_markup', 16), ('remove_html_markup', 3), ('remove_html_markup', 14), ('remove_html_markup', 6), ('remove_html_markup', 1), ('remove_html_markup', 12), ('remove_html_markup', 7), ('remove_html_markup_test', 2), ('remove_html_markup', 11), ('remove_html_markup', 2), ('remove_html_markup', 9), ('remove_html_markup_test', 1), ('remove_html_markup', 13), ('remove_html_markup', 10), ('remove_html_markup', 8)]"
      ]
     },
     "execution_count": 1,
     "metadata": {},
     "output_type": "execute_result"
    }
   ],
   "source": [
    "html_debugger"
   ]
  },
  {
   "cell_type": "markdown",
   "metadata": {
    "slideshow": {
     "slide_type": "fragment"
    }
   },
   "source": [
    "Let us create our repairer and run it."
   ]
  },
  {
   "cell_type": "code",
   "execution_count": 168,
   "metadata": {
    "execution": {
     "iopub.execute_input": "2021-02-28T15:42:01.136204Z",
     "iopub.status.busy": "2021-02-28T15:42:01.135576Z",
     "iopub.status.idle": "2021-02-28T15:42:01.138466Z",
     "shell.execute_reply": "2021-02-28T15:42:01.138912Z"
    },
    "slideshow": {
     "slide_type": "subslide"
    }
   },
   "outputs": [
    {
     "name": "stdout",
     "output_type": "stream",
     "text": [
      "Target code to be repaired:\n",
      "\u001b[34mdef\u001b[39;49;00m \u001b[32mremove_html_markup\u001b[39;49;00m(s):\n",
      "    tag = \u001b[34mFalse\u001b[39;49;00m\n",
      "    quote = \u001b[34mFalse\u001b[39;49;00m\n",
      "    out = \u001b[33m'\u001b[39;49;00m\u001b[33m'\u001b[39;49;00m\n",
      "    \u001b[34mfor\u001b[39;49;00m c \u001b[35min\u001b[39;49;00m s:\n",
      "        \u001b[34mif\u001b[39;49;00m c == \u001b[33m'\u001b[39;49;00m\u001b[33m<\u001b[39;49;00m\u001b[33m'\u001b[39;49;00m \u001b[35mand\u001b[39;49;00m \u001b[35mnot\u001b[39;49;00m quote:\n",
      "            tag = \u001b[34mTrue\u001b[39;49;00m\n",
      "        \u001b[34melif\u001b[39;49;00m c == \u001b[33m'\u001b[39;49;00m\u001b[33m>\u001b[39;49;00m\u001b[33m'\u001b[39;49;00m \u001b[35mand\u001b[39;49;00m \u001b[35mnot\u001b[39;49;00m quote:\n",
      "            tag = \u001b[34mFalse\u001b[39;49;00m\n",
      "        \u001b[34melif\u001b[39;49;00m c == \u001b[33m'\u001b[39;49;00m\u001b[33m\"\u001b[39;49;00m\u001b[33m'\u001b[39;49;00m \u001b[35mor\u001b[39;49;00m c == \u001b[33m\"\u001b[39;49;00m\u001b[33m'\u001b[39;49;00m\u001b[33m\"\u001b[39;49;00m \u001b[35mand\u001b[39;49;00m tag:\n",
      "            quote = \u001b[35mnot\u001b[39;49;00m quote\n",
      "        \u001b[34melif\u001b[39;49;00m \u001b[35mnot\u001b[39;49;00m tag:\n",
      "            out = out + c\n",
      "    \u001b[34mreturn\u001b[39;49;00m out\n",
      "\n"
     ]
    }
   ],
   "source": [
    "html_repairer = Repairer(html_debugger, log=True)"
   ]
  },
  {
   "cell_type": "code",
   "execution_count": 169,
   "metadata": {
    "execution": {
     "iopub.execute_input": "2021-02-28T15:42:01.214359Z",
     "iopub.status.busy": "2021-02-28T15:42:01.175375Z",
     "iopub.status.idle": "2021-02-28T15:42:54.816053Z",
     "shell.execute_reply": "2021-02-28T15:42:54.816466Z"
    },
    "slideshow": {
     "slide_type": "subslide"
    }
   },
   "outputs": [
    {
     "name": "stdout",
     "output_type": "stream",
     "text": [
      "Evolving population: iteration  99/100 fitness = 0.99   \r\n",
      "Best code (fitness = 0.99):\n",
      "\u001b[34mdef\u001b[39;49;00m \u001b[32mremove_html_markup\u001b[39;49;00m(s):\n",
      "    tag = \u001b[34mFalse\u001b[39;49;00m\n",
      "    quote = \u001b[34mFalse\u001b[39;49;00m\n",
      "    out = \u001b[33m'\u001b[39;49;00m\u001b[33m'\u001b[39;49;00m\n",
      "    \u001b[34mfor\u001b[39;49;00m c \u001b[35min\u001b[39;49;00m s:\n",
      "        \u001b[34mif\u001b[39;49;00m c == \u001b[33m'\u001b[39;49;00m\u001b[33m<\u001b[39;49;00m\u001b[33m'\u001b[39;49;00m \u001b[35mand\u001b[39;49;00m \u001b[35mnot\u001b[39;49;00m quote:\n",
      "            tag = \u001b[34mTrue\u001b[39;49;00m\n",
      "        \u001b[34melif\u001b[39;49;00m c == \u001b[33m'\u001b[39;49;00m\u001b[33m>\u001b[39;49;00m\u001b[33m'\u001b[39;49;00m \u001b[35mand\u001b[39;49;00m \u001b[35mnot\u001b[39;49;00m quote:\n",
      "            tag = \u001b[34mFalse\u001b[39;49;00m\n",
      "        \u001b[34melif\u001b[39;49;00m c == \u001b[33m'\u001b[39;49;00m\u001b[33m\"\u001b[39;49;00m\u001b[33m'\u001b[39;49;00m \u001b[35mor\u001b[39;49;00m c == \u001b[33m\"\u001b[39;49;00m\u001b[33m'\u001b[39;49;00m\u001b[33m\"\u001b[39;49;00m \u001b[35mand\u001b[39;49;00m tag:\n",
      "            quote = \u001b[35mnot\u001b[39;49;00m quote\n",
      "        \u001b[34melif\u001b[39;49;00m \u001b[35mnot\u001b[39;49;00m tag:\n",
      "            out = out + c\n",
      "    \u001b[34mreturn\u001b[39;49;00m out\n",
      "\n",
      "Reduced code (fitness = 0.99):\n",
      "\u001b[34mdef\u001b[39;49;00m \u001b[32mremove_html_markup\u001b[39;49;00m(s):\n",
      "    tag = \u001b[34mFalse\u001b[39;49;00m\n",
      "    quote = \u001b[34mFalse\u001b[39;49;00m\n",
      "    out = \u001b[33m'\u001b[39;49;00m\u001b[33m'\u001b[39;49;00m\n",
      "    \u001b[34mfor\u001b[39;49;00m c \u001b[35min\u001b[39;49;00m s:\n",
      "        \u001b[34mif\u001b[39;49;00m c == \u001b[33m'\u001b[39;49;00m\u001b[33m<\u001b[39;49;00m\u001b[33m'\u001b[39;49;00m \u001b[35mand\u001b[39;49;00m \u001b[35mnot\u001b[39;49;00m quote:\n",
      "            tag = \u001b[34mTrue\u001b[39;49;00m\n",
      "        \u001b[34melif\u001b[39;49;00m c == \u001b[33m'\u001b[39;49;00m\u001b[33m>\u001b[39;49;00m\u001b[33m'\u001b[39;49;00m \u001b[35mand\u001b[39;49;00m \u001b[35mnot\u001b[39;49;00m quote:\n",
      "            tag = \u001b[34mFalse\u001b[39;49;00m\n",
      "        \u001b[34melif\u001b[39;49;00m c == \u001b[33m'\u001b[39;49;00m\u001b[33m\"\u001b[39;49;00m\u001b[33m'\u001b[39;49;00m \u001b[35mor\u001b[39;49;00m c == \u001b[33m\"\u001b[39;49;00m\u001b[33m'\u001b[39;49;00m\u001b[33m\"\u001b[39;49;00m \u001b[35mand\u001b[39;49;00m tag:\n",
      "            quote = \u001b[35mnot\u001b[39;49;00m quote\n",
      "        \u001b[34melif\u001b[39;49;00m \u001b[35mnot\u001b[39;49;00m tag:\n",
      "            out = out + c\n",
      "    \u001b[34mreturn\u001b[39;49;00m out\n",
      "\n"
     ]
    }
   ],
   "source": [
    "best_tree, fitness = html_repairer.repair()"
   ]
  },
  {
   "cell_type": "markdown",
   "metadata": {
    "slideshow": {
     "slide_type": "subslide"
    }
   },
   "source": [
    "We see that the \"best\" code is still our original code, with no changes."
   ]
  },
  {
   "cell_type": "code",
   "execution_count": 170,
   "metadata": {
    "execution": {
     "iopub.execute_input": "2021-02-28T15:42:54.824099Z",
     "iopub.status.busy": "2021-02-28T15:42:54.823492Z",
     "iopub.status.idle": "2021-02-28T15:42:54.825937Z",
     "shell.execute_reply": "2021-02-28T15:42:54.826325Z"
    },
    "slideshow": {
     "slide_type": "fragment"
    }
   },
   "outputs": [
    {
     "data": {
      "text/html": [
       "\n",
       "    \n",
       "    <script>\n",
       "    var bad_answers = new Map();\n",
       "\n",
       "    function answer(quiz_id) {\n",
       "        ans = 0;\n",
       "        for (i = 1;; i++) {\n",
       "            checkbox = document.getElementById(quiz_id + \"-\" + i.toString());\n",
       "            if (!checkbox)\n",
       "                break;\n",
       "            if (checkbox.checked)\n",
       "                ans |= (1 << i);\n",
       "        }\n",
       "        return ans;\n",
       "    }\n",
       "    function check_selection(quiz_id, correct_answer, multiple_choice, hint) {\n",
       "        given_answer = answer(quiz_id);\n",
       "        if (given_answer == correct_answer)\n",
       "        {\n",
       "            document.getElementById(quiz_id + \"-submit\").value = \"Correct!\";\n",
       "            document.getElementById(quiz_id + \"-hint\").innerHTML = \"\";\n",
       "\n",
       "            for (i = 1;; i++) {\n",
       "                checkbox = document.getElementById(quiz_id + \"-\" + i.toString());\n",
       "                label = document.getElementById(quiz_id + \"-\" + i.toString() + \"-label\")\n",
       "                if (!checkbox)\n",
       "                    break;\n",
       "    \n",
       "                if (checkbox.checked) {\n",
       "                    label.style.fontWeight = \"bold\";\n",
       "                }\n",
       "                else {\n",
       "                    label.style.textDecoration = \"line-through\";\n",
       "                }\n",
       "            }\n",
       "        }\n",
       "        else \n",
       "        {\n",
       "            document.getElementById(quiz_id + \"-submit\").value = \"Try again\";\n",
       "            \n",
       "            if (!bad_answers.has(quiz_id)) {\n",
       "                bad_answers.set(quiz_id, 1);\n",
       "            }\n",
       "            else {\n",
       "                bad_answers.set(quiz_id, bad_answers.get(quiz_id) + 1);\n",
       "            }\n",
       "\n",
       "            if (bad_answers.get(quiz_id) >= 2 && hint.length > 0) {\n",
       "                document.getElementById(quiz_id + \"-hint\").innerHTML = \n",
       "                    \"&nbsp;&nbsp;(Hint: <code>\" + hint + \"</code>)\";\n",
       "            }\n",
       "\n",
       "            if (!multiple_choice) {\n",
       "                for (i = 1;; i++) {\n",
       "                    checkbox = document.getElementById(quiz_id + \"-\" + i.toString());\n",
       "                    label = document.getElementById(quiz_id + \"-\" + i.toString() + \"-label\")\n",
       "\n",
       "                    if (!checkbox)\n",
       "                        break;\n",
       "                    if (checkbox.checked) {\n",
       "                        label.style.textDecoration = \"line-through\";\n",
       "                    }\n",
       "                }\n",
       "            }\n",
       "        }\n",
       "    }\n",
       "    function clear_selection(quiz_id) {\n",
       "        document.getElementById(quiz_id + \"-submit\").value = \"Submit\";\n",
       "        document.getElementById(quiz_id + \"-hint\").innerHTML = \"\";\n",
       "    }\n",
       "    </script>\n",
       "    \n",
       "    <div class=\"quiz\">\n",
       "    <h3 class=\"quiz_title\">Quiz</h3>\n",
       "    <p>\n",
       "    <div class=\"quiz_question\">Why couldn't <code>Repairer()</code> repair <code>remove_html_markup()</code>?</div>\n",
       "    </p>\n",
       "    <p>\n",
       "    <div class=\"quiz_options\" title=\"Pick a choice.\">\n",
       "    \n",
       "        <input type=\"radio\" name=\"9fa5fbd8-79db-11eb-8d96-acde48001122\" id=\"9fa5fbd8-79db-11eb-8d96-acde48001122-1\" onclick=\"clear_selection('9fa5fbd8-79db-11eb-8d96-acde48001122')\">\n",
       "        <label id=\"9fa5fbd8-79db-11eb-8d96-acde48001122-1-label\" for=\"9fa5fbd8-79db-11eb-8d96-acde48001122-1\">The population is too small!</label><br>\n",
       "    \n",
       "        <input type=\"radio\" name=\"9fa5fbd8-79db-11eb-8d96-acde48001122\" id=\"9fa5fbd8-79db-11eb-8d96-acde48001122-2\" onclick=\"clear_selection('9fa5fbd8-79db-11eb-8d96-acde48001122')\">\n",
       "        <label id=\"9fa5fbd8-79db-11eb-8d96-acde48001122-2-label\" for=\"9fa5fbd8-79db-11eb-8d96-acde48001122-2\">The suspiciousness is too evenly distributed!</label><br>\n",
       "    \n",
       "        <input type=\"radio\" name=\"9fa5fbd8-79db-11eb-8d96-acde48001122\" id=\"9fa5fbd8-79db-11eb-8d96-acde48001122-3\" onclick=\"clear_selection('9fa5fbd8-79db-11eb-8d96-acde48001122')\">\n",
       "        <label id=\"9fa5fbd8-79db-11eb-8d96-acde48001122-3-label\" for=\"9fa5fbd8-79db-11eb-8d96-acde48001122-3\">We need more test cases!</label><br>\n",
       "    \n",
       "        <input type=\"radio\" name=\"9fa5fbd8-79db-11eb-8d96-acde48001122\" id=\"9fa5fbd8-79db-11eb-8d96-acde48001122-4\" onclick=\"clear_selection('9fa5fbd8-79db-11eb-8d96-acde48001122')\">\n",
       "        <label id=\"9fa5fbd8-79db-11eb-8d96-acde48001122-4-label\" for=\"9fa5fbd8-79db-11eb-8d96-acde48001122-4\">We need more iterations!</label><br>\n",
       "    \n",
       "        <input type=\"radio\" name=\"9fa5fbd8-79db-11eb-8d96-acde48001122\" id=\"9fa5fbd8-79db-11eb-8d96-acde48001122-5\" onclick=\"clear_selection('9fa5fbd8-79db-11eb-8d96-acde48001122')\">\n",
       "        <label id=\"9fa5fbd8-79db-11eb-8d96-acde48001122-5-label\" for=\"9fa5fbd8-79db-11eb-8d96-acde48001122-5\">There is no statement in the source with a correct condition!</label><br>\n",
       "    \n",
       "        <input type=\"radio\" name=\"9fa5fbd8-79db-11eb-8d96-acde48001122\" id=\"9fa5fbd8-79db-11eb-8d96-acde48001122-6\" onclick=\"clear_selection('9fa5fbd8-79db-11eb-8d96-acde48001122')\">\n",
       "        <label id=\"9fa5fbd8-79db-11eb-8d96-acde48001122-6-label\" for=\"9fa5fbd8-79db-11eb-8d96-acde48001122-6\">The population is too big!</label><br>\n",
       "    \n",
       "    </div>\n",
       "    </p>\n",
       "    <input id=\"9fa5fbd8-79db-11eb-8d96-acde48001122-submit\" type=\"submit\" value=\"Submit\" onclick=\"check_selection('9fa5fbd8-79db-11eb-8d96-acde48001122', 32, 0, '5242880 &gt;&gt; 20')\">\n",
       "    <span class=\"quiz_hint\" id=\"9fa5fbd8-79db-11eb-8d96-acde48001122-hint\"></span>\n",
       "    </div>\n",
       "    "
      ],
      "text/plain": [
       "<IPython.core.display.HTML object>"
      ]
     },
     "execution_count": 1,
     "metadata": {},
     "output_type": "execute_result"
    }
   ],
   "source": [
    "quiz(\"Why couldn't `Repairer()` repair `remove_html_markup()`?\",\n",
    "     [\n",
    "         \"The population is too small!\",\n",
    "         \"The suspiciousness is too evenly distributed!\",\n",
    "         \"We need more test cases!\",\n",
    "         \"We need more iterations!\",\n",
    "         \"There is no statement in the source with a correct condition!\",\n",
    "         \"The population is too big!\",\n",
    "     ], '5242880 >> 20')"
   ]
  },
  {
   "cell_type": "markdown",
   "metadata": {
    "slideshow": {
     "slide_type": "subslide"
    }
   },
   "source": [
    "You can explore all of the hypotheses above by changing the appropriate parameters, but you won't be able to change the outcome. The problem is that, unlike `middle()`, there is no statement (or combination thereof) in `remove_html_markup()` that could be used to make the failure go away. For this, we need to mutate another aspect of the code, which we will explore in the next section."
   ]
  },
  {
   "cell_type": "markdown",
   "metadata": {
    "slideshow": {
     "slide_type": "slide"
    }
   },
   "source": [
    "## Mutating Conditions\n",
    "\n",
    "The `Repairer` class is very configurable. The individual steps in automated repair can all be replaced by providing own classes in the keyword arguments of its `__init__()` constructor:\n",
    "\n",
    "* To change fault localization, pass a different `debugger` that is a subclass of `DifferenceDebugger`.\n",
    "* To change the mutation operator, set `mutator_class` to a subclass of `StatementMutator`.\n",
    "* To change the crossover operator, set `crossover_class` to a subclass of `CrossoverOperator`.\n",
    "* To change the reduction algorithm, set `reducer_class` to a subclass of `Reducer`.\n",
    "\n",
    "In this section, we will explore how to extend the mutation operator such that it can mutate _conditions_ for control constructs such as `if`, `while`, or `for`. To this end, we introduce a new class `ConditionMutator` subclassing `StatementMutator`."
   ]
  },
  {
   "cell_type": "markdown",
   "metadata": {
    "slideshow": {
     "slide_type": "subslide"
    }
   },
   "source": [
    "### Collecting Conditions\n",
    "\n",
    "Let us start with a few simple supporting functions. The function `all_conditions()` retrieves all control conditions from an AST."
   ]
  },
  {
   "cell_type": "code",
   "execution_count": 171,
   "metadata": {
    "execution": {
     "iopub.execute_input": "2021-02-28T15:42:54.831517Z",
     "iopub.status.busy": "2021-02-28T15:42:54.830843Z",
     "iopub.status.idle": "2021-02-28T15:42:54.832796Z",
     "shell.execute_reply": "2021-02-28T15:42:54.833195Z"
    },
    "slideshow": {
     "slide_type": "subslide"
    }
   },
   "outputs": [],
   "source": [
    "def all_conditions(trees, tp=None):\n",
    "    \"\"\"Return all conditions from the AST (or AST list) `trees`.\n",
    "    If `tp` is given, return only elements of that type.\"\"\"\n",
    "    if not isinstance(trees, list):\n",
    "        assert isinstance(trees, ast.AST)\n",
    "        trees = [trees]\n",
    "\n",
    "    visitor = ConditionVisitor()\n",
    "    for tree in trees:\n",
    "        visitor.visit(tree)\n",
    "    conditions = visitor.conditions\n",
    "    if tp is not None:\n",
    "        conditions = [c for c in conditions if isinstance(c, tp)]\n",
    "\n",
    "    return conditions"
   ]
  },
  {
   "cell_type": "markdown",
   "metadata": {
    "slideshow": {
     "slide_type": "subslide"
    }
   },
   "source": [
    "`all_conditions()` uses a `ConditionVisitor` class to walk the tree and collect the conditions:"
   ]
  },
  {
   "cell_type": "code",
   "execution_count": 172,
   "metadata": {
    "execution": {
     "iopub.execute_input": "2021-02-28T15:42:54.841523Z",
     "iopub.status.busy": "2021-02-28T15:42:54.840656Z",
     "iopub.status.idle": "2021-02-28T15:42:54.842664Z",
     "shell.execute_reply": "2021-02-28T15:42:54.843150Z"
    },
    "slideshow": {
     "slide_type": "subslide"
    }
   },
   "outputs": [],
   "source": [
    "class ConditionVisitor(NodeVisitor):\n",
    "    def __init__(self):\n",
    "        self.conditions = []\n",
    "        self.conditions_seen = set()\n",
    "        super().__init__()\n",
    "\n",
    "    def add_conditions(self, node, attr):\n",
    "        elems = getattr(node, attr, [])\n",
    "        if not isinstance(elems, list):\n",
    "            elems = [elems]\n",
    "\n",
    "        for elem in elems:\n",
    "            elem_str = astor.to_source(elem)\n",
    "            if elem_str not in self.conditions_seen:\n",
    "                self.conditions.append(elem)\n",
    "                self.conditions_seen.add(elem_str)\n",
    "\n",
    "    def visit_BoolOp(self, node):\n",
    "        self.add_conditions(node, 'values')\n",
    "        return super().generic_visit(node)\n",
    "\n",
    "    def visit_UnaryOp(self, node):\n",
    "        if isinstance(node.op, ast.Not):\n",
    "            self.add_conditions(node, 'operand')\n",
    "        return super().generic_visit(node)\n",
    "\n",
    "    def generic_visit(self, node):\n",
    "        if hasattr(node, 'test'):\n",
    "            self.add_conditions(node, 'test')\n",
    "        return super().generic_visit(node)"
   ]
  },
  {
   "cell_type": "markdown",
   "metadata": {
    "slideshow": {
     "slide_type": "subslide"
    }
   },
   "source": [
    "Here are all the conditions in `remove_html_markup()`. This is some material to construct new conditions from."
   ]
  },
  {
   "cell_type": "code",
   "execution_count": 173,
   "metadata": {
    "execution": {
     "iopub.execute_input": "2021-02-28T15:42:54.851879Z",
     "iopub.status.busy": "2021-02-28T15:42:54.850924Z",
     "iopub.status.idle": "2021-02-28T15:42:54.854400Z",
     "shell.execute_reply": "2021-02-28T15:42:54.855124Z"
    },
    "slideshow": {
     "slide_type": "subslide"
    }
   },
   "outputs": [
    {
     "data": {
      "text/plain": [
       "[\"(c == '<' and not quote)\",\n",
       " \"c == '<'\",\n",
       " 'not quote',\n",
       " 'quote',\n",
       " \"(c == '>' and not quote)\",\n",
       " \"c == '>'\",\n",
       " '(c == \\'\"\\' or c == \"\\'\" and tag)',\n",
       " 'c == \\'\"\\'',\n",
       " 'c == \"\\'\" and tag',\n",
       " 'c == \"\\'\"',\n",
       " 'tag',\n",
       " '(not tag)']"
      ]
     },
     "execution_count": 1,
     "metadata": {},
     "output_type": "execute_result"
    }
   ],
   "source": [
    "[astor.to_source(cond).strip()\n",
    "    for cond in all_conditions(remove_html_markup_tree())]"
   ]
  },
  {
   "cell_type": "markdown",
   "metadata": {
    "slideshow": {
     "slide_type": "subslide"
    }
   },
   "source": [
    "### Mutating Conditions\n",
    "\n",
    "Here comes our `ConditionMutator` class. We subclass from `StatementMutator` and set an attribute `self.conditions` containing all the conditions in the source. The method `choose_condition()` randomly picks a condition."
   ]
  },
  {
   "cell_type": "code",
   "execution_count": 174,
   "metadata": {
    "execution": {
     "iopub.execute_input": "2021-02-28T15:42:54.865688Z",
     "iopub.status.busy": "2021-02-28T15:42:54.864581Z",
     "iopub.status.idle": "2021-02-28T15:42:54.867484Z",
     "shell.execute_reply": "2021-02-28T15:42:54.868277Z"
    },
    "slideshow": {
     "slide_type": "subslide"
    }
   },
   "outputs": [],
   "source": [
    "class ConditionMutator(StatementMutator):\n",
    "    \"\"\"Mutate conditions in an AST\"\"\"\n",
    "\n",
    "    def __init__(self, *args, **kwargs):\n",
    "        \"\"\"Constructor. Arguments are as with `StatementMutator` constructor.\"\"\"\n",
    "        super().__init__(*args, **kwargs)\n",
    "        self.conditions = all_conditions(self.source)\n",
    "        if self.log:\n",
    "            print(\"Found conditions\",\n",
    "                  [astor.to_source(cond).strip() \n",
    "                   for cond in self.conditions])\n",
    "\n",
    "    def choose_condition(self):\n",
    "        \"\"\"Return a random condition from source.\"\"\"\n",
    "        return copy.deepcopy(random.choice(self.conditions))"
   ]
  },
  {
   "cell_type": "markdown",
   "metadata": {
    "slideshow": {
     "slide_type": "subslide"
    }
   },
   "source": [
    "The actual mutation takes place in the `swap()` method. If the node to be replaced has a `test` attribute (i.e. a controlling predicate), then we pick a random condition `cond` from the source and randomly chose from:\n",
    "\n",
    "* **set**: We change `test` to `cond`.\n",
    "* **not**: We invert `test`.\n",
    "* **and**: We replace `test` by `cond and test`.\n",
    "* **or**: We replace `test` by `cond or test`.\n",
    "\n",
    "Over time, this might lead to operators propagating across the population."
   ]
  },
  {
   "cell_type": "code",
   "execution_count": 175,
   "metadata": {
    "execution": {
     "iopub.execute_input": "2021-02-28T15:42:54.883015Z",
     "iopub.status.busy": "2021-02-28T15:42:54.881547Z",
     "iopub.status.idle": "2021-02-28T15:42:54.885691Z",
     "shell.execute_reply": "2021-02-28T15:42:54.886344Z"
    },
    "slideshow": {
     "slide_type": "subslide"
    }
   },
   "outputs": [],
   "source": [
    "class ConditionMutator(ConditionMutator):\n",
    "    def choose_bool_op(self):\n",
    "        return random.choice(['set', 'not', 'and', 'or'])\n",
    "\n",
    "    def swap(self, node):\n",
    "        \"\"\"Replace `node` condition by a condition from `source`\"\"\"\n",
    "        if not hasattr(node, 'test'):\n",
    "            return super().swap(node)\n",
    "\n",
    "        cond = self.choose_condition()\n",
    "        new_test = None\n",
    "\n",
    "        choice = self.choose_bool_op()\n",
    "\n",
    "        if choice == 'set':\n",
    "            new_test = cond\n",
    "        elif choice == 'not':\n",
    "            new_test = ast.UnaryOp(op=ast.Not(), operand=node.test)\n",
    "        elif choice == 'and':\n",
    "            new_test = ast.BoolOp(op=ast.And(), values=[cond, node.test])\n",
    "        elif choice == 'or':\n",
    "            new_test = ast.BoolOp(op=ast.Or(), values=[cond, node.test])\n",
    "        else:\n",
    "            raise ValueError(\"Unknown boolean operand\")\n",
    "\n",
    "        if new_test:\n",
    "            # ast.copy_location(new_test, node)\n",
    "            node.test = new_test\n",
    "\n",
    "        return node"
   ]
  },
  {
   "cell_type": "markdown",
   "metadata": {
    "slideshow": {
     "slide_type": "subslide"
    }
   },
   "source": [
    "We can use the mutator just like `StatementMutator`, except that some of the mutations will also include new conditions:"
   ]
  },
  {
   "cell_type": "code",
   "execution_count": 176,
   "metadata": {
    "execution": {
     "iopub.execute_input": "2021-02-28T15:42:54.897122Z",
     "iopub.status.busy": "2021-02-28T15:42:54.891259Z",
     "iopub.status.idle": "2021-02-28T15:42:54.900374Z",
     "shell.execute_reply": "2021-02-28T15:42:54.901103Z"
    },
    "slideshow": {
     "slide_type": "fragment"
    }
   },
   "outputs": [
    {
     "name": "stdout",
     "output_type": "stream",
     "text": [
      "Found conditions [\"(c == '<' and not quote)\", \"c == '<'\", 'not quote', 'quote', \"(c == '>' and not quote)\", \"c == '>'\", '(c == \\'\"\\' or c == \"\\'\" and tag)', 'c == \\'\"\\'', 'c == \"\\'\" and tag', 'c == \"\\'\"', 'tag', '(not tag)']\n"
     ]
    }
   ],
   "source": [
    "mutator = ConditionMutator(source=all_statements(remove_html_markup_tree()),\n",
    "                           log=True)"
   ]
  },
  {
   "cell_type": "code",
   "execution_count": 177,
   "metadata": {
    "execution": {
     "iopub.execute_input": "2021-02-28T15:42:54.916460Z",
     "iopub.status.busy": "2021-02-28T15:42:54.915669Z",
     "iopub.status.idle": "2021-02-28T15:42:54.940355Z",
     "shell.execute_reply": "2021-02-28T15:42:54.940832Z"
    },
    "slideshow": {
     "slide_type": "subslide"
    }
   },
   "outputs": [
    {
     "name": "stdout",
     "output_type": "stream",
     "text": [
      "   4:delete: \"out = ''\" becomes 'pass'\n",
      "  16:swap:   'return out' becomes 'out = out + c'\n",
      "  10:delete: 'tag = False' becomes 'pass'\n",
      "  10:delete: 'tag = False' becomes 'pass'\n",
      "   8:delete: 'tag = True' becomes 'pass'\n",
      "  13:swap:   \"if c == '>' or not t...\" becomes \"if c == '>' or not t...\"\n",
      "   2:insert: 'tag = False' becomes 'tag = False'; 'out = out + c'\n",
      "   3:delete: 'quote = False' becomes 'pass'\n",
      "   7:insert: \"if c == '<' and not ...\" becomes \"if c == '<' and not ...\"; \"out = ''\"\n",
      "  16:delete: 'return out' becomes 'pass'\n"
     ]
    }
   ],
   "source": [
    "for i in range(10):\n",
    "    new_tree = mutator.mutate(remove_html_markup_tree())"
   ]
  },
  {
   "cell_type": "markdown",
   "metadata": {
    "slideshow": {
     "slide_type": "subslide"
    }
   },
   "source": [
    "Let us put our new mutator to action, again in a `Repairer()`. To activate it, all we need to do is to pass it as `mutator_class` keyword argument."
   ]
  },
  {
   "cell_type": "code",
   "execution_count": 178,
   "metadata": {
    "execution": {
     "iopub.execute_input": "2021-02-28T15:42:54.956628Z",
     "iopub.status.busy": "2021-02-28T15:42:54.955770Z",
     "iopub.status.idle": "2021-02-28T15:42:54.958403Z",
     "shell.execute_reply": "2021-02-28T15:42:54.958794Z"
    },
    "slideshow": {
     "slide_type": "subslide"
    }
   },
   "outputs": [
    {
     "name": "stdout",
     "output_type": "stream",
     "text": [
      "Target code to be repaired:\n",
      "\u001b[34mdef\u001b[39;49;00m \u001b[32mremove_html_markup\u001b[39;49;00m(s):\n",
      "    tag = \u001b[34mFalse\u001b[39;49;00m\n",
      "    quote = \u001b[34mFalse\u001b[39;49;00m\n",
      "    out = \u001b[33m'\u001b[39;49;00m\u001b[33m'\u001b[39;49;00m\n",
      "    \u001b[34mfor\u001b[39;49;00m c \u001b[35min\u001b[39;49;00m s:\n",
      "        \u001b[34mif\u001b[39;49;00m c == \u001b[33m'\u001b[39;49;00m\u001b[33m<\u001b[39;49;00m\u001b[33m'\u001b[39;49;00m \u001b[35mand\u001b[39;49;00m \u001b[35mnot\u001b[39;49;00m quote:\n",
      "            tag = \u001b[34mTrue\u001b[39;49;00m\n",
      "        \u001b[34melif\u001b[39;49;00m c == \u001b[33m'\u001b[39;49;00m\u001b[33m>\u001b[39;49;00m\u001b[33m'\u001b[39;49;00m \u001b[35mand\u001b[39;49;00m \u001b[35mnot\u001b[39;49;00m quote:\n",
      "            tag = \u001b[34mFalse\u001b[39;49;00m\n",
      "        \u001b[34melif\u001b[39;49;00m c == \u001b[33m'\u001b[39;49;00m\u001b[33m\"\u001b[39;49;00m\u001b[33m'\u001b[39;49;00m \u001b[35mor\u001b[39;49;00m c == \u001b[33m\"\u001b[39;49;00m\u001b[33m'\u001b[39;49;00m\u001b[33m\"\u001b[39;49;00m \u001b[35mand\u001b[39;49;00m tag:\n",
      "            quote = \u001b[35mnot\u001b[39;49;00m quote\n",
      "        \u001b[34melif\u001b[39;49;00m \u001b[35mnot\u001b[39;49;00m tag:\n",
      "            out = out + c\n",
      "    \u001b[34mreturn\u001b[39;49;00m out\n",
      "\n"
     ]
    }
   ],
   "source": [
    "condition_repairer = Repairer(html_debugger,\n",
    "                              mutator_class=ConditionMutator,\n",
    "                              log=2)"
   ]
  },
  {
   "cell_type": "markdown",
   "metadata": {
    "slideshow": {
     "slide_type": "subslide"
    }
   },
   "source": [
    "We might need more iterations for this one. Let us see..."
   ]
  },
  {
   "cell_type": "code",
   "execution_count": 179,
   "metadata": {
    "execution": {
     "iopub.execute_input": "2021-02-28T15:42:55.040597Z",
     "iopub.status.busy": "2021-02-28T15:42:55.000805Z",
     "iopub.status.idle": "2021-02-28T15:44:07.377348Z",
     "shell.execute_reply": "2021-02-28T15:44:07.377745Z"
    },
    "slideshow": {
     "slide_type": "subslide"
    }
   },
   "outputs": [
    {
     "name": "stdout",
     "output_type": "stream",
     "text": [
      "Evolving population: iteration  63/200 fitness = 0.99   \r\n",
      "\n",
      "New best code (fitness = 0.99):\n",
      "\u001b[34mdef\u001b[39;49;00m \u001b[32mremove_html_markup\u001b[39;49;00m(s):\n",
      "    tag = \u001b[34mFalse\u001b[39;49;00m\n",
      "    quote = \u001b[34mFalse\u001b[39;49;00m\n",
      "    out = \u001b[33m'\u001b[39;49;00m\u001b[33m'\u001b[39;49;00m\n",
      "    \u001b[34mfor\u001b[39;49;00m c \u001b[35min\u001b[39;49;00m s:\n",
      "        \u001b[34mif\u001b[39;49;00m c == \u001b[33m'\u001b[39;49;00m\u001b[33m<\u001b[39;49;00m\u001b[33m'\u001b[39;49;00m \u001b[35mand\u001b[39;49;00m \u001b[35mnot\u001b[39;49;00m quote:\n",
      "            \u001b[34mpass\u001b[39;49;00m\n",
      "            tag = \u001b[34mTrue\u001b[39;49;00m\n",
      "        \u001b[34melif\u001b[39;49;00m c == \u001b[33m'\u001b[39;49;00m\u001b[33m>\u001b[39;49;00m\u001b[33m'\u001b[39;49;00m \u001b[35mand\u001b[39;49;00m \u001b[35mnot\u001b[39;49;00m quote:\n",
      "            tag = \u001b[34mFalse\u001b[39;49;00m\n",
      "        \u001b[34melif\u001b[39;49;00m c == \u001b[33m'\u001b[39;49;00m\u001b[33m\"\u001b[39;49;00m\u001b[33m'\u001b[39;49;00m:\n",
      "            quote = \u001b[35mnot\u001b[39;49;00m quote\n",
      "        \u001b[34melif\u001b[39;49;00m \u001b[35mnot\u001b[39;49;00m tag:\n",
      "            out = out + c\n",
      "    \u001b[34mreturn\u001b[39;49;00m out\n",
      "\n",
      "Evolving population: iteration  70/200 fitness = 0.99   \r\n",
      "\n",
      "New best code (fitness = 0.99):\n",
      "\u001b[34mdef\u001b[39;49;00m \u001b[32mremove_html_markup\u001b[39;49;00m(s):\n",
      "    tag = \u001b[34mFalse\u001b[39;49;00m\n",
      "    quote = \u001b[34mFalse\u001b[39;49;00m\n",
      "    out = \u001b[33m'\u001b[39;49;00m\u001b[33m'\u001b[39;49;00m\n",
      "    \u001b[34mfor\u001b[39;49;00m c \u001b[35min\u001b[39;49;00m s:\n",
      "        \u001b[34mif\u001b[39;49;00m c == \u001b[33m'\u001b[39;49;00m\u001b[33m<\u001b[39;49;00m\u001b[33m'\u001b[39;49;00m \u001b[35mand\u001b[39;49;00m \u001b[35mnot\u001b[39;49;00m quote:\n",
      "            tag = \u001b[34mTrue\u001b[39;49;00m\n",
      "        \u001b[34melif\u001b[39;49;00m c == \u001b[33m'\u001b[39;49;00m\u001b[33m>\u001b[39;49;00m\u001b[33m'\u001b[39;49;00m \u001b[35mand\u001b[39;49;00m \u001b[35mnot\u001b[39;49;00m quote:\n",
      "            tag = \u001b[34mFalse\u001b[39;49;00m\n",
      "        \u001b[34melif\u001b[39;49;00m c == \u001b[33m'\u001b[39;49;00m\u001b[33m\"\u001b[39;49;00m\u001b[33m'\u001b[39;49;00m:\n",
      "            quote = \u001b[35mnot\u001b[39;49;00m quote\n",
      "        \u001b[34melif\u001b[39;49;00m \u001b[35mnot\u001b[39;49;00m tag:\n",
      "            out = out + c\n",
      "    \u001b[34mreturn\u001b[39;49;00m out\n",
      "\n",
      "Evolving population: iteration 117/200 fitness = 1.0   \r\n",
      "\n",
      "New best code (fitness = 1.0):\n",
      "\u001b[34mdef\u001b[39;49;00m \u001b[32mremove_html_markup\u001b[39;49;00m(s):\n",
      "    tag = \u001b[34mFalse\u001b[39;49;00m\n",
      "    quote = \u001b[34mFalse\u001b[39;49;00m\n",
      "    out = \u001b[33m'\u001b[39;49;00m\u001b[33m'\u001b[39;49;00m\n",
      "    out = \u001b[33m'\u001b[39;49;00m\u001b[33m'\u001b[39;49;00m\n",
      "    \u001b[34mfor\u001b[39;49;00m c \u001b[35min\u001b[39;49;00m s:\n",
      "        \u001b[34mif\u001b[39;49;00m c == \u001b[33m'\u001b[39;49;00m\u001b[33m<\u001b[39;49;00m\u001b[33m'\u001b[39;49;00m \u001b[35mand\u001b[39;49;00m \u001b[35mnot\u001b[39;49;00m quote:\n",
      "            \u001b[34mpass\u001b[39;49;00m\n",
      "            tag = \u001b[34mTrue\u001b[39;49;00m\n",
      "        \u001b[34melif\u001b[39;49;00m c == \u001b[33m'\u001b[39;49;00m\u001b[33m>\u001b[39;49;00m\u001b[33m'\u001b[39;49;00m \u001b[35mand\u001b[39;49;00m \u001b[35mnot\u001b[39;49;00m quote:\n",
      "            tag = \u001b[34mFalse\u001b[39;49;00m\n",
      "        \u001b[34melif\u001b[39;49;00m tag \u001b[35mand\u001b[39;49;00m c == \u001b[33m'\u001b[39;49;00m\u001b[33m\"\u001b[39;49;00m\u001b[33m'\u001b[39;49;00m:\n",
      "            quote = \u001b[35mnot\u001b[39;49;00m quote\n",
      "        \u001b[34melif\u001b[39;49;00m \u001b[35mnot\u001b[39;49;00m tag:\n",
      "            out = out + c\n",
      "    \u001b[34mreturn\u001b[39;49;00m out\n",
      "\n",
      "\n",
      "Reduced code (fitness = 1.0):\n",
      "\u001b[34mdef\u001b[39;49;00m \u001b[32mremove_html_markup\u001b[39;49;00m(s):\n",
      "    tag = \u001b[34mFalse\u001b[39;49;00m\n",
      "    quote = \u001b[34mFalse\u001b[39;49;00m\n",
      "    out = \u001b[33m'\u001b[39;49;00m\u001b[33m'\u001b[39;49;00m\n",
      "    \u001b[34mfor\u001b[39;49;00m c \u001b[35min\u001b[39;49;00m s:\n",
      "        \u001b[34mif\u001b[39;49;00m c == \u001b[33m'\u001b[39;49;00m\u001b[33m<\u001b[39;49;00m\u001b[33m'\u001b[39;49;00m \u001b[35mand\u001b[39;49;00m \u001b[35mnot\u001b[39;49;00m quote:\n",
      "            tag = \u001b[34mTrue\u001b[39;49;00m\n",
      "        \u001b[34melif\u001b[39;49;00m c == \u001b[33m'\u001b[39;49;00m\u001b[33m>\u001b[39;49;00m\u001b[33m'\u001b[39;49;00m \u001b[35mand\u001b[39;49;00m \u001b[35mnot\u001b[39;49;00m quote:\n",
      "            tag = \u001b[34mFalse\u001b[39;49;00m\n",
      "        \u001b[34melif\u001b[39;49;00m tag \u001b[35mand\u001b[39;49;00m c == \u001b[33m'\u001b[39;49;00m\u001b[33m\"\u001b[39;49;00m\u001b[33m'\u001b[39;49;00m:\n",
      "            quote = \u001b[35mnot\u001b[39;49;00m quote\n",
      "        \u001b[34melif\u001b[39;49;00m \u001b[35mnot\u001b[39;49;00m tag:\n",
      "            out = out + c\n",
      "    \u001b[34mreturn\u001b[39;49;00m out\n",
      "\n"
     ]
    }
   ],
   "source": [
    "best_tree, fitness = condition_repairer.repair(iterations=200)"
   ]
  },
  {
   "cell_type": "code",
   "execution_count": 180,
   "metadata": {
    "execution": {
     "iopub.execute_input": "2021-02-28T15:44:07.381325Z",
     "iopub.status.busy": "2021-02-28T15:44:07.380707Z",
     "iopub.status.idle": "2021-02-28T15:44:07.382357Z",
     "shell.execute_reply": "2021-02-28T15:44:07.382739Z"
    },
    "slideshow": {
     "slide_type": "subslide"
    }
   },
   "outputs": [],
   "source": [
    "repaired_source = astor.to_source(best_tree)"
   ]
  },
  {
   "cell_type": "code",
   "execution_count": 181,
   "metadata": {
    "execution": {
     "iopub.execute_input": "2021-02-28T15:44:07.390488Z",
     "iopub.status.busy": "2021-02-28T15:44:07.389949Z",
     "iopub.status.idle": "2021-02-28T15:44:07.391842Z",
     "shell.execute_reply": "2021-02-28T15:44:07.392223Z"
    },
    "slideshow": {
     "slide_type": "subslide"
    }
   },
   "outputs": [
    {
     "name": "stdout",
     "output_type": "stream",
     "text": [
      "\u001b[34mdef\u001b[39;49;00m \u001b[32mremove_html_markup\u001b[39;49;00m(s):\n",
      "    tag = \u001b[34mFalse\u001b[39;49;00m\n",
      "    quote = \u001b[34mFalse\u001b[39;49;00m\n",
      "    out = \u001b[33m'\u001b[39;49;00m\u001b[33m'\u001b[39;49;00m\n",
      "    \u001b[34mfor\u001b[39;49;00m c \u001b[35min\u001b[39;49;00m s:\n",
      "        \u001b[34mif\u001b[39;49;00m c == \u001b[33m'\u001b[39;49;00m\u001b[33m<\u001b[39;49;00m\u001b[33m'\u001b[39;49;00m \u001b[35mand\u001b[39;49;00m \u001b[35mnot\u001b[39;49;00m quote:\n",
      "            tag = \u001b[34mTrue\u001b[39;49;00m\n",
      "        \u001b[34melif\u001b[39;49;00m c == \u001b[33m'\u001b[39;49;00m\u001b[33m>\u001b[39;49;00m\u001b[33m'\u001b[39;49;00m \u001b[35mand\u001b[39;49;00m \u001b[35mnot\u001b[39;49;00m quote:\n",
      "            tag = \u001b[34mFalse\u001b[39;49;00m\n",
      "        \u001b[34melif\u001b[39;49;00m tag \u001b[35mand\u001b[39;49;00m c == \u001b[33m'\u001b[39;49;00m\u001b[33m\"\u001b[39;49;00m\u001b[33m'\u001b[39;49;00m:\n",
      "            quote = \u001b[35mnot\u001b[39;49;00m quote\n",
      "        \u001b[34melif\u001b[39;49;00m \u001b[35mnot\u001b[39;49;00m tag:\n",
      "            out = out + c\n",
      "    \u001b[34mreturn\u001b[39;49;00m out"
     ]
    }
   ],
   "source": [
    "print_content(repaired_source, '.py')"
   ]
  },
  {
   "cell_type": "markdown",
   "metadata": {
    "slideshow": {
     "slide_type": "subslide"
    }
   },
   "source": [
    "Success again! We have automatically repaired `remove_html_markup()` – the resulting code passes all tests, including those that were previously failing."
   ]
  },
  {
   "cell_type": "markdown",
   "metadata": {
    "slideshow": {
     "slide_type": "fragment"
    }
   },
   "source": [
    "Again, we can present the fix as a patch:"
   ]
  },
  {
   "cell_type": "code",
   "execution_count": 182,
   "metadata": {
    "execution": {
     "iopub.execute_input": "2021-02-28T15:44:07.396103Z",
     "iopub.status.busy": "2021-02-28T15:44:07.394948Z",
     "iopub.status.idle": "2021-02-28T15:44:07.397798Z",
     "shell.execute_reply": "2021-02-28T15:44:07.398236Z"
    },
    "slideshow": {
     "slide_type": "fragment"
    }
   },
   "outputs": [],
   "source": [
    "original_source = astor.to_source(remove_html_markup_tree())"
   ]
  },
  {
   "cell_type": "code",
   "execution_count": 183,
   "metadata": {
    "execution": {
     "iopub.execute_input": "2021-02-28T15:44:07.405642Z",
     "iopub.status.busy": "2021-02-28T15:44:07.405068Z",
     "iopub.status.idle": "2021-02-28T15:44:07.407201Z",
     "shell.execute_reply": "2021-02-28T15:44:07.407586Z"
    },
    "slideshow": {
     "slide_type": "fragment"
    }
   },
   "outputs": [
    {
     "name": "stdout",
     "output_type": "stream",
     "text": [
      "@@ -\u001b[34m206\u001b[39;49;00m,\u001b[34m51\u001b[39;49;00m +\u001b[34m206\u001b[39;49;00m,\u001b[34m39\u001b[39;49;00m @@\n",
      " lse\n",
      "\n",
      "-        \u001b[34melif\u001b[39;49;00m c == \u001b[33m'\u001b[39;49;00m\u001b[33m\"\u001b[39;49;00m\u001b[33m'\u001b[39;49;00m \u001b[35mor\u001b[39;49;00m c == \u001b[33m\"\u001b[39;49;00m\u001b[33m'\u001b[39;49;00m\u001b[33m\"\u001b[39;49;00m \u001b[35mand\u001b[39;49;00m tag:\n",
      "\n",
      "+        \u001b[34melif\u001b[39;49;00m tag \u001b[35mand\u001b[39;49;00m c == \u001b[33m'\u001b[39;49;00m\u001b[33m\"\u001b[39;49;00m\u001b[33m'\u001b[39;49;00m:"
     ]
    }
   ],
   "source": [
    "for patch in diff(original_source, repaired_source):\n",
    "    print_patch(patch)"
   ]
  },
  {
   "cell_type": "markdown",
   "metadata": {
    "slideshow": {
     "slide_type": "fragment"
    }
   },
   "source": [
    "However, looking at the patch, one may come up with doubts."
   ]
  },
  {
   "cell_type": "code",
   "execution_count": 184,
   "metadata": {
    "execution": {
     "iopub.execute_input": "2021-02-28T15:44:07.413438Z",
     "iopub.status.busy": "2021-02-28T15:44:07.412700Z",
     "iopub.status.idle": "2021-02-28T15:44:07.415408Z",
     "shell.execute_reply": "2021-02-28T15:44:07.415788Z"
    },
    "slideshow": {
     "slide_type": "subslide"
    }
   },
   "outputs": [
    {
     "data": {
      "text/html": [
       "\n",
       "    \n",
       "    <script>\n",
       "    var bad_answers = new Map();\n",
       "\n",
       "    function answer(quiz_id) {\n",
       "        ans = 0;\n",
       "        for (i = 1;; i++) {\n",
       "            checkbox = document.getElementById(quiz_id + \"-\" + i.toString());\n",
       "            if (!checkbox)\n",
       "                break;\n",
       "            if (checkbox.checked)\n",
       "                ans |= (1 << i);\n",
       "        }\n",
       "        return ans;\n",
       "    }\n",
       "    function check_selection(quiz_id, correct_answer, multiple_choice, hint) {\n",
       "        given_answer = answer(quiz_id);\n",
       "        if (given_answer == correct_answer)\n",
       "        {\n",
       "            document.getElementById(quiz_id + \"-submit\").value = \"Correct!\";\n",
       "            document.getElementById(quiz_id + \"-hint\").innerHTML = \"\";\n",
       "\n",
       "            for (i = 1;; i++) {\n",
       "                checkbox = document.getElementById(quiz_id + \"-\" + i.toString());\n",
       "                label = document.getElementById(quiz_id + \"-\" + i.toString() + \"-label\")\n",
       "                if (!checkbox)\n",
       "                    break;\n",
       "    \n",
       "                if (checkbox.checked) {\n",
       "                    label.style.fontWeight = \"bold\";\n",
       "                }\n",
       "                else {\n",
       "                    label.style.textDecoration = \"line-through\";\n",
       "                }\n",
       "            }\n",
       "        }\n",
       "        else \n",
       "        {\n",
       "            document.getElementById(quiz_id + \"-submit\").value = \"Try again\";\n",
       "            \n",
       "            if (!bad_answers.has(quiz_id)) {\n",
       "                bad_answers.set(quiz_id, 1);\n",
       "            }\n",
       "            else {\n",
       "                bad_answers.set(quiz_id, bad_answers.get(quiz_id) + 1);\n",
       "            }\n",
       "\n",
       "            if (bad_answers.get(quiz_id) >= 2 && hint.length > 0) {\n",
       "                document.getElementById(quiz_id + \"-hint\").innerHTML = \n",
       "                    \"&nbsp;&nbsp;(Hint: <code>\" + hint + \"</code>)\";\n",
       "            }\n",
       "\n",
       "            if (!multiple_choice) {\n",
       "                for (i = 1;; i++) {\n",
       "                    checkbox = document.getElementById(quiz_id + \"-\" + i.toString());\n",
       "                    label = document.getElementById(quiz_id + \"-\" + i.toString() + \"-label\")\n",
       "\n",
       "                    if (!checkbox)\n",
       "                        break;\n",
       "                    if (checkbox.checked) {\n",
       "                        label.style.textDecoration = \"line-through\";\n",
       "                    }\n",
       "                }\n",
       "            }\n",
       "        }\n",
       "    }\n",
       "    function clear_selection(quiz_id) {\n",
       "        document.getElementById(quiz_id + \"-submit\").value = \"Submit\";\n",
       "        document.getElementById(quiz_id + \"-hint\").innerHTML = \"\";\n",
       "    }\n",
       "    </script>\n",
       "    \n",
       "    <div class=\"quiz\">\n",
       "    <h3 class=\"quiz_title\">Quiz</h3>\n",
       "    <p>\n",
       "    <div class=\"quiz_question\">Is this actually the best solution?</div>\n",
       "    </p>\n",
       "    <p>\n",
       "    <div class=\"quiz_options\" title=\"Pick a choice.\">\n",
       "    \n",
       "        <input type=\"radio\" name=\"caea80be-79db-11eb-a389-acde48001122\" id=\"caea80be-79db-11eb-a389-acde48001122-1\" onclick=\"clear_selection('caea80be-79db-11eb-a389-acde48001122')\">\n",
       "        <label id=\"caea80be-79db-11eb-a389-acde48001122-1-label\" for=\"caea80be-79db-11eb-a389-acde48001122-1\">Yes, sure, of course. Why?</label><br>\n",
       "    \n",
       "        <input type=\"radio\" name=\"caea80be-79db-11eb-a389-acde48001122\" id=\"caea80be-79db-11eb-a389-acde48001122-2\" onclick=\"clear_selection('caea80be-79db-11eb-a389-acde48001122')\">\n",
       "        <label id=\"caea80be-79db-11eb-a389-acde48001122-2-label\" for=\"caea80be-79db-11eb-a389-acde48001122-2\">Err - what happened to single quotes?</label><br>\n",
       "    \n",
       "    </div>\n",
       "    </p>\n",
       "    <input id=\"caea80be-79db-11eb-a389-acde48001122-submit\" type=\"submit\" value=\"Submit\" onclick=\"check_selection('caea80be-79db-11eb-a389-acde48001122', 4, 0, '')\">\n",
       "    <span class=\"quiz_hint\" id=\"caea80be-79db-11eb-a389-acde48001122-hint\"></span>\n",
       "    </div>\n",
       "    "
      ],
      "text/plain": [
       "<IPython.core.display.HTML object>"
      ]
     },
     "execution_count": 1,
     "metadata": {},
     "output_type": "execute_result"
    }
   ],
   "source": [
    "quiz(\"Is this actually the best solution?\",\n",
    "    [\n",
    "        \"Yes, sure, of course. Why?\",\n",
    "        \"Err - what happened to single quotes?\"\n",
    "    ], 1 << 1)"
   ]
  },
  {
   "cell_type": "markdown",
   "metadata": {
    "slideshow": {
     "slide_type": "fragment"
    }
   },
   "source": [
    "Indeed – our solution does not seem to handle single quotes anymore. Why is that so?"
   ]
  },
  {
   "cell_type": "code",
   "execution_count": 185,
   "metadata": {
    "execution": {
     "iopub.execute_input": "2021-02-28T15:44:07.421833Z",
     "iopub.status.busy": "2021-02-28T15:44:07.421259Z",
     "iopub.status.idle": "2021-02-28T15:44:07.423646Z",
     "shell.execute_reply": "2021-02-28T15:44:07.424024Z"
    },
    "slideshow": {
     "slide_type": "fragment"
    }
   },
   "outputs": [
    {
     "data": {
      "text/html": [
       "\n",
       "    \n",
       "    <script>\n",
       "    var bad_answers = new Map();\n",
       "\n",
       "    function answer(quiz_id) {\n",
       "        ans = 0;\n",
       "        for (i = 1;; i++) {\n",
       "            checkbox = document.getElementById(quiz_id + \"-\" + i.toString());\n",
       "            if (!checkbox)\n",
       "                break;\n",
       "            if (checkbox.checked)\n",
       "                ans |= (1 << i);\n",
       "        }\n",
       "        return ans;\n",
       "    }\n",
       "    function check_selection(quiz_id, correct_answer, multiple_choice, hint) {\n",
       "        given_answer = answer(quiz_id);\n",
       "        if (given_answer == correct_answer)\n",
       "        {\n",
       "            document.getElementById(quiz_id + \"-submit\").value = \"Correct!\";\n",
       "            document.getElementById(quiz_id + \"-hint\").innerHTML = \"\";\n",
       "\n",
       "            for (i = 1;; i++) {\n",
       "                checkbox = document.getElementById(quiz_id + \"-\" + i.toString());\n",
       "                label = document.getElementById(quiz_id + \"-\" + i.toString() + \"-label\")\n",
       "                if (!checkbox)\n",
       "                    break;\n",
       "    \n",
       "                if (checkbox.checked) {\n",
       "                    label.style.fontWeight = \"bold\";\n",
       "                }\n",
       "                else {\n",
       "                    label.style.textDecoration = \"line-through\";\n",
       "                }\n",
       "            }\n",
       "        }\n",
       "        else \n",
       "        {\n",
       "            document.getElementById(quiz_id + \"-submit\").value = \"Try again\";\n",
       "            \n",
       "            if (!bad_answers.has(quiz_id)) {\n",
       "                bad_answers.set(quiz_id, 1);\n",
       "            }\n",
       "            else {\n",
       "                bad_answers.set(quiz_id, bad_answers.get(quiz_id) + 1);\n",
       "            }\n",
       "\n",
       "            if (bad_answers.get(quiz_id) >= 2 && hint.length > 0) {\n",
       "                document.getElementById(quiz_id + \"-hint\").innerHTML = \n",
       "                    \"&nbsp;&nbsp;(Hint: <code>\" + hint + \"</code>)\";\n",
       "            }\n",
       "\n",
       "            if (!multiple_choice) {\n",
       "                for (i = 1;; i++) {\n",
       "                    checkbox = document.getElementById(quiz_id + \"-\" + i.toString());\n",
       "                    label = document.getElementById(quiz_id + \"-\" + i.toString() + \"-label\")\n",
       "\n",
       "                    if (!checkbox)\n",
       "                        break;\n",
       "                    if (checkbox.checked) {\n",
       "                        label.style.textDecoration = \"line-through\";\n",
       "                    }\n",
       "                }\n",
       "            }\n",
       "        }\n",
       "    }\n",
       "    function clear_selection(quiz_id) {\n",
       "        document.getElementById(quiz_id + \"-submit\").value = \"Submit\";\n",
       "        document.getElementById(quiz_id + \"-hint\").innerHTML = \"\";\n",
       "    }\n",
       "    </script>\n",
       "    \n",
       "    <div class=\"quiz\">\n",
       "    <h3 class=\"quiz_title\">Quiz</h3>\n",
       "    <p>\n",
       "    <div class=\"quiz_question\">Why aren't single quotes handled in the solution?</div>\n",
       "    </p>\n",
       "    <p>\n",
       "    <div class=\"quiz_options\" title=\"Pick a choice.\">\n",
       "    \n",
       "        <input type=\"radio\" name=\"caebc4ec-79db-11eb-a7ea-acde48001122\" id=\"caebc4ec-79db-11eb-a7ea-acde48001122-1\" onclick=\"clear_selection('caebc4ec-79db-11eb-a7ea-acde48001122')\">\n",
       "        <label id=\"caebc4ec-79db-11eb-a7ea-acde48001122-1-label\" for=\"caebc4ec-79db-11eb-a7ea-acde48001122-1\">Because they're not important. I mean, who uses 'em anyway?</label><br>\n",
       "    \n",
       "        <input type=\"radio\" name=\"caebc4ec-79db-11eb-a7ea-acde48001122\" id=\"caebc4ec-79db-11eb-a7ea-acde48001122-2\" onclick=\"clear_selection('caebc4ec-79db-11eb-a7ea-acde48001122')\">\n",
       "        <label id=\"caebc4ec-79db-11eb-a7ea-acde48001122-2-label\" for=\"caebc4ec-79db-11eb-a7ea-acde48001122-2\">Because they are not part of our tests? Let me look up how they are constructed...</label><br>\n",
       "    \n",
       "    </div>\n",
       "    </p>\n",
       "    <input id=\"caebc4ec-79db-11eb-a7ea-acde48001122-submit\" type=\"submit\" value=\"Submit\" onclick=\"check_selection('caebc4ec-79db-11eb-a7ea-acde48001122', 4, 0, '')\">\n",
       "    <span class=\"quiz_hint\" id=\"caebc4ec-79db-11eb-a7ea-acde48001122-hint\"></span>\n",
       "    </div>\n",
       "    "
      ],
      "text/plain": [
       "<IPython.core.display.HTML object>"
      ]
     },
     "execution_count": 1,
     "metadata": {},
     "output_type": "execute_result"
    }
   ],
   "source": [
    "quiz(\"Why aren't single quotes handled in the solution?\",\n",
    "    [\n",
    "        \"Because they're not important. I mean, who uses 'em anyway?\",\n",
    "        \"Because they are not part of our tests? \"\n",
    "            \"Let me look up how they are constructed...\"\n",
    "    ], 1 << 1)"
   ]
  },
  {
   "cell_type": "markdown",
   "metadata": {
    "slideshow": {
     "slide_type": "subslide"
    }
   },
   "source": [
    "Correct! Our test cases do not include single quotes – at least not in the interior of HTML tags – and thus, automatic repair did not care to preserve their handling. This can, of course, be easily fixed by including an appropriate test case in our set:"
   ]
  },
  {
   "cell_type": "code",
   "execution_count": 186,
   "metadata": {
    "execution": {
     "iopub.execute_input": "2021-02-28T15:44:07.427306Z",
     "iopub.status.busy": "2021-02-28T15:44:07.426734Z",
     "iopub.status.idle": "2021-02-28T15:44:07.428922Z",
     "shell.execute_reply": "2021-02-28T15:44:07.429296Z"
    },
    "slideshow": {
     "slide_type": "fragment"
    }
   },
   "outputs": [
    {
     "data": {
      "text/plain": [
       "'me'"
      ]
     },
     "execution_count": 1,
     "metadata": {},
     "output_type": "execute_result"
    }
   ],
   "source": [
    "remove_html_markup(\"<foo quote='>abc'>\\\"me\\\"</foo>\")"
   ]
  },
  {
   "cell_type": "code",
   "execution_count": 187,
   "metadata": {
    "execution": {
     "iopub.execute_input": "2021-02-28T15:44:07.433162Z",
     "iopub.status.busy": "2021-02-28T15:44:07.432587Z",
     "iopub.status.idle": "2021-02-28T15:44:07.434197Z",
     "shell.execute_reply": "2021-02-28T15:44:07.434727Z"
    },
    "slideshow": {
     "slide_type": "fragment"
    }
   },
   "outputs": [],
   "source": [
    "REMOVE_HTML_PASSING_TESTCASES.append((\"<foo quote='>abc'>\\\"me\\\"</foo>\", '\"me\"'))"
   ]
  },
  {
   "cell_type": "code",
   "execution_count": 188,
   "metadata": {
    "execution": {
     "iopub.execute_input": "2021-02-28T15:44:07.514527Z",
     "iopub.status.busy": "2021-02-28T15:44:07.477152Z",
     "iopub.status.idle": "2021-02-28T15:45:12.451059Z",
     "shell.execute_reply": "2021-02-28T15:45:12.450433Z"
    },
    "slideshow": {
     "slide_type": "subslide"
    }
   },
   "outputs": [
    {
     "name": "stdout",
     "output_type": "stream",
     "text": [
      "Evolving population: iteration   3/200 fitness = 0.99   \r\n",
      "\n",
      "New best code (fitness = 0.99):\n",
      "\u001b[34mdef\u001b[39;49;00m \u001b[32mremove_html_markup\u001b[39;49;00m(s):\n",
      "    tag = \u001b[34mFalse\u001b[39;49;00m\n",
      "    quote = \u001b[34mFalse\u001b[39;49;00m\n",
      "    out = \u001b[33m'\u001b[39;49;00m\u001b[33m'\u001b[39;49;00m\n",
      "    \u001b[34mfor\u001b[39;49;00m c \u001b[35min\u001b[39;49;00m s:\n",
      "        \u001b[34mif\u001b[39;49;00m c == \u001b[33m'\u001b[39;49;00m\u001b[33m<\u001b[39;49;00m\u001b[33m'\u001b[39;49;00m:\n",
      "            tag = \u001b[34mTrue\u001b[39;49;00m\n",
      "        \u001b[34melif\u001b[39;49;00m c == \u001b[33m'\u001b[39;49;00m\u001b[33m>\u001b[39;49;00m\u001b[33m'\u001b[39;49;00m \u001b[35mand\u001b[39;49;00m \u001b[35mnot\u001b[39;49;00m quote:\n",
      "            tag = \u001b[34mFalse\u001b[39;49;00m\n",
      "        \u001b[34melif\u001b[39;49;00m c == \u001b[33m'\u001b[39;49;00m\u001b[33m\"\u001b[39;49;00m\u001b[33m'\u001b[39;49;00m \u001b[35mor\u001b[39;49;00m c == \u001b[33m\"\u001b[39;49;00m\u001b[33m'\u001b[39;49;00m\u001b[33m\"\u001b[39;49;00m \u001b[35mand\u001b[39;49;00m tag:\n",
      "            quote = \u001b[35mnot\u001b[39;49;00m quote\n",
      "        \u001b[34melif\u001b[39;49;00m \u001b[35mnot\u001b[39;49;00m tag:\n",
      "            out = out + c\n",
      "    \u001b[34mreturn\u001b[39;49;00m out\n",
      "\n",
      "Evolving population: iteration 104/200 fitness = 0.99   \r\n",
      "\n",
      "New best code (fitness = 0.99):\n",
      "\u001b[34mdef\u001b[39;49;00m \u001b[32mremove_html_markup\u001b[39;49;00m(s):\n",
      "    tag = \u001b[34mFalse\u001b[39;49;00m\n",
      "    quote = \u001b[34mFalse\u001b[39;49;00m\n",
      "    out = \u001b[33m'\u001b[39;49;00m\u001b[33m'\u001b[39;49;00m\n",
      "    \u001b[34mfor\u001b[39;49;00m c \u001b[35min\u001b[39;49;00m s:\n",
      "        \u001b[34mif\u001b[39;49;00m c == \u001b[33m'\u001b[39;49;00m\u001b[33m<\u001b[39;49;00m\u001b[33m'\u001b[39;49;00m:\n",
      "            tag = \u001b[34mTrue\u001b[39;49;00m\n",
      "        \u001b[34melif\u001b[39;49;00m c == \u001b[33m'\u001b[39;49;00m\u001b[33m>\u001b[39;49;00m\u001b[33m'\u001b[39;49;00m \u001b[35mand\u001b[39;49;00m \u001b[35mnot\u001b[39;49;00m quote:\n",
      "            tag = \u001b[34mFalse\u001b[39;49;00m\n",
      "        \u001b[34melif\u001b[39;49;00m c == \u001b[33m'\u001b[39;49;00m\u001b[33m\"\u001b[39;49;00m\u001b[33m'\u001b[39;49;00m:\n",
      "            quote = \u001b[35mnot\u001b[39;49;00m quote\n",
      "        \u001b[34melif\u001b[39;49;00m \u001b[35mnot\u001b[39;49;00m tag:\n",
      "            out = out + c\n",
      "    \u001b[34mreturn\u001b[39;49;00m out\n",
      "\n",
      "Evolving population: iteration 124/200 fitness = 1.0   \r\n",
      "\n",
      "New best code (fitness = 1.0):\n",
      "\u001b[34mdef\u001b[39;49;00m \u001b[32mremove_html_markup\u001b[39;49;00m(s):\n",
      "    tag = \u001b[34mFalse\u001b[39;49;00m\n",
      "    quote = \u001b[34mFalse\u001b[39;49;00m\n",
      "    out = \u001b[33m'\u001b[39;49;00m\u001b[33m'\u001b[39;49;00m\n",
      "    \u001b[34mfor\u001b[39;49;00m c \u001b[35min\u001b[39;49;00m s:\n",
      "        \u001b[34mif\u001b[39;49;00m c == \u001b[33m'\u001b[39;49;00m\u001b[33m<\u001b[39;49;00m\u001b[33m'\u001b[39;49;00m:\n",
      "            tag = \u001b[34mTrue\u001b[39;49;00m\n",
      "        \u001b[34melif\u001b[39;49;00m c == \u001b[33m'\u001b[39;49;00m\u001b[33m>\u001b[39;49;00m\u001b[33m'\u001b[39;49;00m \u001b[35mand\u001b[39;49;00m \u001b[35mnot\u001b[39;49;00m quote:\n",
      "            tag = \u001b[34mFalse\u001b[39;49;00m\n",
      "        \u001b[34melif\u001b[39;49;00m tag \u001b[35mand\u001b[39;49;00m (c == \u001b[33m'\u001b[39;49;00m\u001b[33m\"\u001b[39;49;00m\u001b[33m'\u001b[39;49;00m \u001b[35mor\u001b[39;49;00m c == \u001b[33m\"\u001b[39;49;00m\u001b[33m'\u001b[39;49;00m\u001b[33m\"\u001b[39;49;00m \u001b[35mand\u001b[39;49;00m tag):\n",
      "            quote = \u001b[35mnot\u001b[39;49;00m quote\n",
      "        \u001b[34melif\u001b[39;49;00m \u001b[35mnot\u001b[39;49;00m tag:\n",
      "            out = out + c\n",
      "    \u001b[34mreturn\u001b[39;49;00m out\n",
      "\n",
      "\n",
      "Reduced code (fitness = 1.0):\n",
      "\u001b[34mdef\u001b[39;49;00m \u001b[32mremove_html_markup\u001b[39;49;00m(s):\n",
      "    tag = \u001b[34mFalse\u001b[39;49;00m\n",
      "    quote = \u001b[34mFalse\u001b[39;49;00m\n",
      "    out = \u001b[33m'\u001b[39;49;00m\u001b[33m'\u001b[39;49;00m\n",
      "    \u001b[34mfor\u001b[39;49;00m c \u001b[35min\u001b[39;49;00m s:\n",
      "        \u001b[34mif\u001b[39;49;00m c == \u001b[33m'\u001b[39;49;00m\u001b[33m<\u001b[39;49;00m\u001b[33m'\u001b[39;49;00m:\n",
      "            tag = \u001b[34mTrue\u001b[39;49;00m\n",
      "        \u001b[34melif\u001b[39;49;00m c == \u001b[33m'\u001b[39;49;00m\u001b[33m>\u001b[39;49;00m\u001b[33m'\u001b[39;49;00m \u001b[35mand\u001b[39;49;00m \u001b[35mnot\u001b[39;49;00m quote:\n",
      "            tag = \u001b[34mFalse\u001b[39;49;00m\n",
      "        \u001b[34melif\u001b[39;49;00m tag \u001b[35mand\u001b[39;49;00m (c == \u001b[33m'\u001b[39;49;00m\u001b[33m\"\u001b[39;49;00m\u001b[33m'\u001b[39;49;00m \u001b[35mor\u001b[39;49;00m c == \u001b[33m\"\u001b[39;49;00m\u001b[33m'\u001b[39;49;00m\u001b[33m\"\u001b[39;49;00m \u001b[35mand\u001b[39;49;00m tag):\n",
      "            quote = \u001b[35mnot\u001b[39;49;00m quote\n",
      "        \u001b[34melif\u001b[39;49;00m \u001b[35mnot\u001b[39;49;00m tag:\n",
      "            out = out + c\n",
      "    \u001b[34mreturn\u001b[39;49;00m out\n",
      "\n"
     ]
    }
   ],
   "source": [
    "best_tree, fitness = condition_repairer.repair(iterations=200)"
   ]
  },
  {
   "cell_type": "markdown",
   "metadata": {
    "slideshow": {
     "slide_type": "subslide"
    }
   },
   "source": [
    "Here is the final tree:"
   ]
  },
  {
   "cell_type": "code",
   "execution_count": 189,
   "metadata": {
    "execution": {
     "iopub.execute_input": "2021-02-28T15:45:12.467393Z",
     "iopub.status.busy": "2021-02-28T15:45:12.466477Z",
     "iopub.status.idle": "2021-02-28T15:45:12.469404Z",
     "shell.execute_reply": "2021-02-28T15:45:12.469788Z"
    },
    "slideshow": {
     "slide_type": "subslide"
    }
   },
   "outputs": [
    {
     "name": "stdout",
     "output_type": "stream",
     "text": [
      "\u001b[34mdef\u001b[39;49;00m \u001b[32mremove_html_markup\u001b[39;49;00m(s):\n",
      "    tag = \u001b[34mFalse\u001b[39;49;00m\n",
      "    quote = \u001b[34mFalse\u001b[39;49;00m\n",
      "    out = \u001b[33m'\u001b[39;49;00m\u001b[33m'\u001b[39;49;00m\n",
      "    \u001b[34mfor\u001b[39;49;00m c \u001b[35min\u001b[39;49;00m s:\n",
      "        \u001b[34mif\u001b[39;49;00m c == \u001b[33m'\u001b[39;49;00m\u001b[33m<\u001b[39;49;00m\u001b[33m'\u001b[39;49;00m:\n",
      "            tag = \u001b[34mTrue\u001b[39;49;00m\n",
      "        \u001b[34melif\u001b[39;49;00m c == \u001b[33m'\u001b[39;49;00m\u001b[33m>\u001b[39;49;00m\u001b[33m'\u001b[39;49;00m \u001b[35mand\u001b[39;49;00m \u001b[35mnot\u001b[39;49;00m quote:\n",
      "            tag = \u001b[34mFalse\u001b[39;49;00m\n",
      "        \u001b[34melif\u001b[39;49;00m tag \u001b[35mand\u001b[39;49;00m (c == \u001b[33m'\u001b[39;49;00m\u001b[33m\"\u001b[39;49;00m\u001b[33m'\u001b[39;49;00m \u001b[35mor\u001b[39;49;00m c == \u001b[33m\"\u001b[39;49;00m\u001b[33m'\u001b[39;49;00m\u001b[33m\"\u001b[39;49;00m \u001b[35mand\u001b[39;49;00m tag):\n",
      "            quote = \u001b[35mnot\u001b[39;49;00m quote\n",
      "        \u001b[34melif\u001b[39;49;00m \u001b[35mnot\u001b[39;49;00m tag:\n",
      "            out = out + c\n",
      "    \u001b[34mreturn\u001b[39;49;00m out"
     ]
    }
   ],
   "source": [
    "print_content(astor.to_source(best_tree), '.py')"
   ]
  },
  {
   "cell_type": "markdown",
   "metadata": {
    "slideshow": {
     "slide_type": "subslide"
    }
   },
   "source": [
    "And here is its fitness:"
   ]
  },
  {
   "cell_type": "code",
   "execution_count": 190,
   "metadata": {
    "execution": {
     "iopub.execute_input": "2021-02-28T15:45:12.473302Z",
     "iopub.status.busy": "2021-02-28T15:45:12.472763Z",
     "iopub.status.idle": "2021-02-28T15:45:12.475004Z",
     "shell.execute_reply": "2021-02-28T15:45:12.475470Z"
    },
    "slideshow": {
     "slide_type": "fragment"
    }
   },
   "outputs": [
    {
     "data": {
      "text/plain": [
       "1.0"
      ]
     },
     "execution_count": 1,
     "metadata": {},
     "output_type": "execute_result"
    }
   ],
   "source": [
    "fitness"
   ]
  },
  {
   "cell_type": "markdown",
   "metadata": {
    "slideshow": {
     "slide_type": "subslide"
    }
   },
   "source": [
    "The revised candidate now passes _all_ tests (including the tricky quote test we added last). Its condition now properly checks for `tag` _and_ both quotes. (The `tag` inside the parentheses is still redundant, but so be it.) From this example, we can learn a few lessons about the possibilities and risks of automated repair:\n",
    "\n",
    "* First, automatic repair is highly dependent on the quality of the checking tests. The risk is that the repair may overspecialize towards the test.\n",
    "* Second, automated repair is highly dependent on the sources that program fragments are chosen from. If there is a hint of a solution somewhere in the code, there is a chance that automated repair will catch it up.\n",
    "* Third, automatic repair is a deeply heuristic approach. Its behavior will vary widely with any change to the parameters (and the underlying random number generators)\n",
    "* Fourth, automatic repair can take a long time. The examples we have in this chapter take less than a minute to compute, and neither Python nor our implementation is exactly fast. But as the search space grows, automated repair will take much longer.\n",
    "\n",
    "On the other hand, even an incomplete automated repair candidate can be much better than nothing at all – it may provide all the essential ingredients (such as the location or the involved variables) for a successful fix. When users of automated repair techniques are aware of its limitations and its assumptions, there is lots of potential in automated repair. Enjoy!"
   ]
  },
  {
   "cell_type": "markdown",
   "metadata": {
    "slideshow": {
     "slide_type": "slide"
    }
   },
   "source": [
    "## Limitations"
   ]
  },
  {
   "cell_type": "markdown",
   "metadata": {
    "slideshow": {
     "slide_type": "fragment"
    }
   },
   "source": [
    "The `Repairer` class is hardly tested. Things that do not work include\n",
    "\n",
    "* Functions with inner functions are not repaired."
   ]
  },
  {
   "cell_type": "markdown",
   "metadata": {
    "slideshow": {
     "slide_type": "slide"
    }
   },
   "source": [
    "## Synopsis"
   ]
  },
  {
   "cell_type": "markdown",
   "metadata": {
    "slideshow": {
     "slide_type": "subslide"
    }
   },
   "source": [
    "This chapter provides tools and techniques for automated repair of program code. The `Repairer()` class takes a `DifferenceDebugger` debugger as input (such as `OchiaiDebugger` from [the chapter on statistical debugging](StatisticalDebugger.ipynb). A typical setup looks like this:\n",
    "\n",
    "```python\n",
    "from debuggingbook.StatisticalDebugger import OchiaiDebugger\n",
    "\n",
    "debugger = OchiaiDebugger()\n",
    "for inputs in TESTCASES:\n",
    "    with debugger:\n",
    "        test_foo(inputs)\n",
    "...\n",
    "\n",
    "repairer = Repairer(debugger)\n",
    "```\n",
    "Here, `test_foo()` is a function that raises an exception if the tested function `foo()` fails. If `foo()` passes, `test_foo()` should not raise an exception."
   ]
  },
  {
   "cell_type": "markdown",
   "metadata": {
    "slideshow": {
     "slide_type": "subslide"
    }
   },
   "source": [
    "The `repair()` method of a `Repairer` searches for a repair of the code covered in the debugger (except for methods starting or ending in `test`, such that `foo()`, not `test_foo()` is repaired). `repair()` returns the best fix candidate as a pair `(tree, fitness)` where `tree` is a [Python abstract syntax tree](http://docs.python.org/3/library/ast) (AST) of the fix candidate, and `fitness` is the fitness of the candidate (a value between 0 and 1). A `fitness` of 1.0 means that the candidate passed all tests. A typical usage looks like this:\n",
    "\n",
    "```python\n",
    "import astor\n",
    "\n",
    "tree, fitness = repairer.repair()\n",
    "print(astor.to_source(tree), fitness)\n",
    "```"
   ]
  },
  {
   "cell_type": "markdown",
   "metadata": {
    "slideshow": {
     "slide_type": "subslide"
    }
   },
   "source": [
    "Here is a complete example for the `middle()` program. This is the original source code of `middle()`:"
   ]
  },
  {
   "cell_type": "code",
   "execution_count": 191,
   "metadata": {
    "execution": {
     "iopub.execute_input": "2021-02-28T15:45:12.485669Z",
     "iopub.status.busy": "2021-02-28T15:45:12.484951Z",
     "iopub.status.idle": "2021-02-28T15:45:12.487117Z",
     "shell.execute_reply": "2021-02-28T15:45:12.487564Z"
    },
    "slideshow": {
     "slide_type": "subslide"
    }
   },
   "outputs": [
    {
     "name": "stdout",
     "output_type": "stream",
     "text": [
      "\u001b[34mdef\u001b[39;49;00m \u001b[32mmiddle\u001b[39;49;00m(x, y, z):  \u001b[37m# type: ignore\u001b[39;49;00m\n",
      "    \u001b[34mif\u001b[39;49;00m y < z:\n",
      "        \u001b[34mif\u001b[39;49;00m x < y:\n",
      "            \u001b[34mreturn\u001b[39;49;00m y\n",
      "        \u001b[34melif\u001b[39;49;00m x < z:\n",
      "            \u001b[34mreturn\u001b[39;49;00m y\n",
      "    \u001b[34melse\u001b[39;49;00m:\n",
      "        \u001b[34mif\u001b[39;49;00m x > y:\n",
      "            \u001b[34mreturn\u001b[39;49;00m y\n",
      "        \u001b[34melif\u001b[39;49;00m x > z:\n",
      "            \u001b[34mreturn\u001b[39;49;00m x\n",
      "    \u001b[34mreturn\u001b[39;49;00m z"
     ]
    }
   ],
   "source": [
    "# ignore\n",
    "print_content(middle_source, '.py')"
   ]
  },
  {
   "cell_type": "markdown",
   "metadata": {
    "slideshow": {
     "slide_type": "subslide"
    }
   },
   "source": [
    "We set up a function `middle_test()` that tests it. The `middle_debugger`  collects testcases and outcomes:"
   ]
  },
  {
   "cell_type": "code",
   "execution_count": 192,
   "metadata": {
    "execution": {
     "iopub.execute_input": "2021-02-28T15:45:12.491930Z",
     "iopub.status.busy": "2021-02-28T15:45:12.491178Z",
     "iopub.status.idle": "2021-02-28T15:45:12.492793Z",
     "shell.execute_reply": "2021-02-28T15:45:12.493224Z"
    },
    "slideshow": {
     "slide_type": "fragment"
    }
   },
   "outputs": [],
   "source": [
    "middle_debugger = OchiaiDebugger()"
   ]
  },
  {
   "cell_type": "code",
   "execution_count": 193,
   "metadata": {
    "execution": {
     "iopub.execute_input": "2021-02-28T15:45:12.503995Z",
     "iopub.status.busy": "2021-02-28T15:45:12.502993Z",
     "iopub.status.idle": "2021-02-28T15:45:12.504959Z",
     "shell.execute_reply": "2021-02-28T15:45:12.505710Z"
    },
    "slideshow": {
     "slide_type": "fragment"
    }
   },
   "outputs": [],
   "source": [
    "for x, y, z in MIDDLE_PASSING_TESTCASES + MIDDLE_FAILING_TESTCASES:\n",
    "    with middle_debugger:\n",
    "        m = middle_test(x, y, z)"
   ]
  },
  {
   "cell_type": "markdown",
   "metadata": {
    "slideshow": {
     "slide_type": "fragment"
    }
   },
   "source": [
    "The repairer attempts to repair the invoked function (`middle()`). The returned AST `tree` can be output via `astor.to_source()`:"
   ]
  },
  {
   "cell_type": "code",
   "execution_count": 194,
   "metadata": {
    "execution": {
     "iopub.execute_input": "2021-02-28T15:45:12.549666Z",
     "iopub.status.busy": "2021-02-28T15:45:12.511009Z",
     "iopub.status.idle": "2021-02-28T15:45:13.158591Z",
     "shell.execute_reply": "2021-02-28T15:45:13.159142Z"
    },
    "slideshow": {
     "slide_type": "subslide"
    }
   },
   "outputs": [
    {
     "name": "stdout",
     "output_type": "stream",
     "text": [
      "def middle(x, y, z):\n",
      "    if y < z:\n",
      "        if x < y:\n",
      "            return y\n",
      "        elif x < z:\n",
      "            return x\n",
      "    elif x > y:\n",
      "        return y\n",
      "    elif x > z:\n",
      "        return x\n",
      "    return z\n",
      " 1.0\n"
     ]
    }
   ],
   "source": [
    "middle_repairer = Repairer(middle_debugger)\n",
    "tree, fitness = middle_repairer.repair()\n",
    "print(astor.to_source(tree), fitness)"
   ]
  },
  {
   "cell_type": "markdown",
   "metadata": {
    "slideshow": {
     "slide_type": "subslide"
    }
   },
   "source": [
    "Here are the classes defined in this chapter. A `Repairer` repairs a program, using a `StatementMutator` and a `CrossoverOperator` to evolve a population of candidates."
   ]
  },
  {
   "cell_type": "code",
   "execution_count": 195,
   "metadata": {
    "execution": {
     "iopub.execute_input": "2021-02-28T15:45:13.163217Z",
     "iopub.status.busy": "2021-02-28T15:45:13.162287Z",
     "iopub.status.idle": "2021-02-28T15:45:13.164333Z",
     "shell.execute_reply": "2021-02-28T15:45:13.165025Z"
    },
    "slideshow": {
     "slide_type": "fragment"
    }
   },
   "outputs": [],
   "source": [
    "# ignore\n",
    "from ClassDiagram import display_class_hierarchy"
   ]
  },
  {
   "cell_type": "code",
   "execution_count": 196,
   "metadata": {
    "execution": {
     "iopub.execute_input": "2021-02-28T15:45:13.183064Z",
     "iopub.status.busy": "2021-02-28T15:45:13.182472Z",
     "iopub.status.idle": "2021-02-28T15:45:13.987190Z",
     "shell.execute_reply": "2021-02-28T15:45:13.987777Z"
    },
    "slideshow": {
     "slide_type": "subslide"
    }
   },
   "outputs": [
    {
     "data": {
      "image/svg+xml": [
       "<?xml version=\"1.0\" encoding=\"UTF-8\" standalone=\"no\"?>\n",
       "<!DOCTYPE svg PUBLIC \"-//W3C//DTD SVG 1.1//EN\"\n",
       " \"http://www.w3.org/Graphics/SVG/1.1/DTD/svg11.dtd\">\n",
       "<!-- Generated by graphviz version 2.40.1 (20161225.0304)\n",
       " -->\n",
       "<!-- Title: %3 Pages: 1 -->\n",
       "<svg width=\"597pt\" height=\"604pt\"\n",
       " viewBox=\"0.00 0.00 596.50 604.00\" xmlns=\"http://www.w3.org/2000/svg\" xmlns:xlink=\"http://www.w3.org/1999/xlink\">\n",
       "<g id=\"graph0\" class=\"graph\" transform=\"scale(1 1) rotate(0) translate(4 600)\">\n",
       "<title>%3</title>\n",
       "<g id=\"a_graph0\"><a xlink:title=\"Repairer class hierarchy\">\n",
       "<polygon fill=\"#ffffff\" stroke=\"transparent\" points=\"-4,4 -4,-600 592.5,-600 592.5,4 -4,4\"/>\n",
       "</a>\n",
       "</g>\n",
       "<!-- Repairer -->\n",
       "<g id=\"node1\" class=\"node\">\n",
       "<title>Repairer</title>\n",
       "<g id=\"a_node1\"><a xlink:href=\"#\" xlink:title=\"class Repairer:&#10;A class for automatic repair of Python programs\">\n",
       "<polygon fill=\"none\" stroke=\"#000000\" points=\"0,-.5 0,-218.5 137,-218.5 137,-.5 0,-.5\"/>\n",
       "<text text-anchor=\"start\" x=\"39.5\" y=\"-204.3\" font-family=\"Raleway, Helvetica, Arial, sans-serif\" font-weight=\"bold\" font-size=\"14.00\" fill=\"#6a0dad\">Repairer</text>\n",
       "<polyline fill=\"none\" stroke=\"#000000\" points=\"0,-195.5 137,-195.5 \"/>\n",
       "<g id=\"a_node1_0\"><a xlink:href=\"#\" xlink:title=\"Repairer\">\n",
       "<g id=\"a_node1_1\"><a xlink:href=\"#\" xlink:title=\"__init__(self, debugger, targets=None, sources=None, log=False, mutator_class=&lt;class &#39;__main__.StatementMutator&#39;&gt;, crossover_class=&lt;class &#39;__main__.CrossoverOperator&#39;&gt;, reducer_class=&lt;class &#39;DeltaDebugger.DeltaDebugger&#39;&gt;, globals=None):&#10;Constructor.&#10;`debugger`: a `DifferenceDebugger` to take tests and coverage from.&#10;`targets`: a list of functions/modules to be repaired.&#10;(default: the covered functions in `debugger`, except tests)&#10;`sources`: a list of functions/modules to take repairs from.&#10;(default: same as `targets`)&#10;`globals`: if given, a `globals()` dict for executing targets&#10;(default: `globals()` of caller)\">\n",
       "<text text-anchor=\"start\" x=\"8.5\" y=\"-184\" font-family=\"'Fira Mono', 'Source Code Pro', 'Courier', monospace\" font-weight=\"bold\" font-size=\"10.00\" fill=\"#000000\">__init__()</text>\n",
       "</a>\n",
       "</g>\n",
       "<g id=\"a_node1_2\"><a xlink:href=\"#\" xlink:title=\"repair(self, population_size=40, iterations=100):&#10;Repair the function we collected test runs from.&#10;Use a population size of `population_size` and&#10;at most `iterations` iterations.&#10;Returns the AST of the repaired function.\">\n",
       "<text text-anchor=\"start\" x=\"8.5\" y=\"-173\" font-family=\"'Fira Mono', 'Source Code Pro', 'Courier', monospace\" font-weight=\"bold\" font-size=\"10.00\" fill=\"#000000\">repair()</text>\n",
       "</a>\n",
       "</g>\n",
       "<g id=\"a_node1_3\"><a xlink:href=\"#\" xlink:title=\"default_functions(self):&#10;Return the set of functions to be repaired.&#10;Functions whose names start or end in `test` are excluded.\">\n",
       "<text text-anchor=\"start\" x=\"8.5\" y=\"-161\" font-family=\"'Fira Mono', 'Source Code Pro', 'Courier', monospace\" font-size=\"10.00\" fill=\"#000000\">default_functions()</text>\n",
       "</a>\n",
       "</g>\n",
       "<g id=\"a_node1_4\"><a xlink:href=\"#\" xlink:title=\"evolve(self, population):&#10;Evolve the candidate population by mutating and crossover.\">\n",
       "<text text-anchor=\"start\" x=\"8.5\" y=\"-150\" font-family=\"'Fira Mono', 'Source Code Pro', 'Courier', monospace\" font-size=\"10.00\" fill=\"#000000\">evolve()</text>\n",
       "</a>\n",
       "</g>\n",
       "<g id=\"a_node1_5\"><a xlink:href=\"#\" xlink:title=\"fitness(self, tree):&#10;Test `tree`, returning its fitness\">\n",
       "<text text-anchor=\"start\" x=\"8.5\" y=\"-139\" font-family=\"'Fira Mono', 'Source Code Pro', 'Courier', monospace\" font-size=\"10.00\" fill=\"#000000\">fitness()</text>\n",
       "</a>\n",
       "</g>\n",
       "<g id=\"a_node1_6\"><a xlink:href=\"#\" xlink:title=\"fitness_key(self, tree):&#10;Key to be used for sorting the population\">\n",
       "<text text-anchor=\"start\" x=\"8.5\" y=\"-128\" font-family=\"'Fira Mono', 'Source Code Pro', 'Courier', monospace\" font-size=\"10.00\" fill=\"#000000\">fitness_key()</text>\n",
       "</a>\n",
       "</g>\n",
       "<g id=\"a_node1_7\"><a xlink:href=\"#\" xlink:title=\"getsource(self, item):&#10;Get the source for `item`. Can also be a string.\">\n",
       "<text text-anchor=\"start\" x=\"8.5\" y=\"-117\" font-family=\"'Fira Mono', 'Source Code Pro', 'Courier', monospace\" font-size=\"10.00\" fill=\"#000000\">getsource()</text>\n",
       "</a>\n",
       "</g>\n",
       "<g id=\"a_node1_8\"><a xlink:href=\"#\" xlink:title=\"initial_population(self, size):&#10;Return an initial population of size `size`\">\n",
       "<text text-anchor=\"start\" x=\"8.5\" y=\"-106\" font-family=\"'Fira Mono', 'Source Code Pro', 'Courier', monospace\" font-size=\"10.00\" fill=\"#000000\">initial_population()</text>\n",
       "</a>\n",
       "</g>\n",
       "<g id=\"a_node1_9\"><a xlink:href=\"#\" xlink:title=\"log_tree(self, description, tree):&#10;Print out `tree` as source code prefixed by `description`.\">\n",
       "<text text-anchor=\"start\" x=\"8.5\" y=\"-95\" font-family=\"'Fira Mono', 'Source Code Pro', 'Courier', monospace\" font-size=\"10.00\" fill=\"#000000\">log_tree()</text>\n",
       "</a>\n",
       "</g>\n",
       "<g id=\"a_node1_10\"><a xlink:href=\"#\" xlink:title=\"parse(self, items):&#10;Read in a set of items into a single tree\">\n",
       "<text text-anchor=\"start\" x=\"8.5\" y=\"-84\" font-family=\"'Fira Mono', 'Source Code Pro', 'Courier', monospace\" font-size=\"10.00\" fill=\"#000000\">parse()</text>\n",
       "</a>\n",
       "</g>\n",
       "<g id=\"a_node1_11\"><a xlink:href=\"#\" xlink:title=\"reduce(self, tree):&#10;Simplify `tree` using delta debugging.\">\n",
       "<text text-anchor=\"start\" x=\"8.5\" y=\"-73\" font-family=\"'Fira Mono', 'Source Code Pro', 'Courier', monospace\" font-size=\"10.00\" fill=\"#000000\">reduce()</text>\n",
       "</a>\n",
       "</g>\n",
       "<g id=\"a_node1_12\"><a xlink:href=\"#\" xlink:title=\"run_test_set(self, test_set, validate=False):&#10;Run given `test_set`&#10;(`DifferenceDebugger.PASS` or `DifferenceDebugger.FAIL`).&#10;If `validate` is set, check expectations.&#10;Return number of passed tests.\">\n",
       "<text text-anchor=\"start\" x=\"8.5\" y=\"-62\" font-family=\"'Fira Mono', 'Source Code Pro', 'Courier', monospace\" font-size=\"10.00\" fill=\"#000000\">run_test_set()</text>\n",
       "</a>\n",
       "</g>\n",
       "<g id=\"a_node1_13\"><a xlink:href=\"#\" xlink:title=\"run_tests(self, validate=False):&#10;Run passing and failing tests, returning weighted fitness.\">\n",
       "<text text-anchor=\"start\" x=\"8.5\" y=\"-51\" font-family=\"'Fira Mono', 'Source Code Pro', 'Courier', monospace\" font-size=\"10.00\" fill=\"#000000\">run_tests()</text>\n",
       "</a>\n",
       "</g>\n",
       "<g id=\"a_node1_14\"><a xlink:href=\"#\" xlink:title=\"test_reduce(self, source_lines, original_fitness):&#10;Test function for delta debugging.\">\n",
       "<text text-anchor=\"start\" x=\"8.5\" y=\"-40\" font-family=\"'Fira Mono', 'Source Code Pro', 'Courier', monospace\" font-size=\"10.00\" fill=\"#000000\">test_reduce()</text>\n",
       "</a>\n",
       "</g>\n",
       "<g id=\"a_node1_15\"><a xlink:href=\"#\" xlink:title=\"toplevel_defs(self, tree):&#10;Return a list of defined functions and classes in `tree`\">\n",
       "<text text-anchor=\"start\" x=\"8.5\" y=\"-29\" font-family=\"'Fira Mono', 'Source Code Pro', 'Courier', monospace\" font-size=\"10.00\" fill=\"#000000\">toplevel_defs()</text>\n",
       "</a>\n",
       "</g>\n",
       "<g id=\"a_node1_16\"><a xlink:href=\"#\" xlink:title=\"validate(self)\">\n",
       "<text text-anchor=\"start\" x=\"8.5\" y=\"-18\" font-family=\"'Fira Mono', 'Source Code Pro', 'Courier', monospace\" font-size=\"10.00\" fill=\"#000000\">validate()</text>\n",
       "</a>\n",
       "</g>\n",
       "<g id=\"a_node1_17\"><a xlink:href=\"#\" xlink:title=\"weight(self, test_set):&#10;Return the weight of `test_set`&#10;(`DifferenceDebugger.PASS` or `DifferenceDebugger.FAIL`).\">\n",
       "<text text-anchor=\"start\" x=\"8.5\" y=\"-7\" font-family=\"'Fira Mono', 'Source Code Pro', 'Courier', monospace\" font-size=\"10.00\" fill=\"#000000\">weight()</text>\n",
       "</a>\n",
       "</g>\n",
       "</a>\n",
       "</g>\n",
       "</a>\n",
       "</g>\n",
       "</g>\n",
       "<!-- StackInspector -->\n",
       "<g id=\"node2\" class=\"node\">\n",
       "<title>StackInspector</title>\n",
       "<g id=\"a_node2\"><a xlink:href=\"Slicer.ipynb\" xlink:title=\"class StackInspector:&#10;Provide functions to inspect the stack\">\n",
       "<polygon fill=\"none\" stroke=\"#000000\" points=\"9,-281.5 9,-400.5 128,-400.5 128,-281.5 9,-281.5\"/>\n",
       "<text text-anchor=\"start\" x=\"17.5\" y=\"-386.3\" font-family=\"Raleway, Helvetica, Arial, sans-serif\" font-weight=\"bold\" font-size=\"14.00\" fill=\"#6a0dad\">StackInspector</text>\n",
       "<polyline fill=\"none\" stroke=\"#000000\" points=\"9,-377.5 128,-377.5 \"/>\n",
       "<g id=\"a_node2_18\"><a xlink:href=\"#\" xlink:title=\"StackInspector\">\n",
       "<g id=\"a_node2_19\"><a xlink:href=\"Slicer.ipynb\" xlink:title=\"caller_frame(self) &#45;&gt; frame:&#10;Return the frame of the caller.\">\n",
       "<text text-anchor=\"start\" x=\"17.5\" y=\"-365.5\" font-family=\"'Fira Mono', 'Source Code Pro', 'Courier', monospace\" font-size=\"10.00\" fill=\"#000000\">caller_frame()</text>\n",
       "</a>\n",
       "</g>\n",
       "<g id=\"a_node2_20\"><a xlink:href=\"Slicer.ipynb\" xlink:title=\"caller_function(self) &#45;&gt; Callable:&#10;Return the calling function\">\n",
       "<text text-anchor=\"start\" x=\"17.5\" y=\"-354.5\" font-family=\"'Fira Mono', 'Source Code Pro', 'Courier', monospace\" font-size=\"10.00\" fill=\"#000000\">caller_function()</text>\n",
       "</a>\n",
       "</g>\n",
       "<g id=\"a_node2_21\"><a xlink:href=\"Slicer.ipynb\" xlink:title=\"caller_globals(self) &#45;&gt; Dict[str, Any]:&#10;Return the globals() environment of the caller.\">\n",
       "<text text-anchor=\"start\" x=\"17.5\" y=\"-343.5\" font-family=\"'Fira Mono', 'Source Code Pro', 'Courier', monospace\" font-size=\"10.00\" fill=\"#000000\">caller_globals()</text>\n",
       "</a>\n",
       "</g>\n",
       "<g id=\"a_node2_22\"><a xlink:href=\"Slicer.ipynb\" xlink:title=\"caller_locals(self) &#45;&gt; Dict[str, Any]:&#10;Return the locals() environment of the caller.\">\n",
       "<text text-anchor=\"start\" x=\"17.5\" y=\"-332.5\" font-family=\"'Fira Mono', 'Source Code Pro', 'Courier', monospace\" font-size=\"10.00\" fill=\"#000000\">caller_locals()</text>\n",
       "</a>\n",
       "</g>\n",
       "<g id=\"a_node2_23\"><a xlink:href=\"Slicer.ipynb\" xlink:title=\"caller_location(self) &#45;&gt; Tuple[Callable, int]:&#10;Return the location (func, lineno) of the caller.\">\n",
       "<text text-anchor=\"start\" x=\"17.5\" y=\"-321.5\" font-family=\"'Fira Mono', 'Source Code Pro', 'Courier', monospace\" font-size=\"10.00\" fill=\"#000000\">caller_location()</text>\n",
       "</a>\n",
       "</g>\n",
       "<g id=\"a_node2_24\"><a xlink:href=\"Slicer.ipynb\" xlink:title=\"search_frame(self, name:str) &#45;&gt; Tuple[Union[frame, NoneType], Union[Callable, NoneType]]:&#10;Return a pair (`frame`, `item`)&#10;in which the function named `name` is defined as `item`.\">\n",
       "<text text-anchor=\"start\" x=\"17.5\" y=\"-310.5\" font-family=\"'Fira Mono', 'Source Code Pro', 'Courier', monospace\" font-size=\"10.00\" fill=\"#000000\">search_frame()</text>\n",
       "</a>\n",
       "</g>\n",
       "<g id=\"a_node2_25\"><a xlink:href=\"Slicer.ipynb\" xlink:title=\"search_func(self, name:str) &#45;&gt; Union[Callable, NoneType]:&#10;Search in callers for a definition of the function `name`\">\n",
       "<text text-anchor=\"start\" x=\"17.5\" y=\"-299.5\" font-family=\"'Fira Mono', 'Source Code Pro', 'Courier', monospace\" font-size=\"10.00\" fill=\"#000000\">search_func()</text>\n",
       "</a>\n",
       "</g>\n",
       "<g id=\"a_node2_26\"><a xlink:href=\"Slicer.ipynb\" xlink:title=\"unknown(self) &#45;&gt; None\">\n",
       "<text text-anchor=\"start\" x=\"17.5\" y=\"-288.5\" font-family=\"'Fira Mono', 'Source Code Pro', 'Courier', monospace\" font-size=\"10.00\" fill=\"#000000\">unknown()</text>\n",
       "</a>\n",
       "</g>\n",
       "</a>\n",
       "</g>\n",
       "</a>\n",
       "</g>\n",
       "</g>\n",
       "<!-- Repairer&#45;&gt;StackInspector -->\n",
       "<g id=\"edge1\" class=\"edge\">\n",
       "<title>Repairer&#45;&gt;StackInspector</title>\n",
       "<path fill=\"none\" stroke=\"#000000\" d=\"M68.5,-218.8098C68.5,-236.6484 68.5,-254.6917 68.5,-271.2377\"/>\n",
       "<polygon fill=\"none\" stroke=\"#000000\" points=\"65.0001,-271.3312 68.5,-281.3313 72.0001,-271.3313 65.0001,-271.3312\"/>\n",
       "</g>\n",
       "<!-- ConditionMutator -->\n",
       "<g id=\"node3\" class=\"node\">\n",
       "<title>ConditionMutator</title>\n",
       "<g id=\"a_node3\"><a xlink:href=\"#\" xlink:title=\"class ConditionMutator:&#10;Mutate conditions in an AST\">\n",
       "<polygon fill=\"none\" stroke=\"#000000\" points=\"155,-72 155,-147 290,-147 290,-72 155,-72\"/>\n",
       "<text text-anchor=\"start\" x=\"163\" y=\"-132.8\" font-family=\"Raleway, Helvetica, Arial, sans-serif\" font-weight=\"bold\" font-size=\"14.00\" fill=\"#6a0dad\">ConditionMutator</text>\n",
       "<polyline fill=\"none\" stroke=\"#000000\" points=\"155,-124 290,-124 \"/>\n",
       "<g id=\"a_node3_27\"><a xlink:href=\"#\" xlink:title=\"ConditionMutator\">\n",
       "<g id=\"a_node3_28\"><a xlink:href=\"#\" xlink:title=\"__init__(self, *args, **kwargs):&#10;Constructor. Arguments are as with `StatementMutator` constructor.\">\n",
       "<text text-anchor=\"start\" x=\"168.5\" y=\"-113\" font-family=\"'Fira Mono', 'Source Code Pro', 'Courier', monospace\" font-weight=\"bold\" font-style=\"italic\" font-size=\"10.00\" fill=\"#000000\">__init__()</text>\n",
       "</a>\n",
       "</g>\n",
       "<g id=\"a_node3_29\"><a xlink:href=\"#\" xlink:title=\"choose_bool_op(self)\">\n",
       "<text text-anchor=\"start\" x=\"168.5\" y=\"-101\" font-family=\"'Fira Mono', 'Source Code Pro', 'Courier', monospace\" font-size=\"10.00\" fill=\"#000000\">choose_bool_op()</text>\n",
       "</a>\n",
       "</g>\n",
       "<g id=\"a_node3_30\"><a xlink:href=\"#\" xlink:title=\"choose_condition(self):&#10;Return a random condition from source.\">\n",
       "<text text-anchor=\"start\" x=\"168.5\" y=\"-90\" font-family=\"'Fira Mono', 'Source Code Pro', 'Courier', monospace\" font-size=\"10.00\" fill=\"#000000\">choose_condition()</text>\n",
       "</a>\n",
       "</g>\n",
       "<g id=\"a_node3_31\"><a xlink:href=\"#\" xlink:title=\"swap(self, node):&#10;Replace `node` condition by a condition from `source`\">\n",
       "<text text-anchor=\"start\" x=\"168.5\" y=\"-80\" font-family=\"'Fira Mono', 'Source Code Pro', 'Courier', monospace\" font-style=\"italic\" font-size=\"10.00\" fill=\"#000000\">swap()</text>\n",
       "</a>\n",
       "</g>\n",
       "</a>\n",
       "</g>\n",
       "</a>\n",
       "</g>\n",
       "</g>\n",
       "<!-- StatementMutator -->\n",
       "<g id=\"node4\" class=\"node\">\n",
       "<title>StatementMutator</title>\n",
       "<g id=\"a_node4\"><a xlink:href=\"#\" xlink:title=\"class StatementMutator:&#10;Mutate statements in an AST for automated repair.\">\n",
       "<polygon fill=\"none\" stroke=\"#000000\" points=\"151,-255.5 151,-426.5 294,-426.5 294,-255.5 151,-255.5\"/>\n",
       "<text text-anchor=\"start\" x=\"160\" y=\"-412.3\" font-family=\"Raleway, Helvetica, Arial, sans-serif\" font-weight=\"bold\" font-size=\"14.00\" fill=\"#6a0dad\">StatementMutator</text>\n",
       "<polyline fill=\"none\" stroke=\"#000000\" points=\"151,-403.5 294,-403.5 \"/>\n",
       "<g id=\"a_node4_32\"><a xlink:href=\"#\" xlink:title=\"StatementMutator\">\n",
       "<g id=\"a_node4_33\"><a xlink:href=\"#\" xlink:title=\"NODE_MAX_LENGTH = 20\">\n",
       "<text text-anchor=\"start\" x=\"177.5\" y=\"-391\" font-family=\"'Fira Mono', 'Source Code Pro', 'Courier', monospace\" font-size=\"10.00\" fill=\"#000000\">NODE_MAX_LENGTH</text>\n",
       "</a>\n",
       "</g>\n",
       "</a>\n",
       "</g>\n",
       "<polyline fill=\"none\" stroke=\"#000000\" points=\"151,-384.5 294,-384.5 \"/>\n",
       "<g id=\"a_node4_34\"><a xlink:href=\"#\" xlink:title=\"StatementMutator\">\n",
       "<g id=\"a_node4_35\"><a xlink:href=\"#\" xlink:title=\"__init__(self, suspiciousness_func=None, source=None, log=False):&#10;Constructor.&#10;`suspiciousness_func` is a function that takes a location&#10;(function, line_number) and returns a suspiciousness value&#10;between 0 and 1.0. If not given, all locations get the&#10;same suspiciousness of 1.0.&#10;`source` is a list of statements to choose from.\">\n",
       "<text text-anchor=\"start\" x=\"159.5\" y=\"-373\" font-family=\"'Fira Mono', 'Source Code Pro', 'Courier', monospace\" font-weight=\"bold\" font-style=\"italic\" font-size=\"10.00\" fill=\"#000000\">__init__()</text>\n",
       "</a>\n",
       "</g>\n",
       "<g id=\"a_node4_36\"><a xlink:href=\"#\" xlink:title=\"mutate(self, tree):&#10;Mutate the given AST `tree` in place. Return mutated tree.\">\n",
       "<text text-anchor=\"start\" x=\"159.5\" y=\"-362\" font-family=\"'Fira Mono', 'Source Code Pro', 'Courier', monospace\" font-weight=\"bold\" font-size=\"10.00\" fill=\"#000000\">mutate()</text>\n",
       "</a>\n",
       "</g>\n",
       "<g id=\"a_node4_37\"><a xlink:href=\"#\" xlink:title=\"choose_op(self)\">\n",
       "<text text-anchor=\"start\" x=\"159.5\" y=\"-350\" font-family=\"'Fira Mono', 'Source Code Pro', 'Courier', monospace\" font-size=\"10.00\" fill=\"#000000\">choose_op()</text>\n",
       "</a>\n",
       "</g>\n",
       "<g id=\"a_node4_38\"><a xlink:href=\"#\" xlink:title=\"choose_statement(self)\">\n",
       "<text text-anchor=\"start\" x=\"159.5\" y=\"-339\" font-family=\"'Fira Mono', 'Source Code Pro', 'Courier', monospace\" font-size=\"10.00\" fill=\"#000000\">choose_statement()</text>\n",
       "</a>\n",
       "</g>\n",
       "<g id=\"a_node4_39\"><a xlink:href=\"#\" xlink:title=\"delete(self, node):&#10;Delete `node`.\">\n",
       "<text text-anchor=\"start\" x=\"159.5\" y=\"-328\" font-family=\"'Fira Mono', 'Source Code Pro', 'Courier', monospace\" font-size=\"10.00\" fill=\"#000000\">delete()</text>\n",
       "</a>\n",
       "</g>\n",
       "<g id=\"a_node4_40\"><a xlink:href=\"#\" xlink:title=\"format_node(self, node):&#10;Return a string representation for `node`.\">\n",
       "<text text-anchor=\"start\" x=\"159.5\" y=\"-317\" font-family=\"'Fira Mono', 'Source Code Pro', 'Courier', monospace\" font-size=\"10.00\" fill=\"#000000\">format_node()</text>\n",
       "</a>\n",
       "</g>\n",
       "<g id=\"a_node4_41\"><a xlink:href=\"#\" xlink:title=\"insert(self, node):&#10;Insert a random node from `source` after `node`\">\n",
       "<text text-anchor=\"start\" x=\"159.5\" y=\"-306\" font-family=\"'Fira Mono', 'Source Code Pro', 'Courier', monospace\" font-size=\"10.00\" fill=\"#000000\">insert()</text>\n",
       "</a>\n",
       "</g>\n",
       "<g id=\"a_node4_42\"><a xlink:href=\"#\" xlink:title=\"node_suspiciousness(self, stmt, func_name)\">\n",
       "<text text-anchor=\"start\" x=\"159.5\" y=\"-295\" font-family=\"'Fira Mono', 'Source Code Pro', 'Courier', monospace\" font-size=\"10.00\" fill=\"#000000\">node_suspiciousness()</text>\n",
       "</a>\n",
       "</g>\n",
       "<g id=\"a_node4_43\"><a xlink:href=\"#\" xlink:title=\"node_to_be_mutated(self, tree)\">\n",
       "<text text-anchor=\"start\" x=\"159.5\" y=\"-284\" font-family=\"'Fira Mono', 'Source Code Pro', 'Courier', monospace\" font-size=\"10.00\" fill=\"#000000\">node_to_be_mutated()</text>\n",
       "</a>\n",
       "</g>\n",
       "<g id=\"a_node4_44\"><a xlink:href=\"#\" xlink:title=\"swap(self, node):&#10;Replace `node` with a random node from `source`\">\n",
       "<text text-anchor=\"start\" x=\"159.5\" y=\"-274\" font-family=\"'Fira Mono', 'Source Code Pro', 'Courier', monospace\" font-style=\"italic\" font-size=\"10.00\" fill=\"#000000\">swap()</text>\n",
       "</a>\n",
       "</g>\n",
       "<g id=\"a_node4_45\"><a xlink:href=\"#\" xlink:title=\"visit(self, node):&#10;Visit a node.\">\n",
       "<text text-anchor=\"start\" x=\"159.5\" y=\"-263\" font-family=\"'Fira Mono', 'Source Code Pro', 'Courier', monospace\" font-style=\"italic\" font-size=\"10.00\" fill=\"#000000\">visit()</text>\n",
       "</a>\n",
       "</g>\n",
       "</a>\n",
       "</g>\n",
       "</a>\n",
       "</g>\n",
       "</g>\n",
       "<!-- ConditionMutator&#45;&gt;StatementMutator -->\n",
       "<g id=\"edge2\" class=\"edge\">\n",
       "<title>ConditionMutator&#45;&gt;StatementMutator</title>\n",
       "<path fill=\"none\" stroke=\"#000000\" d=\"M222.5,-147.2097C222.5,-173.7969 222.5,-210.6665 222.5,-245.116\"/>\n",
       "<polygon fill=\"none\" stroke=\"#000000\" points=\"219.0001,-245.2348 222.5,-255.2348 226.0001,-245.2349 219.0001,-245.2348\"/>\n",
       "</g>\n",
       "<!-- NodeTransformer -->\n",
       "<g id=\"node5\" class=\"node\">\n",
       "<title>NodeTransformer</title>\n",
       "<g id=\"a_node5\"><a xlink:href=\"ast.ipynb\" xlink:title=\"class NodeTransformer:&#10;A :class:`NodeVisitor` subclass that walks the abstract syntax tree and&#10;allows modification of nodes.&#10;&#10;The `NodeTransformer` will walk the AST and use the return value of the&#10;visitor methods to replace or remove the old node. &#160;If the return value of&#10;the visitor method is ``None``, the node will be removed from its location,&#10;otherwise it is replaced with the return value. &#160;The return value may be the&#10;original node in which case no replacement takes place.&#10;&#10;Here is an example transformer that rewrites all occurrences of name lookups&#10;(``foo``) to ``data[&#39;foo&#39;]``::&#10;&#10;class RewriteName(NodeTransformer):&#10;&#10;def visit_Name(self, node):&#10;return copy_location(Subscript(&#10;value=Name(id=&#39;data&#39;, ctx=Load()),&#10;slice=Index(value=Str(s=node.id)),&#10;ctx=node.ctx&#10;), node)&#10;&#10;Keep in mind that if the node you&#39;re operating on has child nodes you must&#10;either transform the child nodes yourself or call the :meth:`generic_visit`&#10;method for the node first.&#10;&#10;For nodes that were part of a collection of statements (that applies to all&#10;statement nodes), the visitor may also return a list of nodes rather than&#10;just a single node.&#10;&#10;Usually you use the transformer like this::&#10;&#10;node = YourTransformer().visit(node)\">\n",
       "<polygon fill=\"none\" stroke=\"#000000\" points=\"156,-463.5 156,-505.5 289,-505.5 289,-463.5 156,-463.5\"/>\n",
       "<text text-anchor=\"start\" x=\"164\" y=\"-491.3\" font-family=\"Raleway, Helvetica, Arial, sans-serif\" font-weight=\"bold\" font-style=\"italic\" font-size=\"14.00\" fill=\"#6a0dad\">NodeTransformer</text>\n",
       "<polyline fill=\"none\" stroke=\"#000000\" points=\"156,-482.5 289,-482.5 \"/>\n",
       "<g id=\"a_node5_46\"><a xlink:href=\"#\" xlink:title=\"NodeTransformer\">\n",
       "<g id=\"a_node5_47\"><a xlink:href=\"ast.ipynb\" xlink:title=\"generic_visit(self, node):&#10;Called if no explicit visitor function exists for a node.\">\n",
       "<text text-anchor=\"start\" x=\"177.5\" y=\"-471\" font-family=\"'Fira Mono', 'Source Code Pro', 'Courier', monospace\" font-style=\"italic\" font-size=\"10.00\" fill=\"#000000\">generic_visit()</text>\n",
       "</a>\n",
       "</g>\n",
       "</a>\n",
       "</g>\n",
       "</a>\n",
       "</g>\n",
       "</g>\n",
       "<!-- StatementMutator&#45;&gt;NodeTransformer -->\n",
       "<g id=\"edge3\" class=\"edge\">\n",
       "<title>StatementMutator&#45;&gt;NodeTransformer</title>\n",
       "<path fill=\"none\" stroke=\"#000000\" d=\"M222.5,-426.5467C222.5,-436.062 222.5,-445.241 222.5,-453.3795\"/>\n",
       "<polygon fill=\"none\" stroke=\"#000000\" points=\"219.0001,-453.42 222.5,-463.42 226.0001,-453.4201 219.0001,-453.42\"/>\n",
       "</g>\n",
       "<!-- NodeVisitor -->\n",
       "<g id=\"node6\" class=\"node\">\n",
       "<title>NodeVisitor</title>\n",
       "<g id=\"a_node6\"><a xlink:href=\"ast.ipynb\" xlink:title=\"class NodeVisitor:&#10;A node visitor base class that walks the abstract syntax tree and calls a&#10;visitor function for every node found. &#160;This function may return a value&#10;which is forwarded by the `visit` method.&#10;&#10;This class is meant to be subclassed, with the subclass adding visitor&#10;methods.&#10;&#10;Per default the visitor functions for the nodes are ``&#39;visit_&#39;`` +&#10;class name of the node. &#160;So a `TryFinally` node visit function would&#10;be `visit_TryFinally`. &#160;This behavior can be changed by overriding&#10;the `visit` method. &#160;If no visitor function exists for a node&#10;(return value `None`) the `generic_visit` visitor is used instead.&#10;&#10;Don&#39;t use the `NodeVisitor` if you want to apply changes to nodes during&#10;traversing. &#160;For this a special visitor exists (`NodeTransformer`) that&#10;allows modifications.\">\n",
       "<polygon fill=\"none\" stroke=\"#000000\" points=\"169,-542.5 169,-595.5 276,-595.5 276,-542.5 169,-542.5\"/>\n",
       "<text text-anchor=\"start\" x=\"184\" y=\"-581.3\" font-family=\"Raleway, Helvetica, Arial, sans-serif\" font-weight=\"bold\" font-style=\"italic\" font-size=\"14.00\" fill=\"#6a0dad\">NodeVisitor</text>\n",
       "<polyline fill=\"none\" stroke=\"#000000\" points=\"169,-572.5 276,-572.5 \"/>\n",
       "<g id=\"a_node6_48\"><a xlink:href=\"#\" xlink:title=\"NodeVisitor\">\n",
       "<g id=\"a_node6_49\"><a xlink:href=\"ast.ipynb\" xlink:title=\"generic_visit(self, node):&#10;Called if no explicit visitor function exists for a node.\">\n",
       "<text text-anchor=\"start\" x=\"177.5\" y=\"-561.5\" font-family=\"'Fira Mono', 'Source Code Pro', 'Courier', monospace\" font-style=\"italic\" font-size=\"10.00\" fill=\"#000000\">generic_visit()</text>\n",
       "</a>\n",
       "</g>\n",
       "<g id=\"a_node6_50\"><a xlink:href=\"ast.ipynb\" xlink:title=\"visit(self, node):&#10;Visit a node.\">\n",
       "<text text-anchor=\"start\" x=\"177.5\" y=\"-550.5\" font-family=\"'Fira Mono', 'Source Code Pro', 'Courier', monospace\" font-style=\"italic\" font-size=\"10.00\" fill=\"#000000\">visit()</text>\n",
       "</a>\n",
       "</g>\n",
       "</a>\n",
       "</g>\n",
       "</a>\n",
       "</g>\n",
       "</g>\n",
       "<!-- NodeTransformer&#45;&gt;NodeVisitor -->\n",
       "<g id=\"edge4\" class=\"edge\">\n",
       "<title>NodeTransformer&#45;&gt;NodeVisitor</title>\n",
       "<path fill=\"none\" stroke=\"#000000\" d=\"M222.5,-505.8229C222.5,-513.7647 222.5,-523.0263 222.5,-531.9709\"/>\n",
       "<polygon fill=\"none\" stroke=\"#000000\" points=\"219.0001,-532.2274 222.5,-542.2274 226.0001,-532.2274 219.0001,-532.2274\"/>\n",
       "</g>\n",
       "<!-- CrossoverOperator -->\n",
       "<g id=\"node7\" class=\"node\">\n",
       "<title>CrossoverOperator</title>\n",
       "<g id=\"a_node7\"><a xlink:href=\"#\" xlink:title=\"class CrossoverOperator:&#10;A class for performing statement crossover of Python programs\">\n",
       "<polygon fill=\"none\" stroke=\"#000000\" points=\"308.5,-51.5 308.5,-167.5 452.5,-167.5 452.5,-51.5 308.5,-51.5\"/>\n",
       "<text text-anchor=\"start\" x=\"316.5\" y=\"-153.3\" font-family=\"Raleway, Helvetica, Arial, sans-serif\" font-weight=\"bold\" font-size=\"14.00\" fill=\"#6a0dad\">CrossoverOperator</text>\n",
       "<polyline fill=\"none\" stroke=\"#000000\" points=\"308.5,-144.5 452.5,-144.5 \"/>\n",
       "<g id=\"a_node7_51\"><a xlink:href=\"#\" xlink:title=\"CrossoverOperator\">\n",
       "<g id=\"a_node7_52\"><a xlink:href=\"#\" xlink:title=\"SKIP_LIST = {&lt;class &#39;_ast.Module&#39;&gt;, &lt;class &#39;_ast.ClassDef&#39;&gt;}\">\n",
       "<text text-anchor=\"start\" x=\"353.5\" y=\"-132\" font-family=\"'Fira Mono', 'Source Code Pro', 'Courier', monospace\" font-size=\"10.00\" fill=\"#000000\">SKIP_LIST</text>\n",
       "</a>\n",
       "</g>\n",
       "</a>\n",
       "</g>\n",
       "<polyline fill=\"none\" stroke=\"#000000\" points=\"308.5,-125.5 452.5,-125.5 \"/>\n",
       "<g id=\"a_node7_53\"><a xlink:href=\"#\" xlink:title=\"CrossoverOperator\">\n",
       "<g id=\"a_node7_54\"><a xlink:href=\"#\" xlink:title=\"__init__(self, log=False):&#10;Constructor. If `log` is set, turn on logging.\">\n",
       "<text text-anchor=\"start\" x=\"320.5\" y=\"-114.5\" font-family=\"'Fira Mono', 'Source Code Pro', 'Courier', monospace\" font-weight=\"bold\" font-size=\"10.00\" fill=\"#000000\">__init__()</text>\n",
       "</a>\n",
       "</g>\n",
       "<g id=\"a_node7_55\"><a xlink:href=\"#\" xlink:title=\"crossover(self, t1, t2):&#10;Do a crossover of ASTs `t1` and `t2`.&#10;Raises `CrossoverError` if no crossover is found.\">\n",
       "<text text-anchor=\"start\" x=\"320.5\" y=\"-103.5\" font-family=\"'Fira Mono', 'Source Code Pro', 'Courier', monospace\" font-weight=\"bold\" font-size=\"10.00\" fill=\"#000000\">crossover()</text>\n",
       "</a>\n",
       "</g>\n",
       "<g id=\"a_node7_56\"><a xlink:href=\"#\" xlink:title=\"can_cross(self, tree, body_attr=&#39;body&#39;)\">\n",
       "<text text-anchor=\"start\" x=\"320.5\" y=\"-91.5\" font-family=\"'Fira Mono', 'Source Code Pro', 'Courier', monospace\" font-size=\"10.00\" fill=\"#000000\">can_cross()</text>\n",
       "</a>\n",
       "</g>\n",
       "<g id=\"a_node7_57\"><a xlink:href=\"#\" xlink:title=\"cross_bodies(self, body_1, body_2):&#10;CrossoverOperator the statement lists `body_1` x `body_2`.&#10;Return new lists.\">\n",
       "<text text-anchor=\"start\" x=\"320.5\" y=\"-80.5\" font-family=\"'Fira Mono', 'Source Code Pro', 'Courier', monospace\" font-size=\"10.00\" fill=\"#000000\">cross_bodies()</text>\n",
       "</a>\n",
       "</g>\n",
       "<g id=\"a_node7_58\"><a xlink:href=\"#\" xlink:title=\"crossover_attr(self, t1, t2, body_attr):&#10;CrossoverOperator the bodies `body_attr` of two trees `t1` and `t2`.&#10;Return True if successful.\">\n",
       "<text text-anchor=\"start\" x=\"320.5\" y=\"-69.5\" font-family=\"'Fira Mono', 'Source Code Pro', 'Courier', monospace\" font-size=\"10.00\" fill=\"#000000\">crossover_attr()</text>\n",
       "</a>\n",
       "</g>\n",
       "<g id=\"a_node7_59\"><a xlink:href=\"#\" xlink:title=\"crossover_branches(self, t1, t2):&#10;Special case:&#10;`t1` = `if P: S1 else: S2` x `t2` = `if P&#39;: S1&#39; else: S2&#39;`&#10;becomes&#10;`t1` = `if P: S2&#39; else: S1&#39;` and `t2` = `if P&#39;: S2 else: S1`&#10;Returns True if successful.\">\n",
       "<text text-anchor=\"start\" x=\"320.5\" y=\"-58.5\" font-family=\"'Fira Mono', 'Source Code Pro', 'Courier', monospace\" font-size=\"10.00\" fill=\"#000000\">crossover_branches()</text>\n",
       "</a>\n",
       "</g>\n",
       "</a>\n",
       "</g>\n",
       "</a>\n",
       "</g>\n",
       "</g>\n",
       "<!-- Legend -->\n",
       "<g id=\"node8\" class=\"node\">\n",
       "<title>Legend</title>\n",
       "<text text-anchor=\"start\" x=\"470.5\" y=\"-127\" font-family=\"Raleway, Helvetica, Arial, sans-serif\" font-weight=\"bold\" font-size=\"10.00\" fill=\"#6a0dad\">Legend</text>\n",
       "<text text-anchor=\"start\" x=\"470.5\" y=\"-117\" font-family=\"Raleway, Helvetica, Arial, sans-serif\" font-size=\"10.00\" fill=\"#000000\">• </text>\n",
       "<text text-anchor=\"start\" x=\"477.5\" y=\"-117\" font-family=\"'Fira Mono', 'Source Code Pro', 'Courier', monospace\" font-weight=\"bold\" font-size=\"8.00\" fill=\"#000000\">public_method()</text>\n",
       "<text text-anchor=\"start\" x=\"470.5\" y=\"-107\" font-family=\"Raleway, Helvetica, Arial, sans-serif\" font-size=\"10.00\" fill=\"#000000\">• </text>\n",
       "<text text-anchor=\"start\" x=\"477.5\" y=\"-107\" font-family=\"'Fira Mono', 'Source Code Pro', 'Courier', monospace\" font-size=\"8.00\" fill=\"#000000\">private_method()</text>\n",
       "<text text-anchor=\"start\" x=\"470.5\" y=\"-97\" font-family=\"Raleway, Helvetica, Arial, sans-serif\" font-size=\"10.00\" fill=\"#000000\">• </text>\n",
       "<text text-anchor=\"start\" x=\"477.5\" y=\"-97\" font-family=\"'Fira Mono', 'Source Code Pro', 'Courier', monospace\" font-style=\"italic\" font-size=\"8.00\" fill=\"#000000\">overloaded_method()</text>\n",
       "<text text-anchor=\"start\" x=\"470.5\" y=\"-87.8\" font-family=\"Helvetica,sans-Serif\" font-size=\"9.00\" fill=\"#000000\">Hover over names to see doc</text>\n",
       "</g>\n",
       "</g>\n",
       "</svg>\n"
      ],
      "text/plain": [
       "<graphviz.dot.Digraph at 0x7ff921052438>"
      ]
     },
     "execution_count": 1,
     "metadata": {},
     "output_type": "execute_result"
    }
   ],
   "source": [
    "# ignore\n",
    "display_class_hierarchy([Repairer, ConditionMutator, CrossoverOperator],\n",
    "                        abstract_classes=[\n",
    "                            NodeVisitor,\n",
    "                            NodeTransformer\n",
    "                        ],\n",
    "                        public_methods=[\n",
    "                            Repairer.__init__,\n",
    "                            Repairer.repair,\n",
    "                            StatementMutator.__init__,\n",
    "                            StatementMutator.mutate,\n",
    "                            ConditionMutator.__init__,\n",
    "                            CrossoverOperator.__init__,\n",
    "                            CrossoverOperator.crossover,\n",
    "                        ],\n",
    "                        project='debuggingbook')"
   ]
  },
  {
   "cell_type": "markdown",
   "metadata": {
    "button": false,
    "new_sheet": true,
    "run_control": {
     "read_only": false
    },
    "slideshow": {
     "slide_type": "slide"
    }
   },
   "source": [
    "## Lessons Learned\n",
    "\n",
    "* Automated repair based on genetic optimization uses five ingredients:\n",
    "    1. A _test suite_ to determine passing and failing tests\n",
    "    2. _Defect localization_ (typically obtained from [statistical debugging](StatisticalDebugger.ipynb) with the test suite) to determine potential locations to be fixed\n",
    "    3. _Random code mutations_ and _crossover operations_ to create and evolve a population of inputs\n",
    "    4. A _fitness function_ and a _selection strategy_ to determine the part of the population that should be evolved further\n",
    "    5. A _reducer_ such as [delta debugging](DeltaDebugger.ipynb) to simplify the final candidate with the highest fitness.\n",
    "* The result of automated repair is a _fix candidate_ with the highest fitness for the given tests.\n",
    "* A _fix candidate_ is not guaranteed to be correct or optimal, but gives important hints on how to fix the program.\n",
    "* All of the above ingredients offer plenty of settings and alternatives to experiment with."
   ]
  },
  {
   "cell_type": "markdown",
   "metadata": {
    "slideshow": {
     "slide_type": "slide"
    }
   },
   "source": [
    "## Background\n",
    "\n",
    "The seminal work in automated repair is [GenProg](https://squareslab.github.io/genprog-code/) \\cite{LeGoues2012}, which heavily inspired our `Repairer` implementation. Major differences between GenProg and `Repairer` include:\n",
    "\n",
    "* GenProg includes its own defect localization (which is also dynamically updated), whereas `Repairer` builds on earlier statistical debugging.\n",
    "* GenProg can apply multiple mutations on programs (or none at all), whereas `Repairer` applies exactly one mutation.\n",
    "* The `StatementMutator` used by `Repairer` includes various special cases for program structures (`if`, `for`, `while`...), whereas GenProg operates on statements only.\n",
    "* GenProg has been tested on large production programs.\n",
    "\n",
    "While GenProg is _the_ seminal work in the area (and arguably the most important software engineering research contribution of the 2010s), there have been a number of important extensions of automated repair. These include:\n",
    "\n",
    "* *AutoFix* \\cite{Pei2014} leverages _program contracts_ (pre- and postconditions) to generate tests and assertions automatically. Not only do such [assertions](Assertions.ipynb) help in fault localization, they also allow for much better validation of fix candidates.\n",
    "* *SemFix* \\cite{Nguyen2013} presents automated program repair based on _symbolic analysis_ rather than genetic optimization. This allows to leverage program semantics, which GenProg does not consider.\n",
    "\n",
    "To learn more about automated program repair, see [program-repair.org](http://program-repair.org), the community page dedicated to research in program repair."
   ]
  },
  {
   "cell_type": "markdown",
   "metadata": {
    "button": false,
    "new_sheet": true,
    "run_control": {
     "read_only": false
    },
    "slideshow": {
     "slide_type": "slide"
    }
   },
   "source": [
    "## Exercises"
   ]
  },
  {
   "cell_type": "markdown",
   "metadata": {
    "button": false,
    "new_sheet": false,
    "run_control": {
     "read_only": false
    },
    "slideshow": {
     "slide_type": "subslide"
    }
   },
   "source": [
    "### Exercise 1: Automated Repair Parameters\n",
    "\n",
    "Automated Repair is influenced by a large number of design choices – the size of the population, the number of iterations, the genetic optimization strategy, and more. How do changes to these design choices affect its effectiveness? \n",
    "\n",
    "* Consider the constants defined in this chapter (such as `POPULATION_SIZE` or `WEIGHT_PASSING` vs. `WEIGHT_FAILING`). How do changes affect the effectiveness of automated repair?\n",
    "* As an effectiveness metric, consider the number of iterations it takes to produce a fix candidate.\n",
    "* Since genetic optimization is a random algorithm, you need to determine effectiveness averages over a large number of runs (say, 100)."
   ]
  },
  {
   "cell_type": "markdown",
   "metadata": {
    "button": false,
    "new_sheet": false,
    "run_control": {
     "read_only": false
    },
    "slideshow": {
     "slide_type": "subslide"
    },
    "solution": "hidden",
    "solution2": "hidden",
    "solution2_first": true,
    "solution_first": true
   },
   "source": [
    "### Exercise 2: Elitism\n",
    "\n",
    "[_Elitism_](https://en.wikipedia.org/wiki/Genetic_algorithm#Elitism) (also known as _elitist selection_) is a variant of genetic selection in which a small fraction of the fittest candidates of the last population are included unchanged in the offspring.\n",
    "\n",
    "* Implement elitist selection by subclassing the `evolve()` method. Experiment with various fractions (5%, 10%, 25%) of \"elites\" and see how this improves results."
   ]
  },
  {
   "cell_type": "markdown",
   "metadata": {
    "button": false,
    "new_sheet": false,
    "run_control": {
     "read_only": false
    },
    "slideshow": {
     "slide_type": "subslide"
    },
    "solution": "hidden",
    "solution2": "hidden",
    "solution2_first": true,
    "solution_first": true
   },
   "source": [
    "### Exercise 3: Evolving Values\n",
    "\n",
    "Following the steps of `ConditionMutator`, implement a `ValueMutator` class that replaces one constant value by another one found in the source (say, `0` by `1` or `True` by `False`).\n",
    "\n",
    "For validation, consider the following failure in the `square_root()` function from [the chapter on assertions](Assertions.ipynb):"
   ]
  },
  {
   "cell_type": "code",
   "execution_count": 197,
   "metadata": {
    "execution": {
     "iopub.execute_input": "2021-02-28T15:45:13.992550Z",
     "iopub.status.busy": "2021-02-28T15:45:13.991848Z",
     "iopub.status.idle": "2021-02-28T15:45:13.993838Z",
     "shell.execute_reply": "2021-02-28T15:45:13.994300Z"
    },
    "slideshow": {
     "slide_type": "skip"
    }
   },
   "outputs": [],
   "source": [
    "from Assertions import square_root  # minor dependency"
   ]
  },
  {
   "cell_type": "code",
   "execution_count": 198,
   "metadata": {
    "execution": {
     "iopub.execute_input": "2021-02-28T15:45:13.998207Z",
     "iopub.status.busy": "2021-02-28T15:45:13.997648Z",
     "iopub.status.idle": "2021-02-28T15:45:13.999706Z",
     "shell.execute_reply": "2021-02-28T15:45:14.000142Z"
    },
    "slideshow": {
     "slide_type": "subslide"
    }
   },
   "outputs": [
    {
     "name": "stderr",
     "output_type": "stream",
     "text": [
      "Traceback (most recent call last):\n",
      "  File \"<ipython-input-1-751aff5e3a1c>\", line 2, in <module>\n",
      "    square_root_of_zero = square_root(0)\n",
      "  File \"Assertions.ipynb\", line 61, in square_root\n",
      "    guess = (approx + x / approx) / 2\n",
      "ZeroDivisionError: float division by zero (expected)\n"
     ]
    }
   ],
   "source": [
    "with ExpectError():\n",
    "    square_root_of_zero = square_root(0)"
   ]
  },
  {
   "cell_type": "markdown",
   "metadata": {
    "slideshow": {
     "slide_type": "fragment"
    },
    "solution2": "hidden",
    "solution2_first": true
   },
   "source": [
    "Can your `ValueMutator` automatically fix this failure?"
   ]
  },
  {
   "cell_type": "markdown",
   "metadata": {
    "slideshow": {
     "slide_type": "skip"
    },
    "solution2": "hidden"
   },
   "source": [
    "**Solution.** Your solution will be effective if it also includes named constants such as `None`."
   ]
  },
  {
   "cell_type": "code",
   "execution_count": 199,
   "metadata": {
    "execution": {
     "iopub.execute_input": "2021-02-28T15:45:14.005468Z",
     "iopub.status.busy": "2021-02-28T15:45:14.004411Z",
     "iopub.status.idle": "2021-02-28T15:45:14.007106Z",
     "shell.execute_reply": "2021-02-28T15:45:14.007616Z"
    },
    "slideshow": {
     "slide_type": "skip"
    },
    "solution2": "hidden"
   },
   "outputs": [],
   "source": [
    "import math"
   ]
  },
  {
   "cell_type": "code",
   "execution_count": 200,
   "metadata": {
    "execution": {
     "iopub.execute_input": "2021-02-28T15:45:14.013014Z",
     "iopub.status.busy": "2021-02-28T15:45:14.012257Z",
     "iopub.status.idle": "2021-02-28T15:45:14.014058Z",
     "shell.execute_reply": "2021-02-28T15:45:14.014665Z"
    },
    "slideshow": {
     "slide_type": "skip"
    },
    "solution2": "hidden"
   },
   "outputs": [],
   "source": [
    "def square_root_fixed(x):\n",
    "    assert x >= 0  # precondition\n",
    "\n",
    "    approx = 0  # <-- FIX: Change `None` to 0\n",
    "    guess = x / 2\n",
    "    while approx != guess:\n",
    "        approx = guess\n",
    "        guess = (approx + x / approx) / 2\n",
    "\n",
    "    assert math.isclose(approx * approx, x)\n",
    "    return approx"
   ]
  },
  {
   "cell_type": "code",
   "execution_count": 201,
   "metadata": {
    "execution": {
     "iopub.execute_input": "2021-02-28T15:45:14.018885Z",
     "iopub.status.busy": "2021-02-28T15:45:14.017982Z",
     "iopub.status.idle": "2021-02-28T15:45:14.021188Z",
     "shell.execute_reply": "2021-02-28T15:45:14.020820Z"
    },
    "slideshow": {
     "slide_type": "skip"
    },
    "solution2": "hidden"
   },
   "outputs": [
    {
     "data": {
      "text/plain": [
       "0"
      ]
     },
     "execution_count": 1,
     "metadata": {},
     "output_type": "execute_result"
    }
   ],
   "source": [
    "square_root_fixed(0)"
   ]
  },
  {
   "cell_type": "markdown",
   "metadata": {
    "button": false,
    "new_sheet": false,
    "run_control": {
     "read_only": false
    },
    "slideshow": {
     "slide_type": "subslide"
    },
    "solution": "hidden",
    "solution2": "hidden",
    "solution2_first": true,
    "solution_first": true
   },
   "source": [
    "### Exercise 4: Evolving Variable Names\n",
    "\n",
    "Following the steps of `ConditionMutator`, implement a `IdentifierMutator` class that replaces one identifier by another one found in the source (say, `y` by `x`). Does it help fixing the `middle()` error?"
   ]
  },
  {
   "cell_type": "markdown",
   "metadata": {
    "button": false,
    "new_sheet": false,
    "run_control": {
     "read_only": false
    },
    "slideshow": {
     "slide_type": "subslide"
    },
    "solution": "hidden",
    "solution2": "hidden",
    "solution2_first": true,
    "solution_first": true
   },
   "source": [
    "### Exercise 5: Parallel Repair\n",
    "\n",
    "Automatic Repair is a technique that is embarrassingly parallel – all tests for one candidate can all be run in parallel, and all tests for _all_ candidates can also be run in parallel. Set up an infrastructure for running concurrent tests using Pythons [asyncio](https://docs.python.org/3/library/asyncio.html) library."
   ]
  }
 ],
 "metadata": {
  "ipub": {
   "bibliography": "fuzzingbook.bib",
   "toc": true
  },
  "kernelspec": {
   "display_name": "Python 3",
   "language": "python",
   "name": "python3"
  },
  "language_info": {
   "codemirror_mode": {
    "name": "ipython",
    "version": 3
   },
   "file_extension": ".py",
   "mimetype": "text/x-python",
   "name": "python",
   "nbconvert_exporter": "python",
   "pygments_lexer": "ipython3",
   "version": "3.6.10"
  },
  "toc": {
   "base_numbering": 1,
   "nav_menu": {},
   "number_sections": true,
   "sideBar": true,
   "skip_h1_title": true,
   "title_cell": "",
   "title_sidebar": "Contents",
   "toc_cell": false,
   "toc_position": {},
   "toc_section_display": true,
   "toc_window_display": true
  },
  "toc-autonumbering": false
 },
 "nbformat": 4,
 "nbformat_minor": 4
}