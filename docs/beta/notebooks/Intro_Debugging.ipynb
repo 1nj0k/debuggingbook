{
 "cells": [
  {
   "cell_type": "markdown",
   "metadata": {
    "button": false,
    "new_sheet": false,
    "run_control": {
     "read_only": false
    },
    "slideshow": {
     "slide_type": "slide"
    }
   },
   "source": [
    "# Introduction to Debugging\n",
    "\n",
    "In this book, we want to explore _debugging_ - the art and science of fixing bugs in computer software. In particular, we want to explore techniques that _automatically_ answer questions like: Where is the bug? When does it occur? And how can we repair it? But before we start automating the debugging process, we first need to understand what this process is.\n",
    "\n",
    "In this chapter, we introduce basic concepts of systematic software debugging and the debugging process, and at the same time get acquainted with Python and interactive notebooks."
   ]
  },
  {
   "cell_type": "markdown",
   "metadata": {
    "button": false,
    "new_sheet": false,
    "run_control": {
     "read_only": false
    },
    "slideshow": {
     "slide_type": "subslide"
    }
   },
   "source": [
    "**Prerequisites**\n",
    "\n",
    "* The book is meant to be a standalone reference; however, a number of _great books on debugging_ are listed at the end,\n",
    "* Knowing a bit of _Python_ is helpful for understanding the code examples in the book."
   ]
  },
  {
   "cell_type": "code",
   "execution_count": 1,
   "metadata": {
    "slideshow": {
     "slide_type": "skip"
    }
   },
   "outputs": [],
   "source": [
    "import bookutils"
   ]
  },
  {
   "cell_type": "code",
   "execution_count": 2,
   "metadata": {
    "slideshow": {
     "slide_type": "skip"
    }
   },
   "outputs": [],
   "source": [
    "from bookutils import quiz"
   ]
  },
  {
   "cell_type": "markdown",
   "metadata": {
    "slideshow": {
     "slide_type": "skip"
    }
   },
   "source": [
    "## Synopsis\n",
    "<!-- Automatically generated. Do not edit. -->\n",
    "\n",
    "To [use the code provided in this chapter](Importing.ipynb), write\n",
    "\n",
    "```python\n",
    ">>> from debuggingbook.Intro_Debugging import <identifier>\n",
    "```\n",
    "\n",
    "and then make use of the following features.\n",
    "\n",
    "\n",
    "_For those only interested in using the code in this chapter (without wanting to know how it works), give an example.  This will be copied to the beginning of the chapter (before the first section) as text with rendered input and output._\n",
    "\n"
   ]
  },
  {
   "cell_type": "markdown",
   "metadata": {
    "button": false,
    "new_sheet": true,
    "run_control": {
     "read_only": false
    },
    "slideshow": {
     "slide_type": "slide"
    },
    "toc-hr-collapsed": true
   },
   "source": [
    "## A Simple Function\n",
    "\n",
    "### Your Task: Remove HTML Markup\n",
    "\n",
    "Let us start with a simple example. You may have heard of how documents on the Web are made out of text and HTML markup. HTML markup consists of _tags_ in angle brackets that surround the text, providing additional information on how the text should be interpreted. For instance, in the HTML text\n",
    "\n",
    "```html\n",
    "This is <em>emphasized</em>.\n",
    "```\n",
    "\n",
    "the word \"emphasized\" is enclosed in the HTML tags `<em>` (start) and `</em>` (end), meaning that it should be interpreted (and rendered) in an emphasized way – typically in italics. In your environment, the HTML text gets rendered as\n",
    "\n",
    "> This is <em>emphasized</em>.\n",
    "\n",
    "There's HTML tags for pretty much everything – text markup (<strong>bold</strong> text, <s>strikethrough</s> text), text structure (titles, lists), references (links) to other documents, and many more. These HTML tags shape the Web as we know it."
   ]
  },
  {
   "cell_type": "markdown",
   "metadata": {
    "slideshow": {
     "slide_type": "subslide"
    }
   },
   "source": [
    "However, within all the HTML markup, it may become difficult to actually access the _text_ that lies within. We'd like to implement a simple function that removes _HTML markup_ and converts it into text. If our input is\n",
    "\n",
    "```html\n",
    "Here's some <strong>strong argument</strong>.\n",
    "```\n",
    "the output should be\n",
    "\n",
    "> Here's some strong argument."
   ]
  },
  {
   "cell_type": "markdown",
   "metadata": {
    "slideshow": {
     "slide_type": "fragment"
    }
   },
   "source": [
    "Here's a Python function which does exactly this. It takes a (HTML) string and returns the text without markup."
   ]
  },
  {
   "cell_type": "code",
   "execution_count": 3,
   "metadata": {
    "slideshow": {
     "slide_type": "subslide"
    }
   },
   "outputs": [],
   "source": [
    "def remove_html_markup(s):\n",
    "    tag   = False\n",
    "    out   = \"\"\n",
    "\n",
    "    for c in s:\n",
    "        if c == '<':   # start of markup\n",
    "            tag = True\n",
    "        elif c == '>': # end of markup\n",
    "            tag = False\n",
    "        elif not tag:\n",
    "            out = out + c\n",
    "    \n",
    "    return out"
   ]
  },
  {
   "cell_type": "markdown",
   "metadata": {
    "slideshow": {
     "slide_type": "fragment"
    }
   },
   "source": [
    "This function works, but not always. Before we start debugging things, let us first explore its code and how it works."
   ]
  },
  {
   "cell_type": "markdown",
   "metadata": {
    "slideshow": {
     "slide_type": "subslide"
    }
   },
   "source": [
    "### Understanding Python Programs\n",
    "\n",
    "If you're new to Python, you might first have to understand what the above code does.  We very much recommend the [Python tutorial](https://docs.python.org/3/tutorial/) to get an idea on how Python works.  The most important things for you to understand the above code are these three:\n",
    "\n",
    "1. Python structures programs through _indentation_, so the function and `for` bodies are defined by being indented;\n",
    "2. Python is _dynamically typed_, meaning that the type of variables like `x`, `approx`, or `guess` is determined at run-time.\n",
    "3. Most of Python's syntactic features are inspired by other common languages, such as control structures (`while`, `if`, `for`), assignments (`=`), or comparisons (`==`, `!=`, `<`).\n",
    "\n",
    "With that, you can already understand what the above code does: `remove_html_markup()` takes a (HTML) string `s` and then iterates over the individual characters (`for c in s`). By default, these characters are added to the return string `out`. However, if `remove_html_markup()` finds a `<` character, it sets the `tag` flag, meaning that all further characters are ignored until a `>` character is found.\n",
    "\n",
    "In contrast to other languages, Python makes no difference between strings and characters – there's only strings. As in HTML, strings can be enclosed in single quotes (`'a'`) and in double quotes (`\"a\"`). This is useful if you want to specify a string that contains quotes, as in `'She said \"hello\", and then left'` or `\"The first character is a 'c'\"`"
   ]
  },
  {
   "cell_type": "markdown",
   "metadata": {
    "slideshow": {
     "slide_type": "subslide"
    }
   },
   "source": [
    "### Running a Function\n",
    "\n",
    "To find out whether `remove_html_markup()` works correctly, we can *test* it with a few values.  For the string\n",
    "\n",
    "```html\n",
    "Here's some <strong>strong argument</strong>.\n",
    "```\n",
    "\n",
    "for instance, it produces the correct value:"
   ]
  },
  {
   "cell_type": "code",
   "execution_count": 4,
   "metadata": {
    "slideshow": {
     "slide_type": "fragment"
    }
   },
   "outputs": [
    {
     "data": {
      "text/plain": [
       "\"Here's some strong argument.\""
      ]
     },
     "execution_count": 4,
     "metadata": {},
     "output_type": "execute_result"
    }
   ],
   "source": [
    "remove_html_markup(\"Here's some <strong>strong argument</strong>.\")"
   ]
  },
  {
   "cell_type": "markdown",
   "metadata": {
    "slideshow": {
     "slide_type": "subslide"
    }
   },
   "source": [
    "### Interacting with Notebooks\n",
    "\n",
    "If you are reading this in the interactive notebook, you can try out `remove_html_markup()` with other values as well.  Click on the above cells with the invocation of `remove_html_markup()` and change the value – say, to `remove_html_markup(\"<em>foo</em>\")`.  Press `Shift+Enter` (or click on the play symbol) to execute it and see the result.  If you get an error message, go to the above cell with the definition of `remobve_html_markup()` and execute this first.  You can also run _all_ cells at once; see the Notebook menu for details.  (You can actually also change the text by clicking on it, and corect mistaks such as in this sentence.)"
   ]
  },
  {
   "cell_type": "markdown",
   "metadata": {
    "slideshow": {
     "slide_type": "subslide"
    }
   },
   "source": [
    "Executing a single cell does not execute other cells, so if your cell builds on a definition in another cell that you have not executed yet, you will get an error.  You can select `Run all cells above` from the menu to ensure all definitions are set."
   ]
  },
  {
   "cell_type": "markdown",
   "metadata": {
    "slideshow": {
     "slide_type": "fragment"
    }
   },
   "source": [
    "Also keep in mind that, unless overwritten, all definitions are kept across executions.  Occasionally, it thus helps to _restart the kernel_ (i.e. start the Python interpreter from scratch) to get rid of older, superfluous definitions."
   ]
  },
  {
   "cell_type": "markdown",
   "metadata": {
    "slideshow": {
     "slide_type": "subslide"
    },
    "toc-hr-collapsed": false
   },
   "source": [
    "### Testing a Function"
   ]
  },
  {
   "cell_type": "markdown",
   "metadata": {
    "slideshow": {
     "slide_type": "fragment"
    }
   },
   "source": [
    "Since one can change not only invocations, but also definitions, we want to ensure that our function works properly now and in the future. To this end, we introduce tests through _assertions_ – a statement that fails if the given _check_ is false. The following assertion, for instance, checks that the above call to `remove_html_markup()` returns the correct value:"
   ]
  },
  {
   "cell_type": "code",
   "execution_count": 5,
   "metadata": {
    "slideshow": {
     "slide_type": "fragment"
    }
   },
   "outputs": [],
   "source": [
    "assert remove_html_markup(\"Here's some <strong>strong argument</strong>.\") == \"Here's some strong argument.\""
   ]
  },
  {
   "cell_type": "markdown",
   "metadata": {
    "slideshow": {
     "slide_type": "fragment"
    }
   },
   "source": [
    "If you change the code of `remove_html_markup()` such that the above assertion fails, you will have introduced a bug."
   ]
  },
  {
   "cell_type": "markdown",
   "metadata": {
    "slideshow": {
     "slide_type": "slide"
    }
   },
   "source": [
    "## Oops! A Bug!"
   ]
  },
  {
   "cell_type": "markdown",
   "metadata": {
    "slideshow": {
     "slide_type": "fragment"
    }
   },
   "source": [
    "As nice and simple as `remove_html_markup()` is, it is buggy. Some HTML markup is not properly stripped away. Consider this HTML tag, which would render as an input field in a form:\n",
    "\n",
    "```html\n",
    "<input type=\"text\" value=\"<your name>\">\n",
    "```\n",
    "If we feed this string into `remove_html_markup()`, we would expect an empty string as the result. Instead, this is what we get:"
   ]
  },
  {
   "cell_type": "code",
   "execution_count": 6,
   "metadata": {
    "slideshow": {
     "slide_type": "fragment"
    }
   },
   "outputs": [
    {
     "data": {
      "text/plain": [
       "'\"'"
      ]
     },
     "execution_count": 6,
     "metadata": {},
     "output_type": "execute_result"
    }
   ],
   "source": [
    "remove_html_markup('<input type=\"text\" value=\"<your name>\">')"
   ]
  },
  {
   "cell_type": "markdown",
   "metadata": {
    "slideshow": {
     "slide_type": "subslide"
    }
   },
   "source": [
    "Every time we encounter a bug, this means that our earlier tests have failed. We thus need to introduce another test that documents not only how the bug came to be, but also the result we actually expected."
   ]
  },
  {
   "cell_type": "markdown",
   "metadata": {
    "slideshow": {
     "slide_type": "fragment"
    }
   },
   "source": [
    "The assertion we write now fails with an error message. (The `ExpectError` magic ensures we see the error message, but the rest of the notebook is still executed.)"
   ]
  },
  {
   "cell_type": "code",
   "execution_count": 7,
   "metadata": {
    "slideshow": {
     "slide_type": "skip"
    }
   },
   "outputs": [],
   "source": [
    "from ExpectError import ExpectError"
   ]
  },
  {
   "cell_type": "code",
   "execution_count": 8,
   "metadata": {
    "slideshow": {
     "slide_type": "fragment"
    }
   },
   "outputs": [
    {
     "name": "stderr",
     "output_type": "stream",
     "text": [
      "Traceback (most recent call last):\n",
      "  File \"<ipython-input-8-c7b482ebf524>\", line 2, in <module>\n",
      "    assert remove_html_markup('<input type=\"text\" value=\"<your name>\">') == \"\"\n",
      "AssertionError (expected)\n"
     ]
    }
   ],
   "source": [
    "with ExpectError():\n",
    "    assert remove_html_markup('<input type=\"text\" value=\"<your name>\">') == \"\""
   ]
  },
  {
   "cell_type": "markdown",
   "metadata": {
    "slideshow": {
     "slide_type": "fragment"
    }
   },
   "source": [
    "With this, we now have our task: _Fix the failure as above._"
   ]
  },
  {
   "cell_type": "markdown",
   "metadata": {
    "slideshow": {
     "slide_type": "slide"
    }
   },
   "source": [
    "## Visualizing Code\n",
    "\n",
    "To properly understand what is going on here, it helps drawing a diagram on how `remove_html_markup()` works. Technically, `remove_html_markup()` implements a _state machine_ with two states `tag` and `¬ tag`. We change between these states depending on the characters we process. This is visualized in the following diagram:"
   ]
  },
  {
   "cell_type": "code",
   "execution_count": 9,
   "metadata": {
    "ipub": {
     "ignore": true
    },
    "slideshow": {
     "slide_type": "skip"
    }
   },
   "outputs": [],
   "source": [
    "from graphviz import Digraph, nohtml"
   ]
  },
  {
   "cell_type": "code",
   "execution_count": 10,
   "metadata": {
    "ipub": {
     "ignore": true
    },
    "slideshow": {
     "slide_type": "skip"
    }
   },
   "outputs": [],
   "source": [
    "from IPython.display import display"
   ]
  },
  {
   "cell_type": "code",
   "execution_count": 11,
   "metadata": {
    "ipub": {
     "ignore": true
    },
    "slideshow": {
     "slide_type": "fragment"
    }
   },
   "outputs": [],
   "source": [
    "PASS = \"✔\"\n",
    "FAIL = \"✘\"\n",
    "\n",
    "PASS_COLOR = 'darkgreen'  # '#006400' # darkgreen\n",
    "FAIL_COLOR = 'red4'  # '#8B0000' # darkred\n",
    "\n",
    "STEP_COLOR = 'peachpuff'\n",
    "FONT_NAME = 'Raleway'"
   ]
  },
  {
   "cell_type": "code",
   "execution_count": 12,
   "metadata": {
    "ipub": {
     "ignore": true
    },
    "slideshow": {
     "slide_type": "subslide"
    }
   },
   "outputs": [],
   "source": [
    "def graph(comment=\"default\"):\n",
    "    return Digraph(comment=comment, graph_attr={'rankdir': 'LR'}, \n",
    "        node_attr={'style': 'filled', 'fillcolor': STEP_COLOR, 'fontname': FONT_NAME},\n",
    "        edge_attr={'fontname': FONT_NAME})"
   ]
  },
  {
   "cell_type": "code",
   "execution_count": 13,
   "metadata": {
    "ipub": {
     "ignore": true
    },
    "slideshow": {
     "slide_type": "fragment"
    }
   },
   "outputs": [],
   "source": [
    "state_machine = graph()\n",
    "state_machine.node('Start', )\n",
    "state_machine.edge('Start', '¬ tag')\n",
    "state_machine.edge('¬ tag', '¬ tag', label=\" ¬ '<'\\nadd character\")\n",
    "state_machine.edge('¬ tag', 'tag', label=\"'<'\")\n",
    "state_machine.edge('tag', '¬ tag', label=\"'>'\")\n",
    "state_machine.edge('tag', 'tag', label=\"¬ '>'\")"
   ]
  },
  {
   "cell_type": "code",
   "execution_count": 14,
   "metadata": {
    "slideshow": {
     "slide_type": "fragment"
    }
   },
   "outputs": [
    {
     "data": {
      "image/svg+xml": [
       "<?xml version=\"1.0\" encoding=\"UTF-8\" standalone=\"no\"?>\n",
       "<!DOCTYPE svg PUBLIC \"-//W3C//DTD SVG 1.1//EN\"\n",
       " \"http://www.w3.org/Graphics/SVG/1.1/DTD/svg11.dtd\">\n",
       "<!-- Generated by graphviz version 2.40.1 (20161225.0304)\n",
       " -->\n",
       "<!-- Title: %3 Pages: 1 -->\n",
       "<svg width=\"276pt\" height=\"94pt\"\n",
       " viewBox=\"0.00 0.00 276.39 94.13\" xmlns=\"http://www.w3.org/2000/svg\" xmlns:xlink=\"http://www.w3.org/1999/xlink\">\n",
       "<g id=\"graph0\" class=\"graph\" transform=\"scale(1 1) rotate(0) translate(4 90.1326)\">\n",
       "<title>%3</title>\n",
       "<polygon fill=\"#ffffff\" stroke=\"transparent\" points=\"-4,4 -4,-90.1326 272.3887,-90.1326 272.3887,4 -4,4\"/>\n",
       "<!-- Start -->\n",
       "<g id=\"node1\" class=\"node\">\n",
       "<title>Start</title>\n",
       "<ellipse fill=\"#ffdab9\" stroke=\"#000000\" cx=\"31.1972\" cy=\"-20.1326\" rx=\"31.3957\" ry=\"18\"/>\n",
       "<text text-anchor=\"middle\" x=\"31.1972\" y=\"-16.4326\" font-family=\"Raleway\" font-size=\"14.00\" fill=\"#000000\">Start</text>\n",
       "</g>\n",
       "<!-- ¬ tag -->\n",
       "<g id=\"node2\" class=\"node\">\n",
       "<title>¬ tag</title>\n",
       "<ellipse fill=\"#ffdab9\" stroke=\"#000000\" cx=\"131.8916\" cy=\"-20.1326\" rx=\"32.4942\" ry=\"18\"/>\n",
       "<text text-anchor=\"middle\" x=\"131.8916\" y=\"-16.4326\" font-family=\"Raleway\" font-size=\"14.00\" fill=\"#000000\">¬ tag</text>\n",
       "</g>\n",
       "<!-- Start&#45;&gt;¬ tag -->\n",
       "<g id=\"edge1\" class=\"edge\">\n",
       "<title>Start&#45;&gt;¬ tag</title>\n",
       "<path fill=\"none\" stroke=\"#000000\" d=\"M62.5056,-20.1326C70.8876,-20.1326 80.0953,-20.1326 88.9864,-20.1326\"/>\n",
       "<polygon fill=\"#000000\" stroke=\"#000000\" points=\"89.2099,-23.6327 99.2099,-20.1326 89.2098,-16.6327 89.2099,-23.6327\"/>\n",
       "</g>\n",
       "<!-- ¬ tag&#45;&gt;¬ tag -->\n",
       "<g id=\"edge2\" class=\"edge\">\n",
       "<title>¬ tag&#45;&gt;¬ tag</title>\n",
       "<path fill=\"none\" stroke=\"#000000\" d=\"M122.9652,-37.5425C121.2989,-47.2205 124.2744,-56.1326 131.8916,-56.1326 136.6523,-56.1326 139.5999,-52.6513 140.7343,-47.6775\"/>\n",
       "<polygon fill=\"#000000\" stroke=\"#000000\" points=\"144.2352,-47.5711 140.818,-37.5425 137.2354,-47.5132 144.2352,-47.5711\"/>\n",
       "<text text-anchor=\"middle\" x=\"131.8916\" y=\"-74.9326\" font-family=\"Raleway\" font-size=\"14.00\" fill=\"#000000\"> ¬ &#39;&lt;&#39;</text>\n",
       "<text text-anchor=\"middle\" x=\"131.8916\" y=\"-59.9326\" font-family=\"Raleway\" font-size=\"14.00\" fill=\"#000000\">add character</text>\n",
       "</g>\n",
       "<!-- tag -->\n",
       "<g id=\"node3\" class=\"node\">\n",
       "<title>tag</title>\n",
       "<ellipse fill=\"#ffdab9\" stroke=\"#000000\" cx=\"241.3887\" cy=\"-20.1326\" rx=\"27\" ry=\"18\"/>\n",
       "<text text-anchor=\"middle\" x=\"241.3887\" y=\"-16.4326\" font-family=\"Raleway\" font-size=\"14.00\" fill=\"#000000\">tag</text>\n",
       "</g>\n",
       "<!-- ¬ tag&#45;&gt;tag -->\n",
       "<g id=\"edge3\" class=\"edge\">\n",
       "<title>¬ tag&#45;&gt;tag</title>\n",
       "<path fill=\"none\" stroke=\"#000000\" d=\"M164.4479,-20.1326C176.859,-20.1326 191.1016,-20.1326 203.9322,-20.1326\"/>\n",
       "<polygon fill=\"#000000\" stroke=\"#000000\" points=\"204.3066,-23.6327 214.3066,-20.1326 204.3066,-16.6327 204.3066,-23.6327\"/>\n",
       "<text text-anchor=\"middle\" x=\"189.3887\" y=\"-23.9326\" font-family=\"Raleway\" font-size=\"14.00\" fill=\"#000000\">&#39;&lt;&#39;</text>\n",
       "</g>\n",
       "<!-- tag&#45;&gt;¬ tag -->\n",
       "<g id=\"edge4\" class=\"edge\">\n",
       "<title>tag&#45;&gt;¬ tag</title>\n",
       "<path fill=\"none\" stroke=\"#000000\" d=\"M219.9776,-9.0374C212.6909,-5.8238 204.3679,-2.748 196.3887,-1.1326 186.0059,.9695 174.8794,-.8064 164.8411,-3.975\"/>\n",
       "<polygon fill=\"#000000\" stroke=\"#000000\" points=\"163.4062,-.7736 155.2335,-7.5158 165.8269,-7.3418 163.4062,-.7736\"/>\n",
       "<text text-anchor=\"middle\" x=\"189.3887\" y=\"-4.9326\" font-family=\"Raleway\" font-size=\"14.00\" fill=\"#000000\">&#39;&gt;&#39;</text>\n",
       "</g>\n",
       "<!-- tag&#45;&gt;tag -->\n",
       "<g id=\"edge5\" class=\"edge\">\n",
       "<title>tag&#45;&gt;tag</title>\n",
       "<path fill=\"none\" stroke=\"#000000\" d=\"M232.1743,-37.1699C230.2938,-46.9905 233.3653,-56.1326 241.3887,-56.1326 246.4033,-56.1326 249.4836,-52.5614 250.6296,-47.4855\"/>\n",
       "<polygon fill=\"#000000\" stroke=\"#000000\" points=\"254.1288,-47.1608 250.6031,-37.1699 247.1289,-47.1789 254.1288,-47.1608\"/>\n",
       "<text text-anchor=\"middle\" x=\"241.3887\" y=\"-59.9326\" font-family=\"Raleway\" font-size=\"14.00\" fill=\"#000000\">¬ &#39;&gt;&#39;</text>\n",
       "</g>\n",
       "</g>\n",
       "</svg>\n"
      ],
      "text/plain": [
       "<graphviz.dot.Digraph at 0x7ff0610919b0>"
      ]
     },
     "metadata": {},
     "output_type": "display_data"
    }
   ],
   "source": [
    "# ignore\n",
    "display(state_machine)"
   ]
  },
  {
   "cell_type": "markdown",
   "metadata": {
    "slideshow": {
     "slide_type": "subslide"
    }
   },
   "source": [
    "You see that we start in the non-tag state (`¬ tag`). Here, for every character that is not `'<'`, we add the character and stay in the same state. When we read a `'<'`, though, we end in the tag state (`tag`) and stay in that state (skipping characters) until we find a closing `'>'` character."
   ]
  },
  {
   "cell_type": "markdown",
   "metadata": {
    "slideshow": {
     "slide_type": "slide"
    },
    "toc-hr-collapsed": true
   },
   "source": [
    "## A First Fix\n",
    "\n",
    "Let us now look at the above state machine, and process through our input:\n",
    "\n",
    "```html\n",
    "<input type=\"text\" value=\"<your name>\">\n",
    "```"
   ]
  },
  {
   "cell_type": "markdown",
   "metadata": {
    "slideshow": {
     "slide_type": "fragment"
    }
   },
   "source": [
    "So what you can see is: We are interpreting the `'>'` of `\"<your name>\"` as the closing of the tag. However, this is a quoted string, so the `'>'` should be interpreted as a regular character, not as markup. This is an example of _missing functionality:_ We do not handle quoted characters correctly. We haven't claimed yet to take care of all functionality, so we still need to extend our code."
   ]
  },
  {
   "cell_type": "markdown",
   "metadata": {
    "slideshow": {
     "slide_type": "subslide"
    }
   },
   "source": [
    "So we extend the whole thing.  We set up a special \"quote\" state which processes quoted inputs in tags until the end of the quoted string is reached. This is how the state machine looks like:"
   ]
  },
  {
   "cell_type": "code",
   "execution_count": 15,
   "metadata": {
    "ipub": {
     "ignore": true
    },
    "slideshow": {
     "slide_type": "fragment"
    }
   },
   "outputs": [],
   "source": [
    "state_machine = graph()\n",
    "state_machine.node('Start')\n",
    "state_machine.edge('Start', '¬ quote\\n¬ tag')\n",
    "state_machine.edge('¬ quote\\n¬ tag', '¬ quote\\n¬ tag', label=\"¬ '<'\\nadd character\")\n",
    "state_machine.edge('¬ quote\\n¬ tag', '¬ quote\\ntag', label=\"'<'\")\n",
    "state_machine.edge('¬ quote\\ntag', 'quote\\ntag', label=\"'\\\"'\")\n",
    "state_machine.edge('¬ quote\\ntag', '¬ quote\\ntag', label=\"¬ '\\\"' ∧ ¬ '>'\")\n",
    "state_machine.edge('quote\\ntag', 'quote\\ntag', label=\"¬ '\\\"'\")\n",
    "state_machine.edge('quote\\ntag', '¬ quote\\ntag', label=\"'\\\"'\")\n",
    "state_machine.edge('¬ quote\\ntag', '¬ quote\\n¬ tag', label=\"'>'\")"
   ]
  },
  {
   "cell_type": "code",
   "execution_count": 16,
   "metadata": {
    "slideshow": {
     "slide_type": "fragment"
    }
   },
   "outputs": [
    {
     "data": {
      "image/svg+xml": [
       "<?xml version=\"1.0\" encoding=\"UTF-8\" standalone=\"no\"?>\n",
       "<!DOCTYPE svg PUBLIC \"-//W3C//DTD SVG 1.1//EN\"\n",
       " \"http://www.w3.org/Graphics/SVG/1.1/DTD/svg11.dtd\">\n",
       "<!-- Generated by graphviz version 2.40.1 (20161225.0304)\n",
       " -->\n",
       "<!-- Title: %3 Pages: 1 -->\n",
       "<svg width=\"472pt\" height=\"110pt\"\n",
       " viewBox=\"0.00 0.00 471.68 109.74\" xmlns=\"http://www.w3.org/2000/svg\" xmlns:xlink=\"http://www.w3.org/1999/xlink\">\n",
       "<g id=\"graph0\" class=\"graph\" transform=\"scale(1 1) rotate(0) translate(4 105.7401)\">\n",
       "<title>%3</title>\n",
       "<polygon fill=\"#ffffff\" stroke=\"transparent\" points=\"-4,4 -4,-105.7401 467.6808,-105.7401 467.6808,4 -4,4\"/>\n",
       "<!-- Start -->\n",
       "<g id=\"node1\" class=\"node\">\n",
       "<title>Start</title>\n",
       "<ellipse fill=\"#ffdab9\" stroke=\"#000000\" cx=\"31.1972\" cy=\"-26.8701\" rx=\"31.3957\" ry=\"18\"/>\n",
       "<text text-anchor=\"middle\" x=\"31.1972\" y=\"-23.1701\" font-family=\"Raleway\" font-size=\"14.00\" fill=\"#000000\">Start</text>\n",
       "</g>\n",
       "<!-- ¬ quote\n",
       "¬ tag -->\n",
       "<g id=\"node2\" class=\"node\">\n",
       "<title>¬ quote\n",
       "¬ tag</title>\n",
       "<ellipse fill=\"#ffdab9\" stroke=\"#000000\" cx=\"146.7706\" cy=\"-26.8701\" rx=\"47.2526\" ry=\"26.7407\"/>\n",
       "<text text-anchor=\"middle\" x=\"146.7706\" y=\"-30.6701\" font-family=\"Raleway\" font-size=\"14.00\" fill=\"#000000\">¬ quote</text>\n",
       "<text text-anchor=\"middle\" x=\"146.7706\" y=\"-15.6701\" font-family=\"Raleway\" font-size=\"14.00\" fill=\"#000000\">¬ tag</text>\n",
       "</g>\n",
       "<!-- Start&#45;&gt;¬ quote\n",
       "¬ tag -->\n",
       "<g id=\"edge1\" class=\"edge\">\n",
       "<title>Start&#45;&gt;¬ quote\n",
       "¬ tag</title>\n",
       "<path fill=\"none\" stroke=\"#000000\" d=\"M62.4731,-26.8701C70.8189,-26.8701 80.1068,-26.8701 89.3809,-26.8701\"/>\n",
       "<polygon fill=\"#000000\" stroke=\"#000000\" points=\"89.3939,-30.3702 99.3938,-26.8701 89.3938,-23.3702 89.3939,-30.3702\"/>\n",
       "</g>\n",
       "<!-- ¬ quote\n",
       "¬ tag&#45;&gt;¬ quote\n",
       "¬ tag -->\n",
       "<g id=\"edge2\" class=\"edge\">\n",
       "<title>¬ quote\n",
       "¬ tag&#45;&gt;¬ quote\n",
       "¬ tag</title>\n",
       "<path fill=\"none\" stroke=\"#000000\" d=\"M134.8175,-53.1406C134.2862,-63.2978 138.2706,-71.7401 146.7706,-71.7401 152.2159,-71.7401 155.808,-68.2754 157.5469,-63.1146\"/>\n",
       "<polygon fill=\"#000000\" stroke=\"#000000\" points=\"161.0278,-63.4818 158.7237,-53.1406 154.076,-62.6615 161.0278,-63.4818\"/>\n",
       "<text text-anchor=\"middle\" x=\"146.7706\" y=\"-90.5401\" font-family=\"Raleway\" font-size=\"14.00\" fill=\"#000000\">¬ &#39;&lt;&#39;</text>\n",
       "<text text-anchor=\"middle\" x=\"146.7706\" y=\"-75.5401\" font-family=\"Raleway\" font-size=\"14.00\" fill=\"#000000\">add character</text>\n",
       "</g>\n",
       "<!-- ¬ quote\n",
       "tag -->\n",
       "<g id=\"node3\" class=\"node\">\n",
       "<title>¬ quote\n",
       "tag</title>\n",
       "<ellipse fill=\"#ffdab9\" stroke=\"#000000\" cx=\"291.5229\" cy=\"-26.8701\" rx=\"47.2526\" ry=\"26.7407\"/>\n",
       "<text text-anchor=\"middle\" x=\"291.5229\" y=\"-30.6701\" font-family=\"Raleway\" font-size=\"14.00\" fill=\"#000000\">¬ quote</text>\n",
       "<text text-anchor=\"middle\" x=\"291.5229\" y=\"-15.6701\" font-family=\"Raleway\" font-size=\"14.00\" fill=\"#000000\">tag</text>\n",
       "</g>\n",
       "<!-- ¬ quote\n",
       "¬ tag&#45;&gt;¬ quote\n",
       "tag -->\n",
       "<g id=\"edge3\" class=\"edge\">\n",
       "<title>¬ quote\n",
       "¬ tag&#45;&gt;¬ quote\n",
       "tag</title>\n",
       "<path fill=\"none\" stroke=\"#000000\" d=\"M194.1679,-26.8701C206.7897,-26.8701 220.5666,-26.8701 233.6797,-26.8701\"/>\n",
       "<polygon fill=\"#000000\" stroke=\"#000000\" points=\"234.0192,-30.3702 244.0191,-26.8701 234.0191,-23.3702 234.0192,-30.3702\"/>\n",
       "<text text-anchor=\"middle\" x=\"219.1468\" y=\"-30.6701\" font-family=\"Raleway\" font-size=\"14.00\" fill=\"#000000\">&#39;&lt;&#39;</text>\n",
       "</g>\n",
       "<!-- ¬ quote\n",
       "tag&#45;&gt;¬ quote\n",
       "¬ tag -->\n",
       "<g id=\"edge8\" class=\"edge\">\n",
       "<title>¬ quote\n",
       "tag&#45;&gt;¬ quote\n",
       "¬ tag</title>\n",
       "<path fill=\"none\" stroke=\"#000000\" d=\"M252.2355,-11.4185C239.5382,-8.0557 225.3335,-5.9927 212.1468,-7.8701 207.3528,-8.5526 202.4188,-9.5032 197.5125,-10.6188\"/>\n",
       "<polygon fill=\"#000000\" stroke=\"#000000\" points=\"196.3902,-7.2914 187.5341,-13.1069 198.0839,-14.0834 196.3902,-7.2914\"/>\n",
       "<text text-anchor=\"middle\" x=\"219.1468\" y=\"-11.6701\" font-family=\"Raleway\" font-size=\"14.00\" fill=\"#000000\">&#39;&gt;&#39;</text>\n",
       "</g>\n",
       "<!-- ¬ quote\n",
       "tag&#45;&gt;¬ quote\n",
       "tag -->\n",
       "<g id=\"edge5\" class=\"edge\">\n",
       "<title>¬ quote\n",
       "tag&#45;&gt;¬ quote\n",
       "tag</title>\n",
       "<path fill=\"none\" stroke=\"#000000\" d=\"M278.4492,-53.1406C277.8681,-63.2978 282.2261,-71.7401 291.5229,-71.7401 297.4787,-71.7401 301.4076,-68.2754 303.3095,-63.1146\"/>\n",
       "<polygon fill=\"#000000\" stroke=\"#000000\" points=\"306.7879,-63.5063 304.5967,-53.1406 299.8455,-62.6103 306.7879,-63.5063\"/>\n",
       "<text text-anchor=\"middle\" x=\"291.5229\" y=\"-75.5401\" font-family=\"Raleway\" font-size=\"14.00\" fill=\"#000000\">¬ &#39;&quot;&#39; ∧ ¬ &#39;&gt;&#39;</text>\n",
       "</g>\n",
       "<!-- quote\n",
       "tag -->\n",
       "<g id=\"node4\" class=\"node\">\n",
       "<title>quote\n",
       "tag</title>\n",
       "<ellipse fill=\"#ffdab9\" stroke=\"#000000\" cx=\"424.79\" cy=\"-26.8701\" rx=\"38.7821\" ry=\"26.7407\"/>\n",
       "<text text-anchor=\"middle\" x=\"424.79\" y=\"-30.6701\" font-family=\"Raleway\" font-size=\"14.00\" fill=\"#000000\">quote</text>\n",
       "<text text-anchor=\"middle\" x=\"424.79\" y=\"-15.6701\" font-family=\"Raleway\" font-size=\"14.00\" fill=\"#000000\">tag</text>\n",
       "</g>\n",
       "<!-- ¬ quote\n",
       "tag&#45;&gt;quote\n",
       "tag -->\n",
       "<g id=\"edge4\" class=\"edge\">\n",
       "<title>¬ quote\n",
       "tag&#45;&gt;quote\n",
       "tag</title>\n",
       "<path fill=\"none\" stroke=\"#000000\" d=\"M339.259,-26.8701C351.0431,-26.8701 363.6869,-26.8701 375.5414,-26.8701\"/>\n",
       "<polygon fill=\"#000000\" stroke=\"#000000\" points=\"375.7144,-30.3702 385.7143,-26.8701 375.7143,-23.3702 375.7144,-30.3702\"/>\n",
       "<text text-anchor=\"middle\" x=\"362.3991\" y=\"-30.6701\" font-family=\"Raleway\" font-size=\"14.00\" fill=\"#000000\">&#39;&quot;&#39;</text>\n",
       "</g>\n",
       "<!-- quote\n",
       "tag&#45;&gt;¬ quote\n",
       "tag -->\n",
       "<g id=\"edge7\" class=\"edge\">\n",
       "<title>quote\n",
       "tag&#45;&gt;¬ quote\n",
       "tag</title>\n",
       "<path fill=\"none\" stroke=\"#000000\" d=\"M390.9446,-13.5899C383.4673,-11.2158 375.505,-9.1066 367.8991,-7.8701 358.787,-6.3887 349.1649,-7.0126 339.9366,-8.7338\"/>\n",
       "<polygon fill=\"#000000\" stroke=\"#000000\" points=\"339.0852,-5.3381 330.1202,-10.9844 340.6495,-12.1611 339.0852,-5.3381\"/>\n",
       "<text text-anchor=\"middle\" x=\"362.3991\" y=\"-11.6701\" font-family=\"Raleway\" font-size=\"14.00\" fill=\"#000000\">&#39;&quot;&#39;</text>\n",
       "</g>\n",
       "<!-- quote\n",
       "tag&#45;&gt;quote\n",
       "tag -->\n",
       "<g id=\"edge6\" class=\"edge\">\n",
       "<title>quote\n",
       "tag&#45;&gt;quote\n",
       "tag</title>\n",
       "<path fill=\"none\" stroke=\"#000000\" d=\"M413.2359,-52.6914C412.5831,-63.0476 416.4345,-71.7401 424.79,-71.7401 430.1427,-71.7401 433.6469,-68.1727 435.3026,-62.8859\"/>\n",
       "<polygon fill=\"#000000\" stroke=\"#000000\" points=\"438.8096,-62.9953 436.344,-52.6914 431.8458,-62.2839 438.8096,-62.9953\"/>\n",
       "<text text-anchor=\"middle\" x=\"424.79\" y=\"-75.5401\" font-family=\"Raleway\" font-size=\"14.00\" fill=\"#000000\">¬ &#39;&quot;&#39;</text>\n",
       "</g>\n",
       "</g>\n",
       "</svg>\n"
      ],
      "text/plain": [
       "<graphviz.dot.Digraph at 0x7ff061091f98>"
      ]
     },
     "metadata": {},
     "output_type": "display_data"
    }
   ],
   "source": [
    "display(state_machine)"
   ]
  },
  {
   "cell_type": "markdown",
   "metadata": {
    "slideshow": {
     "slide_type": "subslide"
    }
   },
   "source": [
    "This is a bit more complex already. Proceeding from left to right, we first have the state `¬ quote ∧ ¬ tag`, which is our \"standard\" state for text. If we encounter a `'<'`, we again switch to the \"tagged\" state `¬ quote ∧ tag`. In this state, however (and only in this state), if we encounter a quotation mark, we switch to the \"quotation\" state `quote ∧ tag`, in which we remain until we see another quotation mark indicating the end of the string – and then continue in the \"tagged\" state `¬ quote ∧ tag` until we see the end of the string."
   ]
  },
  {
   "cell_type": "markdown",
   "metadata": {
    "slideshow": {
     "slide_type": "fragment"
    }
   },
   "source": [
    "Things get even more complicated as HTML allows both single and double quotation characters. Here's a revised implementation of `remove_html_markup()` that takes the above states into account:"
   ]
  },
  {
   "cell_type": "code",
   "execution_count": 17,
   "metadata": {
    "slideshow": {
     "slide_type": "subslide"
    }
   },
   "outputs": [],
   "source": [
    "def remove_html_markup(s):\n",
    "    tag   = False\n",
    "    quote = False\n",
    "    out   = \"\"\n",
    "\n",
    "    for c in s:\n",
    "        if c == '<' and not quote:\n",
    "            tag = True\n",
    "        elif c == '>' and not quote:\n",
    "            tag = False\n",
    "        elif c == '\"' or c == \"'\" and tag:\n",
    "            quote = not quote\n",
    "        elif not tag:\n",
    "            out = out + c\n",
    "    \n",
    "    return out"
   ]
  },
  {
   "cell_type": "markdown",
   "metadata": {
    "slideshow": {
     "slide_type": "subslide"
    }
   },
   "source": [
    "Now, our previous input works well:"
   ]
  },
  {
   "cell_type": "code",
   "execution_count": 18,
   "metadata": {
    "slideshow": {
     "slide_type": "fragment"
    }
   },
   "outputs": [
    {
     "data": {
      "text/plain": [
       "''"
      ]
     },
     "execution_count": 18,
     "metadata": {},
     "output_type": "execute_result"
    }
   ],
   "source": [
    "remove_html_markup('<input type=\"text\" value=\"<your name>\">')"
   ]
  },
  {
   "cell_type": "markdown",
   "metadata": {
    "slideshow": {
     "slide_type": "fragment"
    }
   },
   "source": [
    "and our earlier tests also pass:"
   ]
  },
  {
   "cell_type": "code",
   "execution_count": 19,
   "metadata": {
    "slideshow": {
     "slide_type": "fragment"
    }
   },
   "outputs": [],
   "source": [
    "assert remove_html_markup(\"Here's some <strong>strong argument</strong>.\") == \"Here's some strong argument.\""
   ]
  },
  {
   "cell_type": "code",
   "execution_count": 20,
   "metadata": {
    "slideshow": {
     "slide_type": "fragment"
    }
   },
   "outputs": [],
   "source": [
    "assert remove_html_markup('<input type=\"text\" value=\"<your name>\">') == \"\""
   ]
  },
  {
   "cell_type": "markdown",
   "metadata": {
    "slideshow": {
     "slide_type": "subslide"
    }
   },
   "source": [
    "However, the above code still has a bug.  In two of these inputs, HTML markup is still not properly stripped:\n",
    "\n",
    "```html\n",
    "<b>foo</b>\n",
    "<b>\"foo\"</b>\n",
    "\"<b>foo</b>\"\n",
    "<\"b\">foo</\"b\">\n",
    "```\n",
    "\n",
    "Can you guess which ones these are?"
   ]
  },
  {
   "cell_type": "markdown",
   "metadata": {
    "slideshow": {
     "slide_type": "fragment"
    }
   },
   "source": [
    "Again, a simple assertion will reveal the culprits:"
   ]
  },
  {
   "cell_type": "code",
   "execution_count": 21,
   "metadata": {
    "slideshow": {
     "slide_type": "subslide"
    }
   },
   "outputs": [],
   "source": [
    "with ExpectError():\n",
    "    assert remove_html_markup('<b>foo</b>') == 'foo'"
   ]
  },
  {
   "cell_type": "code",
   "execution_count": 22,
   "metadata": {
    "slideshow": {
     "slide_type": "fragment"
    }
   },
   "outputs": [
    {
     "name": "stderr",
     "output_type": "stream",
     "text": [
      "Traceback (most recent call last):\n",
      "  File \"<ipython-input-22-ebb80f5cdc78>\", line 2, in <module>\n",
      "    assert remove_html_markup('<b>\"foo\"</b>') == '\"foo\"'\n",
      "AssertionError (expected)\n"
     ]
    }
   ],
   "source": [
    "with ExpectError():\n",
    "    assert remove_html_markup('<b>\"foo\"</b>') == '\"foo\"'"
   ]
  },
  {
   "cell_type": "code",
   "execution_count": 23,
   "metadata": {
    "slideshow": {
     "slide_type": "subslide"
    }
   },
   "outputs": [
    {
     "name": "stderr",
     "output_type": "stream",
     "text": [
      "Traceback (most recent call last):\n",
      "  File \"<ipython-input-23-1f9c40f6f95d>\", line 2, in <module>\n",
      "    assert remove_html_markup('\"<b>foo</b>\"') == '\"foo\"'\n",
      "AssertionError (expected)\n"
     ]
    }
   ],
   "source": [
    "with ExpectError():\n",
    "    assert remove_html_markup('\"<b>foo</b>\"') == '\"foo\"'"
   ]
  },
  {
   "cell_type": "code",
   "execution_count": 24,
   "metadata": {
    "slideshow": {
     "slide_type": "fragment"
    }
   },
   "outputs": [],
   "source": [
    "with ExpectError():\n",
    "    assert remove_html_markup('<\"b\">foo</\"b\">') == 'foo'    "
   ]
  },
  {
   "cell_type": "markdown",
   "metadata": {
    "slideshow": {
     "slide_type": "fragment"
    }
   },
   "source": [
    "So, unfortunately, we're not done yet – our function still has errors."
   ]
  },
  {
   "cell_type": "markdown",
   "metadata": {
    "slideshow": {
     "slide_type": "slide"
    },
    "toc-hr-collapsed": true
   },
   "source": [
    "## The Devil's Guide to Debugging\n",
    "\n",
    "Let us now discuss a couple of methods that do _not_ work well for debugging. (These \"devil's suggestions\" are adapted from the 1993 book \"Code Complete\" from Steve McConnell.)"
   ]
  },
  {
   "cell_type": "markdown",
   "metadata": {
    "slideshow": {
     "slide_type": "subslide"
    }
   },
   "source": [
    "### Printf Debugging\n",
    "\n",
    "When I was a student,  never got any formal training in debugging, so I had to figure this out for myself. What I learned was how to use _debugging output_; in Python, this would be the `print()` function. For instance, I would go and scatter `print()` calls everywhere:"
   ]
  },
  {
   "cell_type": "code",
   "execution_count": 25,
   "metadata": {
    "slideshow": {
     "slide_type": "subslide"
    }
   },
   "outputs": [],
   "source": [
    "def remove_html_markup_with_print(s):\n",
    "    tag   = False\n",
    "    quote = False\n",
    "    out   = \"\"\n",
    "\n",
    "    for c in s:\n",
    "        print(\"c =\", repr(c), \"tag =\", tag, \"quote =\", quote)\n",
    "\n",
    "        if c == '<' and not quote:\n",
    "            tag = True\n",
    "        elif c == '>' and not quote:\n",
    "            tag = False\n",
    "        elif c == '\"' or c == \"'\" and tag:\n",
    "            quote = not quote\n",
    "        elif not tag:\n",
    "            out = out + c\n",
    "    \n",
    "    return out"
   ]
  },
  {
   "cell_type": "markdown",
   "metadata": {
    "slideshow": {
     "slide_type": "subslide"
    }
   },
   "source": [
    "This way of inspecting executions is commonly called \"Printf debugging\", after the C `printf()` function. Then, running this would allow me to see what's going on in my code:"
   ]
  },
  {
   "cell_type": "code",
   "execution_count": 26,
   "metadata": {
    "slideshow": {
     "slide_type": "subslide"
    }
   },
   "outputs": [
    {
     "name": "stdout",
     "output_type": "stream",
     "text": [
      "c = '<' tag = False quote = False\n",
      "c = 'b' tag = True quote = False\n",
      "c = '>' tag = True quote = False\n",
      "c = '\"' tag = False quote = False\n",
      "c = 'f' tag = False quote = True\n",
      "c = 'o' tag = False quote = True\n",
      "c = 'o' tag = False quote = True\n",
      "c = '\"' tag = False quote = True\n",
      "c = '<' tag = False quote = False\n",
      "c = '/' tag = True quote = False\n",
      "c = 'b' tag = True quote = False\n",
      "c = '>' tag = True quote = False\n"
     ]
    },
    {
     "data": {
      "text/plain": [
       "'foo'"
      ]
     },
     "execution_count": 26,
     "metadata": {},
     "output_type": "execute_result"
    }
   ],
   "source": [
    "remove_html_markup_with_print('<b>\"foo\"</b>')"
   ]
  },
  {
   "cell_type": "markdown",
   "metadata": {
    "slideshow": {
     "slide_type": "subslide"
    }
   },
   "source": [
    "Yes, one sees what is going on – but this is horribly inefficient!  Think of a 1,000-character input – you'd have to go through 2,000 lines of logs.  It may help you, but it's a total time waster.  Plus, you have to enter these statements, remove them again... it's a maintenance nightmare."
   ]
  },
  {
   "cell_type": "markdown",
   "metadata": {
    "slideshow": {
     "slide_type": "fragment"
    }
   },
   "source": [
    "(You may even forget printf's in your code, creating a security problem: Mac OS X versions 10.7 to 10.7.3 would log the password in clear because someone had forgotten to turn off debugging output.)"
   ]
  },
  {
   "cell_type": "markdown",
   "metadata": {
    "slideshow": {
     "slide_type": "subslide"
    }
   },
   "source": [
    "### Debugging into Existence"
   ]
  },
  {
   "cell_type": "markdown",
   "metadata": {
    "slideshow": {
     "slide_type": "fragment"
    }
   },
   "source": [
    "I would also try to _debug the program into existence._  Just change things until they work.  Let me see: If I remove the conditions \"and not quote\" from the program, it would actually work again:"
   ]
  },
  {
   "cell_type": "code",
   "execution_count": 27,
   "metadata": {
    "slideshow": {
     "slide_type": "subslide"
    }
   },
   "outputs": [],
   "source": [
    "def remove_html_markup_without_quotes(s):\n",
    "    tag   = False\n",
    "    quote = False\n",
    "    out   = \"\"\n",
    "\n",
    "    for c in s:\n",
    "        if c == '<': # and not quote:\n",
    "            tag = True\n",
    "        elif c == '>': # and not quote:\n",
    "            tag = False\n",
    "        elif c == '\"' or c == \"'\" and tag:\n",
    "            quote = not quote\n",
    "        elif not tag:\n",
    "            out = out + c\n",
    "    \n",
    "    return out"
   ]
  },
  {
   "cell_type": "code",
   "execution_count": 28,
   "metadata": {
    "slideshow": {
     "slide_type": "subslide"
    }
   },
   "outputs": [],
   "source": [
    "assert remove_html_markup_without_quotes('<\"b\">foo</\"b\">') == 'foo'    "
   ]
  },
  {
   "cell_type": "markdown",
   "metadata": {
    "slideshow": {
     "slide_type": "fragment"
    }
   },
   "source": [
    "Cool! Unfortunately, the function still fails on the other input:"
   ]
  },
  {
   "cell_type": "code",
   "execution_count": 29,
   "metadata": {
    "slideshow": {
     "slide_type": "fragment"
    }
   },
   "outputs": [
    {
     "name": "stderr",
     "output_type": "stream",
     "text": [
      "Traceback (most recent call last):\n",
      "  File \"<ipython-input-29-1d8954a52bcf>\", line 2, in <module>\n",
      "    assert remove_html_markup_without_quotes('<b>\"foo\"</b>') == '\"foo\"'\n",
      "AssertionError (expected)\n"
     ]
    }
   ],
   "source": [
    "with ExpectError():\n",
    "    assert remove_html_markup_without_quotes('<b>\"foo\"</b>') == '\"foo\"'"
   ]
  },
  {
   "cell_type": "markdown",
   "metadata": {
    "slideshow": {
     "slide_type": "fragment"
    }
   },
   "source": [
    "So, maybe we can change things again, such that both work? And maybe the other tests we had earlier won't fail? Let's just continue to change things randomly again and again and again."
   ]
  },
  {
   "cell_type": "markdown",
   "metadata": {
    "slideshow": {
     "slide_type": "fragment"
    }
   },
   "source": [
    "Oh, and of course, I would never back up earlier versions such that I would be able to keep track of what has changed and when."
   ]
  },
  {
   "cell_type": "markdown",
   "metadata": {
    "slideshow": {
     "slide_type": "subslide"
    }
   },
   "source": [
    "### Use the Most Obvious Fix"
   ]
  },
  {
   "cell_type": "markdown",
   "metadata": {
    "slideshow": {
     "slide_type": "fragment"
    }
   },
   "source": [
    "My favorite: Use the most obvious fix.  This means that you're fixing the symptom, not the problem. In our case, this would be something like:"
   ]
  },
  {
   "cell_type": "code",
   "execution_count": 30,
   "metadata": {
    "slideshow": {
     "slide_type": "fragment"
    }
   },
   "outputs": [],
   "source": [
    "def remove_html_markup_fixed(s):\n",
    "    if s == '<b>\"foo\"</b>':\n",
    "        return '\"foo\"'\n",
    "    \n",
    "    ..."
   ]
  },
  {
   "cell_type": "markdown",
   "metadata": {
    "slideshow": {
     "slide_type": "fragment"
    }
   },
   "source": [
    "Miracle! Our earlier failing assertion now works! Now we can do the same for the other failing test, too, and we're done.\n",
    "(Rumor has it that some programmers use this technique to get their tests to pass...)"
   ]
  },
  {
   "cell_type": "markdown",
   "metadata": {
    "slideshow": {
     "slide_type": "subslide"
    }
   },
   "source": [
    "### Things to do Instead\n",
    "\n",
    "As with any devil's guide, you get an idea of how to do things by doing the _opposite._  What this means is:\n",
    "\n",
    "1. Understand the code\n",
    "2. Fix the problem, not the symptom\n",
    "3. Proceed systematically\n",
    "\n",
    "which is what we will apply for the rest of this chapter."
   ]
  },
  {
   "cell_type": "markdown",
   "metadata": {
    "slideshow": {
     "slide_type": "slide"
    }
   },
   "source": [
    "## From Defect to Failure – and Back Again\n",
    "\n",
    "To understand how to systematically debug a program, we first have to understand how failures come to be. The typical debugging situation looks like this. We have a program (execution), taking some input and producing some output. The output is in *error* (✘), meaning an unwanted and unintended deviation from what is correct, right, or true.\n",
    "The input, in contrast, is assumed to be correct (✔). (Otherwise, we wouldn't search for the bug in our program, but in whatever produced its input.)"
   ]
  },
  {
   "cell_type": "code",
   "execution_count": 31,
   "metadata": {
    "ipub": {
     "ignore": true
    },
    "slideshow": {
     "slide_type": "subslide"
    }
   },
   "outputs": [],
   "source": [
    "def execution_diagram(show_steps=True, variables=[], steps=3, error_step=666, until=666, fault_path=[]):\n",
    "    dot = graph()\n",
    "\n",
    "    dot.node('input', shape='none', fillcolor='white', label=f\"Input {PASS}\", fontcolor=PASS_COLOR)\n",
    "    last_outgoing_states = ['input']\n",
    "    \n",
    "    for step in range(1, min(steps + 1, until)):\n",
    "        \n",
    "        if step == error_step:\n",
    "            step_label=f'Step {step} {FAIL}'\n",
    "            step_color=FAIL_COLOR\n",
    "        else:\n",
    "            step_label=f'Step {step}'\n",
    "            step_color=None\n",
    "\n",
    "        if step >= error_step:\n",
    "            state_label=f'State {step} {FAIL}'\n",
    "            state_color=FAIL_COLOR\n",
    "        else:\n",
    "            state_label=f'State {step} {PASS}'\n",
    "            state_color=PASS_COLOR\n",
    "    \n",
    "        state_name = f's{step}'\n",
    "        outgoing_states = []\n",
    "        incoming_states = []\n",
    "\n",
    "        if not variables:\n",
    "            dot.node(name=state_name, label=state_label, shape='box', color=state_color, fontcolor=state_color)\n",
    "        else:\n",
    "            var_labels = []\n",
    "            for v in variables:\n",
    "                vpath = f's{step}:{v}'\n",
    "                if vpath in fault_path:\n",
    "                    var_label = f'<{v}>{v} ✘'\n",
    "                    outgoing_states.append(vpath)\n",
    "                    incoming_states.append(vpath)\n",
    "                else:\n",
    "                    var_label = f'<{v}>{v}'\n",
    "                var_labels.append(var_label)\n",
    "            record_string = \" | \".join(var_labels)\n",
    "            dot.node(name=state_name, shape='record', label=nohtml(record_string), color=state_color, fontcolor=state_color)\n",
    "            \n",
    "        if not outgoing_states:\n",
    "            outgoing_states = [state_name]\n",
    "        if not incoming_states:\n",
    "            incoming_states = [state_name]\n",
    "\n",
    "        for outgoing_state in last_outgoing_states:\n",
    "            for incoming_state in incoming_states:\n",
    "                if show_steps:\n",
    "                    dot.edge(outgoing_state, incoming_state, label=step_label, fontcolor=step_color)\n",
    "                else:\n",
    "                    dot.edge(outgoing_state, incoming_state)\n",
    "\n",
    "        last_outgoing_states = outgoing_states\n",
    "\n",
    "    if until > steps + 1:\n",
    "        # Show output\n",
    "        if error_step > steps:\n",
    "            dot.node('output', shape='none', fillcolor='white', label=f\"Output {PASS}\", fontcolor=PASS_COLOR)\n",
    "        else:\n",
    "            dot.node('output', shape='none', fillcolor='white', label=f\"Output {FAIL}\", fontcolor=FAIL_COLOR)\n",
    "\n",
    "        for outgoing_state in last_outgoing_states:\n",
    "            label = \"Execution\" if steps == 0 else None\n",
    "            dot.edge(outgoing_state, 'output', label=label)\n",
    "\n",
    "    display(dot)"
   ]
  },
  {
   "cell_type": "code",
   "execution_count": 32,
   "metadata": {
    "slideshow": {
     "slide_type": "subslide"
    }
   },
   "outputs": [
    {
     "data": {
      "image/svg+xml": [
       "<?xml version=\"1.0\" encoding=\"UTF-8\" standalone=\"no\"?>\n",
       "<!DOCTYPE svg PUBLIC \"-//W3C//DTD SVG 1.1//EN\"\n",
       " \"http://www.w3.org/Graphics/SVG/1.1/DTD/svg11.dtd\">\n",
       "<!-- Generated by graphviz version 2.40.1 (20161225.0304)\n",
       " -->\n",
       "<!-- Title: %3 Pages: 1 -->\n",
       "<svg width=\"244pt\" height=\"44pt\"\n",
       " viewBox=\"0.00 0.00 244.00 44.00\" xmlns=\"http://www.w3.org/2000/svg\" xmlns:xlink=\"http://www.w3.org/1999/xlink\">\n",
       "<g id=\"graph0\" class=\"graph\" transform=\"scale(1 1) rotate(0) translate(4 40)\">\n",
       "<title>%3</title>\n",
       "<polygon fill=\"#ffffff\" stroke=\"transparent\" points=\"-4,4 -4,-40 240,-40 240,4 -4,4\"/>\n",
       "<!-- input -->\n",
       "<g id=\"node1\" class=\"node\">\n",
       "<title>input</title>\n",
       "<polygon fill=\"#ffffff\" stroke=\"transparent\" points=\"62,-36 0,-36 0,0 62,0 62,-36\"/>\n",
       "<text text-anchor=\"middle\" x=\"31\" y=\"-14.3\" font-family=\"Raleway\" font-size=\"14.00\" fill=\"#006400\">Input ✔</text>\n",
       "</g>\n",
       "<!-- output -->\n",
       "<g id=\"node2\" class=\"node\">\n",
       "<title>output</title>\n",
       "<polygon fill=\"#ffffff\" stroke=\"transparent\" points=\"236,-36 163,-36 163,0 236,0 236,-36\"/>\n",
       "<text text-anchor=\"middle\" x=\"199.5\" y=\"-14.3\" font-family=\"Raleway\" font-size=\"14.00\" fill=\"#8b0000\">Output ✘</text>\n",
       "</g>\n",
       "<!-- input&#45;&gt;output -->\n",
       "<g id=\"edge1\" class=\"edge\">\n",
       "<title>input&#45;&gt;output</title>\n",
       "<path fill=\"none\" stroke=\"#000000\" d=\"M62.2987,-18C87.6431,-18 123.7388,-18 152.546,-18\"/>\n",
       "<polygon fill=\"#000000\" stroke=\"#000000\" points=\"152.796,-21.5001 162.796,-18 152.7959,-14.5001 152.796,-21.5001\"/>\n",
       "<text text-anchor=\"middle\" x=\"112.5\" y=\"-21.8\" font-family=\"Raleway\" font-size=\"14.00\" fill=\"#000000\">Execution</text>\n",
       "</g>\n",
       "</g>\n",
       "</svg>\n"
      ],
      "text/plain": [
       "<graphviz.dot.Digraph at 0x7ff061091c88>"
      ]
     },
     "metadata": {},
     "output_type": "display_data"
    }
   ],
   "source": [
    "# ignore\n",
    "execution_diagram(show_steps=False, steps=0, error_step=0)"
   ]
  },
  {
   "cell_type": "markdown",
   "metadata": {
    "slideshow": {
     "slide_type": "fragment"
    }
   },
   "source": [
    "This situation we see above is what we call a *failure*: An externally visible _error_ in the program behavior, with the error again being an unwanted and unintended deviation from what is correct, right, or true."
   ]
  },
  {
   "cell_type": "markdown",
   "metadata": {
    "slideshow": {
     "slide_type": "fragment"
    }
   },
   "source": [
    "How does this failure come to be? The execution we see above breaks down into several program _states_, one after the other."
   ]
  },
  {
   "cell_type": "code",
   "execution_count": 33,
   "metadata": {
    "slideshow": {
     "slide_type": "subslide"
    }
   },
   "outputs": [
    {
     "data": {
      "image/svg+xml": [
       "<?xml version=\"1.0\" encoding=\"UTF-8\" standalone=\"no\"?>\n",
       "<!DOCTYPE svg PUBLIC \"-//W3C//DTD SVG 1.1//EN\"\n",
       " \"http://www.w3.org/Graphics/SVG/1.1/DTD/svg11.dtd\">\n",
       "<!-- Generated by graphviz version 2.40.1 (20161225.0304)\n",
       " -->\n",
       "<!-- Title: %3 Pages: 1 -->\n",
       "<svg width=\"70pt\" height=\"44pt\"\n",
       " viewBox=\"0.00 0.00 70.00 44.00\" xmlns=\"http://www.w3.org/2000/svg\" xmlns:xlink=\"http://www.w3.org/1999/xlink\">\n",
       "<g id=\"graph0\" class=\"graph\" transform=\"scale(1 1) rotate(0) translate(4 40)\">\n",
       "<title>%3</title>\n",
       "<polygon fill=\"#ffffff\" stroke=\"transparent\" points=\"-4,4 -4,-40 66,-40 66,4 -4,4\"/>\n",
       "<!-- input -->\n",
       "<g id=\"node1\" class=\"node\">\n",
       "<title>input</title>\n",
       "<polygon fill=\"#ffffff\" stroke=\"transparent\" points=\"62,-36 0,-36 0,0 62,0 62,-36\"/>\n",
       "<text text-anchor=\"middle\" x=\"31\" y=\"-14.3\" font-family=\"Raleway\" font-size=\"14.00\" fill=\"#006400\">Input ✔</text>\n",
       "</g>\n",
       "</g>\n",
       "</svg>\n"
      ],
      "text/plain": [
       "<graphviz.dot.Digraph at 0x7ff061091b38>"
      ]
     },
     "metadata": {},
     "output_type": "display_data"
    },
    {
     "data": {
      "image/svg+xml": [
       "<?xml version=\"1.0\" encoding=\"UTF-8\" standalone=\"no\"?>\n",
       "<!DOCTYPE svg PUBLIC \"-//W3C//DTD SVG 1.1//EN\"\n",
       " \"http://www.w3.org/Graphics/SVG/1.1/DTD/svg11.dtd\">\n",
       "<!-- Generated by graphviz version 2.40.1 (20161225.0304)\n",
       " -->\n",
       "<!-- Title: %3 Pages: 1 -->\n",
       "<svg width=\"178pt\" height=\"44pt\"\n",
       " viewBox=\"0.00 0.00 178.00 44.00\" xmlns=\"http://www.w3.org/2000/svg\" xmlns:xlink=\"http://www.w3.org/1999/xlink\">\n",
       "<g id=\"graph0\" class=\"graph\" transform=\"scale(1 1) rotate(0) translate(4 40)\">\n",
       "<title>%3</title>\n",
       "<polygon fill=\"#ffffff\" stroke=\"transparent\" points=\"-4,4 -4,-40 174,-40 174,4 -4,4\"/>\n",
       "<!-- input -->\n",
       "<g id=\"node1\" class=\"node\">\n",
       "<title>input</title>\n",
       "<polygon fill=\"#ffffff\" stroke=\"transparent\" points=\"62,-36 0,-36 0,0 62,0 62,-36\"/>\n",
       "<text text-anchor=\"middle\" x=\"31\" y=\"-14.3\" font-family=\"Raleway\" font-size=\"14.00\" fill=\"#006400\">Input ✔</text>\n",
       "</g>\n",
       "<!-- s1 -->\n",
       "<g id=\"node2\" class=\"node\">\n",
       "<title>s1</title>\n",
       "<polygon fill=\"#ffdab9\" stroke=\"#006400\" points=\"170,-36 98,-36 98,0 170,0 170,-36\"/>\n",
       "<text text-anchor=\"middle\" x=\"134\" y=\"-14.3\" font-family=\"Raleway\" font-size=\"14.00\" fill=\"#006400\">State 1 ✔</text>\n",
       "</g>\n",
       "<!-- input&#45;&gt;s1 -->\n",
       "<g id=\"edge1\" class=\"edge\">\n",
       "<title>input&#45;&gt;s1</title>\n",
       "<path fill=\"none\" stroke=\"#000000\" d=\"M62.1829,-18C70.2688,-18 79.1505,-18 87.8282,-18\"/>\n",
       "<polygon fill=\"#000000\" stroke=\"#000000\" points=\"87.8615,-21.5001 97.8614,-18 87.8614,-14.5001 87.8615,-21.5001\"/>\n",
       "</g>\n",
       "</g>\n",
       "</svg>\n"
      ],
      "text/plain": [
       "<graphviz.dot.Digraph at 0x7ff060620b00>"
      ]
     },
     "metadata": {},
     "output_type": "display_data"
    },
    {
     "data": {
      "image/svg+xml": [
       "<?xml version=\"1.0\" encoding=\"UTF-8\" standalone=\"no\"?>\n",
       "<!DOCTYPE svg PUBLIC \"-//W3C//DTD SVG 1.1//EN\"\n",
       " \"http://www.w3.org/Graphics/SVG/1.1/DTD/svg11.dtd\">\n",
       "<!-- Generated by graphviz version 2.40.1 (20161225.0304)\n",
       " -->\n",
       "<!-- Title: %3 Pages: 1 -->\n",
       "<svg width=\"287pt\" height=\"44pt\"\n",
       " viewBox=\"0.00 0.00 287.00 44.00\" xmlns=\"http://www.w3.org/2000/svg\" xmlns:xlink=\"http://www.w3.org/1999/xlink\">\n",
       "<g id=\"graph0\" class=\"graph\" transform=\"scale(1 1) rotate(0) translate(4 40)\">\n",
       "<title>%3</title>\n",
       "<polygon fill=\"#ffffff\" stroke=\"transparent\" points=\"-4,4 -4,-40 283,-40 283,4 -4,4\"/>\n",
       "<!-- input -->\n",
       "<g id=\"node1\" class=\"node\">\n",
       "<title>input</title>\n",
       "<polygon fill=\"#ffffff\" stroke=\"transparent\" points=\"62,-36 0,-36 0,0 62,0 62,-36\"/>\n",
       "<text text-anchor=\"middle\" x=\"31\" y=\"-14.3\" font-family=\"Raleway\" font-size=\"14.00\" fill=\"#006400\">Input ✔</text>\n",
       "</g>\n",
       "<!-- s1 -->\n",
       "<g id=\"node2\" class=\"node\">\n",
       "<title>s1</title>\n",
       "<polygon fill=\"#ffdab9\" stroke=\"#006400\" points=\"170,-36 98,-36 98,0 170,0 170,-36\"/>\n",
       "<text text-anchor=\"middle\" x=\"134\" y=\"-14.3\" font-family=\"Raleway\" font-size=\"14.00\" fill=\"#006400\">State 1 ✔</text>\n",
       "</g>\n",
       "<!-- input&#45;&gt;s1 -->\n",
       "<g id=\"edge1\" class=\"edge\">\n",
       "<title>input&#45;&gt;s1</title>\n",
       "<path fill=\"none\" stroke=\"#000000\" d=\"M62.1829,-18C70.2688,-18 79.1505,-18 87.8282,-18\"/>\n",
       "<polygon fill=\"#000000\" stroke=\"#000000\" points=\"87.8615,-21.5001 97.8614,-18 87.8614,-14.5001 87.8615,-21.5001\"/>\n",
       "</g>\n",
       "<!-- s2 -->\n",
       "<g id=\"node3\" class=\"node\">\n",
       "<title>s2</title>\n",
       "<polygon fill=\"#ffdab9\" stroke=\"#8b0000\" points=\"279,-36 206,-36 206,0 279,0 279,-36\"/>\n",
       "<text text-anchor=\"middle\" x=\"242.5\" y=\"-14.3\" font-family=\"Raleway\" font-size=\"14.00\" fill=\"#8b0000\">State 2 ✘</text>\n",
       "</g>\n",
       "<!-- s1&#45;&gt;s2 -->\n",
       "<g id=\"edge2\" class=\"edge\">\n",
       "<title>s1&#45;&gt;s2</title>\n",
       "<path fill=\"none\" stroke=\"#000000\" d=\"M170.1289,-18C178.2806,-18 187.0491,-18 195.5719,-18\"/>\n",
       "<polygon fill=\"#000000\" stroke=\"#000000\" points=\"195.7882,-21.5001 205.7881,-18 195.7881,-14.5001 195.7882,-21.5001\"/>\n",
       "</g>\n",
       "</g>\n",
       "</svg>\n"
      ],
      "text/plain": [
       "<graphviz.dot.Digraph at 0x7ff060620b00>"
      ]
     },
     "metadata": {},
     "output_type": "display_data"
    },
    {
     "data": {
      "image/svg+xml": [
       "<?xml version=\"1.0\" encoding=\"UTF-8\" standalone=\"no\"?>\n",
       "<!DOCTYPE svg PUBLIC \"-//W3C//DTD SVG 1.1//EN\"\n",
       " \"http://www.w3.org/Graphics/SVG/1.1/DTD/svg11.dtd\">\n",
       "<!-- Generated by graphviz version 2.40.1 (20161225.0304)\n",
       " -->\n",
       "<!-- Title: %3 Pages: 1 -->\n",
       "<svg width=\"396pt\" height=\"44pt\"\n",
       " viewBox=\"0.00 0.00 396.00 44.00\" xmlns=\"http://www.w3.org/2000/svg\" xmlns:xlink=\"http://www.w3.org/1999/xlink\">\n",
       "<g id=\"graph0\" class=\"graph\" transform=\"scale(1 1) rotate(0) translate(4 40)\">\n",
       "<title>%3</title>\n",
       "<polygon fill=\"#ffffff\" stroke=\"transparent\" points=\"-4,4 -4,-40 392,-40 392,4 -4,4\"/>\n",
       "<!-- input -->\n",
       "<g id=\"node1\" class=\"node\">\n",
       "<title>input</title>\n",
       "<polygon fill=\"#ffffff\" stroke=\"transparent\" points=\"62,-36 0,-36 0,0 62,0 62,-36\"/>\n",
       "<text text-anchor=\"middle\" x=\"31\" y=\"-14.3\" font-family=\"Raleway\" font-size=\"14.00\" fill=\"#006400\">Input ✔</text>\n",
       "</g>\n",
       "<!-- s1 -->\n",
       "<g id=\"node2\" class=\"node\">\n",
       "<title>s1</title>\n",
       "<polygon fill=\"#ffdab9\" stroke=\"#006400\" points=\"170,-36 98,-36 98,0 170,0 170,-36\"/>\n",
       "<text text-anchor=\"middle\" x=\"134\" y=\"-14.3\" font-family=\"Raleway\" font-size=\"14.00\" fill=\"#006400\">State 1 ✔</text>\n",
       "</g>\n",
       "<!-- input&#45;&gt;s1 -->\n",
       "<g id=\"edge1\" class=\"edge\">\n",
       "<title>input&#45;&gt;s1</title>\n",
       "<path fill=\"none\" stroke=\"#000000\" d=\"M62.1829,-18C70.2688,-18 79.1505,-18 87.8282,-18\"/>\n",
       "<polygon fill=\"#000000\" stroke=\"#000000\" points=\"87.8615,-21.5001 97.8614,-18 87.8614,-14.5001 87.8615,-21.5001\"/>\n",
       "</g>\n",
       "<!-- s2 -->\n",
       "<g id=\"node3\" class=\"node\">\n",
       "<title>s2</title>\n",
       "<polygon fill=\"#ffdab9\" stroke=\"#8b0000\" points=\"279,-36 206,-36 206,0 279,0 279,-36\"/>\n",
       "<text text-anchor=\"middle\" x=\"242.5\" y=\"-14.3\" font-family=\"Raleway\" font-size=\"14.00\" fill=\"#8b0000\">State 2 ✘</text>\n",
       "</g>\n",
       "<!-- s1&#45;&gt;s2 -->\n",
       "<g id=\"edge2\" class=\"edge\">\n",
       "<title>s1&#45;&gt;s2</title>\n",
       "<path fill=\"none\" stroke=\"#000000\" d=\"M170.1289,-18C178.2806,-18 187.0491,-18 195.5719,-18\"/>\n",
       "<polygon fill=\"#000000\" stroke=\"#000000\" points=\"195.7882,-21.5001 205.7881,-18 195.7881,-14.5001 195.7882,-21.5001\"/>\n",
       "</g>\n",
       "<!-- s3 -->\n",
       "<g id=\"node4\" class=\"node\">\n",
       "<title>s3</title>\n",
       "<polygon fill=\"#ffdab9\" stroke=\"#8b0000\" points=\"388,-36 315,-36 315,0 388,0 388,-36\"/>\n",
       "<text text-anchor=\"middle\" x=\"351.5\" y=\"-14.3\" font-family=\"Raleway\" font-size=\"14.00\" fill=\"#8b0000\">State 3 ✘</text>\n",
       "</g>\n",
       "<!-- s2&#45;&gt;s3 -->\n",
       "<g id=\"edge3\" class=\"edge\">\n",
       "<title>s2&#45;&gt;s3</title>\n",
       "<path fill=\"none\" stroke=\"#000000\" d=\"M279.0986,-18C287.2769,-18 296.0602,-18 304.5905,-18\"/>\n",
       "<polygon fill=\"#000000\" stroke=\"#000000\" points=\"304.8124,-21.5001 314.8124,-18 304.8124,-14.5001 304.8124,-21.5001\"/>\n",
       "</g>\n",
       "</g>\n",
       "</svg>\n"
      ],
      "text/plain": [
       "<graphviz.dot.Digraph at 0x7ff061087c88>"
      ]
     },
     "metadata": {},
     "output_type": "display_data"
    },
    {
     "data": {
      "image/svg+xml": [
       "<?xml version=\"1.0\" encoding=\"UTF-8\" standalone=\"no\"?>\n",
       "<!DOCTYPE svg PUBLIC \"-//W3C//DTD SVG 1.1//EN\"\n",
       " \"http://www.w3.org/Graphics/SVG/1.1/DTD/svg11.dtd\">\n",
       "<!-- Generated by graphviz version 2.40.1 (20161225.0304)\n",
       " -->\n",
       "<!-- Title: %3 Pages: 1 -->\n",
       "<svg width=\"505pt\" height=\"44pt\"\n",
       " viewBox=\"0.00 0.00 505.00 44.00\" xmlns=\"http://www.w3.org/2000/svg\" xmlns:xlink=\"http://www.w3.org/1999/xlink\">\n",
       "<g id=\"graph0\" class=\"graph\" transform=\"scale(1 1) rotate(0) translate(4 40)\">\n",
       "<title>%3</title>\n",
       "<polygon fill=\"#ffffff\" stroke=\"transparent\" points=\"-4,4 -4,-40 501,-40 501,4 -4,4\"/>\n",
       "<!-- input -->\n",
       "<g id=\"node1\" class=\"node\">\n",
       "<title>input</title>\n",
       "<polygon fill=\"#ffffff\" stroke=\"transparent\" points=\"62,-36 0,-36 0,0 62,0 62,-36\"/>\n",
       "<text text-anchor=\"middle\" x=\"31\" y=\"-14.3\" font-family=\"Raleway\" font-size=\"14.00\" fill=\"#006400\">Input ✔</text>\n",
       "</g>\n",
       "<!-- s1 -->\n",
       "<g id=\"node2\" class=\"node\">\n",
       "<title>s1</title>\n",
       "<polygon fill=\"#ffdab9\" stroke=\"#006400\" points=\"170,-36 98,-36 98,0 170,0 170,-36\"/>\n",
       "<text text-anchor=\"middle\" x=\"134\" y=\"-14.3\" font-family=\"Raleway\" font-size=\"14.00\" fill=\"#006400\">State 1 ✔</text>\n",
       "</g>\n",
       "<!-- input&#45;&gt;s1 -->\n",
       "<g id=\"edge1\" class=\"edge\">\n",
       "<title>input&#45;&gt;s1</title>\n",
       "<path fill=\"none\" stroke=\"#000000\" d=\"M62.1829,-18C70.2688,-18 79.1505,-18 87.8282,-18\"/>\n",
       "<polygon fill=\"#000000\" stroke=\"#000000\" points=\"87.8615,-21.5001 97.8614,-18 87.8614,-14.5001 87.8615,-21.5001\"/>\n",
       "</g>\n",
       "<!-- s2 -->\n",
       "<g id=\"node3\" class=\"node\">\n",
       "<title>s2</title>\n",
       "<polygon fill=\"#ffdab9\" stroke=\"#8b0000\" points=\"279,-36 206,-36 206,0 279,0 279,-36\"/>\n",
       "<text text-anchor=\"middle\" x=\"242.5\" y=\"-14.3\" font-family=\"Raleway\" font-size=\"14.00\" fill=\"#8b0000\">State 2 ✘</text>\n",
       "</g>\n",
       "<!-- s1&#45;&gt;s2 -->\n",
       "<g id=\"edge2\" class=\"edge\">\n",
       "<title>s1&#45;&gt;s2</title>\n",
       "<path fill=\"none\" stroke=\"#000000\" d=\"M170.1289,-18C178.2806,-18 187.0491,-18 195.5719,-18\"/>\n",
       "<polygon fill=\"#000000\" stroke=\"#000000\" points=\"195.7882,-21.5001 205.7881,-18 195.7881,-14.5001 195.7882,-21.5001\"/>\n",
       "</g>\n",
       "<!-- s3 -->\n",
       "<g id=\"node4\" class=\"node\">\n",
       "<title>s3</title>\n",
       "<polygon fill=\"#ffdab9\" stroke=\"#8b0000\" points=\"388,-36 315,-36 315,0 388,0 388,-36\"/>\n",
       "<text text-anchor=\"middle\" x=\"351.5\" y=\"-14.3\" font-family=\"Raleway\" font-size=\"14.00\" fill=\"#8b0000\">State 3 ✘</text>\n",
       "</g>\n",
       "<!-- s2&#45;&gt;s3 -->\n",
       "<g id=\"edge3\" class=\"edge\">\n",
       "<title>s2&#45;&gt;s3</title>\n",
       "<path fill=\"none\" stroke=\"#000000\" d=\"M279.0986,-18C287.2769,-18 296.0602,-18 304.5905,-18\"/>\n",
       "<polygon fill=\"#000000\" stroke=\"#000000\" points=\"304.8124,-21.5001 314.8124,-18 304.8124,-14.5001 304.8124,-21.5001\"/>\n",
       "</g>\n",
       "<!-- output -->\n",
       "<g id=\"node5\" class=\"node\">\n",
       "<title>output</title>\n",
       "<polygon fill=\"#ffffff\" stroke=\"transparent\" points=\"497,-36 424,-36 424,0 497,0 497,-36\"/>\n",
       "<text text-anchor=\"middle\" x=\"460.5\" y=\"-14.3\" font-family=\"Raleway\" font-size=\"14.00\" fill=\"#8b0000\">Output ✘</text>\n",
       "</g>\n",
       "<!-- s3&#45;&gt;output -->\n",
       "<g id=\"edge4\" class=\"edge\">\n",
       "<title>s3&#45;&gt;output</title>\n",
       "<path fill=\"none\" stroke=\"#000000\" d=\"M388.0986,-18C396.2769,-18 405.0602,-18 413.5905,-18\"/>\n",
       "<polygon fill=\"#000000\" stroke=\"#000000\" points=\"413.8124,-21.5001 423.8124,-18 413.8124,-14.5001 413.8124,-21.5001\"/>\n",
       "</g>\n",
       "</g>\n",
       "</svg>\n"
      ],
      "text/plain": [
       "<graphviz.dot.Digraph at 0x7ff060620b00>"
      ]
     },
     "metadata": {},
     "output_type": "display_data"
    }
   ],
   "source": [
    "# ignore\n",
    "for until in range(1, 6):\n",
    "    execution_diagram(show_steps=False, until=until, error_step=2)"
   ]
  },
  {
   "cell_type": "markdown",
   "metadata": {
    "slideshow": {
     "slide_type": "subslide"
    }
   },
   "source": [
    "Initially, the program state is still correct (✔). However, at some point in the execution, the state gets an _error_, also known as a *fault*. This fault – again an unwanted and unintended deviation from what is correct, right, or true – then propagates along the execution, until it becomes externally visible as a _failure_.\n",
    "(In reality, there are many, many more states than just this, but these would not fit in a diagram.)"
   ]
  },
  {
   "cell_type": "markdown",
   "metadata": {
    "slideshow": {
     "slide_type": "fragment"
    }
   },
   "source": [
    "How does a fault come to be? Each of these program states is produced by a _step_ in the program code. These steps take a state as input and produce another state as output. Technically speaking, the program inputs and outputs are also parts of the program state, so the input flows into the first step, and the output is the state produced by the last step."
   ]
  },
  {
   "cell_type": "code",
   "execution_count": 34,
   "metadata": {
    "slideshow": {
     "slide_type": "subslide"
    }
   },
   "outputs": [
    {
     "data": {
      "image/svg+xml": [
       "<?xml version=\"1.0\" encoding=\"UTF-8\" standalone=\"no\"?>\n",
       "<!DOCTYPE svg PUBLIC \"-//W3C//DTD SVG 1.1//EN\"\n",
       " \"http://www.w3.org/Graphics/SVG/1.1/DTD/svg11.dtd\">\n",
       "<!-- Generated by graphviz version 2.40.1 (20161225.0304)\n",
       " -->\n",
       "<!-- Title: %3 Pages: 1 -->\n",
       "<svg width=\"70pt\" height=\"44pt\"\n",
       " viewBox=\"0.00 0.00 70.00 44.00\" xmlns=\"http://www.w3.org/2000/svg\" xmlns:xlink=\"http://www.w3.org/1999/xlink\">\n",
       "<g id=\"graph0\" class=\"graph\" transform=\"scale(1 1) rotate(0) translate(4 40)\">\n",
       "<title>%3</title>\n",
       "<polygon fill=\"#ffffff\" stroke=\"transparent\" points=\"-4,4 -4,-40 66,-40 66,4 -4,4\"/>\n",
       "<!-- input -->\n",
       "<g id=\"node1\" class=\"node\">\n",
       "<title>input</title>\n",
       "<polygon fill=\"#ffffff\" stroke=\"transparent\" points=\"62,-36 0,-36 0,0 62,0 62,-36\"/>\n",
       "<text text-anchor=\"middle\" x=\"31\" y=\"-14.3\" font-family=\"Raleway\" font-size=\"14.00\" fill=\"#006400\">Input ✔</text>\n",
       "</g>\n",
       "</g>\n",
       "</svg>\n"
      ],
      "text/plain": [
       "<graphviz.dot.Digraph at 0x7ff0610917f0>"
      ]
     },
     "metadata": {},
     "output_type": "display_data"
    },
    {
     "data": {
      "image/svg+xml": [
       "<?xml version=\"1.0\" encoding=\"UTF-8\" standalone=\"no\"?>\n",
       "<!DOCTYPE svg PUBLIC \"-//W3C//DTD SVG 1.1//EN\"\n",
       " \"http://www.w3.org/Graphics/SVG/1.1/DTD/svg11.dtd\">\n",
       "<!-- Generated by graphviz version 2.40.1 (20161225.0304)\n",
       " -->\n",
       "<!-- Title: %3 Pages: 1 -->\n",
       "<svg width=\"219pt\" height=\"44pt\"\n",
       " viewBox=\"0.00 0.00 219.00 44.00\" xmlns=\"http://www.w3.org/2000/svg\" xmlns:xlink=\"http://www.w3.org/1999/xlink\">\n",
       "<g id=\"graph0\" class=\"graph\" transform=\"scale(1 1) rotate(0) translate(4 40)\">\n",
       "<title>%3</title>\n",
       "<polygon fill=\"#ffffff\" stroke=\"transparent\" points=\"-4,4 -4,-40 215,-40 215,4 -4,4\"/>\n",
       "<!-- input -->\n",
       "<g id=\"node1\" class=\"node\">\n",
       "<title>input</title>\n",
       "<polygon fill=\"#ffffff\" stroke=\"transparent\" points=\"62,-36 0,-36 0,0 62,0 62,-36\"/>\n",
       "<text text-anchor=\"middle\" x=\"31\" y=\"-14.3\" font-family=\"Raleway\" font-size=\"14.00\" fill=\"#006400\">Input ✔</text>\n",
       "</g>\n",
       "<!-- s1 -->\n",
       "<g id=\"node2\" class=\"node\">\n",
       "<title>s1</title>\n",
       "<polygon fill=\"#ffdab9\" stroke=\"#006400\" points=\"211,-36 139,-36 139,0 211,0 211,-36\"/>\n",
       "<text text-anchor=\"middle\" x=\"175\" y=\"-14.3\" font-family=\"Raleway\" font-size=\"14.00\" fill=\"#006400\">State 1 ✔</text>\n",
       "</g>\n",
       "<!-- input&#45;&gt;s1 -->\n",
       "<g id=\"edge1\" class=\"edge\">\n",
       "<title>input&#45;&gt;s1</title>\n",
       "<path fill=\"none\" stroke=\"#000000\" d=\"M62.2459,-18C81.7405,-18 107.1785,-18 128.9579,-18\"/>\n",
       "<polygon fill=\"#000000\" stroke=\"#000000\" points=\"128.9922,-21.5001 138.9922,-18 128.9921,-14.5001 128.9922,-21.5001\"/>\n",
       "<text text-anchor=\"middle\" x=\"100.5\" y=\"-21.8\" font-family=\"Raleway\" font-size=\"14.00\" fill=\"#000000\">Step 1</text>\n",
       "</g>\n",
       "</g>\n",
       "</svg>\n"
      ],
      "text/plain": [
       "<graphviz.dot.Digraph at 0x7ff0610917f0>"
      ]
     },
     "metadata": {},
     "output_type": "display_data"
    },
    {
     "data": {
      "image/svg+xml": [
       "<?xml version=\"1.0\" encoding=\"UTF-8\" standalone=\"no\"?>\n",
       "<!DOCTYPE svg PUBLIC \"-//W3C//DTD SVG 1.1//EN\"\n",
       " \"http://www.w3.org/Graphics/SVG/1.1/DTD/svg11.dtd\">\n",
       "<!-- Generated by graphviz version 2.40.1 (20161225.0304)\n",
       " -->\n",
       "<!-- Title: %3 Pages: 1 -->\n",
       "<svg width=\"381pt\" height=\"44pt\"\n",
       " viewBox=\"0.00 0.00 381.00 44.00\" xmlns=\"http://www.w3.org/2000/svg\" xmlns:xlink=\"http://www.w3.org/1999/xlink\">\n",
       "<g id=\"graph0\" class=\"graph\" transform=\"scale(1 1) rotate(0) translate(4 40)\">\n",
       "<title>%3</title>\n",
       "<polygon fill=\"#ffffff\" stroke=\"transparent\" points=\"-4,4 -4,-40 377,-40 377,4 -4,4\"/>\n",
       "<!-- input -->\n",
       "<g id=\"node1\" class=\"node\">\n",
       "<title>input</title>\n",
       "<polygon fill=\"#ffffff\" stroke=\"transparent\" points=\"62,-36 0,-36 0,0 62,0 62,-36\"/>\n",
       "<text text-anchor=\"middle\" x=\"31\" y=\"-14.3\" font-family=\"Raleway\" font-size=\"14.00\" fill=\"#006400\">Input ✔</text>\n",
       "</g>\n",
       "<!-- s1 -->\n",
       "<g id=\"node2\" class=\"node\">\n",
       "<title>s1</title>\n",
       "<polygon fill=\"#ffdab9\" stroke=\"#006400\" points=\"211,-36 139,-36 139,0 211,0 211,-36\"/>\n",
       "<text text-anchor=\"middle\" x=\"175\" y=\"-14.3\" font-family=\"Raleway\" font-size=\"14.00\" fill=\"#006400\">State 1 ✔</text>\n",
       "</g>\n",
       "<!-- input&#45;&gt;s1 -->\n",
       "<g id=\"edge1\" class=\"edge\">\n",
       "<title>input&#45;&gt;s1</title>\n",
       "<path fill=\"none\" stroke=\"#000000\" d=\"M62.2459,-18C81.7405,-18 107.1785,-18 128.9579,-18\"/>\n",
       "<polygon fill=\"#000000\" stroke=\"#000000\" points=\"128.9922,-21.5001 138.9922,-18 128.9921,-14.5001 128.9922,-21.5001\"/>\n",
       "<text text-anchor=\"middle\" x=\"100.5\" y=\"-21.8\" font-family=\"Raleway\" font-size=\"14.00\" fill=\"#000000\">Step 1</text>\n",
       "</g>\n",
       "<!-- s2 -->\n",
       "<g id=\"node3\" class=\"node\">\n",
       "<title>s2</title>\n",
       "<polygon fill=\"#ffdab9\" stroke=\"#8b0000\" points=\"373,-36 300,-36 300,0 373,0 373,-36\"/>\n",
       "<text text-anchor=\"middle\" x=\"336.5\" y=\"-14.3\" font-family=\"Raleway\" font-size=\"14.00\" fill=\"#8b0000\">State 2 ✘</text>\n",
       "</g>\n",
       "<!-- s1&#45;&gt;s2 -->\n",
       "<g id=\"edge2\" class=\"edge\">\n",
       "<title>s1&#45;&gt;s2</title>\n",
       "<path fill=\"none\" stroke=\"#000000\" d=\"M211.2438,-18C234.4572,-18 264.8069,-18 289.8174,-18\"/>\n",
       "<polygon fill=\"#000000\" stroke=\"#000000\" points=\"289.8185,-21.5001 299.8184,-18 289.8184,-14.5001 289.8185,-21.5001\"/>\n",
       "<text text-anchor=\"middle\" x=\"255.5\" y=\"-21.8\" font-family=\"Raleway\" font-size=\"14.00\" fill=\"#8b0000\">Step 2 ✘</text>\n",
       "</g>\n",
       "</g>\n",
       "</svg>\n"
      ],
      "text/plain": [
       "<graphviz.dot.Digraph at 0x7ff061091e10>"
      ]
     },
     "metadata": {},
     "output_type": "display_data"
    },
    {
     "data": {
      "image/svg+xml": [
       "<?xml version=\"1.0\" encoding=\"UTF-8\" standalone=\"no\"?>\n",
       "<!DOCTYPE svg PUBLIC \"-//W3C//DTD SVG 1.1//EN\"\n",
       " \"http://www.w3.org/Graphics/SVG/1.1/DTD/svg11.dtd\">\n",
       "<!-- Generated by graphviz version 2.40.1 (20161225.0304)\n",
       " -->\n",
       "<!-- Title: %3 Pages: 1 -->\n",
       "<svg width=\"532pt\" height=\"44pt\"\n",
       " viewBox=\"0.00 0.00 532.00 44.00\" xmlns=\"http://www.w3.org/2000/svg\" xmlns:xlink=\"http://www.w3.org/1999/xlink\">\n",
       "<g id=\"graph0\" class=\"graph\" transform=\"scale(1 1) rotate(0) translate(4 40)\">\n",
       "<title>%3</title>\n",
       "<polygon fill=\"#ffffff\" stroke=\"transparent\" points=\"-4,4 -4,-40 528,-40 528,4 -4,4\"/>\n",
       "<!-- input -->\n",
       "<g id=\"node1\" class=\"node\">\n",
       "<title>input</title>\n",
       "<polygon fill=\"#ffffff\" stroke=\"transparent\" points=\"62,-36 0,-36 0,0 62,0 62,-36\"/>\n",
       "<text text-anchor=\"middle\" x=\"31\" y=\"-14.3\" font-family=\"Raleway\" font-size=\"14.00\" fill=\"#006400\">Input ✔</text>\n",
       "</g>\n",
       "<!-- s1 -->\n",
       "<g id=\"node2\" class=\"node\">\n",
       "<title>s1</title>\n",
       "<polygon fill=\"#ffdab9\" stroke=\"#006400\" points=\"211,-36 139,-36 139,0 211,0 211,-36\"/>\n",
       "<text text-anchor=\"middle\" x=\"175\" y=\"-14.3\" font-family=\"Raleway\" font-size=\"14.00\" fill=\"#006400\">State 1 ✔</text>\n",
       "</g>\n",
       "<!-- input&#45;&gt;s1 -->\n",
       "<g id=\"edge1\" class=\"edge\">\n",
       "<title>input&#45;&gt;s1</title>\n",
       "<path fill=\"none\" stroke=\"#000000\" d=\"M62.2459,-18C81.7405,-18 107.1785,-18 128.9579,-18\"/>\n",
       "<polygon fill=\"#000000\" stroke=\"#000000\" points=\"128.9922,-21.5001 138.9922,-18 128.9921,-14.5001 128.9922,-21.5001\"/>\n",
       "<text text-anchor=\"middle\" x=\"100.5\" y=\"-21.8\" font-family=\"Raleway\" font-size=\"14.00\" fill=\"#000000\">Step 1</text>\n",
       "</g>\n",
       "<!-- s2 -->\n",
       "<g id=\"node3\" class=\"node\">\n",
       "<title>s2</title>\n",
       "<polygon fill=\"#ffdab9\" stroke=\"#8b0000\" points=\"373,-36 300,-36 300,0 373,0 373,-36\"/>\n",
       "<text text-anchor=\"middle\" x=\"336.5\" y=\"-14.3\" font-family=\"Raleway\" font-size=\"14.00\" fill=\"#8b0000\">State 2 ✘</text>\n",
       "</g>\n",
       "<!-- s1&#45;&gt;s2 -->\n",
       "<g id=\"edge2\" class=\"edge\">\n",
       "<title>s1&#45;&gt;s2</title>\n",
       "<path fill=\"none\" stroke=\"#000000\" d=\"M211.2438,-18C234.4572,-18 264.8069,-18 289.8174,-18\"/>\n",
       "<polygon fill=\"#000000\" stroke=\"#000000\" points=\"289.8185,-21.5001 299.8184,-18 289.8184,-14.5001 289.8185,-21.5001\"/>\n",
       "<text text-anchor=\"middle\" x=\"255.5\" y=\"-21.8\" font-family=\"Raleway\" font-size=\"14.00\" fill=\"#8b0000\">Step 2 ✘</text>\n",
       "</g>\n",
       "<!-- s3 -->\n",
       "<g id=\"node4\" class=\"node\">\n",
       "<title>s3</title>\n",
       "<polygon fill=\"#ffdab9\" stroke=\"#8b0000\" points=\"524,-36 451,-36 451,0 524,0 524,-36\"/>\n",
       "<text text-anchor=\"middle\" x=\"487.5\" y=\"-14.3\" font-family=\"Raleway\" font-size=\"14.00\" fill=\"#8b0000\">State 3 ✘</text>\n",
       "</g>\n",
       "<!-- s2&#45;&gt;s3 -->\n",
       "<g id=\"edge3\" class=\"edge\">\n",
       "<title>s2&#45;&gt;s3</title>\n",
       "<path fill=\"none\" stroke=\"#000000\" d=\"M373.0529,-18C393.3973,-18 418.9373,-18 440.7261,-18\"/>\n",
       "<polygon fill=\"#000000\" stroke=\"#000000\" points=\"440.7604,-21.5001 450.7604,-18 440.7603,-14.5001 440.7604,-21.5001\"/>\n",
       "<text text-anchor=\"middle\" x=\"412\" y=\"-21.8\" font-family=\"Raleway\" font-size=\"14.00\" fill=\"#000000\">Step 3</text>\n",
       "</g>\n",
       "</g>\n",
       "</svg>\n"
      ],
      "text/plain": [
       "<graphviz.dot.Digraph at 0x7ff061091dd8>"
      ]
     },
     "metadata": {},
     "output_type": "display_data"
    },
    {
     "data": {
      "image/svg+xml": [
       "<?xml version=\"1.0\" encoding=\"UTF-8\" standalone=\"no\"?>\n",
       "<!DOCTYPE svg PUBLIC \"-//W3C//DTD SVG 1.1//EN\"\n",
       " \"http://www.w3.org/Graphics/SVG/1.1/DTD/svg11.dtd\">\n",
       "<!-- Generated by graphviz version 2.40.1 (20161225.0304)\n",
       " -->\n",
       "<!-- Title: %3 Pages: 1 -->\n",
       "<svg width=\"642pt\" height=\"44pt\"\n",
       " viewBox=\"0.00 0.00 642.00 44.00\" xmlns=\"http://www.w3.org/2000/svg\" xmlns:xlink=\"http://www.w3.org/1999/xlink\">\n",
       "<g id=\"graph0\" class=\"graph\" transform=\"scale(1 1) rotate(0) translate(4 40)\">\n",
       "<title>%3</title>\n",
       "<polygon fill=\"#ffffff\" stroke=\"transparent\" points=\"-4,4 -4,-40 638,-40 638,4 -4,4\"/>\n",
       "<!-- input -->\n",
       "<g id=\"node1\" class=\"node\">\n",
       "<title>input</title>\n",
       "<polygon fill=\"#ffffff\" stroke=\"transparent\" points=\"62,-36 0,-36 0,0 62,0 62,-36\"/>\n",
       "<text text-anchor=\"middle\" x=\"31\" y=\"-14.3\" font-family=\"Raleway\" font-size=\"14.00\" fill=\"#006400\">Input ✔</text>\n",
       "</g>\n",
       "<!-- s1 -->\n",
       "<g id=\"node2\" class=\"node\">\n",
       "<title>s1</title>\n",
       "<polygon fill=\"#ffdab9\" stroke=\"#006400\" points=\"211,-36 139,-36 139,0 211,0 211,-36\"/>\n",
       "<text text-anchor=\"middle\" x=\"175\" y=\"-14.3\" font-family=\"Raleway\" font-size=\"14.00\" fill=\"#006400\">State 1 ✔</text>\n",
       "</g>\n",
       "<!-- input&#45;&gt;s1 -->\n",
       "<g id=\"edge1\" class=\"edge\">\n",
       "<title>input&#45;&gt;s1</title>\n",
       "<path fill=\"none\" stroke=\"#000000\" d=\"M62.2459,-18C81.7405,-18 107.1785,-18 128.9579,-18\"/>\n",
       "<polygon fill=\"#000000\" stroke=\"#000000\" points=\"128.9922,-21.5001 138.9922,-18 128.9921,-14.5001 128.9922,-21.5001\"/>\n",
       "<text text-anchor=\"middle\" x=\"100.5\" y=\"-21.8\" font-family=\"Raleway\" font-size=\"14.00\" fill=\"#000000\">Step 1</text>\n",
       "</g>\n",
       "<!-- s2 -->\n",
       "<g id=\"node3\" class=\"node\">\n",
       "<title>s2</title>\n",
       "<polygon fill=\"#ffdab9\" stroke=\"#8b0000\" points=\"373,-36 300,-36 300,0 373,0 373,-36\"/>\n",
       "<text text-anchor=\"middle\" x=\"336.5\" y=\"-14.3\" font-family=\"Raleway\" font-size=\"14.00\" fill=\"#8b0000\">State 2 ✘</text>\n",
       "</g>\n",
       "<!-- s1&#45;&gt;s2 -->\n",
       "<g id=\"edge2\" class=\"edge\">\n",
       "<title>s1&#45;&gt;s2</title>\n",
       "<path fill=\"none\" stroke=\"#000000\" d=\"M211.2438,-18C234.4572,-18 264.8069,-18 289.8174,-18\"/>\n",
       "<polygon fill=\"#000000\" stroke=\"#000000\" points=\"289.8185,-21.5001 299.8184,-18 289.8184,-14.5001 289.8185,-21.5001\"/>\n",
       "<text text-anchor=\"middle\" x=\"255.5\" y=\"-21.8\" font-family=\"Raleway\" font-size=\"14.00\" fill=\"#8b0000\">Step 2 ✘</text>\n",
       "</g>\n",
       "<!-- s3 -->\n",
       "<g id=\"node4\" class=\"node\">\n",
       "<title>s3</title>\n",
       "<polygon fill=\"#ffdab9\" stroke=\"#8b0000\" points=\"524,-36 451,-36 451,0 524,0 524,-36\"/>\n",
       "<text text-anchor=\"middle\" x=\"487.5\" y=\"-14.3\" font-family=\"Raleway\" font-size=\"14.00\" fill=\"#8b0000\">State 3 ✘</text>\n",
       "</g>\n",
       "<!-- s2&#45;&gt;s3 -->\n",
       "<g id=\"edge3\" class=\"edge\">\n",
       "<title>s2&#45;&gt;s3</title>\n",
       "<path fill=\"none\" stroke=\"#000000\" d=\"M373.0529,-18C393.3973,-18 418.9373,-18 440.7261,-18\"/>\n",
       "<polygon fill=\"#000000\" stroke=\"#000000\" points=\"440.7604,-21.5001 450.7604,-18 440.7603,-14.5001 440.7604,-21.5001\"/>\n",
       "<text text-anchor=\"middle\" x=\"412\" y=\"-21.8\" font-family=\"Raleway\" font-size=\"14.00\" fill=\"#000000\">Step 3</text>\n",
       "</g>\n",
       "<!-- output -->\n",
       "<g id=\"node5\" class=\"node\">\n",
       "<title>output</title>\n",
       "<polygon fill=\"#ffffff\" stroke=\"transparent\" points=\"634,-36 561,-36 561,0 634,0 634,-36\"/>\n",
       "<text text-anchor=\"middle\" x=\"597.5\" y=\"-14.3\" font-family=\"Raleway\" font-size=\"14.00\" fill=\"#8b0000\">Output ✘</text>\n",
       "</g>\n",
       "<!-- s3&#45;&gt;output -->\n",
       "<g id=\"edge4\" class=\"edge\">\n",
       "<title>s3&#45;&gt;output</title>\n",
       "<path fill=\"none\" stroke=\"#000000\" d=\"M524.1284,-18C532.5735,-18 541.6714,-18 550.4894,-18\"/>\n",
       "<polygon fill=\"#000000\" stroke=\"#000000\" points=\"550.6565,-21.5001 560.6565,-18 550.6565,-14.5001 550.6565,-21.5001\"/>\n",
       "</g>\n",
       "</g>\n",
       "</svg>\n"
      ],
      "text/plain": [
       "<graphviz.dot.Digraph at 0x7ff0610914e0>"
      ]
     },
     "metadata": {},
     "output_type": "display_data"
    }
   ],
   "source": [
    "# ignore\n",
    "for until in range(1, 6):\n",
    "    execution_diagram(show_steps=True, until=until, error_step=2)"
   ]
  },
  {
   "cell_type": "markdown",
   "metadata": {
    "slideshow": {
     "slide_type": "fragment"
    }
   },
   "source": [
    "Now, in the diagram above, Step 2 gets a _correct_ state as input and produces a _faulty_ state as output. The produced fault then propagates across more steps to finally become visible as a _failure_."
   ]
  },
  {
   "cell_type": "markdown",
   "metadata": {
    "slideshow": {
     "slide_type": "subslide"
    }
   },
   "source": [
    "The goal of debugging thus is to _search_ for the step in which the state first becomes faulty. The _code_ associated with this step is again in error – an unwanted and unintended deviation from what is correct, right, or true – and is called a _defect_. This is what we have to find – and to fix."
   ]
  },
  {
   "cell_type": "markdown",
   "metadata": {
    "slideshow": {
     "slide_type": "fragment"
    }
   },
   "source": [
    "Sounds easy, right? Unfortunately, things are not that easy, and that has something to do with the program state. Let us assume our state consists of three variables, `v1` to `v3`, and that Step 2 produces a fault in `v2`. This fault then propagates to the output:"
   ]
  },
  {
   "cell_type": "code",
   "execution_count": 35,
   "metadata": {
    "slideshow": {
     "slide_type": "subslide"
    }
   },
   "outputs": [
    {
     "data": {
      "image/svg+xml": [
       "<?xml version=\"1.0\" encoding=\"UTF-8\" standalone=\"no\"?>\n",
       "<!DOCTYPE svg PUBLIC \"-//W3C//DTD SVG 1.1//EN\"\n",
       " \"http://www.w3.org/Graphics/SVG/1.1/DTD/svg11.dtd\">\n",
       "<!-- Generated by graphviz version 2.40.1 (20161225.0304)\n",
       " -->\n",
       "<!-- Title: %3 Pages: 1 -->\n",
       "<svg width=\"70pt\" height=\"44pt\"\n",
       " viewBox=\"0.00 0.00 70.00 44.00\" xmlns=\"http://www.w3.org/2000/svg\" xmlns:xlink=\"http://www.w3.org/1999/xlink\">\n",
       "<g id=\"graph0\" class=\"graph\" transform=\"scale(1 1) rotate(0) translate(4 40)\">\n",
       "<title>%3</title>\n",
       "<polygon fill=\"#ffffff\" stroke=\"transparent\" points=\"-4,4 -4,-40 66,-40 66,4 -4,4\"/>\n",
       "<!-- input -->\n",
       "<g id=\"node1\" class=\"node\">\n",
       "<title>input</title>\n",
       "<polygon fill=\"#ffffff\" stroke=\"transparent\" points=\"62,-36 0,-36 0,0 62,0 62,-36\"/>\n",
       "<text text-anchor=\"middle\" x=\"31\" y=\"-14.3\" font-family=\"Raleway\" font-size=\"14.00\" fill=\"#006400\">Input ✔</text>\n",
       "</g>\n",
       "</g>\n",
       "</svg>\n"
      ],
      "text/plain": [
       "<graphviz.dot.Digraph at 0x7ff0610919b0>"
      ]
     },
     "metadata": {},
     "output_type": "display_data"
    },
    {
     "data": {
      "image/svg+xml": [
       "<?xml version=\"1.0\" encoding=\"UTF-8\" standalone=\"no\"?>\n",
       "<!DOCTYPE svg PUBLIC \"-//W3C//DTD SVG 1.1//EN\"\n",
       " \"http://www.w3.org/Graphics/SVG/1.1/DTD/svg11.dtd\">\n",
       "<!-- Generated by graphviz version 2.40.1 (20161225.0304)\n",
       " -->\n",
       "<!-- Title: %3 Pages: 1 -->\n",
       "<svg width=\"201pt\" height=\"78pt\"\n",
       " viewBox=\"0.00 0.00 201.00 78.00\" xmlns=\"http://www.w3.org/2000/svg\" xmlns:xlink=\"http://www.w3.org/1999/xlink\">\n",
       "<g id=\"graph0\" class=\"graph\" transform=\"scale(1 1) rotate(0) translate(4 74)\">\n",
       "<title>%3</title>\n",
       "<polygon fill=\"#ffffff\" stroke=\"transparent\" points=\"-4,4 -4,-74 197,-74 197,4 -4,4\"/>\n",
       "<!-- input -->\n",
       "<g id=\"node1\" class=\"node\">\n",
       "<title>input</title>\n",
       "<polygon fill=\"#ffffff\" stroke=\"transparent\" points=\"62,-53 0,-53 0,-17 62,-17 62,-53\"/>\n",
       "<text text-anchor=\"middle\" x=\"31\" y=\"-31.3\" font-family=\"Raleway\" font-size=\"14.00\" fill=\"#006400\">Input ✔</text>\n",
       "</g>\n",
       "<!-- s1 -->\n",
       "<g id=\"node2\" class=\"node\">\n",
       "<title>s1</title>\n",
       "<polygon fill=\"#ffdab9\" stroke=\"#006400\" points=\"139,-.5 139,-69.5 193,-69.5 193,-.5 139,-.5\"/>\n",
       "<text text-anchor=\"middle\" x=\"166\" y=\"-54.3\" font-family=\"Raleway\" font-size=\"14.00\" fill=\"#006400\">v1</text>\n",
       "<polyline fill=\"none\" stroke=\"#006400\" points=\"139,-46.5 193,-46.5 \"/>\n",
       "<text text-anchor=\"middle\" x=\"166\" y=\"-31.3\" font-family=\"Raleway\" font-size=\"14.00\" fill=\"#006400\">v2</text>\n",
       "<polyline fill=\"none\" stroke=\"#006400\" points=\"139,-23.5 193,-23.5 \"/>\n",
       "<text text-anchor=\"middle\" x=\"166\" y=\"-8.3\" font-family=\"Raleway\" font-size=\"14.00\" fill=\"#006400\">v3</text>\n",
       "</g>\n",
       "<!-- input&#45;&gt;s1 -->\n",
       "<g id=\"edge1\" class=\"edge\">\n",
       "<title>input&#45;&gt;s1</title>\n",
       "<path fill=\"none\" stroke=\"#000000\" d=\"M62.311,-35C82.1679,-35 107.9568,-35 128.8478,-35\"/>\n",
       "<polygon fill=\"#000000\" stroke=\"#000000\" points=\"128.9647,-38.5001 138.9647,-35 128.9647,-31.5001 128.9647,-38.5001\"/>\n",
       "<text text-anchor=\"middle\" x=\"100.5\" y=\"-38.8\" font-family=\"Raleway\" font-size=\"14.00\" fill=\"#000000\">Step 1</text>\n",
       "</g>\n",
       "</g>\n",
       "</svg>\n"
      ],
      "text/plain": [
       "<graphviz.dot.Digraph at 0x7ff0610919b0>"
      ]
     },
     "metadata": {},
     "output_type": "display_data"
    },
    {
     "data": {
      "image/svg+xml": [
       "<?xml version=\"1.0\" encoding=\"UTF-8\" standalone=\"no\"?>\n",
       "<!DOCTYPE svg PUBLIC \"-//W3C//DTD SVG 1.1//EN\"\n",
       " \"http://www.w3.org/Graphics/SVG/1.1/DTD/svg11.dtd\">\n",
       "<!-- Generated by graphviz version 2.40.1 (20161225.0304)\n",
       " -->\n",
       "<!-- Title: %3 Pages: 1 -->\n",
       "<svg width=\"344pt\" height=\"78pt\"\n",
       " viewBox=\"0.00 0.00 344.00 78.00\" xmlns=\"http://www.w3.org/2000/svg\" xmlns:xlink=\"http://www.w3.org/1999/xlink\">\n",
       "<g id=\"graph0\" class=\"graph\" transform=\"scale(1 1) rotate(0) translate(4 74)\">\n",
       "<title>%3</title>\n",
       "<polygon fill=\"#ffffff\" stroke=\"transparent\" points=\"-4,4 -4,-74 340,-74 340,4 -4,4\"/>\n",
       "<!-- input -->\n",
       "<g id=\"node1\" class=\"node\">\n",
       "<title>input</title>\n",
       "<polygon fill=\"#ffffff\" stroke=\"transparent\" points=\"62,-53 0,-53 0,-17 62,-17 62,-53\"/>\n",
       "<text text-anchor=\"middle\" x=\"31\" y=\"-31.3\" font-family=\"Raleway\" font-size=\"14.00\" fill=\"#006400\">Input ✔</text>\n",
       "</g>\n",
       "<!-- s1 -->\n",
       "<g id=\"node2\" class=\"node\">\n",
       "<title>s1</title>\n",
       "<polygon fill=\"#ffdab9\" stroke=\"#006400\" points=\"139,-.5 139,-69.5 193,-69.5 193,-.5 139,-.5\"/>\n",
       "<text text-anchor=\"middle\" x=\"166\" y=\"-54.3\" font-family=\"Raleway\" font-size=\"14.00\" fill=\"#006400\">v1</text>\n",
       "<polyline fill=\"none\" stroke=\"#006400\" points=\"139,-46.5 193,-46.5 \"/>\n",
       "<text text-anchor=\"middle\" x=\"166\" y=\"-31.3\" font-family=\"Raleway\" font-size=\"14.00\" fill=\"#006400\">v2</text>\n",
       "<polyline fill=\"none\" stroke=\"#006400\" points=\"139,-23.5 193,-23.5 \"/>\n",
       "<text text-anchor=\"middle\" x=\"166\" y=\"-8.3\" font-family=\"Raleway\" font-size=\"14.00\" fill=\"#006400\">v3</text>\n",
       "</g>\n",
       "<!-- input&#45;&gt;s1 -->\n",
       "<g id=\"edge1\" class=\"edge\">\n",
       "<title>input&#45;&gt;s1</title>\n",
       "<path fill=\"none\" stroke=\"#000000\" d=\"M62.311,-35C82.1679,-35 107.9568,-35 128.8478,-35\"/>\n",
       "<polygon fill=\"#000000\" stroke=\"#000000\" points=\"128.9647,-38.5001 138.9647,-35 128.9647,-31.5001 128.9647,-38.5001\"/>\n",
       "<text text-anchor=\"middle\" x=\"100.5\" y=\"-38.8\" font-family=\"Raleway\" font-size=\"14.00\" fill=\"#000000\">Step 1</text>\n",
       "</g>\n",
       "<!-- s2 -->\n",
       "<g id=\"node3\" class=\"node\">\n",
       "<title>s2</title>\n",
       "<polygon fill=\"#ffdab9\" stroke=\"#8b0000\" points=\"282,-.5 282,-69.5 336,-69.5 336,-.5 282,-.5\"/>\n",
       "<text text-anchor=\"middle\" x=\"309\" y=\"-54.3\" font-family=\"Raleway\" font-size=\"14.00\" fill=\"#8b0000\">v1</text>\n",
       "<polyline fill=\"none\" stroke=\"#8b0000\" points=\"282,-46.5 336,-46.5 \"/>\n",
       "<text text-anchor=\"middle\" x=\"309\" y=\"-31.3\" font-family=\"Raleway\" font-size=\"14.00\" fill=\"#8b0000\">v2 ✘</text>\n",
       "<polyline fill=\"none\" stroke=\"#8b0000\" points=\"282,-23.5 336,-23.5 \"/>\n",
       "<text text-anchor=\"middle\" x=\"309\" y=\"-8.3\" font-family=\"Raleway\" font-size=\"14.00\" fill=\"#8b0000\">v3</text>\n",
       "</g>\n",
       "<!-- s1&#45;&gt;s2 -->\n",
       "<g id=\"edge2\" class=\"edge\">\n",
       "<title>s1&#45;&gt;s2:v2</title>\n",
       "<path fill=\"none\" stroke=\"#000000\" d=\"M193.1881,-35C214.1251,-35 244.0934,-35 271.8816,-35\"/>\n",
       "<polygon fill=\"#000000\" stroke=\"#000000\" points=\"272,-38.5001 282,-35 272,-31.5001 272,-38.5001\"/>\n",
       "<text text-anchor=\"middle\" x=\"237.5\" y=\"-38.8\" font-family=\"Raleway\" font-size=\"14.00\" fill=\"#8b0000\">Step 2 ✘</text>\n",
       "</g>\n",
       "</g>\n",
       "</svg>\n"
      ],
      "text/plain": [
       "<graphviz.dot.Digraph at 0x7ff061052358>"
      ]
     },
     "metadata": {},
     "output_type": "display_data"
    },
    {
     "data": {
      "image/svg+xml": [
       "<?xml version=\"1.0\" encoding=\"UTF-8\" standalone=\"no\"?>\n",
       "<!DOCTYPE svg PUBLIC \"-//W3C//DTD SVG 1.1//EN\"\n",
       " \"http://www.w3.org/Graphics/SVG/1.1/DTD/svg11.dtd\">\n",
       "<!-- Generated by graphviz version 2.40.1 (20161225.0304)\n",
       " -->\n",
       "<!-- Title: %3 Pages: 1 -->\n",
       "<svg width=\"476pt\" height=\"78pt\"\n",
       " viewBox=\"0.00 0.00 476.00 78.00\" xmlns=\"http://www.w3.org/2000/svg\" xmlns:xlink=\"http://www.w3.org/1999/xlink\">\n",
       "<g id=\"graph0\" class=\"graph\" transform=\"scale(1 1) rotate(0) translate(4 74)\">\n",
       "<title>%3</title>\n",
       "<polygon fill=\"#ffffff\" stroke=\"transparent\" points=\"-4,4 -4,-74 472,-74 472,4 -4,4\"/>\n",
       "<!-- input -->\n",
       "<g id=\"node1\" class=\"node\">\n",
       "<title>input</title>\n",
       "<polygon fill=\"#ffffff\" stroke=\"transparent\" points=\"62,-53 0,-53 0,-17 62,-17 62,-53\"/>\n",
       "<text text-anchor=\"middle\" x=\"31\" y=\"-31.3\" font-family=\"Raleway\" font-size=\"14.00\" fill=\"#006400\">Input ✔</text>\n",
       "</g>\n",
       "<!-- s1 -->\n",
       "<g id=\"node2\" class=\"node\">\n",
       "<title>s1</title>\n",
       "<polygon fill=\"#ffdab9\" stroke=\"#006400\" points=\"139,-.5 139,-69.5 193,-69.5 193,-.5 139,-.5\"/>\n",
       "<text text-anchor=\"middle\" x=\"166\" y=\"-54.3\" font-family=\"Raleway\" font-size=\"14.00\" fill=\"#006400\">v1</text>\n",
       "<polyline fill=\"none\" stroke=\"#006400\" points=\"139,-46.5 193,-46.5 \"/>\n",
       "<text text-anchor=\"middle\" x=\"166\" y=\"-31.3\" font-family=\"Raleway\" font-size=\"14.00\" fill=\"#006400\">v2</text>\n",
       "<polyline fill=\"none\" stroke=\"#006400\" points=\"139,-23.5 193,-23.5 \"/>\n",
       "<text text-anchor=\"middle\" x=\"166\" y=\"-8.3\" font-family=\"Raleway\" font-size=\"14.00\" fill=\"#006400\">v3</text>\n",
       "</g>\n",
       "<!-- input&#45;&gt;s1 -->\n",
       "<g id=\"edge1\" class=\"edge\">\n",
       "<title>input&#45;&gt;s1</title>\n",
       "<path fill=\"none\" stroke=\"#000000\" d=\"M62.311,-35C82.1679,-35 107.9568,-35 128.8478,-35\"/>\n",
       "<polygon fill=\"#000000\" stroke=\"#000000\" points=\"128.9647,-38.5001 138.9647,-35 128.9647,-31.5001 128.9647,-38.5001\"/>\n",
       "<text text-anchor=\"middle\" x=\"100.5\" y=\"-38.8\" font-family=\"Raleway\" font-size=\"14.00\" fill=\"#000000\">Step 1</text>\n",
       "</g>\n",
       "<!-- s2 -->\n",
       "<g id=\"node3\" class=\"node\">\n",
       "<title>s2</title>\n",
       "<polygon fill=\"#ffdab9\" stroke=\"#8b0000\" points=\"282,-.5 282,-69.5 336,-69.5 336,-.5 282,-.5\"/>\n",
       "<text text-anchor=\"middle\" x=\"309\" y=\"-54.3\" font-family=\"Raleway\" font-size=\"14.00\" fill=\"#8b0000\">v1</text>\n",
       "<polyline fill=\"none\" stroke=\"#8b0000\" points=\"282,-46.5 336,-46.5 \"/>\n",
       "<text text-anchor=\"middle\" x=\"309\" y=\"-31.3\" font-family=\"Raleway\" font-size=\"14.00\" fill=\"#8b0000\">v2 ✘</text>\n",
       "<polyline fill=\"none\" stroke=\"#8b0000\" points=\"282,-23.5 336,-23.5 \"/>\n",
       "<text text-anchor=\"middle\" x=\"309\" y=\"-8.3\" font-family=\"Raleway\" font-size=\"14.00\" fill=\"#8b0000\">v3</text>\n",
       "</g>\n",
       "<!-- s1&#45;&gt;s2 -->\n",
       "<g id=\"edge2\" class=\"edge\">\n",
       "<title>s1&#45;&gt;s2:v2</title>\n",
       "<path fill=\"none\" stroke=\"#000000\" d=\"M193.1881,-35C214.1251,-35 244.0934,-35 271.8816,-35\"/>\n",
       "<polygon fill=\"#000000\" stroke=\"#000000\" points=\"272,-38.5001 282,-35 272,-31.5001 272,-38.5001\"/>\n",
       "<text text-anchor=\"middle\" x=\"237.5\" y=\"-38.8\" font-family=\"Raleway\" font-size=\"14.00\" fill=\"#8b0000\">Step 2 ✘</text>\n",
       "</g>\n",
       "<!-- s3 -->\n",
       "<g id=\"node4\" class=\"node\">\n",
       "<title>s3</title>\n",
       "<polygon fill=\"#ffdab9\" stroke=\"#8b0000\" points=\"414,-.5 414,-69.5 468,-69.5 468,-.5 414,-.5\"/>\n",
       "<text text-anchor=\"middle\" x=\"441\" y=\"-54.3\" font-family=\"Raleway\" font-size=\"14.00\" fill=\"#8b0000\">v1</text>\n",
       "<polyline fill=\"none\" stroke=\"#8b0000\" points=\"414,-46.5 468,-46.5 \"/>\n",
       "<text text-anchor=\"middle\" x=\"441\" y=\"-31.3\" font-family=\"Raleway\" font-size=\"14.00\" fill=\"#8b0000\">v2 ✘</text>\n",
       "<polyline fill=\"none\" stroke=\"#8b0000\" points=\"414,-23.5 468,-23.5 \"/>\n",
       "<text text-anchor=\"middle\" x=\"441\" y=\"-8.3\" font-family=\"Raleway\" font-size=\"14.00\" fill=\"#8b0000\">v3</text>\n",
       "</g>\n",
       "<!-- s2&#45;&gt;s3 -->\n",
       "<g id=\"edge3\" class=\"edge\">\n",
       "<title>s2:v2&#45;&gt;s3:v2</title>\n",
       "<path fill=\"none\" stroke=\"#000000\" d=\"M336,-35C367.0104,-35 377.216,-35 403.8379,-35\"/>\n",
       "<polygon fill=\"#000000\" stroke=\"#000000\" points=\"404,-38.5001 414,-35 404,-31.5001 404,-38.5001\"/>\n",
       "<text text-anchor=\"middle\" x=\"375\" y=\"-38.8\" font-family=\"Raleway\" font-size=\"14.00\" fill=\"#000000\">Step 3</text>\n",
       "</g>\n",
       "</g>\n",
       "</svg>\n"
      ],
      "text/plain": [
       "<graphviz.dot.Digraph at 0x7ff061052358>"
      ]
     },
     "metadata": {},
     "output_type": "display_data"
    },
    {
     "data": {
      "image/svg+xml": [
       "<?xml version=\"1.0\" encoding=\"UTF-8\" standalone=\"no\"?>\n",
       "<!DOCTYPE svg PUBLIC \"-//W3C//DTD SVG 1.1//EN\"\n",
       " \"http://www.w3.org/Graphics/SVG/1.1/DTD/svg11.dtd\">\n",
       "<!-- Generated by graphviz version 2.40.1 (20161225.0304)\n",
       " -->\n",
       "<!-- Title: %3 Pages: 1 -->\n",
       "<svg width=\"586pt\" height=\"78pt\"\n",
       " viewBox=\"0.00 0.00 586.00 78.00\" xmlns=\"http://www.w3.org/2000/svg\" xmlns:xlink=\"http://www.w3.org/1999/xlink\">\n",
       "<g id=\"graph0\" class=\"graph\" transform=\"scale(1 1) rotate(0) translate(4 74)\">\n",
       "<title>%3</title>\n",
       "<polygon fill=\"#ffffff\" stroke=\"transparent\" points=\"-4,4 -4,-74 582,-74 582,4 -4,4\"/>\n",
       "<!-- input -->\n",
       "<g id=\"node1\" class=\"node\">\n",
       "<title>input</title>\n",
       "<polygon fill=\"#ffffff\" stroke=\"transparent\" points=\"62,-53 0,-53 0,-17 62,-17 62,-53\"/>\n",
       "<text text-anchor=\"middle\" x=\"31\" y=\"-31.3\" font-family=\"Raleway\" font-size=\"14.00\" fill=\"#006400\">Input ✔</text>\n",
       "</g>\n",
       "<!-- s1 -->\n",
       "<g id=\"node2\" class=\"node\">\n",
       "<title>s1</title>\n",
       "<polygon fill=\"#ffdab9\" stroke=\"#006400\" points=\"139,-.5 139,-69.5 193,-69.5 193,-.5 139,-.5\"/>\n",
       "<text text-anchor=\"middle\" x=\"166\" y=\"-54.3\" font-family=\"Raleway\" font-size=\"14.00\" fill=\"#006400\">v1</text>\n",
       "<polyline fill=\"none\" stroke=\"#006400\" points=\"139,-46.5 193,-46.5 \"/>\n",
       "<text text-anchor=\"middle\" x=\"166\" y=\"-31.3\" font-family=\"Raleway\" font-size=\"14.00\" fill=\"#006400\">v2</text>\n",
       "<polyline fill=\"none\" stroke=\"#006400\" points=\"139,-23.5 193,-23.5 \"/>\n",
       "<text text-anchor=\"middle\" x=\"166\" y=\"-8.3\" font-family=\"Raleway\" font-size=\"14.00\" fill=\"#006400\">v3</text>\n",
       "</g>\n",
       "<!-- input&#45;&gt;s1 -->\n",
       "<g id=\"edge1\" class=\"edge\">\n",
       "<title>input&#45;&gt;s1</title>\n",
       "<path fill=\"none\" stroke=\"#000000\" d=\"M62.311,-35C82.1679,-35 107.9568,-35 128.8478,-35\"/>\n",
       "<polygon fill=\"#000000\" stroke=\"#000000\" points=\"128.9647,-38.5001 138.9647,-35 128.9647,-31.5001 128.9647,-38.5001\"/>\n",
       "<text text-anchor=\"middle\" x=\"100.5\" y=\"-38.8\" font-family=\"Raleway\" font-size=\"14.00\" fill=\"#000000\">Step 1</text>\n",
       "</g>\n",
       "<!-- s2 -->\n",
       "<g id=\"node3\" class=\"node\">\n",
       "<title>s2</title>\n",
       "<polygon fill=\"#ffdab9\" stroke=\"#8b0000\" points=\"282,-.5 282,-69.5 336,-69.5 336,-.5 282,-.5\"/>\n",
       "<text text-anchor=\"middle\" x=\"309\" y=\"-54.3\" font-family=\"Raleway\" font-size=\"14.00\" fill=\"#8b0000\">v1</text>\n",
       "<polyline fill=\"none\" stroke=\"#8b0000\" points=\"282,-46.5 336,-46.5 \"/>\n",
       "<text text-anchor=\"middle\" x=\"309\" y=\"-31.3\" font-family=\"Raleway\" font-size=\"14.00\" fill=\"#8b0000\">v2 ✘</text>\n",
       "<polyline fill=\"none\" stroke=\"#8b0000\" points=\"282,-23.5 336,-23.5 \"/>\n",
       "<text text-anchor=\"middle\" x=\"309\" y=\"-8.3\" font-family=\"Raleway\" font-size=\"14.00\" fill=\"#8b0000\">v3</text>\n",
       "</g>\n",
       "<!-- s1&#45;&gt;s2 -->\n",
       "<g id=\"edge2\" class=\"edge\">\n",
       "<title>s1&#45;&gt;s2:v2</title>\n",
       "<path fill=\"none\" stroke=\"#000000\" d=\"M193.1881,-35C214.1251,-35 244.0934,-35 271.8816,-35\"/>\n",
       "<polygon fill=\"#000000\" stroke=\"#000000\" points=\"272,-38.5001 282,-35 272,-31.5001 272,-38.5001\"/>\n",
       "<text text-anchor=\"middle\" x=\"237.5\" y=\"-38.8\" font-family=\"Raleway\" font-size=\"14.00\" fill=\"#8b0000\">Step 2 ✘</text>\n",
       "</g>\n",
       "<!-- s3 -->\n",
       "<g id=\"node4\" class=\"node\">\n",
       "<title>s3</title>\n",
       "<polygon fill=\"#ffdab9\" stroke=\"#8b0000\" points=\"414,-.5 414,-69.5 468,-69.5 468,-.5 414,-.5\"/>\n",
       "<text text-anchor=\"middle\" x=\"441\" y=\"-54.3\" font-family=\"Raleway\" font-size=\"14.00\" fill=\"#8b0000\">v1</text>\n",
       "<polyline fill=\"none\" stroke=\"#8b0000\" points=\"414,-46.5 468,-46.5 \"/>\n",
       "<text text-anchor=\"middle\" x=\"441\" y=\"-31.3\" font-family=\"Raleway\" font-size=\"14.00\" fill=\"#8b0000\">v2 ✘</text>\n",
       "<polyline fill=\"none\" stroke=\"#8b0000\" points=\"414,-23.5 468,-23.5 \"/>\n",
       "<text text-anchor=\"middle\" x=\"441\" y=\"-8.3\" font-family=\"Raleway\" font-size=\"14.00\" fill=\"#8b0000\">v3</text>\n",
       "</g>\n",
       "<!-- s2&#45;&gt;s3 -->\n",
       "<g id=\"edge3\" class=\"edge\">\n",
       "<title>s2:v2&#45;&gt;s3:v2</title>\n",
       "<path fill=\"none\" stroke=\"#000000\" d=\"M336,-35C367.0104,-35 377.216,-35 403.8379,-35\"/>\n",
       "<polygon fill=\"#000000\" stroke=\"#000000\" points=\"404,-38.5001 414,-35 404,-31.5001 404,-38.5001\"/>\n",
       "<text text-anchor=\"middle\" x=\"375\" y=\"-38.8\" font-family=\"Raleway\" font-size=\"14.00\" fill=\"#000000\">Step 3</text>\n",
       "</g>\n",
       "<!-- output -->\n",
       "<g id=\"node5\" class=\"node\">\n",
       "<title>output</title>\n",
       "<polygon fill=\"#ffffff\" stroke=\"transparent\" points=\"578,-53 505,-53 505,-17 578,-17 578,-53\"/>\n",
       "<text text-anchor=\"middle\" x=\"541.5\" y=\"-31.3\" font-family=\"Raleway\" font-size=\"14.00\" fill=\"#8b0000\">Output ✘</text>\n",
       "</g>\n",
       "<!-- s3&#45;&gt;output -->\n",
       "<g id=\"edge4\" class=\"edge\">\n",
       "<title>s3:v2&#45;&gt;output</title>\n",
       "<path fill=\"none\" stroke=\"#000000\" d=\"M468,-35C476.6213,-35 485.8113,-35 494.6695,-35\"/>\n",
       "<polygon fill=\"#000000\" stroke=\"#000000\" points=\"494.8618,-38.5001 504.8618,-35 494.8618,-31.5001 494.8618,-38.5001\"/>\n",
       "</g>\n",
       "</g>\n",
       "</svg>\n"
      ],
      "text/plain": [
       "<graphviz.dot.Digraph at 0x7ff061052358>"
      ]
     },
     "metadata": {},
     "output_type": "display_data"
    }
   ],
   "source": [
    "# ignore\n",
    "for until in range(1, 6):\n",
    "    execution_diagram(show_steps=True, variables=['v1', 'v2', 'v3'], error_step=2, \n",
    "                      until=until, fault_path=['s2:v2', 's3:v2'])"
   ]
  },
  {
   "cell_type": "markdown",
   "metadata": {
    "slideshow": {
     "slide_type": "subslide"
    }
   },
   "source": [
    "The way these faults propagate is called a *cause-effect chain*:\n",
    "\n",
    "* The _defect_ in the code _causes_ a fault in the state when executed.\n",
    "* This _fault_ in the state then _propagates_ through further execution steps...\n",
    "* ... until it becomes visible as a _failure_.\n",
    "\n",
    "Note that not every defect also causes a failure, which is despite all testing, there can still be defects in the code looming around until the right conditions are met to trigger them. On the other hand, though, _every failure can be traced back to the defect that causes it_.\n",
    "\n",
    "To this end, we _trace back_ these faults along their _dependencies_ – that is, we find out which faults in the earlier state have caused the later faults. We start from the very end of the execution and then gradually progress backwards in time, examining fault after fault until we find a _transition_ from a correct state to a faulty state – that is, a\n",
    "step in which a correct state comes in and a faulty state comes out. At this point, we have found the origin of the failure – and the defect that causes it."
   ]
  },
  {
   "cell_type": "markdown",
   "metadata": {
    "slideshow": {
     "slide_type": "subslide"
    }
   },
   "source": [
    "What sounds like a straight-forward strategy, unfortunately, doesn't always work this way in practice. That is because of the following problems of debugging:\n",
    "\n",
    "* First, program states are actually _large_, encompassing dozens to thousands of variables, possibly even more. If you have to search all of these manually and check them for faults, you will spend a lot of time for a single state.\n",
    "\n",
    "* Second, you do not always know _whether a state is correct or not._ While most programs have some form of specification for their inputs and outputs, these do not necessarily exist for intermediate results. If one had a specification that could check each state for correctness (possibly even automatically), debugging would be trivial. Unfortunately, it is not, and that's partly due to the lack of specifications.\n",
    "\n",
    "* Third, executions typically do not come in a handful of steps, as in the diagrams above; instead, they can easily encompass _thousands to millions of steps._ This means that you will have to examine not just one state, but several, making the problem much worse.\n",
    "\n",
    "To make your search efficient, you thus have to _focus_ your search – starting with most likely causes and gradually progressing to the less probable causes. This is what we call a _debugging strategy_."
   ]
  },
  {
   "cell_type": "markdown",
   "metadata": {
    "slideshow": {
     "slide_type": "slide"
    }
   },
   "source": [
    "## The Scientific Method\n",
    "\n",
    "Now that we know how failures come to be, let's look into how to systematically find their causes. What we need is a _strategy_ that helps us search for how and when the failure comes to be. For this, we use a process called the *scientific method*."
   ]
  },
  {
   "cell_type": "markdown",
   "metadata": {
    "slideshow": {
     "slide_type": "fragment"
    }
   },
   "source": [
    "When we are debugging a program, we are trying to find the causes of a given effect – very much like natural scientists try to understand why things in nature are as they are and how they come to be. Over thousands of years, scientists have conducted _observations_ and _experiments_ to come to an understanding of how our world works. The process by which experimental scientists operate has been coined \"The scientific method\". This is how it works:"
   ]
  },
  {
   "cell_type": "markdown",
   "metadata": {
    "slideshow": {
     "slide_type": "subslide"
    }
   },
   "source": [
    "1. Formulate a _question_, as in \"Why does this apple fall down?\".\n",
    "2. Invent a _hypothesis_ based on knowledge obtained while formulating the question, that may explain the observed behavior. \n",
    "3. Determining the logical consequences of the hypothesis, formulate a _prediction_ that can _support_ or _refute_ the hypothesis. Ideally, the prediction would distinguish the hypothesis from likely alternatives.\n",
    "4. _Test_ the prediction (and thus the hypothesis) in an _experiment_. If the prediction holds, confidence in the hypothesis increases; otherwise, it decreases.\n",
    "5. Repeat Steps 2–4 until there are no discrepancies between hypothesis and predictions and/or observations."
   ]
  },
  {
   "cell_type": "markdown",
   "metadata": {
    "slideshow": {
     "slide_type": "subslide"
    }
   },
   "source": [
    "At this point, your hypothesis may be named a *theory* – that is, a predictive and comprehensive description of some aspect of the natural world. The gravitational theory, for instance, predicts very well how the moon revolves around the earth, and how the earth revolves around the sun.  Our debugging problems are of a slightly lesser scale – we'd like a theory of how our failure came to be – but the process is pretty much the same."
   ]
  },
  {
   "cell_type": "code",
   "execution_count": 36,
   "metadata": {
    "ipub": {
     "ignore": true
    },
    "slideshow": {
     "slide_type": "subslide"
    }
   },
   "outputs": [],
   "source": [
    "dot = graph()\n",
    "\n",
    "dot.node('Hypothesis')\n",
    "dot.node('Observation')\n",
    "dot.node('Prediction')\n",
    "dot.node('Experiment')\n",
    "\n",
    "dot.edge('Hypothesis', 'Observation', label=\"<Hypothesis<BR/>is <I>supported:</I><BR/>Refine it>\", dir='back')\n",
    "dot.edge('Hypothesis', 'Prediction')\n",
    "\n",
    "dot.node('Problem Report', shape='none', fillcolor='white')\n",
    "dot.edge('Problem Report', 'Hypothesis')\n",
    "\n",
    "dot.node('Code', shape='none', fillcolor='white')\n",
    "dot.edge('Code', 'Hypothesis')\n",
    "\n",
    "dot.node('Runs', shape='none', fillcolor='white')\n",
    "dot.edge('Runs', 'Hypothesis')\n",
    "\n",
    "dot.node('More Runs', shape='none', fillcolor='white')\n",
    "dot.edge('More Runs', 'Hypothesis')\n",
    "\n",
    "dot.edge('Prediction', 'Experiment')\n",
    "dot.edge('Experiment', 'Observation')\n",
    "dot.edge('Observation', 'Hypothesis', label=\"<Hypothesis<BR/>is <I>rejected:</I><BR/>Seek alternative>\")"
   ]
  },
  {
   "cell_type": "code",
   "execution_count": 37,
   "metadata": {
    "slideshow": {
     "slide_type": "subslide"
    }
   },
   "outputs": [
    {
     "data": {
      "image/svg+xml": [
       "<?xml version=\"1.0\" encoding=\"UTF-8\" standalone=\"no\"?>\n",
       "<!DOCTYPE svg PUBLIC \"-//W3C//DTD SVG 1.1//EN\"\n",
       " \"http://www.w3.org/Graphics/SVG/1.1/DTD/svg11.dtd\">\n",
       "<!-- Generated by graphviz version 2.40.1 (20161225.0304)\n",
       " -->\n",
       "<!-- Title: %3 Pages: 1 -->\n",
       "<svg width=\"852pt\" height=\"206pt\"\n",
       " viewBox=\"0.00 0.00 852.26 206.00\" xmlns=\"http://www.w3.org/2000/svg\" xmlns:xlink=\"http://www.w3.org/1999/xlink\">\n",
       "<g id=\"graph0\" class=\"graph\" transform=\"scale(1 1) rotate(0) translate(4 202)\">\n",
       "<title>%3</title>\n",
       "<polygon fill=\"#ffffff\" stroke=\"transparent\" points=\"-4,4 -4,-202 848.2584,-202 848.2584,4 -4,4\"/>\n",
       "<!-- Hypothesis -->\n",
       "<g id=\"node1\" class=\"node\">\n",
       "<title>Hypothesis</title>\n",
       "<ellipse fill=\"#ffdab9\" stroke=\"#000000\" cx=\"216.4948\" cy=\"-99\" rx=\"58.4896\" ry=\"18\"/>\n",
       "<text text-anchor=\"middle\" x=\"216.4948\" y=\"-95.3\" font-family=\"Raleway\" font-size=\"14.00\" fill=\"#000000\">Hypothesis</text>\n",
       "</g>\n",
       "<!-- Observation -->\n",
       "<g id=\"node2\" class=\"node\">\n",
       "<title>Observation</title>\n",
       "<ellipse fill=\"#ffdab9\" stroke=\"#000000\" cx=\"781.8639\" cy=\"-99\" rx=\"62.2891\" ry=\"18\"/>\n",
       "<text text-anchor=\"middle\" x=\"781.8639\" y=\"-95.3\" font-family=\"Raleway\" font-size=\"14.00\" fill=\"#000000\">Observation</text>\n",
       "</g>\n",
       "<!-- Hypothesis&#45;&gt;Observation -->\n",
       "<g id=\"edge1\" class=\"edge\">\n",
       "<title>Hypothesis&#45;&gt;Observation</title>\n",
       "<path fill=\"none\" stroke=\"#000000\" d=\"M265.4137,-115.6223C280.1999,-119.8846 296.5986,-123.866 311.9896,-126 475.0871,-148.6137 519.2577,-147.7733 682.4694,-126 701.9662,-123.399 723.0592,-118.0482 740.7771,-112.7909\"/>\n",
       "<polygon fill=\"#000000\" stroke=\"#000000\" points=\"266.0506,-112.1596 255.467,-112.6458 264.0438,-118.8658 266.0506,-112.1596\"/>\n",
       "<text text-anchor=\"start\" x=\"454.38\" y=\"-173.8\" font-family=\"Raleway\" font-size=\"14.00\" fill=\"#000000\">Hypothesis</text>\n",
       "<text text-anchor=\"start\" x=\"449.88\" y=\"-159.8\" font-family=\"Raleway\" font-size=\"14.00\" fill=\"#000000\">is </text>\n",
       "<text text-anchor=\"start\" x=\"463.88\" y=\"-159.8\" font-family=\"Raleway\" font-style=\"italic\" font-size=\"14.00\" fill=\"#000000\">supported:</text>\n",
       "<text text-anchor=\"start\" x=\"464.38\" y=\"-145.8\" font-family=\"Raleway\" font-size=\"14.00\" fill=\"#000000\">Refine it</text>\n",
       "</g>\n",
       "<!-- Prediction -->\n",
       "<g id=\"node3\" class=\"node\">\n",
       "<title>Prediction</title>\n",
       "<ellipse fill=\"#ffdab9\" stroke=\"#000000\" cx=\"365.9348\" cy=\"-99\" rx=\"53.8905\" ry=\"18\"/>\n",
       "<text text-anchor=\"middle\" x=\"365.9348\" y=\"-95.3\" font-family=\"Raleway\" font-size=\"14.00\" fill=\"#000000\">Prediction</text>\n",
       "</g>\n",
       "<!-- Hypothesis&#45;&gt;Prediction -->\n",
       "<g id=\"edge2\" class=\"edge\">\n",
       "<title>Hypothesis&#45;&gt;Prediction</title>\n",
       "<path fill=\"none\" stroke=\"#000000\" d=\"M275.1286,-99C283.8269,-99 292.8305,-99 301.6372,-99\"/>\n",
       "<polygon fill=\"#000000\" stroke=\"#000000\" points=\"301.8549,-102.5001 311.8548,-99 301.8548,-95.5001 301.8549,-102.5001\"/>\n",
       "</g>\n",
       "<!-- Observation&#45;&gt;Hypothesis -->\n",
       "<g id=\"edge9\" class=\"edge\">\n",
       "<title>Observation&#45;&gt;Hypothesis</title>\n",
       "<path fill=\"none\" stroke=\"#000000\" d=\"M738.6085,-85.9559C721.2741,-81.0688 701.0412,-75.7885 682.4694,-72 521.1344,-39.0884 472.9377,-37.2456 311.9896,-72 297.3487,-75.1615 281.6387,-79.2896 267.2742,-83.3631\"/>\n",
       "<polygon fill=\"#000000\" stroke=\"#000000\" points=\"266.2118,-80.0267 257.5742,-86.162 268.1525,-86.7524 266.2118,-80.0267\"/>\n",
       "<text text-anchor=\"start\" x=\"454.38\" y=\"-80.8\" font-family=\"Raleway\" font-size=\"14.00\" fill=\"#000000\">Hypothesis</text>\n",
       "<text text-anchor=\"start\" x=\"456.88\" y=\"-66.8\" font-family=\"Raleway\" font-size=\"14.00\" fill=\"#000000\">is </text>\n",
       "<text text-anchor=\"start\" x=\"470.88\" y=\"-66.8\" font-family=\"Raleway\" font-style=\"italic\" font-size=\"14.00\" fill=\"#000000\">rejected:</text>\n",
       "<text text-anchor=\"start\" x=\"437.88\" y=\"-52.8\" font-family=\"Raleway\" font-size=\"14.00\" fill=\"#000000\">Seek alternative</text>\n",
       "</g>\n",
       "<!-- Experiment -->\n",
       "<g id=\"node4\" class=\"node\">\n",
       "<title>Experiment</title>\n",
       "<ellipse fill=\"#ffdab9\" stroke=\"#000000\" cx=\"622.6747\" cy=\"-99\" rx=\"59.5901\" ry=\"18\"/>\n",
       "<text text-anchor=\"middle\" x=\"622.6747\" y=\"-95.3\" font-family=\"Raleway\" font-size=\"14.00\" fill=\"#000000\">Experiment</text>\n",
       "</g>\n",
       "<!-- Prediction&#45;&gt;Experiment -->\n",
       "<g id=\"edge7\" class=\"edge\">\n",
       "<title>Prediction&#45;&gt;Experiment</title>\n",
       "<path fill=\"none\" stroke=\"#000000\" d=\"M420.069,-99C458.6681,-99 510.9104,-99 552.6776,-99\"/>\n",
       "<polygon fill=\"#000000\" stroke=\"#000000\" points=\"552.7819,-102.5001 562.7819,-99 552.7819,-95.5001 552.7819,-102.5001\"/>\n",
       "</g>\n",
       "<!-- Experiment&#45;&gt;Observation -->\n",
       "<g id=\"edge8\" class=\"edge\">\n",
       "<title>Experiment&#45;&gt;Observation</title>\n",
       "<path fill=\"none\" stroke=\"#000000\" d=\"M682.8573,-99C691.4006,-99 700.2615,-99 709.013,-99\"/>\n",
       "<polygon fill=\"#000000\" stroke=\"#000000\" points=\"709.2106,-102.5001 719.2105,-99 709.2105,-95.5001 709.2106,-102.5001\"/>\n",
       "</g>\n",
       "<!-- Problem Report -->\n",
       "<g id=\"node5\" class=\"node\">\n",
       "<title>Problem Report</title>\n",
       "<polygon fill=\"#ffffff\" stroke=\"transparent\" points=\"121,-198 0,-198 0,-162 121,-162 121,-198\"/>\n",
       "<text text-anchor=\"middle\" x=\"60.5\" y=\"-176.3\" font-family=\"Raleway\" font-size=\"14.00\" fill=\"#000000\">Problem Report</text>\n",
       "</g>\n",
       "<!-- Problem Report&#45;&gt;Hypothesis -->\n",
       "<g id=\"edge3\" class=\"edge\">\n",
       "<title>Problem Report&#45;&gt;Hypothesis</title>\n",
       "<path fill=\"none\" stroke=\"#000000\" d=\"M102.4016,-161.9219C108.681,-159.0337 115.0438,-156.0046 121,-153 141.1283,-142.8463 163.0587,-130.5376 180.8215,-120.2375\"/>\n",
       "<polygon fill=\"#000000\" stroke=\"#000000\" points=\"182.8264,-123.1199 189.6988,-115.0564 179.2979,-117.0743 182.8264,-123.1199\"/>\n",
       "</g>\n",
       "<!-- Code -->\n",
       "<g id=\"node6\" class=\"node\">\n",
       "<title>Code</title>\n",
       "<polygon fill=\"#ffffff\" stroke=\"transparent\" points=\"87.5,-144 33.5,-144 33.5,-108 87.5,-108 87.5,-144\"/>\n",
       "<text text-anchor=\"middle\" x=\"60.5\" y=\"-122.3\" font-family=\"Raleway\" font-size=\"14.00\" fill=\"#000000\">Code</text>\n",
       "</g>\n",
       "<!-- Code&#45;&gt;Hypothesis -->\n",
       "<g id=\"edge4\" class=\"edge\">\n",
       "<title>Code&#45;&gt;Hypothesis</title>\n",
       "<path fill=\"none\" stroke=\"#000000\" d=\"M87.6722,-121.297C106.3855,-118.058 132.0122,-113.6225 155.4824,-109.5602\"/>\n",
       "<polygon fill=\"#000000\" stroke=\"#000000\" points=\"156.126,-113.0009 165.3825,-107.8467 154.9321,-106.1035 156.126,-113.0009\"/>\n",
       "</g>\n",
       "<!-- Runs -->\n",
       "<g id=\"node7\" class=\"node\">\n",
       "<title>Runs</title>\n",
       "<polygon fill=\"#ffffff\" stroke=\"transparent\" points=\"87.5,-90 33.5,-90 33.5,-54 87.5,-54 87.5,-90\"/>\n",
       "<text text-anchor=\"middle\" x=\"60.5\" y=\"-68.3\" font-family=\"Raleway\" font-size=\"14.00\" fill=\"#000000\">Runs</text>\n",
       "</g>\n",
       "<!-- Runs&#45;&gt;Hypothesis -->\n",
       "<g id=\"edge5\" class=\"edge\">\n",
       "<title>Runs&#45;&gt;Hypothesis</title>\n",
       "<path fill=\"none\" stroke=\"#000000\" d=\"M87.6722,-76.703C106.3855,-79.942 132.0122,-84.3775 155.4824,-88.4398\"/>\n",
       "<polygon fill=\"#000000\" stroke=\"#000000\" points=\"154.9321,-91.8965 165.3825,-90.1533 156.126,-84.9991 154.9321,-91.8965\"/>\n",
       "</g>\n",
       "<!-- More Runs -->\n",
       "<g id=\"node8\" class=\"node\">\n",
       "<title>More Runs</title>\n",
       "<polygon fill=\"#ffffff\" stroke=\"transparent\" points=\"104,-36 17,-36 17,0 104,0 104,-36\"/>\n",
       "<text text-anchor=\"middle\" x=\"60.5\" y=\"-14.3\" font-family=\"Raleway\" font-size=\"14.00\" fill=\"#000000\">More Runs</text>\n",
       "</g>\n",
       "<!-- More Runs&#45;&gt;Hypothesis -->\n",
       "<g id=\"edge6\" class=\"edge\">\n",
       "<title>More Runs&#45;&gt;Hypothesis</title>\n",
       "<path fill=\"none\" stroke=\"#000000\" d=\"M102.4016,-36.0781C108.681,-38.9663 115.0438,-41.9954 121,-45 141.1283,-55.1537 163.0587,-67.4624 180.8215,-77.7625\"/>\n",
       "<polygon fill=\"#000000\" stroke=\"#000000\" points=\"179.2979,-80.9257 189.6988,-82.9436 182.8264,-74.8801 179.2979,-80.9257\"/>\n",
       "</g>\n",
       "</g>\n",
       "</svg>\n"
      ],
      "text/plain": [
       "<graphviz.dot.Digraph at 0x7ff0610aa710>"
      ]
     },
     "metadata": {},
     "output_type": "display_data"
    }
   ],
   "source": [
    "display(dot)"
   ]
  },
  {
   "cell_type": "markdown",
   "metadata": {
    "slideshow": {
     "slide_type": "fragment"
    }
   },
   "source": [
    "In debugging, we proceed the very same way – indeed, we are treating bugs as if they were natural phenomena.   This analogy may sound far-fetched, as programs are anything but natural.  Nature, by definition, is not under our control.  But bugs are out of our contrl, either, and this is where the analogy works.  This means that we can apply the same techniques."
   ]
  },
  {
   "cell_type": "markdown",
   "metadata": {
    "slideshow": {
     "slide_type": "subslide"
    }
   },
   "source": [
    "### Finding a Hypothesis"
   ]
  },
  {
   "cell_type": "markdown",
   "metadata": {
    "slideshow": {
     "slide_type": "fragment"
    }
   },
   "source": [
    "Let us apply the scientific method to our Python program which removes HTML tags.  First of all, let us recall the problem – `remove_html_markup()` works for some inputs, but fails on others."
   ]
  },
  {
   "cell_type": "code",
   "execution_count": 38,
   "metadata": {
    "slideshow": {
     "slide_type": "fragment"
    }
   },
   "outputs": [
    {
     "name": "stdout",
     "output_type": "stream",
     "text": [
      "<b>foo</b>           foo\n",
      "<b>\"foo\"</b>         foo\n",
      "\"<b>foo</b>\"         <b>foo</b>\n",
      "<\"b\">foo</\"b\">       foo\n"
     ]
    }
   ],
   "source": [
    "for html in [ '<b>foo</b>', '<b>\"foo\"</b>', '\"<b>foo</b>\"', '<\"b\">foo</\"b\">']:\n",
    "    result = remove_html_markup(html)\n",
    "    print(\"%-20s %s\" % (html, result))"
   ]
  },
  {
   "cell_type": "markdown",
   "metadata": {
    "slideshow": {
     "slide_type": "subslide"
    }
   },
   "source": [
    "Input #1 and #4 work as expected, the others do not. We can write these down in a table, such that we can always look back at our previous results:\n",
    "\n",
    "|Input|Expectation|Output|Outcome|\n",
    "|-----|-----------|------|-------|\n",
    "|`<b>foo</b>`|`foo`|`foo`|✔|\n",
    "|`<b>\"foo\"</b>`|`\"foo\"`|`foo`|✘|\n",
    "|`\"<b>foo</b>\"`|`\"foo\"`|`<b>foo</b>`|✘|\n",
    "|`<\"b\">foo</\"b\">`|`foo`|`foo`|✔|\n"
   ]
  },
  {
   "cell_type": "code",
   "execution_count": 39,
   "metadata": {
    "slideshow": {
     "slide_type": "subslide"
    }
   },
   "outputs": [
    {
     "data": {
      "text/html": [
       "\n",
       "    \n",
       "    <script>\n",
       "    function answer(quiz_id) {\n",
       "        ans = 0;\n",
       "        for (i = 1;; i++) {\n",
       "            checkbox = document.getElementById(quiz_id + \"-\" + i.toString());\n",
       "            if (!checkbox)\n",
       "                break;\n",
       "            if (checkbox.checked)\n",
       "                ans |= (1 << i);\n",
       "        }\n",
       "        return ans;\n",
       "    }\n",
       "    function check_selection(quiz_id, correct_answer, multiple_choice) {\n",
       "        given_answer = answer(quiz_id);\n",
       "        if (given_answer == correct_answer)\n",
       "        {\n",
       "            document.getElementById(quiz_id + \"-submit\").value = \"Correct!\";\n",
       "            for (i = 1;; i++) {\n",
       "                checkbox = document.getElementById(quiz_id + \"-\" + i.toString());\n",
       "                label = document.getElementById(quiz_id + \"-\" + i.toString() + \"-label\")\n",
       "                if (!checkbox)\n",
       "                    break;\n",
       "    \n",
       "                if (checkbox.checked) {\n",
       "                    label.style.fontWeight = \"bold\";\n",
       "                }\n",
       "                else {\n",
       "                    label.style.textDecoration = \"line-through\";\n",
       "                }\n",
       "            }\n",
       "        }\n",
       "        else \n",
       "        {\n",
       "            document.getElementById(quiz_id + \"-submit\").value = \"Incorrect!\";\n",
       "            if (!multiple_choice) {\n",
       "                for (i = 1;; i++) {\n",
       "                    checkbox = document.getElementById(quiz_id + \"-\" + i.toString());\n",
       "                    label = document.getElementById(quiz_id + \"-\" + i.toString() + \"-label\")\n",
       "\n",
       "                    if (!checkbox)\n",
       "                        break;\n",
       "                    if (checkbox.checked) {\n",
       "                        label.style.textDecoration = \"line-through\";\n",
       "                    }\n",
       "                }\n",
       "            }\n",
       "        }\n",
       "    }\n",
       "    function clear_selection(quiz_id) {\n",
       "        document.getElementById(quiz_id + \"-submit\").value = \"Submit\";\n",
       "    }\n",
       "    </script>\n",
       "    \n",
       "    <div class=\"quiz\">\n",
       "    <h3 class=\"quiz_title\">Quiz</h3>\n",
       "    <p>\n",
       "    <div class=\"quiz_question\">From the difference between success and failure, we can already devise some observations about what's wrong with the output.  Which of these can we turn into general hypotheses?</div>\n",
       "    </p>\n",
       "    <p>\n",
       "    <div class=\"quiz_options\" title=\"Check all that apply.\">\n",
       "    \n",
       "        <input type=\"checkbox\" name=\"40ef61f0-0cb1-11eb-a588-acde48001122\" id=\"40ef61f0-0cb1-11eb-a588-acde48001122-1\" onclick=\"clear_selection('40ef61f0-0cb1-11eb-a588-acde48001122')\">\n",
       "        <label id=\"40ef61f0-0cb1-11eb-a588-acde48001122-1-label\" for=\"40ef61f0-0cb1-11eb-a588-acde48001122-1\">Double quotes are stripped from the tagged input.</label><br>\n",
       "    \n",
       "        <input type=\"checkbox\" name=\"40ef61f0-0cb1-11eb-a588-acde48001122\" id=\"40ef61f0-0cb1-11eb-a588-acde48001122-2\" onclick=\"clear_selection('40ef61f0-0cb1-11eb-a588-acde48001122')\">\n",
       "        <label id=\"40ef61f0-0cb1-11eb-a588-acde48001122-2-label\" for=\"40ef61f0-0cb1-11eb-a588-acde48001122-2\">Tags in double quotes are not stripped.</label><br>\n",
       "    \n",
       "        <input type=\"checkbox\" name=\"40ef61f0-0cb1-11eb-a588-acde48001122\" id=\"40ef61f0-0cb1-11eb-a588-acde48001122-3\" onclick=\"clear_selection('40ef61f0-0cb1-11eb-a588-acde48001122')\">\n",
       "        <label id=\"40ef61f0-0cb1-11eb-a588-acde48001122-3-label\" for=\"40ef61f0-0cb1-11eb-a588-acde48001122-3\">The tag '&lt;b&gt;' is always stripped from the input.</label><br>\n",
       "    \n",
       "        <input type=\"checkbox\" name=\"40ef61f0-0cb1-11eb-a588-acde48001122\" id=\"40ef61f0-0cb1-11eb-a588-acde48001122-4\" onclick=\"clear_selection('40ef61f0-0cb1-11eb-a588-acde48001122')\">\n",
       "        <label id=\"40ef61f0-0cb1-11eb-a588-acde48001122-4-label\" for=\"40ef61f0-0cb1-11eb-a588-acde48001122-4\">Four-letter words are stripped.</label><br>\n",
       "    \n",
       "    </div>\n",
       "    </p>\n",
       "    <input id=\"40ef61f0-0cb1-11eb-a588-acde48001122-submit\" type=\"submit\" value=\"Submit\" onclick=\"check_selection('40ef61f0-0cb1-11eb-a588-acde48001122', 6, 1)\">\n",
       "    </div>\n",
       "    "
      ],
      "text/plain": [
       "<IPython.core.display.HTML object>"
      ]
     },
     "execution_count": 39,
     "metadata": {},
     "output_type": "execute_result"
    }
   ],
   "source": [
    "quiz(\"From the difference between success and failure, we can already devise some observations about what's wrong with the output.  Which of these can we turn into general hypotheses?\",\n",
    "    [\"Double quotes are stripped from the tagged input.\", \n",
    "     \"Tags in double quotes are not stripped.\",\n",
    "     \"The tag '&lt;b&gt;' is always stripped from the input.\",\n",
    "     \"Four-letter words are stripped.\"], [298 % 33, 1234 % 616])"
   ]
  },
  {
   "cell_type": "markdown",
   "metadata": {
    "slideshow": {
     "slide_type": "subslide"
    }
   },
   "source": [
    "### Testing a Hypothesis\n",
    "\n",
    "The hypotheses that remain are:\n",
    "\n",
    "1. Double quotes are stripped from the tagged input.\n",
    "2. Tags in double quotes are not stripped."
   ]
  },
  {
   "cell_type": "markdown",
   "metadata": {
    "slideshow": {
     "slide_type": "fragment"
    }
   },
   "source": [
    "These may be two separate issues, but chances are they are tied to each other.  Let's focus on 1., because it is simpler.  Does it hold for all inputs, even untagged ones?  Our hypothesis becomes\n",
    "\n",
    "1. Double quotes are stripped from the ~~tagged~~ input."
   ]
  },
  {
   "cell_type": "markdown",
   "metadata": {
    "slideshow": {
     "slide_type": "subslide"
    }
   },
   "source": [
    "Let's devise an experiment to validate this.  If we feed the string\n",
    "```html\n",
    "\"foo\"\n",
    "```\n",
    "(including the double quotes) into `remove_html_markup()`, we should obtain\n",
    "```html\n",
    "\"foo\"\n",
    "```\n",
    "as result – that is, the output should be the unchanged input. However, if our hypothesis 1. is correct, we should obtain\n",
    "```html\n",
    "foo\n",
    "```\n",
    "as result – that is, \"Double quotes are stripped from the input\" as predicted by the hypothesis."
   ]
  },
  {
   "cell_type": "markdown",
   "metadata": {
    "slideshow": {
     "slide_type": "subslide"
    }
   },
   "source": [
    "We can very easily test this hypothesis:"
   ]
  },
  {
   "cell_type": "code",
   "execution_count": 40,
   "metadata": {
    "slideshow": {
     "slide_type": "fragment"
    }
   },
   "outputs": [
    {
     "data": {
      "text/plain": [
       "'foo'"
      ]
     },
     "execution_count": 40,
     "metadata": {},
     "output_type": "execute_result"
    }
   ],
   "source": [
    "remove_html_markup('\"foo\"')"
   ]
  },
  {
   "cell_type": "markdown",
   "metadata": {
    "slideshow": {
     "slide_type": "fragment"
    }
   },
   "source": [
    "Our hypothesis is confirmed! We can add this to our list of observations."
   ]
  },
  {
   "cell_type": "markdown",
   "metadata": {
    "slideshow": {
     "slide_type": "subslide"
    }
   },
   "source": [
    "|Input|Expectation|Output|Outcome|\n",
    "|-----|-----------|------|-------|\n",
    "|`<b>foo</b>`|`foo`|`foo`|✔|\n",
    "|`<b>\"foo\"</b>`|`\"foo\"`|`foo`|✘|\n",
    "|`\"<b>foo</b>\"`|`\"foo\"`|`<b>foo</b>`|✘|\n",
    "|`<\"b\">foo</\"b\">`|`foo`|`foo`|✔|\n",
    "|`\"foo\"`|`\"foo\"`|`foo`|✘|\n"
   ]
  },
  {
   "cell_type": "markdown",
   "metadata": {
    "slideshow": {
     "slide_type": "fragment"
    }
   },
   "source": [
    "You can try out the hypothesis with more inputs – and it remains valid. Any non-markup input that contains double quotes will have these stripped."
   ]
  },
  {
   "cell_type": "markdown",
   "metadata": {
    "slideshow": {
     "slide_type": "subslide"
    }
   },
   "source": [
    "Where does that quote-stripping come from?  This is where we need to explore the cause-effect chain.  The only place in `remove_html_markup()` where quotes are handled is this line:\n",
    "\n",
    "```python\n",
    "        elif c == '\"' or c == \"'\" and tag:\n",
    "             quote = not quote\n",
    "```\n",
    "\n",
    "So, quotes should be removed only if `tag` is set. However, `tag` can be set only if the input contains a markup tag, which is not the case for a simple input like `\"foo\"`. Hence, what we observe is actually _impossible._ Yet, it happens."
   ]
  },
  {
   "cell_type": "markdown",
   "metadata": {
    "slideshow": {
     "slide_type": "subslide"
    }
   },
   "source": [
    "### Refining a Hypothesis\n",
    "\n",
    "Debugging is a game of falsifying assumptions. You assume the code works – it doesn't. You assume the `tag` flag cannot be set – yet it may be. What do we do? Again, we create a hypothesis:\n",
    "\n",
    "1. The error is due to `tag` being set."
   ]
  },
  {
   "cell_type": "markdown",
   "metadata": {
    "slideshow": {
     "slide_type": "subslide"
    }
   },
   "source": [
    "How do we know whether tag is being set?  Let me introduce one of the most powerful debugging tools ever invented, the `assert` statement.  The statement\n",
    "```python\n",
    "assert cond\n",
    "```\n",
    "evaluates the given condition `cond` and\n",
    "\n",
    "* if it holds: proceed as usual\n",
    "* if `cond` does not hold: throw an exception\n",
    "\n",
    "An `assert` statement _encodes our assumptions_ and as such, should never fail. If it does, well, then something is wrong."
   ]
  },
  {
   "cell_type": "markdown",
   "metadata": {
    "slideshow": {
     "slide_type": "subslide"
    }
   },
   "source": [
    "Using `assert`, we can check the value of `tag` all through the loop:"
   ]
  },
  {
   "cell_type": "code",
   "execution_count": 41,
   "metadata": {
    "slideshow": {
     "slide_type": "subslide"
    }
   },
   "outputs": [],
   "source": [
    "def remove_html_markup_with_tag_assert(s):\n",
    "    tag   = False\n",
    "    quote = False\n",
    "    out   = \"\"\n",
    "\n",
    "    for c in s:\n",
    "        assert not tag  # <=== Just added\n",
    "\n",
    "        if c == '<' and not quote:\n",
    "            tag = True\n",
    "        elif c == '>' and not quote:\n",
    "            tag = False\n",
    "        elif c == '\"' or c == \"'\" and tag:\n",
    "            quote = not quote\n",
    "        elif not tag:\n",
    "            out = out + c\n",
    "    \n",
    "    return out"
   ]
  },
  {
   "cell_type": "markdown",
   "metadata": {
    "slideshow": {
     "slide_type": "subslide"
    }
   },
   "source": [
    "Our expectation is that this assertion would fail. So, do we actually get an exception? Try it out for yourself by uncommenting the following line:"
   ]
  },
  {
   "cell_type": "code",
   "execution_count": 42,
   "metadata": {
    "slideshow": {
     "slide_type": "fragment"
    }
   },
   "outputs": [],
   "source": [
    "# remove_html_markup_with_tag_assert('\"foo\"')"
   ]
  },
  {
   "cell_type": "code",
   "execution_count": 43,
   "metadata": {
    "slideshow": {
     "slide_type": "fragment"
    }
   },
   "outputs": [
    {
     "data": {
      "text/html": [
       "\n",
       "    \n",
       "    <script>\n",
       "    function answer(quiz_id) {\n",
       "        ans = 0;\n",
       "        for (i = 1;; i++) {\n",
       "            checkbox = document.getElementById(quiz_id + \"-\" + i.toString());\n",
       "            if (!checkbox)\n",
       "                break;\n",
       "            if (checkbox.checked)\n",
       "                ans |= (1 << i);\n",
       "        }\n",
       "        return ans;\n",
       "    }\n",
       "    function check_selection(quiz_id, correct_answer, multiple_choice) {\n",
       "        given_answer = answer(quiz_id);\n",
       "        if (given_answer == correct_answer)\n",
       "        {\n",
       "            document.getElementById(quiz_id + \"-submit\").value = \"Correct!\";\n",
       "            for (i = 1;; i++) {\n",
       "                checkbox = document.getElementById(quiz_id + \"-\" + i.toString());\n",
       "                label = document.getElementById(quiz_id + \"-\" + i.toString() + \"-label\")\n",
       "                if (!checkbox)\n",
       "                    break;\n",
       "    \n",
       "                if (checkbox.checked) {\n",
       "                    label.style.fontWeight = \"bold\";\n",
       "                }\n",
       "                else {\n",
       "                    label.style.textDecoration = \"line-through\";\n",
       "                }\n",
       "            }\n",
       "        }\n",
       "        else \n",
       "        {\n",
       "            document.getElementById(quiz_id + \"-submit\").value = \"Incorrect!\";\n",
       "            if (!multiple_choice) {\n",
       "                for (i = 1;; i++) {\n",
       "                    checkbox = document.getElementById(quiz_id + \"-\" + i.toString());\n",
       "                    label = document.getElementById(quiz_id + \"-\" + i.toString() + \"-label\")\n",
       "\n",
       "                    if (!checkbox)\n",
       "                        break;\n",
       "                    if (checkbox.checked) {\n",
       "                        label.style.textDecoration = \"line-through\";\n",
       "                    }\n",
       "                }\n",
       "            }\n",
       "        }\n",
       "    }\n",
       "    function clear_selection(quiz_id) {\n",
       "        document.getElementById(quiz_id + \"-submit\").value = \"Submit\";\n",
       "    }\n",
       "    </script>\n",
       "    \n",
       "    <div class=\"quiz\">\n",
       "    <h3 class=\"quiz_title\">Quiz</h3>\n",
       "    <p>\n",
       "    <div class=\"quiz_question\">What happens after inserting the above assertion?</div>\n",
       "    </p>\n",
       "    <p>\n",
       "    <div class=\"quiz_options\" title=\"Pick a choice.\">\n",
       "    \n",
       "        <input type=\"radio\" name=\"40f4f028-0cb1-11eb-8163-acde48001122\" id=\"40f4f028-0cb1-11eb-8163-acde48001122-1\" onclick=\"clear_selection('40f4f028-0cb1-11eb-8163-acde48001122')\">\n",
       "        <label id=\"40f4f028-0cb1-11eb-8163-acde48001122-1-label\" for=\"40f4f028-0cb1-11eb-8163-acde48001122-1\">The program raises an exception. (i.e., tag is set)</label><br>\n",
       "    \n",
       "        <input type=\"radio\" name=\"40f4f028-0cb1-11eb-8163-acde48001122\" id=\"40f4f028-0cb1-11eb-8163-acde48001122-2\" onclick=\"clear_selection('40f4f028-0cb1-11eb-8163-acde48001122')\">\n",
       "        <label id=\"40f4f028-0cb1-11eb-8163-acde48001122-2-label\" for=\"40f4f028-0cb1-11eb-8163-acde48001122-2\">The output is as before, i.e., foo without quotes. (which means that tag is not set)</label><br>\n",
       "    \n",
       "    </div>\n",
       "    </p>\n",
       "    <input id=\"40f4f028-0cb1-11eb-8163-acde48001122-submit\" type=\"submit\" value=\"Submit\" onclick=\"check_selection('40f4f028-0cb1-11eb-8163-acde48001122', 4, 0)\">\n",
       "    </div>\n",
       "    "
      ],
      "text/plain": [
       "<IPython.core.display.HTML object>"
      ]
     },
     "execution_count": 43,
     "metadata": {},
     "output_type": "execute_result"
    }
   ],
   "source": [
    "quiz(\"What happens after inserting the above assertion?\",\n",
    "    [\"The program raises an exception. (i.e., tag is set)\",\n",
    "     \"The output is as before, i.e., foo without quotes. (which means that tag is not set)\"],\n",
    "     2)"
   ]
  },
  {
   "cell_type": "markdown",
   "metadata": {
    "slideshow": {
     "slide_type": "fragment"
    }
   },
   "source": [
    "Here's the solution:"
   ]
  },
  {
   "cell_type": "code",
   "execution_count": 44,
   "metadata": {
    "slideshow": {
     "slide_type": "fragment"
    }
   },
   "outputs": [
    {
     "data": {
      "text/plain": [
       "'foo'"
      ]
     },
     "execution_count": 44,
     "metadata": {},
     "output_type": "execute_result"
    }
   ],
   "source": [
    "with ExpectError():\n",
    "    result = remove_html_markup_with_tag_assert('\"foo\"')\n",
    "result"
   ]
  },
  {
   "cell_type": "markdown",
   "metadata": {
    "slideshow": {
     "slide_type": "subslide"
    }
   },
   "source": [
    "### Refuting a Hypothesis\n",
    "\n",
    "We did not get an exception, hence we reject our hypothesis:\n",
    "\n",
    "1. ~~The error is due to `tag` being set.~~\n"
   ]
  },
  {
   "cell_type": "markdown",
   "metadata": {
    "slideshow": {
     "slide_type": "subslide"
    }
   },
   "source": [
    "Again, let's go back to the only place in our code where quotes are handled:\n",
    "\n",
    "```python\n",
    "        elif c == '\"' or c == \"'\" and tag:\n",
    "             quote = not quote\n",
    "```\n",
    "\n",
    "Because of the assertion, we already know that `tag` is always False.  Hence, this condition should never hold either."
   ]
  },
  {
   "cell_type": "markdown",
   "metadata": {
    "slideshow": {
     "slide_type": "subslide"
    }
   },
   "source": [
    "But maybe there's something wrong with the condition such that it holds? Here's our hypothesis:\n",
    "\n",
    "1. The error is due to the quote condition evaluating to true\n"
   ]
  },
  {
   "cell_type": "markdown",
   "metadata": {
    "slideshow": {
     "slide_type": "fragment"
    }
   },
   "source": [
    "If the condition evaluates to true, then `quote` should be set.  We could now go and assert that `quote` is false; but we only care about the condition.  So we insert an assertion that assumes that setting the code setting the `quote` flag is never reached:"
   ]
  },
  {
   "cell_type": "code",
   "execution_count": 45,
   "metadata": {
    "slideshow": {
     "slide_type": "subslide"
    }
   },
   "outputs": [],
   "source": [
    "def remove_html_markup_with_quote_assert(s):\n",
    "    tag   = False\n",
    "    quote = False\n",
    "    out   = \"\"\n",
    "\n",
    "    for c in s:\n",
    "        if c == '<' and not quote:\n",
    "            tag = True\n",
    "        elif c == '>' and not quote:\n",
    "            tag = False\n",
    "        elif c == '\"' or c == \"'\" and tag:\n",
    "            assert False  # <=== Just added\n",
    "            quote = not quote\n",
    "        elif not tag:\n",
    "            out = out + c\n",
    "    \n",
    "    return out"
   ]
  },
  {
   "cell_type": "markdown",
   "metadata": {
    "slideshow": {
     "slide_type": "subslide"
    }
   },
   "source": [
    "Our expectation this time again is that the assertion fails. So, do we get an exception this time? Try it out for yourself by uncommenting the following line:"
   ]
  },
  {
   "cell_type": "code",
   "execution_count": 46,
   "metadata": {
    "slideshow": {
     "slide_type": "fragment"
    }
   },
   "outputs": [],
   "source": [
    "# remove_html_markup_with_quote_assert('\"foo\"')"
   ]
  },
  {
   "cell_type": "code",
   "execution_count": 47,
   "metadata": {
    "slideshow": {
     "slide_type": "fragment"
    }
   },
   "outputs": [
    {
     "data": {
      "text/html": [
       "\n",
       "    \n",
       "    <script>\n",
       "    function answer(quiz_id) {\n",
       "        ans = 0;\n",
       "        for (i = 1;; i++) {\n",
       "            checkbox = document.getElementById(quiz_id + \"-\" + i.toString());\n",
       "            if (!checkbox)\n",
       "                break;\n",
       "            if (checkbox.checked)\n",
       "                ans |= (1 << i);\n",
       "        }\n",
       "        return ans;\n",
       "    }\n",
       "    function check_selection(quiz_id, correct_answer, multiple_choice) {\n",
       "        given_answer = answer(quiz_id);\n",
       "        if (given_answer == correct_answer)\n",
       "        {\n",
       "            document.getElementById(quiz_id + \"-submit\").value = \"Correct!\";\n",
       "            for (i = 1;; i++) {\n",
       "                checkbox = document.getElementById(quiz_id + \"-\" + i.toString());\n",
       "                label = document.getElementById(quiz_id + \"-\" + i.toString() + \"-label\")\n",
       "                if (!checkbox)\n",
       "                    break;\n",
       "    \n",
       "                if (checkbox.checked) {\n",
       "                    label.style.fontWeight = \"bold\";\n",
       "                }\n",
       "                else {\n",
       "                    label.style.textDecoration = \"line-through\";\n",
       "                }\n",
       "            }\n",
       "        }\n",
       "        else \n",
       "        {\n",
       "            document.getElementById(quiz_id + \"-submit\").value = \"Incorrect!\";\n",
       "            if (!multiple_choice) {\n",
       "                for (i = 1;; i++) {\n",
       "                    checkbox = document.getElementById(quiz_id + \"-\" + i.toString());\n",
       "                    label = document.getElementById(quiz_id + \"-\" + i.toString() + \"-label\")\n",
       "\n",
       "                    if (!checkbox)\n",
       "                        break;\n",
       "                    if (checkbox.checked) {\n",
       "                        label.style.textDecoration = \"line-through\";\n",
       "                    }\n",
       "                }\n",
       "            }\n",
       "        }\n",
       "    }\n",
       "    function clear_selection(quiz_id) {\n",
       "        document.getElementById(quiz_id + \"-submit\").value = \"Submit\";\n",
       "    }\n",
       "    </script>\n",
       "    \n",
       "    <div class=\"quiz\">\n",
       "    <h3 class=\"quiz_title\">Quiz</h3>\n",
       "    <p>\n",
       "    <div class=\"quiz_question\">What happens after inserting the 'assert' tag?</div>\n",
       "    </p>\n",
       "    <p>\n",
       "    <div class=\"quiz_options\" title=\"Pick a choice.\">\n",
       "    \n",
       "        <input type=\"radio\" name=\"40f8aa26-0cb1-11eb-9732-acde48001122\" id=\"40f8aa26-0cb1-11eb-9732-acde48001122-1\" onclick=\"clear_selection('40f8aa26-0cb1-11eb-9732-acde48001122')\">\n",
       "        <label id=\"40f8aa26-0cb1-11eb-9732-acde48001122-1-label\" for=\"40f8aa26-0cb1-11eb-9732-acde48001122-1\">The program raises an exception (i.e., the quote condition holds)</label><br>\n",
       "    \n",
       "        <input type=\"radio\" name=\"40f8aa26-0cb1-11eb-9732-acde48001122\" id=\"40f8aa26-0cb1-11eb-9732-acde48001122-2\" onclick=\"clear_selection('40f8aa26-0cb1-11eb-9732-acde48001122')\">\n",
       "        <label id=\"40f8aa26-0cb1-11eb-9732-acde48001122-2-label\" for=\"40f8aa26-0cb1-11eb-9732-acde48001122-2\">The output is still foo (i.e., the quote condition does not hold)</label><br>\n",
       "    \n",
       "    </div>\n",
       "    </p>\n",
       "    <input id=\"40f8aa26-0cb1-11eb-9732-acde48001122-submit\" type=\"submit\" value=\"Submit\" onclick=\"check_selection('40f8aa26-0cb1-11eb-9732-acde48001122', 2, 0)\">\n",
       "    </div>\n",
       "    "
      ],
      "text/plain": [
       "<IPython.core.display.HTML object>"
      ]
     },
     "execution_count": 47,
     "metadata": {},
     "output_type": "execute_result"
    }
   ],
   "source": [
    "quiz(\"What happens after inserting the 'assert' tag?\",\n",
    "[\"The program raises an exception (i.e., the quote condition holds)\",\n",
    " \"The output is still foo (i.e., the quote condition does not hold)\"], 29 % 7)"
   ]
  },
  {
   "cell_type": "markdown",
   "metadata": {
    "slideshow": {
     "slide_type": "fragment"
    }
   },
   "source": [
    "Here's what happens now that we have the `assert` tag:"
   ]
  },
  {
   "cell_type": "code",
   "execution_count": 48,
   "metadata": {
    "slideshow": {
     "slide_type": "subslide"
    }
   },
   "outputs": [
    {
     "name": "stderr",
     "output_type": "stream",
     "text": [
      "Traceback (most recent call last):\n",
      "  File \"<ipython-input-48-9ce255289291>\", line 2, in <module>\n",
      "    result = remove_html_markup_with_quote_assert('\"foo\"')\n",
      "  File \"<ipython-input-45-7c03457dde82>\", line 12, in remove_html_markup_with_quote_assert\n",
      "    assert False  # <=== Just added\n",
      "AssertionError (expected)\n"
     ]
    }
   ],
   "source": [
    "with ExpectError():\n",
    "    result = remove_html_markup_with_quote_assert('\"foo\"')"
   ]
  },
  {
   "cell_type": "markdown",
   "metadata": {
    "slideshow": {
     "slide_type": "subslide"
    }
   },
   "source": [
    "From this observation, we can deduce that our hypothesis is _confirmed_:\n",
    "\n",
    "1. The error is due to the quote condition evaluating to true (CONFIRMED)\n",
    "\n",
    "and the _condition is actually faulty._ It evaluates to True although `tag` is always False:\n",
    "```python\n",
    "        elif c == '\"' or c == \"'\" and tag:\n",
    "             quote = not quote\n",
    "```\n",
    "But this condition holds for single and double quotes.  Is there a difference?"
   ]
  },
  {
   "cell_type": "markdown",
   "metadata": {
    "slideshow": {
     "slide_type": "subslide"
    }
   },
   "source": [
    "Let us see whether our observations generalize towards general quotes:\n",
    "\n",
    "1. ~~Double~~ quotes are stripped from the input.\n"
   ]
  },
  {
   "cell_type": "markdown",
   "metadata": {
    "slideshow": {
     "slide_type": "fragment"
    }
   },
   "source": [
    "We can verify these hypotheses with an additional experiment.  We go back to our original implementation (without any asserts), and then check it:"
   ]
  },
  {
   "cell_type": "code",
   "execution_count": 49,
   "metadata": {
    "slideshow": {
     "slide_type": "fragment"
    }
   },
   "outputs": [
    {
     "data": {
      "text/plain": [
       "\"'foo'\""
      ]
     },
     "execution_count": 49,
     "metadata": {},
     "output_type": "execute_result"
    }
   ],
   "source": [
    "remove_html_markup(\"'foo'\")"
   ]
  },
  {
   "cell_type": "markdown",
   "metadata": {
    "slideshow": {
     "slide_type": "subslide"
    }
   },
   "source": [
    "Surprise: Our hypothesis is rejected and we can add another observation to our table:\n",
    "\n",
    "|Input|Expectation|Output|Outcome|\n",
    "|-----|-----------|------|-------|\n",
    "|`'foo'`|`'foo'`|`'foo'`|✔|\n",
    "\n",
    "So, the condition\n",
    "\n",
    "* becomes True when a double quote is seen\n",
    "* becomes False (as it should) with single quotes"
   ]
  },
  {
   "cell_type": "markdown",
   "metadata": {
    "slideshow": {
     "slide_type": "subslide"
    }
   },
   "source": [
    "At this point, you should have enough material to solve the problem.  How do we have to fix the condition? Here are four alternatives:\n",
    "\n",
    "1. ```python\n",
    "c == \"\" or c == '' and tag\n",
    "```\n",
    "2. ```python\n",
    "c == '\"' or c == \"'\" and not tag\n",
    "```\n",
    "3. ```python\n",
    "(c == '\"' or c == \"'\") and tag\n",
    "```\n",
    "4. Something else"
   ]
  },
  {
   "cell_type": "code",
   "execution_count": 50,
   "metadata": {
    "slideshow": {
     "slide_type": "subslide"
    }
   },
   "outputs": [
    {
     "data": {
      "text/html": [
       "\n",
       "    \n",
       "    <script>\n",
       "    function answer(quiz_id) {\n",
       "        ans = 0;\n",
       "        for (i = 1;; i++) {\n",
       "            checkbox = document.getElementById(quiz_id + \"-\" + i.toString());\n",
       "            if (!checkbox)\n",
       "                break;\n",
       "            if (checkbox.checked)\n",
       "                ans |= (1 << i);\n",
       "        }\n",
       "        return ans;\n",
       "    }\n",
       "    function check_selection(quiz_id, correct_answer, multiple_choice) {\n",
       "        given_answer = answer(quiz_id);\n",
       "        if (given_answer == correct_answer)\n",
       "        {\n",
       "            document.getElementById(quiz_id + \"-submit\").value = \"Correct!\";\n",
       "            for (i = 1;; i++) {\n",
       "                checkbox = document.getElementById(quiz_id + \"-\" + i.toString());\n",
       "                label = document.getElementById(quiz_id + \"-\" + i.toString() + \"-label\")\n",
       "                if (!checkbox)\n",
       "                    break;\n",
       "    \n",
       "                if (checkbox.checked) {\n",
       "                    label.style.fontWeight = \"bold\";\n",
       "                }\n",
       "                else {\n",
       "                    label.style.textDecoration = \"line-through\";\n",
       "                }\n",
       "            }\n",
       "        }\n",
       "        else \n",
       "        {\n",
       "            document.getElementById(quiz_id + \"-submit\").value = \"Incorrect!\";\n",
       "            if (!multiple_choice) {\n",
       "                for (i = 1;; i++) {\n",
       "                    checkbox = document.getElementById(quiz_id + \"-\" + i.toString());\n",
       "                    label = document.getElementById(quiz_id + \"-\" + i.toString() + \"-label\")\n",
       "\n",
       "                    if (!checkbox)\n",
       "                        break;\n",
       "                    if (checkbox.checked) {\n",
       "                        label.style.textDecoration = \"line-through\";\n",
       "                    }\n",
       "                }\n",
       "            }\n",
       "        }\n",
       "    }\n",
       "    function clear_selection(quiz_id) {\n",
       "        document.getElementById(quiz_id + \"-submit\").value = \"Submit\";\n",
       "    }\n",
       "    </script>\n",
       "    \n",
       "    <div class=\"quiz\">\n",
       "    <h3 class=\"quiz_title\">Quiz</h3>\n",
       "    <p>\n",
       "    <div class=\"quiz_question\">How should the condition read?</div>\n",
       "    </p>\n",
       "    <p>\n",
       "    <div class=\"quiz_options\" title=\"Pick a choice.\">\n",
       "    \n",
       "        <input type=\"radio\" name=\"40fc3a38-0cb1-11eb-b36c-acde48001122\" id=\"40fc3a38-0cb1-11eb-b36c-acde48001122-1\" onclick=\"clear_selection('40fc3a38-0cb1-11eb-b36c-acde48001122')\">\n",
       "        <label id=\"40fc3a38-0cb1-11eb-b36c-acde48001122-1-label\" for=\"40fc3a38-0cb1-11eb-b36c-acde48001122-1\">Choice 1</label><br>\n",
       "    \n",
       "        <input type=\"radio\" name=\"40fc3a38-0cb1-11eb-b36c-acde48001122\" id=\"40fc3a38-0cb1-11eb-b36c-acde48001122-2\" onclick=\"clear_selection('40fc3a38-0cb1-11eb-b36c-acde48001122')\">\n",
       "        <label id=\"40fc3a38-0cb1-11eb-b36c-acde48001122-2-label\" for=\"40fc3a38-0cb1-11eb-b36c-acde48001122-2\">Choice 2</label><br>\n",
       "    \n",
       "        <input type=\"radio\" name=\"40fc3a38-0cb1-11eb-b36c-acde48001122\" id=\"40fc3a38-0cb1-11eb-b36c-acde48001122-3\" onclick=\"clear_selection('40fc3a38-0cb1-11eb-b36c-acde48001122')\">\n",
       "        <label id=\"40fc3a38-0cb1-11eb-b36c-acde48001122-3-label\" for=\"40fc3a38-0cb1-11eb-b36c-acde48001122-3\">Choice 3</label><br>\n",
       "    \n",
       "        <input type=\"radio\" name=\"40fc3a38-0cb1-11eb-b36c-acde48001122\" id=\"40fc3a38-0cb1-11eb-b36c-acde48001122-4\" onclick=\"clear_selection('40fc3a38-0cb1-11eb-b36c-acde48001122')\">\n",
       "        <label id=\"40fc3a38-0cb1-11eb-b36c-acde48001122-4-label\" for=\"40fc3a38-0cb1-11eb-b36c-acde48001122-4\">Choice 4</label><br>\n",
       "    \n",
       "    </div>\n",
       "    </p>\n",
       "    <input id=\"40fc3a38-0cb1-11eb-b36c-acde48001122-submit\" type=\"submit\" value=\"Submit\" onclick=\"check_selection('40fc3a38-0cb1-11eb-b36c-acde48001122', 8, 0)\">\n",
       "    </div>\n",
       "    "
      ],
      "text/plain": [
       "<IPython.core.display.HTML object>"
      ]
     },
     "execution_count": 50,
     "metadata": {},
     "output_type": "execute_result"
    }
   ],
   "source": [
    "quiz(\"How should the condition read?\", [\"Choice 1\", \"Choice 2\", \"Choice 3\", \"Choice 4\"], 399 % 4)"
   ]
  },
  {
   "cell_type": "markdown",
   "metadata": {
    "slideshow": {
     "slide_type": "slide"
    }
   },
   "source": [
    "## Fixing the Bug"
   ]
  },
  {
   "cell_type": "markdown",
   "metadata": {
    "slideshow": {
     "slide_type": "fragment"
    }
   },
   "source": [
    "So, you have spotted the defect: In Python (and most other languages), `and` takes precedence over `or`, which is why the condition is wrong.  It should read:\n",
    "\n",
    "```python\n",
    "(c == '\"' or c == \"'\") and tag\n",
    "```\n",
    "\n",
    "(Actually, good programmers rarely depend on precedence; it is considered good style to use parentheses lavishly.)"
   ]
  },
  {
   "cell_type": "markdown",
   "metadata": {
    "slideshow": {
     "slide_type": "subslide"
    }
   },
   "source": [
    "So, our hypothesis now has become\n",
    "\n",
    "1. The error is due to the quote condition evaluating to true\n"
   ]
  },
  {
   "cell_type": "markdown",
   "metadata": {
    "slideshow": {
     "slide_type": "subslide"
    }
   },
   "source": [
    "Is this our final hypothesis?  We can check our earlier examples whether they should now work well:\n",
    "\n",
    "\n",
    "|Input|Expectation|Output|Outcome|\n",
    "|-----|-----------|------|-------|\n",
    "|`<b>foo</b>`|`foo`|`foo`|✔|\n",
    "|`<b>\"foo\"</b>`|`\"foo\"`|`foo`|✘|\n",
    "|`\"<b>foo</b>\"`|`\"foo\"`|`<b>foo</b>`|✘|\n",
    "|`<\"b\">foo</\"b\">`|`foo`|`foo`|✔|\n",
    "|`\"foo\"`|`'foo'`|`foo`|✘|\n",
    "|`'foo'`|`'foo'`|`'foo'`|✔|\n",
    "\n",
    "In all of these examples, the `quote` flag should now be set outside of tags; hence, everything should work as expected."
   ]
  },
  {
   "cell_type": "markdown",
   "metadata": {
    "slideshow": {
     "slide_type": "subslide"
    }
   },
   "source": [
    "In terms of the scientific process, we now have a *theory* – a hypothesis that\n",
    "\n",
    "* is consistent with all earlier observations\n",
    "* predicts future observations (in our case: correct behavior)\n",
    "\n",
    "For debugging, our problems are usually to small for a big word like theory, so we use the word *diagnosis* instead.  You should start to fix your code if and only if you have a diagnosis."
   ]
  },
  {
   "cell_type": "markdown",
   "metadata": {
    "slideshow": {
     "slide_type": "fragment"
    }
   },
   "source": [
    "So we actually go and fix the code accordingly:"
   ]
  },
  {
   "cell_type": "code",
   "execution_count": 51,
   "metadata": {
    "slideshow": {
     "slide_type": "subslide"
    }
   },
   "outputs": [],
   "source": [
    "def remove_html_markup(s):\n",
    "    tag   = False\n",
    "    quote = False\n",
    "    out   = \"\"\n",
    "\n",
    "    for c in s:\n",
    "        if c == '<' and not quote:\n",
    "            tag = True\n",
    "        elif c == '>' and not quote:\n",
    "            tag = False\n",
    "        elif (c == '\"' or c == \"'\") and tag:  # <-- FIX\n",
    "            quote = not quote\n",
    "        elif not tag:\n",
    "            out = out + c\n",
    "    \n",
    "    return out"
   ]
  },
  {
   "cell_type": "markdown",
   "metadata": {
    "slideshow": {
     "slide_type": "subslide"
    }
   },
   "source": [
    "We verify that the fix was successful by running our earlier tests. Not only should the previously failing tests now pass, the previously passing tests also should not be affected. Fortunately, all tests now pass:"
   ]
  },
  {
   "cell_type": "code",
   "execution_count": 52,
   "metadata": {
    "slideshow": {
     "slide_type": "fragment"
    }
   },
   "outputs": [],
   "source": [
    "assert remove_html_markup(\"Here's some <strong>strong argument</strong>.\") == \"Here's some strong argument.\"\n",
    "assert remove_html_markup('<input type=\"text\" value=\"<your name>\">') == \"\"\n",
    "assert remove_html_markup('<b>foo</b>') == 'foo'\n",
    "assert remove_html_markup('<b>\"foo\"</b>') == '\"foo\"'\n",
    "assert remove_html_markup('\"<b>foo</b>\"') == '\"foo\"'\n",
    "assert remove_html_markup('<\"b\">foo</\"b\">') == 'foo'    "
   ]
  },
  {
   "cell_type": "markdown",
   "metadata": {
    "slideshow": {
     "slide_type": "fragment"
    }
   },
   "source": [
    "So, the hypothesis was a theory after all, and our diagnosis was correct."
   ]
  },
  {
   "cell_type": "markdown",
   "metadata": {
    "slideshow": {
     "slide_type": "slide"
    }
   },
   "source": [
    "## Alternate Paths\n",
    "\n",
    "Note that there are many ways by which we can get to the defect.  We could also have started with our other hypothesis\n",
    "\n",
    "2. Tags in double quotes are not stripped\n",
    "\n",
    "and by reasoning and experiments, we would have reached the same conclusion that the condition is faulty:\n",
    "\n",
    "* To strip tags, the `tag` flag must be set (but it is not).\n",
    "* To set the `tag` flag, the `quote` variable must not be set (but it is).\n",
    "* The `quote` flag is set under the given condition (which thus must be faulty).\n"
   ]
  },
  {
   "cell_type": "markdown",
   "metadata": {
    "slideshow": {
     "slide_type": "subslide"
    }
   },
   "source": [
    "But just fixing is not enough. We also must make sure the error does not occur again. How can we do that? With our assertions, above, we already have a test suite that should catch several errors – but not all.\n",
    "\n",
    "To be 100% sure, we could add an assertion to `remove_html_markup()` that checks the final result for correctness. Unfortunately, writing such an assertion is just as complex as writing the function itself.\n",
    "\n",
    "There is one assertion, though, which could be placed in the loop body to catch this kind of errors, and which could remain in the code. Which is it?"
   ]
  },
  {
   "cell_type": "code",
   "execution_count": 53,
   "metadata": {
    "slideshow": {
     "slide_type": "subslide"
    }
   },
   "outputs": [
    {
     "data": {
      "text/html": [
       "\n",
       "    \n",
       "    <script>\n",
       "    function answer(quiz_id) {\n",
       "        ans = 0;\n",
       "        for (i = 1;; i++) {\n",
       "            checkbox = document.getElementById(quiz_id + \"-\" + i.toString());\n",
       "            if (!checkbox)\n",
       "                break;\n",
       "            if (checkbox.checked)\n",
       "                ans |= (1 << i);\n",
       "        }\n",
       "        return ans;\n",
       "    }\n",
       "    function check_selection(quiz_id, correct_answer, multiple_choice) {\n",
       "        given_answer = answer(quiz_id);\n",
       "        if (given_answer == correct_answer)\n",
       "        {\n",
       "            document.getElementById(quiz_id + \"-submit\").value = \"Correct!\";\n",
       "            for (i = 1;; i++) {\n",
       "                checkbox = document.getElementById(quiz_id + \"-\" + i.toString());\n",
       "                label = document.getElementById(quiz_id + \"-\" + i.toString() + \"-label\")\n",
       "                if (!checkbox)\n",
       "                    break;\n",
       "    \n",
       "                if (checkbox.checked) {\n",
       "                    label.style.fontWeight = \"bold\";\n",
       "                }\n",
       "                else {\n",
       "                    label.style.textDecoration = \"line-through\";\n",
       "                }\n",
       "            }\n",
       "        }\n",
       "        else \n",
       "        {\n",
       "            document.getElementById(quiz_id + \"-submit\").value = \"Incorrect!\";\n",
       "            if (!multiple_choice) {\n",
       "                for (i = 1;; i++) {\n",
       "                    checkbox = document.getElementById(quiz_id + \"-\" + i.toString());\n",
       "                    label = document.getElementById(quiz_id + \"-\" + i.toString() + \"-label\")\n",
       "\n",
       "                    if (!checkbox)\n",
       "                        break;\n",
       "                    if (checkbox.checked) {\n",
       "                        label.style.textDecoration = \"line-through\";\n",
       "                    }\n",
       "                }\n",
       "            }\n",
       "        }\n",
       "    }\n",
       "    function clear_selection(quiz_id) {\n",
       "        document.getElementById(quiz_id + \"-submit\").value = \"Submit\";\n",
       "    }\n",
       "    </script>\n",
       "    \n",
       "    <div class=\"quiz\">\n",
       "    <h3 class=\"quiz_title\">Quiz</h3>\n",
       "    <p>\n",
       "    <div class=\"quiz_question\">Which assertion would have caught the problem?</div>\n",
       "    </p>\n",
       "    <p>\n",
       "    <div class=\"quiz_options\" title=\"Pick a choice.\">\n",
       "    \n",
       "        <input type=\"radio\" name=\"40ff8e86-0cb1-11eb-835f-acde48001122\" id=\"40ff8e86-0cb1-11eb-835f-acde48001122-1\" onclick=\"clear_selection('40ff8e86-0cb1-11eb-835f-acde48001122')\">\n",
       "        <label id=\"40ff8e86-0cb1-11eb-835f-acde48001122-1-label\" for=\"40ff8e86-0cb1-11eb-835f-acde48001122-1\">assert quote and not tag</label><br>\n",
       "    \n",
       "        <input type=\"radio\" name=\"40ff8e86-0cb1-11eb-835f-acde48001122\" id=\"40ff8e86-0cb1-11eb-835f-acde48001122-2\" onclick=\"clear_selection('40ff8e86-0cb1-11eb-835f-acde48001122')\">\n",
       "        <label id=\"40ff8e86-0cb1-11eb-835f-acde48001122-2-label\" for=\"40ff8e86-0cb1-11eb-835f-acde48001122-2\">assert quote or not tag</label><br>\n",
       "    \n",
       "        <input type=\"radio\" name=\"40ff8e86-0cb1-11eb-835f-acde48001122\" id=\"40ff8e86-0cb1-11eb-835f-acde48001122-3\" onclick=\"clear_selection('40ff8e86-0cb1-11eb-835f-acde48001122')\">\n",
       "        <label id=\"40ff8e86-0cb1-11eb-835f-acde48001122-3-label\" for=\"40ff8e86-0cb1-11eb-835f-acde48001122-3\">assert tag or not quote</label><br>\n",
       "    \n",
       "        <input type=\"radio\" name=\"40ff8e86-0cb1-11eb-835f-acde48001122\" id=\"40ff8e86-0cb1-11eb-835f-acde48001122-4\" onclick=\"clear_selection('40ff8e86-0cb1-11eb-835f-acde48001122')\">\n",
       "        <label id=\"40ff8e86-0cb1-11eb-835f-acde48001122-4-label\" for=\"40ff8e86-0cb1-11eb-835f-acde48001122-4\">assert tag and not quote</label><br>\n",
       "    \n",
       "    </div>\n",
       "    </p>\n",
       "    <input id=\"40ff8e86-0cb1-11eb-835f-acde48001122-submit\" type=\"submit\" value=\"Submit\" onclick=\"check_selection('40ff8e86-0cb1-11eb-835f-acde48001122', 8, 0)\">\n",
       "    </div>\n",
       "    "
      ],
      "text/plain": [
       "<IPython.core.display.HTML object>"
      ]
     },
     "execution_count": 53,
     "metadata": {},
     "output_type": "execute_result"
    }
   ],
   "source": [
    "quiz(\"Which assertion would have caught the problem?\",\n",
    "    [\"assert quote and not tag\", \"assert quote or not tag\", \"assert tag or not quote\", \"assert tag and not quote\"],\n",
    "    3270 - 3267)"
   ]
  },
  {
   "cell_type": "markdown",
   "metadata": {
    "slideshow": {
     "slide_type": "fragment"
    }
   },
   "source": [
    "Indeed, the statement\n",
    "\n",
    "```python\n",
    "assert tag or not quote\n",
    "```\n",
    "is correct. This excludes the situation of ¬`tag` ∧ `quote` – that is, the `tag` flag is not set, but the `quote` flag is. If you remember our state machine from above, this is actually a state that should never exist:"
   ]
  },
  {
   "cell_type": "code",
   "execution_count": 54,
   "metadata": {
    "slideshow": {
     "slide_type": "fragment"
    }
   },
   "outputs": [
    {
     "data": {
      "image/svg+xml": [
       "<?xml version=\"1.0\" encoding=\"UTF-8\" standalone=\"no\"?>\n",
       "<!DOCTYPE svg PUBLIC \"-//W3C//DTD SVG 1.1//EN\"\n",
       " \"http://www.w3.org/Graphics/SVG/1.1/DTD/svg11.dtd\">\n",
       "<!-- Generated by graphviz version 2.40.1 (20161225.0304)\n",
       " -->\n",
       "<!-- Title: %3 Pages: 1 -->\n",
       "<svg width=\"472pt\" height=\"110pt\"\n",
       " viewBox=\"0.00 0.00 471.68 109.74\" xmlns=\"http://www.w3.org/2000/svg\" xmlns:xlink=\"http://www.w3.org/1999/xlink\">\n",
       "<g id=\"graph0\" class=\"graph\" transform=\"scale(1 1) rotate(0) translate(4 105.7401)\">\n",
       "<title>%3</title>\n",
       "<polygon fill=\"#ffffff\" stroke=\"transparent\" points=\"-4,4 -4,-105.7401 467.6808,-105.7401 467.6808,4 -4,4\"/>\n",
       "<!-- Start -->\n",
       "<g id=\"node1\" class=\"node\">\n",
       "<title>Start</title>\n",
       "<ellipse fill=\"#ffdab9\" stroke=\"#000000\" cx=\"31.1972\" cy=\"-26.8701\" rx=\"31.3957\" ry=\"18\"/>\n",
       "<text text-anchor=\"middle\" x=\"31.1972\" y=\"-23.1701\" font-family=\"Raleway\" font-size=\"14.00\" fill=\"#000000\">Start</text>\n",
       "</g>\n",
       "<!-- ¬ quote\n",
       "¬ tag -->\n",
       "<g id=\"node2\" class=\"node\">\n",
       "<title>¬ quote\n",
       "¬ tag</title>\n",
       "<ellipse fill=\"#ffdab9\" stroke=\"#000000\" cx=\"146.7706\" cy=\"-26.8701\" rx=\"47.2526\" ry=\"26.7407\"/>\n",
       "<text text-anchor=\"middle\" x=\"146.7706\" y=\"-30.6701\" font-family=\"Raleway\" font-size=\"14.00\" fill=\"#000000\">¬ quote</text>\n",
       "<text text-anchor=\"middle\" x=\"146.7706\" y=\"-15.6701\" font-family=\"Raleway\" font-size=\"14.00\" fill=\"#000000\">¬ tag</text>\n",
       "</g>\n",
       "<!-- Start&#45;&gt;¬ quote\n",
       "¬ tag -->\n",
       "<g id=\"edge1\" class=\"edge\">\n",
       "<title>Start&#45;&gt;¬ quote\n",
       "¬ tag</title>\n",
       "<path fill=\"none\" stroke=\"#000000\" d=\"M62.4731,-26.8701C70.8189,-26.8701 80.1068,-26.8701 89.3809,-26.8701\"/>\n",
       "<polygon fill=\"#000000\" stroke=\"#000000\" points=\"89.3939,-30.3702 99.3938,-26.8701 89.3938,-23.3702 89.3939,-30.3702\"/>\n",
       "</g>\n",
       "<!-- ¬ quote\n",
       "¬ tag&#45;&gt;¬ quote\n",
       "¬ tag -->\n",
       "<g id=\"edge2\" class=\"edge\">\n",
       "<title>¬ quote\n",
       "¬ tag&#45;&gt;¬ quote\n",
       "¬ tag</title>\n",
       "<path fill=\"none\" stroke=\"#000000\" d=\"M134.8175,-53.1406C134.2862,-63.2978 138.2706,-71.7401 146.7706,-71.7401 152.2159,-71.7401 155.808,-68.2754 157.5469,-63.1146\"/>\n",
       "<polygon fill=\"#000000\" stroke=\"#000000\" points=\"161.0278,-63.4818 158.7237,-53.1406 154.076,-62.6615 161.0278,-63.4818\"/>\n",
       "<text text-anchor=\"middle\" x=\"146.7706\" y=\"-90.5401\" font-family=\"Raleway\" font-size=\"14.00\" fill=\"#000000\">¬ &#39;&lt;&#39;</text>\n",
       "<text text-anchor=\"middle\" x=\"146.7706\" y=\"-75.5401\" font-family=\"Raleway\" font-size=\"14.00\" fill=\"#000000\">add character</text>\n",
       "</g>\n",
       "<!-- ¬ quote\n",
       "tag -->\n",
       "<g id=\"node3\" class=\"node\">\n",
       "<title>¬ quote\n",
       "tag</title>\n",
       "<ellipse fill=\"#ffdab9\" stroke=\"#000000\" cx=\"291.5229\" cy=\"-26.8701\" rx=\"47.2526\" ry=\"26.7407\"/>\n",
       "<text text-anchor=\"middle\" x=\"291.5229\" y=\"-30.6701\" font-family=\"Raleway\" font-size=\"14.00\" fill=\"#000000\">¬ quote</text>\n",
       "<text text-anchor=\"middle\" x=\"291.5229\" y=\"-15.6701\" font-family=\"Raleway\" font-size=\"14.00\" fill=\"#000000\">tag</text>\n",
       "</g>\n",
       "<!-- ¬ quote\n",
       "¬ tag&#45;&gt;¬ quote\n",
       "tag -->\n",
       "<g id=\"edge3\" class=\"edge\">\n",
       "<title>¬ quote\n",
       "¬ tag&#45;&gt;¬ quote\n",
       "tag</title>\n",
       "<path fill=\"none\" stroke=\"#000000\" d=\"M194.1679,-26.8701C206.7897,-26.8701 220.5666,-26.8701 233.6797,-26.8701\"/>\n",
       "<polygon fill=\"#000000\" stroke=\"#000000\" points=\"234.0192,-30.3702 244.0191,-26.8701 234.0191,-23.3702 234.0192,-30.3702\"/>\n",
       "<text text-anchor=\"middle\" x=\"219.1468\" y=\"-30.6701\" font-family=\"Raleway\" font-size=\"14.00\" fill=\"#000000\">&#39;&lt;&#39;</text>\n",
       "</g>\n",
       "<!-- ¬ quote\n",
       "tag&#45;&gt;¬ quote\n",
       "¬ tag -->\n",
       "<g id=\"edge8\" class=\"edge\">\n",
       "<title>¬ quote\n",
       "tag&#45;&gt;¬ quote\n",
       "¬ tag</title>\n",
       "<path fill=\"none\" stroke=\"#000000\" d=\"M252.2355,-11.4185C239.5382,-8.0557 225.3335,-5.9927 212.1468,-7.8701 207.3528,-8.5526 202.4188,-9.5032 197.5125,-10.6188\"/>\n",
       "<polygon fill=\"#000000\" stroke=\"#000000\" points=\"196.3902,-7.2914 187.5341,-13.1069 198.0839,-14.0834 196.3902,-7.2914\"/>\n",
       "<text text-anchor=\"middle\" x=\"219.1468\" y=\"-11.6701\" font-family=\"Raleway\" font-size=\"14.00\" fill=\"#000000\">&#39;&gt;&#39;</text>\n",
       "</g>\n",
       "<!-- ¬ quote\n",
       "tag&#45;&gt;¬ quote\n",
       "tag -->\n",
       "<g id=\"edge5\" class=\"edge\">\n",
       "<title>¬ quote\n",
       "tag&#45;&gt;¬ quote\n",
       "tag</title>\n",
       "<path fill=\"none\" stroke=\"#000000\" d=\"M278.4492,-53.1406C277.8681,-63.2978 282.2261,-71.7401 291.5229,-71.7401 297.4787,-71.7401 301.4076,-68.2754 303.3095,-63.1146\"/>\n",
       "<polygon fill=\"#000000\" stroke=\"#000000\" points=\"306.7879,-63.5063 304.5967,-53.1406 299.8455,-62.6103 306.7879,-63.5063\"/>\n",
       "<text text-anchor=\"middle\" x=\"291.5229\" y=\"-75.5401\" font-family=\"Raleway\" font-size=\"14.00\" fill=\"#000000\">¬ &#39;&quot;&#39; ∧ ¬ &#39;&gt;&#39;</text>\n",
       "</g>\n",
       "<!-- quote\n",
       "tag -->\n",
       "<g id=\"node4\" class=\"node\">\n",
       "<title>quote\n",
       "tag</title>\n",
       "<ellipse fill=\"#ffdab9\" stroke=\"#000000\" cx=\"424.79\" cy=\"-26.8701\" rx=\"38.7821\" ry=\"26.7407\"/>\n",
       "<text text-anchor=\"middle\" x=\"424.79\" y=\"-30.6701\" font-family=\"Raleway\" font-size=\"14.00\" fill=\"#000000\">quote</text>\n",
       "<text text-anchor=\"middle\" x=\"424.79\" y=\"-15.6701\" font-family=\"Raleway\" font-size=\"14.00\" fill=\"#000000\">tag</text>\n",
       "</g>\n",
       "<!-- ¬ quote\n",
       "tag&#45;&gt;quote\n",
       "tag -->\n",
       "<g id=\"edge4\" class=\"edge\">\n",
       "<title>¬ quote\n",
       "tag&#45;&gt;quote\n",
       "tag</title>\n",
       "<path fill=\"none\" stroke=\"#000000\" d=\"M339.259,-26.8701C351.0431,-26.8701 363.6869,-26.8701 375.5414,-26.8701\"/>\n",
       "<polygon fill=\"#000000\" stroke=\"#000000\" points=\"375.7144,-30.3702 385.7143,-26.8701 375.7143,-23.3702 375.7144,-30.3702\"/>\n",
       "<text text-anchor=\"middle\" x=\"362.3991\" y=\"-30.6701\" font-family=\"Raleway\" font-size=\"14.00\" fill=\"#000000\">&#39;&quot;&#39;</text>\n",
       "</g>\n",
       "<!-- quote\n",
       "tag&#45;&gt;¬ quote\n",
       "tag -->\n",
       "<g id=\"edge7\" class=\"edge\">\n",
       "<title>quote\n",
       "tag&#45;&gt;¬ quote\n",
       "tag</title>\n",
       "<path fill=\"none\" stroke=\"#000000\" d=\"M390.9446,-13.5899C383.4673,-11.2158 375.505,-9.1066 367.8991,-7.8701 358.787,-6.3887 349.1649,-7.0126 339.9366,-8.7338\"/>\n",
       "<polygon fill=\"#000000\" stroke=\"#000000\" points=\"339.0852,-5.3381 330.1202,-10.9844 340.6495,-12.1611 339.0852,-5.3381\"/>\n",
       "<text text-anchor=\"middle\" x=\"362.3991\" y=\"-11.6701\" font-family=\"Raleway\" font-size=\"14.00\" fill=\"#000000\">&#39;&quot;&#39;</text>\n",
       "</g>\n",
       "<!-- quote\n",
       "tag&#45;&gt;quote\n",
       "tag -->\n",
       "<g id=\"edge6\" class=\"edge\">\n",
       "<title>quote\n",
       "tag&#45;&gt;quote\n",
       "tag</title>\n",
       "<path fill=\"none\" stroke=\"#000000\" d=\"M413.2359,-52.6914C412.5831,-63.0476 416.4345,-71.7401 424.79,-71.7401 430.1427,-71.7401 433.6469,-68.1727 435.3026,-62.8859\"/>\n",
       "<polygon fill=\"#000000\" stroke=\"#000000\" points=\"438.8096,-62.9953 436.344,-52.6914 431.8458,-62.2839 438.8096,-62.9953\"/>\n",
       "<text text-anchor=\"middle\" x=\"424.79\" y=\"-75.5401\" font-family=\"Raleway\" font-size=\"14.00\" fill=\"#000000\">¬ &#39;&quot;&#39;</text>\n",
       "</g>\n",
       "</g>\n",
       "</svg>\n"
      ],
      "text/plain": [
       "<graphviz.dot.Digraph at 0x7ff061091f98>"
      ]
     },
     "metadata": {},
     "output_type": "display_data"
    }
   ],
   "source": [
    "display(state_machine)"
   ]
  },
  {
   "cell_type": "markdown",
   "metadata": {
    "slideshow": {
     "slide_type": "subslide"
    }
   },
   "source": [
    "Here's our function in its \"final\" state. As software goes, software is never final – and this may also hold for our function, as there is still room for improvement. For this chapter though, we leave it be."
   ]
  },
  {
   "cell_type": "code",
   "execution_count": 55,
   "metadata": {
    "slideshow": {
     "slide_type": "subslide"
    }
   },
   "outputs": [],
   "source": [
    "def remove_html_markup(s):\n",
    "    tag   = False\n",
    "    quote = False\n",
    "    out   = \"\"\n",
    "\n",
    "    for c in s:\n",
    "        assert tag or not quote\n",
    "        \n",
    "        if c == '<' and not quote:\n",
    "            tag = True\n",
    "        elif c == '>' and not quote:\n",
    "            tag = False\n",
    "        elif (c == '\"' or c == \"'\") and tag:\n",
    "            quote = not quote\n",
    "        elif not tag:\n",
    "            out = out + c\n",
    "    \n",
    "    return out"
   ]
  },
  {
   "cell_type": "markdown",
   "metadata": {
    "slideshow": {
     "slide_type": "slide"
    }
   },
   "source": [
    "## Explicit Debugging\n",
    "\n",
    "..."
   ]
  },
  {
   "cell_type": "markdown",
   "metadata": {
    "slideshow": {
     "slide_type": "slide"
    }
   },
   "source": [
    "## Synopsis"
   ]
  },
  {
   "cell_type": "markdown",
   "metadata": {
    "slideshow": {
     "slide_type": "fragment"
    }
   },
   "source": [
    "_For those only interested in using the code in this chapter (without wanting to know how it works), give an example.  This will be copied to the beginning of the chapter (before the first section) as text with rendered input and output._"
   ]
  },
  {
   "cell_type": "markdown",
   "metadata": {
    "button": false,
    "new_sheet": true,
    "run_control": {
     "read_only": false
    },
    "slideshow": {
     "slide_type": "slide"
    }
   },
   "source": [
    "## Lessons Learned\n",
    "\n",
    "* _Lesson one_\n",
    "* _Lesson two_\n",
    "* _Lesson three_"
   ]
  },
  {
   "cell_type": "markdown",
   "metadata": {
    "button": false,
    "new_sheet": false,
    "run_control": {
     "read_only": false
    },
    "slideshow": {
     "slide_type": "slide"
    }
   },
   "source": [
    "## Next Steps\n",
    "\n",
    "_Link to subsequent chapters (notebooks) here, as in:_\n",
    "\n",
    "* [use _mutations_ on existing inputs to get more valid inputs](MutationFuzzer.ipynb)\n",
    "* [use _grammars_ (i.e., a specification of the input format) to get even more valid inputs](Grammars.ipynb)\n",
    "* [reduce _failing inputs_ for efficient debugging](Reducer.ipynb)\n"
   ]
  },
  {
   "cell_type": "markdown",
   "metadata": {
    "slideshow": {
     "slide_type": "slide"
    }
   },
   "source": [
    "## Background\n",
    "\n",
    "_Cite relevant works in the literature and put them into context, as in:_\n",
    "\n",
    "The idea of ensuring that each expansion in the grammar is used at least once goes back to Burkhardt \\cite{Burkhardt1967}, to be later rediscovered by Paul Purdom \\cite{Purdom1972}."
   ]
  },
  {
   "cell_type": "markdown",
   "metadata": {
    "button": false,
    "new_sheet": true,
    "run_control": {
     "read_only": false
    },
    "slideshow": {
     "slide_type": "slide"
    }
   },
   "source": [
    "## Exercises\n",
    "\n",
    "_Close the chapter with a few exercises such that people have things to do.  To make the solutions hidden (to be revealed by the user), have them start with_\n",
    "\n",
    "```\n",
    "**Solution.**\n",
    "```\n",
    "\n",
    "_Your solution can then extend up to the next title (i.e., any markdown cell starting with `#`)._\n",
    "\n",
    "_Running `make metadata` will automatically add metadata to the cells such that the cells will be hidden by default, and can be uncovered by the user.  The button will be introduced above the solution._"
   ]
  },
  {
   "cell_type": "markdown",
   "metadata": {
    "button": false,
    "new_sheet": false,
    "run_control": {
     "read_only": false
    },
    "slideshow": {
     "slide_type": "subslide"
    }
   },
   "source": [
    "### Exercise 1: _Title_\n",
    "\n",
    "_Text of the exercise_"
   ]
  },
  {
   "cell_type": "code",
   "execution_count": 56,
   "metadata": {
    "cell_style": "center",
    "slideshow": {
     "slide_type": "fragment"
    }
   },
   "outputs": [],
   "source": [
    "# Some code that is part of the exercise\n",
    "pass"
   ]
  },
  {
   "cell_type": "markdown",
   "metadata": {
    "slideshow": {
     "slide_type": "fragment"
    },
    "solution2": "hidden",
    "solution2_first": true
   },
   "source": [
    "_Some more text for the exercise_"
   ]
  },
  {
   "cell_type": "markdown",
   "metadata": {
    "slideshow": {
     "slide_type": "skip"
    },
    "solution2": "hidden"
   },
   "source": [
    "**Solution.** _Some text for the solution_"
   ]
  },
  {
   "cell_type": "code",
   "execution_count": 57,
   "metadata": {
    "cell_style": "split",
    "slideshow": {
     "slide_type": "skip"
    },
    "solution2": "hidden"
   },
   "outputs": [
    {
     "data": {
      "text/plain": [
       "4"
      ]
     },
     "execution_count": 57,
     "metadata": {},
     "output_type": "execute_result"
    }
   ],
   "source": [
    "# Some code for the solution\n",
    "2 + 2"
   ]
  },
  {
   "cell_type": "markdown",
   "metadata": {
    "slideshow": {
     "slide_type": "skip"
    },
    "solution2": "hidden"
   },
   "source": [
    "_Some more text for the solution_"
   ]
  },
  {
   "cell_type": "markdown",
   "metadata": {
    "button": false,
    "new_sheet": false,
    "run_control": {
     "read_only": false
    },
    "slideshow": {
     "slide_type": "subslide"
    },
    "solution": "hidden",
    "solution2": "hidden",
    "solution2_first": true,
    "solution_first": true
   },
   "source": [
    "### Exercise 2: _Title_\n",
    "\n",
    "_Text of the exercise_"
   ]
  },
  {
   "cell_type": "markdown",
   "metadata": {
    "button": false,
    "new_sheet": false,
    "run_control": {
     "read_only": false
    },
    "slideshow": {
     "slide_type": "skip"
    },
    "solution": "hidden",
    "solution2": "hidden"
   },
   "source": [
    "**Solution.** _Solution for the exercise_"
   ]
  }
 ],
 "metadata": {
  "ipub": {
   "bibliography": "fuzzingbook.bib",
   "toc": true
  },
  "kernelspec": {
   "display_name": "Python 3",
   "language": "python",
   "name": "python3"
  },
  "language_info": {
   "codemirror_mode": {
    "name": "ipython",
    "version": 3
   },
   "file_extension": ".py",
   "mimetype": "text/x-python",
   "name": "python",
   "nbconvert_exporter": "python",
   "pygments_lexer": "ipython3",
   "version": "3.6.8"
  },
  "toc": {
   "base_numbering": 1,
   "nav_menu": {},
   "number_sections": true,
   "sideBar": true,
   "skip_h1_title": true,
   "title_cell": "",
   "title_sidebar": "Contents",
   "toc_cell": false,
   "toc_position": {},
   "toc_section_display": true,
   "toc_window_display": true
  },
  "toc-autonumbering": false
 },
 "nbformat": 4,
 "nbformat_minor": 2
}