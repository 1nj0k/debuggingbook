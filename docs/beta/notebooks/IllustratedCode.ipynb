{
 "cells": [
  {
   "cell_type": "markdown",
   "id": "cf430c6f",
   "metadata": {
    "slideshow": {
     "slide_type": "slide"
    }
   },
   "source": [
    "# Illustrated Code: Building Software in a Literate Way"
   ]
  },
  {
   "cell_type": "markdown",
   "id": "5c147f5f-01da-4ad2-ba01-7dee280d6c66",
   "metadata": {
    "slideshow": {
     "slide_type": "fragment"
    }
   },
   "source": [
    "This is the notebook shown for Andreas Zeller's keynote \"Illustrated Code: Building Software in a Literate Way\" at ASE 2021."
   ]
  },
  {
   "cell_type": "markdown",
   "id": "52baf01e-d428-47cd-b713-e9d6de96273c",
   "metadata": {
    "slideshow": {
     "slide_type": "fragment"
    }
   },
   "source": [
    "<iframe src=\"https://www.slideshare.net/andreas.zeller/slideshelf\" width=\"615px\" height=\"470px\" frameborder=\"0\" marginwidth=\"0\" marginheight=\"0\" scrolling=\"no\" style=\"border:none;\" allowfullscreen webkitallowfullscreen mozallowfullscreen></iframe>"
   ]
  },
  {
   "cell_type": "markdown",
   "id": "0804838c",
   "metadata": {
    "slideshow": {
     "slide_type": "slide"
    },
    "tags": []
   },
   "source": [
    "## Some Support Code"
   ]
  },
  {
   "cell_type": "code",
   "execution_count": 1,
   "id": "926cf9fc",
   "metadata": {
    "execution": {
     "iopub.execute_input": "2021-11-17T08:18:43.545462Z",
     "iopub.status.busy": "2021-11-17T08:18:43.544672Z",
     "iopub.status.idle": "2021-11-17T08:18:43.651626Z",
     "shell.execute_reply": "2021-11-17T08:18:43.652085Z"
    },
    "slideshow": {
     "slide_type": "skip"
    }
   },
   "outputs": [],
   "source": [
    "import bookutils"
   ]
  },
  {
   "cell_type": "code",
   "execution_count": 2,
   "id": "8f6f6d17",
   "metadata": {
    "execution": {
     "iopub.execute_input": "2021-11-17T08:18:43.655688Z",
     "iopub.status.busy": "2021-11-17T08:18:43.655087Z",
     "iopub.status.idle": "2021-11-17T08:18:44.393136Z",
     "shell.execute_reply": "2021-11-17T08:18:44.394137Z"
    },
    "slideshow": {
     "slide_type": "skip"
    }
   },
   "outputs": [],
   "source": [
    "from Tracer import Tracer"
   ]
  },
  {
   "cell_type": "code",
   "execution_count": 3,
   "id": "61fcb3aa",
   "metadata": {
    "execution": {
     "iopub.execute_input": "2021-11-17T08:18:44.397842Z",
     "iopub.status.busy": "2021-11-17T08:18:44.397237Z",
     "iopub.status.idle": "2021-11-17T08:18:44.398876Z",
     "shell.execute_reply": "2021-11-17T08:18:44.399327Z"
    },
    "slideshow": {
     "slide_type": "skip"
    }
   },
   "outputs": [],
   "source": [
    "from typing import Any, Callable\n",
    "from types import FrameType\n",
    "from inspect import signature, getmembers"
   ]
  },
  {
   "cell_type": "markdown",
   "id": "6f55d262",
   "metadata": {
    "slideshow": {
     "slide_type": "subslide"
    }
   },
   "source": [
    "### Sequence Diagrams with Mermaid"
   ]
  },
  {
   "cell_type": "code",
   "execution_count": 4,
   "id": "8946c67b",
   "metadata": {
    "execution": {
     "iopub.execute_input": "2021-11-17T08:18:44.406462Z",
     "iopub.status.busy": "2021-11-17T08:18:44.405872Z",
     "iopub.status.idle": "2021-11-17T08:18:44.407408Z",
     "shell.execute_reply": "2021-11-17T08:18:44.407808Z"
    },
    "slideshow": {
     "slide_type": "subslide"
    }
   },
   "outputs": [],
   "source": [
    "class SequenceDiagramTracer(Tracer):\n",
    "    def __init__(self, client='Client', server='Server'):\n",
    "        super().__init__()\n",
    "        self.lines = []\n",
    "        self.client = client\n",
    "        self.server = server\n",
    "\n",
    "    def traceit(self, frame: FrameType, event: str, arg: Any):\n",
    "        if event == 'call':\n",
    "            func = frame.f_code.co_name\n",
    "            args = frame.f_locals\n",
    "            args_line = \", \".join(reversed([var + \"=\" + repr(args[var]) \n",
    "                                            for var in args]))\n",
    "            line = f'{self.client}->>+{self.server}: {func}({args_line})'\n",
    "            self.lines.append(line)\n",
    "\n",
    "        if event == 'return':\n",
    "            line = f'{self.server}-->>-{self.client}'\n",
    "            if arg is not None:\n",
    "                line += f': {repr(arg)}'\n",
    "            self.lines.append(line)\n",
    "\n",
    "    def _repr_markdown_(self) -> str:\n",
    "        return '\\n'.join(['```mermaid'] +\n",
    "                         ['sequenceDiagram'] + \n",
    "                         self.lines + \n",
    "                         ['```'])"
   ]
  },
  {
   "cell_type": "markdown",
   "id": "994b6846",
   "metadata": {
    "slideshow": {
     "slide_type": "subslide"
    }
   },
   "source": [
    "### Class Diagrams with Mermaid"
   ]
  },
  {
   "cell_type": "code",
   "execution_count": 5,
   "id": "11cad4bc",
   "metadata": {
    "execution": {
     "iopub.execute_input": "2021-11-17T08:18:44.413450Z",
     "iopub.status.busy": "2021-11-17T08:18:44.412781Z",
     "iopub.status.idle": "2021-11-17T08:18:44.414997Z",
     "shell.execute_reply": "2021-11-17T08:18:44.415569Z"
    },
    "slideshow": {
     "slide_type": "subslide"
    }
   },
   "outputs": [],
   "source": [
    "class ClassDiagram():\n",
    "    def __init__(self, cls):\n",
    "        self.cls = cls\n",
    "\n",
    "    def methods_str(self):\n",
    "        members = [(name, fun) for (name, fun) in getmembers(self.cls)\n",
    "                   if not name.startswith('_')]\n",
    "        attributes = '\\n'.join([f'  -{name} = {repr(member)}'\n",
    "                                for (name, member) in members if not callable(member)\n",
    "                                ])\n",
    "\n",
    "        methods = '\\n'.join([f'  +{name}{str(signature(member)).replace(\" -> \", \" \")}'\n",
    "                             for (name, member) in members if callable(member)\n",
    "                             ])\n",
    "        return attributes + '\\n' + methods\n",
    "\n",
    "    def _repr_markdown_(self) -> str:\n",
    "        return f\"\"\"\n",
    "```mermaid\n",
    "classDiagram\n",
    "direction TD\n",
    "class Server {{\n",
    "  {self.methods_str()}\n",
    "}}\n",
    "```\"\"\""
   ]
  },
  {
   "cell_type": "markdown",
   "id": "3a68dfd7",
   "metadata": {
    "slideshow": {
     "slide_type": "slide"
    },
    "tags": []
   },
   "source": [
    "# Illustrated Code: Building Software in a Literate Way"
   ]
  },
  {
   "cell_type": "markdown",
   "id": "d8ebeddb-6ded-4a7f-8577-a6bbb0284835",
   "metadata": {
    "slideshow": {
     "slide_type": "subslide"
    }
   },
   "source": [
    "### Jupyter Demo: Factorials"
   ]
  },
  {
   "cell_type": "markdown",
   "id": "347da6bd-f086-4a36-893a-887ba7584f06",
   "metadata": {
    "slideshow": {
     "slide_type": "fragment"
    }
   },
   "source": [
    "`factorial(n)` computes the factorial of n, that is $n! = \\prod_{i=1}^n i = 1 \\times 2 \\times \\dots \\times n$."
   ]
  },
  {
   "cell_type": "code",
   "execution_count": 6,
   "id": "4ff1de6d-d562-44f8-9adf-539a67e549ea",
   "metadata": {
    "execution": {
     "iopub.execute_input": "2021-11-17T08:18:44.419327Z",
     "iopub.status.busy": "2021-11-17T08:18:44.418747Z",
     "iopub.status.idle": "2021-11-17T08:18:44.420391Z",
     "shell.execute_reply": "2021-11-17T08:18:44.420775Z"
    },
    "slideshow": {
     "slide_type": "fragment"
    }
   },
   "outputs": [],
   "source": [
    "def factorial(n: int) -> int:\n",
    "    return 1 if n <= 1 else n * factorial(n - 1)"
   ]
  },
  {
   "cell_type": "code",
   "execution_count": 7,
   "id": "0de2c1b0-19ad-4869-ba03-e217c7ae901e",
   "metadata": {
    "execution": {
     "iopub.execute_input": "2021-11-17T08:18:44.431204Z",
     "iopub.status.busy": "2021-11-17T08:18:44.430419Z",
     "iopub.status.idle": "2021-11-17T08:18:44.433429Z",
     "shell.execute_reply": "2021-11-17T08:18:44.433803Z"
    },
    "slideshow": {
     "slide_type": "fragment"
    }
   },
   "outputs": [
    {
     "data": {
      "text/plain": [
       "6"
      ]
     },
     "execution_count": 7,
     "metadata": {},
     "output_type": "execute_result"
    }
   ],
   "source": [
    "factorial(3)"
   ]
  },
  {
   "cell_type": "code",
   "execution_count": 8,
   "id": "cc9e2b4f-8bcb-4f6b-9d13-2c1393298022",
   "metadata": {
    "execution": {
     "iopub.execute_input": "2021-11-17T08:18:44.437932Z",
     "iopub.status.busy": "2021-11-17T08:18:44.437351Z",
     "iopub.status.idle": "2021-11-17T08:18:44.438959Z",
     "shell.execute_reply": "2021-11-17T08:18:44.439430Z"
    },
    "slideshow": {
     "slide_type": "fragment"
    }
   },
   "outputs": [],
   "source": [
    "assert factorial(3) == 6"
   ]
  },
  {
   "cell_type": "markdown",
   "id": "fc85632b",
   "metadata": {
    "slideshow": {
     "slide_type": "slide"
    },
    "tags": []
   },
   "source": [
    "## Can Programming be Liberated from the Typewriter Style?"
   ]
  },
  {
   "cell_type": "markdown",
   "id": "6c8d2c00",
   "metadata": {
    "slideshow": {
     "slide_type": "fragment"
    }
   },
   "source": [
    "Define a function `middle(x, y, z)` that returns the \"middle\" of three integers $x$, $y$, and $z$ – i.e. the one that is neither the maximum nor the minimum of the three."
   ]
  },
  {
   "cell_type": "markdown",
   "id": "838e022e",
   "metadata": {
    "slideshow": {
     "slide_type": "slide"
    }
   },
   "source": [
    "## Interface"
   ]
  },
  {
   "cell_type": "markdown",
   "id": "6c79fa4a",
   "metadata": {
    "slideshow": {
     "slide_type": "fragment"
    }
   },
   "source": [
    "Here's how to use `middle()`:"
   ]
  },
  {
   "cell_type": "code",
   "execution_count": 9,
   "id": "f9afe3f4",
   "metadata": {
    "execution": {
     "iopub.execute_input": "2021-11-17T08:18:44.443132Z",
     "iopub.status.busy": "2021-11-17T08:18:44.442596Z",
     "iopub.status.idle": "2021-11-17T08:18:44.444300Z",
     "shell.execute_reply": "2021-11-17T08:18:44.444781Z"
    },
    "slideshow": {
     "slide_type": "fragment"
    }
   },
   "outputs": [],
   "source": [
    "def middle_i(x: int, y: int, z: int) -> int:\n",
    "    \"\"\"Return the middle of three numbers x, y, z\"\"\"\n",
    "    ..."
   ]
  },
  {
   "cell_type": "markdown",
   "id": "4c50208d",
   "metadata": {
    "slideshow": {
     "slide_type": "slide"
    }
   },
   "source": [
    "## Specification\n",
    "\n",
    "Here's an (executable) specification of `middle()`:"
   ]
  },
  {
   "cell_type": "code",
   "execution_count": 10,
   "id": "9ae659b4",
   "metadata": {
    "execution": {
     "iopub.execute_input": "2021-11-17T08:18:44.449118Z",
     "iopub.status.busy": "2021-11-17T08:18:44.448373Z",
     "iopub.status.idle": "2021-11-17T08:18:44.450001Z",
     "shell.execute_reply": "2021-11-17T08:18:44.450372Z"
    },
    "slideshow": {
     "slide_type": "fragment"
    }
   },
   "outputs": [],
   "source": [
    "def middle_spec(x: int, y: int, z: int) -> int:\n",
    "    return sorted([x, y, z])[1]"
   ]
  },
  {
   "cell_type": "markdown",
   "id": "30a21c16",
   "metadata": {
    "slideshow": {
     "slide_type": "fragment"
    }
   },
   "source": [
    "Here's an example:"
   ]
  },
  {
   "cell_type": "code",
   "execution_count": 11,
   "id": "0f39b095",
   "metadata": {
    "execution": {
     "iopub.execute_input": "2021-11-17T08:18:44.453894Z",
     "iopub.status.busy": "2021-11-17T08:18:44.453308Z",
     "iopub.status.idle": "2021-11-17T08:18:44.455526Z",
     "shell.execute_reply": "2021-11-17T08:18:44.455980Z"
    },
    "slideshow": {
     "slide_type": "fragment"
    }
   },
   "outputs": [
    {
     "data": {
      "text/plain": [
       "5"
      ]
     },
     "execution_count": 11,
     "metadata": {},
     "output_type": "execute_result"
    }
   ],
   "source": [
    "middle_spec(5, 3, 7)"
   ]
  },
  {
   "cell_type": "markdown",
   "id": "c6c3f15b",
   "metadata": {
    "slideshow": {
     "slide_type": "fragment"
    }
   },
   "source": [
    "Or better yet, use an assertion:"
   ]
  },
  {
   "cell_type": "code",
   "execution_count": 12,
   "id": "e7e2652f",
   "metadata": {
    "execution": {
     "iopub.execute_input": "2021-11-17T08:18:44.459995Z",
     "iopub.status.busy": "2021-11-17T08:18:44.459262Z",
     "iopub.status.idle": "2021-11-17T08:18:44.461294Z",
     "shell.execute_reply": "2021-11-17T08:18:44.461705Z"
    },
    "slideshow": {
     "slide_type": "fragment"
    }
   },
   "outputs": [],
   "source": [
    "assert middle_spec(5, 4, 7) == 5"
   ]
  },
  {
   "cell_type": "markdown",
   "id": "2e49414e",
   "metadata": {
    "slideshow": {
     "slide_type": "fragment"
    }
   },
   "source": [
    "Of course, your specification can also include all sorts of diagrams. (Install [jupyterlab-markup](https://opensourcelibs.com/lib/jupyterlab-markup) for this.)"
   ]
  },
  {
   "cell_type": "markdown",
   "id": "54bfae63",
   "metadata": {
    "slideshow": {
     "slide_type": "subslide"
    }
   },
   "source": [
    "```mermaid\n",
    "sequenceDiagram\n",
    "    Client->>+Server: middle(5, 4, 7)\n",
    "    Server-->>-Client: 5\n",
    "```"
   ]
  },
  {
   "cell_type": "markdown",
   "id": "406e648d",
   "metadata": {
    "slideshow": {
     "slide_type": "fragment"
    }
   },
   "source": [
    "For the record, this diagram is created with five lines of Markdown:"
   ]
  },
  {
   "cell_type": "markdown",
   "id": "9c29aa46",
   "metadata": {
    "slideshow": {
     "slide_type": "fragment"
    }
   },
   "source": [
    "    ```mermaid\n",
    "    sequenceDiagram\n",
    "    Client->>+Server: middle(5, 4, 7)\n",
    "    Server-->>-Client: 5\n",
    "    ```"
   ]
  },
  {
   "cell_type": "markdown",
   "id": "832b7996",
   "metadata": {
    "slideshow": {
     "slide_type": "slide"
    }
   },
   "source": [
    "## Implementation\n",
    "\n",
    "Here's an efficient implementation for `middle()`:"
   ]
  },
  {
   "cell_type": "code",
   "execution_count": 13,
   "id": "6a08f669",
   "metadata": {
    "execution": {
     "iopub.execute_input": "2021-11-17T08:18:44.466309Z",
     "iopub.status.busy": "2021-11-17T08:18:44.465780Z",
     "iopub.status.idle": "2021-11-17T08:18:44.467520Z",
     "shell.execute_reply": "2021-11-17T08:18:44.467963Z"
    },
    "slideshow": {
     "slide_type": "subslide"
    }
   },
   "outputs": [],
   "source": [
    "def middle(x: int, y: int, z: int) -> int:\n",
    "    \"\"\"Return the middle of three numbers x, y, z\"\"\"\n",
    "    if y < z:\n",
    "        if x < y:\n",
    "            return y\n",
    "        elif x < z:\n",
    "            return x\n",
    "    else:\n",
    "        if x > y:\n",
    "            return y\n",
    "        elif x > z:\n",
    "            return x\n",
    "    return z"
   ]
  },
  {
   "cell_type": "markdown",
   "id": "cd25ea47",
   "metadata": {
    "slideshow": {
     "slide_type": "slide"
    }
   },
   "source": [
    "## Rationale\n",
    "\n",
    "Why do we implement `middle()` as above, rather than using the much shorter `middle_spec()` code? Because it is about _twice as fast_:"
   ]
  },
  {
   "cell_type": "code",
   "execution_count": 14,
   "id": "6640c751",
   "metadata": {
    "execution": {
     "iopub.execute_input": "2021-11-17T08:18:44.472486Z",
     "iopub.status.busy": "2021-11-17T08:18:44.471063Z",
     "iopub.status.idle": "2021-11-17T08:18:44.473953Z",
     "shell.execute_reply": "2021-11-17T08:18:44.474628Z"
    },
    "slideshow": {
     "slide_type": "skip"
    }
   },
   "outputs": [],
   "source": [
    "import time\n",
    "import random"
   ]
  },
  {
   "cell_type": "code",
   "execution_count": 15,
   "id": "2414a718",
   "metadata": {
    "execution": {
     "iopub.execute_input": "2021-11-17T08:18:44.480274Z",
     "iopub.status.busy": "2021-11-17T08:18:44.479623Z",
     "iopub.status.idle": "2021-11-17T08:18:44.481321Z",
     "shell.execute_reply": "2021-11-17T08:18:44.481900Z"
    },
    "slideshow": {
     "slide_type": "subslide"
    }
   },
   "outputs": [],
   "source": [
    "def middle_benchmark(middle_fun: Callable[[int, int, int], int],\n",
    "                     n: int = 1000000) -> float:\n",
    "    \"\"\"Return elapsed time for calling `middle_fun` `n` times\"\"\"\n",
    "    elapsed = 0.0\n",
    "\n",
    "    for i in range(n):\n",
    "        x = random.randint(0, 1000)\n",
    "        y = random.randint(0, 1000)\n",
    "        z = random.randint(0, 1000)\n",
    "        start = time.perf_counter()\n",
    "        _ = middle_fun(x, y, z)\n",
    "        end = time.perf_counter()\n",
    "        elapsed += (end - start)\n",
    "\n",
    "    return elapsed"
   ]
  },
  {
   "cell_type": "code",
   "execution_count": 16,
   "id": "c7e7c45b",
   "metadata": {
    "execution": {
     "iopub.execute_input": "2021-11-17T08:18:44.575918Z",
     "iopub.status.busy": "2021-11-17T08:18:44.536532Z",
     "iopub.status.idle": "2021-11-17T08:18:47.577611Z",
     "shell.execute_reply": "2021-11-17T08:18:47.578052Z"
    },
    "slideshow": {
     "slide_type": "subslide"
    }
   },
   "outputs": [
    {
     "data": {
      "text/plain": [
       "0.27496948999984383"
      ]
     },
     "execution_count": 16,
     "metadata": {},
     "output_type": "execute_result"
    }
   ],
   "source": [
    "middle_elapsed = middle_benchmark(middle)\n",
    "middle_elapsed"
   ]
  },
  {
   "cell_type": "code",
   "execution_count": 17,
   "id": "8f29aa90",
   "metadata": {
    "execution": {
     "iopub.execute_input": "2021-11-17T08:18:47.660494Z",
     "iopub.status.busy": "2021-11-17T08:18:47.619675Z",
     "iopub.status.idle": "2021-11-17T08:18:50.980920Z",
     "shell.execute_reply": "2021-11-17T08:18:50.981510Z"
    },
    "slideshow": {
     "slide_type": "fragment"
    }
   },
   "outputs": [
    {
     "data": {
      "text/plain": [
       "0.5072729779996932"
      ]
     },
     "execution_count": 17,
     "metadata": {},
     "output_type": "execute_result"
    }
   ],
   "source": [
    "middle_spec_elapsed = middle_benchmark(middle_spec)\n",
    "middle_spec_elapsed"
   ]
  },
  {
   "cell_type": "code",
   "execution_count": 18,
   "id": "a1864a8f",
   "metadata": {
    "execution": {
     "iopub.execute_input": "2021-11-17T08:18:50.985336Z",
     "iopub.status.busy": "2021-11-17T08:18:50.984809Z",
     "iopub.status.idle": "2021-11-17T08:18:50.986342Z",
     "shell.execute_reply": "2021-11-17T08:18:50.986714Z"
    },
    "slideshow": {
     "slide_type": "fragment"
    }
   },
   "outputs": [],
   "source": [
    "assert middle_elapsed < middle_spec_elapsed, \"Inconsistent doc\"\n",
    "assert middle_elapsed * 1.5 < middle_spec_elapsed, \"Inconsistent doc\""
   ]
  },
  {
   "cell_type": "markdown",
   "id": "c5c9d41d",
   "metadata": {
    "slideshow": {
     "slide_type": "slide"
    }
   },
   "source": [
    "## Tests"
   ]
  },
  {
   "cell_type": "markdown",
   "id": "925fe192",
   "metadata": {
    "slideshow": {
     "slide_type": "subslide"
    }
   },
   "source": [
    "### Regular Tests"
   ]
  },
  {
   "cell_type": "code",
   "execution_count": 19,
   "id": "b41cbfc4",
   "metadata": {
    "execution": {
     "iopub.execute_input": "2021-11-17T08:18:50.991343Z",
     "iopub.status.busy": "2021-11-17T08:18:50.990724Z",
     "iopub.status.idle": "2021-11-17T08:18:50.992474Z",
     "shell.execute_reply": "2021-11-17T08:18:50.992926Z"
    },
    "slideshow": {
     "slide_type": "fragment"
    }
   },
   "outputs": [],
   "source": [
    "assert middle(1, 2, 3) == 2\n",
    "assert middle(3, 1, 2) == 2\n",
    "assert middle(2, 3, 1) == 2"
   ]
  },
  {
   "cell_type": "code",
   "execution_count": 20,
   "id": "bfdb7af4",
   "metadata": {
    "execution": {
     "iopub.execute_input": "2021-11-17T08:18:50.996072Z",
     "iopub.status.busy": "2021-11-17T08:18:50.995561Z",
     "iopub.status.idle": "2021-11-17T08:18:52.375970Z",
     "shell.execute_reply": "2021-11-17T08:18:52.376851Z"
    },
    "slideshow": {
     "slide_type": "skip"
    }
   },
   "outputs": [],
   "source": [
    "from StatisticalDebugger import CoverageCollector, code_with_coverage"
   ]
  },
  {
   "cell_type": "code",
   "execution_count": 21,
   "id": "1d518e51",
   "metadata": {
    "execution": {
     "iopub.execute_input": "2021-11-17T08:18:52.386209Z",
     "iopub.status.busy": "2021-11-17T08:18:52.385279Z",
     "iopub.status.idle": "2021-11-17T08:18:52.388023Z",
     "shell.execute_reply": "2021-11-17T08:18:52.388963Z"
    },
    "slideshow": {
     "slide_type": "fragment"
    }
   },
   "outputs": [],
   "source": [
    "with CoverageCollector() as c:\n",
    "    assert middle(1, 2, 3) == 2\n",
    "    assert middle(3, 1, 2) == 2\n",
    "    assert middle(2, 3, 1) == 2"
   ]
  },
  {
   "cell_type": "code",
   "execution_count": 22,
   "id": "eda3f55c",
   "metadata": {
    "execution": {
     "iopub.execute_input": "2021-11-17T08:18:52.423828Z",
     "iopub.status.busy": "2021-11-17T08:18:52.393488Z",
     "iopub.status.idle": "2021-11-17T08:18:52.789655Z",
     "shell.execute_reply": "2021-11-17T08:18:52.790112Z"
    },
    "slideshow": {
     "slide_type": "subslide"
    }
   },
   "outputs": [
    {
     "name": "stdout",
     "output_type": "stream",
     "text": [
      "   1 * \u001b[34mdef\u001b[39;49;00m \u001b[32mmiddle\u001b[39;49;00m(x: \u001b[36mint\u001b[39;49;00m, y: \u001b[36mint\u001b[39;49;00m, z: \u001b[36mint\u001b[39;49;00m) -> \u001b[36mint\u001b[39;49;00m:\n",
      "   2       \u001b[33m\"\"\"Return the middle of three numbers x, y, z\"\"\"\u001b[39;49;00m\n",
      "   3 *     \u001b[34mif\u001b[39;49;00m y < z:\n",
      "   4 *         \u001b[34mif\u001b[39;49;00m x < y:\n",
      "   5 *             \u001b[34mreturn\u001b[39;49;00m y\n",
      "   6 *         \u001b[34melif\u001b[39;49;00m x < z:\n",
      "   7               \u001b[34mreturn\u001b[39;49;00m x\n",
      "   8       \u001b[34melse\u001b[39;49;00m:\n",
      "   9 *         \u001b[34mif\u001b[39;49;00m x > y:\n",
      "  10               \u001b[34mreturn\u001b[39;49;00m y\n",
      "  11 *         \u001b[34melif\u001b[39;49;00m x > z:\n",
      "  12 *             \u001b[34mreturn\u001b[39;49;00m x\n",
      "  13 *     \u001b[34mreturn\u001b[39;49;00m z\n"
     ]
    }
   ],
   "source": [
    "code_with_coverage(middle, c.coverage())"
   ]
  },
  {
   "cell_type": "code",
   "execution_count": 23,
   "id": "411c8caa",
   "metadata": {
    "execution": {
     "iopub.execute_input": "2021-11-17T08:18:52.798442Z",
     "iopub.status.busy": "2021-11-17T08:18:52.797670Z",
     "iopub.status.idle": "2021-11-17T08:18:52.799540Z",
     "shell.execute_reply": "2021-11-17T08:18:52.800228Z"
    },
    "slideshow": {
     "slide_type": "subslide"
    }
   },
   "outputs": [],
   "source": [
    "with c:\n",
    "    assert middle(2, 1, 3) == 2\n",
    "    assert middle(3, 2, 1) == 2"
   ]
  },
  {
   "cell_type": "code",
   "execution_count": 24,
   "id": "f2a95572",
   "metadata": {
    "execution": {
     "iopub.execute_input": "2021-11-17T08:18:52.810530Z",
     "iopub.status.busy": "2021-11-17T08:18:52.809830Z",
     "iopub.status.idle": "2021-11-17T08:18:52.813119Z",
     "shell.execute_reply": "2021-11-17T08:18:52.813670Z"
    },
    "slideshow": {
     "slide_type": "subslide"
    }
   },
   "outputs": [
    {
     "name": "stdout",
     "output_type": "stream",
     "text": [
      "   1 * \u001b[34mdef\u001b[39;49;00m \u001b[32mmiddle\u001b[39;49;00m(x: \u001b[36mint\u001b[39;49;00m, y: \u001b[36mint\u001b[39;49;00m, z: \u001b[36mint\u001b[39;49;00m) -> \u001b[36mint\u001b[39;49;00m:\n",
      "   2       \u001b[33m\"\"\"Return the middle of three numbers x, y, z\"\"\"\u001b[39;49;00m\n",
      "   3 *     \u001b[34mif\u001b[39;49;00m y < z:\n",
      "   4 *         \u001b[34mif\u001b[39;49;00m x < y:\n",
      "   5 *             \u001b[34mreturn\u001b[39;49;00m y\n",
      "   6 *         \u001b[34melif\u001b[39;49;00m x < z:\n",
      "   7 *             \u001b[34mreturn\u001b[39;49;00m x\n",
      "   8       \u001b[34melse\u001b[39;49;00m:\n",
      "   9 *         \u001b[34mif\u001b[39;49;00m x > y:\n",
      "  10 *             \u001b[34mreturn\u001b[39;49;00m y\n",
      "  11 *         \u001b[34melif\u001b[39;49;00m x > z:\n",
      "  12 *             \u001b[34mreturn\u001b[39;49;00m x\n",
      "  13 *     \u001b[34mreturn\u001b[39;49;00m z\n"
     ]
    }
   ],
   "source": [
    "code_with_coverage(middle, c.coverage())"
   ]
  },
  {
   "cell_type": "markdown",
   "id": "439e65a0",
   "metadata": {
    "slideshow": {
     "slide_type": "subslide"
    }
   },
   "source": [
    "### Check against Spec"
   ]
  },
  {
   "cell_type": "code",
   "execution_count": 25,
   "id": "892ab4c2",
   "metadata": {
    "execution": {
     "iopub.execute_input": "2021-11-17T08:18:52.901614Z",
     "iopub.status.busy": "2021-11-17T08:18:52.854857Z",
     "iopub.status.idle": "2021-11-17T08:18:53.254063Z",
     "shell.execute_reply": "2021-11-17T08:18:53.254855Z"
    },
    "slideshow": {
     "slide_type": "fragment"
    }
   },
   "outputs": [],
   "source": [
    "for i in range(100000):\n",
    "    x = random.randint(0, 1000)\n",
    "    y = random.randint(0, 1000)\n",
    "    z = random.randint(0, 1000)\n",
    "    assert middle(x, y, z) == middle_spec(x, y, z)"
   ]
  },
  {
   "cell_type": "markdown",
   "id": "32105d27",
   "metadata": {
    "slideshow": {
     "slide_type": "slide"
    }
   },
   "source": [
    "## Architecture"
   ]
  },
  {
   "cell_type": "markdown",
   "id": "dc577378",
   "metadata": {
    "slideshow": {
     "slide_type": "fragment"
    }
   },
   "source": [
    "We can extract architecture diagrams from programs:"
   ]
  },
  {
   "cell_type": "code",
   "execution_count": 26,
   "id": "2fcac756",
   "metadata": {
    "execution": {
     "iopub.execute_input": "2021-11-17T08:18:53.262272Z",
     "iopub.status.busy": "2021-11-17T08:18:53.261568Z",
     "iopub.status.idle": "2021-11-17T08:18:53.263526Z",
     "shell.execute_reply": "2021-11-17T08:18:53.263931Z"
    },
    "slideshow": {
     "slide_type": "fragment"
    }
   },
   "outputs": [],
   "source": [
    "class Server():\n",
    "    state = 42\n",
    "\n",
    "    def middle(x: int, y: int, z: int) -> int:\n",
    "        return middle(x, y, z)\n",
    "\n",
    "    def min(x: int, y: int, z: int) -> int:\n",
    "        return min(x, y, z)\n",
    "\n",
    "    def max(x: int, y: int, z: int) -> int:\n",
    "        return max(x, y, z)"
   ]
  },
  {
   "cell_type": "code",
   "execution_count": 27,
   "id": "beb31a29",
   "metadata": {
    "execution": {
     "iopub.execute_input": "2021-11-17T08:18:53.270155Z",
     "iopub.status.busy": "2021-11-17T08:18:53.269191Z",
     "iopub.status.idle": "2021-11-17T08:18:53.272808Z",
     "shell.execute_reply": "2021-11-17T08:18:53.273300Z"
    },
    "slideshow": {
     "slide_type": "fragment"
    }
   },
   "outputs": [
    {
     "data": {
      "text/markdown": [
       "\n",
       "```mermaid\n",
       "classDiagram\n",
       "direction TD\n",
       "class Server {\n",
       "    -state = 42\n",
       "  +max(x: int, y: int, z: int) int\n",
       "  +middle(x: int, y: int, z: int) int\n",
       "  +min(x: int, y: int, z: int) int\n",
       "}\n",
       "```"
      ],
      "text/plain": [
       "<__main__.ClassDiagram at 0x12830c400>"
      ]
     },
     "execution_count": 27,
     "metadata": {},
     "output_type": "execute_result"
    }
   ],
   "source": [
    "ClassDiagram(Server)"
   ]
  },
  {
   "cell_type": "markdown",
   "id": "eca215de",
   "metadata": {
    "slideshow": {
     "slide_type": "subslide"
    }
   },
   "source": [
    "But also dynamic diagrams:"
   ]
  },
  {
   "cell_type": "code",
   "execution_count": 28,
   "id": "f8f6f833",
   "metadata": {
    "execution": {
     "iopub.execute_input": "2021-11-17T08:18:53.280219Z",
     "iopub.status.busy": "2021-11-17T08:18:53.278849Z",
     "iopub.status.idle": "2021-11-17T08:18:53.283128Z",
     "shell.execute_reply": "2021-11-17T08:18:53.283645Z"
    },
    "slideshow": {
     "slide_type": "fragment"
    }
   },
   "outputs": [
    {
     "data": {
      "text/markdown": [
       "```mermaid\n",
       "sequenceDiagram\n",
       "Client->>+Server: middle(z=20, y=50, x=30)\n",
       "Server-->>-Client: 30\n",
       "```"
      ],
      "text/plain": [
       "<__main__.SequenceDiagramTracer at 0x12830ca30>"
      ]
     },
     "execution_count": 28,
     "metadata": {},
     "output_type": "execute_result"
    }
   ],
   "source": [
    "with SequenceDiagramTracer() as tracer:\n",
    "    m = middle(30, 50, 20)\n",
    "tracer"
   ]
  },
  {
   "cell_type": "markdown",
   "id": "72eee76d",
   "metadata": {
    "slideshow": {
     "slide_type": "fragment"
    }
   },
   "source": [
    "One may even compare this diagram with the one in the specification and flag mismatches."
   ]
  },
  {
   "cell_type": "markdown",
   "id": "1c8474c2",
   "metadata": {
    "slideshow": {
     "slide_type": "slide"
    }
   },
   "source": [
    "## Tutorial"
   ]
  },
  {
   "cell_type": "markdown",
   "id": "9ae701da",
   "metadata": {
    "slideshow": {
     "slide_type": "fragment"
    }
   },
   "source": [
    "To use `middle`, you need Python 3.9 or later. First install the `debuggingbook` module, available via the Python `pip` program:"
   ]
  },
  {
   "cell_type": "code",
   "execution_count": 29,
   "id": "9b0ea356",
   "metadata": {
    "execution": {
     "iopub.execute_input": "2021-11-17T08:18:53.288280Z",
     "iopub.status.busy": "2021-11-17T08:18:53.287464Z",
     "iopub.status.idle": "2021-11-17T08:18:56.851874Z",
     "shell.execute_reply": "2021-11-17T08:18:56.851360Z"
    },
    "slideshow": {
     "slide_type": "fragment"
    }
   },
   "outputs": [],
   "source": [
    "!pip install --quiet debuggingbook"
   ]
  },
  {
   "cell_type": "markdown",
   "id": "f48314b0",
   "metadata": {
    "slideshow": {
     "slide_type": "fragment"
    }
   },
   "source": [
    "Within `debuggingbook`, the `StatisticalDebugger` provides a `middle()` function, but it is buggy (as it serves to demonstrate statistical debugging). A correct version is available as `middle_fixed()`, which you can import as `middle()` as follows:"
   ]
  },
  {
   "cell_type": "code",
   "execution_count": 30,
   "id": "610af3c3",
   "metadata": {
    "execution": {
     "iopub.execute_input": "2021-11-17T08:18:56.856982Z",
     "iopub.status.busy": "2021-11-17T08:18:56.856402Z",
     "iopub.status.idle": "2021-11-17T08:18:56.875598Z",
     "shell.execute_reply": "2021-11-17T08:18:56.876073Z"
    },
    "slideshow": {
     "slide_type": "skip"
    }
   },
   "outputs": [],
   "source": [
    "from debuggingbook.StatisticalDebugger import middle_fixed as middle"
   ]
  },
  {
   "cell_type": "code",
   "execution_count": 31,
   "id": "63acd34c",
   "metadata": {
    "execution": {
     "iopub.execute_input": "2021-11-17T08:18:56.881118Z",
     "iopub.status.busy": "2021-11-17T08:18:56.879948Z",
     "iopub.status.idle": "2021-11-17T08:18:56.883829Z",
     "shell.execute_reply": "2021-11-17T08:18:56.884256Z"
    },
    "slideshow": {
     "slide_type": "fragment"
    }
   },
   "outputs": [
    {
     "data": {
      "text/plain": [
       "4"
      ]
     },
     "execution_count": 31,
     "metadata": {},
     "output_type": "execute_result"
    }
   ],
   "source": [
    "middle(5, 4, 1)"
   ]
  },
  {
   "cell_type": "markdown",
   "id": "faf7b5f4",
   "metadata": {
    "slideshow": {
     "slide_type": "subslide"
    }
   },
   "source": [
    "### Symbolic Verification"
   ]
  },
  {
   "cell_type": "code",
   "execution_count": 32,
   "id": "4c91d747",
   "metadata": {
    "execution": {
     "iopub.execute_input": "2021-11-17T08:18:56.887835Z",
     "iopub.status.busy": "2021-11-17T08:18:56.887262Z",
     "iopub.status.idle": "2021-11-17T08:18:56.919411Z",
     "shell.execute_reply": "2021-11-17T08:18:56.919851Z"
    },
    "slideshow": {
     "slide_type": "skip"
    }
   },
   "outputs": [],
   "source": [
    "from z3 import *"
   ]
  },
  {
   "cell_type": "code",
   "execution_count": 33,
   "id": "209c1dd9",
   "metadata": {
    "execution": {
     "iopub.execute_input": "2021-11-17T08:18:56.923974Z",
     "iopub.status.busy": "2021-11-17T08:18:56.923275Z",
     "iopub.status.idle": "2021-11-17T08:18:56.926237Z",
     "shell.execute_reply": "2021-11-17T08:18:56.926891Z"
    },
    "slideshow": {
     "slide_type": "fragment"
    }
   },
   "outputs": [],
   "source": [
    "s = Solver()  # Create a Z3 solver with four variables\n",
    "x, y, z = Int('x'), Int('y'), Int('z')\n",
    "m = Int('middle')"
   ]
  },
  {
   "cell_type": "code",
   "execution_count": 34,
   "id": "5e682dc1",
   "metadata": {
    "execution": {
     "iopub.execute_input": "2021-11-17T08:18:56.933446Z",
     "iopub.status.busy": "2021-11-17T08:18:56.932722Z",
     "iopub.status.idle": "2021-11-17T08:18:56.946068Z",
     "shell.execute_reply": "2021-11-17T08:18:56.946552Z"
    },
    "slideshow": {
     "slide_type": "fragment"
    }
   },
   "outputs": [],
   "source": [
    "s.add(Implies(And(y < z, x < y), m == y))  # Encode the middle() constraints\n",
    "s.add(Implies(And(y < z, x >= y), m == x))\n",
    "s.add(Implies(And(y >= z, x > y), m == y))\n",
    "s.add(Implies(And(y >= z, x <= y), m == x))\n",
    "s.add(Implies(And(Not(x < y), Not(x < z), Not(x > y), Not(x > z)), m == z))"
   ]
  },
  {
   "cell_type": "code",
   "execution_count": 35,
   "id": "3209a277",
   "metadata": {
    "execution": {
     "iopub.execute_input": "2021-11-17T08:18:56.950956Z",
     "iopub.status.busy": "2021-11-17T08:18:56.950386Z",
     "iopub.status.idle": "2021-11-17T08:18:56.964162Z",
     "shell.execute_reply": "2021-11-17T08:18:56.964572Z"
    },
    "slideshow": {
     "slide_type": "fragment"
    }
   },
   "outputs": [
    {
     "data": {
      "text/html": [
       "<b>unsat</b>"
      ],
      "text/plain": [
       "unsat"
      ]
     },
     "execution_count": 35,
     "metadata": {},
     "output_type": "execute_result"
    }
   ],
   "source": [
    "s.add(And(x < y, y < z, m != y))  # This shouldn't be possible\n",
    "s.check()"
   ]
  },
  {
   "cell_type": "markdown",
   "id": "e46a17b2",
   "metadata": {
    "slideshow": {
     "slide_type": "slide"
    }
   },
   "source": [
    "## Q&A\n",
    "\n",
    "* [What's wrong with middle()?](#What_s_wrong_with_middle()?)\n",
    "* [I get a syntax error](#I_get_a_syntax_error)\n",
    "* [Can we have a `largest()` and `smallest()` function too?](#Can_we_have_a_largest()_and_smallest()_function_too?)"
   ]
  },
  {
   "cell_type": "markdown",
   "id": "b409779a",
   "metadata": {
    "slideshow": {
     "slide_type": "subslide"
    }
   },
   "source": [
    "### What's wrong with `middle()`?\n",
    "\n",
    "**Question.** I use `middle` from the `StatisticalDebugger` module. However, it doesn't seem to return the correct value. What am I doing wrong? -- novice@python.net"
   ]
  },
  {
   "cell_type": "code",
   "execution_count": 36,
   "id": "8d32059a",
   "metadata": {
    "execution": {
     "iopub.execute_input": "2021-11-17T08:18:56.969370Z",
     "iopub.status.busy": "2021-11-17T08:18:56.968475Z",
     "iopub.status.idle": "2021-11-17T08:18:56.971973Z",
     "shell.execute_reply": "2021-11-17T08:18:56.972863Z"
    },
    "slideshow": {
     "slide_type": "skip"
    }
   },
   "outputs": [
    {
     "data": {
      "text/plain": [
       "1"
      ]
     },
     "execution_count": 36,
     "metadata": {},
     "output_type": "execute_result"
    }
   ],
   "source": [
    "from StatisticalDebugger import middle\n",
    "middle(2, 1, 3)  # should be 2"
   ]
  },
  {
   "cell_type": "markdown",
   "id": "d6c64ffb",
   "metadata": {
    "slideshow": {
     "slide_type": "subslide"
    }
   },
   "source": [
    "**Best Answer (+10).** You need to import `middle_fixed` instead. -- expert@debugging.com"
   ]
  },
  {
   "cell_type": "code",
   "execution_count": 37,
   "id": "0e2cd21a",
   "metadata": {
    "execution": {
     "iopub.execute_input": "2021-11-17T08:18:56.977288Z",
     "iopub.status.busy": "2021-11-17T08:18:56.976609Z",
     "iopub.status.idle": "2021-11-17T08:18:56.979684Z",
     "shell.execute_reply": "2021-11-17T08:18:56.980124Z"
    },
    "slideshow": {
     "slide_type": "skip"
    }
   },
   "outputs": [
    {
     "data": {
      "text/plain": [
       "2"
      ]
     },
     "execution_count": 37,
     "metadata": {},
     "output_type": "execute_result"
    }
   ],
   "source": [
    "from StatisticalDebugger import middle_fixed as middle\n",
    "middle(2, 1, 3)  # should be 2"
   ]
  },
  {
   "cell_type": "markdown",
   "id": "016a8099",
   "metadata": {
    "slideshow": {
     "slide_type": "subslide"
    }
   },
   "source": [
    "**Answer (+5)** Don't use `middle(x, y, z)` -- just write `sorted([x, y, z])[1]` -- say.no.to@libraries.com"
   ]
  },
  {
   "cell_type": "code",
   "execution_count": 38,
   "id": "ee0020d2",
   "metadata": {
    "execution": {
     "iopub.execute_input": "2021-11-17T08:18:56.985890Z",
     "iopub.status.busy": "2021-11-17T08:18:56.985240Z",
     "iopub.status.idle": "2021-11-17T08:18:56.988003Z",
     "shell.execute_reply": "2021-11-17T08:18:56.988505Z"
    },
    "slideshow": {
     "slide_type": "fragment"
    }
   },
   "outputs": [
    {
     "data": {
      "text/plain": [
       "2"
      ]
     },
     "execution_count": 38,
     "metadata": {},
     "output_type": "execute_result"
    }
   ],
   "source": [
    "sorted([2, 1, 3])[1]"
   ]
  },
  {
   "cell_type": "markdown",
   "id": "30d2df2a",
   "metadata": {
    "slideshow": {
     "slide_type": "subslide"
    }
   },
   "source": [
    "**Comment (-2)** Actually, `sort()` is more efficient. -- cpluspluslover@programming.com"
   ]
  },
  {
   "cell_type": "code",
   "execution_count": 39,
   "id": "4456cba9",
   "metadata": {
    "execution": {
     "iopub.execute_input": "2021-11-17T08:18:56.993233Z",
     "iopub.status.busy": "2021-11-17T08:18:56.992532Z",
     "iopub.status.idle": "2021-11-17T08:18:56.995558Z",
     "shell.execute_reply": "2021-11-17T08:18:56.996215Z"
    },
    "slideshow": {
     "slide_type": "fragment"
    }
   },
   "outputs": [
    {
     "data": {
      "text/plain": [
       "2"
      ]
     },
     "execution_count": 39,
     "metadata": {},
     "output_type": "execute_result"
    }
   ],
   "source": [
    "xyz = list([2, 1, 3]); xyz.sort(); xyz[1]"
   ]
  },
  {
   "cell_type": "markdown",
   "id": "1b0cfa20",
   "metadata": {
    "slideshow": {
     "slide_type": "subslide"
    }
   },
   "source": [
    "**Comment (+2)** `sort()` takes three lines of code, whereas `sorted()` takes one. Also, avoid multiple statements on a line -- haskellfan@beautifulcode.org"
   ]
  },
  {
   "cell_type": "markdown",
   "id": "1ed5b4e8",
   "metadata": {
    "slideshow": {
     "slide_type": "subslide"
    }
   },
   "source": [
    "### I get a syntax error\n",
    "\n",
    "**Question.** When I run the above `middle()` code, I get a message\n",
    "`SyntaxError: invalid syntax`. What am I doing wrong? -- appleuser@mac.com"
   ]
  },
  {
   "cell_type": "markdown",
   "id": "683478a8",
   "metadata": {
    "slideshow": {
     "slide_type": "subslide"
    }
   },
   "source": [
    "**Best Answer (+10).** Are you using Python 2.x? Type annotations work with Python 3.6 and later -- updates@python.org"
   ]
  },
  {
   "cell_type": "markdown",
   "id": "21baa748",
   "metadata": {
    "slideshow": {
     "slide_type": "subslide"
    }
   },
   "source": [
    "### Can we have a `largest()` and `smallest()` function too?\n",
    "\n",
    "**Question.** How do I get the greatest (or smallest) of $x$, $y$, and $z$?  -- novice@python.net"
   ]
  },
  {
   "cell_type": "markdown",
   "id": "4f1c1973",
   "metadata": {
    "slideshow": {
     "slide_type": "subslide"
    }
   },
   "source": [
    "**Best Answer (+10).** Try Python `max()` and `min()` -- guido@python.org"
   ]
  },
  {
   "cell_type": "code",
   "execution_count": 40,
   "id": "21fe252c",
   "metadata": {
    "execution": {
     "iopub.execute_input": "2021-11-17T08:18:57.000522Z",
     "iopub.status.busy": "2021-11-17T08:18:56.999928Z",
     "iopub.status.idle": "2021-11-17T08:18:57.002488Z",
     "shell.execute_reply": "2021-11-17T08:18:57.002902Z"
    },
    "slideshow": {
     "slide_type": "fragment"
    }
   },
   "outputs": [
    {
     "data": {
      "text/plain": [
       "3"
      ]
     },
     "execution_count": 40,
     "metadata": {},
     "output_type": "execute_result"
    }
   ],
   "source": [
    "max(2, 1, 3)  # should be 3"
   ]
  },
  {
   "cell_type": "code",
   "execution_count": 41,
   "id": "71fa73f6",
   "metadata": {
    "execution": {
     "iopub.execute_input": "2021-11-17T08:18:57.009343Z",
     "iopub.status.busy": "2021-11-17T08:18:57.008429Z",
     "iopub.status.idle": "2021-11-17T08:18:57.011739Z",
     "shell.execute_reply": "2021-11-17T08:18:57.012229Z"
    },
    "slideshow": {
     "slide_type": "fragment"
    }
   },
   "outputs": [
    {
     "data": {
      "text/plain": [
       "1"
      ]
     },
     "execution_count": 41,
     "metadata": {},
     "output_type": "execute_result"
    }
   ],
   "source": [
    "min(2, 1, 3)  # should be 1"
   ]
  },
  {
   "cell_type": "markdown",
   "id": "55a3d5ae",
   "metadata": {
    "slideshow": {
     "slide_type": "slide"
    }
   },
   "source": [
    "# Drawing UML"
   ]
  },
  {
   "cell_type": "markdown",
   "id": "89d9607b",
   "metadata": {
    "slideshow": {
     "slide_type": "fragment"
    }
   },
   "source": [
    "Install [jupyterlab-markup](https://opensourcelibs.com/lib/jupyterlab-markup)"
   ]
  },
  {
   "cell_type": "markdown",
   "id": "3e2e50a6",
   "metadata": {
    "slideshow": {
     "slide_type": "fragment"
    }
   },
   "source": [
    "```mermaid\n",
    "graph TD;\n",
    "    A-->B;\n",
    "    A-->C;\n",
    "    B-->D;\n",
    "    C-->D;\n",
    "```"
   ]
  },
  {
   "cell_type": "code",
   "execution_count": 42,
   "id": "210e66d5",
   "metadata": {
    "execution": {
     "iopub.execute_input": "2021-11-17T08:18:57.017248Z",
     "iopub.status.busy": "2021-11-17T08:18:57.015978Z",
     "iopub.status.idle": "2021-11-17T08:18:57.018366Z",
     "shell.execute_reply": "2021-11-17T08:18:57.018933Z"
    },
    "slideshow": {
     "slide_type": "skip"
    }
   },
   "outputs": [],
   "source": [
    "from IPython.display import display, Markdown"
   ]
  },
  {
   "cell_type": "code",
   "execution_count": 43,
   "id": "8855d181",
   "metadata": {
    "execution": {
     "iopub.execute_input": "2021-11-17T08:18:57.023508Z",
     "iopub.status.busy": "2021-11-17T08:18:57.022758Z",
     "iopub.status.idle": "2021-11-17T08:18:57.025340Z",
     "shell.execute_reply": "2021-11-17T08:18:57.025780Z"
    },
    "slideshow": {
     "slide_type": "subslide"
    }
   },
   "outputs": [
    {
     "data": {
      "text/markdown": [
       "\n",
       "```mermaid\n",
       "graph TD;\n",
       "    A-->B;\n",
       "    B-->A;\n",
       "    A-->C;\n",
       "    B-->D;\n",
       "    C-->D;\n",
       "```"
      ],
      "text/plain": [
       "<IPython.core.display.Markdown object>"
      ]
     },
     "execution_count": 43,
     "metadata": {},
     "output_type": "execute_result"
    }
   ],
   "source": [
    "Markdown(\"\"\"\n",
    "```mermaid\n",
    "graph TD;\n",
    "    A-->B;\n",
    "    B-->A;\n",
    "    A-->C;\n",
    "    B-->D;\n",
    "    C-->D;\n",
    "```\"\"\")"
   ]
  },
  {
   "cell_type": "markdown",
   "id": "c0fb0267",
   "metadata": {
    "slideshow": {
     "slide_type": "slide"
    }
   },
   "source": [
    "# More Resources\n",
    " \n",
    "* [I don't like notebooks](https://www.youtube.com/watch?v=7jiPeIFXb6U)\n",
    "* [JupyterBook](https://blog.jupyter.org/announcing-the-new-jupyter-book-cbf7aa8bc72e)\n",
    "* The [Grand Unified Theory of Documentation](https://documentation.divio.com):\n",
    "    * Tutorials\n",
    "    * How-To Guides\n",
    "    * Explanation\n",
    "    * Reference\n",
    "* [Eve: Programming for Humans](http://witheve.com)\n",
    "* [nbdev: Create Python Projects with Jupyter Notebooks](https://nbdev.fast.ai)"
   ]
  },
  {
   "cell_type": "markdown",
   "id": "ff090321",
   "metadata": {
    "slideshow": {
     "slide_type": "subslide"
    }
   },
   "source": [
    "Influences:\n",
    "\n",
    "* \\TeX: The Program by Donald J. Knuth\n",
    "* Operating Systems: Design and Implementation by Andrew Tanenbaum"
   ]
  },
  {
   "cell_type": "markdown",
   "id": "8643f66f",
   "metadata": {
    "slideshow": {
     "slide_type": "subslide"
    }
   },
   "source": [
    "Our goal: Have a _single document_ that encompasses\n",
    "\n",
    "* Code\n",
    "* Tests\n",
    "* Tutorial\n",
    "* How-To-Guides\n",
    "* Explanations\n",
    "* Reference\n",
    "\n",
    "in an _executable_ and _self-updating_ way."
   ]
  },
  {
   "cell_type": "markdown",
   "id": "1c9045be",
   "metadata": {
    "slideshow": {
     "slide_type": "slide"
    }
   },
   "source": [
    "## Abstract"
   ]
  },
  {
   "cell_type": "markdown",
   "id": "ee017ad4",
   "metadata": {
    "slideshow": {
     "slide_type": "slide"
    }
   },
   "source": [
    "## `I` is for `I`llustrate\n",
    "\n",
    "Every piece of code should come with an _example_ that _illustrates_ is usage."
   ]
  },
  {
   "cell_type": "markdown",
   "id": "914d5c41",
   "metadata": {
    "slideshow": {
     "slide_type": "slide"
    }
   },
   "source": [
    "## `L` is for `L`avish\n",
    "\n",
    "Go beyond typewriter text. Make use of all media modern tools have to offer – diagrams! charts! videos! Tie these to your code and examples, such that they stay in sync."
   ]
  },
  {
   "cell_type": "markdown",
   "id": "24fe90d7",
   "metadata": {
    "slideshow": {
     "slide_type": "slide"
    }
   },
   "source": [
    "## `L` is for `L`og\n",
    "\n",
    "Do not just describe the final version. Discuss alternatives you have tried (and revoked, and why). This will be helpful for understanding later.\n",
    "\n",
    "Note down your ideas and plans during development + testing\n",
    "\n",
    "Also log during debugging. Keep track of your experiments and their results. Turn these into test cases later."
   ]
  },
  {
   "cell_type": "markdown",
   "id": "57846471",
   "metadata": {
    "slideshow": {
     "slide_type": "slide"
    }
   },
   "source": [
    "## `U` is for `U`pdate\n",
    "\n",
    "Make your document the single place to be updated."
   ]
  },
  {
   "cell_type": "markdown",
   "id": "f02138c4",
   "metadata": {
    "slideshow": {
     "slide_type": "slide"
    }
   },
   "source": [
    "## `S` is for `S`piralize\n",
    "\n",
    "Focus on the essentials first, and add details later. Give the reader moments where they can stay and recapitulate what they learned. Make these abstraction layers in your code, such that readers can choose what to use (and what to read, too!) Proceed step by step, illustrating one piece at a time."
   ]
  },
  {
   "cell_type": "markdown",
   "id": "0d78d167",
   "metadata": {
    "slideshow": {
     "slide_type": "slide"
    }
   },
   "source": [
    "## `T` is for `T`utorial\n",
    "\n",
    "Allow your readers to learn what your code is about – from a usage perspective, but also from an implementation perspective. Use quizzes, tests, exercises."
   ]
  },
  {
   "cell_type": "markdown",
   "id": "19a2fa06",
   "metadata": {
    "slideshow": {
     "slide_type": "slide"
    }
   },
   "source": [
    "## `R` is for `R`eference\n",
    "\n",
    "Allow your readers to extract and study those parts they need – interfaces, specs. And, of course, allow them to _use_ your code."
   ]
  },
  {
   "cell_type": "markdown",
   "id": "9ae20aa6",
   "metadata": {
    "slideshow": {
     "slide_type": "slide"
    }
   },
   "source": [
    "## `A` is for `A`ssist\n",
    "\n",
    "Have others contribute to your tutorial – e.g. by providing recipes for specific how-to questions\n",
    "Think of StackOverflow, but constantly tested and updated\n",
    "\n",
    "StackOverflow is filled with how-to questions. Yet, many of these are outdated over time. Allow for your readers to ask questions (with code that will be executed and tested as part of your work). Make your work a community effort!"
   ]
  },
  {
   "cell_type": "markdown",
   "id": "b8380ff3",
   "metadata": {
    "slideshow": {
     "slide_type": "slide"
    }
   },
   "source": [
    "## `T` is for `T`est\n",
    "\n",
    "Having detailed examples should automatically lead to full coverage of your code. Have assertions on top – to explain what is going on, but also to ensure consistency between code and text.\n",
    "\n",
    "Save previous outputs of your examples; get notified when things change. Great way to do regression testing!"
   ]
  },
  {
   "cell_type": "markdown",
   "id": "31fe1cf1",
   "metadata": {
    "slideshow": {
     "slide_type": "slide"
    }
   },
   "source": [
    "## `E` is for `E`ase\n",
    "\n",
    "Your job is coding, teaching, and testing – all in one place\n",
    "\n",
    "Ease the life of future readers (which may include you)\n",
    "\n",
    "Ease the life of people who want to use your code"
   ]
  }
 ],
 "metadata": {
  "ipub": {
   "bibliography": "fuzzingbook.bib"
  },
  "kernelspec": {
   "display_name": "Python 3 (ipykernel)",
   "language": "python",
   "name": "python3"
  },
  "language_info": {
   "codemirror_mode": {
    "name": "ipython",
    "version": 3
   },
   "file_extension": ".py",
   "mimetype": "text/x-python",
   "name": "python",
   "nbconvert_exporter": "python",
   "pygments_lexer": "ipython3",
   "version": "3.9.7"
  },
  "toc": {
   "base_numbering": 1,
   "nav_menu": {},
   "number_sections": true,
   "sideBar": true,
   "skip_h1_title": true,
   "title_cell": "",
   "title_sidebar": "Contents",
   "toc_cell": false,
   "toc_position": {},
   "toc_section_display": true,
   "toc_window_display": true
  },
  "toc-autonumbering": false,
  "toc-showcode": false,
  "toc-showmarkdowntxt": false,
  "toc-showtags": false
 },
 "nbformat": 4,
 "nbformat_minor": 5
}
