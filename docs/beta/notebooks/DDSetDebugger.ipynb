{
 "cells": [
  {
   "cell_type": "markdown",
   "metadata": {
    "button": false,
    "new_sheet": false,
    "run_control": {
     "read_only": false
    },
    "slideshow": {
     "slide_type": "slide"
    }
   },
   "source": [
    "# Generalizing Failure Circumstances\n",
    "\n",
    "One central question in debugging is: _Does this bug occur in other situations, too?_ In this chapter, we present a technique that is set to _generalize_ the circumstances under which a failure occurs. The DDSET algorithm takes a failure-inducing input, breaks it into individual elements. For each element, it tries to find whether it can be replaced by others in the same category, and if so, it _generalizes_ the concrete element to the very category. The result is a _pattern_ that characterizes the failure condition: \"The failure occurs for all inputs of the form `(<expr> * <expr>)`."
   ]
  },
  {
   "cell_type": "code",
   "execution_count": 1,
   "metadata": {
    "execution": {
     "iopub.execute_input": "2021-03-09T12:01:48.579194Z",
     "iopub.status.busy": "2021-03-09T12:01:48.578551Z",
     "iopub.status.idle": "2021-03-09T12:01:48.717811Z",
     "shell.execute_reply": "2021-03-09T12:01:48.718180Z"
    },
    "slideshow": {
     "slide_type": "skip"
    }
   },
   "outputs": [
    {
     "data": {
      "text/html": [
       "\n",
       "        <iframe\n",
       "            width=\"640\"\n",
       "            height=\"360\"\n",
       "            src=\"https://www.youtube-nocookie.com/embed/PV22XtIQU1s\"\n",
       "            frameborder=\"0\"\n",
       "            allowfullscreen\n",
       "        ></iframe>\n",
       "        "
      ],
      "text/plain": [
       "<IPython.lib.display.IFrame at 0x7fc9448d1978>"
      ]
     },
     "execution_count": 1,
     "metadata": {},
     "output_type": "execute_result"
    }
   ],
   "source": [
    "from bookutils import YouTubeVideo\n",
    "YouTubeVideo(\"PV22XtIQU1s\")"
   ]
  },
  {
   "cell_type": "markdown",
   "metadata": {
    "button": false,
    "new_sheet": false,
    "run_control": {
     "read_only": false
    },
    "slideshow": {
     "slide_type": "subslide"
    }
   },
   "source": [
    "**Prerequisites**\n",
    "\n",
    "* You should have read the [chapter on _delta debugging_](DeltaDebugger.ipynb)."
   ]
  },
  {
   "cell_type": "code",
   "execution_count": 2,
   "metadata": {
    "button": false,
    "execution": {
     "iopub.execute_input": "2021-03-09T12:01:48.722098Z",
     "iopub.status.busy": "2021-03-09T12:01:48.721120Z",
     "iopub.status.idle": "2021-03-09T12:01:48.723420Z",
     "shell.execute_reply": "2021-03-09T12:01:48.723791Z"
    },
    "new_sheet": false,
    "run_control": {
     "read_only": false
    },
    "slideshow": {
     "slide_type": "skip"
    }
   },
   "outputs": [],
   "source": [
    "import bookutils"
   ]
  },
  {
   "cell_type": "code",
   "execution_count": 3,
   "metadata": {
    "execution": {
     "iopub.execute_input": "2021-03-09T12:01:48.726977Z",
     "iopub.status.busy": "2021-03-09T12:01:48.726391Z",
     "iopub.status.idle": "2021-03-09T12:01:49.219676Z",
     "shell.execute_reply": "2021-03-09T12:01:49.220178Z"
    },
    "slideshow": {
     "slide_type": "skip"
    }
   },
   "outputs": [],
   "source": [
    "import DeltaDebugger"
   ]
  },
  {
   "cell_type": "markdown",
   "metadata": {
    "slideshow": {
     "slide_type": "skip"
    }
   },
   "source": [
    "## Synopsis\n",
    "<!-- Automatically generated. Do not edit. -->\n",
    "\n",
    "To [use the code provided in this chapter](Importing.ipynb), write\n",
    "\n",
    "```python\n",
    ">>> from debuggingbook.DDSetDebugger import <identifier>\n",
    "```\n",
    "\n",
    "and then make use of the following features.\n",
    "\n",
    "\n",
    "This chapter provides a class `DDSetDebugger`, implementing the DDSET algorithm for generalizing failure-inducing inputs. The `DDSetDebugger` is used as follows:\n",
    "\n",
    "```python\n",
    "with DDSetDebugger(grammar) as dd:\n",
    "    function(args...)\n",
    "dd\n",
    "```\n",
    "\n",
    "Here, `function(args...)` is a failing function call (= raises an execption) that takes at least one string argument; `grammar` is an [input grammar in fuzzingbook format](https://www.fuzzingbook.org/html/Grammars.html) that matches the format of this argument.\n",
    "\n",
    "The result is a call of `function()` with an _abstract failure-inducing input_ – a variant of the conrete input in which parts are replaced by placeholders in the form `<name>`, where `<name>` is a nonterminal in the grammar. The failure has been verified to occur for a number of instantiations of `<name>`.\n",
    "\n",
    "Here is an example of how `DDSetDebugger` works. The concrete failing input `<foo>\"bar</foo>` is generalized to an _abstract failure-inducing input_:\n",
    "\n",
    "```python\n",
    ">>> with DDSetDebugger(SIMPLE_HTML_GRAMMAR) as dd:\n",
    ">>>     remove_html_markup('<foo>\"bar</foo>')\n",
    ">>> dd\n",
    "\n",
    "remove_html_markup(s='<lt><id><gt>\"<plain-text><closing-tag>')\n",
    "```\n",
    "The abstract input tells us that the failure occurs for whatever opening and closing HTML tags as long as there is a double quote between them.\n",
    "\n",
    "A programmatic interface is available as well. `generalize()` returns a mapping of argument names to (generalized) values:\n",
    "\n",
    "```python\n",
    ">>> dd.generalize()\n",
    "\n",
    "{'s': '<lt><id><gt>\"<plain-text><closing-tag>'}\n",
    "```\n",
    "Using `fuzz()`, the abstract input can be instantiated to further concrete inputs, all set to produce the failure again:\n",
    "\n",
    "```python\n",
    ">>> for i in range(10):\n",
    ">>>     print(dd.fuzz())\n",
    "\n",
    "remove_html_markup(s='<s1d>\"1</hF>')\n",
    "remove_html_markup(s='<H>\"c*C</l>')\n",
    "remove_html_markup(s='<Ah2>\"</v>')\n",
    "remove_html_markup(s='<a7>\")</NP>')\n",
    "remove_html_markup(s='<boyIIt640TF>\"</b08>')\n",
    "remove_html_markup(s='<dF>\"</fay>')\n",
    "remove_html_markup(s='<l2>\"\\t7</z>')\n",
    "remove_html_markup(s='<ci>\"</t>')\n",
    "remove_html_markup(s='<J>\"2</t>')\n",
    "remove_html_markup(s='<Fo9g>\"\\r~\\t\\r</D>')\n",
    "```\n",
    "`DDSetDebugger` can be customized by passing a subclass of `TreeGeneralizer`, which does the gist of the work; for details, see its constructor.\n",
    "The full class hierarchy is shown below.\n",
    "\n",
    "\n",
    "![](PICS/DDSetDebugger-synopsis-1.svg)\n",
    "\n"
   ]
  },
  {
   "cell_type": "markdown",
   "metadata": {
    "slideshow": {
     "slide_type": "slide"
    }
   },
   "source": [
    "## A Failing Program\n",
    "\n",
    "As with previous chapters, we use `remove_html_markup()` as our ongoing example. This function is set to remove HTML markup tags (like `<em>`) from a given string `s`, returning the plain text only. We use the version from [the chapter on asssertions](Assertions.ipynb), using an assertion as postcondition checker."
   ]
  },
  {
   "cell_type": "code",
   "execution_count": 4,
   "metadata": {
    "execution": {
     "iopub.execute_input": "2021-03-09T12:01:49.225434Z",
     "iopub.status.busy": "2021-03-09T12:01:49.224700Z",
     "iopub.status.idle": "2021-03-09T12:01:49.227222Z",
     "shell.execute_reply": "2021-03-09T12:01:49.227603Z"
    },
    "slideshow": {
     "slide_type": "subslide"
    }
   },
   "outputs": [],
   "source": [
    "def remove_html_markup(s):  # type: ignore\n",
    "    tag = False\n",
    "    quote = False\n",
    "    out = \"\"\n",
    "\n",
    "    for c in s:\n",
    "        if c == '<' and not quote:\n",
    "            tag = True\n",
    "        elif c == '>' and not quote:\n",
    "            tag = False\n",
    "        elif c == '\"' or c == \"'\" and tag:\n",
    "            quote = not quote\n",
    "        elif not tag:\n",
    "            out = out + c\n",
    "\n",
    "    # postcondition\n",
    "    assert '<' not in out and '>' not in out\n",
    "\n",
    "    return out"
   ]
  },
  {
   "cell_type": "markdown",
   "metadata": {
    "slideshow": {
     "slide_type": "subslide"
    }
   },
   "source": [
    "For the most inputs, `remove_html_markup()` works just as expected:"
   ]
  },
  {
   "cell_type": "code",
   "execution_count": 5,
   "metadata": {
    "execution": {
     "iopub.execute_input": "2021-03-09T12:01:49.231222Z",
     "iopub.status.busy": "2021-03-09T12:01:49.230598Z",
     "iopub.status.idle": "2021-03-09T12:01:49.233064Z",
     "shell.execute_reply": "2021-03-09T12:01:49.232706Z"
    },
    "slideshow": {
     "slide_type": "fragment"
    }
   },
   "outputs": [
    {
     "data": {
      "text/plain": [
       "'Be quiet, he said'"
      ]
     },
     "execution_count": 1,
     "metadata": {},
     "output_type": "execute_result"
    }
   ],
   "source": [
    "remove_html_markup(\"Be <em>quiet</em>, he said\")"
   ]
  },
  {
   "cell_type": "markdown",
   "metadata": {
    "slideshow": {
     "slide_type": "fragment"
    }
   },
   "source": [
    "There are inputs, however, for which it fails:"
   ]
  },
  {
   "cell_type": "code",
   "execution_count": 6,
   "metadata": {
    "execution": {
     "iopub.execute_input": "2021-03-09T12:01:49.236135Z",
     "iopub.status.busy": "2021-03-09T12:01:49.235532Z",
     "iopub.status.idle": "2021-03-09T12:01:49.237776Z",
     "shell.execute_reply": "2021-03-09T12:01:49.238248Z"
    },
    "slideshow": {
     "slide_type": "fragment"
    }
   },
   "outputs": [],
   "source": [
    "BAD_INPUT = '<foo>\"bar</foo>'"
   ]
  },
  {
   "cell_type": "code",
   "execution_count": 7,
   "metadata": {
    "execution": {
     "iopub.execute_input": "2021-03-09T12:01:49.241612Z",
     "iopub.status.busy": "2021-03-09T12:01:49.240876Z",
     "iopub.status.idle": "2021-03-09T12:01:49.242645Z",
     "shell.execute_reply": "2021-03-09T12:01:49.243110Z"
    },
    "slideshow": {
     "slide_type": "skip"
    }
   },
   "outputs": [],
   "source": [
    "from ExpectError import ExpectError"
   ]
  },
  {
   "cell_type": "code",
   "execution_count": 8,
   "metadata": {
    "execution": {
     "iopub.execute_input": "2021-03-09T12:01:49.246210Z",
     "iopub.status.busy": "2021-03-09T12:01:49.245630Z",
     "iopub.status.idle": "2021-03-09T12:01:49.247934Z",
     "shell.execute_reply": "2021-03-09T12:01:49.248505Z"
    },
    "slideshow": {
     "slide_type": "fragment"
    }
   },
   "outputs": [
    {
     "name": "stderr",
     "output_type": "stream",
     "text": [
      "Traceback (most recent call last):\n",
      "  File \"<ipython-input-1-491b4345bb53>\", line 2, in <module>\n",
      "    remove_html_markup(BAD_INPUT)\n",
      "  File \"<ipython-input-1-02fa29ebf01a>\", line 17, in remove_html_markup\n",
      "    assert '<' not in out and '>' not in out\n",
      "AssertionError (expected)\n"
     ]
    }
   ],
   "source": [
    "with ExpectError(AssertionError):\n",
    "    remove_html_markup(BAD_INPUT)"
   ]
  },
  {
   "cell_type": "code",
   "execution_count": 9,
   "metadata": {
    "execution": {
     "iopub.execute_input": "2021-03-09T12:01:49.251602Z",
     "iopub.status.busy": "2021-03-09T12:01:49.251048Z",
     "iopub.status.idle": "2021-03-09T12:01:49.252684Z",
     "shell.execute_reply": "2021-03-09T12:01:49.253156Z"
    },
    "slideshow": {
     "slide_type": "skip"
    }
   },
   "outputs": [],
   "source": [
    "from bookutils import quiz"
   ]
  },
  {
   "cell_type": "markdown",
   "metadata": {
    "slideshow": {
     "slide_type": "subslide"
    }
   },
   "source": [
    "In contrast to the other chapters, our aim now is not to immediately go and debug `remove_html_markup()`. Instead, we focus on another important question: \n",
    "\n",
    "> Under which conditions precisely does `remove_html_markup()` fail?"
   ]
  },
  {
   "cell_type": "markdown",
   "metadata": {
    "slideshow": {
     "slide_type": "fragment"
    }
   },
   "source": [
    "This question can be generalized to\n",
    "\n",
    "> What is the set of inputs for which `remove_html_markup()` fails?"
   ]
  },
  {
   "cell_type": "markdown",
   "metadata": {
    "slideshow": {
     "slide_type": "subslide"
    }
   },
   "source": [
    "Our plan for this is to _generalize_ concrete inputs (such as `BAD_INPUTS`) into an *abstract failure-inducing inputs*. These are patterns formed from a concrete input, but in which specific _placeholders_ indicate sets of inputs that are permitted. In the abstract failure-inducing input\n",
    "\n",
    "```html\n",
    "<opening-tag>\"bar<closing-tag>\n",
    "```\n",
    "\n",
    "for instance, `<opening-tag>` and `<closing-tag>` are placeholders for opening and closing HTML tags, respectively. The pattern indicates that any opening HTML tag and closing HTML tag can be present in the input, as long as the enclosed text reads `\"bar`."
   ]
  },
  {
   "cell_type": "markdown",
   "metadata": {
    "slideshow": {
     "slide_type": "subslide"
    }
   },
   "source": [
    "Given a concrete failure-inducing input, our aim is to _generalize_ it as much as possible to such an abstract failure-inducing input. The resulting pattern should then\n",
    "\n",
    "* capture the _circumstances_ under which the program fails;\n",
    "* allow for _test generation_ by instantiating the placeholders;\n",
    "* help ensuring our fix is as _general as possible_."
   ]
  },
  {
   "cell_type": "code",
   "execution_count": 10,
   "metadata": {
    "execution": {
     "iopub.execute_input": "2021-03-09T12:01:49.256800Z",
     "iopub.status.busy": "2021-03-09T12:01:49.256256Z",
     "iopub.status.idle": "2021-03-09T12:01:49.272353Z",
     "shell.execute_reply": "2021-03-09T12:01:49.272733Z"
    },
    "slideshow": {
     "slide_type": "subslide"
    }
   },
   "outputs": [
    {
     "data": {
      "text/html": [
       "\n",
       "    \n",
       "    <script>\n",
       "    var bad_answers = new Map();\n",
       "\n",
       "    function answer(quiz_id) {\n",
       "        ans = 0;\n",
       "        for (i = 1;; i++) {\n",
       "            checkbox = document.getElementById(quiz_id + \"-\" + i.toString());\n",
       "            if (!checkbox)\n",
       "                break;\n",
       "            if (checkbox.checked)\n",
       "                ans |= (1 << i);\n",
       "        }\n",
       "        return ans;\n",
       "    }\n",
       "    function check_selection(quiz_id, correct_answer, multiple_choice, hint) {\n",
       "        given_answer = answer(quiz_id);\n",
       "        if (given_answer == correct_answer)\n",
       "        {\n",
       "            document.getElementById(quiz_id + \"-submit\").value = \"Correct!\";\n",
       "            document.getElementById(quiz_id + \"-hint\").innerHTML = \"\";\n",
       "\n",
       "            for (i = 1;; i++) {\n",
       "                checkbox = document.getElementById(quiz_id + \"-\" + i.toString());\n",
       "                label = document.getElementById(quiz_id + \"-\" + i.toString() + \"-label\")\n",
       "                if (!checkbox)\n",
       "                    break;\n",
       "    \n",
       "                if (checkbox.checked) {\n",
       "                    label.style.fontWeight = \"bold\";\n",
       "                }\n",
       "                else {\n",
       "                    label.style.textDecoration = \"line-through\";\n",
       "                }\n",
       "            }\n",
       "        }\n",
       "        else \n",
       "        {\n",
       "            document.getElementById(quiz_id + \"-submit\").value = \"Try again\";\n",
       "            \n",
       "            if (!bad_answers.has(quiz_id)) {\n",
       "                bad_answers.set(quiz_id, 1);\n",
       "            }\n",
       "            else {\n",
       "                bad_answers.set(quiz_id, bad_answers.get(quiz_id) + 1);\n",
       "            }\n",
       "\n",
       "            if (bad_answers.get(quiz_id) >= 2 && hint.length > 0) {\n",
       "                document.getElementById(quiz_id + \"-hint\").innerHTML = \n",
       "                    \"&nbsp;&nbsp;(Hint: <code>\" + hint + \"</code>)\";\n",
       "            }\n",
       "\n",
       "            if (!multiple_choice) {\n",
       "                for (i = 1;; i++) {\n",
       "                    checkbox = document.getElementById(quiz_id + \"-\" + i.toString());\n",
       "                    label = document.getElementById(quiz_id + \"-\" + i.toString() + \"-label\")\n",
       "\n",
       "                    if (!checkbox)\n",
       "                        break;\n",
       "                    if (checkbox.checked) {\n",
       "                        label.style.textDecoration = \"line-through\";\n",
       "                    }\n",
       "                }\n",
       "            }\n",
       "        }\n",
       "    }\n",
       "    function clear_selection(quiz_id) {\n",
       "        document.getElementById(quiz_id + \"-submit\").value = \"Submit\";\n",
       "        document.getElementById(quiz_id + \"-hint\").innerHTML = \"\";\n",
       "    }\n",
       "    </script>\n",
       "    \n",
       "    <div class=\"quiz\">\n",
       "    <h3 class=\"quiz_title\">Quiz</h3>\n",
       "    <p>\n",
       "    <div class=\"quiz_question\">If <code>s = '&lt;foo&gt;\"bar&lt;/foo&gt;'</code> (i.e., <code>BAD_INPUT</code>), what is the value of <code>out</code> such that the assertion fails?</div>\n",
       "    </p>\n",
       "    <p>\n",
       "    <div class=\"quiz_options\" title=\"Pick a choice.\">\n",
       "    \n",
       "        <input type=\"radio\" name=\"3a796bf8-80cf-11eb-a588-acde48001122\" id=\"3a796bf8-80cf-11eb-a588-acde48001122-1\" onclick=\"clear_selection('3a796bf8-80cf-11eb-a588-acde48001122')\">\n",
       "        <label id=\"3a796bf8-80cf-11eb-a588-acde48001122-1-label\" for=\"3a796bf8-80cf-11eb-a588-acde48001122-1\"><code>bar</code></label><br>\n",
       "    \n",
       "        <input type=\"radio\" name=\"3a796bf8-80cf-11eb-a588-acde48001122\" id=\"3a796bf8-80cf-11eb-a588-acde48001122-2\" onclick=\"clear_selection('3a796bf8-80cf-11eb-a588-acde48001122')\">\n",
       "        <label id=\"3a796bf8-80cf-11eb-a588-acde48001122-2-label\" for=\"3a796bf8-80cf-11eb-a588-acde48001122-2\"><code>bar&lt;/foo&gt;</code></label><br>\n",
       "    \n",
       "        <input type=\"radio\" name=\"3a796bf8-80cf-11eb-a588-acde48001122\" id=\"3a796bf8-80cf-11eb-a588-acde48001122-3\" onclick=\"clear_selection('3a796bf8-80cf-11eb-a588-acde48001122')\">\n",
       "        <label id=\"3a796bf8-80cf-11eb-a588-acde48001122-3-label\" for=\"3a796bf8-80cf-11eb-a588-acde48001122-3\"><code>\"bar&lt;/foo&gt;</code></label><br>\n",
       "    \n",
       "        <input type=\"radio\" name=\"3a796bf8-80cf-11eb-a588-acde48001122\" id=\"3a796bf8-80cf-11eb-a588-acde48001122-4\" onclick=\"clear_selection('3a796bf8-80cf-11eb-a588-acde48001122')\">\n",
       "        <label id=\"3a796bf8-80cf-11eb-a588-acde48001122-4-label\" for=\"3a796bf8-80cf-11eb-a588-acde48001122-4\"><code>&lt;foo&gt;\"bar&lt;/foo&gt;</code></label><br>\n",
       "    \n",
       "    </div>\n",
       "    </p>\n",
       "    <input id=\"3a796bf8-80cf-11eb-a588-acde48001122-submit\" type=\"submit\" value=\"Submit\" onclick=\"check_selection('3a796bf8-80cf-11eb-a588-acde48001122', 4, 0, '9999999 // 4999999')\">\n",
       "    <span class=\"quiz_hint\" id=\"3a796bf8-80cf-11eb-a588-acde48001122-hint\"></span>\n",
       "    </div>\n",
       "    "
      ],
      "text/plain": [
       "<IPython.core.display.HTML object>"
      ]
     },
     "execution_count": 1,
     "metadata": {},
     "output_type": "execute_result"
    }
   ],
   "source": [
    "quiz(\"If `s = '<foo>\\\"bar</foo>'` (i.e., `BAD_INPUT`), \"\n",
    "     \"what is the value of `out` such that the assertion fails?\",\n",
    "    [\n",
    "        '`bar`',\n",
    "        '`bar</foo>`',\n",
    "        '`\"bar</foo>`',\n",
    "        '`<foo>\"bar</foo>`',\n",
    "    ], '9999999 // 4999999')"
   ]
  },
  {
   "cell_type": "markdown",
   "metadata": {
    "slideshow": {
     "slide_type": "slide"
    }
   },
   "source": [
    "## Grammars\n",
    "\n",
    "To determine abstract failure-inducing inputs, we need means to determine and characterize _sets of inputs_ – known in computer science as _languages_. To formally describe languages, the field of *formal languages* has devised a number of *language specifications* that describe a language.  *Regular expressions* represent the simplest class of these languages to denote sets of strings: The regular expression `[a-z]*`, for instance, denotes a (possibly empty) sequence of lowercase letters.  *Automata theory* connects these languages to automata that accept these inputs; *finite state machines*, for instance, can be used to specify the language of regular expressions."
   ]
  },
  {
   "cell_type": "markdown",
   "metadata": {
    "slideshow": {
     "slide_type": "subslide"
    }
   },
   "source": [
    "Regular expressions are great for not-too-complex input formats, and the associated finite state machines have many properties that make them great for reasoning.  To specify more complex inputs, though, they quickly encounter limitations.  At the other end of the language spectrum, we have *universal grammars* that denote the language accepted by *Turing machines*.  A Turing machine can compute anything that can be computed; and with Python being Turing-complete, this means that we can also use a Python program $p$ to specify or even enumerate legal inputs. But then, computer science theory also tells us that each such program has to be written specifically for the input to be considered, which is not the level of automation we want."
   ]
  },
  {
   "cell_type": "markdown",
   "metadata": {
    "slideshow": {
     "slide_type": "subslide"
    }
   },
   "source": [
    "The middle ground between regular expressions and Turing machines is covered by *grammars*.  Grammars are among the most popular (and best understood) formalisms to formally specify input languages.  Using a grammar, one can express a wide range of the properties of an input language.  Grammars are particularly great for expressing the *syntactical structure* of an input, and are the formalism of choice to express nested or recursive inputs.  The grammars we use are so-called *context-free grammars*, one of the easiest and most popular grammar formalisms."
   ]
  },
  {
   "cell_type": "markdown",
   "metadata": {
    "slideshow": {
     "slide_type": "fragment"
    }
   },
   "source": [
    "A grammar is defined as a mapping of _nonterminal_ symbols (denoted in `<angle brackets>` to lists of alternative _expansions_, which are strings containing _terminal_ symbols and possibly more _nonterminal_ symbols. To make the writing of grammars as simple as possible, we adopt the [fuzzingbook](https://www.fuzzingbook.org/) format that is based on strings and lists."
   ]
  },
  {
   "cell_type": "code",
   "execution_count": 11,
   "metadata": {
    "execution": {
     "iopub.execute_input": "2021-03-09T12:01:49.276750Z",
     "iopub.status.busy": "2021-03-09T12:01:49.276218Z",
     "iopub.status.idle": "2021-03-09T12:01:49.280031Z",
     "shell.execute_reply": "2021-03-09T12:01:49.280568Z"
    },
    "slideshow": {
     "slide_type": "skip"
    }
   },
   "outputs": [],
   "source": [
    "import fuzzingbook"
   ]
  },
  {
   "cell_type": "markdown",
   "metadata": {
    "slideshow": {
     "slide_type": "subslide"
    }
   },
   "source": [
    "Fuzzingbook grammars take the format of a _mapping_ between symbol names and expansions, where expansions are _lists_ of alternatives."
   ]
  },
  {
   "cell_type": "code",
   "execution_count": 12,
   "metadata": {
    "execution": {
     "iopub.execute_input": "2021-03-09T12:01:49.284386Z",
     "iopub.status.busy": "2021-03-09T12:01:49.283812Z",
     "iopub.status.idle": "2021-03-09T12:01:49.285490Z",
     "shell.execute_reply": "2021-03-09T12:01:49.286007Z"
    },
    "slideshow": {
     "slide_type": "skip"
    }
   },
   "outputs": [],
   "source": [
    "from typing import Sequence, Any, Callable, Optional, Type, Tuple, Any\n",
    "from typing import Dict, Union, Set, List, FrozenSet, cast, Generator"
   ]
  },
  {
   "cell_type": "code",
   "execution_count": 13,
   "metadata": {
    "execution": {
     "iopub.execute_input": "2021-03-09T12:01:49.290530Z",
     "iopub.status.busy": "2021-03-09T12:01:49.289746Z",
     "iopub.status.idle": "2021-03-09T12:01:49.292010Z",
     "shell.execute_reply": "2021-03-09T12:01:49.292486Z"
    },
    "slideshow": {
     "slide_type": "fragment"
    }
   },
   "outputs": [],
   "source": [
    "Grammar = Dict[str,  # A grammar maps strings...\n",
    "               List[\n",
    "                   Union[str,  # to list of strings...\n",
    "                         Tuple[str, Dict[str, Any]]  # or to pairs of strings and attributes.\n",
    "                        ]\n",
    "               ]\n",
    "              ]"
   ]
  },
  {
   "cell_type": "markdown",
   "metadata": {
    "slideshow": {
     "slide_type": "fragment"
    }
   },
   "source": [
    "A one-rule grammar for digits thus takes the form"
   ]
  },
  {
   "cell_type": "code",
   "execution_count": 14,
   "metadata": {
    "execution": {
     "iopub.execute_input": "2021-03-09T12:01:49.296243Z",
     "iopub.status.busy": "2021-03-09T12:01:49.295692Z",
     "iopub.status.idle": "2021-03-09T12:01:49.297544Z",
     "shell.execute_reply": "2021-03-09T12:01:49.297982Z"
    },
    "slideshow": {
     "slide_type": "fragment"
    }
   },
   "outputs": [],
   "source": [
    "DIGIT_GRAMMAR: Grammar = {\n",
    "    \"<start>\":\n",
    "        [\"0\", \"1\", \"2\", \"3\", \"4\", \"5\", \"6\", \"7\", \"8\", \"9\"]\n",
    "}"
   ]
  },
  {
   "cell_type": "markdown",
   "metadata": {
    "slideshow": {
     "slide_type": "subslide"
    }
   },
   "source": [
    "which means that the `<start>` symbol can be expanded into any of the digits listed."
   ]
  },
  {
   "cell_type": "markdown",
   "metadata": {
    "slideshow": {
     "slide_type": "fragment"
    }
   },
   "source": [
    "A full grammar for arithmetic expressions looks like this:"
   ]
  },
  {
   "cell_type": "code",
   "execution_count": 15,
   "metadata": {
    "execution": {
     "iopub.execute_input": "2021-03-09T12:01:49.302312Z",
     "iopub.status.busy": "2021-03-09T12:01:49.301733Z",
     "iopub.status.idle": "2021-03-09T12:01:49.303368Z",
     "shell.execute_reply": "2021-03-09T12:01:49.303753Z"
    },
    "slideshow": {
     "slide_type": "subslide"
    }
   },
   "outputs": [],
   "source": [
    "EXPR_GRAMMAR: Grammar = {\n",
    "    \"<start>\":\n",
    "        [\"<expr>\"],\n",
    "\n",
    "    \"<expr>\":\n",
    "        [\"<term> + <expr>\", \"<term> - <expr>\", \"<term>\"],\n",
    "\n",
    "    \"<term>\":\n",
    "        [\"<factor> * <term>\", \"<factor> / <term>\", \"<factor>\"],\n",
    "\n",
    "    \"<factor>\":\n",
    "        [\"+<factor>\",\n",
    "         \"-<factor>\",\n",
    "         \"(<expr>)\",\n",
    "         \"<integer>.<integer>\",\n",
    "         \"<integer>\"],\n",
    "\n",
    "    \"<integer>\":\n",
    "        [\"<digit><integer>\", \"<digit>\"],\n",
    "\n",
    "    \"<digit>\":\n",
    "        [\"0\", \"1\", \"2\", \"3\", \"4\", \"5\", \"6\", \"7\", \"8\", \"9\"]\n",
    "}"
   ]
  },
  {
   "cell_type": "markdown",
   "metadata": {
    "slideshow": {
     "slide_type": "subslide"
    }
   },
   "source": [
    "From such a grammar, one can easily generate inputs that conform to the grammar."
   ]
  },
  {
   "cell_type": "code",
   "execution_count": 16,
   "metadata": {
    "execution": {
     "iopub.execute_input": "2021-03-09T12:01:49.307231Z",
     "iopub.status.busy": "2021-03-09T12:01:49.306605Z",
     "iopub.status.idle": "2021-03-09T12:01:49.320424Z",
     "shell.execute_reply": "2021-03-09T12:01:49.320881Z"
    },
    "slideshow": {
     "slide_type": "skip"
    }
   },
   "outputs": [],
   "source": [
    "from fuzzingbook.GrammarFuzzer import GrammarFuzzer"
   ]
  },
  {
   "cell_type": "code",
   "execution_count": 17,
   "metadata": {
    "execution": {
     "iopub.execute_input": "2021-03-09T12:01:49.324458Z",
     "iopub.status.busy": "2021-03-09T12:01:49.323753Z",
     "iopub.status.idle": "2021-03-09T12:01:49.325729Z",
     "shell.execute_reply": "2021-03-09T12:01:49.326217Z"
    },
    "slideshow": {
     "slide_type": "fragment"
    }
   },
   "outputs": [],
   "source": [
    "simple_expr_fuzzer = GrammarFuzzer(EXPR_GRAMMAR)"
   ]
  },
  {
   "cell_type": "code",
   "execution_count": 18,
   "metadata": {
    "execution": {
     "iopub.execute_input": "2021-03-09T12:01:49.347860Z",
     "iopub.status.busy": "2021-03-09T12:01:49.347326Z",
     "iopub.status.idle": "2021-03-09T12:01:49.408406Z",
     "shell.execute_reply": "2021-03-09T12:01:49.408950Z"
    },
    "slideshow": {
     "slide_type": "subslide"
    }
   },
   "outputs": [
    {
     "name": "stdout",
     "output_type": "stream",
     "text": [
      "3.8 + --62.912 - ++4 - +5 * 3.0 * 4\n",
      "7 * (75.5 - -6 + 5 - 4) + -(8 - 1) / 5 * 2\n",
      "(-(9) * +6 + 9 / 3 * 8 - 9 * 8 / 7) / -+-65\n",
      "(9 + 8) * 2 * (6 + 6 + 9) * 0 * 1.9 * 0\n",
      "(1 * 7 - 9 + 5) * 5 / 0 * 5 + 7 * 5 * 7\n",
      "-(6 / 9 - 5 - 3 - 1) - -1 / +1 + (9) / (8) * 6\n",
      "(+-(0 - (1) * 7 / 3)) / ((1 * 3 + 8) + 9 - +1 / --0) - 5 * (-+939.491)\n",
      "+2.9 * 0 / 501.19814 / --+--(6.05002)\n",
      "+-8.8 / (1) * -+1 + -8 + 9 - 3 / 8 * 6 + 4 * 3 * 5\n",
      "(+(8 / 9 - 1 - 7)) + ---06.30 / +4.39\n"
     ]
    }
   ],
   "source": [
    "for i in range(10):\n",
    "    fuzz_expr = simple_expr_fuzzer.fuzz()\n",
    "    print(fuzz_expr)"
   ]
  },
  {
   "cell_type": "markdown",
   "metadata": {
    "slideshow": {
     "slide_type": "subslide"
    }
   },
   "source": [
    "Nonterminals as found in the grammar make natural _placeholders_ in abstract failure-inducing inputs. If we know, for instance, that it is not just the concrete failure-inducing input\n",
    "\n",
    "```python\n",
    "(2 * 3)\n",
    "```\n",
    "\n",
    "but the abstract failure-inducing input\n",
    "\n",
    "```html\n",
    "(<expr> * <expr>)\n",
    "```\n",
    "\n",
    "that causes the failure, we immediately see that the error is due to the multiplication operator rather than its operands."
   ]
  },
  {
   "cell_type": "markdown",
   "metadata": {
    "slideshow": {
     "slide_type": "subslide"
    }
   },
   "source": [
    "Coming back to our `remove_html_markup()` example, let us create a simple grammar for HTML expressions. A `<html>` element is either plain text or tagged text."
   ]
  },
  {
   "cell_type": "code",
   "execution_count": 19,
   "metadata": {
    "button": false,
    "execution": {
     "iopub.execute_input": "2021-03-09T12:01:49.412773Z",
     "iopub.status.busy": "2021-03-09T12:01:49.412173Z",
     "iopub.status.idle": "2021-03-09T12:01:49.413890Z",
     "shell.execute_reply": "2021-03-09T12:01:49.414266Z"
    },
    "new_sheet": false,
    "run_control": {
     "read_only": false
    },
    "slideshow": {
     "slide_type": "subslide"
    }
   },
   "outputs": [],
   "source": [
    "SIMPLE_HTML_GRAMMAR: Grammar = {\n",
    "    \"<start>\":\n",
    "        [\"<html>\"],\n",
    "\n",
    "    \"<html>\":\n",
    "        [\"<plain-text>\", \"<tagged-text>\"],\n",
    "}"
   ]
  },
  {
   "cell_type": "markdown",
   "metadata": {
    "slideshow": {
     "slide_type": "fragment"
    }
   },
   "source": [
    "Plain text is a simple (possibly empty) sequence of letter, digits, punctuation, and whitespace. (Note how `<plain-text>` is either empty or some character followed by more plain text.) The characters `<` and `>` are not allowed, though."
   ]
  },
  {
   "cell_type": "code",
   "execution_count": 20,
   "metadata": {
    "execution": {
     "iopub.execute_input": "2021-03-09T12:01:49.417321Z",
     "iopub.status.busy": "2021-03-09T12:01:49.416802Z",
     "iopub.status.idle": "2021-03-09T12:01:49.418954Z",
     "shell.execute_reply": "2021-03-09T12:01:49.418571Z"
    },
    "slideshow": {
     "slide_type": "skip"
    }
   },
   "outputs": [],
   "source": [
    "import string"
   ]
  },
  {
   "cell_type": "code",
   "execution_count": 21,
   "metadata": {
    "button": false,
    "execution": {
     "iopub.execute_input": "2021-03-09T12:01:49.423069Z",
     "iopub.status.busy": "2021-03-09T12:01:49.422513Z",
     "iopub.status.idle": "2021-03-09T12:01:49.424580Z",
     "shell.execute_reply": "2021-03-09T12:01:49.425062Z"
    },
    "new_sheet": false,
    "run_control": {
     "read_only": false
    },
    "slideshow": {
     "slide_type": "subslide"
    }
   },
   "outputs": [],
   "source": [
    "SIMPLE_HTML_GRAMMAR.update({\n",
    "    \"<plain-text>\":\n",
    "        [\"\", \"<plain-char><plain-text>\"],\n",
    "\n",
    "    \"<plain-char>\":\n",
    "        [\"<letter>\", \"<digit>\", \"<other>\", \"<whitespace>\"],\n",
    "\n",
    "    \"<letter>\": list(string.ascii_letters),\n",
    "    \"<digit>\": list(string.digits),\n",
    "    \"<other>\": list(string.punctuation.replace('<', '').replace('>', '')),\n",
    "    \"<whitespace>\": list(string.whitespace)\n",
    "})"
   ]
  },
  {
   "cell_type": "markdown",
   "metadata": {
    "slideshow": {
     "slide_type": "subslide"
    }
   },
   "source": [
    "Tagged text is a bit more complicated. We have opening tags `<foo>`, followed by some more HTML material, and then closed by a closing tag `</foo>`. (We do not insist that the two tags match.) A self-closing tag has the form `<br/>`. For compatibility reasons, we also allow just opening tags without closing tags, as in `<img>`."
   ]
  },
  {
   "cell_type": "code",
   "execution_count": 22,
   "metadata": {
    "button": false,
    "execution": {
     "iopub.execute_input": "2021-03-09T12:01:49.428647Z",
     "iopub.status.busy": "2021-03-09T12:01:49.428117Z",
     "iopub.status.idle": "2021-03-09T12:01:49.429847Z",
     "shell.execute_reply": "2021-03-09T12:01:49.430220Z"
    },
    "new_sheet": false,
    "run_control": {
     "read_only": false
    },
    "slideshow": {
     "slide_type": "subslide"
    }
   },
   "outputs": [],
   "source": [
    "SIMPLE_HTML_GRAMMAR.update({\n",
    "    \"<tagged-text>\":\n",
    "        [\"<opening-tag><html><closing-tag>\",\n",
    "         \"<self-closing-tag>\",\n",
    "         \"<opening-tag>\"],\n",
    "})"
   ]
  },
  {
   "cell_type": "markdown",
   "metadata": {
    "slideshow": {
     "slide_type": "fragment"
    }
   },
   "source": [
    "Since the characters `<` and `>` are already reserved for denoting nonterminal symbols, we use the special nonterminal symbols `<lt>` and `<gt>` that expand into `<` and `>`, respectively,"
   ]
  },
  {
   "cell_type": "code",
   "execution_count": 23,
   "metadata": {
    "button": false,
    "execution": {
     "iopub.execute_input": "2021-03-09T12:01:49.434162Z",
     "iopub.status.busy": "2021-03-09T12:01:49.433637Z",
     "iopub.status.idle": "2021-03-09T12:01:49.435297Z",
     "shell.execute_reply": "2021-03-09T12:01:49.435666Z"
    },
    "new_sheet": false,
    "run_control": {
     "read_only": false
    },
    "slideshow": {
     "slide_type": "subslide"
    }
   },
   "outputs": [],
   "source": [
    "SIMPLE_HTML_GRAMMAR.update({\n",
    "    \"<opening-tag>\":\n",
    "        [\"<lt><id><gt>\",\n",
    "         \"<lt><id><attrs><gt>\"],\n",
    "\n",
    "    \"<lt>\": [\"<\"],\n",
    "    \"<gt>\": [\">\"],\n",
    "\n",
    "    \"<id>\":\n",
    "        [\"<letter>\", \"<id><letter>\", \"<id><digit>\"],\n",
    "\n",
    "    \"<closing-tag>\":\n",
    "        [\"<lt>/<id><gt>\"],\n",
    "\n",
    "    \"<self-closing-tag>\":\n",
    "        [\"<lt><id><attrs>/<gt>\"],\n",
    "})"
   ]
  },
  {
   "cell_type": "markdown",
   "metadata": {
    "slideshow": {
     "slide_type": "subslide"
    }
   },
   "source": [
    "Finally, HTML tags can have attributes, which are enclosed in quotes."
   ]
  },
  {
   "cell_type": "code",
   "execution_count": 24,
   "metadata": {
    "button": false,
    "execution": {
     "iopub.execute_input": "2021-03-09T12:01:49.439398Z",
     "iopub.status.busy": "2021-03-09T12:01:49.438823Z",
     "iopub.status.idle": "2021-03-09T12:01:49.440610Z",
     "shell.execute_reply": "2021-03-09T12:01:49.441050Z"
    },
    "new_sheet": false,
    "run_control": {
     "read_only": false
    },
    "slideshow": {
     "slide_type": "subslide"
    }
   },
   "outputs": [],
   "source": [
    "SIMPLE_HTML_GRAMMAR.update({\n",
    "    \"<attrs>\":\n",
    "        [\"<attr>\", \"<attr><attrs>\" ],\n",
    "\n",
    "    \"<attr>\":\n",
    "        [\" <id>='<plain-text>'\",\n",
    "         ' <id>=\"<plain-text>\"'],\n",
    "})"
   ]
  },
  {
   "cell_type": "markdown",
   "metadata": {
    "slideshow": {
     "slide_type": "fragment"
    }
   },
   "source": [
    "Again, we can generate inputs from the grammar."
   ]
  },
  {
   "cell_type": "code",
   "execution_count": 25,
   "metadata": {
    "execution": {
     "iopub.execute_input": "2021-03-09T12:01:49.445098Z",
     "iopub.status.busy": "2021-03-09T12:01:49.444577Z",
     "iopub.status.idle": "2021-03-09T12:01:49.446312Z",
     "shell.execute_reply": "2021-03-09T12:01:49.446691Z"
    },
    "slideshow": {
     "slide_type": "fragment"
    }
   },
   "outputs": [],
   "source": [
    "simple_html_fuzzer = GrammarFuzzer(SIMPLE_HTML_GRAMMAR)"
   ]
  },
  {
   "cell_type": "code",
   "execution_count": 26,
   "metadata": {
    "execution": {
     "iopub.execute_input": "2021-03-09T12:01:49.471504Z",
     "iopub.status.busy": "2021-03-09T12:01:49.470855Z",
     "iopub.status.idle": "2021-03-09T12:01:49.483581Z",
     "shell.execute_reply": "2021-03-09T12:01:49.484069Z"
    },
    "slideshow": {
     "slide_type": "subslide"
    }
   },
   "outputs": [
    {
     "name": "stdout",
     "output_type": "stream",
     "text": [
      "'<T3 xG=\"\">'\n",
      "'<N9cd U=\\'\\' y=\\'l1\\' v0=\"\" tb4ya=\"\" UbD=\\'\\'>9</R>'\n",
      "'\\x0b'\n",
      "' ea\\\\\\\\'\n",
      "'&7'\n",
      "\"<c1 o2='' x9661lQo64T=''/>\"\n",
      "'<S4>'\n",
      "'<GMS></wAu>'\n",
      "'<j CI=\\'\\' T98sJ=\"\" DR4=\\'\\'/>'\n",
      "'<FQc90 Wt=\"\"/>'\n"
     ]
    }
   ],
   "source": [
    "for i in range(10):\n",
    "    fuzz_html = simple_html_fuzzer.fuzz()\n",
    "    print(repr(fuzz_html))"
   ]
  },
  {
   "cell_type": "markdown",
   "metadata": {
    "slideshow": {
     "slide_type": "subslide"
    }
   },
   "source": [
    "Such inputs, of course, are great for systematic testing. Our sister book, [the fuzzing book](https://www.fuzzingbook.org/), covers these and more."
   ]
  },
  {
   "cell_type": "markdown",
   "metadata": {
    "slideshow": {
     "slide_type": "slide"
    }
   },
   "source": [
    "## Derivation Trees\n",
    "\n",
    "To produce inputs from a grammar, the fuzzingbook `GrammarFuzzer` makes use of a structure called a *derivation tree* (also known as *syntax tree*). A derivation tree encodes the individual expansion steps undertaken while producing the output."
   ]
  },
  {
   "cell_type": "code",
   "execution_count": 27,
   "metadata": {
    "execution": {
     "iopub.execute_input": "2021-03-09T12:01:49.487811Z",
     "iopub.status.busy": "2021-03-09T12:01:49.487213Z",
     "iopub.status.idle": "2021-03-09T12:01:49.488934Z",
     "shell.execute_reply": "2021-03-09T12:01:49.489379Z"
    },
    "slideshow": {
     "slide_type": "fragment"
    }
   },
   "outputs": [],
   "source": [
    "DerivationTree = Tuple[str, Optional[List[Any]]]"
   ]
  },
  {
   "cell_type": "markdown",
   "metadata": {
    "slideshow": {
     "slide_type": "fragment"
    }
   },
   "source": [
    "Let us illustrate derivation trees by example, using the last HTML output we produced."
   ]
  },
  {
   "cell_type": "code",
   "execution_count": 28,
   "metadata": {
    "execution": {
     "iopub.execute_input": "2021-03-09T12:01:49.493044Z",
     "iopub.status.busy": "2021-03-09T12:01:49.492511Z",
     "iopub.status.idle": "2021-03-09T12:01:49.494854Z",
     "shell.execute_reply": "2021-03-09T12:01:49.495234Z"
    },
    "slideshow": {
     "slide_type": "fragment"
    }
   },
   "outputs": [
    {
     "data": {
      "text/plain": [
       "'<FQc90 Wt=\"\"/>'"
      ]
     },
     "execution_count": 1,
     "metadata": {},
     "output_type": "execute_result"
    }
   ],
   "source": [
    "fuzz_html"
   ]
  },
  {
   "cell_type": "markdown",
   "metadata": {
    "slideshow": {
     "slide_type": "fragment"
    }
   },
   "source": [
    "The `GrammarFuzzer` attribute `derivation_tree` holds the last tree used to produced this input. We can visualize the tree as follows:"
   ]
  },
  {
   "cell_type": "code",
   "execution_count": 29,
   "metadata": {
    "execution": {
     "iopub.execute_input": "2021-03-09T12:01:49.498345Z",
     "iopub.status.busy": "2021-03-09T12:01:49.497824Z",
     "iopub.status.idle": "2021-03-09T12:01:49.499413Z",
     "shell.execute_reply": "2021-03-09T12:01:49.499783Z"
    },
    "slideshow": {
     "slide_type": "fragment"
    }
   },
   "outputs": [],
   "source": [
    "# ignore\n",
    "from graphviz import Digraph"
   ]
  },
  {
   "cell_type": "code",
   "execution_count": 30,
   "metadata": {
    "execution": {
     "iopub.execute_input": "2021-03-09T12:01:49.505412Z",
     "iopub.status.busy": "2021-03-09T12:01:49.504881Z",
     "iopub.status.idle": "2021-03-09T12:01:49.507073Z",
     "shell.execute_reply": "2021-03-09T12:01:49.507681Z"
    },
    "slideshow": {
     "slide_type": "subslide"
    }
   },
   "outputs": [],
   "source": [
    "# ignore\n",
    "def display_tree(tree: DerivationTree) -> Digraph:\n",
    "    def graph_attr(dot: Digraph) -> None:\n",
    "        dot.attr('node', shape='box', color='white', margin='0.0,0.0')\n",
    "        dot.attr('node',\n",
    "                 fontname=\"'Fira Mono', 'Source Code Pro', 'Courier', monospace\")\n",
    "\n",
    "    def node_attr(dot: Digraph, nid: str, symbol: str, ann: str) -> None:\n",
    "        fuzzingbook.GrammarFuzzer.default_node_attr(dot, nid, symbol, ann)\n",
    "        if symbol.startswith('<'):\n",
    "            dot.node(repr(nid), fontcolor='#0060a0')\n",
    "        else:\n",
    "            dot.node(repr(nid), fontcolor='#00a060')\n",
    "        dot.node(repr(nid), scale='2')\n",
    "\n",
    "    return fuzzingbook.GrammarFuzzer.display_tree(tree,\n",
    "        node_attr=node_attr,\n",
    "        graph_attr=graph_attr)"
   ]
  },
  {
   "cell_type": "code",
   "execution_count": 31,
   "metadata": {
    "execution": {
     "iopub.execute_input": "2021-03-09T12:01:49.514119Z",
     "iopub.status.busy": "2021-03-09T12:01:49.513581Z",
     "iopub.status.idle": "2021-03-09T12:01:50.151433Z",
     "shell.execute_reply": "2021-03-09T12:01:50.151902Z"
    },
    "slideshow": {
     "slide_type": "subslide"
    }
   },
   "outputs": [
    {
     "data": {
      "image/svg+xml": [
       "<?xml version=\"1.0\" encoding=\"UTF-8\" standalone=\"no\"?>\n",
       "<!DOCTYPE svg PUBLIC \"-//W3C//DTD SVG 1.1//EN\"\n",
       " \"http://www.w3.org/Graphics/SVG/1.1/DTD/svg11.dtd\">\n",
       "<!-- Generated by graphviz version 2.40.1 (20161225.0304)\n",
       " -->\n",
       "<!-- Title: %3 Pages: 1 -->\n",
       "<svg width=\"787pt\" height=\"764pt\"\n",
       " viewBox=\"0.00 0.00 787.00 764.00\" xmlns=\"http://www.w3.org/2000/svg\" xmlns:xlink=\"http://www.w3.org/1999/xlink\">\n",
       "<g id=\"graph0\" class=\"graph\" transform=\"scale(1 1) rotate(0) translate(4 760)\">\n",
       "<title>%3</title>\n",
       "<polygon fill=\"#ffffff\" stroke=\"transparent\" points=\"-4,4 -4,-760 783,-760 783,4 -4,4\"/>\n",
       "<!-- 0 -->\n",
       "<g id=\"node1\" class=\"node\">\n",
       "<title>0</title>\n",
       "<polygon fill=\"none\" stroke=\"#ffffff\" points=\"446.5,-756 387.5,-756 387.5,-720 446.5,-720 446.5,-756\"/>\n",
       "<text text-anchor=\"middle\" x=\"417\" y=\"-734.3\" font-family=\"'Fira Mono', 'Source Code Pro', 'Courier', monospace\" font-size=\"14.00\" fill=\"#0060a0\">&lt;start&gt;</text>\n",
       "</g>\n",
       "<!-- 1 -->\n",
       "<g id=\"node2\" class=\"node\">\n",
       "<title>1</title>\n",
       "<polygon fill=\"none\" stroke=\"#ffffff\" points=\"444,-684 390,-684 390,-648 444,-648 444,-684\"/>\n",
       "<text text-anchor=\"middle\" x=\"417\" y=\"-662.3\" font-family=\"'Fira Mono', 'Source Code Pro', 'Courier', monospace\" font-size=\"14.00\" fill=\"#0060a0\">&lt;html&gt;</text>\n",
       "</g>\n",
       "<!-- 0&#45;&gt;1 -->\n",
       "<g id=\"edge1\" class=\"edge\">\n",
       "<title>0&#45;&gt;1</title>\n",
       "<path fill=\"none\" stroke=\"#000000\" d=\"M417,-719.8314C417,-712.131 417,-702.9743 417,-694.4166\"/>\n",
       "<polygon fill=\"#000000\" stroke=\"#000000\" points=\"420.5001,-694.4132 417,-684.4133 413.5001,-694.4133 420.5001,-694.4132\"/>\n",
       "</g>\n",
       "<!-- 2 -->\n",
       "<g id=\"node3\" class=\"node\">\n",
       "<title>2</title>\n",
       "<polygon fill=\"none\" stroke=\"#ffffff\" points=\"472,-612 362,-612 362,-576 472,-576 472,-612\"/>\n",
       "<text text-anchor=\"middle\" x=\"417\" y=\"-590.3\" font-family=\"'Fira Mono', 'Source Code Pro', 'Courier', monospace\" font-size=\"14.00\" fill=\"#0060a0\">&lt;tagged&#45;text&gt;</text>\n",
       "</g>\n",
       "<!-- 1&#45;&gt;2 -->\n",
       "<g id=\"edge2\" class=\"edge\">\n",
       "<title>1&#45;&gt;2</title>\n",
       "<path fill=\"none\" stroke=\"#000000\" d=\"M417,-647.8314C417,-640.131 417,-630.9743 417,-622.4166\"/>\n",
       "<polygon fill=\"#000000\" stroke=\"#000000\" points=\"420.5001,-622.4132 417,-612.4133 413.5001,-622.4133 420.5001,-622.4132\"/>\n",
       "</g>\n",
       "<!-- 3 -->\n",
       "<g id=\"node4\" class=\"node\">\n",
       "<title>3</title>\n",
       "<polygon fill=\"none\" stroke=\"#ffffff\" points=\"493,-540 341,-540 341,-504 493,-504 493,-540\"/>\n",
       "<text text-anchor=\"middle\" x=\"417\" y=\"-518.3\" font-family=\"'Fira Mono', 'Source Code Pro', 'Courier', monospace\" font-size=\"14.00\" fill=\"#0060a0\">&lt;self&#45;closing&#45;tag&gt;</text>\n",
       "</g>\n",
       "<!-- 2&#45;&gt;3 -->\n",
       "<g id=\"edge3\" class=\"edge\">\n",
       "<title>2&#45;&gt;3</title>\n",
       "<path fill=\"none\" stroke=\"#000000\" d=\"M417,-575.8314C417,-568.131 417,-558.9743 417,-550.4166\"/>\n",
       "<polygon fill=\"#000000\" stroke=\"#000000\" points=\"420.5001,-550.4132 417,-540.4133 413.5001,-550.4133 420.5001,-550.4132\"/>\n",
       "</g>\n",
       "<!-- 4 -->\n",
       "<g id=\"node5\" class=\"node\">\n",
       "<title>4</title>\n",
       "<polygon fill=\"none\" stroke=\"#ffffff\" points=\"263,-468 209,-468 209,-432 263,-432 263,-468\"/>\n",
       "<text text-anchor=\"middle\" x=\"236\" y=\"-446.3\" font-family=\"'Fira Mono', 'Source Code Pro', 'Courier', monospace\" font-size=\"14.00\" fill=\"#0060a0\">&lt;lt&gt;</text>\n",
       "</g>\n",
       "<!-- 3&#45;&gt;4 -->\n",
       "<g id=\"edge4\" class=\"edge\">\n",
       "<title>3&#45;&gt;4</title>\n",
       "<path fill=\"none\" stroke=\"#000000\" d=\"M371.3261,-503.8314C340.7861,-491.6829 301.1348,-475.91 272.6584,-464.5824\"/>\n",
       "<polygon fill=\"#000000\" stroke=\"#000000\" points=\"273.6708,-461.2184 263.0853,-460.7743 271.0834,-467.7227 273.6708,-461.2184\"/>\n",
       "</g>\n",
       "<!-- 6 -->\n",
       "<g id=\"node7\" class=\"node\">\n",
       "<title>6</title>\n",
       "<polygon fill=\"none\" stroke=\"#ffffff\" points=\"369,-468 315,-468 315,-432 369,-432 369,-468\"/>\n",
       "<text text-anchor=\"middle\" x=\"342\" y=\"-446.3\" font-family=\"'Fira Mono', 'Source Code Pro', 'Courier', monospace\" font-size=\"14.00\" fill=\"#0060a0\">&lt;id&gt;</text>\n",
       "</g>\n",
       "<!-- 3&#45;&gt;6 -->\n",
       "<g id=\"edge6\" class=\"edge\">\n",
       "<title>3&#45;&gt;6</title>\n",
       "<path fill=\"none\" stroke=\"#000000\" d=\"M398.0743,-503.8314C389.0143,-495.1337 378.0191,-484.5783 368.1735,-475.1265\"/>\n",
       "<polygon fill=\"#000000\" stroke=\"#000000\" points=\"370.5574,-472.5633 360.9196,-468.1628 365.7096,-477.613 370.5574,-472.5633\"/>\n",
       "</g>\n",
       "<!-- 21 -->\n",
       "<g id=\"node22\" class=\"node\">\n",
       "<title>21</title>\n",
       "<polygon fill=\"none\" stroke=\"#ffffff\" points=\"446.5,-468 387.5,-468 387.5,-432 446.5,-432 446.5,-468\"/>\n",
       "<text text-anchor=\"middle\" x=\"417\" y=\"-446.3\" font-family=\"'Fira Mono', 'Source Code Pro', 'Courier', monospace\" font-size=\"14.00\" fill=\"#0060a0\">&lt;attrs&gt;</text>\n",
       "</g>\n",
       "<!-- 3&#45;&gt;21 -->\n",
       "<g id=\"edge21\" class=\"edge\">\n",
       "<title>3&#45;&gt;21</title>\n",
       "<path fill=\"none\" stroke=\"#000000\" d=\"M417,-503.8314C417,-496.131 417,-486.9743 417,-478.4166\"/>\n",
       "<polygon fill=\"#000000\" stroke=\"#000000\" points=\"420.5001,-478.4132 417,-468.4133 413.5001,-478.4133 420.5001,-478.4132\"/>\n",
       "</g>\n",
       "<!-- 34 -->\n",
       "<g id=\"node35\" class=\"node\">\n",
       "<title>34</title>\n",
       "<polygon fill=\"none\" stroke=\"#ffffff\" points=\"519,-468 465,-468 465,-432 519,-432 519,-468\"/>\n",
       "<text text-anchor=\"middle\" x=\"492\" y=\"-446.3\" font-family=\"'Fira Mono', 'Source Code Pro', 'Courier', monospace\" font-size=\"14.00\" fill=\"#00a060\">/</text>\n",
       "</g>\n",
       "<!-- 3&#45;&gt;34 -->\n",
       "<g id=\"edge34\" class=\"edge\">\n",
       "<title>3&#45;&gt;34</title>\n",
       "<path fill=\"none\" stroke=\"#000000\" d=\"M435.9257,-503.8314C444.9857,-495.1337 455.9809,-484.5783 465.8265,-475.1265\"/>\n",
       "<polygon fill=\"#000000\" stroke=\"#000000\" points=\"468.2904,-477.613 473.0804,-468.1628 463.4426,-472.5633 468.2904,-477.613\"/>\n",
       "</g>\n",
       "<!-- 35 -->\n",
       "<g id=\"node36\" class=\"node\">\n",
       "<title>35</title>\n",
       "<polygon fill=\"none\" stroke=\"#ffffff\" points=\"591,-468 537,-468 537,-432 591,-432 591,-468\"/>\n",
       "<text text-anchor=\"middle\" x=\"564\" y=\"-446.3\" font-family=\"'Fira Mono', 'Source Code Pro', 'Courier', monospace\" font-size=\"14.00\" fill=\"#0060a0\">&lt;gt&gt;</text>\n",
       "</g>\n",
       "<!-- 3&#45;&gt;35 -->\n",
       "<g id=\"edge35\" class=\"edge\">\n",
       "<title>3&#45;&gt;35</title>\n",
       "<path fill=\"none\" stroke=\"#000000\" d=\"M454.3026,-503.9776C473.8441,-494.508 498.3678,-482.5805 527.6491,-468.1529\"/>\n",
       "<polygon fill=\"#000000\" stroke=\"#000000\" points=\"529.4691,-471.1578 536.8889,-463.595 526.3723,-464.8801 529.4691,-471.1578\"/>\n",
       "</g>\n",
       "<!-- 5 -->\n",
       "<g id=\"node6\" class=\"node\">\n",
       "<title>5</title>\n",
       "<polygon fill=\"none\" stroke=\"#ffffff\" points=\"224,-396 170,-396 170,-360 224,-360 224,-396\"/>\n",
       "<text text-anchor=\"middle\" x=\"197\" y=\"-374.3\" font-family=\"'Fira Mono', 'Source Code Pro', 'Courier', monospace\" font-size=\"14.00\" fill=\"#0060a0\">&lt;</text>\n",
       "</g>\n",
       "<!-- 4&#45;&gt;5 -->\n",
       "<g id=\"edge5\" class=\"edge\">\n",
       "<title>4&#45;&gt;5</title>\n",
       "<path fill=\"none\" stroke=\"#000000\" d=\"M226.1587,-431.8314C221.8043,-423.7925 216.5902,-414.1666 211.7831,-405.2918\"/>\n",
       "<polygon fill=\"#000000\" stroke=\"#000000\" points=\"214.8143,-403.5392 206.9739,-396.4133 208.6592,-406.8732 214.8143,-403.5392\"/>\n",
       "</g>\n",
       "<!-- 7 -->\n",
       "<g id=\"node8\" class=\"node\">\n",
       "<title>7</title>\n",
       "<polygon fill=\"none\" stroke=\"#ffffff\" points=\"296,-396 242,-396 242,-360 296,-360 296,-396\"/>\n",
       "<text text-anchor=\"middle\" x=\"269\" y=\"-374.3\" font-family=\"'Fira Mono', 'Source Code Pro', 'Courier', monospace\" font-size=\"14.00\" fill=\"#0060a0\">&lt;id&gt;</text>\n",
       "</g>\n",
       "<!-- 6&#45;&gt;7 -->\n",
       "<g id=\"edge7\" class=\"edge\">\n",
       "<title>6&#45;&gt;7</title>\n",
       "<path fill=\"none\" stroke=\"#000000\" d=\"M323.579,-431.8314C314.8471,-423.219 304.2683,-412.7851 294.7577,-403.4048\"/>\n",
       "<polygon fill=\"#000000\" stroke=\"#000000\" points=\"296.9925,-400.6931 287.4151,-396.1628 292.077,-405.6769 296.9925,-400.6931\"/>\n",
       "</g>\n",
       "<!-- 19 -->\n",
       "<g id=\"node20\" class=\"node\">\n",
       "<title>19</title>\n",
       "<polygon fill=\"none\" stroke=\"#ffffff\" points=\"373.5,-396 314.5,-396 314.5,-360 373.5,-360 373.5,-396\"/>\n",
       "<text text-anchor=\"middle\" x=\"344\" y=\"-374.3\" font-family=\"'Fira Mono', 'Source Code Pro', 'Courier', monospace\" font-size=\"14.00\" fill=\"#0060a0\">&lt;digit&gt;</text>\n",
       "</g>\n",
       "<!-- 6&#45;&gt;19 -->\n",
       "<g id=\"edge19\" class=\"edge\">\n",
       "<title>6&#45;&gt;19</title>\n",
       "<path fill=\"none\" stroke=\"#000000\" d=\"M342.5047,-431.8314C342.7186,-424.131 342.9729,-414.9743 343.2106,-406.4166\"/>\n",
       "<polygon fill=\"#000000\" stroke=\"#000000\" points=\"346.7094,-406.5066 343.4885,-396.4133 339.7121,-406.3122 346.7094,-406.5066\"/>\n",
       "</g>\n",
       "<!-- 8 -->\n",
       "<g id=\"node9\" class=\"node\">\n",
       "<title>8</title>\n",
       "<polygon fill=\"none\" stroke=\"#ffffff\" points=\"219,-324 165,-324 165,-288 219,-288 219,-324\"/>\n",
       "<text text-anchor=\"middle\" x=\"192\" y=\"-302.3\" font-family=\"'Fira Mono', 'Source Code Pro', 'Courier', monospace\" font-size=\"14.00\" fill=\"#0060a0\">&lt;id&gt;</text>\n",
       "</g>\n",
       "<!-- 7&#45;&gt;8 -->\n",
       "<g id=\"edge8\" class=\"edge\">\n",
       "<title>7&#45;&gt;8</title>\n",
       "<path fill=\"none\" stroke=\"#000000\" d=\"M249.5696,-359.8314C240.268,-351.1337 228.9796,-340.5783 218.8714,-331.1265\"/>\n",
       "<polygon fill=\"#000000\" stroke=\"#000000\" points=\"221.1189,-328.4363 211.4241,-324.1628 216.3379,-333.5493 221.1189,-328.4363\"/>\n",
       "</g>\n",
       "<!-- 17 -->\n",
       "<g id=\"node18\" class=\"node\">\n",
       "<title>17</title>\n",
       "<polygon fill=\"none\" stroke=\"#ffffff\" points=\"298.5,-324 239.5,-324 239.5,-288 298.5,-288 298.5,-324\"/>\n",
       "<text text-anchor=\"middle\" x=\"269\" y=\"-302.3\" font-family=\"'Fira Mono', 'Source Code Pro', 'Courier', monospace\" font-size=\"14.00\" fill=\"#0060a0\">&lt;digit&gt;</text>\n",
       "</g>\n",
       "<!-- 7&#45;&gt;17 -->\n",
       "<g id=\"edge17\" class=\"edge\">\n",
       "<title>7&#45;&gt;17</title>\n",
       "<path fill=\"none\" stroke=\"#000000\" d=\"M269,-359.8314C269,-352.131 269,-342.9743 269,-334.4166\"/>\n",
       "<polygon fill=\"#000000\" stroke=\"#000000\" points=\"272.5001,-334.4132 269,-324.4133 265.5001,-334.4133 272.5001,-334.4132\"/>\n",
       "</g>\n",
       "<!-- 9 -->\n",
       "<g id=\"node10\" class=\"node\">\n",
       "<title>9</title>\n",
       "<polygon fill=\"none\" stroke=\"#ffffff\" points=\"140,-252 86,-252 86,-216 140,-216 140,-252\"/>\n",
       "<text text-anchor=\"middle\" x=\"113\" y=\"-230.3\" font-family=\"'Fira Mono', 'Source Code Pro', 'Courier', monospace\" font-size=\"14.00\" fill=\"#0060a0\">&lt;id&gt;</text>\n",
       "</g>\n",
       "<!-- 8&#45;&gt;9 -->\n",
       "<g id=\"edge9\" class=\"edge\">\n",
       "<title>8&#45;&gt;9</title>\n",
       "<path fill=\"none\" stroke=\"#000000\" d=\"M172.065,-287.8314C162.5217,-279.1337 150.9401,-268.5783 140.5694,-259.1265\"/>\n",
       "<polygon fill=\"#000000\" stroke=\"#000000\" points=\"142.6772,-256.3121 132.9287,-252.1628 137.962,-261.4857 142.6772,-256.3121\"/>\n",
       "</g>\n",
       "<!-- 15 -->\n",
       "<g id=\"node16\" class=\"node\">\n",
       "<title>15</title>\n",
       "<polygon fill=\"none\" stroke=\"#ffffff\" points=\"226,-252 158,-252 158,-216 226,-216 226,-252\"/>\n",
       "<text text-anchor=\"middle\" x=\"192\" y=\"-230.3\" font-family=\"'Fira Mono', 'Source Code Pro', 'Courier', monospace\" font-size=\"14.00\" fill=\"#0060a0\">&lt;letter&gt;</text>\n",
       "</g>\n",
       "<!-- 8&#45;&gt;15 -->\n",
       "<g id=\"edge15\" class=\"edge\">\n",
       "<title>8&#45;&gt;15</title>\n",
       "<path fill=\"none\" stroke=\"#000000\" d=\"M192,-287.8314C192,-280.131 192,-270.9743 192,-262.4166\"/>\n",
       "<polygon fill=\"#000000\" stroke=\"#000000\" points=\"195.5001,-262.4132 192,-252.4133 188.5001,-262.4133 195.5001,-262.4132\"/>\n",
       "</g>\n",
       "<!-- 10 -->\n",
       "<g id=\"node11\" class=\"node\">\n",
       "<title>10</title>\n",
       "<polygon fill=\"none\" stroke=\"#ffffff\" points=\"61,-180 7,-180 7,-144 61,-144 61,-180\"/>\n",
       "<text text-anchor=\"middle\" x=\"34\" y=\"-158.3\" font-family=\"'Fira Mono', 'Source Code Pro', 'Courier', monospace\" font-size=\"14.00\" fill=\"#0060a0\">&lt;id&gt;</text>\n",
       "</g>\n",
       "<!-- 9&#45;&gt;10 -->\n",
       "<g id=\"edge10\" class=\"edge\">\n",
       "<title>9&#45;&gt;10</title>\n",
       "<path fill=\"none\" stroke=\"#000000\" d=\"M93.065,-215.8314C83.5217,-207.1337 71.9401,-196.5783 61.5694,-187.1265\"/>\n",
       "<polygon fill=\"#000000\" stroke=\"#000000\" points=\"63.6772,-184.3121 53.9287,-180.1628 58.962,-189.4857 63.6772,-184.3121\"/>\n",
       "</g>\n",
       "<!-- 13 -->\n",
       "<g id=\"node14\" class=\"node\">\n",
       "<title>13</title>\n",
       "<polygon fill=\"none\" stroke=\"#ffffff\" points=\"147,-180 79,-180 79,-144 147,-144 147,-180\"/>\n",
       "<text text-anchor=\"middle\" x=\"113\" y=\"-158.3\" font-family=\"'Fira Mono', 'Source Code Pro', 'Courier', monospace\" font-size=\"14.00\" fill=\"#0060a0\">&lt;letter&gt;</text>\n",
       "</g>\n",
       "<!-- 9&#45;&gt;13 -->\n",
       "<g id=\"edge13\" class=\"edge\">\n",
       "<title>9&#45;&gt;13</title>\n",
       "<path fill=\"none\" stroke=\"#000000\" d=\"M113,-215.8314C113,-208.131 113,-198.9743 113,-190.4166\"/>\n",
       "<polygon fill=\"#000000\" stroke=\"#000000\" points=\"116.5001,-190.4132 113,-180.4133 109.5001,-190.4133 116.5001,-190.4132\"/>\n",
       "</g>\n",
       "<!-- 11 -->\n",
       "<g id=\"node12\" class=\"node\">\n",
       "<title>11</title>\n",
       "<polygon fill=\"none\" stroke=\"#ffffff\" points=\"68,-108 0,-108 0,-72 68,-72 68,-108\"/>\n",
       "<text text-anchor=\"middle\" x=\"34\" y=\"-86.3\" font-family=\"'Fira Mono', 'Source Code Pro', 'Courier', monospace\" font-size=\"14.00\" fill=\"#0060a0\">&lt;letter&gt;</text>\n",
       "</g>\n",
       "<!-- 10&#45;&gt;11 -->\n",
       "<g id=\"edge11\" class=\"edge\">\n",
       "<title>10&#45;&gt;11</title>\n",
       "<path fill=\"none\" stroke=\"#000000\" d=\"M34,-143.8314C34,-136.131 34,-126.9743 34,-118.4166\"/>\n",
       "<polygon fill=\"#000000\" stroke=\"#000000\" points=\"37.5001,-118.4132 34,-108.4133 30.5001,-118.4133 37.5001,-118.4132\"/>\n",
       "</g>\n",
       "<!-- 12 -->\n",
       "<g id=\"node13\" class=\"node\">\n",
       "<title>12</title>\n",
       "<polygon fill=\"none\" stroke=\"#ffffff\" points=\"61,-36 7,-36 7,0 61,0 61,-36\"/>\n",
       "<text text-anchor=\"middle\" x=\"34\" y=\"-14.3\" font-family=\"'Fira Mono', 'Source Code Pro', 'Courier', monospace\" font-size=\"14.00\" fill=\"#00a060\">F</text>\n",
       "</g>\n",
       "<!-- 11&#45;&gt;12 -->\n",
       "<g id=\"edge12\" class=\"edge\">\n",
       "<title>11&#45;&gt;12</title>\n",
       "<path fill=\"none\" stroke=\"#000000\" d=\"M34,-71.8314C34,-64.131 34,-54.9743 34,-46.4166\"/>\n",
       "<polygon fill=\"#000000\" stroke=\"#000000\" points=\"37.5001,-46.4132 34,-36.4133 30.5001,-46.4133 37.5001,-46.4132\"/>\n",
       "</g>\n",
       "<!-- 14 -->\n",
       "<g id=\"node15\" class=\"node\">\n",
       "<title>14</title>\n",
       "<polygon fill=\"none\" stroke=\"#ffffff\" points=\"140,-108 86,-108 86,-72 140,-72 140,-108\"/>\n",
       "<text text-anchor=\"middle\" x=\"113\" y=\"-86.3\" font-family=\"'Fira Mono', 'Source Code Pro', 'Courier', monospace\" font-size=\"14.00\" fill=\"#00a060\">Q</text>\n",
       "</g>\n",
       "<!-- 13&#45;&gt;14 -->\n",
       "<g id=\"edge14\" class=\"edge\">\n",
       "<title>13&#45;&gt;14</title>\n",
       "<path fill=\"none\" stroke=\"#000000\" d=\"M113,-143.8314C113,-136.131 113,-126.9743 113,-118.4166\"/>\n",
       "<polygon fill=\"#000000\" stroke=\"#000000\" points=\"116.5001,-118.4132 113,-108.4133 109.5001,-118.4133 116.5001,-118.4132\"/>\n",
       "</g>\n",
       "<!-- 16 -->\n",
       "<g id=\"node17\" class=\"node\">\n",
       "<title>16</title>\n",
       "<polygon fill=\"none\" stroke=\"#ffffff\" points=\"219,-180 165,-180 165,-144 219,-144 219,-180\"/>\n",
       "<text text-anchor=\"middle\" x=\"192\" y=\"-158.3\" font-family=\"'Fira Mono', 'Source Code Pro', 'Courier', monospace\" font-size=\"14.00\" fill=\"#00a060\">c</text>\n",
       "</g>\n",
       "<!-- 15&#45;&gt;16 -->\n",
       "<g id=\"edge16\" class=\"edge\">\n",
       "<title>15&#45;&gt;16</title>\n",
       "<path fill=\"none\" stroke=\"#000000\" d=\"M192,-215.8314C192,-208.131 192,-198.9743 192,-190.4166\"/>\n",
       "<polygon fill=\"#000000\" stroke=\"#000000\" points=\"195.5001,-190.4132 192,-180.4133 188.5001,-190.4133 195.5001,-190.4132\"/>\n",
       "</g>\n",
       "<!-- 18 -->\n",
       "<g id=\"node19\" class=\"node\">\n",
       "<title>18</title>\n",
       "<polygon fill=\"none\" stroke=\"#ffffff\" points=\"298,-252 244,-252 244,-216 298,-216 298,-252\"/>\n",
       "<text text-anchor=\"middle\" x=\"271\" y=\"-230.3\" font-family=\"'Fira Mono', 'Source Code Pro', 'Courier', monospace\" font-size=\"14.00\" fill=\"#00a060\">9</text>\n",
       "</g>\n",
       "<!-- 17&#45;&gt;18 -->\n",
       "<g id=\"edge18\" class=\"edge\">\n",
       "<title>17&#45;&gt;18</title>\n",
       "<path fill=\"none\" stroke=\"#000000\" d=\"M269.5047,-287.8314C269.7186,-280.131 269.9729,-270.9743 270.2106,-262.4166\"/>\n",
       "<polygon fill=\"#000000\" stroke=\"#000000\" points=\"273.7094,-262.5066 270.4885,-252.4133 266.7121,-262.3122 273.7094,-262.5066\"/>\n",
       "</g>\n",
       "<!-- 20 -->\n",
       "<g id=\"node21\" class=\"node\">\n",
       "<title>20</title>\n",
       "<polygon fill=\"none\" stroke=\"#ffffff\" points=\"371,-324 317,-324 317,-288 371,-288 371,-324\"/>\n",
       "<text text-anchor=\"middle\" x=\"344\" y=\"-302.3\" font-family=\"'Fira Mono', 'Source Code Pro', 'Courier', monospace\" font-size=\"14.00\" fill=\"#00a060\">0</text>\n",
       "</g>\n",
       "<!-- 19&#45;&gt;20 -->\n",
       "<g id=\"edge20\" class=\"edge\">\n",
       "<title>19&#45;&gt;20</title>\n",
       "<path fill=\"none\" stroke=\"#000000\" d=\"M344,-359.8314C344,-352.131 344,-342.9743 344,-334.4166\"/>\n",
       "<polygon fill=\"#000000\" stroke=\"#000000\" points=\"347.5001,-334.4132 344,-324.4133 340.5001,-334.4133 347.5001,-334.4132\"/>\n",
       "</g>\n",
       "<!-- 22 -->\n",
       "<g id=\"node23\" class=\"node\">\n",
       "<title>22</title>\n",
       "<polygon fill=\"none\" stroke=\"#ffffff\" points=\"516,-396 462,-396 462,-360 516,-360 516,-396\"/>\n",
       "<text text-anchor=\"middle\" x=\"489\" y=\"-374.3\" font-family=\"'Fira Mono', 'Source Code Pro', 'Courier', monospace\" font-size=\"14.00\" fill=\"#0060a0\">&lt;attr&gt;</text>\n",
       "</g>\n",
       "<!-- 21&#45;&gt;22 -->\n",
       "<g id=\"edge22\" class=\"edge\">\n",
       "<title>21&#45;&gt;22</title>\n",
       "<path fill=\"none\" stroke=\"#000000\" d=\"M435.1686,-431.8314C443.7152,-423.2848 454.0557,-412.9443 463.3802,-403.6198\"/>\n",
       "<polygon fill=\"#000000\" stroke=\"#000000\" points=\"465.9905,-405.9592 470.5867,-396.4133 461.0408,-401.0095 465.9905,-405.9592\"/>\n",
       "</g>\n",
       "<!-- 23 -->\n",
       "<g id=\"node24\" class=\"node\">\n",
       "<title>23</title>\n",
       "<polygon fill=\"none\" stroke=\"#ffffff\" points=\"443,-324 389,-324 389,-288 443,-288 443,-324\"/>\n",
       "<text text-anchor=\"middle\" x=\"416\" y=\"-302.3\" font-family=\"'Fira Mono', 'Source Code Pro', 'Courier', monospace\" font-size=\"14.00\" fill=\"#00a060\"> </text>\n",
       "</g>\n",
       "<!-- 22&#45;&gt;23 -->\n",
       "<g id=\"edge23\" class=\"edge\">\n",
       "<title>22&#45;&gt;23</title>\n",
       "<path fill=\"none\" stroke=\"#000000\" d=\"M470.579,-359.8314C461.8471,-351.219 451.2683,-340.7851 441.7577,-331.4048\"/>\n",
       "<polygon fill=\"#000000\" stroke=\"#000000\" points=\"443.9925,-328.6931 434.4151,-324.1628 439.077,-333.6769 443.9925,-328.6931\"/>\n",
       "</g>\n",
       "<!-- 24 -->\n",
       "<g id=\"node25\" class=\"node\">\n",
       "<title>24</title>\n",
       "<polygon fill=\"none\" stroke=\"#ffffff\" points=\"515,-324 461,-324 461,-288 515,-288 515,-324\"/>\n",
       "<text text-anchor=\"middle\" x=\"488\" y=\"-302.3\" font-family=\"'Fira Mono', 'Source Code Pro', 'Courier', monospace\" font-size=\"14.00\" fill=\"#0060a0\">&lt;id&gt;</text>\n",
       "</g>\n",
       "<!-- 22&#45;&gt;24 -->\n",
       "<g id=\"edge24\" class=\"edge\">\n",
       "<title>22&#45;&gt;24</title>\n",
       "<path fill=\"none\" stroke=\"#000000\" d=\"M488.7477,-359.8314C488.6407,-352.131 488.5135,-342.9743 488.3947,-334.4166\"/>\n",
       "<polygon fill=\"#000000\" stroke=\"#000000\" points=\"491.8944,-334.3637 488.2557,-324.4133 484.8951,-334.4609 491.8944,-334.3637\"/>\n",
       "</g>\n",
       "<!-- 30 -->\n",
       "<g id=\"node31\" class=\"node\">\n",
       "<title>30</title>\n",
       "<polygon fill=\"none\" stroke=\"#ffffff\" points=\"587,-324 533,-324 533,-288 587,-288 587,-324\"/>\n",
       "<text text-anchor=\"middle\" x=\"560\" y=\"-302.3\" font-family=\"'Fira Mono', 'Source Code Pro', 'Courier', monospace\" font-size=\"14.00\" fill=\"#00a060\">=&quot;</text>\n",
       "</g>\n",
       "<!-- 22&#45;&gt;30 -->\n",
       "<g id=\"edge30\" class=\"edge\">\n",
       "<title>22&#45;&gt;30</title>\n",
       "<path fill=\"none\" stroke=\"#000000\" d=\"M506.9163,-359.8314C515.3442,-351.2848 525.541,-340.9443 534.736,-331.6198\"/>\n",
       "<polygon fill=\"#000000\" stroke=\"#000000\" points=\"537.3131,-333.9912 541.8425,-324.4133 532.3289,-329.0761 537.3131,-333.9912\"/>\n",
       "</g>\n",
       "<!-- 31 -->\n",
       "<g id=\"node32\" class=\"node\">\n",
       "<title>31</title>\n",
       "<polygon fill=\"none\" stroke=\"#ffffff\" points=\"706.5,-324 605.5,-324 605.5,-288 706.5,-288 706.5,-324\"/>\n",
       "<text text-anchor=\"middle\" x=\"656\" y=\"-302.3\" font-family=\"'Fira Mono', 'Source Code Pro', 'Courier', monospace\" font-size=\"14.00\" fill=\"#0060a0\">&lt;plain&#45;text&gt;</text>\n",
       "</g>\n",
       "<!-- 22&#45;&gt;31 -->\n",
       "<g id=\"edge31\" class=\"edge\">\n",
       "<title>22&#45;&gt;31</title>\n",
       "<path fill=\"none\" stroke=\"#000000\" d=\"M516.2229,-365.2959C520.1648,-363.497 524.1798,-361.6868 528,-360 552.5307,-349.1682 579.8971,-337.5595 603.0092,-327.8919\"/>\n",
       "<polygon fill=\"#000000\" stroke=\"#000000\" points=\"604.4211,-331.0953 612.3014,-324.0135 601.7248,-324.6354 604.4211,-331.0953\"/>\n",
       "</g>\n",
       "<!-- 33 -->\n",
       "<g id=\"node34\" class=\"node\">\n",
       "<title>33</title>\n",
       "<polygon fill=\"none\" stroke=\"#ffffff\" points=\"779,-324 725,-324 725,-288 779,-288 779,-324\"/>\n",
       "<text text-anchor=\"middle\" x=\"752\" y=\"-302.3\" font-family=\"'Fira Mono', 'Source Code Pro', 'Courier', monospace\" font-size=\"14.00\" fill=\"#00a060\">&quot;</text>\n",
       "</g>\n",
       "<!-- 22&#45;&gt;33 -->\n",
       "<g id=\"edge33\" class=\"edge\">\n",
       "<title>22&#45;&gt;33</title>\n",
       "<path fill=\"none\" stroke=\"#000000\" d=\"M516.3661,-364.3687C520.2152,-362.7474 524.1667,-361.2334 528,-360 608.5693,-334.0762 634.6989,-350.7431 715,-324 715.1017,-323.9661 715.2034,-323.9321 715.3052,-323.8978\"/>\n",
       "<polygon fill=\"#000000\" stroke=\"#000000\" points=\"716.7995,-327.0723 724.8574,-320.1932 714.2684,-320.5459 716.7995,-327.0723\"/>\n",
       "</g>\n",
       "<!-- 25 -->\n",
       "<g id=\"node26\" class=\"node\">\n",
       "<title>25</title>\n",
       "<polygon fill=\"none\" stroke=\"#ffffff\" points=\"475,-252 421,-252 421,-216 475,-216 475,-252\"/>\n",
       "<text text-anchor=\"middle\" x=\"448\" y=\"-230.3\" font-family=\"'Fira Mono', 'Source Code Pro', 'Courier', monospace\" font-size=\"14.00\" fill=\"#0060a0\">&lt;id&gt;</text>\n",
       "</g>\n",
       "<!-- 24&#45;&gt;25 -->\n",
       "<g id=\"edge25\" class=\"edge\">\n",
       "<title>24&#45;&gt;25</title>\n",
       "<path fill=\"none\" stroke=\"#000000\" d=\"M477.9063,-287.8314C473.4403,-279.7925 468.0925,-270.1666 463.1621,-261.2918\"/>\n",
       "<polygon fill=\"#000000\" stroke=\"#000000\" points=\"466.1456,-259.4551 458.2296,-252.4133 460.0265,-262.8546 466.1456,-259.4551\"/>\n",
       "</g>\n",
       "<!-- 28 -->\n",
       "<g id=\"node29\" class=\"node\">\n",
       "<title>28</title>\n",
       "<polygon fill=\"none\" stroke=\"#ffffff\" points=\"561,-252 493,-252 493,-216 561,-216 561,-252\"/>\n",
       "<text text-anchor=\"middle\" x=\"527\" y=\"-230.3\" font-family=\"'Fira Mono', 'Source Code Pro', 'Courier', monospace\" font-size=\"14.00\" fill=\"#0060a0\">&lt;letter&gt;</text>\n",
       "</g>\n",
       "<!-- 24&#45;&gt;28 -->\n",
       "<g id=\"edge28\" class=\"edge\">\n",
       "<title>24&#45;&gt;28</title>\n",
       "<path fill=\"none\" stroke=\"#000000\" d=\"M497.8413,-287.8314C502.1957,-279.7925 507.4098,-270.1666 512.2169,-261.2918\"/>\n",
       "<polygon fill=\"#000000\" stroke=\"#000000\" points=\"515.3408,-262.8732 517.0261,-252.4133 509.1857,-259.5392 515.3408,-262.8732\"/>\n",
       "</g>\n",
       "<!-- 26 -->\n",
       "<g id=\"node27\" class=\"node\">\n",
       "<title>26</title>\n",
       "<polygon fill=\"none\" stroke=\"#ffffff\" points=\"482,-180 414,-180 414,-144 482,-144 482,-180\"/>\n",
       "<text text-anchor=\"middle\" x=\"448\" y=\"-158.3\" font-family=\"'Fira Mono', 'Source Code Pro', 'Courier', monospace\" font-size=\"14.00\" fill=\"#0060a0\">&lt;letter&gt;</text>\n",
       "</g>\n",
       "<!-- 25&#45;&gt;26 -->\n",
       "<g id=\"edge26\" class=\"edge\">\n",
       "<title>25&#45;&gt;26</title>\n",
       "<path fill=\"none\" stroke=\"#000000\" d=\"M448,-215.8314C448,-208.131 448,-198.9743 448,-190.4166\"/>\n",
       "<polygon fill=\"#000000\" stroke=\"#000000\" points=\"451.5001,-190.4132 448,-180.4133 444.5001,-190.4133 451.5001,-190.4132\"/>\n",
       "</g>\n",
       "<!-- 27 -->\n",
       "<g id=\"node28\" class=\"node\">\n",
       "<title>27</title>\n",
       "<polygon fill=\"none\" stroke=\"#ffffff\" points=\"475,-108 421,-108 421,-72 475,-72 475,-108\"/>\n",
       "<text text-anchor=\"middle\" x=\"448\" y=\"-86.3\" font-family=\"'Fira Mono', 'Source Code Pro', 'Courier', monospace\" font-size=\"14.00\" fill=\"#00a060\">W</text>\n",
       "</g>\n",
       "<!-- 26&#45;&gt;27 -->\n",
       "<g id=\"edge27\" class=\"edge\">\n",
       "<title>26&#45;&gt;27</title>\n",
       "<path fill=\"none\" stroke=\"#000000\" d=\"M448,-143.8314C448,-136.131 448,-126.9743 448,-118.4166\"/>\n",
       "<polygon fill=\"#000000\" stroke=\"#000000\" points=\"451.5001,-118.4132 448,-108.4133 444.5001,-118.4133 451.5001,-118.4132\"/>\n",
       "</g>\n",
       "<!-- 29 -->\n",
       "<g id=\"node30\" class=\"node\">\n",
       "<title>29</title>\n",
       "<polygon fill=\"none\" stroke=\"#ffffff\" points=\"554,-180 500,-180 500,-144 554,-144 554,-180\"/>\n",
       "<text text-anchor=\"middle\" x=\"527\" y=\"-158.3\" font-family=\"'Fira Mono', 'Source Code Pro', 'Courier', monospace\" font-size=\"14.00\" fill=\"#00a060\">t</text>\n",
       "</g>\n",
       "<!-- 28&#45;&gt;29 -->\n",
       "<g id=\"edge29\" class=\"edge\">\n",
       "<title>28&#45;&gt;29</title>\n",
       "<path fill=\"none\" stroke=\"#000000\" d=\"M527,-215.8314C527,-208.131 527,-198.9743 527,-190.4166\"/>\n",
       "<polygon fill=\"#000000\" stroke=\"#000000\" points=\"530.5001,-190.4132 527,-180.4133 523.5001,-190.4133 530.5001,-190.4132\"/>\n",
       "</g>\n",
       "<!-- 32 -->\n",
       "<g id=\"node33\" class=\"node\">\n",
       "<title>32</title>\n",
       "<polygon fill=\"none\" stroke=\"#ffffff\" points=\"683,-252 629,-252 629,-216 683,-216 683,-252\"/>\n",
       "</g>\n",
       "<!-- 31&#45;&gt;32 -->\n",
       "<g id=\"edge32\" class=\"edge\">\n",
       "<title>31&#45;&gt;32</title>\n",
       "<path fill=\"none\" stroke=\"#000000\" d=\"M656,-287.8314C656,-280.131 656,-270.9743 656,-262.4166\"/>\n",
       "<polygon fill=\"#000000\" stroke=\"#000000\" points=\"659.5001,-262.4132 656,-252.4133 652.5001,-262.4133 659.5001,-262.4132\"/>\n",
       "</g>\n",
       "<!-- 36 -->\n",
       "<g id=\"node37\" class=\"node\">\n",
       "<title>36</title>\n",
       "<polygon fill=\"none\" stroke=\"#ffffff\" points=\"591,-396 537,-396 537,-360 591,-360 591,-396\"/>\n",
       "<text text-anchor=\"middle\" x=\"564\" y=\"-374.3\" font-family=\"'Fira Mono', 'Source Code Pro', 'Courier', monospace\" font-size=\"14.00\" fill=\"#00a060\">&gt;</text>\n",
       "</g>\n",
       "<!-- 35&#45;&gt;36 -->\n",
       "<g id=\"edge36\" class=\"edge\">\n",
       "<title>35&#45;&gt;36</title>\n",
       "<path fill=\"none\" stroke=\"#000000\" d=\"M564,-431.8314C564,-424.131 564,-414.9743 564,-406.4166\"/>\n",
       "<polygon fill=\"#000000\" stroke=\"#000000\" points=\"567.5001,-406.4132 564,-396.4133 560.5001,-406.4133 567.5001,-406.4132\"/>\n",
       "</g>\n",
       "</g>\n",
       "</svg>\n"
      ],
      "text/plain": [
       "<graphviz.dot.Digraph at 0x7fc944c7b828>"
      ]
     },
     "execution_count": 1,
     "metadata": {},
     "output_type": "execute_result"
    }
   ],
   "source": [
    "display_tree(simple_html_fuzzer.derivation_tree)"
   ]
  },
  {
   "cell_type": "markdown",
   "metadata": {
    "slideshow": {
     "slide_type": "fragment"
    }
   },
   "source": [
    "From top to bottom, we see that the input was constructed from a `<start>` symbol, which then expanded into `html`, which then expanded into HTML text, and so on. Multiple children in a tree stand for a concatenation of individual symbols."
   ]
  },
  {
   "cell_type": "markdown",
   "metadata": {
    "slideshow": {
     "slide_type": "fragment"
    }
   },
   "source": [
    "Internally, these trees come as pairs `(symbol, children)`, where `symbol` is the name of a node (say, `<html>`), and `children` is a (possibly empty) list of subtrees. Here are the topmost nodes of the above tree:"
   ]
  },
  {
   "cell_type": "code",
   "execution_count": 32,
   "metadata": {
    "execution": {
     "iopub.execute_input": "2021-03-09T12:01:50.155737Z",
     "iopub.status.busy": "2021-03-09T12:01:50.155011Z",
     "iopub.status.idle": "2021-03-09T12:01:50.156874Z",
     "shell.execute_reply": "2021-03-09T12:01:50.157399Z"
    },
    "slideshow": {
     "slide_type": "skip"
    }
   },
   "outputs": [],
   "source": [
    "import pprint"
   ]
  },
  {
   "cell_type": "code",
   "execution_count": 33,
   "metadata": {
    "execution": {
     "iopub.execute_input": "2021-03-09T12:01:50.161452Z",
     "iopub.status.busy": "2021-03-09T12:01:50.160804Z",
     "iopub.status.idle": "2021-03-09T12:01:50.163047Z",
     "shell.execute_reply": "2021-03-09T12:01:50.163407Z"
    },
    "slideshow": {
     "slide_type": "fragment"
    }
   },
   "outputs": [
    {
     "name": "stdout",
     "output_type": "stream",
     "text": [
      "('<start>', [('<html>', [('<tagged-text>', [('<self-closing-tag>', [...])])])])\n"
     ]
    }
   ],
   "source": [
    "pp = pprint.PrettyPrinter(depth=7)\n",
    "pp.pprint(simple_html_fuzzer.derivation_tree)"
   ]
  },
  {
   "cell_type": "markdown",
   "metadata": {
    "slideshow": {
     "slide_type": "subslide"
    }
   },
   "source": [
    "To produce abstract failure-inducing patterns, we will work on this very structure. The idea is to\n",
    "\n",
    "1. systematically replace subtrees by other, generated, compatible subtrees (e.g. replace one `<html>` subtree in the concrete input by some other generated `<html>` subtree);\n",
    "2. see whether these subtrees also result in failures; and\n",
    "3. if they do, use the nonterminal (`<html>`) as a placeholder in the pattern.\n",
    "\n",
    "This will involve some subtree manipulation, construction, and finally testing. First of all, though, we need to be able to turn an _existing input_ into a derivation tree."
   ]
  },
  {
   "cell_type": "markdown",
   "metadata": {
    "slideshow": {
     "slide_type": "slide"
    }
   },
   "source": [
    "## Parsing\n",
    "\n",
    "The activity of creating a structure out of an unstructured input is called _parsing_. Generally speaking, a _parser_ uses a _grammar_ to create a _derivation tree_ (also called *parse tree* in parsing contexts) from a string input."
   ]
  },
  {
   "cell_type": "markdown",
   "metadata": {
    "slideshow": {
     "slide_type": "fragment"
    }
   },
   "source": [
    "Again, there's a whole body of theory (and practice!) around constructing parsers. We make our life simple by using an existing parser (again, from [the fuzzing book](https://www.fuzzingbook.org/Parser.html)), which does just what we want. The `EarleyParser` is instantiated with a grammar such as `SIMPLE_HTML_GRAMMAR`:"
   ]
  },
  {
   "cell_type": "code",
   "execution_count": 34,
   "metadata": {
    "execution": {
     "iopub.execute_input": "2021-03-09T12:01:50.166794Z",
     "iopub.status.busy": "2021-03-09T12:01:50.166260Z",
     "iopub.status.idle": "2021-03-09T12:01:50.172060Z",
     "shell.execute_reply": "2021-03-09T12:01:50.172445Z"
    },
    "slideshow": {
     "slide_type": "skip"
    }
   },
   "outputs": [],
   "source": [
    "from fuzzingbook.Parser import Parser, EarleyParser  # minor dependency"
   ]
  },
  {
   "cell_type": "code",
   "execution_count": 35,
   "metadata": {
    "execution": {
     "iopub.execute_input": "2021-03-09T12:01:50.176853Z",
     "iopub.status.busy": "2021-03-09T12:01:50.176197Z",
     "iopub.status.idle": "2021-03-09T12:01:50.177921Z",
     "shell.execute_reply": "2021-03-09T12:01:50.178474Z"
    },
    "slideshow": {
     "slide_type": "fragment"
    }
   },
   "outputs": [],
   "source": [
    "simple_html_parser = EarleyParser(SIMPLE_HTML_GRAMMAR)"
   ]
  },
  {
   "cell_type": "markdown",
   "metadata": {
    "slideshow": {
     "slide_type": "subslide"
    }
   },
   "source": [
    "Its method `parse()` returns an iterator over multiple possible derivation trees.  (There can be multiple trees because the grammar could be ambiguous). We are only interested in the first such tree. Let us parse `BAD_INPUT` and inspect the resulting ~parse tree~ ~syntax tree~ derivation tree:"
   ]
  },
  {
   "cell_type": "code",
   "execution_count": 36,
   "metadata": {
    "execution": {
     "iopub.execute_input": "2021-03-09T12:01:50.189152Z",
     "iopub.status.busy": "2021-03-09T12:01:50.188410Z",
     "iopub.status.idle": "2021-03-09T12:01:50.190430Z",
     "shell.execute_reply": "2021-03-09T12:01:50.190916Z"
    },
    "slideshow": {
     "slide_type": "fragment"
    }
   },
   "outputs": [],
   "source": [
    "bad_input_tree = list(simple_html_parser.parse(BAD_INPUT))[0]"
   ]
  },
  {
   "cell_type": "code",
   "execution_count": 37,
   "metadata": {
    "execution": {
     "iopub.execute_input": "2021-03-09T12:01:50.199105Z",
     "iopub.status.busy": "2021-03-09T12:01:50.198572Z",
     "iopub.status.idle": "2021-03-09T12:01:50.804518Z",
     "shell.execute_reply": "2021-03-09T12:01:50.804891Z"
    },
    "slideshow": {
     "slide_type": "fragment"
    }
   },
   "outputs": [
    {
     "data": {
      "image/svg+xml": [
       "<?xml version=\"1.0\" encoding=\"UTF-8\" standalone=\"no\"?>\n",
       "<!DOCTYPE svg PUBLIC \"-//W3C//DTD SVG 1.1//EN\"\n",
       " \"http://www.w3.org/Graphics/SVG/1.1/DTD/svg11.dtd\">\n",
       "<!-- Generated by graphviz version 2.40.1 (20161225.0304)\n",
       " -->\n",
       "<!-- Title: %3 Pages: 1 -->\n",
       "<svg width=\"1005pt\" height=\"764pt\"\n",
       " viewBox=\"0.00 0.00 1005.00 764.00\" xmlns=\"http://www.w3.org/2000/svg\" xmlns:xlink=\"http://www.w3.org/1999/xlink\">\n",
       "<g id=\"graph0\" class=\"graph\" transform=\"scale(1 1) rotate(0) translate(4 760)\">\n",
       "<title>%3</title>\n",
       "<polygon fill=\"#ffffff\" stroke=\"transparent\" points=\"-4,4 -4,-760 1001,-760 1001,4 -4,4\"/>\n",
       "<!-- 0 -->\n",
       "<g id=\"node1\" class=\"node\">\n",
       "<title>0</title>\n",
       "<polygon fill=\"none\" stroke=\"#ffffff\" points=\"415.5,-756 356.5,-756 356.5,-720 415.5,-720 415.5,-756\"/>\n",
       "<text text-anchor=\"middle\" x=\"386\" y=\"-734.3\" font-family=\"'Fira Mono', 'Source Code Pro', 'Courier', monospace\" font-size=\"14.00\" fill=\"#0060a0\">&lt;start&gt;</text>\n",
       "</g>\n",
       "<!-- 1 -->\n",
       "<g id=\"node2\" class=\"node\">\n",
       "<title>1</title>\n",
       "<polygon fill=\"none\" stroke=\"#ffffff\" points=\"413,-684 359,-684 359,-648 413,-648 413,-684\"/>\n",
       "<text text-anchor=\"middle\" x=\"386\" y=\"-662.3\" font-family=\"'Fira Mono', 'Source Code Pro', 'Courier', monospace\" font-size=\"14.00\" fill=\"#0060a0\">&lt;html&gt;</text>\n",
       "</g>\n",
       "<!-- 0&#45;&gt;1 -->\n",
       "<g id=\"edge1\" class=\"edge\">\n",
       "<title>0&#45;&gt;1</title>\n",
       "<path fill=\"none\" stroke=\"#000000\" d=\"M386,-719.8314C386,-712.131 386,-702.9743 386,-694.4166\"/>\n",
       "<polygon fill=\"#000000\" stroke=\"#000000\" points=\"389.5001,-694.4132 386,-684.4133 382.5001,-694.4133 389.5001,-694.4132\"/>\n",
       "</g>\n",
       "<!-- 2 -->\n",
       "<g id=\"node3\" class=\"node\">\n",
       "<title>2</title>\n",
       "<polygon fill=\"none\" stroke=\"#ffffff\" points=\"441,-612 331,-612 331,-576 441,-576 441,-612\"/>\n",
       "<text text-anchor=\"middle\" x=\"386\" y=\"-590.3\" font-family=\"'Fira Mono', 'Source Code Pro', 'Courier', monospace\" font-size=\"14.00\" fill=\"#0060a0\">&lt;tagged&#45;text&gt;</text>\n",
       "</g>\n",
       "<!-- 1&#45;&gt;2 -->\n",
       "<g id=\"edge2\" class=\"edge\">\n",
       "<title>1&#45;&gt;2</title>\n",
       "<path fill=\"none\" stroke=\"#000000\" d=\"M386,-647.8314C386,-640.131 386,-630.9743 386,-622.4166\"/>\n",
       "<polygon fill=\"#000000\" stroke=\"#000000\" points=\"389.5001,-622.4132 386,-612.4133 382.5001,-622.4133 389.5001,-622.4132\"/>\n",
       "</g>\n",
       "<!-- 3 -->\n",
       "<g id=\"node4\" class=\"node\">\n",
       "<title>3</title>\n",
       "<polygon fill=\"none\" stroke=\"#ffffff\" points=\"304,-540 194,-540 194,-504 304,-504 304,-540\"/>\n",
       "<text text-anchor=\"middle\" x=\"249\" y=\"-518.3\" font-family=\"'Fira Mono', 'Source Code Pro', 'Courier', monospace\" font-size=\"14.00\" fill=\"#0060a0\">&lt;opening&#45;tag&gt;</text>\n",
       "</g>\n",
       "<!-- 2&#45;&gt;3 -->\n",
       "<g id=\"edge3\" class=\"edge\">\n",
       "<title>2&#45;&gt;3</title>\n",
       "<path fill=\"none\" stroke=\"#000000\" d=\"M351.4291,-575.8314C333.5815,-566.4516 311.6226,-554.9112 292.62,-544.9244\"/>\n",
       "<polygon fill=\"#000000\" stroke=\"#000000\" points=\"294.0401,-541.7168 283.5598,-540.1628 290.7836,-547.9132 294.0401,-541.7168\"/>\n",
       "</g>\n",
       "<!-- 17 -->\n",
       "<g id=\"node18\" class=\"node\">\n",
       "<title>17</title>\n",
       "<polygon fill=\"none\" stroke=\"#ffffff\" points=\"413,-540 359,-540 359,-504 413,-504 413,-540\"/>\n",
       "<text text-anchor=\"middle\" x=\"386\" y=\"-518.3\" font-family=\"'Fira Mono', 'Source Code Pro', 'Courier', monospace\" font-size=\"14.00\" fill=\"#0060a0\">&lt;html&gt;</text>\n",
       "</g>\n",
       "<!-- 2&#45;&gt;17 -->\n",
       "<g id=\"edge17\" class=\"edge\">\n",
       "<title>2&#45;&gt;17</title>\n",
       "<path fill=\"none\" stroke=\"#000000\" d=\"M386,-575.8314C386,-568.131 386,-558.9743 386,-550.4166\"/>\n",
       "<polygon fill=\"#000000\" stroke=\"#000000\" points=\"389.5001,-550.4132 386,-540.4133 382.5001,-550.4133 389.5001,-550.4132\"/>\n",
       "</g>\n",
       "<!-- 35 -->\n",
       "<g id=\"node36\" class=\"node\">\n",
       "<title>35</title>\n",
       "<polygon fill=\"none\" stroke=\"#ffffff\" points=\"816,-540 706,-540 706,-504 816,-504 816,-540\"/>\n",
       "<text text-anchor=\"middle\" x=\"761\" y=\"-518.3\" font-family=\"'Fira Mono', 'Source Code Pro', 'Courier', monospace\" font-size=\"14.00\" fill=\"#0060a0\">&lt;closing&#45;tag&gt;</text>\n",
       "</g>\n",
       "<!-- 2&#45;&gt;35 -->\n",
       "<g id=\"edge35\" class=\"edge\">\n",
       "<title>2&#45;&gt;35</title>\n",
       "<path fill=\"none\" stroke=\"#000000\" d=\"M441.3325,-583.3762C509.1448,-570.3562 623.8851,-548.3261 695.8804,-534.503\"/>\n",
       "<polygon fill=\"#000000\" stroke=\"#000000\" points=\"696.5855,-537.9316 705.7462,-532.6087 695.2656,-531.0572 696.5855,-537.9316\"/>\n",
       "</g>\n",
       "<!-- 4 -->\n",
       "<g id=\"node5\" class=\"node\">\n",
       "<title>4</title>\n",
       "<polygon fill=\"none\" stroke=\"#ffffff\" points=\"108,-468 54,-468 54,-432 108,-432 108,-468\"/>\n",
       "<text text-anchor=\"middle\" x=\"81\" y=\"-446.3\" font-family=\"'Fira Mono', 'Source Code Pro', 'Courier', monospace\" font-size=\"14.00\" fill=\"#0060a0\">&lt;lt&gt;</text>\n",
       "</g>\n",
       "<!-- 3&#45;&gt;4 -->\n",
       "<g id=\"edge4\" class=\"edge\">\n",
       "<title>3&#45;&gt;4</title>\n",
       "<path fill=\"none\" stroke=\"#000000\" d=\"M206.6065,-503.8314C179.0764,-492.0328 143.5695,-476.8155 117.3345,-465.5719\"/>\n",
       "<polygon fill=\"#000000\" stroke=\"#000000\" points=\"118.6906,-462.3453 108.1204,-461.623 115.9331,-468.7793 118.6906,-462.3453\"/>\n",
       "</g>\n",
       "<!-- 6 -->\n",
       "<g id=\"node7\" class=\"node\">\n",
       "<title>6</title>\n",
       "<polygon fill=\"none\" stroke=\"#ffffff\" points=\"219,-468 165,-468 165,-432 219,-432 219,-468\"/>\n",
       "<text text-anchor=\"middle\" x=\"192\" y=\"-446.3\" font-family=\"'Fira Mono', 'Source Code Pro', 'Courier', monospace\" font-size=\"14.00\" fill=\"#0060a0\">&lt;id&gt;</text>\n",
       "</g>\n",
       "<!-- 3&#45;&gt;6 -->\n",
       "<g id=\"edge6\" class=\"edge\">\n",
       "<title>3&#45;&gt;6</title>\n",
       "<path fill=\"none\" stroke=\"#000000\" d=\"M234.6165,-503.8314C228.0514,-495.5386 220.1493,-485.557 212.9422,-476.4533\"/>\n",
       "<polygon fill=\"#000000\" stroke=\"#000000\" points=\"215.5284,-474.0813 206.5772,-468.4133 210.0401,-478.4262 215.5284,-474.0813\"/>\n",
       "</g>\n",
       "<!-- 15 -->\n",
       "<g id=\"node16\" class=\"node\">\n",
       "<title>15</title>\n",
       "<polygon fill=\"none\" stroke=\"#ffffff\" points=\"295,-468 241,-468 241,-432 295,-432 295,-468\"/>\n",
       "<text text-anchor=\"middle\" x=\"268\" y=\"-446.3\" font-family=\"'Fira Mono', 'Source Code Pro', 'Courier', monospace\" font-size=\"14.00\" fill=\"#0060a0\">&lt;gt&gt;</text>\n",
       "</g>\n",
       "<!-- 3&#45;&gt;15 -->\n",
       "<g id=\"edge15\" class=\"edge\">\n",
       "<title>3&#45;&gt;15</title>\n",
       "<path fill=\"none\" stroke=\"#000000\" d=\"M253.7945,-503.8314C255.8489,-496.0463 258.296,-486.7729 260.5756,-478.1347\"/>\n",
       "<polygon fill=\"#000000\" stroke=\"#000000\" points=\"263.9735,-478.9753 263.1409,-468.4133 257.2052,-477.1892 263.9735,-478.9753\"/>\n",
       "</g>\n",
       "<!-- 5 -->\n",
       "<g id=\"node6\" class=\"node\">\n",
       "<title>5</title>\n",
       "<polygon fill=\"none\" stroke=\"#ffffff\" points=\"68,-396 14,-396 14,-360 68,-360 68,-396\"/>\n",
       "<text text-anchor=\"middle\" x=\"41\" y=\"-374.3\" font-family=\"'Fira Mono', 'Source Code Pro', 'Courier', monospace\" font-size=\"14.00\" fill=\"#0060a0\">&lt;</text>\n",
       "</g>\n",
       "<!-- 4&#45;&gt;5 -->\n",
       "<g id=\"edge5\" class=\"edge\">\n",
       "<title>4&#45;&gt;5</title>\n",
       "<path fill=\"none\" stroke=\"#000000\" d=\"M70.9063,-431.8314C66.4403,-423.7925 61.0925,-414.1666 56.1621,-405.2918\"/>\n",
       "<polygon fill=\"#000000\" stroke=\"#000000\" points=\"59.1456,-403.4551 51.2296,-396.4133 53.0265,-406.8546 59.1456,-403.4551\"/>\n",
       "</g>\n",
       "<!-- 7 -->\n",
       "<g id=\"node8\" class=\"node\">\n",
       "<title>7</title>\n",
       "<polygon fill=\"none\" stroke=\"#ffffff\" points=\"140,-396 86,-396 86,-360 140,-360 140,-396\"/>\n",
       "<text text-anchor=\"middle\" x=\"113\" y=\"-374.3\" font-family=\"'Fira Mono', 'Source Code Pro', 'Courier', monospace\" font-size=\"14.00\" fill=\"#0060a0\">&lt;id&gt;</text>\n",
       "</g>\n",
       "<!-- 6&#45;&gt;7 -->\n",
       "<g id=\"edge7\" class=\"edge\">\n",
       "<title>6&#45;&gt;7</title>\n",
       "<path fill=\"none\" stroke=\"#000000\" d=\"M172.065,-431.8314C162.5217,-423.1337 150.9401,-412.5783 140.5694,-403.1265\"/>\n",
       "<polygon fill=\"#000000\" stroke=\"#000000\" points=\"142.6772,-400.3121 132.9287,-396.1628 137.962,-405.4857 142.6772,-400.3121\"/>\n",
       "</g>\n",
       "<!-- 13 -->\n",
       "<g id=\"node14\" class=\"node\">\n",
       "<title>13</title>\n",
       "<polygon fill=\"none\" stroke=\"#ffffff\" points=\"226,-396 158,-396 158,-360 226,-360 226,-396\"/>\n",
       "<text text-anchor=\"middle\" x=\"192\" y=\"-374.3\" font-family=\"'Fira Mono', 'Source Code Pro', 'Courier', monospace\" font-size=\"14.00\" fill=\"#0060a0\">&lt;letter&gt;</text>\n",
       "</g>\n",
       "<!-- 6&#45;&gt;13 -->\n",
       "<g id=\"edge13\" class=\"edge\">\n",
       "<title>6&#45;&gt;13</title>\n",
       "<path fill=\"none\" stroke=\"#000000\" d=\"M192,-431.8314C192,-424.131 192,-414.9743 192,-406.4166\"/>\n",
       "<polygon fill=\"#000000\" stroke=\"#000000\" points=\"195.5001,-406.4132 192,-396.4133 188.5001,-406.4133 195.5001,-406.4132\"/>\n",
       "</g>\n",
       "<!-- 8 -->\n",
       "<g id=\"node9\" class=\"node\">\n",
       "<title>8</title>\n",
       "<polygon fill=\"none\" stroke=\"#ffffff\" points=\"61,-324 7,-324 7,-288 61,-288 61,-324\"/>\n",
       "<text text-anchor=\"middle\" x=\"34\" y=\"-302.3\" font-family=\"'Fira Mono', 'Source Code Pro', 'Courier', monospace\" font-size=\"14.00\" fill=\"#0060a0\">&lt;id&gt;</text>\n",
       "</g>\n",
       "<!-- 7&#45;&gt;8 -->\n",
       "<g id=\"edge8\" class=\"edge\">\n",
       "<title>7&#45;&gt;8</title>\n",
       "<path fill=\"none\" stroke=\"#000000\" d=\"M93.065,-359.8314C83.5217,-351.1337 71.9401,-340.5783 61.5694,-331.1265\"/>\n",
       "<polygon fill=\"#000000\" stroke=\"#000000\" points=\"63.6772,-328.3121 53.9287,-324.1628 58.962,-333.4857 63.6772,-328.3121\"/>\n",
       "</g>\n",
       "<!-- 11 -->\n",
       "<g id=\"node12\" class=\"node\">\n",
       "<title>11</title>\n",
       "<polygon fill=\"none\" stroke=\"#ffffff\" points=\"147,-324 79,-324 79,-288 147,-288 147,-324\"/>\n",
       "<text text-anchor=\"middle\" x=\"113\" y=\"-302.3\" font-family=\"'Fira Mono', 'Source Code Pro', 'Courier', monospace\" font-size=\"14.00\" fill=\"#0060a0\">&lt;letter&gt;</text>\n",
       "</g>\n",
       "<!-- 7&#45;&gt;11 -->\n",
       "<g id=\"edge11\" class=\"edge\">\n",
       "<title>7&#45;&gt;11</title>\n",
       "<path fill=\"none\" stroke=\"#000000\" d=\"M113,-359.8314C113,-352.131 113,-342.9743 113,-334.4166\"/>\n",
       "<polygon fill=\"#000000\" stroke=\"#000000\" points=\"116.5001,-334.4132 113,-324.4133 109.5001,-334.4133 116.5001,-334.4132\"/>\n",
       "</g>\n",
       "<!-- 9 -->\n",
       "<g id=\"node10\" class=\"node\">\n",
       "<title>9</title>\n",
       "<polygon fill=\"none\" stroke=\"#ffffff\" points=\"68,-252 0,-252 0,-216 68,-216 68,-252\"/>\n",
       "<text text-anchor=\"middle\" x=\"34\" y=\"-230.3\" font-family=\"'Fira Mono', 'Source Code Pro', 'Courier', monospace\" font-size=\"14.00\" fill=\"#0060a0\">&lt;letter&gt;</text>\n",
       "</g>\n",
       "<!-- 8&#45;&gt;9 -->\n",
       "<g id=\"edge9\" class=\"edge\">\n",
       "<title>8&#45;&gt;9</title>\n",
       "<path fill=\"none\" stroke=\"#000000\" d=\"M34,-287.8314C34,-280.131 34,-270.9743 34,-262.4166\"/>\n",
       "<polygon fill=\"#000000\" stroke=\"#000000\" points=\"37.5001,-262.4132 34,-252.4133 30.5001,-262.4133 37.5001,-262.4132\"/>\n",
       "</g>\n",
       "<!-- 10 -->\n",
       "<g id=\"node11\" class=\"node\">\n",
       "<title>10</title>\n",
       "<polygon fill=\"none\" stroke=\"#ffffff\" points=\"61,-180 7,-180 7,-144 61,-144 61,-180\"/>\n",
       "<text text-anchor=\"middle\" x=\"34\" y=\"-158.3\" font-family=\"'Fira Mono', 'Source Code Pro', 'Courier', monospace\" font-size=\"14.00\" fill=\"#00a060\">f</text>\n",
       "</g>\n",
       "<!-- 9&#45;&gt;10 -->\n",
       "<g id=\"edge10\" class=\"edge\">\n",
       "<title>9&#45;&gt;10</title>\n",
       "<path fill=\"none\" stroke=\"#000000\" d=\"M34,-215.8314C34,-208.131 34,-198.9743 34,-190.4166\"/>\n",
       "<polygon fill=\"#000000\" stroke=\"#000000\" points=\"37.5001,-190.4132 34,-180.4133 30.5001,-190.4133 37.5001,-190.4132\"/>\n",
       "</g>\n",
       "<!-- 12 -->\n",
       "<g id=\"node13\" class=\"node\">\n",
       "<title>12</title>\n",
       "<polygon fill=\"none\" stroke=\"#ffffff\" points=\"140,-252 86,-252 86,-216 140,-216 140,-252\"/>\n",
       "<text text-anchor=\"middle\" x=\"113\" y=\"-230.3\" font-family=\"'Fira Mono', 'Source Code Pro', 'Courier', monospace\" font-size=\"14.00\" fill=\"#00a060\">o</text>\n",
       "</g>\n",
       "<!-- 11&#45;&gt;12 -->\n",
       "<g id=\"edge12\" class=\"edge\">\n",
       "<title>11&#45;&gt;12</title>\n",
       "<path fill=\"none\" stroke=\"#000000\" d=\"M113,-287.8314C113,-280.131 113,-270.9743 113,-262.4166\"/>\n",
       "<polygon fill=\"#000000\" stroke=\"#000000\" points=\"116.5001,-262.4132 113,-252.4133 109.5001,-262.4133 116.5001,-262.4132\"/>\n",
       "</g>\n",
       "<!-- 14 -->\n",
       "<g id=\"node15\" class=\"node\">\n",
       "<title>14</title>\n",
       "<polygon fill=\"none\" stroke=\"#ffffff\" points=\"219,-324 165,-324 165,-288 219,-288 219,-324\"/>\n",
       "<text text-anchor=\"middle\" x=\"192\" y=\"-302.3\" font-family=\"'Fira Mono', 'Source Code Pro', 'Courier', monospace\" font-size=\"14.00\" fill=\"#00a060\">o</text>\n",
       "</g>\n",
       "<!-- 13&#45;&gt;14 -->\n",
       "<g id=\"edge14\" class=\"edge\">\n",
       "<title>13&#45;&gt;14</title>\n",
       "<path fill=\"none\" stroke=\"#000000\" d=\"M192,-359.8314C192,-352.131 192,-342.9743 192,-334.4166\"/>\n",
       "<polygon fill=\"#000000\" stroke=\"#000000\" points=\"195.5001,-334.4132 192,-324.4133 188.5001,-334.4133 195.5001,-334.4132\"/>\n",
       "</g>\n",
       "<!-- 16 -->\n",
       "<g id=\"node17\" class=\"node\">\n",
       "<title>16</title>\n",
       "<polygon fill=\"none\" stroke=\"#ffffff\" points=\"298,-396 244,-396 244,-360 298,-360 298,-396\"/>\n",
       "<text text-anchor=\"middle\" x=\"271\" y=\"-374.3\" font-family=\"'Fira Mono', 'Source Code Pro', 'Courier', monospace\" font-size=\"14.00\" fill=\"#00a060\">&gt;</text>\n",
       "</g>\n",
       "<!-- 15&#45;&gt;16 -->\n",
       "<g id=\"edge16\" class=\"edge\">\n",
       "<title>15&#45;&gt;16</title>\n",
       "<path fill=\"none\" stroke=\"#000000\" d=\"M268.757,-431.8314C269.0779,-424.131 269.4594,-414.9743 269.816,-406.4166\"/>\n",
       "<polygon fill=\"#000000\" stroke=\"#000000\" points=\"273.3133,-406.5503 270.2328,-396.4133 266.3194,-406.2589 273.3133,-406.5503\"/>\n",
       "</g>\n",
       "<!-- 18 -->\n",
       "<g id=\"node19\" class=\"node\">\n",
       "<title>18</title>\n",
       "<polygon fill=\"none\" stroke=\"#ffffff\" points=\"436.5,-468 335.5,-468 335.5,-432 436.5,-432 436.5,-468\"/>\n",
       "<text text-anchor=\"middle\" x=\"386\" y=\"-446.3\" font-family=\"'Fira Mono', 'Source Code Pro', 'Courier', monospace\" font-size=\"14.00\" fill=\"#0060a0\">&lt;plain&#45;text&gt;</text>\n",
       "</g>\n",
       "<!-- 17&#45;&gt;18 -->\n",
       "<g id=\"edge18\" class=\"edge\">\n",
       "<title>17&#45;&gt;18</title>\n",
       "<path fill=\"none\" stroke=\"#000000\" d=\"M386,-503.8314C386,-496.131 386,-486.9743 386,-478.4166\"/>\n",
       "<polygon fill=\"#000000\" stroke=\"#000000\" points=\"389.5001,-478.4132 386,-468.4133 382.5001,-478.4133 389.5001,-478.4132\"/>\n",
       "</g>\n",
       "<!-- 19 -->\n",
       "<g id=\"node20\" class=\"node\">\n",
       "<title>19</title>\n",
       "<polygon fill=\"none\" stroke=\"#ffffff\" points=\"417.5,-396 316.5,-396 316.5,-360 417.5,-360 417.5,-396\"/>\n",
       "<text text-anchor=\"middle\" x=\"367\" y=\"-374.3\" font-family=\"'Fira Mono', 'Source Code Pro', 'Courier', monospace\" font-size=\"14.00\" fill=\"#0060a0\">&lt;plain&#45;char&gt;</text>\n",
       "</g>\n",
       "<!-- 18&#45;&gt;19 -->\n",
       "<g id=\"edge19\" class=\"edge\">\n",
       "<title>18&#45;&gt;19</title>\n",
       "<path fill=\"none\" stroke=\"#000000\" d=\"M381.2055,-431.8314C379.1511,-424.0463 376.704,-414.7729 374.4244,-406.1347\"/>\n",
       "<polygon fill=\"#000000\" stroke=\"#000000\" points=\"377.7948,-405.1892 371.8591,-396.4133 371.0265,-406.9753 377.7948,-405.1892\"/>\n",
       "</g>\n",
       "<!-- 22 -->\n",
       "<g id=\"node23\" class=\"node\">\n",
       "<title>22</title>\n",
       "<polygon fill=\"none\" stroke=\"#ffffff\" points=\"536.5,-396 435.5,-396 435.5,-360 536.5,-360 536.5,-396\"/>\n",
       "<text text-anchor=\"middle\" x=\"486\" y=\"-374.3\" font-family=\"'Fira Mono', 'Source Code Pro', 'Courier', monospace\" font-size=\"14.00\" fill=\"#0060a0\">&lt;plain&#45;text&gt;</text>\n",
       "</g>\n",
       "<!-- 18&#45;&gt;22 -->\n",
       "<g id=\"edge22\" class=\"edge\">\n",
       "<title>18&#45;&gt;22</title>\n",
       "<path fill=\"none\" stroke=\"#000000\" d=\"M411.2342,-431.8314C423.788,-422.7927 439.1283,-411.7476 452.6391,-402.0198\"/>\n",
       "<polygon fill=\"#000000\" stroke=\"#000000\" points=\"454.7036,-404.8463 460.7739,-396.1628 450.6134,-399.1655 454.7036,-404.8463\"/>\n",
       "</g>\n",
       "<!-- 20 -->\n",
       "<g id=\"node21\" class=\"node\">\n",
       "<title>20</title>\n",
       "<polygon fill=\"none\" stroke=\"#ffffff\" points=\"347.5,-324 288.5,-324 288.5,-288 347.5,-288 347.5,-324\"/>\n",
       "<text text-anchor=\"middle\" x=\"318\" y=\"-302.3\" font-family=\"'Fira Mono', 'Source Code Pro', 'Courier', monospace\" font-size=\"14.00\" fill=\"#0060a0\">&lt;other&gt;</text>\n",
       "</g>\n",
       "<!-- 19&#45;&gt;20 -->\n",
       "<g id=\"edge20\" class=\"edge\">\n",
       "<title>19&#45;&gt;20</title>\n",
       "<path fill=\"none\" stroke=\"#000000\" d=\"M354.6352,-359.8314C349.0491,-351.6232 342.337,-341.7606 336.1928,-332.7323\"/>\n",
       "<polygon fill=\"#000000\" stroke=\"#000000\" points=\"339.051,-330.7112 330.5313,-324.4133 333.264,-334.6496 339.051,-330.7112\"/>\n",
       "</g>\n",
       "<!-- 21 -->\n",
       "<g id=\"node22\" class=\"node\">\n",
       "<title>21</title>\n",
       "<polygon fill=\"none\" stroke=\"#ffffff\" points=\"345,-252 291,-252 291,-216 345,-216 345,-252\"/>\n",
       "<text text-anchor=\"middle\" x=\"318\" y=\"-230.3\" font-family=\"'Fira Mono', 'Source Code Pro', 'Courier', monospace\" font-size=\"14.00\" fill=\"#00a060\">&quot;</text>\n",
       "</g>\n",
       "<!-- 20&#45;&gt;21 -->\n",
       "<g id=\"edge21\" class=\"edge\">\n",
       "<title>20&#45;&gt;21</title>\n",
       "<path fill=\"none\" stroke=\"#000000\" d=\"M318,-287.8314C318,-280.131 318,-270.9743 318,-262.4166\"/>\n",
       "<polygon fill=\"#000000\" stroke=\"#000000\" points=\"321.5001,-262.4132 318,-252.4133 314.5001,-262.4133 321.5001,-262.4132\"/>\n",
       "</g>\n",
       "<!-- 23 -->\n",
       "<g id=\"node24\" class=\"node\">\n",
       "<title>23</title>\n",
       "<polygon fill=\"none\" stroke=\"#ffffff\" points=\"466.5,-324 365.5,-324 365.5,-288 466.5,-288 466.5,-324\"/>\n",
       "<text text-anchor=\"middle\" x=\"416\" y=\"-302.3\" font-family=\"'Fira Mono', 'Source Code Pro', 'Courier', monospace\" font-size=\"14.00\" fill=\"#0060a0\">&lt;plain&#45;char&gt;</text>\n",
       "</g>\n",
       "<!-- 22&#45;&gt;23 -->\n",
       "<g id=\"edge23\" class=\"edge\">\n",
       "<title>22&#45;&gt;23</title>\n",
       "<path fill=\"none\" stroke=\"#000000\" d=\"M468.336,-359.8314C460.0268,-351.2848 449.9736,-340.9443 440.9082,-331.6198\"/>\n",
       "<polygon fill=\"#000000\" stroke=\"#000000\" points=\"443.3821,-329.1435 433.9018,-324.4133 438.3631,-334.023 443.3821,-329.1435\"/>\n",
       "</g>\n",
       "<!-- 26 -->\n",
       "<g id=\"node27\" class=\"node\">\n",
       "<title>26</title>\n",
       "<polygon fill=\"none\" stroke=\"#ffffff\" points=\"585.5,-324 484.5,-324 484.5,-288 585.5,-288 585.5,-324\"/>\n",
       "<text text-anchor=\"middle\" x=\"535\" y=\"-302.3\" font-family=\"'Fira Mono', 'Source Code Pro', 'Courier', monospace\" font-size=\"14.00\" fill=\"#0060a0\">&lt;plain&#45;text&gt;</text>\n",
       "</g>\n",
       "<!-- 22&#45;&gt;26 -->\n",
       "<g id=\"edge26\" class=\"edge\">\n",
       "<title>22&#45;&gt;26</title>\n",
       "<path fill=\"none\" stroke=\"#000000\" d=\"M498.3648,-359.8314C503.9509,-351.6232 510.663,-341.7606 516.8072,-332.7323\"/>\n",
       "<polygon fill=\"#000000\" stroke=\"#000000\" points=\"519.736,-334.6496 522.4687,-324.4133 513.949,-330.7112 519.736,-334.6496\"/>\n",
       "</g>\n",
       "<!-- 24 -->\n",
       "<g id=\"node25\" class=\"node\">\n",
       "<title>24</title>\n",
       "<polygon fill=\"none\" stroke=\"#ffffff\" points=\"440,-252 372,-252 372,-216 440,-216 440,-252\"/>\n",
       "<text text-anchor=\"middle\" x=\"406\" y=\"-230.3\" font-family=\"'Fira Mono', 'Source Code Pro', 'Courier', monospace\" font-size=\"14.00\" fill=\"#0060a0\">&lt;letter&gt;</text>\n",
       "</g>\n",
       "<!-- 23&#45;&gt;24 -->\n",
       "<g id=\"edge24\" class=\"edge\">\n",
       "<title>23&#45;&gt;24</title>\n",
       "<path fill=\"none\" stroke=\"#000000\" d=\"M413.4766,-287.8314C412.4071,-280.131 411.1353,-270.9743 409.9468,-262.4166\"/>\n",
       "<polygon fill=\"#000000\" stroke=\"#000000\" points=\"413.3999,-261.8367 408.5574,-252.4133 406.4664,-262.7997 413.3999,-261.8367\"/>\n",
       "</g>\n",
       "<!-- 25 -->\n",
       "<g id=\"node26\" class=\"node\">\n",
       "<title>25</title>\n",
       "<polygon fill=\"none\" stroke=\"#ffffff\" points=\"433,-180 379,-180 379,-144 433,-144 433,-180\"/>\n",
       "<text text-anchor=\"middle\" x=\"406\" y=\"-158.3\" font-family=\"'Fira Mono', 'Source Code Pro', 'Courier', monospace\" font-size=\"14.00\" fill=\"#00a060\">b</text>\n",
       "</g>\n",
       "<!-- 24&#45;&gt;25 -->\n",
       "<g id=\"edge25\" class=\"edge\">\n",
       "<title>24&#45;&gt;25</title>\n",
       "<path fill=\"none\" stroke=\"#000000\" d=\"M406,-215.8314C406,-208.131 406,-198.9743 406,-190.4166\"/>\n",
       "<polygon fill=\"#000000\" stroke=\"#000000\" points=\"409.5001,-190.4132 406,-180.4133 402.5001,-190.4133 409.5001,-190.4132\"/>\n",
       "</g>\n",
       "<!-- 27 -->\n",
       "<g id=\"node28\" class=\"node\">\n",
       "<title>27</title>\n",
       "<polygon fill=\"none\" stroke=\"#ffffff\" points=\"559.5,-252 458.5,-252 458.5,-216 559.5,-216 559.5,-252\"/>\n",
       "<text text-anchor=\"middle\" x=\"509\" y=\"-230.3\" font-family=\"'Fira Mono', 'Source Code Pro', 'Courier', monospace\" font-size=\"14.00\" fill=\"#0060a0\">&lt;plain&#45;char&gt;</text>\n",
       "</g>\n",
       "<!-- 26&#45;&gt;27 -->\n",
       "<g id=\"edge27\" class=\"edge\">\n",
       "<title>26&#45;&gt;27</title>\n",
       "<path fill=\"none\" stroke=\"#000000\" d=\"M528.4391,-287.8314C525.5973,-279.9617 522.2063,-270.5712 519.0581,-261.8533\"/>\n",
       "<polygon fill=\"#000000\" stroke=\"#000000\" points=\"522.3377,-260.63 515.6492,-252.4133 515.7538,-263.0076 522.3377,-260.63\"/>\n",
       "</g>\n",
       "<!-- 30 -->\n",
       "<g id=\"node31\" class=\"node\">\n",
       "<title>30</title>\n",
       "<polygon fill=\"none\" stroke=\"#ffffff\" points=\"678.5,-252 577.5,-252 577.5,-216 678.5,-216 678.5,-252\"/>\n",
       "<text text-anchor=\"middle\" x=\"628\" y=\"-230.3\" font-family=\"'Fira Mono', 'Source Code Pro', 'Courier', monospace\" font-size=\"14.00\" fill=\"#0060a0\">&lt;plain&#45;text&gt;</text>\n",
       "</g>\n",
       "<!-- 26&#45;&gt;30 -->\n",
       "<g id=\"edge30\" class=\"edge\">\n",
       "<title>26&#45;&gt;30</title>\n",
       "<path fill=\"none\" stroke=\"#000000\" d=\"M558.4678,-287.8314C570.0327,-278.8779 584.1404,-267.9558 596.6183,-258.2955\"/>\n",
       "<polygon fill=\"#000000\" stroke=\"#000000\" points=\"598.775,-261.0521 604.5397,-252.1628 594.4898,-255.5171 598.775,-261.0521\"/>\n",
       "</g>\n",
       "<!-- 28 -->\n",
       "<g id=\"node29\" class=\"node\">\n",
       "<title>28</title>\n",
       "<polygon fill=\"none\" stroke=\"#ffffff\" points=\"531,-180 463,-180 463,-144 531,-144 531,-180\"/>\n",
       "<text text-anchor=\"middle\" x=\"497\" y=\"-158.3\" font-family=\"'Fira Mono', 'Source Code Pro', 'Courier', monospace\" font-size=\"14.00\" fill=\"#0060a0\">&lt;letter&gt;</text>\n",
       "</g>\n",
       "<!-- 27&#45;&gt;28 -->\n",
       "<g id=\"edge28\" class=\"edge\">\n",
       "<title>27&#45;&gt;28</title>\n",
       "<path fill=\"none\" stroke=\"#000000\" d=\"M505.9719,-215.8314C504.6885,-208.131 503.1624,-198.9743 501.7361,-190.4166\"/>\n",
       "<polygon fill=\"#000000\" stroke=\"#000000\" points=\"505.1653,-189.7018 500.0689,-180.4133 498.2606,-190.8526 505.1653,-189.7018\"/>\n",
       "</g>\n",
       "<!-- 29 -->\n",
       "<g id=\"node30\" class=\"node\">\n",
       "<title>29</title>\n",
       "<polygon fill=\"none\" stroke=\"#ffffff\" points=\"524,-108 470,-108 470,-72 524,-72 524,-108\"/>\n",
       "<text text-anchor=\"middle\" x=\"497\" y=\"-86.3\" font-family=\"'Fira Mono', 'Source Code Pro', 'Courier', monospace\" font-size=\"14.00\" fill=\"#00a060\">a</text>\n",
       "</g>\n",
       "<!-- 28&#45;&gt;29 -->\n",
       "<g id=\"edge29\" class=\"edge\">\n",
       "<title>28&#45;&gt;29</title>\n",
       "<path fill=\"none\" stroke=\"#000000\" d=\"M497,-143.8314C497,-136.131 497,-126.9743 497,-118.4166\"/>\n",
       "<polygon fill=\"#000000\" stroke=\"#000000\" points=\"500.5001,-118.4132 497,-108.4133 493.5001,-118.4133 500.5001,-118.4132\"/>\n",
       "</g>\n",
       "<!-- 31 -->\n",
       "<g id=\"node32\" class=\"node\">\n",
       "<title>31</title>\n",
       "<polygon fill=\"none\" stroke=\"#ffffff\" points=\"650.5,-180 549.5,-180 549.5,-144 650.5,-144 650.5,-180\"/>\n",
       "<text text-anchor=\"middle\" x=\"600\" y=\"-158.3\" font-family=\"'Fira Mono', 'Source Code Pro', 'Courier', monospace\" font-size=\"14.00\" fill=\"#0060a0\">&lt;plain&#45;char&gt;</text>\n",
       "</g>\n",
       "<!-- 30&#45;&gt;31 -->\n",
       "<g id=\"edge31\" class=\"edge\">\n",
       "<title>30&#45;&gt;31</title>\n",
       "<path fill=\"none\" stroke=\"#000000\" d=\"M620.9344,-215.8314C617.874,-207.9617 614.2221,-198.5712 610.8318,-189.8533\"/>\n",
       "<polygon fill=\"#000000\" stroke=\"#000000\" points=\"614.0473,-188.4647 607.1607,-180.4133 607.5232,-191.0019 614.0473,-188.4647\"/>\n",
       "</g>\n",
       "<!-- 34 -->\n",
       "<g id=\"node35\" class=\"node\">\n",
       "<title>34</title>\n",
       "<polygon fill=\"none\" stroke=\"#ffffff\" points=\"769.5,-180 668.5,-180 668.5,-144 769.5,-144 769.5,-180\"/>\n",
       "<text text-anchor=\"middle\" x=\"719\" y=\"-158.3\" font-family=\"'Fira Mono', 'Source Code Pro', 'Courier', monospace\" font-size=\"14.00\" fill=\"#0060a0\">&lt;plain&#45;text&gt;</text>\n",
       "</g>\n",
       "<!-- 30&#45;&gt;34 -->\n",
       "<g id=\"edge34\" class=\"edge\">\n",
       "<title>30&#45;&gt;34</title>\n",
       "<path fill=\"none\" stroke=\"#000000\" d=\"M650.9631,-215.8314C662.1715,-206.9632 675.8209,-196.1637 687.9439,-186.5718\"/>\n",
       "<polygon fill=\"#000000\" stroke=\"#000000\" points=\"690.3737,-189.1125 696.0442,-180.1628 686.0303,-183.6229 690.3737,-189.1125\"/>\n",
       "</g>\n",
       "<!-- 32 -->\n",
       "<g id=\"node33\" class=\"node\">\n",
       "<title>32</title>\n",
       "<polygon fill=\"none\" stroke=\"#ffffff\" points=\"634,-108 566,-108 566,-72 634,-72 634,-108\"/>\n",
       "<text text-anchor=\"middle\" x=\"600\" y=\"-86.3\" font-family=\"'Fira Mono', 'Source Code Pro', 'Courier', monospace\" font-size=\"14.00\" fill=\"#0060a0\">&lt;letter&gt;</text>\n",
       "</g>\n",
       "<!-- 31&#45;&gt;32 -->\n",
       "<g id=\"edge32\" class=\"edge\">\n",
       "<title>31&#45;&gt;32</title>\n",
       "<path fill=\"none\" stroke=\"#000000\" d=\"M600,-143.8314C600,-136.131 600,-126.9743 600,-118.4166\"/>\n",
       "<polygon fill=\"#000000\" stroke=\"#000000\" points=\"603.5001,-118.4132 600,-108.4133 596.5001,-118.4133 603.5001,-118.4132\"/>\n",
       "</g>\n",
       "<!-- 33 -->\n",
       "<g id=\"node34\" class=\"node\">\n",
       "<title>33</title>\n",
       "<polygon fill=\"none\" stroke=\"#ffffff\" points=\"627,-36 573,-36 573,0 627,0 627,-36\"/>\n",
       "<text text-anchor=\"middle\" x=\"600\" y=\"-14.3\" font-family=\"'Fira Mono', 'Source Code Pro', 'Courier', monospace\" font-size=\"14.00\" fill=\"#00a060\">r</text>\n",
       "</g>\n",
       "<!-- 32&#45;&gt;33 -->\n",
       "<g id=\"edge33\" class=\"edge\">\n",
       "<title>32&#45;&gt;33</title>\n",
       "<path fill=\"none\" stroke=\"#000000\" d=\"M600,-71.8314C600,-64.131 600,-54.9743 600,-46.4166\"/>\n",
       "<polygon fill=\"#000000\" stroke=\"#000000\" points=\"603.5001,-46.4132 600,-36.4133 596.5001,-46.4133 603.5001,-46.4132\"/>\n",
       "</g>\n",
       "<!-- 36 -->\n",
       "<g id=\"node37\" class=\"node\">\n",
       "<title>36</title>\n",
       "<polygon fill=\"none\" stroke=\"#ffffff\" points=\"716,-468 662,-468 662,-432 716,-432 716,-468\"/>\n",
       "<text text-anchor=\"middle\" x=\"689\" y=\"-446.3\" font-family=\"'Fira Mono', 'Source Code Pro', 'Courier', monospace\" font-size=\"14.00\" fill=\"#0060a0\">&lt;lt&gt;</text>\n",
       "</g>\n",
       "<!-- 35&#45;&gt;36 -->\n",
       "<g id=\"edge36\" class=\"edge\">\n",
       "<title>35&#45;&gt;36</title>\n",
       "<path fill=\"none\" stroke=\"#000000\" d=\"M742.8314,-503.8314C734.2848,-495.2848 723.9443,-484.9443 714.6198,-475.6198\"/>\n",
       "<polygon fill=\"#000000\" stroke=\"#000000\" points=\"716.9592,-473.0095 707.4133,-468.4133 712.0095,-477.9592 716.9592,-473.0095\"/>\n",
       "</g>\n",
       "<!-- 38 -->\n",
       "<g id=\"node39\" class=\"node\">\n",
       "<title>38</title>\n",
       "<polygon fill=\"none\" stroke=\"#ffffff\" points=\"788,-468 734,-468 734,-432 788,-432 788,-468\"/>\n",
       "<text text-anchor=\"middle\" x=\"761\" y=\"-446.3\" font-family=\"'Fira Mono', 'Source Code Pro', 'Courier', monospace\" font-size=\"14.00\" fill=\"#00a060\">/</text>\n",
       "</g>\n",
       "<!-- 35&#45;&gt;38 -->\n",
       "<g id=\"edge38\" class=\"edge\">\n",
       "<title>35&#45;&gt;38</title>\n",
       "<path fill=\"none\" stroke=\"#000000\" d=\"M761,-503.8314C761,-496.131 761,-486.9743 761,-478.4166\"/>\n",
       "<polygon fill=\"#000000\" stroke=\"#000000\" points=\"764.5001,-478.4132 761,-468.4133 757.5001,-478.4133 764.5001,-478.4132\"/>\n",
       "</g>\n",
       "<!-- 39 -->\n",
       "<g id=\"node40\" class=\"node\">\n",
       "<title>39</title>\n",
       "<polygon fill=\"none\" stroke=\"#ffffff\" points=\"860,-468 806,-468 806,-432 860,-432 860,-468\"/>\n",
       "<text text-anchor=\"middle\" x=\"833\" y=\"-446.3\" font-family=\"'Fira Mono', 'Source Code Pro', 'Courier', monospace\" font-size=\"14.00\" fill=\"#0060a0\">&lt;id&gt;</text>\n",
       "</g>\n",
       "<!-- 35&#45;&gt;39 -->\n",
       "<g id=\"edge39\" class=\"edge\">\n",
       "<title>35&#45;&gt;39</title>\n",
       "<path fill=\"none\" stroke=\"#000000\" d=\"M779.1686,-503.8314C787.7152,-495.2848 798.0557,-484.9443 807.3802,-475.6198\"/>\n",
       "<polygon fill=\"#000000\" stroke=\"#000000\" points=\"809.9905,-477.9592 814.5867,-468.4133 805.0408,-473.0095 809.9905,-477.9592\"/>\n",
       "</g>\n",
       "<!-- 48 -->\n",
       "<g id=\"node49\" class=\"node\">\n",
       "<title>48</title>\n",
       "<polygon fill=\"none\" stroke=\"#ffffff\" points=\"975,-468 921,-468 921,-432 975,-432 975,-468\"/>\n",
       "<text text-anchor=\"middle\" x=\"948\" y=\"-446.3\" font-family=\"'Fira Mono', 'Source Code Pro', 'Courier', monospace\" font-size=\"14.00\" fill=\"#0060a0\">&lt;gt&gt;</text>\n",
       "</g>\n",
       "<!-- 35&#45;&gt;48 -->\n",
       "<g id=\"edge48\" class=\"edge\">\n",
       "<title>35&#45;&gt;48</title>\n",
       "<path fill=\"none\" stroke=\"#000000\" d=\"M808.188,-503.8314C840.1697,-491.5175 881.8228,-475.48 911.3211,-464.1224\"/>\n",
       "<polygon fill=\"#000000\" stroke=\"#000000\" points=\"912.7528,-467.3217 920.8273,-460.4622 910.2375,-460.7891 912.7528,-467.3217\"/>\n",
       "</g>\n",
       "<!-- 37 -->\n",
       "<g id=\"node38\" class=\"node\">\n",
       "<title>37</title>\n",
       "<polygon fill=\"none\" stroke=\"#ffffff\" points=\"716,-396 662,-396 662,-360 716,-360 716,-396\"/>\n",
       "<text text-anchor=\"middle\" x=\"689\" y=\"-374.3\" font-family=\"'Fira Mono', 'Source Code Pro', 'Courier', monospace\" font-size=\"14.00\" fill=\"#0060a0\">&lt;</text>\n",
       "</g>\n",
       "<!-- 36&#45;&gt;37 -->\n",
       "<g id=\"edge37\" class=\"edge\">\n",
       "<title>36&#45;&gt;37</title>\n",
       "<path fill=\"none\" stroke=\"#000000\" d=\"M689,-431.8314C689,-424.131 689,-414.9743 689,-406.4166\"/>\n",
       "<polygon fill=\"#000000\" stroke=\"#000000\" points=\"692.5001,-406.4132 689,-396.4133 685.5001,-406.4133 692.5001,-406.4132\"/>\n",
       "</g>\n",
       "<!-- 40 -->\n",
       "<g id=\"node41\" class=\"node\">\n",
       "<title>40</title>\n",
       "<polygon fill=\"none\" stroke=\"#ffffff\" points=\"839,-396 785,-396 785,-360 839,-360 839,-396\"/>\n",
       "<text text-anchor=\"middle\" x=\"812\" y=\"-374.3\" font-family=\"'Fira Mono', 'Source Code Pro', 'Courier', monospace\" font-size=\"14.00\" fill=\"#0060a0\">&lt;id&gt;</text>\n",
       "</g>\n",
       "<!-- 39&#45;&gt;40 -->\n",
       "<g id=\"edge40\" class=\"edge\">\n",
       "<title>39&#45;&gt;40</title>\n",
       "<path fill=\"none\" stroke=\"#000000\" d=\"M827.7008,-431.8314C825.4302,-424.0463 822.7254,-414.7729 820.206,-406.1347\"/>\n",
       "<polygon fill=\"#000000\" stroke=\"#000000\" points=\"823.5306,-405.0332 817.3705,-396.4133 816.8106,-406.9933 823.5306,-405.0332\"/>\n",
       "</g>\n",
       "<!-- 46 -->\n",
       "<g id=\"node47\" class=\"node\">\n",
       "<title>46</title>\n",
       "<polygon fill=\"none\" stroke=\"#ffffff\" points=\"925,-396 857,-396 857,-360 925,-360 925,-396\"/>\n",
       "<text text-anchor=\"middle\" x=\"891\" y=\"-374.3\" font-family=\"'Fira Mono', 'Source Code Pro', 'Courier', monospace\" font-size=\"14.00\" fill=\"#0060a0\">&lt;letter&gt;</text>\n",
       "</g>\n",
       "<!-- 39&#45;&gt;46 -->\n",
       "<g id=\"edge46\" class=\"edge\">\n",
       "<title>39&#45;&gt;46</title>\n",
       "<path fill=\"none\" stroke=\"#000000\" d=\"M847.6358,-431.8314C854.3161,-423.5386 862.3568,-413.557 869.6904,-404.4533\"/>\n",
       "<polygon fill=\"#000000\" stroke=\"#000000\" points=\"872.6194,-406.3965 876.1671,-396.4133 867.1681,-402.0052 872.6194,-406.3965\"/>\n",
       "</g>\n",
       "<!-- 41 -->\n",
       "<g id=\"node42\" class=\"node\">\n",
       "<title>41</title>\n",
       "<polygon fill=\"none\" stroke=\"#ffffff\" points=\"800,-324 746,-324 746,-288 800,-288 800,-324\"/>\n",
       "<text text-anchor=\"middle\" x=\"773\" y=\"-302.3\" font-family=\"'Fira Mono', 'Source Code Pro', 'Courier', monospace\" font-size=\"14.00\" fill=\"#0060a0\">&lt;id&gt;</text>\n",
       "</g>\n",
       "<!-- 40&#45;&gt;41 -->\n",
       "<g id=\"edge41\" class=\"edge\">\n",
       "<title>40&#45;&gt;41</title>\n",
       "<path fill=\"none\" stroke=\"#000000\" d=\"M802.1587,-359.8314C797.8043,-351.7925 792.5902,-342.1666 787.7831,-333.2918\"/>\n",
       "<polygon fill=\"#000000\" stroke=\"#000000\" points=\"790.8143,-331.5392 782.9739,-324.4133 784.6592,-334.8732 790.8143,-331.5392\"/>\n",
       "</g>\n",
       "<!-- 44 -->\n",
       "<g id=\"node45\" class=\"node\">\n",
       "<title>44</title>\n",
       "<polygon fill=\"none\" stroke=\"#ffffff\" points=\"886,-324 818,-324 818,-288 886,-288 886,-324\"/>\n",
       "<text text-anchor=\"middle\" x=\"852\" y=\"-302.3\" font-family=\"'Fira Mono', 'Source Code Pro', 'Courier', monospace\" font-size=\"14.00\" fill=\"#0060a0\">&lt;letter&gt;</text>\n",
       "</g>\n",
       "<!-- 40&#45;&gt;44 -->\n",
       "<g id=\"edge44\" class=\"edge\">\n",
       "<title>40&#45;&gt;44</title>\n",
       "<path fill=\"none\" stroke=\"#000000\" d=\"M822.0937,-359.8314C826.5597,-351.7925 831.9075,-342.1666 836.8379,-333.2918\"/>\n",
       "<polygon fill=\"#000000\" stroke=\"#000000\" points=\"839.9735,-334.8546 841.7704,-324.4133 833.8544,-331.4551 839.9735,-334.8546\"/>\n",
       "</g>\n",
       "<!-- 42 -->\n",
       "<g id=\"node43\" class=\"node\">\n",
       "<title>42</title>\n",
       "<polygon fill=\"none\" stroke=\"#ffffff\" points=\"807,-252 739,-252 739,-216 807,-216 807,-252\"/>\n",
       "<text text-anchor=\"middle\" x=\"773\" y=\"-230.3\" font-family=\"'Fira Mono', 'Source Code Pro', 'Courier', monospace\" font-size=\"14.00\" fill=\"#0060a0\">&lt;letter&gt;</text>\n",
       "</g>\n",
       "<!-- 41&#45;&gt;42 -->\n",
       "<g id=\"edge42\" class=\"edge\">\n",
       "<title>41&#45;&gt;42</title>\n",
       "<path fill=\"none\" stroke=\"#000000\" d=\"M773,-287.8314C773,-280.131 773,-270.9743 773,-262.4166\"/>\n",
       "<polygon fill=\"#000000\" stroke=\"#000000\" points=\"776.5001,-262.4132 773,-252.4133 769.5001,-262.4133 776.5001,-262.4132\"/>\n",
       "</g>\n",
       "<!-- 43 -->\n",
       "<g id=\"node44\" class=\"node\">\n",
       "<title>43</title>\n",
       "<polygon fill=\"none\" stroke=\"#ffffff\" points=\"842,-180 788,-180 788,-144 842,-144 842,-180\"/>\n",
       "<text text-anchor=\"middle\" x=\"815\" y=\"-158.3\" font-family=\"'Fira Mono', 'Source Code Pro', 'Courier', monospace\" font-size=\"14.00\" fill=\"#00a060\">f</text>\n",
       "</g>\n",
       "<!-- 42&#45;&gt;43 -->\n",
       "<g id=\"edge43\" class=\"edge\">\n",
       "<title>42&#45;&gt;43</title>\n",
       "<path fill=\"none\" stroke=\"#000000\" d=\"M783.5984,-215.8314C788.2877,-207.7925 793.9028,-198.1666 799.0798,-189.2918\"/>\n",
       "<polygon fill=\"#000000\" stroke=\"#000000\" points=\"802.2434,-190.8146 804.2589,-180.4133 796.1969,-187.2875 802.2434,-190.8146\"/>\n",
       "</g>\n",
       "<!-- 45 -->\n",
       "<g id=\"node46\" class=\"node\">\n",
       "<title>45</title>\n",
       "<polygon fill=\"none\" stroke=\"#ffffff\" points=\"879,-252 825,-252 825,-216 879,-216 879,-252\"/>\n",
       "<text text-anchor=\"middle\" x=\"852\" y=\"-230.3\" font-family=\"'Fira Mono', 'Source Code Pro', 'Courier', monospace\" font-size=\"14.00\" fill=\"#00a060\">o</text>\n",
       "</g>\n",
       "<!-- 44&#45;&gt;45 -->\n",
       "<g id=\"edge45\" class=\"edge\">\n",
       "<title>44&#45;&gt;45</title>\n",
       "<path fill=\"none\" stroke=\"#000000\" d=\"M852,-287.8314C852,-280.131 852,-270.9743 852,-262.4166\"/>\n",
       "<polygon fill=\"#000000\" stroke=\"#000000\" points=\"855.5001,-262.4132 852,-252.4133 848.5001,-262.4133 855.5001,-262.4132\"/>\n",
       "</g>\n",
       "<!-- 47 -->\n",
       "<g id=\"node48\" class=\"node\">\n",
       "<title>47</title>\n",
       "<polygon fill=\"none\" stroke=\"#ffffff\" points=\"958,-324 904,-324 904,-288 958,-288 958,-324\"/>\n",
       "<text text-anchor=\"middle\" x=\"931\" y=\"-302.3\" font-family=\"'Fira Mono', 'Source Code Pro', 'Courier', monospace\" font-size=\"14.00\" fill=\"#00a060\">o</text>\n",
       "</g>\n",
       "<!-- 46&#45;&gt;47 -->\n",
       "<g id=\"edge47\" class=\"edge\">\n",
       "<title>46&#45;&gt;47</title>\n",
       "<path fill=\"none\" stroke=\"#000000\" d=\"M901.0937,-359.8314C905.5597,-351.7925 910.9075,-342.1666 915.8379,-333.2918\"/>\n",
       "<polygon fill=\"#000000\" stroke=\"#000000\" points=\"918.9735,-334.8546 920.7704,-324.4133 912.8544,-331.4551 918.9735,-334.8546\"/>\n",
       "</g>\n",
       "<!-- 49 -->\n",
       "<g id=\"node50\" class=\"node\">\n",
       "<title>49</title>\n",
       "<polygon fill=\"none\" stroke=\"#ffffff\" points=\"997,-396 943,-396 943,-360 997,-360 997,-396\"/>\n",
       "<text text-anchor=\"middle\" x=\"970\" y=\"-374.3\" font-family=\"'Fira Mono', 'Source Code Pro', 'Courier', monospace\" font-size=\"14.00\" fill=\"#00a060\">&gt;</text>\n",
       "</g>\n",
       "<!-- 48&#45;&gt;49 -->\n",
       "<g id=\"edge49\" class=\"edge\">\n",
       "<title>48&#45;&gt;49</title>\n",
       "<path fill=\"none\" stroke=\"#000000\" d=\"M953.5515,-431.8314C955.9303,-424.0463 958.7638,-414.7729 961.4033,-406.1347\"/>\n",
       "<polygon fill=\"#000000\" stroke=\"#000000\" points=\"964.7987,-406.9996 964.3737,-396.4133 958.1042,-404.954 964.7987,-406.9996\"/>\n",
       "</g>\n",
       "</g>\n",
       "</svg>\n"
      ],
      "text/plain": [
       "<graphviz.dot.Digraph at 0x7fc9450150b8>"
      ]
     },
     "execution_count": 1,
     "metadata": {},
     "output_type": "execute_result"
    }
   ],
   "source": [
    "display_tree(bad_input_tree)"
   ]
  },
  {
   "cell_type": "markdown",
   "metadata": {
    "slideshow": {
     "slide_type": "subslide"
    }
   },
   "source": [
    "This derivation tree has the same structure as the one created from our `GrammarFuzzer` above. We see how the `<tagged-text>` is composed of three elements:\n",
    "\n",
    "1. an`<opening-tag>` (`<foo>`);\n",
    "2. a `<html>` element which becomes `<plain-text>` (`\"bar`); and\n",
    "3. a `<closing-tag>` (`</foo>`)."
   ]
  },
  {
   "cell_type": "markdown",
   "metadata": {
    "slideshow": {
     "slide_type": "fragment"
    }
   },
   "source": [
    "We can easily turn the tree back into a string. The method `tree_to_string()` traverses the tree left-to-right and joins all nonterminal symbols."
   ]
  },
  {
   "cell_type": "code",
   "execution_count": 38,
   "metadata": {
    "execution": {
     "iopub.execute_input": "2021-03-09T12:01:50.808863Z",
     "iopub.status.busy": "2021-03-09T12:01:50.808345Z",
     "iopub.status.idle": "2021-03-09T12:01:50.810109Z",
     "shell.execute_reply": "2021-03-09T12:01:50.810496Z"
    },
    "slideshow": {
     "slide_type": "skip"
    }
   },
   "outputs": [],
   "source": [
    "from fuzzingbook.GrammarFuzzer import tree_to_string, all_terminals"
   ]
  },
  {
   "cell_type": "code",
   "execution_count": 39,
   "metadata": {
    "execution": {
     "iopub.execute_input": "2021-03-09T12:01:50.813685Z",
     "iopub.status.busy": "2021-03-09T12:01:50.813166Z",
     "iopub.status.idle": "2021-03-09T12:01:50.815212Z",
     "shell.execute_reply": "2021-03-09T12:01:50.815589Z"
    },
    "slideshow": {
     "slide_type": "fragment"
    }
   },
   "outputs": [
    {
     "data": {
      "text/plain": [
       "'<foo>\"bar</foo>'"
      ]
     },
     "execution_count": 1,
     "metadata": {},
     "output_type": "execute_result"
    }
   ],
   "source": [
    "tree_to_string(bad_input_tree)"
   ]
  },
  {
   "cell_type": "code",
   "execution_count": 40,
   "metadata": {
    "execution": {
     "iopub.execute_input": "2021-03-09T12:01:50.818498Z",
     "iopub.status.busy": "2021-03-09T12:01:50.817986Z",
     "iopub.status.idle": "2021-03-09T12:01:50.819484Z",
     "shell.execute_reply": "2021-03-09T12:01:50.819848Z"
    },
    "slideshow": {
     "slide_type": "fragment"
    }
   },
   "outputs": [],
   "source": [
    "assert tree_to_string(bad_input_tree) == BAD_INPUT"
   ]
  },
  {
   "cell_type": "markdown",
   "metadata": {
    "slideshow": {
     "slide_type": "subslide"
    }
   },
   "source": [
    "With this, we can now\n",
    "\n",
    "* parse an input into a tree structure;\n",
    "* (re-)create parts of the tree structure; and\n",
    "* turn the tree back into an input string."
   ]
  },
  {
   "cell_type": "markdown",
   "metadata": {
    "slideshow": {
     "slide_type": "slide"
    }
   },
   "source": [
    "## Mutating the Tree\n",
    "\n",
    "We introduce a class `TreeMutator` that is set to mutate a tree. Its constructor takes a grammar and a tree."
   ]
  },
  {
   "cell_type": "code",
   "execution_count": 41,
   "metadata": {
    "execution": {
     "iopub.execute_input": "2021-03-09T12:01:50.822960Z",
     "iopub.status.busy": "2021-03-09T12:01:50.822255Z",
     "iopub.status.idle": "2021-03-09T12:01:50.824344Z",
     "shell.execute_reply": "2021-03-09T12:01:50.824723Z"
    },
    "slideshow": {
     "slide_type": "skip"
    }
   },
   "outputs": [],
   "source": [
    "from fuzzingbook.Grammars import is_valid_grammar"
   ]
  },
  {
   "cell_type": "code",
   "execution_count": 42,
   "metadata": {
    "execution": {
     "iopub.execute_input": "2021-03-09T12:01:50.829580Z",
     "iopub.status.busy": "2021-03-09T12:01:50.828990Z",
     "iopub.status.idle": "2021-03-09T12:01:50.830849Z",
     "shell.execute_reply": "2021-03-09T12:01:50.831224Z"
    },
    "slideshow": {
     "slide_type": "subslide"
    }
   },
   "outputs": [],
   "source": [
    "class TreeMutator:\n",
    "    \"\"\"Grammar-based mutations of derivation trees.\"\"\"\n",
    "\n",
    "    def __init__(self, grammar: Grammar, tree: DerivationTree,\n",
    "                 fuzzer: Optional[GrammarFuzzer] = None, log: Union[bool, int] = False):\n",
    "        \"\"\"\n",
    "        Constructor. \n",
    "        `grammar` is the underlying grammar; \n",
    "        `tree` is the tree to work on.\n",
    "        `fuzzer` is the grammar fuzzer to use (default: `GrammarFuzzer`)\n",
    "        \"\"\"\n",
    "\n",
    "        assert is_valid_grammar(grammar)\n",
    "        self.grammar = grammar\n",
    "        self.tree = tree\n",
    "        self.log = log\n",
    "\n",
    "        if fuzzer is None:\n",
    "            fuzzer = GrammarFuzzer(grammar)\n",
    "\n",
    "        self.fuzzer = fuzzer"
   ]
  },
  {
   "cell_type": "markdown",
   "metadata": {
    "slideshow": {
     "slide_type": "subslide"
    }
   },
   "source": [
    "### Referencing Subtrees"
   ]
  },
  {
   "cell_type": "markdown",
   "metadata": {
    "slideshow": {
     "slide_type": "fragment"
    }
   },
   "source": [
    "To reference individual elements in the tree, we introduce the concept of a _path_. A path is a list of numbers indicating the children (starting with 0) we should follow. A path `[0, 0, 0, ..., 0]` stands for the leftmost child in a tree."
   ]
  },
  {
   "cell_type": "code",
   "execution_count": 43,
   "metadata": {
    "execution": {
     "iopub.execute_input": "2021-03-09T12:01:50.834247Z",
     "iopub.status.busy": "2021-03-09T12:01:50.833735Z",
     "iopub.status.idle": "2021-03-09T12:01:50.835354Z",
     "shell.execute_reply": "2021-03-09T12:01:50.835725Z"
    },
    "slideshow": {
     "slide_type": "fragment"
    }
   },
   "outputs": [],
   "source": [
    "TreePath = List[int]"
   ]
  },
  {
   "cell_type": "markdown",
   "metadata": {
    "slideshow": {
     "slide_type": "fragment"
    }
   },
   "source": [
    "The method `get_subtree()` returns the subtree for a given path."
   ]
  },
  {
   "cell_type": "code",
   "execution_count": 44,
   "metadata": {
    "execution": {
     "iopub.execute_input": "2021-03-09T12:01:50.840041Z",
     "iopub.status.busy": "2021-03-09T12:01:50.839466Z",
     "iopub.status.idle": "2021-03-09T12:01:50.841035Z",
     "shell.execute_reply": "2021-03-09T12:01:50.841409Z"
    },
    "slideshow": {
     "slide_type": "subslide"
    }
   },
   "outputs": [],
   "source": [
    "class TreeMutator(TreeMutator):\n",
    "    def get_subtree(self, path: TreePath, tree: Optional[DerivationTree] = None) -> DerivationTree:\n",
    "        \"\"\"Access a subtree based on `path` (a list of children numbers)\"\"\"\n",
    "        if tree is None:\n",
    "            tree = self.tree\n",
    "\n",
    "        symbol, children = tree\n",
    "\n",
    "        if not path or children is None:\n",
    "            return tree\n",
    "\n",
    "        return self.get_subtree(path[1:], children[path[0]])"
   ]
  },
  {
   "cell_type": "markdown",
   "metadata": {
    "slideshow": {
     "slide_type": "subslide"
    }
   },
   "source": [
    "Here's `get_subtree()` in action. We instantiate a `TreeMutator` on the `BAD_INPUT` tree as shown above and return the element at the path `[0, 0, 1, 0]` – i.e. follow the leftmost edge twice, than the second-to-leftmost edge, then the leftmost edge again. This gives us the `<plain-text>` subtree representing the string `\"bar`:"
   ]
  },
  {
   "cell_type": "code",
   "execution_count": 45,
   "metadata": {
    "execution": {
     "iopub.execute_input": "2021-03-09T12:01:50.844499Z",
     "iopub.status.busy": "2021-03-09T12:01:50.843984Z",
     "iopub.status.idle": "2021-03-09T12:01:50.845414Z",
     "shell.execute_reply": "2021-03-09T12:01:50.845850Z"
    },
    "slideshow": {
     "slide_type": "fragment"
    }
   },
   "outputs": [],
   "source": [
    "def bad_input_tree_mutator() -> TreeMutator:\n",
    "    return TreeMutator(SIMPLE_HTML_GRAMMAR, bad_input_tree, log=2)    "
   ]
  },
  {
   "cell_type": "code",
   "execution_count": 46,
   "metadata": {
    "execution": {
     "iopub.execute_input": "2021-03-09T12:01:50.850161Z",
     "iopub.status.busy": "2021-03-09T12:01:50.849638Z",
     "iopub.status.idle": "2021-03-09T12:01:50.851418Z",
     "shell.execute_reply": "2021-03-09T12:01:50.851854Z"
    },
    "slideshow": {
     "slide_type": "fragment"
    }
   },
   "outputs": [
    {
     "name": "stdout",
     "output_type": "stream",
     "text": [
      "('<plain-text>',\n",
      " [('<plain-char>', [('<other>', [('\"', [])])]),\n",
      "  ('<plain-text>',\n",
      "   [('<plain-char>', [('<letter>', [...])]),\n",
      "    ('<plain-text>', [('<plain-char>', [...]), ('<plain-text>', [...])])])])\n"
     ]
    }
   ],
   "source": [
    "plain_text_subtree = bad_input_tree_mutator().get_subtree([0, 0, 1, 0])\n",
    "pp.pprint(plain_text_subtree)"
   ]
  },
  {
   "cell_type": "code",
   "execution_count": 47,
   "metadata": {
    "execution": {
     "iopub.execute_input": "2021-03-09T12:01:50.854861Z",
     "iopub.status.busy": "2021-03-09T12:01:50.854344Z",
     "iopub.status.idle": "2021-03-09T12:01:50.856491Z",
     "shell.execute_reply": "2021-03-09T12:01:50.856975Z"
    },
    "slideshow": {
     "slide_type": "subslide"
    }
   },
   "outputs": [
    {
     "data": {
      "text/plain": [
       "'\"bar'"
      ]
     },
     "execution_count": 1,
     "metadata": {},
     "output_type": "execute_result"
    }
   ],
   "source": [
    "tree_to_string(plain_text_subtree)"
   ]
  },
  {
   "cell_type": "code",
   "execution_count": 48,
   "metadata": {
    "execution": {
     "iopub.execute_input": "2021-03-09T12:01:50.861297Z",
     "iopub.status.busy": "2021-03-09T12:01:50.860778Z",
     "iopub.status.idle": "2021-03-09T12:01:50.862461Z",
     "shell.execute_reply": "2021-03-09T12:01:50.862845Z"
    },
    "slideshow": {
     "slide_type": "subslide"
    }
   },
   "outputs": [],
   "source": [
    "# ignore\n",
    "def primes_generator() -> Generator[int, None, None]:\n",
    "    # Adapted from https://www.python.org/ftp/python/doc/nluug-paper.ps\n",
    "    primes = [2]\n",
    "    yield 2\n",
    "    i = 3\n",
    "    while True:\n",
    "        for p in primes:\n",
    "            if i % p == 0 or p * p > i:\n",
    "                break\n",
    "\n",
    "        if i % p != 0:\n",
    "            primes.append(i)\n",
    "            yield i\n",
    "\n",
    "        i += 2"
   ]
  },
  {
   "cell_type": "code",
   "execution_count": 49,
   "metadata": {
    "execution": {
     "iopub.execute_input": "2021-03-09T12:01:50.865567Z",
     "iopub.status.busy": "2021-03-09T12:01:50.865023Z",
     "iopub.status.idle": "2021-03-09T12:01:50.866607Z",
     "shell.execute_reply": "2021-03-09T12:01:50.866975Z"
    },
    "slideshow": {
     "slide_type": "subslide"
    }
   },
   "outputs": [],
   "source": [
    "# ignore\n",
    "prime_numbers = primes_generator()"
   ]
  },
  {
   "cell_type": "code",
   "execution_count": 50,
   "metadata": {
    "execution": {
     "iopub.execute_input": "2021-03-09T12:01:50.878901Z",
     "iopub.status.busy": "2021-03-09T12:01:50.878003Z",
     "iopub.status.idle": "2021-03-09T12:01:50.880941Z",
     "shell.execute_reply": "2021-03-09T12:01:50.881284Z"
    },
    "slideshow": {
     "slide_type": "fragment"
    }
   },
   "outputs": [
    {
     "data": {
      "text/html": [
       "\n",
       "    \n",
       "    <script>\n",
       "    var bad_answers = new Map();\n",
       "\n",
       "    function answer(quiz_id) {\n",
       "        ans = 0;\n",
       "        for (i = 1;; i++) {\n",
       "            checkbox = document.getElementById(quiz_id + \"-\" + i.toString());\n",
       "            if (!checkbox)\n",
       "                break;\n",
       "            if (checkbox.checked)\n",
       "                ans |= (1 << i);\n",
       "        }\n",
       "        return ans;\n",
       "    }\n",
       "    function check_selection(quiz_id, correct_answer, multiple_choice, hint) {\n",
       "        given_answer = answer(quiz_id);\n",
       "        if (given_answer == correct_answer)\n",
       "        {\n",
       "            document.getElementById(quiz_id + \"-submit\").value = \"Correct!\";\n",
       "            document.getElementById(quiz_id + \"-hint\").innerHTML = \"\";\n",
       "\n",
       "            for (i = 1;; i++) {\n",
       "                checkbox = document.getElementById(quiz_id + \"-\" + i.toString());\n",
       "                label = document.getElementById(quiz_id + \"-\" + i.toString() + \"-label\")\n",
       "                if (!checkbox)\n",
       "                    break;\n",
       "    \n",
       "                if (checkbox.checked) {\n",
       "                    label.style.fontWeight = \"bold\";\n",
       "                }\n",
       "                else {\n",
       "                    label.style.textDecoration = \"line-through\";\n",
       "                }\n",
       "            }\n",
       "        }\n",
       "        else \n",
       "        {\n",
       "            document.getElementById(quiz_id + \"-submit\").value = \"Try again\";\n",
       "            \n",
       "            if (!bad_answers.has(quiz_id)) {\n",
       "                bad_answers.set(quiz_id, 1);\n",
       "            }\n",
       "            else {\n",
       "                bad_answers.set(quiz_id, bad_answers.get(quiz_id) + 1);\n",
       "            }\n",
       "\n",
       "            if (bad_answers.get(quiz_id) >= 2 && hint.length > 0) {\n",
       "                document.getElementById(quiz_id + \"-hint\").innerHTML = \n",
       "                    \"&nbsp;&nbsp;(Hint: <code>\" + hint + \"</code>)\";\n",
       "            }\n",
       "\n",
       "            if (!multiple_choice) {\n",
       "                for (i = 1;; i++) {\n",
       "                    checkbox = document.getElementById(quiz_id + \"-\" + i.toString());\n",
       "                    label = document.getElementById(quiz_id + \"-\" + i.toString() + \"-label\")\n",
       "\n",
       "                    if (!checkbox)\n",
       "                        break;\n",
       "                    if (checkbox.checked) {\n",
       "                        label.style.textDecoration = \"line-through\";\n",
       "                    }\n",
       "                }\n",
       "            }\n",
       "        }\n",
       "    }\n",
       "    function clear_selection(quiz_id) {\n",
       "        document.getElementById(quiz_id + \"-submit\").value = \"Submit\";\n",
       "        document.getElementById(quiz_id + \"-hint\").innerHTML = \"\";\n",
       "    }\n",
       "    </script>\n",
       "    \n",
       "    <div class=\"quiz\">\n",
       "    <h3 class=\"quiz_title\">Quiz</h3>\n",
       "    <p>\n",
       "    <div class=\"quiz_question\">In <code>bad_input_tree</code>, what is  the subtree at the path <code>[0, 0, 2, 1]</code> as string?</div>\n",
       "    </p>\n",
       "    <p>\n",
       "    <div class=\"quiz_options\" title=\"Pick a choice.\">\n",
       "    \n",
       "        <input type=\"radio\" name=\"3b702d30-80cf-11eb-8748-acde48001122\" id=\"3b702d30-80cf-11eb-8748-acde48001122-1\" onclick=\"clear_selection('3b702d30-80cf-11eb-8748-acde48001122')\">\n",
       "        <label id=\"3b702d30-80cf-11eb-8748-acde48001122-1-label\" for=\"3b702d30-80cf-11eb-8748-acde48001122-1\"><code>&lt;</code></label><br>\n",
       "    \n",
       "        <input type=\"radio\" name=\"3b702d30-80cf-11eb-8748-acde48001122\" id=\"3b702d30-80cf-11eb-8748-acde48001122-2\" onclick=\"clear_selection('3b702d30-80cf-11eb-8748-acde48001122')\">\n",
       "        <label id=\"3b702d30-80cf-11eb-8748-acde48001122-2-label\" for=\"3b702d30-80cf-11eb-8748-acde48001122-2\"><code>/</code></label><br>\n",
       "    \n",
       "        <input type=\"radio\" name=\"3b702d30-80cf-11eb-8748-acde48001122\" id=\"3b702d30-80cf-11eb-8748-acde48001122-3\" onclick=\"clear_selection('3b702d30-80cf-11eb-8748-acde48001122')\">\n",
       "        <label id=\"3b702d30-80cf-11eb-8748-acde48001122-3-label\" for=\"3b702d30-80cf-11eb-8748-acde48001122-3\"><code>&lt;/foo&gt;</code></label><br>\n",
       "    \n",
       "        <input type=\"radio\" name=\"3b702d30-80cf-11eb-8748-acde48001122\" id=\"3b702d30-80cf-11eb-8748-acde48001122-4\" onclick=\"clear_selection('3b702d30-80cf-11eb-8748-acde48001122')\">\n",
       "        <label id=\"3b702d30-80cf-11eb-8748-acde48001122-4-label\" for=\"3b702d30-80cf-11eb-8748-acde48001122-4\"><code>&lt;foo&gt;</code></label><br>\n",
       "    \n",
       "    </div>\n",
       "    </p>\n",
       "    <input id=\"3b702d30-80cf-11eb-8748-acde48001122-submit\" type=\"submit\" value=\"Submit\" onclick=\"check_selection('3b702d30-80cf-11eb-8748-acde48001122', 4, 0, 'next(prime_numbers)')\">\n",
       "    <span class=\"quiz_hint\" id=\"3b702d30-80cf-11eb-8748-acde48001122-hint\"></span>\n",
       "    </div>\n",
       "    "
      ],
      "text/plain": [
       "<IPython.core.display.HTML object>"
      ]
     },
     "execution_count": 1,
     "metadata": {},
     "output_type": "execute_result"
    }
   ],
   "source": [
    "quiz(\"In `bad_input_tree`, what is \"\n",
    "     \" the subtree at the path `[0, 0, 2, 1]` as string?\", \n",
    "    [\n",
    "        f\"`{tree_to_string(bad_input_tree_mutator().get_subtree([0, 0, 2, 0]))}`\",\n",
    "        f\"`{tree_to_string(bad_input_tree_mutator().get_subtree([0, 0, 2, 1]))}`\",\n",
    "        f\"`{tree_to_string(bad_input_tree_mutator().get_subtree([0, 0, 2]))}`\",\n",
    "        f\"`{tree_to_string(bad_input_tree_mutator().get_subtree([0, 0, 0]))}`\",\n",
    "    ], 'next(prime_numbers)', globals()\n",
    "    )"
   ]
  },
  {
   "cell_type": "markdown",
   "metadata": {
    "slideshow": {
     "slide_type": "subslide"
    }
   },
   "source": [
    "### Creating new Subtrees\n",
    "\n",
    "The method `new_tree()` creates a new subtree for the given `<start_symbol>` according to the rules of the grammar. It invokes `expand_tree()` on the given `GrammarFuzzer` – a method that takes an initial (empty) tree and expands it until no more expansions are left."
   ]
  },
  {
   "cell_type": "code",
   "execution_count": 51,
   "metadata": {
    "execution": {
     "iopub.execute_input": "2021-03-09T12:01:50.885297Z",
     "iopub.status.busy": "2021-03-09T12:01:50.884760Z",
     "iopub.status.idle": "2021-03-09T12:01:50.886482Z",
     "shell.execute_reply": "2021-03-09T12:01:50.886883Z"
    },
    "slideshow": {
     "slide_type": "subslide"
    }
   },
   "outputs": [],
   "source": [
    "class TreeMutator(TreeMutator):\n",
    "    def new_tree(self, start_symbol: str) -> DerivationTree:\n",
    "        \"\"\"Create a new subtree for <start_symbol>.\"\"\"\n",
    "\n",
    "        if self.log >= 2:\n",
    "            print(f\"Creating new tree for {start_symbol}\")\n",
    "\n",
    "        tree = (start_symbol, None)\n",
    "        return self.fuzzer.expand_tree(tree)"
   ]
  },
  {
   "cell_type": "markdown",
   "metadata": {
    "slideshow": {
     "slide_type": "fragment"
    }
   },
   "source": [
    "Here is an example of `new_tree()`:"
   ]
  },
  {
   "cell_type": "code",
   "execution_count": 52,
   "metadata": {
    "execution": {
     "iopub.execute_input": "2021-03-09T12:01:50.893009Z",
     "iopub.status.busy": "2021-03-09T12:01:50.891313Z",
     "iopub.status.idle": "2021-03-09T12:01:51.470344Z",
     "shell.execute_reply": "2021-03-09T12:01:51.470738Z"
    },
    "slideshow": {
     "slide_type": "fragment"
    }
   },
   "outputs": [
    {
     "name": "stdout",
     "output_type": "stream",
     "text": [
      "Creating new tree for <plain-text>\n"
     ]
    },
    {
     "data": {
      "image/svg+xml": [
       "<?xml version=\"1.0\" encoding=\"UTF-8\" standalone=\"no\"?>\n",
       "<!DOCTYPE svg PUBLIC \"-//W3C//DTD SVG 1.1//EN\"\n",
       " \"http://www.w3.org/Graphics/SVG/1.1/DTD/svg11.dtd\">\n",
       "<!-- Generated by graphviz version 2.40.1 (20161225.0304)\n",
       " -->\n",
       "<!-- Title: %3 Pages: 1 -->\n",
       "<svg width=\"228pt\" height=\"260pt\"\n",
       " viewBox=\"0.00 0.00 228.00 260.00\" xmlns=\"http://www.w3.org/2000/svg\" xmlns:xlink=\"http://www.w3.org/1999/xlink\">\n",
       "<g id=\"graph0\" class=\"graph\" transform=\"scale(1 1) rotate(0) translate(4 256)\">\n",
       "<title>%3</title>\n",
       "<polygon fill=\"#ffffff\" stroke=\"transparent\" points=\"-4,4 -4,-256 224,-256 224,4 -4,4\"/>\n",
       "<!-- 0 -->\n",
       "<g id=\"node1\" class=\"node\">\n",
       "<title>0</title>\n",
       "<polygon fill=\"none\" stroke=\"#ffffff\" points=\"160,-252 59,-252 59,-216 160,-216 160,-252\"/>\n",
       "<text text-anchor=\"middle\" x=\"109.5\" y=\"-230.3\" font-family=\"'Fira Mono', 'Source Code Pro', 'Courier', monospace\" font-size=\"14.00\" fill=\"#0060a0\">&lt;plain&#45;text&gt;</text>\n",
       "</g>\n",
       "<!-- 1 -->\n",
       "<g id=\"node2\" class=\"node\">\n",
       "<title>1</title>\n",
       "<polygon fill=\"none\" stroke=\"#ffffff\" points=\"101,-180 0,-180 0,-144 101,-144 101,-180\"/>\n",
       "<text text-anchor=\"middle\" x=\"50.5\" y=\"-158.3\" font-family=\"'Fira Mono', 'Source Code Pro', 'Courier', monospace\" font-size=\"14.00\" fill=\"#0060a0\">&lt;plain&#45;char&gt;</text>\n",
       "</g>\n",
       "<!-- 0&#45;&gt;1 -->\n",
       "<g id=\"edge1\" class=\"edge\">\n",
       "<title>0&#45;&gt;1</title>\n",
       "<path fill=\"none\" stroke=\"#000000\" d=\"M94.6118,-215.8314C87.747,-207.454 79.4699,-197.3531 71.9489,-188.1749\"/>\n",
       "<polygon fill=\"#000000\" stroke=\"#000000\" points=\"74.6341,-185.9297 65.5886,-180.4133 69.2197,-190.3665 74.6341,-185.9297\"/>\n",
       "</g>\n",
       "<!-- 4 -->\n",
       "<g id=\"node5\" class=\"node\">\n",
       "<title>4</title>\n",
       "<polygon fill=\"none\" stroke=\"#ffffff\" points=\"220,-180 119,-180 119,-144 220,-144 220,-180\"/>\n",
       "<text text-anchor=\"middle\" x=\"169.5\" y=\"-158.3\" font-family=\"'Fira Mono', 'Source Code Pro', 'Courier', monospace\" font-size=\"14.00\" fill=\"#0060a0\">&lt;plain&#45;text&gt;</text>\n",
       "</g>\n",
       "<!-- 0&#45;&gt;4 -->\n",
       "<g id=\"edge4\" class=\"edge\">\n",
       "<title>0&#45;&gt;4</title>\n",
       "<path fill=\"none\" stroke=\"#000000\" d=\"M124.6405,-215.8314C131.6217,-207.454 140.0391,-197.3531 147.6876,-188.1749\"/>\n",
       "<polygon fill=\"#000000\" stroke=\"#000000\" points=\"150.4425,-190.3362 154.1556,-180.4133 145.0649,-185.8548 150.4425,-190.3362\"/>\n",
       "</g>\n",
       "<!-- 2 -->\n",
       "<g id=\"node3\" class=\"node\">\n",
       "<title>2</title>\n",
       "<polygon fill=\"none\" stroke=\"#ffffff\" points=\"101,-108 0,-108 0,-72 101,-72 101,-108\"/>\n",
       "<text text-anchor=\"middle\" x=\"50.5\" y=\"-86.3\" font-family=\"'Fira Mono', 'Source Code Pro', 'Courier', monospace\" font-size=\"14.00\" fill=\"#0060a0\">&lt;whitespace&gt;</text>\n",
       "</g>\n",
       "<!-- 1&#45;&gt;2 -->\n",
       "<g id=\"edge2\" class=\"edge\">\n",
       "<title>1&#45;&gt;2</title>\n",
       "<path fill=\"none\" stroke=\"#000000\" d=\"M50.5,-143.8314C50.5,-136.131 50.5,-126.9743 50.5,-118.4166\"/>\n",
       "<polygon fill=\"#000000\" stroke=\"#000000\" points=\"54.0001,-118.4132 50.5,-108.4133 47.0001,-118.4133 54.0001,-118.4132\"/>\n",
       "</g>\n",
       "<!-- 3 -->\n",
       "<g id=\"node4\" class=\"node\">\n",
       "<title>3</title>\n",
       "<polygon fill=\"none\" stroke=\"#ffffff\" points=\"77.5,-36 23.5,-36 23.5,0 77.5,0 77.5,-36\"/>\n",
       "<text text-anchor=\"middle\" x=\"50.5\" y=\"-14.3\" font-family=\"'Fira Mono', 'Source Code Pro', 'Courier', monospace\" font-size=\"14.00\" fill=\"#00a060\"> </text>\n",
       "</g>\n",
       "<!-- 2&#45;&gt;3 -->\n",
       "<g id=\"edge3\" class=\"edge\">\n",
       "<title>2&#45;&gt;3</title>\n",
       "<path fill=\"none\" stroke=\"#000000\" d=\"M50.5,-71.8314C50.5,-64.131 50.5,-54.9743 50.5,-46.4166\"/>\n",
       "<polygon fill=\"#000000\" stroke=\"#000000\" points=\"54.0001,-46.4132 50.5,-36.4133 47.0001,-46.4133 54.0001,-46.4132\"/>\n",
       "</g>\n",
       "<!-- 5 -->\n",
       "<g id=\"node6\" class=\"node\">\n",
       "<title>5</title>\n",
       "<polygon fill=\"none\" stroke=\"#ffffff\" points=\"196.5,-108 142.5,-108 142.5,-72 196.5,-72 196.5,-108\"/>\n",
       "</g>\n",
       "<!-- 4&#45;&gt;5 -->\n",
       "<g id=\"edge5\" class=\"edge\">\n",
       "<title>4&#45;&gt;5</title>\n",
       "<path fill=\"none\" stroke=\"#000000\" d=\"M169.5,-143.8314C169.5,-136.131 169.5,-126.9743 169.5,-118.4166\"/>\n",
       "<polygon fill=\"#000000\" stroke=\"#000000\" points=\"173.0001,-118.4132 169.5,-108.4133 166.0001,-118.4133 173.0001,-118.4132\"/>\n",
       "</g>\n",
       "</g>\n",
       "</svg>\n"
      ],
      "text/plain": [
       "<graphviz.dot.Digraph at 0x7fc945015d30>"
      ]
     },
     "execution_count": 1,
     "metadata": {},
     "output_type": "execute_result"
    }
   ],
   "source": [
    "plain_text_tree = cast(TreeMutator, bad_input_tree_mutator()).new_tree('<plain-text>')\n",
    "display_tree(plain_text_tree)"
   ]
  },
  {
   "cell_type": "code",
   "execution_count": 53,
   "metadata": {
    "execution": {
     "iopub.execute_input": "2021-03-09T12:01:51.474524Z",
     "iopub.status.busy": "2021-03-09T12:01:51.473976Z",
     "iopub.status.idle": "2021-03-09T12:01:51.476246Z",
     "shell.execute_reply": "2021-03-09T12:01:51.476605Z"
    },
    "slideshow": {
     "slide_type": "subslide"
    }
   },
   "outputs": [
    {
     "data": {
      "text/plain": [
       "' '"
      ]
     },
     "execution_count": 1,
     "metadata": {},
     "output_type": "execute_result"
    }
   ],
   "source": [
    "tree_to_string(plain_text_tree)"
   ]
  },
  {
   "cell_type": "markdown",
   "metadata": {
    "slideshow": {
     "slide_type": "subslide"
    }
   },
   "source": [
    "### Mutating the Tree\n",
    "\n",
    "With us now being able to \n",
    "* access a particular path in the tree (`get_subtree()`) and\n",
    "* create a new subtree (`new_tree()`),\n",
    "\n",
    "we can mutate the tree at a given path. This is the task of `mutate()`."
   ]
  },
  {
   "cell_type": "code",
   "execution_count": 54,
   "metadata": {
    "execution": {
     "iopub.execute_input": "2021-03-09T12:01:51.481731Z",
     "iopub.status.busy": "2021-03-09T12:01:51.481214Z",
     "iopub.status.idle": "2021-03-09T12:01:51.482941Z",
     "shell.execute_reply": "2021-03-09T12:01:51.483361Z"
    },
    "slideshow": {
     "slide_type": "subslide"
    }
   },
   "outputs": [],
   "source": [
    "class TreeMutator(TreeMutator):\n",
    "    def mutate(self, path: TreePath, tree: Optional[DerivationTree] = None) -> DerivationTree:\n",
    "        \"\"\"Return a new tree mutated at `path`\"\"\"\n",
    "        if tree is None:\n",
    "            tree = self.tree\n",
    "        assert tree is not None\n",
    "\n",
    "        symbol, children = tree\n",
    "\n",
    "        if not path or children is None:\n",
    "            return self.new_tree(symbol)\n",
    "\n",
    "        head = path[0]\n",
    "        new_children = (children[:head] +\n",
    "                        [self.mutate(path[1:], children[head])] +\n",
    "                        children[head + 1:])\n",
    "        return symbol, new_children"
   ]
  },
  {
   "cell_type": "markdown",
   "metadata": {
    "slideshow": {
     "slide_type": "subslide"
    }
   },
   "source": [
    "Here is an example of `mutate()` in action. We mutate `bad_input_tree` at the path `[0, 0, 1, 0]` – that is, `<plain-text>`:"
   ]
  },
  {
   "cell_type": "code",
   "execution_count": 55,
   "metadata": {
    "execution": {
     "iopub.execute_input": "2021-03-09T12:01:51.488648Z",
     "iopub.status.busy": "2021-03-09T12:01:51.486823Z",
     "iopub.status.idle": "2021-03-09T12:01:52.073499Z",
     "shell.execute_reply": "2021-03-09T12:01:52.073875Z"
    },
    "slideshow": {
     "slide_type": "fragment"
    }
   },
   "outputs": [
    {
     "name": "stdout",
     "output_type": "stream",
     "text": [
      "Creating new tree for <plain-text>\n"
     ]
    },
    {
     "data": {
      "image/svg+xml": [
       "<?xml version=\"1.0\" encoding=\"UTF-8\" standalone=\"no\"?>\n",
       "<!DOCTYPE svg PUBLIC \"-//W3C//DTD SVG 1.1//EN\"\n",
       " \"http://www.w3.org/Graphics/SVG/1.1/DTD/svg11.dtd\">\n",
       "<!-- Generated by graphviz version 2.40.1 (20161225.0304)\n",
       " -->\n",
       "<!-- Title: %3 Pages: 1 -->\n",
       "<svg width=\"847pt\" height=\"620pt\"\n",
       " viewBox=\"0.00 0.00 847.00 620.00\" xmlns=\"http://www.w3.org/2000/svg\" xmlns:xlink=\"http://www.w3.org/1999/xlink\">\n",
       "<g id=\"graph0\" class=\"graph\" transform=\"scale(1 1) rotate(0) translate(4 616)\">\n",
       "<title>%3</title>\n",
       "<polygon fill=\"#ffffff\" stroke=\"transparent\" points=\"-4,4 -4,-616 843,-616 843,4 -4,4\"/>\n",
       "<!-- 0 -->\n",
       "<g id=\"node1\" class=\"node\">\n",
       "<title>0</title>\n",
       "<polygon fill=\"none\" stroke=\"#ffffff\" points=\"415.5,-612 356.5,-612 356.5,-576 415.5,-576 415.5,-612\"/>\n",
       "<text text-anchor=\"middle\" x=\"386\" y=\"-590.3\" font-family=\"'Fira Mono', 'Source Code Pro', 'Courier', monospace\" font-size=\"14.00\" fill=\"#0060a0\">&lt;start&gt;</text>\n",
       "</g>\n",
       "<!-- 1 -->\n",
       "<g id=\"node2\" class=\"node\">\n",
       "<title>1</title>\n",
       "<polygon fill=\"none\" stroke=\"#ffffff\" points=\"413,-540 359,-540 359,-504 413,-504 413,-540\"/>\n",
       "<text text-anchor=\"middle\" x=\"386\" y=\"-518.3\" font-family=\"'Fira Mono', 'Source Code Pro', 'Courier', monospace\" font-size=\"14.00\" fill=\"#0060a0\">&lt;html&gt;</text>\n",
       "</g>\n",
       "<!-- 0&#45;&gt;1 -->\n",
       "<g id=\"edge1\" class=\"edge\">\n",
       "<title>0&#45;&gt;1</title>\n",
       "<path fill=\"none\" stroke=\"#000000\" d=\"M386,-575.8314C386,-568.131 386,-558.9743 386,-550.4166\"/>\n",
       "<polygon fill=\"#000000\" stroke=\"#000000\" points=\"389.5001,-550.4132 386,-540.4133 382.5001,-550.4133 389.5001,-550.4132\"/>\n",
       "</g>\n",
       "<!-- 2 -->\n",
       "<g id=\"node3\" class=\"node\">\n",
       "<title>2</title>\n",
       "<polygon fill=\"none\" stroke=\"#ffffff\" points=\"441,-468 331,-468 331,-432 441,-432 441,-468\"/>\n",
       "<text text-anchor=\"middle\" x=\"386\" y=\"-446.3\" font-family=\"'Fira Mono', 'Source Code Pro', 'Courier', monospace\" font-size=\"14.00\" fill=\"#0060a0\">&lt;tagged&#45;text&gt;</text>\n",
       "</g>\n",
       "<!-- 1&#45;&gt;2 -->\n",
       "<g id=\"edge2\" class=\"edge\">\n",
       "<title>1&#45;&gt;2</title>\n",
       "<path fill=\"none\" stroke=\"#000000\" d=\"M386,-503.8314C386,-496.131 386,-486.9743 386,-478.4166\"/>\n",
       "<polygon fill=\"#000000\" stroke=\"#000000\" points=\"389.5001,-478.4132 386,-468.4133 382.5001,-478.4133 389.5001,-478.4132\"/>\n",
       "</g>\n",
       "<!-- 3 -->\n",
       "<g id=\"node4\" class=\"node\">\n",
       "<title>3</title>\n",
       "<polygon fill=\"none\" stroke=\"#ffffff\" points=\"304,-396 194,-396 194,-360 304,-360 304,-396\"/>\n",
       "<text text-anchor=\"middle\" x=\"249\" y=\"-374.3\" font-family=\"'Fira Mono', 'Source Code Pro', 'Courier', monospace\" font-size=\"14.00\" fill=\"#0060a0\">&lt;opening&#45;tag&gt;</text>\n",
       "</g>\n",
       "<!-- 2&#45;&gt;3 -->\n",
       "<g id=\"edge3\" class=\"edge\">\n",
       "<title>2&#45;&gt;3</title>\n",
       "<path fill=\"none\" stroke=\"#000000\" d=\"M351.4291,-431.8314C333.5815,-422.4516 311.6226,-410.9112 292.62,-400.9244\"/>\n",
       "<polygon fill=\"#000000\" stroke=\"#000000\" points=\"294.0401,-397.7168 283.5598,-396.1628 290.7836,-403.9132 294.0401,-397.7168\"/>\n",
       "</g>\n",
       "<!-- 17 -->\n",
       "<g id=\"node18\" class=\"node\">\n",
       "<title>17</title>\n",
       "<polygon fill=\"none\" stroke=\"#ffffff\" points=\"413,-396 359,-396 359,-360 413,-360 413,-396\"/>\n",
       "<text text-anchor=\"middle\" x=\"386\" y=\"-374.3\" font-family=\"'Fira Mono', 'Source Code Pro', 'Courier', monospace\" font-size=\"14.00\" fill=\"#0060a0\">&lt;html&gt;</text>\n",
       "</g>\n",
       "<!-- 2&#45;&gt;17 -->\n",
       "<g id=\"edge17\" class=\"edge\">\n",
       "<title>2&#45;&gt;17</title>\n",
       "<path fill=\"none\" stroke=\"#000000\" d=\"M386,-431.8314C386,-424.131 386,-414.9743 386,-406.4166\"/>\n",
       "<polygon fill=\"#000000\" stroke=\"#000000\" points=\"389.5001,-406.4132 386,-396.4133 382.5001,-406.4133 389.5001,-406.4132\"/>\n",
       "</g>\n",
       "<!-- 24 -->\n",
       "<g id=\"node25\" class=\"node\">\n",
       "<title>24</title>\n",
       "<polygon fill=\"none\" stroke=\"#ffffff\" points=\"709,-396 599,-396 599,-360 709,-360 709,-396\"/>\n",
       "<text text-anchor=\"middle\" x=\"654\" y=\"-374.3\" font-family=\"'Fira Mono', 'Source Code Pro', 'Courier', monospace\" font-size=\"14.00\" fill=\"#0060a0\">&lt;closing&#45;tag&gt;</text>\n",
       "</g>\n",
       "<!-- 2&#45;&gt;24 -->\n",
       "<g id=\"edge24\" class=\"edge\">\n",
       "<title>2&#45;&gt;24</title>\n",
       "<path fill=\"none\" stroke=\"#000000\" d=\"M441.2048,-435.1689C484.174,-423.6249 543.9084,-407.5768 589.1536,-395.4214\"/>\n",
       "<polygon fill=\"#000000\" stroke=\"#000000\" points=\"590.1174,-398.7867 598.8668,-392.8119 588.3011,-392.0264 590.1174,-398.7867\"/>\n",
       "</g>\n",
       "<!-- 4 -->\n",
       "<g id=\"node5\" class=\"node\">\n",
       "<title>4</title>\n",
       "<polygon fill=\"none\" stroke=\"#ffffff\" points=\"108,-324 54,-324 54,-288 108,-288 108,-324\"/>\n",
       "<text text-anchor=\"middle\" x=\"81\" y=\"-302.3\" font-family=\"'Fira Mono', 'Source Code Pro', 'Courier', monospace\" font-size=\"14.00\" fill=\"#0060a0\">&lt;lt&gt;</text>\n",
       "</g>\n",
       "<!-- 3&#45;&gt;4 -->\n",
       "<g id=\"edge4\" class=\"edge\">\n",
       "<title>3&#45;&gt;4</title>\n",
       "<path fill=\"none\" stroke=\"#000000\" d=\"M206.6065,-359.8314C179.0764,-348.0328 143.5695,-332.8155 117.3345,-321.5719\"/>\n",
       "<polygon fill=\"#000000\" stroke=\"#000000\" points=\"118.6906,-318.3453 108.1204,-317.623 115.9331,-324.7793 118.6906,-318.3453\"/>\n",
       "</g>\n",
       "<!-- 6 -->\n",
       "<g id=\"node7\" class=\"node\">\n",
       "<title>6</title>\n",
       "<polygon fill=\"none\" stroke=\"#ffffff\" points=\"219,-324 165,-324 165,-288 219,-288 219,-324\"/>\n",
       "<text text-anchor=\"middle\" x=\"192\" y=\"-302.3\" font-family=\"'Fira Mono', 'Source Code Pro', 'Courier', monospace\" font-size=\"14.00\" fill=\"#0060a0\">&lt;id&gt;</text>\n",
       "</g>\n",
       "<!-- 3&#45;&gt;6 -->\n",
       "<g id=\"edge6\" class=\"edge\">\n",
       "<title>3&#45;&gt;6</title>\n",
       "<path fill=\"none\" stroke=\"#000000\" d=\"M234.6165,-359.8314C228.0514,-351.5386 220.1493,-341.557 212.9422,-332.4533\"/>\n",
       "<polygon fill=\"#000000\" stroke=\"#000000\" points=\"215.5284,-330.0813 206.5772,-324.4133 210.0401,-334.4262 215.5284,-330.0813\"/>\n",
       "</g>\n",
       "<!-- 15 -->\n",
       "<g id=\"node16\" class=\"node\">\n",
       "<title>15</title>\n",
       "<polygon fill=\"none\" stroke=\"#ffffff\" points=\"295,-324 241,-324 241,-288 295,-288 295,-324\"/>\n",
       "<text text-anchor=\"middle\" x=\"268\" y=\"-302.3\" font-family=\"'Fira Mono', 'Source Code Pro', 'Courier', monospace\" font-size=\"14.00\" fill=\"#0060a0\">&lt;gt&gt;</text>\n",
       "</g>\n",
       "<!-- 3&#45;&gt;15 -->\n",
       "<g id=\"edge15\" class=\"edge\">\n",
       "<title>3&#45;&gt;15</title>\n",
       "<path fill=\"none\" stroke=\"#000000\" d=\"M253.7945,-359.8314C255.8489,-352.0463 258.296,-342.7729 260.5756,-334.1347\"/>\n",
       "<polygon fill=\"#000000\" stroke=\"#000000\" points=\"263.9735,-334.9753 263.1409,-324.4133 257.2052,-333.1892 263.9735,-334.9753\"/>\n",
       "</g>\n",
       "<!-- 5 -->\n",
       "<g id=\"node6\" class=\"node\">\n",
       "<title>5</title>\n",
       "<polygon fill=\"none\" stroke=\"#ffffff\" points=\"68,-252 14,-252 14,-216 68,-216 68,-252\"/>\n",
       "<text text-anchor=\"middle\" x=\"41\" y=\"-230.3\" font-family=\"'Fira Mono', 'Source Code Pro', 'Courier', monospace\" font-size=\"14.00\" fill=\"#0060a0\">&lt;</text>\n",
       "</g>\n",
       "<!-- 4&#45;&gt;5 -->\n",
       "<g id=\"edge5\" class=\"edge\">\n",
       "<title>4&#45;&gt;5</title>\n",
       "<path fill=\"none\" stroke=\"#000000\" d=\"M70.9063,-287.8314C66.4403,-279.7925 61.0925,-270.1666 56.1621,-261.2918\"/>\n",
       "<polygon fill=\"#000000\" stroke=\"#000000\" points=\"59.1456,-259.4551 51.2296,-252.4133 53.0265,-262.8546 59.1456,-259.4551\"/>\n",
       "</g>\n",
       "<!-- 7 -->\n",
       "<g id=\"node8\" class=\"node\">\n",
       "<title>7</title>\n",
       "<polygon fill=\"none\" stroke=\"#ffffff\" points=\"140,-252 86,-252 86,-216 140,-216 140,-252\"/>\n",
       "<text text-anchor=\"middle\" x=\"113\" y=\"-230.3\" font-family=\"'Fira Mono', 'Source Code Pro', 'Courier', monospace\" font-size=\"14.00\" fill=\"#0060a0\">&lt;id&gt;</text>\n",
       "</g>\n",
       "<!-- 6&#45;&gt;7 -->\n",
       "<g id=\"edge7\" class=\"edge\">\n",
       "<title>6&#45;&gt;7</title>\n",
       "<path fill=\"none\" stroke=\"#000000\" d=\"M172.065,-287.8314C162.5217,-279.1337 150.9401,-268.5783 140.5694,-259.1265\"/>\n",
       "<polygon fill=\"#000000\" stroke=\"#000000\" points=\"142.6772,-256.3121 132.9287,-252.1628 137.962,-261.4857 142.6772,-256.3121\"/>\n",
       "</g>\n",
       "<!-- 13 -->\n",
       "<g id=\"node14\" class=\"node\">\n",
       "<title>13</title>\n",
       "<polygon fill=\"none\" stroke=\"#ffffff\" points=\"226,-252 158,-252 158,-216 226,-216 226,-252\"/>\n",
       "<text text-anchor=\"middle\" x=\"192\" y=\"-230.3\" font-family=\"'Fira Mono', 'Source Code Pro', 'Courier', monospace\" font-size=\"14.00\" fill=\"#0060a0\">&lt;letter&gt;</text>\n",
       "</g>\n",
       "<!-- 6&#45;&gt;13 -->\n",
       "<g id=\"edge13\" class=\"edge\">\n",
       "<title>6&#45;&gt;13</title>\n",
       "<path fill=\"none\" stroke=\"#000000\" d=\"M192,-287.8314C192,-280.131 192,-270.9743 192,-262.4166\"/>\n",
       "<polygon fill=\"#000000\" stroke=\"#000000\" points=\"195.5001,-262.4132 192,-252.4133 188.5001,-262.4133 195.5001,-262.4132\"/>\n",
       "</g>\n",
       "<!-- 8 -->\n",
       "<g id=\"node9\" class=\"node\">\n",
       "<title>8</title>\n",
       "<polygon fill=\"none\" stroke=\"#ffffff\" points=\"61,-180 7,-180 7,-144 61,-144 61,-180\"/>\n",
       "<text text-anchor=\"middle\" x=\"34\" y=\"-158.3\" font-family=\"'Fira Mono', 'Source Code Pro', 'Courier', monospace\" font-size=\"14.00\" fill=\"#0060a0\">&lt;id&gt;</text>\n",
       "</g>\n",
       "<!-- 7&#45;&gt;8 -->\n",
       "<g id=\"edge8\" class=\"edge\">\n",
       "<title>7&#45;&gt;8</title>\n",
       "<path fill=\"none\" stroke=\"#000000\" d=\"M93.065,-215.8314C83.5217,-207.1337 71.9401,-196.5783 61.5694,-187.1265\"/>\n",
       "<polygon fill=\"#000000\" stroke=\"#000000\" points=\"63.6772,-184.3121 53.9287,-180.1628 58.962,-189.4857 63.6772,-184.3121\"/>\n",
       "</g>\n",
       "<!-- 11 -->\n",
       "<g id=\"node12\" class=\"node\">\n",
       "<title>11</title>\n",
       "<polygon fill=\"none\" stroke=\"#ffffff\" points=\"147,-180 79,-180 79,-144 147,-144 147,-180\"/>\n",
       "<text text-anchor=\"middle\" x=\"113\" y=\"-158.3\" font-family=\"'Fira Mono', 'Source Code Pro', 'Courier', monospace\" font-size=\"14.00\" fill=\"#0060a0\">&lt;letter&gt;</text>\n",
       "</g>\n",
       "<!-- 7&#45;&gt;11 -->\n",
       "<g id=\"edge11\" class=\"edge\">\n",
       "<title>7&#45;&gt;11</title>\n",
       "<path fill=\"none\" stroke=\"#000000\" d=\"M113,-215.8314C113,-208.131 113,-198.9743 113,-190.4166\"/>\n",
       "<polygon fill=\"#000000\" stroke=\"#000000\" points=\"116.5001,-190.4132 113,-180.4133 109.5001,-190.4133 116.5001,-190.4132\"/>\n",
       "</g>\n",
       "<!-- 9 -->\n",
       "<g id=\"node10\" class=\"node\">\n",
       "<title>9</title>\n",
       "<polygon fill=\"none\" stroke=\"#ffffff\" points=\"68,-108 0,-108 0,-72 68,-72 68,-108\"/>\n",
       "<text text-anchor=\"middle\" x=\"34\" y=\"-86.3\" font-family=\"'Fira Mono', 'Source Code Pro', 'Courier', monospace\" font-size=\"14.00\" fill=\"#0060a0\">&lt;letter&gt;</text>\n",
       "</g>\n",
       "<!-- 8&#45;&gt;9 -->\n",
       "<g id=\"edge9\" class=\"edge\">\n",
       "<title>8&#45;&gt;9</title>\n",
       "<path fill=\"none\" stroke=\"#000000\" d=\"M34,-143.8314C34,-136.131 34,-126.9743 34,-118.4166\"/>\n",
       "<polygon fill=\"#000000\" stroke=\"#000000\" points=\"37.5001,-118.4132 34,-108.4133 30.5001,-118.4133 37.5001,-118.4132\"/>\n",
       "</g>\n",
       "<!-- 10 -->\n",
       "<g id=\"node11\" class=\"node\">\n",
       "<title>10</title>\n",
       "<polygon fill=\"none\" stroke=\"#ffffff\" points=\"61,-36 7,-36 7,0 61,0 61,-36\"/>\n",
       "<text text-anchor=\"middle\" x=\"34\" y=\"-14.3\" font-family=\"'Fira Mono', 'Source Code Pro', 'Courier', monospace\" font-size=\"14.00\" fill=\"#00a060\">f</text>\n",
       "</g>\n",
       "<!-- 9&#45;&gt;10 -->\n",
       "<g id=\"edge10\" class=\"edge\">\n",
       "<title>9&#45;&gt;10</title>\n",
       "<path fill=\"none\" stroke=\"#000000\" d=\"M34,-71.8314C34,-64.131 34,-54.9743 34,-46.4166\"/>\n",
       "<polygon fill=\"#000000\" stroke=\"#000000\" points=\"37.5001,-46.4132 34,-36.4133 30.5001,-46.4133 37.5001,-46.4132\"/>\n",
       "</g>\n",
       "<!-- 12 -->\n",
       "<g id=\"node13\" class=\"node\">\n",
       "<title>12</title>\n",
       "<polygon fill=\"none\" stroke=\"#ffffff\" points=\"140,-108 86,-108 86,-72 140,-72 140,-108\"/>\n",
       "<text text-anchor=\"middle\" x=\"113\" y=\"-86.3\" font-family=\"'Fira Mono', 'Source Code Pro', 'Courier', monospace\" font-size=\"14.00\" fill=\"#00a060\">o</text>\n",
       "</g>\n",
       "<!-- 11&#45;&gt;12 -->\n",
       "<g id=\"edge12\" class=\"edge\">\n",
       "<title>11&#45;&gt;12</title>\n",
       "<path fill=\"none\" stroke=\"#000000\" d=\"M113,-143.8314C113,-136.131 113,-126.9743 113,-118.4166\"/>\n",
       "<polygon fill=\"#000000\" stroke=\"#000000\" points=\"116.5001,-118.4132 113,-108.4133 109.5001,-118.4133 116.5001,-118.4132\"/>\n",
       "</g>\n",
       "<!-- 14 -->\n",
       "<g id=\"node15\" class=\"node\">\n",
       "<title>14</title>\n",
       "<polygon fill=\"none\" stroke=\"#ffffff\" points=\"219,-180 165,-180 165,-144 219,-144 219,-180\"/>\n",
       "<text text-anchor=\"middle\" x=\"192\" y=\"-158.3\" font-family=\"'Fira Mono', 'Source Code Pro', 'Courier', monospace\" font-size=\"14.00\" fill=\"#00a060\">o</text>\n",
       "</g>\n",
       "<!-- 13&#45;&gt;14 -->\n",
       "<g id=\"edge14\" class=\"edge\">\n",
       "<title>13&#45;&gt;14</title>\n",
       "<path fill=\"none\" stroke=\"#000000\" d=\"M192,-215.8314C192,-208.131 192,-198.9743 192,-190.4166\"/>\n",
       "<polygon fill=\"#000000\" stroke=\"#000000\" points=\"195.5001,-190.4132 192,-180.4133 188.5001,-190.4133 195.5001,-190.4132\"/>\n",
       "</g>\n",
       "<!-- 16 -->\n",
       "<g id=\"node17\" class=\"node\">\n",
       "<title>16</title>\n",
       "<polygon fill=\"none\" stroke=\"#ffffff\" points=\"298,-252 244,-252 244,-216 298,-216 298,-252\"/>\n",
       "<text text-anchor=\"middle\" x=\"271\" y=\"-230.3\" font-family=\"'Fira Mono', 'Source Code Pro', 'Courier', monospace\" font-size=\"14.00\" fill=\"#00a060\">&gt;</text>\n",
       "</g>\n",
       "<!-- 15&#45;&gt;16 -->\n",
       "<g id=\"edge16\" class=\"edge\">\n",
       "<title>15&#45;&gt;16</title>\n",
       "<path fill=\"none\" stroke=\"#000000\" d=\"M268.757,-287.8314C269.0779,-280.131 269.4594,-270.9743 269.816,-262.4166\"/>\n",
       "<polygon fill=\"#000000\" stroke=\"#000000\" points=\"273.3133,-262.5503 270.2328,-252.4133 266.3194,-262.2589 273.3133,-262.5503\"/>\n",
       "</g>\n",
       "<!-- 18 -->\n",
       "<g id=\"node19\" class=\"node\">\n",
       "<title>18</title>\n",
       "<polygon fill=\"none\" stroke=\"#ffffff\" points=\"436.5,-324 335.5,-324 335.5,-288 436.5,-288 436.5,-324\"/>\n",
       "<text text-anchor=\"middle\" x=\"386\" y=\"-302.3\" font-family=\"'Fira Mono', 'Source Code Pro', 'Courier', monospace\" font-size=\"14.00\" fill=\"#0060a0\">&lt;plain&#45;text&gt;</text>\n",
       "</g>\n",
       "<!-- 17&#45;&gt;18 -->\n",
       "<g id=\"edge18\" class=\"edge\">\n",
       "<title>17&#45;&gt;18</title>\n",
       "<path fill=\"none\" stroke=\"#000000\" d=\"M386,-359.8314C386,-352.131 386,-342.9743 386,-334.4166\"/>\n",
       "<polygon fill=\"#000000\" stroke=\"#000000\" points=\"389.5001,-334.4132 386,-324.4133 382.5001,-334.4133 389.5001,-334.4132\"/>\n",
       "</g>\n",
       "<!-- 19 -->\n",
       "<g id=\"node20\" class=\"node\">\n",
       "<title>19</title>\n",
       "<polygon fill=\"none\" stroke=\"#ffffff\" points=\"417.5,-252 316.5,-252 316.5,-216 417.5,-216 417.5,-252\"/>\n",
       "<text text-anchor=\"middle\" x=\"367\" y=\"-230.3\" font-family=\"'Fira Mono', 'Source Code Pro', 'Courier', monospace\" font-size=\"14.00\" fill=\"#0060a0\">&lt;plain&#45;char&gt;</text>\n",
       "</g>\n",
       "<!-- 18&#45;&gt;19 -->\n",
       "<g id=\"edge19\" class=\"edge\">\n",
       "<title>18&#45;&gt;19</title>\n",
       "<path fill=\"none\" stroke=\"#000000\" d=\"M381.2055,-287.8314C379.1511,-280.0463 376.704,-270.7729 374.4244,-262.1347\"/>\n",
       "<polygon fill=\"#000000\" stroke=\"#000000\" points=\"377.7948,-261.1892 371.8591,-252.4133 371.0265,-262.9753 377.7948,-261.1892\"/>\n",
       "</g>\n",
       "<!-- 22 -->\n",
       "<g id=\"node23\" class=\"node\">\n",
       "<title>22</title>\n",
       "<polygon fill=\"none\" stroke=\"#ffffff\" points=\"536.5,-252 435.5,-252 435.5,-216 536.5,-216 536.5,-252\"/>\n",
       "<text text-anchor=\"middle\" x=\"486\" y=\"-230.3\" font-family=\"'Fira Mono', 'Source Code Pro', 'Courier', monospace\" font-size=\"14.00\" fill=\"#0060a0\">&lt;plain&#45;text&gt;</text>\n",
       "</g>\n",
       "<!-- 18&#45;&gt;22 -->\n",
       "<g id=\"edge22\" class=\"edge\">\n",
       "<title>18&#45;&gt;22</title>\n",
       "<path fill=\"none\" stroke=\"#000000\" d=\"M411.2342,-287.8314C423.788,-278.7927 439.1283,-267.7476 452.6391,-258.0198\"/>\n",
       "<polygon fill=\"#000000\" stroke=\"#000000\" points=\"454.7036,-260.8463 460.7739,-252.1628 450.6134,-255.1655 454.7036,-260.8463\"/>\n",
       "</g>\n",
       "<!-- 20 -->\n",
       "<g id=\"node21\" class=\"node\">\n",
       "<title>20</title>\n",
       "<polygon fill=\"none\" stroke=\"#ffffff\" points=\"417.5,-180 316.5,-180 316.5,-144 417.5,-144 417.5,-180\"/>\n",
       "<text text-anchor=\"middle\" x=\"367\" y=\"-158.3\" font-family=\"'Fira Mono', 'Source Code Pro', 'Courier', monospace\" font-size=\"14.00\" fill=\"#0060a0\">&lt;whitespace&gt;</text>\n",
       "</g>\n",
       "<!-- 19&#45;&gt;20 -->\n",
       "<g id=\"edge20\" class=\"edge\">\n",
       "<title>19&#45;&gt;20</title>\n",
       "<path fill=\"none\" stroke=\"#000000\" d=\"M367,-215.8314C367,-208.131 367,-198.9743 367,-190.4166\"/>\n",
       "<polygon fill=\"#000000\" stroke=\"#000000\" points=\"370.5001,-190.4132 367,-180.4133 363.5001,-190.4133 370.5001,-190.4132\"/>\n",
       "</g>\n",
       "<!-- 21 -->\n",
       "<g id=\"node22\" class=\"node\">\n",
       "<title>21</title>\n",
       "<polygon fill=\"none\" stroke=\"#ffffff\" points=\"394,-108 340,-108 340,-72 394,-72 394,-108\"/>\n",
       "<text text-anchor=\"middle\" x=\"367\" y=\"-86.3\" font-family=\"'Fira Mono', 'Source Code Pro', 'Courier', monospace\" font-size=\"14.00\" fill=\"#00a060\"> </text>\n",
       "</g>\n",
       "<!-- 20&#45;&gt;21 -->\n",
       "<g id=\"edge21\" class=\"edge\">\n",
       "<title>20&#45;&gt;21</title>\n",
       "<path fill=\"none\" stroke=\"#000000\" d=\"M367,-143.8314C367,-136.131 367,-126.9743 367,-118.4166\"/>\n",
       "<polygon fill=\"#000000\" stroke=\"#000000\" points=\"370.5001,-118.4132 367,-108.4133 363.5001,-118.4133 370.5001,-118.4132\"/>\n",
       "</g>\n",
       "<!-- 23 -->\n",
       "<g id=\"node24\" class=\"node\">\n",
       "<title>23</title>\n",
       "<polygon fill=\"none\" stroke=\"#ffffff\" points=\"513,-180 459,-180 459,-144 513,-144 513,-180\"/>\n",
       "</g>\n",
       "<!-- 22&#45;&gt;23 -->\n",
       "<g id=\"edge23\" class=\"edge\">\n",
       "<title>22&#45;&gt;23</title>\n",
       "<path fill=\"none\" stroke=\"#000000\" d=\"M486,-215.8314C486,-208.131 486,-198.9743 486,-190.4166\"/>\n",
       "<polygon fill=\"#000000\" stroke=\"#000000\" points=\"489.5001,-190.4132 486,-180.4133 482.5001,-190.4133 489.5001,-190.4132\"/>\n",
       "</g>\n",
       "<!-- 25 -->\n",
       "<g id=\"node26\" class=\"node\">\n",
       "<title>25</title>\n",
       "<polygon fill=\"none\" stroke=\"#ffffff\" points=\"609,-324 555,-324 555,-288 609,-288 609,-324\"/>\n",
       "<text text-anchor=\"middle\" x=\"582\" y=\"-302.3\" font-family=\"'Fira Mono', 'Source Code Pro', 'Courier', monospace\" font-size=\"14.00\" fill=\"#0060a0\">&lt;lt&gt;</text>\n",
       "</g>\n",
       "<!-- 24&#45;&gt;25 -->\n",
       "<g id=\"edge25\" class=\"edge\">\n",
       "<title>24&#45;&gt;25</title>\n",
       "<path fill=\"none\" stroke=\"#000000\" d=\"M635.8314,-359.8314C627.2848,-351.2848 616.9443,-340.9443 607.6198,-331.6198\"/>\n",
       "<polygon fill=\"#000000\" stroke=\"#000000\" points=\"609.9592,-329.0095 600.4133,-324.4133 605.0095,-333.9592 609.9592,-329.0095\"/>\n",
       "</g>\n",
       "<!-- 27 -->\n",
       "<g id=\"node28\" class=\"node\">\n",
       "<title>27</title>\n",
       "<polygon fill=\"none\" stroke=\"#ffffff\" points=\"681,-324 627,-324 627,-288 681,-288 681,-324\"/>\n",
       "<text text-anchor=\"middle\" x=\"654\" y=\"-302.3\" font-family=\"'Fira Mono', 'Source Code Pro', 'Courier', monospace\" font-size=\"14.00\" fill=\"#00a060\">/</text>\n",
       "</g>\n",
       "<!-- 24&#45;&gt;27 -->\n",
       "<g id=\"edge27\" class=\"edge\">\n",
       "<title>24&#45;&gt;27</title>\n",
       "<path fill=\"none\" stroke=\"#000000\" d=\"M654,-359.8314C654,-352.131 654,-342.9743 654,-334.4166\"/>\n",
       "<polygon fill=\"#000000\" stroke=\"#000000\" points=\"657.5001,-334.4132 654,-324.4133 650.5001,-334.4133 657.5001,-334.4132\"/>\n",
       "</g>\n",
       "<!-- 28 -->\n",
       "<g id=\"node29\" class=\"node\">\n",
       "<title>28</title>\n",
       "<polygon fill=\"none\" stroke=\"#ffffff\" points=\"753,-324 699,-324 699,-288 753,-288 753,-324\"/>\n",
       "<text text-anchor=\"middle\" x=\"726\" y=\"-302.3\" font-family=\"'Fira Mono', 'Source Code Pro', 'Courier', monospace\" font-size=\"14.00\" fill=\"#0060a0\">&lt;id&gt;</text>\n",
       "</g>\n",
       "<!-- 24&#45;&gt;28 -->\n",
       "<g id=\"edge28\" class=\"edge\">\n",
       "<title>24&#45;&gt;28</title>\n",
       "<path fill=\"none\" stroke=\"#000000\" d=\"M672.1686,-359.8314C680.7152,-351.2848 691.0557,-340.9443 700.3802,-331.6198\"/>\n",
       "<polygon fill=\"#000000\" stroke=\"#000000\" points=\"702.9905,-333.9592 707.5867,-324.4133 698.0408,-329.0095 702.9905,-333.9592\"/>\n",
       "</g>\n",
       "<!-- 37 -->\n",
       "<g id=\"node38\" class=\"node\">\n",
       "<title>37</title>\n",
       "<polygon fill=\"none\" stroke=\"#ffffff\" points=\"832,-324 778,-324 778,-288 832,-288 832,-324\"/>\n",
       "<text text-anchor=\"middle\" x=\"805\" y=\"-302.3\" font-family=\"'Fira Mono', 'Source Code Pro', 'Courier', monospace\" font-size=\"14.00\" fill=\"#0060a0\">&lt;gt&gt;</text>\n",
       "</g>\n",
       "<!-- 24&#45;&gt;37 -->\n",
       "<g id=\"edge37\" class=\"edge\">\n",
       "<title>24&#45;&gt;37</title>\n",
       "<path fill=\"none\" stroke=\"#000000\" d=\"M692.1037,-359.8314C715.6009,-348.6274 745.5634,-334.3406 768.7156,-323.3012\"/>\n",
       "<polygon fill=\"#000000\" stroke=\"#000000\" points=\"770.3426,-326.403 777.8626,-318.9397 767.3297,-320.0845 770.3426,-326.403\"/>\n",
       "</g>\n",
       "<!-- 26 -->\n",
       "<g id=\"node27\" class=\"node\">\n",
       "<title>26</title>\n",
       "<polygon fill=\"none\" stroke=\"#ffffff\" points=\"609,-252 555,-252 555,-216 609,-216 609,-252\"/>\n",
       "<text text-anchor=\"middle\" x=\"582\" y=\"-230.3\" font-family=\"'Fira Mono', 'Source Code Pro', 'Courier', monospace\" font-size=\"14.00\" fill=\"#0060a0\">&lt;</text>\n",
       "</g>\n",
       "<!-- 25&#45;&gt;26 -->\n",
       "<g id=\"edge26\" class=\"edge\">\n",
       "<title>25&#45;&gt;26</title>\n",
       "<path fill=\"none\" stroke=\"#000000\" d=\"M582,-287.8314C582,-280.131 582,-270.9743 582,-262.4166\"/>\n",
       "<polygon fill=\"#000000\" stroke=\"#000000\" points=\"585.5001,-262.4132 582,-252.4133 578.5001,-262.4133 585.5001,-262.4132\"/>\n",
       "</g>\n",
       "<!-- 29 -->\n",
       "<g id=\"node30\" class=\"node\">\n",
       "<title>29</title>\n",
       "<polygon fill=\"none\" stroke=\"#ffffff\" points=\"681,-252 627,-252 627,-216 681,-216 681,-252\"/>\n",
       "<text text-anchor=\"middle\" x=\"654\" y=\"-230.3\" font-family=\"'Fira Mono', 'Source Code Pro', 'Courier', monospace\" font-size=\"14.00\" fill=\"#0060a0\">&lt;id&gt;</text>\n",
       "</g>\n",
       "<!-- 28&#45;&gt;29 -->\n",
       "<g id=\"edge29\" class=\"edge\">\n",
       "<title>28&#45;&gt;29</title>\n",
       "<path fill=\"none\" stroke=\"#000000\" d=\"M707.8314,-287.8314C699.2848,-279.2848 688.9443,-268.9443 679.6198,-259.6198\"/>\n",
       "<polygon fill=\"#000000\" stroke=\"#000000\" points=\"681.9592,-257.0095 672.4133,-252.4133 677.0095,-261.9592 681.9592,-257.0095\"/>\n",
       "</g>\n",
       "<!-- 35 -->\n",
       "<g id=\"node36\" class=\"node\">\n",
       "<title>35</title>\n",
       "<polygon fill=\"none\" stroke=\"#ffffff\" points=\"767,-252 699,-252 699,-216 767,-216 767,-252\"/>\n",
       "<text text-anchor=\"middle\" x=\"733\" y=\"-230.3\" font-family=\"'Fira Mono', 'Source Code Pro', 'Courier', monospace\" font-size=\"14.00\" fill=\"#0060a0\">&lt;letter&gt;</text>\n",
       "</g>\n",
       "<!-- 28&#45;&gt;35 -->\n",
       "<g id=\"edge35\" class=\"edge\">\n",
       "<title>28&#45;&gt;35</title>\n",
       "<path fill=\"none\" stroke=\"#000000\" d=\"M727.7664,-287.8314C728.515,-280.131 729.4053,-270.9743 730.2373,-262.4166\"/>\n",
       "<polygon fill=\"#000000\" stroke=\"#000000\" points=\"733.7256,-262.7051 731.2098,-252.4133 726.7585,-262.0276 733.7256,-262.7051\"/>\n",
       "</g>\n",
       "<!-- 30 -->\n",
       "<g id=\"node31\" class=\"node\">\n",
       "<title>30</title>\n",
       "<polygon fill=\"none\" stroke=\"#ffffff\" points=\"602,-180 548,-180 548,-144 602,-144 602,-180\"/>\n",
       "<text text-anchor=\"middle\" x=\"575\" y=\"-158.3\" font-family=\"'Fira Mono', 'Source Code Pro', 'Courier', monospace\" font-size=\"14.00\" fill=\"#0060a0\">&lt;id&gt;</text>\n",
       "</g>\n",
       "<!-- 29&#45;&gt;30 -->\n",
       "<g id=\"edge30\" class=\"edge\">\n",
       "<title>29&#45;&gt;30</title>\n",
       "<path fill=\"none\" stroke=\"#000000\" d=\"M634.065,-215.8314C624.5217,-207.1337 612.9401,-196.5783 602.5694,-187.1265\"/>\n",
       "<polygon fill=\"#000000\" stroke=\"#000000\" points=\"604.6772,-184.3121 594.9287,-180.1628 599.962,-189.4857 604.6772,-184.3121\"/>\n",
       "</g>\n",
       "<!-- 33 -->\n",
       "<g id=\"node34\" class=\"node\">\n",
       "<title>33</title>\n",
       "<polygon fill=\"none\" stroke=\"#ffffff\" points=\"688,-180 620,-180 620,-144 688,-144 688,-180\"/>\n",
       "<text text-anchor=\"middle\" x=\"654\" y=\"-158.3\" font-family=\"'Fira Mono', 'Source Code Pro', 'Courier', monospace\" font-size=\"14.00\" fill=\"#0060a0\">&lt;letter&gt;</text>\n",
       "</g>\n",
       "<!-- 29&#45;&gt;33 -->\n",
       "<g id=\"edge33\" class=\"edge\">\n",
       "<title>29&#45;&gt;33</title>\n",
       "<path fill=\"none\" stroke=\"#000000\" d=\"M654,-215.8314C654,-208.131 654,-198.9743 654,-190.4166\"/>\n",
       "<polygon fill=\"#000000\" stroke=\"#000000\" points=\"657.5001,-190.4132 654,-180.4133 650.5001,-190.4133 657.5001,-190.4132\"/>\n",
       "</g>\n",
       "<!-- 31 -->\n",
       "<g id=\"node32\" class=\"node\">\n",
       "<title>31</title>\n",
       "<polygon fill=\"none\" stroke=\"#ffffff\" points=\"609,-108 541,-108 541,-72 609,-72 609,-108\"/>\n",
       "<text text-anchor=\"middle\" x=\"575\" y=\"-86.3\" font-family=\"'Fira Mono', 'Source Code Pro', 'Courier', monospace\" font-size=\"14.00\" fill=\"#0060a0\">&lt;letter&gt;</text>\n",
       "</g>\n",
       "<!-- 30&#45;&gt;31 -->\n",
       "<g id=\"edge31\" class=\"edge\">\n",
       "<title>30&#45;&gt;31</title>\n",
       "<path fill=\"none\" stroke=\"#000000\" d=\"M575,-143.8314C575,-136.131 575,-126.9743 575,-118.4166\"/>\n",
       "<polygon fill=\"#000000\" stroke=\"#000000\" points=\"578.5001,-118.4132 575,-108.4133 571.5001,-118.4133 578.5001,-118.4132\"/>\n",
       "</g>\n",
       "<!-- 32 -->\n",
       "<g id=\"node33\" class=\"node\">\n",
       "<title>32</title>\n",
       "<polygon fill=\"none\" stroke=\"#ffffff\" points=\"602,-36 548,-36 548,0 602,0 602,-36\"/>\n",
       "<text text-anchor=\"middle\" x=\"575\" y=\"-14.3\" font-family=\"'Fira Mono', 'Source Code Pro', 'Courier', monospace\" font-size=\"14.00\" fill=\"#00a060\">f</text>\n",
       "</g>\n",
       "<!-- 31&#45;&gt;32 -->\n",
       "<g id=\"edge32\" class=\"edge\">\n",
       "<title>31&#45;&gt;32</title>\n",
       "<path fill=\"none\" stroke=\"#000000\" d=\"M575,-71.8314C575,-64.131 575,-54.9743 575,-46.4166\"/>\n",
       "<polygon fill=\"#000000\" stroke=\"#000000\" points=\"578.5001,-46.4132 575,-36.4133 571.5001,-46.4133 578.5001,-46.4132\"/>\n",
       "</g>\n",
       "<!-- 34 -->\n",
       "<g id=\"node35\" class=\"node\">\n",
       "<title>34</title>\n",
       "<polygon fill=\"none\" stroke=\"#ffffff\" points=\"681,-108 627,-108 627,-72 681,-72 681,-108\"/>\n",
       "<text text-anchor=\"middle\" x=\"654\" y=\"-86.3\" font-family=\"'Fira Mono', 'Source Code Pro', 'Courier', monospace\" font-size=\"14.00\" fill=\"#00a060\">o</text>\n",
       "</g>\n",
       "<!-- 33&#45;&gt;34 -->\n",
       "<g id=\"edge34\" class=\"edge\">\n",
       "<title>33&#45;&gt;34</title>\n",
       "<path fill=\"none\" stroke=\"#000000\" d=\"M654,-143.8314C654,-136.131 654,-126.9743 654,-118.4166\"/>\n",
       "<polygon fill=\"#000000\" stroke=\"#000000\" points=\"657.5001,-118.4132 654,-108.4133 650.5001,-118.4133 657.5001,-118.4132\"/>\n",
       "</g>\n",
       "<!-- 36 -->\n",
       "<g id=\"node37\" class=\"node\">\n",
       "<title>36</title>\n",
       "<polygon fill=\"none\" stroke=\"#ffffff\" points=\"760,-180 706,-180 706,-144 760,-144 760,-180\"/>\n",
       "<text text-anchor=\"middle\" x=\"733\" y=\"-158.3\" font-family=\"'Fira Mono', 'Source Code Pro', 'Courier', monospace\" font-size=\"14.00\" fill=\"#00a060\">o</text>\n",
       "</g>\n",
       "<!-- 35&#45;&gt;36 -->\n",
       "<g id=\"edge36\" class=\"edge\">\n",
       "<title>35&#45;&gt;36</title>\n",
       "<path fill=\"none\" stroke=\"#000000\" d=\"M733,-215.8314C733,-208.131 733,-198.9743 733,-190.4166\"/>\n",
       "<polygon fill=\"#000000\" stroke=\"#000000\" points=\"736.5001,-190.4132 733,-180.4133 729.5001,-190.4133 736.5001,-190.4132\"/>\n",
       "</g>\n",
       "<!-- 38 -->\n",
       "<g id=\"node39\" class=\"node\">\n",
       "<title>38</title>\n",
       "<polygon fill=\"none\" stroke=\"#ffffff\" points=\"839,-252 785,-252 785,-216 839,-216 839,-252\"/>\n",
       "<text text-anchor=\"middle\" x=\"812\" y=\"-230.3\" font-family=\"'Fira Mono', 'Source Code Pro', 'Courier', monospace\" font-size=\"14.00\" fill=\"#00a060\">&gt;</text>\n",
       "</g>\n",
       "<!-- 37&#45;&gt;38 -->\n",
       "<g id=\"edge38\" class=\"edge\">\n",
       "<title>37&#45;&gt;38</title>\n",
       "<path fill=\"none\" stroke=\"#000000\" d=\"M806.7664,-287.8314C807.515,-280.131 808.4053,-270.9743 809.2373,-262.4166\"/>\n",
       "<polygon fill=\"#000000\" stroke=\"#000000\" points=\"812.7256,-262.7051 810.2098,-252.4133 805.7585,-262.0276 812.7256,-262.7051\"/>\n",
       "</g>\n",
       "</g>\n",
       "</svg>\n"
      ],
      "text/plain": [
       "<graphviz.dot.Digraph at 0x7fc9450ad908>"
      ]
     },
     "execution_count": 1,
     "metadata": {},
     "output_type": "execute_result"
    }
   ],
   "source": [
    "mutated_tree = cast(TreeMutator, bad_input_tree_mutator()).mutate([0, 0, 1, 0])\n",
    "display_tree(mutated_tree)"
   ]
  },
  {
   "cell_type": "markdown",
   "metadata": {
    "slideshow": {
     "slide_type": "fragment"
    }
   },
   "source": [
    "We see that the `<plain-text>` subtree is now different, which also becomes evident in the string representation."
   ]
  },
  {
   "cell_type": "code",
   "execution_count": 56,
   "metadata": {
    "execution": {
     "iopub.execute_input": "2021-03-09T12:01:52.077603Z",
     "iopub.status.busy": "2021-03-09T12:01:52.077041Z",
     "iopub.status.idle": "2021-03-09T12:01:52.079122Z",
     "shell.execute_reply": "2021-03-09T12:01:52.079490Z"
    },
    "slideshow": {
     "slide_type": "fragment"
    }
   },
   "outputs": [
    {
     "data": {
      "text/plain": [
       "'<foo> </foo>'"
      ]
     },
     "execution_count": 1,
     "metadata": {},
     "output_type": "execute_result"
    }
   ],
   "source": [
    "tree_to_string(mutated_tree)"
   ]
  },
  {
   "cell_type": "markdown",
   "metadata": {
    "slideshow": {
     "slide_type": "slide"
    }
   },
   "source": [
    "## Generalizing Trees\n",
    "\n",
    "Now for the main part – finding out which parts of a tree can be generalized. Our idea is to _test_ a finite number of mutations to a subtree (say, 10). If all of these tests fail as well, then we assume we can generalize the subtree to a placeholder."
   ]
  },
  {
   "cell_type": "markdown",
   "metadata": {
    "slideshow": {
     "slide_type": "fragment"
    }
   },
   "source": [
    "We introduce a class `TreeGeneralizer` for this purpose. On top of `grammar` and `tree` already used for the `TreeMutator` constructor, the `TreeGeneralizer` also takes a `test` function."
   ]
  },
  {
   "cell_type": "code",
   "execution_count": 57,
   "metadata": {
    "execution": {
     "iopub.execute_input": "2021-03-09T12:01:52.083722Z",
     "iopub.status.busy": "2021-03-09T12:01:52.083203Z",
     "iopub.status.idle": "2021-03-09T12:01:52.084913Z",
     "shell.execute_reply": "2021-03-09T12:01:52.085284Z"
    },
    "slideshow": {
     "slide_type": "subslide"
    }
   },
   "outputs": [],
   "source": [
    "class TreeGeneralizer(TreeMutator):\n",
    "    \"\"\"Determine which parts of a derivation tree can be generalized.\"\"\"\n",
    "\n",
    "    def __init__(self, grammar: Grammar, tree: DerivationTree, test: Callable,\n",
    "                 max_tries_for_generalization: int = 10, **kwargs: Any) -> None:\n",
    "        \"\"\"\n",
    "        Constructor. `grammar` and `tree` are as in `TreeMutator`.\n",
    "        `test` is a function taking a string that either\n",
    "          * raises an exception, indicating test failure;\n",
    "          * or not, indicating test success.\n",
    "        `max_tries_for_generalization` is the number of times\n",
    "        an instantiation has to fail before it is generalized.\n",
    "        \"\"\"\n",
    "\n",
    "        super().__init__(grammar, tree, **kwargs)\n",
    "        self.test = test\n",
    "        self.max_tries_for_generalization = max_tries_for_generalization"
   ]
  },
  {
   "cell_type": "markdown",
   "metadata": {
    "slideshow": {
     "slide_type": "subslide"
    }
   },
   "source": [
    "The `test` function is used in `test_tree()`, returning `False` if the test fails (raising an exception), and `True` if the test passes (no exception)."
   ]
  },
  {
   "cell_type": "code",
   "execution_count": 58,
   "metadata": {
    "execution": {
     "iopub.execute_input": "2021-03-09T12:01:52.089733Z",
     "iopub.status.busy": "2021-03-09T12:01:52.089217Z",
     "iopub.status.idle": "2021-03-09T12:01:52.090799Z",
     "shell.execute_reply": "2021-03-09T12:01:52.091168Z"
    },
    "slideshow": {
     "slide_type": "subslide"
    }
   },
   "outputs": [],
   "source": [
    "class TreeGeneralizer(TreeGeneralizer):\n",
    "    def test_tree(self, tree: DerivationTree) -> bool:\n",
    "        \"\"\"Return True if testing `tree` passes, else False\"\"\"\n",
    "        s = tree_to_string(tree)\n",
    "        if self.log:\n",
    "            print(f\"Testing {repr(s)}...\", end=\"\")\n",
    "        try:\n",
    "            self.test(s)\n",
    "        except Exception as exc:\n",
    "            if self.log:\n",
    "                print(f\"FAIL ({type(exc).__name__})\")\n",
    "            ret = False\n",
    "        else:\n",
    "            if self.log:\n",
    "                print(f\"PASS\")\n",
    "            ret = True\n",
    "\n",
    "        return ret"
   ]
  },
  {
   "cell_type": "markdown",
   "metadata": {
    "slideshow": {
     "slide_type": "subslide"
    }
   },
   "source": [
    "### Testing for Generalization\n",
    "\n",
    "The `can_generalize()` method brings the above methods together. It creates a number of tree mutations at the given path, and returns True if all of them produce a failure. (Note that this is not as sophisticated as our [delta debugger](DeltaDebugger.ipynb) implementation, which also checks that the _same_ error occurs.)"
   ]
  },
  {
   "cell_type": "code",
   "execution_count": 59,
   "metadata": {
    "execution": {
     "iopub.execute_input": "2021-03-09T12:01:52.095182Z",
     "iopub.status.busy": "2021-03-09T12:01:52.094659Z",
     "iopub.status.idle": "2021-03-09T12:01:52.096263Z",
     "shell.execute_reply": "2021-03-09T12:01:52.096634Z"
    },
    "slideshow": {
     "slide_type": "subslide"
    }
   },
   "outputs": [],
   "source": [
    "class TreeGeneralizer(TreeGeneralizer):\n",
    "    def can_generalize(self, path: TreePath, tree: Optional[DerivationTree] = None) -> bool:\n",
    "        \"\"\"Return True if the subtree at `path` can be generalized.\"\"\"\n",
    "        for i in range(self.max_tries_for_generalization):\n",
    "            mutated_tree = self.mutate(path, tree)\n",
    "            if self.test_tree(mutated_tree):\n",
    "                # Failure no longer occurs; cannot abstract\n",
    "                return False\n",
    "\n",
    "        return True"
   ]
  },
  {
   "cell_type": "markdown",
   "metadata": {
    "slideshow": {
     "slide_type": "fragment"
    }
   },
   "source": [
    "Let us put `TreeGeneralizer` into action. We can directly use `remove_html_markup()` as test function."
   ]
  },
  {
   "cell_type": "code",
   "execution_count": 60,
   "metadata": {
    "execution": {
     "iopub.execute_input": "2021-03-09T12:01:52.099756Z",
     "iopub.status.busy": "2021-03-09T12:01:52.099242Z",
     "iopub.status.idle": "2021-03-09T12:01:52.100824Z",
     "shell.execute_reply": "2021-03-09T12:01:52.101295Z"
    },
    "slideshow": {
     "slide_type": "fragment"
    }
   },
   "outputs": [],
   "source": [
    "def bad_input_tree_generalizer(**kwargs: Any) -> TreeGeneralizer:\n",
    "    return TreeGeneralizer(SIMPLE_HTML_GRAMMAR, bad_input_tree,\n",
    "                           remove_html_markup, **kwargs)"
   ]
  },
  {
   "cell_type": "markdown",
   "metadata": {
    "slideshow": {
     "slide_type": "subslide"
    }
   },
   "source": [
    "On our `BAD_INPUT` (and its tree), can we generalize the root `<html>` node? In other words, does the failure occur for all possible `<html>` inputs?"
   ]
  },
  {
   "cell_type": "code",
   "execution_count": 61,
   "metadata": {
    "execution": {
     "iopub.execute_input": "2021-03-09T12:01:52.105535Z",
     "iopub.status.busy": "2021-03-09T12:01:52.104976Z",
     "iopub.status.idle": "2021-03-09T12:01:52.107553Z",
     "shell.execute_reply": "2021-03-09T12:01:52.107918Z"
    },
    "slideshow": {
     "slide_type": "fragment"
    }
   },
   "outputs": [
    {
     "name": "stdout",
     "output_type": "stream",
     "text": [
      "Testing ''...PASS\n"
     ]
    },
    {
     "data": {
      "text/plain": [
       "False"
      ]
     },
     "execution_count": 1,
     "metadata": {},
     "output_type": "execute_result"
    }
   ],
   "source": [
    "bad_input_tree_generalizer(log=True).can_generalize([0])"
   ]
  },
  {
   "cell_type": "markdown",
   "metadata": {
    "slideshow": {
     "slide_type": "fragment"
    }
   },
   "source": [
    "The answer is no. The first alternative passes the test; hence no generalization."
   ]
  },
  {
   "cell_type": "markdown",
   "metadata": {
    "slideshow": {
     "slide_type": "fragment"
    }
   },
   "source": [
    "How about the middle `<plain_text>` part? Can we generalize this?"
   ]
  },
  {
   "cell_type": "code",
   "execution_count": 62,
   "metadata": {
    "execution": {
     "iopub.execute_input": "2021-03-09T12:01:52.112931Z",
     "iopub.status.busy": "2021-03-09T12:01:52.112327Z",
     "iopub.status.idle": "2021-03-09T12:01:52.114997Z",
     "shell.execute_reply": "2021-03-09T12:01:52.115363Z"
    },
    "slideshow": {
     "slide_type": "fragment"
    }
   },
   "outputs": [
    {
     "name": "stdout",
     "output_type": "stream",
     "text": [
      "Testing '<foo>/Ie</foo>'...PASS\n"
     ]
    },
    {
     "data": {
      "text/plain": [
       "False"
      ]
     },
     "execution_count": 1,
     "metadata": {},
     "output_type": "execute_result"
    }
   ],
   "source": [
    "bad_input_tree_generalizer(log=True).can_generalize([0, 0, 1, 0])"
   ]
  },
  {
   "cell_type": "markdown",
   "metadata": {
    "slideshow": {
     "slide_type": "fragment"
    }
   },
   "source": [
    "The answer is no – just as above."
   ]
  },
  {
   "cell_type": "markdown",
   "metadata": {
    "slideshow": {
     "slide_type": "subslide"
    }
   },
   "source": [
    "How about the closing tag? Can we generalize this one?"
   ]
  },
  {
   "cell_type": "code",
   "execution_count": 63,
   "metadata": {
    "execution": {
     "iopub.execute_input": "2021-03-09T12:01:52.139123Z",
     "iopub.status.busy": "2021-03-09T12:01:52.138556Z",
     "iopub.status.idle": "2021-03-09T12:01:52.146112Z",
     "shell.execute_reply": "2021-03-09T12:01:52.145726Z"
    },
    "slideshow": {
     "slide_type": "fragment"
    }
   },
   "outputs": [
    {
     "name": "stdout",
     "output_type": "stream",
     "text": [
      "Testing '<foo>\"bar</kz35Z9>'...FAIL (AssertionError)\n",
      "Testing '<foo>\"bar</Q4>'...FAIL (AssertionError)\n",
      "Testing '<foo>\"bar</N68Px6>'...FAIL (AssertionError)\n",
      "Testing '<foo>\"bar</E>'...FAIL (AssertionError)\n",
      "Testing '<foo>\"bar</o>'...FAIL (AssertionError)\n",
      "Testing '<foo>\"bar</C>'...FAIL (AssertionError)\n",
      "Testing '<foo>\"bar</W>'...FAIL (AssertionError)\n",
      "Testing '<foo>\"bar</Y>'...FAIL (AssertionError)\n",
      "Testing '<foo>\"bar</l37>'...FAIL (AssertionError)\n",
      "Testing '<foo>\"bar</Hfi3>'...FAIL (AssertionError)\n"
     ]
    },
    {
     "data": {
      "text/plain": [
       "True"
      ]
     },
     "execution_count": 1,
     "metadata": {},
     "output_type": "execute_result"
    }
   ],
   "source": [
    "bad_input_tree_generalizer(log=True).can_generalize([0, 0, 2])"
   ]
  },
  {
   "cell_type": "markdown",
   "metadata": {
    "slideshow": {
     "slide_type": "subslide"
    }
   },
   "source": [
    "Yes, we can! All alternate instantiations of `<closing-tag>` result in a failure."
   ]
  },
  {
   "cell_type": "code",
   "execution_count": 64,
   "metadata": {
    "execution": {
     "iopub.execute_input": "2021-03-09T12:01:52.151149Z",
     "iopub.status.busy": "2021-03-09T12:01:52.150560Z",
     "iopub.status.idle": "2021-03-09T12:01:52.152783Z",
     "shell.execute_reply": "2021-03-09T12:01:52.153221Z"
    },
    "slideshow": {
     "slide_type": "fragment"
    }
   },
   "outputs": [
    {
     "data": {
      "text/html": [
       "\n",
       "    \n",
       "    <script>\n",
       "    var bad_answers = new Map();\n",
       "\n",
       "    function answer(quiz_id) {\n",
       "        ans = 0;\n",
       "        for (i = 1;; i++) {\n",
       "            checkbox = document.getElementById(quiz_id + \"-\" + i.toString());\n",
       "            if (!checkbox)\n",
       "                break;\n",
       "            if (checkbox.checked)\n",
       "                ans |= (1 << i);\n",
       "        }\n",
       "        return ans;\n",
       "    }\n",
       "    function check_selection(quiz_id, correct_answer, multiple_choice, hint) {\n",
       "        given_answer = answer(quiz_id);\n",
       "        if (given_answer == correct_answer)\n",
       "        {\n",
       "            document.getElementById(quiz_id + \"-submit\").value = \"Correct!\";\n",
       "            document.getElementById(quiz_id + \"-hint\").innerHTML = \"\";\n",
       "\n",
       "            for (i = 1;; i++) {\n",
       "                checkbox = document.getElementById(quiz_id + \"-\" + i.toString());\n",
       "                label = document.getElementById(quiz_id + \"-\" + i.toString() + \"-label\")\n",
       "                if (!checkbox)\n",
       "                    break;\n",
       "    \n",
       "                if (checkbox.checked) {\n",
       "                    label.style.fontWeight = \"bold\";\n",
       "                }\n",
       "                else {\n",
       "                    label.style.textDecoration = \"line-through\";\n",
       "                }\n",
       "            }\n",
       "        }\n",
       "        else \n",
       "        {\n",
       "            document.getElementById(quiz_id + \"-submit\").value = \"Try again\";\n",
       "            \n",
       "            if (!bad_answers.has(quiz_id)) {\n",
       "                bad_answers.set(quiz_id, 1);\n",
       "            }\n",
       "            else {\n",
       "                bad_answers.set(quiz_id, bad_answers.get(quiz_id) + 1);\n",
       "            }\n",
       "\n",
       "            if (bad_answers.get(quiz_id) >= 2 && hint.length > 0) {\n",
       "                document.getElementById(quiz_id + \"-hint\").innerHTML = \n",
       "                    \"&nbsp;&nbsp;(Hint: <code>\" + hint + \"</code>)\";\n",
       "            }\n",
       "\n",
       "            if (!multiple_choice) {\n",
       "                for (i = 1;; i++) {\n",
       "                    checkbox = document.getElementById(quiz_id + \"-\" + i.toString());\n",
       "                    label = document.getElementById(quiz_id + \"-\" + i.toString() + \"-label\")\n",
       "\n",
       "                    if (!checkbox)\n",
       "                        break;\n",
       "                    if (checkbox.checked) {\n",
       "                        label.style.textDecoration = \"line-through\";\n",
       "                    }\n",
       "                }\n",
       "            }\n",
       "        }\n",
       "    }\n",
       "    function clear_selection(quiz_id) {\n",
       "        document.getElementById(quiz_id + \"-submit\").value = \"Submit\";\n",
       "        document.getElementById(quiz_id + \"-hint\").innerHTML = \"\";\n",
       "    }\n",
       "    </script>\n",
       "    \n",
       "    <div class=\"quiz\">\n",
       "    <h3 class=\"quiz_title\">Quiz</h3>\n",
       "    <p>\n",
       "    <div class=\"quiz_question\">Is this also true for <code>&lt;opening-tag&gt;</code>?</div>\n",
       "    </p>\n",
       "    <p>\n",
       "    <div class=\"quiz_options\" title=\"Pick a choice.\">\n",
       "    \n",
       "        <input type=\"radio\" name=\"3c32cbe2-80cf-11eb-9199-acde48001122\" id=\"3c32cbe2-80cf-11eb-9199-acde48001122-1\" onclick=\"clear_selection('3c32cbe2-80cf-11eb-9199-acde48001122')\">\n",
       "        <label id=\"3c32cbe2-80cf-11eb-9199-acde48001122-1-label\" for=\"3c32cbe2-80cf-11eb-9199-acde48001122-1\">Yes</label><br>\n",
       "    \n",
       "        <input type=\"radio\" name=\"3c32cbe2-80cf-11eb-9199-acde48001122\" id=\"3c32cbe2-80cf-11eb-9199-acde48001122-2\" onclick=\"clear_selection('3c32cbe2-80cf-11eb-9199-acde48001122')\">\n",
       "        <label id=\"3c32cbe2-80cf-11eb-9199-acde48001122-2-label\" for=\"3c32cbe2-80cf-11eb-9199-acde48001122-2\">No</label><br>\n",
       "    \n",
       "    </div>\n",
       "    </p>\n",
       "    <input id=\"3c32cbe2-80cf-11eb-9199-acde48001122-submit\" type=\"submit\" value=\"Submit\" onclick=\"check_selection('3c32cbe2-80cf-11eb-9199-acde48001122', 4, 0, '(&quot;No&quot; == &quot;No&quot;) + (&quot;No&quot; is &quot;No&quot;)')\">\n",
       "    <span class=\"quiz_hint\" id=\"3c32cbe2-80cf-11eb-9199-acde48001122-hint\"></span>\n",
       "    </div>\n",
       "    "
      ],
      "text/plain": [
       "<IPython.core.display.HTML object>"
      ]
     },
     "execution_count": 1,
     "metadata": {},
     "output_type": "execute_result"
    }
   ],
   "source": [
    "quiz(\"Is this also true for `<opening-tag>`?\",\n",
    "     [\n",
    "         \"Yes\",\n",
    "         \"No\"\n",
    "     ], '(\"No\" == \"No\") + (\"No\" is \"No\")')"
   ]
  },
  {
   "cell_type": "markdown",
   "metadata": {
    "slideshow": {
     "slide_type": "fragment"
    }
   },
   "source": [
    "Note that the above does not hold for `<opening-tag>`. If the attribute value contains a quote character, it will extend to the end of the input. This is another error, but not caught by our assertion; hence, the input will be flagged as passing:"
   ]
  },
  {
   "cell_type": "code",
   "execution_count": 65,
   "metadata": {
    "execution": {
     "iopub.execute_input": "2021-03-09T12:01:52.156153Z",
     "iopub.status.busy": "2021-03-09T12:01:52.155642Z",
     "iopub.status.idle": "2021-03-09T12:01:52.157203Z",
     "shell.execute_reply": "2021-03-09T12:01:52.157585Z"
    },
    "slideshow": {
     "slide_type": "fragment"
    }
   },
   "outputs": [],
   "source": [
    "BAD_ATTR_INPUT = '<foo attr=\"\\'\">bar</foo>'"
   ]
  },
  {
   "cell_type": "code",
   "execution_count": 66,
   "metadata": {
    "execution": {
     "iopub.execute_input": "2021-03-09T12:01:52.160493Z",
     "iopub.status.busy": "2021-03-09T12:01:52.159954Z",
     "iopub.status.idle": "2021-03-09T12:01:52.161913Z",
     "shell.execute_reply": "2021-03-09T12:01:52.162281Z"
    },
    "slideshow": {
     "slide_type": "fragment"
    }
   },
   "outputs": [
    {
     "data": {
      "text/plain": [
       "''"
      ]
     },
     "execution_count": 1,
     "metadata": {},
     "output_type": "execute_result"
    }
   ],
   "source": [
    "remove_html_markup(BAD_ATTR_INPUT)"
   ]
  },
  {
   "cell_type": "markdown",
   "metadata": {
    "slideshow": {
     "slide_type": "subslide"
    }
   },
   "source": [
    "The effect of this is that there are patterns for `<opening-tag>` which do not cause the failure to occur; hence, `<opening-tag>` is not a fully valid generalization."
   ]
  },
  {
   "cell_type": "markdown",
   "metadata": {
    "slideshow": {
     "slide_type": "fragment"
    }
   },
   "source": [
    "This, however, becomes apparent only if one of our generated tests includes a quote character in the attribute value. Since quote characters are as likely (or as unlikely) to appear as other characters, this effect may not become apparent in our default 10 tests:"
   ]
  },
  {
   "cell_type": "code",
   "execution_count": 67,
   "metadata": {
    "execution": {
     "iopub.execute_input": "2021-03-09T12:01:52.185225Z",
     "iopub.status.busy": "2021-03-09T12:01:52.184633Z",
     "iopub.status.idle": "2021-03-09T12:01:52.186833Z",
     "shell.execute_reply": "2021-03-09T12:01:52.187207Z"
    },
    "slideshow": {
     "slide_type": "fragment"
    }
   },
   "outputs": [
    {
     "data": {
      "text/plain": [
       "True"
      ]
     },
     "execution_count": 1,
     "metadata": {},
     "output_type": "execute_result"
    }
   ],
   "source": [
    "bad_input_tree_generalizer().can_generalize([0, 0, 0])"
   ]
  },
  {
   "cell_type": "markdown",
   "metadata": {
    "slideshow": {
     "slide_type": "fragment"
    }
   },
   "source": [
    "It will become apparent, however, as we increase the number of tests:"
   ]
  },
  {
   "cell_type": "code",
   "execution_count": 68,
   "metadata": {
    "execution": {
     "iopub.execute_input": "2021-03-09T12:01:52.231807Z",
     "iopub.status.busy": "2021-03-09T12:01:52.214057Z",
     "iopub.status.idle": "2021-03-09T12:01:52.259292Z",
     "shell.execute_reply": "2021-03-09T12:01:52.259792Z"
    },
    "slideshow": {
     "slide_type": "subslide"
    }
   },
   "outputs": [
    {
     "name": "stdout",
     "output_type": "stream",
     "text": [
      "Testing '<C25 a=\\';t\\' J=\"\">\"bar</foo>'...FAIL (AssertionError)\n",
      "Testing '<r>\"bar</foo>'...FAIL (AssertionError)\n",
      "Testing '<s>\"bar</foo>'...FAIL (AssertionError)\n",
      "Testing '<W43V>\"bar</foo>'...FAIL (AssertionError)\n",
      "Testing '<Yn Xa=\\'\\r\\' pk2=\\'\\' w2U7e=\"$\">\"bar</foo>'...FAIL (AssertionError)\n",
      "Testing '<w584 h9=\"\" O=\"\" j=\"\" y=\"\">\"bar</foo>'...FAIL (AssertionError)\n",
      "Testing '<Xd>\"bar</foo>'...FAIL (AssertionError)\n",
      "Testing '<J>\"bar</foo>'...FAIL (AssertionError)\n",
      "Testing '<tM69sbm5n n4H1546=\\'\\r_\\'>\"bar</foo>'...FAIL (AssertionError)\n",
      "Testing '<R>\"bar</foo>'...FAIL (AssertionError)\n",
      "Testing '<X>\"bar</foo>'...FAIL (AssertionError)\n",
      "Testing '<Ada np=\\'7\\' y7v=\\'\\'>\"bar</foo>'...FAIL (AssertionError)\n",
      "Testing '<B V=\\'\\'>\"bar</foo>'...FAIL (AssertionError)\n",
      "Testing '<K v=\"$\" s5F=\"\\x0b\" q=\"\" E=\\'\\'>\"bar</foo>'...FAIL (AssertionError)\n",
      "Testing '<Fcdt8 v7A4u=\\'.\\t\\'>\"bar</foo>'...FAIL (AssertionError)\n",
      "Testing '<s n=\"\">\"bar</foo>'...FAIL (AssertionError)\n",
      "Testing '<W>\"bar</foo>'...FAIL (AssertionError)\n",
      "Testing '<ap>\"bar</foo>'...FAIL (AssertionError)\n",
      "Testing '<B1>\"bar</foo>'...FAIL (AssertionError)\n",
      "Testing '<Q00wY M=\\'\\r \\'>\"bar</foo>'...FAIL (AssertionError)\n",
      "Testing '<O6 d7=\"\" H=\\'\\'>\"bar</foo>'...FAIL (AssertionError)\n",
      "Testing '<v1IH w=\"\" ZI=\"\" O=\"\">\"bar</foo>'...FAIL (AssertionError)\n",
      "Testing '<T1 w998=\\'a\\' j=\\'z\\n7\\'>\"bar</foo>'...FAIL (AssertionError)\n",
      "Testing '<Dnh1>\"bar</foo>'...FAIL (AssertionError)\n",
      "Testing '<D F9=\"\" x4=\\'\\' Hup=\\'7\\n\\'>\"bar</foo>'...FAIL (AssertionError)\n",
      "Testing '<l62E>\"bar</foo>'...FAIL (AssertionError)\n",
      "Testing '<k11 P8x5=\"\">\"bar</foo>'...FAIL (AssertionError)\n",
      "Testing '<V6LBVu>\"bar</foo>'...FAIL (AssertionError)\n",
      "Testing '<k9S>\"bar</foo>'...FAIL (AssertionError)\n",
      "Testing '<tU2J913 lQ6N=\\'\\' f=\\'*\\' V=\\'\\' b=\"\" l=\"\" G=\\'\\'>\"bar</foo>'...FAIL (AssertionError)\n",
      "Testing '<X O=\"U~\">\"bar</foo>'...FAIL (AssertionError)\n",
      "Testing '<q4 W=\\'\\' i=\\'aA9\\' I=\\'9\\'>\"bar</foo>'...FAIL (AssertionError)\n",
      "Testing '<HK>\"bar</foo>'...FAIL (AssertionError)\n",
      "Testing '<T>\"bar</foo>'...FAIL (AssertionError)\n",
      "Testing '<NJc j32=\"\\x0b\">\"bar</foo>'...FAIL (AssertionError)\n",
      "Testing '<G>\"bar</foo>'...FAIL (AssertionError)\n",
      "Testing '<w B=\"\\r\">\"bar</foo>'...FAIL (AssertionError)\n",
      "Testing '<Ac1>\"bar</foo>'...FAIL (AssertionError)\n",
      "Testing '<vB y2=\\'7x\\'\\'>\"bar</foo>'...PASS\n"
     ]
    },
    {
     "data": {
      "text/plain": [
       "False"
      ]
     },
     "execution_count": 1,
     "metadata": {},
     "output_type": "execute_result"
    }
   ],
   "source": [
    "bad_input_tree_generalizer(max_tries_for_generalization=100, log=True).can_generalize([0, 0, 0])"
   ]
  },
  {
   "cell_type": "markdown",
   "metadata": {
    "slideshow": {
     "slide_type": "subslide"
    }
   },
   "source": [
    "We see that our approach may _overgeneralize_ – producing a generalization that may be too lenient. In practice, this is not too much of a problem, as we would be interested in characterizing cases that trigger the failure, rather than characterizing a small subset that does not trigger the failure."
   ]
  },
  {
   "cell_type": "markdown",
   "metadata": {
    "slideshow": {
     "slide_type": "subslide"
    }
   },
   "source": [
    "### Generalizable Paths\n",
    "\n",
    "Using `can_generalize()`, we can devise a method `generalizable_paths()` that returns all paths in the tree that can be generalized."
   ]
  },
  {
   "cell_type": "code",
   "execution_count": 69,
   "metadata": {
    "execution": {
     "iopub.execute_input": "2021-03-09T12:01:52.267381Z",
     "iopub.status.busy": "2021-03-09T12:01:52.266765Z",
     "iopub.status.idle": "2021-03-09T12:01:52.268352Z",
     "shell.execute_reply": "2021-03-09T12:01:52.268823Z"
    },
    "slideshow": {
     "slide_type": "subslide"
    }
   },
   "outputs": [],
   "source": [
    "class TreeGeneralizer(TreeGeneralizer):\n",
    "    def find_paths(self, \n",
    "                   predicate: Callable[[TreePath, DerivationTree], bool], \n",
    "                   path: Optional[TreePath] = None, \n",
    "                   tree: Optional[DerivationTree] = None) -> List[TreePath]:\n",
    "        \"\"\"\n",
    "        Return a list of all paths for which `predicate` holds.\n",
    "        `predicate` is a function `predicate`(`path`, `tree`), where\n",
    "        `path` denotes a subtree in `tree`. If `predicate()` returns\n",
    "        True, `path` is included in the returned list.\n",
    "        \"\"\"\n",
    "\n",
    "        if path is None:\n",
    "            path = []\n",
    "        assert path is not None\n",
    "\n",
    "        if tree is None:\n",
    "            tree = self.tree\n",
    "        assert tree is not None\n",
    "\n",
    "        symbol, children = self.get_subtree(path)\n",
    "\n",
    "        if predicate(path, tree):\n",
    "            return [path]\n",
    "\n",
    "        paths = []\n",
    "        if children is not None:\n",
    "            for i, child in enumerate(children):\n",
    "                child_symbol, _ = child\n",
    "                if child_symbol in self.grammar:\n",
    "                    paths += self.find_paths(predicate, path + [i])\n",
    "\n",
    "        return paths\n",
    "\n",
    "    def generalizable_paths(self) -> List[TreePath]:\n",
    "        \"\"\"Return a list of all paths whose subtrees can be generalized.\"\"\"\n",
    "        return self.find_paths(self.can_generalize)"
   ]
  },
  {
   "cell_type": "markdown",
   "metadata": {
    "slideshow": {
     "slide_type": "subslide"
    }
   },
   "source": [
    "Here is `generalizable_paths()` in action. We obtain all (paths to) subtrees that can be generalized:"
   ]
  },
  {
   "cell_type": "code",
   "execution_count": 70,
   "metadata": {
    "execution": {
     "iopub.execute_input": "2021-03-09T12:01:52.309331Z",
     "iopub.status.busy": "2021-03-09T12:01:52.306971Z",
     "iopub.status.idle": "2021-03-09T12:01:52.311480Z",
     "shell.execute_reply": "2021-03-09T12:01:52.311981Z"
    },
    "slideshow": {
     "slide_type": "fragment"
    }
   },
   "outputs": [
    {
     "data": {
      "text/plain": [
       "[[0, 0, 0], [0, 0, 1, 0, 1, 0], [0, 0, 1, 0, 1, 1], [0, 0, 2]]"
      ]
     },
     "execution_count": 1,
     "metadata": {},
     "output_type": "execute_result"
    }
   ],
   "source": [
    "bad_input_generalizable_paths = \\\n",
    "    cast(TreeGeneralizer, bad_input_tree_generalizer()).generalizable_paths()\n",
    "bad_input_generalizable_paths"
   ]
  },
  {
   "cell_type": "markdown",
   "metadata": {
    "slideshow": {
     "slide_type": "fragment"
    }
   },
   "source": [
    "To convert these subtrees into abstract failure-inducing patterns, the method `generalize_path()` returns a copy of the tree with the subtree replaced by a nonterminal without children:"
   ]
  },
  {
   "cell_type": "code",
   "execution_count": 71,
   "metadata": {
    "execution": {
     "iopub.execute_input": "2021-03-09T12:01:52.317128Z",
     "iopub.status.busy": "2021-03-09T12:01:52.316588Z",
     "iopub.status.idle": "2021-03-09T12:01:52.318331Z",
     "shell.execute_reply": "2021-03-09T12:01:52.318706Z"
    },
    "slideshow": {
     "slide_type": "subslide"
    }
   },
   "outputs": [],
   "source": [
    "class TreeGeneralizer(TreeGeneralizer):\n",
    "    def generalize_path(self, path: TreePath, \n",
    "                        tree: Optional[DerivationTree] = None) -> DerivationTree:\n",
    "        \"\"\"Return a copy of the tree in which the subtree at `path`\n",
    "        is generalized (= replaced by a nonterminal without children)\"\"\"\n",
    "\n",
    "        if tree is None:\n",
    "            tree = self.tree\n",
    "        assert tree is not None\n",
    "\n",
    "        symbol, children = tree\n",
    "\n",
    "        if not path or children is None:\n",
    "            return symbol, None  # Nonterminal without children\n",
    "\n",
    "        head = path[0]\n",
    "        new_children = (children[:head] +\n",
    "                        [self.generalize_path(path[1:], children[head])] +\n",
    "                        children[head + 1:])\n",
    "        return symbol, new_children"
   ]
  },
  {
   "cell_type": "markdown",
   "metadata": {
    "slideshow": {
     "slide_type": "subslide"
    }
   },
   "source": [
    "The function `all_terminals()` expands these placeholders:"
   ]
  },
  {
   "cell_type": "code",
   "execution_count": 72,
   "metadata": {
    "execution": {
     "iopub.execute_input": "2021-03-09T12:01:52.323078Z",
     "iopub.status.busy": "2021-03-09T12:01:52.322550Z",
     "iopub.status.idle": "2021-03-09T12:01:52.324693Z",
     "shell.execute_reply": "2021-03-09T12:01:52.325063Z"
    },
    "slideshow": {
     "slide_type": "fragment"
    }
   },
   "outputs": [
    {
     "data": {
      "text/plain": [
       "'<opening-tag>\"bar<plain-text></foo>'"
      ]
     },
     "execution_count": 1,
     "metadata": {},
     "output_type": "execute_result"
    }
   ],
   "source": [
    "all_terminals(cast(TreeGeneralizer, bad_input_tree_generalizer()).generalize_path([0, 0, 0]))"
   ]
  },
  {
   "cell_type": "markdown",
   "metadata": {
    "slideshow": {
     "slide_type": "fragment"
    }
   },
   "source": [
    "Finally, the method `generalize()` obtains a tree in which all generalizable paths actually are generalized:"
   ]
  },
  {
   "cell_type": "code",
   "execution_count": 73,
   "metadata": {
    "execution": {
     "iopub.execute_input": "2021-03-09T12:01:52.329001Z",
     "iopub.status.busy": "2021-03-09T12:01:52.328473Z",
     "iopub.status.idle": "2021-03-09T12:01:52.330143Z",
     "shell.execute_reply": "2021-03-09T12:01:52.330524Z"
    },
    "slideshow": {
     "slide_type": "subslide"
    }
   },
   "outputs": [],
   "source": [
    "class TreeGeneralizer(TreeGeneralizer):\n",
    "    def generalize(self) -> DerivationTree:\n",
    "        \"\"\"Returns a copy of the tree in which all generalizable subtrees\n",
    "        are generalized (= replaced by nonterminals without children)\"\"\"\n",
    "        tree = self.tree\n",
    "        assert tree is not None\n",
    "\n",
    "        for path in self.generalizable_paths():\n",
    "            tree = self.generalize_path(path, tree)\n",
    "\n",
    "        return tree"
   ]
  },
  {
   "cell_type": "code",
   "execution_count": 74,
   "metadata": {
    "execution": {
     "iopub.execute_input": "2021-03-09T12:01:52.367430Z",
     "iopub.status.busy": "2021-03-09T12:01:52.366785Z",
     "iopub.status.idle": "2021-03-09T12:01:52.368355Z",
     "shell.execute_reply": "2021-03-09T12:01:52.368793Z"
    },
    "slideshow": {
     "slide_type": "fragment"
    }
   },
   "outputs": [],
   "source": [
    "abstract_failure_inducing_input = cast(TreeGeneralizer, bad_input_tree_generalizer()).generalize()"
   ]
  },
  {
   "cell_type": "markdown",
   "metadata": {
    "slideshow": {
     "slide_type": "fragment"
    }
   },
   "source": [
    "This gives us the final generalization of `BAD_INPUT`. In the abstract failure-inducing input, all generalizable elements are generalized."
   ]
  },
  {
   "cell_type": "code",
   "execution_count": 75,
   "metadata": {
    "execution": {
     "iopub.execute_input": "2021-03-09T12:01:52.373103Z",
     "iopub.status.busy": "2021-03-09T12:01:52.372423Z",
     "iopub.status.idle": "2021-03-09T12:01:52.374909Z",
     "shell.execute_reply": "2021-03-09T12:01:52.375287Z"
    },
    "slideshow": {
     "slide_type": "subslide"
    }
   },
   "outputs": [
    {
     "data": {
      "text/plain": [
       "'<opening-tag>\"<plain-text><closing-tag>'"
      ]
     },
     "execution_count": 1,
     "metadata": {},
     "output_type": "execute_result"
    }
   ],
   "source": [
    "all_terminals(abstract_failure_inducing_input)"
   ]
  },
  {
   "cell_type": "markdown",
   "metadata": {
    "slideshow": {
     "slide_type": "fragment"
    }
   },
   "source": [
    "We see that to obtain the failure, it suffices to have an `<opening-tag>`, followed by a quote and (any) `<plain-text>` and (any) `<closing-tag>`. Clearly, all that it takes to produce the failure is to have a double quote in the plain text."
   ]
  },
  {
   "cell_type": "markdown",
   "metadata": {
    "slideshow": {
     "slide_type": "fragment"
    }
   },
   "source": [
    "Also note how this diagnosis was reached through _experiments_ only – just as with [delta debugging](DeltaDebugger.ipynb), we could treat the program under test as a black box. In contrast to delta debugging, however, we obtain an _abstraction_ that generalizes the circumstances under which a given failure occurs."
   ]
  },
  {
   "cell_type": "markdown",
   "metadata": {
    "slideshow": {
     "slide_type": "slide"
    }
   },
   "source": [
    "## Fuzzing with Patterns\n",
    "\n",
    "One neat side effect of abstract failure-inducing patterns is that they can be easily instantiated into further test cases, all set to reproduce the failure in question. This gives us a test suite we can later test our fix against."
   ]
  },
  {
   "cell_type": "markdown",
   "metadata": {
    "slideshow": {
     "slide_type": "fragment"
    }
   },
   "source": [
    "The method `fuzz_tree()` takes a tree representing an abstract failure-inducing input and instantiates all missing subtrees."
   ]
  },
  {
   "cell_type": "code",
   "execution_count": 76,
   "metadata": {
    "execution": {
     "iopub.execute_input": "2021-03-09T12:01:52.379229Z",
     "iopub.status.busy": "2021-03-09T12:01:52.378672Z",
     "iopub.status.idle": "2021-03-09T12:01:52.380221Z",
     "shell.execute_reply": "2021-03-09T12:01:52.380599Z"
    },
    "slideshow": {
     "slide_type": "skip"
    }
   },
   "outputs": [],
   "source": [
    "import copy"
   ]
  },
  {
   "cell_type": "code",
   "execution_count": 77,
   "metadata": {
    "execution": {
     "iopub.execute_input": "2021-03-09T12:01:52.384385Z",
     "iopub.status.busy": "2021-03-09T12:01:52.383822Z",
     "iopub.status.idle": "2021-03-09T12:01:52.385391Z",
     "shell.execute_reply": "2021-03-09T12:01:52.385774Z"
    },
    "slideshow": {
     "slide_type": "fragment"
    }
   },
   "outputs": [],
   "source": [
    "class TreeGeneralizer(TreeGeneralizer):\n",
    "    def fuzz_tree(self, tree: DerivationTree) -> DerivationTree:\n",
    "        \"\"\"Return an instantiated copy of `tree`.\"\"\"\n",
    "        tree = copy.deepcopy(tree)\n",
    "        return self.fuzzer.expand_tree(tree)"
   ]
  },
  {
   "cell_type": "code",
   "execution_count": 78,
   "metadata": {
    "execution": {
     "iopub.execute_input": "2021-03-09T12:01:52.412124Z",
     "iopub.status.busy": "2021-03-09T12:01:52.411460Z",
     "iopub.status.idle": "2021-03-09T12:01:52.423333Z",
     "shell.execute_reply": "2021-03-09T12:01:52.423807Z"
    },
    "slideshow": {
     "slide_type": "subslide"
    }
   },
   "outputs": [
    {
     "name": "stdout",
     "output_type": "stream",
     "text": [
      "<UzL3Ct6>\"</p>\n",
      "<nw10E6>\"</W>\n",
      "<h lV=\"'\">\"</x8>\n",
      "<k>\"</u>\n",
      "<a0 l0820650g='3'>\"</v5t>\n",
      "<zTg>\"</o1Z>\n",
      "<yMgT02p s=\"\" g94e='R'>\"</P2>\n",
      "<Y>\"</S9b>\n",
      "<X2566xS8v2>\"</r13>\n",
      "<D48>\"\t</R>\n"
     ]
    }
   ],
   "source": [
    "bitg = cast(TreeGeneralizer, bad_input_tree_generalizer())\n",
    "for i in range(10):\n",
    "    print(all_terminals(bitg.fuzz_tree(abstract_failure_inducing_input)))"
   ]
  },
  {
   "cell_type": "markdown",
   "metadata": {
    "slideshow": {
     "slide_type": "subslide"
    }
   },
   "source": [
    "We can take these inputs and see whether they reproduce the failure in question:"
   ]
  },
  {
   "cell_type": "code",
   "execution_count": 79,
   "metadata": {
    "execution": {
     "iopub.execute_input": "2021-03-09T12:01:52.507194Z",
     "iopub.status.busy": "2021-03-09T12:01:52.467452Z",
     "iopub.status.idle": "2021-03-09T12:01:55.854656Z",
     "shell.execute_reply": "2021-03-09T12:01:55.855046Z"
    },
    "slideshow": {
     "slide_type": "fragment"
    }
   },
   "outputs": [],
   "source": [
    "successes = 0\n",
    "failures = 0\n",
    "trials = 1000\n",
    "\n",
    "for i in range(trials):\n",
    "    test_input = all_terminals(\n",
    "        bitg.fuzz_tree(abstract_failure_inducing_input))\n",
    "    try:\n",
    "        remove_html_markup(test_input)\n",
    "    except AssertionError:\n",
    "        successes += 1\n",
    "    else:\n",
    "        failures += 1"
   ]
  },
  {
   "cell_type": "code",
   "execution_count": 80,
   "metadata": {
    "execution": {
     "iopub.execute_input": "2021-03-09T12:01:55.858970Z",
     "iopub.status.busy": "2021-03-09T12:01:55.858252Z",
     "iopub.status.idle": "2021-03-09T12:01:55.860551Z",
     "shell.execute_reply": "2021-03-09T12:01:55.861062Z"
    },
    "slideshow": {
     "slide_type": "subslide"
    }
   },
   "outputs": [
    {
     "data": {
      "text/plain": [
       "(982, 18)"
      ]
     },
     "execution_count": 1,
     "metadata": {},
     "output_type": "execute_result"
    }
   ],
   "source": [
    "successes, failures"
   ]
  },
  {
   "cell_type": "markdown",
   "metadata": {
    "slideshow": {
     "slide_type": "fragment"
    }
   },
   "source": [
    "We get an overall failure rate of ~98%, which is not bad at all."
   ]
  },
  {
   "cell_type": "code",
   "execution_count": 81,
   "metadata": {
    "execution": {
     "iopub.execute_input": "2021-03-09T12:01:55.865063Z",
     "iopub.status.busy": "2021-03-09T12:01:55.864396Z",
     "iopub.status.idle": "2021-03-09T12:01:55.866795Z",
     "shell.execute_reply": "2021-03-09T12:01:55.867355Z"
    },
    "slideshow": {
     "slide_type": "fragment"
    }
   },
   "outputs": [
    {
     "data": {
      "text/plain": [
       "0.018"
      ]
     },
     "execution_count": 1,
     "metadata": {},
     "output_type": "execute_result"
    }
   ],
   "source": [
    "failures / 1000"
   ]
  },
  {
   "cell_type": "markdown",
   "metadata": {
    "slideshow": {
     "slide_type": "fragment"
    }
   },
   "source": [
    "In our case, it is _overgeneralization_ (as discussed above) that is responsible for not reaching a 100% rate. (In all generality, we are trying to approximate the behavior of a Turing machine with a context free grammar, which is, well, always an approximation.) However, even a lower rate would still be useful, as any additional test case that reproduces a failure helps in ensuring the final fix is complete."
   ]
  },
  {
   "cell_type": "markdown",
   "metadata": {
    "slideshow": {
     "slide_type": "slide"
    }
   },
   "source": [
    "## Putting it all Together\n",
    "\n",
    "Let us now put together all this in a more convenient package that does not require the user to parse and unparse derivation trees."
   ]
  },
  {
   "cell_type": "markdown",
   "metadata": {
    "slideshow": {
     "slide_type": "subslide"
    }
   },
   "source": [
    "Our `DDSetDebugger` is modeled after the `DeltaDebugger` from [the chapter on delta debugging](DeltaDebugger.ipynb). It is to be used as\n",
    "\n",
    "```python\n",
    "with DDSetDebugger(grammar) as dd:\n",
    "    some_failing_function(...)\n",
    "```\n",
    "\n",
    "After that, evaluating `dd` yields a generalized abstract failure-inducing input as a string."
   ]
  },
  {
   "cell_type": "markdown",
   "metadata": {
    "slideshow": {
     "slide_type": "fragment"
    }
   },
   "source": [
    "Since `DDSetDebugger` accepts only one grammar, the function to be debugged should have exactly one string argument (besides other arguments); this string must fit the grammar."
   ]
  },
  {
   "cell_type": "markdown",
   "metadata": {
    "slideshow": {
     "slide_type": "subslide"
    }
   },
   "source": [
    "### Constructor"
   ]
  },
  {
   "cell_type": "markdown",
   "metadata": {
    "slideshow": {
     "slide_type": "fragment"
    }
   },
   "source": [
    "The constructor puts together the various components. It allows for customization by subclassing."
   ]
  },
  {
   "cell_type": "code",
   "execution_count": 82,
   "metadata": {
    "execution": {
     "iopub.execute_input": "2021-03-09T12:01:55.870748Z",
     "iopub.status.busy": "2021-03-09T12:01:55.870204Z",
     "iopub.status.idle": "2021-03-09T12:01:55.871856Z",
     "shell.execute_reply": "2021-03-09T12:01:55.872245Z"
    },
    "slideshow": {
     "slide_type": "skip"
    }
   },
   "outputs": [],
   "source": [
    "from DeltaDebugger import CallCollector"
   ]
  },
  {
   "cell_type": "code",
   "execution_count": 83,
   "metadata": {
    "execution": {
     "iopub.execute_input": "2021-03-09T12:01:55.878428Z",
     "iopub.status.busy": "2021-03-09T12:01:55.877882Z",
     "iopub.status.idle": "2021-03-09T12:01:55.879424Z",
     "shell.execute_reply": "2021-03-09T12:01:55.879866Z"
    },
    "slideshow": {
     "slide_type": "subslide"
    }
   },
   "outputs": [],
   "source": [
    "class DDSetDebugger(CallCollector):\n",
    "    \"\"\"\n",
    "    Debugger implementing the DDSET algorithm for abstracting failure-inducing inputs.\n",
    "    \"\"\"\n",
    "\n",
    "    def __init__(self, grammar: Grammar, \n",
    "                 generalizer_class: Type = TreeGeneralizer,\n",
    "                 parser: Optional[Parser] = None,\n",
    "                 **kwargs: Any) -> None:\n",
    "        \"\"\"Constructor.\n",
    "        `grammar` is an input grammar in fuzzingbook format.\n",
    "        `generalizer_class` is the tree generalizer class to use\n",
    "        (default: `TreeGeneralizer`)\n",
    "        `parser` is the parser to use (default: `EarleyParser(grammar)`).\n",
    "        All other keyword args are passed to the tree generalizer, notably:\n",
    "        `fuzzer` - the fuzzer to use (default: `GrammarFuzzer`), and\n",
    "        `log` - enables debugging output if True.\n",
    "        \"\"\"\n",
    "        super().__init__()\n",
    "        self.grammar = grammar\n",
    "        assert is_valid_grammar(grammar)\n",
    "\n",
    "        self.generalizer_class = generalizer_class\n",
    "\n",
    "        if parser is None:\n",
    "            parser = EarleyParser(grammar)\n",
    "        self.parser = parser\n",
    "        self.kwargs = kwargs\n",
    "\n",
    "        # These save state for further fuzz() calls\n",
    "        self.generalized_args: Dict[str, Any] = {}\n",
    "        self.generalized_trees: Dict[str, DerivationTree] = {}\n",
    "        self.generalizers: Dict[str, TreeGeneralizer] = {}"
   ]
  },
  {
   "cell_type": "markdown",
   "metadata": {
    "slideshow": {
     "slide_type": "subslide"
    }
   },
   "source": [
    "### Generalizing Arguments"
   ]
  },
  {
   "cell_type": "markdown",
   "metadata": {
    "slideshow": {
     "slide_type": "fragment"
    }
   },
   "source": [
    "The method `generalize()` is the many entry point. For all string arguments collected in the first function call, it generalizes the arguments and returns an abstract failure-inducing string."
   ]
  },
  {
   "cell_type": "code",
   "execution_count": 84,
   "metadata": {
    "execution": {
     "iopub.execute_input": "2021-03-09T12:01:55.885906Z",
     "iopub.status.busy": "2021-03-09T12:01:55.885376Z",
     "iopub.status.idle": "2021-03-09T12:01:55.887408Z",
     "shell.execute_reply": "2021-03-09T12:01:55.887800Z"
    },
    "slideshow": {
     "slide_type": "subslide"
    }
   },
   "outputs": [],
   "source": [
    "class DDSetDebugger(DDSetDebugger):\n",
    "    def generalize(self) -> Dict[str, Any]:\n",
    "        \"\"\"\n",
    "        Generalize arguments seen. For each function argument,\n",
    "        produce an abstract failure-inducing input that characterizes\n",
    "        the set of inputs for which the function fails.\n",
    "        \"\"\"\n",
    "        if self.generalized_args:\n",
    "            return self.generalized_args\n",
    "\n",
    "        self.generalized_args = copy.deepcopy(self.args())\n",
    "        self.generalized_trees = {}\n",
    "        self.generalizers = {}\n",
    "\n",
    "        for arg in self.args():\n",
    "            def test(value: Any) -> Any:\n",
    "                return self.call({arg: value})\n",
    "\n",
    "            value = self.args()[arg]\n",
    "            if isinstance(value, str):\n",
    "                tree = list(self.parser.parse(value))[0]\n",
    "                gen = self.generalizer_class(self.grammar, tree, test, \n",
    "                                             **self.kwargs)\n",
    "                generalized_tree = gen.generalize()\n",
    "\n",
    "                self.generalizers[arg] = gen\n",
    "                self.generalized_trees[arg] = generalized_tree\n",
    "                self.generalized_args[arg] = all_terminals(generalized_tree)\n",
    "\n",
    "        return self.generalized_args"
   ]
  },
  {
   "cell_type": "code",
   "execution_count": 85,
   "metadata": {
    "execution": {
     "iopub.execute_input": "2021-03-09T12:01:55.891377Z",
     "iopub.status.busy": "2021-03-09T12:01:55.890781Z",
     "iopub.status.idle": "2021-03-09T12:01:55.892438Z",
     "shell.execute_reply": "2021-03-09T12:01:55.892807Z"
    },
    "slideshow": {
     "slide_type": "subslide"
    }
   },
   "outputs": [],
   "source": [
    "class DDSetDebugger(DDSetDebugger):\n",
    "    def __repr__(self) -> str:\n",
    "        \"\"\"Return a string representation of the generalized call.\"\"\"\n",
    "        return self.format_call(self.generalize())"
   ]
  },
  {
   "cell_type": "markdown",
   "metadata": {
    "slideshow": {
     "slide_type": "fragment"
    }
   },
   "source": [
    "Here is an example of how `DDSetDebugger` would be used on our `BAD_INPUT` example. Simply evaluating the debugger yields a call with a generalized input."
   ]
  },
  {
   "cell_type": "code",
   "execution_count": 86,
   "metadata": {
    "execution": {
     "iopub.execute_input": "2021-03-09T12:01:55.939662Z",
     "iopub.status.busy": "2021-03-09T12:01:55.934392Z",
     "iopub.status.idle": "2021-03-09T12:01:55.942436Z",
     "shell.execute_reply": "2021-03-09T12:01:55.943150Z"
    },
    "slideshow": {
     "slide_type": "fragment"
    }
   },
   "outputs": [
    {
     "data": {
      "text/plain": [
       "remove_html_markup(s='<opening-tag>\"<plain-text><closing-tag>')"
      ]
     },
     "execution_count": 1,
     "metadata": {},
     "output_type": "execute_result"
    }
   ],
   "source": [
    "with DDSetDebugger(SIMPLE_HTML_GRAMMAR) as dd:\n",
    "    remove_html_markup(BAD_INPUT)\n",
    "dd"
   ]
  },
  {
   "cell_type": "markdown",
   "metadata": {
    "slideshow": {
     "slide_type": "subslide"
    }
   },
   "source": [
    "### Fuzzing\n",
    "\n",
    "The `fuzz()` method produces instantiations of the abstract failure-inducing pattern."
   ]
  },
  {
   "cell_type": "code",
   "execution_count": 87,
   "metadata": {
    "execution": {
     "iopub.execute_input": "2021-03-09T12:01:55.948536Z",
     "iopub.status.busy": "2021-03-09T12:01:55.947990Z",
     "iopub.status.idle": "2021-03-09T12:01:55.949620Z",
     "shell.execute_reply": "2021-03-09T12:01:55.949994Z"
    },
    "slideshow": {
     "slide_type": "subslide"
    }
   },
   "outputs": [],
   "source": [
    "class DDSetDebugger(DDSetDebugger):\n",
    "    def fuzz_args(self) -> Dict[str, Any]:\n",
    "        \"\"\"\n",
    "        Return arguments randomly instantiated\n",
    "        from the abstract failure-inducing pattern.\n",
    "        \"\"\"\n",
    "        if not self.generalized_trees:\n",
    "            self.generalize()\n",
    "\n",
    "        args = copy.deepcopy(self.generalized_args)\n",
    "        for arg in args:\n",
    "            if arg not in self.generalized_trees:\n",
    "                continue\n",
    "\n",
    "            tree = self.generalized_trees[arg]\n",
    "            gen = self.generalizers[arg]\n",
    "            instantiated_tree = gen.fuzz_tree(tree)\n",
    "            args[arg] = all_terminals(instantiated_tree)\n",
    "\n",
    "        return args\n",
    "\n",
    "    def fuzz(self) -> str:\n",
    "        \"\"\"\n",
    "        Return a call with arguments randomly instantiated\n",
    "        from the abstract failure-inducing pattern.\n",
    "        \"\"\"\n",
    "        return self.format_call(self.fuzz_args())"
   ]
  },
  {
   "cell_type": "markdown",
   "metadata": {
    "slideshow": {
     "slide_type": "subslide"
    }
   },
   "source": [
    "Here are some axamples of `fuzz()` in action:"
   ]
  },
  {
   "cell_type": "code",
   "execution_count": 88,
   "metadata": {
    "execution": {
     "iopub.execute_input": "2021-03-09T12:01:55.954770Z",
     "iopub.status.busy": "2021-03-09T12:01:55.954178Z",
     "iopub.status.idle": "2021-03-09T12:01:55.955723Z",
     "shell.execute_reply": "2021-03-09T12:01:55.956158Z"
    },
    "slideshow": {
     "slide_type": "fragment"
    }
   },
   "outputs": [],
   "source": [
    "with DDSetDebugger(SIMPLE_HTML_GRAMMAR) as dd:\n",
    "    remove_html_markup(BAD_INPUT)"
   ]
  },
  {
   "cell_type": "code",
   "execution_count": 89,
   "metadata": {
    "execution": {
     "iopub.execute_input": "2021-03-09T12:01:56.003652Z",
     "iopub.status.busy": "2021-03-09T12:01:55.999416Z",
     "iopub.status.idle": "2021-03-09T12:01:56.006794Z",
     "shell.execute_reply": "2021-03-09T12:01:56.007227Z"
    },
    "slideshow": {
     "slide_type": "fragment"
    }
   },
   "outputs": [
    {
     "data": {
      "text/plain": [
       "'remove_html_markup(s=\\'<Xq>\"</j>\\')'"
      ]
     },
     "execution_count": 1,
     "metadata": {},
     "output_type": "execute_result"
    }
   ],
   "source": [
    "dd.fuzz()"
   ]
  },
  {
   "cell_type": "code",
   "execution_count": 90,
   "metadata": {
    "execution": {
     "iopub.execute_input": "2021-03-09T12:01:56.015556Z",
     "iopub.status.busy": "2021-03-09T12:01:56.015021Z",
     "iopub.status.idle": "2021-03-09T12:01:56.017111Z",
     "shell.execute_reply": "2021-03-09T12:01:56.017485Z"
    },
    "slideshow": {
     "slide_type": "fragment"
    }
   },
   "outputs": [
    {
     "data": {
      "text/plain": [
       "'remove_html_markup(s=\\'<L89B6b9vz>\"\\\\t</a3>\\')'"
      ]
     },
     "execution_count": 1,
     "metadata": {},
     "output_type": "execute_result"
    }
   ],
   "source": [
    "dd.fuzz()"
   ]
  },
  {
   "cell_type": "code",
   "execution_count": 91,
   "metadata": {
    "execution": {
     "iopub.execute_input": "2021-03-09T12:01:56.025469Z",
     "iopub.status.busy": "2021-03-09T12:01:56.024782Z",
     "iopub.status.idle": "2021-03-09T12:01:56.027375Z",
     "shell.execute_reply": "2021-03-09T12:01:56.027771Z"
    },
    "slideshow": {
     "slide_type": "fragment"
    }
   },
   "outputs": [
    {
     "data": {
      "text/plain": [
       "'remove_html_markup(s=\\'<Z VF=\\\\\\'\\\\\\' l=\"_-(\">\")</Y>\\')'"
      ]
     },
     "execution_count": 1,
     "metadata": {},
     "output_type": "execute_result"
    }
   ],
   "source": [
    "dd.fuzz()"
   ]
  },
  {
   "cell_type": "markdown",
   "metadata": {
    "slideshow": {
     "slide_type": "fragment"
    }
   },
   "source": [
    " These can be fed into `eval()`, set to produce more failing calls."
   ]
  },
  {
   "cell_type": "code",
   "execution_count": 92,
   "metadata": {
    "execution": {
     "iopub.execute_input": "2021-03-09T12:01:56.033255Z",
     "iopub.status.busy": "2021-03-09T12:01:56.032637Z",
     "iopub.status.idle": "2021-03-09T12:01:56.034695Z",
     "shell.execute_reply": "2021-03-09T12:01:56.035085Z"
    },
    "slideshow": {
     "slide_type": "subslide"
    }
   },
   "outputs": [
    {
     "name": "stderr",
     "output_type": "stream",
     "text": [
      "Traceback (most recent call last):\n",
      "  File \"<ipython-input-1-3087e00969df>\", line 2, in <module>\n",
      "    eval(dd.fuzz())\n",
      "  File \"<string>\", line 1, in <module>\n",
      "  File \"<ipython-input-1-02fa29ebf01a>\", line 17, in remove_html_markup\n",
      "    assert '<' not in out and '>' not in out\n",
      "AssertionError (expected)\n"
     ]
    }
   ],
   "source": [
    "with ExpectError(AssertionError):\n",
    "    eval(dd.fuzz())"
   ]
  },
  {
   "cell_type": "markdown",
   "metadata": {
    "slideshow": {
     "slide_type": "slide"
    }
   },
   "source": [
    "## More Examples\n",
    "\n",
    "Let us apply `DDSetDebugger` on more examples."
   ]
  },
  {
   "cell_type": "markdown",
   "metadata": {
    "slideshow": {
     "slide_type": "subslide"
    }
   },
   "source": [
    "### Square Root\n",
    "\n",
    "Our first example is the `square_root()` function from [the chapter on assertions](Assertions.ipynb)."
   ]
  },
  {
   "cell_type": "code",
   "execution_count": 93,
   "metadata": {
    "execution": {
     "iopub.execute_input": "2021-03-09T12:01:56.038066Z",
     "iopub.status.busy": "2021-03-09T12:01:56.037553Z",
     "iopub.status.idle": "2021-03-09T12:01:56.039101Z",
     "shell.execute_reply": "2021-03-09T12:01:56.039479Z"
    },
    "slideshow": {
     "slide_type": "skip"
    }
   },
   "outputs": [],
   "source": [
    "from Assertions import square_root  # minor dependency"
   ]
  },
  {
   "cell_type": "markdown",
   "metadata": {
    "slideshow": {
     "slide_type": "fragment"
    }
   },
   "source": [
    "The `square_root()` function fails on a value of `-1`:"
   ]
  },
  {
   "cell_type": "code",
   "execution_count": 94,
   "metadata": {
    "execution": {
     "iopub.execute_input": "2021-03-09T12:01:56.042795Z",
     "iopub.status.busy": "2021-03-09T12:01:56.042016Z",
     "iopub.status.idle": "2021-03-09T12:01:56.044441Z",
     "shell.execute_reply": "2021-03-09T12:01:56.044880Z"
    },
    "slideshow": {
     "slide_type": "fragment"
    }
   },
   "outputs": [
    {
     "name": "stderr",
     "output_type": "stream",
     "text": [
      "Traceback (most recent call last):\n",
      "  File \"<ipython-input-1-d80ffca057e6>\", line 2, in <module>\n",
      "    square_root(-1)\n",
      "  File \"Assertions.ipynb\", line 55, in square_root\n",
      "    assert x >= 0  # precondition\n",
      "AssertionError (expected)\n"
     ]
    }
   ],
   "source": [
    "with ExpectError(AssertionError):\n",
    "    square_root(-1)"
   ]
  },
  {
   "cell_type": "markdown",
   "metadata": {
    "slideshow": {
     "slide_type": "fragment"
    }
   },
   "source": [
    "We define a grammar for its arguments:"
   ]
  },
  {
   "cell_type": "code",
   "execution_count": 95,
   "metadata": {
    "button": false,
    "execution": {
     "iopub.execute_input": "2021-03-09T12:01:56.048484Z",
     "iopub.status.busy": "2021-03-09T12:01:56.047953Z",
     "iopub.status.idle": "2021-03-09T12:01:56.049624Z",
     "shell.execute_reply": "2021-03-09T12:01:56.049996Z"
    },
    "new_sheet": false,
    "run_control": {
     "read_only": false
    },
    "slideshow": {
     "slide_type": "subslide"
    }
   },
   "outputs": [],
   "source": [
    "INT_GRAMMAR: Grammar = {\n",
    "    \"<start>\":\n",
    "        [\"<int>\"],\n",
    "\n",
    "    \"<int>\":\n",
    "        [\"<positive-int>\", \"-<positive-int>\"],\n",
    "\n",
    "    \"<positive-int>\":\n",
    "        [\"<digit>\", \"<nonzero-digit><positive-int>\"],\n",
    "\n",
    "    \"<nonzero-digit>\": list(\"123456789\"),\n",
    "    \n",
    "    \"<digit>\": list(string.digits),\n",
    "}"
   ]
  },
  {
   "cell_type": "markdown",
   "metadata": {
    "slideshow": {
     "slide_type": "fragment"
    }
   },
   "source": [
    "The test function takes a string and converts it into an integer:"
   ]
  },
  {
   "cell_type": "code",
   "execution_count": 96,
   "metadata": {
    "execution": {
     "iopub.execute_input": "2021-03-09T12:01:56.052991Z",
     "iopub.status.busy": "2021-03-09T12:01:56.052484Z",
     "iopub.status.idle": "2021-03-09T12:01:56.053983Z",
     "shell.execute_reply": "2021-03-09T12:01:56.054421Z"
    },
    "slideshow": {
     "slide_type": "subslide"
    }
   },
   "outputs": [],
   "source": [
    "def square_root_test(s: str) -> None:\n",
    "    return square_root(int(s))"
   ]
  },
  {
   "cell_type": "markdown",
   "metadata": {
    "slideshow": {
     "slide_type": "fragment"
    }
   },
   "source": [
    "With this, we can go and see whether we can generalize a failing input:"
   ]
  },
  {
   "cell_type": "code",
   "execution_count": 97,
   "metadata": {
    "execution": {
     "iopub.execute_input": "2021-03-09T12:01:56.058125Z",
     "iopub.status.busy": "2021-03-09T12:01:56.057570Z",
     "iopub.status.idle": "2021-03-09T12:01:56.059256Z",
     "shell.execute_reply": "2021-03-09T12:01:56.059646Z"
    },
    "slideshow": {
     "slide_type": "fragment"
    }
   },
   "outputs": [],
   "source": [
    "with DDSetDebugger(INT_GRAMMAR, log=True) as dd_square_root:\n",
    "    square_root_test(\"-1\")"
   ]
  },
  {
   "cell_type": "code",
   "execution_count": 98,
   "metadata": {
    "execution": {
     "iopub.execute_input": "2021-03-09T12:01:56.064360Z",
     "iopub.status.busy": "2021-03-09T12:01:56.063807Z",
     "iopub.status.idle": "2021-03-09T12:01:56.068330Z",
     "shell.execute_reply": "2021-03-09T12:01:56.068724Z"
    },
    "slideshow": {
     "slide_type": "subslide"
    }
   },
   "outputs": [
    {
     "name": "stdout",
     "output_type": "stream",
     "text": [
      "Testing '-8'...FAIL (AssertionError)\n",
      "Testing '-316'...FAIL (AssertionError)\n",
      "Testing '8'...PASS\n",
      "Testing '684'...PASS\n",
      "Testing '-3'...FAIL (AssertionError)\n",
      "Testing '-870'...FAIL (AssertionError)\n",
      "Testing '-3'...FAIL (AssertionError)\n",
      "Testing '-3451'...FAIL (AssertionError)\n",
      "Testing '-8'...FAIL (AssertionError)\n",
      "Testing '-63213'...FAIL (AssertionError)\n",
      "Testing '-26'...FAIL (AssertionError)\n",
      "Testing '-4'...FAIL (AssertionError)\n",
      "Testing '-6'...FAIL (AssertionError)\n",
      "Testing '-8'...FAIL (AssertionError)\n"
     ]
    },
    {
     "data": {
      "text/plain": [
       "square_root_test(s='-<positive-int>')"
      ]
     },
     "execution_count": 1,
     "metadata": {},
     "output_type": "execute_result"
    }
   ],
   "source": [
    "dd_square_root"
   ]
  },
  {
   "cell_type": "markdown",
   "metadata": {
    "slideshow": {
     "slide_type": "subslide"
    }
   },
   "source": [
    "Success! We see that have nicely generalized the failure-inducing input to a pattern that translates into \"any negative number\"."
   ]
  },
  {
   "cell_type": "markdown",
   "metadata": {
    "slideshow": {
     "slide_type": "subslide"
    }
   },
   "source": [
    "### Middle\n",
    "\n",
    "The `middle()` function from [the chapter on statistical debugging](StatisticalDebugger.ipynb) returns the middle of three numerical values `x`, `y`, and `z`."
   ]
  },
  {
   "cell_type": "code",
   "execution_count": 99,
   "metadata": {
    "execution": {
     "iopub.execute_input": "2021-03-09T12:01:56.071775Z",
     "iopub.status.busy": "2021-03-09T12:01:56.071254Z",
     "iopub.status.idle": "2021-03-09T12:01:57.081106Z",
     "shell.execute_reply": "2021-03-09T12:01:57.081498Z"
    },
    "slideshow": {
     "slide_type": "skip"
    }
   },
   "outputs": [],
   "source": [
    "from StatisticalDebugger import middle  # minor dependency"
   ]
  },
  {
   "cell_type": "markdown",
   "metadata": {
    "slideshow": {
     "slide_type": "fragment"
    }
   },
   "source": [
    "We set up a test function that evaluates a string – a tuple of three arguments – and then tests `middle()`:"
   ]
  },
  {
   "cell_type": "code",
   "execution_count": 100,
   "metadata": {
    "execution": {
     "iopub.execute_input": "2021-03-09T12:01:57.085789Z",
     "iopub.status.busy": "2021-03-09T12:01:57.085131Z",
     "iopub.status.idle": "2021-03-09T12:01:57.086683Z",
     "shell.execute_reply": "2021-03-09T12:01:57.087108Z"
    },
    "slideshow": {
     "slide_type": "fragment"
    }
   },
   "outputs": [],
   "source": [
    "def middle_test(s: str) -> None:\n",
    "    x, y, z = eval(s)\n",
    "    assert middle(x, y, z) == sorted([x, y, z])[1]"
   ]
  },
  {
   "cell_type": "markdown",
   "metadata": {
    "slideshow": {
     "slide_type": "fragment"
    }
   },
   "source": [
    "The grammar for the three numbers simply puts three integers together:"
   ]
  },
  {
   "cell_type": "code",
   "execution_count": 101,
   "metadata": {
    "button": false,
    "execution": {
     "iopub.execute_input": "2021-03-09T12:01:57.091326Z",
     "iopub.status.busy": "2021-03-09T12:01:57.090679Z",
     "iopub.status.idle": "2021-03-09T12:01:57.092361Z",
     "shell.execute_reply": "2021-03-09T12:01:57.092744Z"
    },
    "new_sheet": false,
    "run_control": {
     "read_only": false
    },
    "slideshow": {
     "slide_type": "subslide"
    }
   },
   "outputs": [],
   "source": [
    "XYZ_GRAMMAR: Grammar = {\n",
    "    \"<start>\":\n",
    "        [\"<int>, <int>, <int>\"],\n",
    "\n",
    "    \"<int>\":\n",
    "        [\"<positive-int>\", \"-<positive-int>\"],\n",
    "\n",
    "    \"<positive-int>\":\n",
    "        [\"<digit>\", \"<nonzero-digit><positive-int>\"],\n",
    "\n",
    "    \"<nonzero-digit>\": list(\"123456789\"),\n",
    "    \n",
    "    \"<digit>\": list(string.digits),\n",
    "}"
   ]
  },
  {
   "cell_type": "markdown",
   "metadata": {
    "slideshow": {
     "slide_type": "fragment"
    }
   },
   "source": [
    "Here is an example of `middle()` failing:"
   ]
  },
  {
   "cell_type": "code",
   "execution_count": 102,
   "metadata": {
    "execution": {
     "iopub.execute_input": "2021-03-09T12:01:57.095910Z",
     "iopub.status.busy": "2021-03-09T12:01:57.095314Z",
     "iopub.status.idle": "2021-03-09T12:01:57.097836Z",
     "shell.execute_reply": "2021-03-09T12:01:57.098312Z"
    },
    "slideshow": {
     "slide_type": "subslide"
    }
   },
   "outputs": [
    {
     "name": "stderr",
     "output_type": "stream",
     "text": [
      "Traceback (most recent call last):\n",
      "  File \"<ipython-input-1-66d8f3f75b66>\", line 2, in <module>\n",
      "    middle_test(\"2, 1, 3\")\n",
      "  File \"<ipython-input-1-5682ed7df528>\", line 3, in middle_test\n",
      "    assert middle(x, y, z) == sorted([x, y, z])[1]\n",
      "AssertionError (expected)\n"
     ]
    }
   ],
   "source": [
    "with ExpectError(AssertionError):\n",
    "    middle_test(\"2, 1, 3\")"
   ]
  },
  {
   "cell_type": "markdown",
   "metadata": {
    "slideshow": {
     "slide_type": "fragment"
    }
   },
   "source": [
    "What happens if we debug this with `DDSetDebugger`? We see that there is no abstraction at the syntax level that could characterize this failure:"
   ]
  },
  {
   "cell_type": "code",
   "execution_count": 103,
   "metadata": {
    "execution": {
     "iopub.execute_input": "2021-03-09T12:01:57.101878Z",
     "iopub.status.busy": "2021-03-09T12:01:57.101362Z",
     "iopub.status.idle": "2021-03-09T12:01:57.103081Z",
     "shell.execute_reply": "2021-03-09T12:01:57.103473Z"
    },
    "slideshow": {
     "slide_type": "fragment"
    }
   },
   "outputs": [],
   "source": [
    "with DDSetDebugger(XYZ_GRAMMAR, log=True) as dd_middle:\n",
    "    middle_test(\"2, 1, 3\")"
   ]
  },
  {
   "cell_type": "code",
   "execution_count": 104,
   "metadata": {
    "execution": {
     "iopub.execute_input": "2021-03-09T12:01:57.112120Z",
     "iopub.status.busy": "2021-03-09T12:01:57.109073Z",
     "iopub.status.idle": "2021-03-09T12:01:57.114762Z",
     "shell.execute_reply": "2021-03-09T12:01:57.115151Z"
    },
    "slideshow": {
     "slide_type": "subslide"
    }
   },
   "outputs": [
    {
     "name": "stdout",
     "output_type": "stream",
     "text": [
      "Testing '7, 4591, -0'...PASS\n",
      "Testing '6, 1, 3'...PASS\n",
      "Testing '7, 1, 3'...PASS\n",
      "Testing '7, 1, 3'...PASS\n",
      "Testing '2, -7, 3'...FAIL (AssertionError)\n",
      "Testing '2, 0, 3'...FAIL (AssertionError)\n",
      "Testing '2, -89, 3'...FAIL (AssertionError)\n",
      "Testing '2, 973, 3'...PASS\n",
      "Testing '2, 11, 3'...PASS\n",
      "Testing '2, 8, 3'...PASS\n",
      "Testing '2, 1, 9'...FAIL (AssertionError)\n",
      "Testing '2, 1, -16'...PASS\n",
      "Testing '2, 1, 35'...FAIL (AssertionError)\n",
      "Testing '2, 1, 6'...FAIL (AssertionError)\n",
      "Testing '2, 1, 53'...FAIL (AssertionError)\n",
      "Testing '2, 1, 5'...FAIL (AssertionError)\n",
      "Testing '2, 1, 737'...FAIL (AssertionError)\n",
      "Testing '2, 1, 28'...FAIL (AssertionError)\n",
      "Testing '2, 1, 3'...FAIL (AssertionError)\n",
      "Testing '2, 1, 5'...FAIL (AssertionError)\n",
      "Testing '2, 1, 5'...FAIL (AssertionError)\n",
      "Testing '2, 1, 56'...FAIL (AssertionError)\n"
     ]
    },
    {
     "data": {
      "text/plain": [
       "middle_test(s='2, 1, <positive-int>')"
      ]
     },
     "execution_count": 1,
     "metadata": {},
     "output_type": "execute_result"
    }
   ],
   "source": [
    "dd_middle"
   ]
  },
  {
   "cell_type": "markdown",
   "metadata": {
    "slideshow": {
     "slide_type": "subslide"
    }
   },
   "source": [
    "So, while there are failures that can be nicely characterized using abstractions of input elements, `middle()` is not one of them. Which is good, because this means that all our other techniques such as [statistical debugging](StatisticalDebugger.ipynb) and [dynamic invariants](DynamicInvariants.ipynb) still have a use case :-)"
   ]
  },
  {
   "cell_type": "markdown",
   "metadata": {
    "slideshow": {
     "slide_type": "slide"
    }
   },
   "source": [
    "## Synopsis"
   ]
  },
  {
   "cell_type": "markdown",
   "metadata": {
    "slideshow": {
     "slide_type": "subslide"
    }
   },
   "source": [
    "This chapter provides a class `DDSetDebugger`, implementing the DDSET algorithm for generalizing failure-inducing inputs. The `DDSetDebugger` is used as follows:\n",
    "\n",
    "```python\n",
    "with DDSetDebugger(grammar) as dd:\n",
    "    function(args...)\n",
    "dd\n",
    "```\n",
    "\n",
    "Here, `function(args...)` is a failing function call (= raises an execption) that takes at least one string argument; `grammar` is an [input grammar in fuzzingbook format](https://www.fuzzingbook.org/html/Grammars.html) that matches the format of this argument.\n",
    "\n",
    "The result is a call of `function()` with an _abstract failure-inducing input_ – a variant of the conrete input in which parts are replaced by placeholders in the form `<name>`, where `<name>` is a nonterminal in the grammar. The failure has been verified to occur for a number of instantiations of `<name>`."
   ]
  },
  {
   "cell_type": "markdown",
   "metadata": {
    "slideshow": {
     "slide_type": "subslide"
    }
   },
   "source": [
    "Here is an example of how `DDSetDebugger` works. The concrete failing input `<foo>\"bar</foo>` is generalized to an _abstract failure-inducing input_:"
   ]
  },
  {
   "cell_type": "code",
   "execution_count": 105,
   "metadata": {
    "execution": {
     "iopub.execute_input": "2021-03-09T12:01:57.148588Z",
     "iopub.status.busy": "2021-03-09T12:01:57.147993Z",
     "iopub.status.idle": "2021-03-09T12:01:57.150096Z",
     "shell.execute_reply": "2021-03-09T12:01:57.150658Z"
    },
    "slideshow": {
     "slide_type": "fragment"
    }
   },
   "outputs": [
    {
     "data": {
      "text/plain": [
       "remove_html_markup(s='<lt><id><gt>\"<plain-text><closing-tag>')"
      ]
     },
     "execution_count": 1,
     "metadata": {},
     "output_type": "execute_result"
    }
   ],
   "source": [
    "with DDSetDebugger(SIMPLE_HTML_GRAMMAR) as dd:\n",
    "    remove_html_markup('<foo>\"bar</foo>')\n",
    "dd"
   ]
  },
  {
   "cell_type": "markdown",
   "metadata": {
    "slideshow": {
     "slide_type": "fragment"
    }
   },
   "source": [
    "The abstract input tells us that the failure occurs for whatever opening and closing HTML tags as long as there is a double quote between them."
   ]
  },
  {
   "cell_type": "markdown",
   "metadata": {
    "slideshow": {
     "slide_type": "fragment"
    }
   },
   "source": [
    "A programmatic interface is available as well. `generalize()` returns a mapping of argument names to (generalized) values:"
   ]
  },
  {
   "cell_type": "code",
   "execution_count": 106,
   "metadata": {
    "execution": {
     "iopub.execute_input": "2021-03-09T12:01:57.154636Z",
     "iopub.status.busy": "2021-03-09T12:01:57.154039Z",
     "iopub.status.idle": "2021-03-09T12:01:57.155998Z",
     "shell.execute_reply": "2021-03-09T12:01:57.156452Z"
    },
    "slideshow": {
     "slide_type": "fragment"
    }
   },
   "outputs": [
    {
     "data": {
      "text/plain": [
       "{'s': '<lt><id><gt>\"<plain-text><closing-tag>'}"
      ]
     },
     "execution_count": 1,
     "metadata": {},
     "output_type": "execute_result"
    }
   ],
   "source": [
    "dd.generalize()"
   ]
  },
  {
   "cell_type": "markdown",
   "metadata": {
    "slideshow": {
     "slide_type": "subslide"
    }
   },
   "source": [
    "Using `fuzz()`, the abstract input can be instantiated to further concrete inputs, all set to produce the failure again:"
   ]
  },
  {
   "cell_type": "code",
   "execution_count": 107,
   "metadata": {
    "execution": {
     "iopub.execute_input": "2021-03-09T12:01:57.179280Z",
     "iopub.status.busy": "2021-03-09T12:01:57.164817Z",
     "iopub.status.idle": "2021-03-09T12:01:57.181198Z",
     "shell.execute_reply": "2021-03-09T12:01:57.181585Z"
    },
    "slideshow": {
     "slide_type": "fragment"
    }
   },
   "outputs": [
    {
     "name": "stdout",
     "output_type": "stream",
     "text": [
      "remove_html_markup(s='<s1d>\"1</hF>')\n",
      "remove_html_markup(s='<H>\"c*C</l>')\n",
      "remove_html_markup(s='<Ah2>\"</v>')\n",
      "remove_html_markup(s='<a7>\")</NP>')\n",
      "remove_html_markup(s='<boyIIt640TF>\"</b08>')\n",
      "remove_html_markup(s='<dF>\"</fay>')\n",
      "remove_html_markup(s='<l2>\"\\t7</z>')\n",
      "remove_html_markup(s='<ci>\"</t>')\n",
      "remove_html_markup(s='<J>\"2</t>')\n",
      "remove_html_markup(s='<Fo9g>\"\\r~\\t\\r</D>')\n"
     ]
    }
   ],
   "source": [
    "for i in range(10):\n",
    "    print(dd.fuzz())"
   ]
  },
  {
   "cell_type": "markdown",
   "metadata": {
    "slideshow": {
     "slide_type": "subslide"
    }
   },
   "source": [
    "`DDSetDebugger` can be customized by passing a subclass of `TreeGeneralizer`, which does the gist of the work; for details, see its constructor.\n",
    "The full class hierarchy is shown below."
   ]
  },
  {
   "cell_type": "code",
   "execution_count": 108,
   "metadata": {
    "execution": {
     "iopub.execute_input": "2021-03-09T12:01:57.184619Z",
     "iopub.status.busy": "2021-03-09T12:01:57.184044Z",
     "iopub.status.idle": "2021-03-09T12:01:57.186045Z",
     "shell.execute_reply": "2021-03-09T12:01:57.186468Z"
    },
    "slideshow": {
     "slide_type": "fragment"
    }
   },
   "outputs": [],
   "source": [
    "# ignore\n",
    "from ClassDiagram import display_class_hierarchy"
   ]
  },
  {
   "cell_type": "code",
   "execution_count": 109,
   "metadata": {
    "execution": {
     "iopub.execute_input": "2021-03-09T12:01:57.201397Z",
     "iopub.status.busy": "2021-03-09T12:01:57.199139Z",
     "iopub.status.idle": "2021-03-09T12:01:57.931654Z",
     "shell.execute_reply": "2021-03-09T12:01:57.932112Z"
    },
    "slideshow": {
     "slide_type": "subslide"
    }
   },
   "outputs": [
    {
     "data": {
      "image/svg+xml": [
       "<?xml version=\"1.0\" encoding=\"UTF-8\" standalone=\"no\"?>\n",
       "<!DOCTYPE svg PUBLIC \"-//W3C//DTD SVG 1.1//EN\"\n",
       " \"http://www.w3.org/Graphics/SVG/1.1/DTD/svg11.dtd\">\n",
       "<!-- Generated by graphviz version 2.40.1 (20161225.0304)\n",
       " -->\n",
       "<!-- Title: %3 Pages: 1 -->\n",
       "<svg width=\"453pt\" height=\"536pt\"\n",
       " viewBox=\"0.00 0.00 452.50 536.00\" xmlns=\"http://www.w3.org/2000/svg\" xmlns:xlink=\"http://www.w3.org/1999/xlink\">\n",
       "<g id=\"graph0\" class=\"graph\" transform=\"scale(1 1) rotate(0) translate(4 532)\">\n",
       "<title>%3</title>\n",
       "<g id=\"a_graph0\"><a xlink:title=\"DDSetDebugger class hierarchy\">\n",
       "<polygon fill=\"#ffffff\" stroke=\"transparent\" points=\"-4,4 -4,-532 448.5,-532 448.5,4 -4,4\"/>\n",
       "</a>\n",
       "</g>\n",
       "<!-- DDSetDebugger -->\n",
       "<g id=\"node1\" class=\"node\">\n",
       "<title>DDSetDebugger</title>\n",
       "<g id=\"a_node1\"><a xlink:href=\"#\" xlink:title=\"class DDSetDebugger:&#10;Debugger implementing the DDSET algorithm for abstracting failure&#45;inducing inputs.\">\n",
       "<polygon fill=\"none\" stroke=\"#000000\" points=\"20.5,-17 20.5,-103 146.5,-103 146.5,-17 20.5,-17\"/>\n",
       "<text text-anchor=\"start\" x=\"28.5\" y=\"-88.8\" font-family=\"Raleway, Helvetica, Arial, sans-serif\" font-weight=\"bold\" font-size=\"14.00\" fill=\"#6a0dad\">DDSetDebugger</text>\n",
       "<polyline fill=\"none\" stroke=\"#000000\" points=\"20.5,-80 146.5,-80 \"/>\n",
       "<g id=\"a_node1_0\"><a xlink:href=\"#\" xlink:title=\"DDSetDebugger\">\n",
       "<g id=\"a_node1_1\"><a xlink:href=\"#\" xlink:title=\"__init__(self, grammar:Dict[str, List[Union[str, Tuple[str, Dict[str, Any]]]]], generalizer_class:Type=&lt;class &#39;__main__.TreeGeneralizer&#39;&gt;, parser:Union[fuzzingbook.Parser.Parser, NoneType]=None, **kwargs:Any) &#45;&gt; None:&#10;Constructor.&#10;`grammar` is an input grammar in fuzzingbook format.&#10;`generalizer_class` is the tree generalizer class to use&#10;(default: `TreeGeneralizer`)&#10;`parser` is the parser to use (default: `EarleyParser(grammar)`).&#10;All other keyword args are passed to the tree generalizer, notably:&#10;`fuzzer` &#45; the fuzzer to use (default: `GrammarFuzzer`), and&#10;`log` &#45; enables debugging output if True.\">\n",
       "<text text-anchor=\"start\" x=\"47.5\" y=\"-68.5\" font-family=\"'Fira Mono', 'Source Code Pro', 'Courier', monospace\" font-weight=\"bold\" font-style=\"italic\" font-size=\"10.00\" fill=\"#000000\">__init__()</text>\n",
       "</a>\n",
       "</g>\n",
       "<g id=\"a_node1_2\"><a xlink:href=\"#\" xlink:title=\"__repr__(self) &#45;&gt; str:&#10;Return a string representation of the generalized call.\">\n",
       "<text text-anchor=\"start\" x=\"47.5\" y=\"-57.5\" font-family=\"'Fira Mono', 'Source Code Pro', 'Courier', monospace\" font-weight=\"bold\" font-size=\"10.00\" fill=\"#000000\">__repr__()</text>\n",
       "</a>\n",
       "</g>\n",
       "<g id=\"a_node1_3\"><a xlink:href=\"#\" xlink:title=\"fuzz(self) &#45;&gt; str:&#10;Return a call with arguments randomly instantiated&#10;from the abstract failure&#45;inducing pattern.\">\n",
       "<text text-anchor=\"start\" x=\"47.5\" y=\"-46.5\" font-family=\"'Fira Mono', 'Source Code Pro', 'Courier', monospace\" font-weight=\"bold\" font-size=\"10.00\" fill=\"#000000\">fuzz()</text>\n",
       "</a>\n",
       "</g>\n",
       "<g id=\"a_node1_4\"><a xlink:href=\"#\" xlink:title=\"fuzz_args(self) &#45;&gt; Dict[str, Any]:&#10;Return arguments randomly instantiated&#10;from the abstract failure&#45;inducing pattern.\">\n",
       "<text text-anchor=\"start\" x=\"47.5\" y=\"-35.5\" font-family=\"'Fira Mono', 'Source Code Pro', 'Courier', monospace\" font-weight=\"bold\" font-size=\"10.00\" fill=\"#000000\">fuzz_args()</text>\n",
       "</a>\n",
       "</g>\n",
       "<g id=\"a_node1_5\"><a xlink:href=\"#\" xlink:title=\"generalize(self) &#45;&gt; Dict[str, Any]:&#10;Generalize arguments seen. For each function argument,&#10;produce an abstract failure&#45;inducing input that characterizes&#10;the set of inputs for which the function fails.\">\n",
       "<text text-anchor=\"start\" x=\"47.5\" y=\"-24.5\" font-family=\"'Fira Mono', 'Source Code Pro', 'Courier', monospace\" font-weight=\"bold\" font-size=\"10.00\" fill=\"#000000\">generalize()</text>\n",
       "</a>\n",
       "</g>\n",
       "</a>\n",
       "</g>\n",
       "</a>\n",
       "</g>\n",
       "</g>\n",
       "<!-- CallCollector -->\n",
       "<g id=\"node2\" class=\"node\">\n",
       "<title>CallCollector</title>\n",
       "<g id=\"a_node2\"><a xlink:href=\"DeltaDebugger.ipynb\" xlink:title=\"class CallCollector:&#10;Collect an exception&#45;raising function call f().&#10;Use as `with CallCollector(): f()`\">\n",
       "<polygon fill=\"none\" stroke=\"#000000\" points=\"21,-156.5 21,-319.5 146,-319.5 146,-156.5 21,-156.5\"/>\n",
       "<text text-anchor=\"start\" x=\"38.5\" y=\"-305.3\" font-family=\"Raleway, Helvetica, Arial, sans-serif\" font-weight=\"bold\" font-size=\"14.00\" fill=\"#6a0dad\">CallCollector</text>\n",
       "<polyline fill=\"none\" stroke=\"#000000\" points=\"21,-296.5 146,-296.5 \"/>\n",
       "<g id=\"a_node2_6\"><a xlink:href=\"#\" xlink:title=\"CallCollector\">\n",
       "<g id=\"a_node2_7\"><a xlink:href=\"DeltaDebugger.ipynb\" xlink:title=\"__enter__(self) &#45;&gt; Any:&#10;Called at begin of `with` block. Turn tracing on.\">\n",
       "<text text-anchor=\"start\" x=\"29.5\" y=\"-285.5\" font-family=\"'Fira Mono', 'Source Code Pro', 'Courier', monospace\" font-weight=\"bold\" font-size=\"10.00\" fill=\"#000000\">__enter__()</text>\n",
       "</a>\n",
       "</g>\n",
       "<g id=\"a_node2_8\"><a xlink:href=\"DeltaDebugger.ipynb\" xlink:title=\"__exit__(self, exc_tp:Type, exc_value:BaseException, exc_traceback:traceback) &#45;&gt; Union[bool, NoneType]:&#10;Called at end of `with` block. Turn tracing off.\">\n",
       "<text text-anchor=\"start\" x=\"29.5\" y=\"-274.5\" font-family=\"'Fira Mono', 'Source Code Pro', 'Courier', monospace\" font-weight=\"bold\" font-size=\"10.00\" fill=\"#000000\">__exit__()</text>\n",
       "</a>\n",
       "</g>\n",
       "<g id=\"a_node2_9\"><a xlink:href=\"DeltaDebugger.ipynb\" xlink:title=\"__init__(self) &#45;&gt; None:&#10;Initialize collector\">\n",
       "<text text-anchor=\"start\" x=\"29.5\" y=\"-263.5\" font-family=\"'Fira Mono', 'Source Code Pro', 'Courier', monospace\" font-weight=\"bold\" font-style=\"italic\" font-size=\"10.00\" fill=\"#000000\">__init__()</text>\n",
       "</a>\n",
       "</g>\n",
       "<g id=\"a_node2_10\"><a xlink:href=\"DeltaDebugger.ipynb\" xlink:title=\"args(self) &#45;&gt; Dict[str, Any]:&#10;Return the dictionary of collected arguments.\">\n",
       "<text text-anchor=\"start\" x=\"29.5\" y=\"-252.5\" font-family=\"'Fira Mono', 'Source Code Pro', 'Courier', monospace\" font-weight=\"bold\" font-size=\"10.00\" fill=\"#000000\">args()</text>\n",
       "</a>\n",
       "</g>\n",
       "<g id=\"a_node2_11\"><a xlink:href=\"DeltaDebugger.ipynb\" xlink:title=\"call(self, new_args:Union[Dict[str, Any], NoneType]=None) &#45;&gt; Any:&#10;Call collected function. If `new_args` is given,&#10;override arguments from its {var: value} entries.\">\n",
       "<text text-anchor=\"start\" x=\"29.5\" y=\"-241.5\" font-family=\"'Fira Mono', 'Source Code Pro', 'Courier', monospace\" font-weight=\"bold\" font-size=\"10.00\" fill=\"#000000\">call()</text>\n",
       "</a>\n",
       "</g>\n",
       "<g id=\"a_node2_12\"><a xlink:href=\"DeltaDebugger.ipynb\" xlink:title=\"exception(self) &#45;&gt; Union[BaseException, NoneType]:&#10;Return the exception produced, or `None` if none.\">\n",
       "<text text-anchor=\"start\" x=\"29.5\" y=\"-230.5\" font-family=\"'Fira Mono', 'Source Code Pro', 'Courier', monospace\" font-weight=\"bold\" font-size=\"10.00\" fill=\"#000000\">exception()</text>\n",
       "</a>\n",
       "</g>\n",
       "<g id=\"a_node2_13\"><a xlink:href=\"DeltaDebugger.ipynb\" xlink:title=\"function(self) &#45;&gt; Callable:&#10;Return the function called.\">\n",
       "<text text-anchor=\"start\" x=\"29.5\" y=\"-219.5\" font-family=\"'Fira Mono', 'Source Code Pro', 'Courier', monospace\" font-weight=\"bold\" font-size=\"10.00\" fill=\"#000000\">function()</text>\n",
       "</a>\n",
       "</g>\n",
       "<g id=\"a_node2_14\"><a xlink:href=\"DeltaDebugger.ipynb\" xlink:title=\"after_collection(self) &#45;&gt; None:&#10;Called after collection. To be defined in subclasses.\">\n",
       "<text text-anchor=\"start\" x=\"29.5\" y=\"-208.5\" font-family=\"'Fira Mono', 'Source Code Pro', 'Courier', monospace\" font-style=\"italic\" font-size=\"10.00\" fill=\"#000000\">after_collection()</text>\n",
       "</a>\n",
       "</g>\n",
       "<g id=\"a_node2_15\"><a xlink:href=\"DeltaDebugger.ipynb\" xlink:title=\"format_call(self, args:Union[Dict[str, Any], NoneType]=None) &#45;&gt; str:&#10;Return a string representing a call of the function with given args.\">\n",
       "<text text-anchor=\"start\" x=\"29.5\" y=\"-196.5\" font-family=\"'Fira Mono', 'Source Code Pro', 'Courier', monospace\" font-size=\"10.00\" fill=\"#000000\">format_call()</text>\n",
       "</a>\n",
       "</g>\n",
       "<g id=\"a_node2_16\"><a xlink:href=\"DeltaDebugger.ipynb\" xlink:title=\"format_exception(self, exc:Union[BaseException, NoneType]=None) &#45;&gt; str:&#10;Return a string representing the given exception.\">\n",
       "<text text-anchor=\"start\" x=\"29.5\" y=\"-185.5\" font-family=\"'Fira Mono', 'Source Code Pro', 'Courier', monospace\" font-size=\"10.00\" fill=\"#000000\">format_exception()</text>\n",
       "</a>\n",
       "</g>\n",
       "<g id=\"a_node2_17\"><a xlink:href=\"DeltaDebugger.ipynb\" xlink:title=\"init(self) &#45;&gt; None:&#10;Reset for new collection.\">\n",
       "<text text-anchor=\"start\" x=\"29.5\" y=\"-174.5\" font-family=\"'Fira Mono', 'Source Code Pro', 'Courier', monospace\" font-size=\"10.00\" fill=\"#000000\">init()</text>\n",
       "</a>\n",
       "</g>\n",
       "<g id=\"a_node2_18\"><a xlink:href=\"DeltaDebugger.ipynb\" xlink:title=\"traceit(self, frame:frame, event:str, arg:Any) &#45;&gt; None:&#10;Tracing function. Collect first call, then turn tracing off.\">\n",
       "<text text-anchor=\"start\" x=\"29.5\" y=\"-163.5\" font-family=\"'Fira Mono', 'Source Code Pro', 'Courier', monospace\" font-size=\"10.00\" fill=\"#000000\">traceit()</text>\n",
       "</a>\n",
       "</g>\n",
       "</a>\n",
       "</g>\n",
       "</a>\n",
       "</g>\n",
       "</g>\n",
       "<!-- DDSetDebugger&#45;&gt;CallCollector -->\n",
       "<g id=\"edge1\" class=\"edge\">\n",
       "<title>DDSetDebugger&#45;&gt;CallCollector</title>\n",
       "<path fill=\"none\" stroke=\"#000000\" d=\"M83.5,-103.0888C83.5,-116.1301 83.5,-130.9825 83.5,-145.9501\"/>\n",
       "<polygon fill=\"none\" stroke=\"#000000\" points=\"80.0001,-146.3097 83.5,-156.3098 87.0001,-146.3098 80.0001,-146.3097\"/>\n",
       "</g>\n",
       "<!-- StackInspector -->\n",
       "<g id=\"node3\" class=\"node\">\n",
       "<title>StackInspector</title>\n",
       "<g id=\"a_node3\"><a xlink:href=\"StackInspector.ipynb\" xlink:title=\"class StackInspector:&#10;Provide functions to inspect the stack\">\n",
       "<polygon fill=\"none\" stroke=\"#000000\" points=\"0,-356.5 0,-527.5 167,-527.5 167,-356.5 0,-356.5\"/>\n",
       "<text text-anchor=\"start\" x=\"32.5\" y=\"-513.3\" font-family=\"Raleway, Helvetica, Arial, sans-serif\" font-weight=\"bold\" font-size=\"14.00\" fill=\"#6a0dad\">StackInspector</text>\n",
       "<polyline fill=\"none\" stroke=\"#000000\" points=\"0,-504.5 167,-504.5 \"/>\n",
       "<g id=\"a_node3_19\"><a xlink:href=\"#\" xlink:title=\"StackInspector\">\n",
       "<g id=\"a_node3_20\"><a xlink:href=\"StackInspector.ipynb\" xlink:title=\"_generated_function_cache = {}\">\n",
       "<text text-anchor=\"start\" x=\"8.5\" y=\"-492\" font-family=\"'Fira Mono', 'Source Code Pro', 'Courier', monospace\" font-size=\"10.00\" fill=\"#000000\">_generated_function_cache</text>\n",
       "</a>\n",
       "</g>\n",
       "</a>\n",
       "</g>\n",
       "<polyline fill=\"none\" stroke=\"#000000\" points=\"0,-485.5 167,-485.5 \"/>\n",
       "<g id=\"a_node3_21\"><a xlink:href=\"#\" xlink:title=\"StackInspector\">\n",
       "<g id=\"a_node3_22\"><a xlink:href=\"StackInspector.ipynb\" xlink:title=\"caller_frame(self) &#45;&gt; frame:&#10;Return the frame of the caller.\">\n",
       "<text text-anchor=\"start\" x=\"26.5\" y=\"-473\" font-family=\"'Fira Mono', 'Source Code Pro', 'Courier', monospace\" font-size=\"10.00\" fill=\"#000000\">caller_frame()</text>\n",
       "</a>\n",
       "</g>\n",
       "<g id=\"a_node3_23\"><a xlink:href=\"StackInspector.ipynb\" xlink:title=\"caller_function(self) &#45;&gt; Callable:&#10;Return the calling function\">\n",
       "<text text-anchor=\"start\" x=\"26.5\" y=\"-462\" font-family=\"'Fira Mono', 'Source Code Pro', 'Courier', monospace\" font-size=\"10.00\" fill=\"#000000\">caller_function()</text>\n",
       "</a>\n",
       "</g>\n",
       "<g id=\"a_node3_24\"><a xlink:href=\"StackInspector.ipynb\" xlink:title=\"caller_globals(self) &#45;&gt; Dict[str, Any]:&#10;Return the globals() environment of the caller.\">\n",
       "<text text-anchor=\"start\" x=\"26.5\" y=\"-451\" font-family=\"'Fira Mono', 'Source Code Pro', 'Courier', monospace\" font-size=\"10.00\" fill=\"#000000\">caller_globals()</text>\n",
       "</a>\n",
       "</g>\n",
       "<g id=\"a_node3_25\"><a xlink:href=\"StackInspector.ipynb\" xlink:title=\"caller_locals(self) &#45;&gt; Dict[str, Any]:&#10;Return the locals() environment of the caller.\">\n",
       "<text text-anchor=\"start\" x=\"26.5\" y=\"-440\" font-family=\"'Fira Mono', 'Source Code Pro', 'Courier', monospace\" font-size=\"10.00\" fill=\"#000000\">caller_locals()</text>\n",
       "</a>\n",
       "</g>\n",
       "<g id=\"a_node3_26\"><a xlink:href=\"StackInspector.ipynb\" xlink:title=\"caller_location(self) &#45;&gt; Tuple[Callable, int]:&#10;Return the location (func, lineno) of the caller.\">\n",
       "<text text-anchor=\"start\" x=\"26.5\" y=\"-429\" font-family=\"'Fira Mono', 'Source Code Pro', 'Courier', monospace\" font-size=\"10.00\" fill=\"#000000\">caller_location()</text>\n",
       "</a>\n",
       "</g>\n",
       "<g id=\"a_node3_27\"><a xlink:href=\"StackInspector.ipynb\" xlink:title=\"create_function(self, frame:frame) &#45;&gt; Callable:&#10;Create function for given frame\">\n",
       "<text text-anchor=\"start\" x=\"26.5\" y=\"-418\" font-family=\"'Fira Mono', 'Source Code Pro', 'Courier', monospace\" font-size=\"10.00\" fill=\"#000000\">create_function()</text>\n",
       "</a>\n",
       "</g>\n",
       "<g id=\"a_node3_28\"><a xlink:href=\"StackInspector.ipynb\" xlink:title=\"is_internal_error(self, exc_tp:Type, exc_value:BaseException, exc_traceback:traceback) &#45;&gt; bool:&#10;Return True if exception was raised from `StackInspector` or a subclass.\">\n",
       "<text text-anchor=\"start\" x=\"26.5\" y=\"-407\" font-family=\"'Fira Mono', 'Source Code Pro', 'Courier', monospace\" font-size=\"10.00\" fill=\"#000000\">is_internal_error()</text>\n",
       "</a>\n",
       "</g>\n",
       "<g id=\"a_node3_29\"><a xlink:href=\"StackInspector.ipynb\" xlink:title=\"our_frame(self, frame:frame) &#45;&gt; bool:&#10;Return true if `frame` is in the current (inspecting) class.\">\n",
       "<text text-anchor=\"start\" x=\"26.5\" y=\"-396\" font-family=\"'Fira Mono', 'Source Code Pro', 'Courier', monospace\" font-size=\"10.00\" fill=\"#000000\">our_frame()</text>\n",
       "</a>\n",
       "</g>\n",
       "<g id=\"a_node3_30\"><a xlink:href=\"StackInspector.ipynb\" xlink:title=\"search_frame(self, name:str, frame:Union[frame, NoneType]=None) &#45;&gt; Tuple[Union[frame, NoneType], Union[Callable, NoneType]]:&#10;Return a pair (`frame`, `item`)&#10;in which the function `name` is defined as `item`.\">\n",
       "<text text-anchor=\"start\" x=\"26.5\" y=\"-385\" font-family=\"'Fira Mono', 'Source Code Pro', 'Courier', monospace\" font-size=\"10.00\" fill=\"#000000\">search_frame()</text>\n",
       "</a>\n",
       "</g>\n",
       "<g id=\"a_node3_31\"><a xlink:href=\"StackInspector.ipynb\" xlink:title=\"search_func(self, name:str, frame:Union[frame, NoneType]=None) &#45;&gt; Union[Callable, NoneType]:&#10;Search in callers for a definition of the function `name`\">\n",
       "<text text-anchor=\"start\" x=\"26.5\" y=\"-374\" font-family=\"'Fira Mono', 'Source Code Pro', 'Courier', monospace\" font-size=\"10.00\" fill=\"#000000\">search_func()</text>\n",
       "</a>\n",
       "</g>\n",
       "<g id=\"a_node3_32\"><a xlink:href=\"StackInspector.ipynb\" xlink:title=\"unknown(self) &#45;&gt; None\">\n",
       "<text text-anchor=\"start\" x=\"26.5\" y=\"-363\" font-family=\"'Fira Mono', 'Source Code Pro', 'Courier', monospace\" font-size=\"10.00\" fill=\"#000000\">unknown()</text>\n",
       "</a>\n",
       "</g>\n",
       "</a>\n",
       "</g>\n",
       "</a>\n",
       "</g>\n",
       "</g>\n",
       "<!-- CallCollector&#45;&gt;StackInspector -->\n",
       "<g id=\"edge2\" class=\"edge\">\n",
       "<title>CallCollector&#45;&gt;StackInspector</title>\n",
       "<path fill=\"none\" stroke=\"#000000\" d=\"M83.5,-319.5057C83.5,-328.2948 83.5,-337.2957 83.5,-346.2325\"/>\n",
       "<polygon fill=\"none\" stroke=\"#000000\" points=\"80.0001,-346.2806 83.5,-356.2806 87.0001,-346.2806 80.0001,-346.2806\"/>\n",
       "</g>\n",
       "<!-- TreeGeneralizer -->\n",
       "<g id=\"node4\" class=\"node\">\n",
       "<title>TreeGeneralizer</title>\n",
       "<g id=\"a_node4\"><a xlink:href=\"#\" xlink:title=\"class TreeGeneralizer:&#10;Determine which parts of a derivation tree can be generalized.\">\n",
       "<polygon fill=\"none\" stroke=\"#000000\" points=\"165,-.5 165,-119.5 308,-119.5 308,-.5 165,-.5\"/>\n",
       "<text text-anchor=\"start\" x=\"182\" y=\"-105.3\" font-family=\"Raleway, Helvetica, Arial, sans-serif\" font-weight=\"bold\" font-size=\"14.00\" fill=\"#6a0dad\">TreeGeneralizer</text>\n",
       "<polyline fill=\"none\" stroke=\"#000000\" points=\"165,-96.5 308,-96.5 \"/>\n",
       "<g id=\"a_node4_33\"><a xlink:href=\"#\" xlink:title=\"TreeGeneralizer\">\n",
       "<g id=\"a_node4_34\"><a xlink:href=\"#\" xlink:title=\"__init__(self, grammar:Dict[str, List[Union[str, Tuple[str, Dict[str, Any]]]]], tree:Tuple[str, Union[List[Any], NoneType]], test:Callable, max_tries_for_generalization:int=10, **kwargs:Any) &#45;&gt; None:&#10;Constructor. `grammar` and `tree` are as in `TreeMutator`.&#10;`test` is a function taking a string that either&#10;* raises an exception, indicating test failure;&#10;* or not, indicating test success.&#10;`max_tries_for_generalization` is the number of times&#10;an instantiation has to fail before it is generalized.\">\n",
       "<text text-anchor=\"start\" x=\"173.5\" y=\"-85.5\" font-family=\"'Fira Mono', 'Source Code Pro', 'Courier', monospace\" font-style=\"italic\" font-size=\"10.00\" fill=\"#000000\">__init__()</text>\n",
       "</a>\n",
       "</g>\n",
       "<g id=\"a_node4_35\"><a xlink:href=\"#\" xlink:title=\"can_generalize(self, path:List[int], tree:Union[Tuple[str, Union[List[Any], NoneType]], NoneType]=None) &#45;&gt; bool:&#10;Return True if the subtree at `path` can be generalized.\">\n",
       "<text text-anchor=\"start\" x=\"173.5\" y=\"-73.5\" font-family=\"'Fira Mono', 'Source Code Pro', 'Courier', monospace\" font-size=\"10.00\" fill=\"#000000\">can_generalize()</text>\n",
       "</a>\n",
       "</g>\n",
       "<g id=\"a_node4_36\"><a xlink:href=\"#\" xlink:title=\"find_paths(self, predicate:Callable[[List[int], Tuple[str, Union[List[Any], NoneType]]], bool], path:Union[List[int], NoneType]=None, tree:Union[Tuple[str, Union[List[Any], NoneType]], NoneType]=None) &#45;&gt; List[List[int]]:&#10;Return a list of all paths for which `predicate` holds.&#10;`predicate` is a function `predicate`(`path`, `tree`), where&#10;`path` denotes a subtree in `tree`. If `predicate()` returns&#10;True, `path` is included in the returned list.\">\n",
       "<text text-anchor=\"start\" x=\"173.5\" y=\"-62.5\" font-family=\"'Fira Mono', 'Source Code Pro', 'Courier', monospace\" font-size=\"10.00\" fill=\"#000000\">find_paths()</text>\n",
       "</a>\n",
       "</g>\n",
       "<g id=\"a_node4_37\"><a xlink:href=\"#\" xlink:title=\"fuzz_tree(self, tree:Tuple[str, Union[List[Any], NoneType]]) &#45;&gt; Tuple[str, Union[List[Any], NoneType]]:&#10;Return an instantiated copy of `tree`.\">\n",
       "<text text-anchor=\"start\" x=\"173.5\" y=\"-51.5\" font-family=\"'Fira Mono', 'Source Code Pro', 'Courier', monospace\" font-size=\"10.00\" fill=\"#000000\">fuzz_tree()</text>\n",
       "</a>\n",
       "</g>\n",
       "<g id=\"a_node4_38\"><a xlink:href=\"#\" xlink:title=\"generalizable_paths(self) &#45;&gt; List[List[int]]:&#10;Return a list of all paths whose subtrees can be generalized.\">\n",
       "<text text-anchor=\"start\" x=\"173.5\" y=\"-40.5\" font-family=\"'Fira Mono', 'Source Code Pro', 'Courier', monospace\" font-size=\"10.00\" fill=\"#000000\">generalizable_paths()</text>\n",
       "</a>\n",
       "</g>\n",
       "<g id=\"a_node4_39\"><a xlink:href=\"#\" xlink:title=\"generalize(self) &#45;&gt; Tuple[str, Union[List[Any], NoneType]]:&#10;Returns a copy of the tree in which all generalizable subtrees&#10;are generalized (= replaced by nonterminals without children)\">\n",
       "<text text-anchor=\"start\" x=\"173.5\" y=\"-29.5\" font-family=\"'Fira Mono', 'Source Code Pro', 'Courier', monospace\" font-size=\"10.00\" fill=\"#000000\">generalize()</text>\n",
       "</a>\n",
       "</g>\n",
       "<g id=\"a_node4_40\"><a xlink:href=\"#\" xlink:title=\"generalize_path(self, path:List[int], tree:Union[Tuple[str, Union[List[Any], NoneType]], NoneType]=None) &#45;&gt; Tuple[str, Union[List[Any], NoneType]]:&#10;Return a copy of the tree in which the subtree at `path`&#10;is generalized (= replaced by a nonterminal without children)\">\n",
       "<text text-anchor=\"start\" x=\"173.5\" y=\"-18.5\" font-family=\"'Fira Mono', 'Source Code Pro', 'Courier', monospace\" font-size=\"10.00\" fill=\"#000000\">generalize_path()</text>\n",
       "</a>\n",
       "</g>\n",
       "<g id=\"a_node4_41\"><a xlink:href=\"#\" xlink:title=\"test_tree(self, tree:Tuple[str, Union[List[Any], NoneType]]) &#45;&gt; bool:&#10;Return True if testing `tree` passes, else False\">\n",
       "<text text-anchor=\"start\" x=\"173.5\" y=\"-7.5\" font-family=\"'Fira Mono', 'Source Code Pro', 'Courier', monospace\" font-size=\"10.00\" fill=\"#000000\">test_tree()</text>\n",
       "</a>\n",
       "</g>\n",
       "</a>\n",
       "</g>\n",
       "</a>\n",
       "</g>\n",
       "</g>\n",
       "<!-- TreeMutator -->\n",
       "<g id=\"node5\" class=\"node\">\n",
       "<title>TreeMutator</title>\n",
       "<g id=\"a_node5\"><a xlink:href=\"#\" xlink:title=\"class TreeMutator:&#10;Grammar&#45;based mutations of derivation trees.\">\n",
       "<polygon fill=\"none\" stroke=\"#000000\" points=\"186,-200.5 186,-275.5 287,-275.5 287,-200.5 186,-200.5\"/>\n",
       "<text text-anchor=\"start\" x=\"194\" y=\"-261.3\" font-family=\"Raleway, Helvetica, Arial, sans-serif\" font-weight=\"bold\" font-size=\"14.00\" fill=\"#6a0dad\">TreeMutator</text>\n",
       "<polyline fill=\"none\" stroke=\"#000000\" points=\"186,-252.5 287,-252.5 \"/>\n",
       "<g id=\"a_node5_42\"><a xlink:href=\"#\" xlink:title=\"TreeMutator\">\n",
       "<g id=\"a_node5_43\"><a xlink:href=\"#\" xlink:title=\"__init__(self, grammar:Dict[str, List[Union[str, Tuple[str, Dict[str, Any]]]]], tree:Tuple[str, Union[List[Any], NoneType]], fuzzer:Union[fuzzingbook.GrammarFuzzer.GrammarFuzzer, NoneType]=None, log:int=False):&#10;Constructor.&#10;`grammar` is the underlying grammar;&#10;`tree` is the tree to work on.&#10;`fuzzer` is the grammar fuzzer to use (default: `GrammarFuzzer`)\">\n",
       "<text text-anchor=\"start\" x=\"197.5\" y=\"-241.5\" font-family=\"'Fira Mono', 'Source Code Pro', 'Courier', monospace\" font-style=\"italic\" font-size=\"10.00\" fill=\"#000000\">__init__()</text>\n",
       "</a>\n",
       "</g>\n",
       "<g id=\"a_node5_44\"><a xlink:href=\"#\" xlink:title=\"get_subtree(self, path:List[int], tree:Union[Tuple[str, Union[List[Any], NoneType]], NoneType]=None) &#45;&gt; Tuple[str, Union[List[Any], NoneType]]:&#10;Access a subtree based on `path` (a list of children numbers)\">\n",
       "<text text-anchor=\"start\" x=\"197.5\" y=\"-229.5\" font-family=\"'Fira Mono', 'Source Code Pro', 'Courier', monospace\" font-size=\"10.00\" fill=\"#000000\">get_subtree()</text>\n",
       "</a>\n",
       "</g>\n",
       "<g id=\"a_node5_45\"><a xlink:href=\"#\" xlink:title=\"mutate(self, path:List[int], tree:Union[Tuple[str, Union[List[Any], NoneType]], NoneType]=None) &#45;&gt; Tuple[str, Union[List[Any], NoneType]]:&#10;Return a new tree mutated at `path`\">\n",
       "<text text-anchor=\"start\" x=\"197.5\" y=\"-218.5\" font-family=\"'Fira Mono', 'Source Code Pro', 'Courier', monospace\" font-size=\"10.00\" fill=\"#000000\">mutate()</text>\n",
       "</a>\n",
       "</g>\n",
       "<g id=\"a_node5_46\"><a xlink:href=\"#\" xlink:title=\"new_tree(self, start_symbol:str) &#45;&gt; Tuple[str, Union[List[Any], NoneType]]:&#10;Create a new subtree for &lt;start_symbol&gt;.\">\n",
       "<text text-anchor=\"start\" x=\"197.5\" y=\"-207.5\" font-family=\"'Fira Mono', 'Source Code Pro', 'Courier', monospace\" font-size=\"10.00\" fill=\"#000000\">new_tree()</text>\n",
       "</a>\n",
       "</g>\n",
       "</a>\n",
       "</g>\n",
       "</a>\n",
       "</g>\n",
       "</g>\n",
       "<!-- TreeGeneralizer&#45;&gt;TreeMutator -->\n",
       "<g id=\"edge3\" class=\"edge\">\n",
       "<title>TreeGeneralizer&#45;&gt;TreeMutator</title>\n",
       "<path fill=\"none\" stroke=\"#000000\" d=\"M236.5,-119.7666C236.5,-142.6805 236.5,-168.5026 236.5,-190.1565\"/>\n",
       "<polygon fill=\"none\" stroke=\"#000000\" points=\"233.0001,-190.4207 236.5,-200.4207 240.0001,-190.4208 233.0001,-190.4207\"/>\n",
       "</g>\n",
       "<!-- Legend -->\n",
       "<g id=\"node6\" class=\"node\">\n",
       "<title>Legend</title>\n",
       "<text text-anchor=\"start\" x=\"326.5\" y=\"-77.5\" font-family=\"Raleway, Helvetica, Arial, sans-serif\" font-weight=\"bold\" font-size=\"10.00\" fill=\"#6a0dad\">Legend</text>\n",
       "<text text-anchor=\"start\" x=\"326.5\" y=\"-67.5\" font-family=\"Raleway, Helvetica, Arial, sans-serif\" font-size=\"10.00\" fill=\"#000000\">• </text>\n",
       "<text text-anchor=\"start\" x=\"333.5\" y=\"-67.5\" font-family=\"'Fira Mono', 'Source Code Pro', 'Courier', monospace\" font-weight=\"bold\" font-size=\"8.00\" fill=\"#000000\">public_method()</text>\n",
       "<text text-anchor=\"start\" x=\"326.5\" y=\"-57.5\" font-family=\"Raleway, Helvetica, Arial, sans-serif\" font-size=\"10.00\" fill=\"#000000\">• </text>\n",
       "<text text-anchor=\"start\" x=\"333.5\" y=\"-57.5\" font-family=\"'Fira Mono', 'Source Code Pro', 'Courier', monospace\" font-size=\"8.00\" fill=\"#000000\">private_method()</text>\n",
       "<text text-anchor=\"start\" x=\"326.5\" y=\"-47.5\" font-family=\"Raleway, Helvetica, Arial, sans-serif\" font-size=\"10.00\" fill=\"#000000\">• </text>\n",
       "<text text-anchor=\"start\" x=\"333.5\" y=\"-47.5\" font-family=\"'Fira Mono', 'Source Code Pro', 'Courier', monospace\" font-style=\"italic\" font-size=\"8.00\" fill=\"#000000\">overloaded_method()</text>\n",
       "<text text-anchor=\"start\" x=\"326.5\" y=\"-38.3\" font-family=\"Helvetica,sans-Serif\" font-size=\"9.00\" fill=\"#000000\">Hover over names to see doc</text>\n",
       "</g>\n",
       "</g>\n",
       "</svg>\n"
      ],
      "text/plain": [
       "<graphviz.dot.Digraph at 0x7fc946b86358>"
      ]
     },
     "execution_count": 1,
     "metadata": {},
     "output_type": "execute_result"
    }
   ],
   "source": [
    "# ignore\n",
    "display_class_hierarchy([DDSetDebugger, TreeGeneralizer],\n",
    "                        public_methods=[\n",
    "                            CallCollector.__init__,\n",
    "                            CallCollector.__enter__,\n",
    "                            CallCollector.__exit__,\n",
    "                            CallCollector.function,\n",
    "                            CallCollector.args,\n",
    "                            CallCollector.exception,\n",
    "                            CallCollector.call,  # type: ignore\n",
    "                            DDSetDebugger.__init__,\n",
    "                            DDSetDebugger.__repr__,\n",
    "                            DDSetDebugger.fuzz,\n",
    "                            DDSetDebugger.fuzz_args,\n",
    "                            DDSetDebugger.generalize,\n",
    "                        ], project='debuggingbook')"
   ]
  },
  {
   "cell_type": "markdown",
   "metadata": {
    "button": false,
    "new_sheet": true,
    "run_control": {
     "read_only": false
    },
    "slideshow": {
     "slide_type": "slide"
    }
   },
   "source": [
    "## Lessons Learned\n",
    "\n",
    "* Generalizing failure-inducing inputs can yield important information for which inputs and under which circumstances a failure occurs.\n",
    "* Generalizing failure-inducing inputs is most useful if the input can be split into multiple elements, of which only a part are relevant for producing the error.\n",
    "* As they help in _parsing_ and _producing_ input, _grammars_ can play an important role in testing and debugging."
   ]
  },
  {
   "cell_type": "markdown",
   "metadata": {
    "button": false,
    "new_sheet": false,
    "run_control": {
     "read_only": false
    },
    "slideshow": {
     "slide_type": "slide"
    }
   },
   "source": [
    "## Next Steps\n",
    "\n",
    "Our [next chapter](Repairer.ipynb) introduces _automated repair_ of programs, building on the fault localization and generalization mechanisms introduced so far."
   ]
  },
  {
   "cell_type": "markdown",
   "metadata": {
    "slideshow": {
     "slide_type": "slide"
    }
   },
   "source": [
    "## Background\n",
    "\n",
    "Our `DDSetDebugger` class implements the DDSET algorithm as introduced by Gopinath et al. in \\cite{Gopinath2020}. A [full-fledged implementation of DDSET](https://rahul.gopinath.org/post/2020/07/15/ddset/) with plenty of details and experiments is available as a Jupyter Notebook. Our implementation follows the [simplified implementation of DDSET, as described by Gopinath](https://rahul.gopinath.org/post/2020/08/03/simple-ddset/).\n",
    "\n",
    "The potential for determining how input features relate to bugs is not nearly explored yet. \n",
    "The ALHAZEN work by Kampmann et al. \\cite{Kampmann2020} generalizes over DDSET in a different way, by investigating _semantic_ features of input elements such as their numeric interpretation or length and their correlation with failures. Like DDSET, ALHAZEN also uses a feedback loop to strengthen or refute its hypotheses.\n",
    "\n",
    "In recent work \\cite{Gopinath2021}, Gopinath has extended the concept of DDSET further. His work on _evocative expressions_ introduces a _pattern language_ in which arbitrary DDSET-like patterns can be combined into Boolean formula that even more precisely capture and produce failure circumstances. In particular, evocative expressions can _specialize_ grammars towards Boolean pattern combinations, thus allowing for great flexibility in testing and debugging."
   ]
  },
  {
   "cell_type": "markdown",
   "metadata": {
    "button": false,
    "new_sheet": true,
    "run_control": {
     "read_only": false
    },
    "slideshow": {
     "slide_type": "slide"
    }
   },
   "source": [
    "## Exercises"
   ]
  },
  {
   "cell_type": "markdown",
   "metadata": {
    "button": false,
    "new_sheet": false,
    "run_control": {
     "read_only": false
    },
    "slideshow": {
     "slide_type": "subslide"
    }
   },
   "source": [
    "### Exercise 1: Generalization and Specialization\n",
    "\n",
    "Consider the abstract failure-inducing input for `BAD_INPUT` we determined:"
   ]
  },
  {
   "cell_type": "code",
   "execution_count": 110,
   "metadata": {
    "execution": {
     "iopub.execute_input": "2021-03-09T12:01:57.936311Z",
     "iopub.status.busy": "2021-03-09T12:01:57.935744Z",
     "iopub.status.idle": "2021-03-09T12:01:57.937990Z",
     "shell.execute_reply": "2021-03-09T12:01:57.938391Z"
    },
    "slideshow": {
     "slide_type": "fragment"
    }
   },
   "outputs": [
    {
     "data": {
      "text/plain": [
       "'<opening-tag>\"<plain-text><closing-tag>'"
      ]
     },
     "execution_count": 1,
     "metadata": {},
     "output_type": "execute_result"
    }
   ],
   "source": [
    "all_terminals(abstract_failure_inducing_input)"
   ]
  },
  {
   "cell_type": "markdown",
   "metadata": {
    "button": false,
    "new_sheet": false,
    "run_control": {
     "read_only": false
    },
    "slideshow": {
     "slide_type": "fragment"
    },
    "solution2": "hidden",
    "solution2_first": true
   },
   "source": [
    "1. How does it change if you increase the number of test runs, using `max_tries_for_generalization`?\n",
    "2. What is the success rate of the new pattern?"
   ]
  },
  {
   "cell_type": "markdown",
   "metadata": {
    "slideshow": {
     "slide_type": "skip"
    },
    "solution2": "hidden"
   },
   "source": [
    "**Solution.** We can compute this by increasing `max_tries_for_generalization`:"
   ]
  },
  {
   "cell_type": "code",
   "execution_count": 111,
   "metadata": {
    "execution": {
     "iopub.execute_input": "2021-03-09T12:01:58.024803Z",
     "iopub.status.busy": "2021-03-09T12:01:57.982032Z",
     "iopub.status.idle": "2021-03-09T12:01:58.178272Z",
     "shell.execute_reply": "2021-03-09T12:01:58.178733Z"
    },
    "slideshow": {
     "slide_type": "skip"
    },
    "solution2": "hidden"
   },
   "outputs": [],
   "source": [
    "more_precise_bitg = \\\n",
    "    cast(TreeGeneralizer, bad_input_tree_generalizer(max_tries_for_generalization=100))\n",
    "\n",
    "more_precise_abstract_failure_inducing_input = \\\n",
    "    more_precise_bitg.generalize()"
   ]
  },
  {
   "cell_type": "code",
   "execution_count": 112,
   "metadata": {
    "cell_style": "split",
    "execution": {
     "iopub.execute_input": "2021-03-09T12:01:58.182873Z",
     "iopub.status.busy": "2021-03-09T12:01:58.181893Z",
     "iopub.status.idle": "2021-03-09T12:01:58.184530Z",
     "shell.execute_reply": "2021-03-09T12:01:58.184961Z"
    },
    "slideshow": {
     "slide_type": "skip"
    },
    "solution2": "hidden"
   },
   "outputs": [
    {
     "data": {
      "text/plain": [
       "'<lt><id><gt>\"<plain-text><closing-tag>'"
      ]
     },
     "execution_count": 1,
     "metadata": {},
     "output_type": "execute_result"
    }
   ],
   "source": [
    "all_terminals(more_precise_abstract_failure_inducing_input)"
   ]
  },
  {
   "cell_type": "markdown",
   "metadata": {
    "slideshow": {
     "slide_type": "skip"
    },
    "solution2": "hidden"
   },
   "source": [
    "We see that we still have an opening tag; however, it no longer assumes attributes."
   ]
  },
  {
   "cell_type": "markdown",
   "metadata": {
    "slideshow": {
     "slide_type": "skip"
    },
    "solution2": "hidden"
   },
   "source": [
    "The success rate can be computed as before:"
   ]
  },
  {
   "cell_type": "code",
   "execution_count": 113,
   "metadata": {
    "execution": {
     "iopub.execute_input": "2021-03-09T12:01:58.268295Z",
     "iopub.status.busy": "2021-03-09T12:01:58.229289Z",
     "iopub.status.idle": "2021-03-09T12:02:00.344587Z",
     "shell.execute_reply": "2021-03-09T12:02:00.345005Z"
    },
    "slideshow": {
     "slide_type": "skip"
    },
    "solution2": "hidden"
   },
   "outputs": [],
   "source": [
    "successes = 0\n",
    "failures = 0\n",
    "trials = 1000\n",
    "\n",
    "for i in range(trials):\n",
    "    test_input = all_terminals(\n",
    "        more_precise_bitg.fuzz_tree(\n",
    "            more_precise_abstract_failure_inducing_input))\n",
    "    try:\n",
    "        remove_html_markup(test_input)\n",
    "    except AssertionError:\n",
    "        successes += 1\n",
    "    else:\n",
    "        failures += 1"
   ]
  },
  {
   "cell_type": "code",
   "execution_count": 114,
   "metadata": {
    "execution": {
     "iopub.execute_input": "2021-03-09T12:02:00.348635Z",
     "iopub.status.busy": "2021-03-09T12:02:00.348047Z",
     "iopub.status.idle": "2021-03-09T12:02:00.350420Z",
     "shell.execute_reply": "2021-03-09T12:02:00.350789Z"
    },
    "slideshow": {
     "slide_type": "skip"
    },
    "solution2": "hidden"
   },
   "outputs": [
    {
     "data": {
      "text/plain": [
       "(993, 7)"
      ]
     },
     "execution_count": 1,
     "metadata": {},
     "output_type": "execute_result"
    }
   ],
   "source": [
    "successes, failures"
   ]
  },
  {
   "cell_type": "code",
   "execution_count": 115,
   "metadata": {
    "execution": {
     "iopub.execute_input": "2021-03-09T12:02:00.354024Z",
     "iopub.status.busy": "2021-03-09T12:02:00.353458Z",
     "iopub.status.idle": "2021-03-09T12:02:00.355419Z",
     "shell.execute_reply": "2021-03-09T12:02:00.355807Z"
    },
    "slideshow": {
     "slide_type": "skip"
    },
    "solution2": "hidden"
   },
   "outputs": [
    {
     "data": {
      "text/plain": [
       "0.007"
      ]
     },
     "execution_count": 1,
     "metadata": {},
     "output_type": "execute_result"
    }
   ],
   "source": [
    "failures / 1000"
   ]
  },
  {
   "cell_type": "markdown",
   "metadata": {
    "slideshow": {
     "slide_type": "skip"
    },
    "solution2": "hidden"
   },
   "source": [
    "We see that the success rate is now more than 99%, which is better than before. On the other hand, the pattern is now overly _special_, since there are `<opening-tags>` with attributes such that the failure occurs (but also some that cancel out the error)."
   ]
  },
  {
   "cell_type": "markdown",
   "metadata": {
    "button": false,
    "new_sheet": false,
    "run_control": {
     "read_only": false
    },
    "slideshow": {
     "slide_type": "subslide"
    },
    "solution": "hidden",
    "solution2": "hidden",
    "solution2_first": true,
    "solution_first": true
   },
   "source": [
    "### Exercise 2: Hierarchical Delta Debugging\n",
    "\n",
    "Implement Hierarchical Delta Debugging on trees."
   ]
  },
  {
   "cell_type": "markdown",
   "metadata": {
    "button": false,
    "new_sheet": false,
    "run_control": {
     "read_only": false
    },
    "slideshow": {
     "slide_type": "skip"
    },
    "solution": "hidden",
    "solution2": "hidden",
    "solution2_first": true,
    "solution_first": true
   },
   "source": [
    "**Solution.** Here is a solution:"
   ]
  },
  {
   "cell_type": "code",
   "execution_count": 116,
   "metadata": {
    "execution": {
     "iopub.execute_input": "2021-03-09T12:02:00.363666Z",
     "iopub.status.busy": "2021-03-09T12:02:00.363055Z",
     "iopub.status.idle": "2021-03-09T12:02:00.364849Z",
     "shell.execute_reply": "2021-03-09T12:02:00.365374Z"
    },
    "slideshow": {
     "slide_type": "skip"
    },
    "solution2": "hidden"
   },
   "outputs": [],
   "source": [
    "class TreeHDDReducer(TreeGeneralizer):\n",
    "    def _reduce(self, path: TreePath, tree: DerivationTree) -> DerivationTree:\n",
    "        \"\"\"This is HDD\"\"\"\n",
    "\n",
    "        symbol, children = self.get_subtree(path, tree)\n",
    "        assert children is not None\n",
    "\n",
    "        if len(path) >= 1:\n",
    "            parent, parent_children = self.get_subtree(path[:-1], tree)\n",
    "            assert parent_children is not None\n",
    "            assert parent_children[path[-1]] == (symbol, children)\n",
    "\n",
    "            def test_children(children: List) -> None:\n",
    "                parent_children[path[-1]] = (symbol, children)  # type: ignore\n",
    "                s = tree_to_string(tree)\n",
    "                self.test(s)\n",
    "\n",
    "            with DeltaDebugger.DeltaDebugger() as dd:\n",
    "                test_children(children)\n",
    "\n",
    "            # display(display_tree(tree))\n",
    "\n",
    "            children = dd.min_args()['children']\n",
    "            parent_children[path[-1]] = (symbol, children)\n",
    "\n",
    "        assert children is not None\n",
    "        for i, child in enumerate(children):\n",
    "            self._reduce(path + [i], tree)\n",
    "\n",
    "        return tree\n",
    "\n",
    "    def reduce(self) -> DerivationTree:\n",
    "        return self._reduce([], self.tree)"
   ]
  },
  {
   "cell_type": "code",
   "execution_count": 117,
   "metadata": {
    "execution": {
     "iopub.execute_input": "2021-03-09T12:02:00.368898Z",
     "iopub.status.busy": "2021-03-09T12:02:00.368372Z",
     "iopub.status.idle": "2021-03-09T12:02:00.369713Z",
     "shell.execute_reply": "2021-03-09T12:02:00.370203Z"
    },
    "slideshow": {
     "slide_type": "skip"
    },
    "solution2": "hidden"
   },
   "outputs": [],
   "source": [
    "def bad_input_tree_hdd_reducer() -> TreeHDDReducer:\n",
    "    return TreeHDDReducer(SIMPLE_HTML_GRAMMAR, copy.deepcopy(bad_input_tree),\n",
    "                       remove_html_markup, log=True)    "
   ]
  },
  {
   "cell_type": "code",
   "execution_count": 118,
   "metadata": {
    "execution": {
     "iopub.execute_input": "2021-03-09T12:02:00.376721Z",
     "iopub.status.busy": "2021-03-09T12:02:00.376066Z",
     "iopub.status.idle": "2021-03-09T12:02:00.378590Z",
     "shell.execute_reply": "2021-03-09T12:02:00.379034Z"
    },
    "slideshow": {
     "slide_type": "skip"
    },
    "solution2": "hidden"
   },
   "outputs": [
    {
     "data": {
      "text/plain": [
       "'\"<'"
      ]
     },
     "execution_count": 1,
     "metadata": {},
     "output_type": "execute_result"
    }
   ],
   "source": [
    "all_terminals(bad_input_tree_hdd_reducer().reduce())"
   ]
  },
  {
   "cell_type": "markdown",
   "metadata": {
    "slideshow": {
     "slide_type": "slide"
    },
    "solution2": "hidden",
    "solution2_first": true
   },
   "source": [
    "## Exercise 3: Reducing Trees\n",
    "\n",
    "Produce minimal trees when reducing."
   ]
  },
  {
   "cell_type": "markdown",
   "metadata": {
    "button": false,
    "new_sheet": false,
    "run_control": {
     "read_only": false
    },
    "slideshow": {
     "slide_type": "skip"
    },
    "solution": "hidden",
    "solution2": "hidden",
    "solution2_first": true,
    "solution_first": true
   },
   "source": [
    "**Solution.** Here is a solution:"
   ]
  },
  {
   "cell_type": "code",
   "execution_count": 119,
   "metadata": {
    "execution": {
     "iopub.execute_input": "2021-03-09T12:02:00.383160Z",
     "iopub.status.busy": "2021-03-09T12:02:00.382639Z",
     "iopub.status.idle": "2021-03-09T12:02:00.384300Z",
     "shell.execute_reply": "2021-03-09T12:02:00.384669Z"
    },
    "slideshow": {
     "slide_type": "skip"
    },
    "solution2": "hidden"
   },
   "outputs": [],
   "source": [
    "class TreeReducer(TreeGeneralizer):\n",
    "    def new_min_tree(self, start_symbol: str) -> DerivationTree:\n",
    "        if self.log >= 2:\n",
    "            print(f\"Creating new minimal tree for {start_symbol}\")\n",
    "\n",
    "        fuzzer = GrammarFuzzer(self.grammar, start_symbol=start_symbol,\n",
    "                               min_nonterminals=0,\n",
    "                               max_nonterminals=0)\n",
    "        fuzzer.fuzz()\n",
    "        return fuzzer.derivation_tree"
   ]
  },
  {
   "cell_type": "code",
   "execution_count": 120,
   "metadata": {
    "execution": {
     "iopub.execute_input": "2021-03-09T12:02:00.387683Z",
     "iopub.status.busy": "2021-03-09T12:02:00.387167Z",
     "iopub.status.idle": "2021-03-09T12:02:00.388868Z",
     "shell.execute_reply": "2021-03-09T12:02:00.389256Z"
    },
    "slideshow": {
     "slide_type": "skip"
    },
    "solution2": "hidden"
   },
   "outputs": [],
   "source": [
    "def bad_input_tree_reducer() -> TreeReducer:\n",
    "    return TreeReducer(SIMPLE_HTML_GRAMMAR, bad_input_tree,\n",
    "                       remove_html_markup, log=2)    "
   ]
  },
  {
   "cell_type": "code",
   "execution_count": 121,
   "metadata": {
    "execution": {
     "iopub.execute_input": "2021-03-09T12:02:00.395206Z",
     "iopub.status.busy": "2021-03-09T12:02:00.394650Z",
     "iopub.status.idle": "2021-03-09T12:02:00.397252Z",
     "shell.execute_reply": "2021-03-09T12:02:00.397621Z"
    },
    "slideshow": {
     "slide_type": "skip"
    },
    "solution2": "hidden"
   },
   "outputs": [
    {
     "name": "stdout",
     "output_type": "stream",
     "text": [
      "Creating new minimal tree for <start>\n"
     ]
    },
    {
     "data": {
      "text/plain": [
       "''"
      ]
     },
     "execution_count": 1,
     "metadata": {},
     "output_type": "execute_result"
    }
   ],
   "source": [
    "tree_to_string(bad_input_tree_reducer().new_min_tree('<start>'))"
   ]
  },
  {
   "cell_type": "code",
   "execution_count": 122,
   "metadata": {
    "execution": {
     "iopub.execute_input": "2021-03-09T12:02:00.402513Z",
     "iopub.status.busy": "2021-03-09T12:02:00.401846Z",
     "iopub.status.idle": "2021-03-09T12:02:00.403487Z",
     "shell.execute_reply": "2021-03-09T12:02:00.403922Z"
    },
    "slideshow": {
     "slide_type": "skip"
    },
    "solution2": "hidden"
   },
   "outputs": [],
   "source": [
    "class TreeReducer(TreeReducer):\n",
    "    def reduce_path(self, path: TreePath, tree: Optional[DerivationTree] = None) -> DerivationTree:\n",
    "        if tree is None:\n",
    "            tree = self.tree\n",
    "        assert tree is not None\n",
    "\n",
    "        symbol, children = tree\n",
    "\n",
    "        if not path or children is None:\n",
    "            return self.new_min_tree(symbol)\n",
    "\n",
    "        head = path[0]\n",
    "        new_children = (children[:head] +\n",
    "                        [self.reduce_path(path[1:], children[head])] +\n",
    "                        children[head + 1:])\n",
    "        return symbol, new_children"
   ]
  },
  {
   "cell_type": "code",
   "execution_count": 123,
   "metadata": {
    "execution": {
     "iopub.execute_input": "2021-03-09T12:02:00.408862Z",
     "iopub.status.busy": "2021-03-09T12:02:00.408287Z",
     "iopub.status.idle": "2021-03-09T12:02:00.410880Z",
     "shell.execute_reply": "2021-03-09T12:02:00.411249Z"
    },
    "slideshow": {
     "slide_type": "skip"
    },
    "solution2": "hidden"
   },
   "outputs": [
    {
     "name": "stdout",
     "output_type": "stream",
     "text": [
      "Creating new minimal tree for <plain-text>\n"
     ]
    },
    {
     "data": {
      "text/plain": [
       "'<foo></foo>'"
      ]
     },
     "execution_count": 1,
     "metadata": {},
     "output_type": "execute_result"
    }
   ],
   "source": [
    "tree_to_string(cast(TreeReducer, bad_input_tree_reducer()).reduce_path([0, 0, 1, 0]))"
   ]
  },
  {
   "cell_type": "code",
   "execution_count": 124,
   "metadata": {
    "execution": {
     "iopub.execute_input": "2021-03-09T12:02:00.414934Z",
     "iopub.status.busy": "2021-03-09T12:02:00.414418Z",
     "iopub.status.idle": "2021-03-09T12:02:00.416053Z",
     "shell.execute_reply": "2021-03-09T12:02:00.416420Z"
    },
    "slideshow": {
     "slide_type": "skip"
    },
    "solution2": "hidden"
   },
   "outputs": [],
   "source": [
    "class TreeReducer(TreeReducer):\n",
    "    def can_reduce(self, path: TreePath, tree: Optional[DerivationTree] = None) -> bool:\n",
    "        reduced_tree = self.reduce_path(path, tree)\n",
    "        if self.test_tree(reduced_tree):\n",
    "            # Failure no longer occurs; cannot reduce\n",
    "            return False\n",
    "\n",
    "        return True"
   ]
  },
  {
   "cell_type": "code",
   "execution_count": 125,
   "metadata": {
    "execution": {
     "iopub.execute_input": "2021-03-09T12:02:00.419598Z",
     "iopub.status.busy": "2021-03-09T12:02:00.419088Z",
     "iopub.status.idle": "2021-03-09T12:02:00.420736Z",
     "shell.execute_reply": "2021-03-09T12:02:00.421098Z"
    },
    "slideshow": {
     "slide_type": "skip"
    },
    "solution2": "hidden"
   },
   "outputs": [],
   "source": [
    "class TreeReducer(TreeReducer):\n",
    "    def reducible_paths(self) -> List[TreePath]:\n",
    "        return self.find_paths(self.can_reduce)"
   ]
  },
  {
   "cell_type": "code",
   "execution_count": 126,
   "metadata": {
    "execution": {
     "iopub.execute_input": "2021-03-09T12:02:00.430403Z",
     "iopub.status.busy": "2021-03-09T12:02:00.429676Z",
     "iopub.status.idle": "2021-03-09T12:02:00.440865Z",
     "shell.execute_reply": "2021-03-09T12:02:00.441389Z"
    },
    "slideshow": {
     "slide_type": "skip"
    },
    "solution2": "hidden"
   },
   "outputs": [
    {
     "name": "stdout",
     "output_type": "stream",
     "text": [
      "Creating new minimal tree for <start>\n",
      "Testing ''...PASS\n",
      "Creating new minimal tree for <html>\n",
      "Testing ''...PASS\n",
      "Creating new minimal tree for <tagged-text>\n",
      "Testing '<L>'...PASS\n",
      "Creating new minimal tree for <opening-tag>\n",
      "Testing '<z>\"bar</foo>'...FAIL (AssertionError)\n",
      "Creating new minimal tree for <html>\n",
      "Testing '<foo></foo>'...PASS\n",
      "Creating new minimal tree for <plain-text>\n",
      "Testing '<foo></foo>'...PASS\n",
      "Creating new minimal tree for <plain-char>\n",
      "Testing '<foo>\\x0cbar</foo>'...PASS\n",
      "Creating new minimal tree for <other>\n",
      "Testing '<foo>.bar</foo>'...PASS\n",
      "Creating new minimal tree for <plain-text>\n",
      "Testing '<foo>\"</foo>'...FAIL (AssertionError)\n",
      "Creating new minimal tree for <closing-tag>\n",
      "Testing '<foo>\"bar</n>'...FAIL (AssertionError)\n"
     ]
    },
    {
     "data": {
      "text/plain": [
       "[[0, 0, 0], [0, 0, 1, 0, 1], [0, 0, 2]]"
      ]
     },
     "execution_count": 1,
     "metadata": {},
     "output_type": "execute_result"
    }
   ],
   "source": [
    "cast(TreeReducer, bad_input_tree_reducer()).reducible_paths()"
   ]
  },
  {
   "cell_type": "code",
   "execution_count": 127,
   "metadata": {
    "execution": {
     "iopub.execute_input": "2021-03-09T12:02:00.445372Z",
     "iopub.status.busy": "2021-03-09T12:02:00.444754Z",
     "iopub.status.idle": "2021-03-09T12:02:00.446431Z",
     "shell.execute_reply": "2021-03-09T12:02:00.446801Z"
    },
    "slideshow": {
     "slide_type": "skip"
    },
    "solution2": "hidden"
   },
   "outputs": [],
   "source": [
    "class TreeReducer(TreeReducer):\n",
    "    def reduce(self) -> DerivationTree:\n",
    "        tree = self.tree\n",
    "        for path in self.reducible_paths():\n",
    "            tree = self.reduce_path(path, tree)\n",
    "\n",
    "        return tree"
   ]
  },
  {
   "cell_type": "code",
   "execution_count": 128,
   "metadata": {
    "execution": {
     "iopub.execute_input": "2021-03-09T12:02:00.461239Z",
     "iopub.status.busy": "2021-03-09T12:02:00.456817Z",
     "iopub.status.idle": "2021-03-09T12:02:00.468563Z",
     "shell.execute_reply": "2021-03-09T12:02:00.469057Z"
    },
    "slideshow": {
     "slide_type": "skip"
    },
    "solution2": "hidden"
   },
   "outputs": [
    {
     "name": "stdout",
     "output_type": "stream",
     "text": [
      "Creating new minimal tree for <start>\n",
      "Testing ''...PASS\n",
      "Creating new minimal tree for <html>\n",
      "Testing ''...PASS\n",
      "Creating new minimal tree for <tagged-text>\n",
      "Testing '<M>'...PASS\n",
      "Creating new minimal tree for <opening-tag>\n",
      "Testing '<Y>\"bar</foo>'...FAIL (AssertionError)\n",
      "Creating new minimal tree for <html>\n",
      "Testing '<foo></foo>'...PASS\n",
      "Creating new minimal tree for <plain-text>\n",
      "Testing '<foo></foo>'...PASS\n",
      "Creating new minimal tree for <plain-char>\n",
      "Testing '<foo>`bar</foo>'...PASS\n",
      "Creating new minimal tree for <other>\n",
      "Testing '<foo>$bar</foo>'...PASS\n",
      "Creating new minimal tree for <plain-text>\n",
      "Testing '<foo>\"</foo>'...FAIL (AssertionError)\n",
      "Creating new minimal tree for <closing-tag>\n",
      "Testing '<foo>\"bar</l>'...FAIL (AssertionError)\n",
      "Creating new minimal tree for <opening-tag>\n",
      "Creating new minimal tree for <plain-text>\n",
      "Creating new minimal tree for <closing-tag>\n"
     ]
    },
    {
     "data": {
      "text/plain": [
       "'<a>\"</k>'"
      ]
     },
     "execution_count": 1,
     "metadata": {},
     "output_type": "execute_result"
    }
   ],
   "source": [
    "all_terminals(cast(TreeReducer, bad_input_tree_reducer()).reduce())"
   ]
  }
 ],
 "metadata": {
  "ipub": {
   "bibliography": "fuzzingbook.bib",
   "toc": true
  },
  "kernelspec": {
   "display_name": "Python 3",
   "language": "python",
   "name": "python3"
  },
  "language_info": {
   "codemirror_mode": {
    "name": "ipython",
    "version": 3
   },
   "file_extension": ".py",
   "mimetype": "text/x-python",
   "name": "python",
   "nbconvert_exporter": "python",
   "pygments_lexer": "ipython3",
   "version": "3.6.10"
  },
  "toc": {
   "base_numbering": 1,
   "nav_menu": {},
   "number_sections": true,
   "sideBar": true,
   "skip_h1_title": true,
   "title_cell": "",
   "title_sidebar": "Contents",
   "toc_cell": false,
   "toc_position": {},
   "toc_section_display": true,
   "toc_window_display": true
  },
  "toc-autonumbering": false
 },
 "nbformat": 4,
 "nbformat_minor": 4
}