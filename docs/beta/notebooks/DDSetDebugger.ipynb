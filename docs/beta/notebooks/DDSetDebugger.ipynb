{
 "cells": [
  {
   "cell_type": "markdown",
   "metadata": {
    "button": false,
    "new_sheet": false,
    "run_control": {
     "read_only": false
    },
    "slideshow": {
     "slide_type": "slide"
    }
   },
   "source": [
    "# Generalizing Failure Circumstances\n",
    "\n",
    "One central question in debugging is: _Does this bug occur in other situations, too?_ In this chapter, we present a technique that is set to _generalize_ the circumstances under which a failure occurs. The DDSET algorithm takes a failure-inducing input, breaks it into individual elements. For each element, it tries to find whether it can be replaced by others in the same category, and if so, it _generalizes_ the concrete element to the very category. The result is a _pattern_ that characterizes the failure condition: \"The failure occurs for all inputs of the form `(<expr> * <expr>)`."
   ]
  },
  {
   "cell_type": "code",
   "execution_count": 1,
   "metadata": {
    "execution": {
     "iopub.execute_input": "2022-08-06T23:06:42.658358Z",
     "iopub.status.busy": "2022-08-06T23:06:42.657734Z",
     "iopub.status.idle": "2022-08-06T23:06:42.715269Z",
     "shell.execute_reply": "2022-08-06T23:06:42.715471Z"
    },
    "slideshow": {
     "slide_type": "skip"
    }
   },
   "outputs": [
    {
     "data": {
      "text/html": [
       "\n",
       "        <iframe\n",
       "            width=\"640\"\n",
       "            height=\"360\"\n",
       "            src=\"https://www.youtube-nocookie.com/embed/PV22XtIQU1s\"\n",
       "            frameborder=\"0\"\n",
       "            allowfullscreen\n",
       "        ></iframe>\n",
       "        "
      ],
      "text/plain": [
       "<IPython.lib.display.IFrame at 0x105637c70>"
      ]
     },
     "execution_count": 1,
     "metadata": {},
     "output_type": "execute_result"
    }
   ],
   "source": [
    "from bookutils import YouTubeVideo\n",
    "YouTubeVideo(\"PV22XtIQU1s\")"
   ]
  },
  {
   "cell_type": "markdown",
   "metadata": {
    "button": false,
    "new_sheet": false,
    "run_control": {
     "read_only": false
    },
    "slideshow": {
     "slide_type": "subslide"
    }
   },
   "source": [
    "**Prerequisites**\n",
    "\n",
    "* You should have read the [chapter on _delta debugging_](DeltaDebugger.ipynb)."
   ]
  },
  {
   "cell_type": "code",
   "execution_count": 2,
   "metadata": {
    "button": false,
    "execution": {
     "iopub.execute_input": "2022-08-06T23:06:42.718110Z",
     "iopub.status.busy": "2022-08-06T23:06:42.717761Z",
     "iopub.status.idle": "2022-08-06T23:06:42.719015Z",
     "shell.execute_reply": "2022-08-06T23:06:42.719215Z"
    },
    "new_sheet": false,
    "run_control": {
     "read_only": false
    },
    "slideshow": {
     "slide_type": "skip"
    }
   },
   "outputs": [],
   "source": [
    "import bookutils"
   ]
  },
  {
   "cell_type": "code",
   "execution_count": 3,
   "metadata": {
    "execution": {
     "iopub.execute_input": "2022-08-06T23:06:42.721558Z",
     "iopub.status.busy": "2022-08-06T23:06:42.721106Z",
     "iopub.status.idle": "2022-08-06T23:06:42.889590Z",
     "shell.execute_reply": "2022-08-06T23:06:42.889801Z"
    },
    "slideshow": {
     "slide_type": "skip"
    }
   },
   "outputs": [],
   "source": [
    "import DeltaDebugger"
   ]
  },
  {
   "cell_type": "markdown",
   "metadata": {
    "slideshow": {
     "slide_type": "skip"
    }
   },
   "source": [
    "## Synopsis\n",
    "<!-- Automatically generated. Do not edit. -->\n",
    "\n",
    "To [use the code provided in this chapter](Importing.ipynb), write\n",
    "\n",
    "```python\n",
    ">>> from debuggingbook.DDSetDebugger import <identifier>\n",
    "```\n",
    "\n",
    "and then make use of the following features.\n",
    "\n",
    "\n",
    "This chapter provides a class `DDSetDebugger`, implementing the DDSET algorithm for generalizing failure-inducing inputs. The `DDSetDebugger` is used as follows:\n",
    "\n",
    "```python\n",
    "with DDSetDebugger(grammar) as dd:\n",
    "    function(args...)\n",
    "dd\n",
    "```\n",
    "\n",
    "Here, `function(args...)` is a failing function call (= raises an execption) that takes at least one string argument; `grammar` is an [input grammar in fuzzingbook format](https://www.fuzzingbook.org/html/Grammars.html) that matches the format of this argument.\n",
    "\n",
    "The result is a call of `function()` with an _abstract failure-inducing input_ – a variant of the conrete input in which parts are replaced by placeholders in the form `<name>`, where `<name>` is a nonterminal in the grammar. The failure has been verified to occur for a number of instantiations of `<name>`.\n",
    "\n",
    "Here is an example of how `DDSetDebugger` works. The concrete failing input `<foo>\"bar</foo>` is generalized to an _abstract failure-inducing input_:\n",
    "\n",
    "```python\n",
    ">>> with DDSetDebugger(SIMPLE_HTML_GRAMMAR) as dd:\n",
    ">>>     remove_html_markup('<foo>\"bar</foo>')\n",
    ">>> dd\n",
    "remove_html_markup(s='<lt><id><gt>\"<plain-text><closing-tag>')\n",
    "```\n",
    "The abstract input tells us that the failure occurs for whatever opening and closing HTML tags as long as there is a double quote between them.\n",
    "\n",
    "A programmatic interface is available as well. `generalize()` returns a mapping of argument names to (generalized) values:\n",
    "\n",
    "```python\n",
    ">>> dd.generalize()\n",
    "{'s': '<lt><id><gt>\"<plain-text><closing-tag>'}\n",
    "```\n",
    "Using `fuzz()`, the abstract input can be instantiated to further concrete inputs, all set to produce the failure again:\n",
    "\n",
    "```python\n",
    ">>> for i in range(10):\n",
    ">>>     print(dd.fuzz())\n",
    "remove_html_markup(s='<s1d>\"1</hF>')\n",
    "remove_html_markup(s='<H>\"c*C</l>')\n",
    "remove_html_markup(s='<Ah2>\"</v>')\n",
    "remove_html_markup(s='<a7>\")</NP>')\n",
    "remove_html_markup(s='<boyIIt640TF>\"</b08>')\n",
    "remove_html_markup(s='<dF>\"</fay>')\n",
    "remove_html_markup(s='<l2>\"\\t7</z>')\n",
    "remove_html_markup(s='<ci>\"</t>')\n",
    "remove_html_markup(s='<J>\"2</t>')\n",
    "remove_html_markup(s='<Fo9g>\"\\r~\\t\\r</D>')\n",
    "\n",
    "```\n",
    "`DDSetDebugger` can be customized by passing a subclass of `TreeGeneralizer`, which does the gist of the work; for details, see its constructor.\n",
    "The full class hierarchy is shown below.\n",
    "\n",
    "![](PICS/DDSetDebugger-synopsis-1.svg)\n",
    "\n"
   ]
  },
  {
   "cell_type": "markdown",
   "metadata": {
    "slideshow": {
     "slide_type": "slide"
    }
   },
   "source": [
    "## A Failing Program\n",
    "\n",
    "As with previous chapters, we use `remove_html_markup()` as our ongoing example. This function is set to remove HTML markup tags (like `<em>`) from a given string `s`, returning the plain text only. We use the version from [the chapter on asssertions](Assertions.ipynb), using an assertion as postcondition checker."
   ]
  },
  {
   "cell_type": "code",
   "execution_count": 4,
   "metadata": {
    "execution": {
     "iopub.execute_input": "2022-08-06T23:06:42.892614Z",
     "iopub.status.busy": "2022-08-06T23:06:42.892234Z",
     "iopub.status.idle": "2022-08-06T23:06:42.893838Z",
     "shell.execute_reply": "2022-08-06T23:06:42.894043Z"
    },
    "slideshow": {
     "slide_type": "subslide"
    }
   },
   "outputs": [],
   "source": [
    "def remove_html_markup(s):  # type: ignore\n",
    "    tag = False\n",
    "    quote = False\n",
    "    out = \"\"\n",
    "\n",
    "    for c in s:\n",
    "        if c == '<' and not quote:\n",
    "            tag = True\n",
    "        elif c == '>' and not quote:\n",
    "            tag = False\n",
    "        elif c == '\"' or c == \"'\" and tag:\n",
    "            quote = not quote\n",
    "        elif not tag:\n",
    "            out = out + c\n",
    "\n",
    "    # postcondition\n",
    "    assert '<' not in out and '>' not in out\n",
    "\n",
    "    return out"
   ]
  },
  {
   "cell_type": "markdown",
   "metadata": {
    "slideshow": {
     "slide_type": "subslide"
    }
   },
   "source": [
    "For the most inputs, `remove_html_markup()` works just as expected:"
   ]
  },
  {
   "cell_type": "code",
   "execution_count": 5,
   "metadata": {
    "execution": {
     "iopub.execute_input": "2022-08-06T23:06:42.896375Z",
     "iopub.status.busy": "2022-08-06T23:06:42.896050Z",
     "iopub.status.idle": "2022-08-06T23:06:42.898028Z",
     "shell.execute_reply": "2022-08-06T23:06:42.898512Z"
    },
    "slideshow": {
     "slide_type": "fragment"
    }
   },
   "outputs": [
    {
     "data": {
      "text/plain": [
       "'Be quiet, he said'"
      ]
     },
     "execution_count": 5,
     "metadata": {},
     "output_type": "execute_result"
    }
   ],
   "source": [
    "remove_html_markup(\"Be <em>quiet</em>, he said\")"
   ]
  },
  {
   "cell_type": "markdown",
   "metadata": {
    "slideshow": {
     "slide_type": "fragment"
    }
   },
   "source": [
    "There are inputs, however, for which it fails:"
   ]
  },
  {
   "cell_type": "code",
   "execution_count": 6,
   "metadata": {
    "execution": {
     "iopub.execute_input": "2022-08-06T23:06:42.900828Z",
     "iopub.status.busy": "2022-08-06T23:06:42.900447Z",
     "iopub.status.idle": "2022-08-06T23:06:42.901602Z",
     "shell.execute_reply": "2022-08-06T23:06:42.901909Z"
    },
    "slideshow": {
     "slide_type": "fragment"
    }
   },
   "outputs": [],
   "source": [
    "BAD_INPUT = '<foo>\"bar</foo>'"
   ]
  },
  {
   "cell_type": "code",
   "execution_count": 7,
   "metadata": {
    "execution": {
     "iopub.execute_input": "2022-08-06T23:06:42.903725Z",
     "iopub.status.busy": "2022-08-06T23:06:42.903366Z",
     "iopub.status.idle": "2022-08-06T23:06:42.904648Z",
     "shell.execute_reply": "2022-08-06T23:06:42.904880Z"
    },
    "slideshow": {
     "slide_type": "skip"
    }
   },
   "outputs": [],
   "source": [
    "from ExpectError import ExpectError"
   ]
  },
  {
   "cell_type": "code",
   "execution_count": 8,
   "metadata": {
    "execution": {
     "iopub.execute_input": "2022-08-06T23:06:42.906676Z",
     "iopub.status.busy": "2022-08-06T23:06:42.906295Z",
     "iopub.status.idle": "2022-08-06T23:06:42.908430Z",
     "shell.execute_reply": "2022-08-06T23:06:42.908725Z"
    },
    "slideshow": {
     "slide_type": "fragment"
    }
   },
   "outputs": [
    {
     "name": "stderr",
     "output_type": "stream",
     "text": [
      "Traceback (most recent call last):\n",
      "  File \"/var/folders/n2/xd9445p97rb3xh7m1dfx8_4h0006ts/T/ipykernel_3860/3787550988.py\", line 2, in <module>\n",
      "    remove_html_markup(BAD_INPUT)\n",
      "  File \"/var/folders/n2/xd9445p97rb3xh7m1dfx8_4h0006ts/T/ipykernel_3860/2717035104.py\", line 17, in remove_html_markup\n",
      "    assert '<' not in out and '>' not in out\n",
      "AssertionError (expected)\n"
     ]
    }
   ],
   "source": [
    "with ExpectError(AssertionError):\n",
    "    remove_html_markup(BAD_INPUT)"
   ]
  },
  {
   "cell_type": "code",
   "execution_count": 9,
   "metadata": {
    "execution": {
     "iopub.execute_input": "2022-08-06T23:06:42.910661Z",
     "iopub.status.busy": "2022-08-06T23:06:42.910318Z",
     "iopub.status.idle": "2022-08-06T23:06:42.911998Z",
     "shell.execute_reply": "2022-08-06T23:06:42.912200Z"
    },
    "slideshow": {
     "slide_type": "skip"
    }
   },
   "outputs": [],
   "source": [
    "from bookutils import quiz"
   ]
  },
  {
   "cell_type": "markdown",
   "metadata": {
    "slideshow": {
     "slide_type": "subslide"
    }
   },
   "source": [
    "In contrast to the other chapters, our aim now is not to immediately go and debug `remove_html_markup()`. Instead, we focus on another important question: \n",
    "\n",
    "> Under which conditions precisely does `remove_html_markup()` fail?"
   ]
  },
  {
   "cell_type": "markdown",
   "metadata": {
    "slideshow": {
     "slide_type": "fragment"
    }
   },
   "source": [
    "This question can be generalized to\n",
    "\n",
    "> What is the set of inputs for which `remove_html_markup()` fails?"
   ]
  },
  {
   "cell_type": "markdown",
   "metadata": {
    "slideshow": {
     "slide_type": "subslide"
    }
   },
   "source": [
    "Our plan for this is to _generalize_ concrete inputs (such as `BAD_INPUTS`) into an *abstract failure-inducing inputs*. These are patterns formed from a concrete input, but in which specific _placeholders_ indicate sets of inputs that are permitted. In the abstract failure-inducing input\n",
    "\n",
    "```html\n",
    "<opening-tag>\"bar<closing-tag>\n",
    "```\n",
    "\n",
    "for instance, `<opening-tag>` and `<closing-tag>` are placeholders for opening and closing HTML tags, respectively. The pattern indicates that any opening HTML tag and closing HTML tag can be present in the input, as long as the enclosed text reads `\"bar`."
   ]
  },
  {
   "cell_type": "markdown",
   "metadata": {
    "slideshow": {
     "slide_type": "subslide"
    }
   },
   "source": [
    "Given a concrete failure-inducing input, our aim is to _generalize_ it as much as possible to such an abstract failure-inducing input. The resulting pattern should then\n",
    "\n",
    "* capture the _circumstances_ under which the program fails;\n",
    "* allow for _test generation_ by instantiating the placeholders;\n",
    "* help ensuring our fix is as _general as possible_."
   ]
  },
  {
   "cell_type": "code",
   "execution_count": 10,
   "metadata": {
    "execution": {
     "iopub.execute_input": "2022-08-06T23:06:42.917138Z",
     "iopub.status.busy": "2022-08-06T23:06:42.916801Z",
     "iopub.status.idle": "2022-08-06T23:06:42.918316Z",
     "shell.execute_reply": "2022-08-06T23:06:42.918590Z"
    },
    "slideshow": {
     "slide_type": "subslide"
    }
   },
   "outputs": [
    {
     "data": {
      "text/html": [
       "\n",
       "    \n",
       "    <script>\n",
       "    var bad_answers = new Map();\n",
       "\n",
       "    function answer(quiz_id) {\n",
       "        ans = 0;\n",
       "        for (i = 1;; i++) {\n",
       "            checkbox = document.getElementById(quiz_id + \"-\" + i.toString());\n",
       "            if (!checkbox)\n",
       "                break;\n",
       "            if (checkbox.checked)\n",
       "                ans |= (1 << i);\n",
       "        }\n",
       "        return ans;\n",
       "    }\n",
       "    function check_selection(quiz_id, correct_answer, multiple_choice, hint) {\n",
       "        given_answer = answer(quiz_id);\n",
       "        if (given_answer == correct_answer)\n",
       "        {\n",
       "            document.getElementById(quiz_id + \"-submit\").value = \"Correct!\";\n",
       "            document.getElementById(quiz_id + \"-hint\").innerHTML = \"\";\n",
       "\n",
       "            for (i = 1;; i++) {\n",
       "                checkbox = document.getElementById(quiz_id + \"-\" + i.toString());\n",
       "                label = document.getElementById(quiz_id + \"-\" + i.toString() + \"-label\")\n",
       "                if (!checkbox)\n",
       "                    break;\n",
       "    \n",
       "                if (checkbox.checked) {\n",
       "                    label.style.fontWeight = \"bold\";\n",
       "                }\n",
       "                else {\n",
       "                    label.style.textDecoration = \"line-through\";\n",
       "                }\n",
       "            }\n",
       "        }\n",
       "        else \n",
       "        {\n",
       "            document.getElementById(quiz_id + \"-submit\").value = \"Try again\";\n",
       "            \n",
       "            if (!bad_answers.has(quiz_id)) {\n",
       "                bad_answers.set(quiz_id, 1);\n",
       "            }\n",
       "            else {\n",
       "                bad_answers.set(quiz_id, bad_answers.get(quiz_id) + 1);\n",
       "            }\n",
       "\n",
       "            if (bad_answers.get(quiz_id) >= 2 && hint.length > 0) {\n",
       "                document.getElementById(quiz_id + \"-hint\").innerHTML = \n",
       "                    \"&nbsp;&nbsp;(Hint: <code>\" + hint + \"</code>)\";\n",
       "            }\n",
       "\n",
       "            if (!multiple_choice) {\n",
       "                for (i = 1;; i++) {\n",
       "                    checkbox = document.getElementById(quiz_id + \"-\" + i.toString());\n",
       "                    label = document.getElementById(quiz_id + \"-\" + i.toString() + \"-label\")\n",
       "\n",
       "                    if (!checkbox)\n",
       "                        break;\n",
       "                    if (checkbox.checked) {\n",
       "                        label.style.textDecoration = \"line-through\";\n",
       "                    }\n",
       "                }\n",
       "            }\n",
       "        }\n",
       "    }\n",
       "    function clear_selection(quiz_id) {\n",
       "        document.getElementById(quiz_id + \"-submit\").value = \"Submit\";\n",
       "        document.getElementById(quiz_id + \"-hint\").innerHTML = \"\";\n",
       "    }\n",
       "    </script>\n",
       "    \n",
       "    <div class=\"quiz\">\n",
       "    <h3 class=\"quiz_title\">Quiz</h3>\n",
       "    <p>\n",
       "    <div class=\"quiz_question\">If <code>s = '&lt;foo&gt;\"bar&lt;/foo&gt;'</code> (i.e., <code>BAD_INPUT</code>), what is the value of <code>out</code> such that the assertion fails?</div>\n",
       "    </p>\n",
       "    <p>\n",
       "    <div class=\"quiz_options\" title=\"Pick a choice.\">\n",
       "    \n",
       "        <input type=\"radio\" name=\"6fafd250-15dc-11ed-97a2-6298cf1a578f\" id=\"6fafd250-15dc-11ed-97a2-6298cf1a578f-1\" onclick=\"clear_selection('6fafd250-15dc-11ed-97a2-6298cf1a578f')\">\n",
       "        <label id=\"6fafd250-15dc-11ed-97a2-6298cf1a578f-1-label\" for=\"6fafd250-15dc-11ed-97a2-6298cf1a578f-1\"><code>bar</code></label><br>\n",
       "    \n",
       "        <input type=\"radio\" name=\"6fafd250-15dc-11ed-97a2-6298cf1a578f\" id=\"6fafd250-15dc-11ed-97a2-6298cf1a578f-2\" onclick=\"clear_selection('6fafd250-15dc-11ed-97a2-6298cf1a578f')\">\n",
       "        <label id=\"6fafd250-15dc-11ed-97a2-6298cf1a578f-2-label\" for=\"6fafd250-15dc-11ed-97a2-6298cf1a578f-2\"><code>bar&lt;/foo&gt;</code></label><br>\n",
       "    \n",
       "        <input type=\"radio\" name=\"6fafd250-15dc-11ed-97a2-6298cf1a578f\" id=\"6fafd250-15dc-11ed-97a2-6298cf1a578f-3\" onclick=\"clear_selection('6fafd250-15dc-11ed-97a2-6298cf1a578f')\">\n",
       "        <label id=\"6fafd250-15dc-11ed-97a2-6298cf1a578f-3-label\" for=\"6fafd250-15dc-11ed-97a2-6298cf1a578f-3\"><code>\"bar&lt;/foo&gt;</code></label><br>\n",
       "    \n",
       "        <input type=\"radio\" name=\"6fafd250-15dc-11ed-97a2-6298cf1a578f\" id=\"6fafd250-15dc-11ed-97a2-6298cf1a578f-4\" onclick=\"clear_selection('6fafd250-15dc-11ed-97a2-6298cf1a578f')\">\n",
       "        <label id=\"6fafd250-15dc-11ed-97a2-6298cf1a578f-4-label\" for=\"6fafd250-15dc-11ed-97a2-6298cf1a578f-4\"><code>&lt;foo&gt;\"bar&lt;/foo&gt;</code></label><br>\n",
       "    \n",
       "    </div>\n",
       "    </p>\n",
       "    <input id=\"6fafd250-15dc-11ed-97a2-6298cf1a578f-submit\" type=\"submit\" value=\"Submit\" onclick=\"check_selection('6fafd250-15dc-11ed-97a2-6298cf1a578f', 4, 0, '9999999 // 4999999')\">\n",
       "    <span class=\"quiz_hint\" id=\"6fafd250-15dc-11ed-97a2-6298cf1a578f-hint\"></span>\n",
       "    </div>\n",
       "    "
      ],
      "text/plain": [
       "<IPython.core.display.HTML object>"
      ]
     },
     "execution_count": 10,
     "metadata": {},
     "output_type": "execute_result"
    }
   ],
   "source": [
    "quiz(\"If `s = '<foo>\\\"bar</foo>'` (i.e., `BAD_INPUT`), \"\n",
    "     \"what is the value of `out` such that the assertion fails?\",\n",
    "    [\n",
    "        '`bar`',\n",
    "        '`bar</foo>`',\n",
    "        '`\"bar</foo>`',\n",
    "        '`<foo>\"bar</foo>`',\n",
    "    ], '9999999 // 4999999')"
   ]
  },
  {
   "cell_type": "markdown",
   "metadata": {
    "slideshow": {
     "slide_type": "slide"
    }
   },
   "source": [
    "## Grammars\n",
    "\n",
    "To determine abstract failure-inducing inputs, we need means to determine and characterize _sets of inputs_ – known in computer science as _languages_. To formally describe languages, the field of *formal languages* has devised a number of *language specifications* that describe a language.  *Regular expressions* represent the simplest class of these languages to denote sets of strings: The regular expression `[a-z]*`, for instance, denotes a (possibly empty) sequence of lowercase letters.  *Automata theory* connects these languages to automata that accept these inputs; *finite state machines*, for instance, can be used to specify the language of regular expressions."
   ]
  },
  {
   "cell_type": "markdown",
   "metadata": {
    "slideshow": {
     "slide_type": "subslide"
    }
   },
   "source": [
    "Regular expressions are great for not-too-complex input formats, and the associated finite state machines have many properties that make them great for reasoning.  To specify more complex inputs, though, they quickly encounter limitations.  At the other end of the language spectrum, we have *universal grammars* that denote the language accepted by *Turing machines*.  A Turing machine can compute anything that can be computed; and with Python being Turing-complete, this means that we can also use a Python program $p$ to specify or even enumerate legal inputs. But then, computer science theory also tells us that each such program has to be written specifically for the input to be considered, which is not the level of automation we want."
   ]
  },
  {
   "cell_type": "markdown",
   "metadata": {
    "slideshow": {
     "slide_type": "subslide"
    }
   },
   "source": [
    "The middle ground between regular expressions and Turing machines is covered by *grammars*.  Grammars are among the most popular (and best understood) formalisms to formally specify input languages.  Using a grammar, one can express a wide range of the properties of an input language.  Grammars are particularly great for expressing the *syntactical structure* of an input, and are the formalism of choice to express nested or recursive inputs.  The grammars we use are so-called *context-free grammars*, one of the easiest and most popular grammar formalisms."
   ]
  },
  {
   "cell_type": "markdown",
   "metadata": {
    "slideshow": {
     "slide_type": "fragment"
    }
   },
   "source": [
    "A grammar is defined as a mapping of _nonterminal_ symbols (denoted in `<angle brackets>` to lists of alternative _expansions_, which are strings containing _terminal_ symbols and possibly more _nonterminal_ symbols. To make the writing of grammars as simple as possible, we adopt the [fuzzingbook](https://www.fuzzingbook.org/) format that is based on strings and lists."
   ]
  },
  {
   "cell_type": "code",
   "execution_count": 11,
   "metadata": {
    "execution": {
     "iopub.execute_input": "2022-08-06T23:06:42.920650Z",
     "iopub.status.busy": "2022-08-06T23:06:42.920335Z",
     "iopub.status.idle": "2022-08-06T23:06:42.921960Z",
     "shell.execute_reply": "2022-08-06T23:06:42.922171Z"
    },
    "slideshow": {
     "slide_type": "skip"
    }
   },
   "outputs": [],
   "source": [
    "import fuzzingbook"
   ]
  },
  {
   "cell_type": "markdown",
   "metadata": {
    "slideshow": {
     "slide_type": "subslide"
    }
   },
   "source": [
    "Fuzzingbook grammars take the format of a _mapping_ between symbol names and expansions, where expansions are _lists_ of alternatives."
   ]
  },
  {
   "cell_type": "code",
   "execution_count": 12,
   "metadata": {
    "execution": {
     "iopub.execute_input": "2022-08-06T23:06:42.924461Z",
     "iopub.status.busy": "2022-08-06T23:06:42.924119Z",
     "iopub.status.idle": "2022-08-06T23:06:42.925352Z",
     "shell.execute_reply": "2022-08-06T23:06:42.925637Z"
    },
    "slideshow": {
     "slide_type": "fragment"
    }
   },
   "outputs": [],
   "source": [
    "# ignore\n",
    "from typing import Any, Callable, Optional, Type, Tuple\n",
    "from typing import Dict, Union, List, cast, Generator"
   ]
  },
  {
   "cell_type": "code",
   "execution_count": 13,
   "metadata": {
    "execution": {
     "iopub.execute_input": "2022-08-06T23:06:42.928366Z",
     "iopub.status.busy": "2022-08-06T23:06:42.928066Z",
     "iopub.status.idle": "2022-08-06T23:06:42.929192Z",
     "shell.execute_reply": "2022-08-06T23:06:42.929431Z"
    },
    "slideshow": {
     "slide_type": "fragment"
    }
   },
   "outputs": [],
   "source": [
    "Grammar = Dict[str,  # A grammar maps strings...\n",
    "               List[\n",
    "                   Union[str,  # to list of strings...\n",
    "                         Tuple[str, Dict[str, Any]]  # or to pairs of strings and attributes.\n",
    "                        ]\n",
    "               ]\n",
    "              ]"
   ]
  },
  {
   "cell_type": "markdown",
   "metadata": {
    "slideshow": {
     "slide_type": "fragment"
    }
   },
   "source": [
    "A one-rule grammar for digits thus takes the form"
   ]
  },
  {
   "cell_type": "code",
   "execution_count": 14,
   "metadata": {
    "execution": {
     "iopub.execute_input": "2022-08-06T23:06:42.931553Z",
     "iopub.status.busy": "2022-08-06T23:06:42.931247Z",
     "iopub.status.idle": "2022-08-06T23:06:42.932568Z",
     "shell.execute_reply": "2022-08-06T23:06:42.932885Z"
    },
    "slideshow": {
     "slide_type": "subslide"
    }
   },
   "outputs": [],
   "source": [
    "DIGIT_GRAMMAR: Grammar = {\n",
    "    \"<start>\":\n",
    "        [\"0\", \"1\", \"2\", \"3\", \"4\", \"5\", \"6\", \"7\", \"8\", \"9\"]\n",
    "}"
   ]
  },
  {
   "cell_type": "markdown",
   "metadata": {
    "slideshow": {
     "slide_type": "fragment"
    }
   },
   "source": [
    "which means that the `<start>` symbol can be expanded into any of the digits listed."
   ]
  },
  {
   "cell_type": "markdown",
   "metadata": {
    "slideshow": {
     "slide_type": "fragment"
    }
   },
   "source": [
    "A full grammar for arithmetic expressions looks like this:"
   ]
  },
  {
   "cell_type": "code",
   "execution_count": 15,
   "metadata": {
    "execution": {
     "iopub.execute_input": "2022-08-06T23:06:42.935361Z",
     "iopub.status.busy": "2022-08-06T23:06:42.935011Z",
     "iopub.status.idle": "2022-08-06T23:06:42.936159Z",
     "shell.execute_reply": "2022-08-06T23:06:42.936496Z"
    },
    "slideshow": {
     "slide_type": "subslide"
    }
   },
   "outputs": [],
   "source": [
    "EXPR_GRAMMAR: Grammar = {\n",
    "    \"<start>\":\n",
    "        [\"<expr>\"],\n",
    "\n",
    "    \"<expr>\":\n",
    "        [\"<term> + <expr>\", \"<term> - <expr>\", \"<term>\"],\n",
    "\n",
    "    \"<term>\":\n",
    "        [\"<factor> * <term>\", \"<factor> / <term>\", \"<factor>\"],\n",
    "\n",
    "    \"<factor>\":\n",
    "        [\"+<factor>\",\n",
    "         \"-<factor>\",\n",
    "         \"(<expr>)\",\n",
    "         \"<integer>.<integer>\",\n",
    "         \"<integer>\"],\n",
    "\n",
    "    \"<integer>\":\n",
    "        [\"<digit><integer>\", \"<digit>\"],\n",
    "\n",
    "    \"<digit>\":\n",
    "        [\"0\", \"1\", \"2\", \"3\", \"4\", \"5\", \"6\", \"7\", \"8\", \"9\"]\n",
    "}"
   ]
  },
  {
   "cell_type": "markdown",
   "metadata": {
    "slideshow": {
     "slide_type": "subslide"
    }
   },
   "source": [
    "From such a grammar, one can easily generate inputs that conform to the grammar."
   ]
  },
  {
   "cell_type": "code",
   "execution_count": 16,
   "metadata": {
    "execution": {
     "iopub.execute_input": "2022-08-06T23:06:42.938630Z",
     "iopub.status.busy": "2022-08-06T23:06:42.938220Z",
     "iopub.status.idle": "2022-08-06T23:06:42.944077Z",
     "shell.execute_reply": "2022-08-06T23:06:42.944246Z"
    },
    "slideshow": {
     "slide_type": "skip"
    }
   },
   "outputs": [],
   "source": [
    "from fuzzingbook.GrammarFuzzer import GrammarFuzzer"
   ]
  },
  {
   "cell_type": "code",
   "execution_count": 17,
   "metadata": {
    "execution": {
     "iopub.execute_input": "2022-08-06T23:06:42.946264Z",
     "iopub.status.busy": "2022-08-06T23:06:42.945915Z",
     "iopub.status.idle": "2022-08-06T23:06:42.947448Z",
     "shell.execute_reply": "2022-08-06T23:06:42.947653Z"
    },
    "slideshow": {
     "slide_type": "fragment"
    }
   },
   "outputs": [],
   "source": [
    "simple_expr_fuzzer = GrammarFuzzer(EXPR_GRAMMAR)"
   ]
  },
  {
   "cell_type": "code",
   "execution_count": 18,
   "metadata": {
    "execution": {
     "iopub.execute_input": "2022-08-06T23:06:42.978740Z",
     "iopub.status.busy": "2022-08-06T23:06:42.963502Z",
     "iopub.status.idle": "2022-08-06T23:06:42.993873Z",
     "shell.execute_reply": "2022-08-06T23:06:42.994168Z"
    },
    "slideshow": {
     "slide_type": "subslide"
    }
   },
   "outputs": [
    {
     "name": "stdout",
     "output_type": "stream",
     "text": [
      "3.8 + --62.912 - ++4 - +5 * 3.0 * 4\n",
      "7 * (75.5 - -6 + 5 - 4) + -(8 - 1) / 5 * 2\n",
      "(-(9) * +6 + 9 / 3 * 8 - 9 * 8 / 7) / -+-65\n",
      "(9 + 8) * 2 * (6 + 6 + 9) * 0 * 1.9 * 0\n",
      "(1 * 7 - 9 + 5) * 5 / 0 * 5 + 7 * 5 * 7\n",
      "-(6 / 9 - 5 - 3 - 1) - -1 / +1 + (9) / (8) * 6\n",
      "(+-(0 - (1) * 7 / 3)) / ((1 * 3 + 8) + 9 - +1 / --0) - 5 * (-+939.491)\n",
      "+2.9 * 0 / 501.19814 / --+--(6.05002)\n",
      "+-8.8 / (1) * -+1 + -8 + 9 - 3 / 8 * 6 + 4 * 3 * 5\n",
      "(+(8 / 9 - 1 - 7)) + ---06.30 / +4.39\n"
     ]
    }
   ],
   "source": [
    "for i in range(10):\n",
    "    fuzz_expr = simple_expr_fuzzer.fuzz()\n",
    "    print(fuzz_expr)"
   ]
  },
  {
   "cell_type": "markdown",
   "metadata": {
    "slideshow": {
     "slide_type": "subslide"
    }
   },
   "source": [
    "Nonterminals as found in the grammar make natural _placeholders_ in abstract failure-inducing inputs. If we know, for instance, that it is not just the concrete failure-inducing input\n",
    "\n",
    "```python\n",
    "(2 * 3)\n",
    "```\n",
    "\n",
    "but the abstract failure-inducing input\n",
    "\n",
    "```html\n",
    "(<expr> * <expr>)\n",
    "```\n",
    "\n",
    "that causes the failure, we immediately see that the error is due to the multiplication operator rather than its operands."
   ]
  },
  {
   "cell_type": "markdown",
   "metadata": {
    "slideshow": {
     "slide_type": "subslide"
    }
   },
   "source": [
    "Coming back to our `remove_html_markup()` example, let us create a simple grammar for HTML expressions. A `<html>` element is either plain text or tagged text."
   ]
  },
  {
   "cell_type": "code",
   "execution_count": 19,
   "metadata": {
    "button": false,
    "execution": {
     "iopub.execute_input": "2022-08-06T23:06:42.996433Z",
     "iopub.status.busy": "2022-08-06T23:06:42.996133Z",
     "iopub.status.idle": "2022-08-06T23:06:42.997559Z",
     "shell.execute_reply": "2022-08-06T23:06:42.997786Z"
    },
    "new_sheet": false,
    "run_control": {
     "read_only": false
    },
    "slideshow": {
     "slide_type": "subslide"
    }
   },
   "outputs": [],
   "source": [
    "SIMPLE_HTML_GRAMMAR: Grammar = {\n",
    "    \"<start>\":\n",
    "        [\"<html>\"],\n",
    "\n",
    "    \"<html>\":\n",
    "        [\"<plain-text>\", \"<tagged-text>\"],\n",
    "}"
   ]
  },
  {
   "cell_type": "markdown",
   "metadata": {
    "slideshow": {
     "slide_type": "fragment"
    }
   },
   "source": [
    "Plain text is a simple (possibly empty) sequence of letter, digits, punctuation, and whitespace. (Note how `<plain-text>` is either empty or some character followed by more plain text.) The characters `<` and `>` are not allowed, though."
   ]
  },
  {
   "cell_type": "code",
   "execution_count": 20,
   "metadata": {
    "execution": {
     "iopub.execute_input": "2022-08-06T23:06:43.000275Z",
     "iopub.status.busy": "2022-08-06T23:06:42.999904Z",
     "iopub.status.idle": "2022-08-06T23:06:43.001141Z",
     "shell.execute_reply": "2022-08-06T23:06:43.001405Z"
    },
    "slideshow": {
     "slide_type": "skip"
    }
   },
   "outputs": [],
   "source": [
    "import string"
   ]
  },
  {
   "cell_type": "code",
   "execution_count": 21,
   "metadata": {
    "button": false,
    "execution": {
     "iopub.execute_input": "2022-08-06T23:06:43.004275Z",
     "iopub.status.busy": "2022-08-06T23:06:43.003879Z",
     "iopub.status.idle": "2022-08-06T23:06:43.005020Z",
     "shell.execute_reply": "2022-08-06T23:06:43.005372Z"
    },
    "new_sheet": false,
    "run_control": {
     "read_only": false
    },
    "slideshow": {
     "slide_type": "subslide"
    }
   },
   "outputs": [],
   "source": [
    "SIMPLE_HTML_GRAMMAR.update({\n",
    "    \"<plain-text>\":\n",
    "        [\"\", \"<plain-char><plain-text>\"],\n",
    "\n",
    "    \"<plain-char>\":\n",
    "        [\"<letter>\", \"<digit>\", \"<other>\", \"<whitespace>\"],\n",
    "\n",
    "    \"<letter>\": list(string.ascii_letters),\n",
    "    \"<digit>\": list(string.digits),\n",
    "    \"<other>\": list(string.punctuation.replace('<', '').replace('>', '')),\n",
    "    \"<whitespace>\": list(string.whitespace)\n",
    "})"
   ]
  },
  {
   "cell_type": "markdown",
   "metadata": {
    "slideshow": {
     "slide_type": "subslide"
    }
   },
   "source": [
    "Tagged text is a bit more complicated. We have opening tags `<foo>`, followed by some more HTML material, and then closed by a closing tag `</foo>`. (We do not insist that the two tags match.) A self-closing tag has the form `<br/>`. For compatibility reasons, we also allow just opening tags without closing tags, as in `<img>`."
   ]
  },
  {
   "cell_type": "code",
   "execution_count": 22,
   "metadata": {
    "button": false,
    "execution": {
     "iopub.execute_input": "2022-08-06T23:06:43.007464Z",
     "iopub.status.busy": "2022-08-06T23:06:43.007173Z",
     "iopub.status.idle": "2022-08-06T23:06:43.008428Z",
     "shell.execute_reply": "2022-08-06T23:06:43.008618Z"
    },
    "new_sheet": false,
    "run_control": {
     "read_only": false
    },
    "slideshow": {
     "slide_type": "subslide"
    }
   },
   "outputs": [],
   "source": [
    "SIMPLE_HTML_GRAMMAR.update({\n",
    "    \"<tagged-text>\":\n",
    "        [\"<opening-tag><html><closing-tag>\",\n",
    "         \"<self-closing-tag>\",\n",
    "         \"<opening-tag>\"],\n",
    "})"
   ]
  },
  {
   "cell_type": "markdown",
   "metadata": {
    "slideshow": {
     "slide_type": "fragment"
    }
   },
   "source": [
    "Since the characters `<` and `>` are already reserved for denoting nonterminal symbols, we use the special nonterminal symbols `<lt>` and `<gt>` that expand into `<` and `>`, respectively,"
   ]
  },
  {
   "cell_type": "code",
   "execution_count": 23,
   "metadata": {
    "button": false,
    "execution": {
     "iopub.execute_input": "2022-08-06T23:06:43.010884Z",
     "iopub.status.busy": "2022-08-06T23:06:43.010585Z",
     "iopub.status.idle": "2022-08-06T23:06:43.012021Z",
     "shell.execute_reply": "2022-08-06T23:06:43.012313Z"
    },
    "new_sheet": false,
    "run_control": {
     "read_only": false
    },
    "slideshow": {
     "slide_type": "subslide"
    }
   },
   "outputs": [],
   "source": [
    "SIMPLE_HTML_GRAMMAR.update({\n",
    "    \"<opening-tag>\":\n",
    "        [\"<lt><id><gt>\",\n",
    "         \"<lt><id><attrs><gt>\"],\n",
    "\n",
    "    \"<lt>\": [\"<\"],\n",
    "    \"<gt>\": [\">\"],\n",
    "\n",
    "    \"<id>\":\n",
    "        [\"<letter>\", \"<id><letter>\", \"<id><digit>\"],\n",
    "\n",
    "    \"<closing-tag>\":\n",
    "        [\"<lt>/<id><gt>\"],\n",
    "\n",
    "    \"<self-closing-tag>\":\n",
    "        [\"<lt><id><attrs>/<gt>\"],\n",
    "})"
   ]
  },
  {
   "cell_type": "markdown",
   "metadata": {
    "slideshow": {
     "slide_type": "subslide"
    }
   },
   "source": [
    "Finally, HTML tags can have attributes, which are enclosed in quotes."
   ]
  },
  {
   "cell_type": "code",
   "execution_count": 24,
   "metadata": {
    "button": false,
    "execution": {
     "iopub.execute_input": "2022-08-06T23:06:43.015043Z",
     "iopub.status.busy": "2022-08-06T23:06:43.014728Z",
     "iopub.status.idle": "2022-08-06T23:06:43.016086Z",
     "shell.execute_reply": "2022-08-06T23:06:43.016307Z"
    },
    "new_sheet": false,
    "run_control": {
     "read_only": false
    },
    "slideshow": {
     "slide_type": "subslide"
    }
   },
   "outputs": [],
   "source": [
    "SIMPLE_HTML_GRAMMAR.update({\n",
    "    \"<attrs>\":\n",
    "        [\"<attr>\", \"<attr><attrs>\" ],\n",
    "\n",
    "    \"<attr>\":\n",
    "        [\" <id>='<plain-text>'\",\n",
    "         ' <id>=\"<plain-text>\"'],\n",
    "})"
   ]
  },
  {
   "cell_type": "markdown",
   "metadata": {
    "slideshow": {
     "slide_type": "fragment"
    }
   },
   "source": [
    "Again, we can generate inputs from the grammar."
   ]
  },
  {
   "cell_type": "code",
   "execution_count": 25,
   "metadata": {
    "execution": {
     "iopub.execute_input": "2022-08-06T23:06:43.019260Z",
     "iopub.status.busy": "2022-08-06T23:06:43.018688Z",
     "iopub.status.idle": "2022-08-06T23:06:43.020047Z",
     "shell.execute_reply": "2022-08-06T23:06:43.020448Z"
    },
    "slideshow": {
     "slide_type": "fragment"
    }
   },
   "outputs": [],
   "source": [
    "simple_html_fuzzer = GrammarFuzzer(SIMPLE_HTML_GRAMMAR)"
   ]
  },
  {
   "cell_type": "code",
   "execution_count": 26,
   "metadata": {
    "execution": {
     "iopub.execute_input": "2022-08-06T23:06:43.040956Z",
     "iopub.status.busy": "2022-08-06T23:06:43.040569Z",
     "iopub.status.idle": "2022-08-06T23:06:43.042290Z",
     "shell.execute_reply": "2022-08-06T23:06:43.042514Z"
    },
    "slideshow": {
     "slide_type": "subslide"
    }
   },
   "outputs": [
    {
     "name": "stdout",
     "output_type": "stream",
     "text": [
      "'<T3 xG=\"\">'\n",
      "'<N9cd U=\\'\\' y=\\'l1\\' v0=\"\" tb4ya=\"\" UbD=\\'\\'>9</R>'\n",
      "'\\x0b'\n",
      "' ea\\\\\\\\'\n",
      "'&7'\n",
      "\"<c1 o2='' x9661lQo64T=''/>\"\n",
      "'<S4>'\n",
      "'<GMS></wAu>'\n",
      "'<j CI=\\'\\' T98sJ=\"\" DR4=\\'\\'/>'\n",
      "'<FQc90 Wt=\"\"/>'\n"
     ]
    }
   ],
   "source": [
    "for i in range(10):\n",
    "    fuzz_html = simple_html_fuzzer.fuzz()\n",
    "    print(repr(fuzz_html))"
   ]
  },
  {
   "cell_type": "markdown",
   "metadata": {
    "slideshow": {
     "slide_type": "subslide"
    }
   },
   "source": [
    "Such inputs, of course, are great for systematic testing. Our sister book, [the fuzzing book](https://www.fuzzingbook.org/), covers these and more."
   ]
  },
  {
   "cell_type": "markdown",
   "metadata": {
    "slideshow": {
     "slide_type": "slide"
    }
   },
   "source": [
    "## Derivation Trees\n",
    "\n",
    "To produce inputs from a grammar, the fuzzingbook `GrammarFuzzer` makes use of a structure called a *derivation tree* (also known as *syntax tree*). A derivation tree encodes the individual expansion steps undertaken while producing the output."
   ]
  },
  {
   "cell_type": "code",
   "execution_count": 27,
   "metadata": {
    "execution": {
     "iopub.execute_input": "2022-08-06T23:06:43.044958Z",
     "iopub.status.busy": "2022-08-06T23:06:43.044671Z",
     "iopub.status.idle": "2022-08-06T23:06:43.045858Z",
     "shell.execute_reply": "2022-08-06T23:06:43.046040Z"
    },
    "slideshow": {
     "slide_type": "fragment"
    }
   },
   "outputs": [],
   "source": [
    "DerivationTree = Tuple[str, Optional[List[Any]]]"
   ]
  },
  {
   "cell_type": "markdown",
   "metadata": {
    "slideshow": {
     "slide_type": "fragment"
    }
   },
   "source": [
    "Let us illustrate derivation trees by example, using the last HTML output we produced."
   ]
  },
  {
   "cell_type": "code",
   "execution_count": 28,
   "metadata": {
    "execution": {
     "iopub.execute_input": "2022-08-06T23:06:43.048709Z",
     "iopub.status.busy": "2022-08-06T23:06:43.048240Z",
     "iopub.status.idle": "2022-08-06T23:06:43.050217Z",
     "shell.execute_reply": "2022-08-06T23:06:43.050557Z"
    },
    "slideshow": {
     "slide_type": "fragment"
    }
   },
   "outputs": [
    {
     "data": {
      "text/plain": [
       "'<FQc90 Wt=\"\"/>'"
      ]
     },
     "execution_count": 28,
     "metadata": {},
     "output_type": "execute_result"
    }
   ],
   "source": [
    "fuzz_html"
   ]
  },
  {
   "cell_type": "markdown",
   "metadata": {
    "slideshow": {
     "slide_type": "fragment"
    }
   },
   "source": [
    "The `GrammarFuzzer` attribute `derivation_tree` holds the last tree used to produced this input. We can visualize the tree as follows:"
   ]
  },
  {
   "cell_type": "code",
   "execution_count": 29,
   "metadata": {
    "execution": {
     "iopub.execute_input": "2022-08-06T23:06:43.052723Z",
     "iopub.status.busy": "2022-08-06T23:06:43.052367Z",
     "iopub.status.idle": "2022-08-06T23:06:43.053956Z",
     "shell.execute_reply": "2022-08-06T23:06:43.054201Z"
    },
    "slideshow": {
     "slide_type": "fragment"
    }
   },
   "outputs": [],
   "source": [
    "# ignore\n",
    "from graphviz import Digraph"
   ]
  },
  {
   "cell_type": "code",
   "execution_count": 30,
   "metadata": {
    "execution": {
     "iopub.execute_input": "2022-08-06T23:06:43.057985Z",
     "iopub.status.busy": "2022-08-06T23:06:43.057397Z",
     "iopub.status.idle": "2022-08-06T23:06:43.058848Z",
     "shell.execute_reply": "2022-08-06T23:06:43.059107Z"
    },
    "slideshow": {
     "slide_type": "subslide"
    }
   },
   "outputs": [],
   "source": [
    "# ignore\n",
    "def display_tree(tree: DerivationTree) -> Digraph:\n",
    "    def graph_attr(dot: Digraph) -> None:\n",
    "        dot.attr('node', shape='box', color='white', margin='0.0,0.0')\n",
    "        dot.attr('node',\n",
    "                 fontname=\"'Fira Mono', 'Source Code Pro', 'Courier', monospace\")\n",
    "\n",
    "    def node_attr(dot: Digraph, nid: str, symbol: str, ann: str) -> None:\n",
    "        fuzzingbook.GrammarFuzzer.default_node_attr(dot, nid, symbol, ann)\n",
    "        if symbol.startswith('<'):\n",
    "            dot.node(repr(nid), fontcolor='#0060a0')\n",
    "        else:\n",
    "            dot.node(repr(nid), fontcolor='#00a060')\n",
    "        dot.node(repr(nid), scale='2')\n",
    "\n",
    "    return fuzzingbook.GrammarFuzzer.display_tree(tree,\n",
    "        node_attr=node_attr,\n",
    "        graph_attr=graph_attr)"
   ]
  },
  {
   "cell_type": "code",
   "execution_count": 31,
   "metadata": {
    "execution": {
     "iopub.execute_input": "2022-08-06T23:06:43.065253Z",
     "iopub.status.busy": "2022-08-06T23:06:43.064301Z",
     "iopub.status.idle": "2022-08-06T23:06:43.426533Z",
     "shell.execute_reply": "2022-08-06T23:06:43.426885Z"
    },
    "slideshow": {
     "slide_type": "subslide"
    }
   },
   "outputs": [
    {
     "data": {
      "image/svg+xml": [
       "<?xml version=\"1.0\" encoding=\"UTF-8\" standalone=\"no\"?>\n",
       "<!DOCTYPE svg PUBLIC \"-//W3C//DTD SVG 1.1//EN\"\n",
       " \"http://www.w3.org/Graphics/SVG/1.1/DTD/svg11.dtd\">\n",
       "<!-- Generated by graphviz version 5.0.0 (20220707.1540)\n",
       " -->\n",
       "<!-- Pages: 1 -->\n",
       "<svg width=\"783pt\" height=\"764pt\"\n",
       " viewBox=\"0.00 0.00 782.50 764.00\" xmlns=\"http://www.w3.org/2000/svg\" xmlns:xlink=\"http://www.w3.org/1999/xlink\">\n",
       "<g id=\"graph0\" class=\"graph\" transform=\"scale(1 1) rotate(0) translate(4 760)\">\n",
       "<polygon fill=\"white\" stroke=\"transparent\" points=\"-4,4 -4,-760 778.5,-760 778.5,4 -4,4\"/>\n",
       "<!-- 0 -->\n",
       "<g id=\"node1\" class=\"node\">\n",
       "<title>0</title>\n",
       "<polygon fill=\"none\" stroke=\"white\" points=\"443.5,-756 385.5,-756 385.5,-720 443.5,-720 443.5,-756\"/>\n",
       "<text text-anchor=\"middle\" x=\"414.5\" y=\"-734.3\" font-family=\"'Fira Mono', 'Source Code Pro', 'Courier', monospace\" font-size=\"14.00\" fill=\"#0060a0\">&lt;start&gt;</text>\n",
       "</g>\n",
       "<!-- 1 -->\n",
       "<g id=\"node2\" class=\"node\">\n",
       "<title>1</title>\n",
       "<polygon fill=\"none\" stroke=\"white\" points=\"441.5,-684 387.5,-684 387.5,-648 441.5,-648 441.5,-684\"/>\n",
       "<text text-anchor=\"middle\" x=\"414.5\" y=\"-662.3\" font-family=\"'Fira Mono', 'Source Code Pro', 'Courier', monospace\" font-size=\"14.00\" fill=\"#0060a0\">&lt;html&gt;</text>\n",
       "</g>\n",
       "<!-- 0&#45;&gt;1 -->\n",
       "<g id=\"edge1\" class=\"edge\">\n",
       "<title>0&#45;&gt;1</title>\n",
       "<path fill=\"none\" stroke=\"black\" d=\"M414.5,-719.7C414.5,-711.98 414.5,-702.71 414.5,-694.11\"/>\n",
       "<polygon fill=\"black\" stroke=\"black\" points=\"418,-694.1 414.5,-684.1 411,-694.1 418,-694.1\"/>\n",
       "</g>\n",
       "<!-- 2 -->\n",
       "<g id=\"node3\" class=\"node\">\n",
       "<title>2</title>\n",
       "<polygon fill=\"none\" stroke=\"white\" points=\"468.5,-612 360.5,-612 360.5,-576 468.5,-576 468.5,-612\"/>\n",
       "<text text-anchor=\"middle\" x=\"414.5\" y=\"-590.3\" font-family=\"'Fira Mono', 'Source Code Pro', 'Courier', monospace\" font-size=\"14.00\" fill=\"#0060a0\">&lt;tagged&#45;text&gt;</text>\n",
       "</g>\n",
       "<!-- 1&#45;&gt;2 -->\n",
       "<g id=\"edge2\" class=\"edge\">\n",
       "<title>1&#45;&gt;2</title>\n",
       "<path fill=\"none\" stroke=\"black\" d=\"M414.5,-647.7C414.5,-639.98 414.5,-630.71 414.5,-622.11\"/>\n",
       "<polygon fill=\"black\" stroke=\"black\" points=\"418,-622.1 414.5,-612.1 411,-622.1 418,-622.1\"/>\n",
       "</g>\n",
       "<!-- 3 -->\n",
       "<g id=\"node4\" class=\"node\">\n",
       "<title>3</title>\n",
       "<polygon fill=\"none\" stroke=\"white\" points=\"489,-540 340,-540 340,-504 489,-504 489,-540\"/>\n",
       "<text text-anchor=\"middle\" x=\"414.5\" y=\"-518.3\" font-family=\"'Fira Mono', 'Source Code Pro', 'Courier', monospace\" font-size=\"14.00\" fill=\"#0060a0\">&lt;self&#45;closing&#45;tag&gt;</text>\n",
       "</g>\n",
       "<!-- 2&#45;&gt;3 -->\n",
       "<g id=\"edge3\" class=\"edge\">\n",
       "<title>2&#45;&gt;3</title>\n",
       "<path fill=\"none\" stroke=\"black\" d=\"M414.5,-575.7C414.5,-567.98 414.5,-558.71 414.5,-550.11\"/>\n",
       "<polygon fill=\"black\" stroke=\"black\" points=\"418,-550.1 414.5,-540.1 411,-550.1 418,-550.1\"/>\n",
       "</g>\n",
       "<!-- 4 -->\n",
       "<g id=\"node5\" class=\"node\">\n",
       "<title>4</title>\n",
       "<polygon fill=\"none\" stroke=\"white\" points=\"260.5,-468 206.5,-468 206.5,-432 260.5,-432 260.5,-468\"/>\n",
       "<text text-anchor=\"middle\" x=\"233.5\" y=\"-446.3\" font-family=\"'Fira Mono', 'Source Code Pro', 'Courier', monospace\" font-size=\"14.00\" fill=\"#0060a0\">&lt;lt&gt;</text>\n",
       "</g>\n",
       "<!-- 3&#45;&gt;4 -->\n",
       "<g id=\"edge4\" class=\"edge\">\n",
       "<title>3&#45;&gt;4</title>\n",
       "<path fill=\"none\" stroke=\"black\" d=\"M370.22,-503.88C339.48,-491.98 299,-476.33 270.08,-465.15\"/>\n",
       "<polygon fill=\"black\" stroke=\"black\" points=\"271.34,-461.88 260.75,-461.54 268.81,-468.41 271.34,-461.88\"/>\n",
       "</g>\n",
       "<!-- 6 -->\n",
       "<g id=\"node7\" class=\"node\">\n",
       "<title>6</title>\n",
       "<polygon fill=\"none\" stroke=\"white\" points=\"367.5,-468 313.5,-468 313.5,-432 367.5,-432 367.5,-468\"/>\n",
       "<text text-anchor=\"middle\" x=\"340.5\" y=\"-446.3\" font-family=\"'Fira Mono', 'Source Code Pro', 'Courier', monospace\" font-size=\"14.00\" fill=\"#0060a0\">&lt;id&gt;</text>\n",
       "</g>\n",
       "<!-- 3&#45;&gt;6 -->\n",
       "<g id=\"edge6\" class=\"edge\">\n",
       "<title>3&#45;&gt;6</title>\n",
       "<path fill=\"none\" stroke=\"black\" d=\"M396.21,-503.7C387.07,-495.05 375.86,-484.45 365.9,-475.03\"/>\n",
       "<polygon fill=\"black\" stroke=\"black\" points=\"368.25,-472.43 358.58,-468.1 363.44,-477.52 368.25,-472.43\"/>\n",
       "</g>\n",
       "<!-- 21 -->\n",
       "<g id=\"node22\" class=\"node\">\n",
       "<title>21</title>\n",
       "<polygon fill=\"none\" stroke=\"white\" points=\"443.5,-468 385.5,-468 385.5,-432 443.5,-432 443.5,-468\"/>\n",
       "<text text-anchor=\"middle\" x=\"414.5\" y=\"-446.3\" font-family=\"'Fira Mono', 'Source Code Pro', 'Courier', monospace\" font-size=\"14.00\" fill=\"#0060a0\">&lt;attrs&gt;</text>\n",
       "</g>\n",
       "<!-- 3&#45;&gt;21 -->\n",
       "<g id=\"edge21\" class=\"edge\">\n",
       "<title>3&#45;&gt;21</title>\n",
       "<path fill=\"none\" stroke=\"black\" d=\"M414.5,-503.7C414.5,-495.98 414.5,-486.71 414.5,-478.11\"/>\n",
       "<polygon fill=\"black\" stroke=\"black\" points=\"418,-478.1 414.5,-468.1 411,-478.1 418,-478.1\"/>\n",
       "</g>\n",
       "<!-- 34 -->\n",
       "<g id=\"node35\" class=\"node\">\n",
       "<title>34</title>\n",
       "<polygon fill=\"none\" stroke=\"white\" points=\"515.5,-468 461.5,-468 461.5,-432 515.5,-432 515.5,-468\"/>\n",
       "<text text-anchor=\"middle\" x=\"488.5\" y=\"-446.3\" font-family=\"'Fira Mono', 'Source Code Pro', 'Courier', monospace\" font-size=\"14.00\" fill=\"#00a060\">/</text>\n",
       "</g>\n",
       "<!-- 3&#45;&gt;34 -->\n",
       "<g id=\"edge34\" class=\"edge\">\n",
       "<title>3&#45;&gt;34</title>\n",
       "<path fill=\"none\" stroke=\"black\" d=\"M432.79,-503.7C441.93,-495.05 453.14,-484.45 463.1,-475.03\"/>\n",
       "<polygon fill=\"black\" stroke=\"black\" points=\"465.56,-477.52 470.42,-468.1 460.75,-472.43 465.56,-477.52\"/>\n",
       "</g>\n",
       "<!-- 35 -->\n",
       "<g id=\"node36\" class=\"node\">\n",
       "<title>35</title>\n",
       "<polygon fill=\"none\" stroke=\"white\" points=\"587.5,-468 533.5,-468 533.5,-432 587.5,-432 587.5,-468\"/>\n",
       "<text text-anchor=\"middle\" x=\"560.5\" y=\"-446.3\" font-family=\"'Fira Mono', 'Source Code Pro', 'Courier', monospace\" font-size=\"14.00\" fill=\"#0060a0\">&lt;gt&gt;</text>\n",
       "</g>\n",
       "<!-- 3&#45;&gt;35 -->\n",
       "<g id=\"edge35\" class=\"edge\">\n",
       "<title>3&#45;&gt;35</title>\n",
       "<path fill=\"none\" stroke=\"black\" d=\"M450.22,-503.88C472.67,-493.11 501.56,-479.26 524.14,-468.43\"/>\n",
       "<polygon fill=\"black\" stroke=\"black\" points=\"525.89,-471.48 533.39,-464 522.86,-465.16 525.89,-471.48\"/>\n",
       "</g>\n",
       "<!-- 5 -->\n",
       "<g id=\"node6\" class=\"node\">\n",
       "<title>5</title>\n",
       "<polygon fill=\"none\" stroke=\"white\" points=\"222.5,-396 168.5,-396 168.5,-360 222.5,-360 222.5,-396\"/>\n",
       "<text text-anchor=\"middle\" x=\"195.5\" y=\"-374.3\" font-family=\"'Fira Mono', 'Source Code Pro', 'Courier', monospace\" font-size=\"14.00\" fill=\"#0060a0\">&lt;</text>\n",
       "</g>\n",
       "<!-- 4&#45;&gt;5 -->\n",
       "<g id=\"edge5\" class=\"edge\">\n",
       "<title>4&#45;&gt;5</title>\n",
       "<path fill=\"none\" stroke=\"black\" d=\"M224.11,-431.7C219.74,-423.64 214.44,-413.89 209.6,-404.98\"/>\n",
       "<polygon fill=\"black\" stroke=\"black\" points=\"212.63,-403.22 204.79,-396.1 206.48,-406.56 212.63,-403.22\"/>\n",
       "</g>\n",
       "<!-- 7 -->\n",
       "<g id=\"node8\" class=\"node\">\n",
       "<title>7</title>\n",
       "<polygon fill=\"none\" stroke=\"white\" points=\"294.5,-396 240.5,-396 240.5,-360 294.5,-360 294.5,-396\"/>\n",
       "<text text-anchor=\"middle\" x=\"267.5\" y=\"-374.3\" font-family=\"'Fira Mono', 'Source Code Pro', 'Courier', monospace\" font-size=\"14.00\" fill=\"#0060a0\">&lt;id&gt;</text>\n",
       "</g>\n",
       "<!-- 6&#45;&gt;7 -->\n",
       "<g id=\"edge7\" class=\"edge\">\n",
       "<title>6&#45;&gt;7</title>\n",
       "<path fill=\"none\" stroke=\"black\" d=\"M322.46,-431.7C313.44,-423.05 302.38,-412.45 292.56,-403.03\"/>\n",
       "<polygon fill=\"black\" stroke=\"black\" points=\"294.98,-400.5 285.34,-396.1 290.13,-405.55 294.98,-400.5\"/>\n",
       "</g>\n",
       "<!-- 19 -->\n",
       "<g id=\"node20\" class=\"node\">\n",
       "<title>19</title>\n",
       "<polygon fill=\"none\" stroke=\"white\" points=\"370.5,-396 312.5,-396 312.5,-360 370.5,-360 370.5,-396\"/>\n",
       "<text text-anchor=\"middle\" x=\"341.5\" y=\"-374.3\" font-family=\"'Fira Mono', 'Source Code Pro', 'Courier', monospace\" font-size=\"14.00\" fill=\"#0060a0\">&lt;digit&gt;</text>\n",
       "</g>\n",
       "<!-- 6&#45;&gt;19 -->\n",
       "<g id=\"edge19\" class=\"edge\">\n",
       "<title>6&#45;&gt;19</title>\n",
       "<path fill=\"none\" stroke=\"black\" d=\"M340.75,-431.7C340.86,-423.98 340.99,-414.71 341.11,-406.11\"/>\n",
       "<polygon fill=\"black\" stroke=\"black\" points=\"344.61,-406.15 341.26,-396.1 337.61,-406.05 344.61,-406.15\"/>\n",
       "</g>\n",
       "<!-- 8 -->\n",
       "<g id=\"node9\" class=\"node\">\n",
       "<title>8</title>\n",
       "<polygon fill=\"none\" stroke=\"white\" points=\"218.5,-324 164.5,-324 164.5,-288 218.5,-288 218.5,-324\"/>\n",
       "<text text-anchor=\"middle\" x=\"191.5\" y=\"-302.3\" font-family=\"'Fira Mono', 'Source Code Pro', 'Courier', monospace\" font-size=\"14.00\" fill=\"#0060a0\">&lt;id&gt;</text>\n",
       "</g>\n",
       "<!-- 7&#45;&gt;8 -->\n",
       "<g id=\"edge8\" class=\"edge\">\n",
       "<title>7&#45;&gt;8</title>\n",
       "<path fill=\"none\" stroke=\"black\" d=\"M248.71,-359.7C239.33,-351.05 227.82,-340.45 217.59,-331.03\"/>\n",
       "<polygon fill=\"black\" stroke=\"black\" points=\"219.8,-328.3 210.07,-324.1 215.05,-333.45 219.8,-328.3\"/>\n",
       "</g>\n",
       "<!-- 17 -->\n",
       "<g id=\"node18\" class=\"node\">\n",
       "<title>17</title>\n",
       "<polygon fill=\"none\" stroke=\"white\" points=\"296.5,-324 238.5,-324 238.5,-288 296.5,-288 296.5,-324\"/>\n",
       "<text text-anchor=\"middle\" x=\"267.5\" y=\"-302.3\" font-family=\"'Fira Mono', 'Source Code Pro', 'Courier', monospace\" font-size=\"14.00\" fill=\"#0060a0\">&lt;digit&gt;</text>\n",
       "</g>\n",
       "<!-- 7&#45;&gt;17 -->\n",
       "<g id=\"edge17\" class=\"edge\">\n",
       "<title>7&#45;&gt;17</title>\n",
       "<path fill=\"none\" stroke=\"black\" d=\"M267.5,-359.7C267.5,-351.98 267.5,-342.71 267.5,-334.11\"/>\n",
       "<polygon fill=\"black\" stroke=\"black\" points=\"271,-334.1 267.5,-324.1 264,-334.1 271,-334.1\"/>\n",
       "</g>\n",
       "<!-- 9 -->\n",
       "<g id=\"node10\" class=\"node\">\n",
       "<title>9</title>\n",
       "<polygon fill=\"none\" stroke=\"white\" points=\"139.5,-252 85.5,-252 85.5,-216 139.5,-216 139.5,-252\"/>\n",
       "<text text-anchor=\"middle\" x=\"112.5\" y=\"-230.3\" font-family=\"'Fira Mono', 'Source Code Pro', 'Courier', monospace\" font-size=\"14.00\" fill=\"#0060a0\">&lt;id&gt;</text>\n",
       "</g>\n",
       "<!-- 8&#45;&gt;9 -->\n",
       "<g id=\"edge9\" class=\"edge\">\n",
       "<title>8&#45;&gt;9</title>\n",
       "<path fill=\"none\" stroke=\"black\" d=\"M171.97,-287.7C162.12,-278.97 150.01,-268.24 139.3,-258.75\"/>\n",
       "<polygon fill=\"black\" stroke=\"black\" points=\"141.61,-256.12 131.8,-252.1 136.97,-261.36 141.61,-256.12\"/>\n",
       "</g>\n",
       "<!-- 15 -->\n",
       "<g id=\"node16\" class=\"node\">\n",
       "<title>15</title>\n",
       "<polygon fill=\"none\" stroke=\"white\" points=\"225,-252 158,-252 158,-216 225,-216 225,-252\"/>\n",
       "<text text-anchor=\"middle\" x=\"191.5\" y=\"-230.3\" font-family=\"'Fira Mono', 'Source Code Pro', 'Courier', monospace\" font-size=\"14.00\" fill=\"#0060a0\">&lt;letter&gt;</text>\n",
       "</g>\n",
       "<!-- 8&#45;&gt;15 -->\n",
       "<g id=\"edge15\" class=\"edge\">\n",
       "<title>8&#45;&gt;15</title>\n",
       "<path fill=\"none\" stroke=\"black\" d=\"M191.5,-287.7C191.5,-279.98 191.5,-270.71 191.5,-262.11\"/>\n",
       "<polygon fill=\"black\" stroke=\"black\" points=\"195,-262.1 191.5,-252.1 188,-262.1 195,-262.1\"/>\n",
       "</g>\n",
       "<!-- 10 -->\n",
       "<g id=\"node11\" class=\"node\">\n",
       "<title>10</title>\n",
       "<polygon fill=\"none\" stroke=\"white\" points=\"60.5,-180 6.5,-180 6.5,-144 60.5,-144 60.5,-180\"/>\n",
       "<text text-anchor=\"middle\" x=\"33.5\" y=\"-158.3\" font-family=\"'Fira Mono', 'Source Code Pro', 'Courier', monospace\" font-size=\"14.00\" fill=\"#0060a0\">&lt;id&gt;</text>\n",
       "</g>\n",
       "<!-- 9&#45;&gt;10 -->\n",
       "<g id=\"edge10\" class=\"edge\">\n",
       "<title>9&#45;&gt;10</title>\n",
       "<path fill=\"none\" stroke=\"black\" d=\"M92.97,-215.7C83.12,-206.97 71.01,-196.24 60.3,-186.75\"/>\n",
       "<polygon fill=\"black\" stroke=\"black\" points=\"62.61,-184.12 52.8,-180.1 57.97,-189.36 62.61,-184.12\"/>\n",
       "</g>\n",
       "<!-- 13 -->\n",
       "<g id=\"node14\" class=\"node\">\n",
       "<title>13</title>\n",
       "<polygon fill=\"none\" stroke=\"white\" points=\"146,-180 79,-180 79,-144 146,-144 146,-180\"/>\n",
       "<text text-anchor=\"middle\" x=\"112.5\" y=\"-158.3\" font-family=\"'Fira Mono', 'Source Code Pro', 'Courier', monospace\" font-size=\"14.00\" fill=\"#0060a0\">&lt;letter&gt;</text>\n",
       "</g>\n",
       "<!-- 9&#45;&gt;13 -->\n",
       "<g id=\"edge13\" class=\"edge\">\n",
       "<title>9&#45;&gt;13</title>\n",
       "<path fill=\"none\" stroke=\"black\" d=\"M112.5,-215.7C112.5,-207.98 112.5,-198.71 112.5,-190.11\"/>\n",
       "<polygon fill=\"black\" stroke=\"black\" points=\"116,-190.1 112.5,-180.1 109,-190.1 116,-190.1\"/>\n",
       "</g>\n",
       "<!-- 11 -->\n",
       "<g id=\"node12\" class=\"node\">\n",
       "<title>11</title>\n",
       "<polygon fill=\"none\" stroke=\"white\" points=\"67,-108 0,-108 0,-72 67,-72 67,-108\"/>\n",
       "<text text-anchor=\"middle\" x=\"33.5\" y=\"-86.3\" font-family=\"'Fira Mono', 'Source Code Pro', 'Courier', monospace\" font-size=\"14.00\" fill=\"#0060a0\">&lt;letter&gt;</text>\n",
       "</g>\n",
       "<!-- 10&#45;&gt;11 -->\n",
       "<g id=\"edge11\" class=\"edge\">\n",
       "<title>10&#45;&gt;11</title>\n",
       "<path fill=\"none\" stroke=\"black\" d=\"M33.5,-143.7C33.5,-135.98 33.5,-126.71 33.5,-118.11\"/>\n",
       "<polygon fill=\"black\" stroke=\"black\" points=\"37,-118.1 33.5,-108.1 30,-118.1 37,-118.1\"/>\n",
       "</g>\n",
       "<!-- 12 -->\n",
       "<g id=\"node13\" class=\"node\">\n",
       "<title>12</title>\n",
       "<polygon fill=\"none\" stroke=\"white\" points=\"60.5,-36 6.5,-36 6.5,0 60.5,0 60.5,-36\"/>\n",
       "<text text-anchor=\"middle\" x=\"33.5\" y=\"-14.3\" font-family=\"'Fira Mono', 'Source Code Pro', 'Courier', monospace\" font-size=\"14.00\" fill=\"#00a060\">F</text>\n",
       "</g>\n",
       "<!-- 11&#45;&gt;12 -->\n",
       "<g id=\"edge12\" class=\"edge\">\n",
       "<title>11&#45;&gt;12</title>\n",
       "<path fill=\"none\" stroke=\"black\" d=\"M33.5,-71.7C33.5,-63.98 33.5,-54.71 33.5,-46.11\"/>\n",
       "<polygon fill=\"black\" stroke=\"black\" points=\"37,-46.1 33.5,-36.1 30,-46.1 37,-46.1\"/>\n",
       "</g>\n",
       "<!-- 14 -->\n",
       "<g id=\"node15\" class=\"node\">\n",
       "<title>14</title>\n",
       "<polygon fill=\"none\" stroke=\"white\" points=\"139.5,-108 85.5,-108 85.5,-72 139.5,-72 139.5,-108\"/>\n",
       "<text text-anchor=\"middle\" x=\"112.5\" y=\"-86.3\" font-family=\"'Fira Mono', 'Source Code Pro', 'Courier', monospace\" font-size=\"14.00\" fill=\"#00a060\">Q</text>\n",
       "</g>\n",
       "<!-- 13&#45;&gt;14 -->\n",
       "<g id=\"edge14\" class=\"edge\">\n",
       "<title>13&#45;&gt;14</title>\n",
       "<path fill=\"none\" stroke=\"black\" d=\"M112.5,-143.7C112.5,-135.98 112.5,-126.71 112.5,-118.11\"/>\n",
       "<polygon fill=\"black\" stroke=\"black\" points=\"116,-118.1 112.5,-108.1 109,-118.1 116,-118.1\"/>\n",
       "</g>\n",
       "<!-- 16 -->\n",
       "<g id=\"node17\" class=\"node\">\n",
       "<title>16</title>\n",
       "<polygon fill=\"none\" stroke=\"white\" points=\"218.5,-180 164.5,-180 164.5,-144 218.5,-144 218.5,-180\"/>\n",
       "<text text-anchor=\"middle\" x=\"191.5\" y=\"-158.3\" font-family=\"'Fira Mono', 'Source Code Pro', 'Courier', monospace\" font-size=\"14.00\" fill=\"#00a060\">c</text>\n",
       "</g>\n",
       "<!-- 15&#45;&gt;16 -->\n",
       "<g id=\"edge16\" class=\"edge\">\n",
       "<title>15&#45;&gt;16</title>\n",
       "<path fill=\"none\" stroke=\"black\" d=\"M191.5,-215.7C191.5,-207.98 191.5,-198.71 191.5,-190.11\"/>\n",
       "<polygon fill=\"black\" stroke=\"black\" points=\"195,-190.1 191.5,-180.1 188,-190.1 195,-190.1\"/>\n",
       "</g>\n",
       "<!-- 18 -->\n",
       "<g id=\"node19\" class=\"node\">\n",
       "<title>18</title>\n",
       "<polygon fill=\"none\" stroke=\"white\" points=\"297.5,-252 243.5,-252 243.5,-216 297.5,-216 297.5,-252\"/>\n",
       "<text text-anchor=\"middle\" x=\"270.5\" y=\"-230.3\" font-family=\"'Fira Mono', 'Source Code Pro', 'Courier', monospace\" font-size=\"14.00\" fill=\"#00a060\">9</text>\n",
       "</g>\n",
       "<!-- 17&#45;&gt;18 -->\n",
       "<g id=\"edge18\" class=\"edge\">\n",
       "<title>17&#45;&gt;18</title>\n",
       "<path fill=\"none\" stroke=\"black\" d=\"M268.24,-287.7C268.57,-279.98 268.97,-270.71 269.34,-262.11\"/>\n",
       "<polygon fill=\"black\" stroke=\"black\" points=\"272.84,-262.25 269.77,-252.1 265.84,-261.95 272.84,-262.25\"/>\n",
       "</g>\n",
       "<!-- 20 -->\n",
       "<g id=\"node21\" class=\"node\">\n",
       "<title>20</title>\n",
       "<polygon fill=\"none\" stroke=\"white\" points=\"368.5,-324 314.5,-324 314.5,-288 368.5,-288 368.5,-324\"/>\n",
       "<text text-anchor=\"middle\" x=\"341.5\" y=\"-302.3\" font-family=\"'Fira Mono', 'Source Code Pro', 'Courier', monospace\" font-size=\"14.00\" fill=\"#00a060\">0</text>\n",
       "</g>\n",
       "<!-- 19&#45;&gt;20 -->\n",
       "<g id=\"edge20\" class=\"edge\">\n",
       "<title>19&#45;&gt;20</title>\n",
       "<path fill=\"none\" stroke=\"black\" d=\"M341.5,-359.7C341.5,-351.98 341.5,-342.71 341.5,-334.11\"/>\n",
       "<polygon fill=\"black\" stroke=\"black\" points=\"345,-334.1 341.5,-324.1 338,-334.1 345,-334.1\"/>\n",
       "</g>\n",
       "<!-- 22 -->\n",
       "<g id=\"node23\" class=\"node\">\n",
       "<title>22</title>\n",
       "<polygon fill=\"none\" stroke=\"white\" points=\"513.5,-396 459.5,-396 459.5,-360 513.5,-360 513.5,-396\"/>\n",
       "<text text-anchor=\"middle\" x=\"486.5\" y=\"-374.3\" font-family=\"'Fira Mono', 'Source Code Pro', 'Courier', monospace\" font-size=\"14.00\" fill=\"#0060a0\">&lt;attr&gt;</text>\n",
       "</g>\n",
       "<!-- 21&#45;&gt;22 -->\n",
       "<g id=\"edge22\" class=\"edge\">\n",
       "<title>21&#45;&gt;22</title>\n",
       "<path fill=\"none\" stroke=\"black\" d=\"M432.3,-431.7C441.1,-423.14 451.88,-412.66 461.5,-403.3\"/>\n",
       "<polygon fill=\"black\" stroke=\"black\" points=\"464.18,-405.58 468.91,-396.1 459.3,-400.57 464.18,-405.58\"/>\n",
       "</g>\n",
       "<!-- 23 -->\n",
       "<g id=\"node24\" class=\"node\">\n",
       "<title>23</title>\n",
       "<polygon fill=\"none\" stroke=\"white\" points=\"440.5,-324 386.5,-324 386.5,-288 440.5,-288 440.5,-324\"/>\n",
       "<text text-anchor=\"middle\" x=\"413.5\" y=\"-302.3\" font-family=\"'Fira Mono', 'Source Code Pro', 'Courier', monospace\" font-size=\"14.00\" fill=\"#00a060\"> </text>\n",
       "</g>\n",
       "<!-- 22&#45;&gt;23 -->\n",
       "<g id=\"edge23\" class=\"edge\">\n",
       "<title>22&#45;&gt;23</title>\n",
       "<path fill=\"none\" stroke=\"black\" d=\"M468.46,-359.7C459.44,-351.05 448.38,-340.45 438.56,-331.03\"/>\n",
       "<polygon fill=\"black\" stroke=\"black\" points=\"440.98,-328.5 431.34,-324.1 436.13,-333.55 440.98,-328.5\"/>\n",
       "</g>\n",
       "<!-- 24 -->\n",
       "<g id=\"node25\" class=\"node\">\n",
       "<title>24</title>\n",
       "<polygon fill=\"none\" stroke=\"white\" points=\"512.5,-324 458.5,-324 458.5,-288 512.5,-288 512.5,-324\"/>\n",
       "<text text-anchor=\"middle\" x=\"485.5\" y=\"-302.3\" font-family=\"'Fira Mono', 'Source Code Pro', 'Courier', monospace\" font-size=\"14.00\" fill=\"#0060a0\">&lt;id&gt;</text>\n",
       "</g>\n",
       "<!-- 22&#45;&gt;24 -->\n",
       "<g id=\"edge24\" class=\"edge\">\n",
       "<title>22&#45;&gt;24</title>\n",
       "<path fill=\"none\" stroke=\"black\" d=\"M486.25,-359.7C486.14,-351.98 486.01,-342.71 485.89,-334.11\"/>\n",
       "<polygon fill=\"black\" stroke=\"black\" points=\"489.39,-334.05 485.74,-324.1 482.39,-334.15 489.39,-334.05\"/>\n",
       "</g>\n",
       "<!-- 30 -->\n",
       "<g id=\"node31\" class=\"node\">\n",
       "<title>30</title>\n",
       "<polygon fill=\"none\" stroke=\"white\" points=\"584.5,-324 530.5,-324 530.5,-288 584.5,-288 584.5,-324\"/>\n",
       "<text text-anchor=\"middle\" x=\"557.5\" y=\"-302.3\" font-family=\"'Fira Mono', 'Source Code Pro', 'Courier', monospace\" font-size=\"14.00\" fill=\"#00a060\">=&quot;</text>\n",
       "</g>\n",
       "<!-- 22&#45;&gt;30 -->\n",
       "<g id=\"edge30\" class=\"edge\">\n",
       "<title>22&#45;&gt;30</title>\n",
       "<path fill=\"none\" stroke=\"black\" d=\"M504.05,-359.7C512.73,-351.14 523.36,-340.66 532.85,-331.3\"/>\n",
       "<polygon fill=\"black\" stroke=\"black\" points=\"535.49,-333.62 540.15,-324.1 530.57,-328.63 535.49,-333.62\"/>\n",
       "</g>\n",
       "<!-- 31 -->\n",
       "<g id=\"node32\" class=\"node\">\n",
       "<title>31</title>\n",
       "<polygon fill=\"none\" stroke=\"white\" points=\"702.5,-324 602.5,-324 602.5,-288 702.5,-288 702.5,-324\"/>\n",
       "<text text-anchor=\"middle\" x=\"652.5\" y=\"-302.3\" font-family=\"'Fira Mono', 'Source Code Pro', 'Courier', monospace\" font-size=\"14.00\" fill=\"#0060a0\">&lt;plain&#45;text&gt;</text>\n",
       "</g>\n",
       "<!-- 22&#45;&gt;31 -->\n",
       "<g id=\"edge31\" class=\"edge\">\n",
       "<title>22&#45;&gt;31</title>\n",
       "<path fill=\"none\" stroke=\"black\" d=\"M513.86,-364.65C517.43,-363.07 521.05,-361.49 524.5,-360 549.64,-349.17 577.73,-337.5 601.17,-327.87\"/>\n",
       "<polygon fill=\"black\" stroke=\"black\" points=\"602.66,-331.04 610.58,-324.01 600,-324.57 602.66,-331.04\"/>\n",
       "</g>\n",
       "<!-- 33 -->\n",
       "<g id=\"node34\" class=\"node\">\n",
       "<title>33</title>\n",
       "<polygon fill=\"none\" stroke=\"white\" points=\"774.5,-324 720.5,-324 720.5,-288 774.5,-288 774.5,-324\"/>\n",
       "<text text-anchor=\"middle\" x=\"747.5\" y=\"-302.3\" font-family=\"'Fira Mono', 'Source Code Pro', 'Courier', monospace\" font-size=\"14.00\" fill=\"#00a060\">&quot;</text>\n",
       "</g>\n",
       "<!-- 22&#45;&gt;33 -->\n",
       "<g id=\"edge33\" class=\"edge\">\n",
       "<title>22&#45;&gt;33</title>\n",
       "<path fill=\"none\" stroke=\"black\" d=\"M513.61,-363.97C517.22,-362.5 520.92,-361.13 524.5,-360 602.22,-335.49 629.05,-349.17 710.59,-323.83\"/>\n",
       "<polygon fill=\"black\" stroke=\"black\" points=\"711.82,-327.11 720.27,-320.72 709.68,-320.45 711.82,-327.11\"/>\n",
       "</g>\n",
       "<!-- 25 -->\n",
       "<g id=\"node26\" class=\"node\">\n",
       "<title>25</title>\n",
       "<polygon fill=\"none\" stroke=\"white\" points=\"472.5,-252 418.5,-252 418.5,-216 472.5,-216 472.5,-252\"/>\n",
       "<text text-anchor=\"middle\" x=\"445.5\" y=\"-230.3\" font-family=\"'Fira Mono', 'Source Code Pro', 'Courier', monospace\" font-size=\"14.00\" fill=\"#0060a0\">&lt;id&gt;</text>\n",
       "</g>\n",
       "<!-- 24&#45;&gt;25 -->\n",
       "<g id=\"edge25\" class=\"edge\">\n",
       "<title>24&#45;&gt;25</title>\n",
       "<path fill=\"none\" stroke=\"black\" d=\"M475.61,-287.7C471.01,-279.64 465.44,-269.89 460.35,-260.98\"/>\n",
       "<polygon fill=\"black\" stroke=\"black\" points=\"463.27,-259.05 455.27,-252.1 457.2,-262.52 463.27,-259.05\"/>\n",
       "</g>\n",
       "<!-- 28 -->\n",
       "<g id=\"node29\" class=\"node\">\n",
       "<title>28</title>\n",
       "<polygon fill=\"none\" stroke=\"white\" points=\"558,-252 491,-252 491,-216 558,-216 558,-252\"/>\n",
       "<text text-anchor=\"middle\" x=\"524.5\" y=\"-230.3\" font-family=\"'Fira Mono', 'Source Code Pro', 'Courier', monospace\" font-size=\"14.00\" fill=\"#0060a0\">&lt;letter&gt;</text>\n",
       "</g>\n",
       "<!-- 24&#45;&gt;28 -->\n",
       "<g id=\"edge28\" class=\"edge\">\n",
       "<title>24&#45;&gt;28</title>\n",
       "<path fill=\"none\" stroke=\"black\" d=\"M495.14,-287.7C499.63,-279.64 505.06,-269.89 510.02,-260.98\"/>\n",
       "<polygon fill=\"black\" stroke=\"black\" points=\"513.16,-262.54 514.97,-252.1 507.05,-259.14 513.16,-262.54\"/>\n",
       "</g>\n",
       "<!-- 26 -->\n",
       "<g id=\"node27\" class=\"node\">\n",
       "<title>26</title>\n",
       "<polygon fill=\"none\" stroke=\"white\" points=\"479,-180 412,-180 412,-144 479,-144 479,-180\"/>\n",
       "<text text-anchor=\"middle\" x=\"445.5\" y=\"-158.3\" font-family=\"'Fira Mono', 'Source Code Pro', 'Courier', monospace\" font-size=\"14.00\" fill=\"#0060a0\">&lt;letter&gt;</text>\n",
       "</g>\n",
       "<!-- 25&#45;&gt;26 -->\n",
       "<g id=\"edge26\" class=\"edge\">\n",
       "<title>25&#45;&gt;26</title>\n",
       "<path fill=\"none\" stroke=\"black\" d=\"M445.5,-215.7C445.5,-207.98 445.5,-198.71 445.5,-190.11\"/>\n",
       "<polygon fill=\"black\" stroke=\"black\" points=\"449,-190.1 445.5,-180.1 442,-190.1 449,-190.1\"/>\n",
       "</g>\n",
       "<!-- 27 -->\n",
       "<g id=\"node28\" class=\"node\">\n",
       "<title>27</title>\n",
       "<polygon fill=\"none\" stroke=\"white\" points=\"472.5,-108 418.5,-108 418.5,-72 472.5,-72 472.5,-108\"/>\n",
       "<text text-anchor=\"middle\" x=\"445.5\" y=\"-86.3\" font-family=\"'Fira Mono', 'Source Code Pro', 'Courier', monospace\" font-size=\"14.00\" fill=\"#00a060\">W</text>\n",
       "</g>\n",
       "<!-- 26&#45;&gt;27 -->\n",
       "<g id=\"edge27\" class=\"edge\">\n",
       "<title>26&#45;&gt;27</title>\n",
       "<path fill=\"none\" stroke=\"black\" d=\"M445.5,-143.7C445.5,-135.98 445.5,-126.71 445.5,-118.11\"/>\n",
       "<polygon fill=\"black\" stroke=\"black\" points=\"449,-118.1 445.5,-108.1 442,-118.1 449,-118.1\"/>\n",
       "</g>\n",
       "<!-- 29 -->\n",
       "<g id=\"node30\" class=\"node\">\n",
       "<title>29</title>\n",
       "<polygon fill=\"none\" stroke=\"white\" points=\"551.5,-180 497.5,-180 497.5,-144 551.5,-144 551.5,-180\"/>\n",
       "<text text-anchor=\"middle\" x=\"524.5\" y=\"-158.3\" font-family=\"'Fira Mono', 'Source Code Pro', 'Courier', monospace\" font-size=\"14.00\" fill=\"#00a060\">t</text>\n",
       "</g>\n",
       "<!-- 28&#45;&gt;29 -->\n",
       "<g id=\"edge29\" class=\"edge\">\n",
       "<title>28&#45;&gt;29</title>\n",
       "<path fill=\"none\" stroke=\"black\" d=\"M524.5,-215.7C524.5,-207.98 524.5,-198.71 524.5,-190.11\"/>\n",
       "<polygon fill=\"black\" stroke=\"black\" points=\"528,-190.1 524.5,-180.1 521,-190.1 528,-190.1\"/>\n",
       "</g>\n",
       "<!-- 32 -->\n",
       "<g id=\"node33\" class=\"node\">\n",
       "<title>32</title>\n",
       "<polygon fill=\"none\" stroke=\"white\" points=\"679.5,-252 625.5,-252 625.5,-216 679.5,-216 679.5,-252\"/>\n",
       "</g>\n",
       "<!-- 31&#45;&gt;32 -->\n",
       "<g id=\"edge32\" class=\"edge\">\n",
       "<title>31&#45;&gt;32</title>\n",
       "<path fill=\"none\" stroke=\"black\" d=\"M652.5,-287.7C652.5,-279.98 652.5,-270.71 652.5,-262.11\"/>\n",
       "<polygon fill=\"black\" stroke=\"black\" points=\"656,-262.1 652.5,-252.1 649,-262.1 656,-262.1\"/>\n",
       "</g>\n",
       "<!-- 36 -->\n",
       "<g id=\"node37\" class=\"node\">\n",
       "<title>36</title>\n",
       "<polygon fill=\"none\" stroke=\"white\" points=\"587.5,-396 533.5,-396 533.5,-360 587.5,-360 587.5,-396\"/>\n",
       "<text text-anchor=\"middle\" x=\"560.5\" y=\"-374.3\" font-family=\"'Fira Mono', 'Source Code Pro', 'Courier', monospace\" font-size=\"14.00\" fill=\"#00a060\">&gt;</text>\n",
       "</g>\n",
       "<!-- 35&#45;&gt;36 -->\n",
       "<g id=\"edge36\" class=\"edge\">\n",
       "<title>35&#45;&gt;36</title>\n",
       "<path fill=\"none\" stroke=\"black\" d=\"M560.5,-431.7C560.5,-423.98 560.5,-414.71 560.5,-406.11\"/>\n",
       "<polygon fill=\"black\" stroke=\"black\" points=\"564,-406.1 560.5,-396.1 557,-406.1 564,-406.1\"/>\n",
       "</g>\n",
       "</g>\n",
       "</svg>\n"
      ],
      "text/plain": [
       "<graphviz.graphs.Digraph at 0x105bda1a0>"
      ]
     },
     "execution_count": 31,
     "metadata": {},
     "output_type": "execute_result"
    }
   ],
   "source": [
    "display_tree(simple_html_fuzzer.derivation_tree)"
   ]
  },
  {
   "cell_type": "markdown",
   "metadata": {
    "slideshow": {
     "slide_type": "fragment"
    }
   },
   "source": [
    "From top to bottom, we see that the input was constructed from a `<start>` symbol, which then expanded into `html`, which then expanded into HTML text, and so on. Multiple children in a tree stand for a concatenation of individual symbols."
   ]
  },
  {
   "cell_type": "markdown",
   "metadata": {
    "slideshow": {
     "slide_type": "fragment"
    }
   },
   "source": [
    "Internally, these trees come as pairs `(symbol, children)`, where `symbol` is the name of a node (say, `<html>`), and `children` is a (possibly empty) list of subtrees. Here are the topmost nodes of the above tree:"
   ]
  },
  {
   "cell_type": "code",
   "execution_count": 32,
   "metadata": {
    "execution": {
     "iopub.execute_input": "2022-08-06T23:06:43.430099Z",
     "iopub.status.busy": "2022-08-06T23:06:43.429718Z",
     "iopub.status.idle": "2022-08-06T23:06:43.431273Z",
     "shell.execute_reply": "2022-08-06T23:06:43.431711Z"
    },
    "slideshow": {
     "slide_type": "skip"
    }
   },
   "outputs": [],
   "source": [
    "import pprint"
   ]
  },
  {
   "cell_type": "code",
   "execution_count": 33,
   "metadata": {
    "execution": {
     "iopub.execute_input": "2022-08-06T23:06:43.434440Z",
     "iopub.status.busy": "2022-08-06T23:06:43.434019Z",
     "iopub.status.idle": "2022-08-06T23:06:43.435670Z",
     "shell.execute_reply": "2022-08-06T23:06:43.435904Z"
    },
    "slideshow": {
     "slide_type": "fragment"
    }
   },
   "outputs": [
    {
     "name": "stdout",
     "output_type": "stream",
     "text": [
      "('<start>', [('<html>', [('<tagged-text>', [('<self-closing-tag>', [...])])])])\n"
     ]
    }
   ],
   "source": [
    "pp = pprint.PrettyPrinter(depth=7)\n",
    "pp.pprint(simple_html_fuzzer.derivation_tree)"
   ]
  },
  {
   "cell_type": "markdown",
   "metadata": {
    "slideshow": {
     "slide_type": "subslide"
    }
   },
   "source": [
    "To produce abstract failure-inducing patterns, we will work on this very structure. The idea is to\n",
    "\n",
    "1. systematically replace subtrees by other, generated, compatible subtrees (e.g. replace one `<html>` subtree in the concrete input by some other generated `<html>` subtree);\n",
    "2. see whether these subtrees also result in failures; and\n",
    "3. if they do, use the nonterminal (`<html>`) as a placeholder in the pattern.\n",
    "\n",
    "This will involve some subtree manipulation, construction, and finally testing. First of all, though, we need to be able to turn an _existing input_ into a derivation tree."
   ]
  },
  {
   "cell_type": "markdown",
   "metadata": {
    "slideshow": {
     "slide_type": "slide"
    }
   },
   "source": [
    "## Parsing\n",
    "\n",
    "The activity of creating a structure out of an unstructured input is called _parsing_. Generally speaking, a _parser_ uses a _grammar_ to create a _derivation tree_ (also called *parse tree* in parsing contexts) from a string input."
   ]
  },
  {
   "cell_type": "markdown",
   "metadata": {
    "slideshow": {
     "slide_type": "fragment"
    }
   },
   "source": [
    "Again, there's a whole body of theory (and practice!) around constructing parsers. We make our life simple by using an existing parser (again, from [the fuzzing book](https://www.fuzzingbook.org/Parser.html)), which does just what we want. The `EarleyParser` is instantiated with a grammar such as `SIMPLE_HTML_GRAMMAR`:"
   ]
  },
  {
   "cell_type": "code",
   "execution_count": 34,
   "metadata": {
    "execution": {
     "iopub.execute_input": "2022-08-06T23:06:43.438207Z",
     "iopub.status.busy": "2022-08-06T23:06:43.437896Z",
     "iopub.status.idle": "2022-08-06T23:06:43.441167Z",
     "shell.execute_reply": "2022-08-06T23:06:43.441359Z"
    },
    "slideshow": {
     "slide_type": "skip"
    }
   },
   "outputs": [],
   "source": [
    "from fuzzingbook.Parser import Parser, EarleyParser  # minor dependency"
   ]
  },
  {
   "cell_type": "code",
   "execution_count": 35,
   "metadata": {
    "execution": {
     "iopub.execute_input": "2022-08-06T23:06:43.443858Z",
     "iopub.status.busy": "2022-08-06T23:06:43.443427Z",
     "iopub.status.idle": "2022-08-06T23:06:43.445461Z",
     "shell.execute_reply": "2022-08-06T23:06:43.445192Z"
    },
    "slideshow": {
     "slide_type": "fragment"
    }
   },
   "outputs": [],
   "source": [
    "simple_html_parser = EarleyParser(SIMPLE_HTML_GRAMMAR)"
   ]
  },
  {
   "cell_type": "markdown",
   "metadata": {
    "slideshow": {
     "slide_type": "subslide"
    }
   },
   "source": [
    "Its method `parse()` returns an iterator over multiple possible derivation trees.  (There can be multiple trees because the grammar could be ambiguous). We are only interested in the first such tree. Let us parse `BAD_INPUT` and inspect the resulting ~parse tree~ ~syntax tree~ derivation tree:"
   ]
  },
  {
   "cell_type": "code",
   "execution_count": 36,
   "metadata": {
    "execution": {
     "iopub.execute_input": "2022-08-06T23:06:43.452268Z",
     "iopub.status.busy": "2022-08-06T23:06:43.451401Z",
     "iopub.status.idle": "2022-08-06T23:06:43.453680Z",
     "shell.execute_reply": "2022-08-06T23:06:43.453917Z"
    },
    "slideshow": {
     "slide_type": "fragment"
    }
   },
   "outputs": [],
   "source": [
    "bad_input_tree = list(simple_html_parser.parse(BAD_INPUT))[0]"
   ]
  },
  {
   "cell_type": "code",
   "execution_count": 37,
   "metadata": {
    "execution": {
     "iopub.execute_input": "2022-08-06T23:06:43.457907Z",
     "iopub.status.busy": "2022-08-06T23:06:43.457294Z",
     "iopub.status.idle": "2022-08-06T23:06:43.759541Z",
     "shell.execute_reply": "2022-08-06T23:06:43.759785Z"
    },
    "slideshow": {
     "slide_type": "fragment"
    }
   },
   "outputs": [
    {
     "data": {
      "image/svg+xml": [
       "<?xml version=\"1.0\" encoding=\"UTF-8\" standalone=\"no\"?>\n",
       "<!DOCTYPE svg PUBLIC \"-//W3C//DTD SVG 1.1//EN\"\n",
       " \"http://www.w3.org/Graphics/SVG/1.1/DTD/svg11.dtd\">\n",
       "<!-- Generated by graphviz version 5.0.0 (20220707.1540)\n",
       " -->\n",
       "<!-- Pages: 1 -->\n",
       "<svg width=\"1001pt\" height=\"764pt\"\n",
       " viewBox=\"0.00 0.00 1000.50 764.00\" xmlns=\"http://www.w3.org/2000/svg\" xmlns:xlink=\"http://www.w3.org/1999/xlink\">\n",
       "<g id=\"graph0\" class=\"graph\" transform=\"scale(1 1) rotate(0) translate(4 760)\">\n",
       "<polygon fill=\"white\" stroke=\"transparent\" points=\"-4,4 -4,-760 996.5,-760 996.5,4 -4,4\"/>\n",
       "<!-- 0 -->\n",
       "<g id=\"node1\" class=\"node\">\n",
       "<title>0</title>\n",
       "<polygon fill=\"none\" stroke=\"white\" points=\"413.5,-756 355.5,-756 355.5,-720 413.5,-720 413.5,-756\"/>\n",
       "<text text-anchor=\"middle\" x=\"384.5\" y=\"-734.3\" font-family=\"'Fira Mono', 'Source Code Pro', 'Courier', monospace\" font-size=\"14.00\" fill=\"#0060a0\">&lt;start&gt;</text>\n",
       "</g>\n",
       "<!-- 1 -->\n",
       "<g id=\"node2\" class=\"node\">\n",
       "<title>1</title>\n",
       "<polygon fill=\"none\" stroke=\"white\" points=\"411.5,-684 357.5,-684 357.5,-648 411.5,-648 411.5,-684\"/>\n",
       "<text text-anchor=\"middle\" x=\"384.5\" y=\"-662.3\" font-family=\"'Fira Mono', 'Source Code Pro', 'Courier', monospace\" font-size=\"14.00\" fill=\"#0060a0\">&lt;html&gt;</text>\n",
       "</g>\n",
       "<!-- 0&#45;&gt;1 -->\n",
       "<g id=\"edge1\" class=\"edge\">\n",
       "<title>0&#45;&gt;1</title>\n",
       "<path fill=\"none\" stroke=\"black\" d=\"M384.5,-719.7C384.5,-711.98 384.5,-702.71 384.5,-694.11\"/>\n",
       "<polygon fill=\"black\" stroke=\"black\" points=\"388,-694.1 384.5,-684.1 381,-694.1 388,-694.1\"/>\n",
       "</g>\n",
       "<!-- 2 -->\n",
       "<g id=\"node3\" class=\"node\">\n",
       "<title>2</title>\n",
       "<polygon fill=\"none\" stroke=\"white\" points=\"438.5,-612 330.5,-612 330.5,-576 438.5,-576 438.5,-612\"/>\n",
       "<text text-anchor=\"middle\" x=\"384.5\" y=\"-590.3\" font-family=\"'Fira Mono', 'Source Code Pro', 'Courier', monospace\" font-size=\"14.00\" fill=\"#0060a0\">&lt;tagged&#45;text&gt;</text>\n",
       "</g>\n",
       "<!-- 1&#45;&gt;2 -->\n",
       "<g id=\"edge2\" class=\"edge\">\n",
       "<title>1&#45;&gt;2</title>\n",
       "<path fill=\"none\" stroke=\"black\" d=\"M384.5,-647.7C384.5,-639.98 384.5,-630.71 384.5,-622.11\"/>\n",
       "<polygon fill=\"black\" stroke=\"black\" points=\"388,-622.1 384.5,-612.1 381,-622.1 388,-622.1\"/>\n",
       "</g>\n",
       "<!-- 3 -->\n",
       "<g id=\"node4\" class=\"node\">\n",
       "<title>3</title>\n",
       "<polygon fill=\"none\" stroke=\"white\" points=\"302.5,-540 194.5,-540 194.5,-504 302.5,-504 302.5,-540\"/>\n",
       "<text text-anchor=\"middle\" x=\"248.5\" y=\"-518.3\" font-family=\"'Fira Mono', 'Source Code Pro', 'Courier', monospace\" font-size=\"14.00\" fill=\"#0060a0\">&lt;opening&#45;tag&gt;</text>\n",
       "</g>\n",
       "<!-- 2&#45;&gt;3 -->\n",
       "<g id=\"edge3\" class=\"edge\">\n",
       "<title>2&#45;&gt;3</title>\n",
       "<path fill=\"none\" stroke=\"black\" d=\"M351.23,-575.88C333.04,-566.51 310.31,-554.81 290.86,-544.8\"/>\n",
       "<polygon fill=\"black\" stroke=\"black\" points=\"292.39,-541.65 281.9,-540.19 289.19,-547.88 292.39,-541.65\"/>\n",
       "</g>\n",
       "<!-- 17 -->\n",
       "<g id=\"node18\" class=\"node\">\n",
       "<title>17</title>\n",
       "<polygon fill=\"none\" stroke=\"white\" points=\"411.5,-540 357.5,-540 357.5,-504 411.5,-504 411.5,-540\"/>\n",
       "<text text-anchor=\"middle\" x=\"384.5\" y=\"-518.3\" font-family=\"'Fira Mono', 'Source Code Pro', 'Courier', monospace\" font-size=\"14.00\" fill=\"#0060a0\">&lt;html&gt;</text>\n",
       "</g>\n",
       "<!-- 2&#45;&gt;17 -->\n",
       "<g id=\"edge17\" class=\"edge\">\n",
       "<title>2&#45;&gt;17</title>\n",
       "<path fill=\"none\" stroke=\"black\" d=\"M384.5,-575.7C384.5,-567.98 384.5,-558.71 384.5,-550.11\"/>\n",
       "<polygon fill=\"black\" stroke=\"black\" points=\"388,-550.1 384.5,-540.1 381,-550.1 388,-550.1\"/>\n",
       "</g>\n",
       "<!-- 35 -->\n",
       "<g id=\"node36\" class=\"node\">\n",
       "<title>35</title>\n",
       "<polygon fill=\"none\" stroke=\"white\" points=\"810.5,-540 702.5,-540 702.5,-504 810.5,-504 810.5,-540\"/>\n",
       "<text text-anchor=\"middle\" x=\"756.5\" y=\"-518.3\" font-family=\"'Fira Mono', 'Source Code Pro', 'Courier', monospace\" font-size=\"14.00\" fill=\"#0060a0\">&lt;closing&#45;tag&gt;</text>\n",
       "</g>\n",
       "<!-- 2&#45;&gt;35 -->\n",
       "<g id=\"edge35\" class=\"edge\">\n",
       "<title>2&#45;&gt;35</title>\n",
       "<path fill=\"none\" stroke=\"black\" d=\"M438.59,-582.82C505.81,-570.17 620.4,-548.61 692.09,-535.12\"/>\n",
       "<polygon fill=\"black\" stroke=\"black\" points=\"693.16,-538.48 702.34,-533.19 691.87,-531.6 693.16,-538.48\"/>\n",
       "</g>\n",
       "<!-- 4 -->\n",
       "<g id=\"node5\" class=\"node\">\n",
       "<title>4</title>\n",
       "<polygon fill=\"none\" stroke=\"white\" points=\"107.5,-468 53.5,-468 53.5,-432 107.5,-432 107.5,-468\"/>\n",
       "<text text-anchor=\"middle\" x=\"80.5\" y=\"-446.3\" font-family=\"'Fira Mono', 'Source Code Pro', 'Courier', monospace\" font-size=\"14.00\" fill=\"#0060a0\">&lt;lt&gt;</text>\n",
       "</g>\n",
       "<!-- 3&#45;&gt;4 -->\n",
       "<g id=\"edge4\" class=\"edge\">\n",
       "<title>3&#45;&gt;4</title>\n",
       "<path fill=\"none\" stroke=\"black\" d=\"M207.4,-503.88C179.72,-492.34 143.53,-477.26 116.89,-466.16\"/>\n",
       "<polygon fill=\"black\" stroke=\"black\" points=\"118.12,-462.88 107.54,-462.27 115.42,-469.34 118.12,-462.88\"/>\n",
       "</g>\n",
       "<!-- 6 -->\n",
       "<g id=\"node7\" class=\"node\">\n",
       "<title>6</title>\n",
       "<polygon fill=\"none\" stroke=\"white\" points=\"218.5,-468 164.5,-468 164.5,-432 218.5,-432 218.5,-468\"/>\n",
       "<text text-anchor=\"middle\" x=\"191.5\" y=\"-446.3\" font-family=\"'Fira Mono', 'Source Code Pro', 'Courier', monospace\" font-size=\"14.00\" fill=\"#0060a0\">&lt;id&gt;</text>\n",
       "</g>\n",
       "<!-- 3&#45;&gt;6 -->\n",
       "<g id=\"edge6\" class=\"edge\">\n",
       "<title>3&#45;&gt;6</title>\n",
       "<path fill=\"none\" stroke=\"black\" d=\"M234.41,-503.7C227.58,-495.3 219.24,-485.07 211.74,-475.86\"/>\n",
       "<polygon fill=\"black\" stroke=\"black\" points=\"214.46,-473.65 205.43,-468.1 209.03,-478.07 214.46,-473.65\"/>\n",
       "</g>\n",
       "<!-- 15 -->\n",
       "<g id=\"node16\" class=\"node\">\n",
       "<title>15</title>\n",
       "<polygon fill=\"none\" stroke=\"white\" points=\"294.5,-468 240.5,-468 240.5,-432 294.5,-432 294.5,-468\"/>\n",
       "<text text-anchor=\"middle\" x=\"267.5\" y=\"-446.3\" font-family=\"'Fira Mono', 'Source Code Pro', 'Courier', monospace\" font-size=\"14.00\" fill=\"#0060a0\">&lt;gt&gt;</text>\n",
       "</g>\n",
       "<!-- 3&#45;&gt;15 -->\n",
       "<g id=\"edge15\" class=\"edge\">\n",
       "<title>3&#45;&gt;15</title>\n",
       "<path fill=\"none\" stroke=\"black\" d=\"M253.2,-503.7C255.31,-495.9 257.86,-486.51 260.22,-477.83\"/>\n",
       "<polygon fill=\"black\" stroke=\"black\" points=\"263.62,-478.67 262.86,-468.1 256.86,-476.84 263.62,-478.67\"/>\n",
       "</g>\n",
       "<!-- 5 -->\n",
       "<g id=\"node6\" class=\"node\">\n",
       "<title>5</title>\n",
       "<polygon fill=\"none\" stroke=\"white\" points=\"67.5,-396 13.5,-396 13.5,-360 67.5,-360 67.5,-396\"/>\n",
       "<text text-anchor=\"middle\" x=\"40.5\" y=\"-374.3\" font-family=\"'Fira Mono', 'Source Code Pro', 'Courier', monospace\" font-size=\"14.00\" fill=\"#0060a0\">&lt;</text>\n",
       "</g>\n",
       "<!-- 4&#45;&gt;5 -->\n",
       "<g id=\"edge5\" class=\"edge\">\n",
       "<title>4&#45;&gt;5</title>\n",
       "<path fill=\"none\" stroke=\"black\" d=\"M70.61,-431.7C66.01,-423.64 60.44,-413.89 55.35,-404.98\"/>\n",
       "<polygon fill=\"black\" stroke=\"black\" points=\"58.27,-403.05 50.27,-396.1 52.2,-406.52 58.27,-403.05\"/>\n",
       "</g>\n",
       "<!-- 7 -->\n",
       "<g id=\"node8\" class=\"node\">\n",
       "<title>7</title>\n",
       "<polygon fill=\"none\" stroke=\"white\" points=\"139.5,-396 85.5,-396 85.5,-360 139.5,-360 139.5,-396\"/>\n",
       "<text text-anchor=\"middle\" x=\"112.5\" y=\"-374.3\" font-family=\"'Fira Mono', 'Source Code Pro', 'Courier', monospace\" font-size=\"14.00\" fill=\"#0060a0\">&lt;id&gt;</text>\n",
       "</g>\n",
       "<!-- 6&#45;&gt;7 -->\n",
       "<g id=\"edge7\" class=\"edge\">\n",
       "<title>6&#45;&gt;7</title>\n",
       "<path fill=\"none\" stroke=\"black\" d=\"M171.97,-431.7C162.12,-422.97 150.01,-412.24 139.3,-402.75\"/>\n",
       "<polygon fill=\"black\" stroke=\"black\" points=\"141.61,-400.12 131.8,-396.1 136.97,-405.36 141.61,-400.12\"/>\n",
       "</g>\n",
       "<!-- 13 -->\n",
       "<g id=\"node14\" class=\"node\">\n",
       "<title>13</title>\n",
       "<polygon fill=\"none\" stroke=\"white\" points=\"225,-396 158,-396 158,-360 225,-360 225,-396\"/>\n",
       "<text text-anchor=\"middle\" x=\"191.5\" y=\"-374.3\" font-family=\"'Fira Mono', 'Source Code Pro', 'Courier', monospace\" font-size=\"14.00\" fill=\"#0060a0\">&lt;letter&gt;</text>\n",
       "</g>\n",
       "<!-- 6&#45;&gt;13 -->\n",
       "<g id=\"edge13\" class=\"edge\">\n",
       "<title>6&#45;&gt;13</title>\n",
       "<path fill=\"none\" stroke=\"black\" d=\"M191.5,-431.7C191.5,-423.98 191.5,-414.71 191.5,-406.11\"/>\n",
       "<polygon fill=\"black\" stroke=\"black\" points=\"195,-406.1 191.5,-396.1 188,-406.1 195,-406.1\"/>\n",
       "</g>\n",
       "<!-- 8 -->\n",
       "<g id=\"node9\" class=\"node\">\n",
       "<title>8</title>\n",
       "<polygon fill=\"none\" stroke=\"white\" points=\"60.5,-324 6.5,-324 6.5,-288 60.5,-288 60.5,-324\"/>\n",
       "<text text-anchor=\"middle\" x=\"33.5\" y=\"-302.3\" font-family=\"'Fira Mono', 'Source Code Pro', 'Courier', monospace\" font-size=\"14.00\" fill=\"#0060a0\">&lt;id&gt;</text>\n",
       "</g>\n",
       "<!-- 7&#45;&gt;8 -->\n",
       "<g id=\"edge8\" class=\"edge\">\n",
       "<title>7&#45;&gt;8</title>\n",
       "<path fill=\"none\" stroke=\"black\" d=\"M92.97,-359.7C83.12,-350.97 71.01,-340.24 60.3,-330.75\"/>\n",
       "<polygon fill=\"black\" stroke=\"black\" points=\"62.61,-328.12 52.8,-324.1 57.97,-333.36 62.61,-328.12\"/>\n",
       "</g>\n",
       "<!-- 11 -->\n",
       "<g id=\"node12\" class=\"node\">\n",
       "<title>11</title>\n",
       "<polygon fill=\"none\" stroke=\"white\" points=\"146,-324 79,-324 79,-288 146,-288 146,-324\"/>\n",
       "<text text-anchor=\"middle\" x=\"112.5\" y=\"-302.3\" font-family=\"'Fira Mono', 'Source Code Pro', 'Courier', monospace\" font-size=\"14.00\" fill=\"#0060a0\">&lt;letter&gt;</text>\n",
       "</g>\n",
       "<!-- 7&#45;&gt;11 -->\n",
       "<g id=\"edge11\" class=\"edge\">\n",
       "<title>7&#45;&gt;11</title>\n",
       "<path fill=\"none\" stroke=\"black\" d=\"M112.5,-359.7C112.5,-351.98 112.5,-342.71 112.5,-334.11\"/>\n",
       "<polygon fill=\"black\" stroke=\"black\" points=\"116,-334.1 112.5,-324.1 109,-334.1 116,-334.1\"/>\n",
       "</g>\n",
       "<!-- 9 -->\n",
       "<g id=\"node10\" class=\"node\">\n",
       "<title>9</title>\n",
       "<polygon fill=\"none\" stroke=\"white\" points=\"67,-252 0,-252 0,-216 67,-216 67,-252\"/>\n",
       "<text text-anchor=\"middle\" x=\"33.5\" y=\"-230.3\" font-family=\"'Fira Mono', 'Source Code Pro', 'Courier', monospace\" font-size=\"14.00\" fill=\"#0060a0\">&lt;letter&gt;</text>\n",
       "</g>\n",
       "<!-- 8&#45;&gt;9 -->\n",
       "<g id=\"edge9\" class=\"edge\">\n",
       "<title>8&#45;&gt;9</title>\n",
       "<path fill=\"none\" stroke=\"black\" d=\"M33.5,-287.7C33.5,-279.98 33.5,-270.71 33.5,-262.11\"/>\n",
       "<polygon fill=\"black\" stroke=\"black\" points=\"37,-262.1 33.5,-252.1 30,-262.1 37,-262.1\"/>\n",
       "</g>\n",
       "<!-- 10 -->\n",
       "<g id=\"node11\" class=\"node\">\n",
       "<title>10</title>\n",
       "<polygon fill=\"none\" stroke=\"white\" points=\"60.5,-180 6.5,-180 6.5,-144 60.5,-144 60.5,-180\"/>\n",
       "<text text-anchor=\"middle\" x=\"33.5\" y=\"-158.3\" font-family=\"'Fira Mono', 'Source Code Pro', 'Courier', monospace\" font-size=\"14.00\" fill=\"#00a060\">f</text>\n",
       "</g>\n",
       "<!-- 9&#45;&gt;10 -->\n",
       "<g id=\"edge10\" class=\"edge\">\n",
       "<title>9&#45;&gt;10</title>\n",
       "<path fill=\"none\" stroke=\"black\" d=\"M33.5,-215.7C33.5,-207.98 33.5,-198.71 33.5,-190.11\"/>\n",
       "<polygon fill=\"black\" stroke=\"black\" points=\"37,-190.1 33.5,-180.1 30,-190.1 37,-190.1\"/>\n",
       "</g>\n",
       "<!-- 12 -->\n",
       "<g id=\"node13\" class=\"node\">\n",
       "<title>12</title>\n",
       "<polygon fill=\"none\" stroke=\"white\" points=\"139.5,-252 85.5,-252 85.5,-216 139.5,-216 139.5,-252\"/>\n",
       "<text text-anchor=\"middle\" x=\"112.5\" y=\"-230.3\" font-family=\"'Fira Mono', 'Source Code Pro', 'Courier', monospace\" font-size=\"14.00\" fill=\"#00a060\">o</text>\n",
       "</g>\n",
       "<!-- 11&#45;&gt;12 -->\n",
       "<g id=\"edge12\" class=\"edge\">\n",
       "<title>11&#45;&gt;12</title>\n",
       "<path fill=\"none\" stroke=\"black\" d=\"M112.5,-287.7C112.5,-279.98 112.5,-270.71 112.5,-262.11\"/>\n",
       "<polygon fill=\"black\" stroke=\"black\" points=\"116,-262.1 112.5,-252.1 109,-262.1 116,-262.1\"/>\n",
       "</g>\n",
       "<!-- 14 -->\n",
       "<g id=\"node15\" class=\"node\">\n",
       "<title>14</title>\n",
       "<polygon fill=\"none\" stroke=\"white\" points=\"218.5,-324 164.5,-324 164.5,-288 218.5,-288 218.5,-324\"/>\n",
       "<text text-anchor=\"middle\" x=\"191.5\" y=\"-302.3\" font-family=\"'Fira Mono', 'Source Code Pro', 'Courier', monospace\" font-size=\"14.00\" fill=\"#00a060\">o</text>\n",
       "</g>\n",
       "<!-- 13&#45;&gt;14 -->\n",
       "<g id=\"edge14\" class=\"edge\">\n",
       "<title>13&#45;&gt;14</title>\n",
       "<path fill=\"none\" stroke=\"black\" d=\"M191.5,-359.7C191.5,-351.98 191.5,-342.71 191.5,-334.11\"/>\n",
       "<polygon fill=\"black\" stroke=\"black\" points=\"195,-334.1 191.5,-324.1 188,-334.1 195,-334.1\"/>\n",
       "</g>\n",
       "<!-- 16 -->\n",
       "<g id=\"node17\" class=\"node\">\n",
       "<title>16</title>\n",
       "<polygon fill=\"none\" stroke=\"white\" points=\"297.5,-396 243.5,-396 243.5,-360 297.5,-360 297.5,-396\"/>\n",
       "<text text-anchor=\"middle\" x=\"270.5\" y=\"-374.3\" font-family=\"'Fira Mono', 'Source Code Pro', 'Courier', monospace\" font-size=\"14.00\" fill=\"#00a060\">&gt;</text>\n",
       "</g>\n",
       "<!-- 15&#45;&gt;16 -->\n",
       "<g id=\"edge16\" class=\"edge\">\n",
       "<title>15&#45;&gt;16</title>\n",
       "<path fill=\"none\" stroke=\"black\" d=\"M268.24,-431.7C268.57,-423.98 268.97,-414.71 269.34,-406.11\"/>\n",
       "<polygon fill=\"black\" stroke=\"black\" points=\"272.84,-406.25 269.77,-396.1 265.84,-405.95 272.84,-406.25\"/>\n",
       "</g>\n",
       "<!-- 18 -->\n",
       "<g id=\"node19\" class=\"node\">\n",
       "<title>18</title>\n",
       "<polygon fill=\"none\" stroke=\"white\" points=\"434.5,-468 334.5,-468 334.5,-432 434.5,-432 434.5,-468\"/>\n",
       "<text text-anchor=\"middle\" x=\"384.5\" y=\"-446.3\" font-family=\"'Fira Mono', 'Source Code Pro', 'Courier', monospace\" font-size=\"14.00\" fill=\"#0060a0\">&lt;plain&#45;text&gt;</text>\n",
       "</g>\n",
       "<!-- 17&#45;&gt;18 -->\n",
       "<g id=\"edge18\" class=\"edge\">\n",
       "<title>17&#45;&gt;18</title>\n",
       "<path fill=\"none\" stroke=\"black\" d=\"M384.5,-503.7C384.5,-495.98 384.5,-486.71 384.5,-478.11\"/>\n",
       "<polygon fill=\"black\" stroke=\"black\" points=\"388,-478.1 384.5,-468.1 381,-478.1 388,-478.1\"/>\n",
       "</g>\n",
       "<!-- 19 -->\n",
       "<g id=\"node20\" class=\"node\">\n",
       "<title>19</title>\n",
       "<polygon fill=\"none\" stroke=\"white\" points=\"415.5,-396 315.5,-396 315.5,-360 415.5,-360 415.5,-396\"/>\n",
       "<text text-anchor=\"middle\" x=\"365.5\" y=\"-374.3\" font-family=\"'Fira Mono', 'Source Code Pro', 'Courier', monospace\" font-size=\"14.00\" fill=\"#0060a0\">&lt;plain&#45;char&gt;</text>\n",
       "</g>\n",
       "<!-- 18&#45;&gt;19 -->\n",
       "<g id=\"edge19\" class=\"edge\">\n",
       "<title>18&#45;&gt;19</title>\n",
       "<path fill=\"none\" stroke=\"black\" d=\"M379.8,-431.7C377.69,-423.9 375.14,-414.51 372.78,-405.83\"/>\n",
       "<polygon fill=\"black\" stroke=\"black\" points=\"376.14,-404.84 370.14,-396.1 369.38,-406.67 376.14,-404.84\"/>\n",
       "</g>\n",
       "<!-- 22 -->\n",
       "<g id=\"node23\" class=\"node\">\n",
       "<title>22</title>\n",
       "<polygon fill=\"none\" stroke=\"white\" points=\"533.5,-396 433.5,-396 433.5,-360 533.5,-360 533.5,-396\"/>\n",
       "<text text-anchor=\"middle\" x=\"483.5\" y=\"-374.3\" font-family=\"'Fira Mono', 'Source Code Pro', 'Courier', monospace\" font-size=\"14.00\" fill=\"#0060a0\">&lt;plain&#45;text&gt;</text>\n",
       "</g>\n",
       "<!-- 18&#45;&gt;22 -->\n",
       "<g id=\"edge22\" class=\"edge\">\n",
       "<title>18&#45;&gt;22</title>\n",
       "<path fill=\"none\" stroke=\"black\" d=\"M408.72,-431.88C421.42,-422.89 437.16,-411.76 450.92,-402.03\"/>\n",
       "<polygon fill=\"black\" stroke=\"black\" points=\"453.04,-404.82 459.19,-396.19 449,-399.11 453.04,-404.82\"/>\n",
       "</g>\n",
       "<!-- 20 -->\n",
       "<g id=\"node21\" class=\"node\">\n",
       "<title>20</title>\n",
       "<polygon fill=\"none\" stroke=\"white\" points=\"345.5,-324 287.5,-324 287.5,-288 345.5,-288 345.5,-324\"/>\n",
       "<text text-anchor=\"middle\" x=\"316.5\" y=\"-302.3\" font-family=\"'Fira Mono', 'Source Code Pro', 'Courier', monospace\" font-size=\"14.00\" fill=\"#0060a0\">&lt;other&gt;</text>\n",
       "</g>\n",
       "<!-- 19&#45;&gt;20 -->\n",
       "<g id=\"edge20\" class=\"edge\">\n",
       "<title>19&#45;&gt;20</title>\n",
       "<path fill=\"none\" stroke=\"black\" d=\"M353.39,-359.7C347.63,-351.47 340.64,-341.48 334.29,-332.42\"/>\n",
       "<polygon fill=\"black\" stroke=\"black\" points=\"337.08,-330.29 328.47,-324.1 331.34,-334.3 337.08,-330.29\"/>\n",
       "</g>\n",
       "<!-- 21 -->\n",
       "<g id=\"node22\" class=\"node\">\n",
       "<title>21</title>\n",
       "<polygon fill=\"none\" stroke=\"white\" points=\"343.5,-252 289.5,-252 289.5,-216 343.5,-216 343.5,-252\"/>\n",
       "<text text-anchor=\"middle\" x=\"316.5\" y=\"-230.3\" font-family=\"'Fira Mono', 'Source Code Pro', 'Courier', monospace\" font-size=\"14.00\" fill=\"#00a060\">&quot;</text>\n",
       "</g>\n",
       "<!-- 20&#45;&gt;21 -->\n",
       "<g id=\"edge21\" class=\"edge\">\n",
       "<title>20&#45;&gt;21</title>\n",
       "<path fill=\"none\" stroke=\"black\" d=\"M316.5,-287.7C316.5,-279.98 316.5,-270.71 316.5,-262.11\"/>\n",
       "<polygon fill=\"black\" stroke=\"black\" points=\"320,-262.1 316.5,-252.1 313,-262.1 320,-262.1\"/>\n",
       "</g>\n",
       "<!-- 23 -->\n",
       "<g id=\"node24\" class=\"node\">\n",
       "<title>23</title>\n",
       "<polygon fill=\"none\" stroke=\"white\" points=\"463.5,-324 363.5,-324 363.5,-288 463.5,-288 463.5,-324\"/>\n",
       "<text text-anchor=\"middle\" x=\"413.5\" y=\"-302.3\" font-family=\"'Fira Mono', 'Source Code Pro', 'Courier', monospace\" font-size=\"14.00\" fill=\"#0060a0\">&lt;plain&#45;char&gt;</text>\n",
       "</g>\n",
       "<!-- 22&#45;&gt;23 -->\n",
       "<g id=\"edge23\" class=\"edge\">\n",
       "<title>22&#45;&gt;23</title>\n",
       "<path fill=\"none\" stroke=\"black\" d=\"M466.2,-359.7C457.64,-351.14 447.16,-340.66 437.8,-331.3\"/>\n",
       "<polygon fill=\"black\" stroke=\"black\" points=\"440.15,-328.7 430.6,-324.1 435.2,-333.65 440.15,-328.7\"/>\n",
       "</g>\n",
       "<!-- 26 -->\n",
       "<g id=\"node27\" class=\"node\">\n",
       "<title>26</title>\n",
       "<polygon fill=\"none\" stroke=\"white\" points=\"581.5,-324 481.5,-324 481.5,-288 581.5,-288 581.5,-324\"/>\n",
       "<text text-anchor=\"middle\" x=\"531.5\" y=\"-302.3\" font-family=\"'Fira Mono', 'Source Code Pro', 'Courier', monospace\" font-size=\"14.00\" fill=\"#0060a0\">&lt;plain&#45;text&gt;</text>\n",
       "</g>\n",
       "<!-- 22&#45;&gt;26 -->\n",
       "<g id=\"edge26\" class=\"edge\">\n",
       "<title>22&#45;&gt;26</title>\n",
       "<path fill=\"none\" stroke=\"black\" d=\"M495.37,-359.7C501,-351.47 507.85,-341.48 514.07,-332.42\"/>\n",
       "<polygon fill=\"black\" stroke=\"black\" points=\"517,-334.33 519.77,-324.1 511.23,-330.37 517,-334.33\"/>\n",
       "</g>\n",
       "<!-- 24 -->\n",
       "<g id=\"node25\" class=\"node\">\n",
       "<title>24</title>\n",
       "<polygon fill=\"none\" stroke=\"white\" points=\"438,-252 371,-252 371,-216 438,-216 438,-252\"/>\n",
       "<text text-anchor=\"middle\" x=\"404.5\" y=\"-230.3\" font-family=\"'Fira Mono', 'Source Code Pro', 'Courier', monospace\" font-size=\"14.00\" fill=\"#0060a0\">&lt;letter&gt;</text>\n",
       "</g>\n",
       "<!-- 23&#45;&gt;24 -->\n",
       "<g id=\"edge24\" class=\"edge\">\n",
       "<title>23&#45;&gt;24</title>\n",
       "<path fill=\"none\" stroke=\"black\" d=\"M411.28,-287.7C410.28,-279.98 409.09,-270.71 407.99,-262.11\"/>\n",
       "<polygon fill=\"black\" stroke=\"black\" points=\"411.45,-261.58 406.7,-252.1 404.5,-262.47 411.45,-261.58\"/>\n",
       "</g>\n",
       "<!-- 25 -->\n",
       "<g id=\"node26\" class=\"node\">\n",
       "<title>25</title>\n",
       "<polygon fill=\"none\" stroke=\"white\" points=\"431.5,-180 377.5,-180 377.5,-144 431.5,-144 431.5,-180\"/>\n",
       "<text text-anchor=\"middle\" x=\"404.5\" y=\"-158.3\" font-family=\"'Fira Mono', 'Source Code Pro', 'Courier', monospace\" font-size=\"14.00\" fill=\"#00a060\">b</text>\n",
       "</g>\n",
       "<!-- 24&#45;&gt;25 -->\n",
       "<g id=\"edge25\" class=\"edge\">\n",
       "<title>24&#45;&gt;25</title>\n",
       "<path fill=\"none\" stroke=\"black\" d=\"M404.5,-215.7C404.5,-207.98 404.5,-198.71 404.5,-190.11\"/>\n",
       "<polygon fill=\"black\" stroke=\"black\" points=\"408,-190.1 404.5,-180.1 401,-190.1 408,-190.1\"/>\n",
       "</g>\n",
       "<!-- 27 -->\n",
       "<g id=\"node28\" class=\"node\">\n",
       "<title>27</title>\n",
       "<polygon fill=\"none\" stroke=\"white\" points=\"556.5,-252 456.5,-252 456.5,-216 556.5,-216 556.5,-252\"/>\n",
       "<text text-anchor=\"middle\" x=\"506.5\" y=\"-230.3\" font-family=\"'Fira Mono', 'Source Code Pro', 'Courier', monospace\" font-size=\"14.00\" fill=\"#0060a0\">&lt;plain&#45;char&gt;</text>\n",
       "</g>\n",
       "<!-- 26&#45;&gt;27 -->\n",
       "<g id=\"edge27\" class=\"edge\">\n",
       "<title>26&#45;&gt;27</title>\n",
       "<path fill=\"none\" stroke=\"black\" d=\"M525.32,-287.7C522.5,-279.81 519.11,-270.3 515.98,-261.55\"/>\n",
       "<polygon fill=\"black\" stroke=\"black\" points=\"519.27,-260.34 512.61,-252.1 512.68,-262.7 519.27,-260.34\"/>\n",
       "</g>\n",
       "<!-- 30 -->\n",
       "<g id=\"node31\" class=\"node\">\n",
       "<title>30</title>\n",
       "<polygon fill=\"none\" stroke=\"white\" points=\"674.5,-252 574.5,-252 574.5,-216 674.5,-216 674.5,-252\"/>\n",
       "<text text-anchor=\"middle\" x=\"624.5\" y=\"-230.3\" font-family=\"'Fira Mono', 'Source Code Pro', 'Courier', monospace\" font-size=\"14.00\" fill=\"#0060a0\">&lt;plain&#45;text&gt;</text>\n",
       "</g>\n",
       "<!-- 26&#45;&gt;30 -->\n",
       "<g id=\"edge30\" class=\"edge\">\n",
       "<title>26&#45;&gt;30</title>\n",
       "<path fill=\"none\" stroke=\"black\" d=\"M554.49,-287.7C566.31,-278.8 580.89,-267.82 593.68,-258.2\"/>\n",
       "<polygon fill=\"black\" stroke=\"black\" points=\"595.89,-260.91 601.78,-252.1 591.68,-255.32 595.89,-260.91\"/>\n",
       "</g>\n",
       "<!-- 28 -->\n",
       "<g id=\"node29\" class=\"node\">\n",
       "<title>28</title>\n",
       "<polygon fill=\"none\" stroke=\"white\" points=\"528,-180 461,-180 461,-144 528,-144 528,-180\"/>\n",
       "<text text-anchor=\"middle\" x=\"494.5\" y=\"-158.3\" font-family=\"'Fira Mono', 'Source Code Pro', 'Courier', monospace\" font-size=\"14.00\" fill=\"#0060a0\">&lt;letter&gt;</text>\n",
       "</g>\n",
       "<!-- 27&#45;&gt;28 -->\n",
       "<g id=\"edge28\" class=\"edge\">\n",
       "<title>27&#45;&gt;28</title>\n",
       "<path fill=\"none\" stroke=\"black\" d=\"M503.53,-215.7C502.21,-207.98 500.62,-198.71 499.15,-190.11\"/>\n",
       "<polygon fill=\"black\" stroke=\"black\" points=\"502.57,-189.37 497.43,-180.1 495.67,-190.55 502.57,-189.37\"/>\n",
       "</g>\n",
       "<!-- 29 -->\n",
       "<g id=\"node30\" class=\"node\">\n",
       "<title>29</title>\n",
       "<polygon fill=\"none\" stroke=\"white\" points=\"521.5,-108 467.5,-108 467.5,-72 521.5,-72 521.5,-108\"/>\n",
       "<text text-anchor=\"middle\" x=\"494.5\" y=\"-86.3\" font-family=\"'Fira Mono', 'Source Code Pro', 'Courier', monospace\" font-size=\"14.00\" fill=\"#00a060\">a</text>\n",
       "</g>\n",
       "<!-- 28&#45;&gt;29 -->\n",
       "<g id=\"edge29\" class=\"edge\">\n",
       "<title>28&#45;&gt;29</title>\n",
       "<path fill=\"none\" stroke=\"black\" d=\"M494.5,-143.7C494.5,-135.98 494.5,-126.71 494.5,-118.11\"/>\n",
       "<polygon fill=\"black\" stroke=\"black\" points=\"498,-118.1 494.5,-108.1 491,-118.1 498,-118.1\"/>\n",
       "</g>\n",
       "<!-- 31 -->\n",
       "<g id=\"node32\" class=\"node\">\n",
       "<title>31</title>\n",
       "<polygon fill=\"none\" stroke=\"white\" points=\"646.5,-180 546.5,-180 546.5,-144 646.5,-144 646.5,-180\"/>\n",
       "<text text-anchor=\"middle\" x=\"596.5\" y=\"-158.3\" font-family=\"'Fira Mono', 'Source Code Pro', 'Courier', monospace\" font-size=\"14.00\" fill=\"#0060a0\">&lt;plain&#45;char&gt;</text>\n",
       "</g>\n",
       "<!-- 30&#45;&gt;31 -->\n",
       "<g id=\"edge31\" class=\"edge\">\n",
       "<title>30&#45;&gt;31</title>\n",
       "<path fill=\"none\" stroke=\"black\" d=\"M617.58,-215.7C614.43,-207.81 610.62,-198.3 607.12,-189.55\"/>\n",
       "<polygon fill=\"black\" stroke=\"black\" points=\"610.31,-188.09 603.34,-180.1 603.81,-190.69 610.31,-188.09\"/>\n",
       "</g>\n",
       "<!-- 34 -->\n",
       "<g id=\"node35\" class=\"node\">\n",
       "<title>34</title>\n",
       "<polygon fill=\"none\" stroke=\"white\" points=\"764.5,-180 664.5,-180 664.5,-144 764.5,-144 764.5,-180\"/>\n",
       "<text text-anchor=\"middle\" x=\"714.5\" y=\"-158.3\" font-family=\"'Fira Mono', 'Source Code Pro', 'Courier', monospace\" font-size=\"14.00\" fill=\"#0060a0\">&lt;plain&#45;text&gt;</text>\n",
       "</g>\n",
       "<!-- 30&#45;&gt;34 -->\n",
       "<g id=\"edge34\" class=\"edge\">\n",
       "<title>30&#45;&gt;34</title>\n",
       "<path fill=\"none\" stroke=\"black\" d=\"M646.75,-215.7C658.08,-206.88 672.03,-196.03 684.32,-186.47\"/>\n",
       "<polygon fill=\"black\" stroke=\"black\" points=\"686.76,-189.01 692.51,-180.1 682.47,-183.48 686.76,-189.01\"/>\n",
       "</g>\n",
       "<!-- 32 -->\n",
       "<g id=\"node33\" class=\"node\">\n",
       "<title>32</title>\n",
       "<polygon fill=\"none\" stroke=\"white\" points=\"630,-108 563,-108 563,-72 630,-72 630,-108\"/>\n",
       "<text text-anchor=\"middle\" x=\"596.5\" y=\"-86.3\" font-family=\"'Fira Mono', 'Source Code Pro', 'Courier', monospace\" font-size=\"14.00\" fill=\"#0060a0\">&lt;letter&gt;</text>\n",
       "</g>\n",
       "<!-- 31&#45;&gt;32 -->\n",
       "<g id=\"edge32\" class=\"edge\">\n",
       "<title>31&#45;&gt;32</title>\n",
       "<path fill=\"none\" stroke=\"black\" d=\"M596.5,-143.7C596.5,-135.98 596.5,-126.71 596.5,-118.11\"/>\n",
       "<polygon fill=\"black\" stroke=\"black\" points=\"600,-118.1 596.5,-108.1 593,-118.1 600,-118.1\"/>\n",
       "</g>\n",
       "<!-- 33 -->\n",
       "<g id=\"node34\" class=\"node\">\n",
       "<title>33</title>\n",
       "<polygon fill=\"none\" stroke=\"white\" points=\"623.5,-36 569.5,-36 569.5,0 623.5,0 623.5,-36\"/>\n",
       "<text text-anchor=\"middle\" x=\"596.5\" y=\"-14.3\" font-family=\"'Fira Mono', 'Source Code Pro', 'Courier', monospace\" font-size=\"14.00\" fill=\"#00a060\">r</text>\n",
       "</g>\n",
       "<!-- 32&#45;&gt;33 -->\n",
       "<g id=\"edge33\" class=\"edge\">\n",
       "<title>32&#45;&gt;33</title>\n",
       "<path fill=\"none\" stroke=\"black\" d=\"M596.5,-71.7C596.5,-63.98 596.5,-54.71 596.5,-46.11\"/>\n",
       "<polygon fill=\"black\" stroke=\"black\" points=\"600,-46.1 596.5,-36.1 593,-46.1 600,-46.1\"/>\n",
       "</g>\n",
       "<!-- 36 -->\n",
       "<g id=\"node37\" class=\"node\">\n",
       "<title>36</title>\n",
       "<polygon fill=\"none\" stroke=\"white\" points=\"711.5,-468 657.5,-468 657.5,-432 711.5,-432 711.5,-468\"/>\n",
       "<text text-anchor=\"middle\" x=\"684.5\" y=\"-446.3\" font-family=\"'Fira Mono', 'Source Code Pro', 'Courier', monospace\" font-size=\"14.00\" fill=\"#0060a0\">&lt;lt&gt;</text>\n",
       "</g>\n",
       "<!-- 35&#45;&gt;36 -->\n",
       "<g id=\"edge36\" class=\"edge\">\n",
       "<title>35&#45;&gt;36</title>\n",
       "<path fill=\"none\" stroke=\"black\" d=\"M738.7,-503.7C729.9,-495.14 719.12,-484.66 709.5,-475.3\"/>\n",
       "<polygon fill=\"black\" stroke=\"black\" points=\"711.7,-472.57 702.09,-468.1 706.82,-477.58 711.7,-472.57\"/>\n",
       "</g>\n",
       "<!-- 38 -->\n",
       "<g id=\"node39\" class=\"node\">\n",
       "<title>38</title>\n",
       "<polygon fill=\"none\" stroke=\"white\" points=\"783.5,-468 729.5,-468 729.5,-432 783.5,-432 783.5,-468\"/>\n",
       "<text text-anchor=\"middle\" x=\"756.5\" y=\"-446.3\" font-family=\"'Fira Mono', 'Source Code Pro', 'Courier', monospace\" font-size=\"14.00\" fill=\"#00a060\">/</text>\n",
       "</g>\n",
       "<!-- 35&#45;&gt;38 -->\n",
       "<g id=\"edge38\" class=\"edge\">\n",
       "<title>35&#45;&gt;38</title>\n",
       "<path fill=\"none\" stroke=\"black\" d=\"M756.5,-503.7C756.5,-495.98 756.5,-486.71 756.5,-478.11\"/>\n",
       "<polygon fill=\"black\" stroke=\"black\" points=\"760,-478.1 756.5,-468.1 753,-478.1 760,-478.1\"/>\n",
       "</g>\n",
       "<!-- 39 -->\n",
       "<g id=\"node40\" class=\"node\">\n",
       "<title>39</title>\n",
       "<polygon fill=\"none\" stroke=\"white\" points=\"855.5,-468 801.5,-468 801.5,-432 855.5,-432 855.5,-468\"/>\n",
       "<text text-anchor=\"middle\" x=\"828.5\" y=\"-446.3\" font-family=\"'Fira Mono', 'Source Code Pro', 'Courier', monospace\" font-size=\"14.00\" fill=\"#0060a0\">&lt;id&gt;</text>\n",
       "</g>\n",
       "<!-- 35&#45;&gt;39 -->\n",
       "<g id=\"edge39\" class=\"edge\">\n",
       "<title>35&#45;&gt;39</title>\n",
       "<path fill=\"none\" stroke=\"black\" d=\"M774.3,-503.7C783.1,-495.14 793.88,-484.66 803.5,-475.3\"/>\n",
       "<polygon fill=\"black\" stroke=\"black\" points=\"806.18,-477.58 810.91,-468.1 801.3,-472.57 806.18,-477.58\"/>\n",
       "</g>\n",
       "<!-- 48 -->\n",
       "<g id=\"node49\" class=\"node\">\n",
       "<title>48</title>\n",
       "<polygon fill=\"none\" stroke=\"white\" points=\"970.5,-468 916.5,-468 916.5,-432 970.5,-432 970.5,-468\"/>\n",
       "<text text-anchor=\"middle\" x=\"943.5\" y=\"-446.3\" font-family=\"'Fira Mono', 'Source Code Pro', 'Courier', monospace\" font-size=\"14.00\" fill=\"#0060a0\">&lt;gt&gt;</text>\n",
       "</g>\n",
       "<!-- 35&#45;&gt;48 -->\n",
       "<g id=\"edge48\" class=\"edge\">\n",
       "<title>35&#45;&gt;48</title>\n",
       "<path fill=\"none\" stroke=\"black\" d=\"M802.25,-503.88C834.4,-491.84 876.86,-475.95 906.8,-464.74\"/>\n",
       "<polygon fill=\"black\" stroke=\"black\" points=\"908.3,-467.91 916.44,-461.13 905.85,-461.36 908.3,-467.91\"/>\n",
       "</g>\n",
       "<!-- 37 -->\n",
       "<g id=\"node38\" class=\"node\">\n",
       "<title>37</title>\n",
       "<polygon fill=\"none\" stroke=\"white\" points=\"711.5,-396 657.5,-396 657.5,-360 711.5,-360 711.5,-396\"/>\n",
       "<text text-anchor=\"middle\" x=\"684.5\" y=\"-374.3\" font-family=\"'Fira Mono', 'Source Code Pro', 'Courier', monospace\" font-size=\"14.00\" fill=\"#0060a0\">&lt;</text>\n",
       "</g>\n",
       "<!-- 36&#45;&gt;37 -->\n",
       "<g id=\"edge37\" class=\"edge\">\n",
       "<title>36&#45;&gt;37</title>\n",
       "<path fill=\"none\" stroke=\"black\" d=\"M684.5,-431.7C684.5,-423.98 684.5,-414.71 684.5,-406.11\"/>\n",
       "<polygon fill=\"black\" stroke=\"black\" points=\"688,-406.1 684.5,-396.1 681,-406.1 688,-406.1\"/>\n",
       "</g>\n",
       "<!-- 40 -->\n",
       "<g id=\"node41\" class=\"node\">\n",
       "<title>40</title>\n",
       "<polygon fill=\"none\" stroke=\"white\" points=\"834.5,-396 780.5,-396 780.5,-360 834.5,-360 834.5,-396\"/>\n",
       "<text text-anchor=\"middle\" x=\"807.5\" y=\"-374.3\" font-family=\"'Fira Mono', 'Source Code Pro', 'Courier', monospace\" font-size=\"14.00\" fill=\"#0060a0\">&lt;id&gt;</text>\n",
       "</g>\n",
       "<!-- 39&#45;&gt;40 -->\n",
       "<g id=\"edge40\" class=\"edge\">\n",
       "<title>39&#45;&gt;40</title>\n",
       "<path fill=\"none\" stroke=\"black\" d=\"M823.31,-431.7C820.97,-423.9 818.15,-414.51 815.55,-405.83\"/>\n",
       "<polygon fill=\"black\" stroke=\"black\" points=\"818.86,-404.68 812.63,-396.1 812.15,-406.69 818.86,-404.68\"/>\n",
       "</g>\n",
       "<!-- 46 -->\n",
       "<g id=\"node47\" class=\"node\">\n",
       "<title>46</title>\n",
       "<polygon fill=\"none\" stroke=\"white\" points=\"920,-396 853,-396 853,-360 920,-360 920,-396\"/>\n",
       "<text text-anchor=\"middle\" x=\"886.5\" y=\"-374.3\" font-family=\"'Fira Mono', 'Source Code Pro', 'Courier', monospace\" font-size=\"14.00\" fill=\"#0060a0\">&lt;letter&gt;</text>\n",
       "</g>\n",
       "<!-- 39&#45;&gt;46 -->\n",
       "<g id=\"edge46\" class=\"edge\">\n",
       "<title>39&#45;&gt;46</title>\n",
       "<path fill=\"none\" stroke=\"black\" d=\"M842.84,-431.7C849.79,-423.3 858.27,-413.07 865.9,-403.86\"/>\n",
       "<polygon fill=\"black\" stroke=\"black\" points=\"868.64,-406.04 872.33,-396.1 863.25,-401.57 868.64,-406.04\"/>\n",
       "</g>\n",
       "<!-- 41 -->\n",
       "<g id=\"node42\" class=\"node\">\n",
       "<title>41</title>\n",
       "<polygon fill=\"none\" stroke=\"white\" points=\"795.5,-324 741.5,-324 741.5,-288 795.5,-288 795.5,-324\"/>\n",
       "<text text-anchor=\"middle\" x=\"768.5\" y=\"-302.3\" font-family=\"'Fira Mono', 'Source Code Pro', 'Courier', monospace\" font-size=\"14.00\" fill=\"#0060a0\">&lt;id&gt;</text>\n",
       "</g>\n",
       "<!-- 40&#45;&gt;41 -->\n",
       "<g id=\"edge41\" class=\"edge\">\n",
       "<title>40&#45;&gt;41</title>\n",
       "<path fill=\"none\" stroke=\"black\" d=\"M797.86,-359.7C793.37,-351.64 787.94,-341.89 782.98,-332.98\"/>\n",
       "<polygon fill=\"black\" stroke=\"black\" points=\"785.95,-331.14 778.03,-324.1 779.84,-334.54 785.95,-331.14\"/>\n",
       "</g>\n",
       "<!-- 44 -->\n",
       "<g id=\"node45\" class=\"node\">\n",
       "<title>44</title>\n",
       "<polygon fill=\"none\" stroke=\"white\" points=\"881,-324 814,-324 814,-288 881,-288 881,-324\"/>\n",
       "<text text-anchor=\"middle\" x=\"847.5\" y=\"-302.3\" font-family=\"'Fira Mono', 'Source Code Pro', 'Courier', monospace\" font-size=\"14.00\" fill=\"#0060a0\">&lt;letter&gt;</text>\n",
       "</g>\n",
       "<!-- 40&#45;&gt;44 -->\n",
       "<g id=\"edge44\" class=\"edge\">\n",
       "<title>40&#45;&gt;44</title>\n",
       "<path fill=\"none\" stroke=\"black\" d=\"M817.39,-359.7C821.99,-351.64 827.56,-341.89 832.65,-332.98\"/>\n",
       "<polygon fill=\"black\" stroke=\"black\" points=\"835.8,-334.52 837.73,-324.1 829.73,-331.05 835.8,-334.52\"/>\n",
       "</g>\n",
       "<!-- 42 -->\n",
       "<g id=\"node43\" class=\"node\">\n",
       "<title>42</title>\n",
       "<polygon fill=\"none\" stroke=\"white\" points=\"802,-252 735,-252 735,-216 802,-216 802,-252\"/>\n",
       "<text text-anchor=\"middle\" x=\"768.5\" y=\"-230.3\" font-family=\"'Fira Mono', 'Source Code Pro', 'Courier', monospace\" font-size=\"14.00\" fill=\"#0060a0\">&lt;letter&gt;</text>\n",
       "</g>\n",
       "<!-- 41&#45;&gt;42 -->\n",
       "<g id=\"edge42\" class=\"edge\">\n",
       "<title>41&#45;&gt;42</title>\n",
       "<path fill=\"none\" stroke=\"black\" d=\"M768.5,-287.7C768.5,-279.98 768.5,-270.71 768.5,-262.11\"/>\n",
       "<polygon fill=\"black\" stroke=\"black\" points=\"772,-262.1 768.5,-252.1 765,-262.1 772,-262.1\"/>\n",
       "</g>\n",
       "<!-- 43 -->\n",
       "<g id=\"node44\" class=\"node\">\n",
       "<title>43</title>\n",
       "<polygon fill=\"none\" stroke=\"white\" points=\"836.5,-180 782.5,-180 782.5,-144 836.5,-144 836.5,-180\"/>\n",
       "<text text-anchor=\"middle\" x=\"809.5\" y=\"-158.3\" font-family=\"'Fira Mono', 'Source Code Pro', 'Courier', monospace\" font-size=\"14.00\" fill=\"#00a060\">f</text>\n",
       "</g>\n",
       "<!-- 42&#45;&gt;43 -->\n",
       "<g id=\"edge43\" class=\"edge\">\n",
       "<title>42&#45;&gt;43</title>\n",
       "<path fill=\"none\" stroke=\"black\" d=\"M778.63,-215.7C783.35,-207.64 789.06,-197.89 794.28,-188.98\"/>\n",
       "<polygon fill=\"black\" stroke=\"black\" points=\"797.45,-190.5 799.48,-180.1 791.41,-186.96 797.45,-190.5\"/>\n",
       "</g>\n",
       "<!-- 45 -->\n",
       "<g id=\"node46\" class=\"node\">\n",
       "<title>45</title>\n",
       "<polygon fill=\"none\" stroke=\"white\" points=\"874.5,-252 820.5,-252 820.5,-216 874.5,-216 874.5,-252\"/>\n",
       "<text text-anchor=\"middle\" x=\"847.5\" y=\"-230.3\" font-family=\"'Fira Mono', 'Source Code Pro', 'Courier', monospace\" font-size=\"14.00\" fill=\"#00a060\">o</text>\n",
       "</g>\n",
       "<!-- 44&#45;&gt;45 -->\n",
       "<g id=\"edge45\" class=\"edge\">\n",
       "<title>44&#45;&gt;45</title>\n",
       "<path fill=\"none\" stroke=\"black\" d=\"M847.5,-287.7C847.5,-279.98 847.5,-270.71 847.5,-262.11\"/>\n",
       "<polygon fill=\"black\" stroke=\"black\" points=\"851,-262.1 847.5,-252.1 844,-262.1 851,-262.1\"/>\n",
       "</g>\n",
       "<!-- 47 -->\n",
       "<g id=\"node48\" class=\"node\">\n",
       "<title>47</title>\n",
       "<polygon fill=\"none\" stroke=\"white\" points=\"953.5,-324 899.5,-324 899.5,-288 953.5,-288 953.5,-324\"/>\n",
       "<text text-anchor=\"middle\" x=\"926.5\" y=\"-302.3\" font-family=\"'Fira Mono', 'Source Code Pro', 'Courier', monospace\" font-size=\"14.00\" fill=\"#00a060\">o</text>\n",
       "</g>\n",
       "<!-- 46&#45;&gt;47 -->\n",
       "<g id=\"edge47\" class=\"edge\">\n",
       "<title>46&#45;&gt;47</title>\n",
       "<path fill=\"none\" stroke=\"black\" d=\"M896.39,-359.7C900.99,-351.64 906.56,-341.89 911.65,-332.98\"/>\n",
       "<polygon fill=\"black\" stroke=\"black\" points=\"914.8,-334.52 916.73,-324.1 908.73,-331.05 914.8,-334.52\"/>\n",
       "</g>\n",
       "<!-- 49 -->\n",
       "<g id=\"node50\" class=\"node\">\n",
       "<title>49</title>\n",
       "<polygon fill=\"none\" stroke=\"white\" points=\"992.5,-396 938.5,-396 938.5,-360 992.5,-360 992.5,-396\"/>\n",
       "<text text-anchor=\"middle\" x=\"965.5\" y=\"-374.3\" font-family=\"'Fira Mono', 'Source Code Pro', 'Courier', monospace\" font-size=\"14.00\" fill=\"#00a060\">&gt;</text>\n",
       "</g>\n",
       "<!-- 48&#45;&gt;49 -->\n",
       "<g id=\"edge49\" class=\"edge\">\n",
       "<title>48&#45;&gt;49</title>\n",
       "<path fill=\"none\" stroke=\"black\" d=\"M948.94,-431.7C951.39,-423.9 954.34,-414.51 957.07,-405.83\"/>\n",
       "<polygon fill=\"black\" stroke=\"black\" points=\"960.46,-406.69 960.12,-396.1 953.79,-404.59 960.46,-406.69\"/>\n",
       "</g>\n",
       "</g>\n",
       "</svg>\n"
      ],
      "text/plain": [
       "<graphviz.graphs.Digraph at 0x105bea830>"
      ]
     },
     "execution_count": 37,
     "metadata": {},
     "output_type": "execute_result"
    }
   ],
   "source": [
    "display_tree(bad_input_tree)"
   ]
  },
  {
   "cell_type": "markdown",
   "metadata": {
    "slideshow": {
     "slide_type": "subslide"
    }
   },
   "source": [
    "This derivation tree has the same structure as the one created from our `GrammarFuzzer` above. We see how the `<tagged-text>` is composed of three elements:\n",
    "\n",
    "1. an`<opening-tag>` (`<foo>`);\n",
    "2. a `<html>` element which becomes `<plain-text>` (`\"bar`); and\n",
    "3. a `<closing-tag>` (`</foo>`)."
   ]
  },
  {
   "cell_type": "markdown",
   "metadata": {
    "slideshow": {
     "slide_type": "fragment"
    }
   },
   "source": [
    "We can easily turn the tree back into a string. The method `tree_to_string()` traverses the tree left-to-right and joins all nonterminal symbols."
   ]
  },
  {
   "cell_type": "code",
   "execution_count": 38,
   "metadata": {
    "execution": {
     "iopub.execute_input": "2022-08-06T23:06:43.762182Z",
     "iopub.status.busy": "2022-08-06T23:06:43.761898Z",
     "iopub.status.idle": "2022-08-06T23:06:43.763141Z",
     "shell.execute_reply": "2022-08-06T23:06:43.763376Z"
    },
    "slideshow": {
     "slide_type": "skip"
    }
   },
   "outputs": [],
   "source": [
    "from fuzzingbook.GrammarFuzzer import tree_to_string, all_terminals"
   ]
  },
  {
   "cell_type": "code",
   "execution_count": 39,
   "metadata": {
    "execution": {
     "iopub.execute_input": "2022-08-06T23:06:43.765600Z",
     "iopub.status.busy": "2022-08-06T23:06:43.765169Z",
     "iopub.status.idle": "2022-08-06T23:06:43.766853Z",
     "shell.execute_reply": "2022-08-06T23:06:43.767153Z"
    },
    "slideshow": {
     "slide_type": "fragment"
    }
   },
   "outputs": [
    {
     "data": {
      "text/plain": [
       "'<foo>\"bar</foo>'"
      ]
     },
     "execution_count": 39,
     "metadata": {},
     "output_type": "execute_result"
    }
   ],
   "source": [
    "tree_to_string(bad_input_tree)"
   ]
  },
  {
   "cell_type": "code",
   "execution_count": 40,
   "metadata": {
    "execution": {
     "iopub.execute_input": "2022-08-06T23:06:43.769212Z",
     "iopub.status.busy": "2022-08-06T23:06:43.768934Z",
     "iopub.status.idle": "2022-08-06T23:06:43.770000Z",
     "shell.execute_reply": "2022-08-06T23:06:43.770219Z"
    },
    "slideshow": {
     "slide_type": "fragment"
    }
   },
   "outputs": [],
   "source": [
    "assert tree_to_string(bad_input_tree) == BAD_INPUT"
   ]
  },
  {
   "cell_type": "markdown",
   "metadata": {
    "slideshow": {
     "slide_type": "subslide"
    }
   },
   "source": [
    "With this, we can now\n",
    "\n",
    "* parse an input into a tree structure;\n",
    "* (re-)create parts of the tree structure; and\n",
    "* turn the tree back into an input string."
   ]
  },
  {
   "cell_type": "markdown",
   "metadata": {
    "slideshow": {
     "slide_type": "slide"
    }
   },
   "source": [
    "## Mutating the Tree\n",
    "\n",
    "We introduce a class `TreeMutator` that is set to mutate a tree. Its constructor takes a grammar and a tree."
   ]
  },
  {
   "cell_type": "code",
   "execution_count": 41,
   "metadata": {
    "execution": {
     "iopub.execute_input": "2022-08-06T23:06:43.772173Z",
     "iopub.status.busy": "2022-08-06T23:06:43.771879Z",
     "iopub.status.idle": "2022-08-06T23:06:43.772978Z",
     "shell.execute_reply": "2022-08-06T23:06:43.773149Z"
    },
    "slideshow": {
     "slide_type": "skip"
    }
   },
   "outputs": [],
   "source": [
    "from fuzzingbook.Grammars import is_valid_grammar"
   ]
  },
  {
   "cell_type": "code",
   "execution_count": 42,
   "metadata": {
    "execution": {
     "iopub.execute_input": "2022-08-06T23:06:43.775678Z",
     "iopub.status.busy": "2022-08-06T23:06:43.775356Z",
     "iopub.status.idle": "2022-08-06T23:06:43.776683Z",
     "shell.execute_reply": "2022-08-06T23:06:43.776911Z"
    },
    "slideshow": {
     "slide_type": "subslide"
    }
   },
   "outputs": [],
   "source": [
    "class TreeMutator:\n",
    "    \"\"\"Grammar-based mutations of derivation trees.\"\"\"\n",
    "\n",
    "    def __init__(self, grammar: Grammar, tree: DerivationTree,\n",
    "                 fuzzer: Optional[GrammarFuzzer] = None, log: Union[bool, int] = False):\n",
    "        \"\"\"\n",
    "        Constructor. \n",
    "        `grammar` is the underlying grammar; \n",
    "        `tree` is the tree to work on.\n",
    "        `fuzzer` is the grammar fuzzer to use (default: `GrammarFuzzer`)\n",
    "        \"\"\"\n",
    "\n",
    "        assert is_valid_grammar(grammar)\n",
    "        self.grammar = grammar\n",
    "        self.tree = tree\n",
    "        self.log = log\n",
    "\n",
    "        if fuzzer is None:\n",
    "            fuzzer = GrammarFuzzer(grammar)\n",
    "\n",
    "        self.fuzzer = fuzzer"
   ]
  },
  {
   "cell_type": "markdown",
   "metadata": {
    "slideshow": {
     "slide_type": "subslide"
    }
   },
   "source": [
    "### Referencing Subtrees"
   ]
  },
  {
   "cell_type": "markdown",
   "metadata": {
    "slideshow": {
     "slide_type": "fragment"
    }
   },
   "source": [
    "To reference individual elements in the tree, we introduce the concept of a _path_. A path is a list of numbers indicating the children (starting with 0) we should follow. A path `[0, 0, 0, ..., 0]` stands for the leftmost child in a tree."
   ]
  },
  {
   "cell_type": "code",
   "execution_count": 43,
   "metadata": {
    "execution": {
     "iopub.execute_input": "2022-08-06T23:06:43.778697Z",
     "iopub.status.busy": "2022-08-06T23:06:43.778389Z",
     "iopub.status.idle": "2022-08-06T23:06:43.779752Z",
     "shell.execute_reply": "2022-08-06T23:06:43.780088Z"
    },
    "slideshow": {
     "slide_type": "fragment"
    }
   },
   "outputs": [],
   "source": [
    "TreePath = List[int]"
   ]
  },
  {
   "cell_type": "markdown",
   "metadata": {
    "slideshow": {
     "slide_type": "fragment"
    }
   },
   "source": [
    "The method `get_subtree()` returns the subtree for a given path."
   ]
  },
  {
   "cell_type": "code",
   "execution_count": 44,
   "metadata": {
    "execution": {
     "iopub.execute_input": "2022-08-06T23:06:43.783307Z",
     "iopub.status.busy": "2022-08-06T23:06:43.782913Z",
     "iopub.status.idle": "2022-08-06T23:06:43.784008Z",
     "shell.execute_reply": "2022-08-06T23:06:43.784190Z"
    },
    "slideshow": {
     "slide_type": "subslide"
    }
   },
   "outputs": [],
   "source": [
    "class TreeMutator(TreeMutator):\n",
    "    def get_subtree(self, path: TreePath, tree: Optional[DerivationTree] = None) -> DerivationTree:\n",
    "        \"\"\"Access a subtree based on `path` (a list of children numbers)\"\"\"\n",
    "        if tree is None:\n",
    "            tree = self.tree\n",
    "\n",
    "        symbol, children = tree\n",
    "\n",
    "        if not path or children is None:\n",
    "            return tree\n",
    "\n",
    "        return self.get_subtree(path[1:], children[path[0]])"
   ]
  },
  {
   "cell_type": "markdown",
   "metadata": {
    "slideshow": {
     "slide_type": "subslide"
    }
   },
   "source": [
    "Here's `get_subtree()` in action. We instantiate a `TreeMutator` on the `BAD_INPUT` tree as shown above and return the element at the path `[0, 0, 1, 0]` – i.e. follow the leftmost edge twice, than the second-to-leftmost edge, then the leftmost edge again. This gives us the `<plain-text>` subtree representing the string `\"bar`:"
   ]
  },
  {
   "cell_type": "code",
   "execution_count": 45,
   "metadata": {
    "execution": {
     "iopub.execute_input": "2022-08-06T23:06:43.786133Z",
     "iopub.status.busy": "2022-08-06T23:06:43.785806Z",
     "iopub.status.idle": "2022-08-06T23:06:43.786936Z",
     "shell.execute_reply": "2022-08-06T23:06:43.787196Z"
    },
    "slideshow": {
     "slide_type": "fragment"
    }
   },
   "outputs": [],
   "source": [
    "def bad_input_tree_mutator() -> TreeMutator:\n",
    "    return TreeMutator(SIMPLE_HTML_GRAMMAR, bad_input_tree, log=2)    "
   ]
  },
  {
   "cell_type": "code",
   "execution_count": 46,
   "metadata": {
    "execution": {
     "iopub.execute_input": "2022-08-06T23:06:43.789526Z",
     "iopub.status.busy": "2022-08-06T23:06:43.789220Z",
     "iopub.status.idle": "2022-08-06T23:06:43.790543Z",
     "shell.execute_reply": "2022-08-06T23:06:43.790782Z"
    },
    "slideshow": {
     "slide_type": "fragment"
    }
   },
   "outputs": [
    {
     "name": "stdout",
     "output_type": "stream",
     "text": [
      "('<plain-text>',\n",
      " [('<plain-char>', [('<other>', [('\"', [])])]),\n",
      "  ('<plain-text>',\n",
      "   [('<plain-char>', [('<letter>', [...])]),\n",
      "    ('<plain-text>', [('<plain-char>', [...]), ('<plain-text>', [...])])])])\n"
     ]
    }
   ],
   "source": [
    "plain_text_subtree = bad_input_tree_mutator().get_subtree([0, 0, 1, 0])\n",
    "pp.pprint(plain_text_subtree)"
   ]
  },
  {
   "cell_type": "code",
   "execution_count": 47,
   "metadata": {
    "execution": {
     "iopub.execute_input": "2022-08-06T23:06:43.792909Z",
     "iopub.status.busy": "2022-08-06T23:06:43.792560Z",
     "iopub.status.idle": "2022-08-06T23:06:43.794001Z",
     "shell.execute_reply": "2022-08-06T23:06:43.794237Z"
    },
    "slideshow": {
     "slide_type": "subslide"
    }
   },
   "outputs": [
    {
     "data": {
      "text/plain": [
       "'\"bar'"
      ]
     },
     "execution_count": 47,
     "metadata": {},
     "output_type": "execute_result"
    }
   ],
   "source": [
    "tree_to_string(plain_text_subtree)"
   ]
  },
  {
   "cell_type": "code",
   "execution_count": 48,
   "metadata": {
    "execution": {
     "iopub.execute_input": "2022-08-06T23:06:43.796617Z",
     "iopub.status.busy": "2022-08-06T23:06:43.796338Z",
     "iopub.status.idle": "2022-08-06T23:06:43.797549Z",
     "shell.execute_reply": "2022-08-06T23:06:43.797850Z"
    },
    "slideshow": {
     "slide_type": "subslide"
    }
   },
   "outputs": [],
   "source": [
    "# ignore\n",
    "def primes_generator() -> Generator[int, None, None]:\n",
    "    # Adapted from https://www.python.org/ftp/python/doc/nluug-paper.ps\n",
    "    primes = [2]\n",
    "    yield 2\n",
    "    i = 3\n",
    "    while True:\n",
    "        for p in primes:\n",
    "            if i % p == 0 or p * p > i:\n",
    "                break\n",
    "\n",
    "        if i % p != 0:\n",
    "            primes.append(i)\n",
    "            yield i\n",
    "\n",
    "        i += 2"
   ]
  },
  {
   "cell_type": "code",
   "execution_count": 49,
   "metadata": {
    "execution": {
     "iopub.execute_input": "2022-08-06T23:06:43.799578Z",
     "iopub.status.busy": "2022-08-06T23:06:43.799283Z",
     "iopub.status.idle": "2022-08-06T23:06:43.800553Z",
     "shell.execute_reply": "2022-08-06T23:06:43.800305Z"
    },
    "slideshow": {
     "slide_type": "subslide"
    }
   },
   "outputs": [],
   "source": [
    "# ignore\n",
    "prime_numbers = primes_generator()"
   ]
  },
  {
   "cell_type": "code",
   "execution_count": 50,
   "metadata": {
    "execution": {
     "iopub.execute_input": "2022-08-06T23:06:43.805834Z",
     "iopub.status.busy": "2022-08-06T23:06:43.805471Z",
     "iopub.status.idle": "2022-08-06T23:06:43.807058Z",
     "shell.execute_reply": "2022-08-06T23:06:43.807332Z"
    },
    "slideshow": {
     "slide_type": "fragment"
    }
   },
   "outputs": [
    {
     "data": {
      "text/html": [
       "\n",
       "    \n",
       "    <script>\n",
       "    var bad_answers = new Map();\n",
       "\n",
       "    function answer(quiz_id) {\n",
       "        ans = 0;\n",
       "        for (i = 1;; i++) {\n",
       "            checkbox = document.getElementById(quiz_id + \"-\" + i.toString());\n",
       "            if (!checkbox)\n",
       "                break;\n",
       "            if (checkbox.checked)\n",
       "                ans |= (1 << i);\n",
       "        }\n",
       "        return ans;\n",
       "    }\n",
       "    function check_selection(quiz_id, correct_answer, multiple_choice, hint) {\n",
       "        given_answer = answer(quiz_id);\n",
       "        if (given_answer == correct_answer)\n",
       "        {\n",
       "            document.getElementById(quiz_id + \"-submit\").value = \"Correct!\";\n",
       "            document.getElementById(quiz_id + \"-hint\").innerHTML = \"\";\n",
       "\n",
       "            for (i = 1;; i++) {\n",
       "                checkbox = document.getElementById(quiz_id + \"-\" + i.toString());\n",
       "                label = document.getElementById(quiz_id + \"-\" + i.toString() + \"-label\")\n",
       "                if (!checkbox)\n",
       "                    break;\n",
       "    \n",
       "                if (checkbox.checked) {\n",
       "                    label.style.fontWeight = \"bold\";\n",
       "                }\n",
       "                else {\n",
       "                    label.style.textDecoration = \"line-through\";\n",
       "                }\n",
       "            }\n",
       "        }\n",
       "        else \n",
       "        {\n",
       "            document.getElementById(quiz_id + \"-submit\").value = \"Try again\";\n",
       "            \n",
       "            if (!bad_answers.has(quiz_id)) {\n",
       "                bad_answers.set(quiz_id, 1);\n",
       "            }\n",
       "            else {\n",
       "                bad_answers.set(quiz_id, bad_answers.get(quiz_id) + 1);\n",
       "            }\n",
       "\n",
       "            if (bad_answers.get(quiz_id) >= 2 && hint.length > 0) {\n",
       "                document.getElementById(quiz_id + \"-hint\").innerHTML = \n",
       "                    \"&nbsp;&nbsp;(Hint: <code>\" + hint + \"</code>)\";\n",
       "            }\n",
       "\n",
       "            if (!multiple_choice) {\n",
       "                for (i = 1;; i++) {\n",
       "                    checkbox = document.getElementById(quiz_id + \"-\" + i.toString());\n",
       "                    label = document.getElementById(quiz_id + \"-\" + i.toString() + \"-label\")\n",
       "\n",
       "                    if (!checkbox)\n",
       "                        break;\n",
       "                    if (checkbox.checked) {\n",
       "                        label.style.textDecoration = \"line-through\";\n",
       "                    }\n",
       "                }\n",
       "            }\n",
       "        }\n",
       "    }\n",
       "    function clear_selection(quiz_id) {\n",
       "        document.getElementById(quiz_id + \"-submit\").value = \"Submit\";\n",
       "        document.getElementById(quiz_id + \"-hint\").innerHTML = \"\";\n",
       "    }\n",
       "    </script>\n",
       "    \n",
       "    <div class=\"quiz\">\n",
       "    <h3 class=\"quiz_title\">Quiz</h3>\n",
       "    <p>\n",
       "    <div class=\"quiz_question\">In <code>bad_input_tree</code>, what is  the subtree at the path <code>[0, 0, 2, 1]</code> as string?</div>\n",
       "    </p>\n",
       "    <p>\n",
       "    <div class=\"quiz_options\" title=\"Pick a choice.\">\n",
       "    \n",
       "        <input type=\"radio\" name=\"703782a4-15dc-11ed-97a2-6298cf1a578f\" id=\"703782a4-15dc-11ed-97a2-6298cf1a578f-1\" onclick=\"clear_selection('703782a4-15dc-11ed-97a2-6298cf1a578f')\">\n",
       "        <label id=\"703782a4-15dc-11ed-97a2-6298cf1a578f-1-label\" for=\"703782a4-15dc-11ed-97a2-6298cf1a578f-1\"><code>&lt;</code></label><br>\n",
       "    \n",
       "        <input type=\"radio\" name=\"703782a4-15dc-11ed-97a2-6298cf1a578f\" id=\"703782a4-15dc-11ed-97a2-6298cf1a578f-2\" onclick=\"clear_selection('703782a4-15dc-11ed-97a2-6298cf1a578f')\">\n",
       "        <label id=\"703782a4-15dc-11ed-97a2-6298cf1a578f-2-label\" for=\"703782a4-15dc-11ed-97a2-6298cf1a578f-2\"><code>/</code></label><br>\n",
       "    \n",
       "        <input type=\"radio\" name=\"703782a4-15dc-11ed-97a2-6298cf1a578f\" id=\"703782a4-15dc-11ed-97a2-6298cf1a578f-3\" onclick=\"clear_selection('703782a4-15dc-11ed-97a2-6298cf1a578f')\">\n",
       "        <label id=\"703782a4-15dc-11ed-97a2-6298cf1a578f-3-label\" for=\"703782a4-15dc-11ed-97a2-6298cf1a578f-3\"><code>&lt;/foo&gt;</code></label><br>\n",
       "    \n",
       "        <input type=\"radio\" name=\"703782a4-15dc-11ed-97a2-6298cf1a578f\" id=\"703782a4-15dc-11ed-97a2-6298cf1a578f-4\" onclick=\"clear_selection('703782a4-15dc-11ed-97a2-6298cf1a578f')\">\n",
       "        <label id=\"703782a4-15dc-11ed-97a2-6298cf1a578f-4-label\" for=\"703782a4-15dc-11ed-97a2-6298cf1a578f-4\"><code>&lt;foo&gt;</code></label><br>\n",
       "    \n",
       "    </div>\n",
       "    </p>\n",
       "    <input id=\"703782a4-15dc-11ed-97a2-6298cf1a578f-submit\" type=\"submit\" value=\"Submit\" onclick=\"check_selection('703782a4-15dc-11ed-97a2-6298cf1a578f', 4, 0, 'next(prime_numbers)')\">\n",
       "    <span class=\"quiz_hint\" id=\"703782a4-15dc-11ed-97a2-6298cf1a578f-hint\"></span>\n",
       "    </div>\n",
       "    "
      ],
      "text/plain": [
       "<IPython.core.display.HTML object>"
      ]
     },
     "execution_count": 50,
     "metadata": {},
     "output_type": "execute_result"
    }
   ],
   "source": [
    "quiz(\"In `bad_input_tree`, what is \"\n",
    "     \" the subtree at the path `[0, 0, 2, 1]` as string?\", \n",
    "    [\n",
    "        f\"`{tree_to_string(bad_input_tree_mutator().get_subtree([0, 0, 2, 0]))}`\",\n",
    "        f\"`{tree_to_string(bad_input_tree_mutator().get_subtree([0, 0, 2, 1]))}`\",\n",
    "        f\"`{tree_to_string(bad_input_tree_mutator().get_subtree([0, 0, 2]))}`\",\n",
    "        f\"`{tree_to_string(bad_input_tree_mutator().get_subtree([0, 0, 0]))}`\",\n",
    "    ], 'next(prime_numbers)', globals()\n",
    "    )"
   ]
  },
  {
   "cell_type": "markdown",
   "metadata": {
    "slideshow": {
     "slide_type": "subslide"
    }
   },
   "source": [
    "### Creating new Subtrees\n",
    "\n",
    "The method `new_tree()` creates a new subtree for the given `<start_symbol>` according to the rules of the grammar. It invokes `expand_tree()` on the given `GrammarFuzzer` – a method that takes an initial (empty) tree and expands it until no more expansions are left."
   ]
  },
  {
   "cell_type": "code",
   "execution_count": 51,
   "metadata": {
    "execution": {
     "iopub.execute_input": "2022-08-06T23:06:43.809590Z",
     "iopub.status.busy": "2022-08-06T23:06:43.809251Z",
     "iopub.status.idle": "2022-08-06T23:06:43.810540Z",
     "shell.execute_reply": "2022-08-06T23:06:43.810702Z"
    },
    "slideshow": {
     "slide_type": "subslide"
    }
   },
   "outputs": [],
   "source": [
    "class TreeMutator(TreeMutator):\n",
    "    def new_tree(self, start_symbol: str) -> DerivationTree:\n",
    "        \"\"\"Create a new subtree for <start_symbol>.\"\"\"\n",
    "\n",
    "        if self.log >= 2:\n",
    "            print(f\"Creating new tree for {start_symbol}\")\n",
    "\n",
    "        tree = (start_symbol, None)\n",
    "        return self.fuzzer.expand_tree(tree)"
   ]
  },
  {
   "cell_type": "markdown",
   "metadata": {
    "slideshow": {
     "slide_type": "fragment"
    }
   },
   "source": [
    "Here is an example of `new_tree()`:"
   ]
  },
  {
   "cell_type": "code",
   "execution_count": 52,
   "metadata": {
    "execution": {
     "iopub.execute_input": "2022-08-06T23:06:43.816171Z",
     "iopub.status.busy": "2022-08-06T23:06:43.815720Z",
     "iopub.status.idle": "2022-08-06T23:06:44.109300Z",
     "shell.execute_reply": "2022-08-06T23:06:44.109597Z"
    },
    "slideshow": {
     "slide_type": "fragment"
    }
   },
   "outputs": [
    {
     "name": "stdout",
     "output_type": "stream",
     "text": [
      "Creating new tree for <plain-text>\n"
     ]
    },
    {
     "data": {
      "image/svg+xml": [
       "<?xml version=\"1.0\" encoding=\"UTF-8\" standalone=\"no\"?>\n",
       "<!DOCTYPE svg PUBLIC \"-//W3C//DTD SVG 1.1//EN\"\n",
       " \"http://www.w3.org/Graphics/SVG/1.1/DTD/svg11.dtd\">\n",
       "<!-- Generated by graphviz version 5.0.0 (20220707.1540)\n",
       " -->\n",
       "<!-- Pages: 1 -->\n",
       "<svg width=\"108pt\" height=\"116pt\"\n",
       " viewBox=\"0.00 0.00 108.00 116.00\" xmlns=\"http://www.w3.org/2000/svg\" xmlns:xlink=\"http://www.w3.org/1999/xlink\">\n",
       "<g id=\"graph0\" class=\"graph\" transform=\"scale(1 1) rotate(0) translate(4 112)\">\n",
       "<polygon fill=\"white\" stroke=\"transparent\" points=\"-4,4 -4,-112 104,-112 104,4 -4,4\"/>\n",
       "<!-- 0 -->\n",
       "<g id=\"node1\" class=\"node\">\n",
       "<title>0</title>\n",
       "<polygon fill=\"none\" stroke=\"white\" points=\"100,-108 0,-108 0,-72 100,-72 100,-108\"/>\n",
       "<text text-anchor=\"middle\" x=\"50\" y=\"-86.3\" font-family=\"'Fira Mono', 'Source Code Pro', 'Courier', monospace\" font-size=\"14.00\" fill=\"#0060a0\">&lt;plain&#45;text&gt;</text>\n",
       "</g>\n",
       "<!-- 1 -->\n",
       "<g id=\"node2\" class=\"node\">\n",
       "<title>1</title>\n",
       "<polygon fill=\"none\" stroke=\"white\" points=\"77,-36 23,-36 23,0 77,0 77,-36\"/>\n",
       "</g>\n",
       "<!-- 0&#45;&gt;1 -->\n",
       "<g id=\"edge1\" class=\"edge\">\n",
       "<title>0&#45;&gt;1</title>\n",
       "<path fill=\"none\" stroke=\"black\" d=\"M50,-71.7C50,-63.98 50,-54.71 50,-46.11\"/>\n",
       "<polygon fill=\"black\" stroke=\"black\" points=\"53.5,-46.1 50,-36.1 46.5,-46.1 53.5,-46.1\"/>\n",
       "</g>\n",
       "</g>\n",
       "</svg>\n"
      ],
      "text/plain": [
       "<graphviz.graphs.Digraph at 0x105bebb50>"
      ]
     },
     "execution_count": 52,
     "metadata": {},
     "output_type": "execute_result"
    }
   ],
   "source": [
    "plain_text_tree = cast(TreeMutator, bad_input_tree_mutator()).new_tree('<plain-text>')\n",
    "display_tree(plain_text_tree)"
   ]
  },
  {
   "cell_type": "code",
   "execution_count": 53,
   "metadata": {
    "execution": {
     "iopub.execute_input": "2022-08-06T23:06:44.112118Z",
     "iopub.status.busy": "2022-08-06T23:06:44.111778Z",
     "iopub.status.idle": "2022-08-06T23:06:44.113370Z",
     "shell.execute_reply": "2022-08-06T23:06:44.113691Z"
    },
    "slideshow": {
     "slide_type": "subslide"
    }
   },
   "outputs": [
    {
     "data": {
      "text/plain": [
       "''"
      ]
     },
     "execution_count": 53,
     "metadata": {},
     "output_type": "execute_result"
    }
   ],
   "source": [
    "tree_to_string(plain_text_tree)"
   ]
  },
  {
   "cell_type": "markdown",
   "metadata": {
    "slideshow": {
     "slide_type": "subslide"
    }
   },
   "source": [
    "### Mutating the Tree\n",
    "\n",
    "With us now being able to \n",
    "* access a particular path in the tree (`get_subtree()`) and\n",
    "* create a new subtree (`new_tree()`),\n",
    "\n",
    "we can mutate the tree at a given path. This is the task of `mutate()`."
   ]
  },
  {
   "cell_type": "code",
   "execution_count": 54,
   "metadata": {
    "execution": {
     "iopub.execute_input": "2022-08-06T23:06:44.116641Z",
     "iopub.status.busy": "2022-08-06T23:06:44.116291Z",
     "iopub.status.idle": "2022-08-06T23:06:44.117531Z",
     "shell.execute_reply": "2022-08-06T23:06:44.117785Z"
    },
    "slideshow": {
     "slide_type": "subslide"
    }
   },
   "outputs": [],
   "source": [
    "class TreeMutator(TreeMutator):\n",
    "    def mutate(self, path: TreePath, tree: Optional[DerivationTree] = None) -> DerivationTree:\n",
    "        \"\"\"Return a new tree mutated at `path`\"\"\"\n",
    "        if tree is None:\n",
    "            tree = self.tree\n",
    "        assert tree is not None\n",
    "\n",
    "        symbol, children = tree\n",
    "\n",
    "        if not path or children is None:\n",
    "            return self.new_tree(symbol)\n",
    "\n",
    "        head = path[0]\n",
    "        new_children = (children[:head] +\n",
    "                        [self.mutate(path[1:], children[head])] +\n",
    "                        children[head + 1:])\n",
    "        return symbol, new_children"
   ]
  },
  {
   "cell_type": "markdown",
   "metadata": {
    "slideshow": {
     "slide_type": "subslide"
    }
   },
   "source": [
    "Here is an example of `mutate()` in action. We mutate `bad_input_tree` at the path `[0, 0, 1, 0]` – that is, `<plain-text>`:"
   ]
  },
  {
   "cell_type": "code",
   "execution_count": 55,
   "metadata": {
    "execution": {
     "iopub.execute_input": "2022-08-06T23:06:44.119517Z",
     "iopub.status.busy": "2022-08-06T23:06:44.119070Z",
     "iopub.status.idle": "2022-08-06T23:06:44.440850Z",
     "shell.execute_reply": "2022-08-06T23:06:44.441086Z"
    },
    "slideshow": {
     "slide_type": "fragment"
    }
   },
   "outputs": [
    {
     "name": "stdout",
     "output_type": "stream",
     "text": [
      "Creating new tree for <plain-text>\n"
     ]
    },
    {
     "data": {
      "image/svg+xml": [
       "<?xml version=\"1.0\" encoding=\"UTF-8\" standalone=\"no\"?>\n",
       "<!DOCTYPE svg PUBLIC \"-//W3C//DTD SVG 1.1//EN\"\n",
       " \"http://www.w3.org/Graphics/SVG/1.1/DTD/svg11.dtd\">\n",
       "<!-- Generated by graphviz version 5.0.0 (20220707.1540)\n",
       " -->\n",
       "<!-- Pages: 1 -->\n",
       "<svg width=\"844pt\" height=\"620pt\"\n",
       " viewBox=\"0.00 0.00 843.50 620.00\" xmlns=\"http://www.w3.org/2000/svg\" xmlns:xlink=\"http://www.w3.org/1999/xlink\">\n",
       "<g id=\"graph0\" class=\"graph\" transform=\"scale(1 1) rotate(0) translate(4 616)\">\n",
       "<polygon fill=\"white\" stroke=\"transparent\" points=\"-4,4 -4,-616 839.5,-616 839.5,4 -4,4\"/>\n",
       "<!-- 0 -->\n",
       "<g id=\"node1\" class=\"node\">\n",
       "<title>0</title>\n",
       "<polygon fill=\"none\" stroke=\"white\" points=\"413.5,-612 355.5,-612 355.5,-576 413.5,-576 413.5,-612\"/>\n",
       "<text text-anchor=\"middle\" x=\"384.5\" y=\"-590.3\" font-family=\"'Fira Mono', 'Source Code Pro', 'Courier', monospace\" font-size=\"14.00\" fill=\"#0060a0\">&lt;start&gt;</text>\n",
       "</g>\n",
       "<!-- 1 -->\n",
       "<g id=\"node2\" class=\"node\">\n",
       "<title>1</title>\n",
       "<polygon fill=\"none\" stroke=\"white\" points=\"411.5,-540 357.5,-540 357.5,-504 411.5,-504 411.5,-540\"/>\n",
       "<text text-anchor=\"middle\" x=\"384.5\" y=\"-518.3\" font-family=\"'Fira Mono', 'Source Code Pro', 'Courier', monospace\" font-size=\"14.00\" fill=\"#0060a0\">&lt;html&gt;</text>\n",
       "</g>\n",
       "<!-- 0&#45;&gt;1 -->\n",
       "<g id=\"edge1\" class=\"edge\">\n",
       "<title>0&#45;&gt;1</title>\n",
       "<path fill=\"none\" stroke=\"black\" d=\"M384.5,-575.7C384.5,-567.98 384.5,-558.71 384.5,-550.11\"/>\n",
       "<polygon fill=\"black\" stroke=\"black\" points=\"388,-550.1 384.5,-540.1 381,-550.1 388,-550.1\"/>\n",
       "</g>\n",
       "<!-- 2 -->\n",
       "<g id=\"node3\" class=\"node\">\n",
       "<title>2</title>\n",
       "<polygon fill=\"none\" stroke=\"white\" points=\"438.5,-468 330.5,-468 330.5,-432 438.5,-432 438.5,-468\"/>\n",
       "<text text-anchor=\"middle\" x=\"384.5\" y=\"-446.3\" font-family=\"'Fira Mono', 'Source Code Pro', 'Courier', monospace\" font-size=\"14.00\" fill=\"#0060a0\">&lt;tagged&#45;text&gt;</text>\n",
       "</g>\n",
       "<!-- 1&#45;&gt;2 -->\n",
       "<g id=\"edge2\" class=\"edge\">\n",
       "<title>1&#45;&gt;2</title>\n",
       "<path fill=\"none\" stroke=\"black\" d=\"M384.5,-503.7C384.5,-495.98 384.5,-486.71 384.5,-478.11\"/>\n",
       "<polygon fill=\"black\" stroke=\"black\" points=\"388,-478.1 384.5,-468.1 381,-478.1 388,-478.1\"/>\n",
       "</g>\n",
       "<!-- 3 -->\n",
       "<g id=\"node4\" class=\"node\">\n",
       "<title>3</title>\n",
       "<polygon fill=\"none\" stroke=\"white\" points=\"302.5,-396 194.5,-396 194.5,-360 302.5,-360 302.5,-396\"/>\n",
       "<text text-anchor=\"middle\" x=\"248.5\" y=\"-374.3\" font-family=\"'Fira Mono', 'Source Code Pro', 'Courier', monospace\" font-size=\"14.00\" fill=\"#0060a0\">&lt;opening&#45;tag&gt;</text>\n",
       "</g>\n",
       "<!-- 2&#45;&gt;3 -->\n",
       "<g id=\"edge3\" class=\"edge\">\n",
       "<title>2&#45;&gt;3</title>\n",
       "<path fill=\"none\" stroke=\"black\" d=\"M351.23,-431.88C333.04,-422.51 310.31,-410.81 290.86,-400.8\"/>\n",
       "<polygon fill=\"black\" stroke=\"black\" points=\"292.39,-397.65 281.9,-396.19 289.19,-403.88 292.39,-397.65\"/>\n",
       "</g>\n",
       "<!-- 17 -->\n",
       "<g id=\"node18\" class=\"node\">\n",
       "<title>17</title>\n",
       "<polygon fill=\"none\" stroke=\"white\" points=\"411.5,-396 357.5,-396 357.5,-360 411.5,-360 411.5,-396\"/>\n",
       "<text text-anchor=\"middle\" x=\"384.5\" y=\"-374.3\" font-family=\"'Fira Mono', 'Source Code Pro', 'Courier', monospace\" font-size=\"14.00\" fill=\"#0060a0\">&lt;html&gt;</text>\n",
       "</g>\n",
       "<!-- 2&#45;&gt;17 -->\n",
       "<g id=\"edge17\" class=\"edge\">\n",
       "<title>2&#45;&gt;17</title>\n",
       "<path fill=\"none\" stroke=\"black\" d=\"M384.5,-431.7C384.5,-423.98 384.5,-414.71 384.5,-406.11\"/>\n",
       "<polygon fill=\"black\" stroke=\"black\" points=\"388,-406.1 384.5,-396.1 381,-406.1 388,-406.1\"/>\n",
       "</g>\n",
       "<!-- 24 -->\n",
       "<g id=\"node25\" class=\"node\">\n",
       "<title>24</title>\n",
       "<polygon fill=\"none\" stroke=\"white\" points=\"704.5,-396 596.5,-396 596.5,-360 704.5,-360 704.5,-396\"/>\n",
       "<text text-anchor=\"middle\" x=\"650.5\" y=\"-374.3\" font-family=\"'Fira Mono', 'Source Code Pro', 'Courier', monospace\" font-size=\"14.00\" fill=\"#0060a0\">&lt;closing&#45;tag&gt;</text>\n",
       "</g>\n",
       "<!-- 2&#45;&gt;24 -->\n",
       "<g id=\"edge24\" class=\"edge\">\n",
       "<title>2&#45;&gt;24</title>\n",
       "<path fill=\"none\" stroke=\"black\" d=\"M438.65,-434.75C481.53,-423.47 541.52,-407.68 586.73,-395.78\"/>\n",
       "<polygon fill=\"black\" stroke=\"black\" points=\"587.65,-399.16 596.43,-393.23 585.86,-392.39 587.65,-399.16\"/>\n",
       "</g>\n",
       "<!-- 4 -->\n",
       "<g id=\"node5\" class=\"node\">\n",
       "<title>4</title>\n",
       "<polygon fill=\"none\" stroke=\"white\" points=\"107.5,-324 53.5,-324 53.5,-288 107.5,-288 107.5,-324\"/>\n",
       "<text text-anchor=\"middle\" x=\"80.5\" y=\"-302.3\" font-family=\"'Fira Mono', 'Source Code Pro', 'Courier', monospace\" font-size=\"14.00\" fill=\"#0060a0\">&lt;lt&gt;</text>\n",
       "</g>\n",
       "<!-- 3&#45;&gt;4 -->\n",
       "<g id=\"edge4\" class=\"edge\">\n",
       "<title>3&#45;&gt;4</title>\n",
       "<path fill=\"none\" stroke=\"black\" d=\"M207.4,-359.88C179.72,-348.34 143.53,-333.26 116.89,-322.16\"/>\n",
       "<polygon fill=\"black\" stroke=\"black\" points=\"118.12,-318.88 107.54,-318.27 115.42,-325.34 118.12,-318.88\"/>\n",
       "</g>\n",
       "<!-- 6 -->\n",
       "<g id=\"node7\" class=\"node\">\n",
       "<title>6</title>\n",
       "<polygon fill=\"none\" stroke=\"white\" points=\"218.5,-324 164.5,-324 164.5,-288 218.5,-288 218.5,-324\"/>\n",
       "<text text-anchor=\"middle\" x=\"191.5\" y=\"-302.3\" font-family=\"'Fira Mono', 'Source Code Pro', 'Courier', monospace\" font-size=\"14.00\" fill=\"#0060a0\">&lt;id&gt;</text>\n",
       "</g>\n",
       "<!-- 3&#45;&gt;6 -->\n",
       "<g id=\"edge6\" class=\"edge\">\n",
       "<title>3&#45;&gt;6</title>\n",
       "<path fill=\"none\" stroke=\"black\" d=\"M234.41,-359.7C227.58,-351.3 219.24,-341.07 211.74,-331.86\"/>\n",
       "<polygon fill=\"black\" stroke=\"black\" points=\"214.46,-329.65 205.43,-324.1 209.03,-334.07 214.46,-329.65\"/>\n",
       "</g>\n",
       "<!-- 15 -->\n",
       "<g id=\"node16\" class=\"node\">\n",
       "<title>15</title>\n",
       "<polygon fill=\"none\" stroke=\"white\" points=\"294.5,-324 240.5,-324 240.5,-288 294.5,-288 294.5,-324\"/>\n",
       "<text text-anchor=\"middle\" x=\"267.5\" y=\"-302.3\" font-family=\"'Fira Mono', 'Source Code Pro', 'Courier', monospace\" font-size=\"14.00\" fill=\"#0060a0\">&lt;gt&gt;</text>\n",
       "</g>\n",
       "<!-- 3&#45;&gt;15 -->\n",
       "<g id=\"edge15\" class=\"edge\">\n",
       "<title>3&#45;&gt;15</title>\n",
       "<path fill=\"none\" stroke=\"black\" d=\"M253.2,-359.7C255.31,-351.9 257.86,-342.51 260.22,-333.83\"/>\n",
       "<polygon fill=\"black\" stroke=\"black\" points=\"263.62,-334.67 262.86,-324.1 256.86,-332.84 263.62,-334.67\"/>\n",
       "</g>\n",
       "<!-- 5 -->\n",
       "<g id=\"node6\" class=\"node\">\n",
       "<title>5</title>\n",
       "<polygon fill=\"none\" stroke=\"white\" points=\"67.5,-252 13.5,-252 13.5,-216 67.5,-216 67.5,-252\"/>\n",
       "<text text-anchor=\"middle\" x=\"40.5\" y=\"-230.3\" font-family=\"'Fira Mono', 'Source Code Pro', 'Courier', monospace\" font-size=\"14.00\" fill=\"#0060a0\">&lt;</text>\n",
       "</g>\n",
       "<!-- 4&#45;&gt;5 -->\n",
       "<g id=\"edge5\" class=\"edge\">\n",
       "<title>4&#45;&gt;5</title>\n",
       "<path fill=\"none\" stroke=\"black\" d=\"M70.61,-287.7C66.01,-279.64 60.44,-269.89 55.35,-260.98\"/>\n",
       "<polygon fill=\"black\" stroke=\"black\" points=\"58.27,-259.05 50.27,-252.1 52.2,-262.52 58.27,-259.05\"/>\n",
       "</g>\n",
       "<!-- 7 -->\n",
       "<g id=\"node8\" class=\"node\">\n",
       "<title>7</title>\n",
       "<polygon fill=\"none\" stroke=\"white\" points=\"139.5,-252 85.5,-252 85.5,-216 139.5,-216 139.5,-252\"/>\n",
       "<text text-anchor=\"middle\" x=\"112.5\" y=\"-230.3\" font-family=\"'Fira Mono', 'Source Code Pro', 'Courier', monospace\" font-size=\"14.00\" fill=\"#0060a0\">&lt;id&gt;</text>\n",
       "</g>\n",
       "<!-- 6&#45;&gt;7 -->\n",
       "<g id=\"edge7\" class=\"edge\">\n",
       "<title>6&#45;&gt;7</title>\n",
       "<path fill=\"none\" stroke=\"black\" d=\"M171.97,-287.7C162.12,-278.97 150.01,-268.24 139.3,-258.75\"/>\n",
       "<polygon fill=\"black\" stroke=\"black\" points=\"141.61,-256.12 131.8,-252.1 136.97,-261.36 141.61,-256.12\"/>\n",
       "</g>\n",
       "<!-- 13 -->\n",
       "<g id=\"node14\" class=\"node\">\n",
       "<title>13</title>\n",
       "<polygon fill=\"none\" stroke=\"white\" points=\"225,-252 158,-252 158,-216 225,-216 225,-252\"/>\n",
       "<text text-anchor=\"middle\" x=\"191.5\" y=\"-230.3\" font-family=\"'Fira Mono', 'Source Code Pro', 'Courier', monospace\" font-size=\"14.00\" fill=\"#0060a0\">&lt;letter&gt;</text>\n",
       "</g>\n",
       "<!-- 6&#45;&gt;13 -->\n",
       "<g id=\"edge13\" class=\"edge\">\n",
       "<title>6&#45;&gt;13</title>\n",
       "<path fill=\"none\" stroke=\"black\" d=\"M191.5,-287.7C191.5,-279.98 191.5,-270.71 191.5,-262.11\"/>\n",
       "<polygon fill=\"black\" stroke=\"black\" points=\"195,-262.1 191.5,-252.1 188,-262.1 195,-262.1\"/>\n",
       "</g>\n",
       "<!-- 8 -->\n",
       "<g id=\"node9\" class=\"node\">\n",
       "<title>8</title>\n",
       "<polygon fill=\"none\" stroke=\"white\" points=\"60.5,-180 6.5,-180 6.5,-144 60.5,-144 60.5,-180\"/>\n",
       "<text text-anchor=\"middle\" x=\"33.5\" y=\"-158.3\" font-family=\"'Fira Mono', 'Source Code Pro', 'Courier', monospace\" font-size=\"14.00\" fill=\"#0060a0\">&lt;id&gt;</text>\n",
       "</g>\n",
       "<!-- 7&#45;&gt;8 -->\n",
       "<g id=\"edge8\" class=\"edge\">\n",
       "<title>7&#45;&gt;8</title>\n",
       "<path fill=\"none\" stroke=\"black\" d=\"M92.97,-215.7C83.12,-206.97 71.01,-196.24 60.3,-186.75\"/>\n",
       "<polygon fill=\"black\" stroke=\"black\" points=\"62.61,-184.12 52.8,-180.1 57.97,-189.36 62.61,-184.12\"/>\n",
       "</g>\n",
       "<!-- 11 -->\n",
       "<g id=\"node12\" class=\"node\">\n",
       "<title>11</title>\n",
       "<polygon fill=\"none\" stroke=\"white\" points=\"146,-180 79,-180 79,-144 146,-144 146,-180\"/>\n",
       "<text text-anchor=\"middle\" x=\"112.5\" y=\"-158.3\" font-family=\"'Fira Mono', 'Source Code Pro', 'Courier', monospace\" font-size=\"14.00\" fill=\"#0060a0\">&lt;letter&gt;</text>\n",
       "</g>\n",
       "<!-- 7&#45;&gt;11 -->\n",
       "<g id=\"edge11\" class=\"edge\">\n",
       "<title>7&#45;&gt;11</title>\n",
       "<path fill=\"none\" stroke=\"black\" d=\"M112.5,-215.7C112.5,-207.98 112.5,-198.71 112.5,-190.11\"/>\n",
       "<polygon fill=\"black\" stroke=\"black\" points=\"116,-190.1 112.5,-180.1 109,-190.1 116,-190.1\"/>\n",
       "</g>\n",
       "<!-- 9 -->\n",
       "<g id=\"node10\" class=\"node\">\n",
       "<title>9</title>\n",
       "<polygon fill=\"none\" stroke=\"white\" points=\"67,-108 0,-108 0,-72 67,-72 67,-108\"/>\n",
       "<text text-anchor=\"middle\" x=\"33.5\" y=\"-86.3\" font-family=\"'Fira Mono', 'Source Code Pro', 'Courier', monospace\" font-size=\"14.00\" fill=\"#0060a0\">&lt;letter&gt;</text>\n",
       "</g>\n",
       "<!-- 8&#45;&gt;9 -->\n",
       "<g id=\"edge9\" class=\"edge\">\n",
       "<title>8&#45;&gt;9</title>\n",
       "<path fill=\"none\" stroke=\"black\" d=\"M33.5,-143.7C33.5,-135.98 33.5,-126.71 33.5,-118.11\"/>\n",
       "<polygon fill=\"black\" stroke=\"black\" points=\"37,-118.1 33.5,-108.1 30,-118.1 37,-118.1\"/>\n",
       "</g>\n",
       "<!-- 10 -->\n",
       "<g id=\"node11\" class=\"node\">\n",
       "<title>10</title>\n",
       "<polygon fill=\"none\" stroke=\"white\" points=\"60.5,-36 6.5,-36 6.5,0 60.5,0 60.5,-36\"/>\n",
       "<text text-anchor=\"middle\" x=\"33.5\" y=\"-14.3\" font-family=\"'Fira Mono', 'Source Code Pro', 'Courier', monospace\" font-size=\"14.00\" fill=\"#00a060\">f</text>\n",
       "</g>\n",
       "<!-- 9&#45;&gt;10 -->\n",
       "<g id=\"edge10\" class=\"edge\">\n",
       "<title>9&#45;&gt;10</title>\n",
       "<path fill=\"none\" stroke=\"black\" d=\"M33.5,-71.7C33.5,-63.98 33.5,-54.71 33.5,-46.11\"/>\n",
       "<polygon fill=\"black\" stroke=\"black\" points=\"37,-46.1 33.5,-36.1 30,-46.1 37,-46.1\"/>\n",
       "</g>\n",
       "<!-- 12 -->\n",
       "<g id=\"node13\" class=\"node\">\n",
       "<title>12</title>\n",
       "<polygon fill=\"none\" stroke=\"white\" points=\"139.5,-108 85.5,-108 85.5,-72 139.5,-72 139.5,-108\"/>\n",
       "<text text-anchor=\"middle\" x=\"112.5\" y=\"-86.3\" font-family=\"'Fira Mono', 'Source Code Pro', 'Courier', monospace\" font-size=\"14.00\" fill=\"#00a060\">o</text>\n",
       "</g>\n",
       "<!-- 11&#45;&gt;12 -->\n",
       "<g id=\"edge12\" class=\"edge\">\n",
       "<title>11&#45;&gt;12</title>\n",
       "<path fill=\"none\" stroke=\"black\" d=\"M112.5,-143.7C112.5,-135.98 112.5,-126.71 112.5,-118.11\"/>\n",
       "<polygon fill=\"black\" stroke=\"black\" points=\"116,-118.1 112.5,-108.1 109,-118.1 116,-118.1\"/>\n",
       "</g>\n",
       "<!-- 14 -->\n",
       "<g id=\"node15\" class=\"node\">\n",
       "<title>14</title>\n",
       "<polygon fill=\"none\" stroke=\"white\" points=\"218.5,-180 164.5,-180 164.5,-144 218.5,-144 218.5,-180\"/>\n",
       "<text text-anchor=\"middle\" x=\"191.5\" y=\"-158.3\" font-family=\"'Fira Mono', 'Source Code Pro', 'Courier', monospace\" font-size=\"14.00\" fill=\"#00a060\">o</text>\n",
       "</g>\n",
       "<!-- 13&#45;&gt;14 -->\n",
       "<g id=\"edge14\" class=\"edge\">\n",
       "<title>13&#45;&gt;14</title>\n",
       "<path fill=\"none\" stroke=\"black\" d=\"M191.5,-215.7C191.5,-207.98 191.5,-198.71 191.5,-190.11\"/>\n",
       "<polygon fill=\"black\" stroke=\"black\" points=\"195,-190.1 191.5,-180.1 188,-190.1 195,-190.1\"/>\n",
       "</g>\n",
       "<!-- 16 -->\n",
       "<g id=\"node17\" class=\"node\">\n",
       "<title>16</title>\n",
       "<polygon fill=\"none\" stroke=\"white\" points=\"297.5,-252 243.5,-252 243.5,-216 297.5,-216 297.5,-252\"/>\n",
       "<text text-anchor=\"middle\" x=\"270.5\" y=\"-230.3\" font-family=\"'Fira Mono', 'Source Code Pro', 'Courier', monospace\" font-size=\"14.00\" fill=\"#00a060\">&gt;</text>\n",
       "</g>\n",
       "<!-- 15&#45;&gt;16 -->\n",
       "<g id=\"edge16\" class=\"edge\">\n",
       "<title>15&#45;&gt;16</title>\n",
       "<path fill=\"none\" stroke=\"black\" d=\"M268.24,-287.7C268.57,-279.98 268.97,-270.71 269.34,-262.11\"/>\n",
       "<polygon fill=\"black\" stroke=\"black\" points=\"272.84,-262.25 269.77,-252.1 265.84,-261.95 272.84,-262.25\"/>\n",
       "</g>\n",
       "<!-- 18 -->\n",
       "<g id=\"node19\" class=\"node\">\n",
       "<title>18</title>\n",
       "<polygon fill=\"none\" stroke=\"white\" points=\"434.5,-324 334.5,-324 334.5,-288 434.5,-288 434.5,-324\"/>\n",
       "<text text-anchor=\"middle\" x=\"384.5\" y=\"-302.3\" font-family=\"'Fira Mono', 'Source Code Pro', 'Courier', monospace\" font-size=\"14.00\" fill=\"#0060a0\">&lt;plain&#45;text&gt;</text>\n",
       "</g>\n",
       "<!-- 17&#45;&gt;18 -->\n",
       "<g id=\"edge18\" class=\"edge\">\n",
       "<title>17&#45;&gt;18</title>\n",
       "<path fill=\"none\" stroke=\"black\" d=\"M384.5,-359.7C384.5,-351.98 384.5,-342.71 384.5,-334.11\"/>\n",
       "<polygon fill=\"black\" stroke=\"black\" points=\"388,-334.1 384.5,-324.1 381,-334.1 388,-334.1\"/>\n",
       "</g>\n",
       "<!-- 19 -->\n",
       "<g id=\"node20\" class=\"node\">\n",
       "<title>19</title>\n",
       "<polygon fill=\"none\" stroke=\"white\" points=\"415.5,-252 315.5,-252 315.5,-216 415.5,-216 415.5,-252\"/>\n",
       "<text text-anchor=\"middle\" x=\"365.5\" y=\"-230.3\" font-family=\"'Fira Mono', 'Source Code Pro', 'Courier', monospace\" font-size=\"14.00\" fill=\"#0060a0\">&lt;plain&#45;char&gt;</text>\n",
       "</g>\n",
       "<!-- 18&#45;&gt;19 -->\n",
       "<g id=\"edge19\" class=\"edge\">\n",
       "<title>18&#45;&gt;19</title>\n",
       "<path fill=\"none\" stroke=\"black\" d=\"M379.8,-287.7C377.69,-279.9 375.14,-270.51 372.78,-261.83\"/>\n",
       "<polygon fill=\"black\" stroke=\"black\" points=\"376.14,-260.84 370.14,-252.1 369.38,-262.67 376.14,-260.84\"/>\n",
       "</g>\n",
       "<!-- 22 -->\n",
       "<g id=\"node23\" class=\"node\">\n",
       "<title>22</title>\n",
       "<polygon fill=\"none\" stroke=\"white\" points=\"533.5,-252 433.5,-252 433.5,-216 533.5,-216 533.5,-252\"/>\n",
       "<text text-anchor=\"middle\" x=\"483.5\" y=\"-230.3\" font-family=\"'Fira Mono', 'Source Code Pro', 'Courier', monospace\" font-size=\"14.00\" fill=\"#0060a0\">&lt;plain&#45;text&gt;</text>\n",
       "</g>\n",
       "<!-- 18&#45;&gt;22 -->\n",
       "<g id=\"edge22\" class=\"edge\">\n",
       "<title>18&#45;&gt;22</title>\n",
       "<path fill=\"none\" stroke=\"black\" d=\"M408.72,-287.88C421.42,-278.89 437.16,-267.76 450.92,-258.03\"/>\n",
       "<polygon fill=\"black\" stroke=\"black\" points=\"453.04,-260.82 459.19,-252.19 449,-255.11 453.04,-260.82\"/>\n",
       "</g>\n",
       "<!-- 20 -->\n",
       "<g id=\"node21\" class=\"node\">\n",
       "<title>20</title>\n",
       "<polygon fill=\"none\" stroke=\"white\" points=\"415.5,-180 315.5,-180 315.5,-144 415.5,-144 415.5,-180\"/>\n",
       "<text text-anchor=\"middle\" x=\"365.5\" y=\"-158.3\" font-family=\"'Fira Mono', 'Source Code Pro', 'Courier', monospace\" font-size=\"14.00\" fill=\"#0060a0\">&lt;whitespace&gt;</text>\n",
       "</g>\n",
       "<!-- 19&#45;&gt;20 -->\n",
       "<g id=\"edge20\" class=\"edge\">\n",
       "<title>19&#45;&gt;20</title>\n",
       "<path fill=\"none\" stroke=\"black\" d=\"M365.5,-215.7C365.5,-207.98 365.5,-198.71 365.5,-190.11\"/>\n",
       "<polygon fill=\"black\" stroke=\"black\" points=\"369,-190.1 365.5,-180.1 362,-190.1 369,-190.1\"/>\n",
       "</g>\n",
       "<!-- 21 -->\n",
       "<g id=\"node22\" class=\"node\">\n",
       "<title>21</title>\n",
       "<polygon fill=\"none\" stroke=\"white\" points=\"392.5,-108 338.5,-108 338.5,-72 392.5,-72 392.5,-108\"/>\n",
       "<text text-anchor=\"middle\" x=\"365.5\" y=\"-86.3\" font-family=\"'Fira Mono', 'Source Code Pro', 'Courier', monospace\" font-size=\"14.00\" fill=\"#00a060\"> </text>\n",
       "</g>\n",
       "<!-- 20&#45;&gt;21 -->\n",
       "<g id=\"edge21\" class=\"edge\">\n",
       "<title>20&#45;&gt;21</title>\n",
       "<path fill=\"none\" stroke=\"black\" d=\"M365.5,-143.7C365.5,-135.98 365.5,-126.71 365.5,-118.11\"/>\n",
       "<polygon fill=\"black\" stroke=\"black\" points=\"369,-118.1 365.5,-108.1 362,-118.1 369,-118.1\"/>\n",
       "</g>\n",
       "<!-- 23 -->\n",
       "<g id=\"node24\" class=\"node\">\n",
       "<title>23</title>\n",
       "<polygon fill=\"none\" stroke=\"white\" points=\"510.5,-180 456.5,-180 456.5,-144 510.5,-144 510.5,-180\"/>\n",
       "</g>\n",
       "<!-- 22&#45;&gt;23 -->\n",
       "<g id=\"edge23\" class=\"edge\">\n",
       "<title>22&#45;&gt;23</title>\n",
       "<path fill=\"none\" stroke=\"black\" d=\"M483.5,-215.7C483.5,-207.98 483.5,-198.71 483.5,-190.11\"/>\n",
       "<polygon fill=\"black\" stroke=\"black\" points=\"487,-190.1 483.5,-180.1 480,-190.1 487,-190.1\"/>\n",
       "</g>\n",
       "<!-- 25 -->\n",
       "<g id=\"node26\" class=\"node\">\n",
       "<title>25</title>\n",
       "<polygon fill=\"none\" stroke=\"white\" points=\"605.5,-324 551.5,-324 551.5,-288 605.5,-288 605.5,-324\"/>\n",
       "<text text-anchor=\"middle\" x=\"578.5\" y=\"-302.3\" font-family=\"'Fira Mono', 'Source Code Pro', 'Courier', monospace\" font-size=\"14.00\" fill=\"#0060a0\">&lt;lt&gt;</text>\n",
       "</g>\n",
       "<!-- 24&#45;&gt;25 -->\n",
       "<g id=\"edge25\" class=\"edge\">\n",
       "<title>24&#45;&gt;25</title>\n",
       "<path fill=\"none\" stroke=\"black\" d=\"M632.7,-359.7C623.9,-351.14 613.12,-340.66 603.5,-331.3\"/>\n",
       "<polygon fill=\"black\" stroke=\"black\" points=\"605.7,-328.57 596.09,-324.1 600.82,-333.58 605.7,-328.57\"/>\n",
       "</g>\n",
       "<!-- 27 -->\n",
       "<g id=\"node28\" class=\"node\">\n",
       "<title>27</title>\n",
       "<polygon fill=\"none\" stroke=\"white\" points=\"677.5,-324 623.5,-324 623.5,-288 677.5,-288 677.5,-324\"/>\n",
       "<text text-anchor=\"middle\" x=\"650.5\" y=\"-302.3\" font-family=\"'Fira Mono', 'Source Code Pro', 'Courier', monospace\" font-size=\"14.00\" fill=\"#00a060\">/</text>\n",
       "</g>\n",
       "<!-- 24&#45;&gt;27 -->\n",
       "<g id=\"edge27\" class=\"edge\">\n",
       "<title>24&#45;&gt;27</title>\n",
       "<path fill=\"none\" stroke=\"black\" d=\"M650.5,-359.7C650.5,-351.98 650.5,-342.71 650.5,-334.11\"/>\n",
       "<polygon fill=\"black\" stroke=\"black\" points=\"654,-334.1 650.5,-324.1 647,-334.1 654,-334.1\"/>\n",
       "</g>\n",
       "<!-- 28 -->\n",
       "<g id=\"node29\" class=\"node\">\n",
       "<title>28</title>\n",
       "<polygon fill=\"none\" stroke=\"white\" points=\"749.5,-324 695.5,-324 695.5,-288 749.5,-288 749.5,-324\"/>\n",
       "<text text-anchor=\"middle\" x=\"722.5\" y=\"-302.3\" font-family=\"'Fira Mono', 'Source Code Pro', 'Courier', monospace\" font-size=\"14.00\" fill=\"#0060a0\">&lt;id&gt;</text>\n",
       "</g>\n",
       "<!-- 24&#45;&gt;28 -->\n",
       "<g id=\"edge28\" class=\"edge\">\n",
       "<title>24&#45;&gt;28</title>\n",
       "<path fill=\"none\" stroke=\"black\" d=\"M668.3,-359.7C677.1,-351.14 687.88,-340.66 697.5,-331.3\"/>\n",
       "<polygon fill=\"black\" stroke=\"black\" points=\"700.18,-333.58 704.91,-324.1 695.3,-328.57 700.18,-333.58\"/>\n",
       "</g>\n",
       "<!-- 37 -->\n",
       "<g id=\"node38\" class=\"node\">\n",
       "<title>37</title>\n",
       "<polygon fill=\"none\" stroke=\"white\" points=\"828.5,-324 774.5,-324 774.5,-288 828.5,-288 828.5,-324\"/>\n",
       "<text text-anchor=\"middle\" x=\"801.5\" y=\"-302.3\" font-family=\"'Fira Mono', 'Source Code Pro', 'Courier', monospace\" font-size=\"14.00\" fill=\"#0060a0\">&lt;gt&gt;</text>\n",
       "</g>\n",
       "<!-- 24&#45;&gt;37 -->\n",
       "<g id=\"edge37\" class=\"edge\">\n",
       "<title>24&#45;&gt;37</title>\n",
       "<path fill=\"none\" stroke=\"black\" d=\"M687.44,-359.88C711.07,-348.92 741.6,-334.77 765.13,-323.86\"/>\n",
       "<polygon fill=\"black\" stroke=\"black\" points=\"766.81,-326.94 774.41,-319.56 763.87,-320.59 766.81,-326.94\"/>\n",
       "</g>\n",
       "<!-- 26 -->\n",
       "<g id=\"node27\" class=\"node\">\n",
       "<title>26</title>\n",
       "<polygon fill=\"none\" stroke=\"white\" points=\"605.5,-252 551.5,-252 551.5,-216 605.5,-216 605.5,-252\"/>\n",
       "<text text-anchor=\"middle\" x=\"578.5\" y=\"-230.3\" font-family=\"'Fira Mono', 'Source Code Pro', 'Courier', monospace\" font-size=\"14.00\" fill=\"#0060a0\">&lt;</text>\n",
       "</g>\n",
       "<!-- 25&#45;&gt;26 -->\n",
       "<g id=\"edge26\" class=\"edge\">\n",
       "<title>25&#45;&gt;26</title>\n",
       "<path fill=\"none\" stroke=\"black\" d=\"M578.5,-287.7C578.5,-279.98 578.5,-270.71 578.5,-262.11\"/>\n",
       "<polygon fill=\"black\" stroke=\"black\" points=\"582,-262.1 578.5,-252.1 575,-262.1 582,-262.1\"/>\n",
       "</g>\n",
       "<!-- 29 -->\n",
       "<g id=\"node30\" class=\"node\">\n",
       "<title>29</title>\n",
       "<polygon fill=\"none\" stroke=\"white\" points=\"677.5,-252 623.5,-252 623.5,-216 677.5,-216 677.5,-252\"/>\n",
       "<text text-anchor=\"middle\" x=\"650.5\" y=\"-230.3\" font-family=\"'Fira Mono', 'Source Code Pro', 'Courier', monospace\" font-size=\"14.00\" fill=\"#0060a0\">&lt;id&gt;</text>\n",
       "</g>\n",
       "<!-- 28&#45;&gt;29 -->\n",
       "<g id=\"edge29\" class=\"edge\">\n",
       "<title>28&#45;&gt;29</title>\n",
       "<path fill=\"none\" stroke=\"black\" d=\"M704.7,-287.7C695.9,-279.14 685.12,-268.66 675.5,-259.3\"/>\n",
       "<polygon fill=\"black\" stroke=\"black\" points=\"677.7,-256.57 668.09,-252.1 672.82,-261.58 677.7,-256.57\"/>\n",
       "</g>\n",
       "<!-- 35 -->\n",
       "<g id=\"node36\" class=\"node\">\n",
       "<title>35</title>\n",
       "<polygon fill=\"none\" stroke=\"white\" points=\"763,-252 696,-252 696,-216 763,-216 763,-252\"/>\n",
       "<text text-anchor=\"middle\" x=\"729.5\" y=\"-230.3\" font-family=\"'Fira Mono', 'Source Code Pro', 'Courier', monospace\" font-size=\"14.00\" fill=\"#0060a0\">&lt;letter&gt;</text>\n",
       "</g>\n",
       "<!-- 28&#45;&gt;35 -->\n",
       "<g id=\"edge35\" class=\"edge\">\n",
       "<title>28&#45;&gt;35</title>\n",
       "<path fill=\"none\" stroke=\"black\" d=\"M724.23,-287.7C725,-279.98 725.93,-270.71 726.79,-262.11\"/>\n",
       "<polygon fill=\"black\" stroke=\"black\" points=\"730.28,-262.4 727.79,-252.1 723.31,-261.71 730.28,-262.4\"/>\n",
       "</g>\n",
       "<!-- 30 -->\n",
       "<g id=\"node31\" class=\"node\">\n",
       "<title>30</title>\n",
       "<polygon fill=\"none\" stroke=\"white\" points=\"598.5,-180 544.5,-180 544.5,-144 598.5,-144 598.5,-180\"/>\n",
       "<text text-anchor=\"middle\" x=\"571.5\" y=\"-158.3\" font-family=\"'Fira Mono', 'Source Code Pro', 'Courier', monospace\" font-size=\"14.00\" fill=\"#0060a0\">&lt;id&gt;</text>\n",
       "</g>\n",
       "<!-- 29&#45;&gt;30 -->\n",
       "<g id=\"edge30\" class=\"edge\">\n",
       "<title>29&#45;&gt;30</title>\n",
       "<path fill=\"none\" stroke=\"black\" d=\"M630.97,-215.7C621.12,-206.97 609.01,-196.24 598.3,-186.75\"/>\n",
       "<polygon fill=\"black\" stroke=\"black\" points=\"600.61,-184.12 590.8,-180.1 595.97,-189.36 600.61,-184.12\"/>\n",
       "</g>\n",
       "<!-- 33 -->\n",
       "<g id=\"node34\" class=\"node\">\n",
       "<title>33</title>\n",
       "<polygon fill=\"none\" stroke=\"white\" points=\"684,-180 617,-180 617,-144 684,-144 684,-180\"/>\n",
       "<text text-anchor=\"middle\" x=\"650.5\" y=\"-158.3\" font-family=\"'Fira Mono', 'Source Code Pro', 'Courier', monospace\" font-size=\"14.00\" fill=\"#0060a0\">&lt;letter&gt;</text>\n",
       "</g>\n",
       "<!-- 29&#45;&gt;33 -->\n",
       "<g id=\"edge33\" class=\"edge\">\n",
       "<title>29&#45;&gt;33</title>\n",
       "<path fill=\"none\" stroke=\"black\" d=\"M650.5,-215.7C650.5,-207.98 650.5,-198.71 650.5,-190.11\"/>\n",
       "<polygon fill=\"black\" stroke=\"black\" points=\"654,-190.1 650.5,-180.1 647,-190.1 654,-190.1\"/>\n",
       "</g>\n",
       "<!-- 31 -->\n",
       "<g id=\"node32\" class=\"node\">\n",
       "<title>31</title>\n",
       "<polygon fill=\"none\" stroke=\"white\" points=\"605,-108 538,-108 538,-72 605,-72 605,-108\"/>\n",
       "<text text-anchor=\"middle\" x=\"571.5\" y=\"-86.3\" font-family=\"'Fira Mono', 'Source Code Pro', 'Courier', monospace\" font-size=\"14.00\" fill=\"#0060a0\">&lt;letter&gt;</text>\n",
       "</g>\n",
       "<!-- 30&#45;&gt;31 -->\n",
       "<g id=\"edge31\" class=\"edge\">\n",
       "<title>30&#45;&gt;31</title>\n",
       "<path fill=\"none\" stroke=\"black\" d=\"M571.5,-143.7C571.5,-135.98 571.5,-126.71 571.5,-118.11\"/>\n",
       "<polygon fill=\"black\" stroke=\"black\" points=\"575,-118.1 571.5,-108.1 568,-118.1 575,-118.1\"/>\n",
       "</g>\n",
       "<!-- 32 -->\n",
       "<g id=\"node33\" class=\"node\">\n",
       "<title>32</title>\n",
       "<polygon fill=\"none\" stroke=\"white\" points=\"598.5,-36 544.5,-36 544.5,0 598.5,0 598.5,-36\"/>\n",
       "<text text-anchor=\"middle\" x=\"571.5\" y=\"-14.3\" font-family=\"'Fira Mono', 'Source Code Pro', 'Courier', monospace\" font-size=\"14.00\" fill=\"#00a060\">f</text>\n",
       "</g>\n",
       "<!-- 31&#45;&gt;32 -->\n",
       "<g id=\"edge32\" class=\"edge\">\n",
       "<title>31&#45;&gt;32</title>\n",
       "<path fill=\"none\" stroke=\"black\" d=\"M571.5,-71.7C571.5,-63.98 571.5,-54.71 571.5,-46.11\"/>\n",
       "<polygon fill=\"black\" stroke=\"black\" points=\"575,-46.1 571.5,-36.1 568,-46.1 575,-46.1\"/>\n",
       "</g>\n",
       "<!-- 34 -->\n",
       "<g id=\"node35\" class=\"node\">\n",
       "<title>34</title>\n",
       "<polygon fill=\"none\" stroke=\"white\" points=\"677.5,-108 623.5,-108 623.5,-72 677.5,-72 677.5,-108\"/>\n",
       "<text text-anchor=\"middle\" x=\"650.5\" y=\"-86.3\" font-family=\"'Fira Mono', 'Source Code Pro', 'Courier', monospace\" font-size=\"14.00\" fill=\"#00a060\">o</text>\n",
       "</g>\n",
       "<!-- 33&#45;&gt;34 -->\n",
       "<g id=\"edge34\" class=\"edge\">\n",
       "<title>33&#45;&gt;34</title>\n",
       "<path fill=\"none\" stroke=\"black\" d=\"M650.5,-143.7C650.5,-135.98 650.5,-126.71 650.5,-118.11\"/>\n",
       "<polygon fill=\"black\" stroke=\"black\" points=\"654,-118.1 650.5,-108.1 647,-118.1 654,-118.1\"/>\n",
       "</g>\n",
       "<!-- 36 -->\n",
       "<g id=\"node37\" class=\"node\">\n",
       "<title>36</title>\n",
       "<polygon fill=\"none\" stroke=\"white\" points=\"756.5,-180 702.5,-180 702.5,-144 756.5,-144 756.5,-180\"/>\n",
       "<text text-anchor=\"middle\" x=\"729.5\" y=\"-158.3\" font-family=\"'Fira Mono', 'Source Code Pro', 'Courier', monospace\" font-size=\"14.00\" fill=\"#00a060\">o</text>\n",
       "</g>\n",
       "<!-- 35&#45;&gt;36 -->\n",
       "<g id=\"edge36\" class=\"edge\">\n",
       "<title>35&#45;&gt;36</title>\n",
       "<path fill=\"none\" stroke=\"black\" d=\"M729.5,-215.7C729.5,-207.98 729.5,-198.71 729.5,-190.11\"/>\n",
       "<polygon fill=\"black\" stroke=\"black\" points=\"733,-190.1 729.5,-180.1 726,-190.1 733,-190.1\"/>\n",
       "</g>\n",
       "<!-- 38 -->\n",
       "<g id=\"node39\" class=\"node\">\n",
       "<title>38</title>\n",
       "<polygon fill=\"none\" stroke=\"white\" points=\"835.5,-252 781.5,-252 781.5,-216 835.5,-216 835.5,-252\"/>\n",
       "<text text-anchor=\"middle\" x=\"808.5\" y=\"-230.3\" font-family=\"'Fira Mono', 'Source Code Pro', 'Courier', monospace\" font-size=\"14.00\" fill=\"#00a060\">&gt;</text>\n",
       "</g>\n",
       "<!-- 37&#45;&gt;38 -->\n",
       "<g id=\"edge38\" class=\"edge\">\n",
       "<title>37&#45;&gt;38</title>\n",
       "<path fill=\"none\" stroke=\"black\" d=\"M803.23,-287.7C804,-279.98 804.93,-270.71 805.79,-262.11\"/>\n",
       "<polygon fill=\"black\" stroke=\"black\" points=\"809.28,-262.4 806.79,-252.1 802.31,-261.71 809.28,-262.4\"/>\n",
       "</g>\n",
       "</g>\n",
       "</svg>\n"
      ],
      "text/plain": [
       "<graphviz.graphs.Digraph at 0x105bec760>"
      ]
     },
     "execution_count": 55,
     "metadata": {},
     "output_type": "execute_result"
    }
   ],
   "source": [
    "mutated_tree = cast(TreeMutator, bad_input_tree_mutator()).mutate([0, 0, 1, 0])\n",
    "display_tree(mutated_tree)"
   ]
  },
  {
   "cell_type": "markdown",
   "metadata": {
    "slideshow": {
     "slide_type": "fragment"
    }
   },
   "source": [
    "We see that the `<plain-text>` subtree is now different, which also becomes evident in the string representation."
   ]
  },
  {
   "cell_type": "code",
   "execution_count": 56,
   "metadata": {
    "execution": {
     "iopub.execute_input": "2022-08-06T23:06:44.443580Z",
     "iopub.status.busy": "2022-08-06T23:06:44.443231Z",
     "iopub.status.idle": "2022-08-06T23:06:44.444713Z",
     "shell.execute_reply": "2022-08-06T23:06:44.445017Z"
    },
    "slideshow": {
     "slide_type": "fragment"
    }
   },
   "outputs": [
    {
     "data": {
      "text/plain": [
       "'<foo> </foo>'"
      ]
     },
     "execution_count": 56,
     "metadata": {},
     "output_type": "execute_result"
    }
   ],
   "source": [
    "tree_to_string(mutated_tree)"
   ]
  },
  {
   "cell_type": "markdown",
   "metadata": {
    "slideshow": {
     "slide_type": "slide"
    }
   },
   "source": [
    "## Generalizing Trees\n",
    "\n",
    "Now for the main part – finding out which parts of a tree can be generalized. Our idea is to _test_ a finite number of mutations to a subtree (say, 10). If all of these tests fail as well, then we assume we can generalize the subtree to a placeholder."
   ]
  },
  {
   "cell_type": "markdown",
   "metadata": {
    "slideshow": {
     "slide_type": "fragment"
    }
   },
   "source": [
    "We introduce a class `TreeGeneralizer` for this purpose. On top of `grammar` and `tree` already used for the `TreeMutator` constructor, the `TreeGeneralizer` also takes a `test` function."
   ]
  },
  {
   "cell_type": "code",
   "execution_count": 57,
   "metadata": {
    "execution": {
     "iopub.execute_input": "2022-08-06T23:06:44.447618Z",
     "iopub.status.busy": "2022-08-06T23:06:44.447324Z",
     "iopub.status.idle": "2022-08-06T23:06:44.448519Z",
     "shell.execute_reply": "2022-08-06T23:06:44.448701Z"
    },
    "slideshow": {
     "slide_type": "subslide"
    }
   },
   "outputs": [],
   "source": [
    "class TreeGeneralizer(TreeMutator):\n",
    "    \"\"\"Determine which parts of a derivation tree can be generalized.\"\"\"\n",
    "\n",
    "    def __init__(self, grammar: Grammar, tree: DerivationTree, test: Callable,\n",
    "                 max_tries_for_generalization: int = 10, **kwargs: Any) -> None:\n",
    "        \"\"\"\n",
    "        Constructor. `grammar` and `tree` are as in `TreeMutator`.\n",
    "        `test` is a function taking a string that either\n",
    "          * raises an exception, indicating test failure;\n",
    "          * or not, indicating test success.\n",
    "        `max_tries_for_generalization` is the number of times\n",
    "        an instantiation has to fail before it is generalized.\n",
    "        \"\"\"\n",
    "\n",
    "        super().__init__(grammar, tree, **kwargs)\n",
    "        self.test = test\n",
    "        self.max_tries_for_generalization = max_tries_for_generalization"
   ]
  },
  {
   "cell_type": "markdown",
   "metadata": {
    "slideshow": {
     "slide_type": "subslide"
    }
   },
   "source": [
    "The `test` function is used in `test_tree()`, returning `False` if the test fails (raising an exception), and `True` if the test passes (no exception)."
   ]
  },
  {
   "cell_type": "code",
   "execution_count": 58,
   "metadata": {
    "execution": {
     "iopub.execute_input": "2022-08-06T23:06:44.451401Z",
     "iopub.status.busy": "2022-08-06T23:06:44.451070Z",
     "iopub.status.idle": "2022-08-06T23:06:44.452188Z",
     "shell.execute_reply": "2022-08-06T23:06:44.452410Z"
    },
    "slideshow": {
     "slide_type": "subslide"
    }
   },
   "outputs": [],
   "source": [
    "class TreeGeneralizer(TreeGeneralizer):\n",
    "    def test_tree(self, tree: DerivationTree) -> bool:\n",
    "        \"\"\"Return True if testing `tree` passes, else False\"\"\"\n",
    "        s = tree_to_string(tree)\n",
    "        if self.log:\n",
    "            print(f\"Testing {repr(s)}...\", end=\"\")\n",
    "        try:\n",
    "            self.test(s)\n",
    "        except Exception as exc:\n",
    "            if self.log:\n",
    "                print(f\"FAIL ({type(exc).__name__})\")\n",
    "            ret = False\n",
    "        else:\n",
    "            if self.log:\n",
    "                print(f\"PASS\")\n",
    "            ret = True\n",
    "\n",
    "        return ret"
   ]
  },
  {
   "cell_type": "markdown",
   "metadata": {
    "slideshow": {
     "slide_type": "subslide"
    }
   },
   "source": [
    "### Testing for Generalization\n",
    "\n",
    "The `can_generalize()` method brings the above methods together. It creates a number of tree mutations at the given path, and returns True if all of them produce a failure. (Note that this is not as sophisticated as our [delta debugger](DeltaDebugger.ipynb) implementation, which also checks that the _same_ error occurs.)"
   ]
  },
  {
   "cell_type": "code",
   "execution_count": 59,
   "metadata": {
    "execution": {
     "iopub.execute_input": "2022-08-06T23:06:44.455074Z",
     "iopub.status.busy": "2022-08-06T23:06:44.454733Z",
     "iopub.status.idle": "2022-08-06T23:06:44.455824Z",
     "shell.execute_reply": "2022-08-06T23:06:44.456075Z"
    },
    "slideshow": {
     "slide_type": "subslide"
    }
   },
   "outputs": [],
   "source": [
    "class TreeGeneralizer(TreeGeneralizer):\n",
    "    def can_generalize(self, path: TreePath, tree: Optional[DerivationTree] = None) -> bool:\n",
    "        \"\"\"Return True if the subtree at `path` can be generalized.\"\"\"\n",
    "        for i in range(self.max_tries_for_generalization):\n",
    "            mutated_tree = self.mutate(path, tree)\n",
    "            if self.test_tree(mutated_tree):\n",
    "                # Failure no longer occurs; cannot abstract\n",
    "                return False\n",
    "\n",
    "        return True"
   ]
  },
  {
   "cell_type": "markdown",
   "metadata": {
    "slideshow": {
     "slide_type": "fragment"
    }
   },
   "source": [
    "Let us put `TreeGeneralizer` into action. We can directly use `remove_html_markup()` as test function."
   ]
  },
  {
   "cell_type": "code",
   "execution_count": 60,
   "metadata": {
    "execution": {
     "iopub.execute_input": "2022-08-06T23:06:44.458045Z",
     "iopub.status.busy": "2022-08-06T23:06:44.457716Z",
     "iopub.status.idle": "2022-08-06T23:06:44.458916Z",
     "shell.execute_reply": "2022-08-06T23:06:44.459142Z"
    },
    "slideshow": {
     "slide_type": "fragment"
    }
   },
   "outputs": [],
   "source": [
    "def bad_input_tree_generalizer(**kwargs: Any) -> TreeGeneralizer:\n",
    "    return TreeGeneralizer(SIMPLE_HTML_GRAMMAR, bad_input_tree,\n",
    "                           remove_html_markup, **kwargs)"
   ]
  },
  {
   "cell_type": "markdown",
   "metadata": {
    "slideshow": {
     "slide_type": "subslide"
    }
   },
   "source": [
    "On our `BAD_INPUT` (and its tree), can we generalize the root `<html>` node? In other words, does the failure occur for all possible `<html>` inputs?"
   ]
  },
  {
   "cell_type": "code",
   "execution_count": 61,
   "metadata": {
    "execution": {
     "iopub.execute_input": "2022-08-06T23:06:44.463100Z",
     "iopub.status.busy": "2022-08-06T23:06:44.462814Z",
     "iopub.status.idle": "2022-08-06T23:06:44.464228Z",
     "shell.execute_reply": "2022-08-06T23:06:44.464469Z"
    },
    "slideshow": {
     "slide_type": "fragment"
    }
   },
   "outputs": [
    {
     "name": "stdout",
     "output_type": "stream",
     "text": [
      "Testing \"<l35Gmq W2G571=''>\"...PASS\n"
     ]
    },
    {
     "data": {
      "text/plain": [
       "False"
      ]
     },
     "execution_count": 61,
     "metadata": {},
     "output_type": "execute_result"
    }
   ],
   "source": [
    "bad_input_tree_generalizer(log=True).can_generalize([0])"
   ]
  },
  {
   "cell_type": "markdown",
   "metadata": {
    "slideshow": {
     "slide_type": "fragment"
    }
   },
   "source": [
    "The answer is no. The first alternative passes the test; hence no generalization."
   ]
  },
  {
   "cell_type": "markdown",
   "metadata": {
    "slideshow": {
     "slide_type": "fragment"
    }
   },
   "source": [
    "How about the middle `<plain_text>` part? Can we generalize this?"
   ]
  },
  {
   "cell_type": "code",
   "execution_count": 62,
   "metadata": {
    "execution": {
     "iopub.execute_input": "2022-08-06T23:06:44.467175Z",
     "iopub.status.busy": "2022-08-06T23:06:44.466753Z",
     "iopub.status.idle": "2022-08-06T23:06:44.468502Z",
     "shell.execute_reply": "2022-08-06T23:06:44.468743Z"
    },
    "slideshow": {
     "slide_type": "fragment"
    }
   },
   "outputs": [
    {
     "name": "stdout",
     "output_type": "stream",
     "text": [
      "Testing '<foo>8</foo>'...PASS\n"
     ]
    },
    {
     "data": {
      "text/plain": [
       "False"
      ]
     },
     "execution_count": 62,
     "metadata": {},
     "output_type": "execute_result"
    }
   ],
   "source": [
    "bad_input_tree_generalizer(log=True).can_generalize([0, 0, 1, 0])"
   ]
  },
  {
   "cell_type": "markdown",
   "metadata": {
    "slideshow": {
     "slide_type": "fragment"
    }
   },
   "source": [
    "The answer is no – just as above."
   ]
  },
  {
   "cell_type": "markdown",
   "metadata": {
    "slideshow": {
     "slide_type": "subslide"
    }
   },
   "source": [
    "How about the closing tag? Can we generalize this one?"
   ]
  },
  {
   "cell_type": "code",
   "execution_count": 63,
   "metadata": {
    "execution": {
     "iopub.execute_input": "2022-08-06T23:06:44.474718Z",
     "iopub.status.busy": "2022-08-06T23:06:44.474331Z",
     "iopub.status.idle": "2022-08-06T23:06:44.475881Z",
     "shell.execute_reply": "2022-08-06T23:06:44.476032Z"
    },
    "slideshow": {
     "slide_type": "fragment"
    }
   },
   "outputs": [
    {
     "name": "stdout",
     "output_type": "stream",
     "text": [
      "Testing '<foo>\"bar</e7N>'...FAIL (AssertionError)\n",
      "Testing '<foo>\"bar</q37A>'...FAIL (AssertionError)\n",
      "Testing '<foo>\"bar</W>'...FAIL (AssertionError)\n",
      "Testing '<foo>\"bar</z93Q5>'...FAIL (AssertionError)\n",
      "Testing '<foo>\"bar</WR>'...FAIL (AssertionError)\n",
      "Testing '<foo>\"bar</m>'...FAIL (AssertionError)\n",
      "Testing '<foo>\"bar</Uy443wt1h7>'...FAIL (AssertionError)\n",
      "Testing '<foo>\"bar</fon2>'...FAIL (AssertionError)\n",
      "Testing '<foo>\"bar</M>'...FAIL (AssertionError)\n",
      "Testing '<foo>\"bar</g9>'...FAIL (AssertionError)\n"
     ]
    },
    {
     "data": {
      "text/plain": [
       "True"
      ]
     },
     "execution_count": 63,
     "metadata": {},
     "output_type": "execute_result"
    }
   ],
   "source": [
    "bad_input_tree_generalizer(log=True).can_generalize([0, 0, 2])"
   ]
  },
  {
   "cell_type": "markdown",
   "metadata": {
    "slideshow": {
     "slide_type": "subslide"
    }
   },
   "source": [
    "Yes, we can! All alternate instantiations of `<closing-tag>` result in a failure."
   ]
  },
  {
   "cell_type": "code",
   "execution_count": 64,
   "metadata": {
    "execution": {
     "iopub.execute_input": "2022-08-06T23:06:44.479192Z",
     "iopub.status.busy": "2022-08-06T23:06:44.478840Z",
     "iopub.status.idle": "2022-08-06T23:06:44.480331Z",
     "shell.execute_reply": "2022-08-06T23:06:44.480559Z"
    },
    "slideshow": {
     "slide_type": "fragment"
    }
   },
   "outputs": [
    {
     "data": {
      "text/html": [
       "\n",
       "    \n",
       "    <script>\n",
       "    var bad_answers = new Map();\n",
       "\n",
       "    function answer(quiz_id) {\n",
       "        ans = 0;\n",
       "        for (i = 1;; i++) {\n",
       "            checkbox = document.getElementById(quiz_id + \"-\" + i.toString());\n",
       "            if (!checkbox)\n",
       "                break;\n",
       "            if (checkbox.checked)\n",
       "                ans |= (1 << i);\n",
       "        }\n",
       "        return ans;\n",
       "    }\n",
       "    function check_selection(quiz_id, correct_answer, multiple_choice, hint) {\n",
       "        given_answer = answer(quiz_id);\n",
       "        if (given_answer == correct_answer)\n",
       "        {\n",
       "            document.getElementById(quiz_id + \"-submit\").value = \"Correct!\";\n",
       "            document.getElementById(quiz_id + \"-hint\").innerHTML = \"\";\n",
       "\n",
       "            for (i = 1;; i++) {\n",
       "                checkbox = document.getElementById(quiz_id + \"-\" + i.toString());\n",
       "                label = document.getElementById(quiz_id + \"-\" + i.toString() + \"-label\")\n",
       "                if (!checkbox)\n",
       "                    break;\n",
       "    \n",
       "                if (checkbox.checked) {\n",
       "                    label.style.fontWeight = \"bold\";\n",
       "                }\n",
       "                else {\n",
       "                    label.style.textDecoration = \"line-through\";\n",
       "                }\n",
       "            }\n",
       "        }\n",
       "        else \n",
       "        {\n",
       "            document.getElementById(quiz_id + \"-submit\").value = \"Try again\";\n",
       "            \n",
       "            if (!bad_answers.has(quiz_id)) {\n",
       "                bad_answers.set(quiz_id, 1);\n",
       "            }\n",
       "            else {\n",
       "                bad_answers.set(quiz_id, bad_answers.get(quiz_id) + 1);\n",
       "            }\n",
       "\n",
       "            if (bad_answers.get(quiz_id) >= 2 && hint.length > 0) {\n",
       "                document.getElementById(quiz_id + \"-hint\").innerHTML = \n",
       "                    \"&nbsp;&nbsp;(Hint: <code>\" + hint + \"</code>)\";\n",
       "            }\n",
       "\n",
       "            if (!multiple_choice) {\n",
       "                for (i = 1;; i++) {\n",
       "                    checkbox = document.getElementById(quiz_id + \"-\" + i.toString());\n",
       "                    label = document.getElementById(quiz_id + \"-\" + i.toString() + \"-label\")\n",
       "\n",
       "                    if (!checkbox)\n",
       "                        break;\n",
       "                    if (checkbox.checked) {\n",
       "                        label.style.textDecoration = \"line-through\";\n",
       "                    }\n",
       "                }\n",
       "            }\n",
       "        }\n",
       "    }\n",
       "    function clear_selection(quiz_id) {\n",
       "        document.getElementById(quiz_id + \"-submit\").value = \"Submit\";\n",
       "        document.getElementById(quiz_id + \"-hint\").innerHTML = \"\";\n",
       "    }\n",
       "    </script>\n",
       "    \n",
       "    <div class=\"quiz\">\n",
       "    <h3 class=\"quiz_title\">Quiz</h3>\n",
       "    <p>\n",
       "    <div class=\"quiz_question\">Is this also true for <code>&lt;opening-tag&gt;</code>?</div>\n",
       "    </p>\n",
       "    <p>\n",
       "    <div class=\"quiz_options\" title=\"Pick a choice.\">\n",
       "    \n",
       "        <input type=\"radio\" name=\"709e67e4-15dc-11ed-97a2-6298cf1a578f\" id=\"709e67e4-15dc-11ed-97a2-6298cf1a578f-1\" onclick=\"clear_selection('709e67e4-15dc-11ed-97a2-6298cf1a578f')\">\n",
       "        <label id=\"709e67e4-15dc-11ed-97a2-6298cf1a578f-1-label\" for=\"709e67e4-15dc-11ed-97a2-6298cf1a578f-1\">Yes</label><br>\n",
       "    \n",
       "        <input type=\"radio\" name=\"709e67e4-15dc-11ed-97a2-6298cf1a578f\" id=\"709e67e4-15dc-11ed-97a2-6298cf1a578f-2\" onclick=\"clear_selection('709e67e4-15dc-11ed-97a2-6298cf1a578f')\">\n",
       "        <label id=\"709e67e4-15dc-11ed-97a2-6298cf1a578f-2-label\" for=\"709e67e4-15dc-11ed-97a2-6298cf1a578f-2\">No</label><br>\n",
       "    \n",
       "    </div>\n",
       "    </p>\n",
       "    <input id=\"709e67e4-15dc-11ed-97a2-6298cf1a578f-submit\" type=\"submit\" value=\"Submit\" onclick=\"check_selection('709e67e4-15dc-11ed-97a2-6298cf1a578f', 4, 0, '(&quot;Yes&quot; == &quot;Yes&quot;) + (&quot;No&quot; == &quot;No&quot;)')\">\n",
       "    <span class=\"quiz_hint\" id=\"709e67e4-15dc-11ed-97a2-6298cf1a578f-hint\"></span>\n",
       "    </div>\n",
       "    "
      ],
      "text/plain": [
       "<IPython.core.display.HTML object>"
      ]
     },
     "execution_count": 64,
     "metadata": {},
     "output_type": "execute_result"
    }
   ],
   "source": [
    "quiz(\"Is this also true for `<opening-tag>`?\",\n",
    "     [\n",
    "         \"Yes\",\n",
    "         \"No\"\n",
    "     ], '(\"Yes\" == \"Yes\") + (\"No\" == \"No\")')"
   ]
  },
  {
   "cell_type": "markdown",
   "metadata": {
    "slideshow": {
     "slide_type": "fragment"
    }
   },
   "source": [
    "Note that the above does not hold for `<opening-tag>`. If the attribute value contains a quote character, it will extend to the end of the input. This is another error, but not caught by our assertion; hence, the input will be flagged as passing:"
   ]
  },
  {
   "cell_type": "code",
   "execution_count": 65,
   "metadata": {
    "execution": {
     "iopub.execute_input": "2022-08-06T23:06:44.482464Z",
     "iopub.status.busy": "2022-08-06T23:06:44.482134Z",
     "iopub.status.idle": "2022-08-06T23:06:44.483531Z",
     "shell.execute_reply": "2022-08-06T23:06:44.483727Z"
    },
    "slideshow": {
     "slide_type": "fragment"
    }
   },
   "outputs": [],
   "source": [
    "BAD_ATTR_INPUT = '<foo attr=\"\\'\">bar</foo>'"
   ]
  },
  {
   "cell_type": "code",
   "execution_count": 66,
   "metadata": {
    "execution": {
     "iopub.execute_input": "2022-08-06T23:06:44.485618Z",
     "iopub.status.busy": "2022-08-06T23:06:44.485325Z",
     "iopub.status.idle": "2022-08-06T23:06:44.486848Z",
     "shell.execute_reply": "2022-08-06T23:06:44.487023Z"
    },
    "slideshow": {
     "slide_type": "fragment"
    }
   },
   "outputs": [
    {
     "data": {
      "text/plain": [
       "''"
      ]
     },
     "execution_count": 66,
     "metadata": {},
     "output_type": "execute_result"
    }
   ],
   "source": [
    "remove_html_markup(BAD_ATTR_INPUT)"
   ]
  },
  {
   "cell_type": "markdown",
   "metadata": {
    "slideshow": {
     "slide_type": "subslide"
    }
   },
   "source": [
    "The effect of this is that there are patterns for `<opening-tag>` which do not cause the failure to occur; hence, `<opening-tag>` is not a fully valid generalization."
   ]
  },
  {
   "cell_type": "markdown",
   "metadata": {
    "slideshow": {
     "slide_type": "fragment"
    }
   },
   "source": [
    "This, however, becomes apparent only if one of our generated tests includes a quote character in the attribute value. Since quote characters are as likely (or as unlikely) to appear as other characters, this effect may not become apparent in our default 10 tests:"
   ]
  },
  {
   "cell_type": "code",
   "execution_count": 67,
   "metadata": {
    "execution": {
     "iopub.execute_input": "2022-08-06T23:06:44.505360Z",
     "iopub.status.busy": "2022-08-06T23:06:44.504980Z",
     "iopub.status.idle": "2022-08-06T23:06:44.506555Z",
     "shell.execute_reply": "2022-08-06T23:06:44.506804Z"
    },
    "slideshow": {
     "slide_type": "fragment"
    }
   },
   "outputs": [
    {
     "data": {
      "text/plain": [
       "True"
      ]
     },
     "execution_count": 67,
     "metadata": {},
     "output_type": "execute_result"
    }
   ],
   "source": [
    "bad_input_tree_generalizer().can_generalize([0, 0, 0])"
   ]
  },
  {
   "cell_type": "markdown",
   "metadata": {
    "slideshow": {
     "slide_type": "fragment"
    }
   },
   "source": [
    "It will become apparent, however, as we increase the number of tests:"
   ]
  },
  {
   "cell_type": "code",
   "execution_count": 68,
   "metadata": {
    "execution": {
     "iopub.execute_input": "2022-08-06T23:06:44.533679Z",
     "iopub.status.busy": "2022-08-06T23:06:44.533295Z",
     "iopub.status.idle": "2022-08-06T23:06:44.534996Z",
     "shell.execute_reply": "2022-08-06T23:06:44.535206Z"
    },
    "slideshow": {
     "slide_type": "subslide"
    }
   },
   "outputs": [
    {
     "name": "stdout",
     "output_type": "stream",
     "text": [
      "Testing '<Ada np=\\'7\\' y7v=\\'\\'>\"bar</foo>'...FAIL (AssertionError)\n",
      "Testing '<B V=\\'\\'>\"bar</foo>'...FAIL (AssertionError)\n",
      "Testing '<K v=\"$\" s5F=\"\\x0b\" q=\"\" E=\\'\\'>\"bar</foo>'...FAIL (AssertionError)\n",
      "Testing '<Fcdt8 v7A4u=\\'.\\t\\'>\"bar</foo>'...FAIL (AssertionError)\n",
      "Testing '<s n=\"\">\"bar</foo>'...FAIL (AssertionError)\n",
      "Testing '<W>\"bar</foo>'...FAIL (AssertionError)\n",
      "Testing '<ap>\"bar</foo>'...FAIL (AssertionError)\n",
      "Testing '<B1>\"bar</foo>'...FAIL (AssertionError)\n",
      "Testing '<Q00wY M=\\'\\r \\'>\"bar</foo>'...FAIL (AssertionError)\n",
      "Testing '<O6 d7=\"\" H=\\'\\'>\"bar</foo>'...FAIL (AssertionError)\n",
      "Testing '<v1IH w=\"\" ZI=\"\" O=\"\">\"bar</foo>'...FAIL (AssertionError)\n",
      "Testing '<T1 w998=\\'a\\' j=\\'z\\n7\\'>\"bar</foo>'...FAIL (AssertionError)\n",
      "Testing '<Dnh1>\"bar</foo>'...FAIL (AssertionError)\n",
      "Testing '<D F9=\"\" x4=\\'\\' Hup=\\'7\\n\\'>\"bar</foo>'...FAIL (AssertionError)\n",
      "Testing '<l62E>\"bar</foo>'...FAIL (AssertionError)\n",
      "Testing '<k11 P8x5=\"\">\"bar</foo>'...FAIL (AssertionError)\n",
      "Testing '<V6LBVu>\"bar</foo>'...FAIL (AssertionError)\n",
      "Testing '<k9S>\"bar</foo>'...FAIL (AssertionError)\n",
      "Testing '<tU2J913 lQ6N=\\'\\' f=\\'*\\' V=\\'\\' b=\"\" l=\"\" G=\\'\\'>\"bar</foo>'...FAIL (AssertionError)\n",
      "Testing '<X O=\"U~\">\"bar</foo>'...FAIL (AssertionError)\n",
      "Testing '<q4 W=\\'\\' i=\\'aA9\\' I=\\'9\\'>\"bar</foo>'...FAIL (AssertionError)\n",
      "Testing '<HK>\"bar</foo>'...FAIL (AssertionError)\n",
      "Testing '<T>\"bar</foo>'...FAIL (AssertionError)\n",
      "Testing '<NJc j32=\"\\x0b\">\"bar</foo>'...FAIL (AssertionError)\n",
      "Testing '<G>\"bar</foo>'...FAIL (AssertionError)\n",
      "Testing '<w B=\"\\r\">\"bar</foo>'...FAIL (AssertionError)\n",
      "Testing '<Ac1>\"bar</foo>'...FAIL (AssertionError)\n",
      "Testing '<vB y2=\\'7x\\'\\'>\"bar</foo>'...PASS\n"
     ]
    },
    {
     "data": {
      "text/plain": [
       "False"
      ]
     },
     "execution_count": 68,
     "metadata": {},
     "output_type": "execute_result"
    }
   ],
   "source": [
    "bad_input_tree_generalizer(max_tries_for_generalization=100, log=True).can_generalize([0, 0, 0])"
   ]
  },
  {
   "cell_type": "markdown",
   "metadata": {
    "slideshow": {
     "slide_type": "subslide"
    }
   },
   "source": [
    "We see that our approach may _overgeneralize_ – producing a generalization that may be too lenient. In practice, this is not too much of a problem, as we would be interested in characterizing cases that trigger the failure, rather than characterizing a small subset that does not trigger the failure."
   ]
  },
  {
   "cell_type": "markdown",
   "metadata": {
    "slideshow": {
     "slide_type": "subslide"
    }
   },
   "source": [
    "### Generalizable Paths\n",
    "\n",
    "Using `can_generalize()`, we can devise a method `generalizable_paths()` that returns all paths in the tree that can be generalized."
   ]
  },
  {
   "cell_type": "code",
   "execution_count": 69,
   "metadata": {
    "execution": {
     "iopub.execute_input": "2022-08-06T23:06:44.538710Z",
     "iopub.status.busy": "2022-08-06T23:06:44.538395Z",
     "iopub.status.idle": "2022-08-06T23:06:44.539602Z",
     "shell.execute_reply": "2022-08-06T23:06:44.539913Z"
    },
    "slideshow": {
     "slide_type": "subslide"
    }
   },
   "outputs": [],
   "source": [
    "class TreeGeneralizer(TreeGeneralizer):\n",
    "    def find_paths(self, \n",
    "                   predicate: Callable[[TreePath, DerivationTree], bool], \n",
    "                   path: Optional[TreePath] = None, \n",
    "                   tree: Optional[DerivationTree] = None) -> List[TreePath]:\n",
    "        \"\"\"\n",
    "        Return a list of all paths for which `predicate` holds.\n",
    "        `predicate` is a function `predicate`(`path`, `tree`), where\n",
    "        `path` denotes a subtree in `tree`. If `predicate()` returns\n",
    "        True, `path` is included in the returned list.\n",
    "        \"\"\"\n",
    "\n",
    "        if path is None:\n",
    "            path = []\n",
    "        assert path is not None\n",
    "\n",
    "        if tree is None:\n",
    "            tree = self.tree\n",
    "        assert tree is not None\n",
    "\n",
    "        symbol, children = self.get_subtree(path)\n",
    "\n",
    "        if predicate(path, tree):\n",
    "            return [path]\n",
    "\n",
    "        paths = []\n",
    "        if children is not None:\n",
    "            for i, child in enumerate(children):\n",
    "                child_symbol, _ = child\n",
    "                if child_symbol in self.grammar:\n",
    "                    paths += self.find_paths(predicate, path + [i])\n",
    "\n",
    "        return paths\n",
    "\n",
    "    def generalizable_paths(self) -> List[TreePath]:\n",
    "        \"\"\"Return a list of all paths whose subtrees can be generalized.\"\"\"\n",
    "        return self.find_paths(self.can_generalize)"
   ]
  },
  {
   "cell_type": "markdown",
   "metadata": {
    "slideshow": {
     "slide_type": "subslide"
    }
   },
   "source": [
    "Here is `generalizable_paths()` in action. We obtain all (paths to) subtrees that can be generalized:"
   ]
  },
  {
   "cell_type": "code",
   "execution_count": 70,
   "metadata": {
    "execution": {
     "iopub.execute_input": "2022-08-06T23:06:44.561990Z",
     "iopub.status.busy": "2022-08-06T23:06:44.561659Z",
     "iopub.status.idle": "2022-08-06T23:06:44.562925Z",
     "shell.execute_reply": "2022-08-06T23:06:44.563199Z"
    },
    "slideshow": {
     "slide_type": "fragment"
    }
   },
   "outputs": [
    {
     "data": {
      "text/plain": [
       "[[0, 0, 0], [0, 0, 1, 0, 1, 0], [0, 0, 1, 0, 1, 1], [0, 0, 2]]"
      ]
     },
     "execution_count": 70,
     "metadata": {},
     "output_type": "execute_result"
    }
   ],
   "source": [
    "bad_input_generalizable_paths = \\\n",
    "    cast(TreeGeneralizer, bad_input_tree_generalizer()).generalizable_paths()\n",
    "bad_input_generalizable_paths"
   ]
  },
  {
   "cell_type": "markdown",
   "metadata": {
    "slideshow": {
     "slide_type": "fragment"
    }
   },
   "source": [
    "To convert these subtrees into abstract failure-inducing patterns, the method `generalize_path()` returns a copy of the tree with the subtree replaced by a nonterminal without children:"
   ]
  },
  {
   "cell_type": "code",
   "execution_count": 71,
   "metadata": {
    "execution": {
     "iopub.execute_input": "2022-08-06T23:06:44.566050Z",
     "iopub.status.busy": "2022-08-06T23:06:44.565730Z",
     "iopub.status.idle": "2022-08-06T23:06:44.566866Z",
     "shell.execute_reply": "2022-08-06T23:06:44.567186Z"
    },
    "slideshow": {
     "slide_type": "subslide"
    }
   },
   "outputs": [],
   "source": [
    "class TreeGeneralizer(TreeGeneralizer):\n",
    "    def generalize_path(self, path: TreePath, \n",
    "                        tree: Optional[DerivationTree] = None) -> DerivationTree:\n",
    "        \"\"\"Return a copy of the tree in which the subtree at `path`\n",
    "        is generalized (= replaced by a nonterminal without children)\"\"\"\n",
    "\n",
    "        if tree is None:\n",
    "            tree = self.tree\n",
    "        assert tree is not None\n",
    "\n",
    "        symbol, children = tree\n",
    "\n",
    "        if not path or children is None:\n",
    "            return symbol, None  # Nonterminal without children\n",
    "\n",
    "        head = path[0]\n",
    "        new_children = (children[:head] +\n",
    "                        [self.generalize_path(path[1:], children[head])] +\n",
    "                        children[head + 1:])\n",
    "        return symbol, new_children"
   ]
  },
  {
   "cell_type": "markdown",
   "metadata": {
    "slideshow": {
     "slide_type": "subslide"
    }
   },
   "source": [
    "The function `all_terminals()` expands these placeholders:"
   ]
  },
  {
   "cell_type": "code",
   "execution_count": 72,
   "metadata": {
    "execution": {
     "iopub.execute_input": "2022-08-06T23:06:44.569690Z",
     "iopub.status.busy": "2022-08-06T23:06:44.568429Z",
     "iopub.status.idle": "2022-08-06T23:06:44.571094Z",
     "shell.execute_reply": "2022-08-06T23:06:44.571280Z"
    },
    "slideshow": {
     "slide_type": "fragment"
    }
   },
   "outputs": [
    {
     "data": {
      "text/plain": [
       "'<opening-tag>\"bar<plain-text></foo>'"
      ]
     },
     "execution_count": 72,
     "metadata": {},
     "output_type": "execute_result"
    }
   ],
   "source": [
    "all_terminals(cast(TreeGeneralizer, bad_input_tree_generalizer()).generalize_path([0, 0, 0]))"
   ]
  },
  {
   "cell_type": "markdown",
   "metadata": {
    "slideshow": {
     "slide_type": "fragment"
    }
   },
   "source": [
    "Finally, the method `generalize()` obtains a tree in which all generalizable paths actually are generalized:"
   ]
  },
  {
   "cell_type": "code",
   "execution_count": 73,
   "metadata": {
    "execution": {
     "iopub.execute_input": "2022-08-06T23:06:44.573756Z",
     "iopub.status.busy": "2022-08-06T23:06:44.573430Z",
     "iopub.status.idle": "2022-08-06T23:06:44.574738Z",
     "shell.execute_reply": "2022-08-06T23:06:44.574944Z"
    },
    "slideshow": {
     "slide_type": "subslide"
    }
   },
   "outputs": [],
   "source": [
    "class TreeGeneralizer(TreeGeneralizer):\n",
    "    def generalize(self) -> DerivationTree:\n",
    "        \"\"\"Returns a copy of the tree in which all generalizable subtrees\n",
    "        are generalized (= replaced by nonterminals without children)\"\"\"\n",
    "        tree = self.tree\n",
    "        assert tree is not None\n",
    "\n",
    "        for path in self.generalizable_paths():\n",
    "            tree = self.generalize_path(path, tree)\n",
    "\n",
    "        return tree"
   ]
  },
  {
   "cell_type": "code",
   "execution_count": 74,
   "metadata": {
    "execution": {
     "iopub.execute_input": "2022-08-06T23:06:44.593899Z",
     "iopub.status.busy": "2022-08-06T23:06:44.593487Z",
     "iopub.status.idle": "2022-08-06T23:06:44.594636Z",
     "shell.execute_reply": "2022-08-06T23:06:44.595012Z"
    },
    "slideshow": {
     "slide_type": "fragment"
    }
   },
   "outputs": [],
   "source": [
    "abstract_failure_inducing_input = cast(TreeGeneralizer, bad_input_tree_generalizer()).generalize()"
   ]
  },
  {
   "cell_type": "markdown",
   "metadata": {
    "slideshow": {
     "slide_type": "fragment"
    }
   },
   "source": [
    "This gives us the final generalization of `BAD_INPUT`. In the abstract failure-inducing input, all generalizable elements are generalized."
   ]
  },
  {
   "cell_type": "code",
   "execution_count": 75,
   "metadata": {
    "execution": {
     "iopub.execute_input": "2022-08-06T23:06:44.597581Z",
     "iopub.status.busy": "2022-08-06T23:06:44.597141Z",
     "iopub.status.idle": "2022-08-06T23:06:44.598601Z",
     "shell.execute_reply": "2022-08-06T23:06:44.598811Z"
    },
    "slideshow": {
     "slide_type": "subslide"
    }
   },
   "outputs": [
    {
     "data": {
      "text/plain": [
       "'<opening-tag>\"<plain-text><closing-tag>'"
      ]
     },
     "execution_count": 75,
     "metadata": {},
     "output_type": "execute_result"
    }
   ],
   "source": [
    "all_terminals(abstract_failure_inducing_input)"
   ]
  },
  {
   "cell_type": "markdown",
   "metadata": {
    "slideshow": {
     "slide_type": "fragment"
    }
   },
   "source": [
    "We see that to obtain the failure, it suffices to have an `<opening-tag>`, followed by a quote and (any) `<plain-text>` and (any) `<closing-tag>`. Clearly, all that it takes to produce the failure is to have a double quote in the plain text."
   ]
  },
  {
   "cell_type": "markdown",
   "metadata": {
    "slideshow": {
     "slide_type": "fragment"
    }
   },
   "source": [
    "Also note how this diagnosis was reached through _experiments_ only – just as with [delta debugging](DeltaDebugger.ipynb), we could treat the program under test as a black box. In contrast to delta debugging, however, we obtain an _abstraction_ that generalizes the circumstances under which a given failure occurs."
   ]
  },
  {
   "cell_type": "markdown",
   "metadata": {
    "slideshow": {
     "slide_type": "slide"
    }
   },
   "source": [
    "## Fuzzing with Patterns\n",
    "\n",
    "One neat side effect of abstract failure-inducing patterns is that they can be easily instantiated into further test cases, all set to reproduce the failure in question. This gives us a test suite we can later test our fix against."
   ]
  },
  {
   "cell_type": "markdown",
   "metadata": {
    "slideshow": {
     "slide_type": "fragment"
    }
   },
   "source": [
    "The method `fuzz_tree()` takes a tree representing an abstract failure-inducing input and instantiates all missing subtrees."
   ]
  },
  {
   "cell_type": "code",
   "execution_count": 76,
   "metadata": {
    "execution": {
     "iopub.execute_input": "2022-08-06T23:06:44.601276Z",
     "iopub.status.busy": "2022-08-06T23:06:44.600881Z",
     "iopub.status.idle": "2022-08-06T23:06:44.602181Z",
     "shell.execute_reply": "2022-08-06T23:06:44.602491Z"
    },
    "slideshow": {
     "slide_type": "skip"
    }
   },
   "outputs": [],
   "source": [
    "import copy"
   ]
  },
  {
   "cell_type": "code",
   "execution_count": 77,
   "metadata": {
    "execution": {
     "iopub.execute_input": "2022-08-06T23:06:44.604631Z",
     "iopub.status.busy": "2022-08-06T23:06:44.604325Z",
     "iopub.status.idle": "2022-08-06T23:06:44.605426Z",
     "shell.execute_reply": "2022-08-06T23:06:44.605599Z"
    },
    "slideshow": {
     "slide_type": "fragment"
    }
   },
   "outputs": [],
   "source": [
    "class TreeGeneralizer(TreeGeneralizer):\n",
    "    def fuzz_tree(self, tree: DerivationTree) -> DerivationTree:\n",
    "        \"\"\"Return an instantiated copy of `tree`.\"\"\"\n",
    "        tree = copy.deepcopy(tree)\n",
    "        return self.fuzzer.expand_tree(tree)"
   ]
  },
  {
   "cell_type": "code",
   "execution_count": 78,
   "metadata": {
    "execution": {
     "iopub.execute_input": "2022-08-06T23:06:44.622535Z",
     "iopub.status.busy": "2022-08-06T23:06:44.622207Z",
     "iopub.status.idle": "2022-08-06T23:06:44.623619Z",
     "shell.execute_reply": "2022-08-06T23:06:44.623859Z"
    },
    "slideshow": {
     "slide_type": "subslide"
    }
   },
   "outputs": [
    {
     "name": "stdout",
     "output_type": "stream",
     "text": [
      "<UzL3Ct6>\"</p>\n",
      "<nw10E6>\"</W>\n",
      "<h lV=\"'\">\"</x8>\n",
      "<k>\"</u>\n",
      "<a0 l0820650g='3'>\"</v5t>\n",
      "<zTg>\"</o1Z>\n",
      "<yMgT02p s=\"\" g94e='R'>\"</P2>\n",
      "<Y>\"</S9b>\n",
      "<X2566xS8v2>\"</r13>\n",
      "<D48>\"\t</R>\n"
     ]
    }
   ],
   "source": [
    "bitg = cast(TreeGeneralizer, bad_input_tree_generalizer())\n",
    "for i in range(10):\n",
    "    print(all_terminals(bitg.fuzz_tree(abstract_failure_inducing_input)))"
   ]
  },
  {
   "cell_type": "markdown",
   "metadata": {
    "slideshow": {
     "slide_type": "subslide"
    }
   },
   "source": [
    "We can take these inputs and see whether they reproduce the failure in question:"
   ]
  },
  {
   "cell_type": "code",
   "execution_count": 79,
   "metadata": {
    "execution": {
     "iopub.execute_input": "2022-08-06T23:06:44.717989Z",
     "iopub.status.busy": "2022-08-06T23:06:44.674672Z",
     "iopub.status.idle": "2022-08-06T23:06:46.501131Z",
     "shell.execute_reply": "2022-08-06T23:06:46.501496Z"
    },
    "slideshow": {
     "slide_type": "fragment"
    }
   },
   "outputs": [],
   "source": [
    "successes = 0\n",
    "failures = 0\n",
    "trials = 1000\n",
    "\n",
    "for i in range(trials):\n",
    "    test_input = all_terminals(\n",
    "        bitg.fuzz_tree(abstract_failure_inducing_input))\n",
    "    try:\n",
    "        remove_html_markup(test_input)\n",
    "    except AssertionError:\n",
    "        successes += 1\n",
    "    else:\n",
    "        failures += 1"
   ]
  },
  {
   "cell_type": "code",
   "execution_count": 80,
   "metadata": {
    "execution": {
     "iopub.execute_input": "2022-08-06T23:06:46.504474Z",
     "iopub.status.busy": "2022-08-06T23:06:46.504106Z",
     "iopub.status.idle": "2022-08-06T23:06:46.505811Z",
     "shell.execute_reply": "2022-08-06T23:06:46.506133Z"
    },
    "slideshow": {
     "slide_type": "subslide"
    }
   },
   "outputs": [
    {
     "data": {
      "text/plain": [
       "(982, 18)"
      ]
     },
     "execution_count": 80,
     "metadata": {},
     "output_type": "execute_result"
    }
   ],
   "source": [
    "successes, failures"
   ]
  },
  {
   "cell_type": "markdown",
   "metadata": {
    "slideshow": {
     "slide_type": "fragment"
    }
   },
   "source": [
    "We get an overall failure rate of ~98%, which is not bad at all."
   ]
  },
  {
   "cell_type": "code",
   "execution_count": 81,
   "metadata": {
    "execution": {
     "iopub.execute_input": "2022-08-06T23:06:46.509345Z",
     "iopub.status.busy": "2022-08-06T23:06:46.508607Z",
     "iopub.status.idle": "2022-08-06T23:06:46.510669Z",
     "shell.execute_reply": "2022-08-06T23:06:46.511259Z"
    },
    "slideshow": {
     "slide_type": "fragment"
    }
   },
   "outputs": [
    {
     "data": {
      "text/plain": [
       "0.018"
      ]
     },
     "execution_count": 81,
     "metadata": {},
     "output_type": "execute_result"
    }
   ],
   "source": [
    "failures / 1000"
   ]
  },
  {
   "cell_type": "markdown",
   "metadata": {
    "slideshow": {
     "slide_type": "fragment"
    }
   },
   "source": [
    "In our case, it is _overgeneralization_ (as discussed above) that is responsible for not reaching a 100% rate. (In all generality, we are trying to approximate the behavior of a Turing machine with a context free grammar, which is, well, always an approximation.) However, even a lower rate would still be useful, as any additional test case that reproduces a failure helps in ensuring the final fix is complete."
   ]
  },
  {
   "cell_type": "markdown",
   "metadata": {
    "slideshow": {
     "slide_type": "slide"
    }
   },
   "source": [
    "## Putting it all Together\n",
    "\n",
    "Let us now put together all this in a more convenient package that does not require the user to parse and unparse derivation trees."
   ]
  },
  {
   "cell_type": "markdown",
   "metadata": {
    "slideshow": {
     "slide_type": "subslide"
    }
   },
   "source": [
    "Our `DDSetDebugger` is modeled after the `DeltaDebugger` from [the chapter on delta debugging](DeltaDebugger.ipynb). It is to be used as\n",
    "\n",
    "```python\n",
    "with DDSetDebugger(grammar) as dd:\n",
    "    some_failing_function(...)\n",
    "```\n",
    "\n",
    "After that, evaluating `dd` yields a generalized abstract failure-inducing input as a string."
   ]
  },
  {
   "cell_type": "markdown",
   "metadata": {
    "slideshow": {
     "slide_type": "fragment"
    }
   },
   "source": [
    "Since `DDSetDebugger` accepts only one grammar, the function to be debugged should have exactly one string argument (besides other arguments); this string must fit the grammar."
   ]
  },
  {
   "cell_type": "markdown",
   "metadata": {
    "slideshow": {
     "slide_type": "subslide"
    }
   },
   "source": [
    "### Constructor"
   ]
  },
  {
   "cell_type": "markdown",
   "metadata": {
    "slideshow": {
     "slide_type": "fragment"
    }
   },
   "source": [
    "The constructor puts together the various components. It allows for customization by subclassing."
   ]
  },
  {
   "cell_type": "code",
   "execution_count": 82,
   "metadata": {
    "execution": {
     "iopub.execute_input": "2022-08-06T23:06:46.513821Z",
     "iopub.status.busy": "2022-08-06T23:06:46.513385Z",
     "iopub.status.idle": "2022-08-06T23:06:46.515028Z",
     "shell.execute_reply": "2022-08-06T23:06:46.515305Z"
    },
    "slideshow": {
     "slide_type": "skip"
    }
   },
   "outputs": [],
   "source": [
    "from DeltaDebugger import CallCollector"
   ]
  },
  {
   "cell_type": "code",
   "execution_count": 83,
   "metadata": {
    "execution": {
     "iopub.execute_input": "2022-08-06T23:06:46.519687Z",
     "iopub.status.busy": "2022-08-06T23:06:46.519011Z",
     "iopub.status.idle": "2022-08-06T23:06:46.520716Z",
     "shell.execute_reply": "2022-08-06T23:06:46.521079Z"
    },
    "slideshow": {
     "slide_type": "subslide"
    }
   },
   "outputs": [],
   "source": [
    "class DDSetDebugger(CallCollector):\n",
    "    \"\"\"\n",
    "    Debugger implementing the DDSET algorithm for abstracting failure-inducing inputs.\n",
    "    \"\"\"\n",
    "\n",
    "    def __init__(self, grammar: Grammar, \n",
    "                 generalizer_class: Type = TreeGeneralizer,\n",
    "                 parser: Optional[Parser] = None,\n",
    "                 **kwargs: Any) -> None:\n",
    "        \"\"\"Constructor.\n",
    "        `grammar` is an input grammar in fuzzingbook format.\n",
    "        `generalizer_class` is the tree generalizer class to use\n",
    "        (default: `TreeGeneralizer`)\n",
    "        `parser` is the parser to use (default: `EarleyParser(grammar)`).\n",
    "        All other keyword args are passed to the tree generalizer, notably:\n",
    "        `fuzzer` - the fuzzer to use (default: `GrammarFuzzer`), and\n",
    "        `log` - enables debugging output if True.\n",
    "        \"\"\"\n",
    "        super().__init__()\n",
    "        self.grammar = grammar\n",
    "        assert is_valid_grammar(grammar)\n",
    "\n",
    "        self.generalizer_class = generalizer_class\n",
    "\n",
    "        if parser is None:\n",
    "            parser = EarleyParser(grammar)\n",
    "        self.parser = parser\n",
    "        self.kwargs = kwargs\n",
    "\n",
    "        # These save state for further fuzz() calls\n",
    "        self.generalized_args: Dict[str, Any] = {}\n",
    "        self.generalized_trees: Dict[str, DerivationTree] = {}\n",
    "        self.generalizers: Dict[str, TreeGeneralizer] = {}"
   ]
  },
  {
   "cell_type": "markdown",
   "metadata": {
    "slideshow": {
     "slide_type": "subslide"
    }
   },
   "source": [
    "### Generalizing Arguments"
   ]
  },
  {
   "cell_type": "markdown",
   "metadata": {
    "slideshow": {
     "slide_type": "fragment"
    }
   },
   "source": [
    "The method `generalize()` is the many entry point. For all string arguments collected in the first function call, it generalizes the arguments and returns an abstract failure-inducing string."
   ]
  },
  {
   "cell_type": "code",
   "execution_count": 84,
   "metadata": {
    "execution": {
     "iopub.execute_input": "2022-08-06T23:06:46.525462Z",
     "iopub.status.busy": "2022-08-06T23:06:46.525148Z",
     "iopub.status.idle": "2022-08-06T23:06:46.526472Z",
     "shell.execute_reply": "2022-08-06T23:06:46.526757Z"
    },
    "slideshow": {
     "slide_type": "subslide"
    }
   },
   "outputs": [],
   "source": [
    "class DDSetDebugger(DDSetDebugger):\n",
    "    def generalize(self) -> Dict[str, Any]:\n",
    "        \"\"\"\n",
    "        Generalize arguments seen. For each function argument,\n",
    "        produce an abstract failure-inducing input that characterizes\n",
    "        the set of inputs for which the function fails.\n",
    "        \"\"\"\n",
    "        if self.generalized_args:\n",
    "            return self.generalized_args\n",
    "\n",
    "        self.generalized_args = copy.deepcopy(self.args())\n",
    "        self.generalized_trees = {}\n",
    "        self.generalizers = {}\n",
    "\n",
    "        for arg in self.args():\n",
    "            def test(value: Any) -> Any:\n",
    "                return self.call({arg: value})\n",
    "\n",
    "            value = self.args()[arg]\n",
    "            if isinstance(value, str):\n",
    "                tree = list(self.parser.parse(value))[0]\n",
    "                gen = self.generalizer_class(self.grammar, tree, test, \n",
    "                                             **self.kwargs)\n",
    "                generalized_tree = gen.generalize()\n",
    "\n",
    "                self.generalizers[arg] = gen\n",
    "                self.generalized_trees[arg] = generalized_tree\n",
    "                self.generalized_args[arg] = all_terminals(generalized_tree)\n",
    "\n",
    "        return self.generalized_args"
   ]
  },
  {
   "cell_type": "code",
   "execution_count": 85,
   "metadata": {
    "execution": {
     "iopub.execute_input": "2022-08-06T23:06:46.529145Z",
     "iopub.status.busy": "2022-08-06T23:06:46.528740Z",
     "iopub.status.idle": "2022-08-06T23:06:46.530363Z",
     "shell.execute_reply": "2022-08-06T23:06:46.530722Z"
    },
    "slideshow": {
     "slide_type": "subslide"
    }
   },
   "outputs": [],
   "source": [
    "class DDSetDebugger(DDSetDebugger):\n",
    "    def __repr__(self) -> str:\n",
    "        \"\"\"Return a string representation of the generalized call.\"\"\"\n",
    "        return self.format_call(self.generalize())"
   ]
  },
  {
   "cell_type": "markdown",
   "metadata": {
    "slideshow": {
     "slide_type": "fragment"
    }
   },
   "source": [
    "Here is an example of how `DDSetDebugger` would be used on our `BAD_INPUT` example. Simply evaluating the debugger yields a call with a generalized input."
   ]
  },
  {
   "cell_type": "code",
   "execution_count": 86,
   "metadata": {
    "execution": {
     "iopub.execute_input": "2022-08-06T23:06:46.556040Z",
     "iopub.status.busy": "2022-08-06T23:06:46.555700Z",
     "iopub.status.idle": "2022-08-06T23:06:46.557261Z",
     "shell.execute_reply": "2022-08-06T23:06:46.557478Z"
    },
    "slideshow": {
     "slide_type": "fragment"
    }
   },
   "outputs": [
    {
     "data": {
      "text/plain": [
       "remove_html_markup(s='<opening-tag>\"<plain-text><closing-tag>')"
      ]
     },
     "execution_count": 86,
     "metadata": {},
     "output_type": "execute_result"
    }
   ],
   "source": [
    "with DDSetDebugger(SIMPLE_HTML_GRAMMAR) as dd:\n",
    "    remove_html_markup(BAD_INPUT)\n",
    "dd"
   ]
  },
  {
   "cell_type": "markdown",
   "metadata": {
    "slideshow": {
     "slide_type": "subslide"
    }
   },
   "source": [
    "### Fuzzing\n",
    "\n",
    "The `fuzz()` method produces instantiations of the abstract failure-inducing pattern."
   ]
  },
  {
   "cell_type": "code",
   "execution_count": 87,
   "metadata": {
    "execution": {
     "iopub.execute_input": "2022-08-06T23:06:46.560834Z",
     "iopub.status.busy": "2022-08-06T23:06:46.560422Z",
     "iopub.status.idle": "2022-08-06T23:06:46.561705Z",
     "shell.execute_reply": "2022-08-06T23:06:46.561963Z"
    },
    "slideshow": {
     "slide_type": "subslide"
    }
   },
   "outputs": [],
   "source": [
    "class DDSetDebugger(DDSetDebugger):\n",
    "    def fuzz_args(self) -> Dict[str, Any]:\n",
    "        \"\"\"\n",
    "        Return arguments randomly instantiated\n",
    "        from the abstract failure-inducing pattern.\n",
    "        \"\"\"\n",
    "        if not self.generalized_trees:\n",
    "            self.generalize()\n",
    "\n",
    "        args = copy.deepcopy(self.generalized_args)\n",
    "        for arg in args:\n",
    "            if arg not in self.generalized_trees:\n",
    "                continue\n",
    "\n",
    "            tree = self.generalized_trees[arg]\n",
    "            gen = self.generalizers[arg]\n",
    "            instantiated_tree = gen.fuzz_tree(tree)\n",
    "            args[arg] = all_terminals(instantiated_tree)\n",
    "\n",
    "        return args\n",
    "\n",
    "    def fuzz(self) -> str:\n",
    "        \"\"\"\n",
    "        Return a call with arguments randomly instantiated\n",
    "        from the abstract failure-inducing pattern.\n",
    "        \"\"\"\n",
    "        return self.format_call(self.fuzz_args())"
   ]
  },
  {
   "cell_type": "markdown",
   "metadata": {
    "slideshow": {
     "slide_type": "subslide"
    }
   },
   "source": [
    "Here are some axamples of `fuzz()` in action:"
   ]
  },
  {
   "cell_type": "code",
   "execution_count": 88,
   "metadata": {
    "execution": {
     "iopub.execute_input": "2022-08-06T23:06:46.564630Z",
     "iopub.status.busy": "2022-08-06T23:06:46.564331Z",
     "iopub.status.idle": "2022-08-06T23:06:46.565490Z",
     "shell.execute_reply": "2022-08-06T23:06:46.565680Z"
    },
    "slideshow": {
     "slide_type": "fragment"
    }
   },
   "outputs": [],
   "source": [
    "with DDSetDebugger(SIMPLE_HTML_GRAMMAR) as dd:\n",
    "    remove_html_markup(BAD_INPUT)"
   ]
  },
  {
   "cell_type": "code",
   "execution_count": 89,
   "metadata": {
    "execution": {
     "iopub.execute_input": "2022-08-06T23:06:46.591736Z",
     "iopub.status.busy": "2022-08-06T23:06:46.591383Z",
     "iopub.status.idle": "2022-08-06T23:06:46.592962Z",
     "shell.execute_reply": "2022-08-06T23:06:46.593201Z"
    },
    "slideshow": {
     "slide_type": "fragment"
    }
   },
   "outputs": [
    {
     "data": {
      "text/plain": [
       "'remove_html_markup(s=\\'<Xq>\"</j>\\')'"
      ]
     },
     "execution_count": 89,
     "metadata": {},
     "output_type": "execute_result"
    }
   ],
   "source": [
    "dd.fuzz()"
   ]
  },
  {
   "cell_type": "code",
   "execution_count": 90,
   "metadata": {
    "execution": {
     "iopub.execute_input": "2022-08-06T23:06:46.597948Z",
     "iopub.status.busy": "2022-08-06T23:06:46.597585Z",
     "iopub.status.idle": "2022-08-06T23:06:46.600066Z",
     "shell.execute_reply": "2022-08-06T23:06:46.600478Z"
    },
    "slideshow": {
     "slide_type": "fragment"
    }
   },
   "outputs": [
    {
     "data": {
      "text/plain": [
       "'remove_html_markup(s=\\'<L89B6b9vz>\"\\\\t</a3>\\')'"
      ]
     },
     "execution_count": 90,
     "metadata": {},
     "output_type": "execute_result"
    }
   ],
   "source": [
    "dd.fuzz()"
   ]
  },
  {
   "cell_type": "code",
   "execution_count": 91,
   "metadata": {
    "execution": {
     "iopub.execute_input": "2022-08-06T23:06:46.606627Z",
     "iopub.status.busy": "2022-08-06T23:06:46.606243Z",
     "iopub.status.idle": "2022-08-06T23:06:46.607866Z",
     "shell.execute_reply": "2022-08-06T23:06:46.608096Z"
    },
    "slideshow": {
     "slide_type": "fragment"
    }
   },
   "outputs": [
    {
     "data": {
      "text/plain": [
       "'remove_html_markup(s=\\'<Z VF=\\\\\\'\\\\\\' l=\"_-(\">\")</Y>\\')'"
      ]
     },
     "execution_count": 91,
     "metadata": {},
     "output_type": "execute_result"
    }
   ],
   "source": [
    "dd.fuzz()"
   ]
  },
  {
   "cell_type": "markdown",
   "metadata": {
    "slideshow": {
     "slide_type": "fragment"
    }
   },
   "source": [
    " These can be fed into `eval()`, set to produce more failing calls."
   ]
  },
  {
   "cell_type": "code",
   "execution_count": 92,
   "metadata": {
    "execution": {
     "iopub.execute_input": "2022-08-06T23:06:46.612123Z",
     "iopub.status.busy": "2022-08-06T23:06:46.611730Z",
     "iopub.status.idle": "2022-08-06T23:06:46.613884Z",
     "shell.execute_reply": "2022-08-06T23:06:46.614136Z"
    },
    "slideshow": {
     "slide_type": "subslide"
    }
   },
   "outputs": [
    {
     "name": "stderr",
     "output_type": "stream",
     "text": [
      "Traceback (most recent call last):\n",
      "  File \"/var/folders/n2/xd9445p97rb3xh7m1dfx8_4h0006ts/T/ipykernel_3860/2072246869.py\", line 2, in <module>\n",
      "    eval(dd.fuzz())\n",
      "  File \"<string>\", line 1, in <module>\n",
      "  File \"/var/folders/n2/xd9445p97rb3xh7m1dfx8_4h0006ts/T/ipykernel_3860/2717035104.py\", line 17, in remove_html_markup\n",
      "    assert '<' not in out and '>' not in out\n",
      "AssertionError (expected)\n"
     ]
    }
   ],
   "source": [
    "with ExpectError(AssertionError):\n",
    "    eval(dd.fuzz())"
   ]
  },
  {
   "cell_type": "markdown",
   "metadata": {
    "slideshow": {
     "slide_type": "slide"
    }
   },
   "source": [
    "## More Examples\n",
    "\n",
    "Let us apply `DDSetDebugger` on more examples."
   ]
  },
  {
   "cell_type": "markdown",
   "metadata": {
    "slideshow": {
     "slide_type": "subslide"
    }
   },
   "source": [
    "### Square Root\n",
    "\n",
    "Our first example is the `square_root()` function from [the chapter on assertions](Assertions.ipynb)."
   ]
  },
  {
   "cell_type": "code",
   "execution_count": 93,
   "metadata": {
    "execution": {
     "iopub.execute_input": "2022-08-06T23:06:46.616701Z",
     "iopub.status.busy": "2022-08-06T23:06:46.616270Z",
     "iopub.status.idle": "2022-08-06T23:06:46.618084Z",
     "shell.execute_reply": "2022-08-06T23:06:46.618580Z"
    },
    "slideshow": {
     "slide_type": "skip"
    }
   },
   "outputs": [],
   "source": [
    "from Assertions import square_root  # minor dependency"
   ]
  },
  {
   "cell_type": "markdown",
   "metadata": {
    "slideshow": {
     "slide_type": "fragment"
    }
   },
   "source": [
    "The `square_root()` function fails on a value of `-1`:"
   ]
  },
  {
   "cell_type": "code",
   "execution_count": 94,
   "metadata": {
    "execution": {
     "iopub.execute_input": "2022-08-06T23:06:46.621592Z",
     "iopub.status.busy": "2022-08-06T23:06:46.620479Z",
     "iopub.status.idle": "2022-08-06T23:06:46.623097Z",
     "shell.execute_reply": "2022-08-06T23:06:46.623480Z"
    },
    "slideshow": {
     "slide_type": "fragment"
    }
   },
   "outputs": [
    {
     "name": "stderr",
     "output_type": "stream",
     "text": [
      "Traceback (most recent call last):\n",
      "  File \"/var/folders/n2/xd9445p97rb3xh7m1dfx8_4h0006ts/T/ipykernel_3860/1205325604.py\", line 2, in <module>\n",
      "    square_root(-1)\n",
      "  File \"/Users/zeller/Projects/debuggingbook/notebooks/Assertions.ipynb\", line 55, in square_root\n",
      "    assert x >= 0  # precondition\n",
      "AssertionError (expected)\n"
     ]
    }
   ],
   "source": [
    "with ExpectError(AssertionError):\n",
    "    square_root(-1)"
   ]
  },
  {
   "cell_type": "markdown",
   "metadata": {
    "slideshow": {
     "slide_type": "fragment"
    }
   },
   "source": [
    "We define a grammar for its arguments:"
   ]
  },
  {
   "cell_type": "code",
   "execution_count": 95,
   "metadata": {
    "button": false,
    "execution": {
     "iopub.execute_input": "2022-08-06T23:06:46.626573Z",
     "iopub.status.busy": "2022-08-06T23:06:46.626070Z",
     "iopub.status.idle": "2022-08-06T23:06:46.627485Z",
     "shell.execute_reply": "2022-08-06T23:06:46.627716Z"
    },
    "new_sheet": false,
    "run_control": {
     "read_only": false
    },
    "slideshow": {
     "slide_type": "subslide"
    }
   },
   "outputs": [],
   "source": [
    "INT_GRAMMAR: Grammar = {\n",
    "    \"<start>\":\n",
    "        [\"<int>\"],\n",
    "\n",
    "    \"<int>\":\n",
    "        [\"<positive-int>\", \"-<positive-int>\"],\n",
    "\n",
    "    \"<positive-int>\":\n",
    "        [\"<digit>\", \"<nonzero-digit><positive-int>\"],\n",
    "\n",
    "    \"<nonzero-digit>\": list(\"123456789\"),\n",
    "    \n",
    "    \"<digit>\": list(string.digits),\n",
    "}"
   ]
  },
  {
   "cell_type": "markdown",
   "metadata": {
    "slideshow": {
     "slide_type": "fragment"
    }
   },
   "source": [
    "The test function takes a string and converts it into an integer:"
   ]
  },
  {
   "cell_type": "code",
   "execution_count": 96,
   "metadata": {
    "execution": {
     "iopub.execute_input": "2022-08-06T23:06:46.630474Z",
     "iopub.status.busy": "2022-08-06T23:06:46.629926Z",
     "iopub.status.idle": "2022-08-06T23:06:46.631420Z",
     "shell.execute_reply": "2022-08-06T23:06:46.631816Z"
    },
    "slideshow": {
     "slide_type": "subslide"
    }
   },
   "outputs": [],
   "source": [
    "def square_root_test(s: str) -> None:\n",
    "    return square_root(int(s))"
   ]
  },
  {
   "cell_type": "markdown",
   "metadata": {
    "slideshow": {
     "slide_type": "fragment"
    }
   },
   "source": [
    "With this, we can go and see whether we can generalize a failing input:"
   ]
  },
  {
   "cell_type": "code",
   "execution_count": 97,
   "metadata": {
    "execution": {
     "iopub.execute_input": "2022-08-06T23:06:46.635615Z",
     "iopub.status.busy": "2022-08-06T23:06:46.634731Z",
     "iopub.status.idle": "2022-08-06T23:06:46.636547Z",
     "shell.execute_reply": "2022-08-06T23:06:46.636802Z"
    },
    "slideshow": {
     "slide_type": "fragment"
    }
   },
   "outputs": [],
   "source": [
    "with DDSetDebugger(INT_GRAMMAR, log=True) as dd_square_root:\n",
    "    square_root_test(\"-1\")"
   ]
  },
  {
   "cell_type": "code",
   "execution_count": 98,
   "metadata": {
    "execution": {
     "iopub.execute_input": "2022-08-06T23:06:46.641331Z",
     "iopub.status.busy": "2022-08-06T23:06:46.640241Z",
     "iopub.status.idle": "2022-08-06T23:06:46.643810Z",
     "shell.execute_reply": "2022-08-06T23:06:46.644020Z"
    },
    "slideshow": {
     "slide_type": "subslide"
    }
   },
   "outputs": [
    {
     "name": "stdout",
     "output_type": "stream",
     "text": [
      "Testing '-8'...FAIL (AssertionError)\n",
      "Testing '-316'...FAIL (AssertionError)\n",
      "Testing '8'...PASS\n",
      "Testing '684'...PASS\n",
      "Testing '-3'...FAIL (AssertionError)\n",
      "Testing '-870'...FAIL (AssertionError)\n",
      "Testing '-3'...FAIL (AssertionError)\n",
      "Testing '-3451'...FAIL (AssertionError)\n",
      "Testing '-8'...FAIL (AssertionError)\n",
      "Testing '-63213'...FAIL (AssertionError)\n",
      "Testing '-26'...FAIL (AssertionError)\n",
      "Testing '-4'...FAIL (AssertionError)\n",
      "Testing '-6'...FAIL (AssertionError)\n",
      "Testing '-8'...FAIL (AssertionError)\n"
     ]
    },
    {
     "data": {
      "text/plain": [
       "square_root_test(s='-<positive-int>')"
      ]
     },
     "execution_count": 98,
     "metadata": {},
     "output_type": "execute_result"
    }
   ],
   "source": [
    "dd_square_root"
   ]
  },
  {
   "cell_type": "markdown",
   "metadata": {
    "slideshow": {
     "slide_type": "subslide"
    }
   },
   "source": [
    "Success! Using `DDSetDebugger`, we have nicely generalized the failure-inducing input to a pattern `-<positive-int>` that translates into \"any negative number\"."
   ]
  },
  {
   "cell_type": "markdown",
   "metadata": {
    "slideshow": {
     "slide_type": "subslide"
    }
   },
   "source": [
    "### Middle\n",
    "\n",
    "The `middle()` function from [the chapter on statistical debugging](StatisticalDebugger.ipynb) returns the middle of three numerical values `x`, `y`, and `z`."
   ]
  },
  {
   "cell_type": "code",
   "execution_count": 99,
   "metadata": {
    "execution": {
     "iopub.execute_input": "2022-08-06T23:06:46.646100Z",
     "iopub.status.busy": "2022-08-06T23:06:46.645818Z",
     "iopub.status.idle": "2022-08-06T23:06:47.042511Z",
     "shell.execute_reply": "2022-08-06T23:06:47.042719Z"
    },
    "slideshow": {
     "slide_type": "skip"
    }
   },
   "outputs": [],
   "source": [
    "from StatisticalDebugger import middle  # minor dependency"
   ]
  },
  {
   "cell_type": "markdown",
   "metadata": {
    "slideshow": {
     "slide_type": "fragment"
    }
   },
   "source": [
    "We set up a test function that evaluates a string – a tuple of three arguments – and then tests `middle()`:"
   ]
  },
  {
   "cell_type": "code",
   "execution_count": 100,
   "metadata": {
    "execution": {
     "iopub.execute_input": "2022-08-06T23:06:47.045516Z",
     "iopub.status.busy": "2022-08-06T23:06:47.045128Z",
     "iopub.status.idle": "2022-08-06T23:06:47.046538Z",
     "shell.execute_reply": "2022-08-06T23:06:47.046718Z"
    },
    "slideshow": {
     "slide_type": "fragment"
    }
   },
   "outputs": [],
   "source": [
    "def middle_test(s: str) -> None:\n",
    "    x, y, z = eval(s)\n",
    "    assert middle(x, y, z) == sorted([x, y, z])[1]"
   ]
  },
  {
   "cell_type": "markdown",
   "metadata": {
    "slideshow": {
     "slide_type": "fragment"
    }
   },
   "source": [
    "The grammar for the three numbers simply puts three integers together:"
   ]
  },
  {
   "cell_type": "code",
   "execution_count": 101,
   "metadata": {
    "button": false,
    "execution": {
     "iopub.execute_input": "2022-08-06T23:06:47.049306Z",
     "iopub.status.busy": "2022-08-06T23:06:47.048940Z",
     "iopub.status.idle": "2022-08-06T23:06:47.050272Z",
     "shell.execute_reply": "2022-08-06T23:06:47.050514Z"
    },
    "new_sheet": false,
    "run_control": {
     "read_only": false
    },
    "slideshow": {
     "slide_type": "subslide"
    }
   },
   "outputs": [],
   "source": [
    "XYZ_GRAMMAR: Grammar = {\n",
    "    \"<start>\":\n",
    "        [\"<int>, <int>, <int>\"],\n",
    "\n",
    "    \"<int>\":\n",
    "        [\"<positive-int>\", \"-<positive-int>\"],\n",
    "\n",
    "    \"<positive-int>\":\n",
    "        [\"<digit>\", \"<nonzero-digit><positive-int>\"],\n",
    "\n",
    "    \"<nonzero-digit>\": list(\"123456789\"),\n",
    "    \n",
    "    \"<digit>\": list(string.digits),\n",
    "}"
   ]
  },
  {
   "cell_type": "markdown",
   "metadata": {
    "slideshow": {
     "slide_type": "fragment"
    }
   },
   "source": [
    "Here is an example of `middle()` failing:"
   ]
  },
  {
   "cell_type": "code",
   "execution_count": 102,
   "metadata": {
    "execution": {
     "iopub.execute_input": "2022-08-06T23:06:47.052605Z",
     "iopub.status.busy": "2022-08-06T23:06:47.052242Z",
     "iopub.status.idle": "2022-08-06T23:06:47.053784Z",
     "shell.execute_reply": "2022-08-06T23:06:47.053968Z"
    },
    "slideshow": {
     "slide_type": "subslide"
    }
   },
   "outputs": [
    {
     "name": "stderr",
     "output_type": "stream",
     "text": [
      "Traceback (most recent call last):\n",
      "  File \"/var/folders/n2/xd9445p97rb3xh7m1dfx8_4h0006ts/T/ipykernel_3860/982110330.py\", line 2, in <module>\n",
      "    middle_test(\"2, 1, 3\")\n",
      "  File \"/var/folders/n2/xd9445p97rb3xh7m1dfx8_4h0006ts/T/ipykernel_3860/3079946275.py\", line 3, in middle_test\n",
      "    assert middle(x, y, z) == sorted([x, y, z])[1]\n",
      "AssertionError (expected)\n"
     ]
    }
   ],
   "source": [
    "with ExpectError(AssertionError):\n",
    "    middle_test(\"2, 1, 3\")"
   ]
  },
  {
   "cell_type": "markdown",
   "metadata": {
    "slideshow": {
     "slide_type": "fragment"
    }
   },
   "source": [
    "What happens if we debug this with `DDSetDebugger`? We see that there is no abstraction at the syntax level that could characterize this failure:"
   ]
  },
  {
   "cell_type": "code",
   "execution_count": 103,
   "metadata": {
    "execution": {
     "iopub.execute_input": "2022-08-06T23:06:47.056002Z",
     "iopub.status.busy": "2022-08-06T23:06:47.055653Z",
     "iopub.status.idle": "2022-08-06T23:06:47.056876Z",
     "shell.execute_reply": "2022-08-06T23:06:47.057064Z"
    },
    "slideshow": {
     "slide_type": "fragment"
    }
   },
   "outputs": [],
   "source": [
    "with DDSetDebugger(XYZ_GRAMMAR, log=True) as dd_middle:\n",
    "    middle_test(\"2, 1, 3\")"
   ]
  },
  {
   "cell_type": "code",
   "execution_count": 104,
   "metadata": {
    "execution": {
     "iopub.execute_input": "2022-08-06T23:06:47.062044Z",
     "iopub.status.busy": "2022-08-06T23:06:47.061318Z",
     "iopub.status.idle": "2022-08-06T23:06:47.063735Z",
     "shell.execute_reply": "2022-08-06T23:06:47.063984Z"
    },
    "slideshow": {
     "slide_type": "subslide"
    }
   },
   "outputs": [
    {
     "name": "stdout",
     "output_type": "stream",
     "text": [
      "Testing '7, 4591, -0'...PASS\n",
      "Testing '6, 1, 3'...PASS\n",
      "Testing '7, 1, 3'...PASS\n",
      "Testing '7, 1, 3'...PASS\n",
      "Testing '2, -7, 3'...FAIL (AssertionError)\n",
      "Testing '2, 0, 3'...FAIL (AssertionError)\n",
      "Testing '2, -89, 3'...FAIL (AssertionError)\n",
      "Testing '2, 973, 3'...PASS\n",
      "Testing '2, 11, 3'...PASS\n",
      "Testing '2, 8, 3'...PASS\n",
      "Testing '2, 1, 9'...FAIL (AssertionError)\n",
      "Testing '2, 1, -16'...PASS\n",
      "Testing '2, 1, 35'...FAIL (AssertionError)\n",
      "Testing '2, 1, 6'...FAIL (AssertionError)\n",
      "Testing '2, 1, 53'...FAIL (AssertionError)\n",
      "Testing '2, 1, 5'...FAIL (AssertionError)\n",
      "Testing '2, 1, 737'...FAIL (AssertionError)\n",
      "Testing '2, 1, 28'...FAIL (AssertionError)\n",
      "Testing '2, 1, 3'...FAIL (AssertionError)\n",
      "Testing '2, 1, 5'...FAIL (AssertionError)\n",
      "Testing '2, 1, 5'...FAIL (AssertionError)\n",
      "Testing '2, 1, 56'...FAIL (AssertionError)\n"
     ]
    },
    {
     "data": {
      "text/plain": [
       "middle_test(s='2, 1, <positive-int>')"
      ]
     },
     "execution_count": 104,
     "metadata": {},
     "output_type": "execute_result"
    }
   ],
   "source": [
    "dd_middle"
   ]
  },
  {
   "cell_type": "markdown",
   "metadata": {
    "slideshow": {
     "slide_type": "subslide"
    }
   },
   "source": [
    "So, while there are failures that can be nicely characterized using abstractions of input elements, `middle()` is not one of them. Which is good, because this means that all our other techniques such as [statistical debugging](StatisticalDebugger.ipynb) and [dynamic invariants](DynamicInvariants.ipynb) still have a use case :-)"
   ]
  },
  {
   "cell_type": "markdown",
   "metadata": {
    "slideshow": {
     "slide_type": "slide"
    }
   },
   "source": [
    "## Synopsis"
   ]
  },
  {
   "cell_type": "markdown",
   "metadata": {
    "slideshow": {
     "slide_type": "subslide"
    }
   },
   "source": [
    "This chapter provides a class `DDSetDebugger`, implementing the DDSET algorithm for generalizing failure-inducing inputs. The `DDSetDebugger` is used as follows:\n",
    "\n",
    "```python\n",
    "with DDSetDebugger(grammar) as dd:\n",
    "    function(args...)\n",
    "dd\n",
    "```\n",
    "\n",
    "Here, `function(args...)` is a failing function call (= raises an execption) that takes at least one string argument; `grammar` is an [input grammar in fuzzingbook format](https://www.fuzzingbook.org/html/Grammars.html) that matches the format of this argument.\n",
    "\n",
    "The result is a call of `function()` with an _abstract failure-inducing input_ – a variant of the conrete input in which parts are replaced by placeholders in the form `<name>`, where `<name>` is a nonterminal in the grammar. The failure has been verified to occur for a number of instantiations of `<name>`."
   ]
  },
  {
   "cell_type": "markdown",
   "metadata": {
    "slideshow": {
     "slide_type": "subslide"
    }
   },
   "source": [
    "Here is an example of how `DDSetDebugger` works. The concrete failing input `<foo>\"bar</foo>` is generalized to an _abstract failure-inducing input_:"
   ]
  },
  {
   "cell_type": "code",
   "execution_count": 105,
   "metadata": {
    "execution": {
     "iopub.execute_input": "2022-08-06T23:06:47.080711Z",
     "iopub.status.busy": "2022-08-06T23:06:47.080266Z",
     "iopub.status.idle": "2022-08-06T23:06:47.082147Z",
     "shell.execute_reply": "2022-08-06T23:06:47.082348Z"
    },
    "slideshow": {
     "slide_type": "fragment"
    }
   },
   "outputs": [
    {
     "data": {
      "text/plain": [
       "remove_html_markup(s='<lt><id><gt>\"<plain-text><closing-tag>')"
      ]
     },
     "execution_count": 105,
     "metadata": {},
     "output_type": "execute_result"
    }
   ],
   "source": [
    "with DDSetDebugger(SIMPLE_HTML_GRAMMAR) as dd:\n",
    "    remove_html_markup('<foo>\"bar</foo>')\n",
    "dd"
   ]
  },
  {
   "cell_type": "markdown",
   "metadata": {
    "slideshow": {
     "slide_type": "fragment"
    }
   },
   "source": [
    "The abstract input tells us that the failure occurs for whatever opening and closing HTML tags as long as there is a double quote between them."
   ]
  },
  {
   "cell_type": "markdown",
   "metadata": {
    "slideshow": {
     "slide_type": "fragment"
    }
   },
   "source": [
    "A programmatic interface is available as well. `generalize()` returns a mapping of argument names to (generalized) values:"
   ]
  },
  {
   "cell_type": "code",
   "execution_count": 106,
   "metadata": {
    "execution": {
     "iopub.execute_input": "2022-08-06T23:06:47.084985Z",
     "iopub.status.busy": "2022-08-06T23:06:47.084657Z",
     "iopub.status.idle": "2022-08-06T23:06:47.086059Z",
     "shell.execute_reply": "2022-08-06T23:06:47.086238Z"
    },
    "slideshow": {
     "slide_type": "fragment"
    }
   },
   "outputs": [
    {
     "data": {
      "text/plain": [
       "{'s': '<lt><id><gt>\"<plain-text><closing-tag>'}"
      ]
     },
     "execution_count": 106,
     "metadata": {},
     "output_type": "execute_result"
    }
   ],
   "source": [
    "dd.generalize()"
   ]
  },
  {
   "cell_type": "markdown",
   "metadata": {
    "slideshow": {
     "slide_type": "subslide"
    }
   },
   "source": [
    "Using `fuzz()`, the abstract input can be instantiated to further concrete inputs, all set to produce the failure again:"
   ]
  },
  {
   "cell_type": "code",
   "execution_count": 107,
   "metadata": {
    "execution": {
     "iopub.execute_input": "2022-08-06T23:06:47.098867Z",
     "iopub.status.busy": "2022-08-06T23:06:47.090641Z",
     "iopub.status.idle": "2022-08-06T23:06:47.100447Z",
     "shell.execute_reply": "2022-08-06T23:06:47.100702Z"
    },
    "slideshow": {
     "slide_type": "fragment"
    }
   },
   "outputs": [
    {
     "name": "stdout",
     "output_type": "stream",
     "text": [
      "remove_html_markup(s='<s1d>\"1</hF>')\n",
      "remove_html_markup(s='<H>\"c*C</l>')\n",
      "remove_html_markup(s='<Ah2>\"</v>')\n",
      "remove_html_markup(s='<a7>\")</NP>')\n",
      "remove_html_markup(s='<boyIIt640TF>\"</b08>')\n",
      "remove_html_markup(s='<dF>\"</fay>')\n",
      "remove_html_markup(s='<l2>\"\\t7</z>')\n",
      "remove_html_markup(s='<ci>\"</t>')\n",
      "remove_html_markup(s='<J>\"2</t>')\n",
      "remove_html_markup(s='<Fo9g>\"\\r~\\t\\r</D>')\n"
     ]
    }
   ],
   "source": [
    "for i in range(10):\n",
    "    print(dd.fuzz())"
   ]
  },
  {
   "cell_type": "markdown",
   "metadata": {
    "slideshow": {
     "slide_type": "subslide"
    }
   },
   "source": [
    "`DDSetDebugger` can be customized by passing a subclass of `TreeGeneralizer`, which does the gist of the work; for details, see its constructor.\n",
    "The full class hierarchy is shown below."
   ]
  },
  {
   "cell_type": "code",
   "execution_count": 108,
   "metadata": {
    "execution": {
     "iopub.execute_input": "2022-08-06T23:06:47.102956Z",
     "iopub.status.busy": "2022-08-06T23:06:47.102618Z",
     "iopub.status.idle": "2022-08-06T23:06:47.103790Z",
     "shell.execute_reply": "2022-08-06T23:06:47.103966Z"
    },
    "slideshow": {
     "slide_type": "fragment"
    }
   },
   "outputs": [],
   "source": [
    "# ignore\n",
    "from ClassDiagram import display_class_hierarchy"
   ]
  },
  {
   "cell_type": "code",
   "execution_count": 109,
   "metadata": {
    "execution": {
     "iopub.execute_input": "2022-08-06T23:06:47.108400Z",
     "iopub.status.busy": "2022-08-06T23:06:47.108106Z",
     "iopub.status.idle": "2022-08-06T23:06:47.589037Z",
     "shell.execute_reply": "2022-08-06T23:06:47.589390Z"
    },
    "slideshow": {
     "slide_type": "subslide"
    }
   },
   "outputs": [
    {
     "data": {
      "image/svg+xml": [
       "<?xml version=\"1.0\" encoding=\"UTF-8\" standalone=\"no\"?>\n",
       "<!DOCTYPE svg PUBLIC \"-//W3C//DTD SVG 1.1//EN\"\n",
       " \"http://www.w3.org/Graphics/SVG/1.1/DTD/svg11.dtd\">\n",
       "<!-- Generated by graphviz version 5.0.0 (20220707.1540)\n",
       " -->\n",
       "<!-- Pages: 1 -->\n",
       "<svg width=\"452pt\" height=\"352pt\"\n",
       " viewBox=\"0.00 0.00 451.50 352.00\" xmlns=\"http://www.w3.org/2000/svg\" xmlns:xlink=\"http://www.w3.org/1999/xlink\">\n",
       "<g id=\"graph0\" class=\"graph\" transform=\"scale(1 1) rotate(0) translate(4 348)\">\n",
       "<g id=\"a_graph0\"><a xlink:title=\"DDSetDebugger class hierarchy\">\n",
       "<polygon fill=\"white\" stroke=\"transparent\" points=\"-4,4 -4,-348 447.5,-348 447.5,4 -4,4\"/>\n",
       "</a>\n",
       "</g>\n",
       "<!-- DDSetDebugger -->\n",
       "<g id=\"node1\" class=\"node\">\n",
       "<title>DDSetDebugger</title>\n",
       "<g id=\"a_node1\"><a xlink:href=\"#\" xlink:title=\"class DDSetDebugger:&#10;Debugger implementing the DDSET algorithm for abstracting failure&#45;inducing inputs.\">\n",
       "<polygon fill=\"none\" stroke=\"black\" points=\"23,-17 23,-103 144,-103 144,-17 23,-17\"/>\n",
       "<text text-anchor=\"start\" x=\"31\" y=\"-88.8\" font-family=\"Raleway, Helvetica, Arial, sans-serif\" font-weight=\"bold\" font-size=\"14.00\" fill=\"#6a0dad\">DDSetDebugger</text>\n",
       "<polyline fill=\"none\" stroke=\"black\" points=\"23,-80 144,-80 \"/>\n",
       "<g id=\"a_node1_0\"><a xlink:href=\"#\" xlink:title=\"DDSetDebugger\">\n",
       "<g id=\"a_node1_1\"><a xlink:href=\"#\" xlink:title=\"__init__(self, grammar: Dict[str, List[Union[str, Tuple[str, Dict[str, Any]]]]], generalizer_class: Type = &lt;class &#39;TreeGeneralizer&#39;&gt;, parser: Optional[fuzzingbook.Parser.Parser] = None, **kwargs: Any) &#45;&gt; None:&#10;Constructor.&#10;`grammar` is an input grammar in fuzzingbook format.&#10;`generalizer_class` is the tree generalizer class to use&#10;(default: `TreeGeneralizer`)&#10;`parser` is the parser to use (default: `EarleyParser(grammar)`).&#10;All other keyword args are passed to the tree generalizer, notably:&#10;`fuzzer` &#45; the fuzzer to use (default: `GrammarFuzzer`), and&#10;`log` &#45; enables debugging output if True.\">\n",
       "<text text-anchor=\"start\" x=\"47.5\" y=\"-68.5\" font-family=\"'Fira Mono', 'Source Code Pro', 'Courier', monospace\" font-weight=\"bold\" font-style=\"italic\" font-size=\"10.00\">__init__()</text>\n",
       "</a>\n",
       "</g>\n",
       "<g id=\"a_node1_2\"><a xlink:href=\"#\" xlink:title=\"__repr__(self) &#45;&gt; str:&#10;Return a string representation of the generalized call.\">\n",
       "<text text-anchor=\"start\" x=\"47.5\" y=\"-57.5\" font-family=\"'Fira Mono', 'Source Code Pro', 'Courier', monospace\" font-weight=\"bold\" font-size=\"10.00\">__repr__()</text>\n",
       "</a>\n",
       "</g>\n",
       "<g id=\"a_node1_3\"><a xlink:href=\"#\" xlink:title=\"fuzz(self) &#45;&gt; str:&#10;Return a call with arguments randomly instantiated&#10;from the abstract failure&#45;inducing pattern.\">\n",
       "<text text-anchor=\"start\" x=\"47.5\" y=\"-46.5\" font-family=\"'Fira Mono', 'Source Code Pro', 'Courier', monospace\" font-weight=\"bold\" font-size=\"10.00\">fuzz()</text>\n",
       "</a>\n",
       "</g>\n",
       "<g id=\"a_node1_4\"><a xlink:href=\"#\" xlink:title=\"fuzz_args(self) &#45;&gt; Dict[str, Any]:&#10;Return arguments randomly instantiated&#10;from the abstract failure&#45;inducing pattern.\">\n",
       "<text text-anchor=\"start\" x=\"47.5\" y=\"-35.5\" font-family=\"'Fira Mono', 'Source Code Pro', 'Courier', monospace\" font-weight=\"bold\" font-size=\"10.00\">fuzz_args()</text>\n",
       "</a>\n",
       "</g>\n",
       "<g id=\"a_node1_5\"><a xlink:href=\"#\" xlink:title=\"generalize(self) &#45;&gt; Dict[str, Any]:&#10;Generalize arguments seen. For each function argument,&#10;produce an abstract failure&#45;inducing input that characterizes&#10;the set of inputs for which the function fails.\">\n",
       "<text text-anchor=\"start\" x=\"47.5\" y=\"-24.5\" font-family=\"'Fira Mono', 'Source Code Pro', 'Courier', monospace\" font-weight=\"bold\" font-size=\"10.00\">generalize()</text>\n",
       "</a>\n",
       "</g>\n",
       "</a>\n",
       "</g>\n",
       "</a>\n",
       "</g>\n",
       "</g>\n",
       "<!-- CallCollector -->\n",
       "<g id=\"node2\" class=\"node\">\n",
       "<title>CallCollector</title>\n",
       "<g id=\"a_node2\"><a xlink:href=\"DeltaDebugger.ipynb\" xlink:title=\"class CallCollector:&#10;Collect an exception&#45;raising function call f().&#10;Use as `with CallCollector(): f()`\">\n",
       "<polygon fill=\"none\" stroke=\"black\" points=\"35.5,-156.5 35.5,-264.5 131.5,-264.5 131.5,-156.5 35.5,-156.5\"/>\n",
       "<text text-anchor=\"start\" x=\"43.5\" y=\"-250.3\" font-family=\"Raleway, Helvetica, Arial, sans-serif\" font-weight=\"bold\" font-size=\"14.00\" fill=\"#6a0dad\">CallCollector</text>\n",
       "<polyline fill=\"none\" stroke=\"black\" points=\"35.5,-241.5 131.5,-241.5 \"/>\n",
       "<g id=\"a_node2_6\"><a xlink:href=\"#\" xlink:title=\"CallCollector\">\n",
       "<g id=\"a_node2_7\"><a xlink:href=\"DeltaDebugger.ipynb\" xlink:title=\"__enter__(self) &#45;&gt; Any:&#10;Called at begin of `with` block. Turn tracing on.\">\n",
       "<text text-anchor=\"start\" x=\"50.5\" y=\"-230\" font-family=\"'Fira Mono', 'Source Code Pro', 'Courier', monospace\" font-weight=\"bold\" font-size=\"10.00\">__enter__()</text>\n",
       "</a>\n",
       "</g>\n",
       "<g id=\"a_node2_8\"><a xlink:href=\"DeltaDebugger.ipynb\" xlink:title=\"__exit__(self, exc_tp: Type, exc_value: BaseException, exc_traceback: traceback) &#45;&gt; Optional[bool]:&#10;Called at end of `with` block. Turn tracing off.\">\n",
       "<text text-anchor=\"start\" x=\"50.5\" y=\"-219\" font-family=\"'Fira Mono', 'Source Code Pro', 'Courier', monospace\" font-weight=\"bold\" font-size=\"10.00\">__exit__()</text>\n",
       "</a>\n",
       "</g>\n",
       "<g id=\"a_node2_9\"><a xlink:href=\"DeltaDebugger.ipynb\" xlink:title=\"__init__(self) &#45;&gt; None:&#10;Initialize collector\">\n",
       "<text text-anchor=\"start\" x=\"50.5\" y=\"-208\" font-family=\"'Fira Mono', 'Source Code Pro', 'Courier', monospace\" font-weight=\"bold\" font-style=\"italic\" font-size=\"10.00\">__init__()</text>\n",
       "</a>\n",
       "</g>\n",
       "<g id=\"a_node2_10\"><a xlink:href=\"DeltaDebugger.ipynb\" xlink:title=\"args(self) &#45;&gt; Dict[str, Any]:&#10;Return the dictionary of collected arguments.\">\n",
       "<text text-anchor=\"start\" x=\"50.5\" y=\"-197\" font-family=\"'Fira Mono', 'Source Code Pro', 'Courier', monospace\" font-weight=\"bold\" font-size=\"10.00\">args()</text>\n",
       "</a>\n",
       "</g>\n",
       "<g id=\"a_node2_11\"><a xlink:href=\"DeltaDebugger.ipynb\" xlink:title=\"call(self, new_args: Optional[Dict[str, Any]] = None) &#45;&gt; Any:&#10;Call collected function. If `new_args` is given,&#10;override arguments from its {var: value} entries.\">\n",
       "<text text-anchor=\"start\" x=\"50.5\" y=\"-186\" font-family=\"'Fira Mono', 'Source Code Pro', 'Courier', monospace\" font-weight=\"bold\" font-size=\"10.00\">call()</text>\n",
       "</a>\n",
       "</g>\n",
       "<g id=\"a_node2_12\"><a xlink:href=\"DeltaDebugger.ipynb\" xlink:title=\"exception(self) &#45;&gt; Optional[BaseException]:&#10;Return the exception produced, or `None` if none.\">\n",
       "<text text-anchor=\"start\" x=\"50.5\" y=\"-175\" font-family=\"'Fira Mono', 'Source Code Pro', 'Courier', monospace\" font-weight=\"bold\" font-size=\"10.00\">exception()</text>\n",
       "</a>\n",
       "</g>\n",
       "<g id=\"a_node2_13\"><a xlink:href=\"DeltaDebugger.ipynb\" xlink:title=\"function(self) &#45;&gt; Callable:&#10;Return the function called.\">\n",
       "<text text-anchor=\"start\" x=\"50.5\" y=\"-164\" font-family=\"'Fira Mono', 'Source Code Pro', 'Courier', monospace\" font-weight=\"bold\" font-size=\"10.00\">function()</text>\n",
       "</a>\n",
       "</g>\n",
       "</a>\n",
       "</g>\n",
       "</a>\n",
       "</g>\n",
       "</g>\n",
       "<!-- DDSetDebugger&#45;&gt;CallCollector -->\n",
       "<g id=\"edge1\" class=\"edge\">\n",
       "<title>DDSetDebugger&#45;&gt;CallCollector</title>\n",
       "<path fill=\"none\" stroke=\"black\" d=\"M83.5,-103.16C83.5,-116.47 83.5,-131.5 83.5,-145.96\"/>\n",
       "<polygon fill=\"none\" stroke=\"black\" points=\"80,-146.37 83.5,-156.37 87,-146.37 80,-146.37\"/>\n",
       "</g>\n",
       "<!-- StackInspector -->\n",
       "<g id=\"node3\" class=\"node\">\n",
       "<title>StackInspector</title>\n",
       "<g id=\"a_node3\"><a xlink:href=\"StackInspector.ipynb\" xlink:title=\"class StackInspector:&#10;Provide functions to inspect the stack\">\n",
       "<polygon fill=\"none\" stroke=\"black\" points=\"0,-301.5 0,-343.5 167,-343.5 167,-301.5 0,-301.5\"/>\n",
       "<text text-anchor=\"start\" x=\"36.5\" y=\"-329.3\" font-family=\"Raleway, Helvetica, Arial, sans-serif\" font-weight=\"bold\" font-size=\"14.00\" fill=\"#6a0dad\">StackInspector</text>\n",
       "<polyline fill=\"none\" stroke=\"black\" points=\"0,-320.5 167,-320.5 \"/>\n",
       "<g id=\"a_node3_14\"><a xlink:href=\"#\" xlink:title=\"StackInspector\">\n",
       "<g id=\"a_node3_15\"><a xlink:href=\"StackInspector.ipynb\" xlink:title=\"_generated_function_cache = {}\">\n",
       "<text text-anchor=\"start\" x=\"8.5\" y=\"-308\" font-family=\"'Fira Mono', 'Source Code Pro', 'Courier', monospace\" font-size=\"10.00\">_generated_function_cache</text>\n",
       "</a>\n",
       "</g>\n",
       "</a>\n",
       "</g>\n",
       "</a>\n",
       "</g>\n",
       "</g>\n",
       "<!-- CallCollector&#45;&gt;StackInspector -->\n",
       "<g id=\"edge2\" class=\"edge\">\n",
       "<title>CallCollector&#45;&gt;StackInspector</title>\n",
       "<path fill=\"none\" stroke=\"black\" d=\"M83.5,-264.57C83.5,-273.66 83.5,-282.82 83.5,-291.06\"/>\n",
       "<polygon fill=\"none\" stroke=\"black\" points=\"80,-291.27 83.5,-301.27 87,-291.27 80,-291.27\"/>\n",
       "</g>\n",
       "<!-- TreeGeneralizer -->\n",
       "<g id=\"node4\" class=\"node\">\n",
       "<title>TreeGeneralizer</title>\n",
       "<g id=\"a_node4\"><a xlink:href=\"#\" xlink:title=\"class TreeGeneralizer:&#10;Determine which parts of a derivation tree can be generalized.\">\n",
       "<polygon fill=\"none\" stroke=\"black\" points=\"162,-0.5 162,-119.5 305,-119.5 305,-0.5 162,-0.5\"/>\n",
       "<text text-anchor=\"start\" x=\"183.5\" y=\"-105.3\" font-family=\"Raleway, Helvetica, Arial, sans-serif\" font-weight=\"bold\" font-size=\"14.00\" fill=\"#6a0dad\">TreeGeneralizer</text>\n",
       "<polyline fill=\"none\" stroke=\"black\" points=\"162,-96.5 305,-96.5 \"/>\n",
       "<g id=\"a_node4_16\"><a xlink:href=\"#\" xlink:title=\"TreeGeneralizer\">\n",
       "<g id=\"a_node4_17\"><a xlink:href=\"#\" xlink:title=\"__init__(self, grammar: Dict[str, List[Union[str, Tuple[str, Dict[str, Any]]]]], tree: Tuple[str, Optional[List[Any]]], test: Callable, max_tries_for_generalization: int = 10, **kwargs: Any) &#45;&gt; None:&#10;Constructor. `grammar` and `tree` are as in `TreeMutator`.&#10;`test` is a function taking a string that either&#10;* raises an exception, indicating test failure;&#10;* or not, indicating test success.&#10;`max_tries_for_generalization` is the number of times&#10;an instantiation has to fail before it is generalized.\">\n",
       "<text text-anchor=\"start\" x=\"170.5\" y=\"-85.5\" font-family=\"'Fira Mono', 'Source Code Pro', 'Courier', monospace\" font-style=\"italic\" font-size=\"10.00\">__init__()</text>\n",
       "</a>\n",
       "</g>\n",
       "<g id=\"a_node4_18\"><a xlink:href=\"#\" xlink:title=\"can_generalize(self, path: List[int], tree: Optional[Tuple[str, Optional[List[Any]]]] = None) &#45;&gt; bool:&#10;Return True if the subtree at `path` can be generalized.\">\n",
       "<text text-anchor=\"start\" x=\"170.5\" y=\"-73.5\" font-family=\"'Fira Mono', 'Source Code Pro', 'Courier', monospace\" font-size=\"10.00\">can_generalize()</text>\n",
       "</a>\n",
       "</g>\n",
       "<g id=\"a_node4_19\"><a xlink:href=\"#\" xlink:title=\"find_paths(self, predicate: Callable[[List[int], Tuple[str, Optional[List[Any]]]], bool], path: Optional[List[int]] = None, tree: Optional[Tuple[str, Optional[List[Any]]]] = None) &#45;&gt; List[List[int]]:&#10;Return a list of all paths for which `predicate` holds.&#10;`predicate` is a function `predicate`(`path`, `tree`), where&#10;`path` denotes a subtree in `tree`. If `predicate()` returns&#10;True, `path` is included in the returned list.\">\n",
       "<text text-anchor=\"start\" x=\"170.5\" y=\"-62.5\" font-family=\"'Fira Mono', 'Source Code Pro', 'Courier', monospace\" font-size=\"10.00\">find_paths()</text>\n",
       "</a>\n",
       "</g>\n",
       "<g id=\"a_node4_20\"><a xlink:href=\"#\" xlink:title=\"fuzz_tree(self, tree: Tuple[str, Optional[List[Any]]]) &#45;&gt; Tuple[str, Optional[List[Any]]]:&#10;Return an instantiated copy of `tree`.\">\n",
       "<text text-anchor=\"start\" x=\"170.5\" y=\"-51.5\" font-family=\"'Fira Mono', 'Source Code Pro', 'Courier', monospace\" font-size=\"10.00\">fuzz_tree()</text>\n",
       "</a>\n",
       "</g>\n",
       "<g id=\"a_node4_21\"><a xlink:href=\"#\" xlink:title=\"generalizable_paths(self) &#45;&gt; List[List[int]]:&#10;Return a list of all paths whose subtrees can be generalized.\">\n",
       "<text text-anchor=\"start\" x=\"170.5\" y=\"-40.5\" font-family=\"'Fira Mono', 'Source Code Pro', 'Courier', monospace\" font-size=\"10.00\">generalizable_paths()</text>\n",
       "</a>\n",
       "</g>\n",
       "<g id=\"a_node4_22\"><a xlink:href=\"#\" xlink:title=\"generalize(self) &#45;&gt; Tuple[str, Optional[List[Any]]]:&#10;Returns a copy of the tree in which all generalizable subtrees&#10;are generalized (= replaced by nonterminals without children)\">\n",
       "<text text-anchor=\"start\" x=\"170.5\" y=\"-29.5\" font-family=\"'Fira Mono', 'Source Code Pro', 'Courier', monospace\" font-size=\"10.00\">generalize()</text>\n",
       "</a>\n",
       "</g>\n",
       "<g id=\"a_node4_23\"><a xlink:href=\"#\" xlink:title=\"generalize_path(self, path: List[int], tree: Optional[Tuple[str, Optional[List[Any]]]] = None) &#45;&gt; Tuple[str, Optional[List[Any]]]:&#10;Return a copy of the tree in which the subtree at `path`&#10;is generalized (= replaced by a nonterminal without children)\">\n",
       "<text text-anchor=\"start\" x=\"170.5\" y=\"-18.5\" font-family=\"'Fira Mono', 'Source Code Pro', 'Courier', monospace\" font-size=\"10.00\">generalize_path()</text>\n",
       "</a>\n",
       "</g>\n",
       "<g id=\"a_node4_24\"><a xlink:href=\"#\" xlink:title=\"test_tree(self, tree: Tuple[str, Optional[List[Any]]]) &#45;&gt; bool:&#10;Return True if testing `tree` passes, else False\">\n",
       "<text text-anchor=\"start\" x=\"170.5\" y=\"-7.5\" font-family=\"'Fira Mono', 'Source Code Pro', 'Courier', monospace\" font-size=\"10.00\">test_tree()</text>\n",
       "</a>\n",
       "</g>\n",
       "</a>\n",
       "</g>\n",
       "</a>\n",
       "</g>\n",
       "</g>\n",
       "<!-- TreeMutator -->\n",
       "<g id=\"node5\" class=\"node\">\n",
       "<title>TreeMutator</title>\n",
       "<g id=\"a_node5\"><a xlink:href=\"#\" xlink:title=\"class TreeMutator:&#10;Grammar&#45;based mutations of derivation trees.\">\n",
       "<polygon fill=\"none\" stroke=\"black\" points=\"186,-173 186,-248 281,-248 281,-173 186,-173\"/>\n",
       "<text text-anchor=\"start\" x=\"194.5\" y=\"-233.8\" font-family=\"Raleway, Helvetica, Arial, sans-serif\" font-weight=\"bold\" font-size=\"14.00\" fill=\"#6a0dad\">TreeMutator</text>\n",
       "<polyline fill=\"none\" stroke=\"black\" points=\"186,-225 281,-225 \"/>\n",
       "<g id=\"a_node5_25\"><a xlink:href=\"#\" xlink:title=\"TreeMutator\">\n",
       "<g id=\"a_node5_26\"><a xlink:href=\"#\" xlink:title=\"__init__(self, grammar: Dict[str, List[Union[str, Tuple[str, Dict[str, Any]]]]], tree: Tuple[str, Optional[List[Any]]], fuzzer: Optional[fuzzingbook.GrammarFuzzer.GrammarFuzzer] = None, log: Union[bool, int] = False):&#10;Constructor.&#10;`grammar` is the underlying grammar;&#10;`tree` is the tree to work on.&#10;`fuzzer` is the grammar fuzzer to use (default: `GrammarFuzzer`)\">\n",
       "<text text-anchor=\"start\" x=\"194.5\" y=\"-214\" font-family=\"'Fira Mono', 'Source Code Pro', 'Courier', monospace\" font-style=\"italic\" font-size=\"10.00\">__init__()</text>\n",
       "</a>\n",
       "</g>\n",
       "<g id=\"a_node5_27\"><a xlink:href=\"#\" xlink:title=\"get_subtree(self, path: List[int], tree: Optional[Tuple[str, Optional[List[Any]]]] = None) &#45;&gt; Tuple[str, Optional[List[Any]]]:&#10;Access a subtree based on `path` (a list of children numbers)\">\n",
       "<text text-anchor=\"start\" x=\"194.5\" y=\"-202\" font-family=\"'Fira Mono', 'Source Code Pro', 'Courier', monospace\" font-size=\"10.00\">get_subtree()</text>\n",
       "</a>\n",
       "</g>\n",
       "<g id=\"a_node5_28\"><a xlink:href=\"#\" xlink:title=\"mutate(self, path: List[int], tree: Optional[Tuple[str, Optional[List[Any]]]] = None) &#45;&gt; Tuple[str, Optional[List[Any]]]:&#10;Return a new tree mutated at `path`\">\n",
       "<text text-anchor=\"start\" x=\"194.5\" y=\"-191\" font-family=\"'Fira Mono', 'Source Code Pro', 'Courier', monospace\" font-size=\"10.00\">mutate()</text>\n",
       "</a>\n",
       "</g>\n",
       "<g id=\"a_node5_29\"><a xlink:href=\"#\" xlink:title=\"new_tree(self, start_symbol: str) &#45;&gt; Tuple[str, Optional[List[Any]]]:&#10;Create a new subtree for &lt;start_symbol&gt;.\">\n",
       "<text text-anchor=\"start\" x=\"194.5\" y=\"-180\" font-family=\"'Fira Mono', 'Source Code Pro', 'Courier', monospace\" font-size=\"10.00\">new_tree()</text>\n",
       "</a>\n",
       "</g>\n",
       "</a>\n",
       "</g>\n",
       "</a>\n",
       "</g>\n",
       "</g>\n",
       "<!-- TreeGeneralizer&#45;&gt;TreeMutator -->\n",
       "<g id=\"edge3\" class=\"edge\">\n",
       "<title>TreeGeneralizer&#45;&gt;TreeMutator</title>\n",
       "<path fill=\"none\" stroke=\"black\" d=\"M233.5,-119.69C233.5,-133.9 233.5,-148.91 233.5,-162.51\"/>\n",
       "<polygon fill=\"none\" stroke=\"black\" points=\"230,-162.59 233.5,-172.59 237,-162.59 230,-162.59\"/>\n",
       "</g>\n",
       "<!-- Legend -->\n",
       "<g id=\"node6\" class=\"node\">\n",
       "<title>Legend</title>\n",
       "<text text-anchor=\"start\" x=\"323.5\" y=\"-77.5\" font-family=\"Raleway, Helvetica, Arial, sans-serif\" font-weight=\"bold\" font-size=\"10.00\" fill=\"#6a0dad\">Legend</text>\n",
       "<text text-anchor=\"start\" x=\"323.5\" y=\"-67.5\" font-family=\"Raleway, Helvetica, Arial, sans-serif\" font-size=\"10.00\">• </text>\n",
       "<text text-anchor=\"start\" x=\"330.5\" y=\"-67.5\" font-family=\"'Fira Mono', 'Source Code Pro', 'Courier', monospace\" font-weight=\"bold\" font-size=\"8.00\">public_method()</text>\n",
       "<text text-anchor=\"start\" x=\"323.5\" y=\"-57.5\" font-family=\"Raleway, Helvetica, Arial, sans-serif\" font-size=\"10.00\">• </text>\n",
       "<text text-anchor=\"start\" x=\"330.5\" y=\"-57.5\" font-family=\"'Fira Mono', 'Source Code Pro', 'Courier', monospace\" font-size=\"8.00\">private_method()</text>\n",
       "<text text-anchor=\"start\" x=\"323.5\" y=\"-47.5\" font-family=\"Raleway, Helvetica, Arial, sans-serif\" font-size=\"10.00\">• </text>\n",
       "<text text-anchor=\"start\" x=\"330.5\" y=\"-47.5\" font-family=\"'Fira Mono', 'Source Code Pro', 'Courier', monospace\" font-style=\"italic\" font-size=\"8.00\">overloaded_method()</text>\n",
       "<text text-anchor=\"start\" x=\"323.5\" y=\"-38.3\" font-family=\"Helvetica,sans-Serif\" font-size=\"9.00\">Hover over names to see doc</text>\n",
       "</g>\n",
       "</g>\n",
       "</svg>\n"
      ],
      "text/plain": [
       "<graphviz.graphs.Digraph at 0x1290d3310>"
      ]
     },
     "execution_count": 109,
     "metadata": {},
     "output_type": "execute_result"
    }
   ],
   "source": [
    "# ignore\n",
    "display_class_hierarchy([DDSetDebugger, TreeGeneralizer],\n",
    "                        public_methods=[\n",
    "                            CallCollector.__init__,\n",
    "                            CallCollector.__enter__,\n",
    "                            CallCollector.__exit__,\n",
    "                            CallCollector.function,\n",
    "                            CallCollector.args,\n",
    "                            CallCollector.exception,\n",
    "                            CallCollector.call,  # type: ignore\n",
    "                            DDSetDebugger.__init__,\n",
    "                            DDSetDebugger.__repr__,\n",
    "                            DDSetDebugger.fuzz,\n",
    "                            DDSetDebugger.fuzz_args,\n",
    "                            DDSetDebugger.generalize,\n",
    "                        ], project='debuggingbook')"
   ]
  },
  {
   "cell_type": "markdown",
   "metadata": {
    "button": false,
    "new_sheet": true,
    "run_control": {
     "read_only": false
    },
    "slideshow": {
     "slide_type": "slide"
    }
   },
   "source": [
    "## Lessons Learned\n",
    "\n",
    "* Generalizing failure-inducing inputs can yield important information for which inputs and under which circumstances a failure occurs.\n",
    "* Generalizing failure-inducing inputs is most useful if the input can be split into multiple elements, of which only a part are relevant for producing the error.\n",
    "* As they help in _parsing_ and _producing_ input, _grammars_ can play an important role in testing and debugging."
   ]
  },
  {
   "cell_type": "markdown",
   "metadata": {
    "button": false,
    "new_sheet": false,
    "run_control": {
     "read_only": false
    },
    "slideshow": {
     "slide_type": "slide"
    }
   },
   "source": [
    "## Next Steps\n",
    "\n",
    "Our [next chapter](Repairer.ipynb) introduces _automated repair_ of programs, building on the fault localization and generalization mechanisms introduced so far."
   ]
  },
  {
   "cell_type": "markdown",
   "metadata": {
    "slideshow": {
     "slide_type": "slide"
    }
   },
   "source": [
    "## Background\n",
    "\n",
    "Our `DDSetDebugger` class implements the DDSET algorithm as introduced by Gopinath et al. in \\cite{Gopinath2020}. A [full-fledged implementation of DDSET](https://rahul.gopinath.org/post/2020/07/15/ddset/) with plenty of details and experiments is available as a Jupyter Notebook. Our implementation follows the [simplified implementation of DDSET, as described by Gopinath](https://rahul.gopinath.org/post/2020/08/03/simple-ddset/).\n",
    "\n",
    "The potential for determining how input features relate to bugs is not nearly explored yet. \n",
    "The ALHAZEN work by Kampmann et al. \\cite{Kampmann2020} generalizes over DDSET in a different way, by investigating _semantic_ features of input elements such as their numeric interpretation or length and their correlation with failures. Like DDSET, ALHAZEN also uses a feedback loop to strengthen or refute its hypotheses.\n",
    "\n",
    "In recent work \\cite{Gopinath2021}, Gopinath has extended the concept of DDSET further. His work on _evocative expressions_ introduces a _pattern language_ in which arbitrary DDSET-like patterns can be combined into Boolean formula that even more precisely capture and produce failure circumstances. In particular, evocative expressions can _specialize_ grammars towards Boolean pattern combinations, thus allowing for great flexibility in testing and debugging."
   ]
  },
  {
   "cell_type": "markdown",
   "metadata": {
    "button": false,
    "new_sheet": true,
    "run_control": {
     "read_only": false
    },
    "slideshow": {
     "slide_type": "slide"
    }
   },
   "source": [
    "## Exercises"
   ]
  },
  {
   "cell_type": "markdown",
   "metadata": {
    "button": false,
    "new_sheet": false,
    "run_control": {
     "read_only": false
    },
    "slideshow": {
     "slide_type": "subslide"
    }
   },
   "source": [
    "### Exercise 1: Generalization and Specialization\n",
    "\n",
    "Consider the abstract failure-inducing input for `BAD_INPUT` we determined:"
   ]
  },
  {
   "cell_type": "code",
   "execution_count": 110,
   "metadata": {
    "execution": {
     "iopub.execute_input": "2022-08-06T23:06:47.592222Z",
     "iopub.status.busy": "2022-08-06T23:06:47.591892Z",
     "iopub.status.idle": "2022-08-06T23:06:47.593740Z",
     "shell.execute_reply": "2022-08-06T23:06:47.594108Z"
    },
    "slideshow": {
     "slide_type": "fragment"
    }
   },
   "outputs": [
    {
     "data": {
      "text/plain": [
       "'<opening-tag>\"<plain-text><closing-tag>'"
      ]
     },
     "execution_count": 110,
     "metadata": {},
     "output_type": "execute_result"
    }
   ],
   "source": [
    "all_terminals(abstract_failure_inducing_input)"
   ]
  },
  {
   "cell_type": "markdown",
   "metadata": {
    "button": false,
    "new_sheet": false,
    "run_control": {
     "read_only": false
    },
    "slideshow": {
     "slide_type": "fragment"
    },
    "solution2": "hidden",
    "solution2_first": true
   },
   "source": [
    "1. How does it change if you increase the number of test runs, using `max_tries_for_generalization`?\n",
    "2. What is the success rate of the new pattern?"
   ]
  },
  {
   "cell_type": "markdown",
   "metadata": {
    "slideshow": {
     "slide_type": "skip"
    },
    "solution2": "hidden"
   },
   "source": [
    "**Solution.** We can compute this by increasing `max_tries_for_generalization`:"
   ]
  },
  {
   "cell_type": "code",
   "execution_count": 111,
   "metadata": {
    "execution": {
     "iopub.execute_input": "2022-08-06T23:06:47.687905Z",
     "iopub.status.busy": "2022-08-06T23:06:47.645146Z",
     "iopub.status.idle": "2022-08-06T23:06:47.718354Z",
     "shell.execute_reply": "2022-08-06T23:06:47.718554Z"
    },
    "slideshow": {
     "slide_type": "skip"
    },
    "solution2": "hidden"
   },
   "outputs": [],
   "source": [
    "more_precise_bitg = \\\n",
    "    cast(TreeGeneralizer, bad_input_tree_generalizer(max_tries_for_generalization=100))\n",
    "\n",
    "more_precise_abstract_failure_inducing_input = \\\n",
    "    more_precise_bitg.generalize()"
   ]
  },
  {
   "cell_type": "code",
   "execution_count": 112,
   "metadata": {
    "cell_style": "split",
    "execution": {
     "iopub.execute_input": "2022-08-06T23:06:47.720658Z",
     "iopub.status.busy": "2022-08-06T23:06:47.720322Z",
     "iopub.status.idle": "2022-08-06T23:06:47.721874Z",
     "shell.execute_reply": "2022-08-06T23:06:47.722062Z"
    },
    "slideshow": {
     "slide_type": "skip"
    },
    "solution2": "hidden"
   },
   "outputs": [
    {
     "data": {
      "text/plain": [
       "'<lt><id><gt>\"<plain-text><closing-tag>'"
      ]
     },
     "execution_count": 112,
     "metadata": {},
     "output_type": "execute_result"
    }
   ],
   "source": [
    "all_terminals(more_precise_abstract_failure_inducing_input)"
   ]
  },
  {
   "cell_type": "markdown",
   "metadata": {
    "slideshow": {
     "slide_type": "skip"
    },
    "solution2": "hidden"
   },
   "source": [
    "We see that we still have an opening tag; however, it no longer assumes attributes."
   ]
  },
  {
   "cell_type": "markdown",
   "metadata": {
    "slideshow": {
     "slide_type": "skip"
    },
    "solution2": "hidden"
   },
   "source": [
    "The success rate can be computed as before:"
   ]
  },
  {
   "cell_type": "code",
   "execution_count": 113,
   "metadata": {
    "execution": {
     "iopub.execute_input": "2022-08-06T23:06:47.810988Z",
     "iopub.status.busy": "2022-08-06T23:06:47.766961Z",
     "iopub.status.idle": "2022-08-06T23:06:48.892532Z",
     "shell.execute_reply": "2022-08-06T23:06:48.892780Z"
    },
    "slideshow": {
     "slide_type": "skip"
    },
    "solution2": "hidden"
   },
   "outputs": [],
   "source": [
    "successes = 0\n",
    "failures = 0\n",
    "trials = 1000\n",
    "\n",
    "for i in range(trials):\n",
    "    test_input = all_terminals(\n",
    "        more_precise_bitg.fuzz_tree(\n",
    "            more_precise_abstract_failure_inducing_input))\n",
    "    try:\n",
    "        remove_html_markup(test_input)\n",
    "    except AssertionError:\n",
    "        successes += 1\n",
    "    else:\n",
    "        failures += 1"
   ]
  },
  {
   "cell_type": "code",
   "execution_count": 114,
   "metadata": {
    "execution": {
     "iopub.execute_input": "2022-08-06T23:06:48.895355Z",
     "iopub.status.busy": "2022-08-06T23:06:48.895043Z",
     "iopub.status.idle": "2022-08-06T23:06:48.896475Z",
     "shell.execute_reply": "2022-08-06T23:06:48.896710Z"
    },
    "slideshow": {
     "slide_type": "skip"
    },
    "solution2": "hidden"
   },
   "outputs": [
    {
     "data": {
      "text/plain": [
       "(993, 7)"
      ]
     },
     "execution_count": 114,
     "metadata": {},
     "output_type": "execute_result"
    }
   ],
   "source": [
    "successes, failures"
   ]
  },
  {
   "cell_type": "code",
   "execution_count": 115,
   "metadata": {
    "execution": {
     "iopub.execute_input": "2022-08-06T23:06:48.898229Z",
     "iopub.status.busy": "2022-08-06T23:06:48.897939Z",
     "iopub.status.idle": "2022-08-06T23:06:48.899945Z",
     "shell.execute_reply": "2022-08-06T23:06:48.900181Z"
    },
    "slideshow": {
     "slide_type": "skip"
    },
    "solution2": "hidden"
   },
   "outputs": [
    {
     "data": {
      "text/plain": [
       "0.007"
      ]
     },
     "execution_count": 115,
     "metadata": {},
     "output_type": "execute_result"
    }
   ],
   "source": [
    "failures / 1000"
   ]
  },
  {
   "cell_type": "markdown",
   "metadata": {
    "slideshow": {
     "slide_type": "skip"
    },
    "solution2": "hidden"
   },
   "source": [
    "We see that the success rate is now more than 99%, which is better than before. On the other hand, the pattern is now overly _special_, since there are `<opening-tags>` with attributes such that the failure occurs (but also some that cancel out the error)."
   ]
  }
 ],
 "metadata": {
  "ipub": {
   "bibliography": "fuzzingbook.bib",
   "toc": true
  },
  "kernelspec": {
   "display_name": "Python 3 (ipykernel)",
   "language": "python",
   "name": "python3"
  },
  "language_info": {
   "codemirror_mode": {
    "name": "ipython",
    "version": 3
   },
   "file_extension": ".py",
   "mimetype": "text/x-python",
   "name": "python",
   "nbconvert_exporter": "python",
   "pygments_lexer": "ipython3",
   "version": "3.10.2"
  },
  "toc": {
   "base_numbering": 1,
   "nav_menu": {},
   "number_sections": true,
   "sideBar": true,
   "skip_h1_title": true,
   "title_cell": "",
   "title_sidebar": "Contents",
   "toc_cell": false,
   "toc_position": {},
   "toc_section_display": true,
   "toc_window_display": true
  },
  "toc-autonumbering": false
 },
 "nbformat": 4,
 "nbformat_minor": 4
}