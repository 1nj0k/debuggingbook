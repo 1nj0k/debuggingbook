{
 "cells": [
  {
   "cell_type": "markdown",
   "metadata": {
    "button": false,
    "new_sheet": false,
    "run_control": {
     "read_only": false
    },
    "slideshow": {
     "slide_type": "slide"
    }
   },
   "source": [
    "# Generalizing Failure Circumstances\n",
    "\n",
    "One central question in debugging is: _Does this bug occur in other situations, too?_ In this chapter, we present a technique that is set to _generalize_ the circumstances under which a failure occurs. The DDSET algorithm takes a failure-inducing input, breaks it into individual elements. For each element, it tries to find whether it can be replaced by others in the same category, and if so, it _generalizes_ the concrete element to the very category. The result is a _pattern_ that characterizes the failure condition: \"The failure occurs for all inputs of the form `(<expr> * <expr>)`."
   ]
  },
  {
   "cell_type": "code",
   "execution_count": 1,
   "metadata": {
    "slideshow": {
     "slide_type": "skip"
    }
   },
   "outputs": [],
   "source": [
    "from bookutils import YouTubeVideo\n",
    "# YouTubeVideo(\"w4u5gCgPlmg\")"
   ]
  },
  {
   "cell_type": "markdown",
   "metadata": {
    "button": false,
    "new_sheet": false,
    "run_control": {
     "read_only": false
    },
    "slideshow": {
     "slide_type": "subslide"
    }
   },
   "source": [
    "**Prerequisites**\n",
    "\n",
    "* You should have read the [chapter on _delta debugging_](DeltaDebugger.ipynb)."
   ]
  },
  {
   "cell_type": "code",
   "execution_count": 2,
   "metadata": {
    "button": false,
    "new_sheet": false,
    "run_control": {
     "read_only": false
    },
    "slideshow": {
     "slide_type": "skip"
    }
   },
   "outputs": [],
   "source": [
    "import bookutils"
   ]
  },
  {
   "cell_type": "code",
   "execution_count": 3,
   "metadata": {
    "slideshow": {
     "slide_type": "skip"
    }
   },
   "outputs": [],
   "source": [
    "import DeltaDebugger"
   ]
  },
  {
   "cell_type": "markdown",
   "metadata": {
    "slideshow": {
     "slide_type": "skip"
    }
   },
   "source": [
    "## Synopsis\n",
    "<!-- Automatically generated. Do not edit. -->\n",
    "\n",
    "To [use the code provided in this chapter](Importing.ipynb), write\n",
    "\n",
    "```python\n",
    ">>> from debuggingbook.DDSetDebugger import <identifier>\n",
    "```\n",
    "\n",
    "and then make use of the following features.\n",
    "\n",
    "\n",
    "This chapter provides a class `DDSetDebugger`, implementing the DDSET algorithm for generalizing failure-inducing inputs. The `DDSetDebugger` is used as follows:\n",
    "\n",
    "```python\n",
    "with DDSetDebugger(grammar) as dd:\n",
    "    function(args...)\n",
    "dd\n",
    "```\n",
    "\n",
    "Here, `function(args...)` is a failing function call (= raises an execption) that takes at least one string argument; `grammar` is an [input grammar in fuzzingbook format](https://www.fuzzingbook.org/html/Grammars.html) that matches the format of this argument.\n",
    "\n",
    "The result is a call of `function()` with an _abstract failure-inducing input_ – a variant of the conrete input in which parts are replaced by placeholders in the form `<name>`, where `<name>` is a nonterminal in the grammar. The failure has been verified to occur for a number of instantiations of `<name>`.\n",
    "\n",
    "Here is an example of how `DDSetDebugger` works. The concrete failing input `<foo>\"bar</foo>` is generalized to an _abstract failure-inducing input_:\n",
    "\n",
    "```python\n",
    ">>> with DDSetDebugger(SIMPLE_HTML_GRAMMAR) as dd:\n",
    ">>>     remove_html_markup('<foo>\"bar</foo>')\n",
    ">>> dd\n",
    "\n",
    "remove_html_markup(s='<opening-tag>\"<plain-text><closing-tag>')\n",
    "```\n",
    "The abstract input tells us that the failure occurs for whatever opening and closing HTML tags as long as there is a double quote between them.\n",
    "\n",
    "A programmatic interface is available as well. `generalize()` returns a mapping of argument names to (generalized) values:\n",
    "\n",
    "```python\n",
    ">>> dd.generalize()\n",
    "\n",
    "{'s': '<opening-tag>\"<plain-text><closing-tag>'}\n",
    "```\n",
    "Using `fuzz()`, the abstract input can be instantiated to further concrete inputs, all set to produce the failure again:\n",
    "\n",
    "```python\n",
    ">>> for i in range(10):\n",
    ">>>     print(dd.fuzz())\n",
    "\n",
    "remove_html_markup(s='<R W5128555F35xrs=\\'\\'>\"</hmarQ9>')\n",
    "remove_html_markup(s='<K18 s=\"\" g=\\'\\'>\"Y</V0>')\n",
    "remove_html_markup(s='<M0D74 m=\\'\\' R=\\'\\'>\"</xXD01>')\n",
    "remove_html_markup(s='<do>\"</Z>')\n",
    "remove_html_markup(s='<I j=\\'\\'>\"X</r9>')\n",
    "remove_html_markup(s='<I7>\"l </e>')\n",
    "remove_html_markup(s='<o3 B2l4v=\"Z\" P=\"\\t\">\"</X7P>')\n",
    "remove_html_markup(s='<i9 J=\"\" B=\\'\\'>\"</m>')\n",
    "remove_html_markup(s='<V>\"</lM2>')\n",
    "remove_html_markup(s='<P4n>\"</uj1>')\n",
    "```\n",
    "`DDSetDebugger` can be customized by passing a subclass of `TreeGeneralizer`, which does the gist of the work; for details, see its constructor.\n",
    "The full class hierarchy is shown below.\n",
    "\n",
    "\n",
    "![](PICS/DDSetDebugger-synopsis-1.svg)\n",
    "\n"
   ]
  },
  {
   "cell_type": "markdown",
   "metadata": {
    "slideshow": {
     "slide_type": "slide"
    }
   },
   "source": [
    "## A Failing Program\n",
    "\n",
    "As with previous chapters, we use `remove_html_markup()` as our ongoing example. This function is set to remove HTML markup tags (like `<em>`) from a given string `s`, returning the plain text only. We use the version from [the chapter on asssertions](Assertions.ipynb), using an assertion as postcondition checker."
   ]
  },
  {
   "cell_type": "code",
   "execution_count": 4,
   "metadata": {
    "slideshow": {
     "slide_type": "subslide"
    }
   },
   "outputs": [],
   "source": [
    "def remove_html_markup(s):\n",
    "    tag = False\n",
    "    quote = False\n",
    "    out = \"\"\n",
    "\n",
    "    for c in s:\n",
    "        if c == '<' and not quote:\n",
    "            tag = True\n",
    "        elif c == '>' and not quote:\n",
    "            tag = False\n",
    "        elif c == '\"' or c == \"'\" and tag:\n",
    "            quote = not quote\n",
    "        elif not tag:\n",
    "            out = out + c\n",
    "\n",
    "    # postcondition\n",
    "    assert '<' not in out and '>' not in out\n",
    "\n",
    "    return out"
   ]
  },
  {
   "cell_type": "markdown",
   "metadata": {
    "slideshow": {
     "slide_type": "subslide"
    }
   },
   "source": [
    "For the most inputs, `remove_html_markup()` works just as expected:"
   ]
  },
  {
   "cell_type": "code",
   "execution_count": 5,
   "metadata": {
    "slideshow": {
     "slide_type": "fragment"
    }
   },
   "outputs": [
    {
     "data": {
      "text/plain": [
       "'Be quiet, he said'"
      ]
     },
     "execution_count": 5,
     "metadata": {},
     "output_type": "execute_result"
    }
   ],
   "source": [
    "remove_html_markup(\"Be <em>quiet</em>, he said\")"
   ]
  },
  {
   "cell_type": "markdown",
   "metadata": {
    "slideshow": {
     "slide_type": "fragment"
    }
   },
   "source": [
    "There are inputs, however, for which it fails:"
   ]
  },
  {
   "cell_type": "code",
   "execution_count": 6,
   "metadata": {
    "slideshow": {
     "slide_type": "fragment"
    }
   },
   "outputs": [],
   "source": [
    "BAD_INPUT = '<foo>\"bar</foo>'"
   ]
  },
  {
   "cell_type": "code",
   "execution_count": 7,
   "metadata": {
    "slideshow": {
     "slide_type": "skip"
    }
   },
   "outputs": [],
   "source": [
    "from ExpectError import ExpectError"
   ]
  },
  {
   "cell_type": "code",
   "execution_count": 8,
   "metadata": {
    "slideshow": {
     "slide_type": "fragment"
    }
   },
   "outputs": [
    {
     "name": "stderr",
     "output_type": "stream",
     "text": [
      "Traceback (most recent call last):\n",
      "  File \"<ipython-input-8-491b4345bb53>\", line 2, in <module>\n",
      "    remove_html_markup(BAD_INPUT)\n",
      "  File \"<ipython-input-4-4cc94c1ede06>\", line 17, in remove_html_markup\n",
      "    assert '<' not in out and '>' not in out\n",
      "AssertionError (expected)\n"
     ]
    }
   ],
   "source": [
    "with ExpectError(AssertionError):\n",
    "    remove_html_markup(BAD_INPUT)"
   ]
  },
  {
   "cell_type": "code",
   "execution_count": 9,
   "metadata": {
    "slideshow": {
     "slide_type": "skip"
    }
   },
   "outputs": [],
   "source": [
    "from bookutils import quiz"
   ]
  },
  {
   "cell_type": "markdown",
   "metadata": {
    "slideshow": {
     "slide_type": "subslide"
    }
   },
   "source": [
    "In contrast to the other chapters, our aim now is not to immediately go and debug `remove_html_markup()`. Instead, we focus on another important question: \n",
    "\n",
    "> Under which conditions precisely does `remove_html_markup()` fail?"
   ]
  },
  {
   "cell_type": "markdown",
   "metadata": {
    "slideshow": {
     "slide_type": "fragment"
    }
   },
   "source": [
    "This question can be generalized to\n",
    "\n",
    "> What is the set of inputs for which `remove_html_markup()` fails?"
   ]
  },
  {
   "cell_type": "markdown",
   "metadata": {
    "slideshow": {
     "slide_type": "subslide"
    }
   },
   "source": [
    "Our plan for this is to _generalize_ concrete inputs (such as `BAD_INPUTS`) into an *abstract failure-inducing inputs*. These are patterns formed from a concrete input, but in which specific _placeholders_ indicate sets of inputs that are permitted. In the abstract failure-inducing input\n",
    "\n",
    "```html\n",
    "<opening-tag>\"bar<closing-tag>\n",
    "```\n",
    "\n",
    "for instance, `<opening-tag>` and `<closing-tag>` are placeholders for opening and closing HTML tags, respectively. The pattern indicates that any opening HTML tag and closing HTML tag can be present in the input, as long as the enclosed text reads `\"bar`."
   ]
  },
  {
   "cell_type": "markdown",
   "metadata": {
    "slideshow": {
     "slide_type": "subslide"
    }
   },
   "source": [
    "Given a concrete failure-inducing input, our aim is to _generalize_ it as much as possible to such an abstract failure-inducing input. The resulting pattern should then\n",
    "\n",
    "* capture the _circumstances_ under which the program fails;\n",
    "* allow for _test generation_ by instantiating the placeholders;\n",
    "* help ensuring our fix is as _general as possible_."
   ]
  },
  {
   "cell_type": "code",
   "execution_count": 10,
   "metadata": {
    "slideshow": {
     "slide_type": "subslide"
    }
   },
   "outputs": [
    {
     "data": {
      "text/html": [
       "\n",
       "    \n",
       "    <script>\n",
       "    var bad_answers = new Map();\n",
       "\n",
       "    function answer(quiz_id) {\n",
       "        ans = 0;\n",
       "        for (i = 1;; i++) {\n",
       "            checkbox = document.getElementById(quiz_id + \"-\" + i.toString());\n",
       "            if (!checkbox)\n",
       "                break;\n",
       "            if (checkbox.checked)\n",
       "                ans |= (1 << i);\n",
       "        }\n",
       "        return ans;\n",
       "    }\n",
       "    function check_selection(quiz_id, correct_answer, multiple_choice, hint) {\n",
       "        given_answer = answer(quiz_id);\n",
       "        if (given_answer == correct_answer)\n",
       "        {\n",
       "            document.getElementById(quiz_id + \"-submit\").value = \"Correct!\";\n",
       "            document.getElementById(quiz_id + \"-hint\").innerHTML = \"\";\n",
       "\n",
       "            for (i = 1;; i++) {\n",
       "                checkbox = document.getElementById(quiz_id + \"-\" + i.toString());\n",
       "                label = document.getElementById(quiz_id + \"-\" + i.toString() + \"-label\")\n",
       "                if (!checkbox)\n",
       "                    break;\n",
       "    \n",
       "                if (checkbox.checked) {\n",
       "                    label.style.fontWeight = \"bold\";\n",
       "                }\n",
       "                else {\n",
       "                    label.style.textDecoration = \"line-through\";\n",
       "                }\n",
       "            }\n",
       "        }\n",
       "        else \n",
       "        {\n",
       "            document.getElementById(quiz_id + \"-submit\").value = \"Try again\";\n",
       "            \n",
       "            if (!bad_answers.has(quiz_id)) {\n",
       "                bad_answers.set(quiz_id, 1);\n",
       "            }\n",
       "            else {\n",
       "                bad_answers.set(quiz_id, bad_answers.get(quiz_id) + 1);\n",
       "            }\n",
       "\n",
       "            if (bad_answers.get(quiz_id) >= 2 && hint.length > 0) {\n",
       "                document.getElementById(quiz_id + \"-hint\").innerHTML = \n",
       "                    \"&nbsp;&nbsp;(Hint: <code>\" + hint + \"</code>)\";\n",
       "            }\n",
       "\n",
       "            if (!multiple_choice) {\n",
       "                for (i = 1;; i++) {\n",
       "                    checkbox = document.getElementById(quiz_id + \"-\" + i.toString());\n",
       "                    label = document.getElementById(quiz_id + \"-\" + i.toString() + \"-label\")\n",
       "\n",
       "                    if (!checkbox)\n",
       "                        break;\n",
       "                    if (checkbox.checked) {\n",
       "                        label.style.textDecoration = \"line-through\";\n",
       "                    }\n",
       "                }\n",
       "            }\n",
       "        }\n",
       "    }\n",
       "    function clear_selection(quiz_id) {\n",
       "        document.getElementById(quiz_id + \"-submit\").value = \"Submit\";\n",
       "        document.getElementById(quiz_id + \"-hint\").innerHTML = \"\";\n",
       "    }\n",
       "    </script>\n",
       "    \n",
       "    <div class=\"quiz\">\n",
       "    <h3 class=\"quiz_title\">Quiz</h3>\n",
       "    <p>\n",
       "    <div class=\"quiz_question\">If <code>s = '&lt;foo&gt;\"bar&lt;/foo&gt;'</code> (i.e., <code>BAD_INPUT</code>), what is the value of <code>out</code> such that the assertion fails?</div>\n",
       "    </p>\n",
       "    <p>\n",
       "    <div class=\"quiz_options\" title=\"Pick a choice.\">\n",
       "    \n",
       "        <input type=\"radio\" name=\"5484e8cc-6473-11eb-a588-acde48001122\" id=\"5484e8cc-6473-11eb-a588-acde48001122-1\" onclick=\"clear_selection('5484e8cc-6473-11eb-a588-acde48001122')\">\n",
       "        <label id=\"5484e8cc-6473-11eb-a588-acde48001122-1-label\" for=\"5484e8cc-6473-11eb-a588-acde48001122-1\"><code>bar</code></label><br>\n",
       "    \n",
       "        <input type=\"radio\" name=\"5484e8cc-6473-11eb-a588-acde48001122\" id=\"5484e8cc-6473-11eb-a588-acde48001122-2\" onclick=\"clear_selection('5484e8cc-6473-11eb-a588-acde48001122')\">\n",
       "        <label id=\"5484e8cc-6473-11eb-a588-acde48001122-2-label\" for=\"5484e8cc-6473-11eb-a588-acde48001122-2\"><code>bar&lt;/foo&gt;</code></label><br>\n",
       "    \n",
       "        <input type=\"radio\" name=\"5484e8cc-6473-11eb-a588-acde48001122\" id=\"5484e8cc-6473-11eb-a588-acde48001122-3\" onclick=\"clear_selection('5484e8cc-6473-11eb-a588-acde48001122')\">\n",
       "        <label id=\"5484e8cc-6473-11eb-a588-acde48001122-3-label\" for=\"5484e8cc-6473-11eb-a588-acde48001122-3\"><code>\"bar&lt;/foo&gt;</code></label><br>\n",
       "    \n",
       "        <input type=\"radio\" name=\"5484e8cc-6473-11eb-a588-acde48001122\" id=\"5484e8cc-6473-11eb-a588-acde48001122-4\" onclick=\"clear_selection('5484e8cc-6473-11eb-a588-acde48001122')\">\n",
       "        <label id=\"5484e8cc-6473-11eb-a588-acde48001122-4-label\" for=\"5484e8cc-6473-11eb-a588-acde48001122-4\"><code>&lt;foo&gt;\"bar&lt;/foo&gt;</code></label><br>\n",
       "    \n",
       "    </div>\n",
       "    </p>\n",
       "    <input id=\"5484e8cc-6473-11eb-a588-acde48001122-submit\" type=\"submit\" value=\"Submit\" onclick=\"check_selection('5484e8cc-6473-11eb-a588-acde48001122', 4, 0, '9999999 // 4999999')\">\n",
       "    <span class=\"quiz_hint\" id=\"5484e8cc-6473-11eb-a588-acde48001122-hint\"></span>\n",
       "    </div>\n",
       "    "
      ],
      "text/plain": [
       "<IPython.core.display.HTML object>"
      ]
     },
     "execution_count": 10,
     "metadata": {},
     "output_type": "execute_result"
    }
   ],
   "source": [
    "quiz(\"If `s = '<foo>\\\"bar</foo>'` (i.e., `BAD_INPUT`), \"\n",
    "     \"what is the value of `out` such that the assertion fails?\",\n",
    "    [\n",
    "        '`bar`',\n",
    "        '`bar</foo>`',\n",
    "        '`\"bar</foo>`',\n",
    "        '`<foo>\"bar</foo>`',\n",
    "    ], '9999999 // 4999999')"
   ]
  },
  {
   "cell_type": "markdown",
   "metadata": {
    "slideshow": {
     "slide_type": "slide"
    }
   },
   "source": [
    "## Grammars\n",
    "\n",
    "To determine abstract failure-inducing inputs, we need means to determine and characterize _sets of inputs_ – known in computer science as _languages_. To formally describe languages, the field of *formal languages* has devised a number of *language specifications* that describe a language.  *Regular expressions* represent the simplest class of these languages to denote sets of strings: The regular expression `[a-z]*`, for instance, denotes a (possibly empty) sequence of lowercase letters.  *Automata theory* connects these languages to automata that accept these inputs; *finite state machines*, for instance, can be used to specify the language of regular expressions."
   ]
  },
  {
   "cell_type": "markdown",
   "metadata": {
    "slideshow": {
     "slide_type": "subslide"
    }
   },
   "source": [
    "Regular expressions are great for not-too-complex input formats, and the associated finite state machines have many properties that make them great for reasoning.  To specify more complex inputs, though, they quickly encounter limitations.  At the other end of the language spectrum, we have *universal grammars* that denote the language accepted by *Turing machines*.  A Turing machine can compute anything that can be computed; and with Python being Turing-complete, this means that we can also use a Python program $p$ to specify or even enumerate legal inputs. But then, computer science theory also tells us that each such program has to be written specifically for the input to be considered, which is not the level of automation we want."
   ]
  },
  {
   "cell_type": "markdown",
   "metadata": {
    "slideshow": {
     "slide_type": "subslide"
    }
   },
   "source": [
    "The middle ground between regular expressions and Turing machines is covered by *grammars*.  Grammars are among the most popular (and best understood) formalisms to formally specify input languages.  Using a grammar, one can express a wide range of the properties of an input language.  Grammars are particularly great for expressing the *syntactical structure* of an input, and are the formalism of choice to express nested or recursive inputs.  The grammars we use are so-called *context-free grammars*, one of the easiest and most popular grammar formalisms."
   ]
  },
  {
   "cell_type": "markdown",
   "metadata": {
    "slideshow": {
     "slide_type": "fragment"
    }
   },
   "source": [
    "A grammar is defined as a mapping of _nonterminal_ symbols (denoted in `<angle brackets>` to lists of alternative _expansions_, which are strings containing _terminal_ symbols and possibly more _nonterminal_ symbols. To make the writing of grammars as simple as possible, we adopt the [fuzzingbook](https://www.fuzzingbook.org/) format that is based on strings and lists."
   ]
  },
  {
   "cell_type": "code",
   "execution_count": 11,
   "metadata": {
    "slideshow": {
     "slide_type": "skip"
    }
   },
   "outputs": [],
   "source": [
    "import fuzzingbook"
   ]
  },
  {
   "cell_type": "markdown",
   "metadata": {
    "slideshow": {
     "slide_type": "subslide"
    }
   },
   "source": [
    "Fuzzingbook grammars take the format of a _mapping_ between symbol names and expansions, where expansions are _lists_ of alternatives.  A one-rule grammar for digits thus takes the form"
   ]
  },
  {
   "cell_type": "code",
   "execution_count": 12,
   "metadata": {
    "slideshow": {
     "slide_type": "fragment"
    }
   },
   "outputs": [],
   "source": [
    "DIGIT_GRAMMAR = {\n",
    "    \"<start>\":\n",
    "        [\"0\", \"1\", \"2\", \"3\", \"4\", \"5\", \"6\", \"7\", \"8\", \"9\"]\n",
    "}"
   ]
  },
  {
   "cell_type": "markdown",
   "metadata": {
    "slideshow": {
     "slide_type": "fragment"
    }
   },
   "source": [
    "which means that the `<start>` symbol can be expanded into any of the digits listed."
   ]
  },
  {
   "cell_type": "markdown",
   "metadata": {
    "slideshow": {
     "slide_type": "fragment"
    }
   },
   "source": [
    "A full grammar for arithmetic expressions looks like this:"
   ]
  },
  {
   "cell_type": "code",
   "execution_count": 13,
   "metadata": {
    "slideshow": {
     "slide_type": "subslide"
    }
   },
   "outputs": [],
   "source": [
    "EXPR_GRAMMAR = {\n",
    "    \"<start>\":\n",
    "        [\"<expr>\"],\n",
    "\n",
    "    \"<expr>\":\n",
    "        [\"<term> + <expr>\", \"<term> - <expr>\", \"<term>\"],\n",
    "\n",
    "    \"<term>\":\n",
    "        [\"<factor> * <term>\", \"<factor> / <term>\", \"<factor>\"],\n",
    "\n",
    "    \"<factor>\":\n",
    "        [\"+<factor>\",\n",
    "         \"-<factor>\",\n",
    "         \"(<expr>)\",\n",
    "         \"<integer>.<integer>\",\n",
    "         \"<integer>\"],\n",
    "\n",
    "    \"<integer>\":\n",
    "        [\"<digit><integer>\", \"<digit>\"],\n",
    "\n",
    "    \"<digit>\":\n",
    "        [\"0\", \"1\", \"2\", \"3\", \"4\", \"5\", \"6\", \"7\", \"8\", \"9\"]\n",
    "}"
   ]
  },
  {
   "cell_type": "markdown",
   "metadata": {
    "slideshow": {
     "slide_type": "subslide"
    }
   },
   "source": [
    "From such a grammar, one can easily generate inputs that conform to the grammar."
   ]
  },
  {
   "cell_type": "code",
   "execution_count": 14,
   "metadata": {
    "slideshow": {
     "slide_type": "skip"
    }
   },
   "outputs": [],
   "source": [
    "from fuzzingbook.GrammarFuzzer import GrammarFuzzer"
   ]
  },
  {
   "cell_type": "code",
   "execution_count": 15,
   "metadata": {
    "slideshow": {
     "slide_type": "fragment"
    }
   },
   "outputs": [],
   "source": [
    "simple_expr_fuzzer = GrammarFuzzer(EXPR_GRAMMAR)"
   ]
  },
  {
   "cell_type": "code",
   "execution_count": 16,
   "metadata": {
    "slideshow": {
     "slide_type": "subslide"
    }
   },
   "outputs": [
    {
     "name": "stdout",
     "output_type": "stream",
     "text": [
      "3.8 + --62.912 - ++4 - +5 * 3.0 * 4\n",
      "7 * (75.5 - -6 + 5 - 4) + -(8 - 1) / 5 * 2\n",
      "(-(9) * +6 + 9 / 3 * 8 - 9 * 8 / 7) / -+-65\n",
      "(9 + 8) * 2 * (6 + 6 + 9) * 0 * 1.9 * 0\n",
      "(1 * 7 - 9 + 5) * 5 / 0 * 5 + 7 * 5 * 7\n",
      "-(6 / 9 - 5 - 3 - 1) - -1 / +1 + (9) / (8) * 6\n",
      "(+-(0 - (1) * 7 / 3)) / ((1 * 3 + 8) + 9 - +1 / --0) - 5 * (-+939.491)\n",
      "+2.9 * 0 / 501.19814 / --+--(6.05002)\n",
      "+-8.8 / (1) * -+1 + -8 + 9 - 3 / 8 * 6 + 4 * 3 * 5\n",
      "(+(8 / 9 - 1 - 7)) + ---06.30 / +4.39\n"
     ]
    }
   ],
   "source": [
    "for i in range(10):\n",
    "    fuzz_expr = simple_expr_fuzzer.fuzz()\n",
    "    print(fuzz_expr)"
   ]
  },
  {
   "cell_type": "markdown",
   "metadata": {
    "slideshow": {
     "slide_type": "subslide"
    }
   },
   "source": [
    "Nonterminals as found in the grammar make natural _placeholders_ in abstract failure-inducing inputs. If we know, for instance, that it is not just the concrete failure-inducing input\n",
    "\n",
    "```python\n",
    "(2 * 3)\n",
    "```\n",
    "\n",
    "but the abstract failure-inducing input\n",
    "\n",
    "```html\n",
    "(<expr> * <expr>)\n",
    "```\n",
    "\n",
    "that causes the failure, we immediately see that the error is due to the multiplication operator rather than its operands."
   ]
  },
  {
   "cell_type": "markdown",
   "metadata": {
    "slideshow": {
     "slide_type": "subslide"
    }
   },
   "source": [
    "Coming back to our `remove_html_markup()` example, let us create a simple grammar for HTML expressions. A `<html>` element is either plain text or tagged text."
   ]
  },
  {
   "cell_type": "code",
   "execution_count": 17,
   "metadata": {
    "button": false,
    "new_sheet": false,
    "run_control": {
     "read_only": false
    },
    "slideshow": {
     "slide_type": "subslide"
    }
   },
   "outputs": [],
   "source": [
    "SIMPLE_HTML_GRAMMAR = {\n",
    "    \"<start>\":\n",
    "        [\"<html>\"],\n",
    "\n",
    "    \"<html>\":\n",
    "        [\"<plain-text>\", \"<tagged-text>\"],\n",
    "}"
   ]
  },
  {
   "cell_type": "markdown",
   "metadata": {
    "slideshow": {
     "slide_type": "fragment"
    }
   },
   "source": [
    "Plain text is a simple (possibly empty) sequence of letter, digits, punctuation, and whitespace. (Note how `<plain-text>` is either empty or some character followed by more plain text.) The characters `<` and `>` are not allowed, though."
   ]
  },
  {
   "cell_type": "code",
   "execution_count": 18,
   "metadata": {
    "slideshow": {
     "slide_type": "skip"
    }
   },
   "outputs": [],
   "source": [
    "import string"
   ]
  },
  {
   "cell_type": "code",
   "execution_count": 19,
   "metadata": {
    "button": false,
    "new_sheet": false,
    "run_control": {
     "read_only": false
    },
    "slideshow": {
     "slide_type": "subslide"
    }
   },
   "outputs": [],
   "source": [
    "SIMPLE_HTML_GRAMMAR.update({\n",
    "    \"<plain-text>\":\n",
    "        [\"\", \"<plain-char><plain-text>\"],\n",
    "\n",
    "    \"<plain-char>\":\n",
    "        [\"<letter>\", \"<digit>\", \"<other>\", \"<whitespace>\"],\n",
    "\n",
    "    \"<letter>\": list(string.ascii_letters),\n",
    "    \"<digit>\": list(string.digits),\n",
    "    \"<other>\": list(string.punctuation.replace('<', '').replace('>', '')),\n",
    "    \"<whitespace>\": list(string.whitespace)\n",
    "})"
   ]
  },
  {
   "cell_type": "markdown",
   "metadata": {
    "slideshow": {
     "slide_type": "subslide"
    }
   },
   "source": [
    "Tagged text is a bit more complicated. We have opening tags `<foo>`, followed by some more HTML material, and then closed by a closing tag `</foo>`. (We do not insist that the two tags match.) A self-closing tag has the form `<br/>`. For compatibility reasons, we also allow just opening tags without closing tags, as in `<img>`."
   ]
  },
  {
   "cell_type": "code",
   "execution_count": 20,
   "metadata": {
    "button": false,
    "new_sheet": false,
    "run_control": {
     "read_only": false
    },
    "slideshow": {
     "slide_type": "subslide"
    }
   },
   "outputs": [],
   "source": [
    "SIMPLE_HTML_GRAMMAR.update({\n",
    "    \"<tagged-text>\":\n",
    "        [\"<opening-tag><html><closing-tag>\",\n",
    "         \"<self-closing-tag>\",\n",
    "         \"<opening-tag>\"],\n",
    "})"
   ]
  },
  {
   "cell_type": "markdown",
   "metadata": {
    "slideshow": {
     "slide_type": "fragment"
    }
   },
   "source": [
    "Since the characters `<` and `>` are already reserved for denoting nonterminal symbols, we use the special nonterminal symbols `<lt>` and `<gt>` that expand into `<` and `>`, respectively,"
   ]
  },
  {
   "cell_type": "code",
   "execution_count": 21,
   "metadata": {
    "button": false,
    "new_sheet": false,
    "run_control": {
     "read_only": false
    },
    "slideshow": {
     "slide_type": "subslide"
    }
   },
   "outputs": [],
   "source": [
    "SIMPLE_HTML_GRAMMAR.update({\n",
    "    \"<opening-tag>\":\n",
    "        [\"<lt><id><gt>\",\n",
    "         \"<lt><id><attrs><gt>\"],\n",
    "\n",
    "    \"<lt>\": [ \"<\" ],\n",
    "    \"<gt>\": [ \">\" ],\n",
    "\n",
    "    \"<id>\":\n",
    "        [\"<letter>\", \"<id><letter>\", \"<id><digit>\"],\n",
    "\n",
    "    \"<closing-tag>\":\n",
    "        [\"<lt>/<id><gt>\"],\n",
    "\n",
    "    \"<self-closing-tag>\":\n",
    "        [\"<lt><id><attrs>/<gt>\"],\n",
    "})"
   ]
  },
  {
   "cell_type": "markdown",
   "metadata": {
    "slideshow": {
     "slide_type": "subslide"
    }
   },
   "source": [
    "Finally, HTML tags can have attributes, which are enclosed in quotes."
   ]
  },
  {
   "cell_type": "code",
   "execution_count": 22,
   "metadata": {
    "button": false,
    "new_sheet": false,
    "run_control": {
     "read_only": false
    },
    "slideshow": {
     "slide_type": "subslide"
    }
   },
   "outputs": [],
   "source": [
    "SIMPLE_HTML_GRAMMAR.update({\n",
    "    \"<attrs>\":\n",
    "        [\"<attr>\", \"<attr><attrs>\" ],\n",
    "\n",
    "    \"<attr>\":\n",
    "        [\" <id>='<plain-text>'\",\n",
    "         ' <id>=\"<plain-text>\"'],\n",
    "})"
   ]
  },
  {
   "cell_type": "markdown",
   "metadata": {
    "slideshow": {
     "slide_type": "fragment"
    }
   },
   "source": [
    "Again, we can generate inputs from the grammar."
   ]
  },
  {
   "cell_type": "code",
   "execution_count": 23,
   "metadata": {
    "slideshow": {
     "slide_type": "fragment"
    }
   },
   "outputs": [],
   "source": [
    "simple_html_fuzzer = GrammarFuzzer(SIMPLE_HTML_GRAMMAR)"
   ]
  },
  {
   "cell_type": "code",
   "execution_count": 24,
   "metadata": {
    "slideshow": {
     "slide_type": "subslide"
    }
   },
   "outputs": [
    {
     "name": "stdout",
     "output_type": "stream",
     "text": [
      "'<T3 xG=\"\">'\n",
      "'<N9cd U=\\'\\' y=\\'l1\\' v0=\"\" tb4ya=\"\" UbD=\\'\\'>9</R>'\n",
      "'\\x0b'\n",
      "' ea\\\\\\\\'\n",
      "'&7'\n",
      "\"<c1 o2='' x9661lQo64T=''/>\"\n",
      "'<S4>'\n",
      "'<GMS></wAu>'\n",
      "'<j CI=\\'\\' T98sJ=\"\" DR4=\\'\\'/>'\n",
      "'<FQc90 Wt=\"\"/>'\n"
     ]
    }
   ],
   "source": [
    "for i in range(10):\n",
    "    fuzz_html = simple_html_fuzzer.fuzz()\n",
    "    print(repr(fuzz_html))"
   ]
  },
  {
   "cell_type": "markdown",
   "metadata": {
    "slideshow": {
     "slide_type": "subslide"
    }
   },
   "source": [
    "Such inputs, of course, are great for systematic testing. Our sister book, [the fuzzing book](https://www.fuzzingbook.org/), covers these and more."
   ]
  },
  {
   "cell_type": "markdown",
   "metadata": {
    "slideshow": {
     "slide_type": "slide"
    }
   },
   "source": [
    "## Derivation Trees\n",
    "\n",
    "To produce inputs from a grammar, the fuzzingbook `GrammarFuzzer` makes use of a structure called a *derivation tree* (also known as *syntax tree*). A derivation tree encodes the individual expansion steps undertaken while producing the output."
   ]
  },
  {
   "cell_type": "markdown",
   "metadata": {
    "slideshow": {
     "slide_type": "fragment"
    }
   },
   "source": [
    "Let us illustrate derivation trees by example, using the last HTML output we produced."
   ]
  },
  {
   "cell_type": "code",
   "execution_count": 25,
   "metadata": {
    "slideshow": {
     "slide_type": "fragment"
    }
   },
   "outputs": [
    {
     "data": {
      "text/plain": [
       "'<FQc90 Wt=\"\"/>'"
      ]
     },
     "execution_count": 25,
     "metadata": {},
     "output_type": "execute_result"
    }
   ],
   "source": [
    "fuzz_html"
   ]
  },
  {
   "cell_type": "markdown",
   "metadata": {
    "slideshow": {
     "slide_type": "fragment"
    }
   },
   "source": [
    "The `GrammarFuzzer` attribute `derivation_tree` holds the last tree used to produced this input. We can visualize the tree as follows:"
   ]
  },
  {
   "cell_type": "code",
   "execution_count": 26,
   "metadata": {
    "slideshow": {
     "slide_type": "skip"
    }
   },
   "outputs": [],
   "source": [
    "from fuzzingbook.GrammarFuzzer import display_tree"
   ]
  },
  {
   "cell_type": "code",
   "execution_count": 27,
   "metadata": {
    "slideshow": {
     "slide_type": "subslide"
    }
   },
   "outputs": [],
   "source": [
    "# ignore\n",
    "def display_tree(tree):\n",
    "    def graph_attr(dot):\n",
    "        dot.attr('node', shape='plain')\n",
    "        dot.attr('node', fontname=\"'Fira Mono', 'Source Code Pro', 'Courier', monospace\")\n",
    "        \n",
    "    def node_attr(dot, nid, symbol, ann):\n",
    "        fuzzingbook.GrammarFuzzer.default_node_attr(dot, nid, symbol, ann)\n",
    "        if symbol.startswith('<'):\n",
    "            dot.node(repr(nid), fontcolor='#0060a0')\n",
    "        else:\n",
    "            dot.node(repr(nid), fontcolor='#00a060')\n",
    "        dot.node(repr(nid), scale='2')\n",
    "    \n",
    "    return fuzzingbook.GrammarFuzzer.display_tree(tree,\n",
    "        node_attr=node_attr,\n",
    "        graph_attr=graph_attr)"
   ]
  },
  {
   "cell_type": "code",
   "execution_count": 28,
   "metadata": {
    "slideshow": {
     "slide_type": "subslide"
    }
   },
   "outputs": [
    {
     "data": {
      "image/svg+xml": [
       "<?xml version=\"1.0\" encoding=\"UTF-8\" standalone=\"no\"?>\n",
       "<!DOCTYPE svg PUBLIC \"-//W3C//DTD SVG 1.1//EN\"\n",
       " \"http://www.w3.org/Graphics/SVG/1.1/DTD/svg11.dtd\">\n",
       "<!-- Generated by graphviz version 2.40.1 (20161225.0304)\n",
       " -->\n",
       "<!-- Title: %3 Pages: 1 -->\n",
       "<svg width=\"559pt\" height=\"533pt\"\n",
       " viewBox=\"0.00 0.00 558.50 533.00\" xmlns=\"http://www.w3.org/2000/svg\" xmlns:xlink=\"http://www.w3.org/1999/xlink\">\n",
       "<g id=\"graph0\" class=\"graph\" transform=\"scale(1 1) rotate(0) translate(4 529)\">\n",
       "<title>%3</title>\n",
       "<polygon fill=\"#ffffff\" stroke=\"transparent\" points=\"-4,4 -4,-529 554.5,-529 554.5,4 -4,4\"/>\n",
       "<!-- 0 -->\n",
       "<g id=\"node1\" class=\"node\">\n",
       "<title>0</title>\n",
       "<text text-anchor=\"middle\" x=\"344\" y=\"-513.8\" font-family=\"'Fira Mono', 'Source Code Pro', 'Courier', monospace\" font-size=\"14.00\" fill=\"#0060a0\">&lt;start&gt;</text>\n",
       "</g>\n",
       "<!-- 1 -->\n",
       "<g id=\"node2\" class=\"node\">\n",
       "<title>1</title>\n",
       "<text text-anchor=\"middle\" x=\"344\" y=\"-462.8\" font-family=\"'Fira Mono', 'Source Code Pro', 'Courier', monospace\" font-size=\"14.00\" fill=\"#0060a0\">&lt;html&gt;</text>\n",
       "</g>\n",
       "<!-- 0&#45;&gt;1 -->\n",
       "<g id=\"edge1\" class=\"edge\">\n",
       "<title>0&#45;&gt;1</title>\n",
       "<path fill=\"none\" stroke=\"#000000\" d=\"M344,-509.9748C344,-503.195 344,-492.966 344,-484.1331\"/>\n",
       "<polygon fill=\"#000000\" stroke=\"#000000\" points=\"347.5001,-484.0561 344,-474.0561 340.5001,-484.0561 347.5001,-484.0561\"/>\n",
       "</g>\n",
       "<!-- 2 -->\n",
       "<g id=\"node3\" class=\"node\">\n",
       "<title>2</title>\n",
       "<text text-anchor=\"middle\" x=\"344\" y=\"-411.8\" font-family=\"'Fira Mono', 'Source Code Pro', 'Courier', monospace\" font-size=\"14.00\" fill=\"#0060a0\">&lt;tagged&#45;text&gt;</text>\n",
       "</g>\n",
       "<!-- 1&#45;&gt;2 -->\n",
       "<g id=\"edge2\" class=\"edge\">\n",
       "<title>1&#45;&gt;2</title>\n",
       "<path fill=\"none\" stroke=\"#000000\" d=\"M344,-458.9748C344,-452.195 344,-441.966 344,-433.1331\"/>\n",
       "<polygon fill=\"#000000\" stroke=\"#000000\" points=\"347.5001,-433.0561 344,-423.0561 340.5001,-433.0561 347.5001,-433.0561\"/>\n",
       "</g>\n",
       "<!-- 3 -->\n",
       "<g id=\"node4\" class=\"node\">\n",
       "<title>3</title>\n",
       "<text text-anchor=\"middle\" x=\"344\" y=\"-360.8\" font-family=\"'Fira Mono', 'Source Code Pro', 'Courier', monospace\" font-size=\"14.00\" fill=\"#0060a0\">&lt;self&#45;closing&#45;tag&gt;</text>\n",
       "</g>\n",
       "<!-- 2&#45;&gt;3 -->\n",
       "<g id=\"edge3\" class=\"edge\">\n",
       "<title>2&#45;&gt;3</title>\n",
       "<path fill=\"none\" stroke=\"#000000\" d=\"M344,-407.9748C344,-401.195 344,-390.966 344,-382.1331\"/>\n",
       "<polygon fill=\"#000000\" stroke=\"#000000\" points=\"347.5001,-382.0561 344,-372.0561 340.5001,-382.0561 347.5001,-382.0561\"/>\n",
       "</g>\n",
       "<!-- 4 -->\n",
       "<g id=\"node5\" class=\"node\">\n",
       "<title>4</title>\n",
       "<text text-anchor=\"middle\" x=\"219\" y=\"-309.8\" font-family=\"'Fira Mono', 'Source Code Pro', 'Courier', monospace\" font-size=\"14.00\" fill=\"#0060a0\">&lt;lt&gt;</text>\n",
       "</g>\n",
       "<!-- 3&#45;&gt;4 -->\n",
       "<g id=\"edge4\" class=\"edge\">\n",
       "<title>3&#45;&gt;4</title>\n",
       "<path fill=\"none\" stroke=\"#000000\" d=\"M325.5558,-356.9748C304.4262,-348.3539 269.6282,-334.1563 245.5765,-324.3432\"/>\n",
       "<polygon fill=\"#000000\" stroke=\"#000000\" points=\"246.8922,-321.0999 236.3109,-320.5629 244.2478,-327.5813 246.8922,-321.0999\"/>\n",
       "</g>\n",
       "<!-- 6 -->\n",
       "<g id=\"node7\" class=\"node\">\n",
       "<title>6</title>\n",
       "<text text-anchor=\"middle\" x=\"279\" y=\"-309.8\" font-family=\"'Fira Mono', 'Source Code Pro', 'Courier', monospace\" font-size=\"14.00\" fill=\"#0060a0\">&lt;id&gt;</text>\n",
       "</g>\n",
       "<!-- 3&#45;&gt;6 -->\n",
       "<g id=\"edge6\" class=\"edge\">\n",
       "<title>3&#45;&gt;6</title>\n",
       "<path fill=\"none\" stroke=\"#000000\" d=\"M334.409,-356.9748C324.52,-349.2157 308.8733,-336.939 296.7253,-327.4075\"/>\n",
       "<polygon fill=\"#000000\" stroke=\"#000000\" points=\"298.6582,-324.4754 288.6303,-321.0561 294.3372,-329.9826 298.6582,-324.4754\"/>\n",
       "</g>\n",
       "<!-- 21 -->\n",
       "<g id=\"node22\" class=\"node\">\n",
       "<title>21</title>\n",
       "<text text-anchor=\"middle\" x=\"344\" y=\"-309.8\" font-family=\"'Fira Mono', 'Source Code Pro', 'Courier', monospace\" font-size=\"14.00\" fill=\"#0060a0\">&lt;attrs&gt;</text>\n",
       "</g>\n",
       "<!-- 3&#45;&gt;21 -->\n",
       "<g id=\"edge21\" class=\"edge\">\n",
       "<title>3&#45;&gt;21</title>\n",
       "<path fill=\"none\" stroke=\"#000000\" d=\"M344,-356.9748C344,-350.195 344,-339.966 344,-331.1331\"/>\n",
       "<polygon fill=\"#000000\" stroke=\"#000000\" points=\"347.5001,-331.0561 344,-321.0561 340.5001,-331.0561 347.5001,-331.0561\"/>\n",
       "</g>\n",
       "<!-- 34 -->\n",
       "<g id=\"node35\" class=\"node\">\n",
       "<title>34</title>\n",
       "<text text-anchor=\"middle\" x=\"396\" y=\"-309.8\" font-family=\"'Fira Mono', 'Source Code Pro', 'Courier', monospace\" font-size=\"14.00\" fill=\"#00a060\">/</text>\n",
       "</g>\n",
       "<!-- 3&#45;&gt;34 -->\n",
       "<g id=\"edge34\" class=\"edge\">\n",
       "<title>3&#45;&gt;34</title>\n",
       "<path fill=\"none\" stroke=\"#000000\" d=\"M351.6728,-356.9748C360.2365,-348.5758 374.1973,-334.8834 384.1629,-325.1094\"/>\n",
       "<polygon fill=\"#000000\" stroke=\"#000000\" points=\"386.6995,-327.524 391.3882,-318.0231 381.798,-322.5264 386.6995,-327.524\"/>\n",
       "</g>\n",
       "<!-- 35 -->\n",
       "<g id=\"node36\" class=\"node\">\n",
       "<title>35</title>\n",
       "<text text-anchor=\"middle\" x=\"436\" y=\"-309.8\" font-family=\"'Fira Mono', 'Source Code Pro', 'Courier', monospace\" font-size=\"14.00\" fill=\"#0060a0\">&lt;gt&gt;</text>\n",
       "</g>\n",
       "<!-- 3&#45;&gt;35 -->\n",
       "<g id=\"edge35\" class=\"edge\">\n",
       "<title>3&#45;&gt;35</title>\n",
       "<path fill=\"none\" stroke=\"#000000\" d=\"M357.5749,-356.9748C372.2512,-348.839 395.8871,-335.7365 413.3794,-326.0397\"/>\n",
       "<polygon fill=\"#000000\" stroke=\"#000000\" points=\"415.3203,-328.9656 422.3694,-321.0561 411.9264,-322.8434 415.3203,-328.9656\"/>\n",
       "</g>\n",
       "<!-- 5 -->\n",
       "<g id=\"node6\" class=\"node\">\n",
       "<title>5</title>\n",
       "<text text-anchor=\"middle\" x=\"183\" y=\"-258.8\" font-family=\"'Fira Mono', 'Source Code Pro', 'Courier', monospace\" font-size=\"14.00\" fill=\"#0060a0\">&lt;</text>\n",
       "</g>\n",
       "<!-- 4&#45;&gt;5 -->\n",
       "<g id=\"edge5\" class=\"edge\">\n",
       "<title>4&#45;&gt;5</title>\n",
       "<path fill=\"none\" stroke=\"#000000\" d=\"M213.6881,-305.9748C208.4073,-298.4936 200.162,-286.8128 193.5473,-277.4421\"/>\n",
       "<polygon fill=\"#000000\" stroke=\"#000000\" points=\"196.2727,-275.2338 187.6465,-269.0825 190.5539,-279.2706 196.2727,-275.2338\"/>\n",
       "</g>\n",
       "<!-- 7 -->\n",
       "<g id=\"node8\" class=\"node\">\n",
       "<title>7</title>\n",
       "<text text-anchor=\"middle\" x=\"223\" y=\"-258.8\" font-family=\"'Fira Mono', 'Source Code Pro', 'Courier', monospace\" font-size=\"14.00\" fill=\"#0060a0\">&lt;id&gt;</text>\n",
       "</g>\n",
       "<!-- 6&#45;&gt;7 -->\n",
       "<g id=\"edge7\" class=\"edge\">\n",
       "<title>6&#45;&gt;7</title>\n",
       "<path fill=\"none\" stroke=\"#000000\" d=\"M270.737,-305.9748C262.3826,-298.3663 249.2586,-286.4141 238.884,-276.9658\"/>\n",
       "<polygon fill=\"#000000\" stroke=\"#000000\" points=\"241.047,-274.2017 231.2969,-270.0561 236.3337,-279.3771 241.047,-274.2017\"/>\n",
       "</g>\n",
       "<!-- 19 -->\n",
       "<g id=\"node20\" class=\"node\">\n",
       "<title>19</title>\n",
       "<text text-anchor=\"middle\" x=\"288\" y=\"-258.8\" font-family=\"'Fira Mono', 'Source Code Pro', 'Courier', monospace\" font-size=\"14.00\" fill=\"#0060a0\">&lt;digit&gt;</text>\n",
       "</g>\n",
       "<!-- 6&#45;&gt;19 -->\n",
       "<g id=\"edge19\" class=\"edge\">\n",
       "<title>6&#45;&gt;19</title>\n",
       "<path fill=\"none\" stroke=\"#000000\" d=\"M280.328,-305.9748C281.5244,-299.195 283.3295,-288.966 284.8883,-280.1331\"/>\n",
       "<polygon fill=\"#000000\" stroke=\"#000000\" points=\"288.3754,-280.5122 286.6666,-270.0561 281.4819,-279.2957 288.3754,-280.5122\"/>\n",
       "</g>\n",
       "<!-- 8 -->\n",
       "<g id=\"node9\" class=\"node\">\n",
       "<title>8</title>\n",
       "<text text-anchor=\"middle\" x=\"162\" y=\"-207.8\" font-family=\"'Fira Mono', 'Source Code Pro', 'Courier', monospace\" font-size=\"14.00\" fill=\"#0060a0\">&lt;id&gt;</text>\n",
       "</g>\n",
       "<!-- 7&#45;&gt;8 -->\n",
       "<g id=\"edge8\" class=\"edge\">\n",
       "<title>7&#45;&gt;8</title>\n",
       "<path fill=\"none\" stroke=\"#000000\" d=\"M213.9992,-254.9748C204.8088,-247.291 190.3195,-235.177 178.9674,-225.6859\"/>\n",
       "<polygon fill=\"#000000\" stroke=\"#000000\" points=\"180.9546,-222.7852 171.0377,-219.0561 176.4646,-228.1555 180.9546,-222.7852\"/>\n",
       "</g>\n",
       "<!-- 17 -->\n",
       "<g id=\"node18\" class=\"node\">\n",
       "<title>17</title>\n",
       "<text text-anchor=\"middle\" x=\"227\" y=\"-207.8\" font-family=\"'Fira Mono', 'Source Code Pro', 'Courier', monospace\" font-size=\"14.00\" fill=\"#0060a0\">&lt;digit&gt;</text>\n",
       "</g>\n",
       "<!-- 7&#45;&gt;17 -->\n",
       "<g id=\"edge17\" class=\"edge\">\n",
       "<title>7&#45;&gt;17</title>\n",
       "<path fill=\"none\" stroke=\"#000000\" d=\"M223.5902,-254.9748C224.122,-248.195 224.9242,-237.966 225.617,-229.1331\"/>\n",
       "<polygon fill=\"#000000\" stroke=\"#000000\" points=\"229.1146,-229.2992 226.4074,-219.0561 222.1361,-228.7518 229.1146,-229.2992\"/>\n",
       "</g>\n",
       "<!-- 9 -->\n",
       "<g id=\"node10\" class=\"node\">\n",
       "<title>9</title>\n",
       "<text text-anchor=\"middle\" x=\"97\" y=\"-156.8\" font-family=\"'Fira Mono', 'Source Code Pro', 'Courier', monospace\" font-size=\"14.00\" fill=\"#0060a0\">&lt;id&gt;</text>\n",
       "</g>\n",
       "<!-- 8&#45;&gt;9 -->\n",
       "<g id=\"edge9\" class=\"edge\">\n",
       "<title>8&#45;&gt;9</title>\n",
       "<path fill=\"none\" stroke=\"#000000\" d=\"M152.409,-203.9748C142.52,-196.2157 126.8733,-183.939 114.7253,-174.4075\"/>\n",
       "<polygon fill=\"#000000\" stroke=\"#000000\" points=\"116.6582,-171.4754 106.6303,-168.0561 112.3372,-176.9826 116.6582,-171.4754\"/>\n",
       "</g>\n",
       "<!-- 15 -->\n",
       "<g id=\"node16\" class=\"node\">\n",
       "<title>15</title>\n",
       "<text text-anchor=\"middle\" x=\"166\" y=\"-156.8\" font-family=\"'Fira Mono', 'Source Code Pro', 'Courier', monospace\" font-size=\"14.00\" fill=\"#0060a0\">&lt;letter&gt;</text>\n",
       "</g>\n",
       "<!-- 8&#45;&gt;15 -->\n",
       "<g id=\"edge15\" class=\"edge\">\n",
       "<title>8&#45;&gt;15</title>\n",
       "<path fill=\"none\" stroke=\"#000000\" d=\"M162.5902,-203.9748C163.122,-197.195 163.9242,-186.966 164.617,-178.1331\"/>\n",
       "<polygon fill=\"#000000\" stroke=\"#000000\" points=\"168.1146,-178.2992 165.4074,-168.0561 161.1361,-177.7518 168.1146,-178.2992\"/>\n",
       "</g>\n",
       "<!-- 10 -->\n",
       "<g id=\"node11\" class=\"node\">\n",
       "<title>10</title>\n",
       "<text text-anchor=\"middle\" x=\"34\" y=\"-105.8\" font-family=\"'Fira Mono', 'Source Code Pro', 'Courier', monospace\" font-size=\"14.00\" fill=\"#0060a0\">&lt;id&gt;</text>\n",
       "</g>\n",
       "<!-- 9&#45;&gt;10 -->\n",
       "<g id=\"edge10\" class=\"edge\">\n",
       "<title>9&#45;&gt;10</title>\n",
       "<path fill=\"none\" stroke=\"#000000\" d=\"M87.7041,-152.9748C78.1193,-145.2157 62.9541,-132.939 51.1799,-123.4075\"/>\n",
       "<polygon fill=\"#000000\" stroke=\"#000000\" points=\"53.3087,-120.6278 43.334,-117.0561 48.9043,-126.0685 53.3087,-120.6278\"/>\n",
       "</g>\n",
       "<!-- 13 -->\n",
       "<g id=\"node14\" class=\"node\">\n",
       "<title>13</title>\n",
       "<text text-anchor=\"middle\" x=\"103\" y=\"-105.8\" font-family=\"'Fira Mono', 'Source Code Pro', 'Courier', monospace\" font-size=\"14.00\" fill=\"#0060a0\">&lt;letter&gt;</text>\n",
       "</g>\n",
       "<!-- 9&#45;&gt;13 -->\n",
       "<g id=\"edge13\" class=\"edge\">\n",
       "<title>9&#45;&gt;13</title>\n",
       "<path fill=\"none\" stroke=\"#000000\" d=\"M97.8853,-152.9748C98.6829,-146.195 99.8864,-135.966 100.9255,-127.1331\"/>\n",
       "<polygon fill=\"#000000\" stroke=\"#000000\" points=\"104.4186,-127.3966 102.111,-117.0561 97.4665,-126.5786 104.4186,-127.3966\"/>\n",
       "</g>\n",
       "<!-- 11 -->\n",
       "<g id=\"node12\" class=\"node\">\n",
       "<title>11</title>\n",
       "<text text-anchor=\"middle\" x=\"34\" y=\"-54.8\" font-family=\"'Fira Mono', 'Source Code Pro', 'Courier', monospace\" font-size=\"14.00\" fill=\"#0060a0\">&lt;letter&gt;</text>\n",
       "</g>\n",
       "<!-- 10&#45;&gt;11 -->\n",
       "<g id=\"edge11\" class=\"edge\">\n",
       "<title>10&#45;&gt;11</title>\n",
       "<path fill=\"none\" stroke=\"#000000\" d=\"M34,-101.9748C34,-95.195 34,-84.966 34,-76.1331\"/>\n",
       "<polygon fill=\"#000000\" stroke=\"#000000\" points=\"37.5001,-76.0561 34,-66.0561 30.5001,-76.0561 37.5001,-76.0561\"/>\n",
       "</g>\n",
       "<!-- 12 -->\n",
       "<g id=\"node13\" class=\"node\">\n",
       "<title>12</title>\n",
       "<text text-anchor=\"middle\" x=\"34\" y=\"-3.8\" font-family=\"'Fira Mono', 'Source Code Pro', 'Courier', monospace\" font-size=\"14.00\" fill=\"#00a060\">F</text>\n",
       "</g>\n",
       "<!-- 11&#45;&gt;12 -->\n",
       "<g id=\"edge12\" class=\"edge\">\n",
       "<title>11&#45;&gt;12</title>\n",
       "<path fill=\"none\" stroke=\"#000000\" d=\"M34,-50.9748C34,-44.195 34,-33.966 34,-25.1331\"/>\n",
       "<polygon fill=\"#000000\" stroke=\"#000000\" points=\"37.5001,-25.0561 34,-15.0561 30.5001,-25.0561 37.5001,-25.0561\"/>\n",
       "</g>\n",
       "<!-- 14 -->\n",
       "<g id=\"node15\" class=\"node\">\n",
       "<title>14</title>\n",
       "<text text-anchor=\"middle\" x=\"103\" y=\"-54.8\" font-family=\"'Fira Mono', 'Source Code Pro', 'Courier', monospace\" font-size=\"14.00\" fill=\"#00a060\">Q</text>\n",
       "</g>\n",
       "<!-- 13&#45;&gt;14 -->\n",
       "<g id=\"edge14\" class=\"edge\">\n",
       "<title>13&#45;&gt;14</title>\n",
       "<path fill=\"none\" stroke=\"#000000\" d=\"M103,-101.9748C103,-95.195 103,-84.966 103,-76.1331\"/>\n",
       "<polygon fill=\"#000000\" stroke=\"#000000\" points=\"106.5001,-76.0561 103,-66.0561 99.5001,-76.0561 106.5001,-76.0561\"/>\n",
       "</g>\n",
       "<!-- 16 -->\n",
       "<g id=\"node17\" class=\"node\">\n",
       "<title>16</title>\n",
       "<text text-anchor=\"middle\" x=\"166\" y=\"-105.8\" font-family=\"'Fira Mono', 'Source Code Pro', 'Courier', monospace\" font-size=\"14.00\" fill=\"#00a060\">c</text>\n",
       "</g>\n",
       "<!-- 15&#45;&gt;16 -->\n",
       "<g id=\"edge16\" class=\"edge\">\n",
       "<title>15&#45;&gt;16</title>\n",
       "<path fill=\"none\" stroke=\"#000000\" d=\"M166,-152.9748C166,-146.195 166,-135.966 166,-127.1331\"/>\n",
       "<polygon fill=\"#000000\" stroke=\"#000000\" points=\"169.5001,-127.0561 166,-117.0561 162.5001,-127.0561 169.5001,-127.0561\"/>\n",
       "</g>\n",
       "<!-- 18 -->\n",
       "<g id=\"node19\" class=\"node\">\n",
       "<title>18</title>\n",
       "<text text-anchor=\"middle\" x=\"227\" y=\"-156.8\" font-family=\"'Fira Mono', 'Source Code Pro', 'Courier', monospace\" font-size=\"14.00\" fill=\"#00a060\">9</text>\n",
       "</g>\n",
       "<!-- 17&#45;&gt;18 -->\n",
       "<g id=\"edge18\" class=\"edge\">\n",
       "<title>17&#45;&gt;18</title>\n",
       "<path fill=\"none\" stroke=\"#000000\" d=\"M227,-203.9748C227,-197.195 227,-186.966 227,-178.1331\"/>\n",
       "<polygon fill=\"#000000\" stroke=\"#000000\" points=\"230.5001,-178.0561 227,-168.0561 223.5001,-178.0561 230.5001,-178.0561\"/>\n",
       "</g>\n",
       "<!-- 20 -->\n",
       "<g id=\"node21\" class=\"node\">\n",
       "<title>20</title>\n",
       "<text text-anchor=\"middle\" x=\"285\" y=\"-207.8\" font-family=\"'Fira Mono', 'Source Code Pro', 'Courier', monospace\" font-size=\"14.00\" fill=\"#00a060\">0</text>\n",
       "</g>\n",
       "<!-- 19&#45;&gt;20 -->\n",
       "<g id=\"edge20\" class=\"edge\">\n",
       "<title>19&#45;&gt;20</title>\n",
       "<path fill=\"none\" stroke=\"#000000\" d=\"M287.5573,-254.9748C287.1585,-248.195 286.5568,-237.966 286.0372,-229.1331\"/>\n",
       "<polygon fill=\"#000000\" stroke=\"#000000\" points=\"289.5258,-228.8333 285.4445,-219.0561 282.5378,-229.2444 289.5258,-228.8333\"/>\n",
       "</g>\n",
       "<!-- 22 -->\n",
       "<g id=\"node23\" class=\"node\">\n",
       "<title>22</title>\n",
       "<text text-anchor=\"middle\" x=\"379\" y=\"-258.8\" font-family=\"'Fira Mono', 'Source Code Pro', 'Courier', monospace\" font-size=\"14.00\" fill=\"#0060a0\">&lt;attr&gt;</text>\n",
       "</g>\n",
       "<!-- 21&#45;&gt;22 -->\n",
       "<g id=\"edge22\" class=\"edge\">\n",
       "<title>21&#45;&gt;22</title>\n",
       "<path fill=\"none\" stroke=\"#000000\" d=\"M349.1644,-305.9748C354.1274,-298.743 361.7835,-287.5868 368.0974,-278.3866\"/>\n",
       "<polygon fill=\"#000000\" stroke=\"#000000\" points=\"371.0418,-280.2817 373.8144,-270.0561 365.2702,-276.3208 371.0418,-280.2817\"/>\n",
       "</g>\n",
       "<!-- 23 -->\n",
       "<g id=\"node24\" class=\"node\">\n",
       "<title>23</title>\n",
       "<text text-anchor=\"middle\" x=\"312\" y=\"-207.8\" font-family=\"'Fira Mono', 'Source Code Pro', 'Courier', monospace\" font-size=\"14.00\" fill=\"#00a060\"> </text>\n",
       "</g>\n",
       "<!-- 22&#45;&gt;23 -->\n",
       "<g id=\"edge23\" class=\"edge\">\n",
       "<title>22&#45;&gt;23</title>\n",
       "<path fill=\"none\" stroke=\"#000000\" d=\"M369.1139,-254.9748C357.3952,-246.0545 337.8324,-231.1635 324.9233,-221.3371\"/>\n",
       "<polygon fill=\"#000000\" stroke=\"#000000\" points=\"326.6657,-218.2648 316.5887,-214.9929 322.4258,-223.8347 326.6657,-218.2648\"/>\n",
       "</g>\n",
       "<!-- 24 -->\n",
       "<g id=\"node25\" class=\"node\">\n",
       "<title>24</title>\n",
       "<text text-anchor=\"middle\" x=\"352\" y=\"-207.8\" font-family=\"'Fira Mono', 'Source Code Pro', 'Courier', monospace\" font-size=\"14.00\" fill=\"#0060a0\">&lt;id&gt;</text>\n",
       "</g>\n",
       "<!-- 22&#45;&gt;24 -->\n",
       "<g id=\"edge24\" class=\"edge\">\n",
       "<title>22&#45;&gt;24</title>\n",
       "<path fill=\"none\" stroke=\"#000000\" d=\"M375.0161,-254.9748C371.2672,-247.8936 365.5265,-237.05 360.7163,-227.9641\"/>\n",
       "<polygon fill=\"#000000\" stroke=\"#000000\" points=\"363.7725,-226.2564 356.0003,-219.0561 357.586,-229.5316 363.7725,-226.2564\"/>\n",
       "</g>\n",
       "<!-- 30 -->\n",
       "<g id=\"node31\" class=\"node\">\n",
       "<title>30</title>\n",
       "<text text-anchor=\"middle\" x=\"396\" y=\"-207.8\" font-family=\"'Fira Mono', 'Source Code Pro', 'Courier', monospace\" font-size=\"14.00\" fill=\"#00a060\">=&quot;</text>\n",
       "</g>\n",
       "<!-- 22&#45;&gt;30 -->\n",
       "<g id=\"edge30\" class=\"edge\">\n",
       "<title>22&#45;&gt;30</title>\n",
       "<path fill=\"none\" stroke=\"#000000\" d=\"M381.5084,-254.9748C383.8186,-248.0443 387.3301,-237.5097 390.3179,-228.5464\"/>\n",
       "<polygon fill=\"#000000\" stroke=\"#000000\" points=\"393.6393,-229.6498 393.4813,-219.0561 386.9986,-227.4361 393.6393,-229.6498\"/>\n",
       "</g>\n",
       "<!-- 31 -->\n",
       "<g id=\"node32\" class=\"node\">\n",
       "<title>31</title>\n",
       "<text text-anchor=\"middle\" x=\"473\" y=\"-207.8\" font-family=\"'Fira Mono', 'Source Code Pro', 'Courier', monospace\" font-size=\"14.00\" fill=\"#0060a0\">&lt;plain&#45;text&gt;</text>\n",
       "</g>\n",
       "<!-- 22&#45;&gt;31 -->\n",
       "<g id=\"edge31\" class=\"edge\">\n",
       "<title>22&#45;&gt;31</title>\n",
       "<path fill=\"none\" stroke=\"#000000\" d=\"M392.87,-254.9748C407.8654,-246.839 432.0151,-233.7365 449.8877,-224.0397\"/>\n",
       "<polygon fill=\"#000000\" stroke=\"#000000\" points=\"451.9525,-226.9014 459.0731,-219.0561 448.6143,-220.7486 451.9525,-226.9014\"/>\n",
       "</g>\n",
       "<!-- 33 -->\n",
       "<g id=\"node34\" class=\"node\">\n",
       "<title>33</title>\n",
       "<text text-anchor=\"middle\" x=\"546\" y=\"-207.8\" font-family=\"'Fira Mono', 'Source Code Pro', 'Courier', monospace\" font-size=\"14.00\" fill=\"#00a060\">&quot;</text>\n",
       "</g>\n",
       "<!-- 22&#45;&gt;33 -->\n",
       "<g id=\"edge33\" class=\"edge\">\n",
       "<title>22&#45;&gt;33</title>\n",
       "<path fill=\"none\" stroke=\"#000000\" d=\"M404.7374,-256.9692C435.6031,-249.9321 488.6082,-236.5534 532,-219 532.1022,-218.9586 532.2047,-218.9167 532.3074,-218.8743\"/>\n",
       "<polygon fill=\"#000000\" stroke=\"#000000\" points=\"534.104,-221.8881 541.4539,-214.2573 530.9495,-215.6391 534.104,-221.8881\"/>\n",
       "</g>\n",
       "<!-- 25 -->\n",
       "<g id=\"node26\" class=\"node\">\n",
       "<title>25</title>\n",
       "<text text-anchor=\"middle\" x=\"317\" y=\"-156.8\" font-family=\"'Fira Mono', 'Source Code Pro', 'Courier', monospace\" font-size=\"14.00\" fill=\"#0060a0\">&lt;id&gt;</text>\n",
       "</g>\n",
       "<!-- 24&#45;&gt;25 -->\n",
       "<g id=\"edge25\" class=\"edge\">\n",
       "<title>24&#45;&gt;25</title>\n",
       "<path fill=\"none\" stroke=\"#000000\" d=\"M346.8356,-203.9748C341.8726,-196.743 334.2165,-185.5868 327.9026,-176.3866\"/>\n",
       "<polygon fill=\"#000000\" stroke=\"#000000\" points=\"330.7298,-174.3208 322.1856,-168.0561 324.9582,-178.2817 330.7298,-174.3208\"/>\n",
       "</g>\n",
       "<!-- 28 -->\n",
       "<g id=\"node29\" class=\"node\">\n",
       "<title>28</title>\n",
       "<text text-anchor=\"middle\" x=\"386\" y=\"-156.8\" font-family=\"'Fira Mono', 'Source Code Pro', 'Courier', monospace\" font-size=\"14.00\" fill=\"#0060a0\">&lt;letter&gt;</text>\n",
       "</g>\n",
       "<!-- 24&#45;&gt;28 -->\n",
       "<g id=\"edge28\" class=\"edge\">\n",
       "<title>24&#45;&gt;28</title>\n",
       "<path fill=\"none\" stroke=\"#000000\" d=\"M357.0168,-203.9748C361.838,-196.743 369.2754,-185.5868 375.4089,-176.3866\"/>\n",
       "<polygon fill=\"#000000\" stroke=\"#000000\" points=\"378.3277,-178.3181 380.9626,-168.0561 372.5034,-174.4352 378.3277,-178.3181\"/>\n",
       "</g>\n",
       "<!-- 26 -->\n",
       "<g id=\"node27\" class=\"node\">\n",
       "<title>26</title>\n",
       "<text text-anchor=\"middle\" x=\"317\" y=\"-105.8\" font-family=\"'Fira Mono', 'Source Code Pro', 'Courier', monospace\" font-size=\"14.00\" fill=\"#0060a0\">&lt;letter&gt;</text>\n",
       "</g>\n",
       "<!-- 25&#45;&gt;26 -->\n",
       "<g id=\"edge26\" class=\"edge\">\n",
       "<title>25&#45;&gt;26</title>\n",
       "<path fill=\"none\" stroke=\"#000000\" d=\"M317,-152.9748C317,-146.195 317,-135.966 317,-127.1331\"/>\n",
       "<polygon fill=\"#000000\" stroke=\"#000000\" points=\"320.5001,-127.0561 317,-117.0561 313.5001,-127.0561 320.5001,-127.0561\"/>\n",
       "</g>\n",
       "<!-- 27 -->\n",
       "<g id=\"node28\" class=\"node\">\n",
       "<title>27</title>\n",
       "<text text-anchor=\"middle\" x=\"317\" y=\"-54.8\" font-family=\"'Fira Mono', 'Source Code Pro', 'Courier', monospace\" font-size=\"14.00\" fill=\"#00a060\">W</text>\n",
       "</g>\n",
       "<!-- 26&#45;&gt;27 -->\n",
       "<g id=\"edge27\" class=\"edge\">\n",
       "<title>26&#45;&gt;27</title>\n",
       "<path fill=\"none\" stroke=\"#000000\" d=\"M317,-101.9748C317,-95.195 317,-84.966 317,-76.1331\"/>\n",
       "<polygon fill=\"#000000\" stroke=\"#000000\" points=\"320.5001,-76.0561 317,-66.0561 313.5001,-76.0561 320.5001,-76.0561\"/>\n",
       "</g>\n",
       "<!-- 29 -->\n",
       "<g id=\"node30\" class=\"node\">\n",
       "<title>29</title>\n",
       "<text text-anchor=\"middle\" x=\"386\" y=\"-105.8\" font-family=\"'Fira Mono', 'Source Code Pro', 'Courier', monospace\" font-size=\"14.00\" fill=\"#00a060\">t</text>\n",
       "</g>\n",
       "<!-- 28&#45;&gt;29 -->\n",
       "<g id=\"edge29\" class=\"edge\">\n",
       "<title>28&#45;&gt;29</title>\n",
       "<path fill=\"none\" stroke=\"#000000\" d=\"M386,-152.9748C386,-146.195 386,-135.966 386,-127.1331\"/>\n",
       "<polygon fill=\"#000000\" stroke=\"#000000\" points=\"389.5001,-127.0561 386,-117.0561 382.5001,-127.0561 389.5001,-127.0561\"/>\n",
       "</g>\n",
       "<!-- 32 -->\n",
       "<g id=\"node33\" class=\"node\">\n",
       "<title>32</title>\n",
       "</g>\n",
       "<!-- 31&#45;&gt;32 -->\n",
       "<g id=\"edge32\" class=\"edge\">\n",
       "<title>31&#45;&gt;32</title>\n",
       "<path fill=\"none\" stroke=\"#000000\" d=\"M473,-203.9748C473,-203.9194 473,-203.8637 473,-203.8078\"/>\n",
       "<polygon fill=\"#000000\" stroke=\"#000000\" points=\"476.5059,-213.6375 473,-203.6395 469.5059,-213.6416 476.5059,-213.6375\"/>\n",
       "</g>\n",
       "<!-- 36 -->\n",
       "<g id=\"node37\" class=\"node\">\n",
       "<title>36</title>\n",
       "<text text-anchor=\"middle\" x=\"436\" y=\"-258.8\" font-family=\"'Fira Mono', 'Source Code Pro', 'Courier', monospace\" font-size=\"14.00\" fill=\"#00a060\">&gt;</text>\n",
       "</g>\n",
       "<!-- 35&#45;&gt;36 -->\n",
       "<g id=\"edge36\" class=\"edge\">\n",
       "<title>35&#45;&gt;36</title>\n",
       "<path fill=\"none\" stroke=\"#000000\" d=\"M436,-305.9748C436,-299.195 436,-288.966 436,-280.1331\"/>\n",
       "<polygon fill=\"#000000\" stroke=\"#000000\" points=\"439.5001,-280.0561 436,-270.0561 432.5001,-280.0561 439.5001,-280.0561\"/>\n",
       "</g>\n",
       "</g>\n",
       "</svg>\n"
      ],
      "text/plain": [
       "<graphviz.dot.Digraph at 0x7f7f5972eb38>"
      ]
     },
     "execution_count": 28,
     "metadata": {},
     "output_type": "execute_result"
    }
   ],
   "source": [
    "display_tree(simple_html_fuzzer.derivation_tree)"
   ]
  },
  {
   "cell_type": "markdown",
   "metadata": {
    "slideshow": {
     "slide_type": "fragment"
    }
   },
   "source": [
    "From top to bottom, we see that the input was constructed from a `<start>` symbol, which then expanded into `html`, which then expanded into HTML text, and so on. Multiple children in a tree stand for a concatenation of individual symbols."
   ]
  },
  {
   "cell_type": "markdown",
   "metadata": {
    "slideshow": {
     "slide_type": "fragment"
    }
   },
   "source": [
    "Internally, these trees come as pairs `(symbol, children)`, where `symbol` is the name of a node (say, `<html>`), and `children` is a (possibly empty) list of subtrees. Here are the topmost nodes of the above tree:"
   ]
  },
  {
   "cell_type": "code",
   "execution_count": 29,
   "metadata": {
    "slideshow": {
     "slide_type": "skip"
    }
   },
   "outputs": [],
   "source": [
    "import pprint"
   ]
  },
  {
   "cell_type": "code",
   "execution_count": 30,
   "metadata": {
    "slideshow": {
     "slide_type": "fragment"
    }
   },
   "outputs": [
    {
     "name": "stdout",
     "output_type": "stream",
     "text": [
      "('<start>', [('<html>', [('<tagged-text>', [('<self-closing-tag>', [...])])])])\n"
     ]
    }
   ],
   "source": [
    "pp = pprint.PrettyPrinter(depth=7)\n",
    "pp.pprint(simple_html_fuzzer.derivation_tree)"
   ]
  },
  {
   "cell_type": "markdown",
   "metadata": {
    "slideshow": {
     "slide_type": "subslide"
    }
   },
   "source": [
    "To produce abstract failure-inducing patterns, we will work on this very structure. The idea is to\n",
    "\n",
    "1. systematically replace subtrees by other, generated, compatible subtrees (e.g. replace one `<html>` subtree in the concrete input by some other generated `<html>` subtree);\n",
    "2. see whether these subtrees also result in failures; and\n",
    "3. if they do, use the nonterminal (`<html>`) as a placeholder in the pattern.\n",
    "\n",
    "This will involve some subtree manipulation, construction, and finally testing. First of all, though, we need to be able to turn an _existing input_ into a derivation tree."
   ]
  },
  {
   "cell_type": "markdown",
   "metadata": {
    "slideshow": {
     "slide_type": "slide"
    }
   },
   "source": [
    "## Parsing\n",
    "\n",
    "The activity of creating a structure out of an unstructured input is called _parsing_. Generally speaking, a _parser_ uses a _grammar_ to create a _derivation tree_ (also called *parse tree* in parsing contexts) from a string input."
   ]
  },
  {
   "cell_type": "markdown",
   "metadata": {
    "slideshow": {
     "slide_type": "fragment"
    }
   },
   "source": [
    "Again, there's a whole body of theory (and practice!) around constructing parsers. We make our life simple by using an existing parser (again, from [the fuzzing book](https://www.fuzzingbook.org/Parser.html)), which does just what we want. The `EarleyParser` is instantiated with a grammar such as `SIMPLE_HTML_GRAMMAR`:"
   ]
  },
  {
   "cell_type": "code",
   "execution_count": 31,
   "metadata": {
    "slideshow": {
     "slide_type": "skip"
    }
   },
   "outputs": [],
   "source": [
    "from fuzzingbook.Parser import EarleyParser  # minor dependency"
   ]
  },
  {
   "cell_type": "code",
   "execution_count": 32,
   "metadata": {
    "slideshow": {
     "slide_type": "fragment"
    }
   },
   "outputs": [],
   "source": [
    "simple_html_parser = EarleyParser(SIMPLE_HTML_GRAMMAR)"
   ]
  },
  {
   "cell_type": "markdown",
   "metadata": {
    "slideshow": {
     "slide_type": "subslide"
    }
   },
   "source": [
    "Its method `parse()` returns an iterator over multiple possible derivation trees.  (There can be multiple trees because the grammar could be ambiguous). We are only interested in the first such tree. Let us parse `BAD_INPUT` and inspect the resulting ~parse tree~ ~syntax tree~ derivation tree:"
   ]
  },
  {
   "cell_type": "code",
   "execution_count": 33,
   "metadata": {
    "slideshow": {
     "slide_type": "fragment"
    }
   },
   "outputs": [],
   "source": [
    "bad_input_tree = list(simple_html_parser.parse(BAD_INPUT))[0]"
   ]
  },
  {
   "cell_type": "code",
   "execution_count": 34,
   "metadata": {
    "slideshow": {
     "slide_type": "fragment"
    }
   },
   "outputs": [
    {
     "data": {
      "image/svg+xml": [
       "<?xml version=\"1.0\" encoding=\"UTF-8\" standalone=\"no\"?>\n",
       "<!DOCTYPE svg PUBLIC \"-//W3C//DTD SVG 1.1//EN\"\n",
       " \"http://www.w3.org/Graphics/SVG/1.1/DTD/svg11.dtd\">\n",
       "<!-- Generated by graphviz version 2.40.1 (20161225.0304)\n",
       " -->\n",
       "<!-- Title: %3 Pages: 1 -->\n",
       "<svg width=\"845pt\" height=\"533pt\"\n",
       " viewBox=\"0.00 0.00 844.50 533.00\" xmlns=\"http://www.w3.org/2000/svg\" xmlns:xlink=\"http://www.w3.org/1999/xlink\">\n",
       "<g id=\"graph0\" class=\"graph\" transform=\"scale(1 1) rotate(0) translate(4 529)\">\n",
       "<title>%3</title>\n",
       "<polygon fill=\"#ffffff\" stroke=\"transparent\" points=\"-4,4 -4,-529 840.5,-529 840.5,4 -4,4\"/>\n",
       "<!-- 0 -->\n",
       "<g id=\"node1\" class=\"node\">\n",
       "<title>0</title>\n",
       "<text text-anchor=\"middle\" x=\"322\" y=\"-513.8\" font-family=\"'Fira Mono', 'Source Code Pro', 'Courier', monospace\" font-size=\"14.00\" fill=\"#0060a0\">&lt;start&gt;</text>\n",
       "</g>\n",
       "<!-- 1 -->\n",
       "<g id=\"node2\" class=\"node\">\n",
       "<title>1</title>\n",
       "<text text-anchor=\"middle\" x=\"322\" y=\"-462.8\" font-family=\"'Fira Mono', 'Source Code Pro', 'Courier', monospace\" font-size=\"14.00\" fill=\"#0060a0\">&lt;html&gt;</text>\n",
       "</g>\n",
       "<!-- 0&#45;&gt;1 -->\n",
       "<g id=\"edge1\" class=\"edge\">\n",
       "<title>0&#45;&gt;1</title>\n",
       "<path fill=\"none\" stroke=\"#000000\" d=\"M322,-509.9748C322,-503.195 322,-492.966 322,-484.1331\"/>\n",
       "<polygon fill=\"#000000\" stroke=\"#000000\" points=\"325.5001,-484.0561 322,-474.0561 318.5001,-484.0561 325.5001,-484.0561\"/>\n",
       "</g>\n",
       "<!-- 2 -->\n",
       "<g id=\"node3\" class=\"node\">\n",
       "<title>2</title>\n",
       "<text text-anchor=\"middle\" x=\"322\" y=\"-411.8\" font-family=\"'Fira Mono', 'Source Code Pro', 'Courier', monospace\" font-size=\"14.00\" fill=\"#0060a0\">&lt;tagged&#45;text&gt;</text>\n",
       "</g>\n",
       "<!-- 1&#45;&gt;2 -->\n",
       "<g id=\"edge2\" class=\"edge\">\n",
       "<title>1&#45;&gt;2</title>\n",
       "<path fill=\"none\" stroke=\"#000000\" d=\"M322,-458.9748C322,-452.195 322,-441.966 322,-433.1331\"/>\n",
       "<polygon fill=\"#000000\" stroke=\"#000000\" points=\"325.5001,-433.0561 322,-423.0561 318.5001,-433.0561 325.5001,-433.0561\"/>\n",
       "</g>\n",
       "<!-- 3 -->\n",
       "<g id=\"node4\" class=\"node\">\n",
       "<title>3</title>\n",
       "<text text-anchor=\"middle\" x=\"204\" y=\"-360.8\" font-family=\"'Fira Mono', 'Source Code Pro', 'Courier', monospace\" font-size=\"14.00\" fill=\"#0060a0\">&lt;opening&#45;tag&gt;</text>\n",
       "</g>\n",
       "<!-- 2&#45;&gt;3 -->\n",
       "<g id=\"edge3\" class=\"edge\">\n",
       "<title>2&#45;&gt;3</title>\n",
       "<path fill=\"none\" stroke=\"#000000\" d=\"M304.5887,-407.9748C285.1547,-399.5753 253.4721,-385.882 230.8576,-376.1079\"/>\n",
       "<polygon fill=\"#000000\" stroke=\"#000000\" points=\"232.0507,-372.8107 221.4827,-372.0561 229.2735,-379.2363 232.0507,-372.8107\"/>\n",
       "</g>\n",
       "<!-- 17 -->\n",
       "<g id=\"node18\" class=\"node\">\n",
       "<title>17</title>\n",
       "<text text-anchor=\"middle\" x=\"322\" y=\"-360.8\" font-family=\"'Fira Mono', 'Source Code Pro', 'Courier', monospace\" font-size=\"14.00\" fill=\"#0060a0\">&lt;html&gt;</text>\n",
       "</g>\n",
       "<!-- 2&#45;&gt;17 -->\n",
       "<g id=\"edge17\" class=\"edge\">\n",
       "<title>2&#45;&gt;17</title>\n",
       "<path fill=\"none\" stroke=\"#000000\" d=\"M322,-407.9748C322,-401.195 322,-390.966 322,-382.1331\"/>\n",
       "<polygon fill=\"#000000\" stroke=\"#000000\" points=\"325.5001,-382.0561 322,-372.0561 318.5001,-382.0561 325.5001,-382.0561\"/>\n",
       "</g>\n",
       "<!-- 35 -->\n",
       "<g id=\"node36\" class=\"node\">\n",
       "<title>35</title>\n",
       "<text text-anchor=\"middle\" x=\"684\" y=\"-360.8\" font-family=\"'Fira Mono', 'Source Code Pro', 'Courier', monospace\" font-size=\"14.00\" fill=\"#0060a0\">&lt;closing&#45;tag&gt;</text>\n",
       "</g>\n",
       "<!-- 2&#45;&gt;35 -->\n",
       "<g id=\"edge35\" class=\"edge\">\n",
       "<title>2&#45;&gt;35</title>\n",
       "<path fill=\"none\" stroke=\"#000000\" d=\"M375.4143,-407.9748C440.7419,-398.7712 551.1856,-383.2114 620.711,-373.4164\"/>\n",
       "<polygon fill=\"#000000\" stroke=\"#000000\" points=\"621.2478,-376.8754 630.6617,-372.0145 620.2712,-369.9439 621.2478,-376.8754\"/>\n",
       "</g>\n",
       "<!-- 4 -->\n",
       "<g id=\"node5\" class=\"node\">\n",
       "<title>4</title>\n",
       "<text text-anchor=\"middle\" x=\"86\" y=\"-309.8\" font-family=\"'Fira Mono', 'Source Code Pro', 'Courier', monospace\" font-size=\"14.00\" fill=\"#0060a0\">&lt;lt&gt;</text>\n",
       "</g>\n",
       "<!-- 3&#45;&gt;4 -->\n",
       "<g id=\"edge4\" class=\"edge\">\n",
       "<title>3&#45;&gt;4</title>\n",
       "<path fill=\"none\" stroke=\"#000000\" d=\"M186.5887,-356.9748C167.043,-348.5271 135.1075,-334.7244 112.4686,-324.9398\"/>\n",
       "<polygon fill=\"#000000\" stroke=\"#000000\" points=\"113.667,-321.6449 103.0991,-320.8903 110.8899,-328.0705 113.667,-321.6449\"/>\n",
       "</g>\n",
       "<!-- 6 -->\n",
       "<g id=\"node7\" class=\"node\">\n",
       "<title>6</title>\n",
       "<text text-anchor=\"middle\" x=\"166\" y=\"-309.8\" font-family=\"'Fira Mono', 'Source Code Pro', 'Courier', monospace\" font-size=\"14.00\" fill=\"#0060a0\">&lt;id&gt;</text>\n",
       "</g>\n",
       "<!-- 3&#45;&gt;6 -->\n",
       "<g id=\"edge6\" class=\"edge\">\n",
       "<title>3&#45;&gt;6</title>\n",
       "<path fill=\"none\" stroke=\"#000000\" d=\"M198.393,-356.9748C192.9484,-349.6677 184.5187,-338.354 177.6233,-329.0997\"/>\n",
       "<polygon fill=\"#000000\" stroke=\"#000000\" points=\"180.4115,-326.9837 171.63,-321.0561 174.7983,-331.1661 180.4115,-326.9837\"/>\n",
       "</g>\n",
       "<!-- 15 -->\n",
       "<g id=\"node16\" class=\"node\">\n",
       "<title>15</title>\n",
       "<text text-anchor=\"middle\" x=\"220\" y=\"-309.8\" font-family=\"'Fira Mono', 'Source Code Pro', 'Courier', monospace\" font-size=\"14.00\" fill=\"#0060a0\">&lt;gt&gt;</text>\n",
       "</g>\n",
       "<!-- 3&#45;&gt;15 -->\n",
       "<g id=\"edge15\" class=\"edge\">\n",
       "<title>3&#45;&gt;15</title>\n",
       "<path fill=\"none\" stroke=\"#000000\" d=\"M206.3609,-356.9748C208.5115,-350.1196 211.7684,-339.7383 214.5602,-330.8392\"/>\n",
       "<polygon fill=\"#000000\" stroke=\"#000000\" points=\"217.9755,-331.6453 217.6295,-321.0561 211.2965,-329.5499 217.9755,-331.6453\"/>\n",
       "</g>\n",
       "<!-- 5 -->\n",
       "<g id=\"node6\" class=\"node\">\n",
       "<title>5</title>\n",
       "<text text-anchor=\"middle\" x=\"57\" y=\"-258.8\" font-family=\"'Fira Mono', 'Source Code Pro', 'Courier', monospace\" font-size=\"14.00\" fill=\"#0060a0\">&lt;</text>\n",
       "</g>\n",
       "<!-- 4&#45;&gt;5 -->\n",
       "<g id=\"edge5\" class=\"edge\">\n",
       "<title>4&#45;&gt;5</title>\n",
       "<path fill=\"none\" stroke=\"#000000\" d=\"M81.721,-305.9748C77.6944,-298.8936 71.5284,-288.05 66.3619,-278.9641\"/>\n",
       "<polygon fill=\"#000000\" stroke=\"#000000\" points=\"69.2822,-277.0189 61.2966,-270.0561 63.1972,-280.4791 69.2822,-277.0189\"/>\n",
       "</g>\n",
       "<!-- 7 -->\n",
       "<g id=\"node8\" class=\"node\">\n",
       "<title>7</title>\n",
       "<text text-anchor=\"middle\" x=\"97\" y=\"-258.8\" font-family=\"'Fira Mono', 'Source Code Pro', 'Courier', monospace\" font-size=\"14.00\" fill=\"#0060a0\">&lt;id&gt;</text>\n",
       "</g>\n",
       "<!-- 6&#45;&gt;7 -->\n",
       "<g id=\"edge7\" class=\"edge\">\n",
       "<title>6&#45;&gt;7</title>\n",
       "<path fill=\"none\" stroke=\"#000000\" d=\"M155.8188,-305.9748C145.2193,-298.1403 128.3885,-285.7002 115.4415,-276.1307\"/>\n",
       "<polygon fill=\"#000000\" stroke=\"#000000\" points=\"117.3451,-273.1854 107.223,-270.0561 113.1844,-278.8147 117.3451,-273.1854\"/>\n",
       "</g>\n",
       "<!-- 13 -->\n",
       "<g id=\"node14\" class=\"node\">\n",
       "<title>13</title>\n",
       "<text text-anchor=\"middle\" x=\"166\" y=\"-258.8\" font-family=\"'Fira Mono', 'Source Code Pro', 'Courier', monospace\" font-size=\"14.00\" fill=\"#0060a0\">&lt;letter&gt;</text>\n",
       "</g>\n",
       "<!-- 6&#45;&gt;13 -->\n",
       "<g id=\"edge13\" class=\"edge\">\n",
       "<title>6&#45;&gt;13</title>\n",
       "<path fill=\"none\" stroke=\"#000000\" d=\"M166,-305.9748C166,-299.195 166,-288.966 166,-280.1331\"/>\n",
       "<polygon fill=\"#000000\" stroke=\"#000000\" points=\"169.5001,-280.0561 166,-270.0561 162.5001,-280.0561 169.5001,-280.0561\"/>\n",
       "</g>\n",
       "<!-- 8 -->\n",
       "<g id=\"node9\" class=\"node\">\n",
       "<title>8</title>\n",
       "<text text-anchor=\"middle\" x=\"34\" y=\"-207.8\" font-family=\"'Fira Mono', 'Source Code Pro', 'Courier', monospace\" font-size=\"14.00\" fill=\"#0060a0\">&lt;id&gt;</text>\n",
       "</g>\n",
       "<!-- 7&#45;&gt;8 -->\n",
       "<g id=\"edge8\" class=\"edge\">\n",
       "<title>7&#45;&gt;8</title>\n",
       "<path fill=\"none\" stroke=\"#000000\" d=\"M87.7041,-254.9748C78.1193,-247.2157 62.9541,-234.939 51.1799,-225.4075\"/>\n",
       "<polygon fill=\"#000000\" stroke=\"#000000\" points=\"53.3087,-222.6278 43.334,-219.0561 48.9043,-228.0685 53.3087,-222.6278\"/>\n",
       "</g>\n",
       "<!-- 11 -->\n",
       "<g id=\"node12\" class=\"node\">\n",
       "<title>11</title>\n",
       "<text text-anchor=\"middle\" x=\"103\" y=\"-207.8\" font-family=\"'Fira Mono', 'Source Code Pro', 'Courier', monospace\" font-size=\"14.00\" fill=\"#0060a0\">&lt;letter&gt;</text>\n",
       "</g>\n",
       "<!-- 7&#45;&gt;11 -->\n",
       "<g id=\"edge11\" class=\"edge\">\n",
       "<title>7&#45;&gt;11</title>\n",
       "<path fill=\"none\" stroke=\"#000000\" d=\"M97.8853,-254.9748C98.6829,-248.195 99.8864,-237.966 100.9255,-229.1331\"/>\n",
       "<polygon fill=\"#000000\" stroke=\"#000000\" points=\"104.4186,-229.3966 102.111,-219.0561 97.4665,-228.5786 104.4186,-229.3966\"/>\n",
       "</g>\n",
       "<!-- 9 -->\n",
       "<g id=\"node10\" class=\"node\">\n",
       "<title>9</title>\n",
       "<text text-anchor=\"middle\" x=\"34\" y=\"-156.8\" font-family=\"'Fira Mono', 'Source Code Pro', 'Courier', monospace\" font-size=\"14.00\" fill=\"#0060a0\">&lt;letter&gt;</text>\n",
       "</g>\n",
       "<!-- 8&#45;&gt;9 -->\n",
       "<g id=\"edge9\" class=\"edge\">\n",
       "<title>8&#45;&gt;9</title>\n",
       "<path fill=\"none\" stroke=\"#000000\" d=\"M34,-203.9748C34,-197.195 34,-186.966 34,-178.1331\"/>\n",
       "<polygon fill=\"#000000\" stroke=\"#000000\" points=\"37.5001,-178.0561 34,-168.0561 30.5001,-178.0561 37.5001,-178.0561\"/>\n",
       "</g>\n",
       "<!-- 10 -->\n",
       "<g id=\"node11\" class=\"node\">\n",
       "<title>10</title>\n",
       "<text text-anchor=\"middle\" x=\"34\" y=\"-105.8\" font-family=\"'Fira Mono', 'Source Code Pro', 'Courier', monospace\" font-size=\"14.00\" fill=\"#00a060\">f</text>\n",
       "</g>\n",
       "<!-- 9&#45;&gt;10 -->\n",
       "<g id=\"edge10\" class=\"edge\">\n",
       "<title>9&#45;&gt;10</title>\n",
       "<path fill=\"none\" stroke=\"#000000\" d=\"M34,-152.9748C34,-146.195 34,-135.966 34,-127.1331\"/>\n",
       "<polygon fill=\"#000000\" stroke=\"#000000\" points=\"37.5001,-127.0561 34,-117.0561 30.5001,-127.0561 37.5001,-127.0561\"/>\n",
       "</g>\n",
       "<!-- 12 -->\n",
       "<g id=\"node13\" class=\"node\">\n",
       "<title>12</title>\n",
       "<text text-anchor=\"middle\" x=\"103\" y=\"-156.8\" font-family=\"'Fira Mono', 'Source Code Pro', 'Courier', monospace\" font-size=\"14.00\" fill=\"#00a060\">o</text>\n",
       "</g>\n",
       "<!-- 11&#45;&gt;12 -->\n",
       "<g id=\"edge12\" class=\"edge\">\n",
       "<title>11&#45;&gt;12</title>\n",
       "<path fill=\"none\" stroke=\"#000000\" d=\"M103,-203.9748C103,-197.195 103,-186.966 103,-178.1331\"/>\n",
       "<polygon fill=\"#000000\" stroke=\"#000000\" points=\"106.5001,-178.0561 103,-168.0561 99.5001,-178.0561 106.5001,-178.0561\"/>\n",
       "</g>\n",
       "<!-- 14 -->\n",
       "<g id=\"node15\" class=\"node\">\n",
       "<title>14</title>\n",
       "<text text-anchor=\"middle\" x=\"166\" y=\"-207.8\" font-family=\"'Fira Mono', 'Source Code Pro', 'Courier', monospace\" font-size=\"14.00\" fill=\"#00a060\">o</text>\n",
       "</g>\n",
       "<!-- 13&#45;&gt;14 -->\n",
       "<g id=\"edge14\" class=\"edge\">\n",
       "<title>13&#45;&gt;14</title>\n",
       "<path fill=\"none\" stroke=\"#000000\" d=\"M166,-254.9748C166,-248.195 166,-237.966 166,-229.1331\"/>\n",
       "<polygon fill=\"#000000\" stroke=\"#000000\" points=\"169.5001,-229.0561 166,-219.0561 162.5001,-229.0561 169.5001,-229.0561\"/>\n",
       "</g>\n",
       "<!-- 16 -->\n",
       "<g id=\"node17\" class=\"node\">\n",
       "<title>16</title>\n",
       "<text text-anchor=\"middle\" x=\"223\" y=\"-258.8\" font-family=\"'Fira Mono', 'Source Code Pro', 'Courier', monospace\" font-size=\"14.00\" fill=\"#00a060\">&gt;</text>\n",
       "</g>\n",
       "<!-- 15&#45;&gt;16 -->\n",
       "<g id=\"edge16\" class=\"edge\">\n",
       "<title>15&#45;&gt;16</title>\n",
       "<path fill=\"none\" stroke=\"#000000\" d=\"M220.4427,-305.9748C220.8415,-299.195 221.4432,-288.966 221.9628,-280.1331\"/>\n",
       "<polygon fill=\"#000000\" stroke=\"#000000\" points=\"225.4622,-280.2444 222.5555,-270.0561 218.4742,-279.8333 225.4622,-280.2444\"/>\n",
       "</g>\n",
       "<!-- 18 -->\n",
       "<g id=\"node19\" class=\"node\">\n",
       "<title>18</title>\n",
       "<text text-anchor=\"middle\" x=\"322\" y=\"-309.8\" font-family=\"'Fira Mono', 'Source Code Pro', 'Courier', monospace\" font-size=\"14.00\" fill=\"#0060a0\">&lt;plain&#45;text&gt;</text>\n",
       "</g>\n",
       "<!-- 17&#45;&gt;18 -->\n",
       "<g id=\"edge18\" class=\"edge\">\n",
       "<title>17&#45;&gt;18</title>\n",
       "<path fill=\"none\" stroke=\"#000000\" d=\"M322,-356.9748C322,-350.195 322,-339.966 322,-331.1331\"/>\n",
       "<polygon fill=\"#000000\" stroke=\"#000000\" points=\"325.5001,-331.0561 322,-321.0561 318.5001,-331.0561 325.5001,-331.0561\"/>\n",
       "</g>\n",
       "<!-- 19 -->\n",
       "<g id=\"node20\" class=\"node\">\n",
       "<title>19</title>\n",
       "<text text-anchor=\"middle\" x=\"296\" y=\"-258.8\" font-family=\"'Fira Mono', 'Source Code Pro', 'Courier', monospace\" font-size=\"14.00\" fill=\"#0060a0\">&lt;plain&#45;char&gt;</text>\n",
       "</g>\n",
       "<!-- 18&#45;&gt;19 -->\n",
       "<g id=\"edge19\" class=\"edge\">\n",
       "<title>18&#45;&gt;19</title>\n",
       "<path fill=\"none\" stroke=\"#000000\" d=\"M318.1636,-305.9748C314.592,-298.969 309.1429,-288.2803 304.5416,-279.2547\"/>\n",
       "<polygon fill=\"#000000\" stroke=\"#000000\" points=\"307.5122,-277.3755 299.8521,-270.0561 301.2759,-280.5548 307.5122,-277.3755\"/>\n",
       "</g>\n",
       "<!-- 22 -->\n",
       "<g id=\"node23\" class=\"node\">\n",
       "<title>22</title>\n",
       "<text text-anchor=\"middle\" x=\"415\" y=\"-258.8\" font-family=\"'Fira Mono', 'Source Code Pro', 'Courier', monospace\" font-size=\"14.00\" fill=\"#0060a0\">&lt;plain&#45;text&gt;</text>\n",
       "</g>\n",
       "<!-- 18&#45;&gt;22 -->\n",
       "<g id=\"edge22\" class=\"edge\">\n",
       "<title>18&#45;&gt;22</title>\n",
       "<path fill=\"none\" stroke=\"#000000\" d=\"M335.7225,-305.9748C350.5583,-297.839 374.4511,-284.7365 392.1336,-275.0397\"/>\n",
       "<polygon fill=\"#000000\" stroke=\"#000000\" points=\"394.136,-277.9333 401.2212,-270.0561 390.7702,-271.7956 394.136,-277.9333\"/>\n",
       "</g>\n",
       "<!-- 20 -->\n",
       "<g id=\"node21\" class=\"node\">\n",
       "<title>20</title>\n",
       "<text text-anchor=\"middle\" x=\"257\" y=\"-207.8\" font-family=\"'Fira Mono', 'Source Code Pro', 'Courier', monospace\" font-size=\"14.00\" fill=\"#0060a0\">&lt;other&gt;</text>\n",
       "</g>\n",
       "<!-- 19&#45;&gt;20 -->\n",
       "<g id=\"edge20\" class=\"edge\">\n",
       "<title>19&#45;&gt;20</title>\n",
       "<path fill=\"none\" stroke=\"#000000\" d=\"M290.2454,-254.9748C284.6576,-247.6677 276.006,-236.354 268.9292,-227.0997\"/>\n",
       "<polygon fill=\"#000000\" stroke=\"#000000\" points=\"271.633,-224.8736 262.7782,-219.0561 266.0725,-229.1258 271.633,-224.8736\"/>\n",
       "</g>\n",
       "<!-- 21 -->\n",
       "<g id=\"node22\" class=\"node\">\n",
       "<title>21</title>\n",
       "<text text-anchor=\"middle\" x=\"257\" y=\"-156.8\" font-family=\"'Fira Mono', 'Source Code Pro', 'Courier', monospace\" font-size=\"14.00\" fill=\"#00a060\">&quot;</text>\n",
       "</g>\n",
       "<!-- 20&#45;&gt;21 -->\n",
       "<g id=\"edge21\" class=\"edge\">\n",
       "<title>20&#45;&gt;21</title>\n",
       "<path fill=\"none\" stroke=\"#000000\" d=\"M257,-203.9748C257,-197.195 257,-186.966 257,-178.1331\"/>\n",
       "<polygon fill=\"#000000\" stroke=\"#000000\" points=\"260.5001,-178.0561 257,-168.0561 253.5001,-178.0561 260.5001,-178.0561\"/>\n",
       "</g>\n",
       "<!-- 23 -->\n",
       "<g id=\"node24\" class=\"node\">\n",
       "<title>23</title>\n",
       "<text text-anchor=\"middle\" x=\"355\" y=\"-207.8\" font-family=\"'Fira Mono', 'Source Code Pro', 'Courier', monospace\" font-size=\"14.00\" fill=\"#0060a0\">&lt;plain&#45;char&gt;</text>\n",
       "</g>\n",
       "<!-- 22&#45;&gt;23 -->\n",
       "<g id=\"edge23\" class=\"edge\">\n",
       "<title>22&#45;&gt;23</title>\n",
       "<path fill=\"none\" stroke=\"#000000\" d=\"M406.1468,-254.9748C397.1071,-247.291 382.8553,-235.177 371.6893,-225.6859\"/>\n",
       "<polygon fill=\"#000000\" stroke=\"#000000\" points=\"373.7757,-222.8658 363.8895,-219.0561 369.2422,-228.1994 373.7757,-222.8658\"/>\n",
       "</g>\n",
       "<!-- 26 -->\n",
       "<g id=\"node27\" class=\"node\">\n",
       "<title>26</title>\n",
       "<text text-anchor=\"middle\" x=\"474\" y=\"-207.8\" font-family=\"'Fira Mono', 'Source Code Pro', 'Courier', monospace\" font-size=\"14.00\" fill=\"#0060a0\">&lt;plain&#45;text&gt;</text>\n",
       "</g>\n",
       "<!-- 22&#45;&gt;26 -->\n",
       "<g id=\"edge26\" class=\"edge\">\n",
       "<title>22&#45;&gt;26</title>\n",
       "<path fill=\"none\" stroke=\"#000000\" d=\"M423.7057,-254.9748C432.5947,-247.291 446.609,-235.177 457.5889,-225.6859\"/>\n",
       "<polygon fill=\"#000000\" stroke=\"#000000\" points=\"459.9821,-228.2435 465.2586,-219.0561 455.4044,-222.9478 459.9821,-228.2435\"/>\n",
       "</g>\n",
       "<!-- 24 -->\n",
       "<g id=\"node25\" class=\"node\">\n",
       "<title>24</title>\n",
       "<text text-anchor=\"middle\" x=\"334\" y=\"-156.8\" font-family=\"'Fira Mono', 'Source Code Pro', 'Courier', monospace\" font-size=\"14.00\" fill=\"#0060a0\">&lt;letter&gt;</text>\n",
       "</g>\n",
       "<!-- 23&#45;&gt;24 -->\n",
       "<g id=\"edge24\" class=\"edge\">\n",
       "<title>23&#45;&gt;24</title>\n",
       "<path fill=\"none\" stroke=\"#000000\" d=\"M351.9014,-203.9748C349.0477,-197.0443 344.7099,-186.5097 341.0191,-177.5464\"/>\n",
       "<polygon fill=\"#000000\" stroke=\"#000000\" points=\"344.1553,-175.9702 337.1113,-168.0561 337.6825,-178.6355 344.1553,-175.9702\"/>\n",
       "</g>\n",
       "<!-- 25 -->\n",
       "<g id=\"node26\" class=\"node\">\n",
       "<title>25</title>\n",
       "<text text-anchor=\"middle\" x=\"334\" y=\"-105.8\" font-family=\"'Fira Mono', 'Source Code Pro', 'Courier', monospace\" font-size=\"14.00\" fill=\"#00a060\">b</text>\n",
       "</g>\n",
       "<!-- 24&#45;&gt;25 -->\n",
       "<g id=\"edge25\" class=\"edge\">\n",
       "<title>24&#45;&gt;25</title>\n",
       "<path fill=\"none\" stroke=\"#000000\" d=\"M334,-152.9748C334,-146.195 334,-135.966 334,-127.1331\"/>\n",
       "<polygon fill=\"#000000\" stroke=\"#000000\" points=\"337.5001,-127.0561 334,-117.0561 330.5001,-127.0561 337.5001,-127.0561\"/>\n",
       "</g>\n",
       "<!-- 27 -->\n",
       "<g id=\"node28\" class=\"node\">\n",
       "<title>27</title>\n",
       "<text text-anchor=\"middle\" x=\"437\" y=\"-156.8\" font-family=\"'Fira Mono', 'Source Code Pro', 'Courier', monospace\" font-size=\"14.00\" fill=\"#0060a0\">&lt;plain&#45;char&gt;</text>\n",
       "</g>\n",
       "<!-- 26&#45;&gt;27 -->\n",
       "<g id=\"edge27\" class=\"edge\">\n",
       "<title>26&#45;&gt;27</title>\n",
       "<path fill=\"none\" stroke=\"#000000\" d=\"M468.5405,-203.9748C463.2939,-196.743 455.2002,-185.5868 448.5256,-176.3866\"/>\n",
       "<polygon fill=\"#000000\" stroke=\"#000000\" points=\"451.1872,-174.095 442.4819,-168.0561 445.5212,-178.2056 451.1872,-174.095\"/>\n",
       "</g>\n",
       "<!-- 30 -->\n",
       "<g id=\"node31\" class=\"node\">\n",
       "<title>30</title>\n",
       "<text text-anchor=\"middle\" x=\"556\" y=\"-156.8\" font-family=\"'Fira Mono', 'Source Code Pro', 'Courier', monospace\" font-size=\"14.00\" fill=\"#0060a0\">&lt;plain&#45;text&gt;</text>\n",
       "</g>\n",
       "<!-- 26&#45;&gt;30 -->\n",
       "<g id=\"edge30\" class=\"edge\">\n",
       "<title>26&#45;&gt;30</title>\n",
       "<path fill=\"none\" stroke=\"#000000\" d=\"M486.0994,-203.9748C498.9382,-195.9897 519.4697,-183.22 534.9665,-173.5818\"/>\n",
       "<polygon fill=\"#000000\" stroke=\"#000000\" points=\"537.2079,-176.3096 543.851,-168.0561 533.5109,-170.3654 537.2079,-176.3096\"/>\n",
       "</g>\n",
       "<!-- 28 -->\n",
       "<g id=\"node29\" class=\"node\">\n",
       "<title>28</title>\n",
       "<text text-anchor=\"middle\" x=\"414\" y=\"-105.8\" font-family=\"'Fira Mono', 'Source Code Pro', 'Courier', monospace\" font-size=\"14.00\" fill=\"#0060a0\">&lt;letter&gt;</text>\n",
       "</g>\n",
       "<!-- 27&#45;&gt;28 -->\n",
       "<g id=\"edge28\" class=\"edge\">\n",
       "<title>27&#45;&gt;28</title>\n",
       "<path fill=\"none\" stroke=\"#000000\" d=\"M433.6063,-152.9748C430.4468,-145.969 425.6264,-135.2803 421.556,-126.2547\"/>\n",
       "<polygon fill=\"#000000\" stroke=\"#000000\" points=\"424.7093,-124.7331 417.4077,-117.0561 418.3282,-127.6109 424.7093,-124.7331\"/>\n",
       "</g>\n",
       "<!-- 29 -->\n",
       "<g id=\"node30\" class=\"node\">\n",
       "<title>29</title>\n",
       "<text text-anchor=\"middle\" x=\"414\" y=\"-54.8\" font-family=\"'Fira Mono', 'Source Code Pro', 'Courier', monospace\" font-size=\"14.00\" fill=\"#00a060\">a</text>\n",
       "</g>\n",
       "<!-- 28&#45;&gt;29 -->\n",
       "<g id=\"edge29\" class=\"edge\">\n",
       "<title>28&#45;&gt;29</title>\n",
       "<path fill=\"none\" stroke=\"#000000\" d=\"M414,-101.9748C414,-95.195 414,-84.966 414,-76.1331\"/>\n",
       "<polygon fill=\"#000000\" stroke=\"#000000\" points=\"417.5001,-76.0561 414,-66.0561 410.5001,-76.0561 417.5001,-76.0561\"/>\n",
       "</g>\n",
       "<!-- 31 -->\n",
       "<g id=\"node32\" class=\"node\">\n",
       "<title>31</title>\n",
       "<text text-anchor=\"middle\" x=\"517\" y=\"-105.8\" font-family=\"'Fira Mono', 'Source Code Pro', 'Courier', monospace\" font-size=\"14.00\" fill=\"#0060a0\">&lt;plain&#45;char&gt;</text>\n",
       "</g>\n",
       "<!-- 30&#45;&gt;31 -->\n",
       "<g id=\"edge31\" class=\"edge\">\n",
       "<title>30&#45;&gt;31</title>\n",
       "<path fill=\"none\" stroke=\"#000000\" d=\"M550.2454,-152.9748C544.6576,-145.6677 536.006,-134.354 528.9292,-125.0997\"/>\n",
       "<polygon fill=\"#000000\" stroke=\"#000000\" points=\"531.633,-122.8736 522.7782,-117.0561 526.0725,-127.1258 531.633,-122.8736\"/>\n",
       "</g>\n",
       "<!-- 34 -->\n",
       "<g id=\"node35\" class=\"node\">\n",
       "<title>34</title>\n",
       "<text text-anchor=\"middle\" x=\"636\" y=\"-105.8\" font-family=\"'Fira Mono', 'Source Code Pro', 'Courier', monospace\" font-size=\"14.00\" fill=\"#0060a0\">&lt;plain&#45;text&gt;</text>\n",
       "</g>\n",
       "<!-- 30&#45;&gt;34 -->\n",
       "<g id=\"edge34\" class=\"edge\">\n",
       "<title>30&#45;&gt;34</title>\n",
       "<path fill=\"none\" stroke=\"#000000\" d=\"M567.8043,-152.9748C580.3299,-144.9897 600.3607,-132.22 615.4795,-122.5818\"/>\n",
       "<polygon fill=\"#000000\" stroke=\"#000000\" points=\"617.5965,-125.383 624.1473,-117.0561 613.8335,-119.4804 617.5965,-125.383\"/>\n",
       "</g>\n",
       "<!-- 32 -->\n",
       "<g id=\"node33\" class=\"node\">\n",
       "<title>32</title>\n",
       "<text text-anchor=\"middle\" x=\"517\" y=\"-54.8\" font-family=\"'Fira Mono', 'Source Code Pro', 'Courier', monospace\" font-size=\"14.00\" fill=\"#0060a0\">&lt;letter&gt;</text>\n",
       "</g>\n",
       "<!-- 31&#45;&gt;32 -->\n",
       "<g id=\"edge32\" class=\"edge\">\n",
       "<title>31&#45;&gt;32</title>\n",
       "<path fill=\"none\" stroke=\"#000000\" d=\"M517,-101.9748C517,-95.195 517,-84.966 517,-76.1331\"/>\n",
       "<polygon fill=\"#000000\" stroke=\"#000000\" points=\"520.5001,-76.0561 517,-66.0561 513.5001,-76.0561 520.5001,-76.0561\"/>\n",
       "</g>\n",
       "<!-- 33 -->\n",
       "<g id=\"node34\" class=\"node\">\n",
       "<title>33</title>\n",
       "<text text-anchor=\"middle\" x=\"517\" y=\"-3.8\" font-family=\"'Fira Mono', 'Source Code Pro', 'Courier', monospace\" font-size=\"14.00\" fill=\"#00a060\">r</text>\n",
       "</g>\n",
       "<!-- 32&#45;&gt;33 -->\n",
       "<g id=\"edge33\" class=\"edge\">\n",
       "<title>32&#45;&gt;33</title>\n",
       "<path fill=\"none\" stroke=\"#000000\" d=\"M517,-50.9748C517,-44.195 517,-33.966 517,-25.1331\"/>\n",
       "<polygon fill=\"#000000\" stroke=\"#000000\" points=\"520.5001,-25.0561 517,-15.0561 513.5001,-25.0561 520.5001,-25.0561\"/>\n",
       "</g>\n",
       "<!-- 36 -->\n",
       "<g id=\"node37\" class=\"node\">\n",
       "<title>36</title>\n",
       "<text text-anchor=\"middle\" x=\"644\" y=\"-309.8\" font-family=\"'Fira Mono', 'Source Code Pro', 'Courier', monospace\" font-size=\"14.00\" fill=\"#0060a0\">&lt;lt&gt;</text>\n",
       "</g>\n",
       "<!-- 35&#45;&gt;36 -->\n",
       "<g id=\"edge36\" class=\"edge\">\n",
       "<title>35&#45;&gt;36</title>\n",
       "<path fill=\"none\" stroke=\"#000000\" d=\"M678.0979,-356.9748C672.3668,-349.6677 663.4933,-338.354 656.2351,-329.0997\"/>\n",
       "<polygon fill=\"#000000\" stroke=\"#000000\" points=\"658.8518,-326.7647 649.9264,-321.0561 653.3438,-331.0847 658.8518,-326.7647\"/>\n",
       "</g>\n",
       "<!-- 38 -->\n",
       "<g id=\"node39\" class=\"node\">\n",
       "<title>38</title>\n",
       "<text text-anchor=\"middle\" x=\"684\" y=\"-309.8\" font-family=\"'Fira Mono', 'Source Code Pro', 'Courier', monospace\" font-size=\"14.00\" fill=\"#00a060\">/</text>\n",
       "</g>\n",
       "<!-- 35&#45;&gt;38 -->\n",
       "<g id=\"edge38\" class=\"edge\">\n",
       "<title>35&#45;&gt;38</title>\n",
       "<path fill=\"none\" stroke=\"#000000\" d=\"M684,-356.9748C684,-350.195 684,-339.966 684,-331.1331\"/>\n",
       "<polygon fill=\"#000000\" stroke=\"#000000\" points=\"687.5001,-331.0561 684,-321.0561 680.5001,-331.0561 687.5001,-331.0561\"/>\n",
       "</g>\n",
       "<!-- 39 -->\n",
       "<g id=\"node40\" class=\"node\">\n",
       "<title>39</title>\n",
       "<text text-anchor=\"middle\" x=\"724\" y=\"-309.8\" font-family=\"'Fira Mono', 'Source Code Pro', 'Courier', monospace\" font-size=\"14.00\" fill=\"#0060a0\">&lt;id&gt;</text>\n",
       "</g>\n",
       "<!-- 35&#45;&gt;39 -->\n",
       "<g id=\"edge39\" class=\"edge\">\n",
       "<title>35&#45;&gt;39</title>\n",
       "<path fill=\"none\" stroke=\"#000000\" d=\"M689.9021,-356.9748C695.6332,-349.6677 704.5067,-338.354 711.7649,-329.0997\"/>\n",
       "<polygon fill=\"#000000\" stroke=\"#000000\" points=\"714.6562,-331.0847 718.0736,-321.0561 709.1482,-326.7647 714.6562,-331.0847\"/>\n",
       "</g>\n",
       "<!-- 48 -->\n",
       "<g id=\"node49\" class=\"node\">\n",
       "<title>48</title>\n",
       "<text text-anchor=\"middle\" x=\"813\" y=\"-309.8\" font-family=\"'Fira Mono', 'Source Code Pro', 'Courier', monospace\" font-size=\"14.00\" fill=\"#0060a0\">&lt;gt&gt;</text>\n",
       "</g>\n",
       "<!-- 35&#45;&gt;48 -->\n",
       "<g id=\"edge48\" class=\"edge\">\n",
       "<title>35&#45;&gt;48</title>\n",
       "<path fill=\"none\" stroke=\"#000000\" d=\"M703.0344,-356.9748C725.0865,-348.2565 761.5651,-333.8347 786.4102,-324.0123\"/>\n",
       "<polygon fill=\"#000000\" stroke=\"#000000\" points=\"787.9361,-327.1727 795.9488,-320.2412 785.3624,-320.6629 787.9361,-327.1727\"/>\n",
       "</g>\n",
       "<!-- 37 -->\n",
       "<g id=\"node38\" class=\"node\">\n",
       "<title>37</title>\n",
       "<text text-anchor=\"middle\" x=\"644\" y=\"-258.8\" font-family=\"'Fira Mono', 'Source Code Pro', 'Courier', monospace\" font-size=\"14.00\" fill=\"#0060a0\">&lt;</text>\n",
       "</g>\n",
       "<!-- 36&#45;&gt;37 -->\n",
       "<g id=\"edge37\" class=\"edge\">\n",
       "<title>36&#45;&gt;37</title>\n",
       "<path fill=\"none\" stroke=\"#000000\" d=\"M644,-305.9748C644,-299.195 644,-288.966 644,-280.1331\"/>\n",
       "<polygon fill=\"#000000\" stroke=\"#000000\" points=\"647.5001,-280.0561 644,-270.0561 640.5001,-280.0561 647.5001,-280.0561\"/>\n",
       "</g>\n",
       "<!-- 40 -->\n",
       "<g id=\"node41\" class=\"node\">\n",
       "<title>40</title>\n",
       "<text text-anchor=\"middle\" x=\"706\" y=\"-258.8\" font-family=\"'Fira Mono', 'Source Code Pro', 'Courier', monospace\" font-size=\"14.00\" fill=\"#0060a0\">&lt;id&gt;</text>\n",
       "</g>\n",
       "<!-- 39&#45;&gt;40 -->\n",
       "<g id=\"edge40\" class=\"edge\">\n",
       "<title>39&#45;&gt;40</title>\n",
       "<path fill=\"none\" stroke=\"#000000\" d=\"M721.344,-305.9748C718.898,-299.0443 715.1799,-288.5097 712.0164,-279.5464\"/>\n",
       "<polygon fill=\"#000000\" stroke=\"#000000\" points=\"715.2956,-278.3211 708.6669,-270.0561 708.6947,-280.6509 715.2956,-278.3211\"/>\n",
       "</g>\n",
       "<!-- 46 -->\n",
       "<g id=\"node47\" class=\"node\">\n",
       "<title>46</title>\n",
       "<text text-anchor=\"middle\" x=\"775\" y=\"-258.8\" font-family=\"'Fira Mono', 'Source Code Pro', 'Courier', monospace\" font-size=\"14.00\" fill=\"#0060a0\">&lt;letter&gt;</text>\n",
       "</g>\n",
       "<!-- 39&#45;&gt;46 -->\n",
       "<g id=\"edge46\" class=\"edge\">\n",
       "<title>39&#45;&gt;46</title>\n",
       "<path fill=\"none\" stroke=\"#000000\" d=\"M731.5252,-305.9748C739.0583,-298.4417 750.8497,-286.6503 760.2528,-277.2472\"/>\n",
       "<polygon fill=\"#000000\" stroke=\"#000000\" points=\"762.8477,-279.6021 767.4439,-270.0561 757.8979,-274.6523 762.8477,-279.6021\"/>\n",
       "</g>\n",
       "<!-- 41 -->\n",
       "<g id=\"node42\" class=\"node\">\n",
       "<title>41</title>\n",
       "<text text-anchor=\"middle\" x=\"678\" y=\"-207.8\" font-family=\"'Fira Mono', 'Source Code Pro', 'Courier', monospace\" font-size=\"14.00\" fill=\"#0060a0\">&lt;id&gt;</text>\n",
       "</g>\n",
       "<!-- 40&#45;&gt;41 -->\n",
       "<g id=\"edge41\" class=\"edge\">\n",
       "<title>40&#45;&gt;41</title>\n",
       "<path fill=\"none\" stroke=\"#000000\" d=\"M701.8685,-254.9748C697.9808,-247.8936 692.0274,-237.05 687.0391,-227.9641\"/>\n",
       "<polygon fill=\"#000000\" stroke=\"#000000\" points=\"690.0291,-226.1375 682.1484,-219.0561 683.8931,-229.5063 690.0291,-226.1375\"/>\n",
       "</g>\n",
       "<!-- 44 -->\n",
       "<g id=\"node45\" class=\"node\">\n",
       "<title>44</title>\n",
       "<text text-anchor=\"middle\" x=\"747\" y=\"-207.8\" font-family=\"'Fira Mono', 'Source Code Pro', 'Courier', monospace\" font-size=\"14.00\" fill=\"#0060a0\">&lt;letter&gt;</text>\n",
       "</g>\n",
       "<!-- 40&#45;&gt;44 -->\n",
       "<g id=\"edge44\" class=\"edge\">\n",
       "<title>40&#45;&gt;44</title>\n",
       "<path fill=\"none\" stroke=\"#000000\" d=\"M712.0497,-254.9748C717.924,-247.6677 727.0193,-236.354 734.459,-227.0997\"/>\n",
       "<polygon fill=\"#000000\" stroke=\"#000000\" points=\"737.3877,-229.0428 740.9255,-219.0561 731.9321,-224.6569 737.3877,-229.0428\"/>\n",
       "</g>\n",
       "<!-- 42 -->\n",
       "<g id=\"node43\" class=\"node\">\n",
       "<title>42</title>\n",
       "<text text-anchor=\"middle\" x=\"684\" y=\"-156.8\" font-family=\"'Fira Mono', 'Source Code Pro', 'Courier', monospace\" font-size=\"14.00\" fill=\"#0060a0\">&lt;letter&gt;</text>\n",
       "</g>\n",
       "<!-- 41&#45;&gt;42 -->\n",
       "<g id=\"edge42\" class=\"edge\">\n",
       "<title>41&#45;&gt;42</title>\n",
       "<path fill=\"none\" stroke=\"#000000\" d=\"M678.8853,-203.9748C679.6829,-197.195 680.8864,-186.966 681.9255,-178.1331\"/>\n",
       "<polygon fill=\"#000000\" stroke=\"#000000\" points=\"685.4186,-178.3966 683.111,-168.0561 678.4665,-177.5786 685.4186,-178.3966\"/>\n",
       "</g>\n",
       "<!-- 43 -->\n",
       "<g id=\"node44\" class=\"node\">\n",
       "<title>43</title>\n",
       "<text text-anchor=\"middle\" x=\"709\" y=\"-105.8\" font-family=\"'Fira Mono', 'Source Code Pro', 'Courier', monospace\" font-size=\"14.00\" fill=\"#00a060\">f</text>\n",
       "</g>\n",
       "<!-- 42&#45;&gt;43 -->\n",
       "<g id=\"edge43\" class=\"edge\">\n",
       "<title>42&#45;&gt;43</title>\n",
       "<path fill=\"none\" stroke=\"#000000\" d=\"M687.6888,-152.9748C691.1231,-145.969 696.3626,-135.2803 700.7869,-126.2547\"/>\n",
       "<polygon fill=\"#000000\" stroke=\"#000000\" points=\"704.0371,-127.5759 705.296,-117.0561 697.7517,-124.4947 704.0371,-127.5759\"/>\n",
       "</g>\n",
       "<!-- 45 -->\n",
       "<g id=\"node46\" class=\"node\">\n",
       "<title>45</title>\n",
       "<text text-anchor=\"middle\" x=\"747\" y=\"-156.8\" font-family=\"'Fira Mono', 'Source Code Pro', 'Courier', monospace\" font-size=\"14.00\" fill=\"#00a060\">o</text>\n",
       "</g>\n",
       "<!-- 44&#45;&gt;45 -->\n",
       "<g id=\"edge45\" class=\"edge\">\n",
       "<title>44&#45;&gt;45</title>\n",
       "<path fill=\"none\" stroke=\"#000000\" d=\"M747,-203.9748C747,-197.195 747,-186.966 747,-178.1331\"/>\n",
       "<polygon fill=\"#000000\" stroke=\"#000000\" points=\"750.5001,-178.0561 747,-168.0561 743.5001,-178.0561 750.5001,-178.0561\"/>\n",
       "</g>\n",
       "<!-- 47 -->\n",
       "<g id=\"node48\" class=\"node\">\n",
       "<title>47</title>\n",
       "<text text-anchor=\"middle\" x=\"804\" y=\"-207.8\" font-family=\"'Fira Mono', 'Source Code Pro', 'Courier', monospace\" font-size=\"14.00\" fill=\"#00a060\">o</text>\n",
       "</g>\n",
       "<!-- 46&#45;&gt;47 -->\n",
       "<g id=\"edge47\" class=\"edge\">\n",
       "<title>46&#45;&gt;47</title>\n",
       "<path fill=\"none\" stroke=\"#000000\" d=\"M779.279,-254.9748C783.3056,-247.8936 789.4716,-237.05 794.6381,-227.9641\"/>\n",
       "<polygon fill=\"#000000\" stroke=\"#000000\" points=\"797.8028,-229.4791 799.7034,-219.0561 791.7178,-226.0189 797.8028,-229.4791\"/>\n",
       "</g>\n",
       "<!-- 49 -->\n",
       "<g id=\"node50\" class=\"node\">\n",
       "<title>49</title>\n",
       "<text text-anchor=\"middle\" x=\"832\" y=\"-258.8\" font-family=\"'Fira Mono', 'Source Code Pro', 'Courier', monospace\" font-size=\"14.00\" fill=\"#00a060\">&gt;</text>\n",
       "</g>\n",
       "<!-- 48&#45;&gt;49 -->\n",
       "<g id=\"edge49\" class=\"edge\">\n",
       "<title>48&#45;&gt;49</title>\n",
       "<path fill=\"none\" stroke=\"#000000\" d=\"M815.8035,-305.9748C818.3855,-299.0443 822.3101,-288.5097 825.6494,-279.5464\"/>\n",
       "<polygon fill=\"#000000\" stroke=\"#000000\" points=\"828.9736,-280.6488 829.185,-270.0561 822.414,-278.205 828.9736,-280.6488\"/>\n",
       "</g>\n",
       "</g>\n",
       "</svg>\n"
      ],
      "text/plain": [
       "<graphviz.dot.Digraph at 0x7f7f5972e438>"
      ]
     },
     "execution_count": 34,
     "metadata": {},
     "output_type": "execute_result"
    }
   ],
   "source": [
    "display_tree(bad_input_tree)"
   ]
  },
  {
   "cell_type": "markdown",
   "metadata": {
    "slideshow": {
     "slide_type": "subslide"
    }
   },
   "source": [
    "This derivation tree has the same structure as the one created from our `GrammarFuzzer` above. We see how the `<tagged-text>` is composed of three elements:\n",
    "\n",
    "1. an`<opening-tag>` (`<foo>`);\n",
    "2. a `<html>` element which becomes `<plain-text>` (`\"bar`); and\n",
    "3. a `<closing-tag>` (`</foo>`)."
   ]
  },
  {
   "cell_type": "markdown",
   "metadata": {
    "slideshow": {
     "slide_type": "fragment"
    }
   },
   "source": [
    "We can easily turn the tree back into a string. The method `tree_to_string()` traverses the tree left-to-right and joins all nonterminal symbols."
   ]
  },
  {
   "cell_type": "code",
   "execution_count": 35,
   "metadata": {
    "slideshow": {
     "slide_type": "skip"
    }
   },
   "outputs": [],
   "source": [
    "from fuzzingbook.GrammarFuzzer import tree_to_string, all_terminals"
   ]
  },
  {
   "cell_type": "code",
   "execution_count": 36,
   "metadata": {
    "slideshow": {
     "slide_type": "fragment"
    }
   },
   "outputs": [
    {
     "data": {
      "text/plain": [
       "'<foo>\"bar</foo>'"
      ]
     },
     "execution_count": 36,
     "metadata": {},
     "output_type": "execute_result"
    }
   ],
   "source": [
    "tree_to_string(bad_input_tree)"
   ]
  },
  {
   "cell_type": "code",
   "execution_count": 37,
   "metadata": {
    "slideshow": {
     "slide_type": "fragment"
    }
   },
   "outputs": [],
   "source": [
    "assert tree_to_string(bad_input_tree) == BAD_INPUT"
   ]
  },
  {
   "cell_type": "markdown",
   "metadata": {
    "slideshow": {
     "slide_type": "subslide"
    }
   },
   "source": [
    "With this, we can now\n",
    "\n",
    "* parse an input into a tree structure;\n",
    "* (re-)create parts of the tree structure; and\n",
    "* turn the tree back into an input string."
   ]
  },
  {
   "cell_type": "markdown",
   "metadata": {
    "slideshow": {
     "slide_type": "slide"
    }
   },
   "source": [
    "## Mutating the Tree\n",
    "\n",
    "We introduce a class `TreeMutator` that is set to mutate a tree. Its constructor takes a grammar and a tree."
   ]
  },
  {
   "cell_type": "code",
   "execution_count": 38,
   "metadata": {
    "slideshow": {
     "slide_type": "skip"
    }
   },
   "outputs": [],
   "source": [
    "from fuzzingbook.Grammars import is_valid_grammar"
   ]
  },
  {
   "cell_type": "code",
   "execution_count": 39,
   "metadata": {
    "slideshow": {
     "slide_type": "subslide"
    }
   },
   "outputs": [],
   "source": [
    "class TreeMutator:\n",
    "    \"\"\"Grammar-based mutations of derivation trees.\"\"\"\n",
    "    \n",
    "    def __init__(self, grammar, tree, fuzzer=None, log=False):\n",
    "        \"\"\"Constructor. \n",
    "        `grammar` is the underlying grammar; \n",
    "        `tree` is the tree to work on.\n",
    "        `fuzzer` is the grammar fuzzer to use (default: `GrammarFuzzer`)\n",
    "        \"\"\"\n",
    "\n",
    "        assert is_valid_grammar(grammar)\n",
    "        self.grammar = grammar\n",
    "        self.tree = tree\n",
    "        self.log = log\n",
    "        \n",
    "        if fuzzer is None:\n",
    "            fuzzer = GrammarFuzzer(grammar)\n",
    "        self.fuzzer = fuzzer"
   ]
  },
  {
   "cell_type": "markdown",
   "metadata": {
    "slideshow": {
     "slide_type": "subslide"
    }
   },
   "source": [
    "### Referencing Subtrees"
   ]
  },
  {
   "cell_type": "markdown",
   "metadata": {
    "slideshow": {
     "slide_type": "fragment"
    }
   },
   "source": [
    "To reference individual elements in the tree, we introduce the concept of a _path_. A path is a list of numbers indicating the children (starting with 0) we should follow. A path `[0, 0, 0, ..., 0]` stands for the leftmost child in a tree."
   ]
  },
  {
   "cell_type": "markdown",
   "metadata": {
    "slideshow": {
     "slide_type": "fragment"
    }
   },
   "source": [
    "The method `get_subtree()` returns the subtree for a given path."
   ]
  },
  {
   "cell_type": "code",
   "execution_count": 40,
   "metadata": {
    "slideshow": {
     "slide_type": "subslide"
    }
   },
   "outputs": [],
   "source": [
    "class TreeMutator(TreeMutator):\n",
    "    def get_subtree(self, path, tree=None):\n",
    "        \"\"\"Access a subtree based on `path` (a list of children numbers)\"\"\"\n",
    "        if tree is None:\n",
    "            tree = self.tree\n",
    "\n",
    "        node, children = tree  # FIXME: should be symbol\n",
    "\n",
    "        if not path:\n",
    "            return tree\n",
    "\n",
    "        return self.get_subtree(path[1:], children[path[0]])"
   ]
  },
  {
   "cell_type": "markdown",
   "metadata": {
    "slideshow": {
     "slide_type": "subslide"
    }
   },
   "source": [
    "Here's `get_subtree()` in action. We instantiate a `TreeMutator` on the `BAD_INPUT` tree as shown above and return the element at the path `[0, 0, 1, 0]` – i.e. follow the leftmost edge twice, than the second-to-leftmost edge, then the leftmost edge again. This gives us the `<plain-text>` subtree representing the string `\"bar`:"
   ]
  },
  {
   "cell_type": "code",
   "execution_count": 41,
   "metadata": {
    "slideshow": {
     "slide_type": "fragment"
    }
   },
   "outputs": [],
   "source": [
    "def bad_input_tree_mutator():\n",
    "    return TreeMutator(SIMPLE_HTML_GRAMMAR, bad_input_tree, log=2)    "
   ]
  },
  {
   "cell_type": "code",
   "execution_count": 42,
   "metadata": {
    "slideshow": {
     "slide_type": "fragment"
    }
   },
   "outputs": [
    {
     "name": "stdout",
     "output_type": "stream",
     "text": [
      "('<plain-text>',\n",
      " [('<plain-char>', [('<other>', [('\"', [])])]),\n",
      "  ('<plain-text>',\n",
      "   [('<plain-char>', [('<letter>', [...])]),\n",
      "    ('<plain-text>', [('<plain-char>', [...]), ('<plain-text>', [...])])])])\n"
     ]
    }
   ],
   "source": [
    "plain_text_subtree = bad_input_tree_mutator().get_subtree([0, 0, 1, 0])\n",
    "pp.pprint(plain_text_subtree)"
   ]
  },
  {
   "cell_type": "code",
   "execution_count": 43,
   "metadata": {
    "slideshow": {
     "slide_type": "subslide"
    }
   },
   "outputs": [
    {
     "data": {
      "text/plain": [
       "'\"bar'"
      ]
     },
     "execution_count": 43,
     "metadata": {},
     "output_type": "execute_result"
    }
   ],
   "source": [
    "tree_to_string(plain_text_subtree)"
   ]
  },
  {
   "cell_type": "code",
   "execution_count": 44,
   "metadata": {
    "slideshow": {
     "slide_type": "subslide"
    }
   },
   "outputs": [],
   "source": [
    "# ignore\n",
    "def primes_generator():\n",
    "    # Adapted from https://www.python.org/ftp/python/doc/nluug-paper.ps\n",
    "    primes = [2]\n",
    "    yield 2\n",
    "    i = 3\n",
    "    while True:\n",
    "        for p in primes:\n",
    "            if i % p == 0 or p * p > i:\n",
    "                break\n",
    "\n",
    "        if i % p != 0:\n",
    "            primes.append(i)\n",
    "            yield i\n",
    "\n",
    "        i += 2"
   ]
  },
  {
   "cell_type": "code",
   "execution_count": 45,
   "metadata": {
    "slideshow": {
     "slide_type": "subslide"
    }
   },
   "outputs": [],
   "source": [
    "# ignore\n",
    "prime_numbers = primes_generator()"
   ]
  },
  {
   "cell_type": "code",
   "execution_count": 46,
   "metadata": {
    "slideshow": {
     "slide_type": "fragment"
    }
   },
   "outputs": [
    {
     "data": {
      "text/html": [
       "\n",
       "    \n",
       "    <script>\n",
       "    var bad_answers = new Map();\n",
       "\n",
       "    function answer(quiz_id) {\n",
       "        ans = 0;\n",
       "        for (i = 1;; i++) {\n",
       "            checkbox = document.getElementById(quiz_id + \"-\" + i.toString());\n",
       "            if (!checkbox)\n",
       "                break;\n",
       "            if (checkbox.checked)\n",
       "                ans |= (1 << i);\n",
       "        }\n",
       "        return ans;\n",
       "    }\n",
       "    function check_selection(quiz_id, correct_answer, multiple_choice, hint) {\n",
       "        given_answer = answer(quiz_id);\n",
       "        if (given_answer == correct_answer)\n",
       "        {\n",
       "            document.getElementById(quiz_id + \"-submit\").value = \"Correct!\";\n",
       "            document.getElementById(quiz_id + \"-hint\").innerHTML = \"\";\n",
       "\n",
       "            for (i = 1;; i++) {\n",
       "                checkbox = document.getElementById(quiz_id + \"-\" + i.toString());\n",
       "                label = document.getElementById(quiz_id + \"-\" + i.toString() + \"-label\")\n",
       "                if (!checkbox)\n",
       "                    break;\n",
       "    \n",
       "                if (checkbox.checked) {\n",
       "                    label.style.fontWeight = \"bold\";\n",
       "                }\n",
       "                else {\n",
       "                    label.style.textDecoration = \"line-through\";\n",
       "                }\n",
       "            }\n",
       "        }\n",
       "        else \n",
       "        {\n",
       "            document.getElementById(quiz_id + \"-submit\").value = \"Try again\";\n",
       "            \n",
       "            if (!bad_answers.has(quiz_id)) {\n",
       "                bad_answers.set(quiz_id, 1);\n",
       "            }\n",
       "            else {\n",
       "                bad_answers.set(quiz_id, bad_answers.get(quiz_id) + 1);\n",
       "            }\n",
       "\n",
       "            if (bad_answers.get(quiz_id) >= 2 && hint.length > 0) {\n",
       "                document.getElementById(quiz_id + \"-hint\").innerHTML = \n",
       "                    \"&nbsp;&nbsp;(Hint: <code>\" + hint + \"</code>)\";\n",
       "            }\n",
       "\n",
       "            if (!multiple_choice) {\n",
       "                for (i = 1;; i++) {\n",
       "                    checkbox = document.getElementById(quiz_id + \"-\" + i.toString());\n",
       "                    label = document.getElementById(quiz_id + \"-\" + i.toString() + \"-label\")\n",
       "\n",
       "                    if (!checkbox)\n",
       "                        break;\n",
       "                    if (checkbox.checked) {\n",
       "                        label.style.textDecoration = \"line-through\";\n",
       "                    }\n",
       "                }\n",
       "            }\n",
       "        }\n",
       "    }\n",
       "    function clear_selection(quiz_id) {\n",
       "        document.getElementById(quiz_id + \"-submit\").value = \"Submit\";\n",
       "        document.getElementById(quiz_id + \"-hint\").innerHTML = \"\";\n",
       "    }\n",
       "    </script>\n",
       "    \n",
       "    <div class=\"quiz\">\n",
       "    <h3 class=\"quiz_title\">Quiz</h3>\n",
       "    <p>\n",
       "    <div class=\"quiz_question\">In <code>bad_input_tree</code>, what is  the subtree at the path <code>[0, 0, 2, 1]</code> as string?</div>\n",
       "    </p>\n",
       "    <p>\n",
       "    <div class=\"quiz_options\" title=\"Pick a choice.\">\n",
       "    \n",
       "        <input type=\"radio\" name=\"55904a92-6473-11eb-8748-acde48001122\" id=\"55904a92-6473-11eb-8748-acde48001122-1\" onclick=\"clear_selection('55904a92-6473-11eb-8748-acde48001122')\">\n",
       "        <label id=\"55904a92-6473-11eb-8748-acde48001122-1-label\" for=\"55904a92-6473-11eb-8748-acde48001122-1\"><code>&lt;</code></label><br>\n",
       "    \n",
       "        <input type=\"radio\" name=\"55904a92-6473-11eb-8748-acde48001122\" id=\"55904a92-6473-11eb-8748-acde48001122-2\" onclick=\"clear_selection('55904a92-6473-11eb-8748-acde48001122')\">\n",
       "        <label id=\"55904a92-6473-11eb-8748-acde48001122-2-label\" for=\"55904a92-6473-11eb-8748-acde48001122-2\"><code>/</code></label><br>\n",
       "    \n",
       "        <input type=\"radio\" name=\"55904a92-6473-11eb-8748-acde48001122\" id=\"55904a92-6473-11eb-8748-acde48001122-3\" onclick=\"clear_selection('55904a92-6473-11eb-8748-acde48001122')\">\n",
       "        <label id=\"55904a92-6473-11eb-8748-acde48001122-3-label\" for=\"55904a92-6473-11eb-8748-acde48001122-3\"><code>&lt;/foo&gt;</code></label><br>\n",
       "    \n",
       "        <input type=\"radio\" name=\"55904a92-6473-11eb-8748-acde48001122\" id=\"55904a92-6473-11eb-8748-acde48001122-4\" onclick=\"clear_selection('55904a92-6473-11eb-8748-acde48001122')\">\n",
       "        <label id=\"55904a92-6473-11eb-8748-acde48001122-4-label\" for=\"55904a92-6473-11eb-8748-acde48001122-4\"><code>&lt;foo&gt;</code></label><br>\n",
       "    \n",
       "    </div>\n",
       "    </p>\n",
       "    <input id=\"55904a92-6473-11eb-8748-acde48001122-submit\" type=\"submit\" value=\"Submit\" onclick=\"check_selection('55904a92-6473-11eb-8748-acde48001122', 4, 0, 'next(prime_numbers)')\">\n",
       "    <span class=\"quiz_hint\" id=\"55904a92-6473-11eb-8748-acde48001122-hint\"></span>\n",
       "    </div>\n",
       "    "
      ],
      "text/plain": [
       "<IPython.core.display.HTML object>"
      ]
     },
     "execution_count": 46,
     "metadata": {},
     "output_type": "execute_result"
    }
   ],
   "source": [
    "quiz(\"In `bad_input_tree`, what is \"\n",
    "     \" the subtree at the path `[0, 0, 2, 1]` as string?\", \n",
    "    [\n",
    "        f\"`{tree_to_string(bad_input_tree_mutator().get_subtree([0, 0, 2, 0]))}`\",\n",
    "        f\"`{tree_to_string(bad_input_tree_mutator().get_subtree([0, 0, 2, 1]))}`\",\n",
    "        f\"`{tree_to_string(bad_input_tree_mutator().get_subtree([0, 0, 2]))}`\",\n",
    "        f\"`{tree_to_string(bad_input_tree_mutator().get_subtree([0, 0, 0]))}`\",\n",
    "    ], 'next(prime_numbers)', globals()\n",
    "    )"
   ]
  },
  {
   "cell_type": "markdown",
   "metadata": {
    "slideshow": {
     "slide_type": "subslide"
    }
   },
   "source": [
    "### Creating new Subtrees\n",
    "\n",
    "The method `new_tree()` creates a new subtree for the given `<start_symbol>` according to the rules of the grammar. It invokes `expand_tree()` on the given `GrammarFuzzer` – a method that takes an initial (empty) tree and expands it until no more expansions are left."
   ]
  },
  {
   "cell_type": "code",
   "execution_count": 47,
   "metadata": {
    "slideshow": {
     "slide_type": "subslide"
    }
   },
   "outputs": [],
   "source": [
    "class TreeMutator(TreeMutator):\n",
    "    def new_tree(self, start_symbol):\n",
    "        \"\"\"Create a new subtree for <start_symbol>.\"\"\"\n",
    "\n",
    "        if self.log >= 2:\n",
    "            print(f\"Creating new tree for {start_symbol}\")\n",
    "            \n",
    "        tree = (start_symbol, None)\n",
    "        return self.fuzzer.expand_tree(tree)"
   ]
  },
  {
   "cell_type": "markdown",
   "metadata": {
    "slideshow": {
     "slide_type": "fragment"
    }
   },
   "source": [
    "Here is an example of `new_tree()`:"
   ]
  },
  {
   "cell_type": "code",
   "execution_count": 48,
   "metadata": {
    "slideshow": {
     "slide_type": "fragment"
    }
   },
   "outputs": [
    {
     "name": "stdout",
     "output_type": "stream",
     "text": [
      "Creating new tree for <plain-text>\n"
     ]
    },
    {
     "data": {
      "image/svg+xml": [
       "<?xml version=\"1.0\" encoding=\"UTF-8\" standalone=\"no\"?>\n",
       "<!DOCTYPE svg PUBLIC \"-//W3C//DTD SVG 1.1//EN\"\n",
       " \"http://www.w3.org/Graphics/SVG/1.1/DTD/svg11.dtd\">\n",
       "<!-- Generated by graphviz version 2.40.1 (20161225.0304)\n",
       " -->\n",
       "<!-- Title: %3 Pages: 1 -->\n",
       "<svg width=\"228pt\" height=\"176pt\"\n",
       " viewBox=\"0.00 0.00 228.00 176.00\" xmlns=\"http://www.w3.org/2000/svg\" xmlns:xlink=\"http://www.w3.org/1999/xlink\">\n",
       "<g id=\"graph0\" class=\"graph\" transform=\"scale(1 1) rotate(0) translate(4 172)\">\n",
       "<title>%3</title>\n",
       "<polygon fill=\"#ffffff\" stroke=\"transparent\" points=\"-4,4 -4,-172 224,-172 224,4 -4,4\"/>\n",
       "<!-- 0 -->\n",
       "<g id=\"node1\" class=\"node\">\n",
       "<title>0</title>\n",
       "<text text-anchor=\"middle\" x=\"109.5\" y=\"-156.8\" font-family=\"'Fira Mono', 'Source Code Pro', 'Courier', monospace\" font-size=\"14.00\" fill=\"#0060a0\">&lt;plain&#45;text&gt;</text>\n",
       "</g>\n",
       "<!-- 1 -->\n",
       "<g id=\"node2\" class=\"node\">\n",
       "<title>1</title>\n",
       "<text text-anchor=\"middle\" x=\"50.5\" y=\"-105.8\" font-family=\"'Fira Mono', 'Source Code Pro', 'Courier', monospace\" font-size=\"14.00\" fill=\"#0060a0\">&lt;plain&#45;char&gt;</text>\n",
       "</g>\n",
       "<!-- 0&#45;&gt;1 -->\n",
       "<g id=\"edge1\" class=\"edge\">\n",
       "<title>0&#45;&gt;1</title>\n",
       "<path fill=\"none\" stroke=\"#000000\" d=\"M100.7943,-152.9748C91.9053,-145.291 77.891,-133.177 66.9111,-123.6859\"/>\n",
       "<polygon fill=\"#000000\" stroke=\"#000000\" points=\"69.0956,-120.9478 59.2414,-117.0561 64.5179,-126.2435 69.0956,-120.9478\"/>\n",
       "</g>\n",
       "<!-- 4 -->\n",
       "<g id=\"node5\" class=\"node\">\n",
       "<title>4</title>\n",
       "<text text-anchor=\"middle\" x=\"169.5\" y=\"-105.8\" font-family=\"'Fira Mono', 'Source Code Pro', 'Courier', monospace\" font-size=\"14.00\" fill=\"#0060a0\">&lt;plain&#45;text&gt;</text>\n",
       "</g>\n",
       "<!-- 0&#45;&gt;4 -->\n",
       "<g id=\"edge4\" class=\"edge\">\n",
       "<title>0&#45;&gt;4</title>\n",
       "<path fill=\"none\" stroke=\"#000000\" d=\"M118.3532,-152.9748C127.3929,-145.291 141.6447,-133.177 152.8107,-123.6859\"/>\n",
       "<polygon fill=\"#000000\" stroke=\"#000000\" points=\"155.2578,-126.1994 160.6105,-117.0561 150.7243,-120.8658 155.2578,-126.1994\"/>\n",
       "</g>\n",
       "<!-- 2 -->\n",
       "<g id=\"node3\" class=\"node\">\n",
       "<title>2</title>\n",
       "<text text-anchor=\"middle\" x=\"50.5\" y=\"-54.8\" font-family=\"'Fira Mono', 'Source Code Pro', 'Courier', monospace\" font-size=\"14.00\" fill=\"#0060a0\">&lt;whitespace&gt;</text>\n",
       "</g>\n",
       "<!-- 1&#45;&gt;2 -->\n",
       "<g id=\"edge2\" class=\"edge\">\n",
       "<title>1&#45;&gt;2</title>\n",
       "<path fill=\"none\" stroke=\"#000000\" d=\"M50.5,-101.9748C50.5,-95.195 50.5,-84.966 50.5,-76.1331\"/>\n",
       "<polygon fill=\"#000000\" stroke=\"#000000\" points=\"54.0001,-76.0561 50.5,-66.0561 47.0001,-76.0561 54.0001,-76.0561\"/>\n",
       "</g>\n",
       "<!-- 3 -->\n",
       "<g id=\"node4\" class=\"node\">\n",
       "<title>3</title>\n",
       "<text text-anchor=\"middle\" x=\"50.5\" y=\"-3.8\" font-family=\"'Fira Mono', 'Source Code Pro', 'Courier', monospace\" font-size=\"14.00\" fill=\"#00a060\"> </text>\n",
       "</g>\n",
       "<!-- 2&#45;&gt;3 -->\n",
       "<g id=\"edge3\" class=\"edge\">\n",
       "<title>2&#45;&gt;3</title>\n",
       "<path fill=\"none\" stroke=\"#000000\" d=\"M50.5,-50.9748C50.5,-44.195 50.5,-33.966 50.5,-25.1331\"/>\n",
       "<polygon fill=\"#000000\" stroke=\"#000000\" points=\"54.0001,-25.0561 50.5,-15.0561 47.0001,-25.0561 54.0001,-25.0561\"/>\n",
       "</g>\n",
       "<!-- 5 -->\n",
       "<g id=\"node6\" class=\"node\">\n",
       "<title>5</title>\n",
       "</g>\n",
       "<!-- 4&#45;&gt;5 -->\n",
       "<g id=\"edge5\" class=\"edge\">\n",
       "<title>4&#45;&gt;5</title>\n",
       "<path fill=\"none\" stroke=\"#000000\" d=\"M169.5,-101.9748C169.5,-101.9194 169.5,-101.8637 169.5,-101.8078\"/>\n",
       "<polygon fill=\"#000000\" stroke=\"#000000\" points=\"173.0059,-111.6375 169.5,-101.6395 166.0059,-111.6416 173.0059,-111.6375\"/>\n",
       "</g>\n",
       "</g>\n",
       "</svg>\n"
      ],
      "text/plain": [
       "<graphviz.dot.Digraph at 0x7f7f599aa898>"
      ]
     },
     "execution_count": 48,
     "metadata": {},
     "output_type": "execute_result"
    }
   ],
   "source": [
    "plain_text_tree = bad_input_tree_mutator().new_tree('<plain-text>')\n",
    "display_tree(plain_text_tree)"
   ]
  },
  {
   "cell_type": "code",
   "execution_count": 49,
   "metadata": {
    "slideshow": {
     "slide_type": "subslide"
    }
   },
   "outputs": [
    {
     "data": {
      "text/plain": [
       "' '"
      ]
     },
     "execution_count": 49,
     "metadata": {},
     "output_type": "execute_result"
    }
   ],
   "source": [
    "tree_to_string(plain_text_tree)"
   ]
  },
  {
   "cell_type": "markdown",
   "metadata": {
    "slideshow": {
     "slide_type": "subslide"
    }
   },
   "source": [
    "### Mutating the Tree\n",
    "\n",
    "With us now being able to \n",
    "* access a particular path in the tree (`get_subtree()`) and\n",
    "* create a new subtree (`new_tree()`),\n",
    "\n",
    "we can mutate the tree at a given path. This is the task of `mutate()`."
   ]
  },
  {
   "cell_type": "code",
   "execution_count": 50,
   "metadata": {
    "slideshow": {
     "slide_type": "subslide"
    }
   },
   "outputs": [],
   "source": [
    "class TreeMutator(TreeMutator):\n",
    "    def mutate(self, path, tree=None):\n",
    "        \"\"\"Return a new tree mutated at `path`\"\"\"\n",
    "        if tree is None:\n",
    "            tree = self.tree\n",
    "\n",
    "        node, children = tree\n",
    "\n",
    "        if not path:\n",
    "            return self.new_tree(node)\n",
    "\n",
    "        head = path[0]\n",
    "        new_children = (children[:head] +\n",
    "                        [self.mutate(path[1:], children[head])] +\n",
    "                        children[head + 1:])\n",
    "        return node, new_children"
   ]
  },
  {
   "cell_type": "markdown",
   "metadata": {
    "slideshow": {
     "slide_type": "subslide"
    }
   },
   "source": [
    "Here is an example of `mutate()` in action. We mutate `bad_input_tree` at the path `[0, 0, 1, 0]` – that is, `<plain-text>`:"
   ]
  },
  {
   "cell_type": "code",
   "execution_count": 51,
   "metadata": {
    "slideshow": {
     "slide_type": "fragment"
    }
   },
   "outputs": [
    {
     "name": "stdout",
     "output_type": "stream",
     "text": [
      "Creating new tree for <plain-text>\n"
     ]
    },
    {
     "data": {
      "image/svg+xml": [
       "<?xml version=\"1.0\" encoding=\"UTF-8\" standalone=\"no\"?>\n",
       "<!DOCTYPE svg PUBLIC \"-//W3C//DTD SVG 1.1//EN\"\n",
       " \"http://www.w3.org/Graphics/SVG/1.1/DTD/svg11.dtd\">\n",
       "<!-- Generated by graphviz version 2.40.1 (20161225.0304)\n",
       " -->\n",
       "<!-- Title: %3 Pages: 1 -->\n",
       "<svg width=\"667pt\" height=\"431pt\"\n",
       " viewBox=\"0.00 0.00 666.50 431.00\" xmlns=\"http://www.w3.org/2000/svg\" xmlns:xlink=\"http://www.w3.org/1999/xlink\">\n",
       "<g id=\"graph0\" class=\"graph\" transform=\"scale(1 1) rotate(0) translate(4 427)\">\n",
       "<title>%3</title>\n",
       "<polygon fill=\"#ffffff\" stroke=\"transparent\" points=\"-4,4 -4,-427 662.5,-427 662.5,4 -4,4\"/>\n",
       "<!-- 0 -->\n",
       "<g id=\"node1\" class=\"node\">\n",
       "<title>0</title>\n",
       "<text text-anchor=\"middle\" x=\"322\" y=\"-411.8\" font-family=\"'Fira Mono', 'Source Code Pro', 'Courier', monospace\" font-size=\"14.00\" fill=\"#0060a0\">&lt;start&gt;</text>\n",
       "</g>\n",
       "<!-- 1 -->\n",
       "<g id=\"node2\" class=\"node\">\n",
       "<title>1</title>\n",
       "<text text-anchor=\"middle\" x=\"322\" y=\"-360.8\" font-family=\"'Fira Mono', 'Source Code Pro', 'Courier', monospace\" font-size=\"14.00\" fill=\"#0060a0\">&lt;html&gt;</text>\n",
       "</g>\n",
       "<!-- 0&#45;&gt;1 -->\n",
       "<g id=\"edge1\" class=\"edge\">\n",
       "<title>0&#45;&gt;1</title>\n",
       "<path fill=\"none\" stroke=\"#000000\" d=\"M322,-407.9748C322,-401.195 322,-390.966 322,-382.1331\"/>\n",
       "<polygon fill=\"#000000\" stroke=\"#000000\" points=\"325.5001,-382.0561 322,-372.0561 318.5001,-382.0561 325.5001,-382.0561\"/>\n",
       "</g>\n",
       "<!-- 2 -->\n",
       "<g id=\"node3\" class=\"node\">\n",
       "<title>2</title>\n",
       "<text text-anchor=\"middle\" x=\"322\" y=\"-309.8\" font-family=\"'Fira Mono', 'Source Code Pro', 'Courier', monospace\" font-size=\"14.00\" fill=\"#0060a0\">&lt;tagged&#45;text&gt;</text>\n",
       "</g>\n",
       "<!-- 1&#45;&gt;2 -->\n",
       "<g id=\"edge2\" class=\"edge\">\n",
       "<title>1&#45;&gt;2</title>\n",
       "<path fill=\"none\" stroke=\"#000000\" d=\"M322,-356.9748C322,-350.195 322,-339.966 322,-331.1331\"/>\n",
       "<polygon fill=\"#000000\" stroke=\"#000000\" points=\"325.5001,-331.0561 322,-321.0561 318.5001,-331.0561 325.5001,-331.0561\"/>\n",
       "</g>\n",
       "<!-- 3 -->\n",
       "<g id=\"node4\" class=\"node\">\n",
       "<title>3</title>\n",
       "<text text-anchor=\"middle\" x=\"204\" y=\"-258.8\" font-family=\"'Fira Mono', 'Source Code Pro', 'Courier', monospace\" font-size=\"14.00\" fill=\"#0060a0\">&lt;opening&#45;tag&gt;</text>\n",
       "</g>\n",
       "<!-- 2&#45;&gt;3 -->\n",
       "<g id=\"edge3\" class=\"edge\">\n",
       "<title>2&#45;&gt;3</title>\n",
       "<path fill=\"none\" stroke=\"#000000\" d=\"M304.5887,-305.9748C285.1547,-297.5753 253.4721,-283.882 230.8576,-274.1079\"/>\n",
       "<polygon fill=\"#000000\" stroke=\"#000000\" points=\"232.0507,-270.8107 221.4827,-270.0561 229.2735,-277.2363 232.0507,-270.8107\"/>\n",
       "</g>\n",
       "<!-- 17 -->\n",
       "<g id=\"node18\" class=\"node\">\n",
       "<title>17</title>\n",
       "<text text-anchor=\"middle\" x=\"322\" y=\"-258.8\" font-family=\"'Fira Mono', 'Source Code Pro', 'Courier', monospace\" font-size=\"14.00\" fill=\"#0060a0\">&lt;html&gt;</text>\n",
       "</g>\n",
       "<!-- 2&#45;&gt;17 -->\n",
       "<g id=\"edge17\" class=\"edge\">\n",
       "<title>2&#45;&gt;17</title>\n",
       "<path fill=\"none\" stroke=\"#000000\" d=\"M322,-305.9748C322,-299.195 322,-288.966 322,-280.1331\"/>\n",
       "<polygon fill=\"#000000\" stroke=\"#000000\" points=\"325.5001,-280.0561 322,-270.0561 318.5001,-280.0561 325.5001,-280.0561\"/>\n",
       "</g>\n",
       "<!-- 24 -->\n",
       "<g id=\"node25\" class=\"node\">\n",
       "<title>24</title>\n",
       "<text text-anchor=\"middle\" x=\"528\" y=\"-258.8\" font-family=\"'Fira Mono', 'Source Code Pro', 'Courier', monospace\" font-size=\"14.00\" fill=\"#0060a0\">&lt;closing&#45;tag&gt;</text>\n",
       "</g>\n",
       "<!-- 2&#45;&gt;24 -->\n",
       "<g id=\"edge24\" class=\"edge\">\n",
       "<title>2&#45;&gt;24</title>\n",
       "<path fill=\"none\" stroke=\"#000000\" d=\"M352.396,-305.9748C388.2248,-297.1045 447.9013,-282.3303 487.5962,-272.5029\"/>\n",
       "<polygon fill=\"#000000\" stroke=\"#000000\" points=\"488.6135,-275.8568 497.4793,-270.0561 486.9312,-269.0619 488.6135,-275.8568\"/>\n",
       "</g>\n",
       "<!-- 4 -->\n",
       "<g id=\"node5\" class=\"node\">\n",
       "<title>4</title>\n",
       "<text text-anchor=\"middle\" x=\"86\" y=\"-207.8\" font-family=\"'Fira Mono', 'Source Code Pro', 'Courier', monospace\" font-size=\"14.00\" fill=\"#0060a0\">&lt;lt&gt;</text>\n",
       "</g>\n",
       "<!-- 3&#45;&gt;4 -->\n",
       "<g id=\"edge4\" class=\"edge\">\n",
       "<title>3&#45;&gt;4</title>\n",
       "<path fill=\"none\" stroke=\"#000000\" d=\"M186.5887,-254.9748C167.043,-246.5271 135.1075,-232.7244 112.4686,-222.9398\"/>\n",
       "<polygon fill=\"#000000\" stroke=\"#000000\" points=\"113.667,-219.6449 103.0991,-218.8903 110.8899,-226.0705 113.667,-219.6449\"/>\n",
       "</g>\n",
       "<!-- 6 -->\n",
       "<g id=\"node7\" class=\"node\">\n",
       "<title>6</title>\n",
       "<text text-anchor=\"middle\" x=\"166\" y=\"-207.8\" font-family=\"'Fira Mono', 'Source Code Pro', 'Courier', monospace\" font-size=\"14.00\" fill=\"#0060a0\">&lt;id&gt;</text>\n",
       "</g>\n",
       "<!-- 3&#45;&gt;6 -->\n",
       "<g id=\"edge6\" class=\"edge\">\n",
       "<title>3&#45;&gt;6</title>\n",
       "<path fill=\"none\" stroke=\"#000000\" d=\"M198.393,-254.9748C192.9484,-247.6677 184.5187,-236.354 177.6233,-227.0997\"/>\n",
       "<polygon fill=\"#000000\" stroke=\"#000000\" points=\"180.4115,-224.9837 171.63,-219.0561 174.7983,-229.1661 180.4115,-224.9837\"/>\n",
       "</g>\n",
       "<!-- 15 -->\n",
       "<g id=\"node16\" class=\"node\">\n",
       "<title>15</title>\n",
       "<text text-anchor=\"middle\" x=\"220\" y=\"-207.8\" font-family=\"'Fira Mono', 'Source Code Pro', 'Courier', monospace\" font-size=\"14.00\" fill=\"#0060a0\">&lt;gt&gt;</text>\n",
       "</g>\n",
       "<!-- 3&#45;&gt;15 -->\n",
       "<g id=\"edge15\" class=\"edge\">\n",
       "<title>3&#45;&gt;15</title>\n",
       "<path fill=\"none\" stroke=\"#000000\" d=\"M206.3609,-254.9748C208.5115,-248.1196 211.7684,-237.7383 214.5602,-228.8392\"/>\n",
       "<polygon fill=\"#000000\" stroke=\"#000000\" points=\"217.9755,-229.6453 217.6295,-219.0561 211.2965,-227.5499 217.9755,-229.6453\"/>\n",
       "</g>\n",
       "<!-- 5 -->\n",
       "<g id=\"node6\" class=\"node\">\n",
       "<title>5</title>\n",
       "<text text-anchor=\"middle\" x=\"57\" y=\"-156.8\" font-family=\"'Fira Mono', 'Source Code Pro', 'Courier', monospace\" font-size=\"14.00\" fill=\"#0060a0\">&lt;</text>\n",
       "</g>\n",
       "<!-- 4&#45;&gt;5 -->\n",
       "<g id=\"edge5\" class=\"edge\">\n",
       "<title>4&#45;&gt;5</title>\n",
       "<path fill=\"none\" stroke=\"#000000\" d=\"M81.721,-203.9748C77.6944,-196.8936 71.5284,-186.05 66.3619,-176.9641\"/>\n",
       "<polygon fill=\"#000000\" stroke=\"#000000\" points=\"69.2822,-175.0189 61.2966,-168.0561 63.1972,-178.4791 69.2822,-175.0189\"/>\n",
       "</g>\n",
       "<!-- 7 -->\n",
       "<g id=\"node8\" class=\"node\">\n",
       "<title>7</title>\n",
       "<text text-anchor=\"middle\" x=\"97\" y=\"-156.8\" font-family=\"'Fira Mono', 'Source Code Pro', 'Courier', monospace\" font-size=\"14.00\" fill=\"#0060a0\">&lt;id&gt;</text>\n",
       "</g>\n",
       "<!-- 6&#45;&gt;7 -->\n",
       "<g id=\"edge7\" class=\"edge\">\n",
       "<title>6&#45;&gt;7</title>\n",
       "<path fill=\"none\" stroke=\"#000000\" d=\"M155.8188,-203.9748C145.2193,-196.1403 128.3885,-183.7002 115.4415,-174.1307\"/>\n",
       "<polygon fill=\"#000000\" stroke=\"#000000\" points=\"117.3451,-171.1854 107.223,-168.0561 113.1844,-176.8147 117.3451,-171.1854\"/>\n",
       "</g>\n",
       "<!-- 13 -->\n",
       "<g id=\"node14\" class=\"node\">\n",
       "<title>13</title>\n",
       "<text text-anchor=\"middle\" x=\"166\" y=\"-156.8\" font-family=\"'Fira Mono', 'Source Code Pro', 'Courier', monospace\" font-size=\"14.00\" fill=\"#0060a0\">&lt;letter&gt;</text>\n",
       "</g>\n",
       "<!-- 6&#45;&gt;13 -->\n",
       "<g id=\"edge13\" class=\"edge\">\n",
       "<title>6&#45;&gt;13</title>\n",
       "<path fill=\"none\" stroke=\"#000000\" d=\"M166,-203.9748C166,-197.195 166,-186.966 166,-178.1331\"/>\n",
       "<polygon fill=\"#000000\" stroke=\"#000000\" points=\"169.5001,-178.0561 166,-168.0561 162.5001,-178.0561 169.5001,-178.0561\"/>\n",
       "</g>\n",
       "<!-- 8 -->\n",
       "<g id=\"node9\" class=\"node\">\n",
       "<title>8</title>\n",
       "<text text-anchor=\"middle\" x=\"34\" y=\"-105.8\" font-family=\"'Fira Mono', 'Source Code Pro', 'Courier', monospace\" font-size=\"14.00\" fill=\"#0060a0\">&lt;id&gt;</text>\n",
       "</g>\n",
       "<!-- 7&#45;&gt;8 -->\n",
       "<g id=\"edge8\" class=\"edge\">\n",
       "<title>7&#45;&gt;8</title>\n",
       "<path fill=\"none\" stroke=\"#000000\" d=\"M87.7041,-152.9748C78.1193,-145.2157 62.9541,-132.939 51.1799,-123.4075\"/>\n",
       "<polygon fill=\"#000000\" stroke=\"#000000\" points=\"53.3087,-120.6278 43.334,-117.0561 48.9043,-126.0685 53.3087,-120.6278\"/>\n",
       "</g>\n",
       "<!-- 11 -->\n",
       "<g id=\"node12\" class=\"node\">\n",
       "<title>11</title>\n",
       "<text text-anchor=\"middle\" x=\"103\" y=\"-105.8\" font-family=\"'Fira Mono', 'Source Code Pro', 'Courier', monospace\" font-size=\"14.00\" fill=\"#0060a0\">&lt;letter&gt;</text>\n",
       "</g>\n",
       "<!-- 7&#45;&gt;11 -->\n",
       "<g id=\"edge11\" class=\"edge\">\n",
       "<title>7&#45;&gt;11</title>\n",
       "<path fill=\"none\" stroke=\"#000000\" d=\"M97.8853,-152.9748C98.6829,-146.195 99.8864,-135.966 100.9255,-127.1331\"/>\n",
       "<polygon fill=\"#000000\" stroke=\"#000000\" points=\"104.4186,-127.3966 102.111,-117.0561 97.4665,-126.5786 104.4186,-127.3966\"/>\n",
       "</g>\n",
       "<!-- 9 -->\n",
       "<g id=\"node10\" class=\"node\">\n",
       "<title>9</title>\n",
       "<text text-anchor=\"middle\" x=\"34\" y=\"-54.8\" font-family=\"'Fira Mono', 'Source Code Pro', 'Courier', monospace\" font-size=\"14.00\" fill=\"#0060a0\">&lt;letter&gt;</text>\n",
       "</g>\n",
       "<!-- 8&#45;&gt;9 -->\n",
       "<g id=\"edge9\" class=\"edge\">\n",
       "<title>8&#45;&gt;9</title>\n",
       "<path fill=\"none\" stroke=\"#000000\" d=\"M34,-101.9748C34,-95.195 34,-84.966 34,-76.1331\"/>\n",
       "<polygon fill=\"#000000\" stroke=\"#000000\" points=\"37.5001,-76.0561 34,-66.0561 30.5001,-76.0561 37.5001,-76.0561\"/>\n",
       "</g>\n",
       "<!-- 10 -->\n",
       "<g id=\"node11\" class=\"node\">\n",
       "<title>10</title>\n",
       "<text text-anchor=\"middle\" x=\"34\" y=\"-3.8\" font-family=\"'Fira Mono', 'Source Code Pro', 'Courier', monospace\" font-size=\"14.00\" fill=\"#00a060\">f</text>\n",
       "</g>\n",
       "<!-- 9&#45;&gt;10 -->\n",
       "<g id=\"edge10\" class=\"edge\">\n",
       "<title>9&#45;&gt;10</title>\n",
       "<path fill=\"none\" stroke=\"#000000\" d=\"M34,-50.9748C34,-44.195 34,-33.966 34,-25.1331\"/>\n",
       "<polygon fill=\"#000000\" stroke=\"#000000\" points=\"37.5001,-25.0561 34,-15.0561 30.5001,-25.0561 37.5001,-25.0561\"/>\n",
       "</g>\n",
       "<!-- 12 -->\n",
       "<g id=\"node13\" class=\"node\">\n",
       "<title>12</title>\n",
       "<text text-anchor=\"middle\" x=\"103\" y=\"-54.8\" font-family=\"'Fira Mono', 'Source Code Pro', 'Courier', monospace\" font-size=\"14.00\" fill=\"#00a060\">o</text>\n",
       "</g>\n",
       "<!-- 11&#45;&gt;12 -->\n",
       "<g id=\"edge12\" class=\"edge\">\n",
       "<title>11&#45;&gt;12</title>\n",
       "<path fill=\"none\" stroke=\"#000000\" d=\"M103,-101.9748C103,-95.195 103,-84.966 103,-76.1331\"/>\n",
       "<polygon fill=\"#000000\" stroke=\"#000000\" points=\"106.5001,-76.0561 103,-66.0561 99.5001,-76.0561 106.5001,-76.0561\"/>\n",
       "</g>\n",
       "<!-- 14 -->\n",
       "<g id=\"node15\" class=\"node\">\n",
       "<title>14</title>\n",
       "<text text-anchor=\"middle\" x=\"166\" y=\"-105.8\" font-family=\"'Fira Mono', 'Source Code Pro', 'Courier', monospace\" font-size=\"14.00\" fill=\"#00a060\">o</text>\n",
       "</g>\n",
       "<!-- 13&#45;&gt;14 -->\n",
       "<g id=\"edge14\" class=\"edge\">\n",
       "<title>13&#45;&gt;14</title>\n",
       "<path fill=\"none\" stroke=\"#000000\" d=\"M166,-152.9748C166,-146.195 166,-135.966 166,-127.1331\"/>\n",
       "<polygon fill=\"#000000\" stroke=\"#000000\" points=\"169.5001,-127.0561 166,-117.0561 162.5001,-127.0561 169.5001,-127.0561\"/>\n",
       "</g>\n",
       "<!-- 16 -->\n",
       "<g id=\"node17\" class=\"node\">\n",
       "<title>16</title>\n",
       "<text text-anchor=\"middle\" x=\"223\" y=\"-156.8\" font-family=\"'Fira Mono', 'Source Code Pro', 'Courier', monospace\" font-size=\"14.00\" fill=\"#00a060\">&gt;</text>\n",
       "</g>\n",
       "<!-- 15&#45;&gt;16 -->\n",
       "<g id=\"edge16\" class=\"edge\">\n",
       "<title>15&#45;&gt;16</title>\n",
       "<path fill=\"none\" stroke=\"#000000\" d=\"M220.4427,-203.9748C220.8415,-197.195 221.4432,-186.966 221.9628,-178.1331\"/>\n",
       "<polygon fill=\"#000000\" stroke=\"#000000\" points=\"225.4622,-178.2444 222.5555,-168.0561 218.4742,-177.8333 225.4622,-178.2444\"/>\n",
       "</g>\n",
       "<!-- 18 -->\n",
       "<g id=\"node19\" class=\"node\">\n",
       "<title>18</title>\n",
       "<text text-anchor=\"middle\" x=\"322\" y=\"-207.8\" font-family=\"'Fira Mono', 'Source Code Pro', 'Courier', monospace\" font-size=\"14.00\" fill=\"#0060a0\">&lt;plain&#45;text&gt;</text>\n",
       "</g>\n",
       "<!-- 17&#45;&gt;18 -->\n",
       "<g id=\"edge18\" class=\"edge\">\n",
       "<title>17&#45;&gt;18</title>\n",
       "<path fill=\"none\" stroke=\"#000000\" d=\"M322,-254.9748C322,-248.195 322,-237.966 322,-229.1331\"/>\n",
       "<polygon fill=\"#000000\" stroke=\"#000000\" points=\"325.5001,-229.0561 322,-219.0561 318.5001,-229.0561 325.5001,-229.0561\"/>\n",
       "</g>\n",
       "<!-- 19 -->\n",
       "<g id=\"node20\" class=\"node\">\n",
       "<title>19</title>\n",
       "<text text-anchor=\"middle\" x=\"296\" y=\"-156.8\" font-family=\"'Fira Mono', 'Source Code Pro', 'Courier', monospace\" font-size=\"14.00\" fill=\"#0060a0\">&lt;plain&#45;char&gt;</text>\n",
       "</g>\n",
       "<!-- 18&#45;&gt;19 -->\n",
       "<g id=\"edge19\" class=\"edge\">\n",
       "<title>18&#45;&gt;19</title>\n",
       "<path fill=\"none\" stroke=\"#000000\" d=\"M318.1636,-203.9748C314.592,-196.969 309.1429,-186.2803 304.5416,-177.2547\"/>\n",
       "<polygon fill=\"#000000\" stroke=\"#000000\" points=\"307.5122,-175.3755 299.8521,-168.0561 301.2759,-178.5548 307.5122,-175.3755\"/>\n",
       "</g>\n",
       "<!-- 22 -->\n",
       "<g id=\"node23\" class=\"node\">\n",
       "<title>22</title>\n",
       "<text text-anchor=\"middle\" x=\"415\" y=\"-156.8\" font-family=\"'Fira Mono', 'Source Code Pro', 'Courier', monospace\" font-size=\"14.00\" fill=\"#0060a0\">&lt;plain&#45;text&gt;</text>\n",
       "</g>\n",
       "<!-- 18&#45;&gt;22 -->\n",
       "<g id=\"edge22\" class=\"edge\">\n",
       "<title>18&#45;&gt;22</title>\n",
       "<path fill=\"none\" stroke=\"#000000\" d=\"M335.7225,-203.9748C350.5583,-195.839 374.4511,-182.7365 392.1336,-173.0397\"/>\n",
       "<polygon fill=\"#000000\" stroke=\"#000000\" points=\"394.136,-175.9333 401.2212,-168.0561 390.7702,-169.7956 394.136,-175.9333\"/>\n",
       "</g>\n",
       "<!-- 20 -->\n",
       "<g id=\"node21\" class=\"node\">\n",
       "<title>20</title>\n",
       "<text text-anchor=\"middle\" x=\"296\" y=\"-105.8\" font-family=\"'Fira Mono', 'Source Code Pro', 'Courier', monospace\" font-size=\"14.00\" fill=\"#0060a0\">&lt;whitespace&gt;</text>\n",
       "</g>\n",
       "<!-- 19&#45;&gt;20 -->\n",
       "<g id=\"edge20\" class=\"edge\">\n",
       "<title>19&#45;&gt;20</title>\n",
       "<path fill=\"none\" stroke=\"#000000\" d=\"M296,-152.9748C296,-146.195 296,-135.966 296,-127.1331\"/>\n",
       "<polygon fill=\"#000000\" stroke=\"#000000\" points=\"299.5001,-127.0561 296,-117.0561 292.5001,-127.0561 299.5001,-127.0561\"/>\n",
       "</g>\n",
       "<!-- 21 -->\n",
       "<g id=\"node22\" class=\"node\">\n",
       "<title>21</title>\n",
       "<text text-anchor=\"middle\" x=\"296\" y=\"-54.8\" font-family=\"'Fira Mono', 'Source Code Pro', 'Courier', monospace\" font-size=\"14.00\" fill=\"#00a060\"> </text>\n",
       "</g>\n",
       "<!-- 20&#45;&gt;21 -->\n",
       "<g id=\"edge21\" class=\"edge\">\n",
       "<title>20&#45;&gt;21</title>\n",
       "<path fill=\"none\" stroke=\"#000000\" d=\"M296,-101.9748C296,-95.195 296,-84.966 296,-76.1331\"/>\n",
       "<polygon fill=\"#000000\" stroke=\"#000000\" points=\"299.5001,-76.0561 296,-66.0561 292.5001,-76.0561 299.5001,-76.0561\"/>\n",
       "</g>\n",
       "<!-- 23 -->\n",
       "<g id=\"node24\" class=\"node\">\n",
       "<title>23</title>\n",
       "</g>\n",
       "<!-- 22&#45;&gt;23 -->\n",
       "<g id=\"edge23\" class=\"edge\">\n",
       "<title>22&#45;&gt;23</title>\n",
       "<path fill=\"none\" stroke=\"#000000\" d=\"M415,-152.9748C415,-152.9194 415,-152.8637 415,-152.8078\"/>\n",
       "<polygon fill=\"#000000\" stroke=\"#000000\" points=\"418.5059,-162.6375 415,-152.6395 411.5059,-162.6416 418.5059,-162.6375\"/>\n",
       "</g>\n",
       "<!-- 25 -->\n",
       "<g id=\"node26\" class=\"node\">\n",
       "<title>25</title>\n",
       "<text text-anchor=\"middle\" x=\"488\" y=\"-207.8\" font-family=\"'Fira Mono', 'Source Code Pro', 'Courier', monospace\" font-size=\"14.00\" fill=\"#0060a0\">&lt;lt&gt;</text>\n",
       "</g>\n",
       "<!-- 24&#45;&gt;25 -->\n",
       "<g id=\"edge25\" class=\"edge\">\n",
       "<title>24&#45;&gt;25</title>\n",
       "<path fill=\"none\" stroke=\"#000000\" d=\"M522.0979,-254.9748C516.3668,-247.6677 507.4933,-236.354 500.2351,-227.0997\"/>\n",
       "<polygon fill=\"#000000\" stroke=\"#000000\" points=\"502.8518,-224.7647 493.9264,-219.0561 497.3438,-229.0847 502.8518,-224.7647\"/>\n",
       "</g>\n",
       "<!-- 27 -->\n",
       "<g id=\"node28\" class=\"node\">\n",
       "<title>27</title>\n",
       "<text text-anchor=\"middle\" x=\"528\" y=\"-207.8\" font-family=\"'Fira Mono', 'Source Code Pro', 'Courier', monospace\" font-size=\"14.00\" fill=\"#00a060\">/</text>\n",
       "</g>\n",
       "<!-- 24&#45;&gt;27 -->\n",
       "<g id=\"edge27\" class=\"edge\">\n",
       "<title>24&#45;&gt;27</title>\n",
       "<path fill=\"none\" stroke=\"#000000\" d=\"M528,-254.9748C528,-248.195 528,-237.966 528,-229.1331\"/>\n",
       "<polygon fill=\"#000000\" stroke=\"#000000\" points=\"531.5001,-229.0561 528,-219.0561 524.5001,-229.0561 531.5001,-229.0561\"/>\n",
       "</g>\n",
       "<!-- 28 -->\n",
       "<g id=\"node29\" class=\"node\">\n",
       "<title>28</title>\n",
       "<text text-anchor=\"middle\" x=\"568\" y=\"-207.8\" font-family=\"'Fira Mono', 'Source Code Pro', 'Courier', monospace\" font-size=\"14.00\" fill=\"#0060a0\">&lt;id&gt;</text>\n",
       "</g>\n",
       "<!-- 24&#45;&gt;28 -->\n",
       "<g id=\"edge28\" class=\"edge\">\n",
       "<title>24&#45;&gt;28</title>\n",
       "<path fill=\"none\" stroke=\"#000000\" d=\"M533.9021,-254.9748C539.6332,-247.6677 548.5067,-236.354 555.7649,-227.0997\"/>\n",
       "<polygon fill=\"#000000\" stroke=\"#000000\" points=\"558.6562,-229.0847 562.0736,-219.0561 553.1482,-224.7647 558.6562,-229.0847\"/>\n",
       "</g>\n",
       "<!-- 37 -->\n",
       "<g id=\"node38\" class=\"node\">\n",
       "<title>37</title>\n",
       "<text text-anchor=\"middle\" x=\"637\" y=\"-207.8\" font-family=\"'Fira Mono', 'Source Code Pro', 'Courier', monospace\" font-size=\"14.00\" fill=\"#0060a0\">&lt;gt&gt;</text>\n",
       "</g>\n",
       "<!-- 24&#45;&gt;37 -->\n",
       "<g id=\"edge37\" class=\"edge\">\n",
       "<title>24&#45;&gt;37</title>\n",
       "<path fill=\"none\" stroke=\"#000000\" d=\"M544.0833,-254.9748C561.874,-246.6507 590.7771,-233.1272 611.6268,-223.3719\"/>\n",
       "<polygon fill=\"#000000\" stroke=\"#000000\" points=\"613.2764,-226.4643 620.8507,-219.0561 610.3098,-220.124 613.2764,-226.4643\"/>\n",
       "</g>\n",
       "<!-- 26 -->\n",
       "<g id=\"node27\" class=\"node\">\n",
       "<title>26</title>\n",
       "<text text-anchor=\"middle\" x=\"488\" y=\"-156.8\" font-family=\"'Fira Mono', 'Source Code Pro', 'Courier', monospace\" font-size=\"14.00\" fill=\"#0060a0\">&lt;</text>\n",
       "</g>\n",
       "<!-- 25&#45;&gt;26 -->\n",
       "<g id=\"edge26\" class=\"edge\">\n",
       "<title>25&#45;&gt;26</title>\n",
       "<path fill=\"none\" stroke=\"#000000\" d=\"M488,-203.9748C488,-197.195 488,-186.966 488,-178.1331\"/>\n",
       "<polygon fill=\"#000000\" stroke=\"#000000\" points=\"491.5001,-178.0561 488,-168.0561 484.5001,-178.0561 491.5001,-178.0561\"/>\n",
       "</g>\n",
       "<!-- 29 -->\n",
       "<g id=\"node30\" class=\"node\">\n",
       "<title>29</title>\n",
       "<text text-anchor=\"middle\" x=\"528\" y=\"-156.8\" font-family=\"'Fira Mono', 'Source Code Pro', 'Courier', monospace\" font-size=\"14.00\" fill=\"#0060a0\">&lt;id&gt;</text>\n",
       "</g>\n",
       "<!-- 28&#45;&gt;29 -->\n",
       "<g id=\"edge29\" class=\"edge\">\n",
       "<title>28&#45;&gt;29</title>\n",
       "<path fill=\"none\" stroke=\"#000000\" d=\"M562.0979,-203.9748C556.3668,-196.6677 547.4933,-185.354 540.2351,-176.0997\"/>\n",
       "<polygon fill=\"#000000\" stroke=\"#000000\" points=\"542.8518,-173.7647 533.9264,-168.0561 537.3438,-178.0847 542.8518,-173.7647\"/>\n",
       "</g>\n",
       "<!-- 35 -->\n",
       "<g id=\"node36\" class=\"node\">\n",
       "<title>35</title>\n",
       "<text text-anchor=\"middle\" x=\"597\" y=\"-156.8\" font-family=\"'Fira Mono', 'Source Code Pro', 'Courier', monospace\" font-size=\"14.00\" fill=\"#0060a0\">&lt;letter&gt;</text>\n",
       "</g>\n",
       "<!-- 28&#45;&gt;35 -->\n",
       "<g id=\"edge35\" class=\"edge\">\n",
       "<title>28&#45;&gt;35</title>\n",
       "<path fill=\"none\" stroke=\"#000000\" d=\"M572.279,-203.9748C576.3056,-196.8936 582.4716,-186.05 587.6381,-176.9641\"/>\n",
       "<polygon fill=\"#000000\" stroke=\"#000000\" points=\"590.8028,-178.4791 592.7034,-168.0561 584.7178,-175.0189 590.8028,-178.4791\"/>\n",
       "</g>\n",
       "<!-- 30 -->\n",
       "<g id=\"node31\" class=\"node\">\n",
       "<title>30</title>\n",
       "<text text-anchor=\"middle\" x=\"465\" y=\"-105.8\" font-family=\"'Fira Mono', 'Source Code Pro', 'Courier', monospace\" font-size=\"14.00\" fill=\"#0060a0\">&lt;id&gt;</text>\n",
       "</g>\n",
       "<!-- 29&#45;&gt;30 -->\n",
       "<g id=\"edge30\" class=\"edge\">\n",
       "<title>29&#45;&gt;30</title>\n",
       "<path fill=\"none\" stroke=\"#000000\" d=\"M518.7041,-152.9748C509.1193,-145.2157 493.9541,-132.939 482.1799,-123.4075\"/>\n",
       "<polygon fill=\"#000000\" stroke=\"#000000\" points=\"484.3087,-120.6278 474.334,-117.0561 479.9043,-126.0685 484.3087,-120.6278\"/>\n",
       "</g>\n",
       "<!-- 33 -->\n",
       "<g id=\"node34\" class=\"node\">\n",
       "<title>33</title>\n",
       "<text text-anchor=\"middle\" x=\"534\" y=\"-105.8\" font-family=\"'Fira Mono', 'Source Code Pro', 'Courier', monospace\" font-size=\"14.00\" fill=\"#0060a0\">&lt;letter&gt;</text>\n",
       "</g>\n",
       "<!-- 29&#45;&gt;33 -->\n",
       "<g id=\"edge33\" class=\"edge\">\n",
       "<title>29&#45;&gt;33</title>\n",
       "<path fill=\"none\" stroke=\"#000000\" d=\"M528.8853,-152.9748C529.6829,-146.195 530.8864,-135.966 531.9255,-127.1331\"/>\n",
       "<polygon fill=\"#000000\" stroke=\"#000000\" points=\"535.4186,-127.3966 533.111,-117.0561 528.4665,-126.5786 535.4186,-127.3966\"/>\n",
       "</g>\n",
       "<!-- 31 -->\n",
       "<g id=\"node32\" class=\"node\">\n",
       "<title>31</title>\n",
       "<text text-anchor=\"middle\" x=\"465\" y=\"-54.8\" font-family=\"'Fira Mono', 'Source Code Pro', 'Courier', monospace\" font-size=\"14.00\" fill=\"#0060a0\">&lt;letter&gt;</text>\n",
       "</g>\n",
       "<!-- 30&#45;&gt;31 -->\n",
       "<g id=\"edge31\" class=\"edge\">\n",
       "<title>30&#45;&gt;31</title>\n",
       "<path fill=\"none\" stroke=\"#000000\" d=\"M465,-101.9748C465,-95.195 465,-84.966 465,-76.1331\"/>\n",
       "<polygon fill=\"#000000\" stroke=\"#000000\" points=\"468.5001,-76.0561 465,-66.0561 461.5001,-76.0561 468.5001,-76.0561\"/>\n",
       "</g>\n",
       "<!-- 32 -->\n",
       "<g id=\"node33\" class=\"node\">\n",
       "<title>32</title>\n",
       "<text text-anchor=\"middle\" x=\"465\" y=\"-3.8\" font-family=\"'Fira Mono', 'Source Code Pro', 'Courier', monospace\" font-size=\"14.00\" fill=\"#00a060\">f</text>\n",
       "</g>\n",
       "<!-- 31&#45;&gt;32 -->\n",
       "<g id=\"edge32\" class=\"edge\">\n",
       "<title>31&#45;&gt;32</title>\n",
       "<path fill=\"none\" stroke=\"#000000\" d=\"M465,-50.9748C465,-44.195 465,-33.966 465,-25.1331\"/>\n",
       "<polygon fill=\"#000000\" stroke=\"#000000\" points=\"468.5001,-25.0561 465,-15.0561 461.5001,-25.0561 468.5001,-25.0561\"/>\n",
       "</g>\n",
       "<!-- 34 -->\n",
       "<g id=\"node35\" class=\"node\">\n",
       "<title>34</title>\n",
       "<text text-anchor=\"middle\" x=\"534\" y=\"-54.8\" font-family=\"'Fira Mono', 'Source Code Pro', 'Courier', monospace\" font-size=\"14.00\" fill=\"#00a060\">o</text>\n",
       "</g>\n",
       "<!-- 33&#45;&gt;34 -->\n",
       "<g id=\"edge34\" class=\"edge\">\n",
       "<title>33&#45;&gt;34</title>\n",
       "<path fill=\"none\" stroke=\"#000000\" d=\"M534,-101.9748C534,-95.195 534,-84.966 534,-76.1331\"/>\n",
       "<polygon fill=\"#000000\" stroke=\"#000000\" points=\"537.5001,-76.0561 534,-66.0561 530.5001,-76.0561 537.5001,-76.0561\"/>\n",
       "</g>\n",
       "<!-- 36 -->\n",
       "<g id=\"node37\" class=\"node\">\n",
       "<title>36</title>\n",
       "<text text-anchor=\"middle\" x=\"597\" y=\"-105.8\" font-family=\"'Fira Mono', 'Source Code Pro', 'Courier', monospace\" font-size=\"14.00\" fill=\"#00a060\">o</text>\n",
       "</g>\n",
       "<!-- 35&#45;&gt;36 -->\n",
       "<g id=\"edge36\" class=\"edge\">\n",
       "<title>35&#45;&gt;36</title>\n",
       "<path fill=\"none\" stroke=\"#000000\" d=\"M597,-152.9748C597,-146.195 597,-135.966 597,-127.1331\"/>\n",
       "<polygon fill=\"#000000\" stroke=\"#000000\" points=\"600.5001,-127.0561 597,-117.0561 593.5001,-127.0561 600.5001,-127.0561\"/>\n",
       "</g>\n",
       "<!-- 38 -->\n",
       "<g id=\"node39\" class=\"node\">\n",
       "<title>38</title>\n",
       "<text text-anchor=\"middle\" x=\"654\" y=\"-156.8\" font-family=\"'Fira Mono', 'Source Code Pro', 'Courier', monospace\" font-size=\"14.00\" fill=\"#00a060\">&gt;</text>\n",
       "</g>\n",
       "<!-- 37&#45;&gt;38 -->\n",
       "<g id=\"edge38\" class=\"edge\">\n",
       "<title>37&#45;&gt;38</title>\n",
       "<path fill=\"none\" stroke=\"#000000\" d=\"M639.5084,-203.9748C641.8186,-197.0443 645.3301,-186.5097 648.3179,-177.5464\"/>\n",
       "<polygon fill=\"#000000\" stroke=\"#000000\" points=\"651.6393,-178.6498 651.4813,-168.0561 644.9986,-176.4361 651.6393,-178.6498\"/>\n",
       "</g>\n",
       "</g>\n",
       "</svg>\n"
      ],
      "text/plain": [
       "<graphviz.dot.Digraph at 0x7f7f5972edd8>"
      ]
     },
     "execution_count": 51,
     "metadata": {},
     "output_type": "execute_result"
    }
   ],
   "source": [
    "mutated_tree = bad_input_tree_mutator().mutate([0, 0, 1, 0])\n",
    "display_tree(mutated_tree)"
   ]
  },
  {
   "cell_type": "markdown",
   "metadata": {
    "slideshow": {
     "slide_type": "fragment"
    }
   },
   "source": [
    "We see that the `<plain-text>` subtree is now different, which also becomes evident in the string representation."
   ]
  },
  {
   "cell_type": "code",
   "execution_count": 52,
   "metadata": {
    "slideshow": {
     "slide_type": "fragment"
    }
   },
   "outputs": [
    {
     "data": {
      "text/plain": [
       "'<foo> </foo>'"
      ]
     },
     "execution_count": 52,
     "metadata": {},
     "output_type": "execute_result"
    }
   ],
   "source": [
    "tree_to_string(mutated_tree)"
   ]
  },
  {
   "cell_type": "markdown",
   "metadata": {
    "slideshow": {
     "slide_type": "slide"
    }
   },
   "source": [
    "## Generalizing Trees\n",
    "\n",
    "Now for the main part – finding out which parts of a tree can be generalized. Our idea is to _test_ a finite number of mutations to a subtree (say, 10). If all of these tests fail as well, then we assume we can generalize the subtree to a placeholder."
   ]
  },
  {
   "cell_type": "markdown",
   "metadata": {
    "slideshow": {
     "slide_type": "fragment"
    }
   },
   "source": [
    "We introduce a class `TreeGeneralizer` for this purpose. On top of `grammar` and `tree` already used for the `TreeMutator` constructor, the `TreeGeneralizer` also takes a `test` function."
   ]
  },
  {
   "cell_type": "code",
   "execution_count": 53,
   "metadata": {
    "slideshow": {
     "slide_type": "subslide"
    }
   },
   "outputs": [],
   "source": [
    "class TreeGeneralizer(TreeMutator):\n",
    "    \"\"\"Determine which parts of a derivation tree can be generalized.\"\"\"\n",
    "    \n",
    "    def __init__(self, grammar, tree, test,\n",
    "                 max_tries_for_generalization=10,\n",
    "                 **kwargs):\n",
    "        \"\"\"Constructor. `grammar` and `tree` are as in `TreeMutator`.\n",
    "        `test` is a function taking a string that either\n",
    "          * raises an exception, indicating test failure;\n",
    "          * or not, indicating test success.\n",
    "        `max_tries_for_generalization` is the number of times\n",
    "          an instantiation has to fail before it is generalized.\"\"\"\n",
    "        \n",
    "        super().__init__(grammar, tree, **kwargs)\n",
    "        self.test = test\n",
    "        self.max_tries_for_generalization = max_tries_for_generalization"
   ]
  },
  {
   "cell_type": "markdown",
   "metadata": {
    "slideshow": {
     "slide_type": "subslide"
    }
   },
   "source": [
    "The `test` function is used in `test_tree()`, returning `False` if the test fails (raising an exception), and `True` if the test passes (no exception)."
   ]
  },
  {
   "cell_type": "code",
   "execution_count": 54,
   "metadata": {
    "slideshow": {
     "slide_type": "subslide"
    }
   },
   "outputs": [],
   "source": [
    "class TreeGeneralizer(TreeGeneralizer):\n",
    "    def test_tree(self, tree):\n",
    "        \"\"\"Return True if testing `tree` passes, else False\"\"\"\n",
    "        s = tree_to_string(tree)\n",
    "        if self.log:\n",
    "            print(f\"Testing {repr(s)}...\", end=\"\")\n",
    "        try:\n",
    "            self.test(s)\n",
    "        except Exception as exc:\n",
    "            if self.log:\n",
    "                print(f\"FAIL ({type(exc).__name__})\")\n",
    "            ret = False\n",
    "        else:\n",
    "            if self.log:\n",
    "                print(f\"PASS\")\n",
    "            ret = True\n",
    "\n",
    "        return ret"
   ]
  },
  {
   "cell_type": "markdown",
   "metadata": {
    "slideshow": {
     "slide_type": "subslide"
    }
   },
   "source": [
    "### Testing for Generalization\n",
    "\n",
    "The `can_generalize()` method brings the above methods together. It creates a number of tree mutations at the given path, and returns True if all of them produce a failure. (Note that this is not as sophisticated as our [delta debugger](DeltaDebugger.ipynb) implementation, which also checks that the _same_ error occurs.)"
   ]
  },
  {
   "cell_type": "code",
   "execution_count": 55,
   "metadata": {
    "slideshow": {
     "slide_type": "subslide"
    }
   },
   "outputs": [],
   "source": [
    "class TreeGeneralizer(TreeGeneralizer):\n",
    "    def can_generalize(self, path, tree=None):\n",
    "        \"\"\"Return True if the subtree at `path` can be generalized.\"\"\"\n",
    "        for i in range(self.max_tries_for_generalization):\n",
    "            mutated_tree = self.mutate(path, tree)\n",
    "            if self.test_tree(mutated_tree):\n",
    "                # Failure no longer occurs; cannot abstract\n",
    "                return False\n",
    "            \n",
    "        return True"
   ]
  },
  {
   "cell_type": "markdown",
   "metadata": {
    "slideshow": {
     "slide_type": "fragment"
    }
   },
   "source": [
    "Let us put `TreeGeneralizer` into action. We can directly use `remove_html_markup()` as test function."
   ]
  },
  {
   "cell_type": "code",
   "execution_count": 56,
   "metadata": {
    "slideshow": {
     "slide_type": "fragment"
    }
   },
   "outputs": [],
   "source": [
    "def bad_input_tree_generalizer(**kwargs):\n",
    "    return TreeGeneralizer(SIMPLE_HTML_GRAMMAR, bad_input_tree,\n",
    "        remove_html_markup, **kwargs)    "
   ]
  },
  {
   "cell_type": "markdown",
   "metadata": {
    "slideshow": {
     "slide_type": "subslide"
    }
   },
   "source": [
    "On our `BAD_INPUT` (and its tree), can we generalize the root `<html>` node? In other words, does the failure occur for all possible `<html>` inputs?"
   ]
  },
  {
   "cell_type": "code",
   "execution_count": 57,
   "metadata": {
    "slideshow": {
     "slide_type": "fragment"
    }
   },
   "outputs": [
    {
     "name": "stdout",
     "output_type": "stream",
     "text": [
      "Testing ''...PASS\n"
     ]
    },
    {
     "data": {
      "text/plain": [
       "False"
      ]
     },
     "execution_count": 57,
     "metadata": {},
     "output_type": "execute_result"
    }
   ],
   "source": [
    "bad_input_tree_generalizer(log=True).can_generalize([0])"
   ]
  },
  {
   "cell_type": "markdown",
   "metadata": {
    "slideshow": {
     "slide_type": "fragment"
    }
   },
   "source": [
    "The answer is no. The first alternative passes the test; hence no generalization."
   ]
  },
  {
   "cell_type": "markdown",
   "metadata": {
    "slideshow": {
     "slide_type": "fragment"
    }
   },
   "source": [
    "How about the middle `<plain_text>` part? Can we generalize this?"
   ]
  },
  {
   "cell_type": "code",
   "execution_count": 58,
   "metadata": {
    "slideshow": {
     "slide_type": "fragment"
    }
   },
   "outputs": [
    {
     "name": "stdout",
     "output_type": "stream",
     "text": [
      "Testing '<foo>/Ie</foo>'...PASS\n"
     ]
    },
    {
     "data": {
      "text/plain": [
       "False"
      ]
     },
     "execution_count": 58,
     "metadata": {},
     "output_type": "execute_result"
    }
   ],
   "source": [
    "bad_input_tree_generalizer(log=True).can_generalize([0, 0, 1, 0])"
   ]
  },
  {
   "cell_type": "markdown",
   "metadata": {
    "slideshow": {
     "slide_type": "fragment"
    }
   },
   "source": [
    "The answer is no – just as above."
   ]
  },
  {
   "cell_type": "markdown",
   "metadata": {
    "slideshow": {
     "slide_type": "subslide"
    }
   },
   "source": [
    "How about the closing tag? Can we generalize this one?"
   ]
  },
  {
   "cell_type": "code",
   "execution_count": 59,
   "metadata": {
    "slideshow": {
     "slide_type": "fragment"
    }
   },
   "outputs": [
    {
     "name": "stdout",
     "output_type": "stream",
     "text": [
      "Testing '<foo>\"bar</kz35Z9>'...FAIL (AssertionError)\n",
      "Testing '<foo>\"bar</Q4>'...FAIL (AssertionError)\n",
      "Testing '<foo>\"bar</N68Px6>'...FAIL (AssertionError)\n",
      "Testing '<foo>\"bar</E>'...FAIL (AssertionError)\n",
      "Testing '<foo>\"bar</o>'...FAIL (AssertionError)\n",
      "Testing '<foo>\"bar</C>'...FAIL (AssertionError)\n",
      "Testing '<foo>\"bar</W>'...FAIL (AssertionError)\n",
      "Testing '<foo>\"bar</Y>'...FAIL (AssertionError)\n",
      "Testing '<foo>\"bar</l37>'...FAIL (AssertionError)\n",
      "Testing '<foo>\"bar</Hfi3>'...FAIL (AssertionError)\n"
     ]
    },
    {
     "data": {
      "text/plain": [
       "True"
      ]
     },
     "execution_count": 59,
     "metadata": {},
     "output_type": "execute_result"
    }
   ],
   "source": [
    "bad_input_tree_generalizer(log=True).can_generalize([0, 0, 2])"
   ]
  },
  {
   "cell_type": "markdown",
   "metadata": {
    "slideshow": {
     "slide_type": "subslide"
    }
   },
   "source": [
    "Yes, we can! All alternate instantiations of `<closing-tag>` result in a failure."
   ]
  },
  {
   "cell_type": "code",
   "execution_count": 60,
   "metadata": {
    "slideshow": {
     "slide_type": "fragment"
    }
   },
   "outputs": [
    {
     "data": {
      "text/html": [
       "\n",
       "    \n",
       "    <script>\n",
       "    var bad_answers = new Map();\n",
       "\n",
       "    function answer(quiz_id) {\n",
       "        ans = 0;\n",
       "        for (i = 1;; i++) {\n",
       "            checkbox = document.getElementById(quiz_id + \"-\" + i.toString());\n",
       "            if (!checkbox)\n",
       "                break;\n",
       "            if (checkbox.checked)\n",
       "                ans |= (1 << i);\n",
       "        }\n",
       "        return ans;\n",
       "    }\n",
       "    function check_selection(quiz_id, correct_answer, multiple_choice, hint) {\n",
       "        given_answer = answer(quiz_id);\n",
       "        if (given_answer == correct_answer)\n",
       "        {\n",
       "            document.getElementById(quiz_id + \"-submit\").value = \"Correct!\";\n",
       "            document.getElementById(quiz_id + \"-hint\").innerHTML = \"\";\n",
       "\n",
       "            for (i = 1;; i++) {\n",
       "                checkbox = document.getElementById(quiz_id + \"-\" + i.toString());\n",
       "                label = document.getElementById(quiz_id + \"-\" + i.toString() + \"-label\")\n",
       "                if (!checkbox)\n",
       "                    break;\n",
       "    \n",
       "                if (checkbox.checked) {\n",
       "                    label.style.fontWeight = \"bold\";\n",
       "                }\n",
       "                else {\n",
       "                    label.style.textDecoration = \"line-through\";\n",
       "                }\n",
       "            }\n",
       "        }\n",
       "        else \n",
       "        {\n",
       "            document.getElementById(quiz_id + \"-submit\").value = \"Try again\";\n",
       "            \n",
       "            if (!bad_answers.has(quiz_id)) {\n",
       "                bad_answers.set(quiz_id, 1);\n",
       "            }\n",
       "            else {\n",
       "                bad_answers.set(quiz_id, bad_answers.get(quiz_id) + 1);\n",
       "            }\n",
       "\n",
       "            if (bad_answers.get(quiz_id) >= 2 && hint.length > 0) {\n",
       "                document.getElementById(quiz_id + \"-hint\").innerHTML = \n",
       "                    \"&nbsp;&nbsp;(Hint: <code>\" + hint + \"</code>)\";\n",
       "            }\n",
       "\n",
       "            if (!multiple_choice) {\n",
       "                for (i = 1;; i++) {\n",
       "                    checkbox = document.getElementById(quiz_id + \"-\" + i.toString());\n",
       "                    label = document.getElementById(quiz_id + \"-\" + i.toString() + \"-label\")\n",
       "\n",
       "                    if (!checkbox)\n",
       "                        break;\n",
       "                    if (checkbox.checked) {\n",
       "                        label.style.textDecoration = \"line-through\";\n",
       "                    }\n",
       "                }\n",
       "            }\n",
       "        }\n",
       "    }\n",
       "    function clear_selection(quiz_id) {\n",
       "        document.getElementById(quiz_id + \"-submit\").value = \"Submit\";\n",
       "        document.getElementById(quiz_id + \"-hint\").innerHTML = \"\";\n",
       "    }\n",
       "    </script>\n",
       "    \n",
       "    <div class=\"quiz\">\n",
       "    <h3 class=\"quiz_title\">Quiz</h3>\n",
       "    <p>\n",
       "    <div class=\"quiz_question\">Is this also true for <code>&lt;opening-tag&gt;</code>?</div>\n",
       "    </p>\n",
       "    <p>\n",
       "    <div class=\"quiz_options\" title=\"Pick a choice.\">\n",
       "    \n",
       "        <input type=\"radio\" name=\"568f88d8-6473-11eb-9199-acde48001122\" id=\"568f88d8-6473-11eb-9199-acde48001122-1\" onclick=\"clear_selection('568f88d8-6473-11eb-9199-acde48001122')\">\n",
       "        <label id=\"568f88d8-6473-11eb-9199-acde48001122-1-label\" for=\"568f88d8-6473-11eb-9199-acde48001122-1\">Yes</label><br>\n",
       "    \n",
       "        <input type=\"radio\" name=\"568f88d8-6473-11eb-9199-acde48001122\" id=\"568f88d8-6473-11eb-9199-acde48001122-2\" onclick=\"clear_selection('568f88d8-6473-11eb-9199-acde48001122')\">\n",
       "        <label id=\"568f88d8-6473-11eb-9199-acde48001122-2-label\" for=\"568f88d8-6473-11eb-9199-acde48001122-2\">No</label><br>\n",
       "    \n",
       "    </div>\n",
       "    </p>\n",
       "    <input id=\"568f88d8-6473-11eb-9199-acde48001122-submit\" type=\"submit\" value=\"Submit\" onclick=\"check_selection('568f88d8-6473-11eb-9199-acde48001122', 4, 0, '(&quot;No&quot; == &quot;No&quot;) + (&quot;No&quot; is &quot;No&quot;)')\">\n",
       "    <span class=\"quiz_hint\" id=\"568f88d8-6473-11eb-9199-acde48001122-hint\"></span>\n",
       "    </div>\n",
       "    "
      ],
      "text/plain": [
       "<IPython.core.display.HTML object>"
      ]
     },
     "execution_count": 60,
     "metadata": {},
     "output_type": "execute_result"
    }
   ],
   "source": [
    "quiz(\"Is this also true for `<opening-tag>`?\",\n",
    "     [\n",
    "         \"Yes\",\n",
    "         \"No\"\n",
    "     ], '(\"No\" == \"No\") + (\"No\" is \"No\")')"
   ]
  },
  {
   "cell_type": "markdown",
   "metadata": {
    "slideshow": {
     "slide_type": "fragment"
    }
   },
   "source": [
    "Note that the above does not hold for `<opening-tag>`. If the attribute value contains a quote character, it may extend to the end of the input. "
   ]
  },
  {
   "cell_type": "code",
   "execution_count": 61,
   "metadata": {
    "slideshow": {
     "slide_type": "fragment"
    }
   },
   "outputs": [
    {
     "data": {
      "text/plain": [
       "True"
      ]
     },
     "execution_count": 61,
     "metadata": {},
     "output_type": "execute_result"
    }
   ],
   "source": [
    "bad_input_tree_generalizer().can_generalize([0, 0, 0])"
   ]
  },
  {
   "cell_type": "markdown",
   "metadata": {
    "slideshow": {
     "slide_type": "fragment"
    }
   },
   "source": [
    "This, however, becomes apparent only after a larger number of tests."
   ]
  },
  {
   "cell_type": "code",
   "execution_count": 62,
   "metadata": {
    "slideshow": {
     "slide_type": "subslide"
    }
   },
   "outputs": [
    {
     "data": {
      "text/plain": [
       "False"
      ]
     },
     "execution_count": 62,
     "metadata": {},
     "output_type": "execute_result"
    }
   ],
   "source": [
    "bad_input_tree_generalizer(max_tries_for_generalization=100).can_generalize([0, 0, 0])"
   ]
  },
  {
   "cell_type": "markdown",
   "metadata": {
    "slideshow": {
     "slide_type": "fragment"
    }
   },
   "source": [
    "We see that our approach may _overgeneralize_ – producing a generalization that may be too lenient. In practice, this is not too much of a problem, as we would be interested in characterizing cases that trigger the failure, rather than characterizing a small subset that does not trigger the failure."
   ]
  },
  {
   "cell_type": "markdown",
   "metadata": {
    "slideshow": {
     "slide_type": "subslide"
    }
   },
   "source": [
    "### Generalizable Paths\n",
    "\n",
    "Using `can_generalize()`, we can devise a method `generalizable_paths()` that returns all paths in the tree that can be generalized."
   ]
  },
  {
   "cell_type": "code",
   "execution_count": 63,
   "metadata": {
    "slideshow": {
     "slide_type": "subslide"
    }
   },
   "outputs": [],
   "source": [
    "class TreeGeneralizer(TreeGeneralizer):\n",
    "    def find_paths(self, predicate, path=None, tree=None):\n",
    "        \"\"\"Return a list of all paths for which `predicate` holds.\n",
    "        `predicate` is a function `predicate`(`path`, `tree`), where\n",
    "         `path` denotes a subtree in `tree`. If `predicate()` returns\n",
    "         True, `path` is included in the returned list.\"\"\"\n",
    "\n",
    "        if path is None:\n",
    "            path = []\n",
    "        if tree is None:\n",
    "            tree = self.tree\n",
    "            \n",
    "        node, children = self.get_subtree(path)\n",
    "\n",
    "        if predicate(path, tree):\n",
    "            if self.log:\n",
    "                node, children = self.get_subtree(path)\n",
    "            return [path]\n",
    "\n",
    "        paths = []\n",
    "        for i, child in enumerate(children):\n",
    "            child_node, _ = child\n",
    "            if child_node in self.grammar:\n",
    "                paths += self.find_paths(predicate, path + [i])\n",
    "\n",
    "        return paths        \n",
    "    \n",
    "    def generalizable_paths(self):\n",
    "        \"\"\"Return a list of all paths whose subtrees can be generalized.\"\"\"\n",
    "        return self.find_paths(self.can_generalize)"
   ]
  },
  {
   "cell_type": "markdown",
   "metadata": {
    "slideshow": {
     "slide_type": "subslide"
    }
   },
   "source": [
    "Here is `generalizable_paths()` in action. We obtain all (paths to) subtrees that can be generalized:"
   ]
  },
  {
   "cell_type": "code",
   "execution_count": 64,
   "metadata": {
    "slideshow": {
     "slide_type": "fragment"
    }
   },
   "outputs": [
    {
     "data": {
      "text/plain": [
       "[[0, 0, 0], [0, 0, 1, 0, 1, 0], [0, 0, 1, 0, 1, 1], [0, 0, 2]]"
      ]
     },
     "execution_count": 64,
     "metadata": {},
     "output_type": "execute_result"
    }
   ],
   "source": [
    "bad_input_generalizable_paths = \\\n",
    "    bad_input_tree_generalizer().generalizable_paths()\n",
    "bad_input_generalizable_paths"
   ]
  },
  {
   "cell_type": "markdown",
   "metadata": {
    "slideshow": {
     "slide_type": "fragment"
    }
   },
   "source": [
    "To convert these subtrees into abstract failure-inducing patterns, the method `generalize_path()` returns a copy of the tree with the subtree replaced by a nonterminal without children:"
   ]
  },
  {
   "cell_type": "code",
   "execution_count": 65,
   "metadata": {
    "slideshow": {
     "slide_type": "subslide"
    }
   },
   "outputs": [],
   "source": [
    "class TreeGeneralizer(TreeGeneralizer):\n",
    "    def generalize_path(self, path, tree=None):\n",
    "        \"\"\"Return a copy of the tree in which the subtree at `path`\n",
    "        is generalized (= replaced by a nonterminal without children)\"\"\"\n",
    "        if tree is None:\n",
    "            tree = self.tree\n",
    "\n",
    "        symbol, children = tree\n",
    "\n",
    "        if not path:\n",
    "            return symbol, None  # Nonterminal without children\n",
    "\n",
    "        head = path[0]\n",
    "        new_children = (children[:head] +\n",
    "                        [self.generalize_path(path[1:], children[head])] +\n",
    "                        children[head + 1:])\n",
    "        return symbol, new_children"
   ]
  },
  {
   "cell_type": "markdown",
   "metadata": {
    "slideshow": {
     "slide_type": "subslide"
    }
   },
   "source": [
    "The function `all_terminals()` expands these placeholders:"
   ]
  },
  {
   "cell_type": "code",
   "execution_count": 66,
   "metadata": {
    "slideshow": {
     "slide_type": "fragment"
    }
   },
   "outputs": [
    {
     "data": {
      "text/plain": [
       "'<opening-tag>\"bar<plain-text></foo>'"
      ]
     },
     "execution_count": 66,
     "metadata": {},
     "output_type": "execute_result"
    }
   ],
   "source": [
    "all_terminals(bad_input_tree_generalizer().generalize_path([0, 0, 0]))"
   ]
  },
  {
   "cell_type": "markdown",
   "metadata": {
    "slideshow": {
     "slide_type": "fragment"
    }
   },
   "source": [
    "Finally, the method `generalize()` obtains a tree in which all generalizable paths actually are generalized:"
   ]
  },
  {
   "cell_type": "code",
   "execution_count": 67,
   "metadata": {
    "slideshow": {
     "slide_type": "fragment"
    }
   },
   "outputs": [],
   "source": [
    "class TreeGeneralizer(TreeGeneralizer):\n",
    "    def generalize(self):\n",
    "        \"\"\"Returns a copy of the tree in which all generalizable subtrees\n",
    "        are generalized (= replaced by nonterminals without children)\"\"\"\n",
    "        tree = self.tree\n",
    "        for path in self.generalizable_paths():\n",
    "            tree = self.generalize_path(path, tree)\n",
    "            \n",
    "        return tree"
   ]
  },
  {
   "cell_type": "code",
   "execution_count": 68,
   "metadata": {
    "slideshow": {
     "slide_type": "fragment"
    }
   },
   "outputs": [],
   "source": [
    "abstract_failure_inducing_input = bad_input_tree_generalizer().generalize()"
   ]
  },
  {
   "cell_type": "markdown",
   "metadata": {
    "slideshow": {
     "slide_type": "subslide"
    }
   },
   "source": [
    "This gives us the final generalization of `BAD_INPUT`. In the abstract failure-inducing input, all generalizable elements are generalized."
   ]
  },
  {
   "cell_type": "code",
   "execution_count": 69,
   "metadata": {
    "slideshow": {
     "slide_type": "fragment"
    }
   },
   "outputs": [
    {
     "data": {
      "text/plain": [
       "'<opening-tag>\"<plain-text><closing-tag>'"
      ]
     },
     "execution_count": 69,
     "metadata": {},
     "output_type": "execute_result"
    }
   ],
   "source": [
    "all_terminals(abstract_failure_inducing_input)"
   ]
  },
  {
   "cell_type": "markdown",
   "metadata": {
    "slideshow": {
     "slide_type": "fragment"
    }
   },
   "source": [
    "We see that to obtain the failure, it suffices to have an `<opening-tag>`, followed by a quote and (any) `<plain-text>` and (any) `<closing-tag>`. Clearly, all that it takes to produce the failure is to have a double quote in the plain text."
   ]
  },
  {
   "cell_type": "markdown",
   "metadata": {
    "slideshow": {
     "slide_type": "fragment"
    }
   },
   "source": [
    "Also note how this diagnosis was reached through _experiments_ only – just as with [delta debugging](DeltaDebugger.ipynb), we could treat the program under test as a black box. In contrast to delta debugging, however, we obtain an _abstraction_ that generalizes the circumstances under which a given failure occurs."
   ]
  },
  {
   "cell_type": "markdown",
   "metadata": {
    "slideshow": {
     "slide_type": "slide"
    }
   },
   "source": [
    "## Fuzzing with Patterns\n",
    "\n",
    "One neat side effect of abstract failure-inducing patterns is that they can be easily instantiated into further test cases, all set to reproduce the failure in question. This gives us a test suite we can later test our fix against."
   ]
  },
  {
   "cell_type": "markdown",
   "metadata": {
    "slideshow": {
     "slide_type": "fragment"
    }
   },
   "source": [
    "The method `fuzz_tree()` takes a tree representing an abstract failure-inducing input and instantiates all missing subtrees."
   ]
  },
  {
   "cell_type": "code",
   "execution_count": 70,
   "metadata": {
    "slideshow": {
     "slide_type": "skip"
    }
   },
   "outputs": [],
   "source": [
    "import copy"
   ]
  },
  {
   "cell_type": "code",
   "execution_count": 71,
   "metadata": {
    "slideshow": {
     "slide_type": "fragment"
    }
   },
   "outputs": [],
   "source": [
    "class TreeGeneralizer(TreeGeneralizer):\n",
    "    def fuzz_tree(self, tree):\n",
    "        \"\"\"Return an instantiated copy of `tree`.\"\"\"\n",
    "        tree = copy.deepcopy(tree)\n",
    "        return self.fuzzer.expand_tree(tree)"
   ]
  },
  {
   "cell_type": "code",
   "execution_count": 72,
   "metadata": {
    "slideshow": {
     "slide_type": "subslide"
    }
   },
   "outputs": [
    {
     "name": "stdout",
     "output_type": "stream",
     "text": [
      "<UzL3Ct6>\"</p>\n",
      "<nw10E6>\"</W>\n",
      "<h lV=\"'\">\"</x8>\n",
      "<k>\"</u>\n",
      "<a0 l0820650g='3'>\"</v5t>\n",
      "<zTg>\"</o1Z>\n",
      "<yMgT02p s=\"\" g94e='R'>\"</P2>\n",
      "<Y>\"</S9b>\n",
      "<X2566xS8v2>\"</r13>\n",
      "<D48>\"\t</R>\n"
     ]
    }
   ],
   "source": [
    "bitg = bad_input_tree_generalizer()\n",
    "for i in range(10):\n",
    "    print(all_terminals(bitg.fuzz_tree(abstract_failure_inducing_input)))"
   ]
  },
  {
   "cell_type": "markdown",
   "metadata": {
    "slideshow": {
     "slide_type": "subslide"
    }
   },
   "source": [
    "We can take these inputs and see whether they reproduce the failure in question:"
   ]
  },
  {
   "cell_type": "code",
   "execution_count": 73,
   "metadata": {
    "slideshow": {
     "slide_type": "fragment"
    }
   },
   "outputs": [],
   "source": [
    "successes = 0\n",
    "failures = 0\n",
    "trials = 1000\n",
    "\n",
    "for i in range(trials):\n",
    "    test_input = all_terminals(\n",
    "        bitg.fuzz_tree(abstract_failure_inducing_input))\n",
    "    try:\n",
    "        remove_html_markup(test_input)\n",
    "    except AssertionError:\n",
    "        successes += 1\n",
    "    else:\n",
    "        failures += 1"
   ]
  },
  {
   "cell_type": "code",
   "execution_count": 74,
   "metadata": {
    "slideshow": {
     "slide_type": "subslide"
    }
   },
   "outputs": [
    {
     "data": {
      "text/plain": [
       "(982, 18)"
      ]
     },
     "execution_count": 74,
     "metadata": {},
     "output_type": "execute_result"
    }
   ],
   "source": [
    "successes, failures"
   ]
  },
  {
   "cell_type": "markdown",
   "metadata": {
    "slideshow": {
     "slide_type": "fragment"
    }
   },
   "source": [
    "We get an overall failure rate of ~99%, which is not bad at all."
   ]
  },
  {
   "cell_type": "code",
   "execution_count": 75,
   "metadata": {
    "slideshow": {
     "slide_type": "fragment"
    }
   },
   "outputs": [
    {
     "data": {
      "text/plain": [
       "0.018"
      ]
     },
     "execution_count": 75,
     "metadata": {},
     "output_type": "execute_result"
    }
   ],
   "source": [
    "failures / 1000"
   ]
  },
  {
   "cell_type": "markdown",
   "metadata": {
    "slideshow": {
     "slide_type": "fragment"
    }
   },
   "source": [
    "In our case, it is _overgeneralization_ (as discussed above) that is responsible for not reaching a 100% rate. (In all generality, we're trying to approximate the behavior of a Turing machine with a context free grammar, which is, well, always an approximation.) However, even a lower rate would still be useful, as any additional test case that reproduces a failure helps in ensuring the final fix is complete."
   ]
  },
  {
   "cell_type": "markdown",
   "metadata": {
    "slideshow": {
     "slide_type": "slide"
    }
   },
   "source": [
    "## Putting it all Together\n",
    "\n",
    "Let us now put together all this in a more convenient package that does not require the user to parse and unparse derivation trees."
   ]
  },
  {
   "cell_type": "markdown",
   "metadata": {
    "slideshow": {
     "slide_type": "subslide"
    }
   },
   "source": [
    "Our `DDSetDebugger` is modeled after the `DeltaDebugger` from [the chapter on delta debugging](DeltaDebugger.ipynb). It is to be used as\n",
    "\n",
    "```python\n",
    "with DDSetDebugger(grammar) as dd:\n",
    "    some_failing_function(...)\n",
    "```\n",
    "\n",
    "After that, evaluating `dd` yields a generalized abstract failure-inducing input as a string."
   ]
  },
  {
   "cell_type": "markdown",
   "metadata": {
    "slideshow": {
     "slide_type": "fragment"
    }
   },
   "source": [
    "Since `DDSetDebugger` accepts only one grammar, the function to be debugged should have exactly one string argument (besides other arguments); this string must fit the grammar."
   ]
  },
  {
   "cell_type": "markdown",
   "metadata": {
    "slideshow": {
     "slide_type": "subslide"
    }
   },
   "source": [
    "### Constructor"
   ]
  },
  {
   "cell_type": "markdown",
   "metadata": {
    "slideshow": {
     "slide_type": "fragment"
    }
   },
   "source": [
    "The constructor puts together the various components. It allows for customization by subclassing."
   ]
  },
  {
   "cell_type": "code",
   "execution_count": 76,
   "metadata": {
    "slideshow": {
     "slide_type": "skip"
    }
   },
   "outputs": [],
   "source": [
    "from DeltaDebugger import CallCollector, is_reducible"
   ]
  },
  {
   "cell_type": "code",
   "execution_count": 77,
   "metadata": {
    "slideshow": {
     "slide_type": "skip"
    }
   },
   "outputs": [],
   "source": [
    "import copy"
   ]
  },
  {
   "cell_type": "code",
   "execution_count": 78,
   "metadata": {
    "slideshow": {
     "slide_type": "subslide"
    }
   },
   "outputs": [],
   "source": [
    "class DDSetDebugger(CallCollector):\n",
    "    \"\"\"Debugger implementing the DDSET algorithm\n",
    "    for abstracting failure-inducing inputs\"\"\"\n",
    "    \n",
    "    def __init__(self, grammar, \n",
    "                 generalizer_class=TreeGeneralizer,\n",
    "                 parser=None,\n",
    "                 **kwargs):\n",
    "        \"\"\"Constructor.\n",
    "        `grammar` is an input grammar in fuzzingbook format.\n",
    "        `generalizer_class` is the tree generalizer class to use\n",
    "          (default: TreeGeneralizer)\n",
    "        `parser` is the parser to use (default: `EarleyParser(grammar)`).\n",
    "\n",
    "        All other args are passed to the tree generalizer, notably\n",
    "        `fuzzer` is the fuzzer to use (default: `GrammarFuzzer`)\n",
    "        `log` enables debugging output if set to True.\n",
    "        \"\"\"\n",
    "        super().__init__()\n",
    "        self.grammar = grammar\n",
    "        assert is_valid_grammar(grammar)\n",
    "\n",
    "        self.generalizer_class = generalizer_class\n",
    "\n",
    "        if parser is None:\n",
    "            parser = EarleyParser(grammar)\n",
    "        self.parser = parser\n",
    "        self.kwargs = kwargs\n",
    "        \n",
    "        # These save state for further fuzz() calls\n",
    "        self.generalized_trees = None\n",
    "        self.generalized_args = None\n",
    "        self.generalizers = None"
   ]
  },
  {
   "cell_type": "markdown",
   "metadata": {
    "slideshow": {
     "slide_type": "subslide"
    }
   },
   "source": [
    "### Generalizing Arguments"
   ]
  },
  {
   "cell_type": "markdown",
   "metadata": {
    "slideshow": {
     "slide_type": "fragment"
    }
   },
   "source": [
    "The method `generalize()` is the many entry point. For all string arguments collected in the first function call, it generalizes the arguments and returns an abstract failure-inducing string."
   ]
  },
  {
   "cell_type": "code",
   "execution_count": 79,
   "metadata": {
    "slideshow": {
     "slide_type": "subslide"
    }
   },
   "outputs": [],
   "source": [
    "class DDSetDebugger(DDSetDebugger):\n",
    "    def generalize(self):\n",
    "        \"\"\"Generalize arguments seen. For each function argument,\n",
    "        produce an abstract failure-inducing input that characterizes\n",
    "        the set of inputs for which the function fails.\"\"\"\n",
    "        if self.generalized_args is not None:\n",
    "            return self.generalized_args\n",
    "\n",
    "        self.generalized_args = copy.deepcopy(self.args())\n",
    "        self.generalized_trees = {}\n",
    "        self.generalizers = {}\n",
    "\n",
    "        for arg in self.args():\n",
    "            def test(value):\n",
    "                return self.call({arg: value})\n",
    "\n",
    "            value = self.args()[arg]\n",
    "            if isinstance(value, str):\n",
    "                tree = list(self.parser.parse(value))[0]\n",
    "                gen = self.generalizer_class(self.grammar, tree, test, \n",
    "                                             **self.kwargs)\n",
    "                generalized_tree = gen.generalize()\n",
    "                \n",
    "                self.generalizers[arg] = gen\n",
    "                self.generalized_trees[arg] = generalized_tree\n",
    "                self.generalized_args[arg] = all_terminals(generalized_tree)\n",
    "\n",
    "        return self.generalized_args"
   ]
  },
  {
   "cell_type": "code",
   "execution_count": 80,
   "metadata": {
    "slideshow": {
     "slide_type": "subslide"
    }
   },
   "outputs": [],
   "source": [
    "class DDSetDebugger(DDSetDebugger):\n",
    "    def __repr__(self):\n",
    "        \"\"\"Return a string representation of the generalized call.\"\"\"\n",
    "        return self.format_call(self.generalize())"
   ]
  },
  {
   "cell_type": "markdown",
   "metadata": {
    "slideshow": {
     "slide_type": "fragment"
    }
   },
   "source": [
    "Here is an example of how `DDSetDebugger` would be used on our `BAD_INPUT` example. Simply evaluating the debugger yields a call with a generalized input."
   ]
  },
  {
   "cell_type": "code",
   "execution_count": 81,
   "metadata": {
    "slideshow": {
     "slide_type": "fragment"
    }
   },
   "outputs": [
    {
     "data": {
      "text/plain": [
       "remove_html_markup(s='<opening-tag>\"<plain-text><closing-tag>')"
      ]
     },
     "execution_count": 81,
     "metadata": {},
     "output_type": "execute_result"
    }
   ],
   "source": [
    "with DDSetDebugger(SIMPLE_HTML_GRAMMAR) as dd:\n",
    "    remove_html_markup(BAD_INPUT)\n",
    "dd"
   ]
  },
  {
   "cell_type": "markdown",
   "metadata": {
    "slideshow": {
     "slide_type": "subslide"
    }
   },
   "source": [
    "### Fuzzing\n",
    "\n",
    "The `fuzz()` method produces instantiations of the abstract failure-inducing pattern."
   ]
  },
  {
   "cell_type": "code",
   "execution_count": 82,
   "metadata": {
    "slideshow": {
     "slide_type": "subslide"
    }
   },
   "outputs": [],
   "source": [
    "class DDSetDebugger(DDSetDebugger):\n",
    "    def fuzz_args(self):\n",
    "        \"\"\"Return arguments randomly instantiated\n",
    "        from the abstract failure-inducing pattern.\"\"\"\n",
    "        if self.generalized_trees is None:\n",
    "            self.generalize()\n",
    "            \n",
    "        args = copy.deepcopy(self.generalized_args)\n",
    "        for arg in args:\n",
    "            def test(value):\n",
    "                return self.call({arg: value})\n",
    "\n",
    "            if arg not in self.generalized_trees:\n",
    "                continue\n",
    "\n",
    "            tree = self.generalized_trees[arg]\n",
    "            gen = self.generalizers[arg]\n",
    "            instantiated_tree = gen.fuzz_tree(tree)\n",
    "            args[arg] = all_terminals(instantiated_tree)\n",
    "            \n",
    "        return args\n",
    "    \n",
    "    def fuzz(self):\n",
    "        \"\"\"Return a call with arguments randomly instantiated\n",
    "        from the abstract failure-inducing pattern.\"\"\"\n",
    "        return self.format_call(self.fuzz_args())"
   ]
  },
  {
   "cell_type": "markdown",
   "metadata": {
    "slideshow": {
     "slide_type": "subslide"
    }
   },
   "source": [
    "Here are some axamples of `fuzz()` in action:"
   ]
  },
  {
   "cell_type": "code",
   "execution_count": 83,
   "metadata": {
    "slideshow": {
     "slide_type": "fragment"
    }
   },
   "outputs": [],
   "source": [
    "with DDSetDebugger(SIMPLE_HTML_GRAMMAR) as dd:\n",
    "    remove_html_markup(BAD_INPUT)"
   ]
  },
  {
   "cell_type": "code",
   "execution_count": 84,
   "metadata": {
    "slideshow": {
     "slide_type": "fragment"
    }
   },
   "outputs": [
    {
     "data": {
      "text/plain": [
       "'remove_html_markup(s=\\'<Xq>\"</j>\\')'"
      ]
     },
     "execution_count": 84,
     "metadata": {},
     "output_type": "execute_result"
    }
   ],
   "source": [
    "dd.fuzz()"
   ]
  },
  {
   "cell_type": "code",
   "execution_count": 85,
   "metadata": {
    "slideshow": {
     "slide_type": "fragment"
    }
   },
   "outputs": [
    {
     "data": {
      "text/plain": [
       "'remove_html_markup(s=\\'<L89B6b9vz>\"\\\\t</a3>\\')'"
      ]
     },
     "execution_count": 85,
     "metadata": {},
     "output_type": "execute_result"
    }
   ],
   "source": [
    "dd.fuzz()"
   ]
  },
  {
   "cell_type": "code",
   "execution_count": 86,
   "metadata": {
    "slideshow": {
     "slide_type": "fragment"
    }
   },
   "outputs": [
    {
     "data": {
      "text/plain": [
       "'remove_html_markup(s=\\'<Z VF=\\\\\\'\\\\\\' l=\"_-(\">\")</Y>\\')'"
      ]
     },
     "execution_count": 86,
     "metadata": {},
     "output_type": "execute_result"
    }
   ],
   "source": [
    "dd.fuzz()"
   ]
  },
  {
   "cell_type": "markdown",
   "metadata": {
    "slideshow": {
     "slide_type": "fragment"
    }
   },
   "source": [
    " These can be fed into `eval()`, set to produce more failing calls."
   ]
  },
  {
   "cell_type": "code",
   "execution_count": 87,
   "metadata": {
    "slideshow": {
     "slide_type": "subslide"
    }
   },
   "outputs": [
    {
     "name": "stderr",
     "output_type": "stream",
     "text": [
      "Traceback (most recent call last):\n",
      "  File \"<ipython-input-87-3087e00969df>\", line 2, in <module>\n",
      "    eval(dd.fuzz())\n",
      "  File \"<string>\", line 1, in <module>\n",
      "  File \"<ipython-input-4-4cc94c1ede06>\", line 17, in remove_html_markup\n",
      "    assert '<' not in out and '>' not in out\n",
      "AssertionError (expected)\n"
     ]
    }
   ],
   "source": [
    "with ExpectError(AssertionError):\n",
    "    eval(dd.fuzz())"
   ]
  },
  {
   "cell_type": "markdown",
   "metadata": {
    "slideshow": {
     "slide_type": "slide"
    }
   },
   "source": [
    "## More Examples\n",
    "\n",
    "Let us apply `DDSetDebugger` on more examples."
   ]
  },
  {
   "cell_type": "markdown",
   "metadata": {
    "slideshow": {
     "slide_type": "subslide"
    }
   },
   "source": [
    "### Square Root\n",
    "\n",
    "Our first example is the `square_root()` function from [the chapter on assertions](Assertions.ipynb)."
   ]
  },
  {
   "cell_type": "code",
   "execution_count": 88,
   "metadata": {
    "slideshow": {
     "slide_type": "skip"
    }
   },
   "outputs": [],
   "source": [
    "from Assertions import square_root  # minor dependency"
   ]
  },
  {
   "cell_type": "markdown",
   "metadata": {
    "slideshow": {
     "slide_type": "fragment"
    }
   },
   "source": [
    "The `square_root()` function fails on a value of `-1`:"
   ]
  },
  {
   "cell_type": "code",
   "execution_count": 89,
   "metadata": {
    "slideshow": {
     "slide_type": "fragment"
    }
   },
   "outputs": [
    {
     "name": "stderr",
     "output_type": "stream",
     "text": [
      "Traceback (most recent call last):\n",
      "  File \"<ipython-input-89-d80ffca057e6>\", line 2, in <module>\n",
      "    square_root(-1)\n",
      "  File \"Assertions.ipynb\", line 55, in square_root\n",
      "    assert x >= 0  # precondition\n",
      "AssertionError (expected)\n"
     ]
    }
   ],
   "source": [
    "with ExpectError(AssertionError):\n",
    "    square_root(-1)"
   ]
  },
  {
   "cell_type": "markdown",
   "metadata": {
    "slideshow": {
     "slide_type": "fragment"
    }
   },
   "source": [
    "We define a grammar for its arguments:"
   ]
  },
  {
   "cell_type": "code",
   "execution_count": 90,
   "metadata": {
    "button": false,
    "new_sheet": false,
    "run_control": {
     "read_only": false
    },
    "slideshow": {
     "slide_type": "subslide"
    }
   },
   "outputs": [],
   "source": [
    "INT_GRAMMAR = {\n",
    "    \"<start>\":\n",
    "        [\"<int>\"],\n",
    "\n",
    "    \"<int>\":\n",
    "        [\"<positive-int>\", \"-<positive-int>\"],\n",
    "\n",
    "    \"<positive-int>\":\n",
    "        [\"<digit>\", \"<nonzero-digit><positive-int>\"],\n",
    "\n",
    "    \"<nonzero-digit>\": list(\"123456789\"),\n",
    "    \n",
    "    \"<digit>\": list(string.digits),\n",
    "}"
   ]
  },
  {
   "cell_type": "markdown",
   "metadata": {
    "slideshow": {
     "slide_type": "fragment"
    }
   },
   "source": [
    "The test function takes a string and converts it into an integer:"
   ]
  },
  {
   "cell_type": "code",
   "execution_count": 91,
   "metadata": {
    "slideshow": {
     "slide_type": "subslide"
    }
   },
   "outputs": [],
   "source": [
    "def square_root_test(s):\n",
    "    return square_root(int(s))"
   ]
  },
  {
   "cell_type": "markdown",
   "metadata": {
    "slideshow": {
     "slide_type": "fragment"
    }
   },
   "source": [
    "With this, we can go and see whether we can generalize a failing input:"
   ]
  },
  {
   "cell_type": "code",
   "execution_count": 92,
   "metadata": {
    "slideshow": {
     "slide_type": "fragment"
    }
   },
   "outputs": [],
   "source": [
    "with DDSetDebugger(INT_GRAMMAR, log=True) as dd_square_root:\n",
    "    square_root_test(\"-1\")"
   ]
  },
  {
   "cell_type": "code",
   "execution_count": 93,
   "metadata": {
    "slideshow": {
     "slide_type": "subslide"
    }
   },
   "outputs": [
    {
     "name": "stdout",
     "output_type": "stream",
     "text": [
      "Testing '-8'...FAIL (AssertionError)\n",
      "Testing '-316'...FAIL (AssertionError)\n",
      "Testing '8'...PASS\n",
      "Testing '684'...PASS\n",
      "Testing '-3'...FAIL (AssertionError)\n",
      "Testing '-870'...FAIL (AssertionError)\n",
      "Testing '-3'...FAIL (AssertionError)\n",
      "Testing '-3451'...FAIL (AssertionError)\n",
      "Testing '-8'...FAIL (AssertionError)\n",
      "Testing '-63213'...FAIL (AssertionError)\n",
      "Testing '-26'...FAIL (AssertionError)\n",
      "Testing '-4'...FAIL (AssertionError)\n",
      "Testing '-6'...FAIL (AssertionError)\n",
      "Testing '-8'...FAIL (AssertionError)\n"
     ]
    },
    {
     "data": {
      "text/plain": [
       "square_root_test(s='-<positive-int>')"
      ]
     },
     "execution_count": 93,
     "metadata": {},
     "output_type": "execute_result"
    }
   ],
   "source": [
    "dd_square_root"
   ]
  },
  {
   "cell_type": "markdown",
   "metadata": {
    "slideshow": {
     "slide_type": "subslide"
    }
   },
   "source": [
    "Success! We see that have nicely generalized the failure-inducing input to a pattern that translates into \"any negative number\"."
   ]
  },
  {
   "cell_type": "markdown",
   "metadata": {
    "slideshow": {
     "slide_type": "subslide"
    }
   },
   "source": [
    "### Middle\n",
    "\n",
    "The `middle()` function from [the chapter on statistical debugging](StatisticalDebugger.ipynb) returns the middle of three numerical values `x`, `y`, and `z`."
   ]
  },
  {
   "cell_type": "code",
   "execution_count": 94,
   "metadata": {
    "slideshow": {
     "slide_type": "skip"
    }
   },
   "outputs": [],
   "source": [
    "from StatisticalDebugger import middle  # minor dependency"
   ]
  },
  {
   "cell_type": "markdown",
   "metadata": {
    "slideshow": {
     "slide_type": "fragment"
    }
   },
   "source": [
    "We set up a test function that evaluates a string – a tuple of three arguments – and then tests `middle()`:"
   ]
  },
  {
   "cell_type": "code",
   "execution_count": 95,
   "metadata": {
    "slideshow": {
     "slide_type": "fragment"
    }
   },
   "outputs": [],
   "source": [
    "def middle_test(s):\n",
    "    x, y, z = eval(s)\n",
    "    assert middle(x, y, z) == sorted([x, y, z])[1]"
   ]
  },
  {
   "cell_type": "markdown",
   "metadata": {
    "slideshow": {
     "slide_type": "fragment"
    }
   },
   "source": [
    "The grammar for the three numbers simply puts three integers together:"
   ]
  },
  {
   "cell_type": "code",
   "execution_count": 96,
   "metadata": {
    "button": false,
    "new_sheet": false,
    "run_control": {
     "read_only": false
    },
    "slideshow": {
     "slide_type": "subslide"
    }
   },
   "outputs": [],
   "source": [
    "XYZ_GRAMMAR = {\n",
    "    \"<start>\":\n",
    "        [\"<int>, <int>, <int>\"],\n",
    "\n",
    "    \"<int>\":\n",
    "        [\"<positive-int>\", \"-<positive-int>\"],\n",
    "\n",
    "    \"<positive-int>\":\n",
    "        [\"<digit>\", \"<nonzero-digit><positive-int>\"],\n",
    "\n",
    "    \"<nonzero-digit>\": list(\"123456789\"),\n",
    "    \n",
    "    \"<digit>\": list(string.digits),\n",
    "}"
   ]
  },
  {
   "cell_type": "markdown",
   "metadata": {
    "slideshow": {
     "slide_type": "fragment"
    }
   },
   "source": [
    "Here is an example of `middle()` failing:"
   ]
  },
  {
   "cell_type": "code",
   "execution_count": 97,
   "metadata": {
    "slideshow": {
     "slide_type": "subslide"
    }
   },
   "outputs": [
    {
     "name": "stderr",
     "output_type": "stream",
     "text": [
      "Traceback (most recent call last):\n",
      "  File \"<ipython-input-97-66d8f3f75b66>\", line 2, in <module>\n",
      "    middle_test(\"2, 1, 3\")\n",
      "  File \"<ipython-input-95-f901d04f7750>\", line 3, in middle_test\n",
      "    assert middle(x, y, z) == sorted([x, y, z])[1]\n",
      "AssertionError (expected)\n"
     ]
    }
   ],
   "source": [
    "with ExpectError(AssertionError):\n",
    "    middle_test(\"2, 1, 3\")"
   ]
  },
  {
   "cell_type": "markdown",
   "metadata": {
    "slideshow": {
     "slide_type": "fragment"
    }
   },
   "source": [
    "What happens if we debug this with `DDSetDebugger`? We see that there is no abstraction at the syntax level that could characterize this failure:"
   ]
  },
  {
   "cell_type": "code",
   "execution_count": 98,
   "metadata": {
    "slideshow": {
     "slide_type": "fragment"
    }
   },
   "outputs": [],
   "source": [
    "with DDSetDebugger(XYZ_GRAMMAR, log=True) as dd_middle:\n",
    "    middle_test(\"2, 1, 3\")"
   ]
  },
  {
   "cell_type": "code",
   "execution_count": 99,
   "metadata": {
    "slideshow": {
     "slide_type": "subslide"
    }
   },
   "outputs": [
    {
     "name": "stdout",
     "output_type": "stream",
     "text": [
      "Testing '-1, 1, 48'...PASS\n",
      "Testing '-49, 1, 3'...PASS\n",
      "Testing '266, 1, 3'...PASS\n",
      "Testing '9, 1, 3'...PASS\n",
      "Testing '2, 11, 3'...PASS\n",
      "Testing '2, 61, 3'...PASS\n",
      "Testing '2, 7, 3'...PASS\n",
      "Testing '2, 1, -58'...PASS\n",
      "Testing '2, 1, 5'...FAIL (AssertionError)\n",
      "Testing '2, 1, 88'...FAIL (AssertionError)\n",
      "Testing '2, 1, 2'...PASS\n",
      "Testing '2, 1, 9'...FAIL (AssertionError)\n",
      "Testing '2, 1, 9'...FAIL (AssertionError)\n",
      "Testing '2, 1, 8'...FAIL (AssertionError)\n",
      "Testing '2, 1, 9'...FAIL (AssertionError)\n",
      "Testing '2, 1, 9'...FAIL (AssertionError)\n",
      "Testing '2, 1, 8'...FAIL (AssertionError)\n",
      "Testing '2, 1, 8'...FAIL (AssertionError)\n",
      "Testing '2, 1, 4'...FAIL (AssertionError)\n",
      "Testing '2, 1, 0'...PASS\n"
     ]
    },
    {
     "data": {
      "text/plain": [
       "middle_test(s='2, 1, 3')"
      ]
     },
     "execution_count": 99,
     "metadata": {},
     "output_type": "execute_result"
    }
   ],
   "source": [
    "dd_middle"
   ]
  },
  {
   "cell_type": "markdown",
   "metadata": {
    "slideshow": {
     "slide_type": "subslide"
    }
   },
   "source": [
    "So, while there are failures that can be nicely characterized using abstractions of input elements, `middle()` is not one of them. Which is good, because this means that all our other techniques such as [statistical debugging](StatisticalDebugger.ipynb) and [dynamic invariants](DynamicInvariants.ipynb) still have a use case :-)"
   ]
  },
  {
   "cell_type": "markdown",
   "metadata": {
    "slideshow": {
     "slide_type": "slide"
    }
   },
   "source": [
    "## Synopsis"
   ]
  },
  {
   "cell_type": "markdown",
   "metadata": {
    "slideshow": {
     "slide_type": "subslide"
    }
   },
   "source": [
    "This chapter provides a class `DDSetDebugger`, implementing the DDSET algorithm for generalizing failure-inducing inputs. The `DDSetDebugger` is used as follows:\n",
    "\n",
    "```python\n",
    "with DDSetDebugger(grammar) as dd:\n",
    "    function(args...)\n",
    "dd\n",
    "```\n",
    "\n",
    "Here, `function(args...)` is a failing function call (= raises an execption) that takes at least one string argument; `grammar` is an [input grammar in fuzzingbook format](https://www.fuzzingbook.org/html/Grammars.html) that matches the format of this argument.\n",
    "\n",
    "The result is a call of `function()` with an _abstract failure-inducing input_ – a variant of the conrete input in which parts are replaced by placeholders in the form `<name>`, where `<name>` is a nonterminal in the grammar. The failure has been verified to occur for a number of instantiations of `<name>`."
   ]
  },
  {
   "cell_type": "markdown",
   "metadata": {
    "slideshow": {
     "slide_type": "subslide"
    }
   },
   "source": [
    "Here is an example of how `DDSetDebugger` works. The concrete failing input `<foo>\"bar</foo>` is generalized to an _abstract failure-inducing input_:"
   ]
  },
  {
   "cell_type": "code",
   "execution_count": 100,
   "metadata": {
    "slideshow": {
     "slide_type": "fragment"
    }
   },
   "outputs": [
    {
     "data": {
      "text/plain": [
       "remove_html_markup(s='<opening-tag>\"<plain-text><closing-tag>')"
      ]
     },
     "execution_count": 100,
     "metadata": {},
     "output_type": "execute_result"
    }
   ],
   "source": [
    "with DDSetDebugger(SIMPLE_HTML_GRAMMAR) as dd:\n",
    "    remove_html_markup('<foo>\"bar</foo>')\n",
    "dd"
   ]
  },
  {
   "cell_type": "markdown",
   "metadata": {
    "slideshow": {
     "slide_type": "fragment"
    }
   },
   "source": [
    "The abstract input tells us that the failure occurs for whatever opening and closing HTML tags as long as there is a double quote between them."
   ]
  },
  {
   "cell_type": "markdown",
   "metadata": {
    "slideshow": {
     "slide_type": "fragment"
    }
   },
   "source": [
    "A programmatic interface is available as well. `generalize()` returns a mapping of argument names to (generalized) values:"
   ]
  },
  {
   "cell_type": "code",
   "execution_count": 101,
   "metadata": {
    "slideshow": {
     "slide_type": "fragment"
    }
   },
   "outputs": [
    {
     "data": {
      "text/plain": [
       "{'s': '<opening-tag>\"<plain-text><closing-tag>'}"
      ]
     },
     "execution_count": 101,
     "metadata": {},
     "output_type": "execute_result"
    }
   ],
   "source": [
    "dd.generalize()"
   ]
  },
  {
   "cell_type": "markdown",
   "metadata": {
    "slideshow": {
     "slide_type": "subslide"
    }
   },
   "source": [
    "Using `fuzz()`, the abstract input can be instantiated to further concrete inputs, all set to produce the failure again:"
   ]
  },
  {
   "cell_type": "code",
   "execution_count": 102,
   "metadata": {
    "slideshow": {
     "slide_type": "fragment"
    }
   },
   "outputs": [
    {
     "name": "stdout",
     "output_type": "stream",
     "text": [
      "remove_html_markup(s='<R W5128555F35xrs=\\'\\'>\"</hmarQ9>')\n",
      "remove_html_markup(s='<K18 s=\"\" g=\\'\\'>\"Y</V0>')\n",
      "remove_html_markup(s='<M0D74 m=\\'\\' R=\\'\\'>\"</xXD01>')\n",
      "remove_html_markup(s='<do>\"</Z>')\n",
      "remove_html_markup(s='<I j=\\'\\'>\"X</r9>')\n",
      "remove_html_markup(s='<I7>\"l </e>')\n",
      "remove_html_markup(s='<o3 B2l4v=\"Z\" P=\"\\t\">\"</X7P>')\n",
      "remove_html_markup(s='<i9 J=\"\" B=\\'\\'>\"</m>')\n",
      "remove_html_markup(s='<V>\"</lM2>')\n",
      "remove_html_markup(s='<P4n>\"</uj1>')\n"
     ]
    }
   ],
   "source": [
    "for i in range(10):\n",
    "    print(dd.fuzz())"
   ]
  },
  {
   "cell_type": "markdown",
   "metadata": {
    "slideshow": {
     "slide_type": "subslide"
    }
   },
   "source": [
    "`DDSetDebugger` can be customized by passing a subclass of `TreeGeneralizer`, which does the gist of the work; for details, see its constructor.\n",
    "The full class hierarchy is shown below."
   ]
  },
  {
   "cell_type": "code",
   "execution_count": 103,
   "metadata": {
    "slideshow": {
     "slide_type": "fragment"
    }
   },
   "outputs": [],
   "source": [
    "# ignore\n",
    "from ClassDiagram import display_class_hierarchy"
   ]
  },
  {
   "cell_type": "code",
   "execution_count": 104,
   "metadata": {
    "slideshow": {
     "slide_type": "subslide"
    }
   },
   "outputs": [
    {
     "data": {
      "image/svg+xml": [
       "<?xml version=\"1.0\" encoding=\"UTF-8\" standalone=\"no\"?>\n",
       "<!DOCTYPE svg PUBLIC \"-//W3C//DTD SVG 1.1//EN\"\n",
       " \"http://www.w3.org/Graphics/SVG/1.1/DTD/svg11.dtd\">\n",
       "<!-- Generated by graphviz version 2.40.1 (20161225.0304)\n",
       " -->\n",
       "<!-- Title: %3 Pages: 1 -->\n",
       "<svg width=\"432pt\" height=\"350pt\"\n",
       " viewBox=\"0.00 0.00 432.00 350.00\" xmlns=\"http://www.w3.org/2000/svg\" xmlns:xlink=\"http://www.w3.org/1999/xlink\">\n",
       "<g id=\"graph0\" class=\"graph\" transform=\"scale(1 1) rotate(0) translate(4 346)\">\n",
       "<title>%3</title>\n",
       "<g id=\"a_graph0\"><a xlink:title=\"DDSetDebugger class hierarchy\">\n",
       "<polygon fill=\"#ffffff\" stroke=\"transparent\" points=\"-4,4 -4,-346 428,-346 428,4 -4,4\"/>\n",
       "</a>\n",
       "</g>\n",
       "<!-- DDSetDebugger -->\n",
       "<g id=\"node1\" class=\"node\">\n",
       "<title>DDSetDebugger</title>\n",
       "<g id=\"a_node1\"><a xlink:href=\"#\" xlink:title=\"class DDSetDebugger:&#10;Debugger implementing the DDSET algorithm&#10;for abstracting failure&#45;inducing inputs\">\n",
       "<polygon fill=\"none\" stroke=\"#000000\" points=\"0,-17 0,-103 126,-103 126,-17 0,-17\"/>\n",
       "<text text-anchor=\"start\" x=\"8\" y=\"-88.8\" font-family=\"Raleway, Helvetica, Arial, sans-serif\" font-weight=\"bold\" font-size=\"14.00\" fill=\"#6a0dad\">DDSetDebugger</text>\n",
       "<polyline fill=\"none\" stroke=\"#000000\" points=\"0,-80 126,-80 \"/>\n",
       "<g id=\"a_node1_0\"><a xlink:href=\"#\" xlink:title=\"DDSetDebugger\">\n",
       "<g id=\"a_node1_1\"><a xlink:href=\"#\" xlink:title=\"__init__(self, grammar, generalizer_class=&lt;class &#39;__main__.TreeGeneralizer&#39;&gt;, parser=None, **kwargs):&#10;Constructor.&#10;`grammar` is an input grammar in fuzzingbook format.&#10;`generalizer_class` is the tree generalizer class to use&#10;(default: TreeGeneralizer)&#10;`parser` is the parser to use (default: `EarleyParser(grammar)`).&#10;&#10;All other args are passed to the tree generalizer, notably&#10;`fuzzer` is the fuzzer to use (default: `GrammarFuzzer`)&#10;`log` enables debugging output if set to True.\">\n",
       "<text text-anchor=\"start\" x=\"27\" y=\"-68.5\" font-family=\"'Fira Mono', 'Source Code Pro', 'Courier', monospace\" font-weight=\"bold\" font-style=\"italic\" font-size=\"10.00\" fill=\"#000000\">__init__()</text>\n",
       "</a>\n",
       "</g>\n",
       "<g id=\"a_node1_2\"><a xlink:href=\"#\" xlink:title=\"__repr__(self):&#10;Return a string representation of the generalized call.\">\n",
       "<text text-anchor=\"start\" x=\"27\" y=\"-57.5\" font-family=\"'Fira Mono', 'Source Code Pro', 'Courier', monospace\" font-weight=\"bold\" font-size=\"10.00\" fill=\"#000000\">__repr__()</text>\n",
       "</a>\n",
       "</g>\n",
       "<g id=\"a_node1_3\"><a xlink:href=\"#\" xlink:title=\"fuzz(self):&#10;Return a call with arguments randomly instantiated&#10;from the abstract failure&#45;inducing pattern.\">\n",
       "<text text-anchor=\"start\" x=\"27\" y=\"-46.5\" font-family=\"'Fira Mono', 'Source Code Pro', 'Courier', monospace\" font-weight=\"bold\" font-size=\"10.00\" fill=\"#000000\">fuzz()</text>\n",
       "</a>\n",
       "</g>\n",
       "<g id=\"a_node1_4\"><a xlink:href=\"#\" xlink:title=\"fuzz_args(self):&#10;Return arguments randomly instantiated&#10;from the abstract failure&#45;inducing pattern.\">\n",
       "<text text-anchor=\"start\" x=\"27\" y=\"-35.5\" font-family=\"'Fira Mono', 'Source Code Pro', 'Courier', monospace\" font-weight=\"bold\" font-size=\"10.00\" fill=\"#000000\">fuzz_args()</text>\n",
       "</a>\n",
       "</g>\n",
       "<g id=\"a_node1_5\"><a xlink:href=\"#\" xlink:title=\"generalize(self):&#10;Generalize arguments seen. For each function argument,&#10;produce an abstract failure&#45;inducing input that characterizes&#10;the set of inputs for which the function fails.\">\n",
       "<text text-anchor=\"start\" x=\"27\" y=\"-24.5\" font-family=\"'Fira Mono', 'Source Code Pro', 'Courier', monospace\" font-weight=\"bold\" font-size=\"10.00\" fill=\"#000000\">generalize()</text>\n",
       "</a>\n",
       "</g>\n",
       "</a>\n",
       "</g>\n",
       "</a>\n",
       "</g>\n",
       "</g>\n",
       "<!-- CallCollector -->\n",
       "<g id=\"node2\" class=\"node\">\n",
       "<title>CallCollector</title>\n",
       "<g id=\"a_node2\"><a xlink:href=\"DeltaDebugger.ipynb\" xlink:title=\"class CallCollector:&#10;Collect an exception&#45;raising function call f().&#10;Use as `with CallCollector(): f()`\">\n",
       "<polygon fill=\"none\" stroke=\"#000000\" points=\".5,-156.5 .5,-341.5 125.5,-341.5 125.5,-156.5 .5,-156.5\"/>\n",
       "<text text-anchor=\"start\" x=\"18\" y=\"-327.3\" font-family=\"Raleway, Helvetica, Arial, sans-serif\" font-weight=\"bold\" font-size=\"14.00\" fill=\"#6a0dad\">CallCollector</text>\n",
       "<polyline fill=\"none\" stroke=\"#000000\" points=\".5,-318.5 125.5,-318.5 \"/>\n",
       "<g id=\"a_node2_6\"><a xlink:href=\"#\" xlink:title=\"CallCollector\">\n",
       "<g id=\"a_node2_7\"><a xlink:href=\"DeltaDebugger.ipynb\" xlink:title=\"__enter__(self):&#10;Called at begin of `with` block. Turn tracing on.\">\n",
       "<text text-anchor=\"start\" x=\"9\" y=\"-307.5\" font-family=\"'Fira Mono', 'Source Code Pro', 'Courier', monospace\" font-weight=\"bold\" font-size=\"10.00\" fill=\"#000000\">__enter__()</text>\n",
       "</a>\n",
       "</g>\n",
       "<g id=\"a_node2_8\"><a xlink:href=\"DeltaDebugger.ipynb\" xlink:title=\"__exit__(self, exc_type, exc_value, traceback):&#10;Called at end of `with` block. Turn tracing off.\">\n",
       "<text text-anchor=\"start\" x=\"9\" y=\"-296.5\" font-family=\"'Fira Mono', 'Source Code Pro', 'Courier', monospace\" font-weight=\"bold\" font-size=\"10.00\" fill=\"#000000\">__exit__()</text>\n",
       "</a>\n",
       "</g>\n",
       "<g id=\"a_node2_9\"><a xlink:href=\"DeltaDebugger.ipynb\" xlink:title=\"__init__(self):&#10;Initialize collector\">\n",
       "<text text-anchor=\"start\" x=\"9\" y=\"-285.5\" font-family=\"'Fira Mono', 'Source Code Pro', 'Courier', monospace\" font-weight=\"bold\" font-style=\"italic\" font-size=\"10.00\" fill=\"#000000\">__init__()</text>\n",
       "</a>\n",
       "</g>\n",
       "<g id=\"a_node2_10\"><a xlink:href=\"DeltaDebugger.ipynb\" xlink:title=\"args(self):&#10;Return the dictionary of collected arguments.\">\n",
       "<text text-anchor=\"start\" x=\"9\" y=\"-274.5\" font-family=\"'Fira Mono', 'Source Code Pro', 'Courier', monospace\" font-weight=\"bold\" font-size=\"10.00\" fill=\"#000000\">args()</text>\n",
       "</a>\n",
       "</g>\n",
       "<g id=\"a_node2_11\"><a xlink:href=\"DeltaDebugger.ipynb\" xlink:title=\"call(self, new_args=None):&#10;Call collected function. If new_args is given,&#10;override arguments from its {var: value} entries.\">\n",
       "<text text-anchor=\"start\" x=\"9\" y=\"-263.5\" font-family=\"'Fira Mono', 'Source Code Pro', 'Courier', monospace\" font-weight=\"bold\" font-size=\"10.00\" fill=\"#000000\">call()</text>\n",
       "</a>\n",
       "</g>\n",
       "<g id=\"a_node2_12\"><a xlink:href=\"DeltaDebugger.ipynb\" xlink:title=\"exception(self):&#10;Return the exception produced.\">\n",
       "<text text-anchor=\"start\" x=\"9\" y=\"-252.5\" font-family=\"'Fira Mono', 'Source Code Pro', 'Courier', monospace\" font-weight=\"bold\" font-size=\"10.00\" fill=\"#000000\">exception()</text>\n",
       "</a>\n",
       "</g>\n",
       "<g id=\"a_node2_13\"><a xlink:href=\"DeltaDebugger.ipynb\" xlink:title=\"function(self):&#10;Return the function called.\">\n",
       "<text text-anchor=\"start\" x=\"9\" y=\"-241.5\" font-family=\"'Fira Mono', 'Source Code Pro', 'Courier', monospace\" font-weight=\"bold\" font-size=\"10.00\" fill=\"#000000\">function()</text>\n",
       "</a>\n",
       "</g>\n",
       "<g id=\"a_node2_14\"><a xlink:href=\"DeltaDebugger.ipynb\" xlink:title=\"after_collection(self):&#10;Called after collection. To be defined in subclasses.\">\n",
       "<text text-anchor=\"start\" x=\"9\" y=\"-230.5\" font-family=\"'Fira Mono', 'Source Code Pro', 'Courier', monospace\" font-style=\"italic\" font-size=\"10.00\" fill=\"#000000\">after_collection()</text>\n",
       "</a>\n",
       "</g>\n",
       "<g id=\"a_node2_15\"><a xlink:href=\"DeltaDebugger.ipynb\" xlink:title=\"format_call(self, args=None):&#10;Return a string representing a call of the function with given args.\">\n",
       "<text text-anchor=\"start\" x=\"9\" y=\"-218.5\" font-family=\"'Fira Mono', 'Source Code Pro', 'Courier', monospace\" font-size=\"10.00\" fill=\"#000000\">format_call()</text>\n",
       "</a>\n",
       "</g>\n",
       "<g id=\"a_node2_16\"><a xlink:href=\"DeltaDebugger.ipynb\" xlink:title=\"format_exception(self, exc=None):&#10;Return a string representing the given exception.\">\n",
       "<text text-anchor=\"start\" x=\"9\" y=\"-207.5\" font-family=\"'Fira Mono', 'Source Code Pro', 'Courier', monospace\" font-size=\"10.00\" fill=\"#000000\">format_exception()</text>\n",
       "</a>\n",
       "</g>\n",
       "<g id=\"a_node2_17\"><a xlink:href=\"DeltaDebugger.ipynb\" xlink:title=\"init(self):&#10;Reset for new collection.\">\n",
       "<text text-anchor=\"start\" x=\"9\" y=\"-196.5\" font-family=\"'Fira Mono', 'Source Code Pro', 'Courier', monospace\" font-size=\"10.00\" fill=\"#000000\">init()</text>\n",
       "</a>\n",
       "</g>\n",
       "<g id=\"a_node2_18\"><a xlink:href=\"DeltaDebugger.ipynb\" xlink:title=\"search_frame(self, name, frame):&#10;Return a pair (`frame`, `item`)&#10;in which the function `name` is defined as `item`.\">\n",
       "<text text-anchor=\"start\" x=\"9\" y=\"-185.5\" font-family=\"'Fira Mono', 'Source Code Pro', 'Courier', monospace\" font-size=\"10.00\" fill=\"#000000\">search_frame()</text>\n",
       "</a>\n",
       "</g>\n",
       "<g id=\"a_node2_19\"><a xlink:href=\"DeltaDebugger.ipynb\" xlink:title=\"search_func(self, name, frame):&#10;Search in callers for a definition of the function `name`\">\n",
       "<text text-anchor=\"start\" x=\"9\" y=\"-174.5\" font-family=\"'Fira Mono', 'Source Code Pro', 'Courier', monospace\" font-size=\"10.00\" fill=\"#000000\">search_func()</text>\n",
       "</a>\n",
       "</g>\n",
       "<g id=\"a_node2_20\"><a xlink:href=\"DeltaDebugger.ipynb\" xlink:title=\"traceit(self, frame, event, arg):&#10;Tracing function. Collect first call, then turn tracing off.\">\n",
       "<text text-anchor=\"start\" x=\"9\" y=\"-163.5\" font-family=\"'Fira Mono', 'Source Code Pro', 'Courier', monospace\" font-size=\"10.00\" fill=\"#000000\">traceit()</text>\n",
       "</a>\n",
       "</g>\n",
       "</a>\n",
       "</g>\n",
       "</a>\n",
       "</g>\n",
       "</g>\n",
       "<!-- DDSetDebugger&#45;&gt;CallCollector -->\n",
       "<g id=\"edge1\" class=\"edge\">\n",
       "<title>DDSetDebugger&#45;&gt;CallCollector</title>\n",
       "<path fill=\"none\" stroke=\"#000000\" d=\"M63,-103.3604C63,-116.2 63,-130.8419 63,-145.7769\"/>\n",
       "<polygon fill=\"none\" stroke=\"#000000\" points=\"59.5001,-146.1448 63,-156.1448 66.5001,-146.1449 59.5001,-146.1448\"/>\n",
       "</g>\n",
       "<!-- TreeGeneralizer -->\n",
       "<g id=\"node3\" class=\"node\">\n",
       "<title>TreeGeneralizer</title>\n",
       "<g id=\"a_node3\"><a xlink:href=\"#\" xlink:title=\"class TreeGeneralizer:&#10;Determine which parts of a derivation tree can be generalized.\">\n",
       "<polygon fill=\"none\" stroke=\"#000000\" points=\"144.5,-.5 144.5,-119.5 287.5,-119.5 287.5,-.5 144.5,-.5\"/>\n",
       "<text text-anchor=\"start\" x=\"161.5\" y=\"-105.3\" font-family=\"Raleway, Helvetica, Arial, sans-serif\" font-weight=\"bold\" font-size=\"14.00\" fill=\"#6a0dad\">TreeGeneralizer</text>\n",
       "<polyline fill=\"none\" stroke=\"#000000\" points=\"144.5,-96.5 287.5,-96.5 \"/>\n",
       "<g id=\"a_node3_21\"><a xlink:href=\"#\" xlink:title=\"TreeGeneralizer\">\n",
       "<g id=\"a_node3_22\"><a xlink:href=\"#\" xlink:title=\"__init__(self, grammar, tree, test, max_tries_for_generalization=10, **kwargs):&#10;Constructor. `grammar` and `tree` are as in `TreeMutator`.&#10;`test` is a function taking a string that either&#10;* raises an exception, indicating test failure;&#10;* or not, indicating test success.&#10;`max_tries_for_generalization` is the number of times&#10;an instantiation has to fail before it is generalized.\">\n",
       "<text text-anchor=\"start\" x=\"153\" y=\"-85.5\" font-family=\"'Fira Mono', 'Source Code Pro', 'Courier', monospace\" font-style=\"italic\" font-size=\"10.00\" fill=\"#000000\">__init__()</text>\n",
       "</a>\n",
       "</g>\n",
       "<g id=\"a_node3_23\"><a xlink:href=\"#\" xlink:title=\"can_generalize(self, path, tree=None):&#10;Return True if the subtree at `path` can be generalized.\">\n",
       "<text text-anchor=\"start\" x=\"153\" y=\"-73.5\" font-family=\"'Fira Mono', 'Source Code Pro', 'Courier', monospace\" font-size=\"10.00\" fill=\"#000000\">can_generalize()</text>\n",
       "</a>\n",
       "</g>\n",
       "<g id=\"a_node3_24\"><a xlink:href=\"#\" xlink:title=\"find_paths(self, predicate, path=None, tree=None):&#10;Return a list of all paths for which `predicate` holds.&#10;`predicate` is a function `predicate`(`path`, `tree`), where&#10;`path` denotes a subtree in `tree`. If `predicate()` returns&#10;True, `path` is included in the returned list.\">\n",
       "<text text-anchor=\"start\" x=\"153\" y=\"-62.5\" font-family=\"'Fira Mono', 'Source Code Pro', 'Courier', monospace\" font-size=\"10.00\" fill=\"#000000\">find_paths()</text>\n",
       "</a>\n",
       "</g>\n",
       "<g id=\"a_node3_25\"><a xlink:href=\"#\" xlink:title=\"fuzz_tree(self, tree):&#10;Return an instantiated copy of `tree`.\">\n",
       "<text text-anchor=\"start\" x=\"153\" y=\"-51.5\" font-family=\"'Fira Mono', 'Source Code Pro', 'Courier', monospace\" font-size=\"10.00\" fill=\"#000000\">fuzz_tree()</text>\n",
       "</a>\n",
       "</g>\n",
       "<g id=\"a_node3_26\"><a xlink:href=\"#\" xlink:title=\"generalizable_paths(self):&#10;Return a list of all paths whose subtrees can be generalized.\">\n",
       "<text text-anchor=\"start\" x=\"153\" y=\"-40.5\" font-family=\"'Fira Mono', 'Source Code Pro', 'Courier', monospace\" font-size=\"10.00\" fill=\"#000000\">generalizable_paths()</text>\n",
       "</a>\n",
       "</g>\n",
       "<g id=\"a_node3_27\"><a xlink:href=\"#\" xlink:title=\"generalize(self):&#10;Returns a copy of the tree in which all generalizable subtrees&#10;are generalized (= replaced by nonterminals without children)\">\n",
       "<text text-anchor=\"start\" x=\"153\" y=\"-29.5\" font-family=\"'Fira Mono', 'Source Code Pro', 'Courier', monospace\" font-size=\"10.00\" fill=\"#000000\">generalize()</text>\n",
       "</a>\n",
       "</g>\n",
       "<g id=\"a_node3_28\"><a xlink:href=\"#\" xlink:title=\"generalize_path(self, path, tree=None):&#10;Return a copy of the tree in which the subtree at `path`&#10;is generalized (= replaced by a nonterminal without children)\">\n",
       "<text text-anchor=\"start\" x=\"153\" y=\"-18.5\" font-family=\"'Fira Mono', 'Source Code Pro', 'Courier', monospace\" font-size=\"10.00\" fill=\"#000000\">generalize_path()</text>\n",
       "</a>\n",
       "</g>\n",
       "<g id=\"a_node3_29\"><a xlink:href=\"#\" xlink:title=\"test_tree(self, tree):&#10;Return True if testing `tree` passes, else False\">\n",
       "<text text-anchor=\"start\" x=\"153\" y=\"-7.5\" font-family=\"'Fira Mono', 'Source Code Pro', 'Courier', monospace\" font-size=\"10.00\" fill=\"#000000\">test_tree()</text>\n",
       "</a>\n",
       "</g>\n",
       "</a>\n",
       "</g>\n",
       "</a>\n",
       "</g>\n",
       "</g>\n",
       "<!-- TreeMutator -->\n",
       "<g id=\"node4\" class=\"node\">\n",
       "<title>TreeMutator</title>\n",
       "<g id=\"a_node4\"><a xlink:href=\"#\" xlink:title=\"class TreeMutator:&#10;Grammar&#45;based mutations of derivation trees.\">\n",
       "<polygon fill=\"none\" stroke=\"#000000\" points=\"165.5,-211.5 165.5,-286.5 266.5,-286.5 266.5,-211.5 165.5,-211.5\"/>\n",
       "<text text-anchor=\"start\" x=\"173.5\" y=\"-272.3\" font-family=\"Raleway, Helvetica, Arial, sans-serif\" font-weight=\"bold\" font-size=\"14.00\" fill=\"#6a0dad\">TreeMutator</text>\n",
       "<polyline fill=\"none\" stroke=\"#000000\" points=\"165.5,-263.5 266.5,-263.5 \"/>\n",
       "<g id=\"a_node4_30\"><a xlink:href=\"#\" xlink:title=\"TreeMutator\">\n",
       "<g id=\"a_node4_31\"><a xlink:href=\"#\" xlink:title=\"__init__(self, grammar, tree, fuzzer=None, log=False):&#10;Constructor.&#10;`grammar` is the underlying grammar;&#10;`tree` is the tree to work on.&#10;`fuzzer` is the grammar fuzzer to use (default: `GrammarFuzzer`)\">\n",
       "<text text-anchor=\"start\" x=\"177\" y=\"-252.5\" font-family=\"'Fira Mono', 'Source Code Pro', 'Courier', monospace\" font-style=\"italic\" font-size=\"10.00\" fill=\"#000000\">__init__()</text>\n",
       "</a>\n",
       "</g>\n",
       "<g id=\"a_node4_32\"><a xlink:href=\"#\" xlink:title=\"get_subtree(self, path, tree=None):&#10;Access a subtree based on `path` (a list of children numbers)\">\n",
       "<text text-anchor=\"start\" x=\"177\" y=\"-240.5\" font-family=\"'Fira Mono', 'Source Code Pro', 'Courier', monospace\" font-size=\"10.00\" fill=\"#000000\">get_subtree()</text>\n",
       "</a>\n",
       "</g>\n",
       "<g id=\"a_node4_33\"><a xlink:href=\"#\" xlink:title=\"mutate(self, path, tree=None):&#10;Return a new tree mutated at `path`\">\n",
       "<text text-anchor=\"start\" x=\"177\" y=\"-229.5\" font-family=\"'Fira Mono', 'Source Code Pro', 'Courier', monospace\" font-size=\"10.00\" fill=\"#000000\">mutate()</text>\n",
       "</a>\n",
       "</g>\n",
       "<g id=\"a_node4_34\"><a xlink:href=\"#\" xlink:title=\"new_tree(self, start_symbol):&#10;Create a new subtree for &lt;start_symbol&gt;.\">\n",
       "<text text-anchor=\"start\" x=\"177\" y=\"-218.5\" font-family=\"'Fira Mono', 'Source Code Pro', 'Courier', monospace\" font-size=\"10.00\" fill=\"#000000\">new_tree()</text>\n",
       "</a>\n",
       "</g>\n",
       "</a>\n",
       "</g>\n",
       "</a>\n",
       "</g>\n",
       "</g>\n",
       "<!-- TreeGeneralizer&#45;&gt;TreeMutator -->\n",
       "<g id=\"edge2\" class=\"edge\">\n",
       "<title>TreeGeneralizer&#45;&gt;TreeMutator</title>\n",
       "<path fill=\"none\" stroke=\"#000000\" d=\"M216,-119.5414C216,-145.8616 216,-176.3936 216,-201.1944\"/>\n",
       "<polygon fill=\"none\" stroke=\"#000000\" points=\"212.5001,-201.4434 216,-211.4434 219.5001,-201.4435 212.5001,-201.4434\"/>\n",
       "</g>\n",
       "<!-- Legend -->\n",
       "<g id=\"node5\" class=\"node\">\n",
       "<title>Legend</title>\n",
       "<text text-anchor=\"start\" x=\"306\" y=\"-77.5\" font-family=\"Raleway, Helvetica, Arial, sans-serif\" font-weight=\"bold\" font-size=\"10.00\" fill=\"#6a0dad\">Legend</text>\n",
       "<text text-anchor=\"start\" x=\"306\" y=\"-67.5\" font-family=\"Raleway, Helvetica, Arial, sans-serif\" font-size=\"10.00\" fill=\"#000000\">• </text>\n",
       "<text text-anchor=\"start\" x=\"313\" y=\"-67.5\" font-family=\"'Fira Mono', 'Source Code Pro', 'Courier', monospace\" font-weight=\"bold\" font-size=\"8.00\" fill=\"#000000\">public_method()</text>\n",
       "<text text-anchor=\"start\" x=\"306\" y=\"-57.5\" font-family=\"Raleway, Helvetica, Arial, sans-serif\" font-size=\"10.00\" fill=\"#000000\">• </text>\n",
       "<text text-anchor=\"start\" x=\"313\" y=\"-57.5\" font-family=\"'Fira Mono', 'Source Code Pro', 'Courier', monospace\" font-size=\"8.00\" fill=\"#000000\">private_method()</text>\n",
       "<text text-anchor=\"start\" x=\"306\" y=\"-47.5\" font-family=\"Raleway, Helvetica, Arial, sans-serif\" font-size=\"10.00\" fill=\"#000000\">• </text>\n",
       "<text text-anchor=\"start\" x=\"313\" y=\"-47.5\" font-family=\"'Fira Mono', 'Source Code Pro', 'Courier', monospace\" font-style=\"italic\" font-size=\"8.00\" fill=\"#000000\">overloaded_method()</text>\n",
       "<text text-anchor=\"start\" x=\"306\" y=\"-38.3\" font-family=\"Helvetica,sans-Serif\" font-size=\"9.00\" fill=\"#000000\">Hover over names to see doc</text>\n",
       "</g>\n",
       "</g>\n",
       "</svg>\n"
      ],
      "text/plain": [
       "<graphviz.dot.Digraph at 0x7f7f59bb9198>"
      ]
     },
     "execution_count": 104,
     "metadata": {},
     "output_type": "execute_result"
    }
   ],
   "source": [
    "# ignore\n",
    "display_class_hierarchy([DDSetDebugger, TreeGeneralizer],\n",
    "                        public_methods=[\n",
    "                            CallCollector.__init__,\n",
    "                            CallCollector.__enter__,\n",
    "                            CallCollector.__exit__,\n",
    "                            CallCollector.function,\n",
    "                            CallCollector.args,\n",
    "                            CallCollector.exception,\n",
    "                            CallCollector.call,\n",
    "                            DDSetDebugger.__init__,\n",
    "                            DDSetDebugger.__repr__,\n",
    "                            DDSetDebugger.fuzz,\n",
    "                            DDSetDebugger.fuzz_args,\n",
    "                            DDSetDebugger.generalize,\n",
    "                        ], project='debuggingbook')"
   ]
  },
  {
   "cell_type": "markdown",
   "metadata": {
    "button": false,
    "new_sheet": true,
    "run_control": {
     "read_only": false
    },
    "slideshow": {
     "slide_type": "slide"
    }
   },
   "source": [
    "## Lessons Learned\n",
    "\n",
    "* Generalizing failure-inducing inputs can yield important information for which inputs and under which circumstances a failure occurs.\n",
    "* Generalizing failure-inducing inputs is most useful if the input can be split into multiple elements, of which only a part are relevant for producing the error.\n",
    "* As they help in _parsing_ and _producing_ input, _grammars_ can play an important role in testing and debugging."
   ]
  },
  {
   "cell_type": "markdown",
   "metadata": {
    "button": false,
    "new_sheet": false,
    "run_control": {
     "read_only": false
    },
    "slideshow": {
     "slide_type": "slide"
    }
   },
   "source": [
    "## Next Steps\n",
    "\n",
    "Our [next chapter](AlhazenDebugger.ipynb) will take the concept of grammar-based diagnostics even further, by examining how to characterize failures using _semantic features_ of inputs."
   ]
  },
  {
   "cell_type": "markdown",
   "metadata": {
    "slideshow": {
     "slide_type": "slide"
    }
   },
   "source": [
    "## Background\n",
    "\n",
    "Our `DDSetDebugger` class implements the DDSET algorithm as introduced by Gopinath et al. in \\cite{Gopinath2020}. A [full-fledged implementation of DDSET](https://rahul.gopinath.org/post/2020/07/15/ddset/) with plenty of details and experiments is available as a Jupyter Notebook. Our implementation follows the [simplified implementation of DDSET, as described by Gopinath](https://rahul.gopinath.org/post/2020/08/03/simple-ddset/).\n",
    "\n",
    "In recent work \\cite{Gopinath2021}, Gopinath has extended the concept of DDSET further. His work on _evocative expressions_ introduces a _pattern language_ in which arbitrary DDSET-like patterns can be combined into Boolean formula that even more precisely capture and produce failure circumstances. In particular, evocative expressions can _specialize_ grammars towards Boolean pattern combinations, thus allowing for great flexibility in testing and debugging.\n",
    "\n",
    "Besides the presence or absence of input elements, the ALHAZEN work by Kampmann et al. \\cite{Kampmann2020} investigates _semantic_ features of input elements such as their numeric interpretation or length and their correlation with failures. We will discuss ALHAZEN in the [next chapter](AlhazenDebugger.ipynb)."
   ]
  },
  {
   "cell_type": "markdown",
   "metadata": {
    "button": false,
    "new_sheet": true,
    "run_control": {
     "read_only": false
    },
    "slideshow": {
     "slide_type": "slide"
    }
   },
   "source": [
    "## Exercises"
   ]
  },
  {
   "cell_type": "markdown",
   "metadata": {
    "button": false,
    "new_sheet": false,
    "run_control": {
     "read_only": false
    },
    "slideshow": {
     "slide_type": "subslide"
    }
   },
   "source": [
    "### Exercise 1: Generalization and Specialization\n",
    "\n",
    "Consider the abstract failure-inducing input for `BAD_INPUT` we determined:"
   ]
  },
  {
   "cell_type": "code",
   "execution_count": 105,
   "metadata": {
    "slideshow": {
     "slide_type": "fragment"
    }
   },
   "outputs": [
    {
     "data": {
      "text/plain": [
       "'<opening-tag>\"<plain-text><closing-tag>'"
      ]
     },
     "execution_count": 105,
     "metadata": {},
     "output_type": "execute_result"
    }
   ],
   "source": [
    "all_terminals(abstract_failure_inducing_input)"
   ]
  },
  {
   "cell_type": "markdown",
   "metadata": {
    "button": false,
    "new_sheet": false,
    "run_control": {
     "read_only": false
    },
    "slideshow": {
     "slide_type": "fragment"
    },
    "solution2": "hidden",
    "solution2_first": true
   },
   "source": [
    "1. How does it change if you increase the number of test runs, using `max_tries_for_generalization`?\n",
    "2. What is the success rate of the new pattern?"
   ]
  },
  {
   "cell_type": "markdown",
   "metadata": {
    "slideshow": {
     "slide_type": "skip"
    },
    "solution2": "hidden"
   },
   "source": [
    "**Solution.** We can compute this by increasing `max_tries_for_generalization`:"
   ]
  },
  {
   "cell_type": "code",
   "execution_count": 106,
   "metadata": {
    "slideshow": {
     "slide_type": "skip"
    },
    "solution2": "hidden"
   },
   "outputs": [],
   "source": [
    "more_precise_bitg = \\\n",
    "    bad_input_tree_generalizer(max_tries_for_generalization=100)\n",
    "\n",
    "more_precise_abstract_failure_inducing_input = \\\n",
    "    more_precise_bitg.generalize()"
   ]
  },
  {
   "cell_type": "code",
   "execution_count": 107,
   "metadata": {
    "cell_style": "split",
    "slideshow": {
     "slide_type": "skip"
    },
    "solution2": "hidden"
   },
   "outputs": [
    {
     "data": {
      "text/plain": [
       "'<lt><id><gt>\"<plain-text><closing-tag>'"
      ]
     },
     "execution_count": 107,
     "metadata": {},
     "output_type": "execute_result"
    }
   ],
   "source": [
    "all_terminals(more_precise_abstract_failure_inducing_input)"
   ]
  },
  {
   "cell_type": "markdown",
   "metadata": {
    "slideshow": {
     "slide_type": "skip"
    },
    "solution2": "hidden"
   },
   "source": [
    "We see that we still have an opening tag; however, it no longer assumes attributes."
   ]
  },
  {
   "cell_type": "markdown",
   "metadata": {
    "slideshow": {
     "slide_type": "skip"
    },
    "solution2": "hidden"
   },
   "source": [
    "The success rate can be computed as before:"
   ]
  },
  {
   "cell_type": "code",
   "execution_count": 108,
   "metadata": {
    "slideshow": {
     "slide_type": "skip"
    },
    "solution2": "hidden"
   },
   "outputs": [],
   "source": [
    "successes = 0\n",
    "failures = 0\n",
    "trials = 1000\n",
    "\n",
    "for i in range(trials):\n",
    "    test_input = all_terminals(\n",
    "        more_precise_bitg.fuzz_tree(\n",
    "            more_precise_abstract_failure_inducing_input))\n",
    "    try:\n",
    "        remove_html_markup(test_input)\n",
    "    except AssertionError:\n",
    "        successes += 1\n",
    "    else:\n",
    "        failures += 1"
   ]
  },
  {
   "cell_type": "code",
   "execution_count": 109,
   "metadata": {
    "slideshow": {
     "slide_type": "skip"
    },
    "solution2": "hidden"
   },
   "outputs": [
    {
     "data": {
      "text/plain": [
       "(993, 7)"
      ]
     },
     "execution_count": 109,
     "metadata": {},
     "output_type": "execute_result"
    }
   ],
   "source": [
    "successes, failures"
   ]
  },
  {
   "cell_type": "code",
   "execution_count": 110,
   "metadata": {
    "slideshow": {
     "slide_type": "skip"
    },
    "solution2": "hidden"
   },
   "outputs": [
    {
     "data": {
      "text/plain": [
       "0.007"
      ]
     },
     "execution_count": 110,
     "metadata": {},
     "output_type": "execute_result"
    }
   ],
   "source": [
    "failures / 1000"
   ]
  },
  {
   "cell_type": "markdown",
   "metadata": {
    "slideshow": {
     "slide_type": "skip"
    },
    "solution2": "hidden"
   },
   "source": [
    "We see that the failure rate is now less than 99%, which is better than before. On the other hand, the pattern is now overly _special_, since there are `<opening-tags>` with attributes such that the failure occurs (but also some that cancel out the error)."
   ]
  },
  {
   "cell_type": "markdown",
   "metadata": {
    "button": false,
    "new_sheet": false,
    "run_control": {
     "read_only": false
    },
    "slideshow": {
     "slide_type": "subslide"
    },
    "solution": "hidden",
    "solution2": "hidden",
    "solution2_first": true,
    "solution_first": true
   },
   "source": [
    "### Exercise 2: Hierarchical Delta Debugging"
   ]
  },
  {
   "cell_type": "markdown",
   "metadata": {
    "button": false,
    "new_sheet": false,
    "run_control": {
     "read_only": false
    },
    "slideshow": {
     "slide_type": "skip"
    },
    "solution": "hidden",
    "solution2": "hidden",
    "solution2_first": true,
    "solution_first": true
   },
   "source": [
    "**Solution.** Here is a solution:"
   ]
  },
  {
   "cell_type": "code",
   "execution_count": 111,
   "metadata": {
    "slideshow": {
     "slide_type": "skip"
    },
    "solution2": "hidden"
   },
   "outputs": [],
   "source": [
    "from DeltaDebugger import DeltaDebugger"
   ]
  },
  {
   "cell_type": "code",
   "execution_count": 112,
   "metadata": {
    "slideshow": {
     "slide_type": "skip"
    },
    "solution2": "hidden"
   },
   "outputs": [],
   "source": [
    "import copy"
   ]
  },
  {
   "cell_type": "code",
   "execution_count": 113,
   "metadata": {
    "slideshow": {
     "slide_type": "skip"
    },
    "solution2": "hidden"
   },
   "outputs": [],
   "source": [
    "from IPython.display import display"
   ]
  },
  {
   "cell_type": "code",
   "execution_count": 114,
   "metadata": {
    "slideshow": {
     "slide_type": "skip"
    },
    "solution2": "hidden"
   },
   "outputs": [],
   "source": [
    "class TreeHDDReducer(TreeGeneralizer):\n",
    "    def _reduce(self, path, tree):\n",
    "        \"\"\"This is HDD\"\"\"\n",
    "\n",
    "        node, children = self.get_subtree(path, tree)\n",
    "            \n",
    "        if len(path) >= 1:\n",
    "            parent, parent_children = self.get_subtree(path[:-1], tree)\n",
    " \n",
    "            assert parent_children[path[-1]] == (node, children)\n",
    "\n",
    "            def test_children(children):\n",
    "                parent_children[path[-1]] = (node, children)\n",
    "                s = tree_to_string(tree)\n",
    "                self.test(s)\n",
    "\n",
    "            with DeltaDebugger() as dd:\n",
    "                test_children(children)\n",
    "            \n",
    "            # display(display_tree(tree))\n",
    "\n",
    "            children = dd.min_args()['children']\n",
    "            parent_children[path[-1]] = (node, children)\n",
    "        \n",
    "        for i, child in enumerate(children):\n",
    "            self._reduce(path + [i], tree)\n",
    "            \n",
    "        return tree\n",
    "\n",
    "    def reduce(self):\n",
    "        return self._reduce([], self.tree)"
   ]
  },
  {
   "cell_type": "code",
   "execution_count": 115,
   "metadata": {
    "slideshow": {
     "slide_type": "skip"
    },
    "solution2": "hidden"
   },
   "outputs": [],
   "source": [
    "def bad_input_tree_hdd_reducer():\n",
    "    return TreeHDDReducer(SIMPLE_HTML_GRAMMAR, copy.deepcopy(bad_input_tree),\n",
    "                       remove_html_markup, log=True)    "
   ]
  },
  {
   "cell_type": "code",
   "execution_count": 116,
   "metadata": {
    "slideshow": {
     "slide_type": "skip"
    },
    "solution2": "hidden"
   },
   "outputs": [
    {
     "data": {
      "text/plain": [
       "'\"<'"
      ]
     },
     "execution_count": 116,
     "metadata": {},
     "output_type": "execute_result"
    }
   ],
   "source": [
    "all_terminals(bad_input_tree_hdd_reducer().reduce())"
   ]
  },
  {
   "cell_type": "markdown",
   "metadata": {
    "slideshow": {
     "slide_type": "slide"
    },
    "solution2": "hidden",
    "solution2_first": true
   },
   "source": [
    "## Exercise 3: Reducing Trees"
   ]
  },
  {
   "cell_type": "markdown",
   "metadata": {
    "button": false,
    "new_sheet": false,
    "run_control": {
     "read_only": false
    },
    "slideshow": {
     "slide_type": "skip"
    },
    "solution": "hidden",
    "solution2": "hidden",
    "solution2_first": true,
    "solution_first": true
   },
   "source": [
    "**Solution.** Here is a solution:"
   ]
  },
  {
   "cell_type": "code",
   "execution_count": 117,
   "metadata": {
    "slideshow": {
     "slide_type": "skip"
    },
    "solution2": "hidden"
   },
   "outputs": [],
   "source": [
    "class TreeReducer(TreeGeneralizer):\n",
    "    def new_min_tree(self, start_symbol):\n",
    "        if self.log >= 2:\n",
    "            print(f\"Creating new minimal tree for {start_symbol}\")\n",
    "\n",
    "        fuzzer = GrammarFuzzer(self.grammar, start_symbol=start_symbol,\n",
    "                               min_nonterminals=0,\n",
    "                               max_nonterminals=0)\n",
    "        fuzzer.fuzz()\n",
    "        return fuzzer.derivation_tree"
   ]
  },
  {
   "cell_type": "code",
   "execution_count": 118,
   "metadata": {
    "slideshow": {
     "slide_type": "skip"
    },
    "solution2": "hidden"
   },
   "outputs": [],
   "source": [
    "def bad_input_tree_reducer():\n",
    "    return TreeReducer(SIMPLE_HTML_GRAMMAR, bad_input_tree,\n",
    "                       remove_html_markup, log=2)    "
   ]
  },
  {
   "cell_type": "code",
   "execution_count": 119,
   "metadata": {
    "slideshow": {
     "slide_type": "skip"
    },
    "solution2": "hidden"
   },
   "outputs": [
    {
     "name": "stdout",
     "output_type": "stream",
     "text": [
      "Creating new minimal tree for <start>\n"
     ]
    },
    {
     "data": {
      "text/plain": [
       "''"
      ]
     },
     "execution_count": 119,
     "metadata": {},
     "output_type": "execute_result"
    }
   ],
   "source": [
    "tree_to_string(bad_input_tree_reducer().new_min_tree('<start>'))"
   ]
  },
  {
   "cell_type": "code",
   "execution_count": 120,
   "metadata": {
    "slideshow": {
     "slide_type": "skip"
    },
    "solution2": "hidden"
   },
   "outputs": [],
   "source": [
    "class TreeReducer(TreeReducer):\n",
    "    def reduce_path(self, path, tree=None):\n",
    "        if tree is None:\n",
    "            tree = self.tree\n",
    "\n",
    "        node, children = tree\n",
    "\n",
    "        if not path:\n",
    "            return self.new_min_tree(node)\n",
    "\n",
    "        head = path[0]\n",
    "        new_children = (children[:head] +\n",
    "                        [self.reduce_path(path[1:], children[head])] +\n",
    "                        children[head + 1:])\n",
    "        return node, new_children"
   ]
  },
  {
   "cell_type": "code",
   "execution_count": 121,
   "metadata": {
    "slideshow": {
     "slide_type": "skip"
    },
    "solution2": "hidden"
   },
   "outputs": [
    {
     "name": "stdout",
     "output_type": "stream",
     "text": [
      "Creating new minimal tree for <plain-text>\n"
     ]
    },
    {
     "data": {
      "text/plain": [
       "'<foo></foo>'"
      ]
     },
     "execution_count": 121,
     "metadata": {},
     "output_type": "execute_result"
    }
   ],
   "source": [
    "tree_to_string(bad_input_tree_reducer().reduce_path([0, 0, 1, 0]))"
   ]
  },
  {
   "cell_type": "code",
   "execution_count": 122,
   "metadata": {
    "slideshow": {
     "slide_type": "skip"
    },
    "solution2": "hidden"
   },
   "outputs": [],
   "source": [
    "class TreeReducer(TreeReducer):\n",
    "    def can_reduce(self, path, tree=None):\n",
    "        reduced_tree = self.reduce_path(path, tree)\n",
    "        if self.test_tree(reduced_tree):\n",
    "            # Failure no longer occurs; cannot reduce\n",
    "            return False\n",
    "\n",
    "        return True"
   ]
  },
  {
   "cell_type": "code",
   "execution_count": 123,
   "metadata": {
    "slideshow": {
     "slide_type": "skip"
    },
    "solution2": "hidden"
   },
   "outputs": [],
   "source": [
    "class TreeReducer(TreeReducer):\n",
    "    def reducible_paths(self):\n",
    "        return self.find_paths(self.can_reduce)"
   ]
  },
  {
   "cell_type": "code",
   "execution_count": 124,
   "metadata": {
    "slideshow": {
     "slide_type": "skip"
    },
    "solution2": "hidden"
   },
   "outputs": [
    {
     "name": "stdout",
     "output_type": "stream",
     "text": [
      "Creating new minimal tree for <start>\n",
      "Testing ''...PASS\n",
      "Creating new minimal tree for <html>\n",
      "Testing ''...PASS\n",
      "Creating new minimal tree for <tagged-text>\n",
      "Testing '<L>'...PASS\n",
      "Creating new minimal tree for <opening-tag>\n",
      "Testing '<z>\"bar</foo>'...FAIL (AssertionError)\n",
      "Creating new minimal tree for <html>\n",
      "Testing '<foo></foo>'...PASS\n",
      "Creating new minimal tree for <plain-text>\n",
      "Testing '<foo></foo>'...PASS\n",
      "Creating new minimal tree for <plain-char>\n",
      "Testing '<foo>\\x0cbar</foo>'...PASS\n",
      "Creating new minimal tree for <other>\n",
      "Testing '<foo>.bar</foo>'...PASS\n",
      "Creating new minimal tree for <plain-text>\n",
      "Testing '<foo>\"</foo>'...FAIL (AssertionError)\n",
      "Creating new minimal tree for <closing-tag>\n",
      "Testing '<foo>\"bar</n>'...FAIL (AssertionError)\n"
     ]
    },
    {
     "data": {
      "text/plain": [
       "[[0, 0, 0], [0, 0, 1, 0, 1], [0, 0, 2]]"
      ]
     },
     "execution_count": 124,
     "metadata": {},
     "output_type": "execute_result"
    }
   ],
   "source": [
    "bad_input_tree_reducer().reducible_paths()"
   ]
  },
  {
   "cell_type": "code",
   "execution_count": 125,
   "metadata": {
    "slideshow": {
     "slide_type": "skip"
    },
    "solution2": "hidden"
   },
   "outputs": [],
   "source": [
    "class TreeReducer(TreeReducer):\n",
    "    def reduce(self):\n",
    "        tree = self.tree\n",
    "        for path in self.reducible_paths():\n",
    "            tree = self.reduce_path(path, tree)\n",
    "            \n",
    "        return tree"
   ]
  },
  {
   "cell_type": "code",
   "execution_count": 126,
   "metadata": {
    "slideshow": {
     "slide_type": "skip"
    },
    "solution2": "hidden"
   },
   "outputs": [
    {
     "name": "stdout",
     "output_type": "stream",
     "text": [
      "Creating new minimal tree for <start>\n",
      "Testing ''...PASS\n",
      "Creating new minimal tree for <html>\n",
      "Testing ''...PASS\n",
      "Creating new minimal tree for <tagged-text>\n",
      "Testing '<M>'...PASS\n",
      "Creating new minimal tree for <opening-tag>\n",
      "Testing '<Y>\"bar</foo>'...FAIL (AssertionError)\n",
      "Creating new minimal tree for <html>\n",
      "Testing '<foo></foo>'...PASS\n",
      "Creating new minimal tree for <plain-text>\n",
      "Testing '<foo></foo>'...PASS\n",
      "Creating new minimal tree for <plain-char>\n",
      "Testing '<foo>`bar</foo>'...PASS\n",
      "Creating new minimal tree for <other>\n",
      "Testing '<foo>$bar</foo>'...PASS\n",
      "Creating new minimal tree for <plain-text>\n",
      "Testing '<foo>\"</foo>'...FAIL (AssertionError)\n",
      "Creating new minimal tree for <closing-tag>\n",
      "Testing '<foo>\"bar</l>'...FAIL (AssertionError)\n",
      "Creating new minimal tree for <opening-tag>\n",
      "Creating new minimal tree for <plain-text>\n",
      "Creating new minimal tree for <closing-tag>\n"
     ]
    },
    {
     "data": {
      "text/plain": [
       "'<a>\"</k>'"
      ]
     },
     "execution_count": 126,
     "metadata": {},
     "output_type": "execute_result"
    }
   ],
   "source": [
    "all_terminals(bad_input_tree_reducer().reduce())"
   ]
  }
 ],
 "metadata": {
  "ipub": {
   "bibliography": "fuzzingbook.bib",
   "toc": true
  },
  "kernelspec": {
   "display_name": "Python 3",
   "language": "python",
   "name": "python3"
  },
  "language_info": {
   "codemirror_mode": {
    "name": "ipython",
    "version": 3
   },
   "file_extension": ".py",
   "mimetype": "text/x-python",
   "name": "python",
   "nbconvert_exporter": "python",
   "pygments_lexer": "ipython3",
   "version": "3.6.10"
  },
  "toc": {
   "base_numbering": 1,
   "nav_menu": {},
   "number_sections": true,
   "sideBar": true,
   "skip_h1_title": true,
   "title_cell": "",
   "title_sidebar": "Contents",
   "toc_cell": false,
   "toc_position": {},
   "toc_section_display": true,
   "toc_window_display": true
  },
  "toc-autonumbering": false
 },
 "nbformat": 4,
 "nbformat_minor": 4
}