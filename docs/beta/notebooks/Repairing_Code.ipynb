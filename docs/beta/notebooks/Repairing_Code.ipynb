{
 "cells": [
  {
   "cell_type": "markdown",
   "metadata": {
    "slideshow": {
     "slide_type": "slide"
    }
   },
   "source": [
    "# Third Project - Automated Repair"
   ]
  },
  {
   "cell_type": "markdown",
   "metadata": {
    "slideshow": {
     "slide_type": "slide"
    }
   },
   "source": [
    "## Overview"
   ]
  },
  {
   "cell_type": "markdown",
   "metadata": {
    "slideshow": {
     "slide_type": "subslide"
    }
   },
   "source": [
    "### The Task\n",
    "\n",
    "For the first two submissions we asked you to implement a _Debugger_ as well as an _Input Reducer_. Both of these tools are used to help the developer to locate bugs and then manually fix them.\n",
    "\n",
    "In this project, you will implement a technique of automatic code repair. To do so, you will extend the `Repairer` introduced in the [Repairing Code Automatically](https://www.debuggingbook.org/beta/html/Repairer.html) chapter of [The Debugging Book](https://www.debuggingbook.org/beta).\n",
    "\n",
    "Your own `Repairer` should automatically generate _repair suggestions_ to the faulty functions we provide later in this notebook. This can be achieved, for instance, by changing various components of the mutator, changing the debugger, or the reduction algorithm. However, you are neither reguired to make all these changes nor required to limit yourself to the changes proposed here."
   ]
  },
  {
   "cell_type": "markdown",
   "metadata": {
    "slideshow": {
     "slide_type": "subslide"
    }
   },
   "source": [
    "### The Submission\n",
    "\n",
    "The time frame for this project is **3 weeks**, and the deadline is **Februrary 5th, 23:59**.  \n",
    "\n",
    "The submission should be in form of a Jupyter notebook and you are expected to hand in the submission as a .zip-archive. The notebook should, apart from the code itself, also provide sufficient explanations and reasoning (in markdown cells) behind the decisions that lead to the solution provided. Projects that do not include explanations cannot get more than **15 points**."
   ]
  },
  {
   "cell_type": "code",
   "execution_count": 1,
   "metadata": {
    "execution": {
     "iopub.execute_input": "2024-06-30T17:31:18.897922Z",
     "iopub.status.busy": "2024-06-30T17:31:18.897503Z",
     "iopub.status.idle": "2024-06-30T17:31:18.976167Z",
     "shell.execute_reply": "2024-06-30T17:31:18.975861Z"
    },
    "slideshow": {
     "slide_type": "skip"
    }
   },
   "outputs": [],
   "source": [
    "import bookutils.setup"
   ]
  },
  {
   "cell_type": "code",
   "execution_count": 2,
   "metadata": {
    "execution": {
     "iopub.execute_input": "2024-06-30T17:31:18.978112Z",
     "iopub.status.busy": "2024-06-30T17:31:18.977985Z",
     "iopub.status.idle": "2024-06-30T17:31:18.979848Z",
     "shell.execute_reply": "2024-06-30T17:31:18.979581Z"
    },
    "slideshow": {
     "slide_type": "fragment"
    }
   },
   "outputs": [],
   "source": [
    "# ignore\n",
    "from typing import Any, Callable, Optional, Tuple, List"
   ]
  },
  {
   "cell_type": "markdown",
   "metadata": {
    "slideshow": {
     "slide_type": "slide"
    }
   },
   "source": [
    "## A Faulty Function and How to Repair It\n",
    "Before discussing how to use and extend the Repairer, we first start by introducing a new (and highly complex) function that is supposed to return the larger of two values."
   ]
  },
  {
   "cell_type": "code",
   "execution_count": 3,
   "metadata": {
    "execution": {
     "iopub.execute_input": "2024-06-30T17:31:18.981372Z",
     "iopub.status.busy": "2024-06-30T17:31:18.981251Z",
     "iopub.status.idle": "2024-06-30T17:31:18.983188Z",
     "shell.execute_reply": "2024-06-30T17:31:18.982928Z"
    },
    "slideshow": {
     "slide_type": "fragment"
    }
   },
   "outputs": [],
   "source": [
    "def larger(x: Any, y: Any) -> Any:\n",
    "    if x < y:\n",
    "        return x\n",
    "    return y"
   ]
  },
  {
   "cell_type": "markdown",
   "metadata": {
    "slideshow": {
     "slide_type": "fragment"
    }
   },
   "source": [
    "Unfortunately, we introduced a bug which makes the function behave the exact opposite way as it is supposed to:"
   ]
  },
  {
   "cell_type": "code",
   "execution_count": 4,
   "metadata": {
    "execution": {
     "iopub.execute_input": "2024-06-30T17:31:18.984838Z",
     "iopub.status.busy": "2024-06-30T17:31:18.984698Z",
     "iopub.status.idle": "2024-06-30T17:31:18.988202Z",
     "shell.execute_reply": "2024-06-30T17:31:18.987911Z"
    },
    "slideshow": {
     "slide_type": "fragment"
    }
   },
   "outputs": [
    {
     "data": {
      "text/plain": [
       "1"
      ]
     },
     "execution_count": 4,
     "metadata": {},
     "output_type": "execute_result"
    }
   ],
   "source": [
    "larger(1, 3)"
   ]
  },
  {
   "cell_type": "markdown",
   "metadata": {
    "slideshow": {
     "slide_type": "subslide"
    }
   },
   "source": [
    "To fix this issue, we could try to debug it, using the tools we have already seen. However, given the complexity of the function under test (sorry for the irony), we might want to automatically repair the function, using the *Repairer* introduced in *The Debugging Book*.\n",
    "\n",
    "To do so, we first need to define set of test cases, which help the *Repairer* in fixing the function."
   ]
  },
  {
   "cell_type": "code",
   "execution_count": 5,
   "metadata": {
    "execution": {
     "iopub.execute_input": "2024-06-30T17:31:19.008536Z",
     "iopub.status.busy": "2024-06-30T17:31:19.008378Z",
     "iopub.status.idle": "2024-06-30T17:31:19.010555Z",
     "shell.execute_reply": "2024-06-30T17:31:19.010301Z"
    },
    "slideshow": {
     "slide_type": "fragment"
    }
   },
   "outputs": [],
   "source": [
    "def larger_testcase() -> Tuple[int, int]:\n",
    "    x = random.randrange(100)\n",
    "    y = random.randrange(100)\n",
    "    return x, y"
   ]
  },
  {
   "cell_type": "code",
   "execution_count": 6,
   "metadata": {
    "execution": {
     "iopub.execute_input": "2024-06-30T17:31:19.012283Z",
     "iopub.status.busy": "2024-06-30T17:31:19.012165Z",
     "iopub.status.idle": "2024-06-30T17:31:19.014461Z",
     "shell.execute_reply": "2024-06-30T17:31:19.014156Z"
    },
    "slideshow": {
     "slide_type": "fragment"
    }
   },
   "outputs": [],
   "source": [
    "def larger_test(x: Any, y: Any) -> None:\n",
    "    m = larger(x, y)\n",
    "    assert m == max(x, y), f\"expected {max(x, y)}, but got {m}\""
   ]
  },
  {
   "cell_type": "code",
   "execution_count": 7,
   "metadata": {
    "execution": {
     "iopub.execute_input": "2024-06-30T17:31:19.016261Z",
     "iopub.status.busy": "2024-06-30T17:31:19.016123Z",
     "iopub.status.idle": "2024-06-30T17:31:19.017912Z",
     "shell.execute_reply": "2024-06-30T17:31:19.017634Z"
    },
    "slideshow": {
     "slide_type": "skip"
    }
   },
   "outputs": [],
   "source": [
    "import math\n",
    "import random"
   ]
  },
  {
   "cell_type": "code",
   "execution_count": 8,
   "metadata": {
    "execution": {
     "iopub.execute_input": "2024-06-30T17:31:19.019461Z",
     "iopub.status.busy": "2024-06-30T17:31:19.019349Z",
     "iopub.status.idle": "2024-06-30T17:31:19.021134Z",
     "shell.execute_reply": "2024-06-30T17:31:19.020892Z"
    },
    "slideshow": {
     "slide_type": "subslide"
    }
   },
   "outputs": [],
   "source": [
    "random.seed(42)"
   ]
  },
  {
   "cell_type": "markdown",
   "metadata": {
    "slideshow": {
     "slide_type": "fragment"
    }
   },
   "source": [
    "Let us generate a random test case for our function:"
   ]
  },
  {
   "cell_type": "code",
   "execution_count": 9,
   "metadata": {
    "execution": {
     "iopub.execute_input": "2024-06-30T17:31:19.022778Z",
     "iopub.status.busy": "2024-06-30T17:31:19.022657Z",
     "iopub.status.idle": "2024-06-30T17:31:19.024711Z",
     "shell.execute_reply": "2024-06-30T17:31:19.024461Z"
    },
    "slideshow": {
     "slide_type": "fragment"
    }
   },
   "outputs": [
    {
     "name": "stdout",
     "output_type": "stream",
     "text": [
      "(81, 14)\n"
     ]
    }
   ],
   "source": [
    "larger_input = larger_testcase()\n",
    "print(larger_input)"
   ]
  },
  {
   "cell_type": "markdown",
   "metadata": {
    "slideshow": {
     "slide_type": "fragment"
    }
   },
   "source": [
    "and then feed it into our `larger_test()`:"
   ]
  },
  {
   "cell_type": "code",
   "execution_count": 10,
   "metadata": {
    "execution": {
     "iopub.execute_input": "2024-06-30T17:31:19.026332Z",
     "iopub.status.busy": "2024-06-30T17:31:19.026217Z",
     "iopub.status.idle": "2024-06-30T17:31:19.053207Z",
     "shell.execute_reply": "2024-06-30T17:31:19.052804Z"
    },
    "slideshow": {
     "slide_type": "skip"
    }
   },
   "outputs": [],
   "source": [
    "from ExpectError import ExpectError"
   ]
  },
  {
   "cell_type": "code",
   "execution_count": 11,
   "metadata": {
    "execution": {
     "iopub.execute_input": "2024-06-30T17:31:19.055394Z",
     "iopub.status.busy": "2024-06-30T17:31:19.055256Z",
     "iopub.status.idle": "2024-06-30T17:31:19.057389Z",
     "shell.execute_reply": "2024-06-30T17:31:19.057145Z"
    },
    "slideshow": {
     "slide_type": "subslide"
    }
   },
   "outputs": [
    {
     "name": "stderr",
     "output_type": "stream",
     "text": [
      "Traceback (most recent call last):\n",
      "  File \"/var/folders/n2/xd9445p97rb3xh7m1dfx8_4h0006ts/T/ipykernel_68353/1363473154.py\", line 2, in <cell line: 1>\n",
      "    larger_test(*larger_input)\n",
      "  File \"/var/folders/n2/xd9445p97rb3xh7m1dfx8_4h0006ts/T/ipykernel_68353/2390942771.py\", line 3, in larger_test\n",
      "    assert m == max(x, y), f\"expected {max(x, y)}, but got {m}\"\n",
      "AssertionError: expected 81, but got 14 (expected)\n"
     ]
    }
   ],
   "source": [
    "with ExpectError():\n",
    "    larger_test(*larger_input)"
   ]
  },
  {
   "cell_type": "markdown",
   "metadata": {
    "slideshow": {
     "slide_type": "fragment"
    }
   },
   "source": [
    "As expected, we got an error – the `larger()` function has adefect."
   ]
  },
  {
   "cell_type": "markdown",
   "metadata": {
    "slideshow": {
     "slide_type": "fragment"
    }
   },
   "source": [
    "For a complete test suite, we need a set of passing and failing tests. To be sure we have both, we create functions which produce dedicated inputs:"
   ]
  },
  {
   "cell_type": "code",
   "execution_count": 12,
   "metadata": {
    "execution": {
     "iopub.execute_input": "2024-06-30T17:31:19.059042Z",
     "iopub.status.busy": "2024-06-30T17:31:19.058916Z",
     "iopub.status.idle": "2024-06-30T17:31:19.061126Z",
     "shell.execute_reply": "2024-06-30T17:31:19.060546Z"
    },
    "slideshow": {
     "slide_type": "subslide"
    }
   },
   "outputs": [],
   "source": [
    "def larger_passing_testcase() -> Tuple:\n",
    "    while True:\n",
    "        try:\n",
    "            x, y = larger_testcase()\n",
    "            larger_test(x, y)\n",
    "            return x, y\n",
    "        except AssertionError:\n",
    "            pass"
   ]
  },
  {
   "cell_type": "code",
   "execution_count": 13,
   "metadata": {
    "execution": {
     "iopub.execute_input": "2024-06-30T17:31:19.063167Z",
     "iopub.status.busy": "2024-06-30T17:31:19.063022Z",
     "iopub.status.idle": "2024-06-30T17:31:19.065402Z",
     "shell.execute_reply": "2024-06-30T17:31:19.065004Z"
    },
    "slideshow": {
     "slide_type": "fragment"
    }
   },
   "outputs": [],
   "source": [
    "def larger_failing_testcase() -> Tuple:\n",
    "    while True:\n",
    "        try:\n",
    "            x, y = larger_testcase()\n",
    "            larger_test(x, y)\n",
    "        except AssertionError:\n",
    "            return x, y"
   ]
  },
  {
   "cell_type": "code",
   "execution_count": 14,
   "metadata": {
    "execution": {
     "iopub.execute_input": "2024-06-30T17:31:19.067269Z",
     "iopub.status.busy": "2024-06-30T17:31:19.067143Z",
     "iopub.status.idle": "2024-06-30T17:31:19.069171Z",
     "shell.execute_reply": "2024-06-30T17:31:19.068827Z"
    },
    "slideshow": {
     "slide_type": "subslide"
    }
   },
   "outputs": [
    {
     "name": "stdout",
     "output_type": "stream",
     "text": [
      "(10, 10)\n"
     ]
    }
   ],
   "source": [
    "passing_input = larger_passing_testcase()\n",
    "print(passing_input)"
   ]
  },
  {
   "cell_type": "markdown",
   "metadata": {
    "slideshow": {
     "slide_type": "fragment"
    }
   },
   "source": [
    "With `passing_input`, our `larger()` function produces a correct result, and its test function does not fail."
   ]
  },
  {
   "cell_type": "code",
   "execution_count": 15,
   "metadata": {
    "execution": {
     "iopub.execute_input": "2024-06-30T17:31:19.071177Z",
     "iopub.status.busy": "2024-06-30T17:31:19.071030Z",
     "iopub.status.idle": "2024-06-30T17:31:19.073347Z",
     "shell.execute_reply": "2024-06-30T17:31:19.072952Z"
    },
    "slideshow": {
     "slide_type": "fragment"
    }
   },
   "outputs": [],
   "source": [
    "larger_test(*passing_input)"
   ]
  },
  {
   "cell_type": "code",
   "execution_count": 16,
   "metadata": {
    "execution": {
     "iopub.execute_input": "2024-06-30T17:31:19.075432Z",
     "iopub.status.busy": "2024-06-30T17:31:19.075285Z",
     "iopub.status.idle": "2024-06-30T17:31:19.077530Z",
     "shell.execute_reply": "2024-06-30T17:31:19.077145Z"
    },
    "slideshow": {
     "slide_type": "fragment"
    }
   },
   "outputs": [
    {
     "name": "stdout",
     "output_type": "stream",
     "text": [
      "(93, 62)\n"
     ]
    }
   ],
   "source": [
    "failing_input = larger_failing_testcase()\n",
    "print(failing_input)"
   ]
  },
  {
   "cell_type": "markdown",
   "metadata": {
    "slideshow": {
     "slide_type": "fragment"
    }
   },
   "source": [
    "While `failing_input` leads to an error:"
   ]
  },
  {
   "cell_type": "code",
   "execution_count": 17,
   "metadata": {
    "execution": {
     "iopub.execute_input": "2024-06-30T17:31:19.079315Z",
     "iopub.status.busy": "2024-06-30T17:31:19.079155Z",
     "iopub.status.idle": "2024-06-30T17:31:19.081573Z",
     "shell.execute_reply": "2024-06-30T17:31:19.081191Z"
    },
    "slideshow": {
     "slide_type": "subslide"
    }
   },
   "outputs": [
    {
     "name": "stderr",
     "output_type": "stream",
     "text": [
      "Traceback (most recent call last):\n",
      "  File \"/var/folders/n2/xd9445p97rb3xh7m1dfx8_4h0006ts/T/ipykernel_68353/108970404.py\", line 2, in <cell line: 1>\n",
      "    larger_test(*failing_input)\n",
      "  File \"/var/folders/n2/xd9445p97rb3xh7m1dfx8_4h0006ts/T/ipykernel_68353/2390942771.py\", line 3, in larger_test\n",
      "    assert m == max(x, y), f\"expected {max(x, y)}, but got {m}\"\n",
      "AssertionError: expected 93, but got 62 (expected)\n"
     ]
    }
   ],
   "source": [
    "with ExpectError():\n",
    "    larger_test(*failing_input)"
   ]
  },
  {
   "cell_type": "markdown",
   "metadata": {
    "slideshow": {
     "slide_type": "fragment"
    }
   },
   "source": [
    "With the above defined functions, we can now start to create a number of passing and failing tests:"
   ]
  },
  {
   "cell_type": "code",
   "execution_count": 18,
   "metadata": {
    "execution": {
     "iopub.execute_input": "2024-06-30T17:31:19.083553Z",
     "iopub.status.busy": "2024-06-30T17:31:19.083411Z",
     "iopub.status.idle": "2024-06-30T17:31:19.085243Z",
     "shell.execute_reply": "2024-06-30T17:31:19.084944Z"
    },
    "slideshow": {
     "slide_type": "fragment"
    }
   },
   "outputs": [],
   "source": [
    "TESTS = 100"
   ]
  },
  {
   "cell_type": "code",
   "execution_count": 19,
   "metadata": {
    "execution": {
     "iopub.execute_input": "2024-06-30T17:31:19.087099Z",
     "iopub.status.busy": "2024-06-30T17:31:19.086862Z",
     "iopub.status.idle": "2024-06-30T17:31:19.099654Z",
     "shell.execute_reply": "2024-06-30T17:31:19.099268Z"
    },
    "slideshow": {
     "slide_type": "fragment"
    }
   },
   "outputs": [],
   "source": [
    "LARGER_PASSING_TESTCASES = [larger_passing_testcase()\n",
    "                            for i in range(TESTS)]"
   ]
  },
  {
   "cell_type": "code",
   "execution_count": 20,
   "metadata": {
    "execution": {
     "iopub.execute_input": "2024-06-30T17:31:19.101638Z",
     "iopub.status.busy": "2024-06-30T17:31:19.101472Z",
     "iopub.status.idle": "2024-06-30T17:31:19.103637Z",
     "shell.execute_reply": "2024-06-30T17:31:19.103219Z"
    },
    "slideshow": {
     "slide_type": "subslide"
    }
   },
   "outputs": [],
   "source": [
    "LARGER_FAILING_TESTCASES = [larger_failing_testcase()\n",
    "                            for i in range(TESTS)]"
   ]
  },
  {
   "cell_type": "code",
   "execution_count": 21,
   "metadata": {
    "execution": {
     "iopub.execute_input": "2024-06-30T17:31:19.105506Z",
     "iopub.status.busy": "2024-06-30T17:31:19.105372Z",
     "iopub.status.idle": "2024-06-30T17:31:19.652185Z",
     "shell.execute_reply": "2024-06-30T17:31:19.651856Z"
    },
    "slideshow": {
     "slide_type": "skip"
    }
   },
   "outputs": [],
   "source": [
    "from StatisticalDebugger import OchiaiDebugger"
   ]
  },
  {
   "cell_type": "markdown",
   "metadata": {
    "slideshow": {
     "slide_type": "fragment"
    }
   },
   "source": [
    "Next, let us use _statistical debugging_ to identify likely faulty locations. The `OchiaiDebugger` ranks individual code lines by how frequently they are executed in failing runs (and not in passing runs)."
   ]
  },
  {
   "cell_type": "code",
   "execution_count": 22,
   "metadata": {
    "execution": {
     "iopub.execute_input": "2024-06-30T17:31:19.654231Z",
     "iopub.status.busy": "2024-06-30T17:31:19.654051Z",
     "iopub.status.idle": "2024-06-30T17:31:19.656061Z",
     "shell.execute_reply": "2024-06-30T17:31:19.655801Z"
    },
    "slideshow": {
     "slide_type": "fragment"
    }
   },
   "outputs": [],
   "source": [
    "larger_debugger = OchiaiDebugger()"
   ]
  },
  {
   "cell_type": "code",
   "execution_count": 23,
   "metadata": {
    "execution": {
     "iopub.execute_input": "2024-06-30T17:31:19.657597Z",
     "iopub.status.busy": "2024-06-30T17:31:19.657481Z",
     "iopub.status.idle": "2024-06-30T17:31:19.664862Z",
     "shell.execute_reply": "2024-06-30T17:31:19.664575Z"
    },
    "slideshow": {
     "slide_type": "fragment"
    }
   },
   "outputs": [],
   "source": [
    "for x, y in LARGER_PASSING_TESTCASES + LARGER_FAILING_TESTCASES:\n",
    "    with larger_debugger:\n",
    "        larger_test(x, y)"
   ]
  },
  {
   "cell_type": "markdown",
   "metadata": {
    "slideshow": {
     "slide_type": "fragment"
    }
   },
   "source": [
    "Given the results of statistical debugging, we can now use the *Repairer* introduced in the book to repair our function. Here we use the default implementation which is initialized with the simple _StatementMutator_ mutator."
   ]
  },
  {
   "cell_type": "code",
   "execution_count": 24,
   "metadata": {
    "execution": {
     "iopub.execute_input": "2024-06-30T17:31:19.666640Z",
     "iopub.status.busy": "2024-06-30T17:31:19.666491Z",
     "iopub.status.idle": "2024-06-30T17:31:19.836824Z",
     "shell.execute_reply": "2024-06-30T17:31:19.836408Z"
    },
    "slideshow": {
     "slide_type": "skip"
    }
   },
   "outputs": [],
   "source": [
    "from Repairer import Repairer\n",
    "from Repairer import ConditionMutator, CrossoverOperator\n",
    "from Repairer import DeltaDebugger"
   ]
  },
  {
   "cell_type": "code",
   "execution_count": 25,
   "metadata": {
    "execution": {
     "iopub.execute_input": "2024-06-30T17:31:19.839622Z",
     "iopub.status.busy": "2024-06-30T17:31:19.839397Z",
     "iopub.status.idle": "2024-06-30T17:31:19.914403Z",
     "shell.execute_reply": "2024-06-30T17:31:19.913948Z"
    },
    "slideshow": {
     "slide_type": "subslide"
    }
   },
   "outputs": [
    {
     "name": "stdout",
     "output_type": "stream",
     "text": [
      "Target code to be repaired:\n",
      "\u001b[34mdef\u001b[39;49;00m \u001b[32menumerate\u001b[39;49;00m():\u001b[37m\u001b[39;49;00m\n",
      "\u001b[37m    \u001b[39;49;00m\u001b[33m\"\"\"Return a list of all Thread objects currently alive.\u001b[39;49;00m\n",
      "\u001b[33m\u001b[39;49;00m\n",
      "\u001b[33m    The list includes daemonic threads, dummy thread objects created by\u001b[39;49;00m\n",
      "\u001b[33m    current_thread(), and the main thread. It excludes terminated threads and\u001b[39;49;00m\n",
      "\u001b[33m    threads that have not yet been started.\u001b[39;49;00m\n",
      "\u001b[33m\u001b[39;49;00m\n",
      "\u001b[33m    \"\"\"\u001b[39;49;00m\u001b[37m\u001b[39;49;00m\n",
      "    \u001b[34mwith\u001b[39;49;00m _active_limbo_lock:\u001b[37m\u001b[39;49;00m\n",
      "        \u001b[34mreturn\u001b[39;49;00m \u001b[36mlist\u001b[39;49;00m(_active.values()) + \u001b[36mlist\u001b[39;49;00m(_limbo.values())\u001b[37m\u001b[39;49;00m\n",
      "\u001b[37m\u001b[39;49;00m\n",
      "\u001b[34mdef\u001b[39;49;00m \u001b[32mlarger\u001b[39;49;00m(x: Any, y: Any) -> Any:\u001b[37m\u001b[39;49;00m\n",
      "    \u001b[34mif\u001b[39;49;00m x < y:\u001b[37m\u001b[39;49;00m\n",
      "        \u001b[34mreturn\u001b[39;49;00m x\u001b[37m\u001b[39;49;00m\n",
      "    \u001b[34mreturn\u001b[39;49;00m y\u001b[37m\u001b[39;49;00m\n",
      "\n"
     ]
    },
    {
     "name": "stderr",
     "output_type": "stream",
     "text": [
      "Repairer.ipynb:664: UserWarning: Can't parse ident\n",
      "  warnings.warn(f\"Can't parse {item.__name__}\")\n",
      "Repairer.ipynb:664: UserWarning: Can't parse _clean_thread_parent_frames\n",
      "  warnings.warn(f\"Can't parse {item.__name__}\")\n",
      "Repairer.ipynb:664: UserWarning: Can't parse <setcomp>\n",
      "  warnings.warn(f\"Can't parse {item.__name__}\")\n"
     ]
    }
   ],
   "source": [
    "repairer = Repairer(larger_debugger, log=True)"
   ]
  },
  {
   "cell_type": "code",
   "execution_count": 26,
   "metadata": {
    "execution": {
     "iopub.execute_input": "2024-06-30T17:31:19.916137Z",
     "iopub.status.busy": "2024-06-30T17:31:19.915995Z",
     "iopub.status.idle": "2024-06-30T17:31:20.258767Z",
     "shell.execute_reply": "2024-06-30T17:31:20.258456Z"
    },
    "slideshow": {
     "slide_type": "subslide"
    }
   },
   "outputs": [
    {
     "name": "stdout",
     "output_type": "stream",
     "text": [
      "Evolving population: iteration   1/100 fitness = 1.0   \r\n",
      "Best code (fitness = 1.0):\n",
      "\u001b[34mdef\u001b[39;49;00m \u001b[32menumerate\u001b[39;49;00m():\u001b[37m\u001b[39;49;00m\n",
      "\u001b[37m    \u001b[39;49;00m\u001b[33m\"\"\"Return a list of all Thread objects currently alive.\u001b[39;49;00m\n",
      "\u001b[33m\u001b[39;49;00m\n",
      "\u001b[33m    The list includes daemonic threads, dummy thread objects created by\u001b[39;49;00m\n",
      "\u001b[33m    current_thread(), and the main thread. It excludes terminated threads and\u001b[39;49;00m\n",
      "\u001b[33m    threads that have not yet been started.\u001b[39;49;00m\n",
      "\u001b[33m\u001b[39;49;00m\n",
      "\u001b[33m    \"\"\"\u001b[39;49;00m\u001b[37m\u001b[39;49;00m\n",
      "    \u001b[34mwith\u001b[39;49;00m _active_limbo_lock:\u001b[37m\u001b[39;49;00m\n",
      "        \u001b[34mreturn\u001b[39;49;00m \u001b[36mlist\u001b[39;49;00m(_active.values()) + \u001b[36mlist\u001b[39;49;00m(_limbo.values())\u001b[37m\u001b[39;49;00m\n",
      "\u001b[37m\u001b[39;49;00m\n",
      "\u001b[34mdef\u001b[39;49;00m \u001b[32mlarger\u001b[39;49;00m(x: Any, y: Any) -> Any:\u001b[37m\u001b[39;49;00m\n",
      "    \u001b[34mif\u001b[39;49;00m x < y:\u001b[37m\u001b[39;49;00m\n",
      "        \u001b[34mreturn\u001b[39;49;00m y\u001b[37m\u001b[39;49;00m\n",
      "    \u001b[34mreturn\u001b[39;49;00m x\u001b[37m\u001b[39;49;00m\n",
      "    \u001b[34mreturn\u001b[39;49;00m y\u001b[37m\u001b[39;49;00m\n",
      "\n",
      "Reduced code (fitness = 1.0):\n",
      "\u001b[34mdef\u001b[39;49;00m \u001b[32menumerate\u001b[39;49;00m():\u001b[37m\u001b[39;49;00m\n",
      "\u001b[37m    \u001b[39;49;00m\u001b[33m\"\"\"Return a list of all Thread objects currently alive.\u001b[39;49;00m\n",
      "\u001b[33m    \"\"\"\u001b[39;49;00m\u001b[37m\u001b[39;49;00m\n",
      "\u001b[37m\u001b[39;49;00m\n",
      "\u001b[34mdef\u001b[39;49;00m \u001b[32mlarger\u001b[39;49;00m(x: Any, y: Any) -> Any:\u001b[37m\u001b[39;49;00m\n",
      "    \u001b[34mif\u001b[39;49;00m x < y:\u001b[37m\u001b[39;49;00m\n",
      "        \u001b[34mreturn\u001b[39;49;00m y\u001b[37m\u001b[39;49;00m\n",
      "    \u001b[34mreturn\u001b[39;49;00m x\u001b[37m\u001b[39;49;00m\n",
      "\n"
     ]
    },
    {
     "name": "stderr",
     "output_type": "stream",
     "text": [
      "Repairer.ipynb:754: UserWarning: Couldn't find definition of 'enumerate'\n",
      "  warnings.warn(f\"Couldn't find definition of {repr(name)}\")\n"
     ]
    }
   ],
   "source": [
    "best_tree, fitness = repairer.repair()  # type: ignore"
   ]
  },
  {
   "cell_type": "markdown",
   "metadata": {
    "slideshow": {
     "slide_type": "subslide"
    }
   },
   "source": [
    "The *Repairer* successfully produced a fix."
   ]
  },
  {
   "cell_type": "markdown",
   "metadata": {
    "slideshow": {
     "slide_type": "slide"
    }
   },
   "source": [
    "## Implementation\n",
    "\n",
    "As stated above, the goal of this project is to implement a repairer capable of producing a fix to the functions defined in *the Evaluation section*, as well as secret functions.  \n",
    "To do this, you need to work with the _Repairer_ class from the book.\n",
    "The _Repairer_ class is very configurable, so that it is easy to update and plug in various components: the fault localization (pass a different debugger that is a subclass of DifferenceDebugger), the mutation operator (set mutator_class to a subclass of `StatementMutator`), the crossover operator (set crossover_class to a subclass of `CrossoverOperator`), and the reduction algorithm (set reducer_class to a subclass of `Reducer`). You may change any of these components or make other changes at will."
   ]
  },
  {
   "cell_type": "markdown",
   "metadata": {
    "slideshow": {
     "slide_type": "subslide"
    }
   },
   "source": [
    "For us to be able to test your implementation, you will have to implement the `debug_and_repair()` function defined here."
   ]
  },
  {
   "cell_type": "code",
   "execution_count": 27,
   "metadata": {
    "execution": {
     "iopub.execute_input": "2024-06-30T17:31:20.260667Z",
     "iopub.status.busy": "2024-06-30T17:31:20.260518Z",
     "iopub.status.idle": "2024-06-30T17:31:20.262554Z",
     "shell.execute_reply": "2024-06-30T17:31:20.262257Z"
    },
    "slideshow": {
     "slide_type": "skip"
    }
   },
   "outputs": [],
   "source": [
    "from bookutils import print_content, show_ast"
   ]
  },
  {
   "cell_type": "code",
   "execution_count": 28,
   "metadata": {
    "execution": {
     "iopub.execute_input": "2024-06-30T17:31:20.264094Z",
     "iopub.status.busy": "2024-06-30T17:31:20.263975Z",
     "iopub.status.idle": "2024-06-30T17:31:20.266132Z",
     "shell.execute_reply": "2024-06-30T17:31:20.265876Z"
    },
    "slideshow": {
     "slide_type": "subslide"
    }
   },
   "outputs": [],
   "source": [
    "def debug_and_repair(f: Callable,\n",
    "                     testcases: List[Tuple[Any, ...]],\n",
    "                     test_function: Callable,\n",
    "                     log: bool = False) -> Optional[str]:\n",
    "    '''\n",
    "    Debugs a function with the given testcases and the test_function\n",
    "    and tries to repair it afterwards.\n",
    "\n",
    "    Parameters\n",
    "    ----------\n",
    "    f : function\n",
    "        The faulty function, to be debugged and repaired\n",
    "    testcases : List\n",
    "        A list that includes test inputs for the function under test\n",
    "    test_function : function\n",
    "        A function that takes the test inputs and tests whether the\n",
    "        function under test produces the correct output.\n",
    "    log: bool\n",
    "        Turn logging on/off.\n",
    "    Returns\n",
    "    -------\n",
    "    str\n",
    "        The repaired version of f as a string.\n",
    "    '''\n",
    "\n",
    "    # TODO: implement this function\n",
    "\n",
    "    return None"
   ]
  },
  {
   "cell_type": "markdown",
   "metadata": {
    "slideshow": {
     "slide_type": "subslide"
    }
   },
   "source": [
    "The function `debug_and_repair()` is the function that needs to implement everything. We will provide you with the function to be repaired, as well as testcases for this function and a test-function. Let us show you how the function can be used and should behave:"
   ]
  },
  {
   "cell_type": "code",
   "execution_count": 29,
   "metadata": {
    "execution": {
     "iopub.execute_input": "2024-06-30T17:31:20.267792Z",
     "iopub.status.busy": "2024-06-30T17:31:20.267670Z",
     "iopub.status.idle": "2024-06-30T17:31:20.269382Z",
     "shell.execute_reply": "2024-06-30T17:31:20.269099Z"
    },
    "slideshow": {
     "slide_type": "fragment"
    }
   },
   "outputs": [],
   "source": [
    "random.seed(42)"
   ]
  },
  {
   "cell_type": "code",
   "execution_count": 30,
   "metadata": {
    "execution": {
     "iopub.execute_input": "2024-06-30T17:31:20.270993Z",
     "iopub.status.busy": "2024-06-30T17:31:20.270869Z",
     "iopub.status.idle": "2024-06-30T17:31:20.272574Z",
     "shell.execute_reply": "2024-06-30T17:31:20.272307Z"
    },
    "slideshow": {
     "slide_type": "skip"
    }
   },
   "outputs": [],
   "source": [
    "import ast"
   ]
  },
  {
   "cell_type": "code",
   "execution_count": 31,
   "metadata": {
    "execution": {
     "iopub.execute_input": "2024-06-30T17:31:20.274129Z",
     "iopub.status.busy": "2024-06-30T17:31:20.274021Z",
     "iopub.status.idle": "2024-06-30T17:31:20.276984Z",
     "shell.execute_reply": "2024-06-30T17:31:20.276719Z"
    },
    "slideshow": {
     "slide_type": "subslide"
    }
   },
   "outputs": [],
   "source": [
    "def simple_debug_and_repair(f: Callable,\n",
    "                            testcases: List[Tuple[Any, ...]],\n",
    "                            test_function: Callable, \n",
    "                            log: bool = False) -> str:\n",
    "    '''\n",
    "    Debugs a function with the given testcases and the test_function\n",
    "    and tries to repair it afterwards.\n",
    "\n",
    "    Parameters\n",
    "    ----------\n",
    "    f : function\n",
    "        The faulty function, to be debugged and repaired\n",
    "    testcases : List\n",
    "        A list that includes test inputs for the function under test\n",
    "    test_function : function\n",
    "        A function, that takes the test inputs and tests whether the\n",
    "        function under test produces the correct output.\n",
    "    log: bool\n",
    "        Turn logging on/off.\n",
    "    Returns\n",
    "    -------\n",
    "    str\n",
    "        The repaired version of f as a string.\n",
    "    '''\n",
    "\n",
    "    debugger = OchiaiDebugger()\n",
    "\n",
    "    for i in testcases:\n",
    "        with debugger:\n",
    "            test_function(*i)  # Ensure that you use *i here.\n",
    "\n",
    "    repairer = Repairer(debugger,\n",
    "                        mutator_class=ConditionMutator,\n",
    "                        crossover_class=CrossoverOperator,\n",
    "                        reducer_class=DeltaDebugger,\n",
    "                        log=log)\n",
    "\n",
    "    # Ensure that you specify a sufficient number of\n",
    "    # iterations to evolve.\n",
    "    best_tree, fitness = repairer.repair(iterations=100)  # type: ignore\n",
    "\n",
    "    return ast.unparse(best_tree)"
   ]
  },
  {
   "cell_type": "markdown",
   "metadata": {
    "slideshow": {
     "slide_type": "subslide"
    }
   },
   "source": [
    "Here we again used the _Ochiai_ statistical debugger and the _Repairer_ described in [The Debugging Book](https://www.debuggingbook.org/beta/html/Repairer.html). In contrast to the initial example, now we used another type of mutator – `ConditionMutator`. It can successfully fix the `larger` function as well."
   ]
  },
  {
   "cell_type": "code",
   "execution_count": 32,
   "metadata": {
    "execution": {
     "iopub.execute_input": "2024-06-30T17:31:20.278677Z",
     "iopub.status.busy": "2024-06-30T17:31:20.278546Z",
     "iopub.status.idle": "2024-06-30T17:31:20.398094Z",
     "shell.execute_reply": "2024-06-30T17:31:20.397797Z"
    },
    "slideshow": {
     "slide_type": "fragment"
    }
   },
   "outputs": [
    {
     "name": "stdout",
     "output_type": "stream",
     "text": [
      "\u001b[34mdef\u001b[39;49;00m \u001b[32mlarger\u001b[39;49;00m(x: Any, y: Any) -> Any:\u001b[37m\u001b[39;49;00m\n",
      "    \u001b[34mif\u001b[39;49;00m \u001b[35mnot\u001b[39;49;00m x < y:\u001b[37m\u001b[39;49;00m\n",
      "        \u001b[34mreturn\u001b[39;49;00m x\u001b[37m\u001b[39;49;00m\n",
      "    \u001b[34mreturn\u001b[39;49;00m y\u001b[37m\u001b[39;49;00m"
     ]
    }
   ],
   "source": [
    "repaired = simple_debug_and_repair(larger,\n",
    "                                   LARGER_PASSING_TESTCASES +\n",
    "                                   LARGER_FAILING_TESTCASES,\n",
    "                                   larger_test, False)\n",
    "print_content(repaired, '.py')"
   ]
  },
  {
   "cell_type": "markdown",
   "metadata": {
    "slideshow": {
     "slide_type": "subslide"
    }
   },
   "source": [
    "Although `simple_debug_and_repair` produced a correct solution for our example, it does not generalize to other functions.  \n",
    "So your task is to create the `debug_and_repair()` function which can be applied on any faulty function."
   ]
  },
  {
   "cell_type": "markdown",
   "metadata": {
    "slideshow": {
     "slide_type": "fragment"
    }
   },
   "source": [
    "Apart from the function `debug_and_repair()`, you may of course implement your own classes. Make sure, however, that you are using these classes within `debug_and_repair()`. Also, keep in mind to tune the _iteration_ parameter of the `Repairer` so that it has sufficient number of generation to evolve. As it may take too much time to find a solution for an ill-programmed repairer (e.g., consider an infinite `while`loop introduced in the fix), we impose a _10-minute timeout_ for each repair."
   ]
  },
  {
   "cell_type": "markdown",
   "metadata": {
    "slideshow": {
     "slide_type": "slide"
    }
   },
   "source": [
    "## Evaluation"
   ]
  },
  {
   "cell_type": "markdown",
   "metadata": {
    "slideshow": {
     "slide_type": "fragment"
    }
   },
   "source": [
    "Having you implement `debug_and_repair()` allows us to easily test your implementation by calling the function with its respective arguments and testing the correctness of its output. In this section, we will provide you with some test cases as well as the testing framework for this project. This will help you to assess the quality of your work.  \n",
    "\n",
    "We define functions as well as test-case generators for these functions. The functions given here should be considered as **public tests**. If you pass all public tests, without hard-coding the solutions, you are guaranteed to achieve **10 points**. The secret tests for the remaining 10 must-have-points have similar defects."
   ]
  },
  {
   "cell_type": "raw",
   "metadata": {
    "slideshow": {
     "slide_type": "skip"
    }
   },
   "source": []
  },
  {
   "cell_type": "markdown",
   "metadata": {
    "slideshow": {
     "slide_type": "subslide"
    }
   },
   "source": [
    "### Factorial\n",
    "\n",
    "The first function we implement is a _factorial_ function. It is supposed to compute the following formula:  \n",
    "\\begin{equation*}\n",
    "n! = \\textit{factorial}(n) = \\prod_{k=1}^{n}k, \\quad \\text{for $k\\geq 1$}\n",
    "\\end{equation*}"
   ]
  },
  {
   "cell_type": "markdown",
   "metadata": {
    "slideshow": {
     "slide_type": "fragment"
    }
   },
   "source": [
    "Here we define three faulty functions `factorial1`, `factorial2`, and `factorial3` that are supposed to compute the factorial."
   ]
  },
  {
   "cell_type": "code",
   "execution_count": 33,
   "metadata": {
    "execution": {
     "iopub.execute_input": "2024-06-30T17:31:20.400002Z",
     "iopub.status.busy": "2024-06-30T17:31:20.399870Z",
     "iopub.status.idle": "2024-06-30T17:31:20.401927Z",
     "shell.execute_reply": "2024-06-30T17:31:20.401676Z"
    },
    "slideshow": {
     "slide_type": "subslide"
    }
   },
   "outputs": [],
   "source": [
    "def factorial1(n):  # type: ignore\n",
    "    res = 1\n",
    "    for i in range(1, n):\n",
    "        res *= i\n",
    "    return res"
   ]
  },
  {
   "cell_type": "markdown",
   "metadata": {
    "slideshow": {
     "slide_type": "fragment"
    }
   },
   "source": [
    "From the first sight, `factorial1` looks to be correctly implemented, still it produces the wrong answer:"
   ]
  },
  {
   "cell_type": "code",
   "execution_count": 34,
   "metadata": {
    "execution": {
     "iopub.execute_input": "2024-06-30T17:31:20.403547Z",
     "iopub.status.busy": "2024-06-30T17:31:20.403429Z",
     "iopub.status.idle": "2024-06-30T17:31:20.405799Z",
     "shell.execute_reply": "2024-06-30T17:31:20.405516Z"
    },
    "slideshow": {
     "slide_type": "fragment"
    }
   },
   "outputs": [
    {
     "data": {
      "text/plain": [
       "24"
      ]
     },
     "execution_count": 34,
     "metadata": {},
     "output_type": "execute_result"
    }
   ],
   "source": [
    "factorial1(5)"
   ]
  },
  {
   "cell_type": "markdown",
   "metadata": {
    "slideshow": {
     "slide_type": "fragment"
    }
   },
   "source": [
    "while the correct value for 5! is 120."
   ]
  },
  {
   "cell_type": "code",
   "execution_count": 35,
   "metadata": {
    "execution": {
     "iopub.execute_input": "2024-06-30T17:31:20.407361Z",
     "iopub.status.busy": "2024-06-30T17:31:20.407238Z",
     "iopub.status.idle": "2024-06-30T17:31:20.409121Z",
     "shell.execute_reply": "2024-06-30T17:31:20.408852Z"
    },
    "slideshow": {
     "slide_type": "fragment"
    }
   },
   "outputs": [],
   "source": [
    "def factorial_testcase() -> int:\n",
    "    n = random.randrange(100)\n",
    "    return n"
   ]
  },
  {
   "cell_type": "code",
   "execution_count": 36,
   "metadata": {
    "execution": {
     "iopub.execute_input": "2024-06-30T17:31:20.410705Z",
     "iopub.status.busy": "2024-06-30T17:31:20.410595Z",
     "iopub.status.idle": "2024-06-30T17:31:20.412483Z",
     "shell.execute_reply": "2024-06-30T17:31:20.412226Z"
    },
    "slideshow": {
     "slide_type": "subslide"
    }
   },
   "outputs": [],
   "source": [
    "def factorial1_test(n: int) -> None:\n",
    "    m = factorial1(n)\n",
    "    assert m == math.factorial(n)"
   ]
  },
  {
   "cell_type": "code",
   "execution_count": 37,
   "metadata": {
    "execution": {
     "iopub.execute_input": "2024-06-30T17:31:20.414119Z",
     "iopub.status.busy": "2024-06-30T17:31:20.413978Z",
     "iopub.status.idle": "2024-06-30T17:31:20.416181Z",
     "shell.execute_reply": "2024-06-30T17:31:20.415881Z"
    },
    "slideshow": {
     "slide_type": "fragment"
    }
   },
   "outputs": [],
   "source": [
    "def factorial_passing_testcase() -> Tuple:\n",
    "    while True:\n",
    "        try:\n",
    "            n = factorial_testcase()\n",
    "            factorial1_test(n)\n",
    "            return (n,)\n",
    "        except AssertionError:\n",
    "            pass"
   ]
  },
  {
   "cell_type": "code",
   "execution_count": 38,
   "metadata": {
    "execution": {
     "iopub.execute_input": "2024-06-30T17:31:20.417732Z",
     "iopub.status.busy": "2024-06-30T17:31:20.417619Z",
     "iopub.status.idle": "2024-06-30T17:31:20.419598Z",
     "shell.execute_reply": "2024-06-30T17:31:20.419360Z"
    },
    "slideshow": {
     "slide_type": "subslide"
    }
   },
   "outputs": [],
   "source": [
    "def factorial_failing_testcase() -> Tuple:\n",
    "    while True:\n",
    "        try:\n",
    "            n = factorial_testcase()\n",
    "            factorial1_test(n)\n",
    "        except AssertionError:\n",
    "            return (n,)"
   ]
  },
  {
   "cell_type": "code",
   "execution_count": 39,
   "metadata": {
    "execution": {
     "iopub.execute_input": "2024-06-30T17:31:20.421091Z",
     "iopub.status.busy": "2024-06-30T17:31:20.420963Z",
     "iopub.status.idle": "2024-06-30T17:31:20.439463Z",
     "shell.execute_reply": "2024-06-30T17:31:20.439173Z"
    },
    "slideshow": {
     "slide_type": "fragment"
    }
   },
   "outputs": [],
   "source": [
    "FACTORIAL_PASSING_TESTCASES_1 = [factorial_passing_testcase() for i in range(TESTS)]"
   ]
  },
  {
   "cell_type": "code",
   "execution_count": 40,
   "metadata": {
    "execution": {
     "iopub.execute_input": "2024-06-30T17:31:20.441168Z",
     "iopub.status.busy": "2024-06-30T17:31:20.441033Z",
     "iopub.status.idle": "2024-06-30T17:31:20.443375Z",
     "shell.execute_reply": "2024-06-30T17:31:20.443082Z"
    },
    "slideshow": {
     "slide_type": "fragment"
    }
   },
   "outputs": [],
   "source": [
    "FACTORIAL_FAILING_TESTCASES_1 = [factorial_failing_testcase() for i in range(TESTS)]"
   ]
  },
  {
   "cell_type": "markdown",
   "metadata": {
    "slideshow": {
     "slide_type": "fragment"
    }
   },
   "source": [
    "As we can see, our simple Repairer cannot produce a fix. (Or more precisely, the \"fix\" it produces is pretty much pointless.)"
   ]
  },
  {
   "cell_type": "code",
   "execution_count": 41,
   "metadata": {
    "execution": {
     "iopub.execute_input": "2024-06-30T17:31:20.445004Z",
     "iopub.status.busy": "2024-06-30T17:31:20.444878Z",
     "iopub.status.idle": "2024-06-30T17:31:24.968100Z",
     "shell.execute_reply": "2024-06-30T17:31:24.967795Z"
    },
    "slideshow": {
     "slide_type": "subslide"
    }
   },
   "outputs": [
    {
     "name": "stdout",
     "output_type": "stream",
     "text": [
      "Target code to be repaired:\n",
      "\u001b[34mdef\u001b[39;49;00m \u001b[32mfactorial1\u001b[39;49;00m(n):\u001b[37m\u001b[39;49;00m\n",
      "    res = \u001b[34m1\u001b[39;49;00m\u001b[37m\u001b[39;49;00m\n",
      "    \u001b[34mfor\u001b[39;49;00m i \u001b[35min\u001b[39;49;00m \u001b[36mrange\u001b[39;49;00m(\u001b[34m1\u001b[39;49;00m, n):\u001b[37m\u001b[39;49;00m\n",
      "        res *= i\u001b[37m\u001b[39;49;00m\n",
      "    \u001b[34mreturn\u001b[39;49;00m res\u001b[37m\u001b[39;49;00m\n",
      "\n",
      "Evolving population: iteration  99/100 fitness = 0.99   \r\n",
      "Best code (fitness = 0.99):\n",
      "\u001b[34mdef\u001b[39;49;00m \u001b[32mfactorial1\u001b[39;49;00m(n):\u001b[37m\u001b[39;49;00m\n",
      "    res = \u001b[34m1\u001b[39;49;00m\u001b[37m\u001b[39;49;00m\n",
      "    \u001b[34mpass\u001b[39;49;00m\u001b[37m\u001b[39;49;00m\n",
      "    \u001b[34mreturn\u001b[39;49;00m res\u001b[37m\u001b[39;49;00m\n",
      "\n",
      "Reduced code (fitness = 0.99):\n",
      "\u001b[34mdef\u001b[39;49;00m \u001b[32mfactorial1\u001b[39;49;00m(n):\u001b[37m\u001b[39;49;00m\n",
      "    res = \u001b[34m1\u001b[39;49;00m\u001b[37m\u001b[39;49;00m\n",
      "    \u001b[34mreturn\u001b[39;49;00m res\u001b[37m\u001b[39;49;00m\n",
      "\n"
     ]
    }
   ],
   "source": [
    "repaired = \\\n",
    "    simple_debug_and_repair(factorial1,\n",
    "                            FACTORIAL_PASSING_TESTCASES_1 +\n",
    "                            FACTORIAL_FAILING_TESTCASES_1,\n",
    "                            factorial1_test, True)"
   ]
  },
  {
   "cell_type": "markdown",
   "metadata": {
    "slideshow": {
     "slide_type": "subslide"
    }
   },
   "source": [
    "The problem is that the current `Repairer` does not provide a suitable mutation to change the right part of the code.\n",
    "\n",
    "How can we repair this? Consider extending `StatementMutator` operator such that it can mutate various parts of the code, such as ranges, arithmetic operations, variable names etc. (As a reference of how to do that, look at the `ConditionMutator` class.)"
   ]
  },
  {
   "cell_type": "markdown",
   "metadata": {
    "slideshow": {
     "slide_type": "fragment"
    }
   },
   "source": [
    "The next faulty function is `factorial2()`:"
   ]
  },
  {
   "cell_type": "code",
   "execution_count": 42,
   "metadata": {
    "execution": {
     "iopub.execute_input": "2024-06-30T17:31:24.969773Z",
     "iopub.status.busy": "2024-06-30T17:31:24.969652Z",
     "iopub.status.idle": "2024-06-30T17:31:24.971539Z",
     "shell.execute_reply": "2024-06-30T17:31:24.971265Z"
    },
    "slideshow": {
     "slide_type": "fragment"
    }
   },
   "outputs": [],
   "source": [
    "def factorial2(n):  # type: ignore\n",
    "    i = 1\n",
    "    for i in range(1, n + 1):\n",
    "        i *= i\n",
    "    return i"
   ]
  },
  {
   "cell_type": "markdown",
   "metadata": {
    "slideshow": {
     "slide_type": "fragment"
    }
   },
   "source": [
    "Again, it outputs the incorrect answer:"
   ]
  },
  {
   "cell_type": "code",
   "execution_count": 43,
   "metadata": {
    "execution": {
     "iopub.execute_input": "2024-06-30T17:31:24.972957Z",
     "iopub.status.busy": "2024-06-30T17:31:24.972855Z",
     "iopub.status.idle": "2024-06-30T17:31:24.974972Z",
     "shell.execute_reply": "2024-06-30T17:31:24.974735Z"
    },
    "slideshow": {
     "slide_type": "subslide"
    }
   },
   "outputs": [
    {
     "data": {
      "text/plain": [
       "25"
      ]
     },
     "execution_count": 43,
     "metadata": {},
     "output_type": "execute_result"
    }
   ],
   "source": [
    "factorial2(5)"
   ]
  },
  {
   "cell_type": "code",
   "execution_count": 44,
   "metadata": {
    "execution": {
     "iopub.execute_input": "2024-06-30T17:31:24.976384Z",
     "iopub.status.busy": "2024-06-30T17:31:24.976279Z",
     "iopub.status.idle": "2024-06-30T17:31:24.977986Z",
     "shell.execute_reply": "2024-06-30T17:31:24.977744Z"
    },
    "slideshow": {
     "slide_type": "fragment"
    }
   },
   "outputs": [],
   "source": [
    "def factorial2_test(n: int) -> None:\n",
    "    m = factorial2(n)\n",
    "    assert m == math.factorial(n)"
   ]
  },
  {
   "cell_type": "code",
   "execution_count": 45,
   "metadata": {
    "execution": {
     "iopub.execute_input": "2024-06-30T17:31:24.979361Z",
     "iopub.status.busy": "2024-06-30T17:31:24.979275Z",
     "iopub.status.idle": "2024-06-30T17:31:24.981295Z",
     "shell.execute_reply": "2024-06-30T17:31:24.981036Z"
    },
    "slideshow": {
     "slide_type": "fragment"
    }
   },
   "outputs": [],
   "source": [
    "def factorial_passing_testcase() -> Tuple:  # type: ignore\n",
    "    while True:\n",
    "        try:\n",
    "            n = factorial_testcase()\n",
    "            factorial2_test(n)\n",
    "            return (n,)\n",
    "        except AssertionError:\n",
    "            pass"
   ]
  },
  {
   "cell_type": "code",
   "execution_count": 46,
   "metadata": {
    "execution": {
     "iopub.execute_input": "2024-06-30T17:31:24.982717Z",
     "iopub.status.busy": "2024-06-30T17:31:24.982608Z",
     "iopub.status.idle": "2024-06-30T17:31:24.984513Z",
     "shell.execute_reply": "2024-06-30T17:31:24.984280Z"
    },
    "slideshow": {
     "slide_type": "subslide"
    }
   },
   "outputs": [],
   "source": [
    "def factorial_failing_testcase() -> Tuple:  # type: ignore\n",
    "    while True:\n",
    "        try:\n",
    "            n = factorial_testcase()\n",
    "            factorial2_test(n)\n",
    "        except AssertionError:\n",
    "            return (n,)"
   ]
  },
  {
   "cell_type": "code",
   "execution_count": 47,
   "metadata": {
    "execution": {
     "iopub.execute_input": "2024-06-30T17:31:24.985998Z",
     "iopub.status.busy": "2024-06-30T17:31:24.985897Z",
     "iopub.status.idle": "2024-06-30T17:31:24.995707Z",
     "shell.execute_reply": "2024-06-30T17:31:24.995462Z"
    },
    "slideshow": {
     "slide_type": "fragment"
    }
   },
   "outputs": [],
   "source": [
    "FACTORIAL_PASSING_TESTCASES_2 = [factorial_passing_testcase()\n",
    "                                 for i in range(TESTS)]"
   ]
  },
  {
   "cell_type": "code",
   "execution_count": 48,
   "metadata": {
    "execution": {
     "iopub.execute_input": "2024-06-30T17:31:24.997087Z",
     "iopub.status.busy": "2024-06-30T17:31:24.997003Z",
     "iopub.status.idle": "2024-06-30T17:31:24.999111Z",
     "shell.execute_reply": "2024-06-30T17:31:24.998860Z"
    },
    "slideshow": {
     "slide_type": "fragment"
    }
   },
   "outputs": [],
   "source": [
    "FACTORIAL_FAILING_TESTCASES_2 = [factorial_failing_testcase()\n",
    "                                 for i in range(TESTS)]"
   ]
  },
  {
   "cell_type": "markdown",
   "metadata": {
    "slideshow": {
     "slide_type": "fragment"
    }
   },
   "source": [
    "The third faulty function is `factorial3()`:"
   ]
  },
  {
   "cell_type": "code",
   "execution_count": 49,
   "metadata": {
    "execution": {
     "iopub.execute_input": "2024-06-30T17:31:25.000537Z",
     "iopub.status.busy": "2024-06-30T17:31:25.000453Z",
     "iopub.status.idle": "2024-06-30T17:31:25.002315Z",
     "shell.execute_reply": "2024-06-30T17:31:25.002071Z"
    },
    "slideshow": {
     "slide_type": "subslide"
    }
   },
   "outputs": [],
   "source": [
    "def factorial3(n):  # type: ignore\n",
    "    res = 1\n",
    "    for i in range(1, n + 1):\n",
    "        res += i\n",
    "    return res"
   ]
  },
  {
   "cell_type": "code",
   "execution_count": 50,
   "metadata": {
    "execution": {
     "iopub.execute_input": "2024-06-30T17:31:25.004381Z",
     "iopub.status.busy": "2024-06-30T17:31:25.004280Z",
     "iopub.status.idle": "2024-06-30T17:31:25.006333Z",
     "shell.execute_reply": "2024-06-30T17:31:25.006091Z"
    },
    "slideshow": {
     "slide_type": "fragment"
    }
   },
   "outputs": [
    {
     "data": {
      "text/plain": [
       "16"
      ]
     },
     "execution_count": 50,
     "metadata": {},
     "output_type": "execute_result"
    }
   ],
   "source": [
    "factorial3(5)"
   ]
  },
  {
   "cell_type": "code",
   "execution_count": 51,
   "metadata": {
    "execution": {
     "iopub.execute_input": "2024-06-30T17:31:25.007760Z",
     "iopub.status.busy": "2024-06-30T17:31:25.007657Z",
     "iopub.status.idle": "2024-06-30T17:31:25.009435Z",
     "shell.execute_reply": "2024-06-30T17:31:25.009206Z"
    },
    "slideshow": {
     "slide_type": "fragment"
    }
   },
   "outputs": [],
   "source": [
    "def factorial3_test(n: int) -> None:\n",
    "    m = factorial3(n)\n",
    "    assert m == math.factorial(n)"
   ]
  },
  {
   "cell_type": "code",
   "execution_count": 52,
   "metadata": {
    "execution": {
     "iopub.execute_input": "2024-06-30T17:31:25.010983Z",
     "iopub.status.busy": "2024-06-30T17:31:25.010884Z",
     "iopub.status.idle": "2024-06-30T17:31:25.012774Z",
     "shell.execute_reply": "2024-06-30T17:31:25.012542Z"
    },
    "slideshow": {
     "slide_type": "subslide"
    }
   },
   "outputs": [],
   "source": [
    "def factorial_passing_testcase() -> Tuple:  # type: ignore\n",
    "    while True:\n",
    "        try:\n",
    "            n = factorial_testcase()\n",
    "            factorial3_test(n)\n",
    "            return (n,)\n",
    "        except AssertionError:\n",
    "            pass"
   ]
  },
  {
   "cell_type": "code",
   "execution_count": 53,
   "metadata": {
    "execution": {
     "iopub.execute_input": "2024-06-30T17:31:25.014199Z",
     "iopub.status.busy": "2024-06-30T17:31:25.014097Z",
     "iopub.status.idle": "2024-06-30T17:31:25.016002Z",
     "shell.execute_reply": "2024-06-30T17:31:25.015766Z"
    },
    "slideshow": {
     "slide_type": "fragment"
    }
   },
   "outputs": [],
   "source": [
    "def factorial_failing_testcase() -> Tuple:  # type: ignore\n",
    "    while True:\n",
    "        try:\n",
    "            n = factorial_testcase()\n",
    "            factorial3_test(n)\n",
    "        except AssertionError:\n",
    "            return (n,)"
   ]
  },
  {
   "cell_type": "code",
   "execution_count": 54,
   "metadata": {
    "execution": {
     "iopub.execute_input": "2024-06-30T17:31:25.017378Z",
     "iopub.status.busy": "2024-06-30T17:31:25.017281Z",
     "iopub.status.idle": "2024-06-30T17:31:25.033824Z",
     "shell.execute_reply": "2024-06-30T17:31:25.033585Z"
    },
    "slideshow": {
     "slide_type": "subslide"
    }
   },
   "outputs": [],
   "source": [
    "FACTORIAL_PASSING_TESTCASES_3 = [factorial_passing_testcase()\n",
    "                                 for i in range(TESTS)]"
   ]
  },
  {
   "cell_type": "code",
   "execution_count": 55,
   "metadata": {
    "execution": {
     "iopub.execute_input": "2024-06-30T17:31:25.035192Z",
     "iopub.status.busy": "2024-06-30T17:31:25.035110Z",
     "iopub.status.idle": "2024-06-30T17:31:25.037120Z",
     "shell.execute_reply": "2024-06-30T17:31:25.036890Z"
    },
    "slideshow": {
     "slide_type": "fragment"
    }
   },
   "outputs": [],
   "source": [
    "FACTORIAL_FAILING_TESTCASES_3 = [factorial_failing_testcase()\n",
    "                                 for i in range(TESTS)]"
   ]
  },
  {
   "cell_type": "markdown",
   "metadata": {
    "slideshow": {
     "slide_type": "subslide"
    }
   },
   "source": [
    "### Middle\n",
    "\n",
    "The following faulty function is the already well known _Middle_ function, though with another defect."
   ]
  },
  {
   "cell_type": "code",
   "execution_count": 56,
   "metadata": {
    "execution": {
     "iopub.execute_input": "2024-06-30T17:31:25.038593Z",
     "iopub.status.busy": "2024-06-30T17:31:25.038510Z",
     "iopub.status.idle": "2024-06-30T17:31:25.040611Z",
     "shell.execute_reply": "2024-06-30T17:31:25.040369Z"
    },
    "slideshow": {
     "slide_type": "subslide"
    }
   },
   "outputs": [],
   "source": [
    "def middle(x, y, z):  # type: ignore\n",
    "    if x < x:\n",
    "        if y < z:\n",
    "            return y\n",
    "        if x < z:\n",
    "            return z\n",
    "        return x\n",
    "    if x < z:\n",
    "        return x\n",
    "    if y < z:\n",
    "        return z\n",
    "    return y"
   ]
  },
  {
   "cell_type": "markdown",
   "metadata": {
    "slideshow": {
     "slide_type": "fragment"
    }
   },
   "source": [
    "It should return the second largest number of the input, but it does not:"
   ]
  },
  {
   "cell_type": "code",
   "execution_count": 57,
   "metadata": {
    "execution": {
     "iopub.execute_input": "2024-06-30T17:31:25.042031Z",
     "iopub.status.busy": "2024-06-30T17:31:25.041952Z",
     "iopub.status.idle": "2024-06-30T17:31:25.044074Z",
     "shell.execute_reply": "2024-06-30T17:31:25.043810Z"
    },
    "slideshow": {
     "slide_type": "subslide"
    }
   },
   "outputs": [
    {
     "data": {
      "text/plain": [
       "3"
      ]
     },
     "execution_count": 57,
     "metadata": {},
     "output_type": "execute_result"
    }
   ],
   "source": [
    "middle(2, 3, 1)"
   ]
  },
  {
   "cell_type": "code",
   "execution_count": 58,
   "metadata": {
    "execution": {
     "iopub.execute_input": "2024-06-30T17:31:25.045578Z",
     "iopub.status.busy": "2024-06-30T17:31:25.045481Z",
     "iopub.status.idle": "2024-06-30T17:31:25.047360Z",
     "shell.execute_reply": "2024-06-30T17:31:25.047128Z"
    },
    "slideshow": {
     "slide_type": "fragment"
    }
   },
   "outputs": [],
   "source": [
    "def middle_testcase() -> Tuple:\n",
    "    x = random.randrange(10)\n",
    "    y = random.randrange(10)\n",
    "    z = random.randrange(10)\n",
    "    return x, y, z"
   ]
  },
  {
   "cell_type": "code",
   "execution_count": 59,
   "metadata": {
    "execution": {
     "iopub.execute_input": "2024-06-30T17:31:25.048804Z",
     "iopub.status.busy": "2024-06-30T17:31:25.048698Z",
     "iopub.status.idle": "2024-06-30T17:31:25.050585Z",
     "shell.execute_reply": "2024-06-30T17:31:25.050352Z"
    },
    "slideshow": {
     "slide_type": "fragment"
    }
   },
   "outputs": [],
   "source": [
    "def middle_test(x: int, y: int, z: int) -> None:\n",
    "    m = middle(x, y, z)\n",
    "    assert m == sorted([x, y, z])[1]"
   ]
  },
  {
   "cell_type": "code",
   "execution_count": 60,
   "metadata": {
    "execution": {
     "iopub.execute_input": "2024-06-30T17:31:25.051965Z",
     "iopub.status.busy": "2024-06-30T17:31:25.051864Z",
     "iopub.status.idle": "2024-06-30T17:31:25.053813Z",
     "shell.execute_reply": "2024-06-30T17:31:25.053578Z"
    },
    "slideshow": {
     "slide_type": "subslide"
    }
   },
   "outputs": [],
   "source": [
    "def middle_passing_testcase() -> Tuple:\n",
    "    while True:\n",
    "        try:\n",
    "            x, y, z = middle_testcase()\n",
    "            middle_test(x, y, z)\n",
    "            return x, y, z\n",
    "        except AssertionError:\n",
    "            pass"
   ]
  },
  {
   "cell_type": "code",
   "execution_count": 61,
   "metadata": {
    "execution": {
     "iopub.execute_input": "2024-06-30T17:31:25.055250Z",
     "iopub.status.busy": "2024-06-30T17:31:25.055150Z",
     "iopub.status.idle": "2024-06-30T17:31:25.057054Z",
     "shell.execute_reply": "2024-06-30T17:31:25.056817Z"
    },
    "slideshow": {
     "slide_type": "fragment"
    }
   },
   "outputs": [],
   "source": [
    "def middle_failing_testcase() -> Tuple:\n",
    "    while True:\n",
    "        try:\n",
    "            x, y, z = middle_testcase()\n",
    "            middle_test(x, y, z)\n",
    "        except AssertionError:\n",
    "            return x, y, z"
   ]
  },
  {
   "cell_type": "code",
   "execution_count": 62,
   "metadata": {
    "execution": {
     "iopub.execute_input": "2024-06-30T17:31:25.058499Z",
     "iopub.status.busy": "2024-06-30T17:31:25.058399Z",
     "iopub.status.idle": "2024-06-30T17:31:25.060352Z",
     "shell.execute_reply": "2024-06-30T17:31:25.060120Z"
    },
    "slideshow": {
     "slide_type": "subslide"
    }
   },
   "outputs": [],
   "source": [
    "MIDDLE_PASSING_TESTCASES = [middle_passing_testcase()\n",
    "                            for i in range(TESTS)]"
   ]
  },
  {
   "cell_type": "code",
   "execution_count": 63,
   "metadata": {
    "execution": {
     "iopub.execute_input": "2024-06-30T17:31:25.061710Z",
     "iopub.status.busy": "2024-06-30T17:31:25.061604Z",
     "iopub.status.idle": "2024-06-30T17:31:25.063825Z",
     "shell.execute_reply": "2024-06-30T17:31:25.063572Z"
    },
    "slideshow": {
     "slide_type": "fragment"
    }
   },
   "outputs": [],
   "source": [
    "MIDDLE_FAILING_TESTCASES = [middle_failing_testcase()\n",
    "                            for i in range(TESTS)]"
   ]
  },
  {
   "cell_type": "markdown",
   "metadata": {
    "slideshow": {
     "slide_type": "subslide"
    }
   },
   "source": [
    "### Power\n",
    "\n",
    "The power function should implement the following formular:\n",
    "\\begin{equation*}\n",
    "\\textit{power}(x, n) = x^n, \\quad \\text{for $x\\geq 0$ and $n \\geq 0$}\n",
    "\\end{equation*}"
   ]
  },
  {
   "cell_type": "code",
   "execution_count": 64,
   "metadata": {
    "execution": {
     "iopub.execute_input": "2024-06-30T17:31:25.065291Z",
     "iopub.status.busy": "2024-06-30T17:31:25.065191Z",
     "iopub.status.idle": "2024-06-30T17:31:25.067036Z",
     "shell.execute_reply": "2024-06-30T17:31:25.066813Z"
    },
    "slideshow": {
     "slide_type": "fragment"
    }
   },
   "outputs": [],
   "source": [
    "def power(x, n):  # type: ignore\n",
    "    res = 1\n",
    "    for i in range(0, x):\n",
    "        res *= n\n",
    "    return res"
   ]
  },
  {
   "cell_type": "markdown",
   "metadata": {
    "slideshow": {
     "slide_type": "fragment"
    }
   },
   "source": [
    "However, this `power()` function either has an uncommon interpretation of $x^y$ – or it is simply wrong:"
   ]
  },
  {
   "cell_type": "code",
   "execution_count": 65,
   "metadata": {
    "execution": {
     "iopub.execute_input": "2024-06-30T17:31:25.068481Z",
     "iopub.status.busy": "2024-06-30T17:31:25.068380Z",
     "iopub.status.idle": "2024-06-30T17:31:25.070553Z",
     "shell.execute_reply": "2024-06-30T17:31:25.070300Z"
    },
    "slideshow": {
     "slide_type": "subslide"
    }
   },
   "outputs": [
    {
     "data": {
      "text/plain": [
       "25"
      ]
     },
     "execution_count": 65,
     "metadata": {},
     "output_type": "execute_result"
    }
   ],
   "source": [
    "power(2, 5)"
   ]
  },
  {
   "cell_type": "markdown",
   "metadata": {
    "slideshow": {
     "slide_type": "fragment"
    }
   },
   "source": [
    "We go with the simpler explanation that `power()` is wrong. The correct value, of course, should be $2^5 = 32$."
   ]
  },
  {
   "cell_type": "code",
   "execution_count": 66,
   "metadata": {
    "execution": {
     "iopub.execute_input": "2024-06-30T17:31:25.072026Z",
     "iopub.status.busy": "2024-06-30T17:31:25.071927Z",
     "iopub.status.idle": "2024-06-30T17:31:25.073720Z",
     "shell.execute_reply": "2024-06-30T17:31:25.073499Z"
    },
    "slideshow": {
     "slide_type": "fragment"
    }
   },
   "outputs": [],
   "source": [
    "def power_testcase() -> Tuple:\n",
    "    x = random.randrange(100)\n",
    "    n = random.randrange(100)\n",
    "    return x, n"
   ]
  },
  {
   "cell_type": "code",
   "execution_count": 67,
   "metadata": {
    "execution": {
     "iopub.execute_input": "2024-06-30T17:31:25.075065Z",
     "iopub.status.busy": "2024-06-30T17:31:25.074971Z",
     "iopub.status.idle": "2024-06-30T17:31:25.076601Z",
     "shell.execute_reply": "2024-06-30T17:31:25.076365Z"
    },
    "slideshow": {
     "slide_type": "fragment"
    }
   },
   "outputs": [],
   "source": [
    "def power_test(x: int, n: int) -> None:\n",
    "    m = power(x, n)\n",
    "    assert m == pow(x, n)"
   ]
  },
  {
   "cell_type": "code",
   "execution_count": 68,
   "metadata": {
    "execution": {
     "iopub.execute_input": "2024-06-30T17:31:25.077918Z",
     "iopub.status.busy": "2024-06-30T17:31:25.077840Z",
     "iopub.status.idle": "2024-06-30T17:31:25.079786Z",
     "shell.execute_reply": "2024-06-30T17:31:25.079554Z"
    },
    "slideshow": {
     "slide_type": "subslide"
    }
   },
   "outputs": [],
   "source": [
    "def power_passing_testcase() -> Tuple:\n",
    "    while True:\n",
    "        try:\n",
    "            x, n = power_testcase()\n",
    "            power_test(x, n)\n",
    "            return x, n\n",
    "        except AssertionError:\n",
    "            pass"
   ]
  },
  {
   "cell_type": "code",
   "execution_count": 69,
   "metadata": {
    "execution": {
     "iopub.execute_input": "2024-06-30T17:31:25.081154Z",
     "iopub.status.busy": "2024-06-30T17:31:25.081066Z",
     "iopub.status.idle": "2024-06-30T17:31:25.083027Z",
     "shell.execute_reply": "2024-06-30T17:31:25.082782Z"
    },
    "slideshow": {
     "slide_type": "fragment"
    }
   },
   "outputs": [],
   "source": [
    "def power_failing_testcase() -> Tuple:\n",
    "    while True:\n",
    "        try:\n",
    "            x, n = power_testcase()\n",
    "            power_test(x, n)\n",
    "        except AssertionError:\n",
    "            return x, n"
   ]
  },
  {
   "cell_type": "code",
   "execution_count": 70,
   "metadata": {
    "execution": {
     "iopub.execute_input": "2024-06-30T17:31:25.084520Z",
     "iopub.status.busy": "2024-06-30T17:31:25.084429Z",
     "iopub.status.idle": "2024-06-30T17:31:25.113940Z",
     "shell.execute_reply": "2024-06-30T17:31:25.113678Z"
    },
    "slideshow": {
     "slide_type": "subslide"
    }
   },
   "outputs": [],
   "source": [
    "POWER_PASSING_TESTCASES = [power_passing_testcase()\n",
    "                           for i in range(TESTS)]"
   ]
  },
  {
   "cell_type": "code",
   "execution_count": 71,
   "metadata": {
    "execution": {
     "iopub.execute_input": "2024-06-30T17:31:25.115363Z",
     "iopub.status.busy": "2024-06-30T17:31:25.115277Z",
     "iopub.status.idle": "2024-06-30T17:31:25.117563Z",
     "shell.execute_reply": "2024-06-30T17:31:25.117317Z"
    },
    "slideshow": {
     "slide_type": "fragment"
    }
   },
   "outputs": [],
   "source": [
    "POWER_FAILING_TESTCASES = [power_failing_testcase()\n",
    "                           for i in range(TESTS)]"
   ]
  },
  {
   "cell_type": "markdown",
   "metadata": {
    "slideshow": {
     "slide_type": "subslide"
    }
   },
   "source": [
    "### Tester Class"
   ]
  },
  {
   "cell_type": "markdown",
   "metadata": {
    "slideshow": {
     "slide_type": "fragment"
    }
   },
   "source": [
    "To make it convenient to test your solution we provide a testing framework:"
   ]
  },
  {
   "cell_type": "code",
   "execution_count": 72,
   "metadata": {
    "execution": {
     "iopub.execute_input": "2024-06-30T17:31:25.119080Z",
     "iopub.status.busy": "2024-06-30T17:31:25.118994Z",
     "iopub.status.idle": "2024-06-30T17:31:25.120637Z",
     "shell.execute_reply": "2024-06-30T17:31:25.120418Z"
    },
    "slideshow": {
     "slide_type": "skip"
    }
   },
   "outputs": [],
   "source": [
    "import re"
   ]
  },
  {
   "cell_type": "code",
   "execution_count": 73,
   "metadata": {
    "execution": {
     "iopub.execute_input": "2024-06-30T17:31:25.122106Z",
     "iopub.status.busy": "2024-06-30T17:31:25.122023Z",
     "iopub.status.idle": "2024-06-30T17:31:25.124768Z",
     "shell.execute_reply": "2024-06-30T17:31:25.124526Z"
    },
    "slideshow": {
     "slide_type": "subslide"
    }
   },
   "outputs": [],
   "source": [
    "class Test:\n",
    "    def __init__(self,\n",
    "                 function: Callable,\n",
    "                 testcases: List, \n",
    "                 test_function: Callable,\n",
    "                 assert_function: Callable) -> None:\n",
    "        self.function = function\n",
    "        self.testcases = testcases\n",
    "        self.test_function = test_function\n",
    "        self.assert_function = assert_function\n",
    "\n",
    "    def run(self, repair_function: Callable) -> None:\n",
    "        repaired = repair_function(self.function,\n",
    "                                   self.testcases,\n",
    "                                   self.test_function)\n",
    "        repaired = re.sub(self.function.__name__, 'foo', repaired)\n",
    "        exec(repaired, globals())\n",
    "\n",
    "        for test in self.testcases:\n",
    "            res = foo(*test)  # type: ignore\n",
    "            assert res == self.assert_function(*test)"
   ]
  },
  {
   "cell_type": "code",
   "execution_count": 74,
   "metadata": {
    "execution": {
     "iopub.execute_input": "2024-06-30T17:31:25.126142Z",
     "iopub.status.busy": "2024-06-30T17:31:25.126035Z",
     "iopub.status.idle": "2024-06-30T17:31:25.127666Z",
     "shell.execute_reply": "2024-06-30T17:31:25.127417Z"
    },
    "slideshow": {
     "slide_type": "subslide"
    }
   },
   "outputs": [],
   "source": [
    "def middle_assert(x, y, z):  # type: ignore\n",
    "    return sorted([x, y, z])[1]"
   ]
  },
  {
   "cell_type": "code",
   "execution_count": 75,
   "metadata": {
    "execution": {
     "iopub.execute_input": "2024-06-30T17:31:25.128999Z",
     "iopub.status.busy": "2024-06-30T17:31:25.128911Z",
     "iopub.status.idle": "2024-06-30T17:31:25.131108Z",
     "shell.execute_reply": "2024-06-30T17:31:25.130878Z"
    },
    "slideshow": {
     "slide_type": "fragment"
    }
   },
   "outputs": [],
   "source": [
    "test0 = Test(factorial1, FACTORIAL_PASSING_TESTCASES_1 + FACTORIAL_FAILING_TESTCASES_1, factorial1_test, math.factorial)\n",
    "test1 = Test(factorial2, FACTORIAL_PASSING_TESTCASES_2 + FACTORIAL_FAILING_TESTCASES_2, factorial2_test, math.factorial)\n",
    "test2 = Test(factorial3, FACTORIAL_PASSING_TESTCASES_3 + FACTORIAL_FAILING_TESTCASES_3, factorial3_test, math.factorial)\n",
    "test3 = Test(middle, MIDDLE_PASSING_TESTCASES + MIDDLE_FAILING_TESTCASES, middle_test, middle_assert)\n",
    "test4 = Test(power, POWER_PASSING_TESTCASES + POWER_FAILING_TESTCASES, power_test, pow)"
   ]
  },
  {
   "cell_type": "code",
   "execution_count": 76,
   "metadata": {
    "execution": {
     "iopub.execute_input": "2024-06-30T17:31:25.132532Z",
     "iopub.status.busy": "2024-06-30T17:31:25.132451Z",
     "iopub.status.idle": "2024-06-30T17:31:25.134266Z",
     "shell.execute_reply": "2024-06-30T17:31:25.133982Z"
    },
    "slideshow": {
     "slide_type": "fragment"
    }
   },
   "outputs": [],
   "source": [
    "tests = [test0, test1, test2, test3, test4]"
   ]
  },
  {
   "cell_type": "code",
   "execution_count": 77,
   "metadata": {
    "execution": {
     "iopub.execute_input": "2024-06-30T17:31:25.135603Z",
     "iopub.status.busy": "2024-06-30T17:31:25.135513Z",
     "iopub.status.idle": "2024-06-30T17:31:25.137982Z",
     "shell.execute_reply": "2024-06-30T17:31:25.137741Z"
    },
    "slideshow": {
     "slide_type": "subslide"
    }
   },
   "outputs": [],
   "source": [
    "class Tester:\n",
    "    def __init__(self, function: Callable, tests: List) -> None:\n",
    "        self.function = function\n",
    "        self.tests = tests\n",
    "        random.seed(42)  # We use this seed for our evaluation; don't change it.\n",
    "\n",
    "    def run_tests(self) -> None:\n",
    "        for test in self.tests:\n",
    "            try:\n",
    "                test.run(self.function)\n",
    "                print(f'Test {test.function.__name__}: OK')\n",
    "            except AssertionError:\n",
    "                print(f'Test {test.function.__name__}: Failed')"
   ]
  },
  {
   "cell_type": "code",
   "execution_count": 78,
   "metadata": {
    "execution": {
     "iopub.execute_input": "2024-06-30T17:31:25.139510Z",
     "iopub.status.busy": "2024-06-30T17:31:25.139415Z",
     "iopub.status.idle": "2024-06-30T17:32:09.151328Z",
     "shell.execute_reply": "2024-06-30T17:32:09.151042Z"
    },
    "slideshow": {
     "slide_type": "subslide"
    }
   },
   "outputs": [
    {
     "name": "stdout",
     "output_type": "stream",
     "text": [
      "Test factorial1: Failed\n",
      "Test factorial2: Failed\n",
      "Test factorial3: Failed\n",
      "Test middle: Failed\n",
      "Test power: Failed\n"
     ]
    }
   ],
   "source": [
    "tester = Tester(simple_debug_and_repair, tests)  # TODO: replace simple_debug_and_repair by your debug_and_repair function\n",
    "tester.run_tests()"
   ]
  },
  {
   "cell_type": "markdown",
   "metadata": {
    "slideshow": {
     "slide_type": "fragment"
    }
   },
   "source": [
    "By executing the `Tester` as shown above, you can assess the quality of your repairing approach, by testing your own `debug_and_repair()` function."
   ]
  },
  {
   "cell_type": "markdown",
   "metadata": {
    "slideshow": {
     "slide_type": "slide"
    }
   },
   "source": [
    "## Grading\n",
    "\n",
    "Your project will be graded by _automated tests_. The tests are executed in the same manner as shown above.\n",
    "In total there are **20 points** + **10 bonus points** to be awarded for this project. **20 points** for the must-haves, **10 bonus points** for may-haves."
   ]
  },
  {
   "cell_type": "markdown",
   "metadata": {
    "slideshow": {
     "slide_type": "subslide"
    }
   },
   "source": [
    "### Must-Haves (20 points)\n",
    "\n",
    "Must haves include an implementation of the `debug_and_repair` function in a way that it automatically repairs faulty functions given sufficiantly large test suites.\n",
    "**10 points** are awarded for passing the tests in this notebook. Each passing test being worth two points.\n",
    "**10 points** are awarded for passing secret tests."
   ]
  },
  {
   "cell_type": "markdown",
   "metadata": {
    "slideshow": {
     "slide_type": "subslide"
    }
   },
   "source": [
    "### May-Haves (10 points)\n",
    "\n",
    "May-haves will also be tested with secret tests, and award **2 points** each. The may-have-features for this project are a more robust implementation, that is able to cope with a wider range of defects:\n",
    "\n",
    "* Infinite loops\n",
    "* Infinite recursion (`RecursionError` in Python)\n",
    "* Type errors (`TypeError` in Python)\n",
    "* Undefined identifiers (`NameError` in Python)"
   ]
  },
  {
   "cell_type": "markdown",
   "metadata": {
    "slideshow": {
     "slide_type": "subslide"
    }
   },
   "source": [
    "### General Rules\n",
    "\n",
    "You need to achieve at least **10 points** to be awarded any points at all.  \n",
    "Tests must be passed without hard-coding results, otherwise no points are awarded.  \n",
    "Your code needs to be sufficiently documented in order to achieve points!"
   ]
  }
 ],
 "metadata": {
  "ipub": {
   "bibliography": "fuzzingbook.bib"
  },
  "kernelspec": {
   "display_name": "Python 3 (ipykernel)",
   "language": "python",
   "name": "python3"
  },
  "language_info": {
   "codemirror_mode": {
    "name": "ipython",
    "version": 3
   },
   "file_extension": ".py",
   "mimetype": "text/x-python",
   "name": "python",
   "nbconvert_exporter": "python",
   "pygments_lexer": "ipython3",
   "version": "3.10.2"
  },
  "toc": {
   "base_numbering": 1,
   "nav_menu": {},
   "number_sections": true,
   "sideBar": true,
   "skip_h1_title": true,
   "title_cell": "",
   "title_sidebar": "Contents",
   "toc_cell": false,
   "toc_position": {},
   "toc_section_display": true,
   "toc_window_display": true
  },
  "toc-autonumbering": false
 },
 "nbformat": 4,
 "nbformat_minor": 4
}
