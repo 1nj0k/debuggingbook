{
 "cells": [
  {
   "cell_type": "markdown",
   "metadata": {
    "button": false,
    "new_sheet": false,
    "run_control": {
     "read_only": false
    },
    "slideshow": {
     "slide_type": "slide"
    }
   },
   "source": [
    "# Failure-Inducing Changes\n",
    "\n",
    "_Brief abstract/introduction/motivation.  State what the chapter is about in 1-2 paragraphs._\n",
    "_Then, have an introduction video:_"
   ]
  },
  {
   "cell_type": "code",
   "execution_count": 1,
   "metadata": {
    "slideshow": {
     "slide_type": "skip"
    }
   },
   "outputs": [
    {
     "data": {
      "text/html": [
       "\n",
       "        <iframe\n",
       "            width=\"640\"\n",
       "            height=\"360\"\n",
       "            src=\"https://www.youtube-nocookie.com/embed/w4u5gCgPlmg\"\n",
       "            frameborder=\"0\"\n",
       "            allowfullscreen\n",
       "        ></iframe>\n",
       "        "
      ],
      "text/plain": [
       "<IPython.lib.display.IFrame at 0x7fa530205898>"
      ]
     },
     "execution_count": 1,
     "metadata": {},
     "output_type": "execute_result"
    }
   ],
   "source": [
    "from bookutils import YouTubeVideo\n",
    "YouTubeVideo(\"w4u5gCgPlmg\")"
   ]
  },
  {
   "cell_type": "markdown",
   "metadata": {
    "button": false,
    "new_sheet": false,
    "run_control": {
     "read_only": false
    },
    "slideshow": {
     "slide_type": "subslide"
    }
   },
   "source": [
    "**Prerequisites**\n",
    "\n",
    "* _Refer to earlier chapters as notebooks here, as here:_ [Earlier Chapter](Fuzzer.ipynb)."
   ]
  },
  {
   "cell_type": "code",
   "execution_count": 2,
   "metadata": {
    "button": false,
    "new_sheet": false,
    "run_control": {
     "read_only": false
    },
    "slideshow": {
     "slide_type": "skip"
    }
   },
   "outputs": [],
   "source": [
    "import bookutils"
   ]
  },
  {
   "cell_type": "code",
   "execution_count": 3,
   "metadata": {
    "slideshow": {
     "slide_type": "skip"
    }
   },
   "outputs": [],
   "source": [
    "from bookutils import quiz, print_file, print_content"
   ]
  },
  {
   "cell_type": "markdown",
   "metadata": {
    "slideshow": {
     "slide_type": "skip"
    }
   },
   "source": [
    "## Synopsis\n",
    "<!-- Automatically generated. Do not edit. -->\n",
    "\n",
    "To [use the code provided in this chapter](Importing.ipynb), write\n",
    "\n",
    "```python\n",
    ">>> from debuggingbook.ChangeDebugger import <identifier>\n",
    "```\n",
    "\n",
    "and then make use of the following features.\n",
    "\n",
    "\n",
    "_For those only interested in using the code in this chapter (without wanting to know how it works), give an example.  This will be copied to the beginning of the chapter (before the first section) as text with rendered input and output._\n",
    "\n",
    "You can use `int_fuzzer()` as:\n",
    "\n",
    "```python\n",
    ">>> print(int_fuzzer())\n",
    "76.5\n",
    "```\n"
   ]
  },
  {
   "cell_type": "markdown",
   "metadata": {
    "button": false,
    "new_sheet": true,
    "run_control": {
     "read_only": false
    },
    "slideshow": {
     "slide_type": "slide"
    }
   },
   "source": [
    "## A Version History\n",
    "\n",
    "Using the `remove_html_markup()` versions from [the introduction to debugging](Intro_Debugging.ipynb) and [the chapter on assertions](Assertions.ipynb), we create a little version history."
   ]
  },
  {
   "cell_type": "markdown",
   "metadata": {
    "slideshow": {
     "slide_type": "subslide"
    }
   },
   "source": [
    "### Create a Working Directory"
   ]
  },
  {
   "cell_type": "code",
   "execution_count": 4,
   "metadata": {
    "slideshow": {
     "slide_type": "fragment"
    }
   },
   "outputs": [],
   "source": [
    "PROJECT = 'my_project'"
   ]
  },
  {
   "cell_type": "code",
   "execution_count": 5,
   "metadata": {
    "slideshow": {
     "slide_type": "skip"
    }
   },
   "outputs": [],
   "source": [
    "import os\n",
    "import shutil"
   ]
  },
  {
   "cell_type": "code",
   "execution_count": 6,
   "metadata": {
    "slideshow": {
     "slide_type": "fragment"
    }
   },
   "outputs": [],
   "source": [
    "try:\n",
    "    shutil.rmtree(PROJECT)\n",
    "except FileNotFoundError:\n",
    "    pass\n",
    "os.mkdir(PROJECT)"
   ]
  },
  {
   "cell_type": "code",
   "execution_count": 7,
   "metadata": {
    "slideshow": {
     "slide_type": "skip"
    }
   },
   "outputs": [],
   "source": [
    "import sys"
   ]
  },
  {
   "cell_type": "code",
   "execution_count": 8,
   "metadata": {
    "slideshow": {
     "slide_type": "fragment"
    }
   },
   "outputs": [],
   "source": [
    "sys.path.append(os.getcwd())\n",
    "os.chdir(PROJECT)"
   ]
  },
  {
   "cell_type": "markdown",
   "metadata": {
    "slideshow": {
     "slide_type": "subslide"
    }
   },
   "source": [
    "### Initialize git"
   ]
  },
  {
   "cell_type": "code",
   "execution_count": 9,
   "metadata": {
    "slideshow": {
     "slide_type": "fragment"
    }
   },
   "outputs": [
    {
     "name": "stdout",
     "output_type": "stream",
     "text": [
      "Initialized empty Git repository in /Users/zeller/Projects/debuggingbook/notebooks/my_project/.git/\r\n"
     ]
    }
   ],
   "source": [
    "!git init"
   ]
  },
  {
   "cell_type": "code",
   "execution_count": 10,
   "metadata": {
    "slideshow": {
     "slide_type": "fragment"
    }
   },
   "outputs": [],
   "source": [
    "!git config advice.detachedHead False"
   ]
  },
  {
   "cell_type": "code",
   "execution_count": 11,
   "metadata": {
    "slideshow": {
     "slide_type": "subslide"
    }
   },
   "outputs": [],
   "source": [
    "def remove_html_markup(s):\n",
    "    tag = False\n",
    "    out = \"\"\n",
    "\n",
    "    for c in s:\n",
    "        if c == '<':    # start of markup\n",
    "            tag = True\n",
    "        elif c == '>':  # end of markup\n",
    "            tag = False\n",
    "        elif not tag:\n",
    "            out = out + c\n",
    "\n",
    "    return out"
   ]
  },
  {
   "cell_type": "code",
   "execution_count": 12,
   "metadata": {
    "slideshow": {
     "slide_type": "skip"
    }
   },
   "outputs": [],
   "source": [
    "import inspect"
   ]
  },
  {
   "cell_type": "code",
   "execution_count": 13,
   "metadata": {
    "slideshow": {
     "slide_type": "subslide"
    }
   },
   "outputs": [],
   "source": [
    "def write_source(fun, filename=None):\n",
    "    if filename is None:\n",
    "        filename = fun.__name__ + '.py'\n",
    "    with open(filename, 'w') as fh:\n",
    "        fh.write(inspect.getsource(fun))"
   ]
  },
  {
   "cell_type": "code",
   "execution_count": 14,
   "metadata": {
    "slideshow": {
     "slide_type": "fragment"
    }
   },
   "outputs": [],
   "source": [
    "write_source(remove_html_markup)"
   ]
  },
  {
   "cell_type": "code",
   "execution_count": 15,
   "metadata": {
    "slideshow": {
     "slide_type": "subslide"
    }
   },
   "outputs": [
    {
     "name": "stdout",
     "output_type": "stream",
     "text": [
      "\u001b[34mdef\u001b[39;49;00m \u001b[32mremove_html_markup\u001b[39;49;00m(s):\n",
      "    tag = \u001b[34mFalse\u001b[39;49;00m\n",
      "    out = \u001b[33m\"\u001b[39;49;00m\u001b[33m\"\u001b[39;49;00m\n",
      "\n",
      "    \u001b[34mfor\u001b[39;49;00m c \u001b[35min\u001b[39;49;00m s:\n",
      "        \u001b[34mif\u001b[39;49;00m c == \u001b[33m'\u001b[39;49;00m\u001b[33m<\u001b[39;49;00m\u001b[33m'\u001b[39;49;00m:    \u001b[37m# start of markup\u001b[39;49;00m\n",
      "            tag = \u001b[34mTrue\u001b[39;49;00m\n",
      "        \u001b[34melif\u001b[39;49;00m c == \u001b[33m'\u001b[39;49;00m\u001b[33m>\u001b[39;49;00m\u001b[33m'\u001b[39;49;00m:  \u001b[37m# end of markup\u001b[39;49;00m\n",
      "            tag = \u001b[34mFalse\u001b[39;49;00m\n",
      "        \u001b[34melif\u001b[39;49;00m \u001b[35mnot\u001b[39;49;00m tag:\n",
      "            out = out + c\n",
      "\n",
      "    \u001b[34mreturn\u001b[39;49;00m out"
     ]
    }
   ],
   "source": [
    "print_file('remove_html_markup.py')"
   ]
  },
  {
   "cell_type": "code",
   "execution_count": 16,
   "metadata": {
    "slideshow": {
     "slide_type": "fragment"
    }
   },
   "outputs": [],
   "source": [
    "!git add remove_html_markup.py"
   ]
  },
  {
   "cell_type": "code",
   "execution_count": 17,
   "metadata": {
    "slideshow": {
     "slide_type": "subslide"
    }
   },
   "outputs": [
    {
     "name": "stdout",
     "output_type": "stream",
     "text": [
      "[master (root-commit) 6a89ebb] First version\r\n",
      " 1 file changed, 13 insertions(+)\r\n",
      " create mode 100644 remove_html_markup.py\r\n"
     ]
    }
   ],
   "source": [
    "!git commit -m \"First version\""
   ]
  },
  {
   "cell_type": "code",
   "execution_count": 18,
   "metadata": {
    "slideshow": {
     "slide_type": "subslide"
    }
   },
   "outputs": [],
   "source": [
    "def remove_html_markup(s):\n",
    "    tag = False\n",
    "    quote = False\n",
    "    out = \"\"\n",
    "\n",
    "    for c in s:\n",
    "        if c == '<' and not quote:\n",
    "            tag = True\n",
    "        elif c == '>' and not quote:\n",
    "            tag = False\n",
    "        elif c == '\"' or c == \"'\" and tag:\n",
    "            quote = not quote\n",
    "        elif not tag:\n",
    "            out = out + c\n",
    "\n",
    "    return out"
   ]
  },
  {
   "cell_type": "code",
   "execution_count": 19,
   "metadata": {
    "slideshow": {
     "slide_type": "subslide"
    }
   },
   "outputs": [],
   "source": [
    "write_source(remove_html_markup)"
   ]
  },
  {
   "cell_type": "code",
   "execution_count": 20,
   "metadata": {
    "slideshow": {
     "slide_type": "subslide"
    }
   },
   "outputs": [
    {
     "name": "stdout",
     "output_type": "stream",
     "text": [
      "\u001b[1mdiff --git a/remove_html_markup.py b/remove_html_markup.py\u001b[m\r\n",
      "\u001b[1mindex 759df23..6e41b5b 100644\u001b[m\r\n",
      "\u001b[1m--- a/remove_html_markup.py\u001b[m\r\n",
      "\u001b[1m+++ b/remove_html_markup.py\u001b[m\r\n",
      "\u001b[36m@@ -1,12 +1,15 @@\u001b[m\r\n",
      " def remove_html_markup(s):\u001b[m\r\n",
      "     tag = False\u001b[m\r\n",
      "\u001b[32m+\u001b[m\u001b[32m    quote = False\u001b[m\r\n",
      "     out = \"\"\u001b[m\r\n",
      " \u001b[m\r\n",
      "     for c in s:\u001b[m\r\n",
      "\u001b[31m-        if c == '<':    # start of markup\u001b[m\r\n",
      "\u001b[32m+\u001b[m\u001b[32m        if c == '<' and not quote:\u001b[m\r\n",
      "             tag = True\u001b[m\r\n",
      "\u001b[31m-        elif c == '>':  # end of markup\u001b[m\r\n",
      "\u001b[32m+\u001b[m\u001b[32m        elif c == '>' and not quote:\u001b[m\r\n",
      "             tag = False\u001b[m\r\n",
      "\u001b[32m+\u001b[m\u001b[32m        elif c == '\"' or c == \"'\" and tag:\u001b[m\r\n",
      "\u001b[32m+\u001b[m\u001b[32m            quote = not quote\u001b[m\r\n",
      "         elif not tag:\u001b[m\r\n",
      "             out = out + c\u001b[m\r\n",
      " \u001b[m\r\n"
     ]
    }
   ],
   "source": [
    "!git diff remove_html_markup.py"
   ]
  },
  {
   "cell_type": "code",
   "execution_count": 21,
   "metadata": {
    "slideshow": {
     "slide_type": "subslide"
    }
   },
   "outputs": [
    {
     "name": "stdout",
     "output_type": "stream",
     "text": [
      "[master aa2ff76] Second version\r\n",
      " 1 file changed, 5 insertions(+), 2 deletions(-)\r\n"
     ]
    }
   ],
   "source": [
    "!git commit -m \"Second version\" remove_html_markup.py"
   ]
  },
  {
   "cell_type": "code",
   "execution_count": 22,
   "metadata": {
    "slideshow": {
     "slide_type": "subslide"
    }
   },
   "outputs": [],
   "source": [
    "def remove_html_markup(s):\n",
    "    tag = False\n",
    "    quote = False\n",
    "    out = \"\"\n",
    "\n",
    "    for c in s:\n",
    "        print(\"c =\", repr(c), \"tag =\", tag, \"quote =\", quote)\n",
    "\n",
    "        if c == '<' and not quote:\n",
    "            tag = True\n",
    "        elif c == '>' and not quote:\n",
    "            tag = False\n",
    "        elif c == '\"' or c == \"'\" and tag:\n",
    "            quote = not quote\n",
    "        elif not tag:\n",
    "            out = out + c\n",
    "\n",
    "    return out"
   ]
  },
  {
   "cell_type": "code",
   "execution_count": 23,
   "metadata": {
    "slideshow": {
     "slide_type": "subslide"
    }
   },
   "outputs": [],
   "source": [
    "write_source(remove_html_markup)"
   ]
  },
  {
   "cell_type": "code",
   "execution_count": 24,
   "metadata": {
    "slideshow": {
     "slide_type": "fragment"
    }
   },
   "outputs": [
    {
     "name": "stdout",
     "output_type": "stream",
     "text": [
      "[master 27256a0] Third version (with debugging output)\r\n",
      " 1 file changed, 2 insertions(+)\r\n"
     ]
    }
   ],
   "source": [
    "!git commit -m \"Third version (with debugging output)\" remove_html_markup.py"
   ]
  },
  {
   "cell_type": "code",
   "execution_count": 25,
   "metadata": {
    "slideshow": {
     "slide_type": "subslide"
    }
   },
   "outputs": [],
   "source": [
    "def remove_html_markup(s):\n",
    "    tag = False\n",
    "    quote = False\n",
    "    out = \"\"\n",
    "\n",
    "    for c in s:\n",
    "        if c == '<':  # and not quote:\n",
    "            tag = True\n",
    "        elif c == '>':  # and not quote:\n",
    "            tag = False\n",
    "        elif c == '\"' or c == \"'\" and tag:\n",
    "            quote = not quote\n",
    "        elif not tag:\n",
    "            out = out + c\n",
    "\n",
    "    return out"
   ]
  },
  {
   "cell_type": "code",
   "execution_count": 26,
   "metadata": {
    "slideshow": {
     "slide_type": "subslide"
    }
   },
   "outputs": [],
   "source": [
    "write_source(remove_html_markup)"
   ]
  },
  {
   "cell_type": "code",
   "execution_count": 27,
   "metadata": {
    "slideshow": {
     "slide_type": "fragment"
    }
   },
   "outputs": [
    {
     "name": "stdout",
     "output_type": "stream",
     "text": [
      "[master 437cf32] Fourth version (clueless)\r\n",
      " 1 file changed, 2 insertions(+), 4 deletions(-)\r\n"
     ]
    }
   ],
   "source": [
    "!git commit -m \"Fourth version (clueless)\" remove_html_markup.py"
   ]
  },
  {
   "cell_type": "code",
   "execution_count": 28,
   "metadata": {
    "slideshow": {
     "slide_type": "subslide"
    }
   },
   "outputs": [],
   "source": [
    "def remove_html_markup(s):\n",
    "    tag = False\n",
    "    quote = False\n",
    "    out = \"\"\n",
    "\n",
    "    for c in s:\n",
    "        assert not tag  # <=== Just added\n",
    "\n",
    "        if c == '<' and not quote:\n",
    "            tag = True\n",
    "        elif c == '>' and not quote:\n",
    "            tag = False\n",
    "        elif c == '\"' or c == \"'\" and tag:\n",
    "            quote = not quote\n",
    "        elif not tag:\n",
    "            out = out + c\n",
    "\n",
    "    return out"
   ]
  },
  {
   "cell_type": "code",
   "execution_count": 29,
   "metadata": {
    "slideshow": {
     "slide_type": "subslide"
    }
   },
   "outputs": [],
   "source": [
    "write_source(remove_html_markup)"
   ]
  },
  {
   "cell_type": "code",
   "execution_count": 30,
   "metadata": {
    "slideshow": {
     "slide_type": "fragment"
    }
   },
   "outputs": [
    {
     "name": "stdout",
     "output_type": "stream",
     "text": [
      "[master fad2251] Fifth version (with assert)\r\n",
      " 1 file changed, 4 insertions(+), 2 deletions(-)\r\n"
     ]
    }
   ],
   "source": [
    "!git commit -m \"Fifth version (with assert)\" remove_html_markup.py"
   ]
  },
  {
   "cell_type": "code",
   "execution_count": 31,
   "metadata": {
    "slideshow": {
     "slide_type": "subslide"
    }
   },
   "outputs": [],
   "source": [
    "def remove_html_markup(s):\n",
    "    tag = False\n",
    "    quote = False\n",
    "    out = \"\"\n",
    "\n",
    "    for c in s:\n",
    "        if c == '<' and not quote:\n",
    "            tag = True\n",
    "        elif c == '>' and not quote:\n",
    "            tag = False\n",
    "        elif c == '\"' or c == \"'\" and tag:\n",
    "            assert False  # <=== Just added\n",
    "            quote = not quote\n",
    "        elif not tag:\n",
    "            out = out + c\n",
    "\n",
    "    return out"
   ]
  },
  {
   "cell_type": "code",
   "execution_count": 32,
   "metadata": {
    "slideshow": {
     "slide_type": "subslide"
    }
   },
   "outputs": [],
   "source": [
    "write_source(remove_html_markup)"
   ]
  },
  {
   "cell_type": "code",
   "execution_count": 33,
   "metadata": {
    "slideshow": {
     "slide_type": "fragment"
    }
   },
   "outputs": [
    {
     "name": "stdout",
     "output_type": "stream",
     "text": [
      "[master 9e08431] Sixth version (with another assert)\r\n",
      " 1 file changed, 1 insertion(+), 2 deletions(-)\r\n"
     ]
    }
   ],
   "source": [
    "!git commit -m \"Sixth version (with another assert)\" remove_html_markup.py"
   ]
  },
  {
   "cell_type": "code",
   "execution_count": 34,
   "metadata": {
    "slideshow": {
     "slide_type": "subslide"
    }
   },
   "outputs": [],
   "source": [
    "def remove_html_markup(s):\n",
    "    tag = False\n",
    "    quote = False\n",
    "    out = \"\"\n",
    "\n",
    "    for c in s:\n",
    "        if c == '<' and not quote:\n",
    "            tag = True\n",
    "        elif c == '>' and not quote:\n",
    "            tag = False\n",
    "        elif (c == '\"' or c == \"'\") and tag:  # <-- FIX\n",
    "            quote = not quote\n",
    "        elif not tag:\n",
    "            out = out + c\n",
    "\n",
    "    return out"
   ]
  },
  {
   "cell_type": "code",
   "execution_count": 35,
   "metadata": {
    "slideshow": {
     "slide_type": "subslide"
    }
   },
   "outputs": [],
   "source": [
    "write_source(remove_html_markup)"
   ]
  },
  {
   "cell_type": "code",
   "execution_count": 36,
   "metadata": {
    "slideshow": {
     "slide_type": "fragment"
    }
   },
   "outputs": [
    {
     "name": "stdout",
     "output_type": "stream",
     "text": [
      "[master d63e37e] Seventh version (fixed)\r\n",
      " 1 file changed, 1 insertion(+), 2 deletions(-)\r\n"
     ]
    }
   ],
   "source": [
    "!git commit -m \"Seventh version (fixed)\" remove_html_markup.py"
   ]
  },
  {
   "cell_type": "code",
   "execution_count": 37,
   "metadata": {
    "slideshow": {
     "slide_type": "subslide"
    }
   },
   "outputs": [],
   "source": [
    "def remove_html_markup(s):\n",
    "    tag = False\n",
    "    quote = False\n",
    "    out = \"\"\n",
    "\n",
    "    for c in s:\n",
    "        if c == '<' and not quote:\n",
    "            tag = True\n",
    "        elif c == '>' and not quote:\n",
    "            tag = False\n",
    "        elif c == '\"' or c == \"'\" and tag:\n",
    "            quote = not quote\n",
    "        elif not tag:\n",
    "            out = out + c\n",
    "\n",
    "    # postcondition\n",
    "    assert '<' not in out and '>' not in out\n",
    "\n",
    "    return out"
   ]
  },
  {
   "cell_type": "code",
   "execution_count": 38,
   "metadata": {
    "slideshow": {
     "slide_type": "subslide"
    }
   },
   "outputs": [],
   "source": [
    "write_source(remove_html_markup)"
   ]
  },
  {
   "cell_type": "code",
   "execution_count": 39,
   "metadata": {
    "slideshow": {
     "slide_type": "fragment"
    }
   },
   "outputs": [
    {
     "name": "stdout",
     "output_type": "stream",
     "text": [
      "[master 0ddc57a] Eighth version (with proper assertion)\r\n",
      " 1 file changed, 4 insertions(+), 1 deletion(-)\r\n"
     ]
    }
   ],
   "source": [
    "!git commit -m \"Eighth version (with proper assertion)\" remove_html_markup.py"
   ]
  },
  {
   "cell_type": "markdown",
   "metadata": {
    "slideshow": {
     "slide_type": "fragment"
    }
   },
   "source": [
    "We find that the latest version has an error."
   ]
  },
  {
   "cell_type": "code",
   "execution_count": 40,
   "metadata": {
    "slideshow": {
     "slide_type": "skip"
    }
   },
   "outputs": [],
   "source": [
    "from ExpectError import ExpectError"
   ]
  },
  {
   "cell_type": "code",
   "execution_count": 41,
   "metadata": {
    "slideshow": {
     "slide_type": "fragment"
    }
   },
   "outputs": [
    {
     "name": "stderr",
     "output_type": "stream",
     "text": [
      "Traceback (most recent call last):\n",
      "  File \"<ipython-input-41-839bf760c807>\", line 2, in <module>\n",
      "    assert remove_html_markup('\"foo\"') == '\"foo\"'\n",
      "AssertionError (expected)\n"
     ]
    }
   ],
   "source": [
    "with ExpectError():\n",
    "    assert remove_html_markup('\"foo\"') == '\"foo\"'"
   ]
  },
  {
   "cell_type": "markdown",
   "metadata": {
    "slideshow": {
     "slide_type": "fragment"
    }
   },
   "source": [
    "When did the error occur?"
   ]
  },
  {
   "cell_type": "markdown",
   "metadata": {
    "slideshow": {
     "slide_type": "slide"
    }
   },
   "source": [
    "## Accessing Versions"
   ]
  },
  {
   "cell_type": "code",
   "execution_count": 42,
   "metadata": {
    "slideshow": {
     "slide_type": "fragment"
    }
   },
   "outputs": [
    {
     "name": "stdout",
     "output_type": "stream",
     "text": [
      "\u001b[33m0ddc57aa0f166b2bbb2d27ad4eff1088dacf57ce\u001b[m\u001b[33m (\u001b[m\u001b[1;36mHEAD -> \u001b[m\u001b[1;32mmaster\u001b[m\u001b[33m)\u001b[m Eighth version (with proper assertion)\r\n",
      "\u001b[33md63e37e873ae6bde6327c1fd4255e9b8afdf810b\u001b[m Seventh version (fixed)\r\n",
      "\u001b[33m9e08431e857fcec624fcf3910c01a7d39cb6da4b\u001b[m Sixth version (with another assert)\r\n",
      "\u001b[33mfad2251458dba82168d553348fb78513f6867820\u001b[m Fifth version (with assert)\r\n",
      "\u001b[33m437cf325fc775b632301755150d5f79117e7cb20\u001b[m Fourth version (clueless)\r\n",
      "\u001b[33m27256a09550f1e5c167227df98909663522ab882\u001b[m Third version (with debugging output)\r\n",
      "\u001b[33maa2ff76422281874ae6881359c04f3ee3cda38f1\u001b[m Second version\r\n",
      "\u001b[33m6a89ebba324d9695660b7b11586e42d09063aa55\u001b[m First version\r\n"
     ]
    }
   ],
   "source": [
    "!git log --pretty=oneline"
   ]
  },
  {
   "cell_type": "code",
   "execution_count": 43,
   "metadata": {
    "slideshow": {
     "slide_type": "skip"
    }
   },
   "outputs": [],
   "source": [
    "import subprocess"
   ]
  },
  {
   "cell_type": "code",
   "execution_count": 44,
   "metadata": {
    "slideshow": {
     "slide_type": "subslide"
    }
   },
   "outputs": [],
   "source": [
    "def get_output(command):\n",
    "    result = subprocess.run(command, \n",
    "                            stdout=subprocess.PIPE,\n",
    "                            universal_newlines=True)\n",
    "    return result.stdout"
   ]
  },
  {
   "cell_type": "code",
   "execution_count": 45,
   "metadata": {
    "slideshow": {
     "slide_type": "subslide"
    }
   },
   "outputs": [
    {
     "name": "stdout",
     "output_type": "stream",
     "text": [
      "0ddc57aa0f166b2bbb2d27ad4eff1088dacf57ce Eighth version (with proper assertion)\n",
      "d63e37e873ae6bde6327c1fd4255e9b8afdf810b Seventh version (fixed)\n",
      "9e08431e857fcec624fcf3910c01a7d39cb6da4b Sixth version (with another assert)\n",
      "fad2251458dba82168d553348fb78513f6867820 Fifth version (with assert)\n",
      "437cf325fc775b632301755150d5f79117e7cb20 Fourth version (clueless)\n",
      "27256a09550f1e5c167227df98909663522ab882 Third version (with debugging output)\n",
      "aa2ff76422281874ae6881359c04f3ee3cda38f1 Second version\n",
      "6a89ebba324d9695660b7b11586e42d09063aa55 First version\n",
      "\n"
     ]
    }
   ],
   "source": [
    "log = get_output(['git', 'log', '--pretty=oneline'])\n",
    "print(log)"
   ]
  },
  {
   "cell_type": "code",
   "execution_count": 46,
   "metadata": {
    "slideshow": {
     "slide_type": "fragment"
    }
   },
   "outputs": [],
   "source": [
    "versions = [line.split()[0] for line in log.split('\\n') if line]\n",
    "versions.reverse()"
   ]
  },
  {
   "cell_type": "code",
   "execution_count": 47,
   "metadata": {
    "slideshow": {
     "slide_type": "subslide"
    }
   },
   "outputs": [
    {
     "name": "stdout",
     "output_type": "stream",
     "text": [
      "HEAD is now at 6a89ebb First version\r\n"
     ]
    }
   ],
   "source": [
    "!git checkout {versions[0]}"
   ]
  },
  {
   "cell_type": "code",
   "execution_count": 48,
   "metadata": {
    "slideshow": {
     "slide_type": "subslide"
    }
   },
   "outputs": [
    {
     "name": "stdout",
     "output_type": "stream",
     "text": [
      "\u001b[34mdef\u001b[39;49;00m \u001b[32mremove_html_markup\u001b[39;49;00m(s):\n",
      "    tag = \u001b[34mFalse\u001b[39;49;00m\n",
      "    out = \u001b[33m\"\u001b[39;49;00m\u001b[33m\"\u001b[39;49;00m\n",
      "\n",
      "    \u001b[34mfor\u001b[39;49;00m c \u001b[35min\u001b[39;49;00m s:\n",
      "        \u001b[34mif\u001b[39;49;00m c == \u001b[33m'\u001b[39;49;00m\u001b[33m<\u001b[39;49;00m\u001b[33m'\u001b[39;49;00m:    \u001b[37m# start of markup\u001b[39;49;00m\n",
      "            tag = \u001b[34mTrue\u001b[39;49;00m\n",
      "        \u001b[34melif\u001b[39;49;00m c == \u001b[33m'\u001b[39;49;00m\u001b[33m>\u001b[39;49;00m\u001b[33m'\u001b[39;49;00m:  \u001b[37m# end of markup\u001b[39;49;00m\n",
      "            tag = \u001b[34mFalse\u001b[39;49;00m\n",
      "        \u001b[34melif\u001b[39;49;00m \u001b[35mnot\u001b[39;49;00m tag:\n",
      "            out = out + c\n",
      "\n",
      "    \u001b[34mreturn\u001b[39;49;00m out"
     ]
    }
   ],
   "source": [
    "print_file('remove_html_markup.py')"
   ]
  },
  {
   "cell_type": "code",
   "execution_count": 49,
   "metadata": {
    "slideshow": {
     "slide_type": "fragment"
    }
   },
   "outputs": [],
   "source": [
    "exec(open('remove_html_markup.py').read())"
   ]
  },
  {
   "cell_type": "code",
   "execution_count": 50,
   "metadata": {
    "slideshow": {
     "slide_type": "subslide"
    }
   },
   "outputs": [
    {
     "data": {
      "text/plain": [
       "'\"foo\"'"
      ]
     },
     "execution_count": 50,
     "metadata": {},
     "output_type": "execute_result"
    }
   ],
   "source": [
    "remove_html_markup('\"foo\"')"
   ]
  },
  {
   "cell_type": "code",
   "execution_count": 51,
   "metadata": {
    "slideshow": {
     "slide_type": "fragment"
    }
   },
   "outputs": [
    {
     "name": "stdout",
     "output_type": "stream",
     "text": [
      "Previous HEAD position was 6a89ebb First version\r\n",
      "HEAD is now at 0ddc57a Eighth version (with proper assertion)\r\n"
     ]
    }
   ],
   "source": [
    "!git checkout {versions[7]}"
   ]
  },
  {
   "cell_type": "code",
   "execution_count": 52,
   "metadata": {
    "slideshow": {
     "slide_type": "subslide"
    }
   },
   "outputs": [
    {
     "name": "stdout",
     "output_type": "stream",
     "text": [
      "\u001b[34mdef\u001b[39;49;00m \u001b[32mremove_html_markup\u001b[39;49;00m(s):\n",
      "    tag = \u001b[34mFalse\u001b[39;49;00m\n",
      "    quote = \u001b[34mFalse\u001b[39;49;00m\n",
      "    out = \u001b[33m\"\u001b[39;49;00m\u001b[33m\"\u001b[39;49;00m\n",
      "\n",
      "    \u001b[34mfor\u001b[39;49;00m c \u001b[35min\u001b[39;49;00m s:\n",
      "        \u001b[34mif\u001b[39;49;00m c == \u001b[33m'\u001b[39;49;00m\u001b[33m<\u001b[39;49;00m\u001b[33m'\u001b[39;49;00m \u001b[35mand\u001b[39;49;00m \u001b[35mnot\u001b[39;49;00m quote:\n",
      "            tag = \u001b[34mTrue\u001b[39;49;00m\n",
      "        \u001b[34melif\u001b[39;49;00m c == \u001b[33m'\u001b[39;49;00m\u001b[33m>\u001b[39;49;00m\u001b[33m'\u001b[39;49;00m \u001b[35mand\u001b[39;49;00m \u001b[35mnot\u001b[39;49;00m quote:\n",
      "            tag = \u001b[34mFalse\u001b[39;49;00m\n",
      "        \u001b[34melif\u001b[39;49;00m c == \u001b[33m'\u001b[39;49;00m\u001b[33m\"\u001b[39;49;00m\u001b[33m'\u001b[39;49;00m \u001b[35mor\u001b[39;49;00m c == \u001b[33m\"\u001b[39;49;00m\u001b[33m'\u001b[39;49;00m\u001b[33m\"\u001b[39;49;00m \u001b[35mand\u001b[39;49;00m tag:\n",
      "            quote = \u001b[35mnot\u001b[39;49;00m quote\n",
      "        \u001b[34melif\u001b[39;49;00m \u001b[35mnot\u001b[39;49;00m tag:\n",
      "            out = out + c\n",
      "\n",
      "    \u001b[37m# postcondition\u001b[39;49;00m\n",
      "    \u001b[34massert\u001b[39;49;00m \u001b[33m'\u001b[39;49;00m\u001b[33m<\u001b[39;49;00m\u001b[33m'\u001b[39;49;00m \u001b[35mnot\u001b[39;49;00m \u001b[35min\u001b[39;49;00m out \u001b[35mand\u001b[39;49;00m \u001b[33m'\u001b[39;49;00m\u001b[33m>\u001b[39;49;00m\u001b[33m'\u001b[39;49;00m \u001b[35mnot\u001b[39;49;00m \u001b[35min\u001b[39;49;00m out\n",
      "\n",
      "    \u001b[34mreturn\u001b[39;49;00m out"
     ]
    }
   ],
   "source": [
    "print_file('remove_html_markup.py')"
   ]
  },
  {
   "cell_type": "code",
   "execution_count": 53,
   "metadata": {
    "slideshow": {
     "slide_type": "subslide"
    }
   },
   "outputs": [],
   "source": [
    "exec(open('remove_html_markup.py').read())"
   ]
  },
  {
   "cell_type": "code",
   "execution_count": 54,
   "metadata": {
    "slideshow": {
     "slide_type": "fragment"
    }
   },
   "outputs": [
    {
     "data": {
      "text/plain": [
       "'foo'"
      ]
     },
     "execution_count": 54,
     "metadata": {},
     "output_type": "execute_result"
    }
   ],
   "source": [
    "remove_html_markup('\"foo\"')"
   ]
  },
  {
   "cell_type": "markdown",
   "metadata": {
    "slideshow": {
     "slide_type": "slide"
    }
   },
   "source": [
    "## Manual Bisecting"
   ]
  },
  {
   "cell_type": "code",
   "execution_count": 55,
   "metadata": {
    "slideshow": {
     "slide_type": "fragment"
    }
   },
   "outputs": [],
   "source": [
    "!git bisect start"
   ]
  },
  {
   "cell_type": "code",
   "execution_count": 56,
   "metadata": {
    "slideshow": {
     "slide_type": "fragment"
    }
   },
   "outputs": [],
   "source": [
    "!git bisect good {versions[0]}"
   ]
  },
  {
   "cell_type": "code",
   "execution_count": 57,
   "metadata": {
    "slideshow": {
     "slide_type": "fragment"
    }
   },
   "outputs": [
    {
     "name": "stdout",
     "output_type": "stream",
     "text": [
      "Bisecting: 3 revisions left to test after this (roughly 2 steps)\r\n",
      "[437cf325fc775b632301755150d5f79117e7cb20] Fourth version (clueless)\r\n"
     ]
    }
   ],
   "source": [
    "!git bisect bad {versions[7]}"
   ]
  },
  {
   "cell_type": "code",
   "execution_count": 58,
   "metadata": {
    "slideshow": {
     "slide_type": "subslide"
    }
   },
   "outputs": [
    {
     "name": "stdout",
     "output_type": "stream",
     "text": [
      "\u001b[34mdef\u001b[39;49;00m \u001b[32mremove_html_markup\u001b[39;49;00m(s):\n",
      "    tag = \u001b[34mFalse\u001b[39;49;00m\n",
      "    quote = \u001b[34mFalse\u001b[39;49;00m\n",
      "    out = \u001b[33m\"\u001b[39;49;00m\u001b[33m\"\u001b[39;49;00m\n",
      "\n",
      "    \u001b[34mfor\u001b[39;49;00m c \u001b[35min\u001b[39;49;00m s:\n",
      "        \u001b[34mif\u001b[39;49;00m c == \u001b[33m'\u001b[39;49;00m\u001b[33m<\u001b[39;49;00m\u001b[33m'\u001b[39;49;00m:  \u001b[37m# and not quote:\u001b[39;49;00m\n",
      "            tag = \u001b[34mTrue\u001b[39;49;00m\n",
      "        \u001b[34melif\u001b[39;49;00m c == \u001b[33m'\u001b[39;49;00m\u001b[33m>\u001b[39;49;00m\u001b[33m'\u001b[39;49;00m:  \u001b[37m# and not quote:\u001b[39;49;00m\n",
      "            tag = \u001b[34mFalse\u001b[39;49;00m\n",
      "        \u001b[34melif\u001b[39;49;00m c == \u001b[33m'\u001b[39;49;00m\u001b[33m\"\u001b[39;49;00m\u001b[33m'\u001b[39;49;00m \u001b[35mor\u001b[39;49;00m c == \u001b[33m\"\u001b[39;49;00m\u001b[33m'\u001b[39;49;00m\u001b[33m\"\u001b[39;49;00m \u001b[35mand\u001b[39;49;00m tag:\n",
      "            quote = \u001b[35mnot\u001b[39;49;00m quote\n",
      "        \u001b[34melif\u001b[39;49;00m \u001b[35mnot\u001b[39;49;00m tag:\n",
      "            out = out + c\n",
      "\n",
      "    \u001b[34mreturn\u001b[39;49;00m out"
     ]
    }
   ],
   "source": [
    "print_file('remove_html_markup.py')"
   ]
  },
  {
   "cell_type": "code",
   "execution_count": 59,
   "metadata": {
    "slideshow": {
     "slide_type": "subslide"
    }
   },
   "outputs": [],
   "source": [
    "exec(open('remove_html_markup.py').read())"
   ]
  },
  {
   "cell_type": "code",
   "execution_count": 60,
   "metadata": {
    "slideshow": {
     "slide_type": "fragment"
    }
   },
   "outputs": [
    {
     "data": {
      "text/plain": [
       "'foo'"
      ]
     },
     "execution_count": 60,
     "metadata": {},
     "output_type": "execute_result"
    }
   ],
   "source": [
    "remove_html_markup('\"foo\"')"
   ]
  },
  {
   "cell_type": "code",
   "execution_count": 61,
   "metadata": {
    "slideshow": {
     "slide_type": "fragment"
    }
   },
   "outputs": [
    {
     "name": "stdout",
     "output_type": "stream",
     "text": [
      "Bisecting: 0 revisions left to test after this (roughly 1 step)\r\n",
      "[27256a09550f1e5c167227df98909663522ab882] Third version (with debugging output)\r\n"
     ]
    }
   ],
   "source": [
    "!git bisect bad"
   ]
  },
  {
   "cell_type": "code",
   "execution_count": 62,
   "metadata": {
    "slideshow": {
     "slide_type": "subslide"
    }
   },
   "outputs": [
    {
     "name": "stdout",
     "output_type": "stream",
     "text": [
      "\u001b[34mdef\u001b[39;49;00m \u001b[32mremove_html_markup\u001b[39;49;00m(s):\n",
      "    tag = \u001b[34mFalse\u001b[39;49;00m\n",
      "    quote = \u001b[34mFalse\u001b[39;49;00m\n",
      "    out = \u001b[33m\"\u001b[39;49;00m\u001b[33m\"\u001b[39;49;00m\n",
      "\n",
      "    \u001b[34mfor\u001b[39;49;00m c \u001b[35min\u001b[39;49;00m s:\n",
      "        \u001b[36mprint\u001b[39;49;00m(\u001b[33m\"\u001b[39;49;00m\u001b[33mc =\u001b[39;49;00m\u001b[33m\"\u001b[39;49;00m, \u001b[36mrepr\u001b[39;49;00m(c), \u001b[33m\"\u001b[39;49;00m\u001b[33mtag =\u001b[39;49;00m\u001b[33m\"\u001b[39;49;00m, tag, \u001b[33m\"\u001b[39;49;00m\u001b[33mquote =\u001b[39;49;00m\u001b[33m\"\u001b[39;49;00m, quote)\n",
      "\n",
      "        \u001b[34mif\u001b[39;49;00m c == \u001b[33m'\u001b[39;49;00m\u001b[33m<\u001b[39;49;00m\u001b[33m'\u001b[39;49;00m \u001b[35mand\u001b[39;49;00m \u001b[35mnot\u001b[39;49;00m quote:\n",
      "            tag = \u001b[34mTrue\u001b[39;49;00m\n",
      "        \u001b[34melif\u001b[39;49;00m c == \u001b[33m'\u001b[39;49;00m\u001b[33m>\u001b[39;49;00m\u001b[33m'\u001b[39;49;00m \u001b[35mand\u001b[39;49;00m \u001b[35mnot\u001b[39;49;00m quote:\n",
      "            tag = \u001b[34mFalse\u001b[39;49;00m\n",
      "        \u001b[34melif\u001b[39;49;00m c == \u001b[33m'\u001b[39;49;00m\u001b[33m\"\u001b[39;49;00m\u001b[33m'\u001b[39;49;00m \u001b[35mor\u001b[39;49;00m c == \u001b[33m\"\u001b[39;49;00m\u001b[33m'\u001b[39;49;00m\u001b[33m\"\u001b[39;49;00m \u001b[35mand\u001b[39;49;00m tag:\n",
      "            quote = \u001b[35mnot\u001b[39;49;00m quote\n",
      "        \u001b[34melif\u001b[39;49;00m \u001b[35mnot\u001b[39;49;00m tag:\n",
      "            out = out + c\n",
      "\n",
      "    \u001b[34mreturn\u001b[39;49;00m out"
     ]
    }
   ],
   "source": [
    "print_file('remove_html_markup.py')"
   ]
  },
  {
   "cell_type": "code",
   "execution_count": 63,
   "metadata": {
    "slideshow": {
     "slide_type": "subslide"
    }
   },
   "outputs": [],
   "source": [
    "exec(open('remove_html_markup.py').read())"
   ]
  },
  {
   "cell_type": "code",
   "execution_count": 64,
   "metadata": {
    "slideshow": {
     "slide_type": "fragment"
    }
   },
   "outputs": [
    {
     "name": "stdout",
     "output_type": "stream",
     "text": [
      "c = '\"' tag = False quote = False\n",
      "c = 'f' tag = False quote = True\n",
      "c = 'o' tag = False quote = True\n",
      "c = 'o' tag = False quote = True\n",
      "c = '\"' tag = False quote = True\n"
     ]
    },
    {
     "data": {
      "text/plain": [
       "'foo'"
      ]
     },
     "execution_count": 64,
     "metadata": {},
     "output_type": "execute_result"
    }
   ],
   "source": [
    "remove_html_markup('\"foo\"')"
   ]
  },
  {
   "cell_type": "code",
   "execution_count": 65,
   "metadata": {
    "slideshow": {
     "slide_type": "fragment"
    }
   },
   "outputs": [
    {
     "name": "stdout",
     "output_type": "stream",
     "text": [
      "Bisecting: 0 revisions left to test after this (roughly 0 steps)\r\n",
      "[aa2ff76422281874ae6881359c04f3ee3cda38f1] Second version\r\n"
     ]
    }
   ],
   "source": [
    "!git bisect bad"
   ]
  },
  {
   "cell_type": "code",
   "execution_count": 66,
   "metadata": {
    "slideshow": {
     "slide_type": "subslide"
    }
   },
   "outputs": [
    {
     "name": "stdout",
     "output_type": "stream",
     "text": [
      "\u001b[34mdef\u001b[39;49;00m \u001b[32mremove_html_markup\u001b[39;49;00m(s):\n",
      "    tag = \u001b[34mFalse\u001b[39;49;00m\n",
      "    quote = \u001b[34mFalse\u001b[39;49;00m\n",
      "    out = \u001b[33m\"\u001b[39;49;00m\u001b[33m\"\u001b[39;49;00m\n",
      "\n",
      "    \u001b[34mfor\u001b[39;49;00m c \u001b[35min\u001b[39;49;00m s:\n",
      "        \u001b[34mif\u001b[39;49;00m c == \u001b[33m'\u001b[39;49;00m\u001b[33m<\u001b[39;49;00m\u001b[33m'\u001b[39;49;00m \u001b[35mand\u001b[39;49;00m \u001b[35mnot\u001b[39;49;00m quote:\n",
      "            tag = \u001b[34mTrue\u001b[39;49;00m\n",
      "        \u001b[34melif\u001b[39;49;00m c == \u001b[33m'\u001b[39;49;00m\u001b[33m>\u001b[39;49;00m\u001b[33m'\u001b[39;49;00m \u001b[35mand\u001b[39;49;00m \u001b[35mnot\u001b[39;49;00m quote:\n",
      "            tag = \u001b[34mFalse\u001b[39;49;00m\n",
      "        \u001b[34melif\u001b[39;49;00m c == \u001b[33m'\u001b[39;49;00m\u001b[33m\"\u001b[39;49;00m\u001b[33m'\u001b[39;49;00m \u001b[35mor\u001b[39;49;00m c == \u001b[33m\"\u001b[39;49;00m\u001b[33m'\u001b[39;49;00m\u001b[33m\"\u001b[39;49;00m \u001b[35mand\u001b[39;49;00m tag:\n",
      "            quote = \u001b[35mnot\u001b[39;49;00m quote\n",
      "        \u001b[34melif\u001b[39;49;00m \u001b[35mnot\u001b[39;49;00m tag:\n",
      "            out = out + c\n",
      "\n",
      "    \u001b[34mreturn\u001b[39;49;00m out"
     ]
    }
   ],
   "source": [
    "print_file('remove_html_markup.py')"
   ]
  },
  {
   "cell_type": "code",
   "execution_count": 67,
   "metadata": {
    "slideshow": {
     "slide_type": "subslide"
    }
   },
   "outputs": [],
   "source": [
    "exec(open('remove_html_markup.py').read())"
   ]
  },
  {
   "cell_type": "code",
   "execution_count": 68,
   "metadata": {
    "slideshow": {
     "slide_type": "fragment"
    }
   },
   "outputs": [
    {
     "data": {
      "text/plain": [
       "'foo'"
      ]
     },
     "execution_count": 68,
     "metadata": {},
     "output_type": "execute_result"
    }
   ],
   "source": [
    "remove_html_markup('\"foo\"')"
   ]
  },
  {
   "cell_type": "code",
   "execution_count": 69,
   "metadata": {
    "slideshow": {
     "slide_type": "fragment"
    }
   },
   "outputs": [
    {
     "name": "stdout",
     "output_type": "stream",
     "text": [
      "aa2ff76422281874ae6881359c04f3ee3cda38f1 is the first bad commit\r\n",
      "\u001b[33mcommit aa2ff76422281874ae6881359c04f3ee3cda38f1\u001b[m\r\n",
      "Author: Andreas Zeller <zeller@cispa.saarland>\r\n",
      "Date:   Sun Dec 6 17:04:52 2020 +0100\r\n",
      "\r\n",
      "    Second version\r\n",
      "\r\n",
      " remove_html_markup.py | 7 \u001b[32m+++++\u001b[m\u001b[31m--\u001b[m\r\n",
      " 1 file changed, 5 insertions(+), 2 deletions(-)\r\n"
     ]
    }
   ],
   "source": [
    "!git bisect bad"
   ]
  },
  {
   "cell_type": "code",
   "execution_count": 70,
   "metadata": {
    "slideshow": {
     "slide_type": "subslide"
    }
   },
   "outputs": [
    {
     "name": "stdout",
     "output_type": "stream",
     "text": [
      "\u001b[1mdiff --git a/remove_html_markup.py b/remove_html_markup.py\u001b[m\r\n",
      "\u001b[1mindex 759df23..6e41b5b 100644\u001b[m\r\n",
      "\u001b[1m--- a/remove_html_markup.py\u001b[m\r\n",
      "\u001b[1m+++ b/remove_html_markup.py\u001b[m\r\n",
      "\u001b[36m@@ -1,12 +1,15 @@\u001b[m\r\n",
      " def remove_html_markup(s):\u001b[m\r\n",
      "     tag = False\u001b[m\r\n",
      "\u001b[32m+\u001b[m\u001b[32m    quote = False\u001b[m\r\n",
      "     out = \"\"\u001b[m\r\n",
      " \u001b[m\r\n",
      "     for c in s:\u001b[m\r\n",
      "\u001b[31m-        if c == '<':    # start of markup\u001b[m\r\n",
      "\u001b[32m+\u001b[m\u001b[32m        if c == '<' and not quote:\u001b[m\r\n",
      "             tag = True\u001b[m\r\n",
      "\u001b[31m-        elif c == '>':  # end of markup\u001b[m\r\n",
      "\u001b[32m+\u001b[m\u001b[32m        elif c == '>' and not quote:\u001b[m\r\n",
      "             tag = False\u001b[m\r\n",
      "\u001b[32m+\u001b[m\u001b[32m        elif c == '\"' or c == \"'\" and tag:\u001b[m\r\n",
      "\u001b[32m+\u001b[m\u001b[32m            quote = not quote\u001b[m\r\n",
      "         elif not tag:\u001b[m\r\n",
      "             out = out + c\u001b[m\r\n",
      " \u001b[m\r\n"
     ]
    }
   ],
   "source": [
    "!git diff HEAD^"
   ]
  },
  {
   "cell_type": "code",
   "execution_count": 71,
   "metadata": {
    "slideshow": {
     "slide_type": "subslide"
    }
   },
   "outputs": [
    {
     "name": "stdout",
     "output_type": "stream",
     "text": [
      "\u001b[33mcommit aa2ff76422281874ae6881359c04f3ee3cda38f1\u001b[m\u001b[33m (\u001b[m\u001b[1;36mHEAD\u001b[m\u001b[33m, \u001b[m\u001b[mrefs/bisect/bad\u001b[m\u001b[33m)\u001b[m\r\n",
      "Author: Andreas Zeller <zeller@cispa.saarland>\r\n",
      "Date:   Sun Dec 6 17:04:52 2020 +0100\r\n",
      "\r\n",
      "    Second version\r\n"
     ]
    }
   ],
   "source": [
    "!git bisect view"
   ]
  },
  {
   "cell_type": "code",
   "execution_count": 72,
   "metadata": {
    "slideshow": {
     "slide_type": "fragment"
    }
   },
   "outputs": [
    {
     "name": "stdout",
     "output_type": "stream",
     "text": [
      "Previous HEAD position was aa2ff76 Second version\r\n",
      "HEAD is now at 0ddc57a Eighth version (with proper assertion)\r\n"
     ]
    }
   ],
   "source": [
    "!git bisect reset"
   ]
  },
  {
   "cell_type": "markdown",
   "metadata": {
    "slideshow": {
     "slide_type": "slide"
    }
   },
   "source": [
    "## Automatic Bisecting"
   ]
  },
  {
   "cell_type": "code",
   "execution_count": 73,
   "metadata": {
    "slideshow": {
     "slide_type": "subslide"
    }
   },
   "outputs": [
    {
     "name": "stdout",
     "output_type": "stream",
     "text": [
      "\u001b[37m#!/usr/bin/env python\u001b[39;49;00m\n",
      "\n",
      "\u001b[34mfrom\u001b[39;49;00m \u001b[04m\u001b[36mremove_html_markup\u001b[39;49;00m \u001b[34mimport\u001b[39;49;00m remove_html_markup\n",
      "\u001b[34mimport\u001b[39;49;00m \u001b[04m\u001b[36msys\u001b[39;49;00m\n",
      "\n",
      "result = remove_html_markup(\u001b[33m'\u001b[39;49;00m\u001b[33m\"\u001b[39;49;00m\u001b[33mfoo\u001b[39;49;00m\u001b[33m\"\u001b[39;49;00m\u001b[33m'\u001b[39;49;00m)\n",
      "\u001b[34mif\u001b[39;49;00m result == \u001b[33m'\u001b[39;49;00m\u001b[33m\"\u001b[39;49;00m\u001b[33mfoo\u001b[39;49;00m\u001b[33m\"\u001b[39;49;00m\u001b[33m'\u001b[39;49;00m:\n",
      "    sys.exit(\u001b[34m0\u001b[39;49;00m)  \u001b[37m# good/pass\u001b[39;49;00m\n",
      "\u001b[34melif\u001b[39;49;00m result == \u001b[33m'\u001b[39;49;00m\u001b[33mfoo\u001b[39;49;00m\u001b[33m'\u001b[39;49;00m:\n",
      "    sys.exit(\u001b[34m1\u001b[39;49;00m)  \u001b[37m# bad/fail\u001b[39;49;00m\n",
      "\u001b[34melse\u001b[39;49;00m:\n",
      "    sys.exit(\u001b[34m125\u001b[39;49;00m)  \u001b[37m# unresolved\u001b[39;49;00m"
     ]
    }
   ],
   "source": [
    "open('test.py', 'w').write('''\n",
    "#!/usr/bin/env python\n",
    "\n",
    "from remove_html_markup import remove_html_markup\n",
    "import sys\n",
    "\n",
    "result = remove_html_markup('\"foo\"')\n",
    "if result == '\"foo\"':\n",
    "    sys.exit(0)  # good/pass\n",
    "elif result == 'foo':\n",
    "    sys.exit(1)  # bad/fail\n",
    "else:\n",
    "    sys.exit(125)  # unresolved\n",
    "''')\n",
    "print_file('test.py')"
   ]
  },
  {
   "cell_type": "code",
   "execution_count": 74,
   "metadata": {
    "slideshow": {
     "slide_type": "subslide"
    }
   },
   "outputs": [
    {
     "name": "stdout",
     "output_type": "stream",
     "text": [
      "1\r\n"
     ]
    }
   ],
   "source": [
    "!python ./test.py; echo $?"
   ]
  },
  {
   "cell_type": "code",
   "execution_count": 75,
   "metadata": {
    "slideshow": {
     "slide_type": "fragment"
    }
   },
   "outputs": [],
   "source": [
    "!git bisect start"
   ]
  },
  {
   "cell_type": "code",
   "execution_count": 76,
   "metadata": {
    "slideshow": {
     "slide_type": "fragment"
    }
   },
   "outputs": [],
   "source": [
    "!git bisect good {versions[0]}"
   ]
  },
  {
   "cell_type": "code",
   "execution_count": 77,
   "metadata": {
    "slideshow": {
     "slide_type": "fragment"
    }
   },
   "outputs": [
    {
     "name": "stdout",
     "output_type": "stream",
     "text": [
      "Bisecting: 3 revisions left to test after this (roughly 2 steps)\r\n",
      "[437cf325fc775b632301755150d5f79117e7cb20] Fourth version (clueless)\r\n"
     ]
    }
   ],
   "source": [
    "!git bisect bad {versions[7]}"
   ]
  },
  {
   "cell_type": "code",
   "execution_count": 78,
   "metadata": {
    "slideshow": {
     "slide_type": "subslide"
    }
   },
   "outputs": [
    {
     "name": "stdout",
     "output_type": "stream",
     "text": [
      "running python test.py\r\n",
      "Bisecting: 0 revisions left to test after this (roughly 1 step)\r\n",
      "[27256a09550f1e5c167227df98909663522ab882] Third version (with debugging output)\r\n",
      "running python test.py\r\n",
      "c = '\"' tag = False quote = False\r\n",
      "c = 'f' tag = False quote = True\r\n",
      "c = 'o' tag = False quote = True\r\n",
      "c = 'o' tag = False quote = True\r\n",
      "c = '\"' tag = False quote = True\r\n",
      "Bisecting: 0 revisions left to test after this (roughly 0 steps)\r\n",
      "[aa2ff76422281874ae6881359c04f3ee3cda38f1] Second version\r\n",
      "running python test.py\r\n",
      "aa2ff76422281874ae6881359c04f3ee3cda38f1 is the first bad commit\r\n",
      "commit aa2ff76422281874ae6881359c04f3ee3cda38f1\r\n",
      "Author: Andreas Zeller <zeller@cispa.saarland>\r\n",
      "Date:   Sun Dec 6 17:04:52 2020 +0100\r\n",
      "\r\n",
      "    Second version\r\n",
      "\r\n",
      " remove_html_markup.py | 7 +++++--\r\n",
      " 1 file changed, 5 insertions(+), 2 deletions(-)\r\n",
      "bisect run success\r\n"
     ]
    }
   ],
   "source": [
    "!git bisect run python test.py"
   ]
  },
  {
   "cell_type": "code",
   "execution_count": 79,
   "metadata": {
    "slideshow": {
     "slide_type": "subslide"
    }
   },
   "outputs": [
    {
     "name": "stdout",
     "output_type": "stream",
     "text": [
      "\u001b[34mdef\u001b[39;49;00m \u001b[32mremove_html_markup\u001b[39;49;00m(s):\n",
      "    tag = \u001b[34mFalse\u001b[39;49;00m\n",
      "    quote = \u001b[34mFalse\u001b[39;49;00m\n",
      "    out = \u001b[33m\"\u001b[39;49;00m\u001b[33m\"\u001b[39;49;00m\n",
      "\n",
      "    \u001b[34mfor\u001b[39;49;00m c \u001b[35min\u001b[39;49;00m s:\n",
      "        \u001b[34mif\u001b[39;49;00m c == \u001b[33m'\u001b[39;49;00m\u001b[33m<\u001b[39;49;00m\u001b[33m'\u001b[39;49;00m \u001b[35mand\u001b[39;49;00m \u001b[35mnot\u001b[39;49;00m quote:\n",
      "            tag = \u001b[34mTrue\u001b[39;49;00m\n",
      "        \u001b[34melif\u001b[39;49;00m c == \u001b[33m'\u001b[39;49;00m\u001b[33m>\u001b[39;49;00m\u001b[33m'\u001b[39;49;00m \u001b[35mand\u001b[39;49;00m \u001b[35mnot\u001b[39;49;00m quote:\n",
      "            tag = \u001b[34mFalse\u001b[39;49;00m\n",
      "        \u001b[34melif\u001b[39;49;00m c == \u001b[33m'\u001b[39;49;00m\u001b[33m\"\u001b[39;49;00m\u001b[33m'\u001b[39;49;00m \u001b[35mor\u001b[39;49;00m c == \u001b[33m\"\u001b[39;49;00m\u001b[33m'\u001b[39;49;00m\u001b[33m\"\u001b[39;49;00m \u001b[35mand\u001b[39;49;00m tag:\n",
      "            quote = \u001b[35mnot\u001b[39;49;00m quote\n",
      "        \u001b[34melif\u001b[39;49;00m \u001b[35mnot\u001b[39;49;00m tag:\n",
      "            out = out + c\n",
      "\n",
      "    \u001b[34mreturn\u001b[39;49;00m out"
     ]
    }
   ],
   "source": [
    "print_file('remove_html_markup.py')"
   ]
  },
  {
   "cell_type": "code",
   "execution_count": 80,
   "metadata": {
    "slideshow": {
     "slide_type": "subslide"
    }
   },
   "outputs": [
    {
     "name": "stdout",
     "output_type": "stream",
     "text": [
      "\u001b[1mdiff --git a/remove_html_markup.py b/remove_html_markup.py\u001b[m\r\n",
      "\u001b[1mindex 759df23..6e41b5b 100644\u001b[m\r\n",
      "\u001b[1m--- a/remove_html_markup.py\u001b[m\r\n",
      "\u001b[1m+++ b/remove_html_markup.py\u001b[m\r\n",
      "\u001b[36m@@ -1,12 +1,15 @@\u001b[m\r\n",
      " def remove_html_markup(s):\u001b[m\r\n",
      "     tag = False\u001b[m\r\n",
      "\u001b[32m+\u001b[m\u001b[32m    quote = False\u001b[m\r\n",
      "     out = \"\"\u001b[m\r\n",
      " \u001b[m\r\n",
      "     for c in s:\u001b[m\r\n",
      "\u001b[31m-        if c == '<':    # start of markup\u001b[m\r\n",
      "\u001b[32m+\u001b[m\u001b[32m        if c == '<' and not quote:\u001b[m\r\n",
      "             tag = True\u001b[m\r\n",
      "\u001b[31m-        elif c == '>':  # end of markup\u001b[m\r\n",
      "\u001b[32m+\u001b[m\u001b[32m        elif c == '>' and not quote:\u001b[m\r\n",
      "             tag = False\u001b[m\r\n",
      "\u001b[32m+\u001b[m\u001b[32m        elif c == '\"' or c == \"'\" and tag:\u001b[m\r\n",
      "\u001b[32m+\u001b[m\u001b[32m            quote = not quote\u001b[m\r\n",
      "         elif not tag:\u001b[m\r\n",
      "             out = out + c\u001b[m\r\n",
      " \u001b[m\r\n"
     ]
    }
   ],
   "source": [
    "!git diff HEAD^"
   ]
  },
  {
   "cell_type": "code",
   "execution_count": 81,
   "metadata": {
    "slideshow": {
     "slide_type": "subslide"
    }
   },
   "outputs": [
    {
     "name": "stdout",
     "output_type": "stream",
     "text": [
      "Previous HEAD position was aa2ff76 Second version\r\n",
      "HEAD is now at 0ddc57a Eighth version (with proper assertion)\r\n"
     ]
    }
   ],
   "source": [
    "!git bisect reset"
   ]
  },
  {
   "cell_type": "markdown",
   "metadata": {
    "button": false,
    "new_sheet": false,
    "run_control": {
     "read_only": false
    },
    "slideshow": {
     "slide_type": "slide"
    }
   },
   "source": [
    "## Delta Debugging on Changes"
   ]
  },
  {
   "cell_type": "code",
   "execution_count": 82,
   "metadata": {
    "slideshow": {
     "slide_type": "skip"
    }
   },
   "outputs": [],
   "source": [
    "from DeltaDebugger import DeltaDebugger"
   ]
  },
  {
   "cell_type": "code",
   "execution_count": 83,
   "metadata": {
    "slideshow": {
     "slide_type": "fragment"
    }
   },
   "outputs": [],
   "source": [
    "version_1 = get_output(['git', 'show', \n",
    "                            f'{versions[0]}:remove_html_markup.py'])"
   ]
  },
  {
   "cell_type": "code",
   "execution_count": 84,
   "metadata": {
    "slideshow": {
     "slide_type": "subslide"
    }
   },
   "outputs": [
    {
     "name": "stdout",
     "output_type": "stream",
     "text": [
      "\u001b[34mdef\u001b[39;49;00m \u001b[32mremove_html_markup\u001b[39;49;00m(s):\n",
      "    tag = \u001b[34mFalse\u001b[39;49;00m\n",
      "    out = \u001b[33m\"\u001b[39;49;00m\u001b[33m\"\u001b[39;49;00m\n",
      "\n",
      "    \u001b[34mfor\u001b[39;49;00m c \u001b[35min\u001b[39;49;00m s:\n",
      "        \u001b[34mif\u001b[39;49;00m c == \u001b[33m'\u001b[39;49;00m\u001b[33m<\u001b[39;49;00m\u001b[33m'\u001b[39;49;00m:    \u001b[37m# start of markup\u001b[39;49;00m\n",
      "            tag = \u001b[34mTrue\u001b[39;49;00m\n",
      "        \u001b[34melif\u001b[39;49;00m c == \u001b[33m'\u001b[39;49;00m\u001b[33m>\u001b[39;49;00m\u001b[33m'\u001b[39;49;00m:  \u001b[37m# end of markup\u001b[39;49;00m\n",
      "            tag = \u001b[34mFalse\u001b[39;49;00m\n",
      "        \u001b[34melif\u001b[39;49;00m \u001b[35mnot\u001b[39;49;00m tag:\n",
      "            out = out + c\n",
      "\n",
      "    \u001b[34mreturn\u001b[39;49;00m out"
     ]
    }
   ],
   "source": [
    "print_content(version_1, '.py')"
   ]
  },
  {
   "cell_type": "code",
   "execution_count": 85,
   "metadata": {
    "slideshow": {
     "slide_type": "subslide"
    }
   },
   "outputs": [],
   "source": [
    "version_2 = get_output(['git', 'show', \n",
    "                            f'{versions[1]}:remove_html_markup.py'])"
   ]
  },
  {
   "cell_type": "code",
   "execution_count": 86,
   "metadata": {
    "slideshow": {
     "slide_type": "subslide"
    }
   },
   "outputs": [
    {
     "name": "stdout",
     "output_type": "stream",
     "text": [
      "\u001b[34mdef\u001b[39;49;00m \u001b[32mremove_html_markup\u001b[39;49;00m(s):\n",
      "    tag = \u001b[34mFalse\u001b[39;49;00m\n",
      "    quote = \u001b[34mFalse\u001b[39;49;00m\n",
      "    out = \u001b[33m\"\u001b[39;49;00m\u001b[33m\"\u001b[39;49;00m\n",
      "\n",
      "    \u001b[34mfor\u001b[39;49;00m c \u001b[35min\u001b[39;49;00m s:\n",
      "        \u001b[34mif\u001b[39;49;00m c == \u001b[33m'\u001b[39;49;00m\u001b[33m<\u001b[39;49;00m\u001b[33m'\u001b[39;49;00m \u001b[35mand\u001b[39;49;00m \u001b[35mnot\u001b[39;49;00m quote:\n",
      "            tag = \u001b[34mTrue\u001b[39;49;00m\n",
      "        \u001b[34melif\u001b[39;49;00m c == \u001b[33m'\u001b[39;49;00m\u001b[33m>\u001b[39;49;00m\u001b[33m'\u001b[39;49;00m \u001b[35mand\u001b[39;49;00m \u001b[35mnot\u001b[39;49;00m quote:\n",
      "            tag = \u001b[34mFalse\u001b[39;49;00m\n",
      "        \u001b[34melif\u001b[39;49;00m c == \u001b[33m'\u001b[39;49;00m\u001b[33m\"\u001b[39;49;00m\u001b[33m'\u001b[39;49;00m \u001b[35mor\u001b[39;49;00m c == \u001b[33m\"\u001b[39;49;00m\u001b[33m'\u001b[39;49;00m\u001b[33m\"\u001b[39;49;00m \u001b[35mand\u001b[39;49;00m tag:\n",
      "            quote = \u001b[35mnot\u001b[39;49;00m quote\n",
      "        \u001b[34melif\u001b[39;49;00m \u001b[35mnot\u001b[39;49;00m tag:\n",
      "            out = out + c\n",
      "\n",
      "    \u001b[34mreturn\u001b[39;49;00m out"
     ]
    }
   ],
   "source": [
    "print_content(version_2, '.py')"
   ]
  },
  {
   "cell_type": "code",
   "execution_count": 87,
   "metadata": {
    "slideshow": {
     "slide_type": "subslide"
    }
   },
   "outputs": [
    {
     "name": "stdout",
     "output_type": "stream",
     "text": [
      "\u001b[1mdiff --git a/remove_html_markup.py b/remove_html_markup.py\u001b[m\r\n",
      "\u001b[1mindex 759df23..6e41b5b 100644\u001b[m\r\n",
      "\u001b[1m--- a/remove_html_markup.py\u001b[m\r\n",
      "\u001b[1m+++ b/remove_html_markup.py\u001b[m\r\n",
      "\u001b[36m@@ -1,12 +1,15 @@\u001b[m\r\n",
      " def remove_html_markup(s):\u001b[m\r\n",
      "     tag = False\u001b[m\r\n",
      "\u001b[32m+\u001b[m\u001b[32m    quote = False\u001b[m\r\n",
      "     out = \"\"\u001b[m\r\n",
      " \u001b[m\r\n",
      "     for c in s:\u001b[m\r\n",
      "\u001b[31m-        if c == '<':    # start of markup\u001b[m\r\n",
      "\u001b[32m+\u001b[m\u001b[32m        if c == '<' and not quote:\u001b[m\r\n",
      "             tag = True\u001b[m\r\n",
      "\u001b[31m-        elif c == '>':  # end of markup\u001b[m\r\n",
      "\u001b[32m+\u001b[m\u001b[32m        elif c == '>' and not quote:\u001b[m\r\n",
      "             tag = False\u001b[m\r\n",
      "\u001b[32m+\u001b[m\u001b[32m        elif c == '\"' or c == \"'\" and tag:\u001b[m\r\n",
      "\u001b[32m+\u001b[m\u001b[32m            quote = not quote\u001b[m\r\n",
      "         elif not tag:\u001b[m\r\n",
      "             out = out + c\u001b[m\r\n",
      " \u001b[m\r\n"
     ]
    }
   ],
   "source": [
    "!git diff {versions[0]} {versions[1]}"
   ]
  },
  {
   "cell_type": "markdown",
   "metadata": {
    "slideshow": {
     "slide_type": "subslide"
    }
   },
   "source": [
    "We use Google's [diff-match-patch library](https://github.com/google/diff-match-patch) as a [Python module](https://github.com/JoshData/diff_match_patch-python)."
   ]
  },
  {
   "cell_type": "code",
   "execution_count": 88,
   "metadata": {
    "slideshow": {
     "slide_type": "skip"
    }
   },
   "outputs": [],
   "source": [
    "from diff_match_patch import diff_match_patch"
   ]
  },
  {
   "cell_type": "code",
   "execution_count": 89,
   "metadata": {
    "slideshow": {
     "slide_type": "subslide"
    }
   },
   "outputs": [],
   "source": [
    "def diff(s1, s2, mode='lines'):\n",
    "    dmp = diff_match_patch()\n",
    "    if mode == 'lines':\n",
    "        (text1, text2, linearray) = dmp.diff_linesToChars(s1, s2)\n",
    "        diffs = dmp.diff_main(text1, text2)\n",
    "        dmp.diff_charsToLines(diffs, linearray)\n",
    "        return dmp.patch_make(diffs)\n",
    "\n",
    "    if mode == 'chars':\n",
    "        diffs = dmp.diff_main(s1, s2)\n",
    "        return dmp.patch_make(s1, diffs)\n",
    "        \n",
    "    raise ValueError(\"mode must be 'lines' or 'chars'\")"
   ]
  },
  {
   "cell_type": "code",
   "execution_count": 90,
   "metadata": {
    "slideshow": {
     "slide_type": "subslide"
    }
   },
   "outputs": [
    {
     "data": {
      "text/plain": [
       "[<diff_match_patch.diff_match_patch.patch_obj at 0x7fa530e15f98>,\n",
       " <diff_match_patch.diff_match_patch.patch_obj at 0x7fa530e15e10>,\n",
       " <diff_match_patch.diff_match_patch.patch_obj at 0x7fa530e15f60>,\n",
       " <diff_match_patch.diff_match_patch.patch_obj at 0x7fa530c915c0>]"
      ]
     },
     "execution_count": 90,
     "metadata": {},
     "output_type": "execute_result"
    }
   ],
   "source": [
    "patches = diff(version_1, version_2)\n",
    "patches"
   ]
  },
  {
   "cell_type": "code",
   "execution_count": 91,
   "metadata": {
    "slideshow": {
     "slide_type": "skip"
    }
   },
   "outputs": [],
   "source": [
    "import urllib"
   ]
  },
  {
   "cell_type": "code",
   "execution_count": 92,
   "metadata": {
    "slideshow": {
     "slide_type": "fragment"
    }
   },
   "outputs": [],
   "source": [
    "def patch_string(p):\n",
    "    return urllib.parse.unquote(str(p).strip())"
   ]
  },
  {
   "cell_type": "code",
   "execution_count": 93,
   "metadata": {
    "slideshow": {
     "slide_type": "subslide"
    }
   },
   "outputs": [
    {
     "name": "stdout",
     "output_type": "stream",
     "text": [
      "@@ -32,24 +32,42 @@\n",
      " tag = False\n",
      "\n",
      "+    quote = False\n",
      "\n",
      "     out = \"\"\n",
      "@@ -88,50 +88,43 @@\n",
      "  s:\n",
      "\n",
      "-        if c == '<':    # start of markup\n",
      "\n",
      "+        if c == '<' and not quote:\n",
      "\n",
      "@@ -146,48 +146,45 @@\n",
      " rue\n",
      "\n",
      "-        elif c == '>':  # end of markup\n",
      "\n",
      "+        elif c == '>' and not quote:\n",
      "\n",
      "@@ -199,24 +199,97 @@\n",
      " tag = False\n",
      "\n",
      "+        elif c == '\"' or c == \"'\" and tag:\n",
      "            quote = not quote\n",
      "\n",
      "         elif\n"
     ]
    }
   ],
   "source": [
    "for p in patches:\n",
    "    print(patch_string(p))"
   ]
  },
  {
   "cell_type": "code",
   "execution_count": 94,
   "metadata": {
    "slideshow": {
     "slide_type": "subslide"
    }
   },
   "outputs": [],
   "source": [
    "def patch(s, patches):\n",
    "    dmp = diff_match_patch()\n",
    "    text, success = dmp.patch_apply(patches, s)\n",
    "    assert all(success)\n",
    "    return text"
   ]
  },
  {
   "cell_type": "code",
   "execution_count": 95,
   "metadata": {
    "slideshow": {
     "slide_type": "subslide"
    }
   },
   "outputs": [
    {
     "name": "stdout",
     "output_type": "stream",
     "text": [
      "\u001b[34mdef\u001b[39;49;00m \u001b[32mremove_html_markup\u001b[39;49;00m(s):\n",
      "    tag = \u001b[34mFalse\u001b[39;49;00m\n",
      "    quote = \u001b[34mFalse\u001b[39;49;00m\n",
      "    out = \u001b[33m\"\u001b[39;49;00m\u001b[33m\"\u001b[39;49;00m\n",
      "\n",
      "    \u001b[34mfor\u001b[39;49;00m c \u001b[35min\u001b[39;49;00m s:\n",
      "        \u001b[34mif\u001b[39;49;00m c == \u001b[33m'\u001b[39;49;00m\u001b[33m<\u001b[39;49;00m\u001b[33m'\u001b[39;49;00m \u001b[35mand\u001b[39;49;00m \u001b[35mnot\u001b[39;49;00m quote:\n",
      "            tag = \u001b[34mTrue\u001b[39;49;00m\n",
      "        \u001b[34melif\u001b[39;49;00m c == \u001b[33m'\u001b[39;49;00m\u001b[33m>\u001b[39;49;00m\u001b[33m'\u001b[39;49;00m \u001b[35mand\u001b[39;49;00m \u001b[35mnot\u001b[39;49;00m quote:\n",
      "            tag = \u001b[34mFalse\u001b[39;49;00m\n",
      "        \u001b[34melif\u001b[39;49;00m c == \u001b[33m'\u001b[39;49;00m\u001b[33m\"\u001b[39;49;00m\u001b[33m'\u001b[39;49;00m \u001b[35mor\u001b[39;49;00m c == \u001b[33m\"\u001b[39;49;00m\u001b[33m'\u001b[39;49;00m\u001b[33m\"\u001b[39;49;00m \u001b[35mand\u001b[39;49;00m tag:\n",
      "            quote = \u001b[35mnot\u001b[39;49;00m quote\n",
      "        \u001b[34melif\u001b[39;49;00m \u001b[35mnot\u001b[39;49;00m tag:\n",
      "            out = out + c\n",
      "\n",
      "    \u001b[34mreturn\u001b[39;49;00m out"
     ]
    }
   ],
   "source": [
    "print_content(patch(version_1, patches), '.py')"
   ]
  },
  {
   "cell_type": "code",
   "execution_count": 96,
   "metadata": {
    "slideshow": {
     "slide_type": "subslide"
    }
   },
   "outputs": [],
   "source": [
    "assert patch(version_1, patches) == version_2"
   ]
  },
  {
   "cell_type": "code",
   "execution_count": 97,
   "metadata": {
    "slideshow": {
     "slide_type": "fragment"
    }
   },
   "outputs": [],
   "source": [
    "assert patch(version_1, []) == version_1"
   ]
  },
  {
   "cell_type": "code",
   "execution_count": 98,
   "metadata": {
    "slideshow": {
     "slide_type": "fragment"
    }
   },
   "outputs": [
    {
     "name": "stdout",
     "output_type": "stream",
     "text": [
      "@@ -32,24 +32,42 @@\n",
      " tag = False\n",
      "\n",
      "+    quote = False\n",
      "\n",
      "     out = \"\"\n"
     ]
    }
   ],
   "source": [
    "print(patch_string(patches[0]))"
   ]
  },
  {
   "cell_type": "code",
   "execution_count": 99,
   "metadata": {
    "slideshow": {
     "slide_type": "subslide"
    }
   },
   "outputs": [
    {
     "name": "stdout",
     "output_type": "stream",
     "text": [
      "def remove_html_markup(s):\n",
      "    tag = \u001b[34mFalse\u001b[39;49;00m\n",
      "    quote = \u001b[34mFalse\u001b[39;49;00m\n",
      "    \u001b[34mout\u001b[39;49;00m = \u001b[33m\"\"\u001b[39;49;00m\n",
      "\n",
      "    \u001b[34mfor\u001b[39;49;00m \u001b[34mc\u001b[39;49;00m \u001b[34min\u001b[39;49;00m s:\n",
      "        \u001b[34mif\u001b[39;49;00m \u001b[34mc\u001b[39;49;00m == \u001b[33m'<'\u001b[39;49;00m:    # \u001b[34mstart\u001b[39;49;00m \u001b[34mof\u001b[39;49;00m markup\n",
      "            tag = \u001b[34mTrue\u001b[39;49;00m\n",
      "        elif \u001b[34mc\u001b[39;49;00m == \u001b[33m'>'\u001b[39;49;00m:  # \u001b[34mend\u001b[39;49;00m \u001b[34mof\u001b[39;49;00m markup\n",
      "            tag = \u001b[34mFalse\u001b[39;49;00m\n",
      "        elif \u001b[34mnot\u001b[39;49;00m tag:\n",
      "            \u001b[34mout\u001b[39;49;00m = \u001b[34mout\u001b[39;49;00m + \u001b[34mc\u001b[39;49;00m\n",
      "\n",
      "    \u001b[34mreturn\u001b[39;49;00m \u001b[34mout\u001b[39;49;00m"
     ]
    }
   ],
   "source": [
    "print_content(patch(version_1, [patches[0]]))"
   ]
  },
  {
   "cell_type": "code",
   "execution_count": 100,
   "metadata": {
    "slideshow": {
     "slide_type": "subslide"
    }
   },
   "outputs": [
    {
     "name": "stdout",
     "output_type": "stream",
     "text": [
      "def remove_html_markup(s):\n",
      "    tag = \u001b[34mFalse\u001b[39;49;00m\n",
      "    \u001b[34mout\u001b[39;49;00m = \u001b[33m\"\"\u001b[39;49;00m\n",
      "\n",
      "    \u001b[34mfor\u001b[39;49;00m \u001b[34mc\u001b[39;49;00m \u001b[34min\u001b[39;49;00m s:\n",
      "        \u001b[34mif\u001b[39;49;00m \u001b[34mc\u001b[39;49;00m == \u001b[33m'<'\u001b[39;49;00m \u001b[34mand\u001b[39;49;00m \u001b[34mnot\u001b[39;49;00m quote:\n",
      "            tag = \u001b[34mTrue\u001b[39;49;00m\n",
      "        elif \u001b[34mc\u001b[39;49;00m == \u001b[33m'>'\u001b[39;49;00m:  # \u001b[34mend\u001b[39;49;00m \u001b[34mof\u001b[39;49;00m markup\n",
      "            tag = \u001b[34mFalse\u001b[39;49;00m\n",
      "        elif \u001b[34mnot\u001b[39;49;00m tag:\n",
      "            \u001b[34mout\u001b[39;49;00m = \u001b[34mout\u001b[39;49;00m + \u001b[34mc\u001b[39;49;00m\n",
      "\n",
      "    \u001b[34mreturn\u001b[39;49;00m \u001b[34mout\u001b[39;49;00m"
     ]
    }
   ],
   "source": [
    "print_content(patch(version_1, [patches[1]]))"
   ]
  },
  {
   "cell_type": "code",
   "execution_count": 101,
   "metadata": {
    "slideshow": {
     "slide_type": "subslide"
    }
   },
   "outputs": [],
   "source": [
    "def test_remove_html_markup(patches):\n",
    "    new_version = patch(version_1, patches)\n",
    "    exec(new_version, globals())\n",
    "    assert remove_html_markup('\"foo\"') == '\"foo\"'"
   ]
  },
  {
   "cell_type": "code",
   "execution_count": 102,
   "metadata": {
    "slideshow": {
     "slide_type": "fragment"
    }
   },
   "outputs": [],
   "source": [
    "test_remove_html_markup([])"
   ]
  },
  {
   "cell_type": "code",
   "execution_count": 103,
   "metadata": {
    "slideshow": {
     "slide_type": "fragment"
    }
   },
   "outputs": [
    {
     "name": "stderr",
     "output_type": "stream",
     "text": [
      "Traceback (most recent call last):\n",
      "  File \"<ipython-input-103-9f9aae950c60>\", line 2, in <module>\n",
      "    test_remove_html_markup(patches)\n",
      "  File \"<ipython-input-101-4525dbd53ca7>\", line 4, in test_remove_html_markup\n",
      "    assert remove_html_markup('\"foo\"') == '\"foo\"'\n",
      "AssertionError (expected)\n"
     ]
    }
   ],
   "source": [
    "with ExpectError():\n",
    "    test_remove_html_markup(patches)"
   ]
  },
  {
   "cell_type": "code",
   "execution_count": 104,
   "metadata": {
    "slideshow": {
     "slide_type": "subslide"
    }
   },
   "outputs": [],
   "source": [
    "with DeltaDebugger() as dd:\n",
    "    test_remove_html_markup(patches)"
   ]
  },
  {
   "cell_type": "code",
   "execution_count": 105,
   "metadata": {
    "slideshow": {
     "slide_type": "fragment"
    }
   },
   "outputs": [],
   "source": [
    "reduced_patches = dd.min_args()['patches']"
   ]
  },
  {
   "cell_type": "code",
   "execution_count": 106,
   "metadata": {
    "slideshow": {
     "slide_type": "subslide"
    }
   },
   "outputs": [
    {
     "name": "stdout",
     "output_type": "stream",
     "text": [
      "@@ -32,24 +32,42 @@\n",
      " tag = False\n",
      "\n",
      "+    quote = False\n",
      "\n",
      "     out = \"\"\n",
      "\n",
      "@@ -199,24 +199,97 @@\n",
      " tag = False\n",
      "\n",
      "+        elif c == '\"' or c == \"'\" and tag:\n",
      "            quote = not quote\n",
      "\n",
      "         elif\n",
      "\n"
     ]
    }
   ],
   "source": [
    "for p in reduced_patches:\n",
    "    print(urllib.parse.unquote(str(p)))"
   ]
  },
  {
   "cell_type": "code",
   "execution_count": 107,
   "metadata": {
    "slideshow": {
     "slide_type": "subslide"
    }
   },
   "outputs": [
    {
     "name": "stdout",
     "output_type": "stream",
     "text": [
      "\u001b[34mdef\u001b[39;49;00m \u001b[32mremove_html_markup\u001b[39;49;00m(s):\n",
      "    tag = \u001b[34mFalse\u001b[39;49;00m\n",
      "    quote = \u001b[34mFalse\u001b[39;49;00m\n",
      "    out = \u001b[33m\"\u001b[39;49;00m\u001b[33m\"\u001b[39;49;00m\n",
      "\n",
      "    \u001b[34mfor\u001b[39;49;00m c \u001b[35min\u001b[39;49;00m s:\n",
      "        \u001b[34mif\u001b[39;49;00m c == \u001b[33m'\u001b[39;49;00m\u001b[33m<\u001b[39;49;00m\u001b[33m'\u001b[39;49;00m:    \u001b[37m# start of markup\u001b[39;49;00m\n",
      "            tag = \u001b[34mTrue\u001b[39;49;00m\n",
      "        \u001b[34melif\u001b[39;49;00m c == \u001b[33m'\u001b[39;49;00m\u001b[33m>\u001b[39;49;00m\u001b[33m'\u001b[39;49;00m:  \u001b[37m# end of markup\u001b[39;49;00m\n",
      "            tag = \u001b[34mFalse\u001b[39;49;00m\n",
      "        \u001b[34melif\u001b[39;49;00m c == \u001b[33m'\u001b[39;49;00m\u001b[33m\"\u001b[39;49;00m\u001b[33m'\u001b[39;49;00m \u001b[35mor\u001b[39;49;00m c == \u001b[33m\"\u001b[39;49;00m\u001b[33m'\u001b[39;49;00m\u001b[33m\"\u001b[39;49;00m \u001b[35mand\u001b[39;49;00m tag:\n",
      "            quote = \u001b[35mnot\u001b[39;49;00m quote\n",
      "        \u001b[34melif\u001b[39;49;00m \u001b[35mnot\u001b[39;49;00m tag:\n",
      "            out = out + c\n",
      "\n",
      "    \u001b[34mreturn\u001b[39;49;00m out"
     ]
    }
   ],
   "source": [
    "print_content(patch(version_1, reduced_patches), '.py')"
   ]
  },
  {
   "cell_type": "markdown",
   "metadata": {
    "slideshow": {
     "slide_type": "subslide"
    }
   },
   "source": [
    "Can we narrow this down even further? Yes!"
   ]
  },
  {
   "cell_type": "code",
   "execution_count": 108,
   "metadata": {
    "slideshow": {
     "slide_type": "fragment"
    }
   },
   "outputs": [],
   "source": [
    "pass_patches, fail_patches = (arg['patches'] for arg in dd.min_arg_diff())"
   ]
  },
  {
   "cell_type": "code",
   "execution_count": 109,
   "metadata": {
    "slideshow": {
     "slide_type": "subslide"
    }
   },
   "outputs": [
    {
     "name": "stdout",
     "output_type": "stream",
     "text": [
      "@@ -32,24 +32,42 @@\n",
      " tag = False\n",
      "\n",
      "+    quote = False\n",
      "\n",
      "     out = \"\"\n",
      "\n",
      "@@ -88,50 +88,43 @@\n",
      "  s:\n",
      "\n",
      "-        if c == '<':    # start of markup\n",
      "\n",
      "+        if c == '<' and not quote:\n",
      "\n",
      "     \n",
      "\n"
     ]
    }
   ],
   "source": [
    "for p in pass_patches:\n",
    "    print(urllib.parse.unquote(str(p)))"
   ]
  },
  {
   "cell_type": "code",
   "execution_count": 110,
   "metadata": {
    "slideshow": {
     "slide_type": "subslide"
    }
   },
   "outputs": [
    {
     "name": "stdout",
     "output_type": "stream",
     "text": [
      "@@ -32,24 +32,42 @@\n",
      " tag = False\n",
      "\n",
      "+    quote = False\n",
      "\n",
      "     out = \"\"\n",
      "\n",
      "@@ -88,50 +88,43 @@\n",
      "  s:\n",
      "\n",
      "-        if c == '<':    # start of markup\n",
      "\n",
      "+        if c == '<' and not quote:\n",
      "\n",
      "     \n",
      "\n",
      "@@ -199,24 +199,97 @@\n",
      " tag = False\n",
      "\n",
      "+        elif c == '\"' or c == \"'\" and tag:\n",
      "            quote = not quote\n",
      "\n",
      "         elif\n",
      "\n"
     ]
    }
   ],
   "source": [
    "for p in fail_patches:\n",
    "    print(urllib.parse.unquote(str(p)))"
   ]
  },
  {
   "cell_type": "markdown",
   "metadata": {
    "slideshow": {
     "slide_type": "slide"
    }
   },
   "source": [
    "## A ChangeDebugger class"
   ]
  },
  {
   "cell_type": "markdown",
   "metadata": {
    "slideshow": {
     "slide_type": "fragment"
    }
   },
   "source": [
    "```python\n",
    "with ChangeDebugger(source, patches):\n",
    "    foo()\n",
    "```"
   ]
  },
  {
   "cell_type": "markdown",
   "metadata": {
    "slideshow": {
     "slide_type": "fragment"
    }
   },
   "source": [
    "```python\n",
    "exec(source); foo() -> PASS\n",
    "bad_source = patch(source); exec(bad_source); foo() -> FAIL\n",
    "```"
   ]
  },
  {
   "cell_type": "markdown",
   "metadata": {
    "slideshow": {
     "slide_type": "fragment"
    }
   },
   "source": [
    "or better:"
   ]
  },
  {
   "cell_type": "markdown",
   "metadata": {
    "slideshow": {
     "slide_type": "subslide"
    }
   },
   "source": [
    "```python\n",
    "with ChangeDebugger(pass_source, fail_source):\n",
    "    foo()\n",
    "```"
   ]
  },
  {
   "cell_type": "markdown",
   "metadata": {
    "slideshow": {
     "slide_type": "fragment"
    }
   },
   "source": [
    "Implement general dd() here. Consider extending DeltaDebugger such that it not only has `reduced_args()`, but also `maximized_args()`, and `minimal_arg_diff()`."
   ]
  },
  {
   "cell_type": "markdown",
   "metadata": {
    "slideshow": {
     "slide_type": "subslide"
    }
   },
   "source": [
    "### Excursion: All the Details"
   ]
  },
  {
   "cell_type": "markdown",
   "metadata": {
    "slideshow": {
     "slide_type": "fragment"
    }
   },
   "source": [
    "This text will only show up on demand (HTML) or not at all (PDF). This is useful for longer implementations, or repetitive, or specialized parts."
   ]
  },
  {
   "cell_type": "markdown",
   "metadata": {
    "slideshow": {
     "slide_type": "subslide"
    }
   },
   "source": [
    "### End of Excursion"
   ]
  },
  {
   "cell_type": "markdown",
   "metadata": {
    "button": false,
    "new_sheet": false,
    "run_control": {
     "read_only": false
    },
    "slideshow": {
     "slide_type": "subslide"
    }
   },
   "source": [
    "## _Section 3_\n",
    "\n",
    "\\todo{Add}\n",
    "\n",
    "_If you want to introduce code, it is helpful to state the most important functions, as in:_\n",
    "\n",
    "* `random.randrange(start, end)` - return a random number [`start`, `end`]\n",
    "* `range(start, end)` - create a list with integers from `start` to `end`.  Typically used in iterations.\n",
    "* `for elem in list: body` executes `body` in a loop with `elem` taking each value from `list`.\n",
    "* `for i in range(start, end): body` executes `body` in a loop with `i` from `start` to `end` - 1.\n",
    "* `chr(n)` - return a character with ASCII code `n`"
   ]
  },
  {
   "cell_type": "code",
   "execution_count": 111,
   "metadata": {
    "slideshow": {
     "slide_type": "skip"
    }
   },
   "outputs": [],
   "source": [
    "import random"
   ]
  },
  {
   "cell_type": "code",
   "execution_count": 112,
   "metadata": {
    "slideshow": {
     "slide_type": "subslide"
    }
   },
   "outputs": [],
   "source": [
    "def int_fuzzer():\n",
    "    \"\"\"A simple function that returns a random integer\"\"\"\n",
    "    return random.randrange(1, 100) + 0.5"
   ]
  },
  {
   "cell_type": "code",
   "execution_count": 113,
   "metadata": {
    "button": false,
    "code_folding": [],
    "new_sheet": false,
    "run_control": {
     "read_only": false
    },
    "slideshow": {
     "slide_type": "subslide"
    }
   },
   "outputs": [],
   "source": [
    "# More code\n",
    "pass"
   ]
  },
  {
   "cell_type": "markdown",
   "metadata": {
    "button": false,
    "new_sheet": false,
    "run_control": {
     "read_only": false
    },
    "slideshow": {
     "slide_type": "slide"
    }
   },
   "source": [
    "## _Section 4_\n",
    "\n",
    "\\todo{Add}"
   ]
  },
  {
   "cell_type": "markdown",
   "metadata": {
    "slideshow": {
     "slide_type": "slide"
    }
   },
   "source": [
    "## Synopsis"
   ]
  },
  {
   "cell_type": "markdown",
   "metadata": {
    "slideshow": {
     "slide_type": "fragment"
    }
   },
   "source": [
    "_For those only interested in using the code in this chapter (without wanting to know how it works), give an example.  This will be copied to the beginning of the chapter (before the first section) as text with rendered input and output._"
   ]
  },
  {
   "cell_type": "markdown",
   "metadata": {
    "slideshow": {
     "slide_type": "fragment"
    }
   },
   "source": [
    "You can use `int_fuzzer()` as:"
   ]
  },
  {
   "cell_type": "code",
   "execution_count": 114,
   "metadata": {
    "slideshow": {
     "slide_type": "fragment"
    }
   },
   "outputs": [
    {
     "name": "stdout",
     "output_type": "stream",
     "text": [
      "76.5\n"
     ]
    }
   ],
   "source": [
    "print(int_fuzzer())"
   ]
  },
  {
   "cell_type": "markdown",
   "metadata": {
    "button": false,
    "new_sheet": true,
    "run_control": {
     "read_only": false
    },
    "slideshow": {
     "slide_type": "slide"
    }
   },
   "source": [
    "## Lessons Learned\n",
    "\n",
    "* _Lesson one_\n",
    "* _Lesson two_\n",
    "* _Lesson three_"
   ]
  },
  {
   "cell_type": "markdown",
   "metadata": {
    "button": false,
    "new_sheet": false,
    "run_control": {
     "read_only": false
    },
    "slideshow": {
     "slide_type": "slide"
    }
   },
   "source": [
    "## Next Steps\n",
    "\n",
    "_Link to subsequent chapters (notebooks) here, as in:_\n",
    "\n",
    "* [use _mutations_ on existing inputs to get more valid inputs](MutationFuzzer.ipynb)\n",
    "* [use _grammars_ (i.e., a specification of the input format) to get even more valid inputs](Grammars.ipynb)\n",
    "* [reduce _failing inputs_ for efficient debugging](Reducer.ipynb)\n"
   ]
  },
  {
   "cell_type": "markdown",
   "metadata": {
    "slideshow": {
     "slide_type": "slide"
    }
   },
   "source": [
    "## Background\n",
    "\n",
    "_Cite relevant works in the literature and put them into context, as in:_\n",
    "\n",
    "The idea of ensuring that each expansion in the grammar is used at least once goes back to Burkhardt \\cite{Burkhardt1967}, to be later rediscovered by Paul Purdom \\cite{Purdom1972}."
   ]
  },
  {
   "cell_type": "markdown",
   "metadata": {
    "button": false,
    "new_sheet": true,
    "run_control": {
     "read_only": false
    },
    "slideshow": {
     "slide_type": "slide"
    }
   },
   "source": [
    "## Exercises\n",
    "\n",
    "_Close the chapter with a few exercises such that people have things to do.  To make the solutions hidden (to be revealed by the user), have them start with_\n",
    "\n",
    "```\n",
    "**Solution.**\n",
    "```\n",
    "\n",
    "_Your solution can then extend up to the next title (i.e., any markdown cell starting with `#`)._\n",
    "\n",
    "_Running `make metadata` will automatically add metadata to the cells such that the cells will be hidden by default, and can be uncovered by the user.  The button will be introduced above the solution._"
   ]
  },
  {
   "cell_type": "markdown",
   "metadata": {
    "button": false,
    "new_sheet": false,
    "run_control": {
     "read_only": false
    },
    "slideshow": {
     "slide_type": "subslide"
    }
   },
   "source": [
    "### Exercise 1: _Title_\n",
    "\n",
    "_Text of the exercise_"
   ]
  },
  {
   "cell_type": "code",
   "execution_count": 115,
   "metadata": {
    "cell_style": "center",
    "slideshow": {
     "slide_type": "fragment"
    }
   },
   "outputs": [],
   "source": [
    "# Some code that is part of the exercise\n",
    "pass"
   ]
  },
  {
   "cell_type": "markdown",
   "metadata": {
    "slideshow": {
     "slide_type": "fragment"
    },
    "solution2": "hidden",
    "solution2_first": true
   },
   "source": [
    "_Some more text for the exercise_"
   ]
  },
  {
   "cell_type": "markdown",
   "metadata": {
    "slideshow": {
     "slide_type": "skip"
    },
    "solution2": "hidden"
   },
   "source": [
    "**Solution.** _Some text for the solution_"
   ]
  },
  {
   "cell_type": "code",
   "execution_count": 116,
   "metadata": {
    "cell_style": "split",
    "slideshow": {
     "slide_type": "skip"
    },
    "solution2": "hidden"
   },
   "outputs": [
    {
     "data": {
      "text/plain": [
       "4"
      ]
     },
     "execution_count": 116,
     "metadata": {},
     "output_type": "execute_result"
    }
   ],
   "source": [
    "# Some code for the solution\n",
    "2 + 2"
   ]
  },
  {
   "cell_type": "markdown",
   "metadata": {
    "slideshow": {
     "slide_type": "skip"
    },
    "solution2": "hidden"
   },
   "source": [
    "_Some more text for the solution_"
   ]
  },
  {
   "cell_type": "markdown",
   "metadata": {
    "button": false,
    "new_sheet": false,
    "run_control": {
     "read_only": false
    },
    "slideshow": {
     "slide_type": "subslide"
    },
    "solution": "hidden",
    "solution2": "hidden",
    "solution2_first": true,
    "solution_first": true
   },
   "source": [
    "### Exercise 2: _Title_\n",
    "\n",
    "_Text of the exercise_"
   ]
  },
  {
   "cell_type": "markdown",
   "metadata": {
    "button": false,
    "new_sheet": false,
    "run_control": {
     "read_only": false
    },
    "slideshow": {
     "slide_type": "skip"
    },
    "solution": "hidden",
    "solution2": "hidden"
   },
   "source": [
    "**Solution.** _Solution for the exercise_"
   ]
  }
 ],
 "metadata": {
  "ipub": {
   "bibliography": "fuzzingbook.bib",
   "toc": true
  },
  "kernelspec": {
   "display_name": "Python 3",
   "language": "python",
   "name": "python3"
  },
  "language_info": {
   "codemirror_mode": {
    "name": "ipython",
    "version": 3
   },
   "file_extension": ".py",
   "mimetype": "text/x-python",
   "name": "python",
   "nbconvert_exporter": "python",
   "pygments_lexer": "ipython3",
   "version": "3.6.10"
  },
  "toc": {
   "base_numbering": 1,
   "nav_menu": {},
   "number_sections": true,
   "sideBar": true,
   "skip_h1_title": true,
   "title_cell": "",
   "title_sidebar": "Contents",
   "toc_cell": false,
   "toc_position": {},
   "toc_section_display": true,
   "toc_window_display": true
  },
  "toc-autonumbering": false
 },
 "nbformat": 4,
 "nbformat_minor": 4
}
