{
 "cells": [
  {
   "cell_type": "markdown",
   "metadata": {
    "button": false,
    "new_sheet": false,
    "run_control": {
     "read_only": false
    },
    "slideshow": {
     "slide_type": "slide"
    }
   },
   "source": [
    "# Isolating Failure-Inducing Changes\n",
    "\n",
    "\"Yesterday, my program worked. Today, it does not. Why?\" In debugging, as elsewhere in software development, code keeps on changing. Thus, it can happen that a piece of code that yesterday was working perfectly, today no longer runs – because we (or others) have made some changes to it that cause it to fail. The good news is that for debugging, we can actually _exploit_ this version history to narrow down _the changes that caused the failure_ – be it by us or by others."
   ]
  },
  {
   "cell_type": "code",
   "execution_count": 1,
   "metadata": {
    "execution": {
     "iopub.execute_input": "2021-05-13T12:31:06.571671Z",
     "iopub.status.busy": "2021-05-13T12:31:06.571025Z",
     "iopub.status.idle": "2021-05-13T12:31:06.731179Z",
     "shell.execute_reply": "2021-05-13T12:31:06.731718Z"
    },
    "slideshow": {
     "slide_type": "skip"
    }
   },
   "outputs": [
    {
     "data": {
      "text/html": [
       "\n",
       "        <iframe\n",
       "            width=\"640\"\n",
       "            height=\"360\"\n",
       "            src=\"https://www.youtube-nocookie.com/embed/hX9ViNEXGL8\"\n",
       "            frameborder=\"0\"\n",
       "            allowfullscreen\n",
       "        ></iframe>\n",
       "        "
      ],
      "text/plain": [
       "<IPython.lib.display.IFrame at 0x7f8ce69dd860>"
      ]
     },
     "execution_count": 1,
     "metadata": {},
     "output_type": "execute_result"
    }
   ],
   "source": [
    "from bookutils import YouTubeVideo\n",
    "YouTubeVideo(\"hX9ViNEXGL8\")"
   ]
  },
  {
   "cell_type": "markdown",
   "metadata": {
    "button": false,
    "new_sheet": false,
    "run_control": {
     "read_only": false
    },
    "slideshow": {
     "slide_type": "subslide"
    }
   },
   "source": [
    "**Prerequisites**\n",
    "\n",
    "* You should have read the [Chapter on Delta Debugging](DeltaDebugger.ipynb).\n",
    "* Knowledge on version control systems (notably git) will be useful."
   ]
  },
  {
   "cell_type": "code",
   "execution_count": 2,
   "metadata": {
    "button": false,
    "execution": {
     "iopub.execute_input": "2021-05-13T12:31:06.735511Z",
     "iopub.status.busy": "2021-05-13T12:31:06.734751Z",
     "iopub.status.idle": "2021-05-13T12:31:06.736522Z",
     "shell.execute_reply": "2021-05-13T12:31:06.736949Z"
    },
    "new_sheet": false,
    "run_control": {
     "read_only": false
    },
    "slideshow": {
     "slide_type": "skip"
    }
   },
   "outputs": [],
   "source": [
    "import bookutils"
   ]
  },
  {
   "cell_type": "code",
   "execution_count": 3,
   "metadata": {
    "execution": {
     "iopub.execute_input": "2021-05-13T12:31:06.740467Z",
     "iopub.status.busy": "2021-05-13T12:31:06.739899Z",
     "iopub.status.idle": "2021-05-13T12:31:06.741651Z",
     "shell.execute_reply": "2021-05-13T12:31:06.742107Z"
    },
    "slideshow": {
     "slide_type": "skip"
    }
   },
   "outputs": [],
   "source": [
    "from bookutils import quiz, print_file, print_content"
   ]
  },
  {
   "cell_type": "code",
   "execution_count": 4,
   "metadata": {
    "execution": {
     "iopub.execute_input": "2021-05-13T12:31:06.745481Z",
     "iopub.status.busy": "2021-05-13T12:31:06.744908Z",
     "iopub.status.idle": "2021-05-13T12:31:06.746816Z",
     "shell.execute_reply": "2021-05-13T12:31:06.747345Z"
    },
    "slideshow": {
     "slide_type": "fragment"
    }
   },
   "outputs": [],
   "source": [
    "# ignore\n",
    "from typing import Dict, Callable, TextIO, List, Tuple, Set, Any, Type"
   ]
  },
  {
   "cell_type": "markdown",
   "metadata": {
    "slideshow": {
     "slide_type": "skip"
    }
   },
   "source": [
    "## Synopsis\n",
    "<!-- Automatically generated. Do not edit. -->\n",
    "\n",
    "To [use the code provided in this chapter](Importing.ipynb), write\n",
    "\n",
    "```python\n",
    ">>> from debuggingbook.ChangeDebugger import <identifier>\n",
    "```\n",
    "\n",
    "and then make use of the following features.\n",
    "\n",
    "\n",
    "This chapter introduces a class `ChangeDebugger` that automatically determines failure-inducing code changes.\n",
    "\n",
    "### High-Level Interface\n",
    "\n",
    "You are given two Python source codes `source_pass` and `source_fail`, and a function `test()` that works using the definitions in `source_pass`, but raises an exception using the definitions in `source_fail`. Then, you can use `ChangeDebugger` as follows:\n",
    "\n",
    "```python\n",
    "with ChangeDebugger(source_pass, source_fail) as cd:\n",
    "    test()\n",
    "cd\n",
    "```\n",
    "\n",
    "This will produce the failure-inducing change between `source_pass` and `source_fail`, using [Delta Debugging](DeltaDebugger.ipynb) to determine minimal differences in patches applied.\n",
    "\n",
    "Here is an example. The function `test()` passes (raises no exception) if `remove_html_markup()` is defined as follows:\n",
    "\n",
    "```python\n",
    ">>> print_content(source_pass, '.py')\n",
    "def remove_html_markup(s):  # type: ignore\n",
    "    tag = False\n",
    "    out = \"\"\n",
    "\n",
    "    for c in s:\n",
    "        if c == '<':    # start of markup\n",
    "            tag = True\n",
    "        elif c == '>':  # end of markup\n",
    "            tag = False\n",
    "        elif not tag:\n",
    "            out = out + c\n",
    "\n",
    "    return out\n",
    ">>> def test() -> None:\n",
    ">>>     assert remove_html_markup('\"foo\"') == '\"foo\"'\n",
    ">>> exec(source_pass)\n",
    ">>> test()\n",
    "```\n",
    "If `remove_html_markup()` is changed as follows, though, then\n",
    "`test()` raises an exception and fails:\n",
    "\n",
    "```python\n",
    ">>> print_content(source_fail, '.py')\n",
    "def remove_html_markup(s):  # type: ignore\n",
    "    tag = False\n",
    "    quote = False\n",
    "    out = \"\"\n",
    "\n",
    "    for c in s:\n",
    "        if c == '<' and not quote:\n",
    "            tag = True\n",
    "        elif c == '>' and not quote:\n",
    "            tag = False\n",
    "        elif c == '\"' or c == \"'\" and tag:\n",
    "            quote = not quote\n",
    "        elif not tag:\n",
    "            out = out + c\n",
    "\n",
    "    return out\n",
    ">>> exec(source_fail)\n",
    ">>> with ExpectError(AssertionError):\n",
    ">>>     test()\n",
    "Traceback (most recent call last):\n",
    "  File \"<ipython-input-1-234ae8e4c288>\", line 3, in <module>\n",
    "    test()\n",
    "  File \"<ipython-input-1-3586595aba89>\", line 2, in test\n",
    "    assert remove_html_markup('\"foo\"') == '\"foo\"'\n",
    "AssertionError (expected)\n",
    "\n",
    "```\n",
    "We can use `ChangeDebugger` to automatically identify the failure-inducing difference:\n",
    "\n",
    "```python\n",
    ">>> with ChangeDebugger(source_pass, source_fail) as cd:\n",
    ">>>     test()\n",
    ">>> cd\n",
    "@@ -215,24 +215,97 @@\n",
    " tag = False\n",
    "\n",
    "+        elif c == '\"' or c == \"'\" and tag:\n",
    "            quote = not quote\n",
    "\n",
    "         elif\n",
    "```\n",
    "The lines prefixed with `+` from are the ones in `source_fail` that cause the failure when added. (They also are the ones that should be fixed.)\n",
    "\n",
    "### Programmatic Interface\n",
    "\n",
    "For more details or more automation, use the programmatic interface. The method `min_patches()` returns a triple (`pass_patches`, `fail_patches`, `diffs`) where\n",
    "\n",
    "* applying `pass_patches` still make the call pass\n",
    "* applying `fail_patches` causes the call to fail\n",
    "* `diffs` is the (minimal) difference between the two.\n",
    "\n",
    "The patches come as list of `patch_obj` objects, as defined by Google's [diff-match-patch library](https://github.com/google/diff-match-patch).\n",
    "\n",
    "```python\n",
    ">>> pass_patches, fail_patches, diffs = cd.min_patches()\n",
    "```\n",
    "One can apply all patches in `pass_patches` and still not cause the test to fail:\n",
    "\n",
    "```python\n",
    ">>> for p in pass_patches:\n",
    ">>>     print_patch(p)\n",
    "@@ -48,24 +48,42 @@\n",
    " tag = False\n",
    "\n",
    "+    quote = False\n",
    "\n",
    "     out = \"\"\n",
    "@@ -104,50 +104,43 @@\n",
    "  s:\n",
    "\n",
    "-        if c == '<':    # start of markup\n",
    "\n",
    "+        if c == '<' and not quote:\n",
    "\n",
    "```\n",
    "However, as soon as we also apply the patches in `diffs`, we get the failure. (This is also what is shown when we output a `ChangeDebugger`.)\n",
    "\n",
    "```python\n",
    ">>> for p in diffs:\n",
    ">>>     print_patch(p)\n",
    "@@ -215,24 +215,97 @@\n",
    " tag = False\n",
    "\n",
    "+        elif c == '\"' or c == \"'\" and tag:\n",
    "            quote = not quote\n",
    "\n",
    "         elif\n",
    "\n",
    "```\n",
    "The full set of methods in `ChangeDebugger` is shown below.\n",
    "\n",
    "![](PICS/ChangeDebugger-synopsis-1.svg)\n",
    "\n",
    "### Supporting Functions\n",
    "\n",
    "`ChangeDebugger` relies on lower level `patch()` and `diff()` functions.\n",
    "\n",
    "To apply patch objects on source code, use the `patch()` function. It takes a source code and a list of patches to be applied.\n",
    "\n",
    "```python\n",
    ">>> print_content(patch(source_pass, diffs), '.py')\n",
    "def remove_html_markup(s):  # type: ignore\n",
    "    tag = False\n",
    "    out = \"\"\n",
    "\n",
    "    for c in s:\n",
    "        if c == '<':    # start of markup\n",
    "            tag = True\n",
    "        elif c == '>':  # end of markup\n",
    "            tag = False\n",
    "        elif c == '\"' or c == \"'\" and tag:\n",
    "            quote = not quote\n",
    "        elif not tag:\n",
    "            out = out + c\n",
    "\n",
    "    return out\n",
    "```\n",
    "Conversely, the `diff()` function computes patches between two texts. It returns a list of patch objects that can be applied on text.\n",
    "\n",
    "```python\n",
    ">>> for p in diff(source_pass, source_fail):\n",
    ">>>     print_patch(p)\n",
    "@@ -48,24 +48,42 @@\n",
    " tag = False\n",
    "\n",
    "+    quote = False\n",
    "\n",
    "     out = \"\"\n",
    "@@ -104,50 +104,43 @@\n",
    "  s:\n",
    "\n",
    "-        if c == '<':    # start of markup\n",
    "\n",
    "+        if c == '<' and not quote:\n",
    "@@ -162,48 +162,45 @@\n",
    " rue\n",
    "\n",
    "-        elif c == '>':  # end of markup\n",
    "\n",
    "+        elif c == '>' and not quote:\n",
    "@@ -215,24 +215,97 @@\n",
    " tag = False\n",
    "\n",
    "+        elif c == '\"' or c == \"'\" and tag:\n",
    "            quote = not quote\n",
    "\n",
    "         elif\n",
    "\n",
    "```\n"
   ]
  },
  {
   "cell_type": "markdown",
   "metadata": {
    "slideshow": {
     "slide_type": "slide"
    }
   },
   "source": [
    "## Changes and Bugs\n",
    "\n",
    "When you develop software, it is unlikely that you will be able to produce a fully working piece of software right from the beginning – hence the need for debugging. It is just as unlikely, though, that your software will stay _unchanged_ forever. Evolving requirements, the introduction of new technology, changes in the environment all induce software changes – and every such change brings the risk of introducing new bugs.\n",
    "\n",
    "To detect such bugs introduced by changes, systematic (and best automatic) _testing_, notably _regression testing_, can be a big help; in fact, the more comprehensive and the more automated your testing strategy is, the more it actually _enables_ evolving your software, because every new test lowers the risk of a change introducing a bug. Extensive testing is what enables agile development – and we're happy to point to our [sibling book on test generation](https://www.fuzzingbook.org) to give you some inspiration on how to do this.\n",
    "\n",
    "However, a test can only _detect_ failures, not _fix_ them. The more you change, the more you may need to fix, too. The good news is that there are a number of debugging techniques, manual and automated, that can actually _exploit_ the presence of older, working software versions to effectively narrow down the causes of failure in a new, failing software."
   ]
  },
  {
   "cell_type": "markdown",
   "metadata": {
    "button": false,
    "new_sheet": true,
    "run_control": {
     "read_only": false
    },
    "slideshow": {
     "slide_type": "slide"
    }
   },
   "source": [
    "## Leveraging Version Histories\n",
    "\n",
    "The fundamental prerequisite for exploiting older, working software versions is to have such older, working versions in the first place. If your software _always_ failed, then you will have to resort to conventional debugging. But if there is an older _working_ version, you can make use of it.\n",
    "\n",
    "We assume that you do have a _version repository_ such as git or SVN, which you use to organize software development and keep older software versions.  (If you do _not_ use version control for your project, you are in [debugging hell](Intro_Debugging.ipynb). Go and set it up now, and come back once you're done.)\n",
    "\n",
    "If you have a version history, an older working version, and a new failing version, your situation is roughly as depicted in this diagram:"
   ]
  },
  {
   "cell_type": "code",
   "execution_count": 5,
   "metadata": {
    "execution": {
     "iopub.execute_input": "2021-05-13T12:31:06.751332Z",
     "iopub.status.busy": "2021-05-13T12:31:06.750369Z",
     "iopub.status.idle": "2021-05-13T12:31:06.755580Z",
     "shell.execute_reply": "2021-05-13T12:31:06.755999Z"
    },
    "ipub": {
     "ignore": true
    },
    "slideshow": {
     "slide_type": "skip"
    }
   },
   "outputs": [],
   "source": [
    "from graphviz import Digraph, nohtml"
   ]
  },
  {
   "cell_type": "code",
   "execution_count": 6,
   "metadata": {
    "execution": {
     "iopub.execute_input": "2021-05-13T12:31:06.759589Z",
     "iopub.status.busy": "2021-05-13T12:31:06.758956Z",
     "iopub.status.idle": "2021-05-13T12:31:06.760926Z",
     "shell.execute_reply": "2021-05-13T12:31:06.761493Z"
    },
    "ipub": {
     "ignore": true
    },
    "slideshow": {
     "slide_type": "skip"
    }
   },
   "outputs": [],
   "source": [
    "from IPython.display import display"
   ]
  },
  {
   "cell_type": "code",
   "execution_count": 7,
   "metadata": {
    "execution": {
     "iopub.execute_input": "2021-05-13T12:31:06.766464Z",
     "iopub.status.busy": "2021-05-13T12:31:06.765499Z",
     "iopub.status.idle": "2021-05-13T12:31:06.767902Z",
     "shell.execute_reply": "2021-05-13T12:31:06.768411Z"
    },
    "ipub": {
     "ignore": true
    },
    "slideshow": {
     "slide_type": "subslide"
    }
   },
   "outputs": [],
   "source": [
    "# ignore\n",
    "PASS = \"✔\"\n",
    "FAIL = \"✘\"\n",
    "UNRESOLVED = \"?\"\n",
    "\n",
    "PASS_COLOR = 'darkgreen'  # '#006400' # darkgreen\n",
    "FAIL_COLOR = 'red4'  # '#8B0000' # darkred\n",
    "\n",
    "STEP_COLOR = 'peachpuff'\n",
    "FONT_NAME = 'Raleway'"
   ]
  },
  {
   "cell_type": "code",
   "execution_count": 8,
   "metadata": {
    "execution": {
     "iopub.execute_input": "2021-05-13T12:31:06.773231Z",
     "iopub.status.busy": "2021-05-13T12:31:06.772573Z",
     "iopub.status.idle": "2021-05-13T12:31:06.774458Z",
     "shell.execute_reply": "2021-05-13T12:31:06.775013Z"
    },
    "ipub": {
     "ignore": true
    },
    "slideshow": {
     "slide_type": "subslide"
    }
   },
   "outputs": [],
   "source": [
    "# ignore\n",
    "def graph(comment: str = \"default\") -> Digraph:\n",
    "    return Digraph(name='', comment=comment,\n",
    "                   graph_attr={\n",
    "                       'rankdir': 'LR',\n",
    "                   },\n",
    "                   node_attr={\n",
    "                       'style': 'filled',\n",
    "                       'shape': 'box',\n",
    "                       'fillcolor': STEP_COLOR,\n",
    "                       'fontname': FONT_NAME,\n",
    "                   },\n",
    "                   edge_attr={\n",
    "                       'fontname': FONT_NAME,\n",
    "                   })"
   ]
  },
  {
   "cell_type": "code",
   "execution_count": 9,
   "metadata": {
    "execution": {
     "iopub.execute_input": "2021-05-13T12:31:06.781108Z",
     "iopub.status.busy": "2021-05-13T12:31:06.780508Z",
     "iopub.status.idle": "2021-05-13T12:31:06.782069Z",
     "shell.execute_reply": "2021-05-13T12:31:06.782481Z"
    },
    "ipub": {
     "ignore": true
    },
    "slideshow": {
     "slide_type": "subslide"
    }
   },
   "outputs": [],
   "source": [
    "# ignore\n",
    "VERSIONS = 8\n",
    "\n",
    "\n",
    "def display_versions(outcomes: Dict[int, str]) -> Digraph:\n",
    "    state_machine = graph()\n",
    "    for version_number in range(1, VERSIONS + 1):\n",
    "        id = f'v{version_number}'\n",
    "        label = f' {outcomes [version_number]}' \\\n",
    "            if version_number in outcomes else ''\n",
    "        state_machine.node(id, label=f'{id}{label}')\n",
    "        if version_number > 1:\n",
    "            last_id = f'v{version_number - 1}'\n",
    "            state_machine.edge(last_id, id)\n",
    "\n",
    "    display(state_machine)"
   ]
  },
  {
   "cell_type": "code",
   "execution_count": 10,
   "metadata": {
    "execution": {
     "iopub.execute_input": "2021-05-13T12:31:06.786525Z",
     "iopub.status.busy": "2021-05-13T12:31:06.785931Z",
     "iopub.status.idle": "2021-05-13T12:31:07.507219Z",
     "shell.execute_reply": "2021-05-13T12:31:07.507642Z"
    },
    "slideshow": {
     "slide_type": "subslide"
    }
   },
   "outputs": [
    {
     "data": {
      "image/svg+xml": [
       "<?xml version=\"1.0\" encoding=\"UTF-8\" standalone=\"no\"?>\n",
       "<!DOCTYPE svg PUBLIC \"-//W3C//DTD SVG 1.1//EN\"\n",
       " \"http://www.w3.org/Graphics/SVG/1.1/DTD/svg11.dtd\">\n",
       "<!-- Generated by graphviz version 2.40.1 (20161225.0304)\n",
       " -->\n",
       "<!-- Title: %3 Pages: 1 -->\n",
       "<svg width=\"692pt\" height=\"44pt\"\n",
       " viewBox=\"0.00 0.00 692.00 44.00\" xmlns=\"http://www.w3.org/2000/svg\" xmlns:xlink=\"http://www.w3.org/1999/xlink\">\n",
       "<g id=\"graph0\" class=\"graph\" transform=\"scale(1 1) rotate(0) translate(4 40)\">\n",
       "<title>%3</title>\n",
       "<polygon fill=\"#ffffff\" stroke=\"transparent\" points=\"-4,4 -4,-40 688,-40 688,4 -4,4\"/>\n",
       "<!-- v1 -->\n",
       "<g id=\"node1\" class=\"node\">\n",
       "<title>v1</title>\n",
       "<polygon fill=\"#ffdab9\" stroke=\"#000000\" points=\"54,-36 0,-36 0,0 54,0 54,-36\"/>\n",
       "<text text-anchor=\"middle\" x=\"27\" y=\"-14.3\" font-family=\"Raleway\" font-size=\"14.00\" fill=\"#000000\">v1 ✔</text>\n",
       "</g>\n",
       "<!-- v2 -->\n",
       "<g id=\"node2\" class=\"node\">\n",
       "<title>v2</title>\n",
       "<polygon fill=\"#ffdab9\" stroke=\"#000000\" points=\"144,-36 90,-36 90,0 144,0 144,-36\"/>\n",
       "<text text-anchor=\"middle\" x=\"117\" y=\"-14.3\" font-family=\"Raleway\" font-size=\"14.00\" fill=\"#000000\">v2</text>\n",
       "</g>\n",
       "<!-- v1&#45;&gt;v2 -->\n",
       "<g id=\"edge1\" class=\"edge\">\n",
       "<title>v1&#45;&gt;v2</title>\n",
       "<path fill=\"none\" stroke=\"#000000\" d=\"M54.003,-18C62.0277,-18 70.9665,-18 79.5309,-18\"/>\n",
       "<polygon fill=\"#000000\" stroke=\"#000000\" points=\"79.7051,-21.5001 89.705,-18 79.705,-14.5001 79.7051,-21.5001\"/>\n",
       "</g>\n",
       "<!-- v3 -->\n",
       "<g id=\"node3\" class=\"node\">\n",
       "<title>v3</title>\n",
       "<polygon fill=\"#ffdab9\" stroke=\"#000000\" points=\"234,-36 180,-36 180,0 234,0 234,-36\"/>\n",
       "<text text-anchor=\"middle\" x=\"207\" y=\"-14.3\" font-family=\"Raleway\" font-size=\"14.00\" fill=\"#000000\">v3</text>\n",
       "</g>\n",
       "<!-- v2&#45;&gt;v3 -->\n",
       "<g id=\"edge2\" class=\"edge\">\n",
       "<title>v2&#45;&gt;v3</title>\n",
       "<path fill=\"none\" stroke=\"#000000\" d=\"M144.003,-18C152.0277,-18 160.9665,-18 169.5309,-18\"/>\n",
       "<polygon fill=\"#000000\" stroke=\"#000000\" points=\"169.7051,-21.5001 179.705,-18 169.705,-14.5001 169.7051,-21.5001\"/>\n",
       "</g>\n",
       "<!-- v4 -->\n",
       "<g id=\"node4\" class=\"node\">\n",
       "<title>v4</title>\n",
       "<polygon fill=\"#ffdab9\" stroke=\"#000000\" points=\"324,-36 270,-36 270,0 324,0 324,-36\"/>\n",
       "<text text-anchor=\"middle\" x=\"297\" y=\"-14.3\" font-family=\"Raleway\" font-size=\"14.00\" fill=\"#000000\">v4</text>\n",
       "</g>\n",
       "<!-- v3&#45;&gt;v4 -->\n",
       "<g id=\"edge3\" class=\"edge\">\n",
       "<title>v3&#45;&gt;v4</title>\n",
       "<path fill=\"none\" stroke=\"#000000\" d=\"M234.003,-18C242.0277,-18 250.9665,-18 259.5309,-18\"/>\n",
       "<polygon fill=\"#000000\" stroke=\"#000000\" points=\"259.7051,-21.5001 269.705,-18 259.705,-14.5001 259.7051,-21.5001\"/>\n",
       "</g>\n",
       "<!-- v5 -->\n",
       "<g id=\"node5\" class=\"node\">\n",
       "<title>v5</title>\n",
       "<polygon fill=\"#ffdab9\" stroke=\"#000000\" points=\"414,-36 360,-36 360,0 414,0 414,-36\"/>\n",
       "<text text-anchor=\"middle\" x=\"387\" y=\"-14.3\" font-family=\"Raleway\" font-size=\"14.00\" fill=\"#000000\">v5</text>\n",
       "</g>\n",
       "<!-- v4&#45;&gt;v5 -->\n",
       "<g id=\"edge4\" class=\"edge\">\n",
       "<title>v4&#45;&gt;v5</title>\n",
       "<path fill=\"none\" stroke=\"#000000\" d=\"M324.003,-18C332.0277,-18 340.9665,-18 349.5309,-18\"/>\n",
       "<polygon fill=\"#000000\" stroke=\"#000000\" points=\"349.7051,-21.5001 359.705,-18 349.705,-14.5001 349.7051,-21.5001\"/>\n",
       "</g>\n",
       "<!-- v6 -->\n",
       "<g id=\"node6\" class=\"node\">\n",
       "<title>v6</title>\n",
       "<polygon fill=\"#ffdab9\" stroke=\"#000000\" points=\"504,-36 450,-36 450,0 504,0 504,-36\"/>\n",
       "<text text-anchor=\"middle\" x=\"477\" y=\"-14.3\" font-family=\"Raleway\" font-size=\"14.00\" fill=\"#000000\">v6</text>\n",
       "</g>\n",
       "<!-- v5&#45;&gt;v6 -->\n",
       "<g id=\"edge5\" class=\"edge\">\n",
       "<title>v5&#45;&gt;v6</title>\n",
       "<path fill=\"none\" stroke=\"#000000\" d=\"M414.003,-18C422.0277,-18 430.9665,-18 439.5309,-18\"/>\n",
       "<polygon fill=\"#000000\" stroke=\"#000000\" points=\"439.7051,-21.5001 449.705,-18 439.705,-14.5001 439.7051,-21.5001\"/>\n",
       "</g>\n",
       "<!-- v7 -->\n",
       "<g id=\"node7\" class=\"node\">\n",
       "<title>v7</title>\n",
       "<polygon fill=\"#ffdab9\" stroke=\"#000000\" points=\"594,-36 540,-36 540,0 594,0 594,-36\"/>\n",
       "<text text-anchor=\"middle\" x=\"567\" y=\"-14.3\" font-family=\"Raleway\" font-size=\"14.00\" fill=\"#000000\">v7</text>\n",
       "</g>\n",
       "<!-- v6&#45;&gt;v7 -->\n",
       "<g id=\"edge6\" class=\"edge\">\n",
       "<title>v6&#45;&gt;v7</title>\n",
       "<path fill=\"none\" stroke=\"#000000\" d=\"M504.003,-18C512.0277,-18 520.9665,-18 529.5309,-18\"/>\n",
       "<polygon fill=\"#000000\" stroke=\"#000000\" points=\"529.7051,-21.5001 539.705,-18 529.705,-14.5001 529.7051,-21.5001\"/>\n",
       "</g>\n",
       "<!-- v8 -->\n",
       "<g id=\"node8\" class=\"node\">\n",
       "<title>v8</title>\n",
       "<polygon fill=\"#ffdab9\" stroke=\"#000000\" points=\"684,-36 630,-36 630,0 684,0 684,-36\"/>\n",
       "<text text-anchor=\"middle\" x=\"657\" y=\"-14.3\" font-family=\"Raleway\" font-size=\"14.00\" fill=\"#000000\">v8 ✘</text>\n",
       "</g>\n",
       "<!-- v7&#45;&gt;v8 -->\n",
       "<g id=\"edge7\" class=\"edge\">\n",
       "<title>v7&#45;&gt;v8</title>\n",
       "<path fill=\"none\" stroke=\"#000000\" d=\"M594.003,-18C602.0277,-18 610.9665,-18 619.5309,-18\"/>\n",
       "<polygon fill=\"#000000\" stroke=\"#000000\" points=\"619.7051,-21.5001 629.705,-18 619.705,-14.5001 619.7051,-21.5001\"/>\n",
       "</g>\n",
       "</g>\n",
       "</svg>\n"
      ],
      "text/plain": [
       "<graphviz.dot.Digraph at 0x7f8ce6dd66a0>"
      ]
     },
     "metadata": {},
     "output_type": "display_data"
    }
   ],
   "source": [
    "# ignore\n",
    "display_versions({1: PASS, 8: FAIL})"
   ]
  },
  {
   "cell_type": "markdown",
   "metadata": {
    "slideshow": {
     "slide_type": "subslide"
    }
   },
   "source": [
    "Somewhere between the old version \"v1\" (\"yesterday\") and the current version \"v8\" (\"today\"), the software stopped working. But when exactly? And which change was it that caused the failure?\n",
    "\n",
    "You may think that this is an easy task: We simply manually test one version after another, thus determining the exact version that first failed. However, \n",
    "\n",
    "* this can take a long time (notably in the presence of dozens or even hundreds of versions);\n",
    "* this may still leave you with _dozens of changes_ applied from one version to another; and\n",
    "* this is actually a task that can be _fully automated_.\n",
    "\n",
    "And these \"automated\" debugging techniques are what we explore in this chapter."
   ]
  },
  {
   "cell_type": "markdown",
   "metadata": {
    "button": false,
    "new_sheet": true,
    "run_control": {
     "read_only": false
    },
    "slideshow": {
     "slide_type": "slide"
    }
   },
   "source": [
    "## An Example Version History\n",
    "\n",
    "As our ongoing example, we start with creating a little version history, using the git version management system. We follow the evolution of the `remove_html_markup()` versions from [the introduction to debugging](Intro_Debugging.ipynb) and [the chapter on assertions](Assertions.ipynb)."
   ]
  },
  {
   "cell_type": "markdown",
   "metadata": {
    "slideshow": {
     "slide_type": "subslide"
    }
   },
   "source": [
    "### Create a Working Directory\n",
    "\n",
    "We start with creating a working folder (aptly named `my_project`) in which we will do our work. (Note: should you have a folder of that name, it will be deleted and re-initialized)."
   ]
  },
  {
   "cell_type": "code",
   "execution_count": 11,
   "metadata": {
    "execution": {
     "iopub.execute_input": "2021-05-13T12:31:07.511636Z",
     "iopub.status.busy": "2021-05-13T12:31:07.511045Z",
     "iopub.status.idle": "2021-05-13T12:31:07.513017Z",
     "shell.execute_reply": "2021-05-13T12:31:07.513481Z"
    },
    "slideshow": {
     "slide_type": "fragment"
    }
   },
   "outputs": [],
   "source": [
    "PROJECT = 'my_project'"
   ]
  },
  {
   "cell_type": "code",
   "execution_count": 12,
   "metadata": {
    "execution": {
     "iopub.execute_input": "2021-05-13T12:31:07.516574Z",
     "iopub.status.busy": "2021-05-13T12:31:07.516031Z",
     "iopub.status.idle": "2021-05-13T12:31:07.517719Z",
     "shell.execute_reply": "2021-05-13T12:31:07.518110Z"
    },
    "slideshow": {
     "slide_type": "skip"
    }
   },
   "outputs": [],
   "source": [
    "import os\n",
    "import shutil"
   ]
  },
  {
   "cell_type": "code",
   "execution_count": 13,
   "metadata": {
    "execution": {
     "iopub.execute_input": "2021-05-13T12:31:07.521764Z",
     "iopub.status.busy": "2021-05-13T12:31:07.521162Z",
     "iopub.status.idle": "2021-05-13T12:31:07.536970Z",
     "shell.execute_reply": "2021-05-13T12:31:07.537381Z"
    },
    "slideshow": {
     "slide_type": "fragment"
    }
   },
   "outputs": [],
   "source": [
    "try:\n",
    "    shutil.rmtree(PROJECT)\n",
    "except FileNotFoundError:\n",
    "    pass\n",
    "os.mkdir(PROJECT)"
   ]
  },
  {
   "cell_type": "markdown",
   "metadata": {
    "slideshow": {
     "slide_type": "fragment"
    }
   },
   "source": [
    "We choose the project folder as our working directory. Any file we create will be created in that folder."
   ]
  },
  {
   "cell_type": "code",
   "execution_count": 14,
   "metadata": {
    "execution": {
     "iopub.execute_input": "2021-05-13T12:31:07.540959Z",
     "iopub.status.busy": "2021-05-13T12:31:07.540366Z",
     "iopub.status.idle": "2021-05-13T12:31:07.542309Z",
     "shell.execute_reply": "2021-05-13T12:31:07.542752Z"
    },
    "slideshow": {
     "slide_type": "skip"
    }
   },
   "outputs": [],
   "source": [
    "import sys"
   ]
  },
  {
   "cell_type": "code",
   "execution_count": 15,
   "metadata": {
    "execution": {
     "iopub.execute_input": "2021-05-13T12:31:07.546366Z",
     "iopub.status.busy": "2021-05-13T12:31:07.545809Z",
     "iopub.status.idle": "2021-05-13T12:31:07.548068Z",
     "shell.execute_reply": "2021-05-13T12:31:07.548541Z"
    },
    "slideshow": {
     "slide_type": "subslide"
    }
   },
   "outputs": [],
   "source": [
    "sys.path.append(os.getcwd())\n",
    "os.chdir(PROJECT)"
   ]
  },
  {
   "cell_type": "markdown",
   "metadata": {
    "slideshow": {
     "slide_type": "subslide"
    }
   },
   "source": [
    "### Initialize Git\n",
    "\n",
    "We set up a local Git repository in our local project folder."
   ]
  },
  {
   "cell_type": "code",
   "execution_count": 16,
   "metadata": {
    "execution": {
     "iopub.execute_input": "2021-05-13T12:31:07.552461Z",
     "iopub.status.busy": "2021-05-13T12:31:07.551799Z",
     "iopub.status.idle": "2021-05-13T12:31:07.683195Z",
     "shell.execute_reply": "2021-05-13T12:31:07.683673Z"
    },
    "slideshow": {
     "slide_type": "fragment"
    }
   },
   "outputs": [
    {
     "name": "stdout",
     "output_type": "stream",
     "text": [
      "Initialized empty Git repository in /Users/zeller/Projects/debuggingbook/notebooks/my_project/.git/\r\n"
     ]
    }
   ],
   "source": [
    "!git init"
   ]
  },
  {
   "cell_type": "code",
   "execution_count": 17,
   "metadata": {
    "execution": {
     "iopub.execute_input": "2021-05-13T12:31:07.687852Z",
     "iopub.status.busy": "2021-05-13T12:31:07.687306Z",
     "iopub.status.idle": "2021-05-13T12:31:07.807969Z",
     "shell.execute_reply": "2021-05-13T12:31:07.808441Z"
    },
    "slideshow": {
     "slide_type": "fragment"
    }
   },
   "outputs": [],
   "source": [
    "!git config user.name \"Demo User\""
   ]
  },
  {
   "cell_type": "code",
   "execution_count": 18,
   "metadata": {
    "execution": {
     "iopub.execute_input": "2021-05-13T12:31:07.813160Z",
     "iopub.status.busy": "2021-05-13T12:31:07.812336Z",
     "iopub.status.idle": "2021-05-13T12:31:07.933263Z",
     "shell.execute_reply": "2021-05-13T12:31:07.932843Z"
    },
    "slideshow": {
     "slide_type": "fragment"
    }
   },
   "outputs": [],
   "source": [
    "!git config user.email \"demo-user@example.com\""
   ]
  },
  {
   "cell_type": "code",
   "execution_count": 19,
   "metadata": {
    "execution": {
     "iopub.execute_input": "2021-05-13T12:31:07.937391Z",
     "iopub.status.busy": "2021-05-13T12:31:07.936736Z",
     "iopub.status.idle": "2021-05-13T12:31:08.058783Z",
     "shell.execute_reply": "2021-05-13T12:31:08.059222Z"
    },
    "slideshow": {
     "slide_type": "fragment"
    }
   },
   "outputs": [],
   "source": [
    "!git config advice.detachedHead False"
   ]
  },
  {
   "cell_type": "markdown",
   "metadata": {
    "slideshow": {
     "slide_type": "fragment"
    }
   },
   "source": [
    "We are now ready to commit our first version. Here's the initial definition of `remove_html_markup()` from [the introduction to debugging](Intro_Debugging.ipynb)."
   ]
  },
  {
   "cell_type": "code",
   "execution_count": 20,
   "metadata": {
    "execution": {
     "iopub.execute_input": "2021-05-13T12:31:08.064521Z",
     "iopub.status.busy": "2021-05-13T12:31:08.063682Z",
     "iopub.status.idle": "2021-05-13T12:31:08.065665Z",
     "shell.execute_reply": "2021-05-13T12:31:08.066110Z"
    },
    "slideshow": {
     "slide_type": "subslide"
    }
   },
   "outputs": [],
   "source": [
    "def remove_html_markup(s):  # type: ignore\n",
    "    tag = False\n",
    "    out = \"\"\n",
    "\n",
    "    for c in s:\n",
    "        if c == '<':    # start of markup\n",
    "            tag = True\n",
    "        elif c == '>':  # end of markup\n",
    "            tag = False\n",
    "        elif not tag:\n",
    "            out = out + c\n",
    "\n",
    "    return out"
   ]
  },
  {
   "cell_type": "markdown",
   "metadata": {
    "slideshow": {
     "slide_type": "subslide"
    }
   },
   "source": [
    "The function `write_source()` takes a function `fun` and writes its source code into a file of the same name – in our case, `remove_html_markup.py`:"
   ]
  },
  {
   "cell_type": "code",
   "execution_count": 21,
   "metadata": {
    "execution": {
     "iopub.execute_input": "2021-05-13T12:31:08.069497Z",
     "iopub.status.busy": "2021-05-13T12:31:08.068938Z",
     "iopub.status.idle": "2021-05-13T12:31:08.070617Z",
     "shell.execute_reply": "2021-05-13T12:31:08.071070Z"
    },
    "slideshow": {
     "slide_type": "skip"
    }
   },
   "outputs": [],
   "source": [
    "import inspect"
   ]
  },
  {
   "cell_type": "code",
   "execution_count": 22,
   "metadata": {
    "execution": {
     "iopub.execute_input": "2021-05-13T12:31:08.074904Z",
     "iopub.status.busy": "2021-05-13T12:31:08.074373Z",
     "iopub.status.idle": "2021-05-13T12:31:08.076188Z",
     "shell.execute_reply": "2021-05-13T12:31:08.076563Z"
    },
    "slideshow": {
     "slide_type": "fragment"
    }
   },
   "outputs": [],
   "source": [
    "def write_source(fun: Callable, filename: str = None) -> None:\n",
    "    if filename is None:\n",
    "        filename = fun.__name__ + '.py'\n",
    "    with open(filename, 'w') as fh:\n",
    "        fh.write(inspect.getsource(fun))"
   ]
  },
  {
   "cell_type": "markdown",
   "metadata": {
    "slideshow": {
     "slide_type": "fragment"
    }
   },
   "source": [
    "Here is `write_source()` in action:"
   ]
  },
  {
   "cell_type": "code",
   "execution_count": 23,
   "metadata": {
    "execution": {
     "iopub.execute_input": "2021-05-13T12:31:08.080292Z",
     "iopub.status.busy": "2021-05-13T12:31:08.079646Z",
     "iopub.status.idle": "2021-05-13T12:31:08.081710Z",
     "shell.execute_reply": "2021-05-13T12:31:08.082126Z"
    },
    "slideshow": {
     "slide_type": "fragment"
    }
   },
   "outputs": [],
   "source": [
    "write_source(remove_html_markup)"
   ]
  },
  {
   "cell_type": "code",
   "execution_count": 24,
   "metadata": {
    "execution": {
     "iopub.execute_input": "2021-05-13T12:31:08.107972Z",
     "iopub.status.busy": "2021-05-13T12:31:08.084481Z",
     "iopub.status.idle": "2021-05-13T12:31:08.486945Z",
     "shell.execute_reply": "2021-05-13T12:31:08.487326Z"
    },
    "slideshow": {
     "slide_type": "subslide"
    }
   },
   "outputs": [
    {
     "name": "stdout",
     "output_type": "stream",
     "text": [
      "\u001b[34mdef\u001b[39;49;00m \u001b[32mremove_html_markup\u001b[39;49;00m(s):  \u001b[37m# type: ignore\u001b[39;49;00m\n",
      "    tag = \u001b[34mFalse\u001b[39;49;00m\n",
      "    out = \u001b[33m\"\u001b[39;49;00m\u001b[33m\"\u001b[39;49;00m\n",
      "\n",
      "    \u001b[34mfor\u001b[39;49;00m c \u001b[35min\u001b[39;49;00m s:\n",
      "        \u001b[34mif\u001b[39;49;00m c == \u001b[33m'\u001b[39;49;00m\u001b[33m<\u001b[39;49;00m\u001b[33m'\u001b[39;49;00m:    \u001b[37m# start of markup\u001b[39;49;00m\n",
      "            tag = \u001b[34mTrue\u001b[39;49;00m\n",
      "        \u001b[34melif\u001b[39;49;00m c == \u001b[33m'\u001b[39;49;00m\u001b[33m>\u001b[39;49;00m\u001b[33m'\u001b[39;49;00m:  \u001b[37m# end of markup\u001b[39;49;00m\n",
      "            tag = \u001b[34mFalse\u001b[39;49;00m\n",
      "        \u001b[34melif\u001b[39;49;00m \u001b[35mnot\u001b[39;49;00m tag:\n",
      "            out = out + c\n",
      "\n",
      "    \u001b[34mreturn\u001b[39;49;00m out"
     ]
    }
   ],
   "source": [
    "print_file('remove_html_markup.py')"
   ]
  },
  {
   "cell_type": "markdown",
   "metadata": {
    "slideshow": {
     "slide_type": "subslide"
    }
   },
   "source": [
    "With `git add` and `git commit`, we add the file to our version repository. The `-m` option defines a _message_ for the commit; this is how we (and potential co-workers) can later retrieve information on what has changed, and why. (The messages we use here are deliberately kept short.)"
   ]
  },
  {
   "cell_type": "code",
   "execution_count": 25,
   "metadata": {
    "execution": {
     "iopub.execute_input": "2021-05-13T12:31:08.496331Z",
     "iopub.status.busy": "2021-05-13T12:31:08.495511Z",
     "iopub.status.idle": "2021-05-13T12:31:08.623088Z",
     "shell.execute_reply": "2021-05-13T12:31:08.623500Z"
    },
    "slideshow": {
     "slide_type": "fragment"
    }
   },
   "outputs": [],
   "source": [
    "!git add remove_html_markup.py"
   ]
  },
  {
   "cell_type": "code",
   "execution_count": 26,
   "metadata": {
    "execution": {
     "iopub.execute_input": "2021-05-13T12:31:08.628078Z",
     "iopub.status.busy": "2021-05-13T12:31:08.627437Z",
     "iopub.status.idle": "2021-05-13T12:31:08.761524Z",
     "shell.execute_reply": "2021-05-13T12:31:08.761921Z"
    },
    "slideshow": {
     "slide_type": "fragment"
    }
   },
   "outputs": [
    {
     "name": "stdout",
     "output_type": "stream",
     "text": [
      "[master (root-commit) 567e8b1] First version\r\n",
      " 1 file changed, 13 insertions(+)\r\n",
      " create mode 100644 remove_html_markup.py\r\n"
     ]
    }
   ],
   "source": [
    "!git commit -m \"First version\""
   ]
  },
  {
   "cell_type": "markdown",
   "metadata": {
    "slideshow": {
     "slide_type": "fragment"
    }
   },
   "source": [
    "Let us now take the second (buggy) version of `remove_html_markup()` and again write this into our file, thus simulating changing the source code from the first version to the new version:"
   ]
  },
  {
   "cell_type": "code",
   "execution_count": 27,
   "metadata": {
    "execution": {
     "iopub.execute_input": "2021-05-13T12:31:08.767505Z",
     "iopub.status.busy": "2021-05-13T12:31:08.766924Z",
     "iopub.status.idle": "2021-05-13T12:31:08.769238Z",
     "shell.execute_reply": "2021-05-13T12:31:08.768795Z"
    },
    "slideshow": {
     "slide_type": "subslide"
    }
   },
   "outputs": [],
   "source": [
    "def remove_html_markup(s):  # type: ignore\n",
    "    tag = False\n",
    "    quote = False\n",
    "    out = \"\"\n",
    "\n",
    "    for c in s:\n",
    "        if c == '<' and not quote:\n",
    "            tag = True\n",
    "        elif c == '>' and not quote:\n",
    "            tag = False\n",
    "        elif c == '\"' or c == \"'\" and tag:\n",
    "            quote = not quote\n",
    "        elif not tag:\n",
    "            out = out + c\n",
    "\n",
    "    return out"
   ]
  },
  {
   "cell_type": "code",
   "execution_count": 28,
   "metadata": {
    "execution": {
     "iopub.execute_input": "2021-05-13T12:31:08.773691Z",
     "iopub.status.busy": "2021-05-13T12:31:08.773117Z",
     "iopub.status.idle": "2021-05-13T12:31:08.775192Z",
     "shell.execute_reply": "2021-05-13T12:31:08.775564Z"
    },
    "slideshow": {
     "slide_type": "subslide"
    }
   },
   "outputs": [],
   "source": [
    "write_source(remove_html_markup)"
   ]
  },
  {
   "cell_type": "markdown",
   "metadata": {
    "slideshow": {
     "slide_type": "fragment"
    }
   },
   "source": [
    "We can inspect the differences between the previously committed version and the current one. Lines prefixed with `+` are added; lines prefixed with `-` are deleted."
   ]
  },
  {
   "cell_type": "code",
   "execution_count": 29,
   "metadata": {
    "execution": {
     "iopub.execute_input": "2021-05-13T12:31:08.779617Z",
     "iopub.status.busy": "2021-05-13T12:31:08.778837Z",
     "iopub.status.idle": "2021-05-13T12:31:08.900322Z",
     "shell.execute_reply": "2021-05-13T12:31:08.900709Z"
    },
    "slideshow": {
     "slide_type": "subslide"
    }
   },
   "outputs": [
    {
     "name": "stdout",
     "output_type": "stream",
     "text": [
      "\u001b[1mdiff --git a/remove_html_markup.py b/remove_html_markup.py\u001b[m\r\n",
      "\u001b[1mindex 4999dc0..768bae9 100644\u001b[m\r\n",
      "\u001b[1m--- a/remove_html_markup.py\u001b[m\r\n",
      "\u001b[1m+++ b/remove_html_markup.py\u001b[m\r\n",
      "\u001b[36m@@ -1,12 +1,15 @@\u001b[m\r\n",
      " def remove_html_markup(s):  # type: ignore\u001b[m\r\n",
      "     tag = False\u001b[m\r\n",
      "\u001b[32m+\u001b[m\u001b[32m    quote = False\u001b[m\r\n",
      "     out = \"\"\u001b[m\r\n",
      " \u001b[m\r\n",
      "     for c in s:\u001b[m\r\n",
      "\u001b[31m-        if c == '<':    # start of markup\u001b[m\r\n",
      "\u001b[32m+\u001b[m\u001b[32m        if c == '<' and not quote:\u001b[m\r\n",
      "             tag = True\u001b[m\r\n",
      "\u001b[31m-        elif c == '>':  # end of markup\u001b[m\r\n",
      "\u001b[32m+\u001b[m\u001b[32m        elif c == '>' and not quote:\u001b[m\r\n",
      "             tag = False\u001b[m\r\n",
      "\u001b[32m+\u001b[m\u001b[32m        elif c == '\"' or c == \"'\" and tag:\u001b[m\r\n",
      "\u001b[32m+\u001b[m\u001b[32m            quote = not quote\u001b[m\r\n",
      "         elif not tag:\u001b[m\r\n",
      "             out = out + c\u001b[m\r\n",
      " \u001b[m\r\n"
     ]
    }
   ],
   "source": [
    "!git diff remove_html_markup.py"
   ]
  },
  {
   "cell_type": "markdown",
   "metadata": {
    "slideshow": {
     "slide_type": "subslide"
    }
   },
   "source": [
    "We can now commit this second version, adding it to our repository."
   ]
  },
  {
   "cell_type": "code",
   "execution_count": 30,
   "metadata": {
    "execution": {
     "iopub.execute_input": "2021-05-13T12:31:08.905397Z",
     "iopub.status.busy": "2021-05-13T12:31:08.904744Z",
     "iopub.status.idle": "2021-05-13T12:31:09.039113Z",
     "shell.execute_reply": "2021-05-13T12:31:09.039506Z"
    },
    "slideshow": {
     "slide_type": "fragment"
    }
   },
   "outputs": [
    {
     "name": "stdout",
     "output_type": "stream",
     "text": [
      "[master 8bace32] Second version\r\n",
      " 1 file changed, 5 insertions(+), 2 deletions(-)\r\n"
     ]
    }
   ],
   "source": [
    "!git commit -m \"Second version\" remove_html_markup.py"
   ]
  },
  {
   "cell_type": "markdown",
   "metadata": {
    "slideshow": {
     "slide_type": "fragment"
    }
   },
   "source": [
    "We create a few more revisions."
   ]
  },
  {
   "cell_type": "markdown",
   "metadata": {
    "slideshow": {
     "slide_type": "subslide"
    }
   },
   "source": [
    "### Excursion: Adding More Revisions"
   ]
  },
  {
   "cell_type": "markdown",
   "metadata": {
    "slideshow": {
     "slide_type": "fragment"
    }
   },
   "source": [
    "We use the additional definitions for `remove_html_markup()` from [the introduction to debugging](Intro_Debugging.ipynb) as additional versions.\n",
    "\n",
    "These also include \"debugging\" versions with enabled logging statements, as well as \"tentative\" versions that may or may not fix the discussed issues. In a real version history, such transient versions would typically not show up – or at least not be made available to co-workers."
   ]
  },
  {
   "cell_type": "code",
   "execution_count": 31,
   "metadata": {
    "execution": {
     "iopub.execute_input": "2021-05-13T12:31:09.045361Z",
     "iopub.status.busy": "2021-05-13T12:31:09.044672Z",
     "iopub.status.idle": "2021-05-13T12:31:09.046828Z",
     "shell.execute_reply": "2021-05-13T12:31:09.047438Z"
    },
    "slideshow": {
     "slide_type": "subslide"
    }
   },
   "outputs": [],
   "source": [
    "def remove_html_markup(s):  # type: ignore\n",
    "    tag = False\n",
    "    quote = False\n",
    "    out = \"\"\n",
    "\n",
    "    for c in s:\n",
    "        print(\"c =\", repr(c), \"tag =\", tag, \"quote =\", quote)\n",
    "\n",
    "        if c == '<' and not quote:\n",
    "            tag = True\n",
    "        elif c == '>' and not quote:\n",
    "            tag = False\n",
    "        elif c == '\"' or c == \"'\" and tag:\n",
    "            quote = not quote\n",
    "        elif not tag:\n",
    "            out = out + c\n",
    "\n",
    "    return out"
   ]
  },
  {
   "cell_type": "code",
   "execution_count": 32,
   "metadata": {
    "execution": {
     "iopub.execute_input": "2021-05-13T12:31:09.051192Z",
     "iopub.status.busy": "2021-05-13T12:31:09.050551Z",
     "iopub.status.idle": "2021-05-13T12:31:09.053235Z",
     "shell.execute_reply": "2021-05-13T12:31:09.053762Z"
    },
    "slideshow": {
     "slide_type": "subslide"
    }
   },
   "outputs": [],
   "source": [
    "write_source(remove_html_markup)"
   ]
  },
  {
   "cell_type": "code",
   "execution_count": 33,
   "metadata": {
    "execution": {
     "iopub.execute_input": "2021-05-13T12:31:09.057536Z",
     "iopub.status.busy": "2021-05-13T12:31:09.056904Z",
     "iopub.status.idle": "2021-05-13T12:31:09.192214Z",
     "shell.execute_reply": "2021-05-13T12:31:09.192630Z"
    },
    "slideshow": {
     "slide_type": "fragment"
    }
   },
   "outputs": [
    {
     "name": "stdout",
     "output_type": "stream",
     "text": [
      "[master c469845] Third version (with debugging output)\r\n",
      " 1 file changed, 2 insertions(+)\r\n"
     ]
    }
   ],
   "source": [
    "!git commit -m \"Third version (with debugging output)\" remove_html_markup.py"
   ]
  },
  {
   "cell_type": "code",
   "execution_count": 34,
   "metadata": {
    "execution": {
     "iopub.execute_input": "2021-05-13T12:31:09.198448Z",
     "iopub.status.busy": "2021-05-13T12:31:09.197837Z",
     "iopub.status.idle": "2021-05-13T12:31:09.199451Z",
     "shell.execute_reply": "2021-05-13T12:31:09.199889Z"
    },
    "slideshow": {
     "slide_type": "subslide"
    }
   },
   "outputs": [],
   "source": [
    "def remove_html_markup(s):  # type: ignore\n",
    "    tag = False\n",
    "    quote = False\n",
    "    out = \"\"\n",
    "\n",
    "    for c in s:\n",
    "        if c == '<':  # and not quote:\n",
    "            tag = True\n",
    "        elif c == '>':  # and not quote:\n",
    "            tag = False\n",
    "        elif c == '\"' or c == \"'\" and tag:\n",
    "            quote = not quote\n",
    "        elif not tag:\n",
    "            out = out + c\n",
    "\n",
    "    return out"
   ]
  },
  {
   "cell_type": "code",
   "execution_count": 35,
   "metadata": {
    "execution": {
     "iopub.execute_input": "2021-05-13T12:31:09.203078Z",
     "iopub.status.busy": "2021-05-13T12:31:09.202358Z",
     "iopub.status.idle": "2021-05-13T12:31:09.205264Z",
     "shell.execute_reply": "2021-05-13T12:31:09.205781Z"
    },
    "slideshow": {
     "slide_type": "subslide"
    }
   },
   "outputs": [],
   "source": [
    "write_source(remove_html_markup)"
   ]
  },
  {
   "cell_type": "code",
   "execution_count": 36,
   "metadata": {
    "execution": {
     "iopub.execute_input": "2021-05-13T12:31:09.209761Z",
     "iopub.status.busy": "2021-05-13T12:31:09.209007Z",
     "iopub.status.idle": "2021-05-13T12:31:09.345068Z",
     "shell.execute_reply": "2021-05-13T12:31:09.345458Z"
    },
    "slideshow": {
     "slide_type": "fragment"
    }
   },
   "outputs": [
    {
     "name": "stdout",
     "output_type": "stream",
     "text": [
      "[master aff9564] Fourth version (clueless)\r\n",
      " 1 file changed, 2 insertions(+), 4 deletions(-)\r\n"
     ]
    }
   ],
   "source": [
    "!git commit -m \"Fourth version (clueless)\" remove_html_markup.py"
   ]
  },
  {
   "cell_type": "code",
   "execution_count": 37,
   "metadata": {
    "execution": {
     "iopub.execute_input": "2021-05-13T12:31:09.351113Z",
     "iopub.status.busy": "2021-05-13T12:31:09.350455Z",
     "iopub.status.idle": "2021-05-13T12:31:09.352610Z",
     "shell.execute_reply": "2021-05-13T12:31:09.352218Z"
    },
    "slideshow": {
     "slide_type": "subslide"
    }
   },
   "outputs": [],
   "source": [
    "def remove_html_markup(s):  # type: ignore\n",
    "    tag = False\n",
    "    quote = False\n",
    "    out = \"\"\n",
    "\n",
    "    for c in s:\n",
    "        assert not tag  # <=== Just added\n",
    "\n",
    "        if c == '<' and not quote:\n",
    "            tag = True\n",
    "        elif c == '>' and not quote:\n",
    "            tag = False\n",
    "        elif c == '\"' or c == \"'\" and tag:\n",
    "            quote = not quote\n",
    "        elif not tag:\n",
    "            out = out + c\n",
    "\n",
    "    return out"
   ]
  },
  {
   "cell_type": "code",
   "execution_count": 38,
   "metadata": {
    "execution": {
     "iopub.execute_input": "2021-05-13T12:31:09.356107Z",
     "iopub.status.busy": "2021-05-13T12:31:09.355435Z",
     "iopub.status.idle": "2021-05-13T12:31:09.358433Z",
     "shell.execute_reply": "2021-05-13T12:31:09.358869Z"
    },
    "slideshow": {
     "slide_type": "subslide"
    }
   },
   "outputs": [],
   "source": [
    "write_source(remove_html_markup)"
   ]
  },
  {
   "cell_type": "code",
   "execution_count": 39,
   "metadata": {
    "execution": {
     "iopub.execute_input": "2021-05-13T12:31:09.362883Z",
     "iopub.status.busy": "2021-05-13T12:31:09.362112Z",
     "iopub.status.idle": "2021-05-13T12:31:09.495013Z",
     "shell.execute_reply": "2021-05-13T12:31:09.495570Z"
    },
    "slideshow": {
     "slide_type": "fragment"
    }
   },
   "outputs": [
    {
     "name": "stdout",
     "output_type": "stream",
     "text": [
      "[master 91e1249] Fifth version (with assert)\r\n",
      " 1 file changed, 4 insertions(+), 2 deletions(-)\r\n"
     ]
    }
   ],
   "source": [
    "!git commit -m \"Fifth version (with assert)\" remove_html_markup.py"
   ]
  },
  {
   "cell_type": "code",
   "execution_count": 40,
   "metadata": {
    "execution": {
     "iopub.execute_input": "2021-05-13T12:31:09.501648Z",
     "iopub.status.busy": "2021-05-13T12:31:09.500918Z",
     "iopub.status.idle": "2021-05-13T12:31:09.502744Z",
     "shell.execute_reply": "2021-05-13T12:31:09.503196Z"
    },
    "slideshow": {
     "slide_type": "subslide"
    }
   },
   "outputs": [],
   "source": [
    "def remove_html_markup(s):  # type: ignore\n",
    "    tag = False\n",
    "    quote = False\n",
    "    out = \"\"\n",
    "\n",
    "    for c in s:\n",
    "        if c == '<' and not quote:\n",
    "            tag = True\n",
    "        elif c == '>' and not quote:\n",
    "            tag = False\n",
    "        elif c == '\"' or c == \"'\" and tag:\n",
    "            assert False  # <=== Just added\n",
    "            quote = not quote\n",
    "        elif not tag:\n",
    "            out = out + c\n",
    "\n",
    "    return out"
   ]
  },
  {
   "cell_type": "code",
   "execution_count": 41,
   "metadata": {
    "execution": {
     "iopub.execute_input": "2021-05-13T12:31:09.507239Z",
     "iopub.status.busy": "2021-05-13T12:31:09.506465Z",
     "iopub.status.idle": "2021-05-13T12:31:09.509684Z",
     "shell.execute_reply": "2021-05-13T12:31:09.510126Z"
    },
    "slideshow": {
     "slide_type": "subslide"
    }
   },
   "outputs": [],
   "source": [
    "write_source(remove_html_markup)"
   ]
  },
  {
   "cell_type": "code",
   "execution_count": 42,
   "metadata": {
    "execution": {
     "iopub.execute_input": "2021-05-13T12:31:09.514449Z",
     "iopub.status.busy": "2021-05-13T12:31:09.513572Z",
     "iopub.status.idle": "2021-05-13T12:31:09.647308Z",
     "shell.execute_reply": "2021-05-13T12:31:09.647733Z"
    },
    "slideshow": {
     "slide_type": "fragment"
    }
   },
   "outputs": [
    {
     "name": "stdout",
     "output_type": "stream",
     "text": [
      "[master 8335de8] Sixth version (with another assert)\r\n",
      " 1 file changed, 1 insertion(+), 2 deletions(-)\r\n"
     ]
    }
   ],
   "source": [
    "!git commit -m \"Sixth version (with another assert)\" remove_html_markup.py"
   ]
  },
  {
   "cell_type": "code",
   "execution_count": 43,
   "metadata": {
    "execution": {
     "iopub.execute_input": "2021-05-13T12:31:09.652987Z",
     "iopub.status.busy": "2021-05-13T12:31:09.652402Z",
     "iopub.status.idle": "2021-05-13T12:31:09.654383Z",
     "shell.execute_reply": "2021-05-13T12:31:09.654773Z"
    },
    "slideshow": {
     "slide_type": "subslide"
    }
   },
   "outputs": [],
   "source": [
    "def remove_html_markup(s):  # type: ignore\n",
    "    tag = False\n",
    "    quote = False\n",
    "    out = \"\"\n",
    "\n",
    "    for c in s:\n",
    "        if c == '<' and not quote:\n",
    "            tag = True\n",
    "        elif c == '>' and not quote:\n",
    "            tag = False\n",
    "        elif (c == '\"' or c == \"'\") and tag:  # <-- FIX\n",
    "            quote = not quote\n",
    "        elif not tag:\n",
    "            out = out + c\n",
    "\n",
    "    return out"
   ]
  },
  {
   "cell_type": "code",
   "execution_count": 44,
   "metadata": {
    "execution": {
     "iopub.execute_input": "2021-05-13T12:31:09.658874Z",
     "iopub.status.busy": "2021-05-13T12:31:09.658303Z",
     "iopub.status.idle": "2021-05-13T12:31:09.660374Z",
     "shell.execute_reply": "2021-05-13T12:31:09.660750Z"
    },
    "slideshow": {
     "slide_type": "subslide"
    }
   },
   "outputs": [],
   "source": [
    "write_source(remove_html_markup)"
   ]
  },
  {
   "cell_type": "code",
   "execution_count": 45,
   "metadata": {
    "execution": {
     "iopub.execute_input": "2021-05-13T12:31:09.665215Z",
     "iopub.status.busy": "2021-05-13T12:31:09.664491Z",
     "iopub.status.idle": "2021-05-13T12:31:09.796106Z",
     "shell.execute_reply": "2021-05-13T12:31:09.796552Z"
    },
    "slideshow": {
     "slide_type": "fragment"
    }
   },
   "outputs": [
    {
     "name": "stdout",
     "output_type": "stream",
     "text": [
      "[master 1abbcea] Seventh version (fixed)\r\n",
      " 1 file changed, 1 insertion(+), 2 deletions(-)\r\n"
     ]
    }
   ],
   "source": [
    "!git commit -m \"Seventh version (fixed)\" remove_html_markup.py"
   ]
  },
  {
   "cell_type": "markdown",
   "metadata": {
    "slideshow": {
     "slide_type": "subslide"
    }
   },
   "source": [
    "### End of Excursion"
   ]
  },
  {
   "cell_type": "markdown",
   "metadata": {
    "slideshow": {
     "slide_type": "fragment"
    }
   },
   "source": [
    "Here comes the last version of `remove_html_markup()`, this one from [the chapter on assertions](Assertions.ipynb)."
   ]
  },
  {
   "cell_type": "code",
   "execution_count": 46,
   "metadata": {
    "execution": {
     "iopub.execute_input": "2021-05-13T12:31:09.802231Z",
     "iopub.status.busy": "2021-05-13T12:31:09.801637Z",
     "iopub.status.idle": "2021-05-13T12:31:09.803306Z",
     "shell.execute_reply": "2021-05-13T12:31:09.803695Z"
    },
    "slideshow": {
     "slide_type": "subslide"
    }
   },
   "outputs": [],
   "source": [
    "def remove_html_markup(s):  # type: ignore\n",
    "    tag = False\n",
    "    quote = False\n",
    "    out = \"\"\n",
    "\n",
    "    for c in s:\n",
    "        if c == '<' and not quote:\n",
    "            tag = True\n",
    "        elif c == '>' and not quote:\n",
    "            tag = False\n",
    "        elif c == '\"' or c == \"'\" and tag:\n",
    "            quote = not quote\n",
    "        elif not tag:\n",
    "            out = out + c\n",
    "\n",
    "    # postcondition\n",
    "    assert '<' not in out and '>' not in out\n",
    "\n",
    "    return out"
   ]
  },
  {
   "cell_type": "code",
   "execution_count": 47,
   "metadata": {
    "execution": {
     "iopub.execute_input": "2021-05-13T12:31:09.807221Z",
     "iopub.status.busy": "2021-05-13T12:31:09.806596Z",
     "iopub.status.idle": "2021-05-13T12:31:09.809238Z",
     "shell.execute_reply": "2021-05-13T12:31:09.809621Z"
    },
    "slideshow": {
     "slide_type": "subslide"
    }
   },
   "outputs": [],
   "source": [
    "write_source(remove_html_markup)"
   ]
  },
  {
   "cell_type": "code",
   "execution_count": 48,
   "metadata": {
    "execution": {
     "iopub.execute_input": "2021-05-13T12:31:09.813330Z",
     "iopub.status.busy": "2021-05-13T12:31:09.812722Z",
     "iopub.status.idle": "2021-05-13T12:31:09.946604Z",
     "shell.execute_reply": "2021-05-13T12:31:09.947220Z"
    },
    "slideshow": {
     "slide_type": "fragment"
    }
   },
   "outputs": [
    {
     "name": "stdout",
     "output_type": "stream",
     "text": [
      "[master 3523599] Eighth version (with proper assertion)\r\n",
      " 1 file changed, 4 insertions(+), 1 deletion(-)\r\n"
     ]
    }
   ],
   "source": [
    "!git commit -m \"Eighth version (with proper assertion)\" remove_html_markup.py"
   ]
  },
  {
   "cell_type": "markdown",
   "metadata": {
    "slideshow": {
     "slide_type": "fragment"
    }
   },
   "source": [
    "We finally reached the \"today\" state with the latest version – and find that the latest version has an error. This should come to you as no surprise if you have read the earlier chapters. But if you haven't, you will find that when the argument `s` contains double quotes, these are stripped from the output:"
   ]
  },
  {
   "cell_type": "code",
   "execution_count": 49,
   "metadata": {
    "execution": {
     "iopub.execute_input": "2021-05-13T12:31:09.951387Z",
     "iopub.status.busy": "2021-05-13T12:31:09.950816Z",
     "iopub.status.idle": "2021-05-13T12:31:09.953397Z",
     "shell.execute_reply": "2021-05-13T12:31:09.952944Z"
    },
    "slideshow": {
     "slide_type": "fragment"
    }
   },
   "outputs": [
    {
     "data": {
      "text/plain": [
       "'foo'"
      ]
     },
     "execution_count": 1,
     "metadata": {},
     "output_type": "execute_result"
    }
   ],
   "source": [
    "remove_html_markup('\"foo\"')"
   ]
  },
  {
   "cell_type": "markdown",
   "metadata": {
    "slideshow": {
     "slide_type": "fragment"
    }
   },
   "source": [
    "Consequently, this test assertion fails:"
   ]
  },
  {
   "cell_type": "code",
   "execution_count": 50,
   "metadata": {
    "execution": {
     "iopub.execute_input": "2021-05-13T12:31:09.956831Z",
     "iopub.status.busy": "2021-05-13T12:31:09.956228Z",
     "iopub.status.idle": "2021-05-13T12:31:09.980585Z",
     "shell.execute_reply": "2021-05-13T12:31:09.981115Z"
    },
    "slideshow": {
     "slide_type": "skip"
    }
   },
   "outputs": [],
   "source": [
    "from ExpectError import ExpectError"
   ]
  },
  {
   "cell_type": "code",
   "execution_count": 51,
   "metadata": {
    "execution": {
     "iopub.execute_input": "2021-05-13T12:31:09.984474Z",
     "iopub.status.busy": "2021-05-13T12:31:09.983926Z",
     "iopub.status.idle": "2021-05-13T12:31:09.986011Z",
     "shell.execute_reply": "2021-05-13T12:31:09.986397Z"
    },
    "slideshow": {
     "slide_type": "subslide"
    }
   },
   "outputs": [
    {
     "name": "stderr",
     "output_type": "stream",
     "text": [
      "Traceback (most recent call last):\n",
      "  File \"<ipython-input-1-839bf760c807>\", line 2, in <module>\n",
      "    assert remove_html_markup('\"foo\"') == '\"foo\"'\n",
      "AssertionError (expected)\n"
     ]
    }
   ],
   "source": [
    "with ExpectError():\n",
    "    assert remove_html_markup('\"foo\"') == '\"foo\"'"
   ]
  },
  {
   "cell_type": "markdown",
   "metadata": {
    "slideshow": {
     "slide_type": "fragment"
    }
   },
   "source": [
    "Note that the failure does _not_ occur in the very first version, as introduced above. So the simple question is:\n",
    "\n",
    "* What is the change that caused the failure?"
   ]
  },
  {
   "cell_type": "markdown",
   "metadata": {
    "slideshow": {
     "slide_type": "slide"
    }
   },
   "source": [
    "## Accessing Versions\n",
    "\n",
    "To find out the failure-inducing change, we first need to be able to access older versions. The command \n",
    "\n",
    "```sh\n",
    "git log\n",
    "```\n",
    "\n",
    "gives us a listing of all commits:"
   ]
  },
  {
   "cell_type": "code",
   "execution_count": 52,
   "metadata": {
    "execution": {
     "iopub.execute_input": "2021-05-13T12:31:09.990245Z",
     "iopub.status.busy": "2021-05-13T12:31:09.989591Z",
     "iopub.status.idle": "2021-05-13T12:31:10.116091Z",
     "shell.execute_reply": "2021-05-13T12:31:10.116680Z"
    },
    "slideshow": {
     "slide_type": "subslide"
    }
   },
   "outputs": [
    {
     "name": "stdout",
     "output_type": "stream",
     "text": [
      "\u001b[33mcommit 3523599649aafbeb943bf79ecf7cb0122822b133\u001b[m\u001b[33m (\u001b[m\u001b[1;36mHEAD -> \u001b[m\u001b[1;32mmaster\u001b[m\u001b[33m)\u001b[m\r\n",
      "Author: Demo User <demo-user@example.com>\r\n",
      "Date:   Thu May 13 14:31:09 2021 +0200\r\n",
      "\r\n",
      "    Eighth version (with proper assertion)\r\n",
      "\r\n",
      "\u001b[33mcommit 1abbcea7285f230bc68aedd187cb7f439badb8d3\u001b[m\r\n",
      "Author: Demo User <demo-user@example.com>\r\n",
      "Date:   Thu May 13 14:31:09 2021 +0200\r\n",
      "\r\n",
      "    Seventh version (fixed)\r\n",
      "\r\n",
      "\u001b[33mcommit 8335de852b11295692182f5453a037b8134ba24c\u001b[m\r\n",
      "Author: Demo User <demo-user@example.com>\r\n",
      "Date:   Thu May 13 14:31:09 2021 +0200\r\n",
      "\r\n",
      "    Sixth version (with another assert)\r\n",
      "\r\n",
      "\u001b[33mcommit 91e12494299fa1dacffce659ff8e8f5c4e73c58b\u001b[m\r\n",
      "Author: Demo User <demo-user@example.com>\r\n",
      "Date:   Thu May 13 14:31:09 2021 +0200\r\n",
      "\r\n",
      "    Fifth version (with assert)\r\n",
      "\r\n",
      "\u001b[33mcommit aff9564766d1dfc4716b1095f4732fe47ad1695b\u001b[m\r\n",
      "Author: Demo User <demo-user@example.com>\r\n",
      "Date:   Thu May 13 14:31:09 2021 +0200\r\n",
      "\r\n",
      "    Fourth version (clueless)\r\n",
      "\r\n",
      "\u001b[33mcommit c46984501a2d4a0062d6b4a4957cfa19e94393f3\u001b[m\r\n",
      "Author: Demo User <demo-user@example.com>\r\n",
      "Date:   Thu May 13 14:31:09 2021 +0200\r\n",
      "\r\n",
      "    Third version (with debugging output)\r\n",
      "\r\n",
      "\u001b[33mcommit 8bace32e2e396a414ee1fce141788f2e5c92981f\u001b[m\r\n",
      "Author: Demo User <demo-user@example.com>\r\n",
      "Date:   Thu May 13 14:31:08 2021 +0200\r\n",
      "\r\n",
      "    Second version\r\n",
      "\r\n",
      "\u001b[33mcommit 567e8b1f1c18b62c2ef517114a51264551b683f9\u001b[m\r\n",
      "Author: Demo User <demo-user@example.com>\r\n",
      "Date:   Thu May 13 14:31:08 2021 +0200\r\n",
      "\r\n",
      "    First version\r\n"
     ]
    }
   ],
   "source": [
    "!git log"
   ]
  },
  {
   "cell_type": "markdown",
   "metadata": {
    "slideshow": {
     "slide_type": "subslide"
    }
   },
   "source": [
    "Using the `subprocess` module, we can run `git log` and access its output."
   ]
  },
  {
   "cell_type": "code",
   "execution_count": 53,
   "metadata": {
    "execution": {
     "iopub.execute_input": "2021-05-13T12:31:10.120367Z",
     "iopub.status.busy": "2021-05-13T12:31:10.119795Z",
     "iopub.status.idle": "2021-05-13T12:31:10.121335Z",
     "shell.execute_reply": "2021-05-13T12:31:10.121700Z"
    },
    "slideshow": {
     "slide_type": "skip"
    }
   },
   "outputs": [],
   "source": [
    "import subprocess"
   ]
  },
  {
   "cell_type": "code",
   "execution_count": 54,
   "metadata": {
    "execution": {
     "iopub.execute_input": "2021-05-13T12:31:10.125524Z",
     "iopub.status.busy": "2021-05-13T12:31:10.124979Z",
     "iopub.status.idle": "2021-05-13T12:31:10.126682Z",
     "shell.execute_reply": "2021-05-13T12:31:10.127056Z"
    },
    "slideshow": {
     "slide_type": "fragment"
    }
   },
   "outputs": [],
   "source": [
    "def get_output(command: List[str]) -> str:\n",
    "    result = subprocess.run(command, \n",
    "                            stdout=subprocess.PIPE,\n",
    "                            universal_newlines=True)\n",
    "    return result.stdout"
   ]
  },
  {
   "cell_type": "markdown",
   "metadata": {
    "slideshow": {
     "slide_type": "fragment"
    }
   },
   "source": [
    "The output of `git log` contains the ID of the version (the so-called *commit hash*) as well as the message provided during the commit."
   ]
  },
  {
   "cell_type": "code",
   "execution_count": 55,
   "metadata": {
    "execution": {
     "iopub.execute_input": "2021-05-13T12:31:10.132311Z",
     "iopub.status.busy": "2021-05-13T12:31:10.131667Z",
     "iopub.status.idle": "2021-05-13T12:31:10.141504Z",
     "shell.execute_reply": "2021-05-13T12:31:10.141948Z"
    },
    "slideshow": {
     "slide_type": "subslide"
    }
   },
   "outputs": [
    {
     "name": "stdout",
     "output_type": "stream",
     "text": [
      "3523599649aafbeb943bf79ecf7cb0122822b133 Eighth version (with proper assertion)\n",
      "1abbcea7285f230bc68aedd187cb7f439badb8d3 Seventh version (fixed)\n",
      "8335de852b11295692182f5453a037b8134ba24c Sixth version (with another assert)\n",
      "91e12494299fa1dacffce659ff8e8f5c4e73c58b Fifth version (with assert)\n",
      "aff9564766d1dfc4716b1095f4732fe47ad1695b Fourth version (clueless)\n",
      "c46984501a2d4a0062d6b4a4957cfa19e94393f3 Third version (with debugging output)\n",
      "8bace32e2e396a414ee1fce141788f2e5c92981f Second version\n",
      "567e8b1f1c18b62c2ef517114a51264551b683f9 First version\n",
      "\n"
     ]
    }
   ],
   "source": [
    "log = get_output(['git', 'log', '--pretty=oneline'])\n",
    "print(log)"
   ]
  },
  {
   "cell_type": "markdown",
   "metadata": {
    "slideshow": {
     "slide_type": "subslide"
    }
   },
   "source": [
    "Each hash uniquely identifies a version, and is required to access it. Let us create a list `versions`, where `versions[0]` contains the hash (the id) of the first version, `versions[1]` the second version, and so on."
   ]
  },
  {
   "cell_type": "code",
   "execution_count": 56,
   "metadata": {
    "execution": {
     "iopub.execute_input": "2021-05-13T12:31:10.146533Z",
     "iopub.status.busy": "2021-05-13T12:31:10.145949Z",
     "iopub.status.idle": "2021-05-13T12:31:10.148194Z",
     "shell.execute_reply": "2021-05-13T12:31:10.148565Z"
    },
    "slideshow": {
     "slide_type": "fragment"
    }
   },
   "outputs": [
    {
     "data": {
      "text/plain": [
       "'567e8b1f1c18b62c2ef517114a51264551b683f9'"
      ]
     },
     "execution_count": 1,
     "metadata": {},
     "output_type": "execute_result"
    }
   ],
   "source": [
    "versions = [line.split()[0] for line in log.split('\\n') if line]\n",
    "versions.reverse()\n",
    "versions[0]"
   ]
  },
  {
   "cell_type": "markdown",
   "metadata": {
    "slideshow": {
     "slide_type": "fragment"
    }
   },
   "source": [
    "We can now check out the first version:"
   ]
  },
  {
   "cell_type": "code",
   "execution_count": 57,
   "metadata": {
    "execution": {
     "iopub.execute_input": "2021-05-13T12:31:10.152028Z",
     "iopub.status.busy": "2021-05-13T12:31:10.151500Z",
     "iopub.status.idle": "2021-05-13T12:31:10.276783Z",
     "shell.execute_reply": "2021-05-13T12:31:10.277231Z"
    },
    "slideshow": {
     "slide_type": "fragment"
    }
   },
   "outputs": [
    {
     "name": "stdout",
     "output_type": "stream",
     "text": [
      "HEAD is now at 567e8b1 First version\r\n"
     ]
    }
   ],
   "source": [
    "!git checkout {versions[0]}"
   ]
  },
  {
   "cell_type": "code",
   "execution_count": 58,
   "metadata": {
    "execution": {
     "iopub.execute_input": "2021-05-13T12:31:10.282354Z",
     "iopub.status.busy": "2021-05-13T12:31:10.281539Z",
     "iopub.status.idle": "2021-05-13T12:31:10.291011Z",
     "shell.execute_reply": "2021-05-13T12:31:10.291495Z"
    },
    "slideshow": {
     "slide_type": "subslide"
    }
   },
   "outputs": [
    {
     "name": "stdout",
     "output_type": "stream",
     "text": [
      "\u001b[34mdef\u001b[39;49;00m \u001b[32mremove_html_markup\u001b[39;49;00m(s):  \u001b[37m# type: ignore\u001b[39;49;00m\n",
      "    tag = \u001b[34mFalse\u001b[39;49;00m\n",
      "    out = \u001b[33m\"\u001b[39;49;00m\u001b[33m\"\u001b[39;49;00m\n",
      "\n",
      "    \u001b[34mfor\u001b[39;49;00m c \u001b[35min\u001b[39;49;00m s:\n",
      "        \u001b[34mif\u001b[39;49;00m c == \u001b[33m'\u001b[39;49;00m\u001b[33m<\u001b[39;49;00m\u001b[33m'\u001b[39;49;00m:    \u001b[37m# start of markup\u001b[39;49;00m\n",
      "            tag = \u001b[34mTrue\u001b[39;49;00m\n",
      "        \u001b[34melif\u001b[39;49;00m c == \u001b[33m'\u001b[39;49;00m\u001b[33m>\u001b[39;49;00m\u001b[33m'\u001b[39;49;00m:  \u001b[37m# end of markup\u001b[39;49;00m\n",
      "            tag = \u001b[34mFalse\u001b[39;49;00m\n",
      "        \u001b[34melif\u001b[39;49;00m \u001b[35mnot\u001b[39;49;00m tag:\n",
      "            out = out + c\n",
      "\n",
      "    \u001b[34mreturn\u001b[39;49;00m out"
     ]
    }
   ],
   "source": [
    "print_file('remove_html_markup.py')"
   ]
  },
  {
   "cell_type": "markdown",
   "metadata": {
    "slideshow": {
     "slide_type": "subslide"
    }
   },
   "source": [
    "If we read in this definition of `remove_html_markup()` from the first version, we will find that the failure was not yet present:"
   ]
  },
  {
   "cell_type": "code",
   "execution_count": 59,
   "metadata": {
    "execution": {
     "iopub.execute_input": "2021-05-13T12:31:10.295501Z",
     "iopub.status.busy": "2021-05-13T12:31:10.294871Z",
     "iopub.status.idle": "2021-05-13T12:31:10.296698Z",
     "shell.execute_reply": "2021-05-13T12:31:10.297089Z"
    },
    "slideshow": {
     "slide_type": "fragment"
    }
   },
   "outputs": [],
   "source": [
    "exec(open('remove_html_markup.py').read())"
   ]
  },
  {
   "cell_type": "code",
   "execution_count": 60,
   "metadata": {
    "execution": {
     "iopub.execute_input": "2021-05-13T12:31:10.301703Z",
     "iopub.status.busy": "2021-05-13T12:31:10.300702Z",
     "iopub.status.idle": "2021-05-13T12:31:10.303498Z",
     "shell.execute_reply": "2021-05-13T12:31:10.303937Z"
    },
    "slideshow": {
     "slide_type": "fragment"
    }
   },
   "outputs": [
    {
     "data": {
      "text/plain": [
       "'\"foo\"'"
      ]
     },
     "execution_count": 1,
     "metadata": {},
     "output_type": "execute_result"
    }
   ],
   "source": [
    "remove_html_markup('\"foo\"')"
   ]
  },
  {
   "cell_type": "markdown",
   "metadata": {
    "slideshow": {
     "slide_type": "fragment"
    }
   },
   "source": [
    "However, if we check out the _last_ version of that file ..."
   ]
  },
  {
   "cell_type": "code",
   "execution_count": 61,
   "metadata": {
    "execution": {
     "iopub.execute_input": "2021-05-13T12:31:10.308120Z",
     "iopub.status.busy": "2021-05-13T12:31:10.307517Z",
     "iopub.status.idle": "2021-05-13T12:31:10.434138Z",
     "shell.execute_reply": "2021-05-13T12:31:10.434592Z"
    },
    "slideshow": {
     "slide_type": "fragment"
    }
   },
   "outputs": [
    {
     "name": "stdout",
     "output_type": "stream",
     "text": [
      "Previous HEAD position was 567e8b1 First version\r\n",
      "HEAD is now at 3523599 Eighth version (with proper assertion)\r\n"
     ]
    }
   ],
   "source": [
    "!git checkout {versions[7]}"
   ]
  },
  {
   "cell_type": "code",
   "execution_count": 62,
   "metadata": {
    "execution": {
     "iopub.execute_input": "2021-05-13T12:31:10.438369Z",
     "iopub.status.busy": "2021-05-13T12:31:10.437842Z",
     "iopub.status.idle": "2021-05-13T12:31:10.446152Z",
     "shell.execute_reply": "2021-05-13T12:31:10.446542Z"
    },
    "slideshow": {
     "slide_type": "subslide"
    }
   },
   "outputs": [
    {
     "name": "stdout",
     "output_type": "stream",
     "text": [
      "\u001b[34mdef\u001b[39;49;00m \u001b[32mremove_html_markup\u001b[39;49;00m(s):  \u001b[37m# type: ignore\u001b[39;49;00m\n",
      "    tag = \u001b[34mFalse\u001b[39;49;00m\n",
      "    quote = \u001b[34mFalse\u001b[39;49;00m\n",
      "    out = \u001b[33m\"\u001b[39;49;00m\u001b[33m\"\u001b[39;49;00m\n",
      "\n",
      "    \u001b[34mfor\u001b[39;49;00m c \u001b[35min\u001b[39;49;00m s:\n",
      "        \u001b[34mif\u001b[39;49;00m c == \u001b[33m'\u001b[39;49;00m\u001b[33m<\u001b[39;49;00m\u001b[33m'\u001b[39;49;00m \u001b[35mand\u001b[39;49;00m \u001b[35mnot\u001b[39;49;00m quote:\n",
      "            tag = \u001b[34mTrue\u001b[39;49;00m\n",
      "        \u001b[34melif\u001b[39;49;00m c == \u001b[33m'\u001b[39;49;00m\u001b[33m>\u001b[39;49;00m\u001b[33m'\u001b[39;49;00m \u001b[35mand\u001b[39;49;00m \u001b[35mnot\u001b[39;49;00m quote:\n",
      "            tag = \u001b[34mFalse\u001b[39;49;00m\n",
      "        \u001b[34melif\u001b[39;49;00m c == \u001b[33m'\u001b[39;49;00m\u001b[33m\"\u001b[39;49;00m\u001b[33m'\u001b[39;49;00m \u001b[35mor\u001b[39;49;00m c == \u001b[33m\"\u001b[39;49;00m\u001b[33m'\u001b[39;49;00m\u001b[33m\"\u001b[39;49;00m \u001b[35mand\u001b[39;49;00m tag:\n",
      "            quote = \u001b[35mnot\u001b[39;49;00m quote\n",
      "        \u001b[34melif\u001b[39;49;00m \u001b[35mnot\u001b[39;49;00m tag:\n",
      "            out = out + c\n",
      "\n",
      "    \u001b[37m# postcondition\u001b[39;49;00m\n",
      "    \u001b[34massert\u001b[39;49;00m \u001b[33m'\u001b[39;49;00m\u001b[33m<\u001b[39;49;00m\u001b[33m'\u001b[39;49;00m \u001b[35mnot\u001b[39;49;00m \u001b[35min\u001b[39;49;00m out \u001b[35mand\u001b[39;49;00m \u001b[33m'\u001b[39;49;00m\u001b[33m>\u001b[39;49;00m\u001b[33m'\u001b[39;49;00m \u001b[35mnot\u001b[39;49;00m \u001b[35min\u001b[39;49;00m out\n",
      "\n",
      "    \u001b[34mreturn\u001b[39;49;00m out"
     ]
    }
   ],
   "source": [
    "print_file('remove_html_markup.py')"
   ]
  },
  {
   "cell_type": "markdown",
   "metadata": {
    "slideshow": {
     "slide_type": "subslide"
    }
   },
   "source": [
    "... we find that this is the version that no longer works."
   ]
  },
  {
   "cell_type": "code",
   "execution_count": 63,
   "metadata": {
    "execution": {
     "iopub.execute_input": "2021-05-13T12:31:10.450110Z",
     "iopub.status.busy": "2021-05-13T12:31:10.449477Z",
     "iopub.status.idle": "2021-05-13T12:31:10.451718Z",
     "shell.execute_reply": "2021-05-13T12:31:10.452105Z"
    },
    "slideshow": {
     "slide_type": "fragment"
    }
   },
   "outputs": [],
   "source": [
    "exec(open('remove_html_markup.py').read())"
   ]
  },
  {
   "cell_type": "code",
   "execution_count": 64,
   "metadata": {
    "execution": {
     "iopub.execute_input": "2021-05-13T12:31:10.455610Z",
     "iopub.status.busy": "2021-05-13T12:31:10.455011Z",
     "iopub.status.idle": "2021-05-13T12:31:10.457220Z",
     "shell.execute_reply": "2021-05-13T12:31:10.457621Z"
    },
    "slideshow": {
     "slide_type": "fragment"
    }
   },
   "outputs": [
    {
     "data": {
      "text/plain": [
       "'foo'"
      ]
     },
     "execution_count": 1,
     "metadata": {},
     "output_type": "execute_result"
    }
   ],
   "source": [
    "remove_html_markup('\"foo\"')"
   ]
  },
  {
   "cell_type": "markdown",
   "metadata": {
    "slideshow": {
     "slide_type": "slide"
    }
   },
   "source": [
    "## Manual Bisecting\n",
    "\n",
    "As stated above, we could now go and try out one version after another to see with which version the bug was introduced. But again, proceeding in such a _linear_ fashion would be very inefficient. It is much better to proceed by _binary search_: If you know that version $v_n$ passed, and version $v_m$ failed (with $m >n$), then test a version $v' = v_{n + (m - n)/2}$ that is right in the _middle_ between the two.\n",
    "\n",
    "* If $v'$ passes, then repeat the process with $v'$ and $v_m$.\n",
    "* If $v'$ fails, then repeat the process with $v_n$ and $v'$.\n",
    "\n",
    "Such *bisecting* quickly progresses towards the failure-inducing version, as it requires you to take only a logarithmic number of tests. In contrast, progressing linearly through the version history requires a test for each version, which is far more effort."
   ]
  },
  {
   "cell_type": "markdown",
   "metadata": {
    "slideshow": {
     "slide_type": "subslide"
    }
   },
   "source": [
    "If you use the git version control system, such bisecting is actually a _built-in feature_, coming to you through the `git bisect` command. Let us illustrate how `git bisect` quickly identifies the version that introduced the error."
   ]
  },
  {
   "cell_type": "markdown",
   "metadata": {
    "slideshow": {
     "slide_type": "fragment"
    }
   },
   "source": [
    "A bisecting section with `git` starts with the command `bisect start`."
   ]
  },
  {
   "cell_type": "code",
   "execution_count": 65,
   "metadata": {
    "execution": {
     "iopub.execute_input": "2021-05-13T12:31:10.461110Z",
     "iopub.status.busy": "2021-05-13T12:31:10.460556Z",
     "iopub.status.idle": "2021-05-13T12:31:10.660570Z",
     "shell.execute_reply": "2021-05-13T12:31:10.660984Z"
    },
    "slideshow": {
     "slide_type": "fragment"
    }
   },
   "outputs": [],
   "source": [
    "!git bisect start"
   ]
  },
  {
   "cell_type": "markdown",
   "metadata": {
    "slideshow": {
     "slide_type": "fragment"
    }
   },
   "source": [
    "Then, you use `git bisect good` to identify the version that worked, and `git bisect bad` to identify the version that was bad – in our case, the hashes of the first and last version."
   ]
  },
  {
   "cell_type": "code",
   "execution_count": 66,
   "metadata": {
    "execution": {
     "iopub.execute_input": "2021-05-13T12:31:10.665740Z",
     "iopub.status.busy": "2021-05-13T12:31:10.665041Z",
     "iopub.status.idle": "2021-05-13T12:31:10.870757Z",
     "shell.execute_reply": "2021-05-13T12:31:10.871224Z"
    },
    "slideshow": {
     "slide_type": "fragment"
    }
   },
   "outputs": [],
   "source": [
    "!git bisect good {versions[0]}"
   ]
  },
  {
   "cell_type": "code",
   "execution_count": 67,
   "metadata": {
    "execution": {
     "iopub.execute_input": "2021-05-13T12:31:10.875560Z",
     "iopub.status.busy": "2021-05-13T12:31:10.875028Z",
     "iopub.status.idle": "2021-05-13T12:31:11.092526Z",
     "shell.execute_reply": "2021-05-13T12:31:11.092923Z"
    },
    "slideshow": {
     "slide_type": "fragment"
    }
   },
   "outputs": [
    {
     "name": "stdout",
     "output_type": "stream",
     "text": [
      "Bisecting: 3 revisions left to test after this (roughly 2 steps)\r\n",
      "[aff9564766d1dfc4716b1095f4732fe47ad1695b] Fourth version (clueless)\r\n"
     ]
    }
   ],
   "source": [
    "!git bisect bad {versions[7]}"
   ]
  },
  {
   "cell_type": "markdown",
   "metadata": {
    "slideshow": {
     "slide_type": "subslide"
    }
   },
   "source": [
    "We find that `git bisect` automatically has checked out the _middle_ version between the passing and the failing one – in our case, version 4 – and now asks us to assess this version."
   ]
  },
  {
   "cell_type": "code",
   "execution_count": 68,
   "metadata": {
    "execution": {
     "iopub.execute_input": "2021-05-13T12:31:11.099170Z",
     "iopub.status.busy": "2021-05-13T12:31:11.098565Z",
     "iopub.status.idle": "2021-05-13T12:31:11.781944Z",
     "shell.execute_reply": "2021-05-13T12:31:11.782593Z"
    },
    "slideshow": {
     "slide_type": "fragment"
    }
   },
   "outputs": [
    {
     "data": {
      "image/svg+xml": [
       "<?xml version=\"1.0\" encoding=\"UTF-8\" standalone=\"no\"?>\n",
       "<!DOCTYPE svg PUBLIC \"-//W3C//DTD SVG 1.1//EN\"\n",
       " \"http://www.w3.org/Graphics/SVG/1.1/DTD/svg11.dtd\">\n",
       "<!-- Generated by graphviz version 2.40.1 (20161225.0304)\n",
       " -->\n",
       "<!-- Title: %3 Pages: 1 -->\n",
       "<svg width=\"692pt\" height=\"44pt\"\n",
       " viewBox=\"0.00 0.00 692.00 44.00\" xmlns=\"http://www.w3.org/2000/svg\" xmlns:xlink=\"http://www.w3.org/1999/xlink\">\n",
       "<g id=\"graph0\" class=\"graph\" transform=\"scale(1 1) rotate(0) translate(4 40)\">\n",
       "<title>%3</title>\n",
       "<polygon fill=\"#ffffff\" stroke=\"transparent\" points=\"-4,4 -4,-40 688,-40 688,4 -4,4\"/>\n",
       "<!-- v1 -->\n",
       "<g id=\"node1\" class=\"node\">\n",
       "<title>v1</title>\n",
       "<polygon fill=\"#ffdab9\" stroke=\"#000000\" points=\"54,-36 0,-36 0,0 54,0 54,-36\"/>\n",
       "<text text-anchor=\"middle\" x=\"27\" y=\"-14.3\" font-family=\"Raleway\" font-size=\"14.00\" fill=\"#000000\">v1 ✔</text>\n",
       "</g>\n",
       "<!-- v2 -->\n",
       "<g id=\"node2\" class=\"node\">\n",
       "<title>v2</title>\n",
       "<polygon fill=\"#ffdab9\" stroke=\"#000000\" points=\"144,-36 90,-36 90,0 144,0 144,-36\"/>\n",
       "<text text-anchor=\"middle\" x=\"117\" y=\"-14.3\" font-family=\"Raleway\" font-size=\"14.00\" fill=\"#000000\">v2</text>\n",
       "</g>\n",
       "<!-- v1&#45;&gt;v2 -->\n",
       "<g id=\"edge1\" class=\"edge\">\n",
       "<title>v1&#45;&gt;v2</title>\n",
       "<path fill=\"none\" stroke=\"#000000\" d=\"M54.003,-18C62.0277,-18 70.9665,-18 79.5309,-18\"/>\n",
       "<polygon fill=\"#000000\" stroke=\"#000000\" points=\"79.7051,-21.5001 89.705,-18 79.705,-14.5001 79.7051,-21.5001\"/>\n",
       "</g>\n",
       "<!-- v3 -->\n",
       "<g id=\"node3\" class=\"node\">\n",
       "<title>v3</title>\n",
       "<polygon fill=\"#ffdab9\" stroke=\"#000000\" points=\"234,-36 180,-36 180,0 234,0 234,-36\"/>\n",
       "<text text-anchor=\"middle\" x=\"207\" y=\"-14.3\" font-family=\"Raleway\" font-size=\"14.00\" fill=\"#000000\">v3</text>\n",
       "</g>\n",
       "<!-- v2&#45;&gt;v3 -->\n",
       "<g id=\"edge2\" class=\"edge\">\n",
       "<title>v2&#45;&gt;v3</title>\n",
       "<path fill=\"none\" stroke=\"#000000\" d=\"M144.003,-18C152.0277,-18 160.9665,-18 169.5309,-18\"/>\n",
       "<polygon fill=\"#000000\" stroke=\"#000000\" points=\"169.7051,-21.5001 179.705,-18 169.705,-14.5001 169.7051,-21.5001\"/>\n",
       "</g>\n",
       "<!-- v4 -->\n",
       "<g id=\"node4\" class=\"node\">\n",
       "<title>v4</title>\n",
       "<polygon fill=\"#ffdab9\" stroke=\"#000000\" points=\"324,-36 270,-36 270,0 324,0 324,-36\"/>\n",
       "<text text-anchor=\"middle\" x=\"297\" y=\"-14.3\" font-family=\"Raleway\" font-size=\"14.00\" fill=\"#000000\">v4 ?</text>\n",
       "</g>\n",
       "<!-- v3&#45;&gt;v4 -->\n",
       "<g id=\"edge3\" class=\"edge\">\n",
       "<title>v3&#45;&gt;v4</title>\n",
       "<path fill=\"none\" stroke=\"#000000\" d=\"M234.003,-18C242.0277,-18 250.9665,-18 259.5309,-18\"/>\n",
       "<polygon fill=\"#000000\" stroke=\"#000000\" points=\"259.7051,-21.5001 269.705,-18 259.705,-14.5001 259.7051,-21.5001\"/>\n",
       "</g>\n",
       "<!-- v5 -->\n",
       "<g id=\"node5\" class=\"node\">\n",
       "<title>v5</title>\n",
       "<polygon fill=\"#ffdab9\" stroke=\"#000000\" points=\"414,-36 360,-36 360,0 414,0 414,-36\"/>\n",
       "<text text-anchor=\"middle\" x=\"387\" y=\"-14.3\" font-family=\"Raleway\" font-size=\"14.00\" fill=\"#000000\">v5</text>\n",
       "</g>\n",
       "<!-- v4&#45;&gt;v5 -->\n",
       "<g id=\"edge4\" class=\"edge\">\n",
       "<title>v4&#45;&gt;v5</title>\n",
       "<path fill=\"none\" stroke=\"#000000\" d=\"M324.003,-18C332.0277,-18 340.9665,-18 349.5309,-18\"/>\n",
       "<polygon fill=\"#000000\" stroke=\"#000000\" points=\"349.7051,-21.5001 359.705,-18 349.705,-14.5001 349.7051,-21.5001\"/>\n",
       "</g>\n",
       "<!-- v6 -->\n",
       "<g id=\"node6\" class=\"node\">\n",
       "<title>v6</title>\n",
       "<polygon fill=\"#ffdab9\" stroke=\"#000000\" points=\"504,-36 450,-36 450,0 504,0 504,-36\"/>\n",
       "<text text-anchor=\"middle\" x=\"477\" y=\"-14.3\" font-family=\"Raleway\" font-size=\"14.00\" fill=\"#000000\">v6</text>\n",
       "</g>\n",
       "<!-- v5&#45;&gt;v6 -->\n",
       "<g id=\"edge5\" class=\"edge\">\n",
       "<title>v5&#45;&gt;v6</title>\n",
       "<path fill=\"none\" stroke=\"#000000\" d=\"M414.003,-18C422.0277,-18 430.9665,-18 439.5309,-18\"/>\n",
       "<polygon fill=\"#000000\" stroke=\"#000000\" points=\"439.7051,-21.5001 449.705,-18 439.705,-14.5001 439.7051,-21.5001\"/>\n",
       "</g>\n",
       "<!-- v7 -->\n",
       "<g id=\"node7\" class=\"node\">\n",
       "<title>v7</title>\n",
       "<polygon fill=\"#ffdab9\" stroke=\"#000000\" points=\"594,-36 540,-36 540,0 594,0 594,-36\"/>\n",
       "<text text-anchor=\"middle\" x=\"567\" y=\"-14.3\" font-family=\"Raleway\" font-size=\"14.00\" fill=\"#000000\">v7</text>\n",
       "</g>\n",
       "<!-- v6&#45;&gt;v7 -->\n",
       "<g id=\"edge6\" class=\"edge\">\n",
       "<title>v6&#45;&gt;v7</title>\n",
       "<path fill=\"none\" stroke=\"#000000\" d=\"M504.003,-18C512.0277,-18 520.9665,-18 529.5309,-18\"/>\n",
       "<polygon fill=\"#000000\" stroke=\"#000000\" points=\"529.7051,-21.5001 539.705,-18 529.705,-14.5001 529.7051,-21.5001\"/>\n",
       "</g>\n",
       "<!-- v8 -->\n",
       "<g id=\"node8\" class=\"node\">\n",
       "<title>v8</title>\n",
       "<polygon fill=\"#ffdab9\" stroke=\"#000000\" points=\"684,-36 630,-36 630,0 684,0 684,-36\"/>\n",
       "<text text-anchor=\"middle\" x=\"657\" y=\"-14.3\" font-family=\"Raleway\" font-size=\"14.00\" fill=\"#000000\">v8 ✘</text>\n",
       "</g>\n",
       "<!-- v7&#45;&gt;v8 -->\n",
       "<g id=\"edge7\" class=\"edge\">\n",
       "<title>v7&#45;&gt;v8</title>\n",
       "<path fill=\"none\" stroke=\"#000000\" d=\"M594.003,-18C602.0277,-18 610.9665,-18 619.5309,-18\"/>\n",
       "<polygon fill=\"#000000\" stroke=\"#000000\" points=\"619.7051,-21.5001 629.705,-18 619.705,-14.5001 619.7051,-21.5001\"/>\n",
       "</g>\n",
       "</g>\n",
       "</svg>\n"
      ],
      "text/plain": [
       "<graphviz.dot.Digraph at 0x7f8ce73a9ba8>"
      ]
     },
     "metadata": {},
     "output_type": "display_data"
    }
   ],
   "source": [
    "# ignore\n",
    "display_versions({1: PASS, 4: UNRESOLVED, 8: FAIL})"
   ]
  },
  {
   "cell_type": "markdown",
   "metadata": {
    "slideshow": {
     "slide_type": "fragment"
    }
   },
   "source": [
    "The version is already in our working folder:"
   ]
  },
  {
   "cell_type": "code",
   "execution_count": 69,
   "metadata": {
    "execution": {
     "iopub.execute_input": "2021-05-13T12:31:11.786177Z",
     "iopub.status.busy": "2021-05-13T12:31:11.785651Z",
     "iopub.status.idle": "2021-05-13T12:31:11.793377Z",
     "shell.execute_reply": "2021-05-13T12:31:11.793760Z"
    },
    "slideshow": {
     "slide_type": "subslide"
    }
   },
   "outputs": [
    {
     "name": "stdout",
     "output_type": "stream",
     "text": [
      "\u001b[34mdef\u001b[39;49;00m \u001b[32mremove_html_markup\u001b[39;49;00m(s):  \u001b[37m# type: ignore\u001b[39;49;00m\n",
      "    tag = \u001b[34mFalse\u001b[39;49;00m\n",
      "    quote = \u001b[34mFalse\u001b[39;49;00m\n",
      "    out = \u001b[33m\"\u001b[39;49;00m\u001b[33m\"\u001b[39;49;00m\n",
      "\n",
      "    \u001b[34mfor\u001b[39;49;00m c \u001b[35min\u001b[39;49;00m s:\n",
      "        \u001b[34mif\u001b[39;49;00m c == \u001b[33m'\u001b[39;49;00m\u001b[33m<\u001b[39;49;00m\u001b[33m'\u001b[39;49;00m:  \u001b[37m# and not quote:\u001b[39;49;00m\n",
      "            tag = \u001b[34mTrue\u001b[39;49;00m\n",
      "        \u001b[34melif\u001b[39;49;00m c == \u001b[33m'\u001b[39;49;00m\u001b[33m>\u001b[39;49;00m\u001b[33m'\u001b[39;49;00m:  \u001b[37m# and not quote:\u001b[39;49;00m\n",
      "            tag = \u001b[34mFalse\u001b[39;49;00m\n",
      "        \u001b[34melif\u001b[39;49;00m c == \u001b[33m'\u001b[39;49;00m\u001b[33m\"\u001b[39;49;00m\u001b[33m'\u001b[39;49;00m \u001b[35mor\u001b[39;49;00m c == \u001b[33m\"\u001b[39;49;00m\u001b[33m'\u001b[39;49;00m\u001b[33m\"\u001b[39;49;00m \u001b[35mand\u001b[39;49;00m tag:\n",
      "            quote = \u001b[35mnot\u001b[39;49;00m quote\n",
      "        \u001b[34melif\u001b[39;49;00m \u001b[35mnot\u001b[39;49;00m tag:\n",
      "            out = out + c\n",
      "\n",
      "    \u001b[34mreturn\u001b[39;49;00m out"
     ]
    }
   ],
   "source": [
    "print_file('remove_html_markup.py')"
   ]
  },
  {
   "cell_type": "markdown",
   "metadata": {
    "slideshow": {
     "slide_type": "subslide"
    }
   },
   "source": [
    "We now need to test this version, and let `git bisect` know the outcome – with\n",
    "\n",
    "```sh\n",
    "git bisect good\n",
    "```\n",
    "\n",
    "if the test passes, and with\n",
    "\n",
    "```sh\n",
    "git bisect bad\n",
    "```\n",
    "\n",
    "if the test fails."
   ]
  },
  {
   "cell_type": "markdown",
   "metadata": {
    "slideshow": {
     "slide_type": "subslide"
    }
   },
   "source": [
    "It turns out that this version fails:"
   ]
  },
  {
   "cell_type": "code",
   "execution_count": 70,
   "metadata": {
    "execution": {
     "iopub.execute_input": "2021-05-13T12:31:11.797335Z",
     "iopub.status.busy": "2021-05-13T12:31:11.796730Z",
     "iopub.status.idle": "2021-05-13T12:31:11.799267Z",
     "shell.execute_reply": "2021-05-13T12:31:11.799658Z"
    },
    "slideshow": {
     "slide_type": "fragment"
    }
   },
   "outputs": [],
   "source": [
    "exec(open('remove_html_markup.py').read())"
   ]
  },
  {
   "cell_type": "code",
   "execution_count": 71,
   "metadata": {
    "execution": {
     "iopub.execute_input": "2021-05-13T12:31:11.803116Z",
     "iopub.status.busy": "2021-05-13T12:31:11.802570Z",
     "iopub.status.idle": "2021-05-13T12:31:11.804681Z",
     "shell.execute_reply": "2021-05-13T12:31:11.805075Z"
    },
    "slideshow": {
     "slide_type": "fragment"
    }
   },
   "outputs": [
    {
     "data": {
      "text/plain": [
       "'foo'"
      ]
     },
     "execution_count": 1,
     "metadata": {},
     "output_type": "execute_result"
    }
   ],
   "source": [
    "remove_html_markup('\"foo\"')"
   ]
  },
  {
   "cell_type": "markdown",
   "metadata": {
    "slideshow": {
     "slide_type": "fragment"
    }
   },
   "source": [
    "So we enter `git bisect bad`:"
   ]
  },
  {
   "cell_type": "code",
   "execution_count": 72,
   "metadata": {
    "execution": {
     "iopub.execute_input": "2021-05-13T12:31:11.808520Z",
     "iopub.status.busy": "2021-05-13T12:31:11.807977Z",
     "iopub.status.idle": "2021-05-13T12:31:12.033440Z",
     "shell.execute_reply": "2021-05-13T12:31:12.033855Z"
    },
    "slideshow": {
     "slide_type": "fragment"
    }
   },
   "outputs": [
    {
     "name": "stdout",
     "output_type": "stream",
     "text": [
      "Bisecting: 0 revisions left to test after this (roughly 1 step)\r\n",
      "[c46984501a2d4a0062d6b4a4957cfa19e94393f3] Third version (with debugging output)\r\n"
     ]
    }
   ],
   "source": [
    "!git bisect bad"
   ]
  },
  {
   "cell_type": "markdown",
   "metadata": {
    "slideshow": {
     "slide_type": "fragment"
    }
   },
   "source": [
    "`git bisect` has chosen version 3 to assess – again in the middle between a passing and a failing version:"
   ]
  },
  {
   "cell_type": "code",
   "execution_count": 73,
   "metadata": {
    "execution": {
     "iopub.execute_input": "2021-05-13T12:31:12.039364Z",
     "iopub.status.busy": "2021-05-13T12:31:12.037687Z",
     "iopub.status.idle": "2021-05-13T12:31:12.743636Z",
     "shell.execute_reply": "2021-05-13T12:31:12.744114Z"
    },
    "slideshow": {
     "slide_type": "fragment"
    }
   },
   "outputs": [
    {
     "data": {
      "image/svg+xml": [
       "<?xml version=\"1.0\" encoding=\"UTF-8\" standalone=\"no\"?>\n",
       "<!DOCTYPE svg PUBLIC \"-//W3C//DTD SVG 1.1//EN\"\n",
       " \"http://www.w3.org/Graphics/SVG/1.1/DTD/svg11.dtd\">\n",
       "<!-- Generated by graphviz version 2.40.1 (20161225.0304)\n",
       " -->\n",
       "<!-- Title: %3 Pages: 1 -->\n",
       "<svg width=\"692pt\" height=\"44pt\"\n",
       " viewBox=\"0.00 0.00 692.00 44.00\" xmlns=\"http://www.w3.org/2000/svg\" xmlns:xlink=\"http://www.w3.org/1999/xlink\">\n",
       "<g id=\"graph0\" class=\"graph\" transform=\"scale(1 1) rotate(0) translate(4 40)\">\n",
       "<title>%3</title>\n",
       "<polygon fill=\"#ffffff\" stroke=\"transparent\" points=\"-4,4 -4,-40 688,-40 688,4 -4,4\"/>\n",
       "<!-- v1 -->\n",
       "<g id=\"node1\" class=\"node\">\n",
       "<title>v1</title>\n",
       "<polygon fill=\"#ffdab9\" stroke=\"#000000\" points=\"54,-36 0,-36 0,0 54,0 54,-36\"/>\n",
       "<text text-anchor=\"middle\" x=\"27\" y=\"-14.3\" font-family=\"Raleway\" font-size=\"14.00\" fill=\"#000000\">v1 ✔</text>\n",
       "</g>\n",
       "<!-- v2 -->\n",
       "<g id=\"node2\" class=\"node\">\n",
       "<title>v2</title>\n",
       "<polygon fill=\"#ffdab9\" stroke=\"#000000\" points=\"144,-36 90,-36 90,0 144,0 144,-36\"/>\n",
       "<text text-anchor=\"middle\" x=\"117\" y=\"-14.3\" font-family=\"Raleway\" font-size=\"14.00\" fill=\"#000000\">v2</text>\n",
       "</g>\n",
       "<!-- v1&#45;&gt;v2 -->\n",
       "<g id=\"edge1\" class=\"edge\">\n",
       "<title>v1&#45;&gt;v2</title>\n",
       "<path fill=\"none\" stroke=\"#000000\" d=\"M54.003,-18C62.0277,-18 70.9665,-18 79.5309,-18\"/>\n",
       "<polygon fill=\"#000000\" stroke=\"#000000\" points=\"79.7051,-21.5001 89.705,-18 79.705,-14.5001 79.7051,-21.5001\"/>\n",
       "</g>\n",
       "<!-- v3 -->\n",
       "<g id=\"node3\" class=\"node\">\n",
       "<title>v3</title>\n",
       "<polygon fill=\"#ffdab9\" stroke=\"#000000\" points=\"234,-36 180,-36 180,0 234,0 234,-36\"/>\n",
       "<text text-anchor=\"middle\" x=\"207\" y=\"-14.3\" font-family=\"Raleway\" font-size=\"14.00\" fill=\"#000000\">v3 ?</text>\n",
       "</g>\n",
       "<!-- v2&#45;&gt;v3 -->\n",
       "<g id=\"edge2\" class=\"edge\">\n",
       "<title>v2&#45;&gt;v3</title>\n",
       "<path fill=\"none\" stroke=\"#000000\" d=\"M144.003,-18C152.0277,-18 160.9665,-18 169.5309,-18\"/>\n",
       "<polygon fill=\"#000000\" stroke=\"#000000\" points=\"169.7051,-21.5001 179.705,-18 169.705,-14.5001 169.7051,-21.5001\"/>\n",
       "</g>\n",
       "<!-- v4 -->\n",
       "<g id=\"node4\" class=\"node\">\n",
       "<title>v4</title>\n",
       "<polygon fill=\"#ffdab9\" stroke=\"#000000\" points=\"324,-36 270,-36 270,0 324,0 324,-36\"/>\n",
       "<text text-anchor=\"middle\" x=\"297\" y=\"-14.3\" font-family=\"Raleway\" font-size=\"14.00\" fill=\"#000000\">v4 ✘</text>\n",
       "</g>\n",
       "<!-- v3&#45;&gt;v4 -->\n",
       "<g id=\"edge3\" class=\"edge\">\n",
       "<title>v3&#45;&gt;v4</title>\n",
       "<path fill=\"none\" stroke=\"#000000\" d=\"M234.003,-18C242.0277,-18 250.9665,-18 259.5309,-18\"/>\n",
       "<polygon fill=\"#000000\" stroke=\"#000000\" points=\"259.7051,-21.5001 269.705,-18 259.705,-14.5001 259.7051,-21.5001\"/>\n",
       "</g>\n",
       "<!-- v5 -->\n",
       "<g id=\"node5\" class=\"node\">\n",
       "<title>v5</title>\n",
       "<polygon fill=\"#ffdab9\" stroke=\"#000000\" points=\"414,-36 360,-36 360,0 414,0 414,-36\"/>\n",
       "<text text-anchor=\"middle\" x=\"387\" y=\"-14.3\" font-family=\"Raleway\" font-size=\"14.00\" fill=\"#000000\">v5</text>\n",
       "</g>\n",
       "<!-- v4&#45;&gt;v5 -->\n",
       "<g id=\"edge4\" class=\"edge\">\n",
       "<title>v4&#45;&gt;v5</title>\n",
       "<path fill=\"none\" stroke=\"#000000\" d=\"M324.003,-18C332.0277,-18 340.9665,-18 349.5309,-18\"/>\n",
       "<polygon fill=\"#000000\" stroke=\"#000000\" points=\"349.7051,-21.5001 359.705,-18 349.705,-14.5001 349.7051,-21.5001\"/>\n",
       "</g>\n",
       "<!-- v6 -->\n",
       "<g id=\"node6\" class=\"node\">\n",
       "<title>v6</title>\n",
       "<polygon fill=\"#ffdab9\" stroke=\"#000000\" points=\"504,-36 450,-36 450,0 504,0 504,-36\"/>\n",
       "<text text-anchor=\"middle\" x=\"477\" y=\"-14.3\" font-family=\"Raleway\" font-size=\"14.00\" fill=\"#000000\">v6</text>\n",
       "</g>\n",
       "<!-- v5&#45;&gt;v6 -->\n",
       "<g id=\"edge5\" class=\"edge\">\n",
       "<title>v5&#45;&gt;v6</title>\n",
       "<path fill=\"none\" stroke=\"#000000\" d=\"M414.003,-18C422.0277,-18 430.9665,-18 439.5309,-18\"/>\n",
       "<polygon fill=\"#000000\" stroke=\"#000000\" points=\"439.7051,-21.5001 449.705,-18 439.705,-14.5001 439.7051,-21.5001\"/>\n",
       "</g>\n",
       "<!-- v7 -->\n",
       "<g id=\"node7\" class=\"node\">\n",
       "<title>v7</title>\n",
       "<polygon fill=\"#ffdab9\" stroke=\"#000000\" points=\"594,-36 540,-36 540,0 594,0 594,-36\"/>\n",
       "<text text-anchor=\"middle\" x=\"567\" y=\"-14.3\" font-family=\"Raleway\" font-size=\"14.00\" fill=\"#000000\">v7</text>\n",
       "</g>\n",
       "<!-- v6&#45;&gt;v7 -->\n",
       "<g id=\"edge6\" class=\"edge\">\n",
       "<title>v6&#45;&gt;v7</title>\n",
       "<path fill=\"none\" stroke=\"#000000\" d=\"M504.003,-18C512.0277,-18 520.9665,-18 529.5309,-18\"/>\n",
       "<polygon fill=\"#000000\" stroke=\"#000000\" points=\"529.7051,-21.5001 539.705,-18 529.705,-14.5001 529.7051,-21.5001\"/>\n",
       "</g>\n",
       "<!-- v8 -->\n",
       "<g id=\"node8\" class=\"node\">\n",
       "<title>v8</title>\n",
       "<polygon fill=\"#ffdab9\" stroke=\"#000000\" points=\"684,-36 630,-36 630,0 684,0 684,-36\"/>\n",
       "<text text-anchor=\"middle\" x=\"657\" y=\"-14.3\" font-family=\"Raleway\" font-size=\"14.00\" fill=\"#000000\">v8 ✘</text>\n",
       "</g>\n",
       "<!-- v7&#45;&gt;v8 -->\n",
       "<g id=\"edge7\" class=\"edge\">\n",
       "<title>v7&#45;&gt;v8</title>\n",
       "<path fill=\"none\" stroke=\"#000000\" d=\"M594.003,-18C602.0277,-18 610.9665,-18 619.5309,-18\"/>\n",
       "<polygon fill=\"#000000\" stroke=\"#000000\" points=\"619.7051,-21.5001 629.705,-18 619.705,-14.5001 619.7051,-21.5001\"/>\n",
       "</g>\n",
       "</g>\n",
       "</svg>\n"
      ],
      "text/plain": [
       "<graphviz.dot.Digraph at 0x7f8ce73a99b0>"
      ]
     },
     "metadata": {},
     "output_type": "display_data"
    }
   ],
   "source": [
    "# ignore\n",
    "display_versions({1: PASS, 3: UNRESOLVED, 4: FAIL, 8: FAIL})"
   ]
  },
  {
   "cell_type": "markdown",
   "metadata": {
    "slideshow": {
     "slide_type": "fragment"
    }
   },
   "source": [
    "So let us test this version and find that it fails, too:"
   ]
  },
  {
   "cell_type": "code",
   "execution_count": 74,
   "metadata": {
    "execution": {
     "iopub.execute_input": "2021-05-13T12:31:12.753570Z",
     "iopub.status.busy": "2021-05-13T12:31:12.747383Z",
     "iopub.status.idle": "2021-05-13T12:31:12.755795Z",
     "shell.execute_reply": "2021-05-13T12:31:12.756182Z"
    },
    "slideshow": {
     "slide_type": "subslide"
    }
   },
   "outputs": [
    {
     "name": "stdout",
     "output_type": "stream",
     "text": [
      "\u001b[34mdef\u001b[39;49;00m \u001b[32mremove_html_markup\u001b[39;49;00m(s):  \u001b[37m# type: ignore\u001b[39;49;00m\n",
      "    tag = \u001b[34mFalse\u001b[39;49;00m\n",
      "    quote = \u001b[34mFalse\u001b[39;49;00m\n",
      "    out = \u001b[33m\"\u001b[39;49;00m\u001b[33m\"\u001b[39;49;00m\n",
      "\n",
      "    \u001b[34mfor\u001b[39;49;00m c \u001b[35min\u001b[39;49;00m s:\n",
      "        \u001b[36mprint\u001b[39;49;00m(\u001b[33m\"\u001b[39;49;00m\u001b[33mc =\u001b[39;49;00m\u001b[33m\"\u001b[39;49;00m, \u001b[36mrepr\u001b[39;49;00m(c), \u001b[33m\"\u001b[39;49;00m\u001b[33mtag =\u001b[39;49;00m\u001b[33m\"\u001b[39;49;00m, tag, \u001b[33m\"\u001b[39;49;00m\u001b[33mquote =\u001b[39;49;00m\u001b[33m\"\u001b[39;49;00m, quote)\n",
      "\n",
      "        \u001b[34mif\u001b[39;49;00m c == \u001b[33m'\u001b[39;49;00m\u001b[33m<\u001b[39;49;00m\u001b[33m'\u001b[39;49;00m \u001b[35mand\u001b[39;49;00m \u001b[35mnot\u001b[39;49;00m quote:\n",
      "            tag = \u001b[34mTrue\u001b[39;49;00m\n",
      "        \u001b[34melif\u001b[39;49;00m c == \u001b[33m'\u001b[39;49;00m\u001b[33m>\u001b[39;49;00m\u001b[33m'\u001b[39;49;00m \u001b[35mand\u001b[39;49;00m \u001b[35mnot\u001b[39;49;00m quote:\n",
      "            tag = \u001b[34mFalse\u001b[39;49;00m\n",
      "        \u001b[34melif\u001b[39;49;00m c == \u001b[33m'\u001b[39;49;00m\u001b[33m\"\u001b[39;49;00m\u001b[33m'\u001b[39;49;00m \u001b[35mor\u001b[39;49;00m c == \u001b[33m\"\u001b[39;49;00m\u001b[33m'\u001b[39;49;00m\u001b[33m\"\u001b[39;49;00m \u001b[35mand\u001b[39;49;00m tag:\n",
      "            quote = \u001b[35mnot\u001b[39;49;00m quote\n",
      "        \u001b[34melif\u001b[39;49;00m \u001b[35mnot\u001b[39;49;00m tag:\n",
      "            out = out + c\n",
      "\n",
      "    \u001b[34mreturn\u001b[39;49;00m out"
     ]
    }
   ],
   "source": [
    "print_file('remove_html_markup.py')"
   ]
  },
  {
   "cell_type": "code",
   "execution_count": 75,
   "metadata": {
    "execution": {
     "iopub.execute_input": "2021-05-13T12:31:12.759741Z",
     "iopub.status.busy": "2021-05-13T12:31:12.759138Z",
     "iopub.status.idle": "2021-05-13T12:31:12.761163Z",
     "shell.execute_reply": "2021-05-13T12:31:12.761609Z"
    },
    "slideshow": {
     "slide_type": "subslide"
    }
   },
   "outputs": [],
   "source": [
    "exec(open('remove_html_markup.py').read())"
   ]
  },
  {
   "cell_type": "code",
   "execution_count": 76,
   "metadata": {
    "execution": {
     "iopub.execute_input": "2021-05-13T12:31:12.766315Z",
     "iopub.status.busy": "2021-05-13T12:31:12.765480Z",
     "iopub.status.idle": "2021-05-13T12:31:12.769923Z",
     "shell.execute_reply": "2021-05-13T12:31:12.770529Z"
    },
    "slideshow": {
     "slide_type": "fragment"
    }
   },
   "outputs": [
    {
     "name": "stdout",
     "output_type": "stream",
     "text": [
      "c = '\"' tag = False quote = False\n",
      "c = 'f' tag = False quote = True\n",
      "c = 'o' tag = False quote = True\n",
      "c = 'o' tag = False quote = True\n",
      "c = '\"' tag = False quote = True\n"
     ]
    },
    {
     "data": {
      "text/plain": [
       "'foo'"
      ]
     },
     "execution_count": 1,
     "metadata": {},
     "output_type": "execute_result"
    }
   ],
   "source": [
    "remove_html_markup('\"foo\"')"
   ]
  },
  {
   "cell_type": "markdown",
   "metadata": {
    "slideshow": {
     "slide_type": "fragment"
    }
   },
   "source": [
    "We mark the version as `bad`. `git bisect` then checks out version 2 as the last version to assess."
   ]
  },
  {
   "cell_type": "code",
   "execution_count": 77,
   "metadata": {
    "execution": {
     "iopub.execute_input": "2021-05-13T12:31:12.775505Z",
     "iopub.status.busy": "2021-05-13T12:31:12.774673Z",
     "iopub.status.idle": "2021-05-13T12:31:13.019014Z",
     "shell.execute_reply": "2021-05-13T12:31:13.019630Z"
    },
    "slideshow": {
     "slide_type": "fragment"
    }
   },
   "outputs": [
    {
     "name": "stdout",
     "output_type": "stream",
     "text": [
      "Bisecting: 0 revisions left to test after this (roughly 0 steps)\r\n",
      "[8bace32e2e396a414ee1fce141788f2e5c92981f] Second version\r\n"
     ]
    }
   ],
   "source": [
    "!git bisect bad"
   ]
  },
  {
   "cell_type": "code",
   "execution_count": 78,
   "metadata": {
    "execution": {
     "iopub.execute_input": "2021-05-13T12:31:13.024904Z",
     "iopub.status.busy": "2021-05-13T12:31:13.024227Z",
     "iopub.status.idle": "2021-05-13T12:31:13.872492Z",
     "shell.execute_reply": "2021-05-13T12:31:13.873253Z"
    },
    "slideshow": {
     "slide_type": "subslide"
    }
   },
   "outputs": [
    {
     "data": {
      "image/svg+xml": [
       "<?xml version=\"1.0\" encoding=\"UTF-8\" standalone=\"no\"?>\n",
       "<!DOCTYPE svg PUBLIC \"-//W3C//DTD SVG 1.1//EN\"\n",
       " \"http://www.w3.org/Graphics/SVG/1.1/DTD/svg11.dtd\">\n",
       "<!-- Generated by graphviz version 2.40.1 (20161225.0304)\n",
       " -->\n",
       "<!-- Title: %3 Pages: 1 -->\n",
       "<svg width=\"692pt\" height=\"44pt\"\n",
       " viewBox=\"0.00 0.00 692.00 44.00\" xmlns=\"http://www.w3.org/2000/svg\" xmlns:xlink=\"http://www.w3.org/1999/xlink\">\n",
       "<g id=\"graph0\" class=\"graph\" transform=\"scale(1 1) rotate(0) translate(4 40)\">\n",
       "<title>%3</title>\n",
       "<polygon fill=\"#ffffff\" stroke=\"transparent\" points=\"-4,4 -4,-40 688,-40 688,4 -4,4\"/>\n",
       "<!-- v1 -->\n",
       "<g id=\"node1\" class=\"node\">\n",
       "<title>v1</title>\n",
       "<polygon fill=\"#ffdab9\" stroke=\"#000000\" points=\"54,-36 0,-36 0,0 54,0 54,-36\"/>\n",
       "<text text-anchor=\"middle\" x=\"27\" y=\"-14.3\" font-family=\"Raleway\" font-size=\"14.00\" fill=\"#000000\">v1 ✔</text>\n",
       "</g>\n",
       "<!-- v2 -->\n",
       "<g id=\"node2\" class=\"node\">\n",
       "<title>v2</title>\n",
       "<polygon fill=\"#ffdab9\" stroke=\"#000000\" points=\"144,-36 90,-36 90,0 144,0 144,-36\"/>\n",
       "<text text-anchor=\"middle\" x=\"117\" y=\"-14.3\" font-family=\"Raleway\" font-size=\"14.00\" fill=\"#000000\">v2 ?</text>\n",
       "</g>\n",
       "<!-- v1&#45;&gt;v2 -->\n",
       "<g id=\"edge1\" class=\"edge\">\n",
       "<title>v1&#45;&gt;v2</title>\n",
       "<path fill=\"none\" stroke=\"#000000\" d=\"M54.003,-18C62.0277,-18 70.9665,-18 79.5309,-18\"/>\n",
       "<polygon fill=\"#000000\" stroke=\"#000000\" points=\"79.7051,-21.5001 89.705,-18 79.705,-14.5001 79.7051,-21.5001\"/>\n",
       "</g>\n",
       "<!-- v3 -->\n",
       "<g id=\"node3\" class=\"node\">\n",
       "<title>v3</title>\n",
       "<polygon fill=\"#ffdab9\" stroke=\"#000000\" points=\"234,-36 180,-36 180,0 234,0 234,-36\"/>\n",
       "<text text-anchor=\"middle\" x=\"207\" y=\"-14.3\" font-family=\"Raleway\" font-size=\"14.00\" fill=\"#000000\">v3 ✘</text>\n",
       "</g>\n",
       "<!-- v2&#45;&gt;v3 -->\n",
       "<g id=\"edge2\" class=\"edge\">\n",
       "<title>v2&#45;&gt;v3</title>\n",
       "<path fill=\"none\" stroke=\"#000000\" d=\"M144.003,-18C152.0277,-18 160.9665,-18 169.5309,-18\"/>\n",
       "<polygon fill=\"#000000\" stroke=\"#000000\" points=\"169.7051,-21.5001 179.705,-18 169.705,-14.5001 169.7051,-21.5001\"/>\n",
       "</g>\n",
       "<!-- v4 -->\n",
       "<g id=\"node4\" class=\"node\">\n",
       "<title>v4</title>\n",
       "<polygon fill=\"#ffdab9\" stroke=\"#000000\" points=\"324,-36 270,-36 270,0 324,0 324,-36\"/>\n",
       "<text text-anchor=\"middle\" x=\"297\" y=\"-14.3\" font-family=\"Raleway\" font-size=\"14.00\" fill=\"#000000\">v4 ✘</text>\n",
       "</g>\n",
       "<!-- v3&#45;&gt;v4 -->\n",
       "<g id=\"edge3\" class=\"edge\">\n",
       "<title>v3&#45;&gt;v4</title>\n",
       "<path fill=\"none\" stroke=\"#000000\" d=\"M234.003,-18C242.0277,-18 250.9665,-18 259.5309,-18\"/>\n",
       "<polygon fill=\"#000000\" stroke=\"#000000\" points=\"259.7051,-21.5001 269.705,-18 259.705,-14.5001 259.7051,-21.5001\"/>\n",
       "</g>\n",
       "<!-- v5 -->\n",
       "<g id=\"node5\" class=\"node\">\n",
       "<title>v5</title>\n",
       "<polygon fill=\"#ffdab9\" stroke=\"#000000\" points=\"414,-36 360,-36 360,0 414,0 414,-36\"/>\n",
       "<text text-anchor=\"middle\" x=\"387\" y=\"-14.3\" font-family=\"Raleway\" font-size=\"14.00\" fill=\"#000000\">v5</text>\n",
       "</g>\n",
       "<!-- v4&#45;&gt;v5 -->\n",
       "<g id=\"edge4\" class=\"edge\">\n",
       "<title>v4&#45;&gt;v5</title>\n",
       "<path fill=\"none\" stroke=\"#000000\" d=\"M324.003,-18C332.0277,-18 340.9665,-18 349.5309,-18\"/>\n",
       "<polygon fill=\"#000000\" stroke=\"#000000\" points=\"349.7051,-21.5001 359.705,-18 349.705,-14.5001 349.7051,-21.5001\"/>\n",
       "</g>\n",
       "<!-- v6 -->\n",
       "<g id=\"node6\" class=\"node\">\n",
       "<title>v6</title>\n",
       "<polygon fill=\"#ffdab9\" stroke=\"#000000\" points=\"504,-36 450,-36 450,0 504,0 504,-36\"/>\n",
       "<text text-anchor=\"middle\" x=\"477\" y=\"-14.3\" font-family=\"Raleway\" font-size=\"14.00\" fill=\"#000000\">v6</text>\n",
       "</g>\n",
       "<!-- v5&#45;&gt;v6 -->\n",
       "<g id=\"edge5\" class=\"edge\">\n",
       "<title>v5&#45;&gt;v6</title>\n",
       "<path fill=\"none\" stroke=\"#000000\" d=\"M414.003,-18C422.0277,-18 430.9665,-18 439.5309,-18\"/>\n",
       "<polygon fill=\"#000000\" stroke=\"#000000\" points=\"439.7051,-21.5001 449.705,-18 439.705,-14.5001 439.7051,-21.5001\"/>\n",
       "</g>\n",
       "<!-- v7 -->\n",
       "<g id=\"node7\" class=\"node\">\n",
       "<title>v7</title>\n",
       "<polygon fill=\"#ffdab9\" stroke=\"#000000\" points=\"594,-36 540,-36 540,0 594,0 594,-36\"/>\n",
       "<text text-anchor=\"middle\" x=\"567\" y=\"-14.3\" font-family=\"Raleway\" font-size=\"14.00\" fill=\"#000000\">v7</text>\n",
       "</g>\n",
       "<!-- v6&#45;&gt;v7 -->\n",
       "<g id=\"edge6\" class=\"edge\">\n",
       "<title>v6&#45;&gt;v7</title>\n",
       "<path fill=\"none\" stroke=\"#000000\" d=\"M504.003,-18C512.0277,-18 520.9665,-18 529.5309,-18\"/>\n",
       "<polygon fill=\"#000000\" stroke=\"#000000\" points=\"529.7051,-21.5001 539.705,-18 529.705,-14.5001 529.7051,-21.5001\"/>\n",
       "</g>\n",
       "<!-- v8 -->\n",
       "<g id=\"node8\" class=\"node\">\n",
       "<title>v8</title>\n",
       "<polygon fill=\"#ffdab9\" stroke=\"#000000\" points=\"684,-36 630,-36 630,0 684,0 684,-36\"/>\n",
       "<text text-anchor=\"middle\" x=\"657\" y=\"-14.3\" font-family=\"Raleway\" font-size=\"14.00\" fill=\"#000000\">v8 ✘</text>\n",
       "</g>\n",
       "<!-- v7&#45;&gt;v8 -->\n",
       "<g id=\"edge7\" class=\"edge\">\n",
       "<title>v7&#45;&gt;v8</title>\n",
       "<path fill=\"none\" stroke=\"#000000\" d=\"M594.003,-18C602.0277,-18 610.9665,-18 619.5309,-18\"/>\n",
       "<polygon fill=\"#000000\" stroke=\"#000000\" points=\"619.7051,-21.5001 629.705,-18 619.705,-14.5001 619.7051,-21.5001\"/>\n",
       "</g>\n",
       "</g>\n",
       "</svg>\n"
      ],
      "text/plain": [
       "<graphviz.dot.Digraph at 0x7f8ce73a9d30>"
      ]
     },
     "metadata": {},
     "output_type": "display_data"
    }
   ],
   "source": [
    "# ignore\n",
    "display_versions({1: PASS, 2: UNRESOLVED, 3: FAIL, 4: FAIL, 8: FAIL})"
   ]
  },
  {
   "cell_type": "markdown",
   "metadata": {
    "slideshow": {
     "slide_type": "fragment"
    }
   },
   "source": [
    "When we test version 2, we find that it fails as well:"
   ]
  },
  {
   "cell_type": "code",
   "execution_count": 79,
   "metadata": {
    "execution": {
     "iopub.execute_input": "2021-05-13T12:31:13.884610Z",
     "iopub.status.busy": "2021-05-13T12:31:13.877577Z",
     "iopub.status.idle": "2021-05-13T12:31:13.887505Z",
     "shell.execute_reply": "2021-05-13T12:31:13.887998Z"
    },
    "slideshow": {
     "slide_type": "subslide"
    }
   },
   "outputs": [
    {
     "name": "stdout",
     "output_type": "stream",
     "text": [
      "\u001b[34mdef\u001b[39;49;00m \u001b[32mremove_html_markup\u001b[39;49;00m(s):  \u001b[37m# type: ignore\u001b[39;49;00m\n",
      "    tag = \u001b[34mFalse\u001b[39;49;00m\n",
      "    quote = \u001b[34mFalse\u001b[39;49;00m\n",
      "    out = \u001b[33m\"\u001b[39;49;00m\u001b[33m\"\u001b[39;49;00m\n",
      "\n",
      "    \u001b[34mfor\u001b[39;49;00m c \u001b[35min\u001b[39;49;00m s:\n",
      "        \u001b[34mif\u001b[39;49;00m c == \u001b[33m'\u001b[39;49;00m\u001b[33m<\u001b[39;49;00m\u001b[33m'\u001b[39;49;00m \u001b[35mand\u001b[39;49;00m \u001b[35mnot\u001b[39;49;00m quote:\n",
      "            tag = \u001b[34mTrue\u001b[39;49;00m\n",
      "        \u001b[34melif\u001b[39;49;00m c == \u001b[33m'\u001b[39;49;00m\u001b[33m>\u001b[39;49;00m\u001b[33m'\u001b[39;49;00m \u001b[35mand\u001b[39;49;00m \u001b[35mnot\u001b[39;49;00m quote:\n",
      "            tag = \u001b[34mFalse\u001b[39;49;00m\n",
      "        \u001b[34melif\u001b[39;49;00m c == \u001b[33m'\u001b[39;49;00m\u001b[33m\"\u001b[39;49;00m\u001b[33m'\u001b[39;49;00m \u001b[35mor\u001b[39;49;00m c == \u001b[33m\"\u001b[39;49;00m\u001b[33m'\u001b[39;49;00m\u001b[33m\"\u001b[39;49;00m \u001b[35mand\u001b[39;49;00m tag:\n",
      "            quote = \u001b[35mnot\u001b[39;49;00m quote\n",
      "        \u001b[34melif\u001b[39;49;00m \u001b[35mnot\u001b[39;49;00m tag:\n",
      "            out = out + c\n",
      "\n",
      "    \u001b[34mreturn\u001b[39;49;00m out"
     ]
    }
   ],
   "source": [
    "print_file('remove_html_markup.py')"
   ]
  },
  {
   "cell_type": "code",
   "execution_count": 80,
   "metadata": {
    "execution": {
     "iopub.execute_input": "2021-05-13T12:31:13.892024Z",
     "iopub.status.busy": "2021-05-13T12:31:13.891431Z",
     "iopub.status.idle": "2021-05-13T12:31:13.893977Z",
     "shell.execute_reply": "2021-05-13T12:31:13.893487Z"
    },
    "slideshow": {
     "slide_type": "subslide"
    }
   },
   "outputs": [],
   "source": [
    "exec(open('remove_html_markup.py').read())"
   ]
  },
  {
   "cell_type": "code",
   "execution_count": 81,
   "metadata": {
    "execution": {
     "iopub.execute_input": "2021-05-13T12:31:13.898384Z",
     "iopub.status.busy": "2021-05-13T12:31:13.897383Z",
     "iopub.status.idle": "2021-05-13T12:31:13.900970Z",
     "shell.execute_reply": "2021-05-13T12:31:13.901487Z"
    },
    "slideshow": {
     "slide_type": "fragment"
    }
   },
   "outputs": [
    {
     "data": {
      "text/plain": [
       "'foo'"
      ]
     },
     "execution_count": 1,
     "metadata": {},
     "output_type": "execute_result"
    }
   ],
   "source": [
    "remove_html_markup('\"foo\"')"
   ]
  },
  {
   "cell_type": "markdown",
   "metadata": {
    "slideshow": {
     "slide_type": "fragment"
    }
   },
   "source": [
    "Hence, version 2 is _the version that introduced the error_."
   ]
  },
  {
   "cell_type": "code",
   "execution_count": 82,
   "metadata": {
    "execution": {
     "iopub.execute_input": "2021-05-13T12:31:13.906241Z",
     "iopub.status.busy": "2021-05-13T12:31:13.905364Z",
     "iopub.status.idle": "2021-05-13T12:31:14.770522Z",
     "shell.execute_reply": "2021-05-13T12:31:14.771291Z"
    },
    "slideshow": {
     "slide_type": "fragment"
    }
   },
   "outputs": [
    {
     "data": {
      "image/svg+xml": [
       "<?xml version=\"1.0\" encoding=\"UTF-8\" standalone=\"no\"?>\n",
       "<!DOCTYPE svg PUBLIC \"-//W3C//DTD SVG 1.1//EN\"\n",
       " \"http://www.w3.org/Graphics/SVG/1.1/DTD/svg11.dtd\">\n",
       "<!-- Generated by graphviz version 2.40.1 (20161225.0304)\n",
       " -->\n",
       "<!-- Title: %3 Pages: 1 -->\n",
       "<svg width=\"692pt\" height=\"44pt\"\n",
       " viewBox=\"0.00 0.00 692.00 44.00\" xmlns=\"http://www.w3.org/2000/svg\" xmlns:xlink=\"http://www.w3.org/1999/xlink\">\n",
       "<g id=\"graph0\" class=\"graph\" transform=\"scale(1 1) rotate(0) translate(4 40)\">\n",
       "<title>%3</title>\n",
       "<polygon fill=\"#ffffff\" stroke=\"transparent\" points=\"-4,4 -4,-40 688,-40 688,4 -4,4\"/>\n",
       "<!-- v1 -->\n",
       "<g id=\"node1\" class=\"node\">\n",
       "<title>v1</title>\n",
       "<polygon fill=\"#ffdab9\" stroke=\"#000000\" points=\"54,-36 0,-36 0,0 54,0 54,-36\"/>\n",
       "<text text-anchor=\"middle\" x=\"27\" y=\"-14.3\" font-family=\"Raleway\" font-size=\"14.00\" fill=\"#000000\">v1 ✔</text>\n",
       "</g>\n",
       "<!-- v2 -->\n",
       "<g id=\"node2\" class=\"node\">\n",
       "<title>v2</title>\n",
       "<polygon fill=\"#ffdab9\" stroke=\"#000000\" points=\"144,-36 90,-36 90,0 144,0 144,-36\"/>\n",
       "<text text-anchor=\"middle\" x=\"117\" y=\"-14.3\" font-family=\"Raleway\" font-size=\"14.00\" fill=\"#000000\">v2 ✘</text>\n",
       "</g>\n",
       "<!-- v1&#45;&gt;v2 -->\n",
       "<g id=\"edge1\" class=\"edge\">\n",
       "<title>v1&#45;&gt;v2</title>\n",
       "<path fill=\"none\" stroke=\"#000000\" d=\"M54.003,-18C62.0277,-18 70.9665,-18 79.5309,-18\"/>\n",
       "<polygon fill=\"#000000\" stroke=\"#000000\" points=\"79.7051,-21.5001 89.705,-18 79.705,-14.5001 79.7051,-21.5001\"/>\n",
       "</g>\n",
       "<!-- v3 -->\n",
       "<g id=\"node3\" class=\"node\">\n",
       "<title>v3</title>\n",
       "<polygon fill=\"#ffdab9\" stroke=\"#000000\" points=\"234,-36 180,-36 180,0 234,0 234,-36\"/>\n",
       "<text text-anchor=\"middle\" x=\"207\" y=\"-14.3\" font-family=\"Raleway\" font-size=\"14.00\" fill=\"#000000\">v3 ✘</text>\n",
       "</g>\n",
       "<!-- v2&#45;&gt;v3 -->\n",
       "<g id=\"edge2\" class=\"edge\">\n",
       "<title>v2&#45;&gt;v3</title>\n",
       "<path fill=\"none\" stroke=\"#000000\" d=\"M144.003,-18C152.0277,-18 160.9665,-18 169.5309,-18\"/>\n",
       "<polygon fill=\"#000000\" stroke=\"#000000\" points=\"169.7051,-21.5001 179.705,-18 169.705,-14.5001 169.7051,-21.5001\"/>\n",
       "</g>\n",
       "<!-- v4 -->\n",
       "<g id=\"node4\" class=\"node\">\n",
       "<title>v4</title>\n",
       "<polygon fill=\"#ffdab9\" stroke=\"#000000\" points=\"324,-36 270,-36 270,0 324,0 324,-36\"/>\n",
       "<text text-anchor=\"middle\" x=\"297\" y=\"-14.3\" font-family=\"Raleway\" font-size=\"14.00\" fill=\"#000000\">v4 ✘</text>\n",
       "</g>\n",
       "<!-- v3&#45;&gt;v4 -->\n",
       "<g id=\"edge3\" class=\"edge\">\n",
       "<title>v3&#45;&gt;v4</title>\n",
       "<path fill=\"none\" stroke=\"#000000\" d=\"M234.003,-18C242.0277,-18 250.9665,-18 259.5309,-18\"/>\n",
       "<polygon fill=\"#000000\" stroke=\"#000000\" points=\"259.7051,-21.5001 269.705,-18 259.705,-14.5001 259.7051,-21.5001\"/>\n",
       "</g>\n",
       "<!-- v5 -->\n",
       "<g id=\"node5\" class=\"node\">\n",
       "<title>v5</title>\n",
       "<polygon fill=\"#ffdab9\" stroke=\"#000000\" points=\"414,-36 360,-36 360,0 414,0 414,-36\"/>\n",
       "<text text-anchor=\"middle\" x=\"387\" y=\"-14.3\" font-family=\"Raleway\" font-size=\"14.00\" fill=\"#000000\">v5</text>\n",
       "</g>\n",
       "<!-- v4&#45;&gt;v5 -->\n",
       "<g id=\"edge4\" class=\"edge\">\n",
       "<title>v4&#45;&gt;v5</title>\n",
       "<path fill=\"none\" stroke=\"#000000\" d=\"M324.003,-18C332.0277,-18 340.9665,-18 349.5309,-18\"/>\n",
       "<polygon fill=\"#000000\" stroke=\"#000000\" points=\"349.7051,-21.5001 359.705,-18 349.705,-14.5001 349.7051,-21.5001\"/>\n",
       "</g>\n",
       "<!-- v6 -->\n",
       "<g id=\"node6\" class=\"node\">\n",
       "<title>v6</title>\n",
       "<polygon fill=\"#ffdab9\" stroke=\"#000000\" points=\"504,-36 450,-36 450,0 504,0 504,-36\"/>\n",
       "<text text-anchor=\"middle\" x=\"477\" y=\"-14.3\" font-family=\"Raleway\" font-size=\"14.00\" fill=\"#000000\">v6</text>\n",
       "</g>\n",
       "<!-- v5&#45;&gt;v6 -->\n",
       "<g id=\"edge5\" class=\"edge\">\n",
       "<title>v5&#45;&gt;v6</title>\n",
       "<path fill=\"none\" stroke=\"#000000\" d=\"M414.003,-18C422.0277,-18 430.9665,-18 439.5309,-18\"/>\n",
       "<polygon fill=\"#000000\" stroke=\"#000000\" points=\"439.7051,-21.5001 449.705,-18 439.705,-14.5001 439.7051,-21.5001\"/>\n",
       "</g>\n",
       "<!-- v7 -->\n",
       "<g id=\"node7\" class=\"node\">\n",
       "<title>v7</title>\n",
       "<polygon fill=\"#ffdab9\" stroke=\"#000000\" points=\"594,-36 540,-36 540,0 594,0 594,-36\"/>\n",
       "<text text-anchor=\"middle\" x=\"567\" y=\"-14.3\" font-family=\"Raleway\" font-size=\"14.00\" fill=\"#000000\">v7</text>\n",
       "</g>\n",
       "<!-- v6&#45;&gt;v7 -->\n",
       "<g id=\"edge6\" class=\"edge\">\n",
       "<title>v6&#45;&gt;v7</title>\n",
       "<path fill=\"none\" stroke=\"#000000\" d=\"M504.003,-18C512.0277,-18 520.9665,-18 529.5309,-18\"/>\n",
       "<polygon fill=\"#000000\" stroke=\"#000000\" points=\"529.7051,-21.5001 539.705,-18 529.705,-14.5001 529.7051,-21.5001\"/>\n",
       "</g>\n",
       "<!-- v8 -->\n",
       "<g id=\"node8\" class=\"node\">\n",
       "<title>v8</title>\n",
       "<polygon fill=\"#ffdab9\" stroke=\"#000000\" points=\"684,-36 630,-36 630,0 684,0 684,-36\"/>\n",
       "<text text-anchor=\"middle\" x=\"657\" y=\"-14.3\" font-family=\"Raleway\" font-size=\"14.00\" fill=\"#000000\">v8 ✘</text>\n",
       "</g>\n",
       "<!-- v7&#45;&gt;v8 -->\n",
       "<g id=\"edge7\" class=\"edge\">\n",
       "<title>v7&#45;&gt;v8</title>\n",
       "<path fill=\"none\" stroke=\"#000000\" d=\"M594.003,-18C602.0277,-18 610.9665,-18 619.5309,-18\"/>\n",
       "<polygon fill=\"#000000\" stroke=\"#000000\" points=\"619.7051,-21.5001 629.705,-18 619.705,-14.5001 619.7051,-21.5001\"/>\n",
       "</g>\n",
       "</g>\n",
       "</svg>\n"
      ],
      "text/plain": [
       "<graphviz.dot.Digraph at 0x7f8ce73a9d68>"
      ]
     },
     "metadata": {},
     "output_type": "display_data"
    }
   ],
   "source": [
    "# ignore\n",
    "display_versions({1: PASS, 2: FAIL, 3: FAIL, 4: FAIL, 8: FAIL})"
   ]
  },
  {
   "cell_type": "markdown",
   "metadata": {
    "slideshow": {
     "slide_type": "fragment"
    }
   },
   "source": [
    "When we let `git bisect` know that this version fails, it tells us that this version is indeed the \"first bad commit\":"
   ]
  },
  {
   "cell_type": "code",
   "execution_count": 83,
   "metadata": {
    "execution": {
     "iopub.execute_input": "2021-05-13T12:31:14.777747Z",
     "iopub.status.busy": "2021-05-13T12:31:14.777002Z",
     "iopub.status.idle": "2021-05-13T12:31:15.010895Z",
     "shell.execute_reply": "2021-05-13T12:31:15.011382Z"
    },
    "slideshow": {
     "slide_type": "subslide"
    }
   },
   "outputs": [
    {
     "name": "stdout",
     "output_type": "stream",
     "text": [
      "8bace32e2e396a414ee1fce141788f2e5c92981f is the first bad commit\r\n",
      "\u001b[33mcommit 8bace32e2e396a414ee1fce141788f2e5c92981f\u001b[m\r\n",
      "Author: Demo User <demo-user@example.com>\r\n",
      "Date:   Thu May 13 14:31:08 2021 +0200\r\n",
      "\r\n",
      "    Second version\r\n",
      "\r\n",
      " remove_html_markup.py | 7 \u001b[32m+++++\u001b[m\u001b[31m--\u001b[m\r\n",
      " 1 file changed, 5 insertions(+), 2 deletions(-)\r\n"
     ]
    }
   ],
   "source": [
    "!git bisect bad"
   ]
  },
  {
   "cell_type": "markdown",
   "metadata": {
    "slideshow": {
     "slide_type": "fragment"
    }
   },
   "source": [
    "By comparing this version against the older one, we can see the lines it introduced – namely (buggy) handling of double quotes:"
   ]
  },
  {
   "cell_type": "code",
   "execution_count": 84,
   "metadata": {
    "execution": {
     "iopub.execute_input": "2021-05-13T12:31:15.018066Z",
     "iopub.status.busy": "2021-05-13T12:31:15.017150Z",
     "iopub.status.idle": "2021-05-13T12:31:15.141560Z",
     "shell.execute_reply": "2021-05-13T12:31:15.141993Z"
    },
    "slideshow": {
     "slide_type": "subslide"
    }
   },
   "outputs": [
    {
     "name": "stdout",
     "output_type": "stream",
     "text": [
      "\u001b[1mdiff --git a/remove_html_markup.py b/remove_html_markup.py\u001b[m\r\n",
      "\u001b[1mindex 4999dc0..768bae9 100644\u001b[m\r\n",
      "\u001b[1m--- a/remove_html_markup.py\u001b[m\r\n",
      "\u001b[1m+++ b/remove_html_markup.py\u001b[m\r\n",
      "\u001b[36m@@ -1,12 +1,15 @@\u001b[m\r\n",
      " def remove_html_markup(s):  # type: ignore\u001b[m\r\n",
      "     tag = False\u001b[m\r\n",
      "\u001b[32m+\u001b[m\u001b[32m    quote = False\u001b[m\r\n",
      "     out = \"\"\u001b[m\r\n",
      " \u001b[m\r\n",
      "     for c in s:\u001b[m\r\n",
      "\u001b[31m-        if c == '<':    # start of markup\u001b[m\r\n",
      "\u001b[32m+\u001b[m\u001b[32m        if c == '<' and not quote:\u001b[m\r\n",
      "             tag = True\u001b[m\r\n",
      "\u001b[31m-        elif c == '>':  # end of markup\u001b[m\r\n",
      "\u001b[32m+\u001b[m\u001b[32m        elif c == '>' and not quote:\u001b[m\r\n",
      "             tag = False\u001b[m\r\n",
      "\u001b[32m+\u001b[m\u001b[32m        elif c == '\"' or c == \"'\" and tag:\u001b[m\r\n",
      "\u001b[32m+\u001b[m\u001b[32m            quote = not quote\u001b[m\r\n",
      "         elif not tag:\u001b[m\r\n",
      "             out = out + c\u001b[m\r\n",
      " \u001b[m\r\n"
     ]
    }
   ],
   "source": [
    "!git diff HEAD^"
   ]
  },
  {
   "cell_type": "markdown",
   "metadata": {
    "slideshow": {
     "slide_type": "subslide"
    }
   },
   "source": [
    "Now that we have identified the failure-inducing change (\"something is wrong in `remove_html_markup()`, and it has to do with quote handling\"), we can end our `git bisect` session. `git bisect reset` gets us back to the start, such that we can fix the most recent version."
   ]
  },
  {
   "cell_type": "code",
   "execution_count": 85,
   "metadata": {
    "execution": {
     "iopub.execute_input": "2021-05-13T12:31:15.147090Z",
     "iopub.status.busy": "2021-05-13T12:31:15.146345Z",
     "iopub.status.idle": "2021-05-13T12:31:15.343065Z",
     "shell.execute_reply": "2021-05-13T12:31:15.343684Z"
    },
    "slideshow": {
     "slide_type": "fragment"
    }
   },
   "outputs": [
    {
     "name": "stdout",
     "output_type": "stream",
     "text": [
      "Previous HEAD position was 8bace32 Second version\r\n",
      "HEAD is now at 3523599 Eighth version (with proper assertion)\r\n"
     ]
    }
   ],
   "source": [
    "!git bisect reset"
   ]
  },
  {
   "cell_type": "markdown",
   "metadata": {
    "slideshow": {
     "slide_type": "slide"
    }
   },
   "source": [
    "## Automatic Bisecting"
   ]
  },
  {
   "cell_type": "markdown",
   "metadata": {
    "slideshow": {
     "slide_type": "fragment"
    }
   },
   "source": [
    "Even though manual bisecting can be quick, we can speed things up by writing a _script_ that does the testing for us. With such a script, we can have `git bisect` run fully automatically."
   ]
  },
  {
   "cell_type": "markdown",
   "metadata": {
    "slideshow": {
     "slide_type": "subslide"
    }
   },
   "source": [
    "A test script to automate bisecting does the following:\n",
    "\n",
    "* It (re)builds the program under test for the given version\n",
    "* It tests whether the failure is present.\n",
    "\n",
    "Its exit code indicates the test outcome:\n",
    "\n",
    "* 0 means \"good\" (the failure did not occur)\n",
    "* 1 means \"bad\" (the failure did occur)\n",
    "* 125 means \"undetermined\" (we cannot decide if the failure is present or not)\n",
    "\n",
    "The latter (\"undetermined\") case may occur if the program fails to build, or shows some other behavior."
   ]
  },
  {
   "cell_type": "markdown",
   "metadata": {
    "slideshow": {
     "slide_type": "subslide"
    }
   },
   "source": [
    "We use a Python script `test.py` that reads in `remove_html_markup.py` and then tests for the presence or absence of the failure. (Since this is Python, we don't have to rebuild things.)"
   ]
  },
  {
   "cell_type": "code",
   "execution_count": 86,
   "metadata": {
    "execution": {
     "iopub.execute_input": "2021-05-13T12:31:15.349682Z",
     "iopub.status.busy": "2021-05-13T12:31:15.348728Z",
     "iopub.status.idle": "2021-05-13T12:31:15.351836Z",
     "shell.execute_reply": "2021-05-13T12:31:15.352314Z"
    },
    "slideshow": {
     "slide_type": "subslide"
    }
   },
   "outputs": [
    {
     "data": {
      "text/plain": [
       "262"
      ]
     },
     "execution_count": 1,
     "metadata": {},
     "output_type": "execute_result"
    }
   ],
   "source": [
    "# ignore\n",
    "open('test.py', 'w').write('''\n",
    "#!/usr/bin/env python\n",
    "\n",
    "from remove_html_markup import remove_html_markup\n",
    "import sys\n",
    "\n",
    "result = remove_html_markup('\"foo\"')\n",
    "if result == '\"foo\"':\n",
    "    sys.exit(0)  # good/pass\n",
    "elif result == 'foo':\n",
    "    sys.exit(1)  # bad/fail\n",
    "else:\n",
    "    sys.exit(125)  # unresolved\n",
    "''');"
   ]
  },
  {
   "cell_type": "code",
   "execution_count": 87,
   "metadata": {
    "execution": {
     "iopub.execute_input": "2021-05-13T12:31:15.361644Z",
     "iopub.status.busy": "2021-05-13T12:31:15.360974Z",
     "iopub.status.idle": "2021-05-13T12:31:15.363657Z",
     "shell.execute_reply": "2021-05-13T12:31:15.364359Z"
    },
    "slideshow": {
     "slide_type": "subslide"
    }
   },
   "outputs": [
    {
     "name": "stdout",
     "output_type": "stream",
     "text": [
      "\u001b[37m#!/usr/bin/env python\u001b[39;49;00m\n",
      "\n",
      "\u001b[34mfrom\u001b[39;49;00m \u001b[04m\u001b[36mremove_html_markup\u001b[39;49;00m \u001b[34mimport\u001b[39;49;00m remove_html_markup\n",
      "\u001b[34mimport\u001b[39;49;00m \u001b[04m\u001b[36msys\u001b[39;49;00m\n",
      "\n",
      "result = remove_html_markup(\u001b[33m'\u001b[39;49;00m\u001b[33m\"\u001b[39;49;00m\u001b[33mfoo\u001b[39;49;00m\u001b[33m\"\u001b[39;49;00m\u001b[33m'\u001b[39;49;00m)\n",
      "\u001b[34mif\u001b[39;49;00m result == \u001b[33m'\u001b[39;49;00m\u001b[33m\"\u001b[39;49;00m\u001b[33mfoo\u001b[39;49;00m\u001b[33m\"\u001b[39;49;00m\u001b[33m'\u001b[39;49;00m:\n",
      "    sys.exit(\u001b[34m0\u001b[39;49;00m)  \u001b[37m# good/pass\u001b[39;49;00m\n",
      "\u001b[34melif\u001b[39;49;00m result == \u001b[33m'\u001b[39;49;00m\u001b[33mfoo\u001b[39;49;00m\u001b[33m'\u001b[39;49;00m:\n",
      "    sys.exit(\u001b[34m1\u001b[39;49;00m)  \u001b[37m# bad/fail\u001b[39;49;00m\n",
      "\u001b[34melse\u001b[39;49;00m:\n",
      "    sys.exit(\u001b[34m125\u001b[39;49;00m)  \u001b[37m# unresolved\u001b[39;49;00m"
     ]
    }
   ],
   "source": [
    "print_file('test.py')"
   ]
  },
  {
   "cell_type": "markdown",
   "metadata": {
    "slideshow": {
     "slide_type": "fragment"
    }
   },
   "source": [
    "Right now, we are with version 8 and thus in the \"failing\" state – our script exits with a code of 1:"
   ]
  },
  {
   "cell_type": "code",
   "execution_count": 88,
   "metadata": {
    "execution": {
     "iopub.execute_input": "2021-05-13T12:31:15.368991Z",
     "iopub.status.busy": "2021-05-13T12:31:15.368366Z",
     "iopub.status.idle": "2021-05-13T12:31:15.533857Z",
     "shell.execute_reply": "2021-05-13T12:31:15.534270Z"
    },
    "slideshow": {
     "slide_type": "subslide"
    }
   },
   "outputs": [
    {
     "name": "stdout",
     "output_type": "stream",
     "text": [
      "1\r\n"
     ]
    }
   ],
   "source": [
    "!python ./test.py; echo $?"
   ]
  },
  {
   "cell_type": "markdown",
   "metadata": {
    "slideshow": {
     "slide_type": "fragment"
    }
   },
   "source": [
    "Let us use our test script to bisect automatically. As with manual bisecting, we first have to tell `git bisect` which the good (passing) and bad (failing) versions are:"
   ]
  },
  {
   "cell_type": "code",
   "execution_count": 89,
   "metadata": {
    "execution": {
     "iopub.execute_input": "2021-05-13T12:31:15.538556Z",
     "iopub.status.busy": "2021-05-13T12:31:15.537911Z",
     "iopub.status.idle": "2021-05-13T12:31:15.725346Z",
     "shell.execute_reply": "2021-05-13T12:31:15.725761Z"
    },
    "slideshow": {
     "slide_type": "fragment"
    }
   },
   "outputs": [],
   "source": [
    "!git bisect start"
   ]
  },
  {
   "cell_type": "code",
   "execution_count": 90,
   "metadata": {
    "execution": {
     "iopub.execute_input": "2021-05-13T12:31:15.731129Z",
     "iopub.status.busy": "2021-05-13T12:31:15.730086Z",
     "iopub.status.idle": "2021-05-13T12:31:15.943042Z",
     "shell.execute_reply": "2021-05-13T12:31:15.943443Z"
    },
    "slideshow": {
     "slide_type": "fragment"
    }
   },
   "outputs": [],
   "source": [
    "!git bisect good {versions[0]}"
   ]
  },
  {
   "cell_type": "code",
   "execution_count": 91,
   "metadata": {
    "execution": {
     "iopub.execute_input": "2021-05-13T12:31:15.948497Z",
     "iopub.status.busy": "2021-05-13T12:31:15.947754Z",
     "iopub.status.idle": "2021-05-13T12:31:16.176457Z",
     "shell.execute_reply": "2021-05-13T12:31:16.176869Z"
    },
    "slideshow": {
     "slide_type": "fragment"
    }
   },
   "outputs": [
    {
     "name": "stdout",
     "output_type": "stream",
     "text": [
      "Bisecting: 3 revisions left to test after this (roughly 2 steps)\r\n",
      "[aff9564766d1dfc4716b1095f4732fe47ad1695b] Fourth version (clueless)\r\n"
     ]
    }
   ],
   "source": [
    "!git bisect bad {versions[7]}"
   ]
  },
  {
   "cell_type": "markdown",
   "metadata": {
    "slideshow": {
     "slide_type": "subslide"
    }
   },
   "source": [
    "Now, we can make use of our script. `git bisect run <script>` automatically determines the failing version. In our case, `<script>` is `python test.py`, and it produces the failing version in less than a second:"
   ]
  },
  {
   "cell_type": "code",
   "execution_count": 92,
   "metadata": {
    "execution": {
     "iopub.execute_input": "2021-05-13T12:31:16.181558Z",
     "iopub.status.busy": "2021-05-13T12:31:16.180780Z",
     "iopub.status.idle": "2021-05-13T12:31:16.854182Z",
     "shell.execute_reply": "2021-05-13T12:31:16.854591Z"
    },
    "slideshow": {
     "slide_type": "subslide"
    }
   },
   "outputs": [
    {
     "name": "stdout",
     "output_type": "stream",
     "text": [
      "running python test.py\r\n",
      "Bisecting: 0 revisions left to test after this (roughly 1 step)\r\n",
      "[c46984501a2d4a0062d6b4a4957cfa19e94393f3] Third version (with debugging output)\r\n",
      "running python test.py\r\n",
      "c = '\"' tag = False quote = False\r\n",
      "c = 'f' tag = False quote = True\r\n",
      "c = 'o' tag = False quote = True\r\n",
      "c = 'o' tag = False quote = True\r\n",
      "c = '\"' tag = False quote = True\r\n",
      "Bisecting: 0 revisions left to test after this (roughly 0 steps)\r\n",
      "[8bace32e2e396a414ee1fce141788f2e5c92981f] Second version\r\n",
      "running python test.py\r\n",
      "8bace32e2e396a414ee1fce141788f2e5c92981f is the first bad commit\r\n",
      "commit 8bace32e2e396a414ee1fce141788f2e5c92981f\r\n",
      "Author: Demo User <demo-user@example.com>\r\n",
      "Date:   Thu May 13 14:31:08 2021 +0200\r\n",
      "\r\n",
      "    Second version\r\n",
      "\r\n",
      " remove_html_markup.py | 7 +++++--\r\n",
      " 1 file changed, 5 insertions(+), 2 deletions(-)\r\n",
      "bisect run success\r\n"
     ]
    }
   ],
   "source": [
    "!git bisect run python test.py"
   ]
  },
  {
   "cell_type": "markdown",
   "metadata": {
    "slideshow": {
     "slide_type": "subslide"
    }
   },
   "source": [
    "Again, we are at version 2, and can investigate the failure-inducing change:"
   ]
  },
  {
   "cell_type": "code",
   "execution_count": 93,
   "metadata": {
    "execution": {
     "iopub.execute_input": "2021-05-13T12:31:16.858700Z",
     "iopub.status.busy": "2021-05-13T12:31:16.858174Z",
     "iopub.status.idle": "2021-05-13T12:31:16.984161Z",
     "shell.execute_reply": "2021-05-13T12:31:16.984616Z"
    },
    "slideshow": {
     "slide_type": "subslide"
    }
   },
   "outputs": [
    {
     "name": "stdout",
     "output_type": "stream",
     "text": [
      "\u001b[1mdiff --git a/remove_html_markup.py b/remove_html_markup.py\u001b[m\r\n",
      "\u001b[1mindex 4999dc0..768bae9 100644\u001b[m\r\n",
      "\u001b[1m--- a/remove_html_markup.py\u001b[m\r\n",
      "\u001b[1m+++ b/remove_html_markup.py\u001b[m\r\n",
      "\u001b[36m@@ -1,12 +1,15 @@\u001b[m\r\n",
      " def remove_html_markup(s):  # type: ignore\u001b[m\r\n",
      "     tag = False\u001b[m\r\n",
      "\u001b[32m+\u001b[m\u001b[32m    quote = False\u001b[m\r\n",
      "     out = \"\"\u001b[m\r\n",
      " \u001b[m\r\n",
      "     for c in s:\u001b[m\r\n",
      "\u001b[31m-        if c == '<':    # start of markup\u001b[m\r\n",
      "\u001b[32m+\u001b[m\u001b[32m        if c == '<' and not quote:\u001b[m\r\n",
      "             tag = True\u001b[m\r\n",
      "\u001b[31m-        elif c == '>':  # end of markup\u001b[m\r\n",
      "\u001b[32m+\u001b[m\u001b[32m        elif c == '>' and not quote:\u001b[m\r\n",
      "             tag = False\u001b[m\r\n",
      "\u001b[32m+\u001b[m\u001b[32m        elif c == '\"' or c == \"'\" and tag:\u001b[m\r\n",
      "\u001b[32m+\u001b[m\u001b[32m            quote = not quote\u001b[m\r\n",
      "         elif not tag:\u001b[m\r\n",
      "             out = out + c\u001b[m\r\n",
      " \u001b[m\r\n"
     ]
    }
   ],
   "source": [
    "!git diff HEAD^"
   ]
  },
  {
   "cell_type": "markdown",
   "metadata": {
    "slideshow": {
     "slide_type": "subslide"
    }
   },
   "source": [
    "With `git bisect run` as well, we have to end our bisecting session:"
   ]
  },
  {
   "cell_type": "code",
   "execution_count": 94,
   "metadata": {
    "execution": {
     "iopub.execute_input": "2021-05-13T12:31:16.989178Z",
     "iopub.status.busy": "2021-05-13T12:31:16.988489Z",
     "iopub.status.idle": "2021-05-13T12:31:17.177631Z",
     "shell.execute_reply": "2021-05-13T12:31:17.178025Z"
    },
    "slideshow": {
     "slide_type": "fragment"
    }
   },
   "outputs": [
    {
     "name": "stdout",
     "output_type": "stream",
     "text": [
      "Previous HEAD position was 8bace32 Second version\r\n",
      "HEAD is now at 3523599 Eighth version (with proper assertion)\r\n"
     ]
    }
   ],
   "source": [
    "!git bisect reset"
   ]
  },
  {
   "cell_type": "markdown",
   "metadata": {
    "button": false,
    "new_sheet": false,
    "run_control": {
     "read_only": false
    },
    "slideshow": {
     "slide_type": "slide"
    }
   },
   "source": [
    "## Computing and Applying Patches\n",
    "\n",
    "Even if a version control system allows us to identify the change that introduced the failure, a single change between versions can still affect multiple locations. The change between version 1 and version 2 of `remove_html_markup()`, above, for instance, affects four separate locations in a single function. In the real world, changes between versions may affect dozens or even hundreds of locations. The question is:\n",
    "\n",
    "* Can we break down changes further down to individual locations?\n",
    "\n",
    "The answer is yes! But for this, we first need a means to break down changes into smaller parts. These parts are called _patches_ – differences in individual code locations that can be determined and applied individually."
   ]
  },
  {
   "cell_type": "markdown",
   "metadata": {
    "button": false,
    "new_sheet": false,
    "run_control": {
     "read_only": false
    },
    "slideshow": {
     "slide_type": "subslide"
    }
   },
   "source": [
    "To illustrate how to compute and apply patches, let us have an example. We access the source code of the first and second version of `remove_html_markup()`, respectively:"
   ]
  },
  {
   "cell_type": "code",
   "execution_count": 95,
   "metadata": {
    "execution": {
     "iopub.execute_input": "2021-05-13T12:31:17.183507Z",
     "iopub.status.busy": "2021-05-13T12:31:17.181604Z",
     "iopub.status.idle": "2021-05-13T12:31:17.193758Z",
     "shell.execute_reply": "2021-05-13T12:31:17.194240Z"
    },
    "slideshow": {
     "slide_type": "fragment"
    }
   },
   "outputs": [],
   "source": [
    "version_1 = get_output(['git', 'show',\n",
    "                        f'{versions[0]}:remove_html_markup.py'])"
   ]
  },
  {
   "cell_type": "code",
   "execution_count": 96,
   "metadata": {
    "execution": {
     "iopub.execute_input": "2021-05-13T12:31:17.203793Z",
     "iopub.status.busy": "2021-05-13T12:31:17.203187Z",
     "iopub.status.idle": "2021-05-13T12:31:17.205877Z",
     "shell.execute_reply": "2021-05-13T12:31:17.205478Z"
    },
    "slideshow": {
     "slide_type": "subslide"
    }
   },
   "outputs": [
    {
     "name": "stdout",
     "output_type": "stream",
     "text": [
      "\u001b[34mdef\u001b[39;49;00m \u001b[32mremove_html_markup\u001b[39;49;00m(s):  \u001b[37m# type: ignore\u001b[39;49;00m\n",
      "    tag = \u001b[34mFalse\u001b[39;49;00m\n",
      "    out = \u001b[33m\"\u001b[39;49;00m\u001b[33m\"\u001b[39;49;00m\n",
      "\n",
      "    \u001b[34mfor\u001b[39;49;00m c \u001b[35min\u001b[39;49;00m s:\n",
      "        \u001b[34mif\u001b[39;49;00m c == \u001b[33m'\u001b[39;49;00m\u001b[33m<\u001b[39;49;00m\u001b[33m'\u001b[39;49;00m:    \u001b[37m# start of markup\u001b[39;49;00m\n",
      "            tag = \u001b[34mTrue\u001b[39;49;00m\n",
      "        \u001b[34melif\u001b[39;49;00m c == \u001b[33m'\u001b[39;49;00m\u001b[33m>\u001b[39;49;00m\u001b[33m'\u001b[39;49;00m:  \u001b[37m# end of markup\u001b[39;49;00m\n",
      "            tag = \u001b[34mFalse\u001b[39;49;00m\n",
      "        \u001b[34melif\u001b[39;49;00m \u001b[35mnot\u001b[39;49;00m tag:\n",
      "            out = out + c\n",
      "\n",
      "    \u001b[34mreturn\u001b[39;49;00m out"
     ]
    }
   ],
   "source": [
    "print_content(version_1, '.py')"
   ]
  },
  {
   "cell_type": "code",
   "execution_count": 97,
   "metadata": {
    "execution": {
     "iopub.execute_input": "2021-05-13T12:31:17.210837Z",
     "iopub.status.busy": "2021-05-13T12:31:17.210289Z",
     "iopub.status.idle": "2021-05-13T12:31:17.221878Z",
     "shell.execute_reply": "2021-05-13T12:31:17.222357Z"
    },
    "slideshow": {
     "slide_type": "subslide"
    }
   },
   "outputs": [],
   "source": [
    "version_2 = get_output(['git', 'show',\n",
    "                        f'{versions[1]}:remove_html_markup.py'])"
   ]
  },
  {
   "cell_type": "code",
   "execution_count": 98,
   "metadata": {
    "execution": {
     "iopub.execute_input": "2021-05-13T12:31:17.235951Z",
     "iopub.status.busy": "2021-05-13T12:31:17.235181Z",
     "iopub.status.idle": "2021-05-13T12:31:17.238146Z",
     "shell.execute_reply": "2021-05-13T12:31:17.238818Z"
    },
    "slideshow": {
     "slide_type": "subslide"
    }
   },
   "outputs": [
    {
     "name": "stdout",
     "output_type": "stream",
     "text": [
      "\u001b[34mdef\u001b[39;49;00m \u001b[32mremove_html_markup\u001b[39;49;00m(s):  \u001b[37m# type: ignore\u001b[39;49;00m\n",
      "    tag = \u001b[34mFalse\u001b[39;49;00m\n",
      "    quote = \u001b[34mFalse\u001b[39;49;00m\n",
      "    out = \u001b[33m\"\u001b[39;49;00m\u001b[33m\"\u001b[39;49;00m\n",
      "\n",
      "    \u001b[34mfor\u001b[39;49;00m c \u001b[35min\u001b[39;49;00m s:\n",
      "        \u001b[34mif\u001b[39;49;00m c == \u001b[33m'\u001b[39;49;00m\u001b[33m<\u001b[39;49;00m\u001b[33m'\u001b[39;49;00m \u001b[35mand\u001b[39;49;00m \u001b[35mnot\u001b[39;49;00m quote:\n",
      "            tag = \u001b[34mTrue\u001b[39;49;00m\n",
      "        \u001b[34melif\u001b[39;49;00m c == \u001b[33m'\u001b[39;49;00m\u001b[33m>\u001b[39;49;00m\u001b[33m'\u001b[39;49;00m \u001b[35mand\u001b[39;49;00m \u001b[35mnot\u001b[39;49;00m quote:\n",
      "            tag = \u001b[34mFalse\u001b[39;49;00m\n",
      "        \u001b[34melif\u001b[39;49;00m c == \u001b[33m'\u001b[39;49;00m\u001b[33m\"\u001b[39;49;00m\u001b[33m'\u001b[39;49;00m \u001b[35mor\u001b[39;49;00m c == \u001b[33m\"\u001b[39;49;00m\u001b[33m'\u001b[39;49;00m\u001b[33m\"\u001b[39;49;00m \u001b[35mand\u001b[39;49;00m tag:\n",
      "            quote = \u001b[35mnot\u001b[39;49;00m quote\n",
      "        \u001b[34melif\u001b[39;49;00m \u001b[35mnot\u001b[39;49;00m tag:\n",
      "            out = out + c\n",
      "\n",
      "    \u001b[34mreturn\u001b[39;49;00m out"
     ]
    }
   ],
   "source": [
    "print_content(version_2, '.py')"
   ]
  },
  {
   "cell_type": "markdown",
   "metadata": {
    "slideshow": {
     "slide_type": "subslide"
    }
   },
   "source": [
    "Patches are what a tool like `diff` produces when comparing two files (or `git diff` when comparing two versions). Here, we see that the difference between the two files consists of four patches, each one affecting a different line in the program."
   ]
  },
  {
   "cell_type": "code",
   "execution_count": 99,
   "metadata": {
    "execution": {
     "iopub.execute_input": "2021-05-13T12:31:17.243477Z",
     "iopub.status.busy": "2021-05-13T12:31:17.242727Z",
     "iopub.status.idle": "2021-05-13T12:31:17.371389Z",
     "shell.execute_reply": "2021-05-13T12:31:17.371831Z"
    },
    "slideshow": {
     "slide_type": "subslide"
    }
   },
   "outputs": [
    {
     "name": "stdout",
     "output_type": "stream",
     "text": [
      "\u001b[1mdiff --git a/remove_html_markup.py b/remove_html_markup.py\u001b[m\r\n",
      "\u001b[1mindex 4999dc0..768bae9 100644\u001b[m\r\n",
      "\u001b[1m--- a/remove_html_markup.py\u001b[m\r\n",
      "\u001b[1m+++ b/remove_html_markup.py\u001b[m\r\n",
      "\u001b[36m@@ -1,12 +1,15 @@\u001b[m\r\n",
      " def remove_html_markup(s):  # type: ignore\u001b[m\r\n",
      "     tag = False\u001b[m\r\n",
      "\u001b[32m+\u001b[m\u001b[32m    quote = False\u001b[m\r\n",
      "     out = \"\"\u001b[m\r\n",
      " \u001b[m\r\n",
      "     for c in s:\u001b[m\r\n",
      "\u001b[31m-        if c == '<':    # start of markup\u001b[m\r\n",
      "\u001b[32m+\u001b[m\u001b[32m        if c == '<' and not quote:\u001b[m\r\n",
      "             tag = True\u001b[m\r\n",
      "\u001b[31m-        elif c == '>':  # end of markup\u001b[m\r\n",
      "\u001b[32m+\u001b[m\u001b[32m        elif c == '>' and not quote:\u001b[m\r\n",
      "             tag = False\u001b[m\r\n",
      "\u001b[32m+\u001b[m\u001b[32m        elif c == '\"' or c == \"'\" and tag:\u001b[m\r\n",
      "\u001b[32m+\u001b[m\u001b[32m            quote = not quote\u001b[m\r\n",
      "         elif not tag:\u001b[m\r\n",
      "             out = out + c\u001b[m\r\n",
      " \u001b[m\r\n"
     ]
    }
   ],
   "source": [
    "!git diff {versions[0]} {versions[1]}"
   ]
  },
  {
   "cell_type": "markdown",
   "metadata": {
    "slideshow": {
     "slide_type": "subslide"
    }
   },
   "source": [
    "We'd like to compute and apply such patches without the help of an external program. To this end, we use Google's [diff-match-patch library](https://github.com/google/diff-match-patch)."
   ]
  },
  {
   "cell_type": "code",
   "execution_count": 100,
   "metadata": {
    "execution": {
     "iopub.execute_input": "2021-05-13T12:31:17.376752Z",
     "iopub.status.busy": "2021-05-13T12:31:17.375932Z",
     "iopub.status.idle": "2021-05-13T12:31:17.381979Z",
     "shell.execute_reply": "2021-05-13T12:31:17.382556Z"
    },
    "slideshow": {
     "slide_type": "skip"
    }
   },
   "outputs": [],
   "source": [
    "from diff_match_patch import diff_match_patch, patch_obj"
   ]
  },
  {
   "cell_type": "markdown",
   "metadata": {
    "slideshow": {
     "slide_type": "fragment"
    }
   },
   "source": [
    "By default, the diff-match-patch library is set up for comparing character strings, not lines; so we have to use a special workaround. Our `diff()` function computes a set of line patches between the two texts `s1` and `s2`:"
   ]
  },
  {
   "cell_type": "code",
   "execution_count": 101,
   "metadata": {
    "execution": {
     "iopub.execute_input": "2021-05-13T12:31:17.389161Z",
     "iopub.status.busy": "2021-05-13T12:31:17.388393Z",
     "iopub.status.idle": "2021-05-13T12:31:17.390310Z",
     "shell.execute_reply": "2021-05-13T12:31:17.390745Z"
    },
    "slideshow": {
     "slide_type": "subslide"
    }
   },
   "outputs": [],
   "source": [
    "def diff(s1: str, s2: str, mode: str = 'lines') -> List[patch_obj]:\n",
    "    \"\"\"Compare s1 and s2 like `diff`; return a list of patches\"\"\"\n",
    "    dmp = diff_match_patch()\n",
    "    if mode == 'lines':\n",
    "        (text1, text2, linearray) = dmp.diff_linesToChars(s1, s2)\n",
    "        diffs = dmp.diff_main(text1, text2)\n",
    "        dmp.diff_charsToLines(diffs, linearray)\n",
    "        return dmp.patch_make(diffs)\n",
    "\n",
    "    if mode == 'chars':\n",
    "        diffs = dmp.diff_main(s1, s2)\n",
    "        return dmp.patch_make(s1, diffs)\n",
    "\n",
    "    raise ValueError(\"mode must be 'lines' or 'chars'\")"
   ]
  },
  {
   "cell_type": "markdown",
   "metadata": {
    "slideshow": {
     "slide_type": "subslide"
    }
   },
   "source": [
    "We can use our `diff()` function to compare the two versions of `remove_html_markup()`. We obtain four `patch_obj` patch objects:"
   ]
  },
  {
   "cell_type": "code",
   "execution_count": 102,
   "metadata": {
    "execution": {
     "iopub.execute_input": "2021-05-13T12:31:17.395393Z",
     "iopub.status.busy": "2021-05-13T12:31:17.394606Z",
     "iopub.status.idle": "2021-05-13T12:31:17.397099Z",
     "shell.execute_reply": "2021-05-13T12:31:17.397781Z"
    },
    "slideshow": {
     "slide_type": "fragment"
    }
   },
   "outputs": [
    {
     "data": {
      "text/plain": [
       "[<diff_match_patch.diff_match_patch.patch_obj at 0x7f8ce73bb940>,\n",
       " <diff_match_patch.diff_match_patch.patch_obj at 0x7f8ce73bb780>,\n",
       " <diff_match_patch.diff_match_patch.patch_obj at 0x7f8ce73bbe10>,\n",
       " <diff_match_patch.diff_match_patch.patch_obj at 0x7f8ce73bb438>]"
      ]
     },
     "execution_count": 1,
     "metadata": {},
     "output_type": "execute_result"
    }
   ],
   "source": [
    "patches = diff(version_1, version_2)\n",
    "patches"
   ]
  },
  {
   "cell_type": "markdown",
   "metadata": {
    "slideshow": {
     "slide_type": "fragment"
    }
   },
   "source": [
    "To inspect these patches, one can simply `print()` them; however, their string representation uses URL encoding for special characters. We introduce a `patch_string()` function that decodes them again, and then print out the four patches:"
   ]
  },
  {
   "cell_type": "code",
   "execution_count": 103,
   "metadata": {
    "execution": {
     "iopub.execute_input": "2021-05-13T12:31:17.401616Z",
     "iopub.status.busy": "2021-05-13T12:31:17.400915Z",
     "iopub.status.idle": "2021-05-13T12:31:17.402579Z",
     "shell.execute_reply": "2021-05-13T12:31:17.403071Z"
    },
    "slideshow": {
     "slide_type": "skip"
    }
   },
   "outputs": [],
   "source": [
    "import urllib"
   ]
  },
  {
   "cell_type": "code",
   "execution_count": 104,
   "metadata": {
    "execution": {
     "iopub.execute_input": "2021-05-13T12:31:17.406580Z",
     "iopub.status.busy": "2021-05-13T12:31:17.406042Z",
     "iopub.status.idle": "2021-05-13T12:31:17.408085Z",
     "shell.execute_reply": "2021-05-13T12:31:17.408469Z"
    },
    "slideshow": {
     "slide_type": "fragment"
    }
   },
   "outputs": [],
   "source": [
    "def patch_string(p: patch_obj) -> str:\n",
    "    return urllib.parse.unquote(str(p).strip())  # type: ignore"
   ]
  },
  {
   "cell_type": "code",
   "execution_count": 105,
   "metadata": {
    "execution": {
     "iopub.execute_input": "2021-05-13T12:31:17.412257Z",
     "iopub.status.busy": "2021-05-13T12:31:17.411694Z",
     "iopub.status.idle": "2021-05-13T12:31:17.414090Z",
     "shell.execute_reply": "2021-05-13T12:31:17.414603Z"
    },
    "slideshow": {
     "slide_type": "subslide"
    }
   },
   "outputs": [],
   "source": [
    "def print_patch(p: patch_obj) -> None:\n",
    "    print_content(patch_string(p), '.py')\n",
    "    print()"
   ]
  },
  {
   "cell_type": "code",
   "execution_count": 106,
   "metadata": {
    "execution": {
     "iopub.execute_input": "2021-05-13T12:31:17.437404Z",
     "iopub.status.busy": "2021-05-13T12:31:17.423636Z",
     "iopub.status.idle": "2021-05-13T12:31:17.439803Z",
     "shell.execute_reply": "2021-05-13T12:31:17.440278Z"
    },
    "slideshow": {
     "slide_type": "subslide"
    }
   },
   "outputs": [
    {
     "name": "stdout",
     "output_type": "stream",
     "text": [
      "@@ -\u001b[34m48\u001b[39;49;00m,\u001b[34m24\u001b[39;49;00m +\u001b[34m48\u001b[39;49;00m,\u001b[34m42\u001b[39;49;00m @@\n",
      " tag = \u001b[34mFalse\u001b[39;49;00m\n",
      "\n",
      "+    quote = \u001b[34mFalse\u001b[39;49;00m\n",
      "\n",
      "     out = \u001b[33m\"\u001b[39;49;00m\u001b[33m\"\u001b[39;49;00m\n",
      "@@ -\u001b[34m104\u001b[39;49;00m,\u001b[34m50\u001b[39;49;00m +\u001b[34m104\u001b[39;49;00m,\u001b[34m43\u001b[39;49;00m @@\n",
      "  s:\n",
      "\n",
      "-        \u001b[34mif\u001b[39;49;00m c == \u001b[33m'\u001b[39;49;00m\u001b[33m<\u001b[39;49;00m\u001b[33m'\u001b[39;49;00m:    \u001b[37m# start of markup\u001b[39;49;00m\n",
      "\n",
      "+        \u001b[34mif\u001b[39;49;00m c == \u001b[33m'\u001b[39;49;00m\u001b[33m<\u001b[39;49;00m\u001b[33m'\u001b[39;49;00m \u001b[35mand\u001b[39;49;00m \u001b[35mnot\u001b[39;49;00m quote:\n",
      "@@ -\u001b[34m162\u001b[39;49;00m,\u001b[34m48\u001b[39;49;00m +\u001b[34m162\u001b[39;49;00m,\u001b[34m45\u001b[39;49;00m @@\n",
      " rue\n",
      "\n",
      "-        \u001b[34melif\u001b[39;49;00m c == \u001b[33m'\u001b[39;49;00m\u001b[33m>\u001b[39;49;00m\u001b[33m'\u001b[39;49;00m:  \u001b[37m# end of markup\u001b[39;49;00m\n",
      "\n",
      "+        \u001b[34melif\u001b[39;49;00m c == \u001b[33m'\u001b[39;49;00m\u001b[33m>\u001b[39;49;00m\u001b[33m'\u001b[39;49;00m \u001b[35mand\u001b[39;49;00m \u001b[35mnot\u001b[39;49;00m quote:\n",
      "@@ -\u001b[34m215\u001b[39;49;00m,\u001b[34m24\u001b[39;49;00m +\u001b[34m215\u001b[39;49;00m,\u001b[34m97\u001b[39;49;00m @@\n",
      " tag = \u001b[34mFalse\u001b[39;49;00m\n",
      "\n",
      "+        \u001b[34melif\u001b[39;49;00m c == \u001b[33m'\u001b[39;49;00m\u001b[33m\"\u001b[39;49;00m\u001b[33m'\u001b[39;49;00m \u001b[35mor\u001b[39;49;00m c == \u001b[33m\"\u001b[39;49;00m\u001b[33m'\u001b[39;49;00m\u001b[33m\"\u001b[39;49;00m \u001b[35mand\u001b[39;49;00m tag:\n",
      "            quote = \u001b[35mnot\u001b[39;49;00m quote\n",
      "\n",
      "         \u001b[34melif\u001b[39;49;00m\n"
     ]
    }
   ],
   "source": [
    "for p in patches:\n",
    "    print_patch(p)"
   ]
  },
  {
   "cell_type": "markdown",
   "metadata": {
    "slideshow": {
     "slide_type": "subslide"
    }
   },
   "source": [
    "Each patch comes with a _location_ (the part between `@@` characters as a character offset into the string) and a _change_ (prefixed by `+` for added lines or `-` for deleted lines) in a particular _context_ (notably, the preceding and following line).\n",
    "\n",
    "This _context_ allows us to _apply_ patches even if the location no longer exactly matches – the last patch, for instance, introducing `elif c == '\"'...`, for instance, is applied between the lines `tag = False` and the next `elif`."
   ]
  },
  {
   "cell_type": "markdown",
   "metadata": {
    "slideshow": {
     "slide_type": "fragment"
    }
   },
   "source": [
    "We define a `patch()` function that applies a list of patches to a string, again wrapping around the function provided by the diff-match-patch library."
   ]
  },
  {
   "cell_type": "code",
   "execution_count": 107,
   "metadata": {
    "execution": {
     "iopub.execute_input": "2021-05-13T12:31:17.444984Z",
     "iopub.status.busy": "2021-05-13T12:31:17.444346Z",
     "iopub.status.idle": "2021-05-13T12:31:17.446452Z",
     "shell.execute_reply": "2021-05-13T12:31:17.446912Z"
    },
    "slideshow": {
     "slide_type": "subslide"
    }
   },
   "outputs": [],
   "source": [
    "def patch(text: str, patches: List[patch_obj]) -> str:\n",
    "    \"\"\"Apply given patches on given text; return patched text.\"\"\"\n",
    "    dmp = diff_match_patch()\n",
    "    patched_text, success = dmp.patch_apply(patches, text)\n",
    "    assert all(success), \"Could not apply some patch(es)\"\n",
    "    return patched_text"
   ]
  },
  {
   "cell_type": "markdown",
   "metadata": {
    "slideshow": {
     "slide_type": "fragment"
    }
   },
   "source": [
    "Here's how to use `patch()`. First, if we apply _all_ patches between version 1 and version 2 on version 1, we get version 2:"
   ]
  },
  {
   "cell_type": "code",
   "execution_count": 108,
   "metadata": {
    "execution": {
     "iopub.execute_input": "2021-05-13T12:31:17.456142Z",
     "iopub.status.busy": "2021-05-13T12:31:17.455504Z",
     "iopub.status.idle": "2021-05-13T12:31:17.457592Z",
     "shell.execute_reply": "2021-05-13T12:31:17.457977Z"
    },
    "slideshow": {
     "slide_type": "subslide"
    }
   },
   "outputs": [
    {
     "name": "stdout",
     "output_type": "stream",
     "text": [
      "\u001b[34mdef\u001b[39;49;00m \u001b[32mremove_html_markup\u001b[39;49;00m(s):  \u001b[37m# type: ignore\u001b[39;49;00m\n",
      "    tag = \u001b[34mFalse\u001b[39;49;00m\n",
      "    quote = \u001b[34mFalse\u001b[39;49;00m\n",
      "    out = \u001b[33m\"\u001b[39;49;00m\u001b[33m\"\u001b[39;49;00m\n",
      "\n",
      "    \u001b[34mfor\u001b[39;49;00m c \u001b[35min\u001b[39;49;00m s:\n",
      "        \u001b[34mif\u001b[39;49;00m c == \u001b[33m'\u001b[39;49;00m\u001b[33m<\u001b[39;49;00m\u001b[33m'\u001b[39;49;00m \u001b[35mand\u001b[39;49;00m \u001b[35mnot\u001b[39;49;00m quote:\n",
      "            tag = \u001b[34mTrue\u001b[39;49;00m\n",
      "        \u001b[34melif\u001b[39;49;00m c == \u001b[33m'\u001b[39;49;00m\u001b[33m>\u001b[39;49;00m\u001b[33m'\u001b[39;49;00m \u001b[35mand\u001b[39;49;00m \u001b[35mnot\u001b[39;49;00m quote:\n",
      "            tag = \u001b[34mFalse\u001b[39;49;00m\n",
      "        \u001b[34melif\u001b[39;49;00m c == \u001b[33m'\u001b[39;49;00m\u001b[33m\"\u001b[39;49;00m\u001b[33m'\u001b[39;49;00m \u001b[35mor\u001b[39;49;00m c == \u001b[33m\"\u001b[39;49;00m\u001b[33m'\u001b[39;49;00m\u001b[33m\"\u001b[39;49;00m \u001b[35mand\u001b[39;49;00m tag:\n",
      "            quote = \u001b[35mnot\u001b[39;49;00m quote\n",
      "        \u001b[34melif\u001b[39;49;00m \u001b[35mnot\u001b[39;49;00m tag:\n",
      "            out = out + c\n",
      "\n",
      "    \u001b[34mreturn\u001b[39;49;00m out"
     ]
    }
   ],
   "source": [
    "print_content(patch(version_1, patches), '.py')"
   ]
  },
  {
   "cell_type": "code",
   "execution_count": 109,
   "metadata": {
    "execution": {
     "iopub.execute_input": "2021-05-13T12:31:17.461467Z",
     "iopub.status.busy": "2021-05-13T12:31:17.460837Z",
     "iopub.status.idle": "2021-05-13T12:31:17.462870Z",
     "shell.execute_reply": "2021-05-13T12:31:17.463490Z"
    },
    "slideshow": {
     "slide_type": "subslide"
    }
   },
   "outputs": [],
   "source": [
    "assert patch(version_1, patches) == version_2"
   ]
  },
  {
   "cell_type": "markdown",
   "metadata": {
    "slideshow": {
     "slide_type": "fragment"
    }
   },
   "source": [
    "Applying _no_ patch leaves the content unchanged."
   ]
  },
  {
   "cell_type": "code",
   "execution_count": 110,
   "metadata": {
    "execution": {
     "iopub.execute_input": "2021-05-13T12:31:17.468419Z",
     "iopub.status.busy": "2021-05-13T12:31:17.467607Z",
     "iopub.status.idle": "2021-05-13T12:31:17.469614Z",
     "shell.execute_reply": "2021-05-13T12:31:17.470175Z"
    },
    "slideshow": {
     "slide_type": "fragment"
    }
   },
   "outputs": [],
   "source": [
    "assert patch(version_1, []) == version_1"
   ]
  },
  {
   "cell_type": "markdown",
   "metadata": {
    "slideshow": {
     "slide_type": "fragment"
    }
   },
   "source": [
    "However, one can also apply _partial_ sets of patches. For instance, if we only apply the first patch..."
   ]
  },
  {
   "cell_type": "code",
   "execution_count": 111,
   "metadata": {
    "execution": {
     "iopub.execute_input": "2021-05-13T12:31:17.474096Z",
     "iopub.status.busy": "2021-05-13T12:31:17.473386Z",
     "iopub.status.idle": "2021-05-13T12:31:17.475651Z",
     "shell.execute_reply": "2021-05-13T12:31:17.476033Z"
    },
    "slideshow": {
     "slide_type": "fragment"
    }
   },
   "outputs": [
    {
     "name": "stdout",
     "output_type": "stream",
     "text": [
      "@@ -48,24 +48,42 @@\n",
      " tag = False\n",
      "\n",
      "+    quote = False\n",
      "\n",
      "     out = \"\"\n"
     ]
    }
   ],
   "source": [
    "print(patch_string(patches[0]))"
   ]
  },
  {
   "cell_type": "markdown",
   "metadata": {
    "slideshow": {
     "slide_type": "fragment"
    }
   },
   "source": [
    "... we find that the result includes the added line `quote = False`, but nothing else:"
   ]
  },
  {
   "cell_type": "code",
   "execution_count": 112,
   "metadata": {
    "execution": {
     "iopub.execute_input": "2021-05-13T12:31:17.484277Z",
     "iopub.status.busy": "2021-05-13T12:31:17.483726Z",
     "iopub.status.idle": "2021-05-13T12:31:17.485982Z",
     "shell.execute_reply": "2021-05-13T12:31:17.486449Z"
    },
    "slideshow": {
     "slide_type": "subslide"
    }
   },
   "outputs": [
    {
     "name": "stdout",
     "output_type": "stream",
     "text": [
      "\u001b[34mdef\u001b[39;49;00m \u001b[32mremove_html_markup\u001b[39;49;00m(s):  \u001b[37m# type: ignore\u001b[39;49;00m\n",
      "    tag = \u001b[34mFalse\u001b[39;49;00m\n",
      "    quote = \u001b[34mFalse\u001b[39;49;00m\n",
      "    out = \u001b[33m\"\u001b[39;49;00m\u001b[33m\"\u001b[39;49;00m\n",
      "\n",
      "    \u001b[34mfor\u001b[39;49;00m c \u001b[35min\u001b[39;49;00m s:\n",
      "        \u001b[34mif\u001b[39;49;00m c == \u001b[33m'\u001b[39;49;00m\u001b[33m<\u001b[39;49;00m\u001b[33m'\u001b[39;49;00m:    \u001b[37m# start of markup\u001b[39;49;00m\n",
      "            tag = \u001b[34mTrue\u001b[39;49;00m\n",
      "        \u001b[34melif\u001b[39;49;00m c == \u001b[33m'\u001b[39;49;00m\u001b[33m>\u001b[39;49;00m\u001b[33m'\u001b[39;49;00m:  \u001b[37m# end of markup\u001b[39;49;00m\n",
      "            tag = \u001b[34mFalse\u001b[39;49;00m\n",
      "        \u001b[34melif\u001b[39;49;00m \u001b[35mnot\u001b[39;49;00m tag:\n",
      "            out = out + c\n",
      "\n",
      "    \u001b[34mreturn\u001b[39;49;00m out"
     ]
    }
   ],
   "source": [
    "print_content(patch(version_1, [patches[0]]), '.py')"
   ]
  },
  {
   "cell_type": "markdown",
   "metadata": {
    "slideshow": {
     "slide_type": "subslide"
    }
   },
   "source": [
    "Likewise, we can also apply the second patch individually:"
   ]
  },
  {
   "cell_type": "code",
   "execution_count": 113,
   "metadata": {
    "execution": {
     "iopub.execute_input": "2021-05-13T12:31:17.495136Z",
     "iopub.status.busy": "2021-05-13T12:31:17.494363Z",
     "iopub.status.idle": "2021-05-13T12:31:17.497416Z",
     "shell.execute_reply": "2021-05-13T12:31:17.497809Z"
    },
    "slideshow": {
     "slide_type": "fragment"
    }
   },
   "outputs": [
    {
     "name": "stdout",
     "output_type": "stream",
     "text": [
      "\u001b[34mdef\u001b[39;49;00m \u001b[32mremove_html_markup\u001b[39;49;00m(s):  \u001b[37m# type: ignore\u001b[39;49;00m\n",
      "    tag = \u001b[34mFalse\u001b[39;49;00m\n",
      "    out = \u001b[33m\"\u001b[39;49;00m\u001b[33m\"\u001b[39;49;00m\n",
      "\n",
      "    \u001b[34mfor\u001b[39;49;00m c \u001b[35min\u001b[39;49;00m s:\n",
      "        \u001b[34mif\u001b[39;49;00m c == \u001b[33m'\u001b[39;49;00m\u001b[33m<\u001b[39;49;00m\u001b[33m'\u001b[39;49;00m \u001b[35mand\u001b[39;49;00m \u001b[35mnot\u001b[39;49;00m quote:\n",
      "            tag = \u001b[34mTrue\u001b[39;49;00m\n",
      "        \u001b[34melif\u001b[39;49;00m c == \u001b[33m'\u001b[39;49;00m\u001b[33m>\u001b[39;49;00m\u001b[33m'\u001b[39;49;00m:  \u001b[37m# end of markup\u001b[39;49;00m\n",
      "            tag = \u001b[34mFalse\u001b[39;49;00m\n",
      "        \u001b[34melif\u001b[39;49;00m \u001b[35mnot\u001b[39;49;00m tag:\n",
      "            out = out + c\n",
      "\n",
      "    \u001b[34mreturn\u001b[39;49;00m out"
     ]
    }
   ],
   "source": [
    "print_content(patch(version_1, [patches[1]]), '.py')"
   ]
  },
  {
   "cell_type": "code",
   "execution_count": 114,
   "metadata": {
    "execution": {
     "iopub.execute_input": "2021-05-13T12:31:17.502343Z",
     "iopub.status.busy": "2021-05-13T12:31:17.501382Z",
     "iopub.status.idle": "2021-05-13T12:31:17.526367Z",
     "shell.execute_reply": "2021-05-13T12:31:17.526826Z"
    },
    "slideshow": {
     "slide_type": "subslide"
    }
   },
   "outputs": [
    {
     "data": {
      "text/html": [
       "\n",
       "    \n",
       "    <script>\n",
       "    var bad_answers = new Map();\n",
       "\n",
       "    function answer(quiz_id) {\n",
       "        ans = 0;\n",
       "        for (i = 1;; i++) {\n",
       "            checkbox = document.getElementById(quiz_id + \"-\" + i.toString());\n",
       "            if (!checkbox)\n",
       "                break;\n",
       "            if (checkbox.checked)\n",
       "                ans |= (1 << i);\n",
       "        }\n",
       "        return ans;\n",
       "    }\n",
       "    function check_selection(quiz_id, correct_answer, multiple_choice, hint) {\n",
       "        given_answer = answer(quiz_id);\n",
       "        if (given_answer == correct_answer)\n",
       "        {\n",
       "            document.getElementById(quiz_id + \"-submit\").value = \"Correct!\";\n",
       "            document.getElementById(quiz_id + \"-hint\").innerHTML = \"\";\n",
       "\n",
       "            for (i = 1;; i++) {\n",
       "                checkbox = document.getElementById(quiz_id + \"-\" + i.toString());\n",
       "                label = document.getElementById(quiz_id + \"-\" + i.toString() + \"-label\")\n",
       "                if (!checkbox)\n",
       "                    break;\n",
       "    \n",
       "                if (checkbox.checked) {\n",
       "                    label.style.fontWeight = \"bold\";\n",
       "                }\n",
       "                else {\n",
       "                    label.style.textDecoration = \"line-through\";\n",
       "                }\n",
       "            }\n",
       "        }\n",
       "        else \n",
       "        {\n",
       "            document.getElementById(quiz_id + \"-submit\").value = \"Try again\";\n",
       "            \n",
       "            if (!bad_answers.has(quiz_id)) {\n",
       "                bad_answers.set(quiz_id, 1);\n",
       "            }\n",
       "            else {\n",
       "                bad_answers.set(quiz_id, bad_answers.get(quiz_id) + 1);\n",
       "            }\n",
       "\n",
       "            if (bad_answers.get(quiz_id) >= 2 && hint.length > 0) {\n",
       "                document.getElementById(quiz_id + \"-hint\").innerHTML = \n",
       "                    \"&nbsp;&nbsp;(Hint: <code>\" + hint + \"</code>)\";\n",
       "            }\n",
       "\n",
       "            if (!multiple_choice) {\n",
       "                for (i = 1;; i++) {\n",
       "                    checkbox = document.getElementById(quiz_id + \"-\" + i.toString());\n",
       "                    label = document.getElementById(quiz_id + \"-\" + i.toString() + \"-label\")\n",
       "\n",
       "                    if (!checkbox)\n",
       "                        break;\n",
       "                    if (checkbox.checked) {\n",
       "                        label.style.textDecoration = \"line-through\";\n",
       "                    }\n",
       "                }\n",
       "            }\n",
       "        }\n",
       "    }\n",
       "    function clear_selection(quiz_id) {\n",
       "        document.getElementById(quiz_id + \"-submit\").value = \"Submit\";\n",
       "        document.getElementById(quiz_id + \"-hint\").innerHTML = \"\";\n",
       "    }\n",
       "    </script>\n",
       "    \n",
       "    <div class=\"quiz\">\n",
       "    <h3 class=\"quiz_title\">Quiz</h3>\n",
       "    <p>\n",
       "    <div class=\"quiz_question\">What has changed in version 1 after applying the second patch?</div>\n",
       "    </p>\n",
       "    <p>\n",
       "    <div class=\"quiz_options\" title=\"Pick a choice.\">\n",
       "    \n",
       "        <input type=\"radio\" name=\"1d47e85c-b3e7-11eb-a588-acde48001122\" id=\"1d47e85c-b3e7-11eb-a588-acde48001122-1\" onclick=\"clear_selection('1d47e85c-b3e7-11eb-a588-acde48001122')\">\n",
       "        <label id=\"1d47e85c-b3e7-11eb-a588-acde48001122-1-label\" for=\"1d47e85c-b3e7-11eb-a588-acde48001122-1\">The initialization of quote is deleted</label><br>\n",
       "    \n",
       "        <input type=\"radio\" name=\"1d47e85c-b3e7-11eb-a588-acde48001122\" id=\"1d47e85c-b3e7-11eb-a588-acde48001122-2\" onclick=\"clear_selection('1d47e85c-b3e7-11eb-a588-acde48001122')\">\n",
       "        <label id=\"1d47e85c-b3e7-11eb-a588-acde48001122-2-label\" for=\"1d47e85c-b3e7-11eb-a588-acde48001122-2\">The condition after <code>if c == '&lt;'</code> is expanded</label><br>\n",
       "    \n",
       "        <input type=\"radio\" name=\"1d47e85c-b3e7-11eb-a588-acde48001122\" id=\"1d47e85c-b3e7-11eb-a588-acde48001122-3\" onclick=\"clear_selection('1d47e85c-b3e7-11eb-a588-acde48001122')\">\n",
       "        <label id=\"1d47e85c-b3e7-11eb-a588-acde48001122-3-label\" for=\"1d47e85c-b3e7-11eb-a588-acde48001122-3\">The tag variable gets a different value</label><br>\n",
       "    \n",
       "        <input type=\"radio\" name=\"1d47e85c-b3e7-11eb-a588-acde48001122\" id=\"1d47e85c-b3e7-11eb-a588-acde48001122-4\" onclick=\"clear_selection('1d47e85c-b3e7-11eb-a588-acde48001122')\">\n",
       "        <label id=\"1d47e85c-b3e7-11eb-a588-acde48001122-4-label\" for=\"1d47e85c-b3e7-11eb-a588-acde48001122-4\">None of the above</label><br>\n",
       "    \n",
       "    </div>\n",
       "    </p>\n",
       "    <input id=\"1d47e85c-b3e7-11eb-a588-acde48001122-submit\" type=\"submit\" value=\"Submit\" onclick=\"check_selection('1d47e85c-b3e7-11eb-a588-acde48001122', 4, 0, '1 / 1 + 1 ** 1 - 1 % 1 * 1')\">\n",
       "    <span class=\"quiz_hint\" id=\"1d47e85c-b3e7-11eb-a588-acde48001122-hint\"></span>\n",
       "    </div>\n",
       "    "
      ],
      "text/plain": [
       "<IPython.core.display.HTML object>"
      ]
     },
     "execution_count": 1,
     "metadata": {},
     "output_type": "execute_result"
    }
   ],
   "source": [
    "quiz(\"What has changed in version 1 after applying the second patch?\",\n",
    "     [\n",
    "         \"The initialization of quote is deleted\",\n",
    "         \"The condition after `if c == '<'` is expanded\",\n",
    "         \"The tag variable gets a different value\",\n",
    "         \"None of the above\"\n",
    "     ], '1 / 1 + 1 ** 1 - 1 % 1 * 1')"
   ]
  },
  {
   "cell_type": "markdown",
   "metadata": {
    "slideshow": {
     "slide_type": "slide"
    }
   },
   "source": [
    "## Delta Debugging on Patches\n",
    "\n",
    "With the ability to apply arbitrary sets of patches, we can now go and apply [Delta Debugging](DeltaDebugger.ipynb) to identify failure-inducing patches. The idea is simple: If applying _no_ patch makes the test pass, and applying _all_ patches makes the test fail, then we can use Delta Debugging to identify a minimal set of failure-inducing patches."
   ]
  },
  {
   "cell_type": "markdown",
   "metadata": {
    "slideshow": {
     "slide_type": "subslide"
    }
   },
   "source": [
    "Let us write a testing function that checks for the presence of the failure. `test_remove_html_markup_patches()` \n",
    "\n",
    "* takes a list of patches,\n",
    "* applies them on version 1, \n",
    "* reads in the definition of `remove_html_markup()`\n",
    "* and then invokes it to check if the error is present."
   ]
  },
  {
   "cell_type": "code",
   "execution_count": 115,
   "metadata": {
    "execution": {
     "iopub.execute_input": "2021-05-13T12:31:17.535533Z",
     "iopub.status.busy": "2021-05-13T12:31:17.534879Z",
     "iopub.status.idle": "2021-05-13T12:31:17.536546Z",
     "shell.execute_reply": "2021-05-13T12:31:17.537151Z"
    },
    "slideshow": {
     "slide_type": "fragment"
    }
   },
   "outputs": [],
   "source": [
    "def test_remove_html_markup_patches(patches: patch_obj) -> None:\n",
    "    new_version = patch(version_1, patches)\n",
    "    exec(new_version, globals())\n",
    "    assert remove_html_markup('\"foo\"') == '\"foo\"'"
   ]
  },
  {
   "cell_type": "markdown",
   "metadata": {
    "slideshow": {
     "slide_type": "fragment"
    }
   },
   "source": [
    "If no patches are applied, we are at version 1, and the error is not present."
   ]
  },
  {
   "cell_type": "code",
   "execution_count": 116,
   "metadata": {
    "execution": {
     "iopub.execute_input": "2021-05-13T12:31:17.541099Z",
     "iopub.status.busy": "2021-05-13T12:31:17.540548Z",
     "iopub.status.idle": "2021-05-13T12:31:17.542286Z",
     "shell.execute_reply": "2021-05-13T12:31:17.542665Z"
    },
    "slideshow": {
     "slide_type": "subslide"
    }
   },
   "outputs": [],
   "source": [
    "test_remove_html_markup_patches([])"
   ]
  },
  {
   "cell_type": "markdown",
   "metadata": {
    "slideshow": {
     "slide_type": "fragment"
    }
   },
   "source": [
    "If _all_ patches are applied, we are at version 2, and the error _is_ present."
   ]
  },
  {
   "cell_type": "code",
   "execution_count": 117,
   "metadata": {
    "execution": {
     "iopub.execute_input": "2021-05-13T12:31:17.546427Z",
     "iopub.status.busy": "2021-05-13T12:31:17.545750Z",
     "iopub.status.idle": "2021-05-13T12:31:17.548423Z",
     "shell.execute_reply": "2021-05-13T12:31:17.548978Z"
    },
    "slideshow": {
     "slide_type": "fragment"
    }
   },
   "outputs": [
    {
     "name": "stderr",
     "output_type": "stream",
     "text": [
      "Traceback (most recent call last):\n",
      "  File \"<ipython-input-1-899e4aa0f13c>\", line 2, in <module>\n",
      "    test_remove_html_markup_patches(patches)\n",
      "  File \"<ipython-input-1-51c2474cb795>\", line 4, in test_remove_html_markup_patches\n",
      "    assert remove_html_markup('\"foo\"') == '\"foo\"'\n",
      "AssertionError (expected)\n"
     ]
    }
   ],
   "source": [
    "with ExpectError(AssertionError):\n",
    "    test_remove_html_markup_patches(patches)"
   ]
  },
  {
   "cell_type": "markdown",
   "metadata": {
    "slideshow": {
     "slide_type": "subslide"
    }
   },
   "source": [
    "### A Minimal Set of Patches\n",
    "\n",
    "We can now apply delta debugging on the list of patches, simply by invoking a `DeltaDebugger`:"
   ]
  },
  {
   "cell_type": "code",
   "execution_count": 118,
   "metadata": {
    "execution": {
     "iopub.execute_input": "2021-05-13T12:31:17.552552Z",
     "iopub.status.busy": "2021-05-13T12:31:17.552019Z",
     "iopub.status.idle": "2021-05-13T12:31:18.121553Z",
     "shell.execute_reply": "2021-05-13T12:31:18.121986Z"
    },
    "slideshow": {
     "slide_type": "skip"
    }
   },
   "outputs": [],
   "source": [
    "from DeltaDebugger import DeltaDebugger"
   ]
  },
  {
   "cell_type": "code",
   "execution_count": 119,
   "metadata": {
    "execution": {
     "iopub.execute_input": "2021-05-13T12:31:18.126385Z",
     "iopub.status.busy": "2021-05-13T12:31:18.125602Z",
     "iopub.status.idle": "2021-05-13T12:31:18.127990Z",
     "shell.execute_reply": "2021-05-13T12:31:18.127529Z"
    },
    "slideshow": {
     "slide_type": "fragment"
    }
   },
   "outputs": [],
   "source": [
    "with DeltaDebugger() as dd:\n",
    "    test_remove_html_markup_patches(patches)"
   ]
  },
  {
   "cell_type": "markdown",
   "metadata": {
    "slideshow": {
     "slide_type": "fragment"
    }
   },
   "source": [
    "These is the minimal set of failure-inducing patches:"
   ]
  },
  {
   "cell_type": "code",
   "execution_count": 120,
   "metadata": {
    "execution": {
     "iopub.execute_input": "2021-05-13T12:31:18.134926Z",
     "iopub.status.busy": "2021-05-13T12:31:18.134209Z",
     "iopub.status.idle": "2021-05-13T12:31:18.135962Z",
     "shell.execute_reply": "2021-05-13T12:31:18.136365Z"
    },
    "slideshow": {
     "slide_type": "fragment"
    }
   },
   "outputs": [],
   "source": [
    "reduced_patches = dd.min_args()['patches']"
   ]
  },
  {
   "cell_type": "code",
   "execution_count": 121,
   "metadata": {
    "execution": {
     "iopub.execute_input": "2021-05-13T12:31:18.149415Z",
     "iopub.status.busy": "2021-05-13T12:31:18.144120Z",
     "iopub.status.idle": "2021-05-13T12:31:18.151800Z",
     "shell.execute_reply": "2021-05-13T12:31:18.152393Z"
    },
    "slideshow": {
     "slide_type": "subslide"
    }
   },
   "outputs": [
    {
     "name": "stdout",
     "output_type": "stream",
     "text": [
      "@@ -\u001b[34m48\u001b[39;49;00m,\u001b[34m24\u001b[39;49;00m +\u001b[34m48\u001b[39;49;00m,\u001b[34m42\u001b[39;49;00m @@\n",
      " tag = \u001b[34mFalse\u001b[39;49;00m\n",
      "\n",
      "+    quote = \u001b[34mFalse\u001b[39;49;00m\n",
      "\n",
      "     out = \u001b[33m\"\u001b[39;49;00m\u001b[33m\"\u001b[39;49;00m\n",
      "@@ -\u001b[34m215\u001b[39;49;00m,\u001b[34m24\u001b[39;49;00m +\u001b[34m215\u001b[39;49;00m,\u001b[34m97\u001b[39;49;00m @@\n",
      " tag = \u001b[34mFalse\u001b[39;49;00m\n",
      "\n",
      "+        \u001b[34melif\u001b[39;49;00m c == \u001b[33m'\u001b[39;49;00m\u001b[33m\"\u001b[39;49;00m\u001b[33m'\u001b[39;49;00m \u001b[35mor\u001b[39;49;00m c == \u001b[33m\"\u001b[39;49;00m\u001b[33m'\u001b[39;49;00m\u001b[33m\"\u001b[39;49;00m \u001b[35mand\u001b[39;49;00m tag:\n",
      "            quote = \u001b[35mnot\u001b[39;49;00m quote\n",
      "\n",
      "         \u001b[34melif\u001b[39;49;00m\n"
     ]
    }
   ],
   "source": [
    "for p in reduced_patches:\n",
    "    print_patch(p)"
   ]
  },
  {
   "cell_type": "markdown",
   "metadata": {
    "slideshow": {
     "slide_type": "subslide"
    }
   },
   "source": [
    "This is the resulting code. We see that the changes to the conditions (`if c == '<'` and `if c == '>'`) are not necessary to produce the failure – our test string has no HTML tags."
   ]
  },
  {
   "cell_type": "code",
   "execution_count": 122,
   "metadata": {
    "execution": {
     "iopub.execute_input": "2021-05-13T12:31:18.161126Z",
     "iopub.status.busy": "2021-05-13T12:31:18.160364Z",
     "iopub.status.idle": "2021-05-13T12:31:18.163288Z",
     "shell.execute_reply": "2021-05-13T12:31:18.163879Z"
    },
    "slideshow": {
     "slide_type": "subslide"
    }
   },
   "outputs": [
    {
     "name": "stdout",
     "output_type": "stream",
     "text": [
      "\u001b[34mdef\u001b[39;49;00m \u001b[32mremove_html_markup\u001b[39;49;00m(s):  \u001b[37m# type: ignore\u001b[39;49;00m\n",
      "    tag = \u001b[34mFalse\u001b[39;49;00m\n",
      "    quote = \u001b[34mFalse\u001b[39;49;00m\n",
      "    out = \u001b[33m\"\u001b[39;49;00m\u001b[33m\"\u001b[39;49;00m\n",
      "\n",
      "    \u001b[34mfor\u001b[39;49;00m c \u001b[35min\u001b[39;49;00m s:\n",
      "        \u001b[34mif\u001b[39;49;00m c == \u001b[33m'\u001b[39;49;00m\u001b[33m<\u001b[39;49;00m\u001b[33m'\u001b[39;49;00m:    \u001b[37m# start of markup\u001b[39;49;00m\n",
      "            tag = \u001b[34mTrue\u001b[39;49;00m\n",
      "        \u001b[34melif\u001b[39;49;00m c == \u001b[33m'\u001b[39;49;00m\u001b[33m>\u001b[39;49;00m\u001b[33m'\u001b[39;49;00m:  \u001b[37m# end of markup\u001b[39;49;00m\n",
      "            tag = \u001b[34mFalse\u001b[39;49;00m\n",
      "        \u001b[34melif\u001b[39;49;00m c == \u001b[33m'\u001b[39;49;00m\u001b[33m\"\u001b[39;49;00m\u001b[33m'\u001b[39;49;00m \u001b[35mor\u001b[39;49;00m c == \u001b[33m\"\u001b[39;49;00m\u001b[33m'\u001b[39;49;00m\u001b[33m\"\u001b[39;49;00m \u001b[35mand\u001b[39;49;00m tag:\n",
      "            quote = \u001b[35mnot\u001b[39;49;00m quote\n",
      "        \u001b[34melif\u001b[39;49;00m \u001b[35mnot\u001b[39;49;00m tag:\n",
      "            out = out + c\n",
      "\n",
      "    \u001b[34mreturn\u001b[39;49;00m out"
     ]
    }
   ],
   "source": [
    "print_content(patch(version_1, reduced_patches), '.py')"
   ]
  },
  {
   "cell_type": "markdown",
   "metadata": {
    "slideshow": {
     "slide_type": "subslide"
    }
   },
   "source": [
    "Hence, we have now narrowed down our failure-inducing changes from four patches down to two."
   ]
  },
  {
   "cell_type": "markdown",
   "metadata": {
    "slideshow": {
     "slide_type": "subslide"
    }
   },
   "source": [
    "### A Minimal Difference\n",
    "\n",
    "Can we narrow this down even further? Yes, we can! The idea is to not only search for the minimal set of patches to be applied on the passing version, but to actually seek a minimal _difference_ between two patch sets. That is, we obtain \n",
    "\n",
    "* one set of _passing_ patches that, when applied, still passes;\n",
    "* one set of _failing_ patches that, when applied, fails;\n",
    "\n",
    "with a _minimal difference_ between the two. This minimal difference is what causes the failure."
   ]
  },
  {
   "cell_type": "markdown",
   "metadata": {
    "slideshow": {
     "slide_type": "subslide"
    }
   },
   "source": [
    "We obtain such two sets (as well as their difference) by using the `min_arg_diff()` method of the `DeltaDebugger`."
   ]
  },
  {
   "cell_type": "code",
   "execution_count": 123,
   "metadata": {
    "execution": {
     "iopub.execute_input": "2021-05-13T12:31:18.172033Z",
     "iopub.status.busy": "2021-05-13T12:31:18.171044Z",
     "iopub.status.idle": "2021-05-13T12:31:18.173060Z",
     "shell.execute_reply": "2021-05-13T12:31:18.173529Z"
    },
    "slideshow": {
     "slide_type": "fragment"
    }
   },
   "outputs": [],
   "source": [
    "pass_patches, fail_patches, diffs = \\\n",
    "    tuple(arg['patches'] for arg in dd.min_arg_diff())"
   ]
  },
  {
   "cell_type": "markdown",
   "metadata": {
    "slideshow": {
     "slide_type": "fragment"
    }
   },
   "source": [
    "This is `remove_html_markup[)` with the passing set applied. We see that the variable `quote` is defined at the beginning. This definition is actually a precondition for other patches to result in an executable program; otherwise, the program will fail when the variable `quote` does not exist."
   ]
  },
  {
   "cell_type": "code",
   "execution_count": 124,
   "metadata": {
    "execution": {
     "iopub.execute_input": "2021-05-13T12:31:18.183230Z",
     "iopub.status.busy": "2021-05-13T12:31:18.182165Z",
     "iopub.status.idle": "2021-05-13T12:31:18.184983Z",
     "shell.execute_reply": "2021-05-13T12:31:18.185388Z"
    },
    "slideshow": {
     "slide_type": "subslide"
    }
   },
   "outputs": [
    {
     "name": "stdout",
     "output_type": "stream",
     "text": [
      "\u001b[34mdef\u001b[39;49;00m \u001b[32mremove_html_markup\u001b[39;49;00m(s):  \u001b[37m# type: ignore\u001b[39;49;00m\n",
      "    tag = \u001b[34mFalse\u001b[39;49;00m\n",
      "    quote = \u001b[34mFalse\u001b[39;49;00m\n",
      "    out = \u001b[33m\"\u001b[39;49;00m\u001b[33m\"\u001b[39;49;00m\n",
      "\n",
      "    \u001b[34mfor\u001b[39;49;00m c \u001b[35min\u001b[39;49;00m s:\n",
      "        \u001b[34mif\u001b[39;49;00m c == \u001b[33m'\u001b[39;49;00m\u001b[33m<\u001b[39;49;00m\u001b[33m'\u001b[39;49;00m \u001b[35mand\u001b[39;49;00m \u001b[35mnot\u001b[39;49;00m quote:\n",
      "            tag = \u001b[34mTrue\u001b[39;49;00m\n",
      "        \u001b[34melif\u001b[39;49;00m c == \u001b[33m'\u001b[39;49;00m\u001b[33m>\u001b[39;49;00m\u001b[33m'\u001b[39;49;00m:  \u001b[37m# end of markup\u001b[39;49;00m\n",
      "            tag = \u001b[34mFalse\u001b[39;49;00m\n",
      "        \u001b[34melif\u001b[39;49;00m \u001b[35mnot\u001b[39;49;00m tag:\n",
      "            out = out + c\n",
      "\n",
      "    \u001b[34mreturn\u001b[39;49;00m out"
     ]
    }
   ],
   "source": [
    "print_content(patch(version_1, pass_patches), '.py')"
   ]
  },
  {
   "cell_type": "markdown",
   "metadata": {
    "slideshow": {
     "slide_type": "subslide"
    }
   },
   "source": [
    "Here's `remove_html_markup()` with the failing set applied. We see that now we also have the check for double quotes:"
   ]
  },
  {
   "cell_type": "code",
   "execution_count": 125,
   "metadata": {
    "execution": {
     "iopub.execute_input": "2021-05-13T12:31:18.194301Z",
     "iopub.status.busy": "2021-05-13T12:31:18.193581Z",
     "iopub.status.idle": "2021-05-13T12:31:18.196471Z",
     "shell.execute_reply": "2021-05-13T12:31:18.196880Z"
    },
    "slideshow": {
     "slide_type": "subslide"
    }
   },
   "outputs": [
    {
     "name": "stdout",
     "output_type": "stream",
     "text": [
      "\u001b[34mdef\u001b[39;49;00m \u001b[32mremove_html_markup\u001b[39;49;00m(s):  \u001b[37m# type: ignore\u001b[39;49;00m\n",
      "    tag = \u001b[34mFalse\u001b[39;49;00m\n",
      "    quote = \u001b[34mFalse\u001b[39;49;00m\n",
      "    out = \u001b[33m\"\u001b[39;49;00m\u001b[33m\"\u001b[39;49;00m\n",
      "\n",
      "    \u001b[34mfor\u001b[39;49;00m c \u001b[35min\u001b[39;49;00m s:\n",
      "        \u001b[34mif\u001b[39;49;00m c == \u001b[33m'\u001b[39;49;00m\u001b[33m<\u001b[39;49;00m\u001b[33m'\u001b[39;49;00m \u001b[35mand\u001b[39;49;00m \u001b[35mnot\u001b[39;49;00m quote:\n",
      "            tag = \u001b[34mTrue\u001b[39;49;00m\n",
      "        \u001b[34melif\u001b[39;49;00m c == \u001b[33m'\u001b[39;49;00m\u001b[33m>\u001b[39;49;00m\u001b[33m'\u001b[39;49;00m:  \u001b[37m# end of markup\u001b[39;49;00m\n",
      "            tag = \u001b[34mFalse\u001b[39;49;00m\n",
      "        \u001b[34melif\u001b[39;49;00m c == \u001b[33m'\u001b[39;49;00m\u001b[33m\"\u001b[39;49;00m\u001b[33m'\u001b[39;49;00m \u001b[35mor\u001b[39;49;00m c == \u001b[33m\"\u001b[39;49;00m\u001b[33m'\u001b[39;49;00m\u001b[33m\"\u001b[39;49;00m \u001b[35mand\u001b[39;49;00m tag:\n",
      "            quote = \u001b[35mnot\u001b[39;49;00m quote\n",
      "        \u001b[34melif\u001b[39;49;00m \u001b[35mnot\u001b[39;49;00m tag:\n",
      "            out = out + c\n",
      "\n",
      "    \u001b[34mreturn\u001b[39;49;00m out"
     ]
    }
   ],
   "source": [
    "print_content(patch(version_1, fail_patches), '.py')"
   ]
  },
  {
   "cell_type": "markdown",
   "metadata": {
    "slideshow": {
     "slide_type": "subslide"
    }
   },
   "source": [
    "The difference is just this one patch:"
   ]
  },
  {
   "cell_type": "code",
   "execution_count": 126,
   "metadata": {
    "execution": {
     "iopub.execute_input": "2021-05-13T12:31:18.205605Z",
     "iopub.status.busy": "2021-05-13T12:31:18.204890Z",
     "iopub.status.idle": "2021-05-13T12:31:18.207456Z",
     "shell.execute_reply": "2021-05-13T12:31:18.207866Z"
    },
    "slideshow": {
     "slide_type": "fragment"
    }
   },
   "outputs": [
    {
     "name": "stdout",
     "output_type": "stream",
     "text": [
      "@@ -\u001b[34m215\u001b[39;49;00m,\u001b[34m24\u001b[39;49;00m +\u001b[34m215\u001b[39;49;00m,\u001b[34m97\u001b[39;49;00m @@\n",
      " tag = \u001b[34mFalse\u001b[39;49;00m\n",
      "\n",
      "+        \u001b[34melif\u001b[39;49;00m c == \u001b[33m'\u001b[39;49;00m\u001b[33m\"\u001b[39;49;00m\u001b[33m'\u001b[39;49;00m \u001b[35mor\u001b[39;49;00m c == \u001b[33m\"\u001b[39;49;00m\u001b[33m'\u001b[39;49;00m\u001b[33m\"\u001b[39;49;00m \u001b[35mand\u001b[39;49;00m tag:\n",
      "            quote = \u001b[35mnot\u001b[39;49;00m quote\n",
      "\n",
      "         \u001b[34melif\u001b[39;49;00m\n"
     ]
    }
   ],
   "source": [
    "for p in diffs:\n",
    "    print_patch(p)"
   ]
  },
  {
   "cell_type": "markdown",
   "metadata": {
    "slideshow": {
     "slide_type": "fragment"
    }
   },
   "source": [
    "And one more time, we are pointed to the buggy line that introduced the error."
   ]
  },
  {
   "cell_type": "markdown",
   "metadata": {
    "slideshow": {
     "slide_type": "slide"
    }
   },
   "source": [
    "## A ChangeDebugger class\n",
    "\n",
    "Let us put all these steps together in a single class. The `ChangeDebugger` is a derivative of `CallCollector` which takes two source files (one passing, one failing)."
   ]
  },
  {
   "cell_type": "code",
   "execution_count": 127,
   "metadata": {
    "execution": {
     "iopub.execute_input": "2021-05-13T12:31:18.211871Z",
     "iopub.status.busy": "2021-05-13T12:31:18.211143Z",
     "iopub.status.idle": "2021-05-13T12:31:18.213534Z",
     "shell.execute_reply": "2021-05-13T12:31:18.214156Z"
    },
    "slideshow": {
     "slide_type": "skip"
    }
   },
   "outputs": [],
   "source": [
    "from DeltaDebugger import CallCollector"
   ]
  },
  {
   "cell_type": "code",
   "execution_count": 128,
   "metadata": {
    "execution": {
     "iopub.execute_input": "2021-05-13T12:31:18.223163Z",
     "iopub.status.busy": "2021-05-13T12:31:18.222257Z",
     "iopub.status.idle": "2021-05-13T12:31:18.224553Z",
     "shell.execute_reply": "2021-05-13T12:31:18.225122Z"
    },
    "slideshow": {
     "slide_type": "subslide"
    }
   },
   "outputs": [],
   "source": [
    "class ChangeDebugger(CallCollector):\n",
    "    def __init__(self, pass_source: str, fail_source: str, **ddargs: Any) -> None:\n",
    "        \"\"\"Constructor. Takes a passing source file (`pass_source`)\n",
    "        and a failing source file (`fail_source`).\n",
    "        Additional arguments are passed to `DeltaDebugger` constructor.\n",
    "        \"\"\"\n",
    "        super().__init__()\n",
    "        self._pass_source = pass_source\n",
    "        self._fail_source = fail_source\n",
    "        self._patches = diff(pass_source, fail_source)\n",
    "        self._ddargs = ddargs\n",
    "        self.log = ddargs['log'] if 'log' in ddargs else False\n",
    "\n",
    "    def pass_source(self) -> str:\n",
    "        \"\"\"Return the passing source file.\"\"\"\n",
    "        return self._pass_source\n",
    "\n",
    "    def fail_source(self) -> str:\n",
    "        \"\"\"Return the failing source file.\"\"\"\n",
    "        return self._fail_source\n",
    "\n",
    "    def patches(self) -> List[patch_obj]:\n",
    "        \"\"\"Return the diff between passing and failing source files.\"\"\"\n",
    "        return self._patches"
   ]
  },
  {
   "cell_type": "markdown",
   "metadata": {
    "slideshow": {
     "slide_type": "subslide"
    }
   },
   "source": [
    "From `CallCollector`, it inherits the ability to inspect a single function call..."
   ]
  },
  {
   "cell_type": "code",
   "execution_count": 129,
   "metadata": {
    "execution": {
     "iopub.execute_input": "2021-05-13T12:31:18.229373Z",
     "iopub.status.busy": "2021-05-13T12:31:18.228611Z",
     "iopub.status.idle": "2021-05-13T12:31:18.230658Z",
     "shell.execute_reply": "2021-05-13T12:31:18.231260Z"
    },
    "slideshow": {
     "slide_type": "fragment"
    }
   },
   "outputs": [],
   "source": [
    "def test_remove_html_markup() -> None:\n",
    "    assert remove_html_markup('\"foo\"') == '\"foo\"'"
   ]
  },
  {
   "cell_type": "code",
   "execution_count": 130,
   "metadata": {
    "execution": {
     "iopub.execute_input": "2021-05-13T12:31:18.235568Z",
     "iopub.status.busy": "2021-05-13T12:31:18.234898Z",
     "iopub.status.idle": "2021-05-13T12:31:18.236802Z",
     "shell.execute_reply": "2021-05-13T12:31:18.237328Z"
    },
    "slideshow": {
     "slide_type": "fragment"
    }
   },
   "outputs": [],
   "source": [
    "with ChangeDebugger(version_1, version_2) as cd:\n",
    "    test_remove_html_markup()"
   ]
  },
  {
   "cell_type": "markdown",
   "metadata": {
    "slideshow": {
     "slide_type": "fragment"
    }
   },
   "source": [
    "... and to repeat it at will."
   ]
  },
  {
   "cell_type": "code",
   "execution_count": 131,
   "metadata": {
    "execution": {
     "iopub.execute_input": "2021-05-13T12:31:18.241356Z",
     "iopub.status.busy": "2021-05-13T12:31:18.240540Z",
     "iopub.status.idle": "2021-05-13T12:31:18.243145Z",
     "shell.execute_reply": "2021-05-13T12:31:18.243740Z"
    },
    "slideshow": {
     "slide_type": "subslide"
    }
   },
   "outputs": [
    {
     "name": "stderr",
     "output_type": "stream",
     "text": [
      "Traceback (most recent call last):\n",
      "  File \"<ipython-input-1-1cdc3d223902>\", line 2, in <module>\n",
      "    cd.call()\n",
      "  File \"/Users/zeller/Projects/debuggingbook/notebooks/DeltaDebugger.ipynb\", line 206, in call\n",
      "    return self.function()(**args)\n",
      "  File \"<ipython-input-1-6809e80c588d>\", line 2, in test_remove_html_markup\n",
      "    assert remove_html_markup('\"foo\"') == '\"foo\"'\n",
      "AssertionError (expected)\n"
     ]
    }
   ],
   "source": [
    "with ExpectError(AssertionError):\n",
    "    cd.call()"
   ]
  },
  {
   "cell_type": "markdown",
   "metadata": {
    "slideshow": {
     "slide_type": "fragment"
    }
   },
   "source": [
    "We can access the passing source, the failing source, and the list of patches:"
   ]
  },
  {
   "cell_type": "code",
   "execution_count": 132,
   "metadata": {
    "execution": {
     "iopub.execute_input": "2021-05-13T12:31:18.252945Z",
     "iopub.status.busy": "2021-05-13T12:31:18.252334Z",
     "iopub.status.idle": "2021-05-13T12:31:18.255275Z",
     "shell.execute_reply": "2021-05-13T12:31:18.254783Z"
    },
    "slideshow": {
     "slide_type": "subslide"
    }
   },
   "outputs": [
    {
     "name": "stdout",
     "output_type": "stream",
     "text": [
      "\u001b[34mdef\u001b[39;49;00m \u001b[32mremove_html_markup\u001b[39;49;00m(s):  \u001b[37m# type: ignore\u001b[39;49;00m\n",
      "    tag = \u001b[34mFalse\u001b[39;49;00m\n",
      "    out = \u001b[33m\"\u001b[39;49;00m\u001b[33m\"\u001b[39;49;00m\n",
      "\n",
      "    \u001b[34mfor\u001b[39;49;00m c \u001b[35min\u001b[39;49;00m s:\n",
      "        \u001b[34mif\u001b[39;49;00m c == \u001b[33m'\u001b[39;49;00m\u001b[33m<\u001b[39;49;00m\u001b[33m'\u001b[39;49;00m:    \u001b[37m# start of markup\u001b[39;49;00m\n",
      "            tag = \u001b[34mTrue\u001b[39;49;00m\n",
      "        \u001b[34melif\u001b[39;49;00m c == \u001b[33m'\u001b[39;49;00m\u001b[33m>\u001b[39;49;00m\u001b[33m'\u001b[39;49;00m:  \u001b[37m# end of markup\u001b[39;49;00m\n",
      "            tag = \u001b[34mFalse\u001b[39;49;00m\n",
      "        \u001b[34melif\u001b[39;49;00m \u001b[35mnot\u001b[39;49;00m tag:\n",
      "            out = out + c\n",
      "\n",
      "    \u001b[34mreturn\u001b[39;49;00m out"
     ]
    }
   ],
   "source": [
    "print_content(cd.pass_source(), '.py')"
   ]
  },
  {
   "cell_type": "code",
   "execution_count": 133,
   "metadata": {
    "execution": {
     "iopub.execute_input": "2021-05-13T12:31:18.264704Z",
     "iopub.status.busy": "2021-05-13T12:31:18.263747Z",
     "iopub.status.idle": "2021-05-13T12:31:18.267031Z",
     "shell.execute_reply": "2021-05-13T12:31:18.267662Z"
    },
    "slideshow": {
     "slide_type": "subslide"
    }
   },
   "outputs": [
    {
     "name": "stdout",
     "output_type": "stream",
     "text": [
      "\u001b[34mdef\u001b[39;49;00m \u001b[32mremove_html_markup\u001b[39;49;00m(s):  \u001b[37m# type: ignore\u001b[39;49;00m\n",
      "    tag = \u001b[34mFalse\u001b[39;49;00m\n",
      "    quote = \u001b[34mFalse\u001b[39;49;00m\n",
      "    out = \u001b[33m\"\u001b[39;49;00m\u001b[33m\"\u001b[39;49;00m\n",
      "\n",
      "    \u001b[34mfor\u001b[39;49;00m c \u001b[35min\u001b[39;49;00m s:\n",
      "        \u001b[34mif\u001b[39;49;00m c == \u001b[33m'\u001b[39;49;00m\u001b[33m<\u001b[39;49;00m\u001b[33m'\u001b[39;49;00m \u001b[35mand\u001b[39;49;00m \u001b[35mnot\u001b[39;49;00m quote:\n",
      "            tag = \u001b[34mTrue\u001b[39;49;00m\n",
      "        \u001b[34melif\u001b[39;49;00m c == \u001b[33m'\u001b[39;49;00m\u001b[33m>\u001b[39;49;00m\u001b[33m'\u001b[39;49;00m \u001b[35mand\u001b[39;49;00m \u001b[35mnot\u001b[39;49;00m quote:\n",
      "            tag = \u001b[34mFalse\u001b[39;49;00m\n",
      "        \u001b[34melif\u001b[39;49;00m c == \u001b[33m'\u001b[39;49;00m\u001b[33m\"\u001b[39;49;00m\u001b[33m'\u001b[39;49;00m \u001b[35mor\u001b[39;49;00m c == \u001b[33m\"\u001b[39;49;00m\u001b[33m'\u001b[39;49;00m\u001b[33m\"\u001b[39;49;00m \u001b[35mand\u001b[39;49;00m tag:\n",
      "            quote = \u001b[35mnot\u001b[39;49;00m quote\n",
      "        \u001b[34melif\u001b[39;49;00m \u001b[35mnot\u001b[39;49;00m tag:\n",
      "            out = out + c\n",
      "\n",
      "    \u001b[34mreturn\u001b[39;49;00m out"
     ]
    }
   ],
   "source": [
    "print_content(cd.fail_source(), '.py')"
   ]
  },
  {
   "cell_type": "code",
   "execution_count": 134,
   "metadata": {
    "execution": {
     "iopub.execute_input": "2021-05-13T12:31:18.272185Z",
     "iopub.status.busy": "2021-05-13T12:31:18.271327Z",
     "iopub.status.idle": "2021-05-13T12:31:18.274596Z",
     "shell.execute_reply": "2021-05-13T12:31:18.275243Z"
    },
    "slideshow": {
     "slide_type": "subslide"
    }
   },
   "outputs": [
    {
     "data": {
      "text/plain": [
       "[<diff_match_patch.diff_match_patch.patch_obj at 0x7f8ce6d5dc50>,\n",
       " <diff_match_patch.diff_match_patch.patch_obj at 0x7f8ce6d5dd68>,\n",
       " <diff_match_patch.diff_match_patch.patch_obj at 0x7f8ce73bbfd0>,\n",
       " <diff_match_patch.diff_match_patch.patch_obj at 0x7f8ce73bbb38>]"
      ]
     },
     "execution_count": 1,
     "metadata": {},
     "output_type": "execute_result"
    }
   ],
   "source": [
    "cd.patches()"
   ]
  },
  {
   "cell_type": "markdown",
   "metadata": {
    "slideshow": {
     "slide_type": "fragment"
    }
   },
   "source": [
    "For testing, we do not apply Delta Debugging on the function under test – that would reduce the function's arguments. (It would still be neat, but that's not what we're aiming for here.)\n",
    "\n",
    "Instead, we introduce a method `test_patches()` that gets a set of patches, applies them, reads in the resulting source, and (re-)calls the function."
   ]
  },
  {
   "cell_type": "code",
   "execution_count": 135,
   "metadata": {
    "execution": {
     "iopub.execute_input": "2021-05-13T12:31:18.280782Z",
     "iopub.status.busy": "2021-05-13T12:31:18.279801Z",
     "iopub.status.idle": "2021-05-13T12:31:18.282766Z",
     "shell.execute_reply": "2021-05-13T12:31:18.282168Z"
    },
    "slideshow": {
     "slide_type": "subslide"
    }
   },
   "outputs": [],
   "source": [
    "class ChangeDebugger(ChangeDebugger):\n",
    "    def test_patches(self, patches: List[patch_obj]) -> None:\n",
    "        new_version = patch(self.pass_source(), patches)\n",
    "        exec(new_version, globals())\n",
    "        self.call()"
   ]
  },
  {
   "cell_type": "markdown",
   "metadata": {
    "slideshow": {
     "slide_type": "fragment"
    }
   },
   "source": [
    "For completeness, we ensure that at the beginning of the `with` block, we assume the failing source:"
   ]
  },
  {
   "cell_type": "code",
   "execution_count": 136,
   "metadata": {
    "execution": {
     "iopub.execute_input": "2021-05-13T12:31:18.289141Z",
     "iopub.status.busy": "2021-05-13T12:31:18.288318Z",
     "iopub.status.idle": "2021-05-13T12:31:18.290148Z",
     "shell.execute_reply": "2021-05-13T12:31:18.290685Z"
    },
    "slideshow": {
     "slide_type": "fragment"
    }
   },
   "outputs": [],
   "source": [
    "class ChangeDebugger(ChangeDebugger):\n",
    "    def __enter__(self) -> Any:\n",
    "        \"\"\"Called at begin of a `with` block. Checks if current source fails.\"\"\"\n",
    "        exec(self.fail_source(), globals())\n",
    "        return super().__enter__()"
   ]
  },
  {
   "cell_type": "markdown",
   "metadata": {
    "slideshow": {
     "slide_type": "fragment"
    }
   },
   "source": [
    "Here's `test_patches()` in action. As before, if we apply no patches, the test passes; if we apply all patches, it fails."
   ]
  },
  {
   "cell_type": "code",
   "execution_count": 137,
   "metadata": {
    "execution": {
     "iopub.execute_input": "2021-05-13T12:31:18.295100Z",
     "iopub.status.busy": "2021-05-13T12:31:18.294470Z",
     "iopub.status.idle": "2021-05-13T12:31:18.296322Z",
     "shell.execute_reply": "2021-05-13T12:31:18.296737Z"
    },
    "slideshow": {
     "slide_type": "subslide"
    }
   },
   "outputs": [],
   "source": [
    "with ChangeDebugger(version_1, version_2) as cd:\n",
    "    test_remove_html_markup()"
   ]
  },
  {
   "cell_type": "code",
   "execution_count": 138,
   "metadata": {
    "execution": {
     "iopub.execute_input": "2021-05-13T12:31:18.301040Z",
     "iopub.status.busy": "2021-05-13T12:31:18.300294Z",
     "iopub.status.idle": "2021-05-13T12:31:18.302171Z",
     "shell.execute_reply": "2021-05-13T12:31:18.302626Z"
    },
    "slideshow": {
     "slide_type": "fragment"
    }
   },
   "outputs": [],
   "source": [
    "cd.test_patches([])"
   ]
  },
  {
   "cell_type": "code",
   "execution_count": 139,
   "metadata": {
    "execution": {
     "iopub.execute_input": "2021-05-13T12:31:18.306751Z",
     "iopub.status.busy": "2021-05-13T12:31:18.306042Z",
     "iopub.status.idle": "2021-05-13T12:31:18.308897Z",
     "shell.execute_reply": "2021-05-13T12:31:18.309332Z"
    },
    "slideshow": {
     "slide_type": "subslide"
    }
   },
   "outputs": [
    {
     "name": "stderr",
     "output_type": "stream",
     "text": [
      "Traceback (most recent call last):\n",
      "  File \"<ipython-input-1-27b59634b5f9>\", line 2, in <module>\n",
      "    cd.test_patches(cd.patches())\n",
      "  File \"<ipython-input-1-cdf9e7513b95>\", line 5, in test_patches\n",
      "    self.call()\n",
      "  File \"/Users/zeller/Projects/debuggingbook/notebooks/DeltaDebugger.ipynb\", line 206, in call\n",
      "    return self.function()(**args)\n",
      "  File \"<ipython-input-1-6809e80c588d>\", line 2, in test_remove_html_markup\n",
      "    assert remove_html_markup('\"foo\"') == '\"foo\"'\n",
      "AssertionError (expected)\n"
     ]
    }
   ],
   "source": [
    "with ExpectError(AssertionError):\n",
    "    cd.test_patches(cd.patches())"
   ]
  },
  {
   "cell_type": "markdown",
   "metadata": {
    "slideshow": {
     "slide_type": "subslide"
    }
   },
   "source": [
    "Now for the actual debugging. We introduce a method `min_patches()` in which we invoke a `DeltaDebugger` on the `test_patches()` method we just defined. Using `min_arg.diff()`, it then computes a minimal failure-inducing difference between the patches. "
   ]
  },
  {
   "cell_type": "code",
   "execution_count": 140,
   "metadata": {
    "execution": {
     "iopub.execute_input": "2021-05-13T12:31:18.316129Z",
     "iopub.status.busy": "2021-05-13T12:31:18.315223Z",
     "iopub.status.idle": "2021-05-13T12:31:18.317597Z",
     "shell.execute_reply": "2021-05-13T12:31:18.318017Z"
    },
    "slideshow": {
     "slide_type": "subslide"
    }
   },
   "outputs": [],
   "source": [
    "class ChangeDebugger(ChangeDebugger):\n",
    "    def min_patches(self) -> Tuple[List[patch_obj], List[patch_obj], List[patch_obj]]:\n",
    "        \"\"\"\n",
    "        Compute a minimal set of patches.\n",
    "        Returns a triple (`pass_patches`, `fail_patches`, `diff_patches`) \n",
    "        where `diff_patches` is the minimal difference between \n",
    "        the set `pass_patches` (which, when applied, make the test pass) and \n",
    "        the set `fail_patches` (which, when applied, make the test fail).\n",
    "        \"\"\"\n",
    "        patches = self.patches()\n",
    "        with DeltaDebugger(**self._ddargs) as dd:\n",
    "            self.test_patches(patches)\n",
    "\n",
    "        args = dd.min_arg_diff()\n",
    "        pass_patches = args[0]['patches']\n",
    "        fail_patches = args[1]['patches']\n",
    "        diff_patches = args[2]['patches']\n",
    "\n",
    "        return (pass_patches, fail_patches, diff_patches)"
   ]
  },
  {
   "cell_type": "markdown",
   "metadata": {
    "slideshow": {
     "slide_type": "subslide"
    }
   },
   "source": [
    "The `__repr__()` method, turning a `ChangeDebugger` into a readable string, computes `min_patches()` and returns a user-readable representation of the patches:"
   ]
  },
  {
   "cell_type": "code",
   "execution_count": 141,
   "metadata": {
    "execution": {
     "iopub.execute_input": "2021-05-13T12:31:18.322510Z",
     "iopub.status.busy": "2021-05-13T12:31:18.321702Z",
     "iopub.status.idle": "2021-05-13T12:31:18.323880Z",
     "shell.execute_reply": "2021-05-13T12:31:18.324335Z"
    },
    "slideshow": {
     "slide_type": "fragment"
    }
   },
   "outputs": [],
   "source": [
    "class ChangeDebugger(ChangeDebugger):\n",
    "    def __repr__(self) -> str:\n",
    "        \"\"\"Return readable list of minimal patches\"\"\"\n",
    "        pass_patches, fail_patches, diff_patches = self.min_patches()\n",
    "        return \"\".join(patch_string(p) for p in diff_patches)"
   ]
  },
  {
   "cell_type": "markdown",
   "metadata": {
    "slideshow": {
     "slide_type": "fragment"
    }
   },
   "source": [
    "Here's how to use these methods. First, we invoke `ChangeDebugger` with the given old and new source code versions on our test function."
   ]
  },
  {
   "cell_type": "code",
   "execution_count": 142,
   "metadata": {
    "execution": {
     "iopub.execute_input": "2021-05-13T12:31:18.328586Z",
     "iopub.status.busy": "2021-05-13T12:31:18.327942Z",
     "iopub.status.idle": "2021-05-13T12:31:18.329893Z",
     "shell.execute_reply": "2021-05-13T12:31:18.330416Z"
    },
    "slideshow": {
     "slide_type": "fragment"
    }
   },
   "outputs": [],
   "source": [
    "with ChangeDebugger(version_1, version_2) as cd:\n",
    "    test_remove_html_markup()"
   ]
  },
  {
   "cell_type": "markdown",
   "metadata": {
    "slideshow": {
     "slide_type": "fragment"
    }
   },
   "source": [
    "These are the patches we determined:"
   ]
  },
  {
   "cell_type": "code",
   "execution_count": 143,
   "metadata": {
    "execution": {
     "iopub.execute_input": "2021-05-13T12:31:18.334590Z",
     "iopub.status.busy": "2021-05-13T12:31:18.333925Z",
     "iopub.status.idle": "2021-05-13T12:31:18.336263Z",
     "shell.execute_reply": "2021-05-13T12:31:18.336792Z"
    },
    "slideshow": {
     "slide_type": "subslide"
    }
   },
   "outputs": [
    {
     "data": {
      "text/plain": [
       "[<diff_match_patch.diff_match_patch.patch_obj at 0x7f8ce73bca58>,\n",
       " <diff_match_patch.diff_match_patch.patch_obj at 0x7f8ce73bc080>,\n",
       " <diff_match_patch.diff_match_patch.patch_obj at 0x7f8ce73bc358>,\n",
       " <diff_match_patch.diff_match_patch.patch_obj at 0x7f8ce73bcc88>]"
      ]
     },
     "execution_count": 1,
     "metadata": {},
     "output_type": "execute_result"
    }
   ],
   "source": [
    "cd.patches()"
   ]
  },
  {
   "cell_type": "markdown",
   "metadata": {
    "slideshow": {
     "slide_type": "fragment"
    }
   },
   "source": [
    "We invoke `min_patches` to obtain a minimal set of patches:"
   ]
  },
  {
   "cell_type": "code",
   "execution_count": 144,
   "metadata": {
    "execution": {
     "iopub.execute_input": "2021-05-13T12:31:18.343292Z",
     "iopub.status.busy": "2021-05-13T12:31:18.342556Z",
     "iopub.status.idle": "2021-05-13T12:31:18.344987Z",
     "shell.execute_reply": "2021-05-13T12:31:18.345461Z"
    },
    "slideshow": {
     "slide_type": "fragment"
    }
   },
   "outputs": [
    {
     "data": {
      "text/plain": [
       "[<diff_match_patch.diff_match_patch.patch_obj at 0x7f8ce73bcc88>]"
      ]
     },
     "execution_count": 1,
     "metadata": {},
     "output_type": "execute_result"
    }
   ],
   "source": [
    "pass_patches, fail_patches, diffs = cd.min_patches()\n",
    "diffs"
   ]
  },
  {
   "cell_type": "markdown",
   "metadata": {
    "slideshow": {
     "slide_type": "fragment"
    }
   },
   "source": [
    "We can inspect the failure-inducing patches right away:"
   ]
  },
  {
   "cell_type": "code",
   "execution_count": 145,
   "metadata": {
    "execution": {
     "iopub.execute_input": "2021-05-13T12:31:18.349999Z",
     "iopub.status.busy": "2021-05-13T12:31:18.349064Z",
     "iopub.status.idle": "2021-05-13T12:31:18.351683Z",
     "shell.execute_reply": "2021-05-13T12:31:18.352147Z"
    },
    "slideshow": {
     "slide_type": "subslide"
    }
   },
   "outputs": [
    {
     "name": "stdout",
     "output_type": "stream",
     "text": [
      "@@ -215,24 +215,97 @@\n",
      " tag = False\n",
      "\n",
      "+        elif c == '\"' or c == \"'\" and tag:\n",
      "            quote = not quote\n",
      "\n",
      "         elif\n"
     ]
    }
   ],
   "source": [
    "print(patch_string(diffs[0]))"
   ]
  },
  {
   "cell_type": "markdown",
   "metadata": {
    "slideshow": {
     "slide_type": "fragment"
    }
   },
   "source": [
    "Or – even simpler – we can simply print out the `ChangeDebugger` to obtain a readable representation."
   ]
  },
  {
   "cell_type": "code",
   "execution_count": 146,
   "metadata": {
    "execution": {
     "iopub.execute_input": "2021-05-13T12:31:18.358721Z",
     "iopub.status.busy": "2021-05-13T12:31:18.357920Z",
     "iopub.status.idle": "2021-05-13T12:31:18.360630Z",
     "shell.execute_reply": "2021-05-13T12:31:18.361082Z"
    },
    "slideshow": {
     "slide_type": "subslide"
    }
   },
   "outputs": [
    {
     "data": {
      "text/plain": [
       "@@ -215,24 +215,97 @@\n",
       " tag = False\n",
       "\n",
       "+        elif c == '\"' or c == \"'\" and tag:\n",
       "            quote = not quote\n",
       "\n",
       "         elif"
      ]
     },
     "execution_count": 1,
     "metadata": {},
     "output_type": "execute_result"
    }
   ],
   "source": [
    "cd"
   ]
  },
  {
   "cell_type": "markdown",
   "metadata": {
    "slideshow": {
     "slide_type": "fragment"
    }
   },
   "source": [
    "Success!"
   ]
  },
  {
   "cell_type": "markdown",
   "metadata": {
    "slideshow": {
     "slide_type": "fragment"
    }
   },
   "source": [
    "Does this also work for longer change histories? Let's take the very first and the very last version."
   ]
  },
  {
   "cell_type": "code",
   "execution_count": 147,
   "metadata": {
    "execution": {
     "iopub.execute_input": "2021-05-13T12:31:18.369505Z",
     "iopub.status.busy": "2021-05-13T12:31:18.368802Z",
     "iopub.status.idle": "2021-05-13T12:31:18.377912Z",
     "shell.execute_reply": "2021-05-13T12:31:18.378594Z"
    },
    "slideshow": {
     "slide_type": "fragment"
    }
   },
   "outputs": [],
   "source": [
    "version_8 = get_output(['git', 'show', \n",
    "                            f'{versions[7]}:remove_html_markup.py'])"
   ]
  },
  {
   "cell_type": "code",
   "execution_count": 148,
   "metadata": {
    "execution": {
     "iopub.execute_input": "2021-05-13T12:31:18.384042Z",
     "iopub.status.busy": "2021-05-13T12:31:18.383425Z",
     "iopub.status.idle": "2021-05-13T12:31:18.385213Z",
     "shell.execute_reply": "2021-05-13T12:31:18.385640Z"
    },
    "slideshow": {
     "slide_type": "fragment"
    }
   },
   "outputs": [],
   "source": [
    "with ChangeDebugger(version_1, version_8) as cd:\n",
    "    test_remove_html_markup()"
   ]
  },
  {
   "cell_type": "markdown",
   "metadata": {
    "slideshow": {
     "slide_type": "subslide"
    }
   },
   "source": [
    "We start with 5 patches:"
   ]
  },
  {
   "cell_type": "code",
   "execution_count": 149,
   "metadata": {
    "execution": {
     "iopub.execute_input": "2021-05-13T12:31:18.390118Z",
     "iopub.status.busy": "2021-05-13T12:31:18.389382Z",
     "iopub.status.idle": "2021-05-13T12:31:18.392212Z",
     "shell.execute_reply": "2021-05-13T12:31:18.392623Z"
    },
    "slideshow": {
     "slide_type": "fragment"
    }
   },
   "outputs": [
    {
     "data": {
      "text/plain": [
       "5"
      ]
     },
     "execution_count": 1,
     "metadata": {},
     "output_type": "execute_result"
    }
   ],
   "source": [
    "len(cd.patches())"
   ]
  },
  {
   "cell_type": "markdown",
   "metadata": {
    "slideshow": {
     "slide_type": "fragment"
    }
   },
   "source": [
    "Printing out the debugger again reveals a single failure-inducing change – it's actually still the same."
   ]
  },
  {
   "cell_type": "code",
   "execution_count": 150,
   "metadata": {
    "execution": {
     "iopub.execute_input": "2021-05-13T12:31:18.398852Z",
     "iopub.status.busy": "2021-05-13T12:31:18.398138Z",
     "iopub.status.idle": "2021-05-13T12:31:18.401393Z",
     "shell.execute_reply": "2021-05-13T12:31:18.401808Z"
    },
    "slideshow": {
     "slide_type": "fragment"
    }
   },
   "outputs": [
    {
     "data": {
      "text/plain": [
       "@@ -215,24 +215,97 @@\n",
       " tag = False\n",
       "\n",
       "+        elif c == '\"' or c == \"'\" and tag:\n",
       "            quote = not quote\n",
       "\n",
       "         elif"
      ]
     },
     "execution_count": 1,
     "metadata": {},
     "output_type": "execute_result"
    }
   ],
   "source": [
    "cd"
   ]
  },
  {
   "cell_type": "markdown",
   "metadata": {
    "slideshow": {
     "slide_type": "fragment"
    }
   },
   "source": [
    "We close with a bit of housekeeping, ensuring that the preconditions are properly met."
   ]
  },
  {
   "cell_type": "code",
   "execution_count": 151,
   "metadata": {
    "execution": {
     "iopub.execute_input": "2021-05-13T12:31:18.405595Z",
     "iopub.status.busy": "2021-05-13T12:31:18.404815Z",
     "iopub.status.idle": "2021-05-13T12:31:18.406915Z",
     "shell.execute_reply": "2021-05-13T12:31:18.407505Z"
    },
    "slideshow": {
     "slide_type": "skip"
    }
   },
   "outputs": [],
   "source": [
    "from DeltaDebugger import NoCallError, NotFailingError"
   ]
  },
  {
   "cell_type": "code",
   "execution_count": 152,
   "metadata": {
    "execution": {
     "iopub.execute_input": "2021-05-13T12:31:18.411651Z",
     "iopub.status.busy": "2021-05-13T12:31:18.410911Z",
     "iopub.status.idle": "2021-05-13T12:31:18.413158Z",
     "shell.execute_reply": "2021-05-13T12:31:18.413773Z"
    },
    "slideshow": {
     "slide_type": "subslide"
    }
   },
   "outputs": [],
   "source": [
    "class NotPassingError(ValueError):\n",
    "    pass"
   ]
  },
  {
   "cell_type": "code",
   "execution_count": 153,
   "metadata": {
    "execution": {
     "iopub.execute_input": "2021-05-13T12:31:18.420926Z",
     "iopub.status.busy": "2021-05-13T12:31:18.420346Z",
     "iopub.status.idle": "2021-05-13T12:31:18.422320Z",
     "shell.execute_reply": "2021-05-13T12:31:18.422735Z"
    },
    "slideshow": {
     "slide_type": "subslide"
    }
   },
   "outputs": [],
   "source": [
    "class ChangeDebugger(ChangeDebugger):\n",
    "    def after_collection(self) -> None:\n",
    "        \"\"\"Diagnostics.\"\"\"\n",
    "        if self.function() is None:\n",
    "            raise NoCallError(\"No function call observed\")\n",
    "        if self.exception() is None:\n",
    "            raise NotFailingError(f\"{self.format_call()} did not raise an exception\")\n",
    "\n",
    "        try:\n",
    "            self.test_patches([])\n",
    "        except Exception:\n",
    "            raise NotPassingError(f\"{self.format_call()} raised an exception in its passing version\")\n",
    "\n",
    "        try:\n",
    "            self.test_patches(self.patches())\n",
    "            raise NotFailingError(f\"{self.format_call()} did not raise an exception in failing version\")\n",
    "        except Exception:\n",
    "            pass\n",
    "\n",
    "        if self.log:\n",
    "            print(f\"Observed {self.format_call()}\" +\n",
    "                  f\" raising {self.format_exception(self.exception())}\")  "
   ]
  },
  {
   "cell_type": "code",
   "execution_count": 154,
   "metadata": {
    "execution": {
     "iopub.execute_input": "2021-05-13T12:31:18.428359Z",
     "iopub.status.busy": "2021-05-13T12:31:18.427501Z",
     "iopub.status.idle": "2021-05-13T12:31:18.429702Z",
     "shell.execute_reply": "2021-05-13T12:31:18.430118Z"
    },
    "slideshow": {
     "slide_type": "subslide"
    }
   },
   "outputs": [],
   "source": [
    "with ExpectError(NotPassingError):\n",
    "    with ChangeDebugger(version_1, version_2) as cd:\n",
    "        test_remove_html_markup()"
   ]
  },
  {
   "cell_type": "markdown",
   "metadata": {
    "slideshow": {
     "slide_type": "fragment"
    }
   },
   "source": [
    "With this, we're done. Enjoy debugging changes!"
   ]
  },
  {
   "cell_type": "markdown",
   "metadata": {
    "slideshow": {
     "slide_type": "slide"
    }
   },
   "source": [
    "## Synopsis"
   ]
  },
  {
   "cell_type": "markdown",
   "metadata": {
    "slideshow": {
     "slide_type": "fragment"
    }
   },
   "source": [
    "This chapter introduces a class `ChangeDebugger` that automatically determines failure-inducing code changes."
   ]
  },
  {
   "cell_type": "markdown",
   "metadata": {
    "slideshow": {
     "slide_type": "subslide"
    }
   },
   "source": [
    "### High-Level Interface\n",
    "\n",
    "You are given two Python source codes `source_pass` and `source_fail`, and a function `test()` that works using the definitions in `source_pass`, but raises an exception using the definitions in `source_fail`. Then, you can use `ChangeDebugger` as follows:\n",
    "\n",
    "```python\n",
    "with ChangeDebugger(source_pass, source_fail) as cd:\n",
    "    test()\n",
    "cd\n",
    "```\n",
    "\n",
    "This will produce the failure-inducing change between `source_pass` and `source_fail`, using [Delta Debugging](DeltaDebugger.ipynb) to determine minimal differences in patches applied."
   ]
  },
  {
   "cell_type": "code",
   "execution_count": 155,
   "metadata": {
    "execution": {
     "iopub.execute_input": "2021-05-13T12:31:18.434960Z",
     "iopub.status.busy": "2021-05-13T12:31:18.434204Z",
     "iopub.status.idle": "2021-05-13T12:31:18.436389Z",
     "shell.execute_reply": "2021-05-13T12:31:18.436852Z"
    },
    "slideshow": {
     "slide_type": "subslide"
    }
   },
   "outputs": [],
   "source": [
    "# ignore\n",
    "source_pass = version_1\n",
    "source_fail = version_2"
   ]
  },
  {
   "cell_type": "markdown",
   "metadata": {
    "slideshow": {
     "slide_type": "fragment"
    }
   },
   "source": [
    "Here is an example. The function `test()` passes (raises no exception) if `remove_html_markup()` is defined as follows:"
   ]
  },
  {
   "cell_type": "code",
   "execution_count": 156,
   "metadata": {
    "execution": {
     "iopub.execute_input": "2021-05-13T12:31:18.446507Z",
     "iopub.status.busy": "2021-05-13T12:31:18.445785Z",
     "iopub.status.idle": "2021-05-13T12:31:18.448319Z",
     "shell.execute_reply": "2021-05-13T12:31:18.448731Z"
    },
    "slideshow": {
     "slide_type": "subslide"
    }
   },
   "outputs": [
    {
     "name": "stdout",
     "output_type": "stream",
     "text": [
      "\u001b[34mdef\u001b[39;49;00m \u001b[32mremove_html_markup\u001b[39;49;00m(s):  \u001b[37m# type: ignore\u001b[39;49;00m\n",
      "    tag = \u001b[34mFalse\u001b[39;49;00m\n",
      "    out = \u001b[33m\"\u001b[39;49;00m\u001b[33m\"\u001b[39;49;00m\n",
      "\n",
      "    \u001b[34mfor\u001b[39;49;00m c \u001b[35min\u001b[39;49;00m s:\n",
      "        \u001b[34mif\u001b[39;49;00m c == \u001b[33m'\u001b[39;49;00m\u001b[33m<\u001b[39;49;00m\u001b[33m'\u001b[39;49;00m:    \u001b[37m# start of markup\u001b[39;49;00m\n",
      "            tag = \u001b[34mTrue\u001b[39;49;00m\n",
      "        \u001b[34melif\u001b[39;49;00m c == \u001b[33m'\u001b[39;49;00m\u001b[33m>\u001b[39;49;00m\u001b[33m'\u001b[39;49;00m:  \u001b[37m# end of markup\u001b[39;49;00m\n",
      "            tag = \u001b[34mFalse\u001b[39;49;00m\n",
      "        \u001b[34melif\u001b[39;49;00m \u001b[35mnot\u001b[39;49;00m tag:\n",
      "            out = out + c\n",
      "\n",
      "    \u001b[34mreturn\u001b[39;49;00m out"
     ]
    }
   ],
   "source": [
    "print_content(source_pass, '.py')"
   ]
  },
  {
   "cell_type": "code",
   "execution_count": 157,
   "metadata": {
    "execution": {
     "iopub.execute_input": "2021-05-13T12:31:18.452645Z",
     "iopub.status.busy": "2021-05-13T12:31:18.452082Z",
     "iopub.status.idle": "2021-05-13T12:31:18.454068Z",
     "shell.execute_reply": "2021-05-13T12:31:18.454510Z"
    },
    "slideshow": {
     "slide_type": "subslide"
    }
   },
   "outputs": [],
   "source": [
    "def test() -> None:\n",
    "    assert remove_html_markup('\"foo\"') == '\"foo\"'"
   ]
  },
  {
   "cell_type": "code",
   "execution_count": 158,
   "metadata": {
    "execution": {
     "iopub.execute_input": "2021-05-13T12:31:18.458535Z",
     "iopub.status.busy": "2021-05-13T12:31:18.457493Z",
     "iopub.status.idle": "2021-05-13T12:31:18.459450Z",
     "shell.execute_reply": "2021-05-13T12:31:18.459930Z"
    },
    "slideshow": {
     "slide_type": "fragment"
    }
   },
   "outputs": [],
   "source": [
    "exec(source_pass)\n",
    "test()"
   ]
  },
  {
   "cell_type": "markdown",
   "metadata": {
    "slideshow": {
     "slide_type": "fragment"
    }
   },
   "source": [
    "If `remove_html_markup()` is changed as follows, though, then\n",
    "`test()` raises an exception and fails:"
   ]
  },
  {
   "cell_type": "code",
   "execution_count": 159,
   "metadata": {
    "execution": {
     "iopub.execute_input": "2021-05-13T12:31:18.470323Z",
     "iopub.status.busy": "2021-05-13T12:31:18.469742Z",
     "iopub.status.idle": "2021-05-13T12:31:18.472020Z",
     "shell.execute_reply": "2021-05-13T12:31:18.472471Z"
    },
    "slideshow": {
     "slide_type": "subslide"
    }
   },
   "outputs": [
    {
     "name": "stdout",
     "output_type": "stream",
     "text": [
      "\u001b[34mdef\u001b[39;49;00m \u001b[32mremove_html_markup\u001b[39;49;00m(s):  \u001b[37m# type: ignore\u001b[39;49;00m\n",
      "    tag = \u001b[34mFalse\u001b[39;49;00m\n",
      "    quote = \u001b[34mFalse\u001b[39;49;00m\n",
      "    out = \u001b[33m\"\u001b[39;49;00m\u001b[33m\"\u001b[39;49;00m\n",
      "\n",
      "    \u001b[34mfor\u001b[39;49;00m c \u001b[35min\u001b[39;49;00m s:\n",
      "        \u001b[34mif\u001b[39;49;00m c == \u001b[33m'\u001b[39;49;00m\u001b[33m<\u001b[39;49;00m\u001b[33m'\u001b[39;49;00m \u001b[35mand\u001b[39;49;00m \u001b[35mnot\u001b[39;49;00m quote:\n",
      "            tag = \u001b[34mTrue\u001b[39;49;00m\n",
      "        \u001b[34melif\u001b[39;49;00m c == \u001b[33m'\u001b[39;49;00m\u001b[33m>\u001b[39;49;00m\u001b[33m'\u001b[39;49;00m \u001b[35mand\u001b[39;49;00m \u001b[35mnot\u001b[39;49;00m quote:\n",
      "            tag = \u001b[34mFalse\u001b[39;49;00m\n",
      "        \u001b[34melif\u001b[39;49;00m c == \u001b[33m'\u001b[39;49;00m\u001b[33m\"\u001b[39;49;00m\u001b[33m'\u001b[39;49;00m \u001b[35mor\u001b[39;49;00m c == \u001b[33m\"\u001b[39;49;00m\u001b[33m'\u001b[39;49;00m\u001b[33m\"\u001b[39;49;00m \u001b[35mand\u001b[39;49;00m tag:\n",
      "            quote = \u001b[35mnot\u001b[39;49;00m quote\n",
      "        \u001b[34melif\u001b[39;49;00m \u001b[35mnot\u001b[39;49;00m tag:\n",
      "            out = out + c\n",
      "\n",
      "    \u001b[34mreturn\u001b[39;49;00m out"
     ]
    }
   ],
   "source": [
    "print_content(source_fail, '.py')"
   ]
  },
  {
   "cell_type": "code",
   "execution_count": 160,
   "metadata": {
    "execution": {
     "iopub.execute_input": "2021-05-13T12:31:18.476631Z",
     "iopub.status.busy": "2021-05-13T12:31:18.475847Z",
     "iopub.status.idle": "2021-05-13T12:31:18.478420Z",
     "shell.execute_reply": "2021-05-13T12:31:18.478989Z"
    },
    "slideshow": {
     "slide_type": "subslide"
    }
   },
   "outputs": [
    {
     "name": "stderr",
     "output_type": "stream",
     "text": [
      "Traceback (most recent call last):\n",
      "  File \"<ipython-input-1-234ae8e4c288>\", line 3, in <module>\n",
      "    test()\n",
      "  File \"<ipython-input-1-3586595aba89>\", line 2, in test\n",
      "    assert remove_html_markup('\"foo\"') == '\"foo\"'\n",
      "AssertionError (expected)\n"
     ]
    }
   ],
   "source": [
    "exec(source_fail)\n",
    "with ExpectError(AssertionError):\n",
    "    test()"
   ]
  },
  {
   "cell_type": "markdown",
   "metadata": {
    "slideshow": {
     "slide_type": "fragment"
    }
   },
   "source": [
    "We can use `ChangeDebugger` to automatically identify the failure-inducing difference:"
   ]
  },
  {
   "cell_type": "code",
   "execution_count": 161,
   "metadata": {
    "execution": {
     "iopub.execute_input": "2021-05-13T12:31:18.487039Z",
     "iopub.status.busy": "2021-05-13T12:31:18.486314Z",
     "iopub.status.idle": "2021-05-13T12:31:18.489148Z",
     "shell.execute_reply": "2021-05-13T12:31:18.489607Z"
    },
    "slideshow": {
     "slide_type": "subslide"
    }
   },
   "outputs": [
    {
     "data": {
      "text/plain": [
       "@@ -215,24 +215,97 @@\n",
       " tag = False\n",
       "\n",
       "+        elif c == '\"' or c == \"'\" and tag:\n",
       "            quote = not quote\n",
       "\n",
       "         elif"
      ]
     },
     "execution_count": 1,
     "metadata": {},
     "output_type": "execute_result"
    }
   ],
   "source": [
    "with ChangeDebugger(source_pass, source_fail) as cd:\n",
    "    test()\n",
    "cd"
   ]
  },
  {
   "cell_type": "markdown",
   "metadata": {
    "slideshow": {
     "slide_type": "fragment"
    }
   },
   "source": [
    "The lines prefixed with `+` from are the ones in `source_fail` that cause the failure when added. (They also are the ones that should be fixed.)"
   ]
  },
  {
   "cell_type": "markdown",
   "metadata": {
    "slideshow": {
     "slide_type": "subslide"
    }
   },
   "source": [
    "### Programmatic Interface\n",
    "\n",
    "For more details or more automation, use the programmatic interface. The method `min_patches()` returns a triple (`pass_patches`, `fail_patches`, `diffs`) where\n",
    "\n",
    "* applying `pass_patches` still make the call pass\n",
    "* applying `fail_patches` causes the call to fail\n",
    "* `diffs` is the (minimal) difference between the two.\n",
    "\n",
    "The patches come as list of `patch_obj` objects, as defined by Google's [diff-match-patch library](https://github.com/google/diff-match-patch)."
   ]
  },
  {
   "cell_type": "code",
   "execution_count": 162,
   "metadata": {
    "execution": {
     "iopub.execute_input": "2021-05-13T12:31:18.496404Z",
     "iopub.status.busy": "2021-05-13T12:31:18.495675Z",
     "iopub.status.idle": "2021-05-13T12:31:18.497917Z",
     "shell.execute_reply": "2021-05-13T12:31:18.498362Z"
    },
    "slideshow": {
     "slide_type": "subslide"
    }
   },
   "outputs": [],
   "source": [
    "pass_patches, fail_patches, diffs = cd.min_patches()"
   ]
  },
  {
   "cell_type": "markdown",
   "metadata": {
    "slideshow": {
     "slide_type": "fragment"
    }
   },
   "source": [
    "One can apply all patches in `pass_patches` and still not cause the test to fail:"
   ]
  },
  {
   "cell_type": "code",
   "execution_count": 163,
   "metadata": {
    "execution": {
     "iopub.execute_input": "2021-05-13T12:31:18.511327Z",
     "iopub.status.busy": "2021-05-13T12:31:18.510733Z",
     "iopub.status.idle": "2021-05-13T12:31:18.513142Z",
     "shell.execute_reply": "2021-05-13T12:31:18.513787Z"
    },
    "slideshow": {
     "slide_type": "subslide"
    }
   },
   "outputs": [
    {
     "name": "stdout",
     "output_type": "stream",
     "text": [
      "@@ -\u001b[34m48\u001b[39;49;00m,\u001b[34m24\u001b[39;49;00m +\u001b[34m48\u001b[39;49;00m,\u001b[34m42\u001b[39;49;00m @@\n",
      " tag = \u001b[34mFalse\u001b[39;49;00m\n",
      "\n",
      "+    quote = \u001b[34mFalse\u001b[39;49;00m\n",
      "\n",
      "     out = \u001b[33m\"\u001b[39;49;00m\u001b[33m\"\u001b[39;49;00m\n",
      "@@ -\u001b[34m104\u001b[39;49;00m,\u001b[34m50\u001b[39;49;00m +\u001b[34m104\u001b[39;49;00m,\u001b[34m43\u001b[39;49;00m @@\n",
      "  s:\n",
      "\n",
      "-        \u001b[34mif\u001b[39;49;00m c == \u001b[33m'\u001b[39;49;00m\u001b[33m<\u001b[39;49;00m\u001b[33m'\u001b[39;49;00m:    \u001b[37m# start of markup\u001b[39;49;00m\n",
      "\n",
      "+        \u001b[34mif\u001b[39;49;00m c == \u001b[33m'\u001b[39;49;00m\u001b[33m<\u001b[39;49;00m\u001b[33m'\u001b[39;49;00m \u001b[35mand\u001b[39;49;00m \u001b[35mnot\u001b[39;49;00m quote:\n"
     ]
    }
   ],
   "source": [
    "for p in pass_patches:\n",
    "    print_patch(p)"
   ]
  },
  {
   "cell_type": "markdown",
   "metadata": {
    "slideshow": {
     "slide_type": "subslide"
    }
   },
   "source": [
    "However, as soon as we also apply the patches in `diffs`, we get the failure. (This is also what is shown when we output a `ChangeDebugger`.)"
   ]
  },
  {
   "cell_type": "code",
   "execution_count": 164,
   "metadata": {
    "execution": {
     "iopub.execute_input": "2021-05-13T12:31:18.524159Z",
     "iopub.status.busy": "2021-05-13T12:31:18.523258Z",
     "iopub.status.idle": "2021-05-13T12:31:18.526264Z",
     "shell.execute_reply": "2021-05-13T12:31:18.526840Z"
    },
    "slideshow": {
     "slide_type": "fragment"
    }
   },
   "outputs": [
    {
     "name": "stdout",
     "output_type": "stream",
     "text": [
      "@@ -\u001b[34m215\u001b[39;49;00m,\u001b[34m24\u001b[39;49;00m +\u001b[34m215\u001b[39;49;00m,\u001b[34m97\u001b[39;49;00m @@\n",
      " tag = \u001b[34mFalse\u001b[39;49;00m\n",
      "\n",
      "+        \u001b[34melif\u001b[39;49;00m c == \u001b[33m'\u001b[39;49;00m\u001b[33m\"\u001b[39;49;00m\u001b[33m'\u001b[39;49;00m \u001b[35mor\u001b[39;49;00m c == \u001b[33m\"\u001b[39;49;00m\u001b[33m'\u001b[39;49;00m\u001b[33m\"\u001b[39;49;00m \u001b[35mand\u001b[39;49;00m tag:\n",
      "            quote = \u001b[35mnot\u001b[39;49;00m quote\n",
      "\n",
      "         \u001b[34melif\u001b[39;49;00m\n"
     ]
    }
   ],
   "source": [
    "for p in diffs:\n",
    "    print_patch(p)"
   ]
  },
  {
   "cell_type": "markdown",
   "metadata": {
    "slideshow": {
     "slide_type": "fragment"
    }
   },
   "source": [
    "The full set of methods in `ChangeDebugger` is shown below."
   ]
  },
  {
   "cell_type": "code",
   "execution_count": 165,
   "metadata": {
    "execution": {
     "iopub.execute_input": "2021-05-13T12:31:18.530516Z",
     "iopub.status.busy": "2021-05-13T12:31:18.529858Z",
     "iopub.status.idle": "2021-05-13T12:31:18.532080Z",
     "shell.execute_reply": "2021-05-13T12:31:18.532529Z"
    },
    "slideshow": {
     "slide_type": "subslide"
    }
   },
   "outputs": [],
   "source": [
    "# ignore\n",
    "from ClassDiagram import display_class_hierarchy"
   ]
  },
  {
   "cell_type": "code",
   "execution_count": 166,
   "metadata": {
    "execution": {
     "iopub.execute_input": "2021-05-13T12:31:18.546652Z",
     "iopub.status.busy": "2021-05-13T12:31:18.545994Z",
     "iopub.status.idle": "2021-05-13T12:31:19.477893Z",
     "shell.execute_reply": "2021-05-13T12:31:19.478593Z"
    },
    "slideshow": {
     "slide_type": "subslide"
    }
   },
   "outputs": [
    {
     "data": {
      "image/svg+xml": [
       "<?xml version=\"1.0\" encoding=\"UTF-8\" standalone=\"no\"?>\n",
       "<!DOCTYPE svg PUBLIC \"-//W3C//DTD SVG 1.1//EN\"\n",
       " \"http://www.w3.org/Graphics/SVG/1.1/DTD/svg11.dtd\">\n",
       "<!-- Generated by graphviz version 2.40.1 (20161225.0304)\n",
       " -->\n",
       "<!-- Title: %3 Pages: 1 -->\n",
       "<svg width=\"296pt\" height=\"547pt\"\n",
       " viewBox=\"0.00 0.00 295.50 547.00\" xmlns=\"http://www.w3.org/2000/svg\" xmlns:xlink=\"http://www.w3.org/1999/xlink\">\n",
       "<g id=\"graph0\" class=\"graph\" transform=\"scale(1 1) rotate(0) translate(4 543)\">\n",
       "<title>%3</title>\n",
       "<g id=\"a_graph0\"><a xlink:title=\"ChangeDebugger class hierarchy\">\n",
       "<polygon fill=\"#ffffff\" stroke=\"transparent\" points=\"-4,4 -4,-543 291.5,-543 291.5,4 -4,4\"/>\n",
       "</a>\n",
       "</g>\n",
       "<!-- ChangeDebugger -->\n",
       "<g id=\"node1\" class=\"node\">\n",
       "<title>ChangeDebugger</title>\n",
       "<g id=\"a_node1\"><a xlink:href=\"#\" xlink:title=\"class ChangeDebugger:&#10;Collect an exception&#45;raising function call f().&#10;Use as `with CallCollector(): f()`\">\n",
       "<polygon fill=\"none\" stroke=\"#000000\" points=\"15.5,-.5 15.5,-130.5 151.5,-130.5 151.5,-.5 15.5,-.5\"/>\n",
       "<text text-anchor=\"start\" x=\"23.5\" y=\"-116.3\" font-family=\"Raleway, Helvetica, Arial, sans-serif\" font-weight=\"bold\" font-size=\"14.00\" fill=\"#6a0dad\">ChangeDebugger</text>\n",
       "<polyline fill=\"none\" stroke=\"#000000\" points=\"15.5,-107.5 151.5,-107.5 \"/>\n",
       "<g id=\"a_node1_0\"><a xlink:href=\"#\" xlink:title=\"ChangeDebugger\">\n",
       "<g id=\"a_node1_1\"><a xlink:href=\"#\" xlink:title=\"__enter__(self) &#45;&gt; Any:&#10;Called at begin of a `with` block. Checks if current source fails.\">\n",
       "<text text-anchor=\"start\" x=\"29.5\" y=\"-96\" font-family=\"'Fira Mono', 'Source Code Pro', 'Courier', monospace\" font-weight=\"bold\" font-style=\"italic\" font-size=\"10.00\" fill=\"#000000\">__enter__()</text>\n",
       "</a>\n",
       "</g>\n",
       "<g id=\"a_node1_2\"><a xlink:href=\"#\" xlink:title=\"__init__(self, pass_source:str, fail_source:str, **ddargs:Any) &#45;&gt; None:&#10;Constructor. Takes a passing source file (`pass_source`)&#10;and a failing source file (`fail_source`).&#10;Additional arguments are passed to `DeltaDebugger` constructor.\">\n",
       "<text text-anchor=\"start\" x=\"29.5\" y=\"-85\" font-family=\"'Fira Mono', 'Source Code Pro', 'Courier', monospace\" font-weight=\"bold\" font-style=\"italic\" font-size=\"10.00\" fill=\"#000000\">__init__()</text>\n",
       "</a>\n",
       "</g>\n",
       "<g id=\"a_node1_3\"><a xlink:href=\"#\" xlink:title=\"__repr__(self) &#45;&gt; str:&#10;Return readable list of minimal patches\">\n",
       "<text text-anchor=\"start\" x=\"29.5\" y=\"-74\" font-family=\"'Fira Mono', 'Source Code Pro', 'Courier', monospace\" font-weight=\"bold\" font-size=\"10.00\" fill=\"#000000\">__repr__()</text>\n",
       "</a>\n",
       "</g>\n",
       "<g id=\"a_node1_4\"><a xlink:href=\"#\" xlink:title=\"fail_source(self) &#45;&gt; str:&#10;Return the failing source file.\">\n",
       "<text text-anchor=\"start\" x=\"29.5\" y=\"-63\" font-family=\"'Fira Mono', 'Source Code Pro', 'Courier', monospace\" font-weight=\"bold\" font-size=\"10.00\" fill=\"#000000\">fail_source()</text>\n",
       "</a>\n",
       "</g>\n",
       "<g id=\"a_node1_5\"><a xlink:href=\"#\" xlink:title=\"min_patches(self) &#45;&gt; Tuple[List[diff_match_patch.diff_match_patch.patch_obj], List[diff_match_patch.diff_match_patch.patch_obj], List[diff_match_patch.diff_match_patch.patch_obj]]:&#10;Compute a minimal set of patches.&#10;Returns a triple (`pass_patches`, `fail_patches`, `diff_patches`)&#10;where `diff_patches` is the minimal difference between&#10;the set `pass_patches` (which, when applied, make the test pass) and&#10;the set `fail_patches` (which, when applied, make the test fail).\">\n",
       "<text text-anchor=\"start\" x=\"29.5\" y=\"-52\" font-family=\"'Fira Mono', 'Source Code Pro', 'Courier', monospace\" font-weight=\"bold\" font-size=\"10.00\" fill=\"#000000\">min_patches()</text>\n",
       "</a>\n",
       "</g>\n",
       "<g id=\"a_node1_6\"><a xlink:href=\"#\" xlink:title=\"pass_source(self) &#45;&gt; str:&#10;Return the passing source file.\">\n",
       "<text text-anchor=\"start\" x=\"29.5\" y=\"-41\" font-family=\"'Fira Mono', 'Source Code Pro', 'Courier', monospace\" font-weight=\"bold\" font-size=\"10.00\" fill=\"#000000\">pass_source()</text>\n",
       "</a>\n",
       "</g>\n",
       "<g id=\"a_node1_7\"><a xlink:href=\"#\" xlink:title=\"patches(self) &#45;&gt; List[diff_match_patch.diff_match_patch.patch_obj]:&#10;Return the diff between passing and failing source files.\">\n",
       "<text text-anchor=\"start\" x=\"29.5\" y=\"-30\" font-family=\"'Fira Mono', 'Source Code Pro', 'Courier', monospace\" font-weight=\"bold\" font-size=\"10.00\" fill=\"#000000\">patches()</text>\n",
       "</a>\n",
       "</g>\n",
       "<g id=\"a_node1_8\"><a xlink:href=\"#\" xlink:title=\"after_collection(self) &#45;&gt; None:&#10;Diagnostics.\">\n",
       "<text text-anchor=\"start\" x=\"29.5\" y=\"-19\" font-family=\"'Fira Mono', 'Source Code Pro', 'Courier', monospace\" font-style=\"italic\" font-size=\"10.00\" fill=\"#000000\">after_collection()</text>\n",
       "</a>\n",
       "</g>\n",
       "<g id=\"a_node1_9\"><a xlink:href=\"#\" xlink:title=\"test_patches(self, patches:List[diff_match_patch.diff_match_patch.patch_obj]) &#45;&gt; None\">\n",
       "<text text-anchor=\"start\" x=\"29.5\" y=\"-7\" font-family=\"'Fira Mono', 'Source Code Pro', 'Courier', monospace\" font-size=\"10.00\" fill=\"#000000\">test_patches()</text>\n",
       "</a>\n",
       "</g>\n",
       "</a>\n",
       "</g>\n",
       "</a>\n",
       "</g>\n",
       "</g>\n",
       "<!-- CallCollector -->\n",
       "<g id=\"node2\" class=\"node\">\n",
       "<title>CallCollector</title>\n",
       "<g id=\"a_node2\"><a xlink:href=\"DeltaDebugger.ipynb\" xlink:title=\"class CallCollector:&#10;Collect an exception&#45;raising function call f().&#10;Use as `with CallCollector(): f()`\">\n",
       "<polygon fill=\"none\" stroke=\"#000000\" points=\"21,-167.5 21,-330.5 146,-330.5 146,-167.5 21,-167.5\"/>\n",
       "<text text-anchor=\"start\" x=\"38.5\" y=\"-316.3\" font-family=\"Raleway, Helvetica, Arial, sans-serif\" font-weight=\"bold\" font-size=\"14.00\" fill=\"#6a0dad\">CallCollector</text>\n",
       "<polyline fill=\"none\" stroke=\"#000000\" points=\"21,-307.5 146,-307.5 \"/>\n",
       "<g id=\"a_node2_10\"><a xlink:href=\"#\" xlink:title=\"CallCollector\">\n",
       "<g id=\"a_node2_11\"><a xlink:href=\"DeltaDebugger.ipynb\" xlink:title=\"__enter__(self) &#45;&gt; Any:&#10;Called at begin of `with` block. Turn tracing on.\">\n",
       "<text text-anchor=\"start\" x=\"29.5\" y=\"-296.5\" font-family=\"'Fira Mono', 'Source Code Pro', 'Courier', monospace\" font-weight=\"bold\" font-style=\"italic\" font-size=\"10.00\" fill=\"#000000\">__enter__()</text>\n",
       "</a>\n",
       "</g>\n",
       "<g id=\"a_node2_12\"><a xlink:href=\"DeltaDebugger.ipynb\" xlink:title=\"__exit__(self, exc_tp:Type, exc_value:BaseException, exc_traceback:traceback) &#45;&gt; Union[bool, NoneType]:&#10;Called at end of `with` block. Turn tracing off.\">\n",
       "<text text-anchor=\"start\" x=\"29.5\" y=\"-285.5\" font-family=\"'Fira Mono', 'Source Code Pro', 'Courier', monospace\" font-weight=\"bold\" font-size=\"10.00\" fill=\"#000000\">__exit__()</text>\n",
       "</a>\n",
       "</g>\n",
       "<g id=\"a_node2_13\"><a xlink:href=\"DeltaDebugger.ipynb\" xlink:title=\"__init__(self) &#45;&gt; None:&#10;Initialize collector\">\n",
       "<text text-anchor=\"start\" x=\"29.5\" y=\"-274.5\" font-family=\"'Fira Mono', 'Source Code Pro', 'Courier', monospace\" font-weight=\"bold\" font-style=\"italic\" font-size=\"10.00\" fill=\"#000000\">__init__()</text>\n",
       "</a>\n",
       "</g>\n",
       "<g id=\"a_node2_14\"><a xlink:href=\"DeltaDebugger.ipynb\" xlink:title=\"args(self) &#45;&gt; Dict[str, Any]:&#10;Return the dictionary of collected arguments.\">\n",
       "<text text-anchor=\"start\" x=\"29.5\" y=\"-263.5\" font-family=\"'Fira Mono', 'Source Code Pro', 'Courier', monospace\" font-weight=\"bold\" font-size=\"10.00\" fill=\"#000000\">args()</text>\n",
       "</a>\n",
       "</g>\n",
       "<g id=\"a_node2_15\"><a xlink:href=\"DeltaDebugger.ipynb\" xlink:title=\"call(self, new_args:Union[Dict[str, Any], NoneType]=None) &#45;&gt; Any:&#10;Call collected function. If `new_args` is given,&#10;override arguments from its {var: value} entries.\">\n",
       "<text text-anchor=\"start\" x=\"29.5\" y=\"-252.5\" font-family=\"'Fira Mono', 'Source Code Pro', 'Courier', monospace\" font-weight=\"bold\" font-size=\"10.00\" fill=\"#000000\">call()</text>\n",
       "</a>\n",
       "</g>\n",
       "<g id=\"a_node2_16\"><a xlink:href=\"DeltaDebugger.ipynb\" xlink:title=\"exception(self) &#45;&gt; Union[BaseException, NoneType]:&#10;Return the exception produced, or `None` if none.\">\n",
       "<text text-anchor=\"start\" x=\"29.5\" y=\"-241.5\" font-family=\"'Fira Mono', 'Source Code Pro', 'Courier', monospace\" font-weight=\"bold\" font-size=\"10.00\" fill=\"#000000\">exception()</text>\n",
       "</a>\n",
       "</g>\n",
       "<g id=\"a_node2_17\"><a xlink:href=\"DeltaDebugger.ipynb\" xlink:title=\"function(self) &#45;&gt; Callable:&#10;Return the function called.\">\n",
       "<text text-anchor=\"start\" x=\"29.5\" y=\"-230.5\" font-family=\"'Fira Mono', 'Source Code Pro', 'Courier', monospace\" font-weight=\"bold\" font-size=\"10.00\" fill=\"#000000\">function()</text>\n",
       "</a>\n",
       "</g>\n",
       "<g id=\"a_node2_18\"><a xlink:href=\"DeltaDebugger.ipynb\" xlink:title=\"after_collection(self) &#45;&gt; None:&#10;Called after collection. To be defined in subclasses.\">\n",
       "<text text-anchor=\"start\" x=\"29.5\" y=\"-219.5\" font-family=\"'Fira Mono', 'Source Code Pro', 'Courier', monospace\" font-style=\"italic\" font-size=\"10.00\" fill=\"#000000\">after_collection()</text>\n",
       "</a>\n",
       "</g>\n",
       "<g id=\"a_node2_19\"><a xlink:href=\"DeltaDebugger.ipynb\" xlink:title=\"format_call(self, args:Union[Dict[str, Any], NoneType]=None) &#45;&gt; str:&#10;Return a string representing a call of the function with given args.\">\n",
       "<text text-anchor=\"start\" x=\"29.5\" y=\"-207.5\" font-family=\"'Fira Mono', 'Source Code Pro', 'Courier', monospace\" font-size=\"10.00\" fill=\"#000000\">format_call()</text>\n",
       "</a>\n",
       "</g>\n",
       "<g id=\"a_node2_20\"><a xlink:href=\"DeltaDebugger.ipynb\" xlink:title=\"format_exception(self, exc:Union[BaseException, NoneType]=None) &#45;&gt; str:&#10;Return a string representing the given exception.\">\n",
       "<text text-anchor=\"start\" x=\"29.5\" y=\"-196.5\" font-family=\"'Fira Mono', 'Source Code Pro', 'Courier', monospace\" font-size=\"10.00\" fill=\"#000000\">format_exception()</text>\n",
       "</a>\n",
       "</g>\n",
       "<g id=\"a_node2_21\"><a xlink:href=\"DeltaDebugger.ipynb\" xlink:title=\"init(self) &#45;&gt; None:&#10;Reset for new collection.\">\n",
       "<text text-anchor=\"start\" x=\"29.5\" y=\"-185.5\" font-family=\"'Fira Mono', 'Source Code Pro', 'Courier', monospace\" font-size=\"10.00\" fill=\"#000000\">init()</text>\n",
       "</a>\n",
       "</g>\n",
       "<g id=\"a_node2_22\"><a xlink:href=\"DeltaDebugger.ipynb\" xlink:title=\"traceit(self, frame:frame, event:str, arg:Any) &#45;&gt; None:&#10;Tracing function. Collect first call, then turn tracing off.\">\n",
       "<text text-anchor=\"start\" x=\"29.5\" y=\"-174.5\" font-family=\"'Fira Mono', 'Source Code Pro', 'Courier', monospace\" font-size=\"10.00\" fill=\"#000000\">traceit()</text>\n",
       "</a>\n",
       "</g>\n",
       "</a>\n",
       "</g>\n",
       "</a>\n",
       "</g>\n",
       "</g>\n",
       "<!-- ChangeDebugger&#45;&gt;CallCollector -->\n",
       "<g id=\"edge1\" class=\"edge\">\n",
       "<title>ChangeDebugger&#45;&gt;CallCollector</title>\n",
       "<path fill=\"none\" stroke=\"#000000\" d=\"M83.5,-130.7119C83.5,-139.3192 83.5,-148.2675 83.5,-157.2161\"/>\n",
       "<polygon fill=\"none\" stroke=\"#000000\" points=\"80.0001,-157.3015 83.5,-167.3015 87.0001,-157.3015 80.0001,-157.3015\"/>\n",
       "</g>\n",
       "<!-- StackInspector -->\n",
       "<g id=\"node3\" class=\"node\">\n",
       "<title>StackInspector</title>\n",
       "<g id=\"a_node3\"><a xlink:href=\"StackInspector.ipynb\" xlink:title=\"class StackInspector:&#10;Provide functions to inspect the stack\">\n",
       "<polygon fill=\"none\" stroke=\"#000000\" points=\"0,-367.5 0,-538.5 167,-538.5 167,-367.5 0,-367.5\"/>\n",
       "<text text-anchor=\"start\" x=\"32.5\" y=\"-524.3\" font-family=\"Raleway, Helvetica, Arial, sans-serif\" font-weight=\"bold\" font-size=\"14.00\" fill=\"#6a0dad\">StackInspector</text>\n",
       "<polyline fill=\"none\" stroke=\"#000000\" points=\"0,-515.5 167,-515.5 \"/>\n",
       "<g id=\"a_node3_23\"><a xlink:href=\"#\" xlink:title=\"StackInspector\">\n",
       "<g id=\"a_node3_24\"><a xlink:href=\"StackInspector.ipynb\" xlink:title=\"_generated_function_cache = {(&#39;test_patches&#39;, 2): &lt;function test_patches at 0x7f8ce74478c8&gt;}\">\n",
       "<text text-anchor=\"start\" x=\"8.5\" y=\"-503\" font-family=\"'Fira Mono', 'Source Code Pro', 'Courier', monospace\" font-size=\"10.00\" fill=\"#000000\">_generated_function_cache</text>\n",
       "</a>\n",
       "</g>\n",
       "</a>\n",
       "</g>\n",
       "<polyline fill=\"none\" stroke=\"#000000\" points=\"0,-496.5 167,-496.5 \"/>\n",
       "<g id=\"a_node3_25\"><a xlink:href=\"#\" xlink:title=\"StackInspector\">\n",
       "<g id=\"a_node3_26\"><a xlink:href=\"StackInspector.ipynb\" xlink:title=\"caller_frame(self) &#45;&gt; frame:&#10;Return the frame of the caller.\">\n",
       "<text text-anchor=\"start\" x=\"26.5\" y=\"-484\" font-family=\"'Fira Mono', 'Source Code Pro', 'Courier', monospace\" font-size=\"10.00\" fill=\"#000000\">caller_frame()</text>\n",
       "</a>\n",
       "</g>\n",
       "<g id=\"a_node3_27\"><a xlink:href=\"StackInspector.ipynb\" xlink:title=\"caller_function(self) &#45;&gt; Callable:&#10;Return the calling function\">\n",
       "<text text-anchor=\"start\" x=\"26.5\" y=\"-473\" font-family=\"'Fira Mono', 'Source Code Pro', 'Courier', monospace\" font-size=\"10.00\" fill=\"#000000\">caller_function()</text>\n",
       "</a>\n",
       "</g>\n",
       "<g id=\"a_node3_28\"><a xlink:href=\"StackInspector.ipynb\" xlink:title=\"caller_globals(self) &#45;&gt; Dict[str, Any]:&#10;Return the globals() environment of the caller.\">\n",
       "<text text-anchor=\"start\" x=\"26.5\" y=\"-462\" font-family=\"'Fira Mono', 'Source Code Pro', 'Courier', monospace\" font-size=\"10.00\" fill=\"#000000\">caller_globals()</text>\n",
       "</a>\n",
       "</g>\n",
       "<g id=\"a_node3_29\"><a xlink:href=\"StackInspector.ipynb\" xlink:title=\"caller_locals(self) &#45;&gt; Dict[str, Any]:&#10;Return the locals() environment of the caller.\">\n",
       "<text text-anchor=\"start\" x=\"26.5\" y=\"-451\" font-family=\"'Fira Mono', 'Source Code Pro', 'Courier', monospace\" font-size=\"10.00\" fill=\"#000000\">caller_locals()</text>\n",
       "</a>\n",
       "</g>\n",
       "<g id=\"a_node3_30\"><a xlink:href=\"StackInspector.ipynb\" xlink:title=\"caller_location(self) &#45;&gt; Tuple[Callable, int]:&#10;Return the location (func, lineno) of the caller.\">\n",
       "<text text-anchor=\"start\" x=\"26.5\" y=\"-440\" font-family=\"'Fira Mono', 'Source Code Pro', 'Courier', monospace\" font-size=\"10.00\" fill=\"#000000\">caller_location()</text>\n",
       "</a>\n",
       "</g>\n",
       "<g id=\"a_node3_31\"><a xlink:href=\"StackInspector.ipynb\" xlink:title=\"create_function(self, frame:frame) &#45;&gt; Callable:&#10;Create function for given frame\">\n",
       "<text text-anchor=\"start\" x=\"26.5\" y=\"-429\" font-family=\"'Fira Mono', 'Source Code Pro', 'Courier', monospace\" font-size=\"10.00\" fill=\"#000000\">create_function()</text>\n",
       "</a>\n",
       "</g>\n",
       "<g id=\"a_node3_32\"><a xlink:href=\"StackInspector.ipynb\" xlink:title=\"is_internal_error(self, exc_tp:Type, exc_value:BaseException, exc_traceback:traceback) &#45;&gt; bool:&#10;Return True if exception was raised from `StackInspector` or a subclass.\">\n",
       "<text text-anchor=\"start\" x=\"26.5\" y=\"-418\" font-family=\"'Fira Mono', 'Source Code Pro', 'Courier', monospace\" font-size=\"10.00\" fill=\"#000000\">is_internal_error()</text>\n",
       "</a>\n",
       "</g>\n",
       "<g id=\"a_node3_33\"><a xlink:href=\"StackInspector.ipynb\" xlink:title=\"our_frame(self, frame:frame) &#45;&gt; bool:&#10;Return true if `frame` is in the current (inspecting) class.\">\n",
       "<text text-anchor=\"start\" x=\"26.5\" y=\"-407\" font-family=\"'Fira Mono', 'Source Code Pro', 'Courier', monospace\" font-size=\"10.00\" fill=\"#000000\">our_frame()</text>\n",
       "</a>\n",
       "</g>\n",
       "<g id=\"a_node3_34\"><a xlink:href=\"StackInspector.ipynb\" xlink:title=\"search_frame(self, name:str, frame:Union[frame, NoneType]=None) &#45;&gt; Tuple[Union[frame, NoneType], Union[Callable, NoneType]]:&#10;Return a pair (`frame`, `item`)&#10;in which the function `name` is defined as `item`.\">\n",
       "<text text-anchor=\"start\" x=\"26.5\" y=\"-396\" font-family=\"'Fira Mono', 'Source Code Pro', 'Courier', monospace\" font-size=\"10.00\" fill=\"#000000\">search_frame()</text>\n",
       "</a>\n",
       "</g>\n",
       "<g id=\"a_node3_35\"><a xlink:href=\"StackInspector.ipynb\" xlink:title=\"search_func(self, name:str, frame:Union[frame, NoneType]=None) &#45;&gt; Union[Callable, NoneType]:&#10;Search in callers for a definition of the function `name`\">\n",
       "<text text-anchor=\"start\" x=\"26.5\" y=\"-385\" font-family=\"'Fira Mono', 'Source Code Pro', 'Courier', monospace\" font-size=\"10.00\" fill=\"#000000\">search_func()</text>\n",
       "</a>\n",
       "</g>\n",
       "<g id=\"a_node3_36\"><a xlink:href=\"StackInspector.ipynb\" xlink:title=\"unknown(self) &#45;&gt; None\">\n",
       "<text text-anchor=\"start\" x=\"26.5\" y=\"-374\" font-family=\"'Fira Mono', 'Source Code Pro', 'Courier', monospace\" font-size=\"10.00\" fill=\"#000000\">unknown()</text>\n",
       "</a>\n",
       "</g>\n",
       "</a>\n",
       "</g>\n",
       "</a>\n",
       "</g>\n",
       "</g>\n",
       "<!-- CallCollector&#45;&gt;StackInspector -->\n",
       "<g id=\"edge2\" class=\"edge\">\n",
       "<title>CallCollector&#45;&gt;StackInspector</title>\n",
       "<path fill=\"none\" stroke=\"#000000\" d=\"M83.5,-330.5057C83.5,-339.2948 83.5,-348.2957 83.5,-357.2325\"/>\n",
       "<polygon fill=\"none\" stroke=\"#000000\" points=\"80.0001,-357.2806 83.5,-367.2806 87.0001,-357.2806 80.0001,-357.2806\"/>\n",
       "</g>\n",
       "<!-- Legend -->\n",
       "<g id=\"node4\" class=\"node\">\n",
       "<title>Legend</title>\n",
       "<text text-anchor=\"start\" x=\"169.5\" y=\"-83\" font-family=\"Raleway, Helvetica, Arial, sans-serif\" font-weight=\"bold\" font-size=\"10.00\" fill=\"#6a0dad\">Legend</text>\n",
       "<text text-anchor=\"start\" x=\"169.5\" y=\"-73\" font-family=\"Raleway, Helvetica, Arial, sans-serif\" font-size=\"10.00\" fill=\"#000000\">• </text>\n",
       "<text text-anchor=\"start\" x=\"176.5\" y=\"-73\" font-family=\"'Fira Mono', 'Source Code Pro', 'Courier', monospace\" font-weight=\"bold\" font-size=\"8.00\" fill=\"#000000\">public_method()</text>\n",
       "<text text-anchor=\"start\" x=\"169.5\" y=\"-63\" font-family=\"Raleway, Helvetica, Arial, sans-serif\" font-size=\"10.00\" fill=\"#000000\">• </text>\n",
       "<text text-anchor=\"start\" x=\"176.5\" y=\"-63\" font-family=\"'Fira Mono', 'Source Code Pro', 'Courier', monospace\" font-size=\"8.00\" fill=\"#000000\">private_method()</text>\n",
       "<text text-anchor=\"start\" x=\"169.5\" y=\"-53\" font-family=\"Raleway, Helvetica, Arial, sans-serif\" font-size=\"10.00\" fill=\"#000000\">• </text>\n",
       "<text text-anchor=\"start\" x=\"176.5\" y=\"-53\" font-family=\"'Fira Mono', 'Source Code Pro', 'Courier', monospace\" font-style=\"italic\" font-size=\"8.00\" fill=\"#000000\">overloaded_method()</text>\n",
       "<text text-anchor=\"start\" x=\"169.5\" y=\"-43.8\" font-family=\"Helvetica,sans-Serif\" font-size=\"9.00\" fill=\"#000000\">Hover over names to see doc</text>\n",
       "</g>\n",
       "</g>\n",
       "</svg>\n"
      ],
      "text/plain": [
       "<graphviz.dot.Digraph at 0x7f8ce73e3fd0>"
      ]
     },
     "execution_count": 1,
     "metadata": {},
     "output_type": "execute_result"
    }
   ],
   "source": [
    "# ignore\n",
    "display_class_hierarchy([ChangeDebugger],\n",
    "                        public_methods=[\n",
    "                            CallCollector.__init__,\n",
    "                            CallCollector.__enter__,\n",
    "                            CallCollector.__exit__,\n",
    "                            CallCollector.call,  # type: ignore\n",
    "                            CallCollector.args,\n",
    "                            CallCollector.function,\n",
    "                            CallCollector.exception,\n",
    "                            ChangeDebugger.__init__,\n",
    "                            ChangeDebugger.min_patches,\n",
    "                            ChangeDebugger.patches,\n",
    "                            ChangeDebugger.pass_source,\n",
    "                            ChangeDebugger.fail_source,\n",
    "                            ChangeDebugger.__repr__,\n",
    "                            ChangeDebugger.__enter__\n",
    "                        ],\n",
    "                        project='debuggingbook')"
   ]
  },
  {
   "cell_type": "markdown",
   "metadata": {
    "slideshow": {
     "slide_type": "subslide"
    }
   },
   "source": [
    "### Supporting Functions"
   ]
  },
  {
   "cell_type": "markdown",
   "metadata": {
    "slideshow": {
     "slide_type": "fragment"
    }
   },
   "source": [
    "`ChangeDebugger` relies on lower level `patch()` and `diff()` functions.\n",
    "\n",
    "To apply patch objects on source code, use the `patch()` function. It takes a source code and a list of patches to be applied."
   ]
  },
  {
   "cell_type": "code",
   "execution_count": 167,
   "metadata": {
    "execution": {
     "iopub.execute_input": "2021-05-13T12:31:19.489662Z",
     "iopub.status.busy": "2021-05-13T12:31:19.489036Z",
     "iopub.status.idle": "2021-05-13T12:31:19.491156Z",
     "shell.execute_reply": "2021-05-13T12:31:19.491569Z"
    },
    "slideshow": {
     "slide_type": "subslide"
    }
   },
   "outputs": [
    {
     "name": "stdout",
     "output_type": "stream",
     "text": [
      "\u001b[34mdef\u001b[39;49;00m \u001b[32mremove_html_markup\u001b[39;49;00m(s):  \u001b[37m# type: ignore\u001b[39;49;00m\n",
      "    tag = \u001b[34mFalse\u001b[39;49;00m\n",
      "    out = \u001b[33m\"\u001b[39;49;00m\u001b[33m\"\u001b[39;49;00m\n",
      "\n",
      "    \u001b[34mfor\u001b[39;49;00m c \u001b[35min\u001b[39;49;00m s:\n",
      "        \u001b[34mif\u001b[39;49;00m c == \u001b[33m'\u001b[39;49;00m\u001b[33m<\u001b[39;49;00m\u001b[33m'\u001b[39;49;00m:    \u001b[37m# start of markup\u001b[39;49;00m\n",
      "            tag = \u001b[34mTrue\u001b[39;49;00m\n",
      "        \u001b[34melif\u001b[39;49;00m c == \u001b[33m'\u001b[39;49;00m\u001b[33m>\u001b[39;49;00m\u001b[33m'\u001b[39;49;00m:  \u001b[37m# end of markup\u001b[39;49;00m\n",
      "            tag = \u001b[34mFalse\u001b[39;49;00m\n",
      "        \u001b[34melif\u001b[39;49;00m c == \u001b[33m'\u001b[39;49;00m\u001b[33m\"\u001b[39;49;00m\u001b[33m'\u001b[39;49;00m \u001b[35mor\u001b[39;49;00m c == \u001b[33m\"\u001b[39;49;00m\u001b[33m'\u001b[39;49;00m\u001b[33m\"\u001b[39;49;00m \u001b[35mand\u001b[39;49;00m tag:\n",
      "            quote = \u001b[35mnot\u001b[39;49;00m quote\n",
      "        \u001b[34melif\u001b[39;49;00m \u001b[35mnot\u001b[39;49;00m tag:\n",
      "            out = out + c\n",
      "\n",
      "    \u001b[34mreturn\u001b[39;49;00m out"
     ]
    }
   ],
   "source": [
    "print_content(patch(source_pass, diffs), '.py')"
   ]
  },
  {
   "cell_type": "markdown",
   "metadata": {
    "slideshow": {
     "slide_type": "subslide"
    }
   },
   "source": [
    "Conversely, the `diff()` function computes patches between two texts. It returns a list of patch objects that can be applied on text."
   ]
  },
  {
   "cell_type": "code",
   "execution_count": 168,
   "metadata": {
    "execution": {
     "iopub.execute_input": "2021-05-13T12:31:19.514299Z",
     "iopub.status.busy": "2021-05-13T12:31:19.513540Z",
     "iopub.status.idle": "2021-05-13T12:31:19.516130Z",
     "shell.execute_reply": "2021-05-13T12:31:19.516860Z"
    },
    "slideshow": {
     "slide_type": "subslide"
    }
   },
   "outputs": [
    {
     "name": "stdout",
     "output_type": "stream",
     "text": [
      "@@ -\u001b[34m48\u001b[39;49;00m,\u001b[34m24\u001b[39;49;00m +\u001b[34m48\u001b[39;49;00m,\u001b[34m42\u001b[39;49;00m @@\n",
      " tag = \u001b[34mFalse\u001b[39;49;00m\n",
      "\n",
      "+    quote = \u001b[34mFalse\u001b[39;49;00m\n",
      "\n",
      "     out = \u001b[33m\"\u001b[39;49;00m\u001b[33m\"\u001b[39;49;00m\n",
      "@@ -\u001b[34m104\u001b[39;49;00m,\u001b[34m50\u001b[39;49;00m +\u001b[34m104\u001b[39;49;00m,\u001b[34m43\u001b[39;49;00m @@\n",
      "  s:\n",
      "\n",
      "-        \u001b[34mif\u001b[39;49;00m c == \u001b[33m'\u001b[39;49;00m\u001b[33m<\u001b[39;49;00m\u001b[33m'\u001b[39;49;00m:    \u001b[37m# start of markup\u001b[39;49;00m\n",
      "\n",
      "+        \u001b[34mif\u001b[39;49;00m c == \u001b[33m'\u001b[39;49;00m\u001b[33m<\u001b[39;49;00m\u001b[33m'\u001b[39;49;00m \u001b[35mand\u001b[39;49;00m \u001b[35mnot\u001b[39;49;00m quote:\n",
      "@@ -\u001b[34m162\u001b[39;49;00m,\u001b[34m48\u001b[39;49;00m +\u001b[34m162\u001b[39;49;00m,\u001b[34m45\u001b[39;49;00m @@\n",
      " rue\n",
      "\n",
      "-        \u001b[34melif\u001b[39;49;00m c == \u001b[33m'\u001b[39;49;00m\u001b[33m>\u001b[39;49;00m\u001b[33m'\u001b[39;49;00m:  \u001b[37m# end of markup\u001b[39;49;00m\n",
      "\n",
      "+        \u001b[34melif\u001b[39;49;00m c == \u001b[33m'\u001b[39;49;00m\u001b[33m>\u001b[39;49;00m\u001b[33m'\u001b[39;49;00m \u001b[35mand\u001b[39;49;00m \u001b[35mnot\u001b[39;49;00m quote:\n",
      "@@ -\u001b[34m215\u001b[39;49;00m,\u001b[34m24\u001b[39;49;00m +\u001b[34m215\u001b[39;49;00m,\u001b[34m97\u001b[39;49;00m @@\n",
      " tag = \u001b[34mFalse\u001b[39;49;00m\n",
      "\n",
      "+        \u001b[34melif\u001b[39;49;00m c == \u001b[33m'\u001b[39;49;00m\u001b[33m\"\u001b[39;49;00m\u001b[33m'\u001b[39;49;00m \u001b[35mor\u001b[39;49;00m c == \u001b[33m\"\u001b[39;49;00m\u001b[33m'\u001b[39;49;00m\u001b[33m\"\u001b[39;49;00m \u001b[35mand\u001b[39;49;00m tag:\n",
      "            quote = \u001b[35mnot\u001b[39;49;00m quote\n",
      "\n",
      "         \u001b[34melif\u001b[39;49;00m\n"
     ]
    }
   ],
   "source": [
    "for p in diff(source_pass, source_fail):\n",
    "    print_patch(p)"
   ]
  },
  {
   "cell_type": "markdown",
   "metadata": {
    "button": false,
    "new_sheet": true,
    "run_control": {
     "read_only": false
    },
    "slideshow": {
     "slide_type": "slide"
    }
   },
   "source": [
    "## Lessons Learned\n",
    "\n",
    "* If one has a version history available, one can use it to determine failure-inducing changes.\n",
    "* Bisecting with git effectively isolates failure-inducing commits, both manually and automatically.\n",
    "* Delta debugging on changes allows to further isolate minimal sets of failure-inducing changes."
   ]
  },
  {
   "cell_type": "markdown",
   "metadata": {
    "button": false,
    "new_sheet": false,
    "run_control": {
     "read_only": false
    },
    "slideshow": {
     "slide_type": "slide"
    }
   },
   "source": [
    "## Next Steps\n",
    "\n",
    "This concludes our applications of Delta Debugging. In the next chapters, we will analyze how to abstract failure-inducing inputs into failure-inducing _input sets_."
   ]
  },
  {
   "cell_type": "markdown",
   "metadata": {
    "slideshow": {
     "slide_type": "slide"
    }
   },
   "source": [
    "## Background\n",
    "\n",
    "The concept of \"bisecting\" as traversing a version history to identify failure-inducing changes was first described by Brian Ness and Viet Ngo from Cray Research as \"Source change isolation\" \\cite{Ness1997}. The abstract of their paper summarizes the goals and benefits:\n",
    "\n",
    "> Effective regression containment is an important factor in the design of development and testing processes for large software projects, especially when many developers are doing concurrent work on a common set of sources. Source change isolation provides an inexpensive, mechanical alternative to analytical methods for identifying the cause of software regressions. It also provides the advantage of enabling regressions to be eliminated by reversing the effect of source changes that introduced errant behavior, without the need to write new code, and without halting other development work on the same software. Deliverability is also improved.\n",
    "\n",
    "Delta Debugging on changes (and also Delta Debugging) was introduced in \"Yesterday, my program worked. Today, it does not. Why?\" \\cite{Zeller1999}, a paper which would win an ACM SIGSOFT Impact Paper Award ten years later.\n",
    "This paper generalized over \\cite{Ness1997} by identifying failure-inducing differences in arbitrary sets of changes. \\cite{Zeller2002} generalized the algorithm to work on inputs and other collections (including changes); the [chapter on delta debugging](DeltaDebugger), which we use in this chapter, uses the \\cite{Zeller2002} formulation of the `dd` algorithm."
   ]
  },
  {
   "cell_type": "markdown",
   "metadata": {
    "slideshow": {
     "slide_type": "subslide"
    }
   },
   "source": [
    "We're done, so we clean up a bit:"
   ]
  },
  {
   "cell_type": "code",
   "execution_count": 169,
   "metadata": {
    "execution": {
     "iopub.execute_input": "2021-05-13T12:31:19.521356Z",
     "iopub.status.busy": "2021-05-13T12:31:19.520586Z",
     "iopub.status.idle": "2021-05-13T12:31:19.522361Z",
     "shell.execute_reply": "2021-05-13T12:31:19.523062Z"
    },
    "slideshow": {
     "slide_type": "fragment"
    }
   },
   "outputs": [],
   "source": [
    "try:\n",
    "    shutil.rmtree(PROJECT)\n",
    "except FileNotFoundError:\n",
    "    pass"
   ]
  },
  {
   "cell_type": "markdown",
   "metadata": {
    "button": false,
    "new_sheet": true,
    "run_control": {
     "read_only": false
    },
    "slideshow": {
     "slide_type": "slide"
    }
   },
   "source": [
    "## Exercises\n"
   ]
  },
  {
   "cell_type": "markdown",
   "metadata": {
    "button": false,
    "new_sheet": false,
    "run_control": {
     "read_only": false
    },
    "slideshow": {
     "slide_type": "subslide"
    },
    "solution2": "hidden",
    "solution2_first": true
   },
   "source": [
    "### Exercise 1: Fine-Grained Changes\n",
    "\n",
    "Instead of computing patches on lines (as we and most `diff` programs do), one can also compute fine-grained diffs, using our `diff()` function with `mode='chars'`. Would this make sense?"
   ]
  },
  {
   "cell_type": "markdown",
   "metadata": {
    "slideshow": {
     "slide_type": "skip"
    },
    "solution2": "hidden"
   },
   "source": [
    "**Solution.** Let us see what happens if we compute a character `diff` on our two versions:"
   ]
  },
  {
   "cell_type": "code",
   "execution_count": 170,
   "metadata": {
    "cell_style": "split",
    "execution": {
     "iopub.execute_input": "2021-05-13T12:31:19.532318Z",
     "iopub.status.busy": "2021-05-13T12:31:19.531408Z",
     "iopub.status.idle": "2021-05-13T12:31:19.533357Z",
     "shell.execute_reply": "2021-05-13T12:31:19.533929Z"
    },
    "slideshow": {
     "slide_type": "skip"
    },
    "solution2": "hidden"
   },
   "outputs": [],
   "source": [
    "patches = diff(version_1, version_2, mode='chars')"
   ]
  },
  {
   "cell_type": "code",
   "execution_count": 171,
   "metadata": {
    "execution": {
     "iopub.execute_input": "2021-05-13T12:31:19.537818Z",
     "iopub.status.busy": "2021-05-13T12:31:19.537222Z",
     "iopub.status.idle": "2021-05-13T12:31:19.539644Z",
     "shell.execute_reply": "2021-05-13T12:31:19.540138Z"
    },
    "slideshow": {
     "slide_type": "skip"
    },
    "solution2": "hidden"
   },
   "outputs": [
    {
     "name": "stdout",
     "output_type": "stream",
     "text": [
      "@@ -52,24 +52,42 @@\n",
      " = False\n",
      "    \n",
      "+quote = False\n",
      "    \n",
      " out = \"\"\n",
      "\n",
      "\n",
      "@@ -123,30 +123,23 @@\n",
      "  '<'\n",
      "-:\n",
      "  \n",
      "-   # st\n",
      " a\n",
      "-rt\n",
      "+nd\n",
      "  \n",
      "+n\n",
      " o\n",
      "-f\n",
      "+t\n",
      "  \n",
      "-mark\n",
      "+q\n",
      " u\n",
      "-p\n",
      "+ote:\n",
      " \n",
      "\n",
      "@@ -183,26 +183,23 @@\n",
      "  '>'\n",
      "-:  #\n",
      "  \n",
      "-e\n",
      "+a\n",
      " nd \n",
      "+n\n",
      " o\n",
      "-f\n",
      "+t\n",
      "  \n",
      "-mark\n",
      "+q\n",
      " u\n",
      "-p\n",
      "+ote:\n",
      " \n",
      "\n",
      "@@ -213,24 +213,97 @@\n",
      "   tag = Fals\n",
      "+e\n",
      "        elif c == '\"' or c == \"'\" and tag:\n",
      "            quote = not quot\n",
      " e\n",
      "        el\n"
     ]
    }
   ],
   "source": [
    "for p in patches:\n",
    "    print(patch_string(p))"
   ]
  },
  {
   "cell_type": "markdown",
   "metadata": {
    "slideshow": {
     "slide_type": "skip"
    },
    "solution2": "hidden"
   },
   "source": [
    "We see that the patches now replace words like `start` to `and`, keeping the `a` common to both words. Such tiny differences may be useful for merging changes in text documents (which is what the Google library was built for), but not necessarily code."
   ]
  },
  {
   "cell_type": "markdown",
   "metadata": {
    "button": false,
    "new_sheet": false,
    "run_control": {
     "read_only": false
    },
    "slideshow": {
     "slide_type": "subslide"
    }
   },
   "source": [
    "### Exercise 2: Failure-Inducing Changes in the Large\n",
    "\n",
    "Our `ChangeDebugger` class works on two versions of one class, function, or module, but not on versions of an entire project. Extend `ChangeDebugger` to a class `DiffDebugger` that can actually take two _directories_ (including differences in subdirectories with added and deleted files) and determine failure-inducing differences between them. This would allow checking out two versions of a project and determine failure-inducing differences.\n",
    "\n",
    "Note that applying delte debugging on large sets of differences is a time-consuming task, since \n",
    "\n",
    "* Every test requires a rebuild and rerun of the code; and\n",
    "* There are many ways to cause inconsistencies by applying random changes.\n",
    "\n",
    "Refer to \\cite{Zeller1999} for some hints on how to make this efficient."
   ]
  },
  {
   "cell_type": "markdown",
   "metadata": {
    "button": false,
    "new_sheet": false,
    "run_control": {
     "read_only": false
    },
    "slideshow": {
     "slide_type": "subslide"
    }
   },
   "source": [
    "### Exercise 3: Hierarchical Change Debugging\n",
    "\n",
    "Rather than running Delta Debugging on _all_ changes between two projects (as with `DiffDebugger`, above), it can be wise to first progress along the change history (as with `git bisect`) and only then run Delta Debugging on the remaining changes. \n",
    "\n",
    "Building on `DiffDebugger`, implement a class `GitDebugger` that takes two version identifiers (= the \"good\" and \"bad\" hashes in `git bisect`) and a test (like `ChangeDebugger`) and then\n",
    "\n",
    "1. runs `git bisect` to narrow down the failure-inducing commit\n",
    "2. runs `ChangeDebugger` to further narrow down the failure-inducing change within the failure-inducing commit."
   ]
  },
  {
   "cell_type": "markdown",
   "metadata": {
    "slideshow": {
     "slide_type": "subslide"
    }
   },
   "source": [
    "This gives you the best of two worlds: The failure-inducing commit is quickly identified; and the additional `ChangeDebugger` run provides even more fine-grained details, albeit at the expense of (potentially several) additional tests."
   ]
  }
 ],
 "metadata": {
  "ipub": {
   "bibliography": "fuzzingbook.bib",
   "toc": true
  },
  "kernelspec": {
   "display_name": "Python 3",
   "language": "python",
   "name": "python3"
  },
  "language_info": {
   "codemirror_mode": {
    "name": "ipython",
    "version": 3
   },
   "file_extension": ".py",
   "mimetype": "text/x-python",
   "name": "python",
   "nbconvert_exporter": "python",
   "pygments_lexer": "ipython3",
   "version": "3.6.10"
  },
  "toc": {
   "base_numbering": 1,
   "nav_menu": {},
   "number_sections": true,
   "sideBar": true,
   "skip_h1_title": true,
   "title_cell": "",
   "title_sidebar": "Contents",
   "toc_cell": false,
   "toc_position": {},
   "toc_section_display": true,
   "toc_window_display": true
  },
  "toc-autonumbering": false
 },
 "nbformat": 4,
 "nbformat_minor": 4
}