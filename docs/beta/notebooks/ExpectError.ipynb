{
 "cells": [
  {
   "cell_type": "markdown",
   "metadata": {
    "button": false,
    "new_sheet": false,
    "run_control": {
     "read_only": false
    },
    "slideshow": {
     "slide_type": "slide"
    }
   },
   "source": [
    "# Error Handling\n",
    "\n",
    "The code in this notebook helps with handling errors.  Normally, an error in  notebook code causes the execution of the code to stop; while an infinite loop in notebook code causes the notebook to run without end.  This notebook provides two classes to help address these concerns."
   ]
  },
  {
   "cell_type": "markdown",
   "metadata": {
    "button": false,
    "new_sheet": false,
    "run_control": {
     "read_only": false
    },
    "slideshow": {
     "slide_type": "subslide"
    }
   },
   "source": [
    "**Prerequisites**\n",
    "\n",
    "* This notebook needs some understanding on advanced concepts in Python, notably \n",
    "    * classes\n",
    "    * the Python `with` statement\n",
    "    * tracing\n",
    "    * measuring time\n",
    "    * exceptions"
   ]
  },
  {
   "cell_type": "markdown",
   "metadata": {
    "slideshow": {
     "slide_type": "slide"
    }
   },
   "source": [
    "## Synopsis\n",
    "<!-- Automatically generated. Do not edit. -->\n",
    "\n",
    "To [use the code provided in this chapter](Importing.ipynb), write\n",
    "\n",
    "```python\n",
    ">>> from debuggingbook.ExpectError import <identifier>\n",
    "```\n",
    "\n",
    "and then make use of the following features.\n",
    "\n",
    "\n",
    "The `ExpectError` class allows you to catch and report exceptions, yet resume execution.  This is useful in notebooks, as they would normally interrupt execution as soon as an exception is raised.  Its typical usage is in conjunction with a `with` clause:\n",
    "\n",
    "```python\n",
    ">>> with ExpectError():\n",
    ">>>     x = 1 / 0\n",
    "Traceback (most recent call last):\n",
    "  File \"/var/folders/n2/xd9445p97rb3xh7m1dfx8_4h0006ts/T/ipykernel_40760/2664980466.py\", line 2, in <module>\n",
    "    x = 1 / 0\n",
    "ZeroDivisionError: division by zero (expected)\n",
    "\n",
    "```\n",
    "The `ExpectTimeout` class allows you to interrupt execution after the specified time.  This is useful for interrupting code that might otherwise run forever.\n",
    "\n",
    "```python\n",
    ">>> with ExpectTimeout(5):\n",
    ">>>     long_running_test()\n",
    "Start\n",
    "0 seconds have passed\n",
    "1 seconds have passed\n",
    "2 seconds have passed\n",
    "3 seconds have passed\n",
    "\n",
    "Traceback (most recent call last):\n",
    "  File \"/var/folders/n2/xd9445p97rb3xh7m1dfx8_4h0006ts/T/ipykernel_40760/1223755941.py\", line 2, in <module>\n",
    "    long_running_test()\n",
    "  File \"/var/folders/n2/xd9445p97rb3xh7m1dfx8_4h0006ts/T/ipykernel_40760/3930412460.py\", line 4, in long_running_test\n",
    "    time.sleep(1)\n",
    "  File \"/Users/zeller/Projects/debuggingbook/notebooks/Timeout.ipynb\", line 43, in timeout_handler\n",
    "    raise TimeoutError()\n",
    "TimeoutError (expected)\n",
    "\n",
    "```\n",
    "The exception and the associated traceback are printed as error messages.  If you do not want that, \n",
    "use these keyword options:\n",
    "\n",
    "* `print_traceback` (default True) can be set to `False` to avoid the traceback being printed\n",
    "* `mute` (default False) can be set to `True` to completely avoid any output.\n",
    "\n"
   ]
  },
  {
   "cell_type": "markdown",
   "metadata": {
    "button": false,
    "new_sheet": false,
    "run_control": {
     "read_only": false
    },
    "slideshow": {
     "slide_type": "slide"
    }
   },
   "source": [
    "## Catching Errors\n",
    "\n",
    "The class `ExpectError` allows to express that some code produces an exception.  A typical usage looks as follows:\n",
    "\n",
    "```Python\n",
    "from ExpectError import ExpectError\n",
    "\n",
    "with ExpectError():\n",
    "    function_that_is_supposed_to_fail()\n",
    "```\n",
    "\n",
    "If an exception occurs, it is printed on standard error; yet, execution continues."
   ]
  },
  {
   "cell_type": "code",
   "execution_count": 1,
   "metadata": {
    "button": false,
    "execution": {
     "iopub.execute_input": "2022-01-02T12:21:26.651971Z",
     "iopub.status.busy": "2022-01-02T12:21:26.651387Z",
     "iopub.status.idle": "2022-01-02T12:21:26.745380Z",
     "shell.execute_reply": "2022-01-02T12:21:26.745762Z"
    },
    "new_sheet": false,
    "run_control": {
     "read_only": false
    },
    "slideshow": {
     "slide_type": "skip"
    }
   },
   "outputs": [],
   "source": [
    "import bookutils"
   ]
  },
  {
   "cell_type": "code",
   "execution_count": 2,
   "metadata": {
    "button": false,
    "execution": {
     "iopub.execute_input": "2022-01-02T12:21:26.749559Z",
     "iopub.status.busy": "2022-01-02T12:21:26.749030Z",
     "iopub.status.idle": "2022-01-02T12:21:26.751111Z",
     "shell.execute_reply": "2022-01-02T12:21:26.751475Z"
    },
    "new_sheet": false,
    "run_control": {
     "read_only": false
    },
    "slideshow": {
     "slide_type": "skip"
    }
   },
   "outputs": [],
   "source": [
    "import traceback\n",
    "import sys"
   ]
  },
  {
   "cell_type": "code",
   "execution_count": 3,
   "metadata": {
    "execution": {
     "iopub.execute_input": "2022-01-02T12:21:26.755642Z",
     "iopub.status.busy": "2022-01-02T12:21:26.754718Z",
     "iopub.status.idle": "2022-01-02T12:21:26.756763Z",
     "shell.execute_reply": "2022-01-02T12:21:26.757206Z"
    },
    "slideshow": {
     "slide_type": "skip"
    }
   },
   "outputs": [],
   "source": [
    "from types import FrameType, TracebackType"
   ]
  },
  {
   "cell_type": "code",
   "execution_count": 4,
   "metadata": {
    "execution": {
     "iopub.execute_input": "2022-01-02T12:21:26.761519Z",
     "iopub.status.busy": "2022-01-02T12:21:26.760713Z",
     "iopub.status.idle": "2022-01-02T12:21:26.762617Z",
     "shell.execute_reply": "2022-01-02T12:21:26.762989Z"
    },
    "slideshow": {
     "slide_type": "subslide"
    }
   },
   "outputs": [],
   "source": [
    "# ignore\n",
    "from typing import Union, Optional, Callable, Any"
   ]
  },
  {
   "cell_type": "code",
   "execution_count": 5,
   "metadata": {
    "button": false,
    "execution": {
     "iopub.execute_input": "2022-01-02T12:21:26.769735Z",
     "iopub.status.busy": "2022-01-02T12:21:26.769148Z",
     "iopub.status.idle": "2022-01-02T12:21:26.771095Z",
     "shell.execute_reply": "2022-01-02T12:21:26.771470Z"
    },
    "new_sheet": false,
    "run_control": {
     "read_only": false
    },
    "slideshow": {
     "slide_type": "subslide"
    }
   },
   "outputs": [],
   "source": [
    "class ExpectError:\n",
    "    \"\"\"Execute a code block expecting (and catching) an error.\"\"\"\n",
    "\n",
    "    def __init__(self, exc_type: Optional[type] = None, \n",
    "                 print_traceback: bool = True, mute: bool = False):\n",
    "        \"\"\"\n",
    "        Constructor. Expect an exception of type `exc_type` (`None`: any exception).\n",
    "        If `print_traceback` is set (default), print a traceback to stderr.\n",
    "        If `mute` is set (default: False), do not print anything.\n",
    "        \"\"\"\n",
    "        self.print_traceback = print_traceback\n",
    "        self.mute = mute\n",
    "        self.expected_exc_type = exc_type\n",
    "\n",
    "    def __enter__(self) -> Any:\n",
    "        \"\"\"Begin of `with` block\"\"\"\n",
    "        return self\n",
    "\n",
    "    def __exit__(self, exc_type: type, \n",
    "                 exc_value: BaseException, tb: TracebackType) -> Optional[bool]:\n",
    "        \"\"\"End of `with` block\"\"\"\n",
    "        if exc_type is None:\n",
    "            # No exception\n",
    "            return\n",
    "\n",
    "        if (self.expected_exc_type is not None\n",
    "            and exc_type != self.expected_exc_type):\n",
    "            raise  # Unexpected exception\n",
    "\n",
    "        # An exception occurred\n",
    "        if self.print_traceback:\n",
    "            lines = ''.join(\n",
    "                traceback.format_exception(\n",
    "                    exc_type,\n",
    "                    exc_value,\n",
    "                    tb)).strip()\n",
    "        else:\n",
    "            lines = traceback.format_exception_only(\n",
    "                exc_type, exc_value)[-1].strip()\n",
    "\n",
    "        if not self.mute:\n",
    "            print(lines, \"(expected)\", file=sys.stderr)\n",
    "        return True  # Ignore it"
   ]
  },
  {
   "cell_type": "markdown",
   "metadata": {
    "button": false,
    "new_sheet": false,
    "run_control": {
     "read_only": false
    },
    "slideshow": {
     "slide_type": "subslide"
    }
   },
   "source": [
    "Here's an example:"
   ]
  },
  {
   "cell_type": "code",
   "execution_count": 6,
   "metadata": {
    "button": false,
    "execution": {
     "iopub.execute_input": "2022-01-02T12:21:26.774540Z",
     "iopub.status.busy": "2022-01-02T12:21:26.774029Z",
     "iopub.status.idle": "2022-01-02T12:21:26.775778Z",
     "shell.execute_reply": "2022-01-02T12:21:26.776149Z"
    },
    "new_sheet": false,
    "run_control": {
     "read_only": false
    },
    "slideshow": {
     "slide_type": "fragment"
    }
   },
   "outputs": [],
   "source": [
    "def fail_test() -> None:\n",
    "    # Trigger an exception\n",
    "    x = 1 / 0"
   ]
  },
  {
   "cell_type": "code",
   "execution_count": 7,
   "metadata": {
    "button": false,
    "execution": {
     "iopub.execute_input": "2022-01-02T12:21:26.778958Z",
     "iopub.status.busy": "2022-01-02T12:21:26.778398Z",
     "iopub.status.idle": "2022-01-02T12:21:26.781803Z",
     "shell.execute_reply": "2022-01-02T12:21:26.782175Z"
    },
    "new_sheet": false,
    "run_control": {
     "read_only": false
    },
    "slideshow": {
     "slide_type": "fragment"
    }
   },
   "outputs": [
    {
     "name": "stderr",
     "output_type": "stream",
     "text": [
      "Traceback (most recent call last):\n",
      "  File \"/var/folders/n2/xd9445p97rb3xh7m1dfx8_4h0006ts/T/ipykernel_40760/1235320646.py\", line 2, in <module>\n",
      "    fail_test()\n",
      "  File \"/var/folders/n2/xd9445p97rb3xh7m1dfx8_4h0006ts/T/ipykernel_40760/278441162.py\", line 3, in fail_test\n",
      "    x = 1 / 0\n",
      "ZeroDivisionError: division by zero (expected)\n"
     ]
    }
   ],
   "source": [
    "with ExpectError():\n",
    "    fail_test()"
   ]
  },
  {
   "cell_type": "code",
   "execution_count": 8,
   "metadata": {
    "button": false,
    "execution": {
     "iopub.execute_input": "2022-01-02T12:21:26.785293Z",
     "iopub.status.busy": "2022-01-02T12:21:26.784729Z",
     "iopub.status.idle": "2022-01-02T12:21:26.786789Z",
     "shell.execute_reply": "2022-01-02T12:21:26.787156Z"
    },
    "new_sheet": false,
    "run_control": {
     "read_only": false
    },
    "slideshow": {
     "slide_type": "subslide"
    }
   },
   "outputs": [
    {
     "name": "stderr",
     "output_type": "stream",
     "text": [
      "ZeroDivisionError: division by zero (expected)\n"
     ]
    }
   ],
   "source": [
    "with ExpectError(print_traceback=False):\n",
    "    fail_test()"
   ]
  },
  {
   "cell_type": "markdown",
   "metadata": {
    "slideshow": {
     "slide_type": "fragment"
    }
   },
   "source": [
    "We can specify the type of the expected exception. This way, if something else happens, we will get notified."
   ]
  },
  {
   "cell_type": "code",
   "execution_count": 9,
   "metadata": {
    "execution": {
     "iopub.execute_input": "2022-01-02T12:21:26.790406Z",
     "iopub.status.busy": "2022-01-02T12:21:26.789842Z",
     "iopub.status.idle": "2022-01-02T12:21:26.791832Z",
     "shell.execute_reply": "2022-01-02T12:21:26.792198Z"
    },
    "slideshow": {
     "slide_type": "fragment"
    }
   },
   "outputs": [
    {
     "name": "stderr",
     "output_type": "stream",
     "text": [
      "Traceback (most recent call last):\n",
      "  File \"/var/folders/n2/xd9445p97rb3xh7m1dfx8_4h0006ts/T/ipykernel_40760/1259188418.py\", line 2, in <module>\n",
      "    fail_test()\n",
      "  File \"/var/folders/n2/xd9445p97rb3xh7m1dfx8_4h0006ts/T/ipykernel_40760/278441162.py\", line 3, in fail_test\n",
      "    x = 1 / 0\n",
      "ZeroDivisionError: division by zero (expected)\n"
     ]
    }
   ],
   "source": [
    "with ExpectError(ZeroDivisionError):\n",
    "    fail_test()"
   ]
  },
  {
   "cell_type": "code",
   "execution_count": 10,
   "metadata": {
    "execution": {
     "iopub.execute_input": "2022-01-02T12:21:26.795491Z",
     "iopub.status.busy": "2022-01-02T12:21:26.794953Z",
     "iopub.status.idle": "2022-01-02T12:21:26.796988Z",
     "shell.execute_reply": "2022-01-02T12:21:26.797364Z"
    },
    "slideshow": {
     "slide_type": "subslide"
    }
   },
   "outputs": [
    {
     "name": "stderr",
     "output_type": "stream",
     "text": [
      "Traceback (most recent call last):\n",
      "  File \"/var/folders/n2/xd9445p97rb3xh7m1dfx8_4h0006ts/T/ipykernel_40760/2242794116.py\", line 3, in <module>\n",
      "    some_nonexisting_function()  # type: ignore\n",
      "  File \"/var/folders/n2/xd9445p97rb3xh7m1dfx8_4h0006ts/T/ipykernel_40760/2242794116.py\", line 3, in <module>\n",
      "    some_nonexisting_function()  # type: ignore\n",
      "NameError: name 'some_nonexisting_function' is not defined (expected)\n"
     ]
    }
   ],
   "source": [
    "with ExpectError():\n",
    "    with ExpectError(ZeroDivisionError):\n",
    "        some_nonexisting_function()  # type: ignore"
   ]
  },
  {
   "cell_type": "markdown",
   "metadata": {
    "button": false,
    "new_sheet": false,
    "run_control": {
     "read_only": false
    },
    "slideshow": {
     "slide_type": "slide"
    }
   },
   "source": [
    "## Catching Timeouts\n",
    "\n",
    "The class `ExpectTimeout(seconds)` allows to express that some code may run for a long or infinite time; execution is thus interrupted after `seconds` seconds.  A typical usage looks as follows:\n",
    "\n",
    "```Python\n",
    "from ExpectError import ExpectTimeout\n",
    "\n",
    "with ExpectTimeout(2) as t:\n",
    "    function_that_is_supposed_to_hang()\n",
    "```\n",
    "\n",
    "If an exception occurs, it is printed on standard error (as with `ExpectError`); yet, execution continues.\n",
    "\n",
    "Should there be a need to cancel the timeout within the `with` block, `t.cancel()` will do the trick.\n",
    "\n",
    "The implementation uses `sys.settrace()`, as this seems to be the most portable way to implement timeouts.  It is not very efficient, though.  Also, it only works on individual lines of Python code and will not interrupt a long-running system function."
   ]
  },
  {
   "cell_type": "code",
   "execution_count": 11,
   "metadata": {
    "button": false,
    "execution": {
     "iopub.execute_input": "2022-01-02T12:21:26.800459Z",
     "iopub.status.busy": "2022-01-02T12:21:26.799748Z",
     "iopub.status.idle": "2022-01-02T12:21:26.802186Z",
     "shell.execute_reply": "2022-01-02T12:21:26.802814Z"
    },
    "new_sheet": false,
    "run_control": {
     "read_only": false
    },
    "slideshow": {
     "slide_type": "skip"
    }
   },
   "outputs": [],
   "source": [
    "import sys\n",
    "import time"
   ]
  },
  {
   "cell_type": "code",
   "execution_count": 12,
   "metadata": {
    "execution": {
     "iopub.execute_input": "2022-01-02T12:21:26.806620Z",
     "iopub.status.busy": "2022-01-02T12:21:26.805951Z",
     "iopub.status.idle": "2022-01-02T12:21:26.848216Z",
     "shell.execute_reply": "2022-01-02T12:21:26.848688Z"
    },
    "slideshow": {
     "slide_type": "skip"
    }
   },
   "outputs": [],
   "source": [
    "from Timeout import Timeout"
   ]
  },
  {
   "cell_type": "code",
   "execution_count": 13,
   "metadata": {
    "button": false,
    "execution": {
     "iopub.execute_input": "2022-01-02T12:21:26.856331Z",
     "iopub.status.busy": "2022-01-02T12:21:26.855766Z",
     "iopub.status.idle": "2022-01-02T12:21:26.858311Z",
     "shell.execute_reply": "2022-01-02T12:21:26.858916Z"
    },
    "new_sheet": false,
    "run_control": {
     "read_only": false
    },
    "slideshow": {
     "slide_type": "subslide"
    }
   },
   "outputs": [],
   "source": [
    "class ExpectTimeout(Timeout):  # type: ignore\n",
    "    \"\"\"Execute a code block expecting (and catching) a timeout.\"\"\"\n",
    "\n",
    "    def __init__(self, timeout: Union[int, float],\n",
    "                 print_traceback: bool = True, mute: bool = False):\n",
    "        \"\"\"\n",
    "        Constructor. Interrupt execution after `seconds` seconds.\n",
    "        If `print_traceback` is set (default), print a traceback to stderr.\n",
    "        If `mute` is set (default: False), do not print anything.\n",
    "        \"\"\"\n",
    "        super().__init__(timeout)\n",
    "\n",
    "        self.print_traceback = print_traceback\n",
    "        self.mute = mute\n",
    "\n",
    "    def __exit__(self, exc_type: type,\n",
    "                 exc_value: BaseException, tb: TracebackType) -> Optional[bool]:\n",
    "        \"\"\"End of `with` block\"\"\"\n",
    "\n",
    "        super().__exit__(exc_type, exc_value, tb)\n",
    "\n",
    "        if exc_type is None:\n",
    "            return\n",
    "\n",
    "        # An exception occurred\n",
    "        if self.print_traceback:\n",
    "            lines = ''.join(\n",
    "                traceback.format_exception(\n",
    "                    exc_type,\n",
    "                    exc_value,\n",
    "                    tb)).strip()\n",
    "        else:\n",
    "            lines = traceback.format_exception_only(\n",
    "                exc_type, exc_value)[-1].strip()\n",
    "\n",
    "        if not self.mute:\n",
    "            print(lines, \"(expected)\", file=sys.stderr)\n",
    "\n",
    "        return True  # Ignore exception"
   ]
  },
  {
   "cell_type": "markdown",
   "metadata": {
    "button": false,
    "new_sheet": false,
    "run_control": {
     "read_only": false
    },
    "slideshow": {
     "slide_type": "subslide"
    }
   },
   "source": [
    "Here's an example:"
   ]
  },
  {
   "cell_type": "code",
   "execution_count": 14,
   "metadata": {
    "button": false,
    "execution": {
     "iopub.execute_input": "2022-01-02T12:21:26.864010Z",
     "iopub.status.busy": "2022-01-02T12:21:26.863161Z",
     "iopub.status.idle": "2022-01-02T12:21:26.865169Z",
     "shell.execute_reply": "2022-01-02T12:21:26.865870Z"
    },
    "new_sheet": false,
    "run_control": {
     "read_only": false
    },
    "slideshow": {
     "slide_type": "fragment"
    }
   },
   "outputs": [],
   "source": [
    "def long_running_test() -> None:\n",
    "    print(\"Start\")\n",
    "    for i in range(10):\n",
    "        time.sleep(1)\n",
    "        print(i, \"seconds have passed\")\n",
    "    print(\"End\")"
   ]
  },
  {
   "cell_type": "code",
   "execution_count": 15,
   "metadata": {
    "button": false,
    "execution": {
     "iopub.execute_input": "2022-01-02T12:21:26.869313Z",
     "iopub.status.busy": "2022-01-02T12:21:26.868756Z",
     "iopub.status.idle": "2022-01-02T12:21:31.873327Z",
     "shell.execute_reply": "2022-01-02T12:21:31.873862Z"
    },
    "new_sheet": false,
    "run_control": {
     "read_only": false
    },
    "slideshow": {
     "slide_type": "subslide"
    }
   },
   "outputs": [
    {
     "name": "stdout",
     "output_type": "stream",
     "text": [
      "Start\n",
      "0 seconds have passed\n",
      "1 seconds have passed\n",
      "2 seconds have passed\n",
      "3 seconds have passed\n"
     ]
    },
    {
     "name": "stderr",
     "output_type": "stream",
     "text": [
      "TimeoutError (expected)\n"
     ]
    }
   ],
   "source": [
    "with ExpectTimeout(5, print_traceback=False):\n",
    "    long_running_test()"
   ]
  },
  {
   "cell_type": "markdown",
   "metadata": {
    "button": false,
    "new_sheet": false,
    "run_control": {
     "read_only": false
    },
    "slideshow": {
     "slide_type": "fragment"
    }
   },
   "source": [
    "Note that it is possible to nest multiple timeouts."
   ]
  },
  {
   "cell_type": "code",
   "execution_count": 16,
   "metadata": {
    "button": false,
    "execution": {
     "iopub.execute_input": "2022-01-02T12:21:31.878449Z",
     "iopub.status.busy": "2022-01-02T12:21:31.877849Z",
     "iopub.status.idle": "2022-01-02T12:21:39.891414Z",
     "shell.execute_reply": "2022-01-02T12:21:39.892265Z"
    },
    "new_sheet": false,
    "run_control": {
     "read_only": false
    },
    "slideshow": {
     "slide_type": "subslide"
    }
   },
   "outputs": [
    {
     "name": "stdout",
     "output_type": "stream",
     "text": [
      "Start\n",
      "0 seconds have passed\n",
      "1 seconds have passed\n"
     ]
    },
    {
     "name": "stderr",
     "output_type": "stream",
     "text": [
      "TimeoutError (expected)\n"
     ]
    },
    {
     "name": "stdout",
     "output_type": "stream",
     "text": [
      "Start\n",
      "0 seconds have passed\n",
      "1 seconds have passed\n",
      "2 seconds have passed\n",
      "3 seconds have passed\n"
     ]
    },
    {
     "name": "stderr",
     "output_type": "stream",
     "text": [
      "TimeoutError (expected)\n"
     ]
    }
   ],
   "source": [
    "with ExpectTimeout(5, print_traceback=False):\n",
    "    with ExpectTimeout(3, print_traceback=False):\n",
    "        long_running_test()\n",
    "    long_running_test()"
   ]
  },
  {
   "cell_type": "markdown",
   "metadata": {
    "button": false,
    "new_sheet": false,
    "run_control": {
     "read_only": false
    },
    "slideshow": {
     "slide_type": "subslide"
    }
   },
   "source": [
    "That's it, folks – enjoy!"
   ]
  },
  {
   "cell_type": "markdown",
   "metadata": {
    "slideshow": {
     "slide_type": "slide"
    }
   },
   "source": [
    "## Synopsis\n",
    "\n",
    "The `ExpectError` class allows you to catch and report exceptions, yet resume execution.  This is useful in notebooks, as they would normally interrupt execution as soon as an exception is raised.  Its typical usage is in conjunction with a `with` clause:"
   ]
  },
  {
   "cell_type": "code",
   "execution_count": 17,
   "metadata": {
    "execution": {
     "iopub.execute_input": "2022-01-02T12:21:39.897845Z",
     "iopub.status.busy": "2022-01-02T12:21:39.897012Z",
     "iopub.status.idle": "2022-01-02T12:21:39.900507Z",
     "shell.execute_reply": "2022-01-02T12:21:39.901101Z"
    },
    "slideshow": {
     "slide_type": "fragment"
    }
   },
   "outputs": [
    {
     "name": "stderr",
     "output_type": "stream",
     "text": [
      "Traceback (most recent call last):\n",
      "  File \"/var/folders/n2/xd9445p97rb3xh7m1dfx8_4h0006ts/T/ipykernel_40760/2664980466.py\", line 2, in <module>\n",
      "    x = 1 / 0\n",
      "ZeroDivisionError: division by zero (expected)\n"
     ]
    }
   ],
   "source": [
    "with ExpectError():\n",
    "    x = 1 / 0"
   ]
  },
  {
   "cell_type": "markdown",
   "metadata": {
    "slideshow": {
     "slide_type": "subslide"
    }
   },
   "source": [
    "The `ExpectTimeout` class allows you to interrupt execution after the specified time.  This is useful for interrupting code that might otherwise run forever."
   ]
  },
  {
   "cell_type": "code",
   "execution_count": 18,
   "metadata": {
    "execution": {
     "iopub.execute_input": "2022-01-02T12:21:39.904890Z",
     "iopub.status.busy": "2022-01-02T12:21:39.904228Z",
     "iopub.status.idle": "2022-01-02T12:21:44.913908Z",
     "shell.execute_reply": "2022-01-02T12:21:44.914659Z"
    },
    "slideshow": {
     "slide_type": "subslide"
    }
   },
   "outputs": [
    {
     "name": "stdout",
     "output_type": "stream",
     "text": [
      "Start\n",
      "0 seconds have passed\n",
      "1 seconds have passed\n",
      "2 seconds have passed\n",
      "3 seconds have passed\n"
     ]
    },
    {
     "name": "stderr",
     "output_type": "stream",
     "text": [
      "Traceback (most recent call last):\n",
      "  File \"/var/folders/n2/xd9445p97rb3xh7m1dfx8_4h0006ts/T/ipykernel_40760/1223755941.py\", line 2, in <module>\n",
      "    long_running_test()\n",
      "  File \"/var/folders/n2/xd9445p97rb3xh7m1dfx8_4h0006ts/T/ipykernel_40760/3930412460.py\", line 4, in long_running_test\n",
      "    time.sleep(1)\n",
      "  File \"/Users/zeller/Projects/debuggingbook/notebooks/Timeout.ipynb\", line 43, in timeout_handler\n",
      "    raise TimeoutError()\n",
      "TimeoutError (expected)\n"
     ]
    }
   ],
   "source": [
    "with ExpectTimeout(5):\n",
    "    long_running_test()"
   ]
  },
  {
   "cell_type": "markdown",
   "metadata": {
    "slideshow": {
     "slide_type": "subslide"
    }
   },
   "source": [
    "The exception and the associated traceback are printed as error messages.  If you do not want that, \n",
    "use these keyword options:\n",
    "\n",
    "* `print_traceback` (default True) can be set to `False` to avoid the traceback being printed\n",
    "* `mute` (default False) can be set to `True` to completely avoid any output."
   ]
  },
  {
   "cell_type": "markdown",
   "metadata": {
    "button": false,
    "new_sheet": true,
    "run_control": {
     "read_only": false
    },
    "slideshow": {
     "slide_type": "slide"
    }
   },
   "source": [
    "## Lessons Learned\n",
    "\n",
    "* With the `ExpectError` class, it is very easy to handle errors without interrupting notebook execution."
   ]
  }
 ],
 "metadata": {
  "ipub": {
   "bibliography": "fuzzingbook.bib",
   "toc": true
  },
  "kernelspec": {
   "display_name": "Python 3 (ipykernel)",
   "language": "python",
   "name": "python3"
  },
  "language_info": {
   "codemirror_mode": {
    "name": "ipython",
    "version": 3
   },
   "file_extension": ".py",
   "mimetype": "text/x-python",
   "name": "python",
   "nbconvert_exporter": "python",
   "pygments_lexer": "ipython3",
   "version": "3.9.7"
  },
  "toc": {
   "base_numbering": 1,
   "nav_menu": {},
   "number_sections": true,
   "sideBar": true,
   "skip_h1_title": true,
   "title_cell": "",
   "title_sidebar": "Contents",
   "toc_cell": false,
   "toc_position": {},
   "toc_section_display": true,
   "toc_window_display": true
  },
  "toc-autonumbering": false
 },
 "nbformat": 4,
 "nbformat_minor": 4
}