{
 "cells": [
  {
   "cell_type": "markdown",
   "metadata": {
    "button": false,
    "new_sheet": false,
    "run_control": {
     "read_only": false
    },
    "slideshow": {
     "slide_type": "slide"
    }
   },
   "source": [
    "# Tracking Failure Origins\n",
    "\n",
    "The question of \"Where does this value come from?\" is fundamental for debugging. Which earlier variables could possibly have influenced the current erroneous state? And how did their values come to be?\n",
    "\n",
    "When programmers read code during debugging, they scan it for potential _origins_ of given values. This can be a tedious experience, notably if the origins is spread across multiple separate locations, possibly even in different modules. In this chapter, we thus investigate means to _determine such origins_ automatically – by collecting data and control dependencies during program execution."
   ]
  },
  {
   "cell_type": "code",
   "execution_count": 1,
   "metadata": {
    "slideshow": {
     "slide_type": "skip"
    }
   },
   "outputs": [],
   "source": [
    "from bookutils import YouTubeVideo\n",
    "# YouTubeVideo(\"w4u5gCgPlmg\")"
   ]
  },
  {
   "cell_type": "markdown",
   "metadata": {
    "button": false,
    "new_sheet": false,
    "run_control": {
     "read_only": false
    },
    "slideshow": {
     "slide_type": "subslide"
    }
   },
   "source": [
    "**Prerequisites**\n",
    "\n",
    "* You should have read the [Introduction to Debugging](Intro_Debugging).\n",
    "* To understand how to compute dependencies automatically, advanced knowledge of Python is required."
   ]
  },
  {
   "cell_type": "code",
   "execution_count": 2,
   "metadata": {
    "button": false,
    "new_sheet": false,
    "run_control": {
     "read_only": false
    },
    "slideshow": {
     "slide_type": "skip"
    }
   },
   "outputs": [],
   "source": [
    "import bookutils"
   ]
  },
  {
   "cell_type": "code",
   "execution_count": 3,
   "metadata": {
    "slideshow": {
     "slide_type": "skip"
    }
   },
   "outputs": [],
   "source": [
    "from bookutils import quiz, next_inputs, print_content"
   ]
  },
  {
   "cell_type": "markdown",
   "metadata": {
    "slideshow": {
     "slide_type": "skip"
    }
   },
   "source": [
    "## Synopsis\n",
    "<!-- Automatically generated. Do not edit. -->\n",
    "\n",
    "To [use the code provided in this chapter](Importing.ipynb), write\n",
    "\n",
    "```python\n",
    ">>> from debuggingbook.Slicer import <identifier>\n",
    "```\n",
    "\n",
    "and then make use of the following features.\n",
    "\n",
    "\n",
    "This chapter provides a `Slicer` class to automatically determine and visualize dynamic dependencies. When we say that a variable $x$ depends on a variable $y$ (written $x \\leftarrow y$), we distinguish two kinds of dependencies:\n",
    "\n",
    "* **data dependencies**: $x$ obtains its value from a computation involving the value of $y$.\n",
    "* **control dependencies**: $x$ obtains its value because of a computation involving the value of $y$.\n",
    "\n",
    "Such dependencies are crucial for debugging, as they allow to determine the origins of individual values (and notably incorrect values).\n",
    "\n",
    "To determine dynamic dependencies in a function `func` and its callees `func1`, `func2`, etc., use\n",
    "\n",
    "```python\n",
    "with Slicer(func, func1, func2) as slicer:\n",
    "    <Some code involving func()>\n",
    "```\n",
    "\n",
    "and then `slicer.graph()` or `slicer.code()` to examine dependencies.\n",
    "\n",
    "Here is an example:\n",
    "\n",
    "```python\n",
    ">>> def demo(x):\n",
    ">>>     z = x\n",
    ">>>     while x <= z <= 64:\n",
    ">>>         z *= 2\n",
    ">>>     return z\n",
    ">>> with Slicer(demo) as slicer:\n",
    ">>>     demo(10)\n",
    "```\n",
    "You can then use `slider.graph()` to visualize the dependencies as graph. Data dependencies are shown as black solid edges; control dependencies are shown as grey dashed edges. We see how the parameter `x` flows into `z`, which is returned after some computation that is control dependent on a `<test>` involving `z`.\n",
    "\n",
    "```python\n",
    ">>> slicer.graph()\n",
    "```\n",
    "![](PICS/Slicer-synopsis-1.svg)\n",
    "An alternate representation is `slicer.code()`, annotating the instrumented source code with (backward) dependencies. Data dependencies are shown with `<=`, control dependencies with `<-`; locations (lines) are shown in parentheses.\n",
    "\n",
    "```python\n",
    ">>> slicer.code()\n",
    "*    1 def demo(x):\n",
    "*    2     z = x  # <= x (1)\n",
    "*    3     while x <= z <= 64:  # <= <test> (3), z (4), x (1), z (2)\n",
    "*    4         z *= 2  # <= z (4), z (2); <- <test> (3)\n",
    "*    5     return z  # <= z (4)\n",
    "```\n",
    "Dependencies can also be retrieved programmatically. The `dependencies()` method returns a `Dependencies` object encapsulating the dependency graph.\n",
    "\n",
    "```python\n",
    ">>> slicer.dependencies()\n",
    "Dependencies({('x', ('demo', 1)): set(), ('z', ('demo', 2)): {('x', ('demo', 1))}, ('<test>', ('demo', 3)): {('<test>', ('demo', 3)), ('z', ('demo', 4)), ('x', ('demo', 1)), ('z', ('demo', 2))}, ('z', ('demo', 4)): {('z', ('demo', 4)), ('z', ('demo', 2))}, ('<demo() return value>', ('demo', 5)): {('z', ('demo', 4))}}, {('x', ('demo', 1)): set(), ('z', ('demo', 2)): set(), ('<test>', ('demo', 3)): set(), ('z', ('demo', 4)): {('<test>', ('demo', 3))}, ('<demo() return value>', ('demo', 5)): set()})\n",
    "```\n",
    "The method `all_vars()` returns all variables in the dependency graph. Each variable is encoded as a pair (_name_, _location_) where _location_ is a pair (_code_name_, _lineno_).\n",
    "\n",
    "```python\n",
    ">>> slicer.dependencies().all_vars()\n",
    "{('<demo() return value>', ('demo', 5)),\n",
    " ('<test>', ('demo', 3)),\n",
    " ('x', ('demo', 1)),\n",
    " ('z', ('demo', 2)),\n",
    " ('z', ('demo', 4))}\n",
    "```\n",
    "`code()` and `graph()` methods can also be applied on dependencies. The method `backward_slice(var)` returns a backward slice for the given variable. To retrieve where `z` in Line 2 came from, use:\n",
    "\n",
    "```python\n",
    ">>> _, start_demo = inspect.getsourcelines(demo)\n",
    ">>> start_demo\n",
    "1\n",
    ">>> slicer.dependencies().backward_slice(('z', ('demo', start_demo + 1))).graph()\n",
    "```\n",
    "![](PICS/Slicer-synopsis-2.svg)\n"
   ]
  },
  {
   "cell_type": "markdown",
   "metadata": {
    "button": false,
    "new_sheet": true,
    "run_control": {
     "read_only": false
    },
    "slideshow": {
     "slide_type": "slide"
    }
   },
   "source": [
    "## Dependencies\n",
    "\n",
    "In the [Introduction to debugging](Intro_Debugging.ipynb), we have seen how faults in a program state propagate to eventually become visible as failures. This induces a debugging strategy called _tracking origins_:"
   ]
  },
  {
   "cell_type": "markdown",
   "metadata": {
    "button": false,
    "new_sheet": true,
    "run_control": {
     "read_only": false
    },
    "slideshow": {
     "slide_type": "subslide"
    }
   },
   "source": [
    "1. We start with a single faulty state _f_ – the failure\n",
    "2. We determine f's _origins_ – the parts of earlier states that could have caused the faulty state _f_\n",
    "3. For each of these origins _e_, we determine whether they are faulty or not\n",
    "4. For each of the faulty origins, we in turn determine _their_ origins.\n",
    "5. If we find a part of the state that is faulty, yet has only correct origins, we have found the defect."
   ]
  },
  {
   "cell_type": "markdown",
   "metadata": {
    "button": false,
    "new_sheet": true,
    "run_control": {
     "read_only": false
    },
    "slideshow": {
     "slide_type": "subslide"
    }
   },
   "source": [
    "In all generality, a \"part of the state\" can be anything that can influence the program – some configuration setting, some database content, or the state of a device. Almost always, though, it is through _individual variables_ that a part of the state manifests itself.\n",
    "\n",
    "The good news is that variables do not take arbitrary values at arbitrary times – instead, they are set and accessed at precise moments in time, as determined by the program's semantics. This allows us to determine their _origins_ by reading program code."
   ]
  },
  {
   "cell_type": "markdown",
   "metadata": {
    "button": false,
    "new_sheet": true,
    "run_control": {
     "read_only": false
    },
    "slideshow": {
     "slide_type": "fragment"
    }
   },
   "source": [
    "Let us assume you have a piece of code that reads as follows. The `middle()` function is supposed to return the \"middle\" number of three values `x`, `y`, and `z` – that is, the one number that neither is the minimum nor the maximum."
   ]
  },
  {
   "cell_type": "code",
   "execution_count": 4,
   "metadata": {
    "slideshow": {
     "slide_type": "subslide"
    }
   },
   "outputs": [],
   "source": [
    "def middle(x, y, z):\n",
    "    if y < z:\n",
    "        if x < y:\n",
    "            return y\n",
    "        elif x < z:\n",
    "            return y\n",
    "    else:\n",
    "        if x > y:\n",
    "            return y\n",
    "        elif x > z:\n",
    "            return x\n",
    "    return z"
   ]
  },
  {
   "cell_type": "markdown",
   "metadata": {
    "slideshow": {
     "slide_type": "fragment"
    }
   },
   "source": [
    "In most cases, `middle()` runs just fine:"
   ]
  },
  {
   "cell_type": "code",
   "execution_count": 5,
   "metadata": {
    "slideshow": {
     "slide_type": "subslide"
    }
   },
   "outputs": [
    {
     "data": {
      "text/plain": [
       "2"
      ]
     },
     "execution_count": 5,
     "metadata": {},
     "output_type": "execute_result"
    }
   ],
   "source": [
    "m = middle(1, 2, 3)\n",
    "m"
   ]
  },
  {
   "cell_type": "markdown",
   "metadata": {
    "slideshow": {
     "slide_type": "fragment"
    }
   },
   "source": [
    "In others, however, it returns the wrong value:"
   ]
  },
  {
   "cell_type": "code",
   "execution_count": 6,
   "metadata": {
    "slideshow": {
     "slide_type": "fragment"
    }
   },
   "outputs": [
    {
     "data": {
      "text/plain": [
       "1"
      ]
     },
     "execution_count": 6,
     "metadata": {},
     "output_type": "execute_result"
    }
   ],
   "source": [
    "m = middle(2, 1, 3)\n",
    "m"
   ]
  },
  {
   "cell_type": "markdown",
   "metadata": {
    "slideshow": {
     "slide_type": "subslide"
    }
   },
   "source": [
    "This is a typical debugging situation: You see a value that is erroneous; and you want to find out where it came from. \n",
    "\n",
    "* In our case, we see that the erroneous value was returned from `middle()`, so we identify the five `return` statements in `middle()` that the value could have come from.\n",
    "* The value returned is the value of `y`, and neither `x`, `y`, nor `z` are altered during the execution of `middle()`. Hence, it must be one of the three `return y` statements that is the origin of `m`. But which one?\n",
    "\n",
    "For our small example, we can fire up an interactive debugger and simply step through the function; this reveals us the conditions evaluated and the `return` statement executed."
   ]
  },
  {
   "cell_type": "code",
   "execution_count": 7,
   "metadata": {
    "slideshow": {
     "slide_type": "skip"
    }
   },
   "outputs": [],
   "source": [
    "from Debugger import Debugger"
   ]
  },
  {
   "cell_type": "code",
   "execution_count": 8,
   "metadata": {
    "slideshow": {
     "slide_type": "subslide"
    }
   },
   "outputs": [],
   "source": [
    "# ignore\n",
    "next_inputs([\"step\", \"step\", \"step\", \"step\", \"quit\"]);"
   ]
  },
  {
   "cell_type": "code",
   "execution_count": 9,
   "metadata": {
    "slideshow": {
     "slide_type": "subslide"
    }
   },
   "outputs": [
    {
     "name": "stdout",
     "output_type": "stream",
     "text": [
      "Calling middle(z = 3, y = 1, x = 2)\n"
     ]
    },
    {
     "data": {
      "text/html": [
       "<samp>(debugger) <b>step</b></samp>"
      ],
      "text/plain": [
       "<IPython.core.display.HTML object>"
      ]
     },
     "metadata": {},
     "output_type": "display_data"
    },
    {
     "name": "stdout",
     "output_type": "stream",
     "text": [
      "2     if y < z:\n"
     ]
    },
    {
     "data": {
      "text/html": [
       "<samp>(debugger) <b>step</b></samp>"
      ],
      "text/plain": [
       "<IPython.core.display.HTML object>"
      ]
     },
     "metadata": {},
     "output_type": "display_data"
    },
    {
     "name": "stdout",
     "output_type": "stream",
     "text": [
      "3         if x < y:\n"
     ]
    },
    {
     "data": {
      "text/html": [
       "<samp>(debugger) <b>step</b></samp>"
      ],
      "text/plain": [
       "<IPython.core.display.HTML object>"
      ]
     },
     "metadata": {},
     "output_type": "display_data"
    },
    {
     "name": "stdout",
     "output_type": "stream",
     "text": [
      "5         elif x < z:\n"
     ]
    },
    {
     "data": {
      "text/html": [
       "<samp>(debugger) <b>step</b></samp>"
      ],
      "text/plain": [
       "<IPython.core.display.HTML object>"
      ]
     },
     "metadata": {},
     "output_type": "display_data"
    },
    {
     "name": "stdout",
     "output_type": "stream",
     "text": [
      "6             return y\n"
     ]
    },
    {
     "data": {
      "text/html": [
       "<samp>(debugger) <b>quit</b></samp>"
      ],
      "text/plain": [
       "<IPython.core.display.HTML object>"
      ]
     },
     "metadata": {},
     "output_type": "display_data"
    }
   ],
   "source": [
    "with Debugger():\n",
    "    middle(2, 1, 3)"
   ]
  },
  {
   "cell_type": "markdown",
   "metadata": {
    "slideshow": {
     "slide_type": "subslide"
    }
   },
   "source": [
    "We now see that it was the second `return` statement that returned the incorrect value. But why was it executed after all? To this end, we can resort to the `middle()` source code and have a look at those conditions that caused the `return y` statement to be executed. Indeed, the conditions `y < z`, `x > y`, and finally `x < z`again are _origins_ of the returned value – and in turn have `x`, `y`, and `z` as origins."
   ]
  },
  {
   "cell_type": "markdown",
   "metadata": {
    "slideshow": {
     "slide_type": "subslide"
    }
   },
   "source": [
    "In our above reasoning about origins, we have encountered two kinds of origins:\n",
    "\n",
    "* earlier _data values_ (such as the value of `y` being returned) and\n",
    "* earlier _control conditions_ (such as the `if` conditions governing the `return y` statement).\n",
    "\n",
    "The later parts of the state that can be influenced by such origins are said to be _dependent_ on these origins. Speaking of variables, a variable $x$ _depends_ on the value of a variable $y$ (written as $x \\leftarrow y$) if a change in $y$ could affect the value of $x$."
   ]
  },
  {
   "cell_type": "markdown",
   "metadata": {
    "slideshow": {
     "slide_type": "subslide"
    }
   },
   "source": [
    "We distinguish two kinds of dependencies $x \\leftarrow y$, aligned with the two kinds of origins as outlined above:\n",
    "\n",
    "* **Data dependency**: $x$ obtains its value from a computation involving the value of $y$. In our example, `m` is data dependent on the return value of `middle()`.\n",
    "* **Control dependency**: $x$ obtains its value because of a computation involving the value of $y$. In our example, the value returned by `return y` is control dependent on the several conditions along its path, which involve `x`, `y`, and `z`."
   ]
  },
  {
   "cell_type": "markdown",
   "metadata": {
    "slideshow": {
     "slide_type": "fragment"
    }
   },
   "source": [
    "Let us examine these dependencies in more detail."
   ]
  },
  {
   "cell_type": "markdown",
   "metadata": {
    "slideshow": {
     "slide_type": "subslide"
    }
   },
   "source": [
    "### Excursion: Visualizing Dependencies"
   ]
  },
  {
   "cell_type": "markdown",
   "metadata": {
    "slideshow": {
     "slide_type": "fragment"
    }
   },
   "source": [
    "Note: This is an excursion, diverting away from the main flow of the chapter. Unless you know what you are doing, you are encouraged to skip this part."
   ]
  },
  {
   "cell_type": "markdown",
   "metadata": {
    "slideshow": {
     "slide_type": "fragment"
    }
   },
   "source": [
    "To illustrate our examples, we introduce a `Dependencies` class that captures dependencies between variables at specific locations."
   ]
  },
  {
   "cell_type": "markdown",
   "metadata": {
    "slideshow": {
     "slide_type": "subslide"
    }
   },
   "source": [
    "#### A Class for Dependencies"
   ]
  },
  {
   "cell_type": "markdown",
   "metadata": {
    "slideshow": {
     "slide_type": "fragment"
    }
   },
   "source": [
    "`Dependencies` holds two dependency graphs. `data` holds data dependencies, `control` holds control dependencies."
   ]
  },
  {
   "cell_type": "code",
   "execution_count": 10,
   "metadata": {
    "slideshow": {
     "slide_type": "subslide"
    }
   },
   "outputs": [],
   "source": [
    "class Dependencies(object):\n",
    "    def __init__(self, data=None, control=None):\n",
    "        \"\"\"\n",
    "Create a dependency graph from data and control. Both are dictionaries\n",
    "holding _nodes_ as keys and lists of nodes as values.\n",
    "Each node comes as a tuple (variable_name, location)\n",
    "where `variable_name` is a string \n",
    "and `location` is a pair (code_name, lineno)\n",
    "denoting a unique location in the code.\n",
    "        \"\"\"\n",
    "        if data is None:\n",
    "            data = {}\n",
    "        if control is None:\n",
    "            control = {}\n",
    "\n",
    "        self.data = data\n",
    "        self.control = control\n",
    "\n",
    "        for var in self.data:\n",
    "            self.control.setdefault(var, set())\n",
    "        for var in self.control:\n",
    "            self.data.setdefault(var, set())\n",
    "\n",
    "        self.validate()"
   ]
  },
  {
   "cell_type": "markdown",
   "metadata": {
    "slideshow": {
     "slide_type": "subslide"
    }
   },
   "source": [
    "Each of the two is organized as a dictionary holding _nodes_ as keys and lists of nodes as values. Each node comes as a tuple\n",
    "\n",
    "```python\n",
    "(variable_name, location)\n",
    " ```\n",
    " \n",
    "where `variable_name` is a string and `location` is a pair\n",
    "\n",
    "\n",
    "```python\n",
    "(code_name, lineno)\n",
    " ```\n",
    " \n",
    "denoting a unique location in the code."
   ]
  },
  {
   "cell_type": "code",
   "execution_count": 11,
   "metadata": {
    "slideshow": {
     "slide_type": "subslide"
    }
   },
   "outputs": [],
   "source": [
    "class Dependencies(Dependencies):\n",
    "    def validate(self):\n",
    "        \"\"\"Check dependency structure.\"\"\"\n",
    "        assert isinstance(self.data, dict)\n",
    "        assert isinstance(self.control, dict)\n",
    "\n",
    "        for node in (self.data.keys()) | set(self.control.keys()):\n",
    "            var_name, location = node\n",
    "            assert isinstance(var_name, str)\n",
    "            func_name, lineno = location\n",
    "            assert isinstance(func_name, str)\n",
    "            assert isinstance(lineno, int)"
   ]
  },
  {
   "cell_type": "markdown",
   "metadata": {
    "slideshow": {
     "slide_type": "fragment"
    }
   },
   "source": [
    "The `source()` method returns the source code for a given node."
   ]
  },
  {
   "cell_type": "code",
   "execution_count": 12,
   "metadata": {
    "slideshow": {
     "slide_type": "skip"
    }
   },
   "outputs": [],
   "source": [
    "import inspect"
   ]
  },
  {
   "cell_type": "code",
   "execution_count": 13,
   "metadata": {
    "ipub": {
     "ignore": true
    },
    "slideshow": {
     "slide_type": "subslide"
    }
   },
   "outputs": [],
   "source": [
    "class Dependencies(Dependencies):\n",
    "    def source(self, node):\n",
    "        \"\"\"Return the source code for a given node.\"\"\"\n",
    "        (name, location) = node\n",
    "        code_name, lineno = location\n",
    "        if code_name not in globals():\n",
    "            return ''\n",
    "\n",
    "        fun = globals()[code_name]\n",
    "        source_lines, first_lineno = inspect.getsourcelines(fun)\n",
    "\n",
    "        try:\n",
    "            line = source_lines[lineno - first_lineno].strip()\n",
    "        except IndexError:\n",
    "            line = ''\n",
    "\n",
    "        return line"
   ]
  },
  {
   "cell_type": "code",
   "execution_count": 14,
   "metadata": {
    "slideshow": {
     "slide_type": "subslide"
    }
   },
   "outputs": [
    {
     "data": {
      "text/plain": [
       "'def middle(x, y, z):'"
      ]
     },
     "execution_count": 14,
     "metadata": {},
     "output_type": "execute_result"
    }
   ],
   "source": [
    "test_deps = Dependencies()\n",
    "test_deps.source(('z', ('middle', 1)))"
   ]
  },
  {
   "cell_type": "markdown",
   "metadata": {
    "slideshow": {
     "slide_type": "subslide"
    }
   },
   "source": [
    "#### Drawing Dependencies"
   ]
  },
  {
   "cell_type": "markdown",
   "metadata": {
    "slideshow": {
     "slide_type": "fragment"
    }
   },
   "source": [
    "Both data and control form a graph between nodes, and cam be visualized as such. We use the `graphviz` package for creating such visualizations."
   ]
  },
  {
   "cell_type": "code",
   "execution_count": 15,
   "metadata": {
    "ipub": {
     "ignore": true
    },
    "slideshow": {
     "slide_type": "skip"
    }
   },
   "outputs": [],
   "source": [
    "from graphviz import Digraph, nohtml"
   ]
  },
  {
   "cell_type": "markdown",
   "metadata": {
    "slideshow": {
     "slide_type": "fragment"
    }
   },
   "source": [
    "`make_graph()` sets the basic graph attributes."
   ]
  },
  {
   "cell_type": "code",
   "execution_count": 16,
   "metadata": {
    "slideshow": {
     "slide_type": "skip"
    }
   },
   "outputs": [],
   "source": [
    "import html"
   ]
  },
  {
   "cell_type": "code",
   "execution_count": 17,
   "metadata": {
    "slideshow": {
     "slide_type": "subslide"
    }
   },
   "outputs": [],
   "source": [
    "class Dependencies(Dependencies):\n",
    "    NODE_COLOR = 'peachpuff'\n",
    "    FONT_NAME = 'Fira Mono, Courier, monospace'\n",
    "\n",
    "    def make_graph(self, name=\"dependencies\", comment=\"Dependencies\"):\n",
    "        return Digraph(name=name, comment=comment, \n",
    "            graph_attr={\n",
    "            },\n",
    "            node_attr={\n",
    "                'style': 'filled',\n",
    "                'shape': 'box',\n",
    "                'fillcolor': self.NODE_COLOR,\n",
    "                'fontname': self.FONT_NAME\n",
    "            },\n",
    "            edge_attr={\n",
    "                'fontname': self.FONT_NAME\n",
    "            })"
   ]
  },
  {
   "cell_type": "markdown",
   "metadata": {
    "slideshow": {
     "slide_type": "subslide"
    }
   },
   "source": [
    "`graph()` returns a graph visualization."
   ]
  },
  {
   "cell_type": "code",
   "execution_count": 18,
   "metadata": {
    "slideshow": {
     "slide_type": "fragment"
    }
   },
   "outputs": [],
   "source": [
    "class Dependencies(Dependencies):\n",
    "    def graph(self):\n",
    "        \"\"\"Draw dependencies.\"\"\"\n",
    "        self.validate()\n",
    "\n",
    "        g = self.make_graph()\n",
    "        self.draw_dependencies(g)\n",
    "        self.add_hierarchy(g)\n",
    "        return g"
   ]
  },
  {
   "cell_type": "markdown",
   "metadata": {
    "slideshow": {
     "slide_type": "fragment"
    }
   },
   "source": [
    "The main part of graph drawing takes place in two methods, `draw_dependencies()` and `add_hierarchy()`."
   ]
  },
  {
   "cell_type": "markdown",
   "metadata": {
    "slideshow": {
     "slide_type": "fragment"
    }
   },
   "source": [
    "`draw_dependencies()` processes through the graph, adding nodes and edges from the dependencies."
   ]
  },
  {
   "cell_type": "code",
   "execution_count": 19,
   "metadata": {
    "slideshow": {
     "slide_type": "subslide"
    }
   },
   "outputs": [],
   "source": [
    "class Dependencies(Dependencies):\n",
    "    def all_vars(self):\n",
    "        all_vars = set()\n",
    "        for var in self.data:\n",
    "            all_vars.add(var)\n",
    "            for source in self.data[var]:\n",
    "                all_vars.add(source)\n",
    "\n",
    "        for var in self.control:\n",
    "            all_vars.add(var)\n",
    "            for source in self.control[var]:\n",
    "                all_vars.add(source)\n",
    "\n",
    "        return all_vars"
   ]
  },
  {
   "cell_type": "code",
   "execution_count": 20,
   "metadata": {
    "slideshow": {
     "slide_type": "subslide"
    }
   },
   "outputs": [],
   "source": [
    "class Dependencies(Dependencies):\n",
    "    def draw_dependencies(self, g):\n",
    "        for var in self.all_vars():\n",
    "            g.node(self.id(var),\n",
    "                   label=self.label(var),\n",
    "                   tooltip=self.tooltip(var))\n",
    "\n",
    "            if var in self.data:\n",
    "                for source in self.data[var]:\n",
    "                    g.edge(self.id(source), self.id(var))\n",
    "\n",
    "            if var in self.control:\n",
    "                for source in self.control[var]:\n",
    "                    g.edge(self.id(source), self.id(var),\n",
    "                           style='dashed', color='grey')"
   ]
  },
  {
   "cell_type": "markdown",
   "metadata": {
    "slideshow": {
     "slide_type": "subslide"
    }
   },
   "source": [
    "`draw_dependencies()` makes use of a few helper functions."
   ]
  },
  {
   "cell_type": "code",
   "execution_count": 21,
   "metadata": {
    "slideshow": {
     "slide_type": "subslide"
    }
   },
   "outputs": [],
   "source": [
    "class Dependencies(Dependencies):\n",
    "    def id(self, var):\n",
    "        \"\"\"Return a unique ID for VAR.\"\"\"\n",
    "        id = \"\"\n",
    "        # Avoid non-identifier characters\n",
    "        for c in repr(var):\n",
    "            if c.isalnum() or c == '_':\n",
    "                id += c\n",
    "            if c == ':' or c == ',':\n",
    "                id += '_'\n",
    "        return id\n",
    "\n",
    "    def label(self, var):\n",
    "        \"\"\"Render node VAR using HTML style.\"\"\"\n",
    "        (name, location) = var\n",
    "        source = self.source(var)\n",
    "\n",
    "        title = html.escape(name)\n",
    "        if name.startswith('<'):\n",
    "            title = f'<I>{title}</I>'\n",
    "\n",
    "        label = f'<B>{title}</B>'\n",
    "        if source:\n",
    "            label += (f'<FONT POINT-SIZE=\"9.0\"><BR/><BR/>'\n",
    "                    f'{html.escape(source)}'\n",
    "                    f'</FONT>')\n",
    "        label = f'<{label}>'\n",
    "        return label\n",
    "\n",
    "    def tooltip(self, var):\n",
    "        \"\"\"Return a tooltip for node VAR.\"\"\"\n",
    "        (name, location) = var\n",
    "        code_name, lineno = location\n",
    "        return f\"{code_name}:{lineno}\""
   ]
  },
  {
   "cell_type": "markdown",
   "metadata": {
    "slideshow": {
     "slide_type": "subslide"
    }
   },
   "source": [
    "In the second part of graph drawing, `add_hierarchy()` adds invisible edges to ensure that nodes with lower line numbers are drawn above nodes with higher line numbers."
   ]
  },
  {
   "cell_type": "code",
   "execution_count": 22,
   "metadata": {
    "slideshow": {
     "slide_type": "subslide"
    }
   },
   "outputs": [],
   "source": [
    "class Dependencies(Dependencies):\n",
    "    def add_hierarchy(self, g):\n",
    "        \"\"\"Add invisible edges for a proper hierarchy.\"\"\"\n",
    "        code_names = self.all_codes()\n",
    "        for code_name in code_names:\n",
    "            last_var = None\n",
    "            last_lineno = 0\n",
    "            for (lineno, var) in code_names[code_name]:\n",
    "                if last_var is not None and lineno > last_lineno:\n",
    "                    g.edge(self.id(last_var),\n",
    "                           self.id(var),\n",
    "                           style='invis')\n",
    "\n",
    "                last_var = var\n",
    "                last_lineno = lineno\n",
    "\n",
    "        return g"
   ]
  },
  {
   "cell_type": "code",
   "execution_count": 23,
   "metadata": {
    "slideshow": {
     "slide_type": "subslide"
    }
   },
   "outputs": [],
   "source": [
    "class Dependencies(Dependencies):\n",
    "    def all_codes(self):\n",
    "        code_names = {}\n",
    "        for var in self.all_vars():\n",
    "            (name, location) = var\n",
    "            code_name, lineno = location\n",
    "            if code_name not in code_names:\n",
    "                code_names[code_name] = []\n",
    "            code_names[code_name].append((lineno, var))\n",
    "\n",
    "        for code_name in code_names:\n",
    "            code_names[code_name].sort()\n",
    "\n",
    "        return code_names"
   ]
  },
  {
   "cell_type": "markdown",
   "metadata": {
    "slideshow": {
     "slide_type": "fragment"
    }
   },
   "source": [
    "Here comes the graph in all its glory:"
   ]
  },
  {
   "cell_type": "code",
   "execution_count": 24,
   "metadata": {
    "slideshow": {
     "slide_type": "subslide"
    }
   },
   "outputs": [],
   "source": [
    "def middle_deps():\n",
    "    return Dependencies({('z', ('middle', 1)): set(), ('y', ('middle', 1)): set(), ('x', ('middle', 1)): set(), ('<test>', ('middle', 2)): {('y', ('middle', 1)), ('z', ('middle', 1))}, ('<test>', ('middle', 3)): {('y', ('middle', 1)), ('x', ('middle', 1))}, ('<test>', ('middle', 5)): {('z', ('middle', 1)), ('x', ('middle', 1))}, ('<middle() return value>', ('middle', 6)): {('y', ('middle', 1))}}, {('z', ('middle', 1)): set(), ('y', ('middle', 1)): set(), ('x', ('middle', 1)): set(), ('<test>', ('middle', 2)): set(), ('<test>', ('middle', 3)): {('<test>', ('middle', 2))}, ('<test>', ('middle', 5)): {('<test>', ('middle', 3))}, ('<middle() return value>', ('middle', 6)): {('<test>', ('middle', 5))}})"
   ]
  },
  {
   "cell_type": "code",
   "execution_count": 25,
   "metadata": {
    "slideshow": {
     "slide_type": "fragment"
    }
   },
   "outputs": [
    {
     "data": {
      "image/svg+xml": [
       "<?xml version=\"1.0\" encoding=\"UTF-8\" standalone=\"no\"?>\n",
       "<!DOCTYPE svg PUBLIC \"-//W3C//DTD SVG 1.1//EN\"\n",
       " \"http://www.w3.org/Graphics/SVG/1.1/DTD/svg11.dtd\">\n",
       "<!-- Generated by graphviz version 2.40.1 (20161225.0304)\n",
       " -->\n",
       "<!-- Title: dependencies Pages: 1 -->\n",
       "<svg width=\"344pt\" height=\"352pt\"\n",
       " viewBox=\"0.00 0.00 344.27 352.00\" xmlns=\"http://www.w3.org/2000/svg\" xmlns:xlink=\"http://www.w3.org/1999/xlink\">\n",
       "<g id=\"graph0\" class=\"graph\" transform=\"scale(1 1) rotate(0) translate(4 348)\">\n",
       "<title>dependencies</title>\n",
       "<polygon fill=\"#ffffff\" stroke=\"transparent\" points=\"-4,4 -4,-348 340.2684,-348 340.2684,4 -4,4\"/>\n",
       "<!-- test_middle_5 -->\n",
       "<g id=\"node1\" class=\"node\">\n",
       "<title>test_middle_5</title>\n",
       "<g id=\"a_node1\"><a xlink:title=\"middle:5\">\n",
       "<polygon fill=\"#ffdab9\" stroke=\"#000000\" points=\"181.5,-116 105.5,-116 105.5,-76 181.5,-76 181.5,-116\"/>\n",
       "<text text-anchor=\"start\" x=\"118\" y=\"-101.8\" font-family=\"Fira Mono, Courier, monospace\" font-weight=\"bold\" font-style=\"italic\" font-size=\"14.00\" fill=\"#000000\">&lt;test&gt;</text>\n",
       "<text text-anchor=\"start\" x=\"113.5\" y=\"-82.8\" font-family=\"Fira Mono, Courier, monospace\" font-size=\"9.00\" fill=\"#000000\">elif x &lt; z:</text>\n",
       "</a>\n",
       "</g>\n",
       "</g>\n",
       "<!-- middlereturnvalue_middle_6 -->\n",
       "<g id=\"node7\" class=\"node\">\n",
       "<title>middlereturnvalue_middle_6</title>\n",
       "<g id=\"a_node7\"><a xlink:title=\"middle:6\">\n",
       "<polygon fill=\"#ffdab9\" stroke=\"#000000\" points=\"248.5,-40 38.5,-40 38.5,0 248.5,0 248.5,-40\"/>\n",
       "<text text-anchor=\"start\" x=\"46.5\" y=\"-25.8\" font-family=\"Fira Mono, Courier, monospace\" font-weight=\"bold\" font-style=\"italic\" font-size=\"14.00\" fill=\"#000000\">&lt;middle() return value&gt;</text>\n",
       "<text text-anchor=\"start\" x=\"121.5\" y=\"-6.8\" font-family=\"Fira Mono, Courier, monospace\" font-size=\"9.00\" fill=\"#000000\">return y</text>\n",
       "</a>\n",
       "</g>\n",
       "</g>\n",
       "<!-- test_middle_5&#45;&gt;middlereturnvalue_middle_6 -->\n",
       "<g id=\"edge10\" class=\"edge\">\n",
       "<title>test_middle_5&#45;&gt;middlereturnvalue_middle_6</title>\n",
       "<path fill=\"none\" stroke=\"#c0c0c0\" stroke-dasharray=\"5,2\" d=\"M137.4426,-75.6334C136.7819,-67.8186 136.5939,-58.7253 136.8786,-50.183\"/>\n",
       "<polygon fill=\"#c0c0c0\" stroke=\"#c0c0c0\" points=\"140.375,-50.3453 137.4602,-40.1593 133.3867,-49.9397 140.375,-50.3453\"/>\n",
       "</g>\n",
       "<!-- test_middle_5&#45;&gt;middlereturnvalue_middle_6 -->\n",
       "<!-- z_middle_1 -->\n",
       "<g id=\"node2\" class=\"node\">\n",
       "<title>z_middle_1</title>\n",
       "<g id=\"a_node2\"><a xlink:title=\"middle:1\">\n",
       "<polygon fill=\"#ffdab9\" stroke=\"#000000\" points=\"268,-344 143,-344 143,-304 268,-304 268,-344\"/>\n",
       "<text text-anchor=\"start\" x=\"201\" y=\"-329.8\" font-family=\"Fira Mono, Courier, monospace\" font-weight=\"bold\" font-size=\"14.00\" fill=\"#000000\">z</text>\n",
       "<text text-anchor=\"start\" x=\"151\" y=\"-310.8\" font-family=\"Fira Mono, Courier, monospace\" font-size=\"9.00\" fill=\"#000000\">def middle(x, y, z):</text>\n",
       "</a>\n",
       "</g>\n",
       "</g>\n",
       "<!-- z_middle_1&#45;&gt;test_middle_5 -->\n",
       "<g id=\"edge1\" class=\"edge\">\n",
       "<title>z_middle_1&#45;&gt;test_middle_5</title>\n",
       "<path fill=\"none\" stroke=\"#000000\" d=\"M268.0384,-310.9807C291.4312,-302.7478 315.6626,-289.4322 329.5,-268 339.1428,-253.0646 337.6589,-243.795 329.5,-228 300.5731,-172.0002 235.7076,-134.6065 190.7796,-114.3315\"/>\n",
       "<polygon fill=\"#000000\" stroke=\"#000000\" points=\"192.0787,-111.0794 181.5152,-110.2643 189.2648,-117.489 192.0787,-111.0794\"/>\n",
       "</g>\n",
       "<!-- test_middle_2 -->\n",
       "<g id=\"node5\" class=\"node\">\n",
       "<title>test_middle_2</title>\n",
       "<g id=\"a_node5\"><a xlink:title=\"middle:2\">\n",
       "<polygon fill=\"#ffdab9\" stroke=\"#000000\" points=\"177,-268 110,-268 110,-228 177,-228 177,-268\"/>\n",
       "<text text-anchor=\"start\" x=\"118\" y=\"-253.8\" font-family=\"Fira Mono, Courier, monospace\" font-weight=\"bold\" font-style=\"italic\" font-size=\"14.00\" fill=\"#000000\">&lt;test&gt;</text>\n",
       "<text text-anchor=\"start\" x=\"119\" y=\"-234.8\" font-family=\"Fira Mono, Courier, monospace\" font-size=\"9.00\" fill=\"#000000\">if y &lt; z:</text>\n",
       "</a>\n",
       "</g>\n",
       "</g>\n",
       "<!-- z_middle_1&#45;&gt;test_middle_2 -->\n",
       "<g id=\"edge5\" class=\"edge\">\n",
       "<title>z_middle_1&#45;&gt;test_middle_2</title>\n",
       "<path fill=\"none\" stroke=\"#000000\" d=\"M182.8277,-303.6334C175.2506,-295.2175 167.0121,-285.3188 159.9761,-276.2223\"/>\n",
       "<polygon fill=\"#000000\" stroke=\"#000000\" points=\"162.7167,-274.0433 153.906,-268.1593 157.1243,-278.2535 162.7167,-274.0433\"/>\n",
       "</g>\n",
       "<!-- z_middle_1&#45;&gt;test_middle_2 -->\n",
       "<!-- x_middle_1 -->\n",
       "<g id=\"node3\" class=\"node\">\n",
       "<title>x_middle_1</title>\n",
       "<g id=\"a_node3\"><a xlink:title=\"middle:1\">\n",
       "<polygon fill=\"#ffdab9\" stroke=\"#000000\" points=\"320,-268 195,-268 195,-228 320,-228 320,-268\"/>\n",
       "<text text-anchor=\"start\" x=\"253\" y=\"-253.8\" font-family=\"Fira Mono, Courier, monospace\" font-weight=\"bold\" font-size=\"14.00\" fill=\"#000000\">x</text>\n",
       "<text text-anchor=\"start\" x=\"203\" y=\"-234.8\" font-family=\"Fira Mono, Courier, monospace\" font-size=\"9.00\" fill=\"#000000\">def middle(x, y, z):</text>\n",
       "</a>\n",
       "</g>\n",
       "</g>\n",
       "<!-- x_middle_1&#45;&gt;test_middle_5 -->\n",
       "<g id=\"edge2\" class=\"edge\">\n",
       "<title>x_middle_1&#45;&gt;test_middle_5</title>\n",
       "<path fill=\"none\" stroke=\"#000000\" d=\"M242.3617,-227.8156C222.4314,-201.2419 187.2834,-154.3778 164.7109,-124.2812\"/>\n",
       "<polygon fill=\"#000000\" stroke=\"#000000\" points=\"167.501,-122.1679 158.7009,-116.2679 161.901,-126.3679 167.501,-122.1679\"/>\n",
       "</g>\n",
       "<!-- test_middle_3 -->\n",
       "<g id=\"node4\" class=\"node\">\n",
       "<title>test_middle_3</title>\n",
       "<g id=\"a_node4\"><a xlink:title=\"middle:3\">\n",
       "<polygon fill=\"#ffdab9\" stroke=\"#000000\" points=\"177,-192 110,-192 110,-152 177,-152 177,-192\"/>\n",
       "<text text-anchor=\"start\" x=\"118\" y=\"-177.8\" font-family=\"Fira Mono, Courier, monospace\" font-weight=\"bold\" font-style=\"italic\" font-size=\"14.00\" fill=\"#000000\">&lt;test&gt;</text>\n",
       "<text text-anchor=\"start\" x=\"119\" y=\"-158.8\" font-family=\"Fira Mono, Courier, monospace\" font-size=\"9.00\" fill=\"#000000\">if x &lt; y:</text>\n",
       "</a>\n",
       "</g>\n",
       "</g>\n",
       "<!-- x_middle_1&#45;&gt;test_middle_3 -->\n",
       "<g id=\"edge7\" class=\"edge\">\n",
       "<title>x_middle_1&#45;&gt;test_middle_3</title>\n",
       "<path fill=\"none\" stroke=\"#000000\" d=\"M227.2494,-227.8329C213.4642,-218.6428 196.9794,-207.6529 182.2955,-197.8637\"/>\n",
       "<polygon fill=\"#000000\" stroke=\"#000000\" points=\"184.154,-194.8962 173.892,-192.2613 180.271,-200.7205 184.154,-194.8962\"/>\n",
       "</g>\n",
       "<!-- test_middle_3&#45;&gt;test_middle_5 -->\n",
       "<g id=\"edge3\" class=\"edge\">\n",
       "<title>test_middle_3&#45;&gt;test_middle_5</title>\n",
       "<path fill=\"none\" stroke=\"#c0c0c0\" stroke-dasharray=\"5,2\" d=\"M137.4426,-151.6334C136.7819,-143.8186 136.5939,-134.7253 136.8786,-126.183\"/>\n",
       "<polygon fill=\"#c0c0c0\" stroke=\"#c0c0c0\" points=\"140.375,-126.3453 137.4602,-116.1593 133.3867,-125.9397 140.375,-126.3453\"/>\n",
       "</g>\n",
       "<!-- test_middle_3&#45;&gt;test_middle_5 -->\n",
       "<!-- test_middle_2&#45;&gt;test_middle_3 -->\n",
       "<g id=\"edge8\" class=\"edge\">\n",
       "<title>test_middle_2&#45;&gt;test_middle_3</title>\n",
       "<path fill=\"none\" stroke=\"#c0c0c0\" stroke-dasharray=\"5,2\" d=\"M137.4426,-227.6334C136.7819,-219.8186 136.5939,-210.7253 136.8786,-202.183\"/>\n",
       "<polygon fill=\"#c0c0c0\" stroke=\"#c0c0c0\" points=\"140.375,-202.3453 137.4602,-192.1593 133.3867,-201.9397 140.375,-202.3453\"/>\n",
       "</g>\n",
       "<!-- test_middle_2&#45;&gt;test_middle_3 -->\n",
       "<!-- y_middle_1 -->\n",
       "<g id=\"node6\" class=\"node\">\n",
       "<title>y_middle_1</title>\n",
       "<g id=\"a_node6\"><a xlink:title=\"middle:1\">\n",
       "<polygon fill=\"#ffdab9\" stroke=\"#000000\" points=\"125,-344 0,-344 0,-304 125,-304 125,-344\"/>\n",
       "<text text-anchor=\"start\" x=\"58\" y=\"-329.8\" font-family=\"Fira Mono, Courier, monospace\" font-weight=\"bold\" font-size=\"14.00\" fill=\"#000000\">y</text>\n",
       "<text text-anchor=\"start\" x=\"8\" y=\"-310.8\" font-family=\"Fira Mono, Courier, monospace\" font-size=\"9.00\" fill=\"#000000\">def middle(x, y, z):</text>\n",
       "</a>\n",
       "</g>\n",
       "</g>\n",
       "<!-- y_middle_1&#45;&gt;test_middle_3 -->\n",
       "<g id=\"edge6\" class=\"edge\">\n",
       "<title>y_middle_1&#45;&gt;test_middle_3</title>\n",
       "<path fill=\"none\" stroke=\"#000000\" d=\"M68.6772,-303.7746C75.1871,-283.8201 86.4409,-252.7916 100.5,-228 105.9528,-218.3845 112.8999,-208.5944 119.6118,-199.9458\"/>\n",
       "<polygon fill=\"#000000\" stroke=\"#000000\" points=\"122.4143,-202.0453 125.9184,-192.0466 116.9439,-197.6777 122.4143,-202.0453\"/>\n",
       "</g>\n",
       "<!-- y_middle_1&#45;&gt;test_middle_2 -->\n",
       "<g id=\"edge4\" class=\"edge\">\n",
       "<title>y_middle_1&#45;&gt;test_middle_2</title>\n",
       "<path fill=\"none\" stroke=\"#000000\" d=\"M84.2065,-303.6334C93.5422,-294.8739 104.5898,-284.5083 114.6037,-275.1125\"/>\n",
       "<polygon fill=\"#000000\" stroke=\"#000000\" points=\"117.1167,-277.5541 122.0144,-268.1593 112.327,-272.4493 117.1167,-277.5541\"/>\n",
       "</g>\n",
       "<!-- y_middle_1&#45;&gt;middlereturnvalue_middle_6 -->\n",
       "<g id=\"edge9\" class=\"edge\">\n",
       "<title>y_middle_1&#45;&gt;middlereturnvalue_middle_6</title>\n",
       "<path fill=\"none\" stroke=\"#000000\" d=\"M61.5752,-303.6921C60.3605,-260.0002 61.6299,-154.6654 96.5,-76 100.9826,-65.8875 107.8599,-56.1704 114.9821,-47.7513\"/>\n",
       "<polygon fill=\"#000000\" stroke=\"#000000\" points=\"117.7606,-49.8948 121.8155,-40.1066 112.5416,-45.2297 117.7606,-49.8948\"/>\n",
       "</g>\n",
       "</g>\n",
       "</svg>\n"
      ],
      "text/plain": [
       "<graphviz.dot.Digraph at 0x7f83c4058d30>"
      ]
     },
     "execution_count": 25,
     "metadata": {},
     "output_type": "execute_result"
    }
   ],
   "source": [
    "middle_deps().graph()"
   ]
  },
  {
   "cell_type": "markdown",
   "metadata": {
    "slideshow": {
     "slide_type": "subslide"
    }
   },
   "source": [
    "#### Slices\n",
    "\n",
    "The method `backward_slice(*items, mode='cd')` returns a subset of dependencies, following dependencies backward from the given `items`. The extra parameter `mode` controls which dependencies are to be included:\n",
    "\n",
    "* **`d`** = data dependencies\n",
    "* **`c`** = control dependencies"
   ]
  },
  {
   "cell_type": "code",
   "execution_count": 26,
   "metadata": {
    "slideshow": {
     "slide_type": "subslide"
    }
   },
   "outputs": [],
   "source": [
    "class Dependencies(Dependencies):\n",
    "    def expand_items(self, items):\n",
    "        all_items = []\n",
    "        for item in items:\n",
    "            if isinstance(item, str):\n",
    "                for var in self.all_vars():\n",
    "                    (name, location) = var\n",
    "                    if name == item:\n",
    "                        all_items.append(var)\n",
    "            else:\n",
    "                all_items.append(item)\n",
    "\n",
    "        return all_items\n",
    "\n",
    "    def backward_slice(self, *items, mode=\"cd\", depth=-1):\n",
    "        \"\"\"Create a backward slice from nodes ITEMS.\"\"\"\n",
    "        data = {}\n",
    "        control = {}\n",
    "        queue = self.expand_items(items)\n",
    "        seen = set()\n",
    "\n",
    "        while len(queue) > 0 and depth != 0:\n",
    "            var = queue[0]\n",
    "            queue = queue[1:]\n",
    "            seen.add(var)\n",
    "\n",
    "            if 'd' in mode:\n",
    "                # Follow data dependencies\n",
    "                data[var] = self.data[var]\n",
    "                for next_var in data[var]:\n",
    "                    if next_var not in seen:\n",
    "                        queue.append(next_var)\n",
    "            else:\n",
    "                data[var] = set()\n",
    "\n",
    "            if 'c' in mode:\n",
    "                # Follow control dependencies\n",
    "                control[var] = self.control[var]\n",
    "                for next_var in control[var]:\n",
    "                    if next_var not in seen:\n",
    "                        queue.append(next_var)\n",
    "            else:\n",
    "                control[var] = set()\n",
    "\n",
    "            depth -= 1\n",
    "\n",
    "        return Dependencies(data, control)"
   ]
  },
  {
   "cell_type": "markdown",
   "metadata": {
    "slideshow": {
     "slide_type": "subslide"
    }
   },
   "source": [
    "### End of Excursion"
   ]
  },
  {
   "cell_type": "markdown",
   "metadata": {
    "slideshow": {
     "slide_type": "subslide"
    }
   },
   "source": [
    "### Data Dependencies\n",
    "\n",
    "Here is an example of a data dependency in our `middle()` program. The value `y` returned by `middle()` comes from the value `y` as originally passed as argument. We use arrows $x \\leftarrow y$ to indicate that a variable $x$ depends on an earlier variable $y$:"
   ]
  },
  {
   "cell_type": "code",
   "execution_count": 27,
   "metadata": {
    "slideshow": {
     "slide_type": "fragment"
    }
   },
   "outputs": [
    {
     "data": {
      "image/svg+xml": [
       "<?xml version=\"1.0\" encoding=\"UTF-8\" standalone=\"no\"?>\n",
       "<!DOCTYPE svg PUBLIC \"-//W3C//DTD SVG 1.1//EN\"\n",
       " \"http://www.w3.org/Graphics/SVG/1.1/DTD/svg11.dtd\">\n",
       "<!-- Generated by graphviz version 2.40.1 (20161225.0304)\n",
       " -->\n",
       "<!-- Title: dependencies Pages: 1 -->\n",
       "<svg width=\"218pt\" height=\"124pt\"\n",
       " viewBox=\"0.00 0.00 218.00 124.00\" xmlns=\"http://www.w3.org/2000/svg\" xmlns:xlink=\"http://www.w3.org/1999/xlink\">\n",
       "<g id=\"graph0\" class=\"graph\" transform=\"scale(1 1) rotate(0) translate(4 120)\">\n",
       "<title>dependencies</title>\n",
       "<polygon fill=\"#ffffff\" stroke=\"transparent\" points=\"-4,4 -4,-120 214,-120 214,4 -4,4\"/>\n",
       "<!-- y_middle_1 -->\n",
       "<g id=\"node1\" class=\"node\">\n",
       "<title>y_middle_1</title>\n",
       "<g id=\"a_node1\"><a xlink:title=\"middle:1\">\n",
       "<polygon fill=\"#ffdab9\" stroke=\"#000000\" points=\"167.5,-116 42.5,-116 42.5,-76 167.5,-76 167.5,-116\"/>\n",
       "<text text-anchor=\"start\" x=\"100.5\" y=\"-101.8\" font-family=\"Fira Mono, Courier, monospace\" font-weight=\"bold\" font-size=\"14.00\" fill=\"#000000\">y</text>\n",
       "<text text-anchor=\"start\" x=\"50.5\" y=\"-82.8\" font-family=\"Fira Mono, Courier, monospace\" font-size=\"9.00\" fill=\"#000000\">def middle(x, y, z):</text>\n",
       "</a>\n",
       "</g>\n",
       "</g>\n",
       "<!-- middlereturnvalue_middle_6 -->\n",
       "<g id=\"node2\" class=\"node\">\n",
       "<title>middlereturnvalue_middle_6</title>\n",
       "<g id=\"a_node2\"><a xlink:title=\"middle:6\">\n",
       "<polygon fill=\"#ffdab9\" stroke=\"#000000\" points=\"210,-40 0,-40 0,0 210,0 210,-40\"/>\n",
       "<text text-anchor=\"start\" x=\"8\" y=\"-25.8\" font-family=\"Fira Mono, Courier, monospace\" font-weight=\"bold\" font-style=\"italic\" font-size=\"14.00\" fill=\"#000000\">&lt;middle() return value&gt;</text>\n",
       "<text text-anchor=\"start\" x=\"83\" y=\"-6.8\" font-family=\"Fira Mono, Courier, monospace\" font-size=\"9.00\" fill=\"#000000\">return y</text>\n",
       "</a>\n",
       "</g>\n",
       "</g>\n",
       "<!-- y_middle_1&#45;&gt;middlereturnvalue_middle_6 -->\n",
       "<g id=\"edge1\" class=\"edge\">\n",
       "<title>y_middle_1&#45;&gt;middlereturnvalue_middle_6</title>\n",
       "<path fill=\"none\" stroke=\"#000000\" d=\"M98.9426,-75.6334C98.2819,-67.8186 98.0939,-58.7253 98.3786,-50.183\"/>\n",
       "<polygon fill=\"#000000\" stroke=\"#000000\" points=\"101.875,-50.3453 98.9602,-40.1593 94.8867,-49.9397 101.875,-50.3453\"/>\n",
       "</g>\n",
       "<!-- y_middle_1&#45;&gt;middlereturnvalue_middle_6 -->\n",
       "</g>\n",
       "</svg>\n"
      ],
      "text/plain": [
       "<graphviz.dot.Digraph at 0x7f83c3f02860>"
      ]
     },
     "execution_count": 27,
     "metadata": {},
     "output_type": "execute_result"
    }
   ],
   "source": [
    "# ignore\n",
    "middle_deps().backward_slice('<middle() return value>', mode='d').graph()"
   ]
  },
  {
   "cell_type": "markdown",
   "metadata": {
    "slideshow": {
     "slide_type": "fragment"
    }
   },
   "source": [
    "Here, we can see that the value `y` in the return statement is data dependent on the value of `y` as passed to `middle()`. An alternate interpretation of this graph is a *data flow*: The value of `y` in the upper node _flows_ into the value of `y` in the lower node."
   ]
  },
  {
   "cell_type": "markdown",
   "metadata": {
    "slideshow": {
     "slide_type": "subslide"
    }
   },
   "source": [
    "Since we consider the values of variables at specific locations in the program, such data dependencies can also be interpreted as dependencies between _statements_ – the above `return` statement thus is data dependent on the initialization of `y` in the upper node."
   ]
  },
  {
   "cell_type": "markdown",
   "metadata": {
    "slideshow": {
     "slide_type": "subslide"
    }
   },
   "source": [
    "### Control Dependencies\n",
    "\n",
    "Here is an example of a control dependency. The execution of the above `return` statement is controlled by the earlier test `x < z`. We use grey dashed lines to indicate control dependencies:"
   ]
  },
  {
   "cell_type": "code",
   "execution_count": 28,
   "metadata": {
    "slideshow": {
     "slide_type": "fragment"
    }
   },
   "outputs": [
    {
     "data": {
      "image/svg+xml": [
       "<?xml version=\"1.0\" encoding=\"UTF-8\" standalone=\"no\"?>\n",
       "<!DOCTYPE svg PUBLIC \"-//W3C//DTD SVG 1.1//EN\"\n",
       " \"http://www.w3.org/Graphics/SVG/1.1/DTD/svg11.dtd\">\n",
       "<!-- Generated by graphviz version 2.40.1 (20161225.0304)\n",
       " -->\n",
       "<!-- Title: dependencies Pages: 1 -->\n",
       "<svg width=\"218pt\" height=\"124pt\"\n",
       " viewBox=\"0.00 0.00 218.00 124.00\" xmlns=\"http://www.w3.org/2000/svg\" xmlns:xlink=\"http://www.w3.org/1999/xlink\">\n",
       "<g id=\"graph0\" class=\"graph\" transform=\"scale(1 1) rotate(0) translate(4 120)\">\n",
       "<title>dependencies</title>\n",
       "<polygon fill=\"#ffffff\" stroke=\"transparent\" points=\"-4,4 -4,-120 214,-120 214,4 -4,4\"/>\n",
       "<!-- test_middle_5 -->\n",
       "<g id=\"node1\" class=\"node\">\n",
       "<title>test_middle_5</title>\n",
       "<g id=\"a_node1\"><a xlink:title=\"middle:5\">\n",
       "<polygon fill=\"#ffdab9\" stroke=\"#000000\" points=\"143,-116 67,-116 67,-76 143,-76 143,-116\"/>\n",
       "<text text-anchor=\"start\" x=\"79.5\" y=\"-101.8\" font-family=\"Fira Mono, Courier, monospace\" font-weight=\"bold\" font-style=\"italic\" font-size=\"14.00\" fill=\"#000000\">&lt;test&gt;</text>\n",
       "<text text-anchor=\"start\" x=\"75\" y=\"-82.8\" font-family=\"Fira Mono, Courier, monospace\" font-size=\"9.00\" fill=\"#000000\">elif x &lt; z:</text>\n",
       "</a>\n",
       "</g>\n",
       "</g>\n",
       "<!-- middlereturnvalue_middle_6 -->\n",
       "<g id=\"node2\" class=\"node\">\n",
       "<title>middlereturnvalue_middle_6</title>\n",
       "<g id=\"a_node2\"><a xlink:title=\"middle:6\">\n",
       "<polygon fill=\"#ffdab9\" stroke=\"#000000\" points=\"210,-40 0,-40 0,0 210,0 210,-40\"/>\n",
       "<text text-anchor=\"start\" x=\"8\" y=\"-25.8\" font-family=\"Fira Mono, Courier, monospace\" font-weight=\"bold\" font-style=\"italic\" font-size=\"14.00\" fill=\"#000000\">&lt;middle() return value&gt;</text>\n",
       "<text text-anchor=\"start\" x=\"83\" y=\"-6.8\" font-family=\"Fira Mono, Courier, monospace\" font-size=\"9.00\" fill=\"#000000\">return y</text>\n",
       "</a>\n",
       "</g>\n",
       "</g>\n",
       "<!-- test_middle_5&#45;&gt;middlereturnvalue_middle_6 -->\n",
       "<g id=\"edge1\" class=\"edge\">\n",
       "<title>test_middle_5&#45;&gt;middlereturnvalue_middle_6</title>\n",
       "<path fill=\"none\" stroke=\"#c0c0c0\" stroke-dasharray=\"5,2\" d=\"M98.9426,-75.6334C98.2819,-67.8186 98.0939,-58.7253 98.3786,-50.183\"/>\n",
       "<polygon fill=\"#c0c0c0\" stroke=\"#c0c0c0\" points=\"101.875,-50.3453 98.9602,-40.1593 94.8867,-49.9397 101.875,-50.3453\"/>\n",
       "</g>\n",
       "<!-- test_middle_5&#45;&gt;middlereturnvalue_middle_6 -->\n",
       "</g>\n",
       "</svg>\n"
      ],
      "text/plain": [
       "<graphviz.dot.Digraph at 0x7f83c3ed1a20>"
      ]
     },
     "execution_count": 28,
     "metadata": {},
     "output_type": "execute_result"
    }
   ],
   "source": [
    "# ignore\n",
    "middle_deps().backward_slice('<middle() return value>', mode='c', depth=1).graph()"
   ]
  },
  {
   "cell_type": "markdown",
   "metadata": {
    "slideshow": {
     "slide_type": "fragment"
    }
   },
   "source": [
    "This test in turn is controlled by earlier tests, so the full chain of control dependencies looks like this:"
   ]
  },
  {
   "cell_type": "code",
   "execution_count": 29,
   "metadata": {
    "slideshow": {
     "slide_type": "fragment"
    }
   },
   "outputs": [
    {
     "data": {
      "image/svg+xml": [
       "<?xml version=\"1.0\" encoding=\"UTF-8\" standalone=\"no\"?>\n",
       "<!DOCTYPE svg PUBLIC \"-//W3C//DTD SVG 1.1//EN\"\n",
       " \"http://www.w3.org/Graphics/SVG/1.1/DTD/svg11.dtd\">\n",
       "<!-- Generated by graphviz version 2.40.1 (20161225.0304)\n",
       " -->\n",
       "<!-- Title: dependencies Pages: 1 -->\n",
       "<svg width=\"218pt\" height=\"276pt\"\n",
       " viewBox=\"0.00 0.00 218.00 276.00\" xmlns=\"http://www.w3.org/2000/svg\" xmlns:xlink=\"http://www.w3.org/1999/xlink\">\n",
       "<g id=\"graph0\" class=\"graph\" transform=\"scale(1 1) rotate(0) translate(4 272)\">\n",
       "<title>dependencies</title>\n",
       "<polygon fill=\"#ffffff\" stroke=\"transparent\" points=\"-4,4 -4,-272 214,-272 214,4 -4,4\"/>\n",
       "<!-- test_middle_5 -->\n",
       "<g id=\"node1\" class=\"node\">\n",
       "<title>test_middle_5</title>\n",
       "<g id=\"a_node1\"><a xlink:title=\"middle:5\">\n",
       "<polygon fill=\"#ffdab9\" stroke=\"#000000\" points=\"143,-116 67,-116 67,-76 143,-76 143,-116\"/>\n",
       "<text text-anchor=\"start\" x=\"79.5\" y=\"-101.8\" font-family=\"Fira Mono, Courier, monospace\" font-weight=\"bold\" font-style=\"italic\" font-size=\"14.00\" fill=\"#000000\">&lt;test&gt;</text>\n",
       "<text text-anchor=\"start\" x=\"75\" y=\"-82.8\" font-family=\"Fira Mono, Courier, monospace\" font-size=\"9.00\" fill=\"#000000\">elif x &lt; z:</text>\n",
       "</a>\n",
       "</g>\n",
       "</g>\n",
       "<!-- middlereturnvalue_middle_6 -->\n",
       "<g id=\"node4\" class=\"node\">\n",
       "<title>middlereturnvalue_middle_6</title>\n",
       "<g id=\"a_node4\"><a xlink:title=\"middle:6\">\n",
       "<polygon fill=\"#ffdab9\" stroke=\"#000000\" points=\"210,-40 0,-40 0,0 210,0 210,-40\"/>\n",
       "<text text-anchor=\"start\" x=\"8\" y=\"-25.8\" font-family=\"Fira Mono, Courier, monospace\" font-weight=\"bold\" font-style=\"italic\" font-size=\"14.00\" fill=\"#000000\">&lt;middle() return value&gt;</text>\n",
       "<text text-anchor=\"start\" x=\"83\" y=\"-6.8\" font-family=\"Fira Mono, Courier, monospace\" font-size=\"9.00\" fill=\"#000000\">return y</text>\n",
       "</a>\n",
       "</g>\n",
       "</g>\n",
       "<!-- test_middle_5&#45;&gt;middlereturnvalue_middle_6 -->\n",
       "<g id=\"edge3\" class=\"edge\">\n",
       "<title>test_middle_5&#45;&gt;middlereturnvalue_middle_6</title>\n",
       "<path fill=\"none\" stroke=\"#c0c0c0\" stroke-dasharray=\"5,2\" d=\"M98.9426,-75.6334C98.2819,-67.8186 98.0939,-58.7253 98.3786,-50.183\"/>\n",
       "<polygon fill=\"#c0c0c0\" stroke=\"#c0c0c0\" points=\"101.875,-50.3453 98.9602,-40.1593 94.8867,-49.9397 101.875,-50.3453\"/>\n",
       "</g>\n",
       "<!-- test_middle_5&#45;&gt;middlereturnvalue_middle_6 -->\n",
       "<!-- test_middle_3 -->\n",
       "<g id=\"node2\" class=\"node\">\n",
       "<title>test_middle_3</title>\n",
       "<g id=\"a_node2\"><a xlink:title=\"middle:3\">\n",
       "<polygon fill=\"#ffdab9\" stroke=\"#000000\" points=\"138.5,-192 71.5,-192 71.5,-152 138.5,-152 138.5,-192\"/>\n",
       "<text text-anchor=\"start\" x=\"79.5\" y=\"-177.8\" font-family=\"Fira Mono, Courier, monospace\" font-weight=\"bold\" font-style=\"italic\" font-size=\"14.00\" fill=\"#000000\">&lt;test&gt;</text>\n",
       "<text text-anchor=\"start\" x=\"80.5\" y=\"-158.8\" font-family=\"Fira Mono, Courier, monospace\" font-size=\"9.00\" fill=\"#000000\">if x &lt; y:</text>\n",
       "</a>\n",
       "</g>\n",
       "</g>\n",
       "<!-- test_middle_3&#45;&gt;test_middle_5 -->\n",
       "<g id=\"edge1\" class=\"edge\">\n",
       "<title>test_middle_3&#45;&gt;test_middle_5</title>\n",
       "<path fill=\"none\" stroke=\"#c0c0c0\" stroke-dasharray=\"5,2\" d=\"M98.9426,-151.6334C98.2819,-143.8186 98.0939,-134.7253 98.3786,-126.183\"/>\n",
       "<polygon fill=\"#c0c0c0\" stroke=\"#c0c0c0\" points=\"101.875,-126.3453 98.9602,-116.1593 94.8867,-125.9397 101.875,-126.3453\"/>\n",
       "</g>\n",
       "<!-- test_middle_3&#45;&gt;test_middle_5 -->\n",
       "<!-- test_middle_2 -->\n",
       "<g id=\"node3\" class=\"node\">\n",
       "<title>test_middle_2</title>\n",
       "<g id=\"a_node3\"><a xlink:title=\"middle:2\">\n",
       "<polygon fill=\"#ffdab9\" stroke=\"#000000\" points=\"138.5,-268 71.5,-268 71.5,-228 138.5,-228 138.5,-268\"/>\n",
       "<text text-anchor=\"start\" x=\"79.5\" y=\"-253.8\" font-family=\"Fira Mono, Courier, monospace\" font-weight=\"bold\" font-style=\"italic\" font-size=\"14.00\" fill=\"#000000\">&lt;test&gt;</text>\n",
       "<text text-anchor=\"start\" x=\"80.5\" y=\"-234.8\" font-family=\"Fira Mono, Courier, monospace\" font-size=\"9.00\" fill=\"#000000\">if y &lt; z:</text>\n",
       "</a>\n",
       "</g>\n",
       "</g>\n",
       "<!-- test_middle_2&#45;&gt;test_middle_3 -->\n",
       "<g id=\"edge2\" class=\"edge\">\n",
       "<title>test_middle_2&#45;&gt;test_middle_3</title>\n",
       "<path fill=\"none\" stroke=\"#c0c0c0\" stroke-dasharray=\"5,2\" d=\"M98.9426,-227.6334C98.2819,-219.8186 98.0939,-210.7253 98.3786,-202.183\"/>\n",
       "<polygon fill=\"#c0c0c0\" stroke=\"#c0c0c0\" points=\"101.875,-202.3453 98.9602,-192.1593 94.8867,-201.9397 101.875,-202.3453\"/>\n",
       "</g>\n",
       "<!-- test_middle_2&#45;&gt;test_middle_3 -->\n",
       "</g>\n",
       "</svg>\n"
      ],
      "text/plain": [
       "<graphviz.dot.Digraph at 0x7f83c3ed1208>"
      ]
     },
     "execution_count": 29,
     "metadata": {},
     "output_type": "execute_result"
    }
   ],
   "source": [
    "# ignore\n",
    "middle_deps().backward_slice('<middle() return value>', mode='c').graph()"
   ]
  },
  {
   "cell_type": "markdown",
   "metadata": {
    "slideshow": {
     "slide_type": "subslide"
    }
   },
   "source": [
    "### Dependency Graphs\n",
    "\n",
    "As the above `<test>` values (and their statements) are in turn also dependent on earlier data, namely the `x`, `y`, and `z` values as originally passed. We can draw all data and control dependencies in a single graph, called a _program dependency graph_:"
   ]
  },
  {
   "cell_type": "code",
   "execution_count": 30,
   "metadata": {
    "slideshow": {
     "slide_type": "fragment"
    }
   },
   "outputs": [
    {
     "data": {
      "image/svg+xml": [
       "<?xml version=\"1.0\" encoding=\"UTF-8\" standalone=\"no\"?>\n",
       "<!DOCTYPE svg PUBLIC \"-//W3C//DTD SVG 1.1//EN\"\n",
       " \"http://www.w3.org/Graphics/SVG/1.1/DTD/svg11.dtd\">\n",
       "<!-- Generated by graphviz version 2.40.1 (20161225.0304)\n",
       " -->\n",
       "<!-- Title: dependencies Pages: 1 -->\n",
       "<svg width=\"344pt\" height=\"352pt\"\n",
       " viewBox=\"0.00 0.00 344.27 352.00\" xmlns=\"http://www.w3.org/2000/svg\" xmlns:xlink=\"http://www.w3.org/1999/xlink\">\n",
       "<g id=\"graph0\" class=\"graph\" transform=\"scale(1 1) rotate(0) translate(4 348)\">\n",
       "<title>dependencies</title>\n",
       "<polygon fill=\"#ffffff\" stroke=\"transparent\" points=\"-4,4 -4,-348 340.2684,-348 340.2684,4 -4,4\"/>\n",
       "<!-- test_middle_5 -->\n",
       "<g id=\"node1\" class=\"node\">\n",
       "<title>test_middle_5</title>\n",
       "<g id=\"a_node1\"><a xlink:title=\"middle:5\">\n",
       "<polygon fill=\"#ffdab9\" stroke=\"#000000\" points=\"181.5,-116 105.5,-116 105.5,-76 181.5,-76 181.5,-116\"/>\n",
       "<text text-anchor=\"start\" x=\"118\" y=\"-101.8\" font-family=\"Fira Mono, Courier, monospace\" font-weight=\"bold\" font-style=\"italic\" font-size=\"14.00\" fill=\"#000000\">&lt;test&gt;</text>\n",
       "<text text-anchor=\"start\" x=\"113.5\" y=\"-82.8\" font-family=\"Fira Mono, Courier, monospace\" font-size=\"9.00\" fill=\"#000000\">elif x &lt; z:</text>\n",
       "</a>\n",
       "</g>\n",
       "</g>\n",
       "<!-- middlereturnvalue_middle_6 -->\n",
       "<g id=\"node7\" class=\"node\">\n",
       "<title>middlereturnvalue_middle_6</title>\n",
       "<g id=\"a_node7\"><a xlink:title=\"middle:6\">\n",
       "<polygon fill=\"#ffdab9\" stroke=\"#000000\" points=\"248.5,-40 38.5,-40 38.5,0 248.5,0 248.5,-40\"/>\n",
       "<text text-anchor=\"start\" x=\"46.5\" y=\"-25.8\" font-family=\"Fira Mono, Courier, monospace\" font-weight=\"bold\" font-style=\"italic\" font-size=\"14.00\" fill=\"#000000\">&lt;middle() return value&gt;</text>\n",
       "<text text-anchor=\"start\" x=\"121.5\" y=\"-6.8\" font-family=\"Fira Mono, Courier, monospace\" font-size=\"9.00\" fill=\"#000000\">return y</text>\n",
       "</a>\n",
       "</g>\n",
       "</g>\n",
       "<!-- test_middle_5&#45;&gt;middlereturnvalue_middle_6 -->\n",
       "<g id=\"edge10\" class=\"edge\">\n",
       "<title>test_middle_5&#45;&gt;middlereturnvalue_middle_6</title>\n",
       "<path fill=\"none\" stroke=\"#c0c0c0\" stroke-dasharray=\"5,2\" d=\"M137.4426,-75.6334C136.7819,-67.8186 136.5939,-58.7253 136.8786,-50.183\"/>\n",
       "<polygon fill=\"#c0c0c0\" stroke=\"#c0c0c0\" points=\"140.375,-50.3453 137.4602,-40.1593 133.3867,-49.9397 140.375,-50.3453\"/>\n",
       "</g>\n",
       "<!-- test_middle_5&#45;&gt;middlereturnvalue_middle_6 -->\n",
       "<!-- z_middle_1 -->\n",
       "<g id=\"node2\" class=\"node\">\n",
       "<title>z_middle_1</title>\n",
       "<g id=\"a_node2\"><a xlink:title=\"middle:1\">\n",
       "<polygon fill=\"#ffdab9\" stroke=\"#000000\" points=\"268,-344 143,-344 143,-304 268,-304 268,-344\"/>\n",
       "<text text-anchor=\"start\" x=\"201\" y=\"-329.8\" font-family=\"Fira Mono, Courier, monospace\" font-weight=\"bold\" font-size=\"14.00\" fill=\"#000000\">z</text>\n",
       "<text text-anchor=\"start\" x=\"151\" y=\"-310.8\" font-family=\"Fira Mono, Courier, monospace\" font-size=\"9.00\" fill=\"#000000\">def middle(x, y, z):</text>\n",
       "</a>\n",
       "</g>\n",
       "</g>\n",
       "<!-- z_middle_1&#45;&gt;test_middle_5 -->\n",
       "<g id=\"edge1\" class=\"edge\">\n",
       "<title>z_middle_1&#45;&gt;test_middle_5</title>\n",
       "<path fill=\"none\" stroke=\"#000000\" d=\"M268.0384,-310.9807C291.4312,-302.7478 315.6626,-289.4322 329.5,-268 339.1428,-253.0646 337.6589,-243.795 329.5,-228 300.5731,-172.0002 235.7076,-134.6065 190.7796,-114.3315\"/>\n",
       "<polygon fill=\"#000000\" stroke=\"#000000\" points=\"192.0787,-111.0794 181.5152,-110.2643 189.2648,-117.489 192.0787,-111.0794\"/>\n",
       "</g>\n",
       "<!-- test_middle_2 -->\n",
       "<g id=\"node5\" class=\"node\">\n",
       "<title>test_middle_2</title>\n",
       "<g id=\"a_node5\"><a xlink:title=\"middle:2\">\n",
       "<polygon fill=\"#ffdab9\" stroke=\"#000000\" points=\"177,-268 110,-268 110,-228 177,-228 177,-268\"/>\n",
       "<text text-anchor=\"start\" x=\"118\" y=\"-253.8\" font-family=\"Fira Mono, Courier, monospace\" font-weight=\"bold\" font-style=\"italic\" font-size=\"14.00\" fill=\"#000000\">&lt;test&gt;</text>\n",
       "<text text-anchor=\"start\" x=\"119\" y=\"-234.8\" font-family=\"Fira Mono, Courier, monospace\" font-size=\"9.00\" fill=\"#000000\">if y &lt; z:</text>\n",
       "</a>\n",
       "</g>\n",
       "</g>\n",
       "<!-- z_middle_1&#45;&gt;test_middle_2 -->\n",
       "<g id=\"edge5\" class=\"edge\">\n",
       "<title>z_middle_1&#45;&gt;test_middle_2</title>\n",
       "<path fill=\"none\" stroke=\"#000000\" d=\"M182.8277,-303.6334C175.2506,-295.2175 167.0121,-285.3188 159.9761,-276.2223\"/>\n",
       "<polygon fill=\"#000000\" stroke=\"#000000\" points=\"162.7167,-274.0433 153.906,-268.1593 157.1243,-278.2535 162.7167,-274.0433\"/>\n",
       "</g>\n",
       "<!-- z_middle_1&#45;&gt;test_middle_2 -->\n",
       "<!-- x_middle_1 -->\n",
       "<g id=\"node3\" class=\"node\">\n",
       "<title>x_middle_1</title>\n",
       "<g id=\"a_node3\"><a xlink:title=\"middle:1\">\n",
       "<polygon fill=\"#ffdab9\" stroke=\"#000000\" points=\"320,-268 195,-268 195,-228 320,-228 320,-268\"/>\n",
       "<text text-anchor=\"start\" x=\"253\" y=\"-253.8\" font-family=\"Fira Mono, Courier, monospace\" font-weight=\"bold\" font-size=\"14.00\" fill=\"#000000\">x</text>\n",
       "<text text-anchor=\"start\" x=\"203\" y=\"-234.8\" font-family=\"Fira Mono, Courier, monospace\" font-size=\"9.00\" fill=\"#000000\">def middle(x, y, z):</text>\n",
       "</a>\n",
       "</g>\n",
       "</g>\n",
       "<!-- x_middle_1&#45;&gt;test_middle_5 -->\n",
       "<g id=\"edge2\" class=\"edge\">\n",
       "<title>x_middle_1&#45;&gt;test_middle_5</title>\n",
       "<path fill=\"none\" stroke=\"#000000\" d=\"M242.3617,-227.8156C222.4314,-201.2419 187.2834,-154.3778 164.7109,-124.2812\"/>\n",
       "<polygon fill=\"#000000\" stroke=\"#000000\" points=\"167.501,-122.1679 158.7009,-116.2679 161.901,-126.3679 167.501,-122.1679\"/>\n",
       "</g>\n",
       "<!-- test_middle_3 -->\n",
       "<g id=\"node4\" class=\"node\">\n",
       "<title>test_middle_3</title>\n",
       "<g id=\"a_node4\"><a xlink:title=\"middle:3\">\n",
       "<polygon fill=\"#ffdab9\" stroke=\"#000000\" points=\"177,-192 110,-192 110,-152 177,-152 177,-192\"/>\n",
       "<text text-anchor=\"start\" x=\"118\" y=\"-177.8\" font-family=\"Fira Mono, Courier, monospace\" font-weight=\"bold\" font-style=\"italic\" font-size=\"14.00\" fill=\"#000000\">&lt;test&gt;</text>\n",
       "<text text-anchor=\"start\" x=\"119\" y=\"-158.8\" font-family=\"Fira Mono, Courier, monospace\" font-size=\"9.00\" fill=\"#000000\">if x &lt; y:</text>\n",
       "</a>\n",
       "</g>\n",
       "</g>\n",
       "<!-- x_middle_1&#45;&gt;test_middle_3 -->\n",
       "<g id=\"edge7\" class=\"edge\">\n",
       "<title>x_middle_1&#45;&gt;test_middle_3</title>\n",
       "<path fill=\"none\" stroke=\"#000000\" d=\"M227.2494,-227.8329C213.4642,-218.6428 196.9794,-207.6529 182.2955,-197.8637\"/>\n",
       "<polygon fill=\"#000000\" stroke=\"#000000\" points=\"184.154,-194.8962 173.892,-192.2613 180.271,-200.7205 184.154,-194.8962\"/>\n",
       "</g>\n",
       "<!-- test_middle_3&#45;&gt;test_middle_5 -->\n",
       "<g id=\"edge3\" class=\"edge\">\n",
       "<title>test_middle_3&#45;&gt;test_middle_5</title>\n",
       "<path fill=\"none\" stroke=\"#c0c0c0\" stroke-dasharray=\"5,2\" d=\"M137.4426,-151.6334C136.7819,-143.8186 136.5939,-134.7253 136.8786,-126.183\"/>\n",
       "<polygon fill=\"#c0c0c0\" stroke=\"#c0c0c0\" points=\"140.375,-126.3453 137.4602,-116.1593 133.3867,-125.9397 140.375,-126.3453\"/>\n",
       "</g>\n",
       "<!-- test_middle_3&#45;&gt;test_middle_5 -->\n",
       "<!-- test_middle_2&#45;&gt;test_middle_3 -->\n",
       "<g id=\"edge8\" class=\"edge\">\n",
       "<title>test_middle_2&#45;&gt;test_middle_3</title>\n",
       "<path fill=\"none\" stroke=\"#c0c0c0\" stroke-dasharray=\"5,2\" d=\"M137.4426,-227.6334C136.7819,-219.8186 136.5939,-210.7253 136.8786,-202.183\"/>\n",
       "<polygon fill=\"#c0c0c0\" stroke=\"#c0c0c0\" points=\"140.375,-202.3453 137.4602,-192.1593 133.3867,-201.9397 140.375,-202.3453\"/>\n",
       "</g>\n",
       "<!-- test_middle_2&#45;&gt;test_middle_3 -->\n",
       "<!-- y_middle_1 -->\n",
       "<g id=\"node6\" class=\"node\">\n",
       "<title>y_middle_1</title>\n",
       "<g id=\"a_node6\"><a xlink:title=\"middle:1\">\n",
       "<polygon fill=\"#ffdab9\" stroke=\"#000000\" points=\"125,-344 0,-344 0,-304 125,-304 125,-344\"/>\n",
       "<text text-anchor=\"start\" x=\"58\" y=\"-329.8\" font-family=\"Fira Mono, Courier, monospace\" font-weight=\"bold\" font-size=\"14.00\" fill=\"#000000\">y</text>\n",
       "<text text-anchor=\"start\" x=\"8\" y=\"-310.8\" font-family=\"Fira Mono, Courier, monospace\" font-size=\"9.00\" fill=\"#000000\">def middle(x, y, z):</text>\n",
       "</a>\n",
       "</g>\n",
       "</g>\n",
       "<!-- y_middle_1&#45;&gt;test_middle_3 -->\n",
       "<g id=\"edge6\" class=\"edge\">\n",
       "<title>y_middle_1&#45;&gt;test_middle_3</title>\n",
       "<path fill=\"none\" stroke=\"#000000\" d=\"M68.6772,-303.7746C75.1871,-283.8201 86.4409,-252.7916 100.5,-228 105.9528,-218.3845 112.8999,-208.5944 119.6118,-199.9458\"/>\n",
       "<polygon fill=\"#000000\" stroke=\"#000000\" points=\"122.4143,-202.0453 125.9184,-192.0466 116.9439,-197.6777 122.4143,-202.0453\"/>\n",
       "</g>\n",
       "<!-- y_middle_1&#45;&gt;test_middle_2 -->\n",
       "<g id=\"edge4\" class=\"edge\">\n",
       "<title>y_middle_1&#45;&gt;test_middle_2</title>\n",
       "<path fill=\"none\" stroke=\"#000000\" d=\"M84.2065,-303.6334C93.5422,-294.8739 104.5898,-284.5083 114.6037,-275.1125\"/>\n",
       "<polygon fill=\"#000000\" stroke=\"#000000\" points=\"117.1167,-277.5541 122.0144,-268.1593 112.327,-272.4493 117.1167,-277.5541\"/>\n",
       "</g>\n",
       "<!-- y_middle_1&#45;&gt;middlereturnvalue_middle_6 -->\n",
       "<g id=\"edge9\" class=\"edge\">\n",
       "<title>y_middle_1&#45;&gt;middlereturnvalue_middle_6</title>\n",
       "<path fill=\"none\" stroke=\"#000000\" d=\"M61.5752,-303.6921C60.3605,-260.0002 61.6299,-154.6654 96.5,-76 100.9826,-65.8875 107.8599,-56.1704 114.9821,-47.7513\"/>\n",
       "<polygon fill=\"#000000\" stroke=\"#000000\" points=\"117.7606,-49.8948 121.8155,-40.1066 112.5416,-45.2297 117.7606,-49.8948\"/>\n",
       "</g>\n",
       "</g>\n",
       "</svg>\n"
      ],
      "text/plain": [
       "<graphviz.dot.Digraph at 0x7f83c3ed1358>"
      ]
     },
     "execution_count": 30,
     "metadata": {},
     "output_type": "execute_result"
    }
   ],
   "source": [
    "# ignore\n",
    "middle_deps().graph()"
   ]
  },
  {
   "cell_type": "markdown",
   "metadata": {
    "slideshow": {
     "slide_type": "fragment"
    }
   },
   "source": [
    "This graph now gives us an idea on how to proceed to track the origins of the `middle()` return value at the bottom. Its value can come from any of the origins – namely the initialization of `y` at the function call, or from the `<test>` that controls it. This test in turn depends on `x` and `z` and their associated statements, which we now can check one after the other."
   ]
  },
  {
   "cell_type": "markdown",
   "metadata": {
    "slideshow": {
     "slide_type": "subslide"
    }
   },
   "source": [
    "Note that all these dependencies in the graph are _dynamic_ dependencies – that is, they refer to statements actually evaluated in the run at hand, as well as the decisions made in that very run. There also are _static_ dependency graphs coming from static analysis of the code; but for debugging, _dynamic_ dependencies specific to the failing run are more useful."
   ]
  },
  {
   "cell_type": "markdown",
   "metadata": {
    "slideshow": {
     "slide_type": "subslide"
    }
   },
   "source": [
    "### Showing Dependencies with Code\n",
    "\n",
    "While a graph gives us a representation about which possible data and control flows to track, integrating dependencies with actual program code results in a compact representation that is easy to reason about."
   ]
  },
  {
   "cell_type": "markdown",
   "metadata": {
    "slideshow": {
     "slide_type": "subslide"
    }
   },
   "source": [
    "#### Excursion: Listing Dependencies"
   ]
  },
  {
   "cell_type": "markdown",
   "metadata": {
    "slideshow": {
     "slide_type": "subslide"
    }
   },
   "source": [
    "To show dependencies as text, we introduce a method `format_var()` that shows a single node (a variable) as text. By default, a node is referenced as\n",
    "\n",
    "```python\n",
    "NAME (FUNCTION:LINENO)\n",
    "```\n",
    "\n",
    "However, within a given function, it makes no sense to re-state the function name again and again, so we have a shorthand\n",
    "\n",
    "```python\n",
    "NAME (LINENO)\n",
    "```\n",
    "\n",
    "to state a dependency to variable `NAME` in line `LINENO`."
   ]
  },
  {
   "cell_type": "code",
   "execution_count": 31,
   "metadata": {
    "slideshow": {
     "slide_type": "subslide"
    }
   },
   "outputs": [],
   "source": [
    "class Dependencies(Dependencies):\n",
    "    def format_var(self, var, current_location=None):\n",
    "        \"\"\"Return string for VAR in CURRENT_LOCATION.\"\"\"\n",
    "        name, location = var\n",
    "        location_name, lineno = location\n",
    "        if location_name != current_location:\n",
    "            return f\"{name} ({location_name}:{lineno})\"\n",
    "        else:\n",
    "            return f\"{name} ({lineno})\""
   ]
  },
  {
   "cell_type": "markdown",
   "metadata": {
    "slideshow": {
     "slide_type": "fragment"
    }
   },
   "source": [
    "`format_var()` is used extensively in this string representation of dependencies, listing all nodes and their data (`<=`) and control (`<-`) dependencies."
   ]
  },
  {
   "cell_type": "code",
   "execution_count": 32,
   "metadata": {
    "slideshow": {
     "slide_type": "subslide"
    }
   },
   "outputs": [],
   "source": [
    "class Dependencies(Dependencies):\n",
    "    def __str__(self):\n",
    "        self.validate()\n",
    "\n",
    "        out = \"\"\n",
    "        for code_name in self.all_codes():\n",
    "            if out != \"\":\n",
    "                out += \"\\n\"\n",
    "            out += f\"{code_name}():\\n\"\n",
    "\n",
    "            all_vars = list(set(self.data.keys()) | set(self.control.keys()))\n",
    "            all_vars.sort(key=lambda var: var[1][1])\n",
    "\n",
    "            for var in all_vars:\n",
    "                (name, location) = var\n",
    "                var_code, var_lineno = location\n",
    "                if var_code != code_name:\n",
    "                    continue\n",
    "\n",
    "                all_deps = \"\"\n",
    "                for (source, arrow) in [(self.data, \"<=\"), (self.control, \"<-\")]:\n",
    "                    deps = \"\"\n",
    "                    for data_dep in source[var]:\n",
    "                        if deps == \"\":\n",
    "                            deps = f\" {arrow} \"\n",
    "                        else:\n",
    "                            deps += \", \"\n",
    "                        deps += self.format_var(data_dep, code_name)\n",
    "\n",
    "                    if deps != \"\":\n",
    "                        if all_deps != \"\":\n",
    "                            all_deps += \";\"\n",
    "                        all_deps += deps\n",
    "\n",
    "                if all_deps == \"\":\n",
    "                    continue\n",
    "\n",
    "                out += (\"    \" + \n",
    "                        self.format_var(var, code_name) +\n",
    "                        all_deps + \"\\n\")\n",
    "\n",
    "        return out\n",
    "\n",
    "    def __repr__(self):\n",
    "        # Useful for saving and restoring values\n",
    "        return f\"Dependencies({self.data}, {self.control})\""
   ]
  },
  {
   "cell_type": "markdown",
   "metadata": {
    "slideshow": {
     "slide_type": "subslide"
    }
   },
   "source": [
    "Here is a compact string representation of dependencies. We see how the (last) `middle() return value` has a data dependency to `y` in Line 1, and to the `<test>` in Line 5."
   ]
  },
  {
   "cell_type": "code",
   "execution_count": 33,
   "metadata": {
    "slideshow": {
     "slide_type": "fragment"
    }
   },
   "outputs": [
    {
     "name": "stdout",
     "output_type": "stream",
     "text": [
      "middle():\n",
      "    <test> (2) <= y (1), z (1)\n",
      "    <test> (3) <= y (1), x (1); <- <test> (2)\n",
      "    <test> (5) <= z (1), x (1); <- <test> (3)\n",
      "    <middle() return value> (6) <= y (1); <- <test> (5)\n",
      "\n"
     ]
    }
   ],
   "source": [
    "print(middle_deps())"
   ]
  },
  {
   "cell_type": "markdown",
   "metadata": {
    "slideshow": {
     "slide_type": "fragment"
    }
   },
   "source": [
    "An even more useful representation comes when integrating these dependencies as comments into the code. The method `code(item)` lists the given (function) item, including its dependencies."
   ]
  },
  {
   "cell_type": "code",
   "execution_count": 34,
   "metadata": {
    "slideshow": {
     "slide_type": "subslide"
    }
   },
   "outputs": [],
   "source": [
    "class Dependencies(Dependencies):\n",
    "    def code(self, item, mode='cd'):\n",
    "        \"\"\"List ITEM on standard output, including dependencies as comments.\"\"\"\n",
    "        all_vars = self.all_vars()\n",
    "        slice_locations = set(location for name, location in all_vars)\n",
    "\n",
    "        source_lines, first_lineno = inspect.getsourcelines(item)\n",
    "\n",
    "        n = first_lineno\n",
    "        for line in source_lines:\n",
    "            line_location = (item.__name__, n)\n",
    "            if line_location in slice_locations:\n",
    "                prefix = \"* \"\n",
    "            else:\n",
    "                prefix = \"  \"\n",
    "\n",
    "            print(f\"{prefix}{n:4} \", end=\"\")\n",
    "\n",
    "            comment = \"\"\n",
    "            for (mode_control, source, arrow) in [\n",
    "                ('d', self.data, '<='),\n",
    "                ('c', self.control, '<-')\n",
    "            ]:\n",
    "                if mode_control not in mode:\n",
    "                    continue\n",
    "\n",
    "                deps = \"\"\n",
    "                for var in source:\n",
    "                    name, location = var\n",
    "                    if location == line_location:\n",
    "                        for dep_var in source[var]:\n",
    "                            if deps == \"\":\n",
    "                                deps = arrow + \" \"\n",
    "                            else:\n",
    "                                deps += \", \"\n",
    "                            deps += self.format_var(dep_var, item.__name__)\n",
    "\n",
    "                if deps != \"\":\n",
    "                    if comment != \"\":\n",
    "                        comment += \"; \"\n",
    "                    comment += deps\n",
    "\n",
    "            if comment != \"\":\n",
    "                line = line.rstrip() + \"  # \" + comment\n",
    "\n",
    "            print_content(line.rstrip(), '.py')\n",
    "            print()\n",
    "            n += 1"
   ]
  },
  {
   "cell_type": "markdown",
   "metadata": {
    "slideshow": {
     "slide_type": "subslide"
    }
   },
   "source": [
    "#### End of Excursion"
   ]
  },
  {
   "cell_type": "markdown",
   "metadata": {
    "slideshow": {
     "slide_type": "subslide"
    }
   },
   "source": [
    "The following listing shows such an integration. For each executed line (`*`), we see its data (`<=`) and control (`<-`) dependencies, listing the associated variables and line numbers. The comment\n",
    "\n",
    "```python\n",
    "# <= y (1); <- <test> (5)\n",
    "```\n",
    "\n",
    "for Line 6, for instance, states that the return value is data dependent on the value of `y` in Line 1, and control dependent on the test in Line 5.\n",
    "\n",
    "Again, one can easily follow these dependencies back to track where a value came from (data dependencies) and why a statement was executed (control dependency)."
   ]
  },
  {
   "cell_type": "code",
   "execution_count": 35,
   "metadata": {
    "slideshow": {
     "slide_type": "subslide"
    }
   },
   "outputs": [
    {
     "name": "stdout",
     "output_type": "stream",
     "text": [
      "*    1 \u001b[34mdef\u001b[39;49;00m \u001b[32mmiddle\u001b[39;49;00m(x, y, z):\n",
      "*    2     \u001b[34mif\u001b[39;49;00m y < z:  \u001b[37m# <= y (1), z (1)\u001b[39;49;00m\n",
      "*    3         \u001b[34mif\u001b[39;49;00m x < y:  \u001b[37m# <= y (1), x (1); <- <test> (2)\u001b[39;49;00m\n",
      "     4             \u001b[34mreturn\u001b[39;49;00m y\n",
      "*    5         \u001b[34melif\u001b[39;49;00m x < z:  \u001b[37m# <= z (1), x (1); <- <test> (3)\u001b[39;49;00m\n",
      "*    6             \u001b[34mreturn\u001b[39;49;00m y  \u001b[37m# <= y (1); <- <test> (5)\u001b[39;49;00m\n",
      "     7     \u001b[34melse\u001b[39;49;00m:\n",
      "     8         \u001b[34mif\u001b[39;49;00m x > y:\n",
      "     9             \u001b[34mreturn\u001b[39;49;00m y\n",
      "    10         \u001b[34melif\u001b[39;49;00m x > z:\n",
      "    11             \u001b[34mreturn\u001b[39;49;00m x\n",
      "    12     \u001b[34mreturn\u001b[39;49;00m z\n"
     ]
    }
   ],
   "source": [
    "# ignore\n",
    "middle_deps().code(middle)"
   ]
  },
  {
   "cell_type": "markdown",
   "metadata": {
    "slideshow": {
     "slide_type": "subslide"
    }
   },
   "source": [
    "One important aspect of dependencies is that they not only point to specific sources and causes of failures – but that they also _rule out_ parts of program and state as failures.\n",
    "\n",
    "* In the above code, Lines 8 and later have no influence on the output, simply because they were not executed.\n",
    "* Furthermore, we see that we can start our investigation with Line 6, because that is the last one executed.\n",
    "* The data dependencies tell us that no statement has interfered with the value of `y` between the function call and its return.\n",
    "* Hence, the error must be in the conditions and the final `return` statement.\n",
    "\n",
    "With this in mind, recall that our original invocation was `middle(2, 1, 3)`. Why and how is the above code wrong?"
   ]
  },
  {
   "cell_type": "code",
   "execution_count": 36,
   "metadata": {
    "slideshow": {
     "slide_type": "subslide"
    }
   },
   "outputs": [
    {
     "data": {
      "text/html": [
       "\n",
       "    \n",
       "    <script>\n",
       "    function answer(quiz_id) {\n",
       "        ans = 0;\n",
       "        for (i = 1;; i++) {\n",
       "            checkbox = document.getElementById(quiz_id + \"-\" + i.toString());\n",
       "            if (!checkbox)\n",
       "                break;\n",
       "            if (checkbox.checked)\n",
       "                ans |= (1 << i);\n",
       "        }\n",
       "        return ans;\n",
       "    }\n",
       "    function check_selection(quiz_id, correct_answer, multiple_choice) {\n",
       "        given_answer = answer(quiz_id);\n",
       "        if (given_answer == correct_answer)\n",
       "        {\n",
       "            document.getElementById(quiz_id + \"-submit\").value = \"Correct!\";\n",
       "            for (i = 1;; i++) {\n",
       "                checkbox = document.getElementById(quiz_id + \"-\" + i.toString());\n",
       "                label = document.getElementById(quiz_id + \"-\" + i.toString() + \"-label\")\n",
       "                if (!checkbox)\n",
       "                    break;\n",
       "    \n",
       "                if (checkbox.checked) {\n",
       "                    label.style.fontWeight = \"bold\";\n",
       "                }\n",
       "                else {\n",
       "                    label.style.textDecoration = \"line-through\";\n",
       "                }\n",
       "            }\n",
       "        }\n",
       "        else \n",
       "        {\n",
       "            document.getElementById(quiz_id + \"-submit\").value = \"Try again\";\n",
       "            if (!multiple_choice) {\n",
       "                for (i = 1;; i++) {\n",
       "                    checkbox = document.getElementById(quiz_id + \"-\" + i.toString());\n",
       "                    label = document.getElementById(quiz_id + \"-\" + i.toString() + \"-label\")\n",
       "\n",
       "                    if (!checkbox)\n",
       "                        break;\n",
       "                    if (checkbox.checked) {\n",
       "                        label.style.textDecoration = \"line-through\";\n",
       "                    }\n",
       "                }\n",
       "            }\n",
       "        }\n",
       "    }\n",
       "    function clear_selection(quiz_id) {\n",
       "        document.getElementById(quiz_id + \"-submit\").value = \"Submit\";\n",
       "    }\n",
       "    </script>\n",
       "    \n",
       "    <div class=\"quiz\">\n",
       "    <h3 class=\"quiz_title\">Quiz</h3>\n",
       "    <p>\n",
       "    <div class=\"quiz_question\">Which of the following <code>middle()</code> code lines should be fixed?</div>\n",
       "    </p>\n",
       "    <p>\n",
       "    <div class=\"quiz_options\" title=\"Pick a choice.\">\n",
       "    \n",
       "        <input type=\"radio\" name=\"48b5dabe-489c-11eb-a588-f218984d6a0c\" id=\"48b5dabe-489c-11eb-a588-f218984d6a0c-1\" onclick=\"clear_selection('48b5dabe-489c-11eb-a588-f218984d6a0c')\">\n",
       "        <label id=\"48b5dabe-489c-11eb-a588-f218984d6a0c-1-label\" for=\"48b5dabe-489c-11eb-a588-f218984d6a0c-1\">Line 2: <code>if y &lt; z:</code></label><br>\n",
       "    \n",
       "        <input type=\"radio\" name=\"48b5dabe-489c-11eb-a588-f218984d6a0c\" id=\"48b5dabe-489c-11eb-a588-f218984d6a0c-2\" onclick=\"clear_selection('48b5dabe-489c-11eb-a588-f218984d6a0c')\">\n",
       "        <label id=\"48b5dabe-489c-11eb-a588-f218984d6a0c-2-label\" for=\"48b5dabe-489c-11eb-a588-f218984d6a0c-2\">Line 3: <code>if x &lt; y:</code></label><br>\n",
       "    \n",
       "        <input type=\"radio\" name=\"48b5dabe-489c-11eb-a588-f218984d6a0c\" id=\"48b5dabe-489c-11eb-a588-f218984d6a0c-3\" onclick=\"clear_selection('48b5dabe-489c-11eb-a588-f218984d6a0c')\">\n",
       "        <label id=\"48b5dabe-489c-11eb-a588-f218984d6a0c-3-label\" for=\"48b5dabe-489c-11eb-a588-f218984d6a0c-3\">Line 5: <code>elif x &lt; z:</code></label><br>\n",
       "    \n",
       "        <input type=\"radio\" name=\"48b5dabe-489c-11eb-a588-f218984d6a0c\" id=\"48b5dabe-489c-11eb-a588-f218984d6a0c-4\" onclick=\"clear_selection('48b5dabe-489c-11eb-a588-f218984d6a0c')\">\n",
       "        <label id=\"48b5dabe-489c-11eb-a588-f218984d6a0c-4-label\" for=\"48b5dabe-489c-11eb-a588-f218984d6a0c-4\">Line 6: <code>return z</code></label><br>\n",
       "    \n",
       "    </div>\n",
       "    </p>\n",
       "    <input id=\"48b5dabe-489c-11eb-a588-f218984d6a0c-submit\" type=\"submit\" value=\"Submit\" onclick=\"check_selection('48b5dabe-489c-11eb-a588-f218984d6a0c', 16, 0)\">\n",
       "    </div>\n",
       "    "
      ],
      "text/plain": [
       "<IPython.core.display.HTML object>"
      ]
     },
     "execution_count": 36,
     "metadata": {},
     "output_type": "execute_result"
    }
   ],
   "source": [
    "quiz(\"Which of the following `middle()` code lines should be fixed?\",\n",
    "    [\n",
    "        \"Line 2: `if y < z:`\",\n",
    "        \"Line 3: `if x < y:`\",\n",
    "        \"Line 5: `elif x < z:`\",\n",
    "        \"Line 6: `return z`\",\n",
    "    ], (1 ** 0 + 1 ** 1) ** (1 ** 2 + 1 ** 3))"
   ]
  },
  {
   "cell_type": "markdown",
   "metadata": {
    "slideshow": {
     "slide_type": "fragment"
    }
   },
   "source": [
    "Indeed, from the controlling conditions, we see that `y < z`, `x >= y`, and `x < z` all hold. Hence, `y <= x < z` holds, and it is `x`, not `y`, that should be returned."
   ]
  },
  {
   "cell_type": "markdown",
   "metadata": {
    "slideshow": {
     "slide_type": "slide"
    }
   },
   "source": [
    "## Slices\n",
    "\n",
    "Given a dependency graph for a particular variable, we can identify the subset of the program that could have influenced it – the so-called _slice_. In the above code listing, these code locations are highlighted with `*` characters. Only these locations are part of the slice."
   ]
  },
  {
   "cell_type": "markdown",
   "metadata": {
    "slideshow": {
     "slide_type": "subslide"
    }
   },
   "source": [
    "Slices are central to debugging for two reasons:\n",
    "\n",
    "* First, they _rule out_ those locations of the program that could _not_ have an effect on the failure. Hence, these locations need not be investigated as it comes to searching for the defect. Nor do they need to be considered for a fix, as any change outside of the program slice by construction cannot affect the failure.\n",
    "* Second, they bring together possible origins that may be scattered across the code. Many dependencies in program code are _non-local_, with references to functions, classes, and modules defined in other locations, files, or libraries. A slice brings together all those locations in a single whole."
   ]
  },
  {
   "cell_type": "markdown",
   "metadata": {
    "slideshow": {
     "slide_type": "subslide"
    }
   },
   "source": [
    "Here is an example of a slice – this time for our well-known `remove_html_markup()` function from [the introduction to debugging](Intro_Debugging.ipynb):"
   ]
  },
  {
   "cell_type": "code",
   "execution_count": 37,
   "metadata": {
    "slideshow": {
     "slide_type": "skip"
    }
   },
   "outputs": [],
   "source": [
    "from Intro_Debugging import remove_html_markup"
   ]
  },
  {
   "cell_type": "code",
   "execution_count": 38,
   "metadata": {
    "slideshow": {
     "slide_type": "subslide"
    }
   },
   "outputs": [
    {
     "name": "stdout",
     "output_type": "stream",
     "text": [
      "\u001b[34mdef\u001b[39;49;00m \u001b[32mremove_html_markup\u001b[39;49;00m(s):\n",
      "    tag = \u001b[34mFalse\u001b[39;49;00m\n",
      "    quote = \u001b[34mFalse\u001b[39;49;00m\n",
      "    out = \u001b[33m\"\u001b[39;49;00m\u001b[33m\"\u001b[39;49;00m\n",
      "\n",
      "    \u001b[34mfor\u001b[39;49;00m c \u001b[35min\u001b[39;49;00m s:\n",
      "        \u001b[34massert\u001b[39;49;00m tag \u001b[35mor\u001b[39;49;00m \u001b[35mnot\u001b[39;49;00m quote\n",
      "\n",
      "        \u001b[34mif\u001b[39;49;00m c == \u001b[33m'\u001b[39;49;00m\u001b[33m<\u001b[39;49;00m\u001b[33m'\u001b[39;49;00m \u001b[35mand\u001b[39;49;00m \u001b[35mnot\u001b[39;49;00m quote:\n",
      "            tag = \u001b[34mTrue\u001b[39;49;00m\n",
      "        \u001b[34melif\u001b[39;49;00m c == \u001b[33m'\u001b[39;49;00m\u001b[33m>\u001b[39;49;00m\u001b[33m'\u001b[39;49;00m \u001b[35mand\u001b[39;49;00m \u001b[35mnot\u001b[39;49;00m quote:\n",
      "            tag = \u001b[34mFalse\u001b[39;49;00m\n",
      "        \u001b[34melif\u001b[39;49;00m (c == \u001b[33m'\u001b[39;49;00m\u001b[33m\"\u001b[39;49;00m\u001b[33m'\u001b[39;49;00m \u001b[35mor\u001b[39;49;00m c == \u001b[33m\"\u001b[39;49;00m\u001b[33m'\u001b[39;49;00m\u001b[33m\"\u001b[39;49;00m) \u001b[35mand\u001b[39;49;00m tag:\n",
      "            quote = \u001b[35mnot\u001b[39;49;00m quote\n",
      "        \u001b[34melif\u001b[39;49;00m \u001b[35mnot\u001b[39;49;00m tag:\n",
      "            out = out + c\n",
      "\n",
      "    \u001b[34mreturn\u001b[39;49;00m out"
     ]
    }
   ],
   "source": [
    "print_content(inspect.getsource(remove_html_markup), '.py')"
   ]
  },
  {
   "cell_type": "markdown",
   "metadata": {
    "slideshow": {
     "slide_type": "subslide"
    }
   },
   "source": [
    "When we invoke `remove_html_markup()` as follows..."
   ]
  },
  {
   "cell_type": "code",
   "execution_count": 39,
   "metadata": {
    "slideshow": {
     "slide_type": "fragment"
    }
   },
   "outputs": [
    {
     "data": {
      "text/plain": [
       "'bar'"
      ]
     },
     "execution_count": 39,
     "metadata": {},
     "output_type": "execute_result"
    }
   ],
   "source": [
    "remove_html_markup('<foo>bar</foo>')"
   ]
  },
  {
   "cell_type": "markdown",
   "metadata": {
    "slideshow": {
     "slide_type": "fragment"
    }
   },
   "source": [
    "... we obtain the following dependencies:"
   ]
  },
  {
   "cell_type": "code",
   "execution_count": 40,
   "metadata": {
    "slideshow": {
     "slide_type": "fragment"
    }
   },
   "outputs": [],
   "source": [
    "# ignore\n",
    "def remove_html_markup_deps():\n",
    "    return Dependencies({('s', ('remove_html_markup', 136)): set(), ('tag', ('remove_html_markup', 137)): set(), ('quote', ('remove_html_markup', 138)): set(), ('out', ('remove_html_markup', 139)): set(), ('c', ('remove_html_markup', 141)): {('s', ('remove_html_markup', 136))}, ('<test>', ('remove_html_markup', 144)): {('quote', ('remove_html_markup', 138)), ('c', ('remove_html_markup', 141))}, ('tag', ('remove_html_markup', 145)): set(), ('<test>', ('remove_html_markup', 146)): {('quote', ('remove_html_markup', 138)), ('c', ('remove_html_markup', 141))}, ('<test>', ('remove_html_markup', 148)): {('c', ('remove_html_markup', 141))}, ('<test>', ('remove_html_markup', 150)): {('tag', ('remove_html_markup', 147)), ('tag', ('remove_html_markup', 145))}, ('tag', ('remove_html_markup', 147)): set(), ('out', ('remove_html_markup', 151)): {('out', ('remove_html_markup', 151)), ('c', ('remove_html_markup', 141)), ('out', ('remove_html_markup', 139))}, ('<remove_html_markup() return value>', ('remove_html_markup', 153)): {('<test>', ('remove_html_markup', 146)), ('out', ('remove_html_markup', 151))}}, {('s', ('remove_html_markup', 136)): set(), ('tag', ('remove_html_markup', 137)): set(), ('quote', ('remove_html_markup', 138)): set(), ('out', ('remove_html_markup', 139)): set(), ('c', ('remove_html_markup', 141)): set(), ('<test>', ('remove_html_markup', 144)): set(), ('tag', ('remove_html_markup', 145)): {('<test>', ('remove_html_markup', 144))}, ('<test>', ('remove_html_markup', 146)): {('<test>', ('remove_html_markup', 144))}, ('<test>', ('remove_html_markup', 148)): {('<test>', ('remove_html_markup', 146))}, ('<test>', ('remove_html_markup', 150)): {('<test>', ('remove_html_markup', 148))}, ('tag', ('remove_html_markup', 147)): {('<test>', ('remove_html_markup', 146))}, ('out', ('remove_html_markup', 151)): {('<test>', ('remove_html_markup', 150))}, ('<remove_html_markup() return value>', ('remove_html_markup', 153)): set()})"
   ]
  },
  {
   "cell_type": "code",
   "execution_count": 41,
   "metadata": {
    "slideshow": {
     "slide_type": "fragment"
    }
   },
   "outputs": [
    {
     "data": {
      "image/svg+xml": [
       "<?xml version=\"1.0\" encoding=\"UTF-8\" standalone=\"no\"?>\n",
       "<!DOCTYPE svg PUBLIC \"-//W3C//DTD SVG 1.1//EN\"\n",
       " \"http://www.w3.org/Graphics/SVG/1.1/DTD/svg11.dtd\">\n",
       "<!-- Generated by graphviz version 2.40.1 (20161225.0304)\n",
       " -->\n",
       "<!-- Title: dependencies Pages: 1 -->\n",
       "<svg width=\"390pt\" height=\"960pt\"\n",
       " viewBox=\"0.00 0.00 390.00 960.00\" xmlns=\"http://www.w3.org/2000/svg\" xmlns:xlink=\"http://www.w3.org/1999/xlink\">\n",
       "<g id=\"graph0\" class=\"graph\" transform=\"scale(1 1) rotate(0) translate(4 956)\">\n",
       "<title>dependencies</title>\n",
       "<polygon fill=\"#ffffff\" stroke=\"transparent\" points=\"-4,4 -4,-956 386,-956 386,4 -4,4\"/>\n",
       "<!-- test_remove_html_markup_144 -->\n",
       "<g id=\"node1\" class=\"node\">\n",
       "<title>test_remove_html_markup_144</title>\n",
       "<g id=\"a_node1\"><a xlink:title=\"remove_html_markup:144\">\n",
       "<polygon fill=\"#ffdab9\" stroke=\"#000000\" points=\"277.5,-572 120.5,-572 120.5,-532 277.5,-532 277.5,-572\"/>\n",
       "<text text-anchor=\"start\" x=\"173.5\" y=\"-557.8\" font-family=\"Fira Mono, Courier, monospace\" font-weight=\"bold\" font-style=\"italic\" font-size=\"14.00\" fill=\"#000000\">&lt;test&gt;</text>\n",
       "<text text-anchor=\"start\" x=\"128.5\" y=\"-538.8\" font-family=\"Fira Mono, Courier, monospace\" font-size=\"9.00\" fill=\"#000000\">if c == &#39;&lt;&#39; and not quote:</text>\n",
       "</a>\n",
       "</g>\n",
       "</g>\n",
       "<!-- tag_remove_html_markup_145 -->\n",
       "<g id=\"node5\" class=\"node\">\n",
       "<title>tag_remove_html_markup_145</title>\n",
       "<g id=\"a_node5\"><a xlink:title=\"remove_html_markup:145\">\n",
       "<polygon fill=\"#ffdab9\" stroke=\"#000000\" points=\"234.5,-496 163.5,-496 163.5,-456 234.5,-456 234.5,-496\"/>\n",
       "<text text-anchor=\"start\" x=\"186\" y=\"-481.8\" font-family=\"Fira Mono, Courier, monospace\" font-weight=\"bold\" font-size=\"14.00\" fill=\"#000000\">tag</text>\n",
       "<text text-anchor=\"start\" x=\"171.5\" y=\"-462.8\" font-family=\"Fira Mono, Courier, monospace\" font-size=\"9.00\" fill=\"#000000\">tag = True</text>\n",
       "</a>\n",
       "</g>\n",
       "</g>\n",
       "<!-- test_remove_html_markup_144&#45;&gt;tag_remove_html_markup_145 -->\n",
       "<g id=\"edge3\" class=\"edge\">\n",
       "<title>test_remove_html_markup_144&#45;&gt;tag_remove_html_markup_145</title>\n",
       "<path fill=\"none\" stroke=\"#c0c0c0\" stroke-dasharray=\"5,2\" d=\"M192.9426,-531.6334C192.2819,-523.8186 192.0939,-514.7253 192.3786,-506.183\"/>\n",
       "<polygon fill=\"#c0c0c0\" stroke=\"#c0c0c0\" points=\"195.875,-506.3453 192.9602,-496.1593 188.8867,-505.9397 195.875,-506.3453\"/>\n",
       "</g>\n",
       "<!-- test_remove_html_markup_144&#45;&gt;tag_remove_html_markup_145 -->\n",
       "<!-- test_remove_html_markup_146 -->\n",
       "<g id=\"node7\" class=\"node\">\n",
       "<title>test_remove_html_markup_146</title>\n",
       "<g id=\"a_node7\"><a xlink:title=\"remove_html_markup:146\">\n",
       "<polygon fill=\"#ffdab9\" stroke=\"#000000\" points=\"183,-420 15,-420 15,-380 183,-380 183,-420\"/>\n",
       "<text text-anchor=\"start\" x=\"73.5\" y=\"-405.8\" font-family=\"Fira Mono, Courier, monospace\" font-weight=\"bold\" font-style=\"italic\" font-size=\"14.00\" fill=\"#000000\">&lt;test&gt;</text>\n",
       "<text text-anchor=\"start\" x=\"23\" y=\"-386.8\" font-family=\"Fira Mono, Courier, monospace\" font-size=\"9.00\" fill=\"#000000\">elif c == &#39;&gt;&#39; and not quote:</text>\n",
       "</a>\n",
       "</g>\n",
       "</g>\n",
       "<!-- test_remove_html_markup_144&#45;&gt;test_remove_html_markup_146 -->\n",
       "<g id=\"edge15\" class=\"edge\">\n",
       "<title>test_remove_html_markup_144&#45;&gt;test_remove_html_markup_146</title>\n",
       "<path fill=\"none\" stroke=\"#c0c0c0\" stroke-dasharray=\"5,2\" d=\"M182.0025,-531.7676C173.5304,-521.3421 163.3411,-508.2705 155,-496 140.2714,-474.333 125.4128,-448.6435 114.7057,-429.2939\"/>\n",
       "<polygon fill=\"#c0c0c0\" stroke=\"#c0c0c0\" points=\"117.6783,-427.4355 109.8017,-420.3497 111.5404,-430.8009 117.6783,-427.4355\"/>\n",
       "</g>\n",
       "<!-- quote_remove_html_markup_138 -->\n",
       "<g id=\"node2\" class=\"node\">\n",
       "<title>quote_remove_html_markup_138</title>\n",
       "<g id=\"a_node2\"><a xlink:title=\"remove_html_markup:138\">\n",
       "<polygon fill=\"#ffdab9\" stroke=\"#000000\" points=\"204.5,-800 117.5,-800 117.5,-760 204.5,-760 204.5,-800\"/>\n",
       "<text text-anchor=\"start\" x=\"139.5\" y=\"-785.8\" font-family=\"Fira Mono, Courier, monospace\" font-weight=\"bold\" font-size=\"14.00\" fill=\"#000000\">quote</text>\n",
       "<text text-anchor=\"start\" x=\"125.5\" y=\"-766.8\" font-family=\"Fira Mono, Courier, monospace\" font-size=\"9.00\" fill=\"#000000\">quote = False</text>\n",
       "</a>\n",
       "</g>\n",
       "</g>\n",
       "<!-- quote_remove_html_markup_138&#45;&gt;test_remove_html_markup_144 -->\n",
       "<g id=\"edge1\" class=\"edge\">\n",
       "<title>quote_remove_html_markup_138&#45;&gt;test_remove_html_markup_144</title>\n",
       "<path fill=\"none\" stroke=\"#000000\" d=\"M163.3808,-759.7845C167.3027,-727.5465 175.7204,-662.5619 186,-608 187.6028,-599.4929 189.6117,-590.3221 191.5677,-581.9139\"/>\n",
       "<polygon fill=\"#000000\" stroke=\"#000000\" points=\"194.9853,-582.6705 193.8964,-572.1317 188.1756,-581.0493 194.9853,-582.6705\"/>\n",
       "</g>\n",
       "<!-- quote_remove_html_markup_138&#45;&gt;test_remove_html_markup_146 -->\n",
       "<g id=\"edge13\" class=\"edge\">\n",
       "<title>quote_remove_html_markup_138&#45;&gt;test_remove_html_markup_146</title>\n",
       "<path fill=\"none\" stroke=\"#000000\" d=\"M134.2754,-759.8035C102.5827,-733.3297 54,-683.6685 54,-628 54,-628 54,-628 54,-552 54,-507.9878 71.561,-459.647 84.7424,-429.5611\"/>\n",
       "<polygon fill=\"#000000\" stroke=\"#000000\" points=\"88.0928,-430.6454 89.013,-420.0905 81.7116,-427.7678 88.0928,-430.6454\"/>\n",
       "</g>\n",
       "<!-- out_remove_html_markup_139 -->\n",
       "<g id=\"node9\" class=\"node\">\n",
       "<title>out_remove_html_markup_139</title>\n",
       "<g id=\"a_node9\"><a xlink:title=\"remove_html_markup:139\">\n",
       "<polygon fill=\"#ffdab9\" stroke=\"#000000\" points=\"321,-724 261,-724 261,-684 321,-684 321,-724\"/>\n",
       "<text text-anchor=\"start\" x=\"278\" y=\"-709.8\" font-family=\"Fira Mono, Courier, monospace\" font-weight=\"bold\" font-size=\"14.00\" fill=\"#000000\">out</text>\n",
       "<text text-anchor=\"start\" x=\"269\" y=\"-690.8\" font-family=\"Fira Mono, Courier, monospace\" font-size=\"9.00\" fill=\"#000000\">out = &quot;&quot;</text>\n",
       "</a>\n",
       "</g>\n",
       "</g>\n",
       "<!-- quote_remove_html_markup_138&#45;&gt;out_remove_html_markup_139 -->\n",
       "<!-- c_remove_html_markup_141 -->\n",
       "<g id=\"node3\" class=\"node\">\n",
       "<title>c_remove_html_markup_141</title>\n",
       "<g id=\"a_node3\"><a xlink:title=\"remove_html_markup:141\">\n",
       "<polygon fill=\"#ffdab9\" stroke=\"#000000\" points=\"271,-648 195,-648 195,-608 271,-608 271,-648\"/>\n",
       "<text text-anchor=\"start\" x=\"228.5\" y=\"-633.8\" font-family=\"Fira Mono, Courier, monospace\" font-weight=\"bold\" font-size=\"14.00\" fill=\"#000000\">c</text>\n",
       "<text text-anchor=\"start\" x=\"203\" y=\"-614.8\" font-family=\"Fira Mono, Courier, monospace\" font-size=\"9.00\" fill=\"#000000\">for c in s:</text>\n",
       "</a>\n",
       "</g>\n",
       "</g>\n",
       "<!-- c_remove_html_markup_141&#45;&gt;test_remove_html_markup_144 -->\n",
       "<g id=\"edge2\" class=\"edge\">\n",
       "<title>c_remove_html_markup_141&#45;&gt;test_remove_html_markup_144</title>\n",
       "<path fill=\"none\" stroke=\"#000000\" d=\"M217.8312,-607.6334C213.5831,-599.6468 209.2313,-590.325 205.6493,-581.6205\"/>\n",
       "<polygon fill=\"#000000\" stroke=\"#000000\" points=\"208.8588,-580.2164 201.9788,-572.1593 202.3327,-582.7482 208.8588,-580.2164\"/>\n",
       "</g>\n",
       "<!-- c_remove_html_markup_141&#45;&gt;test_remove_html_markup_144 -->\n",
       "<!-- test_remove_html_markup_148 -->\n",
       "<g id=\"node6\" class=\"node\">\n",
       "<title>test_remove_html_markup_148</title>\n",
       "<g id=\"a_node6\"><a xlink:title=\"remove_html_markup:148\">\n",
       "<polygon fill=\"#ffdab9\" stroke=\"#000000\" points=\"277.5,-268 66.5,-268 66.5,-228 277.5,-228 277.5,-268\"/>\n",
       "<text text-anchor=\"start\" x=\"146.5\" y=\"-253.8\" font-family=\"Fira Mono, Courier, monospace\" font-weight=\"bold\" font-style=\"italic\" font-size=\"14.00\" fill=\"#000000\">&lt;test&gt;</text>\n",
       "<text text-anchor=\"start\" x=\"74.5\" y=\"-234.8\" font-family=\"Fira Mono, Courier, monospace\" font-size=\"9.00\" fill=\"#000000\">elif (c == &#39;&quot;&#39; or c == &quot;&#39;&quot;) and tag:</text>\n",
       "</a>\n",
       "</g>\n",
       "</g>\n",
       "<!-- c_remove_html_markup_141&#45;&gt;test_remove_html_markup_148 -->\n",
       "<g id=\"edge4\" class=\"edge\">\n",
       "<title>c_remove_html_markup_141&#45;&gt;test_remove_html_markup_148</title>\n",
       "<path fill=\"none\" stroke=\"#000000\" d=\"M259.9471,-607.8347C270.4917,-598.2766 281.3891,-585.9021 287,-572 293.6537,-555.5143 290.3989,-549.4498 287,-532 267.9388,-434.1416 215.1487,-327.349 188.2331,-277.155\"/>\n",
       "<polygon fill=\"#000000\" stroke=\"#000000\" points=\"191.2081,-275.2986 183.3674,-268.1729 185.0531,-278.6328 191.2081,-275.2986\"/>\n",
       "</g>\n",
       "<!-- c_remove_html_markup_141&#45;&gt;test_remove_html_markup_146 -->\n",
       "<g id=\"edge14\" class=\"edge\">\n",
       "<title>c_remove_html_markup_141&#45;&gt;test_remove_html_markup_146</title>\n",
       "<path fill=\"none\" stroke=\"#000000\" d=\"M194.9222,-621.2211C166.8084,-614.0678 130.2217,-599.7934 111,-572 81.8658,-529.8738 86.3169,-467.22 92.4726,-430.2998\"/>\n",
       "<polygon fill=\"#000000\" stroke=\"#000000\" points=\"95.9702,-430.6277 94.3147,-420.1631 89.083,-429.3761 95.9702,-430.6277\"/>\n",
       "</g>\n",
       "<!-- out_remove_html_markup_151 -->\n",
       "<g id=\"node8\" class=\"node\">\n",
       "<title>out_remove_html_markup_151</title>\n",
       "<g id=\"a_node8\"><a xlink:title=\"remove_html_markup:151\">\n",
       "<polygon fill=\"#ffdab9\" stroke=\"#000000\" points=\"215.5,-116 128.5,-116 128.5,-76 215.5,-76 215.5,-116\"/>\n",
       "<text text-anchor=\"start\" x=\"159\" y=\"-101.8\" font-family=\"Fira Mono, Courier, monospace\" font-weight=\"bold\" font-size=\"14.00\" fill=\"#000000\">out</text>\n",
       "<text text-anchor=\"start\" x=\"136.5\" y=\"-82.8\" font-family=\"Fira Mono, Courier, monospace\" font-size=\"9.00\" fill=\"#000000\">out = out + c</text>\n",
       "</a>\n",
       "</g>\n",
       "</g>\n",
       "<!-- c_remove_html_markup_141&#45;&gt;out_remove_html_markup_151 -->\n",
       "<g id=\"edge8\" class=\"edge\">\n",
       "<title>c_remove_html_markup_141&#45;&gt;out_remove_html_markup_151</title>\n",
       "<path fill=\"none\" stroke=\"#000000\" d=\"M263.9995,-607.8275C277.0175,-598.1856 291.5329,-585.7483 302,-572 330.211,-534.9456 344,-522.5713 344,-476 344,-476 344,-476 344,-248 344,-183.661 275.5882,-140.0182 225.055,-116.5572\"/>\n",
       "<polygon fill=\"#000000\" stroke=\"#000000\" points=\"226.4032,-113.3258 215.8479,-112.4109 223.5288,-119.7085 226.4032,-113.3258\"/>\n",
       "</g>\n",
       "<!-- s_remove_html_markup_136 -->\n",
       "<g id=\"node4\" class=\"node\">\n",
       "<title>s_remove_html_markup_136</title>\n",
       "<g id=\"a_node4\"><a xlink:title=\"remove_html_markup:136\">\n",
       "<polygon fill=\"#ffdab9\" stroke=\"#000000\" points=\"275.5,-952 118.5,-952 118.5,-912 275.5,-912 275.5,-952\"/>\n",
       "<text text-anchor=\"start\" x=\"192.5\" y=\"-937.8\" font-family=\"Fira Mono, Courier, monospace\" font-weight=\"bold\" font-size=\"14.00\" fill=\"#000000\">s</text>\n",
       "<text text-anchor=\"start\" x=\"126.5\" y=\"-918.8\" font-family=\"Fira Mono, Courier, monospace\" font-size=\"9.00\" fill=\"#000000\">def remove_html_markup(s):</text>\n",
       "</a>\n",
       "</g>\n",
       "</g>\n",
       "<!-- s_remove_html_markup_136&#45;&gt;c_remove_html_markup_141 -->\n",
       "<g id=\"edge16\" class=\"edge\">\n",
       "<title>s_remove_html_markup_136&#45;&gt;c_remove_html_markup_141</title>\n",
       "<path fill=\"none\" stroke=\"#000000\" d=\"M202.8241,-911.9428C205.6963,-901.34 208.971,-888.0566 211,-876 224.1104,-798.0965 229.7143,-705.0256 231.8476,-658.1499\"/>\n",
       "<polygon fill=\"#000000\" stroke=\"#000000\" points=\"235.3482,-658.208 232.2848,-648.0657 228.3548,-657.9047 235.3482,-658.208\"/>\n",
       "</g>\n",
       "<!-- tag_remove_html_markup_137 -->\n",
       "<g id=\"node11\" class=\"node\">\n",
       "<title>tag_remove_html_markup_137</title>\n",
       "<g id=\"a_node11\"><a xlink:title=\"remove_html_markup:137\">\n",
       "<polygon fill=\"#ffdab9\" stroke=\"#000000\" points=\"202,-876 126,-876 126,-836 202,-836 202,-876\"/>\n",
       "<text text-anchor=\"start\" x=\"151\" y=\"-861.8\" font-family=\"Fira Mono, Courier, monospace\" font-weight=\"bold\" font-size=\"14.00\" fill=\"#000000\">tag</text>\n",
       "<text text-anchor=\"start\" x=\"134\" y=\"-842.8\" font-family=\"Fira Mono, Courier, monospace\" font-size=\"9.00\" fill=\"#000000\">tag = False</text>\n",
       "</a>\n",
       "</g>\n",
       "</g>\n",
       "<!-- s_remove_html_markup_136&#45;&gt;tag_remove_html_markup_137 -->\n",
       "<!-- tag_remove_html_markup_145&#45;&gt;test_remove_html_markup_146 -->\n",
       "<!-- test_remove_html_markup_150 -->\n",
       "<g id=\"node10\" class=\"node\">\n",
       "<title>test_remove_html_markup_150</title>\n",
       "<g id=\"a_node10\"><a xlink:title=\"remove_html_markup:150\">\n",
       "<polygon fill=\"#ffdab9\" stroke=\"#000000\" points=\"215.5,-192 128.5,-192 128.5,-152 215.5,-152 215.5,-192\"/>\n",
       "<text text-anchor=\"start\" x=\"146.5\" y=\"-177.8\" font-family=\"Fira Mono, Courier, monospace\" font-weight=\"bold\" font-style=\"italic\" font-size=\"14.00\" fill=\"#000000\">&lt;test&gt;</text>\n",
       "<text text-anchor=\"start\" x=\"136.5\" y=\"-158.8\" font-family=\"Fira Mono, Courier, monospace\" font-size=\"9.00\" fill=\"#000000\">elif not tag:</text>\n",
       "</a>\n",
       "</g>\n",
       "</g>\n",
       "<!-- tag_remove_html_markup_145&#45;&gt;test_remove_html_markup_150 -->\n",
       "<g id=\"edge10\" class=\"edge\">\n",
       "<title>tag_remove_html_markup_145&#45;&gt;test_remove_html_markup_150</title>\n",
       "<path fill=\"none\" stroke=\"#000000\" d=\"M217.6012,-455.7234C255.6904,-411.6462 335.0805,-304.8913 287,-228 273.35,-206.1706 248.477,-192.6278 225.346,-184.3431\"/>\n",
       "<polygon fill=\"#000000\" stroke=\"#000000\" points=\"226.1706,-180.9292 215.5772,-181.1056 223.9684,-187.5738 226.1706,-180.9292\"/>\n",
       "</g>\n",
       "<!-- test_remove_html_markup_148&#45;&gt;test_remove_html_markup_150 -->\n",
       "<g id=\"edge12\" class=\"edge\">\n",
       "<title>test_remove_html_markup_148&#45;&gt;test_remove_html_markup_150</title>\n",
       "<path fill=\"none\" stroke=\"#c0c0c0\" stroke-dasharray=\"5,2\" d=\"M165.9426,-227.6334C165.2819,-219.8186 165.0939,-210.7253 165.3786,-202.183\"/>\n",
       "<polygon fill=\"#c0c0c0\" stroke=\"#c0c0c0\" points=\"168.875,-202.3453 165.9602,-192.1593 161.8867,-201.9397 168.875,-202.3453\"/>\n",
       "</g>\n",
       "<!-- test_remove_html_markup_148&#45;&gt;test_remove_html_markup_150 -->\n",
       "<!-- test_remove_html_markup_146&#45;&gt;test_remove_html_markup_148 -->\n",
       "<g id=\"edge5\" class=\"edge\">\n",
       "<title>test_remove_html_markup_146&#45;&gt;test_remove_html_markup_148</title>\n",
       "<path fill=\"none\" stroke=\"#c0c0c0\" stroke-dasharray=\"5,2\" d=\"M119.6789,-379.783C128.894,-369.7718 139.1832,-357.0503 146,-344 156.8425,-323.2427 163.4941,-297.5347 167.3522,-277.9476\"/>\n",
       "<polygon fill=\"#c0c0c0\" stroke=\"#c0c0c0\" points=\"170.807,-278.5117 169.1697,-268.0442 163.922,-277.2481 170.807,-278.5117\"/>\n",
       "</g>\n",
       "<!-- tag_remove_html_markup_147 -->\n",
       "<g id=\"node12\" class=\"node\">\n",
       "<title>tag_remove_html_markup_147</title>\n",
       "<g id=\"a_node12\"><a xlink:title=\"remove_html_markup:147\">\n",
       "<polygon fill=\"#ffdab9\" stroke=\"#000000\" points=\"137,-344 61,-344 61,-304 137,-304 137,-344\"/>\n",
       "<text text-anchor=\"start\" x=\"86\" y=\"-329.8\" font-family=\"Fira Mono, Courier, monospace\" font-weight=\"bold\" font-size=\"14.00\" fill=\"#000000\">tag</text>\n",
       "<text text-anchor=\"start\" x=\"69\" y=\"-310.8\" font-family=\"Fira Mono, Courier, monospace\" font-size=\"9.00\" fill=\"#000000\">tag = False</text>\n",
       "</a>\n",
       "</g>\n",
       "</g>\n",
       "<!-- test_remove_html_markup_146&#45;&gt;tag_remove_html_markup_147 -->\n",
       "<g id=\"edge17\" class=\"edge\">\n",
       "<title>test_remove_html_markup_146&#45;&gt;tag_remove_html_markup_147</title>\n",
       "<path fill=\"none\" stroke=\"#c0c0c0\" stroke-dasharray=\"5,2\" d=\"M92.9426,-379.6334C92.2819,-371.8186 92.0939,-362.7253 92.3786,-354.183\"/>\n",
       "<polygon fill=\"#c0c0c0\" stroke=\"#c0c0c0\" points=\"95.875,-354.3453 92.9602,-344.1593 88.8867,-353.9397 95.875,-354.3453\"/>\n",
       "</g>\n",
       "<!-- test_remove_html_markup_146&#45;&gt;tag_remove_html_markup_147 -->\n",
       "<!-- remove_html_markupreturnvalue_remove_html_markup_153 -->\n",
       "<g id=\"node13\" class=\"node\">\n",
       "<title>remove_html_markupreturnvalue_remove_html_markup_153</title>\n",
       "<g id=\"a_node13\"><a xlink:title=\"remove_html_markup:153\">\n",
       "<polygon fill=\"#ffdab9\" stroke=\"#000000\" points=\"327.5,-40 16.5,-40 16.5,0 327.5,0 327.5,-40\"/>\n",
       "<text text-anchor=\"start\" x=\"24.5\" y=\"-25.8\" font-family=\"Fira Mono, Courier, monospace\" font-weight=\"bold\" font-style=\"italic\" font-size=\"14.00\" fill=\"#000000\">&lt;remove_html_markup() return value&gt;</text>\n",
       "<text text-anchor=\"start\" x=\"144.5\" y=\"-6.8\" font-family=\"Fira Mono, Courier, monospace\" font-size=\"9.00\" fill=\"#000000\">return out</text>\n",
       "</a>\n",
       "</g>\n",
       "</g>\n",
       "<!-- test_remove_html_markup_146&#45;&gt;remove_html_markupreturnvalue_remove_html_markup_153 -->\n",
       "<g id=\"edge19\" class=\"edge\">\n",
       "<title>test_remove_html_markup_146&#45;&gt;remove_html_markupreturnvalue_remove_html_markup_153</title>\n",
       "<path fill=\"none\" stroke=\"#000000\" d=\"M74.7819,-379.8404C45.4731,-353.0342 0,-302.6397 0,-248 0,-248 0,-248 0,-172 0,-111.0374 61.4199,-68.6558 110.8541,-44.4176\"/>\n",
       "<polygon fill=\"#000000\" stroke=\"#000000\" points=\"112.4,-47.5581 119.9276,-40.1025 109.3936,-41.2365 112.4,-47.5581\"/>\n",
       "</g>\n",
       "<!-- out_remove_html_markup_151&#45;&gt;out_remove_html_markup_151 -->\n",
       "<g id=\"edge6\" class=\"edge\">\n",
       "<title>out_remove_html_markup_151&#45;&gt;out_remove_html_markup_151</title>\n",
       "<path fill=\"none\" stroke=\"#000000\" d=\"M215.6694,-109.9682C225.9301,-108.8201 233.5,-104.1641 233.5,-96 233.5,-90.7699 230.3933,-86.9795 225.4627,-84.6287\"/>\n",
       "<polygon fill=\"#000000\" stroke=\"#000000\" points=\"226.2324,-81.212 215.6694,-82.0318 224.4382,-87.9781 226.2324,-81.212\"/>\n",
       "</g>\n",
       "<!-- out_remove_html_markup_151&#45;&gt;remove_html_markupreturnvalue_remove_html_markup_153 -->\n",
       "<g id=\"edge18\" class=\"edge\">\n",
       "<title>out_remove_html_markup_151&#45;&gt;remove_html_markupreturnvalue_remove_html_markup_153</title>\n",
       "<path fill=\"none\" stroke=\"#000000\" d=\"M165.9426,-75.6334C165.2819,-67.8186 165.0939,-58.7253 165.3786,-50.183\"/>\n",
       "<polygon fill=\"#000000\" stroke=\"#000000\" points=\"168.875,-50.3453 165.9602,-40.1593 161.8867,-49.9397 168.875,-50.3453\"/>\n",
       "</g>\n",
       "<!-- out_remove_html_markup_151&#45;&gt;remove_html_markupreturnvalue_remove_html_markup_153 -->\n",
       "<!-- out_remove_html_markup_139&#45;&gt;c_remove_html_markup_141 -->\n",
       "<!-- out_remove_html_markup_139&#45;&gt;out_remove_html_markup_151 -->\n",
       "<g id=\"edge7\" class=\"edge\">\n",
       "<title>out_remove_html_markup_139&#45;&gt;out_remove_html_markup_151</title>\n",
       "<path fill=\"none\" stroke=\"#000000\" d=\"M313.0286,-683.6774C339.9603,-656.5042 382,-605.5165 382,-552 382,-552 382,-552 382,-248 382,-170.675 287.4135,-128.6772 225.1997,-109.4167\"/>\n",
       "<polygon fill=\"#000000\" stroke=\"#000000\" points=\"226.0958,-106.0315 215.5121,-106.5187 224.0896,-112.7379 226.0958,-106.0315\"/>\n",
       "</g>\n",
       "<!-- test_remove_html_markup_150&#45;&gt;out_remove_html_markup_151 -->\n",
       "<g id=\"edge9\" class=\"edge\">\n",
       "<title>test_remove_html_markup_150&#45;&gt;out_remove_html_markup_151</title>\n",
       "<path fill=\"none\" stroke=\"#c0c0c0\" stroke-dasharray=\"5,2\" d=\"M165.9426,-151.6334C165.2819,-143.8186 165.0939,-134.7253 165.3786,-126.183\"/>\n",
       "<polygon fill=\"#c0c0c0\" stroke=\"#c0c0c0\" points=\"168.875,-126.3453 165.9602,-116.1593 161.8867,-125.9397 168.875,-126.3453\"/>\n",
       "</g>\n",
       "<!-- test_remove_html_markup_150&#45;&gt;out_remove_html_markup_151 -->\n",
       "<!-- tag_remove_html_markup_137&#45;&gt;quote_remove_html_markup_138 -->\n",
       "<!-- tag_remove_html_markup_147&#45;&gt;test_remove_html_markup_148 -->\n",
       "<!-- tag_remove_html_markup_147&#45;&gt;test_remove_html_markup_150 -->\n",
       "<g id=\"edge11\" class=\"edge\">\n",
       "<title>tag_remove_html_markup_147&#45;&gt;test_remove_html_markup_150</title>\n",
       "<path fill=\"none\" stroke=\"#000000\" d=\"M78.8745,-303.6598C61.5802,-283.6182 41.6643,-252.5251 57,-228 70.65,-206.1706 95.523,-192.6278 118.654,-184.3431\"/>\n",
       "<polygon fill=\"#000000\" stroke=\"#000000\" points=\"120.0316,-187.5738 128.4228,-181.1056 117.8294,-180.9292 120.0316,-187.5738\"/>\n",
       "</g>\n",
       "</g>\n",
       "</svg>\n"
      ],
      "text/plain": [
       "<graphviz.dot.Digraph at 0x7f83c4477a58>"
      ]
     },
     "execution_count": 41,
     "metadata": {},
     "output_type": "execute_result"
    }
   ],
   "source": [
    "# ignore\n",
    "remove_html_markup_deps().graph()"
   ]
  },
  {
   "cell_type": "markdown",
   "metadata": {
    "slideshow": {
     "slide_type": "subslide"
    }
   },
   "source": [
    "Again, we can read such a graph _forward_ (starting from, say, `s`) or _backward_ (starting from the return value). Starting forward, we see how the passed string `s` flows into the `for` loop, breaking `s` into individual characters `c` that are then checked on various occasions, before flowing into the `out` return value. We also see how the various `if` conditions are all influenced by `c`, `tag`, and `quote`."
   ]
  },
  {
   "cell_type": "code",
   "execution_count": 42,
   "metadata": {
    "slideshow": {
     "slide_type": "fragment"
    }
   },
   "outputs": [
    {
     "data": {
      "text/html": [
       "\n",
       "    \n",
       "    <script>\n",
       "    function answer(quiz_id) {\n",
       "        ans = 0;\n",
       "        for (i = 1;; i++) {\n",
       "            checkbox = document.getElementById(quiz_id + \"-\" + i.toString());\n",
       "            if (!checkbox)\n",
       "                break;\n",
       "            if (checkbox.checked)\n",
       "                ans |= (1 << i);\n",
       "        }\n",
       "        return ans;\n",
       "    }\n",
       "    function check_selection(quiz_id, correct_answer, multiple_choice) {\n",
       "        given_answer = answer(quiz_id);\n",
       "        if (given_answer == correct_answer)\n",
       "        {\n",
       "            document.getElementById(quiz_id + \"-submit\").value = \"Correct!\";\n",
       "            for (i = 1;; i++) {\n",
       "                checkbox = document.getElementById(quiz_id + \"-\" + i.toString());\n",
       "                label = document.getElementById(quiz_id + \"-\" + i.toString() + \"-label\")\n",
       "                if (!checkbox)\n",
       "                    break;\n",
       "    \n",
       "                if (checkbox.checked) {\n",
       "                    label.style.fontWeight = \"bold\";\n",
       "                }\n",
       "                else {\n",
       "                    label.style.textDecoration = \"line-through\";\n",
       "                }\n",
       "            }\n",
       "        }\n",
       "        else \n",
       "        {\n",
       "            document.getElementById(quiz_id + \"-submit\").value = \"Try again\";\n",
       "            if (!multiple_choice) {\n",
       "                for (i = 1;; i++) {\n",
       "                    checkbox = document.getElementById(quiz_id + \"-\" + i.toString());\n",
       "                    label = document.getElementById(quiz_id + \"-\" + i.toString() + \"-label\")\n",
       "\n",
       "                    if (!checkbox)\n",
       "                        break;\n",
       "                    if (checkbox.checked) {\n",
       "                        label.style.textDecoration = \"line-through\";\n",
       "                    }\n",
       "                }\n",
       "            }\n",
       "        }\n",
       "    }\n",
       "    function clear_selection(quiz_id) {\n",
       "        document.getElementById(quiz_id + \"-submit\").value = \"Submit\";\n",
       "    }\n",
       "    </script>\n",
       "    \n",
       "    <div class=\"quiz\">\n",
       "    <h3 class=\"quiz_title\">Quiz</h3>\n",
       "    <p>\n",
       "    <div class=\"quiz_question\">Why does the first line <code>tag = False</code> not influence anything?</div>\n",
       "    </p>\n",
       "    <p>\n",
       "    <div class=\"quiz_options\" title=\"Pick a choice.\">\n",
       "    \n",
       "        <input type=\"radio\" name=\"49257074-489c-11eb-8163-f218984d6a0c\" id=\"49257074-489c-11eb-8163-f218984d6a0c-1\" onclick=\"clear_selection('49257074-489c-11eb-8163-f218984d6a0c')\">\n",
       "        <label id=\"49257074-489c-11eb-8163-f218984d6a0c-1-label\" for=\"49257074-489c-11eb-8163-f218984d6a0c-1\">Because the input contains only tags</label><br>\n",
       "    \n",
       "        <input type=\"radio\" name=\"49257074-489c-11eb-8163-f218984d6a0c\" id=\"49257074-489c-11eb-8163-f218984d6a0c-2\" onclick=\"clear_selection('49257074-489c-11eb-8163-f218984d6a0c')\">\n",
       "        <label id=\"49257074-489c-11eb-8163-f218984d6a0c-2-label\" for=\"49257074-489c-11eb-8163-f218984d6a0c-2\">Because <code>tag</code> is set to True with the first character</label><br>\n",
       "    \n",
       "        <input type=\"radio\" name=\"49257074-489c-11eb-8163-f218984d6a0c\" id=\"49257074-489c-11eb-8163-f218984d6a0c-3\" onclick=\"clear_selection('49257074-489c-11eb-8163-f218984d6a0c')\">\n",
       "        <label id=\"49257074-489c-11eb-8163-f218984d6a0c-3-label\" for=\"49257074-489c-11eb-8163-f218984d6a0c-3\">Because <code>tag</code> is not read by any variable</label><br>\n",
       "    \n",
       "        <input type=\"radio\" name=\"49257074-489c-11eb-8163-f218984d6a0c\" id=\"49257074-489c-11eb-8163-f218984d6a0c-4\" onclick=\"clear_selection('49257074-489c-11eb-8163-f218984d6a0c')\">\n",
       "        <label id=\"49257074-489c-11eb-8163-f218984d6a0c-4-label\" for=\"49257074-489c-11eb-8163-f218984d6a0c-4\">Because the input contains no tags</label><br>\n",
       "    \n",
       "    </div>\n",
       "    </p>\n",
       "    <input id=\"49257074-489c-11eb-8163-f218984d6a0c-submit\" type=\"submit\" value=\"Submit\" onclick=\"check_selection('49257074-489c-11eb-8163-f218984d6a0c', 4, 0)\">\n",
       "    </div>\n",
       "    "
      ],
      "text/plain": [
       "<IPython.core.display.HTML object>"
      ]
     },
     "execution_count": 42,
     "metadata": {},
     "output_type": "execute_result"
    }
   ],
   "source": [
    "quiz(\"Why does the first line `tag = False` not influence anything?\",\n",
    "    [\n",
    "        \"Because the input contains only tags\",\n",
    "        \"Because `tag` is set to True with the first character\",\n",
    "        \"Because `tag` is not read by any variable\",\n",
    "        \"Because the input contains no tags\",\n",
    "    ], (1 << 1 + 1 >> 1))"
   ]
  },
  {
   "cell_type": "markdown",
   "metadata": {
    "slideshow": {
     "slide_type": "subslide"
    }
   },
   "source": [
    "Which are the locations that set `tag` to True? To this end, we compute the slice of `tag` at `tag = True`:"
   ]
  },
  {
   "cell_type": "code",
   "execution_count": 43,
   "metadata": {
    "slideshow": {
     "slide_type": "fragment"
    }
   },
   "outputs": [
    {
     "data": {
      "image/svg+xml": [
       "<?xml version=\"1.0\" encoding=\"UTF-8\" standalone=\"no\"?>\n",
       "<!DOCTYPE svg PUBLIC \"-//W3C//DTD SVG 1.1//EN\"\n",
       " \"http://www.w3.org/Graphics/SVG/1.1/DTD/svg11.dtd\">\n",
       "<!-- Generated by graphviz version 2.40.1 (20161225.0304)\n",
       " -->\n",
       "<!-- Title: dependencies Pages: 1 -->\n",
       "<svg width=\"196pt\" height=\"352pt\"\n",
       " viewBox=\"0.00 0.00 196.00 352.00\" xmlns=\"http://www.w3.org/2000/svg\" xmlns:xlink=\"http://www.w3.org/1999/xlink\">\n",
       "<g id=\"graph0\" class=\"graph\" transform=\"scale(1 1) rotate(0) translate(4 348)\">\n",
       "<title>dependencies</title>\n",
       "<polygon fill=\"#ffffff\" stroke=\"transparent\" points=\"-4,4 -4,-348 192,-348 192,4 -4,4\"/>\n",
       "<!-- test_remove_html_markup_144 -->\n",
       "<g id=\"node1\" class=\"node\">\n",
       "<title>test_remove_html_markup_144</title>\n",
       "<g id=\"a_node1\"><a xlink:title=\"remove_html_markup:144\">\n",
       "<polygon fill=\"#ffdab9\" stroke=\"#000000\" points=\"188,-116 31,-116 31,-76 188,-76 188,-116\"/>\n",
       "<text text-anchor=\"start\" x=\"84\" y=\"-101.8\" font-family=\"Fira Mono, Courier, monospace\" font-weight=\"bold\" font-style=\"italic\" font-size=\"14.00\" fill=\"#000000\">&lt;test&gt;</text>\n",
       "<text text-anchor=\"start\" x=\"39\" y=\"-82.8\" font-family=\"Fira Mono, Courier, monospace\" font-size=\"9.00\" fill=\"#000000\">if c == &#39;&lt;&#39; and not quote:</text>\n",
       "</a>\n",
       "</g>\n",
       "</g>\n",
       "<!-- tag_remove_html_markup_145 -->\n",
       "<g id=\"node5\" class=\"node\">\n",
       "<title>tag_remove_html_markup_145</title>\n",
       "<g id=\"a_node5\"><a xlink:title=\"remove_html_markup:145\">\n",
       "<polygon fill=\"#ffdab9\" stroke=\"#000000\" points=\"145,-40 74,-40 74,0 145,0 145,-40\"/>\n",
       "<text text-anchor=\"start\" x=\"96.5\" y=\"-25.8\" font-family=\"Fira Mono, Courier, monospace\" font-weight=\"bold\" font-size=\"14.00\" fill=\"#000000\">tag</text>\n",
       "<text text-anchor=\"start\" x=\"82\" y=\"-6.8\" font-family=\"Fira Mono, Courier, monospace\" font-size=\"9.00\" fill=\"#000000\">tag = True</text>\n",
       "</a>\n",
       "</g>\n",
       "</g>\n",
       "<!-- test_remove_html_markup_144&#45;&gt;tag_remove_html_markup_145 -->\n",
       "<g id=\"edge3\" class=\"edge\">\n",
       "<title>test_remove_html_markup_144&#45;&gt;tag_remove_html_markup_145</title>\n",
       "<path fill=\"none\" stroke=\"#c0c0c0\" stroke-dasharray=\"5,2\" d=\"M103.4426,-75.6334C102.7819,-67.8186 102.5939,-58.7253 102.8786,-50.183\"/>\n",
       "<polygon fill=\"#c0c0c0\" stroke=\"#c0c0c0\" points=\"106.375,-50.3453 103.4602,-40.1593 99.3867,-49.9397 106.375,-50.3453\"/>\n",
       "</g>\n",
       "<!-- test_remove_html_markup_144&#45;&gt;tag_remove_html_markup_145 -->\n",
       "<!-- quote_remove_html_markup_138 -->\n",
       "<g id=\"node2\" class=\"node\">\n",
       "<title>quote_remove_html_markup_138</title>\n",
       "<g id=\"a_node2\"><a xlink:title=\"remove_html_markup:138\">\n",
       "<polygon fill=\"#ffdab9\" stroke=\"#000000\" points=\"87,-268 0,-268 0,-228 87,-228 87,-268\"/>\n",
       "<text text-anchor=\"start\" x=\"22\" y=\"-253.8\" font-family=\"Fira Mono, Courier, monospace\" font-weight=\"bold\" font-size=\"14.00\" fill=\"#000000\">quote</text>\n",
       "<text text-anchor=\"start\" x=\"8\" y=\"-234.8\" font-family=\"Fira Mono, Courier, monospace\" font-size=\"9.00\" fill=\"#000000\">quote = False</text>\n",
       "</a>\n",
       "</g>\n",
       "</g>\n",
       "<!-- quote_remove_html_markup_138&#45;&gt;test_remove_html_markup_144 -->\n",
       "<g id=\"edge1\" class=\"edge\">\n",
       "<title>quote_remove_html_markup_138&#45;&gt;test_remove_html_markup_144</title>\n",
       "<path fill=\"none\" stroke=\"#000000\" d=\"M44.5563,-227.9674C46.2686,-207.8864 50.7539,-176.5152 62.5,-152 67.3212,-141.9378 74.3732,-132.1828 81.5555,-123.7107\"/>\n",
       "<polygon fill=\"#000000\" stroke=\"#000000\" points=\"84.3747,-125.8078 88.413,-116.0127 79.1479,-121.1515 84.3747,-125.8078\"/>\n",
       "</g>\n",
       "<!-- c_remove_html_markup_141 -->\n",
       "<g id=\"node3\" class=\"node\">\n",
       "<title>c_remove_html_markup_141</title>\n",
       "<g id=\"a_node3\"><a xlink:title=\"remove_html_markup:141\">\n",
       "<polygon fill=\"#ffdab9\" stroke=\"#000000\" points=\"147.5,-192 71.5,-192 71.5,-152 147.5,-152 147.5,-192\"/>\n",
       "<text text-anchor=\"start\" x=\"105\" y=\"-177.8\" font-family=\"Fira Mono, Courier, monospace\" font-weight=\"bold\" font-size=\"14.00\" fill=\"#000000\">c</text>\n",
       "<text text-anchor=\"start\" x=\"79.5\" y=\"-158.8\" font-family=\"Fira Mono, Courier, monospace\" font-size=\"9.00\" fill=\"#000000\">for c in s:</text>\n",
       "</a>\n",
       "</g>\n",
       "</g>\n",
       "<!-- quote_remove_html_markup_138&#45;&gt;c_remove_html_markup_141 -->\n",
       "<!-- c_remove_html_markup_141&#45;&gt;test_remove_html_markup_144 -->\n",
       "<g id=\"edge2\" class=\"edge\">\n",
       "<title>c_remove_html_markup_141&#45;&gt;test_remove_html_markup_144</title>\n",
       "<path fill=\"none\" stroke=\"#000000\" d=\"M103.4426,-151.6334C102.7819,-143.8186 102.5939,-134.7253 102.8786,-126.183\"/>\n",
       "<polygon fill=\"#000000\" stroke=\"#000000\" points=\"106.375,-126.3453 103.4602,-116.1593 99.3867,-125.9397 106.375,-126.3453\"/>\n",
       "</g>\n",
       "<!-- c_remove_html_markup_141&#45;&gt;test_remove_html_markup_144 -->\n",
       "<!-- s_remove_html_markup_136 -->\n",
       "<g id=\"node4\" class=\"node\">\n",
       "<title>s_remove_html_markup_136</title>\n",
       "<g id=\"a_node4\"><a xlink:title=\"remove_html_markup:136\">\n",
       "<polygon fill=\"#ffdab9\" stroke=\"#000000\" points=\"158,-344 1,-344 1,-304 158,-304 158,-344\"/>\n",
       "<text text-anchor=\"start\" x=\"75\" y=\"-329.8\" font-family=\"Fira Mono, Courier, monospace\" font-weight=\"bold\" font-size=\"14.00\" fill=\"#000000\">s</text>\n",
       "<text text-anchor=\"start\" x=\"9\" y=\"-310.8\" font-family=\"Fira Mono, Courier, monospace\" font-size=\"9.00\" fill=\"#000000\">def remove_html_markup(s):</text>\n",
       "</a>\n",
       "</g>\n",
       "</g>\n",
       "<!-- s_remove_html_markup_136&#45;&gt;quote_remove_html_markup_138 -->\n",
       "<!-- s_remove_html_markup_136&#45;&gt;c_remove_html_markup_141 -->\n",
       "<g id=\"edge4\" class=\"edge\">\n",
       "<title>s_remove_html_markup_136&#45;&gt;c_remove_html_markup_141</title>\n",
       "<path fill=\"none\" stroke=\"#000000\" d=\"M85.933,-303.9461C89.1545,-293.3443 92.9097,-280.0607 95.5,-268 100.1633,-246.2868 103.7369,-221.4732 106.1062,-202.5133\"/>\n",
       "<polygon fill=\"#000000\" stroke=\"#000000\" points=\"109.6072,-202.7142 107.3294,-192.3671 102.6575,-201.8763 109.6072,-202.7142\"/>\n",
       "</g>\n",
       "</g>\n",
       "</svg>\n"
      ],
      "text/plain": [
       "<graphviz.dot.Digraph at 0x7f83c4490240>"
      ]
     },
     "execution_count": 43,
     "metadata": {},
     "output_type": "execute_result"
    }
   ],
   "source": [
    "# ignore\n",
    "tag_deps = Dependencies({('tag', ('remove_html_markup', 145)): set(), ('<test>', ('remove_html_markup', 144)): {('quote', ('remove_html_markup', 138)), ('c', ('remove_html_markup', 141))}, ('quote', ('remove_html_markup', 138)): set(), ('c', ('remove_html_markup', 141)): {('s', ('remove_html_markup', 136))}, ('s', ('remove_html_markup', 136)): set()}, {('tag', ('remove_html_markup', 145)): {('<test>', ('remove_html_markup', 144))}, ('<test>', ('remove_html_markup', 144)): set(), ('quote', ('remove_html_markup', 138)): set(), ('c', ('remove_html_markup', 141)): set(), ('s', ('remove_html_markup', 136)): set()})\n",
    "tag_deps.graph()"
   ]
  },
  {
   "cell_type": "markdown",
   "metadata": {
    "slideshow": {
     "slide_type": "fragment"
    }
   },
   "source": [
    "We see where the value of `tag` comes from: from the characters `c` in `s` as well as `quote`, which all cause it to be set. Again, we can combine these dependencies and the listing in a single, compact view. Note, again, that there are no other locations in the code that could possibly have affected `tag` in our run."
   ]
  },
  {
   "cell_type": "code",
   "execution_count": 44,
   "metadata": {
    "slideshow": {
     "slide_type": "subslide"
    }
   },
   "outputs": [
    {
     "name": "stdout",
     "output_type": "stream",
     "text": [
      "*  136 \u001b[34mdef\u001b[39;49;00m \u001b[32mremove_html_markup\u001b[39;49;00m(s):\n",
      "   137     tag = \u001b[34mFalse\u001b[39;49;00m\n",
      "*  138     quote = \u001b[34mFalse\u001b[39;49;00m\n",
      "   139     out = \u001b[33m\"\u001b[39;49;00m\u001b[33m\"\u001b[39;49;00m\n",
      "   140 \n",
      "*  141     \u001b[34mfor\u001b[39;49;00m c \u001b[35min\u001b[39;49;00m s:  \u001b[37m# <= s (136)\u001b[39;49;00m\n",
      "   142         \u001b[34massert\u001b[39;49;00m tag \u001b[35mor\u001b[39;49;00m \u001b[35mnot\u001b[39;49;00m quote\n",
      "   143 \n",
      "*  144         \u001b[34mif\u001b[39;49;00m c == \u001b[33m'\u001b[39;49;00m\u001b[33m<\u001b[39;49;00m\u001b[33m'\u001b[39;49;00m \u001b[35mand\u001b[39;49;00m \u001b[35mnot\u001b[39;49;00m quote:  \u001b[37m# <= quote (138), c (141)\u001b[39;49;00m\n",
      "*  145             tag = \u001b[34mTrue\u001b[39;49;00m  \u001b[37m# <- <test> (144)\u001b[39;49;00m\n",
      "   146         \u001b[34melif\u001b[39;49;00m c == \u001b[33m'\u001b[39;49;00m\u001b[33m>\u001b[39;49;00m\u001b[33m'\u001b[39;49;00m \u001b[35mand\u001b[39;49;00m \u001b[35mnot\u001b[39;49;00m quote:\n",
      "   147             tag = \u001b[34mFalse\u001b[39;49;00m\n",
      "   148         \u001b[34melif\u001b[39;49;00m (c == \u001b[33m'\u001b[39;49;00m\u001b[33m\"\u001b[39;49;00m\u001b[33m'\u001b[39;49;00m \u001b[35mor\u001b[39;49;00m c == \u001b[33m\"\u001b[39;49;00m\u001b[33m'\u001b[39;49;00m\u001b[33m\"\u001b[39;49;00m) \u001b[35mand\u001b[39;49;00m tag:\n",
      "   149             quote = \u001b[35mnot\u001b[39;49;00m quote\n",
      "   150         \u001b[34melif\u001b[39;49;00m \u001b[35mnot\u001b[39;49;00m tag:\n",
      "   151             out = out + c\n",
      "   152 \n",
      "   153     \u001b[34mreturn\u001b[39;49;00m out\n"
     ]
    }
   ],
   "source": [
    "# ignore\n",
    "tag_deps.code(remove_html_markup)"
   ]
  },
  {
   "cell_type": "code",
   "execution_count": 45,
   "metadata": {
    "slideshow": {
     "slide_type": "subslide"
    }
   },
   "outputs": [
    {
     "data": {
      "text/html": [
       "\n",
       "    \n",
       "    <script>\n",
       "    function answer(quiz_id) {\n",
       "        ans = 0;\n",
       "        for (i = 1;; i++) {\n",
       "            checkbox = document.getElementById(quiz_id + \"-\" + i.toString());\n",
       "            if (!checkbox)\n",
       "                break;\n",
       "            if (checkbox.checked)\n",
       "                ans |= (1 << i);\n",
       "        }\n",
       "        return ans;\n",
       "    }\n",
       "    function check_selection(quiz_id, correct_answer, multiple_choice) {\n",
       "        given_answer = answer(quiz_id);\n",
       "        if (given_answer == correct_answer)\n",
       "        {\n",
       "            document.getElementById(quiz_id + \"-submit\").value = \"Correct!\";\n",
       "            for (i = 1;; i++) {\n",
       "                checkbox = document.getElementById(quiz_id + \"-\" + i.toString());\n",
       "                label = document.getElementById(quiz_id + \"-\" + i.toString() + \"-label\")\n",
       "                if (!checkbox)\n",
       "                    break;\n",
       "    \n",
       "                if (checkbox.checked) {\n",
       "                    label.style.fontWeight = \"bold\";\n",
       "                }\n",
       "                else {\n",
       "                    label.style.textDecoration = \"line-through\";\n",
       "                }\n",
       "            }\n",
       "        }\n",
       "        else \n",
       "        {\n",
       "            document.getElementById(quiz_id + \"-submit\").value = \"Try again\";\n",
       "            if (!multiple_choice) {\n",
       "                for (i = 1;; i++) {\n",
       "                    checkbox = document.getElementById(quiz_id + \"-\" + i.toString());\n",
       "                    label = document.getElementById(quiz_id + \"-\" + i.toString() + \"-label\")\n",
       "\n",
       "                    if (!checkbox)\n",
       "                        break;\n",
       "                    if (checkbox.checked) {\n",
       "                        label.style.textDecoration = \"line-through\";\n",
       "                    }\n",
       "                }\n",
       "            }\n",
       "        }\n",
       "    }\n",
       "    function clear_selection(quiz_id) {\n",
       "        document.getElementById(quiz_id + \"-submit\").value = \"Submit\";\n",
       "    }\n",
       "    </script>\n",
       "    \n",
       "    <div class=\"quiz\">\n",
       "    <h3 class=\"quiz_title\">Quiz</h3>\n",
       "    <p>\n",
       "    <div class=\"quiz_question\">How does the slice of <code>tag = True</code> change for a different value of <code>s</code>?</div>\n",
       "    </p>\n",
       "    <p>\n",
       "    <div class=\"quiz_options\" title=\"Check all that apply.\">\n",
       "    \n",
       "        <input type=\"checkbox\" name=\"499a2624-489c-11eb-9732-f218984d6a0c\" id=\"499a2624-489c-11eb-9732-f218984d6a0c-1\" onclick=\"clear_selection('499a2624-489c-11eb-9732-f218984d6a0c')\">\n",
       "        <label id=\"499a2624-489c-11eb-9732-f218984d6a0c-1-label\" for=\"499a2624-489c-11eb-9732-f218984d6a0c-1\">Not at all</label><br>\n",
       "    \n",
       "        <input type=\"checkbox\" name=\"499a2624-489c-11eb-9732-f218984d6a0c\" id=\"499a2624-489c-11eb-9732-f218984d6a0c-2\" onclick=\"clear_selection('499a2624-489c-11eb-9732-f218984d6a0c')\">\n",
       "        <label id=\"499a2624-489c-11eb-9732-f218984d6a0c-2-label\" for=\"499a2624-489c-11eb-9732-f218984d6a0c-2\">If <code>s</code> contains a quote, the <code>quote</code> slice is included, too</label><br>\n",
       "    \n",
       "        <input type=\"checkbox\" name=\"499a2624-489c-11eb-9732-f218984d6a0c\" id=\"499a2624-489c-11eb-9732-f218984d6a0c-3\" onclick=\"clear_selection('499a2624-489c-11eb-9732-f218984d6a0c')\">\n",
       "        <label id=\"499a2624-489c-11eb-9732-f218984d6a0c-3-label\" for=\"499a2624-489c-11eb-9732-f218984d6a0c-3\">If <code>s</code> contains no HTML tag, the slice will be empty</label><br>\n",
       "    \n",
       "    </div>\n",
       "    </p>\n",
       "    <input id=\"499a2624-489c-11eb-9732-f218984d6a0c-submit\" type=\"submit\" value=\"Submit\" onclick=\"check_selection('499a2624-489c-11eb-9732-f218984d6a0c', 12, 1)\">\n",
       "    </div>\n",
       "    "
      ],
      "text/plain": [
       "<IPython.core.display.HTML object>"
      ]
     },
     "execution_count": 45,
     "metadata": {},
     "output_type": "execute_result"
    }
   ],
   "source": [
    "quiz(\"How does the slice of `tag = True` change \"\n",
    "     \"for a different value of `s`?\",\n",
    "    [\n",
    "        \"Not at all\",\n",
    "        \"If `s` contains a quote, the `quote` slice is included, too\",\n",
    "        \"If `s` contains no HTML tag, the slice will be empty\"\n",
    "    ], \n",
    "     [1, 2, 3][1:])"
   ]
  },
  {
   "cell_type": "markdown",
   "metadata": {
    "slideshow": {
     "slide_type": "fragment"
    }
   },
   "source": [
    "Indeed, our dynamic slices reflect dependencies as they occurred within a single execution. As the execution changes, so do the dependencies."
   ]
  },
  {
   "cell_type": "markdown",
   "metadata": {
    "slideshow": {
     "slide_type": "slide"
    }
   },
   "source": [
    "## Tracking Techniques\n",
    "\n",
    "For the remainder of this chapter, let us investigate means to _determine such dependencies_ automatically – by _collecting_ them during program execution. The idea is that with a single Python call, we can collect the dependencies for some computation, and present them to programmers – as graphs or as code annotations, as shown above."
   ]
  },
  {
   "cell_type": "markdown",
   "metadata": {
    "slideshow": {
     "slide_type": "fragment"
    }
   },
   "source": [
    "To track dependencies, for every variable, we need to keep track of its _origins_ – where it obtained its value, and which tests controlled its assignments. There are two ways to do so:\n",
    "\n",
    "* Wrapping Data Objects\n",
    "* Wrapping Data Accesses"
   ]
  },
  {
   "cell_type": "markdown",
   "metadata": {
    "slideshow": {
     "slide_type": "subslide"
    }
   },
   "source": [
    "### Wrapping Data Objects"
   ]
  },
  {
   "cell_type": "markdown",
   "metadata": {
    "slideshow": {
     "slide_type": "subslide"
    }
   },
   "source": [
    "One way to track origins is to _wrap_ each value in a class that stores both a value and the origin of the value. If a variable `x` is initialized to zero in Line 3, for instance, we could store it as\n",
    "```\n",
    "x = (value=0, origin=<Line 3>)\n",
    "```\n",
    "and if it is copied in, say, Line 5 to another variable `y`, we could store this as\n",
    "```\n",
    "y = (value=0, origin=<Line 3, Line 5>)\n",
    "```\n",
    "Such a scheme would allow us to track origins and dependencies right within the variable."
   ]
  },
  {
   "cell_type": "markdown",
   "metadata": {
    "slideshow": {
     "slide_type": "subslide"
    }
   },
   "source": [
    "In a language like Python, it is actually possibly to subclass from basic types. Here's how we create a `MyInt` subclass of `int`:"
   ]
  },
  {
   "cell_type": "code",
   "execution_count": 46,
   "metadata": {
    "slideshow": {
     "slide_type": "fragment"
    }
   },
   "outputs": [],
   "source": [
    "class MyInt(int):\n",
    "    def __new__(cls, value, *args, **kwargs):\n",
    "        return super(cls, cls).__new__(cls, value)\n",
    "\n",
    "    def __repr__(self):\n",
    "        return f\"{int(self)}\""
   ]
  },
  {
   "cell_type": "code",
   "execution_count": 47,
   "metadata": {
    "slideshow": {
     "slide_type": "fragment"
    }
   },
   "outputs": [],
   "source": [
    "x = MyInt(5)"
   ]
  },
  {
   "cell_type": "markdown",
   "metadata": {
    "slideshow": {
     "slide_type": "fragment"
    }
   },
   "source": [
    "We can access `x` just like any integer:"
   ]
  },
  {
   "cell_type": "code",
   "execution_count": 48,
   "metadata": {
    "slideshow": {
     "slide_type": "fragment"
    }
   },
   "outputs": [
    {
     "data": {
      "text/plain": [
       "(5, 6)"
      ]
     },
     "execution_count": 48,
     "metadata": {},
     "output_type": "execute_result"
    }
   ],
   "source": [
    "x, x + 1"
   ]
  },
  {
   "cell_type": "markdown",
   "metadata": {
    "slideshow": {
     "slide_type": "fragment"
    }
   },
   "source": [
    "However, we can also add extra attributes to it:"
   ]
  },
  {
   "cell_type": "code",
   "execution_count": 49,
   "metadata": {
    "slideshow": {
     "slide_type": "fragment"
    }
   },
   "outputs": [],
   "source": [
    "x.origin = \"Line 5\""
   ]
  },
  {
   "cell_type": "code",
   "execution_count": 50,
   "metadata": {
    "slideshow": {
     "slide_type": "subslide"
    }
   },
   "outputs": [
    {
     "data": {
      "text/plain": [
       "'Line 5'"
      ]
     },
     "execution_count": 50,
     "metadata": {},
     "output_type": "execute_result"
    }
   ],
   "source": [
    "x.origin"
   ]
  },
  {
   "cell_type": "markdown",
   "metadata": {
    "slideshow": {
     "slide_type": "subslide"
    }
   },
   "source": [
    "Such a \"wrapping\" scheme has the advantage of _leaving program code untouched_ – simply pass \"wrapped\" objects instead of the original values. However, it also has a number of drawbacks.\n",
    "\n",
    "* First, we must make sure that the \"wrapper\" objects are still compatible with the original values – notably by converting them back whenever needed. (What happens if an internal Python function expects an `int` and gets a `MyInt` instead?)\n",
    "* Second, we have to make sure that origins do not get lost during computations – which involves overloading operators such as `+`, `-`, `*`, and so on. (Right now, `MyInt(1) + 1` gives us an `int` object, not a `MyInt`.)\n",
    "* Third, we have to do this for _all_ data types of a language, which is pretty tedious.\n",
    "* Fourth and last, however, we want to track whenever a value is assigned to another variable. Python has no support for this, and thus our dependencies will necessarily be incomplete."
   ]
  },
  {
   "cell_type": "markdown",
   "metadata": {
    "slideshow": {
     "slide_type": "subslide"
    }
   },
   "source": [
    "### Wrapping Data Accesses"
   ]
  },
  {
   "cell_type": "markdown",
   "metadata": {
    "slideshow": {
     "slide_type": "subslide"
    }
   },
   "source": [
    "An alternate way of tracking origins is to _instrument_ the source code such that all _data read and write operations are tracked_. That is, the original data stays unchanged, but we change the code instead.\n",
    "\n",
    "In essence, for every occurrence of a variable `x` being _read_, we replace it with\n",
    "\n",
    "```python\n",
    "_data.get('x', x)  # returns x\n",
    "```\n",
    "\n",
    "and for every occurrence of a value being _written_ to `x`, we replace the value with\n",
    "\n",
    "```python\n",
    "_data.set('x', value)  # returns value\n",
    "```\n",
    "\n",
    "and let the `_data` object track these reads and writes.\n",
    "\n",
    "Hence, an assignment such as \n",
    "\n",
    "```python\n",
    "a = b + c\n",
    "```\n",
    "\n",
    "would get rewritten to\n",
    "\n",
    "```python\n",
    "a = _data.set('a', _data.get('b', b) + _data.get('c', c))\n",
    "```\n",
    "\n",
    "and with every access to `_data`, we would track \n",
    "\n",
    "1. the current _location_ in the code, and \n",
    "2. whether the respective variable was read or written.\n",
    "\n",
    "For the above statement, we could deduce that `b` and `c` were read, and `a` was written – which makes `a` data dependent on `b` and `c`."
   ]
  },
  {
   "cell_type": "markdown",
   "metadata": {
    "slideshow": {
     "slide_type": "subslide"
    }
   },
   "source": [
    "The advantage of such instrumentation is that it works with _arbitrary objects_ (in Python, that is) – we do not case whether `a`, `b`, and `c` would be integers, floats, strings, lists. or any other type for which `+` would be defined. Also, the code semantics remain entirely unchanged.\n",
    "\n",
    "The disadvantage, however, is that it takes a bit of effort to exactly separate reads and writes into individual groups, and that a number of language features have to be handled separately. This is what we do in the remainder of this chapter."
   ]
  },
  {
   "cell_type": "markdown",
   "metadata": {
    "slideshow": {
     "slide_type": "slide"
    }
   },
   "source": [
    "## A Data Tracker\n",
    "\n",
    "To implement `_data` accesses as shown above, we introduce the `DataTracker` class. As its name suggests, it keeps track of variables being read and written, and provides methods to determine the code location where this tool place."
   ]
  },
  {
   "cell_type": "code",
   "execution_count": 51,
   "metadata": {
    "slideshow": {
     "slide_type": "fragment"
    }
   },
   "outputs": [],
   "source": [
    "class DataTracker(object):\n",
    "    def __init__(self, log=False):\n",
    "        \"\"\"Initialize. If LOG is set, turn on logging.\"\"\"\n",
    "        self.log = log"
   ]
  },
  {
   "cell_type": "markdown",
   "metadata": {
    "slideshow": {
     "slide_type": "fragment"
    }
   },
   "source": [
    "The method `caller_frame()` walks up the current call stack until it finds a method or function that is not part of `DataTracker`. `caller_location()` returns its location."
   ]
  },
  {
   "cell_type": "code",
   "execution_count": 52,
   "metadata": {
    "slideshow": {
     "slide_type": "subslide"
    }
   },
   "outputs": [],
   "source": [
    "class DataTracker(DataTracker):\n",
    "    def caller_frame(self):\n",
    "        \"\"\"Return the frame of the caller.\"\"\"\n",
    "        frame = inspect.currentframe()\n",
    "        while ('self' in frame.f_locals and \n",
    "               isinstance(frame.f_locals['self'], self.__class__)):\n",
    "            frame = frame.f_back\n",
    "        return frame\n",
    "\n",
    "    def caller_location(self):\n",
    "        \"\"\"Return the location (code name, lineno) of the caller.\"\"\"\n",
    "        frame = self.caller_frame()\n",
    "        if frame.f_code.co_name in globals():\n",
    "            return frame.f_code.co_name, frame.f_lineno\n",
    "        else:\n",
    "            return frame.f_code.co_name, frame.f_lineno"
   ]
  },
  {
   "cell_type": "markdown",
   "metadata": {
    "slideshow": {
     "slide_type": "subslide"
    }
   },
   "source": [
    "`set()` is invoked when a variable is set, as in\n",
    "\n",
    "```python\n",
    "pi = _data.set('pi', 3.1415)\n",
    "```\n",
    "\n",
    "By default, we simply log the access."
   ]
  },
  {
   "cell_type": "code",
   "execution_count": 53,
   "metadata": {
    "slideshow": {
     "slide_type": "subslide"
    }
   },
   "outputs": [],
   "source": [
    "class DataTracker(DataTracker):\n",
    "    def set(self, name, value, loads=None):\n",
    "        \"\"\"Track setting NAME to VALUE.\"\"\"\n",
    "        if self.log:\n",
    "            code_name, lineno = self.caller_location()\n",
    "            print(f\"{code_name}:{lineno}: setting {name}\")\n",
    "\n",
    "        return value"
   ]
  },
  {
   "cell_type": "markdown",
   "metadata": {
    "slideshow": {
     "slide_type": "fragment"
    }
   },
   "source": [
    "`get()` is invoked when a variable is retrieved, as in\n",
    "\n",
    "```python\n",
    "print(_data.get('pi', pi))\n",
    "```\n",
    "By default, we simply log the access."
   ]
  },
  {
   "cell_type": "code",
   "execution_count": 54,
   "metadata": {
    "slideshow": {
     "slide_type": "subslide"
    }
   },
   "outputs": [],
   "source": [
    "class DataTracker(DataTracker):\n",
    "    def get(self, name, value):\n",
    "        \"\"\"Track getting VALUE from NAME.\"\"\"\n",
    "\n",
    "        if self.log:\n",
    "            code_name, lineno = self.caller_location()\n",
    "            print(f\"{code_name}:{lineno}: getting {name}\")\n",
    "\n",
    "        return value"
   ]
  },
  {
   "cell_type": "code",
   "execution_count": 55,
   "metadata": {
    "slideshow": {
     "slide_type": "fragment"
    }
   },
   "outputs": [],
   "source": [
    "class DataTracker(DataTracker):\n",
    "    def __repr__(self):\n",
    "        return super().__repr__()"
   ]
  },
  {
   "cell_type": "markdown",
   "metadata": {
    "slideshow": {
     "slide_type": "fragment"
    }
   },
   "source": [
    "Here's an example of a logging `DataTracker`:"
   ]
  },
  {
   "cell_type": "code",
   "execution_count": 56,
   "metadata": {
    "slideshow": {
     "slide_type": "subslide"
    }
   },
   "outputs": [
    {
     "name": "stdout",
     "output_type": "stream",
     "text": [
      "<module>:2: setting x\n"
     ]
    }
   ],
   "source": [
    "_test_data = DataTracker(log=True)\n",
    "x = _test_data.set('x', 1)"
   ]
  },
  {
   "cell_type": "code",
   "execution_count": 57,
   "metadata": {
    "slideshow": {
     "slide_type": "fragment"
    }
   },
   "outputs": [
    {
     "name": "stdout",
     "output_type": "stream",
     "text": [
      "<module>:1: getting x\n"
     ]
    },
    {
     "data": {
      "text/plain": [
       "1"
      ]
     },
     "execution_count": 57,
     "metadata": {},
     "output_type": "execute_result"
    }
   ],
   "source": [
    "_test_data.get('x', x)"
   ]
  },
  {
   "cell_type": "markdown",
   "metadata": {
    "slideshow": {
     "slide_type": "slide"
    }
   },
   "source": [
    "## Instrumenting Source Code\n",
    "\n",
    "How do we transform source code such that read and write accesses to variables would be automatically rewritten?  To this end, we inspect the internal representation of source code, namely the _abstract syntax trees_ (ASTs). An AST represents the code as a tree, with specific node types for each syntactical element."
   ]
  },
  {
   "cell_type": "code",
   "execution_count": 58,
   "metadata": {
    "slideshow": {
     "slide_type": "skip"
    }
   },
   "outputs": [],
   "source": [
    "import ast\n",
    "import astor"
   ]
  },
  {
   "cell_type": "markdown",
   "metadata": {
    "slideshow": {
     "slide_type": "fragment"
    }
   },
   "source": [
    "Here is the tree representation for our `middle()` function. It starts with a `FunctionDef` node at the top (with the name `\"middle\"` and the three arguments `x`, `y`, `z` as children), followed by a subtree for each of the `If` statements, each of which contains a branch for when their condition evaluates to`True` and a branch for when their condition evaluates to `False`."
   ]
  },
  {
   "cell_type": "code",
   "execution_count": 59,
   "metadata": {
    "slideshow": {
     "slide_type": "skip"
    }
   },
   "outputs": [],
   "source": [
    "from bookutils import rich_output"
   ]
  },
  {
   "cell_type": "code",
   "execution_count": 60,
   "metadata": {
    "slideshow": {
     "slide_type": "subslide"
    }
   },
   "outputs": [],
   "source": [
    "if rich_output():\n",
    "    from showast import show_ast\n",
    "else:\n",
    "    def show_ast(tree):\n",
    "        ast.dump(tree)"
   ]
  },
  {
   "cell_type": "code",
   "execution_count": 61,
   "metadata": {
    "slideshow": {
     "slide_type": "fragment"
    }
   },
   "outputs": [
    {
     "data": {
      "image/svg+xml": [
       "<svg height=\"476pt\" viewBox=\"0.00 0.00 1862.00 476.00\" width=\"1862pt\" xmlns=\"http://www.w3.org/2000/svg\" xmlns:xlink=\"http://www.w3.org/1999/xlink\">\n",
       "<g class=\"graph\" id=\"graph0\" transform=\"scale(1 1) rotate(0) translate(4 472)\">\n",
       "<title>%3</title>\n",
       "<polygon fill=\"#ffffff\" points=\"-4,4 -4,-472 1858,-472 1858,4 -4,4\" stroke=\"transparent\"/>\n",
       "<!-- 0 -->\n",
       "<g class=\"node\" id=\"node1\">\n",
       "<title>0</title>\n",
       "<text fill=\"#004080\" font-family=\"Courier,monospace\" font-size=\"14.00\" font-weight=\"bold\" text-anchor=\"start\" x=\"196.5\" y=\"-447.3\">FunctionDef</text>\n",
       "</g>\n",
       "<!-- 1 -->\n",
       "<g class=\"node\" id=\"node2\">\n",
       "<title>1</title>\n",
       "<text fill=\"#008040\" font-family=\"Courier,monospace\" font-size=\"14.00\" text-anchor=\"middle\" x=\"65\" y=\"-374.3\">&quot;middle&quot;</text>\n",
       "</g>\n",
       "<!-- 0&#45;&#45;1 -->\n",
       "<g class=\"edge\" id=\"edge1\">\n",
       "<title>0--1</title>\n",
       "<path d=\"M247,-432C247,-432 173.6167,-414.0594 116,-396 113.1329,-395.1013 110.1857,-394.1461 107.2233,-393.1625\" fill=\"none\" stroke=\"#000000\"/>\n",
       "</g>\n",
       "<!-- 2 -->\n",
       "<g class=\"node\" id=\"node3\">\n",
       "<title>2</title>\n",
       "<text fill=\"#004080\" font-family=\"Courier,monospace\" font-size=\"14.00\" font-weight=\"bold\" text-anchor=\"start\" x=\"133\" y=\"-375.3\">arguments</text>\n",
       "</g>\n",
       "<!-- 0&#45;&#45;2 -->\n",
       "<g class=\"edge\" id=\"edge2\">\n",
       "<title>0--2</title>\n",
       "<path d=\"M247,-432C247,-432 218.7783,-411.9478 196.7301,-396.2819\" fill=\"none\" stroke=\"#000000\"/>\n",
       "</g>\n",
       "<!-- 9 -->\n",
       "<g class=\"node\" id=\"node10\">\n",
       "<title>9</title>\n",
       "<text fill=\"#004080\" font-family=\"Courier,monospace\" font-size=\"14.00\" font-weight=\"bold\" text-anchor=\"start\" x=\"464.5\" y=\"-375.3\">If</text>\n",
       "</g>\n",
       "<!-- 0&#45;&#45;9 -->\n",
       "<g class=\"edge\" id=\"edge9\">\n",
       "<title>0--9</title>\n",
       "<path d=\"M247,-432C247,-432 385.63,-398.876 445.7391,-384.5137\" fill=\"none\" stroke=\"#000000\"/>\n",
       "</g>\n",
       "<!-- 70 -->\n",
       "<g class=\"node\" id=\"node71\">\n",
       "<title>70</title>\n",
       "<text fill=\"#004080\" font-family=\"Courier,monospace\" font-size=\"14.00\" font-weight=\"bold\" text-anchor=\"start\" x=\"1129.5\" y=\"-375.3\">Return</text>\n",
       "</g>\n",
       "<!-- 0&#45;&#45;70 -->\n",
       "<g class=\"edge\" id=\"edge70\">\n",
       "<title>0--70</title>\n",
       "<path d=\"M247,-432C247,-432 957.0073,-389.7749 1121.3352,-380.0021\" fill=\"none\" stroke=\"#000000\"/>\n",
       "</g>\n",
       "<!-- 3 -->\n",
       "<g class=\"node\" id=\"node4\">\n",
       "<title>3</title>\n",
       "<text fill=\"#004080\" font-family=\"Courier,monospace\" font-size=\"14.00\" font-weight=\"bold\" text-anchor=\"start\" x=\"14\" y=\"-303.3\">arg</text>\n",
       "</g>\n",
       "<!-- 2&#45;&#45;3 -->\n",
       "<g class=\"edge\" id=\"edge3\">\n",
       "<title>2--3</title>\n",
       "<path d=\"M157,-360C157,-360 103.9448,-342.025 63,-324 60.186,-322.7612 57.2759,-321.4165 54.3857,-320.0389\" fill=\"none\" stroke=\"#000000\"/>\n",
       "</g>\n",
       "<!-- 5 -->\n",
       "<g class=\"node\" id=\"node6\">\n",
       "<title>5</title>\n",
       "<text fill=\"#004080\" font-family=\"Courier,monospace\" font-size=\"14.00\" font-weight=\"bold\" text-anchor=\"start\" x=\"86\" y=\"-303.3\">arg</text>\n",
       "</g>\n",
       "<!-- 2&#45;&#45;5 -->\n",
       "<g class=\"edge\" id=\"edge5\">\n",
       "<title>2--5</title>\n",
       "<path d=\"M157,-360C157,-360 135.4624,-339.9478 118.6362,-324.2819\" fill=\"none\" stroke=\"#000000\"/>\n",
       "</g>\n",
       "<!-- 7 -->\n",
       "<g class=\"node\" id=\"node8\">\n",
       "<title>7</title>\n",
       "<text fill=\"#004080\" font-family=\"Courier,monospace\" font-size=\"14.00\" font-weight=\"bold\" text-anchor=\"start\" x=\"158\" y=\"-303.3\">arg</text>\n",
       "</g>\n",
       "<!-- 2&#45;&#45;7 -->\n",
       "<g class=\"edge\" id=\"edge7\">\n",
       "<title>2--7</title>\n",
       "<path d=\"M157,-360C157,-360 162.1987,-339.9478 166.2602,-324.2819\" fill=\"none\" stroke=\"#000000\"/>\n",
       "</g>\n",
       "<!-- 4 -->\n",
       "<g class=\"node\" id=\"node5\">\n",
       "<title>4</title>\n",
       "<text fill=\"#008040\" font-family=\"Courier,monospace\" font-size=\"14.00\" text-anchor=\"middle\" x=\"27\" y=\"-230.3\">&quot;x&quot;</text>\n",
       "</g>\n",
       "<!-- 3&#45;&#45;4 -->\n",
       "<g class=\"edge\" id=\"edge4\">\n",
       "<title>3--4</title>\n",
       "<path d=\"M27,-287.8314C27,-277 27,-263.2876 27,-252.4133\" fill=\"none\" stroke=\"#000000\"/>\n",
       "</g>\n",
       "<!-- 6 -->\n",
       "<g class=\"node\" id=\"node7\">\n",
       "<title>6</title>\n",
       "<text fill=\"#008040\" font-family=\"Courier,monospace\" font-size=\"14.00\" text-anchor=\"middle\" x=\"99\" y=\"-230.3\">&quot;y&quot;</text>\n",
       "</g>\n",
       "<!-- 5&#45;&#45;6 -->\n",
       "<g class=\"edge\" id=\"edge6\">\n",
       "<title>5--6</title>\n",
       "<path d=\"M99,-287.8314C99,-277 99,-263.2876 99,-252.4133\" fill=\"none\" stroke=\"#000000\"/>\n",
       "</g>\n",
       "<!-- 8 -->\n",
       "<g class=\"node\" id=\"node9\">\n",
       "<title>8</title>\n",
       "<text fill=\"#008040\" font-family=\"Courier,monospace\" font-size=\"14.00\" text-anchor=\"middle\" x=\"171\" y=\"-230.3\">&quot;z&quot;</text>\n",
       "</g>\n",
       "<!-- 7&#45;&#45;8 -->\n",
       "<g class=\"edge\" id=\"edge8\">\n",
       "<title>7--8</title>\n",
       "<path d=\"M171,-287.8314C171,-277 171,-263.2876 171,-252.4133\" fill=\"none\" stroke=\"#000000\"/>\n",
       "</g>\n",
       "<!-- 10 -->\n",
       "<g class=\"node\" id=\"node11\">\n",
       "<title>10</title>\n",
       "<text fill=\"#004080\" font-family=\"Courier,monospace\" font-size=\"14.00\" font-weight=\"bold\" text-anchor=\"start\" x=\"321.5\" y=\"-303.3\">Compare</text>\n",
       "</g>\n",
       "<!-- 9&#45;&#45;10 -->\n",
       "<g class=\"edge\" id=\"edge10\">\n",
       "<title>9--10</title>\n",
       "<path d=\"M490,-360C490,-360 429.7808,-336.6055 388.6154,-320.6132\" fill=\"none\" stroke=\"#000000\"/>\n",
       "</g>\n",
       "<!-- 18 -->\n",
       "<g class=\"node\" id=\"node19\">\n",
       "<title>18</title>\n",
       "<text fill=\"#004080\" font-family=\"Courier,monospace\" font-size=\"14.00\" font-weight=\"bold\" text-anchor=\"start\" x=\"594.5\" y=\"-303.3\">If</text>\n",
       "</g>\n",
       "<!-- 9&#45;&#45;18 -->\n",
       "<g class=\"edge\" id=\"edge18\">\n",
       "<title>9--18</title>\n",
       "<path d=\"M490,-360C490,-360 542.5036,-334.9098 575.9337,-318.9343\" fill=\"none\" stroke=\"#000000\"/>\n",
       "</g>\n",
       "<!-- 44 -->\n",
       "<g class=\"node\" id=\"node45\">\n",
       "<title>44</title>\n",
       "<text fill=\"#004080\" font-family=\"Courier,monospace\" font-size=\"14.00\" font-weight=\"bold\" text-anchor=\"start\" x=\"1314.5\" y=\"-303.3\">If</text>\n",
       "</g>\n",
       "<!-- 9&#45;&#45;44 -->\n",
       "<g class=\"edge\" id=\"edge44\">\n",
       "<title>9--44</title>\n",
       "<path d=\"M490,-360C490,-360 1152.1961,-317.0725 1295.7582,-307.766\" fill=\"none\" stroke=\"#000000\"/>\n",
       "</g>\n",
       "<!-- 11 -->\n",
       "<g class=\"node\" id=\"node12\">\n",
       "<title>11</title>\n",
       "<text fill=\"#004080\" font-family=\"Courier,monospace\" font-size=\"14.00\" font-weight=\"bold\" text-anchor=\"start\" x=\"226\" y=\"-231.3\">Name</text>\n",
       "</g>\n",
       "<!-- 10&#45;&#45;11 -->\n",
       "<g class=\"edge\" id=\"edge11\">\n",
       "<title>10--11</title>\n",
       "<path d=\"M345,-288C345,-288 300.2843,-264.327 270.0663,-248.3292\" fill=\"none\" stroke=\"#000000\"/>\n",
       "</g>\n",
       "<!-- 14 -->\n",
       "<g class=\"node\" id=\"node15\">\n",
       "<title>14</title>\n",
       "<text fill=\"#008040\" font-family=\"Courier,monospace\" font-size=\"14.00\" text-anchor=\"middle\" x=\"315\" y=\"-230.3\">Lt</text>\n",
       "</g>\n",
       "<!-- 10&#45;&#45;14 -->\n",
       "<g class=\"edge\" id=\"edge14\">\n",
       "<title>10--14</title>\n",
       "<path d=\"M345,-288C345,-288 333.8599,-267.9478 325.1566,-252.2819\" fill=\"none\" stroke=\"#000000\"/>\n",
       "</g>\n",
       "<!-- 15 -->\n",
       "<g class=\"node\" id=\"node16\">\n",
       "<title>15</title>\n",
       "<text fill=\"#004080\" font-family=\"Courier,monospace\" font-size=\"14.00\" font-weight=\"bold\" text-anchor=\"start\" x=\"370\" y=\"-231.3\">Name</text>\n",
       "</g>\n",
       "<!-- 10&#45;&#45;15 -->\n",
       "<g class=\"edge\" id=\"edge15\">\n",
       "<title>10--15</title>\n",
       "<path d=\"M345,-288C345,-288 360.5962,-267.9478 372.7807,-252.2819\" fill=\"none\" stroke=\"#000000\"/>\n",
       "</g>\n",
       "<!-- 12 -->\n",
       "<g class=\"node\" id=\"node13\">\n",
       "<title>12</title>\n",
       "<text fill=\"#008040\" font-family=\"Courier,monospace\" font-size=\"14.00\" text-anchor=\"middle\" x=\"171\" y=\"-158.3\">&quot;y&quot;</text>\n",
       "</g>\n",
       "<!-- 11&#45;&#45;12 -->\n",
       "<g class=\"edge\" id=\"edge12\">\n",
       "<title>11--12</title>\n",
       "<path d=\"M235,-216C235,-216 211.2344,-195.9478 192.6675,-180.2819\" fill=\"none\" stroke=\"#000000\"/>\n",
       "</g>\n",
       "<!-- 13 -->\n",
       "<g class=\"node\" id=\"node14\">\n",
       "<title>13</title>\n",
       "<text fill=\"#008040\" font-family=\"Courier,monospace\" font-size=\"14.00\" text-anchor=\"middle\" x=\"243\" y=\"-158.3\">Load</text>\n",
       "</g>\n",
       "<!-- 11&#45;&#45;13 -->\n",
       "<g class=\"edge\" id=\"edge13\">\n",
       "<title>11--13</title>\n",
       "<path d=\"M235,-216C235,-216 237.9707,-195.9478 240.2916,-180.2819\" fill=\"none\" stroke=\"#000000\"/>\n",
       "</g>\n",
       "<!-- 16 -->\n",
       "<g class=\"node\" id=\"node17\">\n",
       "<title>16</title>\n",
       "<text fill=\"#008040\" font-family=\"Courier,monospace\" font-size=\"14.00\" text-anchor=\"middle\" x=\"315\" y=\"-158.3\">&quot;z&quot;</text>\n",
       "</g>\n",
       "<!-- 15&#45;&#45;16 -->\n",
       "<g class=\"edge\" id=\"edge16\">\n",
       "<title>15--16</title>\n",
       "<path d=\"M379,-216C379,-216 355.2344,-195.9478 336.6675,-180.2819\" fill=\"none\" stroke=\"#000000\"/>\n",
       "</g>\n",
       "<!-- 17 -->\n",
       "<g class=\"node\" id=\"node18\">\n",
       "<title>17</title>\n",
       "<text fill=\"#008040\" font-family=\"Courier,monospace\" font-size=\"14.00\" text-anchor=\"middle\" x=\"387\" y=\"-158.3\">Load</text>\n",
       "</g>\n",
       "<!-- 15&#45;&#45;17 -->\n",
       "<g class=\"edge\" id=\"edge17\">\n",
       "<title>15--17</title>\n",
       "<path d=\"M379,-216C379,-216 381.9707,-195.9478 384.2916,-180.2819\" fill=\"none\" stroke=\"#000000\"/>\n",
       "</g>\n",
       "<!-- 19 -->\n",
       "<g class=\"node\" id=\"node20\">\n",
       "<title>19</title>\n",
       "<text fill=\"#004080\" font-family=\"Courier,monospace\" font-size=\"14.00\" font-weight=\"bold\" text-anchor=\"start\" x=\"515.5\" y=\"-231.3\">Compare</text>\n",
       "</g>\n",
       "<!-- 18&#45;&#45;19 -->\n",
       "<g class=\"edge\" id=\"edge19\">\n",
       "<title>18--19</title>\n",
       "<path d=\"M613,-288C613,-288 587.749,-267.9478 568.0217,-252.2819\" fill=\"none\" stroke=\"#000000\"/>\n",
       "</g>\n",
       "<!-- 27 -->\n",
       "<g class=\"node\" id=\"node28\">\n",
       "<title>27</title>\n",
       "<text fill=\"#004080\" font-family=\"Courier,monospace\" font-size=\"14.00\" font-weight=\"bold\" text-anchor=\"start\" x=\"635.5\" y=\"-231.3\">Return</text>\n",
       "</g>\n",
       "<!-- 18&#45;&#45;27 -->\n",
       "<g class=\"edge\" id=\"edge27\">\n",
       "<title>18--27</title>\n",
       "<path d=\"M613,-288C613,-288 630.8242,-267.9478 644.7494,-252.2819\" fill=\"none\" stroke=\"#000000\"/>\n",
       "</g>\n",
       "<!-- 31 -->\n",
       "<g class=\"node\" id=\"node32\">\n",
       "<title>31</title>\n",
       "<text fill=\"#004080\" font-family=\"Courier,monospace\" font-size=\"14.00\" font-weight=\"bold\" text-anchor=\"start\" x=\"882.5\" y=\"-231.3\">If</text>\n",
       "</g>\n",
       "<!-- 18&#45;&#45;31 -->\n",
       "<g class=\"edge\" id=\"edge31\">\n",
       "<title>18--31</title>\n",
       "<path d=\"M613,-288C613,-288 793.886,-252.8639 863.838,-239.2761\" fill=\"none\" stroke=\"#000000\"/>\n",
       "</g>\n",
       "<!-- 20 -->\n",
       "<g class=\"node\" id=\"node21\">\n",
       "<title>20</title>\n",
       "<text fill=\"#004080\" font-family=\"Courier,monospace\" font-size=\"14.00\" font-weight=\"bold\" text-anchor=\"start\" x=\"442\" y=\"-159.3\">Name</text>\n",
       "</g>\n",
       "<!-- 19&#45;&#45;20 -->\n",
       "<g class=\"edge\" id=\"edge20\">\n",
       "<title>19--20</title>\n",
       "<path d=\"M542,-216C542,-216 510.3836,-195.4303 486.1773,-179.6816\" fill=\"none\" stroke=\"#000000\"/>\n",
       "</g>\n",
       "<!-- 23 -->\n",
       "<g class=\"node\" id=\"node24\">\n",
       "<title>23</title>\n",
       "<text fill=\"#008040\" font-family=\"Courier,monospace\" font-size=\"14.00\" text-anchor=\"middle\" x=\"531\" y=\"-158.3\">Lt</text>\n",
       "</g>\n",
       "<!-- 19&#45;&#45;23 -->\n",
       "<g class=\"edge\" id=\"edge23\">\n",
       "<title>19--23</title>\n",
       "<path d=\"M542,-216C542,-216 537.9153,-195.9478 534.7241,-180.2819\" fill=\"none\" stroke=\"#000000\"/>\n",
       "</g>\n",
       "<!-- 24 -->\n",
       "<g class=\"node\" id=\"node25\">\n",
       "<title>24</title>\n",
       "<text fill=\"#004080\" font-family=\"Courier,monospace\" font-size=\"14.00\" font-weight=\"bold\" text-anchor=\"start\" x=\"586\" y=\"-159.3\">Name</text>\n",
       "</g>\n",
       "<!-- 19&#45;&#45;24 -->\n",
       "<g class=\"edge\" id=\"edge24\">\n",
       "<title>19--24</title>\n",
       "<path d=\"M542,-216C542,-216 564.6516,-195.9478 582.3482,-180.2819\" fill=\"none\" stroke=\"#000000\"/>\n",
       "</g>\n",
       "<!-- 21 -->\n",
       "<g class=\"node\" id=\"node22\">\n",
       "<title>21</title>\n",
       "<text fill=\"#008040\" font-family=\"Courier,monospace\" font-size=\"14.00\" text-anchor=\"middle\" x=\"387\" y=\"-86.3\">&quot;x&quot;</text>\n",
       "</g>\n",
       "<!-- 20&#45;&#45;21 -->\n",
       "<g class=\"edge\" id=\"edge21\">\n",
       "<title>20--21</title>\n",
       "<path d=\"M451,-144C451,-144 427.2344,-123.9478 408.6675,-108.2819\" fill=\"none\" stroke=\"#000000\"/>\n",
       "</g>\n",
       "<!-- 22 -->\n",
       "<g class=\"node\" id=\"node23\">\n",
       "<title>22</title>\n",
       "<text fill=\"#008040\" font-family=\"Courier,monospace\" font-size=\"14.00\" text-anchor=\"middle\" x=\"459\" y=\"-86.3\">Load</text>\n",
       "</g>\n",
       "<!-- 20&#45;&#45;22 -->\n",
       "<g class=\"edge\" id=\"edge22\">\n",
       "<title>20--22</title>\n",
       "<path d=\"M451,-144C451,-144 453.9707,-123.9478 456.2916,-108.2819\" fill=\"none\" stroke=\"#000000\"/>\n",
       "</g>\n",
       "<!-- 25 -->\n",
       "<g class=\"node\" id=\"node26\">\n",
       "<title>25</title>\n",
       "<text fill=\"#008040\" font-family=\"Courier,monospace\" font-size=\"14.00\" text-anchor=\"middle\" x=\"531\" y=\"-86.3\">&quot;y&quot;</text>\n",
       "</g>\n",
       "<!-- 24&#45;&#45;25 -->\n",
       "<g class=\"edge\" id=\"edge25\">\n",
       "<title>24--25</title>\n",
       "<path d=\"M595,-144C595,-144 571.2344,-123.9478 552.6675,-108.2819\" fill=\"none\" stroke=\"#000000\"/>\n",
       "</g>\n",
       "<!-- 26 -->\n",
       "<g class=\"node\" id=\"node27\">\n",
       "<title>26</title>\n",
       "<text fill=\"#008040\" font-family=\"Courier,monospace\" font-size=\"14.00\" text-anchor=\"middle\" x=\"603\" y=\"-86.3\">Load</text>\n",
       "</g>\n",
       "<!-- 24&#45;&#45;26 -->\n",
       "<g class=\"edge\" id=\"edge26\">\n",
       "<title>24--26</title>\n",
       "<path d=\"M595,-144C595,-144 597.9707,-123.9478 600.2916,-108.2819\" fill=\"none\" stroke=\"#000000\"/>\n",
       "</g>\n",
       "<!-- 28 -->\n",
       "<g class=\"node\" id=\"node29\">\n",
       "<title>28</title>\n",
       "<text fill=\"#004080\" font-family=\"Courier,monospace\" font-size=\"14.00\" font-weight=\"bold\" text-anchor=\"start\" x=\"658\" y=\"-159.3\">Name</text>\n",
       "</g>\n",
       "<!-- 27&#45;&#45;28 -->\n",
       "<g class=\"edge\" id=\"edge28\">\n",
       "<title>27--28</title>\n",
       "<path d=\"M664.5328,-215.8314C666.6389,-205 669.3052,-191.2876 671.4196,-180.4133\" fill=\"none\" stroke=\"#000000\"/>\n",
       "</g>\n",
       "<!-- 29 -->\n",
       "<g class=\"node\" id=\"node30\">\n",
       "<title>29</title>\n",
       "<text fill=\"#008040\" font-family=\"Courier,monospace\" font-size=\"14.00\" text-anchor=\"middle\" x=\"675\" y=\"-86.3\">&quot;y&quot;</text>\n",
       "</g>\n",
       "<!-- 28&#45;&#45;29 -->\n",
       "<g class=\"edge\" id=\"edge29\">\n",
       "<title>28--29</title>\n",
       "<path d=\"M683,-144C683,-144 680.0293,-123.9478 677.7084,-108.2819\" fill=\"none\" stroke=\"#000000\"/>\n",
       "</g>\n",
       "<!-- 30 -->\n",
       "<g class=\"node\" id=\"node31\">\n",
       "<title>30</title>\n",
       "<text fill=\"#008040\" font-family=\"Courier,monospace\" font-size=\"14.00\" text-anchor=\"middle\" x=\"747\" y=\"-86.3\">Load</text>\n",
       "</g>\n",
       "<!-- 28&#45;&#45;30 -->\n",
       "<g class=\"edge\" id=\"edge30\">\n",
       "<title>28--30</title>\n",
       "<path d=\"M683,-144C683,-144 706.7656,-123.9478 725.3325,-108.2819\" fill=\"none\" stroke=\"#000000\"/>\n",
       "</g>\n",
       "<!-- 32 -->\n",
       "<g class=\"node\" id=\"node33\">\n",
       "<title>32</title>\n",
       "<text fill=\"#004080\" font-family=\"Courier,monospace\" font-size=\"14.00\" font-weight=\"bold\" text-anchor=\"start\" x=\"861.5\" y=\"-159.3\">Compare</text>\n",
       "</g>\n",
       "<!-- 31&#45;&#45;32 -->\n",
       "<g class=\"edge\" id=\"edge32\">\n",
       "<title>31--32</title>\n",
       "<path d=\"M901,-216C901,-216 897.2866,-195.9478 894.3855,-180.2819\" fill=\"none\" stroke=\"#000000\"/>\n",
       "</g>\n",
       "<!-- 40 -->\n",
       "<g class=\"node\" id=\"node41\">\n",
       "<title>40</title>\n",
       "<text fill=\"#004080\" font-family=\"Courier,monospace\" font-size=\"14.00\" font-weight=\"bold\" text-anchor=\"start\" x=\"982.5\" y=\"-159.3\">Return</text>\n",
       "</g>\n",
       "<!-- 31&#45;&#45;40 -->\n",
       "<g class=\"edge\" id=\"edge40\">\n",
       "<title>31--40</title>\n",
       "<path d=\"M901,-216C901,-216 943.0585,-194.7742 974.4381,-178.9378\" fill=\"none\" stroke=\"#000000\"/>\n",
       "</g>\n",
       "<!-- 33 -->\n",
       "<g class=\"node\" id=\"node34\">\n",
       "<title>33</title>\n",
       "<text fill=\"#004080\" font-family=\"Courier,monospace\" font-size=\"14.00\" font-weight=\"bold\" text-anchor=\"start\" x=\"802\" y=\"-87.3\">Name</text>\n",
       "</g>\n",
       "<!-- 32&#45;&#45;33 -->\n",
       "<g class=\"edge\" id=\"edge33\">\n",
       "<title>32--33</title>\n",
       "<path d=\"M891,-144C891,-144 864.2637,-123.9478 843.3759,-108.2819\" fill=\"none\" stroke=\"#000000\"/>\n",
       "</g>\n",
       "<!-- 36 -->\n",
       "<g class=\"node\" id=\"node37\">\n",
       "<title>36</title>\n",
       "<text fill=\"#008040\" font-family=\"Courier,monospace\" font-size=\"14.00\" text-anchor=\"middle\" x=\"891\" y=\"-86.3\">Lt</text>\n",
       "</g>\n",
       "<!-- 32&#45;&#45;36 -->\n",
       "<g class=\"edge\" id=\"edge36\">\n",
       "<title>32--36</title>\n",
       "<path d=\"M891,-144C891,-144 891,-123.9478 891,-108.2819\" fill=\"none\" stroke=\"#000000\"/>\n",
       "</g>\n",
       "<!-- 37 -->\n",
       "<g class=\"node\" id=\"node38\">\n",
       "<title>37</title>\n",
       "<text fill=\"#004080\" font-family=\"Courier,monospace\" font-size=\"14.00\" font-weight=\"bold\" text-anchor=\"start\" x=\"946\" y=\"-87.3\">Name</text>\n",
       "</g>\n",
       "<!-- 32&#45;&#45;37 -->\n",
       "<g class=\"edge\" id=\"edge37\">\n",
       "<title>32--37</title>\n",
       "<path d=\"M891,-144C891,-144 917.7363,-123.9478 938.6241,-108.2819\" fill=\"none\" stroke=\"#000000\"/>\n",
       "</g>\n",
       "<!-- 34 -->\n",
       "<g class=\"node\" id=\"node35\">\n",
       "<title>34</title>\n",
       "<text fill=\"#008040\" font-family=\"Courier,monospace\" font-size=\"14.00\" text-anchor=\"middle\" x=\"747\" y=\"-14.3\">&quot;x&quot;</text>\n",
       "</g>\n",
       "<!-- 33&#45;&#45;34 -->\n",
       "<g class=\"edge\" id=\"edge34\">\n",
       "<title>33--34</title>\n",
       "<path d=\"M811,-72C811,-72 787.2344,-51.9478 768.6675,-36.2819\" fill=\"none\" stroke=\"#000000\"/>\n",
       "</g>\n",
       "<!-- 35 -->\n",
       "<g class=\"node\" id=\"node36\">\n",
       "<title>35</title>\n",
       "<text fill=\"#008040\" font-family=\"Courier,monospace\" font-size=\"14.00\" text-anchor=\"middle\" x=\"819\" y=\"-14.3\">Load</text>\n",
       "</g>\n",
       "<!-- 33&#45;&#45;35 -->\n",
       "<g class=\"edge\" id=\"edge35\">\n",
       "<title>33--35</title>\n",
       "<path d=\"M811,-72C811,-72 813.9707,-51.9478 816.2916,-36.2819\" fill=\"none\" stroke=\"#000000\"/>\n",
       "</g>\n",
       "<!-- 38 -->\n",
       "<g class=\"node\" id=\"node39\">\n",
       "<title>38</title>\n",
       "<text fill=\"#008040\" font-family=\"Courier,monospace\" font-size=\"14.00\" text-anchor=\"middle\" x=\"891\" y=\"-14.3\">&quot;z&quot;</text>\n",
       "</g>\n",
       "<!-- 37&#45;&#45;38 -->\n",
       "<g class=\"edge\" id=\"edge38\">\n",
       "<title>37--38</title>\n",
       "<path d=\"M955,-72C955,-72 931.2344,-51.9478 912.6675,-36.2819\" fill=\"none\" stroke=\"#000000\"/>\n",
       "</g>\n",
       "<!-- 39 -->\n",
       "<g class=\"node\" id=\"node40\">\n",
       "<title>39</title>\n",
       "<text fill=\"#008040\" font-family=\"Courier,monospace\" font-size=\"14.00\" text-anchor=\"middle\" x=\"963\" y=\"-14.3\">Load</text>\n",
       "</g>\n",
       "<!-- 37&#45;&#45;39 -->\n",
       "<g class=\"edge\" id=\"edge39\">\n",
       "<title>37--39</title>\n",
       "<path d=\"M955,-72C955,-72 957.9707,-51.9478 960.2916,-36.2819\" fill=\"none\" stroke=\"#000000\"/>\n",
       "</g>\n",
       "<!-- 41 -->\n",
       "<g class=\"node\" id=\"node42\">\n",
       "<title>41</title>\n",
       "<text fill=\"#004080\" font-family=\"Courier,monospace\" font-size=\"14.00\" font-weight=\"bold\" text-anchor=\"start\" x=\"1018\" y=\"-87.3\">Name</text>\n",
       "</g>\n",
       "<!-- 40&#45;&#45;41 -->\n",
       "<g class=\"edge\" id=\"edge41\">\n",
       "<title>40--41</title>\n",
       "<path d=\"M1014.8132,-143.8314C1018.875,-133 1024.0172,-119.2876 1028.095,-108.4133\" fill=\"none\" stroke=\"#000000\"/>\n",
       "</g>\n",
       "<!-- 42 -->\n",
       "<g class=\"node\" id=\"node43\">\n",
       "<title>42</title>\n",
       "<text fill=\"#008040\" font-family=\"Courier,monospace\" font-size=\"14.00\" text-anchor=\"middle\" x=\"1035\" y=\"-14.3\">&quot;y&quot;</text>\n",
       "</g>\n",
       "<!-- 41&#45;&#45;42 -->\n",
       "<g class=\"edge\" id=\"edge42\">\n",
       "<title>41--42</title>\n",
       "<path d=\"M1043,-72C1043,-72 1040.0293,-51.9478 1037.7084,-36.2819\" fill=\"none\" stroke=\"#000000\"/>\n",
       "</g>\n",
       "<!-- 43 -->\n",
       "<g class=\"node\" id=\"node44\">\n",
       "<title>43</title>\n",
       "<text fill=\"#008040\" font-family=\"Courier,monospace\" font-size=\"14.00\" text-anchor=\"middle\" x=\"1107\" y=\"-14.3\">Load</text>\n",
       "</g>\n",
       "<!-- 41&#45;&#45;43 -->\n",
       "<g class=\"edge\" id=\"edge43\">\n",
       "<title>41--43</title>\n",
       "<path d=\"M1043,-72C1043,-72 1066.7656,-51.9478 1085.3325,-36.2819\" fill=\"none\" stroke=\"#000000\"/>\n",
       "</g>\n",
       "<!-- 45 -->\n",
       "<g class=\"node\" id=\"node46\">\n",
       "<title>45</title>\n",
       "<text fill=\"#004080\" font-family=\"Courier,monospace\" font-size=\"14.00\" font-weight=\"bold\" text-anchor=\"start\" x=\"1235.5\" y=\"-231.3\">Compare</text>\n",
       "</g>\n",
       "<!-- 44&#45;&#45;45 -->\n",
       "<g class=\"edge\" id=\"edge45\">\n",
       "<title>44--45</title>\n",
       "<path d=\"M1332,-288C1332,-288 1307.1204,-267.9478 1287.6831,-252.2819\" fill=\"none\" stroke=\"#000000\"/>\n",
       "</g>\n",
       "<!-- 53 -->\n",
       "<g class=\"node\" id=\"node54\">\n",
       "<title>53</title>\n",
       "<text fill=\"#004080\" font-family=\"Courier,monospace\" font-size=\"14.00\" font-weight=\"bold\" text-anchor=\"start\" x=\"1355.5\" y=\"-231.3\">Return</text>\n",
       "</g>\n",
       "<!-- 44&#45;&#45;53 -->\n",
       "<g class=\"edge\" id=\"edge53\">\n",
       "<title>44--53</title>\n",
       "<path d=\"M1332,-288C1332,-288 1350.1956,-267.9478 1364.4108,-252.2819\" fill=\"none\" stroke=\"#000000\"/>\n",
       "</g>\n",
       "<!-- 57 -->\n",
       "<g class=\"node\" id=\"node58\">\n",
       "<title>57</title>\n",
       "<text fill=\"#004080\" font-family=\"Courier,monospace\" font-size=\"14.00\" font-weight=\"bold\" text-anchor=\"start\" x=\"1533.5\" y=\"-231.3\">If</text>\n",
       "</g>\n",
       "<!-- 44&#45;&#45;57 -->\n",
       "<g class=\"edge\" id=\"edge57\">\n",
       "<title>44--57</title>\n",
       "<path d=\"M1332,-288C1332,-288 1458.2584,-255.5335 1514.9761,-240.949\" fill=\"none\" stroke=\"#000000\"/>\n",
       "</g>\n",
       "<!-- 46 -->\n",
       "<g class=\"node\" id=\"node47\">\n",
       "<title>46</title>\n",
       "<text fill=\"#004080\" font-family=\"Courier,monospace\" font-size=\"14.00\" font-weight=\"bold\" text-anchor=\"start\" x=\"1162\" y=\"-159.3\">Name</text>\n",
       "</g>\n",
       "<!-- 45&#45;&#45;46 -->\n",
       "<g class=\"edge\" id=\"edge46\">\n",
       "<title>45--46</title>\n",
       "<path d=\"M1262,-216C1262,-216 1230.3836,-195.4303 1206.1773,-179.6816\" fill=\"none\" stroke=\"#000000\"/>\n",
       "</g>\n",
       "<!-- 49 -->\n",
       "<g class=\"node\" id=\"node50\">\n",
       "<title>49</title>\n",
       "<text fill=\"#008040\" font-family=\"Courier,monospace\" font-size=\"14.00\" text-anchor=\"middle\" x=\"1251\" y=\"-158.3\">Gt</text>\n",
       "</g>\n",
       "<!-- 45&#45;&#45;49 -->\n",
       "<g class=\"edge\" id=\"edge49\">\n",
       "<title>45--49</title>\n",
       "<path d=\"M1262,-216C1262,-216 1257.9153,-195.9478 1254.7241,-180.2819\" fill=\"none\" stroke=\"#000000\"/>\n",
       "</g>\n",
       "<!-- 50 -->\n",
       "<g class=\"node\" id=\"node51\">\n",
       "<title>50</title>\n",
       "<text fill=\"#004080\" font-family=\"Courier,monospace\" font-size=\"14.00\" font-weight=\"bold\" text-anchor=\"start\" x=\"1306\" y=\"-159.3\">Name</text>\n",
       "</g>\n",
       "<!-- 45&#45;&#45;50 -->\n",
       "<g class=\"edge\" id=\"edge50\">\n",
       "<title>45--50</title>\n",
       "<path d=\"M1262,-216C1262,-216 1284.6516,-195.9478 1302.3482,-180.2819\" fill=\"none\" stroke=\"#000000\"/>\n",
       "</g>\n",
       "<!-- 47 -->\n",
       "<g class=\"node\" id=\"node48\">\n",
       "<title>47</title>\n",
       "<text fill=\"#008040\" font-family=\"Courier,monospace\" font-size=\"14.00\" text-anchor=\"middle\" x=\"1107\" y=\"-86.3\">&quot;x&quot;</text>\n",
       "</g>\n",
       "<!-- 46&#45;&#45;47 -->\n",
       "<g class=\"edge\" id=\"edge47\">\n",
       "<title>46--47</title>\n",
       "<path d=\"M1171,-144C1171,-144 1147.2344,-123.9478 1128.6675,-108.2819\" fill=\"none\" stroke=\"#000000\"/>\n",
       "</g>\n",
       "<!-- 48 -->\n",
       "<g class=\"node\" id=\"node49\">\n",
       "<title>48</title>\n",
       "<text fill=\"#008040\" font-family=\"Courier,monospace\" font-size=\"14.00\" text-anchor=\"middle\" x=\"1179\" y=\"-86.3\">Load</text>\n",
       "</g>\n",
       "<!-- 46&#45;&#45;48 -->\n",
       "<g class=\"edge\" id=\"edge48\">\n",
       "<title>46--48</title>\n",
       "<path d=\"M1171,-144C1171,-144 1173.9707,-123.9478 1176.2916,-108.2819\" fill=\"none\" stroke=\"#000000\"/>\n",
       "</g>\n",
       "<!-- 51 -->\n",
       "<g class=\"node\" id=\"node52\">\n",
       "<title>51</title>\n",
       "<text fill=\"#008040\" font-family=\"Courier,monospace\" font-size=\"14.00\" text-anchor=\"middle\" x=\"1251\" y=\"-86.3\">&quot;y&quot;</text>\n",
       "</g>\n",
       "<!-- 50&#45;&#45;51 -->\n",
       "<g class=\"edge\" id=\"edge51\">\n",
       "<title>50--51</title>\n",
       "<path d=\"M1315,-144C1315,-144 1291.2344,-123.9478 1272.6675,-108.2819\" fill=\"none\" stroke=\"#000000\"/>\n",
       "</g>\n",
       "<!-- 52 -->\n",
       "<g class=\"node\" id=\"node53\">\n",
       "<title>52</title>\n",
       "<text fill=\"#008040\" font-family=\"Courier,monospace\" font-size=\"14.00\" text-anchor=\"middle\" x=\"1323\" y=\"-86.3\">Load</text>\n",
       "</g>\n",
       "<!-- 50&#45;&#45;52 -->\n",
       "<g class=\"edge\" id=\"edge52\">\n",
       "<title>50--52</title>\n",
       "<path d=\"M1315,-144C1315,-144 1317.9707,-123.9478 1320.2916,-108.2819\" fill=\"none\" stroke=\"#000000\"/>\n",
       "</g>\n",
       "<!-- 54 -->\n",
       "<g class=\"node\" id=\"node55\">\n",
       "<title>54</title>\n",
       "<text fill=\"#004080\" font-family=\"Courier,monospace\" font-size=\"14.00\" font-weight=\"bold\" text-anchor=\"start\" x=\"1378\" y=\"-159.3\">Name</text>\n",
       "</g>\n",
       "<!-- 53&#45;&#45;54 -->\n",
       "<g class=\"edge\" id=\"edge54\">\n",
       "<title>53--54</title>\n",
       "<path d=\"M1384.5328,-215.8314C1386.6389,-205 1389.3052,-191.2876 1391.4196,-180.4133\" fill=\"none\" stroke=\"#000000\"/>\n",
       "</g>\n",
       "<!-- 55 -->\n",
       "<g class=\"node\" id=\"node56\">\n",
       "<title>55</title>\n",
       "<text fill=\"#008040\" font-family=\"Courier,monospace\" font-size=\"14.00\" text-anchor=\"middle\" x=\"1395\" y=\"-86.3\">&quot;y&quot;</text>\n",
       "</g>\n",
       "<!-- 54&#45;&#45;55 -->\n",
       "<g class=\"edge\" id=\"edge55\">\n",
       "<title>54--55</title>\n",
       "<path d=\"M1403,-144C1403,-144 1400.0293,-123.9478 1397.7084,-108.2819\" fill=\"none\" stroke=\"#000000\"/>\n",
       "</g>\n",
       "<!-- 56 -->\n",
       "<g class=\"node\" id=\"node57\">\n",
       "<title>56</title>\n",
       "<text fill=\"#008040\" font-family=\"Courier,monospace\" font-size=\"14.00\" text-anchor=\"middle\" x=\"1467\" y=\"-86.3\">Load</text>\n",
       "</g>\n",
       "<!-- 54&#45;&#45;56 -->\n",
       "<g class=\"edge\" id=\"edge56\">\n",
       "<title>54--56</title>\n",
       "<path d=\"M1403,-144C1403,-144 1426.7656,-123.9478 1445.3325,-108.2819\" fill=\"none\" stroke=\"#000000\"/>\n",
       "</g>\n",
       "<!-- 58 -->\n",
       "<g class=\"node\" id=\"node59\">\n",
       "<title>58</title>\n",
       "<text fill=\"#004080\" font-family=\"Courier,monospace\" font-size=\"14.00\" font-weight=\"bold\" text-anchor=\"start\" x=\"1547.5\" y=\"-159.3\">Compare</text>\n",
       "</g>\n",
       "<!-- 57&#45;&#45;58 -->\n",
       "<g class=\"edge\" id=\"edge58\">\n",
       "<title>57--58</title>\n",
       "<path d=\"M1561,-216C1561,-216 1566.9414,-195.9478 1571.5831,-180.2819\" fill=\"none\" stroke=\"#000000\"/>\n",
       "</g>\n",
       "<!-- 66 -->\n",
       "<g class=\"node\" id=\"node67\">\n",
       "<title>66</title>\n",
       "<text fill=\"#004080\" font-family=\"Courier,monospace\" font-size=\"14.00\" font-weight=\"bold\" text-anchor=\"start\" x=\"1685.5\" y=\"-159.3\">Return</text>\n",
       "</g>\n",
       "<!-- 57&#45;&#45;66 -->\n",
       "<g class=\"edge\" id=\"edge66\">\n",
       "<title>57--66</title>\n",
       "<path d=\"M1561,-216C1561,-216 1633.1121,-190.0396 1677.3371,-174.1187\" fill=\"none\" stroke=\"#000000\"/>\n",
       "</g>\n",
       "<!-- 59 -->\n",
       "<g class=\"node\" id=\"node60\">\n",
       "<title>59</title>\n",
       "<text fill=\"#004080\" font-family=\"Courier,monospace\" font-size=\"14.00\" font-weight=\"bold\" text-anchor=\"start\" x=\"1522\" y=\"-87.3\">Name</text>\n",
       "</g>\n",
       "<!-- 58&#45;&#45;59 -->\n",
       "<g class=\"edge\" id=\"edge59\">\n",
       "<title>58--59</title>\n",
       "<path d=\"M1583,-144C1583,-144 1566.6611,-123.9478 1553.8964,-108.2819\" fill=\"none\" stroke=\"#000000\"/>\n",
       "</g>\n",
       "<!-- 62 -->\n",
       "<g class=\"node\" id=\"node63\">\n",
       "<title>62</title>\n",
       "<text fill=\"#008040\" font-family=\"Courier,monospace\" font-size=\"14.00\" text-anchor=\"middle\" x=\"1611\" y=\"-86.3\">Gt</text>\n",
       "</g>\n",
       "<!-- 58&#45;&#45;62 -->\n",
       "<g class=\"edge\" id=\"edge62\">\n",
       "<title>58--62</title>\n",
       "<path d=\"M1583,-144C1583,-144 1593.3975,-123.9478 1601.5205,-108.2819\" fill=\"none\" stroke=\"#000000\"/>\n",
       "</g>\n",
       "<!-- 63 -->\n",
       "<g class=\"node\" id=\"node64\">\n",
       "<title>63</title>\n",
       "<text fill=\"#004080\" font-family=\"Courier,monospace\" font-size=\"14.00\" font-weight=\"bold\" text-anchor=\"start\" x=\"1666\" y=\"-87.3\">Name</text>\n",
       "</g>\n",
       "<!-- 58&#45;&#45;63 -->\n",
       "<g class=\"edge\" id=\"edge63\">\n",
       "<title>58--63</title>\n",
       "<path d=\"M1583,-144C1583,-144 1626.3231,-120.6055 1655.9386,-104.6132\" fill=\"none\" stroke=\"#000000\"/>\n",
       "</g>\n",
       "<!-- 60 -->\n",
       "<g class=\"node\" id=\"node61\">\n",
       "<title>60</title>\n",
       "<text fill=\"#008040\" font-family=\"Courier,monospace\" font-size=\"14.00\" text-anchor=\"middle\" x=\"1467\" y=\"-14.3\">&quot;x&quot;</text>\n",
       "</g>\n",
       "<!-- 59&#45;&#45;60 -->\n",
       "<g class=\"edge\" id=\"edge60\">\n",
       "<title>59--60</title>\n",
       "<path d=\"M1531,-72C1531,-72 1507.2344,-51.9478 1488.6675,-36.2819\" fill=\"none\" stroke=\"#000000\"/>\n",
       "</g>\n",
       "<!-- 61 -->\n",
       "<g class=\"node\" id=\"node62\">\n",
       "<title>61</title>\n",
       "<text fill=\"#008040\" font-family=\"Courier,monospace\" font-size=\"14.00\" text-anchor=\"middle\" x=\"1539\" y=\"-14.3\">Load</text>\n",
       "</g>\n",
       "<!-- 59&#45;&#45;61 -->\n",
       "<g class=\"edge\" id=\"edge61\">\n",
       "<title>59--61</title>\n",
       "<path d=\"M1531,-72C1531,-72 1533.9707,-51.9478 1536.2916,-36.2819\" fill=\"none\" stroke=\"#000000\"/>\n",
       "</g>\n",
       "<!-- 64 -->\n",
       "<g class=\"node\" id=\"node65\">\n",
       "<title>64</title>\n",
       "<text fill=\"#008040\" font-family=\"Courier,monospace\" font-size=\"14.00\" text-anchor=\"middle\" x=\"1611\" y=\"-14.3\">&quot;z&quot;</text>\n",
       "</g>\n",
       "<!-- 63&#45;&#45;64 -->\n",
       "<g class=\"edge\" id=\"edge64\">\n",
       "<title>63--64</title>\n",
       "<path d=\"M1675,-72C1675,-72 1651.2344,-51.9478 1632.6675,-36.2819\" fill=\"none\" stroke=\"#000000\"/>\n",
       "</g>\n",
       "<!-- 65 -->\n",
       "<g class=\"node\" id=\"node66\">\n",
       "<title>65</title>\n",
       "<text fill=\"#008040\" font-family=\"Courier,monospace\" font-size=\"14.00\" text-anchor=\"middle\" x=\"1683\" y=\"-14.3\">Load</text>\n",
       "</g>\n",
       "<!-- 63&#45;&#45;65 -->\n",
       "<g class=\"edge\" id=\"edge65\">\n",
       "<title>63--65</title>\n",
       "<path d=\"M1675,-72C1675,-72 1677.9707,-51.9478 1680.2916,-36.2819\" fill=\"none\" stroke=\"#000000\"/>\n",
       "</g>\n",
       "<!-- 67 -->\n",
       "<g class=\"node\" id=\"node68\">\n",
       "<title>67</title>\n",
       "<text fill=\"#004080\" font-family=\"Courier,monospace\" font-size=\"14.00\" font-weight=\"bold\" text-anchor=\"start\" x=\"1738\" y=\"-87.3\">Name</text>\n",
       "</g>\n",
       "<!-- 66&#45;&#45;67 -->\n",
       "<g class=\"edge\" id=\"edge67\">\n",
       "<title>66--67</title>\n",
       "<path d=\"M1722.1031,-143.8314C1728.7222,-133 1737.102,-119.2876 1743.7474,-108.4133\" fill=\"none\" stroke=\"#000000\"/>\n",
       "</g>\n",
       "<!-- 68 -->\n",
       "<g class=\"node\" id=\"node69\">\n",
       "<title>68</title>\n",
       "<text fill=\"#008040\" font-family=\"Courier,monospace\" font-size=\"14.00\" text-anchor=\"middle\" x=\"1755\" y=\"-14.3\">&quot;x&quot;</text>\n",
       "</g>\n",
       "<!-- 67&#45;&#45;68 -->\n",
       "<g class=\"edge\" id=\"edge68\">\n",
       "<title>67--68</title>\n",
       "<path d=\"M1763,-72C1763,-72 1760.0293,-51.9478 1757.7084,-36.2819\" fill=\"none\" stroke=\"#000000\"/>\n",
       "</g>\n",
       "<!-- 69 -->\n",
       "<g class=\"node\" id=\"node70\">\n",
       "<title>69</title>\n",
       "<text fill=\"#008040\" font-family=\"Courier,monospace\" font-size=\"14.00\" text-anchor=\"middle\" x=\"1827\" y=\"-14.3\">Load</text>\n",
       "</g>\n",
       "<!-- 67&#45;&#45;69 -->\n",
       "<g class=\"edge\" id=\"edge69\">\n",
       "<title>67--69</title>\n",
       "<path d=\"M1763,-72C1763,-72 1786.7656,-51.9478 1805.3325,-36.2819\" fill=\"none\" stroke=\"#000000\"/>\n",
       "</g>\n",
       "<!-- 71 -->\n",
       "<g class=\"node\" id=\"node72\">\n",
       "<title>71</title>\n",
       "<text fill=\"#004080\" font-family=\"Courier,monospace\" font-size=\"14.00\" font-weight=\"bold\" text-anchor=\"start\" x=\"1597\" y=\"-303.3\">Name</text>\n",
       "</g>\n",
       "<!-- 70&#45;&#45;71 -->\n",
       "<g class=\"edge\" id=\"edge71\">\n",
       "<title>70--71</title>\n",
       "<path d=\"M1188.7514,-372.7057C1275.9118,-359.0334 1507.2536,-322.7445 1586.735,-310.2769\" fill=\"none\" stroke=\"#000000\"/>\n",
       "</g>\n",
       "<!-- 72 -->\n",
       "<g class=\"node\" id=\"node73\">\n",
       "<title>72</title>\n",
       "<text fill=\"#008040\" font-family=\"Courier,monospace\" font-size=\"14.00\" text-anchor=\"middle\" x=\"1614\" y=\"-230.3\">&quot;z&quot;</text>\n",
       "</g>\n",
       "<!-- 71&#45;&#45;72 -->\n",
       "<g class=\"edge\" id=\"edge72\">\n",
       "<title>71--72</title>\n",
       "<path d=\"M1622,-288C1622,-288 1619.0293,-267.9478 1616.7084,-252.2819\" fill=\"none\" stroke=\"#000000\"/>\n",
       "</g>\n",
       "<!-- 73 -->\n",
       "<g class=\"node\" id=\"node74\">\n",
       "<title>73</title>\n",
       "<text fill=\"#008040\" font-family=\"Courier,monospace\" font-size=\"14.00\" text-anchor=\"middle\" x=\"1686\" y=\"-230.3\">Load</text>\n",
       "</g>\n",
       "<!-- 71&#45;&#45;73 -->\n",
       "<g class=\"edge\" id=\"edge73\">\n",
       "<title>71--73</title>\n",
       "<path d=\"M1622,-288C1622,-288 1645.7656,-267.9478 1664.3325,-252.2819\" fill=\"none\" stroke=\"#000000\"/>\n",
       "</g>\n",
       "</g>\n",
       "</svg>"
      ],
      "text/plain": [
       "<IPython.core.display.SVG object>"
      ]
     },
     "metadata": {},
     "output_type": "display_data"
    }
   ],
   "source": [
    "middle_tree = ast.parse(inspect.getsource(middle))\n",
    "show_ast(middle_tree)"
   ]
  },
  {
   "cell_type": "markdown",
   "metadata": {
    "slideshow": {
     "slide_type": "fragment"
    }
   },
   "source": [
    "At the very bottom of the tree, you can see a number of `Name` nodes, referring individual variables. These are the ones we want to transform."
   ]
  },
  {
   "cell_type": "markdown",
   "metadata": {
    "slideshow": {
     "slide_type": "subslide"
    }
   },
   "source": [
    "### Tracking Variable Access\n",
    "\n",
    "Our goal is to _traverse_ the tree, identify all `Name` nodes, and convert them to respective `_data` accesses.\n",
    "To this end, we manipulate the AST through the Python modules `ast` and `astor`. The [official Python `ast` reference](http://docs.python.org/3/library/ast) is complete, but a bit brief; the documentation [\"Green Tree Snakes - the missing Python AST docs\"](https://greentreesnakes.readthedocs.io/en/latest/) provides an excellent introduction."
   ]
  },
  {
   "cell_type": "markdown",
   "metadata": {
    "slideshow": {
     "slide_type": "fragment"
    }
   },
   "source": [
    "The Python `ast` class provides a class `NodeTransformer` that allows such transformations. Subclassing from it, we provide a method `visit_Name()` that will be invoked for all `Name` nodes – and replace it by a new subtree from `make_get_data()`:"
   ]
  },
  {
   "cell_type": "code",
   "execution_count": 62,
   "metadata": {
    "slideshow": {
     "slide_type": "skip"
    }
   },
   "outputs": [],
   "source": [
    "from ast import NodeTransformer, NodeVisitor"
   ]
  },
  {
   "cell_type": "code",
   "execution_count": 63,
   "metadata": {
    "slideshow": {
     "slide_type": "fragment"
    }
   },
   "outputs": [],
   "source": [
    "DATA_TRACKER = '_data'"
   ]
  },
  {
   "cell_type": "code",
   "execution_count": 64,
   "metadata": {
    "slideshow": {
     "slide_type": "subslide"
    }
   },
   "outputs": [],
   "source": [
    "class TrackGetTransformer(NodeTransformer):\n",
    "    def visit_Name(self, node):\n",
    "        self.generic_visit(node)\n",
    "\n",
    "        if node.id in dir(__builtins__):\n",
    "            # Do not change built-in names\n",
    "            return node\n",
    "\n",
    "        if node.id == DATA_TRACKER:\n",
    "            # Do not change own accesses\n",
    "            return node\n",
    "\n",
    "        if not isinstance(node.ctx, Load):\n",
    "            # Only change loads (not stores, not deletions)\n",
    "            return node\n",
    "\n",
    "        new_node = make_get_data(node.id)\n",
    "        ast.copy_location(new_node, node)\n",
    "        return new_node"
   ]
  },
  {
   "cell_type": "markdown",
   "metadata": {
    "slideshow": {
     "slide_type": "subslide"
    }
   },
   "source": [
    "Our function `make_get_data(id, method)` returns a new subtree equivalent to the Python code `_data.method('id', id)`."
   ]
  },
  {
   "cell_type": "code",
   "execution_count": 65,
   "metadata": {
    "slideshow": {
     "slide_type": "skip"
    }
   },
   "outputs": [],
   "source": [
    "from ast import Module, Name, Load, Store, Tuple, \\\n",
    "    Attribute, With, withitem, keyword, Call, Expr"
   ]
  },
  {
   "cell_type": "code",
   "execution_count": 66,
   "metadata": {
    "slideshow": {
     "slide_type": "fragment"
    }
   },
   "outputs": [],
   "source": [
    "# Starting with Python 3.8, these will become Constant\n",
    "from ast import Num, Str"
   ]
  },
  {
   "cell_type": "code",
   "execution_count": 67,
   "metadata": {
    "slideshow": {
     "slide_type": "fragment"
    }
   },
   "outputs": [],
   "source": [
    "def make_get_data(id, method='get'):\n",
    "    return Call(func=Attribute(value=Name(id=DATA_TRACKER, ctx=Load()), \n",
    "                               attr=method, ctx=Load()),\n",
    "                args=[Str(s=id), Name(id=id, ctx=Load())],\n",
    "                keywords=[])"
   ]
  },
  {
   "cell_type": "markdown",
   "metadata": {
    "slideshow": {
     "slide_type": "fragment"
    }
   },
   "source": [
    "This is the tree that `make_get_data()` produces:"
   ]
  },
  {
   "cell_type": "code",
   "execution_count": 68,
   "metadata": {
    "slideshow": {
     "slide_type": "fragment"
    }
   },
   "outputs": [
    {
     "data": {
      "image/svg+xml": [
       "<svg height=\"260pt\" viewBox=\"0.00 0.00 479.50 260.00\" width=\"480pt\" xmlns=\"http://www.w3.org/2000/svg\" xmlns:xlink=\"http://www.w3.org/1999/xlink\">\n",
       "<g class=\"graph\" id=\"graph0\" transform=\"scale(1 1) rotate(0) translate(4 256)\">\n",
       "<title>%3</title>\n",
       "<polygon fill=\"#ffffff\" points=\"-4,4 -4,-256 475.5,-256 475.5,4 -4,4\" stroke=\"transparent\"/>\n",
       "<!-- 0 -->\n",
       "<g class=\"node\" id=\"node1\">\n",
       "<title>0</title>\n",
       "<text fill=\"#004080\" font-family=\"Courier,monospace\" font-size=\"14.00\" font-weight=\"bold\" text-anchor=\"start\" x=\"283.5\" y=\"-231.3\">Call</text>\n",
       "</g>\n",
       "<!-- 1 -->\n",
       "<g class=\"node\" id=\"node2\">\n",
       "<title>1</title>\n",
       "<text fill=\"#004080\" font-family=\"Courier,monospace\" font-size=\"14.00\" font-weight=\"bold\" text-anchor=\"start\" x=\"143.5\" y=\"-159.3\">Attribute</text>\n",
       "</g>\n",
       "<!-- 0&#45;&#45;1 -->\n",
       "<g class=\"edge\" id=\"edge1\">\n",
       "<title>0--1</title>\n",
       "<path d=\"M299.5,-216C299.5,-216 255.4008,-195.819 221.1206,-180.1314\" fill=\"none\" stroke=\"#000000\"/>\n",
       "</g>\n",
       "<!-- 7 -->\n",
       "<g class=\"node\" id=\"node8\">\n",
       "<title>7</title>\n",
       "<text fill=\"#004080\" font-family=\"Courier,monospace\" font-size=\"14.00\" font-weight=\"bold\" text-anchor=\"start\" x=\"287.5\" y=\"-159.3\">Str</text>\n",
       "</g>\n",
       "<!-- 0&#45;&#45;7 -->\n",
       "<g class=\"edge\" id=\"edge7\">\n",
       "<title>0--7</title>\n",
       "<path d=\"M299.5,-216C299.5,-216 299.8713,-195.9478 300.1614,-180.2819\" fill=\"none\" stroke=\"#000000\"/>\n",
       "</g>\n",
       "<!-- 9 -->\n",
       "<g class=\"node\" id=\"node10\">\n",
       "<title>9</title>\n",
       "<text fill=\"#004080\" font-family=\"Courier,monospace\" font-size=\"14.00\" font-weight=\"bold\" text-anchor=\"start\" x=\"355.5\" y=\"-159.3\">Name</text>\n",
       "</g>\n",
       "<!-- 0&#45;&#45;9 -->\n",
       "<g class=\"edge\" id=\"edge9\">\n",
       "<title>0--9</title>\n",
       "<path d=\"M299.5,-216C299.5,-216 326.6077,-195.9478 347.7855,-180.2819\" fill=\"none\" stroke=\"#000000\"/>\n",
       "</g>\n",
       "<!-- 2 -->\n",
       "<g class=\"node\" id=\"node3\">\n",
       "<title>2</title>\n",
       "<text fill=\"#004080\" font-family=\"Courier,monospace\" font-size=\"14.00\" font-weight=\"bold\" text-anchor=\"start\" x=\"61.5\" y=\"-87.3\">Name</text>\n",
       "</g>\n",
       "<!-- 1&#45;&#45;2 -->\n",
       "<g class=\"edge\" id=\"edge2\">\n",
       "<title>1--2</title>\n",
       "<path d=\"M176.5,-144C176.5,-144 134.5458,-120.8824 105.5384,-104.8987\" fill=\"none\" stroke=\"#000000\"/>\n",
       "</g>\n",
       "<!-- 5 -->\n",
       "<g class=\"node\" id=\"node6\">\n",
       "<title>5</title>\n",
       "<text fill=\"#008040\" font-family=\"Courier,monospace\" font-size=\"14.00\" text-anchor=\"middle\" x=\"153.5\" y=\"-86.3\">&quot;get&quot;</text>\n",
       "</g>\n",
       "<!-- 1&#45;&#45;5 -->\n",
       "<g class=\"edge\" id=\"edge5\">\n",
       "<title>1--5</title>\n",
       "<path d=\"M176.5,-144C176.5,-144 167.9592,-123.9478 161.2868,-108.2819\" fill=\"none\" stroke=\"#000000\"/>\n",
       "</g>\n",
       "<!-- 6 -->\n",
       "<g class=\"node\" id=\"node7\">\n",
       "<title>6</title>\n",
       "<text fill=\"#008040\" font-family=\"Courier,monospace\" font-size=\"14.00\" text-anchor=\"middle\" x=\"228.5\" y=\"-86.3\">Load</text>\n",
       "</g>\n",
       "<!-- 1&#45;&#45;6 -->\n",
       "<g class=\"edge\" id=\"edge6\">\n",
       "<title>1--6</title>\n",
       "<path d=\"M176.5,-144C176.5,-144 195.8096,-123.9478 210.8952,-108.2819\" fill=\"none\" stroke=\"#000000\"/>\n",
       "</g>\n",
       "<!-- 3 -->\n",
       "<g class=\"node\" id=\"node4\">\n",
       "<title>3</title>\n",
       "<text fill=\"#008040\" font-family=\"Courier,monospace\" font-size=\"14.00\" text-anchor=\"middle\" x=\"37.5\" y=\"-14.3\">&quot;_data&quot;</text>\n",
       "</g>\n",
       "<!-- 2&#45;&#45;3 -->\n",
       "<g class=\"edge\" id=\"edge3\">\n",
       "<title>2--3</title>\n",
       "<path d=\"M78.5,-72C78.5,-72 63.2751,-51.9478 51.3807,-36.2819\" fill=\"none\" stroke=\"#000000\"/>\n",
       "</g>\n",
       "<!-- 4 -->\n",
       "<g class=\"node\" id=\"node5\">\n",
       "<title>4</title>\n",
       "<text fill=\"#008040\" font-family=\"Courier,monospace\" font-size=\"14.00\" text-anchor=\"middle\" x=\"120.5\" y=\"-14.3\">Load</text>\n",
       "</g>\n",
       "<!-- 2&#45;&#45;4 -->\n",
       "<g class=\"edge\" id=\"edge4\">\n",
       "<title>2--4</title>\n",
       "<path d=\"M78.5,-72C78.5,-72 94.0962,-51.9478 106.2807,-36.2819\" fill=\"none\" stroke=\"#000000\"/>\n",
       "</g>\n",
       "<!-- 8 -->\n",
       "<g class=\"node\" id=\"node9\">\n",
       "<title>8</title>\n",
       "<text fill=\"#008040\" font-family=\"Courier,monospace\" font-size=\"14.00\" text-anchor=\"middle\" x=\"300.5\" y=\"-86.3\">&quot;x&quot;</text>\n",
       "</g>\n",
       "<!-- 7&#45;&#45;8 -->\n",
       "<g class=\"edge\" id=\"edge8\">\n",
       "<title>7--8</title>\n",
       "<path d=\"M300.5,-143.8314C300.5,-133 300.5,-119.2876 300.5,-108.4133\" fill=\"none\" stroke=\"#000000\"/>\n",
       "</g>\n",
       "<!-- 10 -->\n",
       "<g class=\"node\" id=\"node11\">\n",
       "<title>10</title>\n",
       "<text fill=\"#008040\" font-family=\"Courier,monospace\" font-size=\"14.00\" text-anchor=\"middle\" x=\"372.5\" y=\"-86.3\">&quot;x&quot;</text>\n",
       "</g>\n",
       "<!-- 9&#45;&#45;10 -->\n",
       "<g class=\"edge\" id=\"edge10\">\n",
       "<title>9--10</title>\n",
       "<path d=\"M380.5,-144C380.5,-144 377.5293,-123.9478 375.2084,-108.2819\" fill=\"none\" stroke=\"#000000\"/>\n",
       "</g>\n",
       "<!-- 11 -->\n",
       "<g class=\"node\" id=\"node12\">\n",
       "<title>11</title>\n",
       "<text fill=\"#008040\" font-family=\"Courier,monospace\" font-size=\"14.00\" text-anchor=\"middle\" x=\"444.5\" y=\"-86.3\">Load</text>\n",
       "</g>\n",
       "<!-- 9&#45;&#45;11 -->\n",
       "<g class=\"edge\" id=\"edge11\">\n",
       "<title>9--11</title>\n",
       "<path d=\"M380.5,-144C380.5,-144 404.2656,-123.9478 422.8325,-108.2819\" fill=\"none\" stroke=\"#000000\"/>\n",
       "</g>\n",
       "</g>\n",
       "</svg>"
      ],
      "text/plain": [
       "<IPython.core.display.SVG object>"
      ]
     },
     "metadata": {},
     "output_type": "display_data"
    }
   ],
   "source": [
    "show_ast(Module(body=[make_get_data(\"x\")]))"
   ]
  },
  {
   "cell_type": "markdown",
   "metadata": {
    "slideshow": {
     "slide_type": "subslide"
    }
   },
   "source": [
    "How do we know that this is a correct subtree? We can carefully read the [official Python `ast` reference](http://docs.python.org/3/library/ast) and then proceed by trial and error (and apply [delta debugging](DeltaDebugger.ipynb) to determine error causes). Or – pro tip! – we can simply take a piece of Python code, parse it and use `ast.dump()` to print out how to construct the resulting AST:"
   ]
  },
  {
   "cell_type": "code",
   "execution_count": 69,
   "metadata": {
    "slideshow": {
     "slide_type": "fragment"
    }
   },
   "outputs": [
    {
     "name": "stdout",
     "output_type": "stream",
     "text": [
      "Module(body=[Expr(value=Call(func=Attribute(value=Name(id='_data', ctx=Load()), attr='get', ctx=Load()), args=[Str(s='x'), Name(id='x', ctx=Load())], keywords=[]))])\n"
     ]
    }
   ],
   "source": [
    "print(ast.dump(ast.parse(\"_data.get('x', x)\")))"
   ]
  },
  {
   "cell_type": "markdown",
   "metadata": {
    "slideshow": {
     "slide_type": "fragment"
    }
   },
   "source": [
    "If you compare the above output with the code of `make_get_data()`, above, you will find out where the source of `make_get_data()` comes from."
   ]
  },
  {
   "cell_type": "markdown",
   "metadata": {
    "slideshow": {
     "slide_type": "fragment"
    }
   },
   "source": [
    "Let us put `TrackGetTransformer` to action. Its `visit()` method calls `visit_Name()`, which then in turn transforms the `Name` nodes as we want it. This happens in place."
   ]
  },
  {
   "cell_type": "code",
   "execution_count": 70,
   "metadata": {
    "slideshow": {
     "slide_type": "subslide"
    }
   },
   "outputs": [],
   "source": [
    "TrackGetTransformer().visit(middle_tree);"
   ]
  },
  {
   "cell_type": "markdown",
   "metadata": {
    "slideshow": {
     "slide_type": "fragment"
    }
   },
   "source": [
    "To see the effect of our transformations, we introduce a method `dump_tree()` which outputs the tree – and also compiles it to check for any inconsistencies."
   ]
  },
  {
   "cell_type": "code",
   "execution_count": 71,
   "metadata": {
    "slideshow": {
     "slide_type": "fragment"
    }
   },
   "outputs": [],
   "source": [
    "def dump_tree(tree):\n",
    "    print_content(astor.to_source(tree), '.py')\n",
    "    ast.fix_missing_locations(tree)  # Must run this before compiling\n",
    "    _ = compile(tree, '<dump_tree>', 'exec')"
   ]
  },
  {
   "cell_type": "markdown",
   "metadata": {
    "slideshow": {
     "slide_type": "fragment"
    }
   },
   "source": [
    "We see that our transformer has properly replaced all "
   ]
  },
  {
   "cell_type": "code",
   "execution_count": 72,
   "metadata": {
    "slideshow": {
     "slide_type": "subslide"
    }
   },
   "outputs": [
    {
     "name": "stdout",
     "output_type": "stream",
     "text": [
      "\u001b[34mdef\u001b[39;49;00m \u001b[32mmiddle\u001b[39;49;00m(x, y, z):\n",
      "    \u001b[34mif\u001b[39;49;00m _data.get(\u001b[33m'\u001b[39;49;00m\u001b[33my\u001b[39;49;00m\u001b[33m'\u001b[39;49;00m, y) < _data.get(\u001b[33m'\u001b[39;49;00m\u001b[33mz\u001b[39;49;00m\u001b[33m'\u001b[39;49;00m, z):\n",
      "        \u001b[34mif\u001b[39;49;00m _data.get(\u001b[33m'\u001b[39;49;00m\u001b[33mx\u001b[39;49;00m\u001b[33m'\u001b[39;49;00m, x) < _data.get(\u001b[33m'\u001b[39;49;00m\u001b[33my\u001b[39;49;00m\u001b[33m'\u001b[39;49;00m, y):\n",
      "            \u001b[34mreturn\u001b[39;49;00m _data.get(\u001b[33m'\u001b[39;49;00m\u001b[33my\u001b[39;49;00m\u001b[33m'\u001b[39;49;00m, y)\n",
      "        \u001b[34melif\u001b[39;49;00m _data.get(\u001b[33m'\u001b[39;49;00m\u001b[33mx\u001b[39;49;00m\u001b[33m'\u001b[39;49;00m, x) < _data.get(\u001b[33m'\u001b[39;49;00m\u001b[33mz\u001b[39;49;00m\u001b[33m'\u001b[39;49;00m, z):\n",
      "            \u001b[34mreturn\u001b[39;49;00m _data.get(\u001b[33m'\u001b[39;49;00m\u001b[33my\u001b[39;49;00m\u001b[33m'\u001b[39;49;00m, y)\n",
      "    \u001b[34melif\u001b[39;49;00m _data.get(\u001b[33m'\u001b[39;49;00m\u001b[33mx\u001b[39;49;00m\u001b[33m'\u001b[39;49;00m, x) > _data.get(\u001b[33m'\u001b[39;49;00m\u001b[33my\u001b[39;49;00m\u001b[33m'\u001b[39;49;00m, y):\n",
      "        \u001b[34mreturn\u001b[39;49;00m _data.get(\u001b[33m'\u001b[39;49;00m\u001b[33my\u001b[39;49;00m\u001b[33m'\u001b[39;49;00m, y)\n",
      "    \u001b[34melif\u001b[39;49;00m _data.get(\u001b[33m'\u001b[39;49;00m\u001b[33mx\u001b[39;49;00m\u001b[33m'\u001b[39;49;00m, x) > _data.get(\u001b[33m'\u001b[39;49;00m\u001b[33mz\u001b[39;49;00m\u001b[33m'\u001b[39;49;00m, z):\n",
      "        \u001b[34mreturn\u001b[39;49;00m _data.get(\u001b[33m'\u001b[39;49;00m\u001b[33mx\u001b[39;49;00m\u001b[33m'\u001b[39;49;00m, x)\n",
      "    \u001b[34mreturn\u001b[39;49;00m _data.get(\u001b[33m'\u001b[39;49;00m\u001b[33mz\u001b[39;49;00m\u001b[33m'\u001b[39;49;00m, z)"
     ]
    }
   ],
   "source": [
    "dump_tree(middle_tree)"
   ]
  },
  {
   "cell_type": "markdown",
   "metadata": {
    "slideshow": {
     "slide_type": "subslide"
    }
   },
   "source": [
    "Let us now execute this code together with the `DataTracker()` class we previously introduced. The class `DataTrackerTester()` takes a (transformed) tree and a function. Using it as\n",
    "\n",
    "```python\n",
    "with DataTrackerTester(tree, func):\n",
    "    func(...)\n",
    "```\n",
    "\n",
    "first executes the code in _tree_ (possibly instrumenting `func`) and then the `with` body. At the end, `func` is restored to its previous (non-instrumented) version."
   ]
  },
  {
   "cell_type": "code",
   "execution_count": 73,
   "metadata": {
    "slideshow": {
     "slide_type": "subslide"
    }
   },
   "outputs": [],
   "source": [
    "class DataTrackerTester(object):\n",
    "    def __init__(self, tree, func, log=True):\n",
    "        self.code = compile(tree, '<DataTracker>', 'exec')\n",
    "        self.func = func\n",
    "        self.log = log\n",
    "\n",
    "    def make_data_tracker(self):\n",
    "        return DataTracker(log=self.log)\n",
    "\n",
    "    def __enter__(self):\n",
    "        \"\"\"Rewrite function\"\"\"\n",
    "        tracker = self.make_data_tracker()\n",
    "        globals()[DATA_TRACKER] = tracker\n",
    "        exec(self.code, globals())\n",
    "        return tracker\n",
    "\n",
    "    def __exit__(self, exc_type, exc_value, traceback):\n",
    "        \"\"\"Restore function\"\"\"\n",
    "        globals()[self.func.__name__] = self.func\n",
    "        del globals()[DATA_TRACKER]"
   ]
  },
  {
   "cell_type": "markdown",
   "metadata": {
    "slideshow": {
     "slide_type": "subslide"
    }
   },
   "source": [
    "Here is our `middle()` function:"
   ]
  },
  {
   "cell_type": "code",
   "execution_count": 74,
   "metadata": {
    "slideshow": {
     "slide_type": "fragment"
    }
   },
   "outputs": [
    {
     "name": "stdout",
     "output_type": "stream",
     "text": [
      " 1  \u001b[34mdef\u001b[39;49;00m \u001b[32mmiddle\u001b[39;49;00m(x, y, z):\n",
      " 2      \u001b[34mif\u001b[39;49;00m y < z:\n",
      " 3          \u001b[34mif\u001b[39;49;00m x < y:\n",
      " 4              \u001b[34mreturn\u001b[39;49;00m y\n",
      " 5          \u001b[34melif\u001b[39;49;00m x < z:\n",
      " 6              \u001b[34mreturn\u001b[39;49;00m y\n",
      " 7      \u001b[34melse\u001b[39;49;00m:\n",
      " 8          \u001b[34mif\u001b[39;49;00m x > y:\n",
      " 9              \u001b[34mreturn\u001b[39;49;00m y\n",
      "10          \u001b[34melif\u001b[39;49;00m x > z:\n",
      "11              \u001b[34mreturn\u001b[39;49;00m x\n",
      "12      \u001b[34mreturn\u001b[39;49;00m z"
     ]
    }
   ],
   "source": [
    "print_content(inspect.getsource(middle), '.py', start_line_number=1)"
   ]
  },
  {
   "cell_type": "markdown",
   "metadata": {
    "slideshow": {
     "slide_type": "subslide"
    }
   },
   "source": [
    "And here is our instrumented `middle_tree` executed with a `DataTracker` object. We see how the `middle()` tests access one argument after another."
   ]
  },
  {
   "cell_type": "code",
   "execution_count": 75,
   "metadata": {
    "slideshow": {
     "slide_type": "fragment"
    }
   },
   "outputs": [
    {
     "name": "stdout",
     "output_type": "stream",
     "text": [
      "middle:2: getting y\n",
      "middle:2: getting z\n",
      "middle:3: getting x\n",
      "middle:3: getting y\n",
      "middle:5: getting x\n",
      "middle:5: getting z\n",
      "middle:6: getting y\n"
     ]
    }
   ],
   "source": [
    "with DataTrackerTester(middle_tree, middle):\n",
    "    middle(2, 1, 3)"
   ]
  },
  {
   "cell_type": "markdown",
   "metadata": {
    "slideshow": {
     "slide_type": "fragment"
    }
   },
   "source": [
    "After `DataTrackerTester` is done, `middle` is reverted to its non-instrumented version:"
   ]
  },
  {
   "cell_type": "code",
   "execution_count": 76,
   "metadata": {
    "slideshow": {
     "slide_type": "subslide"
    }
   },
   "outputs": [
    {
     "data": {
      "text/plain": [
       "1"
      ]
     },
     "execution_count": 76,
     "metadata": {},
     "output_type": "execute_result"
    }
   ],
   "source": [
    "middle(2, 1, 3)"
   ]
  },
  {
   "cell_type": "markdown",
   "metadata": {
    "slideshow": {
     "slide_type": "fragment"
    }
   },
   "source": [
    "For a complete picture of what happens during executions, we implement a number of additional code transformers."
   ]
  },
  {
   "cell_type": "markdown",
   "metadata": {
    "slideshow": {
     "slide_type": "fragment"
    }
   },
   "source": [
    "For each assignment statement `x = y`, we change it to `x = _data.set('x', y)`. This allows to __track assignments__."
   ]
  },
  {
   "cell_type": "markdown",
   "metadata": {
    "slideshow": {
     "slide_type": "subslide"
    }
   },
   "source": [
    "### Excursion: Tracking Assignments"
   ]
  },
  {
   "cell_type": "markdown",
   "metadata": {
    "slideshow": {
     "slide_type": "fragment"
    }
   },
   "source": [
    "For the remaining transformers, we follow the same steps as for `TrackGetTransformer`, except that our `visit_...()` methods focus on different nodes, and return different subtrees. Here, we focus on assignment nodes."
   ]
  },
  {
   "cell_type": "markdown",
   "metadata": {
    "slideshow": {
     "slide_type": "fragment"
    }
   },
   "source": [
    "We want to transform assignments `x = value` into `_data.set('x', value)` to track assignments to `x`."
   ]
  },
  {
   "cell_type": "markdown",
   "metadata": {
    "slideshow": {
     "slide_type": "fragment"
    }
   },
   "source": [
    "If the left hand side of the assignment is more complex, as in `x[y] = value`, we want to ensure the read access to `x` and `y` is also tracked. By transforming `x[y] = value` into `_data.set('x', value, loads=(x, y))`, we ensure that `x` and `y` are marked as read (as the otherwise ignored `loads` argument would be changed to `_data.get()` calls for `x` and `y`)."
   ]
  },
  {
   "cell_type": "markdown",
   "metadata": {
    "slideshow": {
     "slide_type": "fragment"
    }
   },
   "source": [
    "Using `ast.dump()`, we reveal what the corresponding syntax tree has to look like:"
   ]
  },
  {
   "cell_type": "code",
   "execution_count": 77,
   "metadata": {
    "slideshow": {
     "slide_type": "subslide"
    }
   },
   "outputs": [
    {
     "name": "stdout",
     "output_type": "stream",
     "text": [
      "Module(body=[Expr(value=Call(func=Attribute(value=Name(id='_data', ctx=Load()), attr='set', ctx=Load()), args=[Str(s='x'), Name(id='value', ctx=Load())], keywords=[keyword(arg='loads', value=Tuple(elts=[Name(id='a', ctx=Load()), Name(id='b', ctx=Load())], ctx=Load()))]))])\n"
     ]
    }
   ],
   "source": [
    "print(ast.dump(ast.parse(\"_data.set('x', value, loads=(a, b))\")))"
   ]
  },
  {
   "cell_type": "markdown",
   "metadata": {
    "slideshow": {
     "slide_type": "fragment"
    }
   },
   "source": [
    "Using this structure, we can write a function `make_set_data()` which constructs such a subtree."
   ]
  },
  {
   "cell_type": "code",
   "execution_count": 78,
   "metadata": {
    "slideshow": {
     "slide_type": "subslide"
    }
   },
   "outputs": [],
   "source": [
    "def make_set_data(id, value, loads=None, method='set'):\n",
    "    \"\"\"Construct a subtree _data.METHOD('ID', VALUE). \n",
    "    If LOADS is set to [X1, X2, ...], make it\n",
    "    _data.METHOD('ID', VALUE, loads=(X1, X2, ...))\n",
    "    \"\"\"\n",
    "    keywords=[]\n",
    "\n",
    "    if loads:\n",
    "        keywords = [\n",
    "            keyword(arg='loads',\n",
    "                    value=Tuple(\n",
    "                        elts=[Name(id=load, ctx=Load()) for load in loads],\n",
    "                        ctx=Load()\n",
    "                    ))\n",
    "        ]\n",
    "\n",
    "    new_node = Call(func=Attribute(value=Name(id=DATA_TRACKER, ctx=Load()),\n",
    "                                   attr=method, ctx=Load()),\n",
    "                    args=[Str(s=id), value],\n",
    "                    keywords=keywords)\n",
    "\n",
    "    ast.copy_location(new_node, value)\n",
    "\n",
    "    return new_node"
   ]
  },
  {
   "cell_type": "markdown",
   "metadata": {
    "slideshow": {
     "slide_type": "subslide"
    }
   },
   "source": [
    "The problem is, however: How do we get the name of the variable being assigned to? The left hand side of an assignment can be a complex expression such as `x[i]`. We use the leftmost name of the left hand side as name to be assigned to."
   ]
  },
  {
   "cell_type": "code",
   "execution_count": 79,
   "metadata": {
    "slideshow": {
     "slide_type": "subslide"
    }
   },
   "outputs": [],
   "source": [
    "class LeftmostNameVisitor(NodeVisitor):\n",
    "    def __init__(self):\n",
    "        super().__init__()\n",
    "        self.leftmost_name = None\n",
    "        \n",
    "    def visit_Name(self, node):\n",
    "        if self.leftmost_name is None:\n",
    "            self.leftmost_name = node.id\n",
    "        self.generic_visit(node)\n",
    "\n",
    "def leftmost_name(tree):\n",
    "    visitor = LeftmostNameVisitor()\n",
    "    visitor.visit(tree)\n",
    "    return visitor.leftmost_name"
   ]
  },
  {
   "cell_type": "code",
   "execution_count": 80,
   "metadata": {
    "slideshow": {
     "slide_type": "subslide"
    }
   },
   "outputs": [
    {
     "data": {
      "text/plain": [
       "'a'"
      ]
     },
     "execution_count": 80,
     "metadata": {},
     "output_type": "execute_result"
    }
   ],
   "source": [
    "leftmost_name(ast.parse('a[x] = 25'))"
   ]
  },
  {
   "cell_type": "markdown",
   "metadata": {
    "slideshow": {
     "slide_type": "fragment"
    }
   },
   "source": [
    "Python also allows _tuple assignments_, as in `(a, b, c) = (1, 2, 3)`. We extract all variables being stored (that is, expressions whose `ctx` attribute is `Store()`) and extract their (leftmost) names."
   ]
  },
  {
   "cell_type": "code",
   "execution_count": 81,
   "metadata": {
    "slideshow": {
     "slide_type": "subslide"
    }
   },
   "outputs": [],
   "source": [
    "class StoreVisitor(NodeVisitor):\n",
    "    def __init__(self):\n",
    "        super().__init__()\n",
    "        self.names = set()\n",
    "        \n",
    "    def visit(self, node):\n",
    "        if hasattr(node, 'ctx') and isinstance(node.ctx, Store):\n",
    "            name = leftmost_name(node)\n",
    "            if name is not None:\n",
    "                self.names.add(name)\n",
    "\n",
    "        self.generic_visit(node)\n",
    "\n",
    "def store_names(tree):\n",
    "    visitor = StoreVisitor()\n",
    "    visitor.visit(tree)\n",
    "    return visitor.names"
   ]
  },
  {
   "cell_type": "code",
   "execution_count": 82,
   "metadata": {
    "slideshow": {
     "slide_type": "subslide"
    }
   },
   "outputs": [
    {
     "data": {
      "text/plain": [
       "{'a', 'b', 'c'}"
      ]
     },
     "execution_count": 82,
     "metadata": {},
     "output_type": "execute_result"
    }
   ],
   "source": [
    "store_names(ast.parse('a[x], b[y], c = 1, 2, 3'))"
   ]
  },
  {
   "cell_type": "markdown",
   "metadata": {
    "slideshow": {
     "slide_type": "fragment"
    }
   },
   "source": [
    "For complex assignments, we also want to access the names read in the left hand side of an expression."
   ]
  },
  {
   "cell_type": "code",
   "execution_count": 83,
   "metadata": {
    "slideshow": {
     "slide_type": "subslide"
    }
   },
   "outputs": [],
   "source": [
    "class LoadVisitor(NodeVisitor):\n",
    "    def __init__(self):\n",
    "        super().__init__()\n",
    "        self.names = set()\n",
    "\n",
    "    def visit(self, node):\n",
    "        if hasattr(node, 'ctx') and isinstance(node.ctx, Load):\n",
    "            name = leftmost_name(node)\n",
    "            if name is not None:\n",
    "                self.names.add(name)\n",
    "\n",
    "        self.generic_visit(node)\n",
    "\n",
    "def load_names(tree):\n",
    "    visitor = LoadVisitor()\n",
    "    visitor.visit(tree)\n",
    "    return visitor.names"
   ]
  },
  {
   "cell_type": "code",
   "execution_count": 84,
   "metadata": {
    "slideshow": {
     "slide_type": "subslide"
    }
   },
   "outputs": [
    {
     "data": {
      "text/plain": [
       "{'a', 'b', 'x', 'y'}"
      ]
     },
     "execution_count": 84,
     "metadata": {},
     "output_type": "execute_result"
    }
   ],
   "source": [
    "load_names(ast.parse('a[x], b[y], c = 1, 2, 3'))"
   ]
  },
  {
   "cell_type": "markdown",
   "metadata": {
    "slideshow": {
     "slide_type": "fragment"
    }
   },
   "source": [
    "With this, we can now define `TrackSetTransformer` as a transformer for regular assignments. Note that in Python, an assignment can have multiple targets, as in `a = b = c`; we assign the value of `c` to them all."
   ]
  },
  {
   "cell_type": "code",
   "execution_count": 85,
   "metadata": {
    "slideshow": {
     "slide_type": "subslide"
    }
   },
   "outputs": [],
   "source": [
    "class TrackSetTransformer(NodeTransformer):\n",
    "    def visit_Assign(self, node):\n",
    "        value = astor.to_source(node.value)\n",
    "        if value.startswith(DATA_TRACKER + '.set'):\n",
    "            return node  # Do not apply twice\n",
    "\n",
    "        for target in node.targets:\n",
    "            loads = load_names(target)\n",
    "            for store_name in store_names(target):\n",
    "                node.value = make_set_data(store_name, node.value, \n",
    "                                           loads=loads)\n",
    "                loads = set()\n",
    "\n",
    "        return node"
   ]
  },
  {
   "cell_type": "markdown",
   "metadata": {
    "slideshow": {
     "slide_type": "subslide"
    }
   },
   "source": [
    "The special form of \"augmented assign\" needs special treatment. We change statements of the form `x += y` to `x += _data.augment('x', y)`."
   ]
  },
  {
   "cell_type": "code",
   "execution_count": 86,
   "metadata": {
    "slideshow": {
     "slide_type": "fragment"
    }
   },
   "outputs": [],
   "source": [
    "class TrackSetTransformer(TrackSetTransformer):\n",
    "    def visit_AugAssign(self, node):\n",
    "        value = astor.to_source(node.value)\n",
    "        if value.startswith(DATA_TRACKER):\n",
    "            return node  # Do not apply twice\n",
    "\n",
    "        id = leftmost_name(node.target)\n",
    "        node.value = make_set_data(id, node.value, method='augment')\n",
    "\n",
    "        return node"
   ]
  },
  {
   "cell_type": "markdown",
   "metadata": {
    "slideshow": {
     "slide_type": "fragment"
    }
   },
   "source": [
    "The corresponding `augment()` method uses a combination of `set()` and `get()` to reflect the semantics."
   ]
  },
  {
   "cell_type": "code",
   "execution_count": 87,
   "metadata": {
    "slideshow": {
     "slide_type": "subslide"
    }
   },
   "outputs": [],
   "source": [
    "class DataTracker(DataTracker):\n",
    "    def augment(self, name, value):\n",
    "        \"\"\"Track augmenting NAME with VALUE.\"\"\"\n",
    "        self.set(name, self.get(name, value))\n",
    "        return value"
   ]
  },
  {
   "cell_type": "markdown",
   "metadata": {
    "slideshow": {
     "slide_type": "fragment"
    }
   },
   "source": [
    "Here's both of these transformers in action. Our original function has a number of assignments:"
   ]
  },
  {
   "cell_type": "code",
   "execution_count": 88,
   "metadata": {
    "slideshow": {
     "slide_type": "fragment"
    }
   },
   "outputs": [],
   "source": [
    "def assign_test(x):\n",
    "    fourty_two = forty_two = 42\n",
    "    a, b, c = 1, 2, 3\n",
    "    c[d[x]].attr = 47\n",
    "    foo *= bar + 1"
   ]
  },
  {
   "cell_type": "code",
   "execution_count": 89,
   "metadata": {
    "slideshow": {
     "slide_type": "fragment"
    }
   },
   "outputs": [],
   "source": [
    "assign_tree = ast.parse(inspect.getsource(assign_test))"
   ]
  },
  {
   "cell_type": "code",
   "execution_count": 90,
   "metadata": {
    "slideshow": {
     "slide_type": "subslide"
    }
   },
   "outputs": [
    {
     "name": "stdout",
     "output_type": "stream",
     "text": [
      "\u001b[34mdef\u001b[39;49;00m \u001b[32massign_test\u001b[39;49;00m(x):\n",
      "    fourty_two = forty_two = _data.set(\u001b[33m'\u001b[39;49;00m\u001b[33mforty_two\u001b[39;49;00m\u001b[33m'\u001b[39;49;00m, _data.set(\u001b[33m'\u001b[39;49;00m\u001b[33mfourty_two\u001b[39;49;00m\u001b[33m'\u001b[39;49;00m, \u001b[34m42\u001b[39;49;00m)\n",
      "        )\n",
      "    a, b, c = _data.set(\u001b[33m'\u001b[39;49;00m\u001b[33mc\u001b[39;49;00m\u001b[33m'\u001b[39;49;00m, _data.set(\u001b[33m'\u001b[39;49;00m\u001b[33mb\u001b[39;49;00m\u001b[33m'\u001b[39;49;00m, _data.set(\u001b[33m'\u001b[39;49;00m\u001b[33ma\u001b[39;49;00m\u001b[33m'\u001b[39;49;00m, (\u001b[34m1\u001b[39;49;00m, \u001b[34m2\u001b[39;49;00m, \u001b[34m3\u001b[39;49;00m))))\n",
      "    c[d[x]].attr = _data.set(\u001b[33m'\u001b[39;49;00m\u001b[33mc\u001b[39;49;00m\u001b[33m'\u001b[39;49;00m, \u001b[34m47\u001b[39;49;00m, loads=(x, d, c))\n",
      "    foo *= _data.augment(\u001b[33m'\u001b[39;49;00m\u001b[33mfoo\u001b[39;49;00m\u001b[33m'\u001b[39;49;00m, bar + \u001b[34m1\u001b[39;49;00m)"
     ]
    }
   ],
   "source": [
    "TrackSetTransformer().visit(assign_tree)\n",
    "dump_tree(assign_tree)"
   ]
  },
  {
   "cell_type": "markdown",
   "metadata": {
    "slideshow": {
     "slide_type": "fragment"
    }
   },
   "source": [
    "If we later apply our transformer for data accesses, we can see that we track all variable reads and writes."
   ]
  },
  {
   "cell_type": "code",
   "execution_count": 91,
   "metadata": {
    "slideshow": {
     "slide_type": "subslide"
    }
   },
   "outputs": [
    {
     "name": "stdout",
     "output_type": "stream",
     "text": [
      "\u001b[34mdef\u001b[39;49;00m \u001b[32massign_test\u001b[39;49;00m(x):\n",
      "    fourty_two = forty_two = _data.set(\u001b[33m'\u001b[39;49;00m\u001b[33mforty_two\u001b[39;49;00m\u001b[33m'\u001b[39;49;00m, _data.set(\u001b[33m'\u001b[39;49;00m\u001b[33mfourty_two\u001b[39;49;00m\u001b[33m'\u001b[39;49;00m, \u001b[34m42\u001b[39;49;00m)\n",
      "        )\n",
      "    a, b, c = _data.set(\u001b[33m'\u001b[39;49;00m\u001b[33mc\u001b[39;49;00m\u001b[33m'\u001b[39;49;00m, _data.set(\u001b[33m'\u001b[39;49;00m\u001b[33mb\u001b[39;49;00m\u001b[33m'\u001b[39;49;00m, _data.set(\u001b[33m'\u001b[39;49;00m\u001b[33ma\u001b[39;49;00m\u001b[33m'\u001b[39;49;00m, (\u001b[34m1\u001b[39;49;00m, \u001b[34m2\u001b[39;49;00m, \u001b[34m3\u001b[39;49;00m))))\n",
      "    _data.get(\u001b[33m'\u001b[39;49;00m\u001b[33mc\u001b[39;49;00m\u001b[33m'\u001b[39;49;00m, c)[_data.get(\u001b[33m'\u001b[39;49;00m\u001b[33md\u001b[39;49;00m\u001b[33m'\u001b[39;49;00m, d)[_data.get(\u001b[33m'\u001b[39;49;00m\u001b[33mx\u001b[39;49;00m\u001b[33m'\u001b[39;49;00m, x)]].attr = _data.set(\n",
      "        \u001b[33m'\u001b[39;49;00m\u001b[33mc\u001b[39;49;00m\u001b[33m'\u001b[39;49;00m, \u001b[34m47\u001b[39;49;00m, loads=(_data.get(\u001b[33m'\u001b[39;49;00m\u001b[33mx\u001b[39;49;00m\u001b[33m'\u001b[39;49;00m, x), _data.get(\u001b[33m'\u001b[39;49;00m\u001b[33md\u001b[39;49;00m\u001b[33m'\u001b[39;49;00m, d), _data.get(\u001b[33m'\u001b[39;49;00m\u001b[33mc\u001b[39;49;00m\u001b[33m'\u001b[39;49;00m,\n",
      "        c)))\n",
      "    foo *= _data.augment(\u001b[33m'\u001b[39;49;00m\u001b[33mfoo\u001b[39;49;00m\u001b[33m'\u001b[39;49;00m, _data.get(\u001b[33m'\u001b[39;49;00m\u001b[33mbar\u001b[39;49;00m\u001b[33m'\u001b[39;49;00m, bar) + \u001b[34m1\u001b[39;49;00m)"
     ]
    }
   ],
   "source": [
    "TrackGetTransformer().visit(assign_tree)\n",
    "dump_tree(assign_tree)"
   ]
  },
  {
   "cell_type": "markdown",
   "metadata": {
    "slideshow": {
     "slide_type": "subslide"
    }
   },
   "source": [
    "### End of Excursion"
   ]
  },
  {
   "cell_type": "markdown",
   "metadata": {
    "slideshow": {
     "slide_type": "fragment"
    }
   },
   "source": [
    "Each return statement `return x` is transformed to `return _data.set('<return_value>', x)`. This allows to __track return values__."
   ]
  },
  {
   "cell_type": "markdown",
   "metadata": {
    "slideshow": {
     "slide_type": "subslide"
    }
   },
   "source": [
    "### Excursion: Tracking Return Values"
   ]
  },
  {
   "cell_type": "markdown",
   "metadata": {
    "slideshow": {
     "slide_type": "fragment"
    }
   },
   "source": [
    "Our `TrackReturnTransformer` also makes use of `make_set_data()`."
   ]
  },
  {
   "cell_type": "code",
   "execution_count": 92,
   "metadata": {
    "slideshow": {
     "slide_type": "subslide"
    }
   },
   "outputs": [],
   "source": [
    "class TrackReturnTransformer(NodeTransformer):\n",
    "    def __init__(self):\n",
    "        self.function_name = None\n",
    "        super().__init__()\n",
    "\n",
    "    def visit_FunctionDef(self, node):\n",
    "        outer_name = self.function_name\n",
    "        self.function_name = node.name  # Save current name\n",
    "        self.generic_visit(node)\n",
    "        self.function_name = outer_name\n",
    "        return node\n",
    "\n",
    "    def visit_AsyncFunctionDef(self, node):\n",
    "        return self.visit_FunctionDef(node)\n",
    "\n",
    "    def return_value(self, tp=\"return\"):\n",
    "        if self.function_name is None:\n",
    "            return f\"<{tp} value>\"\n",
    "        else:\n",
    "            return f\"<{self.function_name}() {tp} value>\"\n",
    "\n",
    "    def visit_return_or_yield(self, node, tp):\n",
    "        if node.value is not None:\n",
    "            value = astor.to_source(node.value)\n",
    "            if not value.startswith(DATA_TRACKER + '.set'):\n",
    "                node.value = make_set_data(self.return_value(tp), node.value)\n",
    "\n",
    "        return node\n",
    "\n",
    "    def visit_Return(self, node):\n",
    "        return self.visit_return_or_yield(node, \"return\")\n",
    "\n",
    "    def visit_Yield(self, node):\n",
    "        return self.visit_return_or_yield(node, \"yield\")\n",
    "\n",
    "    def visit_YieldFrom(self, node):\n",
    "        return self.visit_return_or_yield(node, \"yield\")"
   ]
  },
  {
   "cell_type": "markdown",
   "metadata": {
    "slideshow": {
     "slide_type": "subslide"
    }
   },
   "source": [
    "This is the effect of `TrackReturnTransformer`. We see that all return values are saved, and thus all locations of the corresponding return statements are tracked."
   ]
  },
  {
   "cell_type": "code",
   "execution_count": 93,
   "metadata": {
    "slideshow": {
     "slide_type": "subslide"
    }
   },
   "outputs": [
    {
     "name": "stdout",
     "output_type": "stream",
     "text": [
      "\u001b[34mdef\u001b[39;49;00m \u001b[32mmiddle\u001b[39;49;00m(x, y, z):\n",
      "    \u001b[34mif\u001b[39;49;00m _data.get(\u001b[33m'\u001b[39;49;00m\u001b[33my\u001b[39;49;00m\u001b[33m'\u001b[39;49;00m, y) < _data.get(\u001b[33m'\u001b[39;49;00m\u001b[33mz\u001b[39;49;00m\u001b[33m'\u001b[39;49;00m, z):\n",
      "        \u001b[34mif\u001b[39;49;00m _data.get(\u001b[33m'\u001b[39;49;00m\u001b[33mx\u001b[39;49;00m\u001b[33m'\u001b[39;49;00m, x) < _data.get(\u001b[33m'\u001b[39;49;00m\u001b[33my\u001b[39;49;00m\u001b[33m'\u001b[39;49;00m, y):\n",
      "            \u001b[34mreturn\u001b[39;49;00m _data.set(\u001b[33m'\u001b[39;49;00m\u001b[33m<middle() return value>\u001b[39;49;00m\u001b[33m'\u001b[39;49;00m, _data.get(\u001b[33m'\u001b[39;49;00m\u001b[33my\u001b[39;49;00m\u001b[33m'\u001b[39;49;00m, y))\n",
      "        \u001b[34melif\u001b[39;49;00m _data.get(\u001b[33m'\u001b[39;49;00m\u001b[33mx\u001b[39;49;00m\u001b[33m'\u001b[39;49;00m, x) < _data.get(\u001b[33m'\u001b[39;49;00m\u001b[33mz\u001b[39;49;00m\u001b[33m'\u001b[39;49;00m, z):\n",
      "            \u001b[34mreturn\u001b[39;49;00m _data.set(\u001b[33m'\u001b[39;49;00m\u001b[33m<middle() return value>\u001b[39;49;00m\u001b[33m'\u001b[39;49;00m, _data.get(\u001b[33m'\u001b[39;49;00m\u001b[33my\u001b[39;49;00m\u001b[33m'\u001b[39;49;00m, y))\n",
      "    \u001b[34melif\u001b[39;49;00m _data.get(\u001b[33m'\u001b[39;49;00m\u001b[33mx\u001b[39;49;00m\u001b[33m'\u001b[39;49;00m, x) > _data.get(\u001b[33m'\u001b[39;49;00m\u001b[33my\u001b[39;49;00m\u001b[33m'\u001b[39;49;00m, y):\n",
      "        \u001b[34mreturn\u001b[39;49;00m _data.set(\u001b[33m'\u001b[39;49;00m\u001b[33m<middle() return value>\u001b[39;49;00m\u001b[33m'\u001b[39;49;00m, _data.get(\u001b[33m'\u001b[39;49;00m\u001b[33my\u001b[39;49;00m\u001b[33m'\u001b[39;49;00m, y))\n",
      "    \u001b[34melif\u001b[39;49;00m _data.get(\u001b[33m'\u001b[39;49;00m\u001b[33mx\u001b[39;49;00m\u001b[33m'\u001b[39;49;00m, x) > _data.get(\u001b[33m'\u001b[39;49;00m\u001b[33mz\u001b[39;49;00m\u001b[33m'\u001b[39;49;00m, z):\n",
      "        \u001b[34mreturn\u001b[39;49;00m _data.set(\u001b[33m'\u001b[39;49;00m\u001b[33m<middle() return value>\u001b[39;49;00m\u001b[33m'\u001b[39;49;00m, _data.get(\u001b[33m'\u001b[39;49;00m\u001b[33mx\u001b[39;49;00m\u001b[33m'\u001b[39;49;00m, x))\n",
      "    \u001b[34mreturn\u001b[39;49;00m _data.set(\u001b[33m'\u001b[39;49;00m\u001b[33m<middle() return value>\u001b[39;49;00m\u001b[33m'\u001b[39;49;00m, _data.get(\u001b[33m'\u001b[39;49;00m\u001b[33mz\u001b[39;49;00m\u001b[33m'\u001b[39;49;00m, z))"
     ]
    }
   ],
   "source": [
    "TrackReturnTransformer().visit(middle_tree)\n",
    "dump_tree(middle_tree)"
   ]
  },
  {
   "cell_type": "code",
   "execution_count": 94,
   "metadata": {
    "slideshow": {
     "slide_type": "subslide"
    }
   },
   "outputs": [
    {
     "name": "stdout",
     "output_type": "stream",
     "text": [
      "middle:2: getting y\n",
      "middle:2: getting z\n",
      "middle:3: getting x\n",
      "middle:3: getting y\n",
      "middle:5: getting x\n",
      "middle:5: getting z\n",
      "middle:6: getting y\n",
      "middle:6: setting <middle() return value>\n"
     ]
    }
   ],
   "source": [
    "with DataTrackerTester(middle_tree, middle):\n",
    "    middle(2, 1, 3)"
   ]
  },
  {
   "cell_type": "markdown",
   "metadata": {
    "slideshow": {
     "slide_type": "subslide"
    }
   },
   "source": [
    "### End of Excursion"
   ]
  },
  {
   "cell_type": "markdown",
   "metadata": {
    "slideshow": {
     "slide_type": "subslide"
    }
   },
   "source": [
    "To track __control dependencies__, for every block controlled by an `if`, `while`, or `for`:\n",
    "\n",
    "1. We wrap their tests in a `_data.test()` wrapper. This allows us to assign pseudo-variables like `<test>` which hold the conditions.\n",
    "2. We wrap their controlled blocks in a `with` statement. This allows us to track the variables read right before the `with` (= the controlling variables), and to restore the current controlling variables when the block is left.\n",
    "\n",
    "A statement\n",
    "\n",
    "```python\n",
    "if cond:\n",
    "    body\n",
    "```\n",
    "\n",
    "thus becomes\n",
    "\n",
    "```python\n",
    "if _data.test(cond):\n",
    "    with _data:\n",
    "        body\n",
    "```"
   ]
  },
  {
   "cell_type": "markdown",
   "metadata": {
    "slideshow": {
     "slide_type": "subslide"
    }
   },
   "source": [
    "### Excursion: Tracking Control"
   ]
  },
  {
   "cell_type": "markdown",
   "metadata": {
    "slideshow": {
     "slide_type": "fragment"
    }
   },
   "source": [
    "To modify control statements, we traverse the tree, looking for `If` nodes:"
   ]
  },
  {
   "cell_type": "code",
   "execution_count": 95,
   "metadata": {
    "slideshow": {
     "slide_type": "fragment"
    }
   },
   "outputs": [],
   "source": [
    "class TrackControlTransformer(NodeTransformer):\n",
    "    def visit_If(self, node):\n",
    "        self.generic_visit(node)\n",
    "        node.test = self.make_test(node.test)\n",
    "        node.body = self.make_with(node.body)\n",
    "        node.orelse = self.make_with(node.orelse)\n",
    "        return node"
   ]
  },
  {
   "cell_type": "markdown",
   "metadata": {
    "slideshow": {
     "slide_type": "fragment"
    }
   },
   "source": [
    "The subtrees come from helper functions `make_with()` and `make_test()`. Again, all these subtrees are obtained via `ast.dump()`."
   ]
  },
  {
   "cell_type": "code",
   "execution_count": 96,
   "metadata": {
    "slideshow": {
     "slide_type": "subslide"
    }
   },
   "outputs": [],
   "source": [
    "class TrackControlTransformer(TrackControlTransformer):\n",
    "    def make_with(self, block):\n",
    "        \"\"\"Create a subtree 'with _data: BLOCK'\"\"\"\n",
    "        if len(block) == 0:\n",
    "            return []\n",
    "\n",
    "        block_as_text = astor.to_source(block[0])\n",
    "        if block_as_text.startswith('with ' + DATA_TRACKER):\n",
    "            return block  # Do not apply twice\n",
    "\n",
    "        new_node = With(\n",
    "            items=[\n",
    "                withitem(\n",
    "                    context_expr=Name(id=DATA_TRACKER, ctx=Load()),\n",
    "                    optional_vars=None)\n",
    "            ],\n",
    "            body=block\n",
    "        )\n",
    "        ast.copy_location(new_node, block[0])\n",
    "        return [new_node]"
   ]
  },
  {
   "cell_type": "code",
   "execution_count": 97,
   "metadata": {
    "slideshow": {
     "slide_type": "subslide"
    }
   },
   "outputs": [],
   "source": [
    "class TrackControlTransformer(TrackControlTransformer):\n",
    "    def make_test(self, test):\n",
    "        test_as_text = astor.to_source(test)\n",
    "        if test_as_text.startswith(DATA_TRACKER + '.test'):\n",
    "            return test  # Do not apply twice\n",
    "\n",
    "        new_test = Call(func=Attribute(value=Name(id=DATA_TRACKER, ctx=Load()),\n",
    "                                       attr='test',\n",
    "                                       ctx=Load()),\n",
    "                         args=[test],\n",
    "                         keywords=[])\n",
    "        ast.copy_location(new_test, test)\n",
    "        return new_test"
   ]
  },
  {
   "cell_type": "markdown",
   "metadata": {
    "slideshow": {
     "slide_type": "fragment"
    }
   },
   "source": [
    "`while` loops are handled just like `if` constructs."
   ]
  },
  {
   "cell_type": "code",
   "execution_count": 98,
   "metadata": {
    "slideshow": {
     "slide_type": "subslide"
    }
   },
   "outputs": [],
   "source": [
    "class TrackControlTransformer(TrackControlTransformer):\n",
    "    def visit_While(self, node):\n",
    "        self.generic_visit(node)\n",
    "        node.test = self.make_test(node.test)\n",
    "        node.body = self.make_with(node.body)\n",
    "        node.orelse = self.make_with(node.orelse)\n",
    "        return node"
   ]
  },
  {
   "cell_type": "markdown",
   "metadata": {
    "slideshow": {
     "slide_type": "fragment"
    }
   },
   "source": [
    "`for` loops gets a different treatment, as there is no condition that would control the body. Still, we ensure that setting the iterator variable is properly tracked."
   ]
  },
  {
   "cell_type": "code",
   "execution_count": 99,
   "metadata": {
    "slideshow": {
     "slide_type": "subslide"
    }
   },
   "outputs": [],
   "source": [
    "class TrackControlTransformer(TrackControlTransformer):\n",
    "    def visit_For(self, node):\n",
    "        self.generic_visit(node)\n",
    "        id = astor.to_source(node.target).strip()\n",
    "        node.iter = make_set_data(id, node.iter)\n",
    "\n",
    "        # Uncomment if you want iterators to control their bodies\n",
    "        # node.body = self.make_with(node.body)\n",
    "        # node.orelse = self.make_with(node.orelse)\n",
    "        return node\n",
    "\n",
    "    def visit_AsyncFor(self, node):\n",
    "        return self.visit_For(node)"
   ]
  },
  {
   "cell_type": "markdown",
   "metadata": {
    "slideshow": {
     "slide_type": "fragment"
    }
   },
   "source": [
    "Here is the effect of `TrackControlTransformer`:"
   ]
  },
  {
   "cell_type": "code",
   "execution_count": 100,
   "metadata": {
    "slideshow": {
     "slide_type": "subslide"
    }
   },
   "outputs": [
    {
     "name": "stdout",
     "output_type": "stream",
     "text": [
      "\u001b[34mdef\u001b[39;49;00m \u001b[32mmiddle\u001b[39;49;00m(x, y, z):\n",
      "    \u001b[34mif\u001b[39;49;00m _data.test(_data.get(\u001b[33m'\u001b[39;49;00m\u001b[33my\u001b[39;49;00m\u001b[33m'\u001b[39;49;00m, y) < _data.get(\u001b[33m'\u001b[39;49;00m\u001b[33mz\u001b[39;49;00m\u001b[33m'\u001b[39;49;00m, z)):\n",
      "        \u001b[34mwith\u001b[39;49;00m _data:\n",
      "            \u001b[34mif\u001b[39;49;00m _data.test(_data.get(\u001b[33m'\u001b[39;49;00m\u001b[33mx\u001b[39;49;00m\u001b[33m'\u001b[39;49;00m, x) < _data.get(\u001b[33m'\u001b[39;49;00m\u001b[33my\u001b[39;49;00m\u001b[33m'\u001b[39;49;00m, y)):\n",
      "                \u001b[34mwith\u001b[39;49;00m _data:\n",
      "                    \u001b[34mreturn\u001b[39;49;00m _data.set(\u001b[33m'\u001b[39;49;00m\u001b[33m<middle() return value>\u001b[39;49;00m\u001b[33m'\u001b[39;49;00m, _data.get(\n",
      "                        \u001b[33m'\u001b[39;49;00m\u001b[33my\u001b[39;49;00m\u001b[33m'\u001b[39;49;00m, y))\n",
      "            \u001b[34melse\u001b[39;49;00m:\n",
      "                \u001b[34mwith\u001b[39;49;00m _data:\n",
      "                    \u001b[34mif\u001b[39;49;00m _data.test(_data.get(\u001b[33m'\u001b[39;49;00m\u001b[33mx\u001b[39;49;00m\u001b[33m'\u001b[39;49;00m, x) < _data.get(\u001b[33m'\u001b[39;49;00m\u001b[33mz\u001b[39;49;00m\u001b[33m'\u001b[39;49;00m, z)):\n",
      "                        \u001b[34mwith\u001b[39;49;00m _data:\n",
      "                            \u001b[34mreturn\u001b[39;49;00m _data.set(\u001b[33m'\u001b[39;49;00m\u001b[33m<middle() return value>\u001b[39;49;00m\u001b[33m'\u001b[39;49;00m,\n",
      "                                _data.get(\u001b[33m'\u001b[39;49;00m\u001b[33my\u001b[39;49;00m\u001b[33m'\u001b[39;49;00m, y))\n",
      "    \u001b[34melse\u001b[39;49;00m:\n",
      "        \u001b[34mwith\u001b[39;49;00m _data:\n",
      "            \u001b[34mif\u001b[39;49;00m _data.test(_data.get(\u001b[33m'\u001b[39;49;00m\u001b[33mx\u001b[39;49;00m\u001b[33m'\u001b[39;49;00m, x) > _data.get(\u001b[33m'\u001b[39;49;00m\u001b[33my\u001b[39;49;00m\u001b[33m'\u001b[39;49;00m, y)):\n",
      "                \u001b[34mwith\u001b[39;49;00m _data:\n",
      "                    \u001b[34mreturn\u001b[39;49;00m _data.set(\u001b[33m'\u001b[39;49;00m\u001b[33m<middle() return value>\u001b[39;49;00m\u001b[33m'\u001b[39;49;00m, _data.get(\n",
      "                        \u001b[33m'\u001b[39;49;00m\u001b[33my\u001b[39;49;00m\u001b[33m'\u001b[39;49;00m, y))\n",
      "            \u001b[34melse\u001b[39;49;00m:\n",
      "                \u001b[34mwith\u001b[39;49;00m _data:\n",
      "                    \u001b[34mif\u001b[39;49;00m _data.test(_data.get(\u001b[33m'\u001b[39;49;00m\u001b[33mx\u001b[39;49;00m\u001b[33m'\u001b[39;49;00m, x) > _data.get(\u001b[33m'\u001b[39;49;00m\u001b[33mz\u001b[39;49;00m\u001b[33m'\u001b[39;49;00m, z)):\n",
      "                        \u001b[34mwith\u001b[39;49;00m _data:\n",
      "                            \u001b[34mreturn\u001b[39;49;00m _data.set(\u001b[33m'\u001b[39;49;00m\u001b[33m<middle() return value>\u001b[39;49;00m\u001b[33m'\u001b[39;49;00m,\n",
      "                                _data.get(\u001b[33m'\u001b[39;49;00m\u001b[33mx\u001b[39;49;00m\u001b[33m'\u001b[39;49;00m, x))\n",
      "    \u001b[34mreturn\u001b[39;49;00m _data.set(\u001b[33m'\u001b[39;49;00m\u001b[33m<middle() return value>\u001b[39;49;00m\u001b[33m'\u001b[39;49;00m, _data.get(\u001b[33m'\u001b[39;49;00m\u001b[33mz\u001b[39;49;00m\u001b[33m'\u001b[39;49;00m, z))"
     ]
    }
   ],
   "source": [
    "TrackControlTransformer().visit(middle_tree)\n",
    "dump_tree(middle_tree)"
   ]
  },
  {
   "cell_type": "markdown",
   "metadata": {
    "slideshow": {
     "slide_type": "subslide"
    }
   },
   "source": [
    "We extend `DataTracker` to also log these events:"
   ]
  },
  {
   "cell_type": "code",
   "execution_count": 101,
   "metadata": {
    "slideshow": {
     "slide_type": "fragment"
    }
   },
   "outputs": [],
   "source": [
    "class DataTracker(DataTracker):\n",
    "    def test(self, cond):\n",
    "        if self.log:\n",
    "            code_name, lineno = self.caller_location()\n",
    "            print(f\"{code_name}:{lineno}: testing condition\")\n",
    "\n",
    "        return cond"
   ]
  },
  {
   "cell_type": "code",
   "execution_count": 102,
   "metadata": {
    "slideshow": {
     "slide_type": "subslide"
    }
   },
   "outputs": [],
   "source": [
    "class DataTracker(DataTracker):\n",
    "    def __enter__(self):\n",
    "        if self.log:\n",
    "            code_name, lineno = self.caller_location()\n",
    "            print(f\"{code_name}:{lineno}: entering block\")\n",
    "\n",
    "    def __exit__(self, exc_type, exc_value, traceback):\n",
    "        if self.log:\n",
    "            code_name, lineno = self.caller_location()\n",
    "            print(f\"{code_name}:{lineno}: exiting block\")"
   ]
  },
  {
   "cell_type": "code",
   "execution_count": 103,
   "metadata": {
    "slideshow": {
     "slide_type": "subslide"
    }
   },
   "outputs": [
    {
     "name": "stdout",
     "output_type": "stream",
     "text": [
      "middle:2: getting y\n",
      "middle:2: getting z\n",
      "middle:2: testing condition\n",
      "middle:3: entering block\n",
      "middle:3: getting x\n",
      "middle:3: getting y\n",
      "middle:3: testing condition\n",
      "middle:5: entering block\n",
      "middle:5: getting x\n",
      "middle:5: getting z\n",
      "middle:5: testing condition\n",
      "middle:6: entering block\n",
      "middle:6: getting y\n",
      "middle:6: setting <middle() return value>\n",
      "middle:6: exiting block\n",
      "middle:6: exiting block\n",
      "middle:6: exiting block\n"
     ]
    }
   ],
   "source": [
    "with DataTrackerTester(middle_tree, middle):\n",
    "    middle(2, 1, 3)"
   ]
  },
  {
   "cell_type": "markdown",
   "metadata": {
    "slideshow": {
     "slide_type": "subslide"
    }
   },
   "source": [
    "### End of Excursion"
   ]
  },
  {
   "cell_type": "markdown",
   "metadata": {
    "slideshow": {
     "slide_type": "subslide"
    }
   },
   "source": [
    "We also want to be able to __track calls__ across multiple functions. To this end, we wrap each call\n",
    "\n",
    "```python\n",
    "func(arg1, arg2, ...)\n",
    "```\n",
    "\n",
    "into\n",
    "\n",
    "```python\n",
    "_data.ret(_data.call(func)(_data.arg(arg1), _data.arg(arg2), ...))\n",
    "```\n",
    "\n",
    "each of which simply pass through their given argument, but which allow to track the beginning of calls (`call()`), the computation of arguments (`arg()`), and the return of the call (`ret()`), respectively."
   ]
  },
  {
   "cell_type": "markdown",
   "metadata": {
    "slideshow": {
     "slide_type": "subslide"
    }
   },
   "source": [
    "### Excursion: Tracking Calls and Arguments"
   ]
  },
  {
   "cell_type": "markdown",
   "metadata": {
    "slideshow": {
     "slide_type": "fragment"
    }
   },
   "source": [
    "Our `TrackCallTransformer` visits all `Call` nodes, applying the transformations as shown above."
   ]
  },
  {
   "cell_type": "code",
   "execution_count": 104,
   "metadata": {
    "slideshow": {
     "slide_type": "subslide"
    }
   },
   "outputs": [],
   "source": [
    "class TrackCallTransformer(NodeTransformer):\n",
    "    def make_call(self, node, func, pos=None, kw=None):\n",
    "        \"\"\"Return _data.call(FUNC)(NODE)\"\"\"\n",
    "        keywords = []\n",
    "\n",
    "        # `Num()` and `Str()` are deprecated in favor of `Constant()`\n",
    "        if pos:\n",
    "            keywords.append(keyword(arg='pos', value=Num(pos)))\n",
    "        if kw:\n",
    "            keywords.append(keyword(arg='kw', value=Str(kw)))\n",
    "\n",
    "        return Call(func=Attribute(value=Name(id=DATA_TRACKER,\n",
    "                                              ctx=Load()),\n",
    "                                   attr=func,\n",
    "                                   ctx=Load()),\n",
    "                     args=[node],\n",
    "                     keywords=keywords)\n",
    "\n",
    "    def visit_Call(self, node):\n",
    "        self.generic_visit(node)\n",
    "\n",
    "        call_as_text = astor.to_source(node)\n",
    "        if call_as_text.startswith(DATA_TRACKER + '.ret'):\n",
    "            return node  # Already applied\n",
    "\n",
    "        func_as_text = astor.to_source(node)\n",
    "        if func_as_text.startswith(DATA_TRACKER + '.'):\n",
    "            return node  # Own function\n",
    "\n",
    "        new_args = []\n",
    "        for n, arg in enumerate(node.args):\n",
    "            new_args.append(self.make_call(arg, 'arg', pos=n + 1))\n",
    "        node.args = new_args\n",
    "\n",
    "        for kw in node.keywords:\n",
    "            id = kw.arg if hasattr(kw, 'arg') else None\n",
    "            kw.value = self.make_call(kw.value, 'arg', kw=id)\n",
    "\n",
    "        node.func = self.make_call(node.func, 'call')\n",
    "        return self.make_call(node, 'ret')"
   ]
  },
  {
   "cell_type": "markdown",
   "metadata": {
    "slideshow": {
     "slide_type": "subslide"
    }
   },
   "source": [
    "Our example function `middle()` does not contain any calls, but here is a function that invokes `middle()` twice:"
   ]
  },
  {
   "cell_type": "code",
   "execution_count": 105,
   "metadata": {
    "slideshow": {
     "slide_type": "fragment"
    }
   },
   "outputs": [],
   "source": [
    "def test_call():\n",
    "    x = middle(1, 2, z=middle(1, 2, 3))\n",
    "    return x"
   ]
  },
  {
   "cell_type": "code",
   "execution_count": 106,
   "metadata": {
    "slideshow": {
     "slide_type": "fragment"
    }
   },
   "outputs": [
    {
     "name": "stdout",
     "output_type": "stream",
     "text": [
      "\u001b[34mdef\u001b[39;49;00m \u001b[32mtest_call\u001b[39;49;00m():\n",
      "    x = middle(\u001b[34m1\u001b[39;49;00m, \u001b[34m2\u001b[39;49;00m, z=middle(\u001b[34m1\u001b[39;49;00m, \u001b[34m2\u001b[39;49;00m, \u001b[34m3\u001b[39;49;00m))\n",
      "    \u001b[34mreturn\u001b[39;49;00m x"
     ]
    }
   ],
   "source": [
    "call_tree = ast.parse(inspect.getsource(test_call))\n",
    "dump_tree(call_tree)"
   ]
  },
  {
   "cell_type": "markdown",
   "metadata": {
    "slideshow": {
     "slide_type": "fragment"
    }
   },
   "source": [
    "If we invoke `TrackCallTransformer` on this testing function, we get the following transformed code:"
   ]
  },
  {
   "cell_type": "code",
   "execution_count": 107,
   "metadata": {
    "slideshow": {
     "slide_type": "fragment"
    }
   },
   "outputs": [],
   "source": [
    "TrackCallTransformer().visit(call_tree);"
   ]
  },
  {
   "cell_type": "code",
   "execution_count": 108,
   "metadata": {
    "slideshow": {
     "slide_type": "subslide"
    }
   },
   "outputs": [
    {
     "name": "stdout",
     "output_type": "stream",
     "text": [
      "\u001b[34mdef\u001b[39;49;00m \u001b[32mtest_call\u001b[39;49;00m():\n",
      "    x = _data.ret(_data.call(middle)(_data.arg(\u001b[34m1\u001b[39;49;00m, pos=\u001b[34m1\u001b[39;49;00m), _data.arg(\u001b[34m2\u001b[39;49;00m, pos=\n",
      "        \u001b[34m2\u001b[39;49;00m), z=_data.arg(_data.ret(_data.call(middle)(_data.arg(\u001b[34m1\u001b[39;49;00m, pos=\u001b[34m1\u001b[39;49;00m),\n",
      "        _data.arg(\u001b[34m2\u001b[39;49;00m, pos=\u001b[34m2\u001b[39;49;00m), _data.arg(\u001b[34m3\u001b[39;49;00m, pos=\u001b[34m3\u001b[39;49;00m))), kw=\u001b[33m'\u001b[39;49;00m\u001b[33mz\u001b[39;49;00m\u001b[33m'\u001b[39;49;00m)))\n",
      "    \u001b[34mreturn\u001b[39;49;00m x"
     ]
    }
   ],
   "source": [
    "dump_tree(call_tree)"
   ]
  },
  {
   "cell_type": "code",
   "execution_count": 109,
   "metadata": {
    "slideshow": {
     "slide_type": "fragment"
    }
   },
   "outputs": [],
   "source": [
    "def f():\n",
    "    return math.isclose(1, 1.0)"
   ]
  },
  {
   "cell_type": "code",
   "execution_count": 110,
   "metadata": {
    "slideshow": {
     "slide_type": "fragment"
    }
   },
   "outputs": [
    {
     "name": "stdout",
     "output_type": "stream",
     "text": [
      "\u001b[34mdef\u001b[39;49;00m \u001b[32mf\u001b[39;49;00m():\n",
      "    \u001b[34mreturn\u001b[39;49;00m math.isclose(\u001b[34m1\u001b[39;49;00m, \u001b[34m1.0\u001b[39;49;00m)"
     ]
    }
   ],
   "source": [
    "f_tree = ast.parse(inspect.getsource(f))\n",
    "dump_tree(f_tree)"
   ]
  },
  {
   "cell_type": "code",
   "execution_count": 111,
   "metadata": {
    "slideshow": {
     "slide_type": "fragment"
    }
   },
   "outputs": [],
   "source": [
    "TrackCallTransformer().visit(f_tree);"
   ]
  },
  {
   "cell_type": "code",
   "execution_count": 112,
   "metadata": {
    "slideshow": {
     "slide_type": "subslide"
    }
   },
   "outputs": [
    {
     "name": "stdout",
     "output_type": "stream",
     "text": [
      "\u001b[34mdef\u001b[39;49;00m \u001b[32mf\u001b[39;49;00m():\n",
      "    \u001b[34mreturn\u001b[39;49;00m _data.ret(_data.call(math.isclose)(_data.arg(\u001b[34m1\u001b[39;49;00m, pos=\u001b[34m1\u001b[39;49;00m), _data.\n",
      "        arg(\u001b[34m1.0\u001b[39;49;00m, pos=\u001b[34m2\u001b[39;49;00m)))"
     ]
    }
   ],
   "source": [
    "dump_tree(f_tree)"
   ]
  },
  {
   "cell_type": "markdown",
   "metadata": {
    "slideshow": {
     "slide_type": "fragment"
    }
   },
   "source": [
    "As before, our default `arg()`, `ret()`, and `call()` methods simply log the event and pass through the given value."
   ]
  },
  {
   "cell_type": "code",
   "execution_count": 113,
   "metadata": {
    "slideshow": {
     "slide_type": "subslide"
    }
   },
   "outputs": [],
   "source": [
    "class DataTracker(DataTracker):\n",
    "    def arg(self, value, pos=None, kw=None):\n",
    "        if self.log:\n",
    "            code_name, lineno = self.caller_location()\n",
    "            info = \"\"\n",
    "            if pos:\n",
    "                info += f\" #{pos}\"\n",
    "            if kw:\n",
    "                info += f\" {repr(kw)}\"\n",
    "\n",
    "            print(f\"{code_name}:{lineno}: pushing arg{info}\")\n",
    "\n",
    "        return value"
   ]
  },
  {
   "cell_type": "code",
   "execution_count": 114,
   "metadata": {
    "slideshow": {
     "slide_type": "subslide"
    }
   },
   "outputs": [],
   "source": [
    "class DataTracker(DataTracker):\n",
    "    def ret(self, value):\n",
    "        if self.log:\n",
    "            code_name, lineno = self.caller_location()\n",
    "            print(f\"{code_name}:{lineno}: returned from call\")\n",
    "\n",
    "        return value"
   ]
  },
  {
   "cell_type": "code",
   "execution_count": 115,
   "metadata": {
    "slideshow": {
     "slide_type": "fragment"
    }
   },
   "outputs": [],
   "source": [
    "class DataTracker(DataTracker):\n",
    "    def call(self, func):\n",
    "        if self.log:\n",
    "            code_name, lineno = self.caller_location()\n",
    "            print(f\"{code_name}:{lineno}: calling {func}\")\n",
    "\n",
    "        return func"
   ]
  },
  {
   "cell_type": "code",
   "execution_count": 116,
   "metadata": {
    "slideshow": {
     "slide_type": "subslide"
    }
   },
   "outputs": [
    {
     "name": "stdout",
     "output_type": "stream",
     "text": [
      "test_call:2: calling <function middle at 0x7f83c3ef5840>\n",
      "test_call:2: pushing arg #1\n",
      "test_call:2: pushing arg #2\n",
      "test_call:2: calling <function middle at 0x7f83c3ef5840>\n",
      "test_call:2: pushing arg #1\n",
      "test_call:2: pushing arg #2\n",
      "test_call:2: pushing arg #3\n",
      "test_call:2: returned from call\n",
      "test_call:2: pushing arg 'z'\n",
      "test_call:2: returned from call\n"
     ]
    }
   ],
   "source": [
    "with DataTrackerTester(call_tree, test_call):\n",
    "    test_call()"
   ]
  },
  {
   "cell_type": "markdown",
   "metadata": {
    "slideshow": {
     "slide_type": "subslide"
    }
   },
   "source": [
    "### End of Excursion"
   ]
  },
  {
   "cell_type": "markdown",
   "metadata": {
    "slideshow": {
     "slide_type": "fragment"
    }
   },
   "source": [
    "On the receiving end, for each function argument `x`, we insert a call `_data.param('x', x, [position info])` to initialize `x`. This is useful for __tracking parameters across function calls.__"
   ]
  },
  {
   "cell_type": "markdown",
   "metadata": {
    "slideshow": {
     "slide_type": "subslide"
    }
   },
   "source": [
    "### Excursion: Tracking Parameters"
   ]
  },
  {
   "cell_type": "markdown",
   "metadata": {
    "slideshow": {
     "slide_type": "fragment"
    }
   },
   "source": [
    "Again, we use `ast.dump()` to determine the correct syntax tree:"
   ]
  },
  {
   "cell_type": "code",
   "execution_count": 117,
   "metadata": {
    "slideshow": {
     "slide_type": "fragment"
    }
   },
   "outputs": [
    {
     "name": "stdout",
     "output_type": "stream",
     "text": [
      "Module(body=[Expr(value=Call(func=Attribute(value=Name(id='_data', ctx=Load()), attr='param', ctx=Load()), args=[Str(s='x'), Name(id='x', ctx=Load())], keywords=[keyword(arg='pos', value=Num(n=1))]))])\n"
     ]
    }
   ],
   "source": [
    "print(ast.dump(ast.parse(\"_data.param('x', x, pos=1)\")))"
   ]
  },
  {
   "cell_type": "code",
   "execution_count": 118,
   "metadata": {
    "slideshow": {
     "slide_type": "subslide"
    }
   },
   "outputs": [],
   "source": [
    "class TrackParamsTransformer(NodeTransformer):\n",
    "    def visit_FunctionDef(self, node):\n",
    "        self.generic_visit(node)\n",
    "\n",
    "        named_args = []\n",
    "        for child in ast.iter_child_nodes(node.args):\n",
    "            if isinstance(child, ast.arg):\n",
    "                named_args.append(child)\n",
    "\n",
    "        create_stmts = []\n",
    "        for n, child in enumerate(named_args):\n",
    "            keywords=[keyword(arg='pos', value=Num(n=n + 1))]\n",
    "            if child is node.args.vararg:\n",
    "                keywords.append(keyword(arg='vararg', value=Str(s='*')))\n",
    "            if child is node.args.kwarg:\n",
    "                keywords.append(keyword(arg='vararg', value=Str(s='**')))\n",
    "\n",
    "            create_stmt = Expr(\n",
    "                value=Call(\n",
    "                    func=Attribute(value=Name(id=DATA_TRACKER, ctx=Load()),\n",
    "                                   attr='param', ctx=Load()),\n",
    "                    args=[Str(s=child.arg),\n",
    "                          Name(id=child.arg, ctx=Load())\n",
    "                         ],\n",
    "                    keywords=keywords\n",
    "                )\n",
    "            )\n",
    "            ast.copy_location(create_stmt, node)\n",
    "            create_stmts.append(create_stmt)\n",
    "\n",
    "        node.body = create_stmts + node.body\n",
    "        return node"
   ]
  },
  {
   "cell_type": "markdown",
   "metadata": {
    "slideshow": {
     "slide_type": "subslide"
    }
   },
   "source": [
    "This is the effect of `TrackParamsTransformer()`. You see how the first three parameters are all initialized."
   ]
  },
  {
   "cell_type": "code",
   "execution_count": 119,
   "metadata": {
    "slideshow": {
     "slide_type": "subslide"
    }
   },
   "outputs": [
    {
     "name": "stdout",
     "output_type": "stream",
     "text": [
      "\u001b[34mdef\u001b[39;49;00m \u001b[32mmiddle\u001b[39;49;00m(x, y, z):\n",
      "    _data.param(\u001b[33m'\u001b[39;49;00m\u001b[33mx\u001b[39;49;00m\u001b[33m'\u001b[39;49;00m, x, pos=\u001b[34m1\u001b[39;49;00m)\n",
      "    _data.param(\u001b[33m'\u001b[39;49;00m\u001b[33my\u001b[39;49;00m\u001b[33m'\u001b[39;49;00m, y, pos=\u001b[34m2\u001b[39;49;00m)\n",
      "    _data.param(\u001b[33m'\u001b[39;49;00m\u001b[33mz\u001b[39;49;00m\u001b[33m'\u001b[39;49;00m, z, pos=\u001b[34m3\u001b[39;49;00m)\n",
      "    \u001b[34mif\u001b[39;49;00m _data.test(_data.get(\u001b[33m'\u001b[39;49;00m\u001b[33my\u001b[39;49;00m\u001b[33m'\u001b[39;49;00m, y) < _data.get(\u001b[33m'\u001b[39;49;00m\u001b[33mz\u001b[39;49;00m\u001b[33m'\u001b[39;49;00m, z)):\n",
      "        \u001b[34mwith\u001b[39;49;00m _data:\n",
      "            \u001b[34mif\u001b[39;49;00m _data.test(_data.get(\u001b[33m'\u001b[39;49;00m\u001b[33mx\u001b[39;49;00m\u001b[33m'\u001b[39;49;00m, x) < _data.get(\u001b[33m'\u001b[39;49;00m\u001b[33my\u001b[39;49;00m\u001b[33m'\u001b[39;49;00m, y)):\n",
      "                \u001b[34mwith\u001b[39;49;00m _data:\n",
      "                    \u001b[34mreturn\u001b[39;49;00m _data.set(\u001b[33m'\u001b[39;49;00m\u001b[33m<middle() return value>\u001b[39;49;00m\u001b[33m'\u001b[39;49;00m, _data.get(\n",
      "                        \u001b[33m'\u001b[39;49;00m\u001b[33my\u001b[39;49;00m\u001b[33m'\u001b[39;49;00m, y))\n",
      "            \u001b[34melse\u001b[39;49;00m:\n",
      "                \u001b[34mwith\u001b[39;49;00m _data:\n",
      "                    \u001b[34mif\u001b[39;49;00m _data.test(_data.get(\u001b[33m'\u001b[39;49;00m\u001b[33mx\u001b[39;49;00m\u001b[33m'\u001b[39;49;00m, x) < _data.get(\u001b[33m'\u001b[39;49;00m\u001b[33mz\u001b[39;49;00m\u001b[33m'\u001b[39;49;00m, z)):\n",
      "                        \u001b[34mwith\u001b[39;49;00m _data:\n",
      "                            \u001b[34mreturn\u001b[39;49;00m _data.set(\u001b[33m'\u001b[39;49;00m\u001b[33m<middle() return value>\u001b[39;49;00m\u001b[33m'\u001b[39;49;00m,\n",
      "                                _data.get(\u001b[33m'\u001b[39;49;00m\u001b[33my\u001b[39;49;00m\u001b[33m'\u001b[39;49;00m, y))\n",
      "    \u001b[34melse\u001b[39;49;00m:\n",
      "        \u001b[34mwith\u001b[39;49;00m _data:\n",
      "            \u001b[34mif\u001b[39;49;00m _data.test(_data.get(\u001b[33m'\u001b[39;49;00m\u001b[33mx\u001b[39;49;00m\u001b[33m'\u001b[39;49;00m, x) > _data.get(\u001b[33m'\u001b[39;49;00m\u001b[33my\u001b[39;49;00m\u001b[33m'\u001b[39;49;00m, y)):\n",
      "                \u001b[34mwith\u001b[39;49;00m _data:\n",
      "                    \u001b[34mreturn\u001b[39;49;00m _data.set(\u001b[33m'\u001b[39;49;00m\u001b[33m<middle() return value>\u001b[39;49;00m\u001b[33m'\u001b[39;49;00m, _data.get(\n",
      "                        \u001b[33m'\u001b[39;49;00m\u001b[33my\u001b[39;49;00m\u001b[33m'\u001b[39;49;00m, y))\n",
      "            \u001b[34melse\u001b[39;49;00m:\n",
      "                \u001b[34mwith\u001b[39;49;00m _data:\n",
      "                    \u001b[34mif\u001b[39;49;00m _data.test(_data.get(\u001b[33m'\u001b[39;49;00m\u001b[33mx\u001b[39;49;00m\u001b[33m'\u001b[39;49;00m, x) > _data.get(\u001b[33m'\u001b[39;49;00m\u001b[33mz\u001b[39;49;00m\u001b[33m'\u001b[39;49;00m, z)):\n",
      "                        \u001b[34mwith\u001b[39;49;00m _data:\n",
      "                            \u001b[34mreturn\u001b[39;49;00m _data.set(\u001b[33m'\u001b[39;49;00m\u001b[33m<middle() return value>\u001b[39;49;00m\u001b[33m'\u001b[39;49;00m,\n",
      "                                _data.get(\u001b[33m'\u001b[39;49;00m\u001b[33mx\u001b[39;49;00m\u001b[33m'\u001b[39;49;00m, x))\n",
      "    \u001b[34mreturn\u001b[39;49;00m _data.set(\u001b[33m'\u001b[39;49;00m\u001b[33m<middle() return value>\u001b[39;49;00m\u001b[33m'\u001b[39;49;00m, _data.get(\u001b[33m'\u001b[39;49;00m\u001b[33mz\u001b[39;49;00m\u001b[33m'\u001b[39;49;00m, z))"
     ]
    }
   ],
   "source": [
    "TrackParamsTransformer().visit(middle_tree)\n",
    "dump_tree(middle_tree)"
   ]
  },
  {
   "cell_type": "markdown",
   "metadata": {
    "slideshow": {
     "slide_type": "subslide"
    }
   },
   "source": [
    "By default, the `DataTracker` `param()` method simply calls `set()` to set variables."
   ]
  },
  {
   "cell_type": "code",
   "execution_count": 120,
   "metadata": {
    "slideshow": {
     "slide_type": "fragment"
    }
   },
   "outputs": [],
   "source": [
    "class DataTracker(DataTracker):\n",
    "    def param(self, name, value, pos=None, vararg=\"\"):\n",
    "        if self.log:\n",
    "            code_name, lineno = self.caller_location()\n",
    "            info = \"\"\n",
    "            if pos is not None:\n",
    "                info += f\" #{pos}\"\n",
    "\n",
    "            print(f\"{code_name}:{lineno}: initializing {vararg}{name}{info}\")\n",
    "\n",
    "        return self.set(name, value)"
   ]
  },
  {
   "cell_type": "code",
   "execution_count": 121,
   "metadata": {
    "slideshow": {
     "slide_type": "subslide"
    }
   },
   "outputs": [
    {
     "name": "stdout",
     "output_type": "stream",
     "text": [
      "middle:1: initializing x #1\n",
      "middle:1: setting x\n",
      "middle:1: initializing y #2\n",
      "middle:1: setting y\n",
      "middle:1: initializing z #3\n",
      "middle:1: setting z\n",
      "middle:2: getting y\n",
      "middle:2: getting z\n",
      "middle:2: testing condition\n",
      "middle:3: entering block\n",
      "middle:3: getting x\n",
      "middle:3: getting y\n",
      "middle:3: testing condition\n",
      "middle:5: entering block\n",
      "middle:5: getting x\n",
      "middle:5: getting z\n",
      "middle:5: testing condition\n",
      "middle:6: entering block\n",
      "middle:6: getting y\n",
      "middle:6: setting <middle() return value>\n",
      "middle:6: exiting block\n",
      "middle:6: exiting block\n",
      "middle:6: exiting block\n"
     ]
    }
   ],
   "source": [
    "with DataTrackerTester(middle_tree, middle):\n",
    "    middle(2, 1, 3)"
   ]
  },
  {
   "cell_type": "code",
   "execution_count": 122,
   "metadata": {
    "slideshow": {
     "slide_type": "subslide"
    }
   },
   "outputs": [],
   "source": [
    "def args_test(x, *args, **kwargs):\n",
    "    print(x, *args, **kwargs)"
   ]
  },
  {
   "cell_type": "code",
   "execution_count": 123,
   "metadata": {
    "slideshow": {
     "slide_type": "fragment"
    }
   },
   "outputs": [
    {
     "name": "stdout",
     "output_type": "stream",
     "text": [
      "\u001b[34mdef\u001b[39;49;00m \u001b[32margs_test\u001b[39;49;00m(x, *args, **kwargs):\n",
      "    _data.param(\u001b[33m'\u001b[39;49;00m\u001b[33mx\u001b[39;49;00m\u001b[33m'\u001b[39;49;00m, x, pos=\u001b[34m1\u001b[39;49;00m)\n",
      "    _data.param(\u001b[33m'\u001b[39;49;00m\u001b[33margs\u001b[39;49;00m\u001b[33m'\u001b[39;49;00m, args, pos=\u001b[34m2\u001b[39;49;00m, vararg=\u001b[33m'\u001b[39;49;00m\u001b[33m*\u001b[39;49;00m\u001b[33m'\u001b[39;49;00m)\n",
      "    _data.param(\u001b[33m'\u001b[39;49;00m\u001b[33mkwargs\u001b[39;49;00m\u001b[33m'\u001b[39;49;00m, kwargs, pos=\u001b[34m3\u001b[39;49;00m, vararg=\u001b[33m'\u001b[39;49;00m\u001b[33m**\u001b[39;49;00m\u001b[33m'\u001b[39;49;00m)\n",
      "    \u001b[36mprint\u001b[39;49;00m(x, *args, **kwargs)"
     ]
    }
   ],
   "source": [
    "args_tree = ast.parse(inspect.getsource(args_test))\n",
    "TrackParamsTransformer().visit(args_tree)\n",
    "dump_tree(args_tree)"
   ]
  },
  {
   "cell_type": "code",
   "execution_count": 124,
   "metadata": {
    "slideshow": {
     "slide_type": "subslide"
    }
   },
   "outputs": [
    {
     "name": "stdout",
     "output_type": "stream",
     "text": [
      "args_test:1: initializing x #1\n",
      "args_test:1: setting x\n",
      "args_test:1: initializing *args #2\n",
      "args_test:1: setting args\n",
      "args_test:1: initializing **kwargs #3\n",
      "args_test:1: setting kwargs\n",
      "1 2 3\n"
     ]
    }
   ],
   "source": [
    "with DataTrackerTester(args_tree, args_test):\n",
    "    args_test(1, 2, 3)"
   ]
  },
  {
   "cell_type": "markdown",
   "metadata": {
    "slideshow": {
     "slide_type": "subslide"
    }
   },
   "source": [
    "### End of Excursion"
   ]
  },
  {
   "cell_type": "markdown",
   "metadata": {
    "slideshow": {
     "slide_type": "fragment"
    }
   },
   "source": [
    "What do we obtain after we have applied all these transformers on `middle()`? We see that the code now contains quite a load of instrumentation."
   ]
  },
  {
   "cell_type": "code",
   "execution_count": 125,
   "metadata": {
    "slideshow": {
     "slide_type": "subslide"
    }
   },
   "outputs": [
    {
     "name": "stdout",
     "output_type": "stream",
     "text": [
      "\u001b[34mdef\u001b[39;49;00m \u001b[32mmiddle\u001b[39;49;00m(x, y, z):\n",
      "    _data.param(\u001b[33m'\u001b[39;49;00m\u001b[33mx\u001b[39;49;00m\u001b[33m'\u001b[39;49;00m, x, pos=\u001b[34m1\u001b[39;49;00m)\n",
      "    _data.param(\u001b[33m'\u001b[39;49;00m\u001b[33my\u001b[39;49;00m\u001b[33m'\u001b[39;49;00m, y, pos=\u001b[34m2\u001b[39;49;00m)\n",
      "    _data.param(\u001b[33m'\u001b[39;49;00m\u001b[33mz\u001b[39;49;00m\u001b[33m'\u001b[39;49;00m, z, pos=\u001b[34m3\u001b[39;49;00m)\n",
      "    \u001b[34mif\u001b[39;49;00m _data.test(_data.get(\u001b[33m'\u001b[39;49;00m\u001b[33my\u001b[39;49;00m\u001b[33m'\u001b[39;49;00m, y) < _data.get(\u001b[33m'\u001b[39;49;00m\u001b[33mz\u001b[39;49;00m\u001b[33m'\u001b[39;49;00m, z)):\n",
      "        \u001b[34mwith\u001b[39;49;00m _data:\n",
      "            \u001b[34mif\u001b[39;49;00m _data.test(_data.get(\u001b[33m'\u001b[39;49;00m\u001b[33mx\u001b[39;49;00m\u001b[33m'\u001b[39;49;00m, x) < _data.get(\u001b[33m'\u001b[39;49;00m\u001b[33my\u001b[39;49;00m\u001b[33m'\u001b[39;49;00m, y)):\n",
      "                \u001b[34mwith\u001b[39;49;00m _data:\n",
      "                    \u001b[34mreturn\u001b[39;49;00m _data.set(\u001b[33m'\u001b[39;49;00m\u001b[33m<middle() return value>\u001b[39;49;00m\u001b[33m'\u001b[39;49;00m, _data.get(\n",
      "                        \u001b[33m'\u001b[39;49;00m\u001b[33my\u001b[39;49;00m\u001b[33m'\u001b[39;49;00m, y))\n",
      "            \u001b[34melse\u001b[39;49;00m:\n",
      "                \u001b[34mwith\u001b[39;49;00m _data:\n",
      "                    \u001b[34mif\u001b[39;49;00m _data.test(_data.get(\u001b[33m'\u001b[39;49;00m\u001b[33mx\u001b[39;49;00m\u001b[33m'\u001b[39;49;00m, x) < _data.get(\u001b[33m'\u001b[39;49;00m\u001b[33mz\u001b[39;49;00m\u001b[33m'\u001b[39;49;00m, z)):\n",
      "                        \u001b[34mwith\u001b[39;49;00m _data:\n",
      "                            \u001b[34mreturn\u001b[39;49;00m _data.set(\u001b[33m'\u001b[39;49;00m\u001b[33m<middle() return value>\u001b[39;49;00m\u001b[33m'\u001b[39;49;00m,\n",
      "                                _data.get(\u001b[33m'\u001b[39;49;00m\u001b[33my\u001b[39;49;00m\u001b[33m'\u001b[39;49;00m, y))\n",
      "    \u001b[34melse\u001b[39;49;00m:\n",
      "        \u001b[34mwith\u001b[39;49;00m _data:\n",
      "            \u001b[34mif\u001b[39;49;00m _data.test(_data.get(\u001b[33m'\u001b[39;49;00m\u001b[33mx\u001b[39;49;00m\u001b[33m'\u001b[39;49;00m, x) > _data.get(\u001b[33m'\u001b[39;49;00m\u001b[33my\u001b[39;49;00m\u001b[33m'\u001b[39;49;00m, y)):\n",
      "                \u001b[34mwith\u001b[39;49;00m _data:\n",
      "                    \u001b[34mreturn\u001b[39;49;00m _data.set(\u001b[33m'\u001b[39;49;00m\u001b[33m<middle() return value>\u001b[39;49;00m\u001b[33m'\u001b[39;49;00m, _data.get(\n",
      "                        \u001b[33m'\u001b[39;49;00m\u001b[33my\u001b[39;49;00m\u001b[33m'\u001b[39;49;00m, y))\n",
      "            \u001b[34melse\u001b[39;49;00m:\n",
      "                \u001b[34mwith\u001b[39;49;00m _data:\n",
      "                    \u001b[34mif\u001b[39;49;00m _data.test(_data.get(\u001b[33m'\u001b[39;49;00m\u001b[33mx\u001b[39;49;00m\u001b[33m'\u001b[39;49;00m, x) > _data.get(\u001b[33m'\u001b[39;49;00m\u001b[33mz\u001b[39;49;00m\u001b[33m'\u001b[39;49;00m, z)):\n",
      "                        \u001b[34mwith\u001b[39;49;00m _data:\n",
      "                            \u001b[34mreturn\u001b[39;49;00m _data.set(\u001b[33m'\u001b[39;49;00m\u001b[33m<middle() return value>\u001b[39;49;00m\u001b[33m'\u001b[39;49;00m,\n",
      "                                _data.get(\u001b[33m'\u001b[39;49;00m\u001b[33mx\u001b[39;49;00m\u001b[33m'\u001b[39;49;00m, x))\n",
      "    \u001b[34mreturn\u001b[39;49;00m _data.set(\u001b[33m'\u001b[39;49;00m\u001b[33m<middle() return value>\u001b[39;49;00m\u001b[33m'\u001b[39;49;00m, _data.get(\u001b[33m'\u001b[39;49;00m\u001b[33mz\u001b[39;49;00m\u001b[33m'\u001b[39;49;00m, z))"
     ]
    }
   ],
   "source": [
    "dump_tree(middle_tree)"
   ]
  },
  {
   "cell_type": "markdown",
   "metadata": {
    "slideshow": {
     "slide_type": "subslide"
    }
   },
   "source": [
    "And when we execute this code, we see that we can track quite a number of events, while the code semantics stay unchanged."
   ]
  },
  {
   "cell_type": "code",
   "execution_count": 126,
   "metadata": {
    "slideshow": {
     "slide_type": "subslide"
    }
   },
   "outputs": [
    {
     "name": "stdout",
     "output_type": "stream",
     "text": [
      "middle:1: initializing x #1\n",
      "middle:1: setting x\n",
      "middle:1: initializing y #2\n",
      "middle:1: setting y\n",
      "middle:1: initializing z #3\n",
      "middle:1: setting z\n",
      "middle:2: getting y\n",
      "middle:2: getting z\n",
      "middle:2: testing condition\n",
      "middle:3: entering block\n",
      "middle:3: getting x\n",
      "middle:3: getting y\n",
      "middle:3: testing condition\n",
      "middle:5: entering block\n",
      "middle:5: getting x\n",
      "middle:5: getting z\n",
      "middle:5: testing condition\n",
      "middle:6: entering block\n",
      "middle:6: getting y\n",
      "middle:6: setting <middle() return value>\n",
      "middle:6: exiting block\n",
      "middle:6: exiting block\n",
      "middle:6: exiting block\n"
     ]
    },
    {
     "data": {
      "text/plain": [
       "1"
      ]
     },
     "execution_count": 126,
     "metadata": {},
     "output_type": "execute_result"
    }
   ],
   "source": [
    "with DataTrackerTester(middle_tree, middle):\n",
    "    m = middle(2, 1, 3)\n",
    "m"
   ]
  },
  {
   "cell_type": "markdown",
   "metadata": {
    "slideshow": {
     "slide_type": "subslide"
    }
   },
   "source": [
    "### Excursion: Transformer Stress Test"
   ]
  },
  {
   "cell_type": "markdown",
   "metadata": {
    "slideshow": {
     "slide_type": "fragment"
    }
   },
   "source": [
    "We stress test our transformers by instrumenting, transforming, and compiling a number of modules."
   ]
  },
  {
   "cell_type": "code",
   "execution_count": 127,
   "metadata": {
    "slideshow": {
     "slide_type": "skip"
    }
   },
   "outputs": [],
   "source": [
    "import Assertions\n",
    "import Debugger"
   ]
  },
  {
   "cell_type": "code",
   "execution_count": 128,
   "metadata": {
    "slideshow": {
     "slide_type": "subslide"
    }
   },
   "outputs": [
    {
     "name": "stdout",
     "output_type": "stream",
     "text": [
      "'Assertions' instrumented successfully.\n",
      "'Debugger' instrumented successfully.\n",
      "'inspect' instrumented successfully.\n",
      "'ast' instrumented successfully.\n",
      "'astor' instrumented successfully.\n"
     ]
    }
   ],
   "source": [
    "for module in [Assertions, Debugger, inspect, ast, astor]:\n",
    "    module_tree = ast.parse(inspect.getsource(module))\n",
    "    TrackCallTransformer().visit(module_tree)\n",
    "    TrackSetTransformer().visit(module_tree)\n",
    "    TrackGetTransformer().visit(module_tree)\n",
    "    TrackControlTransformer().visit(module_tree)\n",
    "    TrackReturnTransformer().visit(module_tree)\n",
    "    TrackParamsTransformer().visit(module_tree)\n",
    "    # dump_tree(module_tree)\n",
    "    ast.fix_missing_locations(module_tree)  # Must run this before compiling\n",
    "    module_code = compile(module_tree, '<stress_test>', 'exec')\n",
    "    print(f\"{repr(module.__name__)} instrumented successfully.\")\n",
    "    \n",
    "#     globals()[DATA_TRACKER] = DataTracker()\n",
    "#     exec(module_code, globals())\n",
    "#     print(f\"{repr(module.__name__)} executed successfully.\")"
   ]
  },
  {
   "cell_type": "markdown",
   "metadata": {
    "slideshow": {
     "slide_type": "subslide"
    }
   },
   "source": [
    "### End of Excursion"
   ]
  },
  {
   "cell_type": "markdown",
   "metadata": {
    "slideshow": {
     "slide_type": "fragment"
    }
   },
   "source": [
    "Our next step will now be not only to _log_ these events, but to actually construct _dependencies_ from them."
   ]
  },
  {
   "cell_type": "markdown",
   "metadata": {
    "slideshow": {
     "slide_type": "slide"
    }
   },
   "source": [
    "## Tracking Dependencies"
   ]
  },
  {
   "cell_type": "markdown",
   "metadata": {
    "slideshow": {
     "slide_type": "fragment"
    }
   },
   "source": [
    "To construct dependencies from variable accesses, we subclass `DataTracker` into `DependencyTracker` – a class that actually keeps track of all these dependencies.  Its constructor initializes a number of variables we will discuss below."
   ]
  },
  {
   "cell_type": "code",
   "execution_count": 129,
   "metadata": {
    "slideshow": {
     "slide_type": "subslide"
    }
   },
   "outputs": [],
   "source": [
    "class DependencyTracker(DataTracker):\n",
    "    def __init__(self, *args, **kwargs):\n",
    "        super().__init__(*args, **kwargs)\n",
    "\n",
    "        self.origins = {}  # Where current variables were last set\n",
    "        self.data_dependencies = {}  # As with Dependencies, above\n",
    "        self.control_dependencies = {}\n",
    "\n",
    "        self.last_read = []  # List of last read variables\n",
    "        self.last_checked_location = None\n",
    "        self._ignore_location_change = False\n",
    "\n",
    "        self.data = [[]]  # Data stack\n",
    "        self.control = [[]]  # Control stack\n",
    "\n",
    "        self.frames = [{}]  # Argument stack\n",
    "        self.args = {}  # Current args"
   ]
  },
  {
   "cell_type": "markdown",
   "metadata": {
    "slideshow": {
     "slide_type": "subslide"
    }
   },
   "source": [
    "### Data Dependencies\n",
    "\n",
    "The first job of our `DependencyTracker` is to construct dependencies between _read_ and _written_ variables."
   ]
  },
  {
   "cell_type": "markdown",
   "metadata": {
    "slideshow": {
     "slide_type": "subslide"
    }
   },
   "source": [
    "#### Reading Variables\n",
    "\n",
    "As in `DataTracker`, the key method of `DependencyTracker` again is `get()`, invoked as `_data.get('x', x)` whenever a variable `x` is read. First and foremost, it appends the name of the read variable to the list `last_read`."
   ]
  },
  {
   "cell_type": "code",
   "execution_count": 130,
   "metadata": {
    "slideshow": {
     "slide_type": "fragment"
    }
   },
   "outputs": [],
   "source": [
    "class DependencyTracker(DependencyTracker):\n",
    "    def get(self, name, value):\n",
    "        self.check_location()\n",
    "        self.last_read.append(name)\n",
    "        return super().get(name, value)\n",
    "\n",
    "    def check_location(self):\n",
    "        pass  # More on that below"
   ]
  },
  {
   "cell_type": "code",
   "execution_count": 131,
   "metadata": {
    "slideshow": {
     "slide_type": "subslide"
    }
   },
   "outputs": [],
   "source": [
    "x = 5\n",
    "y = 3"
   ]
  },
  {
   "cell_type": "code",
   "execution_count": 132,
   "metadata": {
    "slideshow": {
     "slide_type": "fragment"
    }
   },
   "outputs": [
    {
     "name": "stdout",
     "output_type": "stream",
     "text": [
      "<module>:2: getting x\n",
      "<module>:2: getting y\n"
     ]
    },
    {
     "data": {
      "text/plain": [
       "8"
      ]
     },
     "execution_count": 132,
     "metadata": {},
     "output_type": "execute_result"
    }
   ],
   "source": [
    "_test_data = DependencyTracker(log=True)\n",
    "_test_data.get('x', x) + _test_data.get('y', y)"
   ]
  },
  {
   "cell_type": "code",
   "execution_count": 133,
   "metadata": {
    "slideshow": {
     "slide_type": "fragment"
    }
   },
   "outputs": [
    {
     "data": {
      "text/plain": [
       "['x', 'y']"
      ]
     },
     "execution_count": 133,
     "metadata": {},
     "output_type": "execute_result"
    }
   ],
   "source": [
    "_test_data.last_read"
   ]
  },
  {
   "cell_type": "markdown",
   "metadata": {
    "slideshow": {
     "slide_type": "subslide"
    }
   },
   "source": [
    "#### Checking Locations"
   ]
  },
  {
   "cell_type": "markdown",
   "metadata": {
    "slideshow": {
     "slide_type": "fragment"
    }
   },
   "source": [
    "However, before appending the read variable to `last_read`, `_data.get()` does one more thing. By invoking `check_location()`, it clears the `last_read` list if we have reached a new line in the execution. This avoids situations such as\n",
    "\n",
    "```python\n",
    "x\n",
    "y\n",
    "z = a + b\n",
    "```\n",
    "where `x` and `y` are, well, read, but do not affect the last line. Therefore, with every new line, the list of last read lines is cleared."
   ]
  },
  {
   "cell_type": "code",
   "execution_count": 134,
   "metadata": {
    "slideshow": {
     "slide_type": "subslide"
    }
   },
   "outputs": [],
   "source": [
    "class DependencyTracker(DependencyTracker):\n",
    "    def clear_read(self):\n",
    "        if self.log:\n",
    "            direct_caller = inspect.currentframe().f_back.f_code.co_name\n",
    "            code_name, lineno = self.caller_location()\n",
    "            print(f\"{code_name}:{lineno}: \"\n",
    "                  f\"clearing read variables {self.last_read} \"\n",
    "                  f\"(from {direct_caller})\")\n",
    "\n",
    "        self.last_read = []\n",
    "\n",
    "    def check_location(self):\n",
    "        location = self.caller_location()\n",
    "        code_name, lineno = location\n",
    "        if code_name.startswith('<'):\n",
    "            return  # List comprehension, eval(), exec()\n",
    "\n",
    "        if self.last_checked_location != location:\n",
    "            if self._ignore_location_change:\n",
    "                self._ignore_location_change = False\n",
    "            else:\n",
    "                self.clear_read()\n",
    "\n",
    "        self.last_checked_location = location"
   ]
  },
  {
   "cell_type": "markdown",
   "metadata": {
    "slideshow": {
     "slide_type": "subslide"
    }
   },
   "source": [
    "Two methods can suppress this reset of the `last_read` list: \n",
    "\n",
    "* `ignore_next_location_change()` suppresses the reset for the next line. This is useful when returning from a function, when the return value is still in the list of \"read\" variables.\n",
    "* `ignore_location_change()` suppresses the reset for the current line. This is useful if we already have returned from a function call."
   ]
  },
  {
   "cell_type": "code",
   "execution_count": 135,
   "metadata": {
    "slideshow": {
     "slide_type": "fragment"
    }
   },
   "outputs": [],
   "source": [
    "class DependencyTracker(DependencyTracker):\n",
    "    def ignore_next_location_change(self):\n",
    "        self._ignore_location_change = True\n",
    "\n",
    "    def ignore_location_change(self):\n",
    "        self.last_checked_location = self.caller_location()"
   ]
  },
  {
   "cell_type": "markdown",
   "metadata": {
    "slideshow": {
     "slide_type": "subslide"
    }
   },
   "source": [
    "Watch how `DependencyTracker` resets `last_read` when a new line is executed:"
   ]
  },
  {
   "cell_type": "code",
   "execution_count": 136,
   "metadata": {
    "slideshow": {
     "slide_type": "fragment"
    }
   },
   "outputs": [],
   "source": [
    "_test_data = DependencyTracker()"
   ]
  },
  {
   "cell_type": "code",
   "execution_count": 137,
   "metadata": {
    "slideshow": {
     "slide_type": "fragment"
    }
   },
   "outputs": [
    {
     "data": {
      "text/plain": [
       "8"
      ]
     },
     "execution_count": 137,
     "metadata": {},
     "output_type": "execute_result"
    }
   ],
   "source": [
    "_test_data.get('x', x) + _test_data.get('y', y)"
   ]
  },
  {
   "cell_type": "code",
   "execution_count": 138,
   "metadata": {
    "slideshow": {
     "slide_type": "fragment"
    }
   },
   "outputs": [
    {
     "data": {
      "text/plain": [
       "['x', 'y']"
      ]
     },
     "execution_count": 138,
     "metadata": {},
     "output_type": "execute_result"
    }
   ],
   "source": [
    "_test_data.last_read"
   ]
  },
  {
   "cell_type": "code",
   "execution_count": 139,
   "metadata": {
    "slideshow": {
     "slide_type": "fragment"
    }
   },
   "outputs": [
    {
     "data": {
      "text/plain": [
       "41"
      ]
     },
     "execution_count": 139,
     "metadata": {},
     "output_type": "execute_result"
    }
   ],
   "source": [
    "a = 42\n",
    "b = -1\n",
    "_test_data.get('a', a) + _test_data.get('b', b)"
   ]
  },
  {
   "cell_type": "code",
   "execution_count": 140,
   "metadata": {
    "slideshow": {
     "slide_type": "fragment"
    }
   },
   "outputs": [
    {
     "data": {
      "text/plain": [
       "['x', 'y', 'a', 'b']"
      ]
     },
     "execution_count": 140,
     "metadata": {},
     "output_type": "execute_result"
    }
   ],
   "source": [
    "_test_data.last_read"
   ]
  },
  {
   "cell_type": "markdown",
   "metadata": {
    "slideshow": {
     "slide_type": "subslide"
    }
   },
   "source": [
    "#### Setting Variables\n",
    "\n",
    "The method `set()` creates dependencies. It is invoked as  `_data.set('x', value)` whenever a variable `x` is set. \n",
    "\n",
    "First and foremost, it takes the list of variables read `last_read`, and for each of the variables $v$, it takes their origin $o$ (the place where they were last set) and appends the pair ($v$, $o$) to the list of data dependencies. It then does a similar thing with control dependencies (more on these below), and finally marks (in `self.origins`) the current location of $v$."
   ]
  },
  {
   "cell_type": "code",
   "execution_count": 141,
   "metadata": {
    "slideshow": {
     "slide_type": "skip"
    }
   },
   "outputs": [],
   "source": [
    "import itertools"
   ]
  },
  {
   "cell_type": "code",
   "execution_count": 142,
   "metadata": {
    "slideshow": {
     "slide_type": "subslide"
    }
   },
   "outputs": [],
   "source": [
    "class DependencyTracker(DependencyTracker):\n",
    "    def set(self, name, value, loads=None):\n",
    "\n",
    "        def add_dependencies(dependencies, vars_read, tp):\n",
    "            \"\"\"Add origins of VARS_READ to DEPENDENCIES.\"\"\"\n",
    "            for var_read in vars_read:\n",
    "                if var_read in self.origins:\n",
    "                    origin = self.origins[var_read]\n",
    "                    dependencies.add((var_read, origin))\n",
    "\n",
    "                    if self.log:\n",
    "                        origin_name, origin_lineno = origin\n",
    "                        code_name, lineno = self.caller_location()\n",
    "                        print(f\"{code_name}:{lineno}: \"\n",
    "                              f\"new {tp} dependency: \"\n",
    "                              f\"{name} <= {var_read} \"\n",
    "                              f\"({origin_name}:{origin_lineno})\")\n",
    "\n",
    "        self.check_location()\n",
    "        ret = super().set(name, value)\n",
    "        location = self.caller_location()\n",
    "\n",
    "        add_dependencies(self.data_dependencies.setdefault\n",
    "                         ((name, location), set()),\n",
    "                         self.last_read, tp=\"data\")\n",
    "        add_dependencies(self.control_dependencies.setdefault\n",
    "                         ((name, location), set()),\n",
    "                         itertools.chain.from_iterable(self.control),\n",
    "                         tp=\"control\")\n",
    "\n",
    "        self.origins[name] = location\n",
    "\n",
    "        # Reset read info for next line\n",
    "        # self.clear_read()\n",
    "        self.last_read = [name]\n",
    "\n",
    "        return ret\n",
    "\n",
    "    def dependencies(self):\n",
    "        return Dependencies(self.data_dependencies,\n",
    "                            self.control_dependencies)"
   ]
  },
  {
   "cell_type": "markdown",
   "metadata": {
    "slideshow": {
     "slide_type": "subslide"
    }
   },
   "source": [
    "Let us illustrate `set()` by example. Here's a set of variables read and written:"
   ]
  },
  {
   "cell_type": "code",
   "execution_count": 143,
   "metadata": {
    "slideshow": {
     "slide_type": "fragment"
    }
   },
   "outputs": [],
   "source": [
    "_test_data = DependencyTracker()\n",
    "x = _test_data.set('x', 1)\n",
    "y = _test_data.set('y', _test_data.get('x', x))\n",
    "z = _test_data.set('z', _test_data.get('x', x) + _test_data.get('y', y))"
   ]
  },
  {
   "cell_type": "markdown",
   "metadata": {
    "slideshow": {
     "slide_type": "fragment"
    }
   },
   "source": [
    "The attribute `origins` saves for each variable where it was last written:"
   ]
  },
  {
   "cell_type": "code",
   "execution_count": 144,
   "metadata": {
    "slideshow": {
     "slide_type": "fragment"
    }
   },
   "outputs": [
    {
     "data": {
      "text/plain": [
       "{'x': ('<module>', 2), 'y': ('<module>', 3), 'z': ('<module>', 4)}"
      ]
     },
     "execution_count": 144,
     "metadata": {},
     "output_type": "execute_result"
    }
   ],
   "source": [
    "_test_data.origins"
   ]
  },
  {
   "cell_type": "markdown",
   "metadata": {
    "slideshow": {
     "slide_type": "fragment"
    }
   },
   "source": [
    "The attribute `data_dependencies` tracks for each variable the variables it was read from:"
   ]
  },
  {
   "cell_type": "code",
   "execution_count": 145,
   "metadata": {
    "slideshow": {
     "slide_type": "subslide"
    }
   },
   "outputs": [
    {
     "data": {
      "text/plain": [
       "{('x', ('<module>', 2)): set(),\n",
       " ('y', ('<module>', 3)): {('x', ('<module>', 2))},\n",
       " ('z', ('<module>', 4)): {('x', ('<module>', 2)), ('y', ('<module>', 3))}}"
      ]
     },
     "execution_count": 145,
     "metadata": {},
     "output_type": "execute_result"
    }
   ],
   "source": [
    "_test_data.data_dependencies"
   ]
  },
  {
   "cell_type": "markdown",
   "metadata": {
    "slideshow": {
     "slide_type": "fragment"
    }
   },
   "source": [
    "Hence, the above code already gives us a small dependency graph:"
   ]
  },
  {
   "cell_type": "code",
   "execution_count": 146,
   "metadata": {
    "slideshow": {
     "slide_type": "fragment"
    }
   },
   "outputs": [
    {
     "data": {
      "image/svg+xml": [
       "<?xml version=\"1.0\" encoding=\"UTF-8\" standalone=\"no\"?>\n",
       "<!DOCTYPE svg PUBLIC \"-//W3C//DTD SVG 1.1//EN\"\n",
       " \"http://www.w3.org/Graphics/SVG/1.1/DTD/svg11.dtd\">\n",
       "<!-- Generated by graphviz version 2.40.1 (20161225.0304)\n",
       " -->\n",
       "<!-- Title: dependencies Pages: 1 -->\n",
       "<svg width=\"74pt\" height=\"188pt\"\n",
       " viewBox=\"0.00 0.00 74.48 188.00\" xmlns=\"http://www.w3.org/2000/svg\" xmlns:xlink=\"http://www.w3.org/1999/xlink\">\n",
       "<g id=\"graph0\" class=\"graph\" transform=\"scale(1 1) rotate(0) translate(4 184)\">\n",
       "<title>dependencies</title>\n",
       "<polygon fill=\"#ffffff\" stroke=\"transparent\" points=\"-4,4 -4,-184 70.4774,-184 70.4774,4 -4,4\"/>\n",
       "<!-- x_module_2 -->\n",
       "<g id=\"node1\" class=\"node\">\n",
       "<title>x_module_2</title>\n",
       "<g id=\"a_node1\"><a xlink:title=\"&lt;module&gt;:2\">\n",
       "<polygon fill=\"#ffdab9\" stroke=\"#000000\" points=\"54,-180 0,-180 0,-144 54,-144 54,-180\"/>\n",
       "<text text-anchor=\"start\" x=\"22.5\" y=\"-159.3\" font-family=\"Fira Mono, Courier, monospace\" font-weight=\"bold\" font-size=\"14.00\" fill=\"#000000\">x</text>\n",
       "</a>\n",
       "</g>\n",
       "</g>\n",
       "<!-- y_module_3 -->\n",
       "<g id=\"node2\" class=\"node\">\n",
       "<title>y_module_3</title>\n",
       "<g id=\"a_node2\"><a xlink:title=\"&lt;module&gt;:3\">\n",
       "<polygon fill=\"#ffdab9\" stroke=\"#000000\" points=\"54,-108 0,-108 0,-72 54,-72 54,-108\"/>\n",
       "<text text-anchor=\"start\" x=\"22.5\" y=\"-87.3\" font-family=\"Fira Mono, Courier, monospace\" font-weight=\"bold\" font-size=\"14.00\" fill=\"#000000\">y</text>\n",
       "</a>\n",
       "</g>\n",
       "</g>\n",
       "<!-- x_module_2&#45;&gt;y_module_3 -->\n",
       "<g id=\"edge1\" class=\"edge\">\n",
       "<title>x_module_2&#45;&gt;y_module_3</title>\n",
       "<path fill=\"none\" stroke=\"#000000\" d=\"M21.0476,-143.8314C20.2972,-136.131 20.0763,-126.9743 20.3849,-118.4166\"/>\n",
       "<polygon fill=\"#000000\" stroke=\"#000000\" points=\"23.8792,-118.6161 21.024,-108.4133 16.8935,-118.1697 23.8792,-118.6161\"/>\n",
       "</g>\n",
       "<!-- x_module_2&#45;&gt;y_module_3 -->\n",
       "<!-- z_module_4 -->\n",
       "<g id=\"node3\" class=\"node\">\n",
       "<title>z_module_4</title>\n",
       "<g id=\"a_node3\"><a xlink:title=\"&lt;module&gt;:4\">\n",
       "<polygon fill=\"#ffdab9\" stroke=\"#000000\" points=\"54,-36 0,-36 0,0 54,0 54,-36\"/>\n",
       "<text text-anchor=\"start\" x=\"22.5\" y=\"-15.3\" font-family=\"Fira Mono, Courier, monospace\" font-weight=\"bold\" font-size=\"14.00\" fill=\"#000000\">z</text>\n",
       "</a>\n",
       "</g>\n",
       "</g>\n",
       "<!-- x_module_2&#45;&gt;z_module_4 -->\n",
       "<g id=\"edge2\" class=\"edge\">\n",
       "<title>x_module_2&#45;&gt;z_module_4</title>\n",
       "<path fill=\"none\" stroke=\"#000000\" d=\"M42.9905,-143.9169C50.6538,-134.0371 59.0166,-121.1563 63,-108 67.6365,-92.6865 67.6365,-87.3135 63,-72 60.0436,-62.2355 54.6748,-52.6229 48.97,-44.2762\"/>\n",
       "<polygon fill=\"#000000\" stroke=\"#000000\" points=\"51.7129,-42.0973 42.9905,-36.0831 46.0586,-46.2239 51.7129,-42.0973\"/>\n",
       "</g>\n",
       "<!-- y_module_3&#45;&gt;z_module_4 -->\n",
       "<g id=\"edge3\" class=\"edge\">\n",
       "<title>y_module_3&#45;&gt;z_module_4</title>\n",
       "<path fill=\"none\" stroke=\"#000000\" d=\"M21.0476,-71.8314C20.2972,-64.131 20.0763,-54.9743 20.3849,-46.4166\"/>\n",
       "<polygon fill=\"#000000\" stroke=\"#000000\" points=\"23.8792,-46.6161 21.024,-36.4133 16.8935,-46.1697 23.8792,-46.6161\"/>\n",
       "</g>\n",
       "<!-- y_module_3&#45;&gt;z_module_4 -->\n",
       "</g>\n",
       "</svg>\n"
      ],
      "text/plain": [
       "<graphviz.dot.Digraph at 0x7f83c4c45400>"
      ]
     },
     "execution_count": 146,
     "metadata": {},
     "output_type": "execute_result"
    }
   ],
   "source": [
    "# ignore\n",
    "_test_data.dependencies().graph()"
   ]
  },
  {
   "cell_type": "markdown",
   "metadata": {
    "slideshow": {
     "slide_type": "subslide"
    }
   },
   "source": [
    "In the remainder of this section, we define methods to\n",
    "\n",
    "* track control dependencies (`test()`, `__enter__()`, `__exit__()`)\n",
    "* track function calls and returns (`call()`, `ret()`)\n",
    "* track function arguments (`arg()`, `param()`)\n",
    "* check the validity of our dependencies (`validate()`).\n",
    "\n",
    "Like our `get()` and `set()` methods above, these work by refining the appropriate methods defined in the `DataTracker` class, building on our `NodeTransformer` transformations."
   ]
  },
  {
   "cell_type": "markdown",
   "metadata": {
    "slideshow": {
     "slide_type": "subslide"
    }
   },
   "source": [
    "### Excursion: Control Dependencies"
   ]
  },
  {
   "cell_type": "markdown",
   "metadata": {
    "slideshow": {
     "slide_type": "fragment"
    }
   },
   "source": [
    "Let us detail control dependencies. As discussed with `DataTracker()`, we invoke `test()` methods for all control conditions, and place the controlled blocks into `with` clauses."
   ]
  },
  {
   "cell_type": "markdown",
   "metadata": {
    "slideshow": {
     "slide_type": "fragment"
    }
   },
   "source": [
    "The `test()` method simply sets a `<test>` variable; this also places it in `last_read`."
   ]
  },
  {
   "cell_type": "code",
   "execution_count": 147,
   "metadata": {
    "slideshow": {
     "slide_type": "fragment"
    }
   },
   "outputs": [],
   "source": [
    "class DependencyTracker(DependencyTracker):\n",
    "    TEST = '<test>'\n",
    "\n",
    "    def test(self, value):\n",
    "        self.set(self.TEST, value)\n",
    "        return super().test(value)"
   ]
  },
  {
   "cell_type": "markdown",
   "metadata": {
    "slideshow": {
     "slide_type": "subslide"
    }
   },
   "source": [
    "When entering a `with` block, the set of `last_read` variables holds the `<test>` variable read. We save it in the `control` stack, with the effect of any further variables written now being marked as  controlled by `<test>`."
   ]
  },
  {
   "cell_type": "code",
   "execution_count": 148,
   "metadata": {
    "slideshow": {
     "slide_type": "fragment"
    }
   },
   "outputs": [],
   "source": [
    "class DependencyTracker(DependencyTracker):\n",
    "    def __enter__(self):\n",
    "        self.control.append(self.last_read)\n",
    "        self.clear_read()\n",
    "        super().__enter__()"
   ]
  },
  {
   "cell_type": "markdown",
   "metadata": {
    "slideshow": {
     "slide_type": "fragment"
    }
   },
   "source": [
    "When we exit the `with` block, we restore earlier `last_read` values, preparing for `else` blocks."
   ]
  },
  {
   "cell_type": "code",
   "execution_count": 149,
   "metadata": {
    "slideshow": {
     "slide_type": "subslide"
    }
   },
   "outputs": [],
   "source": [
    "class DependencyTracker(DependencyTracker):\n",
    "    def __exit__(self, exc_type, exc_value, traceback):\n",
    "        self.clear_read()\n",
    "        self.last_read = self.control.pop()\n",
    "        self.ignore_next_location_change()\n",
    "        super().__exit__(exc_type, exc_value, traceback)"
   ]
  },
  {
   "cell_type": "markdown",
   "metadata": {
    "slideshow": {
     "slide_type": "fragment"
    }
   },
   "source": [
    "Here's an example of all these parts in action:"
   ]
  },
  {
   "cell_type": "code",
   "execution_count": 150,
   "metadata": {
    "slideshow": {
     "slide_type": "fragment"
    }
   },
   "outputs": [],
   "source": [
    "_test_data = DependencyTracker()\n",
    "x = _test_data.set('x', 1)\n",
    "y = _test_data.set('y', _test_data.get('x', x))"
   ]
  },
  {
   "cell_type": "code",
   "execution_count": 151,
   "metadata": {
    "slideshow": {
     "slide_type": "fragment"
    }
   },
   "outputs": [],
   "source": [
    "if _test_data.test(_test_data.get('x', x) >= _test_data.get('y', y)):\n",
    "    with _test_data:\n",
    "        z = _test_data.set('z',\n",
    "                           _test_data.get('x', x) + _test_data.get('y', y))"
   ]
  },
  {
   "cell_type": "code",
   "execution_count": 152,
   "metadata": {
    "slideshow": {
     "slide_type": "subslide"
    }
   },
   "outputs": [
    {
     "data": {
      "text/plain": [
       "{('x', ('<module>', 2)): set(),\n",
       " ('y', ('<module>', 3)): set(),\n",
       " ('<test>', ('<module>', 1)): set(),\n",
       " ('z', ('<module>', 4)): {('<test>', ('<module>', 1))}}"
      ]
     },
     "execution_count": 152,
     "metadata": {},
     "output_type": "execute_result"
    }
   ],
   "source": [
    "_test_data.control_dependencies"
   ]
  },
  {
   "cell_type": "markdown",
   "metadata": {
    "slideshow": {
     "slide_type": "fragment"
    }
   },
   "source": [
    "The control dependency for `z` is reflected in the dependency graph:"
   ]
  },
  {
   "cell_type": "code",
   "execution_count": 153,
   "metadata": {
    "slideshow": {
     "slide_type": "fragment"
    }
   },
   "outputs": [
    {
     "data": {
      "image/svg+xml": [
       "<?xml version=\"1.0\" encoding=\"UTF-8\" standalone=\"no\"?>\n",
       "<!DOCTYPE svg PUBLIC \"-//W3C//DTD SVG 1.1//EN\"\n",
       " \"http://www.w3.org/Graphics/SVG/1.1/DTD/svg11.dtd\">\n",
       "<!-- Generated by graphviz version 2.40.1 (20161225.0304)\n",
       " -->\n",
       "<!-- Title: dependencies Pages: 1 -->\n",
       "<svg width=\"151pt\" height=\"260pt\"\n",
       " viewBox=\"0.00 0.00 150.95 260.00\" xmlns=\"http://www.w3.org/2000/svg\" xmlns:xlink=\"http://www.w3.org/1999/xlink\">\n",
       "<g id=\"graph0\" class=\"graph\" transform=\"scale(1 1) rotate(0) translate(4 256)\">\n",
       "<title>dependencies</title>\n",
       "<polygon fill=\"#ffffff\" stroke=\"transparent\" points=\"-4,4 -4,-256 146.9538,-256 146.9538,4 -4,4\"/>\n",
       "<!-- x_module_2 -->\n",
       "<g id=\"node1\" class=\"node\">\n",
       "<title>x_module_2</title>\n",
       "<g id=\"a_node1\"><a xlink:title=\"&lt;module&gt;:2\">\n",
       "<polygon fill=\"#ffdab9\" stroke=\"#000000\" points=\"118,-252 64,-252 64,-216 118,-216 118,-252\"/>\n",
       "<text text-anchor=\"start\" x=\"86.5\" y=\"-231.3\" font-family=\"Fira Mono, Courier, monospace\" font-weight=\"bold\" font-size=\"14.00\" fill=\"#000000\">x</text>\n",
       "</a>\n",
       "</g>\n",
       "</g>\n",
       "<!-- y_module_3 -->\n",
       "<g id=\"node2\" class=\"node\">\n",
       "<title>y_module_3</title>\n",
       "<g id=\"a_node2\"><a xlink:title=\"&lt;module&gt;:3\">\n",
       "<polygon fill=\"#ffdab9\" stroke=\"#000000\" points=\"54,-180 0,-180 0,-144 54,-144 54,-180\"/>\n",
       "<text text-anchor=\"start\" x=\"22.5\" y=\"-159.3\" font-family=\"Fira Mono, Courier, monospace\" font-weight=\"bold\" font-size=\"14.00\" fill=\"#000000\">y</text>\n",
       "</a>\n",
       "</g>\n",
       "</g>\n",
       "<!-- x_module_2&#45;&gt;y_module_3 -->\n",
       "<g id=\"edge1\" class=\"edge\">\n",
       "<title>x_module_2&#45;&gt;y_module_3</title>\n",
       "<path fill=\"none\" stroke=\"#000000\" d=\"M68.8977,-215.8314C60.6348,-207.454 51.4665,-197.3531 43.7452,-188.1749\"/>\n",
       "<polygon fill=\"#000000\" stroke=\"#000000\" points=\"46.4341,-185.9341 37.3913,-180.4133 41.0175,-190.3683 46.4341,-185.9341\"/>\n",
       "</g>\n",
       "<!-- x_module_2&#45;&gt;y_module_3 -->\n",
       "<!-- z_module_4 -->\n",
       "<g id=\"node3\" class=\"node\">\n",
       "<title>z_module_4</title>\n",
       "<g id=\"a_node3\"><a xlink:title=\"&lt;module&gt;:4\">\n",
       "<polygon fill=\"#ffdab9\" stroke=\"#000000\" points=\"82,-36 28,-36 28,0 82,0 82,-36\"/>\n",
       "<text text-anchor=\"start\" x=\"50.5\" y=\"-15.3\" font-family=\"Fira Mono, Courier, monospace\" font-weight=\"bold\" font-size=\"14.00\" fill=\"#000000\">z</text>\n",
       "</a>\n",
       "</g>\n",
       "</g>\n",
       "<!-- x_module_2&#45;&gt;z_module_4 -->\n",
       "<g id=\"edge2\" class=\"edge\">\n",
       "<title>x_module_2&#45;&gt;z_module_4</title>\n",
       "<path fill=\"none\" stroke=\"#000000\" d=\"M104.0584,-215.775C124.561,-184.7265 159.4655,-120.253 134,-72 124.9253,-54.805 107.6376,-42.0461 91.5425,-33.2609\"/>\n",
       "<polygon fill=\"#000000\" stroke=\"#000000\" points=\"92.7745,-29.9607 82.2749,-28.544 89.5993,-36.1992 92.7745,-29.9607\"/>\n",
       "</g>\n",
       "<!-- test_module_1 -->\n",
       "<g id=\"node4\" class=\"node\">\n",
       "<title>test_module_1</title>\n",
       "<g id=\"a_node4\"><a xlink:title=\"&lt;module&gt;:1\">\n",
       "<polygon fill=\"#ffdab9\" stroke=\"#000000\" points=\"124.5,-108 57.5,-108 57.5,-72 124.5,-72 124.5,-108\"/>\n",
       "<text text-anchor=\"start\" x=\"65.5\" y=\"-87.3\" font-family=\"Fira Mono, Courier, monospace\" font-weight=\"bold\" font-style=\"italic\" font-size=\"14.00\" fill=\"#000000\">&lt;test&gt;</text>\n",
       "</a>\n",
       "</g>\n",
       "</g>\n",
       "<!-- x_module_2&#45;&gt;test_module_1 -->\n",
       "<g id=\"edge5\" class=\"edge\">\n",
       "<title>x_module_2&#45;&gt;test_module_1</title>\n",
       "<path fill=\"none\" stroke=\"#000000\" d=\"M86.3268,-215.7623C83.867,-191.201 83.5923,-147.2474 85.5026,-118.3541\"/>\n",
       "<polygon fill=\"#000000\" stroke=\"#000000\" points=\"89.0152,-118.3416 86.3417,-108.0896 82.0385,-117.7712 89.0152,-118.3416\"/>\n",
       "</g>\n",
       "<!-- y_module_3&#45;&gt;z_module_4 -->\n",
       "<g id=\"edge3\" class=\"edge\">\n",
       "<title>y_module_3&#45;&gt;z_module_4</title>\n",
       "<path fill=\"none\" stroke=\"#000000\" d=\"M25.873,-143.7623C28.1992,-119.0928 36.5338,-74.8598 44.0887,-45.9731\"/>\n",
       "<polygon fill=\"#000000\" stroke=\"#000000\" points=\"47.5299,-46.6609 46.8243,-36.0896 40.7835,-44.7936 47.5299,-46.6609\"/>\n",
       "</g>\n",
       "<!-- y_module_3&#45;&gt;z_module_4 -->\n",
       "<!-- y_module_3&#45;&gt;test_module_1 -->\n",
       "<g id=\"edge6\" class=\"edge\">\n",
       "<title>y_module_3&#45;&gt;test_module_1</title>\n",
       "<path fill=\"none\" stroke=\"#000000\" d=\"M43.1499,-143.8314C50.6717,-135.3694 59.7565,-125.1489 67.9804,-115.8971\"/>\n",
       "<polygon fill=\"#000000\" stroke=\"#000000\" points=\"70.6049,-118.2127 74.6327,-108.4133 65.373,-113.5621 70.6049,-118.2127\"/>\n",
       "</g>\n",
       "<!-- test_module_1&#45;&gt;x_module_2 -->\n",
       "<!-- test_module_1&#45;&gt;z_module_4 -->\n",
       "<g id=\"edge4\" class=\"edge\">\n",
       "<title>test_module_1&#45;&gt;z_module_4</title>\n",
       "<path fill=\"none\" stroke=\"#c0c0c0\" stroke-dasharray=\"5,2\" d=\"M81.9157,-71.8314C77.9385,-63.8771 73.1845,-54.369 68.7861,-45.5723\"/>\n",
       "<polygon fill=\"#c0c0c0\" stroke=\"#c0c0c0\" points=\"71.8093,-43.7923 64.2066,-36.4133 65.5483,-46.9228 71.8093,-43.7923\"/>\n",
       "</g>\n",
       "</g>\n",
       "</svg>\n"
      ],
      "text/plain": [
       "<graphviz.dot.Digraph at 0x7f83c4c45208>"
      ]
     },
     "execution_count": 153,
     "metadata": {},
     "output_type": "execute_result"
    }
   ],
   "source": [
    "# ignore\n",
    "_test_data.dependencies().graph()"
   ]
  },
  {
   "cell_type": "markdown",
   "metadata": {
    "slideshow": {
     "slide_type": "subslide"
    }
   },
   "source": [
    "### End of Excursion"
   ]
  },
  {
   "cell_type": "markdown",
   "metadata": {
    "slideshow": {
     "slide_type": "subslide"
    }
   },
   "source": [
    "### Excursion: Calls and Returns"
   ]
  },
  {
   "cell_type": "markdown",
   "metadata": {
    "slideshow": {
     "slide_type": "fragment"
    }
   },
   "source": [
    "To handle complex expressions involving functions, we introduce a _data stack_. Every time we invoke a function `func` (`call()` is invoked), we save the list of current variables read `last_read` on the `data` stack; when we return (`ret()` is invoked), we restore `last_read`. This also ensures that only those variables read while evaluating arguments will flow into the function call."
   ]
  },
  {
   "cell_type": "code",
   "execution_count": 154,
   "metadata": {
    "slideshow": {
     "slide_type": "skip"
    }
   },
   "outputs": [],
   "source": [
    "import functools\n",
    "import copy"
   ]
  },
  {
   "cell_type": "code",
   "execution_count": 155,
   "metadata": {
    "slideshow": {
     "slide_type": "subslide"
    }
   },
   "outputs": [],
   "source": [
    "class DependencyTracker(DependencyTracker):\n",
    "    def call(self, fun):\n",
    "        super().call(fun)\n",
    "\n",
    "        if inspect.isgeneratorfunction(fun):\n",
    "            return self.call_generator(fun)\n",
    "\n",
    "        # Save context\n",
    "        if self.log:\n",
    "            code_name, lineno = self.caller_location()\n",
    "            print(f\"{code_name}:{lineno}: \"\n",
    "                  f\"saving read variables {self.last_read}\")\n",
    "\n",
    "        self.data.append(self.last_read)\n",
    "        self.clear_read()\n",
    "        self.ignore_next_location_change()\n",
    "\n",
    "        self.frames.append(self.args)\n",
    "        self.args = {}\n",
    "\n",
    "        return fun\n",
    "\n",
    "    def ret(self, value):\n",
    "        super().ret(value)\n",
    "\n",
    "        if self.in_generator():\n",
    "            return self.ret_generator(value)\n",
    "\n",
    "        # Restore old context and add return value\n",
    "        ret_name = None\n",
    "        for var in self.last_read:\n",
    "            if var.startswith(\"<\"):  # \"<return value>\"\n",
    "                ret_name = var\n",
    "\n",
    "        self.last_read = self.data.pop()\n",
    "        if ret_name is not None:\n",
    "            self.last_read.append(ret_name)\n",
    "\n",
    "        self.ignore_location_change()\n",
    "\n",
    "        self.args = self.frames.pop()\n",
    "\n",
    "        if self.log:\n",
    "            code_name, lineno = self.caller_location()\n",
    "            print(f\"{code_name}:{lineno}: \"\n",
    "                  f\"restored read variables {self.last_read}\")\n",
    "\n",
    "        return value"
   ]
  },
  {
   "cell_type": "markdown",
   "metadata": {
    "slideshow": {
     "slide_type": "subslide"
    }
   },
   "source": [
    "Generator functions (those which `yield` a value) are not \"called\" in the sense that Python transfers control to them; instead, a \"call\" to a generator function creates a generator that is evaluated on demand. We mark generator function \"calls\" by saving `None` on the stacks. When the generator function returns the generator, we wrap the generator such that the arguments are being restored when it is invoked."
   ]
  },
  {
   "cell_type": "code",
   "execution_count": 156,
   "metadata": {
    "slideshow": {
     "slide_type": "subslide"
    }
   },
   "outputs": [],
   "source": [
    "class DependencyTracker(DependencyTracker):\n",
    "    def in_generator(self):\n",
    "        \"\"\"True if we are calling a generator function\"\"\"\n",
    "        return len(self.data) > 0 and self.data[-1] is None\n",
    "\n",
    "    def call_generator(self, fun):\n",
    "        # Can't track calls of generator functions\n",
    "        # Mark the fact that we're in a generator with `None` values\n",
    "        self.data.append(None)\n",
    "        self.frames.append(None)\n",
    "        assert self.in_generator()\n",
    "\n",
    "        self.clear_read()\n",
    "        return fun\n",
    "\n",
    "    def ret_generator(self, generator):\n",
    "        # Pop the two 'None' values pushed earlier\n",
    "        self.data.pop()\n",
    "        self.frames.pop()\n",
    "\n",
    "        if self.log:\n",
    "            code_name, lineno = self.caller_location()\n",
    "            print(f\"{code_name}:{lineno}: \"\n",
    "                  f\"wrapping generator {generator} (args={self.args})\")\n",
    "\n",
    "        # At this point, we already have collected the args.\n",
    "        # The returned generator depends on all of them.\n",
    "        for arg in self.args:\n",
    "            self.last_read += self.args[arg]\n",
    "\n",
    "        # Wrap the generator such that the args are restored \n",
    "        # when it is actually invoked, such that we can map them\n",
    "        # to parameters.\n",
    "        saved_args = copy.deepcopy(self.args)\n",
    "\n",
    "        def wrapper():\n",
    "            self.args = saved_args\n",
    "            if self.log:\n",
    "                code_name, lineno = self.caller_location()\n",
    "                print(f\"{code_name}:{lineno}: \"\n",
    "                  f\"calling generator (args={self.args})\")\n",
    "\n",
    "            self.ignore_next_location_change()\n",
    "            yield from generator\n",
    "\n",
    "        return wrapper()"
   ]
  },
  {
   "cell_type": "markdown",
   "metadata": {
    "slideshow": {
     "slide_type": "subslide"
    }
   },
   "source": [
    "We see an example of how function calls and returns work in conjunction with function arguments, discussed in the next section."
   ]
  },
  {
   "cell_type": "markdown",
   "metadata": {
    "slideshow": {
     "slide_type": "subslide"
    }
   },
   "source": [
    "### End of Excursion"
   ]
  },
  {
   "cell_type": "markdown",
   "metadata": {
    "slideshow": {
     "slide_type": "subslide"
    }
   },
   "source": [
    "### Excursion: Function Arguments"
   ]
  },
  {
   "cell_type": "markdown",
   "metadata": {
    "slideshow": {
     "slide_type": "fragment"
    }
   },
   "source": [
    "Finally, we handle parameters and arguments. The `args` stack holds the current stack of function arguments, holding the `last_read` variable for each argument. When accessing the arguments (with `param()`), we can retrieve this set of read variables for each argument."
   ]
  },
  {
   "cell_type": "code",
   "execution_count": 157,
   "metadata": {
    "slideshow": {
     "slide_type": "subslide"
    }
   },
   "outputs": [],
   "source": [
    "class DependencyTracker(DependencyTracker):\n",
    "    def arg(self, value, pos=None, kw=None):\n",
    "        if self.log:\n",
    "            code_name, lineno = self.caller_location()\n",
    "            print(f\"{code_name}:{lineno}: \"\n",
    "                  f\"saving args read {self.last_read}\")\n",
    "\n",
    "        if pos:\n",
    "            self.args[pos] = self.last_read\n",
    "        if kw:\n",
    "            self.args[kw] = self.last_read\n",
    "\n",
    "        self.clear_read()\n",
    "        return super().arg(value, pos, kw)\n",
    "\n",
    "    def param(self, name, value, pos=None, vararg=\"\"):\n",
    "        self.clear_read()\n",
    "\n",
    "        if vararg == '*':\n",
    "            # We overapproximate by setting `args` to _all_ positional args\n",
    "            for index in self.args:\n",
    "                if isinstance(index, int) and index >= pos:\n",
    "                    self.last_read += self.args[index]\n",
    "        elif vararg == '**':\n",
    "            # We overapproximate by setting `kwargs` to _all_ passed keyword args\n",
    "            for index in self.args:\n",
    "                if isinstance(index, str):\n",
    "                    self.last_read += self.args[index]\n",
    "        elif name in self.args:\n",
    "            self.last_read = self.args[name]\n",
    "        elif pos in self.args:\n",
    "            self.last_read = self.args[pos]\n",
    "\n",
    "        if self.log:\n",
    "            code_name, lineno = self.caller_location()\n",
    "            print(f\"{code_name}:{lineno}: \"\n",
    "                  f\"restored params read {self.last_read}\")\n",
    "\n",
    "        self.ignore_location_change()\n",
    "        return super().param(name, value, pos)"
   ]
  },
  {
   "cell_type": "markdown",
   "metadata": {
    "slideshow": {
     "slide_type": "subslide"
    }
   },
   "source": [
    "Let us illustrate all these on a small example."
   ]
  },
  {
   "cell_type": "code",
   "execution_count": 158,
   "metadata": {
    "slideshow": {
     "slide_type": "fragment"
    }
   },
   "outputs": [],
   "source": [
    "def call_test():\n",
    "    c = 47\n",
    "\n",
    "    def gen(z):\n",
    "        yield z * c\n",
    "\n",
    "    def just_x(x, y):\n",
    "        return x\n",
    "\n",
    "    a = 42\n",
    "    b = gen(a)\n",
    "    d = list(b)[0]\n",
    "\n",
    "    return just_x(just_x(d, y=b), a)"
   ]
  },
  {
   "cell_type": "code",
   "execution_count": 159,
   "metadata": {
    "slideshow": {
     "slide_type": "subslide"
    }
   },
   "outputs": [
    {
     "data": {
      "text/plain": [
       "1974"
      ]
     },
     "execution_count": 159,
     "metadata": {},
     "output_type": "execute_result"
    }
   ],
   "source": [
    "call_test()"
   ]
  },
  {
   "cell_type": "markdown",
   "metadata": {
    "slideshow": {
     "slide_type": "fragment"
    }
   },
   "source": [
    "We apply all our transformers on this code:"
   ]
  },
  {
   "cell_type": "code",
   "execution_count": 160,
   "metadata": {
    "slideshow": {
     "slide_type": "subslide"
    }
   },
   "outputs": [
    {
     "name": "stdout",
     "output_type": "stream",
     "text": [
      "\u001b[34mdef\u001b[39;49;00m \u001b[32mcall_test\u001b[39;49;00m():\n",
      "    c = _data.set(\u001b[33m'\u001b[39;49;00m\u001b[33mc\u001b[39;49;00m\u001b[33m'\u001b[39;49;00m, \u001b[34m47\u001b[39;49;00m)\n",
      "\n",
      "    \u001b[34mdef\u001b[39;49;00m \u001b[32mgen\u001b[39;49;00m(z):\n",
      "        _data.param(\u001b[33m'\u001b[39;49;00m\u001b[33mz\u001b[39;49;00m\u001b[33m'\u001b[39;49;00m, z, pos=\u001b[34m1\u001b[39;49;00m)\n",
      "        \u001b[34myield\u001b[39;49;00m _data.set(\u001b[33m'\u001b[39;49;00m\u001b[33m<gen() yield value>\u001b[39;49;00m\u001b[33m'\u001b[39;49;00m, _data.get(\u001b[33m'\u001b[39;49;00m\u001b[33mz\u001b[39;49;00m\u001b[33m'\u001b[39;49;00m, z) * _data.\n",
      "            get(\u001b[33m'\u001b[39;49;00m\u001b[33mc\u001b[39;49;00m\u001b[33m'\u001b[39;49;00m, c))\n",
      "\n",
      "    \u001b[34mdef\u001b[39;49;00m \u001b[32mjust_x\u001b[39;49;00m(x, y):\n",
      "        _data.param(\u001b[33m'\u001b[39;49;00m\u001b[33mx\u001b[39;49;00m\u001b[33m'\u001b[39;49;00m, x, pos=\u001b[34m1\u001b[39;49;00m)\n",
      "        _data.param(\u001b[33m'\u001b[39;49;00m\u001b[33my\u001b[39;49;00m\u001b[33m'\u001b[39;49;00m, y, pos=\u001b[34m2\u001b[39;49;00m)\n",
      "        \u001b[34mreturn\u001b[39;49;00m _data.set(\u001b[33m'\u001b[39;49;00m\u001b[33m<just_x() return value>\u001b[39;49;00m\u001b[33m'\u001b[39;49;00m, _data.get(\u001b[33m'\u001b[39;49;00m\u001b[33mx\u001b[39;49;00m\u001b[33m'\u001b[39;49;00m, x))\n",
      "    a = _data.set(\u001b[33m'\u001b[39;49;00m\u001b[33ma\u001b[39;49;00m\u001b[33m'\u001b[39;49;00m, \u001b[34m42\u001b[39;49;00m)\n",
      "    b = _data.set(\u001b[33m'\u001b[39;49;00m\u001b[33mb\u001b[39;49;00m\u001b[33m'\u001b[39;49;00m, _data.ret(_data.call(_data.get(\u001b[33m'\u001b[39;49;00m\u001b[33mgen\u001b[39;49;00m\u001b[33m'\u001b[39;49;00m, gen))(_data.\n",
      "        arg(_data.get(\u001b[33m'\u001b[39;49;00m\u001b[33ma\u001b[39;49;00m\u001b[33m'\u001b[39;49;00m, a), pos=\u001b[34m1\u001b[39;49;00m))))\n",
      "    d = _data.set(\u001b[33m'\u001b[39;49;00m\u001b[33md\u001b[39;49;00m\u001b[33m'\u001b[39;49;00m, _data.ret(_data.call(\u001b[36mlist\u001b[39;49;00m)(_data.arg(_data.get(\u001b[33m'\u001b[39;49;00m\u001b[33mb\u001b[39;49;00m\u001b[33m'\u001b[39;49;00m,\n",
      "        b), pos=\u001b[34m1\u001b[39;49;00m)))[\u001b[34m0\u001b[39;49;00m])\n",
      "    \u001b[34mreturn\u001b[39;49;00m _data.set(\u001b[33m'\u001b[39;49;00m\u001b[33m<call_test() return value>\u001b[39;49;00m\u001b[33m'\u001b[39;49;00m, _data.ret(_data.call(\n",
      "        _data.get(\u001b[33m'\u001b[39;49;00m\u001b[33mjust_x\u001b[39;49;00m\u001b[33m'\u001b[39;49;00m, just_x))(_data.arg(_data.ret(_data.call(_data.\n",
      "        get(\u001b[33m'\u001b[39;49;00m\u001b[33mjust_x\u001b[39;49;00m\u001b[33m'\u001b[39;49;00m, just_x))(_data.arg(_data.get(\u001b[33m'\u001b[39;49;00m\u001b[33md\u001b[39;49;00m\u001b[33m'\u001b[39;49;00m, d), pos=\u001b[34m1\u001b[39;49;00m), y=_data\n",
      "        .arg(_data.get(\u001b[33m'\u001b[39;49;00m\u001b[33mb\u001b[39;49;00m\u001b[33m'\u001b[39;49;00m, b), kw=\u001b[33m'\u001b[39;49;00m\u001b[33my\u001b[39;49;00m\u001b[33m'\u001b[39;49;00m))), pos=\u001b[34m1\u001b[39;49;00m), _data.arg(_data.get(\u001b[33m'\u001b[39;49;00m\u001b[33ma\u001b[39;49;00m\u001b[33m'\u001b[39;49;00m,\n",
      "        a), pos=\u001b[34m2\u001b[39;49;00m))))"
     ]
    }
   ],
   "source": [
    "call_tree = ast.parse(inspect.getsource(call_test))\n",
    "TrackCallTransformer().visit(call_tree)\n",
    "TrackSetTransformer().visit(call_tree)\n",
    "TrackGetTransformer().visit(call_tree)\n",
    "TrackControlTransformer().visit(call_tree)\n",
    "TrackReturnTransformer().visit(call_tree)\n",
    "TrackParamsTransformer().visit(call_tree)\n",
    "dump_tree(call_tree)"
   ]
  },
  {
   "cell_type": "markdown",
   "metadata": {
    "slideshow": {
     "slide_type": "subslide"
    }
   },
   "source": [
    "Again, we capture the dependencies:"
   ]
  },
  {
   "cell_type": "code",
   "execution_count": 161,
   "metadata": {
    "slideshow": {
     "slide_type": "fragment"
    }
   },
   "outputs": [],
   "source": [
    "class DependencyTrackerTester(DataTrackerTester):\n",
    "    def make_data_tracker(self):\n",
    "        return DependencyTracker(log=self.log)"
   ]
  },
  {
   "cell_type": "code",
   "execution_count": 162,
   "metadata": {
    "slideshow": {
     "slide_type": "subslide"
    }
   },
   "outputs": [
    {
     "name": "stdout",
     "output_type": "stream",
     "text": [
      "call_test:2: clearing read variables [] (from check_location)\n",
      "call_test:2: setting c\n",
      "call_test:10: clearing read variables ['c'] (from check_location)\n",
      "call_test:10: setting a\n",
      "call_test:11: clearing read variables ['a'] (from check_location)\n",
      "call_test:11: getting gen\n",
      "call_test:11: calling <function call_test.<locals>.gen at 0x7f83c4fa6378>\n",
      "call_test:11: clearing read variables ['gen'] (from call_generator)\n",
      "call_test:11: getting a\n",
      "call_test:11: saving args read ['a']\n",
      "call_test:11: clearing read variables ['a'] (from arg)\n",
      "call_test:11: pushing arg #1\n",
      "call_test:11: returned from call\n",
      "call_test:11: wrapping generator <generator object call_test.<locals>.gen at 0x7f83c44cc518> (args={1: ['a']})\n",
      "call_test:11: setting b\n",
      "call_test:11: new data dependency: b <= a (call_test:10)\n",
      "call_test:12: calling <class 'list'>\n",
      "call_test:12: saving read variables ['b']\n",
      "call_test:12: clearing read variables ['b'] (from call)\n",
      "call_test:12: getting b\n",
      "call_test:12: saving args read ['b']\n",
      "call_test:12: clearing read variables ['b'] (from arg)\n",
      "call_test:12: pushing arg #1\n",
      "call_test:12: calling generator (args={1: ['a']})\n",
      "gen:4: clearing read variables [] (from param)\n",
      "gen:4: restored params read ['a']\n",
      "gen:4: initializing z #1\n",
      "gen:4: setting z\n",
      "gen:4: new data dependency: z <= a (call_test:10)\n",
      "gen:5: getting z\n",
      "gen:5: getting c\n",
      "gen:5: setting <gen() yield value>\n",
      "gen:5: new data dependency: <gen() yield value> <= z (gen:4)\n",
      "gen:5: new data dependency: <gen() yield value> <= z (gen:4)\n",
      "gen:5: new data dependency: <gen() yield value> <= c (call_test:2)\n",
      "call_test:12: returned from call\n",
      "call_test:12: restored read variables ['b', '<gen() yield value>']\n",
      "call_test:12: setting d\n",
      "call_test:12: new data dependency: d <= b (call_test:11)\n",
      "call_test:12: new data dependency: d <= <gen() yield value> (gen:5)\n",
      "call_test:14: clearing read variables ['d'] (from check_location)\n",
      "call_test:14: getting just_x\n",
      "call_test:14: calling <function call_test.<locals>.just_x at 0x7f83c4fa6510>\n",
      "call_test:14: saving read variables ['just_x']\n",
      "call_test:14: clearing read variables ['just_x'] (from call)\n",
      "call_test:14: getting just_x\n",
      "call_test:14: calling <function call_test.<locals>.just_x at 0x7f83c4fa6510>\n",
      "call_test:14: saving read variables ['just_x']\n",
      "call_test:14: clearing read variables ['just_x'] (from call)\n",
      "call_test:14: getting d\n",
      "call_test:14: saving args read ['d']\n",
      "call_test:14: clearing read variables ['d'] (from arg)\n",
      "call_test:14: pushing arg #1\n",
      "call_test:14: getting b\n",
      "call_test:14: saving args read ['b']\n",
      "call_test:14: clearing read variables ['b'] (from arg)\n",
      "call_test:14: pushing arg 'y'\n",
      "just_x:7: clearing read variables [] (from param)\n",
      "just_x:7: restored params read ['d']\n",
      "just_x:7: initializing x #1\n",
      "just_x:7: setting x\n",
      "just_x:7: new data dependency: x <= d (call_test:12)\n",
      "just_x:7: clearing read variables ['x'] (from param)\n",
      "just_x:7: restored params read ['b']\n",
      "just_x:7: initializing y #2\n",
      "just_x:7: setting y\n",
      "just_x:7: new data dependency: y <= b (call_test:11)\n",
      "just_x:8: getting x\n",
      "just_x:8: setting <just_x() return value>\n",
      "just_x:8: new data dependency: <just_x() return value> <= y (just_x:7)\n",
      "just_x:8: new data dependency: <just_x() return value> <= x (just_x:7)\n",
      "call_test:14: returned from call\n",
      "call_test:14: restored read variables ['just_x', '<just_x() return value>']\n",
      "call_test:14: saving args read ['just_x', '<just_x() return value>']\n",
      "call_test:14: clearing read variables ['just_x', '<just_x() return value>'] (from arg)\n",
      "call_test:14: pushing arg #1\n",
      "call_test:14: getting a\n",
      "call_test:14: saving args read ['a']\n",
      "call_test:14: clearing read variables ['a'] (from arg)\n",
      "call_test:14: pushing arg #2\n",
      "just_x:7: clearing read variables [] (from param)\n",
      "just_x:7: restored params read ['just_x', '<just_x() return value>']\n",
      "just_x:7: initializing x #1\n",
      "just_x:7: setting x\n",
      "just_x:7: new data dependency: x <= <just_x() return value> (just_x:8)\n",
      "just_x:7: clearing read variables ['x'] (from param)\n",
      "just_x:7: restored params read ['a']\n",
      "just_x:7: initializing y #2\n",
      "just_x:7: setting y\n",
      "just_x:7: new data dependency: y <= a (call_test:10)\n",
      "just_x:8: clearing read variables ['y'] (from check_location)\n",
      "just_x:8: getting x\n",
      "just_x:8: setting <just_x() return value>\n",
      "just_x:8: new data dependency: <just_x() return value> <= x (just_x:7)\n",
      "call_test:14: returned from call\n",
      "call_test:14: restored read variables ['just_x', '<just_x() return value>']\n",
      "call_test:14: setting <call_test() return value>\n",
      "call_test:14: new data dependency: <call_test() return value> <= <just_x() return value> (just_x:8)\n"
     ]
    }
   ],
   "source": [
    "with DependencyTrackerTester(call_tree, call_test) as deps:\n",
    "    call_test()"
   ]
  },
  {
   "cell_type": "markdown",
   "metadata": {
    "slideshow": {
     "slide_type": "subslide"
    }
   },
   "source": [
    "We see how \n",
    "\n",
    "* `a` and `b` properly flow into `x`, and `y`, respectively, and that only `x` flows into the return value of `just_x()`.\n",
    "* `a` flows into the generator `b` and later into the parameter `z` of `gen()`."
   ]
  },
  {
   "cell_type": "code",
   "execution_count": 163,
   "metadata": {
    "slideshow": {
     "slide_type": "fragment"
    }
   },
   "outputs": [
    {
     "data": {
      "image/svg+xml": [
       "<?xml version=\"1.0\" encoding=\"UTF-8\" standalone=\"no\"?>\n",
       "<!DOCTYPE svg PUBLIC \"-//W3C//DTD SVG 1.1//EN\"\n",
       " \"http://www.w3.org/Graphics/SVG/1.1/DTD/svg11.dtd\">\n",
       "<!-- Generated by graphviz version 2.40.1 (20161225.0304)\n",
       " -->\n",
       "<!-- Title: dependencies Pages: 1 -->\n",
       "<svg width=\"388pt\" height=\"568pt\"\n",
       " viewBox=\"0.00 0.00 388.00 568.00\" xmlns=\"http://www.w3.org/2000/svg\" xmlns:xlink=\"http://www.w3.org/1999/xlink\">\n",
       "<g id=\"graph0\" class=\"graph\" transform=\"scale(1 1) rotate(0) translate(4 564)\">\n",
       "<title>dependencies</title>\n",
       "<polygon fill=\"#ffffff\" stroke=\"transparent\" points=\"-4,4 -4,-564 384,-564 384,4 -4,4\"/>\n",
       "<!-- genyieldvalue_gen_5 -->\n",
       "<g id=\"node1\" class=\"node\">\n",
       "<title>genyieldvalue_gen_5</title>\n",
       "<g id=\"a_node1\"><a xlink:title=\"gen:5\">\n",
       "<polygon fill=\"#ffdab9\" stroke=\"#000000\" points=\"380,-334 204,-334 204,-298 380,-298 380,-334\"/>\n",
       "<text text-anchor=\"start\" x=\"212\" y=\"-313.3\" font-family=\"Fira Mono, Courier, monospace\" font-weight=\"bold\" font-style=\"italic\" font-size=\"14.00\" fill=\"#000000\">&lt;gen() yield value&gt;</text>\n",
       "</a>\n",
       "</g>\n",
       "</g>\n",
       "<!-- d_call_test_12 -->\n",
       "<g id=\"node9\" class=\"node\">\n",
       "<title>d_call_test_12</title>\n",
       "<g id=\"a_node9\"><a xlink:title=\"call_test:12\">\n",
       "<polygon fill=\"#ffdab9\" stroke=\"#000000\" points=\"244,-260 152,-260 152,-220 244,-220 244,-260\"/>\n",
       "<text text-anchor=\"start\" x=\"193.5\" y=\"-245.8\" font-family=\"Fira Mono, Courier, monospace\" font-weight=\"bold\" font-size=\"14.00\" fill=\"#000000\">d</text>\n",
       "<text text-anchor=\"start\" x=\"160\" y=\"-226.8\" font-family=\"Fira Mono, Courier, monospace\" font-size=\"9.00\" fill=\"#000000\">d = list(b)[0]</text>\n",
       "</a>\n",
       "</g>\n",
       "</g>\n",
       "<!-- genyieldvalue_gen_5&#45;&gt;d_call_test_12 -->\n",
       "<g id=\"edge8\" class=\"edge\">\n",
       "<title>genyieldvalue_gen_5&#45;&gt;d_call_test_12</title>\n",
       "<path fill=\"none\" stroke=\"#000000\" d=\"M269.7233,-297.9891C258.0337,-288.5379 243.4918,-276.7806 230.5637,-266.3281\"/>\n",
       "<polygon fill=\"#000000\" stroke=\"#000000\" points=\"232.7396,-263.5864 222.7627,-260.0209 228.3385,-269.0299 232.7396,-263.5864\"/>\n",
       "</g>\n",
       "<!-- z_gen_4 -->\n",
       "<g id=\"node2\" class=\"node\">\n",
       "<title>z_gen_4</title>\n",
       "<g id=\"a_node2\"><a xlink:title=\"gen:4\">\n",
       "<polygon fill=\"#ffdab9\" stroke=\"#000000\" points=\"264,-408 210,-408 210,-372 264,-372 264,-408\"/>\n",
       "<text text-anchor=\"start\" x=\"232.5\" y=\"-387.3\" font-family=\"Fira Mono, Courier, monospace\" font-weight=\"bold\" font-size=\"14.00\" fill=\"#000000\">z</text>\n",
       "</a>\n",
       "</g>\n",
       "</g>\n",
       "<!-- z_gen_4&#45;&gt;genyieldvalue_gen_5 -->\n",
       "<g id=\"edge1\" class=\"edge\">\n",
       "<title>z_gen_4&#45;&gt;genyieldvalue_gen_5</title>\n",
       "<path fill=\"none\" stroke=\"#000000\" d=\"M244.6798,-371.7079C250.4658,-362.7466 258.4157,-351.7986 266.2082,-341.9873\"/>\n",
       "<polygon fill=\"#000000\" stroke=\"#000000\" points=\"269.0503,-344.0406 272.6658,-334.0817 263.629,-339.6122 269.0503,-344.0406\"/>\n",
       "</g>\n",
       "<!-- z_gen_4&#45;&gt;genyieldvalue_gen_5 -->\n",
       "<!-- c_call_test_2 -->\n",
       "<g id=\"node3\" class=\"node\">\n",
       "<title>c_call_test_2</title>\n",
       "<g id=\"a_node3\"><a xlink:title=\"call_test:2\">\n",
       "<polygon fill=\"#ffdab9\" stroke=\"#000000\" points=\"248,-560 194,-560 194,-520 248,-520 248,-560\"/>\n",
       "<text text-anchor=\"start\" x=\"216.5\" y=\"-545.8\" font-family=\"Fira Mono, Courier, monospace\" font-weight=\"bold\" font-size=\"14.00\" fill=\"#000000\">c</text>\n",
       "<text text-anchor=\"start\" x=\"204.5\" y=\"-526.8\" font-family=\"Fira Mono, Courier, monospace\" font-size=\"9.00\" fill=\"#000000\">c = 47</text>\n",
       "</a>\n",
       "</g>\n",
       "</g>\n",
       "<!-- c_call_test_2&#45;&gt;genyieldvalue_gen_5 -->\n",
       "<g id=\"edge2\" class=\"edge\">\n",
       "<title>c_call_test_2&#45;&gt;genyieldvalue_gen_5</title>\n",
       "<path fill=\"none\" stroke=\"#000000\" d=\"M230.2159,-519.8053C241.5906,-494.2322 260.9074,-448.6024 273,-408 279.2654,-386.9632 284.1944,-362.6179 287.4605,-344.2571\"/>\n",
       "<polygon fill=\"#000000\" stroke=\"#000000\" points=\"290.943,-344.657 289.1889,-334.2084 284.0443,-343.4704 290.943,-344.657\"/>\n",
       "</g>\n",
       "<!-- a_call_test_10 -->\n",
       "<g id=\"node5\" class=\"node\">\n",
       "<title>a_call_test_10</title>\n",
       "<g id=\"a_node5\"><a xlink:title=\"call_test:10\">\n",
       "<polygon fill=\"#ffdab9\" stroke=\"#000000\" points=\"177,-484 123,-484 123,-444 177,-444 177,-484\"/>\n",
       "<text text-anchor=\"start\" x=\"145.5\" y=\"-469.8\" font-family=\"Fira Mono, Courier, monospace\" font-weight=\"bold\" font-size=\"14.00\" fill=\"#000000\">a</text>\n",
       "<text text-anchor=\"start\" x=\"133.5\" y=\"-450.8\" font-family=\"Fira Mono, Courier, monospace\" font-size=\"9.00\" fill=\"#000000\">a = 42</text>\n",
       "</a>\n",
       "</g>\n",
       "</g>\n",
       "<!-- c_call_test_2&#45;&gt;a_call_test_10 -->\n",
       "<!-- y_just_x_7 -->\n",
       "<g id=\"node4\" class=\"node\">\n",
       "<title>y_just_x_7</title>\n",
       "<g id=\"a_node4\"><a xlink:title=\"just_x:7\">\n",
       "<polygon fill=\"#ffdab9\" stroke=\"#000000\" points=\"132,-184 78,-184 78,-148 132,-148 132,-184\"/>\n",
       "<text text-anchor=\"start\" x=\"100.5\" y=\"-163.3\" font-family=\"Fira Mono, Courier, monospace\" font-weight=\"bold\" font-size=\"14.00\" fill=\"#000000\">y</text>\n",
       "</a>\n",
       "</g>\n",
       "</g>\n",
       "<!-- just_xreturnvalue_just_x_8 -->\n",
       "<g id=\"node8\" class=\"node\">\n",
       "<title>just_xreturnvalue_just_x_8</title>\n",
       "<g id=\"a_node8\"><a xlink:title=\"just_x:8\">\n",
       "<polygon fill=\"#ffdab9\" stroke=\"#000000\" points=\"210,-112 0,-112 0,-76 210,-76 210,-112\"/>\n",
       "<text text-anchor=\"start\" x=\"8\" y=\"-91.3\" font-family=\"Fira Mono, Courier, monospace\" font-weight=\"bold\" font-style=\"italic\" font-size=\"14.00\" fill=\"#000000\">&lt;just_x() return value&gt;</text>\n",
       "</a>\n",
       "</g>\n",
       "</g>\n",
       "<!-- y_just_x_7&#45;&gt;just_xreturnvalue_just_x_8 -->\n",
       "<g id=\"edge13\" class=\"edge\">\n",
       "<title>y_just_x_7&#45;&gt;just_xreturnvalue_just_x_8</title>\n",
       "<path fill=\"none\" stroke=\"#000000\" d=\"M99.0476,-147.8314C98.2972,-140.131 98.0763,-130.9743 98.3849,-122.4166\"/>\n",
       "<polygon fill=\"#000000\" stroke=\"#000000\" points=\"101.8792,-122.6161 99.024,-112.4133 94.8935,-122.1697 101.8792,-122.6161\"/>\n",
       "</g>\n",
       "<!-- y_just_x_7&#45;&gt;just_xreturnvalue_just_x_8 -->\n",
       "<!-- a_call_test_10&#45;&gt;z_gen_4 -->\n",
       "<g id=\"edge7\" class=\"edge\">\n",
       "<title>a_call_test_10&#45;&gt;z_gen_4</title>\n",
       "<path fill=\"none\" stroke=\"#000000\" d=\"M173.7731,-443.7792C184.2991,-434.8261 196.7801,-424.21 207.8608,-414.785\"/>\n",
       "<polygon fill=\"#000000\" stroke=\"#000000\" points=\"210.2843,-417.3186 215.6339,-408.1735 205.7489,-411.9865 210.2843,-417.3186\"/>\n",
       "</g>\n",
       "<!-- a_call_test_10&#45;&gt;y_just_x_7 -->\n",
       "<g id=\"edge3\" class=\"edge\">\n",
       "<title>a_call_test_10&#45;&gt;y_just_x_7</title>\n",
       "<path fill=\"none\" stroke=\"#000000\" d=\"M140.4575,-443.7338C129.3702,-418.9667 111.7366,-375.4737 105,-336 96.5772,-286.646 99.3173,-228.0519 102.1245,-194.1359\"/>\n",
       "<polygon fill=\"#000000\" stroke=\"#000000\" points=\"105.6231,-194.3055 103.0242,-184.0344 98.6507,-193.6844 105.6231,-194.3055\"/>\n",
       "</g>\n",
       "<!-- b_call_test_11 -->\n",
       "<g id=\"node6\" class=\"node\">\n",
       "<title>b_call_test_11</title>\n",
       "<g id=\"a_node6\"><a xlink:title=\"call_test:11\">\n",
       "<polygon fill=\"#ffdab9\" stroke=\"#000000\" points=\"185.5,-336 114.5,-336 114.5,-296 185.5,-296 185.5,-336\"/>\n",
       "<text text-anchor=\"start\" x=\"145.5\" y=\"-321.8\" font-family=\"Fira Mono, Courier, monospace\" font-weight=\"bold\" font-size=\"14.00\" fill=\"#000000\">b</text>\n",
       "<text text-anchor=\"start\" x=\"122.5\" y=\"-302.8\" font-family=\"Fira Mono, Courier, monospace\" font-size=\"9.00\" fill=\"#000000\">b = gen(a)</text>\n",
       "</a>\n",
       "</g>\n",
       "</g>\n",
       "<!-- a_call_test_10&#45;&gt;b_call_test_11 -->\n",
       "<g id=\"edge5\" class=\"edge\">\n",
       "<title>a_call_test_10&#45;&gt;b_call_test_11</title>\n",
       "<path fill=\"none\" stroke=\"#000000\" d=\"M145.1831,-443.7316C142.8809,-418.4897 142.635,-375.1509 144.4455,-346.0436\"/>\n",
       "<polygon fill=\"#000000\" stroke=\"#000000\" points=\"147.9391,-346.2598 145.2056,-336.0237 140.9591,-345.7302 147.9391,-346.2598\"/>\n",
       "</g>\n",
       "<!-- a_call_test_10&#45;&gt;b_call_test_11 -->\n",
       "<!-- b_call_test_11&#45;&gt;y_just_x_7 -->\n",
       "<g id=\"edge4\" class=\"edge\">\n",
       "<title>b_call_test_11&#45;&gt;y_just_x_7</title>\n",
       "<path fill=\"none\" stroke=\"#000000\" d=\"M143.9311,-295.7703C136.0338,-269.4459 122.1983,-223.3276 113.325,-193.7501\"/>\n",
       "<polygon fill=\"#000000\" stroke=\"#000000\" points=\"116.6372,-192.6101 110.4113,-184.0376 109.9324,-194.6216 116.6372,-192.6101\"/>\n",
       "</g>\n",
       "<!-- b_call_test_11&#45;&gt;d_call_test_12 -->\n",
       "<g id=\"edge9\" class=\"edge\">\n",
       "<title>b_call_test_11&#45;&gt;d_call_test_12</title>\n",
       "<path fill=\"none\" stroke=\"#000000\" d=\"M156.8057,-295.6334C161.3626,-287.3033 167.3739,-277.5207 173.4404,-268.501\"/>\n",
       "<polygon fill=\"#000000\" stroke=\"#000000\" points=\"176.4032,-270.3706 179.228,-260.1593 170.6519,-266.3802 176.4032,-270.3706\"/>\n",
       "</g>\n",
       "<!-- b_call_test_11&#45;&gt;d_call_test_12 -->\n",
       "<!-- call_testreturnvalue_call_test_14 -->\n",
       "<g id=\"node7\" class=\"node\">\n",
       "<title>call_testreturnvalue_call_test_14</title>\n",
       "<g id=\"a_node7\"><a xlink:title=\"call_test:14\">\n",
       "<polygon fill=\"#ffdab9\" stroke=\"#000000\" points=\"288.5,-40 53.5,-40 53.5,0 288.5,0 288.5,-40\"/>\n",
       "<text text-anchor=\"start\" x=\"61.5\" y=\"-25.8\" font-family=\"Fira Mono, Courier, monospace\" font-weight=\"bold\" font-style=\"italic\" font-size=\"14.00\" fill=\"#000000\">&lt;call_test() return value&gt;</text>\n",
       "<text text-anchor=\"start\" x=\"84.5\" y=\"-6.8\" font-family=\"Fira Mono, Courier, monospace\" font-size=\"9.00\" fill=\"#000000\">return just_x(just_x(d, y=b), a)</text>\n",
       "</a>\n",
       "</g>\n",
       "</g>\n",
       "<!-- just_xreturnvalue_just_x_8&#45;&gt;call_testreturnvalue_call_test_14 -->\n",
       "<g id=\"edge6\" class=\"edge\">\n",
       "<title>just_xreturnvalue_just_x_8&#45;&gt;call_testreturnvalue_call_test_14</title>\n",
       "<path fill=\"none\" stroke=\"#000000\" d=\"M121.3146,-75.7079C128.8299,-67.2816 137.9119,-57.0988 146.2446,-47.756\"/>\n",
       "<polygon fill=\"#000000\" stroke=\"#000000\" points=\"148.9728,-49.9554 153.017,-40.1628 143.7488,-45.2961 148.9728,-49.9554\"/>\n",
       "</g>\n",
       "<!-- x_just_x_7 -->\n",
       "<g id=\"node10\" class=\"node\">\n",
       "<title>x_just_x_7</title>\n",
       "<g id=\"a_node10\"><a xlink:title=\"just_x:7\">\n",
       "<polygon fill=\"#ffdab9\" stroke=\"#000000\" points=\"204,-184 150,-184 150,-148 204,-148 204,-184\"/>\n",
       "<text text-anchor=\"start\" x=\"172.5\" y=\"-163.3\" font-family=\"Fira Mono, Courier, monospace\" font-weight=\"bold\" font-size=\"14.00\" fill=\"#000000\">x</text>\n",
       "</a>\n",
       "</g>\n",
       "</g>\n",
       "<!-- just_xreturnvalue_just_x_8&#45;&gt;x_just_x_7 -->\n",
       "<g id=\"edge11\" class=\"edge\">\n",
       "<title>just_xreturnvalue_just_x_8&#45;&gt;x_just_x_7</title>\n",
       "<path fill=\"none\" stroke=\"#000000\" d=\"M129.1147,-112.1628C138.4722,-120.6891 148.9667,-131.0016 157.8076,-140.3099\"/>\n",
       "<polygon fill=\"#000000\" stroke=\"#000000\" points=\"155.4173,-142.8796 164.7838,-147.8314 160.5496,-138.1194 155.4173,-142.8796\"/>\n",
       "</g>\n",
       "<!-- d_call_test_12&#45;&gt;call_testreturnvalue_call_test_14 -->\n",
       "<!-- d_call_test_12&#45;&gt;x_just_x_7 -->\n",
       "<g id=\"edge10\" class=\"edge\">\n",
       "<title>d_call_test_12&#45;&gt;x_just_x_7</title>\n",
       "<path fill=\"none\" stroke=\"#000000\" d=\"M192.2617,-219.7792C189.9923,-211.7822 187.3463,-202.4585 184.9011,-193.842\"/>\n",
       "<polygon fill=\"#000000\" stroke=\"#000000\" points=\"188.2545,-192.8381 182.1573,-184.1735 181.5204,-194.7492 188.2545,-192.8381\"/>\n",
       "</g>\n",
       "<!-- x_just_x_7&#45;&gt;just_xreturnvalue_just_x_8 -->\n",
       "<g id=\"edge12\" class=\"edge\">\n",
       "<title>x_just_x_7&#45;&gt;just_xreturnvalue_just_x_8</title>\n",
       "<path fill=\"none\" stroke=\"#000000\" d=\"M152.879,-147.8314C143.5923,-139.3694 133.1867,-129.1489 124.3891,-119.8971\"/>\n",
       "<polygon fill=\"#000000\" stroke=\"#000000\" points=\"126.8075,-117.3579 117.4373,-112.4133 121.6788,-122.122 126.8075,-117.3579\"/>\n",
       "</g>\n",
       "</g>\n",
       "</svg>\n"
      ],
      "text/plain": [
       "<graphviz.dot.Digraph at 0x7f83c5187470>"
      ]
     },
     "execution_count": 163,
     "metadata": {},
     "output_type": "execute_result"
    }
   ],
   "source": [
    "deps.dependencies().graph()"
   ]
  },
  {
   "cell_type": "markdown",
   "metadata": {
    "slideshow": {
     "slide_type": "fragment"
    }
   },
   "source": [
    "(Note that the Python `inspect` module cannot get the source code of nested functions such as `just_x()`; hence, the variables and return values of `just_x()` are listed without locations.)"
   ]
  },
  {
   "cell_type": "markdown",
   "metadata": {
    "slideshow": {
     "slide_type": "subslide"
    }
   },
   "source": [
    "### End of Excursion"
   ]
  },
  {
   "cell_type": "markdown",
   "metadata": {
    "slideshow": {
     "slide_type": "subslide"
    }
   },
   "source": [
    "### Excursion: Diagnostics"
   ]
  },
  {
   "cell_type": "markdown",
   "metadata": {
    "slideshow": {
     "slide_type": "fragment"
    }
   },
   "source": [
    "To check the dependencies we obtain, we perform some minimal checks on whether a referenced variable actually also occurs in the source code."
   ]
  },
  {
   "cell_type": "code",
   "execution_count": 164,
   "metadata": {
    "slideshow": {
     "slide_type": "skip"
    }
   },
   "outputs": [],
   "source": [
    "import re\n",
    "import sys"
   ]
  },
  {
   "cell_type": "code",
   "execution_count": 165,
   "metadata": {
    "ipub": {
     "ignore": true
    },
    "slideshow": {
     "slide_type": "subslide"
    }
   },
   "outputs": [],
   "source": [
    "class Dependencies(Dependencies):\n",
    "    def validate(self):\n",
    "        super().validate()\n",
    "\n",
    "        for var in self.all_vars():\n",
    "            source = self.source(var)\n",
    "            if not source:\n",
    "                continue\n",
    "\n",
    "            for dep_var in self.data[var] | self.control[var]:\n",
    "                dep_name, dep_location = dep_var\n",
    "\n",
    "                if dep_name == DependencyTracker.TEST:\n",
    "                    continue  # dependency on <test>\n",
    "\n",
    "                if dep_name.endswith(' value>'):\n",
    "                    if source.find('(') < 0:\n",
    "                        print(f\"Warning: {self.format_var(var)} \"\n",
    "                              f\"depends on {self.format_var(dep_var)}, \"\n",
    "                              f\"but {repr(source)} does not \"\n",
    "                              f\"seem to have a call\",\n",
    "                              file=sys.stderr\n",
    "                             )\n",
    "                    continue\n",
    "\n",
    "                if source.startswith('def'):\n",
    "                    continue   # function call\n",
    "\n",
    "                rx = re.compile(r'\\b' + dep_name + r'\\b')\n",
    "                if rx.search(source) is None:\n",
    "                    print(f\"Warning: {self.format_var(var)} \"\n",
    "                          f\"depends on {self.format_var(dep_var)}, \"\n",
    "                          f\"but {repr(dep_name)} does not occur \"\n",
    "                          f\"in {repr(source)}\",\n",
    "                          file=sys.stderr\n",
    "                         )"
   ]
  },
  {
   "cell_type": "markdown",
   "metadata": {
    "slideshow": {
     "slide_type": "subslide"
    }
   },
   "source": [
    "`validate()` is automatically called whenever dependencies are output, so if you see any of its error messages, something may be wrong."
   ]
  },
  {
   "cell_type": "markdown",
   "metadata": {
    "slideshow": {
     "slide_type": "subslide"
    }
   },
   "source": [
    "### End of Excursion"
   ]
  },
  {
   "cell_type": "markdown",
   "metadata": {
    "slideshow": {
     "slide_type": "fragment"
    }
   },
   "source": [
    "At this point, `DependencyTracker` is complete; we have all in place to track even complex dependencies in instrumented code."
   ]
  },
  {
   "cell_type": "markdown",
   "metadata": {
    "slideshow": {
     "slide_type": "slide"
    }
   },
   "source": [
    "## Slicing Code"
   ]
  },
  {
   "cell_type": "markdown",
   "metadata": {
    "slideshow": {
     "slide_type": "subslide"
    }
   },
   "source": [
    "Let us now put all these pieces together. We have a means to instrument the source code (our various `NodeTransformer` classes) and a means to track dependencies (the `DependencyTracker` class). Now comes the time to put all these things together in a single tool, which we call `Slicer`.\n",
    "\n",
    "The basic idea of `Slicer` is that you can use it as follows:\n",
    "\n",
    "```python\n",
    "with Slicer(func_1, func_2, ...) as slicer:\n",
    "    func(...)\n",
    "```\n",
    "\n",
    "which first _instruments_ the functions given in the constructor (i.e., replaces their definitions with instrumented counterparts), and then runs the code in the body, calling instrumented functions, and allowing the slicer to collect dependencies. When the body returns, the original definition of the instrumented functions is restored."
   ]
  },
  {
   "cell_type": "markdown",
   "metadata": {
    "slideshow": {
     "slide_type": "subslide"
    }
   },
   "source": [
    "### An Instrumenter Base Class"
   ]
  },
  {
   "cell_type": "markdown",
   "metadata": {
    "slideshow": {
     "slide_type": "fragment"
    }
   },
   "source": [
    "The basic functionality of instrumenting a number of functions (and restoring them at the end of the `with` block) comes in a `Instrumenter` base class. It invokes `instrument()` on all items to instrument; this is to be overloaded in subclasses."
   ]
  },
  {
   "cell_type": "code",
   "execution_count": 166,
   "metadata": {
    "slideshow": {
     "slide_type": "subslide"
    }
   },
   "outputs": [],
   "source": [
    "class Instrumenter(object):\n",
    "    def __init__(self, *items_to_instrument, log=False):\n",
    "        self.log = log\n",
    "        self.items_to_instrument = items_to_instrument\n",
    "\n",
    "    def __enter__(self):\n",
    "        \"\"\"Instrument sources\"\"\"\n",
    "        for item in self.items_to_instrument:\n",
    "            self.instrument(item)\n",
    "        return self\n",
    "\n",
    "    def instrument(self, item):\n",
    "        \"\"\"Instrument item. To be overloaded in subclasses.\"\"\"\n",
    "        if self.log:\n",
    "            print(\"Instrumenting\", item)"
   ]
  },
  {
   "cell_type": "markdown",
   "metadata": {
    "slideshow": {
     "slide_type": "subslide"
    }
   },
   "source": [
    "At the end of the `with` block, we restore the given functions."
   ]
  },
  {
   "cell_type": "code",
   "execution_count": 167,
   "metadata": {
    "slideshow": {
     "slide_type": "fragment"
    }
   },
   "outputs": [],
   "source": [
    "class Instrumenter(Instrumenter):\n",
    "    def __exit__(self, exc_type, exc_value, traceback):\n",
    "        \"\"\"Restore sources\"\"\"\n",
    "        self.restore()\n",
    "\n",
    "    def restore(self):\n",
    "        for item in self.items_to_instrument:\n",
    "            globals()[item.__name__] = item"
   ]
  },
  {
   "cell_type": "markdown",
   "metadata": {
    "slideshow": {
     "slide_type": "fragment"
    }
   },
   "source": [
    "By default, an `Instrumenter` simply outputs a log message:"
   ]
  },
  {
   "cell_type": "code",
   "execution_count": 168,
   "metadata": {
    "slideshow": {
     "slide_type": "fragment"
    }
   },
   "outputs": [
    {
     "name": "stdout",
     "output_type": "stream",
     "text": [
      "Instrumenting <function middle at 0x7f83c3ef5840>\n"
     ]
    }
   ],
   "source": [
    "with Instrumenter(middle, log=True) as ins:\n",
    "    pass"
   ]
  },
  {
   "cell_type": "markdown",
   "metadata": {
    "slideshow": {
     "slide_type": "subslide"
    }
   },
   "source": [
    "### The Slicer Class"
   ]
  },
  {
   "cell_type": "markdown",
   "metadata": {
    "slideshow": {
     "slide_type": "fragment"
    }
   },
   "source": [
    "The `Slicer` class comes as a subclass of `Instrumenter`. It sets its own dependency tracker (which can be overwritten by setting the `dependency_tracker` keyword argument)."
   ]
  },
  {
   "cell_type": "code",
   "execution_count": 169,
   "metadata": {
    "slideshow": {
     "slide_type": "subslide"
    }
   },
   "outputs": [],
   "source": [
    "class Slicer(Instrumenter):\n",
    "    def __init__(self, *items_to_instrument, \n",
    "                 dependency_tracker=None,\n",
    "                 log=False):\n",
    "        super().__init__(*items_to_instrument, log=log)\n",
    "        if len(items_to_instrument) == 0:\n",
    "            raise ValueError(\"Need one or more items to instrument\")\n",
    "\n",
    "        if dependency_tracker is None:\n",
    "            dependency_tracker = DependencyTracker(log=(log > 1))\n",
    "        self.dependency_tracker = dependency_tracker\n",
    "        self.saved_dependencies = None"
   ]
  },
  {
   "cell_type": "markdown",
   "metadata": {
    "slideshow": {
     "slide_type": "fragment"
    }
   },
   "source": [
    "The `parse()` method parses a given item, returning its AST."
   ]
  },
  {
   "cell_type": "code",
   "execution_count": 170,
   "metadata": {
    "slideshow": {
     "slide_type": "subslide"
    }
   },
   "outputs": [],
   "source": [
    "class Slicer(Slicer):\n",
    "    def parse(self, item):\n",
    "        \"\"\"Parse ITEM, returning its AST\"\"\"\n",
    "        source_lines, lineno = inspect.getsourcelines(item)\n",
    "        source = \"\".join(source_lines)\n",
    "\n",
    "        if self.log >= 2:\n",
    "            print_content(source, '.py', start_line_number=lineno)\n",
    "            print()\n",
    "            print()\n",
    "\n",
    "        tree = ast.parse(source)\n",
    "        ast.increment_lineno(tree, lineno - 1)\n",
    "        return tree"
   ]
  },
  {
   "cell_type": "markdown",
   "metadata": {
    "slideshow": {
     "slide_type": "subslide"
    }
   },
   "source": [
    "The `transform()` method applies the list of transformers defined earlier in this chapter."
   ]
  },
  {
   "cell_type": "code",
   "execution_count": 171,
   "metadata": {
    "slideshow": {
     "slide_type": "subslide"
    }
   },
   "outputs": [],
   "source": [
    "class Slicer(Slicer):\n",
    "    def transformers(self):\n",
    "        \"\"\"List of transformers to apply. To be extended in subclasses.\"\"\"\n",
    "        return [\n",
    "            TrackCallTransformer(),\n",
    "            TrackSetTransformer(),\n",
    "            TrackGetTransformer(),\n",
    "            TrackControlTransformer(),\n",
    "            TrackReturnTransformer(),\n",
    "            TrackParamsTransformer()\n",
    "        ]\n",
    "\n",
    "    def transform(self, tree):\n",
    "        \"\"\"Apply transformers on tree. May be extended in subclasses.\"\"\"\n",
    "        # Apply transformers\n",
    "        for transformer in self.transformers():\n",
    "            if self.log >= 3:\n",
    "                print(transformer.__class__.__name__ + ':')\n",
    "\n",
    "            transformer.visit(tree)\n",
    "            ast.fix_missing_locations(tree)\n",
    "            if self.log >= 3:\n",
    "                print_content(astor.to_source(tree, \n",
    "                                              add_line_information=self.log >= 4),\n",
    "                              '.py')\n",
    "                print()\n",
    "                print()\n",
    "\n",
    "        if 0 < self.log < 3:\n",
    "            print_content(astor.to_source(tree), '.py')\n",
    "            print()\n",
    "            print()\n",
    "\n",
    "        return tree"
   ]
  },
  {
   "cell_type": "markdown",
   "metadata": {
    "slideshow": {
     "slide_type": "subslide"
    }
   },
   "source": [
    "The `execute()` method executes the transformed tree (such that we get the new definitions). We also make the dependency tracker available for the code in the `with` block."
   ]
  },
  {
   "cell_type": "code",
   "execution_count": 172,
   "metadata": {
    "slideshow": {
     "slide_type": "fragment"
    }
   },
   "outputs": [],
   "source": [
    "class Slicer(Slicer):\n",
    "    def execute(self, tree):\n",
    "        \"\"\"Compile and execute tree. May be extended in subclasses.\"\"\"\n",
    "        code = compile(tree, f'<{self.__class__.__name__}>', 'exec')\n",
    "        exec(code, globals())\n",
    "        globals()[DATA_TRACKER] = self.dependency_tracker"
   ]
  },
  {
   "cell_type": "markdown",
   "metadata": {
    "slideshow": {
     "slide_type": "fragment"
    }
   },
   "source": [
    "The `instrument()` method puts all these together, first parsing the item into a tree, then transforming and executing the tree."
   ]
  },
  {
   "cell_type": "code",
   "execution_count": 173,
   "metadata": {
    "slideshow": {
     "slide_type": "subslide"
    }
   },
   "outputs": [],
   "source": [
    "class Slicer(Slicer):\n",
    "    def instrument(self, item):\n",
    "        \"\"\"Instrument ITEM, transforming its source code, and re-defining it.\"\"\"\n",
    "        super().instrument(item)\n",
    "        tree = self.parse(item)\n",
    "        tree = self.transform(tree)\n",
    "        self.execute(tree)"
   ]
  },
  {
   "cell_type": "markdown",
   "metadata": {
    "slideshow": {
     "slide_type": "fragment"
    }
   },
   "source": [
    "When we restore the original definition (after the `with` block), we save the dependency tracker again."
   ]
  },
  {
   "cell_type": "code",
   "execution_count": 174,
   "metadata": {
    "slideshow": {
     "slide_type": "subslide"
    }
   },
   "outputs": [],
   "source": [
    "class Slicer(Slicer):\n",
    "    def restore(self):\n",
    "        \"\"\"Restore original code.\"\"\"\n",
    "        if DATA_TRACKER in globals():\n",
    "            self.saved_dependencies = globals()[DATA_TRACKER]\n",
    "            del globals()[DATA_TRACKER]\n",
    "        super().restore()"
   ]
  },
  {
   "cell_type": "markdown",
   "metadata": {
    "slideshow": {
     "slide_type": "fragment"
    }
   },
   "source": [
    "Three convenience functions allow us to see the dependencies as (well) dependencies, as code, and as graph. These simply invoke the respective functions on the saved dependencies."
   ]
  },
  {
   "cell_type": "code",
   "execution_count": 175,
   "metadata": {
    "slideshow": {
     "slide_type": "subslide"
    }
   },
   "outputs": [],
   "source": [
    "class Slicer(Slicer):\n",
    "    def dependencies(self):\n",
    "        if self.saved_dependencies is None:\n",
    "            return Dependencies({}, {})\n",
    "        return self.saved_dependencies.dependencies()\n",
    "\n",
    "    def code(self, *args, **kwargs):\n",
    "        first = True\n",
    "        for item in self.items_to_instrument:\n",
    "            if not first:\n",
    "                print()\n",
    "            self.dependencies().code(item, *args, **kwargs)\n",
    "            first = False\n",
    "\n",
    "    def graph(self, *args, **kwargs):\n",
    "        return self.dependencies().graph(*args, **kwargs)"
   ]
  },
  {
   "cell_type": "markdown",
   "metadata": {
    "slideshow": {
     "slide_type": "subslide"
    }
   },
   "source": [
    "Let us put `Slicer` into action. We track our `middle()` function:"
   ]
  },
  {
   "cell_type": "code",
   "execution_count": 176,
   "metadata": {
    "slideshow": {
     "slide_type": "fragment"
    }
   },
   "outputs": [
    {
     "data": {
      "text/plain": [
       "1"
      ]
     },
     "execution_count": 176,
     "metadata": {},
     "output_type": "execute_result"
    }
   ],
   "source": [
    "with Slicer(middle) as slicer:\n",
    "    m = middle(2, 1, 3)\n",
    "m"
   ]
  },
  {
   "cell_type": "markdown",
   "metadata": {
    "slideshow": {
     "slide_type": "fragment"
    }
   },
   "source": [
    "These are the dependencies in string form (used when printed):"
   ]
  },
  {
   "cell_type": "code",
   "execution_count": 177,
   "metadata": {
    "slideshow": {
     "slide_type": "fragment"
    }
   },
   "outputs": [
    {
     "name": "stdout",
     "output_type": "stream",
     "text": [
      "middle():\n",
      "    <test> (2) <= y (1), z (1)\n",
      "    <test> (3) <= y (1), x (1); <- <test> (2)\n",
      "    <test> (5) <= z (1), x (1); <- <test> (3)\n",
      "    <middle() return value> (6) <= y (1); <- <test> (5)\n",
      "\n"
     ]
    }
   ],
   "source": [
    "print(slicer.dependencies())"
   ]
  },
  {
   "cell_type": "markdown",
   "metadata": {
    "slideshow": {
     "slide_type": "fragment"
    }
   },
   "source": [
    "This is the code form:"
   ]
  },
  {
   "cell_type": "code",
   "execution_count": 178,
   "metadata": {
    "slideshow": {
     "slide_type": "subslide"
    }
   },
   "outputs": [
    {
     "name": "stdout",
     "output_type": "stream",
     "text": [
      "*    1 \u001b[34mdef\u001b[39;49;00m \u001b[32mmiddle\u001b[39;49;00m(x, y, z):\n",
      "*    2     \u001b[34mif\u001b[39;49;00m y < z:  \u001b[37m# <= y (1), z (1)\u001b[39;49;00m\n",
      "*    3         \u001b[34mif\u001b[39;49;00m x < y:  \u001b[37m# <= y (1), x (1); <- <test> (2)\u001b[39;49;00m\n",
      "     4             \u001b[34mreturn\u001b[39;49;00m y\n",
      "*    5         \u001b[34melif\u001b[39;49;00m x < z:  \u001b[37m# <= z (1), x (1); <- <test> (3)\u001b[39;49;00m\n",
      "*    6             \u001b[34mreturn\u001b[39;49;00m y  \u001b[37m# <= y (1); <- <test> (5)\u001b[39;49;00m\n",
      "     7     \u001b[34melse\u001b[39;49;00m:\n",
      "     8         \u001b[34mif\u001b[39;49;00m x > y:\n",
      "     9             \u001b[34mreturn\u001b[39;49;00m y\n",
      "    10         \u001b[34melif\u001b[39;49;00m x > z:\n",
      "    11             \u001b[34mreturn\u001b[39;49;00m x\n",
      "    12     \u001b[34mreturn\u001b[39;49;00m z\n"
     ]
    }
   ],
   "source": [
    "slicer.code()"
   ]
  },
  {
   "cell_type": "markdown",
   "metadata": {
    "slideshow": {
     "slide_type": "fragment"
    }
   },
   "source": [
    "And this is the graph form:"
   ]
  },
  {
   "cell_type": "code",
   "execution_count": 179,
   "metadata": {
    "slideshow": {
     "slide_type": "subslide"
    }
   },
   "outputs": [
    {
     "data": {
      "image/svg+xml": [
       "<?xml version=\"1.0\" encoding=\"UTF-8\" standalone=\"no\"?>\n",
       "<!DOCTYPE svg PUBLIC \"-//W3C//DTD SVG 1.1//EN\"\n",
       " \"http://www.w3.org/Graphics/SVG/1.1/DTD/svg11.dtd\">\n",
       "<!-- Generated by graphviz version 2.40.1 (20161225.0304)\n",
       " -->\n",
       "<!-- Title: dependencies Pages: 1 -->\n",
       "<svg width=\"344pt\" height=\"352pt\"\n",
       " viewBox=\"0.00 0.00 344.27 352.00\" xmlns=\"http://www.w3.org/2000/svg\" xmlns:xlink=\"http://www.w3.org/1999/xlink\">\n",
       "<g id=\"graph0\" class=\"graph\" transform=\"scale(1 1) rotate(0) translate(4 348)\">\n",
       "<title>dependencies</title>\n",
       "<polygon fill=\"#ffffff\" stroke=\"transparent\" points=\"-4,4 -4,-348 340.2684,-348 340.2684,4 -4,4\"/>\n",
       "<!-- test_middle_5 -->\n",
       "<g id=\"node1\" class=\"node\">\n",
       "<title>test_middle_5</title>\n",
       "<g id=\"a_node1\"><a xlink:title=\"middle:5\">\n",
       "<polygon fill=\"#ffdab9\" stroke=\"#000000\" points=\"181.5,-116 105.5,-116 105.5,-76 181.5,-76 181.5,-116\"/>\n",
       "<text text-anchor=\"start\" x=\"118\" y=\"-101.8\" font-family=\"Fira Mono, Courier, monospace\" font-weight=\"bold\" font-style=\"italic\" font-size=\"14.00\" fill=\"#000000\">&lt;test&gt;</text>\n",
       "<text text-anchor=\"start\" x=\"113.5\" y=\"-82.8\" font-family=\"Fira Mono, Courier, monospace\" font-size=\"9.00\" fill=\"#000000\">elif x &lt; z:</text>\n",
       "</a>\n",
       "</g>\n",
       "</g>\n",
       "<!-- middlereturnvalue_middle_6 -->\n",
       "<g id=\"node7\" class=\"node\">\n",
       "<title>middlereturnvalue_middle_6</title>\n",
       "<g id=\"a_node7\"><a xlink:title=\"middle:6\">\n",
       "<polygon fill=\"#ffdab9\" stroke=\"#000000\" points=\"248.5,-40 38.5,-40 38.5,0 248.5,0 248.5,-40\"/>\n",
       "<text text-anchor=\"start\" x=\"46.5\" y=\"-25.8\" font-family=\"Fira Mono, Courier, monospace\" font-weight=\"bold\" font-style=\"italic\" font-size=\"14.00\" fill=\"#000000\">&lt;middle() return value&gt;</text>\n",
       "<text text-anchor=\"start\" x=\"121.5\" y=\"-6.8\" font-family=\"Fira Mono, Courier, monospace\" font-size=\"9.00\" fill=\"#000000\">return y</text>\n",
       "</a>\n",
       "</g>\n",
       "</g>\n",
       "<!-- test_middle_5&#45;&gt;middlereturnvalue_middle_6 -->\n",
       "<g id=\"edge10\" class=\"edge\">\n",
       "<title>test_middle_5&#45;&gt;middlereturnvalue_middle_6</title>\n",
       "<path fill=\"none\" stroke=\"#c0c0c0\" stroke-dasharray=\"5,2\" d=\"M137.4426,-75.6334C136.7819,-67.8186 136.5939,-58.7253 136.8786,-50.183\"/>\n",
       "<polygon fill=\"#c0c0c0\" stroke=\"#c0c0c0\" points=\"140.375,-50.3453 137.4602,-40.1593 133.3867,-49.9397 140.375,-50.3453\"/>\n",
       "</g>\n",
       "<!-- test_middle_5&#45;&gt;middlereturnvalue_middle_6 -->\n",
       "<!-- z_middle_1 -->\n",
       "<g id=\"node2\" class=\"node\">\n",
       "<title>z_middle_1</title>\n",
       "<g id=\"a_node2\"><a xlink:title=\"middle:1\">\n",
       "<polygon fill=\"#ffdab9\" stroke=\"#000000\" points=\"268,-344 143,-344 143,-304 268,-304 268,-344\"/>\n",
       "<text text-anchor=\"start\" x=\"201\" y=\"-329.8\" font-family=\"Fira Mono, Courier, monospace\" font-weight=\"bold\" font-size=\"14.00\" fill=\"#000000\">z</text>\n",
       "<text text-anchor=\"start\" x=\"151\" y=\"-310.8\" font-family=\"Fira Mono, Courier, monospace\" font-size=\"9.00\" fill=\"#000000\">def middle(x, y, z):</text>\n",
       "</a>\n",
       "</g>\n",
       "</g>\n",
       "<!-- z_middle_1&#45;&gt;test_middle_5 -->\n",
       "<g id=\"edge1\" class=\"edge\">\n",
       "<title>z_middle_1&#45;&gt;test_middle_5</title>\n",
       "<path fill=\"none\" stroke=\"#000000\" d=\"M268.0384,-310.9807C291.4312,-302.7478 315.6626,-289.4322 329.5,-268 339.1428,-253.0646 337.6589,-243.795 329.5,-228 300.5731,-172.0002 235.7076,-134.6065 190.7796,-114.3315\"/>\n",
       "<polygon fill=\"#000000\" stroke=\"#000000\" points=\"192.0787,-111.0794 181.5152,-110.2643 189.2648,-117.489 192.0787,-111.0794\"/>\n",
       "</g>\n",
       "<!-- test_middle_2 -->\n",
       "<g id=\"node5\" class=\"node\">\n",
       "<title>test_middle_2</title>\n",
       "<g id=\"a_node5\"><a xlink:title=\"middle:2\">\n",
       "<polygon fill=\"#ffdab9\" stroke=\"#000000\" points=\"177,-268 110,-268 110,-228 177,-228 177,-268\"/>\n",
       "<text text-anchor=\"start\" x=\"118\" y=\"-253.8\" font-family=\"Fira Mono, Courier, monospace\" font-weight=\"bold\" font-style=\"italic\" font-size=\"14.00\" fill=\"#000000\">&lt;test&gt;</text>\n",
       "<text text-anchor=\"start\" x=\"119\" y=\"-234.8\" font-family=\"Fira Mono, Courier, monospace\" font-size=\"9.00\" fill=\"#000000\">if y &lt; z:</text>\n",
       "</a>\n",
       "</g>\n",
       "</g>\n",
       "<!-- z_middle_1&#45;&gt;test_middle_2 -->\n",
       "<g id=\"edge5\" class=\"edge\">\n",
       "<title>z_middle_1&#45;&gt;test_middle_2</title>\n",
       "<path fill=\"none\" stroke=\"#000000\" d=\"M182.8277,-303.6334C175.2506,-295.2175 167.0121,-285.3188 159.9761,-276.2223\"/>\n",
       "<polygon fill=\"#000000\" stroke=\"#000000\" points=\"162.7167,-274.0433 153.906,-268.1593 157.1243,-278.2535 162.7167,-274.0433\"/>\n",
       "</g>\n",
       "<!-- z_middle_1&#45;&gt;test_middle_2 -->\n",
       "<!-- x_middle_1 -->\n",
       "<g id=\"node3\" class=\"node\">\n",
       "<title>x_middle_1</title>\n",
       "<g id=\"a_node3\"><a xlink:title=\"middle:1\">\n",
       "<polygon fill=\"#ffdab9\" stroke=\"#000000\" points=\"320,-268 195,-268 195,-228 320,-228 320,-268\"/>\n",
       "<text text-anchor=\"start\" x=\"253\" y=\"-253.8\" font-family=\"Fira Mono, Courier, monospace\" font-weight=\"bold\" font-size=\"14.00\" fill=\"#000000\">x</text>\n",
       "<text text-anchor=\"start\" x=\"203\" y=\"-234.8\" font-family=\"Fira Mono, Courier, monospace\" font-size=\"9.00\" fill=\"#000000\">def middle(x, y, z):</text>\n",
       "</a>\n",
       "</g>\n",
       "</g>\n",
       "<!-- x_middle_1&#45;&gt;test_middle_5 -->\n",
       "<g id=\"edge2\" class=\"edge\">\n",
       "<title>x_middle_1&#45;&gt;test_middle_5</title>\n",
       "<path fill=\"none\" stroke=\"#000000\" d=\"M242.3617,-227.8156C222.4314,-201.2419 187.2834,-154.3778 164.7109,-124.2812\"/>\n",
       "<polygon fill=\"#000000\" stroke=\"#000000\" points=\"167.501,-122.1679 158.7009,-116.2679 161.901,-126.3679 167.501,-122.1679\"/>\n",
       "</g>\n",
       "<!-- test_middle_3 -->\n",
       "<g id=\"node4\" class=\"node\">\n",
       "<title>test_middle_3</title>\n",
       "<g id=\"a_node4\"><a xlink:title=\"middle:3\">\n",
       "<polygon fill=\"#ffdab9\" stroke=\"#000000\" points=\"177,-192 110,-192 110,-152 177,-152 177,-192\"/>\n",
       "<text text-anchor=\"start\" x=\"118\" y=\"-177.8\" font-family=\"Fira Mono, Courier, monospace\" font-weight=\"bold\" font-style=\"italic\" font-size=\"14.00\" fill=\"#000000\">&lt;test&gt;</text>\n",
       "<text text-anchor=\"start\" x=\"119\" y=\"-158.8\" font-family=\"Fira Mono, Courier, monospace\" font-size=\"9.00\" fill=\"#000000\">if x &lt; y:</text>\n",
       "</a>\n",
       "</g>\n",
       "</g>\n",
       "<!-- x_middle_1&#45;&gt;test_middle_3 -->\n",
       "<g id=\"edge7\" class=\"edge\">\n",
       "<title>x_middle_1&#45;&gt;test_middle_3</title>\n",
       "<path fill=\"none\" stroke=\"#000000\" d=\"M227.2494,-227.8329C213.4642,-218.6428 196.9794,-207.6529 182.2955,-197.8637\"/>\n",
       "<polygon fill=\"#000000\" stroke=\"#000000\" points=\"184.154,-194.8962 173.892,-192.2613 180.271,-200.7205 184.154,-194.8962\"/>\n",
       "</g>\n",
       "<!-- test_middle_3&#45;&gt;test_middle_5 -->\n",
       "<g id=\"edge3\" class=\"edge\">\n",
       "<title>test_middle_3&#45;&gt;test_middle_5</title>\n",
       "<path fill=\"none\" stroke=\"#c0c0c0\" stroke-dasharray=\"5,2\" d=\"M137.4426,-151.6334C136.7819,-143.8186 136.5939,-134.7253 136.8786,-126.183\"/>\n",
       "<polygon fill=\"#c0c0c0\" stroke=\"#c0c0c0\" points=\"140.375,-126.3453 137.4602,-116.1593 133.3867,-125.9397 140.375,-126.3453\"/>\n",
       "</g>\n",
       "<!-- test_middle_3&#45;&gt;test_middle_5 -->\n",
       "<!-- test_middle_2&#45;&gt;test_middle_3 -->\n",
       "<g id=\"edge8\" class=\"edge\">\n",
       "<title>test_middle_2&#45;&gt;test_middle_3</title>\n",
       "<path fill=\"none\" stroke=\"#c0c0c0\" stroke-dasharray=\"5,2\" d=\"M137.4426,-227.6334C136.7819,-219.8186 136.5939,-210.7253 136.8786,-202.183\"/>\n",
       "<polygon fill=\"#c0c0c0\" stroke=\"#c0c0c0\" points=\"140.375,-202.3453 137.4602,-192.1593 133.3867,-201.9397 140.375,-202.3453\"/>\n",
       "</g>\n",
       "<!-- test_middle_2&#45;&gt;test_middle_3 -->\n",
       "<!-- y_middle_1 -->\n",
       "<g id=\"node6\" class=\"node\">\n",
       "<title>y_middle_1</title>\n",
       "<g id=\"a_node6\"><a xlink:title=\"middle:1\">\n",
       "<polygon fill=\"#ffdab9\" stroke=\"#000000\" points=\"125,-344 0,-344 0,-304 125,-304 125,-344\"/>\n",
       "<text text-anchor=\"start\" x=\"58\" y=\"-329.8\" font-family=\"Fira Mono, Courier, monospace\" font-weight=\"bold\" font-size=\"14.00\" fill=\"#000000\">y</text>\n",
       "<text text-anchor=\"start\" x=\"8\" y=\"-310.8\" font-family=\"Fira Mono, Courier, monospace\" font-size=\"9.00\" fill=\"#000000\">def middle(x, y, z):</text>\n",
       "</a>\n",
       "</g>\n",
       "</g>\n",
       "<!-- y_middle_1&#45;&gt;test_middle_3 -->\n",
       "<g id=\"edge6\" class=\"edge\">\n",
       "<title>y_middle_1&#45;&gt;test_middle_3</title>\n",
       "<path fill=\"none\" stroke=\"#000000\" d=\"M68.6772,-303.7746C75.1871,-283.8201 86.4409,-252.7916 100.5,-228 105.9528,-218.3845 112.8999,-208.5944 119.6118,-199.9458\"/>\n",
       "<polygon fill=\"#000000\" stroke=\"#000000\" points=\"122.4143,-202.0453 125.9184,-192.0466 116.9439,-197.6777 122.4143,-202.0453\"/>\n",
       "</g>\n",
       "<!-- y_middle_1&#45;&gt;test_middle_2 -->\n",
       "<g id=\"edge4\" class=\"edge\">\n",
       "<title>y_middle_1&#45;&gt;test_middle_2</title>\n",
       "<path fill=\"none\" stroke=\"#000000\" d=\"M84.2065,-303.6334C93.5422,-294.8739 104.5898,-284.5083 114.6037,-275.1125\"/>\n",
       "<polygon fill=\"#000000\" stroke=\"#000000\" points=\"117.1167,-277.5541 122.0144,-268.1593 112.327,-272.4493 117.1167,-277.5541\"/>\n",
       "</g>\n",
       "<!-- y_middle_1&#45;&gt;middlereturnvalue_middle_6 -->\n",
       "<g id=\"edge9\" class=\"edge\">\n",
       "<title>y_middle_1&#45;&gt;middlereturnvalue_middle_6</title>\n",
       "<path fill=\"none\" stroke=\"#000000\" d=\"M61.5752,-303.6921C60.3605,-260.0002 61.6299,-154.6654 96.5,-76 100.9826,-65.8875 107.8599,-56.1704 114.9821,-47.7513\"/>\n",
       "<polygon fill=\"#000000\" stroke=\"#000000\" points=\"117.7606,-49.8948 121.8155,-40.1066 112.5416,-45.2297 117.7606,-49.8948\"/>\n",
       "</g>\n",
       "</g>\n",
       "</svg>\n"
      ],
      "text/plain": [
       "<graphviz.dot.Digraph at 0x7f83c4f927f0>"
      ]
     },
     "execution_count": 179,
     "metadata": {},
     "output_type": "execute_result"
    }
   ],
   "source": [
    "slicer.graph()"
   ]
  },
  {
   "cell_type": "markdown",
   "metadata": {
    "slideshow": {
     "slide_type": "fragment"
    }
   },
   "source": [
    "You can also access the raw `repr()` form, which allows you to reconstruct dependencies at any time. (This is how we showed off dependencies at the beginning of this chapter, before even introducing the code that computes them.)"
   ]
  },
  {
   "cell_type": "code",
   "execution_count": 180,
   "metadata": {
    "slideshow": {
     "slide_type": "fragment"
    }
   },
   "outputs": [
    {
     "data": {
      "text/plain": [
       "Dependencies({('x', ('middle', 1)): set(), ('y', ('middle', 1)): set(), ('z', ('middle', 1)): set(), ('<test>', ('middle', 2)): {('y', ('middle', 1)), ('z', ('middle', 1))}, ('<test>', ('middle', 3)): {('y', ('middle', 1)), ('x', ('middle', 1))}, ('<test>', ('middle', 5)): {('z', ('middle', 1)), ('x', ('middle', 1))}, ('<middle() return value>', ('middle', 6)): {('y', ('middle', 1))}}, {('x', ('middle', 1)): set(), ('y', ('middle', 1)): set(), ('z', ('middle', 1)): set(), ('<test>', ('middle', 2)): set(), ('<test>', ('middle', 3)): {('<test>', ('middle', 2))}, ('<test>', ('middle', 5)): {('<test>', ('middle', 3))}, ('<middle() return value>', ('middle', 6)): {('<test>', ('middle', 5))}})"
      ]
     },
     "execution_count": 180,
     "metadata": {},
     "output_type": "execute_result"
    }
   ],
   "source": [
    "slicer.dependencies()"
   ]
  },
  {
   "cell_type": "markdown",
   "metadata": {
    "slideshow": {
     "slide_type": "subslide"
    }
   },
   "source": [
    "### Diagnostics"
   ]
  },
  {
   "cell_type": "markdown",
   "metadata": {
    "slideshow": {
     "slide_type": "fragment"
    }
   },
   "source": [
    "The `Slicer` constructor accepts a `log` argument (default: False), which can be set to show various intermediate results:\n",
    "\n",
    "* `log=True` (or `log=1`): Show instrumented source code\n",
    "* `log=2`: Also log execution\n",
    "* `log=3`: Also log individual transformer steps\n",
    "* `log=4`: Also log source line numbers"
   ]
  },
  {
   "cell_type": "markdown",
   "metadata": {
    "slideshow": {
     "slide_type": "slide"
    }
   },
   "source": [
    "## More Examples"
   ]
  },
  {
   "cell_type": "markdown",
   "metadata": {
    "slideshow": {
     "slide_type": "fragment"
    }
   },
   "source": [
    "Let us demonstrate our `Slicer` class on a few more examples."
   ]
  },
  {
   "cell_type": "markdown",
   "metadata": {
    "slideshow": {
     "slide_type": "subslide"
    }
   },
   "source": [
    "### Square Root"
   ]
  },
  {
   "cell_type": "markdown",
   "metadata": {
    "slideshow": {
     "slide_type": "fragment"
    }
   },
   "source": [
    "The `square_root()` function from [the chapter on assertions](Assertions.ipynb) demonstrates a nice interplay between data and control dependencies."
   ]
  },
  {
   "cell_type": "code",
   "execution_count": 181,
   "metadata": {
    "slideshow": {
     "slide_type": "skip"
    }
   },
   "outputs": [],
   "source": [
    "import math"
   ]
  },
  {
   "cell_type": "code",
   "execution_count": 182,
   "metadata": {
    "slideshow": {
     "slide_type": "skip"
    }
   },
   "outputs": [],
   "source": [
    "from Assertions import square_root"
   ]
  },
  {
   "cell_type": "markdown",
   "metadata": {
    "slideshow": {
     "slide_type": "fragment"
    }
   },
   "source": [
    "Here is the original source code:"
   ]
  },
  {
   "cell_type": "code",
   "execution_count": 183,
   "metadata": {
    "slideshow": {
     "slide_type": "subslide"
    }
   },
   "outputs": [
    {
     "name": "stdout",
     "output_type": "stream",
     "text": [
      "\u001b[34mdef\u001b[39;49;00m \u001b[32msquare_root\u001b[39;49;00m(x):\n",
      "    \u001b[34massert\u001b[39;49;00m x >= \u001b[34m0\u001b[39;49;00m  \u001b[37m# precondition\u001b[39;49;00m\n",
      "\n",
      "    approx = \u001b[34mNone\u001b[39;49;00m\n",
      "    guess = x / \u001b[34m2\u001b[39;49;00m\n",
      "    \u001b[34mwhile\u001b[39;49;00m approx != guess:\n",
      "        approx = guess\n",
      "        guess = (approx + x / approx) / \u001b[34m2\u001b[39;49;00m\n",
      "\n",
      "    \u001b[34massert\u001b[39;49;00m math.isclose(approx * approx, x)\n",
      "    \u001b[34mreturn\u001b[39;49;00m approx"
     ]
    }
   ],
   "source": [
    "print_content(inspect.getsource(square_root), '.py')"
   ]
  },
  {
   "cell_type": "markdown",
   "metadata": {
    "slideshow": {
     "slide_type": "fragment"
    }
   },
   "source": [
    "Turning on logging shows the instrumented version:"
   ]
  },
  {
   "cell_type": "code",
   "execution_count": 184,
   "metadata": {
    "slideshow": {
     "slide_type": "subslide"
    }
   },
   "outputs": [
    {
     "name": "stdout",
     "output_type": "stream",
     "text": [
      "Instrumenting <function square_root at 0x7f83c46506a8>\n",
      "\u001b[34mdef\u001b[39;49;00m \u001b[32msquare_root\u001b[39;49;00m(x):\n",
      "    _data.param(\u001b[33m'\u001b[39;49;00m\u001b[33mx\u001b[39;49;00m\u001b[33m'\u001b[39;49;00m, x, pos=\u001b[34m1\u001b[39;49;00m)\n",
      "    \u001b[34massert\u001b[39;49;00m _data.get(\u001b[33m'\u001b[39;49;00m\u001b[33mx\u001b[39;49;00m\u001b[33m'\u001b[39;49;00m, x) >= \u001b[34m0\u001b[39;49;00m\n",
      "    approx = _data.set(\u001b[33m'\u001b[39;49;00m\u001b[33mapprox\u001b[39;49;00m\u001b[33m'\u001b[39;49;00m, \u001b[34mNone\u001b[39;49;00m)\n",
      "    guess = _data.set(\u001b[33m'\u001b[39;49;00m\u001b[33mguess\u001b[39;49;00m\u001b[33m'\u001b[39;49;00m, _data.get(\u001b[33m'\u001b[39;49;00m\u001b[33mx\u001b[39;49;00m\u001b[33m'\u001b[39;49;00m, x) / \u001b[34m2\u001b[39;49;00m)\n",
      "    \u001b[34mwhile\u001b[39;49;00m _data.test(_data.get(\u001b[33m'\u001b[39;49;00m\u001b[33mapprox\u001b[39;49;00m\u001b[33m'\u001b[39;49;00m, approx) != _data.get(\u001b[33m'\u001b[39;49;00m\u001b[33mguess\u001b[39;49;00m\u001b[33m'\u001b[39;49;00m, guess)):\n",
      "        \u001b[34mwith\u001b[39;49;00m _data:\n",
      "            approx = _data.set(\u001b[33m'\u001b[39;49;00m\u001b[33mapprox\u001b[39;49;00m\u001b[33m'\u001b[39;49;00m, _data.get(\u001b[33m'\u001b[39;49;00m\u001b[33mguess\u001b[39;49;00m\u001b[33m'\u001b[39;49;00m, guess))\n",
      "            guess = _data.set(\u001b[33m'\u001b[39;49;00m\u001b[33mguess\u001b[39;49;00m\u001b[33m'\u001b[39;49;00m, (_data.get(\u001b[33m'\u001b[39;49;00m\u001b[33mapprox\u001b[39;49;00m\u001b[33m'\u001b[39;49;00m, approx) + _data\n",
      "                .get(\u001b[33m'\u001b[39;49;00m\u001b[33mx\u001b[39;49;00m\u001b[33m'\u001b[39;49;00m, x) / _data.get(\u001b[33m'\u001b[39;49;00m\u001b[33mapprox\u001b[39;49;00m\u001b[33m'\u001b[39;49;00m, approx)) / \u001b[34m2\u001b[39;49;00m)\n",
      "    \u001b[34massert\u001b[39;49;00m _data.ret(_data.call(_data.get(\u001b[33m'\u001b[39;49;00m\u001b[33mmath\u001b[39;49;00m\u001b[33m'\u001b[39;49;00m, math).isclose)(_data.arg(\n",
      "        _data.get(\u001b[33m'\u001b[39;49;00m\u001b[33mapprox\u001b[39;49;00m\u001b[33m'\u001b[39;49;00m, approx) * _data.get(\u001b[33m'\u001b[39;49;00m\u001b[33mapprox\u001b[39;49;00m\u001b[33m'\u001b[39;49;00m, approx), pos=\u001b[34m1\u001b[39;49;00m),\n",
      "        _data.arg(_data.get(\u001b[33m'\u001b[39;49;00m\u001b[33mx\u001b[39;49;00m\u001b[33m'\u001b[39;49;00m, x), pos=\u001b[34m2\u001b[39;49;00m)))\n",
      "    \u001b[34mreturn\u001b[39;49;00m _data.set(\u001b[33m'\u001b[39;49;00m\u001b[33m<square_root() return value>\u001b[39;49;00m\u001b[33m'\u001b[39;49;00m, _data.get(\u001b[33m'\u001b[39;49;00m\u001b[33mapprox\u001b[39;49;00m\u001b[33m'\u001b[39;49;00m,\n",
      "        approx))\n",
      "\n"
     ]
    }
   ],
   "source": [
    "with Slicer(square_root, log=True) as root_slicer:\n",
    "    y = square_root(2.0)"
   ]
  },
  {
   "cell_type": "markdown",
   "metadata": {
    "slideshow": {
     "slide_type": "subslide"
    }
   },
   "source": [
    "The dependency graph shows how `guess` and `approx` flow into each other until they are the same."
   ]
  },
  {
   "cell_type": "code",
   "execution_count": 185,
   "metadata": {
    "slideshow": {
     "slide_type": "fragment"
    }
   },
   "outputs": [
    {
     "data": {
      "image/svg+xml": [
       "<?xml version=\"1.0\" encoding=\"UTF-8\" standalone=\"no\"?>\n",
       "<!DOCTYPE svg PUBLIC \"-//W3C//DTD SVG 1.1//EN\"\n",
       " \"http://www.w3.org/Graphics/SVG/1.1/DTD/svg11.dtd\">\n",
       "<!-- Generated by graphviz version 2.40.1 (20161225.0304)\n",
       " -->\n",
       "<!-- Title: dependencies Pages: 1 -->\n",
       "<svg width=\"484pt\" height=\"352pt\"\n",
       " viewBox=\"0.00 0.00 483.50 352.00\" xmlns=\"http://www.w3.org/2000/svg\" xmlns:xlink=\"http://www.w3.org/1999/xlink\">\n",
       "<g id=\"graph0\" class=\"graph\" transform=\"scale(1 1) rotate(0) translate(4 348)\">\n",
       "<title>dependencies</title>\n",
       "<polygon fill=\"#ffffff\" stroke=\"transparent\" points=\"-4,4 -4,-348 479.5,-348 479.5,4 -4,4\"/>\n",
       "<!-- x_square_root_51 -->\n",
       "<g id=\"node1\" class=\"node\">\n",
       "<title>x_square_root_51</title>\n",
       "<g id=\"a_node1\"><a xlink:title=\"square_root:51\">\n",
       "<polygon fill=\"#ffdab9\" stroke=\"#000000\" points=\"419.5,-344 300.5,-344 300.5,-304 419.5,-304 419.5,-344\"/>\n",
       "<text text-anchor=\"start\" x=\"355.5\" y=\"-329.8\" font-family=\"Fira Mono, Courier, monospace\" font-weight=\"bold\" font-size=\"14.00\" fill=\"#000000\">x</text>\n",
       "<text text-anchor=\"start\" x=\"308.5\" y=\"-310.8\" font-family=\"Fira Mono, Courier, monospace\" font-size=\"9.00\" fill=\"#000000\">def square_root(x):</text>\n",
       "</a>\n",
       "</g>\n",
       "</g>\n",
       "<!-- guess_square_root_58 -->\n",
       "<g id=\"node2\" class=\"node\">\n",
       "<title>guess_square_root_58</title>\n",
       "<g id=\"a_node2\"><a xlink:title=\"square_root:58\">\n",
       "<polygon fill=\"#ffdab9\" stroke=\"#000000\" points=\"334.5,-192 139.5,-192 139.5,-152 334.5,-152 334.5,-192\"/>\n",
       "<text text-anchor=\"start\" x=\"215.5\" y=\"-177.8\" font-family=\"Fira Mono, Courier, monospace\" font-weight=\"bold\" font-size=\"14.00\" fill=\"#000000\">guess</text>\n",
       "<text text-anchor=\"start\" x=\"147.5\" y=\"-158.8\" font-family=\"Fira Mono, Courier, monospace\" font-size=\"9.00\" fill=\"#000000\">guess = (approx + x / approx) / 2</text>\n",
       "</a>\n",
       "</g>\n",
       "</g>\n",
       "<!-- x_square_root_51&#45;&gt;guess_square_root_58 -->\n",
       "<g id=\"edge1\" class=\"edge\">\n",
       "<title>x_square_root_51&#45;&gt;guess_square_root_58</title>\n",
       "<path fill=\"none\" stroke=\"#000000\" d=\"M343.6665,-303.8156C322.1628,-277.2419 284.2399,-230.3778 259.8855,-200.2812\"/>\n",
       "<polygon fill=\"#000000\" stroke=\"#000000\" points=\"262.4123,-197.8399 253.401,-192.2679 256.9708,-202.2433 262.4123,-197.8399\"/>\n",
       "</g>\n",
       "<!-- guess_square_root_55 -->\n",
       "<g id=\"node5\" class=\"node\">\n",
       "<title>guess_square_root_55</title>\n",
       "<g id=\"a_node5\"><a xlink:title=\"square_root:55\">\n",
       "<polygon fill=\"#ffdab9\" stroke=\"#000000\" points=\"439.5,-192 352.5,-192 352.5,-152 439.5,-152 439.5,-192\"/>\n",
       "<text text-anchor=\"start\" x=\"374.5\" y=\"-177.8\" font-family=\"Fira Mono, Courier, monospace\" font-weight=\"bold\" font-size=\"14.00\" fill=\"#000000\">guess</text>\n",
       "<text text-anchor=\"start\" x=\"360.5\" y=\"-158.8\" font-family=\"Fira Mono, Courier, monospace\" font-size=\"9.00\" fill=\"#000000\">guess = x / 2</text>\n",
       "</a>\n",
       "</g>\n",
       "</g>\n",
       "<!-- x_square_root_51&#45;&gt;guess_square_root_55 -->\n",
       "<g id=\"edge4\" class=\"edge\">\n",
       "<title>x_square_root_51&#45;&gt;guess_square_root_55</title>\n",
       "<path fill=\"none\" stroke=\"#000000\" d=\"M363.7877,-303.6762C367.5266,-284.1781 373.5986,-253.9506 380,-228 382.1004,-219.4853 384.6141,-210.312 387.0201,-201.9039\"/>\n",
       "<polygon fill=\"#000000\" stroke=\"#000000\" points=\"390.4328,-202.7026 389.8663,-192.1229 383.7116,-200.7467 390.4328,-202.7026\"/>\n",
       "</g>\n",
       "<!-- approx_square_root_54 -->\n",
       "<g id=\"node6\" class=\"node\">\n",
       "<title>approx_square_root_54</title>\n",
       "<g id=\"a_node6\"><a xlink:title=\"square_root:54\">\n",
       "<polygon fill=\"#ffdab9\" stroke=\"#000000\" points=\"475.5,-268 388.5,-268 388.5,-228 475.5,-228 475.5,-268\"/>\n",
       "<text text-anchor=\"start\" x=\"406.5\" y=\"-253.8\" font-family=\"Fira Mono, Courier, monospace\" font-weight=\"bold\" font-size=\"14.00\" fill=\"#000000\">approx</text>\n",
       "<text text-anchor=\"start\" x=\"396.5\" y=\"-234.8\" font-family=\"Fira Mono, Courier, monospace\" font-size=\"9.00\" fill=\"#000000\">approx = None</text>\n",
       "</a>\n",
       "</g>\n",
       "</g>\n",
       "<!-- x_square_root_51&#45;&gt;approx_square_root_54 -->\n",
       "<!-- approx_square_root_57 -->\n",
       "<g id=\"node3\" class=\"node\">\n",
       "<title>approx_square_root_57</title>\n",
       "<g id=\"a_node3\"><a xlink:title=\"square_root:57\">\n",
       "<polygon fill=\"#ffdab9\" stroke=\"#000000\" points=\"363,-116 271,-116 271,-76 363,-76 363,-116\"/>\n",
       "<text text-anchor=\"start\" x=\"291.5\" y=\"-101.8\" font-family=\"Fira Mono, Courier, monospace\" font-weight=\"bold\" font-size=\"14.00\" fill=\"#000000\">approx</text>\n",
       "<text text-anchor=\"start\" x=\"279\" y=\"-82.8\" font-family=\"Fira Mono, Courier, monospace\" font-size=\"9.00\" fill=\"#000000\">approx = guess</text>\n",
       "</a>\n",
       "</g>\n",
       "</g>\n",
       "<!-- guess_square_root_58&#45;&gt;approx_square_root_57 -->\n",
       "<g id=\"edge10\" class=\"edge\">\n",
       "<title>guess_square_root_58&#45;&gt;approx_square_root_57</title>\n",
       "<path fill=\"none\" stroke=\"#000000\" d=\"M246.3236,-151.6334C254.139,-142.7881 264.8894,-132.3049 275.7828,-122.8365\"/>\n",
       "<polygon fill=\"#000000\" stroke=\"#000000\" points=\"278.3122,-125.2818 283.7001,-116.1593 273.7993,-119.9308 278.3122,-125.2818\"/>\n",
       "</g>\n",
       "<!-- test_square_root_56 -->\n",
       "<g id=\"node4\" class=\"node\">\n",
       "<title>test_square_root_56</title>\n",
       "<g id=\"a_node4\"><a xlink:title=\"square_root:56\">\n",
       "<polygon fill=\"#ffdab9\" stroke=\"#000000\" points=\"405.5,-40 270.5,-40 270.5,0 405.5,0 405.5,-40\"/>\n",
       "<text text-anchor=\"start\" x=\"312.5\" y=\"-25.8\" font-family=\"Fira Mono, Courier, monospace\" font-weight=\"bold\" font-style=\"italic\" font-size=\"14.00\" fill=\"#000000\">&lt;test&gt;</text>\n",
       "<text text-anchor=\"start\" x=\"278.5\" y=\"-6.8\" font-family=\"Fira Mono, Courier, monospace\" font-size=\"9.00\" fill=\"#000000\">while approx != guess:</text>\n",
       "</a>\n",
       "</g>\n",
       "</g>\n",
       "<!-- guess_square_root_58&#45;&gt;test_square_root_56 -->\n",
       "<g id=\"edge5\" class=\"edge\">\n",
       "<title>guess_square_root_58&#45;&gt;test_square_root_56</title>\n",
       "<path fill=\"none\" stroke=\"#000000\" d=\"M231.5885,-151.6363C231.5724,-131.0101 237.452,-98.959 253,-76 260.9128,-64.3156 272.1,-54.1562 283.8065,-45.8176\"/>\n",
       "<polygon fill=\"#000000\" stroke=\"#000000\" points=\"286.023,-48.5456 292.3829,-40.072 282.1269,-42.73 286.023,-48.5456\"/>\n",
       "</g>\n",
       "<!-- square_rootreturnvalue_square_root_61 -->\n",
       "<g id=\"node7\" class=\"node\">\n",
       "<title>square_rootreturnvalue_square_root_61</title>\n",
       "<g id=\"a_node7\"><a xlink:title=\"square_root:61\">\n",
       "<polygon fill=\"#ffdab9\" stroke=\"#000000\" points=\"252,-40 0,-40 0,0 252,0 252,-40\"/>\n",
       "<text text-anchor=\"start\" x=\"8\" y=\"-25.8\" font-family=\"Fira Mono, Courier, monospace\" font-weight=\"bold\" font-style=\"italic\" font-size=\"14.00\" fill=\"#000000\">&lt;square_root() return value&gt;</text>\n",
       "<text text-anchor=\"start\" x=\"90.5\" y=\"-6.8\" font-family=\"Fira Mono, Courier, monospace\" font-size=\"9.00\" fill=\"#000000\">return approx</text>\n",
       "</a>\n",
       "</g>\n",
       "</g>\n",
       "<!-- guess_square_root_58&#45;&gt;square_rootreturnvalue_square_root_61 -->\n",
       "<!-- approx_square_root_57&#45;&gt;guess_square_root_58 -->\n",
       "<g id=\"edge2\" class=\"edge\">\n",
       "<title>approx_square_root_57&#45;&gt;guess_square_root_58</title>\n",
       "<path fill=\"none\" stroke=\"#000000\" d=\"M295.7797,-116.1593C286.5861,-124.8932 275.6804,-135.2537 265.7741,-144.6646\"/>\n",
       "<polygon fill=\"#000000\" stroke=\"#000000\" points=\"263.2779,-142.2084 258.4385,-151.6334 268.0992,-147.2834 263.2779,-142.2084\"/>\n",
       "</g>\n",
       "<!-- approx_square_root_57&#45;&gt;guess_square_root_58 -->\n",
       "<!-- approx_square_root_57&#45;&gt;test_square_root_56 -->\n",
       "<g id=\"edge8\" class=\"edge\">\n",
       "<title>approx_square_root_57&#45;&gt;test_square_root_56</title>\n",
       "<path fill=\"none\" stroke=\"#000000\" d=\"M310.5127,-75.6334C311.3692,-67.6468 313.582,-58.325 316.6114,-49.6205\"/>\n",
       "<polygon fill=\"#000000\" stroke=\"#000000\" points=\"319.9301,-50.7458 320.3501,-40.1593 313.4199,-48.1732 319.9301,-50.7458\"/>\n",
       "</g>\n",
       "<!-- approx_square_root_57&#45;&gt;square_rootreturnvalue_square_root_61 -->\n",
       "<g id=\"edge13\" class=\"edge\">\n",
       "<title>approx_square_root_57&#45;&gt;square_rootreturnvalue_square_root_61</title>\n",
       "<path fill=\"none\" stroke=\"#000000\" d=\"M270.7642,-77.6025C245.2841,-67.4638 213.361,-54.7614 185.9805,-43.8666\"/>\n",
       "<polygon fill=\"#000000\" stroke=\"#000000\" points=\"187.0887,-40.5407 176.5032,-40.0955 184.5006,-47.0447 187.0887,-40.5407\"/>\n",
       "</g>\n",
       "<!-- test_square_root_56&#45;&gt;guess_square_root_58 -->\n",
       "<g id=\"edge3\" class=\"edge\">\n",
       "<title>test_square_root_56&#45;&gt;guess_square_root_58</title>\n",
       "<path fill=\"none\" stroke=\"#c0c0c0\" stroke-dasharray=\"5,2\" d=\"M309.0686,-40.072C295.7236,-49.3142 280.8333,-61.4796 271,-76 257.7599,-95.5511 251.5309,-121.6953 247.2185,-141.7631\"/>\n",
       "<polygon fill=\"#c0c0c0\" stroke=\"#c0c0c0\" points=\"243.7757,-141.126 245.111,-151.6363 250.6215,-142.5873 243.7757,-141.126\"/>\n",
       "</g>\n",
       "<!-- test_square_root_56&#45;&gt;approx_square_root_57 -->\n",
       "<g id=\"edge12\" class=\"edge\">\n",
       "<title>test_square_root_56&#45;&gt;approx_square_root_57</title>\n",
       "<path fill=\"none\" stroke=\"#c0c0c0\" stroke-dasharray=\"5,2\" d=\"M332.4297,-40.1593C330.253,-48.0369 327.7106,-57.2378 325.3249,-65.8717\"/>\n",
       "<polygon fill=\"#c0c0c0\" stroke=\"#c0c0c0\" points=\"321.9175,-65.0624 322.6276,-75.6334 328.6646,-66.9268 321.9175,-65.0624\"/>\n",
       "</g>\n",
       "<!-- test_square_root_56&#45;&gt;approx_square_root_57 -->\n",
       "<!-- test_square_root_56&#45;&gt;test_square_root_56 -->\n",
       "<g id=\"edge7\" class=\"edge\">\n",
       "<title>test_square_root_56&#45;&gt;test_square_root_56</title>\n",
       "<path fill=\"none\" stroke=\"#000000\" d=\"M405.7331,-33.0593C416.2976,-31.107 423.5,-26.7539 423.5,-20 423.5,-15.6733 420.5441,-12.3318 415.6421,-9.9757\"/>\n",
       "<polygon fill=\"#000000\" stroke=\"#000000\" points=\"416.3197,-6.5228 405.7331,-6.9407 414.2696,-13.2159 416.3197,-6.5228\"/>\n",
       "</g>\n",
       "<!-- guess_square_root_55&#45;&gt;approx_square_root_57 -->\n",
       "<g id=\"edge11\" class=\"edge\">\n",
       "<title>guess_square_root_55&#45;&gt;approx_square_root_57</title>\n",
       "<path fill=\"none\" stroke=\"#000000\" d=\"M374.8294,-151.6334C365.7242,-142.8739 354.9494,-132.5083 345.1828,-123.1125\"/>\n",
       "<polygon fill=\"#000000\" stroke=\"#000000\" points=\"347.5882,-120.5699 337.9551,-116.1593 342.7351,-125.6145 347.5882,-120.5699\"/>\n",
       "</g>\n",
       "<!-- guess_square_root_55&#45;&gt;test_square_root_56 -->\n",
       "<g id=\"edge6\" class=\"edge\">\n",
       "<title>guess_square_root_55&#45;&gt;test_square_root_56</title>\n",
       "<path fill=\"none\" stroke=\"#000000\" d=\"M385.9612,-151.9543C380.2298,-132.1363 373.5192,-101.2088 363,-76 359.1722,-66.8269 353.9957,-57.3908 349.1953,-48.9402\"/>\n",
       "<polygon fill=\"#000000\" stroke=\"#000000\" points=\"352.2127,-47.166 344.2157,-40.2163 346.1334,-50.6361 352.2127,-47.166\"/>\n",
       "</g>\n",
       "<!-- guess_square_root_55&#45;&gt;test_square_root_56 -->\n",
       "<!-- approx_square_root_54&#45;&gt;test_square_root_56 -->\n",
       "<g id=\"edge9\" class=\"edge\">\n",
       "<title>approx_square_root_54&#45;&gt;test_square_root_56</title>\n",
       "<path fill=\"none\" stroke=\"#000000\" d=\"M440.8343,-227.8599C448.2154,-208.2367 456.4332,-177.6892 449,-152 436.5017,-108.8058 400.4689,-70.8643 372.8143,-46.877\"/>\n",
       "<polygon fill=\"#000000\" stroke=\"#000000\" points=\"374.7976,-43.9707 364.9004,-40.1898 370.2796,-49.3175 374.7976,-43.9707\"/>\n",
       "</g>\n",
       "<!-- approx_square_root_54&#45;&gt;guess_square_root_55 -->\n",
       "</g>\n",
       "</svg>\n"
      ],
      "text/plain": [
       "<graphviz.dot.Digraph at 0x7f83c46c76a0>"
      ]
     },
     "execution_count": 185,
     "metadata": {},
     "output_type": "execute_result"
    }
   ],
   "source": [
    "root_slicer.graph()"
   ]
  },
  {
   "cell_type": "markdown",
   "metadata": {
    "slideshow": {
     "slide_type": "fragment"
    }
   },
   "source": [
    "FIXME: How does `<test>` control itself? (Because it's a `while` loop)"
   ]
  },
  {
   "cell_type": "markdown",
   "metadata": {
    "slideshow": {
     "slide_type": "fragment"
    }
   },
   "source": [
    "Again, we can show the code annotated with dependencies:"
   ]
  },
  {
   "cell_type": "code",
   "execution_count": 186,
   "metadata": {
    "slideshow": {
     "slide_type": "subslide"
    }
   },
   "outputs": [
    {
     "name": "stdout",
     "output_type": "stream",
     "text": [
      "*   51 \u001b[34mdef\u001b[39;49;00m \u001b[32msquare_root\u001b[39;49;00m(x):\n",
      "    52     \u001b[34massert\u001b[39;49;00m x >= \u001b[34m0\u001b[39;49;00m  \u001b[37m# precondition\u001b[39;49;00m\n",
      "    53 \n",
      "*   54     approx = \u001b[34mNone\u001b[39;49;00m\n",
      "*   55     guess = x / \u001b[34m2\u001b[39;49;00m  \u001b[37m# <= x (51)\u001b[39;49;00m\n",
      "*   56     \u001b[34mwhile\u001b[39;49;00m approx != guess:  \u001b[37m# <= guess (58), guess (55), <test> (56), approx (57), approx (54)\u001b[39;49;00m\n",
      "*   57         approx = guess  \u001b[37m# <= guess (58), guess (55); <- <test> (56)\u001b[39;49;00m\n",
      "*   58         guess = (approx + x / approx) / \u001b[34m2\u001b[39;49;00m  \u001b[37m# <= x (51), approx (57); <- <test> (56)\u001b[39;49;00m\n",
      "    59 \n",
      "    60     \u001b[34massert\u001b[39;49;00m math.isclose(approx * approx, x)\n",
      "*   61     \u001b[34mreturn\u001b[39;49;00m approx  \u001b[37m# <= approx (57)\u001b[39;49;00m\n"
     ]
    }
   ],
   "source": [
    "root_slicer.code()"
   ]
  },
  {
   "cell_type": "markdown",
   "metadata": {
    "slideshow": {
     "slide_type": "subslide"
    }
   },
   "source": [
    "The astute reader may find that an `assert p` statements do not control the following code, although it would be equivalent to `if not p: raise Exception`. Why is that?"
   ]
  },
  {
   "cell_type": "code",
   "execution_count": 187,
   "metadata": {
    "slideshow": {
     "slide_type": "fragment"
    }
   },
   "outputs": [
    {
     "data": {
      "text/html": [
       "\n",
       "    \n",
       "    <script>\n",
       "    function answer(quiz_id) {\n",
       "        ans = 0;\n",
       "        for (i = 1;; i++) {\n",
       "            checkbox = document.getElementById(quiz_id + \"-\" + i.toString());\n",
       "            if (!checkbox)\n",
       "                break;\n",
       "            if (checkbox.checked)\n",
       "                ans |= (1 << i);\n",
       "        }\n",
       "        return ans;\n",
       "    }\n",
       "    function check_selection(quiz_id, correct_answer, multiple_choice) {\n",
       "        given_answer = answer(quiz_id);\n",
       "        if (given_answer == correct_answer)\n",
       "        {\n",
       "            document.getElementById(quiz_id + \"-submit\").value = \"Correct!\";\n",
       "            for (i = 1;; i++) {\n",
       "                checkbox = document.getElementById(quiz_id + \"-\" + i.toString());\n",
       "                label = document.getElementById(quiz_id + \"-\" + i.toString() + \"-label\")\n",
       "                if (!checkbox)\n",
       "                    break;\n",
       "    \n",
       "                if (checkbox.checked) {\n",
       "                    label.style.fontWeight = \"bold\";\n",
       "                }\n",
       "                else {\n",
       "                    label.style.textDecoration = \"line-through\";\n",
       "                }\n",
       "            }\n",
       "        }\n",
       "        else \n",
       "        {\n",
       "            document.getElementById(quiz_id + \"-submit\").value = \"Try again\";\n",
       "            if (!multiple_choice) {\n",
       "                for (i = 1;; i++) {\n",
       "                    checkbox = document.getElementById(quiz_id + \"-\" + i.toString());\n",
       "                    label = document.getElementById(quiz_id + \"-\" + i.toString() + \"-label\")\n",
       "\n",
       "                    if (!checkbox)\n",
       "                        break;\n",
       "                    if (checkbox.checked) {\n",
       "                        label.style.textDecoration = \"line-through\";\n",
       "                    }\n",
       "                }\n",
       "            }\n",
       "        }\n",
       "    }\n",
       "    function clear_selection(quiz_id) {\n",
       "        document.getElementById(quiz_id + \"-submit\").value = \"Submit\";\n",
       "    }\n",
       "    </script>\n",
       "    \n",
       "    <div class=\"quiz\">\n",
       "    <h3 class=\"quiz_title\">Quiz</h3>\n",
       "    <p>\n",
       "    <div class=\"quiz_question\">Why don't <code>assert</code> statements induce control dependencies?</div>\n",
       "    </p>\n",
       "    <p>\n",
       "    <div class=\"quiz_options\" title=\"Pick a choice.\">\n",
       "    \n",
       "        <input type=\"radio\" name=\"4e08a174-489c-11eb-b36c-f218984d6a0c\" id=\"4e08a174-489c-11eb-b36c-f218984d6a0c-1\" onclick=\"clear_selection('4e08a174-489c-11eb-b36c-f218984d6a0c')\">\n",
       "        <label id=\"4e08a174-489c-11eb-b36c-f218984d6a0c-1-label\" for=\"4e08a174-489c-11eb-b36c-f218984d6a0c-1\">We have no special handling of <code>assert</code> statements</label><br>\n",
       "    \n",
       "        <input type=\"radio\" name=\"4e08a174-489c-11eb-b36c-f218984d6a0c\" id=\"4e08a174-489c-11eb-b36c-f218984d6a0c-2\" onclick=\"clear_selection('4e08a174-489c-11eb-b36c-f218984d6a0c')\">\n",
       "        <label id=\"4e08a174-489c-11eb-b36c-f218984d6a0c-2-label\" for=\"4e08a174-489c-11eb-b36c-f218984d6a0c-2\">We have no special handling of <code>raise</code> statements</label><br>\n",
       "    \n",
       "        <input type=\"radio\" name=\"4e08a174-489c-11eb-b36c-f218984d6a0c\" id=\"4e08a174-489c-11eb-b36c-f218984d6a0c-3\" onclick=\"clear_selection('4e08a174-489c-11eb-b36c-f218984d6a0c')\">\n",
       "        <label id=\"4e08a174-489c-11eb-b36c-f218984d6a0c-3-label\" for=\"4e08a174-489c-11eb-b36c-f218984d6a0c-3\">Assertions are not supposed to act as controlling mechanisms</label><br>\n",
       "    \n",
       "        <input type=\"radio\" name=\"4e08a174-489c-11eb-b36c-f218984d6a0c\" id=\"4e08a174-489c-11eb-b36c-f218984d6a0c-4\" onclick=\"clear_selection('4e08a174-489c-11eb-b36c-f218984d6a0c')\">\n",
       "        <label id=\"4e08a174-489c-11eb-b36c-f218984d6a0c-4-label\" for=\"4e08a174-489c-11eb-b36c-f218984d6a0c-4\">All of the above</label><br>\n",
       "    \n",
       "    </div>\n",
       "    </p>\n",
       "    <input id=\"4e08a174-489c-11eb-b36c-f218984d6a0c-submit\" type=\"submit\" value=\"Submit\" onclick=\"check_selection('4e08a174-489c-11eb-b36c-f218984d6a0c', 16, 0)\">\n",
       "    </div>\n",
       "    "
      ],
      "text/plain": [
       "<IPython.core.display.HTML object>"
      ]
     },
     "execution_count": 187,
     "metadata": {},
     "output_type": "execute_result"
    }
   ],
   "source": [
    "quiz(\"Why don't `assert` statements induce control dependencies?\",\n",
    "     [\n",
    "         \"We have no special handling of `assert` statements\",\n",
    "         \"We have no special handling of `raise` statements\",\n",
    "         \"Assertions are not supposed to act as controlling mechanisms\",\n",
    "         \"All of the above\",\n",
    "     ],\n",
    "     (1 * 1 << 1 * 1 << 1 * 1)\n",
    "    )"
   ]
  },
  {
   "cell_type": "markdown",
   "metadata": {
    "slideshow": {
     "slide_type": "subslide"
    }
   },
   "source": [
    "Indeed: we treat assertions as \"neutral\" in the sense that they do not affect the remainder of the program – if they are turned off, they have no effect; and if they are turned on, the remaining program logic should not depend on them. (Our instrumentation also has no special treatment of `assert`, `raise`, or even `return` statements; the latter two should be handled by our `with` blocks.)"
   ]
  },
  {
   "cell_type": "code",
   "execution_count": 188,
   "metadata": {
    "slideshow": {
     "slide_type": "fragment"
    }
   },
   "outputs": [],
   "source": [
    "# root_slicer.dependencies()"
   ]
  },
  {
   "cell_type": "markdown",
   "metadata": {
    "slideshow": {
     "slide_type": "subslide"
    }
   },
   "source": [
    "### Removing HTML Markup"
   ]
  },
  {
   "cell_type": "markdown",
   "metadata": {
    "slideshow": {
     "slide_type": "fragment"
    }
   },
   "source": [
    "Let us come to our ongoing example, `remove_html_markup()`. This is how its instrumented code looks like:"
   ]
  },
  {
   "cell_type": "code",
   "execution_count": 189,
   "metadata": {
    "slideshow": {
     "slide_type": "subslide"
    }
   },
   "outputs": [
    {
     "name": "stdout",
     "output_type": "stream",
     "text": [
      "Instrumenting <function remove_html_markup at 0x7f83c3ef5b70>\n",
      "\u001b[34mdef\u001b[39;49;00m \u001b[32mremove_html_markup\u001b[39;49;00m(s):\n",
      "    _data.param(\u001b[33m'\u001b[39;49;00m\u001b[33ms\u001b[39;49;00m\u001b[33m'\u001b[39;49;00m, s, pos=\u001b[34m1\u001b[39;49;00m)\n",
      "    tag = _data.set(\u001b[33m'\u001b[39;49;00m\u001b[33mtag\u001b[39;49;00m\u001b[33m'\u001b[39;49;00m, \u001b[34mFalse\u001b[39;49;00m)\n",
      "    quote = _data.set(\u001b[33m'\u001b[39;49;00m\u001b[33mquote\u001b[39;49;00m\u001b[33m'\u001b[39;49;00m, \u001b[34mFalse\u001b[39;49;00m)\n",
      "    out = _data.set(\u001b[33m'\u001b[39;49;00m\u001b[33mout\u001b[39;49;00m\u001b[33m'\u001b[39;49;00m, \u001b[33m'\u001b[39;49;00m\u001b[33m'\u001b[39;49;00m)\n",
      "    \u001b[34mfor\u001b[39;49;00m c \u001b[35min\u001b[39;49;00m _data.set(\u001b[33m'\u001b[39;49;00m\u001b[33mc\u001b[39;49;00m\u001b[33m'\u001b[39;49;00m, _data.get(\u001b[33m'\u001b[39;49;00m\u001b[33ms\u001b[39;49;00m\u001b[33m'\u001b[39;49;00m, s)):\n",
      "        \u001b[34massert\u001b[39;49;00m _data.get(\u001b[33m'\u001b[39;49;00m\u001b[33mtag\u001b[39;49;00m\u001b[33m'\u001b[39;49;00m, tag) \u001b[35mor\u001b[39;49;00m \u001b[35mnot\u001b[39;49;00m _data.get(\u001b[33m'\u001b[39;49;00m\u001b[33mquote\u001b[39;49;00m\u001b[33m'\u001b[39;49;00m, quote)\n",
      "        \u001b[34mif\u001b[39;49;00m _data.test(_data.get(\u001b[33m'\u001b[39;49;00m\u001b[33mc\u001b[39;49;00m\u001b[33m'\u001b[39;49;00m, c) == \u001b[33m'\u001b[39;49;00m\u001b[33m<\u001b[39;49;00m\u001b[33m'\u001b[39;49;00m \u001b[35mand\u001b[39;49;00m \u001b[35mnot\u001b[39;49;00m _data.get(\u001b[33m'\u001b[39;49;00m\u001b[33mquote\u001b[39;49;00m\u001b[33m'\u001b[39;49;00m,\n",
      "            quote)):\n",
      "            \u001b[34mwith\u001b[39;49;00m _data:\n",
      "                tag = _data.set(\u001b[33m'\u001b[39;49;00m\u001b[33mtag\u001b[39;49;00m\u001b[33m'\u001b[39;49;00m, \u001b[34mTrue\u001b[39;49;00m)\n",
      "        \u001b[34melse\u001b[39;49;00m:\n",
      "            \u001b[34mwith\u001b[39;49;00m _data:\n",
      "                \u001b[34mif\u001b[39;49;00m _data.test(_data.get(\u001b[33m'\u001b[39;49;00m\u001b[33mc\u001b[39;49;00m\u001b[33m'\u001b[39;49;00m, c) == \u001b[33m'\u001b[39;49;00m\u001b[33m>\u001b[39;49;00m\u001b[33m'\u001b[39;49;00m \u001b[35mand\u001b[39;49;00m \u001b[35mnot\u001b[39;49;00m _data.get(\n",
      "                    \u001b[33m'\u001b[39;49;00m\u001b[33mquote\u001b[39;49;00m\u001b[33m'\u001b[39;49;00m, quote)):\n",
      "                    \u001b[34mwith\u001b[39;49;00m _data:\n",
      "                        tag = _data.set(\u001b[33m'\u001b[39;49;00m\u001b[33mtag\u001b[39;49;00m\u001b[33m'\u001b[39;49;00m, \u001b[34mFalse\u001b[39;49;00m)\n",
      "                \u001b[34melse\u001b[39;49;00m:\n",
      "                    \u001b[34mwith\u001b[39;49;00m _data:\n",
      "                        \u001b[34mif\u001b[39;49;00m _data.test((_data.get(\u001b[33m'\u001b[39;49;00m\u001b[33mc\u001b[39;49;00m\u001b[33m'\u001b[39;49;00m, c) == \u001b[33m'\u001b[39;49;00m\u001b[33m\"\u001b[39;49;00m\u001b[33m'\u001b[39;49;00m \u001b[35mor\u001b[39;49;00m _data.\n",
      "                            get(\u001b[33m'\u001b[39;49;00m\u001b[33mc\u001b[39;49;00m\u001b[33m'\u001b[39;49;00m, c) == \u001b[33m\"\u001b[39;49;00m\u001b[33m'\u001b[39;49;00m\u001b[33m\"\u001b[39;49;00m) \u001b[35mand\u001b[39;49;00m _data.get(\u001b[33m'\u001b[39;49;00m\u001b[33mtag\u001b[39;49;00m\u001b[33m'\u001b[39;49;00m, tag)):\n",
      "                            \u001b[34mwith\u001b[39;49;00m _data:\n",
      "                                quote = _data.set(\u001b[33m'\u001b[39;49;00m\u001b[33mquote\u001b[39;49;00m\u001b[33m'\u001b[39;49;00m, \u001b[35mnot\u001b[39;49;00m _data.get(\n",
      "                                    \u001b[33m'\u001b[39;49;00m\u001b[33mquote\u001b[39;49;00m\u001b[33m'\u001b[39;49;00m, quote))\n",
      "                        \u001b[34melse\u001b[39;49;00m:\n",
      "                            \u001b[34mwith\u001b[39;49;00m _data:\n",
      "                                \u001b[34mif\u001b[39;49;00m _data.test(\u001b[35mnot\u001b[39;49;00m _data.get(\u001b[33m'\u001b[39;49;00m\u001b[33mtag\u001b[39;49;00m\u001b[33m'\u001b[39;49;00m, tag)):\n",
      "                                    \u001b[34mwith\u001b[39;49;00m _data:\n",
      "                                        out = _data.set(\u001b[33m'\u001b[39;49;00m\u001b[33mout\u001b[39;49;00m\u001b[33m'\u001b[39;49;00m, _data.get(\u001b[33m'\u001b[39;49;00m\u001b[33mout\u001b[39;49;00m\u001b[33m'\u001b[39;49;00m,\n",
      "                                            out) + _data.get(\u001b[33m'\u001b[39;49;00m\u001b[33mc\u001b[39;49;00m\u001b[33m'\u001b[39;49;00m, c))\n",
      "    \u001b[34mreturn\u001b[39;49;00m _data.set(\u001b[33m'\u001b[39;49;00m\u001b[33m<remove_html_markup() return value>\u001b[39;49;00m\u001b[33m'\u001b[39;49;00m, _data.get(\u001b[33m'\u001b[39;49;00m\u001b[33mout\u001b[39;49;00m\u001b[33m'\u001b[39;49;00m,\n",
      "        out))\n",
      "\n"
     ]
    }
   ],
   "source": [
    "with Slicer(remove_html_markup, log=True) as rhm_slicer:\n",
    "    s = remove_html_markup(\"<foo>bar</foo>\")"
   ]
  },
  {
   "cell_type": "markdown",
   "metadata": {
    "slideshow": {
     "slide_type": "subslide"
    }
   },
   "source": [
    "The graph is as discussed in the introduction to this chapter:"
   ]
  },
  {
   "cell_type": "code",
   "execution_count": 190,
   "metadata": {
    "slideshow": {
     "slide_type": "fragment"
    }
   },
   "outputs": [
    {
     "data": {
      "image/svg+xml": [
       "<?xml version=\"1.0\" encoding=\"UTF-8\" standalone=\"no\"?>\n",
       "<!DOCTYPE svg PUBLIC \"-//W3C//DTD SVG 1.1//EN\"\n",
       " \"http://www.w3.org/Graphics/SVG/1.1/DTD/svg11.dtd\">\n",
       "<!-- Generated by graphviz version 2.40.1 (20161225.0304)\n",
       " -->\n",
       "<!-- Title: dependencies Pages: 1 -->\n",
       "<svg width=\"390pt\" height=\"960pt\"\n",
       " viewBox=\"0.00 0.00 390.00 960.00\" xmlns=\"http://www.w3.org/2000/svg\" xmlns:xlink=\"http://www.w3.org/1999/xlink\">\n",
       "<g id=\"graph0\" class=\"graph\" transform=\"scale(1 1) rotate(0) translate(4 956)\">\n",
       "<title>dependencies</title>\n",
       "<polygon fill=\"#ffffff\" stroke=\"transparent\" points=\"-4,4 -4,-956 386,-956 386,4 -4,4\"/>\n",
       "<!-- test_remove_html_markup_144 -->\n",
       "<g id=\"node1\" class=\"node\">\n",
       "<title>test_remove_html_markup_144</title>\n",
       "<g id=\"a_node1\"><a xlink:title=\"remove_html_markup:144\">\n",
       "<polygon fill=\"#ffdab9\" stroke=\"#000000\" points=\"277.5,-572 120.5,-572 120.5,-532 277.5,-532 277.5,-572\"/>\n",
       "<text text-anchor=\"start\" x=\"173.5\" y=\"-557.8\" font-family=\"Fira Mono, Courier, monospace\" font-weight=\"bold\" font-style=\"italic\" font-size=\"14.00\" fill=\"#000000\">&lt;test&gt;</text>\n",
       "<text text-anchor=\"start\" x=\"128.5\" y=\"-538.8\" font-family=\"Fira Mono, Courier, monospace\" font-size=\"9.00\" fill=\"#000000\">if c == &#39;&lt;&#39; and not quote:</text>\n",
       "</a>\n",
       "</g>\n",
       "</g>\n",
       "<!-- tag_remove_html_markup_145 -->\n",
       "<g id=\"node5\" class=\"node\">\n",
       "<title>tag_remove_html_markup_145</title>\n",
       "<g id=\"a_node5\"><a xlink:title=\"remove_html_markup:145\">\n",
       "<polygon fill=\"#ffdab9\" stroke=\"#000000\" points=\"234.5,-496 163.5,-496 163.5,-456 234.5,-456 234.5,-496\"/>\n",
       "<text text-anchor=\"start\" x=\"186\" y=\"-481.8\" font-family=\"Fira Mono, Courier, monospace\" font-weight=\"bold\" font-size=\"14.00\" fill=\"#000000\">tag</text>\n",
       "<text text-anchor=\"start\" x=\"171.5\" y=\"-462.8\" font-family=\"Fira Mono, Courier, monospace\" font-size=\"9.00\" fill=\"#000000\">tag = True</text>\n",
       "</a>\n",
       "</g>\n",
       "</g>\n",
       "<!-- test_remove_html_markup_144&#45;&gt;tag_remove_html_markup_145 -->\n",
       "<g id=\"edge3\" class=\"edge\">\n",
       "<title>test_remove_html_markup_144&#45;&gt;tag_remove_html_markup_145</title>\n",
       "<path fill=\"none\" stroke=\"#c0c0c0\" stroke-dasharray=\"5,2\" d=\"M192.9426,-531.6334C192.2819,-523.8186 192.0939,-514.7253 192.3786,-506.183\"/>\n",
       "<polygon fill=\"#c0c0c0\" stroke=\"#c0c0c0\" points=\"195.875,-506.3453 192.9602,-496.1593 188.8867,-505.9397 195.875,-506.3453\"/>\n",
       "</g>\n",
       "<!-- test_remove_html_markup_144&#45;&gt;tag_remove_html_markup_145 -->\n",
       "<!-- test_remove_html_markup_146 -->\n",
       "<g id=\"node7\" class=\"node\">\n",
       "<title>test_remove_html_markup_146</title>\n",
       "<g id=\"a_node7\"><a xlink:title=\"remove_html_markup:146\">\n",
       "<polygon fill=\"#ffdab9\" stroke=\"#000000\" points=\"183,-420 15,-420 15,-380 183,-380 183,-420\"/>\n",
       "<text text-anchor=\"start\" x=\"73.5\" y=\"-405.8\" font-family=\"Fira Mono, Courier, monospace\" font-weight=\"bold\" font-style=\"italic\" font-size=\"14.00\" fill=\"#000000\">&lt;test&gt;</text>\n",
       "<text text-anchor=\"start\" x=\"23\" y=\"-386.8\" font-family=\"Fira Mono, Courier, monospace\" font-size=\"9.00\" fill=\"#000000\">elif c == &#39;&gt;&#39; and not quote:</text>\n",
       "</a>\n",
       "</g>\n",
       "</g>\n",
       "<!-- test_remove_html_markup_144&#45;&gt;test_remove_html_markup_146 -->\n",
       "<g id=\"edge15\" class=\"edge\">\n",
       "<title>test_remove_html_markup_144&#45;&gt;test_remove_html_markup_146</title>\n",
       "<path fill=\"none\" stroke=\"#c0c0c0\" stroke-dasharray=\"5,2\" d=\"M182.0025,-531.7676C173.5304,-521.3421 163.3411,-508.2705 155,-496 140.2714,-474.333 125.4128,-448.6435 114.7057,-429.2939\"/>\n",
       "<polygon fill=\"#c0c0c0\" stroke=\"#c0c0c0\" points=\"117.6783,-427.4355 109.8017,-420.3497 111.5404,-430.8009 117.6783,-427.4355\"/>\n",
       "</g>\n",
       "<!-- quote_remove_html_markup_138 -->\n",
       "<g id=\"node2\" class=\"node\">\n",
       "<title>quote_remove_html_markup_138</title>\n",
       "<g id=\"a_node2\"><a xlink:title=\"remove_html_markup:138\">\n",
       "<polygon fill=\"#ffdab9\" stroke=\"#000000\" points=\"204.5,-800 117.5,-800 117.5,-760 204.5,-760 204.5,-800\"/>\n",
       "<text text-anchor=\"start\" x=\"139.5\" y=\"-785.8\" font-family=\"Fira Mono, Courier, monospace\" font-weight=\"bold\" font-size=\"14.00\" fill=\"#000000\">quote</text>\n",
       "<text text-anchor=\"start\" x=\"125.5\" y=\"-766.8\" font-family=\"Fira Mono, Courier, monospace\" font-size=\"9.00\" fill=\"#000000\">quote = False</text>\n",
       "</a>\n",
       "</g>\n",
       "</g>\n",
       "<!-- quote_remove_html_markup_138&#45;&gt;test_remove_html_markup_144 -->\n",
       "<g id=\"edge1\" class=\"edge\">\n",
       "<title>quote_remove_html_markup_138&#45;&gt;test_remove_html_markup_144</title>\n",
       "<path fill=\"none\" stroke=\"#000000\" d=\"M163.3808,-759.7845C167.3027,-727.5465 175.7204,-662.5619 186,-608 187.6028,-599.4929 189.6117,-590.3221 191.5677,-581.9139\"/>\n",
       "<polygon fill=\"#000000\" stroke=\"#000000\" points=\"194.9853,-582.6705 193.8964,-572.1317 188.1756,-581.0493 194.9853,-582.6705\"/>\n",
       "</g>\n",
       "<!-- quote_remove_html_markup_138&#45;&gt;test_remove_html_markup_146 -->\n",
       "<g id=\"edge13\" class=\"edge\">\n",
       "<title>quote_remove_html_markup_138&#45;&gt;test_remove_html_markup_146</title>\n",
       "<path fill=\"none\" stroke=\"#000000\" d=\"M134.2754,-759.8035C102.5827,-733.3297 54,-683.6685 54,-628 54,-628 54,-628 54,-552 54,-507.9878 71.561,-459.647 84.7424,-429.5611\"/>\n",
       "<polygon fill=\"#000000\" stroke=\"#000000\" points=\"88.0928,-430.6454 89.013,-420.0905 81.7116,-427.7678 88.0928,-430.6454\"/>\n",
       "</g>\n",
       "<!-- out_remove_html_markup_139 -->\n",
       "<g id=\"node9\" class=\"node\">\n",
       "<title>out_remove_html_markup_139</title>\n",
       "<g id=\"a_node9\"><a xlink:title=\"remove_html_markup:139\">\n",
       "<polygon fill=\"#ffdab9\" stroke=\"#000000\" points=\"321,-724 261,-724 261,-684 321,-684 321,-724\"/>\n",
       "<text text-anchor=\"start\" x=\"278\" y=\"-709.8\" font-family=\"Fira Mono, Courier, monospace\" font-weight=\"bold\" font-size=\"14.00\" fill=\"#000000\">out</text>\n",
       "<text text-anchor=\"start\" x=\"269\" y=\"-690.8\" font-family=\"Fira Mono, Courier, monospace\" font-size=\"9.00\" fill=\"#000000\">out = &quot;&quot;</text>\n",
       "</a>\n",
       "</g>\n",
       "</g>\n",
       "<!-- quote_remove_html_markup_138&#45;&gt;out_remove_html_markup_139 -->\n",
       "<!-- c_remove_html_markup_141 -->\n",
       "<g id=\"node3\" class=\"node\">\n",
       "<title>c_remove_html_markup_141</title>\n",
       "<g id=\"a_node3\"><a xlink:title=\"remove_html_markup:141\">\n",
       "<polygon fill=\"#ffdab9\" stroke=\"#000000\" points=\"271,-648 195,-648 195,-608 271,-608 271,-648\"/>\n",
       "<text text-anchor=\"start\" x=\"228.5\" y=\"-633.8\" font-family=\"Fira Mono, Courier, monospace\" font-weight=\"bold\" font-size=\"14.00\" fill=\"#000000\">c</text>\n",
       "<text text-anchor=\"start\" x=\"203\" y=\"-614.8\" font-family=\"Fira Mono, Courier, monospace\" font-size=\"9.00\" fill=\"#000000\">for c in s:</text>\n",
       "</a>\n",
       "</g>\n",
       "</g>\n",
       "<!-- c_remove_html_markup_141&#45;&gt;test_remove_html_markup_144 -->\n",
       "<g id=\"edge2\" class=\"edge\">\n",
       "<title>c_remove_html_markup_141&#45;&gt;test_remove_html_markup_144</title>\n",
       "<path fill=\"none\" stroke=\"#000000\" d=\"M217.8312,-607.6334C213.5831,-599.6468 209.2313,-590.325 205.6493,-581.6205\"/>\n",
       "<polygon fill=\"#000000\" stroke=\"#000000\" points=\"208.8588,-580.2164 201.9788,-572.1593 202.3327,-582.7482 208.8588,-580.2164\"/>\n",
       "</g>\n",
       "<!-- c_remove_html_markup_141&#45;&gt;test_remove_html_markup_144 -->\n",
       "<!-- test_remove_html_markup_148 -->\n",
       "<g id=\"node6\" class=\"node\">\n",
       "<title>test_remove_html_markup_148</title>\n",
       "<g id=\"a_node6\"><a xlink:title=\"remove_html_markup:148\">\n",
       "<polygon fill=\"#ffdab9\" stroke=\"#000000\" points=\"277.5,-268 66.5,-268 66.5,-228 277.5,-228 277.5,-268\"/>\n",
       "<text text-anchor=\"start\" x=\"146.5\" y=\"-253.8\" font-family=\"Fira Mono, Courier, monospace\" font-weight=\"bold\" font-style=\"italic\" font-size=\"14.00\" fill=\"#000000\">&lt;test&gt;</text>\n",
       "<text text-anchor=\"start\" x=\"74.5\" y=\"-234.8\" font-family=\"Fira Mono, Courier, monospace\" font-size=\"9.00\" fill=\"#000000\">elif (c == &#39;&quot;&#39; or c == &quot;&#39;&quot;) and tag:</text>\n",
       "</a>\n",
       "</g>\n",
       "</g>\n",
       "<!-- c_remove_html_markup_141&#45;&gt;test_remove_html_markup_148 -->\n",
       "<g id=\"edge4\" class=\"edge\">\n",
       "<title>c_remove_html_markup_141&#45;&gt;test_remove_html_markup_148</title>\n",
       "<path fill=\"none\" stroke=\"#000000\" d=\"M259.9471,-607.8347C270.4917,-598.2766 281.3891,-585.9021 287,-572 293.6537,-555.5143 290.3989,-549.4498 287,-532 267.9388,-434.1416 215.1487,-327.349 188.2331,-277.155\"/>\n",
       "<polygon fill=\"#000000\" stroke=\"#000000\" points=\"191.2081,-275.2986 183.3674,-268.1729 185.0531,-278.6328 191.2081,-275.2986\"/>\n",
       "</g>\n",
       "<!-- c_remove_html_markup_141&#45;&gt;test_remove_html_markup_146 -->\n",
       "<g id=\"edge14\" class=\"edge\">\n",
       "<title>c_remove_html_markup_141&#45;&gt;test_remove_html_markup_146</title>\n",
       "<path fill=\"none\" stroke=\"#000000\" d=\"M194.9222,-621.2211C166.8084,-614.0678 130.2217,-599.7934 111,-572 81.8658,-529.8738 86.3169,-467.22 92.4726,-430.2998\"/>\n",
       "<polygon fill=\"#000000\" stroke=\"#000000\" points=\"95.9702,-430.6277 94.3147,-420.1631 89.083,-429.3761 95.9702,-430.6277\"/>\n",
       "</g>\n",
       "<!-- out_remove_html_markup_151 -->\n",
       "<g id=\"node8\" class=\"node\">\n",
       "<title>out_remove_html_markup_151</title>\n",
       "<g id=\"a_node8\"><a xlink:title=\"remove_html_markup:151\">\n",
       "<polygon fill=\"#ffdab9\" stroke=\"#000000\" points=\"215.5,-116 128.5,-116 128.5,-76 215.5,-76 215.5,-116\"/>\n",
       "<text text-anchor=\"start\" x=\"159\" y=\"-101.8\" font-family=\"Fira Mono, Courier, monospace\" font-weight=\"bold\" font-size=\"14.00\" fill=\"#000000\">out</text>\n",
       "<text text-anchor=\"start\" x=\"136.5\" y=\"-82.8\" font-family=\"Fira Mono, Courier, monospace\" font-size=\"9.00\" fill=\"#000000\">out = out + c</text>\n",
       "</a>\n",
       "</g>\n",
       "</g>\n",
       "<!-- c_remove_html_markup_141&#45;&gt;out_remove_html_markup_151 -->\n",
       "<g id=\"edge8\" class=\"edge\">\n",
       "<title>c_remove_html_markup_141&#45;&gt;out_remove_html_markup_151</title>\n",
       "<path fill=\"none\" stroke=\"#000000\" d=\"M263.9995,-607.8275C277.0175,-598.1856 291.5329,-585.7483 302,-572 330.211,-534.9456 344,-522.5713 344,-476 344,-476 344,-476 344,-248 344,-183.661 275.5882,-140.0182 225.055,-116.5572\"/>\n",
       "<polygon fill=\"#000000\" stroke=\"#000000\" points=\"226.4032,-113.3258 215.8479,-112.4109 223.5288,-119.7085 226.4032,-113.3258\"/>\n",
       "</g>\n",
       "<!-- s_remove_html_markup_136 -->\n",
       "<g id=\"node4\" class=\"node\">\n",
       "<title>s_remove_html_markup_136</title>\n",
       "<g id=\"a_node4\"><a xlink:title=\"remove_html_markup:136\">\n",
       "<polygon fill=\"#ffdab9\" stroke=\"#000000\" points=\"275.5,-952 118.5,-952 118.5,-912 275.5,-912 275.5,-952\"/>\n",
       "<text text-anchor=\"start\" x=\"192.5\" y=\"-937.8\" font-family=\"Fira Mono, Courier, monospace\" font-weight=\"bold\" font-size=\"14.00\" fill=\"#000000\">s</text>\n",
       "<text text-anchor=\"start\" x=\"126.5\" y=\"-918.8\" font-family=\"Fira Mono, Courier, monospace\" font-size=\"9.00\" fill=\"#000000\">def remove_html_markup(s):</text>\n",
       "</a>\n",
       "</g>\n",
       "</g>\n",
       "<!-- s_remove_html_markup_136&#45;&gt;c_remove_html_markup_141 -->\n",
       "<g id=\"edge16\" class=\"edge\">\n",
       "<title>s_remove_html_markup_136&#45;&gt;c_remove_html_markup_141</title>\n",
       "<path fill=\"none\" stroke=\"#000000\" d=\"M202.8241,-911.9428C205.6963,-901.34 208.971,-888.0566 211,-876 224.1104,-798.0965 229.7143,-705.0256 231.8476,-658.1499\"/>\n",
       "<polygon fill=\"#000000\" stroke=\"#000000\" points=\"235.3482,-658.208 232.2848,-648.0657 228.3548,-657.9047 235.3482,-658.208\"/>\n",
       "</g>\n",
       "<!-- tag_remove_html_markup_137 -->\n",
       "<g id=\"node11\" class=\"node\">\n",
       "<title>tag_remove_html_markup_137</title>\n",
       "<g id=\"a_node11\"><a xlink:title=\"remove_html_markup:137\">\n",
       "<polygon fill=\"#ffdab9\" stroke=\"#000000\" points=\"202,-876 126,-876 126,-836 202,-836 202,-876\"/>\n",
       "<text text-anchor=\"start\" x=\"151\" y=\"-861.8\" font-family=\"Fira Mono, Courier, monospace\" font-weight=\"bold\" font-size=\"14.00\" fill=\"#000000\">tag</text>\n",
       "<text text-anchor=\"start\" x=\"134\" y=\"-842.8\" font-family=\"Fira Mono, Courier, monospace\" font-size=\"9.00\" fill=\"#000000\">tag = False</text>\n",
       "</a>\n",
       "</g>\n",
       "</g>\n",
       "<!-- s_remove_html_markup_136&#45;&gt;tag_remove_html_markup_137 -->\n",
       "<!-- tag_remove_html_markup_145&#45;&gt;test_remove_html_markup_146 -->\n",
       "<!-- test_remove_html_markup_150 -->\n",
       "<g id=\"node10\" class=\"node\">\n",
       "<title>test_remove_html_markup_150</title>\n",
       "<g id=\"a_node10\"><a xlink:title=\"remove_html_markup:150\">\n",
       "<polygon fill=\"#ffdab9\" stroke=\"#000000\" points=\"215.5,-192 128.5,-192 128.5,-152 215.5,-152 215.5,-192\"/>\n",
       "<text text-anchor=\"start\" x=\"146.5\" y=\"-177.8\" font-family=\"Fira Mono, Courier, monospace\" font-weight=\"bold\" font-style=\"italic\" font-size=\"14.00\" fill=\"#000000\">&lt;test&gt;</text>\n",
       "<text text-anchor=\"start\" x=\"136.5\" y=\"-158.8\" font-family=\"Fira Mono, Courier, monospace\" font-size=\"9.00\" fill=\"#000000\">elif not tag:</text>\n",
       "</a>\n",
       "</g>\n",
       "</g>\n",
       "<!-- tag_remove_html_markup_145&#45;&gt;test_remove_html_markup_150 -->\n",
       "<g id=\"edge10\" class=\"edge\">\n",
       "<title>tag_remove_html_markup_145&#45;&gt;test_remove_html_markup_150</title>\n",
       "<path fill=\"none\" stroke=\"#000000\" d=\"M217.6012,-455.7234C255.6904,-411.6462 335.0805,-304.8913 287,-228 273.35,-206.1706 248.477,-192.6278 225.346,-184.3431\"/>\n",
       "<polygon fill=\"#000000\" stroke=\"#000000\" points=\"226.1706,-180.9292 215.5772,-181.1056 223.9684,-187.5738 226.1706,-180.9292\"/>\n",
       "</g>\n",
       "<!-- test_remove_html_markup_148&#45;&gt;test_remove_html_markup_150 -->\n",
       "<g id=\"edge12\" class=\"edge\">\n",
       "<title>test_remove_html_markup_148&#45;&gt;test_remove_html_markup_150</title>\n",
       "<path fill=\"none\" stroke=\"#c0c0c0\" stroke-dasharray=\"5,2\" d=\"M165.9426,-227.6334C165.2819,-219.8186 165.0939,-210.7253 165.3786,-202.183\"/>\n",
       "<polygon fill=\"#c0c0c0\" stroke=\"#c0c0c0\" points=\"168.875,-202.3453 165.9602,-192.1593 161.8867,-201.9397 168.875,-202.3453\"/>\n",
       "</g>\n",
       "<!-- test_remove_html_markup_148&#45;&gt;test_remove_html_markup_150 -->\n",
       "<!-- test_remove_html_markup_146&#45;&gt;test_remove_html_markup_148 -->\n",
       "<g id=\"edge5\" class=\"edge\">\n",
       "<title>test_remove_html_markup_146&#45;&gt;test_remove_html_markup_148</title>\n",
       "<path fill=\"none\" stroke=\"#c0c0c0\" stroke-dasharray=\"5,2\" d=\"M119.6789,-379.783C128.894,-369.7718 139.1832,-357.0503 146,-344 156.8425,-323.2427 163.4941,-297.5347 167.3522,-277.9476\"/>\n",
       "<polygon fill=\"#c0c0c0\" stroke=\"#c0c0c0\" points=\"170.807,-278.5117 169.1697,-268.0442 163.922,-277.2481 170.807,-278.5117\"/>\n",
       "</g>\n",
       "<!-- tag_remove_html_markup_147 -->\n",
       "<g id=\"node12\" class=\"node\">\n",
       "<title>tag_remove_html_markup_147</title>\n",
       "<g id=\"a_node12\"><a xlink:title=\"remove_html_markup:147\">\n",
       "<polygon fill=\"#ffdab9\" stroke=\"#000000\" points=\"137,-344 61,-344 61,-304 137,-304 137,-344\"/>\n",
       "<text text-anchor=\"start\" x=\"86\" y=\"-329.8\" font-family=\"Fira Mono, Courier, monospace\" font-weight=\"bold\" font-size=\"14.00\" fill=\"#000000\">tag</text>\n",
       "<text text-anchor=\"start\" x=\"69\" y=\"-310.8\" font-family=\"Fira Mono, Courier, monospace\" font-size=\"9.00\" fill=\"#000000\">tag = False</text>\n",
       "</a>\n",
       "</g>\n",
       "</g>\n",
       "<!-- test_remove_html_markup_146&#45;&gt;tag_remove_html_markup_147 -->\n",
       "<g id=\"edge17\" class=\"edge\">\n",
       "<title>test_remove_html_markup_146&#45;&gt;tag_remove_html_markup_147</title>\n",
       "<path fill=\"none\" stroke=\"#c0c0c0\" stroke-dasharray=\"5,2\" d=\"M92.9426,-379.6334C92.2819,-371.8186 92.0939,-362.7253 92.3786,-354.183\"/>\n",
       "<polygon fill=\"#c0c0c0\" stroke=\"#c0c0c0\" points=\"95.875,-354.3453 92.9602,-344.1593 88.8867,-353.9397 95.875,-354.3453\"/>\n",
       "</g>\n",
       "<!-- test_remove_html_markup_146&#45;&gt;tag_remove_html_markup_147 -->\n",
       "<!-- remove_html_markupreturnvalue_remove_html_markup_153 -->\n",
       "<g id=\"node13\" class=\"node\">\n",
       "<title>remove_html_markupreturnvalue_remove_html_markup_153</title>\n",
       "<g id=\"a_node13\"><a xlink:title=\"remove_html_markup:153\">\n",
       "<polygon fill=\"#ffdab9\" stroke=\"#000000\" points=\"327.5,-40 16.5,-40 16.5,0 327.5,0 327.5,-40\"/>\n",
       "<text text-anchor=\"start\" x=\"24.5\" y=\"-25.8\" font-family=\"Fira Mono, Courier, monospace\" font-weight=\"bold\" font-style=\"italic\" font-size=\"14.00\" fill=\"#000000\">&lt;remove_html_markup() return value&gt;</text>\n",
       "<text text-anchor=\"start\" x=\"144.5\" y=\"-6.8\" font-family=\"Fira Mono, Courier, monospace\" font-size=\"9.00\" fill=\"#000000\">return out</text>\n",
       "</a>\n",
       "</g>\n",
       "</g>\n",
       "<!-- test_remove_html_markup_146&#45;&gt;remove_html_markupreturnvalue_remove_html_markup_153 -->\n",
       "<g id=\"edge19\" class=\"edge\">\n",
       "<title>test_remove_html_markup_146&#45;&gt;remove_html_markupreturnvalue_remove_html_markup_153</title>\n",
       "<path fill=\"none\" stroke=\"#000000\" d=\"M74.7819,-379.8404C45.4731,-353.0342 0,-302.6397 0,-248 0,-248 0,-248 0,-172 0,-111.0374 61.4199,-68.6558 110.8541,-44.4176\"/>\n",
       "<polygon fill=\"#000000\" stroke=\"#000000\" points=\"112.4,-47.5581 119.9276,-40.1025 109.3936,-41.2365 112.4,-47.5581\"/>\n",
       "</g>\n",
       "<!-- out_remove_html_markup_151&#45;&gt;out_remove_html_markup_151 -->\n",
       "<g id=\"edge6\" class=\"edge\">\n",
       "<title>out_remove_html_markup_151&#45;&gt;out_remove_html_markup_151</title>\n",
       "<path fill=\"none\" stroke=\"#000000\" d=\"M215.6694,-109.9682C225.9301,-108.8201 233.5,-104.1641 233.5,-96 233.5,-90.7699 230.3933,-86.9795 225.4627,-84.6287\"/>\n",
       "<polygon fill=\"#000000\" stroke=\"#000000\" points=\"226.2324,-81.212 215.6694,-82.0318 224.4382,-87.9781 226.2324,-81.212\"/>\n",
       "</g>\n",
       "<!-- out_remove_html_markup_151&#45;&gt;remove_html_markupreturnvalue_remove_html_markup_153 -->\n",
       "<g id=\"edge18\" class=\"edge\">\n",
       "<title>out_remove_html_markup_151&#45;&gt;remove_html_markupreturnvalue_remove_html_markup_153</title>\n",
       "<path fill=\"none\" stroke=\"#000000\" d=\"M165.9426,-75.6334C165.2819,-67.8186 165.0939,-58.7253 165.3786,-50.183\"/>\n",
       "<polygon fill=\"#000000\" stroke=\"#000000\" points=\"168.875,-50.3453 165.9602,-40.1593 161.8867,-49.9397 168.875,-50.3453\"/>\n",
       "</g>\n",
       "<!-- out_remove_html_markup_151&#45;&gt;remove_html_markupreturnvalue_remove_html_markup_153 -->\n",
       "<!-- out_remove_html_markup_139&#45;&gt;c_remove_html_markup_141 -->\n",
       "<!-- out_remove_html_markup_139&#45;&gt;out_remove_html_markup_151 -->\n",
       "<g id=\"edge7\" class=\"edge\">\n",
       "<title>out_remove_html_markup_139&#45;&gt;out_remove_html_markup_151</title>\n",
       "<path fill=\"none\" stroke=\"#000000\" d=\"M313.0286,-683.6774C339.9603,-656.5042 382,-605.5165 382,-552 382,-552 382,-552 382,-248 382,-170.675 287.4135,-128.6772 225.1997,-109.4167\"/>\n",
       "<polygon fill=\"#000000\" stroke=\"#000000\" points=\"226.0958,-106.0315 215.5121,-106.5187 224.0896,-112.7379 226.0958,-106.0315\"/>\n",
       "</g>\n",
       "<!-- test_remove_html_markup_150&#45;&gt;out_remove_html_markup_151 -->\n",
       "<g id=\"edge9\" class=\"edge\">\n",
       "<title>test_remove_html_markup_150&#45;&gt;out_remove_html_markup_151</title>\n",
       "<path fill=\"none\" stroke=\"#c0c0c0\" stroke-dasharray=\"5,2\" d=\"M165.9426,-151.6334C165.2819,-143.8186 165.0939,-134.7253 165.3786,-126.183\"/>\n",
       "<polygon fill=\"#c0c0c0\" stroke=\"#c0c0c0\" points=\"168.875,-126.3453 165.9602,-116.1593 161.8867,-125.9397 168.875,-126.3453\"/>\n",
       "</g>\n",
       "<!-- test_remove_html_markup_150&#45;&gt;out_remove_html_markup_151 -->\n",
       "<!-- tag_remove_html_markup_137&#45;&gt;quote_remove_html_markup_138 -->\n",
       "<!-- tag_remove_html_markup_147&#45;&gt;test_remove_html_markup_148 -->\n",
       "<!-- tag_remove_html_markup_147&#45;&gt;test_remove_html_markup_150 -->\n",
       "<g id=\"edge11\" class=\"edge\">\n",
       "<title>tag_remove_html_markup_147&#45;&gt;test_remove_html_markup_150</title>\n",
       "<path fill=\"none\" stroke=\"#000000\" d=\"M78.8745,-303.6598C61.5802,-283.6182 41.6643,-252.5251 57,-228 70.65,-206.1706 95.523,-192.6278 118.654,-184.3431\"/>\n",
       "<polygon fill=\"#000000\" stroke=\"#000000\" points=\"120.0316,-187.5738 128.4228,-181.1056 117.8294,-180.9292 120.0316,-187.5738\"/>\n",
       "</g>\n",
       "</g>\n",
       "</svg>\n"
      ],
      "text/plain": [
       "<graphviz.dot.Digraph at 0x7f83c46425c0>"
      ]
     },
     "execution_count": 190,
     "metadata": {},
     "output_type": "execute_result"
    }
   ],
   "source": [
    "rhm_slicer.graph()"
   ]
  },
  {
   "cell_type": "code",
   "execution_count": 191,
   "metadata": {
    "slideshow": {
     "slide_type": "fragment"
    }
   },
   "outputs": [],
   "source": [
    "# rhm_slicer.dependencies()"
   ]
  },
  {
   "cell_type": "code",
   "execution_count": 192,
   "metadata": {
    "slideshow": {
     "slide_type": "subslide"
    }
   },
   "outputs": [
    {
     "name": "stdout",
     "output_type": "stream",
     "text": [
      "*  136 \u001b[34mdef\u001b[39;49;00m \u001b[32mremove_html_markup\u001b[39;49;00m(s):\n",
      "*  137     tag = \u001b[34mFalse\u001b[39;49;00m\n",
      "*  138     quote = \u001b[34mFalse\u001b[39;49;00m\n",
      "*  139     out = \u001b[33m\"\u001b[39;49;00m\u001b[33m\"\u001b[39;49;00m\n",
      "   140 \n",
      "*  141     \u001b[34mfor\u001b[39;49;00m c \u001b[35min\u001b[39;49;00m s:  \u001b[37m# <= s (136)\u001b[39;49;00m\n",
      "   142         \u001b[34massert\u001b[39;49;00m tag \u001b[35mor\u001b[39;49;00m \u001b[35mnot\u001b[39;49;00m quote\n",
      "   143 \n",
      "*  144         \u001b[34mif\u001b[39;49;00m c == \u001b[33m'\u001b[39;49;00m\u001b[33m<\u001b[39;49;00m\u001b[33m'\u001b[39;49;00m \u001b[35mand\u001b[39;49;00m \u001b[35mnot\u001b[39;49;00m quote:  \u001b[37m# <= quote (138), c (141)\u001b[39;49;00m\n",
      "*  145             tag = \u001b[34mTrue\u001b[39;49;00m  \u001b[37m# <- <test> (144)\u001b[39;49;00m\n",
      "*  146         \u001b[34melif\u001b[39;49;00m c == \u001b[33m'\u001b[39;49;00m\u001b[33m>\u001b[39;49;00m\u001b[33m'\u001b[39;49;00m \u001b[35mand\u001b[39;49;00m \u001b[35mnot\u001b[39;49;00m quote:  \u001b[37m# <= quote (138), c (141); <- <test> (144)\u001b[39;49;00m\n",
      "*  147             tag = \u001b[34mFalse\u001b[39;49;00m  \u001b[37m# <- <test> (146)\u001b[39;49;00m\n",
      "*  148         \u001b[34melif\u001b[39;49;00m (c == \u001b[33m'\u001b[39;49;00m\u001b[33m\"\u001b[39;49;00m\u001b[33m'\u001b[39;49;00m \u001b[35mor\u001b[39;49;00m c == \u001b[33m\"\u001b[39;49;00m\u001b[33m'\u001b[39;49;00m\u001b[33m\"\u001b[39;49;00m) \u001b[35mand\u001b[39;49;00m tag:  \u001b[37m# <= c (141); <- <test> (146)\u001b[39;49;00m\n",
      "   149             quote = \u001b[35mnot\u001b[39;49;00m quote\n",
      "*  150         \u001b[34melif\u001b[39;49;00m \u001b[35mnot\u001b[39;49;00m tag:  \u001b[37m# <= tag (145), tag (147); <- <test> (148)\u001b[39;49;00m\n",
      "*  151             out = out + c  \u001b[37m# <= out (151), out (139), c (141); <- <test> (150)\u001b[39;49;00m\n",
      "   152 \n",
      "*  153     \u001b[34mreturn\u001b[39;49;00m out  \u001b[37m# <= out (151), <test> (146)\u001b[39;49;00m\n"
     ]
    }
   ],
   "source": [
    "rhm_slicer.code()"
   ]
  },
  {
   "cell_type": "markdown",
   "metadata": {
    "slideshow": {
     "slide_type": "subslide"
    }
   },
   "source": [
    "We can also compute slices over the dependencies:"
   ]
  },
  {
   "cell_type": "code",
   "execution_count": 193,
   "metadata": {
    "slideshow": {
     "slide_type": "fragment"
    }
   },
   "outputs": [
    {
     "data": {
      "text/plain": [
       "136"
      ]
     },
     "execution_count": 193,
     "metadata": {},
     "output_type": "execute_result"
    }
   ],
   "source": [
    "_, start_remove_html_markup = inspect.getsourcelines(remove_html_markup)\n",
    "start_remove_html_markup"
   ]
  },
  {
   "cell_type": "code",
   "execution_count": 194,
   "metadata": {
    "slideshow": {
     "slide_type": "fragment"
    }
   },
   "outputs": [
    {
     "data": {
      "image/svg+xml": [
       "<?xml version=\"1.0\" encoding=\"UTF-8\" standalone=\"no\"?>\n",
       "<!DOCTYPE svg PUBLIC \"-//W3C//DTD SVG 1.1//EN\"\n",
       " \"http://www.w3.org/Graphics/SVG/1.1/DTD/svg11.dtd\">\n",
       "<!-- Generated by graphviz version 2.40.1 (20161225.0304)\n",
       " -->\n",
       "<!-- Title: dependencies Pages: 1 -->\n",
       "<svg width=\"196pt\" height=\"352pt\"\n",
       " viewBox=\"0.00 0.00 196.00 352.00\" xmlns=\"http://www.w3.org/2000/svg\" xmlns:xlink=\"http://www.w3.org/1999/xlink\">\n",
       "<g id=\"graph0\" class=\"graph\" transform=\"scale(1 1) rotate(0) translate(4 348)\">\n",
       "<title>dependencies</title>\n",
       "<polygon fill=\"#ffffff\" stroke=\"transparent\" points=\"-4,4 -4,-348 192,-348 192,4 -4,4\"/>\n",
       "<!-- test_remove_html_markup_144 -->\n",
       "<g id=\"node1\" class=\"node\">\n",
       "<title>test_remove_html_markup_144</title>\n",
       "<g id=\"a_node1\"><a xlink:title=\"remove_html_markup:144\">\n",
       "<polygon fill=\"#ffdab9\" stroke=\"#000000\" points=\"188,-116 31,-116 31,-76 188,-76 188,-116\"/>\n",
       "<text text-anchor=\"start\" x=\"84\" y=\"-101.8\" font-family=\"Fira Mono, Courier, monospace\" font-weight=\"bold\" font-style=\"italic\" font-size=\"14.00\" fill=\"#000000\">&lt;test&gt;</text>\n",
       "<text text-anchor=\"start\" x=\"39\" y=\"-82.8\" font-family=\"Fira Mono, Courier, monospace\" font-size=\"9.00\" fill=\"#000000\">if c == &#39;&lt;&#39; and not quote:</text>\n",
       "</a>\n",
       "</g>\n",
       "</g>\n",
       "<!-- tag_remove_html_markup_145 -->\n",
       "<g id=\"node5\" class=\"node\">\n",
       "<title>tag_remove_html_markup_145</title>\n",
       "<g id=\"a_node5\"><a xlink:title=\"remove_html_markup:145\">\n",
       "<polygon fill=\"#ffdab9\" stroke=\"#000000\" points=\"145,-40 74,-40 74,0 145,0 145,-40\"/>\n",
       "<text text-anchor=\"start\" x=\"96.5\" y=\"-25.8\" font-family=\"Fira Mono, Courier, monospace\" font-weight=\"bold\" font-size=\"14.00\" fill=\"#000000\">tag</text>\n",
       "<text text-anchor=\"start\" x=\"82\" y=\"-6.8\" font-family=\"Fira Mono, Courier, monospace\" font-size=\"9.00\" fill=\"#000000\">tag = True</text>\n",
       "</a>\n",
       "</g>\n",
       "</g>\n",
       "<!-- test_remove_html_markup_144&#45;&gt;tag_remove_html_markup_145 -->\n",
       "<g id=\"edge3\" class=\"edge\">\n",
       "<title>test_remove_html_markup_144&#45;&gt;tag_remove_html_markup_145</title>\n",
       "<path fill=\"none\" stroke=\"#c0c0c0\" stroke-dasharray=\"5,2\" d=\"M103.4426,-75.6334C102.7819,-67.8186 102.5939,-58.7253 102.8786,-50.183\"/>\n",
       "<polygon fill=\"#c0c0c0\" stroke=\"#c0c0c0\" points=\"106.375,-50.3453 103.4602,-40.1593 99.3867,-49.9397 106.375,-50.3453\"/>\n",
       "</g>\n",
       "<!-- test_remove_html_markup_144&#45;&gt;tag_remove_html_markup_145 -->\n",
       "<!-- quote_remove_html_markup_138 -->\n",
       "<g id=\"node2\" class=\"node\">\n",
       "<title>quote_remove_html_markup_138</title>\n",
       "<g id=\"a_node2\"><a xlink:title=\"remove_html_markup:138\">\n",
       "<polygon fill=\"#ffdab9\" stroke=\"#000000\" points=\"87,-268 0,-268 0,-228 87,-228 87,-268\"/>\n",
       "<text text-anchor=\"start\" x=\"22\" y=\"-253.8\" font-family=\"Fira Mono, Courier, monospace\" font-weight=\"bold\" font-size=\"14.00\" fill=\"#000000\">quote</text>\n",
       "<text text-anchor=\"start\" x=\"8\" y=\"-234.8\" font-family=\"Fira Mono, Courier, monospace\" font-size=\"9.00\" fill=\"#000000\">quote = False</text>\n",
       "</a>\n",
       "</g>\n",
       "</g>\n",
       "<!-- quote_remove_html_markup_138&#45;&gt;test_remove_html_markup_144 -->\n",
       "<g id=\"edge1\" class=\"edge\">\n",
       "<title>quote_remove_html_markup_138&#45;&gt;test_remove_html_markup_144</title>\n",
       "<path fill=\"none\" stroke=\"#000000\" d=\"M44.5563,-227.9674C46.2686,-207.8864 50.7539,-176.5152 62.5,-152 67.3212,-141.9378 74.3732,-132.1828 81.5555,-123.7107\"/>\n",
       "<polygon fill=\"#000000\" stroke=\"#000000\" points=\"84.3747,-125.8078 88.413,-116.0127 79.1479,-121.1515 84.3747,-125.8078\"/>\n",
       "</g>\n",
       "<!-- c_remove_html_markup_141 -->\n",
       "<g id=\"node3\" class=\"node\">\n",
       "<title>c_remove_html_markup_141</title>\n",
       "<g id=\"a_node3\"><a xlink:title=\"remove_html_markup:141\">\n",
       "<polygon fill=\"#ffdab9\" stroke=\"#000000\" points=\"147.5,-192 71.5,-192 71.5,-152 147.5,-152 147.5,-192\"/>\n",
       "<text text-anchor=\"start\" x=\"105\" y=\"-177.8\" font-family=\"Fira Mono, Courier, monospace\" font-weight=\"bold\" font-size=\"14.00\" fill=\"#000000\">c</text>\n",
       "<text text-anchor=\"start\" x=\"79.5\" y=\"-158.8\" font-family=\"Fira Mono, Courier, monospace\" font-size=\"9.00\" fill=\"#000000\">for c in s:</text>\n",
       "</a>\n",
       "</g>\n",
       "</g>\n",
       "<!-- quote_remove_html_markup_138&#45;&gt;c_remove_html_markup_141 -->\n",
       "<!-- c_remove_html_markup_141&#45;&gt;test_remove_html_markup_144 -->\n",
       "<g id=\"edge2\" class=\"edge\">\n",
       "<title>c_remove_html_markup_141&#45;&gt;test_remove_html_markup_144</title>\n",
       "<path fill=\"none\" stroke=\"#000000\" d=\"M103.4426,-151.6334C102.7819,-143.8186 102.5939,-134.7253 102.8786,-126.183\"/>\n",
       "<polygon fill=\"#000000\" stroke=\"#000000\" points=\"106.375,-126.3453 103.4602,-116.1593 99.3867,-125.9397 106.375,-126.3453\"/>\n",
       "</g>\n",
       "<!-- c_remove_html_markup_141&#45;&gt;test_remove_html_markup_144 -->\n",
       "<!-- s_remove_html_markup_136 -->\n",
       "<g id=\"node4\" class=\"node\">\n",
       "<title>s_remove_html_markup_136</title>\n",
       "<g id=\"a_node4\"><a xlink:title=\"remove_html_markup:136\">\n",
       "<polygon fill=\"#ffdab9\" stroke=\"#000000\" points=\"158,-344 1,-344 1,-304 158,-304 158,-344\"/>\n",
       "<text text-anchor=\"start\" x=\"75\" y=\"-329.8\" font-family=\"Fira Mono, Courier, monospace\" font-weight=\"bold\" font-size=\"14.00\" fill=\"#000000\">s</text>\n",
       "<text text-anchor=\"start\" x=\"9\" y=\"-310.8\" font-family=\"Fira Mono, Courier, monospace\" font-size=\"9.00\" fill=\"#000000\">def remove_html_markup(s):</text>\n",
       "</a>\n",
       "</g>\n",
       "</g>\n",
       "<!-- s_remove_html_markup_136&#45;&gt;quote_remove_html_markup_138 -->\n",
       "<!-- s_remove_html_markup_136&#45;&gt;c_remove_html_markup_141 -->\n",
       "<g id=\"edge4\" class=\"edge\">\n",
       "<title>s_remove_html_markup_136&#45;&gt;c_remove_html_markup_141</title>\n",
       "<path fill=\"none\" stroke=\"#000000\" d=\"M85.933,-303.9461C89.1545,-293.3443 92.9097,-280.0607 95.5,-268 100.1633,-246.2868 103.7369,-221.4732 106.1062,-202.5133\"/>\n",
       "<polygon fill=\"#000000\" stroke=\"#000000\" points=\"109.6072,-202.7142 107.3294,-192.3671 102.6575,-201.8763 109.6072,-202.7142\"/>\n",
       "</g>\n",
       "</g>\n",
       "</svg>\n"
      ],
      "text/plain": [
       "<graphviz.dot.Digraph at 0x7f83c3f02b70>"
      ]
     },
     "execution_count": 194,
     "metadata": {},
     "output_type": "execute_result"
    }
   ],
   "source": [
    "slicing_criterion = ('tag', ('remove_html_markup', \n",
    "                             start_remove_html_markup + 9))\n",
    "tag_deps = rhm_slicer.dependencies().backward_slice(slicing_criterion)\n",
    "tag_deps.graph()"
   ]
  },
  {
   "cell_type": "code",
   "execution_count": 195,
   "metadata": {
    "slideshow": {
     "slide_type": "fragment"
    }
   },
   "outputs": [],
   "source": [
    "# tag_deps"
   ]
  },
  {
   "cell_type": "markdown",
   "metadata": {
    "slideshow": {
     "slide_type": "subslide"
    }
   },
   "source": [
    "### Calls and Augmented Assign"
   ]
  },
  {
   "cell_type": "markdown",
   "metadata": {
    "slideshow": {
     "slide_type": "fragment"
    }
   },
   "source": [
    "Our last example covers augmented assigns and data flow across function calls. We introduce two simple functions `add_to()` and `mul_with()`:"
   ]
  },
  {
   "cell_type": "code",
   "execution_count": 196,
   "metadata": {
    "slideshow": {
     "slide_type": "fragment"
    }
   },
   "outputs": [],
   "source": [
    "def add_to(n, m):\n",
    "    n += m\n",
    "    return n"
   ]
  },
  {
   "cell_type": "code",
   "execution_count": 197,
   "metadata": {
    "slideshow": {
     "slide_type": "fragment"
    }
   },
   "outputs": [],
   "source": [
    "def mul_with(x, y):\n",
    "    x *= y\n",
    "    return x"
   ]
  },
  {
   "cell_type": "markdown",
   "metadata": {
    "slideshow": {
     "slide_type": "fragment"
    }
   },
   "source": [
    "And we put these two together in a single call:"
   ]
  },
  {
   "cell_type": "code",
   "execution_count": 198,
   "metadata": {
    "slideshow": {
     "slide_type": "fragment"
    }
   },
   "outputs": [],
   "source": [
    "def test_math():\n",
    "    return mul_with(1, add_to(2, 3))"
   ]
  },
  {
   "cell_type": "code",
   "execution_count": 199,
   "metadata": {
    "slideshow": {
     "slide_type": "fragment"
    }
   },
   "outputs": [],
   "source": [
    "with Slicer(add_to, mul_with, test_math) as math_slicer:\n",
    "    test_math()"
   ]
  },
  {
   "cell_type": "markdown",
   "metadata": {
    "slideshow": {
     "slide_type": "subslide"
    }
   },
   "source": [
    "The resulting dependence graph nicely captures the data flow between these calls, notably arguments and parameters:"
   ]
  },
  {
   "cell_type": "code",
   "execution_count": 200,
   "metadata": {
    "slideshow": {
     "slide_type": "fragment"
    }
   },
   "outputs": [
    {
     "data": {
      "image/svg+xml": [
       "<?xml version=\"1.0\" encoding=\"UTF-8\" standalone=\"no\"?>\n",
       "<!DOCTYPE svg PUBLIC \"-//W3C//DTD SVG 1.1//EN\"\n",
       " \"http://www.w3.org/Graphics/SVG/1.1/DTD/svg11.dtd\">\n",
       "<!-- Generated by graphviz version 2.40.1 (20161225.0304)\n",
       " -->\n",
       "<!-- Title: dependencies Pages: 1 -->\n",
       "<svg width=\"322pt\" height=\"504pt\"\n",
       " viewBox=\"0.00 0.00 322.00 504.00\" xmlns=\"http://www.w3.org/2000/svg\" xmlns:xlink=\"http://www.w3.org/1999/xlink\">\n",
       "<g id=\"graph0\" class=\"graph\" transform=\"scale(1 1) rotate(0) translate(4 500)\">\n",
       "<title>dependencies</title>\n",
       "<polygon fill=\"#ffffff\" stroke=\"transparent\" points=\"-4,4 -4,-500 318,-500 318,4 -4,4\"/>\n",
       "<!-- n_add_to_1 -->\n",
       "<g id=\"node1\" class=\"node\">\n",
       "<title>n_add_to_1</title>\n",
       "<g id=\"a_node1\"><a xlink:title=\"add_to:1\">\n",
       "<polygon fill=\"#ffdab9\" stroke=\"#000000\" points=\"171.5,-496 63.5,-496 63.5,-456 171.5,-456 171.5,-496\"/>\n",
       "<text text-anchor=\"start\" x=\"113\" y=\"-481.8\" font-family=\"Fira Mono, Courier, monospace\" font-weight=\"bold\" font-size=\"14.00\" fill=\"#000000\">n</text>\n",
       "<text text-anchor=\"start\" x=\"71.5\" y=\"-462.8\" font-family=\"Fira Mono, Courier, monospace\" font-size=\"9.00\" fill=\"#000000\">def add_to(n, m):</text>\n",
       "</a>\n",
       "</g>\n",
       "</g>\n",
       "<!-- n_add_to_2 -->\n",
       "<g id=\"node8\" class=\"node\">\n",
       "<title>n_add_to_2</title>\n",
       "<g id=\"a_node8\"><a xlink:title=\"add_to:2\">\n",
       "<polygon fill=\"#ffdab9\" stroke=\"#000000\" points=\"144.5,-420 90.5,-420 90.5,-380 144.5,-380 144.5,-420\"/>\n",
       "<text text-anchor=\"start\" x=\"113\" y=\"-405.8\" font-family=\"Fira Mono, Courier, monospace\" font-weight=\"bold\" font-size=\"14.00\" fill=\"#000000\">n</text>\n",
       "<text text-anchor=\"start\" x=\"101\" y=\"-386.8\" font-family=\"Fira Mono, Courier, monospace\" font-size=\"9.00\" fill=\"#000000\">n += m</text>\n",
       "</a>\n",
       "</g>\n",
       "</g>\n",
       "<!-- n_add_to_1&#45;&gt;n_add_to_2 -->\n",
       "<g id=\"edge7\" class=\"edge\">\n",
       "<title>n_add_to_1&#45;&gt;n_add_to_2</title>\n",
       "<path fill=\"none\" stroke=\"#000000\" d=\"M111.4426,-455.6334C110.7819,-447.8186 110.5939,-438.7253 110.8786,-430.183\"/>\n",
       "<polygon fill=\"#000000\" stroke=\"#000000\" points=\"114.375,-430.3453 111.4602,-420.1593 107.3867,-429.9397 114.375,-430.3453\"/>\n",
       "</g>\n",
       "<!-- n_add_to_1&#45;&gt;n_add_to_2 -->\n",
       "<!-- x_mul_with_1 -->\n",
       "<g id=\"node2\" class=\"node\">\n",
       "<title>x_mul_with_1</title>\n",
       "<g id=\"a_node2\"><a xlink:title=\"mul_with:1\">\n",
       "<polygon fill=\"#ffdab9\" stroke=\"#000000\" points=\"314,-268 195,-268 195,-228 314,-228 314,-268\"/>\n",
       "<text text-anchor=\"start\" x=\"250\" y=\"-253.8\" font-family=\"Fira Mono, Courier, monospace\" font-weight=\"bold\" font-size=\"14.00\" fill=\"#000000\">x</text>\n",
       "<text text-anchor=\"start\" x=\"203\" y=\"-234.8\" font-family=\"Fira Mono, Courier, monospace\" font-size=\"9.00\" fill=\"#000000\">def mul_with(x, y):</text>\n",
       "</a>\n",
       "</g>\n",
       "</g>\n",
       "<!-- x_mul_with_2 -->\n",
       "<g id=\"node7\" class=\"node\">\n",
       "<title>x_mul_with_2</title>\n",
       "<g id=\"a_node7\"><a xlink:title=\"mul_with:2\">\n",
       "<polygon fill=\"#ffdab9\" stroke=\"#000000\" points=\"144.5,-192 90.5,-192 90.5,-152 144.5,-152 144.5,-192\"/>\n",
       "<text text-anchor=\"start\" x=\"113\" y=\"-177.8\" font-family=\"Fira Mono, Courier, monospace\" font-weight=\"bold\" font-size=\"14.00\" fill=\"#000000\">x</text>\n",
       "<text text-anchor=\"start\" x=\"101\" y=\"-158.8\" font-family=\"Fira Mono, Courier, monospace\" font-size=\"9.00\" fill=\"#000000\">x *= y</text>\n",
       "</a>\n",
       "</g>\n",
       "</g>\n",
       "<!-- x_mul_with_1&#45;&gt;x_mul_with_2 -->\n",
       "<g id=\"edge3\" class=\"edge\">\n",
       "<title>x_mul_with_1&#45;&gt;x_mul_with_2</title>\n",
       "<path fill=\"none\" stroke=\"#000000\" d=\"M218.1462,-227.8329C198.2107,-216.7738 173.5773,-203.1086 153.6707,-192.0655\"/>\n",
       "<polygon fill=\"#000000\" stroke=\"#000000\" points=\"155.3333,-188.9854 144.8909,-187.1949 151.9376,-195.1066 155.3333,-188.9854\"/>\n",
       "</g>\n",
       "<!-- y_mul_with_1 -->\n",
       "<g id=\"node3\" class=\"node\">\n",
       "<title>y_mul_with_1</title>\n",
       "<g id=\"a_node3\"><a xlink:title=\"mul_with:1\">\n",
       "<polygon fill=\"#ffdab9\" stroke=\"#000000\" points=\"177,-268 58,-268 58,-228 177,-228 177,-268\"/>\n",
       "<text text-anchor=\"start\" x=\"113\" y=\"-253.8\" font-family=\"Fira Mono, Courier, monospace\" font-weight=\"bold\" font-size=\"14.00\" fill=\"#000000\">y</text>\n",
       "<text text-anchor=\"start\" x=\"66\" y=\"-234.8\" font-family=\"Fira Mono, Courier, monospace\" font-size=\"9.00\" fill=\"#000000\">def mul_with(x, y):</text>\n",
       "</a>\n",
       "</g>\n",
       "</g>\n",
       "<!-- y_mul_with_1&#45;&gt;x_mul_with_2 -->\n",
       "<g id=\"edge4\" class=\"edge\">\n",
       "<title>y_mul_with_1&#45;&gt;x_mul_with_2</title>\n",
       "<path fill=\"none\" stroke=\"#000000\" d=\"M111.4426,-227.6334C110.7819,-219.8186 110.5939,-210.7253 110.8786,-202.183\"/>\n",
       "<polygon fill=\"#000000\" stroke=\"#000000\" points=\"114.375,-202.3453 111.4602,-192.1593 107.3867,-201.9397 114.375,-202.3453\"/>\n",
       "</g>\n",
       "<!-- y_mul_with_1&#45;&gt;x_mul_with_2 -->\n",
       "<!-- add_toreturnvalue_add_to_3 -->\n",
       "<g id=\"node4\" class=\"node\">\n",
       "<title>add_toreturnvalue_add_to_3</title>\n",
       "<g id=\"a_node4\"><a xlink:title=\"add_to:3\">\n",
       "<polygon fill=\"#ffdab9\" stroke=\"#000000\" points=\"222.5,-344 12.5,-344 12.5,-304 222.5,-304 222.5,-344\"/>\n",
       "<text text-anchor=\"start\" x=\"20.5\" y=\"-329.8\" font-family=\"Fira Mono, Courier, monospace\" font-weight=\"bold\" font-style=\"italic\" font-size=\"14.00\" fill=\"#000000\">&lt;add_to() return value&gt;</text>\n",
       "<text text-anchor=\"start\" x=\"95.5\" y=\"-310.8\" font-family=\"Fira Mono, Courier, monospace\" font-size=\"9.00\" fill=\"#000000\">return n</text>\n",
       "</a>\n",
       "</g>\n",
       "</g>\n",
       "<!-- add_toreturnvalue_add_to_3&#45;&gt;y_mul_with_1 -->\n",
       "<g id=\"edge1\" class=\"edge\">\n",
       "<title>add_toreturnvalue_add_to_3&#45;&gt;y_mul_with_1</title>\n",
       "<path fill=\"none\" stroke=\"#000000\" d=\"M117.5,-303.6334C117.5,-295.8186 117.5,-286.7253 117.5,-278.183\"/>\n",
       "<polygon fill=\"#000000\" stroke=\"#000000\" points=\"121.0001,-278.1593 117.5,-268.1593 114.0001,-278.1593 121.0001,-278.1593\"/>\n",
       "</g>\n",
       "<!-- test_mathreturnvalue_test_math_2 -->\n",
       "<g id=\"node5\" class=\"node\">\n",
       "<title>test_mathreturnvalue_test_math_2</title>\n",
       "<g id=\"a_node5\"><a xlink:title=\"test_math:2\">\n",
       "<polygon fill=\"#ffdab9\" stroke=\"#000000\" points=\"235,-40 0,-40 0,0 235,0 235,-40\"/>\n",
       "<text text-anchor=\"start\" x=\"8\" y=\"-25.8\" font-family=\"Fira Mono, Courier, monospace\" font-weight=\"bold\" font-style=\"italic\" font-size=\"14.00\" fill=\"#000000\">&lt;test_math() return value&gt;</text>\n",
       "<text text-anchor=\"start\" x=\"31\" y=\"-6.8\" font-family=\"Fira Mono, Courier, monospace\" font-size=\"9.00\" fill=\"#000000\">return mul_with(1, add_to(2, 3))</text>\n",
       "</a>\n",
       "</g>\n",
       "</g>\n",
       "<!-- mul_withreturnvalue_mul_with_3 -->\n",
       "<g id=\"node6\" class=\"node\">\n",
       "<title>mul_withreturnvalue_mul_with_3</title>\n",
       "<g id=\"a_node6\"><a xlink:title=\"mul_with:3\">\n",
       "<polygon fill=\"#ffdab9\" stroke=\"#000000\" points=\"231,-116 4,-116 4,-76 231,-76 231,-116\"/>\n",
       "<text text-anchor=\"start\" x=\"12\" y=\"-101.8\" font-family=\"Fira Mono, Courier, monospace\" font-weight=\"bold\" font-style=\"italic\" font-size=\"14.00\" fill=\"#000000\">&lt;mul_with() return value&gt;</text>\n",
       "<text text-anchor=\"start\" x=\"95.5\" y=\"-82.8\" font-family=\"Fira Mono, Courier, monospace\" font-size=\"9.00\" fill=\"#000000\">return x</text>\n",
       "</a>\n",
       "</g>\n",
       "</g>\n",
       "<!-- mul_withreturnvalue_mul_with_3&#45;&gt;test_mathreturnvalue_test_math_2 -->\n",
       "<g id=\"edge2\" class=\"edge\">\n",
       "<title>mul_withreturnvalue_mul_with_3&#45;&gt;test_mathreturnvalue_test_math_2</title>\n",
       "<path fill=\"none\" stroke=\"#000000\" d=\"M117.5,-75.6334C117.5,-67.8186 117.5,-58.7253 117.5,-50.183\"/>\n",
       "<polygon fill=\"#000000\" stroke=\"#000000\" points=\"121.0001,-50.1593 117.5,-40.1593 114.0001,-50.1593 121.0001,-50.1593\"/>\n",
       "</g>\n",
       "<!-- x_mul_with_2&#45;&gt;mul_withreturnvalue_mul_with_3 -->\n",
       "<g id=\"edge6\" class=\"edge\">\n",
       "<title>x_mul_with_2&#45;&gt;mul_withreturnvalue_mul_with_3</title>\n",
       "<path fill=\"none\" stroke=\"#000000\" d=\"M111.4426,-151.6334C110.7819,-143.8186 110.5939,-134.7253 110.8786,-126.183\"/>\n",
       "<polygon fill=\"#000000\" stroke=\"#000000\" points=\"114.375,-126.3453 111.4602,-116.1593 107.3867,-125.9397 114.375,-126.3453\"/>\n",
       "</g>\n",
       "<!-- x_mul_with_2&#45;&gt;mul_withreturnvalue_mul_with_3 -->\n",
       "<!-- n_add_to_2&#45;&gt;add_toreturnvalue_add_to_3 -->\n",
       "<g id=\"edge5\" class=\"edge\">\n",
       "<title>n_add_to_2&#45;&gt;add_toreturnvalue_add_to_3</title>\n",
       "<path fill=\"none\" stroke=\"#000000\" d=\"M111.4426,-379.6334C110.7819,-371.8186 110.5939,-362.7253 110.8786,-354.183\"/>\n",
       "<polygon fill=\"#000000\" stroke=\"#000000\" points=\"114.375,-354.3453 111.4602,-344.1593 107.3867,-353.9397 114.375,-354.3453\"/>\n",
       "</g>\n",
       "<!-- n_add_to_2&#45;&gt;add_toreturnvalue_add_to_3 -->\n",
       "<!-- m_add_to_1 -->\n",
       "<g id=\"node9\" class=\"node\">\n",
       "<title>m_add_to_1</title>\n",
       "<g id=\"a_node9\"><a xlink:title=\"add_to:1\">\n",
       "<polygon fill=\"#ffdab9\" stroke=\"#000000\" points=\"297.5,-496 189.5,-496 189.5,-456 297.5,-456 297.5,-496\"/>\n",
       "<text text-anchor=\"start\" x=\"239\" y=\"-481.8\" font-family=\"Fira Mono, Courier, monospace\" font-weight=\"bold\" font-size=\"14.00\" fill=\"#000000\">m</text>\n",
       "<text text-anchor=\"start\" x=\"197.5\" y=\"-462.8\" font-family=\"Fira Mono, Courier, monospace\" font-size=\"9.00\" fill=\"#000000\">def add_to(n, m):</text>\n",
       "</a>\n",
       "</g>\n",
       "</g>\n",
       "<!-- m_add_to_1&#45;&gt;n_add_to_2 -->\n",
       "<g id=\"edge8\" class=\"edge\">\n",
       "<title>m_add_to_1&#45;&gt;n_add_to_2</title>\n",
       "<path fill=\"none\" stroke=\"#000000\" d=\"M210.0651,-455.8329C192.6815,-445.3476 171.4138,-432.5195 153.6498,-421.8047\"/>\n",
       "<polygon fill=\"#000000\" stroke=\"#000000\" points=\"155.0896,-418.5857 144.7189,-416.4178 151.4741,-424.5798 155.0896,-418.5857\"/>\n",
       "</g>\n",
       "</g>\n",
       "</svg>\n"
      ],
      "text/plain": [
       "<graphviz.dot.Digraph at 0x7f83c521eba8>"
      ]
     },
     "execution_count": 200,
     "metadata": {},
     "output_type": "execute_result"
    }
   ],
   "source": [
    "math_slicer.graph()"
   ]
  },
  {
   "cell_type": "markdown",
   "metadata": {
    "slideshow": {
     "slide_type": "fragment"
    }
   },
   "source": [
    "These are also reflected in the code view:"
   ]
  },
  {
   "cell_type": "code",
   "execution_count": 201,
   "metadata": {
    "slideshow": {
     "slide_type": "subslide"
    }
   },
   "outputs": [
    {
     "name": "stdout",
     "output_type": "stream",
     "text": [
      "*    1 \u001b[34mdef\u001b[39;49;00m \u001b[32madd_to\u001b[39;49;00m(n, m):\n",
      "*    2     n += m  \u001b[37m# <= n (1), m (1)\u001b[39;49;00m\n",
      "*    3     \u001b[34mreturn\u001b[39;49;00m n  \u001b[37m# <= n (2)\u001b[39;49;00m\n",
      "\n",
      "*    1 \u001b[34mdef\u001b[39;49;00m \u001b[32mmul_with\u001b[39;49;00m(x, y):  \u001b[37m# <= <add_to() return value> (add_to:3)\u001b[39;49;00m\n",
      "*    2     x *= y  \u001b[37m# <= x (1), y (1)\u001b[39;49;00m\n",
      "*    3     \u001b[34mreturn\u001b[39;49;00m x  \u001b[37m# <= x (2)\u001b[39;49;00m\n",
      "\n",
      "     1 \u001b[34mdef\u001b[39;49;00m \u001b[32mtest_math\u001b[39;49;00m():\n",
      "*    2     \u001b[34mreturn\u001b[39;49;00m mul_with(\u001b[34m1\u001b[39;49;00m, add_to(\u001b[34m2\u001b[39;49;00m, \u001b[34m3\u001b[39;49;00m))  \u001b[37m# <= <mul_with() return value> (mul_with:3)\u001b[39;49;00m\n"
     ]
    }
   ],
   "source": [
    "math_slicer.code()"
   ]
  },
  {
   "cell_type": "markdown",
   "metadata": {
    "slideshow": {
     "slide_type": "slide"
    }
   },
   "source": [
    "## Things that do not Work"
   ]
  },
  {
   "cell_type": "markdown",
   "metadata": {
    "slideshow": {
     "slide_type": "fragment"
    }
   },
   "source": [
    "Our slicer (and especially the underlying dependency tracker) is still a proof of concept. A number of Python features are not or only partially supported:\n",
    "\n",
    "* __Nested functions__ are only partially handled. Notably, the source lookup does not work; this is a limitation of the Python `inspect` module.\n",
    "* __Asynchronous functions__ (`async`) are not tested.\n",
    "\n",
    "In these cases, the instrumentation and the underlying dependency tracker may fail to identify control and/or data flows. The semantics of the code, however, should always stay unchanged."
   ]
  },
  {
   "cell_type": "markdown",
   "metadata": {
    "slideshow": {
     "slide_type": "slide"
    }
   },
   "source": [
    "## Synopsis"
   ]
  },
  {
   "cell_type": "markdown",
   "metadata": {
    "slideshow": {
     "slide_type": "fragment"
    }
   },
   "source": [
    "This chapter provides a `Slicer` class to automatically determine and visualize dynamic dependencies. When we say that a variable $x$ depends on a variable $y$ (written $x \\leftarrow y$), we distinguish two kinds of dependencies:\n",
    "\n",
    "* **data dependencies**: $x$ obtains its value from a computation involving the value of $y$.\n",
    "* **control dependencies**: $x$ obtains its value because of a computation involving the value of $y$.\n",
    "\n",
    "Such dependencies are crucial for debugging, as they allow to determine the origins of individual values (and notably incorrect values)."
   ]
  },
  {
   "cell_type": "markdown",
   "metadata": {
    "slideshow": {
     "slide_type": "subslide"
    }
   },
   "source": [
    "To determine dynamic dependencies in a function `func` and its callees `func1`, `func2`, etc., use\n",
    "\n",
    "```python\n",
    "with Slicer(func, func1, func2) as slicer:\n",
    "    <Some code involving func()>\n",
    "```\n",
    "\n",
    "and then `slicer.graph()` or `slicer.code()` to examine dependencies."
   ]
  },
  {
   "cell_type": "markdown",
   "metadata": {
    "slideshow": {
     "slide_type": "fragment"
    }
   },
   "source": [
    "Here is an example:"
   ]
  },
  {
   "cell_type": "code",
   "execution_count": 202,
   "metadata": {
    "slideshow": {
     "slide_type": "subslide"
    }
   },
   "outputs": [],
   "source": [
    "def demo(x):\n",
    "    z = x\n",
    "    while x <= z <= 64:\n",
    "        z *= 2\n",
    "    return z"
   ]
  },
  {
   "cell_type": "code",
   "execution_count": 203,
   "metadata": {
    "slideshow": {
     "slide_type": "fragment"
    }
   },
   "outputs": [],
   "source": [
    "with Slicer(demo) as slicer:\n",
    "    demo(10)"
   ]
  },
  {
   "cell_type": "markdown",
   "metadata": {
    "slideshow": {
     "slide_type": "fragment"
    }
   },
   "source": [
    "You can then use `slider.graph()` to visualize the dependencies as graph. Data dependencies are shown as black solid edges; control dependencies are shown as grey dashed edges. We see how the parameter `x` flows into `z`, which is returned after some computation that is control dependent on a `<test>` involving `z`."
   ]
  },
  {
   "cell_type": "code",
   "execution_count": 204,
   "metadata": {
    "slideshow": {
     "slide_type": "fragment"
    }
   },
   "outputs": [
    {
     "data": {
      "image/svg+xml": [
       "<?xml version=\"1.0\" encoding=\"UTF-8\" standalone=\"no\"?>\n",
       "<!DOCTYPE svg PUBLIC \"-//W3C//DTD SVG 1.1//EN\"\n",
       " \"http://www.w3.org/Graphics/SVG/1.1/DTD/svg11.dtd\">\n",
       "<!-- Generated by graphviz version 2.40.1 (20161225.0304)\n",
       " -->\n",
       "<!-- Title: dependencies Pages: 1 -->\n",
       "<svg width=\"356pt\" height=\"276pt\"\n",
       " viewBox=\"0.00 0.00 356.00 276.00\" xmlns=\"http://www.w3.org/2000/svg\" xmlns:xlink=\"http://www.w3.org/1999/xlink\">\n",
       "<g id=\"graph0\" class=\"graph\" transform=\"scale(1 1) rotate(0) translate(4 272)\">\n",
       "<title>dependencies</title>\n",
       "<polygon fill=\"#ffffff\" stroke=\"transparent\" points=\"-4,4 -4,-272 352,-272 352,4 -4,4\"/>\n",
       "<!-- demoreturnvalue_demo_5 -->\n",
       "<g id=\"node1\" class=\"node\">\n",
       "<title>demoreturnvalue_demo_5</title>\n",
       "<g id=\"a_node1\"><a xlink:title=\"demo:5\">\n",
       "<polygon fill=\"#ffdab9\" stroke=\"#000000\" points=\"348,-40 155,-40 155,0 348,0 348,-40\"/>\n",
       "<text text-anchor=\"start\" x=\"163\" y=\"-25.8\" font-family=\"Fira Mono, Courier, monospace\" font-weight=\"bold\" font-style=\"italic\" font-size=\"14.00\" fill=\"#000000\">&lt;demo() return value&gt;</text>\n",
       "<text text-anchor=\"start\" x=\"229.5\" y=\"-6.8\" font-family=\"Fira Mono, Courier, monospace\" font-size=\"9.00\" fill=\"#000000\">return z</text>\n",
       "</a>\n",
       "</g>\n",
       "</g>\n",
       "<!-- z_demo_4 -->\n",
       "<g id=\"node2\" class=\"node\">\n",
       "<title>z_demo_4</title>\n",
       "<g id=\"a_node2\"><a xlink:title=\"demo:4\">\n",
       "<polygon fill=\"#ffdab9\" stroke=\"#000000\" points=\"150.5,-116 96.5,-116 96.5,-76 150.5,-76 150.5,-116\"/>\n",
       "<text text-anchor=\"start\" x=\"119\" y=\"-101.8\" font-family=\"Fira Mono, Courier, monospace\" font-weight=\"bold\" font-size=\"14.00\" fill=\"#000000\">z</text>\n",
       "<text text-anchor=\"start\" x=\"107\" y=\"-82.8\" font-family=\"Fira Mono, Courier, monospace\" font-size=\"9.00\" fill=\"#000000\">z *= 2</text>\n",
       "</a>\n",
       "</g>\n",
       "</g>\n",
       "<!-- z_demo_4&#45;&gt;demoreturnvalue_demo_5 -->\n",
       "<g id=\"edge1\" class=\"edge\">\n",
       "<title>z_demo_4&#45;&gt;demoreturnvalue_demo_5</title>\n",
       "<path fill=\"none\" stroke=\"#000000\" d=\"M150.7905,-76.2303C165.8521,-66.7922 184.9268,-55.3877 202.4459,-45.3232\"/>\n",
       "<polygon fill=\"#000000\" stroke=\"#000000\" points=\"204.4809,-48.192 211.4361,-40.1998 201.0149,-42.1103 204.4809,-48.192\"/>\n",
       "</g>\n",
       "<!-- z_demo_4&#45;&gt;demoreturnvalue_demo_5 -->\n",
       "<!-- z_demo_4&#45;&gt;z_demo_4 -->\n",
       "<g id=\"edge6\" class=\"edge\">\n",
       "<title>z_demo_4&#45;&gt;z_demo_4</title>\n",
       "<path fill=\"none\" stroke=\"#000000\" d=\"M150.7408,-110.2361C160.5239,-110.5422 168.5,-105.7969 168.5,-96 168.5,-89.877 165.3843,-85.7272 160.6591,-83.5506\"/>\n",
       "<polygon fill=\"#000000\" stroke=\"#000000\" points=\"161.2029,-80.0923 150.7408,-81.7639 159.9618,-86.9814 161.2029,-80.0923\"/>\n",
       "</g>\n",
       "<!-- test_demo_3 -->\n",
       "<g id=\"node3\" class=\"node\">\n",
       "<title>test_demo_3</title>\n",
       "<g id=\"a_node3\"><a xlink:title=\"demo:3\">\n",
       "<polygon fill=\"#ffdab9\" stroke=\"#000000\" points=\"119,-40 0,-40 0,0 119,0 119,-40\"/>\n",
       "<text text-anchor=\"start\" x=\"34\" y=\"-25.8\" font-family=\"Fira Mono, Courier, monospace\" font-weight=\"bold\" font-style=\"italic\" font-size=\"14.00\" fill=\"#000000\">&lt;test&gt;</text>\n",
       "<text text-anchor=\"start\" x=\"8\" y=\"-6.8\" font-family=\"Fira Mono, Courier, monospace\" font-size=\"9.00\" fill=\"#000000\">while x &lt;= z &lt;= 64:</text>\n",
       "</a>\n",
       "</g>\n",
       "</g>\n",
       "<!-- z_demo_4&#45;&gt;test_demo_3 -->\n",
       "<g id=\"edge3\" class=\"edge\">\n",
       "<title>z_demo_4&#45;&gt;test_demo_3</title>\n",
       "<path fill=\"none\" stroke=\"#000000\" d=\"M96.2509,-77.6025C87.1553,-68.8363 77.7088,-58.1535 70.2908,-48.3797\"/>\n",
       "<polygon fill=\"#000000\" stroke=\"#000000\" points=\"73.024,-46.185 64.3539,-40.0955 67.3342,-50.2626 73.024,-46.185\"/>\n",
       "</g>\n",
       "<!-- test_demo_3&#45;&gt;z_demo_4 -->\n",
       "<g id=\"edge8\" class=\"edge\">\n",
       "<title>test_demo_3&#45;&gt;z_demo_4</title>\n",
       "<path fill=\"none\" stroke=\"#c0c0c0\" stroke-dasharray=\"5,2\" d=\"M76.4762,-40.1593C83.6148,-48.6363 92.0437,-58.6456 99.7794,-67.8318\"/>\n",
       "<polygon fill=\"#c0c0c0\" stroke=\"#c0c0c0\" points=\"97.2306,-70.2387 106.3492,-75.6334 102.585,-65.7298 97.2306,-70.2387\"/>\n",
       "</g>\n",
       "<!-- test_demo_3&#45;&gt;z_demo_4 -->\n",
       "<!-- test_demo_3&#45;&gt;test_demo_3 -->\n",
       "<g id=\"edge2\" class=\"edge\">\n",
       "<title>test_demo_3&#45;&gt;test_demo_3</title>\n",
       "<path fill=\"none\" stroke=\"#000000\" d=\"M119.29,-33.3594C129.7344,-31.5781 137,-27.125 137,-20 137,-15.4355 134.0182,-11.9676 129.1291,-9.5963\"/>\n",
       "<polygon fill=\"#000000\" stroke=\"#000000\" points=\"129.8742,-6.1657 119.29,-6.6406 127.8603,-12.8697 129.8742,-6.1657\"/>\n",
       "</g>\n",
       "<!-- x_demo_1 -->\n",
       "<g id=\"node4\" class=\"node\">\n",
       "<title>x_demo_1</title>\n",
       "<g id=\"a_node4\"><a xlink:title=\"demo:1\">\n",
       "<polygon fill=\"#ffdab9\" stroke=\"#000000\" points=\"104,-268 23,-268 23,-228 104,-228 104,-268\"/>\n",
       "<text text-anchor=\"start\" x=\"59\" y=\"-253.8\" font-family=\"Fira Mono, Courier, monospace\" font-weight=\"bold\" font-size=\"14.00\" fill=\"#000000\">x</text>\n",
       "<text text-anchor=\"start\" x=\"31\" y=\"-234.8\" font-family=\"Fira Mono, Courier, monospace\" font-size=\"9.00\" fill=\"#000000\">def demo(x):</text>\n",
       "</a>\n",
       "</g>\n",
       "</g>\n",
       "<!-- x_demo_1&#45;&gt;test_demo_3 -->\n",
       "<g id=\"edge4\" class=\"edge\">\n",
       "<title>x_demo_1&#45;&gt;test_demo_3</title>\n",
       "<path fill=\"none\" stroke=\"#000000\" d=\"M46.5557,-227.8749C39.1578,-217.7868 31.3107,-204.9747 27.5,-192 13.127,-143.0627 31.3788,-84.3194 45.639,-49.6911\"/>\n",
       "<polygon fill=\"#000000\" stroke=\"#000000\" points=\"48.9951,-50.7446 49.7101,-40.1739 42.5592,-47.9915 48.9951,-50.7446\"/>\n",
       "</g>\n",
       "<!-- z_demo_2 -->\n",
       "<g id=\"node5\" class=\"node\">\n",
       "<title>z_demo_2</title>\n",
       "<g id=\"a_node5\"><a xlink:title=\"demo:2\">\n",
       "<polygon fill=\"#ffdab9\" stroke=\"#000000\" points=\"90.5,-192 36.5,-192 36.5,-152 90.5,-152 90.5,-192\"/>\n",
       "<text text-anchor=\"start\" x=\"59\" y=\"-177.8\" font-family=\"Fira Mono, Courier, monospace\" font-weight=\"bold\" font-size=\"14.00\" fill=\"#000000\">z</text>\n",
       "<text text-anchor=\"start\" x=\"49.5\" y=\"-158.8\" font-family=\"Fira Mono, Courier, monospace\" font-size=\"9.00\" fill=\"#000000\">z = x</text>\n",
       "</a>\n",
       "</g>\n",
       "</g>\n",
       "<!-- x_demo_1&#45;&gt;z_demo_2 -->\n",
       "<g id=\"edge9\" class=\"edge\">\n",
       "<title>x_demo_1&#45;&gt;z_demo_2</title>\n",
       "<path fill=\"none\" stroke=\"#000000\" d=\"M57.4426,-227.6334C56.7819,-219.8186 56.5939,-210.7253 56.8786,-202.183\"/>\n",
       "<polygon fill=\"#000000\" stroke=\"#000000\" points=\"60.375,-202.3453 57.4602,-192.1593 53.3867,-201.9397 60.375,-202.3453\"/>\n",
       "</g>\n",
       "<!-- x_demo_1&#45;&gt;z_demo_2 -->\n",
       "<!-- z_demo_2&#45;&gt;z_demo_4 -->\n",
       "<g id=\"edge7\" class=\"edge\">\n",
       "<title>z_demo_2&#45;&gt;z_demo_4</title>\n",
       "<path fill=\"none\" stroke=\"#000000\" d=\"M79.5789,-151.6334C86.2231,-143.2175 94.0378,-133.3188 101.2193,-124.2223\"/>\n",
       "<polygon fill=\"#000000\" stroke=\"#000000\" points=\"104.1354,-126.1769 107.5848,-116.1593 98.6412,-121.8394 104.1354,-126.1769\"/>\n",
       "</g>\n",
       "<!-- z_demo_2&#45;&gt;test_demo_3 -->\n",
       "<g id=\"edge5\" class=\"edge\">\n",
       "<title>z_demo_2&#45;&gt;test_demo_3</title>\n",
       "<path fill=\"none\" stroke=\"#000000\" d=\"M58.2088,-151.8156C55.1666,-125.9232 53.7181,-80.7677 54.7653,-50.6288\"/>\n",
       "<polygon fill=\"#000000\" stroke=\"#000000\" points=\"58.2792,-50.4251 55.2658,-40.2679 51.2873,-50.0874 58.2792,-50.4251\"/>\n",
       "</g>\n",
       "<!-- z_demo_2&#45;&gt;test_demo_3 -->\n",
       "</g>\n",
       "</svg>\n"
      ],
      "text/plain": [
       "<graphviz.dot.Digraph at 0x7f83c447e4e0>"
      ]
     },
     "execution_count": 204,
     "metadata": {},
     "output_type": "execute_result"
    }
   ],
   "source": [
    "slicer.graph()"
   ]
  },
  {
   "cell_type": "markdown",
   "metadata": {
    "slideshow": {
     "slide_type": "subslide"
    }
   },
   "source": [
    "An alternate representation is `slicer.code()`, annotating the instrumented source code with (backward) dependencies. Data dependencies are shown with `<=`, control dependencies with `<-`; locations (lines) are shown in parentheses."
   ]
  },
  {
   "cell_type": "code",
   "execution_count": 205,
   "metadata": {
    "slideshow": {
     "slide_type": "fragment"
    }
   },
   "outputs": [
    {
     "name": "stdout",
     "output_type": "stream",
     "text": [
      "*    1 \u001b[34mdef\u001b[39;49;00m \u001b[32mdemo\u001b[39;49;00m(x):\n",
      "*    2     z = x  \u001b[37m# <= x (1)\u001b[39;49;00m\n",
      "*    3     \u001b[34mwhile\u001b[39;49;00m x <= z <= \u001b[34m64\u001b[39;49;00m:  \u001b[37m# <= <test> (3), z (4), x (1), z (2)\u001b[39;49;00m\n",
      "*    4         z *= \u001b[34m2\u001b[39;49;00m  \u001b[37m# <= z (4), z (2); <- <test> (3)\u001b[39;49;00m\n",
      "*    5     \u001b[34mreturn\u001b[39;49;00m z  \u001b[37m# <= z (4)\u001b[39;49;00m\n"
     ]
    }
   ],
   "source": [
    "slicer.code()"
   ]
  },
  {
   "cell_type": "markdown",
   "metadata": {
    "slideshow": {
     "slide_type": "fragment"
    }
   },
   "source": [
    "Dependencies can also be retrieved programmatically. The `dependencies()` method returns a `Dependencies` object encapsulating the dependency graph."
   ]
  },
  {
   "cell_type": "code",
   "execution_count": 206,
   "metadata": {
    "slideshow": {
     "slide_type": "subslide"
    }
   },
   "outputs": [
    {
     "data": {
      "text/plain": [
       "Dependencies({('x', ('demo', 1)): set(), ('z', ('demo', 2)): {('x', ('demo', 1))}, ('<test>', ('demo', 3)): {('<test>', ('demo', 3)), ('z', ('demo', 4)), ('x', ('demo', 1)), ('z', ('demo', 2))}, ('z', ('demo', 4)): {('z', ('demo', 4)), ('z', ('demo', 2))}, ('<demo() return value>', ('demo', 5)): {('z', ('demo', 4))}}, {('x', ('demo', 1)): set(), ('z', ('demo', 2)): set(), ('<test>', ('demo', 3)): set(), ('z', ('demo', 4)): {('<test>', ('demo', 3))}, ('<demo() return value>', ('demo', 5)): set()})"
      ]
     },
     "execution_count": 206,
     "metadata": {},
     "output_type": "execute_result"
    }
   ],
   "source": [
    "slicer.dependencies()"
   ]
  },
  {
   "cell_type": "markdown",
   "metadata": {
    "slideshow": {
     "slide_type": "fragment"
    }
   },
   "source": [
    "The method `all_vars()` returns all variables in the dependency graph. Each variable is encoded as a pair (_name_, _location_) where _location_ is a pair (_code_name_, _lineno_)."
   ]
  },
  {
   "cell_type": "code",
   "execution_count": 207,
   "metadata": {
    "slideshow": {
     "slide_type": "fragment"
    }
   },
   "outputs": [
    {
     "data": {
      "text/plain": [
       "{('<demo() return value>', ('demo', 5)),\n",
       " ('<test>', ('demo', 3)),\n",
       " ('x', ('demo', 1)),\n",
       " ('z', ('demo', 2)),\n",
       " ('z', ('demo', 4))}"
      ]
     },
     "execution_count": 207,
     "metadata": {},
     "output_type": "execute_result"
    }
   ],
   "source": [
    "slicer.dependencies().all_vars()"
   ]
  },
  {
   "cell_type": "markdown",
   "metadata": {
    "slideshow": {
     "slide_type": "fragment"
    }
   },
   "source": [
    "`code()` and `graph()` methods can also be applied on dependencies. The method `backward_slice(var)` returns a backward slice for the given variable. To retrieve where `z` in Line 2 came from, use:"
   ]
  },
  {
   "cell_type": "code",
   "execution_count": 208,
   "metadata": {
    "slideshow": {
     "slide_type": "subslide"
    }
   },
   "outputs": [
    {
     "data": {
      "text/plain": [
       "1"
      ]
     },
     "execution_count": 208,
     "metadata": {},
     "output_type": "execute_result"
    }
   ],
   "source": [
    "_, start_demo = inspect.getsourcelines(demo)\n",
    "start_demo"
   ]
  },
  {
   "cell_type": "code",
   "execution_count": 209,
   "metadata": {
    "slideshow": {
     "slide_type": "fragment"
    }
   },
   "outputs": [
    {
     "data": {
      "image/svg+xml": [
       "<?xml version=\"1.0\" encoding=\"UTF-8\" standalone=\"no\"?>\n",
       "<!DOCTYPE svg PUBLIC \"-//W3C//DTD SVG 1.1//EN\"\n",
       " \"http://www.w3.org/Graphics/SVG/1.1/DTD/svg11.dtd\">\n",
       "<!-- Generated by graphviz version 2.40.1 (20161225.0304)\n",
       " -->\n",
       "<!-- Title: dependencies Pages: 1 -->\n",
       "<svg width=\"89pt\" height=\"124pt\"\n",
       " viewBox=\"0.00 0.00 89.00 124.00\" xmlns=\"http://www.w3.org/2000/svg\" xmlns:xlink=\"http://www.w3.org/1999/xlink\">\n",
       "<g id=\"graph0\" class=\"graph\" transform=\"scale(1 1) rotate(0) translate(4 120)\">\n",
       "<title>dependencies</title>\n",
       "<polygon fill=\"#ffffff\" stroke=\"transparent\" points=\"-4,4 -4,-120 85,-120 85,4 -4,4\"/>\n",
       "<!-- x_demo_1 -->\n",
       "<g id=\"node1\" class=\"node\">\n",
       "<title>x_demo_1</title>\n",
       "<g id=\"a_node1\"><a xlink:title=\"demo:1\">\n",
       "<polygon fill=\"#ffdab9\" stroke=\"#000000\" points=\"81,-116 0,-116 0,-76 81,-76 81,-116\"/>\n",
       "<text text-anchor=\"start\" x=\"36\" y=\"-101.8\" font-family=\"Fira Mono, Courier, monospace\" font-weight=\"bold\" font-size=\"14.00\" fill=\"#000000\">x</text>\n",
       "<text text-anchor=\"start\" x=\"8\" y=\"-82.8\" font-family=\"Fira Mono, Courier, monospace\" font-size=\"9.00\" fill=\"#000000\">def demo(x):</text>\n",
       "</a>\n",
       "</g>\n",
       "</g>\n",
       "<!-- z_demo_2 -->\n",
       "<g id=\"node2\" class=\"node\">\n",
       "<title>z_demo_2</title>\n",
       "<g id=\"a_node2\"><a xlink:title=\"demo:2\">\n",
       "<polygon fill=\"#ffdab9\" stroke=\"#000000\" points=\"67.5,-40 13.5,-40 13.5,0 67.5,0 67.5,-40\"/>\n",
       "<text text-anchor=\"start\" x=\"36\" y=\"-25.8\" font-family=\"Fira Mono, Courier, monospace\" font-weight=\"bold\" font-size=\"14.00\" fill=\"#000000\">z</text>\n",
       "<text text-anchor=\"start\" x=\"26.5\" y=\"-6.8\" font-family=\"Fira Mono, Courier, monospace\" font-size=\"9.00\" fill=\"#000000\">z = x</text>\n",
       "</a>\n",
       "</g>\n",
       "</g>\n",
       "<!-- x_demo_1&#45;&gt;z_demo_2 -->\n",
       "<g id=\"edge1\" class=\"edge\">\n",
       "<title>x_demo_1&#45;&gt;z_demo_2</title>\n",
       "<path fill=\"none\" stroke=\"#000000\" d=\"M34.4426,-75.6334C33.7819,-67.8186 33.5939,-58.7253 33.8786,-50.183\"/>\n",
       "<polygon fill=\"#000000\" stroke=\"#000000\" points=\"37.375,-50.3453 34.4602,-40.1593 30.3867,-49.9397 37.375,-50.3453\"/>\n",
       "</g>\n",
       "<!-- x_demo_1&#45;&gt;z_demo_2 -->\n",
       "</g>\n",
       "</svg>\n"
      ],
      "text/plain": [
       "<graphviz.dot.Digraph at 0x7f83c521cd30>"
      ]
     },
     "execution_count": 209,
     "metadata": {},
     "output_type": "execute_result"
    }
   ],
   "source": [
    "slicer.dependencies().backward_slice(('z', ('demo', start_demo + 1))).graph()"
   ]
  },
  {
   "cell_type": "markdown",
   "metadata": {
    "button": false,
    "new_sheet": true,
    "run_control": {
     "read_only": false
    },
    "slideshow": {
     "slide_type": "slide"
    }
   },
   "source": [
    "## Lessons Learned\n",
    "\n",
    "* To track the origin of some incorrect value, follow back its _dependencies_.\n",
    "* _Data dependencies_ indicate where the value came from; _control dependencies_ show why a statement was executed.\n",
    "* A _slice_ is a subset of the code that could have influenced a specific value. It can be computed by transitively following all dependencies.\n",
    "* _Instrument code_ to automatically determine and visualize dependencies."
   ]
  },
  {
   "cell_type": "markdown",
   "metadata": {
    "button": false,
    "new_sheet": false,
    "run_control": {
     "read_only": false
    },
    "slideshow": {
     "slide_type": "slide"
    }
   },
   "source": [
    "## Next Steps\n",
    "\n",
    "In the [next chapter](StatisticalDebugger.ipynb), we will explore how to make use of _multiple_ passing and failing executions."
   ]
  },
  {
   "cell_type": "markdown",
   "metadata": {
    "slideshow": {
     "slide_type": "slide"
    }
   },
   "source": [
    "## Background\n",
    "\n",
    "Slicing as computing a subset of a program by means of data and control dependencies was invented by Mark Weiser \\cite{Weiser1981}. In his seminal work \"Programmers use Slices when Debugging\", \\cite{Weiser1982}, Weiser demonstrated how such dependencies are crucial for systematic debugging:\n",
    "\n",
    "> When debugging unfamiliar programs programmers use program pieces called _slices_ which are sets of statements related by their flow of data. The statements in a slice are not necessarily textually contiguous, but may be scattered through a program.\n",
    "\n",
    "Weiser's slices (and dependencies) were determined _statically_ from program code. Both Korel and Laski \\cite{Korel1988} as well as Agrawal and Horgan \\cite{Agrawal1990} introduced _dynamic_ program slicing, building on _dynamic_ dependencies, which would be more specific to a given (failing) run. (The `Slicer` we implement in this chapter is a dynamic slicer.) Tip \\cite{tip1995} gives a survey on program slicing techniques. Chen et al. \\cite{Chen2014} describe and evaluate the first dynamic slicer for Python programs (which is independent from our implementation).\n",
    "\n",
    "One examplary application of program slices is [the Whyline](https://github.com/amyjko/whyline) by Ko and Myers \\cite{Ko2004}. The Whyline a debugging interface for asking questions about program behavior. It allows to interactively query where a particular variable came from (a data dependency) and why or why not specific things took place (control dependencies).\n",
    "\n",
    "In \\cite{Soremekun2021}, Soremekun et al. evaluated the performance of slicing as a fault localization mechanism and found that following dependencies was one of the most successful strategies to determine fault locations. Notably, if programmers first examine at most the top five most suspicious locations from [statistical debugging](StatisticalDebugger.ipynb), and then switch to dynamic slices, on average, they will need to examine only 15% (12 lines) of the code. "
   ]
  },
  {
   "cell_type": "markdown",
   "metadata": {
    "button": false,
    "new_sheet": true,
    "run_control": {
     "read_only": false
    },
    "slideshow": {
     "slide_type": "slide"
    }
   },
   "source": [
    "## Exercises\n"
   ]
  },
  {
   "cell_type": "markdown",
   "metadata": {
    "button": false,
    "new_sheet": false,
    "run_control": {
     "read_only": false
    },
    "slideshow": {
     "slide_type": "subslide"
    }
   },
   "source": [
    "### Exercise 1: Forward Slicing\n",
    "\n",
    "Create a variant of `Dependencies.code()` that, for each statement `s`, instead of showing a \"passive\" view (which variables and locations influenced `s`?), shows an \"active\" view (which variables and locations were influenced by `s`?). For `middle()`, for instance, the first line should show which lines are influenced by `x`, `y`, and `z`, respectively. Use `->` for control flows and `=>` for data flows."
   ]
  },
  {
   "cell_type": "markdown",
   "metadata": {
    "button": false,
    "new_sheet": false,
    "run_control": {
     "read_only": false
    },
    "slideshow": {
     "slide_type": "subslide"
    },
    "solution": "hidden",
    "solution2": "hidden",
    "solution2_first": true,
    "solution_first": true
   },
   "source": [
    "### Exercise 2: Determine Instrumented Functions Dynamically\n",
    "\n",
    "When initializing `Slicer()`, one has to provide the set of functions to be instrumented. This is because the instrumentation has to take place _before_ the code in the `with` block is executed.\n",
    "\n",
    "Create a subclass of `Slicer`, called `AutoSlicer` that determines these functions automatically. It would be used as\n",
    "\n",
    "```python\n",
    "with AutoSlicer() as slicer:\n",
    "    func(...)\n",
    "```\n",
    "\n",
    "and proceeds in two steps:\n",
    "\n",
    "1. Run the code in the `with` block, using the `Tracer` class from [the chapter on tracing](Tracer.ipynb). Collect the first call to `func()` and its arguments, as well as the names of all subsequent called functions.\n",
    "2. Repeat the first call to `func()`, now with all called functions being instrumented as in `Slicer`."
   ]
  }
 ],
 "metadata": {
  "ipub": {
   "bibliography": "fuzzingbook.bib",
   "toc": true
  },
  "kernelspec": {
   "display_name": "Python 3",
   "language": "python",
   "name": "python3"
  },
  "language_info": {
   "codemirror_mode": {
    "name": "ipython",
    "version": 3
   },
   "file_extension": ".py",
   "mimetype": "text/x-python",
   "name": "python",
   "nbconvert_exporter": "python",
   "pygments_lexer": "ipython3",
   "version": "3.6.10"
  },
  "toc": {
   "base_numbering": 1,
   "nav_menu": {},
   "number_sections": true,
   "sideBar": true,
   "skip_h1_title": true,
   "title_cell": "",
   "title_sidebar": "Contents",
   "toc_cell": false,
   "toc_position": {},
   "toc_section_display": true,
   "toc_window_display": true
  },
  "toc-autonumbering": false
 },
 "nbformat": 4,
 "nbformat_minor": 4
}